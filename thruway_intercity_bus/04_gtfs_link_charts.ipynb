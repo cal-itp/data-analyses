{
 "cells": [
  {
   "cell_type": "code",
   "execution_count": null,
   "id": "f9427f93-85df-475b-b5b2-e7040249c7a4",
   "metadata": {
    "tags": []
   },
   "outputs": [],
   "source": [
    "%%capture\n",
    "\n",
    "import pandas as pd\n",
    "import geopandas as gpd\n",
    "from calitp_data_analysis.sql import query_sql\n",
    "from calitp_data_analysis.gcs_geopandas import GCSGeoPandas\n",
    "from calitp_data_analysis.geography_utils import CA_NAD83Albers_m, WGS84\n",
    "import calitp_data_analysis.magics\n",
    "gcsgp = GCSGeoPandas()\n",
    "from shared_utils import gtfs_utils_v2, rt_utils\n",
    "\n",
    "import utils\n",
    "import update_vars\n",
    "import altair as alt\n",
    "import numpy as np\n",
    "import shapely\n",
    "import branca\n",
    "\n",
    "import importlib\n",
    "importlib.reload(utils)\n",
    "importlib.reload(update_vars)"
   ]
  },
  {
   "cell_type": "code",
   "execution_count": null,
   "id": "d79c7c96-4533-41e3-816b-b0f84a3f01f6",
   "metadata": {
    "tags": []
   },
   "outputs": [],
   "source": [
    "import chart_utils"
   ]
  },
  {
   "cell_type": "markdown",
   "id": "475883c3-a956-46bb-993a-d31860ec1689",
   "metadata": {
    "tags": []
   },
   "source": [
    "# Passenger Flow and Ridership Charts by Route and Origin/Destination\n",
    "\n",
    "* Hues represent origin stops (and may repeat where there are many)\n",
    "* Within each origin group, darker shades represent longer O/D pairs\n",
    "* Currently based on April 2025 figures only"
   ]
  },
  {
   "cell_type": "code",
   "execution_count": null,
   "id": "5fcac348-575c-4359-a9d1-66842889e40b",
   "metadata": {
    "tags": []
   },
   "outputs": [],
   "source": [
    "analysis_date = update_vars.ANALYSIS_DATE\n",
    "GCS_PATH = update_vars.GCS_PATH"
   ]
  },
  {
   "cell_type": "code",
   "execution_count": null,
   "id": "3ff078c8-0fda-4890-8b76-c03518572564",
   "metadata": {
    "tags": []
   },
   "outputs": [],
   "source": [
    "feeds = gtfs_utils_v2.schedule_daily_feed_to_gtfs_dataset_name(analysis_date)"
   ]
  },
  {
   "cell_type": "code",
   "execution_count": null,
   "id": "f33365f0-b9f8-4bcb-8ab6-05483c02760f",
   "metadata": {
    "tags": []
   },
   "outputs": [],
   "source": [
    "sanj = feeds.query('name == \"Amtrak San Joaquins Schedule\"')"
   ]
  },
  {
   "cell_type": "code",
   "execution_count": null,
   "id": "a55061eb-362b-4a44-9251-11a1305f70cb",
   "metadata": {
    "tags": []
   },
   "outputs": [],
   "source": [
    "sanj_shapes = gtfs_utils_v2.get_shapes(analysis_date, operator_feeds=sanj.feed_key, shape_cols=update_vars.shape_cols)\n",
    "sanj_shapes = sanj_shapes.to_crs(CA_NAD83Albers_m)\n",
    "sanj_shapes = sanj_shapes.assign(length_meters = sanj_shapes.geometry.length)"
   ]
  },
  {
   "cell_type": "code",
   "execution_count": null,
   "id": "c5152ae4-7357-4467-b227-4f64ea65c728",
   "metadata": {
    "tags": []
   },
   "outputs": [],
   "source": [
    "sanj_trips = gtfs_utils_v2.get_trips(analysis_date, operator_feeds=sanj.feed_key, trip_cols=update_vars.trip_cols).query('route_type == \"3\"')"
   ]
  },
  {
   "cell_type": "code",
   "execution_count": null,
   "id": "2fa83c06-3b80-48e5-8312-7eb31dadf79c",
   "metadata": {
    "tags": []
   },
   "outputs": [],
   "source": [
    "sanj_stops = gtfs_utils_v2.get_stops(analysis_date, operator_feeds=sanj.feed_key, stop_cols=update_vars.stop_cols).to_crs(CA_NAD83Albers_m)"
   ]
  },
  {
   "cell_type": "code",
   "execution_count": null,
   "id": "4e23a1f5-2a27-4f96-9ce1-af646cfa7429",
   "metadata": {
    "tags": []
   },
   "outputs": [],
   "source": [
    "sanj_st = gtfs_utils_v2.get_stop_times(analysis_date, operator_feeds=sanj.feed_key, get_df=True,\n",
    "                                      trip_df = sanj_trips, stop_time_cols=update_vars.stop_time_cols)"
   ]
  },
  {
   "cell_type": "code",
   "execution_count": null,
   "id": "e22cb8d8-ca08-414a-a54e-4849116ff8a6",
   "metadata": {
    "tags": []
   },
   "outputs": [],
   "source": [
    "bus_st = sanj_st.merge(sanj_trips[['trip_id', 'direction_id', 'route_id', 'route_short_name',\n",
    "                                   'shape_array_key', 'shape_id']], on='trip_id')"
   ]
  },
  {
   "cell_type": "code",
   "execution_count": null,
   "id": "961206c2-548e-49b1-b1db-7bb2e9eaa3df",
   "metadata": {
    "tags": []
   },
   "outputs": [],
   "source": [
    "sanj_shapes_trip_info = (sanj_shapes.merge(sanj_trips.drop_duplicates(subset=['shape_array_key']), on = ['shape_array_key', 'feed_key'])\n",
    "                            .drop(columns=['base64_url', 'regional_feed_type', 'block_id',\n",
    "                                           'route_desc', 'agency_id', 'network_id',\n",
    "                                          'route_key'])\n",
    "                        )"
   ]
  },
  {
   "cell_type": "code",
   "execution_count": null,
   "id": "0453c2eb-0572-480c-acf5-bee7a22cb3ca",
   "metadata": {},
   "outputs": [],
   "source": [
    "gcsgp.geo_data_frame_to_parquet(sanj_shapes_trip_info, f'{update_vars.GCS_PATH}intermediate/sanj_shapes_trip_info_{analysis_date}.parquet')"
   ]
  },
  {
   "cell_type": "code",
   "execution_count": null,
   "id": "baa43807-61bd-4ed0-a772-276dc6f2057a",
   "metadata": {
    "tags": []
   },
   "outputs": [],
   "source": [
    "sanj_long_shapes = utils.longest_by_route_dir(sanj_shapes_trip_info)"
   ]
  },
  {
   "cell_type": "code",
   "execution_count": null,
   "id": "0a0fae2d-ee69-4205-ab8f-5fbd349753be",
   "metadata": {},
   "outputs": [],
   "source": [
    "#  charts only show one month for now\n",
    "source_ridership = utils.read_format_ridership().query('trip_year == 2025 & trip_month == 4')"
   ]
  },
  {
   "cell_type": "code",
   "execution_count": null,
   "id": "7a49c362-9109-452e-a8d3-b44c3a3f56cd",
   "metadata": {
    "tags": []
   },
   "outputs": [],
   "source": [
    "bus_stops = sanj_st.stop_id.unique()"
   ]
  },
  {
   "cell_type": "code",
   "execution_count": null,
   "id": "6e25a62a-f555-4b68-96cb-8aa74cb5e4ef",
   "metadata": {
    "tags": []
   },
   "outputs": [],
   "source": [
    "get_ridership_unique_stops = lambda df: np.union1d(df.orig, df.dest)"
   ]
  },
  {
   "cell_type": "code",
   "execution_count": null,
   "id": "96d7d7e6-70dd-4f73-93ad-548b5d19a2a2",
   "metadata": {
    "tags": []
   },
   "outputs": [],
   "source": [
    "rider_stops = get_ridership_unique_stops(source_ridership)"
   ]
  },
  {
   "cell_type": "code",
   "execution_count": null,
   "id": "4dd4917a-0621-4d60-b2aa-f03b1c8df4ce",
   "metadata": {
    "tags": []
   },
   "outputs": [],
   "source": [
    "sanj_bus_to_rider_stops = dict(zip(bus_stops, [x[1:] for x in bus_stops]))\n",
    "sanj_bus_to_rider_stops['bLOS'] = 'LAX'"
   ]
  },
  {
   "cell_type": "code",
   "execution_count": null,
   "id": "29658dee-71dd-475d-aaec-ec8e3503dc92",
   "metadata": {
    "tags": []
   },
   "outputs": [],
   "source": [
    "bus_st = pd.merge(sanj_stops[['stop_id', 'geometry']], bus_st, on='stop_id')\n",
    "bus_st = bus_st.assign(amtrak_stop = bus_st.stop_id.map(sanj_bus_to_rider_stops)).sort_values(['trip_id', 'stop_sequence'])"
   ]
  },
  {
   "cell_type": "markdown",
   "id": "e862876b-bb5b-4595-984c-8674073cdbbd",
   "metadata": {},
   "source": [
    "# Focus Routes"
   ]
  },
  {
   "cell_type": "markdown",
   "id": "511e9f85-3476-4f0c-87bf-c87b75ffa60e",
   "metadata": {
    "tags": []
   },
   "source": [
    "## Route 1"
   ]
  },
  {
   "cell_type": "code",
   "execution_count": null,
   "id": "2a746aa1-1efc-471b-97f8-48761a7c12ab",
   "metadata": {
    "tags": []
   },
   "outputs": [],
   "source": [
    "rt1_test = sanj_long_shapes.query('route_id == \"1\"')"
   ]
  },
  {
   "cell_type": "code",
   "execution_count": null,
   "id": "abb32c66-7ae2-4901-81cf-0c71e6ba4725",
   "metadata": {
    "tags": []
   },
   "outputs": [],
   "source": [
    "rt1_test[['name', 'route_short_name', 'route_long_name', 'shape_id']]"
   ]
  },
  {
   "cell_type": "markdown",
   "id": "8a329ad2-c235-4075-b55a-7fe5753647c6",
   "metadata": {},
   "source": [
    "### By Distance Traveled"
   ]
  },
  {
   "cell_type": "code",
   "execution_count": null,
   "id": "bd226a48-87b9-4275-81fc-c87657ea90a5",
   "metadata": {
    "tags": []
   },
   "outputs": [],
   "source": [
    "chart_utils.flow_chart_from_shape_trip_row(rt1_test.iloc[0], stop_times=bus_st, ridership=source_ridership,\n",
    "                              ridership_data_route='Rt 1A')"
   ]
  },
  {
   "cell_type": "markdown",
   "id": "b39cf501-7f4e-44e9-9946-bc0f5a358c99",
   "metadata": {
    "tags": []
   },
   "source": [
    "### By Travel Time"
   ]
  },
  {
   "cell_type": "code",
   "execution_count": null,
   "id": "c28041a3-7a6a-4615-b134-84816844cc57",
   "metadata": {
    "tags": []
   },
   "outputs": [],
   "source": [
    "chart_utils.flow_chart_from_shape_trip_row(rt1_test.iloc[0], stop_times=bus_st, ridership=source_ridership,\n",
    "                              ridership_data_route='Rt 1A', how='time')"
   ]
  },
  {
   "cell_type": "markdown",
   "id": "239f630c-0b4b-4f5e-af7c-7d9802482bce",
   "metadata": {
    "tags": []
   },
   "source": [
    "## Route 1 - other direction"
   ]
  },
  {
   "cell_type": "markdown",
   "id": "2a21d383-68bb-47a2-9e72-bd6efef0cb06",
   "metadata": {},
   "source": [
    "### By Distance Traveled"
   ]
  },
  {
   "cell_type": "code",
   "execution_count": null,
   "id": "17b023ae-e46f-43a7-94be-e00a34c8bde3",
   "metadata": {
    "tags": []
   },
   "outputs": [],
   "source": [
    "chart_utils.flow_chart_from_shape_trip_row(rt1_test.iloc[1], stop_times=bus_st, ridership=source_ridership,\n",
    "                              ridership_data_route='Rt 1A')"
   ]
  },
  {
   "cell_type": "markdown",
   "id": "a0d420f9-cbf7-41cc-afb7-c90ce4a4d3f6",
   "metadata": {},
   "source": [
    "### By Travel Time"
   ]
  },
  {
   "cell_type": "code",
   "execution_count": null,
   "id": "c8423349-7b06-422d-bc94-f9b4502f7e92",
   "metadata": {
    "tags": []
   },
   "outputs": [],
   "source": [
    "chart_utils.flow_chart_from_shape_trip_row(rt1_test.iloc[1], stop_times=bus_st, ridership=source_ridership,\n",
    "                              ridership_data_route='Rt 1A', how='time')"
   ]
  },
  {
   "cell_type": "markdown",
   "id": "7b5d7c07-0a7d-417f-bb5c-f868aab9b0ab",
   "metadata": {},
   "source": [
    "## Route 1b"
   ]
  },
  {
   "cell_type": "code",
   "execution_count": null,
   "id": "edf5b647-07e1-40f8-bb70-0444f3be59d1",
   "metadata": {
    "tags": []
   },
   "outputs": [],
   "source": [
    "rt1b_test = sanj_long_shapes.query('route_id == \"1\"')"
   ]
  },
  {
   "cell_type": "code",
   "execution_count": null,
   "id": "3a6fd275-1bef-4f3f-bac3-8bdcb74b5f46",
   "metadata": {
    "tags": []
   },
   "outputs": [],
   "source": [
    "rt1b_test[['name', 'route_short_name', 'route_long_name', 'shape_id']]"
   ]
  },
  {
   "cell_type": "markdown",
   "id": "d286a0e4-44fe-414a-b3ab-2ae26c47f64b",
   "metadata": {},
   "source": [
    "### By Distance Traveled"
   ]
  },
  {
   "cell_type": "code",
   "execution_count": null,
   "id": "75ef3948-d864-44b9-a6a4-173a0ae387a7",
   "metadata": {
    "tags": []
   },
   "outputs": [],
   "source": [
    "chart_utils.flow_chart_from_shape_trip_row(rt1b_test.iloc[0], stop_times=bus_st, ridership=source_ridership,\n",
    "                              ridership_data_route='Rt 1B')"
   ]
  },
  {
   "cell_type": "markdown",
   "id": "8e6cb753-89fe-43f9-9897-538c2ce5a983",
   "metadata": {},
   "source": [
    "### By Travel Time"
   ]
  },
  {
   "cell_type": "code",
   "execution_count": null,
   "id": "b4804c49-a3ed-49c7-bceb-c23cd18e2b35",
   "metadata": {},
   "outputs": [],
   "source": [
    "chart_utils.flow_chart_from_shape_trip_row(rt1b_test.iloc[0], stop_times=bus_st, ridership=source_ridership,\n",
    "                              ridership_data_route='Rt 1B', how='time')"
   ]
  },
  {
   "cell_type": "markdown",
   "id": "df4ccb0c-2f68-41c8-b5a4-5ee8d893ed83",
   "metadata": {},
   "source": [
    "## Route 1b - other direction"
   ]
  },
  {
   "cell_type": "markdown",
   "id": "7e255c3f-595c-4d27-9d9b-3b4b12f37ff5",
   "metadata": {},
   "source": [
    "### By Distance Traveled"
   ]
  },
  {
   "cell_type": "code",
   "execution_count": null,
   "id": "3ce2b62d-c216-4b82-9c7b-c5b53aaee7bc",
   "metadata": {
    "tags": []
   },
   "outputs": [],
   "source": [
    "chart_utils.flow_chart_from_shape_trip_row(rt1b_test.iloc[1], stop_times=bus_st, ridership=source_ridership,\n",
    "                              ridership_data_route='Rt 1B')"
   ]
  },
  {
   "cell_type": "markdown",
   "id": "c2942536-f1f2-4ee3-b72b-e0d51696a1cd",
   "metadata": {},
   "source": [
    "### By Travel Time"
   ]
  },
  {
   "cell_type": "code",
   "execution_count": null,
   "id": "1f3180ec-5e82-437d-a695-f1838e9060ec",
   "metadata": {
    "tags": []
   },
   "outputs": [],
   "source": [
    "chart_utils.flow_chart_from_shape_trip_row(rt1b_test.iloc[1], stop_times=bus_st, ridership=source_ridership,\n",
    "                              ridership_data_route='Rt 1B', how='time')"
   ]
  },
  {
   "cell_type": "markdown",
   "id": "719543b6-94fe-4be0-accb-be241985a38c",
   "metadata": {},
   "source": [
    "## Route 1C"
   ]
  },
  {
   "cell_type": "code",
   "execution_count": null,
   "id": "6230859b-46a7-4953-87b1-e5734ba06044",
   "metadata": {
    "tags": []
   },
   "outputs": [],
   "source": [
    "rt1c_test = sanj_long_shapes.query('route_id == \"1c\"')"
   ]
  },
  {
   "cell_type": "code",
   "execution_count": null,
   "id": "bc118399-6cd0-472a-9d67-ae3160b5e9c2",
   "metadata": {
    "tags": []
   },
   "outputs": [],
   "source": [
    "rt1c_test[['name', 'route_short_name', 'route_long_name', 'shape_id']]"
   ]
  },
  {
   "cell_type": "markdown",
   "id": "2d60cf08-d845-4ba2-be01-052f40c183f5",
   "metadata": {},
   "source": [
    "### By Distance Traveled"
   ]
  },
  {
   "cell_type": "code",
   "execution_count": null,
   "id": "74b6982d-2a15-4dc5-9f02-7f30df890d74",
   "metadata": {
    "tags": []
   },
   "outputs": [],
   "source": [
    "chart_utils.flow_chart_from_shape_trip_row(rt1c_test.iloc[0], stop_times=bus_st, ridership=source_ridership,\n",
    "                              ridership_data_route='Rt 1C')"
   ]
  },
  {
   "cell_type": "markdown",
   "id": "c6e67a3c-16ba-4cc0-99c3-9aa2ffe7ea23",
   "metadata": {},
   "source": [
    "### By Travel Time"
   ]
  },
  {
   "cell_type": "code",
   "execution_count": null,
   "id": "d934103f-7f32-4494-90fc-309113ef8bed",
   "metadata": {
    "tags": []
   },
   "outputs": [],
   "source": [
    "chart_utils.flow_chart_from_shape_trip_row(rt1c_test.iloc[0], stop_times=bus_st, ridership=source_ridership,\n",
    "                              ridership_data_route='Rt 1C', how='time')"
   ]
  },
  {
   "cell_type": "markdown",
   "id": "227abe2b-34cb-4553-a851-ac506d9cc2e7",
   "metadata": {},
   "source": [
    "## Route 1C - other direction"
   ]
  },
  {
   "cell_type": "markdown",
   "id": "73eb61c5-3328-4897-948e-1a803a81ace4",
   "metadata": {},
   "source": [
    "### By Distance Traveled"
   ]
  },
  {
   "cell_type": "code",
   "execution_count": null,
   "id": "b4518a40-8b7c-400f-a035-57444bca4f21",
   "metadata": {
    "tags": []
   },
   "outputs": [],
   "source": [
    "chart_utils.flow_chart_from_shape_trip_row(rt1c_test.iloc[1], stop_times=bus_st, ridership=source_ridership,\n",
    "                              ridership_data_route='Rt 1C')"
   ]
  },
  {
   "cell_type": "markdown",
   "id": "e8e1bd39-c3c7-4bba-b522-2a59f325fbd4",
   "metadata": {},
   "source": [
    "### By Travel Time"
   ]
  },
  {
   "cell_type": "code",
   "execution_count": null,
   "id": "778971ec-c3ff-404b-83cc-1017cccc240e",
   "metadata": {
    "tags": []
   },
   "outputs": [],
   "source": [
    "chart_utils.flow_chart_from_shape_trip_row(rt1c_test.iloc[1], stop_times=bus_st, ridership=source_ridership,\n",
    "                              ridership_data_route='Rt 1C', how='time')"
   ]
  },
  {
   "cell_type": "markdown",
   "id": "3c1ac5b6-a3cc-4095-9e50-d810c20756c8",
   "metadata": {
    "tags": []
   },
   "source": [
    "## Route 19"
   ]
  },
  {
   "cell_type": "code",
   "execution_count": null,
   "id": "942687b0-6ec1-4c88-80ac-bad65bd39247",
   "metadata": {
    "tags": []
   },
   "outputs": [],
   "source": [
    "rt19_test = sanj_long_shapes.query('route_id == \"19\"')"
   ]
  },
  {
   "cell_type": "code",
   "execution_count": null,
   "id": "2704ede6-ecc0-4494-b4a8-85d9b89a2f4e",
   "metadata": {
    "tags": []
   },
   "outputs": [],
   "source": [
    "rt19_test[['name', 'route_short_name', 'route_long_name', 'shape_id']]"
   ]
  },
  {
   "cell_type": "markdown",
   "id": "5872b5ed-87c6-4651-a44c-3e94efc47159",
   "metadata": {},
   "source": [
    "### By Distance Traveled"
   ]
  },
  {
   "cell_type": "code",
   "execution_count": null,
   "id": "32099ca0-5d80-4ad6-94ec-290dd8d33a46",
   "metadata": {
    "tags": []
   },
   "outputs": [],
   "source": [
    "chart_utils.flow_chart_from_shape_trip_row(rt19_test.iloc[0], stop_times=bus_st, ridership=source_ridership,\n",
    "                              ridership_data_route='Rt 19')"
   ]
  },
  {
   "cell_type": "markdown",
   "id": "3c900066-46df-4312-af95-2dd66e30ade5",
   "metadata": {},
   "source": [
    "### By Travel Time"
   ]
  },
  {
   "cell_type": "code",
   "execution_count": null,
   "id": "54ee9d88-19cc-4d1d-bfad-ac2b3000648c",
   "metadata": {
    "tags": []
   },
   "outputs": [],
   "source": [
    "chart_utils.flow_chart_from_shape_trip_row(rt19_test.iloc[0], stop_times=bus_st, ridership=source_ridership,\n",
    "                              ridership_data_route='Rt 19', how='time')"
   ]
  },
  {
   "cell_type": "markdown",
   "id": "97ef9e3d-bbf6-4414-9837-c6ca1923c519",
   "metadata": {},
   "source": [
    "## Route 19 - other direction"
   ]
  },
  {
   "cell_type": "markdown",
   "id": "0adf9473-5285-442a-8e90-de69c341d41c",
   "metadata": {},
   "source": [
    "### By Distance Traveled"
   ]
  },
  {
   "cell_type": "code",
   "execution_count": null,
   "id": "6e9f8cf1-5f86-4b06-ad24-17058eef3b03",
   "metadata": {
    "tags": []
   },
   "outputs": [],
   "source": [
    "chart_utils.flow_chart_from_shape_trip_row(rt19_test.iloc[1], stop_times=bus_st, ridership=source_ridership,\n",
    "                              ridership_data_route='Rt 19')"
   ]
  },
  {
   "cell_type": "markdown",
   "id": "5b705179-e949-4589-ae50-b37bd5e1c2e9",
   "metadata": {},
   "source": [
    "### By Travel Time"
   ]
  },
  {
   "cell_type": "code",
   "execution_count": null,
   "id": "3f29c43a-7151-4484-a7b1-44436f19ef79",
   "metadata": {
    "tags": []
   },
   "outputs": [],
   "source": [
    "chart_utils.flow_chart_from_shape_trip_row(rt19_test.iloc[1], stop_times=bus_st, ridership=source_ridership,\n",
    "                              ridership_data_route='Rt 19', how='time')"
   ]
  },
  {
   "cell_type": "markdown",
   "id": "9ec26c6f-d2cc-49f7-8c3b-53489758d6e3",
   "metadata": {},
   "source": [
    "## Route 99"
   ]
  },
  {
   "cell_type": "code",
   "execution_count": null,
   "id": "a1010f7e-3293-4471-825e-0966f2d595f0",
   "metadata": {
    "tags": []
   },
   "outputs": [],
   "source": [
    "rt99_test = sanj_long_shapes.query('route_id == \"99\"')"
   ]
  },
  {
   "cell_type": "code",
   "execution_count": null,
   "id": "238307d7-c1cf-49a8-8fd3-7f484ba6e4b7",
   "metadata": {
    "tags": []
   },
   "outputs": [],
   "source": [
    "rt99_test[['name', 'route_short_name', 'route_long_name', 'shape_id']]"
   ]
  },
  {
   "cell_type": "markdown",
   "id": "2147c7bf-614b-45b0-8327-e5982e2eef3a",
   "metadata": {},
   "source": [
    "### By Distance Traveled"
   ]
  },
  {
   "cell_type": "code",
   "execution_count": null,
   "id": "42f9ef9c-5b72-4fec-ba9e-84030f53ab9c",
   "metadata": {
    "tags": []
   },
   "outputs": [],
   "source": [
    "chart_utils.flow_chart_from_shape_trip_row(rt99_test.iloc[0], stop_times=bus_st, ridership=source_ridership,\n",
    "                              ridership_data_route='Rt 99')"
   ]
  },
  {
   "cell_type": "markdown",
   "id": "090fa606-ed35-4574-b75d-d29b635f7dae",
   "metadata": {},
   "source": [
    "### By Travel Time"
   ]
  },
  {
   "cell_type": "code",
   "execution_count": null,
   "id": "56af607d-1cfb-41f9-839c-8f2d02069c85",
   "metadata": {
    "tags": []
   },
   "outputs": [],
   "source": [
    "chart_utils.flow_chart_from_shape_trip_row(rt99_test.iloc[0], stop_times=bus_st, ridership=source_ridership,\n",
    "                              ridership_data_route='Rt 99', how='time')"
   ]
  },
  {
   "cell_type": "markdown",
   "id": "5431578a-5a3e-4384-8d6e-3900705e77df",
   "metadata": {},
   "source": [
    "## Route 99 - other direction"
   ]
  },
  {
   "cell_type": "markdown",
   "id": "198b3405-2517-4a6c-9407-4a1045ac9fc6",
   "metadata": {},
   "source": [
    "### By Distance Traveled"
   ]
  },
  {
   "cell_type": "code",
   "execution_count": null,
   "id": "b9031b8c-2267-4b1d-a7f6-b00c8229320c",
   "metadata": {
    "tags": []
   },
   "outputs": [],
   "source": [
    "chart_utils.flow_chart_from_shape_trip_row(rt99_test.iloc[1], stop_times=bus_st, ridership=source_ridership,\n",
    "                              ridership_data_route='Rt 99')"
   ]
  },
  {
   "cell_type": "markdown",
   "id": "b4518bd1-abf2-47ed-a0b9-14e74097be2a",
   "metadata": {},
   "source": [
    "### By Travel Time"
   ]
  },
  {
   "cell_type": "code",
   "execution_count": null,
   "id": "e6b8a650-14a6-442c-84af-b7a0fbec3061",
   "metadata": {
    "tags": []
   },
   "outputs": [],
   "source": [
    "chart_utils.flow_chart_from_shape_trip_row(rt99_test.iloc[1], stop_times=bus_st, ridership=source_ridership,\n",
    "                              ridership_data_route='Rt 99', how='time')"
   ]
  },
  {
   "cell_type": "markdown",
   "id": "c628847c-4357-491c-b858-c15f07cb0a62",
   "metadata": {},
   "source": [
    "# Other Routes"
   ]
  },
  {
   "cell_type": "markdown",
   "id": "306bb579-a2c5-489b-92eb-b51a32dc5d91",
   "metadata": {},
   "source": [
    "## Route 3\n",
    "\n",
    "* Operated by RABA Chico - Redding, seems to create a data gap in that section"
   ]
  },
  {
   "cell_type": "markdown",
   "id": "204516b4-a2a8-4f39-9249-a57cf1bad6ab",
   "metadata": {},
   "source": [
    "### By Distance Traveled"
   ]
  },
  {
   "cell_type": "code",
   "execution_count": null,
   "id": "96363119-895a-463b-aabe-fe69ea3d6e3b",
   "metadata": {
    "tags": []
   },
   "outputs": [],
   "source": [
    "rt3_test = sanj_long_shapes.query('route_id == \"3\"')"
   ]
  },
  {
   "cell_type": "code",
   "execution_count": null,
   "id": "6f47a525-3476-40b2-9be4-cf98c21d7a11",
   "metadata": {
    "tags": []
   },
   "outputs": [],
   "source": [
    "rt3_test[['name', 'route_short_name', 'route_long_name', 'shape_id']]"
   ]
  },
  {
   "cell_type": "code",
   "execution_count": null,
   "id": "10d3cbd6-c476-4dfb-83ac-9e22e0b4e85b",
   "metadata": {
    "tags": []
   },
   "outputs": [],
   "source": [
    "chart_utils.flow_chart_from_shape_trip_row(rt3_test.iloc[0], stop_times=bus_st, ridership=source_ridership,\n",
    "                              # ridership_data_route='Rt 03'\n",
    "                                                  )"
   ]
  },
  {
   "cell_type": "markdown",
   "id": "97353c1f-c06e-47ef-b2d1-e9af9af9a885",
   "metadata": {},
   "source": [
    "### By Travel Time"
   ]
  },
  {
   "cell_type": "code",
   "execution_count": null,
   "id": "a6d30839-1c27-426c-965c-84b6a9ee194b",
   "metadata": {
    "tags": []
   },
   "outputs": [],
   "source": [
    "chart_utils.flow_chart_from_shape_trip_row(rt3_test.iloc[0], stop_times=bus_st, ridership=source_ridership, how='time'\n",
    "                              # ridership_data_route='Rt 03'\n",
    "                                                  )"
   ]
  },
  {
   "cell_type": "markdown",
   "id": "b18ad7fc-71c8-4244-9bff-2aa3210cff7e",
   "metadata": {},
   "source": [
    "## Route 3 - other direction\n",
    "\n",
    "* Operated by RABA Chico - Redding, seems to create a data gap in that section"
   ]
  },
  {
   "cell_type": "markdown",
   "id": "c34d6b9e-4ad6-4fb2-8ffa-f73a4064c3d6",
   "metadata": {},
   "source": [
    "### By Distance Traveled"
   ]
  },
  {
   "cell_type": "code",
   "execution_count": null,
   "id": "cfc64f4f-107b-4ede-9e5e-86efcacc1ab3",
   "metadata": {
    "tags": []
   },
   "outputs": [],
   "source": [
    "chart_utils.flow_chart_from_shape_trip_row(rt3_test.iloc[1], stop_times=bus_st, ridership=source_ridership,\n",
    "                              # ridership_data_route='Rt 03'\n",
    "                                                  )"
   ]
  },
  {
   "cell_type": "markdown",
   "id": "55573256-8924-4387-a38b-6d058e2e7efa",
   "metadata": {},
   "source": [
    "### By Travel Time"
   ]
  },
  {
   "cell_type": "code",
   "execution_count": null,
   "id": "8f819285-494a-4b96-b44e-4781bd99be90",
   "metadata": {
    "tags": []
   },
   "outputs": [],
   "source": [
    "chart_utils.flow_chart_from_shape_trip_row(rt3_test.iloc[1], stop_times=bus_st, ridership=source_ridership, how='time'\n",
    "                              # ridership_data_route='Rt 03'\n",
    "                                                  )"
   ]
  },
  {
   "cell_type": "markdown",
   "id": "593e184d-13a5-42be-81c5-5f2127edbb09",
   "metadata": {},
   "source": [
    "## Route 6"
   ]
  },
  {
   "cell_type": "code",
   "execution_count": null,
   "id": "a1ffa0e3-262d-47f3-9920-6c98b059b693",
   "metadata": {
    "tags": []
   },
   "outputs": [],
   "source": [
    "rt6_test = sanj_long_shapes.query('route_id == \"6\"')"
   ]
  },
  {
   "cell_type": "code",
   "execution_count": null,
   "id": "b1ab01f1-2503-48aa-a31b-af46c3fbf50e",
   "metadata": {
    "tags": []
   },
   "outputs": [],
   "source": [
    "rt6_test[['name', 'route_short_name', 'route_long_name', 'shape_id']]"
   ]
  },
  {
   "cell_type": "markdown",
   "id": "3f4b87d7-d052-419b-9597-cb5c41bca12d",
   "metadata": {},
   "source": [
    "### By Distance Traveled"
   ]
  },
  {
   "cell_type": "code",
   "execution_count": null,
   "id": "daf4eae7-ef8d-45b4-b040-c1f64519f804",
   "metadata": {
    "tags": []
   },
   "outputs": [],
   "source": [
    "chart_utils.flow_chart_from_shape_trip_row(rt6_test.iloc[0], stop_times=bus_st, ridership=source_ridership,\n",
    "                              ridership_data_route='Rt 06')"
   ]
  },
  {
   "cell_type": "markdown",
   "id": "fe428b3f-0904-4a6c-9046-18b6c9406dcc",
   "metadata": {},
   "source": [
    "### By Travel Time"
   ]
  },
  {
   "cell_type": "code",
   "execution_count": null,
   "id": "bd596be2-6409-462d-8f3b-16c9e50562a8",
   "metadata": {
    "tags": []
   },
   "outputs": [],
   "source": [
    "chart_utils.flow_chart_from_shape_trip_row(rt6_test.iloc[0], stop_times=bus_st, ridership=source_ridership,\n",
    "                              ridership_data_route='Rt 06', how='time')"
   ]
  },
  {
   "cell_type": "markdown",
   "id": "37c5dcf0-e51d-4050-803c-aca23faa5a44",
   "metadata": {},
   "source": [
    "## Route 6 - other direction"
   ]
  },
  {
   "cell_type": "markdown",
   "id": "aa7c174c-070e-45c8-b766-1fe81670c3db",
   "metadata": {},
   "source": [
    "### By Distance Traveled"
   ]
  },
  {
   "cell_type": "code",
   "execution_count": null,
   "id": "0b428f23-347d-4085-9aa1-151600c9a73e",
   "metadata": {
    "tags": []
   },
   "outputs": [],
   "source": [
    "chart_utils.flow_chart_from_shape_trip_row(rt6_test.iloc[1], stop_times=bus_st, ridership=source_ridership,\n",
    "                              ridership_data_route='Rt 06')"
   ]
  },
  {
   "cell_type": "markdown",
   "id": "b3344340-aaa0-4808-9989-5829f3205139",
   "metadata": {},
   "source": [
    "### By Travel Time"
   ]
  },
  {
   "cell_type": "code",
   "execution_count": null,
   "id": "a83bb6bb-a93a-4a36-a03a-1a776dea336a",
   "metadata": {
    "tags": []
   },
   "outputs": [],
   "source": [
    "chart_utils.flow_chart_from_shape_trip_row(rt6_test.iloc[1], stop_times=bus_st, ridership=source_ridership,\n",
    "                              ridership_data_route='Rt 06', how='time')"
   ]
  },
  {
   "cell_type": "markdown",
   "id": "3b7381e7-6a2a-486f-92d5-175edcf5276b",
   "metadata": {
    "tags": []
   },
   "source": [
    "## Route 7"
   ]
  },
  {
   "cell_type": "code",
   "execution_count": null,
   "id": "c720f6b7-aa61-4d72-95ed-34156dc0a949",
   "metadata": {
    "tags": []
   },
   "outputs": [],
   "source": [
    "rt7_test = sanj_long_shapes.query('route_id == \"7\"')"
   ]
  },
  {
   "cell_type": "code",
   "execution_count": null,
   "id": "c035797e-bb23-456c-8dcd-9f34dc4c5536",
   "metadata": {
    "tags": []
   },
   "outputs": [],
   "source": [
    "rt7_test[['name', 'route_short_name', 'route_long_name', 'shape_id']]"
   ]
  },
  {
   "cell_type": "markdown",
   "id": "3806e350-aaf4-49fe-90f4-cb8826d5ff98",
   "metadata": {},
   "source": [
    "### By Distance Traveled"
   ]
  },
  {
   "cell_type": "code",
   "execution_count": null,
   "id": "f55dd408-a6ce-4b9c-b04e-8f403d2168be",
   "metadata": {
    "tags": []
   },
   "outputs": [],
   "source": [
    "chart_utils.flow_chart_from_shape_trip_row(rt7_test.iloc[0], stop_times=bus_st, ridership=source_ridership,\n",
    "                              ridership_data_route='Rt 07')"
   ]
  },
  {
   "cell_type": "markdown",
   "id": "5124c642-65ba-4f9d-8a62-a9fc0746e766",
   "metadata": {},
   "source": [
    "### By Travel Time"
   ]
  },
  {
   "cell_type": "code",
   "execution_count": null,
   "id": "e8b03db1-d781-44e4-9570-83c4e1082580",
   "metadata": {
    "tags": []
   },
   "outputs": [],
   "source": [
    "chart_utils.flow_chart_from_shape_trip_row(rt7_test.iloc[0], stop_times=bus_st, ridership=source_ridership,\n",
    "                              ridership_data_route='Rt 07', how='time')"
   ]
  },
  {
   "cell_type": "markdown",
   "id": "137239ba-e977-42b7-b964-2452339fa9d7",
   "metadata": {
    "tags": []
   },
   "source": [
    "## Route 7 - other direction"
   ]
  },
  {
   "cell_type": "markdown",
   "id": "933ffe93-bf5a-40fc-90aa-f03faa9a09b2",
   "metadata": {},
   "source": [
    "### By Distance Traveled"
   ]
  },
  {
   "cell_type": "code",
   "execution_count": null,
   "id": "bd85c85f-9a83-4cb5-a151-c2aa451630b6",
   "metadata": {
    "tags": []
   },
   "outputs": [],
   "source": [
    "chart_utils.flow_chart_from_shape_trip_row(rt7_test.iloc[1], stop_times=bus_st, ridership=source_ridership,\n",
    "                              ridership_data_route='Rt 07')"
   ]
  },
  {
   "cell_type": "markdown",
   "id": "37a2c650-c285-4b17-99bf-2b10bd9f01cc",
   "metadata": {},
   "source": [
    "### By Travel Time"
   ]
  },
  {
   "cell_type": "code",
   "execution_count": null,
   "id": "241d9726-2584-4ca8-bf9a-c9f953a07045",
   "metadata": {
    "tags": []
   },
   "outputs": [],
   "source": [
    "chart_utils.flow_chart_from_shape_trip_row(rt7_test.iloc[1], stop_times=bus_st, ridership=source_ridership,\n",
    "                              ridership_data_route='Rt 07', how='time')"
   ]
  },
  {
   "cell_type": "markdown",
   "id": "1c406099-ebe1-49a2-bbad-7db647becac0",
   "metadata": {
    "tags": []
   },
   "source": [
    "## Route 10\n",
    "\n",
    "* Seems to function as two halves with train connection in the middle, but a few passengers can and do ride through (for example Santa Barbara - Las Vegas)"
   ]
  },
  {
   "cell_type": "code",
   "execution_count": null,
   "id": "19668ac4-70b2-414d-81a0-7fde4c1f5dcd",
   "metadata": {
    "tags": []
   },
   "outputs": [],
   "source": [
    "rt10_test = sanj_long_shapes.query('route_id == \"10\"')"
   ]
  },
  {
   "cell_type": "code",
   "execution_count": null,
   "id": "a50c5302-ae5d-45f7-80e6-81de238752b9",
   "metadata": {
    "tags": []
   },
   "outputs": [],
   "source": [
    "rt10_test[['name', 'route_short_name', 'route_long_name', 'shape_id']]"
   ]
  },
  {
   "cell_type": "markdown",
   "id": "dfecb0a9-ab04-48ad-b17e-23e1a0f7d8de",
   "metadata": {},
   "source": [
    "### By Distance Traveled"
   ]
  },
  {
   "cell_type": "code",
   "execution_count": null,
   "id": "fbf73b54-1268-471c-b07f-1c81348b3f15",
   "metadata": {
    "tags": []
   },
   "outputs": [],
   "source": [
    "chart_utils.flow_chart_from_shape_trip_row(rt10_test.iloc[0], stop_times=bus_st, ridership=source_ridership,\n",
    "                              ridership_data_route='Rt 10'\n",
    "                                                  )"
   ]
  },
  {
   "cell_type": "markdown",
   "id": "b310f10a-fa8f-43e2-a6dc-b9796158b38f",
   "metadata": {},
   "source": [
    "### By Travel Time"
   ]
  },
  {
   "cell_type": "code",
   "execution_count": null,
   "id": "25e2cfe8-f157-4fc3-acc1-ffe14bd567d4",
   "metadata": {
    "tags": []
   },
   "outputs": [],
   "source": [
    "chart_utils.flow_chart_from_shape_trip_row(rt10_test.iloc[0], stop_times=bus_st, ridership=source_ridership,\n",
    "                              ridership_data_route='Rt 10', how='time'\n",
    "                                                  )"
   ]
  },
  {
   "cell_type": "markdown",
   "id": "a89b8964-91fa-43ad-92a8-3a9797ef8bb4",
   "metadata": {
    "tags": []
   },
   "source": [
    "## Route 10 - other direction"
   ]
  },
  {
   "cell_type": "markdown",
   "id": "e15ddcc5-429a-4787-a257-ad7043efdd83",
   "metadata": {},
   "source": [
    "### By Distance Traveled"
   ]
  },
  {
   "cell_type": "code",
   "execution_count": null,
   "id": "68fe9f80-6758-4486-929a-271f4161100e",
   "metadata": {
    "tags": []
   },
   "outputs": [],
   "source": [
    "chart_utils.flow_chart_from_shape_trip_row(rt10_test.iloc[1], stop_times=bus_st, ridership=source_ridership,\n",
    "                              ridership_data_route='Rt 10'\n",
    "                                                  )"
   ]
  },
  {
   "cell_type": "markdown",
   "id": "81877f9b-93e5-40a7-a944-91a945a10626",
   "metadata": {},
   "source": [
    "### By Travel Time"
   ]
  },
  {
   "cell_type": "code",
   "execution_count": null,
   "id": "0f050117-8604-46b3-a575-c6493b08e28f",
   "metadata": {
    "tags": []
   },
   "outputs": [],
   "source": [
    "chart_utils.flow_chart_from_shape_trip_row(rt10_test.iloc[1], stop_times=bus_st, ridership=source_ridership,\n",
    "                              ridership_data_route='Rt 10', how='time'\n",
    "                                                  )"
   ]
  },
  {
   "cell_type": "markdown",
   "id": "f44d9451-fc45-44d4-81f6-073c04ef3751",
   "metadata": {
    "tags": []
   },
   "source": [
    "## Route 15a (YARTS)\n",
    "\n",
    "* some sort of bug on 15b, 15 (both also YARTS, will check later)"
   ]
  },
  {
   "cell_type": "code",
   "execution_count": null,
   "id": "29a42e9f-c867-4b40-a68e-926c95bd741b",
   "metadata": {
    "tags": []
   },
   "outputs": [],
   "source": [
    "rt15_test = sanj_long_shapes.query('route_id == \"15a\"')"
   ]
  },
  {
   "cell_type": "code",
   "execution_count": null,
   "id": "ffd61962-2c79-4407-901e-2e7647e85a32",
   "metadata": {
    "tags": []
   },
   "outputs": [],
   "source": [
    "rt15_test[['name', 'route_short_name', 'route_long_name', 'shape_id']]"
   ]
  },
  {
   "cell_type": "markdown",
   "id": "152cd924-e959-4e95-b20c-ee1d24835367",
   "metadata": {},
   "source": [
    "### By Distance Traveled"
   ]
  },
  {
   "cell_type": "code",
   "execution_count": null,
   "id": "89517acf-0cc8-407b-8c0b-c26045730282",
   "metadata": {
    "tags": []
   },
   "outputs": [],
   "source": [
    "chart_utils.flow_chart_from_shape_trip_row(rt15_test.iloc[0], stop_times=bus_st, ridership=source_ridership,\n",
    "                              ridership_data_route='Rt 15'\n",
    "                                                  )"
   ]
  },
  {
   "cell_type": "markdown",
   "id": "67d7234a-145c-4d7a-bdb6-e8be3b1ed3c9",
   "metadata": {},
   "source": [
    "### By Travel Time"
   ]
  },
  {
   "cell_type": "code",
   "execution_count": null,
   "id": "5440c650-51c2-4d8c-9180-46192fb8b7a6",
   "metadata": {
    "tags": []
   },
   "outputs": [],
   "source": [
    "chart_utils.flow_chart_from_shape_trip_row(rt15_test.iloc[0], stop_times=bus_st, ridership=source_ridership,\n",
    "                              ridership_data_route='Rt 15', how='time'\n",
    "                                                  )"
   ]
  },
  {
   "cell_type": "markdown",
   "id": "046e4c30-cce1-40b7-97b3-1605ca0be75f",
   "metadata": {},
   "source": [
    "## Route 15a (YARTS) - other direction"
   ]
  },
  {
   "cell_type": "markdown",
   "id": "324b978d-6aea-4e17-9a7c-3c30a53fa3ed",
   "metadata": {},
   "source": [
    "### By Distance Traveled"
   ]
  },
  {
   "cell_type": "code",
   "execution_count": null,
   "id": "438f6bca-15f8-4ee6-b4db-bbd9473b2164",
   "metadata": {
    "tags": []
   },
   "outputs": [],
   "source": [
    "chart_utils.flow_chart_from_shape_trip_row(rt15_test.iloc[1], stop_times=bus_st, ridership=source_ridership,\n",
    "                              ridership_data_route='Rt 15'\n",
    "                                                  )"
   ]
  },
  {
   "cell_type": "markdown",
   "id": "d5b6a5b4-9bfd-41d9-a7d5-07d37b7f8fa0",
   "metadata": {},
   "source": [
    "### By Travel Time"
   ]
  },
  {
   "cell_type": "code",
   "execution_count": null,
   "id": "273516b1-3356-4338-b067-80f44c57626b",
   "metadata": {
    "tags": []
   },
   "outputs": [],
   "source": [
    "chart_utils.flow_chart_from_shape_trip_row(rt15_test.iloc[1], stop_times=bus_st, ridership=source_ridership,\n",
    "                              ridership_data_route='Rt 15', how='time'\n",
    "                                                  )"
   ]
  },
  {
   "cell_type": "markdown",
   "id": "da00dcfb-cac7-4650-b676-47a8a2d70ead",
   "metadata": {
    "tags": []
   },
   "source": [
    "## Route 18"
   ]
  },
  {
   "cell_type": "code",
   "execution_count": null,
   "id": "d135827b-3231-4046-8f21-45b71159e5c8",
   "metadata": {
    "tags": []
   },
   "outputs": [],
   "source": [
    "rt18_test = sanj_long_shapes.query('route_id == \"18\"')"
   ]
  },
  {
   "cell_type": "code",
   "execution_count": null,
   "id": "f1e06870-f35d-4cb0-a367-e539fae5f511",
   "metadata": {
    "tags": []
   },
   "outputs": [],
   "source": [
    "rt18_test[['name', 'route_short_name', 'route_long_name', 'shape_id']]"
   ]
  },
  {
   "cell_type": "markdown",
   "id": "7a338ff0-2555-4e20-8f4c-3494edc88a60",
   "metadata": {},
   "source": [
    "### By Distance Traveled"
   ]
  },
  {
   "cell_type": "code",
   "execution_count": null,
   "id": "d689dd60-910a-4ed2-94ef-4c639736c080",
   "metadata": {
    "tags": []
   },
   "outputs": [],
   "source": [
    "chart_utils.flow_chart_from_shape_trip_row(rt18_test.iloc[0], stop_times=bus_st, ridership=source_ridership,\n",
    "                              ridership_data_route='Rt 18'\n",
    "                                                  )"
   ]
  },
  {
   "cell_type": "markdown",
   "id": "86278a6b-326c-4373-a104-7e64c4de2064",
   "metadata": {},
   "source": [
    "### By Travel Time"
   ]
  },
  {
   "cell_type": "code",
   "execution_count": null,
   "id": "892bd234-19a5-4686-a8a4-f02709f07d0a",
   "metadata": {
    "tags": []
   },
   "outputs": [],
   "source": [
    "chart_utils.flow_chart_from_shape_trip_row(rt18_test.iloc[0], stop_times=bus_st, ridership=source_ridership,\n",
    "                              ridership_data_route='Rt 18', how='time'\n",
    "                                                  )"
   ]
  },
  {
   "cell_type": "markdown",
   "id": "b59506b1-4e62-4f70-aa07-9092c1b0c82c",
   "metadata": {
    "tags": []
   },
   "source": [
    "## Route 18 - other direction"
   ]
  },
  {
   "cell_type": "markdown",
   "id": "13c3f362-0403-4b45-b947-489f16c39cf5",
   "metadata": {},
   "source": [
    "### By Distance Traveled"
   ]
  },
  {
   "cell_type": "code",
   "execution_count": null,
   "id": "e2c994bc-4c18-4304-ae03-9bcfb734f5d9",
   "metadata": {
    "tags": []
   },
   "outputs": [],
   "source": [
    "chart_utils.flow_chart_from_shape_trip_row(rt18_test.iloc[1], stop_times=bus_st, ridership=source_ridership,\n",
    "                              ridership_data_route='Rt 18'\n",
    "                                                  )"
   ]
  },
  {
   "cell_type": "markdown",
   "id": "759531d5-a1f4-4a82-8826-3fadacc618bf",
   "metadata": {},
   "source": [
    "### By Travel Time"
   ]
  },
  {
   "cell_type": "code",
   "execution_count": null,
   "id": "28cf90c5-2a04-44e1-a23d-36d2163ca844",
   "metadata": {
    "tags": []
   },
   "outputs": [],
   "source": [
    "chart_utils.flow_chart_from_shape_trip_row(rt18_test.iloc[1], stop_times=bus_st, ridership=source_ridership,\n",
    "                              ridership_data_route='Rt 18', how='time'\n",
    "                                                  )"
   ]
  },
  {
   "cell_type": "markdown",
   "id": "5eadd56c-7f9b-42cf-ae95-888ff22d3b7f",
   "metadata": {
    "tags": []
   },
   "source": [
    "## Route 20"
   ]
  },
  {
   "cell_type": "code",
   "execution_count": null,
   "id": "a892bc82-0513-4187-9b9a-79e63b019e56",
   "metadata": {
    "tags": []
   },
   "outputs": [],
   "source": [
    "rt20_test = sanj_long_shapes.query('route_id == \"20\"')"
   ]
  },
  {
   "cell_type": "code",
   "execution_count": null,
   "id": "50f51209-f20c-476c-afda-a09ba1bb423e",
   "metadata": {
    "tags": []
   },
   "outputs": [],
   "source": [
    "rt20_test[['name', 'route_short_name', 'route_long_name', 'shape_id']]"
   ]
  },
  {
   "cell_type": "markdown",
   "id": "9aaa667b-014a-4a8b-b9cb-13e1311dbb3c",
   "metadata": {},
   "source": [
    "### By Distance Traveled"
   ]
  },
  {
   "cell_type": "code",
   "execution_count": null,
   "id": "2d3d7877-e8ab-43e7-aabf-035e998cac9b",
   "metadata": {
    "tags": []
   },
   "outputs": [],
   "source": [
    "chart_utils.flow_chart_from_shape_trip_row(rt20_test.iloc[0], stop_times=bus_st, ridership=source_ridership,\n",
    "                              ridership_data_route='Rt 20')"
   ]
  },
  {
   "cell_type": "markdown",
   "id": "99b288cd-ff5a-4a56-81de-5780543d69ba",
   "metadata": {},
   "source": [
    "### By Travel Time"
   ]
  },
  {
   "cell_type": "code",
   "execution_count": null,
   "id": "5aed90cd-3528-477d-b79a-5b9bf599f8a0",
   "metadata": {
    "tags": []
   },
   "outputs": [],
   "source": [
    "chart_utils.flow_chart_from_shape_trip_row(rt20_test.iloc[0], stop_times=bus_st, ridership=source_ridership,\n",
    "                              ridership_data_route='Rt 20', how='time')"
   ]
  },
  {
   "cell_type": "markdown",
   "id": "e307e275-851e-40e0-b536-064049032531",
   "metadata": {
    "tags": []
   },
   "source": [
    "## Route 20 - other direction"
   ]
  },
  {
   "cell_type": "markdown",
   "id": "e1105d5c-863c-4ce6-b533-e7475ca14868",
   "metadata": {},
   "source": [
    "### By Distance Traveled"
   ]
  },
  {
   "cell_type": "code",
   "execution_count": null,
   "id": "02ce3726-31b9-4de1-bd1e-f0498e9be1d2",
   "metadata": {
    "tags": []
   },
   "outputs": [],
   "source": [
    "chart_utils.flow_chart_from_shape_trip_row(rt20_test.iloc[1], stop_times=bus_st, ridership=source_ridership,\n",
    "                              ridership_data_route='Rt 20')"
   ]
  },
  {
   "cell_type": "markdown",
   "id": "b7b84440-5d6d-4800-8c65-b6cda29e54c5",
   "metadata": {},
   "source": [
    "### By Travel Time"
   ]
  },
  {
   "cell_type": "code",
   "execution_count": null,
   "id": "1a920aa8-79b8-4597-a934-8960079699d9",
   "metadata": {
    "tags": []
   },
   "outputs": [],
   "source": [
    "chart_utils.flow_chart_from_shape_trip_row(rt20_test.iloc[1], stop_times=bus_st, ridership=source_ridership,\n",
    "                              ridership_data_route='Rt 20', how='time')"
   ]
  },
  {
   "cell_type": "markdown",
   "id": "db8b8c9e-77f3-4367-b517-9eea959050ab",
   "metadata": {
    "tags": []
   },
   "source": [
    "## Route 20c"
   ]
  },
  {
   "cell_type": "code",
   "execution_count": null,
   "id": "01318b6c-8451-46a2-8b4c-a3dd50ec12e1",
   "metadata": {
    "tags": []
   },
   "outputs": [],
   "source": [
    "rt20c_test = sanj_long_shapes.query('route_id == \"20c\"')"
   ]
  },
  {
   "cell_type": "code",
   "execution_count": null,
   "id": "7edfeba0-db22-473d-ac64-628dc9f56478",
   "metadata": {
    "tags": []
   },
   "outputs": [],
   "source": [
    "rt20c_test[['name', 'route_short_name', 'route_long_name', 'shape_id']]"
   ]
  },
  {
   "cell_type": "markdown",
   "id": "60e8e1bb-96f7-455d-bbbb-edfd7a80a5cb",
   "metadata": {},
   "source": [
    "### By Distance Traveled"
   ]
  },
  {
   "cell_type": "code",
   "execution_count": null,
   "id": "4742d71b-f374-466e-814d-d0d9bd4baf87",
   "metadata": {
    "tags": []
   },
   "outputs": [],
   "source": [
    "chart_utils.flow_chart_from_shape_trip_row(rt20c_test.iloc[0], stop_times=bus_st, ridership=source_ridership,\n",
    "                              ridership_data_route='Rt 20'\n",
    "                                                  )"
   ]
  },
  {
   "cell_type": "markdown",
   "id": "7c329dc8-9745-43c4-83c4-745dfc5998e2",
   "metadata": {},
   "source": [
    "### By Travel Time"
   ]
  },
  {
   "cell_type": "code",
   "execution_count": null,
   "id": "947817ff-d541-44ed-a7f9-1d0dfe29445f",
   "metadata": {
    "tags": []
   },
   "outputs": [],
   "source": [
    "chart_utils.flow_chart_from_shape_trip_row(rt20c_test.iloc[0], stop_times=bus_st, ridership=source_ridership,\n",
    "                              ridership_data_route='Rt 20', how='time'\n",
    "                                                  )"
   ]
  },
  {
   "cell_type": "markdown",
   "id": "fa08c26a-2a15-4fd5-9984-dd0106475958",
   "metadata": {
    "tags": []
   },
   "source": [
    "## Route 20c - other direction"
   ]
  },
  {
   "cell_type": "markdown",
   "id": "1e5ba976-ec8a-4a7e-ac7e-b00e6cdca882",
   "metadata": {},
   "source": [
    "### By Distance Traveled"
   ]
  },
  {
   "cell_type": "code",
   "execution_count": null,
   "id": "6f19fcf3-78f3-4591-9285-5dc1fd0610c5",
   "metadata": {
    "tags": []
   },
   "outputs": [],
   "source": [
    "chart_utils.flow_chart_from_shape_trip_row(rt20c_test.iloc[1], stop_times=bus_st, ridership=source_ridership,\n",
    "                              ridership_data_route='Rt 20'\n",
    "                                                  )"
   ]
  },
  {
   "cell_type": "markdown",
   "id": "99e4344f-b52f-4ce3-9ef8-93eafc679492",
   "metadata": {},
   "source": [
    "### By Travel Time"
   ]
  },
  {
   "cell_type": "code",
   "execution_count": null,
   "id": "a20dee4b-8bce-4d73-814b-558245feb8e3",
   "metadata": {
    "tags": []
   },
   "outputs": [],
   "source": [
    "chart_utils.flow_chart_from_shape_trip_row(rt20c_test.iloc[1], stop_times=bus_st, ridership=source_ridership,\n",
    "                              ridership_data_route='Rt 20', how='time'\n",
    "                                                  )"
   ]
  },
  {
   "cell_type": "markdown",
   "id": "e727a68e-1628-4406-98ef-03ccd9b639a5",
   "metadata": {},
   "source": [
    "## Route 17"
   ]
  },
  {
   "cell_type": "code",
   "execution_count": null,
   "id": "0ea2cc0f-bfaf-497d-aa2c-234e53bfd8d8",
   "metadata": {
    "tags": []
   },
   "outputs": [],
   "source": [
    "remix = gcsgp.read_parquet(f'{GCS_PATH}source_data/remix.parquet')"
   ]
  },
  {
   "cell_type": "code",
   "execution_count": null,
   "id": "44a542b9-99f9-41e8-9a86-7794996f48cd",
   "metadata": {
    "tags": []
   },
   "outputs": [],
   "source": [
    "\n",
    "line_17 = remix.query('line_name == \"17 EMY-SBA Thruway\"') #  inbound is northbound\n",
    "line_17 = line_17.assign(trip_id = ['205369', '205375'])\n",
    "\n",
    "line_39 = remix.query('line_name == \"Route 39 - Fullerton - Palm Springs - Indio\" & pattern == \"Long (IND)\"') #  iloc 0 is WB, iloc 1 is EB\n",
    "line_39 = line_39.assign(trip_id = ['201578', '201581'])"
   ]
  },
  {
   "cell_type": "code",
   "execution_count": null,
   "id": "c40e3048-ad63-45d0-8b1f-c3bf025ba7cb",
   "metadata": {
    "tags": []
   },
   "outputs": [],
   "source": [
    "surf_st = gcsgp.read_parquet(f'{GCS_PATH}intermediate/surfliner_national_st.parquet')"
   ]
  },
  {
   "cell_type": "code",
   "execution_count": null,
   "id": "874844e1-cd9a-4787-b5cf-537e4e38fab4",
   "metadata": {
    "tags": []
   },
   "outputs": [],
   "source": [
    "line_17_st = surf_st.query('manual_route_name == \"Santa Barbara - Oakland\"')\n",
    "line_17_st = line_17_st.assign(amtrak_stop = line_17_st.stop_id)\n",
    "line_39_st = surf_st.query('manual_route_name == \"Fullerton - Indio\"')\n",
    "line_39_st = line_39_st.assign(amtrak_stop = line_39_st.stop_id)"
   ]
  },
  {
   "cell_type": "markdown",
   "id": "a0da8268-7f52-4ae2-8d6b-e9aed9cd5ffc",
   "metadata": {},
   "source": [
    "### By Distance Traveled"
   ]
  },
  {
   "cell_type": "code",
   "execution_count": null,
   "id": "ca64f5ad-7d55-473a-bb85-6a514b6719dc",
   "metadata": {
    "tags": []
   },
   "outputs": [],
   "source": [
    "chart_utils.flow_chart_from_shape_trip_row(line_17.iloc[0], stop_times=line_17_st, ridership=source_ridership,\n",
    "                              ridership_data_route='Rt 17')"
   ]
  },
  {
   "cell_type": "markdown",
   "id": "489e01a2-b14e-4bd1-85aa-d0397eb70eaa",
   "metadata": {},
   "source": [
    "### By Travel Time"
   ]
  },
  {
   "cell_type": "code",
   "execution_count": null,
   "id": "4654c40a-9503-43be-8cb4-f72dcd132a43",
   "metadata": {
    "tags": []
   },
   "outputs": [],
   "source": [
    "chart_utils.flow_chart_from_shape_trip_row(line_17.iloc[0], stop_times=line_17_st, ridership=source_ridership,\n",
    "                              ridership_data_route='Rt 17', how='time')"
   ]
  },
  {
   "cell_type": "markdown",
   "id": "d482eab0-7a34-410e-8a33-3864b9ab1266",
   "metadata": {},
   "source": [
    "## Route 17 - other direction"
   ]
  },
  {
   "cell_type": "markdown",
   "id": "1a9b9a7d-c277-4355-a0e9-733800d38e35",
   "metadata": {},
   "source": [
    "### By Distance Traveled"
   ]
  },
  {
   "cell_type": "code",
   "execution_count": null,
   "id": "079a9814-5304-4104-b5f6-f1a44ff1aac3",
   "metadata": {
    "tags": []
   },
   "outputs": [],
   "source": [
    "chart_utils.flow_chart_from_shape_trip_row(line_17.iloc[1], stop_times=line_17_st, ridership=source_ridership,\n",
    "                              ridership_data_route='Rt 17')"
   ]
  },
  {
   "cell_type": "markdown",
   "id": "b98a0abc-35ac-46f5-b099-c9d5186e5400",
   "metadata": {},
   "source": [
    "### By Travel Time"
   ]
  },
  {
   "cell_type": "code",
   "execution_count": null,
   "id": "dffd6427-efc8-4c8c-81eb-b65786ba3859",
   "metadata": {
    "tags": []
   },
   "outputs": [],
   "source": [
    "chart_utils.flow_chart_from_shape_trip_row(line_17.iloc[1], stop_times=line_17_st, ridership=source_ridership,\n",
    "                              ridership_data_route='Rt 17', how='time')"
   ]
  },
  {
   "cell_type": "markdown",
   "id": "820b5cb5-9966-4709-871c-1138f59121ed",
   "metadata": {},
   "source": [
    "## Route 39\n",
    "\n",
    "* 1/day Fullerton - Palm Springs\n",
    "* 1/day Fulletron - Palm Springs - Indio"
   ]
  },
  {
   "cell_type": "markdown",
   "id": "7aeea1db-fc2d-46bf-84bc-da4a0101e214",
   "metadata": {},
   "source": [
    "### By Distance Traveled"
   ]
  },
  {
   "cell_type": "code",
   "execution_count": null,
   "id": "20bf2077-d2b1-4200-8de9-977b587f61a1",
   "metadata": {
    "tags": []
   },
   "outputs": [],
   "source": [
    "chart_utils.flow_chart_from_shape_trip_row(line_39.iloc[0], stop_times=line_39_st, ridership=source_ridership,\n",
    "                              ridership_data_route='Rt 39')"
   ]
  },
  {
   "cell_type": "markdown",
   "id": "968e5a86-3903-490d-b956-5b2c88aa2f25",
   "metadata": {},
   "source": [
    "### By Travel Time"
   ]
  },
  {
   "cell_type": "code",
   "execution_count": null,
   "id": "5e1cf67a-bc4b-428c-9ab6-6c7003cad52e",
   "metadata": {
    "tags": []
   },
   "outputs": [],
   "source": [
    "chart_utils.flow_chart_from_shape_trip_row(line_39.iloc[0], stop_times=line_39_st, ridership=source_ridership,\n",
    "                              ridership_data_route='Rt 39', how='time')"
   ]
  },
  {
   "cell_type": "markdown",
   "id": "d1a79310-a36d-4fc8-ac0c-8e1907872deb",
   "metadata": {},
   "source": [
    "## Route 39 - other direction"
   ]
  },
  {
   "cell_type": "markdown",
   "id": "8d52f52b-efe1-43ec-92e3-ab1c9af0d0f1",
   "metadata": {},
   "source": [
    "### By Distance Traveled"
   ]
  },
  {
   "cell_type": "code",
   "execution_count": null,
   "id": "5ebcba23-c1a9-4a7e-99f9-342de29247ef",
   "metadata": {
    "tags": []
   },
   "outputs": [],
   "source": [
    "chart_utils.flow_chart_from_shape_trip_row(line_39.iloc[1], stop_times=line_39_st, ridership=source_ridership,\n",
    "                              ridership_data_route='Rt 39')"
   ]
  },
  {
   "cell_type": "markdown",
   "id": "24edddab-5c51-4fa3-a195-d1e4d4442755",
   "metadata": {},
   "source": [
    "### By Travel Time"
   ]
  },
  {
   "cell_type": "code",
   "execution_count": null,
   "id": "bb407c8d-3c53-46c7-875d-5cc603d00832",
   "metadata": {
    "tags": []
   },
   "outputs": [],
   "source": [
    "chart_utils.flow_chart_from_shape_trip_row(line_39.iloc[1], stop_times=line_39_st, ridership=source_ridership,\n",
    "                              ridership_data_route='Rt 39', how='time')"
   ]
  }
 ],
 "metadata": {
  "kernelspec": {
   "display_name": "Python 3 (ipykernel)",
   "language": "python",
   "name": "python3"
  },
  "language_info": {
   "codemirror_mode": {
    "name": "ipython",
    "version": 3
   },
   "file_extension": ".py",
   "mimetype": "text/x-python",
   "name": "python",
   "nbconvert_exporter": "python",
   "pygments_lexer": "ipython3",
   "version": "3.11.10"
  },
  "widgets": {
   "application/vnd.jupyter.widget-state+json": {
    "state": {},
    "version_major": 2,
    "version_minor": 0
   }
  }
 },
 "nbformat": 4,
 "nbformat_minor": 5
}
