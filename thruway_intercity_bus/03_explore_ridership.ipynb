{
 "cells": [
  {
   "cell_type": "code",
   "execution_count": 1,
   "id": "a31d74df-cbb5-4066-ae86-1d105ee39a53",
   "metadata": {
    "tags": []
   },
   "outputs": [],
   "source": [
    "import pandas as pd\n",
    "import geopandas as gpd\n",
    "from calitp_data_analysis.sql import query_sql\n",
    "from calitp_data_analysis.gcs_geopandas import GCSGeoPandas\n",
    "from calitp_data_analysis.geography_utils import CA_NAD83Albers_m, WGS84\n",
    "gcsgp = GCSGeoPandas()\n",
    "from shared_utils import gtfs_utils_v2\n",
    "from shared_utils.rt_utils import show_full_df\n",
    "\n",
    "import utils\n",
    "import altair as alt"
   ]
  },
  {
   "cell_type": "code",
   "execution_count": 2,
   "id": "5e367ceb-c9b2-4edf-8df6-2d3048648588",
   "metadata": {
    "tags": []
   },
   "outputs": [],
   "source": [
    "path = 'gs://calitp-analytics-data/data-analyses/thruway_intercity_bus/source_data/25.09.08CABusODPairRidershipFFY24-FFY25TD.xlsx'"
   ]
  },
  {
   "cell_type": "code",
   "execution_count": 27,
   "id": "127fad8b-fada-4f1e-a1c9-e5ef11d1336f",
   "metadata": {
    "tags": []
   },
   "outputs": [],
   "source": [
    "source_ridership = pd.read_excel(path)\n",
    "source_ridership = source_ridership.assign(od = source_ridership.orig + '->' + source_ridership.dest)"
   ]
  },
  {
   "cell_type": "code",
   "execution_count": 28,
   "id": "33531892-e630-4cf9-b4da-e87900fef3c3",
   "metadata": {
    "tags": []
   },
   "outputs": [
    {
     "data": {
      "text/html": [
       "<div>\n",
       "<style scoped>\n",
       "    .dataframe tbody tr th:only-of-type {\n",
       "        vertical-align: middle;\n",
       "    }\n",
       "\n",
       "    .dataframe tbody tr th {\n",
       "        vertical-align: top;\n",
       "    }\n",
       "\n",
       "    .dataframe thead th {\n",
       "        text-align: right;\n",
       "    }\n",
       "</style>\n",
       "<table border=\"1\" class=\"dataframe\">\n",
       "  <thead>\n",
       "    <tr style=\"text-align: right;\">\n",
       "      <th></th>\n",
       "      <th>ca_bus_route</th>\n",
       "      <th>orig</th>\n",
       "      <th>dest</th>\n",
       "      <th>trip_month</th>\n",
       "      <th>trip_year</th>\n",
       "      <th>ridership</th>\n",
       "      <th>revenue</th>\n",
       "      <th>od</th>\n",
       "    </tr>\n",
       "  </thead>\n",
       "  <tbody>\n",
       "    <tr>\n",
       "      <th>0</th>\n",
       "      <td>Rt 03</td>\n",
       "      <td>ARN</td>\n",
       "      <td>BKY</td>\n",
       "      <td>12</td>\n",
       "      <td>2023</td>\n",
       "      <td>1</td>\n",
       "      <td>26.33</td>\n",
       "      <td>ARN-&gt;BKY</td>\n",
       "    </tr>\n",
       "    <tr>\n",
       "      <th>1</th>\n",
       "      <td>Rt 03</td>\n",
       "      <td>ARN</td>\n",
       "      <td>BKY</td>\n",
       "      <td>1</td>\n",
       "      <td>2024</td>\n",
       "      <td>2</td>\n",
       "      <td>39.00</td>\n",
       "      <td>ARN-&gt;BKY</td>\n",
       "    </tr>\n",
       "    <tr>\n",
       "      <th>2</th>\n",
       "      <td>Rt 03</td>\n",
       "      <td>ARN</td>\n",
       "      <td>BKY</td>\n",
       "      <td>2</td>\n",
       "      <td>2024</td>\n",
       "      <td>7</td>\n",
       "      <td>141.59</td>\n",
       "      <td>ARN-&gt;BKY</td>\n",
       "    </tr>\n",
       "    <tr>\n",
       "      <th>3</th>\n",
       "      <td>Rt 03</td>\n",
       "      <td>ARN</td>\n",
       "      <td>BKY</td>\n",
       "      <td>3</td>\n",
       "      <td>2024</td>\n",
       "      <td>7</td>\n",
       "      <td>165.14</td>\n",
       "      <td>ARN-&gt;BKY</td>\n",
       "    </tr>\n",
       "    <tr>\n",
       "      <th>4</th>\n",
       "      <td>Rt 03</td>\n",
       "      <td>ARN</td>\n",
       "      <td>BKY</td>\n",
       "      <td>4</td>\n",
       "      <td>2024</td>\n",
       "      <td>2</td>\n",
       "      <td>41.92</td>\n",
       "      <td>ARN-&gt;BKY</td>\n",
       "    </tr>\n",
       "    <tr>\n",
       "      <th>...</th>\n",
       "      <td>...</td>\n",
       "      <td>...</td>\n",
       "      <td>...</td>\n",
       "      <td>...</td>\n",
       "      <td>...</td>\n",
       "      <td>...</td>\n",
       "      <td>...</td>\n",
       "      <td>...</td>\n",
       "    </tr>\n",
       "    <tr>\n",
       "      <th>20475</th>\n",
       "      <td>Rt 99</td>\n",
       "      <td>TRU</td>\n",
       "      <td>SFC</td>\n",
       "      <td>5</td>\n",
       "      <td>2024</td>\n",
       "      <td>2</td>\n",
       "      <td>79.66</td>\n",
       "      <td>TRU-&gt;SFC</td>\n",
       "    </tr>\n",
       "    <tr>\n",
       "      <th>20476</th>\n",
       "      <td>Rt 99</td>\n",
       "      <td>TRU</td>\n",
       "      <td>SFC</td>\n",
       "      <td>6</td>\n",
       "      <td>2024</td>\n",
       "      <td>1</td>\n",
       "      <td>39.83</td>\n",
       "      <td>TRU-&gt;SFC</td>\n",
       "    </tr>\n",
       "    <tr>\n",
       "      <th>20477</th>\n",
       "      <td>Rt 99</td>\n",
       "      <td>USF</td>\n",
       "      <td>RLP</td>\n",
       "      <td>6</td>\n",
       "      <td>2025</td>\n",
       "      <td>0</td>\n",
       "      <td>3241.10</td>\n",
       "      <td>USF-&gt;RLP</td>\n",
       "    </tr>\n",
       "    <tr>\n",
       "      <th>20478</th>\n",
       "      <td>Rt 99</td>\n",
       "      <td>USF</td>\n",
       "      <td>RLP</td>\n",
       "      <td>7</td>\n",
       "      <td>2025</td>\n",
       "      <td>0</td>\n",
       "      <td>2495.00</td>\n",
       "      <td>USF-&gt;RLP</td>\n",
       "    </tr>\n",
       "    <tr>\n",
       "      <th>20479</th>\n",
       "      <td>Rt 99</td>\n",
       "      <td>USF</td>\n",
       "      <td>RLP</td>\n",
       "      <td>8</td>\n",
       "      <td>2025</td>\n",
       "      <td>0</td>\n",
       "      <td>3343.30</td>\n",
       "      <td>USF-&gt;RLP</td>\n",
       "    </tr>\n",
       "  </tbody>\n",
       "</table>\n",
       "<p>20480 rows × 8 columns</p>\n",
       "</div>"
      ],
      "text/plain": [
       "      ca_bus_route orig dest  trip_month  trip_year  ridership  revenue  \\\n",
       "0            Rt 03  ARN  BKY          12       2023          1    26.33   \n",
       "1            Rt 03  ARN  BKY           1       2024          2    39.00   \n",
       "2            Rt 03  ARN  BKY           2       2024          7   141.59   \n",
       "3            Rt 03  ARN  BKY           3       2024          7   165.14   \n",
       "4            Rt 03  ARN  BKY           4       2024          2    41.92   \n",
       "...            ...  ...  ...         ...        ...        ...      ...   \n",
       "20475        Rt 99  TRU  SFC           5       2024          2    79.66   \n",
       "20476        Rt 99  TRU  SFC           6       2024          1    39.83   \n",
       "20477        Rt 99  USF  RLP           6       2025          0  3241.10   \n",
       "20478        Rt 99  USF  RLP           7       2025          0  2495.00   \n",
       "20479        Rt 99  USF  RLP           8       2025          0  3343.30   \n",
       "\n",
       "             od  \n",
       "0      ARN->BKY  \n",
       "1      ARN->BKY  \n",
       "2      ARN->BKY  \n",
       "3      ARN->BKY  \n",
       "4      ARN->BKY  \n",
       "...         ...  \n",
       "20475  TRU->SFC  \n",
       "20476  TRU->SFC  \n",
       "20477  USF->RLP  \n",
       "20478  USF->RLP  \n",
       "20479  USF->RLP  \n",
       "\n",
       "[20480 rows x 8 columns]"
      ]
     },
     "execution_count": 28,
     "metadata": {},
     "output_type": "execute_result"
    }
   ],
   "source": [
    "source_ridership"
   ]
  },
  {
   "cell_type": "code",
   "execution_count": 6,
   "id": "0dac8084-3ab2-4488-aa82-19e746836c93",
   "metadata": {
    "tags": []
   },
   "outputs": [],
   "source": [
    "all_years_group = source_ridership.groupby(['ca_bus_route', 'od'])[['ridership', 'revenue']].sum()"
   ]
  },
  {
   "cell_type": "code",
   "execution_count": 7,
   "id": "a00a0896-ecdc-4072-bab7-7a928858d120",
   "metadata": {
    "tags": []
   },
   "outputs": [
    {
     "data": {
      "text/html": [
       "<div>\n",
       "<style scoped>\n",
       "    .dataframe tbody tr th:only-of-type {\n",
       "        vertical-align: middle;\n",
       "    }\n",
       "\n",
       "    .dataframe tbody tr th {\n",
       "        vertical-align: top;\n",
       "    }\n",
       "\n",
       "    .dataframe thead th {\n",
       "        text-align: right;\n",
       "    }\n",
       "</style>\n",
       "<table border=\"1\" class=\"dataframe\">\n",
       "  <thead>\n",
       "    <tr style=\"text-align: right;\">\n",
       "      <th></th>\n",
       "      <th></th>\n",
       "      <th>ridership</th>\n",
       "      <th>revenue</th>\n",
       "    </tr>\n",
       "    <tr>\n",
       "      <th>ca_bus_route</th>\n",
       "      <th>od</th>\n",
       "      <th></th>\n",
       "      <th></th>\n",
       "    </tr>\n",
       "  </thead>\n",
       "  <tbody>\n",
       "    <tr>\n",
       "      <th rowspan=\"5\" valign=\"top\">Rt 03</th>\n",
       "      <th>ARN-&gt;BKY</th>\n",
       "      <td>19</td>\n",
       "      <td>413.98</td>\n",
       "    </tr>\n",
       "    <tr>\n",
       "      <th>ARN-&gt;DAV</th>\n",
       "      <td>1</td>\n",
       "      <td>10.00</td>\n",
       "    </tr>\n",
       "    <tr>\n",
       "      <th>ARN-&gt;HAY</th>\n",
       "      <td>0</td>\n",
       "      <td>200.70</td>\n",
       "    </tr>\n",
       "    <tr>\n",
       "      <th>ARN-&gt;MTZ</th>\n",
       "      <td>5</td>\n",
       "      <td>155.90</td>\n",
       "    </tr>\n",
       "    <tr>\n",
       "      <th>ARN-&gt;OAC</th>\n",
       "      <td>1</td>\n",
       "      <td>19.50</td>\n",
       "    </tr>\n",
       "    <tr>\n",
       "      <th>...</th>\n",
       "      <th>...</th>\n",
       "      <td>...</td>\n",
       "      <td>...</td>\n",
       "    </tr>\n",
       "    <tr>\n",
       "      <th rowspan=\"5\" valign=\"top\">Rt 99</th>\n",
       "      <th>SUI-&gt;SAC</th>\n",
       "      <td>1</td>\n",
       "      <td>10.70</td>\n",
       "    </tr>\n",
       "    <tr>\n",
       "      <th>SUI-&gt;SFC</th>\n",
       "      <td>347</td>\n",
       "      <td>4572.57</td>\n",
       "    </tr>\n",
       "    <tr>\n",
       "      <th>TRN-&gt;VOU</th>\n",
       "      <td>0</td>\n",
       "      <td>324.00</td>\n",
       "    </tr>\n",
       "    <tr>\n",
       "      <th>TRU-&gt;SFC</th>\n",
       "      <td>5</td>\n",
       "      <td>199.15</td>\n",
       "    </tr>\n",
       "    <tr>\n",
       "      <th>USF-&gt;RLP</th>\n",
       "      <td>0</td>\n",
       "      <td>9079.40</td>\n",
       "    </tr>\n",
       "  </tbody>\n",
       "</table>\n",
       "<p>1759 rows × 2 columns</p>\n",
       "</div>"
      ],
      "text/plain": [
       "                       ridership  revenue\n",
       "ca_bus_route od                          \n",
       "Rt 03        ARN->BKY         19   413.98\n",
       "             ARN->DAV          1    10.00\n",
       "             ARN->HAY          0   200.70\n",
       "             ARN->MTZ          5   155.90\n",
       "             ARN->OAC          1    19.50\n",
       "...                          ...      ...\n",
       "Rt 99        SUI->SAC          1    10.70\n",
       "             SUI->SFC        347  4572.57\n",
       "             TRN->VOU          0   324.00\n",
       "             TRU->SFC          5   199.15\n",
       "             USF->RLP          0  9079.40\n",
       "\n",
       "[1759 rows x 2 columns]"
      ]
     },
     "execution_count": 7,
     "metadata": {},
     "output_type": "execute_result"
    }
   ],
   "source": [
    "all_years_group"
   ]
  },
  {
   "cell_type": "code",
   "execution_count": 8,
   "id": "812ffa84-f8ea-497b-887b-b96ef51a2ac1",
   "metadata": {
    "tags": []
   },
   "outputs": [
    {
     "data": {
      "text/plain": [
       "array(['Rt 03', 'Rt 06', 'Rt 07', 'Rt 10', 'Rt 15', 'Rt 17', 'Rt 18',\n",
       "       'Rt 19', 'Rt 1A', 'Rt 1B', 'Rt 1C', 'Rt 20', 'Rt 20 - B', 'Rt 21',\n",
       "       'Rt 35', 'Rt 39', 'Rt 3R', 'Rt 56', 'Rt 68', 'Rt 99'], dtype=object)"
      ]
     },
     "execution_count": 8,
     "metadata": {},
     "output_type": "execute_result"
    }
   ],
   "source": [
    "source_ridership.ca_bus_route.unique()"
   ]
  },
  {
   "cell_type": "code",
   "execution_count": 9,
   "id": "3a3c400d-e21b-41fd-bf71-02fbdbab6d0a",
   "metadata": {
    "tags": []
   },
   "outputs": [],
   "source": [
    "def determine_direction(row, sequence_dict):\n",
    "    if sequence_dict[row.orig] < sequence_dict[row.dest]:\n",
    "        return 'sb'\n",
    "    elif sequence_dict[row.orig] > sequence_dict[row.dest]:\n",
    "        return 'nb'\n",
    "    else:\n",
    "        return ''"
   ]
  },
  {
   "cell_type": "code",
   "execution_count": 10,
   "id": "55db8447-12f9-4451-a688-63bcc6914218",
   "metadata": {
    "tags": []
   },
   "outputs": [],
   "source": [
    "def running_ridership(df, sequence_dict):\n",
    "\n",
    "    running_df = []\n",
    "    for stn in sequence_dict.keys():\n",
    "        stn_seq = sequence_dict[stn]\n",
    "        if stn_seq < max(sequence_dict.values()):\n",
    "            df_at = df.query('orig_seq <= @stn_seq & dest_seq > @stn_seq').assign(departing_station = str(stn_seq) + '_' + stn)\n",
    "            running_df += [df_at]\n",
    "    return pd.concat(running_df)"
   ]
  },
  {
   "cell_type": "markdown",
   "id": "640be773-04cb-41a1-ab56-a9b3127a567f",
   "metadata": {},
   "source": [
    "### quick test route 1c"
   ]
  },
  {
   "cell_type": "code",
   "execution_count": 11,
   "id": "a3a3974f-ec5a-4836-8831-bf659ef8cc01",
   "metadata": {
    "tags": []
   },
   "outputs": [],
   "source": [
    "sb_1c = ['BFD', 'NHL', 'BUR', 'VNC', 'WES', 'SMN']"
   ]
  },
  {
   "cell_type": "code",
   "execution_count": 12,
   "id": "351387dd-cdd7-4168-bc0f-bfcede14c6c4",
   "metadata": {
    "tags": []
   },
   "outputs": [],
   "source": [
    "sb_1c = dict(zip(sb_1c, range(len(sb_1c))))"
   ]
  },
  {
   "cell_type": "code",
   "execution_count": 13,
   "id": "deab95f7-cd3c-4abb-8ac4-d5fae6a813b5",
   "metadata": {
    "tags": []
   },
   "outputs": [
    {
     "data": {
      "text/plain": [
       "{'BFD': 0, 'NHL': 1, 'BUR': 2, 'VNC': 3, 'WES': 4, 'SMN': 5}"
      ]
     },
     "execution_count": 13,
     "metadata": {},
     "output_type": "execute_result"
    }
   ],
   "source": [
    "sb_1c"
   ]
  },
  {
   "cell_type": "code",
   "execution_count": 14,
   "id": "ffa4ea18-3216-4e60-bbfb-04c3f8ccee2b",
   "metadata": {
    "tags": []
   },
   "outputs": [],
   "source": [
    "test_1c = source_ridership.query('trip_year == 2025 & trip_month == 4 & ca_bus_route == \"Rt 1C\"')"
   ]
  },
  {
   "cell_type": "code",
   "execution_count": 15,
   "id": "49ccb8bf-ae35-4135-a1b1-250b299852cd",
   "metadata": {
    "tags": []
   },
   "outputs": [],
   "source": [
    "test_1c = test_1c.assign(direction = test_1c.apply(determine_direction, axis=1, sequence_dict = sb_1c))"
   ]
  },
  {
   "cell_type": "code",
   "execution_count": 16,
   "id": "28da3540-d192-4988-8c9d-e25d883ce471",
   "metadata": {
    "tags": []
   },
   "outputs": [],
   "source": [
    "test_1c = test_1c.query('direction == \"sb\"') "
   ]
  },
  {
   "cell_type": "code",
   "execution_count": 17,
   "id": "ed738f7b-1f7e-45ec-bd2c-f28e1d240851",
   "metadata": {
    "tags": []
   },
   "outputs": [],
   "source": [
    "test_1c = test_1c.assign(orig_seq = test_1c.orig.apply(lambda x: sb_1c[x]),\n",
    "              dest_seq = test_1c.dest.apply(lambda x: sb_1c[x]))"
   ]
  },
  {
   "cell_type": "code",
   "execution_count": 18,
   "id": "57328dda-1515-4329-9337-8d0957e82e93",
   "metadata": {
    "tags": []
   },
   "outputs": [
    {
     "data": {
      "text/plain": [
       "{'BFD': 0, 'NHL': 1, 'BUR': 2, 'VNC': 3, 'WES': 4, 'SMN': 5}"
      ]
     },
     "execution_count": 18,
     "metadata": {},
     "output_type": "execute_result"
    }
   ],
   "source": [
    "sb_1c"
   ]
  },
  {
   "cell_type": "code",
   "execution_count": 19,
   "id": "5bd0e3a7-6597-4d4b-abfd-430f7406bb35",
   "metadata": {
    "tags": []
   },
   "outputs": [
    {
     "data": {
      "text/plain": [
       "dict_keys(['BFD', 'NHL', 'BUR', 'VNC', 'WES', 'SMN'])"
      ]
     },
     "execution_count": 19,
     "metadata": {},
     "output_type": "execute_result"
    }
   ],
   "source": [
    "sb_1c.keys()"
   ]
  },
  {
   "cell_type": "code",
   "execution_count": 20,
   "id": "e2300c4f-798e-4c02-b18a-1dc9b94c6ec6",
   "metadata": {
    "tags": []
   },
   "outputs": [],
   "source": [
    "test = list(zip(['0_BFD'] * len(range(50)), list(range(50))))"
   ]
  },
  {
   "cell_type": "code",
   "execution_count": 21,
   "id": "704b2161-dc7c-437a-9262-241f009d74d1",
   "metadata": {
    "tags": []
   },
   "outputs": [],
   "source": [
    "df = pd.DataFrame(test, columns=['departing_station', 'distance'])"
   ]
  },
  {
   "cell_type": "code",
   "execution_count": 22,
   "id": "c29355ec-43b6-4ff9-ad38-285a5d796ad3",
   "metadata": {
    "tags": []
   },
   "outputs": [],
   "source": [
    "distance_dict = {'0_BFD': (0, 50), '1_NHL': (50, 75), '2_BUR': (75, 82), '3_VNC': (82, 97), '4_WES': (97, 102)}"
   ]
  },
  {
   "cell_type": "code",
   "execution_count": 23,
   "id": "04c9235d-b97c-4f61-8f74-67a581bdd523",
   "metadata": {
    "tags": []
   },
   "outputs": [],
   "source": [
    "dfs = []\n",
    "for stn in distance_dict.keys():\n",
    "    dist_range = range(distance_dict[stn][0], distance_dict[stn][1])\n",
    "    enum_dist = list(zip([stn] * len(dist_range), list(dist_range)))\n",
    "    dfs += [pd.DataFrame(enum_dist, columns=['departing_station', 'distance'])]"
   ]
  },
  {
   "cell_type": "code",
   "execution_count": 24,
   "id": "483576ca-c576-4e75-b6dd-cf5b1fe4d9fe",
   "metadata": {
    "tags": []
   },
   "outputs": [],
   "source": [
    "df = pd.concat(dfs)"
   ]
  },
  {
   "cell_type": "code",
   "execution_count": 25,
   "id": "40f8ed84-25c5-4afe-958c-ac3b03246659",
   "metadata": {
    "tags": []
   },
   "outputs": [
    {
     "data": {
      "text/html": [
       "<div>\n",
       "<style scoped>\n",
       "    .dataframe tbody tr th:only-of-type {\n",
       "        vertical-align: middle;\n",
       "    }\n",
       "\n",
       "    .dataframe tbody tr th {\n",
       "        vertical-align: top;\n",
       "    }\n",
       "\n",
       "    .dataframe thead th {\n",
       "        text-align: right;\n",
       "    }\n",
       "</style>\n",
       "<table border=\"1\" class=\"dataframe\">\n",
       "  <thead>\n",
       "    <tr style=\"text-align: right;\">\n",
       "      <th></th>\n",
       "      <th>departing_station</th>\n",
       "      <th>distance</th>\n",
       "    </tr>\n",
       "  </thead>\n",
       "  <tbody>\n",
       "    <tr>\n",
       "      <th>0</th>\n",
       "      <td>0_BFD</td>\n",
       "      <td>0</td>\n",
       "    </tr>\n",
       "    <tr>\n",
       "      <th>1</th>\n",
       "      <td>0_BFD</td>\n",
       "      <td>1</td>\n",
       "    </tr>\n",
       "    <tr>\n",
       "      <th>2</th>\n",
       "      <td>0_BFD</td>\n",
       "      <td>2</td>\n",
       "    </tr>\n",
       "    <tr>\n",
       "      <th>3</th>\n",
       "      <td>0_BFD</td>\n",
       "      <td>3</td>\n",
       "    </tr>\n",
       "    <tr>\n",
       "      <th>4</th>\n",
       "      <td>0_BFD</td>\n",
       "      <td>4</td>\n",
       "    </tr>\n",
       "    <tr>\n",
       "      <th>...</th>\n",
       "      <td>...</td>\n",
       "      <td>...</td>\n",
       "    </tr>\n",
       "    <tr>\n",
       "      <th>0</th>\n",
       "      <td>4_WES</td>\n",
       "      <td>97</td>\n",
       "    </tr>\n",
       "    <tr>\n",
       "      <th>1</th>\n",
       "      <td>4_WES</td>\n",
       "      <td>98</td>\n",
       "    </tr>\n",
       "    <tr>\n",
       "      <th>2</th>\n",
       "      <td>4_WES</td>\n",
       "      <td>99</td>\n",
       "    </tr>\n",
       "    <tr>\n",
       "      <th>3</th>\n",
       "      <td>4_WES</td>\n",
       "      <td>100</td>\n",
       "    </tr>\n",
       "    <tr>\n",
       "      <th>4</th>\n",
       "      <td>4_WES</td>\n",
       "      <td>101</td>\n",
       "    </tr>\n",
       "  </tbody>\n",
       "</table>\n",
       "<p>102 rows × 2 columns</p>\n",
       "</div>"
      ],
      "text/plain": [
       "   departing_station  distance\n",
       "0              0_BFD         0\n",
       "1              0_BFD         1\n",
       "2              0_BFD         2\n",
       "3              0_BFD         3\n",
       "4              0_BFD         4\n",
       "..               ...       ...\n",
       "0              4_WES        97\n",
       "1              4_WES        98\n",
       "2              4_WES        99\n",
       "3              4_WES       100\n",
       "4              4_WES       101\n",
       "\n",
       "[102 rows x 2 columns]"
      ]
     },
     "execution_count": 25,
     "metadata": {},
     "output_type": "execute_result"
    }
   ],
   "source": [
    "df"
   ]
  },
  {
   "cell_type": "code",
   "execution_count": 26,
   "id": "748827a8-fd79-4fc0-8351-7d586f7ee569",
   "metadata": {
    "tags": []
   },
   "outputs": [],
   "source": [
    "with_distance = running_ridership(test_1c, sb_1c).merge(df, on = 'departing_station')"
   ]
  },
  {
   "cell_type": "code",
   "execution_count": 152,
   "id": "0149e553-a74c-45e8-b596-9e3e6f697697",
   "metadata": {
    "tags": []
   },
   "outputs": [
    {
     "data": {
      "text/html": [
       "<div>\n",
       "<style scoped>\n",
       "    .dataframe tbody tr th:only-of-type {\n",
       "        vertical-align: middle;\n",
       "    }\n",
       "\n",
       "    .dataframe tbody tr th {\n",
       "        vertical-align: top;\n",
       "    }\n",
       "\n",
       "    .dataframe thead th {\n",
       "        text-align: right;\n",
       "    }\n",
       "</style>\n",
       "<table border=\"1\" class=\"dataframe\">\n",
       "  <thead>\n",
       "    <tr style=\"text-align: right;\">\n",
       "      <th></th>\n",
       "      <th>ca_bus_route</th>\n",
       "      <th>orig</th>\n",
       "      <th>dest</th>\n",
       "      <th>trip_month</th>\n",
       "      <th>trip_year</th>\n",
       "      <th>ridership</th>\n",
       "      <th>revenue</th>\n",
       "      <th>od</th>\n",
       "      <th>direction</th>\n",
       "      <th>orig_seq</th>\n",
       "      <th>dest_seq</th>\n",
       "      <th>departing_station</th>\n",
       "      <th>distance</th>\n",
       "    </tr>\n",
       "  </thead>\n",
       "  <tbody>\n",
       "    <tr>\n",
       "      <th>0</th>\n",
       "      <td>Rt 1C</td>\n",
       "      <td>BFD</td>\n",
       "      <td>BUR</td>\n",
       "      <td>4</td>\n",
       "      <td>2025</td>\n",
       "      <td>231</td>\n",
       "      <td>3278.95</td>\n",
       "      <td>BFD-&gt;BUR</td>\n",
       "      <td>sb</td>\n",
       "      <td>0</td>\n",
       "      <td>2</td>\n",
       "      <td>0_BFD</td>\n",
       "      <td>0</td>\n",
       "    </tr>\n",
       "    <tr>\n",
       "      <th>1</th>\n",
       "      <td>Rt 1C</td>\n",
       "      <td>BFD</td>\n",
       "      <td>BUR</td>\n",
       "      <td>4</td>\n",
       "      <td>2025</td>\n",
       "      <td>231</td>\n",
       "      <td>3278.95</td>\n",
       "      <td>BFD-&gt;BUR</td>\n",
       "      <td>sb</td>\n",
       "      <td>0</td>\n",
       "      <td>2</td>\n",
       "      <td>0_BFD</td>\n",
       "      <td>1</td>\n",
       "    </tr>\n",
       "    <tr>\n",
       "      <th>2</th>\n",
       "      <td>Rt 1C</td>\n",
       "      <td>BFD</td>\n",
       "      <td>BUR</td>\n",
       "      <td>4</td>\n",
       "      <td>2025</td>\n",
       "      <td>231</td>\n",
       "      <td>3278.95</td>\n",
       "      <td>BFD-&gt;BUR</td>\n",
       "      <td>sb</td>\n",
       "      <td>0</td>\n",
       "      <td>2</td>\n",
       "      <td>0_BFD</td>\n",
       "      <td>2</td>\n",
       "    </tr>\n",
       "    <tr>\n",
       "      <th>3</th>\n",
       "      <td>Rt 1C</td>\n",
       "      <td>BFD</td>\n",
       "      <td>BUR</td>\n",
       "      <td>4</td>\n",
       "      <td>2025</td>\n",
       "      <td>231</td>\n",
       "      <td>3278.95</td>\n",
       "      <td>BFD-&gt;BUR</td>\n",
       "      <td>sb</td>\n",
       "      <td>0</td>\n",
       "      <td>2</td>\n",
       "      <td>0_BFD</td>\n",
       "      <td>3</td>\n",
       "    </tr>\n",
       "    <tr>\n",
       "      <th>4</th>\n",
       "      <td>Rt 1C</td>\n",
       "      <td>BFD</td>\n",
       "      <td>BUR</td>\n",
       "      <td>4</td>\n",
       "      <td>2025</td>\n",
       "      <td>231</td>\n",
       "      <td>3278.95</td>\n",
       "      <td>BFD-&gt;BUR</td>\n",
       "      <td>sb</td>\n",
       "      <td>0</td>\n",
       "      <td>2</td>\n",
       "      <td>0_BFD</td>\n",
       "      <td>4</td>\n",
       "    </tr>\n",
       "    <tr>\n",
       "      <th>...</th>\n",
       "      <td>...</td>\n",
       "      <td>...</td>\n",
       "      <td>...</td>\n",
       "      <td>...</td>\n",
       "      <td>...</td>\n",
       "      <td>...</td>\n",
       "      <td>...</td>\n",
       "      <td>...</td>\n",
       "      <td>...</td>\n",
       "      <td>...</td>\n",
       "      <td>...</td>\n",
       "      <td>...</td>\n",
       "      <td>...</td>\n",
       "    </tr>\n",
       "    <tr>\n",
       "      <th>641</th>\n",
       "      <td>Rt 1C</td>\n",
       "      <td>VNC</td>\n",
       "      <td>SMN</td>\n",
       "      <td>4</td>\n",
       "      <td>2025</td>\n",
       "      <td>21</td>\n",
       "      <td>113.65</td>\n",
       "      <td>VNC-&gt;SMN</td>\n",
       "      <td>sb</td>\n",
       "      <td>3</td>\n",
       "      <td>5</td>\n",
       "      <td>4_WES</td>\n",
       "      <td>97</td>\n",
       "    </tr>\n",
       "    <tr>\n",
       "      <th>642</th>\n",
       "      <td>Rt 1C</td>\n",
       "      <td>VNC</td>\n",
       "      <td>SMN</td>\n",
       "      <td>4</td>\n",
       "      <td>2025</td>\n",
       "      <td>21</td>\n",
       "      <td>113.65</td>\n",
       "      <td>VNC-&gt;SMN</td>\n",
       "      <td>sb</td>\n",
       "      <td>3</td>\n",
       "      <td>5</td>\n",
       "      <td>4_WES</td>\n",
       "      <td>98</td>\n",
       "    </tr>\n",
       "    <tr>\n",
       "      <th>643</th>\n",
       "      <td>Rt 1C</td>\n",
       "      <td>VNC</td>\n",
       "      <td>SMN</td>\n",
       "      <td>4</td>\n",
       "      <td>2025</td>\n",
       "      <td>21</td>\n",
       "      <td>113.65</td>\n",
       "      <td>VNC-&gt;SMN</td>\n",
       "      <td>sb</td>\n",
       "      <td>3</td>\n",
       "      <td>5</td>\n",
       "      <td>4_WES</td>\n",
       "      <td>99</td>\n",
       "    </tr>\n",
       "    <tr>\n",
       "      <th>644</th>\n",
       "      <td>Rt 1C</td>\n",
       "      <td>VNC</td>\n",
       "      <td>SMN</td>\n",
       "      <td>4</td>\n",
       "      <td>2025</td>\n",
       "      <td>21</td>\n",
       "      <td>113.65</td>\n",
       "      <td>VNC-&gt;SMN</td>\n",
       "      <td>sb</td>\n",
       "      <td>3</td>\n",
       "      <td>5</td>\n",
       "      <td>4_WES</td>\n",
       "      <td>100</td>\n",
       "    </tr>\n",
       "    <tr>\n",
       "      <th>645</th>\n",
       "      <td>Rt 1C</td>\n",
       "      <td>VNC</td>\n",
       "      <td>SMN</td>\n",
       "      <td>4</td>\n",
       "      <td>2025</td>\n",
       "      <td>21</td>\n",
       "      <td>113.65</td>\n",
       "      <td>VNC-&gt;SMN</td>\n",
       "      <td>sb</td>\n",
       "      <td>3</td>\n",
       "      <td>5</td>\n",
       "      <td>4_WES</td>\n",
       "      <td>101</td>\n",
       "    </tr>\n",
       "  </tbody>\n",
       "</table>\n",
       "<p>646 rows × 13 columns</p>\n",
       "</div>"
      ],
      "text/plain": [
       "    ca_bus_route orig dest  trip_month  trip_year  ridership  revenue  \\\n",
       "0          Rt 1C  BFD  BUR           4       2025        231  3278.95   \n",
       "1          Rt 1C  BFD  BUR           4       2025        231  3278.95   \n",
       "2          Rt 1C  BFD  BUR           4       2025        231  3278.95   \n",
       "3          Rt 1C  BFD  BUR           4       2025        231  3278.95   \n",
       "4          Rt 1C  BFD  BUR           4       2025        231  3278.95   \n",
       "..           ...  ...  ...         ...        ...        ...      ...   \n",
       "641        Rt 1C  VNC  SMN           4       2025         21   113.65   \n",
       "642        Rt 1C  VNC  SMN           4       2025         21   113.65   \n",
       "643        Rt 1C  VNC  SMN           4       2025         21   113.65   \n",
       "644        Rt 1C  VNC  SMN           4       2025         21   113.65   \n",
       "645        Rt 1C  VNC  SMN           4       2025         21   113.65   \n",
       "\n",
       "           od direction  orig_seq  dest_seq departing_station  distance  \n",
       "0    BFD->BUR        sb         0         2             0_BFD         0  \n",
       "1    BFD->BUR        sb         0         2             0_BFD         1  \n",
       "2    BFD->BUR        sb         0         2             0_BFD         2  \n",
       "3    BFD->BUR        sb         0         2             0_BFD         3  \n",
       "4    BFD->BUR        sb         0         2             0_BFD         4  \n",
       "..        ...       ...       ...       ...               ...       ...  \n",
       "641  VNC->SMN        sb         3         5             4_WES        97  \n",
       "642  VNC->SMN        sb         3         5             4_WES        98  \n",
       "643  VNC->SMN        sb         3         5             4_WES        99  \n",
       "644  VNC->SMN        sb         3         5             4_WES       100  \n",
       "645  VNC->SMN        sb         3         5             4_WES       101  \n",
       "\n",
       "[646 rows x 13 columns]"
      ]
     },
     "execution_count": 152,
     "metadata": {},
     "output_type": "execute_result"
    }
   ],
   "source": [
    "with_distance"
   ]
  },
  {
   "cell_type": "code",
   "execution_count": 149,
   "id": "edec25c2-4f40-4ebc-be42-6076c0c646ff",
   "metadata": {
    "tags": []
   },
   "outputs": [],
   "source": [
    "base = alt.Chart(with_distance).encode(alt.X('distance:Q'))\n",
    "\n",
    "flow = base.mark_area().encode(\n",
    "    # alt.X('distance:Q'),\n",
    "    alt.Y('sum(ridership):Q'),\n",
    "    color='od',\n",
    "    tooltip = ['departing_station', 'od', 'ridership']\n",
    ")"
   ]
  },
  {
   "cell_type": "code",
   "execution_count": 151,
   "id": "e03b4c81-67de-431c-8c31-e90b42236d87",
   "metadata": {
    "tags": []
   },
   "outputs": [
    {
     "data": {
      "text/html": [
       "\n",
       "<style>\n",
       "  #altair-viz-97f1943bb139409aa019290a0521bf76.vega-embed {\n",
       "    width: 100%;\n",
       "    display: flex;\n",
       "  }\n",
       "\n",
       "  #altair-viz-97f1943bb139409aa019290a0521bf76.vega-embed details,\n",
       "  #altair-viz-97f1943bb139409aa019290a0521bf76.vega-embed details summary {\n",
       "    position: relative;\n",
       "  }\n",
       "</style>\n",
       "<div id=\"altair-viz-97f1943bb139409aa019290a0521bf76\"></div>\n",
       "<script type=\"text/javascript\">\n",
       "  var VEGA_DEBUG = (typeof VEGA_DEBUG == \"undefined\") ? {} : VEGA_DEBUG;\n",
       "  (function(spec, embedOpt){\n",
       "    let outputDiv = document.currentScript.previousElementSibling;\n",
       "    if (outputDiv.id !== \"altair-viz-97f1943bb139409aa019290a0521bf76\") {\n",
       "      outputDiv = document.getElementById(\"altair-viz-97f1943bb139409aa019290a0521bf76\");\n",
       "    }\n",
       "\n",
       "    const paths = {\n",
       "      \"vega\": \"https://cdn.jsdelivr.net/npm/vega@5?noext\",\n",
       "      \"vega-lib\": \"https://cdn.jsdelivr.net/npm/vega-lib?noext\",\n",
       "      \"vega-lite\": \"https://cdn.jsdelivr.net/npm/vega-lite@5.20.1?noext\",\n",
       "      \"vega-embed\": \"https://cdn.jsdelivr.net/npm/vega-embed@6?noext\",\n",
       "    };\n",
       "\n",
       "    function maybeLoadScript(lib, version) {\n",
       "      var key = `${lib.replace(\"-\", \"\")}_version`;\n",
       "      return (VEGA_DEBUG[key] == version) ?\n",
       "        Promise.resolve(paths[lib]) :\n",
       "        new Promise(function(resolve, reject) {\n",
       "          var s = document.createElement('script');\n",
       "          document.getElementsByTagName(\"head\")[0].appendChild(s);\n",
       "          s.async = true;\n",
       "          s.onload = () => {\n",
       "            VEGA_DEBUG[key] = version;\n",
       "            return resolve(paths[lib]);\n",
       "          };\n",
       "          s.onerror = () => reject(`Error loading script: ${paths[lib]}`);\n",
       "          s.src = paths[lib];\n",
       "        });\n",
       "    }\n",
       "\n",
       "    function showError(err) {\n",
       "      outputDiv.innerHTML = `<div class=\"error\" style=\"color:red;\">${err}</div>`;\n",
       "      throw err;\n",
       "    }\n",
       "\n",
       "    function displayChart(vegaEmbed) {\n",
       "      vegaEmbed(outputDiv, spec, embedOpt)\n",
       "        .catch(err => showError(`Javascript Error: ${err.message}<br>This usually means there's a typo in your chart specification. See the javascript console for the full traceback.`));\n",
       "    }\n",
       "\n",
       "    if(typeof define === \"function\" && define.amd) {\n",
       "      requirejs.config({paths});\n",
       "      let deps = [\"vega-embed\"];\n",
       "      require(deps, displayChart, err => showError(`Error loading script: ${err.message}`));\n",
       "    } else {\n",
       "      maybeLoadScript(\"vega\", \"5\")\n",
       "        .then(() => maybeLoadScript(\"vega-lite\", \"5.20.1\"))\n",
       "        .then(() => maybeLoadScript(\"vega-embed\", \"6\"))\n",
       "        .catch(showError)\n",
       "        .then(() => displayChart(vegaEmbed));\n",
       "    }\n",
       "  })({\"config\": {\"view\": {\"continuousWidth\": 300, \"continuousHeight\": 300}}, \"data\": {\"name\": \"data-8c2ccc90d9993d9d1a3ae816900fb881\"}, \"mark\": {\"type\": \"area\"}, \"encoding\": {\"color\": {\"field\": \"od\", \"type\": \"nominal\"}, \"tooltip\": [{\"field\": \"departing_station\", \"type\": \"nominal\"}, {\"field\": \"od\", \"type\": \"nominal\"}, {\"field\": \"ridership\", \"type\": \"quantitative\"}], \"x\": {\"field\": \"distance\", \"type\": \"quantitative\"}, \"y\": {\"aggregate\": \"sum\", \"field\": \"ridership\", \"type\": \"quantitative\"}}, \"$schema\": \"https://vega.github.io/schema/vega-lite/v5.20.1.json\", \"datasets\": {\"data-8c2ccc90d9993d9d1a3ae816900fb881\": [{\"ca_bus_route\": \"Rt 1C\", \"orig\": \"BFD\", \"dest\": \"BUR\", \"trip_month\": 4, \"trip_year\": 2025, \"ridership\": 231, \"revenue\": 3278.95, \"od\": \"BFD->BUR\", \"direction\": \"sb\", \"orig_seq\": 0, \"dest_seq\": 2, \"departing_station\": \"0_BFD\", \"distance\": 0}, {\"ca_bus_route\": \"Rt 1C\", \"orig\": \"BFD\", \"dest\": \"BUR\", \"trip_month\": 4, \"trip_year\": 2025, \"ridership\": 231, \"revenue\": 3278.95, \"od\": \"BFD->BUR\", \"direction\": \"sb\", \"orig_seq\": 0, \"dest_seq\": 2, \"departing_station\": \"0_BFD\", \"distance\": 1}, {\"ca_bus_route\": \"Rt 1C\", \"orig\": \"BFD\", \"dest\": \"BUR\", \"trip_month\": 4, \"trip_year\": 2025, \"ridership\": 231, \"revenue\": 3278.95, \"od\": \"BFD->BUR\", \"direction\": \"sb\", \"orig_seq\": 0, \"dest_seq\": 2, \"departing_station\": \"0_BFD\", \"distance\": 2}, {\"ca_bus_route\": \"Rt 1C\", \"orig\": \"BFD\", \"dest\": \"BUR\", \"trip_month\": 4, \"trip_year\": 2025, \"ridership\": 231, \"revenue\": 3278.95, \"od\": \"BFD->BUR\", \"direction\": \"sb\", \"orig_seq\": 0, \"dest_seq\": 2, \"departing_station\": \"0_BFD\", \"distance\": 3}, {\"ca_bus_route\": \"Rt 1C\", \"orig\": \"BFD\", \"dest\": \"BUR\", \"trip_month\": 4, \"trip_year\": 2025, \"ridership\": 231, \"revenue\": 3278.95, \"od\": \"BFD->BUR\", \"direction\": \"sb\", \"orig_seq\": 0, \"dest_seq\": 2, \"departing_station\": \"0_BFD\", \"distance\": 4}, {\"ca_bus_route\": \"Rt 1C\", \"orig\": \"BFD\", \"dest\": \"BUR\", \"trip_month\": 4, \"trip_year\": 2025, \"ridership\": 231, \"revenue\": 3278.95, \"od\": \"BFD->BUR\", \"direction\": \"sb\", \"orig_seq\": 0, \"dest_seq\": 2, \"departing_station\": \"0_BFD\", \"distance\": 5}, {\"ca_bus_route\": \"Rt 1C\", \"orig\": \"BFD\", \"dest\": \"BUR\", \"trip_month\": 4, \"trip_year\": 2025, \"ridership\": 231, \"revenue\": 3278.95, \"od\": \"BFD->BUR\", \"direction\": \"sb\", \"orig_seq\": 0, \"dest_seq\": 2, \"departing_station\": \"0_BFD\", \"distance\": 6}, {\"ca_bus_route\": \"Rt 1C\", \"orig\": \"BFD\", \"dest\": \"BUR\", \"trip_month\": 4, \"trip_year\": 2025, \"ridership\": 231, \"revenue\": 3278.95, \"od\": \"BFD->BUR\", \"direction\": \"sb\", \"orig_seq\": 0, \"dest_seq\": 2, \"departing_station\": \"0_BFD\", \"distance\": 7}, {\"ca_bus_route\": \"Rt 1C\", \"orig\": \"BFD\", \"dest\": \"BUR\", \"trip_month\": 4, \"trip_year\": 2025, \"ridership\": 231, \"revenue\": 3278.95, \"od\": \"BFD->BUR\", \"direction\": \"sb\", \"orig_seq\": 0, \"dest_seq\": 2, \"departing_station\": \"0_BFD\", \"distance\": 8}, {\"ca_bus_route\": \"Rt 1C\", \"orig\": \"BFD\", \"dest\": \"BUR\", \"trip_month\": 4, \"trip_year\": 2025, \"ridership\": 231, \"revenue\": 3278.95, \"od\": \"BFD->BUR\", \"direction\": \"sb\", \"orig_seq\": 0, \"dest_seq\": 2, \"departing_station\": \"0_BFD\", \"distance\": 9}, {\"ca_bus_route\": \"Rt 1C\", \"orig\": \"BFD\", \"dest\": \"BUR\", \"trip_month\": 4, \"trip_year\": 2025, \"ridership\": 231, \"revenue\": 3278.95, \"od\": \"BFD->BUR\", \"direction\": \"sb\", \"orig_seq\": 0, \"dest_seq\": 2, \"departing_station\": \"0_BFD\", \"distance\": 10}, {\"ca_bus_route\": \"Rt 1C\", \"orig\": \"BFD\", \"dest\": \"BUR\", \"trip_month\": 4, \"trip_year\": 2025, \"ridership\": 231, \"revenue\": 3278.95, \"od\": \"BFD->BUR\", \"direction\": \"sb\", \"orig_seq\": 0, \"dest_seq\": 2, \"departing_station\": \"0_BFD\", \"distance\": 11}, {\"ca_bus_route\": \"Rt 1C\", \"orig\": \"BFD\", \"dest\": \"BUR\", \"trip_month\": 4, \"trip_year\": 2025, \"ridership\": 231, \"revenue\": 3278.95, \"od\": \"BFD->BUR\", \"direction\": \"sb\", \"orig_seq\": 0, \"dest_seq\": 2, \"departing_station\": \"0_BFD\", \"distance\": 12}, {\"ca_bus_route\": \"Rt 1C\", \"orig\": \"BFD\", \"dest\": \"BUR\", \"trip_month\": 4, \"trip_year\": 2025, \"ridership\": 231, \"revenue\": 3278.95, \"od\": \"BFD->BUR\", \"direction\": \"sb\", \"orig_seq\": 0, \"dest_seq\": 2, \"departing_station\": \"0_BFD\", \"distance\": 13}, {\"ca_bus_route\": \"Rt 1C\", \"orig\": \"BFD\", \"dest\": \"BUR\", \"trip_month\": 4, \"trip_year\": 2025, \"ridership\": 231, \"revenue\": 3278.95, \"od\": \"BFD->BUR\", \"direction\": \"sb\", \"orig_seq\": 0, \"dest_seq\": 2, \"departing_station\": \"0_BFD\", \"distance\": 14}, {\"ca_bus_route\": \"Rt 1C\", \"orig\": \"BFD\", \"dest\": \"BUR\", \"trip_month\": 4, \"trip_year\": 2025, \"ridership\": 231, \"revenue\": 3278.95, \"od\": \"BFD->BUR\", \"direction\": \"sb\", \"orig_seq\": 0, \"dest_seq\": 2, \"departing_station\": \"0_BFD\", \"distance\": 15}, {\"ca_bus_route\": \"Rt 1C\", \"orig\": \"BFD\", \"dest\": \"BUR\", \"trip_month\": 4, \"trip_year\": 2025, \"ridership\": 231, \"revenue\": 3278.95, \"od\": \"BFD->BUR\", \"direction\": \"sb\", \"orig_seq\": 0, \"dest_seq\": 2, \"departing_station\": \"0_BFD\", \"distance\": 16}, {\"ca_bus_route\": \"Rt 1C\", \"orig\": \"BFD\", \"dest\": \"BUR\", \"trip_month\": 4, \"trip_year\": 2025, \"ridership\": 231, \"revenue\": 3278.95, \"od\": \"BFD->BUR\", \"direction\": \"sb\", \"orig_seq\": 0, \"dest_seq\": 2, \"departing_station\": \"0_BFD\", \"distance\": 17}, {\"ca_bus_route\": \"Rt 1C\", \"orig\": \"BFD\", \"dest\": \"BUR\", \"trip_month\": 4, \"trip_year\": 2025, \"ridership\": 231, \"revenue\": 3278.95, \"od\": \"BFD->BUR\", \"direction\": \"sb\", \"orig_seq\": 0, \"dest_seq\": 2, \"departing_station\": \"0_BFD\", \"distance\": 18}, {\"ca_bus_route\": \"Rt 1C\", \"orig\": \"BFD\", \"dest\": \"BUR\", \"trip_month\": 4, \"trip_year\": 2025, \"ridership\": 231, \"revenue\": 3278.95, \"od\": \"BFD->BUR\", \"direction\": \"sb\", \"orig_seq\": 0, \"dest_seq\": 2, \"departing_station\": \"0_BFD\", \"distance\": 19}, {\"ca_bus_route\": \"Rt 1C\", \"orig\": \"BFD\", \"dest\": \"BUR\", \"trip_month\": 4, \"trip_year\": 2025, \"ridership\": 231, \"revenue\": 3278.95, \"od\": \"BFD->BUR\", \"direction\": \"sb\", \"orig_seq\": 0, \"dest_seq\": 2, \"departing_station\": \"0_BFD\", \"distance\": 20}, {\"ca_bus_route\": \"Rt 1C\", \"orig\": \"BFD\", \"dest\": \"BUR\", \"trip_month\": 4, \"trip_year\": 2025, \"ridership\": 231, \"revenue\": 3278.95, \"od\": \"BFD->BUR\", \"direction\": \"sb\", \"orig_seq\": 0, \"dest_seq\": 2, \"departing_station\": \"0_BFD\", \"distance\": 21}, {\"ca_bus_route\": \"Rt 1C\", \"orig\": \"BFD\", \"dest\": \"BUR\", \"trip_month\": 4, \"trip_year\": 2025, \"ridership\": 231, \"revenue\": 3278.95, \"od\": \"BFD->BUR\", \"direction\": \"sb\", \"orig_seq\": 0, \"dest_seq\": 2, \"departing_station\": \"0_BFD\", \"distance\": 22}, {\"ca_bus_route\": \"Rt 1C\", \"orig\": \"BFD\", \"dest\": \"BUR\", \"trip_month\": 4, \"trip_year\": 2025, \"ridership\": 231, \"revenue\": 3278.95, \"od\": \"BFD->BUR\", \"direction\": \"sb\", \"orig_seq\": 0, \"dest_seq\": 2, \"departing_station\": \"0_BFD\", \"distance\": 23}, {\"ca_bus_route\": \"Rt 1C\", \"orig\": \"BFD\", \"dest\": \"BUR\", \"trip_month\": 4, \"trip_year\": 2025, \"ridership\": 231, \"revenue\": 3278.95, \"od\": \"BFD->BUR\", \"direction\": \"sb\", \"orig_seq\": 0, \"dest_seq\": 2, \"departing_station\": \"0_BFD\", \"distance\": 24}, {\"ca_bus_route\": \"Rt 1C\", \"orig\": \"BFD\", \"dest\": \"BUR\", \"trip_month\": 4, \"trip_year\": 2025, \"ridership\": 231, \"revenue\": 3278.95, \"od\": \"BFD->BUR\", \"direction\": \"sb\", \"orig_seq\": 0, \"dest_seq\": 2, \"departing_station\": \"0_BFD\", \"distance\": 25}, {\"ca_bus_route\": \"Rt 1C\", \"orig\": \"BFD\", \"dest\": \"BUR\", \"trip_month\": 4, \"trip_year\": 2025, \"ridership\": 231, \"revenue\": 3278.95, \"od\": \"BFD->BUR\", \"direction\": \"sb\", \"orig_seq\": 0, \"dest_seq\": 2, \"departing_station\": \"0_BFD\", \"distance\": 26}, {\"ca_bus_route\": \"Rt 1C\", \"orig\": \"BFD\", \"dest\": \"BUR\", \"trip_month\": 4, \"trip_year\": 2025, \"ridership\": 231, \"revenue\": 3278.95, \"od\": \"BFD->BUR\", \"direction\": \"sb\", \"orig_seq\": 0, \"dest_seq\": 2, \"departing_station\": \"0_BFD\", \"distance\": 27}, {\"ca_bus_route\": \"Rt 1C\", \"orig\": \"BFD\", \"dest\": \"BUR\", \"trip_month\": 4, \"trip_year\": 2025, \"ridership\": 231, \"revenue\": 3278.95, \"od\": \"BFD->BUR\", \"direction\": \"sb\", \"orig_seq\": 0, \"dest_seq\": 2, \"departing_station\": \"0_BFD\", \"distance\": 28}, {\"ca_bus_route\": \"Rt 1C\", \"orig\": \"BFD\", \"dest\": \"BUR\", \"trip_month\": 4, \"trip_year\": 2025, \"ridership\": 231, \"revenue\": 3278.95, \"od\": \"BFD->BUR\", \"direction\": \"sb\", \"orig_seq\": 0, \"dest_seq\": 2, \"departing_station\": \"0_BFD\", \"distance\": 29}, {\"ca_bus_route\": \"Rt 1C\", \"orig\": \"BFD\", \"dest\": \"BUR\", \"trip_month\": 4, \"trip_year\": 2025, \"ridership\": 231, \"revenue\": 3278.95, \"od\": \"BFD->BUR\", \"direction\": \"sb\", \"orig_seq\": 0, \"dest_seq\": 2, \"departing_station\": \"0_BFD\", \"distance\": 30}, {\"ca_bus_route\": \"Rt 1C\", \"orig\": \"BFD\", \"dest\": \"BUR\", \"trip_month\": 4, \"trip_year\": 2025, \"ridership\": 231, \"revenue\": 3278.95, \"od\": \"BFD->BUR\", \"direction\": \"sb\", \"orig_seq\": 0, \"dest_seq\": 2, \"departing_station\": \"0_BFD\", \"distance\": 31}, {\"ca_bus_route\": \"Rt 1C\", \"orig\": \"BFD\", \"dest\": \"BUR\", \"trip_month\": 4, \"trip_year\": 2025, \"ridership\": 231, \"revenue\": 3278.95, \"od\": \"BFD->BUR\", \"direction\": \"sb\", \"orig_seq\": 0, \"dest_seq\": 2, \"departing_station\": \"0_BFD\", \"distance\": 32}, {\"ca_bus_route\": \"Rt 1C\", \"orig\": \"BFD\", \"dest\": \"BUR\", \"trip_month\": 4, \"trip_year\": 2025, \"ridership\": 231, \"revenue\": 3278.95, \"od\": \"BFD->BUR\", \"direction\": \"sb\", \"orig_seq\": 0, \"dest_seq\": 2, \"departing_station\": \"0_BFD\", \"distance\": 33}, {\"ca_bus_route\": \"Rt 1C\", \"orig\": \"BFD\", \"dest\": \"BUR\", \"trip_month\": 4, \"trip_year\": 2025, \"ridership\": 231, \"revenue\": 3278.95, \"od\": \"BFD->BUR\", \"direction\": \"sb\", \"orig_seq\": 0, \"dest_seq\": 2, \"departing_station\": \"0_BFD\", \"distance\": 34}, {\"ca_bus_route\": \"Rt 1C\", \"orig\": \"BFD\", \"dest\": \"BUR\", \"trip_month\": 4, \"trip_year\": 2025, \"ridership\": 231, \"revenue\": 3278.95, \"od\": \"BFD->BUR\", \"direction\": \"sb\", \"orig_seq\": 0, \"dest_seq\": 2, \"departing_station\": \"0_BFD\", \"distance\": 35}, {\"ca_bus_route\": \"Rt 1C\", \"orig\": \"BFD\", \"dest\": \"BUR\", \"trip_month\": 4, \"trip_year\": 2025, \"ridership\": 231, \"revenue\": 3278.95, \"od\": \"BFD->BUR\", \"direction\": \"sb\", \"orig_seq\": 0, \"dest_seq\": 2, \"departing_station\": \"0_BFD\", \"distance\": 36}, {\"ca_bus_route\": \"Rt 1C\", \"orig\": \"BFD\", \"dest\": \"BUR\", \"trip_month\": 4, \"trip_year\": 2025, \"ridership\": 231, \"revenue\": 3278.95, \"od\": \"BFD->BUR\", \"direction\": \"sb\", \"orig_seq\": 0, \"dest_seq\": 2, \"departing_station\": \"0_BFD\", \"distance\": 37}, {\"ca_bus_route\": \"Rt 1C\", \"orig\": \"BFD\", \"dest\": \"BUR\", \"trip_month\": 4, \"trip_year\": 2025, \"ridership\": 231, \"revenue\": 3278.95, \"od\": \"BFD->BUR\", \"direction\": \"sb\", \"orig_seq\": 0, \"dest_seq\": 2, \"departing_station\": \"0_BFD\", \"distance\": 38}, {\"ca_bus_route\": \"Rt 1C\", \"orig\": \"BFD\", \"dest\": \"BUR\", \"trip_month\": 4, \"trip_year\": 2025, \"ridership\": 231, \"revenue\": 3278.95, \"od\": \"BFD->BUR\", \"direction\": \"sb\", \"orig_seq\": 0, \"dest_seq\": 2, \"departing_station\": \"0_BFD\", \"distance\": 39}, {\"ca_bus_route\": \"Rt 1C\", \"orig\": \"BFD\", \"dest\": \"BUR\", \"trip_month\": 4, \"trip_year\": 2025, \"ridership\": 231, \"revenue\": 3278.95, \"od\": \"BFD->BUR\", \"direction\": \"sb\", \"orig_seq\": 0, \"dest_seq\": 2, \"departing_station\": \"0_BFD\", \"distance\": 40}, {\"ca_bus_route\": \"Rt 1C\", \"orig\": \"BFD\", \"dest\": \"BUR\", \"trip_month\": 4, \"trip_year\": 2025, \"ridership\": 231, \"revenue\": 3278.95, \"od\": \"BFD->BUR\", \"direction\": \"sb\", \"orig_seq\": 0, \"dest_seq\": 2, \"departing_station\": \"0_BFD\", \"distance\": 41}, {\"ca_bus_route\": \"Rt 1C\", \"orig\": \"BFD\", \"dest\": \"BUR\", \"trip_month\": 4, \"trip_year\": 2025, \"ridership\": 231, \"revenue\": 3278.95, \"od\": \"BFD->BUR\", \"direction\": \"sb\", \"orig_seq\": 0, \"dest_seq\": 2, \"departing_station\": \"0_BFD\", \"distance\": 42}, {\"ca_bus_route\": \"Rt 1C\", \"orig\": \"BFD\", \"dest\": \"BUR\", \"trip_month\": 4, \"trip_year\": 2025, \"ridership\": 231, \"revenue\": 3278.95, \"od\": \"BFD->BUR\", \"direction\": \"sb\", \"orig_seq\": 0, \"dest_seq\": 2, \"departing_station\": \"0_BFD\", \"distance\": 43}, {\"ca_bus_route\": \"Rt 1C\", \"orig\": \"BFD\", \"dest\": \"BUR\", \"trip_month\": 4, \"trip_year\": 2025, \"ridership\": 231, \"revenue\": 3278.95, \"od\": \"BFD->BUR\", \"direction\": \"sb\", \"orig_seq\": 0, \"dest_seq\": 2, \"departing_station\": \"0_BFD\", \"distance\": 44}, {\"ca_bus_route\": \"Rt 1C\", \"orig\": \"BFD\", \"dest\": \"BUR\", \"trip_month\": 4, \"trip_year\": 2025, \"ridership\": 231, \"revenue\": 3278.95, \"od\": \"BFD->BUR\", \"direction\": \"sb\", \"orig_seq\": 0, \"dest_seq\": 2, \"departing_station\": \"0_BFD\", \"distance\": 45}, {\"ca_bus_route\": \"Rt 1C\", \"orig\": \"BFD\", \"dest\": \"BUR\", \"trip_month\": 4, \"trip_year\": 2025, \"ridership\": 231, \"revenue\": 3278.95, \"od\": \"BFD->BUR\", \"direction\": \"sb\", \"orig_seq\": 0, \"dest_seq\": 2, \"departing_station\": \"0_BFD\", \"distance\": 46}, {\"ca_bus_route\": \"Rt 1C\", \"orig\": \"BFD\", \"dest\": \"BUR\", \"trip_month\": 4, \"trip_year\": 2025, \"ridership\": 231, \"revenue\": 3278.95, \"od\": \"BFD->BUR\", \"direction\": \"sb\", \"orig_seq\": 0, \"dest_seq\": 2, \"departing_station\": \"0_BFD\", \"distance\": 47}, {\"ca_bus_route\": \"Rt 1C\", \"orig\": \"BFD\", \"dest\": \"BUR\", \"trip_month\": 4, \"trip_year\": 2025, \"ridership\": 231, \"revenue\": 3278.95, \"od\": \"BFD->BUR\", \"direction\": \"sb\", \"orig_seq\": 0, \"dest_seq\": 2, \"departing_station\": \"0_BFD\", \"distance\": 48}, {\"ca_bus_route\": \"Rt 1C\", \"orig\": \"BFD\", \"dest\": \"BUR\", \"trip_month\": 4, \"trip_year\": 2025, \"ridership\": 231, \"revenue\": 3278.95, \"od\": \"BFD->BUR\", \"direction\": \"sb\", \"orig_seq\": 0, \"dest_seq\": 2, \"departing_station\": \"0_BFD\", \"distance\": 49}, {\"ca_bus_route\": \"Rt 1C\", \"orig\": \"BFD\", \"dest\": \"NHL\", \"trip_month\": 4, \"trip_year\": 2025, \"ridership\": 296, \"revenue\": 3420.51, \"od\": \"BFD->NHL\", \"direction\": \"sb\", \"orig_seq\": 0, \"dest_seq\": 1, \"departing_station\": \"0_BFD\", \"distance\": 0}, {\"ca_bus_route\": \"Rt 1C\", \"orig\": \"BFD\", \"dest\": \"NHL\", \"trip_month\": 4, \"trip_year\": 2025, \"ridership\": 296, \"revenue\": 3420.51, \"od\": \"BFD->NHL\", \"direction\": \"sb\", \"orig_seq\": 0, \"dest_seq\": 1, \"departing_station\": \"0_BFD\", \"distance\": 1}, {\"ca_bus_route\": \"Rt 1C\", \"orig\": \"BFD\", \"dest\": \"NHL\", \"trip_month\": 4, \"trip_year\": 2025, \"ridership\": 296, \"revenue\": 3420.51, \"od\": \"BFD->NHL\", \"direction\": \"sb\", \"orig_seq\": 0, \"dest_seq\": 1, \"departing_station\": \"0_BFD\", \"distance\": 2}, {\"ca_bus_route\": \"Rt 1C\", \"orig\": \"BFD\", \"dest\": \"NHL\", \"trip_month\": 4, \"trip_year\": 2025, \"ridership\": 296, \"revenue\": 3420.51, \"od\": \"BFD->NHL\", \"direction\": \"sb\", \"orig_seq\": 0, \"dest_seq\": 1, \"departing_station\": \"0_BFD\", \"distance\": 3}, {\"ca_bus_route\": \"Rt 1C\", \"orig\": \"BFD\", \"dest\": \"NHL\", \"trip_month\": 4, \"trip_year\": 2025, \"ridership\": 296, \"revenue\": 3420.51, \"od\": \"BFD->NHL\", \"direction\": \"sb\", \"orig_seq\": 0, \"dest_seq\": 1, \"departing_station\": \"0_BFD\", \"distance\": 4}, {\"ca_bus_route\": \"Rt 1C\", \"orig\": \"BFD\", \"dest\": \"NHL\", \"trip_month\": 4, \"trip_year\": 2025, \"ridership\": 296, \"revenue\": 3420.51, \"od\": \"BFD->NHL\", \"direction\": \"sb\", \"orig_seq\": 0, \"dest_seq\": 1, \"departing_station\": \"0_BFD\", \"distance\": 5}, {\"ca_bus_route\": \"Rt 1C\", \"orig\": \"BFD\", \"dest\": \"NHL\", \"trip_month\": 4, \"trip_year\": 2025, \"ridership\": 296, \"revenue\": 3420.51, \"od\": \"BFD->NHL\", \"direction\": \"sb\", \"orig_seq\": 0, \"dest_seq\": 1, \"departing_station\": \"0_BFD\", \"distance\": 6}, {\"ca_bus_route\": \"Rt 1C\", \"orig\": \"BFD\", \"dest\": \"NHL\", \"trip_month\": 4, \"trip_year\": 2025, \"ridership\": 296, \"revenue\": 3420.51, \"od\": \"BFD->NHL\", \"direction\": \"sb\", \"orig_seq\": 0, \"dest_seq\": 1, \"departing_station\": \"0_BFD\", \"distance\": 7}, {\"ca_bus_route\": \"Rt 1C\", \"orig\": \"BFD\", \"dest\": \"NHL\", \"trip_month\": 4, \"trip_year\": 2025, \"ridership\": 296, \"revenue\": 3420.51, \"od\": \"BFD->NHL\", \"direction\": \"sb\", \"orig_seq\": 0, \"dest_seq\": 1, \"departing_station\": \"0_BFD\", \"distance\": 8}, {\"ca_bus_route\": \"Rt 1C\", \"orig\": \"BFD\", \"dest\": \"NHL\", \"trip_month\": 4, \"trip_year\": 2025, \"ridership\": 296, \"revenue\": 3420.51, \"od\": \"BFD->NHL\", \"direction\": \"sb\", \"orig_seq\": 0, \"dest_seq\": 1, \"departing_station\": \"0_BFD\", \"distance\": 9}, {\"ca_bus_route\": \"Rt 1C\", \"orig\": \"BFD\", \"dest\": \"NHL\", \"trip_month\": 4, \"trip_year\": 2025, \"ridership\": 296, \"revenue\": 3420.51, \"od\": \"BFD->NHL\", \"direction\": \"sb\", \"orig_seq\": 0, \"dest_seq\": 1, \"departing_station\": \"0_BFD\", \"distance\": 10}, {\"ca_bus_route\": \"Rt 1C\", \"orig\": \"BFD\", \"dest\": \"NHL\", \"trip_month\": 4, \"trip_year\": 2025, \"ridership\": 296, \"revenue\": 3420.51, \"od\": \"BFD->NHL\", \"direction\": \"sb\", \"orig_seq\": 0, \"dest_seq\": 1, \"departing_station\": \"0_BFD\", \"distance\": 11}, {\"ca_bus_route\": \"Rt 1C\", \"orig\": \"BFD\", \"dest\": \"NHL\", \"trip_month\": 4, \"trip_year\": 2025, \"ridership\": 296, \"revenue\": 3420.51, \"od\": \"BFD->NHL\", \"direction\": \"sb\", \"orig_seq\": 0, \"dest_seq\": 1, \"departing_station\": \"0_BFD\", \"distance\": 12}, {\"ca_bus_route\": \"Rt 1C\", \"orig\": \"BFD\", \"dest\": \"NHL\", \"trip_month\": 4, \"trip_year\": 2025, \"ridership\": 296, \"revenue\": 3420.51, \"od\": \"BFD->NHL\", \"direction\": \"sb\", \"orig_seq\": 0, \"dest_seq\": 1, \"departing_station\": \"0_BFD\", \"distance\": 13}, {\"ca_bus_route\": \"Rt 1C\", \"orig\": \"BFD\", \"dest\": \"NHL\", \"trip_month\": 4, \"trip_year\": 2025, \"ridership\": 296, \"revenue\": 3420.51, \"od\": \"BFD->NHL\", \"direction\": \"sb\", \"orig_seq\": 0, \"dest_seq\": 1, \"departing_station\": \"0_BFD\", \"distance\": 14}, {\"ca_bus_route\": \"Rt 1C\", \"orig\": \"BFD\", \"dest\": \"NHL\", \"trip_month\": 4, \"trip_year\": 2025, \"ridership\": 296, \"revenue\": 3420.51, \"od\": \"BFD->NHL\", \"direction\": \"sb\", \"orig_seq\": 0, \"dest_seq\": 1, \"departing_station\": \"0_BFD\", \"distance\": 15}, {\"ca_bus_route\": \"Rt 1C\", \"orig\": \"BFD\", \"dest\": \"NHL\", \"trip_month\": 4, \"trip_year\": 2025, \"ridership\": 296, \"revenue\": 3420.51, \"od\": \"BFD->NHL\", \"direction\": \"sb\", \"orig_seq\": 0, \"dest_seq\": 1, \"departing_station\": \"0_BFD\", \"distance\": 16}, {\"ca_bus_route\": \"Rt 1C\", \"orig\": \"BFD\", \"dest\": \"NHL\", \"trip_month\": 4, \"trip_year\": 2025, \"ridership\": 296, \"revenue\": 3420.51, \"od\": \"BFD->NHL\", \"direction\": \"sb\", \"orig_seq\": 0, \"dest_seq\": 1, \"departing_station\": \"0_BFD\", \"distance\": 17}, {\"ca_bus_route\": \"Rt 1C\", \"orig\": \"BFD\", \"dest\": \"NHL\", \"trip_month\": 4, \"trip_year\": 2025, \"ridership\": 296, \"revenue\": 3420.51, \"od\": \"BFD->NHL\", \"direction\": \"sb\", \"orig_seq\": 0, \"dest_seq\": 1, \"departing_station\": \"0_BFD\", \"distance\": 18}, {\"ca_bus_route\": \"Rt 1C\", \"orig\": \"BFD\", \"dest\": \"NHL\", \"trip_month\": 4, \"trip_year\": 2025, \"ridership\": 296, \"revenue\": 3420.51, \"od\": \"BFD->NHL\", \"direction\": \"sb\", \"orig_seq\": 0, \"dest_seq\": 1, \"departing_station\": \"0_BFD\", \"distance\": 19}, {\"ca_bus_route\": \"Rt 1C\", \"orig\": \"BFD\", \"dest\": \"NHL\", \"trip_month\": 4, \"trip_year\": 2025, \"ridership\": 296, \"revenue\": 3420.51, \"od\": \"BFD->NHL\", \"direction\": \"sb\", \"orig_seq\": 0, \"dest_seq\": 1, \"departing_station\": \"0_BFD\", \"distance\": 20}, {\"ca_bus_route\": \"Rt 1C\", \"orig\": \"BFD\", \"dest\": \"NHL\", \"trip_month\": 4, \"trip_year\": 2025, \"ridership\": 296, \"revenue\": 3420.51, \"od\": \"BFD->NHL\", \"direction\": \"sb\", \"orig_seq\": 0, \"dest_seq\": 1, \"departing_station\": \"0_BFD\", \"distance\": 21}, {\"ca_bus_route\": \"Rt 1C\", \"orig\": \"BFD\", \"dest\": \"NHL\", \"trip_month\": 4, \"trip_year\": 2025, \"ridership\": 296, \"revenue\": 3420.51, \"od\": \"BFD->NHL\", \"direction\": \"sb\", \"orig_seq\": 0, \"dest_seq\": 1, \"departing_station\": \"0_BFD\", \"distance\": 22}, {\"ca_bus_route\": \"Rt 1C\", \"orig\": \"BFD\", \"dest\": \"NHL\", \"trip_month\": 4, \"trip_year\": 2025, \"ridership\": 296, \"revenue\": 3420.51, \"od\": \"BFD->NHL\", \"direction\": \"sb\", \"orig_seq\": 0, \"dest_seq\": 1, \"departing_station\": \"0_BFD\", \"distance\": 23}, {\"ca_bus_route\": \"Rt 1C\", \"orig\": \"BFD\", \"dest\": \"NHL\", \"trip_month\": 4, \"trip_year\": 2025, \"ridership\": 296, \"revenue\": 3420.51, \"od\": \"BFD->NHL\", \"direction\": \"sb\", \"orig_seq\": 0, \"dest_seq\": 1, \"departing_station\": \"0_BFD\", \"distance\": 24}, {\"ca_bus_route\": \"Rt 1C\", \"orig\": \"BFD\", \"dest\": \"NHL\", \"trip_month\": 4, \"trip_year\": 2025, \"ridership\": 296, \"revenue\": 3420.51, \"od\": \"BFD->NHL\", \"direction\": \"sb\", \"orig_seq\": 0, \"dest_seq\": 1, \"departing_station\": \"0_BFD\", \"distance\": 25}, {\"ca_bus_route\": \"Rt 1C\", \"orig\": \"BFD\", \"dest\": \"NHL\", \"trip_month\": 4, \"trip_year\": 2025, \"ridership\": 296, \"revenue\": 3420.51, \"od\": \"BFD->NHL\", \"direction\": \"sb\", \"orig_seq\": 0, \"dest_seq\": 1, \"departing_station\": \"0_BFD\", \"distance\": 26}, {\"ca_bus_route\": \"Rt 1C\", \"orig\": \"BFD\", \"dest\": \"NHL\", \"trip_month\": 4, \"trip_year\": 2025, \"ridership\": 296, \"revenue\": 3420.51, \"od\": \"BFD->NHL\", \"direction\": \"sb\", \"orig_seq\": 0, \"dest_seq\": 1, \"departing_station\": \"0_BFD\", \"distance\": 27}, {\"ca_bus_route\": \"Rt 1C\", \"orig\": \"BFD\", \"dest\": \"NHL\", \"trip_month\": 4, \"trip_year\": 2025, \"ridership\": 296, \"revenue\": 3420.51, \"od\": \"BFD->NHL\", \"direction\": \"sb\", \"orig_seq\": 0, \"dest_seq\": 1, \"departing_station\": \"0_BFD\", \"distance\": 28}, {\"ca_bus_route\": \"Rt 1C\", \"orig\": \"BFD\", \"dest\": \"NHL\", \"trip_month\": 4, \"trip_year\": 2025, \"ridership\": 296, \"revenue\": 3420.51, \"od\": \"BFD->NHL\", \"direction\": \"sb\", \"orig_seq\": 0, \"dest_seq\": 1, \"departing_station\": \"0_BFD\", \"distance\": 29}, {\"ca_bus_route\": \"Rt 1C\", \"orig\": \"BFD\", \"dest\": \"NHL\", \"trip_month\": 4, \"trip_year\": 2025, \"ridership\": 296, \"revenue\": 3420.51, \"od\": \"BFD->NHL\", \"direction\": \"sb\", \"orig_seq\": 0, \"dest_seq\": 1, \"departing_station\": \"0_BFD\", \"distance\": 30}, {\"ca_bus_route\": \"Rt 1C\", \"orig\": \"BFD\", \"dest\": \"NHL\", \"trip_month\": 4, \"trip_year\": 2025, \"ridership\": 296, \"revenue\": 3420.51, \"od\": \"BFD->NHL\", \"direction\": \"sb\", \"orig_seq\": 0, \"dest_seq\": 1, \"departing_station\": \"0_BFD\", \"distance\": 31}, {\"ca_bus_route\": \"Rt 1C\", \"orig\": \"BFD\", \"dest\": \"NHL\", \"trip_month\": 4, \"trip_year\": 2025, \"ridership\": 296, \"revenue\": 3420.51, \"od\": \"BFD->NHL\", \"direction\": \"sb\", \"orig_seq\": 0, \"dest_seq\": 1, \"departing_station\": \"0_BFD\", \"distance\": 32}, {\"ca_bus_route\": \"Rt 1C\", \"orig\": \"BFD\", \"dest\": \"NHL\", \"trip_month\": 4, \"trip_year\": 2025, \"ridership\": 296, \"revenue\": 3420.51, \"od\": \"BFD->NHL\", \"direction\": \"sb\", \"orig_seq\": 0, \"dest_seq\": 1, \"departing_station\": \"0_BFD\", \"distance\": 33}, {\"ca_bus_route\": \"Rt 1C\", \"orig\": \"BFD\", \"dest\": \"NHL\", \"trip_month\": 4, \"trip_year\": 2025, \"ridership\": 296, \"revenue\": 3420.51, \"od\": \"BFD->NHL\", \"direction\": \"sb\", \"orig_seq\": 0, \"dest_seq\": 1, \"departing_station\": \"0_BFD\", \"distance\": 34}, {\"ca_bus_route\": \"Rt 1C\", \"orig\": \"BFD\", \"dest\": \"NHL\", \"trip_month\": 4, \"trip_year\": 2025, \"ridership\": 296, \"revenue\": 3420.51, \"od\": \"BFD->NHL\", \"direction\": \"sb\", \"orig_seq\": 0, \"dest_seq\": 1, \"departing_station\": \"0_BFD\", \"distance\": 35}, {\"ca_bus_route\": \"Rt 1C\", \"orig\": \"BFD\", \"dest\": \"NHL\", \"trip_month\": 4, \"trip_year\": 2025, \"ridership\": 296, \"revenue\": 3420.51, \"od\": \"BFD->NHL\", \"direction\": \"sb\", \"orig_seq\": 0, \"dest_seq\": 1, \"departing_station\": \"0_BFD\", \"distance\": 36}, {\"ca_bus_route\": \"Rt 1C\", \"orig\": \"BFD\", \"dest\": \"NHL\", \"trip_month\": 4, \"trip_year\": 2025, \"ridership\": 296, \"revenue\": 3420.51, \"od\": \"BFD->NHL\", \"direction\": \"sb\", \"orig_seq\": 0, \"dest_seq\": 1, \"departing_station\": \"0_BFD\", \"distance\": 37}, {\"ca_bus_route\": \"Rt 1C\", \"orig\": \"BFD\", \"dest\": \"NHL\", \"trip_month\": 4, \"trip_year\": 2025, \"ridership\": 296, \"revenue\": 3420.51, \"od\": \"BFD->NHL\", \"direction\": \"sb\", \"orig_seq\": 0, \"dest_seq\": 1, \"departing_station\": \"0_BFD\", \"distance\": 38}, {\"ca_bus_route\": \"Rt 1C\", \"orig\": \"BFD\", \"dest\": \"NHL\", \"trip_month\": 4, \"trip_year\": 2025, \"ridership\": 296, \"revenue\": 3420.51, \"od\": \"BFD->NHL\", \"direction\": \"sb\", \"orig_seq\": 0, \"dest_seq\": 1, \"departing_station\": \"0_BFD\", \"distance\": 39}, {\"ca_bus_route\": \"Rt 1C\", \"orig\": \"BFD\", \"dest\": \"NHL\", \"trip_month\": 4, \"trip_year\": 2025, \"ridership\": 296, \"revenue\": 3420.51, \"od\": \"BFD->NHL\", \"direction\": \"sb\", \"orig_seq\": 0, \"dest_seq\": 1, \"departing_station\": \"0_BFD\", \"distance\": 40}, {\"ca_bus_route\": \"Rt 1C\", \"orig\": \"BFD\", \"dest\": \"NHL\", \"trip_month\": 4, \"trip_year\": 2025, \"ridership\": 296, \"revenue\": 3420.51, \"od\": \"BFD->NHL\", \"direction\": \"sb\", \"orig_seq\": 0, \"dest_seq\": 1, \"departing_station\": \"0_BFD\", \"distance\": 41}, {\"ca_bus_route\": \"Rt 1C\", \"orig\": \"BFD\", \"dest\": \"NHL\", \"trip_month\": 4, \"trip_year\": 2025, \"ridership\": 296, \"revenue\": 3420.51, \"od\": \"BFD->NHL\", \"direction\": \"sb\", \"orig_seq\": 0, \"dest_seq\": 1, \"departing_station\": \"0_BFD\", \"distance\": 42}, {\"ca_bus_route\": \"Rt 1C\", \"orig\": \"BFD\", \"dest\": \"NHL\", \"trip_month\": 4, \"trip_year\": 2025, \"ridership\": 296, \"revenue\": 3420.51, \"od\": \"BFD->NHL\", \"direction\": \"sb\", \"orig_seq\": 0, \"dest_seq\": 1, \"departing_station\": \"0_BFD\", \"distance\": 43}, {\"ca_bus_route\": \"Rt 1C\", \"orig\": \"BFD\", \"dest\": \"NHL\", \"trip_month\": 4, \"trip_year\": 2025, \"ridership\": 296, \"revenue\": 3420.51, \"od\": \"BFD->NHL\", \"direction\": \"sb\", \"orig_seq\": 0, \"dest_seq\": 1, \"departing_station\": \"0_BFD\", \"distance\": 44}, {\"ca_bus_route\": \"Rt 1C\", \"orig\": \"BFD\", \"dest\": \"NHL\", \"trip_month\": 4, \"trip_year\": 2025, \"ridership\": 296, \"revenue\": 3420.51, \"od\": \"BFD->NHL\", \"direction\": \"sb\", \"orig_seq\": 0, \"dest_seq\": 1, \"departing_station\": \"0_BFD\", \"distance\": 45}, {\"ca_bus_route\": \"Rt 1C\", \"orig\": \"BFD\", \"dest\": \"NHL\", \"trip_month\": 4, \"trip_year\": 2025, \"ridership\": 296, \"revenue\": 3420.51, \"od\": \"BFD->NHL\", \"direction\": \"sb\", \"orig_seq\": 0, \"dest_seq\": 1, \"departing_station\": \"0_BFD\", \"distance\": 46}, {\"ca_bus_route\": \"Rt 1C\", \"orig\": \"BFD\", \"dest\": \"NHL\", \"trip_month\": 4, \"trip_year\": 2025, \"ridership\": 296, \"revenue\": 3420.51, \"od\": \"BFD->NHL\", \"direction\": \"sb\", \"orig_seq\": 0, \"dest_seq\": 1, \"departing_station\": \"0_BFD\", \"distance\": 47}, {\"ca_bus_route\": \"Rt 1C\", \"orig\": \"BFD\", \"dest\": \"NHL\", \"trip_month\": 4, \"trip_year\": 2025, \"ridership\": 296, \"revenue\": 3420.51, \"od\": \"BFD->NHL\", \"direction\": \"sb\", \"orig_seq\": 0, \"dest_seq\": 1, \"departing_station\": \"0_BFD\", \"distance\": 48}, {\"ca_bus_route\": \"Rt 1C\", \"orig\": \"BFD\", \"dest\": \"NHL\", \"trip_month\": 4, \"trip_year\": 2025, \"ridership\": 296, \"revenue\": 3420.51, \"od\": \"BFD->NHL\", \"direction\": \"sb\", \"orig_seq\": 0, \"dest_seq\": 1, \"departing_station\": \"0_BFD\", \"distance\": 49}, {\"ca_bus_route\": \"Rt 1C\", \"orig\": \"BFD\", \"dest\": \"SMN\", \"trip_month\": 4, \"trip_year\": 2025, \"ridership\": 51, \"revenue\": 829.34, \"od\": \"BFD->SMN\", \"direction\": \"sb\", \"orig_seq\": 0, \"dest_seq\": 5, \"departing_station\": \"0_BFD\", \"distance\": 0}, {\"ca_bus_route\": \"Rt 1C\", \"orig\": \"BFD\", \"dest\": \"SMN\", \"trip_month\": 4, \"trip_year\": 2025, \"ridership\": 51, \"revenue\": 829.34, \"od\": \"BFD->SMN\", \"direction\": \"sb\", \"orig_seq\": 0, \"dest_seq\": 5, \"departing_station\": \"0_BFD\", \"distance\": 1}, {\"ca_bus_route\": \"Rt 1C\", \"orig\": \"BFD\", \"dest\": \"SMN\", \"trip_month\": 4, \"trip_year\": 2025, \"ridership\": 51, \"revenue\": 829.34, \"od\": \"BFD->SMN\", \"direction\": \"sb\", \"orig_seq\": 0, \"dest_seq\": 5, \"departing_station\": \"0_BFD\", \"distance\": 2}, {\"ca_bus_route\": \"Rt 1C\", \"orig\": \"BFD\", \"dest\": \"SMN\", \"trip_month\": 4, \"trip_year\": 2025, \"ridership\": 51, \"revenue\": 829.34, \"od\": \"BFD->SMN\", \"direction\": \"sb\", \"orig_seq\": 0, \"dest_seq\": 5, \"departing_station\": \"0_BFD\", \"distance\": 3}, {\"ca_bus_route\": \"Rt 1C\", \"orig\": \"BFD\", \"dest\": \"SMN\", \"trip_month\": 4, \"trip_year\": 2025, \"ridership\": 51, \"revenue\": 829.34, \"od\": \"BFD->SMN\", \"direction\": \"sb\", \"orig_seq\": 0, \"dest_seq\": 5, \"departing_station\": \"0_BFD\", \"distance\": 4}, {\"ca_bus_route\": \"Rt 1C\", \"orig\": \"BFD\", \"dest\": \"SMN\", \"trip_month\": 4, \"trip_year\": 2025, \"ridership\": 51, \"revenue\": 829.34, \"od\": \"BFD->SMN\", \"direction\": \"sb\", \"orig_seq\": 0, \"dest_seq\": 5, \"departing_station\": \"0_BFD\", \"distance\": 5}, {\"ca_bus_route\": \"Rt 1C\", \"orig\": \"BFD\", \"dest\": \"SMN\", \"trip_month\": 4, \"trip_year\": 2025, \"ridership\": 51, \"revenue\": 829.34, \"od\": \"BFD->SMN\", \"direction\": \"sb\", \"orig_seq\": 0, \"dest_seq\": 5, \"departing_station\": \"0_BFD\", \"distance\": 6}, {\"ca_bus_route\": \"Rt 1C\", \"orig\": \"BFD\", \"dest\": \"SMN\", \"trip_month\": 4, \"trip_year\": 2025, \"ridership\": 51, \"revenue\": 829.34, \"od\": \"BFD->SMN\", \"direction\": \"sb\", \"orig_seq\": 0, \"dest_seq\": 5, \"departing_station\": \"0_BFD\", \"distance\": 7}, {\"ca_bus_route\": \"Rt 1C\", \"orig\": \"BFD\", \"dest\": \"SMN\", \"trip_month\": 4, \"trip_year\": 2025, \"ridership\": 51, \"revenue\": 829.34, \"od\": \"BFD->SMN\", \"direction\": \"sb\", \"orig_seq\": 0, \"dest_seq\": 5, \"departing_station\": \"0_BFD\", \"distance\": 8}, {\"ca_bus_route\": \"Rt 1C\", \"orig\": \"BFD\", \"dest\": \"SMN\", \"trip_month\": 4, \"trip_year\": 2025, \"ridership\": 51, \"revenue\": 829.34, \"od\": \"BFD->SMN\", \"direction\": \"sb\", \"orig_seq\": 0, \"dest_seq\": 5, \"departing_station\": \"0_BFD\", \"distance\": 9}, {\"ca_bus_route\": \"Rt 1C\", \"orig\": \"BFD\", \"dest\": \"SMN\", \"trip_month\": 4, \"trip_year\": 2025, \"ridership\": 51, \"revenue\": 829.34, \"od\": \"BFD->SMN\", \"direction\": \"sb\", \"orig_seq\": 0, \"dest_seq\": 5, \"departing_station\": \"0_BFD\", \"distance\": 10}, {\"ca_bus_route\": \"Rt 1C\", \"orig\": \"BFD\", \"dest\": \"SMN\", \"trip_month\": 4, \"trip_year\": 2025, \"ridership\": 51, \"revenue\": 829.34, \"od\": \"BFD->SMN\", \"direction\": \"sb\", \"orig_seq\": 0, \"dest_seq\": 5, \"departing_station\": \"0_BFD\", \"distance\": 11}, {\"ca_bus_route\": \"Rt 1C\", \"orig\": \"BFD\", \"dest\": \"SMN\", \"trip_month\": 4, \"trip_year\": 2025, \"ridership\": 51, \"revenue\": 829.34, \"od\": \"BFD->SMN\", \"direction\": \"sb\", \"orig_seq\": 0, \"dest_seq\": 5, \"departing_station\": \"0_BFD\", \"distance\": 12}, {\"ca_bus_route\": \"Rt 1C\", \"orig\": \"BFD\", \"dest\": \"SMN\", \"trip_month\": 4, \"trip_year\": 2025, \"ridership\": 51, \"revenue\": 829.34, \"od\": \"BFD->SMN\", \"direction\": \"sb\", \"orig_seq\": 0, \"dest_seq\": 5, \"departing_station\": \"0_BFD\", \"distance\": 13}, {\"ca_bus_route\": \"Rt 1C\", \"orig\": \"BFD\", \"dest\": \"SMN\", \"trip_month\": 4, \"trip_year\": 2025, \"ridership\": 51, \"revenue\": 829.34, \"od\": \"BFD->SMN\", \"direction\": \"sb\", \"orig_seq\": 0, \"dest_seq\": 5, \"departing_station\": \"0_BFD\", \"distance\": 14}, {\"ca_bus_route\": \"Rt 1C\", \"orig\": \"BFD\", \"dest\": \"SMN\", \"trip_month\": 4, \"trip_year\": 2025, \"ridership\": 51, \"revenue\": 829.34, \"od\": \"BFD->SMN\", \"direction\": \"sb\", \"orig_seq\": 0, \"dest_seq\": 5, \"departing_station\": \"0_BFD\", \"distance\": 15}, {\"ca_bus_route\": \"Rt 1C\", \"orig\": \"BFD\", \"dest\": \"SMN\", \"trip_month\": 4, \"trip_year\": 2025, \"ridership\": 51, \"revenue\": 829.34, \"od\": \"BFD->SMN\", \"direction\": \"sb\", \"orig_seq\": 0, \"dest_seq\": 5, \"departing_station\": \"0_BFD\", \"distance\": 16}, {\"ca_bus_route\": \"Rt 1C\", \"orig\": \"BFD\", \"dest\": \"SMN\", \"trip_month\": 4, \"trip_year\": 2025, \"ridership\": 51, \"revenue\": 829.34, \"od\": \"BFD->SMN\", \"direction\": \"sb\", \"orig_seq\": 0, \"dest_seq\": 5, \"departing_station\": \"0_BFD\", \"distance\": 17}, {\"ca_bus_route\": \"Rt 1C\", \"orig\": \"BFD\", \"dest\": \"SMN\", \"trip_month\": 4, \"trip_year\": 2025, \"ridership\": 51, \"revenue\": 829.34, \"od\": \"BFD->SMN\", \"direction\": \"sb\", \"orig_seq\": 0, \"dest_seq\": 5, \"departing_station\": \"0_BFD\", \"distance\": 18}, {\"ca_bus_route\": \"Rt 1C\", \"orig\": \"BFD\", \"dest\": \"SMN\", \"trip_month\": 4, \"trip_year\": 2025, \"ridership\": 51, \"revenue\": 829.34, \"od\": \"BFD->SMN\", \"direction\": \"sb\", \"orig_seq\": 0, \"dest_seq\": 5, \"departing_station\": \"0_BFD\", \"distance\": 19}, {\"ca_bus_route\": \"Rt 1C\", \"orig\": \"BFD\", \"dest\": \"SMN\", \"trip_month\": 4, \"trip_year\": 2025, \"ridership\": 51, \"revenue\": 829.34, \"od\": \"BFD->SMN\", \"direction\": \"sb\", \"orig_seq\": 0, \"dest_seq\": 5, \"departing_station\": \"0_BFD\", \"distance\": 20}, {\"ca_bus_route\": \"Rt 1C\", \"orig\": \"BFD\", \"dest\": \"SMN\", \"trip_month\": 4, \"trip_year\": 2025, \"ridership\": 51, \"revenue\": 829.34, \"od\": \"BFD->SMN\", \"direction\": \"sb\", \"orig_seq\": 0, \"dest_seq\": 5, \"departing_station\": \"0_BFD\", \"distance\": 21}, {\"ca_bus_route\": \"Rt 1C\", \"orig\": \"BFD\", \"dest\": \"SMN\", \"trip_month\": 4, \"trip_year\": 2025, \"ridership\": 51, \"revenue\": 829.34, \"od\": \"BFD->SMN\", \"direction\": \"sb\", \"orig_seq\": 0, \"dest_seq\": 5, \"departing_station\": \"0_BFD\", \"distance\": 22}, {\"ca_bus_route\": \"Rt 1C\", \"orig\": \"BFD\", \"dest\": \"SMN\", \"trip_month\": 4, \"trip_year\": 2025, \"ridership\": 51, \"revenue\": 829.34, \"od\": \"BFD->SMN\", \"direction\": \"sb\", \"orig_seq\": 0, \"dest_seq\": 5, \"departing_station\": \"0_BFD\", \"distance\": 23}, {\"ca_bus_route\": \"Rt 1C\", \"orig\": \"BFD\", \"dest\": \"SMN\", \"trip_month\": 4, \"trip_year\": 2025, \"ridership\": 51, \"revenue\": 829.34, \"od\": \"BFD->SMN\", \"direction\": \"sb\", \"orig_seq\": 0, \"dest_seq\": 5, \"departing_station\": \"0_BFD\", \"distance\": 24}, {\"ca_bus_route\": \"Rt 1C\", \"orig\": \"BFD\", \"dest\": \"SMN\", \"trip_month\": 4, \"trip_year\": 2025, \"ridership\": 51, \"revenue\": 829.34, \"od\": \"BFD->SMN\", \"direction\": \"sb\", \"orig_seq\": 0, \"dest_seq\": 5, \"departing_station\": \"0_BFD\", \"distance\": 25}, {\"ca_bus_route\": \"Rt 1C\", \"orig\": \"BFD\", \"dest\": \"SMN\", \"trip_month\": 4, \"trip_year\": 2025, \"ridership\": 51, \"revenue\": 829.34, \"od\": \"BFD->SMN\", \"direction\": \"sb\", \"orig_seq\": 0, \"dest_seq\": 5, \"departing_station\": \"0_BFD\", \"distance\": 26}, {\"ca_bus_route\": \"Rt 1C\", \"orig\": \"BFD\", \"dest\": \"SMN\", \"trip_month\": 4, \"trip_year\": 2025, \"ridership\": 51, \"revenue\": 829.34, \"od\": \"BFD->SMN\", \"direction\": \"sb\", \"orig_seq\": 0, \"dest_seq\": 5, \"departing_station\": \"0_BFD\", \"distance\": 27}, {\"ca_bus_route\": \"Rt 1C\", \"orig\": \"BFD\", \"dest\": \"SMN\", \"trip_month\": 4, \"trip_year\": 2025, \"ridership\": 51, \"revenue\": 829.34, \"od\": \"BFD->SMN\", \"direction\": \"sb\", \"orig_seq\": 0, \"dest_seq\": 5, \"departing_station\": \"0_BFD\", \"distance\": 28}, {\"ca_bus_route\": \"Rt 1C\", \"orig\": \"BFD\", \"dest\": \"SMN\", \"trip_month\": 4, \"trip_year\": 2025, \"ridership\": 51, \"revenue\": 829.34, \"od\": \"BFD->SMN\", \"direction\": \"sb\", \"orig_seq\": 0, \"dest_seq\": 5, \"departing_station\": \"0_BFD\", \"distance\": 29}, {\"ca_bus_route\": \"Rt 1C\", \"orig\": \"BFD\", \"dest\": \"SMN\", \"trip_month\": 4, \"trip_year\": 2025, \"ridership\": 51, \"revenue\": 829.34, \"od\": \"BFD->SMN\", \"direction\": \"sb\", \"orig_seq\": 0, \"dest_seq\": 5, \"departing_station\": \"0_BFD\", \"distance\": 30}, {\"ca_bus_route\": \"Rt 1C\", \"orig\": \"BFD\", \"dest\": \"SMN\", \"trip_month\": 4, \"trip_year\": 2025, \"ridership\": 51, \"revenue\": 829.34, \"od\": \"BFD->SMN\", \"direction\": \"sb\", \"orig_seq\": 0, \"dest_seq\": 5, \"departing_station\": \"0_BFD\", \"distance\": 31}, {\"ca_bus_route\": \"Rt 1C\", \"orig\": \"BFD\", \"dest\": \"SMN\", \"trip_month\": 4, \"trip_year\": 2025, \"ridership\": 51, \"revenue\": 829.34, \"od\": \"BFD->SMN\", \"direction\": \"sb\", \"orig_seq\": 0, \"dest_seq\": 5, \"departing_station\": \"0_BFD\", \"distance\": 32}, {\"ca_bus_route\": \"Rt 1C\", \"orig\": \"BFD\", \"dest\": \"SMN\", \"trip_month\": 4, \"trip_year\": 2025, \"ridership\": 51, \"revenue\": 829.34, \"od\": \"BFD->SMN\", \"direction\": \"sb\", \"orig_seq\": 0, \"dest_seq\": 5, \"departing_station\": \"0_BFD\", \"distance\": 33}, {\"ca_bus_route\": \"Rt 1C\", \"orig\": \"BFD\", \"dest\": \"SMN\", \"trip_month\": 4, \"trip_year\": 2025, \"ridership\": 51, \"revenue\": 829.34, \"od\": \"BFD->SMN\", \"direction\": \"sb\", \"orig_seq\": 0, \"dest_seq\": 5, \"departing_station\": \"0_BFD\", \"distance\": 34}, {\"ca_bus_route\": \"Rt 1C\", \"orig\": \"BFD\", \"dest\": \"SMN\", \"trip_month\": 4, \"trip_year\": 2025, \"ridership\": 51, \"revenue\": 829.34, \"od\": \"BFD->SMN\", \"direction\": \"sb\", \"orig_seq\": 0, \"dest_seq\": 5, \"departing_station\": \"0_BFD\", \"distance\": 35}, {\"ca_bus_route\": \"Rt 1C\", \"orig\": \"BFD\", \"dest\": \"SMN\", \"trip_month\": 4, \"trip_year\": 2025, \"ridership\": 51, \"revenue\": 829.34, \"od\": \"BFD->SMN\", \"direction\": \"sb\", \"orig_seq\": 0, \"dest_seq\": 5, \"departing_station\": \"0_BFD\", \"distance\": 36}, {\"ca_bus_route\": \"Rt 1C\", \"orig\": \"BFD\", \"dest\": \"SMN\", \"trip_month\": 4, \"trip_year\": 2025, \"ridership\": 51, \"revenue\": 829.34, \"od\": \"BFD->SMN\", \"direction\": \"sb\", \"orig_seq\": 0, \"dest_seq\": 5, \"departing_station\": \"0_BFD\", \"distance\": 37}, {\"ca_bus_route\": \"Rt 1C\", \"orig\": \"BFD\", \"dest\": \"SMN\", \"trip_month\": 4, \"trip_year\": 2025, \"ridership\": 51, \"revenue\": 829.34, \"od\": \"BFD->SMN\", \"direction\": \"sb\", \"orig_seq\": 0, \"dest_seq\": 5, \"departing_station\": \"0_BFD\", \"distance\": 38}, {\"ca_bus_route\": \"Rt 1C\", \"orig\": \"BFD\", \"dest\": \"SMN\", \"trip_month\": 4, \"trip_year\": 2025, \"ridership\": 51, \"revenue\": 829.34, \"od\": \"BFD->SMN\", \"direction\": \"sb\", \"orig_seq\": 0, \"dest_seq\": 5, \"departing_station\": \"0_BFD\", \"distance\": 39}, {\"ca_bus_route\": \"Rt 1C\", \"orig\": \"BFD\", \"dest\": \"SMN\", \"trip_month\": 4, \"trip_year\": 2025, \"ridership\": 51, \"revenue\": 829.34, \"od\": \"BFD->SMN\", \"direction\": \"sb\", \"orig_seq\": 0, \"dest_seq\": 5, \"departing_station\": \"0_BFD\", \"distance\": 40}, {\"ca_bus_route\": \"Rt 1C\", \"orig\": \"BFD\", \"dest\": \"SMN\", \"trip_month\": 4, \"trip_year\": 2025, \"ridership\": 51, \"revenue\": 829.34, \"od\": \"BFD->SMN\", \"direction\": \"sb\", \"orig_seq\": 0, \"dest_seq\": 5, \"departing_station\": \"0_BFD\", \"distance\": 41}, {\"ca_bus_route\": \"Rt 1C\", \"orig\": \"BFD\", \"dest\": \"SMN\", \"trip_month\": 4, \"trip_year\": 2025, \"ridership\": 51, \"revenue\": 829.34, \"od\": \"BFD->SMN\", \"direction\": \"sb\", \"orig_seq\": 0, \"dest_seq\": 5, \"departing_station\": \"0_BFD\", \"distance\": 42}, {\"ca_bus_route\": \"Rt 1C\", \"orig\": \"BFD\", \"dest\": \"SMN\", \"trip_month\": 4, \"trip_year\": 2025, \"ridership\": 51, \"revenue\": 829.34, \"od\": \"BFD->SMN\", \"direction\": \"sb\", \"orig_seq\": 0, \"dest_seq\": 5, \"departing_station\": \"0_BFD\", \"distance\": 43}, {\"ca_bus_route\": \"Rt 1C\", \"orig\": \"BFD\", \"dest\": \"SMN\", \"trip_month\": 4, \"trip_year\": 2025, \"ridership\": 51, \"revenue\": 829.34, \"od\": \"BFD->SMN\", \"direction\": \"sb\", \"orig_seq\": 0, \"dest_seq\": 5, \"departing_station\": \"0_BFD\", \"distance\": 44}, {\"ca_bus_route\": \"Rt 1C\", \"orig\": \"BFD\", \"dest\": \"SMN\", \"trip_month\": 4, \"trip_year\": 2025, \"ridership\": 51, \"revenue\": 829.34, \"od\": \"BFD->SMN\", \"direction\": \"sb\", \"orig_seq\": 0, \"dest_seq\": 5, \"departing_station\": \"0_BFD\", \"distance\": 45}, {\"ca_bus_route\": \"Rt 1C\", \"orig\": \"BFD\", \"dest\": \"SMN\", \"trip_month\": 4, \"trip_year\": 2025, \"ridership\": 51, \"revenue\": 829.34, \"od\": \"BFD->SMN\", \"direction\": \"sb\", \"orig_seq\": 0, \"dest_seq\": 5, \"departing_station\": \"0_BFD\", \"distance\": 46}, {\"ca_bus_route\": \"Rt 1C\", \"orig\": \"BFD\", \"dest\": \"SMN\", \"trip_month\": 4, \"trip_year\": 2025, \"ridership\": 51, \"revenue\": 829.34, \"od\": \"BFD->SMN\", \"direction\": \"sb\", \"orig_seq\": 0, \"dest_seq\": 5, \"departing_station\": \"0_BFD\", \"distance\": 47}, {\"ca_bus_route\": \"Rt 1C\", \"orig\": \"BFD\", \"dest\": \"SMN\", \"trip_month\": 4, \"trip_year\": 2025, \"ridership\": 51, \"revenue\": 829.34, \"od\": \"BFD->SMN\", \"direction\": \"sb\", \"orig_seq\": 0, \"dest_seq\": 5, \"departing_station\": \"0_BFD\", \"distance\": 48}, {\"ca_bus_route\": \"Rt 1C\", \"orig\": \"BFD\", \"dest\": \"SMN\", \"trip_month\": 4, \"trip_year\": 2025, \"ridership\": 51, \"revenue\": 829.34, \"od\": \"BFD->SMN\", \"direction\": \"sb\", \"orig_seq\": 0, \"dest_seq\": 5, \"departing_station\": \"0_BFD\", \"distance\": 49}, {\"ca_bus_route\": \"Rt 1C\", \"orig\": \"BFD\", \"dest\": \"VNC\", \"trip_month\": 4, \"trip_year\": 2025, \"ridership\": 518, \"revenue\": 5618.8, \"od\": \"BFD->VNC\", \"direction\": \"sb\", \"orig_seq\": 0, \"dest_seq\": 3, \"departing_station\": \"0_BFD\", \"distance\": 0}, {\"ca_bus_route\": \"Rt 1C\", \"orig\": \"BFD\", \"dest\": \"VNC\", \"trip_month\": 4, \"trip_year\": 2025, \"ridership\": 518, \"revenue\": 5618.8, \"od\": \"BFD->VNC\", \"direction\": \"sb\", \"orig_seq\": 0, \"dest_seq\": 3, \"departing_station\": \"0_BFD\", \"distance\": 1}, {\"ca_bus_route\": \"Rt 1C\", \"orig\": \"BFD\", \"dest\": \"VNC\", \"trip_month\": 4, \"trip_year\": 2025, \"ridership\": 518, \"revenue\": 5618.8, \"od\": \"BFD->VNC\", \"direction\": \"sb\", \"orig_seq\": 0, \"dest_seq\": 3, \"departing_station\": \"0_BFD\", \"distance\": 2}, {\"ca_bus_route\": \"Rt 1C\", \"orig\": \"BFD\", \"dest\": \"VNC\", \"trip_month\": 4, \"trip_year\": 2025, \"ridership\": 518, \"revenue\": 5618.8, \"od\": \"BFD->VNC\", \"direction\": \"sb\", \"orig_seq\": 0, \"dest_seq\": 3, \"departing_station\": \"0_BFD\", \"distance\": 3}, {\"ca_bus_route\": \"Rt 1C\", \"orig\": \"BFD\", \"dest\": \"VNC\", \"trip_month\": 4, \"trip_year\": 2025, \"ridership\": 518, \"revenue\": 5618.8, \"od\": \"BFD->VNC\", \"direction\": \"sb\", \"orig_seq\": 0, \"dest_seq\": 3, \"departing_station\": \"0_BFD\", \"distance\": 4}, {\"ca_bus_route\": \"Rt 1C\", \"orig\": \"BFD\", \"dest\": \"VNC\", \"trip_month\": 4, \"trip_year\": 2025, \"ridership\": 518, \"revenue\": 5618.8, \"od\": \"BFD->VNC\", \"direction\": \"sb\", \"orig_seq\": 0, \"dest_seq\": 3, \"departing_station\": \"0_BFD\", \"distance\": 5}, {\"ca_bus_route\": \"Rt 1C\", \"orig\": \"BFD\", \"dest\": \"VNC\", \"trip_month\": 4, \"trip_year\": 2025, \"ridership\": 518, \"revenue\": 5618.8, \"od\": \"BFD->VNC\", \"direction\": \"sb\", \"orig_seq\": 0, \"dest_seq\": 3, \"departing_station\": \"0_BFD\", \"distance\": 6}, {\"ca_bus_route\": \"Rt 1C\", \"orig\": \"BFD\", \"dest\": \"VNC\", \"trip_month\": 4, \"trip_year\": 2025, \"ridership\": 518, \"revenue\": 5618.8, \"od\": \"BFD->VNC\", \"direction\": \"sb\", \"orig_seq\": 0, \"dest_seq\": 3, \"departing_station\": \"0_BFD\", \"distance\": 7}, {\"ca_bus_route\": \"Rt 1C\", \"orig\": \"BFD\", \"dest\": \"VNC\", \"trip_month\": 4, \"trip_year\": 2025, \"ridership\": 518, \"revenue\": 5618.8, \"od\": \"BFD->VNC\", \"direction\": \"sb\", \"orig_seq\": 0, \"dest_seq\": 3, \"departing_station\": \"0_BFD\", \"distance\": 8}, {\"ca_bus_route\": \"Rt 1C\", \"orig\": \"BFD\", \"dest\": \"VNC\", \"trip_month\": 4, \"trip_year\": 2025, \"ridership\": 518, \"revenue\": 5618.8, \"od\": \"BFD->VNC\", \"direction\": \"sb\", \"orig_seq\": 0, \"dest_seq\": 3, \"departing_station\": \"0_BFD\", \"distance\": 9}, {\"ca_bus_route\": \"Rt 1C\", \"orig\": \"BFD\", \"dest\": \"VNC\", \"trip_month\": 4, \"trip_year\": 2025, \"ridership\": 518, \"revenue\": 5618.8, \"od\": \"BFD->VNC\", \"direction\": \"sb\", \"orig_seq\": 0, \"dest_seq\": 3, \"departing_station\": \"0_BFD\", \"distance\": 10}, {\"ca_bus_route\": \"Rt 1C\", \"orig\": \"BFD\", \"dest\": \"VNC\", \"trip_month\": 4, \"trip_year\": 2025, \"ridership\": 518, \"revenue\": 5618.8, \"od\": \"BFD->VNC\", \"direction\": \"sb\", \"orig_seq\": 0, \"dest_seq\": 3, \"departing_station\": \"0_BFD\", \"distance\": 11}, {\"ca_bus_route\": \"Rt 1C\", \"orig\": \"BFD\", \"dest\": \"VNC\", \"trip_month\": 4, \"trip_year\": 2025, \"ridership\": 518, \"revenue\": 5618.8, \"od\": \"BFD->VNC\", \"direction\": \"sb\", \"orig_seq\": 0, \"dest_seq\": 3, \"departing_station\": \"0_BFD\", \"distance\": 12}, {\"ca_bus_route\": \"Rt 1C\", \"orig\": \"BFD\", \"dest\": \"VNC\", \"trip_month\": 4, \"trip_year\": 2025, \"ridership\": 518, \"revenue\": 5618.8, \"od\": \"BFD->VNC\", \"direction\": \"sb\", \"orig_seq\": 0, \"dest_seq\": 3, \"departing_station\": \"0_BFD\", \"distance\": 13}, {\"ca_bus_route\": \"Rt 1C\", \"orig\": \"BFD\", \"dest\": \"VNC\", \"trip_month\": 4, \"trip_year\": 2025, \"ridership\": 518, \"revenue\": 5618.8, \"od\": \"BFD->VNC\", \"direction\": \"sb\", \"orig_seq\": 0, \"dest_seq\": 3, \"departing_station\": \"0_BFD\", \"distance\": 14}, {\"ca_bus_route\": \"Rt 1C\", \"orig\": \"BFD\", \"dest\": \"VNC\", \"trip_month\": 4, \"trip_year\": 2025, \"ridership\": 518, \"revenue\": 5618.8, \"od\": \"BFD->VNC\", \"direction\": \"sb\", \"orig_seq\": 0, \"dest_seq\": 3, \"departing_station\": \"0_BFD\", \"distance\": 15}, {\"ca_bus_route\": \"Rt 1C\", \"orig\": \"BFD\", \"dest\": \"VNC\", \"trip_month\": 4, \"trip_year\": 2025, \"ridership\": 518, \"revenue\": 5618.8, \"od\": \"BFD->VNC\", \"direction\": \"sb\", \"orig_seq\": 0, \"dest_seq\": 3, \"departing_station\": \"0_BFD\", \"distance\": 16}, {\"ca_bus_route\": \"Rt 1C\", \"orig\": \"BFD\", \"dest\": \"VNC\", \"trip_month\": 4, \"trip_year\": 2025, \"ridership\": 518, \"revenue\": 5618.8, \"od\": \"BFD->VNC\", \"direction\": \"sb\", \"orig_seq\": 0, \"dest_seq\": 3, \"departing_station\": \"0_BFD\", \"distance\": 17}, {\"ca_bus_route\": \"Rt 1C\", \"orig\": \"BFD\", \"dest\": \"VNC\", \"trip_month\": 4, \"trip_year\": 2025, \"ridership\": 518, \"revenue\": 5618.8, \"od\": \"BFD->VNC\", \"direction\": \"sb\", \"orig_seq\": 0, \"dest_seq\": 3, \"departing_station\": \"0_BFD\", \"distance\": 18}, {\"ca_bus_route\": \"Rt 1C\", \"orig\": \"BFD\", \"dest\": \"VNC\", \"trip_month\": 4, \"trip_year\": 2025, \"ridership\": 518, \"revenue\": 5618.8, \"od\": \"BFD->VNC\", \"direction\": \"sb\", \"orig_seq\": 0, \"dest_seq\": 3, \"departing_station\": \"0_BFD\", \"distance\": 19}, {\"ca_bus_route\": \"Rt 1C\", \"orig\": \"BFD\", \"dest\": \"VNC\", \"trip_month\": 4, \"trip_year\": 2025, \"ridership\": 518, \"revenue\": 5618.8, \"od\": \"BFD->VNC\", \"direction\": \"sb\", \"orig_seq\": 0, \"dest_seq\": 3, \"departing_station\": \"0_BFD\", \"distance\": 20}, {\"ca_bus_route\": \"Rt 1C\", \"orig\": \"BFD\", \"dest\": \"VNC\", \"trip_month\": 4, \"trip_year\": 2025, \"ridership\": 518, \"revenue\": 5618.8, \"od\": \"BFD->VNC\", \"direction\": \"sb\", \"orig_seq\": 0, \"dest_seq\": 3, \"departing_station\": \"0_BFD\", \"distance\": 21}, {\"ca_bus_route\": \"Rt 1C\", \"orig\": \"BFD\", \"dest\": \"VNC\", \"trip_month\": 4, \"trip_year\": 2025, \"ridership\": 518, \"revenue\": 5618.8, \"od\": \"BFD->VNC\", \"direction\": \"sb\", \"orig_seq\": 0, \"dest_seq\": 3, \"departing_station\": \"0_BFD\", \"distance\": 22}, {\"ca_bus_route\": \"Rt 1C\", \"orig\": \"BFD\", \"dest\": \"VNC\", \"trip_month\": 4, \"trip_year\": 2025, \"ridership\": 518, \"revenue\": 5618.8, \"od\": \"BFD->VNC\", \"direction\": \"sb\", \"orig_seq\": 0, \"dest_seq\": 3, \"departing_station\": \"0_BFD\", \"distance\": 23}, {\"ca_bus_route\": \"Rt 1C\", \"orig\": \"BFD\", \"dest\": \"VNC\", \"trip_month\": 4, \"trip_year\": 2025, \"ridership\": 518, \"revenue\": 5618.8, \"od\": \"BFD->VNC\", \"direction\": \"sb\", \"orig_seq\": 0, \"dest_seq\": 3, \"departing_station\": \"0_BFD\", \"distance\": 24}, {\"ca_bus_route\": \"Rt 1C\", \"orig\": \"BFD\", \"dest\": \"VNC\", \"trip_month\": 4, \"trip_year\": 2025, \"ridership\": 518, \"revenue\": 5618.8, \"od\": \"BFD->VNC\", \"direction\": \"sb\", \"orig_seq\": 0, \"dest_seq\": 3, \"departing_station\": \"0_BFD\", \"distance\": 25}, {\"ca_bus_route\": \"Rt 1C\", \"orig\": \"BFD\", \"dest\": \"VNC\", \"trip_month\": 4, \"trip_year\": 2025, \"ridership\": 518, \"revenue\": 5618.8, \"od\": \"BFD->VNC\", \"direction\": \"sb\", \"orig_seq\": 0, \"dest_seq\": 3, \"departing_station\": \"0_BFD\", \"distance\": 26}, {\"ca_bus_route\": \"Rt 1C\", \"orig\": \"BFD\", \"dest\": \"VNC\", \"trip_month\": 4, \"trip_year\": 2025, \"ridership\": 518, \"revenue\": 5618.8, \"od\": \"BFD->VNC\", \"direction\": \"sb\", \"orig_seq\": 0, \"dest_seq\": 3, \"departing_station\": \"0_BFD\", \"distance\": 27}, {\"ca_bus_route\": \"Rt 1C\", \"orig\": \"BFD\", \"dest\": \"VNC\", \"trip_month\": 4, \"trip_year\": 2025, \"ridership\": 518, \"revenue\": 5618.8, \"od\": \"BFD->VNC\", \"direction\": \"sb\", \"orig_seq\": 0, \"dest_seq\": 3, \"departing_station\": \"0_BFD\", \"distance\": 28}, {\"ca_bus_route\": \"Rt 1C\", \"orig\": \"BFD\", \"dest\": \"VNC\", \"trip_month\": 4, \"trip_year\": 2025, \"ridership\": 518, \"revenue\": 5618.8, \"od\": \"BFD->VNC\", \"direction\": \"sb\", \"orig_seq\": 0, \"dest_seq\": 3, \"departing_station\": \"0_BFD\", \"distance\": 29}, {\"ca_bus_route\": \"Rt 1C\", \"orig\": \"BFD\", \"dest\": \"VNC\", \"trip_month\": 4, \"trip_year\": 2025, \"ridership\": 518, \"revenue\": 5618.8, \"od\": \"BFD->VNC\", \"direction\": \"sb\", \"orig_seq\": 0, \"dest_seq\": 3, \"departing_station\": \"0_BFD\", \"distance\": 30}, {\"ca_bus_route\": \"Rt 1C\", \"orig\": \"BFD\", \"dest\": \"VNC\", \"trip_month\": 4, \"trip_year\": 2025, \"ridership\": 518, \"revenue\": 5618.8, \"od\": \"BFD->VNC\", \"direction\": \"sb\", \"orig_seq\": 0, \"dest_seq\": 3, \"departing_station\": \"0_BFD\", \"distance\": 31}, {\"ca_bus_route\": \"Rt 1C\", \"orig\": \"BFD\", \"dest\": \"VNC\", \"trip_month\": 4, \"trip_year\": 2025, \"ridership\": 518, \"revenue\": 5618.8, \"od\": \"BFD->VNC\", \"direction\": \"sb\", \"orig_seq\": 0, \"dest_seq\": 3, \"departing_station\": \"0_BFD\", \"distance\": 32}, {\"ca_bus_route\": \"Rt 1C\", \"orig\": \"BFD\", \"dest\": \"VNC\", \"trip_month\": 4, \"trip_year\": 2025, \"ridership\": 518, \"revenue\": 5618.8, \"od\": \"BFD->VNC\", \"direction\": \"sb\", \"orig_seq\": 0, \"dest_seq\": 3, \"departing_station\": \"0_BFD\", \"distance\": 33}, {\"ca_bus_route\": \"Rt 1C\", \"orig\": \"BFD\", \"dest\": \"VNC\", \"trip_month\": 4, \"trip_year\": 2025, \"ridership\": 518, \"revenue\": 5618.8, \"od\": \"BFD->VNC\", \"direction\": \"sb\", \"orig_seq\": 0, \"dest_seq\": 3, \"departing_station\": \"0_BFD\", \"distance\": 34}, {\"ca_bus_route\": \"Rt 1C\", \"orig\": \"BFD\", \"dest\": \"VNC\", \"trip_month\": 4, \"trip_year\": 2025, \"ridership\": 518, \"revenue\": 5618.8, \"od\": \"BFD->VNC\", \"direction\": \"sb\", \"orig_seq\": 0, \"dest_seq\": 3, \"departing_station\": \"0_BFD\", \"distance\": 35}, {\"ca_bus_route\": \"Rt 1C\", \"orig\": \"BFD\", \"dest\": \"VNC\", \"trip_month\": 4, \"trip_year\": 2025, \"ridership\": 518, \"revenue\": 5618.8, \"od\": \"BFD->VNC\", \"direction\": \"sb\", \"orig_seq\": 0, \"dest_seq\": 3, \"departing_station\": \"0_BFD\", \"distance\": 36}, {\"ca_bus_route\": \"Rt 1C\", \"orig\": \"BFD\", \"dest\": \"VNC\", \"trip_month\": 4, \"trip_year\": 2025, \"ridership\": 518, \"revenue\": 5618.8, \"od\": \"BFD->VNC\", \"direction\": \"sb\", \"orig_seq\": 0, \"dest_seq\": 3, \"departing_station\": \"0_BFD\", \"distance\": 37}, {\"ca_bus_route\": \"Rt 1C\", \"orig\": \"BFD\", \"dest\": \"VNC\", \"trip_month\": 4, \"trip_year\": 2025, \"ridership\": 518, \"revenue\": 5618.8, \"od\": \"BFD->VNC\", \"direction\": \"sb\", \"orig_seq\": 0, \"dest_seq\": 3, \"departing_station\": \"0_BFD\", \"distance\": 38}, {\"ca_bus_route\": \"Rt 1C\", \"orig\": \"BFD\", \"dest\": \"VNC\", \"trip_month\": 4, \"trip_year\": 2025, \"ridership\": 518, \"revenue\": 5618.8, \"od\": \"BFD->VNC\", \"direction\": \"sb\", \"orig_seq\": 0, \"dest_seq\": 3, \"departing_station\": \"0_BFD\", \"distance\": 39}, {\"ca_bus_route\": \"Rt 1C\", \"orig\": \"BFD\", \"dest\": \"VNC\", \"trip_month\": 4, \"trip_year\": 2025, \"ridership\": 518, \"revenue\": 5618.8, \"od\": \"BFD->VNC\", \"direction\": \"sb\", \"orig_seq\": 0, \"dest_seq\": 3, \"departing_station\": \"0_BFD\", \"distance\": 40}, {\"ca_bus_route\": \"Rt 1C\", \"orig\": \"BFD\", \"dest\": \"VNC\", \"trip_month\": 4, \"trip_year\": 2025, \"ridership\": 518, \"revenue\": 5618.8, \"od\": \"BFD->VNC\", \"direction\": \"sb\", \"orig_seq\": 0, \"dest_seq\": 3, \"departing_station\": \"0_BFD\", \"distance\": 41}, {\"ca_bus_route\": \"Rt 1C\", \"orig\": \"BFD\", \"dest\": \"VNC\", \"trip_month\": 4, \"trip_year\": 2025, \"ridership\": 518, \"revenue\": 5618.8, \"od\": \"BFD->VNC\", \"direction\": \"sb\", \"orig_seq\": 0, \"dest_seq\": 3, \"departing_station\": \"0_BFD\", \"distance\": 42}, {\"ca_bus_route\": \"Rt 1C\", \"orig\": \"BFD\", \"dest\": \"VNC\", \"trip_month\": 4, \"trip_year\": 2025, \"ridership\": 518, \"revenue\": 5618.8, \"od\": \"BFD->VNC\", \"direction\": \"sb\", \"orig_seq\": 0, \"dest_seq\": 3, \"departing_station\": \"0_BFD\", \"distance\": 43}, {\"ca_bus_route\": \"Rt 1C\", \"orig\": \"BFD\", \"dest\": \"VNC\", \"trip_month\": 4, \"trip_year\": 2025, \"ridership\": 518, \"revenue\": 5618.8, \"od\": \"BFD->VNC\", \"direction\": \"sb\", \"orig_seq\": 0, \"dest_seq\": 3, \"departing_station\": \"0_BFD\", \"distance\": 44}, {\"ca_bus_route\": \"Rt 1C\", \"orig\": \"BFD\", \"dest\": \"VNC\", \"trip_month\": 4, \"trip_year\": 2025, \"ridership\": 518, \"revenue\": 5618.8, \"od\": \"BFD->VNC\", \"direction\": \"sb\", \"orig_seq\": 0, \"dest_seq\": 3, \"departing_station\": \"0_BFD\", \"distance\": 45}, {\"ca_bus_route\": \"Rt 1C\", \"orig\": \"BFD\", \"dest\": \"VNC\", \"trip_month\": 4, \"trip_year\": 2025, \"ridership\": 518, \"revenue\": 5618.8, \"od\": \"BFD->VNC\", \"direction\": \"sb\", \"orig_seq\": 0, \"dest_seq\": 3, \"departing_station\": \"0_BFD\", \"distance\": 46}, {\"ca_bus_route\": \"Rt 1C\", \"orig\": \"BFD\", \"dest\": \"VNC\", \"trip_month\": 4, \"trip_year\": 2025, \"ridership\": 518, \"revenue\": 5618.8, \"od\": \"BFD->VNC\", \"direction\": \"sb\", \"orig_seq\": 0, \"dest_seq\": 3, \"departing_station\": \"0_BFD\", \"distance\": 47}, {\"ca_bus_route\": \"Rt 1C\", \"orig\": \"BFD\", \"dest\": \"VNC\", \"trip_month\": 4, \"trip_year\": 2025, \"ridership\": 518, \"revenue\": 5618.8, \"od\": \"BFD->VNC\", \"direction\": \"sb\", \"orig_seq\": 0, \"dest_seq\": 3, \"departing_station\": \"0_BFD\", \"distance\": 48}, {\"ca_bus_route\": \"Rt 1C\", \"orig\": \"BFD\", \"dest\": \"VNC\", \"trip_month\": 4, \"trip_year\": 2025, \"ridership\": 518, \"revenue\": 5618.8, \"od\": \"BFD->VNC\", \"direction\": \"sb\", \"orig_seq\": 0, \"dest_seq\": 3, \"departing_station\": \"0_BFD\", \"distance\": 49}, {\"ca_bus_route\": \"Rt 1C\", \"orig\": \"BFD\", \"dest\": \"WES\", \"trip_month\": 4, \"trip_year\": 2025, \"ridership\": 288, \"revenue\": 4948.75, \"od\": \"BFD->WES\", \"direction\": \"sb\", \"orig_seq\": 0, \"dest_seq\": 4, \"departing_station\": \"0_BFD\", \"distance\": 0}, {\"ca_bus_route\": \"Rt 1C\", \"orig\": \"BFD\", \"dest\": \"WES\", \"trip_month\": 4, \"trip_year\": 2025, \"ridership\": 288, \"revenue\": 4948.75, \"od\": \"BFD->WES\", \"direction\": \"sb\", \"orig_seq\": 0, \"dest_seq\": 4, \"departing_station\": \"0_BFD\", \"distance\": 1}, {\"ca_bus_route\": \"Rt 1C\", \"orig\": \"BFD\", \"dest\": \"WES\", \"trip_month\": 4, \"trip_year\": 2025, \"ridership\": 288, \"revenue\": 4948.75, \"od\": \"BFD->WES\", \"direction\": \"sb\", \"orig_seq\": 0, \"dest_seq\": 4, \"departing_station\": \"0_BFD\", \"distance\": 2}, {\"ca_bus_route\": \"Rt 1C\", \"orig\": \"BFD\", \"dest\": \"WES\", \"trip_month\": 4, \"trip_year\": 2025, \"ridership\": 288, \"revenue\": 4948.75, \"od\": \"BFD->WES\", \"direction\": \"sb\", \"orig_seq\": 0, \"dest_seq\": 4, \"departing_station\": \"0_BFD\", \"distance\": 3}, {\"ca_bus_route\": \"Rt 1C\", \"orig\": \"BFD\", \"dest\": \"WES\", \"trip_month\": 4, \"trip_year\": 2025, \"ridership\": 288, \"revenue\": 4948.75, \"od\": \"BFD->WES\", \"direction\": \"sb\", \"orig_seq\": 0, \"dest_seq\": 4, \"departing_station\": \"0_BFD\", \"distance\": 4}, {\"ca_bus_route\": \"Rt 1C\", \"orig\": \"BFD\", \"dest\": \"WES\", \"trip_month\": 4, \"trip_year\": 2025, \"ridership\": 288, \"revenue\": 4948.75, \"od\": \"BFD->WES\", \"direction\": \"sb\", \"orig_seq\": 0, \"dest_seq\": 4, \"departing_station\": \"0_BFD\", \"distance\": 5}, {\"ca_bus_route\": \"Rt 1C\", \"orig\": \"BFD\", \"dest\": \"WES\", \"trip_month\": 4, \"trip_year\": 2025, \"ridership\": 288, \"revenue\": 4948.75, \"od\": \"BFD->WES\", \"direction\": \"sb\", \"orig_seq\": 0, \"dest_seq\": 4, \"departing_station\": \"0_BFD\", \"distance\": 6}, {\"ca_bus_route\": \"Rt 1C\", \"orig\": \"BFD\", \"dest\": \"WES\", \"trip_month\": 4, \"trip_year\": 2025, \"ridership\": 288, \"revenue\": 4948.75, \"od\": \"BFD->WES\", \"direction\": \"sb\", \"orig_seq\": 0, \"dest_seq\": 4, \"departing_station\": \"0_BFD\", \"distance\": 7}, {\"ca_bus_route\": \"Rt 1C\", \"orig\": \"BFD\", \"dest\": \"WES\", \"trip_month\": 4, \"trip_year\": 2025, \"ridership\": 288, \"revenue\": 4948.75, \"od\": \"BFD->WES\", \"direction\": \"sb\", \"orig_seq\": 0, \"dest_seq\": 4, \"departing_station\": \"0_BFD\", \"distance\": 8}, {\"ca_bus_route\": \"Rt 1C\", \"orig\": \"BFD\", \"dest\": \"WES\", \"trip_month\": 4, \"trip_year\": 2025, \"ridership\": 288, \"revenue\": 4948.75, \"od\": \"BFD->WES\", \"direction\": \"sb\", \"orig_seq\": 0, \"dest_seq\": 4, \"departing_station\": \"0_BFD\", \"distance\": 9}, {\"ca_bus_route\": \"Rt 1C\", \"orig\": \"BFD\", \"dest\": \"WES\", \"trip_month\": 4, \"trip_year\": 2025, \"ridership\": 288, \"revenue\": 4948.75, \"od\": \"BFD->WES\", \"direction\": \"sb\", \"orig_seq\": 0, \"dest_seq\": 4, \"departing_station\": \"0_BFD\", \"distance\": 10}, {\"ca_bus_route\": \"Rt 1C\", \"orig\": \"BFD\", \"dest\": \"WES\", \"trip_month\": 4, \"trip_year\": 2025, \"ridership\": 288, \"revenue\": 4948.75, \"od\": \"BFD->WES\", \"direction\": \"sb\", \"orig_seq\": 0, \"dest_seq\": 4, \"departing_station\": \"0_BFD\", \"distance\": 11}, {\"ca_bus_route\": \"Rt 1C\", \"orig\": \"BFD\", \"dest\": \"WES\", \"trip_month\": 4, \"trip_year\": 2025, \"ridership\": 288, \"revenue\": 4948.75, \"od\": \"BFD->WES\", \"direction\": \"sb\", \"orig_seq\": 0, \"dest_seq\": 4, \"departing_station\": \"0_BFD\", \"distance\": 12}, {\"ca_bus_route\": \"Rt 1C\", \"orig\": \"BFD\", \"dest\": \"WES\", \"trip_month\": 4, \"trip_year\": 2025, \"ridership\": 288, \"revenue\": 4948.75, \"od\": \"BFD->WES\", \"direction\": \"sb\", \"orig_seq\": 0, \"dest_seq\": 4, \"departing_station\": \"0_BFD\", \"distance\": 13}, {\"ca_bus_route\": \"Rt 1C\", \"orig\": \"BFD\", \"dest\": \"WES\", \"trip_month\": 4, \"trip_year\": 2025, \"ridership\": 288, \"revenue\": 4948.75, \"od\": \"BFD->WES\", \"direction\": \"sb\", \"orig_seq\": 0, \"dest_seq\": 4, \"departing_station\": \"0_BFD\", \"distance\": 14}, {\"ca_bus_route\": \"Rt 1C\", \"orig\": \"BFD\", \"dest\": \"WES\", \"trip_month\": 4, \"trip_year\": 2025, \"ridership\": 288, \"revenue\": 4948.75, \"od\": \"BFD->WES\", \"direction\": \"sb\", \"orig_seq\": 0, \"dest_seq\": 4, \"departing_station\": \"0_BFD\", \"distance\": 15}, {\"ca_bus_route\": \"Rt 1C\", \"orig\": \"BFD\", \"dest\": \"WES\", \"trip_month\": 4, \"trip_year\": 2025, \"ridership\": 288, \"revenue\": 4948.75, \"od\": \"BFD->WES\", \"direction\": \"sb\", \"orig_seq\": 0, \"dest_seq\": 4, \"departing_station\": \"0_BFD\", \"distance\": 16}, {\"ca_bus_route\": \"Rt 1C\", \"orig\": \"BFD\", \"dest\": \"WES\", \"trip_month\": 4, \"trip_year\": 2025, \"ridership\": 288, \"revenue\": 4948.75, \"od\": \"BFD->WES\", \"direction\": \"sb\", \"orig_seq\": 0, \"dest_seq\": 4, \"departing_station\": \"0_BFD\", \"distance\": 17}, {\"ca_bus_route\": \"Rt 1C\", \"orig\": \"BFD\", \"dest\": \"WES\", \"trip_month\": 4, \"trip_year\": 2025, \"ridership\": 288, \"revenue\": 4948.75, \"od\": \"BFD->WES\", \"direction\": \"sb\", \"orig_seq\": 0, \"dest_seq\": 4, \"departing_station\": \"0_BFD\", \"distance\": 18}, {\"ca_bus_route\": \"Rt 1C\", \"orig\": \"BFD\", \"dest\": \"WES\", \"trip_month\": 4, \"trip_year\": 2025, \"ridership\": 288, \"revenue\": 4948.75, \"od\": \"BFD->WES\", \"direction\": \"sb\", \"orig_seq\": 0, \"dest_seq\": 4, \"departing_station\": \"0_BFD\", \"distance\": 19}, {\"ca_bus_route\": \"Rt 1C\", \"orig\": \"BFD\", \"dest\": \"WES\", \"trip_month\": 4, \"trip_year\": 2025, \"ridership\": 288, \"revenue\": 4948.75, \"od\": \"BFD->WES\", \"direction\": \"sb\", \"orig_seq\": 0, \"dest_seq\": 4, \"departing_station\": \"0_BFD\", \"distance\": 20}, {\"ca_bus_route\": \"Rt 1C\", \"orig\": \"BFD\", \"dest\": \"WES\", \"trip_month\": 4, \"trip_year\": 2025, \"ridership\": 288, \"revenue\": 4948.75, \"od\": \"BFD->WES\", \"direction\": \"sb\", \"orig_seq\": 0, \"dest_seq\": 4, \"departing_station\": \"0_BFD\", \"distance\": 21}, {\"ca_bus_route\": \"Rt 1C\", \"orig\": \"BFD\", \"dest\": \"WES\", \"trip_month\": 4, \"trip_year\": 2025, \"ridership\": 288, \"revenue\": 4948.75, \"od\": \"BFD->WES\", \"direction\": \"sb\", \"orig_seq\": 0, \"dest_seq\": 4, \"departing_station\": \"0_BFD\", \"distance\": 22}, {\"ca_bus_route\": \"Rt 1C\", \"orig\": \"BFD\", \"dest\": \"WES\", \"trip_month\": 4, \"trip_year\": 2025, \"ridership\": 288, \"revenue\": 4948.75, \"od\": \"BFD->WES\", \"direction\": \"sb\", \"orig_seq\": 0, \"dest_seq\": 4, \"departing_station\": \"0_BFD\", \"distance\": 23}, {\"ca_bus_route\": \"Rt 1C\", \"orig\": \"BFD\", \"dest\": \"WES\", \"trip_month\": 4, \"trip_year\": 2025, \"ridership\": 288, \"revenue\": 4948.75, \"od\": \"BFD->WES\", \"direction\": \"sb\", \"orig_seq\": 0, \"dest_seq\": 4, \"departing_station\": \"0_BFD\", \"distance\": 24}, {\"ca_bus_route\": \"Rt 1C\", \"orig\": \"BFD\", \"dest\": \"WES\", \"trip_month\": 4, \"trip_year\": 2025, \"ridership\": 288, \"revenue\": 4948.75, \"od\": \"BFD->WES\", \"direction\": \"sb\", \"orig_seq\": 0, \"dest_seq\": 4, \"departing_station\": \"0_BFD\", \"distance\": 25}, {\"ca_bus_route\": \"Rt 1C\", \"orig\": \"BFD\", \"dest\": \"WES\", \"trip_month\": 4, \"trip_year\": 2025, \"ridership\": 288, \"revenue\": 4948.75, \"od\": \"BFD->WES\", \"direction\": \"sb\", \"orig_seq\": 0, \"dest_seq\": 4, \"departing_station\": \"0_BFD\", \"distance\": 26}, {\"ca_bus_route\": \"Rt 1C\", \"orig\": \"BFD\", \"dest\": \"WES\", \"trip_month\": 4, \"trip_year\": 2025, \"ridership\": 288, \"revenue\": 4948.75, \"od\": \"BFD->WES\", \"direction\": \"sb\", \"orig_seq\": 0, \"dest_seq\": 4, \"departing_station\": \"0_BFD\", \"distance\": 27}, {\"ca_bus_route\": \"Rt 1C\", \"orig\": \"BFD\", \"dest\": \"WES\", \"trip_month\": 4, \"trip_year\": 2025, \"ridership\": 288, \"revenue\": 4948.75, \"od\": \"BFD->WES\", \"direction\": \"sb\", \"orig_seq\": 0, \"dest_seq\": 4, \"departing_station\": \"0_BFD\", \"distance\": 28}, {\"ca_bus_route\": \"Rt 1C\", \"orig\": \"BFD\", \"dest\": \"WES\", \"trip_month\": 4, \"trip_year\": 2025, \"ridership\": 288, \"revenue\": 4948.75, \"od\": \"BFD->WES\", \"direction\": \"sb\", \"orig_seq\": 0, \"dest_seq\": 4, \"departing_station\": \"0_BFD\", \"distance\": 29}, {\"ca_bus_route\": \"Rt 1C\", \"orig\": \"BFD\", \"dest\": \"WES\", \"trip_month\": 4, \"trip_year\": 2025, \"ridership\": 288, \"revenue\": 4948.75, \"od\": \"BFD->WES\", \"direction\": \"sb\", \"orig_seq\": 0, \"dest_seq\": 4, \"departing_station\": \"0_BFD\", \"distance\": 30}, {\"ca_bus_route\": \"Rt 1C\", \"orig\": \"BFD\", \"dest\": \"WES\", \"trip_month\": 4, \"trip_year\": 2025, \"ridership\": 288, \"revenue\": 4948.75, \"od\": \"BFD->WES\", \"direction\": \"sb\", \"orig_seq\": 0, \"dest_seq\": 4, \"departing_station\": \"0_BFD\", \"distance\": 31}, {\"ca_bus_route\": \"Rt 1C\", \"orig\": \"BFD\", \"dest\": \"WES\", \"trip_month\": 4, \"trip_year\": 2025, \"ridership\": 288, \"revenue\": 4948.75, \"od\": \"BFD->WES\", \"direction\": \"sb\", \"orig_seq\": 0, \"dest_seq\": 4, \"departing_station\": \"0_BFD\", \"distance\": 32}, {\"ca_bus_route\": \"Rt 1C\", \"orig\": \"BFD\", \"dest\": \"WES\", \"trip_month\": 4, \"trip_year\": 2025, \"ridership\": 288, \"revenue\": 4948.75, \"od\": \"BFD->WES\", \"direction\": \"sb\", \"orig_seq\": 0, \"dest_seq\": 4, \"departing_station\": \"0_BFD\", \"distance\": 33}, {\"ca_bus_route\": \"Rt 1C\", \"orig\": \"BFD\", \"dest\": \"WES\", \"trip_month\": 4, \"trip_year\": 2025, \"ridership\": 288, \"revenue\": 4948.75, \"od\": \"BFD->WES\", \"direction\": \"sb\", \"orig_seq\": 0, \"dest_seq\": 4, \"departing_station\": \"0_BFD\", \"distance\": 34}, {\"ca_bus_route\": \"Rt 1C\", \"orig\": \"BFD\", \"dest\": \"WES\", \"trip_month\": 4, \"trip_year\": 2025, \"ridership\": 288, \"revenue\": 4948.75, \"od\": \"BFD->WES\", \"direction\": \"sb\", \"orig_seq\": 0, \"dest_seq\": 4, \"departing_station\": \"0_BFD\", \"distance\": 35}, {\"ca_bus_route\": \"Rt 1C\", \"orig\": \"BFD\", \"dest\": \"WES\", \"trip_month\": 4, \"trip_year\": 2025, \"ridership\": 288, \"revenue\": 4948.75, \"od\": \"BFD->WES\", \"direction\": \"sb\", \"orig_seq\": 0, \"dest_seq\": 4, \"departing_station\": \"0_BFD\", \"distance\": 36}, {\"ca_bus_route\": \"Rt 1C\", \"orig\": \"BFD\", \"dest\": \"WES\", \"trip_month\": 4, \"trip_year\": 2025, \"ridership\": 288, \"revenue\": 4948.75, \"od\": \"BFD->WES\", \"direction\": \"sb\", \"orig_seq\": 0, \"dest_seq\": 4, \"departing_station\": \"0_BFD\", \"distance\": 37}, {\"ca_bus_route\": \"Rt 1C\", \"orig\": \"BFD\", \"dest\": \"WES\", \"trip_month\": 4, \"trip_year\": 2025, \"ridership\": 288, \"revenue\": 4948.75, \"od\": \"BFD->WES\", \"direction\": \"sb\", \"orig_seq\": 0, \"dest_seq\": 4, \"departing_station\": \"0_BFD\", \"distance\": 38}, {\"ca_bus_route\": \"Rt 1C\", \"orig\": \"BFD\", \"dest\": \"WES\", \"trip_month\": 4, \"trip_year\": 2025, \"ridership\": 288, \"revenue\": 4948.75, \"od\": \"BFD->WES\", \"direction\": \"sb\", \"orig_seq\": 0, \"dest_seq\": 4, \"departing_station\": \"0_BFD\", \"distance\": 39}, {\"ca_bus_route\": \"Rt 1C\", \"orig\": \"BFD\", \"dest\": \"WES\", \"trip_month\": 4, \"trip_year\": 2025, \"ridership\": 288, \"revenue\": 4948.75, \"od\": \"BFD->WES\", \"direction\": \"sb\", \"orig_seq\": 0, \"dest_seq\": 4, \"departing_station\": \"0_BFD\", \"distance\": 40}, {\"ca_bus_route\": \"Rt 1C\", \"orig\": \"BFD\", \"dest\": \"WES\", \"trip_month\": 4, \"trip_year\": 2025, \"ridership\": 288, \"revenue\": 4948.75, \"od\": \"BFD->WES\", \"direction\": \"sb\", \"orig_seq\": 0, \"dest_seq\": 4, \"departing_station\": \"0_BFD\", \"distance\": 41}, {\"ca_bus_route\": \"Rt 1C\", \"orig\": \"BFD\", \"dest\": \"WES\", \"trip_month\": 4, \"trip_year\": 2025, \"ridership\": 288, \"revenue\": 4948.75, \"od\": \"BFD->WES\", \"direction\": \"sb\", \"orig_seq\": 0, \"dest_seq\": 4, \"departing_station\": \"0_BFD\", \"distance\": 42}, {\"ca_bus_route\": \"Rt 1C\", \"orig\": \"BFD\", \"dest\": \"WES\", \"trip_month\": 4, \"trip_year\": 2025, \"ridership\": 288, \"revenue\": 4948.75, \"od\": \"BFD->WES\", \"direction\": \"sb\", \"orig_seq\": 0, \"dest_seq\": 4, \"departing_station\": \"0_BFD\", \"distance\": 43}, {\"ca_bus_route\": \"Rt 1C\", \"orig\": \"BFD\", \"dest\": \"WES\", \"trip_month\": 4, \"trip_year\": 2025, \"ridership\": 288, \"revenue\": 4948.75, \"od\": \"BFD->WES\", \"direction\": \"sb\", \"orig_seq\": 0, \"dest_seq\": 4, \"departing_station\": \"0_BFD\", \"distance\": 44}, {\"ca_bus_route\": \"Rt 1C\", \"orig\": \"BFD\", \"dest\": \"WES\", \"trip_month\": 4, \"trip_year\": 2025, \"ridership\": 288, \"revenue\": 4948.75, \"od\": \"BFD->WES\", \"direction\": \"sb\", \"orig_seq\": 0, \"dest_seq\": 4, \"departing_station\": \"0_BFD\", \"distance\": 45}, {\"ca_bus_route\": \"Rt 1C\", \"orig\": \"BFD\", \"dest\": \"WES\", \"trip_month\": 4, \"trip_year\": 2025, \"ridership\": 288, \"revenue\": 4948.75, \"od\": \"BFD->WES\", \"direction\": \"sb\", \"orig_seq\": 0, \"dest_seq\": 4, \"departing_station\": \"0_BFD\", \"distance\": 46}, {\"ca_bus_route\": \"Rt 1C\", \"orig\": \"BFD\", \"dest\": \"WES\", \"trip_month\": 4, \"trip_year\": 2025, \"ridership\": 288, \"revenue\": 4948.75, \"od\": \"BFD->WES\", \"direction\": \"sb\", \"orig_seq\": 0, \"dest_seq\": 4, \"departing_station\": \"0_BFD\", \"distance\": 47}, {\"ca_bus_route\": \"Rt 1C\", \"orig\": \"BFD\", \"dest\": \"WES\", \"trip_month\": 4, \"trip_year\": 2025, \"ridership\": 288, \"revenue\": 4948.75, \"od\": \"BFD->WES\", \"direction\": \"sb\", \"orig_seq\": 0, \"dest_seq\": 4, \"departing_station\": \"0_BFD\", \"distance\": 48}, {\"ca_bus_route\": \"Rt 1C\", \"orig\": \"BFD\", \"dest\": \"WES\", \"trip_month\": 4, \"trip_year\": 2025, \"ridership\": 288, \"revenue\": 4948.75, \"od\": \"BFD->WES\", \"direction\": \"sb\", \"orig_seq\": 0, \"dest_seq\": 4, \"departing_station\": \"0_BFD\", \"distance\": 49}, {\"ca_bus_route\": \"Rt 1C\", \"orig\": \"BFD\", \"dest\": \"BUR\", \"trip_month\": 4, \"trip_year\": 2025, \"ridership\": 231, \"revenue\": 3278.95, \"od\": \"BFD->BUR\", \"direction\": \"sb\", \"orig_seq\": 0, \"dest_seq\": 2, \"departing_station\": \"1_NHL\", \"distance\": 50}, {\"ca_bus_route\": \"Rt 1C\", \"orig\": \"BFD\", \"dest\": \"BUR\", \"trip_month\": 4, \"trip_year\": 2025, \"ridership\": 231, \"revenue\": 3278.95, \"od\": \"BFD->BUR\", \"direction\": \"sb\", \"orig_seq\": 0, \"dest_seq\": 2, \"departing_station\": \"1_NHL\", \"distance\": 51}, {\"ca_bus_route\": \"Rt 1C\", \"orig\": \"BFD\", \"dest\": \"BUR\", \"trip_month\": 4, \"trip_year\": 2025, \"ridership\": 231, \"revenue\": 3278.95, \"od\": \"BFD->BUR\", \"direction\": \"sb\", \"orig_seq\": 0, \"dest_seq\": 2, \"departing_station\": \"1_NHL\", \"distance\": 52}, {\"ca_bus_route\": \"Rt 1C\", \"orig\": \"BFD\", \"dest\": \"BUR\", \"trip_month\": 4, \"trip_year\": 2025, \"ridership\": 231, \"revenue\": 3278.95, \"od\": \"BFD->BUR\", \"direction\": \"sb\", \"orig_seq\": 0, \"dest_seq\": 2, \"departing_station\": \"1_NHL\", \"distance\": 53}, {\"ca_bus_route\": \"Rt 1C\", \"orig\": \"BFD\", \"dest\": \"BUR\", \"trip_month\": 4, \"trip_year\": 2025, \"ridership\": 231, \"revenue\": 3278.95, \"od\": \"BFD->BUR\", \"direction\": \"sb\", \"orig_seq\": 0, \"dest_seq\": 2, \"departing_station\": \"1_NHL\", \"distance\": 54}, {\"ca_bus_route\": \"Rt 1C\", \"orig\": \"BFD\", \"dest\": \"BUR\", \"trip_month\": 4, \"trip_year\": 2025, \"ridership\": 231, \"revenue\": 3278.95, \"od\": \"BFD->BUR\", \"direction\": \"sb\", \"orig_seq\": 0, \"dest_seq\": 2, \"departing_station\": \"1_NHL\", \"distance\": 55}, {\"ca_bus_route\": \"Rt 1C\", \"orig\": \"BFD\", \"dest\": \"BUR\", \"trip_month\": 4, \"trip_year\": 2025, \"ridership\": 231, \"revenue\": 3278.95, \"od\": \"BFD->BUR\", \"direction\": \"sb\", \"orig_seq\": 0, \"dest_seq\": 2, \"departing_station\": \"1_NHL\", \"distance\": 56}, {\"ca_bus_route\": \"Rt 1C\", \"orig\": \"BFD\", \"dest\": \"BUR\", \"trip_month\": 4, \"trip_year\": 2025, \"ridership\": 231, \"revenue\": 3278.95, \"od\": \"BFD->BUR\", \"direction\": \"sb\", \"orig_seq\": 0, \"dest_seq\": 2, \"departing_station\": \"1_NHL\", \"distance\": 57}, {\"ca_bus_route\": \"Rt 1C\", \"orig\": \"BFD\", \"dest\": \"BUR\", \"trip_month\": 4, \"trip_year\": 2025, \"ridership\": 231, \"revenue\": 3278.95, \"od\": \"BFD->BUR\", \"direction\": \"sb\", \"orig_seq\": 0, \"dest_seq\": 2, \"departing_station\": \"1_NHL\", \"distance\": 58}, {\"ca_bus_route\": \"Rt 1C\", \"orig\": \"BFD\", \"dest\": \"BUR\", \"trip_month\": 4, \"trip_year\": 2025, \"ridership\": 231, \"revenue\": 3278.95, \"od\": \"BFD->BUR\", \"direction\": \"sb\", \"orig_seq\": 0, \"dest_seq\": 2, \"departing_station\": \"1_NHL\", \"distance\": 59}, {\"ca_bus_route\": \"Rt 1C\", \"orig\": \"BFD\", \"dest\": \"BUR\", \"trip_month\": 4, \"trip_year\": 2025, \"ridership\": 231, \"revenue\": 3278.95, \"od\": \"BFD->BUR\", \"direction\": \"sb\", \"orig_seq\": 0, \"dest_seq\": 2, \"departing_station\": \"1_NHL\", \"distance\": 60}, {\"ca_bus_route\": \"Rt 1C\", \"orig\": \"BFD\", \"dest\": \"BUR\", \"trip_month\": 4, \"trip_year\": 2025, \"ridership\": 231, \"revenue\": 3278.95, \"od\": \"BFD->BUR\", \"direction\": \"sb\", \"orig_seq\": 0, \"dest_seq\": 2, \"departing_station\": \"1_NHL\", \"distance\": 61}, {\"ca_bus_route\": \"Rt 1C\", \"orig\": \"BFD\", \"dest\": \"BUR\", \"trip_month\": 4, \"trip_year\": 2025, \"ridership\": 231, \"revenue\": 3278.95, \"od\": \"BFD->BUR\", \"direction\": \"sb\", \"orig_seq\": 0, \"dest_seq\": 2, \"departing_station\": \"1_NHL\", \"distance\": 62}, {\"ca_bus_route\": \"Rt 1C\", \"orig\": \"BFD\", \"dest\": \"BUR\", \"trip_month\": 4, \"trip_year\": 2025, \"ridership\": 231, \"revenue\": 3278.95, \"od\": \"BFD->BUR\", \"direction\": \"sb\", \"orig_seq\": 0, \"dest_seq\": 2, \"departing_station\": \"1_NHL\", \"distance\": 63}, {\"ca_bus_route\": \"Rt 1C\", \"orig\": \"BFD\", \"dest\": \"BUR\", \"trip_month\": 4, \"trip_year\": 2025, \"ridership\": 231, \"revenue\": 3278.95, \"od\": \"BFD->BUR\", \"direction\": \"sb\", \"orig_seq\": 0, \"dest_seq\": 2, \"departing_station\": \"1_NHL\", \"distance\": 64}, {\"ca_bus_route\": \"Rt 1C\", \"orig\": \"BFD\", \"dest\": \"BUR\", \"trip_month\": 4, \"trip_year\": 2025, \"ridership\": 231, \"revenue\": 3278.95, \"od\": \"BFD->BUR\", \"direction\": \"sb\", \"orig_seq\": 0, \"dest_seq\": 2, \"departing_station\": \"1_NHL\", \"distance\": 65}, {\"ca_bus_route\": \"Rt 1C\", \"orig\": \"BFD\", \"dest\": \"BUR\", \"trip_month\": 4, \"trip_year\": 2025, \"ridership\": 231, \"revenue\": 3278.95, \"od\": \"BFD->BUR\", \"direction\": \"sb\", \"orig_seq\": 0, \"dest_seq\": 2, \"departing_station\": \"1_NHL\", \"distance\": 66}, {\"ca_bus_route\": \"Rt 1C\", \"orig\": \"BFD\", \"dest\": \"BUR\", \"trip_month\": 4, \"trip_year\": 2025, \"ridership\": 231, \"revenue\": 3278.95, \"od\": \"BFD->BUR\", \"direction\": \"sb\", \"orig_seq\": 0, \"dest_seq\": 2, \"departing_station\": \"1_NHL\", \"distance\": 67}, {\"ca_bus_route\": \"Rt 1C\", \"orig\": \"BFD\", \"dest\": \"BUR\", \"trip_month\": 4, \"trip_year\": 2025, \"ridership\": 231, \"revenue\": 3278.95, \"od\": \"BFD->BUR\", \"direction\": \"sb\", \"orig_seq\": 0, \"dest_seq\": 2, \"departing_station\": \"1_NHL\", \"distance\": 68}, {\"ca_bus_route\": \"Rt 1C\", \"orig\": \"BFD\", \"dest\": \"BUR\", \"trip_month\": 4, \"trip_year\": 2025, \"ridership\": 231, \"revenue\": 3278.95, \"od\": \"BFD->BUR\", \"direction\": \"sb\", \"orig_seq\": 0, \"dest_seq\": 2, \"departing_station\": \"1_NHL\", \"distance\": 69}, {\"ca_bus_route\": \"Rt 1C\", \"orig\": \"BFD\", \"dest\": \"BUR\", \"trip_month\": 4, \"trip_year\": 2025, \"ridership\": 231, \"revenue\": 3278.95, \"od\": \"BFD->BUR\", \"direction\": \"sb\", \"orig_seq\": 0, \"dest_seq\": 2, \"departing_station\": \"1_NHL\", \"distance\": 70}, {\"ca_bus_route\": \"Rt 1C\", \"orig\": \"BFD\", \"dest\": \"BUR\", \"trip_month\": 4, \"trip_year\": 2025, \"ridership\": 231, \"revenue\": 3278.95, \"od\": \"BFD->BUR\", \"direction\": \"sb\", \"orig_seq\": 0, \"dest_seq\": 2, \"departing_station\": \"1_NHL\", \"distance\": 71}, {\"ca_bus_route\": \"Rt 1C\", \"orig\": \"BFD\", \"dest\": \"BUR\", \"trip_month\": 4, \"trip_year\": 2025, \"ridership\": 231, \"revenue\": 3278.95, \"od\": \"BFD->BUR\", \"direction\": \"sb\", \"orig_seq\": 0, \"dest_seq\": 2, \"departing_station\": \"1_NHL\", \"distance\": 72}, {\"ca_bus_route\": \"Rt 1C\", \"orig\": \"BFD\", \"dest\": \"BUR\", \"trip_month\": 4, \"trip_year\": 2025, \"ridership\": 231, \"revenue\": 3278.95, \"od\": \"BFD->BUR\", \"direction\": \"sb\", \"orig_seq\": 0, \"dest_seq\": 2, \"departing_station\": \"1_NHL\", \"distance\": 73}, {\"ca_bus_route\": \"Rt 1C\", \"orig\": \"BFD\", \"dest\": \"BUR\", \"trip_month\": 4, \"trip_year\": 2025, \"ridership\": 231, \"revenue\": 3278.95, \"od\": \"BFD->BUR\", \"direction\": \"sb\", \"orig_seq\": 0, \"dest_seq\": 2, \"departing_station\": \"1_NHL\", \"distance\": 74}, {\"ca_bus_route\": \"Rt 1C\", \"orig\": \"BFD\", \"dest\": \"SMN\", \"trip_month\": 4, \"trip_year\": 2025, \"ridership\": 51, \"revenue\": 829.34, \"od\": \"BFD->SMN\", \"direction\": \"sb\", \"orig_seq\": 0, \"dest_seq\": 5, \"departing_station\": \"1_NHL\", \"distance\": 50}, {\"ca_bus_route\": \"Rt 1C\", \"orig\": \"BFD\", \"dest\": \"SMN\", \"trip_month\": 4, \"trip_year\": 2025, \"ridership\": 51, \"revenue\": 829.34, \"od\": \"BFD->SMN\", \"direction\": \"sb\", \"orig_seq\": 0, \"dest_seq\": 5, \"departing_station\": \"1_NHL\", \"distance\": 51}, {\"ca_bus_route\": \"Rt 1C\", \"orig\": \"BFD\", \"dest\": \"SMN\", \"trip_month\": 4, \"trip_year\": 2025, \"ridership\": 51, \"revenue\": 829.34, \"od\": \"BFD->SMN\", \"direction\": \"sb\", \"orig_seq\": 0, \"dest_seq\": 5, \"departing_station\": \"1_NHL\", \"distance\": 52}, {\"ca_bus_route\": \"Rt 1C\", \"orig\": \"BFD\", \"dest\": \"SMN\", \"trip_month\": 4, \"trip_year\": 2025, \"ridership\": 51, \"revenue\": 829.34, \"od\": \"BFD->SMN\", \"direction\": \"sb\", \"orig_seq\": 0, \"dest_seq\": 5, \"departing_station\": \"1_NHL\", \"distance\": 53}, {\"ca_bus_route\": \"Rt 1C\", \"orig\": \"BFD\", \"dest\": \"SMN\", \"trip_month\": 4, \"trip_year\": 2025, \"ridership\": 51, \"revenue\": 829.34, \"od\": \"BFD->SMN\", \"direction\": \"sb\", \"orig_seq\": 0, \"dest_seq\": 5, \"departing_station\": \"1_NHL\", \"distance\": 54}, {\"ca_bus_route\": \"Rt 1C\", \"orig\": \"BFD\", \"dest\": \"SMN\", \"trip_month\": 4, \"trip_year\": 2025, \"ridership\": 51, \"revenue\": 829.34, \"od\": \"BFD->SMN\", \"direction\": \"sb\", \"orig_seq\": 0, \"dest_seq\": 5, \"departing_station\": \"1_NHL\", \"distance\": 55}, {\"ca_bus_route\": \"Rt 1C\", \"orig\": \"BFD\", \"dest\": \"SMN\", \"trip_month\": 4, \"trip_year\": 2025, \"ridership\": 51, \"revenue\": 829.34, \"od\": \"BFD->SMN\", \"direction\": \"sb\", \"orig_seq\": 0, \"dest_seq\": 5, \"departing_station\": \"1_NHL\", \"distance\": 56}, {\"ca_bus_route\": \"Rt 1C\", \"orig\": \"BFD\", \"dest\": \"SMN\", \"trip_month\": 4, \"trip_year\": 2025, \"ridership\": 51, \"revenue\": 829.34, \"od\": \"BFD->SMN\", \"direction\": \"sb\", \"orig_seq\": 0, \"dest_seq\": 5, \"departing_station\": \"1_NHL\", \"distance\": 57}, {\"ca_bus_route\": \"Rt 1C\", \"orig\": \"BFD\", \"dest\": \"SMN\", \"trip_month\": 4, \"trip_year\": 2025, \"ridership\": 51, \"revenue\": 829.34, \"od\": \"BFD->SMN\", \"direction\": \"sb\", \"orig_seq\": 0, \"dest_seq\": 5, \"departing_station\": \"1_NHL\", \"distance\": 58}, {\"ca_bus_route\": \"Rt 1C\", \"orig\": \"BFD\", \"dest\": \"SMN\", \"trip_month\": 4, \"trip_year\": 2025, \"ridership\": 51, \"revenue\": 829.34, \"od\": \"BFD->SMN\", \"direction\": \"sb\", \"orig_seq\": 0, \"dest_seq\": 5, \"departing_station\": \"1_NHL\", \"distance\": 59}, {\"ca_bus_route\": \"Rt 1C\", \"orig\": \"BFD\", \"dest\": \"SMN\", \"trip_month\": 4, \"trip_year\": 2025, \"ridership\": 51, \"revenue\": 829.34, \"od\": \"BFD->SMN\", \"direction\": \"sb\", \"orig_seq\": 0, \"dest_seq\": 5, \"departing_station\": \"1_NHL\", \"distance\": 60}, {\"ca_bus_route\": \"Rt 1C\", \"orig\": \"BFD\", \"dest\": \"SMN\", \"trip_month\": 4, \"trip_year\": 2025, \"ridership\": 51, \"revenue\": 829.34, \"od\": \"BFD->SMN\", \"direction\": \"sb\", \"orig_seq\": 0, \"dest_seq\": 5, \"departing_station\": \"1_NHL\", \"distance\": 61}, {\"ca_bus_route\": \"Rt 1C\", \"orig\": \"BFD\", \"dest\": \"SMN\", \"trip_month\": 4, \"trip_year\": 2025, \"ridership\": 51, \"revenue\": 829.34, \"od\": \"BFD->SMN\", \"direction\": \"sb\", \"orig_seq\": 0, \"dest_seq\": 5, \"departing_station\": \"1_NHL\", \"distance\": 62}, {\"ca_bus_route\": \"Rt 1C\", \"orig\": \"BFD\", \"dest\": \"SMN\", \"trip_month\": 4, \"trip_year\": 2025, \"ridership\": 51, \"revenue\": 829.34, \"od\": \"BFD->SMN\", \"direction\": \"sb\", \"orig_seq\": 0, \"dest_seq\": 5, \"departing_station\": \"1_NHL\", \"distance\": 63}, {\"ca_bus_route\": \"Rt 1C\", \"orig\": \"BFD\", \"dest\": \"SMN\", \"trip_month\": 4, \"trip_year\": 2025, \"ridership\": 51, \"revenue\": 829.34, \"od\": \"BFD->SMN\", \"direction\": \"sb\", \"orig_seq\": 0, \"dest_seq\": 5, \"departing_station\": \"1_NHL\", \"distance\": 64}, {\"ca_bus_route\": \"Rt 1C\", \"orig\": \"BFD\", \"dest\": \"SMN\", \"trip_month\": 4, \"trip_year\": 2025, \"ridership\": 51, \"revenue\": 829.34, \"od\": \"BFD->SMN\", \"direction\": \"sb\", \"orig_seq\": 0, \"dest_seq\": 5, \"departing_station\": \"1_NHL\", \"distance\": 65}, {\"ca_bus_route\": \"Rt 1C\", \"orig\": \"BFD\", \"dest\": \"SMN\", \"trip_month\": 4, \"trip_year\": 2025, \"ridership\": 51, \"revenue\": 829.34, \"od\": \"BFD->SMN\", \"direction\": \"sb\", \"orig_seq\": 0, \"dest_seq\": 5, \"departing_station\": \"1_NHL\", \"distance\": 66}, {\"ca_bus_route\": \"Rt 1C\", \"orig\": \"BFD\", \"dest\": \"SMN\", \"trip_month\": 4, \"trip_year\": 2025, \"ridership\": 51, \"revenue\": 829.34, \"od\": \"BFD->SMN\", \"direction\": \"sb\", \"orig_seq\": 0, \"dest_seq\": 5, \"departing_station\": \"1_NHL\", \"distance\": 67}, {\"ca_bus_route\": \"Rt 1C\", \"orig\": \"BFD\", \"dest\": \"SMN\", \"trip_month\": 4, \"trip_year\": 2025, \"ridership\": 51, \"revenue\": 829.34, \"od\": \"BFD->SMN\", \"direction\": \"sb\", \"orig_seq\": 0, \"dest_seq\": 5, \"departing_station\": \"1_NHL\", \"distance\": 68}, {\"ca_bus_route\": \"Rt 1C\", \"orig\": \"BFD\", \"dest\": \"SMN\", \"trip_month\": 4, \"trip_year\": 2025, \"ridership\": 51, \"revenue\": 829.34, \"od\": \"BFD->SMN\", \"direction\": \"sb\", \"orig_seq\": 0, \"dest_seq\": 5, \"departing_station\": \"1_NHL\", \"distance\": 69}, {\"ca_bus_route\": \"Rt 1C\", \"orig\": \"BFD\", \"dest\": \"SMN\", \"trip_month\": 4, \"trip_year\": 2025, \"ridership\": 51, \"revenue\": 829.34, \"od\": \"BFD->SMN\", \"direction\": \"sb\", \"orig_seq\": 0, \"dest_seq\": 5, \"departing_station\": \"1_NHL\", \"distance\": 70}, {\"ca_bus_route\": \"Rt 1C\", \"orig\": \"BFD\", \"dest\": \"SMN\", \"trip_month\": 4, \"trip_year\": 2025, \"ridership\": 51, \"revenue\": 829.34, \"od\": \"BFD->SMN\", \"direction\": \"sb\", \"orig_seq\": 0, \"dest_seq\": 5, \"departing_station\": \"1_NHL\", \"distance\": 71}, {\"ca_bus_route\": \"Rt 1C\", \"orig\": \"BFD\", \"dest\": \"SMN\", \"trip_month\": 4, \"trip_year\": 2025, \"ridership\": 51, \"revenue\": 829.34, \"od\": \"BFD->SMN\", \"direction\": \"sb\", \"orig_seq\": 0, \"dest_seq\": 5, \"departing_station\": \"1_NHL\", \"distance\": 72}, {\"ca_bus_route\": \"Rt 1C\", \"orig\": \"BFD\", \"dest\": \"SMN\", \"trip_month\": 4, \"trip_year\": 2025, \"ridership\": 51, \"revenue\": 829.34, \"od\": \"BFD->SMN\", \"direction\": \"sb\", \"orig_seq\": 0, \"dest_seq\": 5, \"departing_station\": \"1_NHL\", \"distance\": 73}, {\"ca_bus_route\": \"Rt 1C\", \"orig\": \"BFD\", \"dest\": \"SMN\", \"trip_month\": 4, \"trip_year\": 2025, \"ridership\": 51, \"revenue\": 829.34, \"od\": \"BFD->SMN\", \"direction\": \"sb\", \"orig_seq\": 0, \"dest_seq\": 5, \"departing_station\": \"1_NHL\", \"distance\": 74}, {\"ca_bus_route\": \"Rt 1C\", \"orig\": \"BFD\", \"dest\": \"VNC\", \"trip_month\": 4, \"trip_year\": 2025, \"ridership\": 518, \"revenue\": 5618.8, \"od\": \"BFD->VNC\", \"direction\": \"sb\", \"orig_seq\": 0, \"dest_seq\": 3, \"departing_station\": \"1_NHL\", \"distance\": 50}, {\"ca_bus_route\": \"Rt 1C\", \"orig\": \"BFD\", \"dest\": \"VNC\", \"trip_month\": 4, \"trip_year\": 2025, \"ridership\": 518, \"revenue\": 5618.8, \"od\": \"BFD->VNC\", \"direction\": \"sb\", \"orig_seq\": 0, \"dest_seq\": 3, \"departing_station\": \"1_NHL\", \"distance\": 51}, {\"ca_bus_route\": \"Rt 1C\", \"orig\": \"BFD\", \"dest\": \"VNC\", \"trip_month\": 4, \"trip_year\": 2025, \"ridership\": 518, \"revenue\": 5618.8, \"od\": \"BFD->VNC\", \"direction\": \"sb\", \"orig_seq\": 0, \"dest_seq\": 3, \"departing_station\": \"1_NHL\", \"distance\": 52}, {\"ca_bus_route\": \"Rt 1C\", \"orig\": \"BFD\", \"dest\": \"VNC\", \"trip_month\": 4, \"trip_year\": 2025, \"ridership\": 518, \"revenue\": 5618.8, \"od\": \"BFD->VNC\", \"direction\": \"sb\", \"orig_seq\": 0, \"dest_seq\": 3, \"departing_station\": \"1_NHL\", \"distance\": 53}, {\"ca_bus_route\": \"Rt 1C\", \"orig\": \"BFD\", \"dest\": \"VNC\", \"trip_month\": 4, \"trip_year\": 2025, \"ridership\": 518, \"revenue\": 5618.8, \"od\": \"BFD->VNC\", \"direction\": \"sb\", \"orig_seq\": 0, \"dest_seq\": 3, \"departing_station\": \"1_NHL\", \"distance\": 54}, {\"ca_bus_route\": \"Rt 1C\", \"orig\": \"BFD\", \"dest\": \"VNC\", \"trip_month\": 4, \"trip_year\": 2025, \"ridership\": 518, \"revenue\": 5618.8, \"od\": \"BFD->VNC\", \"direction\": \"sb\", \"orig_seq\": 0, \"dest_seq\": 3, \"departing_station\": \"1_NHL\", \"distance\": 55}, {\"ca_bus_route\": \"Rt 1C\", \"orig\": \"BFD\", \"dest\": \"VNC\", \"trip_month\": 4, \"trip_year\": 2025, \"ridership\": 518, \"revenue\": 5618.8, \"od\": \"BFD->VNC\", \"direction\": \"sb\", \"orig_seq\": 0, \"dest_seq\": 3, \"departing_station\": \"1_NHL\", \"distance\": 56}, {\"ca_bus_route\": \"Rt 1C\", \"orig\": \"BFD\", \"dest\": \"VNC\", \"trip_month\": 4, \"trip_year\": 2025, \"ridership\": 518, \"revenue\": 5618.8, \"od\": \"BFD->VNC\", \"direction\": \"sb\", \"orig_seq\": 0, \"dest_seq\": 3, \"departing_station\": \"1_NHL\", \"distance\": 57}, {\"ca_bus_route\": \"Rt 1C\", \"orig\": \"BFD\", \"dest\": \"VNC\", \"trip_month\": 4, \"trip_year\": 2025, \"ridership\": 518, \"revenue\": 5618.8, \"od\": \"BFD->VNC\", \"direction\": \"sb\", \"orig_seq\": 0, \"dest_seq\": 3, \"departing_station\": \"1_NHL\", \"distance\": 58}, {\"ca_bus_route\": \"Rt 1C\", \"orig\": \"BFD\", \"dest\": \"VNC\", \"trip_month\": 4, \"trip_year\": 2025, \"ridership\": 518, \"revenue\": 5618.8, \"od\": \"BFD->VNC\", \"direction\": \"sb\", \"orig_seq\": 0, \"dest_seq\": 3, \"departing_station\": \"1_NHL\", \"distance\": 59}, {\"ca_bus_route\": \"Rt 1C\", \"orig\": \"BFD\", \"dest\": \"VNC\", \"trip_month\": 4, \"trip_year\": 2025, \"ridership\": 518, \"revenue\": 5618.8, \"od\": \"BFD->VNC\", \"direction\": \"sb\", \"orig_seq\": 0, \"dest_seq\": 3, \"departing_station\": \"1_NHL\", \"distance\": 60}, {\"ca_bus_route\": \"Rt 1C\", \"orig\": \"BFD\", \"dest\": \"VNC\", \"trip_month\": 4, \"trip_year\": 2025, \"ridership\": 518, \"revenue\": 5618.8, \"od\": \"BFD->VNC\", \"direction\": \"sb\", \"orig_seq\": 0, \"dest_seq\": 3, \"departing_station\": \"1_NHL\", \"distance\": 61}, {\"ca_bus_route\": \"Rt 1C\", \"orig\": \"BFD\", \"dest\": \"VNC\", \"trip_month\": 4, \"trip_year\": 2025, \"ridership\": 518, \"revenue\": 5618.8, \"od\": \"BFD->VNC\", \"direction\": \"sb\", \"orig_seq\": 0, \"dest_seq\": 3, \"departing_station\": \"1_NHL\", \"distance\": 62}, {\"ca_bus_route\": \"Rt 1C\", \"orig\": \"BFD\", \"dest\": \"VNC\", \"trip_month\": 4, \"trip_year\": 2025, \"ridership\": 518, \"revenue\": 5618.8, \"od\": \"BFD->VNC\", \"direction\": \"sb\", \"orig_seq\": 0, \"dest_seq\": 3, \"departing_station\": \"1_NHL\", \"distance\": 63}, {\"ca_bus_route\": \"Rt 1C\", \"orig\": \"BFD\", \"dest\": \"VNC\", \"trip_month\": 4, \"trip_year\": 2025, \"ridership\": 518, \"revenue\": 5618.8, \"od\": \"BFD->VNC\", \"direction\": \"sb\", \"orig_seq\": 0, \"dest_seq\": 3, \"departing_station\": \"1_NHL\", \"distance\": 64}, {\"ca_bus_route\": \"Rt 1C\", \"orig\": \"BFD\", \"dest\": \"VNC\", \"trip_month\": 4, \"trip_year\": 2025, \"ridership\": 518, \"revenue\": 5618.8, \"od\": \"BFD->VNC\", \"direction\": \"sb\", \"orig_seq\": 0, \"dest_seq\": 3, \"departing_station\": \"1_NHL\", \"distance\": 65}, {\"ca_bus_route\": \"Rt 1C\", \"orig\": \"BFD\", \"dest\": \"VNC\", \"trip_month\": 4, \"trip_year\": 2025, \"ridership\": 518, \"revenue\": 5618.8, \"od\": \"BFD->VNC\", \"direction\": \"sb\", \"orig_seq\": 0, \"dest_seq\": 3, \"departing_station\": \"1_NHL\", \"distance\": 66}, {\"ca_bus_route\": \"Rt 1C\", \"orig\": \"BFD\", \"dest\": \"VNC\", \"trip_month\": 4, \"trip_year\": 2025, \"ridership\": 518, \"revenue\": 5618.8, \"od\": \"BFD->VNC\", \"direction\": \"sb\", \"orig_seq\": 0, \"dest_seq\": 3, \"departing_station\": \"1_NHL\", \"distance\": 67}, {\"ca_bus_route\": \"Rt 1C\", \"orig\": \"BFD\", \"dest\": \"VNC\", \"trip_month\": 4, \"trip_year\": 2025, \"ridership\": 518, \"revenue\": 5618.8, \"od\": \"BFD->VNC\", \"direction\": \"sb\", \"orig_seq\": 0, \"dest_seq\": 3, \"departing_station\": \"1_NHL\", \"distance\": 68}, {\"ca_bus_route\": \"Rt 1C\", \"orig\": \"BFD\", \"dest\": \"VNC\", \"trip_month\": 4, \"trip_year\": 2025, \"ridership\": 518, \"revenue\": 5618.8, \"od\": \"BFD->VNC\", \"direction\": \"sb\", \"orig_seq\": 0, \"dest_seq\": 3, \"departing_station\": \"1_NHL\", \"distance\": 69}, {\"ca_bus_route\": \"Rt 1C\", \"orig\": \"BFD\", \"dest\": \"VNC\", \"trip_month\": 4, \"trip_year\": 2025, \"ridership\": 518, \"revenue\": 5618.8, \"od\": \"BFD->VNC\", \"direction\": \"sb\", \"orig_seq\": 0, \"dest_seq\": 3, \"departing_station\": \"1_NHL\", \"distance\": 70}, {\"ca_bus_route\": \"Rt 1C\", \"orig\": \"BFD\", \"dest\": \"VNC\", \"trip_month\": 4, \"trip_year\": 2025, \"ridership\": 518, \"revenue\": 5618.8, \"od\": \"BFD->VNC\", \"direction\": \"sb\", \"orig_seq\": 0, \"dest_seq\": 3, \"departing_station\": \"1_NHL\", \"distance\": 71}, {\"ca_bus_route\": \"Rt 1C\", \"orig\": \"BFD\", \"dest\": \"VNC\", \"trip_month\": 4, \"trip_year\": 2025, \"ridership\": 518, \"revenue\": 5618.8, \"od\": \"BFD->VNC\", \"direction\": \"sb\", \"orig_seq\": 0, \"dest_seq\": 3, \"departing_station\": \"1_NHL\", \"distance\": 72}, {\"ca_bus_route\": \"Rt 1C\", \"orig\": \"BFD\", \"dest\": \"VNC\", \"trip_month\": 4, \"trip_year\": 2025, \"ridership\": 518, \"revenue\": 5618.8, \"od\": \"BFD->VNC\", \"direction\": \"sb\", \"orig_seq\": 0, \"dest_seq\": 3, \"departing_station\": \"1_NHL\", \"distance\": 73}, {\"ca_bus_route\": \"Rt 1C\", \"orig\": \"BFD\", \"dest\": \"VNC\", \"trip_month\": 4, \"trip_year\": 2025, \"ridership\": 518, \"revenue\": 5618.8, \"od\": \"BFD->VNC\", \"direction\": \"sb\", \"orig_seq\": 0, \"dest_seq\": 3, \"departing_station\": \"1_NHL\", \"distance\": 74}, {\"ca_bus_route\": \"Rt 1C\", \"orig\": \"BFD\", \"dest\": \"WES\", \"trip_month\": 4, \"trip_year\": 2025, \"ridership\": 288, \"revenue\": 4948.75, \"od\": \"BFD->WES\", \"direction\": \"sb\", \"orig_seq\": 0, \"dest_seq\": 4, \"departing_station\": \"1_NHL\", \"distance\": 50}, {\"ca_bus_route\": \"Rt 1C\", \"orig\": \"BFD\", \"dest\": \"WES\", \"trip_month\": 4, \"trip_year\": 2025, \"ridership\": 288, \"revenue\": 4948.75, \"od\": \"BFD->WES\", \"direction\": \"sb\", \"orig_seq\": 0, \"dest_seq\": 4, \"departing_station\": \"1_NHL\", \"distance\": 51}, {\"ca_bus_route\": \"Rt 1C\", \"orig\": \"BFD\", \"dest\": \"WES\", \"trip_month\": 4, \"trip_year\": 2025, \"ridership\": 288, \"revenue\": 4948.75, \"od\": \"BFD->WES\", \"direction\": \"sb\", \"orig_seq\": 0, \"dest_seq\": 4, \"departing_station\": \"1_NHL\", \"distance\": 52}, {\"ca_bus_route\": \"Rt 1C\", \"orig\": \"BFD\", \"dest\": \"WES\", \"trip_month\": 4, \"trip_year\": 2025, \"ridership\": 288, \"revenue\": 4948.75, \"od\": \"BFD->WES\", \"direction\": \"sb\", \"orig_seq\": 0, \"dest_seq\": 4, \"departing_station\": \"1_NHL\", \"distance\": 53}, {\"ca_bus_route\": \"Rt 1C\", \"orig\": \"BFD\", \"dest\": \"WES\", \"trip_month\": 4, \"trip_year\": 2025, \"ridership\": 288, \"revenue\": 4948.75, \"od\": \"BFD->WES\", \"direction\": \"sb\", \"orig_seq\": 0, \"dest_seq\": 4, \"departing_station\": \"1_NHL\", \"distance\": 54}, {\"ca_bus_route\": \"Rt 1C\", \"orig\": \"BFD\", \"dest\": \"WES\", \"trip_month\": 4, \"trip_year\": 2025, \"ridership\": 288, \"revenue\": 4948.75, \"od\": \"BFD->WES\", \"direction\": \"sb\", \"orig_seq\": 0, \"dest_seq\": 4, \"departing_station\": \"1_NHL\", \"distance\": 55}, {\"ca_bus_route\": \"Rt 1C\", \"orig\": \"BFD\", \"dest\": \"WES\", \"trip_month\": 4, \"trip_year\": 2025, \"ridership\": 288, \"revenue\": 4948.75, \"od\": \"BFD->WES\", \"direction\": \"sb\", \"orig_seq\": 0, \"dest_seq\": 4, \"departing_station\": \"1_NHL\", \"distance\": 56}, {\"ca_bus_route\": \"Rt 1C\", \"orig\": \"BFD\", \"dest\": \"WES\", \"trip_month\": 4, \"trip_year\": 2025, \"ridership\": 288, \"revenue\": 4948.75, \"od\": \"BFD->WES\", \"direction\": \"sb\", \"orig_seq\": 0, \"dest_seq\": 4, \"departing_station\": \"1_NHL\", \"distance\": 57}, {\"ca_bus_route\": \"Rt 1C\", \"orig\": \"BFD\", \"dest\": \"WES\", \"trip_month\": 4, \"trip_year\": 2025, \"ridership\": 288, \"revenue\": 4948.75, \"od\": \"BFD->WES\", \"direction\": \"sb\", \"orig_seq\": 0, \"dest_seq\": 4, \"departing_station\": \"1_NHL\", \"distance\": 58}, {\"ca_bus_route\": \"Rt 1C\", \"orig\": \"BFD\", \"dest\": \"WES\", \"trip_month\": 4, \"trip_year\": 2025, \"ridership\": 288, \"revenue\": 4948.75, \"od\": \"BFD->WES\", \"direction\": \"sb\", \"orig_seq\": 0, \"dest_seq\": 4, \"departing_station\": \"1_NHL\", \"distance\": 59}, {\"ca_bus_route\": \"Rt 1C\", \"orig\": \"BFD\", \"dest\": \"WES\", \"trip_month\": 4, \"trip_year\": 2025, \"ridership\": 288, \"revenue\": 4948.75, \"od\": \"BFD->WES\", \"direction\": \"sb\", \"orig_seq\": 0, \"dest_seq\": 4, \"departing_station\": \"1_NHL\", \"distance\": 60}, {\"ca_bus_route\": \"Rt 1C\", \"orig\": \"BFD\", \"dest\": \"WES\", \"trip_month\": 4, \"trip_year\": 2025, \"ridership\": 288, \"revenue\": 4948.75, \"od\": \"BFD->WES\", \"direction\": \"sb\", \"orig_seq\": 0, \"dest_seq\": 4, \"departing_station\": \"1_NHL\", \"distance\": 61}, {\"ca_bus_route\": \"Rt 1C\", \"orig\": \"BFD\", \"dest\": \"WES\", \"trip_month\": 4, \"trip_year\": 2025, \"ridership\": 288, \"revenue\": 4948.75, \"od\": \"BFD->WES\", \"direction\": \"sb\", \"orig_seq\": 0, \"dest_seq\": 4, \"departing_station\": \"1_NHL\", \"distance\": 62}, {\"ca_bus_route\": \"Rt 1C\", \"orig\": \"BFD\", \"dest\": \"WES\", \"trip_month\": 4, \"trip_year\": 2025, \"ridership\": 288, \"revenue\": 4948.75, \"od\": \"BFD->WES\", \"direction\": \"sb\", \"orig_seq\": 0, \"dest_seq\": 4, \"departing_station\": \"1_NHL\", \"distance\": 63}, {\"ca_bus_route\": \"Rt 1C\", \"orig\": \"BFD\", \"dest\": \"WES\", \"trip_month\": 4, \"trip_year\": 2025, \"ridership\": 288, \"revenue\": 4948.75, \"od\": \"BFD->WES\", \"direction\": \"sb\", \"orig_seq\": 0, \"dest_seq\": 4, \"departing_station\": \"1_NHL\", \"distance\": 64}, {\"ca_bus_route\": \"Rt 1C\", \"orig\": \"BFD\", \"dest\": \"WES\", \"trip_month\": 4, \"trip_year\": 2025, \"ridership\": 288, \"revenue\": 4948.75, \"od\": \"BFD->WES\", \"direction\": \"sb\", \"orig_seq\": 0, \"dest_seq\": 4, \"departing_station\": \"1_NHL\", \"distance\": 65}, {\"ca_bus_route\": \"Rt 1C\", \"orig\": \"BFD\", \"dest\": \"WES\", \"trip_month\": 4, \"trip_year\": 2025, \"ridership\": 288, \"revenue\": 4948.75, \"od\": \"BFD->WES\", \"direction\": \"sb\", \"orig_seq\": 0, \"dest_seq\": 4, \"departing_station\": \"1_NHL\", \"distance\": 66}, {\"ca_bus_route\": \"Rt 1C\", \"orig\": \"BFD\", \"dest\": \"WES\", \"trip_month\": 4, \"trip_year\": 2025, \"ridership\": 288, \"revenue\": 4948.75, \"od\": \"BFD->WES\", \"direction\": \"sb\", \"orig_seq\": 0, \"dest_seq\": 4, \"departing_station\": \"1_NHL\", \"distance\": 67}, {\"ca_bus_route\": \"Rt 1C\", \"orig\": \"BFD\", \"dest\": \"WES\", \"trip_month\": 4, \"trip_year\": 2025, \"ridership\": 288, \"revenue\": 4948.75, \"od\": \"BFD->WES\", \"direction\": \"sb\", \"orig_seq\": 0, \"dest_seq\": 4, \"departing_station\": \"1_NHL\", \"distance\": 68}, {\"ca_bus_route\": \"Rt 1C\", \"orig\": \"BFD\", \"dest\": \"WES\", \"trip_month\": 4, \"trip_year\": 2025, \"ridership\": 288, \"revenue\": 4948.75, \"od\": \"BFD->WES\", \"direction\": \"sb\", \"orig_seq\": 0, \"dest_seq\": 4, \"departing_station\": \"1_NHL\", \"distance\": 69}, {\"ca_bus_route\": \"Rt 1C\", \"orig\": \"BFD\", \"dest\": \"WES\", \"trip_month\": 4, \"trip_year\": 2025, \"ridership\": 288, \"revenue\": 4948.75, \"od\": \"BFD->WES\", \"direction\": \"sb\", \"orig_seq\": 0, \"dest_seq\": 4, \"departing_station\": \"1_NHL\", \"distance\": 70}, {\"ca_bus_route\": \"Rt 1C\", \"orig\": \"BFD\", \"dest\": \"WES\", \"trip_month\": 4, \"trip_year\": 2025, \"ridership\": 288, \"revenue\": 4948.75, \"od\": \"BFD->WES\", \"direction\": \"sb\", \"orig_seq\": 0, \"dest_seq\": 4, \"departing_station\": \"1_NHL\", \"distance\": 71}, {\"ca_bus_route\": \"Rt 1C\", \"orig\": \"BFD\", \"dest\": \"WES\", \"trip_month\": 4, \"trip_year\": 2025, \"ridership\": 288, \"revenue\": 4948.75, \"od\": \"BFD->WES\", \"direction\": \"sb\", \"orig_seq\": 0, \"dest_seq\": 4, \"departing_station\": \"1_NHL\", \"distance\": 72}, {\"ca_bus_route\": \"Rt 1C\", \"orig\": \"BFD\", \"dest\": \"WES\", \"trip_month\": 4, \"trip_year\": 2025, \"ridership\": 288, \"revenue\": 4948.75, \"od\": \"BFD->WES\", \"direction\": \"sb\", \"orig_seq\": 0, \"dest_seq\": 4, \"departing_station\": \"1_NHL\", \"distance\": 73}, {\"ca_bus_route\": \"Rt 1C\", \"orig\": \"BFD\", \"dest\": \"WES\", \"trip_month\": 4, \"trip_year\": 2025, \"ridership\": 288, \"revenue\": 4948.75, \"od\": \"BFD->WES\", \"direction\": \"sb\", \"orig_seq\": 0, \"dest_seq\": 4, \"departing_station\": \"1_NHL\", \"distance\": 74}, {\"ca_bus_route\": \"Rt 1C\", \"orig\": \"NHL\", \"dest\": \"BUR\", \"trip_month\": 4, \"trip_year\": 2025, \"ridership\": 2, \"revenue\": 13.0, \"od\": \"NHL->BUR\", \"direction\": \"sb\", \"orig_seq\": 1, \"dest_seq\": 2, \"departing_station\": \"1_NHL\", \"distance\": 50}, {\"ca_bus_route\": \"Rt 1C\", \"orig\": \"NHL\", \"dest\": \"BUR\", \"trip_month\": 4, \"trip_year\": 2025, \"ridership\": 2, \"revenue\": 13.0, \"od\": \"NHL->BUR\", \"direction\": \"sb\", \"orig_seq\": 1, \"dest_seq\": 2, \"departing_station\": \"1_NHL\", \"distance\": 51}, {\"ca_bus_route\": \"Rt 1C\", \"orig\": \"NHL\", \"dest\": \"BUR\", \"trip_month\": 4, \"trip_year\": 2025, \"ridership\": 2, \"revenue\": 13.0, \"od\": \"NHL->BUR\", \"direction\": \"sb\", \"orig_seq\": 1, \"dest_seq\": 2, \"departing_station\": \"1_NHL\", \"distance\": 52}, {\"ca_bus_route\": \"Rt 1C\", \"orig\": \"NHL\", \"dest\": \"BUR\", \"trip_month\": 4, \"trip_year\": 2025, \"ridership\": 2, \"revenue\": 13.0, \"od\": \"NHL->BUR\", \"direction\": \"sb\", \"orig_seq\": 1, \"dest_seq\": 2, \"departing_station\": \"1_NHL\", \"distance\": 53}, {\"ca_bus_route\": \"Rt 1C\", \"orig\": \"NHL\", \"dest\": \"BUR\", \"trip_month\": 4, \"trip_year\": 2025, \"ridership\": 2, \"revenue\": 13.0, \"od\": \"NHL->BUR\", \"direction\": \"sb\", \"orig_seq\": 1, \"dest_seq\": 2, \"departing_station\": \"1_NHL\", \"distance\": 54}, {\"ca_bus_route\": \"Rt 1C\", \"orig\": \"NHL\", \"dest\": \"BUR\", \"trip_month\": 4, \"trip_year\": 2025, \"ridership\": 2, \"revenue\": 13.0, \"od\": \"NHL->BUR\", \"direction\": \"sb\", \"orig_seq\": 1, \"dest_seq\": 2, \"departing_station\": \"1_NHL\", \"distance\": 55}, {\"ca_bus_route\": \"Rt 1C\", \"orig\": \"NHL\", \"dest\": \"BUR\", \"trip_month\": 4, \"trip_year\": 2025, \"ridership\": 2, \"revenue\": 13.0, \"od\": \"NHL->BUR\", \"direction\": \"sb\", \"orig_seq\": 1, \"dest_seq\": 2, \"departing_station\": \"1_NHL\", \"distance\": 56}, {\"ca_bus_route\": \"Rt 1C\", \"orig\": \"NHL\", \"dest\": \"BUR\", \"trip_month\": 4, \"trip_year\": 2025, \"ridership\": 2, \"revenue\": 13.0, \"od\": \"NHL->BUR\", \"direction\": \"sb\", \"orig_seq\": 1, \"dest_seq\": 2, \"departing_station\": \"1_NHL\", \"distance\": 57}, {\"ca_bus_route\": \"Rt 1C\", \"orig\": \"NHL\", \"dest\": \"BUR\", \"trip_month\": 4, \"trip_year\": 2025, \"ridership\": 2, \"revenue\": 13.0, \"od\": \"NHL->BUR\", \"direction\": \"sb\", \"orig_seq\": 1, \"dest_seq\": 2, \"departing_station\": \"1_NHL\", \"distance\": 58}, {\"ca_bus_route\": \"Rt 1C\", \"orig\": \"NHL\", \"dest\": \"BUR\", \"trip_month\": 4, \"trip_year\": 2025, \"ridership\": 2, \"revenue\": 13.0, \"od\": \"NHL->BUR\", \"direction\": \"sb\", \"orig_seq\": 1, \"dest_seq\": 2, \"departing_station\": \"1_NHL\", \"distance\": 59}, {\"ca_bus_route\": \"Rt 1C\", \"orig\": \"NHL\", \"dest\": \"BUR\", \"trip_month\": 4, \"trip_year\": 2025, \"ridership\": 2, \"revenue\": 13.0, \"od\": \"NHL->BUR\", \"direction\": \"sb\", \"orig_seq\": 1, \"dest_seq\": 2, \"departing_station\": \"1_NHL\", \"distance\": 60}, {\"ca_bus_route\": \"Rt 1C\", \"orig\": \"NHL\", \"dest\": \"BUR\", \"trip_month\": 4, \"trip_year\": 2025, \"ridership\": 2, \"revenue\": 13.0, \"od\": \"NHL->BUR\", \"direction\": \"sb\", \"orig_seq\": 1, \"dest_seq\": 2, \"departing_station\": \"1_NHL\", \"distance\": 61}, {\"ca_bus_route\": \"Rt 1C\", \"orig\": \"NHL\", \"dest\": \"BUR\", \"trip_month\": 4, \"trip_year\": 2025, \"ridership\": 2, \"revenue\": 13.0, \"od\": \"NHL->BUR\", \"direction\": \"sb\", \"orig_seq\": 1, \"dest_seq\": 2, \"departing_station\": \"1_NHL\", \"distance\": 62}, {\"ca_bus_route\": \"Rt 1C\", \"orig\": \"NHL\", \"dest\": \"BUR\", \"trip_month\": 4, \"trip_year\": 2025, \"ridership\": 2, \"revenue\": 13.0, \"od\": \"NHL->BUR\", \"direction\": \"sb\", \"orig_seq\": 1, \"dest_seq\": 2, \"departing_station\": \"1_NHL\", \"distance\": 63}, {\"ca_bus_route\": \"Rt 1C\", \"orig\": \"NHL\", \"dest\": \"BUR\", \"trip_month\": 4, \"trip_year\": 2025, \"ridership\": 2, \"revenue\": 13.0, \"od\": \"NHL->BUR\", \"direction\": \"sb\", \"orig_seq\": 1, \"dest_seq\": 2, \"departing_station\": \"1_NHL\", \"distance\": 64}, {\"ca_bus_route\": \"Rt 1C\", \"orig\": \"NHL\", \"dest\": \"BUR\", \"trip_month\": 4, \"trip_year\": 2025, \"ridership\": 2, \"revenue\": 13.0, \"od\": \"NHL->BUR\", \"direction\": \"sb\", \"orig_seq\": 1, \"dest_seq\": 2, \"departing_station\": \"1_NHL\", \"distance\": 65}, {\"ca_bus_route\": \"Rt 1C\", \"orig\": \"NHL\", \"dest\": \"BUR\", \"trip_month\": 4, \"trip_year\": 2025, \"ridership\": 2, \"revenue\": 13.0, \"od\": \"NHL->BUR\", \"direction\": \"sb\", \"orig_seq\": 1, \"dest_seq\": 2, \"departing_station\": \"1_NHL\", \"distance\": 66}, {\"ca_bus_route\": \"Rt 1C\", \"orig\": \"NHL\", \"dest\": \"BUR\", \"trip_month\": 4, \"trip_year\": 2025, \"ridership\": 2, \"revenue\": 13.0, \"od\": \"NHL->BUR\", \"direction\": \"sb\", \"orig_seq\": 1, \"dest_seq\": 2, \"departing_station\": \"1_NHL\", \"distance\": 67}, {\"ca_bus_route\": \"Rt 1C\", \"orig\": \"NHL\", \"dest\": \"BUR\", \"trip_month\": 4, \"trip_year\": 2025, \"ridership\": 2, \"revenue\": 13.0, \"od\": \"NHL->BUR\", \"direction\": \"sb\", \"orig_seq\": 1, \"dest_seq\": 2, \"departing_station\": \"1_NHL\", \"distance\": 68}, {\"ca_bus_route\": \"Rt 1C\", \"orig\": \"NHL\", \"dest\": \"BUR\", \"trip_month\": 4, \"trip_year\": 2025, \"ridership\": 2, \"revenue\": 13.0, \"od\": \"NHL->BUR\", \"direction\": \"sb\", \"orig_seq\": 1, \"dest_seq\": 2, \"departing_station\": \"1_NHL\", \"distance\": 69}, {\"ca_bus_route\": \"Rt 1C\", \"orig\": \"NHL\", \"dest\": \"BUR\", \"trip_month\": 4, \"trip_year\": 2025, \"ridership\": 2, \"revenue\": 13.0, \"od\": \"NHL->BUR\", \"direction\": \"sb\", \"orig_seq\": 1, \"dest_seq\": 2, \"departing_station\": \"1_NHL\", \"distance\": 70}, {\"ca_bus_route\": \"Rt 1C\", \"orig\": \"NHL\", \"dest\": \"BUR\", \"trip_month\": 4, \"trip_year\": 2025, \"ridership\": 2, \"revenue\": 13.0, \"od\": \"NHL->BUR\", \"direction\": \"sb\", \"orig_seq\": 1, \"dest_seq\": 2, \"departing_station\": \"1_NHL\", \"distance\": 71}, {\"ca_bus_route\": \"Rt 1C\", \"orig\": \"NHL\", \"dest\": \"BUR\", \"trip_month\": 4, \"trip_year\": 2025, \"ridership\": 2, \"revenue\": 13.0, \"od\": \"NHL->BUR\", \"direction\": \"sb\", \"orig_seq\": 1, \"dest_seq\": 2, \"departing_station\": \"1_NHL\", \"distance\": 72}, {\"ca_bus_route\": \"Rt 1C\", \"orig\": \"NHL\", \"dest\": \"BUR\", \"trip_month\": 4, \"trip_year\": 2025, \"ridership\": 2, \"revenue\": 13.0, \"od\": \"NHL->BUR\", \"direction\": \"sb\", \"orig_seq\": 1, \"dest_seq\": 2, \"departing_station\": \"1_NHL\", \"distance\": 73}, {\"ca_bus_route\": \"Rt 1C\", \"orig\": \"NHL\", \"dest\": \"BUR\", \"trip_month\": 4, \"trip_year\": 2025, \"ridership\": 2, \"revenue\": 13.0, \"od\": \"NHL->BUR\", \"direction\": \"sb\", \"orig_seq\": 1, \"dest_seq\": 2, \"departing_station\": \"1_NHL\", \"distance\": 74}, {\"ca_bus_route\": \"Rt 1C\", \"orig\": \"NHL\", \"dest\": \"SMN\", \"trip_month\": 4, \"trip_year\": 2025, \"ridership\": 3, \"revenue\": 23.0, \"od\": \"NHL->SMN\", \"direction\": \"sb\", \"orig_seq\": 1, \"dest_seq\": 5, \"departing_station\": \"1_NHL\", \"distance\": 50}, {\"ca_bus_route\": \"Rt 1C\", \"orig\": \"NHL\", \"dest\": \"SMN\", \"trip_month\": 4, \"trip_year\": 2025, \"ridership\": 3, \"revenue\": 23.0, \"od\": \"NHL->SMN\", \"direction\": \"sb\", \"orig_seq\": 1, \"dest_seq\": 5, \"departing_station\": \"1_NHL\", \"distance\": 51}, {\"ca_bus_route\": \"Rt 1C\", \"orig\": \"NHL\", \"dest\": \"SMN\", \"trip_month\": 4, \"trip_year\": 2025, \"ridership\": 3, \"revenue\": 23.0, \"od\": \"NHL->SMN\", \"direction\": \"sb\", \"orig_seq\": 1, \"dest_seq\": 5, \"departing_station\": \"1_NHL\", \"distance\": 52}, {\"ca_bus_route\": \"Rt 1C\", \"orig\": \"NHL\", \"dest\": \"SMN\", \"trip_month\": 4, \"trip_year\": 2025, \"ridership\": 3, \"revenue\": 23.0, \"od\": \"NHL->SMN\", \"direction\": \"sb\", \"orig_seq\": 1, \"dest_seq\": 5, \"departing_station\": \"1_NHL\", \"distance\": 53}, {\"ca_bus_route\": \"Rt 1C\", \"orig\": \"NHL\", \"dest\": \"SMN\", \"trip_month\": 4, \"trip_year\": 2025, \"ridership\": 3, \"revenue\": 23.0, \"od\": \"NHL->SMN\", \"direction\": \"sb\", \"orig_seq\": 1, \"dest_seq\": 5, \"departing_station\": \"1_NHL\", \"distance\": 54}, {\"ca_bus_route\": \"Rt 1C\", \"orig\": \"NHL\", \"dest\": \"SMN\", \"trip_month\": 4, \"trip_year\": 2025, \"ridership\": 3, \"revenue\": 23.0, \"od\": \"NHL->SMN\", \"direction\": \"sb\", \"orig_seq\": 1, \"dest_seq\": 5, \"departing_station\": \"1_NHL\", \"distance\": 55}, {\"ca_bus_route\": \"Rt 1C\", \"orig\": \"NHL\", \"dest\": \"SMN\", \"trip_month\": 4, \"trip_year\": 2025, \"ridership\": 3, \"revenue\": 23.0, \"od\": \"NHL->SMN\", \"direction\": \"sb\", \"orig_seq\": 1, \"dest_seq\": 5, \"departing_station\": \"1_NHL\", \"distance\": 56}, {\"ca_bus_route\": \"Rt 1C\", \"orig\": \"NHL\", \"dest\": \"SMN\", \"trip_month\": 4, \"trip_year\": 2025, \"ridership\": 3, \"revenue\": 23.0, \"od\": \"NHL->SMN\", \"direction\": \"sb\", \"orig_seq\": 1, \"dest_seq\": 5, \"departing_station\": \"1_NHL\", \"distance\": 57}, {\"ca_bus_route\": \"Rt 1C\", \"orig\": \"NHL\", \"dest\": \"SMN\", \"trip_month\": 4, \"trip_year\": 2025, \"ridership\": 3, \"revenue\": 23.0, \"od\": \"NHL->SMN\", \"direction\": \"sb\", \"orig_seq\": 1, \"dest_seq\": 5, \"departing_station\": \"1_NHL\", \"distance\": 58}, {\"ca_bus_route\": \"Rt 1C\", \"orig\": \"NHL\", \"dest\": \"SMN\", \"trip_month\": 4, \"trip_year\": 2025, \"ridership\": 3, \"revenue\": 23.0, \"od\": \"NHL->SMN\", \"direction\": \"sb\", \"orig_seq\": 1, \"dest_seq\": 5, \"departing_station\": \"1_NHL\", \"distance\": 59}, {\"ca_bus_route\": \"Rt 1C\", \"orig\": \"NHL\", \"dest\": \"SMN\", \"trip_month\": 4, \"trip_year\": 2025, \"ridership\": 3, \"revenue\": 23.0, \"od\": \"NHL->SMN\", \"direction\": \"sb\", \"orig_seq\": 1, \"dest_seq\": 5, \"departing_station\": \"1_NHL\", \"distance\": 60}, {\"ca_bus_route\": \"Rt 1C\", \"orig\": \"NHL\", \"dest\": \"SMN\", \"trip_month\": 4, \"trip_year\": 2025, \"ridership\": 3, \"revenue\": 23.0, \"od\": \"NHL->SMN\", \"direction\": \"sb\", \"orig_seq\": 1, \"dest_seq\": 5, \"departing_station\": \"1_NHL\", \"distance\": 61}, {\"ca_bus_route\": \"Rt 1C\", \"orig\": \"NHL\", \"dest\": \"SMN\", \"trip_month\": 4, \"trip_year\": 2025, \"ridership\": 3, \"revenue\": 23.0, \"od\": \"NHL->SMN\", \"direction\": \"sb\", \"orig_seq\": 1, \"dest_seq\": 5, \"departing_station\": \"1_NHL\", \"distance\": 62}, {\"ca_bus_route\": \"Rt 1C\", \"orig\": \"NHL\", \"dest\": \"SMN\", \"trip_month\": 4, \"trip_year\": 2025, \"ridership\": 3, \"revenue\": 23.0, \"od\": \"NHL->SMN\", \"direction\": \"sb\", \"orig_seq\": 1, \"dest_seq\": 5, \"departing_station\": \"1_NHL\", \"distance\": 63}, {\"ca_bus_route\": \"Rt 1C\", \"orig\": \"NHL\", \"dest\": \"SMN\", \"trip_month\": 4, \"trip_year\": 2025, \"ridership\": 3, \"revenue\": 23.0, \"od\": \"NHL->SMN\", \"direction\": \"sb\", \"orig_seq\": 1, \"dest_seq\": 5, \"departing_station\": \"1_NHL\", \"distance\": 64}, {\"ca_bus_route\": \"Rt 1C\", \"orig\": \"NHL\", \"dest\": \"SMN\", \"trip_month\": 4, \"trip_year\": 2025, \"ridership\": 3, \"revenue\": 23.0, \"od\": \"NHL->SMN\", \"direction\": \"sb\", \"orig_seq\": 1, \"dest_seq\": 5, \"departing_station\": \"1_NHL\", \"distance\": 65}, {\"ca_bus_route\": \"Rt 1C\", \"orig\": \"NHL\", \"dest\": \"SMN\", \"trip_month\": 4, \"trip_year\": 2025, \"ridership\": 3, \"revenue\": 23.0, \"od\": \"NHL->SMN\", \"direction\": \"sb\", \"orig_seq\": 1, \"dest_seq\": 5, \"departing_station\": \"1_NHL\", \"distance\": 66}, {\"ca_bus_route\": \"Rt 1C\", \"orig\": \"NHL\", \"dest\": \"SMN\", \"trip_month\": 4, \"trip_year\": 2025, \"ridership\": 3, \"revenue\": 23.0, \"od\": \"NHL->SMN\", \"direction\": \"sb\", \"orig_seq\": 1, \"dest_seq\": 5, \"departing_station\": \"1_NHL\", \"distance\": 67}, {\"ca_bus_route\": \"Rt 1C\", \"orig\": \"NHL\", \"dest\": \"SMN\", \"trip_month\": 4, \"trip_year\": 2025, \"ridership\": 3, \"revenue\": 23.0, \"od\": \"NHL->SMN\", \"direction\": \"sb\", \"orig_seq\": 1, \"dest_seq\": 5, \"departing_station\": \"1_NHL\", \"distance\": 68}, {\"ca_bus_route\": \"Rt 1C\", \"orig\": \"NHL\", \"dest\": \"SMN\", \"trip_month\": 4, \"trip_year\": 2025, \"ridership\": 3, \"revenue\": 23.0, \"od\": \"NHL->SMN\", \"direction\": \"sb\", \"orig_seq\": 1, \"dest_seq\": 5, \"departing_station\": \"1_NHL\", \"distance\": 69}, {\"ca_bus_route\": \"Rt 1C\", \"orig\": \"NHL\", \"dest\": \"SMN\", \"trip_month\": 4, \"trip_year\": 2025, \"ridership\": 3, \"revenue\": 23.0, \"od\": \"NHL->SMN\", \"direction\": \"sb\", \"orig_seq\": 1, \"dest_seq\": 5, \"departing_station\": \"1_NHL\", \"distance\": 70}, {\"ca_bus_route\": \"Rt 1C\", \"orig\": \"NHL\", \"dest\": \"SMN\", \"trip_month\": 4, \"trip_year\": 2025, \"ridership\": 3, \"revenue\": 23.0, \"od\": \"NHL->SMN\", \"direction\": \"sb\", \"orig_seq\": 1, \"dest_seq\": 5, \"departing_station\": \"1_NHL\", \"distance\": 71}, {\"ca_bus_route\": \"Rt 1C\", \"orig\": \"NHL\", \"dest\": \"SMN\", \"trip_month\": 4, \"trip_year\": 2025, \"ridership\": 3, \"revenue\": 23.0, \"od\": \"NHL->SMN\", \"direction\": \"sb\", \"orig_seq\": 1, \"dest_seq\": 5, \"departing_station\": \"1_NHL\", \"distance\": 72}, {\"ca_bus_route\": \"Rt 1C\", \"orig\": \"NHL\", \"dest\": \"SMN\", \"trip_month\": 4, \"trip_year\": 2025, \"ridership\": 3, \"revenue\": 23.0, \"od\": \"NHL->SMN\", \"direction\": \"sb\", \"orig_seq\": 1, \"dest_seq\": 5, \"departing_station\": \"1_NHL\", \"distance\": 73}, {\"ca_bus_route\": \"Rt 1C\", \"orig\": \"NHL\", \"dest\": \"SMN\", \"trip_month\": 4, \"trip_year\": 2025, \"ridership\": 3, \"revenue\": 23.0, \"od\": \"NHL->SMN\", \"direction\": \"sb\", \"orig_seq\": 1, \"dest_seq\": 5, \"departing_station\": \"1_NHL\", \"distance\": 74}, {\"ca_bus_route\": \"Rt 1C\", \"orig\": \"NHL\", \"dest\": \"VNC\", \"trip_month\": 4, \"trip_year\": 2025, \"ridership\": 20, \"revenue\": 104.0, \"od\": \"NHL->VNC\", \"direction\": \"sb\", \"orig_seq\": 1, \"dest_seq\": 3, \"departing_station\": \"1_NHL\", \"distance\": 50}, {\"ca_bus_route\": \"Rt 1C\", \"orig\": \"NHL\", \"dest\": \"VNC\", \"trip_month\": 4, \"trip_year\": 2025, \"ridership\": 20, \"revenue\": 104.0, \"od\": \"NHL->VNC\", \"direction\": \"sb\", \"orig_seq\": 1, \"dest_seq\": 3, \"departing_station\": \"1_NHL\", \"distance\": 51}, {\"ca_bus_route\": \"Rt 1C\", \"orig\": \"NHL\", \"dest\": \"VNC\", \"trip_month\": 4, \"trip_year\": 2025, \"ridership\": 20, \"revenue\": 104.0, \"od\": \"NHL->VNC\", \"direction\": \"sb\", \"orig_seq\": 1, \"dest_seq\": 3, \"departing_station\": \"1_NHL\", \"distance\": 52}, {\"ca_bus_route\": \"Rt 1C\", \"orig\": \"NHL\", \"dest\": \"VNC\", \"trip_month\": 4, \"trip_year\": 2025, \"ridership\": 20, \"revenue\": 104.0, \"od\": \"NHL->VNC\", \"direction\": \"sb\", \"orig_seq\": 1, \"dest_seq\": 3, \"departing_station\": \"1_NHL\", \"distance\": 53}, {\"ca_bus_route\": \"Rt 1C\", \"orig\": \"NHL\", \"dest\": \"VNC\", \"trip_month\": 4, \"trip_year\": 2025, \"ridership\": 20, \"revenue\": 104.0, \"od\": \"NHL->VNC\", \"direction\": \"sb\", \"orig_seq\": 1, \"dest_seq\": 3, \"departing_station\": \"1_NHL\", \"distance\": 54}, {\"ca_bus_route\": \"Rt 1C\", \"orig\": \"NHL\", \"dest\": \"VNC\", \"trip_month\": 4, \"trip_year\": 2025, \"ridership\": 20, \"revenue\": 104.0, \"od\": \"NHL->VNC\", \"direction\": \"sb\", \"orig_seq\": 1, \"dest_seq\": 3, \"departing_station\": \"1_NHL\", \"distance\": 55}, {\"ca_bus_route\": \"Rt 1C\", \"orig\": \"NHL\", \"dest\": \"VNC\", \"trip_month\": 4, \"trip_year\": 2025, \"ridership\": 20, \"revenue\": 104.0, \"od\": \"NHL->VNC\", \"direction\": \"sb\", \"orig_seq\": 1, \"dest_seq\": 3, \"departing_station\": \"1_NHL\", \"distance\": 56}, {\"ca_bus_route\": \"Rt 1C\", \"orig\": \"NHL\", \"dest\": \"VNC\", \"trip_month\": 4, \"trip_year\": 2025, \"ridership\": 20, \"revenue\": 104.0, \"od\": \"NHL->VNC\", \"direction\": \"sb\", \"orig_seq\": 1, \"dest_seq\": 3, \"departing_station\": \"1_NHL\", \"distance\": 57}, {\"ca_bus_route\": \"Rt 1C\", \"orig\": \"NHL\", \"dest\": \"VNC\", \"trip_month\": 4, \"trip_year\": 2025, \"ridership\": 20, \"revenue\": 104.0, \"od\": \"NHL->VNC\", \"direction\": \"sb\", \"orig_seq\": 1, \"dest_seq\": 3, \"departing_station\": \"1_NHL\", \"distance\": 58}, {\"ca_bus_route\": \"Rt 1C\", \"orig\": \"NHL\", \"dest\": \"VNC\", \"trip_month\": 4, \"trip_year\": 2025, \"ridership\": 20, \"revenue\": 104.0, \"od\": \"NHL->VNC\", \"direction\": \"sb\", \"orig_seq\": 1, \"dest_seq\": 3, \"departing_station\": \"1_NHL\", \"distance\": 59}, {\"ca_bus_route\": \"Rt 1C\", \"orig\": \"NHL\", \"dest\": \"VNC\", \"trip_month\": 4, \"trip_year\": 2025, \"ridership\": 20, \"revenue\": 104.0, \"od\": \"NHL->VNC\", \"direction\": \"sb\", \"orig_seq\": 1, \"dest_seq\": 3, \"departing_station\": \"1_NHL\", \"distance\": 60}, {\"ca_bus_route\": \"Rt 1C\", \"orig\": \"NHL\", \"dest\": \"VNC\", \"trip_month\": 4, \"trip_year\": 2025, \"ridership\": 20, \"revenue\": 104.0, \"od\": \"NHL->VNC\", \"direction\": \"sb\", \"orig_seq\": 1, \"dest_seq\": 3, \"departing_station\": \"1_NHL\", \"distance\": 61}, {\"ca_bus_route\": \"Rt 1C\", \"orig\": \"NHL\", \"dest\": \"VNC\", \"trip_month\": 4, \"trip_year\": 2025, \"ridership\": 20, \"revenue\": 104.0, \"od\": \"NHL->VNC\", \"direction\": \"sb\", \"orig_seq\": 1, \"dest_seq\": 3, \"departing_station\": \"1_NHL\", \"distance\": 62}, {\"ca_bus_route\": \"Rt 1C\", \"orig\": \"NHL\", \"dest\": \"VNC\", \"trip_month\": 4, \"trip_year\": 2025, \"ridership\": 20, \"revenue\": 104.0, \"od\": \"NHL->VNC\", \"direction\": \"sb\", \"orig_seq\": 1, \"dest_seq\": 3, \"departing_station\": \"1_NHL\", \"distance\": 63}, {\"ca_bus_route\": \"Rt 1C\", \"orig\": \"NHL\", \"dest\": \"VNC\", \"trip_month\": 4, \"trip_year\": 2025, \"ridership\": 20, \"revenue\": 104.0, \"od\": \"NHL->VNC\", \"direction\": \"sb\", \"orig_seq\": 1, \"dest_seq\": 3, \"departing_station\": \"1_NHL\", \"distance\": 64}, {\"ca_bus_route\": \"Rt 1C\", \"orig\": \"NHL\", \"dest\": \"VNC\", \"trip_month\": 4, \"trip_year\": 2025, \"ridership\": 20, \"revenue\": 104.0, \"od\": \"NHL->VNC\", \"direction\": \"sb\", \"orig_seq\": 1, \"dest_seq\": 3, \"departing_station\": \"1_NHL\", \"distance\": 65}, {\"ca_bus_route\": \"Rt 1C\", \"orig\": \"NHL\", \"dest\": \"VNC\", \"trip_month\": 4, \"trip_year\": 2025, \"ridership\": 20, \"revenue\": 104.0, \"od\": \"NHL->VNC\", \"direction\": \"sb\", \"orig_seq\": 1, \"dest_seq\": 3, \"departing_station\": \"1_NHL\", \"distance\": 66}, {\"ca_bus_route\": \"Rt 1C\", \"orig\": \"NHL\", \"dest\": \"VNC\", \"trip_month\": 4, \"trip_year\": 2025, \"ridership\": 20, \"revenue\": 104.0, \"od\": \"NHL->VNC\", \"direction\": \"sb\", \"orig_seq\": 1, \"dest_seq\": 3, \"departing_station\": \"1_NHL\", \"distance\": 67}, {\"ca_bus_route\": \"Rt 1C\", \"orig\": \"NHL\", \"dest\": \"VNC\", \"trip_month\": 4, \"trip_year\": 2025, \"ridership\": 20, \"revenue\": 104.0, \"od\": \"NHL->VNC\", \"direction\": \"sb\", \"orig_seq\": 1, \"dest_seq\": 3, \"departing_station\": \"1_NHL\", \"distance\": 68}, {\"ca_bus_route\": \"Rt 1C\", \"orig\": \"NHL\", \"dest\": \"VNC\", \"trip_month\": 4, \"trip_year\": 2025, \"ridership\": 20, \"revenue\": 104.0, \"od\": \"NHL->VNC\", \"direction\": \"sb\", \"orig_seq\": 1, \"dest_seq\": 3, \"departing_station\": \"1_NHL\", \"distance\": 69}, {\"ca_bus_route\": \"Rt 1C\", \"orig\": \"NHL\", \"dest\": \"VNC\", \"trip_month\": 4, \"trip_year\": 2025, \"ridership\": 20, \"revenue\": 104.0, \"od\": \"NHL->VNC\", \"direction\": \"sb\", \"orig_seq\": 1, \"dest_seq\": 3, \"departing_station\": \"1_NHL\", \"distance\": 70}, {\"ca_bus_route\": \"Rt 1C\", \"orig\": \"NHL\", \"dest\": \"VNC\", \"trip_month\": 4, \"trip_year\": 2025, \"ridership\": 20, \"revenue\": 104.0, \"od\": \"NHL->VNC\", \"direction\": \"sb\", \"orig_seq\": 1, \"dest_seq\": 3, \"departing_station\": \"1_NHL\", \"distance\": 71}, {\"ca_bus_route\": \"Rt 1C\", \"orig\": \"NHL\", \"dest\": \"VNC\", \"trip_month\": 4, \"trip_year\": 2025, \"ridership\": 20, \"revenue\": 104.0, \"od\": \"NHL->VNC\", \"direction\": \"sb\", \"orig_seq\": 1, \"dest_seq\": 3, \"departing_station\": \"1_NHL\", \"distance\": 72}, {\"ca_bus_route\": \"Rt 1C\", \"orig\": \"NHL\", \"dest\": \"VNC\", \"trip_month\": 4, \"trip_year\": 2025, \"ridership\": 20, \"revenue\": 104.0, \"od\": \"NHL->VNC\", \"direction\": \"sb\", \"orig_seq\": 1, \"dest_seq\": 3, \"departing_station\": \"1_NHL\", \"distance\": 73}, {\"ca_bus_route\": \"Rt 1C\", \"orig\": \"NHL\", \"dest\": \"VNC\", \"trip_month\": 4, \"trip_year\": 2025, \"ridership\": 20, \"revenue\": 104.0, \"od\": \"NHL->VNC\", \"direction\": \"sb\", \"orig_seq\": 1, \"dest_seq\": 3, \"departing_station\": \"1_NHL\", \"distance\": 74}, {\"ca_bus_route\": \"Rt 1C\", \"orig\": \"NHL\", \"dest\": \"WES\", \"trip_month\": 4, \"trip_year\": 2025, \"ridership\": 2, \"revenue\": 25.0, \"od\": \"NHL->WES\", \"direction\": \"sb\", \"orig_seq\": 1, \"dest_seq\": 4, \"departing_station\": \"1_NHL\", \"distance\": 50}, {\"ca_bus_route\": \"Rt 1C\", \"orig\": \"NHL\", \"dest\": \"WES\", \"trip_month\": 4, \"trip_year\": 2025, \"ridership\": 2, \"revenue\": 25.0, \"od\": \"NHL->WES\", \"direction\": \"sb\", \"orig_seq\": 1, \"dest_seq\": 4, \"departing_station\": \"1_NHL\", \"distance\": 51}, {\"ca_bus_route\": \"Rt 1C\", \"orig\": \"NHL\", \"dest\": \"WES\", \"trip_month\": 4, \"trip_year\": 2025, \"ridership\": 2, \"revenue\": 25.0, \"od\": \"NHL->WES\", \"direction\": \"sb\", \"orig_seq\": 1, \"dest_seq\": 4, \"departing_station\": \"1_NHL\", \"distance\": 52}, {\"ca_bus_route\": \"Rt 1C\", \"orig\": \"NHL\", \"dest\": \"WES\", \"trip_month\": 4, \"trip_year\": 2025, \"ridership\": 2, \"revenue\": 25.0, \"od\": \"NHL->WES\", \"direction\": \"sb\", \"orig_seq\": 1, \"dest_seq\": 4, \"departing_station\": \"1_NHL\", \"distance\": 53}, {\"ca_bus_route\": \"Rt 1C\", \"orig\": \"NHL\", \"dest\": \"WES\", \"trip_month\": 4, \"trip_year\": 2025, \"ridership\": 2, \"revenue\": 25.0, \"od\": \"NHL->WES\", \"direction\": \"sb\", \"orig_seq\": 1, \"dest_seq\": 4, \"departing_station\": \"1_NHL\", \"distance\": 54}, {\"ca_bus_route\": \"Rt 1C\", \"orig\": \"NHL\", \"dest\": \"WES\", \"trip_month\": 4, \"trip_year\": 2025, \"ridership\": 2, \"revenue\": 25.0, \"od\": \"NHL->WES\", \"direction\": \"sb\", \"orig_seq\": 1, \"dest_seq\": 4, \"departing_station\": \"1_NHL\", \"distance\": 55}, {\"ca_bus_route\": \"Rt 1C\", \"orig\": \"NHL\", \"dest\": \"WES\", \"trip_month\": 4, \"trip_year\": 2025, \"ridership\": 2, \"revenue\": 25.0, \"od\": \"NHL->WES\", \"direction\": \"sb\", \"orig_seq\": 1, \"dest_seq\": 4, \"departing_station\": \"1_NHL\", \"distance\": 56}, {\"ca_bus_route\": \"Rt 1C\", \"orig\": \"NHL\", \"dest\": \"WES\", \"trip_month\": 4, \"trip_year\": 2025, \"ridership\": 2, \"revenue\": 25.0, \"od\": \"NHL->WES\", \"direction\": \"sb\", \"orig_seq\": 1, \"dest_seq\": 4, \"departing_station\": \"1_NHL\", \"distance\": 57}, {\"ca_bus_route\": \"Rt 1C\", \"orig\": \"NHL\", \"dest\": \"WES\", \"trip_month\": 4, \"trip_year\": 2025, \"ridership\": 2, \"revenue\": 25.0, \"od\": \"NHL->WES\", \"direction\": \"sb\", \"orig_seq\": 1, \"dest_seq\": 4, \"departing_station\": \"1_NHL\", \"distance\": 58}, {\"ca_bus_route\": \"Rt 1C\", \"orig\": \"NHL\", \"dest\": \"WES\", \"trip_month\": 4, \"trip_year\": 2025, \"ridership\": 2, \"revenue\": 25.0, \"od\": \"NHL->WES\", \"direction\": \"sb\", \"orig_seq\": 1, \"dest_seq\": 4, \"departing_station\": \"1_NHL\", \"distance\": 59}, {\"ca_bus_route\": \"Rt 1C\", \"orig\": \"NHL\", \"dest\": \"WES\", \"trip_month\": 4, \"trip_year\": 2025, \"ridership\": 2, \"revenue\": 25.0, \"od\": \"NHL->WES\", \"direction\": \"sb\", \"orig_seq\": 1, \"dest_seq\": 4, \"departing_station\": \"1_NHL\", \"distance\": 60}, {\"ca_bus_route\": \"Rt 1C\", \"orig\": \"NHL\", \"dest\": \"WES\", \"trip_month\": 4, \"trip_year\": 2025, \"ridership\": 2, \"revenue\": 25.0, \"od\": \"NHL->WES\", \"direction\": \"sb\", \"orig_seq\": 1, \"dest_seq\": 4, \"departing_station\": \"1_NHL\", \"distance\": 61}, {\"ca_bus_route\": \"Rt 1C\", \"orig\": \"NHL\", \"dest\": \"WES\", \"trip_month\": 4, \"trip_year\": 2025, \"ridership\": 2, \"revenue\": 25.0, \"od\": \"NHL->WES\", \"direction\": \"sb\", \"orig_seq\": 1, \"dest_seq\": 4, \"departing_station\": \"1_NHL\", \"distance\": 62}, {\"ca_bus_route\": \"Rt 1C\", \"orig\": \"NHL\", \"dest\": \"WES\", \"trip_month\": 4, \"trip_year\": 2025, \"ridership\": 2, \"revenue\": 25.0, \"od\": \"NHL->WES\", \"direction\": \"sb\", \"orig_seq\": 1, \"dest_seq\": 4, \"departing_station\": \"1_NHL\", \"distance\": 63}, {\"ca_bus_route\": \"Rt 1C\", \"orig\": \"NHL\", \"dest\": \"WES\", \"trip_month\": 4, \"trip_year\": 2025, \"ridership\": 2, \"revenue\": 25.0, \"od\": \"NHL->WES\", \"direction\": \"sb\", \"orig_seq\": 1, \"dest_seq\": 4, \"departing_station\": \"1_NHL\", \"distance\": 64}, {\"ca_bus_route\": \"Rt 1C\", \"orig\": \"NHL\", \"dest\": \"WES\", \"trip_month\": 4, \"trip_year\": 2025, \"ridership\": 2, \"revenue\": 25.0, \"od\": \"NHL->WES\", \"direction\": \"sb\", \"orig_seq\": 1, \"dest_seq\": 4, \"departing_station\": \"1_NHL\", \"distance\": 65}, {\"ca_bus_route\": \"Rt 1C\", \"orig\": \"NHL\", \"dest\": \"WES\", \"trip_month\": 4, \"trip_year\": 2025, \"ridership\": 2, \"revenue\": 25.0, \"od\": \"NHL->WES\", \"direction\": \"sb\", \"orig_seq\": 1, \"dest_seq\": 4, \"departing_station\": \"1_NHL\", \"distance\": 66}, {\"ca_bus_route\": \"Rt 1C\", \"orig\": \"NHL\", \"dest\": \"WES\", \"trip_month\": 4, \"trip_year\": 2025, \"ridership\": 2, \"revenue\": 25.0, \"od\": \"NHL->WES\", \"direction\": \"sb\", \"orig_seq\": 1, \"dest_seq\": 4, \"departing_station\": \"1_NHL\", \"distance\": 67}, {\"ca_bus_route\": \"Rt 1C\", \"orig\": \"NHL\", \"dest\": \"WES\", \"trip_month\": 4, \"trip_year\": 2025, \"ridership\": 2, \"revenue\": 25.0, \"od\": \"NHL->WES\", \"direction\": \"sb\", \"orig_seq\": 1, \"dest_seq\": 4, \"departing_station\": \"1_NHL\", \"distance\": 68}, {\"ca_bus_route\": \"Rt 1C\", \"orig\": \"NHL\", \"dest\": \"WES\", \"trip_month\": 4, \"trip_year\": 2025, \"ridership\": 2, \"revenue\": 25.0, \"od\": \"NHL->WES\", \"direction\": \"sb\", \"orig_seq\": 1, \"dest_seq\": 4, \"departing_station\": \"1_NHL\", \"distance\": 69}, {\"ca_bus_route\": \"Rt 1C\", \"orig\": \"NHL\", \"dest\": \"WES\", \"trip_month\": 4, \"trip_year\": 2025, \"ridership\": 2, \"revenue\": 25.0, \"od\": \"NHL->WES\", \"direction\": \"sb\", \"orig_seq\": 1, \"dest_seq\": 4, \"departing_station\": \"1_NHL\", \"distance\": 70}, {\"ca_bus_route\": \"Rt 1C\", \"orig\": \"NHL\", \"dest\": \"WES\", \"trip_month\": 4, \"trip_year\": 2025, \"ridership\": 2, \"revenue\": 25.0, \"od\": \"NHL->WES\", \"direction\": \"sb\", \"orig_seq\": 1, \"dest_seq\": 4, \"departing_station\": \"1_NHL\", \"distance\": 71}, {\"ca_bus_route\": \"Rt 1C\", \"orig\": \"NHL\", \"dest\": \"WES\", \"trip_month\": 4, \"trip_year\": 2025, \"ridership\": 2, \"revenue\": 25.0, \"od\": \"NHL->WES\", \"direction\": \"sb\", \"orig_seq\": 1, \"dest_seq\": 4, \"departing_station\": \"1_NHL\", \"distance\": 72}, {\"ca_bus_route\": \"Rt 1C\", \"orig\": \"NHL\", \"dest\": \"WES\", \"trip_month\": 4, \"trip_year\": 2025, \"ridership\": 2, \"revenue\": 25.0, \"od\": \"NHL->WES\", \"direction\": \"sb\", \"orig_seq\": 1, \"dest_seq\": 4, \"departing_station\": \"1_NHL\", \"distance\": 73}, {\"ca_bus_route\": \"Rt 1C\", \"orig\": \"NHL\", \"dest\": \"WES\", \"trip_month\": 4, \"trip_year\": 2025, \"ridership\": 2, \"revenue\": 25.0, \"od\": \"NHL->WES\", \"direction\": \"sb\", \"orig_seq\": 1, \"dest_seq\": 4, \"departing_station\": \"1_NHL\", \"distance\": 74}, {\"ca_bus_route\": \"Rt 1C\", \"orig\": \"BFD\", \"dest\": \"SMN\", \"trip_month\": 4, \"trip_year\": 2025, \"ridership\": 51, \"revenue\": 829.34, \"od\": \"BFD->SMN\", \"direction\": \"sb\", \"orig_seq\": 0, \"dest_seq\": 5, \"departing_station\": \"2_BUR\", \"distance\": 75}, {\"ca_bus_route\": \"Rt 1C\", \"orig\": \"BFD\", \"dest\": \"SMN\", \"trip_month\": 4, \"trip_year\": 2025, \"ridership\": 51, \"revenue\": 829.34, \"od\": \"BFD->SMN\", \"direction\": \"sb\", \"orig_seq\": 0, \"dest_seq\": 5, \"departing_station\": \"2_BUR\", \"distance\": 76}, {\"ca_bus_route\": \"Rt 1C\", \"orig\": \"BFD\", \"dest\": \"SMN\", \"trip_month\": 4, \"trip_year\": 2025, \"ridership\": 51, \"revenue\": 829.34, \"od\": \"BFD->SMN\", \"direction\": \"sb\", \"orig_seq\": 0, \"dest_seq\": 5, \"departing_station\": \"2_BUR\", \"distance\": 77}, {\"ca_bus_route\": \"Rt 1C\", \"orig\": \"BFD\", \"dest\": \"SMN\", \"trip_month\": 4, \"trip_year\": 2025, \"ridership\": 51, \"revenue\": 829.34, \"od\": \"BFD->SMN\", \"direction\": \"sb\", \"orig_seq\": 0, \"dest_seq\": 5, \"departing_station\": \"2_BUR\", \"distance\": 78}, {\"ca_bus_route\": \"Rt 1C\", \"orig\": \"BFD\", \"dest\": \"SMN\", \"trip_month\": 4, \"trip_year\": 2025, \"ridership\": 51, \"revenue\": 829.34, \"od\": \"BFD->SMN\", \"direction\": \"sb\", \"orig_seq\": 0, \"dest_seq\": 5, \"departing_station\": \"2_BUR\", \"distance\": 79}, {\"ca_bus_route\": \"Rt 1C\", \"orig\": \"BFD\", \"dest\": \"SMN\", \"trip_month\": 4, \"trip_year\": 2025, \"ridership\": 51, \"revenue\": 829.34, \"od\": \"BFD->SMN\", \"direction\": \"sb\", \"orig_seq\": 0, \"dest_seq\": 5, \"departing_station\": \"2_BUR\", \"distance\": 80}, {\"ca_bus_route\": \"Rt 1C\", \"orig\": \"BFD\", \"dest\": \"SMN\", \"trip_month\": 4, \"trip_year\": 2025, \"ridership\": 51, \"revenue\": 829.34, \"od\": \"BFD->SMN\", \"direction\": \"sb\", \"orig_seq\": 0, \"dest_seq\": 5, \"departing_station\": \"2_BUR\", \"distance\": 81}, {\"ca_bus_route\": \"Rt 1C\", \"orig\": \"BFD\", \"dest\": \"VNC\", \"trip_month\": 4, \"trip_year\": 2025, \"ridership\": 518, \"revenue\": 5618.8, \"od\": \"BFD->VNC\", \"direction\": \"sb\", \"orig_seq\": 0, \"dest_seq\": 3, \"departing_station\": \"2_BUR\", \"distance\": 75}, {\"ca_bus_route\": \"Rt 1C\", \"orig\": \"BFD\", \"dest\": \"VNC\", \"trip_month\": 4, \"trip_year\": 2025, \"ridership\": 518, \"revenue\": 5618.8, \"od\": \"BFD->VNC\", \"direction\": \"sb\", \"orig_seq\": 0, \"dest_seq\": 3, \"departing_station\": \"2_BUR\", \"distance\": 76}, {\"ca_bus_route\": \"Rt 1C\", \"orig\": \"BFD\", \"dest\": \"VNC\", \"trip_month\": 4, \"trip_year\": 2025, \"ridership\": 518, \"revenue\": 5618.8, \"od\": \"BFD->VNC\", \"direction\": \"sb\", \"orig_seq\": 0, \"dest_seq\": 3, \"departing_station\": \"2_BUR\", \"distance\": 77}, {\"ca_bus_route\": \"Rt 1C\", \"orig\": \"BFD\", \"dest\": \"VNC\", \"trip_month\": 4, \"trip_year\": 2025, \"ridership\": 518, \"revenue\": 5618.8, \"od\": \"BFD->VNC\", \"direction\": \"sb\", \"orig_seq\": 0, \"dest_seq\": 3, \"departing_station\": \"2_BUR\", \"distance\": 78}, {\"ca_bus_route\": \"Rt 1C\", \"orig\": \"BFD\", \"dest\": \"VNC\", \"trip_month\": 4, \"trip_year\": 2025, \"ridership\": 518, \"revenue\": 5618.8, \"od\": \"BFD->VNC\", \"direction\": \"sb\", \"orig_seq\": 0, \"dest_seq\": 3, \"departing_station\": \"2_BUR\", \"distance\": 79}, {\"ca_bus_route\": \"Rt 1C\", \"orig\": \"BFD\", \"dest\": \"VNC\", \"trip_month\": 4, \"trip_year\": 2025, \"ridership\": 518, \"revenue\": 5618.8, \"od\": \"BFD->VNC\", \"direction\": \"sb\", \"orig_seq\": 0, \"dest_seq\": 3, \"departing_station\": \"2_BUR\", \"distance\": 80}, {\"ca_bus_route\": \"Rt 1C\", \"orig\": \"BFD\", \"dest\": \"VNC\", \"trip_month\": 4, \"trip_year\": 2025, \"ridership\": 518, \"revenue\": 5618.8, \"od\": \"BFD->VNC\", \"direction\": \"sb\", \"orig_seq\": 0, \"dest_seq\": 3, \"departing_station\": \"2_BUR\", \"distance\": 81}, {\"ca_bus_route\": \"Rt 1C\", \"orig\": \"BFD\", \"dest\": \"WES\", \"trip_month\": 4, \"trip_year\": 2025, \"ridership\": 288, \"revenue\": 4948.75, \"od\": \"BFD->WES\", \"direction\": \"sb\", \"orig_seq\": 0, \"dest_seq\": 4, \"departing_station\": \"2_BUR\", \"distance\": 75}, {\"ca_bus_route\": \"Rt 1C\", \"orig\": \"BFD\", \"dest\": \"WES\", \"trip_month\": 4, \"trip_year\": 2025, \"ridership\": 288, \"revenue\": 4948.75, \"od\": \"BFD->WES\", \"direction\": \"sb\", \"orig_seq\": 0, \"dest_seq\": 4, \"departing_station\": \"2_BUR\", \"distance\": 76}, {\"ca_bus_route\": \"Rt 1C\", \"orig\": \"BFD\", \"dest\": \"WES\", \"trip_month\": 4, \"trip_year\": 2025, \"ridership\": 288, \"revenue\": 4948.75, \"od\": \"BFD->WES\", \"direction\": \"sb\", \"orig_seq\": 0, \"dest_seq\": 4, \"departing_station\": \"2_BUR\", \"distance\": 77}, {\"ca_bus_route\": \"Rt 1C\", \"orig\": \"BFD\", \"dest\": \"WES\", \"trip_month\": 4, \"trip_year\": 2025, \"ridership\": 288, \"revenue\": 4948.75, \"od\": \"BFD->WES\", \"direction\": \"sb\", \"orig_seq\": 0, \"dest_seq\": 4, \"departing_station\": \"2_BUR\", \"distance\": 78}, {\"ca_bus_route\": \"Rt 1C\", \"orig\": \"BFD\", \"dest\": \"WES\", \"trip_month\": 4, \"trip_year\": 2025, \"ridership\": 288, \"revenue\": 4948.75, \"od\": \"BFD->WES\", \"direction\": \"sb\", \"orig_seq\": 0, \"dest_seq\": 4, \"departing_station\": \"2_BUR\", \"distance\": 79}, {\"ca_bus_route\": \"Rt 1C\", \"orig\": \"BFD\", \"dest\": \"WES\", \"trip_month\": 4, \"trip_year\": 2025, \"ridership\": 288, \"revenue\": 4948.75, \"od\": \"BFD->WES\", \"direction\": \"sb\", \"orig_seq\": 0, \"dest_seq\": 4, \"departing_station\": \"2_BUR\", \"distance\": 80}, {\"ca_bus_route\": \"Rt 1C\", \"orig\": \"BFD\", \"dest\": \"WES\", \"trip_month\": 4, \"trip_year\": 2025, \"ridership\": 288, \"revenue\": 4948.75, \"od\": \"BFD->WES\", \"direction\": \"sb\", \"orig_seq\": 0, \"dest_seq\": 4, \"departing_station\": \"2_BUR\", \"distance\": 81}, {\"ca_bus_route\": \"Rt 1C\", \"orig\": \"BUR\", \"dest\": \"SMN\", \"trip_month\": 4, \"trip_year\": 2025, \"ridership\": 2, \"revenue\": 10.0, \"od\": \"BUR->SMN\", \"direction\": \"sb\", \"orig_seq\": 2, \"dest_seq\": 5, \"departing_station\": \"2_BUR\", \"distance\": 75}, {\"ca_bus_route\": \"Rt 1C\", \"orig\": \"BUR\", \"dest\": \"SMN\", \"trip_month\": 4, \"trip_year\": 2025, \"ridership\": 2, \"revenue\": 10.0, \"od\": \"BUR->SMN\", \"direction\": \"sb\", \"orig_seq\": 2, \"dest_seq\": 5, \"departing_station\": \"2_BUR\", \"distance\": 76}, {\"ca_bus_route\": \"Rt 1C\", \"orig\": \"BUR\", \"dest\": \"SMN\", \"trip_month\": 4, \"trip_year\": 2025, \"ridership\": 2, \"revenue\": 10.0, \"od\": \"BUR->SMN\", \"direction\": \"sb\", \"orig_seq\": 2, \"dest_seq\": 5, \"departing_station\": \"2_BUR\", \"distance\": 77}, {\"ca_bus_route\": \"Rt 1C\", \"orig\": \"BUR\", \"dest\": \"SMN\", \"trip_month\": 4, \"trip_year\": 2025, \"ridership\": 2, \"revenue\": 10.0, \"od\": \"BUR->SMN\", \"direction\": \"sb\", \"orig_seq\": 2, \"dest_seq\": 5, \"departing_station\": \"2_BUR\", \"distance\": 78}, {\"ca_bus_route\": \"Rt 1C\", \"orig\": \"BUR\", \"dest\": \"SMN\", \"trip_month\": 4, \"trip_year\": 2025, \"ridership\": 2, \"revenue\": 10.0, \"od\": \"BUR->SMN\", \"direction\": \"sb\", \"orig_seq\": 2, \"dest_seq\": 5, \"departing_station\": \"2_BUR\", \"distance\": 79}, {\"ca_bus_route\": \"Rt 1C\", \"orig\": \"BUR\", \"dest\": \"SMN\", \"trip_month\": 4, \"trip_year\": 2025, \"ridership\": 2, \"revenue\": 10.0, \"od\": \"BUR->SMN\", \"direction\": \"sb\", \"orig_seq\": 2, \"dest_seq\": 5, \"departing_station\": \"2_BUR\", \"distance\": 80}, {\"ca_bus_route\": \"Rt 1C\", \"orig\": \"BUR\", \"dest\": \"SMN\", \"trip_month\": 4, \"trip_year\": 2025, \"ridership\": 2, \"revenue\": 10.0, \"od\": \"BUR->SMN\", \"direction\": \"sb\", \"orig_seq\": 2, \"dest_seq\": 5, \"departing_station\": \"2_BUR\", \"distance\": 81}, {\"ca_bus_route\": \"Rt 1C\", \"orig\": \"BUR\", \"dest\": \"WES\", \"trip_month\": 4, \"trip_year\": 2025, \"ridership\": 16, \"revenue\": 83.0, \"od\": \"BUR->WES\", \"direction\": \"sb\", \"orig_seq\": 2, \"dest_seq\": 4, \"departing_station\": \"2_BUR\", \"distance\": 75}, {\"ca_bus_route\": \"Rt 1C\", \"orig\": \"BUR\", \"dest\": \"WES\", \"trip_month\": 4, \"trip_year\": 2025, \"ridership\": 16, \"revenue\": 83.0, \"od\": \"BUR->WES\", \"direction\": \"sb\", \"orig_seq\": 2, \"dest_seq\": 4, \"departing_station\": \"2_BUR\", \"distance\": 76}, {\"ca_bus_route\": \"Rt 1C\", \"orig\": \"BUR\", \"dest\": \"WES\", \"trip_month\": 4, \"trip_year\": 2025, \"ridership\": 16, \"revenue\": 83.0, \"od\": \"BUR->WES\", \"direction\": \"sb\", \"orig_seq\": 2, \"dest_seq\": 4, \"departing_station\": \"2_BUR\", \"distance\": 77}, {\"ca_bus_route\": \"Rt 1C\", \"orig\": \"BUR\", \"dest\": \"WES\", \"trip_month\": 4, \"trip_year\": 2025, \"ridership\": 16, \"revenue\": 83.0, \"od\": \"BUR->WES\", \"direction\": \"sb\", \"orig_seq\": 2, \"dest_seq\": 4, \"departing_station\": \"2_BUR\", \"distance\": 78}, {\"ca_bus_route\": \"Rt 1C\", \"orig\": \"BUR\", \"dest\": \"WES\", \"trip_month\": 4, \"trip_year\": 2025, \"ridership\": 16, \"revenue\": 83.0, \"od\": \"BUR->WES\", \"direction\": \"sb\", \"orig_seq\": 2, \"dest_seq\": 4, \"departing_station\": \"2_BUR\", \"distance\": 79}, {\"ca_bus_route\": \"Rt 1C\", \"orig\": \"BUR\", \"dest\": \"WES\", \"trip_month\": 4, \"trip_year\": 2025, \"ridership\": 16, \"revenue\": 83.0, \"od\": \"BUR->WES\", \"direction\": \"sb\", \"orig_seq\": 2, \"dest_seq\": 4, \"departing_station\": \"2_BUR\", \"distance\": 80}, {\"ca_bus_route\": \"Rt 1C\", \"orig\": \"BUR\", \"dest\": \"WES\", \"trip_month\": 4, \"trip_year\": 2025, \"ridership\": 16, \"revenue\": 83.0, \"od\": \"BUR->WES\", \"direction\": \"sb\", \"orig_seq\": 2, \"dest_seq\": 4, \"departing_station\": \"2_BUR\", \"distance\": 81}, {\"ca_bus_route\": \"Rt 1C\", \"orig\": \"NHL\", \"dest\": \"SMN\", \"trip_month\": 4, \"trip_year\": 2025, \"ridership\": 3, \"revenue\": 23.0, \"od\": \"NHL->SMN\", \"direction\": \"sb\", \"orig_seq\": 1, \"dest_seq\": 5, \"departing_station\": \"2_BUR\", \"distance\": 75}, {\"ca_bus_route\": \"Rt 1C\", \"orig\": \"NHL\", \"dest\": \"SMN\", \"trip_month\": 4, \"trip_year\": 2025, \"ridership\": 3, \"revenue\": 23.0, \"od\": \"NHL->SMN\", \"direction\": \"sb\", \"orig_seq\": 1, \"dest_seq\": 5, \"departing_station\": \"2_BUR\", \"distance\": 76}, {\"ca_bus_route\": \"Rt 1C\", \"orig\": \"NHL\", \"dest\": \"SMN\", \"trip_month\": 4, \"trip_year\": 2025, \"ridership\": 3, \"revenue\": 23.0, \"od\": \"NHL->SMN\", \"direction\": \"sb\", \"orig_seq\": 1, \"dest_seq\": 5, \"departing_station\": \"2_BUR\", \"distance\": 77}, {\"ca_bus_route\": \"Rt 1C\", \"orig\": \"NHL\", \"dest\": \"SMN\", \"trip_month\": 4, \"trip_year\": 2025, \"ridership\": 3, \"revenue\": 23.0, \"od\": \"NHL->SMN\", \"direction\": \"sb\", \"orig_seq\": 1, \"dest_seq\": 5, \"departing_station\": \"2_BUR\", \"distance\": 78}, {\"ca_bus_route\": \"Rt 1C\", \"orig\": \"NHL\", \"dest\": \"SMN\", \"trip_month\": 4, \"trip_year\": 2025, \"ridership\": 3, \"revenue\": 23.0, \"od\": \"NHL->SMN\", \"direction\": \"sb\", \"orig_seq\": 1, \"dest_seq\": 5, \"departing_station\": \"2_BUR\", \"distance\": 79}, {\"ca_bus_route\": \"Rt 1C\", \"orig\": \"NHL\", \"dest\": \"SMN\", \"trip_month\": 4, \"trip_year\": 2025, \"ridership\": 3, \"revenue\": 23.0, \"od\": \"NHL->SMN\", \"direction\": \"sb\", \"orig_seq\": 1, \"dest_seq\": 5, \"departing_station\": \"2_BUR\", \"distance\": 80}, {\"ca_bus_route\": \"Rt 1C\", \"orig\": \"NHL\", \"dest\": \"SMN\", \"trip_month\": 4, \"trip_year\": 2025, \"ridership\": 3, \"revenue\": 23.0, \"od\": \"NHL->SMN\", \"direction\": \"sb\", \"orig_seq\": 1, \"dest_seq\": 5, \"departing_station\": \"2_BUR\", \"distance\": 81}, {\"ca_bus_route\": \"Rt 1C\", \"orig\": \"NHL\", \"dest\": \"VNC\", \"trip_month\": 4, \"trip_year\": 2025, \"ridership\": 20, \"revenue\": 104.0, \"od\": \"NHL->VNC\", \"direction\": \"sb\", \"orig_seq\": 1, \"dest_seq\": 3, \"departing_station\": \"2_BUR\", \"distance\": 75}, {\"ca_bus_route\": \"Rt 1C\", \"orig\": \"NHL\", \"dest\": \"VNC\", \"trip_month\": 4, \"trip_year\": 2025, \"ridership\": 20, \"revenue\": 104.0, \"od\": \"NHL->VNC\", \"direction\": \"sb\", \"orig_seq\": 1, \"dest_seq\": 3, \"departing_station\": \"2_BUR\", \"distance\": 76}, {\"ca_bus_route\": \"Rt 1C\", \"orig\": \"NHL\", \"dest\": \"VNC\", \"trip_month\": 4, \"trip_year\": 2025, \"ridership\": 20, \"revenue\": 104.0, \"od\": \"NHL->VNC\", \"direction\": \"sb\", \"orig_seq\": 1, \"dest_seq\": 3, \"departing_station\": \"2_BUR\", \"distance\": 77}, {\"ca_bus_route\": \"Rt 1C\", \"orig\": \"NHL\", \"dest\": \"VNC\", \"trip_month\": 4, \"trip_year\": 2025, \"ridership\": 20, \"revenue\": 104.0, \"od\": \"NHL->VNC\", \"direction\": \"sb\", \"orig_seq\": 1, \"dest_seq\": 3, \"departing_station\": \"2_BUR\", \"distance\": 78}, {\"ca_bus_route\": \"Rt 1C\", \"orig\": \"NHL\", \"dest\": \"VNC\", \"trip_month\": 4, \"trip_year\": 2025, \"ridership\": 20, \"revenue\": 104.0, \"od\": \"NHL->VNC\", \"direction\": \"sb\", \"orig_seq\": 1, \"dest_seq\": 3, \"departing_station\": \"2_BUR\", \"distance\": 79}, {\"ca_bus_route\": \"Rt 1C\", \"orig\": \"NHL\", \"dest\": \"VNC\", \"trip_month\": 4, \"trip_year\": 2025, \"ridership\": 20, \"revenue\": 104.0, \"od\": \"NHL->VNC\", \"direction\": \"sb\", \"orig_seq\": 1, \"dest_seq\": 3, \"departing_station\": \"2_BUR\", \"distance\": 80}, {\"ca_bus_route\": \"Rt 1C\", \"orig\": \"NHL\", \"dest\": \"VNC\", \"trip_month\": 4, \"trip_year\": 2025, \"ridership\": 20, \"revenue\": 104.0, \"od\": \"NHL->VNC\", \"direction\": \"sb\", \"orig_seq\": 1, \"dest_seq\": 3, \"departing_station\": \"2_BUR\", \"distance\": 81}, {\"ca_bus_route\": \"Rt 1C\", \"orig\": \"NHL\", \"dest\": \"WES\", \"trip_month\": 4, \"trip_year\": 2025, \"ridership\": 2, \"revenue\": 25.0, \"od\": \"NHL->WES\", \"direction\": \"sb\", \"orig_seq\": 1, \"dest_seq\": 4, \"departing_station\": \"2_BUR\", \"distance\": 75}, {\"ca_bus_route\": \"Rt 1C\", \"orig\": \"NHL\", \"dest\": \"WES\", \"trip_month\": 4, \"trip_year\": 2025, \"ridership\": 2, \"revenue\": 25.0, \"od\": \"NHL->WES\", \"direction\": \"sb\", \"orig_seq\": 1, \"dest_seq\": 4, \"departing_station\": \"2_BUR\", \"distance\": 76}, {\"ca_bus_route\": \"Rt 1C\", \"orig\": \"NHL\", \"dest\": \"WES\", \"trip_month\": 4, \"trip_year\": 2025, \"ridership\": 2, \"revenue\": 25.0, \"od\": \"NHL->WES\", \"direction\": \"sb\", \"orig_seq\": 1, \"dest_seq\": 4, \"departing_station\": \"2_BUR\", \"distance\": 77}, {\"ca_bus_route\": \"Rt 1C\", \"orig\": \"NHL\", \"dest\": \"WES\", \"trip_month\": 4, \"trip_year\": 2025, \"ridership\": 2, \"revenue\": 25.0, \"od\": \"NHL->WES\", \"direction\": \"sb\", \"orig_seq\": 1, \"dest_seq\": 4, \"departing_station\": \"2_BUR\", \"distance\": 78}, {\"ca_bus_route\": \"Rt 1C\", \"orig\": \"NHL\", \"dest\": \"WES\", \"trip_month\": 4, \"trip_year\": 2025, \"ridership\": 2, \"revenue\": 25.0, \"od\": \"NHL->WES\", \"direction\": \"sb\", \"orig_seq\": 1, \"dest_seq\": 4, \"departing_station\": \"2_BUR\", \"distance\": 79}, {\"ca_bus_route\": \"Rt 1C\", \"orig\": \"NHL\", \"dest\": \"WES\", \"trip_month\": 4, \"trip_year\": 2025, \"ridership\": 2, \"revenue\": 25.0, \"od\": \"NHL->WES\", \"direction\": \"sb\", \"orig_seq\": 1, \"dest_seq\": 4, \"departing_station\": \"2_BUR\", \"distance\": 80}, {\"ca_bus_route\": \"Rt 1C\", \"orig\": \"NHL\", \"dest\": \"WES\", \"trip_month\": 4, \"trip_year\": 2025, \"ridership\": 2, \"revenue\": 25.0, \"od\": \"NHL->WES\", \"direction\": \"sb\", \"orig_seq\": 1, \"dest_seq\": 4, \"departing_station\": \"2_BUR\", \"distance\": 81}, {\"ca_bus_route\": \"Rt 1C\", \"orig\": \"BFD\", \"dest\": \"SMN\", \"trip_month\": 4, \"trip_year\": 2025, \"ridership\": 51, \"revenue\": 829.34, \"od\": \"BFD->SMN\", \"direction\": \"sb\", \"orig_seq\": 0, \"dest_seq\": 5, \"departing_station\": \"3_VNC\", \"distance\": 82}, {\"ca_bus_route\": \"Rt 1C\", \"orig\": \"BFD\", \"dest\": \"SMN\", \"trip_month\": 4, \"trip_year\": 2025, \"ridership\": 51, \"revenue\": 829.34, \"od\": \"BFD->SMN\", \"direction\": \"sb\", \"orig_seq\": 0, \"dest_seq\": 5, \"departing_station\": \"3_VNC\", \"distance\": 83}, {\"ca_bus_route\": \"Rt 1C\", \"orig\": \"BFD\", \"dest\": \"SMN\", \"trip_month\": 4, \"trip_year\": 2025, \"ridership\": 51, \"revenue\": 829.34, \"od\": \"BFD->SMN\", \"direction\": \"sb\", \"orig_seq\": 0, \"dest_seq\": 5, \"departing_station\": \"3_VNC\", \"distance\": 84}, {\"ca_bus_route\": \"Rt 1C\", \"orig\": \"BFD\", \"dest\": \"SMN\", \"trip_month\": 4, \"trip_year\": 2025, \"ridership\": 51, \"revenue\": 829.34, \"od\": \"BFD->SMN\", \"direction\": \"sb\", \"orig_seq\": 0, \"dest_seq\": 5, \"departing_station\": \"3_VNC\", \"distance\": 85}, {\"ca_bus_route\": \"Rt 1C\", \"orig\": \"BFD\", \"dest\": \"SMN\", \"trip_month\": 4, \"trip_year\": 2025, \"ridership\": 51, \"revenue\": 829.34, \"od\": \"BFD->SMN\", \"direction\": \"sb\", \"orig_seq\": 0, \"dest_seq\": 5, \"departing_station\": \"3_VNC\", \"distance\": 86}, {\"ca_bus_route\": \"Rt 1C\", \"orig\": \"BFD\", \"dest\": \"SMN\", \"trip_month\": 4, \"trip_year\": 2025, \"ridership\": 51, \"revenue\": 829.34, \"od\": \"BFD->SMN\", \"direction\": \"sb\", \"orig_seq\": 0, \"dest_seq\": 5, \"departing_station\": \"3_VNC\", \"distance\": 87}, {\"ca_bus_route\": \"Rt 1C\", \"orig\": \"BFD\", \"dest\": \"SMN\", \"trip_month\": 4, \"trip_year\": 2025, \"ridership\": 51, \"revenue\": 829.34, \"od\": \"BFD->SMN\", \"direction\": \"sb\", \"orig_seq\": 0, \"dest_seq\": 5, \"departing_station\": \"3_VNC\", \"distance\": 88}, {\"ca_bus_route\": \"Rt 1C\", \"orig\": \"BFD\", \"dest\": \"SMN\", \"trip_month\": 4, \"trip_year\": 2025, \"ridership\": 51, \"revenue\": 829.34, \"od\": \"BFD->SMN\", \"direction\": \"sb\", \"orig_seq\": 0, \"dest_seq\": 5, \"departing_station\": \"3_VNC\", \"distance\": 89}, {\"ca_bus_route\": \"Rt 1C\", \"orig\": \"BFD\", \"dest\": \"SMN\", \"trip_month\": 4, \"trip_year\": 2025, \"ridership\": 51, \"revenue\": 829.34, \"od\": \"BFD->SMN\", \"direction\": \"sb\", \"orig_seq\": 0, \"dest_seq\": 5, \"departing_station\": \"3_VNC\", \"distance\": 90}, {\"ca_bus_route\": \"Rt 1C\", \"orig\": \"BFD\", \"dest\": \"SMN\", \"trip_month\": 4, \"trip_year\": 2025, \"ridership\": 51, \"revenue\": 829.34, \"od\": \"BFD->SMN\", \"direction\": \"sb\", \"orig_seq\": 0, \"dest_seq\": 5, \"departing_station\": \"3_VNC\", \"distance\": 91}, {\"ca_bus_route\": \"Rt 1C\", \"orig\": \"BFD\", \"dest\": \"SMN\", \"trip_month\": 4, \"trip_year\": 2025, \"ridership\": 51, \"revenue\": 829.34, \"od\": \"BFD->SMN\", \"direction\": \"sb\", \"orig_seq\": 0, \"dest_seq\": 5, \"departing_station\": \"3_VNC\", \"distance\": 92}, {\"ca_bus_route\": \"Rt 1C\", \"orig\": \"BFD\", \"dest\": \"SMN\", \"trip_month\": 4, \"trip_year\": 2025, \"ridership\": 51, \"revenue\": 829.34, \"od\": \"BFD->SMN\", \"direction\": \"sb\", \"orig_seq\": 0, \"dest_seq\": 5, \"departing_station\": \"3_VNC\", \"distance\": 93}, {\"ca_bus_route\": \"Rt 1C\", \"orig\": \"BFD\", \"dest\": \"SMN\", \"trip_month\": 4, \"trip_year\": 2025, \"ridership\": 51, \"revenue\": 829.34, \"od\": \"BFD->SMN\", \"direction\": \"sb\", \"orig_seq\": 0, \"dest_seq\": 5, \"departing_station\": \"3_VNC\", \"distance\": 94}, {\"ca_bus_route\": \"Rt 1C\", \"orig\": \"BFD\", \"dest\": \"SMN\", \"trip_month\": 4, \"trip_year\": 2025, \"ridership\": 51, \"revenue\": 829.34, \"od\": \"BFD->SMN\", \"direction\": \"sb\", \"orig_seq\": 0, \"dest_seq\": 5, \"departing_station\": \"3_VNC\", \"distance\": 95}, {\"ca_bus_route\": \"Rt 1C\", \"orig\": \"BFD\", \"dest\": \"SMN\", \"trip_month\": 4, \"trip_year\": 2025, \"ridership\": 51, \"revenue\": 829.34, \"od\": \"BFD->SMN\", \"direction\": \"sb\", \"orig_seq\": 0, \"dest_seq\": 5, \"departing_station\": \"3_VNC\", \"distance\": 96}, {\"ca_bus_route\": \"Rt 1C\", \"orig\": \"BFD\", \"dest\": \"WES\", \"trip_month\": 4, \"trip_year\": 2025, \"ridership\": 288, \"revenue\": 4948.75, \"od\": \"BFD->WES\", \"direction\": \"sb\", \"orig_seq\": 0, \"dest_seq\": 4, \"departing_station\": \"3_VNC\", \"distance\": 82}, {\"ca_bus_route\": \"Rt 1C\", \"orig\": \"BFD\", \"dest\": \"WES\", \"trip_month\": 4, \"trip_year\": 2025, \"ridership\": 288, \"revenue\": 4948.75, \"od\": \"BFD->WES\", \"direction\": \"sb\", \"orig_seq\": 0, \"dest_seq\": 4, \"departing_station\": \"3_VNC\", \"distance\": 83}, {\"ca_bus_route\": \"Rt 1C\", \"orig\": \"BFD\", \"dest\": \"WES\", \"trip_month\": 4, \"trip_year\": 2025, \"ridership\": 288, \"revenue\": 4948.75, \"od\": \"BFD->WES\", \"direction\": \"sb\", \"orig_seq\": 0, \"dest_seq\": 4, \"departing_station\": \"3_VNC\", \"distance\": 84}, {\"ca_bus_route\": \"Rt 1C\", \"orig\": \"BFD\", \"dest\": \"WES\", \"trip_month\": 4, \"trip_year\": 2025, \"ridership\": 288, \"revenue\": 4948.75, \"od\": \"BFD->WES\", \"direction\": \"sb\", \"orig_seq\": 0, \"dest_seq\": 4, \"departing_station\": \"3_VNC\", \"distance\": 85}, {\"ca_bus_route\": \"Rt 1C\", \"orig\": \"BFD\", \"dest\": \"WES\", \"trip_month\": 4, \"trip_year\": 2025, \"ridership\": 288, \"revenue\": 4948.75, \"od\": \"BFD->WES\", \"direction\": \"sb\", \"orig_seq\": 0, \"dest_seq\": 4, \"departing_station\": \"3_VNC\", \"distance\": 86}, {\"ca_bus_route\": \"Rt 1C\", \"orig\": \"BFD\", \"dest\": \"WES\", \"trip_month\": 4, \"trip_year\": 2025, \"ridership\": 288, \"revenue\": 4948.75, \"od\": \"BFD->WES\", \"direction\": \"sb\", \"orig_seq\": 0, \"dest_seq\": 4, \"departing_station\": \"3_VNC\", \"distance\": 87}, {\"ca_bus_route\": \"Rt 1C\", \"orig\": \"BFD\", \"dest\": \"WES\", \"trip_month\": 4, \"trip_year\": 2025, \"ridership\": 288, \"revenue\": 4948.75, \"od\": \"BFD->WES\", \"direction\": \"sb\", \"orig_seq\": 0, \"dest_seq\": 4, \"departing_station\": \"3_VNC\", \"distance\": 88}, {\"ca_bus_route\": \"Rt 1C\", \"orig\": \"BFD\", \"dest\": \"WES\", \"trip_month\": 4, \"trip_year\": 2025, \"ridership\": 288, \"revenue\": 4948.75, \"od\": \"BFD->WES\", \"direction\": \"sb\", \"orig_seq\": 0, \"dest_seq\": 4, \"departing_station\": \"3_VNC\", \"distance\": 89}, {\"ca_bus_route\": \"Rt 1C\", \"orig\": \"BFD\", \"dest\": \"WES\", \"trip_month\": 4, \"trip_year\": 2025, \"ridership\": 288, \"revenue\": 4948.75, \"od\": \"BFD->WES\", \"direction\": \"sb\", \"orig_seq\": 0, \"dest_seq\": 4, \"departing_station\": \"3_VNC\", \"distance\": 90}, {\"ca_bus_route\": \"Rt 1C\", \"orig\": \"BFD\", \"dest\": \"WES\", \"trip_month\": 4, \"trip_year\": 2025, \"ridership\": 288, \"revenue\": 4948.75, \"od\": \"BFD->WES\", \"direction\": \"sb\", \"orig_seq\": 0, \"dest_seq\": 4, \"departing_station\": \"3_VNC\", \"distance\": 91}, {\"ca_bus_route\": \"Rt 1C\", \"orig\": \"BFD\", \"dest\": \"WES\", \"trip_month\": 4, \"trip_year\": 2025, \"ridership\": 288, \"revenue\": 4948.75, \"od\": \"BFD->WES\", \"direction\": \"sb\", \"orig_seq\": 0, \"dest_seq\": 4, \"departing_station\": \"3_VNC\", \"distance\": 92}, {\"ca_bus_route\": \"Rt 1C\", \"orig\": \"BFD\", \"dest\": \"WES\", \"trip_month\": 4, \"trip_year\": 2025, \"ridership\": 288, \"revenue\": 4948.75, \"od\": \"BFD->WES\", \"direction\": \"sb\", \"orig_seq\": 0, \"dest_seq\": 4, \"departing_station\": \"3_VNC\", \"distance\": 93}, {\"ca_bus_route\": \"Rt 1C\", \"orig\": \"BFD\", \"dest\": \"WES\", \"trip_month\": 4, \"trip_year\": 2025, \"ridership\": 288, \"revenue\": 4948.75, \"od\": \"BFD->WES\", \"direction\": \"sb\", \"orig_seq\": 0, \"dest_seq\": 4, \"departing_station\": \"3_VNC\", \"distance\": 94}, {\"ca_bus_route\": \"Rt 1C\", \"orig\": \"BFD\", \"dest\": \"WES\", \"trip_month\": 4, \"trip_year\": 2025, \"ridership\": 288, \"revenue\": 4948.75, \"od\": \"BFD->WES\", \"direction\": \"sb\", \"orig_seq\": 0, \"dest_seq\": 4, \"departing_station\": \"3_VNC\", \"distance\": 95}, {\"ca_bus_route\": \"Rt 1C\", \"orig\": \"BFD\", \"dest\": \"WES\", \"trip_month\": 4, \"trip_year\": 2025, \"ridership\": 288, \"revenue\": 4948.75, \"od\": \"BFD->WES\", \"direction\": \"sb\", \"orig_seq\": 0, \"dest_seq\": 4, \"departing_station\": \"3_VNC\", \"distance\": 96}, {\"ca_bus_route\": \"Rt 1C\", \"orig\": \"BUR\", \"dest\": \"SMN\", \"trip_month\": 4, \"trip_year\": 2025, \"ridership\": 2, \"revenue\": 10.0, \"od\": \"BUR->SMN\", \"direction\": \"sb\", \"orig_seq\": 2, \"dest_seq\": 5, \"departing_station\": \"3_VNC\", \"distance\": 82}, {\"ca_bus_route\": \"Rt 1C\", \"orig\": \"BUR\", \"dest\": \"SMN\", \"trip_month\": 4, \"trip_year\": 2025, \"ridership\": 2, \"revenue\": 10.0, \"od\": \"BUR->SMN\", \"direction\": \"sb\", \"orig_seq\": 2, \"dest_seq\": 5, \"departing_station\": \"3_VNC\", \"distance\": 83}, {\"ca_bus_route\": \"Rt 1C\", \"orig\": \"BUR\", \"dest\": \"SMN\", \"trip_month\": 4, \"trip_year\": 2025, \"ridership\": 2, \"revenue\": 10.0, \"od\": \"BUR->SMN\", \"direction\": \"sb\", \"orig_seq\": 2, \"dest_seq\": 5, \"departing_station\": \"3_VNC\", \"distance\": 84}, {\"ca_bus_route\": \"Rt 1C\", \"orig\": \"BUR\", \"dest\": \"SMN\", \"trip_month\": 4, \"trip_year\": 2025, \"ridership\": 2, \"revenue\": 10.0, \"od\": \"BUR->SMN\", \"direction\": \"sb\", \"orig_seq\": 2, \"dest_seq\": 5, \"departing_station\": \"3_VNC\", \"distance\": 85}, {\"ca_bus_route\": \"Rt 1C\", \"orig\": \"BUR\", \"dest\": \"SMN\", \"trip_month\": 4, \"trip_year\": 2025, \"ridership\": 2, \"revenue\": 10.0, \"od\": \"BUR->SMN\", \"direction\": \"sb\", \"orig_seq\": 2, \"dest_seq\": 5, \"departing_station\": \"3_VNC\", \"distance\": 86}, {\"ca_bus_route\": \"Rt 1C\", \"orig\": \"BUR\", \"dest\": \"SMN\", \"trip_month\": 4, \"trip_year\": 2025, \"ridership\": 2, \"revenue\": 10.0, \"od\": \"BUR->SMN\", \"direction\": \"sb\", \"orig_seq\": 2, \"dest_seq\": 5, \"departing_station\": \"3_VNC\", \"distance\": 87}, {\"ca_bus_route\": \"Rt 1C\", \"orig\": \"BUR\", \"dest\": \"SMN\", \"trip_month\": 4, \"trip_year\": 2025, \"ridership\": 2, \"revenue\": 10.0, \"od\": \"BUR->SMN\", \"direction\": \"sb\", \"orig_seq\": 2, \"dest_seq\": 5, \"departing_station\": \"3_VNC\", \"distance\": 88}, {\"ca_bus_route\": \"Rt 1C\", \"orig\": \"BUR\", \"dest\": \"SMN\", \"trip_month\": 4, \"trip_year\": 2025, \"ridership\": 2, \"revenue\": 10.0, \"od\": \"BUR->SMN\", \"direction\": \"sb\", \"orig_seq\": 2, \"dest_seq\": 5, \"departing_station\": \"3_VNC\", \"distance\": 89}, {\"ca_bus_route\": \"Rt 1C\", \"orig\": \"BUR\", \"dest\": \"SMN\", \"trip_month\": 4, \"trip_year\": 2025, \"ridership\": 2, \"revenue\": 10.0, \"od\": \"BUR->SMN\", \"direction\": \"sb\", \"orig_seq\": 2, \"dest_seq\": 5, \"departing_station\": \"3_VNC\", \"distance\": 90}, {\"ca_bus_route\": \"Rt 1C\", \"orig\": \"BUR\", \"dest\": \"SMN\", \"trip_month\": 4, \"trip_year\": 2025, \"ridership\": 2, \"revenue\": 10.0, \"od\": \"BUR->SMN\", \"direction\": \"sb\", \"orig_seq\": 2, \"dest_seq\": 5, \"departing_station\": \"3_VNC\", \"distance\": 91}, {\"ca_bus_route\": \"Rt 1C\", \"orig\": \"BUR\", \"dest\": \"SMN\", \"trip_month\": 4, \"trip_year\": 2025, \"ridership\": 2, \"revenue\": 10.0, \"od\": \"BUR->SMN\", \"direction\": \"sb\", \"orig_seq\": 2, \"dest_seq\": 5, \"departing_station\": \"3_VNC\", \"distance\": 92}, {\"ca_bus_route\": \"Rt 1C\", \"orig\": \"BUR\", \"dest\": \"SMN\", \"trip_month\": 4, \"trip_year\": 2025, \"ridership\": 2, \"revenue\": 10.0, \"od\": \"BUR->SMN\", \"direction\": \"sb\", \"orig_seq\": 2, \"dest_seq\": 5, \"departing_station\": \"3_VNC\", \"distance\": 93}, {\"ca_bus_route\": \"Rt 1C\", \"orig\": \"BUR\", \"dest\": \"SMN\", \"trip_month\": 4, \"trip_year\": 2025, \"ridership\": 2, \"revenue\": 10.0, \"od\": \"BUR->SMN\", \"direction\": \"sb\", \"orig_seq\": 2, \"dest_seq\": 5, \"departing_station\": \"3_VNC\", \"distance\": 94}, {\"ca_bus_route\": \"Rt 1C\", \"orig\": \"BUR\", \"dest\": \"SMN\", \"trip_month\": 4, \"trip_year\": 2025, \"ridership\": 2, \"revenue\": 10.0, \"od\": \"BUR->SMN\", \"direction\": \"sb\", \"orig_seq\": 2, \"dest_seq\": 5, \"departing_station\": \"3_VNC\", \"distance\": 95}, {\"ca_bus_route\": \"Rt 1C\", \"orig\": \"BUR\", \"dest\": \"SMN\", \"trip_month\": 4, \"trip_year\": 2025, \"ridership\": 2, \"revenue\": 10.0, \"od\": \"BUR->SMN\", \"direction\": \"sb\", \"orig_seq\": 2, \"dest_seq\": 5, \"departing_station\": \"3_VNC\", \"distance\": 96}, {\"ca_bus_route\": \"Rt 1C\", \"orig\": \"BUR\", \"dest\": \"WES\", \"trip_month\": 4, \"trip_year\": 2025, \"ridership\": 16, \"revenue\": 83.0, \"od\": \"BUR->WES\", \"direction\": \"sb\", \"orig_seq\": 2, \"dest_seq\": 4, \"departing_station\": \"3_VNC\", \"distance\": 82}, {\"ca_bus_route\": \"Rt 1C\", \"orig\": \"BUR\", \"dest\": \"WES\", \"trip_month\": 4, \"trip_year\": 2025, \"ridership\": 16, \"revenue\": 83.0, \"od\": \"BUR->WES\", \"direction\": \"sb\", \"orig_seq\": 2, \"dest_seq\": 4, \"departing_station\": \"3_VNC\", \"distance\": 83}, {\"ca_bus_route\": \"Rt 1C\", \"orig\": \"BUR\", \"dest\": \"WES\", \"trip_month\": 4, \"trip_year\": 2025, \"ridership\": 16, \"revenue\": 83.0, \"od\": \"BUR->WES\", \"direction\": \"sb\", \"orig_seq\": 2, \"dest_seq\": 4, \"departing_station\": \"3_VNC\", \"distance\": 84}, {\"ca_bus_route\": \"Rt 1C\", \"orig\": \"BUR\", \"dest\": \"WES\", \"trip_month\": 4, \"trip_year\": 2025, \"ridership\": 16, \"revenue\": 83.0, \"od\": \"BUR->WES\", \"direction\": \"sb\", \"orig_seq\": 2, \"dest_seq\": 4, \"departing_station\": \"3_VNC\", \"distance\": 85}, {\"ca_bus_route\": \"Rt 1C\", \"orig\": \"BUR\", \"dest\": \"WES\", \"trip_month\": 4, \"trip_year\": 2025, \"ridership\": 16, \"revenue\": 83.0, \"od\": \"BUR->WES\", \"direction\": \"sb\", \"orig_seq\": 2, \"dest_seq\": 4, \"departing_station\": \"3_VNC\", \"distance\": 86}, {\"ca_bus_route\": \"Rt 1C\", \"orig\": \"BUR\", \"dest\": \"WES\", \"trip_month\": 4, \"trip_year\": 2025, \"ridership\": 16, \"revenue\": 83.0, \"od\": \"BUR->WES\", \"direction\": \"sb\", \"orig_seq\": 2, \"dest_seq\": 4, \"departing_station\": \"3_VNC\", \"distance\": 87}, {\"ca_bus_route\": \"Rt 1C\", \"orig\": \"BUR\", \"dest\": \"WES\", \"trip_month\": 4, \"trip_year\": 2025, \"ridership\": 16, \"revenue\": 83.0, \"od\": \"BUR->WES\", \"direction\": \"sb\", \"orig_seq\": 2, \"dest_seq\": 4, \"departing_station\": \"3_VNC\", \"distance\": 88}, {\"ca_bus_route\": \"Rt 1C\", \"orig\": \"BUR\", \"dest\": \"WES\", \"trip_month\": 4, \"trip_year\": 2025, \"ridership\": 16, \"revenue\": 83.0, \"od\": \"BUR->WES\", \"direction\": \"sb\", \"orig_seq\": 2, \"dest_seq\": 4, \"departing_station\": \"3_VNC\", \"distance\": 89}, {\"ca_bus_route\": \"Rt 1C\", \"orig\": \"BUR\", \"dest\": \"WES\", \"trip_month\": 4, \"trip_year\": 2025, \"ridership\": 16, \"revenue\": 83.0, \"od\": \"BUR->WES\", \"direction\": \"sb\", \"orig_seq\": 2, \"dest_seq\": 4, \"departing_station\": \"3_VNC\", \"distance\": 90}, {\"ca_bus_route\": \"Rt 1C\", \"orig\": \"BUR\", \"dest\": \"WES\", \"trip_month\": 4, \"trip_year\": 2025, \"ridership\": 16, \"revenue\": 83.0, \"od\": \"BUR->WES\", \"direction\": \"sb\", \"orig_seq\": 2, \"dest_seq\": 4, \"departing_station\": \"3_VNC\", \"distance\": 91}, {\"ca_bus_route\": \"Rt 1C\", \"orig\": \"BUR\", \"dest\": \"WES\", \"trip_month\": 4, \"trip_year\": 2025, \"ridership\": 16, \"revenue\": 83.0, \"od\": \"BUR->WES\", \"direction\": \"sb\", \"orig_seq\": 2, \"dest_seq\": 4, \"departing_station\": \"3_VNC\", \"distance\": 92}, {\"ca_bus_route\": \"Rt 1C\", \"orig\": \"BUR\", \"dest\": \"WES\", \"trip_month\": 4, \"trip_year\": 2025, \"ridership\": 16, \"revenue\": 83.0, \"od\": \"BUR->WES\", \"direction\": \"sb\", \"orig_seq\": 2, \"dest_seq\": 4, \"departing_station\": \"3_VNC\", \"distance\": 93}, {\"ca_bus_route\": \"Rt 1C\", \"orig\": \"BUR\", \"dest\": \"WES\", \"trip_month\": 4, \"trip_year\": 2025, \"ridership\": 16, \"revenue\": 83.0, \"od\": \"BUR->WES\", \"direction\": \"sb\", \"orig_seq\": 2, \"dest_seq\": 4, \"departing_station\": \"3_VNC\", \"distance\": 94}, {\"ca_bus_route\": \"Rt 1C\", \"orig\": \"BUR\", \"dest\": \"WES\", \"trip_month\": 4, \"trip_year\": 2025, \"ridership\": 16, \"revenue\": 83.0, \"od\": \"BUR->WES\", \"direction\": \"sb\", \"orig_seq\": 2, \"dest_seq\": 4, \"departing_station\": \"3_VNC\", \"distance\": 95}, {\"ca_bus_route\": \"Rt 1C\", \"orig\": \"BUR\", \"dest\": \"WES\", \"trip_month\": 4, \"trip_year\": 2025, \"ridership\": 16, \"revenue\": 83.0, \"od\": \"BUR->WES\", \"direction\": \"sb\", \"orig_seq\": 2, \"dest_seq\": 4, \"departing_station\": \"3_VNC\", \"distance\": 96}, {\"ca_bus_route\": \"Rt 1C\", \"orig\": \"NHL\", \"dest\": \"SMN\", \"trip_month\": 4, \"trip_year\": 2025, \"ridership\": 3, \"revenue\": 23.0, \"od\": \"NHL->SMN\", \"direction\": \"sb\", \"orig_seq\": 1, \"dest_seq\": 5, \"departing_station\": \"3_VNC\", \"distance\": 82}, {\"ca_bus_route\": \"Rt 1C\", \"orig\": \"NHL\", \"dest\": \"SMN\", \"trip_month\": 4, \"trip_year\": 2025, \"ridership\": 3, \"revenue\": 23.0, \"od\": \"NHL->SMN\", \"direction\": \"sb\", \"orig_seq\": 1, \"dest_seq\": 5, \"departing_station\": \"3_VNC\", \"distance\": 83}, {\"ca_bus_route\": \"Rt 1C\", \"orig\": \"NHL\", \"dest\": \"SMN\", \"trip_month\": 4, \"trip_year\": 2025, \"ridership\": 3, \"revenue\": 23.0, \"od\": \"NHL->SMN\", \"direction\": \"sb\", \"orig_seq\": 1, \"dest_seq\": 5, \"departing_station\": \"3_VNC\", \"distance\": 84}, {\"ca_bus_route\": \"Rt 1C\", \"orig\": \"NHL\", \"dest\": \"SMN\", \"trip_month\": 4, \"trip_year\": 2025, \"ridership\": 3, \"revenue\": 23.0, \"od\": \"NHL->SMN\", \"direction\": \"sb\", \"orig_seq\": 1, \"dest_seq\": 5, \"departing_station\": \"3_VNC\", \"distance\": 85}, {\"ca_bus_route\": \"Rt 1C\", \"orig\": \"NHL\", \"dest\": \"SMN\", \"trip_month\": 4, \"trip_year\": 2025, \"ridership\": 3, \"revenue\": 23.0, \"od\": \"NHL->SMN\", \"direction\": \"sb\", \"orig_seq\": 1, \"dest_seq\": 5, \"departing_station\": \"3_VNC\", \"distance\": 86}, {\"ca_bus_route\": \"Rt 1C\", \"orig\": \"NHL\", \"dest\": \"SMN\", \"trip_month\": 4, \"trip_year\": 2025, \"ridership\": 3, \"revenue\": 23.0, \"od\": \"NHL->SMN\", \"direction\": \"sb\", \"orig_seq\": 1, \"dest_seq\": 5, \"departing_station\": \"3_VNC\", \"distance\": 87}, {\"ca_bus_route\": \"Rt 1C\", \"orig\": \"NHL\", \"dest\": \"SMN\", \"trip_month\": 4, \"trip_year\": 2025, \"ridership\": 3, \"revenue\": 23.0, \"od\": \"NHL->SMN\", \"direction\": \"sb\", \"orig_seq\": 1, \"dest_seq\": 5, \"departing_station\": \"3_VNC\", \"distance\": 88}, {\"ca_bus_route\": \"Rt 1C\", \"orig\": \"NHL\", \"dest\": \"SMN\", \"trip_month\": 4, \"trip_year\": 2025, \"ridership\": 3, \"revenue\": 23.0, \"od\": \"NHL->SMN\", \"direction\": \"sb\", \"orig_seq\": 1, \"dest_seq\": 5, \"departing_station\": \"3_VNC\", \"distance\": 89}, {\"ca_bus_route\": \"Rt 1C\", \"orig\": \"NHL\", \"dest\": \"SMN\", \"trip_month\": 4, \"trip_year\": 2025, \"ridership\": 3, \"revenue\": 23.0, \"od\": \"NHL->SMN\", \"direction\": \"sb\", \"orig_seq\": 1, \"dest_seq\": 5, \"departing_station\": \"3_VNC\", \"distance\": 90}, {\"ca_bus_route\": \"Rt 1C\", \"orig\": \"NHL\", \"dest\": \"SMN\", \"trip_month\": 4, \"trip_year\": 2025, \"ridership\": 3, \"revenue\": 23.0, \"od\": \"NHL->SMN\", \"direction\": \"sb\", \"orig_seq\": 1, \"dest_seq\": 5, \"departing_station\": \"3_VNC\", \"distance\": 91}, {\"ca_bus_route\": \"Rt 1C\", \"orig\": \"NHL\", \"dest\": \"SMN\", \"trip_month\": 4, \"trip_year\": 2025, \"ridership\": 3, \"revenue\": 23.0, \"od\": \"NHL->SMN\", \"direction\": \"sb\", \"orig_seq\": 1, \"dest_seq\": 5, \"departing_station\": \"3_VNC\", \"distance\": 92}, {\"ca_bus_route\": \"Rt 1C\", \"orig\": \"NHL\", \"dest\": \"SMN\", \"trip_month\": 4, \"trip_year\": 2025, \"ridership\": 3, \"revenue\": 23.0, \"od\": \"NHL->SMN\", \"direction\": \"sb\", \"orig_seq\": 1, \"dest_seq\": 5, \"departing_station\": \"3_VNC\", \"distance\": 93}, {\"ca_bus_route\": \"Rt 1C\", \"orig\": \"NHL\", \"dest\": \"SMN\", \"trip_month\": 4, \"trip_year\": 2025, \"ridership\": 3, \"revenue\": 23.0, \"od\": \"NHL->SMN\", \"direction\": \"sb\", \"orig_seq\": 1, \"dest_seq\": 5, \"departing_station\": \"3_VNC\", \"distance\": 94}, {\"ca_bus_route\": \"Rt 1C\", \"orig\": \"NHL\", \"dest\": \"SMN\", \"trip_month\": 4, \"trip_year\": 2025, \"ridership\": 3, \"revenue\": 23.0, \"od\": \"NHL->SMN\", \"direction\": \"sb\", \"orig_seq\": 1, \"dest_seq\": 5, \"departing_station\": \"3_VNC\", \"distance\": 95}, {\"ca_bus_route\": \"Rt 1C\", \"orig\": \"NHL\", \"dest\": \"SMN\", \"trip_month\": 4, \"trip_year\": 2025, \"ridership\": 3, \"revenue\": 23.0, \"od\": \"NHL->SMN\", \"direction\": \"sb\", \"orig_seq\": 1, \"dest_seq\": 5, \"departing_station\": \"3_VNC\", \"distance\": 96}, {\"ca_bus_route\": \"Rt 1C\", \"orig\": \"NHL\", \"dest\": \"WES\", \"trip_month\": 4, \"trip_year\": 2025, \"ridership\": 2, \"revenue\": 25.0, \"od\": \"NHL->WES\", \"direction\": \"sb\", \"orig_seq\": 1, \"dest_seq\": 4, \"departing_station\": \"3_VNC\", \"distance\": 82}, {\"ca_bus_route\": \"Rt 1C\", \"orig\": \"NHL\", \"dest\": \"WES\", \"trip_month\": 4, \"trip_year\": 2025, \"ridership\": 2, \"revenue\": 25.0, \"od\": \"NHL->WES\", \"direction\": \"sb\", \"orig_seq\": 1, \"dest_seq\": 4, \"departing_station\": \"3_VNC\", \"distance\": 83}, {\"ca_bus_route\": \"Rt 1C\", \"orig\": \"NHL\", \"dest\": \"WES\", \"trip_month\": 4, \"trip_year\": 2025, \"ridership\": 2, \"revenue\": 25.0, \"od\": \"NHL->WES\", \"direction\": \"sb\", \"orig_seq\": 1, \"dest_seq\": 4, \"departing_station\": \"3_VNC\", \"distance\": 84}, {\"ca_bus_route\": \"Rt 1C\", \"orig\": \"NHL\", \"dest\": \"WES\", \"trip_month\": 4, \"trip_year\": 2025, \"ridership\": 2, \"revenue\": 25.0, \"od\": \"NHL->WES\", \"direction\": \"sb\", \"orig_seq\": 1, \"dest_seq\": 4, \"departing_station\": \"3_VNC\", \"distance\": 85}, {\"ca_bus_route\": \"Rt 1C\", \"orig\": \"NHL\", \"dest\": \"WES\", \"trip_month\": 4, \"trip_year\": 2025, \"ridership\": 2, \"revenue\": 25.0, \"od\": \"NHL->WES\", \"direction\": \"sb\", \"orig_seq\": 1, \"dest_seq\": 4, \"departing_station\": \"3_VNC\", \"distance\": 86}, {\"ca_bus_route\": \"Rt 1C\", \"orig\": \"NHL\", \"dest\": \"WES\", \"trip_month\": 4, \"trip_year\": 2025, \"ridership\": 2, \"revenue\": 25.0, \"od\": \"NHL->WES\", \"direction\": \"sb\", \"orig_seq\": 1, \"dest_seq\": 4, \"departing_station\": \"3_VNC\", \"distance\": 87}, {\"ca_bus_route\": \"Rt 1C\", \"orig\": \"NHL\", \"dest\": \"WES\", \"trip_month\": 4, \"trip_year\": 2025, \"ridership\": 2, \"revenue\": 25.0, \"od\": \"NHL->WES\", \"direction\": \"sb\", \"orig_seq\": 1, \"dest_seq\": 4, \"departing_station\": \"3_VNC\", \"distance\": 88}, {\"ca_bus_route\": \"Rt 1C\", \"orig\": \"NHL\", \"dest\": \"WES\", \"trip_month\": 4, \"trip_year\": 2025, \"ridership\": 2, \"revenue\": 25.0, \"od\": \"NHL->WES\", \"direction\": \"sb\", \"orig_seq\": 1, \"dest_seq\": 4, \"departing_station\": \"3_VNC\", \"distance\": 89}, {\"ca_bus_route\": \"Rt 1C\", \"orig\": \"NHL\", \"dest\": \"WES\", \"trip_month\": 4, \"trip_year\": 2025, \"ridership\": 2, \"revenue\": 25.0, \"od\": \"NHL->WES\", \"direction\": \"sb\", \"orig_seq\": 1, \"dest_seq\": 4, \"departing_station\": \"3_VNC\", \"distance\": 90}, {\"ca_bus_route\": \"Rt 1C\", \"orig\": \"NHL\", \"dest\": \"WES\", \"trip_month\": 4, \"trip_year\": 2025, \"ridership\": 2, \"revenue\": 25.0, \"od\": \"NHL->WES\", \"direction\": \"sb\", \"orig_seq\": 1, \"dest_seq\": 4, \"departing_station\": \"3_VNC\", \"distance\": 91}, {\"ca_bus_route\": \"Rt 1C\", \"orig\": \"NHL\", \"dest\": \"WES\", \"trip_month\": 4, \"trip_year\": 2025, \"ridership\": 2, \"revenue\": 25.0, \"od\": \"NHL->WES\", \"direction\": \"sb\", \"orig_seq\": 1, \"dest_seq\": 4, \"departing_station\": \"3_VNC\", \"distance\": 92}, {\"ca_bus_route\": \"Rt 1C\", \"orig\": \"NHL\", \"dest\": \"WES\", \"trip_month\": 4, \"trip_year\": 2025, \"ridership\": 2, \"revenue\": 25.0, \"od\": \"NHL->WES\", \"direction\": \"sb\", \"orig_seq\": 1, \"dest_seq\": 4, \"departing_station\": \"3_VNC\", \"distance\": 93}, {\"ca_bus_route\": \"Rt 1C\", \"orig\": \"NHL\", \"dest\": \"WES\", \"trip_month\": 4, \"trip_year\": 2025, \"ridership\": 2, \"revenue\": 25.0, \"od\": \"NHL->WES\", \"direction\": \"sb\", \"orig_seq\": 1, \"dest_seq\": 4, \"departing_station\": \"3_VNC\", \"distance\": 94}, {\"ca_bus_route\": \"Rt 1C\", \"orig\": \"NHL\", \"dest\": \"WES\", \"trip_month\": 4, \"trip_year\": 2025, \"ridership\": 2, \"revenue\": 25.0, \"od\": \"NHL->WES\", \"direction\": \"sb\", \"orig_seq\": 1, \"dest_seq\": 4, \"departing_station\": \"3_VNC\", \"distance\": 95}, {\"ca_bus_route\": \"Rt 1C\", \"orig\": \"NHL\", \"dest\": \"WES\", \"trip_month\": 4, \"trip_year\": 2025, \"ridership\": 2, \"revenue\": 25.0, \"od\": \"NHL->WES\", \"direction\": \"sb\", \"orig_seq\": 1, \"dest_seq\": 4, \"departing_station\": \"3_VNC\", \"distance\": 96}, {\"ca_bus_route\": \"Rt 1C\", \"orig\": \"VNC\", \"dest\": \"SMN\", \"trip_month\": 4, \"trip_year\": 2025, \"ridership\": 21, \"revenue\": 113.65, \"od\": \"VNC->SMN\", \"direction\": \"sb\", \"orig_seq\": 3, \"dest_seq\": 5, \"departing_station\": \"3_VNC\", \"distance\": 82}, {\"ca_bus_route\": \"Rt 1C\", \"orig\": \"VNC\", \"dest\": \"SMN\", \"trip_month\": 4, \"trip_year\": 2025, \"ridership\": 21, \"revenue\": 113.65, \"od\": \"VNC->SMN\", \"direction\": \"sb\", \"orig_seq\": 3, \"dest_seq\": 5, \"departing_station\": \"3_VNC\", \"distance\": 83}, {\"ca_bus_route\": \"Rt 1C\", \"orig\": \"VNC\", \"dest\": \"SMN\", \"trip_month\": 4, \"trip_year\": 2025, \"ridership\": 21, \"revenue\": 113.65, \"od\": \"VNC->SMN\", \"direction\": \"sb\", \"orig_seq\": 3, \"dest_seq\": 5, \"departing_station\": \"3_VNC\", \"distance\": 84}, {\"ca_bus_route\": \"Rt 1C\", \"orig\": \"VNC\", \"dest\": \"SMN\", \"trip_month\": 4, \"trip_year\": 2025, \"ridership\": 21, \"revenue\": 113.65, \"od\": \"VNC->SMN\", \"direction\": \"sb\", \"orig_seq\": 3, \"dest_seq\": 5, \"departing_station\": \"3_VNC\", \"distance\": 85}, {\"ca_bus_route\": \"Rt 1C\", \"orig\": \"VNC\", \"dest\": \"SMN\", \"trip_month\": 4, \"trip_year\": 2025, \"ridership\": 21, \"revenue\": 113.65, \"od\": \"VNC->SMN\", \"direction\": \"sb\", \"orig_seq\": 3, \"dest_seq\": 5, \"departing_station\": \"3_VNC\", \"distance\": 86}, {\"ca_bus_route\": \"Rt 1C\", \"orig\": \"VNC\", \"dest\": \"SMN\", \"trip_month\": 4, \"trip_year\": 2025, \"ridership\": 21, \"revenue\": 113.65, \"od\": \"VNC->SMN\", \"direction\": \"sb\", \"orig_seq\": 3, \"dest_seq\": 5, \"departing_station\": \"3_VNC\", \"distance\": 87}, {\"ca_bus_route\": \"Rt 1C\", \"orig\": \"VNC\", \"dest\": \"SMN\", \"trip_month\": 4, \"trip_year\": 2025, \"ridership\": 21, \"revenue\": 113.65, \"od\": \"VNC->SMN\", \"direction\": \"sb\", \"orig_seq\": 3, \"dest_seq\": 5, \"departing_station\": \"3_VNC\", \"distance\": 88}, {\"ca_bus_route\": \"Rt 1C\", \"orig\": \"VNC\", \"dest\": \"SMN\", \"trip_month\": 4, \"trip_year\": 2025, \"ridership\": 21, \"revenue\": 113.65, \"od\": \"VNC->SMN\", \"direction\": \"sb\", \"orig_seq\": 3, \"dest_seq\": 5, \"departing_station\": \"3_VNC\", \"distance\": 89}, {\"ca_bus_route\": \"Rt 1C\", \"orig\": \"VNC\", \"dest\": \"SMN\", \"trip_month\": 4, \"trip_year\": 2025, \"ridership\": 21, \"revenue\": 113.65, \"od\": \"VNC->SMN\", \"direction\": \"sb\", \"orig_seq\": 3, \"dest_seq\": 5, \"departing_station\": \"3_VNC\", \"distance\": 90}, {\"ca_bus_route\": \"Rt 1C\", \"orig\": \"VNC\", \"dest\": \"SMN\", \"trip_month\": 4, \"trip_year\": 2025, \"ridership\": 21, \"revenue\": 113.65, \"od\": \"VNC->SMN\", \"direction\": \"sb\", \"orig_seq\": 3, \"dest_seq\": 5, \"departing_station\": \"3_VNC\", \"distance\": 91}, {\"ca_bus_route\": \"Rt 1C\", \"orig\": \"VNC\", \"dest\": \"SMN\", \"trip_month\": 4, \"trip_year\": 2025, \"ridership\": 21, \"revenue\": 113.65, \"od\": \"VNC->SMN\", \"direction\": \"sb\", \"orig_seq\": 3, \"dest_seq\": 5, \"departing_station\": \"3_VNC\", \"distance\": 92}, {\"ca_bus_route\": \"Rt 1C\", \"orig\": \"VNC\", \"dest\": \"SMN\", \"trip_month\": 4, \"trip_year\": 2025, \"ridership\": 21, \"revenue\": 113.65, \"od\": \"VNC->SMN\", \"direction\": \"sb\", \"orig_seq\": 3, \"dest_seq\": 5, \"departing_station\": \"3_VNC\", \"distance\": 93}, {\"ca_bus_route\": \"Rt 1C\", \"orig\": \"VNC\", \"dest\": \"SMN\", \"trip_month\": 4, \"trip_year\": 2025, \"ridership\": 21, \"revenue\": 113.65, \"od\": \"VNC->SMN\", \"direction\": \"sb\", \"orig_seq\": 3, \"dest_seq\": 5, \"departing_station\": \"3_VNC\", \"distance\": 94}, {\"ca_bus_route\": \"Rt 1C\", \"orig\": \"VNC\", \"dest\": \"SMN\", \"trip_month\": 4, \"trip_year\": 2025, \"ridership\": 21, \"revenue\": 113.65, \"od\": \"VNC->SMN\", \"direction\": \"sb\", \"orig_seq\": 3, \"dest_seq\": 5, \"departing_station\": \"3_VNC\", \"distance\": 95}, {\"ca_bus_route\": \"Rt 1C\", \"orig\": \"VNC\", \"dest\": \"SMN\", \"trip_month\": 4, \"trip_year\": 2025, \"ridership\": 21, \"revenue\": 113.65, \"od\": \"VNC->SMN\", \"direction\": \"sb\", \"orig_seq\": 3, \"dest_seq\": 5, \"departing_station\": \"3_VNC\", \"distance\": 96}, {\"ca_bus_route\": \"Rt 1C\", \"orig\": \"VNC\", \"dest\": \"WES\", \"trip_month\": 4, \"trip_year\": 2025, \"ridership\": 46, \"revenue\": 268.8, \"od\": \"VNC->WES\", \"direction\": \"sb\", \"orig_seq\": 3, \"dest_seq\": 4, \"departing_station\": \"3_VNC\", \"distance\": 82}, {\"ca_bus_route\": \"Rt 1C\", \"orig\": \"VNC\", \"dest\": \"WES\", \"trip_month\": 4, \"trip_year\": 2025, \"ridership\": 46, \"revenue\": 268.8, \"od\": \"VNC->WES\", \"direction\": \"sb\", \"orig_seq\": 3, \"dest_seq\": 4, \"departing_station\": \"3_VNC\", \"distance\": 83}, {\"ca_bus_route\": \"Rt 1C\", \"orig\": \"VNC\", \"dest\": \"WES\", \"trip_month\": 4, \"trip_year\": 2025, \"ridership\": 46, \"revenue\": 268.8, \"od\": \"VNC->WES\", \"direction\": \"sb\", \"orig_seq\": 3, \"dest_seq\": 4, \"departing_station\": \"3_VNC\", \"distance\": 84}, {\"ca_bus_route\": \"Rt 1C\", \"orig\": \"VNC\", \"dest\": \"WES\", \"trip_month\": 4, \"trip_year\": 2025, \"ridership\": 46, \"revenue\": 268.8, \"od\": \"VNC->WES\", \"direction\": \"sb\", \"orig_seq\": 3, \"dest_seq\": 4, \"departing_station\": \"3_VNC\", \"distance\": 85}, {\"ca_bus_route\": \"Rt 1C\", \"orig\": \"VNC\", \"dest\": \"WES\", \"trip_month\": 4, \"trip_year\": 2025, \"ridership\": 46, \"revenue\": 268.8, \"od\": \"VNC->WES\", \"direction\": \"sb\", \"orig_seq\": 3, \"dest_seq\": 4, \"departing_station\": \"3_VNC\", \"distance\": 86}, {\"ca_bus_route\": \"Rt 1C\", \"orig\": \"VNC\", \"dest\": \"WES\", \"trip_month\": 4, \"trip_year\": 2025, \"ridership\": 46, \"revenue\": 268.8, \"od\": \"VNC->WES\", \"direction\": \"sb\", \"orig_seq\": 3, \"dest_seq\": 4, \"departing_station\": \"3_VNC\", \"distance\": 87}, {\"ca_bus_route\": \"Rt 1C\", \"orig\": \"VNC\", \"dest\": \"WES\", \"trip_month\": 4, \"trip_year\": 2025, \"ridership\": 46, \"revenue\": 268.8, \"od\": \"VNC->WES\", \"direction\": \"sb\", \"orig_seq\": 3, \"dest_seq\": 4, \"departing_station\": \"3_VNC\", \"distance\": 88}, {\"ca_bus_route\": \"Rt 1C\", \"orig\": \"VNC\", \"dest\": \"WES\", \"trip_month\": 4, \"trip_year\": 2025, \"ridership\": 46, \"revenue\": 268.8, \"od\": \"VNC->WES\", \"direction\": \"sb\", \"orig_seq\": 3, \"dest_seq\": 4, \"departing_station\": \"3_VNC\", \"distance\": 89}, {\"ca_bus_route\": \"Rt 1C\", \"orig\": \"VNC\", \"dest\": \"WES\", \"trip_month\": 4, \"trip_year\": 2025, \"ridership\": 46, \"revenue\": 268.8, \"od\": \"VNC->WES\", \"direction\": \"sb\", \"orig_seq\": 3, \"dest_seq\": 4, \"departing_station\": \"3_VNC\", \"distance\": 90}, {\"ca_bus_route\": \"Rt 1C\", \"orig\": \"VNC\", \"dest\": \"WES\", \"trip_month\": 4, \"trip_year\": 2025, \"ridership\": 46, \"revenue\": 268.8, \"od\": \"VNC->WES\", \"direction\": \"sb\", \"orig_seq\": 3, \"dest_seq\": 4, \"departing_station\": \"3_VNC\", \"distance\": 91}, {\"ca_bus_route\": \"Rt 1C\", \"orig\": \"VNC\", \"dest\": \"WES\", \"trip_month\": 4, \"trip_year\": 2025, \"ridership\": 46, \"revenue\": 268.8, \"od\": \"VNC->WES\", \"direction\": \"sb\", \"orig_seq\": 3, \"dest_seq\": 4, \"departing_station\": \"3_VNC\", \"distance\": 92}, {\"ca_bus_route\": \"Rt 1C\", \"orig\": \"VNC\", \"dest\": \"WES\", \"trip_month\": 4, \"trip_year\": 2025, \"ridership\": 46, \"revenue\": 268.8, \"od\": \"VNC->WES\", \"direction\": \"sb\", \"orig_seq\": 3, \"dest_seq\": 4, \"departing_station\": \"3_VNC\", \"distance\": 93}, {\"ca_bus_route\": \"Rt 1C\", \"orig\": \"VNC\", \"dest\": \"WES\", \"trip_month\": 4, \"trip_year\": 2025, \"ridership\": 46, \"revenue\": 268.8, \"od\": \"VNC->WES\", \"direction\": \"sb\", \"orig_seq\": 3, \"dest_seq\": 4, \"departing_station\": \"3_VNC\", \"distance\": 94}, {\"ca_bus_route\": \"Rt 1C\", \"orig\": \"VNC\", \"dest\": \"WES\", \"trip_month\": 4, \"trip_year\": 2025, \"ridership\": 46, \"revenue\": 268.8, \"od\": \"VNC->WES\", \"direction\": \"sb\", \"orig_seq\": 3, \"dest_seq\": 4, \"departing_station\": \"3_VNC\", \"distance\": 95}, {\"ca_bus_route\": \"Rt 1C\", \"orig\": \"VNC\", \"dest\": \"WES\", \"trip_month\": 4, \"trip_year\": 2025, \"ridership\": 46, \"revenue\": 268.8, \"od\": \"VNC->WES\", \"direction\": \"sb\", \"orig_seq\": 3, \"dest_seq\": 4, \"departing_station\": \"3_VNC\", \"distance\": 96}, {\"ca_bus_route\": \"Rt 1C\", \"orig\": \"BFD\", \"dest\": \"SMN\", \"trip_month\": 4, \"trip_year\": 2025, \"ridership\": 51, \"revenue\": 829.34, \"od\": \"BFD->SMN\", \"direction\": \"sb\", \"orig_seq\": 0, \"dest_seq\": 5, \"departing_station\": \"4_WES\", \"distance\": 97}, {\"ca_bus_route\": \"Rt 1C\", \"orig\": \"BFD\", \"dest\": \"SMN\", \"trip_month\": 4, \"trip_year\": 2025, \"ridership\": 51, \"revenue\": 829.34, \"od\": \"BFD->SMN\", \"direction\": \"sb\", \"orig_seq\": 0, \"dest_seq\": 5, \"departing_station\": \"4_WES\", \"distance\": 98}, {\"ca_bus_route\": \"Rt 1C\", \"orig\": \"BFD\", \"dest\": \"SMN\", \"trip_month\": 4, \"trip_year\": 2025, \"ridership\": 51, \"revenue\": 829.34, \"od\": \"BFD->SMN\", \"direction\": \"sb\", \"orig_seq\": 0, \"dest_seq\": 5, \"departing_station\": \"4_WES\", \"distance\": 99}, {\"ca_bus_route\": \"Rt 1C\", \"orig\": \"BFD\", \"dest\": \"SMN\", \"trip_month\": 4, \"trip_year\": 2025, \"ridership\": 51, \"revenue\": 829.34, \"od\": \"BFD->SMN\", \"direction\": \"sb\", \"orig_seq\": 0, \"dest_seq\": 5, \"departing_station\": \"4_WES\", \"distance\": 100}, {\"ca_bus_route\": \"Rt 1C\", \"orig\": \"BFD\", \"dest\": \"SMN\", \"trip_month\": 4, \"trip_year\": 2025, \"ridership\": 51, \"revenue\": 829.34, \"od\": \"BFD->SMN\", \"direction\": \"sb\", \"orig_seq\": 0, \"dest_seq\": 5, \"departing_station\": \"4_WES\", \"distance\": 101}, {\"ca_bus_route\": \"Rt 1C\", \"orig\": \"BUR\", \"dest\": \"SMN\", \"trip_month\": 4, \"trip_year\": 2025, \"ridership\": 2, \"revenue\": 10.0, \"od\": \"BUR->SMN\", \"direction\": \"sb\", \"orig_seq\": 2, \"dest_seq\": 5, \"departing_station\": \"4_WES\", \"distance\": 97}, {\"ca_bus_route\": \"Rt 1C\", \"orig\": \"BUR\", \"dest\": \"SMN\", \"trip_month\": 4, \"trip_year\": 2025, \"ridership\": 2, \"revenue\": 10.0, \"od\": \"BUR->SMN\", \"direction\": \"sb\", \"orig_seq\": 2, \"dest_seq\": 5, \"departing_station\": \"4_WES\", \"distance\": 98}, {\"ca_bus_route\": \"Rt 1C\", \"orig\": \"BUR\", \"dest\": \"SMN\", \"trip_month\": 4, \"trip_year\": 2025, \"ridership\": 2, \"revenue\": 10.0, \"od\": \"BUR->SMN\", \"direction\": \"sb\", \"orig_seq\": 2, \"dest_seq\": 5, \"departing_station\": \"4_WES\", \"distance\": 99}, {\"ca_bus_route\": \"Rt 1C\", \"orig\": \"BUR\", \"dest\": \"SMN\", \"trip_month\": 4, \"trip_year\": 2025, \"ridership\": 2, \"revenue\": 10.0, \"od\": \"BUR->SMN\", \"direction\": \"sb\", \"orig_seq\": 2, \"dest_seq\": 5, \"departing_station\": \"4_WES\", \"distance\": 100}, {\"ca_bus_route\": \"Rt 1C\", \"orig\": \"BUR\", \"dest\": \"SMN\", \"trip_month\": 4, \"trip_year\": 2025, \"ridership\": 2, \"revenue\": 10.0, \"od\": \"BUR->SMN\", \"direction\": \"sb\", \"orig_seq\": 2, \"dest_seq\": 5, \"departing_station\": \"4_WES\", \"distance\": 101}, {\"ca_bus_route\": \"Rt 1C\", \"orig\": \"NHL\", \"dest\": \"SMN\", \"trip_month\": 4, \"trip_year\": 2025, \"ridership\": 3, \"revenue\": 23.0, \"od\": \"NHL->SMN\", \"direction\": \"sb\", \"orig_seq\": 1, \"dest_seq\": 5, \"departing_station\": \"4_WES\", \"distance\": 97}, {\"ca_bus_route\": \"Rt 1C\", \"orig\": \"NHL\", \"dest\": \"SMN\", \"trip_month\": 4, \"trip_year\": 2025, \"ridership\": 3, \"revenue\": 23.0, \"od\": \"NHL->SMN\", \"direction\": \"sb\", \"orig_seq\": 1, \"dest_seq\": 5, \"departing_station\": \"4_WES\", \"distance\": 98}, {\"ca_bus_route\": \"Rt 1C\", \"orig\": \"NHL\", \"dest\": \"SMN\", \"trip_month\": 4, \"trip_year\": 2025, \"ridership\": 3, \"revenue\": 23.0, \"od\": \"NHL->SMN\", \"direction\": \"sb\", \"orig_seq\": 1, \"dest_seq\": 5, \"departing_station\": \"4_WES\", \"distance\": 99}, {\"ca_bus_route\": \"Rt 1C\", \"orig\": \"NHL\", \"dest\": \"SMN\", \"trip_month\": 4, \"trip_year\": 2025, \"ridership\": 3, \"revenue\": 23.0, \"od\": \"NHL->SMN\", \"direction\": \"sb\", \"orig_seq\": 1, \"dest_seq\": 5, \"departing_station\": \"4_WES\", \"distance\": 100}, {\"ca_bus_route\": \"Rt 1C\", \"orig\": \"NHL\", \"dest\": \"SMN\", \"trip_month\": 4, \"trip_year\": 2025, \"ridership\": 3, \"revenue\": 23.0, \"od\": \"NHL->SMN\", \"direction\": \"sb\", \"orig_seq\": 1, \"dest_seq\": 5, \"departing_station\": \"4_WES\", \"distance\": 101}, {\"ca_bus_route\": \"Rt 1C\", \"orig\": \"VNC\", \"dest\": \"SMN\", \"trip_month\": 4, \"trip_year\": 2025, \"ridership\": 21, \"revenue\": 113.65, \"od\": \"VNC->SMN\", \"direction\": \"sb\", \"orig_seq\": 3, \"dest_seq\": 5, \"departing_station\": \"4_WES\", \"distance\": 97}, {\"ca_bus_route\": \"Rt 1C\", \"orig\": \"VNC\", \"dest\": \"SMN\", \"trip_month\": 4, \"trip_year\": 2025, \"ridership\": 21, \"revenue\": 113.65, \"od\": \"VNC->SMN\", \"direction\": \"sb\", \"orig_seq\": 3, \"dest_seq\": 5, \"departing_station\": \"4_WES\", \"distance\": 98}, {\"ca_bus_route\": \"Rt 1C\", \"orig\": \"VNC\", \"dest\": \"SMN\", \"trip_month\": 4, \"trip_year\": 2025, \"ridership\": 21, \"revenue\": 113.65, \"od\": \"VNC->SMN\", \"direction\": \"sb\", \"orig_seq\": 3, \"dest_seq\": 5, \"departing_station\": \"4_WES\", \"distance\": 99}, {\"ca_bus_route\": \"Rt 1C\", \"orig\": \"VNC\", \"dest\": \"SMN\", \"trip_month\": 4, \"trip_year\": 2025, \"ridership\": 21, \"revenue\": 113.65, \"od\": \"VNC->SMN\", \"direction\": \"sb\", \"orig_seq\": 3, \"dest_seq\": 5, \"departing_station\": \"4_WES\", \"distance\": 100}, {\"ca_bus_route\": \"Rt 1C\", \"orig\": \"VNC\", \"dest\": \"SMN\", \"trip_month\": 4, \"trip_year\": 2025, \"ridership\": 21, \"revenue\": 113.65, \"od\": \"VNC->SMN\", \"direction\": \"sb\", \"orig_seq\": 3, \"dest_seq\": 5, \"departing_station\": \"4_WES\", \"distance\": 101}]}}, {\"mode\": \"vega-lite\"});\n",
       "</script>"
      ],
      "text/plain": [
       "alt.Chart(...)"
      ]
     },
     "execution_count": 151,
     "metadata": {},
     "output_type": "execute_result"
    }
   ],
   "source": [
    "flow"
   ]
  },
  {
   "cell_type": "code",
   "execution_count": 112,
   "id": "b171aced-43f8-42fb-a3bd-1768e717827b",
   "metadata": {
    "tags": []
   },
   "outputs": [],
   "source": [
    "stn_locations = with_distance.groupby('departing_station')[['distance']].min().reset_index()"
   ]
  },
  {
   "cell_type": "code",
   "execution_count": 113,
   "id": "d15191df-147d-4eb3-b204-74356982b033",
   "metadata": {
    "tags": []
   },
   "outputs": [
    {
     "data": {
      "text/html": [
       "<div>\n",
       "<style scoped>\n",
       "    .dataframe tbody tr th:only-of-type {\n",
       "        vertical-align: middle;\n",
       "    }\n",
       "\n",
       "    .dataframe tbody tr th {\n",
       "        vertical-align: top;\n",
       "    }\n",
       "\n",
       "    .dataframe thead th {\n",
       "        text-align: right;\n",
       "    }\n",
       "</style>\n",
       "<table border=\"1\" class=\"dataframe\">\n",
       "  <thead>\n",
       "    <tr style=\"text-align: right;\">\n",
       "      <th></th>\n",
       "      <th>departing_station</th>\n",
       "      <th>distance</th>\n",
       "    </tr>\n",
       "  </thead>\n",
       "  <tbody>\n",
       "    <tr>\n",
       "      <th>0</th>\n",
       "      <td>0_BFD</td>\n",
       "      <td>0</td>\n",
       "    </tr>\n",
       "    <tr>\n",
       "      <th>1</th>\n",
       "      <td>1_NHL</td>\n",
       "      <td>50</td>\n",
       "    </tr>\n",
       "    <tr>\n",
       "      <th>2</th>\n",
       "      <td>2_BUR</td>\n",
       "      <td>75</td>\n",
       "    </tr>\n",
       "    <tr>\n",
       "      <th>3</th>\n",
       "      <td>3_VNC</td>\n",
       "      <td>82</td>\n",
       "    </tr>\n",
       "    <tr>\n",
       "      <th>4</th>\n",
       "      <td>4_WES</td>\n",
       "      <td>97</td>\n",
       "    </tr>\n",
       "  </tbody>\n",
       "</table>\n",
       "</div>"
      ],
      "text/plain": [
       "  departing_station  distance\n",
       "0             0_BFD         0\n",
       "1             1_NHL        50\n",
       "2             2_BUR        75\n",
       "3             3_VNC        82\n",
       "4             4_WES        97"
      ]
     },
     "execution_count": 113,
     "metadata": {},
     "output_type": "execute_result"
    }
   ],
   "source": [
    "stn_locations"
   ]
  },
  {
   "cell_type": "code",
   "execution_count": 96,
   "id": "e138e082-b609-4b33-8d20-6de9b406d91e",
   "metadata": {
    "tags": []
   },
   "outputs": [],
   "source": [
    "left = alt.Chart(with_distance).mark_text().encode(\n",
    "    alt.X('departing_station:N', sort=alt.EncodingSortField('distance', order=\"ascending\"), title=None),\n",
    "    # alt.X2('distance:Q', title=None)\n",
    ")"
   ]
  },
  {
   "cell_type": "code",
   "execution_count": 97,
   "id": "3762adf5-fbcc-49a4-a29e-a349e4e92ce9",
   "metadata": {
    "tags": []
   },
   "outputs": [
    {
     "data": {
      "text/html": [
       "\n",
       "<style>\n",
       "  #altair-viz-006e64f235e946ff8c9ff6245a74c74c.vega-embed {\n",
       "    width: 100%;\n",
       "    display: flex;\n",
       "  }\n",
       "\n",
       "  #altair-viz-006e64f235e946ff8c9ff6245a74c74c.vega-embed details,\n",
       "  #altair-viz-006e64f235e946ff8c9ff6245a74c74c.vega-embed details summary {\n",
       "    position: relative;\n",
       "  }\n",
       "</style>\n",
       "<div id=\"altair-viz-006e64f235e946ff8c9ff6245a74c74c\"></div>\n",
       "<script type=\"text/javascript\">\n",
       "  var VEGA_DEBUG = (typeof VEGA_DEBUG == \"undefined\") ? {} : VEGA_DEBUG;\n",
       "  (function(spec, embedOpt){\n",
       "    let outputDiv = document.currentScript.previousElementSibling;\n",
       "    if (outputDiv.id !== \"altair-viz-006e64f235e946ff8c9ff6245a74c74c\") {\n",
       "      outputDiv = document.getElementById(\"altair-viz-006e64f235e946ff8c9ff6245a74c74c\");\n",
       "    }\n",
       "\n",
       "    const paths = {\n",
       "      \"vega\": \"https://cdn.jsdelivr.net/npm/vega@5?noext\",\n",
       "      \"vega-lib\": \"https://cdn.jsdelivr.net/npm/vega-lib?noext\",\n",
       "      \"vega-lite\": \"https://cdn.jsdelivr.net/npm/vega-lite@5.20.1?noext\",\n",
       "      \"vega-embed\": \"https://cdn.jsdelivr.net/npm/vega-embed@6?noext\",\n",
       "    };\n",
       "\n",
       "    function maybeLoadScript(lib, version) {\n",
       "      var key = `${lib.replace(\"-\", \"\")}_version`;\n",
       "      return (VEGA_DEBUG[key] == version) ?\n",
       "        Promise.resolve(paths[lib]) :\n",
       "        new Promise(function(resolve, reject) {\n",
       "          var s = document.createElement('script');\n",
       "          document.getElementsByTagName(\"head\")[0].appendChild(s);\n",
       "          s.async = true;\n",
       "          s.onload = () => {\n",
       "            VEGA_DEBUG[key] = version;\n",
       "            return resolve(paths[lib]);\n",
       "          };\n",
       "          s.onerror = () => reject(`Error loading script: ${paths[lib]}`);\n",
       "          s.src = paths[lib];\n",
       "        });\n",
       "    }\n",
       "\n",
       "    function showError(err) {\n",
       "      outputDiv.innerHTML = `<div class=\"error\" style=\"color:red;\">${err}</div>`;\n",
       "      throw err;\n",
       "    }\n",
       "\n",
       "    function displayChart(vegaEmbed) {\n",
       "      vegaEmbed(outputDiv, spec, embedOpt)\n",
       "        .catch(err => showError(`Javascript Error: ${err.message}<br>This usually means there's a typo in your chart specification. See the javascript console for the full traceback.`));\n",
       "    }\n",
       "\n",
       "    if(typeof define === \"function\" && define.amd) {\n",
       "      requirejs.config({paths});\n",
       "      let deps = [\"vega-embed\"];\n",
       "      require(deps, displayChart, err => showError(`Error loading script: ${err.message}`));\n",
       "    } else {\n",
       "      maybeLoadScript(\"vega\", \"5\")\n",
       "        .then(() => maybeLoadScript(\"vega-lite\", \"5.20.1\"))\n",
       "        .then(() => maybeLoadScript(\"vega-embed\", \"6\"))\n",
       "        .catch(showError)\n",
       "        .then(() => displayChart(vegaEmbed));\n",
       "    }\n",
       "  })({\"config\": {\"view\": {\"continuousWidth\": 300, \"continuousHeight\": 300}}, \"data\": {\"name\": \"data-8c2ccc90d9993d9d1a3ae816900fb881\"}, \"mark\": {\"type\": \"text\"}, \"encoding\": {\"x\": {\"field\": \"departing_station\", \"sort\": {\"field\": \"distance\", \"order\": \"ascending\"}, \"title\": null, \"type\": \"nominal\"}}, \"$schema\": \"https://vega.github.io/schema/vega-lite/v5.20.1.json\", \"datasets\": {\"data-8c2ccc90d9993d9d1a3ae816900fb881\": [{\"ca_bus_route\": \"Rt 1C\", \"orig\": \"BFD\", \"dest\": \"BUR\", \"trip_month\": 4, \"trip_year\": 2025, \"ridership\": 231, \"revenue\": 3278.95, \"od\": \"BFD->BUR\", \"direction\": \"sb\", \"orig_seq\": 0, \"dest_seq\": 2, \"departing_station\": \"0_BFD\", \"distance\": 0}, {\"ca_bus_route\": \"Rt 1C\", \"orig\": \"BFD\", \"dest\": \"BUR\", \"trip_month\": 4, \"trip_year\": 2025, \"ridership\": 231, \"revenue\": 3278.95, \"od\": \"BFD->BUR\", \"direction\": \"sb\", \"orig_seq\": 0, \"dest_seq\": 2, \"departing_station\": \"0_BFD\", \"distance\": 1}, {\"ca_bus_route\": \"Rt 1C\", \"orig\": \"BFD\", \"dest\": \"BUR\", \"trip_month\": 4, \"trip_year\": 2025, \"ridership\": 231, \"revenue\": 3278.95, \"od\": \"BFD->BUR\", \"direction\": \"sb\", \"orig_seq\": 0, \"dest_seq\": 2, \"departing_station\": \"0_BFD\", \"distance\": 2}, {\"ca_bus_route\": \"Rt 1C\", \"orig\": \"BFD\", \"dest\": \"BUR\", \"trip_month\": 4, \"trip_year\": 2025, \"ridership\": 231, \"revenue\": 3278.95, \"od\": \"BFD->BUR\", \"direction\": \"sb\", \"orig_seq\": 0, \"dest_seq\": 2, \"departing_station\": \"0_BFD\", \"distance\": 3}, {\"ca_bus_route\": \"Rt 1C\", \"orig\": \"BFD\", \"dest\": \"BUR\", \"trip_month\": 4, \"trip_year\": 2025, \"ridership\": 231, \"revenue\": 3278.95, \"od\": \"BFD->BUR\", \"direction\": \"sb\", \"orig_seq\": 0, \"dest_seq\": 2, \"departing_station\": \"0_BFD\", \"distance\": 4}, {\"ca_bus_route\": \"Rt 1C\", \"orig\": \"BFD\", \"dest\": \"BUR\", \"trip_month\": 4, \"trip_year\": 2025, \"ridership\": 231, \"revenue\": 3278.95, \"od\": \"BFD->BUR\", \"direction\": \"sb\", \"orig_seq\": 0, \"dest_seq\": 2, \"departing_station\": \"0_BFD\", \"distance\": 5}, {\"ca_bus_route\": \"Rt 1C\", \"orig\": \"BFD\", \"dest\": \"BUR\", \"trip_month\": 4, \"trip_year\": 2025, \"ridership\": 231, \"revenue\": 3278.95, \"od\": \"BFD->BUR\", \"direction\": \"sb\", \"orig_seq\": 0, \"dest_seq\": 2, \"departing_station\": \"0_BFD\", \"distance\": 6}, {\"ca_bus_route\": \"Rt 1C\", \"orig\": \"BFD\", \"dest\": \"BUR\", \"trip_month\": 4, \"trip_year\": 2025, \"ridership\": 231, \"revenue\": 3278.95, \"od\": \"BFD->BUR\", \"direction\": \"sb\", \"orig_seq\": 0, \"dest_seq\": 2, \"departing_station\": \"0_BFD\", \"distance\": 7}, {\"ca_bus_route\": \"Rt 1C\", \"orig\": \"BFD\", \"dest\": \"BUR\", \"trip_month\": 4, \"trip_year\": 2025, \"ridership\": 231, \"revenue\": 3278.95, \"od\": \"BFD->BUR\", \"direction\": \"sb\", \"orig_seq\": 0, \"dest_seq\": 2, \"departing_station\": \"0_BFD\", \"distance\": 8}, {\"ca_bus_route\": \"Rt 1C\", \"orig\": \"BFD\", \"dest\": \"BUR\", \"trip_month\": 4, \"trip_year\": 2025, \"ridership\": 231, \"revenue\": 3278.95, \"od\": \"BFD->BUR\", \"direction\": \"sb\", \"orig_seq\": 0, \"dest_seq\": 2, \"departing_station\": \"0_BFD\", \"distance\": 9}, {\"ca_bus_route\": \"Rt 1C\", \"orig\": \"BFD\", \"dest\": \"BUR\", \"trip_month\": 4, \"trip_year\": 2025, \"ridership\": 231, \"revenue\": 3278.95, \"od\": \"BFD->BUR\", \"direction\": \"sb\", \"orig_seq\": 0, \"dest_seq\": 2, \"departing_station\": \"0_BFD\", \"distance\": 10}, {\"ca_bus_route\": \"Rt 1C\", \"orig\": \"BFD\", \"dest\": \"BUR\", \"trip_month\": 4, \"trip_year\": 2025, \"ridership\": 231, \"revenue\": 3278.95, \"od\": \"BFD->BUR\", \"direction\": \"sb\", \"orig_seq\": 0, \"dest_seq\": 2, \"departing_station\": \"0_BFD\", \"distance\": 11}, {\"ca_bus_route\": \"Rt 1C\", \"orig\": \"BFD\", \"dest\": \"BUR\", \"trip_month\": 4, \"trip_year\": 2025, \"ridership\": 231, \"revenue\": 3278.95, \"od\": \"BFD->BUR\", \"direction\": \"sb\", \"orig_seq\": 0, \"dest_seq\": 2, \"departing_station\": \"0_BFD\", \"distance\": 12}, {\"ca_bus_route\": \"Rt 1C\", \"orig\": \"BFD\", \"dest\": \"BUR\", \"trip_month\": 4, \"trip_year\": 2025, \"ridership\": 231, \"revenue\": 3278.95, \"od\": \"BFD->BUR\", \"direction\": \"sb\", \"orig_seq\": 0, \"dest_seq\": 2, \"departing_station\": \"0_BFD\", \"distance\": 13}, {\"ca_bus_route\": \"Rt 1C\", \"orig\": \"BFD\", \"dest\": \"BUR\", \"trip_month\": 4, \"trip_year\": 2025, \"ridership\": 231, \"revenue\": 3278.95, \"od\": \"BFD->BUR\", \"direction\": \"sb\", \"orig_seq\": 0, \"dest_seq\": 2, \"departing_station\": \"0_BFD\", \"distance\": 14}, {\"ca_bus_route\": \"Rt 1C\", \"orig\": \"BFD\", \"dest\": \"BUR\", \"trip_month\": 4, \"trip_year\": 2025, \"ridership\": 231, \"revenue\": 3278.95, \"od\": \"BFD->BUR\", \"direction\": \"sb\", \"orig_seq\": 0, \"dest_seq\": 2, \"departing_station\": \"0_BFD\", \"distance\": 15}, {\"ca_bus_route\": \"Rt 1C\", \"orig\": \"BFD\", \"dest\": \"BUR\", \"trip_month\": 4, \"trip_year\": 2025, \"ridership\": 231, \"revenue\": 3278.95, \"od\": \"BFD->BUR\", \"direction\": \"sb\", \"orig_seq\": 0, \"dest_seq\": 2, \"departing_station\": \"0_BFD\", \"distance\": 16}, {\"ca_bus_route\": \"Rt 1C\", \"orig\": \"BFD\", \"dest\": \"BUR\", \"trip_month\": 4, \"trip_year\": 2025, \"ridership\": 231, \"revenue\": 3278.95, \"od\": \"BFD->BUR\", \"direction\": \"sb\", \"orig_seq\": 0, \"dest_seq\": 2, \"departing_station\": \"0_BFD\", \"distance\": 17}, {\"ca_bus_route\": \"Rt 1C\", \"orig\": \"BFD\", \"dest\": \"BUR\", \"trip_month\": 4, \"trip_year\": 2025, \"ridership\": 231, \"revenue\": 3278.95, \"od\": \"BFD->BUR\", \"direction\": \"sb\", \"orig_seq\": 0, \"dest_seq\": 2, \"departing_station\": \"0_BFD\", \"distance\": 18}, {\"ca_bus_route\": \"Rt 1C\", \"orig\": \"BFD\", \"dest\": \"BUR\", \"trip_month\": 4, \"trip_year\": 2025, \"ridership\": 231, \"revenue\": 3278.95, \"od\": \"BFD->BUR\", \"direction\": \"sb\", \"orig_seq\": 0, \"dest_seq\": 2, \"departing_station\": \"0_BFD\", \"distance\": 19}, {\"ca_bus_route\": \"Rt 1C\", \"orig\": \"BFD\", \"dest\": \"BUR\", \"trip_month\": 4, \"trip_year\": 2025, \"ridership\": 231, \"revenue\": 3278.95, \"od\": \"BFD->BUR\", \"direction\": \"sb\", \"orig_seq\": 0, \"dest_seq\": 2, \"departing_station\": \"0_BFD\", \"distance\": 20}, {\"ca_bus_route\": \"Rt 1C\", \"orig\": \"BFD\", \"dest\": \"BUR\", \"trip_month\": 4, \"trip_year\": 2025, \"ridership\": 231, \"revenue\": 3278.95, \"od\": \"BFD->BUR\", \"direction\": \"sb\", \"orig_seq\": 0, \"dest_seq\": 2, \"departing_station\": \"0_BFD\", \"distance\": 21}, {\"ca_bus_route\": \"Rt 1C\", \"orig\": \"BFD\", \"dest\": \"BUR\", \"trip_month\": 4, \"trip_year\": 2025, \"ridership\": 231, \"revenue\": 3278.95, \"od\": \"BFD->BUR\", \"direction\": \"sb\", \"orig_seq\": 0, \"dest_seq\": 2, \"departing_station\": \"0_BFD\", \"distance\": 22}, {\"ca_bus_route\": \"Rt 1C\", \"orig\": \"BFD\", \"dest\": \"BUR\", \"trip_month\": 4, \"trip_year\": 2025, \"ridership\": 231, \"revenue\": 3278.95, \"od\": \"BFD->BUR\", \"direction\": \"sb\", \"orig_seq\": 0, \"dest_seq\": 2, \"departing_station\": \"0_BFD\", \"distance\": 23}, {\"ca_bus_route\": \"Rt 1C\", \"orig\": \"BFD\", \"dest\": \"BUR\", \"trip_month\": 4, \"trip_year\": 2025, \"ridership\": 231, \"revenue\": 3278.95, \"od\": \"BFD->BUR\", \"direction\": \"sb\", \"orig_seq\": 0, \"dest_seq\": 2, \"departing_station\": \"0_BFD\", \"distance\": 24}, {\"ca_bus_route\": \"Rt 1C\", \"orig\": \"BFD\", \"dest\": \"BUR\", \"trip_month\": 4, \"trip_year\": 2025, \"ridership\": 231, \"revenue\": 3278.95, \"od\": \"BFD->BUR\", \"direction\": \"sb\", \"orig_seq\": 0, \"dest_seq\": 2, \"departing_station\": \"0_BFD\", \"distance\": 25}, {\"ca_bus_route\": \"Rt 1C\", \"orig\": \"BFD\", \"dest\": \"BUR\", \"trip_month\": 4, \"trip_year\": 2025, \"ridership\": 231, \"revenue\": 3278.95, \"od\": \"BFD->BUR\", \"direction\": \"sb\", \"orig_seq\": 0, \"dest_seq\": 2, \"departing_station\": \"0_BFD\", \"distance\": 26}, {\"ca_bus_route\": \"Rt 1C\", \"orig\": \"BFD\", \"dest\": \"BUR\", \"trip_month\": 4, \"trip_year\": 2025, \"ridership\": 231, \"revenue\": 3278.95, \"od\": \"BFD->BUR\", \"direction\": \"sb\", \"orig_seq\": 0, \"dest_seq\": 2, \"departing_station\": \"0_BFD\", \"distance\": 27}, {\"ca_bus_route\": \"Rt 1C\", \"orig\": \"BFD\", \"dest\": \"BUR\", \"trip_month\": 4, \"trip_year\": 2025, \"ridership\": 231, \"revenue\": 3278.95, \"od\": \"BFD->BUR\", \"direction\": \"sb\", \"orig_seq\": 0, \"dest_seq\": 2, \"departing_station\": \"0_BFD\", \"distance\": 28}, {\"ca_bus_route\": \"Rt 1C\", \"orig\": \"BFD\", \"dest\": \"BUR\", \"trip_month\": 4, \"trip_year\": 2025, \"ridership\": 231, \"revenue\": 3278.95, \"od\": \"BFD->BUR\", \"direction\": \"sb\", \"orig_seq\": 0, \"dest_seq\": 2, \"departing_station\": \"0_BFD\", \"distance\": 29}, {\"ca_bus_route\": \"Rt 1C\", \"orig\": \"BFD\", \"dest\": \"BUR\", \"trip_month\": 4, \"trip_year\": 2025, \"ridership\": 231, \"revenue\": 3278.95, \"od\": \"BFD->BUR\", \"direction\": \"sb\", \"orig_seq\": 0, \"dest_seq\": 2, \"departing_station\": \"0_BFD\", \"distance\": 30}, {\"ca_bus_route\": \"Rt 1C\", \"orig\": \"BFD\", \"dest\": \"BUR\", \"trip_month\": 4, \"trip_year\": 2025, \"ridership\": 231, \"revenue\": 3278.95, \"od\": \"BFD->BUR\", \"direction\": \"sb\", \"orig_seq\": 0, \"dest_seq\": 2, \"departing_station\": \"0_BFD\", \"distance\": 31}, {\"ca_bus_route\": \"Rt 1C\", \"orig\": \"BFD\", \"dest\": \"BUR\", \"trip_month\": 4, \"trip_year\": 2025, \"ridership\": 231, \"revenue\": 3278.95, \"od\": \"BFD->BUR\", \"direction\": \"sb\", \"orig_seq\": 0, \"dest_seq\": 2, \"departing_station\": \"0_BFD\", \"distance\": 32}, {\"ca_bus_route\": \"Rt 1C\", \"orig\": \"BFD\", \"dest\": \"BUR\", \"trip_month\": 4, \"trip_year\": 2025, \"ridership\": 231, \"revenue\": 3278.95, \"od\": \"BFD->BUR\", \"direction\": \"sb\", \"orig_seq\": 0, \"dest_seq\": 2, \"departing_station\": \"0_BFD\", \"distance\": 33}, {\"ca_bus_route\": \"Rt 1C\", \"orig\": \"BFD\", \"dest\": \"BUR\", \"trip_month\": 4, \"trip_year\": 2025, \"ridership\": 231, \"revenue\": 3278.95, \"od\": \"BFD->BUR\", \"direction\": \"sb\", \"orig_seq\": 0, \"dest_seq\": 2, \"departing_station\": \"0_BFD\", \"distance\": 34}, {\"ca_bus_route\": \"Rt 1C\", \"orig\": \"BFD\", \"dest\": \"BUR\", \"trip_month\": 4, \"trip_year\": 2025, \"ridership\": 231, \"revenue\": 3278.95, \"od\": \"BFD->BUR\", \"direction\": \"sb\", \"orig_seq\": 0, \"dest_seq\": 2, \"departing_station\": \"0_BFD\", \"distance\": 35}, {\"ca_bus_route\": \"Rt 1C\", \"orig\": \"BFD\", \"dest\": \"BUR\", \"trip_month\": 4, \"trip_year\": 2025, \"ridership\": 231, \"revenue\": 3278.95, \"od\": \"BFD->BUR\", \"direction\": \"sb\", \"orig_seq\": 0, \"dest_seq\": 2, \"departing_station\": \"0_BFD\", \"distance\": 36}, {\"ca_bus_route\": \"Rt 1C\", \"orig\": \"BFD\", \"dest\": \"BUR\", \"trip_month\": 4, \"trip_year\": 2025, \"ridership\": 231, \"revenue\": 3278.95, \"od\": \"BFD->BUR\", \"direction\": \"sb\", \"orig_seq\": 0, \"dest_seq\": 2, \"departing_station\": \"0_BFD\", \"distance\": 37}, {\"ca_bus_route\": \"Rt 1C\", \"orig\": \"BFD\", \"dest\": \"BUR\", \"trip_month\": 4, \"trip_year\": 2025, \"ridership\": 231, \"revenue\": 3278.95, \"od\": \"BFD->BUR\", \"direction\": \"sb\", \"orig_seq\": 0, \"dest_seq\": 2, \"departing_station\": \"0_BFD\", \"distance\": 38}, {\"ca_bus_route\": \"Rt 1C\", \"orig\": \"BFD\", \"dest\": \"BUR\", \"trip_month\": 4, \"trip_year\": 2025, \"ridership\": 231, \"revenue\": 3278.95, \"od\": \"BFD->BUR\", \"direction\": \"sb\", \"orig_seq\": 0, \"dest_seq\": 2, \"departing_station\": \"0_BFD\", \"distance\": 39}, {\"ca_bus_route\": \"Rt 1C\", \"orig\": \"BFD\", \"dest\": \"BUR\", \"trip_month\": 4, \"trip_year\": 2025, \"ridership\": 231, \"revenue\": 3278.95, \"od\": \"BFD->BUR\", \"direction\": \"sb\", \"orig_seq\": 0, \"dest_seq\": 2, \"departing_station\": \"0_BFD\", \"distance\": 40}, {\"ca_bus_route\": \"Rt 1C\", \"orig\": \"BFD\", \"dest\": \"BUR\", \"trip_month\": 4, \"trip_year\": 2025, \"ridership\": 231, \"revenue\": 3278.95, \"od\": \"BFD->BUR\", \"direction\": \"sb\", \"orig_seq\": 0, \"dest_seq\": 2, \"departing_station\": \"0_BFD\", \"distance\": 41}, {\"ca_bus_route\": \"Rt 1C\", \"orig\": \"BFD\", \"dest\": \"BUR\", \"trip_month\": 4, \"trip_year\": 2025, \"ridership\": 231, \"revenue\": 3278.95, \"od\": \"BFD->BUR\", \"direction\": \"sb\", \"orig_seq\": 0, \"dest_seq\": 2, \"departing_station\": \"0_BFD\", \"distance\": 42}, {\"ca_bus_route\": \"Rt 1C\", \"orig\": \"BFD\", \"dest\": \"BUR\", \"trip_month\": 4, \"trip_year\": 2025, \"ridership\": 231, \"revenue\": 3278.95, \"od\": \"BFD->BUR\", \"direction\": \"sb\", \"orig_seq\": 0, \"dest_seq\": 2, \"departing_station\": \"0_BFD\", \"distance\": 43}, {\"ca_bus_route\": \"Rt 1C\", \"orig\": \"BFD\", \"dest\": \"BUR\", \"trip_month\": 4, \"trip_year\": 2025, \"ridership\": 231, \"revenue\": 3278.95, \"od\": \"BFD->BUR\", \"direction\": \"sb\", \"orig_seq\": 0, \"dest_seq\": 2, \"departing_station\": \"0_BFD\", \"distance\": 44}, {\"ca_bus_route\": \"Rt 1C\", \"orig\": \"BFD\", \"dest\": \"BUR\", \"trip_month\": 4, \"trip_year\": 2025, \"ridership\": 231, \"revenue\": 3278.95, \"od\": \"BFD->BUR\", \"direction\": \"sb\", \"orig_seq\": 0, \"dest_seq\": 2, \"departing_station\": \"0_BFD\", \"distance\": 45}, {\"ca_bus_route\": \"Rt 1C\", \"orig\": \"BFD\", \"dest\": \"BUR\", \"trip_month\": 4, \"trip_year\": 2025, \"ridership\": 231, \"revenue\": 3278.95, \"od\": \"BFD->BUR\", \"direction\": \"sb\", \"orig_seq\": 0, \"dest_seq\": 2, \"departing_station\": \"0_BFD\", \"distance\": 46}, {\"ca_bus_route\": \"Rt 1C\", \"orig\": \"BFD\", \"dest\": \"BUR\", \"trip_month\": 4, \"trip_year\": 2025, \"ridership\": 231, \"revenue\": 3278.95, \"od\": \"BFD->BUR\", \"direction\": \"sb\", \"orig_seq\": 0, \"dest_seq\": 2, \"departing_station\": \"0_BFD\", \"distance\": 47}, {\"ca_bus_route\": \"Rt 1C\", \"orig\": \"BFD\", \"dest\": \"BUR\", \"trip_month\": 4, \"trip_year\": 2025, \"ridership\": 231, \"revenue\": 3278.95, \"od\": \"BFD->BUR\", \"direction\": \"sb\", \"orig_seq\": 0, \"dest_seq\": 2, \"departing_station\": \"0_BFD\", \"distance\": 48}, {\"ca_bus_route\": \"Rt 1C\", \"orig\": \"BFD\", \"dest\": \"BUR\", \"trip_month\": 4, \"trip_year\": 2025, \"ridership\": 231, \"revenue\": 3278.95, \"od\": \"BFD->BUR\", \"direction\": \"sb\", \"orig_seq\": 0, \"dest_seq\": 2, \"departing_station\": \"0_BFD\", \"distance\": 49}, {\"ca_bus_route\": \"Rt 1C\", \"orig\": \"BFD\", \"dest\": \"NHL\", \"trip_month\": 4, \"trip_year\": 2025, \"ridership\": 296, \"revenue\": 3420.51, \"od\": \"BFD->NHL\", \"direction\": \"sb\", \"orig_seq\": 0, \"dest_seq\": 1, \"departing_station\": \"0_BFD\", \"distance\": 0}, {\"ca_bus_route\": \"Rt 1C\", \"orig\": \"BFD\", \"dest\": \"NHL\", \"trip_month\": 4, \"trip_year\": 2025, \"ridership\": 296, \"revenue\": 3420.51, \"od\": \"BFD->NHL\", \"direction\": \"sb\", \"orig_seq\": 0, \"dest_seq\": 1, \"departing_station\": \"0_BFD\", \"distance\": 1}, {\"ca_bus_route\": \"Rt 1C\", \"orig\": \"BFD\", \"dest\": \"NHL\", \"trip_month\": 4, \"trip_year\": 2025, \"ridership\": 296, \"revenue\": 3420.51, \"od\": \"BFD->NHL\", \"direction\": \"sb\", \"orig_seq\": 0, \"dest_seq\": 1, \"departing_station\": \"0_BFD\", \"distance\": 2}, {\"ca_bus_route\": \"Rt 1C\", \"orig\": \"BFD\", \"dest\": \"NHL\", \"trip_month\": 4, \"trip_year\": 2025, \"ridership\": 296, \"revenue\": 3420.51, \"od\": \"BFD->NHL\", \"direction\": \"sb\", \"orig_seq\": 0, \"dest_seq\": 1, \"departing_station\": \"0_BFD\", \"distance\": 3}, {\"ca_bus_route\": \"Rt 1C\", \"orig\": \"BFD\", \"dest\": \"NHL\", \"trip_month\": 4, \"trip_year\": 2025, \"ridership\": 296, \"revenue\": 3420.51, \"od\": \"BFD->NHL\", \"direction\": \"sb\", \"orig_seq\": 0, \"dest_seq\": 1, \"departing_station\": \"0_BFD\", \"distance\": 4}, {\"ca_bus_route\": \"Rt 1C\", \"orig\": \"BFD\", \"dest\": \"NHL\", \"trip_month\": 4, \"trip_year\": 2025, \"ridership\": 296, \"revenue\": 3420.51, \"od\": \"BFD->NHL\", \"direction\": \"sb\", \"orig_seq\": 0, \"dest_seq\": 1, \"departing_station\": \"0_BFD\", \"distance\": 5}, {\"ca_bus_route\": \"Rt 1C\", \"orig\": \"BFD\", \"dest\": \"NHL\", \"trip_month\": 4, \"trip_year\": 2025, \"ridership\": 296, \"revenue\": 3420.51, \"od\": \"BFD->NHL\", \"direction\": \"sb\", \"orig_seq\": 0, \"dest_seq\": 1, \"departing_station\": \"0_BFD\", \"distance\": 6}, {\"ca_bus_route\": \"Rt 1C\", \"orig\": \"BFD\", \"dest\": \"NHL\", \"trip_month\": 4, \"trip_year\": 2025, \"ridership\": 296, \"revenue\": 3420.51, \"od\": \"BFD->NHL\", \"direction\": \"sb\", \"orig_seq\": 0, \"dest_seq\": 1, \"departing_station\": \"0_BFD\", \"distance\": 7}, {\"ca_bus_route\": \"Rt 1C\", \"orig\": \"BFD\", \"dest\": \"NHL\", \"trip_month\": 4, \"trip_year\": 2025, \"ridership\": 296, \"revenue\": 3420.51, \"od\": \"BFD->NHL\", \"direction\": \"sb\", \"orig_seq\": 0, \"dest_seq\": 1, \"departing_station\": \"0_BFD\", \"distance\": 8}, {\"ca_bus_route\": \"Rt 1C\", \"orig\": \"BFD\", \"dest\": \"NHL\", \"trip_month\": 4, \"trip_year\": 2025, \"ridership\": 296, \"revenue\": 3420.51, \"od\": \"BFD->NHL\", \"direction\": \"sb\", \"orig_seq\": 0, \"dest_seq\": 1, \"departing_station\": \"0_BFD\", \"distance\": 9}, {\"ca_bus_route\": \"Rt 1C\", \"orig\": \"BFD\", \"dest\": \"NHL\", \"trip_month\": 4, \"trip_year\": 2025, \"ridership\": 296, \"revenue\": 3420.51, \"od\": \"BFD->NHL\", \"direction\": \"sb\", \"orig_seq\": 0, \"dest_seq\": 1, \"departing_station\": \"0_BFD\", \"distance\": 10}, {\"ca_bus_route\": \"Rt 1C\", \"orig\": \"BFD\", \"dest\": \"NHL\", \"trip_month\": 4, \"trip_year\": 2025, \"ridership\": 296, \"revenue\": 3420.51, \"od\": \"BFD->NHL\", \"direction\": \"sb\", \"orig_seq\": 0, \"dest_seq\": 1, \"departing_station\": \"0_BFD\", \"distance\": 11}, {\"ca_bus_route\": \"Rt 1C\", \"orig\": \"BFD\", \"dest\": \"NHL\", \"trip_month\": 4, \"trip_year\": 2025, \"ridership\": 296, \"revenue\": 3420.51, \"od\": \"BFD->NHL\", \"direction\": \"sb\", \"orig_seq\": 0, \"dest_seq\": 1, \"departing_station\": \"0_BFD\", \"distance\": 12}, {\"ca_bus_route\": \"Rt 1C\", \"orig\": \"BFD\", \"dest\": \"NHL\", \"trip_month\": 4, \"trip_year\": 2025, \"ridership\": 296, \"revenue\": 3420.51, \"od\": \"BFD->NHL\", \"direction\": \"sb\", \"orig_seq\": 0, \"dest_seq\": 1, \"departing_station\": \"0_BFD\", \"distance\": 13}, {\"ca_bus_route\": \"Rt 1C\", \"orig\": \"BFD\", \"dest\": \"NHL\", \"trip_month\": 4, \"trip_year\": 2025, \"ridership\": 296, \"revenue\": 3420.51, \"od\": \"BFD->NHL\", \"direction\": \"sb\", \"orig_seq\": 0, \"dest_seq\": 1, \"departing_station\": \"0_BFD\", \"distance\": 14}, {\"ca_bus_route\": \"Rt 1C\", \"orig\": \"BFD\", \"dest\": \"NHL\", \"trip_month\": 4, \"trip_year\": 2025, \"ridership\": 296, \"revenue\": 3420.51, \"od\": \"BFD->NHL\", \"direction\": \"sb\", \"orig_seq\": 0, \"dest_seq\": 1, \"departing_station\": \"0_BFD\", \"distance\": 15}, {\"ca_bus_route\": \"Rt 1C\", \"orig\": \"BFD\", \"dest\": \"NHL\", \"trip_month\": 4, \"trip_year\": 2025, \"ridership\": 296, \"revenue\": 3420.51, \"od\": \"BFD->NHL\", \"direction\": \"sb\", \"orig_seq\": 0, \"dest_seq\": 1, \"departing_station\": \"0_BFD\", \"distance\": 16}, {\"ca_bus_route\": \"Rt 1C\", \"orig\": \"BFD\", \"dest\": \"NHL\", \"trip_month\": 4, \"trip_year\": 2025, \"ridership\": 296, \"revenue\": 3420.51, \"od\": \"BFD->NHL\", \"direction\": \"sb\", \"orig_seq\": 0, \"dest_seq\": 1, \"departing_station\": \"0_BFD\", \"distance\": 17}, {\"ca_bus_route\": \"Rt 1C\", \"orig\": \"BFD\", \"dest\": \"NHL\", \"trip_month\": 4, \"trip_year\": 2025, \"ridership\": 296, \"revenue\": 3420.51, \"od\": \"BFD->NHL\", \"direction\": \"sb\", \"orig_seq\": 0, \"dest_seq\": 1, \"departing_station\": \"0_BFD\", \"distance\": 18}, {\"ca_bus_route\": \"Rt 1C\", \"orig\": \"BFD\", \"dest\": \"NHL\", \"trip_month\": 4, \"trip_year\": 2025, \"ridership\": 296, \"revenue\": 3420.51, \"od\": \"BFD->NHL\", \"direction\": \"sb\", \"orig_seq\": 0, \"dest_seq\": 1, \"departing_station\": \"0_BFD\", \"distance\": 19}, {\"ca_bus_route\": \"Rt 1C\", \"orig\": \"BFD\", \"dest\": \"NHL\", \"trip_month\": 4, \"trip_year\": 2025, \"ridership\": 296, \"revenue\": 3420.51, \"od\": \"BFD->NHL\", \"direction\": \"sb\", \"orig_seq\": 0, \"dest_seq\": 1, \"departing_station\": \"0_BFD\", \"distance\": 20}, {\"ca_bus_route\": \"Rt 1C\", \"orig\": \"BFD\", \"dest\": \"NHL\", \"trip_month\": 4, \"trip_year\": 2025, \"ridership\": 296, \"revenue\": 3420.51, \"od\": \"BFD->NHL\", \"direction\": \"sb\", \"orig_seq\": 0, \"dest_seq\": 1, \"departing_station\": \"0_BFD\", \"distance\": 21}, {\"ca_bus_route\": \"Rt 1C\", \"orig\": \"BFD\", \"dest\": \"NHL\", \"trip_month\": 4, \"trip_year\": 2025, \"ridership\": 296, \"revenue\": 3420.51, \"od\": \"BFD->NHL\", \"direction\": \"sb\", \"orig_seq\": 0, \"dest_seq\": 1, \"departing_station\": \"0_BFD\", \"distance\": 22}, {\"ca_bus_route\": \"Rt 1C\", \"orig\": \"BFD\", \"dest\": \"NHL\", \"trip_month\": 4, \"trip_year\": 2025, \"ridership\": 296, \"revenue\": 3420.51, \"od\": \"BFD->NHL\", \"direction\": \"sb\", \"orig_seq\": 0, \"dest_seq\": 1, \"departing_station\": \"0_BFD\", \"distance\": 23}, {\"ca_bus_route\": \"Rt 1C\", \"orig\": \"BFD\", \"dest\": \"NHL\", \"trip_month\": 4, \"trip_year\": 2025, \"ridership\": 296, \"revenue\": 3420.51, \"od\": \"BFD->NHL\", \"direction\": \"sb\", \"orig_seq\": 0, \"dest_seq\": 1, \"departing_station\": \"0_BFD\", \"distance\": 24}, {\"ca_bus_route\": \"Rt 1C\", \"orig\": \"BFD\", \"dest\": \"NHL\", \"trip_month\": 4, \"trip_year\": 2025, \"ridership\": 296, \"revenue\": 3420.51, \"od\": \"BFD->NHL\", \"direction\": \"sb\", \"orig_seq\": 0, \"dest_seq\": 1, \"departing_station\": \"0_BFD\", \"distance\": 25}, {\"ca_bus_route\": \"Rt 1C\", \"orig\": \"BFD\", \"dest\": \"NHL\", \"trip_month\": 4, \"trip_year\": 2025, \"ridership\": 296, \"revenue\": 3420.51, \"od\": \"BFD->NHL\", \"direction\": \"sb\", \"orig_seq\": 0, \"dest_seq\": 1, \"departing_station\": \"0_BFD\", \"distance\": 26}, {\"ca_bus_route\": \"Rt 1C\", \"orig\": \"BFD\", \"dest\": \"NHL\", \"trip_month\": 4, \"trip_year\": 2025, \"ridership\": 296, \"revenue\": 3420.51, \"od\": \"BFD->NHL\", \"direction\": \"sb\", \"orig_seq\": 0, \"dest_seq\": 1, \"departing_station\": \"0_BFD\", \"distance\": 27}, {\"ca_bus_route\": \"Rt 1C\", \"orig\": \"BFD\", \"dest\": \"NHL\", \"trip_month\": 4, \"trip_year\": 2025, \"ridership\": 296, \"revenue\": 3420.51, \"od\": \"BFD->NHL\", \"direction\": \"sb\", \"orig_seq\": 0, \"dest_seq\": 1, \"departing_station\": \"0_BFD\", \"distance\": 28}, {\"ca_bus_route\": \"Rt 1C\", \"orig\": \"BFD\", \"dest\": \"NHL\", \"trip_month\": 4, \"trip_year\": 2025, \"ridership\": 296, \"revenue\": 3420.51, \"od\": \"BFD->NHL\", \"direction\": \"sb\", \"orig_seq\": 0, \"dest_seq\": 1, \"departing_station\": \"0_BFD\", \"distance\": 29}, {\"ca_bus_route\": \"Rt 1C\", \"orig\": \"BFD\", \"dest\": \"NHL\", \"trip_month\": 4, \"trip_year\": 2025, \"ridership\": 296, \"revenue\": 3420.51, \"od\": \"BFD->NHL\", \"direction\": \"sb\", \"orig_seq\": 0, \"dest_seq\": 1, \"departing_station\": \"0_BFD\", \"distance\": 30}, {\"ca_bus_route\": \"Rt 1C\", \"orig\": \"BFD\", \"dest\": \"NHL\", \"trip_month\": 4, \"trip_year\": 2025, \"ridership\": 296, \"revenue\": 3420.51, \"od\": \"BFD->NHL\", \"direction\": \"sb\", \"orig_seq\": 0, \"dest_seq\": 1, \"departing_station\": \"0_BFD\", \"distance\": 31}, {\"ca_bus_route\": \"Rt 1C\", \"orig\": \"BFD\", \"dest\": \"NHL\", \"trip_month\": 4, \"trip_year\": 2025, \"ridership\": 296, \"revenue\": 3420.51, \"od\": \"BFD->NHL\", \"direction\": \"sb\", \"orig_seq\": 0, \"dest_seq\": 1, \"departing_station\": \"0_BFD\", \"distance\": 32}, {\"ca_bus_route\": \"Rt 1C\", \"orig\": \"BFD\", \"dest\": \"NHL\", \"trip_month\": 4, \"trip_year\": 2025, \"ridership\": 296, \"revenue\": 3420.51, \"od\": \"BFD->NHL\", \"direction\": \"sb\", \"orig_seq\": 0, \"dest_seq\": 1, \"departing_station\": \"0_BFD\", \"distance\": 33}, {\"ca_bus_route\": \"Rt 1C\", \"orig\": \"BFD\", \"dest\": \"NHL\", \"trip_month\": 4, \"trip_year\": 2025, \"ridership\": 296, \"revenue\": 3420.51, \"od\": \"BFD->NHL\", \"direction\": \"sb\", \"orig_seq\": 0, \"dest_seq\": 1, \"departing_station\": \"0_BFD\", \"distance\": 34}, {\"ca_bus_route\": \"Rt 1C\", \"orig\": \"BFD\", \"dest\": \"NHL\", \"trip_month\": 4, \"trip_year\": 2025, \"ridership\": 296, \"revenue\": 3420.51, \"od\": \"BFD->NHL\", \"direction\": \"sb\", \"orig_seq\": 0, \"dest_seq\": 1, \"departing_station\": \"0_BFD\", \"distance\": 35}, {\"ca_bus_route\": \"Rt 1C\", \"orig\": \"BFD\", \"dest\": \"NHL\", \"trip_month\": 4, \"trip_year\": 2025, \"ridership\": 296, \"revenue\": 3420.51, \"od\": \"BFD->NHL\", \"direction\": \"sb\", \"orig_seq\": 0, \"dest_seq\": 1, \"departing_station\": \"0_BFD\", \"distance\": 36}, {\"ca_bus_route\": \"Rt 1C\", \"orig\": \"BFD\", \"dest\": \"NHL\", \"trip_month\": 4, \"trip_year\": 2025, \"ridership\": 296, \"revenue\": 3420.51, \"od\": \"BFD->NHL\", \"direction\": \"sb\", \"orig_seq\": 0, \"dest_seq\": 1, \"departing_station\": \"0_BFD\", \"distance\": 37}, {\"ca_bus_route\": \"Rt 1C\", \"orig\": \"BFD\", \"dest\": \"NHL\", \"trip_month\": 4, \"trip_year\": 2025, \"ridership\": 296, \"revenue\": 3420.51, \"od\": \"BFD->NHL\", \"direction\": \"sb\", \"orig_seq\": 0, \"dest_seq\": 1, \"departing_station\": \"0_BFD\", \"distance\": 38}, {\"ca_bus_route\": \"Rt 1C\", \"orig\": \"BFD\", \"dest\": \"NHL\", \"trip_month\": 4, \"trip_year\": 2025, \"ridership\": 296, \"revenue\": 3420.51, \"od\": \"BFD->NHL\", \"direction\": \"sb\", \"orig_seq\": 0, \"dest_seq\": 1, \"departing_station\": \"0_BFD\", \"distance\": 39}, {\"ca_bus_route\": \"Rt 1C\", \"orig\": \"BFD\", \"dest\": \"NHL\", \"trip_month\": 4, \"trip_year\": 2025, \"ridership\": 296, \"revenue\": 3420.51, \"od\": \"BFD->NHL\", \"direction\": \"sb\", \"orig_seq\": 0, \"dest_seq\": 1, \"departing_station\": \"0_BFD\", \"distance\": 40}, {\"ca_bus_route\": \"Rt 1C\", \"orig\": \"BFD\", \"dest\": \"NHL\", \"trip_month\": 4, \"trip_year\": 2025, \"ridership\": 296, \"revenue\": 3420.51, \"od\": \"BFD->NHL\", \"direction\": \"sb\", \"orig_seq\": 0, \"dest_seq\": 1, \"departing_station\": \"0_BFD\", \"distance\": 41}, {\"ca_bus_route\": \"Rt 1C\", \"orig\": \"BFD\", \"dest\": \"NHL\", \"trip_month\": 4, \"trip_year\": 2025, \"ridership\": 296, \"revenue\": 3420.51, \"od\": \"BFD->NHL\", \"direction\": \"sb\", \"orig_seq\": 0, \"dest_seq\": 1, \"departing_station\": \"0_BFD\", \"distance\": 42}, {\"ca_bus_route\": \"Rt 1C\", \"orig\": \"BFD\", \"dest\": \"NHL\", \"trip_month\": 4, \"trip_year\": 2025, \"ridership\": 296, \"revenue\": 3420.51, \"od\": \"BFD->NHL\", \"direction\": \"sb\", \"orig_seq\": 0, \"dest_seq\": 1, \"departing_station\": \"0_BFD\", \"distance\": 43}, {\"ca_bus_route\": \"Rt 1C\", \"orig\": \"BFD\", \"dest\": \"NHL\", \"trip_month\": 4, \"trip_year\": 2025, \"ridership\": 296, \"revenue\": 3420.51, \"od\": \"BFD->NHL\", \"direction\": \"sb\", \"orig_seq\": 0, \"dest_seq\": 1, \"departing_station\": \"0_BFD\", \"distance\": 44}, {\"ca_bus_route\": \"Rt 1C\", \"orig\": \"BFD\", \"dest\": \"NHL\", \"trip_month\": 4, \"trip_year\": 2025, \"ridership\": 296, \"revenue\": 3420.51, \"od\": \"BFD->NHL\", \"direction\": \"sb\", \"orig_seq\": 0, \"dest_seq\": 1, \"departing_station\": \"0_BFD\", \"distance\": 45}, {\"ca_bus_route\": \"Rt 1C\", \"orig\": \"BFD\", \"dest\": \"NHL\", \"trip_month\": 4, \"trip_year\": 2025, \"ridership\": 296, \"revenue\": 3420.51, \"od\": \"BFD->NHL\", \"direction\": \"sb\", \"orig_seq\": 0, \"dest_seq\": 1, \"departing_station\": \"0_BFD\", \"distance\": 46}, {\"ca_bus_route\": \"Rt 1C\", \"orig\": \"BFD\", \"dest\": \"NHL\", \"trip_month\": 4, \"trip_year\": 2025, \"ridership\": 296, \"revenue\": 3420.51, \"od\": \"BFD->NHL\", \"direction\": \"sb\", \"orig_seq\": 0, \"dest_seq\": 1, \"departing_station\": \"0_BFD\", \"distance\": 47}, {\"ca_bus_route\": \"Rt 1C\", \"orig\": \"BFD\", \"dest\": \"NHL\", \"trip_month\": 4, \"trip_year\": 2025, \"ridership\": 296, \"revenue\": 3420.51, \"od\": \"BFD->NHL\", \"direction\": \"sb\", \"orig_seq\": 0, \"dest_seq\": 1, \"departing_station\": \"0_BFD\", \"distance\": 48}, {\"ca_bus_route\": \"Rt 1C\", \"orig\": \"BFD\", \"dest\": \"NHL\", \"trip_month\": 4, \"trip_year\": 2025, \"ridership\": 296, \"revenue\": 3420.51, \"od\": \"BFD->NHL\", \"direction\": \"sb\", \"orig_seq\": 0, \"dest_seq\": 1, \"departing_station\": \"0_BFD\", \"distance\": 49}, {\"ca_bus_route\": \"Rt 1C\", \"orig\": \"BFD\", \"dest\": \"SMN\", \"trip_month\": 4, \"trip_year\": 2025, \"ridership\": 51, \"revenue\": 829.34, \"od\": \"BFD->SMN\", \"direction\": \"sb\", \"orig_seq\": 0, \"dest_seq\": 5, \"departing_station\": \"0_BFD\", \"distance\": 0}, {\"ca_bus_route\": \"Rt 1C\", \"orig\": \"BFD\", \"dest\": \"SMN\", \"trip_month\": 4, \"trip_year\": 2025, \"ridership\": 51, \"revenue\": 829.34, \"od\": \"BFD->SMN\", \"direction\": \"sb\", \"orig_seq\": 0, \"dest_seq\": 5, \"departing_station\": \"0_BFD\", \"distance\": 1}, {\"ca_bus_route\": \"Rt 1C\", \"orig\": \"BFD\", \"dest\": \"SMN\", \"trip_month\": 4, \"trip_year\": 2025, \"ridership\": 51, \"revenue\": 829.34, \"od\": \"BFD->SMN\", \"direction\": \"sb\", \"orig_seq\": 0, \"dest_seq\": 5, \"departing_station\": \"0_BFD\", \"distance\": 2}, {\"ca_bus_route\": \"Rt 1C\", \"orig\": \"BFD\", \"dest\": \"SMN\", \"trip_month\": 4, \"trip_year\": 2025, \"ridership\": 51, \"revenue\": 829.34, \"od\": \"BFD->SMN\", \"direction\": \"sb\", \"orig_seq\": 0, \"dest_seq\": 5, \"departing_station\": \"0_BFD\", \"distance\": 3}, {\"ca_bus_route\": \"Rt 1C\", \"orig\": \"BFD\", \"dest\": \"SMN\", \"trip_month\": 4, \"trip_year\": 2025, \"ridership\": 51, \"revenue\": 829.34, \"od\": \"BFD->SMN\", \"direction\": \"sb\", \"orig_seq\": 0, \"dest_seq\": 5, \"departing_station\": \"0_BFD\", \"distance\": 4}, {\"ca_bus_route\": \"Rt 1C\", \"orig\": \"BFD\", \"dest\": \"SMN\", \"trip_month\": 4, \"trip_year\": 2025, \"ridership\": 51, \"revenue\": 829.34, \"od\": \"BFD->SMN\", \"direction\": \"sb\", \"orig_seq\": 0, \"dest_seq\": 5, \"departing_station\": \"0_BFD\", \"distance\": 5}, {\"ca_bus_route\": \"Rt 1C\", \"orig\": \"BFD\", \"dest\": \"SMN\", \"trip_month\": 4, \"trip_year\": 2025, \"ridership\": 51, \"revenue\": 829.34, \"od\": \"BFD->SMN\", \"direction\": \"sb\", \"orig_seq\": 0, \"dest_seq\": 5, \"departing_station\": \"0_BFD\", \"distance\": 6}, {\"ca_bus_route\": \"Rt 1C\", \"orig\": \"BFD\", \"dest\": \"SMN\", \"trip_month\": 4, \"trip_year\": 2025, \"ridership\": 51, \"revenue\": 829.34, \"od\": \"BFD->SMN\", \"direction\": \"sb\", \"orig_seq\": 0, \"dest_seq\": 5, \"departing_station\": \"0_BFD\", \"distance\": 7}, {\"ca_bus_route\": \"Rt 1C\", \"orig\": \"BFD\", \"dest\": \"SMN\", \"trip_month\": 4, \"trip_year\": 2025, \"ridership\": 51, \"revenue\": 829.34, \"od\": \"BFD->SMN\", \"direction\": \"sb\", \"orig_seq\": 0, \"dest_seq\": 5, \"departing_station\": \"0_BFD\", \"distance\": 8}, {\"ca_bus_route\": \"Rt 1C\", \"orig\": \"BFD\", \"dest\": \"SMN\", \"trip_month\": 4, \"trip_year\": 2025, \"ridership\": 51, \"revenue\": 829.34, \"od\": \"BFD->SMN\", \"direction\": \"sb\", \"orig_seq\": 0, \"dest_seq\": 5, \"departing_station\": \"0_BFD\", \"distance\": 9}, {\"ca_bus_route\": \"Rt 1C\", \"orig\": \"BFD\", \"dest\": \"SMN\", \"trip_month\": 4, \"trip_year\": 2025, \"ridership\": 51, \"revenue\": 829.34, \"od\": \"BFD->SMN\", \"direction\": \"sb\", \"orig_seq\": 0, \"dest_seq\": 5, \"departing_station\": \"0_BFD\", \"distance\": 10}, {\"ca_bus_route\": \"Rt 1C\", \"orig\": \"BFD\", \"dest\": \"SMN\", \"trip_month\": 4, \"trip_year\": 2025, \"ridership\": 51, \"revenue\": 829.34, \"od\": \"BFD->SMN\", \"direction\": \"sb\", \"orig_seq\": 0, \"dest_seq\": 5, \"departing_station\": \"0_BFD\", \"distance\": 11}, {\"ca_bus_route\": \"Rt 1C\", \"orig\": \"BFD\", \"dest\": \"SMN\", \"trip_month\": 4, \"trip_year\": 2025, \"ridership\": 51, \"revenue\": 829.34, \"od\": \"BFD->SMN\", \"direction\": \"sb\", \"orig_seq\": 0, \"dest_seq\": 5, \"departing_station\": \"0_BFD\", \"distance\": 12}, {\"ca_bus_route\": \"Rt 1C\", \"orig\": \"BFD\", \"dest\": \"SMN\", \"trip_month\": 4, \"trip_year\": 2025, \"ridership\": 51, \"revenue\": 829.34, \"od\": \"BFD->SMN\", \"direction\": \"sb\", \"orig_seq\": 0, \"dest_seq\": 5, \"departing_station\": \"0_BFD\", \"distance\": 13}, {\"ca_bus_route\": \"Rt 1C\", \"orig\": \"BFD\", \"dest\": \"SMN\", \"trip_month\": 4, \"trip_year\": 2025, \"ridership\": 51, \"revenue\": 829.34, \"od\": \"BFD->SMN\", \"direction\": \"sb\", \"orig_seq\": 0, \"dest_seq\": 5, \"departing_station\": \"0_BFD\", \"distance\": 14}, {\"ca_bus_route\": \"Rt 1C\", \"orig\": \"BFD\", \"dest\": \"SMN\", \"trip_month\": 4, \"trip_year\": 2025, \"ridership\": 51, \"revenue\": 829.34, \"od\": \"BFD->SMN\", \"direction\": \"sb\", \"orig_seq\": 0, \"dest_seq\": 5, \"departing_station\": \"0_BFD\", \"distance\": 15}, {\"ca_bus_route\": \"Rt 1C\", \"orig\": \"BFD\", \"dest\": \"SMN\", \"trip_month\": 4, \"trip_year\": 2025, \"ridership\": 51, \"revenue\": 829.34, \"od\": \"BFD->SMN\", \"direction\": \"sb\", \"orig_seq\": 0, \"dest_seq\": 5, \"departing_station\": \"0_BFD\", \"distance\": 16}, {\"ca_bus_route\": \"Rt 1C\", \"orig\": \"BFD\", \"dest\": \"SMN\", \"trip_month\": 4, \"trip_year\": 2025, \"ridership\": 51, \"revenue\": 829.34, \"od\": \"BFD->SMN\", \"direction\": \"sb\", \"orig_seq\": 0, \"dest_seq\": 5, \"departing_station\": \"0_BFD\", \"distance\": 17}, {\"ca_bus_route\": \"Rt 1C\", \"orig\": \"BFD\", \"dest\": \"SMN\", \"trip_month\": 4, \"trip_year\": 2025, \"ridership\": 51, \"revenue\": 829.34, \"od\": \"BFD->SMN\", \"direction\": \"sb\", \"orig_seq\": 0, \"dest_seq\": 5, \"departing_station\": \"0_BFD\", \"distance\": 18}, {\"ca_bus_route\": \"Rt 1C\", \"orig\": \"BFD\", \"dest\": \"SMN\", \"trip_month\": 4, \"trip_year\": 2025, \"ridership\": 51, \"revenue\": 829.34, \"od\": \"BFD->SMN\", \"direction\": \"sb\", \"orig_seq\": 0, \"dest_seq\": 5, \"departing_station\": \"0_BFD\", \"distance\": 19}, {\"ca_bus_route\": \"Rt 1C\", \"orig\": \"BFD\", \"dest\": \"SMN\", \"trip_month\": 4, \"trip_year\": 2025, \"ridership\": 51, \"revenue\": 829.34, \"od\": \"BFD->SMN\", \"direction\": \"sb\", \"orig_seq\": 0, \"dest_seq\": 5, \"departing_station\": \"0_BFD\", \"distance\": 20}, {\"ca_bus_route\": \"Rt 1C\", \"orig\": \"BFD\", \"dest\": \"SMN\", \"trip_month\": 4, \"trip_year\": 2025, \"ridership\": 51, \"revenue\": 829.34, \"od\": \"BFD->SMN\", \"direction\": \"sb\", \"orig_seq\": 0, \"dest_seq\": 5, \"departing_station\": \"0_BFD\", \"distance\": 21}, {\"ca_bus_route\": \"Rt 1C\", \"orig\": \"BFD\", \"dest\": \"SMN\", \"trip_month\": 4, \"trip_year\": 2025, \"ridership\": 51, \"revenue\": 829.34, \"od\": \"BFD->SMN\", \"direction\": \"sb\", \"orig_seq\": 0, \"dest_seq\": 5, \"departing_station\": \"0_BFD\", \"distance\": 22}, {\"ca_bus_route\": \"Rt 1C\", \"orig\": \"BFD\", \"dest\": \"SMN\", \"trip_month\": 4, \"trip_year\": 2025, \"ridership\": 51, \"revenue\": 829.34, \"od\": \"BFD->SMN\", \"direction\": \"sb\", \"orig_seq\": 0, \"dest_seq\": 5, \"departing_station\": \"0_BFD\", \"distance\": 23}, {\"ca_bus_route\": \"Rt 1C\", \"orig\": \"BFD\", \"dest\": \"SMN\", \"trip_month\": 4, \"trip_year\": 2025, \"ridership\": 51, \"revenue\": 829.34, \"od\": \"BFD->SMN\", \"direction\": \"sb\", \"orig_seq\": 0, \"dest_seq\": 5, \"departing_station\": \"0_BFD\", \"distance\": 24}, {\"ca_bus_route\": \"Rt 1C\", \"orig\": \"BFD\", \"dest\": \"SMN\", \"trip_month\": 4, \"trip_year\": 2025, \"ridership\": 51, \"revenue\": 829.34, \"od\": \"BFD->SMN\", \"direction\": \"sb\", \"orig_seq\": 0, \"dest_seq\": 5, \"departing_station\": \"0_BFD\", \"distance\": 25}, {\"ca_bus_route\": \"Rt 1C\", \"orig\": \"BFD\", \"dest\": \"SMN\", \"trip_month\": 4, \"trip_year\": 2025, \"ridership\": 51, \"revenue\": 829.34, \"od\": \"BFD->SMN\", \"direction\": \"sb\", \"orig_seq\": 0, \"dest_seq\": 5, \"departing_station\": \"0_BFD\", \"distance\": 26}, {\"ca_bus_route\": \"Rt 1C\", \"orig\": \"BFD\", \"dest\": \"SMN\", \"trip_month\": 4, \"trip_year\": 2025, \"ridership\": 51, \"revenue\": 829.34, \"od\": \"BFD->SMN\", \"direction\": \"sb\", \"orig_seq\": 0, \"dest_seq\": 5, \"departing_station\": \"0_BFD\", \"distance\": 27}, {\"ca_bus_route\": \"Rt 1C\", \"orig\": \"BFD\", \"dest\": \"SMN\", \"trip_month\": 4, \"trip_year\": 2025, \"ridership\": 51, \"revenue\": 829.34, \"od\": \"BFD->SMN\", \"direction\": \"sb\", \"orig_seq\": 0, \"dest_seq\": 5, \"departing_station\": \"0_BFD\", \"distance\": 28}, {\"ca_bus_route\": \"Rt 1C\", \"orig\": \"BFD\", \"dest\": \"SMN\", \"trip_month\": 4, \"trip_year\": 2025, \"ridership\": 51, \"revenue\": 829.34, \"od\": \"BFD->SMN\", \"direction\": \"sb\", \"orig_seq\": 0, \"dest_seq\": 5, \"departing_station\": \"0_BFD\", \"distance\": 29}, {\"ca_bus_route\": \"Rt 1C\", \"orig\": \"BFD\", \"dest\": \"SMN\", \"trip_month\": 4, \"trip_year\": 2025, \"ridership\": 51, \"revenue\": 829.34, \"od\": \"BFD->SMN\", \"direction\": \"sb\", \"orig_seq\": 0, \"dest_seq\": 5, \"departing_station\": \"0_BFD\", \"distance\": 30}, {\"ca_bus_route\": \"Rt 1C\", \"orig\": \"BFD\", \"dest\": \"SMN\", \"trip_month\": 4, \"trip_year\": 2025, \"ridership\": 51, \"revenue\": 829.34, \"od\": \"BFD->SMN\", \"direction\": \"sb\", \"orig_seq\": 0, \"dest_seq\": 5, \"departing_station\": \"0_BFD\", \"distance\": 31}, {\"ca_bus_route\": \"Rt 1C\", \"orig\": \"BFD\", \"dest\": \"SMN\", \"trip_month\": 4, \"trip_year\": 2025, \"ridership\": 51, \"revenue\": 829.34, \"od\": \"BFD->SMN\", \"direction\": \"sb\", \"orig_seq\": 0, \"dest_seq\": 5, \"departing_station\": \"0_BFD\", \"distance\": 32}, {\"ca_bus_route\": \"Rt 1C\", \"orig\": \"BFD\", \"dest\": \"SMN\", \"trip_month\": 4, \"trip_year\": 2025, \"ridership\": 51, \"revenue\": 829.34, \"od\": \"BFD->SMN\", \"direction\": \"sb\", \"orig_seq\": 0, \"dest_seq\": 5, \"departing_station\": \"0_BFD\", \"distance\": 33}, {\"ca_bus_route\": \"Rt 1C\", \"orig\": \"BFD\", \"dest\": \"SMN\", \"trip_month\": 4, \"trip_year\": 2025, \"ridership\": 51, \"revenue\": 829.34, \"od\": \"BFD->SMN\", \"direction\": \"sb\", \"orig_seq\": 0, \"dest_seq\": 5, \"departing_station\": \"0_BFD\", \"distance\": 34}, {\"ca_bus_route\": \"Rt 1C\", \"orig\": \"BFD\", \"dest\": \"SMN\", \"trip_month\": 4, \"trip_year\": 2025, \"ridership\": 51, \"revenue\": 829.34, \"od\": \"BFD->SMN\", \"direction\": \"sb\", \"orig_seq\": 0, \"dest_seq\": 5, \"departing_station\": \"0_BFD\", \"distance\": 35}, {\"ca_bus_route\": \"Rt 1C\", \"orig\": \"BFD\", \"dest\": \"SMN\", \"trip_month\": 4, \"trip_year\": 2025, \"ridership\": 51, \"revenue\": 829.34, \"od\": \"BFD->SMN\", \"direction\": \"sb\", \"orig_seq\": 0, \"dest_seq\": 5, \"departing_station\": \"0_BFD\", \"distance\": 36}, {\"ca_bus_route\": \"Rt 1C\", \"orig\": \"BFD\", \"dest\": \"SMN\", \"trip_month\": 4, \"trip_year\": 2025, \"ridership\": 51, \"revenue\": 829.34, \"od\": \"BFD->SMN\", \"direction\": \"sb\", \"orig_seq\": 0, \"dest_seq\": 5, \"departing_station\": \"0_BFD\", \"distance\": 37}, {\"ca_bus_route\": \"Rt 1C\", \"orig\": \"BFD\", \"dest\": \"SMN\", \"trip_month\": 4, \"trip_year\": 2025, \"ridership\": 51, \"revenue\": 829.34, \"od\": \"BFD->SMN\", \"direction\": \"sb\", \"orig_seq\": 0, \"dest_seq\": 5, \"departing_station\": \"0_BFD\", \"distance\": 38}, {\"ca_bus_route\": \"Rt 1C\", \"orig\": \"BFD\", \"dest\": \"SMN\", \"trip_month\": 4, \"trip_year\": 2025, \"ridership\": 51, \"revenue\": 829.34, \"od\": \"BFD->SMN\", \"direction\": \"sb\", \"orig_seq\": 0, \"dest_seq\": 5, \"departing_station\": \"0_BFD\", \"distance\": 39}, {\"ca_bus_route\": \"Rt 1C\", \"orig\": \"BFD\", \"dest\": \"SMN\", \"trip_month\": 4, \"trip_year\": 2025, \"ridership\": 51, \"revenue\": 829.34, \"od\": \"BFD->SMN\", \"direction\": \"sb\", \"orig_seq\": 0, \"dest_seq\": 5, \"departing_station\": \"0_BFD\", \"distance\": 40}, {\"ca_bus_route\": \"Rt 1C\", \"orig\": \"BFD\", \"dest\": \"SMN\", \"trip_month\": 4, \"trip_year\": 2025, \"ridership\": 51, \"revenue\": 829.34, \"od\": \"BFD->SMN\", \"direction\": \"sb\", \"orig_seq\": 0, \"dest_seq\": 5, \"departing_station\": \"0_BFD\", \"distance\": 41}, {\"ca_bus_route\": \"Rt 1C\", \"orig\": \"BFD\", \"dest\": \"SMN\", \"trip_month\": 4, \"trip_year\": 2025, \"ridership\": 51, \"revenue\": 829.34, \"od\": \"BFD->SMN\", \"direction\": \"sb\", \"orig_seq\": 0, \"dest_seq\": 5, \"departing_station\": \"0_BFD\", \"distance\": 42}, {\"ca_bus_route\": \"Rt 1C\", \"orig\": \"BFD\", \"dest\": \"SMN\", \"trip_month\": 4, \"trip_year\": 2025, \"ridership\": 51, \"revenue\": 829.34, \"od\": \"BFD->SMN\", \"direction\": \"sb\", \"orig_seq\": 0, \"dest_seq\": 5, \"departing_station\": \"0_BFD\", \"distance\": 43}, {\"ca_bus_route\": \"Rt 1C\", \"orig\": \"BFD\", \"dest\": \"SMN\", \"trip_month\": 4, \"trip_year\": 2025, \"ridership\": 51, \"revenue\": 829.34, \"od\": \"BFD->SMN\", \"direction\": \"sb\", \"orig_seq\": 0, \"dest_seq\": 5, \"departing_station\": \"0_BFD\", \"distance\": 44}, {\"ca_bus_route\": \"Rt 1C\", \"orig\": \"BFD\", \"dest\": \"SMN\", \"trip_month\": 4, \"trip_year\": 2025, \"ridership\": 51, \"revenue\": 829.34, \"od\": \"BFD->SMN\", \"direction\": \"sb\", \"orig_seq\": 0, \"dest_seq\": 5, \"departing_station\": \"0_BFD\", \"distance\": 45}, {\"ca_bus_route\": \"Rt 1C\", \"orig\": \"BFD\", \"dest\": \"SMN\", \"trip_month\": 4, \"trip_year\": 2025, \"ridership\": 51, \"revenue\": 829.34, \"od\": \"BFD->SMN\", \"direction\": \"sb\", \"orig_seq\": 0, \"dest_seq\": 5, \"departing_station\": \"0_BFD\", \"distance\": 46}, {\"ca_bus_route\": \"Rt 1C\", \"orig\": \"BFD\", \"dest\": \"SMN\", \"trip_month\": 4, \"trip_year\": 2025, \"ridership\": 51, \"revenue\": 829.34, \"od\": \"BFD->SMN\", \"direction\": \"sb\", \"orig_seq\": 0, \"dest_seq\": 5, \"departing_station\": \"0_BFD\", \"distance\": 47}, {\"ca_bus_route\": \"Rt 1C\", \"orig\": \"BFD\", \"dest\": \"SMN\", \"trip_month\": 4, \"trip_year\": 2025, \"ridership\": 51, \"revenue\": 829.34, \"od\": \"BFD->SMN\", \"direction\": \"sb\", \"orig_seq\": 0, \"dest_seq\": 5, \"departing_station\": \"0_BFD\", \"distance\": 48}, {\"ca_bus_route\": \"Rt 1C\", \"orig\": \"BFD\", \"dest\": \"SMN\", \"trip_month\": 4, \"trip_year\": 2025, \"ridership\": 51, \"revenue\": 829.34, \"od\": \"BFD->SMN\", \"direction\": \"sb\", \"orig_seq\": 0, \"dest_seq\": 5, \"departing_station\": \"0_BFD\", \"distance\": 49}, {\"ca_bus_route\": \"Rt 1C\", \"orig\": \"BFD\", \"dest\": \"VNC\", \"trip_month\": 4, \"trip_year\": 2025, \"ridership\": 518, \"revenue\": 5618.8, \"od\": \"BFD->VNC\", \"direction\": \"sb\", \"orig_seq\": 0, \"dest_seq\": 3, \"departing_station\": \"0_BFD\", \"distance\": 0}, {\"ca_bus_route\": \"Rt 1C\", \"orig\": \"BFD\", \"dest\": \"VNC\", \"trip_month\": 4, \"trip_year\": 2025, \"ridership\": 518, \"revenue\": 5618.8, \"od\": \"BFD->VNC\", \"direction\": \"sb\", \"orig_seq\": 0, \"dest_seq\": 3, \"departing_station\": \"0_BFD\", \"distance\": 1}, {\"ca_bus_route\": \"Rt 1C\", \"orig\": \"BFD\", \"dest\": \"VNC\", \"trip_month\": 4, \"trip_year\": 2025, \"ridership\": 518, \"revenue\": 5618.8, \"od\": \"BFD->VNC\", \"direction\": \"sb\", \"orig_seq\": 0, \"dest_seq\": 3, \"departing_station\": \"0_BFD\", \"distance\": 2}, {\"ca_bus_route\": \"Rt 1C\", \"orig\": \"BFD\", \"dest\": \"VNC\", \"trip_month\": 4, \"trip_year\": 2025, \"ridership\": 518, \"revenue\": 5618.8, \"od\": \"BFD->VNC\", \"direction\": \"sb\", \"orig_seq\": 0, \"dest_seq\": 3, \"departing_station\": \"0_BFD\", \"distance\": 3}, {\"ca_bus_route\": \"Rt 1C\", \"orig\": \"BFD\", \"dest\": \"VNC\", \"trip_month\": 4, \"trip_year\": 2025, \"ridership\": 518, \"revenue\": 5618.8, \"od\": \"BFD->VNC\", \"direction\": \"sb\", \"orig_seq\": 0, \"dest_seq\": 3, \"departing_station\": \"0_BFD\", \"distance\": 4}, {\"ca_bus_route\": \"Rt 1C\", \"orig\": \"BFD\", \"dest\": \"VNC\", \"trip_month\": 4, \"trip_year\": 2025, \"ridership\": 518, \"revenue\": 5618.8, \"od\": \"BFD->VNC\", \"direction\": \"sb\", \"orig_seq\": 0, \"dest_seq\": 3, \"departing_station\": \"0_BFD\", \"distance\": 5}, {\"ca_bus_route\": \"Rt 1C\", \"orig\": \"BFD\", \"dest\": \"VNC\", \"trip_month\": 4, \"trip_year\": 2025, \"ridership\": 518, \"revenue\": 5618.8, \"od\": \"BFD->VNC\", \"direction\": \"sb\", \"orig_seq\": 0, \"dest_seq\": 3, \"departing_station\": \"0_BFD\", \"distance\": 6}, {\"ca_bus_route\": \"Rt 1C\", \"orig\": \"BFD\", \"dest\": \"VNC\", \"trip_month\": 4, \"trip_year\": 2025, \"ridership\": 518, \"revenue\": 5618.8, \"od\": \"BFD->VNC\", \"direction\": \"sb\", \"orig_seq\": 0, \"dest_seq\": 3, \"departing_station\": \"0_BFD\", \"distance\": 7}, {\"ca_bus_route\": \"Rt 1C\", \"orig\": \"BFD\", \"dest\": \"VNC\", \"trip_month\": 4, \"trip_year\": 2025, \"ridership\": 518, \"revenue\": 5618.8, \"od\": \"BFD->VNC\", \"direction\": \"sb\", \"orig_seq\": 0, \"dest_seq\": 3, \"departing_station\": \"0_BFD\", \"distance\": 8}, {\"ca_bus_route\": \"Rt 1C\", \"orig\": \"BFD\", \"dest\": \"VNC\", \"trip_month\": 4, \"trip_year\": 2025, \"ridership\": 518, \"revenue\": 5618.8, \"od\": \"BFD->VNC\", \"direction\": \"sb\", \"orig_seq\": 0, \"dest_seq\": 3, \"departing_station\": \"0_BFD\", \"distance\": 9}, {\"ca_bus_route\": \"Rt 1C\", \"orig\": \"BFD\", \"dest\": \"VNC\", \"trip_month\": 4, \"trip_year\": 2025, \"ridership\": 518, \"revenue\": 5618.8, \"od\": \"BFD->VNC\", \"direction\": \"sb\", \"orig_seq\": 0, \"dest_seq\": 3, \"departing_station\": \"0_BFD\", \"distance\": 10}, {\"ca_bus_route\": \"Rt 1C\", \"orig\": \"BFD\", \"dest\": \"VNC\", \"trip_month\": 4, \"trip_year\": 2025, \"ridership\": 518, \"revenue\": 5618.8, \"od\": \"BFD->VNC\", \"direction\": \"sb\", \"orig_seq\": 0, \"dest_seq\": 3, \"departing_station\": \"0_BFD\", \"distance\": 11}, {\"ca_bus_route\": \"Rt 1C\", \"orig\": \"BFD\", \"dest\": \"VNC\", \"trip_month\": 4, \"trip_year\": 2025, \"ridership\": 518, \"revenue\": 5618.8, \"od\": \"BFD->VNC\", \"direction\": \"sb\", \"orig_seq\": 0, \"dest_seq\": 3, \"departing_station\": \"0_BFD\", \"distance\": 12}, {\"ca_bus_route\": \"Rt 1C\", \"orig\": \"BFD\", \"dest\": \"VNC\", \"trip_month\": 4, \"trip_year\": 2025, \"ridership\": 518, \"revenue\": 5618.8, \"od\": \"BFD->VNC\", \"direction\": \"sb\", \"orig_seq\": 0, \"dest_seq\": 3, \"departing_station\": \"0_BFD\", \"distance\": 13}, {\"ca_bus_route\": \"Rt 1C\", \"orig\": \"BFD\", \"dest\": \"VNC\", \"trip_month\": 4, \"trip_year\": 2025, \"ridership\": 518, \"revenue\": 5618.8, \"od\": \"BFD->VNC\", \"direction\": \"sb\", \"orig_seq\": 0, \"dest_seq\": 3, \"departing_station\": \"0_BFD\", \"distance\": 14}, {\"ca_bus_route\": \"Rt 1C\", \"orig\": \"BFD\", \"dest\": \"VNC\", \"trip_month\": 4, \"trip_year\": 2025, \"ridership\": 518, \"revenue\": 5618.8, \"od\": \"BFD->VNC\", \"direction\": \"sb\", \"orig_seq\": 0, \"dest_seq\": 3, \"departing_station\": \"0_BFD\", \"distance\": 15}, {\"ca_bus_route\": \"Rt 1C\", \"orig\": \"BFD\", \"dest\": \"VNC\", \"trip_month\": 4, \"trip_year\": 2025, \"ridership\": 518, \"revenue\": 5618.8, \"od\": \"BFD->VNC\", \"direction\": \"sb\", \"orig_seq\": 0, \"dest_seq\": 3, \"departing_station\": \"0_BFD\", \"distance\": 16}, {\"ca_bus_route\": \"Rt 1C\", \"orig\": \"BFD\", \"dest\": \"VNC\", \"trip_month\": 4, \"trip_year\": 2025, \"ridership\": 518, \"revenue\": 5618.8, \"od\": \"BFD->VNC\", \"direction\": \"sb\", \"orig_seq\": 0, \"dest_seq\": 3, \"departing_station\": \"0_BFD\", \"distance\": 17}, {\"ca_bus_route\": \"Rt 1C\", \"orig\": \"BFD\", \"dest\": \"VNC\", \"trip_month\": 4, \"trip_year\": 2025, \"ridership\": 518, \"revenue\": 5618.8, \"od\": \"BFD->VNC\", \"direction\": \"sb\", \"orig_seq\": 0, \"dest_seq\": 3, \"departing_station\": \"0_BFD\", \"distance\": 18}, {\"ca_bus_route\": \"Rt 1C\", \"orig\": \"BFD\", \"dest\": \"VNC\", \"trip_month\": 4, \"trip_year\": 2025, \"ridership\": 518, \"revenue\": 5618.8, \"od\": \"BFD->VNC\", \"direction\": \"sb\", \"orig_seq\": 0, \"dest_seq\": 3, \"departing_station\": \"0_BFD\", \"distance\": 19}, {\"ca_bus_route\": \"Rt 1C\", \"orig\": \"BFD\", \"dest\": \"VNC\", \"trip_month\": 4, \"trip_year\": 2025, \"ridership\": 518, \"revenue\": 5618.8, \"od\": \"BFD->VNC\", \"direction\": \"sb\", \"orig_seq\": 0, \"dest_seq\": 3, \"departing_station\": \"0_BFD\", \"distance\": 20}, {\"ca_bus_route\": \"Rt 1C\", \"orig\": \"BFD\", \"dest\": \"VNC\", \"trip_month\": 4, \"trip_year\": 2025, \"ridership\": 518, \"revenue\": 5618.8, \"od\": \"BFD->VNC\", \"direction\": \"sb\", \"orig_seq\": 0, \"dest_seq\": 3, \"departing_station\": \"0_BFD\", \"distance\": 21}, {\"ca_bus_route\": \"Rt 1C\", \"orig\": \"BFD\", \"dest\": \"VNC\", \"trip_month\": 4, \"trip_year\": 2025, \"ridership\": 518, \"revenue\": 5618.8, \"od\": \"BFD->VNC\", \"direction\": \"sb\", \"orig_seq\": 0, \"dest_seq\": 3, \"departing_station\": \"0_BFD\", \"distance\": 22}, {\"ca_bus_route\": \"Rt 1C\", \"orig\": \"BFD\", \"dest\": \"VNC\", \"trip_month\": 4, \"trip_year\": 2025, \"ridership\": 518, \"revenue\": 5618.8, \"od\": \"BFD->VNC\", \"direction\": \"sb\", \"orig_seq\": 0, \"dest_seq\": 3, \"departing_station\": \"0_BFD\", \"distance\": 23}, {\"ca_bus_route\": \"Rt 1C\", \"orig\": \"BFD\", \"dest\": \"VNC\", \"trip_month\": 4, \"trip_year\": 2025, \"ridership\": 518, \"revenue\": 5618.8, \"od\": \"BFD->VNC\", \"direction\": \"sb\", \"orig_seq\": 0, \"dest_seq\": 3, \"departing_station\": \"0_BFD\", \"distance\": 24}, {\"ca_bus_route\": \"Rt 1C\", \"orig\": \"BFD\", \"dest\": \"VNC\", \"trip_month\": 4, \"trip_year\": 2025, \"ridership\": 518, \"revenue\": 5618.8, \"od\": \"BFD->VNC\", \"direction\": \"sb\", \"orig_seq\": 0, \"dest_seq\": 3, \"departing_station\": \"0_BFD\", \"distance\": 25}, {\"ca_bus_route\": \"Rt 1C\", \"orig\": \"BFD\", \"dest\": \"VNC\", \"trip_month\": 4, \"trip_year\": 2025, \"ridership\": 518, \"revenue\": 5618.8, \"od\": \"BFD->VNC\", \"direction\": \"sb\", \"orig_seq\": 0, \"dest_seq\": 3, \"departing_station\": \"0_BFD\", \"distance\": 26}, {\"ca_bus_route\": \"Rt 1C\", \"orig\": \"BFD\", \"dest\": \"VNC\", \"trip_month\": 4, \"trip_year\": 2025, \"ridership\": 518, \"revenue\": 5618.8, \"od\": \"BFD->VNC\", \"direction\": \"sb\", \"orig_seq\": 0, \"dest_seq\": 3, \"departing_station\": \"0_BFD\", \"distance\": 27}, {\"ca_bus_route\": \"Rt 1C\", \"orig\": \"BFD\", \"dest\": \"VNC\", \"trip_month\": 4, \"trip_year\": 2025, \"ridership\": 518, \"revenue\": 5618.8, \"od\": \"BFD->VNC\", \"direction\": \"sb\", \"orig_seq\": 0, \"dest_seq\": 3, \"departing_station\": \"0_BFD\", \"distance\": 28}, {\"ca_bus_route\": \"Rt 1C\", \"orig\": \"BFD\", \"dest\": \"VNC\", \"trip_month\": 4, \"trip_year\": 2025, \"ridership\": 518, \"revenue\": 5618.8, \"od\": \"BFD->VNC\", \"direction\": \"sb\", \"orig_seq\": 0, \"dest_seq\": 3, \"departing_station\": \"0_BFD\", \"distance\": 29}, {\"ca_bus_route\": \"Rt 1C\", \"orig\": \"BFD\", \"dest\": \"VNC\", \"trip_month\": 4, \"trip_year\": 2025, \"ridership\": 518, \"revenue\": 5618.8, \"od\": \"BFD->VNC\", \"direction\": \"sb\", \"orig_seq\": 0, \"dest_seq\": 3, \"departing_station\": \"0_BFD\", \"distance\": 30}, {\"ca_bus_route\": \"Rt 1C\", \"orig\": \"BFD\", \"dest\": \"VNC\", \"trip_month\": 4, \"trip_year\": 2025, \"ridership\": 518, \"revenue\": 5618.8, \"od\": \"BFD->VNC\", \"direction\": \"sb\", \"orig_seq\": 0, \"dest_seq\": 3, \"departing_station\": \"0_BFD\", \"distance\": 31}, {\"ca_bus_route\": \"Rt 1C\", \"orig\": \"BFD\", \"dest\": \"VNC\", \"trip_month\": 4, \"trip_year\": 2025, \"ridership\": 518, \"revenue\": 5618.8, \"od\": \"BFD->VNC\", \"direction\": \"sb\", \"orig_seq\": 0, \"dest_seq\": 3, \"departing_station\": \"0_BFD\", \"distance\": 32}, {\"ca_bus_route\": \"Rt 1C\", \"orig\": \"BFD\", \"dest\": \"VNC\", \"trip_month\": 4, \"trip_year\": 2025, \"ridership\": 518, \"revenue\": 5618.8, \"od\": \"BFD->VNC\", \"direction\": \"sb\", \"orig_seq\": 0, \"dest_seq\": 3, \"departing_station\": \"0_BFD\", \"distance\": 33}, {\"ca_bus_route\": \"Rt 1C\", \"orig\": \"BFD\", \"dest\": \"VNC\", \"trip_month\": 4, \"trip_year\": 2025, \"ridership\": 518, \"revenue\": 5618.8, \"od\": \"BFD->VNC\", \"direction\": \"sb\", \"orig_seq\": 0, \"dest_seq\": 3, \"departing_station\": \"0_BFD\", \"distance\": 34}, {\"ca_bus_route\": \"Rt 1C\", \"orig\": \"BFD\", \"dest\": \"VNC\", \"trip_month\": 4, \"trip_year\": 2025, \"ridership\": 518, \"revenue\": 5618.8, \"od\": \"BFD->VNC\", \"direction\": \"sb\", \"orig_seq\": 0, \"dest_seq\": 3, \"departing_station\": \"0_BFD\", \"distance\": 35}, {\"ca_bus_route\": \"Rt 1C\", \"orig\": \"BFD\", \"dest\": \"VNC\", \"trip_month\": 4, \"trip_year\": 2025, \"ridership\": 518, \"revenue\": 5618.8, \"od\": \"BFD->VNC\", \"direction\": \"sb\", \"orig_seq\": 0, \"dest_seq\": 3, \"departing_station\": \"0_BFD\", \"distance\": 36}, {\"ca_bus_route\": \"Rt 1C\", \"orig\": \"BFD\", \"dest\": \"VNC\", \"trip_month\": 4, \"trip_year\": 2025, \"ridership\": 518, \"revenue\": 5618.8, \"od\": \"BFD->VNC\", \"direction\": \"sb\", \"orig_seq\": 0, \"dest_seq\": 3, \"departing_station\": \"0_BFD\", \"distance\": 37}, {\"ca_bus_route\": \"Rt 1C\", \"orig\": \"BFD\", \"dest\": \"VNC\", \"trip_month\": 4, \"trip_year\": 2025, \"ridership\": 518, \"revenue\": 5618.8, \"od\": \"BFD->VNC\", \"direction\": \"sb\", \"orig_seq\": 0, \"dest_seq\": 3, \"departing_station\": \"0_BFD\", \"distance\": 38}, {\"ca_bus_route\": \"Rt 1C\", \"orig\": \"BFD\", \"dest\": \"VNC\", \"trip_month\": 4, \"trip_year\": 2025, \"ridership\": 518, \"revenue\": 5618.8, \"od\": \"BFD->VNC\", \"direction\": \"sb\", \"orig_seq\": 0, \"dest_seq\": 3, \"departing_station\": \"0_BFD\", \"distance\": 39}, {\"ca_bus_route\": \"Rt 1C\", \"orig\": \"BFD\", \"dest\": \"VNC\", \"trip_month\": 4, \"trip_year\": 2025, \"ridership\": 518, \"revenue\": 5618.8, \"od\": \"BFD->VNC\", \"direction\": \"sb\", \"orig_seq\": 0, \"dest_seq\": 3, \"departing_station\": \"0_BFD\", \"distance\": 40}, {\"ca_bus_route\": \"Rt 1C\", \"orig\": \"BFD\", \"dest\": \"VNC\", \"trip_month\": 4, \"trip_year\": 2025, \"ridership\": 518, \"revenue\": 5618.8, \"od\": \"BFD->VNC\", \"direction\": \"sb\", \"orig_seq\": 0, \"dest_seq\": 3, \"departing_station\": \"0_BFD\", \"distance\": 41}, {\"ca_bus_route\": \"Rt 1C\", \"orig\": \"BFD\", \"dest\": \"VNC\", \"trip_month\": 4, \"trip_year\": 2025, \"ridership\": 518, \"revenue\": 5618.8, \"od\": \"BFD->VNC\", \"direction\": \"sb\", \"orig_seq\": 0, \"dest_seq\": 3, \"departing_station\": \"0_BFD\", \"distance\": 42}, {\"ca_bus_route\": \"Rt 1C\", \"orig\": \"BFD\", \"dest\": \"VNC\", \"trip_month\": 4, \"trip_year\": 2025, \"ridership\": 518, \"revenue\": 5618.8, \"od\": \"BFD->VNC\", \"direction\": \"sb\", \"orig_seq\": 0, \"dest_seq\": 3, \"departing_station\": \"0_BFD\", \"distance\": 43}, {\"ca_bus_route\": \"Rt 1C\", \"orig\": \"BFD\", \"dest\": \"VNC\", \"trip_month\": 4, \"trip_year\": 2025, \"ridership\": 518, \"revenue\": 5618.8, \"od\": \"BFD->VNC\", \"direction\": \"sb\", \"orig_seq\": 0, \"dest_seq\": 3, \"departing_station\": \"0_BFD\", \"distance\": 44}, {\"ca_bus_route\": \"Rt 1C\", \"orig\": \"BFD\", \"dest\": \"VNC\", \"trip_month\": 4, \"trip_year\": 2025, \"ridership\": 518, \"revenue\": 5618.8, \"od\": \"BFD->VNC\", \"direction\": \"sb\", \"orig_seq\": 0, \"dest_seq\": 3, \"departing_station\": \"0_BFD\", \"distance\": 45}, {\"ca_bus_route\": \"Rt 1C\", \"orig\": \"BFD\", \"dest\": \"VNC\", \"trip_month\": 4, \"trip_year\": 2025, \"ridership\": 518, \"revenue\": 5618.8, \"od\": \"BFD->VNC\", \"direction\": \"sb\", \"orig_seq\": 0, \"dest_seq\": 3, \"departing_station\": \"0_BFD\", \"distance\": 46}, {\"ca_bus_route\": \"Rt 1C\", \"orig\": \"BFD\", \"dest\": \"VNC\", \"trip_month\": 4, \"trip_year\": 2025, \"ridership\": 518, \"revenue\": 5618.8, \"od\": \"BFD->VNC\", \"direction\": \"sb\", \"orig_seq\": 0, \"dest_seq\": 3, \"departing_station\": \"0_BFD\", \"distance\": 47}, {\"ca_bus_route\": \"Rt 1C\", \"orig\": \"BFD\", \"dest\": \"VNC\", \"trip_month\": 4, \"trip_year\": 2025, \"ridership\": 518, \"revenue\": 5618.8, \"od\": \"BFD->VNC\", \"direction\": \"sb\", \"orig_seq\": 0, \"dest_seq\": 3, \"departing_station\": \"0_BFD\", \"distance\": 48}, {\"ca_bus_route\": \"Rt 1C\", \"orig\": \"BFD\", \"dest\": \"VNC\", \"trip_month\": 4, \"trip_year\": 2025, \"ridership\": 518, \"revenue\": 5618.8, \"od\": \"BFD->VNC\", \"direction\": \"sb\", \"orig_seq\": 0, \"dest_seq\": 3, \"departing_station\": \"0_BFD\", \"distance\": 49}, {\"ca_bus_route\": \"Rt 1C\", \"orig\": \"BFD\", \"dest\": \"WES\", \"trip_month\": 4, \"trip_year\": 2025, \"ridership\": 288, \"revenue\": 4948.75, \"od\": \"BFD->WES\", \"direction\": \"sb\", \"orig_seq\": 0, \"dest_seq\": 4, \"departing_station\": \"0_BFD\", \"distance\": 0}, {\"ca_bus_route\": \"Rt 1C\", \"orig\": \"BFD\", \"dest\": \"WES\", \"trip_month\": 4, \"trip_year\": 2025, \"ridership\": 288, \"revenue\": 4948.75, \"od\": \"BFD->WES\", \"direction\": \"sb\", \"orig_seq\": 0, \"dest_seq\": 4, \"departing_station\": \"0_BFD\", \"distance\": 1}, {\"ca_bus_route\": \"Rt 1C\", \"orig\": \"BFD\", \"dest\": \"WES\", \"trip_month\": 4, \"trip_year\": 2025, \"ridership\": 288, \"revenue\": 4948.75, \"od\": \"BFD->WES\", \"direction\": \"sb\", \"orig_seq\": 0, \"dest_seq\": 4, \"departing_station\": \"0_BFD\", \"distance\": 2}, {\"ca_bus_route\": \"Rt 1C\", \"orig\": \"BFD\", \"dest\": \"WES\", \"trip_month\": 4, \"trip_year\": 2025, \"ridership\": 288, \"revenue\": 4948.75, \"od\": \"BFD->WES\", \"direction\": \"sb\", \"orig_seq\": 0, \"dest_seq\": 4, \"departing_station\": \"0_BFD\", \"distance\": 3}, {\"ca_bus_route\": \"Rt 1C\", \"orig\": \"BFD\", \"dest\": \"WES\", \"trip_month\": 4, \"trip_year\": 2025, \"ridership\": 288, \"revenue\": 4948.75, \"od\": \"BFD->WES\", \"direction\": \"sb\", \"orig_seq\": 0, \"dest_seq\": 4, \"departing_station\": \"0_BFD\", \"distance\": 4}, {\"ca_bus_route\": \"Rt 1C\", \"orig\": \"BFD\", \"dest\": \"WES\", \"trip_month\": 4, \"trip_year\": 2025, \"ridership\": 288, \"revenue\": 4948.75, \"od\": \"BFD->WES\", \"direction\": \"sb\", \"orig_seq\": 0, \"dest_seq\": 4, \"departing_station\": \"0_BFD\", \"distance\": 5}, {\"ca_bus_route\": \"Rt 1C\", \"orig\": \"BFD\", \"dest\": \"WES\", \"trip_month\": 4, \"trip_year\": 2025, \"ridership\": 288, \"revenue\": 4948.75, \"od\": \"BFD->WES\", \"direction\": \"sb\", \"orig_seq\": 0, \"dest_seq\": 4, \"departing_station\": \"0_BFD\", \"distance\": 6}, {\"ca_bus_route\": \"Rt 1C\", \"orig\": \"BFD\", \"dest\": \"WES\", \"trip_month\": 4, \"trip_year\": 2025, \"ridership\": 288, \"revenue\": 4948.75, \"od\": \"BFD->WES\", \"direction\": \"sb\", \"orig_seq\": 0, \"dest_seq\": 4, \"departing_station\": \"0_BFD\", \"distance\": 7}, {\"ca_bus_route\": \"Rt 1C\", \"orig\": \"BFD\", \"dest\": \"WES\", \"trip_month\": 4, \"trip_year\": 2025, \"ridership\": 288, \"revenue\": 4948.75, \"od\": \"BFD->WES\", \"direction\": \"sb\", \"orig_seq\": 0, \"dest_seq\": 4, \"departing_station\": \"0_BFD\", \"distance\": 8}, {\"ca_bus_route\": \"Rt 1C\", \"orig\": \"BFD\", \"dest\": \"WES\", \"trip_month\": 4, \"trip_year\": 2025, \"ridership\": 288, \"revenue\": 4948.75, \"od\": \"BFD->WES\", \"direction\": \"sb\", \"orig_seq\": 0, \"dest_seq\": 4, \"departing_station\": \"0_BFD\", \"distance\": 9}, {\"ca_bus_route\": \"Rt 1C\", \"orig\": \"BFD\", \"dest\": \"WES\", \"trip_month\": 4, \"trip_year\": 2025, \"ridership\": 288, \"revenue\": 4948.75, \"od\": \"BFD->WES\", \"direction\": \"sb\", \"orig_seq\": 0, \"dest_seq\": 4, \"departing_station\": \"0_BFD\", \"distance\": 10}, {\"ca_bus_route\": \"Rt 1C\", \"orig\": \"BFD\", \"dest\": \"WES\", \"trip_month\": 4, \"trip_year\": 2025, \"ridership\": 288, \"revenue\": 4948.75, \"od\": \"BFD->WES\", \"direction\": \"sb\", \"orig_seq\": 0, \"dest_seq\": 4, \"departing_station\": \"0_BFD\", \"distance\": 11}, {\"ca_bus_route\": \"Rt 1C\", \"orig\": \"BFD\", \"dest\": \"WES\", \"trip_month\": 4, \"trip_year\": 2025, \"ridership\": 288, \"revenue\": 4948.75, \"od\": \"BFD->WES\", \"direction\": \"sb\", \"orig_seq\": 0, \"dest_seq\": 4, \"departing_station\": \"0_BFD\", \"distance\": 12}, {\"ca_bus_route\": \"Rt 1C\", \"orig\": \"BFD\", \"dest\": \"WES\", \"trip_month\": 4, \"trip_year\": 2025, \"ridership\": 288, \"revenue\": 4948.75, \"od\": \"BFD->WES\", \"direction\": \"sb\", \"orig_seq\": 0, \"dest_seq\": 4, \"departing_station\": \"0_BFD\", \"distance\": 13}, {\"ca_bus_route\": \"Rt 1C\", \"orig\": \"BFD\", \"dest\": \"WES\", \"trip_month\": 4, \"trip_year\": 2025, \"ridership\": 288, \"revenue\": 4948.75, \"od\": \"BFD->WES\", \"direction\": \"sb\", \"orig_seq\": 0, \"dest_seq\": 4, \"departing_station\": \"0_BFD\", \"distance\": 14}, {\"ca_bus_route\": \"Rt 1C\", \"orig\": \"BFD\", \"dest\": \"WES\", \"trip_month\": 4, \"trip_year\": 2025, \"ridership\": 288, \"revenue\": 4948.75, \"od\": \"BFD->WES\", \"direction\": \"sb\", \"orig_seq\": 0, \"dest_seq\": 4, \"departing_station\": \"0_BFD\", \"distance\": 15}, {\"ca_bus_route\": \"Rt 1C\", \"orig\": \"BFD\", \"dest\": \"WES\", \"trip_month\": 4, \"trip_year\": 2025, \"ridership\": 288, \"revenue\": 4948.75, \"od\": \"BFD->WES\", \"direction\": \"sb\", \"orig_seq\": 0, \"dest_seq\": 4, \"departing_station\": \"0_BFD\", \"distance\": 16}, {\"ca_bus_route\": \"Rt 1C\", \"orig\": \"BFD\", \"dest\": \"WES\", \"trip_month\": 4, \"trip_year\": 2025, \"ridership\": 288, \"revenue\": 4948.75, \"od\": \"BFD->WES\", \"direction\": \"sb\", \"orig_seq\": 0, \"dest_seq\": 4, \"departing_station\": \"0_BFD\", \"distance\": 17}, {\"ca_bus_route\": \"Rt 1C\", \"orig\": \"BFD\", \"dest\": \"WES\", \"trip_month\": 4, \"trip_year\": 2025, \"ridership\": 288, \"revenue\": 4948.75, \"od\": \"BFD->WES\", \"direction\": \"sb\", \"orig_seq\": 0, \"dest_seq\": 4, \"departing_station\": \"0_BFD\", \"distance\": 18}, {\"ca_bus_route\": \"Rt 1C\", \"orig\": \"BFD\", \"dest\": \"WES\", \"trip_month\": 4, \"trip_year\": 2025, \"ridership\": 288, \"revenue\": 4948.75, \"od\": \"BFD->WES\", \"direction\": \"sb\", \"orig_seq\": 0, \"dest_seq\": 4, \"departing_station\": \"0_BFD\", \"distance\": 19}, {\"ca_bus_route\": \"Rt 1C\", \"orig\": \"BFD\", \"dest\": \"WES\", \"trip_month\": 4, \"trip_year\": 2025, \"ridership\": 288, \"revenue\": 4948.75, \"od\": \"BFD->WES\", \"direction\": \"sb\", \"orig_seq\": 0, \"dest_seq\": 4, \"departing_station\": \"0_BFD\", \"distance\": 20}, {\"ca_bus_route\": \"Rt 1C\", \"orig\": \"BFD\", \"dest\": \"WES\", \"trip_month\": 4, \"trip_year\": 2025, \"ridership\": 288, \"revenue\": 4948.75, \"od\": \"BFD->WES\", \"direction\": \"sb\", \"orig_seq\": 0, \"dest_seq\": 4, \"departing_station\": \"0_BFD\", \"distance\": 21}, {\"ca_bus_route\": \"Rt 1C\", \"orig\": \"BFD\", \"dest\": \"WES\", \"trip_month\": 4, \"trip_year\": 2025, \"ridership\": 288, \"revenue\": 4948.75, \"od\": \"BFD->WES\", \"direction\": \"sb\", \"orig_seq\": 0, \"dest_seq\": 4, \"departing_station\": \"0_BFD\", \"distance\": 22}, {\"ca_bus_route\": \"Rt 1C\", \"orig\": \"BFD\", \"dest\": \"WES\", \"trip_month\": 4, \"trip_year\": 2025, \"ridership\": 288, \"revenue\": 4948.75, \"od\": \"BFD->WES\", \"direction\": \"sb\", \"orig_seq\": 0, \"dest_seq\": 4, \"departing_station\": \"0_BFD\", \"distance\": 23}, {\"ca_bus_route\": \"Rt 1C\", \"orig\": \"BFD\", \"dest\": \"WES\", \"trip_month\": 4, \"trip_year\": 2025, \"ridership\": 288, \"revenue\": 4948.75, \"od\": \"BFD->WES\", \"direction\": \"sb\", \"orig_seq\": 0, \"dest_seq\": 4, \"departing_station\": \"0_BFD\", \"distance\": 24}, {\"ca_bus_route\": \"Rt 1C\", \"orig\": \"BFD\", \"dest\": \"WES\", \"trip_month\": 4, \"trip_year\": 2025, \"ridership\": 288, \"revenue\": 4948.75, \"od\": \"BFD->WES\", \"direction\": \"sb\", \"orig_seq\": 0, \"dest_seq\": 4, \"departing_station\": \"0_BFD\", \"distance\": 25}, {\"ca_bus_route\": \"Rt 1C\", \"orig\": \"BFD\", \"dest\": \"WES\", \"trip_month\": 4, \"trip_year\": 2025, \"ridership\": 288, \"revenue\": 4948.75, \"od\": \"BFD->WES\", \"direction\": \"sb\", \"orig_seq\": 0, \"dest_seq\": 4, \"departing_station\": \"0_BFD\", \"distance\": 26}, {\"ca_bus_route\": \"Rt 1C\", \"orig\": \"BFD\", \"dest\": \"WES\", \"trip_month\": 4, \"trip_year\": 2025, \"ridership\": 288, \"revenue\": 4948.75, \"od\": \"BFD->WES\", \"direction\": \"sb\", \"orig_seq\": 0, \"dest_seq\": 4, \"departing_station\": \"0_BFD\", \"distance\": 27}, {\"ca_bus_route\": \"Rt 1C\", \"orig\": \"BFD\", \"dest\": \"WES\", \"trip_month\": 4, \"trip_year\": 2025, \"ridership\": 288, \"revenue\": 4948.75, \"od\": \"BFD->WES\", \"direction\": \"sb\", \"orig_seq\": 0, \"dest_seq\": 4, \"departing_station\": \"0_BFD\", \"distance\": 28}, {\"ca_bus_route\": \"Rt 1C\", \"orig\": \"BFD\", \"dest\": \"WES\", \"trip_month\": 4, \"trip_year\": 2025, \"ridership\": 288, \"revenue\": 4948.75, \"od\": \"BFD->WES\", \"direction\": \"sb\", \"orig_seq\": 0, \"dest_seq\": 4, \"departing_station\": \"0_BFD\", \"distance\": 29}, {\"ca_bus_route\": \"Rt 1C\", \"orig\": \"BFD\", \"dest\": \"WES\", \"trip_month\": 4, \"trip_year\": 2025, \"ridership\": 288, \"revenue\": 4948.75, \"od\": \"BFD->WES\", \"direction\": \"sb\", \"orig_seq\": 0, \"dest_seq\": 4, \"departing_station\": \"0_BFD\", \"distance\": 30}, {\"ca_bus_route\": \"Rt 1C\", \"orig\": \"BFD\", \"dest\": \"WES\", \"trip_month\": 4, \"trip_year\": 2025, \"ridership\": 288, \"revenue\": 4948.75, \"od\": \"BFD->WES\", \"direction\": \"sb\", \"orig_seq\": 0, \"dest_seq\": 4, \"departing_station\": \"0_BFD\", \"distance\": 31}, {\"ca_bus_route\": \"Rt 1C\", \"orig\": \"BFD\", \"dest\": \"WES\", \"trip_month\": 4, \"trip_year\": 2025, \"ridership\": 288, \"revenue\": 4948.75, \"od\": \"BFD->WES\", \"direction\": \"sb\", \"orig_seq\": 0, \"dest_seq\": 4, \"departing_station\": \"0_BFD\", \"distance\": 32}, {\"ca_bus_route\": \"Rt 1C\", \"orig\": \"BFD\", \"dest\": \"WES\", \"trip_month\": 4, \"trip_year\": 2025, \"ridership\": 288, \"revenue\": 4948.75, \"od\": \"BFD->WES\", \"direction\": \"sb\", \"orig_seq\": 0, \"dest_seq\": 4, \"departing_station\": \"0_BFD\", \"distance\": 33}, {\"ca_bus_route\": \"Rt 1C\", \"orig\": \"BFD\", \"dest\": \"WES\", \"trip_month\": 4, \"trip_year\": 2025, \"ridership\": 288, \"revenue\": 4948.75, \"od\": \"BFD->WES\", \"direction\": \"sb\", \"orig_seq\": 0, \"dest_seq\": 4, \"departing_station\": \"0_BFD\", \"distance\": 34}, {\"ca_bus_route\": \"Rt 1C\", \"orig\": \"BFD\", \"dest\": \"WES\", \"trip_month\": 4, \"trip_year\": 2025, \"ridership\": 288, \"revenue\": 4948.75, \"od\": \"BFD->WES\", \"direction\": \"sb\", \"orig_seq\": 0, \"dest_seq\": 4, \"departing_station\": \"0_BFD\", \"distance\": 35}, {\"ca_bus_route\": \"Rt 1C\", \"orig\": \"BFD\", \"dest\": \"WES\", \"trip_month\": 4, \"trip_year\": 2025, \"ridership\": 288, \"revenue\": 4948.75, \"od\": \"BFD->WES\", \"direction\": \"sb\", \"orig_seq\": 0, \"dest_seq\": 4, \"departing_station\": \"0_BFD\", \"distance\": 36}, {\"ca_bus_route\": \"Rt 1C\", \"orig\": \"BFD\", \"dest\": \"WES\", \"trip_month\": 4, \"trip_year\": 2025, \"ridership\": 288, \"revenue\": 4948.75, \"od\": \"BFD->WES\", \"direction\": \"sb\", \"orig_seq\": 0, \"dest_seq\": 4, \"departing_station\": \"0_BFD\", \"distance\": 37}, {\"ca_bus_route\": \"Rt 1C\", \"orig\": \"BFD\", \"dest\": \"WES\", \"trip_month\": 4, \"trip_year\": 2025, \"ridership\": 288, \"revenue\": 4948.75, \"od\": \"BFD->WES\", \"direction\": \"sb\", \"orig_seq\": 0, \"dest_seq\": 4, \"departing_station\": \"0_BFD\", \"distance\": 38}, {\"ca_bus_route\": \"Rt 1C\", \"orig\": \"BFD\", \"dest\": \"WES\", \"trip_month\": 4, \"trip_year\": 2025, \"ridership\": 288, \"revenue\": 4948.75, \"od\": \"BFD->WES\", \"direction\": \"sb\", \"orig_seq\": 0, \"dest_seq\": 4, \"departing_station\": \"0_BFD\", \"distance\": 39}, {\"ca_bus_route\": \"Rt 1C\", \"orig\": \"BFD\", \"dest\": \"WES\", \"trip_month\": 4, \"trip_year\": 2025, \"ridership\": 288, \"revenue\": 4948.75, \"od\": \"BFD->WES\", \"direction\": \"sb\", \"orig_seq\": 0, \"dest_seq\": 4, \"departing_station\": \"0_BFD\", \"distance\": 40}, {\"ca_bus_route\": \"Rt 1C\", \"orig\": \"BFD\", \"dest\": \"WES\", \"trip_month\": 4, \"trip_year\": 2025, \"ridership\": 288, \"revenue\": 4948.75, \"od\": \"BFD->WES\", \"direction\": \"sb\", \"orig_seq\": 0, \"dest_seq\": 4, \"departing_station\": \"0_BFD\", \"distance\": 41}, {\"ca_bus_route\": \"Rt 1C\", \"orig\": \"BFD\", \"dest\": \"WES\", \"trip_month\": 4, \"trip_year\": 2025, \"ridership\": 288, \"revenue\": 4948.75, \"od\": \"BFD->WES\", \"direction\": \"sb\", \"orig_seq\": 0, \"dest_seq\": 4, \"departing_station\": \"0_BFD\", \"distance\": 42}, {\"ca_bus_route\": \"Rt 1C\", \"orig\": \"BFD\", \"dest\": \"WES\", \"trip_month\": 4, \"trip_year\": 2025, \"ridership\": 288, \"revenue\": 4948.75, \"od\": \"BFD->WES\", \"direction\": \"sb\", \"orig_seq\": 0, \"dest_seq\": 4, \"departing_station\": \"0_BFD\", \"distance\": 43}, {\"ca_bus_route\": \"Rt 1C\", \"orig\": \"BFD\", \"dest\": \"WES\", \"trip_month\": 4, \"trip_year\": 2025, \"ridership\": 288, \"revenue\": 4948.75, \"od\": \"BFD->WES\", \"direction\": \"sb\", \"orig_seq\": 0, \"dest_seq\": 4, \"departing_station\": \"0_BFD\", \"distance\": 44}, {\"ca_bus_route\": \"Rt 1C\", \"orig\": \"BFD\", \"dest\": \"WES\", \"trip_month\": 4, \"trip_year\": 2025, \"ridership\": 288, \"revenue\": 4948.75, \"od\": \"BFD->WES\", \"direction\": \"sb\", \"orig_seq\": 0, \"dest_seq\": 4, \"departing_station\": \"0_BFD\", \"distance\": 45}, {\"ca_bus_route\": \"Rt 1C\", \"orig\": \"BFD\", \"dest\": \"WES\", \"trip_month\": 4, \"trip_year\": 2025, \"ridership\": 288, \"revenue\": 4948.75, \"od\": \"BFD->WES\", \"direction\": \"sb\", \"orig_seq\": 0, \"dest_seq\": 4, \"departing_station\": \"0_BFD\", \"distance\": 46}, {\"ca_bus_route\": \"Rt 1C\", \"orig\": \"BFD\", \"dest\": \"WES\", \"trip_month\": 4, \"trip_year\": 2025, \"ridership\": 288, \"revenue\": 4948.75, \"od\": \"BFD->WES\", \"direction\": \"sb\", \"orig_seq\": 0, \"dest_seq\": 4, \"departing_station\": \"0_BFD\", \"distance\": 47}, {\"ca_bus_route\": \"Rt 1C\", \"orig\": \"BFD\", \"dest\": \"WES\", \"trip_month\": 4, \"trip_year\": 2025, \"ridership\": 288, \"revenue\": 4948.75, \"od\": \"BFD->WES\", \"direction\": \"sb\", \"orig_seq\": 0, \"dest_seq\": 4, \"departing_station\": \"0_BFD\", \"distance\": 48}, {\"ca_bus_route\": \"Rt 1C\", \"orig\": \"BFD\", \"dest\": \"WES\", \"trip_month\": 4, \"trip_year\": 2025, \"ridership\": 288, \"revenue\": 4948.75, \"od\": \"BFD->WES\", \"direction\": \"sb\", \"orig_seq\": 0, \"dest_seq\": 4, \"departing_station\": \"0_BFD\", \"distance\": 49}, {\"ca_bus_route\": \"Rt 1C\", \"orig\": \"BFD\", \"dest\": \"BUR\", \"trip_month\": 4, \"trip_year\": 2025, \"ridership\": 231, \"revenue\": 3278.95, \"od\": \"BFD->BUR\", \"direction\": \"sb\", \"orig_seq\": 0, \"dest_seq\": 2, \"departing_station\": \"1_NHL\", \"distance\": 50}, {\"ca_bus_route\": \"Rt 1C\", \"orig\": \"BFD\", \"dest\": \"BUR\", \"trip_month\": 4, \"trip_year\": 2025, \"ridership\": 231, \"revenue\": 3278.95, \"od\": \"BFD->BUR\", \"direction\": \"sb\", \"orig_seq\": 0, \"dest_seq\": 2, \"departing_station\": \"1_NHL\", \"distance\": 51}, {\"ca_bus_route\": \"Rt 1C\", \"orig\": \"BFD\", \"dest\": \"BUR\", \"trip_month\": 4, \"trip_year\": 2025, \"ridership\": 231, \"revenue\": 3278.95, \"od\": \"BFD->BUR\", \"direction\": \"sb\", \"orig_seq\": 0, \"dest_seq\": 2, \"departing_station\": \"1_NHL\", \"distance\": 52}, {\"ca_bus_route\": \"Rt 1C\", \"orig\": \"BFD\", \"dest\": \"BUR\", \"trip_month\": 4, \"trip_year\": 2025, \"ridership\": 231, \"revenue\": 3278.95, \"od\": \"BFD->BUR\", \"direction\": \"sb\", \"orig_seq\": 0, \"dest_seq\": 2, \"departing_station\": \"1_NHL\", \"distance\": 53}, {\"ca_bus_route\": \"Rt 1C\", \"orig\": \"BFD\", \"dest\": \"BUR\", \"trip_month\": 4, \"trip_year\": 2025, \"ridership\": 231, \"revenue\": 3278.95, \"od\": \"BFD->BUR\", \"direction\": \"sb\", \"orig_seq\": 0, \"dest_seq\": 2, \"departing_station\": \"1_NHL\", \"distance\": 54}, {\"ca_bus_route\": \"Rt 1C\", \"orig\": \"BFD\", \"dest\": \"BUR\", \"trip_month\": 4, \"trip_year\": 2025, \"ridership\": 231, \"revenue\": 3278.95, \"od\": \"BFD->BUR\", \"direction\": \"sb\", \"orig_seq\": 0, \"dest_seq\": 2, \"departing_station\": \"1_NHL\", \"distance\": 55}, {\"ca_bus_route\": \"Rt 1C\", \"orig\": \"BFD\", \"dest\": \"BUR\", \"trip_month\": 4, \"trip_year\": 2025, \"ridership\": 231, \"revenue\": 3278.95, \"od\": \"BFD->BUR\", \"direction\": \"sb\", \"orig_seq\": 0, \"dest_seq\": 2, \"departing_station\": \"1_NHL\", \"distance\": 56}, {\"ca_bus_route\": \"Rt 1C\", \"orig\": \"BFD\", \"dest\": \"BUR\", \"trip_month\": 4, \"trip_year\": 2025, \"ridership\": 231, \"revenue\": 3278.95, \"od\": \"BFD->BUR\", \"direction\": \"sb\", \"orig_seq\": 0, \"dest_seq\": 2, \"departing_station\": \"1_NHL\", \"distance\": 57}, {\"ca_bus_route\": \"Rt 1C\", \"orig\": \"BFD\", \"dest\": \"BUR\", \"trip_month\": 4, \"trip_year\": 2025, \"ridership\": 231, \"revenue\": 3278.95, \"od\": \"BFD->BUR\", \"direction\": \"sb\", \"orig_seq\": 0, \"dest_seq\": 2, \"departing_station\": \"1_NHL\", \"distance\": 58}, {\"ca_bus_route\": \"Rt 1C\", \"orig\": \"BFD\", \"dest\": \"BUR\", \"trip_month\": 4, \"trip_year\": 2025, \"ridership\": 231, \"revenue\": 3278.95, \"od\": \"BFD->BUR\", \"direction\": \"sb\", \"orig_seq\": 0, \"dest_seq\": 2, \"departing_station\": \"1_NHL\", \"distance\": 59}, {\"ca_bus_route\": \"Rt 1C\", \"orig\": \"BFD\", \"dest\": \"BUR\", \"trip_month\": 4, \"trip_year\": 2025, \"ridership\": 231, \"revenue\": 3278.95, \"od\": \"BFD->BUR\", \"direction\": \"sb\", \"orig_seq\": 0, \"dest_seq\": 2, \"departing_station\": \"1_NHL\", \"distance\": 60}, {\"ca_bus_route\": \"Rt 1C\", \"orig\": \"BFD\", \"dest\": \"BUR\", \"trip_month\": 4, \"trip_year\": 2025, \"ridership\": 231, \"revenue\": 3278.95, \"od\": \"BFD->BUR\", \"direction\": \"sb\", \"orig_seq\": 0, \"dest_seq\": 2, \"departing_station\": \"1_NHL\", \"distance\": 61}, {\"ca_bus_route\": \"Rt 1C\", \"orig\": \"BFD\", \"dest\": \"BUR\", \"trip_month\": 4, \"trip_year\": 2025, \"ridership\": 231, \"revenue\": 3278.95, \"od\": \"BFD->BUR\", \"direction\": \"sb\", \"orig_seq\": 0, \"dest_seq\": 2, \"departing_station\": \"1_NHL\", \"distance\": 62}, {\"ca_bus_route\": \"Rt 1C\", \"orig\": \"BFD\", \"dest\": \"BUR\", \"trip_month\": 4, \"trip_year\": 2025, \"ridership\": 231, \"revenue\": 3278.95, \"od\": \"BFD->BUR\", \"direction\": \"sb\", \"orig_seq\": 0, \"dest_seq\": 2, \"departing_station\": \"1_NHL\", \"distance\": 63}, {\"ca_bus_route\": \"Rt 1C\", \"orig\": \"BFD\", \"dest\": \"BUR\", \"trip_month\": 4, \"trip_year\": 2025, \"ridership\": 231, \"revenue\": 3278.95, \"od\": \"BFD->BUR\", \"direction\": \"sb\", \"orig_seq\": 0, \"dest_seq\": 2, \"departing_station\": \"1_NHL\", \"distance\": 64}, {\"ca_bus_route\": \"Rt 1C\", \"orig\": \"BFD\", \"dest\": \"BUR\", \"trip_month\": 4, \"trip_year\": 2025, \"ridership\": 231, \"revenue\": 3278.95, \"od\": \"BFD->BUR\", \"direction\": \"sb\", \"orig_seq\": 0, \"dest_seq\": 2, \"departing_station\": \"1_NHL\", \"distance\": 65}, {\"ca_bus_route\": \"Rt 1C\", \"orig\": \"BFD\", \"dest\": \"BUR\", \"trip_month\": 4, \"trip_year\": 2025, \"ridership\": 231, \"revenue\": 3278.95, \"od\": \"BFD->BUR\", \"direction\": \"sb\", \"orig_seq\": 0, \"dest_seq\": 2, \"departing_station\": \"1_NHL\", \"distance\": 66}, {\"ca_bus_route\": \"Rt 1C\", \"orig\": \"BFD\", \"dest\": \"BUR\", \"trip_month\": 4, \"trip_year\": 2025, \"ridership\": 231, \"revenue\": 3278.95, \"od\": \"BFD->BUR\", \"direction\": \"sb\", \"orig_seq\": 0, \"dest_seq\": 2, \"departing_station\": \"1_NHL\", \"distance\": 67}, {\"ca_bus_route\": \"Rt 1C\", \"orig\": \"BFD\", \"dest\": \"BUR\", \"trip_month\": 4, \"trip_year\": 2025, \"ridership\": 231, \"revenue\": 3278.95, \"od\": \"BFD->BUR\", \"direction\": \"sb\", \"orig_seq\": 0, \"dest_seq\": 2, \"departing_station\": \"1_NHL\", \"distance\": 68}, {\"ca_bus_route\": \"Rt 1C\", \"orig\": \"BFD\", \"dest\": \"BUR\", \"trip_month\": 4, \"trip_year\": 2025, \"ridership\": 231, \"revenue\": 3278.95, \"od\": \"BFD->BUR\", \"direction\": \"sb\", \"orig_seq\": 0, \"dest_seq\": 2, \"departing_station\": \"1_NHL\", \"distance\": 69}, {\"ca_bus_route\": \"Rt 1C\", \"orig\": \"BFD\", \"dest\": \"BUR\", \"trip_month\": 4, \"trip_year\": 2025, \"ridership\": 231, \"revenue\": 3278.95, \"od\": \"BFD->BUR\", \"direction\": \"sb\", \"orig_seq\": 0, \"dest_seq\": 2, \"departing_station\": \"1_NHL\", \"distance\": 70}, {\"ca_bus_route\": \"Rt 1C\", \"orig\": \"BFD\", \"dest\": \"BUR\", \"trip_month\": 4, \"trip_year\": 2025, \"ridership\": 231, \"revenue\": 3278.95, \"od\": \"BFD->BUR\", \"direction\": \"sb\", \"orig_seq\": 0, \"dest_seq\": 2, \"departing_station\": \"1_NHL\", \"distance\": 71}, {\"ca_bus_route\": \"Rt 1C\", \"orig\": \"BFD\", \"dest\": \"BUR\", \"trip_month\": 4, \"trip_year\": 2025, \"ridership\": 231, \"revenue\": 3278.95, \"od\": \"BFD->BUR\", \"direction\": \"sb\", \"orig_seq\": 0, \"dest_seq\": 2, \"departing_station\": \"1_NHL\", \"distance\": 72}, {\"ca_bus_route\": \"Rt 1C\", \"orig\": \"BFD\", \"dest\": \"BUR\", \"trip_month\": 4, \"trip_year\": 2025, \"ridership\": 231, \"revenue\": 3278.95, \"od\": \"BFD->BUR\", \"direction\": \"sb\", \"orig_seq\": 0, \"dest_seq\": 2, \"departing_station\": \"1_NHL\", \"distance\": 73}, {\"ca_bus_route\": \"Rt 1C\", \"orig\": \"BFD\", \"dest\": \"BUR\", \"trip_month\": 4, \"trip_year\": 2025, \"ridership\": 231, \"revenue\": 3278.95, \"od\": \"BFD->BUR\", \"direction\": \"sb\", \"orig_seq\": 0, \"dest_seq\": 2, \"departing_station\": \"1_NHL\", \"distance\": 74}, {\"ca_bus_route\": \"Rt 1C\", \"orig\": \"BFD\", \"dest\": \"SMN\", \"trip_month\": 4, \"trip_year\": 2025, \"ridership\": 51, \"revenue\": 829.34, \"od\": \"BFD->SMN\", \"direction\": \"sb\", \"orig_seq\": 0, \"dest_seq\": 5, \"departing_station\": \"1_NHL\", \"distance\": 50}, {\"ca_bus_route\": \"Rt 1C\", \"orig\": \"BFD\", \"dest\": \"SMN\", \"trip_month\": 4, \"trip_year\": 2025, \"ridership\": 51, \"revenue\": 829.34, \"od\": \"BFD->SMN\", \"direction\": \"sb\", \"orig_seq\": 0, \"dest_seq\": 5, \"departing_station\": \"1_NHL\", \"distance\": 51}, {\"ca_bus_route\": \"Rt 1C\", \"orig\": \"BFD\", \"dest\": \"SMN\", \"trip_month\": 4, \"trip_year\": 2025, \"ridership\": 51, \"revenue\": 829.34, \"od\": \"BFD->SMN\", \"direction\": \"sb\", \"orig_seq\": 0, \"dest_seq\": 5, \"departing_station\": \"1_NHL\", \"distance\": 52}, {\"ca_bus_route\": \"Rt 1C\", \"orig\": \"BFD\", \"dest\": \"SMN\", \"trip_month\": 4, \"trip_year\": 2025, \"ridership\": 51, \"revenue\": 829.34, \"od\": \"BFD->SMN\", \"direction\": \"sb\", \"orig_seq\": 0, \"dest_seq\": 5, \"departing_station\": \"1_NHL\", \"distance\": 53}, {\"ca_bus_route\": \"Rt 1C\", \"orig\": \"BFD\", \"dest\": \"SMN\", \"trip_month\": 4, \"trip_year\": 2025, \"ridership\": 51, \"revenue\": 829.34, \"od\": \"BFD->SMN\", \"direction\": \"sb\", \"orig_seq\": 0, \"dest_seq\": 5, \"departing_station\": \"1_NHL\", \"distance\": 54}, {\"ca_bus_route\": \"Rt 1C\", \"orig\": \"BFD\", \"dest\": \"SMN\", \"trip_month\": 4, \"trip_year\": 2025, \"ridership\": 51, \"revenue\": 829.34, \"od\": \"BFD->SMN\", \"direction\": \"sb\", \"orig_seq\": 0, \"dest_seq\": 5, \"departing_station\": \"1_NHL\", \"distance\": 55}, {\"ca_bus_route\": \"Rt 1C\", \"orig\": \"BFD\", \"dest\": \"SMN\", \"trip_month\": 4, \"trip_year\": 2025, \"ridership\": 51, \"revenue\": 829.34, \"od\": \"BFD->SMN\", \"direction\": \"sb\", \"orig_seq\": 0, \"dest_seq\": 5, \"departing_station\": \"1_NHL\", \"distance\": 56}, {\"ca_bus_route\": \"Rt 1C\", \"orig\": \"BFD\", \"dest\": \"SMN\", \"trip_month\": 4, \"trip_year\": 2025, \"ridership\": 51, \"revenue\": 829.34, \"od\": \"BFD->SMN\", \"direction\": \"sb\", \"orig_seq\": 0, \"dest_seq\": 5, \"departing_station\": \"1_NHL\", \"distance\": 57}, {\"ca_bus_route\": \"Rt 1C\", \"orig\": \"BFD\", \"dest\": \"SMN\", \"trip_month\": 4, \"trip_year\": 2025, \"ridership\": 51, \"revenue\": 829.34, \"od\": \"BFD->SMN\", \"direction\": \"sb\", \"orig_seq\": 0, \"dest_seq\": 5, \"departing_station\": \"1_NHL\", \"distance\": 58}, {\"ca_bus_route\": \"Rt 1C\", \"orig\": \"BFD\", \"dest\": \"SMN\", \"trip_month\": 4, \"trip_year\": 2025, \"ridership\": 51, \"revenue\": 829.34, \"od\": \"BFD->SMN\", \"direction\": \"sb\", \"orig_seq\": 0, \"dest_seq\": 5, \"departing_station\": \"1_NHL\", \"distance\": 59}, {\"ca_bus_route\": \"Rt 1C\", \"orig\": \"BFD\", \"dest\": \"SMN\", \"trip_month\": 4, \"trip_year\": 2025, \"ridership\": 51, \"revenue\": 829.34, \"od\": \"BFD->SMN\", \"direction\": \"sb\", \"orig_seq\": 0, \"dest_seq\": 5, \"departing_station\": \"1_NHL\", \"distance\": 60}, {\"ca_bus_route\": \"Rt 1C\", \"orig\": \"BFD\", \"dest\": \"SMN\", \"trip_month\": 4, \"trip_year\": 2025, \"ridership\": 51, \"revenue\": 829.34, \"od\": \"BFD->SMN\", \"direction\": \"sb\", \"orig_seq\": 0, \"dest_seq\": 5, \"departing_station\": \"1_NHL\", \"distance\": 61}, {\"ca_bus_route\": \"Rt 1C\", \"orig\": \"BFD\", \"dest\": \"SMN\", \"trip_month\": 4, \"trip_year\": 2025, \"ridership\": 51, \"revenue\": 829.34, \"od\": \"BFD->SMN\", \"direction\": \"sb\", \"orig_seq\": 0, \"dest_seq\": 5, \"departing_station\": \"1_NHL\", \"distance\": 62}, {\"ca_bus_route\": \"Rt 1C\", \"orig\": \"BFD\", \"dest\": \"SMN\", \"trip_month\": 4, \"trip_year\": 2025, \"ridership\": 51, \"revenue\": 829.34, \"od\": \"BFD->SMN\", \"direction\": \"sb\", \"orig_seq\": 0, \"dest_seq\": 5, \"departing_station\": \"1_NHL\", \"distance\": 63}, {\"ca_bus_route\": \"Rt 1C\", \"orig\": \"BFD\", \"dest\": \"SMN\", \"trip_month\": 4, \"trip_year\": 2025, \"ridership\": 51, \"revenue\": 829.34, \"od\": \"BFD->SMN\", \"direction\": \"sb\", \"orig_seq\": 0, \"dest_seq\": 5, \"departing_station\": \"1_NHL\", \"distance\": 64}, {\"ca_bus_route\": \"Rt 1C\", \"orig\": \"BFD\", \"dest\": \"SMN\", \"trip_month\": 4, \"trip_year\": 2025, \"ridership\": 51, \"revenue\": 829.34, \"od\": \"BFD->SMN\", \"direction\": \"sb\", \"orig_seq\": 0, \"dest_seq\": 5, \"departing_station\": \"1_NHL\", \"distance\": 65}, {\"ca_bus_route\": \"Rt 1C\", \"orig\": \"BFD\", \"dest\": \"SMN\", \"trip_month\": 4, \"trip_year\": 2025, \"ridership\": 51, \"revenue\": 829.34, \"od\": \"BFD->SMN\", \"direction\": \"sb\", \"orig_seq\": 0, \"dest_seq\": 5, \"departing_station\": \"1_NHL\", \"distance\": 66}, {\"ca_bus_route\": \"Rt 1C\", \"orig\": \"BFD\", \"dest\": \"SMN\", \"trip_month\": 4, \"trip_year\": 2025, \"ridership\": 51, \"revenue\": 829.34, \"od\": \"BFD->SMN\", \"direction\": \"sb\", \"orig_seq\": 0, \"dest_seq\": 5, \"departing_station\": \"1_NHL\", \"distance\": 67}, {\"ca_bus_route\": \"Rt 1C\", \"orig\": \"BFD\", \"dest\": \"SMN\", \"trip_month\": 4, \"trip_year\": 2025, \"ridership\": 51, \"revenue\": 829.34, \"od\": \"BFD->SMN\", \"direction\": \"sb\", \"orig_seq\": 0, \"dest_seq\": 5, \"departing_station\": \"1_NHL\", \"distance\": 68}, {\"ca_bus_route\": \"Rt 1C\", \"orig\": \"BFD\", \"dest\": \"SMN\", \"trip_month\": 4, \"trip_year\": 2025, \"ridership\": 51, \"revenue\": 829.34, \"od\": \"BFD->SMN\", \"direction\": \"sb\", \"orig_seq\": 0, \"dest_seq\": 5, \"departing_station\": \"1_NHL\", \"distance\": 69}, {\"ca_bus_route\": \"Rt 1C\", \"orig\": \"BFD\", \"dest\": \"SMN\", \"trip_month\": 4, \"trip_year\": 2025, \"ridership\": 51, \"revenue\": 829.34, \"od\": \"BFD->SMN\", \"direction\": \"sb\", \"orig_seq\": 0, \"dest_seq\": 5, \"departing_station\": \"1_NHL\", \"distance\": 70}, {\"ca_bus_route\": \"Rt 1C\", \"orig\": \"BFD\", \"dest\": \"SMN\", \"trip_month\": 4, \"trip_year\": 2025, \"ridership\": 51, \"revenue\": 829.34, \"od\": \"BFD->SMN\", \"direction\": \"sb\", \"orig_seq\": 0, \"dest_seq\": 5, \"departing_station\": \"1_NHL\", \"distance\": 71}, {\"ca_bus_route\": \"Rt 1C\", \"orig\": \"BFD\", \"dest\": \"SMN\", \"trip_month\": 4, \"trip_year\": 2025, \"ridership\": 51, \"revenue\": 829.34, \"od\": \"BFD->SMN\", \"direction\": \"sb\", \"orig_seq\": 0, \"dest_seq\": 5, \"departing_station\": \"1_NHL\", \"distance\": 72}, {\"ca_bus_route\": \"Rt 1C\", \"orig\": \"BFD\", \"dest\": \"SMN\", \"trip_month\": 4, \"trip_year\": 2025, \"ridership\": 51, \"revenue\": 829.34, \"od\": \"BFD->SMN\", \"direction\": \"sb\", \"orig_seq\": 0, \"dest_seq\": 5, \"departing_station\": \"1_NHL\", \"distance\": 73}, {\"ca_bus_route\": \"Rt 1C\", \"orig\": \"BFD\", \"dest\": \"SMN\", \"trip_month\": 4, \"trip_year\": 2025, \"ridership\": 51, \"revenue\": 829.34, \"od\": \"BFD->SMN\", \"direction\": \"sb\", \"orig_seq\": 0, \"dest_seq\": 5, \"departing_station\": \"1_NHL\", \"distance\": 74}, {\"ca_bus_route\": \"Rt 1C\", \"orig\": \"BFD\", \"dest\": \"VNC\", \"trip_month\": 4, \"trip_year\": 2025, \"ridership\": 518, \"revenue\": 5618.8, \"od\": \"BFD->VNC\", \"direction\": \"sb\", \"orig_seq\": 0, \"dest_seq\": 3, \"departing_station\": \"1_NHL\", \"distance\": 50}, {\"ca_bus_route\": \"Rt 1C\", \"orig\": \"BFD\", \"dest\": \"VNC\", \"trip_month\": 4, \"trip_year\": 2025, \"ridership\": 518, \"revenue\": 5618.8, \"od\": \"BFD->VNC\", \"direction\": \"sb\", \"orig_seq\": 0, \"dest_seq\": 3, \"departing_station\": \"1_NHL\", \"distance\": 51}, {\"ca_bus_route\": \"Rt 1C\", \"orig\": \"BFD\", \"dest\": \"VNC\", \"trip_month\": 4, \"trip_year\": 2025, \"ridership\": 518, \"revenue\": 5618.8, \"od\": \"BFD->VNC\", \"direction\": \"sb\", \"orig_seq\": 0, \"dest_seq\": 3, \"departing_station\": \"1_NHL\", \"distance\": 52}, {\"ca_bus_route\": \"Rt 1C\", \"orig\": \"BFD\", \"dest\": \"VNC\", \"trip_month\": 4, \"trip_year\": 2025, \"ridership\": 518, \"revenue\": 5618.8, \"od\": \"BFD->VNC\", \"direction\": \"sb\", \"orig_seq\": 0, \"dest_seq\": 3, \"departing_station\": \"1_NHL\", \"distance\": 53}, {\"ca_bus_route\": \"Rt 1C\", \"orig\": \"BFD\", \"dest\": \"VNC\", \"trip_month\": 4, \"trip_year\": 2025, \"ridership\": 518, \"revenue\": 5618.8, \"od\": \"BFD->VNC\", \"direction\": \"sb\", \"orig_seq\": 0, \"dest_seq\": 3, \"departing_station\": \"1_NHL\", \"distance\": 54}, {\"ca_bus_route\": \"Rt 1C\", \"orig\": \"BFD\", \"dest\": \"VNC\", \"trip_month\": 4, \"trip_year\": 2025, \"ridership\": 518, \"revenue\": 5618.8, \"od\": \"BFD->VNC\", \"direction\": \"sb\", \"orig_seq\": 0, \"dest_seq\": 3, \"departing_station\": \"1_NHL\", \"distance\": 55}, {\"ca_bus_route\": \"Rt 1C\", \"orig\": \"BFD\", \"dest\": \"VNC\", \"trip_month\": 4, \"trip_year\": 2025, \"ridership\": 518, \"revenue\": 5618.8, \"od\": \"BFD->VNC\", \"direction\": \"sb\", \"orig_seq\": 0, \"dest_seq\": 3, \"departing_station\": \"1_NHL\", \"distance\": 56}, {\"ca_bus_route\": \"Rt 1C\", \"orig\": \"BFD\", \"dest\": \"VNC\", \"trip_month\": 4, \"trip_year\": 2025, \"ridership\": 518, \"revenue\": 5618.8, \"od\": \"BFD->VNC\", \"direction\": \"sb\", \"orig_seq\": 0, \"dest_seq\": 3, \"departing_station\": \"1_NHL\", \"distance\": 57}, {\"ca_bus_route\": \"Rt 1C\", \"orig\": \"BFD\", \"dest\": \"VNC\", \"trip_month\": 4, \"trip_year\": 2025, \"ridership\": 518, \"revenue\": 5618.8, \"od\": \"BFD->VNC\", \"direction\": \"sb\", \"orig_seq\": 0, \"dest_seq\": 3, \"departing_station\": \"1_NHL\", \"distance\": 58}, {\"ca_bus_route\": \"Rt 1C\", \"orig\": \"BFD\", \"dest\": \"VNC\", \"trip_month\": 4, \"trip_year\": 2025, \"ridership\": 518, \"revenue\": 5618.8, \"od\": \"BFD->VNC\", \"direction\": \"sb\", \"orig_seq\": 0, \"dest_seq\": 3, \"departing_station\": \"1_NHL\", \"distance\": 59}, {\"ca_bus_route\": \"Rt 1C\", \"orig\": \"BFD\", \"dest\": \"VNC\", \"trip_month\": 4, \"trip_year\": 2025, \"ridership\": 518, \"revenue\": 5618.8, \"od\": \"BFD->VNC\", \"direction\": \"sb\", \"orig_seq\": 0, \"dest_seq\": 3, \"departing_station\": \"1_NHL\", \"distance\": 60}, {\"ca_bus_route\": \"Rt 1C\", \"orig\": \"BFD\", \"dest\": \"VNC\", \"trip_month\": 4, \"trip_year\": 2025, \"ridership\": 518, \"revenue\": 5618.8, \"od\": \"BFD->VNC\", \"direction\": \"sb\", \"orig_seq\": 0, \"dest_seq\": 3, \"departing_station\": \"1_NHL\", \"distance\": 61}, {\"ca_bus_route\": \"Rt 1C\", \"orig\": \"BFD\", \"dest\": \"VNC\", \"trip_month\": 4, \"trip_year\": 2025, \"ridership\": 518, \"revenue\": 5618.8, \"od\": \"BFD->VNC\", \"direction\": \"sb\", \"orig_seq\": 0, \"dest_seq\": 3, \"departing_station\": \"1_NHL\", \"distance\": 62}, {\"ca_bus_route\": \"Rt 1C\", \"orig\": \"BFD\", \"dest\": \"VNC\", \"trip_month\": 4, \"trip_year\": 2025, \"ridership\": 518, \"revenue\": 5618.8, \"od\": \"BFD->VNC\", \"direction\": \"sb\", \"orig_seq\": 0, \"dest_seq\": 3, \"departing_station\": \"1_NHL\", \"distance\": 63}, {\"ca_bus_route\": \"Rt 1C\", \"orig\": \"BFD\", \"dest\": \"VNC\", \"trip_month\": 4, \"trip_year\": 2025, \"ridership\": 518, \"revenue\": 5618.8, \"od\": \"BFD->VNC\", \"direction\": \"sb\", \"orig_seq\": 0, \"dest_seq\": 3, \"departing_station\": \"1_NHL\", \"distance\": 64}, {\"ca_bus_route\": \"Rt 1C\", \"orig\": \"BFD\", \"dest\": \"VNC\", \"trip_month\": 4, \"trip_year\": 2025, \"ridership\": 518, \"revenue\": 5618.8, \"od\": \"BFD->VNC\", \"direction\": \"sb\", \"orig_seq\": 0, \"dest_seq\": 3, \"departing_station\": \"1_NHL\", \"distance\": 65}, {\"ca_bus_route\": \"Rt 1C\", \"orig\": \"BFD\", \"dest\": \"VNC\", \"trip_month\": 4, \"trip_year\": 2025, \"ridership\": 518, \"revenue\": 5618.8, \"od\": \"BFD->VNC\", \"direction\": \"sb\", \"orig_seq\": 0, \"dest_seq\": 3, \"departing_station\": \"1_NHL\", \"distance\": 66}, {\"ca_bus_route\": \"Rt 1C\", \"orig\": \"BFD\", \"dest\": \"VNC\", \"trip_month\": 4, \"trip_year\": 2025, \"ridership\": 518, \"revenue\": 5618.8, \"od\": \"BFD->VNC\", \"direction\": \"sb\", \"orig_seq\": 0, \"dest_seq\": 3, \"departing_station\": \"1_NHL\", \"distance\": 67}, {\"ca_bus_route\": \"Rt 1C\", \"orig\": \"BFD\", \"dest\": \"VNC\", \"trip_month\": 4, \"trip_year\": 2025, \"ridership\": 518, \"revenue\": 5618.8, \"od\": \"BFD->VNC\", \"direction\": \"sb\", \"orig_seq\": 0, \"dest_seq\": 3, \"departing_station\": \"1_NHL\", \"distance\": 68}, {\"ca_bus_route\": \"Rt 1C\", \"orig\": \"BFD\", \"dest\": \"VNC\", \"trip_month\": 4, \"trip_year\": 2025, \"ridership\": 518, \"revenue\": 5618.8, \"od\": \"BFD->VNC\", \"direction\": \"sb\", \"orig_seq\": 0, \"dest_seq\": 3, \"departing_station\": \"1_NHL\", \"distance\": 69}, {\"ca_bus_route\": \"Rt 1C\", \"orig\": \"BFD\", \"dest\": \"VNC\", \"trip_month\": 4, \"trip_year\": 2025, \"ridership\": 518, \"revenue\": 5618.8, \"od\": \"BFD->VNC\", \"direction\": \"sb\", \"orig_seq\": 0, \"dest_seq\": 3, \"departing_station\": \"1_NHL\", \"distance\": 70}, {\"ca_bus_route\": \"Rt 1C\", \"orig\": \"BFD\", \"dest\": \"VNC\", \"trip_month\": 4, \"trip_year\": 2025, \"ridership\": 518, \"revenue\": 5618.8, \"od\": \"BFD->VNC\", \"direction\": \"sb\", \"orig_seq\": 0, \"dest_seq\": 3, \"departing_station\": \"1_NHL\", \"distance\": 71}, {\"ca_bus_route\": \"Rt 1C\", \"orig\": \"BFD\", \"dest\": \"VNC\", \"trip_month\": 4, \"trip_year\": 2025, \"ridership\": 518, \"revenue\": 5618.8, \"od\": \"BFD->VNC\", \"direction\": \"sb\", \"orig_seq\": 0, \"dest_seq\": 3, \"departing_station\": \"1_NHL\", \"distance\": 72}, {\"ca_bus_route\": \"Rt 1C\", \"orig\": \"BFD\", \"dest\": \"VNC\", \"trip_month\": 4, \"trip_year\": 2025, \"ridership\": 518, \"revenue\": 5618.8, \"od\": \"BFD->VNC\", \"direction\": \"sb\", \"orig_seq\": 0, \"dest_seq\": 3, \"departing_station\": \"1_NHL\", \"distance\": 73}, {\"ca_bus_route\": \"Rt 1C\", \"orig\": \"BFD\", \"dest\": \"VNC\", \"trip_month\": 4, \"trip_year\": 2025, \"ridership\": 518, \"revenue\": 5618.8, \"od\": \"BFD->VNC\", \"direction\": \"sb\", \"orig_seq\": 0, \"dest_seq\": 3, \"departing_station\": \"1_NHL\", \"distance\": 74}, {\"ca_bus_route\": \"Rt 1C\", \"orig\": \"BFD\", \"dest\": \"WES\", \"trip_month\": 4, \"trip_year\": 2025, \"ridership\": 288, \"revenue\": 4948.75, \"od\": \"BFD->WES\", \"direction\": \"sb\", \"orig_seq\": 0, \"dest_seq\": 4, \"departing_station\": \"1_NHL\", \"distance\": 50}, {\"ca_bus_route\": \"Rt 1C\", \"orig\": \"BFD\", \"dest\": \"WES\", \"trip_month\": 4, \"trip_year\": 2025, \"ridership\": 288, \"revenue\": 4948.75, \"od\": \"BFD->WES\", \"direction\": \"sb\", \"orig_seq\": 0, \"dest_seq\": 4, \"departing_station\": \"1_NHL\", \"distance\": 51}, {\"ca_bus_route\": \"Rt 1C\", \"orig\": \"BFD\", \"dest\": \"WES\", \"trip_month\": 4, \"trip_year\": 2025, \"ridership\": 288, \"revenue\": 4948.75, \"od\": \"BFD->WES\", \"direction\": \"sb\", \"orig_seq\": 0, \"dest_seq\": 4, \"departing_station\": \"1_NHL\", \"distance\": 52}, {\"ca_bus_route\": \"Rt 1C\", \"orig\": \"BFD\", \"dest\": \"WES\", \"trip_month\": 4, \"trip_year\": 2025, \"ridership\": 288, \"revenue\": 4948.75, \"od\": \"BFD->WES\", \"direction\": \"sb\", \"orig_seq\": 0, \"dest_seq\": 4, \"departing_station\": \"1_NHL\", \"distance\": 53}, {\"ca_bus_route\": \"Rt 1C\", \"orig\": \"BFD\", \"dest\": \"WES\", \"trip_month\": 4, \"trip_year\": 2025, \"ridership\": 288, \"revenue\": 4948.75, \"od\": \"BFD->WES\", \"direction\": \"sb\", \"orig_seq\": 0, \"dest_seq\": 4, \"departing_station\": \"1_NHL\", \"distance\": 54}, {\"ca_bus_route\": \"Rt 1C\", \"orig\": \"BFD\", \"dest\": \"WES\", \"trip_month\": 4, \"trip_year\": 2025, \"ridership\": 288, \"revenue\": 4948.75, \"od\": \"BFD->WES\", \"direction\": \"sb\", \"orig_seq\": 0, \"dest_seq\": 4, \"departing_station\": \"1_NHL\", \"distance\": 55}, {\"ca_bus_route\": \"Rt 1C\", \"orig\": \"BFD\", \"dest\": \"WES\", \"trip_month\": 4, \"trip_year\": 2025, \"ridership\": 288, \"revenue\": 4948.75, \"od\": \"BFD->WES\", \"direction\": \"sb\", \"orig_seq\": 0, \"dest_seq\": 4, \"departing_station\": \"1_NHL\", \"distance\": 56}, {\"ca_bus_route\": \"Rt 1C\", \"orig\": \"BFD\", \"dest\": \"WES\", \"trip_month\": 4, \"trip_year\": 2025, \"ridership\": 288, \"revenue\": 4948.75, \"od\": \"BFD->WES\", \"direction\": \"sb\", \"orig_seq\": 0, \"dest_seq\": 4, \"departing_station\": \"1_NHL\", \"distance\": 57}, {\"ca_bus_route\": \"Rt 1C\", \"orig\": \"BFD\", \"dest\": \"WES\", \"trip_month\": 4, \"trip_year\": 2025, \"ridership\": 288, \"revenue\": 4948.75, \"od\": \"BFD->WES\", \"direction\": \"sb\", \"orig_seq\": 0, \"dest_seq\": 4, \"departing_station\": \"1_NHL\", \"distance\": 58}, {\"ca_bus_route\": \"Rt 1C\", \"orig\": \"BFD\", \"dest\": \"WES\", \"trip_month\": 4, \"trip_year\": 2025, \"ridership\": 288, \"revenue\": 4948.75, \"od\": \"BFD->WES\", \"direction\": \"sb\", \"orig_seq\": 0, \"dest_seq\": 4, \"departing_station\": \"1_NHL\", \"distance\": 59}, {\"ca_bus_route\": \"Rt 1C\", \"orig\": \"BFD\", \"dest\": \"WES\", \"trip_month\": 4, \"trip_year\": 2025, \"ridership\": 288, \"revenue\": 4948.75, \"od\": \"BFD->WES\", \"direction\": \"sb\", \"orig_seq\": 0, \"dest_seq\": 4, \"departing_station\": \"1_NHL\", \"distance\": 60}, {\"ca_bus_route\": \"Rt 1C\", \"orig\": \"BFD\", \"dest\": \"WES\", \"trip_month\": 4, \"trip_year\": 2025, \"ridership\": 288, \"revenue\": 4948.75, \"od\": \"BFD->WES\", \"direction\": \"sb\", \"orig_seq\": 0, \"dest_seq\": 4, \"departing_station\": \"1_NHL\", \"distance\": 61}, {\"ca_bus_route\": \"Rt 1C\", \"orig\": \"BFD\", \"dest\": \"WES\", \"trip_month\": 4, \"trip_year\": 2025, \"ridership\": 288, \"revenue\": 4948.75, \"od\": \"BFD->WES\", \"direction\": \"sb\", \"orig_seq\": 0, \"dest_seq\": 4, \"departing_station\": \"1_NHL\", \"distance\": 62}, {\"ca_bus_route\": \"Rt 1C\", \"orig\": \"BFD\", \"dest\": \"WES\", \"trip_month\": 4, \"trip_year\": 2025, \"ridership\": 288, \"revenue\": 4948.75, \"od\": \"BFD->WES\", \"direction\": \"sb\", \"orig_seq\": 0, \"dest_seq\": 4, \"departing_station\": \"1_NHL\", \"distance\": 63}, {\"ca_bus_route\": \"Rt 1C\", \"orig\": \"BFD\", \"dest\": \"WES\", \"trip_month\": 4, \"trip_year\": 2025, \"ridership\": 288, \"revenue\": 4948.75, \"od\": \"BFD->WES\", \"direction\": \"sb\", \"orig_seq\": 0, \"dest_seq\": 4, \"departing_station\": \"1_NHL\", \"distance\": 64}, {\"ca_bus_route\": \"Rt 1C\", \"orig\": \"BFD\", \"dest\": \"WES\", \"trip_month\": 4, \"trip_year\": 2025, \"ridership\": 288, \"revenue\": 4948.75, \"od\": \"BFD->WES\", \"direction\": \"sb\", \"orig_seq\": 0, \"dest_seq\": 4, \"departing_station\": \"1_NHL\", \"distance\": 65}, {\"ca_bus_route\": \"Rt 1C\", \"orig\": \"BFD\", \"dest\": \"WES\", \"trip_month\": 4, \"trip_year\": 2025, \"ridership\": 288, \"revenue\": 4948.75, \"od\": \"BFD->WES\", \"direction\": \"sb\", \"orig_seq\": 0, \"dest_seq\": 4, \"departing_station\": \"1_NHL\", \"distance\": 66}, {\"ca_bus_route\": \"Rt 1C\", \"orig\": \"BFD\", \"dest\": \"WES\", \"trip_month\": 4, \"trip_year\": 2025, \"ridership\": 288, \"revenue\": 4948.75, \"od\": \"BFD->WES\", \"direction\": \"sb\", \"orig_seq\": 0, \"dest_seq\": 4, \"departing_station\": \"1_NHL\", \"distance\": 67}, {\"ca_bus_route\": \"Rt 1C\", \"orig\": \"BFD\", \"dest\": \"WES\", \"trip_month\": 4, \"trip_year\": 2025, \"ridership\": 288, \"revenue\": 4948.75, \"od\": \"BFD->WES\", \"direction\": \"sb\", \"orig_seq\": 0, \"dest_seq\": 4, \"departing_station\": \"1_NHL\", \"distance\": 68}, {\"ca_bus_route\": \"Rt 1C\", \"orig\": \"BFD\", \"dest\": \"WES\", \"trip_month\": 4, \"trip_year\": 2025, \"ridership\": 288, \"revenue\": 4948.75, \"od\": \"BFD->WES\", \"direction\": \"sb\", \"orig_seq\": 0, \"dest_seq\": 4, \"departing_station\": \"1_NHL\", \"distance\": 69}, {\"ca_bus_route\": \"Rt 1C\", \"orig\": \"BFD\", \"dest\": \"WES\", \"trip_month\": 4, \"trip_year\": 2025, \"ridership\": 288, \"revenue\": 4948.75, \"od\": \"BFD->WES\", \"direction\": \"sb\", \"orig_seq\": 0, \"dest_seq\": 4, \"departing_station\": \"1_NHL\", \"distance\": 70}, {\"ca_bus_route\": \"Rt 1C\", \"orig\": \"BFD\", \"dest\": \"WES\", \"trip_month\": 4, \"trip_year\": 2025, \"ridership\": 288, \"revenue\": 4948.75, \"od\": \"BFD->WES\", \"direction\": \"sb\", \"orig_seq\": 0, \"dest_seq\": 4, \"departing_station\": \"1_NHL\", \"distance\": 71}, {\"ca_bus_route\": \"Rt 1C\", \"orig\": \"BFD\", \"dest\": \"WES\", \"trip_month\": 4, \"trip_year\": 2025, \"ridership\": 288, \"revenue\": 4948.75, \"od\": \"BFD->WES\", \"direction\": \"sb\", \"orig_seq\": 0, \"dest_seq\": 4, \"departing_station\": \"1_NHL\", \"distance\": 72}, {\"ca_bus_route\": \"Rt 1C\", \"orig\": \"BFD\", \"dest\": \"WES\", \"trip_month\": 4, \"trip_year\": 2025, \"ridership\": 288, \"revenue\": 4948.75, \"od\": \"BFD->WES\", \"direction\": \"sb\", \"orig_seq\": 0, \"dest_seq\": 4, \"departing_station\": \"1_NHL\", \"distance\": 73}, {\"ca_bus_route\": \"Rt 1C\", \"orig\": \"BFD\", \"dest\": \"WES\", \"trip_month\": 4, \"trip_year\": 2025, \"ridership\": 288, \"revenue\": 4948.75, \"od\": \"BFD->WES\", \"direction\": \"sb\", \"orig_seq\": 0, \"dest_seq\": 4, \"departing_station\": \"1_NHL\", \"distance\": 74}, {\"ca_bus_route\": \"Rt 1C\", \"orig\": \"NHL\", \"dest\": \"BUR\", \"trip_month\": 4, \"trip_year\": 2025, \"ridership\": 2, \"revenue\": 13.0, \"od\": \"NHL->BUR\", \"direction\": \"sb\", \"orig_seq\": 1, \"dest_seq\": 2, \"departing_station\": \"1_NHL\", \"distance\": 50}, {\"ca_bus_route\": \"Rt 1C\", \"orig\": \"NHL\", \"dest\": \"BUR\", \"trip_month\": 4, \"trip_year\": 2025, \"ridership\": 2, \"revenue\": 13.0, \"od\": \"NHL->BUR\", \"direction\": \"sb\", \"orig_seq\": 1, \"dest_seq\": 2, \"departing_station\": \"1_NHL\", \"distance\": 51}, {\"ca_bus_route\": \"Rt 1C\", \"orig\": \"NHL\", \"dest\": \"BUR\", \"trip_month\": 4, \"trip_year\": 2025, \"ridership\": 2, \"revenue\": 13.0, \"od\": \"NHL->BUR\", \"direction\": \"sb\", \"orig_seq\": 1, \"dest_seq\": 2, \"departing_station\": \"1_NHL\", \"distance\": 52}, {\"ca_bus_route\": \"Rt 1C\", \"orig\": \"NHL\", \"dest\": \"BUR\", \"trip_month\": 4, \"trip_year\": 2025, \"ridership\": 2, \"revenue\": 13.0, \"od\": \"NHL->BUR\", \"direction\": \"sb\", \"orig_seq\": 1, \"dest_seq\": 2, \"departing_station\": \"1_NHL\", \"distance\": 53}, {\"ca_bus_route\": \"Rt 1C\", \"orig\": \"NHL\", \"dest\": \"BUR\", \"trip_month\": 4, \"trip_year\": 2025, \"ridership\": 2, \"revenue\": 13.0, \"od\": \"NHL->BUR\", \"direction\": \"sb\", \"orig_seq\": 1, \"dest_seq\": 2, \"departing_station\": \"1_NHL\", \"distance\": 54}, {\"ca_bus_route\": \"Rt 1C\", \"orig\": \"NHL\", \"dest\": \"BUR\", \"trip_month\": 4, \"trip_year\": 2025, \"ridership\": 2, \"revenue\": 13.0, \"od\": \"NHL->BUR\", \"direction\": \"sb\", \"orig_seq\": 1, \"dest_seq\": 2, \"departing_station\": \"1_NHL\", \"distance\": 55}, {\"ca_bus_route\": \"Rt 1C\", \"orig\": \"NHL\", \"dest\": \"BUR\", \"trip_month\": 4, \"trip_year\": 2025, \"ridership\": 2, \"revenue\": 13.0, \"od\": \"NHL->BUR\", \"direction\": \"sb\", \"orig_seq\": 1, \"dest_seq\": 2, \"departing_station\": \"1_NHL\", \"distance\": 56}, {\"ca_bus_route\": \"Rt 1C\", \"orig\": \"NHL\", \"dest\": \"BUR\", \"trip_month\": 4, \"trip_year\": 2025, \"ridership\": 2, \"revenue\": 13.0, \"od\": \"NHL->BUR\", \"direction\": \"sb\", \"orig_seq\": 1, \"dest_seq\": 2, \"departing_station\": \"1_NHL\", \"distance\": 57}, {\"ca_bus_route\": \"Rt 1C\", \"orig\": \"NHL\", \"dest\": \"BUR\", \"trip_month\": 4, \"trip_year\": 2025, \"ridership\": 2, \"revenue\": 13.0, \"od\": \"NHL->BUR\", \"direction\": \"sb\", \"orig_seq\": 1, \"dest_seq\": 2, \"departing_station\": \"1_NHL\", \"distance\": 58}, {\"ca_bus_route\": \"Rt 1C\", \"orig\": \"NHL\", \"dest\": \"BUR\", \"trip_month\": 4, \"trip_year\": 2025, \"ridership\": 2, \"revenue\": 13.0, \"od\": \"NHL->BUR\", \"direction\": \"sb\", \"orig_seq\": 1, \"dest_seq\": 2, \"departing_station\": \"1_NHL\", \"distance\": 59}, {\"ca_bus_route\": \"Rt 1C\", \"orig\": \"NHL\", \"dest\": \"BUR\", \"trip_month\": 4, \"trip_year\": 2025, \"ridership\": 2, \"revenue\": 13.0, \"od\": \"NHL->BUR\", \"direction\": \"sb\", \"orig_seq\": 1, \"dest_seq\": 2, \"departing_station\": \"1_NHL\", \"distance\": 60}, {\"ca_bus_route\": \"Rt 1C\", \"orig\": \"NHL\", \"dest\": \"BUR\", \"trip_month\": 4, \"trip_year\": 2025, \"ridership\": 2, \"revenue\": 13.0, \"od\": \"NHL->BUR\", \"direction\": \"sb\", \"orig_seq\": 1, \"dest_seq\": 2, \"departing_station\": \"1_NHL\", \"distance\": 61}, {\"ca_bus_route\": \"Rt 1C\", \"orig\": \"NHL\", \"dest\": \"BUR\", \"trip_month\": 4, \"trip_year\": 2025, \"ridership\": 2, \"revenue\": 13.0, \"od\": \"NHL->BUR\", \"direction\": \"sb\", \"orig_seq\": 1, \"dest_seq\": 2, \"departing_station\": \"1_NHL\", \"distance\": 62}, {\"ca_bus_route\": \"Rt 1C\", \"orig\": \"NHL\", \"dest\": \"BUR\", \"trip_month\": 4, \"trip_year\": 2025, \"ridership\": 2, \"revenue\": 13.0, \"od\": \"NHL->BUR\", \"direction\": \"sb\", \"orig_seq\": 1, \"dest_seq\": 2, \"departing_station\": \"1_NHL\", \"distance\": 63}, {\"ca_bus_route\": \"Rt 1C\", \"orig\": \"NHL\", \"dest\": \"BUR\", \"trip_month\": 4, \"trip_year\": 2025, \"ridership\": 2, \"revenue\": 13.0, \"od\": \"NHL->BUR\", \"direction\": \"sb\", \"orig_seq\": 1, \"dest_seq\": 2, \"departing_station\": \"1_NHL\", \"distance\": 64}, {\"ca_bus_route\": \"Rt 1C\", \"orig\": \"NHL\", \"dest\": \"BUR\", \"trip_month\": 4, \"trip_year\": 2025, \"ridership\": 2, \"revenue\": 13.0, \"od\": \"NHL->BUR\", \"direction\": \"sb\", \"orig_seq\": 1, \"dest_seq\": 2, \"departing_station\": \"1_NHL\", \"distance\": 65}, {\"ca_bus_route\": \"Rt 1C\", \"orig\": \"NHL\", \"dest\": \"BUR\", \"trip_month\": 4, \"trip_year\": 2025, \"ridership\": 2, \"revenue\": 13.0, \"od\": \"NHL->BUR\", \"direction\": \"sb\", \"orig_seq\": 1, \"dest_seq\": 2, \"departing_station\": \"1_NHL\", \"distance\": 66}, {\"ca_bus_route\": \"Rt 1C\", \"orig\": \"NHL\", \"dest\": \"BUR\", \"trip_month\": 4, \"trip_year\": 2025, \"ridership\": 2, \"revenue\": 13.0, \"od\": \"NHL->BUR\", \"direction\": \"sb\", \"orig_seq\": 1, \"dest_seq\": 2, \"departing_station\": \"1_NHL\", \"distance\": 67}, {\"ca_bus_route\": \"Rt 1C\", \"orig\": \"NHL\", \"dest\": \"BUR\", \"trip_month\": 4, \"trip_year\": 2025, \"ridership\": 2, \"revenue\": 13.0, \"od\": \"NHL->BUR\", \"direction\": \"sb\", \"orig_seq\": 1, \"dest_seq\": 2, \"departing_station\": \"1_NHL\", \"distance\": 68}, {\"ca_bus_route\": \"Rt 1C\", \"orig\": \"NHL\", \"dest\": \"BUR\", \"trip_month\": 4, \"trip_year\": 2025, \"ridership\": 2, \"revenue\": 13.0, \"od\": \"NHL->BUR\", \"direction\": \"sb\", \"orig_seq\": 1, \"dest_seq\": 2, \"departing_station\": \"1_NHL\", \"distance\": 69}, {\"ca_bus_route\": \"Rt 1C\", \"orig\": \"NHL\", \"dest\": \"BUR\", \"trip_month\": 4, \"trip_year\": 2025, \"ridership\": 2, \"revenue\": 13.0, \"od\": \"NHL->BUR\", \"direction\": \"sb\", \"orig_seq\": 1, \"dest_seq\": 2, \"departing_station\": \"1_NHL\", \"distance\": 70}, {\"ca_bus_route\": \"Rt 1C\", \"orig\": \"NHL\", \"dest\": \"BUR\", \"trip_month\": 4, \"trip_year\": 2025, \"ridership\": 2, \"revenue\": 13.0, \"od\": \"NHL->BUR\", \"direction\": \"sb\", \"orig_seq\": 1, \"dest_seq\": 2, \"departing_station\": \"1_NHL\", \"distance\": 71}, {\"ca_bus_route\": \"Rt 1C\", \"orig\": \"NHL\", \"dest\": \"BUR\", \"trip_month\": 4, \"trip_year\": 2025, \"ridership\": 2, \"revenue\": 13.0, \"od\": \"NHL->BUR\", \"direction\": \"sb\", \"orig_seq\": 1, \"dest_seq\": 2, \"departing_station\": \"1_NHL\", \"distance\": 72}, {\"ca_bus_route\": \"Rt 1C\", \"orig\": \"NHL\", \"dest\": \"BUR\", \"trip_month\": 4, \"trip_year\": 2025, \"ridership\": 2, \"revenue\": 13.0, \"od\": \"NHL->BUR\", \"direction\": \"sb\", \"orig_seq\": 1, \"dest_seq\": 2, \"departing_station\": \"1_NHL\", \"distance\": 73}, {\"ca_bus_route\": \"Rt 1C\", \"orig\": \"NHL\", \"dest\": \"BUR\", \"trip_month\": 4, \"trip_year\": 2025, \"ridership\": 2, \"revenue\": 13.0, \"od\": \"NHL->BUR\", \"direction\": \"sb\", \"orig_seq\": 1, \"dest_seq\": 2, \"departing_station\": \"1_NHL\", \"distance\": 74}, {\"ca_bus_route\": \"Rt 1C\", \"orig\": \"NHL\", \"dest\": \"SMN\", \"trip_month\": 4, \"trip_year\": 2025, \"ridership\": 3, \"revenue\": 23.0, \"od\": \"NHL->SMN\", \"direction\": \"sb\", \"orig_seq\": 1, \"dest_seq\": 5, \"departing_station\": \"1_NHL\", \"distance\": 50}, {\"ca_bus_route\": \"Rt 1C\", \"orig\": \"NHL\", \"dest\": \"SMN\", \"trip_month\": 4, \"trip_year\": 2025, \"ridership\": 3, \"revenue\": 23.0, \"od\": \"NHL->SMN\", \"direction\": \"sb\", \"orig_seq\": 1, \"dest_seq\": 5, \"departing_station\": \"1_NHL\", \"distance\": 51}, {\"ca_bus_route\": \"Rt 1C\", \"orig\": \"NHL\", \"dest\": \"SMN\", \"trip_month\": 4, \"trip_year\": 2025, \"ridership\": 3, \"revenue\": 23.0, \"od\": \"NHL->SMN\", \"direction\": \"sb\", \"orig_seq\": 1, \"dest_seq\": 5, \"departing_station\": \"1_NHL\", \"distance\": 52}, {\"ca_bus_route\": \"Rt 1C\", \"orig\": \"NHL\", \"dest\": \"SMN\", \"trip_month\": 4, \"trip_year\": 2025, \"ridership\": 3, \"revenue\": 23.0, \"od\": \"NHL->SMN\", \"direction\": \"sb\", \"orig_seq\": 1, \"dest_seq\": 5, \"departing_station\": \"1_NHL\", \"distance\": 53}, {\"ca_bus_route\": \"Rt 1C\", \"orig\": \"NHL\", \"dest\": \"SMN\", \"trip_month\": 4, \"trip_year\": 2025, \"ridership\": 3, \"revenue\": 23.0, \"od\": \"NHL->SMN\", \"direction\": \"sb\", \"orig_seq\": 1, \"dest_seq\": 5, \"departing_station\": \"1_NHL\", \"distance\": 54}, {\"ca_bus_route\": \"Rt 1C\", \"orig\": \"NHL\", \"dest\": \"SMN\", \"trip_month\": 4, \"trip_year\": 2025, \"ridership\": 3, \"revenue\": 23.0, \"od\": \"NHL->SMN\", \"direction\": \"sb\", \"orig_seq\": 1, \"dest_seq\": 5, \"departing_station\": \"1_NHL\", \"distance\": 55}, {\"ca_bus_route\": \"Rt 1C\", \"orig\": \"NHL\", \"dest\": \"SMN\", \"trip_month\": 4, \"trip_year\": 2025, \"ridership\": 3, \"revenue\": 23.0, \"od\": \"NHL->SMN\", \"direction\": \"sb\", \"orig_seq\": 1, \"dest_seq\": 5, \"departing_station\": \"1_NHL\", \"distance\": 56}, {\"ca_bus_route\": \"Rt 1C\", \"orig\": \"NHL\", \"dest\": \"SMN\", \"trip_month\": 4, \"trip_year\": 2025, \"ridership\": 3, \"revenue\": 23.0, \"od\": \"NHL->SMN\", \"direction\": \"sb\", \"orig_seq\": 1, \"dest_seq\": 5, \"departing_station\": \"1_NHL\", \"distance\": 57}, {\"ca_bus_route\": \"Rt 1C\", \"orig\": \"NHL\", \"dest\": \"SMN\", \"trip_month\": 4, \"trip_year\": 2025, \"ridership\": 3, \"revenue\": 23.0, \"od\": \"NHL->SMN\", \"direction\": \"sb\", \"orig_seq\": 1, \"dest_seq\": 5, \"departing_station\": \"1_NHL\", \"distance\": 58}, {\"ca_bus_route\": \"Rt 1C\", \"orig\": \"NHL\", \"dest\": \"SMN\", \"trip_month\": 4, \"trip_year\": 2025, \"ridership\": 3, \"revenue\": 23.0, \"od\": \"NHL->SMN\", \"direction\": \"sb\", \"orig_seq\": 1, \"dest_seq\": 5, \"departing_station\": \"1_NHL\", \"distance\": 59}, {\"ca_bus_route\": \"Rt 1C\", \"orig\": \"NHL\", \"dest\": \"SMN\", \"trip_month\": 4, \"trip_year\": 2025, \"ridership\": 3, \"revenue\": 23.0, \"od\": \"NHL->SMN\", \"direction\": \"sb\", \"orig_seq\": 1, \"dest_seq\": 5, \"departing_station\": \"1_NHL\", \"distance\": 60}, {\"ca_bus_route\": \"Rt 1C\", \"orig\": \"NHL\", \"dest\": \"SMN\", \"trip_month\": 4, \"trip_year\": 2025, \"ridership\": 3, \"revenue\": 23.0, \"od\": \"NHL->SMN\", \"direction\": \"sb\", \"orig_seq\": 1, \"dest_seq\": 5, \"departing_station\": \"1_NHL\", \"distance\": 61}, {\"ca_bus_route\": \"Rt 1C\", \"orig\": \"NHL\", \"dest\": \"SMN\", \"trip_month\": 4, \"trip_year\": 2025, \"ridership\": 3, \"revenue\": 23.0, \"od\": \"NHL->SMN\", \"direction\": \"sb\", \"orig_seq\": 1, \"dest_seq\": 5, \"departing_station\": \"1_NHL\", \"distance\": 62}, {\"ca_bus_route\": \"Rt 1C\", \"orig\": \"NHL\", \"dest\": \"SMN\", \"trip_month\": 4, \"trip_year\": 2025, \"ridership\": 3, \"revenue\": 23.0, \"od\": \"NHL->SMN\", \"direction\": \"sb\", \"orig_seq\": 1, \"dest_seq\": 5, \"departing_station\": \"1_NHL\", \"distance\": 63}, {\"ca_bus_route\": \"Rt 1C\", \"orig\": \"NHL\", \"dest\": \"SMN\", \"trip_month\": 4, \"trip_year\": 2025, \"ridership\": 3, \"revenue\": 23.0, \"od\": \"NHL->SMN\", \"direction\": \"sb\", \"orig_seq\": 1, \"dest_seq\": 5, \"departing_station\": \"1_NHL\", \"distance\": 64}, {\"ca_bus_route\": \"Rt 1C\", \"orig\": \"NHL\", \"dest\": \"SMN\", \"trip_month\": 4, \"trip_year\": 2025, \"ridership\": 3, \"revenue\": 23.0, \"od\": \"NHL->SMN\", \"direction\": \"sb\", \"orig_seq\": 1, \"dest_seq\": 5, \"departing_station\": \"1_NHL\", \"distance\": 65}, {\"ca_bus_route\": \"Rt 1C\", \"orig\": \"NHL\", \"dest\": \"SMN\", \"trip_month\": 4, \"trip_year\": 2025, \"ridership\": 3, \"revenue\": 23.0, \"od\": \"NHL->SMN\", \"direction\": \"sb\", \"orig_seq\": 1, \"dest_seq\": 5, \"departing_station\": \"1_NHL\", \"distance\": 66}, {\"ca_bus_route\": \"Rt 1C\", \"orig\": \"NHL\", \"dest\": \"SMN\", \"trip_month\": 4, \"trip_year\": 2025, \"ridership\": 3, \"revenue\": 23.0, \"od\": \"NHL->SMN\", \"direction\": \"sb\", \"orig_seq\": 1, \"dest_seq\": 5, \"departing_station\": \"1_NHL\", \"distance\": 67}, {\"ca_bus_route\": \"Rt 1C\", \"orig\": \"NHL\", \"dest\": \"SMN\", \"trip_month\": 4, \"trip_year\": 2025, \"ridership\": 3, \"revenue\": 23.0, \"od\": \"NHL->SMN\", \"direction\": \"sb\", \"orig_seq\": 1, \"dest_seq\": 5, \"departing_station\": \"1_NHL\", \"distance\": 68}, {\"ca_bus_route\": \"Rt 1C\", \"orig\": \"NHL\", \"dest\": \"SMN\", \"trip_month\": 4, \"trip_year\": 2025, \"ridership\": 3, \"revenue\": 23.0, \"od\": \"NHL->SMN\", \"direction\": \"sb\", \"orig_seq\": 1, \"dest_seq\": 5, \"departing_station\": \"1_NHL\", \"distance\": 69}, {\"ca_bus_route\": \"Rt 1C\", \"orig\": \"NHL\", \"dest\": \"SMN\", \"trip_month\": 4, \"trip_year\": 2025, \"ridership\": 3, \"revenue\": 23.0, \"od\": \"NHL->SMN\", \"direction\": \"sb\", \"orig_seq\": 1, \"dest_seq\": 5, \"departing_station\": \"1_NHL\", \"distance\": 70}, {\"ca_bus_route\": \"Rt 1C\", \"orig\": \"NHL\", \"dest\": \"SMN\", \"trip_month\": 4, \"trip_year\": 2025, \"ridership\": 3, \"revenue\": 23.0, \"od\": \"NHL->SMN\", \"direction\": \"sb\", \"orig_seq\": 1, \"dest_seq\": 5, \"departing_station\": \"1_NHL\", \"distance\": 71}, {\"ca_bus_route\": \"Rt 1C\", \"orig\": \"NHL\", \"dest\": \"SMN\", \"trip_month\": 4, \"trip_year\": 2025, \"ridership\": 3, \"revenue\": 23.0, \"od\": \"NHL->SMN\", \"direction\": \"sb\", \"orig_seq\": 1, \"dest_seq\": 5, \"departing_station\": \"1_NHL\", \"distance\": 72}, {\"ca_bus_route\": \"Rt 1C\", \"orig\": \"NHL\", \"dest\": \"SMN\", \"trip_month\": 4, \"trip_year\": 2025, \"ridership\": 3, \"revenue\": 23.0, \"od\": \"NHL->SMN\", \"direction\": \"sb\", \"orig_seq\": 1, \"dest_seq\": 5, \"departing_station\": \"1_NHL\", \"distance\": 73}, {\"ca_bus_route\": \"Rt 1C\", \"orig\": \"NHL\", \"dest\": \"SMN\", \"trip_month\": 4, \"trip_year\": 2025, \"ridership\": 3, \"revenue\": 23.0, \"od\": \"NHL->SMN\", \"direction\": \"sb\", \"orig_seq\": 1, \"dest_seq\": 5, \"departing_station\": \"1_NHL\", \"distance\": 74}, {\"ca_bus_route\": \"Rt 1C\", \"orig\": \"NHL\", \"dest\": \"VNC\", \"trip_month\": 4, \"trip_year\": 2025, \"ridership\": 20, \"revenue\": 104.0, \"od\": \"NHL->VNC\", \"direction\": \"sb\", \"orig_seq\": 1, \"dest_seq\": 3, \"departing_station\": \"1_NHL\", \"distance\": 50}, {\"ca_bus_route\": \"Rt 1C\", \"orig\": \"NHL\", \"dest\": \"VNC\", \"trip_month\": 4, \"trip_year\": 2025, \"ridership\": 20, \"revenue\": 104.0, \"od\": \"NHL->VNC\", \"direction\": \"sb\", \"orig_seq\": 1, \"dest_seq\": 3, \"departing_station\": \"1_NHL\", \"distance\": 51}, {\"ca_bus_route\": \"Rt 1C\", \"orig\": \"NHL\", \"dest\": \"VNC\", \"trip_month\": 4, \"trip_year\": 2025, \"ridership\": 20, \"revenue\": 104.0, \"od\": \"NHL->VNC\", \"direction\": \"sb\", \"orig_seq\": 1, \"dest_seq\": 3, \"departing_station\": \"1_NHL\", \"distance\": 52}, {\"ca_bus_route\": \"Rt 1C\", \"orig\": \"NHL\", \"dest\": \"VNC\", \"trip_month\": 4, \"trip_year\": 2025, \"ridership\": 20, \"revenue\": 104.0, \"od\": \"NHL->VNC\", \"direction\": \"sb\", \"orig_seq\": 1, \"dest_seq\": 3, \"departing_station\": \"1_NHL\", \"distance\": 53}, {\"ca_bus_route\": \"Rt 1C\", \"orig\": \"NHL\", \"dest\": \"VNC\", \"trip_month\": 4, \"trip_year\": 2025, \"ridership\": 20, \"revenue\": 104.0, \"od\": \"NHL->VNC\", \"direction\": \"sb\", \"orig_seq\": 1, \"dest_seq\": 3, \"departing_station\": \"1_NHL\", \"distance\": 54}, {\"ca_bus_route\": \"Rt 1C\", \"orig\": \"NHL\", \"dest\": \"VNC\", \"trip_month\": 4, \"trip_year\": 2025, \"ridership\": 20, \"revenue\": 104.0, \"od\": \"NHL->VNC\", \"direction\": \"sb\", \"orig_seq\": 1, \"dest_seq\": 3, \"departing_station\": \"1_NHL\", \"distance\": 55}, {\"ca_bus_route\": \"Rt 1C\", \"orig\": \"NHL\", \"dest\": \"VNC\", \"trip_month\": 4, \"trip_year\": 2025, \"ridership\": 20, \"revenue\": 104.0, \"od\": \"NHL->VNC\", \"direction\": \"sb\", \"orig_seq\": 1, \"dest_seq\": 3, \"departing_station\": \"1_NHL\", \"distance\": 56}, {\"ca_bus_route\": \"Rt 1C\", \"orig\": \"NHL\", \"dest\": \"VNC\", \"trip_month\": 4, \"trip_year\": 2025, \"ridership\": 20, \"revenue\": 104.0, \"od\": \"NHL->VNC\", \"direction\": \"sb\", \"orig_seq\": 1, \"dest_seq\": 3, \"departing_station\": \"1_NHL\", \"distance\": 57}, {\"ca_bus_route\": \"Rt 1C\", \"orig\": \"NHL\", \"dest\": \"VNC\", \"trip_month\": 4, \"trip_year\": 2025, \"ridership\": 20, \"revenue\": 104.0, \"od\": \"NHL->VNC\", \"direction\": \"sb\", \"orig_seq\": 1, \"dest_seq\": 3, \"departing_station\": \"1_NHL\", \"distance\": 58}, {\"ca_bus_route\": \"Rt 1C\", \"orig\": \"NHL\", \"dest\": \"VNC\", \"trip_month\": 4, \"trip_year\": 2025, \"ridership\": 20, \"revenue\": 104.0, \"od\": \"NHL->VNC\", \"direction\": \"sb\", \"orig_seq\": 1, \"dest_seq\": 3, \"departing_station\": \"1_NHL\", \"distance\": 59}, {\"ca_bus_route\": \"Rt 1C\", \"orig\": \"NHL\", \"dest\": \"VNC\", \"trip_month\": 4, \"trip_year\": 2025, \"ridership\": 20, \"revenue\": 104.0, \"od\": \"NHL->VNC\", \"direction\": \"sb\", \"orig_seq\": 1, \"dest_seq\": 3, \"departing_station\": \"1_NHL\", \"distance\": 60}, {\"ca_bus_route\": \"Rt 1C\", \"orig\": \"NHL\", \"dest\": \"VNC\", \"trip_month\": 4, \"trip_year\": 2025, \"ridership\": 20, \"revenue\": 104.0, \"od\": \"NHL->VNC\", \"direction\": \"sb\", \"orig_seq\": 1, \"dest_seq\": 3, \"departing_station\": \"1_NHL\", \"distance\": 61}, {\"ca_bus_route\": \"Rt 1C\", \"orig\": \"NHL\", \"dest\": \"VNC\", \"trip_month\": 4, \"trip_year\": 2025, \"ridership\": 20, \"revenue\": 104.0, \"od\": \"NHL->VNC\", \"direction\": \"sb\", \"orig_seq\": 1, \"dest_seq\": 3, \"departing_station\": \"1_NHL\", \"distance\": 62}, {\"ca_bus_route\": \"Rt 1C\", \"orig\": \"NHL\", \"dest\": \"VNC\", \"trip_month\": 4, \"trip_year\": 2025, \"ridership\": 20, \"revenue\": 104.0, \"od\": \"NHL->VNC\", \"direction\": \"sb\", \"orig_seq\": 1, \"dest_seq\": 3, \"departing_station\": \"1_NHL\", \"distance\": 63}, {\"ca_bus_route\": \"Rt 1C\", \"orig\": \"NHL\", \"dest\": \"VNC\", \"trip_month\": 4, \"trip_year\": 2025, \"ridership\": 20, \"revenue\": 104.0, \"od\": \"NHL->VNC\", \"direction\": \"sb\", \"orig_seq\": 1, \"dest_seq\": 3, \"departing_station\": \"1_NHL\", \"distance\": 64}, {\"ca_bus_route\": \"Rt 1C\", \"orig\": \"NHL\", \"dest\": \"VNC\", \"trip_month\": 4, \"trip_year\": 2025, \"ridership\": 20, \"revenue\": 104.0, \"od\": \"NHL->VNC\", \"direction\": \"sb\", \"orig_seq\": 1, \"dest_seq\": 3, \"departing_station\": \"1_NHL\", \"distance\": 65}, {\"ca_bus_route\": \"Rt 1C\", \"orig\": \"NHL\", \"dest\": \"VNC\", \"trip_month\": 4, \"trip_year\": 2025, \"ridership\": 20, \"revenue\": 104.0, \"od\": \"NHL->VNC\", \"direction\": \"sb\", \"orig_seq\": 1, \"dest_seq\": 3, \"departing_station\": \"1_NHL\", \"distance\": 66}, {\"ca_bus_route\": \"Rt 1C\", \"orig\": \"NHL\", \"dest\": \"VNC\", \"trip_month\": 4, \"trip_year\": 2025, \"ridership\": 20, \"revenue\": 104.0, \"od\": \"NHL->VNC\", \"direction\": \"sb\", \"orig_seq\": 1, \"dest_seq\": 3, \"departing_station\": \"1_NHL\", \"distance\": 67}, {\"ca_bus_route\": \"Rt 1C\", \"orig\": \"NHL\", \"dest\": \"VNC\", \"trip_month\": 4, \"trip_year\": 2025, \"ridership\": 20, \"revenue\": 104.0, \"od\": \"NHL->VNC\", \"direction\": \"sb\", \"orig_seq\": 1, \"dest_seq\": 3, \"departing_station\": \"1_NHL\", \"distance\": 68}, {\"ca_bus_route\": \"Rt 1C\", \"orig\": \"NHL\", \"dest\": \"VNC\", \"trip_month\": 4, \"trip_year\": 2025, \"ridership\": 20, \"revenue\": 104.0, \"od\": \"NHL->VNC\", \"direction\": \"sb\", \"orig_seq\": 1, \"dest_seq\": 3, \"departing_station\": \"1_NHL\", \"distance\": 69}, {\"ca_bus_route\": \"Rt 1C\", \"orig\": \"NHL\", \"dest\": \"VNC\", \"trip_month\": 4, \"trip_year\": 2025, \"ridership\": 20, \"revenue\": 104.0, \"od\": \"NHL->VNC\", \"direction\": \"sb\", \"orig_seq\": 1, \"dest_seq\": 3, \"departing_station\": \"1_NHL\", \"distance\": 70}, {\"ca_bus_route\": \"Rt 1C\", \"orig\": \"NHL\", \"dest\": \"VNC\", \"trip_month\": 4, \"trip_year\": 2025, \"ridership\": 20, \"revenue\": 104.0, \"od\": \"NHL->VNC\", \"direction\": \"sb\", \"orig_seq\": 1, \"dest_seq\": 3, \"departing_station\": \"1_NHL\", \"distance\": 71}, {\"ca_bus_route\": \"Rt 1C\", \"orig\": \"NHL\", \"dest\": \"VNC\", \"trip_month\": 4, \"trip_year\": 2025, \"ridership\": 20, \"revenue\": 104.0, \"od\": \"NHL->VNC\", \"direction\": \"sb\", \"orig_seq\": 1, \"dest_seq\": 3, \"departing_station\": \"1_NHL\", \"distance\": 72}, {\"ca_bus_route\": \"Rt 1C\", \"orig\": \"NHL\", \"dest\": \"VNC\", \"trip_month\": 4, \"trip_year\": 2025, \"ridership\": 20, \"revenue\": 104.0, \"od\": \"NHL->VNC\", \"direction\": \"sb\", \"orig_seq\": 1, \"dest_seq\": 3, \"departing_station\": \"1_NHL\", \"distance\": 73}, {\"ca_bus_route\": \"Rt 1C\", \"orig\": \"NHL\", \"dest\": \"VNC\", \"trip_month\": 4, \"trip_year\": 2025, \"ridership\": 20, \"revenue\": 104.0, \"od\": \"NHL->VNC\", \"direction\": \"sb\", \"orig_seq\": 1, \"dest_seq\": 3, \"departing_station\": \"1_NHL\", \"distance\": 74}, {\"ca_bus_route\": \"Rt 1C\", \"orig\": \"NHL\", \"dest\": \"WES\", \"trip_month\": 4, \"trip_year\": 2025, \"ridership\": 2, \"revenue\": 25.0, \"od\": \"NHL->WES\", \"direction\": \"sb\", \"orig_seq\": 1, \"dest_seq\": 4, \"departing_station\": \"1_NHL\", \"distance\": 50}, {\"ca_bus_route\": \"Rt 1C\", \"orig\": \"NHL\", \"dest\": \"WES\", \"trip_month\": 4, \"trip_year\": 2025, \"ridership\": 2, \"revenue\": 25.0, \"od\": \"NHL->WES\", \"direction\": \"sb\", \"orig_seq\": 1, \"dest_seq\": 4, \"departing_station\": \"1_NHL\", \"distance\": 51}, {\"ca_bus_route\": \"Rt 1C\", \"orig\": \"NHL\", \"dest\": \"WES\", \"trip_month\": 4, \"trip_year\": 2025, \"ridership\": 2, \"revenue\": 25.0, \"od\": \"NHL->WES\", \"direction\": \"sb\", \"orig_seq\": 1, \"dest_seq\": 4, \"departing_station\": \"1_NHL\", \"distance\": 52}, {\"ca_bus_route\": \"Rt 1C\", \"orig\": \"NHL\", \"dest\": \"WES\", \"trip_month\": 4, \"trip_year\": 2025, \"ridership\": 2, \"revenue\": 25.0, \"od\": \"NHL->WES\", \"direction\": \"sb\", \"orig_seq\": 1, \"dest_seq\": 4, \"departing_station\": \"1_NHL\", \"distance\": 53}, {\"ca_bus_route\": \"Rt 1C\", \"orig\": \"NHL\", \"dest\": \"WES\", \"trip_month\": 4, \"trip_year\": 2025, \"ridership\": 2, \"revenue\": 25.0, \"od\": \"NHL->WES\", \"direction\": \"sb\", \"orig_seq\": 1, \"dest_seq\": 4, \"departing_station\": \"1_NHL\", \"distance\": 54}, {\"ca_bus_route\": \"Rt 1C\", \"orig\": \"NHL\", \"dest\": \"WES\", \"trip_month\": 4, \"trip_year\": 2025, \"ridership\": 2, \"revenue\": 25.0, \"od\": \"NHL->WES\", \"direction\": \"sb\", \"orig_seq\": 1, \"dest_seq\": 4, \"departing_station\": \"1_NHL\", \"distance\": 55}, {\"ca_bus_route\": \"Rt 1C\", \"orig\": \"NHL\", \"dest\": \"WES\", \"trip_month\": 4, \"trip_year\": 2025, \"ridership\": 2, \"revenue\": 25.0, \"od\": \"NHL->WES\", \"direction\": \"sb\", \"orig_seq\": 1, \"dest_seq\": 4, \"departing_station\": \"1_NHL\", \"distance\": 56}, {\"ca_bus_route\": \"Rt 1C\", \"orig\": \"NHL\", \"dest\": \"WES\", \"trip_month\": 4, \"trip_year\": 2025, \"ridership\": 2, \"revenue\": 25.0, \"od\": \"NHL->WES\", \"direction\": \"sb\", \"orig_seq\": 1, \"dest_seq\": 4, \"departing_station\": \"1_NHL\", \"distance\": 57}, {\"ca_bus_route\": \"Rt 1C\", \"orig\": \"NHL\", \"dest\": \"WES\", \"trip_month\": 4, \"trip_year\": 2025, \"ridership\": 2, \"revenue\": 25.0, \"od\": \"NHL->WES\", \"direction\": \"sb\", \"orig_seq\": 1, \"dest_seq\": 4, \"departing_station\": \"1_NHL\", \"distance\": 58}, {\"ca_bus_route\": \"Rt 1C\", \"orig\": \"NHL\", \"dest\": \"WES\", \"trip_month\": 4, \"trip_year\": 2025, \"ridership\": 2, \"revenue\": 25.0, \"od\": \"NHL->WES\", \"direction\": \"sb\", \"orig_seq\": 1, \"dest_seq\": 4, \"departing_station\": \"1_NHL\", \"distance\": 59}, {\"ca_bus_route\": \"Rt 1C\", \"orig\": \"NHL\", \"dest\": \"WES\", \"trip_month\": 4, \"trip_year\": 2025, \"ridership\": 2, \"revenue\": 25.0, \"od\": \"NHL->WES\", \"direction\": \"sb\", \"orig_seq\": 1, \"dest_seq\": 4, \"departing_station\": \"1_NHL\", \"distance\": 60}, {\"ca_bus_route\": \"Rt 1C\", \"orig\": \"NHL\", \"dest\": \"WES\", \"trip_month\": 4, \"trip_year\": 2025, \"ridership\": 2, \"revenue\": 25.0, \"od\": \"NHL->WES\", \"direction\": \"sb\", \"orig_seq\": 1, \"dest_seq\": 4, \"departing_station\": \"1_NHL\", \"distance\": 61}, {\"ca_bus_route\": \"Rt 1C\", \"orig\": \"NHL\", \"dest\": \"WES\", \"trip_month\": 4, \"trip_year\": 2025, \"ridership\": 2, \"revenue\": 25.0, \"od\": \"NHL->WES\", \"direction\": \"sb\", \"orig_seq\": 1, \"dest_seq\": 4, \"departing_station\": \"1_NHL\", \"distance\": 62}, {\"ca_bus_route\": \"Rt 1C\", \"orig\": \"NHL\", \"dest\": \"WES\", \"trip_month\": 4, \"trip_year\": 2025, \"ridership\": 2, \"revenue\": 25.0, \"od\": \"NHL->WES\", \"direction\": \"sb\", \"orig_seq\": 1, \"dest_seq\": 4, \"departing_station\": \"1_NHL\", \"distance\": 63}, {\"ca_bus_route\": \"Rt 1C\", \"orig\": \"NHL\", \"dest\": \"WES\", \"trip_month\": 4, \"trip_year\": 2025, \"ridership\": 2, \"revenue\": 25.0, \"od\": \"NHL->WES\", \"direction\": \"sb\", \"orig_seq\": 1, \"dest_seq\": 4, \"departing_station\": \"1_NHL\", \"distance\": 64}, {\"ca_bus_route\": \"Rt 1C\", \"orig\": \"NHL\", \"dest\": \"WES\", \"trip_month\": 4, \"trip_year\": 2025, \"ridership\": 2, \"revenue\": 25.0, \"od\": \"NHL->WES\", \"direction\": \"sb\", \"orig_seq\": 1, \"dest_seq\": 4, \"departing_station\": \"1_NHL\", \"distance\": 65}, {\"ca_bus_route\": \"Rt 1C\", \"orig\": \"NHL\", \"dest\": \"WES\", \"trip_month\": 4, \"trip_year\": 2025, \"ridership\": 2, \"revenue\": 25.0, \"od\": \"NHL->WES\", \"direction\": \"sb\", \"orig_seq\": 1, \"dest_seq\": 4, \"departing_station\": \"1_NHL\", \"distance\": 66}, {\"ca_bus_route\": \"Rt 1C\", \"orig\": \"NHL\", \"dest\": \"WES\", \"trip_month\": 4, \"trip_year\": 2025, \"ridership\": 2, \"revenue\": 25.0, \"od\": \"NHL->WES\", \"direction\": \"sb\", \"orig_seq\": 1, \"dest_seq\": 4, \"departing_station\": \"1_NHL\", \"distance\": 67}, {\"ca_bus_route\": \"Rt 1C\", \"orig\": \"NHL\", \"dest\": \"WES\", \"trip_month\": 4, \"trip_year\": 2025, \"ridership\": 2, \"revenue\": 25.0, \"od\": \"NHL->WES\", \"direction\": \"sb\", \"orig_seq\": 1, \"dest_seq\": 4, \"departing_station\": \"1_NHL\", \"distance\": 68}, {\"ca_bus_route\": \"Rt 1C\", \"orig\": \"NHL\", \"dest\": \"WES\", \"trip_month\": 4, \"trip_year\": 2025, \"ridership\": 2, \"revenue\": 25.0, \"od\": \"NHL->WES\", \"direction\": \"sb\", \"orig_seq\": 1, \"dest_seq\": 4, \"departing_station\": \"1_NHL\", \"distance\": 69}, {\"ca_bus_route\": \"Rt 1C\", \"orig\": \"NHL\", \"dest\": \"WES\", \"trip_month\": 4, \"trip_year\": 2025, \"ridership\": 2, \"revenue\": 25.0, \"od\": \"NHL->WES\", \"direction\": \"sb\", \"orig_seq\": 1, \"dest_seq\": 4, \"departing_station\": \"1_NHL\", \"distance\": 70}, {\"ca_bus_route\": \"Rt 1C\", \"orig\": \"NHL\", \"dest\": \"WES\", \"trip_month\": 4, \"trip_year\": 2025, \"ridership\": 2, \"revenue\": 25.0, \"od\": \"NHL->WES\", \"direction\": \"sb\", \"orig_seq\": 1, \"dest_seq\": 4, \"departing_station\": \"1_NHL\", \"distance\": 71}, {\"ca_bus_route\": \"Rt 1C\", \"orig\": \"NHL\", \"dest\": \"WES\", \"trip_month\": 4, \"trip_year\": 2025, \"ridership\": 2, \"revenue\": 25.0, \"od\": \"NHL->WES\", \"direction\": \"sb\", \"orig_seq\": 1, \"dest_seq\": 4, \"departing_station\": \"1_NHL\", \"distance\": 72}, {\"ca_bus_route\": \"Rt 1C\", \"orig\": \"NHL\", \"dest\": \"WES\", \"trip_month\": 4, \"trip_year\": 2025, \"ridership\": 2, \"revenue\": 25.0, \"od\": \"NHL->WES\", \"direction\": \"sb\", \"orig_seq\": 1, \"dest_seq\": 4, \"departing_station\": \"1_NHL\", \"distance\": 73}, {\"ca_bus_route\": \"Rt 1C\", \"orig\": \"NHL\", \"dest\": \"WES\", \"trip_month\": 4, \"trip_year\": 2025, \"ridership\": 2, \"revenue\": 25.0, \"od\": \"NHL->WES\", \"direction\": \"sb\", \"orig_seq\": 1, \"dest_seq\": 4, \"departing_station\": \"1_NHL\", \"distance\": 74}, {\"ca_bus_route\": \"Rt 1C\", \"orig\": \"BFD\", \"dest\": \"SMN\", \"trip_month\": 4, \"trip_year\": 2025, \"ridership\": 51, \"revenue\": 829.34, \"od\": \"BFD->SMN\", \"direction\": \"sb\", \"orig_seq\": 0, \"dest_seq\": 5, \"departing_station\": \"2_BUR\", \"distance\": 75}, {\"ca_bus_route\": \"Rt 1C\", \"orig\": \"BFD\", \"dest\": \"SMN\", \"trip_month\": 4, \"trip_year\": 2025, \"ridership\": 51, \"revenue\": 829.34, \"od\": \"BFD->SMN\", \"direction\": \"sb\", \"orig_seq\": 0, \"dest_seq\": 5, \"departing_station\": \"2_BUR\", \"distance\": 76}, {\"ca_bus_route\": \"Rt 1C\", \"orig\": \"BFD\", \"dest\": \"SMN\", \"trip_month\": 4, \"trip_year\": 2025, \"ridership\": 51, \"revenue\": 829.34, \"od\": \"BFD->SMN\", \"direction\": \"sb\", \"orig_seq\": 0, \"dest_seq\": 5, \"departing_station\": \"2_BUR\", \"distance\": 77}, {\"ca_bus_route\": \"Rt 1C\", \"orig\": \"BFD\", \"dest\": \"SMN\", \"trip_month\": 4, \"trip_year\": 2025, \"ridership\": 51, \"revenue\": 829.34, \"od\": \"BFD->SMN\", \"direction\": \"sb\", \"orig_seq\": 0, \"dest_seq\": 5, \"departing_station\": \"2_BUR\", \"distance\": 78}, {\"ca_bus_route\": \"Rt 1C\", \"orig\": \"BFD\", \"dest\": \"SMN\", \"trip_month\": 4, \"trip_year\": 2025, \"ridership\": 51, \"revenue\": 829.34, \"od\": \"BFD->SMN\", \"direction\": \"sb\", \"orig_seq\": 0, \"dest_seq\": 5, \"departing_station\": \"2_BUR\", \"distance\": 79}, {\"ca_bus_route\": \"Rt 1C\", \"orig\": \"BFD\", \"dest\": \"SMN\", \"trip_month\": 4, \"trip_year\": 2025, \"ridership\": 51, \"revenue\": 829.34, \"od\": \"BFD->SMN\", \"direction\": \"sb\", \"orig_seq\": 0, \"dest_seq\": 5, \"departing_station\": \"2_BUR\", \"distance\": 80}, {\"ca_bus_route\": \"Rt 1C\", \"orig\": \"BFD\", \"dest\": \"SMN\", \"trip_month\": 4, \"trip_year\": 2025, \"ridership\": 51, \"revenue\": 829.34, \"od\": \"BFD->SMN\", \"direction\": \"sb\", \"orig_seq\": 0, \"dest_seq\": 5, \"departing_station\": \"2_BUR\", \"distance\": 81}, {\"ca_bus_route\": \"Rt 1C\", \"orig\": \"BFD\", \"dest\": \"VNC\", \"trip_month\": 4, \"trip_year\": 2025, \"ridership\": 518, \"revenue\": 5618.8, \"od\": \"BFD->VNC\", \"direction\": \"sb\", \"orig_seq\": 0, \"dest_seq\": 3, \"departing_station\": \"2_BUR\", \"distance\": 75}, {\"ca_bus_route\": \"Rt 1C\", \"orig\": \"BFD\", \"dest\": \"VNC\", \"trip_month\": 4, \"trip_year\": 2025, \"ridership\": 518, \"revenue\": 5618.8, \"od\": \"BFD->VNC\", \"direction\": \"sb\", \"orig_seq\": 0, \"dest_seq\": 3, \"departing_station\": \"2_BUR\", \"distance\": 76}, {\"ca_bus_route\": \"Rt 1C\", \"orig\": \"BFD\", \"dest\": \"VNC\", \"trip_month\": 4, \"trip_year\": 2025, \"ridership\": 518, \"revenue\": 5618.8, \"od\": \"BFD->VNC\", \"direction\": \"sb\", \"orig_seq\": 0, \"dest_seq\": 3, \"departing_station\": \"2_BUR\", \"distance\": 77}, {\"ca_bus_route\": \"Rt 1C\", \"orig\": \"BFD\", \"dest\": \"VNC\", \"trip_month\": 4, \"trip_year\": 2025, \"ridership\": 518, \"revenue\": 5618.8, \"od\": \"BFD->VNC\", \"direction\": \"sb\", \"orig_seq\": 0, \"dest_seq\": 3, \"departing_station\": \"2_BUR\", \"distance\": 78}, {\"ca_bus_route\": \"Rt 1C\", \"orig\": \"BFD\", \"dest\": \"VNC\", \"trip_month\": 4, \"trip_year\": 2025, \"ridership\": 518, \"revenue\": 5618.8, \"od\": \"BFD->VNC\", \"direction\": \"sb\", \"orig_seq\": 0, \"dest_seq\": 3, \"departing_station\": \"2_BUR\", \"distance\": 79}, {\"ca_bus_route\": \"Rt 1C\", \"orig\": \"BFD\", \"dest\": \"VNC\", \"trip_month\": 4, \"trip_year\": 2025, \"ridership\": 518, \"revenue\": 5618.8, \"od\": \"BFD->VNC\", \"direction\": \"sb\", \"orig_seq\": 0, \"dest_seq\": 3, \"departing_station\": \"2_BUR\", \"distance\": 80}, {\"ca_bus_route\": \"Rt 1C\", \"orig\": \"BFD\", \"dest\": \"VNC\", \"trip_month\": 4, \"trip_year\": 2025, \"ridership\": 518, \"revenue\": 5618.8, \"od\": \"BFD->VNC\", \"direction\": \"sb\", \"orig_seq\": 0, \"dest_seq\": 3, \"departing_station\": \"2_BUR\", \"distance\": 81}, {\"ca_bus_route\": \"Rt 1C\", \"orig\": \"BFD\", \"dest\": \"WES\", \"trip_month\": 4, \"trip_year\": 2025, \"ridership\": 288, \"revenue\": 4948.75, \"od\": \"BFD->WES\", \"direction\": \"sb\", \"orig_seq\": 0, \"dest_seq\": 4, \"departing_station\": \"2_BUR\", \"distance\": 75}, {\"ca_bus_route\": \"Rt 1C\", \"orig\": \"BFD\", \"dest\": \"WES\", \"trip_month\": 4, \"trip_year\": 2025, \"ridership\": 288, \"revenue\": 4948.75, \"od\": \"BFD->WES\", \"direction\": \"sb\", \"orig_seq\": 0, \"dest_seq\": 4, \"departing_station\": \"2_BUR\", \"distance\": 76}, {\"ca_bus_route\": \"Rt 1C\", \"orig\": \"BFD\", \"dest\": \"WES\", \"trip_month\": 4, \"trip_year\": 2025, \"ridership\": 288, \"revenue\": 4948.75, \"od\": \"BFD->WES\", \"direction\": \"sb\", \"orig_seq\": 0, \"dest_seq\": 4, \"departing_station\": \"2_BUR\", \"distance\": 77}, {\"ca_bus_route\": \"Rt 1C\", \"orig\": \"BFD\", \"dest\": \"WES\", \"trip_month\": 4, \"trip_year\": 2025, \"ridership\": 288, \"revenue\": 4948.75, \"od\": \"BFD->WES\", \"direction\": \"sb\", \"orig_seq\": 0, \"dest_seq\": 4, \"departing_station\": \"2_BUR\", \"distance\": 78}, {\"ca_bus_route\": \"Rt 1C\", \"orig\": \"BFD\", \"dest\": \"WES\", \"trip_month\": 4, \"trip_year\": 2025, \"ridership\": 288, \"revenue\": 4948.75, \"od\": \"BFD->WES\", \"direction\": \"sb\", \"orig_seq\": 0, \"dest_seq\": 4, \"departing_station\": \"2_BUR\", \"distance\": 79}, {\"ca_bus_route\": \"Rt 1C\", \"orig\": \"BFD\", \"dest\": \"WES\", \"trip_month\": 4, \"trip_year\": 2025, \"ridership\": 288, \"revenue\": 4948.75, \"od\": \"BFD->WES\", \"direction\": \"sb\", \"orig_seq\": 0, \"dest_seq\": 4, \"departing_station\": \"2_BUR\", \"distance\": 80}, {\"ca_bus_route\": \"Rt 1C\", \"orig\": \"BFD\", \"dest\": \"WES\", \"trip_month\": 4, \"trip_year\": 2025, \"ridership\": 288, \"revenue\": 4948.75, \"od\": \"BFD->WES\", \"direction\": \"sb\", \"orig_seq\": 0, \"dest_seq\": 4, \"departing_station\": \"2_BUR\", \"distance\": 81}, {\"ca_bus_route\": \"Rt 1C\", \"orig\": \"BUR\", \"dest\": \"SMN\", \"trip_month\": 4, \"trip_year\": 2025, \"ridership\": 2, \"revenue\": 10.0, \"od\": \"BUR->SMN\", \"direction\": \"sb\", \"orig_seq\": 2, \"dest_seq\": 5, \"departing_station\": \"2_BUR\", \"distance\": 75}, {\"ca_bus_route\": \"Rt 1C\", \"orig\": \"BUR\", \"dest\": \"SMN\", \"trip_month\": 4, \"trip_year\": 2025, \"ridership\": 2, \"revenue\": 10.0, \"od\": \"BUR->SMN\", \"direction\": \"sb\", \"orig_seq\": 2, \"dest_seq\": 5, \"departing_station\": \"2_BUR\", \"distance\": 76}, {\"ca_bus_route\": \"Rt 1C\", \"orig\": \"BUR\", \"dest\": \"SMN\", \"trip_month\": 4, \"trip_year\": 2025, \"ridership\": 2, \"revenue\": 10.0, \"od\": \"BUR->SMN\", \"direction\": \"sb\", \"orig_seq\": 2, \"dest_seq\": 5, \"departing_station\": \"2_BUR\", \"distance\": 77}, {\"ca_bus_route\": \"Rt 1C\", \"orig\": \"BUR\", \"dest\": \"SMN\", \"trip_month\": 4, \"trip_year\": 2025, \"ridership\": 2, \"revenue\": 10.0, \"od\": \"BUR->SMN\", \"direction\": \"sb\", \"orig_seq\": 2, \"dest_seq\": 5, \"departing_station\": \"2_BUR\", \"distance\": 78}, {\"ca_bus_route\": \"Rt 1C\", \"orig\": \"BUR\", \"dest\": \"SMN\", \"trip_month\": 4, \"trip_year\": 2025, \"ridership\": 2, \"revenue\": 10.0, \"od\": \"BUR->SMN\", \"direction\": \"sb\", \"orig_seq\": 2, \"dest_seq\": 5, \"departing_station\": \"2_BUR\", \"distance\": 79}, {\"ca_bus_route\": \"Rt 1C\", \"orig\": \"BUR\", \"dest\": \"SMN\", \"trip_month\": 4, \"trip_year\": 2025, \"ridership\": 2, \"revenue\": 10.0, \"od\": \"BUR->SMN\", \"direction\": \"sb\", \"orig_seq\": 2, \"dest_seq\": 5, \"departing_station\": \"2_BUR\", \"distance\": 80}, {\"ca_bus_route\": \"Rt 1C\", \"orig\": \"BUR\", \"dest\": \"SMN\", \"trip_month\": 4, \"trip_year\": 2025, \"ridership\": 2, \"revenue\": 10.0, \"od\": \"BUR->SMN\", \"direction\": \"sb\", \"orig_seq\": 2, \"dest_seq\": 5, \"departing_station\": \"2_BUR\", \"distance\": 81}, {\"ca_bus_route\": \"Rt 1C\", \"orig\": \"BUR\", \"dest\": \"WES\", \"trip_month\": 4, \"trip_year\": 2025, \"ridership\": 16, \"revenue\": 83.0, \"od\": \"BUR->WES\", \"direction\": \"sb\", \"orig_seq\": 2, \"dest_seq\": 4, \"departing_station\": \"2_BUR\", \"distance\": 75}, {\"ca_bus_route\": \"Rt 1C\", \"orig\": \"BUR\", \"dest\": \"WES\", \"trip_month\": 4, \"trip_year\": 2025, \"ridership\": 16, \"revenue\": 83.0, \"od\": \"BUR->WES\", \"direction\": \"sb\", \"orig_seq\": 2, \"dest_seq\": 4, \"departing_station\": \"2_BUR\", \"distance\": 76}, {\"ca_bus_route\": \"Rt 1C\", \"orig\": \"BUR\", \"dest\": \"WES\", \"trip_month\": 4, \"trip_year\": 2025, \"ridership\": 16, \"revenue\": 83.0, \"od\": \"BUR->WES\", \"direction\": \"sb\", \"orig_seq\": 2, \"dest_seq\": 4, \"departing_station\": \"2_BUR\", \"distance\": 77}, {\"ca_bus_route\": \"Rt 1C\", \"orig\": \"BUR\", \"dest\": \"WES\", \"trip_month\": 4, \"trip_year\": 2025, \"ridership\": 16, \"revenue\": 83.0, \"od\": \"BUR->WES\", \"direction\": \"sb\", \"orig_seq\": 2, \"dest_seq\": 4, \"departing_station\": \"2_BUR\", \"distance\": 78}, {\"ca_bus_route\": \"Rt 1C\", \"orig\": \"BUR\", \"dest\": \"WES\", \"trip_month\": 4, \"trip_year\": 2025, \"ridership\": 16, \"revenue\": 83.0, \"od\": \"BUR->WES\", \"direction\": \"sb\", \"orig_seq\": 2, \"dest_seq\": 4, \"departing_station\": \"2_BUR\", \"distance\": 79}, {\"ca_bus_route\": \"Rt 1C\", \"orig\": \"BUR\", \"dest\": \"WES\", \"trip_month\": 4, \"trip_year\": 2025, \"ridership\": 16, \"revenue\": 83.0, \"od\": \"BUR->WES\", \"direction\": \"sb\", \"orig_seq\": 2, \"dest_seq\": 4, \"departing_station\": \"2_BUR\", \"distance\": 80}, {\"ca_bus_route\": \"Rt 1C\", \"orig\": \"BUR\", \"dest\": \"WES\", \"trip_month\": 4, \"trip_year\": 2025, \"ridership\": 16, \"revenue\": 83.0, \"od\": \"BUR->WES\", \"direction\": \"sb\", \"orig_seq\": 2, \"dest_seq\": 4, \"departing_station\": \"2_BUR\", \"distance\": 81}, {\"ca_bus_route\": \"Rt 1C\", \"orig\": \"NHL\", \"dest\": \"SMN\", \"trip_month\": 4, \"trip_year\": 2025, \"ridership\": 3, \"revenue\": 23.0, \"od\": \"NHL->SMN\", \"direction\": \"sb\", \"orig_seq\": 1, \"dest_seq\": 5, \"departing_station\": \"2_BUR\", \"distance\": 75}, {\"ca_bus_route\": \"Rt 1C\", \"orig\": \"NHL\", \"dest\": \"SMN\", \"trip_month\": 4, \"trip_year\": 2025, \"ridership\": 3, \"revenue\": 23.0, \"od\": \"NHL->SMN\", \"direction\": \"sb\", \"orig_seq\": 1, \"dest_seq\": 5, \"departing_station\": \"2_BUR\", \"distance\": 76}, {\"ca_bus_route\": \"Rt 1C\", \"orig\": \"NHL\", \"dest\": \"SMN\", \"trip_month\": 4, \"trip_year\": 2025, \"ridership\": 3, \"revenue\": 23.0, \"od\": \"NHL->SMN\", \"direction\": \"sb\", \"orig_seq\": 1, \"dest_seq\": 5, \"departing_station\": \"2_BUR\", \"distance\": 77}, {\"ca_bus_route\": \"Rt 1C\", \"orig\": \"NHL\", \"dest\": \"SMN\", \"trip_month\": 4, \"trip_year\": 2025, \"ridership\": 3, \"revenue\": 23.0, \"od\": \"NHL->SMN\", \"direction\": \"sb\", \"orig_seq\": 1, \"dest_seq\": 5, \"departing_station\": \"2_BUR\", \"distance\": 78}, {\"ca_bus_route\": \"Rt 1C\", \"orig\": \"NHL\", \"dest\": \"SMN\", \"trip_month\": 4, \"trip_year\": 2025, \"ridership\": 3, \"revenue\": 23.0, \"od\": \"NHL->SMN\", \"direction\": \"sb\", \"orig_seq\": 1, \"dest_seq\": 5, \"departing_station\": \"2_BUR\", \"distance\": 79}, {\"ca_bus_route\": \"Rt 1C\", \"orig\": \"NHL\", \"dest\": \"SMN\", \"trip_month\": 4, \"trip_year\": 2025, \"ridership\": 3, \"revenue\": 23.0, \"od\": \"NHL->SMN\", \"direction\": \"sb\", \"orig_seq\": 1, \"dest_seq\": 5, \"departing_station\": \"2_BUR\", \"distance\": 80}, {\"ca_bus_route\": \"Rt 1C\", \"orig\": \"NHL\", \"dest\": \"SMN\", \"trip_month\": 4, \"trip_year\": 2025, \"ridership\": 3, \"revenue\": 23.0, \"od\": \"NHL->SMN\", \"direction\": \"sb\", \"orig_seq\": 1, \"dest_seq\": 5, \"departing_station\": \"2_BUR\", \"distance\": 81}, {\"ca_bus_route\": \"Rt 1C\", \"orig\": \"NHL\", \"dest\": \"VNC\", \"trip_month\": 4, \"trip_year\": 2025, \"ridership\": 20, \"revenue\": 104.0, \"od\": \"NHL->VNC\", \"direction\": \"sb\", \"orig_seq\": 1, \"dest_seq\": 3, \"departing_station\": \"2_BUR\", \"distance\": 75}, {\"ca_bus_route\": \"Rt 1C\", \"orig\": \"NHL\", \"dest\": \"VNC\", \"trip_month\": 4, \"trip_year\": 2025, \"ridership\": 20, \"revenue\": 104.0, \"od\": \"NHL->VNC\", \"direction\": \"sb\", \"orig_seq\": 1, \"dest_seq\": 3, \"departing_station\": \"2_BUR\", \"distance\": 76}, {\"ca_bus_route\": \"Rt 1C\", \"orig\": \"NHL\", \"dest\": \"VNC\", \"trip_month\": 4, \"trip_year\": 2025, \"ridership\": 20, \"revenue\": 104.0, \"od\": \"NHL->VNC\", \"direction\": \"sb\", \"orig_seq\": 1, \"dest_seq\": 3, \"departing_station\": \"2_BUR\", \"distance\": 77}, {\"ca_bus_route\": \"Rt 1C\", \"orig\": \"NHL\", \"dest\": \"VNC\", \"trip_month\": 4, \"trip_year\": 2025, \"ridership\": 20, \"revenue\": 104.0, \"od\": \"NHL->VNC\", \"direction\": \"sb\", \"orig_seq\": 1, \"dest_seq\": 3, \"departing_station\": \"2_BUR\", \"distance\": 78}, {\"ca_bus_route\": \"Rt 1C\", \"orig\": \"NHL\", \"dest\": \"VNC\", \"trip_month\": 4, \"trip_year\": 2025, \"ridership\": 20, \"revenue\": 104.0, \"od\": \"NHL->VNC\", \"direction\": \"sb\", \"orig_seq\": 1, \"dest_seq\": 3, \"departing_station\": \"2_BUR\", \"distance\": 79}, {\"ca_bus_route\": \"Rt 1C\", \"orig\": \"NHL\", \"dest\": \"VNC\", \"trip_month\": 4, \"trip_year\": 2025, \"ridership\": 20, \"revenue\": 104.0, \"od\": \"NHL->VNC\", \"direction\": \"sb\", \"orig_seq\": 1, \"dest_seq\": 3, \"departing_station\": \"2_BUR\", \"distance\": 80}, {\"ca_bus_route\": \"Rt 1C\", \"orig\": \"NHL\", \"dest\": \"VNC\", \"trip_month\": 4, \"trip_year\": 2025, \"ridership\": 20, \"revenue\": 104.0, \"od\": \"NHL->VNC\", \"direction\": \"sb\", \"orig_seq\": 1, \"dest_seq\": 3, \"departing_station\": \"2_BUR\", \"distance\": 81}, {\"ca_bus_route\": \"Rt 1C\", \"orig\": \"NHL\", \"dest\": \"WES\", \"trip_month\": 4, \"trip_year\": 2025, \"ridership\": 2, \"revenue\": 25.0, \"od\": \"NHL->WES\", \"direction\": \"sb\", \"orig_seq\": 1, \"dest_seq\": 4, \"departing_station\": \"2_BUR\", \"distance\": 75}, {\"ca_bus_route\": \"Rt 1C\", \"orig\": \"NHL\", \"dest\": \"WES\", \"trip_month\": 4, \"trip_year\": 2025, \"ridership\": 2, \"revenue\": 25.0, \"od\": \"NHL->WES\", \"direction\": \"sb\", \"orig_seq\": 1, \"dest_seq\": 4, \"departing_station\": \"2_BUR\", \"distance\": 76}, {\"ca_bus_route\": \"Rt 1C\", \"orig\": \"NHL\", \"dest\": \"WES\", \"trip_month\": 4, \"trip_year\": 2025, \"ridership\": 2, \"revenue\": 25.0, \"od\": \"NHL->WES\", \"direction\": \"sb\", \"orig_seq\": 1, \"dest_seq\": 4, \"departing_station\": \"2_BUR\", \"distance\": 77}, {\"ca_bus_route\": \"Rt 1C\", \"orig\": \"NHL\", \"dest\": \"WES\", \"trip_month\": 4, \"trip_year\": 2025, \"ridership\": 2, \"revenue\": 25.0, \"od\": \"NHL->WES\", \"direction\": \"sb\", \"orig_seq\": 1, \"dest_seq\": 4, \"departing_station\": \"2_BUR\", \"distance\": 78}, {\"ca_bus_route\": \"Rt 1C\", \"orig\": \"NHL\", \"dest\": \"WES\", \"trip_month\": 4, \"trip_year\": 2025, \"ridership\": 2, \"revenue\": 25.0, \"od\": \"NHL->WES\", \"direction\": \"sb\", \"orig_seq\": 1, \"dest_seq\": 4, \"departing_station\": \"2_BUR\", \"distance\": 79}, {\"ca_bus_route\": \"Rt 1C\", \"orig\": \"NHL\", \"dest\": \"WES\", \"trip_month\": 4, \"trip_year\": 2025, \"ridership\": 2, \"revenue\": 25.0, \"od\": \"NHL->WES\", \"direction\": \"sb\", \"orig_seq\": 1, \"dest_seq\": 4, \"departing_station\": \"2_BUR\", \"distance\": 80}, {\"ca_bus_route\": \"Rt 1C\", \"orig\": \"NHL\", \"dest\": \"WES\", \"trip_month\": 4, \"trip_year\": 2025, \"ridership\": 2, \"revenue\": 25.0, \"od\": \"NHL->WES\", \"direction\": \"sb\", \"orig_seq\": 1, \"dest_seq\": 4, \"departing_station\": \"2_BUR\", \"distance\": 81}, {\"ca_bus_route\": \"Rt 1C\", \"orig\": \"BFD\", \"dest\": \"SMN\", \"trip_month\": 4, \"trip_year\": 2025, \"ridership\": 51, \"revenue\": 829.34, \"od\": \"BFD->SMN\", \"direction\": \"sb\", \"orig_seq\": 0, \"dest_seq\": 5, \"departing_station\": \"3_VNC\", \"distance\": 82}, {\"ca_bus_route\": \"Rt 1C\", \"orig\": \"BFD\", \"dest\": \"SMN\", \"trip_month\": 4, \"trip_year\": 2025, \"ridership\": 51, \"revenue\": 829.34, \"od\": \"BFD->SMN\", \"direction\": \"sb\", \"orig_seq\": 0, \"dest_seq\": 5, \"departing_station\": \"3_VNC\", \"distance\": 83}, {\"ca_bus_route\": \"Rt 1C\", \"orig\": \"BFD\", \"dest\": \"SMN\", \"trip_month\": 4, \"trip_year\": 2025, \"ridership\": 51, \"revenue\": 829.34, \"od\": \"BFD->SMN\", \"direction\": \"sb\", \"orig_seq\": 0, \"dest_seq\": 5, \"departing_station\": \"3_VNC\", \"distance\": 84}, {\"ca_bus_route\": \"Rt 1C\", \"orig\": \"BFD\", \"dest\": \"SMN\", \"trip_month\": 4, \"trip_year\": 2025, \"ridership\": 51, \"revenue\": 829.34, \"od\": \"BFD->SMN\", \"direction\": \"sb\", \"orig_seq\": 0, \"dest_seq\": 5, \"departing_station\": \"3_VNC\", \"distance\": 85}, {\"ca_bus_route\": \"Rt 1C\", \"orig\": \"BFD\", \"dest\": \"SMN\", \"trip_month\": 4, \"trip_year\": 2025, \"ridership\": 51, \"revenue\": 829.34, \"od\": \"BFD->SMN\", \"direction\": \"sb\", \"orig_seq\": 0, \"dest_seq\": 5, \"departing_station\": \"3_VNC\", \"distance\": 86}, {\"ca_bus_route\": \"Rt 1C\", \"orig\": \"BFD\", \"dest\": \"SMN\", \"trip_month\": 4, \"trip_year\": 2025, \"ridership\": 51, \"revenue\": 829.34, \"od\": \"BFD->SMN\", \"direction\": \"sb\", \"orig_seq\": 0, \"dest_seq\": 5, \"departing_station\": \"3_VNC\", \"distance\": 87}, {\"ca_bus_route\": \"Rt 1C\", \"orig\": \"BFD\", \"dest\": \"SMN\", \"trip_month\": 4, \"trip_year\": 2025, \"ridership\": 51, \"revenue\": 829.34, \"od\": \"BFD->SMN\", \"direction\": \"sb\", \"orig_seq\": 0, \"dest_seq\": 5, \"departing_station\": \"3_VNC\", \"distance\": 88}, {\"ca_bus_route\": \"Rt 1C\", \"orig\": \"BFD\", \"dest\": \"SMN\", \"trip_month\": 4, \"trip_year\": 2025, \"ridership\": 51, \"revenue\": 829.34, \"od\": \"BFD->SMN\", \"direction\": \"sb\", \"orig_seq\": 0, \"dest_seq\": 5, \"departing_station\": \"3_VNC\", \"distance\": 89}, {\"ca_bus_route\": \"Rt 1C\", \"orig\": \"BFD\", \"dest\": \"SMN\", \"trip_month\": 4, \"trip_year\": 2025, \"ridership\": 51, \"revenue\": 829.34, \"od\": \"BFD->SMN\", \"direction\": \"sb\", \"orig_seq\": 0, \"dest_seq\": 5, \"departing_station\": \"3_VNC\", \"distance\": 90}, {\"ca_bus_route\": \"Rt 1C\", \"orig\": \"BFD\", \"dest\": \"SMN\", \"trip_month\": 4, \"trip_year\": 2025, \"ridership\": 51, \"revenue\": 829.34, \"od\": \"BFD->SMN\", \"direction\": \"sb\", \"orig_seq\": 0, \"dest_seq\": 5, \"departing_station\": \"3_VNC\", \"distance\": 91}, {\"ca_bus_route\": \"Rt 1C\", \"orig\": \"BFD\", \"dest\": \"SMN\", \"trip_month\": 4, \"trip_year\": 2025, \"ridership\": 51, \"revenue\": 829.34, \"od\": \"BFD->SMN\", \"direction\": \"sb\", \"orig_seq\": 0, \"dest_seq\": 5, \"departing_station\": \"3_VNC\", \"distance\": 92}, {\"ca_bus_route\": \"Rt 1C\", \"orig\": \"BFD\", \"dest\": \"SMN\", \"trip_month\": 4, \"trip_year\": 2025, \"ridership\": 51, \"revenue\": 829.34, \"od\": \"BFD->SMN\", \"direction\": \"sb\", \"orig_seq\": 0, \"dest_seq\": 5, \"departing_station\": \"3_VNC\", \"distance\": 93}, {\"ca_bus_route\": \"Rt 1C\", \"orig\": \"BFD\", \"dest\": \"SMN\", \"trip_month\": 4, \"trip_year\": 2025, \"ridership\": 51, \"revenue\": 829.34, \"od\": \"BFD->SMN\", \"direction\": \"sb\", \"orig_seq\": 0, \"dest_seq\": 5, \"departing_station\": \"3_VNC\", \"distance\": 94}, {\"ca_bus_route\": \"Rt 1C\", \"orig\": \"BFD\", \"dest\": \"SMN\", \"trip_month\": 4, \"trip_year\": 2025, \"ridership\": 51, \"revenue\": 829.34, \"od\": \"BFD->SMN\", \"direction\": \"sb\", \"orig_seq\": 0, \"dest_seq\": 5, \"departing_station\": \"3_VNC\", \"distance\": 95}, {\"ca_bus_route\": \"Rt 1C\", \"orig\": \"BFD\", \"dest\": \"SMN\", \"trip_month\": 4, \"trip_year\": 2025, \"ridership\": 51, \"revenue\": 829.34, \"od\": \"BFD->SMN\", \"direction\": \"sb\", \"orig_seq\": 0, \"dest_seq\": 5, \"departing_station\": \"3_VNC\", \"distance\": 96}, {\"ca_bus_route\": \"Rt 1C\", \"orig\": \"BFD\", \"dest\": \"WES\", \"trip_month\": 4, \"trip_year\": 2025, \"ridership\": 288, \"revenue\": 4948.75, \"od\": \"BFD->WES\", \"direction\": \"sb\", \"orig_seq\": 0, \"dest_seq\": 4, \"departing_station\": \"3_VNC\", \"distance\": 82}, {\"ca_bus_route\": \"Rt 1C\", \"orig\": \"BFD\", \"dest\": \"WES\", \"trip_month\": 4, \"trip_year\": 2025, \"ridership\": 288, \"revenue\": 4948.75, \"od\": \"BFD->WES\", \"direction\": \"sb\", \"orig_seq\": 0, \"dest_seq\": 4, \"departing_station\": \"3_VNC\", \"distance\": 83}, {\"ca_bus_route\": \"Rt 1C\", \"orig\": \"BFD\", \"dest\": \"WES\", \"trip_month\": 4, \"trip_year\": 2025, \"ridership\": 288, \"revenue\": 4948.75, \"od\": \"BFD->WES\", \"direction\": \"sb\", \"orig_seq\": 0, \"dest_seq\": 4, \"departing_station\": \"3_VNC\", \"distance\": 84}, {\"ca_bus_route\": \"Rt 1C\", \"orig\": \"BFD\", \"dest\": \"WES\", \"trip_month\": 4, \"trip_year\": 2025, \"ridership\": 288, \"revenue\": 4948.75, \"od\": \"BFD->WES\", \"direction\": \"sb\", \"orig_seq\": 0, \"dest_seq\": 4, \"departing_station\": \"3_VNC\", \"distance\": 85}, {\"ca_bus_route\": \"Rt 1C\", \"orig\": \"BFD\", \"dest\": \"WES\", \"trip_month\": 4, \"trip_year\": 2025, \"ridership\": 288, \"revenue\": 4948.75, \"od\": \"BFD->WES\", \"direction\": \"sb\", \"orig_seq\": 0, \"dest_seq\": 4, \"departing_station\": \"3_VNC\", \"distance\": 86}, {\"ca_bus_route\": \"Rt 1C\", \"orig\": \"BFD\", \"dest\": \"WES\", \"trip_month\": 4, \"trip_year\": 2025, \"ridership\": 288, \"revenue\": 4948.75, \"od\": \"BFD->WES\", \"direction\": \"sb\", \"orig_seq\": 0, \"dest_seq\": 4, \"departing_station\": \"3_VNC\", \"distance\": 87}, {\"ca_bus_route\": \"Rt 1C\", \"orig\": \"BFD\", \"dest\": \"WES\", \"trip_month\": 4, \"trip_year\": 2025, \"ridership\": 288, \"revenue\": 4948.75, \"od\": \"BFD->WES\", \"direction\": \"sb\", \"orig_seq\": 0, \"dest_seq\": 4, \"departing_station\": \"3_VNC\", \"distance\": 88}, {\"ca_bus_route\": \"Rt 1C\", \"orig\": \"BFD\", \"dest\": \"WES\", \"trip_month\": 4, \"trip_year\": 2025, \"ridership\": 288, \"revenue\": 4948.75, \"od\": \"BFD->WES\", \"direction\": \"sb\", \"orig_seq\": 0, \"dest_seq\": 4, \"departing_station\": \"3_VNC\", \"distance\": 89}, {\"ca_bus_route\": \"Rt 1C\", \"orig\": \"BFD\", \"dest\": \"WES\", \"trip_month\": 4, \"trip_year\": 2025, \"ridership\": 288, \"revenue\": 4948.75, \"od\": \"BFD->WES\", \"direction\": \"sb\", \"orig_seq\": 0, \"dest_seq\": 4, \"departing_station\": \"3_VNC\", \"distance\": 90}, {\"ca_bus_route\": \"Rt 1C\", \"orig\": \"BFD\", \"dest\": \"WES\", \"trip_month\": 4, \"trip_year\": 2025, \"ridership\": 288, \"revenue\": 4948.75, \"od\": \"BFD->WES\", \"direction\": \"sb\", \"orig_seq\": 0, \"dest_seq\": 4, \"departing_station\": \"3_VNC\", \"distance\": 91}, {\"ca_bus_route\": \"Rt 1C\", \"orig\": \"BFD\", \"dest\": \"WES\", \"trip_month\": 4, \"trip_year\": 2025, \"ridership\": 288, \"revenue\": 4948.75, \"od\": \"BFD->WES\", \"direction\": \"sb\", \"orig_seq\": 0, \"dest_seq\": 4, \"departing_station\": \"3_VNC\", \"distance\": 92}, {\"ca_bus_route\": \"Rt 1C\", \"orig\": \"BFD\", \"dest\": \"WES\", \"trip_month\": 4, \"trip_year\": 2025, \"ridership\": 288, \"revenue\": 4948.75, \"od\": \"BFD->WES\", \"direction\": \"sb\", \"orig_seq\": 0, \"dest_seq\": 4, \"departing_station\": \"3_VNC\", \"distance\": 93}, {\"ca_bus_route\": \"Rt 1C\", \"orig\": \"BFD\", \"dest\": \"WES\", \"trip_month\": 4, \"trip_year\": 2025, \"ridership\": 288, \"revenue\": 4948.75, \"od\": \"BFD->WES\", \"direction\": \"sb\", \"orig_seq\": 0, \"dest_seq\": 4, \"departing_station\": \"3_VNC\", \"distance\": 94}, {\"ca_bus_route\": \"Rt 1C\", \"orig\": \"BFD\", \"dest\": \"WES\", \"trip_month\": 4, \"trip_year\": 2025, \"ridership\": 288, \"revenue\": 4948.75, \"od\": \"BFD->WES\", \"direction\": \"sb\", \"orig_seq\": 0, \"dest_seq\": 4, \"departing_station\": \"3_VNC\", \"distance\": 95}, {\"ca_bus_route\": \"Rt 1C\", \"orig\": \"BFD\", \"dest\": \"WES\", \"trip_month\": 4, \"trip_year\": 2025, \"ridership\": 288, \"revenue\": 4948.75, \"od\": \"BFD->WES\", \"direction\": \"sb\", \"orig_seq\": 0, \"dest_seq\": 4, \"departing_station\": \"3_VNC\", \"distance\": 96}, {\"ca_bus_route\": \"Rt 1C\", \"orig\": \"BUR\", \"dest\": \"SMN\", \"trip_month\": 4, \"trip_year\": 2025, \"ridership\": 2, \"revenue\": 10.0, \"od\": \"BUR->SMN\", \"direction\": \"sb\", \"orig_seq\": 2, \"dest_seq\": 5, \"departing_station\": \"3_VNC\", \"distance\": 82}, {\"ca_bus_route\": \"Rt 1C\", \"orig\": \"BUR\", \"dest\": \"SMN\", \"trip_month\": 4, \"trip_year\": 2025, \"ridership\": 2, \"revenue\": 10.0, \"od\": \"BUR->SMN\", \"direction\": \"sb\", \"orig_seq\": 2, \"dest_seq\": 5, \"departing_station\": \"3_VNC\", \"distance\": 83}, {\"ca_bus_route\": \"Rt 1C\", \"orig\": \"BUR\", \"dest\": \"SMN\", \"trip_month\": 4, \"trip_year\": 2025, \"ridership\": 2, \"revenue\": 10.0, \"od\": \"BUR->SMN\", \"direction\": \"sb\", \"orig_seq\": 2, \"dest_seq\": 5, \"departing_station\": \"3_VNC\", \"distance\": 84}, {\"ca_bus_route\": \"Rt 1C\", \"orig\": \"BUR\", \"dest\": \"SMN\", \"trip_month\": 4, \"trip_year\": 2025, \"ridership\": 2, \"revenue\": 10.0, \"od\": \"BUR->SMN\", \"direction\": \"sb\", \"orig_seq\": 2, \"dest_seq\": 5, \"departing_station\": \"3_VNC\", \"distance\": 85}, {\"ca_bus_route\": \"Rt 1C\", \"orig\": \"BUR\", \"dest\": \"SMN\", \"trip_month\": 4, \"trip_year\": 2025, \"ridership\": 2, \"revenue\": 10.0, \"od\": \"BUR->SMN\", \"direction\": \"sb\", \"orig_seq\": 2, \"dest_seq\": 5, \"departing_station\": \"3_VNC\", \"distance\": 86}, {\"ca_bus_route\": \"Rt 1C\", \"orig\": \"BUR\", \"dest\": \"SMN\", \"trip_month\": 4, \"trip_year\": 2025, \"ridership\": 2, \"revenue\": 10.0, \"od\": \"BUR->SMN\", \"direction\": \"sb\", \"orig_seq\": 2, \"dest_seq\": 5, \"departing_station\": \"3_VNC\", \"distance\": 87}, {\"ca_bus_route\": \"Rt 1C\", \"orig\": \"BUR\", \"dest\": \"SMN\", \"trip_month\": 4, \"trip_year\": 2025, \"ridership\": 2, \"revenue\": 10.0, \"od\": \"BUR->SMN\", \"direction\": \"sb\", \"orig_seq\": 2, \"dest_seq\": 5, \"departing_station\": \"3_VNC\", \"distance\": 88}, {\"ca_bus_route\": \"Rt 1C\", \"orig\": \"BUR\", \"dest\": \"SMN\", \"trip_month\": 4, \"trip_year\": 2025, \"ridership\": 2, \"revenue\": 10.0, \"od\": \"BUR->SMN\", \"direction\": \"sb\", \"orig_seq\": 2, \"dest_seq\": 5, \"departing_station\": \"3_VNC\", \"distance\": 89}, {\"ca_bus_route\": \"Rt 1C\", \"orig\": \"BUR\", \"dest\": \"SMN\", \"trip_month\": 4, \"trip_year\": 2025, \"ridership\": 2, \"revenue\": 10.0, \"od\": \"BUR->SMN\", \"direction\": \"sb\", \"orig_seq\": 2, \"dest_seq\": 5, \"departing_station\": \"3_VNC\", \"distance\": 90}, {\"ca_bus_route\": \"Rt 1C\", \"orig\": \"BUR\", \"dest\": \"SMN\", \"trip_month\": 4, \"trip_year\": 2025, \"ridership\": 2, \"revenue\": 10.0, \"od\": \"BUR->SMN\", \"direction\": \"sb\", \"orig_seq\": 2, \"dest_seq\": 5, \"departing_station\": \"3_VNC\", \"distance\": 91}, {\"ca_bus_route\": \"Rt 1C\", \"orig\": \"BUR\", \"dest\": \"SMN\", \"trip_month\": 4, \"trip_year\": 2025, \"ridership\": 2, \"revenue\": 10.0, \"od\": \"BUR->SMN\", \"direction\": \"sb\", \"orig_seq\": 2, \"dest_seq\": 5, \"departing_station\": \"3_VNC\", \"distance\": 92}, {\"ca_bus_route\": \"Rt 1C\", \"orig\": \"BUR\", \"dest\": \"SMN\", \"trip_month\": 4, \"trip_year\": 2025, \"ridership\": 2, \"revenue\": 10.0, \"od\": \"BUR->SMN\", \"direction\": \"sb\", \"orig_seq\": 2, \"dest_seq\": 5, \"departing_station\": \"3_VNC\", \"distance\": 93}, {\"ca_bus_route\": \"Rt 1C\", \"orig\": \"BUR\", \"dest\": \"SMN\", \"trip_month\": 4, \"trip_year\": 2025, \"ridership\": 2, \"revenue\": 10.0, \"od\": \"BUR->SMN\", \"direction\": \"sb\", \"orig_seq\": 2, \"dest_seq\": 5, \"departing_station\": \"3_VNC\", \"distance\": 94}, {\"ca_bus_route\": \"Rt 1C\", \"orig\": \"BUR\", \"dest\": \"SMN\", \"trip_month\": 4, \"trip_year\": 2025, \"ridership\": 2, \"revenue\": 10.0, \"od\": \"BUR->SMN\", \"direction\": \"sb\", \"orig_seq\": 2, \"dest_seq\": 5, \"departing_station\": \"3_VNC\", \"distance\": 95}, {\"ca_bus_route\": \"Rt 1C\", \"orig\": \"BUR\", \"dest\": \"SMN\", \"trip_month\": 4, \"trip_year\": 2025, \"ridership\": 2, \"revenue\": 10.0, \"od\": \"BUR->SMN\", \"direction\": \"sb\", \"orig_seq\": 2, \"dest_seq\": 5, \"departing_station\": \"3_VNC\", \"distance\": 96}, {\"ca_bus_route\": \"Rt 1C\", \"orig\": \"BUR\", \"dest\": \"WES\", \"trip_month\": 4, \"trip_year\": 2025, \"ridership\": 16, \"revenue\": 83.0, \"od\": \"BUR->WES\", \"direction\": \"sb\", \"orig_seq\": 2, \"dest_seq\": 4, \"departing_station\": \"3_VNC\", \"distance\": 82}, {\"ca_bus_route\": \"Rt 1C\", \"orig\": \"BUR\", \"dest\": \"WES\", \"trip_month\": 4, \"trip_year\": 2025, \"ridership\": 16, \"revenue\": 83.0, \"od\": \"BUR->WES\", \"direction\": \"sb\", \"orig_seq\": 2, \"dest_seq\": 4, \"departing_station\": \"3_VNC\", \"distance\": 83}, {\"ca_bus_route\": \"Rt 1C\", \"orig\": \"BUR\", \"dest\": \"WES\", \"trip_month\": 4, \"trip_year\": 2025, \"ridership\": 16, \"revenue\": 83.0, \"od\": \"BUR->WES\", \"direction\": \"sb\", \"orig_seq\": 2, \"dest_seq\": 4, \"departing_station\": \"3_VNC\", \"distance\": 84}, {\"ca_bus_route\": \"Rt 1C\", \"orig\": \"BUR\", \"dest\": \"WES\", \"trip_month\": 4, \"trip_year\": 2025, \"ridership\": 16, \"revenue\": 83.0, \"od\": \"BUR->WES\", \"direction\": \"sb\", \"orig_seq\": 2, \"dest_seq\": 4, \"departing_station\": \"3_VNC\", \"distance\": 85}, {\"ca_bus_route\": \"Rt 1C\", \"orig\": \"BUR\", \"dest\": \"WES\", \"trip_month\": 4, \"trip_year\": 2025, \"ridership\": 16, \"revenue\": 83.0, \"od\": \"BUR->WES\", \"direction\": \"sb\", \"orig_seq\": 2, \"dest_seq\": 4, \"departing_station\": \"3_VNC\", \"distance\": 86}, {\"ca_bus_route\": \"Rt 1C\", \"orig\": \"BUR\", \"dest\": \"WES\", \"trip_month\": 4, \"trip_year\": 2025, \"ridership\": 16, \"revenue\": 83.0, \"od\": \"BUR->WES\", \"direction\": \"sb\", \"orig_seq\": 2, \"dest_seq\": 4, \"departing_station\": \"3_VNC\", \"distance\": 87}, {\"ca_bus_route\": \"Rt 1C\", \"orig\": \"BUR\", \"dest\": \"WES\", \"trip_month\": 4, \"trip_year\": 2025, \"ridership\": 16, \"revenue\": 83.0, \"od\": \"BUR->WES\", \"direction\": \"sb\", \"orig_seq\": 2, \"dest_seq\": 4, \"departing_station\": \"3_VNC\", \"distance\": 88}, {\"ca_bus_route\": \"Rt 1C\", \"orig\": \"BUR\", \"dest\": \"WES\", \"trip_month\": 4, \"trip_year\": 2025, \"ridership\": 16, \"revenue\": 83.0, \"od\": \"BUR->WES\", \"direction\": \"sb\", \"orig_seq\": 2, \"dest_seq\": 4, \"departing_station\": \"3_VNC\", \"distance\": 89}, {\"ca_bus_route\": \"Rt 1C\", \"orig\": \"BUR\", \"dest\": \"WES\", \"trip_month\": 4, \"trip_year\": 2025, \"ridership\": 16, \"revenue\": 83.0, \"od\": \"BUR->WES\", \"direction\": \"sb\", \"orig_seq\": 2, \"dest_seq\": 4, \"departing_station\": \"3_VNC\", \"distance\": 90}, {\"ca_bus_route\": \"Rt 1C\", \"orig\": \"BUR\", \"dest\": \"WES\", \"trip_month\": 4, \"trip_year\": 2025, \"ridership\": 16, \"revenue\": 83.0, \"od\": \"BUR->WES\", \"direction\": \"sb\", \"orig_seq\": 2, \"dest_seq\": 4, \"departing_station\": \"3_VNC\", \"distance\": 91}, {\"ca_bus_route\": \"Rt 1C\", \"orig\": \"BUR\", \"dest\": \"WES\", \"trip_month\": 4, \"trip_year\": 2025, \"ridership\": 16, \"revenue\": 83.0, \"od\": \"BUR->WES\", \"direction\": \"sb\", \"orig_seq\": 2, \"dest_seq\": 4, \"departing_station\": \"3_VNC\", \"distance\": 92}, {\"ca_bus_route\": \"Rt 1C\", \"orig\": \"BUR\", \"dest\": \"WES\", \"trip_month\": 4, \"trip_year\": 2025, \"ridership\": 16, \"revenue\": 83.0, \"od\": \"BUR->WES\", \"direction\": \"sb\", \"orig_seq\": 2, \"dest_seq\": 4, \"departing_station\": \"3_VNC\", \"distance\": 93}, {\"ca_bus_route\": \"Rt 1C\", \"orig\": \"BUR\", \"dest\": \"WES\", \"trip_month\": 4, \"trip_year\": 2025, \"ridership\": 16, \"revenue\": 83.0, \"od\": \"BUR->WES\", \"direction\": \"sb\", \"orig_seq\": 2, \"dest_seq\": 4, \"departing_station\": \"3_VNC\", \"distance\": 94}, {\"ca_bus_route\": \"Rt 1C\", \"orig\": \"BUR\", \"dest\": \"WES\", \"trip_month\": 4, \"trip_year\": 2025, \"ridership\": 16, \"revenue\": 83.0, \"od\": \"BUR->WES\", \"direction\": \"sb\", \"orig_seq\": 2, \"dest_seq\": 4, \"departing_station\": \"3_VNC\", \"distance\": 95}, {\"ca_bus_route\": \"Rt 1C\", \"orig\": \"BUR\", \"dest\": \"WES\", \"trip_month\": 4, \"trip_year\": 2025, \"ridership\": 16, \"revenue\": 83.0, \"od\": \"BUR->WES\", \"direction\": \"sb\", \"orig_seq\": 2, \"dest_seq\": 4, \"departing_station\": \"3_VNC\", \"distance\": 96}, {\"ca_bus_route\": \"Rt 1C\", \"orig\": \"NHL\", \"dest\": \"SMN\", \"trip_month\": 4, \"trip_year\": 2025, \"ridership\": 3, \"revenue\": 23.0, \"od\": \"NHL->SMN\", \"direction\": \"sb\", \"orig_seq\": 1, \"dest_seq\": 5, \"departing_station\": \"3_VNC\", \"distance\": 82}, {\"ca_bus_route\": \"Rt 1C\", \"orig\": \"NHL\", \"dest\": \"SMN\", \"trip_month\": 4, \"trip_year\": 2025, \"ridership\": 3, \"revenue\": 23.0, \"od\": \"NHL->SMN\", \"direction\": \"sb\", \"orig_seq\": 1, \"dest_seq\": 5, \"departing_station\": \"3_VNC\", \"distance\": 83}, {\"ca_bus_route\": \"Rt 1C\", \"orig\": \"NHL\", \"dest\": \"SMN\", \"trip_month\": 4, \"trip_year\": 2025, \"ridership\": 3, \"revenue\": 23.0, \"od\": \"NHL->SMN\", \"direction\": \"sb\", \"orig_seq\": 1, \"dest_seq\": 5, \"departing_station\": \"3_VNC\", \"distance\": 84}, {\"ca_bus_route\": \"Rt 1C\", \"orig\": \"NHL\", \"dest\": \"SMN\", \"trip_month\": 4, \"trip_year\": 2025, \"ridership\": 3, \"revenue\": 23.0, \"od\": \"NHL->SMN\", \"direction\": \"sb\", \"orig_seq\": 1, \"dest_seq\": 5, \"departing_station\": \"3_VNC\", \"distance\": 85}, {\"ca_bus_route\": \"Rt 1C\", \"orig\": \"NHL\", \"dest\": \"SMN\", \"trip_month\": 4, \"trip_year\": 2025, \"ridership\": 3, \"revenue\": 23.0, \"od\": \"NHL->SMN\", \"direction\": \"sb\", \"orig_seq\": 1, \"dest_seq\": 5, \"departing_station\": \"3_VNC\", \"distance\": 86}, {\"ca_bus_route\": \"Rt 1C\", \"orig\": \"NHL\", \"dest\": \"SMN\", \"trip_month\": 4, \"trip_year\": 2025, \"ridership\": 3, \"revenue\": 23.0, \"od\": \"NHL->SMN\", \"direction\": \"sb\", \"orig_seq\": 1, \"dest_seq\": 5, \"departing_station\": \"3_VNC\", \"distance\": 87}, {\"ca_bus_route\": \"Rt 1C\", \"orig\": \"NHL\", \"dest\": \"SMN\", \"trip_month\": 4, \"trip_year\": 2025, \"ridership\": 3, \"revenue\": 23.0, \"od\": \"NHL->SMN\", \"direction\": \"sb\", \"orig_seq\": 1, \"dest_seq\": 5, \"departing_station\": \"3_VNC\", \"distance\": 88}, {\"ca_bus_route\": \"Rt 1C\", \"orig\": \"NHL\", \"dest\": \"SMN\", \"trip_month\": 4, \"trip_year\": 2025, \"ridership\": 3, \"revenue\": 23.0, \"od\": \"NHL->SMN\", \"direction\": \"sb\", \"orig_seq\": 1, \"dest_seq\": 5, \"departing_station\": \"3_VNC\", \"distance\": 89}, {\"ca_bus_route\": \"Rt 1C\", \"orig\": \"NHL\", \"dest\": \"SMN\", \"trip_month\": 4, \"trip_year\": 2025, \"ridership\": 3, \"revenue\": 23.0, \"od\": \"NHL->SMN\", \"direction\": \"sb\", \"orig_seq\": 1, \"dest_seq\": 5, \"departing_station\": \"3_VNC\", \"distance\": 90}, {\"ca_bus_route\": \"Rt 1C\", \"orig\": \"NHL\", \"dest\": \"SMN\", \"trip_month\": 4, \"trip_year\": 2025, \"ridership\": 3, \"revenue\": 23.0, \"od\": \"NHL->SMN\", \"direction\": \"sb\", \"orig_seq\": 1, \"dest_seq\": 5, \"departing_station\": \"3_VNC\", \"distance\": 91}, {\"ca_bus_route\": \"Rt 1C\", \"orig\": \"NHL\", \"dest\": \"SMN\", \"trip_month\": 4, \"trip_year\": 2025, \"ridership\": 3, \"revenue\": 23.0, \"od\": \"NHL->SMN\", \"direction\": \"sb\", \"orig_seq\": 1, \"dest_seq\": 5, \"departing_station\": \"3_VNC\", \"distance\": 92}, {\"ca_bus_route\": \"Rt 1C\", \"orig\": \"NHL\", \"dest\": \"SMN\", \"trip_month\": 4, \"trip_year\": 2025, \"ridership\": 3, \"revenue\": 23.0, \"od\": \"NHL->SMN\", \"direction\": \"sb\", \"orig_seq\": 1, \"dest_seq\": 5, \"departing_station\": \"3_VNC\", \"distance\": 93}, {\"ca_bus_route\": \"Rt 1C\", \"orig\": \"NHL\", \"dest\": \"SMN\", \"trip_month\": 4, \"trip_year\": 2025, \"ridership\": 3, \"revenue\": 23.0, \"od\": \"NHL->SMN\", \"direction\": \"sb\", \"orig_seq\": 1, \"dest_seq\": 5, \"departing_station\": \"3_VNC\", \"distance\": 94}, {\"ca_bus_route\": \"Rt 1C\", \"orig\": \"NHL\", \"dest\": \"SMN\", \"trip_month\": 4, \"trip_year\": 2025, \"ridership\": 3, \"revenue\": 23.0, \"od\": \"NHL->SMN\", \"direction\": \"sb\", \"orig_seq\": 1, \"dest_seq\": 5, \"departing_station\": \"3_VNC\", \"distance\": 95}, {\"ca_bus_route\": \"Rt 1C\", \"orig\": \"NHL\", \"dest\": \"SMN\", \"trip_month\": 4, \"trip_year\": 2025, \"ridership\": 3, \"revenue\": 23.0, \"od\": \"NHL->SMN\", \"direction\": \"sb\", \"orig_seq\": 1, \"dest_seq\": 5, \"departing_station\": \"3_VNC\", \"distance\": 96}, {\"ca_bus_route\": \"Rt 1C\", \"orig\": \"NHL\", \"dest\": \"WES\", \"trip_month\": 4, \"trip_year\": 2025, \"ridership\": 2, \"revenue\": 25.0, \"od\": \"NHL->WES\", \"direction\": \"sb\", \"orig_seq\": 1, \"dest_seq\": 4, \"departing_station\": \"3_VNC\", \"distance\": 82}, {\"ca_bus_route\": \"Rt 1C\", \"orig\": \"NHL\", \"dest\": \"WES\", \"trip_month\": 4, \"trip_year\": 2025, \"ridership\": 2, \"revenue\": 25.0, \"od\": \"NHL->WES\", \"direction\": \"sb\", \"orig_seq\": 1, \"dest_seq\": 4, \"departing_station\": \"3_VNC\", \"distance\": 83}, {\"ca_bus_route\": \"Rt 1C\", \"orig\": \"NHL\", \"dest\": \"WES\", \"trip_month\": 4, \"trip_year\": 2025, \"ridership\": 2, \"revenue\": 25.0, \"od\": \"NHL->WES\", \"direction\": \"sb\", \"orig_seq\": 1, \"dest_seq\": 4, \"departing_station\": \"3_VNC\", \"distance\": 84}, {\"ca_bus_route\": \"Rt 1C\", \"orig\": \"NHL\", \"dest\": \"WES\", \"trip_month\": 4, \"trip_year\": 2025, \"ridership\": 2, \"revenue\": 25.0, \"od\": \"NHL->WES\", \"direction\": \"sb\", \"orig_seq\": 1, \"dest_seq\": 4, \"departing_station\": \"3_VNC\", \"distance\": 85}, {\"ca_bus_route\": \"Rt 1C\", \"orig\": \"NHL\", \"dest\": \"WES\", \"trip_month\": 4, \"trip_year\": 2025, \"ridership\": 2, \"revenue\": 25.0, \"od\": \"NHL->WES\", \"direction\": \"sb\", \"orig_seq\": 1, \"dest_seq\": 4, \"departing_station\": \"3_VNC\", \"distance\": 86}, {\"ca_bus_route\": \"Rt 1C\", \"orig\": \"NHL\", \"dest\": \"WES\", \"trip_month\": 4, \"trip_year\": 2025, \"ridership\": 2, \"revenue\": 25.0, \"od\": \"NHL->WES\", \"direction\": \"sb\", \"orig_seq\": 1, \"dest_seq\": 4, \"departing_station\": \"3_VNC\", \"distance\": 87}, {\"ca_bus_route\": \"Rt 1C\", \"orig\": \"NHL\", \"dest\": \"WES\", \"trip_month\": 4, \"trip_year\": 2025, \"ridership\": 2, \"revenue\": 25.0, \"od\": \"NHL->WES\", \"direction\": \"sb\", \"orig_seq\": 1, \"dest_seq\": 4, \"departing_station\": \"3_VNC\", \"distance\": 88}, {\"ca_bus_route\": \"Rt 1C\", \"orig\": \"NHL\", \"dest\": \"WES\", \"trip_month\": 4, \"trip_year\": 2025, \"ridership\": 2, \"revenue\": 25.0, \"od\": \"NHL->WES\", \"direction\": \"sb\", \"orig_seq\": 1, \"dest_seq\": 4, \"departing_station\": \"3_VNC\", \"distance\": 89}, {\"ca_bus_route\": \"Rt 1C\", \"orig\": \"NHL\", \"dest\": \"WES\", \"trip_month\": 4, \"trip_year\": 2025, \"ridership\": 2, \"revenue\": 25.0, \"od\": \"NHL->WES\", \"direction\": \"sb\", \"orig_seq\": 1, \"dest_seq\": 4, \"departing_station\": \"3_VNC\", \"distance\": 90}, {\"ca_bus_route\": \"Rt 1C\", \"orig\": \"NHL\", \"dest\": \"WES\", \"trip_month\": 4, \"trip_year\": 2025, \"ridership\": 2, \"revenue\": 25.0, \"od\": \"NHL->WES\", \"direction\": \"sb\", \"orig_seq\": 1, \"dest_seq\": 4, \"departing_station\": \"3_VNC\", \"distance\": 91}, {\"ca_bus_route\": \"Rt 1C\", \"orig\": \"NHL\", \"dest\": \"WES\", \"trip_month\": 4, \"trip_year\": 2025, \"ridership\": 2, \"revenue\": 25.0, \"od\": \"NHL->WES\", \"direction\": \"sb\", \"orig_seq\": 1, \"dest_seq\": 4, \"departing_station\": \"3_VNC\", \"distance\": 92}, {\"ca_bus_route\": \"Rt 1C\", \"orig\": \"NHL\", \"dest\": \"WES\", \"trip_month\": 4, \"trip_year\": 2025, \"ridership\": 2, \"revenue\": 25.0, \"od\": \"NHL->WES\", \"direction\": \"sb\", \"orig_seq\": 1, \"dest_seq\": 4, \"departing_station\": \"3_VNC\", \"distance\": 93}, {\"ca_bus_route\": \"Rt 1C\", \"orig\": \"NHL\", \"dest\": \"WES\", \"trip_month\": 4, \"trip_year\": 2025, \"ridership\": 2, \"revenue\": 25.0, \"od\": \"NHL->WES\", \"direction\": \"sb\", \"orig_seq\": 1, \"dest_seq\": 4, \"departing_station\": \"3_VNC\", \"distance\": 94}, {\"ca_bus_route\": \"Rt 1C\", \"orig\": \"NHL\", \"dest\": \"WES\", \"trip_month\": 4, \"trip_year\": 2025, \"ridership\": 2, \"revenue\": 25.0, \"od\": \"NHL->WES\", \"direction\": \"sb\", \"orig_seq\": 1, \"dest_seq\": 4, \"departing_station\": \"3_VNC\", \"distance\": 95}, {\"ca_bus_route\": \"Rt 1C\", \"orig\": \"NHL\", \"dest\": \"WES\", \"trip_month\": 4, \"trip_year\": 2025, \"ridership\": 2, \"revenue\": 25.0, \"od\": \"NHL->WES\", \"direction\": \"sb\", \"orig_seq\": 1, \"dest_seq\": 4, \"departing_station\": \"3_VNC\", \"distance\": 96}, {\"ca_bus_route\": \"Rt 1C\", \"orig\": \"VNC\", \"dest\": \"SMN\", \"trip_month\": 4, \"trip_year\": 2025, \"ridership\": 21, \"revenue\": 113.65, \"od\": \"VNC->SMN\", \"direction\": \"sb\", \"orig_seq\": 3, \"dest_seq\": 5, \"departing_station\": \"3_VNC\", \"distance\": 82}, {\"ca_bus_route\": \"Rt 1C\", \"orig\": \"VNC\", \"dest\": \"SMN\", \"trip_month\": 4, \"trip_year\": 2025, \"ridership\": 21, \"revenue\": 113.65, \"od\": \"VNC->SMN\", \"direction\": \"sb\", \"orig_seq\": 3, \"dest_seq\": 5, \"departing_station\": \"3_VNC\", \"distance\": 83}, {\"ca_bus_route\": \"Rt 1C\", \"orig\": \"VNC\", \"dest\": \"SMN\", \"trip_month\": 4, \"trip_year\": 2025, \"ridership\": 21, \"revenue\": 113.65, \"od\": \"VNC->SMN\", \"direction\": \"sb\", \"orig_seq\": 3, \"dest_seq\": 5, \"departing_station\": \"3_VNC\", \"distance\": 84}, {\"ca_bus_route\": \"Rt 1C\", \"orig\": \"VNC\", \"dest\": \"SMN\", \"trip_month\": 4, \"trip_year\": 2025, \"ridership\": 21, \"revenue\": 113.65, \"od\": \"VNC->SMN\", \"direction\": \"sb\", \"orig_seq\": 3, \"dest_seq\": 5, \"departing_station\": \"3_VNC\", \"distance\": 85}, {\"ca_bus_route\": \"Rt 1C\", \"orig\": \"VNC\", \"dest\": \"SMN\", \"trip_month\": 4, \"trip_year\": 2025, \"ridership\": 21, \"revenue\": 113.65, \"od\": \"VNC->SMN\", \"direction\": \"sb\", \"orig_seq\": 3, \"dest_seq\": 5, \"departing_station\": \"3_VNC\", \"distance\": 86}, {\"ca_bus_route\": \"Rt 1C\", \"orig\": \"VNC\", \"dest\": \"SMN\", \"trip_month\": 4, \"trip_year\": 2025, \"ridership\": 21, \"revenue\": 113.65, \"od\": \"VNC->SMN\", \"direction\": \"sb\", \"orig_seq\": 3, \"dest_seq\": 5, \"departing_station\": \"3_VNC\", \"distance\": 87}, {\"ca_bus_route\": \"Rt 1C\", \"orig\": \"VNC\", \"dest\": \"SMN\", \"trip_month\": 4, \"trip_year\": 2025, \"ridership\": 21, \"revenue\": 113.65, \"od\": \"VNC->SMN\", \"direction\": \"sb\", \"orig_seq\": 3, \"dest_seq\": 5, \"departing_station\": \"3_VNC\", \"distance\": 88}, {\"ca_bus_route\": \"Rt 1C\", \"orig\": \"VNC\", \"dest\": \"SMN\", \"trip_month\": 4, \"trip_year\": 2025, \"ridership\": 21, \"revenue\": 113.65, \"od\": \"VNC->SMN\", \"direction\": \"sb\", \"orig_seq\": 3, \"dest_seq\": 5, \"departing_station\": \"3_VNC\", \"distance\": 89}, {\"ca_bus_route\": \"Rt 1C\", \"orig\": \"VNC\", \"dest\": \"SMN\", \"trip_month\": 4, \"trip_year\": 2025, \"ridership\": 21, \"revenue\": 113.65, \"od\": \"VNC->SMN\", \"direction\": \"sb\", \"orig_seq\": 3, \"dest_seq\": 5, \"departing_station\": \"3_VNC\", \"distance\": 90}, {\"ca_bus_route\": \"Rt 1C\", \"orig\": \"VNC\", \"dest\": \"SMN\", \"trip_month\": 4, \"trip_year\": 2025, \"ridership\": 21, \"revenue\": 113.65, \"od\": \"VNC->SMN\", \"direction\": \"sb\", \"orig_seq\": 3, \"dest_seq\": 5, \"departing_station\": \"3_VNC\", \"distance\": 91}, {\"ca_bus_route\": \"Rt 1C\", \"orig\": \"VNC\", \"dest\": \"SMN\", \"trip_month\": 4, \"trip_year\": 2025, \"ridership\": 21, \"revenue\": 113.65, \"od\": \"VNC->SMN\", \"direction\": \"sb\", \"orig_seq\": 3, \"dest_seq\": 5, \"departing_station\": \"3_VNC\", \"distance\": 92}, {\"ca_bus_route\": \"Rt 1C\", \"orig\": \"VNC\", \"dest\": \"SMN\", \"trip_month\": 4, \"trip_year\": 2025, \"ridership\": 21, \"revenue\": 113.65, \"od\": \"VNC->SMN\", \"direction\": \"sb\", \"orig_seq\": 3, \"dest_seq\": 5, \"departing_station\": \"3_VNC\", \"distance\": 93}, {\"ca_bus_route\": \"Rt 1C\", \"orig\": \"VNC\", \"dest\": \"SMN\", \"trip_month\": 4, \"trip_year\": 2025, \"ridership\": 21, \"revenue\": 113.65, \"od\": \"VNC->SMN\", \"direction\": \"sb\", \"orig_seq\": 3, \"dest_seq\": 5, \"departing_station\": \"3_VNC\", \"distance\": 94}, {\"ca_bus_route\": \"Rt 1C\", \"orig\": \"VNC\", \"dest\": \"SMN\", \"trip_month\": 4, \"trip_year\": 2025, \"ridership\": 21, \"revenue\": 113.65, \"od\": \"VNC->SMN\", \"direction\": \"sb\", \"orig_seq\": 3, \"dest_seq\": 5, \"departing_station\": \"3_VNC\", \"distance\": 95}, {\"ca_bus_route\": \"Rt 1C\", \"orig\": \"VNC\", \"dest\": \"SMN\", \"trip_month\": 4, \"trip_year\": 2025, \"ridership\": 21, \"revenue\": 113.65, \"od\": \"VNC->SMN\", \"direction\": \"sb\", \"orig_seq\": 3, \"dest_seq\": 5, \"departing_station\": \"3_VNC\", \"distance\": 96}, {\"ca_bus_route\": \"Rt 1C\", \"orig\": \"VNC\", \"dest\": \"WES\", \"trip_month\": 4, \"trip_year\": 2025, \"ridership\": 46, \"revenue\": 268.8, \"od\": \"VNC->WES\", \"direction\": \"sb\", \"orig_seq\": 3, \"dest_seq\": 4, \"departing_station\": \"3_VNC\", \"distance\": 82}, {\"ca_bus_route\": \"Rt 1C\", \"orig\": \"VNC\", \"dest\": \"WES\", \"trip_month\": 4, \"trip_year\": 2025, \"ridership\": 46, \"revenue\": 268.8, \"od\": \"VNC->WES\", \"direction\": \"sb\", \"orig_seq\": 3, \"dest_seq\": 4, \"departing_station\": \"3_VNC\", \"distance\": 83}, {\"ca_bus_route\": \"Rt 1C\", \"orig\": \"VNC\", \"dest\": \"WES\", \"trip_month\": 4, \"trip_year\": 2025, \"ridership\": 46, \"revenue\": 268.8, \"od\": \"VNC->WES\", \"direction\": \"sb\", \"orig_seq\": 3, \"dest_seq\": 4, \"departing_station\": \"3_VNC\", \"distance\": 84}, {\"ca_bus_route\": \"Rt 1C\", \"orig\": \"VNC\", \"dest\": \"WES\", \"trip_month\": 4, \"trip_year\": 2025, \"ridership\": 46, \"revenue\": 268.8, \"od\": \"VNC->WES\", \"direction\": \"sb\", \"orig_seq\": 3, \"dest_seq\": 4, \"departing_station\": \"3_VNC\", \"distance\": 85}, {\"ca_bus_route\": \"Rt 1C\", \"orig\": \"VNC\", \"dest\": \"WES\", \"trip_month\": 4, \"trip_year\": 2025, \"ridership\": 46, \"revenue\": 268.8, \"od\": \"VNC->WES\", \"direction\": \"sb\", \"orig_seq\": 3, \"dest_seq\": 4, \"departing_station\": \"3_VNC\", \"distance\": 86}, {\"ca_bus_route\": \"Rt 1C\", \"orig\": \"VNC\", \"dest\": \"WES\", \"trip_month\": 4, \"trip_year\": 2025, \"ridership\": 46, \"revenue\": 268.8, \"od\": \"VNC->WES\", \"direction\": \"sb\", \"orig_seq\": 3, \"dest_seq\": 4, \"departing_station\": \"3_VNC\", \"distance\": 87}, {\"ca_bus_route\": \"Rt 1C\", \"orig\": \"VNC\", \"dest\": \"WES\", \"trip_month\": 4, \"trip_year\": 2025, \"ridership\": 46, \"revenue\": 268.8, \"od\": \"VNC->WES\", \"direction\": \"sb\", \"orig_seq\": 3, \"dest_seq\": 4, \"departing_station\": \"3_VNC\", \"distance\": 88}, {\"ca_bus_route\": \"Rt 1C\", \"orig\": \"VNC\", \"dest\": \"WES\", \"trip_month\": 4, \"trip_year\": 2025, \"ridership\": 46, \"revenue\": 268.8, \"od\": \"VNC->WES\", \"direction\": \"sb\", \"orig_seq\": 3, \"dest_seq\": 4, \"departing_station\": \"3_VNC\", \"distance\": 89}, {\"ca_bus_route\": \"Rt 1C\", \"orig\": \"VNC\", \"dest\": \"WES\", \"trip_month\": 4, \"trip_year\": 2025, \"ridership\": 46, \"revenue\": 268.8, \"od\": \"VNC->WES\", \"direction\": \"sb\", \"orig_seq\": 3, \"dest_seq\": 4, \"departing_station\": \"3_VNC\", \"distance\": 90}, {\"ca_bus_route\": \"Rt 1C\", \"orig\": \"VNC\", \"dest\": \"WES\", \"trip_month\": 4, \"trip_year\": 2025, \"ridership\": 46, \"revenue\": 268.8, \"od\": \"VNC->WES\", \"direction\": \"sb\", \"orig_seq\": 3, \"dest_seq\": 4, \"departing_station\": \"3_VNC\", \"distance\": 91}, {\"ca_bus_route\": \"Rt 1C\", \"orig\": \"VNC\", \"dest\": \"WES\", \"trip_month\": 4, \"trip_year\": 2025, \"ridership\": 46, \"revenue\": 268.8, \"od\": \"VNC->WES\", \"direction\": \"sb\", \"orig_seq\": 3, \"dest_seq\": 4, \"departing_station\": \"3_VNC\", \"distance\": 92}, {\"ca_bus_route\": \"Rt 1C\", \"orig\": \"VNC\", \"dest\": \"WES\", \"trip_month\": 4, \"trip_year\": 2025, \"ridership\": 46, \"revenue\": 268.8, \"od\": \"VNC->WES\", \"direction\": \"sb\", \"orig_seq\": 3, \"dest_seq\": 4, \"departing_station\": \"3_VNC\", \"distance\": 93}, {\"ca_bus_route\": \"Rt 1C\", \"orig\": \"VNC\", \"dest\": \"WES\", \"trip_month\": 4, \"trip_year\": 2025, \"ridership\": 46, \"revenue\": 268.8, \"od\": \"VNC->WES\", \"direction\": \"sb\", \"orig_seq\": 3, \"dest_seq\": 4, \"departing_station\": \"3_VNC\", \"distance\": 94}, {\"ca_bus_route\": \"Rt 1C\", \"orig\": \"VNC\", \"dest\": \"WES\", \"trip_month\": 4, \"trip_year\": 2025, \"ridership\": 46, \"revenue\": 268.8, \"od\": \"VNC->WES\", \"direction\": \"sb\", \"orig_seq\": 3, \"dest_seq\": 4, \"departing_station\": \"3_VNC\", \"distance\": 95}, {\"ca_bus_route\": \"Rt 1C\", \"orig\": \"VNC\", \"dest\": \"WES\", \"trip_month\": 4, \"trip_year\": 2025, \"ridership\": 46, \"revenue\": 268.8, \"od\": \"VNC->WES\", \"direction\": \"sb\", \"orig_seq\": 3, \"dest_seq\": 4, \"departing_station\": \"3_VNC\", \"distance\": 96}, {\"ca_bus_route\": \"Rt 1C\", \"orig\": \"BFD\", \"dest\": \"SMN\", \"trip_month\": 4, \"trip_year\": 2025, \"ridership\": 51, \"revenue\": 829.34, \"od\": \"BFD->SMN\", \"direction\": \"sb\", \"orig_seq\": 0, \"dest_seq\": 5, \"departing_station\": \"4_WES\", \"distance\": 97}, {\"ca_bus_route\": \"Rt 1C\", \"orig\": \"BFD\", \"dest\": \"SMN\", \"trip_month\": 4, \"trip_year\": 2025, \"ridership\": 51, \"revenue\": 829.34, \"od\": \"BFD->SMN\", \"direction\": \"sb\", \"orig_seq\": 0, \"dest_seq\": 5, \"departing_station\": \"4_WES\", \"distance\": 98}, {\"ca_bus_route\": \"Rt 1C\", \"orig\": \"BFD\", \"dest\": \"SMN\", \"trip_month\": 4, \"trip_year\": 2025, \"ridership\": 51, \"revenue\": 829.34, \"od\": \"BFD->SMN\", \"direction\": \"sb\", \"orig_seq\": 0, \"dest_seq\": 5, \"departing_station\": \"4_WES\", \"distance\": 99}, {\"ca_bus_route\": \"Rt 1C\", \"orig\": \"BFD\", \"dest\": \"SMN\", \"trip_month\": 4, \"trip_year\": 2025, \"ridership\": 51, \"revenue\": 829.34, \"od\": \"BFD->SMN\", \"direction\": \"sb\", \"orig_seq\": 0, \"dest_seq\": 5, \"departing_station\": \"4_WES\", \"distance\": 100}, {\"ca_bus_route\": \"Rt 1C\", \"orig\": \"BFD\", \"dest\": \"SMN\", \"trip_month\": 4, \"trip_year\": 2025, \"ridership\": 51, \"revenue\": 829.34, \"od\": \"BFD->SMN\", \"direction\": \"sb\", \"orig_seq\": 0, \"dest_seq\": 5, \"departing_station\": \"4_WES\", \"distance\": 101}, {\"ca_bus_route\": \"Rt 1C\", \"orig\": \"BUR\", \"dest\": \"SMN\", \"trip_month\": 4, \"trip_year\": 2025, \"ridership\": 2, \"revenue\": 10.0, \"od\": \"BUR->SMN\", \"direction\": \"sb\", \"orig_seq\": 2, \"dest_seq\": 5, \"departing_station\": \"4_WES\", \"distance\": 97}, {\"ca_bus_route\": \"Rt 1C\", \"orig\": \"BUR\", \"dest\": \"SMN\", \"trip_month\": 4, \"trip_year\": 2025, \"ridership\": 2, \"revenue\": 10.0, \"od\": \"BUR->SMN\", \"direction\": \"sb\", \"orig_seq\": 2, \"dest_seq\": 5, \"departing_station\": \"4_WES\", \"distance\": 98}, {\"ca_bus_route\": \"Rt 1C\", \"orig\": \"BUR\", \"dest\": \"SMN\", \"trip_month\": 4, \"trip_year\": 2025, \"ridership\": 2, \"revenue\": 10.0, \"od\": \"BUR->SMN\", \"direction\": \"sb\", \"orig_seq\": 2, \"dest_seq\": 5, \"departing_station\": \"4_WES\", \"distance\": 99}, {\"ca_bus_route\": \"Rt 1C\", \"orig\": \"BUR\", \"dest\": \"SMN\", \"trip_month\": 4, \"trip_year\": 2025, \"ridership\": 2, \"revenue\": 10.0, \"od\": \"BUR->SMN\", \"direction\": \"sb\", \"orig_seq\": 2, \"dest_seq\": 5, \"departing_station\": \"4_WES\", \"distance\": 100}, {\"ca_bus_route\": \"Rt 1C\", \"orig\": \"BUR\", \"dest\": \"SMN\", \"trip_month\": 4, \"trip_year\": 2025, \"ridership\": 2, \"revenue\": 10.0, \"od\": \"BUR->SMN\", \"direction\": \"sb\", \"orig_seq\": 2, \"dest_seq\": 5, \"departing_station\": \"4_WES\", \"distance\": 101}, {\"ca_bus_route\": \"Rt 1C\", \"orig\": \"NHL\", \"dest\": \"SMN\", \"trip_month\": 4, \"trip_year\": 2025, \"ridership\": 3, \"revenue\": 23.0, \"od\": \"NHL->SMN\", \"direction\": \"sb\", \"orig_seq\": 1, \"dest_seq\": 5, \"departing_station\": \"4_WES\", \"distance\": 97}, {\"ca_bus_route\": \"Rt 1C\", \"orig\": \"NHL\", \"dest\": \"SMN\", \"trip_month\": 4, \"trip_year\": 2025, \"ridership\": 3, \"revenue\": 23.0, \"od\": \"NHL->SMN\", \"direction\": \"sb\", \"orig_seq\": 1, \"dest_seq\": 5, \"departing_station\": \"4_WES\", \"distance\": 98}, {\"ca_bus_route\": \"Rt 1C\", \"orig\": \"NHL\", \"dest\": \"SMN\", \"trip_month\": 4, \"trip_year\": 2025, \"ridership\": 3, \"revenue\": 23.0, \"od\": \"NHL->SMN\", \"direction\": \"sb\", \"orig_seq\": 1, \"dest_seq\": 5, \"departing_station\": \"4_WES\", \"distance\": 99}, {\"ca_bus_route\": \"Rt 1C\", \"orig\": \"NHL\", \"dest\": \"SMN\", \"trip_month\": 4, \"trip_year\": 2025, \"ridership\": 3, \"revenue\": 23.0, \"od\": \"NHL->SMN\", \"direction\": \"sb\", \"orig_seq\": 1, \"dest_seq\": 5, \"departing_station\": \"4_WES\", \"distance\": 100}, {\"ca_bus_route\": \"Rt 1C\", \"orig\": \"NHL\", \"dest\": \"SMN\", \"trip_month\": 4, \"trip_year\": 2025, \"ridership\": 3, \"revenue\": 23.0, \"od\": \"NHL->SMN\", \"direction\": \"sb\", \"orig_seq\": 1, \"dest_seq\": 5, \"departing_station\": \"4_WES\", \"distance\": 101}, {\"ca_bus_route\": \"Rt 1C\", \"orig\": \"VNC\", \"dest\": \"SMN\", \"trip_month\": 4, \"trip_year\": 2025, \"ridership\": 21, \"revenue\": 113.65, \"od\": \"VNC->SMN\", \"direction\": \"sb\", \"orig_seq\": 3, \"dest_seq\": 5, \"departing_station\": \"4_WES\", \"distance\": 97}, {\"ca_bus_route\": \"Rt 1C\", \"orig\": \"VNC\", \"dest\": \"SMN\", \"trip_month\": 4, \"trip_year\": 2025, \"ridership\": 21, \"revenue\": 113.65, \"od\": \"VNC->SMN\", \"direction\": \"sb\", \"orig_seq\": 3, \"dest_seq\": 5, \"departing_station\": \"4_WES\", \"distance\": 98}, {\"ca_bus_route\": \"Rt 1C\", \"orig\": \"VNC\", \"dest\": \"SMN\", \"trip_month\": 4, \"trip_year\": 2025, \"ridership\": 21, \"revenue\": 113.65, \"od\": \"VNC->SMN\", \"direction\": \"sb\", \"orig_seq\": 3, \"dest_seq\": 5, \"departing_station\": \"4_WES\", \"distance\": 99}, {\"ca_bus_route\": \"Rt 1C\", \"orig\": \"VNC\", \"dest\": \"SMN\", \"trip_month\": 4, \"trip_year\": 2025, \"ridership\": 21, \"revenue\": 113.65, \"od\": \"VNC->SMN\", \"direction\": \"sb\", \"orig_seq\": 3, \"dest_seq\": 5, \"departing_station\": \"4_WES\", \"distance\": 100}, {\"ca_bus_route\": \"Rt 1C\", \"orig\": \"VNC\", \"dest\": \"SMN\", \"trip_month\": 4, \"trip_year\": 2025, \"ridership\": 21, \"revenue\": 113.65, \"od\": \"VNC->SMN\", \"direction\": \"sb\", \"orig_seq\": 3, \"dest_seq\": 5, \"departing_station\": \"4_WES\", \"distance\": 101}]}}, {\"mode\": \"vega-lite\"});\n",
       "</script>"
      ],
      "text/plain": [
       "alt.Chart(...)"
      ]
     },
     "execution_count": 97,
     "metadata": {},
     "output_type": "execute_result"
    }
   ],
   "source": [
    "left"
   ]
  },
  {
   "cell_type": "markdown",
   "id": "8596d62c-2ef2-4ed6-8a03-89299f525299",
   "metadata": {},
   "source": [
    "### quick test route 19xOffset="
   ]
  },
  {
   "cell_type": "code",
   "execution_count": 22,
   "id": "4de38ff2-6918-4962-9d9b-c758c8f2c99e",
   "metadata": {
    "tags": []
   },
   "outputs": [],
   "source": [
    "test_19 = source_ridership.query('trip_year == 2025 & trip_month == 4 & ca_bus_route == \"Rt 19\"')"
   ]
  },
  {
   "cell_type": "code",
   "execution_count": 23,
   "id": "10683e39-f616-44e3-b6b0-f3e13af50e41",
   "metadata": {
    "tags": []
   },
   "outputs": [
    {
     "data": {
      "text/html": [
       "<div>\n",
       "<style scoped>\n",
       "    .dataframe tbody tr th:only-of-type {\n",
       "        vertical-align: middle;\n",
       "    }\n",
       "\n",
       "    .dataframe tbody tr th {\n",
       "        vertical-align: top;\n",
       "    }\n",
       "\n",
       "    .dataframe thead th {\n",
       "        text-align: right;\n",
       "    }\n",
       "</style>\n",
       "<table border=\"1\" class=\"dataframe\">\n",
       "  <thead>\n",
       "    <tr style=\"text-align: right;\">\n",
       "      <th></th>\n",
       "      <th>ca_bus_route</th>\n",
       "      <th>orig</th>\n",
       "      <th>dest</th>\n",
       "      <th>trip_month</th>\n",
       "      <th>trip_year</th>\n",
       "      <th>ridership</th>\n",
       "      <th>revenue</th>\n",
       "      <th>od</th>\n",
       "    </tr>\n",
       "  </thead>\n",
       "  <tbody>\n",
       "    <tr>\n",
       "      <th>11062</th>\n",
       "      <td>Rt 19</td>\n",
       "      <td>BFD</td>\n",
       "      <td>CLM</td>\n",
       "      <td>4</td>\n",
       "      <td>2025</td>\n",
       "      <td>187</td>\n",
       "      <td>3696.32</td>\n",
       "      <td>BFD-&gt;CLM</td>\n",
       "    </tr>\n",
       "    <tr>\n",
       "      <th>11093</th>\n",
       "      <td>Rt 19</td>\n",
       "      <td>BFD</td>\n",
       "      <td>LCA</td>\n",
       "      <td>4</td>\n",
       "      <td>2025</td>\n",
       "      <td>14</td>\n",
       "      <td>202.60</td>\n",
       "      <td>BFD-&gt;LCA</td>\n",
       "    </tr>\n",
       "    <tr>\n",
       "      <th>11117</th>\n",
       "      <td>Rt 19</td>\n",
       "      <td>BFD</td>\n",
       "      <td>ONA</td>\n",
       "      <td>4</td>\n",
       "      <td>2025</td>\n",
       "      <td>358</td>\n",
       "      <td>7389.17</td>\n",
       "      <td>BFD-&gt;ONA</td>\n",
       "    </tr>\n",
       "    <tr>\n",
       "      <th>11140</th>\n",
       "      <td>Rt 19</td>\n",
       "      <td>BFD</td>\n",
       "      <td>PAS</td>\n",
       "      <td>4</td>\n",
       "      <td>2025</td>\n",
       "      <td>206</td>\n",
       "      <td>3348.38</td>\n",
       "      <td>BFD-&gt;PAS</td>\n",
       "    </tr>\n",
       "    <tr>\n",
       "      <th>11163</th>\n",
       "      <td>Rt 19</td>\n",
       "      <td>BFD</td>\n",
       "      <td>RIV</td>\n",
       "      <td>4</td>\n",
       "      <td>2025</td>\n",
       "      <td>604</td>\n",
       "      <td>14117.81</td>\n",
       "      <td>BFD-&gt;RIV</td>\n",
       "    </tr>\n",
       "    <tr>\n",
       "      <th>11186</th>\n",
       "      <td>Rt 19</td>\n",
       "      <td>BFD</td>\n",
       "      <td>SNB</td>\n",
       "      <td>4</td>\n",
       "      <td>2025</td>\n",
       "      <td>368</td>\n",
       "      <td>9255.30</td>\n",
       "      <td>BFD-&gt;SNB</td>\n",
       "    </tr>\n",
       "    <tr>\n",
       "      <th>11209</th>\n",
       "      <td>Rt 19</td>\n",
       "      <td>CLM</td>\n",
       "      <td>BFD</td>\n",
       "      <td>4</td>\n",
       "      <td>2025</td>\n",
       "      <td>199</td>\n",
       "      <td>4002.72</td>\n",
       "      <td>CLM-&gt;BFD</td>\n",
       "    </tr>\n",
       "    <tr>\n",
       "      <th>11244</th>\n",
       "      <td>Rt 19</td>\n",
       "      <td>CLM</td>\n",
       "      <td>PAS</td>\n",
       "      <td>4</td>\n",
       "      <td>2025</td>\n",
       "      <td>15</td>\n",
       "      <td>82.00</td>\n",
       "      <td>CLM-&gt;PAS</td>\n",
       "    </tr>\n",
       "    <tr>\n",
       "      <th>11266</th>\n",
       "      <td>Rt 19</td>\n",
       "      <td>CLM</td>\n",
       "      <td>RIV</td>\n",
       "      <td>4</td>\n",
       "      <td>2025</td>\n",
       "      <td>7</td>\n",
       "      <td>41.00</td>\n",
       "      <td>CLM-&gt;RIV</td>\n",
       "    </tr>\n",
       "    <tr>\n",
       "      <th>11303</th>\n",
       "      <td>Rt 19</td>\n",
       "      <td>LCA</td>\n",
       "      <td>BFD</td>\n",
       "      <td>4</td>\n",
       "      <td>2025</td>\n",
       "      <td>11</td>\n",
       "      <td>159.00</td>\n",
       "      <td>LCA-&gt;BFD</td>\n",
       "    </tr>\n",
       "    <tr>\n",
       "      <th>11365</th>\n",
       "      <td>Rt 19</td>\n",
       "      <td>ONA</td>\n",
       "      <td>BFD</td>\n",
       "      <td>4</td>\n",
       "      <td>2025</td>\n",
       "      <td>345</td>\n",
       "      <td>7116.25</td>\n",
       "      <td>ONA-&gt;BFD</td>\n",
       "    </tr>\n",
       "    <tr>\n",
       "      <th>11404</th>\n",
       "      <td>Rt 19</td>\n",
       "      <td>ONA</td>\n",
       "      <td>PAS</td>\n",
       "      <td>4</td>\n",
       "      <td>2025</td>\n",
       "      <td>5</td>\n",
       "      <td>22.50</td>\n",
       "      <td>ONA-&gt;PAS</td>\n",
       "    </tr>\n",
       "    <tr>\n",
       "      <th>11427</th>\n",
       "      <td>Rt 19</td>\n",
       "      <td>ONA</td>\n",
       "      <td>RIV</td>\n",
       "      <td>4</td>\n",
       "      <td>2025</td>\n",
       "      <td>17</td>\n",
       "      <td>86.00</td>\n",
       "      <td>ONA-&gt;RIV</td>\n",
       "    </tr>\n",
       "    <tr>\n",
       "      <th>11442</th>\n",
       "      <td>Rt 19</td>\n",
       "      <td>ONA</td>\n",
       "      <td>SNB</td>\n",
       "      <td>4</td>\n",
       "      <td>2025</td>\n",
       "      <td>1</td>\n",
       "      <td>5.00</td>\n",
       "      <td>ONA-&gt;SNB</td>\n",
       "    </tr>\n",
       "    <tr>\n",
       "      <th>11464</th>\n",
       "      <td>Rt 19</td>\n",
       "      <td>PAS</td>\n",
       "      <td>BFD</td>\n",
       "      <td>4</td>\n",
       "      <td>2025</td>\n",
       "      <td>181</td>\n",
       "      <td>2987.60</td>\n",
       "      <td>PAS-&gt;BFD</td>\n",
       "    </tr>\n",
       "    <tr>\n",
       "      <th>11487</th>\n",
       "      <td>Rt 19</td>\n",
       "      <td>PAS</td>\n",
       "      <td>CLM</td>\n",
       "      <td>4</td>\n",
       "      <td>2025</td>\n",
       "      <td>18</td>\n",
       "      <td>87.50</td>\n",
       "      <td>PAS-&gt;CLM</td>\n",
       "    </tr>\n",
       "    <tr>\n",
       "      <th>11530</th>\n",
       "      <td>Rt 19</td>\n",
       "      <td>PAS</td>\n",
       "      <td>ONA</td>\n",
       "      <td>4</td>\n",
       "      <td>2025</td>\n",
       "      <td>5</td>\n",
       "      <td>26.00</td>\n",
       "      <td>PAS-&gt;ONA</td>\n",
       "    </tr>\n",
       "    <tr>\n",
       "      <th>11552</th>\n",
       "      <td>Rt 19</td>\n",
       "      <td>PAS</td>\n",
       "      <td>RIV</td>\n",
       "      <td>4</td>\n",
       "      <td>2025</td>\n",
       "      <td>14</td>\n",
       "      <td>97.80</td>\n",
       "      <td>PAS-&gt;RIV</td>\n",
       "    </tr>\n",
       "    <tr>\n",
       "      <th>11590</th>\n",
       "      <td>Rt 19</td>\n",
       "      <td>RIV</td>\n",
       "      <td>BFD</td>\n",
       "      <td>4</td>\n",
       "      <td>2025</td>\n",
       "      <td>586</td>\n",
       "      <td>14091.05</td>\n",
       "      <td>RIV-&gt;BFD</td>\n",
       "    </tr>\n",
       "    <tr>\n",
       "      <th>11613</th>\n",
       "      <td>Rt 19</td>\n",
       "      <td>RIV</td>\n",
       "      <td>CLM</td>\n",
       "      <td>4</td>\n",
       "      <td>2025</td>\n",
       "      <td>24</td>\n",
       "      <td>121.50</td>\n",
       "      <td>RIV-&gt;CLM</td>\n",
       "    </tr>\n",
       "    <tr>\n",
       "      <th>11648</th>\n",
       "      <td>Rt 19</td>\n",
       "      <td>RIV</td>\n",
       "      <td>ONA</td>\n",
       "      <td>4</td>\n",
       "      <td>2025</td>\n",
       "      <td>27</td>\n",
       "      <td>142.00</td>\n",
       "      <td>RIV-&gt;ONA</td>\n",
       "    </tr>\n",
       "    <tr>\n",
       "      <th>11671</th>\n",
       "      <td>Rt 19</td>\n",
       "      <td>RIV</td>\n",
       "      <td>PAS</td>\n",
       "      <td>4</td>\n",
       "      <td>2025</td>\n",
       "      <td>15</td>\n",
       "      <td>105.55</td>\n",
       "      <td>RIV-&gt;PAS</td>\n",
       "    </tr>\n",
       "    <tr>\n",
       "      <th>11681</th>\n",
       "      <td>Rt 19</td>\n",
       "      <td>RIV</td>\n",
       "      <td>SNB</td>\n",
       "      <td>4</td>\n",
       "      <td>2025</td>\n",
       "      <td>1</td>\n",
       "      <td>5.00</td>\n",
       "      <td>RIV-&gt;SNB</td>\n",
       "    </tr>\n",
       "    <tr>\n",
       "      <th>11702</th>\n",
       "      <td>Rt 19</td>\n",
       "      <td>SNB</td>\n",
       "      <td>BFD</td>\n",
       "      <td>4</td>\n",
       "      <td>2025</td>\n",
       "      <td>338</td>\n",
       "      <td>8467.30</td>\n",
       "      <td>SNB-&gt;BFD</td>\n",
       "    </tr>\n",
       "    <tr>\n",
       "      <th>11738</th>\n",
       "      <td>Rt 19</td>\n",
       "      <td>SNB</td>\n",
       "      <td>PAS</td>\n",
       "      <td>4</td>\n",
       "      <td>2025</td>\n",
       "      <td>3</td>\n",
       "      <td>30.00</td>\n",
       "      <td>SNB-&gt;PAS</td>\n",
       "    </tr>\n",
       "    <tr>\n",
       "      <th>11748</th>\n",
       "      <td>Rt 19</td>\n",
       "      <td>SNB</td>\n",
       "      <td>RIV</td>\n",
       "      <td>4</td>\n",
       "      <td>2025</td>\n",
       "      <td>2</td>\n",
       "      <td>10.00</td>\n",
       "      <td>SNB-&gt;RIV</td>\n",
       "    </tr>\n",
       "  </tbody>\n",
       "</table>\n",
       "</div>"
      ],
      "text/plain": [
       "      ca_bus_route orig dest  trip_month  trip_year  ridership   revenue  \\\n",
       "11062        Rt 19  BFD  CLM           4       2025        187   3696.32   \n",
       "11093        Rt 19  BFD  LCA           4       2025         14    202.60   \n",
       "11117        Rt 19  BFD  ONA           4       2025        358   7389.17   \n",
       "11140        Rt 19  BFD  PAS           4       2025        206   3348.38   \n",
       "11163        Rt 19  BFD  RIV           4       2025        604  14117.81   \n",
       "11186        Rt 19  BFD  SNB           4       2025        368   9255.30   \n",
       "11209        Rt 19  CLM  BFD           4       2025        199   4002.72   \n",
       "11244        Rt 19  CLM  PAS           4       2025         15     82.00   \n",
       "11266        Rt 19  CLM  RIV           4       2025          7     41.00   \n",
       "11303        Rt 19  LCA  BFD           4       2025         11    159.00   \n",
       "11365        Rt 19  ONA  BFD           4       2025        345   7116.25   \n",
       "11404        Rt 19  ONA  PAS           4       2025          5     22.50   \n",
       "11427        Rt 19  ONA  RIV           4       2025         17     86.00   \n",
       "11442        Rt 19  ONA  SNB           4       2025          1      5.00   \n",
       "11464        Rt 19  PAS  BFD           4       2025        181   2987.60   \n",
       "11487        Rt 19  PAS  CLM           4       2025         18     87.50   \n",
       "11530        Rt 19  PAS  ONA           4       2025          5     26.00   \n",
       "11552        Rt 19  PAS  RIV           4       2025         14     97.80   \n",
       "11590        Rt 19  RIV  BFD           4       2025        586  14091.05   \n",
       "11613        Rt 19  RIV  CLM           4       2025         24    121.50   \n",
       "11648        Rt 19  RIV  ONA           4       2025         27    142.00   \n",
       "11671        Rt 19  RIV  PAS           4       2025         15    105.55   \n",
       "11681        Rt 19  RIV  SNB           4       2025          1      5.00   \n",
       "11702        Rt 19  SNB  BFD           4       2025        338   8467.30   \n",
       "11738        Rt 19  SNB  PAS           4       2025          3     30.00   \n",
       "11748        Rt 19  SNB  RIV           4       2025          2     10.00   \n",
       "\n",
       "             od  \n",
       "11062  BFD->CLM  \n",
       "11093  BFD->LCA  \n",
       "11117  BFD->ONA  \n",
       "11140  BFD->PAS  \n",
       "11163  BFD->RIV  \n",
       "11186  BFD->SNB  \n",
       "11209  CLM->BFD  \n",
       "11244  CLM->PAS  \n",
       "11266  CLM->RIV  \n",
       "11303  LCA->BFD  \n",
       "11365  ONA->BFD  \n",
       "11404  ONA->PAS  \n",
       "11427  ONA->RIV  \n",
       "11442  ONA->SNB  \n",
       "11464  PAS->BFD  \n",
       "11487  PAS->CLM  \n",
       "11530  PAS->ONA  \n",
       "11552  PAS->RIV  \n",
       "11590  RIV->BFD  \n",
       "11613  RIV->CLM  \n",
       "11648  RIV->ONA  \n",
       "11671  RIV->PAS  \n",
       "11681  RIV->SNB  \n",
       "11702  SNB->BFD  \n",
       "11738  SNB->PAS  \n",
       "11748  SNB->RIV  "
      ]
     },
     "execution_count": 23,
     "metadata": {},
     "output_type": "execute_result"
    }
   ],
   "source": [
    "test_19"
   ]
  },
  {
   "cell_type": "code",
   "execution_count": 24,
   "id": "a426ef47-42d5-4c28-8745-9479b2b09df7",
   "metadata": {
    "tags": []
   },
   "outputs": [],
   "source": [
    "sb_19 = ['BFD', 'LCA', 'PAS', 'CLM', 'ONA', 'RIV', 'SNB']"
   ]
  },
  {
   "cell_type": "code",
   "execution_count": 25,
   "id": "f19e7aff-400a-4b0f-af4d-3497ddc3d2bd",
   "metadata": {
    "tags": []
   },
   "outputs": [],
   "source": [
    "sb_19 = dict(zip(sb_19, range(len(sb_19))))"
   ]
  },
  {
   "cell_type": "code",
   "execution_count": 26,
   "id": "8ed390b0-7a6b-4bb1-baed-af27a61e8561",
   "metadata": {
    "tags": []
   },
   "outputs": [
    {
     "data": {
      "text/plain": [
       "{'BFD': 0, 'LCA': 1, 'PAS': 2, 'CLM': 3, 'ONA': 4, 'RIV': 5, 'SNB': 6}"
      ]
     },
     "execution_count": 26,
     "metadata": {},
     "output_type": "execute_result"
    }
   ],
   "source": [
    "sb_19"
   ]
  },
  {
   "cell_type": "code",
   "execution_count": 27,
   "id": "73a3eb2a-3ae0-472a-8f47-2ba3388ed24d",
   "metadata": {
    "tags": []
   },
   "outputs": [],
   "source": [
    "test_19 = test_19.assign(direction = test_19.apply(determine_direction, axis=1, sequence_dict = sb_19))"
   ]
  },
  {
   "cell_type": "code",
   "execution_count": 28,
   "id": "62f41294-120f-45eb-9e5e-3395927520ce",
   "metadata": {
    "tags": []
   },
   "outputs": [],
   "source": [
    "test_19 = test_19.query('direction == \"sb\"') "
   ]
  },
  {
   "cell_type": "code",
   "execution_count": 29,
   "id": "7818bf33-0843-4182-95cb-695825e61d79",
   "metadata": {
    "tags": []
   },
   "outputs": [],
   "source": [
    "test_19 = test_19.assign(orig_seq = test_19.orig.apply(lambda x: sb_19[x]),\n",
    "              dest_seq = test_19.dest.apply(lambda x: sb_19[x]))"
   ]
  },
  {
   "cell_type": "code",
   "execution_count": 30,
   "id": "848e7c2b-12ca-4445-9bf5-c639a515850e",
   "metadata": {
    "tags": []
   },
   "outputs": [
    {
     "data": {
      "text/html": [
       "<div>\n",
       "<style scoped>\n",
       "    .dataframe tbody tr th:only-of-type {\n",
       "        vertical-align: middle;\n",
       "    }\n",
       "\n",
       "    .dataframe tbody tr th {\n",
       "        vertical-align: top;\n",
       "    }\n",
       "\n",
       "    .dataframe thead th {\n",
       "        text-align: right;\n",
       "    }\n",
       "</style>\n",
       "<table border=\"1\" class=\"dataframe\">\n",
       "  <thead>\n",
       "    <tr style=\"text-align: right;\">\n",
       "      <th></th>\n",
       "      <th>ca_bus_route</th>\n",
       "      <th>orig</th>\n",
       "      <th>dest</th>\n",
       "      <th>trip_month</th>\n",
       "      <th>trip_year</th>\n",
       "      <th>ridership</th>\n",
       "      <th>revenue</th>\n",
       "      <th>od</th>\n",
       "      <th>direction</th>\n",
       "      <th>orig_seq</th>\n",
       "      <th>dest_seq</th>\n",
       "    </tr>\n",
       "  </thead>\n",
       "  <tbody>\n",
       "    <tr>\n",
       "      <th>11062</th>\n",
       "      <td>Rt 19</td>\n",
       "      <td>BFD</td>\n",
       "      <td>CLM</td>\n",
       "      <td>4</td>\n",
       "      <td>2025</td>\n",
       "      <td>187</td>\n",
       "      <td>3696.32</td>\n",
       "      <td>BFD-&gt;CLM</td>\n",
       "      <td>sb</td>\n",
       "      <td>0</td>\n",
       "      <td>3</td>\n",
       "    </tr>\n",
       "    <tr>\n",
       "      <th>11093</th>\n",
       "      <td>Rt 19</td>\n",
       "      <td>BFD</td>\n",
       "      <td>LCA</td>\n",
       "      <td>4</td>\n",
       "      <td>2025</td>\n",
       "      <td>14</td>\n",
       "      <td>202.60</td>\n",
       "      <td>BFD-&gt;LCA</td>\n",
       "      <td>sb</td>\n",
       "      <td>0</td>\n",
       "      <td>1</td>\n",
       "    </tr>\n",
       "    <tr>\n",
       "      <th>11117</th>\n",
       "      <td>Rt 19</td>\n",
       "      <td>BFD</td>\n",
       "      <td>ONA</td>\n",
       "      <td>4</td>\n",
       "      <td>2025</td>\n",
       "      <td>358</td>\n",
       "      <td>7389.17</td>\n",
       "      <td>BFD-&gt;ONA</td>\n",
       "      <td>sb</td>\n",
       "      <td>0</td>\n",
       "      <td>4</td>\n",
       "    </tr>\n",
       "    <tr>\n",
       "      <th>11140</th>\n",
       "      <td>Rt 19</td>\n",
       "      <td>BFD</td>\n",
       "      <td>PAS</td>\n",
       "      <td>4</td>\n",
       "      <td>2025</td>\n",
       "      <td>206</td>\n",
       "      <td>3348.38</td>\n",
       "      <td>BFD-&gt;PAS</td>\n",
       "      <td>sb</td>\n",
       "      <td>0</td>\n",
       "      <td>2</td>\n",
       "    </tr>\n",
       "    <tr>\n",
       "      <th>11163</th>\n",
       "      <td>Rt 19</td>\n",
       "      <td>BFD</td>\n",
       "      <td>RIV</td>\n",
       "      <td>4</td>\n",
       "      <td>2025</td>\n",
       "      <td>604</td>\n",
       "      <td>14117.81</td>\n",
       "      <td>BFD-&gt;RIV</td>\n",
       "      <td>sb</td>\n",
       "      <td>0</td>\n",
       "      <td>5</td>\n",
       "    </tr>\n",
       "    <tr>\n",
       "      <th>11186</th>\n",
       "      <td>Rt 19</td>\n",
       "      <td>BFD</td>\n",
       "      <td>SNB</td>\n",
       "      <td>4</td>\n",
       "      <td>2025</td>\n",
       "      <td>368</td>\n",
       "      <td>9255.30</td>\n",
       "      <td>BFD-&gt;SNB</td>\n",
       "      <td>sb</td>\n",
       "      <td>0</td>\n",
       "      <td>6</td>\n",
       "    </tr>\n",
       "    <tr>\n",
       "      <th>11266</th>\n",
       "      <td>Rt 19</td>\n",
       "      <td>CLM</td>\n",
       "      <td>RIV</td>\n",
       "      <td>4</td>\n",
       "      <td>2025</td>\n",
       "      <td>7</td>\n",
       "      <td>41.00</td>\n",
       "      <td>CLM-&gt;RIV</td>\n",
       "      <td>sb</td>\n",
       "      <td>3</td>\n",
       "      <td>5</td>\n",
       "    </tr>\n",
       "    <tr>\n",
       "      <th>11427</th>\n",
       "      <td>Rt 19</td>\n",
       "      <td>ONA</td>\n",
       "      <td>RIV</td>\n",
       "      <td>4</td>\n",
       "      <td>2025</td>\n",
       "      <td>17</td>\n",
       "      <td>86.00</td>\n",
       "      <td>ONA-&gt;RIV</td>\n",
       "      <td>sb</td>\n",
       "      <td>4</td>\n",
       "      <td>5</td>\n",
       "    </tr>\n",
       "    <tr>\n",
       "      <th>11442</th>\n",
       "      <td>Rt 19</td>\n",
       "      <td>ONA</td>\n",
       "      <td>SNB</td>\n",
       "      <td>4</td>\n",
       "      <td>2025</td>\n",
       "      <td>1</td>\n",
       "      <td>5.00</td>\n",
       "      <td>ONA-&gt;SNB</td>\n",
       "      <td>sb</td>\n",
       "      <td>4</td>\n",
       "      <td>6</td>\n",
       "    </tr>\n",
       "    <tr>\n",
       "      <th>11487</th>\n",
       "      <td>Rt 19</td>\n",
       "      <td>PAS</td>\n",
       "      <td>CLM</td>\n",
       "      <td>4</td>\n",
       "      <td>2025</td>\n",
       "      <td>18</td>\n",
       "      <td>87.50</td>\n",
       "      <td>PAS-&gt;CLM</td>\n",
       "      <td>sb</td>\n",
       "      <td>2</td>\n",
       "      <td>3</td>\n",
       "    </tr>\n",
       "    <tr>\n",
       "      <th>11530</th>\n",
       "      <td>Rt 19</td>\n",
       "      <td>PAS</td>\n",
       "      <td>ONA</td>\n",
       "      <td>4</td>\n",
       "      <td>2025</td>\n",
       "      <td>5</td>\n",
       "      <td>26.00</td>\n",
       "      <td>PAS-&gt;ONA</td>\n",
       "      <td>sb</td>\n",
       "      <td>2</td>\n",
       "      <td>4</td>\n",
       "    </tr>\n",
       "    <tr>\n",
       "      <th>11552</th>\n",
       "      <td>Rt 19</td>\n",
       "      <td>PAS</td>\n",
       "      <td>RIV</td>\n",
       "      <td>4</td>\n",
       "      <td>2025</td>\n",
       "      <td>14</td>\n",
       "      <td>97.80</td>\n",
       "      <td>PAS-&gt;RIV</td>\n",
       "      <td>sb</td>\n",
       "      <td>2</td>\n",
       "      <td>5</td>\n",
       "    </tr>\n",
       "    <tr>\n",
       "      <th>11681</th>\n",
       "      <td>Rt 19</td>\n",
       "      <td>RIV</td>\n",
       "      <td>SNB</td>\n",
       "      <td>4</td>\n",
       "      <td>2025</td>\n",
       "      <td>1</td>\n",
       "      <td>5.00</td>\n",
       "      <td>RIV-&gt;SNB</td>\n",
       "      <td>sb</td>\n",
       "      <td>5</td>\n",
       "      <td>6</td>\n",
       "    </tr>\n",
       "  </tbody>\n",
       "</table>\n",
       "</div>"
      ],
      "text/plain": [
       "      ca_bus_route orig dest  trip_month  trip_year  ridership   revenue  \\\n",
       "11062        Rt 19  BFD  CLM           4       2025        187   3696.32   \n",
       "11093        Rt 19  BFD  LCA           4       2025         14    202.60   \n",
       "11117        Rt 19  BFD  ONA           4       2025        358   7389.17   \n",
       "11140        Rt 19  BFD  PAS           4       2025        206   3348.38   \n",
       "11163        Rt 19  BFD  RIV           4       2025        604  14117.81   \n",
       "11186        Rt 19  BFD  SNB           4       2025        368   9255.30   \n",
       "11266        Rt 19  CLM  RIV           4       2025          7     41.00   \n",
       "11427        Rt 19  ONA  RIV           4       2025         17     86.00   \n",
       "11442        Rt 19  ONA  SNB           4       2025          1      5.00   \n",
       "11487        Rt 19  PAS  CLM           4       2025         18     87.50   \n",
       "11530        Rt 19  PAS  ONA           4       2025          5     26.00   \n",
       "11552        Rt 19  PAS  RIV           4       2025         14     97.80   \n",
       "11681        Rt 19  RIV  SNB           4       2025          1      5.00   \n",
       "\n",
       "             od direction  orig_seq  dest_seq  \n",
       "11062  BFD->CLM        sb         0         3  \n",
       "11093  BFD->LCA        sb         0         1  \n",
       "11117  BFD->ONA        sb         0         4  \n",
       "11140  BFD->PAS        sb         0         2  \n",
       "11163  BFD->RIV        sb         0         5  \n",
       "11186  BFD->SNB        sb         0         6  \n",
       "11266  CLM->RIV        sb         3         5  \n",
       "11427  ONA->RIV        sb         4         5  \n",
       "11442  ONA->SNB        sb         4         6  \n",
       "11487  PAS->CLM        sb         2         3  \n",
       "11530  PAS->ONA        sb         2         4  \n",
       "11552  PAS->RIV        sb         2         5  \n",
       "11681  RIV->SNB        sb         5         6  "
      ]
     },
     "execution_count": 30,
     "metadata": {},
     "output_type": "execute_result"
    }
   ],
   "source": [
    "test_19"
   ]
  },
  {
   "cell_type": "code",
   "execution_count": 31,
   "id": "2a292242-ff91-4c1a-8df7-455bb7d9d606",
   "metadata": {
    "tags": []
   },
   "outputs": [
    {
     "data": {
      "text/html": [
       "\n",
       "<style>\n",
       "  #altair-viz-0e4f29ff6b074c5f8a0b5028c10f758d.vega-embed {\n",
       "    width: 100%;\n",
       "    display: flex;\n",
       "  }\n",
       "\n",
       "  #altair-viz-0e4f29ff6b074c5f8a0b5028c10f758d.vega-embed details,\n",
       "  #altair-viz-0e4f29ff6b074c5f8a0b5028c10f758d.vega-embed details summary {\n",
       "    position: relative;\n",
       "  }\n",
       "</style>\n",
       "<div id=\"altair-viz-0e4f29ff6b074c5f8a0b5028c10f758d\"></div>\n",
       "<script type=\"text/javascript\">\n",
       "  var VEGA_DEBUG = (typeof VEGA_DEBUG == \"undefined\") ? {} : VEGA_DEBUG;\n",
       "  (function(spec, embedOpt){\n",
       "    let outputDiv = document.currentScript.previousElementSibling;\n",
       "    if (outputDiv.id !== \"altair-viz-0e4f29ff6b074c5f8a0b5028c10f758d\") {\n",
       "      outputDiv = document.getElementById(\"altair-viz-0e4f29ff6b074c5f8a0b5028c10f758d\");\n",
       "    }\n",
       "\n",
       "    const paths = {\n",
       "      \"vega\": \"https://cdn.jsdelivr.net/npm/vega@5?noext\",\n",
       "      \"vega-lib\": \"https://cdn.jsdelivr.net/npm/vega-lib?noext\",\n",
       "      \"vega-lite\": \"https://cdn.jsdelivr.net/npm/vega-lite@5.20.1?noext\",\n",
       "      \"vega-embed\": \"https://cdn.jsdelivr.net/npm/vega-embed@6?noext\",\n",
       "    };\n",
       "\n",
       "    function maybeLoadScript(lib, version) {\n",
       "      var key = `${lib.replace(\"-\", \"\")}_version`;\n",
       "      return (VEGA_DEBUG[key] == version) ?\n",
       "        Promise.resolve(paths[lib]) :\n",
       "        new Promise(function(resolve, reject) {\n",
       "          var s = document.createElement('script');\n",
       "          document.getElementsByTagName(\"head\")[0].appendChild(s);\n",
       "          s.async = true;\n",
       "          s.onload = () => {\n",
       "            VEGA_DEBUG[key] = version;\n",
       "            return resolve(paths[lib]);\n",
       "          };\n",
       "          s.onerror = () => reject(`Error loading script: ${paths[lib]}`);\n",
       "          s.src = paths[lib];\n",
       "        });\n",
       "    }\n",
       "\n",
       "    function showError(err) {\n",
       "      outputDiv.innerHTML = `<div class=\"error\" style=\"color:red;\">${err}</div>`;\n",
       "      throw err;\n",
       "    }\n",
       "\n",
       "    function displayChart(vegaEmbed) {\n",
       "      vegaEmbed(outputDiv, spec, embedOpt)\n",
       "        .catch(err => showError(`Javascript Error: ${err.message}<br>This usually means there's a typo in your chart specification. See the javascript console for the full traceback.`));\n",
       "    }\n",
       "\n",
       "    if(typeof define === \"function\" && define.amd) {\n",
       "      requirejs.config({paths});\n",
       "      let deps = [\"vega-embed\"];\n",
       "      require(deps, displayChart, err => showError(`Error loading script: ${err.message}`));\n",
       "    } else {\n",
       "      maybeLoadScript(\"vega\", \"5\")\n",
       "        .then(() => maybeLoadScript(\"vega-lite\", \"5.20.1\"))\n",
       "        .then(() => maybeLoadScript(\"vega-embed\", \"6\"))\n",
       "        .catch(showError)\n",
       "        .then(() => displayChart(vegaEmbed));\n",
       "    }\n",
       "  })({\"config\": {\"view\": {\"continuousWidth\": 300, \"continuousHeight\": 300}}, \"data\": {\"name\": \"data-e1f902dcf2d6e187a0c58824ed7431d4\"}, \"mark\": {\"type\": \"bar\"}, \"encoding\": {\"color\": {\"field\": \"od\", \"type\": \"nominal\"}, \"x\": {\"field\": \"departing_station\", \"type\": \"nominal\"}, \"y\": {\"aggregate\": \"sum\", \"field\": \"ridership\", \"type\": \"quantitative\"}}, \"$schema\": \"https://vega.github.io/schema/vega-lite/v5.20.1.json\", \"datasets\": {\"data-e1f902dcf2d6e187a0c58824ed7431d4\": [{\"ca_bus_route\": \"Rt 19\", \"orig\": \"BFD\", \"dest\": \"CLM\", \"trip_month\": 4, \"trip_year\": 2025, \"ridership\": 187, \"revenue\": 3696.32, \"od\": \"BFD->CLM\", \"direction\": \"sb\", \"orig_seq\": 0, \"dest_seq\": 3, \"departing_station\": \"0_BFD\"}, {\"ca_bus_route\": \"Rt 19\", \"orig\": \"BFD\", \"dest\": \"LCA\", \"trip_month\": 4, \"trip_year\": 2025, \"ridership\": 14, \"revenue\": 202.6, \"od\": \"BFD->LCA\", \"direction\": \"sb\", \"orig_seq\": 0, \"dest_seq\": 1, \"departing_station\": \"0_BFD\"}, {\"ca_bus_route\": \"Rt 19\", \"orig\": \"BFD\", \"dest\": \"ONA\", \"trip_month\": 4, \"trip_year\": 2025, \"ridership\": 358, \"revenue\": 7389.17, \"od\": \"BFD->ONA\", \"direction\": \"sb\", \"orig_seq\": 0, \"dest_seq\": 4, \"departing_station\": \"0_BFD\"}, {\"ca_bus_route\": \"Rt 19\", \"orig\": \"BFD\", \"dest\": \"PAS\", \"trip_month\": 4, \"trip_year\": 2025, \"ridership\": 206, \"revenue\": 3348.38, \"od\": \"BFD->PAS\", \"direction\": \"sb\", \"orig_seq\": 0, \"dest_seq\": 2, \"departing_station\": \"0_BFD\"}, {\"ca_bus_route\": \"Rt 19\", \"orig\": \"BFD\", \"dest\": \"RIV\", \"trip_month\": 4, \"trip_year\": 2025, \"ridership\": 604, \"revenue\": 14117.81, \"od\": \"BFD->RIV\", \"direction\": \"sb\", \"orig_seq\": 0, \"dest_seq\": 5, \"departing_station\": \"0_BFD\"}, {\"ca_bus_route\": \"Rt 19\", \"orig\": \"BFD\", \"dest\": \"SNB\", \"trip_month\": 4, \"trip_year\": 2025, \"ridership\": 368, \"revenue\": 9255.3, \"od\": \"BFD->SNB\", \"direction\": \"sb\", \"orig_seq\": 0, \"dest_seq\": 6, \"departing_station\": \"0_BFD\"}, {\"ca_bus_route\": \"Rt 19\", \"orig\": \"BFD\", \"dest\": \"CLM\", \"trip_month\": 4, \"trip_year\": 2025, \"ridership\": 187, \"revenue\": 3696.32, \"od\": \"BFD->CLM\", \"direction\": \"sb\", \"orig_seq\": 0, \"dest_seq\": 3, \"departing_station\": \"1_LCA\"}, {\"ca_bus_route\": \"Rt 19\", \"orig\": \"BFD\", \"dest\": \"ONA\", \"trip_month\": 4, \"trip_year\": 2025, \"ridership\": 358, \"revenue\": 7389.17, \"od\": \"BFD->ONA\", \"direction\": \"sb\", \"orig_seq\": 0, \"dest_seq\": 4, \"departing_station\": \"1_LCA\"}, {\"ca_bus_route\": \"Rt 19\", \"orig\": \"BFD\", \"dest\": \"PAS\", \"trip_month\": 4, \"trip_year\": 2025, \"ridership\": 206, \"revenue\": 3348.38, \"od\": \"BFD->PAS\", \"direction\": \"sb\", \"orig_seq\": 0, \"dest_seq\": 2, \"departing_station\": \"1_LCA\"}, {\"ca_bus_route\": \"Rt 19\", \"orig\": \"BFD\", \"dest\": \"RIV\", \"trip_month\": 4, \"trip_year\": 2025, \"ridership\": 604, \"revenue\": 14117.81, \"od\": \"BFD->RIV\", \"direction\": \"sb\", \"orig_seq\": 0, \"dest_seq\": 5, \"departing_station\": \"1_LCA\"}, {\"ca_bus_route\": \"Rt 19\", \"orig\": \"BFD\", \"dest\": \"SNB\", \"trip_month\": 4, \"trip_year\": 2025, \"ridership\": 368, \"revenue\": 9255.3, \"od\": \"BFD->SNB\", \"direction\": \"sb\", \"orig_seq\": 0, \"dest_seq\": 6, \"departing_station\": \"1_LCA\"}, {\"ca_bus_route\": \"Rt 19\", \"orig\": \"BFD\", \"dest\": \"CLM\", \"trip_month\": 4, \"trip_year\": 2025, \"ridership\": 187, \"revenue\": 3696.32, \"od\": \"BFD->CLM\", \"direction\": \"sb\", \"orig_seq\": 0, \"dest_seq\": 3, \"departing_station\": \"2_PAS\"}, {\"ca_bus_route\": \"Rt 19\", \"orig\": \"BFD\", \"dest\": \"ONA\", \"trip_month\": 4, \"trip_year\": 2025, \"ridership\": 358, \"revenue\": 7389.17, \"od\": \"BFD->ONA\", \"direction\": \"sb\", \"orig_seq\": 0, \"dest_seq\": 4, \"departing_station\": \"2_PAS\"}, {\"ca_bus_route\": \"Rt 19\", \"orig\": \"BFD\", \"dest\": \"RIV\", \"trip_month\": 4, \"trip_year\": 2025, \"ridership\": 604, \"revenue\": 14117.81, \"od\": \"BFD->RIV\", \"direction\": \"sb\", \"orig_seq\": 0, \"dest_seq\": 5, \"departing_station\": \"2_PAS\"}, {\"ca_bus_route\": \"Rt 19\", \"orig\": \"BFD\", \"dest\": \"SNB\", \"trip_month\": 4, \"trip_year\": 2025, \"ridership\": 368, \"revenue\": 9255.3, \"od\": \"BFD->SNB\", \"direction\": \"sb\", \"orig_seq\": 0, \"dest_seq\": 6, \"departing_station\": \"2_PAS\"}, {\"ca_bus_route\": \"Rt 19\", \"orig\": \"PAS\", \"dest\": \"CLM\", \"trip_month\": 4, \"trip_year\": 2025, \"ridership\": 18, \"revenue\": 87.5, \"od\": \"PAS->CLM\", \"direction\": \"sb\", \"orig_seq\": 2, \"dest_seq\": 3, \"departing_station\": \"2_PAS\"}, {\"ca_bus_route\": \"Rt 19\", \"orig\": \"PAS\", \"dest\": \"ONA\", \"trip_month\": 4, \"trip_year\": 2025, \"ridership\": 5, \"revenue\": 26.0, \"od\": \"PAS->ONA\", \"direction\": \"sb\", \"orig_seq\": 2, \"dest_seq\": 4, \"departing_station\": \"2_PAS\"}, {\"ca_bus_route\": \"Rt 19\", \"orig\": \"PAS\", \"dest\": \"RIV\", \"trip_month\": 4, \"trip_year\": 2025, \"ridership\": 14, \"revenue\": 97.8, \"od\": \"PAS->RIV\", \"direction\": \"sb\", \"orig_seq\": 2, \"dest_seq\": 5, \"departing_station\": \"2_PAS\"}, {\"ca_bus_route\": \"Rt 19\", \"orig\": \"BFD\", \"dest\": \"ONA\", \"trip_month\": 4, \"trip_year\": 2025, \"ridership\": 358, \"revenue\": 7389.17, \"od\": \"BFD->ONA\", \"direction\": \"sb\", \"orig_seq\": 0, \"dest_seq\": 4, \"departing_station\": \"3_CLM\"}, {\"ca_bus_route\": \"Rt 19\", \"orig\": \"BFD\", \"dest\": \"RIV\", \"trip_month\": 4, \"trip_year\": 2025, \"ridership\": 604, \"revenue\": 14117.81, \"od\": \"BFD->RIV\", \"direction\": \"sb\", \"orig_seq\": 0, \"dest_seq\": 5, \"departing_station\": \"3_CLM\"}, {\"ca_bus_route\": \"Rt 19\", \"orig\": \"BFD\", \"dest\": \"SNB\", \"trip_month\": 4, \"trip_year\": 2025, \"ridership\": 368, \"revenue\": 9255.3, \"od\": \"BFD->SNB\", \"direction\": \"sb\", \"orig_seq\": 0, \"dest_seq\": 6, \"departing_station\": \"3_CLM\"}, {\"ca_bus_route\": \"Rt 19\", \"orig\": \"CLM\", \"dest\": \"RIV\", \"trip_month\": 4, \"trip_year\": 2025, \"ridership\": 7, \"revenue\": 41.0, \"od\": \"CLM->RIV\", \"direction\": \"sb\", \"orig_seq\": 3, \"dest_seq\": 5, \"departing_station\": \"3_CLM\"}, {\"ca_bus_route\": \"Rt 19\", \"orig\": \"PAS\", \"dest\": \"ONA\", \"trip_month\": 4, \"trip_year\": 2025, \"ridership\": 5, \"revenue\": 26.0, \"od\": \"PAS->ONA\", \"direction\": \"sb\", \"orig_seq\": 2, \"dest_seq\": 4, \"departing_station\": \"3_CLM\"}, {\"ca_bus_route\": \"Rt 19\", \"orig\": \"PAS\", \"dest\": \"RIV\", \"trip_month\": 4, \"trip_year\": 2025, \"ridership\": 14, \"revenue\": 97.8, \"od\": \"PAS->RIV\", \"direction\": \"sb\", \"orig_seq\": 2, \"dest_seq\": 5, \"departing_station\": \"3_CLM\"}, {\"ca_bus_route\": \"Rt 19\", \"orig\": \"BFD\", \"dest\": \"RIV\", \"trip_month\": 4, \"trip_year\": 2025, \"ridership\": 604, \"revenue\": 14117.81, \"od\": \"BFD->RIV\", \"direction\": \"sb\", \"orig_seq\": 0, \"dest_seq\": 5, \"departing_station\": \"4_ONA\"}, {\"ca_bus_route\": \"Rt 19\", \"orig\": \"BFD\", \"dest\": \"SNB\", \"trip_month\": 4, \"trip_year\": 2025, \"ridership\": 368, \"revenue\": 9255.3, \"od\": \"BFD->SNB\", \"direction\": \"sb\", \"orig_seq\": 0, \"dest_seq\": 6, \"departing_station\": \"4_ONA\"}, {\"ca_bus_route\": \"Rt 19\", \"orig\": \"CLM\", \"dest\": \"RIV\", \"trip_month\": 4, \"trip_year\": 2025, \"ridership\": 7, \"revenue\": 41.0, \"od\": \"CLM->RIV\", \"direction\": \"sb\", \"orig_seq\": 3, \"dest_seq\": 5, \"departing_station\": \"4_ONA\"}, {\"ca_bus_route\": \"Rt 19\", \"orig\": \"ONA\", \"dest\": \"RIV\", \"trip_month\": 4, \"trip_year\": 2025, \"ridership\": 17, \"revenue\": 86.0, \"od\": \"ONA->RIV\", \"direction\": \"sb\", \"orig_seq\": 4, \"dest_seq\": 5, \"departing_station\": \"4_ONA\"}, {\"ca_bus_route\": \"Rt 19\", \"orig\": \"ONA\", \"dest\": \"SNB\", \"trip_month\": 4, \"trip_year\": 2025, \"ridership\": 1, \"revenue\": 5.0, \"od\": \"ONA->SNB\", \"direction\": \"sb\", \"orig_seq\": 4, \"dest_seq\": 6, \"departing_station\": \"4_ONA\"}, {\"ca_bus_route\": \"Rt 19\", \"orig\": \"PAS\", \"dest\": \"RIV\", \"trip_month\": 4, \"trip_year\": 2025, \"ridership\": 14, \"revenue\": 97.8, \"od\": \"PAS->RIV\", \"direction\": \"sb\", \"orig_seq\": 2, \"dest_seq\": 5, \"departing_station\": \"4_ONA\"}, {\"ca_bus_route\": \"Rt 19\", \"orig\": \"BFD\", \"dest\": \"SNB\", \"trip_month\": 4, \"trip_year\": 2025, \"ridership\": 368, \"revenue\": 9255.3, \"od\": \"BFD->SNB\", \"direction\": \"sb\", \"orig_seq\": 0, \"dest_seq\": 6, \"departing_station\": \"5_RIV\"}, {\"ca_bus_route\": \"Rt 19\", \"orig\": \"ONA\", \"dest\": \"SNB\", \"trip_month\": 4, \"trip_year\": 2025, \"ridership\": 1, \"revenue\": 5.0, \"od\": \"ONA->SNB\", \"direction\": \"sb\", \"orig_seq\": 4, \"dest_seq\": 6, \"departing_station\": \"5_RIV\"}, {\"ca_bus_route\": \"Rt 19\", \"orig\": \"RIV\", \"dest\": \"SNB\", \"trip_month\": 4, \"trip_year\": 2025, \"ridership\": 1, \"revenue\": 5.0, \"od\": \"RIV->SNB\", \"direction\": \"sb\", \"orig_seq\": 5, \"dest_seq\": 6, \"departing_station\": \"5_RIV\"}]}}, {\"mode\": \"vega-lite\"});\n",
       "</script>"
      ],
      "text/plain": [
       "alt.Chart(...)"
      ]
     },
     "execution_count": 31,
     "metadata": {},
     "output_type": "execute_result"
    }
   ],
   "source": [
    "alt.Chart(running_ridership(test_19, sb_19)).mark_bar().encode(\n",
    "    x='departing_station',\n",
    "    y='sum(ridership)',\n",
    "    color='od'\n",
    ")"
   ]
  },
  {
   "cell_type": "markdown",
   "id": "b35e8072-f70d-4e15-b071-ff2544ac4dce",
   "metadata": {},
   "source": [
    "### ideas\n",
    "\n",
    "* daily ridership? per trip?\n",
    "* revenue hours? miles?\n",
    "* "
   ]
  },
  {
   "cell_type": "markdown",
   "id": "5079a319-7953-441d-8387-7b5845eb8613",
   "metadata": {},
   "source": [
    "### quick test route 1a"
   ]
  },
  {
   "cell_type": "code",
   "execution_count": 32,
   "id": "35d28ea0-1436-45e8-8981-118b98d40604",
   "metadata": {
    "tags": []
   },
   "outputs": [],
   "source": [
    "test_1a = source_ridership.query('trip_year == 2025 & trip_month == 4 & ca_bus_route == \"Rt 1A\"')"
   ]
  },
  {
   "cell_type": "code",
   "execution_count": 33,
   "id": "ccca6503-99d8-47c6-bc04-ea309f2756b2",
   "metadata": {
    "tags": []
   },
   "outputs": [],
   "source": [
    "sb_1a = ['FNO', 'HNF', 'BFD', 'NHL', 'BUR', 'GDL', 'LAX', 'FUL', 'ANA', 'SNA', 'IRV', 'SNC', 'OSD', 'SOL', 'SAN']"
   ]
  },
  {
   "cell_type": "code",
   "execution_count": 34,
   "id": "90e39b8c-e336-4a71-837a-9acfb4d63ad9",
   "metadata": {
    "tags": []
   },
   "outputs": [],
   "source": [
    "sb_1a = dict(zip(sb_1a, range(len(sb_1a))))"
   ]
  },
  {
   "cell_type": "code",
   "execution_count": 35,
   "id": "1a676ab3-263d-4755-aa3b-24b900fd6284",
   "metadata": {
    "tags": []
   },
   "outputs": [
    {
     "data": {
      "text/plain": [
       "{'FNO': 0,\n",
       " 'HNF': 1,\n",
       " 'BFD': 2,\n",
       " 'NHL': 3,\n",
       " 'BUR': 4,\n",
       " 'GDL': 5,\n",
       " 'LAX': 6,\n",
       " 'FUL': 7,\n",
       " 'ANA': 8,\n",
       " 'SNA': 9,\n",
       " 'IRV': 10,\n",
       " 'SNC': 11,\n",
       " 'OSD': 12,\n",
       " 'SOL': 13,\n",
       " 'SAN': 14}"
      ]
     },
     "execution_count": 35,
     "metadata": {},
     "output_type": "execute_result"
    }
   ],
   "source": [
    "sb_1a"
   ]
  },
  {
   "cell_type": "code",
   "execution_count": 36,
   "id": "8c87b98c-1fe6-4991-9bef-47ef28ba5655",
   "metadata": {
    "tags": []
   },
   "outputs": [
    {
     "data": {
      "text/plain": [
       "{'BFD': 0, 'NHL': 1, 'BUR': 2, 'VNC': 3, 'WES': 4, 'SMN': 5}"
      ]
     },
     "execution_count": 36,
     "metadata": {},
     "output_type": "execute_result"
    }
   ],
   "source": [
    "sb_1c"
   ]
  },
  {
   "cell_type": "code",
   "execution_count": 37,
   "id": "13729238-9dab-4e15-b742-997de1efe3d6",
   "metadata": {
    "tags": []
   },
   "outputs": [
    {
     "data": {
      "text/plain": [
       "dict_keys(['BFD', 'NHL', 'BUR', 'VNC', 'WES', 'SMN'])"
      ]
     },
     "execution_count": 37,
     "metadata": {},
     "output_type": "execute_result"
    }
   ],
   "source": [
    "sb_1c.keys()"
   ]
  },
  {
   "cell_type": "code",
   "execution_count": 38,
   "id": "c0c8222f-83d3-4739-9950-23621545798c",
   "metadata": {
    "tags": []
   },
   "outputs": [],
   "source": [
    "test_1a = test_1a.assign(direction = test_1a.apply(determine_direction, axis=1, sequence_dict = sb_1a))"
   ]
  },
  {
   "cell_type": "code",
   "execution_count": 39,
   "id": "10728aac-a4cd-4857-b78c-187e0f3b0296",
   "metadata": {
    "tags": []
   },
   "outputs": [],
   "source": [
    "test_1a = test_1a.query('direction == \"sb\"') "
   ]
  },
  {
   "cell_type": "code",
   "execution_count": 40,
   "id": "35958b9d-abd6-4918-a658-390c5f031f2a",
   "metadata": {
    "tags": []
   },
   "outputs": [],
   "source": [
    "test_1a = test_1a.assign(orig_seq = test_1a.orig.apply(lambda x: sb_1a[x]),\n",
    "              dest_seq = test_1a.dest.apply(lambda x: sb_1a[x]))"
   ]
  },
  {
   "cell_type": "code",
   "execution_count": 42,
   "id": "3bbb36b0-f077-4736-a80c-5f95aef47bf2",
   "metadata": {
    "tags": []
   },
   "outputs": [
    {
     "data": {
      "text/html": [
       "\n",
       "<style>\n",
       "  #altair-viz-7e0980a8719f49719f74f4c5f6bdd014.vega-embed {\n",
       "    width: 100%;\n",
       "    display: flex;\n",
       "  }\n",
       "\n",
       "  #altair-viz-7e0980a8719f49719f74f4c5f6bdd014.vega-embed details,\n",
       "  #altair-viz-7e0980a8719f49719f74f4c5f6bdd014.vega-embed details summary {\n",
       "    position: relative;\n",
       "  }\n",
       "</style>\n",
       "<div id=\"altair-viz-7e0980a8719f49719f74f4c5f6bdd014\"></div>\n",
       "<script type=\"text/javascript\">\n",
       "  var VEGA_DEBUG = (typeof VEGA_DEBUG == \"undefined\") ? {} : VEGA_DEBUG;\n",
       "  (function(spec, embedOpt){\n",
       "    let outputDiv = document.currentScript.previousElementSibling;\n",
       "    if (outputDiv.id !== \"altair-viz-7e0980a8719f49719f74f4c5f6bdd014\") {\n",
       "      outputDiv = document.getElementById(\"altair-viz-7e0980a8719f49719f74f4c5f6bdd014\");\n",
       "    }\n",
       "\n",
       "    const paths = {\n",
       "      \"vega\": \"https://cdn.jsdelivr.net/npm/vega@5?noext\",\n",
       "      \"vega-lib\": \"https://cdn.jsdelivr.net/npm/vega-lib?noext\",\n",
       "      \"vega-lite\": \"https://cdn.jsdelivr.net/npm/vega-lite@5.20.1?noext\",\n",
       "      \"vega-embed\": \"https://cdn.jsdelivr.net/npm/vega-embed@6?noext\",\n",
       "    };\n",
       "\n",
       "    function maybeLoadScript(lib, version) {\n",
       "      var key = `${lib.replace(\"-\", \"\")}_version`;\n",
       "      return (VEGA_DEBUG[key] == version) ?\n",
       "        Promise.resolve(paths[lib]) :\n",
       "        new Promise(function(resolve, reject) {\n",
       "          var s = document.createElement('script');\n",
       "          document.getElementsByTagName(\"head\")[0].appendChild(s);\n",
       "          s.async = true;\n",
       "          s.onload = () => {\n",
       "            VEGA_DEBUG[key] = version;\n",
       "            return resolve(paths[lib]);\n",
       "          };\n",
       "          s.onerror = () => reject(`Error loading script: ${paths[lib]}`);\n",
       "          s.src = paths[lib];\n",
       "        });\n",
       "    }\n",
       "\n",
       "    function showError(err) {\n",
       "      outputDiv.innerHTML = `<div class=\"error\" style=\"color:red;\">${err}</div>`;\n",
       "      throw err;\n",
       "    }\n",
       "\n",
       "    function displayChart(vegaEmbed) {\n",
       "      vegaEmbed(outputDiv, spec, embedOpt)\n",
       "        .catch(err => showError(`Javascript Error: ${err.message}<br>This usually means there's a typo in your chart specification. See the javascript console for the full traceback.`));\n",
       "    }\n",
       "\n",
       "    if(typeof define === \"function\" && define.amd) {\n",
       "      requirejs.config({paths});\n",
       "      let deps = [\"vega-embed\"];\n",
       "      require(deps, displayChart, err => showError(`Error loading script: ${err.message}`));\n",
       "    } else {\n",
       "      maybeLoadScript(\"vega\", \"5\")\n",
       "        .then(() => maybeLoadScript(\"vega-lite\", \"5.20.1\"))\n",
       "        .then(() => maybeLoadScript(\"vega-embed\", \"6\"))\n",
       "        .catch(showError)\n",
       "        .then(() => displayChart(vegaEmbed));\n",
       "    }\n",
       "  })({\"config\": {\"view\": {\"continuousWidth\": 300, \"continuousHeight\": 300}}, \"data\": {\"name\": \"data-ce20adc633e2dcd345a0e0d8eefb3489\"}, \"mark\": {\"type\": \"bar\"}, \"encoding\": {\"color\": {\"field\": \"od\", \"type\": \"nominal\"}, \"x\": {\"field\": \"departing_station\", \"type\": \"nominal\"}, \"y\": {\"aggregate\": \"sum\", \"field\": \"ridership\", \"type\": \"quantitative\"}}, \"$schema\": \"https://vega.github.io/schema/vega-lite/v5.20.1.json\", \"datasets\": {\"data-ce20adc633e2dcd345a0e0d8eefb3489\": [{\"ca_bus_route\": \"Rt 1A\", \"orig\": \"FNO\", \"dest\": \"BFD\", \"trip_month\": 4, \"trip_year\": 2025, \"ridership\": 8, \"revenue\": 55.71, \"od\": \"FNO->BFD\", \"direction\": \"sb\", \"orig_seq\": 0, \"dest_seq\": 2, \"departing_station\": \"0_FNO\"}, {\"ca_bus_route\": \"Rt 1A\", \"orig\": \"FNO\", \"dest\": \"HNF\", \"trip_month\": 4, \"trip_year\": 2025, \"ridership\": 11, \"revenue\": 67.3, \"od\": \"FNO->HNF\", \"direction\": \"sb\", \"orig_seq\": 0, \"dest_seq\": 1, \"departing_station\": \"0_FNO\"}, {\"ca_bus_route\": \"Rt 1A\", \"orig\": \"FNO\", \"dest\": \"LAX\", \"trip_month\": 4, \"trip_year\": 2025, \"ridership\": 367, \"revenue\": 4779.2, \"od\": \"FNO->LAX\", \"direction\": \"sb\", \"orig_seq\": 0, \"dest_seq\": 6, \"departing_station\": \"0_FNO\"}, {\"ca_bus_route\": \"Rt 1A\", \"orig\": \"FNO\", \"dest\": \"BFD\", \"trip_month\": 4, \"trip_year\": 2025, \"ridership\": 8, \"revenue\": 55.71, \"od\": \"FNO->BFD\", \"direction\": \"sb\", \"orig_seq\": 0, \"dest_seq\": 2, \"departing_station\": \"1_HNF\"}, {\"ca_bus_route\": \"Rt 1A\", \"orig\": \"FNO\", \"dest\": \"LAX\", \"trip_month\": 4, \"trip_year\": 2025, \"ridership\": 367, \"revenue\": 4779.2, \"od\": \"FNO->LAX\", \"direction\": \"sb\", \"orig_seq\": 0, \"dest_seq\": 6, \"departing_station\": \"1_HNF\"}, {\"ca_bus_route\": \"Rt 1A\", \"orig\": \"HNF\", \"dest\": \"BFD\", \"trip_month\": 4, \"trip_year\": 2025, \"ridership\": 6, \"revenue\": 40.0, \"od\": \"HNF->BFD\", \"direction\": \"sb\", \"orig_seq\": 1, \"dest_seq\": 2, \"departing_station\": \"1_HNF\"}, {\"ca_bus_route\": \"Rt 1A\", \"orig\": \"HNF\", \"dest\": \"LAX\", \"trip_month\": 4, \"trip_year\": 2025, \"ridership\": 201, \"revenue\": 2175.59, \"od\": \"HNF->LAX\", \"direction\": \"sb\", \"orig_seq\": 1, \"dest_seq\": 6, \"departing_station\": \"1_HNF\"}, {\"ca_bus_route\": \"Rt 1A\", \"orig\": \"BFD\", \"dest\": \"ANA\", \"trip_month\": 4, \"trip_year\": 2025, \"ridership\": 52, \"revenue\": 971.8, \"od\": \"BFD->ANA\", \"direction\": \"sb\", \"orig_seq\": 2, \"dest_seq\": 8, \"departing_station\": \"2_BFD\"}, {\"ca_bus_route\": \"Rt 1A\", \"orig\": \"BFD\", \"dest\": \"BUR\", \"trip_month\": 4, \"trip_year\": 2025, \"ridership\": 25, \"revenue\": 344.1, \"od\": \"BFD->BUR\", \"direction\": \"sb\", \"orig_seq\": 2, \"dest_seq\": 4, \"departing_station\": \"2_BFD\"}, {\"ca_bus_route\": \"Rt 1A\", \"orig\": \"BFD\", \"dest\": \"FUL\", \"trip_month\": 4, \"trip_year\": 2025, \"ridership\": 46, \"revenue\": 895.0, \"od\": \"BFD->FUL\", \"direction\": \"sb\", \"orig_seq\": 2, \"dest_seq\": 7, \"departing_station\": \"2_BFD\"}, {\"ca_bus_route\": \"Rt 1A\", \"orig\": \"BFD\", \"dest\": \"GDL\", \"trip_month\": 4, \"trip_year\": 2025, \"ridership\": 19, \"revenue\": 298.5, \"od\": \"BFD->GDL\", \"direction\": \"sb\", \"orig_seq\": 2, \"dest_seq\": 5, \"departing_station\": \"2_BFD\"}, {\"ca_bus_route\": \"Rt 1A\", \"orig\": \"BFD\", \"dest\": \"IRV\", \"trip_month\": 4, \"trip_year\": 2025, \"ridership\": 38, \"revenue\": 779.9, \"od\": \"BFD->IRV\", \"direction\": \"sb\", \"orig_seq\": 2, \"dest_seq\": 10, \"departing_station\": \"2_BFD\"}, {\"ca_bus_route\": \"Rt 1A\", \"orig\": \"BFD\", \"dest\": \"LAX\", \"trip_month\": 4, \"trip_year\": 2025, \"ridership\": 3731, \"revenue\": 59205.1, \"od\": \"BFD->LAX\", \"direction\": \"sb\", \"orig_seq\": 2, \"dest_seq\": 6, \"departing_station\": \"2_BFD\"}, {\"ca_bus_route\": \"Rt 1A\", \"orig\": \"BFD\", \"dest\": \"NHL\", \"trip_month\": 4, \"trip_year\": 2025, \"ridership\": 30, \"revenue\": 347.37, \"od\": \"BFD->NHL\", \"direction\": \"sb\", \"orig_seq\": 2, \"dest_seq\": 3, \"departing_station\": \"2_BFD\"}, {\"ca_bus_route\": \"Rt 1A\", \"orig\": \"BFD\", \"dest\": \"OSD\", \"trip_month\": 4, \"trip_year\": 2025, \"ridership\": 71, \"revenue\": 1877.2, \"od\": \"BFD->OSD\", \"direction\": \"sb\", \"orig_seq\": 2, \"dest_seq\": 12, \"departing_station\": \"2_BFD\"}, {\"ca_bus_route\": \"Rt 1A\", \"orig\": \"BFD\", \"dest\": \"SAN\", \"trip_month\": 4, \"trip_year\": 2025, \"ridership\": 308, \"revenue\": 9334.0, \"od\": \"BFD->SAN\", \"direction\": \"sb\", \"orig_seq\": 2, \"dest_seq\": 14, \"departing_station\": \"2_BFD\"}, {\"ca_bus_route\": \"Rt 1A\", \"orig\": \"BFD\", \"dest\": \"SNA\", \"trip_month\": 4, \"trip_year\": 2025, \"ridership\": 56, \"revenue\": 1079.85, \"od\": \"BFD->SNA\", \"direction\": \"sb\", \"orig_seq\": 2, \"dest_seq\": 9, \"departing_station\": \"2_BFD\"}, {\"ca_bus_route\": \"Rt 1A\", \"orig\": \"BFD\", \"dest\": \"SNC\", \"trip_month\": 4, \"trip_year\": 2025, \"ridership\": 10, \"revenue\": 227.0, \"od\": \"BFD->SNC\", \"direction\": \"sb\", \"orig_seq\": 2, \"dest_seq\": 11, \"departing_station\": \"2_BFD\"}, {\"ca_bus_route\": \"Rt 1A\", \"orig\": \"BFD\", \"dest\": \"SOL\", \"trip_month\": 4, \"trip_year\": 2025, \"ridership\": 11, \"revenue\": 322.85, \"od\": \"BFD->SOL\", \"direction\": \"sb\", \"orig_seq\": 2, \"dest_seq\": 13, \"departing_station\": \"2_BFD\"}, {\"ca_bus_route\": \"Rt 1A\", \"orig\": \"FNO\", \"dest\": \"LAX\", \"trip_month\": 4, \"trip_year\": 2025, \"ridership\": 367, \"revenue\": 4779.2, \"od\": \"FNO->LAX\", \"direction\": \"sb\", \"orig_seq\": 0, \"dest_seq\": 6, \"departing_station\": \"2_BFD\"}, {\"ca_bus_route\": \"Rt 1A\", \"orig\": \"HNF\", \"dest\": \"LAX\", \"trip_month\": 4, \"trip_year\": 2025, \"ridership\": 201, \"revenue\": 2175.59, \"od\": \"HNF->LAX\", \"direction\": \"sb\", \"orig_seq\": 1, \"dest_seq\": 6, \"departing_station\": \"2_BFD\"}, {\"ca_bus_route\": \"Rt 1A\", \"orig\": \"BFD\", \"dest\": \"ANA\", \"trip_month\": 4, \"trip_year\": 2025, \"ridership\": 52, \"revenue\": 971.8, \"od\": \"BFD->ANA\", \"direction\": \"sb\", \"orig_seq\": 2, \"dest_seq\": 8, \"departing_station\": \"3_NHL\"}, {\"ca_bus_route\": \"Rt 1A\", \"orig\": \"BFD\", \"dest\": \"BUR\", \"trip_month\": 4, \"trip_year\": 2025, \"ridership\": 25, \"revenue\": 344.1, \"od\": \"BFD->BUR\", \"direction\": \"sb\", \"orig_seq\": 2, \"dest_seq\": 4, \"departing_station\": \"3_NHL\"}, {\"ca_bus_route\": \"Rt 1A\", \"orig\": \"BFD\", \"dest\": \"FUL\", \"trip_month\": 4, \"trip_year\": 2025, \"ridership\": 46, \"revenue\": 895.0, \"od\": \"BFD->FUL\", \"direction\": \"sb\", \"orig_seq\": 2, \"dest_seq\": 7, \"departing_station\": \"3_NHL\"}, {\"ca_bus_route\": \"Rt 1A\", \"orig\": \"BFD\", \"dest\": \"GDL\", \"trip_month\": 4, \"trip_year\": 2025, \"ridership\": 19, \"revenue\": 298.5, \"od\": \"BFD->GDL\", \"direction\": \"sb\", \"orig_seq\": 2, \"dest_seq\": 5, \"departing_station\": \"3_NHL\"}, {\"ca_bus_route\": \"Rt 1A\", \"orig\": \"BFD\", \"dest\": \"IRV\", \"trip_month\": 4, \"trip_year\": 2025, \"ridership\": 38, \"revenue\": 779.9, \"od\": \"BFD->IRV\", \"direction\": \"sb\", \"orig_seq\": 2, \"dest_seq\": 10, \"departing_station\": \"3_NHL\"}, {\"ca_bus_route\": \"Rt 1A\", \"orig\": \"BFD\", \"dest\": \"LAX\", \"trip_month\": 4, \"trip_year\": 2025, \"ridership\": 3731, \"revenue\": 59205.1, \"od\": \"BFD->LAX\", \"direction\": \"sb\", \"orig_seq\": 2, \"dest_seq\": 6, \"departing_station\": \"3_NHL\"}, {\"ca_bus_route\": \"Rt 1A\", \"orig\": \"BFD\", \"dest\": \"OSD\", \"trip_month\": 4, \"trip_year\": 2025, \"ridership\": 71, \"revenue\": 1877.2, \"od\": \"BFD->OSD\", \"direction\": \"sb\", \"orig_seq\": 2, \"dest_seq\": 12, \"departing_station\": \"3_NHL\"}, {\"ca_bus_route\": \"Rt 1A\", \"orig\": \"BFD\", \"dest\": \"SAN\", \"trip_month\": 4, \"trip_year\": 2025, \"ridership\": 308, \"revenue\": 9334.0, \"od\": \"BFD->SAN\", \"direction\": \"sb\", \"orig_seq\": 2, \"dest_seq\": 14, \"departing_station\": \"3_NHL\"}, {\"ca_bus_route\": \"Rt 1A\", \"orig\": \"BFD\", \"dest\": \"SNA\", \"trip_month\": 4, \"trip_year\": 2025, \"ridership\": 56, \"revenue\": 1079.85, \"od\": \"BFD->SNA\", \"direction\": \"sb\", \"orig_seq\": 2, \"dest_seq\": 9, \"departing_station\": \"3_NHL\"}, {\"ca_bus_route\": \"Rt 1A\", \"orig\": \"BFD\", \"dest\": \"SNC\", \"trip_month\": 4, \"trip_year\": 2025, \"ridership\": 10, \"revenue\": 227.0, \"od\": \"BFD->SNC\", \"direction\": \"sb\", \"orig_seq\": 2, \"dest_seq\": 11, \"departing_station\": \"3_NHL\"}, {\"ca_bus_route\": \"Rt 1A\", \"orig\": \"BFD\", \"dest\": \"SOL\", \"trip_month\": 4, \"trip_year\": 2025, \"ridership\": 11, \"revenue\": 322.85, \"od\": \"BFD->SOL\", \"direction\": \"sb\", \"orig_seq\": 2, \"dest_seq\": 13, \"departing_station\": \"3_NHL\"}, {\"ca_bus_route\": \"Rt 1A\", \"orig\": \"FNO\", \"dest\": \"LAX\", \"trip_month\": 4, \"trip_year\": 2025, \"ridership\": 367, \"revenue\": 4779.2, \"od\": \"FNO->LAX\", \"direction\": \"sb\", \"orig_seq\": 0, \"dest_seq\": 6, \"departing_station\": \"3_NHL\"}, {\"ca_bus_route\": \"Rt 1A\", \"orig\": \"HNF\", \"dest\": \"LAX\", \"trip_month\": 4, \"trip_year\": 2025, \"ridership\": 201, \"revenue\": 2175.59, \"od\": \"HNF->LAX\", \"direction\": \"sb\", \"orig_seq\": 1, \"dest_seq\": 6, \"departing_station\": \"3_NHL\"}, {\"ca_bus_route\": \"Rt 1A\", \"orig\": \"NHL\", \"dest\": \"LAX\", \"trip_month\": 4, \"trip_year\": 2025, \"ridership\": 1, \"revenue\": 0.0, \"od\": \"NHL->LAX\", \"direction\": \"sb\", \"orig_seq\": 3, \"dest_seq\": 6, \"departing_station\": \"3_NHL\"}, {\"ca_bus_route\": \"Rt 1A\", \"orig\": \"BFD\", \"dest\": \"ANA\", \"trip_month\": 4, \"trip_year\": 2025, \"ridership\": 52, \"revenue\": 971.8, \"od\": \"BFD->ANA\", \"direction\": \"sb\", \"orig_seq\": 2, \"dest_seq\": 8, \"departing_station\": \"4_BUR\"}, {\"ca_bus_route\": \"Rt 1A\", \"orig\": \"BFD\", \"dest\": \"FUL\", \"trip_month\": 4, \"trip_year\": 2025, \"ridership\": 46, \"revenue\": 895.0, \"od\": \"BFD->FUL\", \"direction\": \"sb\", \"orig_seq\": 2, \"dest_seq\": 7, \"departing_station\": \"4_BUR\"}, {\"ca_bus_route\": \"Rt 1A\", \"orig\": \"BFD\", \"dest\": \"GDL\", \"trip_month\": 4, \"trip_year\": 2025, \"ridership\": 19, \"revenue\": 298.5, \"od\": \"BFD->GDL\", \"direction\": \"sb\", \"orig_seq\": 2, \"dest_seq\": 5, \"departing_station\": \"4_BUR\"}, {\"ca_bus_route\": \"Rt 1A\", \"orig\": \"BFD\", \"dest\": \"IRV\", \"trip_month\": 4, \"trip_year\": 2025, \"ridership\": 38, \"revenue\": 779.9, \"od\": \"BFD->IRV\", \"direction\": \"sb\", \"orig_seq\": 2, \"dest_seq\": 10, \"departing_station\": \"4_BUR\"}, {\"ca_bus_route\": \"Rt 1A\", \"orig\": \"BFD\", \"dest\": \"LAX\", \"trip_month\": 4, \"trip_year\": 2025, \"ridership\": 3731, \"revenue\": 59205.1, \"od\": \"BFD->LAX\", \"direction\": \"sb\", \"orig_seq\": 2, \"dest_seq\": 6, \"departing_station\": \"4_BUR\"}, {\"ca_bus_route\": \"Rt 1A\", \"orig\": \"BFD\", \"dest\": \"OSD\", \"trip_month\": 4, \"trip_year\": 2025, \"ridership\": 71, \"revenue\": 1877.2, \"od\": \"BFD->OSD\", \"direction\": \"sb\", \"orig_seq\": 2, \"dest_seq\": 12, \"departing_station\": \"4_BUR\"}, {\"ca_bus_route\": \"Rt 1A\", \"orig\": \"BFD\", \"dest\": \"SAN\", \"trip_month\": 4, \"trip_year\": 2025, \"ridership\": 308, \"revenue\": 9334.0, \"od\": \"BFD->SAN\", \"direction\": \"sb\", \"orig_seq\": 2, \"dest_seq\": 14, \"departing_station\": \"4_BUR\"}, {\"ca_bus_route\": \"Rt 1A\", \"orig\": \"BFD\", \"dest\": \"SNA\", \"trip_month\": 4, \"trip_year\": 2025, \"ridership\": 56, \"revenue\": 1079.85, \"od\": \"BFD->SNA\", \"direction\": \"sb\", \"orig_seq\": 2, \"dest_seq\": 9, \"departing_station\": \"4_BUR\"}, {\"ca_bus_route\": \"Rt 1A\", \"orig\": \"BFD\", \"dest\": \"SNC\", \"trip_month\": 4, \"trip_year\": 2025, \"ridership\": 10, \"revenue\": 227.0, \"od\": \"BFD->SNC\", \"direction\": \"sb\", \"orig_seq\": 2, \"dest_seq\": 11, \"departing_station\": \"4_BUR\"}, {\"ca_bus_route\": \"Rt 1A\", \"orig\": \"BFD\", \"dest\": \"SOL\", \"trip_month\": 4, \"trip_year\": 2025, \"ridership\": 11, \"revenue\": 322.85, \"od\": \"BFD->SOL\", \"direction\": \"sb\", \"orig_seq\": 2, \"dest_seq\": 13, \"departing_station\": \"4_BUR\"}, {\"ca_bus_route\": \"Rt 1A\", \"orig\": \"FNO\", \"dest\": \"LAX\", \"trip_month\": 4, \"trip_year\": 2025, \"ridership\": 367, \"revenue\": 4779.2, \"od\": \"FNO->LAX\", \"direction\": \"sb\", \"orig_seq\": 0, \"dest_seq\": 6, \"departing_station\": \"4_BUR\"}, {\"ca_bus_route\": \"Rt 1A\", \"orig\": \"HNF\", \"dest\": \"LAX\", \"trip_month\": 4, \"trip_year\": 2025, \"ridership\": 201, \"revenue\": 2175.59, \"od\": \"HNF->LAX\", \"direction\": \"sb\", \"orig_seq\": 1, \"dest_seq\": 6, \"departing_station\": \"4_BUR\"}, {\"ca_bus_route\": \"Rt 1A\", \"orig\": \"NHL\", \"dest\": \"LAX\", \"trip_month\": 4, \"trip_year\": 2025, \"ridership\": 1, \"revenue\": 0.0, \"od\": \"NHL->LAX\", \"direction\": \"sb\", \"orig_seq\": 3, \"dest_seq\": 6, \"departing_station\": \"4_BUR\"}, {\"ca_bus_route\": \"Rt 1A\", \"orig\": \"BFD\", \"dest\": \"ANA\", \"trip_month\": 4, \"trip_year\": 2025, \"ridership\": 52, \"revenue\": 971.8, \"od\": \"BFD->ANA\", \"direction\": \"sb\", \"orig_seq\": 2, \"dest_seq\": 8, \"departing_station\": \"5_GDL\"}, {\"ca_bus_route\": \"Rt 1A\", \"orig\": \"BFD\", \"dest\": \"FUL\", \"trip_month\": 4, \"trip_year\": 2025, \"ridership\": 46, \"revenue\": 895.0, \"od\": \"BFD->FUL\", \"direction\": \"sb\", \"orig_seq\": 2, \"dest_seq\": 7, \"departing_station\": \"5_GDL\"}, {\"ca_bus_route\": \"Rt 1A\", \"orig\": \"BFD\", \"dest\": \"IRV\", \"trip_month\": 4, \"trip_year\": 2025, \"ridership\": 38, \"revenue\": 779.9, \"od\": \"BFD->IRV\", \"direction\": \"sb\", \"orig_seq\": 2, \"dest_seq\": 10, \"departing_station\": \"5_GDL\"}, {\"ca_bus_route\": \"Rt 1A\", \"orig\": \"BFD\", \"dest\": \"LAX\", \"trip_month\": 4, \"trip_year\": 2025, \"ridership\": 3731, \"revenue\": 59205.1, \"od\": \"BFD->LAX\", \"direction\": \"sb\", \"orig_seq\": 2, \"dest_seq\": 6, \"departing_station\": \"5_GDL\"}, {\"ca_bus_route\": \"Rt 1A\", \"orig\": \"BFD\", \"dest\": \"OSD\", \"trip_month\": 4, \"trip_year\": 2025, \"ridership\": 71, \"revenue\": 1877.2, \"od\": \"BFD->OSD\", \"direction\": \"sb\", \"orig_seq\": 2, \"dest_seq\": 12, \"departing_station\": \"5_GDL\"}, {\"ca_bus_route\": \"Rt 1A\", \"orig\": \"BFD\", \"dest\": \"SAN\", \"trip_month\": 4, \"trip_year\": 2025, \"ridership\": 308, \"revenue\": 9334.0, \"od\": \"BFD->SAN\", \"direction\": \"sb\", \"orig_seq\": 2, \"dest_seq\": 14, \"departing_station\": \"5_GDL\"}, {\"ca_bus_route\": \"Rt 1A\", \"orig\": \"BFD\", \"dest\": \"SNA\", \"trip_month\": 4, \"trip_year\": 2025, \"ridership\": 56, \"revenue\": 1079.85, \"od\": \"BFD->SNA\", \"direction\": \"sb\", \"orig_seq\": 2, \"dest_seq\": 9, \"departing_station\": \"5_GDL\"}, {\"ca_bus_route\": \"Rt 1A\", \"orig\": \"BFD\", \"dest\": \"SNC\", \"trip_month\": 4, \"trip_year\": 2025, \"ridership\": 10, \"revenue\": 227.0, \"od\": \"BFD->SNC\", \"direction\": \"sb\", \"orig_seq\": 2, \"dest_seq\": 11, \"departing_station\": \"5_GDL\"}, {\"ca_bus_route\": \"Rt 1A\", \"orig\": \"BFD\", \"dest\": \"SOL\", \"trip_month\": 4, \"trip_year\": 2025, \"ridership\": 11, \"revenue\": 322.85, \"od\": \"BFD->SOL\", \"direction\": \"sb\", \"orig_seq\": 2, \"dest_seq\": 13, \"departing_station\": \"5_GDL\"}, {\"ca_bus_route\": \"Rt 1A\", \"orig\": \"FNO\", \"dest\": \"LAX\", \"trip_month\": 4, \"trip_year\": 2025, \"ridership\": 367, \"revenue\": 4779.2, \"od\": \"FNO->LAX\", \"direction\": \"sb\", \"orig_seq\": 0, \"dest_seq\": 6, \"departing_station\": \"5_GDL\"}, {\"ca_bus_route\": \"Rt 1A\", \"orig\": \"HNF\", \"dest\": \"LAX\", \"trip_month\": 4, \"trip_year\": 2025, \"ridership\": 201, \"revenue\": 2175.59, \"od\": \"HNF->LAX\", \"direction\": \"sb\", \"orig_seq\": 1, \"dest_seq\": 6, \"departing_station\": \"5_GDL\"}, {\"ca_bus_route\": \"Rt 1A\", \"orig\": \"NHL\", \"dest\": \"LAX\", \"trip_month\": 4, \"trip_year\": 2025, \"ridership\": 1, \"revenue\": 0.0, \"od\": \"NHL->LAX\", \"direction\": \"sb\", \"orig_seq\": 3, \"dest_seq\": 6, \"departing_station\": \"5_GDL\"}, {\"ca_bus_route\": \"Rt 1A\", \"orig\": \"BFD\", \"dest\": \"ANA\", \"trip_month\": 4, \"trip_year\": 2025, \"ridership\": 52, \"revenue\": 971.8, \"od\": \"BFD->ANA\", \"direction\": \"sb\", \"orig_seq\": 2, \"dest_seq\": 8, \"departing_station\": \"6_LAX\"}, {\"ca_bus_route\": \"Rt 1A\", \"orig\": \"BFD\", \"dest\": \"FUL\", \"trip_month\": 4, \"trip_year\": 2025, \"ridership\": 46, \"revenue\": 895.0, \"od\": \"BFD->FUL\", \"direction\": \"sb\", \"orig_seq\": 2, \"dest_seq\": 7, \"departing_station\": \"6_LAX\"}, {\"ca_bus_route\": \"Rt 1A\", \"orig\": \"BFD\", \"dest\": \"IRV\", \"trip_month\": 4, \"trip_year\": 2025, \"ridership\": 38, \"revenue\": 779.9, \"od\": \"BFD->IRV\", \"direction\": \"sb\", \"orig_seq\": 2, \"dest_seq\": 10, \"departing_station\": \"6_LAX\"}, {\"ca_bus_route\": \"Rt 1A\", \"orig\": \"BFD\", \"dest\": \"OSD\", \"trip_month\": 4, \"trip_year\": 2025, \"ridership\": 71, \"revenue\": 1877.2, \"od\": \"BFD->OSD\", \"direction\": \"sb\", \"orig_seq\": 2, \"dest_seq\": 12, \"departing_station\": \"6_LAX\"}, {\"ca_bus_route\": \"Rt 1A\", \"orig\": \"BFD\", \"dest\": \"SAN\", \"trip_month\": 4, \"trip_year\": 2025, \"ridership\": 308, \"revenue\": 9334.0, \"od\": \"BFD->SAN\", \"direction\": \"sb\", \"orig_seq\": 2, \"dest_seq\": 14, \"departing_station\": \"6_LAX\"}, {\"ca_bus_route\": \"Rt 1A\", \"orig\": \"BFD\", \"dest\": \"SNA\", \"trip_month\": 4, \"trip_year\": 2025, \"ridership\": 56, \"revenue\": 1079.85, \"od\": \"BFD->SNA\", \"direction\": \"sb\", \"orig_seq\": 2, \"dest_seq\": 9, \"departing_station\": \"6_LAX\"}, {\"ca_bus_route\": \"Rt 1A\", \"orig\": \"BFD\", \"dest\": \"SNC\", \"trip_month\": 4, \"trip_year\": 2025, \"ridership\": 10, \"revenue\": 227.0, \"od\": \"BFD->SNC\", \"direction\": \"sb\", \"orig_seq\": 2, \"dest_seq\": 11, \"departing_station\": \"6_LAX\"}, {\"ca_bus_route\": \"Rt 1A\", \"orig\": \"BFD\", \"dest\": \"SOL\", \"trip_month\": 4, \"trip_year\": 2025, \"ridership\": 11, \"revenue\": 322.85, \"od\": \"BFD->SOL\", \"direction\": \"sb\", \"orig_seq\": 2, \"dest_seq\": 13, \"departing_station\": \"6_LAX\"}, {\"ca_bus_route\": \"Rt 1A\", \"orig\": \"LAX\", \"dest\": \"ANA\", \"trip_month\": 4, \"trip_year\": 2025, \"ridership\": 11, \"revenue\": 88.0, \"od\": \"LAX->ANA\", \"direction\": \"sb\", \"orig_seq\": 6, \"dest_seq\": 8, \"departing_station\": \"6_LAX\"}, {\"ca_bus_route\": \"Rt 1A\", \"orig\": \"LAX\", \"dest\": \"FUL\", \"trip_month\": 4, \"trip_year\": 2025, \"ridership\": 2, \"revenue\": 29.0, \"od\": \"LAX->FUL\", \"direction\": \"sb\", \"orig_seq\": 6, \"dest_seq\": 7, \"departing_station\": \"6_LAX\"}, {\"ca_bus_route\": \"Rt 1A\", \"orig\": \"LAX\", \"dest\": \"IRV\", \"trip_month\": 4, \"trip_year\": 2025, \"ridership\": 3, \"revenue\": 15.0, \"od\": \"LAX->IRV\", \"direction\": \"sb\", \"orig_seq\": 6, \"dest_seq\": 10, \"departing_station\": \"6_LAX\"}, {\"ca_bus_route\": \"Rt 1A\", \"orig\": \"LAX\", \"dest\": \"OSD\", \"trip_month\": 4, \"trip_year\": 2025, \"ridership\": 4, \"revenue\": 43.35, \"od\": \"LAX->OSD\", \"direction\": \"sb\", \"orig_seq\": 6, \"dest_seq\": 12, \"departing_station\": \"6_LAX\"}, {\"ca_bus_route\": \"Rt 1A\", \"orig\": \"LAX\", \"dest\": \"SAN\", \"trip_month\": 4, \"trip_year\": 2025, \"ridership\": 66, \"revenue\": 1178.7, \"od\": \"LAX->SAN\", \"direction\": \"sb\", \"orig_seq\": 6, \"dest_seq\": 14, \"departing_station\": \"6_LAX\"}, {\"ca_bus_route\": \"Rt 1A\", \"orig\": \"LAX\", \"dest\": \"SNA\", \"trip_month\": 4, \"trip_year\": 2025, \"ridership\": 3, \"revenue\": 16.0, \"od\": \"LAX->SNA\", \"direction\": \"sb\", \"orig_seq\": 6, \"dest_seq\": 9, \"departing_station\": \"6_LAX\"}, {\"ca_bus_route\": \"Rt 1A\", \"orig\": \"LAX\", \"dest\": \"SOL\", \"trip_month\": 4, \"trip_year\": 2025, \"ridership\": 9, \"revenue\": 163.65, \"od\": \"LAX->SOL\", \"direction\": \"sb\", \"orig_seq\": 6, \"dest_seq\": 13, \"departing_station\": \"6_LAX\"}, {\"ca_bus_route\": \"Rt 1A\", \"orig\": \"BFD\", \"dest\": \"ANA\", \"trip_month\": 4, \"trip_year\": 2025, \"ridership\": 52, \"revenue\": 971.8, \"od\": \"BFD->ANA\", \"direction\": \"sb\", \"orig_seq\": 2, \"dest_seq\": 8, \"departing_station\": \"7_FUL\"}, {\"ca_bus_route\": \"Rt 1A\", \"orig\": \"BFD\", \"dest\": \"IRV\", \"trip_month\": 4, \"trip_year\": 2025, \"ridership\": 38, \"revenue\": 779.9, \"od\": \"BFD->IRV\", \"direction\": \"sb\", \"orig_seq\": 2, \"dest_seq\": 10, \"departing_station\": \"7_FUL\"}, {\"ca_bus_route\": \"Rt 1A\", \"orig\": \"BFD\", \"dest\": \"OSD\", \"trip_month\": 4, \"trip_year\": 2025, \"ridership\": 71, \"revenue\": 1877.2, \"od\": \"BFD->OSD\", \"direction\": \"sb\", \"orig_seq\": 2, \"dest_seq\": 12, \"departing_station\": \"7_FUL\"}, {\"ca_bus_route\": \"Rt 1A\", \"orig\": \"BFD\", \"dest\": \"SAN\", \"trip_month\": 4, \"trip_year\": 2025, \"ridership\": 308, \"revenue\": 9334.0, \"od\": \"BFD->SAN\", \"direction\": \"sb\", \"orig_seq\": 2, \"dest_seq\": 14, \"departing_station\": \"7_FUL\"}, {\"ca_bus_route\": \"Rt 1A\", \"orig\": \"BFD\", \"dest\": \"SNA\", \"trip_month\": 4, \"trip_year\": 2025, \"ridership\": 56, \"revenue\": 1079.85, \"od\": \"BFD->SNA\", \"direction\": \"sb\", \"orig_seq\": 2, \"dest_seq\": 9, \"departing_station\": \"7_FUL\"}, {\"ca_bus_route\": \"Rt 1A\", \"orig\": \"BFD\", \"dest\": \"SNC\", \"trip_month\": 4, \"trip_year\": 2025, \"ridership\": 10, \"revenue\": 227.0, \"od\": \"BFD->SNC\", \"direction\": \"sb\", \"orig_seq\": 2, \"dest_seq\": 11, \"departing_station\": \"7_FUL\"}, {\"ca_bus_route\": \"Rt 1A\", \"orig\": \"BFD\", \"dest\": \"SOL\", \"trip_month\": 4, \"trip_year\": 2025, \"ridership\": 11, \"revenue\": 322.85, \"od\": \"BFD->SOL\", \"direction\": \"sb\", \"orig_seq\": 2, \"dest_seq\": 13, \"departing_station\": \"7_FUL\"}, {\"ca_bus_route\": \"Rt 1A\", \"orig\": \"LAX\", \"dest\": \"ANA\", \"trip_month\": 4, \"trip_year\": 2025, \"ridership\": 11, \"revenue\": 88.0, \"od\": \"LAX->ANA\", \"direction\": \"sb\", \"orig_seq\": 6, \"dest_seq\": 8, \"departing_station\": \"7_FUL\"}, {\"ca_bus_route\": \"Rt 1A\", \"orig\": \"LAX\", \"dest\": \"IRV\", \"trip_month\": 4, \"trip_year\": 2025, \"ridership\": 3, \"revenue\": 15.0, \"od\": \"LAX->IRV\", \"direction\": \"sb\", \"orig_seq\": 6, \"dest_seq\": 10, \"departing_station\": \"7_FUL\"}, {\"ca_bus_route\": \"Rt 1A\", \"orig\": \"LAX\", \"dest\": \"OSD\", \"trip_month\": 4, \"trip_year\": 2025, \"ridership\": 4, \"revenue\": 43.35, \"od\": \"LAX->OSD\", \"direction\": \"sb\", \"orig_seq\": 6, \"dest_seq\": 12, \"departing_station\": \"7_FUL\"}, {\"ca_bus_route\": \"Rt 1A\", \"orig\": \"LAX\", \"dest\": \"SAN\", \"trip_month\": 4, \"trip_year\": 2025, \"ridership\": 66, \"revenue\": 1178.7, \"od\": \"LAX->SAN\", \"direction\": \"sb\", \"orig_seq\": 6, \"dest_seq\": 14, \"departing_station\": \"7_FUL\"}, {\"ca_bus_route\": \"Rt 1A\", \"orig\": \"LAX\", \"dest\": \"SNA\", \"trip_month\": 4, \"trip_year\": 2025, \"ridership\": 3, \"revenue\": 16.0, \"od\": \"LAX->SNA\", \"direction\": \"sb\", \"orig_seq\": 6, \"dest_seq\": 9, \"departing_station\": \"7_FUL\"}, {\"ca_bus_route\": \"Rt 1A\", \"orig\": \"LAX\", \"dest\": \"SOL\", \"trip_month\": 4, \"trip_year\": 2025, \"ridership\": 9, \"revenue\": 163.65, \"od\": \"LAX->SOL\", \"direction\": \"sb\", \"orig_seq\": 6, \"dest_seq\": 13, \"departing_station\": \"7_FUL\"}, {\"ca_bus_route\": \"Rt 1A\", \"orig\": \"BFD\", \"dest\": \"IRV\", \"trip_month\": 4, \"trip_year\": 2025, \"ridership\": 38, \"revenue\": 779.9, \"od\": \"BFD->IRV\", \"direction\": \"sb\", \"orig_seq\": 2, \"dest_seq\": 10, \"departing_station\": \"8_ANA\"}, {\"ca_bus_route\": \"Rt 1A\", \"orig\": \"BFD\", \"dest\": \"OSD\", \"trip_month\": 4, \"trip_year\": 2025, \"ridership\": 71, \"revenue\": 1877.2, \"od\": \"BFD->OSD\", \"direction\": \"sb\", \"orig_seq\": 2, \"dest_seq\": 12, \"departing_station\": \"8_ANA\"}, {\"ca_bus_route\": \"Rt 1A\", \"orig\": \"BFD\", \"dest\": \"SAN\", \"trip_month\": 4, \"trip_year\": 2025, \"ridership\": 308, \"revenue\": 9334.0, \"od\": \"BFD->SAN\", \"direction\": \"sb\", \"orig_seq\": 2, \"dest_seq\": 14, \"departing_station\": \"8_ANA\"}, {\"ca_bus_route\": \"Rt 1A\", \"orig\": \"BFD\", \"dest\": \"SNA\", \"trip_month\": 4, \"trip_year\": 2025, \"ridership\": 56, \"revenue\": 1079.85, \"od\": \"BFD->SNA\", \"direction\": \"sb\", \"orig_seq\": 2, \"dest_seq\": 9, \"departing_station\": \"8_ANA\"}, {\"ca_bus_route\": \"Rt 1A\", \"orig\": \"BFD\", \"dest\": \"SNC\", \"trip_month\": 4, \"trip_year\": 2025, \"ridership\": 10, \"revenue\": 227.0, \"od\": \"BFD->SNC\", \"direction\": \"sb\", \"orig_seq\": 2, \"dest_seq\": 11, \"departing_station\": \"8_ANA\"}, {\"ca_bus_route\": \"Rt 1A\", \"orig\": \"BFD\", \"dest\": \"SOL\", \"trip_month\": 4, \"trip_year\": 2025, \"ridership\": 11, \"revenue\": 322.85, \"od\": \"BFD->SOL\", \"direction\": \"sb\", \"orig_seq\": 2, \"dest_seq\": 13, \"departing_station\": \"8_ANA\"}, {\"ca_bus_route\": \"Rt 1A\", \"orig\": \"LAX\", \"dest\": \"IRV\", \"trip_month\": 4, \"trip_year\": 2025, \"ridership\": 3, \"revenue\": 15.0, \"od\": \"LAX->IRV\", \"direction\": \"sb\", \"orig_seq\": 6, \"dest_seq\": 10, \"departing_station\": \"8_ANA\"}, {\"ca_bus_route\": \"Rt 1A\", \"orig\": \"LAX\", \"dest\": \"OSD\", \"trip_month\": 4, \"trip_year\": 2025, \"ridership\": 4, \"revenue\": 43.35, \"od\": \"LAX->OSD\", \"direction\": \"sb\", \"orig_seq\": 6, \"dest_seq\": 12, \"departing_station\": \"8_ANA\"}, {\"ca_bus_route\": \"Rt 1A\", \"orig\": \"LAX\", \"dest\": \"SAN\", \"trip_month\": 4, \"trip_year\": 2025, \"ridership\": 66, \"revenue\": 1178.7, \"od\": \"LAX->SAN\", \"direction\": \"sb\", \"orig_seq\": 6, \"dest_seq\": 14, \"departing_station\": \"8_ANA\"}, {\"ca_bus_route\": \"Rt 1A\", \"orig\": \"LAX\", \"dest\": \"SNA\", \"trip_month\": 4, \"trip_year\": 2025, \"ridership\": 3, \"revenue\": 16.0, \"od\": \"LAX->SNA\", \"direction\": \"sb\", \"orig_seq\": 6, \"dest_seq\": 9, \"departing_station\": \"8_ANA\"}, {\"ca_bus_route\": \"Rt 1A\", \"orig\": \"LAX\", \"dest\": \"SOL\", \"trip_month\": 4, \"trip_year\": 2025, \"ridership\": 9, \"revenue\": 163.65, \"od\": \"LAX->SOL\", \"direction\": \"sb\", \"orig_seq\": 6, \"dest_seq\": 13, \"departing_station\": \"8_ANA\"}, {\"ca_bus_route\": \"Rt 1A\", \"orig\": \"BFD\", \"dest\": \"IRV\", \"trip_month\": 4, \"trip_year\": 2025, \"ridership\": 38, \"revenue\": 779.9, \"od\": \"BFD->IRV\", \"direction\": \"sb\", \"orig_seq\": 2, \"dest_seq\": 10, \"departing_station\": \"9_SNA\"}, {\"ca_bus_route\": \"Rt 1A\", \"orig\": \"BFD\", \"dest\": \"OSD\", \"trip_month\": 4, \"trip_year\": 2025, \"ridership\": 71, \"revenue\": 1877.2, \"od\": \"BFD->OSD\", \"direction\": \"sb\", \"orig_seq\": 2, \"dest_seq\": 12, \"departing_station\": \"9_SNA\"}, {\"ca_bus_route\": \"Rt 1A\", \"orig\": \"BFD\", \"dest\": \"SAN\", \"trip_month\": 4, \"trip_year\": 2025, \"ridership\": 308, \"revenue\": 9334.0, \"od\": \"BFD->SAN\", \"direction\": \"sb\", \"orig_seq\": 2, \"dest_seq\": 14, \"departing_station\": \"9_SNA\"}, {\"ca_bus_route\": \"Rt 1A\", \"orig\": \"BFD\", \"dest\": \"SNC\", \"trip_month\": 4, \"trip_year\": 2025, \"ridership\": 10, \"revenue\": 227.0, \"od\": \"BFD->SNC\", \"direction\": \"sb\", \"orig_seq\": 2, \"dest_seq\": 11, \"departing_station\": \"9_SNA\"}, {\"ca_bus_route\": \"Rt 1A\", \"orig\": \"BFD\", \"dest\": \"SOL\", \"trip_month\": 4, \"trip_year\": 2025, \"ridership\": 11, \"revenue\": 322.85, \"od\": \"BFD->SOL\", \"direction\": \"sb\", \"orig_seq\": 2, \"dest_seq\": 13, \"departing_station\": \"9_SNA\"}, {\"ca_bus_route\": \"Rt 1A\", \"orig\": \"LAX\", \"dest\": \"IRV\", \"trip_month\": 4, \"trip_year\": 2025, \"ridership\": 3, \"revenue\": 15.0, \"od\": \"LAX->IRV\", \"direction\": \"sb\", \"orig_seq\": 6, \"dest_seq\": 10, \"departing_station\": \"9_SNA\"}, {\"ca_bus_route\": \"Rt 1A\", \"orig\": \"LAX\", \"dest\": \"OSD\", \"trip_month\": 4, \"trip_year\": 2025, \"ridership\": 4, \"revenue\": 43.35, \"od\": \"LAX->OSD\", \"direction\": \"sb\", \"orig_seq\": 6, \"dest_seq\": 12, \"departing_station\": \"9_SNA\"}, {\"ca_bus_route\": \"Rt 1A\", \"orig\": \"LAX\", \"dest\": \"SAN\", \"trip_month\": 4, \"trip_year\": 2025, \"ridership\": 66, \"revenue\": 1178.7, \"od\": \"LAX->SAN\", \"direction\": \"sb\", \"orig_seq\": 6, \"dest_seq\": 14, \"departing_station\": \"9_SNA\"}, {\"ca_bus_route\": \"Rt 1A\", \"orig\": \"LAX\", \"dest\": \"SOL\", \"trip_month\": 4, \"trip_year\": 2025, \"ridership\": 9, \"revenue\": 163.65, \"od\": \"LAX->SOL\", \"direction\": \"sb\", \"orig_seq\": 6, \"dest_seq\": 13, \"departing_station\": \"9_SNA\"}, {\"ca_bus_route\": \"Rt 1A\", \"orig\": \"BFD\", \"dest\": \"OSD\", \"trip_month\": 4, \"trip_year\": 2025, \"ridership\": 71, \"revenue\": 1877.2, \"od\": \"BFD->OSD\", \"direction\": \"sb\", \"orig_seq\": 2, \"dest_seq\": 12, \"departing_station\": \"10_IRV\"}, {\"ca_bus_route\": \"Rt 1A\", \"orig\": \"BFD\", \"dest\": \"SAN\", \"trip_month\": 4, \"trip_year\": 2025, \"ridership\": 308, \"revenue\": 9334.0, \"od\": \"BFD->SAN\", \"direction\": \"sb\", \"orig_seq\": 2, \"dest_seq\": 14, \"departing_station\": \"10_IRV\"}, {\"ca_bus_route\": \"Rt 1A\", \"orig\": \"BFD\", \"dest\": \"SNC\", \"trip_month\": 4, \"trip_year\": 2025, \"ridership\": 10, \"revenue\": 227.0, \"od\": \"BFD->SNC\", \"direction\": \"sb\", \"orig_seq\": 2, \"dest_seq\": 11, \"departing_station\": \"10_IRV\"}, {\"ca_bus_route\": \"Rt 1A\", \"orig\": \"BFD\", \"dest\": \"SOL\", \"trip_month\": 4, \"trip_year\": 2025, \"ridership\": 11, \"revenue\": 322.85, \"od\": \"BFD->SOL\", \"direction\": \"sb\", \"orig_seq\": 2, \"dest_seq\": 13, \"departing_station\": \"10_IRV\"}, {\"ca_bus_route\": \"Rt 1A\", \"orig\": \"LAX\", \"dest\": \"OSD\", \"trip_month\": 4, \"trip_year\": 2025, \"ridership\": 4, \"revenue\": 43.35, \"od\": \"LAX->OSD\", \"direction\": \"sb\", \"orig_seq\": 6, \"dest_seq\": 12, \"departing_station\": \"10_IRV\"}, {\"ca_bus_route\": \"Rt 1A\", \"orig\": \"LAX\", \"dest\": \"SAN\", \"trip_month\": 4, \"trip_year\": 2025, \"ridership\": 66, \"revenue\": 1178.7, \"od\": \"LAX->SAN\", \"direction\": \"sb\", \"orig_seq\": 6, \"dest_seq\": 14, \"departing_station\": \"10_IRV\"}, {\"ca_bus_route\": \"Rt 1A\", \"orig\": \"LAX\", \"dest\": \"SOL\", \"trip_month\": 4, \"trip_year\": 2025, \"ridership\": 9, \"revenue\": 163.65, \"od\": \"LAX->SOL\", \"direction\": \"sb\", \"orig_seq\": 6, \"dest_seq\": 13, \"departing_station\": \"10_IRV\"}, {\"ca_bus_route\": \"Rt 1A\", \"orig\": \"BFD\", \"dest\": \"OSD\", \"trip_month\": 4, \"trip_year\": 2025, \"ridership\": 71, \"revenue\": 1877.2, \"od\": \"BFD->OSD\", \"direction\": \"sb\", \"orig_seq\": 2, \"dest_seq\": 12, \"departing_station\": \"11_SNC\"}, {\"ca_bus_route\": \"Rt 1A\", \"orig\": \"BFD\", \"dest\": \"SAN\", \"trip_month\": 4, \"trip_year\": 2025, \"ridership\": 308, \"revenue\": 9334.0, \"od\": \"BFD->SAN\", \"direction\": \"sb\", \"orig_seq\": 2, \"dest_seq\": 14, \"departing_station\": \"11_SNC\"}, {\"ca_bus_route\": \"Rt 1A\", \"orig\": \"BFD\", \"dest\": \"SOL\", \"trip_month\": 4, \"trip_year\": 2025, \"ridership\": 11, \"revenue\": 322.85, \"od\": \"BFD->SOL\", \"direction\": \"sb\", \"orig_seq\": 2, \"dest_seq\": 13, \"departing_station\": \"11_SNC\"}, {\"ca_bus_route\": \"Rt 1A\", \"orig\": \"LAX\", \"dest\": \"OSD\", \"trip_month\": 4, \"trip_year\": 2025, \"ridership\": 4, \"revenue\": 43.35, \"od\": \"LAX->OSD\", \"direction\": \"sb\", \"orig_seq\": 6, \"dest_seq\": 12, \"departing_station\": \"11_SNC\"}, {\"ca_bus_route\": \"Rt 1A\", \"orig\": \"LAX\", \"dest\": \"SAN\", \"trip_month\": 4, \"trip_year\": 2025, \"ridership\": 66, \"revenue\": 1178.7, \"od\": \"LAX->SAN\", \"direction\": \"sb\", \"orig_seq\": 6, \"dest_seq\": 14, \"departing_station\": \"11_SNC\"}, {\"ca_bus_route\": \"Rt 1A\", \"orig\": \"LAX\", \"dest\": \"SOL\", \"trip_month\": 4, \"trip_year\": 2025, \"ridership\": 9, \"revenue\": 163.65, \"od\": \"LAX->SOL\", \"direction\": \"sb\", \"orig_seq\": 6, \"dest_seq\": 13, \"departing_station\": \"11_SNC\"}, {\"ca_bus_route\": \"Rt 1A\", \"orig\": \"BFD\", \"dest\": \"SAN\", \"trip_month\": 4, \"trip_year\": 2025, \"ridership\": 308, \"revenue\": 9334.0, \"od\": \"BFD->SAN\", \"direction\": \"sb\", \"orig_seq\": 2, \"dest_seq\": 14, \"departing_station\": \"12_OSD\"}, {\"ca_bus_route\": \"Rt 1A\", \"orig\": \"BFD\", \"dest\": \"SOL\", \"trip_month\": 4, \"trip_year\": 2025, \"ridership\": 11, \"revenue\": 322.85, \"od\": \"BFD->SOL\", \"direction\": \"sb\", \"orig_seq\": 2, \"dest_seq\": 13, \"departing_station\": \"12_OSD\"}, {\"ca_bus_route\": \"Rt 1A\", \"orig\": \"LAX\", \"dest\": \"SAN\", \"trip_month\": 4, \"trip_year\": 2025, \"ridership\": 66, \"revenue\": 1178.7, \"od\": \"LAX->SAN\", \"direction\": \"sb\", \"orig_seq\": 6, \"dest_seq\": 14, \"departing_station\": \"12_OSD\"}, {\"ca_bus_route\": \"Rt 1A\", \"orig\": \"LAX\", \"dest\": \"SOL\", \"trip_month\": 4, \"trip_year\": 2025, \"ridership\": 9, \"revenue\": 163.65, \"od\": \"LAX->SOL\", \"direction\": \"sb\", \"orig_seq\": 6, \"dest_seq\": 13, \"departing_station\": \"12_OSD\"}, {\"ca_bus_route\": \"Rt 1A\", \"orig\": \"BFD\", \"dest\": \"SAN\", \"trip_month\": 4, \"trip_year\": 2025, \"ridership\": 308, \"revenue\": 9334.0, \"od\": \"BFD->SAN\", \"direction\": \"sb\", \"orig_seq\": 2, \"dest_seq\": 14, \"departing_station\": \"13_SOL\"}, {\"ca_bus_route\": \"Rt 1A\", \"orig\": \"LAX\", \"dest\": \"SAN\", \"trip_month\": 4, \"trip_year\": 2025, \"ridership\": 66, \"revenue\": 1178.7, \"od\": \"LAX->SAN\", \"direction\": \"sb\", \"orig_seq\": 6, \"dest_seq\": 14, \"departing_station\": \"13_SOL\"}]}}, {\"mode\": \"vega-lite\"});\n",
       "</script>"
      ],
      "text/plain": [
       "alt.Chart(...)"
      ]
     },
     "execution_count": 42,
     "metadata": {},
     "output_type": "execute_result"
    }
   ],
   "source": [
    "alt.Chart(running_ridership(test_1a, sb_1a)).mark_bar().encode(\n",
    "    x='departing_station',\n",
    "    y='sum(ridership)',\n",
    "    color='od'\n",
    ")"
   ]
  },
  {
   "cell_type": "code",
   "execution_count": 43,
   "id": "0ba63722-bf12-4f17-b92c-9a768bb94722",
   "metadata": {},
   "outputs": [
    {
     "data": {
      "text/html": [
       "\n",
       "<style>\n",
       "  #altair-viz-6f1087a1d35e421697fc4ef87346cbac.vega-embed {\n",
       "    width: 100%;\n",
       "    display: flex;\n",
       "  }\n",
       "\n",
       "  #altair-viz-6f1087a1d35e421697fc4ef87346cbac.vega-embed details,\n",
       "  #altair-viz-6f1087a1d35e421697fc4ef87346cbac.vega-embed details summary {\n",
       "    position: relative;\n",
       "  }\n",
       "</style>\n",
       "<div id=\"altair-viz-6f1087a1d35e421697fc4ef87346cbac\"></div>\n",
       "<script type=\"text/javascript\">\n",
       "  var VEGA_DEBUG = (typeof VEGA_DEBUG == \"undefined\") ? {} : VEGA_DEBUG;\n",
       "  (function(spec, embedOpt){\n",
       "    let outputDiv = document.currentScript.previousElementSibling;\n",
       "    if (outputDiv.id !== \"altair-viz-6f1087a1d35e421697fc4ef87346cbac\") {\n",
       "      outputDiv = document.getElementById(\"altair-viz-6f1087a1d35e421697fc4ef87346cbac\");\n",
       "    }\n",
       "\n",
       "    const paths = {\n",
       "      \"vega\": \"https://cdn.jsdelivr.net/npm/vega@5?noext\",\n",
       "      \"vega-lib\": \"https://cdn.jsdelivr.net/npm/vega-lib?noext\",\n",
       "      \"vega-lite\": \"https://cdn.jsdelivr.net/npm/vega-lite@5.20.1?noext\",\n",
       "      \"vega-embed\": \"https://cdn.jsdelivr.net/npm/vega-embed@6?noext\",\n",
       "    };\n",
       "\n",
       "    function maybeLoadScript(lib, version) {\n",
       "      var key = `${lib.replace(\"-\", \"\")}_version`;\n",
       "      return (VEGA_DEBUG[key] == version) ?\n",
       "        Promise.resolve(paths[lib]) :\n",
       "        new Promise(function(resolve, reject) {\n",
       "          var s = document.createElement('script');\n",
       "          document.getElementsByTagName(\"head\")[0].appendChild(s);\n",
       "          s.async = true;\n",
       "          s.onload = () => {\n",
       "            VEGA_DEBUG[key] = version;\n",
       "            return resolve(paths[lib]);\n",
       "          };\n",
       "          s.onerror = () => reject(`Error loading script: ${paths[lib]}`);\n",
       "          s.src = paths[lib];\n",
       "        });\n",
       "    }\n",
       "\n",
       "    function showError(err) {\n",
       "      outputDiv.innerHTML = `<div class=\"error\" style=\"color:red;\">${err}</div>`;\n",
       "      throw err;\n",
       "    }\n",
       "\n",
       "    function displayChart(vegaEmbed) {\n",
       "      vegaEmbed(outputDiv, spec, embedOpt)\n",
       "        .catch(err => showError(`Javascript Error: ${err.message}<br>This usually means there's a typo in your chart specification. See the javascript console for the full traceback.`));\n",
       "    }\n",
       "\n",
       "    if(typeof define === \"function\" && define.amd) {\n",
       "      requirejs.config({paths});\n",
       "      let deps = [\"vega-embed\"];\n",
       "      require(deps, displayChart, err => showError(`Error loading script: ${err.message}`));\n",
       "    } else {\n",
       "      maybeLoadScript(\"vega\", \"5\")\n",
       "        .then(() => maybeLoadScript(\"vega-lite\", \"5.20.1\"))\n",
       "        .then(() => maybeLoadScript(\"vega-embed\", \"6\"))\n",
       "        .catch(showError)\n",
       "        .then(() => displayChart(vegaEmbed));\n",
       "    }\n",
       "  })({\"config\": {\"view\": {\"continuousWidth\": 300, \"continuousHeight\": 300}}, \"data\": {\"name\": \"data-ce20adc633e2dcd345a0e0d8eefb3489\"}, \"mark\": {\"type\": \"bar\"}, \"encoding\": {\"color\": {\"field\": \"od\", \"type\": \"nominal\"}, \"x\": {\"field\": \"departing_station\", \"type\": \"nominal\"}, \"y\": {\"aggregate\": \"sum\", \"field\": \"ridership\", \"type\": \"quantitative\"}}, \"$schema\": \"https://vega.github.io/schema/vega-lite/v5.20.1.json\", \"datasets\": {\"data-ce20adc633e2dcd345a0e0d8eefb3489\": [{\"ca_bus_route\": \"Rt 1A\", \"orig\": \"FNO\", \"dest\": \"BFD\", \"trip_month\": 4, \"trip_year\": 2025, \"ridership\": 8, \"revenue\": 55.71, \"od\": \"FNO->BFD\", \"direction\": \"sb\", \"orig_seq\": 0, \"dest_seq\": 2, \"departing_station\": \"0_FNO\"}, {\"ca_bus_route\": \"Rt 1A\", \"orig\": \"FNO\", \"dest\": \"HNF\", \"trip_month\": 4, \"trip_year\": 2025, \"ridership\": 11, \"revenue\": 67.3, \"od\": \"FNO->HNF\", \"direction\": \"sb\", \"orig_seq\": 0, \"dest_seq\": 1, \"departing_station\": \"0_FNO\"}, {\"ca_bus_route\": \"Rt 1A\", \"orig\": \"FNO\", \"dest\": \"LAX\", \"trip_month\": 4, \"trip_year\": 2025, \"ridership\": 367, \"revenue\": 4779.2, \"od\": \"FNO->LAX\", \"direction\": \"sb\", \"orig_seq\": 0, \"dest_seq\": 6, \"departing_station\": \"0_FNO\"}, {\"ca_bus_route\": \"Rt 1A\", \"orig\": \"FNO\", \"dest\": \"BFD\", \"trip_month\": 4, \"trip_year\": 2025, \"ridership\": 8, \"revenue\": 55.71, \"od\": \"FNO->BFD\", \"direction\": \"sb\", \"orig_seq\": 0, \"dest_seq\": 2, \"departing_station\": \"1_HNF\"}, {\"ca_bus_route\": \"Rt 1A\", \"orig\": \"FNO\", \"dest\": \"LAX\", \"trip_month\": 4, \"trip_year\": 2025, \"ridership\": 367, \"revenue\": 4779.2, \"od\": \"FNO->LAX\", \"direction\": \"sb\", \"orig_seq\": 0, \"dest_seq\": 6, \"departing_station\": \"1_HNF\"}, {\"ca_bus_route\": \"Rt 1A\", \"orig\": \"HNF\", \"dest\": \"BFD\", \"trip_month\": 4, \"trip_year\": 2025, \"ridership\": 6, \"revenue\": 40.0, \"od\": \"HNF->BFD\", \"direction\": \"sb\", \"orig_seq\": 1, \"dest_seq\": 2, \"departing_station\": \"1_HNF\"}, {\"ca_bus_route\": \"Rt 1A\", \"orig\": \"HNF\", \"dest\": \"LAX\", \"trip_month\": 4, \"trip_year\": 2025, \"ridership\": 201, \"revenue\": 2175.59, \"od\": \"HNF->LAX\", \"direction\": \"sb\", \"orig_seq\": 1, \"dest_seq\": 6, \"departing_station\": \"1_HNF\"}, {\"ca_bus_route\": \"Rt 1A\", \"orig\": \"BFD\", \"dest\": \"ANA\", \"trip_month\": 4, \"trip_year\": 2025, \"ridership\": 52, \"revenue\": 971.8, \"od\": \"BFD->ANA\", \"direction\": \"sb\", \"orig_seq\": 2, \"dest_seq\": 8, \"departing_station\": \"2_BFD\"}, {\"ca_bus_route\": \"Rt 1A\", \"orig\": \"BFD\", \"dest\": \"BUR\", \"trip_month\": 4, \"trip_year\": 2025, \"ridership\": 25, \"revenue\": 344.1, \"od\": \"BFD->BUR\", \"direction\": \"sb\", \"orig_seq\": 2, \"dest_seq\": 4, \"departing_station\": \"2_BFD\"}, {\"ca_bus_route\": \"Rt 1A\", \"orig\": \"BFD\", \"dest\": \"FUL\", \"trip_month\": 4, \"trip_year\": 2025, \"ridership\": 46, \"revenue\": 895.0, \"od\": \"BFD->FUL\", \"direction\": \"sb\", \"orig_seq\": 2, \"dest_seq\": 7, \"departing_station\": \"2_BFD\"}, {\"ca_bus_route\": \"Rt 1A\", \"orig\": \"BFD\", \"dest\": \"GDL\", \"trip_month\": 4, \"trip_year\": 2025, \"ridership\": 19, \"revenue\": 298.5, \"od\": \"BFD->GDL\", \"direction\": \"sb\", \"orig_seq\": 2, \"dest_seq\": 5, \"departing_station\": \"2_BFD\"}, {\"ca_bus_route\": \"Rt 1A\", \"orig\": \"BFD\", \"dest\": \"IRV\", \"trip_month\": 4, \"trip_year\": 2025, \"ridership\": 38, \"revenue\": 779.9, \"od\": \"BFD->IRV\", \"direction\": \"sb\", \"orig_seq\": 2, \"dest_seq\": 10, \"departing_station\": \"2_BFD\"}, {\"ca_bus_route\": \"Rt 1A\", \"orig\": \"BFD\", \"dest\": \"LAX\", \"trip_month\": 4, \"trip_year\": 2025, \"ridership\": 3731, \"revenue\": 59205.1, \"od\": \"BFD->LAX\", \"direction\": \"sb\", \"orig_seq\": 2, \"dest_seq\": 6, \"departing_station\": \"2_BFD\"}, {\"ca_bus_route\": \"Rt 1A\", \"orig\": \"BFD\", \"dest\": \"NHL\", \"trip_month\": 4, \"trip_year\": 2025, \"ridership\": 30, \"revenue\": 347.37, \"od\": \"BFD->NHL\", \"direction\": \"sb\", \"orig_seq\": 2, \"dest_seq\": 3, \"departing_station\": \"2_BFD\"}, {\"ca_bus_route\": \"Rt 1A\", \"orig\": \"BFD\", \"dest\": \"OSD\", \"trip_month\": 4, \"trip_year\": 2025, \"ridership\": 71, \"revenue\": 1877.2, \"od\": \"BFD->OSD\", \"direction\": \"sb\", \"orig_seq\": 2, \"dest_seq\": 12, \"departing_station\": \"2_BFD\"}, {\"ca_bus_route\": \"Rt 1A\", \"orig\": \"BFD\", \"dest\": \"SAN\", \"trip_month\": 4, \"trip_year\": 2025, \"ridership\": 308, \"revenue\": 9334.0, \"od\": \"BFD->SAN\", \"direction\": \"sb\", \"orig_seq\": 2, \"dest_seq\": 14, \"departing_station\": \"2_BFD\"}, {\"ca_bus_route\": \"Rt 1A\", \"orig\": \"BFD\", \"dest\": \"SNA\", \"trip_month\": 4, \"trip_year\": 2025, \"ridership\": 56, \"revenue\": 1079.85, \"od\": \"BFD->SNA\", \"direction\": \"sb\", \"orig_seq\": 2, \"dest_seq\": 9, \"departing_station\": \"2_BFD\"}, {\"ca_bus_route\": \"Rt 1A\", \"orig\": \"BFD\", \"dest\": \"SNC\", \"trip_month\": 4, \"trip_year\": 2025, \"ridership\": 10, \"revenue\": 227.0, \"od\": \"BFD->SNC\", \"direction\": \"sb\", \"orig_seq\": 2, \"dest_seq\": 11, \"departing_station\": \"2_BFD\"}, {\"ca_bus_route\": \"Rt 1A\", \"orig\": \"BFD\", \"dest\": \"SOL\", \"trip_month\": 4, \"trip_year\": 2025, \"ridership\": 11, \"revenue\": 322.85, \"od\": \"BFD->SOL\", \"direction\": \"sb\", \"orig_seq\": 2, \"dest_seq\": 13, \"departing_station\": \"2_BFD\"}, {\"ca_bus_route\": \"Rt 1A\", \"orig\": \"FNO\", \"dest\": \"LAX\", \"trip_month\": 4, \"trip_year\": 2025, \"ridership\": 367, \"revenue\": 4779.2, \"od\": \"FNO->LAX\", \"direction\": \"sb\", \"orig_seq\": 0, \"dest_seq\": 6, \"departing_station\": \"2_BFD\"}, {\"ca_bus_route\": \"Rt 1A\", \"orig\": \"HNF\", \"dest\": \"LAX\", \"trip_month\": 4, \"trip_year\": 2025, \"ridership\": 201, \"revenue\": 2175.59, \"od\": \"HNF->LAX\", \"direction\": \"sb\", \"orig_seq\": 1, \"dest_seq\": 6, \"departing_station\": \"2_BFD\"}, {\"ca_bus_route\": \"Rt 1A\", \"orig\": \"BFD\", \"dest\": \"ANA\", \"trip_month\": 4, \"trip_year\": 2025, \"ridership\": 52, \"revenue\": 971.8, \"od\": \"BFD->ANA\", \"direction\": \"sb\", \"orig_seq\": 2, \"dest_seq\": 8, \"departing_station\": \"3_NHL\"}, {\"ca_bus_route\": \"Rt 1A\", \"orig\": \"BFD\", \"dest\": \"BUR\", \"trip_month\": 4, \"trip_year\": 2025, \"ridership\": 25, \"revenue\": 344.1, \"od\": \"BFD->BUR\", \"direction\": \"sb\", \"orig_seq\": 2, \"dest_seq\": 4, \"departing_station\": \"3_NHL\"}, {\"ca_bus_route\": \"Rt 1A\", \"orig\": \"BFD\", \"dest\": \"FUL\", \"trip_month\": 4, \"trip_year\": 2025, \"ridership\": 46, \"revenue\": 895.0, \"od\": \"BFD->FUL\", \"direction\": \"sb\", \"orig_seq\": 2, \"dest_seq\": 7, \"departing_station\": \"3_NHL\"}, {\"ca_bus_route\": \"Rt 1A\", \"orig\": \"BFD\", \"dest\": \"GDL\", \"trip_month\": 4, \"trip_year\": 2025, \"ridership\": 19, \"revenue\": 298.5, \"od\": \"BFD->GDL\", \"direction\": \"sb\", \"orig_seq\": 2, \"dest_seq\": 5, \"departing_station\": \"3_NHL\"}, {\"ca_bus_route\": \"Rt 1A\", \"orig\": \"BFD\", \"dest\": \"IRV\", \"trip_month\": 4, \"trip_year\": 2025, \"ridership\": 38, \"revenue\": 779.9, \"od\": \"BFD->IRV\", \"direction\": \"sb\", \"orig_seq\": 2, \"dest_seq\": 10, \"departing_station\": \"3_NHL\"}, {\"ca_bus_route\": \"Rt 1A\", \"orig\": \"BFD\", \"dest\": \"LAX\", \"trip_month\": 4, \"trip_year\": 2025, \"ridership\": 3731, \"revenue\": 59205.1, \"od\": \"BFD->LAX\", \"direction\": \"sb\", \"orig_seq\": 2, \"dest_seq\": 6, \"departing_station\": \"3_NHL\"}, {\"ca_bus_route\": \"Rt 1A\", \"orig\": \"BFD\", \"dest\": \"OSD\", \"trip_month\": 4, \"trip_year\": 2025, \"ridership\": 71, \"revenue\": 1877.2, \"od\": \"BFD->OSD\", \"direction\": \"sb\", \"orig_seq\": 2, \"dest_seq\": 12, \"departing_station\": \"3_NHL\"}, {\"ca_bus_route\": \"Rt 1A\", \"orig\": \"BFD\", \"dest\": \"SAN\", \"trip_month\": 4, \"trip_year\": 2025, \"ridership\": 308, \"revenue\": 9334.0, \"od\": \"BFD->SAN\", \"direction\": \"sb\", \"orig_seq\": 2, \"dest_seq\": 14, \"departing_station\": \"3_NHL\"}, {\"ca_bus_route\": \"Rt 1A\", \"orig\": \"BFD\", \"dest\": \"SNA\", \"trip_month\": 4, \"trip_year\": 2025, \"ridership\": 56, \"revenue\": 1079.85, \"od\": \"BFD->SNA\", \"direction\": \"sb\", \"orig_seq\": 2, \"dest_seq\": 9, \"departing_station\": \"3_NHL\"}, {\"ca_bus_route\": \"Rt 1A\", \"orig\": \"BFD\", \"dest\": \"SNC\", \"trip_month\": 4, \"trip_year\": 2025, \"ridership\": 10, \"revenue\": 227.0, \"od\": \"BFD->SNC\", \"direction\": \"sb\", \"orig_seq\": 2, \"dest_seq\": 11, \"departing_station\": \"3_NHL\"}, {\"ca_bus_route\": \"Rt 1A\", \"orig\": \"BFD\", \"dest\": \"SOL\", \"trip_month\": 4, \"trip_year\": 2025, \"ridership\": 11, \"revenue\": 322.85, \"od\": \"BFD->SOL\", \"direction\": \"sb\", \"orig_seq\": 2, \"dest_seq\": 13, \"departing_station\": \"3_NHL\"}, {\"ca_bus_route\": \"Rt 1A\", \"orig\": \"FNO\", \"dest\": \"LAX\", \"trip_month\": 4, \"trip_year\": 2025, \"ridership\": 367, \"revenue\": 4779.2, \"od\": \"FNO->LAX\", \"direction\": \"sb\", \"orig_seq\": 0, \"dest_seq\": 6, \"departing_station\": \"3_NHL\"}, {\"ca_bus_route\": \"Rt 1A\", \"orig\": \"HNF\", \"dest\": \"LAX\", \"trip_month\": 4, \"trip_year\": 2025, \"ridership\": 201, \"revenue\": 2175.59, \"od\": \"HNF->LAX\", \"direction\": \"sb\", \"orig_seq\": 1, \"dest_seq\": 6, \"departing_station\": \"3_NHL\"}, {\"ca_bus_route\": \"Rt 1A\", \"orig\": \"NHL\", \"dest\": \"LAX\", \"trip_month\": 4, \"trip_year\": 2025, \"ridership\": 1, \"revenue\": 0.0, \"od\": \"NHL->LAX\", \"direction\": \"sb\", \"orig_seq\": 3, \"dest_seq\": 6, \"departing_station\": \"3_NHL\"}, {\"ca_bus_route\": \"Rt 1A\", \"orig\": \"BFD\", \"dest\": \"ANA\", \"trip_month\": 4, \"trip_year\": 2025, \"ridership\": 52, \"revenue\": 971.8, \"od\": \"BFD->ANA\", \"direction\": \"sb\", \"orig_seq\": 2, \"dest_seq\": 8, \"departing_station\": \"4_BUR\"}, {\"ca_bus_route\": \"Rt 1A\", \"orig\": \"BFD\", \"dest\": \"FUL\", \"trip_month\": 4, \"trip_year\": 2025, \"ridership\": 46, \"revenue\": 895.0, \"od\": \"BFD->FUL\", \"direction\": \"sb\", \"orig_seq\": 2, \"dest_seq\": 7, \"departing_station\": \"4_BUR\"}, {\"ca_bus_route\": \"Rt 1A\", \"orig\": \"BFD\", \"dest\": \"GDL\", \"trip_month\": 4, \"trip_year\": 2025, \"ridership\": 19, \"revenue\": 298.5, \"od\": \"BFD->GDL\", \"direction\": \"sb\", \"orig_seq\": 2, \"dest_seq\": 5, \"departing_station\": \"4_BUR\"}, {\"ca_bus_route\": \"Rt 1A\", \"orig\": \"BFD\", \"dest\": \"IRV\", \"trip_month\": 4, \"trip_year\": 2025, \"ridership\": 38, \"revenue\": 779.9, \"od\": \"BFD->IRV\", \"direction\": \"sb\", \"orig_seq\": 2, \"dest_seq\": 10, \"departing_station\": \"4_BUR\"}, {\"ca_bus_route\": \"Rt 1A\", \"orig\": \"BFD\", \"dest\": \"LAX\", \"trip_month\": 4, \"trip_year\": 2025, \"ridership\": 3731, \"revenue\": 59205.1, \"od\": \"BFD->LAX\", \"direction\": \"sb\", \"orig_seq\": 2, \"dest_seq\": 6, \"departing_station\": \"4_BUR\"}, {\"ca_bus_route\": \"Rt 1A\", \"orig\": \"BFD\", \"dest\": \"OSD\", \"trip_month\": 4, \"trip_year\": 2025, \"ridership\": 71, \"revenue\": 1877.2, \"od\": \"BFD->OSD\", \"direction\": \"sb\", \"orig_seq\": 2, \"dest_seq\": 12, \"departing_station\": \"4_BUR\"}, {\"ca_bus_route\": \"Rt 1A\", \"orig\": \"BFD\", \"dest\": \"SAN\", \"trip_month\": 4, \"trip_year\": 2025, \"ridership\": 308, \"revenue\": 9334.0, \"od\": \"BFD->SAN\", \"direction\": \"sb\", \"orig_seq\": 2, \"dest_seq\": 14, \"departing_station\": \"4_BUR\"}, {\"ca_bus_route\": \"Rt 1A\", \"orig\": \"BFD\", \"dest\": \"SNA\", \"trip_month\": 4, \"trip_year\": 2025, \"ridership\": 56, \"revenue\": 1079.85, \"od\": \"BFD->SNA\", \"direction\": \"sb\", \"orig_seq\": 2, \"dest_seq\": 9, \"departing_station\": \"4_BUR\"}, {\"ca_bus_route\": \"Rt 1A\", \"orig\": \"BFD\", \"dest\": \"SNC\", \"trip_month\": 4, \"trip_year\": 2025, \"ridership\": 10, \"revenue\": 227.0, \"od\": \"BFD->SNC\", \"direction\": \"sb\", \"orig_seq\": 2, \"dest_seq\": 11, \"departing_station\": \"4_BUR\"}, {\"ca_bus_route\": \"Rt 1A\", \"orig\": \"BFD\", \"dest\": \"SOL\", \"trip_month\": 4, \"trip_year\": 2025, \"ridership\": 11, \"revenue\": 322.85, \"od\": \"BFD->SOL\", \"direction\": \"sb\", \"orig_seq\": 2, \"dest_seq\": 13, \"departing_station\": \"4_BUR\"}, {\"ca_bus_route\": \"Rt 1A\", \"orig\": \"FNO\", \"dest\": \"LAX\", \"trip_month\": 4, \"trip_year\": 2025, \"ridership\": 367, \"revenue\": 4779.2, \"od\": \"FNO->LAX\", \"direction\": \"sb\", \"orig_seq\": 0, \"dest_seq\": 6, \"departing_station\": \"4_BUR\"}, {\"ca_bus_route\": \"Rt 1A\", \"orig\": \"HNF\", \"dest\": \"LAX\", \"trip_month\": 4, \"trip_year\": 2025, \"ridership\": 201, \"revenue\": 2175.59, \"od\": \"HNF->LAX\", \"direction\": \"sb\", \"orig_seq\": 1, \"dest_seq\": 6, \"departing_station\": \"4_BUR\"}, {\"ca_bus_route\": \"Rt 1A\", \"orig\": \"NHL\", \"dest\": \"LAX\", \"trip_month\": 4, \"trip_year\": 2025, \"ridership\": 1, \"revenue\": 0.0, \"od\": \"NHL->LAX\", \"direction\": \"sb\", \"orig_seq\": 3, \"dest_seq\": 6, \"departing_station\": \"4_BUR\"}, {\"ca_bus_route\": \"Rt 1A\", \"orig\": \"BFD\", \"dest\": \"ANA\", \"trip_month\": 4, \"trip_year\": 2025, \"ridership\": 52, \"revenue\": 971.8, \"od\": \"BFD->ANA\", \"direction\": \"sb\", \"orig_seq\": 2, \"dest_seq\": 8, \"departing_station\": \"5_GDL\"}, {\"ca_bus_route\": \"Rt 1A\", \"orig\": \"BFD\", \"dest\": \"FUL\", \"trip_month\": 4, \"trip_year\": 2025, \"ridership\": 46, \"revenue\": 895.0, \"od\": \"BFD->FUL\", \"direction\": \"sb\", \"orig_seq\": 2, \"dest_seq\": 7, \"departing_station\": \"5_GDL\"}, {\"ca_bus_route\": \"Rt 1A\", \"orig\": \"BFD\", \"dest\": \"IRV\", \"trip_month\": 4, \"trip_year\": 2025, \"ridership\": 38, \"revenue\": 779.9, \"od\": \"BFD->IRV\", \"direction\": \"sb\", \"orig_seq\": 2, \"dest_seq\": 10, \"departing_station\": \"5_GDL\"}, {\"ca_bus_route\": \"Rt 1A\", \"orig\": \"BFD\", \"dest\": \"LAX\", \"trip_month\": 4, \"trip_year\": 2025, \"ridership\": 3731, \"revenue\": 59205.1, \"od\": \"BFD->LAX\", \"direction\": \"sb\", \"orig_seq\": 2, \"dest_seq\": 6, \"departing_station\": \"5_GDL\"}, {\"ca_bus_route\": \"Rt 1A\", \"orig\": \"BFD\", \"dest\": \"OSD\", \"trip_month\": 4, \"trip_year\": 2025, \"ridership\": 71, \"revenue\": 1877.2, \"od\": \"BFD->OSD\", \"direction\": \"sb\", \"orig_seq\": 2, \"dest_seq\": 12, \"departing_station\": \"5_GDL\"}, {\"ca_bus_route\": \"Rt 1A\", \"orig\": \"BFD\", \"dest\": \"SAN\", \"trip_month\": 4, \"trip_year\": 2025, \"ridership\": 308, \"revenue\": 9334.0, \"od\": \"BFD->SAN\", \"direction\": \"sb\", \"orig_seq\": 2, \"dest_seq\": 14, \"departing_station\": \"5_GDL\"}, {\"ca_bus_route\": \"Rt 1A\", \"orig\": \"BFD\", \"dest\": \"SNA\", \"trip_month\": 4, \"trip_year\": 2025, \"ridership\": 56, \"revenue\": 1079.85, \"od\": \"BFD->SNA\", \"direction\": \"sb\", \"orig_seq\": 2, \"dest_seq\": 9, \"departing_station\": \"5_GDL\"}, {\"ca_bus_route\": \"Rt 1A\", \"orig\": \"BFD\", \"dest\": \"SNC\", \"trip_month\": 4, \"trip_year\": 2025, \"ridership\": 10, \"revenue\": 227.0, \"od\": \"BFD->SNC\", \"direction\": \"sb\", \"orig_seq\": 2, \"dest_seq\": 11, \"departing_station\": \"5_GDL\"}, {\"ca_bus_route\": \"Rt 1A\", \"orig\": \"BFD\", \"dest\": \"SOL\", \"trip_month\": 4, \"trip_year\": 2025, \"ridership\": 11, \"revenue\": 322.85, \"od\": \"BFD->SOL\", \"direction\": \"sb\", \"orig_seq\": 2, \"dest_seq\": 13, \"departing_station\": \"5_GDL\"}, {\"ca_bus_route\": \"Rt 1A\", \"orig\": \"FNO\", \"dest\": \"LAX\", \"trip_month\": 4, \"trip_year\": 2025, \"ridership\": 367, \"revenue\": 4779.2, \"od\": \"FNO->LAX\", \"direction\": \"sb\", \"orig_seq\": 0, \"dest_seq\": 6, \"departing_station\": \"5_GDL\"}, {\"ca_bus_route\": \"Rt 1A\", \"orig\": \"HNF\", \"dest\": \"LAX\", \"trip_month\": 4, \"trip_year\": 2025, \"ridership\": 201, \"revenue\": 2175.59, \"od\": \"HNF->LAX\", \"direction\": \"sb\", \"orig_seq\": 1, \"dest_seq\": 6, \"departing_station\": \"5_GDL\"}, {\"ca_bus_route\": \"Rt 1A\", \"orig\": \"NHL\", \"dest\": \"LAX\", \"trip_month\": 4, \"trip_year\": 2025, \"ridership\": 1, \"revenue\": 0.0, \"od\": \"NHL->LAX\", \"direction\": \"sb\", \"orig_seq\": 3, \"dest_seq\": 6, \"departing_station\": \"5_GDL\"}, {\"ca_bus_route\": \"Rt 1A\", \"orig\": \"BFD\", \"dest\": \"ANA\", \"trip_month\": 4, \"trip_year\": 2025, \"ridership\": 52, \"revenue\": 971.8, \"od\": \"BFD->ANA\", \"direction\": \"sb\", \"orig_seq\": 2, \"dest_seq\": 8, \"departing_station\": \"6_LAX\"}, {\"ca_bus_route\": \"Rt 1A\", \"orig\": \"BFD\", \"dest\": \"FUL\", \"trip_month\": 4, \"trip_year\": 2025, \"ridership\": 46, \"revenue\": 895.0, \"od\": \"BFD->FUL\", \"direction\": \"sb\", \"orig_seq\": 2, \"dest_seq\": 7, \"departing_station\": \"6_LAX\"}, {\"ca_bus_route\": \"Rt 1A\", \"orig\": \"BFD\", \"dest\": \"IRV\", \"trip_month\": 4, \"trip_year\": 2025, \"ridership\": 38, \"revenue\": 779.9, \"od\": \"BFD->IRV\", \"direction\": \"sb\", \"orig_seq\": 2, \"dest_seq\": 10, \"departing_station\": \"6_LAX\"}, {\"ca_bus_route\": \"Rt 1A\", \"orig\": \"BFD\", \"dest\": \"OSD\", \"trip_month\": 4, \"trip_year\": 2025, \"ridership\": 71, \"revenue\": 1877.2, \"od\": \"BFD->OSD\", \"direction\": \"sb\", \"orig_seq\": 2, \"dest_seq\": 12, \"departing_station\": \"6_LAX\"}, {\"ca_bus_route\": \"Rt 1A\", \"orig\": \"BFD\", \"dest\": \"SAN\", \"trip_month\": 4, \"trip_year\": 2025, \"ridership\": 308, \"revenue\": 9334.0, \"od\": \"BFD->SAN\", \"direction\": \"sb\", \"orig_seq\": 2, \"dest_seq\": 14, \"departing_station\": \"6_LAX\"}, {\"ca_bus_route\": \"Rt 1A\", \"orig\": \"BFD\", \"dest\": \"SNA\", \"trip_month\": 4, \"trip_year\": 2025, \"ridership\": 56, \"revenue\": 1079.85, \"od\": \"BFD->SNA\", \"direction\": \"sb\", \"orig_seq\": 2, \"dest_seq\": 9, \"departing_station\": \"6_LAX\"}, {\"ca_bus_route\": \"Rt 1A\", \"orig\": \"BFD\", \"dest\": \"SNC\", \"trip_month\": 4, \"trip_year\": 2025, \"ridership\": 10, \"revenue\": 227.0, \"od\": \"BFD->SNC\", \"direction\": \"sb\", \"orig_seq\": 2, \"dest_seq\": 11, \"departing_station\": \"6_LAX\"}, {\"ca_bus_route\": \"Rt 1A\", \"orig\": \"BFD\", \"dest\": \"SOL\", \"trip_month\": 4, \"trip_year\": 2025, \"ridership\": 11, \"revenue\": 322.85, \"od\": \"BFD->SOL\", \"direction\": \"sb\", \"orig_seq\": 2, \"dest_seq\": 13, \"departing_station\": \"6_LAX\"}, {\"ca_bus_route\": \"Rt 1A\", \"orig\": \"LAX\", \"dest\": \"ANA\", \"trip_month\": 4, \"trip_year\": 2025, \"ridership\": 11, \"revenue\": 88.0, \"od\": \"LAX->ANA\", \"direction\": \"sb\", \"orig_seq\": 6, \"dest_seq\": 8, \"departing_station\": \"6_LAX\"}, {\"ca_bus_route\": \"Rt 1A\", \"orig\": \"LAX\", \"dest\": \"FUL\", \"trip_month\": 4, \"trip_year\": 2025, \"ridership\": 2, \"revenue\": 29.0, \"od\": \"LAX->FUL\", \"direction\": \"sb\", \"orig_seq\": 6, \"dest_seq\": 7, \"departing_station\": \"6_LAX\"}, {\"ca_bus_route\": \"Rt 1A\", \"orig\": \"LAX\", \"dest\": \"IRV\", \"trip_month\": 4, \"trip_year\": 2025, \"ridership\": 3, \"revenue\": 15.0, \"od\": \"LAX->IRV\", \"direction\": \"sb\", \"orig_seq\": 6, \"dest_seq\": 10, \"departing_station\": \"6_LAX\"}, {\"ca_bus_route\": \"Rt 1A\", \"orig\": \"LAX\", \"dest\": \"OSD\", \"trip_month\": 4, \"trip_year\": 2025, \"ridership\": 4, \"revenue\": 43.35, \"od\": \"LAX->OSD\", \"direction\": \"sb\", \"orig_seq\": 6, \"dest_seq\": 12, \"departing_station\": \"6_LAX\"}, {\"ca_bus_route\": \"Rt 1A\", \"orig\": \"LAX\", \"dest\": \"SAN\", \"trip_month\": 4, \"trip_year\": 2025, \"ridership\": 66, \"revenue\": 1178.7, \"od\": \"LAX->SAN\", \"direction\": \"sb\", \"orig_seq\": 6, \"dest_seq\": 14, \"departing_station\": \"6_LAX\"}, {\"ca_bus_route\": \"Rt 1A\", \"orig\": \"LAX\", \"dest\": \"SNA\", \"trip_month\": 4, \"trip_year\": 2025, \"ridership\": 3, \"revenue\": 16.0, \"od\": \"LAX->SNA\", \"direction\": \"sb\", \"orig_seq\": 6, \"dest_seq\": 9, \"departing_station\": \"6_LAX\"}, {\"ca_bus_route\": \"Rt 1A\", \"orig\": \"LAX\", \"dest\": \"SOL\", \"trip_month\": 4, \"trip_year\": 2025, \"ridership\": 9, \"revenue\": 163.65, \"od\": \"LAX->SOL\", \"direction\": \"sb\", \"orig_seq\": 6, \"dest_seq\": 13, \"departing_station\": \"6_LAX\"}, {\"ca_bus_route\": \"Rt 1A\", \"orig\": \"BFD\", \"dest\": \"ANA\", \"trip_month\": 4, \"trip_year\": 2025, \"ridership\": 52, \"revenue\": 971.8, \"od\": \"BFD->ANA\", \"direction\": \"sb\", \"orig_seq\": 2, \"dest_seq\": 8, \"departing_station\": \"7_FUL\"}, {\"ca_bus_route\": \"Rt 1A\", \"orig\": \"BFD\", \"dest\": \"IRV\", \"trip_month\": 4, \"trip_year\": 2025, \"ridership\": 38, \"revenue\": 779.9, \"od\": \"BFD->IRV\", \"direction\": \"sb\", \"orig_seq\": 2, \"dest_seq\": 10, \"departing_station\": \"7_FUL\"}, {\"ca_bus_route\": \"Rt 1A\", \"orig\": \"BFD\", \"dest\": \"OSD\", \"trip_month\": 4, \"trip_year\": 2025, \"ridership\": 71, \"revenue\": 1877.2, \"od\": \"BFD->OSD\", \"direction\": \"sb\", \"orig_seq\": 2, \"dest_seq\": 12, \"departing_station\": \"7_FUL\"}, {\"ca_bus_route\": \"Rt 1A\", \"orig\": \"BFD\", \"dest\": \"SAN\", \"trip_month\": 4, \"trip_year\": 2025, \"ridership\": 308, \"revenue\": 9334.0, \"od\": \"BFD->SAN\", \"direction\": \"sb\", \"orig_seq\": 2, \"dest_seq\": 14, \"departing_station\": \"7_FUL\"}, {\"ca_bus_route\": \"Rt 1A\", \"orig\": \"BFD\", \"dest\": \"SNA\", \"trip_month\": 4, \"trip_year\": 2025, \"ridership\": 56, \"revenue\": 1079.85, \"od\": \"BFD->SNA\", \"direction\": \"sb\", \"orig_seq\": 2, \"dest_seq\": 9, \"departing_station\": \"7_FUL\"}, {\"ca_bus_route\": \"Rt 1A\", \"orig\": \"BFD\", \"dest\": \"SNC\", \"trip_month\": 4, \"trip_year\": 2025, \"ridership\": 10, \"revenue\": 227.0, \"od\": \"BFD->SNC\", \"direction\": \"sb\", \"orig_seq\": 2, \"dest_seq\": 11, \"departing_station\": \"7_FUL\"}, {\"ca_bus_route\": \"Rt 1A\", \"orig\": \"BFD\", \"dest\": \"SOL\", \"trip_month\": 4, \"trip_year\": 2025, \"ridership\": 11, \"revenue\": 322.85, \"od\": \"BFD->SOL\", \"direction\": \"sb\", \"orig_seq\": 2, \"dest_seq\": 13, \"departing_station\": \"7_FUL\"}, {\"ca_bus_route\": \"Rt 1A\", \"orig\": \"LAX\", \"dest\": \"ANA\", \"trip_month\": 4, \"trip_year\": 2025, \"ridership\": 11, \"revenue\": 88.0, \"od\": \"LAX->ANA\", \"direction\": \"sb\", \"orig_seq\": 6, \"dest_seq\": 8, \"departing_station\": \"7_FUL\"}, {\"ca_bus_route\": \"Rt 1A\", \"orig\": \"LAX\", \"dest\": \"IRV\", \"trip_month\": 4, \"trip_year\": 2025, \"ridership\": 3, \"revenue\": 15.0, \"od\": \"LAX->IRV\", \"direction\": \"sb\", \"orig_seq\": 6, \"dest_seq\": 10, \"departing_station\": \"7_FUL\"}, {\"ca_bus_route\": \"Rt 1A\", \"orig\": \"LAX\", \"dest\": \"OSD\", \"trip_month\": 4, \"trip_year\": 2025, \"ridership\": 4, \"revenue\": 43.35, \"od\": \"LAX->OSD\", \"direction\": \"sb\", \"orig_seq\": 6, \"dest_seq\": 12, \"departing_station\": \"7_FUL\"}, {\"ca_bus_route\": \"Rt 1A\", \"orig\": \"LAX\", \"dest\": \"SAN\", \"trip_month\": 4, \"trip_year\": 2025, \"ridership\": 66, \"revenue\": 1178.7, \"od\": \"LAX->SAN\", \"direction\": \"sb\", \"orig_seq\": 6, \"dest_seq\": 14, \"departing_station\": \"7_FUL\"}, {\"ca_bus_route\": \"Rt 1A\", \"orig\": \"LAX\", \"dest\": \"SNA\", \"trip_month\": 4, \"trip_year\": 2025, \"ridership\": 3, \"revenue\": 16.0, \"od\": \"LAX->SNA\", \"direction\": \"sb\", \"orig_seq\": 6, \"dest_seq\": 9, \"departing_station\": \"7_FUL\"}, {\"ca_bus_route\": \"Rt 1A\", \"orig\": \"LAX\", \"dest\": \"SOL\", \"trip_month\": 4, \"trip_year\": 2025, \"ridership\": 9, \"revenue\": 163.65, \"od\": \"LAX->SOL\", \"direction\": \"sb\", \"orig_seq\": 6, \"dest_seq\": 13, \"departing_station\": \"7_FUL\"}, {\"ca_bus_route\": \"Rt 1A\", \"orig\": \"BFD\", \"dest\": \"IRV\", \"trip_month\": 4, \"trip_year\": 2025, \"ridership\": 38, \"revenue\": 779.9, \"od\": \"BFD->IRV\", \"direction\": \"sb\", \"orig_seq\": 2, \"dest_seq\": 10, \"departing_station\": \"8_ANA\"}, {\"ca_bus_route\": \"Rt 1A\", \"orig\": \"BFD\", \"dest\": \"OSD\", \"trip_month\": 4, \"trip_year\": 2025, \"ridership\": 71, \"revenue\": 1877.2, \"od\": \"BFD->OSD\", \"direction\": \"sb\", \"orig_seq\": 2, \"dest_seq\": 12, \"departing_station\": \"8_ANA\"}, {\"ca_bus_route\": \"Rt 1A\", \"orig\": \"BFD\", \"dest\": \"SAN\", \"trip_month\": 4, \"trip_year\": 2025, \"ridership\": 308, \"revenue\": 9334.0, \"od\": \"BFD->SAN\", \"direction\": \"sb\", \"orig_seq\": 2, \"dest_seq\": 14, \"departing_station\": \"8_ANA\"}, {\"ca_bus_route\": \"Rt 1A\", \"orig\": \"BFD\", \"dest\": \"SNA\", \"trip_month\": 4, \"trip_year\": 2025, \"ridership\": 56, \"revenue\": 1079.85, \"od\": \"BFD->SNA\", \"direction\": \"sb\", \"orig_seq\": 2, \"dest_seq\": 9, \"departing_station\": \"8_ANA\"}, {\"ca_bus_route\": \"Rt 1A\", \"orig\": \"BFD\", \"dest\": \"SNC\", \"trip_month\": 4, \"trip_year\": 2025, \"ridership\": 10, \"revenue\": 227.0, \"od\": \"BFD->SNC\", \"direction\": \"sb\", \"orig_seq\": 2, \"dest_seq\": 11, \"departing_station\": \"8_ANA\"}, {\"ca_bus_route\": \"Rt 1A\", \"orig\": \"BFD\", \"dest\": \"SOL\", \"trip_month\": 4, \"trip_year\": 2025, \"ridership\": 11, \"revenue\": 322.85, \"od\": \"BFD->SOL\", \"direction\": \"sb\", \"orig_seq\": 2, \"dest_seq\": 13, \"departing_station\": \"8_ANA\"}, {\"ca_bus_route\": \"Rt 1A\", \"orig\": \"LAX\", \"dest\": \"IRV\", \"trip_month\": 4, \"trip_year\": 2025, \"ridership\": 3, \"revenue\": 15.0, \"od\": \"LAX->IRV\", \"direction\": \"sb\", \"orig_seq\": 6, \"dest_seq\": 10, \"departing_station\": \"8_ANA\"}, {\"ca_bus_route\": \"Rt 1A\", \"orig\": \"LAX\", \"dest\": \"OSD\", \"trip_month\": 4, \"trip_year\": 2025, \"ridership\": 4, \"revenue\": 43.35, \"od\": \"LAX->OSD\", \"direction\": \"sb\", \"orig_seq\": 6, \"dest_seq\": 12, \"departing_station\": \"8_ANA\"}, {\"ca_bus_route\": \"Rt 1A\", \"orig\": \"LAX\", \"dest\": \"SAN\", \"trip_month\": 4, \"trip_year\": 2025, \"ridership\": 66, \"revenue\": 1178.7, \"od\": \"LAX->SAN\", \"direction\": \"sb\", \"orig_seq\": 6, \"dest_seq\": 14, \"departing_station\": \"8_ANA\"}, {\"ca_bus_route\": \"Rt 1A\", \"orig\": \"LAX\", \"dest\": \"SNA\", \"trip_month\": 4, \"trip_year\": 2025, \"ridership\": 3, \"revenue\": 16.0, \"od\": \"LAX->SNA\", \"direction\": \"sb\", \"orig_seq\": 6, \"dest_seq\": 9, \"departing_station\": \"8_ANA\"}, {\"ca_bus_route\": \"Rt 1A\", \"orig\": \"LAX\", \"dest\": \"SOL\", \"trip_month\": 4, \"trip_year\": 2025, \"ridership\": 9, \"revenue\": 163.65, \"od\": \"LAX->SOL\", \"direction\": \"sb\", \"orig_seq\": 6, \"dest_seq\": 13, \"departing_station\": \"8_ANA\"}, {\"ca_bus_route\": \"Rt 1A\", \"orig\": \"BFD\", \"dest\": \"IRV\", \"trip_month\": 4, \"trip_year\": 2025, \"ridership\": 38, \"revenue\": 779.9, \"od\": \"BFD->IRV\", \"direction\": \"sb\", \"orig_seq\": 2, \"dest_seq\": 10, \"departing_station\": \"9_SNA\"}, {\"ca_bus_route\": \"Rt 1A\", \"orig\": \"BFD\", \"dest\": \"OSD\", \"trip_month\": 4, \"trip_year\": 2025, \"ridership\": 71, \"revenue\": 1877.2, \"od\": \"BFD->OSD\", \"direction\": \"sb\", \"orig_seq\": 2, \"dest_seq\": 12, \"departing_station\": \"9_SNA\"}, {\"ca_bus_route\": \"Rt 1A\", \"orig\": \"BFD\", \"dest\": \"SAN\", \"trip_month\": 4, \"trip_year\": 2025, \"ridership\": 308, \"revenue\": 9334.0, \"od\": \"BFD->SAN\", \"direction\": \"sb\", \"orig_seq\": 2, \"dest_seq\": 14, \"departing_station\": \"9_SNA\"}, {\"ca_bus_route\": \"Rt 1A\", \"orig\": \"BFD\", \"dest\": \"SNC\", \"trip_month\": 4, \"trip_year\": 2025, \"ridership\": 10, \"revenue\": 227.0, \"od\": \"BFD->SNC\", \"direction\": \"sb\", \"orig_seq\": 2, \"dest_seq\": 11, \"departing_station\": \"9_SNA\"}, {\"ca_bus_route\": \"Rt 1A\", \"orig\": \"BFD\", \"dest\": \"SOL\", \"trip_month\": 4, \"trip_year\": 2025, \"ridership\": 11, \"revenue\": 322.85, \"od\": \"BFD->SOL\", \"direction\": \"sb\", \"orig_seq\": 2, \"dest_seq\": 13, \"departing_station\": \"9_SNA\"}, {\"ca_bus_route\": \"Rt 1A\", \"orig\": \"LAX\", \"dest\": \"IRV\", \"trip_month\": 4, \"trip_year\": 2025, \"ridership\": 3, \"revenue\": 15.0, \"od\": \"LAX->IRV\", \"direction\": \"sb\", \"orig_seq\": 6, \"dest_seq\": 10, \"departing_station\": \"9_SNA\"}, {\"ca_bus_route\": \"Rt 1A\", \"orig\": \"LAX\", \"dest\": \"OSD\", \"trip_month\": 4, \"trip_year\": 2025, \"ridership\": 4, \"revenue\": 43.35, \"od\": \"LAX->OSD\", \"direction\": \"sb\", \"orig_seq\": 6, \"dest_seq\": 12, \"departing_station\": \"9_SNA\"}, {\"ca_bus_route\": \"Rt 1A\", \"orig\": \"LAX\", \"dest\": \"SAN\", \"trip_month\": 4, \"trip_year\": 2025, \"ridership\": 66, \"revenue\": 1178.7, \"od\": \"LAX->SAN\", \"direction\": \"sb\", \"orig_seq\": 6, \"dest_seq\": 14, \"departing_station\": \"9_SNA\"}, {\"ca_bus_route\": \"Rt 1A\", \"orig\": \"LAX\", \"dest\": \"SOL\", \"trip_month\": 4, \"trip_year\": 2025, \"ridership\": 9, \"revenue\": 163.65, \"od\": \"LAX->SOL\", \"direction\": \"sb\", \"orig_seq\": 6, \"dest_seq\": 13, \"departing_station\": \"9_SNA\"}, {\"ca_bus_route\": \"Rt 1A\", \"orig\": \"BFD\", \"dest\": \"OSD\", \"trip_month\": 4, \"trip_year\": 2025, \"ridership\": 71, \"revenue\": 1877.2, \"od\": \"BFD->OSD\", \"direction\": \"sb\", \"orig_seq\": 2, \"dest_seq\": 12, \"departing_station\": \"10_IRV\"}, {\"ca_bus_route\": \"Rt 1A\", \"orig\": \"BFD\", \"dest\": \"SAN\", \"trip_month\": 4, \"trip_year\": 2025, \"ridership\": 308, \"revenue\": 9334.0, \"od\": \"BFD->SAN\", \"direction\": \"sb\", \"orig_seq\": 2, \"dest_seq\": 14, \"departing_station\": \"10_IRV\"}, {\"ca_bus_route\": \"Rt 1A\", \"orig\": \"BFD\", \"dest\": \"SNC\", \"trip_month\": 4, \"trip_year\": 2025, \"ridership\": 10, \"revenue\": 227.0, \"od\": \"BFD->SNC\", \"direction\": \"sb\", \"orig_seq\": 2, \"dest_seq\": 11, \"departing_station\": \"10_IRV\"}, {\"ca_bus_route\": \"Rt 1A\", \"orig\": \"BFD\", \"dest\": \"SOL\", \"trip_month\": 4, \"trip_year\": 2025, \"ridership\": 11, \"revenue\": 322.85, \"od\": \"BFD->SOL\", \"direction\": \"sb\", \"orig_seq\": 2, \"dest_seq\": 13, \"departing_station\": \"10_IRV\"}, {\"ca_bus_route\": \"Rt 1A\", \"orig\": \"LAX\", \"dest\": \"OSD\", \"trip_month\": 4, \"trip_year\": 2025, \"ridership\": 4, \"revenue\": 43.35, \"od\": \"LAX->OSD\", \"direction\": \"sb\", \"orig_seq\": 6, \"dest_seq\": 12, \"departing_station\": \"10_IRV\"}, {\"ca_bus_route\": \"Rt 1A\", \"orig\": \"LAX\", \"dest\": \"SAN\", \"trip_month\": 4, \"trip_year\": 2025, \"ridership\": 66, \"revenue\": 1178.7, \"od\": \"LAX->SAN\", \"direction\": \"sb\", \"orig_seq\": 6, \"dest_seq\": 14, \"departing_station\": \"10_IRV\"}, {\"ca_bus_route\": \"Rt 1A\", \"orig\": \"LAX\", \"dest\": \"SOL\", \"trip_month\": 4, \"trip_year\": 2025, \"ridership\": 9, \"revenue\": 163.65, \"od\": \"LAX->SOL\", \"direction\": \"sb\", \"orig_seq\": 6, \"dest_seq\": 13, \"departing_station\": \"10_IRV\"}, {\"ca_bus_route\": \"Rt 1A\", \"orig\": \"BFD\", \"dest\": \"OSD\", \"trip_month\": 4, \"trip_year\": 2025, \"ridership\": 71, \"revenue\": 1877.2, \"od\": \"BFD->OSD\", \"direction\": \"sb\", \"orig_seq\": 2, \"dest_seq\": 12, \"departing_station\": \"11_SNC\"}, {\"ca_bus_route\": \"Rt 1A\", \"orig\": \"BFD\", \"dest\": \"SAN\", \"trip_month\": 4, \"trip_year\": 2025, \"ridership\": 308, \"revenue\": 9334.0, \"od\": \"BFD->SAN\", \"direction\": \"sb\", \"orig_seq\": 2, \"dest_seq\": 14, \"departing_station\": \"11_SNC\"}, {\"ca_bus_route\": \"Rt 1A\", \"orig\": \"BFD\", \"dest\": \"SOL\", \"trip_month\": 4, \"trip_year\": 2025, \"ridership\": 11, \"revenue\": 322.85, \"od\": \"BFD->SOL\", \"direction\": \"sb\", \"orig_seq\": 2, \"dest_seq\": 13, \"departing_station\": \"11_SNC\"}, {\"ca_bus_route\": \"Rt 1A\", \"orig\": \"LAX\", \"dest\": \"OSD\", \"trip_month\": 4, \"trip_year\": 2025, \"ridership\": 4, \"revenue\": 43.35, \"od\": \"LAX->OSD\", \"direction\": \"sb\", \"orig_seq\": 6, \"dest_seq\": 12, \"departing_station\": \"11_SNC\"}, {\"ca_bus_route\": \"Rt 1A\", \"orig\": \"LAX\", \"dest\": \"SAN\", \"trip_month\": 4, \"trip_year\": 2025, \"ridership\": 66, \"revenue\": 1178.7, \"od\": \"LAX->SAN\", \"direction\": \"sb\", \"orig_seq\": 6, \"dest_seq\": 14, \"departing_station\": \"11_SNC\"}, {\"ca_bus_route\": \"Rt 1A\", \"orig\": \"LAX\", \"dest\": \"SOL\", \"trip_month\": 4, \"trip_year\": 2025, \"ridership\": 9, \"revenue\": 163.65, \"od\": \"LAX->SOL\", \"direction\": \"sb\", \"orig_seq\": 6, \"dest_seq\": 13, \"departing_station\": \"11_SNC\"}, {\"ca_bus_route\": \"Rt 1A\", \"orig\": \"BFD\", \"dest\": \"SAN\", \"trip_month\": 4, \"trip_year\": 2025, \"ridership\": 308, \"revenue\": 9334.0, \"od\": \"BFD->SAN\", \"direction\": \"sb\", \"orig_seq\": 2, \"dest_seq\": 14, \"departing_station\": \"12_OSD\"}, {\"ca_bus_route\": \"Rt 1A\", \"orig\": \"BFD\", \"dest\": \"SOL\", \"trip_month\": 4, \"trip_year\": 2025, \"ridership\": 11, \"revenue\": 322.85, \"od\": \"BFD->SOL\", \"direction\": \"sb\", \"orig_seq\": 2, \"dest_seq\": 13, \"departing_station\": \"12_OSD\"}, {\"ca_bus_route\": \"Rt 1A\", \"orig\": \"LAX\", \"dest\": \"SAN\", \"trip_month\": 4, \"trip_year\": 2025, \"ridership\": 66, \"revenue\": 1178.7, \"od\": \"LAX->SAN\", \"direction\": \"sb\", \"orig_seq\": 6, \"dest_seq\": 14, \"departing_station\": \"12_OSD\"}, {\"ca_bus_route\": \"Rt 1A\", \"orig\": \"LAX\", \"dest\": \"SOL\", \"trip_month\": 4, \"trip_year\": 2025, \"ridership\": 9, \"revenue\": 163.65, \"od\": \"LAX->SOL\", \"direction\": \"sb\", \"orig_seq\": 6, \"dest_seq\": 13, \"departing_station\": \"12_OSD\"}, {\"ca_bus_route\": \"Rt 1A\", \"orig\": \"BFD\", \"dest\": \"SAN\", \"trip_month\": 4, \"trip_year\": 2025, \"ridership\": 308, \"revenue\": 9334.0, \"od\": \"BFD->SAN\", \"direction\": \"sb\", \"orig_seq\": 2, \"dest_seq\": 14, \"departing_station\": \"13_SOL\"}, {\"ca_bus_route\": \"Rt 1A\", \"orig\": \"LAX\", \"dest\": \"SAN\", \"trip_month\": 4, \"trip_year\": 2025, \"ridership\": 66, \"revenue\": 1178.7, \"od\": \"LAX->SAN\", \"direction\": \"sb\", \"orig_seq\": 6, \"dest_seq\": 14, \"departing_station\": \"13_SOL\"}]}}, {\"mode\": \"vega-lite\"});\n",
       "</script>"
      ],
      "text/plain": [
       "alt.Chart(...)"
      ]
     },
     "execution_count": 43,
     "metadata": {},
     "output_type": "execute_result"
    }
   ],
   "source": [
    "alt.Chart(running_ridership(test_1a, sb_1a)).mark_bar().encode(\n",
    "    x='departing_station',\n",
    "    y='sum(ridership)',\n",
    "    color='od'\n",
    ")"
   ]
  }
 ],
 "metadata": {
  "kernelspec": {
   "display_name": "Python 3 (ipykernel)",
   "language": "python",
   "name": "python3"
  },
  "language_info": {
   "codemirror_mode": {
    "name": "ipython",
    "version": 3
   },
   "file_extension": ".py",
   "mimetype": "text/x-python",
   "name": "python",
   "nbconvert_exporter": "python",
   "pygments_lexer": "ipython3",
   "version": "3.11.10"
  },
  "widgets": {
   "application/vnd.jupyter.widget-state+json": {
    "state": {},
    "version_major": 2,
    "version_minor": 0
   }
  }
 },
 "nbformat": 4,
 "nbformat_minor": 5
}
