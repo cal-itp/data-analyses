{
 "cells": [
  {
   "cell_type": "code",
   "execution_count": 1,
   "id": "a31d74df-cbb5-4066-ae86-1d105ee39a53",
   "metadata": {
    "tags": []
   },
   "outputs": [],
   "source": [
    "import pandas as pd\n",
    "import geopandas as gpd\n",
    "from calitp_data_analysis.sql import query_sql\n",
    "from calitp_data_analysis.gcs_geopandas import GCSGeoPandas\n",
    "from calitp_data_analysis.geography_utils import CA_NAD83Albers_m, WGS84\n",
    "gcsgp = GCSGeoPandas()\n",
    "from shared_utils import gtfs_utils_v2\n",
    "from shared_utils.rt_utils import show_full_df\n",
    "\n",
    "import utils"
   ]
  },
  {
   "cell_type": "markdown",
   "id": "475883c3-a956-46bb-993a-d31860ec1689",
   "metadata": {
    "tags": []
   },
   "source": [
    "# Which Corridors Do We Analyze?\n",
    "\n",
    "## Draft Selections\n",
    "\n",
    "### San Francisco - Emeryville (Route 99 for SJJPA, SF Shuttle for CCJPA)\n",
    "\n",
    "* Many trips\n",
    "* High ridership (79,778 in FY23)\n",
    "* Multiple local transit alternatives\n",
    "* Previous planning efforts\n",
    "\n",
    "### Bakersfield - LA - San Diego (Route 1)\n",
    "\n",
    "* Very high ridership (230,028 in FY23)\n",
    "* Potential to integrate with local transit (Metrolink)\n",
    "\n",
    "### Bakersfield - West LA - Santa Monica (Route 1c)\n",
    "\n",
    "* High ridership (24,094 in FY23)\n",
    "* Long trip times to West LA due to Santa Clarita, SFV stops\n",
    "* UCLA/Westwood stop-level ridership: 6726 in FY24\n",
    "* Change in travel time with LA Metro D Line extension\n",
    "\n",
    "### Bakersfield - Inland Empire (Route 19)\n",
    "\n",
    "* High ridership (41,839 in FY23)\n",
    "* Potential to integrate with local transit (Metrolink, LA Metro)\n",
    "\n",
    "## Further Study/TBD\n",
    "\n",
    "* San Jose - Stockton\n",
    "* Martinez - Napa - Santa Rosa - Arcata\n",
    "* Oakland - Santa Barbara (likely exclude for now but with more rail trips to Salinas/SLO it could change...)"
   ]
  },
  {
   "cell_type": "code",
   "execution_count": null,
   "id": "22b2011b-2a1b-4063-b8ae-d86035507ead",
   "metadata": {},
   "outputs": [],
   "source": []
  }
 ],
 "metadata": {
  "kernelspec": {
   "display_name": "Python 3 (ipykernel)",
   "language": "python",
   "name": "python3"
  },
  "language_info": {
   "codemirror_mode": {
    "name": "ipython",
    "version": 3
   },
   "file_extension": ".py",
   "mimetype": "text/x-python",
   "name": "python",
   "nbconvert_exporter": "python",
   "pygments_lexer": "ipython3",
   "version": "3.11.10"
  },
  "widgets": {
   "application/vnd.jupyter.widget-state+json": {
    "state": {},
    "version_major": 2,
    "version_minor": 0
   }
  }
 },
 "nbformat": 4,
 "nbformat_minor": 5
}
