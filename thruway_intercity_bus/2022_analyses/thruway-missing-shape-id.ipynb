{
 "cells": [
  {
   "cell_type": "markdown",
   "id": "da6fc8ab-d1b9-4026-99c9-1d8df0e10028",
   "metadata": {},
   "source": [
    "# Amtrak Thruway Buses\n",
    "\n",
    "Amtrak Thruway Buses do not have a `shape_id`, which means can't get `route` line geom associated with it.\n",
    "\n",
    "We can get those trips in `stops` and `stop_times`."
   ]
  },
  {
   "cell_type": "code",
   "execution_count": 1,
   "id": "c1b671ec-b040-4ee2-b424-e759c89cdcf2",
   "metadata": {},
   "outputs": [
    {
     "name": "stderr",
     "output_type": "stream",
     "text": [
      "/opt/conda/lib/python3.10/site-packages/geopandas/_compat.py:112: UserWarning: The Shapely GEOS version (3.10.3-CAPI-1.16.1) is incompatible with the GEOS version PyGEOS was compiled with (3.10.1-CAPI-1.16.0). Conversions between both will be slow.\n",
      "  warnings.warn(\n"
     ]
    }
   ],
   "source": [
    "import dask_geopandas as dg\n",
    "import dask.dataframe as dd\n",
    "import geopandas as gpd\n",
    "import intake\n",
    "import pandas as pd\n",
    "\n",
    "from shared_utils import geography_utils, rt_dates, rt_utils\n",
    "\n",
    "catalog = intake.open_catalog(\"../high_quality_transit_areas/*.yml\")\n",
    "\n",
    "SELECTED_DATE = rt_dates.DATES[\"sep2022\"]\n",
    "COMPILED_CACHED_VIEWS = f\"{rt_utils.GCS_FILE_PATH}compiled_cached_views/\"\n",
    "ITP_ID = 13"
   ]
  },
  {
   "cell_type": "code",
   "execution_count": 2,
   "id": "653190f0-8a0a-4033-8489-703cd560b73a",
   "metadata": {},
   "outputs": [],
   "source": [
    "trips = dd.read_parquet(\n",
    "    f\"{COMPILED_CACHED_VIEWS}trips_{SELECTED_DATE}_all.parquet\")\n",
    "\n",
    "amtrak_trips = trips[trips.calitp_itp_id == ITP_ID].compute()\n",
    "\n",
    "thruway_bus = \"Amtrak Thruway Connecting Service\"\n",
    "\n",
    "amtrak_thruway = amtrak_trips[amtrak_trips.route_long_name==thruway_bus]"
   ]
  },
  {
   "cell_type": "code",
   "execution_count": 3,
   "id": "3afa374b-8fec-4456-b3c7-89f6d4a097ad",
   "metadata": {},
   "outputs": [
    {
     "data": {
      "text/html": [
       "<div>\n",
       "<style scoped>\n",
       "    .dataframe tbody tr th:only-of-type {\n",
       "        vertical-align: middle;\n",
       "    }\n",
       "\n",
       "    .dataframe tbody tr th {\n",
       "        vertical-align: top;\n",
       "    }\n",
       "\n",
       "    .dataframe thead th {\n",
       "        text-align: right;\n",
       "    }\n",
       "</style>\n",
       "<table border=\"1\" class=\"dataframe\">\n",
       "  <thead>\n",
       "    <tr style=\"text-align: right;\">\n",
       "      <th></th>\n",
       "      <th>calitp_itp_id</th>\n",
       "      <th>calitp_url_number</th>\n",
       "      <th>service_date</th>\n",
       "      <th>trip_key</th>\n",
       "      <th>trip_id</th>\n",
       "      <th>route_id</th>\n",
       "      <th>direction_id</th>\n",
       "      <th>shape_id</th>\n",
       "      <th>calitp_extracted_at</th>\n",
       "      <th>calitp_deleted_at</th>\n",
       "      <th>route_short_name</th>\n",
       "      <th>route_long_name</th>\n",
       "      <th>route_desc</th>\n",
       "      <th>route_type</th>\n",
       "    </tr>\n",
       "  </thead>\n",
       "  <tbody>\n",
       "    <tr>\n",
       "      <th>0</th>\n",
       "      <td>13</td>\n",
       "      <td>0</td>\n",
       "      <td>2022-09-14</td>\n",
       "      <td>-1358039879891994037</td>\n",
       "      <td>86712853015</td>\n",
       "      <td>21313</td>\n",
       "      <td>0</td>\n",
       "      <td>None</td>\n",
       "      <td>2022-07-19</td>\n",
       "      <td>2099-01-01</td>\n",
       "      <td>None</td>\n",
       "      <td>Amtrak Thruway Connecting Service</td>\n",
       "      <td>None</td>\n",
       "      <td>3</td>\n",
       "    </tr>\n",
       "    <tr>\n",
       "      <th>1</th>\n",
       "      <td>13</td>\n",
       "      <td>0</td>\n",
       "      <td>2022-09-14</td>\n",
       "      <td>4173850620104641197</td>\n",
       "      <td>88222853673</td>\n",
       "      <td>43</td>\n",
       "      <td>1</td>\n",
       "      <td>None</td>\n",
       "      <td>2022-07-25</td>\n",
       "      <td>2099-01-01</td>\n",
       "      <td>None</td>\n",
       "      <td>Amtrak Thruway Connecting Service</td>\n",
       "      <td>None</td>\n",
       "      <td>3</td>\n",
       "    </tr>\n",
       "  </tbody>\n",
       "</table>\n",
       "</div>"
      ],
      "text/plain": [
       "   calitp_itp_id  calitp_url_number service_date             trip_key  \\\n",
       "0             13                  0   2022-09-14 -1358039879891994037   \n",
       "1             13                  0   2022-09-14  4173850620104641197   \n",
       "\n",
       "       trip_id route_id direction_id shape_id calitp_extracted_at  \\\n",
       "0  86712853015    21313            0     None          2022-07-19   \n",
       "1  88222853673       43            1     None          2022-07-25   \n",
       "\n",
       "  calitp_deleted_at route_short_name                    route_long_name  \\\n",
       "0        2099-01-01             None  Amtrak Thruway Connecting Service   \n",
       "1        2099-01-01             None  Amtrak Thruway Connecting Service   \n",
       "\n",
       "  route_desc route_type  \n",
       "0       None          3  \n",
       "1       None          3  "
      ]
     },
     "execution_count": 3,
     "metadata": {},
     "output_type": "execute_result"
    }
   ],
   "source": [
    "amtrak_thruway.head(2)"
   ]
  },
  {
   "cell_type": "code",
   "execution_count": 4,
   "id": "3bc520c6-c860-41fd-93df-2431eafc1c2b",
   "metadata": {},
   "outputs": [
    {
     "name": "stdout",
     "output_type": "stream",
     "text": [
      "column: trip_id\n"
     ]
    },
    {
     "data": {
      "text/html": [
       "<div>\n",
       "<style scoped>\n",
       "    .dataframe tbody tr th:only-of-type {\n",
       "        vertical-align: middle;\n",
       "    }\n",
       "\n",
       "    .dataframe tbody tr th {\n",
       "        vertical-align: top;\n",
       "    }\n",
       "\n",
       "    .dataframe thead th {\n",
       "        text-align: right;\n",
       "    }\n",
       "</style>\n",
       "<table border=\"1\" class=\"dataframe\">\n",
       "  <thead>\n",
       "    <tr style=\"text-align: right;\">\n",
       "      <th></th>\n",
       "      <th>calitp_itp_id</th>\n",
       "      <th>calitp_url_number</th>\n",
       "      <th>shape_id</th>\n",
       "      <th>geometry</th>\n",
       "      <th>service_date</th>\n",
       "      <th>trip_key</th>\n",
       "      <th>trip_id</th>\n",
       "      <th>route_id</th>\n",
       "      <th>direction_id</th>\n",
       "      <th>calitp_extracted_at</th>\n",
       "      <th>calitp_deleted_at</th>\n",
       "      <th>route_type</th>\n",
       "      <th>route_desc</th>\n",
       "      <th>route_long_name</th>\n",
       "      <th>route_short_name</th>\n",
       "    </tr>\n",
       "  </thead>\n",
       "  <tbody>\n",
       "  </tbody>\n",
       "</table>\n",
       "</div>"
      ],
      "text/plain": [
       "Empty GeoDataFrame\n",
       "Columns: [calitp_itp_id, calitp_url_number, shape_id, geometry, service_date, trip_key, trip_id, route_id, direction_id, calitp_extracted_at, calitp_deleted_at, route_type, route_desc, route_long_name, route_short_name]\n",
       "Index: []"
      ]
     },
     "metadata": {},
     "output_type": "display_data"
    },
    {
     "name": "stdout",
     "output_type": "stream",
     "text": [
      "column: trip_key\n"
     ]
    },
    {
     "data": {
      "text/html": [
       "<div>\n",
       "<style scoped>\n",
       "    .dataframe tbody tr th:only-of-type {\n",
       "        vertical-align: middle;\n",
       "    }\n",
       "\n",
       "    .dataframe tbody tr th {\n",
       "        vertical-align: top;\n",
       "    }\n",
       "\n",
       "    .dataframe thead th {\n",
       "        text-align: right;\n",
       "    }\n",
       "</style>\n",
       "<table border=\"1\" class=\"dataframe\">\n",
       "  <thead>\n",
       "    <tr style=\"text-align: right;\">\n",
       "      <th></th>\n",
       "      <th>calitp_itp_id</th>\n",
       "      <th>calitp_url_number</th>\n",
       "      <th>shape_id</th>\n",
       "      <th>geometry</th>\n",
       "      <th>service_date</th>\n",
       "      <th>trip_key</th>\n",
       "      <th>trip_id</th>\n",
       "      <th>route_id</th>\n",
       "      <th>direction_id</th>\n",
       "      <th>calitp_extracted_at</th>\n",
       "      <th>calitp_deleted_at</th>\n",
       "      <th>route_type</th>\n",
       "      <th>route_desc</th>\n",
       "      <th>route_long_name</th>\n",
       "      <th>route_short_name</th>\n",
       "    </tr>\n",
       "  </thead>\n",
       "  <tbody>\n",
       "  </tbody>\n",
       "</table>\n",
       "</div>"
      ],
      "text/plain": [
       "Empty GeoDataFrame\n",
       "Columns: [calitp_itp_id, calitp_url_number, shape_id, geometry, service_date, trip_key, trip_id, route_id, direction_id, calitp_extracted_at, calitp_deleted_at, route_type, route_desc, route_long_name, route_short_name]\n",
       "Index: []"
      ]
     },
     "metadata": {},
     "output_type": "display_data"
    },
    {
     "name": "stdout",
     "output_type": "stream",
     "text": [
      "column: route_id\n"
     ]
    },
    {
     "data": {
      "text/html": [
       "<div>\n",
       "<style scoped>\n",
       "    .dataframe tbody tr th:only-of-type {\n",
       "        vertical-align: middle;\n",
       "    }\n",
       "\n",
       "    .dataframe tbody tr th {\n",
       "        vertical-align: top;\n",
       "    }\n",
       "\n",
       "    .dataframe thead th {\n",
       "        text-align: right;\n",
       "    }\n",
       "</style>\n",
       "<table border=\"1\" class=\"dataframe\">\n",
       "  <thead>\n",
       "    <tr style=\"text-align: right;\">\n",
       "      <th></th>\n",
       "      <th>calitp_itp_id</th>\n",
       "      <th>calitp_url_number</th>\n",
       "      <th>shape_id</th>\n",
       "      <th>geometry</th>\n",
       "      <th>service_date</th>\n",
       "      <th>trip_key</th>\n",
       "      <th>trip_id</th>\n",
       "      <th>route_id</th>\n",
       "      <th>direction_id</th>\n",
       "      <th>calitp_extracted_at</th>\n",
       "      <th>calitp_deleted_at</th>\n",
       "      <th>route_type</th>\n",
       "      <th>route_desc</th>\n",
       "      <th>route_long_name</th>\n",
       "      <th>route_short_name</th>\n",
       "    </tr>\n",
       "  </thead>\n",
       "  <tbody>\n",
       "  </tbody>\n",
       "</table>\n",
       "</div>"
      ],
      "text/plain": [
       "Empty GeoDataFrame\n",
       "Columns: [calitp_itp_id, calitp_url_number, shape_id, geometry, service_date, trip_key, trip_id, route_id, direction_id, calitp_extracted_at, calitp_deleted_at, route_type, route_desc, route_long_name, route_short_name]\n",
       "Index: []"
      ]
     },
     "metadata": {},
     "output_type": "display_data"
    }
   ],
   "source": [
    "routelines = dg.read_parquet(\n",
    "        f\"{COMPILED_CACHED_VIEWS}routelines_{SELECTED_DATE}_all.parquet\")\n",
    "\n",
    "amtrak_routes = routelines[routelines.calitp_itp_id==ITP_ID].compute()\n",
    "\n",
    "for col in [\"trip_id\", \"trip_key\", \"route_id\"]:\n",
    "    print(f\"column: {col}\")\n",
    "    subset = amtrak_routes[amtrak_routes[col].isin(amtrak_thruway[col])]\n",
    "    display(subset)"
   ]
  },
  {
   "cell_type": "code",
   "execution_count": 5,
   "id": "258b90cb-9c74-4fc0-a9da-c6f0ffb06825",
   "metadata": {},
   "outputs": [],
   "source": [
    "stop_times = dd.read_parquet(\n",
    "        f\"{COMPILED_CACHED_VIEWS}st_{SELECTED_DATE}_all.parquet\")\n",
    "\n",
    "amtrak_stop_times = stop_times[stop_times.calitp_itp_id==ITP_ID].compute()"
   ]
  },
  {
   "cell_type": "code",
   "execution_count": 6,
   "id": "2a1aff92-bd67-4e6f-9a77-69b817c13e8f",
   "metadata": {},
   "outputs": [],
   "source": [
    "stops = dg.read_parquet(\n",
    "        f\"{COMPILED_CACHED_VIEWS}stops_{SELECTED_DATE}_all.parquet\")\n",
    "\n",
    "amtrak_stops = stops[stops.calitp_itp_id==ITP_ID].compute()"
   ]
  },
  {
   "cell_type": "code",
   "execution_count": 7,
   "id": "9eb81a21-4c7c-4441-9de5-f75a7fae25dc",
   "metadata": {},
   "outputs": [],
   "source": [
    "ca = catalog.ca_boundary.read()\n",
    "\n",
    "ca_stops = amtrak_stops.clip(ca)"
   ]
  },
  {
   "cell_type": "code",
   "execution_count": 8,
   "id": "ffba5935-f4ee-4904-95b4-f0764f33e927",
   "metadata": {},
   "outputs": [],
   "source": [
    "amtrak_thruway_stop_times = amtrak_stop_times[\n",
    "    (amtrak_stop_times.trip_id.isin(amtrak_thruway.trip_id)) & \n",
    "    (amtrak_stop_times.stop_id.isin(ca_stops.stop_id))\n",
    "]"
   ]
  },
  {
   "cell_type": "code",
   "execution_count": 9,
   "id": "fea6ccd4-9035-4189-a6c6-9f7eaa7095b5",
   "metadata": {},
   "outputs": [
    {
     "data": {
      "text/html": [
       "<div>\n",
       "<style scoped>\n",
       "    .dataframe tbody tr th:only-of-type {\n",
       "        vertical-align: middle;\n",
       "    }\n",
       "\n",
       "    .dataframe tbody tr th {\n",
       "        vertical-align: top;\n",
       "    }\n",
       "\n",
       "    .dataframe thead th {\n",
       "        text-align: right;\n",
       "    }\n",
       "</style>\n",
       "<table border=\"1\" class=\"dataframe\">\n",
       "  <thead>\n",
       "    <tr style=\"text-align: right;\">\n",
       "      <th></th>\n",
       "      <th>calitp_itp_id</th>\n",
       "      <th>trip_id</th>\n",
       "      <th>stop_id</th>\n",
       "      <th>arrival_time</th>\n",
       "      <th>departure_time</th>\n",
       "      <th>stop_headsign</th>\n",
       "      <th>pickup_type</th>\n",
       "      <th>drop_off_type</th>\n",
       "      <th>shape_dist_traveled</th>\n",
       "      <th>timepoint</th>\n",
       "      <th>...</th>\n",
       "      <th>stop_time_key</th>\n",
       "      <th>calitp_deleted_at</th>\n",
       "      <th>stop_sequence</th>\n",
       "      <th>stop_time_continuous_pickup</th>\n",
       "      <th>stop_time_continuous_drop_off</th>\n",
       "      <th>stop_sequence_rank</th>\n",
       "      <th>arrival_ts</th>\n",
       "      <th>departure_ts</th>\n",
       "      <th>trip_key</th>\n",
       "      <th>departure_hour</th>\n",
       "    </tr>\n",
       "  </thead>\n",
       "  <tbody>\n",
       "    <tr>\n",
       "      <th>2</th>\n",
       "      <td>13</td>\n",
       "      <td>32102848217</td>\n",
       "      <td>GAC</td>\n",
       "      <td>21:52:00</td>\n",
       "      <td>21:52:00</td>\n",
       "      <td>None</td>\n",
       "      <td>0</td>\n",
       "      <td>0</td>\n",
       "      <td>None</td>\n",
       "      <td>None</td>\n",
       "      <td>...</td>\n",
       "      <td>-5652449305220166169</td>\n",
       "      <td>2099-01-01</td>\n",
       "      <td>3</td>\n",
       "      <td>None</td>\n",
       "      <td>None</td>\n",
       "      <td>3</td>\n",
       "      <td>78720.0</td>\n",
       "      <td>78720.0</td>\n",
       "      <td>3919119754903841310</td>\n",
       "      <td>21</td>\n",
       "    </tr>\n",
       "    <tr>\n",
       "      <th>4</th>\n",
       "      <td>13</td>\n",
       "      <td>39152851527</td>\n",
       "      <td>DBP</td>\n",
       "      <td>20:50:00</td>\n",
       "      <td>20:50:00</td>\n",
       "      <td>None</td>\n",
       "      <td>1</td>\n",
       "      <td>0</td>\n",
       "      <td>None</td>\n",
       "      <td>None</td>\n",
       "      <td>...</td>\n",
       "      <td>3680785221064896487</td>\n",
       "      <td>2099-01-01</td>\n",
       "      <td>4</td>\n",
       "      <td>None</td>\n",
       "      <td>None</td>\n",
       "      <td>4</td>\n",
       "      <td>75000.0</td>\n",
       "      <td>75000.0</td>\n",
       "      <td>7492902480220650796</td>\n",
       "      <td>20</td>\n",
       "    </tr>\n",
       "  </tbody>\n",
       "</table>\n",
       "<p>2 rows × 22 columns</p>\n",
       "</div>"
      ],
      "text/plain": [
       "   calitp_itp_id      trip_id stop_id arrival_time departure_time  \\\n",
       "2             13  32102848217     GAC     21:52:00       21:52:00   \n",
       "4             13  39152851527     DBP     20:50:00       20:50:00   \n",
       "\n",
       "  stop_headsign pickup_type drop_off_type shape_dist_traveled timepoint  ...  \\\n",
       "2          None           0             0                None      None  ...   \n",
       "4          None           1             0                None      None  ...   \n",
       "\n",
       "          stop_time_key calitp_deleted_at  stop_sequence  \\\n",
       "2  -5652449305220166169        2099-01-01              3   \n",
       "4   3680785221064896487        2099-01-01              4   \n",
       "\n",
       "  stop_time_continuous_pickup  stop_time_continuous_drop_off  \\\n",
       "2                        None                           None   \n",
       "4                        None                           None   \n",
       "\n",
       "  stop_sequence_rank arrival_ts  departure_ts             trip_key  \\\n",
       "2                  3    78720.0       78720.0  3919119754903841310   \n",
       "4                  4    75000.0       75000.0  7492902480220650796   \n",
       "\n",
       "   departure_hour  \n",
       "2              21  \n",
       "4              20  \n",
       "\n",
       "[2 rows x 22 columns]"
      ]
     },
     "execution_count": 9,
     "metadata": {},
     "output_type": "execute_result"
    }
   ],
   "source": [
    "amtrak_thruway_stop_times.head(2)"
   ]
  },
  {
   "cell_type": "code",
   "execution_count": null,
   "id": "d86ae30d-6549-4f4c-ad2b-fc1abb0b3468",
   "metadata": {},
   "outputs": [],
   "source": []
  }
 ],
 "metadata": {
  "kernelspec": {
   "display_name": "Python 3 (ipykernel)",
   "language": "python",
   "name": "python3"
  },
  "language_info": {
   "codemirror_mode": {
    "name": "ipython",
    "version": 3
   },
   "file_extension": ".py",
   "mimetype": "text/x-python",
   "name": "python",
   "nbconvert_exporter": "python",
   "pygments_lexer": "ipython3",
   "version": "3.10.5"
  }
 },
 "nbformat": 4,
 "nbformat_minor": 5
}
