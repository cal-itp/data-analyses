{
 "cells": [
  {
   "cell_type": "markdown",
   "id": "e5a125b3-6690-402c-ab64-56b65aa39a89",
   "metadata": {},
   "source": [
    "# Find local bus routes with same origin / destination"
   ]
  },
  {
   "cell_type": "code",
   "execution_count": 1,
   "id": "81be503a-5f54-48a7-89c4-9f5d4f882d4d",
   "metadata": {},
   "outputs": [
    {
     "name": "stderr",
     "output_type": "stream",
     "text": [
      "/opt/conda/lib/python3.10/site-packages/geopandas/_compat.py:112: UserWarning: The Shapely GEOS version (3.10.3-CAPI-1.16.1) is incompatible with the GEOS version PyGEOS was compiled with (3.10.1-CAPI-1.16.0). Conversions between both will be slow.\n",
      "  warnings.warn(\n"
     ]
    }
   ],
   "source": [
    "import dask.dataframe as dd\n",
    "import dask_geopandas as dg\n",
    "import intake\n",
    "import geopandas as gpd\n",
    "import pandas as pd\n",
    "\n",
    "from shapely.geometry import Point\n",
    "\n",
    "import _utils\n",
    "from _utils import GCS_FILE_PATH, SELECTED_DATE, COMPILED_CACHED_VIEWS\n",
    "from shared_utils import geography_utils\n",
    "from bus_service_utils import gtfs_build\n",
    "\n",
    "catalog = intake.open_catalog(\"*.yml\")"
   ]
  },
  {
   "cell_type": "code",
   "execution_count": null,
   "id": "28c7e143-9b44-4177-9a23-6078c2f849eb",
   "metadata": {},
   "outputs": [],
   "source": [
    "amtrak_routes2 = buffer_around_origin_destination(\n",
    "    amtrak_routes, buffer_feet = geography_utils.FEET_PER_MI * 5)"
   ]
  },
  {
   "cell_type": "code",
   "execution_count": null,
   "id": "a1915497-be9d-448b-853b-7c7787220a72",
   "metadata": {},
   "outputs": [],
   "source": [
    "intersect_origin = gpd.sjoin(\n",
    "    longest_route.set_geometry(\"origin\"), \n",
    "    amtrak_routes2[[\"destination_buffer\"]].set_geometry(\"destination_buffer\"), \n",
    "    how = \"inner\",\n",
    "    predicate = \"intersects\"\n",
    ")[[\"calitp_itp_id\", \"route_id\", \"geometry\"]].drop_duplicates().set_geometry(\"geometry\")"
   ]
  },
  {
   "cell_type": "code",
   "execution_count": null,
   "id": "122deea6-5e1b-4621-918f-f34c8bf93d99",
   "metadata": {},
   "outputs": [],
   "source": [
    "intersect_destination = gpd.sjoin(\n",
    "    intersect_origin.set_geometry(\"destination\"), \n",
    "    amtrak_routes2[[\"destination_buffer\"]].set_geometry(\"destination_buffer\"), \n",
    "    how = \"inner\",\n",
    "    predicate = \"intersects\"\n",
    ")[[\"calitp_itp_id\", \"route_id\", \"geometry\"]].drop_duplicates().set_geometry(\"geometry\")"
   ]
  },
  {
   "cell_type": "code",
   "execution_count": null,
   "id": "66d2c63b-a6c7-482d-b667-01e5aa738a54",
   "metadata": {},
   "outputs": [],
   "source": [
    "intersect_destination.head()"
   ]
  },
  {
   "cell_type": "code",
   "execution_count": null,
   "id": "6ab154d0-cc60-4981-8c9d-68b9047bbac9",
   "metadata": {},
   "outputs": [],
   "source": [
    "test = intersect_destination[(intersect_destination.calitp_itp_id==182) & \n",
    "                             (intersect_destination.route_id.str.contains(\"720\"))\n",
    "                            ]"
   ]
  },
  {
   "cell_type": "code",
   "execution_count": null,
   "id": "4da03b49-2f8a-4748-8d89-754238fd06a9",
   "metadata": {},
   "outputs": [],
   "source": [
    "test = longest_route[(longest_route.calitp_itp_id==182) &\n",
    "                     (longest_route.route_id.str.contains(\"720\"))\n",
    "                    ]"
   ]
  },
  {
   "cell_type": "code",
   "execution_count": null,
   "id": "9f852ea8-8c29-4242-b3c6-c2f355f81a21",
   "metadata": {},
   "outputs": [],
   "source": [
    "intersect_origin = gpd.sjoin(\n",
    "    test.set_geometry(\"origin\"), \n",
    "    amtrak_routes2[[\"route_id\", \"origin_buffer\"]].set_geometry(\"origin_buffer\"), \n",
    "    how = \"inner\",\n",
    "    predicate = \"intersects\"\n",
    ")\n",
    "\n",
    "intersect_origin"
   ]
  },
  {
   "cell_type": "code",
   "execution_count": null,
   "id": "22b14d55-6275-4fa9-8e88-83d86cde9e17",
   "metadata": {},
   "outputs": [],
   "source": [
    "intersect_destination = gpd.sjoin(\n",
    "    test.set_geometry(\"destination\"), \n",
    "    amtrak_routes2[[\"route_id\", \"destination_buffer\"]].set_geometry(\"destination_buffer\"), \n",
    "    how = \"inner\",\n",
    "    predicate = \"intersects\"\n",
    ")\n",
    "\n",
    "intersect_destination"
   ]
  },
  {
   "cell_type": "code",
   "execution_count": null,
   "id": "47f7dd96-b76a-47a7-9d28-23384727f057",
   "metadata": {},
   "outputs": [],
   "source": [
    "this_amtrak_route=\"37329\"\n",
    "\n",
    "intersect_origin[intersect_origin.route_id_right==this_amtrak_route].plot()"
   ]
  },
  {
   "cell_type": "code",
   "execution_count": null,
   "id": "4e2d3a0f-f581-4a44-a767-abcb837679c7",
   "metadata": {},
   "outputs": [],
   "source": [
    "intersect_destination[intersect_destination.route_id_right==this_amtrak_route].plot()"
   ]
  },
  {
   "cell_type": "code",
   "execution_count": null,
   "id": "04cb13bd-c402-4b8a-abae-63968c768b4e",
   "metadata": {},
   "outputs": [],
   "source": [
    "amtrak_routes2[amtrak_routes2.route_id==this_amtrak_route][\n",
    "    [\"origin_stop_name\", \"destination_stop_name\"]].drop_duplicates()"
   ]
  },
  {
   "cell_type": "markdown",
   "id": "e7fbc584-cf46-42fa-b128-ee5800789d5d",
   "metadata": {},
   "source": []
  }
 ],
 "metadata": {
  "kernelspec": {
   "display_name": "Python 3 (ipykernel)",
   "language": "python",
   "name": "python3"
  },
  "language_info": {
   "codemirror_mode": {
    "name": "ipython",
    "version": 3
   },
   "file_extension": ".py",
   "mimetype": "text/x-python",
   "name": "python",
   "nbconvert_exporter": "python",
   "pygments_lexer": "ipython3",
   "version": "3.10.5"
  }
 },
 "nbformat": 4,
 "nbformat_minor": 5
}
