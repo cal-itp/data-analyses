{
 "cells": [
  {
   "cell_type": "markdown",
   "id": "e495648b-81e5-4cc8-a853-83acd963d25f",
   "metadata": {},
   "source": [
    "# Invoice "
   ]
  },
  {
   "cell_type": "markdown",
   "id": "9fb95761-70fd-4f1d-88ed-0165c5a25dec",
   "metadata": {},
   "source": [
    "## Notes \n",
    "<b> To-Do<b>\n",
    "* For PAP, problem is prior col is all lumped together for projects before 2020?\n",
    "    * Highlands sheet does not differentiate between the years. Wants each year to be separated out.\n",
    "    * Highlands should address.   \n",
    "* Make sure PPNO numbers match across the sheets.\n",
    "* Wants to compare cols from previous SAR with current SAR b/c she has to bold any changes in black for CTC.  \n",
    "    \n",
    "<b> Done </b>\n",
    "* Make sure grant recipients don't have multiple variations of the same recipient. \n",
    "    * Replaced duplicates with one version.\n",
    "* SAR: allocation amount col isn't from highlands sheet, it's taken by adding GGRF Alloc + PTA-SB1. \n",
    "    * Added these amounts up. a\n",
    "* SAR:\n",
    "    * Projects with NO allocation amount won't appear in SAR. \n",
    "    * Projects with 100%  expenditures won't appear as well.\n",
    "    * Filtered them out. \n",
    "\n",
    "<b> Plan with Scripts </b> \n",
    "* Using sets, make sure PPNO (an identifier #) match across the original allocation & project sheets.\n",
    "* Using sets, make sure Project IDS more or less match across the original allocation & invoice sheets.\n",
    "* Make sure agencies are only listed once under one name across all the sheets.\n",
    "* Make sure dates in allocation sheet are the right dtype and correct anything entered in that reads in wrong."
   ]
  },
  {
   "cell_type": "code",
   "execution_count": 1,
   "id": "57dcfb19-102b-4738-886d-6832571800a0",
   "metadata": {},
   "outputs": [
    {
     "name": "stderr",
     "output_type": "stream",
     "text": [
      "/opt/conda/lib/python3.10/site-packages/geopandas/_compat.py:112: UserWarning: The Shapely GEOS version (3.10.3-CAPI-1.16.1) is incompatible with the GEOS version PyGEOS was compiled with (3.10.1-CAPI-1.16.0). Conversions between both will be slow.\n",
      "  warnings.warn(\n"
     ]
    }
   ],
   "source": [
    "import A1_data_prep\n",
    "import A2_tableau\n",
    "import A3_semiannual_report\n",
    "import A4_program_allocation_plan\n",
    "import A5_crosswalks as crosswalks\n",
    "\n",
    "import numpy as np\n",
    "import pandas as pd\n",
    "from calitp import *\n",
    "\n",
    "pd.options.display.max_columns = 100\n",
    "pd.set_option(\"display.max_rows\", None)\n",
    "pd.set_option(\"display.max_colwidth\", None)"
   ]
  },
  {
   "cell_type": "code",
   "execution_count": 2,
   "id": "64a93541-ae0c-491e-a8e5-d5a07f385105",
   "metadata": {
    "tags": []
   },
   "outputs": [],
   "source": [
    "def complete_tircp():\n",
    "    A2_tableau.complete_tableau()\n",
    "    A3_semiannual_report.create_sar_report()\n",
    "    A4_program_allocation_plan.create_program_allocation_plan()"
   ]
  },
  {
   "cell_type": "code",
   "execution_count": 3,
   "id": "8e11a648-da7c-4aa9-a2de-f28a320e1b36",
   "metadata": {},
   "outputs": [
    {
     "name": "stderr",
     "output_type": "stream",
     "text": [
      "/opt/conda/lib/python3.10/site-packages/openpyxl/worksheet/_reader.py:312: UserWarning: Data Validation extension is not supported and will be removed\n",
      "/opt/conda/lib/python3.10/site-packages/openpyxl/worksheet/_reader.py:312: UserWarning: Data Validation extension is not supported and will be removed\n"
     ]
    },
    {
     "name": "stdout",
     "output_type": "stream",
     "text": [
      "Successfully saved Tableau workbook to GCS\n"
     ]
    },
    {
     "name": "stderr",
     "output_type": "stream",
     "text": [
      "/opt/conda/lib/python3.10/site-packages/openpyxl/worksheet/_reader.py:312: UserWarning: Data Validation extension is not supported and will be removed\n"
     ]
    },
    {
     "name": "stdout",
     "output_type": "stream",
     "text": [
      "Successfully saved Semi Annual Report to GCS\n"
     ]
    },
    {
     "name": "stderr",
     "output_type": "stream",
     "text": [
      "/opt/conda/lib/python3.10/site-packages/openpyxl/worksheet/_reader.py:312: UserWarning: Data Validation extension is not supported and will be removed\n"
     ]
    },
    {
     "name": "stdout",
     "output_type": "stream",
     "text": [
      "Successfully saved Program Allocation Plan to GCS\n"
     ]
    }
   ],
   "source": [
    "complete_tircp()"
   ]
  },
  {
   "cell_type": "code",
   "execution_count": 4,
   "id": "7bcd8a8e-7edc-4bc7-aee9-a8d6caed9cc4",
   "metadata": {},
   "outputs": [],
   "source": [
    "# A4_program_allocation_plan.create_program_allocation_plan()"
   ]
  },
  {
   "cell_type": "code",
   "execution_count": 5,
   "id": "99f451a5-4d03-4702-85a4-17dcf8c48e13",
   "metadata": {},
   "outputs": [],
   "source": [
    "# A2_tableau.complete_tableau()"
   ]
  }
 ],
 "metadata": {
  "kernelspec": {
   "display_name": "Python 3 (ipykernel)",
   "language": "python",
   "name": "python3"
  },
  "language_info": {
   "codemirror_mode": {
    "name": "ipython",
    "version": 3
   },
   "file_extension": ".py",
   "mimetype": "text/x-python",
   "name": "python",
   "nbconvert_exporter": "python",
   "pygments_lexer": "ipython3",
   "version": "3.10.6"
  }
 },
 "nbformat": 4,
 "nbformat_minor": 5
}
