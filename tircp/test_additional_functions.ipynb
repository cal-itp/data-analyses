{
 "cells": [
  {
   "cell_type": "markdown",
   "id": "bd212f55-38d1-4e7f-aac2-51a83fcadb8f",
   "metadata": {},
   "source": [
    "### Save cleaned up Project & Allocation sheets.\n",
    "* For `project prioritization` project."
   ]
  },
  {
   "cell_type": "code",
   "execution_count": 1,
   "id": "03ae47d3-dd33-45f1-8a26-8710478f6880",
   "metadata": {},
   "outputs": [],
   "source": [
    "import A1_data_prep\n",
    "import numpy as np\n",
    "import pandas as pd\n",
    "from calitp import *\n",
    "\n",
    "pd.options.display.max_columns = 100\n",
    "pd.set_option(\"display.max_rows\", None)\n",
    "pd.set_option(\"display.max_colwidth\", None)"
   ]
  },
  {
   "cell_type": "code",
   "execution_count": 4,
   "id": "b5f48f72-1250-4639-9b3e-2c102d71a172",
   "metadata": {},
   "outputs": [],
   "source": [
    "def save_cleaned_sheets():\n",
    "    \"\"\"\n",
    "    Save the cleaned up project and allocation\n",
    "    sheet to GCS.\n",
    "    \"\"\"\n",
    "    project = A1_data_prep.clean_up_columns(A1_data_prep.clean_project())\n",
    "    allocation = A1_data_prep.clean_up_columns(A1_data_prep.clean_allocation())\n",
    "    \n",
    "    # Write clean version to GCS\n",
    "    with pd.ExcelWriter(f\"{A1_data_prep.GCS_FILE_PATH}clean_tircp.xlsx\") as writer:\n",
    "        allocation.to_excel(writer, sheet_name=\"clean_allocation\", index=False)\n",
    "        project.to_excel(writer, sheet_name=\"clean_project\", index=False)\n",
    "    return project, allocation"
   ]
  },
  {
   "cell_type": "code",
   "execution_count": 5,
   "id": "9f103ea8-8fe3-4b8f-9972-01262c2b17c1",
   "metadata": {},
   "outputs": [
    {
     "name": "stderr",
     "output_type": "stream",
     "text": [
      "/opt/conda/lib/python3.9/site-packages/openpyxl/worksheet/_reader.py:312: UserWarning: Data Validation extension is not supported and will be removed\n",
      "  warn(msg)\n"
     ]
    }
   ],
   "source": [
    "test1, test2 = save_cleaned_sheets()"
   ]
  },
  {
   "cell_type": "markdown",
   "id": "8176b236-41f6-4335-94e7-2aa4db1da51d",
   "metadata": {},
   "source": [
    "### Merge project-allocation sheets.\n",
    "* Often repeated throughout scripts/requests.\n",
    "* Consolidate here. "
   ]
  },
  {
   "cell_type": "code",
   "execution_count": 6,
   "id": "fadf98ac-a557-48e7-aa3d-ba91a3cfbfe2",
   "metadata": {},
   "outputs": [],
   "source": [
    "def merge_allocation_project(project_subset_cols: list, allocation_subset_cols: list, merge_type: str):\n",
    "    \"\"\"\n",
    "    Merge project and allocation sheet together.\n",
    "    \"\"\"\n",
    "    project = A1_data_prep.clean_project()\n",
    "    allocation = A1_data_prep.clean_allocation()\n",
    "\n",
    "    # Merge the sheets on PPNO & Award Year\n",
    "    m1 = pd.merge(\n",
    "        allocation,\n",
    "        project,\n",
    "        how=merge_type,\n",
    "        left_on=[\"allocation_ppno\", \"allocation_award_year\"],\n",
    "        right_on=[\"project_ppno\", \"project_award_year\"],\n",
    "        indicator=True,\n",
    "    )\n",
    "\n",
    "    return m1"
   ]
  },
  {
   "cell_type": "code",
   "execution_count": null,
   "id": "8818678b-3c7c-4fac-a7a6-d8117f6b6a8e",
   "metadata": {},
   "outputs": [],
   "source": [
    "test = merge_allocation_project([],[], 'right')"
   ]
  },
  {
   "cell_type": "code",
   "execution_count": null,
   "id": "c7f2454a-d351-47fa-89d7-f5c05c1f74d3",
   "metadata": {},
   "outputs": [],
   "source": [
    "# test.head()"
   ]
  }
 ],
 "metadata": {
  "kernelspec": {
   "display_name": "Python 3 (ipykernel)",
   "language": "python",
   "name": "python3"
  },
  "language_info": {
   "codemirror_mode": {
    "name": "ipython",
    "version": 3
   },
   "file_extension": ".py",
   "mimetype": "text/x-python",
   "name": "python",
   "nbconvert_exporter": "python",
   "pygments_lexer": "ipython3",
   "version": "3.9.13"
  }
 },
 "nbformat": 4,
 "nbformat_minor": 5
}
