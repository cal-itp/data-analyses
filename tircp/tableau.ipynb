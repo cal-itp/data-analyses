{
 "cells": [
  {
   "cell_type": "markdown",
   "id": "0ebd137e-bab9-4c03-bd45-bc1fca65ee10",
   "metadata": {},
   "source": [
    "# Tableau \n",
    "* To-Do: \n",
    "* Move function outside of project_size outside"
   ]
  },
  {
   "cell_type": "code",
   "execution_count": null,
   "id": "09875c0b-1416-4570-b286-cc540429a929",
   "metadata": {},
   "outputs": [],
   "source": []
  },
  {
   "cell_type": "code",
   "execution_count": 1,
   "id": "7116f513-40bf-475f-99e0-c0d95bae7b66",
   "metadata": {},
   "outputs": [],
   "source": [
    "def project_size(row):\n",
    "    if (row.tircp > 0) and (row.tircp < p25):\n",
    "        return \"Small\"\n",
    "    elif (row.tircp > p25) and (row.tircp < p50):\n",
    "        return \"Medium\"\n",
    "    elif row.tircp > p50:\n",
    "        return \"Large\"\n",
    "    elif row.tircp == 0:\n",
    "        return \"$0 recorded for TIRCP\"\n",
    "    else:\n",
    "        return \"Medium\""
   ]
  },
  {
   "cell_type": "code",
   "execution_count": null,
   "id": "152d864f-17d3-4ed4-b968-28fe939aea3d",
   "metadata": {},
   "outputs": [],
   "source": [
    "def tableau():\n",
    "    # Load in cleaned project sheets\n",
    "    df = A1_data_prep.clean_project()\n",
    "\n",
    "    # Create new cols\n",
    "    df = df.assign(\n",
    "        Expended_Percent=(\n",
    "            df[\"project_expended_amount\"] / df[\"project_allocated_amount\"]\n",
    "        ).fillna(0),\n",
    "        Allocated_Percent=(\n",
    "            df[\"project_allocated_amount\"] / df[\"project_tircp_award_amount__$_\"]\n",
    "        ).fillna(0),\n",
    "        Unallocated_Amount=(\n",
    "            df[\"project_tircp_award_amount__$_\"] - df[\"project_allocated_amount\"]\n",
    "        ).fillna(0),\n",
    "        Projects_Funded_Percent=(\n",
    "            df[\"project_tircp_award_amount__$_\"] / df[\"project_total_project_cost\"]\n",
    "        ).fillna(0),\n",
    "    )\n",
    "\n",
    "    # Replace districts & counties with their full names\n",
    "    df[\"project_district\"] = df[\"project_district\"].replace(crosswalks.full_ct_district)\n",
    "    df[\"project_county\"] = df[\"project_county\"].replace(crosswalks.full_county)\n",
    "\n",
    "    # Categorize projects into expended % bins\n",
    "    df[\"Expended_Percent_Group\"] = df.apply(lambda x: expended_percent(x), axis=1)\n",
    "\n",
    "    # Categorize projects whether they are ahead/behind/0 expenditures/etc\n",
    "    df[\"Progress\"] = df.apply(progress, axis=1)\n",
    "\n",
    "    # Categorize projects whether they are large/small/med based on TIRCP amount\n",
    "    df = df.rename(columns={\"project_tircp_award_amount__$_\": \"tircp\"})\n",
    "\n",
    "    # Which projects are large,small, medium\n",
    "    p75 = df.tircp.quantile(0.75).astype(float)\n",
    "    p50 = df.tircp.quantile(0.50).astype(float)\n",
    "    p25 = df.tircp.quantile(0.25).astype(float)\n",
    "\n",
    "    df[\"Project_Category\"] = df.apply(lambda x: project_size(x), axis=1)\n",
    "\n",
    "    # Clean up column names\n",
    "    df.columns = (\n",
    "        df.columns.str.replace(\"[_]\", \" \")\n",
    "        .str.replace(\"project\", \"\")\n",
    "        .str.title()\n",
    "        .str.strip()\n",
    "    )\n",
    "    \"\"\"\n",
    "    # Write to GCS\n",
    "    with pd.ExcelWriter(f\"{GCS_FILE_PATH}Script_Tableau_Sheet.xlsx\") as writer:\n",
    "        df.to_excel(writer, sheet_name=\"Data\", index=False)\n",
    "    \"\"\"\n",
    "    return df"
   ]
  }
 ],
 "metadata": {
  "kernelspec": {
   "display_name": "Python 3 (ipykernel)",
   "language": "python",
   "name": "python3"
  },
  "language_info": {
   "codemirror_mode": {
    "name": "ipython",
    "version": 3
   },
   "file_extension": ".py",
   "mimetype": "text/x-python",
   "name": "python",
   "nbconvert_exporter": "python",
   "pygments_lexer": "ipython3",
   "version": "3.10.4"
  }
 },
 "nbformat": 4,
 "nbformat_minor": 5
}
