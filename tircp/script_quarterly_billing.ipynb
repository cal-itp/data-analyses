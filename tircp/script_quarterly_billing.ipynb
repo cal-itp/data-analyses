{
 "cells": [
  {
   "cell_type": "markdown",
   "id": "ce2a2900-a069-4f05-aa5a-0cd298f26e3f",
   "metadata": {},
   "source": [
    "## Quarterly billing or new project report \n",
    "* Pull a quarterly billing or new project report from the TIRCP spreadsheet of any new allocations (new project IDs) made since the previous report?\n",
    "* New projects highlighted in yellow\n",
    "* Sort small Project ID to larger project ID\n",
    "* Include existing projects (no highlight)\n",
    "* Each cycle its own tab!\n"
   ]
  },
  {
   "cell_type": "code",
   "execution_count": 110,
   "id": "ad4424ce-11be-43cf-921f-e1487f1fe62b",
   "metadata": {},
   "outputs": [],
   "source": [
    "import A1_data_prep\n",
    "import A2_tableau\n",
    "import numpy as np\n",
    "import pandas as pd\n",
    "from babel.numbers import format_currency\n",
    "from calitp import *\n",
    "\n",
    "pd.options.display.max_columns = 100\n",
    "pd.options.display.float_format = \"{:.2f}\".format\n",
    "pd.set_option(\"display.max_rows\", None)\n",
    "pd.set_option(\"display.max_colwidth\", None)"
   ]
  },
  {
   "cell_type": "code",
   "execution_count": 111,
   "id": "0cf347c3-a6da-41c2-94dd-17f6b9efd0dc",
   "metadata": {},
   "outputs": [
    {
     "name": "stderr",
     "output_type": "stream",
     "text": [
      "/opt/conda/lib/python3.9/site-packages/openpyxl/worksheet/_reader.py:312: UserWarning: Data Validation extension is not supported and will be removed\n",
      "  warn(msg)\n"
     ]
    }
   ],
   "source": [
    "# Load in sheets\n",
    "project = A1_data_prep.clean_project()\n",
    "alloc = A1_data_prep.clean_allocation()"
   ]
  },
  {
   "cell_type": "code",
   "execution_count": 123,
   "id": "cbdd0688-1680-4495-8390-68e8e3255a95",
   "metadata": {},
   "outputs": [],
   "source": [
    "# Columns for allocation subset\n",
    "alloc_subset = [\n",
    "    \"allocation_award_year\",\n",
    "    \"allocation_ppno\",\n",
    "    \"allocation_project_id\",\n",
    "    \"allocation_ea\",\n",
    "    \"allocation_grant_recipient\",\n",
    "    \"allocation_phase\",\n",
    "    \"allocation_allocation_amount\",\n",
    "    \"allocation_sb1_funding\",\n",
    "    \"allocation_sb1_budget_year\",\n",
    "    \"allocation_ggrf_funding\",\n",
    "    \"allocation_ggrf_budget_year\",\n",
    "    \"allocation_allocation_date\",\n",
    "]"
   ]
  },
  {
   "cell_type": "code",
   "execution_count": 124,
   "id": "b8705ef4-51d5-40c1-81b3-aded3cb84a30",
   "metadata": {},
   "outputs": [],
   "source": [
    "# Subset\n",
    "project2 = project[\n",
    "    ['project_grant_recipient',\"project_project_title\", \"project_ppno\", \"project_district\", \"project_award_year\"]\n",
    "]\n",
    "alloc2 = alloc[alloc_subset]"
   ]
  },
  {
   "cell_type": "code",
   "execution_count": 125,
   "id": "5dee2ed2-3c01-4053-8ce1-7d2beb01db3e",
   "metadata": {},
   "outputs": [],
   "source": [
    "# Merge the 2\n",
    "m1 = pd.merge(\n",
    "    project2,\n",
    "    alloc2,\n",
    "    how=\"inner\",\n",
    "    left_on=[\"project_ppno\", \"project_award_year\"],\n",
    "    right_on=[\"allocation_ppno\", \"allocation_award_year\"],\n",
    ")"
   ]
  },
  {
   "cell_type": "code",
   "execution_count": 126,
   "id": "c927bff2-e8ec-455d-b0ef-04aa4e0a5945",
   "metadata": {
    "scrolled": true,
    "tags": []
   },
   "outputs": [],
   "source": [
    "# Melt based on project title\n",
    "m1_T = pd.melt(\n",
    "    m1,\n",
    "    id_vars=[\n",
    "        \"project_award_year\",\n",
    "        \"allocation_project_id\",\n",
    "        \"allocation_ea\",\n",
    "        \"project_district\",\n",
    "        'project_grant_recipient',\n",
    "        \"project_project_title\",\n",
    "        \"allocation_allocation_amount\",\n",
    "        \"allocation_allocation_date\",\n",
    "        'allocation_sb1_budget_year',\n",
    "        'allocation_ggrf_budget_year',\n",
    "    ],\n",
    "    value_vars=[\"allocation_sb1_funding\", \"allocation_ggrf_funding\"],\n",
    ")"
   ]
  },
  {
   "cell_type": "code",
   "execution_count": 127,
   "id": "d7925b49-33bc-4481-b6c6-f694b49da9dc",
   "metadata": {},
   "outputs": [],
   "source": [
    "# Keep only values above 1\n",
    "m1_T = (m1_T.loc[m1_T[\"value\"] > 0.00]).reset_index(drop=True)"
   ]
  }
 ],
 "metadata": {
  "kernelspec": {
   "display_name": "Python 3 (ipykernel)",
   "language": "python",
   "name": "python3"
  },
  "language_info": {
   "codemirror_mode": {
    "name": "ipython",
    "version": 3
   },
   "file_extension": ".py",
   "mimetype": "text/x-python",
   "name": "python",
   "nbconvert_exporter": "python",
   "pygments_lexer": "ipython3",
   "version": "3.9.13"
  }
 },
 "nbformat": 4,
 "nbformat_minor": 5
}
