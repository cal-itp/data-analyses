{
 "cells": [
  {
   "cell_type": "markdown",
   "id": "98f6f9e5-b009-42b9-8c27-2ac6d96c2c2a",
   "metadata": {},
   "source": [
    "## Quarterly billing or new project report \n",
    "\n",
    "Request\n",
    "* Pull a quarterly billing or new project report from the TIRCP spreadsheet of any new allocations (new project IDs) made since the previous report?\n",
    "* New projects highlighted in yellow\n",
    "* Sort small Project ID to larger project ID\n",
    "* Include existing projects (no highlight)\n",
    "* Each cycle its own tab!\n",
    "\n",
    "\n",
    "Columns\n",
    "* Project ID\t\n",
    "* EA\t\n",
    "* Ph.\t\n",
    "* Dist.\t\n",
    "* Recipient\t\n",
    "* Project\t\n",
    "* Amount Available\t\n",
    "* Allocation Amount\t\n",
    "* Fund Type\t\n",
    "* Budget Year\t\n",
    "* Appropriation\t\n",
    "* CTC Allocation Date"
   ]
  },
  {
   "cell_type": "code",
   "execution_count": 1,
   "id": "ad4424ce-11be-43cf-921f-e1487f1fe62b",
   "metadata": {},
   "outputs": [],
   "source": [
    "import A1_data_prep\n",
    "import A2_tableau\n",
    "import A7_accounting_analysis\n",
    "import numpy as np\n",
    "import pandas as pd\n",
    "from babel.numbers import format_currency\n",
    "from calitp import *\n",
    "\n",
    "pd.options.display.max_columns = 100\n",
    "pd.options.display.float_format = \"{:.2f}\".format\n",
    "pd.set_option(\"display.max_rows\", None)\n",
    "pd.set_option(\"display.max_colwidth\", None)"
   ]
  },
  {
   "cell_type": "markdown",
   "id": "5e186e63-7cd7-4f1c-9503-4a122be5e89a",
   "metadata": {},
   "source": [
    "#### Function 1: Load \"Previous\" Allocation Sheet for their Project IDs"
   ]
  },
  {
   "cell_type": "code",
   "execution_count": 2,
   "id": "894e5f21-b74e-4d6f-aacc-fe659d2c883d",
   "metadata": {},
   "outputs": [],
   "source": [
    "def previous_project_ids(previous_file_name: str, previous_sheet_name: str):\n",
    "    \"\"\"\n",
    "    Load in the previous TIRCP Tracking Workbook's allocation\n",
    "    tab and return a set of unique Project Ids.\n",
    "    \"\"\"\n",
    "    # Load in previous allocation sheet\n",
    "    previous_allocation = to_snakecase(\n",
    "        pd.read_excel(\n",
    "            f\"{A1_data_prep.GCS_FILE_PATH}{previous_file_name}\",\n",
    "            sheet_name=previous_sheet_name,\n",
    "        )\n",
    "    )\n",
    "\n",
    "    # Clean project ID\n",
    "    previous_allocation = A7_accounting_analysis.clean_project_ids(\n",
    "        previous_allocation, \"project_id\"\n",
    "    )\n",
    "\n",
    "    # Coerce project ID to numeric\n",
    "    previous_allocation.project_id = previous_allocation.project_id.apply(\n",
    "         pd.to_numeric, errors=\"coerce\"\n",
    "     )\n",
    "\n",
    "    # Get set the \"previous\" project ids\n",
    "    previous_project_ids = set(previous_allocation.project_id.unique().tolist())\n",
    "\n",
    "    return previous_project_ids"
   ]
  },
  {
   "cell_type": "code",
   "execution_count": 3,
   "id": "13b1634a-0f92-4684-b55e-a9a77815a66e",
   "metadata": {},
   "outputs": [],
   "source": [
    "# test_set = previous_project_ids(\"fake_allocation_sheet.xlsx\", \"fake_aa\")"
   ]
  },
  {
   "cell_type": "code",
   "execution_count": 4,
   "id": "3ec45255-5bd2-4e08-97cc-f2b4c53d9a9f",
   "metadata": {},
   "outputs": [],
   "source": [
    "# len(test_set)"
   ]
  },
  {
   "cell_type": "markdown",
   "id": "5391bfe8-9893-4aee-82d7-41f5dc6399d1",
   "metadata": {},
   "source": [
    "#### Function 2: Load \"Current\" Allocation Sheet"
   ]
  },
  {
   "cell_type": "code",
   "execution_count": 5,
   "id": "cbdd0688-1680-4495-8390-68e8e3255a95",
   "metadata": {},
   "outputs": [],
   "source": [
    "# Columns for allocation subset\n",
    "alloc_subset = [\n",
    "    \"allocation_award_year\",\n",
    "    \"allocation_ppno\",\n",
    "    \"allocation_project_id\",\n",
    "    \"allocation_ea\",\n",
    "    \"allocation_grant_recipient\",\n",
    "    \"allocation_phase\",\n",
    "    \"allocation_allocation_amount\",\n",
    "    \"allocation_sb1_funding\",\n",
    "    \"allocation_sb1_budget_year\",\n",
    "    \"allocation_ggrf_funding\",\n",
    "    \"allocation_ggrf_budget_year\",\n",
    "    \"allocation_allocation_date\",\n",
    "]"
   ]
  },
  {
   "cell_type": "code",
   "execution_count": 6,
   "id": "a1e9fd61-7e2a-498e-9eda-5e12b5d89418",
   "metadata": {},
   "outputs": [],
   "source": [
    "def prepare_current_allocation():\n",
    "\n",
    "    alloc = A1_data_prep.clean_allocation()\n",
    "\n",
    "    # Subset\n",
    "    alloc = alloc[alloc_subset]\n",
    "\n",
    "    # Clean Project Ids\n",
    "    alloc = A7_accounting_analysis.clean_project_ids(\n",
    "        alloc,\n",
    "        \"allocation_project_id\",\n",
    "    )\n",
    "\n",
    "    # Filter out any project IDs that are none\n",
    "    alloc = (alloc.loc[alloc.allocation_project_id != \"None\"]).reset_index(drop=True)\n",
    "\n",
    "    # Coerce project Ids to numeric\n",
    "    alloc.allocation_project_id = alloc.allocation_project_id.apply(\n",
    "    pd.to_numeric, errors=\"coerce\")\n",
    "\n",
    "    return alloc"
   ]
  },
  {
   "cell_type": "code",
   "execution_count": 7,
   "id": "4bb2fb93-19dc-489d-b842-cc287cb5de3e",
   "metadata": {},
   "outputs": [],
   "source": [
    "# alloc2 = prepare_current_allocation()"
   ]
  },
  {
   "cell_type": "code",
   "execution_count": 8,
   "id": "795ae321-1c33-46e7-82da-a715e73a9df5",
   "metadata": {},
   "outputs": [],
   "source": [
    "# alloc2.shape"
   ]
  },
  {
   "cell_type": "code",
   "execution_count": 9,
   "id": "bed6ce2b-2794-471b-a8a6-2c08369570f1",
   "metadata": {},
   "outputs": [],
   "source": [
    "# Clean up Project IDs\n",
    "# alloc2 = A7_accounting_analysis.clean_project_ids(\n",
    "#    alloc2,\n",
    "#    \"allocation_project_id\",\n",
    "# )"
   ]
  },
  {
   "cell_type": "code",
   "execution_count": 10,
   "id": "85da5a66-ce32-4398-82ec-ac15f67582f9",
   "metadata": {
    "scrolled": true,
    "tags": []
   },
   "outputs": [],
   "source": [
    "# Filter out any project IDs that are none.\n",
    "# alloc2 = (alloc2.loc[alloc2.allocation_project_id != \"None\"]).reset_index(drop=True)"
   ]
  },
  {
   "cell_type": "code",
   "execution_count": 11,
   "id": "7b7975a3-d03b-4edf-95bd-b36b4dd3a3e7",
   "metadata": {},
   "outputs": [],
   "source": [
    "# len(alloc2), len(alloc.loc[alloc.allocation_project_id == \"None\"]), len(alloc)"
   ]
  },
  {
   "cell_type": "markdown",
   "id": "f499a63e-62c6-4dfa-8f5e-ab3dcf1b4595",
   "metadata": {
    "tags": []
   },
   "source": [
    "#### Function 3:  Compare new versus old project ids"
   ]
  },
  {
   "cell_type": "code",
   "execution_count": 12,
   "id": "efd596b6-695c-4565-874a-8315685b8722",
   "metadata": {},
   "outputs": [],
   "source": [
    "def get_new_project_ids(previous_TIRCP_file_name: str, previous_TIRCP_sheet_name: str):\n",
    "    \"\"\"\n",
    "    Compare the project IDS in the most recent\n",
    "    TIRCP tracking sheet versus the previous one\n",
    "    to see which projects are new\n",
    "    \"\"\"\n",
    "    # Get the previous workbook's project ids in a set\n",
    "    previous_ids = previous_project_ids(\n",
    "        previous_TIRCP_file_name, previous_TIRCP_sheet_name\n",
    "    )\n",
    "\n",
    "    # Get current workbook's project ids in a set\n",
    "    current_allocation = prepare_current_allocation()[[\"allocation_project_id\"]]\n",
    "    current_ids = set(current_allocation.allocation_project_id.unique().tolist())\n",
    "\n",
    "    # Get the new ids\n",
    "    new_ids = list(current_ids - previous_ids)\n",
    "\n",
    "    return new_ids"
   ]
  },
  {
   "cell_type": "code",
   "execution_count": 13,
   "id": "0e366bd4-eede-4ce7-bfd6-ca21d1f6ecb8",
   "metadata": {},
   "outputs": [],
   "source": [
    "# new_project_ids_list = get_new_project_ids(\"fake_allocation_sheet.xlsx\", \"fake_aa\")"
   ]
  },
  {
   "cell_type": "code",
   "execution_count": 14,
   "id": "5a01e825-ed86-4c49-83da-3163ff2fe90f",
   "metadata": {},
   "outputs": [],
   "source": [
    "# new_project_ids_list"
   ]
  },
  {
   "cell_type": "markdown",
   "id": "d4abe35b-6eac-48a0-a984-be8b7435bb07",
   "metadata": {},
   "source": [
    "#### Function 4: Project Sheet\n",
    "* Test with 2016 first"
   ]
  },
  {
   "cell_type": "code",
   "execution_count": 15,
   "id": "ce03e656-f45b-4c38-ba1d-1789c97b2ab6",
   "metadata": {},
   "outputs": [],
   "source": [
    "project_subset = [\n",
    "    \"project_grant_recipient\",\n",
    "    \"project_project_title\",\n",
    "    \"project_tircp_award_amount__$_\",\n",
    "    \"project_ppno\",\n",
    "    \"project_district\",\n",
    "    \"project_award_year\",\n",
    "]"
   ]
  },
  {
   "cell_type": "code",
   "execution_count": 16,
   "id": "3938cf85-d33b-4e22-bc66-c633c2c0951f",
   "metadata": {},
   "outputs": [],
   "source": [
    "def prepare_project():\n",
    "    project = A1_data_prep.clean_project()\n",
    "    project = project[project_subset]\n",
    "    return project"
   ]
  },
  {
   "cell_type": "code",
   "execution_count": 17,
   "id": "b9a66c7d-79b1-49ab-919e-d80c1e61ffea",
   "metadata": {},
   "outputs": [
    {
     "name": "stderr",
     "output_type": "stream",
     "text": [
      "/opt/conda/lib/python3.9/site-packages/openpyxl/worksheet/_reader.py:312: UserWarning: Data Validation extension is not supported and will be removed\n",
      "  warn(msg)\n"
     ]
    }
   ],
   "source": [
    "project2 = prepare_project()"
   ]
  },
  {
   "cell_type": "code",
   "execution_count": 18,
   "id": "58ea43c5-0f3b-4def-9866-f8709565941b",
   "metadata": {},
   "outputs": [
    {
     "data": {
      "text/html": [
       "<div>\n",
       "<style scoped>\n",
       "    .dataframe tbody tr th:only-of-type {\n",
       "        vertical-align: middle;\n",
       "    }\n",
       "\n",
       "    .dataframe tbody tr th {\n",
       "        vertical-align: top;\n",
       "    }\n",
       "\n",
       "    .dataframe thead th {\n",
       "        text-align: right;\n",
       "    }\n",
       "</style>\n",
       "<table border=\"1\" class=\"dataframe\">\n",
       "  <thead>\n",
       "    <tr style=\"text-align: right;\">\n",
       "      <th></th>\n",
       "      <th>project_ppno</th>\n",
       "    </tr>\n",
       "    <tr>\n",
       "      <th>project_award_year</th>\n",
       "      <th></th>\n",
       "    </tr>\n",
       "  </thead>\n",
       "  <tbody>\n",
       "    <tr>\n",
       "      <th>2015</th>\n",
       "      <td>14</td>\n",
       "    </tr>\n",
       "    <tr>\n",
       "      <th>2016</th>\n",
       "      <td>14</td>\n",
       "    </tr>\n",
       "    <tr>\n",
       "      <th>2018</th>\n",
       "      <td>26</td>\n",
       "    </tr>\n",
       "    <tr>\n",
       "      <th>2020</th>\n",
       "      <td>17</td>\n",
       "    </tr>\n",
       "    <tr>\n",
       "      <th>2022</th>\n",
       "      <td>23</td>\n",
       "    </tr>\n",
       "  </tbody>\n",
       "</table>\n",
       "</div>"
      ],
      "text/plain": [
       "                    project_ppno\n",
       "project_award_year              \n",
       "2015                          14\n",
       "2016                          14\n",
       "2018                          26\n",
       "2020                          17\n",
       "2022                          23"
      ]
     },
     "execution_count": 18,
     "metadata": {},
     "output_type": "execute_result"
    }
   ],
   "source": [
    "project2.groupby(['project_award_year']).agg({'project_ppno':'nunique'})"
   ]
  },
  {
   "cell_type": "code",
   "execution_count": 19,
   "id": "d03fbf34-ffab-468c-ae10-a4ea574d28d2",
   "metadata": {
    "scrolled": true,
    "tags": []
   },
   "outputs": [],
   "source": [
    "# project2"
   ]
  },
  {
   "cell_type": "code",
   "execution_count": 20,
   "id": "0edd56e1-0242-4a00-9b39-5993c71fad12",
   "metadata": {},
   "outputs": [],
   "source": [
    "# project2.shape"
   ]
  },
  {
   "cell_type": "markdown",
   "id": "69248505-6433-41d8-92dd-ebfd53c86544",
   "metadata": {},
   "source": [
    "### Functions 5-7: Create the sheet\n",
    "* One function for the first merge\n",
    "* One for the melt \n",
    "* One for merging the original merged df with the melted values"
   ]
  },
  {
   "cell_type": "code",
   "execution_count": 21,
   "id": "138089f1-220f-4a04-be8e-bef2ecbe337a",
   "metadata": {},
   "outputs": [],
   "source": [
    "def merge1_allocation_project():\n",
    "    project = prepare_project()\n",
    "    allocation = prepare_current_allocation()\n",
    "\n",
    "    # Merge the sheets on PPNO & Award Year\n",
    "    m1 = pd.merge(\n",
    "        allocation,\n",
    "        project,\n",
    "        how=\"left\",\n",
    "        left_on=[\"allocation_ppno\", \"allocation_award_year\"],\n",
    "        right_on=[\"project_ppno\", \"project_award_year\"],\n",
    "        indicator=True,\n",
    "    )\n",
    "\n",
    "    return m1"
   ]
  },
  {
   "cell_type": "code",
   "execution_count": 22,
   "id": "e1050cf4-eee0-4833-b1a0-0c20943502b1",
   "metadata": {},
   "outputs": [
    {
     "name": "stderr",
     "output_type": "stream",
     "text": [
      "/opt/conda/lib/python3.9/site-packages/openpyxl/worksheet/_reader.py:312: UserWarning: Data Validation extension is not supported and will be removed\n",
      "  warn(msg)\n"
     ]
    }
   ],
   "source": [
    "project_alloc = merge1_allocation_project()"
   ]
  },
  {
   "cell_type": "code",
   "execution_count": 23,
   "id": "f685ce5b-e469-41b7-93b4-b1848cf0116b",
   "metadata": {},
   "outputs": [
    {
     "data": {
      "text/html": [
       "<div>\n",
       "<style scoped>\n",
       "    .dataframe tbody tr th:only-of-type {\n",
       "        vertical-align: middle;\n",
       "    }\n",
       "\n",
       "    .dataframe tbody tr th {\n",
       "        vertical-align: top;\n",
       "    }\n",
       "\n",
       "    .dataframe thead th {\n",
       "        text-align: right;\n",
       "    }\n",
       "</style>\n",
       "<table border=\"1\" class=\"dataframe\">\n",
       "  <thead>\n",
       "    <tr style=\"text-align: right;\">\n",
       "      <th></th>\n",
       "      <th>allocation_ppno</th>\n",
       "    </tr>\n",
       "    <tr>\n",
       "      <th>allocation_award_year</th>\n",
       "      <th></th>\n",
       "    </tr>\n",
       "  </thead>\n",
       "  <tbody>\n",
       "    <tr>\n",
       "      <th>2015.00</th>\n",
       "      <td>14</td>\n",
       "    </tr>\n",
       "    <tr>\n",
       "      <th>2016.00</th>\n",
       "      <td>11</td>\n",
       "    </tr>\n",
       "    <tr>\n",
       "      <th>2018.00</th>\n",
       "      <td>23</td>\n",
       "    </tr>\n",
       "    <tr>\n",
       "      <th>2020.00</th>\n",
       "      <td>11</td>\n",
       "    </tr>\n",
       "  </tbody>\n",
       "</table>\n",
       "</div>"
      ],
      "text/plain": [
       "                       allocation_ppno\n",
       "allocation_award_year                 \n",
       "2015.00                             14\n",
       "2016.00                             11\n",
       "2018.00                             23\n",
       "2020.00                             11"
      ]
     },
     "execution_count": 23,
     "metadata": {},
     "output_type": "execute_result"
    }
   ],
   "source": [
    "project_alloc.groupby(['allocation_award_year']).agg({'allocation_ppno':'nunique'})"
   ]
  },
  {
   "cell_type": "code",
   "execution_count": 24,
   "id": "1eb965c4-8778-4401-86ef-4f44a0500c97",
   "metadata": {},
   "outputs": [],
   "source": [
    "def melt_ggrf_sb1(first_merged_dataframe):\n",
    "    \"\"\" \"\n",
    "    The original allocation sheet has one column for\n",
    "    SB1 and another one for GGRF. Melt based on Project ID\n",
    "    so both values go under a single column called\n",
    "    \"Fund Type\" and the amount goes under \"Value.\"\n",
    "\n",
    "    first_merged_dataframe (df): input results from merge1_allocation_project()\n",
    "    \"\"\"\n",
    "    ggrf_sb1_values = pd.melt(\n",
    "        first_merged_dataframe,\n",
    "        id_vars=[\"allocation_project_id\"],\n",
    "        value_vars=[\"allocation_sb1_funding\", \"allocation_ggrf_funding\"],\n",
    "    )\n",
    "\n",
    "    # This melted dataframe is large. Filter out for only\n",
    "    # rows with a non-zero value. Rename the columns.\n",
    "    ggrf_sb1_values = (\n",
    "        (ggrf_sb1_values.loc[ggrf_sb1_values[\"value\"] > 0.00])\n",
    "        .reset_index(drop=True)\n",
    "        .rename(columns={\"variable\": \"Fund Type\", \"value\": \"Allocation Amount\"})\n",
    "    )\n",
    "\n",
    "    return ggrf_sb1_values"
   ]
  },
  {
   "cell_type": "code",
   "execution_count": 25,
   "id": "d6fa9719-6ec9-482e-9832-bd337e351a0e",
   "metadata": {},
   "outputs": [],
   "source": [
    "def full_merge():\n",
    "    m1 = merge1_allocation_project()\n",
    "    ggrf_sb1 = melt_ggrf_sb1(m1)\n",
    "\n",
    "    # Final merge\n",
    "    m2 = pd.merge(\n",
    "        m1.drop(columns=[\"_merge\"]), ggrf_sb1, how=\"left\", on=[\"allocation_project_id\"]\n",
    "    )\n",
    "\n",
    "    # Why are there so many duplicates\n",
    "    m2 = m2.drop_duplicates().reset_index(drop=True)\n",
    "\n",
    "    # Drop project columns\n",
    "    m2 = m2.drop(\n",
    "        columns=[\n",
    "            \"project_grant_recipient\",\n",
    "            \"project_ppno\",\n",
    "            \"project_award_year\",\n",
    "        ]\n",
    "    )\n",
    "\n",
    "    # Clean column names\n",
    "    m2 = A1_data_prep.clean_up_columns(m2)\n",
    "    m2 = m2.rename(columns = {\n",
    "        \"Date\": \"CTC Allocation Date\",\n",
    "        \"Id\":\"Project ID\",})\n",
    "        \n",
    "    # Clean up dates\n",
    "    m2['CTC Allocation Date'] = pd.to_datetime(m2['CTC Allocation Date']).dt.strftime('%m-%Y')\n",
    "    \n",
    "    return m2"
   ]
  },
  {
   "cell_type": "code",
   "execution_count": 26,
   "id": "5dee2ed2-3c01-4053-8ce1-7d2beb01db3e",
   "metadata": {},
   "outputs": [
    {
     "data": {
      "text/plain": [
       "'\\nm1 = pd.merge(\\n    alloc2,\\n    project2,\\n    how=\"inner\",\\n    left_on=[\"allocation_ppno\", \"allocation_award_year\"],\\n    right_on=[\"project_ppno\", \"project_award_year\"],\\n    indicator=True,\\n)\\n'"
      ]
     },
     "execution_count": 26,
     "metadata": {},
     "output_type": "execute_result"
    }
   ],
   "source": [
    "# Merge the allocation w/ project sheet\n",
    "\"\"\"\n",
    "m1 = pd.merge(\n",
    "    alloc2,\n",
    "    project2,\n",
    "    how=\"inner\",\n",
    "    left_on=[\"allocation_ppno\", \"allocation_award_year\"],\n",
    "    right_on=[\"project_ppno\", \"project_award_year\"],\n",
    "    indicator=True,\n",
    ")\n",
    "\"\"\""
   ]
  },
  {
   "cell_type": "code",
   "execution_count": 27,
   "id": "7c17f2b9-6747-4479-95e8-342b692d4250",
   "metadata": {},
   "outputs": [],
   "source": [
    "# m1.shape"
   ]
  },
  {
   "cell_type": "code",
   "execution_count": 28,
   "id": "c927bff2-e8ec-455d-b0ef-04aa4e0a5945",
   "metadata": {
    "tags": []
   },
   "outputs": [
    {
     "data": {
      "text/plain": [
       "'ggrf_sb1_values = pd.melt(\\n    m1,\\n    id_vars=[\"allocation_project_id\"],\\n    value_vars=[\"allocation_sb1_funding\", \"allocation_ggrf_funding\"],\\n)'"
      ]
     },
     "execution_count": 28,
     "metadata": {},
     "output_type": "execute_result"
    }
   ],
   "source": [
    "# Melt based on project id\n",
    "\"\"\"ggrf_sb1_values = pd.melt(\n",
    "    m1,\n",
    "    id_vars=[\"allocation_project_id\"],\n",
    "    value_vars=[\"allocation_sb1_funding\", \"allocation_ggrf_funding\"],\n",
    ")\"\"\""
   ]
  },
  {
   "cell_type": "code",
   "execution_count": 29,
   "id": "d7925b49-33bc-4481-b6c6-f694b49da9dc",
   "metadata": {},
   "outputs": [
    {
     "data": {
      "text/plain": [
       "'ggrf_sb1_values = (\\n    (ggrf_sb1_values.loc[ggrf_sb1_values[\"value\"] > 0.00])\\n    .reset_index(drop=True)\\n    .rename(columns={\"variable\": \"Fund Type\", \"value\": \"Allocation Amount\"})\\n)'"
      ]
     },
     "execution_count": 29,
     "metadata": {},
     "output_type": "execute_result"
    }
   ],
   "source": [
    "# Keep only values above 1\n",
    "\"\"\"ggrf_sb1_values = (\n",
    "    (ggrf_sb1_values.loc[ggrf_sb1_values[\"value\"] > 0.00])\n",
    "    .reset_index(drop=True)\n",
    "    .rename(columns={\"variable\": \"Fund Type\", \"value\": \"Allocation Amount\"})\n",
    ")\"\"\""
   ]
  },
  {
   "cell_type": "code",
   "execution_count": 30,
   "id": "a7ce5cca-b855-45bb-a147-caac4404b637",
   "metadata": {},
   "outputs": [],
   "source": [
    "# ggrf_sb1_values['Fund Type'].value_counts()"
   ]
  },
  {
   "cell_type": "code",
   "execution_count": 31,
   "id": "1106b470-85f7-4c66-af83-0777bd582f58",
   "metadata": {},
   "outputs": [
    {
     "data": {
      "text/plain": [
       "'m2 = pd.merge(\\n    m1.drop(columns=[\"_merge\"]),\\n    ggrf_sb1_values,\\n    how=\"left\",\\n    on=[\"allocation_project_id\"],\\n)'"
      ]
     },
     "execution_count": 31,
     "metadata": {},
     "output_type": "execute_result"
    }
   ],
   "source": [
    "# Merge the m1 w/  ggrf_sb1_values\n",
    "\"\"\"m2 = pd.merge(\n",
    "    m1.drop(columns=[\"_merge\"]),\n",
    "    ggrf_sb1_values,\n",
    "    how=\"left\",\n",
    "    on=[\"allocation_project_id\"],\n",
    ")\"\"\""
   ]
  },
  {
   "cell_type": "code",
   "execution_count": 32,
   "id": "b1ee84da-3536-4f29-9cbc-7a70aed16ec0",
   "metadata": {},
   "outputs": [],
   "source": [
    "# m3 = m2.drop_duplicates().sort_values(\"allocation_project_id\")"
   ]
  },
  {
   "cell_type": "markdown",
   "id": "a5b4ccfc-3fb9-4235-b07a-83354d8ee95d",
   "metadata": {
    "tags": []
   },
   "source": [
    "### Function 8: Highlight new project ID"
   ]
  },
  {
   "cell_type": "code",
   "execution_count": 33,
   "id": "c89c65f8-92a7-45b2-80d9-f02acdd9f2a5",
   "metadata": {},
   "outputs": [],
   "source": [
    "new_project_ids = get_new_project_ids(\"fake_allocation_sheet.xlsx\", \"fake_aa\")"
   ]
  },
  {
   "cell_type": "code",
   "execution_count": 34,
   "id": "332b1855-5b2b-4d5b-a209-7c64ea19044d",
   "metadata": {},
   "outputs": [],
   "source": [
    "# https://stackoverflow.com/questions/68439695/pandas-highlight-specific-number-with-different-color-in-dataframe\n",
    "def HIGHLIGHT_COLOR(x):\n",
    "    def colour_switch(number):\n",
    "        if number in new_project_ids:\n",
    "            color = \"yellow\"\n",
    "        else:\n",
    "            # default\n",
    "            color = \"white\"\n",
    "\n",
    "        return color\n",
    "\n",
    "    return [f\"background-color: {colour_switch(number)}\" for number in x]"
   ]
  },
  {
   "cell_type": "code",
   "execution_count": 35,
   "id": "25031405-e78a-408c-a74f-4d227050ba6d",
   "metadata": {
    "scrolled": true,
    "tags": []
   },
   "outputs": [],
   "source": [
    "# grouped_test.style.apply(HIGHLIGHT_COLOR)"
   ]
  },
  {
   "cell_type": "markdown",
   "id": "85539d66-494a-46b6-8cf3-abd5cc3194c6",
   "metadata": {},
   "source": [
    "### Function 9: Groupby to create sheet \n",
    "* Change \"Date\" from 2023-01-01 to January 2023."
   ]
  },
  {
   "cell_type": "code",
   "execution_count": 36,
   "id": "6d935831-8183-457f-b2c6-01ee43753853",
   "metadata": {},
   "outputs": [],
   "source": [
    "groupby_cols = [\n",
    "    \"Title\",\n",
    "    \"Grant Recipient\",\n",
    "    \"District\",\n",
    "    \"Tircp Award Amount  $\",\n",
    "    \"Ea\",\n",
    "    \"Phase\",\n",
    "    \"Project ID\",\n",
    "        \"CTC Allocation Date\",\n",
    "    \"Sb1 Budget Year\",\n",
    "    \"Ggrf Budget Year\",\n",
    "    \"Fund Type\",\n",
    "]"
   ]
  },
  {
   "cell_type": "code",
   "execution_count": 37,
   "id": "79269f17-9eeb-4286-b94f-e3b7ac6491ad",
   "metadata": {},
   "outputs": [],
   "source": [
    "def group_sheet(df):\n",
    "    \n",
    "    # Duplicate project ID so can apply highlightinbg\n",
    "    df[\"Project ID 2\"] = df[\"Project ID\"]\n",
    "    \n",
    "    # Group\n",
    "    grouped_df = df.groupby(groupby_cols).agg(\n",
    "    {\"Allocation Amount\": \"max\", \"Project ID 2\": \"max\"})\n",
    "    \n",
    "    grouped_df = grouped_df.style.apply(HIGHLIGHT_COLOR)\n",
    "    \n",
    "    return grouped_df"
   ]
  },
  {
   "cell_type": "markdown",
   "id": "1b76f7b5-eb5c-46d8-84f4-7e10ff63b350",
   "metadata": {},
   "source": [
    "### Function 10: Wrap everything up. \n",
    "* Projects should be in different tabs based on whatever cycle they correspond with"
   ]
  },
  {
   "cell_type": "code",
   "execution_count": 38,
   "id": "89ae16ae-8891-4796-91c1-1f9f6eec8984",
   "metadata": {},
   "outputs": [
    {
     "name": "stderr",
     "output_type": "stream",
     "text": [
      "/opt/conda/lib/python3.9/site-packages/openpyxl/worksheet/_reader.py:312: UserWarning: Data Validation extension is not supported and will be removed\n",
      "  warn(msg)\n"
     ]
    }
   ],
   "source": [
    "all_projects = full_merge()"
   ]
  },
  {
   "cell_type": "code",
   "execution_count": 39,
   "id": "9fed41b2-ef05-45be-a640-1976d13f77a9",
   "metadata": {},
   "outputs": [],
   "source": [
    "project_years = all_projects['Award Year'].astype('int64').unique().tolist()"
   ]
  },
  {
   "cell_type": "code",
   "execution_count": 40,
   "id": "f67c433a-04a1-43a9-98cb-9bd09426914d",
   "metadata": {},
   "outputs": [],
   "source": [
    "for year in project_years:\n",
    "    filtered =  (all_projects.loc[all_projects[\"Award Year\"] == year]).reset_index(drop = True)\n",
    "    exec(f\"df_{year} = group_sheet(filtered)\")"
   ]
  },
  {
   "cell_type": "code",
   "execution_count": 41,
   "id": "30c1556f-549d-4602-8029-a80a715f31f3",
   "metadata": {},
   "outputs": [],
   "source": [
    "for df in [df_2015, df_2016, df_2018, df_2020]: \n",
    "    exec(f\"df_{year} = group_sheet(filtered)\")"
   ]
  },
  {
   "cell_type": "code",
   "execution_count": 42,
   "id": "3364a7c6-befc-444f-a368-669937a8e3bf",
   "metadata": {},
   "outputs": [],
   "source": [
    "def create_quarterly_billing(previous_TIRCP_file_name: str, previous_TIRCP_sheet_name: str):\n",
    "    \n",
    "    # Call the merged Allocation-Project sheet\n",
    "    all_projects = full_merge()\n",
    "    \n",
    "    # Get a list of all the years\n",
    "    project_years = all_projects['Award Year'].astype('int64').unique().tolist()\n",
    "\n",
    "    # Get the new project Ids \n",
    "    new_project_ids = get_new_project_ids(previous_TIRCP_file_name, previous_TIRCP_sheet_name)\n",
    "    \n",
    "    # Group the dataframes, split by year\n",
    "    for year in project_years:\n",
    "        filtered =  (all_projects.loc[all_projects[\"Award Year\"] == year]).reset_index(drop = True)\n",
    "        exec(f\"df_{year} = group_sheet(filtered)\")\n",
    "        \n",
    "    # Save \n",
    "    with pd.ExcelWriter(f\"{A1_data_prep.GCS_FILE_PATH}quarterly_billing.xlsx\") as writer:\n",
    "        df_2015.to_excel(writer, sheet_name=\"TIRCP_Selected_Projects_2015\", index=True)\n",
    "        df_2016.to_excel(writer, sheet_name=\"TIRCP_Selected_Projects_2016\", index=True)\n",
    "        df_2018.to_excel(writer, sheet_name=\"TIRCP_Selected_Projects_2018\", index=True)\n",
    "        df_2020.to_excel(writer, sheet_name=\"TIRCP_Selected_Projects_2020\", index=True)\n",
    "    print(\"Saved to GCS.\")\n",
    "\n",
    "    return df_2015"
   ]
  },
  {
   "cell_type": "code",
   "execution_count": 48,
   "id": "bfafba03-b687-458b-aff8-5279f735bcdd",
   "metadata": {
    "tags": []
   },
   "outputs": [
    {
     "name": "stderr",
     "output_type": "stream",
     "text": [
      "/opt/conda/lib/python3.9/site-packages/openpyxl/worksheet/_reader.py:312: UserWarning: Data Validation extension is not supported and will be removed\n",
      "  warn(msg)\n"
     ]
    },
    {
     "name": "stdout",
     "output_type": "stream",
     "text": [
      "Saved to GCS.\n"
     ]
    }
   ],
   "source": [
    "test =  create_quarterly_billing(\"fake_allocation_sheet.xlsx\", \"fake_aa\")"
   ]
  },
  {
   "cell_type": "code",
   "execution_count": 44,
   "id": "931be7e7-7ae9-4161-9300-73c31bda5701",
   "metadata": {},
   "outputs": [],
   "source": [
    "# merge2[\"Award Year\"].unique()"
   ]
  },
  {
   "cell_type": "code",
   "execution_count": 45,
   "id": "9f5b5941-a827-4d9f-9dc7-3837ed8ba5ac",
   "metadata": {},
   "outputs": [],
   "source": [
    "#for year in project_years:\n",
    "#    filtered =  (merge2.loc[merge2[\"Award Year\"] == year]).reset_index(drop = True)\n",
    "#    exec(f\"df_{year} = group_sheet(filtered)\")"
   ]
  },
  {
   "cell_type": "code",
   "execution_count": 46,
   "id": "cfca351e-bf78-45a8-a1e5-cc0a127e4fdf",
   "metadata": {},
   "outputs": [],
   "source": [
    "# df_2015"
   ]
  }
 ],
 "metadata": {
  "kernelspec": {
   "display_name": "Python 3 (ipykernel)",
   "language": "python",
   "name": "python3"
  },
  "language_info": {
   "codemirror_mode": {
    "name": "ipython",
    "version": 3
   },
   "file_extension": ".py",
   "mimetype": "text/x-python",
   "name": "python",
   "nbconvert_exporter": "python",
   "pygments_lexer": "ipython3",
   "version": "3.9.13"
  }
 },
 "nbformat": 4,
 "nbformat_minor": 5
}
