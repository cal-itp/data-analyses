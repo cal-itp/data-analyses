{
 "cells": [
  {
   "cell_type": "markdown",
   "id": "98f6f9e5-b009-42b9-8c27-2ac6d96c2c2a",
   "metadata": {},
   "source": [
    "## Quarterly billing or new project report \n",
    "* Pull a quarterly billing or new project report from the TIRCP spreadsheet of any new allocations (new project IDs) made since the previous report?\n",
    "* New projects highlighted in yellow\n",
    "* Sort small Project ID to larger project ID\n",
    "* Include existing projects (no highlight)\n",
    "* Each cycle its own tab!"
   ]
  },
  {
   "cell_type": "markdown",
   "id": "d1f3acf7-79af-4674-9e02-e20585fa83e9",
   "metadata": {},
   "source": [
    "### Columns to keep\n",
    "* Project ID\t\n",
    "* EA\t\n",
    "* Ph.\t\n",
    "* Dist.\t\n",
    "* Recipient\t\n",
    "* Project\t\n",
    "* Amount Available\t\n",
    "* Allocation Amount\t\n",
    "* Fund Type\t\n",
    "* Budget Year\t\n",
    "* Appropriation\t\n",
    "* CTC Allocation Date"
   ]
  },
  {
   "cell_type": "code",
   "execution_count": 1,
   "id": "ad4424ce-11be-43cf-921f-e1487f1fe62b",
   "metadata": {},
   "outputs": [],
   "source": [
    "import A1_data_prep\n",
    "import A2_tableau\n",
    "import A7_accounting_analysis\n",
    "import numpy as np\n",
    "import pandas as pd\n",
    "from babel.numbers import format_currency\n",
    "from calitp import *\n",
    "\n",
    "pd.options.display.max_columns = 100\n",
    "pd.options.display.float_format = \"{:.2f}\".format\n",
    "pd.set_option(\"display.max_rows\", None)\n",
    "pd.set_option(\"display.max_colwidth\", None)"
   ]
  },
  {
   "cell_type": "code",
   "execution_count": 2,
   "id": "0cf347c3-a6da-41c2-94dd-17f6b9efd0dc",
   "metadata": {},
   "outputs": [
    {
     "name": "stderr",
     "output_type": "stream",
     "text": [
      "/opt/conda/lib/python3.9/site-packages/openpyxl/worksheet/_reader.py:312: UserWarning: Data Validation extension is not supported and will be removed\n",
      "  warn(msg)\n"
     ]
    }
   ],
   "source": [
    "# Load in sheets\n",
    "project = A1_data_prep.clean_project()\n",
    "alloc = A1_data_prep.clean_allocation()"
   ]
  },
  {
   "cell_type": "markdown",
   "id": "5e186e63-7cd7-4f1c-9503-4a122be5e89a",
   "metadata": {},
   "source": [
    "#### Function 1: Load \"Previous\" Allocation Sheet "
   ]
  },
  {
   "cell_type": "code",
   "execution_count": 83,
   "id": "894e5f21-b74e-4d6f-aacc-fe659d2c883d",
   "metadata": {},
   "outputs": [],
   "source": [
    "def load_previous_allocation(file_path: str, previous_sheet_name: str):\n",
    "    # Load in previous allocation sheet\n",
    "    previous_allocation = to_snakecase(\n",
    "        pd.read_excel(\n",
    "            f\"{A1_data_prep.GCS_FILE_PATH}{file_path}\", sheet_name=previous_sheet_name\n",
    "        )\n",
    "    )\n",
    "\n",
    "    # Clean project ID\n",
    "    previous_allocation = A7_accounting_analysis.clean_project_ids(\n",
    "        previous_allocation, \"project_id\"\n",
    "    )\n",
    "\n",
    "    # Coerce project ID to numeric\n",
    "    previous_allocation.project_id = previous_allocation.project_id.apply(\n",
    "        pd.to_numeric, errors=\"coerce\"\n",
    "    )\n",
    "\n",
    "    # Get set the \"previous\" project ids\n",
    "    previous_project_ids = set(previous_allocation.project_id.unique().tolist())\n",
    "\n",
    "    return previous_project_ids"
   ]
  },
  {
   "cell_type": "code",
   "execution_count": 85,
   "id": "13b1634a-0f92-4684-b55e-a9a77815a66e",
   "metadata": {},
   "outputs": [],
   "source": [
    "test_set = load_previous_allocation(\"fake_allocation_sheet.xlsx\", \"fake_aa\")"
   ]
  },
  {
   "cell_type": "code",
   "execution_count": 87,
   "id": "3ec45255-5bd2-4e08-97cc-f2b4c53d9a9f",
   "metadata": {},
   "outputs": [
    {
     "data": {
      "text/plain": [
       "set"
      ]
     },
     "execution_count": 87,
     "metadata": {},
     "output_type": "execute_result"
    }
   ],
   "source": [
    "type(test_set)"
   ]
  },
  {
   "cell_type": "code",
   "execution_count": 35,
   "id": "d61ec7af-81ec-484f-83e7-53cfeb9e48e8",
   "metadata": {},
   "outputs": [],
   "source": [
    "# Load in \"previous allocation\"\n",
    "# previous_allocation = to_snakecase(\n",
    "#        pd.read_excel(\n",
    "#            f\"{A1_data_prep.GCS_FILE_PATH}fake_allocation_sheet.xlsx\", sheet_name=\"fake_aa\"\n",
    "#        )\n",
    "#    )"
   ]
  },
  {
   "cell_type": "code",
   "execution_count": 38,
   "id": "25dc90a3-f9a6-4aae-bf71-992e7f112a37",
   "metadata": {},
   "outputs": [],
   "source": [
    "# Clean up Project ID\n",
    "# previous_allocation = A7_accounting_analysis.clean_project_ids(\n",
    "#    previous_allocation,\n",
    "#    \"project_id\",\n",
    "# )"
   ]
  },
  {
   "cell_type": "code",
   "execution_count": 39,
   "id": "1934dfaa-8431-4be6-8c28-eb954b5a306a",
   "metadata": {},
   "outputs": [],
   "source": [
    "# previous_allocation.project_id = previous_allocation.project_id.apply(\n",
    "#    pd.to_numeric, errors=\"coerce\"\n",
    "# )"
   ]
  },
  {
   "cell_type": "markdown",
   "id": "5391bfe8-9893-4aee-82d7-41f5dc6399d1",
   "metadata": {},
   "source": [
    "#### Function 2: Allocation Sheet \"Current\""
   ]
  },
  {
   "cell_type": "code",
   "execution_count": 4,
   "id": "cbdd0688-1680-4495-8390-68e8e3255a95",
   "metadata": {},
   "outputs": [],
   "source": [
    "# Columns for allocation subset\n",
    "alloc_subset = [\n",
    "    \"allocation_award_year\",\n",
    "    \"allocation_ppno\",\n",
    "    \"allocation_project_id\",\n",
    "    \"allocation_ea\",\n",
    "    \"allocation_grant_recipient\",\n",
    "    \"allocation_phase\",\n",
    "    \"allocation_allocation_amount\",\n",
    "    \"allocation_sb1_funding\",\n",
    "    \"allocation_sb1_budget_year\",\n",
    "    \"allocation_ggrf_funding\",\n",
    "    \"allocation_ggrf_budget_year\",\n",
    "    \"allocation_allocation_date\",\n",
    "]"
   ]
  },
  {
   "cell_type": "code",
   "execution_count": 19,
   "id": "87bcc112-245d-4fab-9eff-ecdd709b06d4",
   "metadata": {},
   "outputs": [],
   "source": [
    "# Subset\n",
    "alloc2 = alloc[alloc_subset]"
   ]
  },
  {
   "cell_type": "code",
   "execution_count": 10,
   "id": "bed6ce2b-2794-471b-a8a6-2c08369570f1",
   "metadata": {},
   "outputs": [
    {
     "name": "stderr",
     "output_type": "stream",
     "text": [
      "/home/jovyan/data-analyses/tircp/A7_accounting_analysis.py:9: SettingWithCopyWarning: \n",
      "A value is trying to be set on a copy of a slice from a DataFrame.\n",
      "Try using .loc[row_indexer,col_indexer] = value instead\n",
      "\n",
      "See the caveats in the documentation: https://pandas.pydata.org/pandas-docs/stable/user_guide/indexing.html#returning-a-view-versus-a-copy\n",
      "  df[project_id_col] = df[project_id_col].astype(\"str\")\n",
      "/home/jovyan/data-analyses/tircp/A7_accounting_analysis.py:13: SettingWithCopyWarning: \n",
      "A value is trying to be set on a copy of a slice from a DataFrame.\n",
      "Try using .loc[row_indexer,col_indexer] = value instead\n",
      "\n",
      "See the caveats in the documentation: https://pandas.pydata.org/pandas-docs/stable/user_guide/indexing.html#returning-a-view-versus-a-copy\n",
      "  df[project_id_col] = df[project_id_col].apply(\n",
      "/home/jovyan/data-analyses/tircp/A7_accounting_analysis.py:18: SettingWithCopyWarning: \n",
      "A value is trying to be set on a copy of a slice from a DataFrame.\n",
      "Try using .loc[row_indexer,col_indexer] = value instead\n",
      "\n",
      "See the caveats in the documentation: https://pandas.pydata.org/pandas-docs/stable/user_guide/indexing.html#returning-a-view-versus-a-copy\n",
      "  df[project_id_col] = df[project_id_col].str.slice(start=0, stop=8)\n"
     ]
    }
   ],
   "source": [
    "# Clean up Project IDs\n",
    "alloc2 = A7_accounting_analysis.clean_project_ids(\n",
    "    alloc2,\n",
    "    \"allocation_project_id\",\n",
    ")"
   ]
  },
  {
   "cell_type": "code",
   "execution_count": 12,
   "id": "85da5a66-ce32-4398-82ec-ac15f67582f9",
   "metadata": {
    "scrolled": true,
    "tags": []
   },
   "outputs": [],
   "source": [
    "# Filter out any project IDs that are none.\n",
    "alloc2 = (alloc2.loc[alloc2.allocation_project_id != \"None\"]).reset_index(drop=True)"
   ]
  },
  {
   "cell_type": "code",
   "execution_count": 18,
   "id": "7b7975a3-d03b-4edf-95bd-b36b4dd3a3e7",
   "metadata": {},
   "outputs": [
    {
     "data": {
      "text/plain": [
       "(280, 94, 374)"
      ]
     },
     "execution_count": 18,
     "metadata": {},
     "output_type": "execute_result"
    }
   ],
   "source": [
    "len(alloc2), len(alloc.loc[alloc.allocation_project_id == \"None\"]), len(alloc)"
   ]
  },
  {
   "cell_type": "code",
   "execution_count": 22,
   "id": "d95b4f22-703c-4c9a-805e-8ba7c5a861ac",
   "metadata": {
    "tags": []
   },
   "outputs": [
    {
     "name": "stderr",
     "output_type": "stream",
     "text": [
      "/opt/conda/lib/python3.9/site-packages/pandas/core/generic.py:5516: SettingWithCopyWarning: \n",
      "A value is trying to be set on a copy of a slice from a DataFrame.\n",
      "Try using .loc[row_indexer,col_indexer] = value instead\n",
      "\n",
      "See the caveats in the documentation: https://pandas.pydata.org/pandas-docs/stable/user_guide/indexing.html#returning-a-view-versus-a-copy\n",
      "  self[name] = value\n"
     ]
    }
   ],
   "source": [
    "# Coerce project Ids to numeric\n",
    "alloc2.allocation_project_id = alloc2.allocation_project_id.apply(\n",
    "    pd.to_numeric, errors=\"coerce\"\n",
    ")"
   ]
  },
  {
   "cell_type": "markdown",
   "id": "f499a63e-62c6-4dfa-8f5e-ab3dcf1b4595",
   "metadata": {
    "tags": []
   },
   "source": [
    "#### Function 3:  Compare new versus old project ids"
   ]
  },
  {
   "cell_type": "code",
   "execution_count": 45,
   "id": "6c6fd08d-fa9a-4e94-a252-377f40d05417",
   "metadata": {},
   "outputs": [],
   "source": [
    "# Get list the \"previous\" project ids\n",
    "previous_project_ids = set(previous_allocation.project_id.unique().tolist())"
   ]
  },
  {
   "cell_type": "code",
   "execution_count": 50,
   "id": "0e366bd4-eede-4ce7-bfd6-ca21d1f6ecb8",
   "metadata": {},
   "outputs": [],
   "source": [
    "# Get list of the \"new\" project ids\n",
    "current_project_ids = set(alloc2.allocation_project_id.unique().tolist())"
   ]
  },
  {
   "cell_type": "code",
   "execution_count": 51,
   "id": "5a01e825-ed86-4c49-83da-3163ff2fe90f",
   "metadata": {},
   "outputs": [],
   "source": [
    "new_project_ids = list(current_project_ids - previous_project_ids)"
   ]
  },
  {
   "cell_type": "code",
   "execution_count": 52,
   "id": "ff00b798-0cdb-4301-8ad4-de12572e0127",
   "metadata": {},
   "outputs": [
    {
     "data": {
      "text/plain": [
       "[nan, 1.0, 2.0, 3.0, 4.0, 2203000019.0, 200000283.0]"
      ]
     },
     "execution_count": 52,
     "metadata": {},
     "output_type": "execute_result"
    }
   ],
   "source": [
    "new_project_ids"
   ]
  },
  {
   "cell_type": "markdown",
   "id": "d4abe35b-6eac-48a0-a984-be8b7435bb07",
   "metadata": {},
   "source": [
    "#### Function 4: Project Sheet\n",
    "* Test with 2016 first"
   ]
  },
  {
   "cell_type": "code",
   "execution_count": 20,
   "id": "ce03e656-f45b-4c38-ba1d-1789c97b2ab6",
   "metadata": {},
   "outputs": [],
   "source": [
    "project_subset = [\n",
    "    \"project_grant_recipient\",\n",
    "    \"project_project_title\",\n",
    "    \"project_tircp_award_amount__$_\",\n",
    "    \"project_ppno\",\n",
    "    \"project_district\",\n",
    "    \"project_award_year\",\n",
    "]"
   ]
  },
  {
   "cell_type": "code",
   "execution_count": 21,
   "id": "b8705ef4-51d5-40c1-81b3-aded3cb84a30",
   "metadata": {},
   "outputs": [],
   "source": [
    "# Subset\n",
    "project2 = project[project_subset]"
   ]
  },
  {
   "cell_type": "code",
   "execution_count": 23,
   "id": "2113f6ae-0829-4080-b9c7-995f078efaca",
   "metadata": {},
   "outputs": [],
   "source": [
    "# Filter\n",
    "project2 = (project2.loc[project2.project_award_year == 2016]).reset_index(drop=True)"
   ]
  },
  {
   "cell_type": "markdown",
   "id": "69248505-6433-41d8-92dd-ebfd53c86544",
   "metadata": {},
   "source": [
    "### Functions 5-7: Create the sheet\n",
    "* One function for the first merge\n",
    "* One for the melt \n",
    "* One for merging the original merged df with the melted values"
   ]
  },
  {
   "cell_type": "code",
   "execution_count": 24,
   "id": "5dee2ed2-3c01-4053-8ce1-7d2beb01db3e",
   "metadata": {},
   "outputs": [],
   "source": [
    "# Merge the allocation w/ project sheet\n",
    "m1 = pd.merge(\n",
    "    alloc2,\n",
    "    project2,\n",
    "    how=\"inner\",\n",
    "    left_on=[\"allocation_ppno\", \"allocation_award_year\"],\n",
    "    right_on=[\"project_ppno\", \"project_award_year\"],\n",
    "    indicator=True,\n",
    ")"
   ]
  },
  {
   "cell_type": "code",
   "execution_count": 25,
   "id": "7c17f2b9-6747-4479-95e8-342b692d4250",
   "metadata": {},
   "outputs": [
    {
     "data": {
      "text/plain": [
       "(39, 19)"
      ]
     },
     "execution_count": 25,
     "metadata": {},
     "output_type": "execute_result"
    }
   ],
   "source": [
    "m1.shape"
   ]
  },
  {
   "cell_type": "code",
   "execution_count": 26,
   "id": "c927bff2-e8ec-455d-b0ef-04aa4e0a5945",
   "metadata": {
    "scrolled": true,
    "tags": []
   },
   "outputs": [],
   "source": [
    "# Melt based on project id\n",
    "ggrf_sb1_values = pd.melt(\n",
    "    m1,\n",
    "    id_vars=[\"allocation_project_id\"],\n",
    "    value_vars=[\"allocation_sb1_funding\", \"allocation_ggrf_funding\"],\n",
    ")"
   ]
  },
  {
   "cell_type": "code",
   "execution_count": 27,
   "id": "d7925b49-33bc-4481-b6c6-f694b49da9dc",
   "metadata": {},
   "outputs": [],
   "source": [
    "# Keep only values above 1\n",
    "ggrf_sb1_values = (\n",
    "    (ggrf_sb1_values.loc[ggrf_sb1_values[\"value\"] > 0.00])\n",
    "    .reset_index(drop=True)\n",
    "    .rename(columns={\"variable\": \"Fund Type\", \"value\": \"Allocation Amount\"})\n",
    ")"
   ]
  },
  {
   "cell_type": "code",
   "execution_count": 28,
   "id": "1106b470-85f7-4c66-af83-0777bd582f58",
   "metadata": {},
   "outputs": [],
   "source": [
    "# Merge the m1 w/  ggrf_sb1_values\n",
    "m2 = pd.merge(\n",
    "    m1.drop(columns=[\"_merge\"]),\n",
    "    ggrf_sb1_values,\n",
    "    how=\"left\",\n",
    "    on=[\"allocation_project_id\"],\n",
    ")"
   ]
  },
  {
   "cell_type": "code",
   "execution_count": 29,
   "id": "b1ee84da-3536-4f29-9cbc-7a70aed16ec0",
   "metadata": {},
   "outputs": [],
   "source": [
    "m3 = m2.drop_duplicates().sort_values(\"allocation_project_id\")"
   ]
  },
  {
   "cell_type": "code",
   "execution_count": 43,
   "id": "2cfe0e78-fe52-49da-9954-678e4d2fe0f7",
   "metadata": {},
   "outputs": [
    {
     "data": {
      "text/plain": [
       "Index(['allocation_award_year', 'allocation_ppno', 'allocation_project_id',\n",
       "       'allocation_ea', 'allocation_grant_recipient', 'allocation_phase',\n",
       "       'allocation_allocation_amount', 'allocation_sb1_funding',\n",
       "       'allocation_sb1_budget_year', 'allocation_ggrf_funding',\n",
       "       'allocation_ggrf_budget_year', 'allocation_allocation_date'],\n",
       "      dtype='object')"
      ]
     },
     "execution_count": 43,
     "metadata": {},
     "output_type": "execute_result"
    }
   ],
   "source": [
    "alloc2.columns"
   ]
  },
  {
   "cell_type": "markdown",
   "id": "85539d66-494a-46b6-8cf3-abd5cc3194c6",
   "metadata": {},
   "source": [
    "### Function 8: Groupby to create sheet "
   ]
  },
  {
   "cell_type": "code",
   "execution_count": 66,
   "id": "acb5f768-2974-4f84-9867-168e7d724044",
   "metadata": {},
   "outputs": [],
   "source": [
    "# Duplicate project ID so can apply highlightinbg\n",
    "m3[\"allocation_project_id_2\"] = m3.allocation_project_id"
   ]
  },
  {
   "cell_type": "code",
   "execution_count": 89,
   "id": "6d935831-8183-457f-b2c6-01ee43753853",
   "metadata": {},
   "outputs": [],
   "source": [
    "groupby_cols = [\n",
    "    \"project_project_title\",\n",
    "    \"allocation_grant_recipient\",\n",
    "    \"project_district\",\n",
    "    \"project_tircp_award_amount__$_\",\n",
    "    \"allocation_project_id\",\n",
    "    \"allocation_phase\",\n",
    "    \"allocation_ea\",\n",
    "    \"allocation_sb1_budget_year\",\n",
    "    \"allocation_ggrf_budget_year\",\n",
    "    \"allocation_award_year\",\n",
    "    \"Fund Type\",\n",
    "]"
   ]
  },
  {
   "cell_type": "code",
   "execution_count": 90,
   "id": "827a61e1-8293-4a7d-990b-1b68ae06a0b0",
   "metadata": {
    "scrolled": true,
    "tags": []
   },
   "outputs": [],
   "source": [
    "grouped_test = m3.groupby(groupby_cols).agg(\n",
    "    {\"Allocation Amount\": \"max\", \"allocation_project_id_2\": \"max\"}\n",
    ")"
   ]
  },
  {
   "cell_type": "markdown",
   "id": "a5b4ccfc-3fb9-4235-b07a-83354d8ee95d",
   "metadata": {
    "tags": []
   },
   "source": [
    "### Function 9: Highlight new project ID"
   ]
  },
  {
   "cell_type": "code",
   "execution_count": 61,
   "id": "332b1855-5b2b-4d5b-a209-7c64ea19044d",
   "metadata": {},
   "outputs": [],
   "source": [
    "# https://stackoverflow.com/questions/68439695/pandas-highlight-specific-number-with-different-color-in-dataframe\n",
    "def HIGHLIGHT_COLOR(x):\n",
    "    def colour_switch(number):\n",
    "        if number in new_project_ids:\n",
    "            color = \"yellow\"\n",
    "        else:\n",
    "            # default\n",
    "            color = \"white\"\n",
    "\n",
    "        return color\n",
    "\n",
    "    return [f\"background-color: {colour_switch(number)}\" for number in x]"
   ]
  },
  {
   "cell_type": "code",
   "execution_count": 91,
   "id": "25031405-e78a-408c-a74f-4d227050ba6d",
   "metadata": {
    "scrolled": true,
    "tags": []
   },
   "outputs": [
    {
     "data": {
      "text/html": [
       "<style type=\"text/css\">\n",
       "#T_34de2_row0_col0, #T_34de2_row0_col1, #T_34de2_row1_col0, #T_34de2_row1_col1, #T_34de2_row2_col0, #T_34de2_row2_col1, #T_34de2_row3_col0, #T_34de2_row3_col1, #T_34de2_row4_col0, #T_34de2_row4_col1, #T_34de2_row5_col0, #T_34de2_row5_col1, #T_34de2_row6_col0, #T_34de2_row6_col1, #T_34de2_row7_col0, #T_34de2_row7_col1, #T_34de2_row8_col0, #T_34de2_row8_col1, #T_34de2_row9_col0, #T_34de2_row9_col1, #T_34de2_row10_col0, #T_34de2_row10_col1, #T_34de2_row11_col0, #T_34de2_row11_col1, #T_34de2_row12_col0, #T_34de2_row12_col1, #T_34de2_row13_col0, #T_34de2_row13_col1, #T_34de2_row14_col0, #T_34de2_row14_col1, #T_34de2_row15_col0, #T_34de2_row15_col1, #T_34de2_row16_col0, #T_34de2_row16_col1, #T_34de2_row17_col0, #T_34de2_row17_col1, #T_34de2_row18_col0, #T_34de2_row18_col1, #T_34de2_row19_col0, #T_34de2_row19_col1, #T_34de2_row20_col0, #T_34de2_row20_col1, #T_34de2_row21_col0, #T_34de2_row21_col1, #T_34de2_row22_col0, #T_34de2_row23_col0, #T_34de2_row23_col1, #T_34de2_row24_col0, #T_34de2_row24_col1, #T_34de2_row25_col0, #T_34de2_row25_col1, #T_34de2_row26_col0, #T_34de2_row26_col1, #T_34de2_row27_col0, #T_34de2_row27_col1, #T_34de2_row28_col0, #T_34de2_row28_col1, #T_34de2_row29_col0, #T_34de2_row29_col1, #T_34de2_row30_col0, #T_34de2_row30_col1 {\n",
       "  background-color: white;\n",
       "}\n",
       "#T_34de2_row22_col1 {\n",
       "  background-color: yellow;\n",
       "}\n",
       "</style>\n",
       "<table id=\"T_34de2_\">\n",
       "  <thead>\n",
       "    <tr>\n",
       "      <th class=\"blank\" >&nbsp;</th>\n",
       "      <th class=\"blank\" >&nbsp;</th>\n",
       "      <th class=\"blank\" >&nbsp;</th>\n",
       "      <th class=\"blank\" >&nbsp;</th>\n",
       "      <th class=\"blank\" >&nbsp;</th>\n",
       "      <th class=\"blank\" >&nbsp;</th>\n",
       "      <th class=\"blank\" >&nbsp;</th>\n",
       "      <th class=\"blank\" >&nbsp;</th>\n",
       "      <th class=\"blank\" >&nbsp;</th>\n",
       "      <th class=\"blank\" >&nbsp;</th>\n",
       "      <th class=\"blank level0\" >&nbsp;</th>\n",
       "      <th class=\"col_heading level0 col0\" >Allocation Amount</th>\n",
       "      <th class=\"col_heading level0 col1\" >allocation_project_id_2</th>\n",
       "    </tr>\n",
       "    <tr>\n",
       "      <th class=\"index_name level0\" >project_project_title</th>\n",
       "      <th class=\"index_name level1\" >allocation_grant_recipient</th>\n",
       "      <th class=\"index_name level2\" >project_district</th>\n",
       "      <th class=\"index_name level3\" >project_tircp_award_amount__$_</th>\n",
       "      <th class=\"index_name level4\" >allocation_project_id</th>\n",
       "      <th class=\"index_name level5\" >allocation_phase</th>\n",
       "      <th class=\"index_name level6\" >allocation_ea</th>\n",
       "      <th class=\"index_name level7\" >allocation_sb1_budget_year</th>\n",
       "      <th class=\"index_name level8\" >allocation_ggrf_budget_year</th>\n",
       "      <th class=\"index_name level9\" >allocation_award_year</th>\n",
       "      <th class=\"index_name level10\" >Fund Type</th>\n",
       "      <th class=\"blank col0\" >&nbsp;</th>\n",
       "      <th class=\"blank col1\" >&nbsp;</th>\n",
       "    </tr>\n",
       "  </thead>\n",
       "  <tbody>\n",
       "    <tr>\n",
       "      <th id=\"T_34de2_level0_row0\" class=\"row_heading level0 row0\" rowspan=\"4\"> ACE Near-Term Capacity Improvement Program\n",
       "</th>\n",
       "      <th id=\"T_34de2_level1_row0\" class=\"row_heading level1 row0\" rowspan=\"4\">San Joaquin Regional Rail Commission</th>\n",
       "      <th id=\"T_34de2_level2_row0\" class=\"row_heading level2 row0\" rowspan=\"4\">VAR</th>\n",
       "      <th id=\"T_34de2_level3_row0\" class=\"row_heading level3 row0\" rowspan=\"4\">16459000.0</th>\n",
       "      <th id=\"T_34de2_level4_row0\" class=\"row_heading level4 row0\" >18000009.0</th>\n",
       "      <th id=\"T_34de2_level5_row0\" class=\"row_heading level5 row0\" >PA&ED</th>\n",
       "      <th id=\"T_34de2_level6_row0\" class=\"row_heading level6 row0\" >R368GA</th>\n",
       "      <th id=\"T_34de2_level7_row0\" class=\"row_heading level7 row0\" >None</th>\n",
       "      <th id=\"T_34de2_level8_row0\" class=\"row_heading level8 row0\" >2016-17</th>\n",
       "      <th id=\"T_34de2_level9_row0\" class=\"row_heading level9 row0\" >2016.0</th>\n",
       "      <th id=\"T_34de2_level10_row0\" class=\"row_heading level10 row0\" >allocation_ggrf_funding</th>\n",
       "      <td id=\"T_34de2_row0_col0\" class=\"data row0 col0\" >250000.000000</td>\n",
       "      <td id=\"T_34de2_row0_col1\" class=\"data row0 col1\" >18000009.000000</td>\n",
       "    </tr>\n",
       "    <tr>\n",
       "      <th id=\"T_34de2_level4_row1\" class=\"row_heading level4 row1\" >18000010.0</th>\n",
       "      <th id=\"T_34de2_level5_row1\" class=\"row_heading level5 row1\" >CONST</th>\n",
       "      <th id=\"T_34de2_level6_row1\" class=\"row_heading level6 row1\" >R368GB</th>\n",
       "      <th id=\"T_34de2_level7_row1\" class=\"row_heading level7 row1\" >None</th>\n",
       "      <th id=\"T_34de2_level8_row1\" class=\"row_heading level8 row1\" >2016-17</th>\n",
       "      <th id=\"T_34de2_level9_row1\" class=\"row_heading level9 row1\" >2016.0</th>\n",
       "      <th id=\"T_34de2_level10_row1\" class=\"row_heading level10 row1\" >allocation_ggrf_funding</th>\n",
       "      <td id=\"T_34de2_row1_col0\" class=\"data row1 col0\" >7500000.000000</td>\n",
       "      <td id=\"T_34de2_row1_col1\" class=\"data row1 col1\" >18000010.000000</td>\n",
       "    </tr>\n",
       "    <tr>\n",
       "      <th id=\"T_34de2_level4_row2\" class=\"row_heading level4 row2\" >18000287.0</th>\n",
       "      <th id=\"T_34de2_level5_row2\" class=\"row_heading level5 row2\" >PS&E</th>\n",
       "      <th id=\"T_34de2_level6_row2\" class=\"row_heading level6 row2\" >R368GC</th>\n",
       "      <th id=\"T_34de2_level7_row2\" class=\"row_heading level7 row2\" >None</th>\n",
       "      <th id=\"T_34de2_level8_row2\" class=\"row_heading level8 row2\" >2016-17</th>\n",
       "      <th id=\"T_34de2_level9_row2\" class=\"row_heading level9 row2\" >2016.0</th>\n",
       "      <th id=\"T_34de2_level10_row2\" class=\"row_heading level10 row2\" >allocation_ggrf_funding</th>\n",
       "      <td id=\"T_34de2_row2_col0\" class=\"data row2 col0\" >500000.000000</td>\n",
       "      <td id=\"T_34de2_row2_col1\" class=\"data row2 col1\" >18000287.000000</td>\n",
       "    </tr>\n",
       "    <tr>\n",
       "      <th id=\"T_34de2_level4_row3\" class=\"row_heading level4 row3\" >22000242.0</th>\n",
       "      <th id=\"T_34de2_level5_row3\" class=\"row_heading level5 row3\" >CONST</th>\n",
       "      <th id=\"T_34de2_level6_row3\" class=\"row_heading level6 row3\" >R368GD</th>\n",
       "      <th id=\"T_34de2_level7_row3\" class=\"row_heading level7 row3\" >2020-21</th>\n",
       "      <th id=\"T_34de2_level8_row3\" class=\"row_heading level8 row3\" >None</th>\n",
       "      <th id=\"T_34de2_level9_row3\" class=\"row_heading level9 row3\" >2016.0</th>\n",
       "      <th id=\"T_34de2_level10_row3\" class=\"row_heading level10 row3\" >allocation_sb1_funding</th>\n",
       "      <td id=\"T_34de2_row3_col0\" class=\"data row3 col0\" >8459000.000000</td>\n",
       "      <td id=\"T_34de2_row3_col1\" class=\"data row3 col1\" >22000242.000000</td>\n",
       "    </tr>\n",
       "    <tr>\n",
       "      <th id=\"T_34de2_level0_row4\" class=\"row_heading level0 row4\" >Airport Metro Connector 96th Street Station/Metro Green Line Extension to LAX</th>\n",
       "      <th id=\"T_34de2_level1_row4\" class=\"row_heading level1 row4\" >Los Angeles County Metropolitan Transportation Authority</th>\n",
       "      <th id=\"T_34de2_level2_row4\" class=\"row_heading level2 row4\" >7</th>\n",
       "      <th id=\"T_34de2_level3_row4\" class=\"row_heading level3 row4\" >40000000.0</th>\n",
       "      <th id=\"T_34de2_level4_row4\" class=\"row_heading level4 row4\" >20000197.0</th>\n",
       "      <th id=\"T_34de2_level5_row4\" class=\"row_heading level5 row4\" >CONST</th>\n",
       "      <th id=\"T_34de2_level6_row4\" class=\"row_heading level6 row4\" >R435GA</th>\n",
       "      <th id=\"T_34de2_level7_row4\" class=\"row_heading level7 row4\" >None</th>\n",
       "      <th id=\"T_34de2_level8_row4\" class=\"row_heading level8 row4\" >2019-20</th>\n",
       "      <th id=\"T_34de2_level9_row4\" class=\"row_heading level9 row4\" >2016.0</th>\n",
       "      <th id=\"T_34de2_level10_row4\" class=\"row_heading level10 row4\" >allocation_ggrf_funding</th>\n",
       "      <td id=\"T_34de2_row4_col0\" class=\"data row4 col0\" >40000000.000000</td>\n",
       "      <td id=\"T_34de2_row4_col1\" class=\"data row4 col1\" >20000197.000000</td>\n",
       "    </tr>\n",
       "    <tr>\n",
       "      <th id=\"T_34de2_level0_row5\" class=\"row_heading level0 row5\" rowspan=\"8\">All Aboard: Transforming Southern California Rail Travel</th>\n",
       "      <th id=\"T_34de2_level1_row5\" class=\"row_heading level1 row5\" rowspan=\"8\">Los Angeles-San Diego-San Luis Obispo Rail Corridor Agency</th>\n",
       "      <th id=\"T_34de2_level2_row5\" class=\"row_heading level2 row5\" rowspan=\"8\">VAR</th>\n",
       "      <th id=\"T_34de2_level3_row5\" class=\"row_heading level3 row5\" rowspan=\"8\">82000000.0</th>\n",
       "      <th id=\"T_34de2_level4_row5\" class=\"row_heading level4 row5\" >17000182.0</th>\n",
       "      <th id=\"T_34de2_level5_row5\" class=\"row_heading level5 row5\" >CONST</th>\n",
       "      <th id=\"T_34de2_level6_row5\" class=\"row_heading level6 row5\" >R362GA</th>\n",
       "      <th id=\"T_34de2_level7_row5\" class=\"row_heading level7 row5\" >None</th>\n",
       "      <th id=\"T_34de2_level8_row5\" class=\"row_heading level8 row5\" >2016-17</th>\n",
       "      <th id=\"T_34de2_level9_row5\" class=\"row_heading level9 row5\" >2016.0</th>\n",
       "      <th id=\"T_34de2_level10_row5\" class=\"row_heading level10 row5\" >allocation_ggrf_funding</th>\n",
       "      <td id=\"T_34de2_row5_col0\" class=\"data row5 col0\" >49995000.000000</td>\n",
       "      <td id=\"T_34de2_row5_col1\" class=\"data row5 col1\" >17000182.000000</td>\n",
       "    </tr>\n",
       "    <tr>\n",
       "      <th id=\"T_34de2_level4_row6\" class=\"row_heading level4 row6\" >17000234.0</th>\n",
       "      <th id=\"T_34de2_level5_row6\" class=\"row_heading level5 row6\" >CONST</th>\n",
       "      <th id=\"T_34de2_level6_row6\" class=\"row_heading level6 row6\" >R366GA</th>\n",
       "      <th id=\"T_34de2_level7_row6\" class=\"row_heading level7 row6\" >None</th>\n",
       "      <th id=\"T_34de2_level8_row6\" class=\"row_heading level8 row6\" >2016-17</th>\n",
       "      <th id=\"T_34de2_level9_row6\" class=\"row_heading level9 row6\" >2016.0</th>\n",
       "      <th id=\"T_34de2_level10_row6\" class=\"row_heading level10 row6\" >allocation_ggrf_funding</th>\n",
       "      <td id=\"T_34de2_row6_col0\" class=\"data row6 col0\" >4017000.000000</td>\n",
       "      <td id=\"T_34de2_row6_col1\" class=\"data row6 col1\" >17000234.000000</td>\n",
       "    </tr>\n",
       "    <tr>\n",
       "      <th id=\"T_34de2_level4_row7\" class=\"row_heading level4 row7\" >18000175.0</th>\n",
       "      <th id=\"T_34de2_level5_row7\" class=\"row_heading level5 row7\" >CONST</th>\n",
       "      <th id=\"T_34de2_level6_row7\" class=\"row_heading level6 row7\" >R362GB</th>\n",
       "      <th id=\"T_34de2_level7_row7\" class=\"row_heading level7 row7\" >None</th>\n",
       "      <th id=\"T_34de2_level8_row7\" class=\"row_heading level8 row7\" >2016-17</th>\n",
       "      <th id=\"T_34de2_level9_row7\" class=\"row_heading level9 row7\" >2016.0</th>\n",
       "      <th id=\"T_34de2_level10_row7\" class=\"row_heading level10 row7\" >allocation_ggrf_funding</th>\n",
       "      <td id=\"T_34de2_row7_col0\" class=\"data row7 col0\" >11988000.000000</td>\n",
       "      <td id=\"T_34de2_row7_col1\" class=\"data row7 col1\" >18000175.000000</td>\n",
       "    </tr>\n",
       "    <tr>\n",
       "      <th id=\"T_34de2_level4_row8\" class=\"row_heading level4 row8\" >19000068.0</th>\n",
       "      <th id=\"T_34de2_level5_row8\" class=\"row_heading level5 row8\" >CONST</th>\n",
       "      <th id=\"T_34de2_level6_row8\" class=\"row_heading level6 row8\" >R401GB</th>\n",
       "      <th id=\"T_34de2_level7_row8\" class=\"row_heading level7 row8\" >None</th>\n",
       "      <th id=\"T_34de2_level8_row8\" class=\"row_heading level8 row8\" >2017-18</th>\n",
       "      <th id=\"T_34de2_level9_row8\" class=\"row_heading level9 row8\" >2016.0</th>\n",
       "      <th id=\"T_34de2_level10_row8\" class=\"row_heading level10 row8\" >allocation_ggrf_funding</th>\n",
       "      <td id=\"T_34de2_row8_col0\" class=\"data row8 col0\" >500000.000000</td>\n",
       "      <td id=\"T_34de2_row8_col1\" class=\"data row8 col1\" >19000068.000000</td>\n",
       "    </tr>\n",
       "    <tr>\n",
       "      <th id=\"T_34de2_level4_row9\" class=\"row_heading level4 row9\" >19000069.0</th>\n",
       "      <th id=\"T_34de2_level5_row9\" class=\"row_heading level5 row9\" >CONST</th>\n",
       "      <th id=\"T_34de2_level6_row9\" class=\"row_heading level6 row9\" >R401GA</th>\n",
       "      <th id=\"T_34de2_level7_row9\" class=\"row_heading level7 row9\" >None</th>\n",
       "      <th id=\"T_34de2_level8_row9\" class=\"row_heading level8 row9\" >2017-18</th>\n",
       "      <th id=\"T_34de2_level9_row9\" class=\"row_heading level9 row9\" >2016.0</th>\n",
       "      <th id=\"T_34de2_level10_row9\" class=\"row_heading level10 row9\" >allocation_ggrf_funding</th>\n",
       "      <td id=\"T_34de2_row9_col0\" class=\"data row9 col0\" >500000.000000</td>\n",
       "      <td id=\"T_34de2_row9_col1\" class=\"data row9 col1\" >19000069.000000</td>\n",
       "    </tr>\n",
       "    <tr>\n",
       "      <th id=\"T_34de2_level4_row10\" class=\"row_heading level4 row10\" >20000211.0</th>\n",
       "      <th id=\"T_34de2_level5_row10\" class=\"row_heading level5 row10\" >CONST</th>\n",
       "      <th id=\"T_34de2_level6_row10\" class=\"row_heading level6 row10\" >R366GB</th>\n",
       "      <th id=\"T_34de2_level7_row10\" class=\"row_heading level7 row10\" >None</th>\n",
       "      <th id=\"T_34de2_level8_row10\" class=\"row_heading level8 row10\" >2018-19</th>\n",
       "      <th id=\"T_34de2_level9_row10\" class=\"row_heading level9 row10\" >2016.0</th>\n",
       "      <th id=\"T_34de2_level10_row10\" class=\"row_heading level10 row10\" >allocation_ggrf_funding</th>\n",
       "      <td id=\"T_34de2_row10_col0\" class=\"data row10 col0\" >600000.000000</td>\n",
       "      <td id=\"T_34de2_row10_col1\" class=\"data row10 col1\" >20000211.000000</td>\n",
       "    </tr>\n",
       "    <tr>\n",
       "      <th id=\"T_34de2_level4_row11\" class=\"row_heading level4 row11\" >21000152.0</th>\n",
       "      <th id=\"T_34de2_level5_row11\" class=\"row_heading level5 row11\" >CONST</th>\n",
       "      <th id=\"T_34de2_level6_row11\" class=\"row_heading level6 row11\" >R401GC</th>\n",
       "      <th id=\"T_34de2_level7_row11\" class=\"row_heading level7 row11\" >None</th>\n",
       "      <th id=\"T_34de2_level8_row11\" class=\"row_heading level8 row11\" >2020-21</th>\n",
       "      <th id=\"T_34de2_level9_row11\" class=\"row_heading level9 row11\" >2016.0</th>\n",
       "      <th id=\"T_34de2_level10_row11\" class=\"row_heading level10 row11\" >allocation_ggrf_funding</th>\n",
       "      <td id=\"T_34de2_row11_col0\" class=\"data row11 col0\" >5860000.000000</td>\n",
       "      <td id=\"T_34de2_row11_col1\" class=\"data row11 col1\" >21000152.000000</td>\n",
       "    </tr>\n",
       "    <tr>\n",
       "      <th id=\"T_34de2_level4_row12\" class=\"row_heading level4 row12\" >21000154.0</th>\n",
       "      <th id=\"T_34de2_level5_row12\" class=\"row_heading level5 row12\" >CONST</th>\n",
       "      <th id=\"T_34de2_level6_row12\" class=\"row_heading level6 row12\" >R401GD</th>\n",
       "      <th id=\"T_34de2_level7_row12\" class=\"row_heading level7 row12\" >None</th>\n",
       "      <th id=\"T_34de2_level8_row12\" class=\"row_heading level8 row12\" >2019-20</th>\n",
       "      <th id=\"T_34de2_level9_row12\" class=\"row_heading level9 row12\" >2016.0</th>\n",
       "      <th id=\"T_34de2_level10_row12\" class=\"row_heading level10 row12\" >allocation_ggrf_funding</th>\n",
       "      <td id=\"T_34de2_row12_col0\" class=\"data row12 col0\" >1000000.000000</td>\n",
       "      <td id=\"T_34de2_row12_col1\" class=\"data row12 col1\" >21000154.000000</td>\n",
       "    </tr>\n",
       "    <tr>\n",
       "      <th id=\"T_34de2_level0_row13\" class=\"row_heading level0 row13\" rowspan=\"5\">Increased Rail Service to Roseville, Service Optimization and Standby Power Investments</th>\n",
       "      <th id=\"T_34de2_level1_row13\" class=\"row_heading level1 row13\" rowspan=\"5\">Capitol Corridor Joint Powers Authority</th>\n",
       "      <th id=\"T_34de2_level2_row13\" class=\"row_heading level2 row13\" rowspan=\"5\">3</th>\n",
       "      <th id=\"T_34de2_level3_row13\" class=\"row_heading level3 row13\" rowspan=\"5\">8999000.0</th>\n",
       "      <th id=\"T_34de2_level4_row13\" class=\"row_heading level4 row13\" >17000181.0</th>\n",
       "      <th id=\"T_34de2_level5_row13\" class=\"row_heading level5 row13\" >CONST</th>\n",
       "      <th id=\"T_34de2_level6_row13\" class=\"row_heading level6 row13\" >R361GA</th>\n",
       "      <th id=\"T_34de2_level7_row13\" class=\"row_heading level7 row13\" >None</th>\n",
       "      <th id=\"T_34de2_level8_row13\" class=\"row_heading level8 row13\" >2015-16</th>\n",
       "      <th id=\"T_34de2_level9_row13\" class=\"row_heading level9 row13\" >2016.0</th>\n",
       "      <th id=\"T_34de2_level10_row13\" class=\"row_heading level10 row13\" >allocation_ggrf_funding</th>\n",
       "      <td id=\"T_34de2_row13_col0\" class=\"data row13 col0\" >200000.000000</td>\n",
       "      <td id=\"T_34de2_row13_col1\" class=\"data row13 col1\" >17000181.000000</td>\n",
       "    </tr>\n",
       "    <tr>\n",
       "      <th id=\"T_34de2_level4_row14\" class=\"row_heading level4 row14\" >17000206.0</th>\n",
       "      <th id=\"T_34de2_level5_row14\" class=\"row_heading level5 row14\" >CONST</th>\n",
       "      <th id=\"T_34de2_level6_row14\" class=\"row_heading level6 row14\" >R361GB</th>\n",
       "      <th id=\"T_34de2_level7_row14\" class=\"row_heading level7 row14\" >None</th>\n",
       "      <th id=\"T_34de2_level8_row14\" class=\"row_heading level8 row14\" >2015-16</th>\n",
       "      <th id=\"T_34de2_level9_row14\" class=\"row_heading level9 row14\" >2016.0</th>\n",
       "      <th id=\"T_34de2_level10_row14\" class=\"row_heading level10 row14\" >allocation_ggrf_funding</th>\n",
       "      <td id=\"T_34de2_row14_col0\" class=\"data row14 col0\" >320000.000000</td>\n",
       "      <td id=\"T_34de2_row14_col1\" class=\"data row14 col1\" >17000206.000000</td>\n",
       "    </tr>\n",
       "    <tr>\n",
       "      <th id=\"T_34de2_level4_row15\" class=\"row_heading level4 row15\" rowspan=\"2\">17000233.0</th>\n",
       "      <th id=\"T_34de2_level5_row15\" class=\"row_heading level5 row15\" >PS&E</th>\n",
       "      <th id=\"T_34de2_level6_row15\" class=\"row_heading level6 row15\" >R361GC</th>\n",
       "      <th id=\"T_34de2_level7_row15\" class=\"row_heading level7 row15\" >None</th>\n",
       "      <th id=\"T_34de2_level8_row15\" class=\"row_heading level8 row15\" >2015-16</th>\n",
       "      <th id=\"T_34de2_level9_row15\" class=\"row_heading level9 row15\" >2016.0</th>\n",
       "      <th id=\"T_34de2_level10_row15\" class=\"row_heading level10 row15\" >allocation_ggrf_funding</th>\n",
       "      <td id=\"T_34de2_row15_col0\" class=\"data row15 col0\" >886000.000000</td>\n",
       "      <td id=\"T_34de2_row15_col1\" class=\"data row15 col1\" >17000233.000000</td>\n",
       "    </tr>\n",
       "    <tr>\n",
       "      <th id=\"T_34de2_level5_row16\" class=\"row_heading level5 row16\" >R/W</th>\n",
       "      <th id=\"T_34de2_level6_row16\" class=\"row_heading level6 row16\" >R361GC1</th>\n",
       "      <th id=\"T_34de2_level7_row16\" class=\"row_heading level7 row16\" >None</th>\n",
       "      <th id=\"T_34de2_level8_row16\" class=\"row_heading level8 row16\" >2015-16</th>\n",
       "      <th id=\"T_34de2_level9_row16\" class=\"row_heading level9 row16\" >2016.0</th>\n",
       "      <th id=\"T_34de2_level10_row16\" class=\"row_heading level10 row16\" >allocation_ggrf_funding</th>\n",
       "      <td id=\"T_34de2_row16_col0\" class=\"data row16 col0\" >886000.000000</td>\n",
       "      <td id=\"T_34de2_row16_col1\" class=\"data row16 col1\" >17000233.000000</td>\n",
       "    </tr>\n",
       "    <tr>\n",
       "      <th id=\"T_34de2_level4_row17\" class=\"row_heading level4 row17\" >18000359.0</th>\n",
       "      <th id=\"T_34de2_level5_row17\" class=\"row_heading level5 row17\" >PS&E</th>\n",
       "      <th id=\"T_34de2_level6_row17\" class=\"row_heading level6 row17\" >R361GD</th>\n",
       "      <th id=\"T_34de2_level7_row17\" class=\"row_heading level7 row17\" >None</th>\n",
       "      <th id=\"T_34de2_level8_row17\" class=\"row_heading level8 row17\" >2017-18</th>\n",
       "      <th id=\"T_34de2_level9_row17\" class=\"row_heading level9 row17\" >2016.0</th>\n",
       "      <th id=\"T_34de2_level10_row17\" class=\"row_heading level10 row17\" >allocation_ggrf_funding</th>\n",
       "      <td id=\"T_34de2_row17_col0\" class=\"data row17 col0\" >2000000.000000</td>\n",
       "      <td id=\"T_34de2_row17_col1\" class=\"data row17 col1\" >18000359.000000</td>\n",
       "    </tr>\n",
       "    <tr>\n",
       "      <th id=\"T_34de2_level0_row18\" class=\"row_heading level0 row18\" >Light Rail Modernization and Expansion Program</th>\n",
       "      <th id=\"T_34de2_level1_row18\" class=\"row_heading level1 row18\" >San Francisco Municipal Transportation Agency</th>\n",
       "      <th id=\"T_34de2_level2_row18\" class=\"row_heading level2 row18\" >4</th>\n",
       "      <th id=\"T_34de2_level3_row18\" class=\"row_heading level3 row18\" >45092000.0</th>\n",
       "      <th id=\"T_34de2_level4_row18\" class=\"row_heading level4 row18\" >17000205.0</th>\n",
       "      <th id=\"T_34de2_level5_row18\" class=\"row_heading level5 row18\" >CONST</th>\n",
       "      <th id=\"T_34de2_level6_row18\" class=\"row_heading level6 row18\" >R344GB</th>\n",
       "      <th id=\"T_34de2_level7_row18\" class=\"row_heading level7 row18\" >None</th>\n",
       "      <th id=\"T_34de2_level8_row18\" class=\"row_heading level8 row18\" >2016-17</th>\n",
       "      <th id=\"T_34de2_level9_row18\" class=\"row_heading level9 row18\" >2016.0</th>\n",
       "      <th id=\"T_34de2_level10_row18\" class=\"row_heading level10 row18\" >allocation_ggrf_funding</th>\n",
       "      <td id=\"T_34de2_row18_col0\" class=\"data row18 col0\" >45092000.000000</td>\n",
       "      <td id=\"T_34de2_row18_col1\" class=\"data row18 col1\" >17000205.000000</td>\n",
       "    </tr>\n",
       "    <tr>\n",
       "      <th id=\"T_34de2_level0_row19\" class=\"row_heading level0 row19\" rowspan=\"3\">Metro Red Line and Purple Line Core Capacity Improvements</th>\n",
       "      <th id=\"T_34de2_level1_row19\" class=\"row_heading level1 row19\" rowspan=\"3\">Los Angeles County Metropolitan Transportation Authority</th>\n",
       "      <th id=\"T_34de2_level2_row19\" class=\"row_heading level2 row19\" rowspan=\"3\">7</th>\n",
       "      <th id=\"T_34de2_level3_row19\" class=\"row_heading level3 row19\" rowspan=\"3\">69209000.0</th>\n",
       "      <th id=\"T_34de2_level4_row19\" class=\"row_heading level4 row19\" >17000130.0</th>\n",
       "      <th id=\"T_34de2_level5_row19\" class=\"row_heading level5 row19\" >PA&ED</th>\n",
       "      <th id=\"T_34de2_level6_row19\" class=\"row_heading level6 row19\" >R360GA</th>\n",
       "      <th id=\"T_34de2_level7_row19\" class=\"row_heading level7 row19\" >None</th>\n",
       "      <th id=\"T_34de2_level8_row19\" class=\"row_heading level8 row19\" >2016-17</th>\n",
       "      <th id=\"T_34de2_level9_row19\" class=\"row_heading level9 row19\" >2016.0</th>\n",
       "      <th id=\"T_34de2_level10_row19\" class=\"row_heading level10 row19\" >allocation_ggrf_funding</th>\n",
       "      <td id=\"T_34de2_row19_col0\" class=\"data row19 col0\" >1908000.000000</td>\n",
       "      <td id=\"T_34de2_row19_col1\" class=\"data row19 col1\" >17000130.000000</td>\n",
       "    </tr>\n",
       "    <tr>\n",
       "      <th id=\"T_34de2_level4_row20\" class=\"row_heading level4 row20\" >17000240.0</th>\n",
       "      <th id=\"T_34de2_level5_row20\" class=\"row_heading level5 row20\" >PS&E</th>\n",
       "      <th id=\"T_34de2_level6_row20\" class=\"row_heading level6 row20\" >R360GB</th>\n",
       "      <th id=\"T_34de2_level7_row20\" class=\"row_heading level7 row20\" >None</th>\n",
       "      <th id=\"T_34de2_level8_row20\" class=\"row_heading level8 row20\" >2016-17</th>\n",
       "      <th id=\"T_34de2_level9_row20\" class=\"row_heading level9 row20\" >2016.0</th>\n",
       "      <th id=\"T_34de2_level10_row20\" class=\"row_heading level10 row20\" >allocation_ggrf_funding</th>\n",
       "      <td id=\"T_34de2_row20_col0\" class=\"data row20 col0\" >3101000.000000</td>\n",
       "      <td id=\"T_34de2_row20_col1\" class=\"data row20 col1\" >17000240.000000</td>\n",
       "    </tr>\n",
       "    <tr>\n",
       "      <th id=\"T_34de2_level4_row21\" class=\"row_heading level4 row21\" >20000081.0</th>\n",
       "      <th id=\"T_34de2_level5_row21\" class=\"row_heading level5 row21\" >CONST</th>\n",
       "      <th id=\"T_34de2_level6_row21\" class=\"row_heading level6 row21\" >R360GC</th>\n",
       "      <th id=\"T_34de2_level7_row21\" class=\"row_heading level7 row21\" >None</th>\n",
       "      <th id=\"T_34de2_level8_row21\" class=\"row_heading level8 row21\" >2019-20</th>\n",
       "      <th id=\"T_34de2_level9_row21\" class=\"row_heading level9 row21\" >2016.0</th>\n",
       "      <th id=\"T_34de2_level10_row21\" class=\"row_heading level10 row21\" >allocation_ggrf_funding</th>\n",
       "      <td id=\"T_34de2_row21_col0\" class=\"data row21 col0\" >64437000.000000</td>\n",
       "      <td id=\"T_34de2_row21_col1\" class=\"data row21 col1\" >20000081.000000</td>\n",
       "    </tr>\n",
       "    <tr>\n",
       "      <th id=\"T_34de2_level0_row22\" class=\"row_heading level0 row22\" rowspan=\"3\">Metropolitan Rapid Transit and Rail Connectivity Project</th>\n",
       "      <th id=\"T_34de2_level1_row22\" class=\"row_heading level1 row22\" rowspan=\"3\">City Of Fresno</th>\n",
       "      <th id=\"T_34de2_level2_row22\" class=\"row_heading level2 row22\" rowspan=\"3\">6</th>\n",
       "      <th id=\"T_34de2_level3_row22\" class=\"row_heading level3 row22\" rowspan=\"3\">8000000.0</th>\n",
       "      <th id=\"T_34de2_level4_row22\" class=\"row_heading level4 row22\" >2.0</th>\n",
       "      <th id=\"T_34de2_level5_row22\" class=\"row_heading level5 row22\" >CONST</th>\n",
       "      <th id=\"T_34de2_level6_row22\" class=\"row_heading level6 row22\" >T357GA</th>\n",
       "      <th id=\"T_34de2_level7_row22\" class=\"row_heading level7 row22\" >None</th>\n",
       "      <th id=\"T_34de2_level8_row22\" class=\"row_heading level8 row22\" >2016-17</th>\n",
       "      <th id=\"T_34de2_level9_row22\" class=\"row_heading level9 row22\" >2016.0</th>\n",
       "      <th id=\"T_34de2_level10_row22\" class=\"row_heading level10 row22\" >allocation_ggrf_funding</th>\n",
       "      <td id=\"T_34de2_row22_col0\" class=\"data row22 col0\" >4083000.000000</td>\n",
       "      <td id=\"T_34de2_row22_col1\" class=\"data row22 col1\" >2.000000</td>\n",
       "    </tr>\n",
       "    <tr>\n",
       "      <th id=\"T_34de2_level4_row23\" class=\"row_heading level4 row23\" >17000077.0</th>\n",
       "      <th id=\"T_34de2_level5_row23\" class=\"row_heading level5 row23\" >CONST</th>\n",
       "      <th id=\"T_34de2_level6_row23\" class=\"row_heading level6 row23\" >T357GA</th>\n",
       "      <th id=\"T_34de2_level7_row23\" class=\"row_heading level7 row23\" >None</th>\n",
       "      <th id=\"T_34de2_level8_row23\" class=\"row_heading level8 row23\" >2016-17</th>\n",
       "      <th id=\"T_34de2_level9_row23\" class=\"row_heading level9 row23\" >2016.0</th>\n",
       "      <th id=\"T_34de2_level10_row23\" class=\"row_heading level10 row23\" >allocation_ggrf_funding</th>\n",
       "      <td id=\"T_34de2_row23_col0\" class=\"data row23 col0\" >4083000.000000</td>\n",
       "      <td id=\"T_34de2_row23_col1\" class=\"data row23 col1\" >17000077.000000</td>\n",
       "    </tr>\n",
       "    <tr>\n",
       "      <th id=\"T_34de2_level4_row24\" class=\"row_heading level4 row24\" >20000215.0</th>\n",
       "      <th id=\"T_34de2_level5_row24\" class=\"row_heading level5 row24\" >CONST</th>\n",
       "      <th id=\"T_34de2_level6_row24\" class=\"row_heading level6 row24\" >T357GB</th>\n",
       "      <th id=\"T_34de2_level7_row24\" class=\"row_heading level7 row24\" >None</th>\n",
       "      <th id=\"T_34de2_level8_row24\" class=\"row_heading level8 row24\" >2019-20</th>\n",
       "      <th id=\"T_34de2_level9_row24\" class=\"row_heading level9 row24\" >2016.0</th>\n",
       "      <th id=\"T_34de2_level10_row24\" class=\"row_heading level10 row24\" >allocation_ggrf_funding</th>\n",
       "      <td id=\"T_34de2_row24_col0\" class=\"data row24 col0\" >3917000.000000</td>\n",
       "      <td id=\"T_34de2_row24_col1\" class=\"data row24 col1\" >20000215.000000</td>\n",
       "    </tr>\n",
       "    <tr>\n",
       "      <th id=\"T_34de2_level0_row25\" class=\"row_heading level0 row25\" rowspan=\"2\">OC Streetcar and OCTA System-Wide Mobile Ticketing</th>\n",
       "      <th id=\"T_34de2_level1_row25\" class=\"row_heading level1 row25\" rowspan=\"2\">Orange County Transportation Authority</th>\n",
       "      <th id=\"T_34de2_level2_row25\" class=\"row_heading level2 row25\" rowspan=\"2\">12</th>\n",
       "      <th id=\"T_34de2_level3_row25\" class=\"row_heading level3 row25\" rowspan=\"2\">28000000.0</th>\n",
       "      <th id=\"T_34de2_level4_row25\" class=\"row_heading level4 row25\" >17000044.0</th>\n",
       "      <th id=\"T_34de2_level5_row25\" class=\"row_heading level5 row25\" >CONST</th>\n",
       "      <th id=\"T_34de2_level6_row25\" class=\"row_heading level6 row25\" >T355GA</th>\n",
       "      <th id=\"T_34de2_level7_row25\" class=\"row_heading level7 row25\" >None</th>\n",
       "      <th id=\"T_34de2_level8_row25\" class=\"row_heading level8 row25\" >2015-16</th>\n",
       "      <th id=\"T_34de2_level9_row25\" class=\"row_heading level9 row25\" >2016.0</th>\n",
       "      <th id=\"T_34de2_level10_row25\" class=\"row_heading level10 row25\" >allocation_ggrf_funding</th>\n",
       "      <td id=\"T_34de2_row25_col0\" class=\"data row25 col0\" >2482000.000000</td>\n",
       "      <td id=\"T_34de2_row25_col1\" class=\"data row25 col1\" >17000044.000000</td>\n",
       "    </tr>\n",
       "    <tr>\n",
       "      <th id=\"T_34de2_level4_row26\" class=\"row_heading level4 row26\" >18000237.0</th>\n",
       "      <th id=\"T_34de2_level5_row26\" class=\"row_heading level5 row26\" >CONST</th>\n",
       "      <th id=\"T_34de2_level6_row26\" class=\"row_heading level6 row26\" >T355GB</th>\n",
       "      <th id=\"T_34de2_level7_row26\" class=\"row_heading level7 row26\" >None</th>\n",
       "      <th id=\"T_34de2_level8_row26\" class=\"row_heading level8 row26\" >2016-17</th>\n",
       "      <th id=\"T_34de2_level9_row26\" class=\"row_heading level9 row26\" >2016.0</th>\n",
       "      <th id=\"T_34de2_level10_row26\" class=\"row_heading level10 row26\" >allocation_ggrf_funding</th>\n",
       "      <td id=\"T_34de2_row26_col0\" class=\"data row26 col0\" >25586000.000000</td>\n",
       "      <td id=\"T_34de2_row26_col1\" class=\"data row26 col1\" >18000237.000000</td>\n",
       "    </tr>\n",
       "    <tr>\n",
       "      <th id=\"T_34de2_level0_row27\" class=\"row_heading level0 row27\" >Peninsula Corridor Electrification Project</th>\n",
       "      <th id=\"T_34de2_level1_row27\" class=\"row_heading level1 row27\" >Peninsula Corridor Joint Powers Board</th>\n",
       "      <th id=\"T_34de2_level2_row27\" class=\"row_heading level2 row27\" >4</th>\n",
       "      <th id=\"T_34de2_level3_row27\" class=\"row_heading level3 row27\" >20000000.0</th>\n",
       "      <th id=\"T_34de2_level4_row27\" class=\"row_heading level4 row27\" >17000183.0</th>\n",
       "      <th id=\"T_34de2_level5_row27\" class=\"row_heading level5 row27\" >CONST</th>\n",
       "      <th id=\"T_34de2_level6_row27\" class=\"row_heading level6 row27\" >R363GA</th>\n",
       "      <th id=\"T_34de2_level7_row27\" class=\"row_heading level7 row27\" >None</th>\n",
       "      <th id=\"T_34de2_level8_row27\" class=\"row_heading level8 row27\" >2016-17</th>\n",
       "      <th id=\"T_34de2_level9_row27\" class=\"row_heading level9 row27\" >2016.0</th>\n",
       "      <th id=\"T_34de2_level10_row27\" class=\"row_heading level10 row27\" >allocation_ggrf_funding</th>\n",
       "      <td id=\"T_34de2_row27_col0\" class=\"data row27 col0\" >20000000.000000</td>\n",
       "      <td id=\"T_34de2_row27_col1\" class=\"data row27 col1\" >17000183.000000</td>\n",
       "    </tr>\n",
       "    <tr>\n",
       "      <th id=\"T_34de2_level0_row28\" class=\"row_heading level0 row28\" >Transforming California: Bus Electrification, Service Expansion and Rail Integration</th>\n",
       "      <th id=\"T_34de2_level1_row28\" class=\"row_heading level1 row28\" >Foothill Transit</th>\n",
       "      <th id=\"T_34de2_level2_row28\" class=\"row_heading level2 row28\" >7</th>\n",
       "      <th id=\"T_34de2_level3_row28\" class=\"row_heading level3 row28\" >5000000.0</th>\n",
       "      <th id=\"T_34de2_level4_row28\" class=\"row_heading level4 row28\" >21000266.0</th>\n",
       "      <th id=\"T_34de2_level5_row28\" class=\"row_heading level5 row28\" >CONST</th>\n",
       "      <th id=\"T_34de2_level6_row28\" class=\"row_heading level6 row28\" >T465GA</th>\n",
       "      <th id=\"T_34de2_level7_row28\" class=\"row_heading level7 row28\" >None</th>\n",
       "      <th id=\"T_34de2_level8_row28\" class=\"row_heading level8 row28\" >2020-21</th>\n",
       "      <th id=\"T_34de2_level9_row28\" class=\"row_heading level9 row28\" >2016.0</th>\n",
       "      <th id=\"T_34de2_level10_row28\" class=\"row_heading level10 row28\" >allocation_ggrf_funding</th>\n",
       "      <td id=\"T_34de2_row28_col0\" class=\"data row28 col0\" >5000000.000000</td>\n",
       "      <td id=\"T_34de2_row28_col1\" class=\"data row28 col1\" >21000266.000000</td>\n",
       "    </tr>\n",
       "    <tr>\n",
       "      <th id=\"T_34de2_level0_row29\" class=\"row_heading level0 row29\" rowspan=\"2\">Zero Emission Bus and Vanpool Expansion in the Antelope Valley, Kern County and the Coachella Valley</th>\n",
       "      <th id=\"T_34de2_level1_row29\" class=\"row_heading level1 row29\" rowspan=\"2\">Antelope Valley Transit Authority</th>\n",
       "      <th id=\"T_34de2_level2_row29\" class=\"row_heading level2 row29\" rowspan=\"2\">7</th>\n",
       "      <th id=\"T_34de2_level3_row29\" class=\"row_heading level3 row29\" rowspan=\"2\">8930000.0</th>\n",
       "      <th id=\"T_34de2_level4_row29\" class=\"row_heading level4 row29\" >17000128.0</th>\n",
       "      <th id=\"T_34de2_level5_row29\" class=\"row_heading level5 row29\" >CONST</th>\n",
       "      <th id=\"T_34de2_level6_row29\" class=\"row_heading level6 row29\" >T358GA</th>\n",
       "      <th id=\"T_34de2_level7_row29\" class=\"row_heading level7 row29\" >None</th>\n",
       "      <th id=\"T_34de2_level8_row29\" class=\"row_heading level8 row29\" >2016-17</th>\n",
       "      <th id=\"T_34de2_level9_row29\" class=\"row_heading level9 row29\" >2016.0</th>\n",
       "      <th id=\"T_34de2_level10_row29\" class=\"row_heading level10 row29\" >allocation_ggrf_funding</th>\n",
       "      <td id=\"T_34de2_row29_col0\" class=\"data row29 col0\" >6481000.000000</td>\n",
       "      <td id=\"T_34de2_row29_col1\" class=\"data row29 col1\" >17000128.000000</td>\n",
       "    </tr>\n",
       "    <tr>\n",
       "      <th id=\"T_34de2_level4_row30\" class=\"row_heading level4 row30\" >17000129.0</th>\n",
       "      <th id=\"T_34de2_level5_row30\" class=\"row_heading level5 row30\" >CONST</th>\n",
       "      <th id=\"T_34de2_level6_row30\" class=\"row_heading level6 row30\" >T359GA</th>\n",
       "      <th id=\"T_34de2_level7_row30\" class=\"row_heading level7 row30\" >None</th>\n",
       "      <th id=\"T_34de2_level8_row30\" class=\"row_heading level8 row30\" >2016-17</th>\n",
       "      <th id=\"T_34de2_level9_row30\" class=\"row_heading level9 row30\" >2016.0</th>\n",
       "      <th id=\"T_34de2_level10_row30\" class=\"row_heading level10 row30\" >allocation_ggrf_funding</th>\n",
       "      <td id=\"T_34de2_row30_col0\" class=\"data row30 col0\" >2449000.000000</td>\n",
       "      <td id=\"T_34de2_row30_col1\" class=\"data row30 col1\" >17000129.000000</td>\n",
       "    </tr>\n",
       "  </tbody>\n",
       "</table>\n"
      ],
      "text/plain": [
       "<pandas.io.formats.style.Styler at 0x7f6df3f47820>"
      ]
     },
     "execution_count": 91,
     "metadata": {},
     "output_type": "execute_result"
    }
   ],
   "source": [
    "grouped_test.style.apply(HIGHLIGHT_COLOR)"
   ]
  },
  {
   "cell_type": "markdown",
   "id": "1b76f7b5-eb5c-46d8-84f4-7e10ff63b350",
   "metadata": {},
   "source": [
    "### Function 10: Wrap everything up. \n",
    "* Projects should be in different tabs based on whatever cycle they correspond with"
   ]
  }
 ],
 "metadata": {
  "kernelspec": {
   "display_name": "Python 3 (ipykernel)",
   "language": "python",
   "name": "python3"
  },
  "language_info": {
   "codemirror_mode": {
    "name": "ipython",
    "version": 3
   },
   "file_extension": ".py",
   "mimetype": "text/x-python",
   "name": "python",
   "nbconvert_exporter": "python",
   "pygments_lexer": "ipython3",
   "version": "3.9.13"
  }
 },
 "nbformat": 4,
 "nbformat_minor": 5
}
