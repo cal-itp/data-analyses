{
 "cells": [
  {
   "cell_type": "markdown",
   "id": "83709b77-d340-42e6-bbc4-35d683947460",
   "metadata": {},
   "source": [
    "## TIRCP Calsta\n",
    "* TIRCP outcomes for cycles 3-5 for California State Transportation Agency. \n",
    "* [Cycles 1-6](https://calsta.ca.gov/subject-areas/transit-intercity-rail-capital-prog)\n",
    "* Cycle 1: 2015\n",
    "* Cycle 2: 2016\n",
    "* Cycle 3: 2018\n",
    "* Cycle 4: 2020\n",
    "* Cycle 5: 2022\n",
    "* Cycle 6: 2023"
   ]
  },
  {
   "cell_type": "code",
   "execution_count": 3,
   "id": "de5e8978-cecf-44cf-9a92-e2282e3b2e61",
   "metadata": {
    "scrolled": true,
    "tags": []
   },
   "outputs": [],
   "source": [
    "import A1_data_prep\n",
    "import A2_tableau\n",
    "import numpy as np\n",
    "import pandas as pd\n",
    "from babel.numbers import format_currency\n",
    "from calitp import *"
   ]
  },
  {
   "cell_type": "code",
   "execution_count": 4,
   "id": "b4635aa5-1ab6-4247-a1be-61d59f07c4ff",
   "metadata": {},
   "outputs": [],
   "source": [
    "pd.options.display.max_columns = 100\n",
    "pd.options.display.float_format = \"{:.2f}\".format\n",
    "pd.set_option(\"display.max_rows\", None)\n",
    "pd.set_option(\"display.max_colwidth\", None)"
   ]
  },
  {
   "cell_type": "code",
   "execution_count": 5,
   "id": "b8d3d0ef-e239-4aeb-9f18-2ec76a39b012",
   "metadata": {},
   "outputs": [],
   "source": [
    "# GCS File Path:\n",
    "GCS_FILE_PATH = \"gs://calitp-analytics-data/data-analyses/tircp/\""
   ]
  },
  {
   "cell_type": "markdown",
   "id": "a2036b3c-036e-4fe5-b83f-31070ef5ac6d",
   "metadata": {},
   "source": [
    "### Manipulate TIRCP\n",
    "#### Filter out for cycles of interest"
   ]
  },
  {
   "cell_type": "code",
   "execution_count": 6,
   "id": "3f1cf84c-abdf-4f9d-9ba3-c18dbb893e84",
   "metadata": {},
   "outputs": [
    {
     "name": "stderr",
     "output_type": "stream",
     "text": [
      "/opt/conda/lib/python3.10/site-packages/openpyxl/worksheet/_reader.py:312: UserWarning: Data Validation extension is not supported and will be removed\n",
      "  warn(msg)\n"
     ]
    }
   ],
   "source": [
    "df_tircp = to_snakecase(A2_tableau.tableau_dashboard())"
   ]
  },
  {
   "cell_type": "code",
   "execution_count": 7,
   "id": "0ee8a7b6-d0b6-4f03-bb23-26ac63945f66",
   "metadata": {},
   "outputs": [],
   "source": [
    "df_tircp2 = df_tircp.loc[df_tircp[\"award_year\"] >= 2018].reset_index(drop=True)"
   ]
  },
  {
   "cell_type": "code",
   "execution_count": 8,
   "id": "1b38e500-55e1-4ade-b680-6bb91442116d",
   "metadata": {},
   "outputs": [],
   "source": [
    "# Sort df by award year and number\n",
    "df_tircp2 = df_tircp2.sort_values([\"award_year\", \"#\"])"
   ]
  },
  {
   "cell_type": "code",
   "execution_count": 9,
   "id": "28a9b24b-6b71-403e-bafa-ce5136107ae6",
   "metadata": {},
   "outputs": [
    {
     "data": {
      "text/plain": [
       "(2018    28\n",
       " 2022    23\n",
       " 2020    17\n",
       " Name: award_year, dtype: int64,)"
      ]
     },
     "execution_count": 9,
     "metadata": {},
     "output_type": "execute_result"
    }
   ],
   "source": [
    "df_tircp2.award_year.value_counts(),"
   ]
  },
  {
   "cell_type": "code",
   "execution_count": 10,
   "id": "8cb50778-8663-4f81-bab3-bcd27eae8d6d",
   "metadata": {},
   "outputs": [
    {
     "data": {
      "text/plain": [
       "(59, 67, 68)"
      ]
     },
     "execution_count": 10,
     "metadata": {},
     "output_type": "execute_result"
    }
   ],
   "source": [
    "df_tircp2.ppno.nunique(), df_tircp2.title.nunique(), len(df_tircp2)"
   ]
  },
  {
   "cell_type": "code",
   "execution_count": 11,
   "id": "c966ae9c-7ef1-4df4-a12d-90b723d35f1a",
   "metadata": {},
   "outputs": [
    {
     "data": {
      "text/plain": [
       "North State Intercity Bus System                                                                    2\n",
       "Purchase Zero Emission High Capacity Buses to Support Transbay Tomorrow and Clean Corridors Plan    1\n",
       "Expansion of WETA Ferry Services                                                                    1\n",
       "South Bay Microtransit Expansion                                                                    1\n",
       "Sacramento Valley Station (SVS) Transit Center: Priority Project                                    1\n",
       "Name: title, dtype: int64"
      ]
     },
     "execution_count": 11,
     "metadata": {},
     "output_type": "execute_result"
    }
   ],
   "source": [
    "# Find duplicate project title \n",
    "df_tircp2.title.value_counts().head()"
   ]
  },
  {
   "cell_type": "code",
   "execution_count": 12,
   "id": "1aab4f4e-0cc2-4251-992f-7703cccb64e2",
   "metadata": {},
   "outputs": [],
   "source": [
    "# Create a detailed title column to avoid duplicates\n",
    "df_tircp2[\"award_year\"] = df_tircp2[\"award_year\"].astype(\"object\")"
   ]
  },
  {
   "cell_type": "code",
   "execution_count": 13,
   "id": "c6910708-5351-42da-a856-577d4af48056",
   "metadata": {},
   "outputs": [],
   "source": [
    "detailed_title_cols = [\n",
    "    \"award_year\",\n",
    "    \"title\",\n",
    "    \"grant_recipient\",\n",
    "]"
   ]
  },
  {
   "cell_type": "code",
   "execution_count": 14,
   "id": "9ec6fc48-194a-4f4d-aba8-b185785922e7",
   "metadata": {},
   "outputs": [],
   "source": [
    "# https://stackoverflow.com/questions/39291499/how-to-concatenate-multiple-column-values-into-a-single-column-in-pandas-datafra\n",
    "df_tircp2[\"detailed_title_col\"] = df_tircp2[detailed_title_cols].apply(\n",
    "    lambda row: \"-\".join(row.values.astype(str)), axis=1\n",
    ")"
   ]
  },
  {
   "cell_type": "code",
   "execution_count": 15,
   "id": "bddb096a-b88b-4934-be26-f9dccb3a41a7",
   "metadata": {},
   "outputs": [],
   "source": [
    "# Subset\n",
    "df_tircp2 = df_tircp2[\n",
    "    [\n",
    "        \"award_year\",\n",
    "        \"#\",\n",
    "        \"ppno\",\n",
    "        \"tircp\",\n",
    "        \"title\",\n",
    "        \"detailed_title_col\",\n",
    "        \"grant_recipient\",\n",
    "        \"district\",\n",
    "        \"county\",\n",
    "        \"description\",\n",
    "        \"total__cost\",\n",
    "        \"estimated_tircp_ghg_reductions\",\n",
    "        \"cost_per_ghg_ton_reduced\",\n",
    "        \"increased_ridership\",\n",
    "        \"service_integration\",\n",
    "        \"improve_safety\",\n",
    "    ]\n",
    "]"
   ]
  },
  {
   "cell_type": "markdown",
   "id": "82c3d930-d76e-473f-994b-af6343b3a72f",
   "metadata": {},
   "source": [
    "#### Add Project Number"
   ]
  },
  {
   "cell_type": "code",
   "execution_count": 16,
   "id": "aefa1eb2-52ac-492a-af9e-8c67eafdcc0e",
   "metadata": {},
   "outputs": [],
   "source": [
    "df_tircp2[\"project_number_use\"] = (\n",
    "    df_tircp2[\"award_year\"].astype(str) + \"-\" + df_tircp2[\"#\"].astype(str)\n",
    ")"
   ]
  },
  {
   "cell_type": "markdown",
   "id": "b4e66999-8036-471d-ab74-5984c8475a83",
   "metadata": {},
   "source": [
    "### Add info based on SCCP's output example\n",
    "Project ID\tProject Name\tImplementing Agency\tProgram\tProject Description\t Total Cost \t SB 1 Funds \tFiscal Year\tIs SB 1?\tProject Status\tAssembly Districts\tSenate Districts\tCounties\tCities\tCaltrans Districts\tIs on SHS?\tDate Updated\tCycle\n"
   ]
  },
  {
   "cell_type": "markdown",
   "id": "3b879517-c819-4ade-8d43-b35de82dd01e",
   "metadata": {},
   "source": [
    "#### GIS Template has Assembly District/Senate District/City/Counties info\n",
    "* Although Linda provided me with more updated/complete GIS information, still using this to glean project statuses. "
   ]
  },
  {
   "cell_type": "code",
   "execution_count": 17,
   "id": "2d4bb751-a9d1-4cd5-a78d-017665955f8f",
   "metadata": {},
   "outputs": [],
   "source": [
    "# Read in sheet with Assembly info.\n",
    "gis = to_snakecase(\n",
    "    pd.read_excel(\n",
    "        f\"{GCS_FILE_PATH}TIRCP_GIS_Template_Requirements 6-1-2022.xlsx\",\n",
    "        sheet_name=\"Projects Table\",\n",
    "    )\n",
    ")"
   ]
  },
  {
   "cell_type": "code",
   "execution_count": 18,
   "id": "03079759-2216-4223-892b-913e0cab4ccb",
   "metadata": {},
   "outputs": [],
   "source": [
    "# Clean some column names\n",
    "gis = gis.rename(\n",
    "    columns={\n",
    "        \"ppno_\": \"ppno\",\n",
    "    }\n",
    ")"
   ]
  },
  {
   "cell_type": "code",
   "execution_count": 19,
   "id": "cfd913d7-31d6-4699-b36d-37f27f9b036f",
   "metadata": {},
   "outputs": [],
   "source": [
    "# Clean PPNO\n",
    "gis = A1_data_prep.ppno_slice(gis)"
   ]
  },
  {
   "cell_type": "code",
   "execution_count": 20,
   "id": "782fd272-ebd4-4a5e-9aa5-8ebc095ea2de",
   "metadata": {},
   "outputs": [],
   "source": [
    "# Subset for only cols of interest\n",
    "gis2 = gis[\n",
    "    [\n",
    "        \"project_number\",\n",
    "        \"ppno\",\n",
    "        \"projecttitle\",\n",
    "        \"projectstatus\",\n",
    "    ]\n",
    "]"
   ]
  },
  {
   "cell_type": "code",
   "execution_count": 21,
   "id": "95c3cc2b-7414-439b-a126-16dc7ae2c988",
   "metadata": {},
   "outputs": [
    {
     "data": {
      "text/plain": [
       "45"
      ]
     },
     "execution_count": 21,
     "metadata": {},
     "output_type": "execute_result"
    }
   ],
   "source": [
    "gis2.ppno.nunique()"
   ]
  },
  {
   "cell_type": "code",
   "execution_count": 22,
   "id": "c4b23719-022b-424b-8b05-b88cd452cdf3",
   "metadata": {},
   "outputs": [
    {
     "data": {
      "text/plain": [
       "CP033    60\n",
       "CP035    21\n",
       "CP042    18\n",
       "CP032    14\n",
       "CP031    11\n",
       "Name: ppno, dtype: int64"
      ]
     },
     "execution_count": 22,
     "metadata": {},
     "output_type": "execute_result"
    }
   ],
   "source": [
    "# There are mulitple entries for each ppno.\n",
    "gis2.ppno.value_counts().head()"
   ]
  },
  {
   "cell_type": "code",
   "execution_count": 23,
   "id": "f7345aed-44b4-4982-b687-b1c1e9e15169",
   "metadata": {},
   "outputs": [
    {
     "name": "stderr",
     "output_type": "stream",
     "text": [
      "/tmp/ipykernel_2064/404525512.py:2: SettingWithCopyWarning: \n",
      "A value is trying to be set on a copy of a slice from a DataFrame\n",
      "\n",
      "See the caveats in the documentation: https://pandas.pydata.org/pandas-docs/stable/user_guide/indexing.html#returning-a-view-versus-a-copy\n",
      "  gis2.loc[\n"
     ]
    }
   ],
   "source": [
    "# Inglewood Transit Center coded as CP063, should be CP062\n",
    "gis2.loc[\n",
    "    (gis2[\"projecttitle\"] == \"Inglewood Transit Center (2020:04)\"), \"ppno\"\n",
    "] = \"CP062\""
   ]
  },
  {
   "cell_type": "code",
   "execution_count": 24,
   "id": "600bbdad-c63a-452f-a930-0087430f2fb8",
   "metadata": {},
   "outputs": [
    {
     "name": "stderr",
     "output_type": "stream",
     "text": [
      "/tmp/ipykernel_2064/1592691445.py:2: SettingWithCopyWarning: \n",
      "A value is trying to be set on a copy of a slice from a DataFrame\n",
      "\n",
      "See the caveats in the documentation: https://pandas.pydata.org/pandas-docs/stable/user_guide/indexing.html#returning-a-view-versus-a-copy\n",
      "  gis2.loc[\n"
     ]
    }
   ],
   "source": [
    "# North State Intercity Bus System coded as CP063 in TIRCP Tracking sheet.\n",
    "gis2.loc[\n",
    "    (\n",
    "        gis2[\"projecttitle\"]\n",
    "        == \"North State Intercity Bus System-Lake County Interregional Transit Center (2020:05)\"\n",
    "    ),\n",
    "    \"ppno\",\n",
    "] = \"CP063\""
   ]
  },
  {
   "cell_type": "code",
   "execution_count": 25,
   "id": "44615a39-14a3-4f2c-a31d-f4386b7da870",
   "metadata": {},
   "outputs": [],
   "source": [
    "# gis2.loc[gis2['ppno'] == 'CP063']"
   ]
  },
  {
   "cell_type": "code",
   "execution_count": 26,
   "id": "43c9abd9-0ce2-4cfe-aff0-087f0f553d30",
   "metadata": {},
   "outputs": [
    {
     "data": {
      "text/html": [
       "<div>\n",
       "<style scoped>\n",
       "    .dataframe tbody tr th:only-of-type {\n",
       "        vertical-align: middle;\n",
       "    }\n",
       "\n",
       "    .dataframe tbody tr th {\n",
       "        vertical-align: top;\n",
       "    }\n",
       "\n",
       "    .dataframe thead th {\n",
       "        text-align: right;\n",
       "    }\n",
       "</style>\n",
       "<table border=\"1\" class=\"dataframe\">\n",
       "  <thead>\n",
       "    <tr style=\"text-align: right;\">\n",
       "      <th></th>\n",
       "      <th>project_number</th>\n",
       "      <th>ppno</th>\n",
       "      <th>projecttitle</th>\n",
       "      <th>projectstatus</th>\n",
       "    </tr>\n",
       "  </thead>\n",
       "  <tbody>\n",
       "    <tr>\n",
       "      <th>202</th>\n",
       "      <td>2020:05</td>\n",
       "      <td>CP063</td>\n",
       "      <td>North State Intercity Bus System-Lake County Interregional Transit Center (2020:05)</td>\n",
       "      <td>PA&amp;ED</td>\n",
       "    </tr>\n",
       "    <tr>\n",
       "      <th>203</th>\n",
       "      <td>2020:05</td>\n",
       "      <td>CP063</td>\n",
       "      <td>North State Intercity Bus System-Lake County Interregional Transit Center (2020:05)</td>\n",
       "      <td>R/W</td>\n",
       "    </tr>\n",
       "    <tr>\n",
       "      <th>204</th>\n",
       "      <td>2020:05</td>\n",
       "      <td>CP063</td>\n",
       "      <td>North State Intercity Bus System-Lake County Interregional Transit Center (2020:05)</td>\n",
       "      <td>Construction</td>\n",
       "    </tr>\n",
       "    <tr>\n",
       "      <th>205</th>\n",
       "      <td>2020:05</td>\n",
       "      <td>CP063</td>\n",
       "      <td>North State Intercity Bus System-Lake County Interregional Transit Center (2020:05)</td>\n",
       "      <td>Ops./Procure</td>\n",
       "    </tr>\n",
       "  </tbody>\n",
       "</table>\n",
       "</div>"
      ],
      "text/plain": [
       "    project_number   ppno  \\\n",
       "202        2020:05  CP063   \n",
       "203        2020:05  CP063   \n",
       "204        2020:05  CP063   \n",
       "205        2020:05  CP063   \n",
       "\n",
       "                                                                            projecttitle  \\\n",
       "202  North State Intercity Bus System-Lake County Interregional Transit Center (2020:05)   \n",
       "203  North State Intercity Bus System-Lake County Interregional Transit Center (2020:05)   \n",
       "204  North State Intercity Bus System-Lake County Interregional Transit Center (2020:05)   \n",
       "205  North State Intercity Bus System-Lake County Interregional Transit Center (2020:05)   \n",
       "\n",
       "    projectstatus  \n",
       "202         PA&ED  \n",
       "203           R/W  \n",
       "204  Construction  \n",
       "205  Ops./Procure  "
      ]
     },
     "execution_count": 26,
     "metadata": {},
     "output_type": "execute_result"
    }
   ],
   "source": [
    "gis2.loc[\n",
    "    gis2[\"projecttitle\"]\n",
    "    == \"North State Intercity Bus System-Lake County Interregional Transit Center (2020:05)\"\n",
    "]"
   ]
  },
  {
   "cell_type": "code",
   "execution_count": 27,
   "id": "ba6f3b63-1dd6-4667-ac92-50cfaec8847e",
   "metadata": {},
   "outputs": [
    {
     "name": "stderr",
     "output_type": "stream",
     "text": [
      "/tmp/ipykernel_2064/1194175043.py:2: SettingWithCopyWarning: \n",
      "A value is trying to be set on a copy of a slice from a DataFrame.\n",
      "Try using .loc[row_indexer,col_indexer] = value instead\n",
      "\n",
      "See the caveats in the documentation: https://pandas.pydata.org/pandas-docs/stable/user_guide/indexing.html#returning-a-view-versus-a-copy\n",
      "  gis2[\"project_number\"] = gis2[\"project_number\"].str.split(\":\").str[0]\n"
     ]
    }
   ],
   "source": [
    "# Clean project_number, only keep year\n",
    "gis2[\"project_number\"] = gis2[\"project_number\"].str.split(\":\").str[0]"
   ]
  },
  {
   "cell_type": "code",
   "execution_count": 28,
   "id": "80fd92f1-9dab-4521-9ef7-f4237e49dbc2",
   "metadata": {},
   "outputs": [
    {
     "name": "stderr",
     "output_type": "stream",
     "text": [
      "/tmp/ipykernel_2064/511736485.py:1: SettingWithCopyWarning: \n",
      "A value is trying to be set on a copy of a slice from a DataFrame.\n",
      "Try using .loc[row_indexer,col_indexer] = value instead\n",
      "\n",
      "See the caveats in the documentation: https://pandas.pydata.org/pandas-docs/stable/user_guide/indexing.html#returning-a-view-versus-a-copy\n",
      "  gis2[\"project_number\"] = gis2[\"project_number\"].fillna(0).astype(\"int64\")\n"
     ]
    }
   ],
   "source": [
    "gis2[\"project_number\"] = gis2[\"project_number\"].fillna(0).astype(\"int64\")"
   ]
  },
  {
   "cell_type": "code",
   "execution_count": 29,
   "id": "2818e6df-4412-4d0d-a739-d2e73bdc6167",
   "metadata": {},
   "outputs": [],
   "source": [
    "# Place project status all on one row & Remove duplicate statuses\n",
    "def summarize_rows(df, col_to_group: str, col_to_summarize: str):\n",
    "    df = df.groupby(col_to_group)[col_to_summarize].apply(\",\".join).reset_index()\n",
    "\n",
    "    df[col_to_summarize] = (\n",
    "        df[col_to_summarize]\n",
    "        .apply(lambda x: \", \".join(set([y.strip() for y in x.split(\",\")])))\n",
    "        .str.strip()\n",
    "    )\n",
    "    return df"
   ]
  },
  {
   "cell_type": "code",
   "execution_count": 30,
   "id": "e8a7f578-2469-41a9-accc-4c7be34bbf3f",
   "metadata": {},
   "outputs": [],
   "source": [
    "project_status_gis = summarize_rows(gis2, \"ppno\", \"projectstatus\")"
   ]
  },
  {
   "cell_type": "code",
   "execution_count": 31,
   "id": "449472ef-aa25-469d-88af-226eebca7c34",
   "metadata": {},
   "outputs": [
    {
     "data": {
      "text/plain": [
       "True"
      ]
     },
     "execution_count": 31,
     "metadata": {},
     "output_type": "execute_result"
    }
   ],
   "source": [
    "# Check that each row matches the number of unique ppno\n",
    "len(project_status_gis) == gis2.ppno.nunique()"
   ]
  },
  {
   "cell_type": "code",
   "execution_count": 32,
   "id": "8b22a60e-b033-4b4b-8485-c26426f3edd6",
   "metadata": {},
   "outputs": [],
   "source": [
    "# Drop old project status\n",
    "gis2 = gis2.drop(columns=[\"projectstatus\"])"
   ]
  },
  {
   "cell_type": "code",
   "execution_count": 33,
   "id": "770cc59d-4aaf-4bbc-8519-21fabf0f3245",
   "metadata": {
    "scrolled": true,
    "tags": []
   },
   "outputs": [],
   "source": [
    "# Merge with original gis, so there is only one row for each PPNO\n",
    "final_gis = (\n",
    "    pd.merge(project_status_gis, gis2, how=\"left\", on=[\"ppno\"])\n",
    "    .drop_duplicates(\"ppno\")\n",
    "    .reset_index(drop=True)\n",
    ")"
   ]
  },
  {
   "cell_type": "code",
   "execution_count": 34,
   "id": "9e927fc6-816f-41f1-91fa-52e162f837df",
   "metadata": {},
   "outputs": [
    {
     "data": {
      "text/plain": [
       "(45, 45)"
      ]
     },
     "execution_count": 34,
     "metadata": {},
     "output_type": "execute_result"
    }
   ],
   "source": [
    "len(final_gis), final_gis.ppno.nunique()"
   ]
  },
  {
   "cell_type": "markdown",
   "id": "3edc5b66-0af2-41c5-b89d-70c611ce3319",
   "metadata": {},
   "source": [
    "#### Merge with TIRCP Tracking"
   ]
  },
  {
   "cell_type": "code",
   "execution_count": 35,
   "id": "0fb3c660-78cb-4015-8ce2-2af5f6bb9201",
   "metadata": {},
   "outputs": [],
   "source": [
    "# Merge with df_tircp2\n",
    "merge1 = pd.merge(\n",
    "    df_tircp2,\n",
    "    final_gis,\n",
    "    how=\"left\",\n",
    "    left_on=[\"ppno\", \"award_year\"],\n",
    "    right_on=[\"ppno\", \"project_number\"],\n",
    "    indicator=True,\n",
    ")"
   ]
  },
  {
   "cell_type": "code",
   "execution_count": 36,
   "id": "719bfacf-d26b-4903-906f-34c614128c51",
   "metadata": {},
   "outputs": [
    {
     "data": {
      "text/plain": [
       "both          43\n",
       "left_only     25\n",
       "right_only     0\n",
       "Name: _merge, dtype: int64"
      ]
     },
     "execution_count": 36,
     "metadata": {},
     "output_type": "execute_result"
    }
   ],
   "source": [
    "merge1._merge.value_counts()"
   ]
  },
  {
   "cell_type": "code",
   "execution_count": 37,
   "id": "13deefae-6395-4969-a12c-2a6859d29d66",
   "metadata": {
    "tags": []
   },
   "outputs": [
    {
     "data": {
      "text/html": [
       "<div>\n",
       "<style scoped>\n",
       "    .dataframe tbody tr th:only-of-type {\n",
       "        vertical-align: middle;\n",
       "    }\n",
       "\n",
       "    .dataframe tbody tr th {\n",
       "        vertical-align: top;\n",
       "    }\n",
       "\n",
       "    .dataframe thead th {\n",
       "        text-align: right;\n",
       "    }\n",
       "</style>\n",
       "<table border=\"1\" class=\"dataframe\">\n",
       "  <thead>\n",
       "    <tr style=\"text-align: right;\">\n",
       "      <th></th>\n",
       "      <th>title</th>\n",
       "      <th>projectstatus</th>\n",
       "    </tr>\n",
       "  </thead>\n",
       "  <tbody>\n",
       "    <tr>\n",
       "      <th>51</th>\n",
       "      <td>Oakland Waterfront Mobility Hub</td>\n",
       "      <td>NaN</td>\n",
       "    </tr>\n",
       "    <tr>\n",
       "      <th>56</th>\n",
       "      <td>Expanding Transit Services and Introducing Zero-Emission Fleets on California’s North Coast</td>\n",
       "      <td>NaN</td>\n",
       "    </tr>\n",
       "  </tbody>\n",
       "</table>\n",
       "</div>"
      ],
      "text/plain": [
       "                                                                                          title  \\\n",
       "51                                                              Oakland Waterfront Mobility Hub   \n",
       "56  Expanding Transit Services and Introducing Zero-Emission Fleets on California’s North Coast   \n",
       "\n",
       "   projectstatus  \n",
       "51           NaN  \n",
       "56           NaN  "
      ]
     },
     "execution_count": 37,
     "metadata": {},
     "output_type": "execute_result"
    }
   ],
   "source": [
    "# Double Check that titles & years correspond with one another\n",
    "merge1[[\"title\", \"projectstatus\"]].sample(2)"
   ]
  },
  {
   "cell_type": "code",
   "execution_count": 38,
   "id": "648c5d87-e732-4dfa-b205-e515b2ff5377",
   "metadata": {},
   "outputs": [],
   "source": [
    "merge1 = merge1.drop(columns=[\"_merge\"])"
   ]
  },
  {
   "cell_type": "markdown",
   "id": "3df058a4-9dcf-4a4e-b262-37ee210d4dbc",
   "metadata": {},
   "source": [
    "#### GIS Info from Tracking Sheet 2.0 "
   ]
  },
  {
   "cell_type": "code",
   "execution_count": 39,
   "id": "19228468-3b4a-47ee-a6b7-73ac90a8e3eb",
   "metadata": {},
   "outputs": [],
   "source": [
    "gis_tracking_sheet = to_snakecase(\n",
    "    pd.read_excel(f\"{GCS_FILE_PATH}{A1_data_prep.FILE_NAME }\", sheet_name=\"GIS Info\")\n",
    ")"
   ]
  },
  {
   "cell_type": "code",
   "execution_count": 40,
   "id": "6c403d42-f5aa-4ec5-85e5-3bcad2c782b8",
   "metadata": {},
   "outputs": [],
   "source": [
    "# Drop certain cols\n",
    "gis_tracking_sheet = gis_tracking_sheet[\n",
    "    [\n",
    "        \"award_year\",\n",
    "        \"project_title\",\n",
    "        \"caltransdistrict\",\n",
    "        \"assembly\\ndistricts\",\n",
    "        \"senate\\ndistricts\",\n",
    "        \"city_code\",\n",
    "        \"county_code\",\n",
    "        \"_implementing_agency__id_\",\n",
    "    ]\n",
    "]"
   ]
  },
  {
   "cell_type": "code",
   "execution_count": 41,
   "id": "b98eaaf8-ea45-46e0-bf90-44af0a91efdd",
   "metadata": {},
   "outputs": [],
   "source": [
    "# Only keep the years wanted\n",
    "gis_tracking_sheet2 = gis_tracking_sheet.loc[\n",
    "    gis_tracking_sheet[\"award_year\"] >= 2018\n",
    "].reset_index(drop=True)"
   ]
  },
  {
   "cell_type": "code",
   "execution_count": 42,
   "id": "b126e30f-c32a-4a07-865f-40c74530c033",
   "metadata": {},
   "outputs": [],
   "source": [
    "# Merge with df_tircp2\n",
    "merge2 = pd.merge(\n",
    "    merge1,\n",
    "    gis_tracking_sheet2,\n",
    "    how=\"left\",\n",
    "    left_on=[\"award_year\", \"title\"],\n",
    "    right_on=[\"award_year\", \"project_title\"],\n",
    "    indicator=True,\n",
    ")"
   ]
  },
  {
   "cell_type": "code",
   "execution_count": 43,
   "id": "4180d179-6295-4ccb-8297-aae6f20f66c2",
   "metadata": {},
   "outputs": [
    {
     "data": {
      "text/plain": [
       "both          68\n",
       "left_only      0\n",
       "right_only     0\n",
       "Name: _merge, dtype: int64"
      ]
     },
     "execution_count": 43,
     "metadata": {},
     "output_type": "execute_result"
    }
   ],
   "source": [
    "# Merge\n",
    "merge2._merge.value_counts()"
   ]
  },
  {
   "cell_type": "code",
   "execution_count": 44,
   "id": "0395b4d3-eeb3-4e7b-87b1-cb49e65f617c",
   "metadata": {},
   "outputs": [
    {
     "data": {
      "text/plain": [
       "((68, 28), (68, 17))"
      ]
     },
     "execution_count": 44,
     "metadata": {},
     "output_type": "execute_result"
    }
   ],
   "source": [
    "merge2.shape, df_tircp2.shape"
   ]
  },
  {
   "cell_type": "code",
   "execution_count": 45,
   "id": "d5ec88f0-6c7c-4d65-9e5a-5b4f2e952bfe",
   "metadata": {
    "tags": []
   },
   "outputs": [],
   "source": [
    "merge2 = merge2.drop(\n",
    "    columns=[\"project_number\", \"projecttitle\", \"project_title\", \"_merge\"]\n",
    ")"
   ]
  },
  {
   "cell_type": "code",
   "execution_count": 46,
   "id": "c4c53e88-461c-4c08-bd48-102eb7070642",
   "metadata": {},
   "outputs": [
    {
     "data": {
      "text/plain": [
       "Index(['award_year', '#', 'ppno', 'tircp', 'title', 'detailed_title_col',\n",
       "       'grant_recipient', 'district', 'county', 'description', 'total__cost',\n",
       "       'estimated_tircp_ghg_reductions', 'cost_per_ghg_ton_reduced',\n",
       "       'increased_ridership', 'service_integration', 'improve_safety',\n",
       "       'project_number_use', 'projectstatus', 'caltransdistrict',\n",
       "       'assembly\\ndistricts', 'senate\\ndistricts', 'city_code', 'county_code',\n",
       "       '_implementing_agency__id_'],\n",
       "      dtype='object')"
      ]
     },
     "execution_count": 46,
     "metadata": {},
     "output_type": "execute_result"
    }
   ],
   "source": [
    "merge2.columns"
   ]
  },
  {
   "cell_type": "markdown",
   "id": "59a7191b-12cc-43c9-ac27-2c31e7198722",
   "metadata": {},
   "source": [
    "### Project Sheet "
   ]
  },
  {
   "cell_type": "code",
   "execution_count": 47,
   "id": "9782911e-0bd3-458f-9e41-a6924fdd6495",
   "metadata": {},
   "outputs": [],
   "source": [
    "# Copy merge 2\n",
    "projects = merge2.copy()"
   ]
  },
  {
   "cell_type": "code",
   "execution_count": 48,
   "id": "74207fb1-4d58-4222-9425-24ef2063e93c",
   "metadata": {},
   "outputs": [],
   "source": [
    "# Fill in empty values with NA\n",
    "projects = projects.fillna(\n",
    "    projects.dtypes.replace({\"float64\": 0.0, \"object\": \"None\", \"int64\": 0})\n",
    ")"
   ]
  },
  {
   "cell_type": "code",
   "execution_count": 49,
   "id": "153ffc6e-f51f-4ef6-9370-2a4ac1f58eda",
   "metadata": {},
   "outputs": [],
   "source": [
    "# Format moentary cols\n",
    "monetary_cols = [\"total__cost\", \"tircp\"]\n",
    "for i in monetary_cols:\n",
    "    projects[i] = projects[i].apply(\n",
    "        lambda x: format_currency(x, currency=\"USD\", locale=\"en_US\")\n",
    "    )"
   ]
  },
  {
   "cell_type": "code",
   "execution_count": 50,
   "id": "ffdb4025-cd25-4ca2-8f8c-a21b2445489d",
   "metadata": {
    "scrolled": true,
    "tags": []
   },
   "outputs": [],
   "source": [
    "# Clean up columns\n",
    "projects = A1_data_prep.clean_up_columns(projects)"
   ]
  },
  {
   "cell_type": "code",
   "execution_count": 51,
   "id": "df868b3d-1da8-4391-87d9-57dc3c693ac1",
   "metadata": {},
   "outputs": [],
   "source": [
    "projects = projects.rename(\n",
    "    columns={\n",
    "        \"Number Use\": \"Project Number\",\n",
    "        \"Assembly\\nDistricts\": \"Assembly Districts\",\n",
    "        \"Senate\\nDistricts\": \"Senate Districts\",\n",
    "        \"Caltransdistrict\": \"CT Districts\",\n",
    "        \"Assembly\\nDistricts\": \"Assembly Districts\",\n",
    "    }\n",
    ")"
   ]
  },
  {
   "cell_type": "code",
   "execution_count": 52,
   "id": "abdeb33c-a2b7-4147-a465-03c79adf0a0c",
   "metadata": {},
   "outputs": [],
   "source": [
    "# Rearrange columns\n",
    "right_order = [\n",
    "    \"Award Year\",\n",
    "    \"#\",\n",
    "    \"Project Number\",\n",
    "    \"Ppno\",\n",
    "    \"Title\",\n",
    "    \"Grant Recipient\",\n",
    "    \"Tircp\",\n",
    "    \"Total  Cost\",\n",
    "    \"Description\",\n",
    "    \"District\",\n",
    "    \"County\",\n",
    "    \"Estimated Tircp Ghg Reductions\",\n",
    "    \"Cost Per Ghg Ton Reduced\",\n",
    "    \"Increased Ridership\",\n",
    "    \"Service Integration\",\n",
    "    \"Improve Safety\",\n",
    "    \"Status\",\n",
    "    \"CT Districts\",\n",
    "    \"Assembly Districts\",\n",
    "    \"Senate Districts\",\n",
    "    \"City Code\",\n",
    "    \"County Code\",\n",
    "    \"Implementing Agency  Id\",\n",
    "]"
   ]
  },
  {
   "cell_type": "code",
   "execution_count": 53,
   "id": "ce1d08fa-0a92-46dc-9380-ea4cb9900eed",
   "metadata": {},
   "outputs": [],
   "source": [
    "projects = projects[right_order]"
   ]
  },
  {
   "cell_type": "markdown",
   "id": "8743ed0b-a9ca-42d7-a0c9-62bb52455466",
   "metadata": {},
   "source": [
    "### Outcomes Sheet"
   ]
  },
  {
   "cell_type": "code",
   "execution_count": 54,
   "id": "e3a27b70-c744-4043-be47-ed9eb6637f41",
   "metadata": {},
   "outputs": [],
   "source": [
    "# Measure columns\n",
    "measure_cols = [\n",
    "    \"estimated_tircp_ghg_reductions\",\n",
    "    \"cost_per_ghg_ton_reduced\",\n",
    "    \"increased_ridership\",\n",
    "    \"service_integration\",\n",
    "    \"improve_safety\",\n",
    "]"
   ]
  },
  {
   "cell_type": "code",
   "execution_count": 58,
   "id": "8b7a831b-5689-4942-bda8-d6673d13a07e",
   "metadata": {},
   "outputs": [],
   "source": [
    "# Turn estimated GHG reductions into a number\n",
    "merge2[\"estimated_tircp_ghg_reductions\"] = (\n",
    "    merge2[\"estimated_tircp_ghg_reductions\"]\n",
    "    .str.replace(\"MTCO2e\", \"\")\n",
    "    .str.replace(\"None\", \"\")\n",
    "    .str.replace(\",\", \"\")\n",
    ")"
   ]
  },
  {
   "cell_type": "code",
   "execution_count": 59,
   "id": "0b035ed5-177a-4ab8-8e6c-7beb666c8ab6",
   "metadata": {},
   "outputs": [],
   "source": [
    "merge2[\"estimated_tircp_ghg_reductions\"] = (\n",
    "    merge2[\"estimated_tircp_ghg_reductions\"]\n",
    "    .apply(pd.to_numeric, errors=\"coerce\")\n",
    "    .fillna(0)\n",
    ")"
   ]
  },
  {
   "cell_type": "code",
   "execution_count": 60,
   "id": "ae66155b-a726-4175-b077-13ab5e418cf0",
   "metadata": {},
   "outputs": [
    {
     "data": {
      "text/plain": [
       "Index(['award_year', '#', 'ppno', 'tircp', 'title', 'detailed_title_col',\n",
       "       'grant_recipient', 'district', 'county', 'description', 'total__cost',\n",
       "       'estimated_tircp_ghg_reductions', 'cost_per_ghg_ton_reduced',\n",
       "       'increased_ridership', 'service_integration', 'improve_safety',\n",
       "       'project_number_use', 'projectstatus', 'caltransdistrict',\n",
       "       'assembly\\ndistricts', 'senate\\ndistricts', 'city_code', 'county_code',\n",
       "       '_implementing_agency__id_'],\n",
       "      dtype='object')"
      ]
     },
     "execution_count": 60,
     "metadata": {},
     "output_type": "execute_result"
    }
   ],
   "source": [
    "merge2.columns"
   ]
  },
  {
   "cell_type": "code",
   "execution_count": 63,
   "id": "ce540d07-dc7a-44d7-b21a-cfcaaa4ec43b",
   "metadata": {},
   "outputs": [],
   "source": [
    "# Subset to cols simila to SCCP\n",
    "outcomes = merge1[\n",
    "    [\n",
    "        \"award_year\",\n",
    "        'detailed_title_col',\n",
    "        \"estimated_tircp_ghg_reductions\",\n",
    "        \"cost_per_ghg_ton_reduced\",\n",
    "        \"increased_ridership\",\n",
    "        \"service_integration\",\n",
    "        \"improve_safety\",\n",
    "    ]\n",
    "].sort_values([\"award_year\", 'detailed_title_col',])"
   ]
  },
  {
   "cell_type": "code",
   "execution_count": 64,
   "id": "bbe4441b-ccc2-4ad7-a0f2-3f6c6335a456",
   "metadata": {},
   "outputs": [],
   "source": [
    "outcomes = A1_data_prep.clean_up_columns(outcomes)"
   ]
  },
  {
   "cell_type": "code",
   "execution_count": 65,
   "id": "bb663842-66d4-4724-8138-c2be025ddf6b",
   "metadata": {},
   "outputs": [
    {
     "data": {
      "text/html": [
       "<div>\n",
       "<style scoped>\n",
       "    .dataframe tbody tr th:only-of-type {\n",
       "        vertical-align: middle;\n",
       "    }\n",
       "\n",
       "    .dataframe tbody tr th {\n",
       "        vertical-align: top;\n",
       "    }\n",
       "\n",
       "    .dataframe thead th {\n",
       "        text-align: right;\n",
       "    }\n",
       "</style>\n",
       "<table border=\"1\" class=\"dataframe\">\n",
       "  <thead>\n",
       "    <tr style=\"text-align: right;\">\n",
       "      <th></th>\n",
       "      <th>Award Year</th>\n",
       "      <th>Detailed Title Col</th>\n",
       "      <th>Estimated Tircp Ghg Reductions</th>\n",
       "      <th>Cost Per Ghg Ton Reduced</th>\n",
       "      <th>Increased Ridership</th>\n",
       "      <th>Service Integration</th>\n",
       "      <th>Improve Safety</th>\n",
       "    </tr>\n",
       "  </thead>\n",
       "  <tbody>\n",
       "    <tr>\n",
       "      <th>1</th>\n",
       "      <td>2018</td>\n",
       "      <td>2018-#Electrify Anaheim: Changing the Transit Paradigm in Southern California-Anaheim Transportation Network</td>\n",
       "      <td>61000.00</td>\n",
       "      <td>Medium-High</td>\n",
       "      <td>Medium-High</td>\n",
       "      <td>Medium-High</td>\n",
       "      <td>Medium</td>\n",
       "    </tr>\n",
       "  </tbody>\n",
       "</table>\n",
       "</div>"
      ],
      "text/plain": [
       "  Award Year  \\\n",
       "1       2018   \n",
       "\n",
       "                                                                                             Detailed Title Col  \\\n",
       "1  2018-#Electrify Anaheim: Changing the Transit Paradigm in Southern California-Anaheim Transportation Network   \n",
       "\n",
       "   Estimated Tircp Ghg Reductions Cost Per Ghg Ton Reduced  \\\n",
       "1                        61000.00              Medium-High   \n",
       "\n",
       "  Increased Ridership Service Integration Improve Safety  \n",
       "1         Medium-High         Medium-High         Medium  "
      ]
     },
     "execution_count": 65,
     "metadata": {},
     "output_type": "execute_result"
    }
   ],
   "source": [
    "outcomes.head(1)"
   ]
  },
  {
   "cell_type": "markdown",
   "id": "1474d69c-d7c3-40cb-8178-ec3c78c6d8ee",
   "metadata": {},
   "source": [
    "##### Version 1"
   ]
  },
  {
   "cell_type": "code",
   "execution_count": 66,
   "id": "bdbe0a48-42aa-4a1d-b018-3d8497384ca6",
   "metadata": {},
   "outputs": [],
   "source": [
    "# Drop award year\n",
    "outcomes_transformed = outcomes.drop(columns=[\"Award Year\"]).T"
   ]
  },
  {
   "cell_type": "code",
   "execution_count": 67,
   "id": "58c09afa-f3d7-428c-9791-1de3582fc381",
   "metadata": {},
   "outputs": [],
   "source": [
    "# Make first row to column names\n",
    "outcomes_transformed.columns = outcomes_transformed.iloc[0]"
   ]
  },
  {
   "cell_type": "code",
   "execution_count": 68,
   "id": "f175b3b8-7992-4c49-ad23-18c8ac60f29e",
   "metadata": {},
   "outputs": [],
   "source": [
    "# Del first row\n",
    "outcomes_transformed = outcomes_transformed.iloc[1:]"
   ]
  },
  {
   "cell_type": "markdown",
   "id": "ba168112-3b5d-4fa8-88d5-de3546502a06",
   "metadata": {},
   "source": [
    "##### Outputs: Measures except GHG Reductions."
   ]
  },
  {
   "cell_type": "code",
   "execution_count": 69,
   "id": "ca989975-4147-42c2-a484-cbd46ff69347",
   "metadata": {},
   "outputs": [],
   "source": [
    "outcomes_melt = pd.melt(\n",
    "    outcomes,\n",
    "    id_vars=[\n",
    "        \"Award Year\",\n",
    "        \"Detailed Title Col\",\n",
    "    ],\n",
    "    value_vars=[\n",
    "        \"Cost Per Ghg Ton Reduced\",\n",
    "        \"Increased Ridership\",\n",
    "        \"Service Integration\",\n",
    "        \"Improve Safety\",\n",
    "    ],\n",
    ")"
   ]
  },
  {
   "cell_type": "code",
   "execution_count": 70,
   "id": "e5143ed8-e6ff-4e66-ad5a-c660fdecee28",
   "metadata": {},
   "outputs": [],
   "source": [
    "outcomes_melt = A1_data_prep.clean_up_columns(outcomes_melt)"
   ]
  },
  {
   "cell_type": "code",
   "execution_count": 72,
   "id": "f1439741-a4ca-40ad-a453-2f5358dc5984",
   "metadata": {},
   "outputs": [],
   "source": [
    "year_summary = (\n",
    "    outcomes_melt.groupby([\"Award Year\", \"Variable\", \"Value\"])\n",
    "    .agg({\"Detailed Title Col\": \"nunique\"})\n",
    "    .rename(\n",
    "        columns={\"Detailed Title Col\": \"Number of Projects in this Value Category\"}\n",
    "    )\n",
    ")"
   ]
  },
  {
   "cell_type": "code",
   "execution_count": 73,
   "id": "348761d5-9cc0-4ae2-9b6a-c7b6dc7160ee",
   "metadata": {},
   "outputs": [
    {
     "data": {
      "text/html": [
       "<div>\n",
       "<style scoped>\n",
       "    .dataframe tbody tr th:only-of-type {\n",
       "        vertical-align: middle;\n",
       "    }\n",
       "\n",
       "    .dataframe tbody tr th {\n",
       "        vertical-align: top;\n",
       "    }\n",
       "\n",
       "    .dataframe thead th {\n",
       "        text-align: right;\n",
       "    }\n",
       "</style>\n",
       "<table border=\"1\" class=\"dataframe\">\n",
       "  <thead>\n",
       "    <tr style=\"text-align: right;\">\n",
       "      <th></th>\n",
       "      <th></th>\n",
       "      <th></th>\n",
       "      <th>Number of Projects in this Value Category</th>\n",
       "    </tr>\n",
       "    <tr>\n",
       "      <th>Award Year</th>\n",
       "      <th>Variable</th>\n",
       "      <th>Value</th>\n",
       "      <th></th>\n",
       "    </tr>\n",
       "  </thead>\n",
       "  <tbody>\n",
       "    <tr>\n",
       "      <th rowspan=\"13\" valign=\"top\">2018</th>\n",
       "      <th rowspan=\"4\" valign=\"top\">Cost Per Ghg Ton Reduced</th>\n",
       "      <th>High</th>\n",
       "      <td>16</td>\n",
       "    </tr>\n",
       "    <tr>\n",
       "      <th>Medium</th>\n",
       "      <td>3</td>\n",
       "    </tr>\n",
       "    <tr>\n",
       "      <th>Medium-High</th>\n",
       "      <td>8</td>\n",
       "    </tr>\n",
       "    <tr>\n",
       "      <th>None</th>\n",
       "      <td>1</td>\n",
       "    </tr>\n",
       "    <tr>\n",
       "      <th rowspan=\"3\" valign=\"top\">Improve Safety</th>\n",
       "      <th>High</th>\n",
       "      <td>9</td>\n",
       "    </tr>\n",
       "    <tr>\n",
       "      <th>Medium</th>\n",
       "      <td>12</td>\n",
       "    </tr>\n",
       "    <tr>\n",
       "      <th>Medium-High</th>\n",
       "      <td>7</td>\n",
       "    </tr>\n",
       "    <tr>\n",
       "      <th rowspan=\"3\" valign=\"top\">Increased Ridership</th>\n",
       "      <th>High</th>\n",
       "      <td>13</td>\n",
       "    </tr>\n",
       "    <tr>\n",
       "      <th>Medium</th>\n",
       "      <td>10</td>\n",
       "    </tr>\n",
       "    <tr>\n",
       "      <th>Medium-High</th>\n",
       "      <td>5</td>\n",
       "    </tr>\n",
       "    <tr>\n",
       "      <th rowspan=\"3\" valign=\"top\">Service Integration</th>\n",
       "      <th>High</th>\n",
       "      <td>5</td>\n",
       "    </tr>\n",
       "    <tr>\n",
       "      <th>Medium</th>\n",
       "      <td>8</td>\n",
       "    </tr>\n",
       "    <tr>\n",
       "      <th>Medium-High</th>\n",
       "      <td>15</td>\n",
       "    </tr>\n",
       "    <tr>\n",
       "      <th rowspan=\"14\" valign=\"top\">2020</th>\n",
       "      <th rowspan=\"3\" valign=\"top\">Cost Per Ghg Ton Reduced</th>\n",
       "      <th>High</th>\n",
       "      <td>8</td>\n",
       "    </tr>\n",
       "    <tr>\n",
       "      <th>Medium</th>\n",
       "      <td>2</td>\n",
       "    </tr>\n",
       "    <tr>\n",
       "      <th>Medium-High</th>\n",
       "      <td>7</td>\n",
       "    </tr>\n",
       "    <tr>\n",
       "      <th rowspan=\"3\" valign=\"top\">Improve Safety</th>\n",
       "      <th>High</th>\n",
       "      <td>4</td>\n",
       "    </tr>\n",
       "    <tr>\n",
       "      <th>Medium</th>\n",
       "      <td>7</td>\n",
       "    </tr>\n",
       "    <tr>\n",
       "      <th>Medium-High</th>\n",
       "      <td>6</td>\n",
       "    </tr>\n",
       "    <tr>\n",
       "      <th rowspan=\"4\" valign=\"top\">Increased Ridership</th>\n",
       "      <th>High</th>\n",
       "      <td>1</td>\n",
       "    </tr>\n",
       "    <tr>\n",
       "      <th>Medium</th>\n",
       "      <td>4</td>\n",
       "    </tr>\n",
       "    <tr>\n",
       "      <th>Medium-High</th>\n",
       "      <td>9</td>\n",
       "    </tr>\n",
       "    <tr>\n",
       "      <th>Medium-Low</th>\n",
       "      <td>3</td>\n",
       "    </tr>\n",
       "    <tr>\n",
       "      <th rowspan=\"4\" valign=\"top\">Service Integration</th>\n",
       "      <th>High</th>\n",
       "      <td>2</td>\n",
       "    </tr>\n",
       "    <tr>\n",
       "      <th>Medium</th>\n",
       "      <td>5</td>\n",
       "    </tr>\n",
       "    <tr>\n",
       "      <th>Medium-High</th>\n",
       "      <td>8</td>\n",
       "    </tr>\n",
       "    <tr>\n",
       "      <th>Medium-Low</th>\n",
       "      <td>2</td>\n",
       "    </tr>\n",
       "    <tr>\n",
       "      <th rowspan=\"15\" valign=\"top\">2022</th>\n",
       "      <th rowspan=\"3\" valign=\"top\">Cost Per Ghg Ton Reduced</th>\n",
       "      <th>High</th>\n",
       "      <td>10</td>\n",
       "    </tr>\n",
       "    <tr>\n",
       "      <th>Medium</th>\n",
       "      <td>6</td>\n",
       "    </tr>\n",
       "    <tr>\n",
       "      <th>Medium-High</th>\n",
       "      <td>7</td>\n",
       "    </tr>\n",
       "    <tr>\n",
       "      <th rowspan=\"4\" valign=\"top\">Improve Safety</th>\n",
       "      <th>High</th>\n",
       "      <td>8</td>\n",
       "    </tr>\n",
       "    <tr>\n",
       "      <th>Medium</th>\n",
       "      <td>8</td>\n",
       "    </tr>\n",
       "    <tr>\n",
       "      <th>Medium-High</th>\n",
       "      <td>6</td>\n",
       "    </tr>\n",
       "    <tr>\n",
       "      <th>Medium-Low</th>\n",
       "      <td>1</td>\n",
       "    </tr>\n",
       "    <tr>\n",
       "      <th rowspan=\"4\" valign=\"top\">Increased Ridership</th>\n",
       "      <th>High</th>\n",
       "      <td>6</td>\n",
       "    </tr>\n",
       "    <tr>\n",
       "      <th>Medium</th>\n",
       "      <td>7</td>\n",
       "    </tr>\n",
       "    <tr>\n",
       "      <th>Medium-High</th>\n",
       "      <td>8</td>\n",
       "    </tr>\n",
       "    <tr>\n",
       "      <th>Medium-Low</th>\n",
       "      <td>2</td>\n",
       "    </tr>\n",
       "    <tr>\n",
       "      <th rowspan=\"4\" valign=\"top\">Service Integration</th>\n",
       "      <th>High</th>\n",
       "      <td>5</td>\n",
       "    </tr>\n",
       "    <tr>\n",
       "      <th>Medium</th>\n",
       "      <td>8</td>\n",
       "    </tr>\n",
       "    <tr>\n",
       "      <th>Medium-High</th>\n",
       "      <td>7</td>\n",
       "    </tr>\n",
       "    <tr>\n",
       "      <th>Medium-Low</th>\n",
       "      <td>3</td>\n",
       "    </tr>\n",
       "  </tbody>\n",
       "</table>\n",
       "</div>"
      ],
      "text/plain": [
       "                                                 Number of Projects in this Value Category\n",
       "Award Year Variable                 Value                                                 \n",
       "2018       Cost Per Ghg Ton Reduced High                                                16\n",
       "                                    Medium                                               3\n",
       "                                    Medium-High                                          8\n",
       "                                    None                                                 1\n",
       "           Improve Safety           High                                                 9\n",
       "                                    Medium                                              12\n",
       "                                    Medium-High                                          7\n",
       "           Increased Ridership      High                                                13\n",
       "                                    Medium                                              10\n",
       "                                    Medium-High                                          5\n",
       "           Service Integration      High                                                 5\n",
       "                                    Medium                                               8\n",
       "                                    Medium-High                                         15\n",
       "2020       Cost Per Ghg Ton Reduced High                                                 8\n",
       "                                    Medium                                               2\n",
       "                                    Medium-High                                          7\n",
       "           Improve Safety           High                                                 4\n",
       "                                    Medium                                               7\n",
       "                                    Medium-High                                          6\n",
       "           Increased Ridership      High                                                 1\n",
       "                                    Medium                                               4\n",
       "                                    Medium-High                                          9\n",
       "                                    Medium-Low                                           3\n",
       "           Service Integration      High                                                 2\n",
       "                                    Medium                                               5\n",
       "                                    Medium-High                                          8\n",
       "                                    Medium-Low                                           2\n",
       "2022       Cost Per Ghg Ton Reduced High                                                10\n",
       "                                    Medium                                               6\n",
       "                                    Medium-High                                          7\n",
       "           Improve Safety           High                                                 8\n",
       "                                    Medium                                               8\n",
       "                                    Medium-High                                          6\n",
       "                                    Medium-Low                                           1\n",
       "           Increased Ridership      High                                                 6\n",
       "                                    Medium                                               7\n",
       "                                    Medium-High                                          8\n",
       "                                    Medium-Low                                           2\n",
       "           Service Integration      High                                                 5\n",
       "                                    Medium                                               8\n",
       "                                    Medium-High                                          7\n",
       "                                    Medium-Low                                           3"
      ]
     },
     "execution_count": 73,
     "metadata": {},
     "output_type": "execute_result"
    }
   ],
   "source": [
    "year_summary"
   ]
  },
  {
   "cell_type": "markdown",
   "id": "be3a9788-a09e-4bb8-9890-9572fceadcf3",
   "metadata": {},
   "source": [
    "##### GHG Reductions."
   ]
  },
  {
   "cell_type": "code",
   "execution_count": 74,
   "id": "c526a520-7cd8-44d3-9c37-585f9e982b2a",
   "metadata": {},
   "outputs": [],
   "source": [
    "GHG_by_year = outcomes.groupby([\"Award Year\"]).agg(\n",
    "    {\"Estimated Tircp Ghg Reductions\": \"sum\"}\n",
    ")"
   ]
  },
  {
   "cell_type": "code",
   "execution_count": 75,
   "id": "f878002d-1b67-4a97-92ae-9dcc78950c8e",
   "metadata": {},
   "outputs": [
    {
     "data": {
      "text/html": [
       "<div>\n",
       "<style scoped>\n",
       "    .dataframe tbody tr th:only-of-type {\n",
       "        vertical-align: middle;\n",
       "    }\n",
       "\n",
       "    .dataframe tbody tr th {\n",
       "        vertical-align: top;\n",
       "    }\n",
       "\n",
       "    .dataframe thead th {\n",
       "        text-align: right;\n",
       "    }\n",
       "</style>\n",
       "<table border=\"1\" class=\"dataframe\">\n",
       "  <thead>\n",
       "    <tr style=\"text-align: right;\">\n",
       "      <th></th>\n",
       "      <th>Estimated Tircp Ghg Reductions</th>\n",
       "    </tr>\n",
       "    <tr>\n",
       "      <th>Award Year</th>\n",
       "      <th></th>\n",
       "    </tr>\n",
       "  </thead>\n",
       "  <tbody>\n",
       "    <tr>\n",
       "      <th>2018</th>\n",
       "      <td>31944000.00</td>\n",
       "    </tr>\n",
       "    <tr>\n",
       "      <th>2020</th>\n",
       "      <td>5016000.00</td>\n",
       "    </tr>\n",
       "    <tr>\n",
       "      <th>2022</th>\n",
       "      <td>4332000.00</td>\n",
       "    </tr>\n",
       "  </tbody>\n",
       "</table>\n",
       "</div>"
      ],
      "text/plain": [
       "            Estimated Tircp Ghg Reductions\n",
       "Award Year                                \n",
       "2018                           31944000.00\n",
       "2020                            5016000.00\n",
       "2022                            4332000.00"
      ]
     },
     "execution_count": 75,
     "metadata": {},
     "output_type": "execute_result"
    }
   ],
   "source": [
    "GHG_by_year"
   ]
  },
  {
   "cell_type": "markdown",
   "id": "aa36d953-c76c-4228-9fd2-0966d026b0cc",
   "metadata": {},
   "source": [
    "#### Save"
   ]
  },
  {
   "cell_type": "code",
   "execution_count": null,
   "id": "bb3f4f0d-7ade-4d34-9a3d-16f154e88d38",
   "metadata": {},
   "outputs": [],
   "source": [
    "\"\"\"\n",
    "with pd.ExcelWriter(f\"{GCS_FILE_PATH}calsta_draft.xlsx\") as writer:\n",
    "    outcomes.to_excel(writer, sheet_name=\"outcomes_unpivoted\", index=True)\n",
    "    outcomes_transformed.to_excel(writer, sheet_name=\"outcomes_transformed\", index=True)\n",
    "    projects.to_excel(writer, sheet_name=\"projects\", index=True)\n",
    "    year_summary.to_excel(writer, sheet_name=\"year_summary\", index=True)\n",
    "    GHG_by_year.to_excel(writer, sheet_name=\"GHG_reduction_year\", index=True)\n",
    "    \"\"\""
   ]
  }
 ],
 "metadata": {
  "kernelspec": {
   "display_name": "Python 3 (ipykernel)",
   "language": "python",
   "name": "python3"
  },
  "language_info": {
   "codemirror_mode": {
    "name": "ipython",
    "version": 3
   },
   "file_extension": ".py",
   "mimetype": "text/x-python",
   "name": "python",
   "nbconvert_exporter": "python",
   "pygments_lexer": "ipython3",
   "version": "3.10.6"
  }
 },
 "nbformat": 4,
 "nbformat_minor": 5
}
