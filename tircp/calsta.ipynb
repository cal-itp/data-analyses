{
 "cells": [
  {
   "cell_type": "markdown",
   "id": "83709b77-d340-42e6-bbc4-35d683947460",
   "metadata": {},
   "source": [
    "## TIRCP Calsta\n",
    "* TIRCP outcomes for cycles 3-5 for California State Transportation Agency. \n",
    "* [Cycles 1-6](https://calsta.ca.gov/subject-areas/transit-intercity-rail-capital-prog)\n",
    "* Cycle 1: 2015\n",
    "* Cycle 2: 2016\n",
    "* Cycle 3: 2018\n",
    "* Cycle 4: 2020\n",
    "* Cycle 5: 2022\n",
    "* Cycle 6: 2023"
   ]
  },
  {
   "cell_type": "code",
   "execution_count": 324,
   "id": "de5e8978-cecf-44cf-9a92-e2282e3b2e61",
   "metadata": {
    "scrolled": true,
    "tags": []
   },
   "outputs": [],
   "source": [
    "import re\n",
    "from collections import Counter\n",
    "\n",
    "import A1_data_prep\n",
    "import A2_tableau\n",
    "import numpy as np\n",
    "import pandas as pd\n",
    "from babel.numbers import format_currency\n",
    "from calitp import *"
   ]
  },
  {
   "cell_type": "code",
   "execution_count": 325,
   "id": "b4635aa5-1ab6-4247-a1be-61d59f07c4ff",
   "metadata": {},
   "outputs": [],
   "source": [
    "pd.options.display.max_columns = 100\n",
    "pd.options.display.float_format = \"{:.2f}\".format\n",
    "pd.set_option(\"display.max_rows\", None)\n",
    "pd.set_option(\"display.max_colwidth\", None)"
   ]
  },
  {
   "cell_type": "code",
   "execution_count": 326,
   "id": "b8d3d0ef-e239-4aeb-9f18-2ec76a39b012",
   "metadata": {},
   "outputs": [],
   "source": [
    "# GCS File Path:\n",
    "GCS_FILE_PATH = \"gs://calitp-analytics-data/data-analyses/tircp/\""
   ]
  },
  {
   "cell_type": "markdown",
   "id": "a2036b3c-036e-4fe5-b83f-31070ef5ac6d",
   "metadata": {},
   "source": [
    "### Filter out for cycles of interest"
   ]
  },
  {
   "cell_type": "code",
   "execution_count": 327,
   "id": "3f1cf84c-abdf-4f9d-9ba3-c18dbb893e84",
   "metadata": {},
   "outputs": [
    {
     "name": "stderr",
     "output_type": "stream",
     "text": [
      "/opt/conda/lib/python3.10/site-packages/openpyxl/worksheet/_reader.py:312: UserWarning: Data Validation extension is not supported and will be removed\n",
      "  warn(msg)\n"
     ]
    }
   ],
   "source": [
    "df_tircp = to_snakecase(A2_tableau.tableau_dashboard())"
   ]
  },
  {
   "cell_type": "code",
   "execution_count": 328,
   "id": "0ee8a7b6-d0b6-4f03-bb23-26ac63945f66",
   "metadata": {},
   "outputs": [],
   "source": [
    "df_tircp2 = df_tircp.loc[df_tircp[\"award_year\"] >= 2018].reset_index(drop=True)"
   ]
  },
  {
   "cell_type": "code",
   "execution_count": 329,
   "id": "28a9b24b-6b71-403e-bafa-ce5136107ae6",
   "metadata": {},
   "outputs": [
    {
     "data": {
      "text/plain": [
       "(2018    28\n",
       " 2022    23\n",
       " 2020    17\n",
       " Name: award_year, dtype: int64,\n",
       " 68)"
      ]
     },
     "execution_count": 329,
     "metadata": {},
     "output_type": "execute_result"
    }
   ],
   "source": [
    "df_tircp2.award_year.value_counts(), len(df_tircp2)"
   ]
  },
  {
   "cell_type": "code",
   "execution_count": 330,
   "id": "8cb50778-8663-4f81-bab3-bcd27eae8d6d",
   "metadata": {},
   "outputs": [
    {
     "data": {
      "text/plain": [
       "(59, 67)"
      ]
     },
     "execution_count": 330,
     "metadata": {},
     "output_type": "execute_result"
    }
   ],
   "source": [
    "df_tircp2.ppno.nunique(), df_tircp2.title.nunique()"
   ]
  },
  {
   "cell_type": "markdown",
   "id": "b4e66999-8036-471d-ab74-5984c8475a83",
   "metadata": {},
   "source": [
    "### Add info based on SCCP's output example\n",
    "Project ID\tProject Name\tImplementing Agency\tProgram\tProject Description\t Total Cost \t SB 1 Funds \tFiscal Year\tIs SB 1?\tProject Status\tAssembly Districts\tSenate Districts\tCounties\tCities\tCaltrans Districts\tIs on SHS?\tDate Updated\tCycle\n"
   ]
  },
  {
   "cell_type": "markdown",
   "id": "3b879517-c819-4ade-8d43-b35de82dd01e",
   "metadata": {},
   "source": [
    "#### GIS Template has Assembly District/Senate District/City/Counties info"
   ]
  },
  {
   "cell_type": "code",
   "execution_count": 331,
   "id": "2d4bb751-a9d1-4cd5-a78d-017665955f8f",
   "metadata": {},
   "outputs": [],
   "source": [
    "# Read in sheet with Assembly info.\n",
    "gis = to_snakecase(\n",
    "    pd.read_excel(\n",
    "        f\"{GCS_FILE_PATH}TIRCP_GIS_Template_Requirements 6-1-2022.xlsx\",\n",
    "        sheet_name=\"Projects Table\",\n",
    "    )\n",
    ")"
   ]
  },
  {
   "cell_type": "code",
   "execution_count": 332,
   "id": "03079759-2216-4223-892b-913e0cab4ccb",
   "metadata": {},
   "outputs": [],
   "source": [
    "# Clean some column names\n",
    "gis = gis.rename(\n",
    "    columns={\n",
    "        \"ppno_\": \"ppno\",\n",
    "        \"assembly\\ndistricts\": \"assembly_districts\",\n",
    "        \"senate\\ndistricts\": \"senate_districts\",\n",
    "        \"caltrans\\ndistrict\": \"CT_district\",\n",
    "    }\n",
    ")"
   ]
  },
  {
   "cell_type": "code",
   "execution_count": 333,
   "id": "cfd913d7-31d6-4699-b36d-37f27f9b036f",
   "metadata": {},
   "outputs": [],
   "source": [
    "# Clean PPNO\n",
    "gis = A1_data_prep.ppno_slice(gis)"
   ]
  },
  {
   "cell_type": "code",
   "execution_count": 334,
   "id": "782fd272-ebd4-4a5e-9aa5-8ebc095ea2de",
   "metadata": {},
   "outputs": [],
   "source": [
    "# Subset for only cols of interest\n",
    "gis2 = gis[\n",
    "    [\n",
    "        \"project_number\",\n",
    "        \"ppno\",\n",
    "        \"projecttitle\",\n",
    "        \"projectstatus\",\n",
    "        \"assembly_districts\",\n",
    "        \"senate_districts\",\n",
    "        \"city_code\",\n",
    "        \"CT_district\",\n",
    "        \"county_code\",\n",
    "    ]\n",
    "]"
   ]
  },
  {
   "cell_type": "code",
   "execution_count": 335,
   "id": "95c3cc2b-7414-439b-a126-16dc7ae2c988",
   "metadata": {},
   "outputs": [
    {
     "data": {
      "text/plain": [
       "45"
      ]
     },
     "execution_count": 335,
     "metadata": {},
     "output_type": "execute_result"
    }
   ],
   "source": [
    "gis2.ppno.nunique()"
   ]
  },
  {
   "cell_type": "code",
   "execution_count": 336,
   "id": "c4b23719-022b-424b-8b05-b88cd452cdf3",
   "metadata": {},
   "outputs": [
    {
     "data": {
      "text/plain": [
       "CP033    60\n",
       "CP035    21\n",
       "CP042    18\n",
       "CP032    14\n",
       "CP031    11\n",
       "Name: ppno, dtype: int64"
      ]
     },
     "execution_count": 336,
     "metadata": {},
     "output_type": "execute_result"
    }
   ],
   "source": [
    "# There are mulitple entries for each ppno.\n",
    "gis2.ppno.value_counts().head()"
   ]
  },
  {
   "cell_type": "code",
   "execution_count": 337,
   "id": "ba6f3b63-1dd6-4667-ac92-50cfaec8847e",
   "metadata": {},
   "outputs": [
    {
     "name": "stderr",
     "output_type": "stream",
     "text": [
      "/tmp/ipykernel_206/1194175043.py:2: SettingWithCopyWarning: \n",
      "A value is trying to be set on a copy of a slice from a DataFrame.\n",
      "Try using .loc[row_indexer,col_indexer] = value instead\n",
      "\n",
      "See the caveats in the documentation: https://pandas.pydata.org/pandas-docs/stable/user_guide/indexing.html#returning-a-view-versus-a-copy\n",
      "  gis2[\"project_number\"] = gis2[\"project_number\"].str.split(\":\").str[0]\n"
     ]
    }
   ],
   "source": [
    "# Clean project_number, only keep year\n",
    "gis2[\"project_number\"] = gis2[\"project_number\"].str.split(\":\").str[0]"
   ]
  },
  {
   "cell_type": "code",
   "execution_count": 338,
   "id": "80fd92f1-9dab-4521-9ef7-f4237e49dbc2",
   "metadata": {},
   "outputs": [
    {
     "name": "stderr",
     "output_type": "stream",
     "text": [
      "/tmp/ipykernel_206/511736485.py:1: SettingWithCopyWarning: \n",
      "A value is trying to be set on a copy of a slice from a DataFrame.\n",
      "Try using .loc[row_indexer,col_indexer] = value instead\n",
      "\n",
      "See the caveats in the documentation: https://pandas.pydata.org/pandas-docs/stable/user_guide/indexing.html#returning-a-view-versus-a-copy\n",
      "  gis2[\"project_number\"] = gis2[\"project_number\"].fillna(0).astype(\"int64\")\n"
     ]
    }
   ],
   "source": [
    "gis2[\"project_number\"] = gis2[\"project_number\"].fillna(0).astype(\"int64\")"
   ]
  },
  {
   "cell_type": "code",
   "execution_count": 339,
   "id": "2818e6df-4412-4d0d-a739-d2e73bdc6167",
   "metadata": {},
   "outputs": [],
   "source": [
    "# Place project status all on one row.\n",
    "# Remove duplicate statuses\n",
    "def summarize_rows(df, col_to_group: str, col_to_summarize: str):\n",
    "    df = df.groupby(col_to_group)[col_to_summarize].apply(\",\".join).reset_index()\n",
    "\n",
    "    df[col_to_summarize] = (\n",
    "        df[col_to_summarize]\n",
    "        .apply(lambda x: \", \".join(set([y.strip() for y in x.split(\",\")])))\n",
    "        .str.strip()\n",
    "    )\n",
    "    return df"
   ]
  },
  {
   "cell_type": "code",
   "execution_count": 340,
   "id": "e8a7f578-2469-41a9-accc-4c7be34bbf3f",
   "metadata": {},
   "outputs": [],
   "source": [
    "project_status_gis = summarize_rows(gis2, \"ppno\", \"projectstatus\")"
   ]
  },
  {
   "cell_type": "code",
   "execution_count": 341,
   "id": "449472ef-aa25-469d-88af-226eebca7c34",
   "metadata": {},
   "outputs": [
    {
     "data": {
      "text/plain": [
       "True"
      ]
     },
     "execution_count": 341,
     "metadata": {},
     "output_type": "execute_result"
    }
   ],
   "source": [
    "# Check that each row matches the number of unique ppno\n",
    "len(project_status_gis) == gis2.ppno.nunique()"
   ]
  },
  {
   "cell_type": "code",
   "execution_count": 342,
   "id": "8b22a60e-b033-4b4b-8485-c26426f3edd6",
   "metadata": {},
   "outputs": [],
   "source": [
    "# Drop old project status\n",
    "gis2 = gis2.drop(columns=[\"projectstatus\"])"
   ]
  },
  {
   "cell_type": "code",
   "execution_count": 343,
   "id": "770cc59d-4aaf-4bbc-8519-21fabf0f3245",
   "metadata": {
    "scrolled": true,
    "tags": []
   },
   "outputs": [],
   "source": [
    "# Merge with original gis, so there is only one row for each PPNO\n",
    "final_gis = (\n",
    "    pd.merge(project_status_gis, gis2, how=\"left\", on=[\"ppno\"])\n",
    "    .drop_duplicates(\"ppno\")\n",
    "    .reset_index(drop=True)\n",
    ")"
   ]
  },
  {
   "cell_type": "markdown",
   "id": "3edc5b66-0af2-41c5-b89d-70c611ce3319",
   "metadata": {},
   "source": [
    "#### Merge with TIRCP Tracking"
   ]
  },
  {
   "cell_type": "code",
   "execution_count": 344,
   "id": "0fb3c660-78cb-4015-8ce2-2af5f6bb9201",
   "metadata": {},
   "outputs": [],
   "source": [
    "# Merge with df_tircp2\n",
    "merge1 = pd.merge(\n",
    "    df_tircp2,\n",
    "    final_gis,\n",
    "    how=\"left\",\n",
    "    left_on=[\"ppno\", \"award_year\"],\n",
    "    right_on=[\"ppno\", \"project_number\"],\n",
    "    indicator=True,\n",
    ")"
   ]
  },
  {
   "cell_type": "code",
   "execution_count": 345,
   "id": "719bfacf-d26b-4903-906f-34c614128c51",
   "metadata": {},
   "outputs": [
    {
     "data": {
      "text/plain": [
       "both          43\n",
       "left_only     25\n",
       "right_only     0\n",
       "Name: _merge, dtype: int64"
      ]
     },
     "execution_count": 345,
     "metadata": {},
     "output_type": "execute_result"
    }
   ],
   "source": [
    "merge1._merge.value_counts()"
   ]
  },
  {
   "cell_type": "code",
   "execution_count": 346,
   "id": "13deefae-6395-4969-a12c-2a6859d29d66",
   "metadata": {
    "tags": []
   },
   "outputs": [
    {
     "data": {
      "text/plain": [
       "'\\nmerge1.loc[merge1[\\'_merge\\'] == \\'both\\'][\\n    [\\n        \"award_year\",\\n        \\'project_number\\',\\n        \"title\",\\n        \"ppno\",\\n        \"projecttitle\",\\n        \"_merge\",\\n        \\n    ]\\n]\\n'"
      ]
     },
     "execution_count": 346,
     "metadata": {},
     "output_type": "execute_result"
    }
   ],
   "source": [
    "# Double Check\n",
    "\"\"\"\n",
    "merge1.loc[merge1['_merge'] == 'both'][\n",
    "    [\n",
    "        \"award_year\",\n",
    "        'project_number',\n",
    "        \"title\",\n",
    "        \"ppno\",\n",
    "        \"projecttitle\",\n",
    "        \"_merge\",\n",
    "        \n",
    "    ]\n",
    "]\n",
    "\"\"\""
   ]
  },
  {
   "cell_type": "markdown",
   "id": "59a7191b-12cc-43c9-ac27-2c31e7198722",
   "metadata": {},
   "source": [
    "### Project Sheet "
   ]
  },
  {
   "cell_type": "code",
   "execution_count": 347,
   "id": "24f3c194-3b89-4e96-857b-1bc354d0e782",
   "metadata": {},
   "outputs": [],
   "source": [
    "# Subset to cols simila to SCCP\n",
    "projects = merge1[\n",
    "    [\n",
    "        \"award_year\",\n",
    "        \"ppno\",\n",
    "        \"title\",\n",
    "        \"grant_recipient\",\n",
    "        \"district\",\n",
    "        \"county\",\n",
    "        \"description\",\n",
    "        \"total__cost\",\n",
    "        \"tircp\",\n",
    "        \"expended_amount\",\n",
    "        \"projectstatus\",\n",
    "        \"assembly_districts\",\n",
    "        \"county_code\",\n",
    "        \"senate_districts\",\n",
    "        \"city_code\",\n",
    "    ]\n",
    "]"
   ]
  },
  {
   "cell_type": "code",
   "execution_count": 348,
   "id": "74207fb1-4d58-4222-9425-24ef2063e93c",
   "metadata": {},
   "outputs": [],
   "source": [
    "projects = projects.fillna(projects.dtypes.replace({\"float64\": 0.0, \"object\": \"None\", \"int64\": 0}))"
   ]
  },
  {
   "cell_type": "code",
   "execution_count": 349,
   "id": "9b8ec11c-6295-4791-bc79-71968768b971",
   "metadata": {},
   "outputs": [],
   "source": [
    "monetary_cols = ['total__cost', 'tircp', 'expended_amount']"
   ]
  },
  {
   "cell_type": "code",
   "execution_count": 350,
   "id": "153ffc6e-f51f-4ef6-9370-2a4ac1f58eda",
   "metadata": {},
   "outputs": [],
   "source": [
    "for i in monetary_cols:\n",
    "    projects[i] = projects[i].apply(\n",
    "    lambda x: format_currency(x, currency=\"USD\", locale=\"en_US\"))"
   ]
  },
  {
   "cell_type": "code",
   "execution_count": 375,
   "id": "ffdb4025-cd25-4ca2-8f8c-a21b2445489d",
   "metadata": {
    "scrolled": true,
    "tags": []
   },
   "outputs": [],
   "source": [
    "projects = A1_data_prep.clean_up_columns(projects)"
   ]
  },
  {
   "cell_type": "markdown",
   "id": "8743ed0b-a9ca-42d7-a0c9-62bb52455466",
   "metadata": {},
   "source": [
    "### Outcomes Sheet"
   ]
  },
  {
   "cell_type": "code",
   "execution_count": 352,
   "id": "af03cc0d-1715-41f1-9111-6f9e35844d75",
   "metadata": {},
   "outputs": [],
   "source": [
    "# Create a detailed title column\n",
    "merge1[\"award_year\"] = merge1[\"award_year\"].astype(\"object\")"
   ]
  },
  {
   "cell_type": "code",
   "execution_count": 353,
   "id": "122a173e-9aff-438c-a70f-388912bc4eb6",
   "metadata": {},
   "outputs": [],
   "source": [
    "detailed_title_cols = [\n",
    "    \"award_year\",\n",
    "    \"title\",\n",
    "    \"grant_recipient\",\n",
    "]"
   ]
  },
  {
   "cell_type": "code",
   "execution_count": 354,
   "id": "54e3d7dd-8afa-4871-aaff-83537307faef",
   "metadata": {},
   "outputs": [],
   "source": [
    "# https://stackoverflow.com/questions/39291499/how-to-concatenate-multiple-column-values-into-a-single-column-in-pandas-datafra\n",
    "merge1[\"detailed_title_cols\"] = merge1[detailed_title_cols].apply(\n",
    "    lambda row: \"-\".join(row.values.astype(str)), axis=1\n",
    ")"
   ]
  },
  {
   "cell_type": "code",
   "execution_count": 355,
   "id": "e3a27b70-c744-4043-be47-ed9eb6637f41",
   "metadata": {},
   "outputs": [],
   "source": [
    "# Measure columns \n",
    "measure_cols=[ \"estimated_tircp_ghg_reductions\",\n",
    "        \"cost_per_ghg_ton_reduced\",\n",
    "        \"increased_ridership\",\n",
    "        \"service_integration\",\n",
    "        \"improve_safety\",]"
   ]
  },
  {
   "cell_type": "code",
   "execution_count": 356,
   "id": "8b7a831b-5689-4942-bda8-d6673d13a07e",
   "metadata": {},
   "outputs": [],
   "source": [
    "# Turn estimated GHG reductions into a number\n",
    "merge1[\"estimated_tircp_ghg_reductions\"] = (\n",
    "    merge1[\"estimated_tircp_ghg_reductions\"]\n",
    "    .str.replace(\"MTCO2e\", \"\")\n",
    "    .str.replace(\"None\", \"\")\n",
    "    .str.replace(\",\", \"\")\n",
    ")"
   ]
  },
  {
   "cell_type": "code",
   "execution_count": 357,
   "id": "0b035ed5-177a-4ab8-8e6c-7beb666c8ab6",
   "metadata": {},
   "outputs": [],
   "source": [
    "merge1[\"estimated_tircp_ghg_reductions\"] = merge1[\n",
    "    \"estimated_tircp_ghg_reductions\"\n",
    "].apply(pd.to_numeric, errors=\"coerce\")"
   ]
  },
  {
   "cell_type": "code",
   "execution_count": 358,
   "id": "ce540d07-dc7a-44d7-b21a-cfcaaa4ec43b",
   "metadata": {},
   "outputs": [],
   "source": [
    "# Subset to cols simila to SCCP\n",
    "outcomes = merge1[\n",
    "    [\n",
    "        \"award_year\",\n",
    "        \"detailed_title_cols\",\n",
    "        \"estimated_tircp_ghg_reductions\",\n",
    "        \"cost_per_ghg_ton_reduced\",\n",
    "        \"increased_ridership\",\n",
    "        \"service_integration\",\n",
    "        \"improve_safety\",\n",
    "    ]\n",
    "].sort_values([\"award_year\", \"detailed_title_cols\"])"
   ]
  },
  {
   "cell_type": "markdown",
   "id": "1474d69c-d7c3-40cb-8178-ec3c78c6d8ee",
   "metadata": {},
   "source": [
    "##### Version 1"
   ]
  },
  {
   "cell_type": "code",
   "execution_count": 359,
   "id": "bdbe0a48-42aa-4a1d-b018-3d8497384ca6",
   "metadata": {},
   "outputs": [],
   "source": [
    "# Drop award year\n",
    "outcomes_transformed = outcomes.drop(columns=[\"award_year\"]).T"
   ]
  },
  {
   "cell_type": "code",
   "execution_count": 360,
   "id": "58c09afa-f3d7-428c-9791-1de3582fc381",
   "metadata": {},
   "outputs": [],
   "source": [
    "# Make first row to column names\n",
    "outcomes_transformed.columns = outcomes_transformed.iloc[0]"
   ]
  },
  {
   "cell_type": "code",
   "execution_count": 361,
   "id": "f175b3b8-7992-4c49-ad23-18c8ac60f29e",
   "metadata": {},
   "outputs": [],
   "source": [
    "# Del first row\n",
    "outcomes_transformed = outcomes_transformed.iloc[1:]"
   ]
  },
  {
   "cell_type": "markdown",
   "id": "ba168112-3b5d-4fa8-88d5-de3546502a06",
   "metadata": {},
   "source": [
    "##### Version 2"
   ]
  },
  {
   "cell_type": "code",
   "execution_count": 368,
   "id": "ca989975-4147-42c2-a484-cbd46ff69347",
   "metadata": {},
   "outputs": [],
   "source": [
    "outcomes_melt = pd.melt(outcomes, id_vars=[ \"award_year\",\n",
    "        \"detailed_title_cols\",], value_vars=[\n",
    "        \"cost_per_ghg_ton_reduced\",\n",
    "        \"increased_ridership\",\n",
    "        \"service_integration\",\n",
    "        \"improve_safety\",])"
   ]
  },
  {
   "cell_type": "code",
   "execution_count": 384,
   "id": "f1439741-a4ca-40ad-a453-2f5358dc5984",
   "metadata": {},
   "outputs": [],
   "source": [
    "year_summary = (outcomes_melt\n",
    "                .groupby(['award_year','variable', 'value'])\n",
    "                .agg({'detailed_title_cols':'nunique'})\n",
    "                .rename(columns = {'detailed_title_cols':'number of projects'}) \n",
    "               )"
   ]
  },
  {
   "cell_type": "code",
   "execution_count": 385,
   "id": "348761d5-9cc0-4ae2-9b6a-c7b6dc7160ee",
   "metadata": {},
   "outputs": [
    {
     "data": {
      "text/html": [
       "<div>\n",
       "<style scoped>\n",
       "    .dataframe tbody tr th:only-of-type {\n",
       "        vertical-align: middle;\n",
       "    }\n",
       "\n",
       "    .dataframe tbody tr th {\n",
       "        vertical-align: top;\n",
       "    }\n",
       "\n",
       "    .dataframe thead th {\n",
       "        text-align: right;\n",
       "    }\n",
       "</style>\n",
       "<table border=\"1\" class=\"dataframe\">\n",
       "  <thead>\n",
       "    <tr style=\"text-align: right;\">\n",
       "      <th></th>\n",
       "      <th></th>\n",
       "      <th></th>\n",
       "      <th>number of projects</th>\n",
       "    </tr>\n",
       "    <tr>\n",
       "      <th>award_year</th>\n",
       "      <th>variable</th>\n",
       "      <th>value</th>\n",
       "      <th></th>\n",
       "    </tr>\n",
       "  </thead>\n",
       "  <tbody>\n",
       "    <tr>\n",
       "      <th rowspan=\"13\" valign=\"top\">2018</th>\n",
       "      <th rowspan=\"4\" valign=\"top\">cost_per_ghg_ton_reduced</th>\n",
       "      <th>High</th>\n",
       "      <td>16</td>\n",
       "    </tr>\n",
       "    <tr>\n",
       "      <th>Medium</th>\n",
       "      <td>3</td>\n",
       "    </tr>\n",
       "    <tr>\n",
       "      <th>Medium-High</th>\n",
       "      <td>8</td>\n",
       "    </tr>\n",
       "    <tr>\n",
       "      <th>None</th>\n",
       "      <td>1</td>\n",
       "    </tr>\n",
       "    <tr>\n",
       "      <th rowspan=\"3\" valign=\"top\">improve_safety</th>\n",
       "      <th>High</th>\n",
       "      <td>9</td>\n",
       "    </tr>\n",
       "    <tr>\n",
       "      <th>Medium</th>\n",
       "      <td>12</td>\n",
       "    </tr>\n",
       "    <tr>\n",
       "      <th>Medium-High</th>\n",
       "      <td>7</td>\n",
       "    </tr>\n",
       "    <tr>\n",
       "      <th rowspan=\"3\" valign=\"top\">increased_ridership</th>\n",
       "      <th>High</th>\n",
       "      <td>13</td>\n",
       "    </tr>\n",
       "    <tr>\n",
       "      <th>Medium</th>\n",
       "      <td>10</td>\n",
       "    </tr>\n",
       "    <tr>\n",
       "      <th>Medium-High</th>\n",
       "      <td>5</td>\n",
       "    </tr>\n",
       "    <tr>\n",
       "      <th rowspan=\"3\" valign=\"top\">service_integration</th>\n",
       "      <th>High</th>\n",
       "      <td>5</td>\n",
       "    </tr>\n",
       "    <tr>\n",
       "      <th>Medium</th>\n",
       "      <td>8</td>\n",
       "    </tr>\n",
       "    <tr>\n",
       "      <th>Medium-High</th>\n",
       "      <td>15</td>\n",
       "    </tr>\n",
       "    <tr>\n",
       "      <th rowspan=\"14\" valign=\"top\">2020</th>\n",
       "      <th rowspan=\"3\" valign=\"top\">cost_per_ghg_ton_reduced</th>\n",
       "      <th>High</th>\n",
       "      <td>8</td>\n",
       "    </tr>\n",
       "    <tr>\n",
       "      <th>Medium</th>\n",
       "      <td>2</td>\n",
       "    </tr>\n",
       "    <tr>\n",
       "      <th>Medium-High</th>\n",
       "      <td>7</td>\n",
       "    </tr>\n",
       "    <tr>\n",
       "      <th rowspan=\"3\" valign=\"top\">improve_safety</th>\n",
       "      <th>High</th>\n",
       "      <td>4</td>\n",
       "    </tr>\n",
       "    <tr>\n",
       "      <th>Medium</th>\n",
       "      <td>7</td>\n",
       "    </tr>\n",
       "    <tr>\n",
       "      <th>Medium-High</th>\n",
       "      <td>6</td>\n",
       "    </tr>\n",
       "    <tr>\n",
       "      <th rowspan=\"4\" valign=\"top\">increased_ridership</th>\n",
       "      <th>High</th>\n",
       "      <td>1</td>\n",
       "    </tr>\n",
       "    <tr>\n",
       "      <th>Medium</th>\n",
       "      <td>4</td>\n",
       "    </tr>\n",
       "    <tr>\n",
       "      <th>Medium-High</th>\n",
       "      <td>9</td>\n",
       "    </tr>\n",
       "    <tr>\n",
       "      <th>Medium-Low</th>\n",
       "      <td>3</td>\n",
       "    </tr>\n",
       "    <tr>\n",
       "      <th rowspan=\"4\" valign=\"top\">service_integration</th>\n",
       "      <th>High</th>\n",
       "      <td>2</td>\n",
       "    </tr>\n",
       "    <tr>\n",
       "      <th>Medium</th>\n",
       "      <td>5</td>\n",
       "    </tr>\n",
       "    <tr>\n",
       "      <th>Medium-High</th>\n",
       "      <td>8</td>\n",
       "    </tr>\n",
       "    <tr>\n",
       "      <th>Medium-Low</th>\n",
       "      <td>2</td>\n",
       "    </tr>\n",
       "    <tr>\n",
       "      <th rowspan=\"4\" valign=\"top\">2022</th>\n",
       "      <th>cost_per_ghg_ton_reduced</th>\n",
       "      <th>None</th>\n",
       "      <td>23</td>\n",
       "    </tr>\n",
       "    <tr>\n",
       "      <th>improve_safety</th>\n",
       "      <th>None</th>\n",
       "      <td>23</td>\n",
       "    </tr>\n",
       "    <tr>\n",
       "      <th>increased_ridership</th>\n",
       "      <th>None</th>\n",
       "      <td>23</td>\n",
       "    </tr>\n",
       "    <tr>\n",
       "      <th>service_integration</th>\n",
       "      <th>None</th>\n",
       "      <td>23</td>\n",
       "    </tr>\n",
       "  </tbody>\n",
       "</table>\n",
       "</div>"
      ],
      "text/plain": [
       "                                                 number of projects\n",
       "award_year variable                 value                          \n",
       "2018       cost_per_ghg_ton_reduced High                         16\n",
       "                                    Medium                        3\n",
       "                                    Medium-High                   8\n",
       "                                    None                          1\n",
       "           improve_safety           High                          9\n",
       "                                    Medium                       12\n",
       "                                    Medium-High                   7\n",
       "           increased_ridership      High                         13\n",
       "                                    Medium                       10\n",
       "                                    Medium-High                   5\n",
       "           service_integration      High                          5\n",
       "                                    Medium                        8\n",
       "                                    Medium-High                  15\n",
       "2020       cost_per_ghg_ton_reduced High                          8\n",
       "                                    Medium                        2\n",
       "                                    Medium-High                   7\n",
       "           improve_safety           High                          4\n",
       "                                    Medium                        7\n",
       "                                    Medium-High                   6\n",
       "           increased_ridership      High                          1\n",
       "                                    Medium                        4\n",
       "                                    Medium-High                   9\n",
       "                                    Medium-Low                    3\n",
       "           service_integration      High                          2\n",
       "                                    Medium                        5\n",
       "                                    Medium-High                   8\n",
       "                                    Medium-Low                    2\n",
       "2022       cost_per_ghg_ton_reduced None                         23\n",
       "           improve_safety           None                         23\n",
       "           increased_ridership      None                         23\n",
       "           service_integration      None                         23"
      ]
     },
     "execution_count": 385,
     "metadata": {},
     "output_type": "execute_result"
    }
   ],
   "source": [
    "year_summary"
   ]
  },
  {
   "cell_type": "markdown",
   "id": "aa36d953-c76c-4228-9fd2-0966d026b0cc",
   "metadata": {},
   "source": [
    "#### Save"
   ]
  },
  {
   "cell_type": "code",
   "execution_count": 396,
   "id": "d9b4a2be-476c-4737-a3a0-f71f16de4cf4",
   "metadata": {},
   "outputs": [],
   "source": [
    "with pd.ExcelWriter(f\"{GCS_FILE_PATH}calsta_draft.xlsx\") as writer:\n",
    "    outcomes.to_excel(writer, sheet_name=\"outcomes_unpivoted\", index=True)\n",
    "    outcomes_transformed.to_excel(writer, sheet_name=\"outcomes_transformed\", index=True)\n",
    "    projects.to_excel(writer, sheet_name=\"projects\", index=True)\n",
    "    year_summary.to_excel(writer, sheet_name=\"year_summary\", index=True)"
   ]
  }
 ],
 "metadata": {
  "kernelspec": {
   "display_name": "Python 3 (ipykernel)",
   "language": "python",
   "name": "python3"
  },
  "language_info": {
   "codemirror_mode": {
    "name": "ipython",
    "version": 3
   },
   "file_extension": ".py",
   "mimetype": "text/x-python",
   "name": "python",
   "nbconvert_exporter": "python",
   "pygments_lexer": "ipython3",
   "version": "3.10.6"
  }
 },
 "nbformat": 4,
 "nbformat_minor": 5
}
