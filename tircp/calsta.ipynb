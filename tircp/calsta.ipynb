{
 "cells": [
  {
   "cell_type": "markdown",
   "id": "83709b77-d340-42e6-bbc4-35d683947460",
   "metadata": {},
   "source": [
    "## TIRCP Calsta\n",
    "* TIRCP outcomes for cycles 3-5 for California State Transportation Agency. \n",
    "* [Cycles 1-6](https://calsta.ca.gov/subject-areas/transit-intercity-rail-capital-prog)\n",
    "* Cycle 1: 2015\n",
    "* Cycle 2: 2016\n",
    "* Cycle 3: 2018\n",
    "* Cycle 4: 2020\n",
    "* Cycle 5: 2022\n",
    "* Cycle 6: 2023"
   ]
  },
  {
   "cell_type": "code",
   "execution_count": 243,
   "id": "de5e8978-cecf-44cf-9a92-e2282e3b2e61",
   "metadata": {
    "scrolled": true,
    "tags": []
   },
   "outputs": [],
   "source": [
    "import A1_data_prep\n",
    "import A2_tableau\n",
    "import numpy as np\n",
    "import pandas as pd\n",
    "from babel.numbers import format_currency\n",
    "from calitp import *"
   ]
  },
  {
   "cell_type": "code",
   "execution_count": 244,
   "id": "b4635aa5-1ab6-4247-a1be-61d59f07c4ff",
   "metadata": {},
   "outputs": [],
   "source": [
    "pd.options.display.max_columns = 100\n",
    "pd.options.display.float_format = \"{:.2f}\".format\n",
    "pd.set_option(\"display.max_rows\", None)\n",
    "pd.set_option(\"display.max_colwidth\", None)"
   ]
  },
  {
   "cell_type": "code",
   "execution_count": 245,
   "id": "b8d3d0ef-e239-4aeb-9f18-2ec76a39b012",
   "metadata": {},
   "outputs": [],
   "source": [
    "# GCS File Path:\n",
    "GCS_FILE_PATH = \"gs://calitp-analytics-data/data-analyses/tircp/\""
   ]
  },
  {
   "cell_type": "markdown",
   "id": "a2036b3c-036e-4fe5-b83f-31070ef5ac6d",
   "metadata": {},
   "source": [
    "### Filter out for cycles of interest"
   ]
  },
  {
   "cell_type": "code",
   "execution_count": 246,
   "id": "3f1cf84c-abdf-4f9d-9ba3-c18dbb893e84",
   "metadata": {},
   "outputs": [
    {
     "name": "stderr",
     "output_type": "stream",
     "text": [
      "/opt/conda/lib/python3.10/site-packages/openpyxl/worksheet/_reader.py:312: UserWarning: Data Validation extension is not supported and will be removed\n",
      "  warn(msg)\n"
     ]
    }
   ],
   "source": [
    "df_tircp = to_snakecase(A2_tableau.tableau_dashboard())"
   ]
  },
  {
   "cell_type": "code",
   "execution_count": 247,
   "id": "0ee8a7b6-d0b6-4f03-bb23-26ac63945f66",
   "metadata": {},
   "outputs": [],
   "source": [
    "df_tircp2 = df_tircp.loc[df_tircp[\"award_year\"] >= 2018].reset_index(drop=True)"
   ]
  },
  {
   "cell_type": "code",
   "execution_count": 248,
   "id": "28a9b24b-6b71-403e-bafa-ce5136107ae6",
   "metadata": {},
   "outputs": [
    {
     "data": {
      "text/plain": [
       "(2018    28\n",
       " 2022    23\n",
       " 2020    17\n",
       " Name: award_year, dtype: int64,)"
      ]
     },
     "execution_count": 248,
     "metadata": {},
     "output_type": "execute_result"
    }
   ],
   "source": [
    "df_tircp2.award_year.value_counts(), "
   ]
  },
  {
   "cell_type": "code",
   "execution_count": 249,
   "id": "8cb50778-8663-4f81-bab3-bcd27eae8d6d",
   "metadata": {},
   "outputs": [
    {
     "data": {
      "text/plain": [
       "(59, 67, 68)"
      ]
     },
     "execution_count": 249,
     "metadata": {},
     "output_type": "execute_result"
    }
   ],
   "source": [
    "df_tircp2.ppno.nunique(), df_tircp2.title.nunique(), len(df_tircp2)"
   ]
  },
  {
   "cell_type": "markdown",
   "id": "b4e66999-8036-471d-ab74-5984c8475a83",
   "metadata": {},
   "source": [
    "### Add info based on SCCP's output example\n",
    "Project ID\tProject Name\tImplementing Agency\tProgram\tProject Description\t Total Cost \t SB 1 Funds \tFiscal Year\tIs SB 1?\tProject Status\tAssembly Districts\tSenate Districts\tCounties\tCities\tCaltrans Districts\tIs on SHS?\tDate Updated\tCycle\n"
   ]
  },
  {
   "cell_type": "markdown",
   "id": "3b879517-c819-4ade-8d43-b35de82dd01e",
   "metadata": {},
   "source": [
    "#### GIS Template has Assembly District/Senate District/City/Counties info"
   ]
  },
  {
   "cell_type": "code",
   "execution_count": 250,
   "id": "2d4bb751-a9d1-4cd5-a78d-017665955f8f",
   "metadata": {},
   "outputs": [],
   "source": [
    "# Read in sheet with Assembly info.\n",
    "gis = to_snakecase(\n",
    "    pd.read_excel(\n",
    "        f\"{GCS_FILE_PATH}TIRCP_GIS_Template_Requirements 6-1-2022.xlsx\",\n",
    "        sheet_name=\"Projects Table\",\n",
    "    )\n",
    ")"
   ]
  },
  {
   "cell_type": "code",
   "execution_count": 251,
   "id": "03079759-2216-4223-892b-913e0cab4ccb",
   "metadata": {},
   "outputs": [],
   "source": [
    "# Clean some column names\n",
    "gis = gis.rename(\n",
    "    columns={\n",
    "        \"ppno_\": \"ppno\",\n",
    "        \"assembly\\ndistricts\": \"assembly_districts\",\n",
    "        \"senate\\ndistricts\": \"senate_districts\",\n",
    "        \"caltrans\\ndistrict\": \"CT_district\",\n",
    "    }\n",
    ")"
   ]
  },
  {
   "cell_type": "code",
   "execution_count": 252,
   "id": "cfd913d7-31d6-4699-b36d-37f27f9b036f",
   "metadata": {},
   "outputs": [],
   "source": [
    "# Clean PPNO\n",
    "gis = A1_data_prep.ppno_slice(gis)"
   ]
  },
  {
   "cell_type": "code",
   "execution_count": 253,
   "id": "782fd272-ebd4-4a5e-9aa5-8ebc095ea2de",
   "metadata": {},
   "outputs": [],
   "source": [
    "# Subset for only cols of interest\n",
    "gis2 = gis[\n",
    "    [\n",
    "        \"project_number\",\n",
    "        \"ppno\",\n",
    "        \"projecttitle\",\n",
    "        \"projectstatus\",\n",
    "        \"assembly_districts\",\n",
    "        \"senate_districts\",\n",
    "        \"city_code\",\n",
    "        \"CT_district\",\n",
    "        \"county_code\",\n",
    "    ]\n",
    "]"
   ]
  },
  {
   "cell_type": "code",
   "execution_count": 254,
   "id": "95c3cc2b-7414-439b-a126-16dc7ae2c988",
   "metadata": {},
   "outputs": [
    {
     "data": {
      "text/plain": [
       "45"
      ]
     },
     "execution_count": 254,
     "metadata": {},
     "output_type": "execute_result"
    }
   ],
   "source": [
    "gis2.ppno.nunique()"
   ]
  },
  {
   "cell_type": "code",
   "execution_count": 255,
   "id": "c4b23719-022b-424b-8b05-b88cd452cdf3",
   "metadata": {},
   "outputs": [
    {
     "data": {
      "text/plain": [
       "CP033    60\n",
       "CP035    21\n",
       "CP042    18\n",
       "CP032    14\n",
       "CP031    11\n",
       "Name: ppno, dtype: int64"
      ]
     },
     "execution_count": 255,
     "metadata": {},
     "output_type": "execute_result"
    }
   ],
   "source": [
    "# There are mulitple entries for each ppno.\n",
    "gis2.ppno.value_counts().head()"
   ]
  },
  {
   "cell_type": "code",
   "execution_count": 256,
   "id": "f7345aed-44b4-4982-b687-b1c1e9e15169",
   "metadata": {},
   "outputs": [
    {
     "name": "stderr",
     "output_type": "stream",
     "text": [
      "/tmp/ipykernel_1249/3645931298.py:2: SettingWithCopyWarning: \n",
      "A value is trying to be set on a copy of a slice from a DataFrame\n",
      "\n",
      "See the caveats in the documentation: https://pandas.pydata.org/pandas-docs/stable/user_guide/indexing.html#returning-a-view-versus-a-copy\n",
      "  gis2.loc[(gis2[\"projecttitle\"] ==  'Inglewood Transit Center (2020:04)'), \"ppno\"] = \"CP062\"\n"
     ]
    }
   ],
   "source": [
    "# Inglewood Transit Center coded as CP063, should be CP062\n",
    "gis2.loc[(gis2[\"projecttitle\"] ==  'Inglewood Transit Center (2020:04)'), \"ppno\"] = \"CP062\""
   ]
  },
  {
   "cell_type": "code",
   "execution_count": 257,
   "id": "600bbdad-c63a-452f-a930-0087430f2fb8",
   "metadata": {},
   "outputs": [
    {
     "name": "stderr",
     "output_type": "stream",
     "text": [
      "/tmp/ipykernel_1249/4173488754.py:2: SettingWithCopyWarning: \n",
      "A value is trying to be set on a copy of a slice from a DataFrame\n",
      "\n",
      "See the caveats in the documentation: https://pandas.pydata.org/pandas-docs/stable/user_guide/indexing.html#returning-a-view-versus-a-copy\n",
      "  gis2.loc[(gis2[\"projecttitle\"] ==  'North State Intercity Bus System-Lake County Interregional Transit Center (2020:05)'), \"ppno\"] = \"CP063\"\n"
     ]
    }
   ],
   "source": [
    "# North State Intercity Bus System coded as CP063 in TIRCP Tracking sheet.\n",
    "gis2.loc[(gis2[\"projecttitle\"] ==  'North State Intercity Bus System-Lake County Interregional Transit Center (2020:05)'), \"ppno\"] = \"CP063\""
   ]
  },
  {
   "cell_type": "code",
   "execution_count": 258,
   "id": "44615a39-14a3-4f2c-a31d-f4386b7da870",
   "metadata": {},
   "outputs": [],
   "source": [
    "# gis2.loc[gis2['ppno'] == 'CP063']"
   ]
  },
  {
   "cell_type": "code",
   "execution_count": 259,
   "id": "43c9abd9-0ce2-4cfe-aff0-087f0f553d30",
   "metadata": {},
   "outputs": [
    {
     "data": {
      "text/html": [
       "<div>\n",
       "<style scoped>\n",
       "    .dataframe tbody tr th:only-of-type {\n",
       "        vertical-align: middle;\n",
       "    }\n",
       "\n",
       "    .dataframe tbody tr th {\n",
       "        vertical-align: top;\n",
       "    }\n",
       "\n",
       "    .dataframe thead th {\n",
       "        text-align: right;\n",
       "    }\n",
       "</style>\n",
       "<table border=\"1\" class=\"dataframe\">\n",
       "  <thead>\n",
       "    <tr style=\"text-align: right;\">\n",
       "      <th></th>\n",
       "      <th>project_number</th>\n",
       "      <th>ppno</th>\n",
       "      <th>projecttitle</th>\n",
       "      <th>projectstatus</th>\n",
       "      <th>assembly_districts</th>\n",
       "      <th>senate_districts</th>\n",
       "      <th>city_code</th>\n",
       "      <th>CT_district</th>\n",
       "      <th>county_code</th>\n",
       "    </tr>\n",
       "  </thead>\n",
       "  <tbody>\n",
       "    <tr>\n",
       "      <th>202</th>\n",
       "      <td>2020:05</td>\n",
       "      <td>CP063</td>\n",
       "      <td>North State Intercity Bus System-Lake County Interregional Transit Center (2020:05)</td>\n",
       "      <td>PA&amp;ED</td>\n",
       "      <td>|04|02|10|</td>\n",
       "      <td>|02|</td>\n",
       "      <td>|5427|5028|</td>\n",
       "      <td>|01|</td>\n",
       "      <td>|5914|5920|</td>\n",
       "    </tr>\n",
       "    <tr>\n",
       "      <th>203</th>\n",
       "      <td>2020:05</td>\n",
       "      <td>CP063</td>\n",
       "      <td>North State Intercity Bus System-Lake County Interregional Transit Center (2020:05)</td>\n",
       "      <td>R/W</td>\n",
       "      <td>|04|02|10|</td>\n",
       "      <td>|02|</td>\n",
       "      <td>|5427|5028|</td>\n",
       "      <td>|01|</td>\n",
       "      <td>|5914|5920|</td>\n",
       "    </tr>\n",
       "    <tr>\n",
       "      <th>204</th>\n",
       "      <td>2020:05</td>\n",
       "      <td>CP063</td>\n",
       "      <td>North State Intercity Bus System-Lake County Interregional Transit Center (2020:05)</td>\n",
       "      <td>Construction</td>\n",
       "      <td>|04|02|10|</td>\n",
       "      <td>|02|</td>\n",
       "      <td>|5427|5028|</td>\n",
       "      <td>|01|</td>\n",
       "      <td>|5914|5920|</td>\n",
       "    </tr>\n",
       "    <tr>\n",
       "      <th>205</th>\n",
       "      <td>2020:05</td>\n",
       "      <td>CP063</td>\n",
       "      <td>North State Intercity Bus System-Lake County Interregional Transit Center (2020:05)</td>\n",
       "      <td>Ops./Procure</td>\n",
       "      <td>|04|02|10|</td>\n",
       "      <td>|02|</td>\n",
       "      <td>|5427|5028|</td>\n",
       "      <td>|01|</td>\n",
       "      <td>|5914|5920|</td>\n",
       "    </tr>\n",
       "  </tbody>\n",
       "</table>\n",
       "</div>"
      ],
      "text/plain": [
       "    project_number   ppno  \\\n",
       "202        2020:05  CP063   \n",
       "203        2020:05  CP063   \n",
       "204        2020:05  CP063   \n",
       "205        2020:05  CP063   \n",
       "\n",
       "                                                                            projecttitle  \\\n",
       "202  North State Intercity Bus System-Lake County Interregional Transit Center (2020:05)   \n",
       "203  North State Intercity Bus System-Lake County Interregional Transit Center (2020:05)   \n",
       "204  North State Intercity Bus System-Lake County Interregional Transit Center (2020:05)   \n",
       "205  North State Intercity Bus System-Lake County Interregional Transit Center (2020:05)   \n",
       "\n",
       "    projectstatus assembly_districts senate_districts    city_code  \\\n",
       "202         PA&ED         |04|02|10|             |02|  |5427|5028|   \n",
       "203           R/W         |04|02|10|             |02|  |5427|5028|   \n",
       "204  Construction         |04|02|10|             |02|  |5427|5028|   \n",
       "205  Ops./Procure         |04|02|10|             |02|  |5427|5028|   \n",
       "\n",
       "    CT_district  county_code  \n",
       "202        |01|  |5914|5920|  \n",
       "203        |01|  |5914|5920|  \n",
       "204        |01|  |5914|5920|  \n",
       "205        |01|  |5914|5920|  "
      ]
     },
     "execution_count": 259,
     "metadata": {},
     "output_type": "execute_result"
    }
   ],
   "source": [
    "gis2.loc[gis2['projecttitle'] == 'North State Intercity Bus System-Lake County Interregional Transit Center (2020:05)']"
   ]
  },
  {
   "cell_type": "code",
   "execution_count": 260,
   "id": "ba6f3b63-1dd6-4667-ac92-50cfaec8847e",
   "metadata": {},
   "outputs": [
    {
     "name": "stderr",
     "output_type": "stream",
     "text": [
      "/tmp/ipykernel_1249/1194175043.py:2: SettingWithCopyWarning: \n",
      "A value is trying to be set on a copy of a slice from a DataFrame.\n",
      "Try using .loc[row_indexer,col_indexer] = value instead\n",
      "\n",
      "See the caveats in the documentation: https://pandas.pydata.org/pandas-docs/stable/user_guide/indexing.html#returning-a-view-versus-a-copy\n",
      "  gis2[\"project_number\"] = gis2[\"project_number\"].str.split(\":\").str[0]\n"
     ]
    }
   ],
   "source": [
    "# Clean project_number, only keep year\n",
    "gis2[\"project_number\"] = gis2[\"project_number\"].str.split(\":\").str[0]"
   ]
  },
  {
   "cell_type": "code",
   "execution_count": 261,
   "id": "80fd92f1-9dab-4521-9ef7-f4237e49dbc2",
   "metadata": {},
   "outputs": [
    {
     "name": "stderr",
     "output_type": "stream",
     "text": [
      "/tmp/ipykernel_1249/511736485.py:1: SettingWithCopyWarning: \n",
      "A value is trying to be set on a copy of a slice from a DataFrame.\n",
      "Try using .loc[row_indexer,col_indexer] = value instead\n",
      "\n",
      "See the caveats in the documentation: https://pandas.pydata.org/pandas-docs/stable/user_guide/indexing.html#returning-a-view-versus-a-copy\n",
      "  gis2[\"project_number\"] = gis2[\"project_number\"].fillna(0).astype(\"int64\")\n"
     ]
    }
   ],
   "source": [
    "gis2[\"project_number\"] = gis2[\"project_number\"].fillna(0).astype(\"int64\")"
   ]
  },
  {
   "cell_type": "code",
   "execution_count": 262,
   "id": "2818e6df-4412-4d0d-a739-d2e73bdc6167",
   "metadata": {},
   "outputs": [],
   "source": [
    "# Place project status all on one row & Remove duplicate statuses\n",
    "def summarize_rows(df, col_to_group: str, col_to_summarize: str):\n",
    "    df = df.groupby(col_to_group)[col_to_summarize].apply(\",\".join).reset_index()\n",
    "\n",
    "    df[col_to_summarize] = (\n",
    "        df[col_to_summarize]\n",
    "        .apply(lambda x: \", \".join(set([y.strip() for y in x.split(\",\")])))\n",
    "        .str.strip()\n",
    "    )\n",
    "    return df"
   ]
  },
  {
   "cell_type": "code",
   "execution_count": 263,
   "id": "e8a7f578-2469-41a9-accc-4c7be34bbf3f",
   "metadata": {},
   "outputs": [],
   "source": [
    "project_status_gis = summarize_rows(gis2, \"ppno\", \"projectstatus\")"
   ]
  },
  {
   "cell_type": "code",
   "execution_count": 264,
   "id": "449472ef-aa25-469d-88af-226eebca7c34",
   "metadata": {},
   "outputs": [
    {
     "data": {
      "text/plain": [
       "True"
      ]
     },
     "execution_count": 264,
     "metadata": {},
     "output_type": "execute_result"
    }
   ],
   "source": [
    "# Check that each row matches the number of unique ppno\n",
    "len(project_status_gis) == gis2.ppno.nunique()"
   ]
  },
  {
   "cell_type": "code",
   "execution_count": 265,
   "id": "8b22a60e-b033-4b4b-8485-c26426f3edd6",
   "metadata": {},
   "outputs": [],
   "source": [
    "# Drop old project status\n",
    "gis2 = gis2.drop(columns=[\"projectstatus\"])"
   ]
  },
  {
   "cell_type": "code",
   "execution_count": 266,
   "id": "770cc59d-4aaf-4bbc-8519-21fabf0f3245",
   "metadata": {
    "scrolled": true,
    "tags": []
   },
   "outputs": [],
   "source": [
    "# Merge with original gis, so there is only one row for each PPNO\n",
    "final_gis = (\n",
    "    pd.merge(project_status_gis, gis2, how=\"left\", on=[\"ppno\"])\n",
    "    .drop_duplicates(\"ppno\")\n",
    "    .reset_index(drop=True)\n",
    ")"
   ]
  },
  {
   "cell_type": "code",
   "execution_count": 267,
   "id": "9e927fc6-816f-41f1-91fa-52e162f837df",
   "metadata": {},
   "outputs": [
    {
     "data": {
      "text/plain": [
       "(45, 45)"
      ]
     },
     "execution_count": 267,
     "metadata": {},
     "output_type": "execute_result"
    }
   ],
   "source": [
    "len(final_gis), final_gis.ppno.nunique()"
   ]
  },
  {
   "cell_type": "markdown",
   "id": "3edc5b66-0af2-41c5-b89d-70c611ce3319",
   "metadata": {},
   "source": [
    "#### Merge with TIRCP Tracking"
   ]
  },
  {
   "cell_type": "code",
   "execution_count": 268,
   "id": "0fb3c660-78cb-4015-8ce2-2af5f6bb9201",
   "metadata": {},
   "outputs": [],
   "source": [
    "# Merge with df_tircp2\n",
    "merge1 = pd.merge(\n",
    "    df_tircp2,\n",
    "    final_gis,\n",
    "    how=\"left\",\n",
    "    left_on=[\"ppno\", \"award_year\"],\n",
    "    right_on=[\"ppno\", \"project_number\"],\n",
    "    indicator=True,\n",
    ")"
   ]
  },
  {
   "cell_type": "code",
   "execution_count": 269,
   "id": "719bfacf-d26b-4903-906f-34c614128c51",
   "metadata": {},
   "outputs": [
    {
     "data": {
      "text/plain": [
       "both          43\n",
       "left_only     25\n",
       "right_only     0\n",
       "Name: _merge, dtype: int64"
      ]
     },
     "execution_count": 269,
     "metadata": {},
     "output_type": "execute_result"
    }
   ],
   "source": [
    "merge1._merge.value_counts()"
   ]
  },
  {
   "cell_type": "code",
   "execution_count": 270,
   "id": "13deefae-6395-4969-a12c-2a6859d29d66",
   "metadata": {
    "scrolled": true,
    "tags": []
   },
   "outputs": [
    {
     "data": {
      "text/plain": [
       "'\\nmerge1.loc[merge1[\\'_merge\\'] == \\'both\\'][\\n    [\\n        \"award_year\",\\n        \\'project_number\\',\\n        \"title\",\\n        \"ppno\",\\n        \"projecttitle\",\\n        \"_merge\",\\n        \\n    ]\\n].sort_values([\\'award_year\\',\\'project_number\\'])\\n'"
      ]
     },
     "execution_count": 270,
     "metadata": {},
     "output_type": "execute_result"
    }
   ],
   "source": [
    "# Double Check that titles & years correspond with one another\n",
    "\"\"\"\n",
    "merge1.loc[merge1['_merge'] == 'both'][\n",
    "    [\n",
    "        \"award_year\",\n",
    "        'project_number',\n",
    "        \"title\",\n",
    "        \"ppno\",\n",
    "        \"projecttitle\",\n",
    "        \"_merge\",\n",
    "        \n",
    "    ]\n",
    "].sort_values(['award_year','project_number'])\n",
    "\"\"\""
   ]
  },
  {
   "cell_type": "markdown",
   "id": "59a7191b-12cc-43c9-ac27-2c31e7198722",
   "metadata": {},
   "source": [
    "### Project Sheet "
   ]
  },
  {
   "cell_type": "code",
   "execution_count": 271,
   "id": "24f3c194-3b89-4e96-857b-1bc354d0e782",
   "metadata": {},
   "outputs": [],
   "source": [
    "# Subset to cols simila to SCCP\n",
    "projects = merge1[\n",
    "    [\n",
    "        \"award_year\",\n",
    "        \"ppno\",\n",
    "        \"title\",\n",
    "        \"grant_recipient\",\n",
    "        \"district\",\n",
    "        \"county\",\n",
    "        \"description\",\n",
    "        \"total__cost\",\n",
    "        \"tircp\",\n",
    "        \"projectstatus\",\n",
    "        \"assembly_districts\",\n",
    "        \"county_code\",\n",
    "        \"senate_districts\",\n",
    "        \"city_code\",\n",
    "    ]\n",
    "]"
   ]
  },
  {
   "cell_type": "code",
   "execution_count": 272,
   "id": "74207fb1-4d58-4222-9425-24ef2063e93c",
   "metadata": {},
   "outputs": [],
   "source": [
    "# Fill in empty values with NA\n",
    "projects = projects.fillna(projects.dtypes.replace({\"float64\": 0.0, \"object\": \"None\", \"int64\": 0}))"
   ]
  },
  {
   "cell_type": "code",
   "execution_count": 273,
   "id": "153ffc6e-f51f-4ef6-9370-2a4ac1f58eda",
   "metadata": {},
   "outputs": [],
   "source": [
    "# Format moentary cols\n",
    "monetary_cols = ['total__cost', 'tircp']\n",
    "for i in monetary_cols:\n",
    "    projects[i] = projects[i].apply(\n",
    "    lambda x: format_currency(x, currency=\"USD\", locale=\"en_US\"))"
   ]
  },
  {
   "cell_type": "code",
   "execution_count": 274,
   "id": "ffdb4025-cd25-4ca2-8f8c-a21b2445489d",
   "metadata": {
    "scrolled": true,
    "tags": []
   },
   "outputs": [],
   "source": [
    "# Clean up columns \n",
    "projects = A1_data_prep.clean_up_columns(projects)"
   ]
  },
  {
   "cell_type": "markdown",
   "id": "8743ed0b-a9ca-42d7-a0c9-62bb52455466",
   "metadata": {},
   "source": [
    "### Outcomes Sheet"
   ]
  },
  {
   "cell_type": "code",
   "execution_count": 275,
   "id": "af03cc0d-1715-41f1-9111-6f9e35844d75",
   "metadata": {},
   "outputs": [],
   "source": [
    "# Create a detailed title column\n",
    "merge1[\"award_year\"] = merge1[\"award_year\"].astype(\"object\")"
   ]
  },
  {
   "cell_type": "code",
   "execution_count": 276,
   "id": "122a173e-9aff-438c-a70f-388912bc4eb6",
   "metadata": {},
   "outputs": [],
   "source": [
    "detailed_title_cols = [\n",
    "    \"award_year\",\n",
    "    \"title\",\n",
    "    \"grant_recipient\",\n",
    "]"
   ]
  },
  {
   "cell_type": "code",
   "execution_count": 277,
   "id": "54e3d7dd-8afa-4871-aaff-83537307faef",
   "metadata": {},
   "outputs": [],
   "source": [
    "# https://stackoverflow.com/questions/39291499/how-to-concatenate-multiple-column-values-into-a-single-column-in-pandas-datafra\n",
    "merge1[\"detailed_title_cols\"] = merge1[detailed_title_cols].apply(\n",
    "    lambda row: \"-\".join(row.values.astype(str)), axis=1\n",
    ")"
   ]
  },
  {
   "cell_type": "code",
   "execution_count": 278,
   "id": "e3a27b70-c744-4043-be47-ed9eb6637f41",
   "metadata": {},
   "outputs": [],
   "source": [
    "# Measure columns \n",
    "measure_cols=[ \"estimated_tircp_ghg_reductions\",\n",
    "        \"cost_per_ghg_ton_reduced\",\n",
    "        \"increased_ridership\",\n",
    "        \"service_integration\",\n",
    "        \"improve_safety\",]"
   ]
  },
  {
   "cell_type": "code",
   "execution_count": 279,
   "id": "8b7a831b-5689-4942-bda8-d6673d13a07e",
   "metadata": {},
   "outputs": [],
   "source": [
    "# Turn estimated GHG reductions into a number\n",
    "merge1[\"estimated_tircp_ghg_reductions\"] = (\n",
    "    merge1[\"estimated_tircp_ghg_reductions\"]\n",
    "    .str.replace(\"MTCO2e\", \"\")\n",
    "    .str.replace(\"None\", \"\")\n",
    "    .str.replace(\",\", \"\")\n",
    ")"
   ]
  },
  {
   "cell_type": "code",
   "execution_count": 280,
   "id": "0b035ed5-177a-4ab8-8e6c-7beb666c8ab6",
   "metadata": {},
   "outputs": [],
   "source": [
    "merge1[\"estimated_tircp_ghg_reductions\"] = merge1[\n",
    "    \"estimated_tircp_ghg_reductions\"\n",
    "].apply(pd.to_numeric, errors=\"coerce\").fillna(0)"
   ]
  },
  {
   "cell_type": "code",
   "execution_count": 306,
   "id": "ce540d07-dc7a-44d7-b21a-cfcaaa4ec43b",
   "metadata": {},
   "outputs": [],
   "source": [
    "# Subset to cols simila to SCCP\n",
    "outcomes = merge1[\n",
    "    [\n",
    "        \"award_year\",\n",
    "        \"detailed_title_cols\",\n",
    "        \"estimated_tircp_ghg_reductions\",\n",
    "        \"cost_per_ghg_ton_reduced\",\n",
    "        \"increased_ridership\",\n",
    "        \"service_integration\",\n",
    "        \"improve_safety\",\n",
    "    ]\n",
    "].sort_values([\"award_year\", \"detailed_title_cols\"])"
   ]
  },
  {
   "cell_type": "code",
   "execution_count": 307,
   "id": "bbe4441b-ccc2-4ad7-a0f2-3f6c6335a456",
   "metadata": {},
   "outputs": [],
   "source": [
    "outcomes = A1_data_prep.clean_up_columns(outcomes)"
   ]
  },
  {
   "cell_type": "markdown",
   "id": "1474d69c-d7c3-40cb-8178-ec3c78c6d8ee",
   "metadata": {},
   "source": [
    "##### Version 1"
   ]
  },
  {
   "cell_type": "code",
   "execution_count": 308,
   "id": "bdbe0a48-42aa-4a1d-b018-3d8497384ca6",
   "metadata": {},
   "outputs": [],
   "source": [
    "# Drop award year\n",
    "outcomes_transformed = outcomes.drop(columns=[\"Award Year\"]).T"
   ]
  },
  {
   "cell_type": "code",
   "execution_count": 309,
   "id": "58c09afa-f3d7-428c-9791-1de3582fc381",
   "metadata": {},
   "outputs": [],
   "source": [
    "# Make first row to column names\n",
    "outcomes_transformed.columns = outcomes_transformed.iloc[0]"
   ]
  },
  {
   "cell_type": "code",
   "execution_count": 310,
   "id": "f175b3b8-7992-4c49-ad23-18c8ac60f29e",
   "metadata": {},
   "outputs": [],
   "source": [
    "# Del first row\n",
    "outcomes_transformed = outcomes_transformed.iloc[1:]"
   ]
  },
  {
   "cell_type": "code",
   "execution_count": 311,
   "id": "cf9e2b11-19d3-4ea1-b6b2-07fb704f1cbc",
   "metadata": {},
   "outputs": [
    {
     "data": {
      "text/html": [
       "<div>\n",
       "<style scoped>\n",
       "    .dataframe tbody tr th:only-of-type {\n",
       "        vertical-align: middle;\n",
       "    }\n",
       "\n",
       "    .dataframe tbody tr th {\n",
       "        vertical-align: top;\n",
       "    }\n",
       "\n",
       "    .dataframe thead th {\n",
       "        text-align: right;\n",
       "    }\n",
       "</style>\n",
       "<table border=\"1\" class=\"dataframe\">\n",
       "  <thead>\n",
       "    <tr style=\"text-align: right;\">\n",
       "      <th>Detailed Title Cols</th>\n",
       "      <th>2018-#Electrify Anaheim: Changing the Transit Paradigm in Southern California-Anaheim Transportation Network</th>\n",
       "      <th>2018-Accelerating Rail Modernization and Expansion in the Capital Region-Sacramento Regional Transit District</th>\n",
       "      <th>2018-All Aboard 2018: Transforming SoCal Rail Travel-Los Angeles-San Diego-San Luis Obispo Rail Corridor Agency</th>\n",
       "      <th>2018-Blue Line Rail Corridor Transit Enhancements-San Diego Metropolitan Transit System</th>\n",
       "      <th>2018-Building Up: LOSSAN North Improvement Program-Los Angeles-San Diego-San Luis Obispo Rail Corridor Agency</th>\n",
       "      <th>2018-Coastal Express/Pacific Surfliner Peak Hour Service Expansion and Integration Project-Santa Barbara County Association Of Governments</th>\n",
       "      <th>2018-Diesel Multiple Unit Vehicle to Zero- or Low-Emission Vehicle Conversion and West Valley Connector Bus Rapid Transit-San Bernardino County Transportation Authority</th>\n",
       "      <th>2018-Dublin/Pleasanton Capacity Improvement and Congestion Reduction Program-Livermore Amador Valley Transit Authority</th>\n",
       "      <th>2018-Electric Blue: Electrification of City of Santa Monica's Big Blue Bus-City Of Santa Monica</th>\n",
       "      <th>2018-Extend rail service to Monterey County-Transportation Agency For Monterey County</th>\n",
       "      <th>2018-From the Desert to the Sea: Antelope Valley Transit Authority and Long Beach Transit Zero Emission Bus Initiative-Antelope Valley Transit Authority</th>\n",
       "      <th>2018-Goleta Train Depot-Santa Barbara County Association Of Governments</th>\n",
       "      <th>2018-Los Angeles City: Leading the Transformation to Zero-Emission Electric Bus Transit Service-City Of Los Angeles</th>\n",
       "      <th>2018-Los Angeles Region Transit System Integration and Modernization Program of Projects-Los Angeles County Metropolitan Transportation</th>\n",
       "      <th>2018-North State Intercity Bus System-Shasta Regional Transportation Agency</th>\n",
       "      <th>2018-Peninsula Corridor Electrification Expansion Project-Peninsula Corridor Joint Powers Board</th>\n",
       "      <th>2018-Purchase Zero Emission High Capacity Buses to Support Transbay Tomorrow and Clean Corridors Plan-Alameda Contra Costa Transit District</th>\n",
       "      <th>2018-Ride Between the Line: Enhancing Access to Transit in San Diego-San Diego Association Of Governments</th>\n",
       "      <th>2018-SMART Larkspur to Windsor Corridor-Sonoma-Marin Area Rail Transit District</th>\n",
       "      <th>2018-SamTrans Express Bus Pilot-San Mateo County Transit District</th>\n",
       "      <th>2018-Solano Regional Transit Improvements-Solano Transportation Authority</th>\n",
       "      <th>2018-Southern California Optimized Rail Expansion (SCORE)-Southern California  Regional Rail Authority</th>\n",
       "      <th>2018-Southwest Fresno Community Connector-City Of Fresno</th>\n",
       "      <th>2018-The Northern California Corridor Enhancement Program-Capitol Corridor Joint Powers Authority</th>\n",
       "      <th>2018-The Transbay Corridor Core Capacity Program: Vehicle Acquistion and Communications-Based Train Control System-Bay Area Rapid Transit</th>\n",
       "      <th>2018-Transit Capacity Expansion Program-San Francisco Municipal Transportation Agency</th>\n",
       "      <th>2018-VTA’s BART Silicon Valley Extension, Phase II-Santa Clara Valley Transportation Authority</th>\n",
       "      <th>2018-Valley Rail-San Joaquin Joint Powers Authority</th>\n",
       "      <th>2020-Building Up Control: LOSSAN Service Enhancement Program-Los Angeles-San Diego-San Luis Obispo Rail Corridor Agency</th>\n",
       "      <th>2020-Core Capacity Program-San Francisco Municipal Transportation Agency</th>\n",
       "      <th>2020-Expansion of WETA Ferry Services-San Francisco Bay Area Water Emergency Transportation Authority</th>\n",
       "      <th>2020-For People, Place and Planet: Connecting Inglewood to Regional Opportunities-Santa Monica Big Blue Bus</th>\n",
       "      <th>2020-Improving Air Quality &amp; Economic Growth with Electric Buses in Merced County, the Gateway to Yosemite-Transit Joint Powers Authority Of Merced County</th>\n",
       "      <th>2020-Inglewood Transit Connector Project-City Of Inglewood</th>\n",
       "      <th>2020-LBT/UCLA Electric Commuter Express-Long Beach Transit</th>\n",
       "      <th>2020-Light Rail Modernization and Expansion of Low-Floor Fleet-Sacramento Regional Transit District</th>\n",
       "      <th>2020-Metrolink Antelope Valley Line Capital and Service Improvements-Los Angeles County Metropolitan Transportation</th>\n",
       "      <th>2020-North State Intercity Bus System-Lake Transit Authority</th>\n",
       "      <th>2020-Reaching the Most Transit-Vulnerable: AVTA's Zero Emission \"Microtransit\" &amp; Bus Expansion Proposal-Antelope Valley Transit Authority</th>\n",
       "      <th>2020-SDConnect: San Diego Rail Improvement Program-San Diego Association Of Governments</th>\n",
       "      <th>2020-Sacramento Valley Station (SVS) Transit Center-Capitol Corridor Joint Powers Authority</th>\n",
       "      <th>2020-Solano Regional Transit Improvements Phase 2-Solano Transportation Authority</th>\n",
       "      <th>2020-The Transbaby Corridor Core Capacity Program: Vehicle Acquisition-Bay Area Rapid Transit</th>\n",
       "      <th>2020-Torrance Transit Bus Service Enhancement Program-Torrance Transit Department</th>\n",
       "      <th>2020-West Valley Connector Bus Rapid Transit Phase 1 &amp; ZEB Initiative-San Bernardino County Transportation Authority</th>\n",
       "      <th>2022-ATN FAST (Family of Advanced Solutions for Transit): Revolutionizing Transit for a Global Audience-Anaheim Transportation Network</th>\n",
       "      <th>2022-City of Wasco Improving Air Quality and Economic Growth with Bus Electrification-City Of Wasco</th>\n",
       "      <th>2022-East Bay Transit-Oriented Development Mobility Enhancement Project-Bay Area Rapid Transit</th>\n",
       "      <th>2022-Expanding Transit Services and Introducing Zero-Emission Fleets on California’s North Coast-Humboldt Transit Authority</th>\n",
       "      <th>2022-Fleet Modernization Project-Sacramento Regional Transit District</th>\n",
       "      <th>2022-Fresno County Rural Transit Agency Resiliency Hub-Fresno County Rural Transit Agency</th>\n",
       "      <th>2022-I-680 Express Bus Program-Contra Costa Transportation Authority</th>\n",
       "      <th>2022-Los Angeles Nextgen and Zero Emission Bus Implementation Project-Los Angeles County Metropolitan Transportation</th>\n",
       "      <th>2022-Making a Beeline for Electrification - City of Glendale and Arroyo Verdugo Communities Zoom towards Cleaner Transportation-City Of Glendale</th>\n",
       "      <th>2022-Metrolink Perris Valley Line Capacity Improvements-Southern California  Regional Rail Authority</th>\n",
       "      <th>2022-Next Wave: Expanding MTD's Electric Legacy on the South Coast-Santa Barbara Metropolitan Transit District</th>\n",
       "      <th>2022-Oakland Waterfront Mobility Hub-City Of Oakland</th>\n",
       "      <th>2022-SFMTA Core Capacity Program-San Francisco Municipal Transportation Agency</th>\n",
       "      <th>2022-SURF! Busway and Bus Rapid Transit-Monterey-Salinas Transit District</th>\n",
       "      <th>2022-Sacramento Valley Station (SVS) Transit Center: Priority Project-Capitol Corridor Joint Powers Authority</th>\n",
       "      <th>2022-San Francisco Zero Emissions High-Frequency Ferry Network-San Francisco Bay Area Water Emergency Transportation Authority</th>\n",
       "      <th>2022-Sonoma Regional Bus and Rail Connectivity Improvements-Sonoma County Transportation Authority</th>\n",
       "      <th>2022-South Bay Microtransit Expansion-City Of Cupertino</th>\n",
       "      <th>2022-Sweet Home Antelope Valley, Where the Skies are so Blue-Antelope Valley Transit Authority</th>\n",
       "      <th>2022-The Regional Connectivity Improvement Bus Program-City Of Torrance</th>\n",
       "      <th>2022-Tulare Cross-Valley Corridor ZEB Expansion-Tulare County Regional Transit Agency</th>\n",
       "      <th>2022-Valley Rail Expansion: Altamont Corridor Express (ACE) Ceres to Turlock Extension-San Joaquin Regional Rail Commission</th>\n",
       "      <th>2022-Zero-Emission Transit Enhancement Project-San Diego Metropolitan Transit System</th>\n",
       "    </tr>\n",
       "  </thead>\n",
       "  <tbody>\n",
       "    <tr>\n",
       "      <th>Estimated Tircp Ghg Reductions</th>\n",
       "      <td>61000.00</td>\n",
       "      <td>234000.00</td>\n",
       "      <td>957000.00</td>\n",
       "      <td>68000.00</td>\n",
       "      <td>1160000.00</td>\n",
       "      <td>7000.00</td>\n",
       "      <td>67000.00</td>\n",
       "      <td>0.00</td>\n",
       "      <td>17000.00</td>\n",
       "      <td>81000.00</td>\n",
       "      <td>23000.00</td>\n",
       "      <td>73000.00</td>\n",
       "      <td>196000.00</td>\n",
       "      <td>7966000.00</td>\n",
       "      <td>26000.00</td>\n",
       "      <td>737000.00</td>\n",
       "      <td>14000.00</td>\n",
       "      <td>7000.00</td>\n",
       "      <td>134000.00</td>\n",
       "      <td>47000.00</td>\n",
       "      <td>138000.00</td>\n",
       "      <td>5714000.00</td>\n",
       "      <td>9000.00</td>\n",
       "      <td>1348000.00</td>\n",
       "      <td>4272000.00</td>\n",
       "      <td>156000.00</td>\n",
       "      <td>4063000.00</td>\n",
       "      <td>4369000.00</td>\n",
       "      <td>325000.00</td>\n",
       "      <td>369000.00</td>\n",
       "      <td>41000.00</td>\n",
       "      <td>18000.00</td>\n",
       "      <td>31000.00</td>\n",
       "      <td>772000.00</td>\n",
       "      <td>9000.00</td>\n",
       "      <td>85000.00</td>\n",
       "      <td>584000.00</td>\n",
       "      <td>14000.00</td>\n",
       "      <td>12000.00</td>\n",
       "      <td>34000.00</td>\n",
       "      <td>39000.00</td>\n",
       "      <td>125000.00</td>\n",
       "      <td>2495000.00</td>\n",
       "      <td>30000.00</td>\n",
       "      <td>33000.00</td>\n",
       "      <td>0.00</td>\n",
       "      <td>0.00</td>\n",
       "      <td>0.00</td>\n",
       "      <td>0.00</td>\n",
       "      <td>0.00</td>\n",
       "      <td>0.00</td>\n",
       "      <td>0.00</td>\n",
       "      <td>0.00</td>\n",
       "      <td>0.00</td>\n",
       "      <td>0.00</td>\n",
       "      <td>0.00</td>\n",
       "      <td>0.00</td>\n",
       "      <td>0.00</td>\n",
       "      <td>0.00</td>\n",
       "      <td>0.00</td>\n",
       "      <td>0.00</td>\n",
       "      <td>0.00</td>\n",
       "      <td>0.00</td>\n",
       "      <td>0.00</td>\n",
       "      <td>0.00</td>\n",
       "      <td>0.00</td>\n",
       "      <td>0.00</td>\n",
       "      <td>0.00</td>\n",
       "    </tr>\n",
       "  </tbody>\n",
       "</table>\n",
       "</div>"
      ],
      "text/plain": [
       "Detailed Title Cols            2018-#Electrify Anaheim: Changing the Transit Paradigm in Southern California-Anaheim Transportation Network  \\\n",
       "Estimated Tircp Ghg Reductions                                                                                                     61000.00   \n",
       "\n",
       "Detailed Title Cols            2018-Accelerating Rail Modernization and Expansion in the Capital Region-Sacramento Regional Transit District  \\\n",
       "Estimated Tircp Ghg Reductions                                                                                                     234000.00   \n",
       "\n",
       "Detailed Title Cols            2018-All Aboard 2018: Transforming SoCal Rail Travel-Los Angeles-San Diego-San Luis Obispo Rail Corridor Agency  \\\n",
       "Estimated Tircp Ghg Reductions                                                                                                       957000.00   \n",
       "\n",
       "Detailed Title Cols            2018-Blue Line Rail Corridor Transit Enhancements-San Diego Metropolitan Transit System  \\\n",
       "Estimated Tircp Ghg Reductions                                                                                68000.00   \n",
       "\n",
       "Detailed Title Cols            2018-Building Up: LOSSAN North Improvement Program-Los Angeles-San Diego-San Luis Obispo Rail Corridor Agency  \\\n",
       "Estimated Tircp Ghg Reductions                                                                                                    1160000.00   \n",
       "\n",
       "Detailed Title Cols            2018-Coastal Express/Pacific Surfliner Peak Hour Service Expansion and Integration Project-Santa Barbara County Association Of Governments  \\\n",
       "Estimated Tircp Ghg Reductions                                                                                                                                    7000.00   \n",
       "\n",
       "Detailed Title Cols            2018-Diesel Multiple Unit Vehicle to Zero- or Low-Emission Vehicle Conversion and West Valley Connector Bus Rapid Transit-San Bernardino County Transportation Authority  \\\n",
       "Estimated Tircp Ghg Reductions                                                                                                                                                                 67000.00   \n",
       "\n",
       "Detailed Title Cols            2018-Dublin/Pleasanton Capacity Improvement and Congestion Reduction Program-Livermore Amador Valley Transit Authority  \\\n",
       "Estimated Tircp Ghg Reductions                                                                                                                   0.00   \n",
       "\n",
       "Detailed Title Cols            2018-Electric Blue: Electrification of City of Santa Monica's Big Blue Bus-City Of Santa Monica  \\\n",
       "Estimated Tircp Ghg Reductions                                                                                        17000.00   \n",
       "\n",
       "Detailed Title Cols            2018-Extend rail service to Monterey County-Transportation Agency For Monterey County  \\\n",
       "Estimated Tircp Ghg Reductions                                                                              81000.00   \n",
       "\n",
       "Detailed Title Cols            2018-From the Desert to the Sea: Antelope Valley Transit Authority and Long Beach Transit Zero Emission Bus Initiative-Antelope Valley Transit Authority  \\\n",
       "Estimated Tircp Ghg Reductions                                                                                                                                                 23000.00   \n",
       "\n",
       "Detailed Title Cols            2018-Goleta Train Depot-Santa Barbara County Association Of Governments  \\\n",
       "Estimated Tircp Ghg Reductions                                                                73000.00   \n",
       "\n",
       "Detailed Title Cols            2018-Los Angeles City: Leading the Transformation to Zero-Emission Electric Bus Transit Service-City Of Los Angeles  \\\n",
       "Estimated Tircp Ghg Reductions                                                                                                           196000.00   \n",
       "\n",
       "Detailed Title Cols            2018-Los Angeles Region Transit System Integration and Modernization Program of Projects-Los Angeles County Metropolitan Transportation  \\\n",
       "Estimated Tircp Ghg Reductions                                                                                                                              7966000.00   \n",
       "\n",
       "Detailed Title Cols            2018-North State Intercity Bus System-Shasta Regional Transportation Agency  \\\n",
       "Estimated Tircp Ghg Reductions                                                                    26000.00   \n",
       "\n",
       "Detailed Title Cols            2018-Peninsula Corridor Electrification Expansion Project-Peninsula Corridor Joint Powers Board  \\\n",
       "Estimated Tircp Ghg Reductions                                                                                       737000.00   \n",
       "\n",
       "Detailed Title Cols            2018-Purchase Zero Emission High Capacity Buses to Support Transbay Tomorrow and Clean Corridors Plan-Alameda Contra Costa Transit District  \\\n",
       "Estimated Tircp Ghg Reductions                                                                                                                                    14000.00   \n",
       "\n",
       "Detailed Title Cols            2018-Ride Between the Line: Enhancing Access to Transit in San Diego-San Diego Association Of Governments  \\\n",
       "Estimated Tircp Ghg Reductions                                                                                                   7000.00   \n",
       "\n",
       "Detailed Title Cols            2018-SMART Larkspur to Windsor Corridor-Sonoma-Marin Area Rail Transit District  \\\n",
       "Estimated Tircp Ghg Reductions                                                                       134000.00   \n",
       "\n",
       "Detailed Title Cols            2018-SamTrans Express Bus Pilot-San Mateo County Transit District  \\\n",
       "Estimated Tircp Ghg Reductions                                                          47000.00   \n",
       "\n",
       "Detailed Title Cols            2018-Solano Regional Transit Improvements-Solano Transportation Authority  \\\n",
       "Estimated Tircp Ghg Reductions                                                                 138000.00   \n",
       "\n",
       "Detailed Title Cols            2018-Southern California Optimized Rail Expansion (SCORE)-Southern California  Regional Rail Authority  \\\n",
       "Estimated Tircp Ghg Reductions                                                                                             5714000.00   \n",
       "\n",
       "Detailed Title Cols            2018-Southwest Fresno Community Connector-City Of Fresno  \\\n",
       "Estimated Tircp Ghg Reductions                                                  9000.00   \n",
       "\n",
       "Detailed Title Cols            2018-The Northern California Corridor Enhancement Program-Capitol Corridor Joint Powers Authority  \\\n",
       "Estimated Tircp Ghg Reductions                                                                                        1348000.00   \n",
       "\n",
       "Detailed Title Cols            2018-The Transbay Corridor Core Capacity Program: Vehicle Acquistion and Communications-Based Train Control System-Bay Area Rapid Transit  \\\n",
       "Estimated Tircp Ghg Reductions                                                                                                                                4272000.00   \n",
       "\n",
       "Detailed Title Cols            2018-Transit Capacity Expansion Program-San Francisco Municipal Transportation Agency  \\\n",
       "Estimated Tircp Ghg Reductions                                                                             156000.00   \n",
       "\n",
       "Detailed Title Cols            2018-VTA’s BART Silicon Valley Extension, Phase II-Santa Clara Valley Transportation Authority  \\\n",
       "Estimated Tircp Ghg Reductions                                                                                     4063000.00   \n",
       "\n",
       "Detailed Title Cols            2018-Valley Rail-San Joaquin Joint Powers Authority  \\\n",
       "Estimated Tircp Ghg Reductions                                          4369000.00   \n",
       "\n",
       "Detailed Title Cols            2020-Building Up Control: LOSSAN Service Enhancement Program-Los Angeles-San Diego-San Luis Obispo Rail Corridor Agency  \\\n",
       "Estimated Tircp Ghg Reductions                                                                                                               325000.00   \n",
       "\n",
       "Detailed Title Cols            2020-Core Capacity Program-San Francisco Municipal Transportation Agency  \\\n",
       "Estimated Tircp Ghg Reductions                                                                369000.00   \n",
       "\n",
       "Detailed Title Cols            2020-Expansion of WETA Ferry Services-San Francisco Bay Area Water Emergency Transportation Authority  \\\n",
       "Estimated Tircp Ghg Reductions                                                                                              41000.00   \n",
       "\n",
       "Detailed Title Cols            2020-For People, Place and Planet: Connecting Inglewood to Regional Opportunities-Santa Monica Big Blue Bus  \\\n",
       "Estimated Tircp Ghg Reductions                                                                                                    18000.00   \n",
       "\n",
       "Detailed Title Cols            2020-Improving Air Quality & Economic Growth with Electric Buses in Merced County, the Gateway to Yosemite-Transit Joint Powers Authority Of Merced County  \\\n",
       "Estimated Tircp Ghg Reductions                                                                                                                                                   31000.00   \n",
       "\n",
       "Detailed Title Cols            2020-Inglewood Transit Connector Project-City Of Inglewood  \\\n",
       "Estimated Tircp Ghg Reductions                                                  772000.00   \n",
       "\n",
       "Detailed Title Cols            2020-LBT/UCLA Electric Commuter Express-Long Beach Transit  \\\n",
       "Estimated Tircp Ghg Reductions                                                    9000.00   \n",
       "\n",
       "Detailed Title Cols            2020-Light Rail Modernization and Expansion of Low-Floor Fleet-Sacramento Regional Transit District  \\\n",
       "Estimated Tircp Ghg Reductions                                                                                            85000.00   \n",
       "\n",
       "Detailed Title Cols            2020-Metrolink Antelope Valley Line Capital and Service Improvements-Los Angeles County Metropolitan Transportation  \\\n",
       "Estimated Tircp Ghg Reductions                                                                                                           584000.00   \n",
       "\n",
       "Detailed Title Cols            2020-North State Intercity Bus System-Lake Transit Authority  \\\n",
       "Estimated Tircp Ghg Reductions                                                     14000.00   \n",
       "\n",
       "Detailed Title Cols            2020-Reaching the Most Transit-Vulnerable: AVTA's Zero Emission \"Microtransit\" & Bus Expansion Proposal-Antelope Valley Transit Authority  \\\n",
       "Estimated Tircp Ghg Reductions                                                                                                                                  12000.00   \n",
       "\n",
       "Detailed Title Cols            2020-SDConnect: San Diego Rail Improvement Program-San Diego Association Of Governments  \\\n",
       "Estimated Tircp Ghg Reductions                                                                                34000.00   \n",
       "\n",
       "Detailed Title Cols            2020-Sacramento Valley Station (SVS) Transit Center-Capitol Corridor Joint Powers Authority  \\\n",
       "Estimated Tircp Ghg Reductions                                                                                    39000.00   \n",
       "\n",
       "Detailed Title Cols            2020-Solano Regional Transit Improvements Phase 2-Solano Transportation Authority  \\\n",
       "Estimated Tircp Ghg Reductions                                                                         125000.00   \n",
       "\n",
       "Detailed Title Cols            2020-The Transbaby Corridor Core Capacity Program: Vehicle Acquisition-Bay Area Rapid Transit  \\\n",
       "Estimated Tircp Ghg Reductions                                                                                    2495000.00   \n",
       "\n",
       "Detailed Title Cols            2020-Torrance Transit Bus Service Enhancement Program-Torrance Transit Department  \\\n",
       "Estimated Tircp Ghg Reductions                                                                          30000.00   \n",
       "\n",
       "Detailed Title Cols            2020-West Valley Connector Bus Rapid Transit Phase 1 & ZEB Initiative-San Bernardino County Transportation Authority  \\\n",
       "Estimated Tircp Ghg Reductions                                                                                                             33000.00   \n",
       "\n",
       "Detailed Title Cols            2022-ATN FAST (Family of Advanced Solutions for Transit): Revolutionizing Transit for a Global Audience-Anaheim Transportation Network  \\\n",
       "Estimated Tircp Ghg Reductions                                                                                                                                   0.00   \n",
       "\n",
       "Detailed Title Cols            2022-City of Wasco Improving Air Quality and Economic Growth with Bus Electrification-City Of Wasco  \\\n",
       "Estimated Tircp Ghg Reductions                                                                                                0.00   \n",
       "\n",
       "Detailed Title Cols            2022-East Bay Transit-Oriented Development Mobility Enhancement Project-Bay Area Rapid Transit  \\\n",
       "Estimated Tircp Ghg Reductions                                                                                           0.00   \n",
       "\n",
       "Detailed Title Cols            2022-Expanding Transit Services and Introducing Zero-Emission Fleets on California’s North Coast-Humboldt Transit Authority  \\\n",
       "Estimated Tircp Ghg Reductions                                                                                                                        0.00   \n",
       "\n",
       "Detailed Title Cols            2022-Fleet Modernization Project-Sacramento Regional Transit District  \\\n",
       "Estimated Tircp Ghg Reductions                                                                  0.00   \n",
       "\n",
       "Detailed Title Cols            2022-Fresno County Rural Transit Agency Resiliency Hub-Fresno County Rural Transit Agency  \\\n",
       "Estimated Tircp Ghg Reductions                                                                                      0.00   \n",
       "\n",
       "Detailed Title Cols            2022-I-680 Express Bus Program-Contra Costa Transportation Authority  \\\n",
       "Estimated Tircp Ghg Reductions                                                                 0.00   \n",
       "\n",
       "Detailed Title Cols            2022-Los Angeles Nextgen and Zero Emission Bus Implementation Project-Los Angeles County Metropolitan Transportation  \\\n",
       "Estimated Tircp Ghg Reductions                                                                                                                 0.00   \n",
       "\n",
       "Detailed Title Cols            2022-Making a Beeline for Electrification - City of Glendale and Arroyo Verdugo Communities Zoom towards Cleaner Transportation-City Of Glendale  \\\n",
       "Estimated Tircp Ghg Reductions                                                                                                                                             0.00   \n",
       "\n",
       "Detailed Title Cols            2022-Metrolink Perris Valley Line Capacity Improvements-Southern California  Regional Rail Authority  \\\n",
       "Estimated Tircp Ghg Reductions                                                                                                 0.00   \n",
       "\n",
       "Detailed Title Cols            2022-Next Wave: Expanding MTD's Electric Legacy on the South Coast-Santa Barbara Metropolitan Transit District  \\\n",
       "Estimated Tircp Ghg Reductions                                                                                                           0.00   \n",
       "\n",
       "Detailed Title Cols            2022-Oakland Waterfront Mobility Hub-City Of Oakland  \\\n",
       "Estimated Tircp Ghg Reductions                                                 0.00   \n",
       "\n",
       "Detailed Title Cols            2022-SFMTA Core Capacity Program-San Francisco Municipal Transportation Agency  \\\n",
       "Estimated Tircp Ghg Reductions                                                                           0.00   \n",
       "\n",
       "Detailed Title Cols            2022-SURF! Busway and Bus Rapid Transit-Monterey-Salinas Transit District  \\\n",
       "Estimated Tircp Ghg Reductions                                                                      0.00   \n",
       "\n",
       "Detailed Title Cols            2022-Sacramento Valley Station (SVS) Transit Center: Priority Project-Capitol Corridor Joint Powers Authority  \\\n",
       "Estimated Tircp Ghg Reductions                                                                                                          0.00   \n",
       "\n",
       "Detailed Title Cols            2022-San Francisco Zero Emissions High-Frequency Ferry Network-San Francisco Bay Area Water Emergency Transportation Authority  \\\n",
       "Estimated Tircp Ghg Reductions                                                                                                                           0.00   \n",
       "\n",
       "Detailed Title Cols            2022-Sonoma Regional Bus and Rail Connectivity Improvements-Sonoma County Transportation Authority  \\\n",
       "Estimated Tircp Ghg Reductions                                                                                               0.00   \n",
       "\n",
       "Detailed Title Cols            2022-South Bay Microtransit Expansion-City Of Cupertino  \\\n",
       "Estimated Tircp Ghg Reductions                                                    0.00   \n",
       "\n",
       "Detailed Title Cols            2022-Sweet Home Antelope Valley, Where the Skies are so Blue-Antelope Valley Transit Authority  \\\n",
       "Estimated Tircp Ghg Reductions                                                                                           0.00   \n",
       "\n",
       "Detailed Title Cols            2022-The Regional Connectivity Improvement Bus Program-City Of Torrance  \\\n",
       "Estimated Tircp Ghg Reductions                                                                    0.00   \n",
       "\n",
       "Detailed Title Cols            2022-Tulare Cross-Valley Corridor ZEB Expansion-Tulare County Regional Transit Agency  \\\n",
       "Estimated Tircp Ghg Reductions                                                                                  0.00   \n",
       "\n",
       "Detailed Title Cols            2022-Valley Rail Expansion: Altamont Corridor Express (ACE) Ceres to Turlock Extension-San Joaquin Regional Rail Commission  \\\n",
       "Estimated Tircp Ghg Reductions                                                                                                                        0.00   \n",
       "\n",
       "Detailed Title Cols            2022-Zero-Emission Transit Enhancement Project-San Diego Metropolitan Transit System  \n",
       "Estimated Tircp Ghg Reductions                                                                                 0.00  "
      ]
     },
     "execution_count": 311,
     "metadata": {},
     "output_type": "execute_result"
    }
   ],
   "source": [
    "outcomes_transformed.head(1)"
   ]
  },
  {
   "cell_type": "markdown",
   "id": "ba168112-3b5d-4fa8-88d5-de3546502a06",
   "metadata": {},
   "source": [
    "##### Outputs: Measures except GHG Reductions."
   ]
  },
  {
   "cell_type": "code",
   "execution_count": 321,
   "id": "ca989975-4147-42c2-a484-cbd46ff69347",
   "metadata": {},
   "outputs": [],
   "source": [
    "outcomes_melt = pd.melt(outcomes, id_vars=[ 'Award Year',\n",
    "         'Detailed Title Cols',], value_vars=[\n",
    "       'Cost Per Ghg Ton Reduced', 'Increased Ridership',\n",
    "       'Service Integration', 'Improve Safety',])"
   ]
  },
  {
   "cell_type": "code",
   "execution_count": 322,
   "id": "e5143ed8-e6ff-4e66-ad5a-c660fdecee28",
   "metadata": {},
   "outputs": [],
   "source": [
    "outcomes_melt = A1_data_prep.clean_up_columns(outcomes_melt)"
   ]
  },
  {
   "cell_type": "code",
   "execution_count": 323,
   "id": "f1439741-a4ca-40ad-a453-2f5358dc5984",
   "metadata": {},
   "outputs": [],
   "source": [
    "year_summary = (outcomes_melt\n",
    "                .groupby(['Award Year','Variable', 'Value'])\n",
    "                .agg({'Detailed Title Cols':'nunique'})\n",
    "                .rename(columns = {'Detailed Title Cols':\n",
    "                                   'Number of Projects in this Value Category'}) \n",
    "               )"
   ]
  },
  {
   "cell_type": "code",
   "execution_count": 324,
   "id": "348761d5-9cc0-4ae2-9b6a-c7b6dc7160ee",
   "metadata": {},
   "outputs": [
    {
     "data": {
      "text/html": [
       "<div>\n",
       "<style scoped>\n",
       "    .dataframe tbody tr th:only-of-type {\n",
       "        vertical-align: middle;\n",
       "    }\n",
       "\n",
       "    .dataframe tbody tr th {\n",
       "        vertical-align: top;\n",
       "    }\n",
       "\n",
       "    .dataframe thead th {\n",
       "        text-align: right;\n",
       "    }\n",
       "</style>\n",
       "<table border=\"1\" class=\"dataframe\">\n",
       "  <thead>\n",
       "    <tr style=\"text-align: right;\">\n",
       "      <th></th>\n",
       "      <th></th>\n",
       "      <th></th>\n",
       "      <th>Number of Projects in this Value Category</th>\n",
       "    </tr>\n",
       "    <tr>\n",
       "      <th>Award Year</th>\n",
       "      <th>Variable</th>\n",
       "      <th>Value</th>\n",
       "      <th></th>\n",
       "    </tr>\n",
       "  </thead>\n",
       "  <tbody>\n",
       "    <tr>\n",
       "      <th rowspan=\"13\" valign=\"top\">2018</th>\n",
       "      <th rowspan=\"4\" valign=\"top\">Cost Per Ghg Ton Reduced</th>\n",
       "      <th>High</th>\n",
       "      <td>16</td>\n",
       "    </tr>\n",
       "    <tr>\n",
       "      <th>Medium</th>\n",
       "      <td>3</td>\n",
       "    </tr>\n",
       "    <tr>\n",
       "      <th>Medium-High</th>\n",
       "      <td>8</td>\n",
       "    </tr>\n",
       "    <tr>\n",
       "      <th>None</th>\n",
       "      <td>1</td>\n",
       "    </tr>\n",
       "    <tr>\n",
       "      <th rowspan=\"3\" valign=\"top\">Improve Safety</th>\n",
       "      <th>High</th>\n",
       "      <td>9</td>\n",
       "    </tr>\n",
       "    <tr>\n",
       "      <th>Medium</th>\n",
       "      <td>12</td>\n",
       "    </tr>\n",
       "    <tr>\n",
       "      <th>Medium-High</th>\n",
       "      <td>7</td>\n",
       "    </tr>\n",
       "    <tr>\n",
       "      <th rowspan=\"3\" valign=\"top\">Increased Ridership</th>\n",
       "      <th>High</th>\n",
       "      <td>13</td>\n",
       "    </tr>\n",
       "    <tr>\n",
       "      <th>Medium</th>\n",
       "      <td>10</td>\n",
       "    </tr>\n",
       "    <tr>\n",
       "      <th>Medium-High</th>\n",
       "      <td>5</td>\n",
       "    </tr>\n",
       "    <tr>\n",
       "      <th rowspan=\"3\" valign=\"top\">Service Integration</th>\n",
       "      <th>High</th>\n",
       "      <td>5</td>\n",
       "    </tr>\n",
       "    <tr>\n",
       "      <th>Medium</th>\n",
       "      <td>8</td>\n",
       "    </tr>\n",
       "    <tr>\n",
       "      <th>Medium-High</th>\n",
       "      <td>15</td>\n",
       "    </tr>\n",
       "    <tr>\n",
       "      <th rowspan=\"14\" valign=\"top\">2020</th>\n",
       "      <th rowspan=\"3\" valign=\"top\">Cost Per Ghg Ton Reduced</th>\n",
       "      <th>High</th>\n",
       "      <td>8</td>\n",
       "    </tr>\n",
       "    <tr>\n",
       "      <th>Medium</th>\n",
       "      <td>2</td>\n",
       "    </tr>\n",
       "    <tr>\n",
       "      <th>Medium-High</th>\n",
       "      <td>7</td>\n",
       "    </tr>\n",
       "    <tr>\n",
       "      <th rowspan=\"3\" valign=\"top\">Improve Safety</th>\n",
       "      <th>High</th>\n",
       "      <td>4</td>\n",
       "    </tr>\n",
       "    <tr>\n",
       "      <th>Medium</th>\n",
       "      <td>7</td>\n",
       "    </tr>\n",
       "    <tr>\n",
       "      <th>Medium-High</th>\n",
       "      <td>6</td>\n",
       "    </tr>\n",
       "    <tr>\n",
       "      <th rowspan=\"4\" valign=\"top\">Increased Ridership</th>\n",
       "      <th>High</th>\n",
       "      <td>1</td>\n",
       "    </tr>\n",
       "    <tr>\n",
       "      <th>Medium</th>\n",
       "      <td>4</td>\n",
       "    </tr>\n",
       "    <tr>\n",
       "      <th>Medium-High</th>\n",
       "      <td>9</td>\n",
       "    </tr>\n",
       "    <tr>\n",
       "      <th>Medium-Low</th>\n",
       "      <td>3</td>\n",
       "    </tr>\n",
       "    <tr>\n",
       "      <th rowspan=\"4\" valign=\"top\">Service Integration</th>\n",
       "      <th>High</th>\n",
       "      <td>2</td>\n",
       "    </tr>\n",
       "    <tr>\n",
       "      <th>Medium</th>\n",
       "      <td>5</td>\n",
       "    </tr>\n",
       "    <tr>\n",
       "      <th>Medium-High</th>\n",
       "      <td>8</td>\n",
       "    </tr>\n",
       "    <tr>\n",
       "      <th>Medium-Low</th>\n",
       "      <td>2</td>\n",
       "    </tr>\n",
       "    <tr>\n",
       "      <th rowspan=\"4\" valign=\"top\">2022</th>\n",
       "      <th>Cost Per Ghg Ton Reduced</th>\n",
       "      <th>None</th>\n",
       "      <td>23</td>\n",
       "    </tr>\n",
       "    <tr>\n",
       "      <th>Improve Safety</th>\n",
       "      <th>None</th>\n",
       "      <td>23</td>\n",
       "    </tr>\n",
       "    <tr>\n",
       "      <th>Increased Ridership</th>\n",
       "      <th>None</th>\n",
       "      <td>23</td>\n",
       "    </tr>\n",
       "    <tr>\n",
       "      <th>Service Integration</th>\n",
       "      <th>None</th>\n",
       "      <td>23</td>\n",
       "    </tr>\n",
       "  </tbody>\n",
       "</table>\n",
       "</div>"
      ],
      "text/plain": [
       "                                                 Number of Projects in this Value Category\n",
       "Award Year Variable                 Value                                                 \n",
       "2018       Cost Per Ghg Ton Reduced High                                                16\n",
       "                                    Medium                                               3\n",
       "                                    Medium-High                                          8\n",
       "                                    None                                                 1\n",
       "           Improve Safety           High                                                 9\n",
       "                                    Medium                                              12\n",
       "                                    Medium-High                                          7\n",
       "           Increased Ridership      High                                                13\n",
       "                                    Medium                                              10\n",
       "                                    Medium-High                                          5\n",
       "           Service Integration      High                                                 5\n",
       "                                    Medium                                               8\n",
       "                                    Medium-High                                         15\n",
       "2020       Cost Per Ghg Ton Reduced High                                                 8\n",
       "                                    Medium                                               2\n",
       "                                    Medium-High                                          7\n",
       "           Improve Safety           High                                                 4\n",
       "                                    Medium                                               7\n",
       "                                    Medium-High                                          6\n",
       "           Increased Ridership      High                                                 1\n",
       "                                    Medium                                               4\n",
       "                                    Medium-High                                          9\n",
       "                                    Medium-Low                                           3\n",
       "           Service Integration      High                                                 2\n",
       "                                    Medium                                               5\n",
       "                                    Medium-High                                          8\n",
       "                                    Medium-Low                                           2\n",
       "2022       Cost Per Ghg Ton Reduced None                                                23\n",
       "           Improve Safety           None                                                23\n",
       "           Increased Ridership      None                                                23\n",
       "           Service Integration      None                                                23"
      ]
     },
     "execution_count": 324,
     "metadata": {},
     "output_type": "execute_result"
    }
   ],
   "source": [
    "year_summary"
   ]
  },
  {
   "cell_type": "markdown",
   "id": "be3a9788-a09e-4bb8-9890-9572fceadcf3",
   "metadata": {},
   "source": [
    "##### GHG Reductions."
   ]
  },
  {
   "cell_type": "code",
   "execution_count": 327,
   "id": "c526a520-7cd8-44d3-9c37-585f9e982b2a",
   "metadata": {},
   "outputs": [],
   "source": [
    "GHG_by_year = outcomes.groupby(['Award Year']).agg({\n",
    "       'Estimated Tircp Ghg Reductions':'sum'}) "
   ]
  },
  {
   "cell_type": "code",
   "execution_count": 328,
   "id": "f878002d-1b67-4a97-92ae-9dcc78950c8e",
   "metadata": {},
   "outputs": [
    {
     "data": {
      "text/html": [
       "<div>\n",
       "<style scoped>\n",
       "    .dataframe tbody tr th:only-of-type {\n",
       "        vertical-align: middle;\n",
       "    }\n",
       "\n",
       "    .dataframe tbody tr th {\n",
       "        vertical-align: top;\n",
       "    }\n",
       "\n",
       "    .dataframe thead th {\n",
       "        text-align: right;\n",
       "    }\n",
       "</style>\n",
       "<table border=\"1\" class=\"dataframe\">\n",
       "  <thead>\n",
       "    <tr style=\"text-align: right;\">\n",
       "      <th></th>\n",
       "      <th>Estimated Tircp Ghg Reductions</th>\n",
       "    </tr>\n",
       "    <tr>\n",
       "      <th>Award Year</th>\n",
       "      <th></th>\n",
       "    </tr>\n",
       "  </thead>\n",
       "  <tbody>\n",
       "    <tr>\n",
       "      <th>2018</th>\n",
       "      <td>31944000.00</td>\n",
       "    </tr>\n",
       "    <tr>\n",
       "      <th>2020</th>\n",
       "      <td>5016000.00</td>\n",
       "    </tr>\n",
       "    <tr>\n",
       "      <th>2022</th>\n",
       "      <td>0.00</td>\n",
       "    </tr>\n",
       "  </tbody>\n",
       "</table>\n",
       "</div>"
      ],
      "text/plain": [
       "            Estimated Tircp Ghg Reductions\n",
       "Award Year                                \n",
       "2018                           31944000.00\n",
       "2020                            5016000.00\n",
       "2022                                  0.00"
      ]
     },
     "execution_count": 328,
     "metadata": {},
     "output_type": "execute_result"
    }
   ],
   "source": [
    "GHG_by_year"
   ]
  },
  {
   "cell_type": "markdown",
   "id": "aa36d953-c76c-4228-9fd2-0966d026b0cc",
   "metadata": {},
   "source": [
    "#### Save"
   ]
  },
  {
   "cell_type": "code",
   "execution_count": 330,
   "id": "bb3f4f0d-7ade-4d34-9a3d-16f154e88d38",
   "metadata": {},
   "outputs": [],
   "source": [
    "with pd.ExcelWriter(f\"{GCS_FILE_PATH}calsta_draft.xlsx\") as writer:\n",
    "    outcomes.to_excel(writer, sheet_name=\"outcomes_unpivoted\", index=True)\n",
    "    outcomes_transformed.to_excel(writer, sheet_name=\"outcomes_transformed\", index=True)\n",
    "    projects.to_excel(writer, sheet_name=\"projects\", index=True)\n",
    "    year_summary.to_excel(writer, sheet_name=\"year_summary\", index=True)\n",
    "    GHG_by_year.to_excel(writer, sheet_name=\"GHG_reduction_year\", index=True)"
   ]
  }
 ],
 "metadata": {
  "kernelspec": {
   "display_name": "Python 3 (ipykernel)",
   "language": "python",
   "name": "python3"
  },
  "language_info": {
   "codemirror_mode": {
    "name": "ipython",
    "version": 3
   },
   "file_extension": ".py",
   "mimetype": "text/x-python",
   "name": "python",
   "nbconvert_exporter": "python",
   "pygments_lexer": "ipython3",
   "version": "3.10.6"
  }
 },
 "nbformat": 4,
 "nbformat_minor": 5
}
