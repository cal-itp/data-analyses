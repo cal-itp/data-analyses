{
 "cells": [
  {
   "cell_type": "markdown",
   "id": "87c93812-b039-4ded-a350-314532788b03",
   "metadata": {},
   "source": [
    "## SB1 GIS Template\n",
    "* Populate TIRCP GIS Template to create a map for TIRCP only projects."
   ]
  },
  {
   "cell_type": "code",
   "execution_count": 1,
   "id": "7365bf9b-35c9-47c2-9c9d-1ebdbbc5141e",
   "metadata": {},
   "outputs": [],
   "source": [
    "import A1_data_prep\n",
    "import A2_tableau\n",
    "import numpy as np\n",
    "import pandas as pd\n",
    "from babel.numbers import format_currency\n",
    "from calitp import *"
   ]
  },
  {
   "cell_type": "code",
   "execution_count": 2,
   "id": "e2c46578-09b6-40d3-8a9b-1445039fee81",
   "metadata": {},
   "outputs": [],
   "source": [
    "pd.options.display.max_columns = 100\n",
    "pd.options.display.float_format = \"{:.2f}\".format\n",
    "pd.set_option(\"display.max_rows\", None)\n",
    "pd.set_option(\"display.max_colwidth\", None)"
   ]
  },
  {
   "cell_type": "markdown",
   "id": "70048027-35f8-4ed8-a863-4231dd61f5fb",
   "metadata": {},
   "source": [
    "### Load in sheets"
   ]
  },
  {
   "cell_type": "markdown",
   "id": "b88f9b65-080f-47d4-9f60-f61583d197e4",
   "metadata": {},
   "source": [
    "#### TIRCP Completed Projects\n",
    "* Sheet with completed TIRCP projects.\n",
    "* Deleted 2015:13 SCCRA-Metrolink off Completed Projects, per Linda."
   ]
  },
  {
   "cell_type": "code",
   "execution_count": 3,
   "id": "655f89c1-797c-4b15-b525-977a679231e1",
   "metadata": {},
   "outputs": [],
   "source": [
    "completed_projects = to_snakecase(pd.read_excel(f\"{A1_data_prep.GCS_FILE_PATH}TIRCP - All Completed Projects_UPDATED 11-15-22.xlsx\", sheet_name=\"Table 1\"))"
   ]
  },
  {
   "cell_type": "code",
   "execution_count": 4,
   "id": "67d9fe16-b8b0-4a67-a8e3-30cafe745108",
   "metadata": {},
   "outputs": [
    {
     "data": {
      "text/plain": [
       "(13, 12)"
      ]
     },
     "execution_count": 4,
     "metadata": {},
     "output_type": "execute_result"
    }
   ],
   "source": [
    "completed_projects.shape"
   ]
  },
  {
   "cell_type": "code",
   "execution_count": 5,
   "id": "f87355d0-d23c-4df4-b764-39ed79c6bfc2",
   "metadata": {},
   "outputs": [
    {
     "data": {
      "text/plain": [
       "array([2015, 2016, 2018])"
      ]
     },
     "execution_count": 5,
     "metadata": {},
     "output_type": "execute_result"
    }
   ],
   "source": [
    "completed_projects.award_year.unique()"
   ]
  },
  {
   "cell_type": "code",
   "execution_count": 6,
   "id": "afa2926d-7a7f-4be2-949f-651673aee0c8",
   "metadata": {},
   "outputs": [],
   "source": [
    "# Crosswalk for project titles to match Project Sheet \n",
    "completed_project_crosswalk = {'Monterey Bay Operations & Maintenance Facility/Salinas Transit Service Project':\n",
    " 'Monterey Bay Operations and Maintenance Facility/Salinas Transit Service Project',\n",
    " 'South Bay Bus Rapid Transit Project*': 'South Bay Bus Rapid Transit',\n",
    " 'San Diego Metropolitan Transit System Trolley Capacity Improvements Project':\n",
    " 'San Diego Metropolitan Transit System Trolley Capacity Improvements',\n",
    " 'Expanding the SFMTA Light Rail Vehicle Fleet Project': 'SFMTA Light Rail Vehicle Fleet Expansion',\n",
    " 'Altamont Corridor Express Wayside Power': 'ACE Wayside Power Project',\n",
    " 'BRT Expansion: MLK Corridor and Crosstown Miner Corridor': 'Bus Rapid Transit – Martin Luther King Corridor and Crosstown Miner Corridor',}"
   ]
  },
  {
   "cell_type": "code",
   "execution_count": 7,
   "id": "897cf1c6-2899-4fc4-a284-d66f73b64d30",
   "metadata": {},
   "outputs": [],
   "source": [
    "# Replace \n",
    "completed_projects[\"project_title\"] = completed_projects[\"project_title\"].replace(completed_project_crosswalk)"
   ]
  },
  {
   "cell_type": "code",
   "execution_count": 8,
   "id": "c6e564f7-6cca-4ced-8c96-4b3b53c75b2c",
   "metadata": {},
   "outputs": [],
   "source": [
    "completed_projects = completed_projects.add_prefix(\"completed_\")\n"
   ]
  },
  {
   "cell_type": "markdown",
   "id": "82619e27-51e5-4656-aff5-62e665f75c61",
   "metadata": {},
   "source": [
    "#### Project"
   ]
  },
  {
   "cell_type": "code",
   "execution_count": 9,
   "id": "e02d5615-2855-4d4a-8ef5-80d74a22e691",
   "metadata": {},
   "outputs": [
    {
     "name": "stderr",
     "output_type": "stream",
     "text": [
      "/opt/conda/lib/python3.10/site-packages/openpyxl/worksheet/_reader.py:312: UserWarning: Data Validation extension is not supported and will be removed\n",
      "  warn(msg)\n"
     ]
    }
   ],
   "source": [
    "df_project = A1_data_prep.clean_project()"
   ]
  },
  {
   "cell_type": "code",
   "execution_count": 10,
   "id": "2b2d3a8d-157f-4ba0-8d56-895d9b9803b6",
   "metadata": {},
   "outputs": [],
   "source": [
    "project_cols_wanted = [\n",
    "    \"project_award_year\",\n",
    "    \"project_project_#\",\n",
    "    \"project_grant_recipient\",\n",
    "    \"project_project_title\",\n",
    "    \"project_project_description\",\n",
    "    \"project_ppno\",\n",
    "    \"project_total_project_cost\",\n",
    "    \"project_allocated_amount\",\n",
    "    \"project_tircp_award_amount__$_\",\n",
    "    \"project_is_sb1?\",\n",
    "    \"project_is_ggrf?\",\n",
    "    \"project_is_iija?\",\n",
    "    \"project_on_shs?\",\n",
    "    \"project_calitp\",\n",
    "    \"project_estimated_tircp_ghg_reductions\",\n",
    "    \"project_estimated_tircp_ghg_reductions2\",\n",
    "    \"project_increased_ridership\",\n",
    "    \"project_service_integration\",\n",
    "    \"project_improve_safety\",\n",
    "    \"project_project_readiness\",\n",
    "    \"project_funding_leverage\",\n",
    "    \"project_multi_agency_coordination_integration\",\n",
    "    \"project_ab_1550_community_benefits\",\n",
    "    \"project_housing_co_benefits\",\n",
    "]"
   ]
  },
  {
   "cell_type": "code",
   "execution_count": 11,
   "id": "e6a034c8-4b9b-4206-99c3-a35e89407f5a",
   "metadata": {},
   "outputs": [],
   "source": [
    "df_project2 = df_project[project_cols_wanted]"
   ]
  },
  {
   "cell_type": "markdown",
   "id": "3fa469b8-ee18-4340-9e38-741add3d55fa",
   "metadata": {},
   "source": [
    "##### Project Status \n",
    "* Merge TIRCP with Completed Projects\n",
    "* Create a function to tag all others."
   ]
  },
  {
   "cell_type": "code",
   "execution_count": 12,
   "id": "6efb8d50-953a-4ff1-90b4-790863bfa2f2",
   "metadata": {},
   "outputs": [],
   "source": [
    "project_m1 = pd.merge(\n",
    "    df_project2,\n",
    "    completed_projects,\n",
    "    how=\"outer\",\n",
    "    left_on=[\"project_project_title\"],\n",
    "    right_on=[\"completed_project_title\"],\n",
    "    indicator=True,\n",
    ")"
   ]
  },
  {
   "cell_type": "code",
   "execution_count": 13,
   "id": "4ad3f724-b090-488e-b3b8-abcf1d642456",
   "metadata": {},
   "outputs": [
    {
     "data": {
      "text/plain": [
       "left_only     83\n",
       "both          13\n",
       "right_only     0\n",
       "Name: _merge, dtype: int64"
      ]
     },
     "execution_count": 13,
     "metadata": {},
     "output_type": "execute_result"
    }
   ],
   "source": [
    "project_m1._merge.value_counts()"
   ]
  },
  {
   "cell_type": "code",
   "execution_count": 14,
   "id": "8fab08da-d484-4c9c-aed4-e6899974a7c6",
   "metadata": {},
   "outputs": [],
   "source": [
    "merge_replace = {'left_only':'tbd',\n",
    " 'both':'completed'} "
   ]
  },
  {
   "cell_type": "code",
   "execution_count": 15,
   "id": "486f2844-ee6e-43b8-8e5b-a3415c36dc20",
   "metadata": {
    "scrolled": true,
    "tags": []
   },
   "outputs": [],
   "source": [
    "# Change merge values \"both\" to completed \n",
    "# Rename merge column\n",
    "project_m1 = project_m1.rename(columns = {'_merge':'completed_projects'})"
   ]
  },
  {
   "cell_type": "code",
   "execution_count": 16,
   "id": "8485f8b1-5063-431f-b826-3fff409a92ee",
   "metadata": {},
   "outputs": [],
   "source": [
    "# Merge crosswalk \n",
    "project_m1['completed_projects'] = project_m1['completed_projects'].replace(merge_replace)"
   ]
  },
  {
   "cell_type": "code",
   "execution_count": 17,
   "id": "1723baa5-0685-4e37-867c-c4f80d3c51a9",
   "metadata": {},
   "outputs": [],
   "source": [
    "# project_m1.info()"
   ]
  },
  {
   "cell_type": "code",
   "execution_count": 18,
   "id": "2a271881-be57-4c38-990c-1603d1534ddb",
   "metadata": {},
   "outputs": [],
   "source": [
    "# Tag if the lead agency is Caltrans or a partner or unknown.\n",
    "def project_status_categorization(row):\n",
    "    # If partner is none, return Unknown.\n",
    "    if row.project_allocated_amount == 0.0:\n",
    "        return \"Planning\"\n",
    "    else:\n",
    "        return \"In Construction\""
   ]
  },
  {
   "cell_type": "code",
   "execution_count": 19,
   "id": "2a222b8d-dab7-421e-99f0-1429e76e7aa2",
   "metadata": {},
   "outputs": [],
   "source": [
    "# Apply function to determine if a project is fully funded or not\n",
    "project_m1[\"project_status\"] = project_m1.apply(project_status_categorization, axis=1)"
   ]
  },
  {
   "cell_type": "code",
   "execution_count": 20,
   "id": "ab5ca64f-6b3b-4444-a74c-3e8d87947dc4",
   "metadata": {},
   "outputs": [
    {
     "data": {
      "text/plain": [
       "In Construction    62\n",
       "Planning           34\n",
       "Name: project_status, dtype: int64"
      ]
     },
     "execution_count": 20,
     "metadata": {},
     "output_type": "execute_result"
    }
   ],
   "source": [
    "project_m1.project_status.value_counts()"
   ]
  },
  {
   "cell_type": "code",
   "execution_count": 21,
   "id": "6859f47c-7905-45d1-8862-f307de6fa7fb",
   "metadata": {},
   "outputs": [],
   "source": [
    "# Replace projects that are completed with the values \n",
    "project_m1.loc[project_m1['completed_projects'].str.startswith('comp'), 'project_status'] = \"Completed\""
   ]
  },
  {
   "cell_type": "code",
   "execution_count": 22,
   "id": "02f33bd9-f336-4bba-83d2-24d6b50a2c2a",
   "metadata": {
    "scrolled": true,
    "tags": []
   },
   "outputs": [],
   "source": [
    "# Preview\n",
    "# project_m1[['project_allocated_amount','completed_projects','project_status']]"
   ]
  },
  {
   "cell_type": "code",
   "execution_count": 23,
   "id": "f8560da8-6ec0-4ee2-8da2-86407979b3f8",
   "metadata": {},
   "outputs": [],
   "source": [
    "# Drop Completed Projects col\n",
    "project_m1 = project_m1.drop(columns = [\"completed_projects\", 'completed_project_number', 'completed_award_year',\n",
    "       'completed_applicant', 'completed_project_title',\n",
    "       'completed_project_description', 'completed_award_amount',\n",
    "       'completed_total_project_cost',\n",
    "       'completed_tircp_expended__as_of_6_30_2022',\n",
    "       'completed_percent_expended', 'completed_date_operational',\n",
    "       'completed_fdr', 'completed_comments', 'completed_projects'])"
   ]
  },
  {
   "cell_type": "markdown",
   "id": "8a2c66e9-8558-4fd8-a01a-5219c346916d",
   "metadata": {},
   "source": [
    "#### Allocation"
   ]
  },
  {
   "cell_type": "code",
   "execution_count": 24,
   "id": "e9aa3f47-6774-4b19-91dc-1e78c678bfef",
   "metadata": {},
   "outputs": [],
   "source": [
    "df_alloc = A1_data_prep.clean_allocation()"
   ]
  },
  {
   "cell_type": "code",
   "execution_count": 25,
   "id": "316681c3-8084-4391-bd35-87a9dae3501e",
   "metadata": {},
   "outputs": [],
   "source": [
    "# Subset\n",
    "alloc_cols_wanted = [\n",
    "    \"allocation_award_year\",\n",
    "    \"allocation_project_#\",\n",
    "    \"allocation_implementing_agency\",\n",
    "    \"allocation_ppno\",\n",
    "    \"allocation_components\",\n",
    "    \"allocation_phase\",\n",
    "    \"allocation_allocation_amount\",\n",
    "    \"allocation_expended_amount\",\n",
    "    \"allocation_sb1_funding\",\n",
    "    \"allocation_ggrf_funding\",\n",
    "    \"allocation_allocation_date\",\n",
    "    \"allocation_grant_recipient\",\n",
    "]"
   ]
  },
  {
   "cell_type": "code",
   "execution_count": 26,
   "id": "c9717c14-5e96-4046-8960-2537a9b006cd",
   "metadata": {
    "tags": []
   },
   "outputs": [],
   "source": [
    "df_alloc2 = df_alloc[alloc_cols_wanted]"
   ]
  },
  {
   "cell_type": "markdown",
   "id": "cc7b9fdc-0777-40b8-8508-e794cdff7f8f",
   "metadata": {},
   "source": [
    "#### GIS"
   ]
  },
  {
   "cell_type": "code",
   "execution_count": 27,
   "id": "c7679566-284f-4d1e-917d-79d3716311d0",
   "metadata": {},
   "outputs": [],
   "source": [
    "df_gis = A1_data_prep.load_gis()"
   ]
  },
  {
   "cell_type": "markdown",
   "id": "05a29c5f-18b7-4a45-a0f0-cef53d97b508",
   "metadata": {
    "tags": []
   },
   "source": [
    "### Populate GIS Template\n",
    "* With the following columns\n",
    "    * Award Year: Project Number\n",
    "    * Project Id\n",
    "    * Project TItle \n",
    "    * Project Description\t\n",
    "    * State/SB 1 Program Code\t\n",
    "    * IIJA Program Code\t\n",
    "    * Project Status\t\n",
    "    * SB1 Funds\t\n",
    "    * GGRF Funds\t\n",
    "    * IIJA Funds\t\n",
    "    * General Fund Auxilary Funds\t\n",
    "    * TIRCP Award Amount\t\n",
    "    * Total Project Cost\t\n",
    "    * Fiscal Year\t\n",
    "    * Is SB1?\t\n",
    "    * Is GGRF?\t\n",
    "    * Is IIJA?\t\n",
    "    * ON SHS?\t\n",
    "    * CalITP\t\n",
    "    * Estimated TIRCP GHG Reductions\t\n",
    "    * Increased Ridership\t\n",
    "    * Service Integration\t\n",
    "    * Improved Safety\t\n",
    "    * Project Readiness\t\n",
    "    * Multi-Agency Coordination\t\n",
    "    * AB 1550 Community Benefits\t\n",
    "    * Housing Co-Benefits\t\n",
    "    * Caltrans District\t\n",
    "    * Assembly District\t\n",
    "    * Senate District\tCongressional District\t\n",
    "    * City Code\t\n",
    "    * City Agency ID \t\n",
    "    * County Code\t\n",
    "    * County Agency ID \t\n",
    "    * Implementing Agency  ID \t\n",
    "    * Implementing Agency Name"
   ]
  },
  {
   "cell_type": "markdown",
   "id": "5499030e-2fa5-49d7-bb24-bc56807749f0",
   "metadata": {},
   "source": [
    "#### Merge sheets"
   ]
  },
  {
   "cell_type": "code",
   "execution_count": 28,
   "id": "13d6c9a1-91dd-474f-909f-27f87a0e55f2",
   "metadata": {},
   "outputs": [],
   "source": [
    "# Merge project & allocation sheets first\n",
    "m1 = pd.merge(\n",
    "    project_m1,\n",
    "    df_alloc2,\n",
    "    how=\"outer\",\n",
    "    left_on=[\"project_award_year\", \"project_ppno\", ],\n",
    "    right_on=[\"allocation_award_year\", \"allocation_ppno\",],\n",
    "    indicator=True,\n",
    ")"
   ]
  },
  {
   "cell_type": "code",
   "execution_count": 29,
   "id": "49a42d17-cb6b-45ba-a2cd-6f3424d69d9e",
   "metadata": {},
   "outputs": [
    {
     "data": {
      "text/plain": [
       "both          428\n",
       "left_only      25\n",
       "right_only      1\n",
       "Name: _merge, dtype: int64"
      ]
     },
     "execution_count": 29,
     "metadata": {},
     "output_type": "execute_result"
    }
   ],
   "source": [
    "# Left only is 2022 projects that haven't begun\n",
    "m1._merge.value_counts()"
   ]
  },
  {
   "cell_type": "code",
   "execution_count": 30,
   "id": "c8cc8fc1-aa47-42ab-8f0d-0855fb9cc878",
   "metadata": {},
   "outputs": [
    {
     "data": {
      "text/plain": [
       "(454, 38)"
      ]
     },
     "execution_count": 30,
     "metadata": {},
     "output_type": "execute_result"
    }
   ],
   "source": [
    "m1.shape"
   ]
  },
  {
   "cell_type": "code",
   "execution_count": 31,
   "id": "a2a0ffd1-8356-487f-acaf-2bb270dcf7cb",
   "metadata": {},
   "outputs": [
    {
     "data": {
      "text/plain": [
       "Index(['project_award_year', 'project_project_#', 'project_grant_recipient',\n",
       "       'project_project_title', 'project_project_description', 'project_ppno',\n",
       "       'project_total_project_cost', 'project_allocated_amount',\n",
       "       'project_tircp_award_amount__$_', 'project_is_sb1?', 'project_is_ggrf?',\n",
       "       'project_is_iija?', 'project_on_shs?', 'project_calitp',\n",
       "       'project_estimated_tircp_ghg_reductions',\n",
       "       'project_estimated_tircp_ghg_reductions2',\n",
       "       'project_increased_ridership', 'project_service_integration',\n",
       "       'project_improve_safety', 'project_project_readiness',\n",
       "       'project_funding_leverage',\n",
       "       'project_multi_agency_coordination_integration',\n",
       "       'project_ab_1550_community_benefits', 'project_housing_co_benefits',\n",
       "       'project_status', 'allocation_award_year', 'allocation_project_#',\n",
       "       'allocation_implementing_agency', 'allocation_ppno',\n",
       "       'allocation_components', 'allocation_phase',\n",
       "       'allocation_allocation_amount', 'allocation_expended_amount',\n",
       "       'allocation_sb1_funding', 'allocation_ggrf_funding',\n",
       "       'allocation_allocation_date', 'allocation_grant_recipient', '_merge'],\n",
       "      dtype='object')"
      ]
     },
     "execution_count": 31,
     "metadata": {},
     "output_type": "execute_result"
    }
   ],
   "source": [
    "m1.columns"
   ]
  },
  {
   "cell_type": "code",
   "execution_count": 32,
   "id": "e0502d7a-d1c4-4af7-9487-afa4cd1fd191",
   "metadata": {},
   "outputs": [],
   "source": [
    "# Drop merge\n",
    "m1 = m1.drop(columns=[\"_merge\"])"
   ]
  },
  {
   "cell_type": "code",
   "execution_count": 33,
   "id": "d975284f-6895-4d5a-8263-924125e81420",
   "metadata": {},
   "outputs": [],
   "source": [
    "# Merge m1 with df_gis\n",
    "m2 = pd.merge(\n",
    "    m1,\n",
    "    df_gis,\n",
    "    how=\"outer\",\n",
    "    left_on=[\"project_award_year\", \"project_project_title\"],\n",
    "    right_on=[\"award_year\", \"project_title\"],\n",
    "    indicator=True,\n",
    ")"
   ]
  },
  {
   "cell_type": "code",
   "execution_count": 34,
   "id": "b775e6fe-dec6-469f-a346-927ed5529de9",
   "metadata": {},
   "outputs": [
    {
     "data": {
      "text/plain": [
       "both          453\n",
       "left_only       1\n",
       "right_only      0\n",
       "Name: _merge, dtype: int64"
      ]
     },
     "execution_count": 34,
     "metadata": {},
     "output_type": "execute_result"
    }
   ],
   "source": [
    "m2._merge.value_counts()"
   ]
  },
  {
   "cell_type": "markdown",
   "id": "cb24b857-5062-4cff-ada2-90fdad8b3ff0",
   "metadata": {},
   "source": [
    "#### Create sheet"
   ]
  },
  {
   "cell_type": "markdown",
   "id": "f7abf7de-2181-4ea7-a411-3440bc26ecad",
   "metadata": {},
   "source": [
    "##### Create Project ID\n",
    "GIS program has to have a ten digit ID for the project ID.  Can you convert the project ID’s as follows:\n",
    "* (four zeros, cycle year, two digit project number) 2015:01 = 0000201501\n"
   ]
  },
  {
   "cell_type": "code",
   "execution_count": 35,
   "id": "b311552b-623e-4072-b96b-8078bf2f4db2",
   "metadata": {},
   "outputs": [],
   "source": [
    "project_table = m2.rename(columns={\"project_project_#\": \"project_number\"})"
   ]
  },
  {
   "cell_type": "code",
   "execution_count": 36,
   "id": "ab02b5a3-1306-46da-a2fe-8c4ef578ae94",
   "metadata": {},
   "outputs": [],
   "source": [
    "project_table = project_table.dropna(subset=['project_award_year', 'project_project_title']).reset_index(drop = True)"
   ]
  },
  {
   "cell_type": "code",
   "execution_count": 37,
   "id": "beab3378-410e-47e3-9fac-86691aa184ad",
   "metadata": {},
   "outputs": [],
   "source": [
    "# Turn award year to int64\n",
    "project_table[[\"project_award_year\", \"project_number\"]] = project_table[[\"project_award_year\", \"project_number\"]].astype('int64')"
   ]
  },
  {
   "cell_type": "code",
   "execution_count": 38,
   "id": "8e445897-a9d2-4d9f-9d79-866a577db9e5",
   "metadata": {},
   "outputs": [],
   "source": [
    "# Pad single digits with a 0.\n",
    "# https://stackoverflow.com/questions/67401497/add-a-zero-before-1-digit-number-in-a-column-pandas-dataframe\n",
    "project_table[\"project_number\"] = project_table.project_number.astype(str).str.zfill(2)"
   ]
  },
  {
   "cell_type": "code",
   "execution_count": 39,
   "id": "135842f6-431e-426d-bc4b-197ec9a0efe1",
   "metadata": {},
   "outputs": [],
   "source": [
    "project_table[\"project_id\"] = project_table[\"project_award_year\"].astype(\n",
    "    str\n",
    ") + project_table[\"project_number\"].astype(str)"
   ]
  },
  {
   "cell_type": "code",
   "execution_count": 40,
   "id": "4c7d146c-e92a-4a02-bc21-9d0e15a4d0a7",
   "metadata": {},
   "outputs": [],
   "source": [
    "project_table[\"project_id\"] = \"0000\" + project_table[\"project_id\"]"
   ]
  },
  {
   "cell_type": "markdown",
   "id": "49d09a32-e3e8-44f9-a8c0-ac0ab3647351",
   "metadata": {},
   "source": [
    "##### Edit Title to include Project Year & Number"
   ]
  },
  {
   "cell_type": "code",
   "execution_count": 41,
   "id": "b930b2f3-2e48-4cf4-b285-08fd287265a7",
   "metadata": {},
   "outputs": [],
   "source": [
    "# Create a new column: with year + project numer\n",
    "project_table[\"Award Year: Project Number\"] = (\n",
    "    project_table[\"project_award_year\"].astype(str)\n",
    "    + \":\"\n",
    "    + project_table[\"project_number\"]\n",
    ")"
   ]
  },
  {
   "cell_type": "code",
   "execution_count": 42,
   "id": "6ea349c1-406c-4c41-978f-21e9fb5dc88a",
   "metadata": {},
   "outputs": [],
   "source": [
    "# Edit title with new\n",
    "project_table[\"project_project_title\"] = (\n",
    "    project_table[\"project_project_title\"]\n",
    "    + \" \"\n",
    "    + project_table[\"Award Year: Project Number\"]\n",
    ")"
   ]
  },
  {
   "cell_type": "markdown",
   "id": "48a2147b-67c7-4b80-885e-8deb591e3f2a",
   "metadata": {},
   "source": [
    "#### Extract Fiscal Year"
   ]
  },
  {
   "cell_type": "code",
   "execution_count": 43,
   "id": "33d7fcb5-9589-4f77-9077-aa2b3b6efaff",
   "metadata": {
    "scrolled": true,
    "tags": []
   },
   "outputs": [],
   "source": [
    "project_table[\"fiscal_year\"] = project_table[\"allocation_allocation_date\"].dt.year"
   ]
  },
  {
   "cell_type": "code",
   "execution_count": 44,
   "id": "e279e7a5-d4a5-4f46-815e-edc1fb1ba155",
   "metadata": {},
   "outputs": [
    {
     "data": {
      "text/html": [
       "<div>\n",
       "<style scoped>\n",
       "    .dataframe tbody tr th:only-of-type {\n",
       "        vertical-align: middle;\n",
       "    }\n",
       "\n",
       "    .dataframe tbody tr th {\n",
       "        vertical-align: top;\n",
       "    }\n",
       "\n",
       "    .dataframe thead th {\n",
       "        text-align: right;\n",
       "    }\n",
       "</style>\n",
       "<table border=\"1\" class=\"dataframe\">\n",
       "  <thead>\n",
       "    <tr style=\"text-align: right;\">\n",
       "      <th></th>\n",
       "      <th>project_award_year</th>\n",
       "      <th>project_number</th>\n",
       "      <th>project_grant_recipient</th>\n",
       "      <th>project_project_title</th>\n",
       "      <th>project_project_description</th>\n",
       "      <th>project_ppno</th>\n",
       "      <th>project_total_project_cost</th>\n",
       "      <th>project_allocated_amount</th>\n",
       "      <th>project_tircp_award_amount__$_</th>\n",
       "      <th>project_is_sb1?</th>\n",
       "      <th>project_is_ggrf?</th>\n",
       "      <th>project_is_iija?</th>\n",
       "      <th>project_on_shs?</th>\n",
       "      <th>project_calitp</th>\n",
       "      <th>project_estimated_tircp_ghg_reductions</th>\n",
       "      <th>project_estimated_tircp_ghg_reductions2</th>\n",
       "      <th>project_increased_ridership</th>\n",
       "      <th>project_service_integration</th>\n",
       "      <th>project_improve_safety</th>\n",
       "      <th>project_project_readiness</th>\n",
       "      <th>project_funding_leverage</th>\n",
       "      <th>project_multi_agency_coordination_integration</th>\n",
       "      <th>project_ab_1550_community_benefits</th>\n",
       "      <th>project_housing_co_benefits</th>\n",
       "      <th>project_status</th>\n",
       "      <th>allocation_award_year</th>\n",
       "      <th>allocation_project_#</th>\n",
       "      <th>allocation_implementing_agency</th>\n",
       "      <th>allocation_ppno</th>\n",
       "      <th>allocation_components</th>\n",
       "      <th>allocation_phase</th>\n",
       "      <th>allocation_allocation_amount</th>\n",
       "      <th>allocation_expended_amount</th>\n",
       "      <th>allocation_sb1_funding</th>\n",
       "      <th>allocation_ggrf_funding</th>\n",
       "      <th>allocation_allocation_date</th>\n",
       "      <th>allocation_grant_recipient</th>\n",
       "      <th>award_year</th>\n",
       "      <th>project_#</th>\n",
       "      <th>grant_recipient</th>\n",
       "      <th>project_title</th>\n",
       "      <th>ppno</th>\n",
       "      <th>county</th>\n",
       "      <th>caltransdistrict</th>\n",
       "      <th>assembly_districts</th>\n",
       "      <th>congressional_districts</th>\n",
       "      <th>senate_districts</th>\n",
       "      <th>city_code</th>\n",
       "      <th>city_agency_id_</th>\n",
       "      <th>county_code</th>\n",
       "      <th>county_agency_id_</th>\n",
       "      <th>_implementing_agency__id_</th>\n",
       "      <th>_merge</th>\n",
       "      <th>project_id</th>\n",
       "      <th>Award Year: Project Number</th>\n",
       "      <th>fiscal_year</th>\n",
       "    </tr>\n",
       "  </thead>\n",
       "  <tbody>\n",
       "    <tr>\n",
       "      <th>0</th>\n",
       "      <td>2015</td>\n",
       "      <td>01</td>\n",
       "      <td>Antelope Valley Transit Authority</td>\n",
       "      <td>Regional Transit Interconnectivity &amp; Environmental Sustability 2015:01</td>\n",
       "      <td>Purchase 13 60-foot articulated BRT buses and 16 45-foot electric commuter buses</td>\n",
       "      <td>CP005</td>\n",
       "      <td>39478000.00</td>\n",
       "      <td>24403000.00</td>\n",
       "      <td>24403000.00</td>\n",
       "      <td>N</td>\n",
       "      <td>Y</td>\n",
       "      <td>N</td>\n",
       "      <td>0.00</td>\n",
       "      <td>0.00</td>\n",
       "      <td>195,380 MTCO2</td>\n",
       "      <td>None</td>\n",
       "      <td>None</td>\n",
       "      <td>None</td>\n",
       "      <td>None</td>\n",
       "      <td>None</td>\n",
       "      <td>None</td>\n",
       "      <td>None</td>\n",
       "      <td>None</td>\n",
       "      <td>None</td>\n",
       "      <td>In Construction</td>\n",
       "      <td>2015.00</td>\n",
       "      <td>1.00</td>\n",
       "      <td>Antelope Valley Transit Authority</td>\n",
       "      <td>CP005</td>\n",
       "      <td>Purchase 13 60-foot articulated BRT buses and 16 45-foot electric commuter buses</td>\n",
       "      <td>CONST</td>\n",
       "      <td>24403000.00</td>\n",
       "      <td>23400943.00</td>\n",
       "      <td>0.00</td>\n",
       "      <td>24403000.00</td>\n",
       "      <td>2015-10-22</td>\n",
       "      <td>Antelope Valley Transit Authority</td>\n",
       "      <td>2015.00</td>\n",
       "      <td>1.00</td>\n",
       "      <td>Antelope Valley Transit Authority (AVTA)</td>\n",
       "      <td>Regional Transit Interconnectivity &amp; Environmental Sustability</td>\n",
       "      <td>CP005</td>\n",
       "      <td>LA</td>\n",
       "      <td>|07|</td>\n",
       "      <td>|36|</td>\n",
       "      <td>NaN</td>\n",
       "      <td>|21|</td>\n",
       "      <td>|5419|5378|</td>\n",
       "      <td>NaN</td>\n",
       "      <td>|5953|</td>\n",
       "      <td>NaN</td>\n",
       "      <td>|6166|</td>\n",
       "      <td>both</td>\n",
       "      <td>0000201501</td>\n",
       "      <td>2015:01</td>\n",
       "      <td>2015.00</td>\n",
       "    </tr>\n",
       "  </tbody>\n",
       "</table>\n",
       "</div>"
      ],
      "text/plain": [
       "   project_award_year project_number            project_grant_recipient  \\\n",
       "0                2015             01  Antelope Valley Transit Authority   \n",
       "\n",
       "                                                    project_project_title  \\\n",
       "0  Regional Transit Interconnectivity & Environmental Sustability 2015:01   \n",
       "\n",
       "                                                        project_project_description  \\\n",
       "0  Purchase 13 60-foot articulated BRT buses and 16 45-foot electric commuter buses   \n",
       "\n",
       "  project_ppno  project_total_project_cost  project_allocated_amount  \\\n",
       "0        CP005                 39478000.00               24403000.00   \n",
       "\n",
       "   project_tircp_award_amount__$_ project_is_sb1? project_is_ggrf?  \\\n",
       "0                     24403000.00               N                Y   \n",
       "\n",
       "  project_is_iija?  project_on_shs?  project_calitp  \\\n",
       "0                N             0.00            0.00   \n",
       "\n",
       "  project_estimated_tircp_ghg_reductions  \\\n",
       "0                          195,380 MTCO2   \n",
       "\n",
       "  project_estimated_tircp_ghg_reductions2 project_increased_ridership  \\\n",
       "0                                    None                        None   \n",
       "\n",
       "  project_service_integration project_improve_safety  \\\n",
       "0                        None                   None   \n",
       "\n",
       "  project_project_readiness project_funding_leverage  \\\n",
       "0                      None                     None   \n",
       "\n",
       "  project_multi_agency_coordination_integration  \\\n",
       "0                                          None   \n",
       "\n",
       "  project_ab_1550_community_benefits project_housing_co_benefits  \\\n",
       "0                               None                        None   \n",
       "\n",
       "    project_status  allocation_award_year  allocation_project_#  \\\n",
       "0  In Construction                2015.00                  1.00   \n",
       "\n",
       "      allocation_implementing_agency allocation_ppno  \\\n",
       "0  Antelope Valley Transit Authority           CP005   \n",
       "\n",
       "                                                              allocation_components  \\\n",
       "0  Purchase 13 60-foot articulated BRT buses and 16 45-foot electric commuter buses   \n",
       "\n",
       "  allocation_phase  allocation_allocation_amount  allocation_expended_amount  \\\n",
       "0            CONST                   24403000.00                 23400943.00   \n",
       "\n",
       "   allocation_sb1_funding  allocation_ggrf_funding allocation_allocation_date  \\\n",
       "0                    0.00              24403000.00                 2015-10-22   \n",
       "\n",
       "          allocation_grant_recipient  award_year  project_#  \\\n",
       "0  Antelope Valley Transit Authority     2015.00       1.00   \n",
       "\n",
       "                            grant_recipient  \\\n",
       "0  Antelope Valley Transit Authority (AVTA)   \n",
       "\n",
       "                                                    project_title   ppno  \\\n",
       "0  Regional Transit Interconnectivity & Environmental Sustability  CP005   \n",
       "\n",
       "  county caltransdistrict assembly_districts congressional_districts  \\\n",
       "0     LA             |07|               |36|                     NaN   \n",
       "\n",
       "  senate_districts    city_code  city_agency_id_ county_code  \\\n",
       "0             |21|  |5419|5378|              NaN      |5953|   \n",
       "\n",
       "   county_agency_id_ _implementing_agency__id_ _merge  project_id  \\\n",
       "0                NaN                    |6166|   both  0000201501   \n",
       "\n",
       "  Award Year: Project Number  fiscal_year  \n",
       "0                    2015:01      2015.00  "
      ]
     },
     "execution_count": 44,
     "metadata": {},
     "output_type": "execute_result"
    }
   ],
   "source": [
    "project_table.head(1)"
   ]
  },
  {
   "cell_type": "markdown",
   "id": "48dbda0b-8e36-4415-8397-8e077d98a08e",
   "metadata": {},
   "source": [
    "#### Columns"
   ]
  },
  {
   "cell_type": "code",
   "execution_count": 45,
   "id": "204e2c4f-1ae0-405f-947a-2ade06e2fecd",
   "metadata": {},
   "outputs": [],
   "source": [
    "# Keep the columns I want.\n",
    "cols_right_order = [\n",
    "    \"Award Year: Project Number\",\n",
    "    \"project_id\",\n",
    "    \"project_ppno\",\n",
    "    \"project_project_title\",\n",
    "    \"project_status\",\n",
    "    \"project_project_description\",\n",
    "    \"allocation_components\",\n",
    "    \"allocation_phase\",\n",
    "    \"project_tircp_award_amount__$_\",\n",
    "    \"allocation_sb1_funding\",\n",
    "    \"allocation_ggrf_funding\",\n",
    "    \"allocation_allocation_amount\",\n",
    "    \"project_total_project_cost\",\n",
    "    \"fiscal_year\",\n",
    "    \"project_is_sb1?\",\n",
    "    \"project_is_ggrf?\",\n",
    "    \"project_is_iija?\",\n",
    "    \"project_on_shs?\",\n",
    "    \"project_calitp\",\n",
    "    \"project_estimated_tircp_ghg_reductions\",\n",
    "    \"project_estimated_tircp_ghg_reductions2\",\n",
    "    \"project_increased_ridership\",\n",
    "    \"project_service_integration\",\n",
    "    \"project_improve_safety\",\n",
    "    \"project_project_readiness\",\n",
    "    \"project_funding_leverage\",\n",
    "    \"project_multi_agency_coordination_integration\",\n",
    "    \"project_ab_1550_community_benefits\",\n",
    "    \"project_housing_co_benefits\",\n",
    "    \"caltransdistrict\",\n",
    "    \"assembly_districts\",\n",
    "    \"senate_districts\",\n",
    "    \"city_code\",\n",
    "    \"city_agency_id_\",\n",
    "    \"county_code\",\n",
    "    \"county_agency_id_\",\n",
    "    \"_implementing_agency__id_\",\n",
    "    \"allocation_implementing_agency\",\n",
    "]"
   ]
  },
  {
   "cell_type": "code",
   "execution_count": 46,
   "id": "c7ec4fcb-35db-4353-a6d2-23430d8c4488",
   "metadata": {},
   "outputs": [],
   "source": [
    "project_table2 = project_table[cols_right_order]"
   ]
  },
  {
   "cell_type": "code",
   "execution_count": 47,
   "id": "e87ff20e-e140-456c-9e3a-99ac7615243d",
   "metadata": {},
   "outputs": [
    {
     "data": {
      "text/plain": [
       "Index(['Award Year: Project Number', 'project_id', 'project_ppno',\n",
       "       'project_project_title', 'project_status',\n",
       "       'project_project_description', 'allocation_components',\n",
       "       'allocation_phase', 'project_tircp_award_amount__$_',\n",
       "       'allocation_sb1_funding', 'allocation_ggrf_funding',\n",
       "       'allocation_allocation_amount', 'project_total_project_cost',\n",
       "       'fiscal_year', 'project_is_sb1?', 'project_is_ggrf?',\n",
       "       'project_is_iija?', 'project_on_shs?', 'project_calitp',\n",
       "       'project_estimated_tircp_ghg_reductions',\n",
       "       'project_estimated_tircp_ghg_reductions2',\n",
       "       'project_increased_ridership', 'project_service_integration',\n",
       "       'project_improve_safety', 'project_project_readiness',\n",
       "       'project_funding_leverage',\n",
       "       'project_multi_agency_coordination_integration',\n",
       "       'project_ab_1550_community_benefits', 'project_housing_co_benefits',\n",
       "       'caltransdistrict', 'assembly_districts', 'senate_districts',\n",
       "       'city_code', 'city_agency_id_', 'county_code', 'county_agency_id_',\n",
       "       '_implementing_agency__id_', 'allocation_implementing_agency'],\n",
       "      dtype='object')"
      ]
     },
     "execution_count": 47,
     "metadata": {},
     "output_type": "execute_result"
    }
   ],
   "source": [
    "project_table2.columns"
   ]
  },
  {
   "cell_type": "markdown",
   "id": "45f66a5b-1f53-4c02-891d-d1bde674923e",
   "metadata": {
    "tags": []
   },
   "source": [
    "##### Create Missing Columns"
   ]
  },
  {
   "cell_type": "code",
   "execution_count": 48,
   "id": "cd0be3eb-4db4-4e00-9e12-7513fcc6625f",
   "metadata": {},
   "outputs": [
    {
     "name": "stderr",
     "output_type": "stream",
     "text": [
      "/tmp/ipykernel_1828/1395933635.py:1: SettingWithCopyWarning: \n",
      "A value is trying to be set on a copy of a slice from a DataFrame.\n",
      "Try using .loc[row_indexer,col_indexer] = value instead\n",
      "\n",
      "See the caveats in the documentation: https://pandas.pydata.org/pandas-docs/stable/user_guide/indexing.html#returning-a-view-versus-a-copy\n",
      "  project_table2[\"State_SB_1_Program_Code\"] = \"TIRCP\"\n"
     ]
    }
   ],
   "source": [
    "project_table2[\"State_SB_1_Program_Code\"] = \"TIRCP\""
   ]
  },
  {
   "cell_type": "code",
   "execution_count": 49,
   "id": "ad55968b-585f-4047-94a5-51b0cae6e725",
   "metadata": {},
   "outputs": [
    {
     "name": "stderr",
     "output_type": "stream",
     "text": [
      "/tmp/ipykernel_1828/287643849.py:2: SettingWithCopyWarning: \n",
      "A value is trying to be set on a copy of a slice from a DataFrame.\n",
      "Try using .loc[row_indexer,col_indexer] = value instead\n",
      "\n",
      "See the caveats in the documentation: https://pandas.pydata.org/pandas-docs/stable/user_guide/indexing.html#returning-a-view-versus-a-copy\n",
      "  project_table2[i] = \"N/A\"\n",
      "/tmp/ipykernel_1828/287643849.py:2: SettingWithCopyWarning: \n",
      "A value is trying to be set on a copy of a slice from a DataFrame.\n",
      "Try using .loc[row_indexer,col_indexer] = value instead\n",
      "\n",
      "See the caveats in the documentation: https://pandas.pydata.org/pandas-docs/stable/user_guide/indexing.html#returning-a-view-versus-a-copy\n",
      "  project_table2[i] = \"N/A\"\n",
      "/tmp/ipykernel_1828/287643849.py:2: SettingWithCopyWarning: \n",
      "A value is trying to be set on a copy of a slice from a DataFrame.\n",
      "Try using .loc[row_indexer,col_indexer] = value instead\n",
      "\n",
      "See the caveats in the documentation: https://pandas.pydata.org/pandas-docs/stable/user_guide/indexing.html#returning-a-view-versus-a-copy\n",
      "  project_table2[i] = \"N/A\"\n"
     ]
    }
   ],
   "source": [
    "for i in [\"IIJA_Program_Code\", \"IIJA_Funds\", \"General_Fund_Auxiliary_Funds\"]:\n",
    "    project_table2[i] = \"N/A\""
   ]
  },
  {
   "cell_type": "code",
   "execution_count": 50,
   "id": "3472fe93-5490-449a-b726-fabbbba2dfc0",
   "metadata": {},
   "outputs": [],
   "source": [
    "# Clean up column names\n",
    "project_table2 = A1_data_prep.clean_up_columns(project_table2)"
   ]
  },
  {
   "cell_type": "code",
   "execution_count": 51,
   "id": "380e3ee4-02b6-4955-b71c-a8e65ea67e72",
   "metadata": {},
   "outputs": [],
   "source": [
    "project_table2 = project_table2.rename(\n",
    "    columns={\n",
    "        \"Id\": \"Project ID\",\n",
    "        \"Title\": \"Project Title\",\n",
    "        \"Description\": \"Project Description\",\n",
    "        \"Component\": \"TIRCP Component\",\n",
    "        \"Phase\": \"Phase\",\n",
    "        \"Sb1 Funding\": \"SB1 Funds\",\n",
    "        \"Amount\": \"Allocation Amount\",\n",
    "        \"Caltransdistrict\": \"Caltrans District\",\n",
    "    }\n",
    ")"
   ]
  },
  {
   "cell_type": "markdown",
   "id": "e4807ef2-b68e-498e-8643-ec25756f62f6",
   "metadata": {
    "tags": []
   },
   "source": [
    "#### Final Checks"
   ]
  },
  {
   "cell_type": "code",
   "execution_count": 52,
   "id": "ea8b4db2-211c-4321-b01c-93ef4fd83a84",
   "metadata": {},
   "outputs": [
    {
     "data": {
      "text/plain": [
       "True"
      ]
     },
     "execution_count": 52,
     "metadata": {},
     "output_type": "execute_result"
    }
   ],
   "source": [
    "project_table2.Ppno.nunique() == df_project.project_ppno.nunique()"
   ]
  },
  {
   "cell_type": "markdown",
   "id": "8cf65e0a-7fa6-450e-97ab-105d8ae92eec",
   "metadata": {},
   "source": [
    "#### Groupby/Formatting V1 \n",
    "* Splits out GGRF/SB1 by phase and components."
   ]
  },
  {
   "cell_type": "code",
   "execution_count": 53,
   "id": "213ad554-c43f-422f-b1e9-93e31ec20487",
   "metadata": {},
   "outputs": [],
   "source": [
    "project_table2 = project_table2.fillna(\n",
    "    project_table2.dtypes.replace({\"float64\": 0.0, \"object\": \"None\", \"int64\": 0})\n",
    ")"
   ]
  },
  {
   "cell_type": "code",
   "execution_count": 54,
   "id": "d1807a57-6895-40bd-ad24-833fa8dd0e2a",
   "metadata": {},
   "outputs": [],
   "source": [
    "project_table2[\"Components_Cumulative\"] = project_table2[\"Components\"]"
   ]
  },
  {
   "cell_type": "code",
   "execution_count": 55,
   "id": "18eeaaed-4947-41ad-9045-4407a5118419",
   "metadata": {},
   "outputs": [],
   "source": [
    "# Append number of times a component repeats by project ID & status\n",
    "# Because components-status combination appears more than once for some projects\n",
    "# And the monetary info is summed up unintentionally in the group by step below.\n",
    "# https://stackoverflow.com/questions/57605705/how-to-append-counter-number-to-each-repeated-string-value-in-pandas-column\n",
    "project_table2[\"Components_Cumulative\"] += (\n",
    "    project_table2.groupby([\"Components_Cumulative\", \"Project ID\", \"Phase\"])\n",
    "    .cumcount()\n",
    "    .add(1)\n",
    "    .astype(str)\n",
    ")"
   ]
  },
  {
   "cell_type": "code",
   "execution_count": 56,
   "id": "fcc457a1-48e8-4125-bcc4-29e50825a0d8",
   "metadata": {
    "scrolled": true,
    "tags": []
   },
   "outputs": [],
   "source": [
    "# project_table2[[\"Project ID\",\"Project Status\",'Components']]"
   ]
  },
  {
   "cell_type": "markdown",
   "id": "c9019b52-7bca-4a6d-add6-cc0fa76e5402",
   "metadata": {},
   "source": [
    "#### Groupby\n",
    "* Splits out SB1 and GGRF funding by phases. "
   ]
  },
  {
   "cell_type": "code",
   "execution_count": 57,
   "id": "ce91008b-a7c7-414c-8f12-9a3f636bf458",
   "metadata": {},
   "outputs": [],
   "source": [
    "groupby_cols_1 = [\n",
    "    \"Award Year: Project Number\",\n",
    "    \"Project ID\",\n",
    "    \"Ppno\",\n",
    "    \"Project Title\",\n",
    "    \"Status\",\n",
    "    \"Project Description\",\n",
    "    'State Sb 1 Program Code',\n",
    "    \"Iija Program Code\",\n",
    "    \"Tircp Award Amount  $\",\n",
    "    \"Total  Cost\",\n",
    "    \"Is Sb1?\",\n",
    "    \"Is Ggrf?\",\n",
    "    \"Is Iija?\",\n",
    "    \"On Shs?\",\n",
    "    \"Calitp\",\n",
    "    \"Estimated Tircp Ghg Reductions\",\n",
    "    \"Estimated Tircp Ghg Reductions2\",\n",
    "    \"Increased Ridership\",\n",
    "    \"Service Integration\",\n",
    "    \"Improve Safety\",\n",
    "    \"Readiness\",\n",
    "    \"Funding Leverage\",\n",
    "    \"Multi Agency Coordination Integration\",\n",
    "    \"Ab 1550 Community Benefits\",\n",
    "    \"Housing Co Benefits\",\n",
    "    \"Caltrans District\",\n",
    "    \"Assembly Districts\",\n",
    "    \"Senate Districts\",\n",
    "    \"City Code\",\n",
    "    \"City Agency Id\",\n",
    "    \"County Code\",\n",
    "    \"County Agency Id\",\n",
    "    \"Implementing Agency  Id\",\n",
    "    \"Implementing Agency\",\n",
    "    \"Components_Cumulative\",\n",
    "    \"Phase\",\n",
    "]"
   ]
  },
  {
   "cell_type": "code",
   "execution_count": 58,
   "id": "cba82c21-0ac2-4398-ba5e-28ccdad6b6a2",
   "metadata": {},
   "outputs": [],
   "source": [
    "sum_cols = [\"SB1 Funds\", \"Ggrf Funding\" ]"
   ]
  },
  {
   "cell_type": "code",
   "execution_count": 59,
   "id": "765b1f1d-5289-4da4-9aa5-703d179c7e25",
   "metadata": {},
   "outputs": [],
   "source": [
    "max_cols = [\n",
    "    \"Fiscal Year\",\n",
    "    \"Iija Funds\",\n",
    "    \"General Fund Auxiliary Funds\",\n",
    "]"
   ]
  },
  {
   "cell_type": "code",
   "execution_count": 60,
   "id": "a8600f0e-00cc-4bba-a7ee-7b2e4ffe014e",
   "metadata": {},
   "outputs": [],
   "source": [
    "grouped1 = project_table2.groupby(groupby_cols_1).agg(\n",
    "    {**{e: \"sum\" for e in sum_cols}, **{e: \"max\" for e in max_cols}}\n",
    ")"
   ]
  },
  {
   "cell_type": "markdown",
   "id": "f35ab06d-3797-4276-aadf-1897de1341be",
   "metadata": {},
   "source": [
    "#### Groupby/Formatting V2 \n",
    "* Aggregates GGRF and SB1 by project instead of phase/components."
   ]
  },
  {
   "cell_type": "code",
   "execution_count": 61,
   "id": "d316dcb6-9b40-4094-8390-d7cbc21bf13e",
   "metadata": {},
   "outputs": [],
   "source": [
    "# Took out phase\n",
    "groupby_cols_2 = [\n",
    "    \"Award Year: Project Number\",\n",
    "    \"Project ID\",\n",
    "    \"Ppno\",\n",
    "    \"Project Title\",\n",
    "    \"Status\",\n",
    "    \"Project Description\",\n",
    "    'State Sb 1 Program Code',\n",
    "    \"Iija Program Code\",\n",
    "    \"Tircp Award Amount  $\",\n",
    "    \"Total  Cost\",\n",
    "    \"Is Sb1?\",\n",
    "    \"Is Ggrf?\",\n",
    "    \"Is Iija?\",\n",
    "    \"On Shs?\",\n",
    "    \"Calitp\",\n",
    "    \"Estimated Tircp Ghg Reductions\",\n",
    "    \"Estimated Tircp Ghg Reductions2\",\n",
    "    \"Increased Ridership\",\n",
    "    \"Service Integration\",\n",
    "    \"Improve Safety\",\n",
    "    \"Readiness\",\n",
    "    \"Funding Leverage\",\n",
    "    \"Multi Agency Coordination Integration\",\n",
    "    \"Ab 1550 Community Benefits\",\n",
    "    \"Housing Co Benefits\",\n",
    "    \"Caltrans District\",\n",
    "    \"Assembly Districts\",\n",
    "    \"Senate Districts\",\n",
    "    \"City Code\",\n",
    "    \"City Agency Id\",\n",
    "    \"County Code\",\n",
    "    \"County Agency Id\",\n",
    "    \"Implementing Agency  Id\",\n",
    "    \"Implementing Agency\",\n",
    "\n",
    "    \n",
    "]"
   ]
  },
  {
   "cell_type": "code",
   "execution_count": 62,
   "id": "54fca20e-d889-40b3-87da-08979c982242",
   "metadata": {},
   "outputs": [],
   "source": [
    "grouped2 = project_table2.groupby(groupby_cols_2).agg(\n",
    "    {**{e: \"sum\" for e in sum_cols}, **{e: \"max\" for e in max_cols}}\n",
    ")"
   ]
  },
  {
   "cell_type": "markdown",
   "id": "524fc73b-6465-4d9c-9283-4b983756ad60",
   "metadata": {},
   "source": [
    "#### Save"
   ]
  },
  {
   "cell_type": "code",
   "execution_count": 63,
   "id": "c9486298-3dc7-40b1-b425-7d77d4a2546f",
   "metadata": {},
   "outputs": [],
   "source": [
    "#with pd.ExcelWriter(f\"{A1_data_prep.GCS_FILE_PATH}gis_template.xlsx\") as writer:\n",
    "  #  grouped1.to_excel(writer, sheet_name=\"Projects Table V1\", index=True)\n",
    "  #  grouped2.to_excel(writer, sheet_name=\"Projects Table V2\", index=True)"
   ]
  }
 ],
 "metadata": {
  "kernelspec": {
   "display_name": "Python 3 (ipykernel)",
   "language": "python",
   "name": "python3"
  },
  "language_info": {
   "codemirror_mode": {
    "name": "ipython",
    "version": 3
   },
   "file_extension": ".py",
   "mimetype": "text/x-python",
   "name": "python",
   "nbconvert_exporter": "python",
   "pygments_lexer": "ipython3",
   "version": "3.10.6"
  }
 },
 "nbformat": 4,
 "nbformat_minor": 5
}
