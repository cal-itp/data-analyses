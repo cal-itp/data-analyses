{
 "cells": [
  {
   "cell_type": "markdown",
   "id": "87c93812-b039-4ded-a350-314532788b03",
   "metadata": {},
   "source": [
    "## SB1 GIS Template\n",
    "* Populate TIRCP GIS Template to create a map for TIRCP only projects."
   ]
  },
  {
   "cell_type": "code",
   "execution_count": 1,
   "id": "7365bf9b-35c9-47c2-9c9d-1ebdbbc5141e",
   "metadata": {},
   "outputs": [],
   "source": [
    "import A1_data_prep\n",
    "import A2_tableau\n",
    "import numpy as np\n",
    "import pandas as pd\n",
    "from babel.numbers import format_currency\n",
    "from calitp import *"
   ]
  },
  {
   "cell_type": "code",
   "execution_count": 2,
   "id": "e2c46578-09b6-40d3-8a9b-1445039fee81",
   "metadata": {},
   "outputs": [],
   "source": [
    "pd.options.display.max_columns = 100\n",
    "pd.options.display.float_format = \"{:.2f}\".format\n",
    "pd.set_option(\"display.max_rows\", None)\n",
    "pd.set_option(\"display.max_colwidth\", None)"
   ]
  },
  {
   "cell_type": "markdown",
   "id": "70048027-35f8-4ed8-a863-4231dd61f5fb",
   "metadata": {},
   "source": [
    "### Load in sheets"
   ]
  },
  {
   "cell_type": "markdown",
   "id": "82619e27-51e5-4656-aff5-62e665f75c61",
   "metadata": {},
   "source": [
    "#### Project"
   ]
  },
  {
   "cell_type": "code",
   "execution_count": 3,
   "id": "e02d5615-2855-4d4a-8ef5-80d74a22e691",
   "metadata": {},
   "outputs": [
    {
     "name": "stderr",
     "output_type": "stream",
     "text": [
      "/opt/conda/lib/python3.10/site-packages/openpyxl/worksheet/_reader.py:312: UserWarning: Data Validation extension is not supported and will be removed\n",
      "  warn(msg)\n"
     ]
    }
   ],
   "source": [
    "df_project = A1_data_prep.clean_project()"
   ]
  },
  {
   "cell_type": "code",
   "execution_count": 4,
   "id": "2b2d3a8d-157f-4ba0-8d56-895d9b9803b6",
   "metadata": {},
   "outputs": [],
   "source": [
    "project_cols_wanted = [\n",
    "    \"project_award_year\",\n",
    "    \"project_project_#\",\n",
    "    \"project_grant_recipient\",\n",
    "    \"project_project_title\",\n",
    "    \"project_project_description\",\n",
    "    \"project_ppno\",\n",
    "    \"project_total_project_cost\",\n",
    "    \"project_tircp_award_amount__$_\",\n",
    "    \"project_is_sb1?\",\n",
    "    \"project_is_ggrf?\",\n",
    "    \"project_is_iija?\",\n",
    "    \"project_on_shs?\",\n",
    "    \"project_calitp\",\n",
    "    \"project_estimated_tircp_ghg_reductions\",\n",
    "    \"project_estimated_tircp_ghg_reductions2\",\n",
    "    \"project_increased_ridership\",\n",
    "    \"project_service_integration\",\n",
    "    \"project_improve_safety\",\n",
    "    \"project_project_readiness\",\n",
    "    \"project_funding_leverage\",\n",
    "    \"project_multi_agency_coordination_integration\",\n",
    "    \"project_ab_1550_community_benefits\",\n",
    "    \"project_housing_co_benefits\",\n",
    "]"
   ]
  },
  {
   "cell_type": "code",
   "execution_count": 5,
   "id": "e6a034c8-4b9b-4206-99c3-a35e89407f5a",
   "metadata": {},
   "outputs": [],
   "source": [
    "df_project2 = df_project[project_cols_wanted]"
   ]
  },
  {
   "cell_type": "markdown",
   "id": "8a2c66e9-8558-4fd8-a01a-5219c346916d",
   "metadata": {},
   "source": [
    "#### Allocation"
   ]
  },
  {
   "cell_type": "code",
   "execution_count": 6,
   "id": "e9aa3f47-6774-4b19-91dc-1e78c678bfef",
   "metadata": {},
   "outputs": [],
   "source": [
    "df_alloc = A1_data_prep.clean_allocation()"
   ]
  },
  {
   "cell_type": "code",
   "execution_count": 47,
   "id": "316681c3-8084-4391-bd35-87a9dae3501e",
   "metadata": {},
   "outputs": [],
   "source": [
    "# Subset\n",
    "alloc_cols_wanted = [\n",
    "    \"allocation_award_year\",\n",
    "    \"allocation_project_#\",\n",
    "    \"allocation_implementing_agency\",\n",
    "    \"allocation_ppno\",\n",
    "    \"allocation_components\",\n",
    "    \"allocation_phase\",\n",
    "    \"allocation_allocation_amount\",\n",
    "    \"allocation_expended_amount\",\n",
    "    \"allocation_sb1_funding\",\n",
    "    \"allocation_ggrf_funding\",\n",
    "    \"allocation_allocation_date\",\n",
    "    \"allocation_grant_recipient\",\n",
    "]"
   ]
  },
  {
   "cell_type": "code",
   "execution_count": 48,
   "id": "c9717c14-5e96-4046-8960-2537a9b006cd",
   "metadata": {
    "tags": []
   },
   "outputs": [],
   "source": [
    "df_alloc2 = df_alloc[alloc_cols_wanted]"
   ]
  },
  {
   "cell_type": "markdown",
   "id": "cc7b9fdc-0777-40b8-8508-e794cdff7f8f",
   "metadata": {},
   "source": [
    "#### GIS"
   ]
  },
  {
   "cell_type": "code",
   "execution_count": 9,
   "id": "c7679566-284f-4d1e-917d-79d3716311d0",
   "metadata": {},
   "outputs": [],
   "source": [
    "df_gis = A1_data_prep.load_gis()"
   ]
  },
  {
   "cell_type": "markdown",
   "id": "05a29c5f-18b7-4a45-a0f0-cef53d97b508",
   "metadata": {
    "tags": []
   },
   "source": [
    "### Populate GIS Template\n",
    "* With the following columns\n",
    "    * Award Year: Project Number\n",
    "    * Project Id\n",
    "    * Project TItle \n",
    "    * Project Description\t\n",
    "    * State/SB 1 Program Code\t\n",
    "    * IIJA Program Code\t\n",
    "    * Project Status\t\n",
    "    * SB1 Funds\t\n",
    "    * GGRF Funds\t\n",
    "    * IIJA Funds\t\n",
    "    * General Fund Auxilary Funds\t\n",
    "    * TIRCP Award Amount\t\n",
    "    * Total Project Cost\t\n",
    "    * Fiscal Year\t\n",
    "    * Is SB1?\t\n",
    "    * Is GGRF?\t\n",
    "    * Is IIJA?\t\n",
    "    * ON SHS?\t\n",
    "    * CalITP\t\n",
    "    * Estimated TIRCP GHG Reductions\t\n",
    "    * Increased Ridership\t\n",
    "    * Service Integration\t\n",
    "    * Improved Safety\t\n",
    "    * Project Readiness\t\n",
    "    * Multi-Agency Coordination\t\n",
    "    * AB 1550 Community Benefits\t\n",
    "    * Housing Co-Benefits\t\n",
    "    * Caltrans District\t\n",
    "    * Assembly District\t\n",
    "    * Senate District\tCongressional District\t\n",
    "    * City Code\t\n",
    "    * City Agency ID \t\n",
    "    * County Code\t\n",
    "    * County Agency ID \t\n",
    "    * Implementing Agency  ID \t\n",
    "    * Implementing Agency Name"
   ]
  },
  {
   "cell_type": "markdown",
   "id": "5499030e-2fa5-49d7-bb24-bc56807749f0",
   "metadata": {},
   "source": [
    "#### Merge sheets"
   ]
  },
  {
   "cell_type": "code",
   "execution_count": 49,
   "id": "13d6c9a1-91dd-474f-909f-27f87a0e55f2",
   "metadata": {},
   "outputs": [],
   "source": [
    "# Merge project & allocation sheets first\n",
    "m1 = pd.merge(\n",
    "    df_project2,\n",
    "    df_alloc2,\n",
    "    how=\"outer\",\n",
    "    left_on=[\"project_award_year\", \"project_ppno\", ],\n",
    "    right_on=[\"allocation_award_year\", \"allocation_ppno\",],\n",
    "    indicator=True,\n",
    ")"
   ]
  },
  {
   "cell_type": "code",
   "execution_count": 50,
   "id": "49a42d17-cb6b-45ba-a2cd-6f3424d69d9e",
   "metadata": {},
   "outputs": [
    {
     "data": {
      "text/plain": [
       "both          222\n",
       "right_only    186\n",
       "left_only      41\n",
       "Name: _merge, dtype: int64"
      ]
     },
     "execution_count": 50,
     "metadata": {},
     "output_type": "execute_result"
    }
   ],
   "source": [
    "# Left only is 2022 projects that haven't begun\n",
    "m1._merge.value_counts()"
   ]
  },
  {
   "cell_type": "code",
   "execution_count": 12,
   "id": "c8cc8fc1-aa47-42ab-8f0d-0855fb9cc878",
   "metadata": {},
   "outputs": [
    {
     "data": {
      "text/plain": [
       "(454, 35)"
      ]
     },
     "execution_count": 12,
     "metadata": {},
     "output_type": "execute_result"
    }
   ],
   "source": [
    "m1.shape"
   ]
  },
  {
   "cell_type": "code",
   "execution_count": 13,
   "id": "e0502d7a-d1c4-4af7-9487-afa4cd1fd191",
   "metadata": {},
   "outputs": [],
   "source": [
    "# Drop merge\n",
    "m1 = m1.drop(columns=[\"_merge\"])"
   ]
  },
  {
   "cell_type": "code",
   "execution_count": 14,
   "id": "d975284f-6895-4d5a-8263-924125e81420",
   "metadata": {},
   "outputs": [],
   "source": [
    "# Merge m1 with df_gis\n",
    "m2 = pd.merge(\n",
    "    m1,\n",
    "    df_gis,\n",
    "    how=\"outer\",\n",
    "    left_on=[\"project_award_year\", \"project_project_title\"],\n",
    "    right_on=[\"award_year\", \"project_title\"],\n",
    "    indicator=True,\n",
    ")"
   ]
  },
  {
   "cell_type": "code",
   "execution_count": 15,
   "id": "b775e6fe-dec6-469f-a346-927ed5529de9",
   "metadata": {},
   "outputs": [
    {
     "data": {
      "text/plain": [
       "both          453\n",
       "left_only       1\n",
       "right_only      0\n",
       "Name: _merge, dtype: int64"
      ]
     },
     "execution_count": 15,
     "metadata": {},
     "output_type": "execute_result"
    }
   ],
   "source": [
    "m2._merge.value_counts()"
   ]
  },
  {
   "cell_type": "markdown",
   "id": "cb24b857-5062-4cff-ada2-90fdad8b3ff0",
   "metadata": {},
   "source": [
    "#### Create sheet"
   ]
  },
  {
   "cell_type": "markdown",
   "id": "f7abf7de-2181-4ea7-a411-3440bc26ecad",
   "metadata": {},
   "source": [
    "##### Create Project ID\n",
    "GIS program has to have a ten digit ID for the project ID.  Can you convert the project ID’s as follows:\n",
    "* (four zeros, cycle year, two digit project number) 2015:01 = 0000201501\n"
   ]
  },
  {
   "cell_type": "code",
   "execution_count": 16,
   "id": "b311552b-623e-4072-b96b-8078bf2f4db2",
   "metadata": {},
   "outputs": [],
   "source": [
    "project_table = m2.rename(columns={\"project_project_#\": \"project_number\"})"
   ]
  },
  {
   "cell_type": "code",
   "execution_count": 17,
   "id": "ab02b5a3-1306-46da-a2fe-8c4ef578ae94",
   "metadata": {},
   "outputs": [],
   "source": [
    "project_table = project_table.dropna(subset=['project_award_year', 'project_title']).reset_index(drop = True)"
   ]
  },
  {
   "cell_type": "code",
   "execution_count": 18,
   "id": "beab3378-410e-47e3-9fac-86691aa184ad",
   "metadata": {},
   "outputs": [],
   "source": [
    "# Turn award year to int64\n",
    "project_table[[\"project_award_year\", \"project_number\"]] = project_table[[\"project_award_year\", \"project_number\"]].astype('int64')"
   ]
  },
  {
   "cell_type": "code",
   "execution_count": 19,
   "id": "8e445897-a9d2-4d9f-9d79-866a577db9e5",
   "metadata": {},
   "outputs": [],
   "source": [
    "# Pad single digits with a 0.\n",
    "# https://stackoverflow.com/questions/67401497/add-a-zero-before-1-digit-number-in-a-column-pandas-dataframe\n",
    "project_table[\"project_number\"] = project_table.project_number.astype(str).str.zfill(2)"
   ]
  },
  {
   "cell_type": "code",
   "execution_count": 23,
   "id": "135842f6-431e-426d-bc4b-197ec9a0efe1",
   "metadata": {},
   "outputs": [],
   "source": [
    "project_table[\"project_id\"] = project_table[\"project_award_year\"].astype(\n",
    "    str\n",
    ") + project_table[\"project_number\"].astype(str)"
   ]
  },
  {
   "cell_type": "code",
   "execution_count": 24,
   "id": "4c7d146c-e92a-4a02-bc21-9d0e15a4d0a7",
   "metadata": {},
   "outputs": [],
   "source": [
    "project_table[\"project_id\"] = \"0000\" + project_table[\"project_id\"]"
   ]
  },
  {
   "cell_type": "markdown",
   "id": "49d09a32-e3e8-44f9-a8c0-ac0ab3647351",
   "metadata": {},
   "source": [
    "##### Edit Title to include Project Year & Number"
   ]
  },
  {
   "cell_type": "code",
   "execution_count": 25,
   "id": "b930b2f3-2e48-4cf4-b285-08fd287265a7",
   "metadata": {},
   "outputs": [],
   "source": [
    "# Create a new column: with year + project numer\n",
    "project_table[\"Award Year: Project Number\"] = (\n",
    "    project_table[\"project_award_year\"].astype(str)\n",
    "    + \":\"\n",
    "    + project_table[\"project_number\"]\n",
    ")"
   ]
  },
  {
   "cell_type": "code",
   "execution_count": 26,
   "id": "6ea349c1-406c-4c41-978f-21e9fb5dc88a",
   "metadata": {},
   "outputs": [],
   "source": [
    "# Edit title with new\n",
    "project_table[\"project_project_title\"] = (\n",
    "    project_table[\"project_project_title\"]\n",
    "    + \" \"\n",
    "    + project_table[\"Award Year: Project Number\"]\n",
    ")"
   ]
  },
  {
   "cell_type": "markdown",
   "id": "48a2147b-67c7-4b80-885e-8deb591e3f2a",
   "metadata": {},
   "source": [
    "#### Extract Fiscal Year"
   ]
  },
  {
   "cell_type": "code",
   "execution_count": 27,
   "id": "33d7fcb5-9589-4f77-9077-aa2b3b6efaff",
   "metadata": {
    "scrolled": true,
    "tags": []
   },
   "outputs": [],
   "source": [
    "project_table[\"fiscal_year\"] = project_table[\"allocation_allocation_date\"].dt.year"
   ]
  },
  {
   "cell_type": "markdown",
   "id": "48dbda0b-8e36-4415-8397-8e077d98a08e",
   "metadata": {},
   "source": [
    "#### Columns"
   ]
  },
  {
   "cell_type": "code",
   "execution_count": 28,
   "id": "204e2c4f-1ae0-405f-947a-2ade06e2fecd",
   "metadata": {},
   "outputs": [],
   "source": [
    "# Keep the columns I want.\n",
    "cols_right_order = [\n",
    "    \"Award Year: Project Number\",\n",
    "    \"project_id\",\n",
    "    \"project_ppno\",\n",
    "    \"project_project_title\",\n",
    "    \"project_project_description\",\n",
    "    \"allocation_components\",\n",
    "    \"allocation_phase\",\n",
    "    \"project_tircp_award_amount__$_\",\n",
    "    \"allocation_sb1_funding\",\n",
    "    \"allocation_ggrf_funding\",\n",
    "    \"allocation_allocation_amount\",\n",
    "    \"project_total_project_cost\",\n",
    "    \"fiscal_year\",\n",
    "    \"project_is_sb1?\",\n",
    "    \"project_is_ggrf?\",\n",
    "    \"project_is_iija?\",\n",
    "    \"project_on_shs?\",\n",
    "    \"project_calitp\",\n",
    "    \"project_estimated_tircp_ghg_reductions\",\n",
    "    \"project_estimated_tircp_ghg_reductions2\",\n",
    "    \"project_increased_ridership\",\n",
    "    \"project_service_integration\",\n",
    "    \"project_improve_safety\",\n",
    "    \"project_project_readiness\",\n",
    "    \"project_funding_leverage\",\n",
    "    \"project_multi_agency_coordination_integration\",\n",
    "    \"project_ab_1550_community_benefits\",\n",
    "    \"project_housing_co_benefits\",\n",
    "    \"caltransdistrict\",\n",
    "    \"assembly_districts\",\n",
    "    \"senate_districts\",\n",
    "    \"city_code\",\n",
    "    \"city_agency_id_\",\n",
    "    \"county_code\",\n",
    "    \"county_agency_id_\",\n",
    "    \"_implementing_agency__id_\",\n",
    "    \"allocation_implementing_agency\",\n",
    "]"
   ]
  },
  {
   "cell_type": "code",
   "execution_count": 29,
   "id": "c7ec4fcb-35db-4353-a6d2-23430d8c4488",
   "metadata": {},
   "outputs": [],
   "source": [
    "project_table2 = project_table[cols_right_order]"
   ]
  },
  {
   "cell_type": "markdown",
   "id": "45f66a5b-1f53-4c02-891d-d1bde674923e",
   "metadata": {
    "tags": []
   },
   "source": [
    "##### Create Missing Columns"
   ]
  },
  {
   "cell_type": "code",
   "execution_count": 30,
   "id": "cd0be3eb-4db4-4e00-9e12-7513fcc6625f",
   "metadata": {},
   "outputs": [
    {
     "name": "stderr",
     "output_type": "stream",
     "text": [
      "/tmp/ipykernel_1569/1395933635.py:1: SettingWithCopyWarning: \n",
      "A value is trying to be set on a copy of a slice from a DataFrame.\n",
      "Try using .loc[row_indexer,col_indexer] = value instead\n",
      "\n",
      "See the caveats in the documentation: https://pandas.pydata.org/pandas-docs/stable/user_guide/indexing.html#returning-a-view-versus-a-copy\n",
      "  project_table2[\"State_SB_1_Program_Code\"] = \"TIRCP\"\n"
     ]
    }
   ],
   "source": [
    "project_table2[\"State_SB_1_Program_Code\"] = \"TIRCP\""
   ]
  },
  {
   "cell_type": "code",
   "execution_count": 31,
   "id": "ad55968b-585f-4047-94a5-51b0cae6e725",
   "metadata": {},
   "outputs": [
    {
     "name": "stderr",
     "output_type": "stream",
     "text": [
      "/tmp/ipykernel_1569/287643849.py:2: SettingWithCopyWarning: \n",
      "A value is trying to be set on a copy of a slice from a DataFrame.\n",
      "Try using .loc[row_indexer,col_indexer] = value instead\n",
      "\n",
      "See the caveats in the documentation: https://pandas.pydata.org/pandas-docs/stable/user_guide/indexing.html#returning-a-view-versus-a-copy\n",
      "  project_table2[i] = \"N/A\"\n",
      "/tmp/ipykernel_1569/287643849.py:2: SettingWithCopyWarning: \n",
      "A value is trying to be set on a copy of a slice from a DataFrame.\n",
      "Try using .loc[row_indexer,col_indexer] = value instead\n",
      "\n",
      "See the caveats in the documentation: https://pandas.pydata.org/pandas-docs/stable/user_guide/indexing.html#returning-a-view-versus-a-copy\n",
      "  project_table2[i] = \"N/A\"\n",
      "/tmp/ipykernel_1569/287643849.py:2: SettingWithCopyWarning: \n",
      "A value is trying to be set on a copy of a slice from a DataFrame.\n",
      "Try using .loc[row_indexer,col_indexer] = value instead\n",
      "\n",
      "See the caveats in the documentation: https://pandas.pydata.org/pandas-docs/stable/user_guide/indexing.html#returning-a-view-versus-a-copy\n",
      "  project_table2[i] = \"N/A\"\n"
     ]
    }
   ],
   "source": [
    "for i in [\"IIJA_Program_Code\", \"IIJA_Funds\", \"General_Fund_Auxiliary_Funds\"]:\n",
    "    project_table2[i] = \"N/A\""
   ]
  },
  {
   "cell_type": "code",
   "execution_count": 32,
   "id": "3472fe93-5490-449a-b726-fabbbba2dfc0",
   "metadata": {},
   "outputs": [],
   "source": [
    "# Clean up column names\n",
    "project_table2 = A1_data_prep.clean_up_columns(project_table2)"
   ]
  },
  {
   "cell_type": "code",
   "execution_count": 33,
   "id": "380e3ee4-02b6-4955-b71c-a8e65ea67e72",
   "metadata": {},
   "outputs": [],
   "source": [
    "project_table2 = project_table2.rename(\n",
    "    columns={\n",
    "        \"Id\": \"Project ID\",\n",
    "        \"Title\": \"Project Title\",\n",
    "        \"Description\": \"Project Description\",\n",
    "        \"Component\": \"TIRCP Component\",\n",
    "        \"Phase\": \"Project Status\",\n",
    "        \"Sb1 Funding\": \"SB1 Funds\",\n",
    "        \"Amount\": \"Allocation Amount\",\n",
    "        \"Caltransdistrict\": \"Caltrans District\",\n",
    "    }\n",
    ")"
   ]
  },
  {
   "cell_type": "markdown",
   "id": "e4807ef2-b68e-498e-8643-ec25756f62f6",
   "metadata": {
    "tags": []
   },
   "source": [
    "#### Final Checks"
   ]
  },
  {
   "cell_type": "code",
   "execution_count": 34,
   "id": "ea8b4db2-211c-4321-b01c-93ef4fd83a84",
   "metadata": {},
   "outputs": [
    {
     "data": {
      "text/plain": [
       "True"
      ]
     },
     "execution_count": 34,
     "metadata": {},
     "output_type": "execute_result"
    }
   ],
   "source": [
    "project_table2.Ppno.nunique() == df_project.project_ppno.nunique()"
   ]
  },
  {
   "cell_type": "markdown",
   "id": "8cf65e0a-7fa6-450e-97ab-105d8ae92eec",
   "metadata": {},
   "source": [
    "#### Groupby/Formatting"
   ]
  },
  {
   "cell_type": "code",
   "execution_count": 35,
   "id": "213ad554-c43f-422f-b1e9-93e31ec20487",
   "metadata": {},
   "outputs": [],
   "source": [
    "project_table2 = project_table2.fillna(\n",
    "    project_table2.dtypes.replace({\"float64\": 0.0, \"object\": \"None\", \"int64\": 0})\n",
    ")"
   ]
  },
  {
   "cell_type": "code",
   "execution_count": 36,
   "id": "18eeaaed-4947-41ad-9045-4407a5118419",
   "metadata": {},
   "outputs": [],
   "source": [
    "# Append number of times a component repeats by project ID & status\n",
    "# Because components-status combination appears more than once for some projects\n",
    "# And the monetary info is summed up unintentionally in the group by step below.\n",
    "# https://stackoverflow.com/questions/57605705/how-to-append-counter-number-to-each-repeated-string-value-in-pandas-column\n",
    "project_table2[\"Components\"] += (\n",
    "    project_table2.groupby([\"Components\", \"Project ID\", \"Project Status\"])\n",
    "    .cumcount()\n",
    "    .add(1)\n",
    "    .astype(str)\n",
    ")"
   ]
  },
  {
   "cell_type": "code",
   "execution_count": 37,
   "id": "fcc457a1-48e8-4125-bcc4-29e50825a0d8",
   "metadata": {
    "scrolled": true,
    "tags": []
   },
   "outputs": [],
   "source": [
    "# project_table2[[\"Project ID\",\"Project Status\",'Components']]"
   ]
  },
  {
   "cell_type": "markdown",
   "id": "c9019b52-7bca-4a6d-add6-cc0fa76e5402",
   "metadata": {},
   "source": [
    "#### Groupby"
   ]
  },
  {
   "cell_type": "code",
   "execution_count": 38,
   "id": "ce91008b-a7c7-414c-8f12-9a3f636bf458",
   "metadata": {},
   "outputs": [],
   "source": [
    "groupby_cols = [\n",
    "    \"Award Year: Project Number\",\n",
    "    \"Project ID\",\n",
    "    \"Ppno\",\n",
    "    \"Project Title\",\n",
    "    \"Project Description\",\n",
    "    'State Sb 1 Program Code',\n",
    "    \"Iija Program Code\",\n",
    "    \"Tircp Award Amount  $\",\n",
    "    \"Total  Cost\",\n",
    "    \"Is Sb1?\",\n",
    "    \"Is Ggrf?\",\n",
    "    \"Is Iija?\",\n",
    "    \"On Shs?\",\n",
    "    \"Calitp\",\n",
    "    \"Estimated Tircp Ghg Reductions\",\n",
    "    \"Estimated Tircp Ghg Reductions2\",\n",
    "    \"Increased Ridership\",\n",
    "    \"Service Integration\",\n",
    "    \"Improve Safety\",\n",
    "    \"Readiness\",\n",
    "    \"Funding Leverage\",\n",
    "    \"Multi Agency Coordination Integration\",\n",
    "    \"Ab 1550 Community Benefits\",\n",
    "    \"Housing Co Benefits\",\n",
    "    \"Caltrans District\",\n",
    "    \"Assembly Districts\",\n",
    "    \"Senate Districts\",\n",
    "    \"City Code\",\n",
    "    \"City Agency Id\",\n",
    "    \"County Code\",\n",
    "    \"County Agency Id\",\n",
    "    \"Implementing Agency  Id\",\n",
    "    \"Implementing Agency\",\n",
    "    \"Components\",\n",
    "    \"Project Status\",\n",
    "]"
   ]
  },
  {
   "cell_type": "code",
   "execution_count": 39,
   "id": "cba82c21-0ac2-4398-ba5e-28ccdad6b6a2",
   "metadata": {},
   "outputs": [],
   "source": [
    "sum_cols = [\"SB1 Funds\", \"Ggrf Funding\" ]"
   ]
  },
  {
   "cell_type": "code",
   "execution_count": 40,
   "id": "765b1f1d-5289-4da4-9aa5-703d179c7e25",
   "metadata": {},
   "outputs": [],
   "source": [
    "max_cols = [\n",
    "    \"Fiscal Year\",\n",
    "    \"Iija Funds\",\n",
    "    \"General Fund Auxiliary Funds\",\n",
    "]"
   ]
  },
  {
   "cell_type": "code",
   "execution_count": 41,
   "id": "a8600f0e-00cc-4bba-a7ee-7b2e4ffe014e",
   "metadata": {},
   "outputs": [],
   "source": [
    "grouped = project_table2.groupby(groupby_cols).agg(\n",
    "    {**{e: \"sum\" for e in sum_cols}, **{e: \"max\" for e in max_cols}}\n",
    ")"
   ]
  },
  {
   "cell_type": "code",
   "execution_count": 42,
   "id": "97e71bf1-a122-4d6b-be88-812c2a9932b7",
   "metadata": {},
   "outputs": [
    {
     "data": {
      "text/html": [
       "<div>\n",
       "<style scoped>\n",
       "    .dataframe tbody tr th:only-of-type {\n",
       "        vertical-align: middle;\n",
       "    }\n",
       "\n",
       "    .dataframe tbody tr th {\n",
       "        vertical-align: top;\n",
       "    }\n",
       "\n",
       "    .dataframe thead th {\n",
       "        text-align: right;\n",
       "    }\n",
       "</style>\n",
       "<table border=\"1\" class=\"dataframe\">\n",
       "  <thead>\n",
       "    <tr style=\"text-align: right;\">\n",
       "      <th></th>\n",
       "      <th></th>\n",
       "      <th></th>\n",
       "      <th></th>\n",
       "      <th></th>\n",
       "      <th></th>\n",
       "      <th></th>\n",
       "      <th></th>\n",
       "      <th></th>\n",
       "      <th></th>\n",
       "      <th></th>\n",
       "      <th></th>\n",
       "      <th></th>\n",
       "      <th></th>\n",
       "      <th></th>\n",
       "      <th></th>\n",
       "      <th></th>\n",
       "      <th></th>\n",
       "      <th></th>\n",
       "      <th></th>\n",
       "      <th></th>\n",
       "      <th></th>\n",
       "      <th></th>\n",
       "      <th></th>\n",
       "      <th></th>\n",
       "      <th></th>\n",
       "      <th></th>\n",
       "      <th></th>\n",
       "      <th></th>\n",
       "      <th></th>\n",
       "      <th></th>\n",
       "      <th></th>\n",
       "      <th></th>\n",
       "      <th></th>\n",
       "      <th></th>\n",
       "      <th>SB1 Funds</th>\n",
       "      <th>Ggrf Funding</th>\n",
       "      <th>Fiscal Year</th>\n",
       "      <th>Iija Funds</th>\n",
       "      <th>General Fund Auxiliary Funds</th>\n",
       "    </tr>\n",
       "    <tr>\n",
       "      <th>Award Year: Project Number</th>\n",
       "      <th>Project ID</th>\n",
       "      <th>Ppno</th>\n",
       "      <th>Project Title</th>\n",
       "      <th>Project Description</th>\n",
       "      <th>State Sb 1 Program Code</th>\n",
       "      <th>Iija Program Code</th>\n",
       "      <th>Tircp Award Amount  $</th>\n",
       "      <th>Total  Cost</th>\n",
       "      <th>Is Sb1?</th>\n",
       "      <th>Is Ggrf?</th>\n",
       "      <th>Is Iija?</th>\n",
       "      <th>On Shs?</th>\n",
       "      <th>Calitp</th>\n",
       "      <th>Estimated Tircp Ghg Reductions</th>\n",
       "      <th>Estimated Tircp Ghg Reductions2</th>\n",
       "      <th>Increased Ridership</th>\n",
       "      <th>Service Integration</th>\n",
       "      <th>Improve Safety</th>\n",
       "      <th>Readiness</th>\n",
       "      <th>Funding Leverage</th>\n",
       "      <th>Multi Agency Coordination Integration</th>\n",
       "      <th>Ab 1550 Community Benefits</th>\n",
       "      <th>Housing Co Benefits</th>\n",
       "      <th>Caltrans District</th>\n",
       "      <th>Assembly Districts</th>\n",
       "      <th>Senate Districts</th>\n",
       "      <th>City Code</th>\n",
       "      <th>City Agency Id</th>\n",
       "      <th>County Code</th>\n",
       "      <th>County Agency Id</th>\n",
       "      <th>Implementing Agency  Id</th>\n",
       "      <th>Implementing Agency</th>\n",
       "      <th>Components</th>\n",
       "      <th>Project Status</th>\n",
       "      <th></th>\n",
       "      <th></th>\n",
       "      <th></th>\n",
       "      <th></th>\n",
       "      <th></th>\n",
       "    </tr>\n",
       "  </thead>\n",
       "  <tbody>\n",
       "    <tr>\n",
       "      <th>2018:11</th>\n",
       "      <th>0000201811</th>\n",
       "      <th>CP031</th>\n",
       "      <th>All Aboard 2018: Transforming SoCal Rail Travel 2018:11</th>\n",
       "      <th>Improve on-time performance and rail corridor capacity for Pacific Surfliner and Coaster trains by investing in signal optimization, a more robust capital maintenance program and new right of way fencing. These projects prepare the corridor for higher frequency services on the Pacific Surfliner and COASTER. Also includes study of San Diego maintenance/layover facility relocation. On Time Performance with NCTD</th>\n",
       "      <th>TIRCP</th>\n",
       "      <th>N/A</th>\n",
       "      <th>40412000.00</th>\n",
       "      <th>65570000.00</th>\n",
       "      <th>Y</th>\n",
       "      <th>Y</th>\n",
       "      <th>N</th>\n",
       "      <th>0.00</th>\n",
       "      <th>0.00</th>\n",
       "      <th>957,000 MTCO2e</th>\n",
       "      <th>High</th>\n",
       "      <th>Medium</th>\n",
       "      <th>High</th>\n",
       "      <th>High</th>\n",
       "      <th>High</th>\n",
       "      <th>Medium</th>\n",
       "      <th>High</th>\n",
       "      <th>Medium</th>\n",
       "      <th>None</th>\n",
       "      <th>|05|07|08| 11| 12|</th>\n",
       "      <th>|35|37|38|39|40|41|43|44|45|46|47|48|50|51|52|53|54|55|57|58|59|60|61|62|63|64|65|66|67|68|69|70|72|73|74|75|76|77|78|79|80|</th>\n",
       "      <th>|18|19|20|21|22|23|24|25|26|27|29|30|31|32|33|34|35|36|37|38|39|40|</th>\n",
       "      <th>|5016|5007|5129|5405|5006|5133|5055|5410|5372|5079|5445|5004|</th>\n",
       "      <th>0.00</th>\n",
       "      <th>|5953|5955|5957|5949|5951|5952|</th>\n",
       "      <th>0.00</th>\n",
       "      <th>|0295|</th>\n",
       "      <th>Los Angeles-San Diego-San Luis Obispo Rail Corridor Agency (LOSSAN)</th>\n",
       "      <th>Island Centralized Traffic Control2</th>\n",
       "      <th>CONST</th>\n",
       "      <td>624000.00</td>\n",
       "      <td>498000.00</td>\n",
       "      <td>2022.00</td>\n",
       "      <td>N/A</td>\n",
       "      <td>N/A</td>\n",
       "    </tr>\n",
       "  </tbody>\n",
       "</table>\n",
       "</div>"
      ],
      "text/plain": [
       "                                                                                                                                                                                                                                                                                                                                                                                                                                                                                                                                                                                                                                                                                                                                                                                                                                                                                                                                                                                                                                                                                                                                                                                                                                                                                                                                                                                              SB1 Funds  \\\n",
       "Award Year: Project Number Project ID Ppno  Project Title                                           Project Description                                                                                                                                                                                                                                                                                                                                                                                                          State Sb 1 Program Code Iija Program Code Tircp Award Amount  $ Total  Cost Is Sb1? Is Ggrf? Is Iija? On Shs? Calitp Estimated Tircp Ghg Reductions Estimated Tircp Ghg Reductions2 Increased Ridership Service Integration Improve Safety Readiness Funding Leverage Multi Agency Coordination Integration Ab 1550 Community Benefits Housing Co Benefits Caltrans District  Assembly Districts                                                                                                           Senate Districts                                                    City Code                                                     City Agency Id County Code                     County Agency Id Implementing Agency  Id Implementing Agency                                                 Components                          Project Status              \n",
       "2018:11                    0000201811 CP031 All Aboard 2018: Transforming SoCal Rail Travel 2018:11 Improve on-time performance and rail corridor capacity for Pacific Surfliner and Coaster trains by investing in signal optimization, a more robust capital maintenance program and new right of way fencing. These projects prepare the corridor for higher frequency services on the Pacific Surfliner and COASTER. Also includes study of San Diego maintenance/layover facility relocation. On Time Performance with NCTD TIRCP                   N/A               40412000.00           65570000.00 Y       Y        N        0.00    0.00   957,000 MTCO2e                 High                            Medium              High                High           High      Medium           High                                  Medium                     None                |05|07|08| 11| 12| |35|37|38|39|40|41|43|44|45|46|47|48|50|51|52|53|54|55|57|58|59|60|61|62|63|64|65|66|67|68|69|70|72|73|74|75|76|77|78|79|80| |18|19|20|21|22|23|24|25|26|27|29|30|31|32|33|34|35|36|37|38|39|40| |5016|5007|5129|5405|5006|5133|5055|5410|5372|5079|5445|5004| 0.00           |5953|5955|5957|5949|5951|5952| 0.00             |0295|                  Los Angeles-San Diego-San Luis Obispo Rail Corridor Agency (LOSSAN) Island Centralized Traffic Control2 CONST           624000.00   \n",
       "\n",
       "                                                                                                                                                                                                                                                                                                                                                                                                                                                                                                                                                                                                                                                                                                                                                                                                                                                                                                                                                                                                                                                                                                                                                                                                                                                                                                                                                                                              Ggrf Funding  \\\n",
       "Award Year: Project Number Project ID Ppno  Project Title                                           Project Description                                                                                                                                                                                                                                                                                                                                                                                                          State Sb 1 Program Code Iija Program Code Tircp Award Amount  $ Total  Cost Is Sb1? Is Ggrf? Is Iija? On Shs? Calitp Estimated Tircp Ghg Reductions Estimated Tircp Ghg Reductions2 Increased Ridership Service Integration Improve Safety Readiness Funding Leverage Multi Agency Coordination Integration Ab 1550 Community Benefits Housing Co Benefits Caltrans District  Assembly Districts                                                                                                           Senate Districts                                                    City Code                                                     City Agency Id County Code                     County Agency Id Implementing Agency  Id Implementing Agency                                                 Components                          Project Status                 \n",
       "2018:11                    0000201811 CP031 All Aboard 2018: Transforming SoCal Rail Travel 2018:11 Improve on-time performance and rail corridor capacity for Pacific Surfliner and Coaster trains by investing in signal optimization, a more robust capital maintenance program and new right of way fencing. These projects prepare the corridor for higher frequency services on the Pacific Surfliner and COASTER. Also includes study of San Diego maintenance/layover facility relocation. On Time Performance with NCTD TIRCP                   N/A               40412000.00           65570000.00 Y       Y        N        0.00    0.00   957,000 MTCO2e                 High                            Medium              High                High           High      Medium           High                                  Medium                     None                |05|07|08| 11| 12| |35|37|38|39|40|41|43|44|45|46|47|48|50|51|52|53|54|55|57|58|59|60|61|62|63|64|65|66|67|68|69|70|72|73|74|75|76|77|78|79|80| |18|19|20|21|22|23|24|25|26|27|29|30|31|32|33|34|35|36|37|38|39|40| |5016|5007|5129|5405|5006|5133|5055|5410|5372|5079|5445|5004| 0.00           |5953|5955|5957|5949|5951|5952| 0.00             |0295|                  Los Angeles-San Diego-San Luis Obispo Rail Corridor Agency (LOSSAN) Island Centralized Traffic Control2 CONST              498000.00   \n",
       "\n",
       "                                                                                                                                                                                                                                                                                                                                                                                                                                                                                                                                                                                                                                                                                                                                                                                                                                                                                                                                                                                                                                                                                                                                                                                                                                                                                                                                                                                              Fiscal Year  \\\n",
       "Award Year: Project Number Project ID Ppno  Project Title                                           Project Description                                                                                                                                                                                                                                                                                                                                                                                                          State Sb 1 Program Code Iija Program Code Tircp Award Amount  $ Total  Cost Is Sb1? Is Ggrf? Is Iija? On Shs? Calitp Estimated Tircp Ghg Reductions Estimated Tircp Ghg Reductions2 Increased Ridership Service Integration Improve Safety Readiness Funding Leverage Multi Agency Coordination Integration Ab 1550 Community Benefits Housing Co Benefits Caltrans District  Assembly Districts                                                                                                           Senate Districts                                                    City Code                                                     City Agency Id County Code                     County Agency Id Implementing Agency  Id Implementing Agency                                                 Components                          Project Status                \n",
       "2018:11                    0000201811 CP031 All Aboard 2018: Transforming SoCal Rail Travel 2018:11 Improve on-time performance and rail corridor capacity for Pacific Surfliner and Coaster trains by investing in signal optimization, a more robust capital maintenance program and new right of way fencing. These projects prepare the corridor for higher frequency services on the Pacific Surfliner and COASTER. Also includes study of San Diego maintenance/layover facility relocation. On Time Performance with NCTD TIRCP                   N/A               40412000.00           65570000.00 Y       Y        N        0.00    0.00   957,000 MTCO2e                 High                            Medium              High                High           High      Medium           High                                  Medium                     None                |05|07|08| 11| 12| |35|37|38|39|40|41|43|44|45|46|47|48|50|51|52|53|54|55|57|58|59|60|61|62|63|64|65|66|67|68|69|70|72|73|74|75|76|77|78|79|80| |18|19|20|21|22|23|24|25|26|27|29|30|31|32|33|34|35|36|37|38|39|40| |5016|5007|5129|5405|5006|5133|5055|5410|5372|5079|5445|5004| 0.00           |5953|5955|5957|5949|5951|5952| 0.00             |0295|                  Los Angeles-San Diego-San Luis Obispo Rail Corridor Agency (LOSSAN) Island Centralized Traffic Control2 CONST               2022.00   \n",
       "\n",
       "                                                                                                                                                                                                                                                                                                                                                                                                                                                                                                                                                                                                                                                                                                                                                                                                                                                                                                                                                                                                                                                                                                                                                                                                                                                                                                                                                                                             Iija Funds  \\\n",
       "Award Year: Project Number Project ID Ppno  Project Title                                           Project Description                                                                                                                                                                                                                                                                                                                                                                                                          State Sb 1 Program Code Iija Program Code Tircp Award Amount  $ Total  Cost Is Sb1? Is Ggrf? Is Iija? On Shs? Calitp Estimated Tircp Ghg Reductions Estimated Tircp Ghg Reductions2 Increased Ridership Service Integration Improve Safety Readiness Funding Leverage Multi Agency Coordination Integration Ab 1550 Community Benefits Housing Co Benefits Caltrans District  Assembly Districts                                                                                                           Senate Districts                                                    City Code                                                     City Agency Id County Code                     County Agency Id Implementing Agency  Id Implementing Agency                                                 Components                          Project Status              \n",
       "2018:11                    0000201811 CP031 All Aboard 2018: Transforming SoCal Rail Travel 2018:11 Improve on-time performance and rail corridor capacity for Pacific Surfliner and Coaster trains by investing in signal optimization, a more robust capital maintenance program and new right of way fencing. These projects prepare the corridor for higher frequency services on the Pacific Surfliner and COASTER. Also includes study of San Diego maintenance/layover facility relocation. On Time Performance with NCTD TIRCP                   N/A               40412000.00           65570000.00 Y       Y        N        0.00    0.00   957,000 MTCO2e                 High                            Medium              High                High           High      Medium           High                                  Medium                     None                |05|07|08| 11| 12| |35|37|38|39|40|41|43|44|45|46|47|48|50|51|52|53|54|55|57|58|59|60|61|62|63|64|65|66|67|68|69|70|72|73|74|75|76|77|78|79|80| |18|19|20|21|22|23|24|25|26|27|29|30|31|32|33|34|35|36|37|38|39|40| |5016|5007|5129|5405|5006|5133|5055|5410|5372|5079|5445|5004| 0.00           |5953|5955|5957|5949|5951|5952| 0.00             |0295|                  Los Angeles-San Diego-San Luis Obispo Rail Corridor Agency (LOSSAN) Island Centralized Traffic Control2 CONST                 N/A   \n",
       "\n",
       "                                                                                                                                                                                                                                                                                                                                                                                                                                                                                                                                                                                                                                                                                                                                                                                                                                                                                                                                                                                                                                                                                                                                                                                                                                                                                                                                                                                             General Fund Auxiliary Funds  \n",
       "Award Year: Project Number Project ID Ppno  Project Title                                           Project Description                                                                                                                                                                                                                                                                                                                                                                                                          State Sb 1 Program Code Iija Program Code Tircp Award Amount  $ Total  Cost Is Sb1? Is Ggrf? Is Iija? On Shs? Calitp Estimated Tircp Ghg Reductions Estimated Tircp Ghg Reductions2 Increased Ridership Service Integration Improve Safety Readiness Funding Leverage Multi Agency Coordination Integration Ab 1550 Community Benefits Housing Co Benefits Caltrans District  Assembly Districts                                                                                                           Senate Districts                                                    City Code                                                     City Agency Id County Code                     County Agency Id Implementing Agency  Id Implementing Agency                                                 Components                          Project Status                               \n",
       "2018:11                    0000201811 CP031 All Aboard 2018: Transforming SoCal Rail Travel 2018:11 Improve on-time performance and rail corridor capacity for Pacific Surfliner and Coaster trains by investing in signal optimization, a more robust capital maintenance program and new right of way fencing. These projects prepare the corridor for higher frequency services on the Pacific Surfliner and COASTER. Also includes study of San Diego maintenance/layover facility relocation. On Time Performance with NCTD TIRCP                   N/A               40412000.00           65570000.00 Y       Y        N        0.00    0.00   957,000 MTCO2e                 High                            Medium              High                High           High      Medium           High                                  Medium                     None                |05|07|08| 11| 12| |35|37|38|39|40|41|43|44|45|46|47|48|50|51|52|53|54|55|57|58|59|60|61|62|63|64|65|66|67|68|69|70|72|73|74|75|76|77|78|79|80| |18|19|20|21|22|23|24|25|26|27|29|30|31|32|33|34|35|36|37|38|39|40| |5016|5007|5129|5405|5006|5133|5055|5410|5372|5079|5445|5004| 0.00           |5953|5955|5957|5949|5951|5952| 0.00             |0295|                  Los Angeles-San Diego-San Luis Obispo Rail Corridor Agency (LOSSAN) Island Centralized Traffic Control2 CONST                                   N/A  "
      ]
     },
     "execution_count": 42,
     "metadata": {},
     "output_type": "execute_result"
    }
   ],
   "source": [
    "grouped.sample(1)"
   ]
  },
  {
   "cell_type": "markdown",
   "id": "524fc73b-6465-4d9c-9283-4b983756ad60",
   "metadata": {},
   "source": [
    "#### Save"
   ]
  },
  {
   "cell_type": "code",
   "execution_count": 44,
   "id": "c9486298-3dc7-40b1-b425-7d77d4a2546f",
   "metadata": {},
   "outputs": [],
   "source": [
    "# with pd.ExcelWriter(f\"{A1_data_prep.GCS_FILE_PATH}gis_template.xlsx\") as writer:\n",
    "   # grouped.to_excel(writer, sheet_name=\"Projects Table\", index=True)\n",
    "    "
   ]
  }
 ],
 "metadata": {
  "kernelspec": {
   "display_name": "Python 3 (ipykernel)",
   "language": "python",
   "name": "python3"
  },
  "language_info": {
   "codemirror_mode": {
    "name": "ipython",
    "version": 3
   },
   "file_extension": ".py",
   "mimetype": "text/x-python",
   "name": "python",
   "nbconvert_exporter": "python",
   "pygments_lexer": "ipython3",
   "version": "3.10.6"
  }
 },
 "nbformat": 4,
 "nbformat_minor": 5
}
