{
 "cells": [
  {
   "cell_type": "markdown",
   "id": "82083473-f94a-492d-88e1-c2b061d9dd1b",
   "metadata": {},
   "source": [
    "# Sar Clean Up "
   ]
  },
  {
   "cell_type": "code",
   "execution_count": 1,
   "id": "1daf2687-396b-458c-95bb-21e709a70841",
   "metadata": {},
   "outputs": [
    {
     "name": "stderr",
     "output_type": "stream",
     "text": [
      "/opt/conda/lib/python3.10/site-packages/geopandas/_compat.py:111: UserWarning: The Shapely GEOS version (3.10.2-CAPI-1.16.0) is incompatible with the GEOS version PyGEOS was compiled with (3.10.1-CAPI-1.16.0). Conversions between both will be slow.\n",
      "  warnings.warn(\n"
     ]
    },
    {
     "ename": "ModuleNotFoundError",
     "evalue": "No module named 'crosswalks'",
     "output_type": "error",
     "traceback": [
      "\u001b[0;31m---------------------------------------------------------------------------\u001b[0m",
      "\u001b[0;31mModuleNotFoundError\u001b[0m                       Traceback (most recent call last)",
      "Input \u001b[0;32mIn [1]\u001b[0m, in \u001b[0;36m<cell line: 13>\u001b[0;34m()\u001b[0m\n\u001b[1;32m     11\u001b[0m \u001b[38;5;66;03m# Import scripts\u001b[39;00m\n\u001b[1;32m     12\u001b[0m \u001b[38;5;28;01mimport\u001b[39;00m \u001b[38;5;21;01mA1_data_prep\u001b[39;00m\n\u001b[0;32m---> 13\u001b[0m \u001b[38;5;28;01mimport\u001b[39;00m \u001b[38;5;21;01mA2_tableau\u001b[39;00m\n\u001b[1;32m     14\u001b[0m \u001b[38;5;28;01mimport\u001b[39;00m \u001b[38;5;21;01mA3_semiannual_report\u001b[39;00m\n\u001b[1;32m     15\u001b[0m \u001b[38;5;28;01mimport\u001b[39;00m \u001b[38;5;21;01mA5_crosswalks\u001b[39;00m \u001b[38;5;28;01mas\u001b[39;00m \u001b[38;5;21;01mcrosswalks\u001b[39;00m\n",
      "File \u001b[0;32m~/data-analyses/tircp/A2_tableau.py:13\u001b[0m, in \u001b[0;36m<module>\u001b[0;34m\u001b[0m\n\u001b[1;32m     10\u001b[0m FILE_NAME \u001b[38;5;241m=\u001b[39m \u001b[38;5;124m\"\u001b[39m\u001b[38;5;124mTIRCP_July_8_2022.xlsx\u001b[39m\u001b[38;5;124m\"\u001b[39m\n\u001b[1;32m     12\u001b[0m \u001b[38;5;66;03m#Crosswalk\u001b[39;00m\n\u001b[0;32m---> 13\u001b[0m \u001b[38;5;28;01mimport\u001b[39;00m \u001b[38;5;21;01mcrosswalks\u001b[39;00m \n\u001b[1;32m     15\u001b[0m \u001b[38;5;66;03m#Import cleaned up data\u001b[39;00m\n\u001b[1;32m     16\u001b[0m \u001b[38;5;28;01mimport\u001b[39;00m \u001b[38;5;21;01mA1_data_prep\u001b[39;00m\n",
      "\u001b[0;31mModuleNotFoundError\u001b[0m: No module named 'crosswalks'"
     ]
    }
   ],
   "source": [
    "import pandas as pd\n",
    "from calitp import *\n",
    "import shared_utils\n",
    "\n",
    "# Formatting the nb\n",
    "pd.options.display.max_columns = 100\n",
    "pd.set_option(\"display.max_rows\", None)\n",
    "pd.set_option(\"display.max_colwidth\", None)\n",
    "pd.options.display.float_format = \"{:.2f}\".format\n",
    "\n",
    "# Import scripts\n",
    "import A1_data_prep\n",
    "import A2_tableau\n",
    "import A3_semiannual_report\n",
    "import A5_crosswalks as crosswalks"
   ]
  },
  {
   "cell_type": "code",
   "execution_count": null,
   "id": "4aaddc7c-cef4-4a30-a886-04fef65f9c1d",
   "metadata": {},
   "outputs": [],
   "source": [
    "GCS_FILE_PATH = \"gs://calitp-analytics-data/data-analyses/tircp/\"\n",
    "FILE_NAME = \"TIRCP_July_8_2022.xlsx\""
   ]
  },
  {
   "cell_type": "code",
   "execution_count": null,
   "id": "8ae72bba-0170-4f8e-a3b5-5d7da7b2c25a",
   "metadata": {},
   "outputs": [],
   "source": [
    "script_SAR = A3_semiannual_report.full_sar_report()"
   ]
  },
  {
   "cell_type": "code",
   "execution_count": null,
   "id": "3fd916f4-b312-4184-8b15-a1c079adb368",
   "metadata": {},
   "outputs": [],
   "source": [
    "def highlight_differences(df1, df2):\n",
    "    df_current = df1.reset_index()\n",
    "    df_all = pd.concat(\n",
    "        [df_current, previous_sar], keys=[\"Current_SAR\", \"Previous_SAR\"], axis=1\n",
    "    )\n",
    "    df_all = df_all.swaplevel(axis=\"columns\")[df1.columns[1:]]\n",
    "\n",
    "    def highlight_diff(data, color=\"pink\"):\n",
    "        attr = \"background-color: {}\".format(color)\n",
    "        other = data.xs(\"Current_SAR\", axis=\"columns\", level=-1)\n",
    "        return pd.DataFrame(\n",
    "            np.where(data.ne(other, level=0), attr, \"\"),\n",
    "            index=data.index,\n",
    "            columns=data.columns,\n",
    "        )\n",
    "\n",
    "    df_highlighted = df_all.style.apply(highlight_diff, axis=None)\n",
    "    return df_highlighted"
   ]
  },
  {
   "cell_type": "code",
   "execution_count": null,
   "id": "1a3163a9-cdfc-497c-ad1a-c828864a63f1",
   "metadata": {},
   "outputs": [],
   "source": [
    "def highlight_diff(data, color=\"pink\"):\n",
    "    attr = \"background-color: {}\".format(color)\n",
    "    other = data.xs(\"Current_SAR\", axis=\"columns\", level=-1)\n",
    "    return pd.DataFrame(\n",
    "        np.where(data.ne(other, level=0), attr, \"\"),\n",
    "        index=data.index,\n",
    "        columns=data.columns,\n",
    "    )"
   ]
  }
 ],
 "metadata": {
  "kernelspec": {
   "display_name": "Python 3 (ipykernel)",
   "language": "python",
   "name": "python3"
  },
  "language_info": {
   "codemirror_mode": {
    "name": "ipython",
    "version": 3
   },
   "file_extension": ".py",
   "mimetype": "text/x-python",
   "name": "python",
   "nbconvert_exporter": "python",
   "pygments_lexer": "ipython3",
   "version": "3.10.4"
  }
 },
 "nbformat": 4,
 "nbformat_minor": 5
}
