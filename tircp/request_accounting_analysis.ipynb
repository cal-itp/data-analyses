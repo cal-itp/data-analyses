{
 "cells": [
  {
   "cell_type": "markdown",
   "id": "c5b46fbc-417e-4ba7-8722-9f7a9ad03787",
   "metadata": {},
   "source": [
    "## GGRF Accounting Analysis\n",
    "* Goal: Narrow down projects from Cycle 3 and beyond that need intervention with allocating funds from GGRF.\n",
    "* Projects with a remaining allocation of $400,000 or more needs intervention.\n"
   ]
  },
  {
   "cell_type": "code",
   "execution_count": 1,
   "id": "598c848d-319d-4b26-9ff3-2508cef16308",
   "metadata": {},
   "outputs": [],
   "source": [
    "import A1_data_prep\n",
    "import A7_accounting_analysis\n",
    "import numpy as np\n",
    "import pandas as pd\n",
    "from calitp.sql import to_snakecase\n",
    "\n",
    "pd.options.display.max_columns = 100\n",
    "pd.options.display.float_format = \"{:.2f}\".format\n",
    "pd.set_option(\"display.max_rows\", None)\n",
    "pd.set_option(\"display.max_colwidth\", None)"
   ]
  },
  {
   "cell_type": "markdown",
   "id": "9f449679-e963-4460-b2c4-d0a0e607e293",
   "metadata": {},
   "source": [
    "### Allocation Prep"
   ]
  },
  {
   "cell_type": "code",
   "execution_count": 2,
   "id": "5249743c-f178-4386-987b-7b62a3282b86",
   "metadata": {},
   "outputs": [],
   "source": [
    "# Original allocation sheet without \"None\" Project IDs filtered out\n",
    "# alloc_original = A1_data_prep.clean_allocation()"
   ]
  },
  {
   "cell_type": "code",
   "execution_count": 3,
   "id": "610d0172-fd37-46e5-b2bd-ee9cb81ff3f9",
   "metadata": {},
   "outputs": [],
   "source": [
    "# alloc_original.shape"
   ]
  },
  {
   "cell_type": "code",
   "execution_count": 4,
   "id": "9da44dd3-03ec-4212-8b4b-52782e11bcc2",
   "metadata": {},
   "outputs": [],
   "source": [
    "# prep_alloc = prep_allocation()"
   ]
  },
  {
   "cell_type": "code",
   "execution_count": 5,
   "id": "727b8b41-e536-4b56-9ac4-7af1a3a25ac8",
   "metadata": {},
   "outputs": [],
   "source": [
    "# len(prep_alloc)"
   ]
  },
  {
   "cell_type": "code",
   "execution_count": 6,
   "id": "ee4ab328-1821-4a87-b5df-889316b6d516",
   "metadata": {},
   "outputs": [],
   "source": [
    "# project_id_more_than_1 = [\"19000021\", \"19000073\", \"19000120\", \"20000194\"]"
   ]
  },
  {
   "cell_type": "code",
   "execution_count": 7,
   "id": "693a6cad-d2b6-4675-a6ea-ef8be4f70ab2",
   "metadata": {},
   "outputs": [],
   "source": [
    "# alloc[alloc.allocation_project_id.isin(project_id_more_than_1)]"
   ]
  },
  {
   "cell_type": "code",
   "execution_count": 8,
   "id": "01d5808e-97af-4ba3-97b0-03027dcad19d",
   "metadata": {},
   "outputs": [],
   "source": [
    "# alloc = A7_accounting_analysis.final_allocation()"
   ]
  },
  {
   "cell_type": "code",
   "execution_count": 9,
   "id": "3e6aa2fd-9f09-462d-9cbe-18ae967bb8dc",
   "metadata": {
    "tags": []
   },
   "outputs": [],
   "source": [
    "# check to see if project ID match across all the original vs. grouped allocation data sets\n",
    "# project_id_merged = set(alloc.allocation_project_id.unique().tolist())\n",
    "# project_id_og = set(prep_alloc.allocation_project_id.unique().tolist())\n",
    "# project_id_og - project_id_merged\n",
    "# project_id_merged - project_id_og"
   ]
  },
  {
   "cell_type": "code",
   "execution_count": 10,
   "id": "ee5150c7-7418-4b9c-9103-fec34a04d0a3",
   "metadata": {},
   "outputs": [],
   "source": [
    "# len(alloc) == len(prep_alloc)"
   ]
  },
  {
   "cell_type": "markdown",
   "id": "d5f0fc3e-1500-4d68-b073-a50d4c04b188",
   "metadata": {},
   "source": [
    "### Expenditures Prep "
   ]
  },
  {
   "cell_type": "code",
   "execution_count": 11,
   "id": "9bebaf7e-5faf-4da8-86b8-8d1ba57a5c71",
   "metadata": {},
   "outputs": [],
   "source": [
    "expenditure = A7_accounting_analysis.final_expenditures()"
   ]
  },
  {
   "cell_type": "code",
   "execution_count": 12,
   "id": "0237a734-fa8d-4e2b-909e-26f982a6c70f",
   "metadata": {},
   "outputs": [
    {
     "data": {
      "text/plain": [
       "right_only    80\n",
       "both          52\n",
       "left_only     40\n",
       "Name: _merge, dtype: int64"
      ]
     },
     "execution_count": 12,
     "metadata": {},
     "output_type": "execute_result"
    }
   ],
   "source": [
    "expenditure._merge.value_counts()"
   ]
  },
  {
   "cell_type": "markdown",
   "id": "6ea0a587-cab9-42ee-af4c-0b4f4d729dfa",
   "metadata": {},
   "source": [
    "#### Double check project ids w/ original dataframe before groupby"
   ]
  },
  {
   "cell_type": "code",
   "execution_count": 13,
   "id": "e24b4a4d-6cce-460b-9898-82ee7963880d",
   "metadata": {},
   "outputs": [],
   "source": [
    "og_expenditure = pd.read_excel(\n",
    "    f\"{A1_data_prep.GCS_FILE_PATH}3010_3020 Expenditure for fund 0046.xls\",\n",
    "    sheet_name=\"Download\",\n",
    ")"
   ]
  },
  {
   "cell_type": "code",
   "execution_count": 14,
   "id": "d8b994dd-de2c-486e-b346-96c7f5d80640",
   "metadata": {},
   "outputs": [],
   "source": [
    "og_expenditure = og_expenditure.iloc[9:].reset_index(drop=True)"
   ]
  },
  {
   "cell_type": "code",
   "execution_count": 15,
   "id": "2a702bf2-fa39-417e-8d70-bd18221e4499",
   "metadata": {},
   "outputs": [],
   "source": [
    "og_expenditure.columns = og_expenditure.iloc[0]"
   ]
  },
  {
   "cell_type": "code",
   "execution_count": 16,
   "id": "e725aaa0-52a7-4051-905f-8ded92146af5",
   "metadata": {},
   "outputs": [],
   "source": [
    "og_expenditure = og_expenditure.drop(og_expenditure.index[0]).reset_index(drop=True)"
   ]
  },
  {
   "cell_type": "code",
   "execution_count": 17,
   "id": "03bb2a59-9acf-4f26-bdf9-bc6d28246039",
   "metadata": {},
   "outputs": [],
   "source": [
    "og_expenditure = (og_expenditure.loc[og_expenditure[\"FY\"] > \"2017\"]).reset_index()"
   ]
  },
  {
   "cell_type": "code",
   "execution_count": 18,
   "id": "0b9a3cb9-1dc1-48a9-9561-b050d291dfa3",
   "metadata": {},
   "outputs": [
    {
     "data": {
      "text/plain": [
       "2022    279\n",
       "2021    222\n",
       "2020    208\n",
       "2023    189\n",
       "2018    180\n",
       "2019    172\n",
       "Name: FY, dtype: int64"
      ]
     },
     "execution_count": 18,
     "metadata": {},
     "output_type": "execute_result"
    }
   ],
   "source": [
    "og_expenditure.FY.value_counts()"
   ]
  },
  {
   "cell_type": "code",
   "execution_count": 19,
   "id": "32cd0fb9-40ef-46d5-86c9-75aa512504ca",
   "metadata": {},
   "outputs": [],
   "source": [
    "og_expenditure = og_expenditure[\n",
    "    og_expenditure[\"Appr Unit\"].str.contains(\"101\")\n",
    "    | og_expenditure[\"Appr Unit\"].str.contains(\"301R\")\n",
    "]"
   ]
  },
  {
   "cell_type": "code",
   "execution_count": 20,
   "id": "c3d7bf5a-2a05-43a6-a7aa-0b5e919e427c",
   "metadata": {},
   "outputs": [],
   "source": [
    "og_expenditure = A7_accounting_analysis.clean_project_ids(og_expenditure, \"Project\")"
   ]
  },
  {
   "cell_type": "code",
   "execution_count": 21,
   "id": "8ca1a43d-2939-421b-bc96-d14f8f9a1d75",
   "metadata": {
    "tags": []
   },
   "outputs": [
    {
     "data": {
      "text/plain": [
       "(172, 172, 423, 172)"
      ]
     },
     "execution_count": 21,
     "metadata": {},
     "output_type": "execute_result"
    }
   ],
   "source": [
    "len(expenditure), expenditure.project.nunique(), len(\n",
    "    og_expenditure\n",
    "), og_expenditure.Project.nunique()"
   ]
  },
  {
   "cell_type": "code",
   "execution_count": 22,
   "id": "b0c0996f-823a-4059-b11d-dd7bfb233b0d",
   "metadata": {},
   "outputs": [
    {
     "data": {
      "text/plain": [
       "set()"
      ]
     },
     "execution_count": 22,
     "metadata": {},
     "output_type": "execute_result"
    }
   ],
   "source": [
    "# check to see if 2 columns are the same\n",
    "project_id_grouped = set(expenditure.project.unique().tolist())\n",
    "project_id_og = set(og_expenditure.Project.unique().tolist())\n",
    "project_id_og - project_id_grouped"
   ]
  },
  {
   "cell_type": "markdown",
   "id": "c68880f0-12fc-4a62-9ade-bea315083701",
   "metadata": {},
   "source": [
    "### Project Status Prep"
   ]
  },
  {
   "cell_type": "code",
   "execution_count": 23,
   "id": "ccd6435b-a2ae-483a-bfc9-40e6d2c19bc0",
   "metadata": {},
   "outputs": [],
   "source": [
    "project_status = A7_accounting_analysis.prep_project_status()"
   ]
  },
  {
   "cell_type": "code",
   "execution_count": 24,
   "id": "99946d81-4f48-4d68-bfbc-e16a0987ed04",
   "metadata": {},
   "outputs": [
    {
     "data": {
      "text/plain": [
       "52"
      ]
     },
     "execution_count": 24,
     "metadata": {},
     "output_type": "execute_result"
    }
   ],
   "source": [
    "project_status.project.nunique()"
   ]
  },
  {
   "cell_type": "markdown",
   "id": "42d2e47a-1183-4e5b-bd60-01df5425e86f",
   "metadata": {},
   "source": [
    "#### Double check project ids w/ original dataframe before groupby"
   ]
  },
  {
   "cell_type": "code",
   "execution_count": 25,
   "id": "0ec336bb-4fe3-4be2-810c-94ff1c0d9a21",
   "metadata": {},
   "outputs": [],
   "source": [
    "project_status_og = pd.read_excel(\n",
    "    f\"{A1_data_prep.GCS_FILE_PATH}Project status for fund 0046 as of 12-5-22.xls\",\n",
    "    sheet_name=\"Download\",\n",
    ")"
   ]
  },
  {
   "cell_type": "code",
   "execution_count": 26,
   "id": "c64a820a-2460-409d-b8b0-091c52fbc32c",
   "metadata": {},
   "outputs": [],
   "source": [
    "# First few rows are not data\n",
    "project_status_og = project_status_og.iloc[6:].reset_index(drop=True)\n",
    "\n",
    "# Cast first row as column names\n",
    "project_status_og.columns = project_status_og.iloc[0]\n",
    "\n",
    "# Drop the first row as they are now column names\n",
    "project_status_og = project_status_og.drop(project_status_og.index[0]).reset_index(\n",
    "    drop=True\n",
    ")"
   ]
  },
  {
   "cell_type": "code",
   "execution_count": 27,
   "id": "7b3f59ae-e5eb-454b-af1a-755dbe7d71ad",
   "metadata": {},
   "outputs": [
    {
     "data": {
      "text/plain": [
       "52"
      ]
     },
     "execution_count": 27,
     "metadata": {},
     "output_type": "execute_result"
    }
   ],
   "source": [
    "project_status_og.Project.nunique()"
   ]
  },
  {
   "cell_type": "code",
   "execution_count": 28,
   "id": "5e3623f2-1f67-45c4-9394-cbdff4f05f16",
   "metadata": {},
   "outputs": [],
   "source": [
    "# m1_function = merge_allocation_expenditures()"
   ]
  },
  {
   "cell_type": "code",
   "execution_count": 29,
   "id": "11b10ff6-86ef-4f43-b762-12def92adf1f",
   "metadata": {},
   "outputs": [],
   "source": [
    "# len(alloc), len(m1_function)"
   ]
  },
  {
   "cell_type": "code",
   "execution_count": 30,
   "id": "79dc8b0b-e421-492f-90be-28391107fe1a",
   "metadata": {},
   "outputs": [
    {
     "name": "stderr",
     "output_type": "stream",
     "text": [
      "/opt/conda/lib/python3.9/site-packages/openpyxl/worksheet/_reader.py:312: UserWarning: Data Validation extension is not supported and will be removed\n",
      "  warn(msg)\n"
     ]
    }
   ],
   "source": [
    "m2 = A7_accounting_analysis.merge2_project_status()"
   ]
  },
  {
   "cell_type": "code",
   "execution_count": 31,
   "id": "169674f6-32c7-46b0-9d85-d9d37a69f088",
   "metadata": {
    "tags": []
   },
   "outputs": [
    {
     "data": {
      "text/plain": [
       "allocation_project_id             0.00\n",
       "allocation_ppno                   0.00\n",
       "allocation_ea                     0.00\n",
       "allocation_project_#              0.00\n",
       "allocation_components             0.00\n",
       "allocation_award_year             0.00\n",
       "allocation_phase                  0.00\n",
       "allocation_sb1_funding            0.00\n",
       "allocation_ggrf_funding           0.00\n",
       "Sum of Allocation Amount          0.00\n",
       "project_project_title             0.00\n",
       "301R_tot_exp                      0.00\n",
       "101_tot_exp                       0.00\n",
       "Allocation_Expenditure_Merge      0.00\n",
       "billed                            0.74\n",
       "reimbursements                    0.74\n",
       "Allocation_Project_Status_Merge   0.00\n",
       "dtype: float64"
      ]
     },
     "execution_count": 31,
     "metadata": {},
     "output_type": "execute_result"
    }
   ],
   "source": [
    "(m2.isna().sum()) / len(m2)"
   ]
  },
  {
   "cell_type": "markdown",
   "id": "2db34914-ae5c-452d-85b9-ab9d44e4cffd",
   "metadata": {},
   "source": [
    "## Final Clean Up"
   ]
  },
  {
   "cell_type": "code",
   "execution_count": 32,
   "id": "0800f633-f192-4e82-a077-7f998fb966cd",
   "metadata": {},
   "outputs": [],
   "source": [
    "preview_cols = [\"Award Year\",\n",
    "    \"Title\",\n",
    "    \"Project ID\",\n",
    "    \"Ea\",\n",
    "    \"Comments\",\n",
    "    \"Sum of Sb1 Funding\",\n",
    "    \"Sum of GGRF Funding\",\n",
    "    \"Sum Of Allocation Amount\",\n",
    "    \"Sum of GGRF (0046, xx301R expenditure)\",\n",
    "    \"Sum of SB1 (0046, xx101 Expenditure)\",\n",
    "    \"Sum of Expenditure\",\n",
    "    \"Sum Billed\",\n",
    "    \"Sum of Reimbursements\",\n",
    "    \"Remaining Allocation\",\n",
    "    \"Allocation Expenditure Merge\",\n",
    "    \"Allocation Project Status Merge\"]"
   ]
  },
  {
   "cell_type": "code",
   "execution_count": 33,
   "id": "5fd94640-4c3e-4c05-9eeb-4cf0c5537a27",
   "metadata": {},
   "outputs": [],
   "source": [
    "accounting_analysis, aggregated = A7_accounting_analysis.final_accounting_analysis()"
   ]
  },
  {
   "cell_type": "code",
   "execution_count": 34,
   "id": "539557af-96df-453e-a22c-b5f1fe4c76bc",
   "metadata": {},
   "outputs": [],
   "source": [
    "# accounting_analysis['Project ID'].nunique() == alloc.allocation_project_id.nunique()"
   ]
  },
  {
   "cell_type": "code",
   "execution_count": 35,
   "id": "7aa207d9-80db-460d-a494-8a6de7dee863",
   "metadata": {
    "scrolled": true,
    "tags": []
   },
   "outputs": [],
   "source": [
    "# accounting_analysis[preview_cols].loc[accounting_analysis.Comments == \"More than $400k: need to correct funding\"]"
   ]
  },
  {
   "cell_type": "code",
   "execution_count": 36,
   "id": "8a5436e2-c4fe-4234-8f24-c9c528f6f6fc",
   "metadata": {},
   "outputs": [],
   "source": [
    "# accounting_analysis.loc[accounting_analysis[\"Project ID\"] == \"22000241\"]"
   ]
  }
 ],
 "metadata": {
  "kernelspec": {
   "display_name": "Python 3 (ipykernel)",
   "language": "python",
   "name": "python3"
  },
  "language_info": {
   "codemirror_mode": {
    "name": "ipython",
    "version": 3
   },
   "file_extension": ".py",
   "mimetype": "text/x-python",
   "name": "python",
   "nbconvert_exporter": "python",
   "pygments_lexer": "ipython3",
   "version": "3.9.13"
  }
 },
 "nbformat": 4,
 "nbformat_minor": 5
}
