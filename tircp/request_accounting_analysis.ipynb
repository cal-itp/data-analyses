{
 "cells": [
  {
   "cell_type": "markdown",
   "id": "c5b46fbc-417e-4ba7-8722-9f7a9ad03787",
   "metadata": {},
   "source": [
    "## GGRF Analysis\n",
    "* Goal: Narrow down projects that need intervention with allocating funds from GGRF? "
   ]
  },
  {
   "cell_type": "code",
   "execution_count": 115,
   "id": "598c848d-319d-4b26-9ff3-2508cef16308",
   "metadata": {},
   "outputs": [],
   "source": [
    "import A1_data_prep\n",
    "import A2_tableau\n",
    "import numpy as np\n",
    "import pandas as pd\n",
    "from babel.numbers import format_currency\n",
    "from calitp.sql import to_snakecase\n",
    "\n",
    "pd.options.display.max_columns = 100\n",
    "pd.options.display.float_format = \"{:.2f}\".format\n",
    "pd.set_option(\"display.max_rows\", None)\n",
    "pd.set_option(\"display.max_colwidth\", None)"
   ]
  },
  {
   "cell_type": "code",
   "execution_count": 116,
   "id": "c78556cd-dd6a-4faf-ac76-1343ea91f22b",
   "metadata": {},
   "outputs": [],
   "source": [
    "# Allocation subset\n",
    "alloc_subset = ['allocation_project_id','allocation_phase', 'allocation_sb1_funding',\n",
    "                'allocation_sb1_funding']"
   ]
  },
  {
   "cell_type": "code",
   "execution_count": 117,
   "id": "46b80b2e-7464-4415-92a4-4a9d56da6ad7",
   "metadata": {},
   "outputs": [],
   "source": [
    "alloc = A1_data_prep.clean_allocation()[alloc_subset]"
   ]
  },
  {
   "cell_type": "code",
   "execution_count": 118,
   "id": "005b67f2-0027-4561-84ea-46e73479bc82",
   "metadata": {},
   "outputs": [],
   "source": [
    "def load_expenditures():\n",
    "    # Load in original sheet\n",
    "    df = pd.read_excel(f\"{A1_data_prep.GCS_FILE_PATH}3010_3020 Expenditure for fund 0046.xls\", sheet_name=\"Download\")\n",
    "\n",
    "    # First 10 columns or so are not data, drop them\n",
    "    df = (df.iloc[9:].reset_index(drop=True))\n",
    "          \n",
    "    # The first row contains column names - update it to the column\n",
    "    df.columns = df.iloc[0]\n",
    "          \n",
    "    # Drop the first row as they are now column names\n",
    "    df = df.drop(df.index[0]).reset_index(drop=True)\n",
    "    \n",
    "    df = to_snakecase(df)\n",
    "    \n",
    "    df = (df.loc[df['fy'] > '2017']).reset_index()\n",
    "    return df"
   ]
  },
  {
   "cell_type": "code",
   "execution_count": 128,
   "id": "671ef587-ee24-44e0-8fe2-2ef700552ae0",
   "metadata": {},
   "outputs": [],
   "source": [
    "expenditure = load_expenditures()"
   ]
  },
  {
   "cell_type": "code",
   "execution_count": 129,
   "id": "626ea8cb-c598-416c-a54c-16c862b1e64f",
   "metadata": {
    "tags": []
   },
   "outputs": [],
   "source": [
    "expenditure['project'] = expenditure['project'].astype(str).str[2:]"
   ]
  },
  {
   "cell_type": "code",
   "execution_count": 130,
   "id": "c040b470-c815-4202-8c0c-7abed6c3d711",
   "metadata": {},
   "outputs": [],
   "source": [
    "def load_project_status():\n",
    "    df = pd.read_excel(f\"{A1_data_prep.GCS_FILE_PATH}Project status for fund 0046 as of 12-5-22.xls\", sheet_name=\"Download\")\n",
    "\n",
    "    df = df.iloc[6:].reset_index(drop=True)\n",
    "    \n",
    "    df.columns = df.iloc[0]\n",
    "    \n",
    "    # Drop the first row as they are now column names\n",
    "    df = df.drop(df.index[0]).reset_index(drop=True)\n",
    "    \n",
    "    # Coerce certain columns to numeric\n",
    "    df[[\"Billed\", \"Reimbursements\"]] = df[[\"Billed\", \"Reimbursements\"]].apply(\n",
    "        pd.to_numeric, errors=\"coerce\"\n",
    "    )\n",
    "    # Group project id so the same ones will be on one line\n",
    "    df = df.groupby(['Project']).agg({'Billed':'sum', 'Reimbursements':'sum'}).reset_index()\n",
    "    \n",
    "    df = to_snakecase(df)\n",
    "    \n",
    "    return df"
   ]
  },
  {
   "cell_type": "code",
   "execution_count": 131,
   "id": "ccd6435b-a2ae-483a-bfc9-40e6d2c19bc0",
   "metadata": {},
   "outputs": [],
   "source": [
    "project_status = load_project_status()"
   ]
  },
  {
   "cell_type": "code",
   "execution_count": 132,
   "id": "daa3a0d6-78e1-4125-bba6-fb9d6d16200b",
   "metadata": {},
   "outputs": [],
   "source": [
    "m1 = pd.merge(\n",
    "    alloc, expenditure, how=\"left\", left_on = \"allocation_project_id\", right_on = \"project\", indicator=True\n",
    ")"
   ]
  },
  {
   "cell_type": "code",
   "execution_count": 135,
   "id": "ee23bcb5-e22e-4212-acc2-7b861fb93114",
   "metadata": {},
   "outputs": [
    {
     "name": "stdout",
     "output_type": "stream",
     "text": [
      "<class 'pandas.core.frame.DataFrame'>\n",
      "Int64Index: 370 entries, 0 to 372\n",
      "Data columns (total 4 columns):\n",
      " #   Column                  Non-Null Count  Dtype  \n",
      "---  ------                  --------------  -----  \n",
      " 0   allocation_project_id   370 non-null    object \n",
      " 1   allocation_phase        370 non-null    object \n",
      " 2   allocation_sb1_funding  370 non-null    float64\n",
      " 3   allocation_sb1_funding  370 non-null    float64\n",
      "dtypes: float64(2), object(2)\n",
      "memory usage: 14.5+ KB\n"
     ]
    }
   ],
   "source": [
    "alloc.info()"
   ]
  },
  {
   "cell_type": "code",
   "execution_count": 136,
   "id": "0a3df878-2e00-4e66-a06d-7d3b75f2dc16",
   "metadata": {},
   "outputs": [
    {
     "name": "stdout",
     "output_type": "stream",
     "text": [
      "<class 'pandas.core.frame.DataFrame'>\n",
      "RangeIndex: 1250 entries, 0 to 1249\n",
      "Data columns (total 16 columns):\n",
      " #   Column              Non-Null Count  Dtype \n",
      "---  ------              --------------  ----- \n",
      " 0   index               1250 non-null   int64 \n",
      " 1   fy                  1250 non-null   object\n",
      " 2   fund                1250 non-null   object\n",
      " 3   appr_catg           1250 non-null   object\n",
      " 4   appr_unit           1250 non-null   object\n",
      " 5   pec                 1250 non-null   object\n",
      " 6   project             1250 non-null   object\n",
      " 7   project_name        1237 non-null   object\n",
      " 8   project_short_name  1237 non-null   object\n",
      " 9   phase               1237 non-null   object\n",
      " 10  old_ea              1250 non-null   object\n",
      " 11  capital_exp         1250 non-null   object\n",
      " 12  local_exp           1250 non-null   object\n",
      " 13  support_exp         1250 non-null   object\n",
      " 14  other_exp           1250 non-null   object\n",
      " 15  tot_exp             1250 non-null   object\n",
      "dtypes: int64(1), object(15)\n",
      "memory usage: 156.4+ KB\n"
     ]
    }
   ],
   "source": [
    "expenditure.info()"
   ]
  }
 ],
 "metadata": {
  "kernelspec": {
   "display_name": "Python 3 (ipykernel)",
   "language": "python",
   "name": "python3"
  },
  "language_info": {
   "codemirror_mode": {
    "name": "ipython",
    "version": 3
   },
   "file_extension": ".py",
   "mimetype": "text/x-python",
   "name": "python",
   "nbconvert_exporter": "python",
   "pygments_lexer": "ipython3",
   "version": "3.9.13"
  }
 },
 "nbformat": 4,
 "nbformat_minor": 5
}
