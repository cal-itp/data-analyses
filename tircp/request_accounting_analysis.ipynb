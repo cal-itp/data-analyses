{
 "cells": [
  {
   "cell_type": "markdown",
   "id": "c5b46fbc-417e-4ba7-8722-9f7a9ad03787",
   "metadata": {},
   "source": [
    "## GGRF Accounting Analysis\n",
    "* Goal: Narrow down projects from Cycle 3 and beyond that need intervention with allocating funds from GGRF \n",
    "* Project ID as reference: 18000321"
   ]
  },
  {
   "cell_type": "code",
   "execution_count": 1,
   "id": "598c848d-319d-4b26-9ff3-2508cef16308",
   "metadata": {},
   "outputs": [],
   "source": [
    "import A1_data_prep\n",
    "import numpy as np\n",
    "import pandas as pd\n",
    "from calitp.sql import to_snakecase\n",
    "\n",
    "pd.options.display.max_columns = 100\n",
    "pd.options.display.float_format = \"{:.2f}\".format\n",
    "pd.set_option(\"display.max_rows\", None)\n",
    "pd.set_option(\"display.max_colwidth\", None)"
   ]
  },
  {
   "cell_type": "code",
   "execution_count": 2,
   "id": "854c15df-31eb-421f-8f45-19153c92aa86",
   "metadata": {},
   "outputs": [],
   "source": [
    "# Function to clean up project IDS\n",
    "def clean_project_ids(df, project_id_col: str):\n",
    "    # Cast to string\n",
    "    df[project_id_col] = df[project_id_col].astype(\"str\")\n",
    "\n",
    "    # Remove extra zeroes that may appear in front of ID\n",
    "    # https://stackoverflow.com/questions/45923189/remove-first-character-from-pandas-column-if-the-number-1\n",
    "    df[project_id_col] = df[project_id_col].apply(\n",
    "        lambda x: x[2:] if x.startswith(\"0\") else x\n",
    "    )\n",
    "\n",
    "    # Slice to 8 digits if it exceeds that number\n",
    "    df[project_id_col] = df[project_id_col].str.slice(start=0, stop=8)\n",
    "    return df"
   ]
  },
  {
   "cell_type": "markdown",
   "id": "9f449679-e963-4460-b2c4-d0a0e607e293",
   "metadata": {},
   "source": [
    "### Allocation Prep"
   ]
  },
  {
   "cell_type": "code",
   "execution_count": 3,
   "id": "5249743c-f178-4386-987b-7b62a3282b86",
   "metadata": {},
   "outputs": [],
   "source": [
    "# Original allocation sheet without \"None\" Project IDs filtered out\n",
    "# alloc_original = A1_data_prep.clean_allocation()"
   ]
  },
  {
   "cell_type": "code",
   "execution_count": 4,
   "id": "610d0172-fd37-46e5-b2bd-ee9cb81ff3f9",
   "metadata": {},
   "outputs": [],
   "source": [
    "# alloc_original.shape"
   ]
  },
  {
   "cell_type": "code",
   "execution_count": 5,
   "id": "eae8d068-8260-4281-a47a-68aded98bb7b",
   "metadata": {},
   "outputs": [],
   "source": [
    "def prep_allocation():\n",
    "    alloc_subset = [\n",
    "        \"allocation_project_#\",\n",
    "        \"allocation_ppno\",\n",
    "        \"allocation_components\",\n",
    "        \"allocation_award_year\",\n",
    "        \"allocation_ea\",\n",
    "        \"allocation_project_id\",\n",
    "        \"allocation_phase\",\n",
    "        \"allocation_sb1_funding\",\n",
    "        \"allocation_ggrf_funding\",\n",
    "    ]\n",
    "\n",
    "    df = A1_data_prep.clean_allocation()[alloc_subset]\n",
    "\n",
    "    # Filter out project ID that are none and projects starting in 2018\n",
    "    df = (\n",
    "        df[((df.allocation_project_id != \"None\") & (df.allocation_award_year >= 2018))]\n",
    "    ).reset_index(drop=True)\n",
    "\n",
    "    # Clean up Project ID\n",
    "    df = clean_project_ids(df, \"allocation_project_id\")\n",
    "\n",
    "    group_by_cols = [\n",
    "        \"allocation_project_id\",\n",
    "        \"allocation_ppno\",\n",
    "        \"allocation_ea\",\n",
    "        \"allocation_project_#\",\n",
    "        \"allocation_components\",\n",
    "        \"allocation_award_year\",\n",
    "        \"allocation_phase\",\n",
    "    ]\n",
    "\n",
    "    # Group multiple project ID and phase into one row: sum up SB1 and GGRF\n",
    "    df = (\n",
    "        df.groupby(group_by_cols)\n",
    "        .agg({\"allocation_sb1_funding\": \"sum\", \"allocation_ggrf_funding\": \"sum\"})\n",
    "        .reset_index()\n",
    "    )\n",
    "    \n",
    "    # Sum up SB1 and GGRF\n",
    "    df[\"Sum of Allocation Amount\"] = (\n",
    "        df[\"allocation_sb1_funding\"] + df[\"allocation_ggrf_funding\"]\n",
    "    )\n",
    "\n",
    "    return df"
   ]
  },
  {
   "cell_type": "code",
   "execution_count": 6,
   "id": "9da44dd3-03ec-4212-8b4b-52782e11bcc2",
   "metadata": {},
   "outputs": [],
   "source": [
    "# prep_alloc = prep_allocation()"
   ]
  },
  {
   "cell_type": "code",
   "execution_count": 7,
   "id": "727b8b41-e536-4b56-9ac4-7af1a3a25ac8",
   "metadata": {},
   "outputs": [
    {
     "data": {
      "text/plain": [
       "207"
      ]
     },
     "execution_count": 7,
     "metadata": {},
     "output_type": "execute_result"
    }
   ],
   "source": [
    "# len(prep_alloc)"
   ]
  },
  {
   "cell_type": "code",
   "execution_count": 8,
   "id": "ee4ab328-1821-4a87-b5df-889316b6d516",
   "metadata": {},
   "outputs": [],
   "source": [
    "# project_id_more_than_1 = [\"19000021\", \"19000073\", \"19000120\", \"20000194\"]"
   ]
  },
  {
   "cell_type": "code",
   "execution_count": 9,
   "id": "693a6cad-d2b6-4675-a6ea-ef8be4f70ab2",
   "metadata": {},
   "outputs": [],
   "source": [
    "# alloc[alloc.allocation_project_id.isin(project_id_more_than_1)]"
   ]
  },
  {
   "cell_type": "code",
   "execution_count": 10,
   "id": "1c1d8b44-cbc0-4593-91d0-62e1d103c0a0",
   "metadata": {},
   "outputs": [],
   "source": [
    "def final_allocation():\n",
    "\n",
    "    # Prepared allocation sheet\n",
    "    alloc = prep_allocation()\n",
    "\n",
    "    # Subsetted projects tab to get project title\n",
    "    project = A1_data_prep.clean_project()[\n",
    "        [\n",
    "            \"project_award_year\",\n",
    "            \"project_project_#\",\n",
    "            \"project_project_title\",\n",
    "            \"project_ppno\",\n",
    "        ]\n",
    "    ]\n",
    "\n",
    "    # Filter project sheet for ones cycle 3 +\n",
    "    project = (project.loc[project.project_award_year > 2017]).reset_index(drop=True)\n",
    "\n",
    "    # Merge allocation and project on PPNO\n",
    "    m1 = pd.merge(\n",
    "        prep_alloc,\n",
    "        project,\n",
    "        how=\"left\",\n",
    "        left_on=[\"allocation_ppno\", \"allocation_project_#\"],\n",
    "        right_on=[\"project_ppno\", \"project_project_#\"],\n",
    "        indicator=True,\n",
    "    )\n",
    "\n",
    "    m1 = m1.drop(\n",
    "        columns=[\n",
    "            \"project_award_year\",\n",
    "            \"project_project_#\",\n",
    "            \"project_ppno\",\n",
    "        ]\n",
    "    )\n",
    "\n",
    "    return m1"
   ]
  },
  {
   "cell_type": "code",
   "execution_count": 11,
   "id": "01d5808e-97af-4ba3-97b0-03027dcad19d",
   "metadata": {},
   "outputs": [
    {
     "name": "stderr",
     "output_type": "stream",
     "text": [
      "/opt/conda/lib/python3.9/site-packages/openpyxl/worksheet/_reader.py:312: UserWarning: Data Validation extension is not supported and will be removed\n",
      "  warn(msg)\n"
     ]
    }
   ],
   "source": [
    "alloc = final_allocation()"
   ]
  },
  {
   "cell_type": "code",
   "execution_count": 12,
   "id": "3e6aa2fd-9f09-462d-9cbe-18ae967bb8dc",
   "metadata": {
    "tags": []
   },
   "outputs": [
    {
     "data": {
      "text/plain": [
       "set()"
      ]
     },
     "execution_count": 12,
     "metadata": {},
     "output_type": "execute_result"
    }
   ],
   "source": [
    "# check to see if project ID match across all the allocation data sets\n",
    "project_id_merged = set(alloc.allocation_project_id.unique().tolist())\n",
    "project_id_og = set(prep_alloc.allocation_project_id.unique().tolist())\n",
    "project_id_og - project_id_merged\n",
    "project_id_merged - project_id_og"
   ]
  },
  {
   "cell_type": "code",
   "execution_count": 13,
   "id": "ee5150c7-7418-4b9c-9103-fec34a04d0a3",
   "metadata": {},
   "outputs": [
    {
     "data": {
      "text/plain": [
       "True"
      ]
     },
     "execution_count": 13,
     "metadata": {},
     "output_type": "execute_result"
    }
   ],
   "source": [
    "len(alloc) == len(prep_alloc)"
   ]
  },
  {
   "cell_type": "markdown",
   "id": "d5f0fc3e-1500-4d68-b073-a50d4c04b188",
   "metadata": {},
   "source": [
    "### Expenditures Prep "
   ]
  },
  {
   "cell_type": "code",
   "execution_count": 14,
   "id": "005b67f2-0027-4561-84ea-46e73479bc82",
   "metadata": {},
   "outputs": [],
   "source": [
    "def prep_expenditures():\n",
    "    # Load in original sheet\n",
    "    df = pd.read_excel(\n",
    "        f\"{A1_data_prep.GCS_FILE_PATH}3010_3020 Expenditure for fund 0046.xls\",\n",
    "        sheet_name=\"Download\",\n",
    "    )\n",
    "\n",
    "    # First 10 columns or so are not data, drop them\n",
    "    df = df.iloc[9:].reset_index(drop=True)\n",
    "\n",
    "    # The first row contains column names - update it to the column\n",
    "    df.columns = df.iloc[0]\n",
    "\n",
    "    # Drop the first row as they are now column names\n",
    "    df = df.drop(df.index[0]).reset_index(drop=True)\n",
    "\n",
    "    df = to_snakecase(df)\n",
    "\n",
    "    # Only grab records from 2018 and beyond\n",
    "    df = (df.loc[df[\"fy\"] > \"2017\"]).reset_index()\n",
    "\n",
    "    # Subset to only columns of interest\n",
    "    subset = [\"fy\", \"fund\", \"appr_unit\", \"project\", \"project_name\", \"tot_exp\"]\n",
    "    df = df[subset]\n",
    "\n",
    "    # Clean up project ID\n",
    "    df = clean_project_ids(df, \"project\")\n",
    "\n",
    "    return df"
   ]
  },
  {
   "cell_type": "code",
   "execution_count": 15,
   "id": "b0769924-1f6c-461e-948b-fdeb02dba3cc",
   "metadata": {},
   "outputs": [],
   "source": [
    "# Search for the appr_unit code that corresponds with either SB1/GGRF\n",
    "# Aggregate the results by project ID and name\n",
    "def split_ggrf_sb1_expenditures(\n",
    "    df,\n",
    "    appr_unit_wanted: str,\n",
    "):\n",
    "\n",
    "    # Search through for the appr_unit\n",
    "    df = df.loc[df.appr_unit.str.contains(appr_unit_wanted)].reset_index(drop=True)\n",
    "\n",
    "    # Group by project ID\n",
    "    df = (\n",
    "        df.groupby(\n",
    "            [\n",
    "                \"project\",\n",
    "            ]\n",
    "        )\n",
    "        .agg({\"tot_exp\": \"sum\"})\n",
    "        .reset_index()\n",
    "    )\n",
    "\n",
    "    # Rename total expenditures column with the appr_unit\n",
    "    df = df.rename(columns={\"tot_exp\": f\"{appr_unit_wanted}_tot_exp\"})\n",
    "\n",
    "    return df"
   ]
  },
  {
   "cell_type": "code",
   "execution_count": 16,
   "id": "14c2d6fc-db7d-47d6-be38-b9752ba524f4",
   "metadata": {},
   "outputs": [],
   "source": [
    "# Load expenditures, split df by GGRF and Sb1, and join them bacak together for the final dataframe.\n",
    "def aggregate_expenditures():\n",
    "    df = prep_expenditures()\n",
    "\n",
    "    # Find and sum up GGRF funds\n",
    "    df_ggrf = split_ggrf_sb1_expenditures(df, \"301R\")\n",
    "\n",
    "    # Find and sum up SB1 funds\n",
    "    df_sb1 = split_ggrf_sb1_expenditures(df, \"101\")\n",
    "\n",
    "    m1 = pd.merge(\n",
    "        df_ggrf,\n",
    "        df_sb1,\n",
    "        how=\"outer\",\n",
    "        on=[\"project\"],\n",
    "        indicator=True,\n",
    "    )\n",
    "\n",
    "    return m1"
   ]
  },
  {
   "cell_type": "code",
   "execution_count": 17,
   "id": "9bebaf7e-5faf-4da8-86b8-8d1ba57a5c71",
   "metadata": {},
   "outputs": [],
   "source": [
    "expenditure = aggregate_expenditures()"
   ]
  },
  {
   "cell_type": "code",
   "execution_count": 18,
   "id": "0237a734-fa8d-4e2b-909e-26f982a6c70f",
   "metadata": {},
   "outputs": [
    {
     "data": {
      "text/plain": [
       "right_only    80\n",
       "both          52\n",
       "left_only     40\n",
       "Name: _merge, dtype: int64"
      ]
     },
     "execution_count": 18,
     "metadata": {},
     "output_type": "execute_result"
    }
   ],
   "source": [
    "expenditure._merge.value_counts()"
   ]
  },
  {
   "cell_type": "markdown",
   "id": "6ea0a587-cab9-42ee-af4c-0b4f4d729dfa",
   "metadata": {},
   "source": [
    "#### Double check project ids w/ original dataframe before groupby"
   ]
  },
  {
   "cell_type": "code",
   "execution_count": 19,
   "id": "e24b4a4d-6cce-460b-9898-82ee7963880d",
   "metadata": {},
   "outputs": [],
   "source": [
    "og_expenditure = pd.read_excel(\n",
    "    f\"{A1_data_prep.GCS_FILE_PATH}3010_3020 Expenditure for fund 0046.xls\",\n",
    "    sheet_name=\"Download\",\n",
    ")"
   ]
  },
  {
   "cell_type": "code",
   "execution_count": 20,
   "id": "d8b994dd-de2c-486e-b346-96c7f5d80640",
   "metadata": {},
   "outputs": [],
   "source": [
    "og_expenditure = og_expenditure.iloc[9:].reset_index(drop=True)"
   ]
  },
  {
   "cell_type": "code",
   "execution_count": 21,
   "id": "2a702bf2-fa39-417e-8d70-bd18221e4499",
   "metadata": {},
   "outputs": [],
   "source": [
    "og_expenditure.columns = og_expenditure.iloc[0]"
   ]
  },
  {
   "cell_type": "code",
   "execution_count": 22,
   "id": "e725aaa0-52a7-4051-905f-8ded92146af5",
   "metadata": {},
   "outputs": [],
   "source": [
    "og_expenditure = og_expenditure.drop(og_expenditure.index[0]).reset_index(drop=True)"
   ]
  },
  {
   "cell_type": "code",
   "execution_count": 23,
   "id": "03bb2a59-9acf-4f26-bdf9-bc6d28246039",
   "metadata": {},
   "outputs": [],
   "source": [
    "og_expenditure = (og_expenditure.loc[og_expenditure[\"FY\"] > \"2017\"]).reset_index()"
   ]
  },
  {
   "cell_type": "code",
   "execution_count": 24,
   "id": "0b9a3cb9-1dc1-48a9-9561-b050d291dfa3",
   "metadata": {},
   "outputs": [
    {
     "data": {
      "text/plain": [
       "2022    279\n",
       "2021    222\n",
       "2020    208\n",
       "2023    189\n",
       "2018    180\n",
       "2019    172\n",
       "Name: FY, dtype: int64"
      ]
     },
     "execution_count": 24,
     "metadata": {},
     "output_type": "execute_result"
    }
   ],
   "source": [
    "og_expenditure.FY.value_counts()"
   ]
  },
  {
   "cell_type": "code",
   "execution_count": 25,
   "id": "32cd0fb9-40ef-46d5-86c9-75aa512504ca",
   "metadata": {},
   "outputs": [],
   "source": [
    "og_expenditure = og_expenditure[\n",
    "    og_expenditure[\"Appr Unit\"].str.contains(\"101\")\n",
    "    | og_expenditure[\"Appr Unit\"].str.contains(\"301R\")\n",
    "]"
   ]
  },
  {
   "cell_type": "code",
   "execution_count": 26,
   "id": "c3d7bf5a-2a05-43a6-a7aa-0b5e919e427c",
   "metadata": {},
   "outputs": [],
   "source": [
    "og_expenditure = clean_project_ids(og_expenditure, \"Project\")"
   ]
  },
  {
   "cell_type": "code",
   "execution_count": 27,
   "id": "8ca1a43d-2939-421b-bc96-d14f8f9a1d75",
   "metadata": {
    "tags": []
   },
   "outputs": [
    {
     "data": {
      "text/plain": [
       "(172, 172, 423, 172)"
      ]
     },
     "execution_count": 27,
     "metadata": {},
     "output_type": "execute_result"
    }
   ],
   "source": [
    "len(expenditure), expenditure.project.nunique(), len(\n",
    "    og_expenditure\n",
    "), og_expenditure.Project.nunique()"
   ]
  },
  {
   "cell_type": "code",
   "execution_count": 28,
   "id": "b0c0996f-823a-4059-b11d-dd7bfb233b0d",
   "metadata": {},
   "outputs": [
    {
     "data": {
      "text/plain": [
       "set()"
      ]
     },
     "execution_count": 28,
     "metadata": {},
     "output_type": "execute_result"
    }
   ],
   "source": [
    "# check to see if 2 columns are the same\n",
    "project_id_grouped = set(expenditure.project.unique().tolist())\n",
    "project_id_og = set(og_expenditure.Project.unique().tolist())\n",
    "project_id_og - project_id_grouped"
   ]
  },
  {
   "cell_type": "markdown",
   "id": "c68880f0-12fc-4a62-9ade-bea315083701",
   "metadata": {},
   "source": [
    "### Project Status Prep"
   ]
  },
  {
   "cell_type": "code",
   "execution_count": 29,
   "id": "c040b470-c815-4202-8c0c-7abed6c3d711",
   "metadata": {},
   "outputs": [],
   "source": [
    "def prep_project_status():\n",
    "    df = pd.read_excel(\n",
    "        f\"{A1_data_prep.GCS_FILE_PATH}Project status for fund 0046 as of 12-5-22.xls\",\n",
    "        sheet_name=\"Download\",\n",
    "    )\n",
    "\n",
    "    # First few rows are not data\n",
    "    df = df.iloc[6:].reset_index(drop=True)\n",
    "\n",
    "    # Cast first row as column names\n",
    "    df.columns = df.iloc[0]\n",
    "\n",
    "    # Drop the first row as they are now column names\n",
    "    df = df.drop(df.index[0]).reset_index(drop=True)\n",
    "\n",
    "    # Coerce monetary columns to numeric\n",
    "    df[[\"Billed\", \"Reimbursements\"]] = df[[\"Billed\", \"Reimbursements\"]].apply(\n",
    "        pd.to_numeric, errors=\"coerce\"\n",
    "    )\n",
    "    # Group project id so the same ones will be on one line\n",
    "    df = (\n",
    "        df.groupby([\"Project\"])\n",
    "        .agg({\"Billed\": \"sum\", \"Reimbursements\": \"sum\"})\n",
    "        .reset_index()\n",
    "    )\n",
    "\n",
    "    df = to_snakecase(df)\n",
    "\n",
    "    # Clean project names\n",
    "    df = clean_project_ids(df, \"project\")\n",
    "\n",
    "    return df"
   ]
  },
  {
   "cell_type": "code",
   "execution_count": 30,
   "id": "ccd6435b-a2ae-483a-bfc9-40e6d2c19bc0",
   "metadata": {},
   "outputs": [],
   "source": [
    "project_status = prep_project_status()"
   ]
  },
  {
   "cell_type": "code",
   "execution_count": 31,
   "id": "99946d81-4f48-4d68-bfbc-e16a0987ed04",
   "metadata": {},
   "outputs": [
    {
     "data": {
      "text/plain": [
       "52"
      ]
     },
     "execution_count": 31,
     "metadata": {},
     "output_type": "execute_result"
    }
   ],
   "source": [
    "project_status.project.nunique()"
   ]
  },
  {
   "cell_type": "markdown",
   "id": "42d2e47a-1183-4e5b-bd60-01df5425e86f",
   "metadata": {},
   "source": [
    "#### Double check project ids w/ original dataframe before groupby"
   ]
  },
  {
   "cell_type": "code",
   "execution_count": 32,
   "id": "0ec336bb-4fe3-4be2-810c-94ff1c0d9a21",
   "metadata": {},
   "outputs": [],
   "source": [
    "project_status_og = pd.read_excel(\n",
    "    f\"{A1_data_prep.GCS_FILE_PATH}Project status for fund 0046 as of 12-5-22.xls\",\n",
    "    sheet_name=\"Download\",\n",
    ")"
   ]
  },
  {
   "cell_type": "code",
   "execution_count": 33,
   "id": "c64a820a-2460-409d-b8b0-091c52fbc32c",
   "metadata": {},
   "outputs": [],
   "source": [
    "# First few rows are not data\n",
    "project_status_og = project_status_og.iloc[6:].reset_index(drop=True)\n",
    "\n",
    "# Cast first row as column names\n",
    "project_status_og.columns = project_status_og.iloc[0]\n",
    "\n",
    "# Drop the first row as they are now column names\n",
    "project_status_og = project_status_og.drop(project_status_og.index[0]).reset_index(\n",
    "    drop=True\n",
    ")"
   ]
  },
  {
   "cell_type": "code",
   "execution_count": 34,
   "id": "7b3f59ae-e5eb-454b-af1a-755dbe7d71ad",
   "metadata": {},
   "outputs": [
    {
     "data": {
      "text/plain": [
       "52"
      ]
     },
     "execution_count": 34,
     "metadata": {},
     "output_type": "execute_result"
    }
   ],
   "source": [
    "project_status_og.Project.nunique()"
   ]
  },
  {
   "cell_type": "markdown",
   "id": "3e390d88-b00d-4f57-9486-f8263a13b4e2",
   "metadata": {},
   "source": [
    "## Final Analysis - DRAFT\n",
    "### Merge 1"
   ]
  },
  {
   "cell_type": "code",
   "execution_count": 35,
   "id": "2f69e044-7386-4dd5-bbba-aa6a1acc2445",
   "metadata": {},
   "outputs": [],
   "source": [
    "def merge_allocation_expenditures():\n",
    "    \n",
    "    alloc = final_allocation()\n",
    "    \n",
    "    expenditure = aggregate_expenditures()\n",
    "    \n",
    "    m1 = pd.merge(\n",
    "        alloc.drop(columns=[\"_merge\"]),\n",
    "        expenditure.drop(columns=[\"_merge\"]),\n",
    "        how=\"left\",\n",
    "        left_on=\"allocation_project_id\",\n",
    "        right_on=\"project\",\n",
    "        indicator=True,\n",
    "    )\n",
    "    \n",
    "    m1 = m1.rename(columns={\"_merge\": \"Allocation_Expenditure_Merge\"})\n",
    "    \n",
    "    m1.Allocation_Expenditure_Merge = m1.Allocation_Expenditure_Merge.replace(\n",
    "    {\n",
    "        \"both\": \"Project ID in TIRCP Tracking and 3010_3020 Expenditure for fund 0046\",\n",
    "        \"left_only\": \"Project ID only in TIRCP Tracking\",\n",
    "    })\n",
    "    \n",
    "    m1 = m1.drop(columns=[\"project\"])\n",
    "    \n",
    "    m1 = m1.fillna(0)\n",
    "    \n",
    "    return m1"
   ]
  },
  {
   "cell_type": "code",
   "execution_count": 36,
   "id": "5e3623f2-1f67-45c4-9394-cbdff4f05f16",
   "metadata": {},
   "outputs": [],
   "source": [
    "# m1_function = merge_allocation_expenditures()"
   ]
  },
  {
   "cell_type": "code",
   "execution_count": 37,
   "id": "11b10ff6-86ef-4f43-b762-12def92adf1f",
   "metadata": {},
   "outputs": [],
   "source": [
    "# len(alloc), len(m1_function)"
   ]
  },
  {
   "cell_type": "markdown",
   "id": "f9ca7065-f5f7-41eb-8d10-bc5e66ef6d79",
   "metadata": {},
   "source": [
    "### Merge 2"
   ]
  },
  {
   "cell_type": "code",
   "execution_count": 38,
   "id": "f1a96413-8f4a-47e8-8410-2a2fc9876688",
   "metadata": {},
   "outputs": [],
   "source": [
    "def merge2_project_status():\n",
    "    \n",
    "    m1 = merge_allocation_expenditures()\n",
    "    \n",
    "    project_status = prep_project_status()\n",
    "    \n",
    "    m2 = pd.merge(\n",
    "    m1,\n",
    "    project_status,\n",
    "    how=\"left\",\n",
    "    left_on=\"allocation_project_id\",\n",
    "    right_on=\"project\",\n",
    "    indicator=True,)\n",
    "    \n",
    "    m2 = m2.rename(columns={\"_merge\": \"Allocation_Project_Status_Merge\"})\n",
    "    \n",
    "    m2.Allocation_Project_Status_Merge = m2.Allocation_Project_Status_Merge.replace(\n",
    "    {\n",
    "        \"both\": \"Project ID in TIRCP Tracking and Project_Status\",\n",
    "        \"left_only\": \"Project ID only in TIRCP Tracking\",\n",
    "    })\n",
    "    \n",
    "    m2 = m2.drop(columns=[\"project\"])\n",
    "    \n",
    "    return m2"
   ]
  },
  {
   "cell_type": "code",
   "execution_count": 39,
   "id": "79dc8b0b-e421-492f-90be-28391107fe1a",
   "metadata": {},
   "outputs": [],
   "source": [
    "m2 = merge2_project_status()"
   ]
  },
  {
   "cell_type": "code",
   "execution_count": 40,
   "id": "169674f6-32c7-46b0-9d85-d9d37a69f088",
   "metadata": {
    "tags": []
   },
   "outputs": [
    {
     "data": {
      "text/plain": [
       "allocation_project_id             0.00\n",
       "allocation_ppno                   0.00\n",
       "allocation_ea                     0.00\n",
       "allocation_project_#              0.00\n",
       "allocation_components             0.00\n",
       "allocation_award_year             0.00\n",
       "allocation_phase                  0.00\n",
       "allocation_sb1_funding            0.00\n",
       "allocation_ggrf_funding           0.00\n",
       "Sum of Allocation Amount          0.00\n",
       "project_project_title             0.00\n",
       "301R_tot_exp                      0.00\n",
       "101_tot_exp                       0.00\n",
       "Allocation_Expenditure_Merge      0.00\n",
       "billed                            0.74\n",
       "reimbursements                    0.74\n",
       "Allocation_Project_Status_Merge   0.00\n",
       "dtype: float64"
      ]
     },
     "execution_count": 40,
     "metadata": {},
     "output_type": "execute_result"
    }
   ],
   "source": [
    "(m2.isna().sum()) / len(m2)"
   ]
  },
  {
   "cell_type": "markdown",
   "id": "2db34914-ae5c-452d-85b9-ab9d44e4cffd",
   "metadata": {},
   "source": [
    "### Final Clean Up"
   ]
  },
  {
   "cell_type": "code",
   "execution_count": 82,
   "id": "1d9649a2-b561-4d27-8ec7-4d7cb3de8bb3",
   "metadata": {},
   "outputs": [],
   "source": [
    "# Tag if a project's desc has a SHS keyword/SHS keywords or not\n",
    "def comments(row):\n",
    "\n",
    "    if (row[\"Allocation Expenditure Merge\"] == \"Project ID only in TIRCP Tracking\") & (\n",
    "        row[\"Allocation Project Status Merge\"] == \"Project ID only in TIRCP Tracking\"\n",
    "    ):\n",
    "        return \"No expenditures: correct in AMS\"\n",
    "   \n",
    "    elif row[\"Sum Of Allocation Amount\"] == 0:\n",
    "        return \"No monetary info from TIRCP Tracking 2.0\"\n",
    "    \n",
    "    elif row[\"Sum Of Allocation Amount\"] == row[\"Sum of GGRF Funding\"]:\n",
    "        return \"100% GGRF/0046R: no action needed\"\n",
    "\n",
    "    elif row[\"Sum Of Allocation Amount\"] == row[\"Sum of Sb1 Funding\"]:\n",
    "        return \"100% SB1/0046: no action needed\"\n",
    "\n",
    "    elif row[\"Remaining Allocation\"] == 0:\n",
    "        return \"Fully expended: no action needed\"\n",
    "    \n",
    "    elif row[\"Remaining Allocation\"] < 0:\n",
    "        return \"Negative Remaining Allocation\"\n",
    "\n",
    "    elif row[\"Remaining Allocation\"] >= 400000:\n",
    "        return \"More than $400k: need to correct funding\"\n",
    "\n",
    "    elif row[\"Remaining Allocation\"] <= 400000:\n",
    "        return \"Less than $400k: no action needed\"\n",
    "\n",
    "    # Everything else is not enough info\n",
    "    else:\n",
    "        return \"Manual Comment\""
   ]
  },
  {
   "cell_type": "code",
   "execution_count": 83,
   "id": "3b54d8f8-71a1-451d-8f1c-31fdcb3dd9f4",
   "metadata": {},
   "outputs": [],
   "source": [
    "right_col_order = [\n",
    "    \"Award Year\",\n",
    "    \"#\",\n",
    "    \"Title\",\n",
    "    \"Project ID\",\n",
    "    \"Ea\",\n",
    "    \"Components\",\n",
    "    \"Phase\",\n",
    "    \"Sum of Sb1 Funding\",\n",
    "    \"Sum of GGRF Funding\",\n",
    "    \"Sum Of Allocation Amount\",\n",
    "    \"Sum of GGRF (0046, xx301R expenditure)\",\n",
    "    \"Sum of SB1 (0046, xx101 Expenditure)\",\n",
    "    \"Sum of Expenditure\",\n",
    "    \"Sum Billed\",\n",
    "    \"Sum of Reimbursements\",\n",
    "    \"Remaining Allocation\",\n",
    "    \"Allocation Expenditure Merge\",\n",
    "    \"Allocation Project Status Merge\",\n",
    "]"
   ]
  },
  {
   "cell_type": "code",
   "execution_count": 84,
   "id": "cfa07cfc-b750-47d3-b722-5d26df461fb6",
   "metadata": {},
   "outputs": [],
   "source": [
    "def final_accounting_analysis():\n",
    "    \n",
    "    df = merge2_project_status()\n",
    "    \n",
    "    # Clean up columns\n",
    "    df = A1_data_prep.clean_up_columns(df)\n",
    "    \n",
    "    df = df.rename(\n",
    "    columns={\n",
    "        \"Id\": \"Project ID\",\n",
    "        \"Sb1 Funding\": \"Sum of Sb1 Funding\",\n",
    "        \"Ggrf Funding\": \"Sum of GGRF Funding\",\n",
    "        \"101 Tot Exp\": \"Sum of SB1 (0046, xx101 Expenditure)\",\n",
    "        \"301R Tot Exp\": \"Sum of GGRF (0046, xx301R expenditure)\",\n",
    "        \"Billed\": \"Sum Billed\",\n",
    "        \"Reimbursements\": \"Sum of Reimbursements\",\n",
    "    })\n",
    "    \n",
    "    # Create sum columns\n",
    "    df[\"Sum of Expenditure\"] = df[\"Sum of SB1 (0046, xx101 Expenditure)\"] + df[\"Sum of GGRF (0046, xx301R expenditure)\"]\n",
    "    df[\"Remaining Allocation\"] = df[\"Sum Of Allocation Amount\"] - df[\"Sum of Expenditure\"]\n",
    "    \n",
    "    # Rearrange columns to be the right order\n",
    "    df = df[right_col_order]\n",
    "    \n",
    "    # Apply the comment function\n",
    "    df[\"Comments\"] = df.apply(comments, axis=1)\n",
    "    \n",
    "    # Fill more NA\n",
    "    for i in [\"Sum Billed\", \"Sum of Reimbursements\"]:\n",
    "        df[i] = df[i].fillna(0)\n",
    "    # Export\n",
    "    df.to_excel(f\"{A1_data_prep.GCS_FILE_PATH}accounting_analysis.xlsx\", sheet_name=\"accounting_analysis\", index=False)\n",
    "\n",
    "    return df"
   ]
  },
  {
   "cell_type": "code",
   "execution_count": 85,
   "id": "5fd94640-4c3e-4c05-9eeb-4cf0c5537a27",
   "metadata": {},
   "outputs": [
    {
     "name": "stderr",
     "output_type": "stream",
     "text": [
      "/opt/conda/lib/python3.9/site-packages/openpyxl/worksheet/_reader.py:312: UserWarning: Data Validation extension is not supported and will be removed\n",
      "  warn(msg)\n"
     ]
    }
   ],
   "source": [
    "accounting_analysis = final_accounting_analysis()"
   ]
  },
  {
   "cell_type": "code",
   "execution_count": 86,
   "id": "a882e6b4-7447-46bb-859f-09f1a8039659",
   "metadata": {
    "tags": []
   },
   "outputs": [
    {
     "data": {
      "text/plain": [
       "No expenditures: correct in AMS             90\n",
       "More than $400k: need to correct funding    49\n",
       "Less than $400k: no action needed           22\n",
       "Fully expended: no action needed            18\n",
       "100% SB1/0046: no action needed             16\n",
       "Negative Remaining Allocation                9\n",
       "No monetary info from TIRCP Tracking 2.0     3\n",
       "Name: Comments, dtype: int64"
      ]
     },
     "execution_count": 86,
     "metadata": {},
     "output_type": "execute_result"
    }
   ],
   "source": [
    "accounting_analysis.Comments.value_counts()"
   ]
  },
  {
   "cell_type": "code",
   "execution_count": 87,
   "id": "0800f633-f192-4e82-a077-7f998fb966cd",
   "metadata": {},
   "outputs": [],
   "source": [
    "preview_cols = [\"Award Year\",\n",
    "    \"Title\",\n",
    "    \"Project ID\",\n",
    "    \"Ea\",\n",
    "    \"Comments\",\n",
    "    \"Sum of Sb1 Funding\",\n",
    "    \"Sum of GGRF Funding\",\n",
    "    \"Sum Of Allocation Amount\",\n",
    "    \"Sum of GGRF (0046, xx301R expenditure)\",\n",
    "    \"Sum of SB1 (0046, xx101 Expenditure)\",\n",
    "    \"Sum of Expenditure\",\n",
    "    \"Sum Billed\",\n",
    "    \"Sum of Reimbursements\",\n",
    "    \"Remaining Allocation\",\n",
    "    \"Allocation Expenditure Merge\",\n",
    "    \"Allocation Project Status Merge\"]"
   ]
  },
  {
   "cell_type": "code",
   "execution_count": 88,
   "id": "539557af-96df-453e-a22c-b5f1fe4c76bc",
   "metadata": {},
   "outputs": [
    {
     "data": {
      "text/plain": [
       "True"
      ]
     },
     "execution_count": 88,
     "metadata": {},
     "output_type": "execute_result"
    }
   ],
   "source": [
    "accounting_analysis['Project ID'].nunique() == alloc.allocation_project_id.nunique()"
   ]
  },
  {
   "cell_type": "code",
   "execution_count": 96,
   "id": "5080d299-6cb3-4f0e-9cf5-9df691dc43e8",
   "metadata": {},
   "outputs": [
    {
     "data": {
      "text/plain": [
       "10296189.07"
      ]
     },
     "execution_count": 96,
     "metadata": {},
     "output_type": "execute_result"
    }
   ],
   "source": [
    "23500000.00-13203810.93"
   ]
  },
  {
   "cell_type": "code",
   "execution_count": 97,
   "id": "7aa207d9-80db-460d-a494-8a6de7dee863",
   "metadata": {
    "scrolled": true,
    "tags": []
   },
   "outputs": [],
   "source": [
    "# accounting_analysis[preview_cols].loc[accounting_analysis.Comments == \"More than $400k: need to correct funding\"]"
   ]
  },
  {
   "cell_type": "code",
   "execution_count": 90,
   "id": "8a5436e2-c4fe-4234-8f24-c9c528f6f6fc",
   "metadata": {},
   "outputs": [
    {
     "data": {
      "text/html": [
       "<div>\n",
       "<style scoped>\n",
       "    .dataframe tbody tr th:only-of-type {\n",
       "        vertical-align: middle;\n",
       "    }\n",
       "\n",
       "    .dataframe tbody tr th {\n",
       "        vertical-align: top;\n",
       "    }\n",
       "\n",
       "    .dataframe thead th {\n",
       "        text-align: right;\n",
       "    }\n",
       "</style>\n",
       "<table border=\"1\" class=\"dataframe\">\n",
       "  <thead>\n",
       "    <tr style=\"text-align: right;\">\n",
       "      <th></th>\n",
       "      <th>Award Year</th>\n",
       "      <th>#</th>\n",
       "      <th>Title</th>\n",
       "      <th>Project ID</th>\n",
       "      <th>Ea</th>\n",
       "      <th>Components</th>\n",
       "      <th>Phase</th>\n",
       "      <th>Sum of Sb1 Funding</th>\n",
       "      <th>Sum of GGRF Funding</th>\n",
       "      <th>Sum Of Allocation Amount</th>\n",
       "      <th>Sum of GGRF (0046, xx301R expenditure)</th>\n",
       "      <th>Sum of SB1 (0046, xx101 Expenditure)</th>\n",
       "      <th>Sum of Expenditure</th>\n",
       "      <th>Sum Billed</th>\n",
       "      <th>Sum of Reimbursements</th>\n",
       "      <th>Remaining Allocation</th>\n",
       "      <th>Allocation Expenditure Merge</th>\n",
       "      <th>Allocation Project Status Merge</th>\n",
       "      <th>Comments</th>\n",
       "    </tr>\n",
       "  </thead>\n",
       "  <tbody>\n",
       "    <tr>\n",
       "      <th>178</th>\n",
       "      <td>2018.00</td>\n",
       "      <td>19.00</td>\n",
       "      <td>Valley Rail</td>\n",
       "      <td>22000241</td>\n",
       "      <td>R387GN</td>\n",
       "      <td>Elk Grove Station</td>\n",
       "      <td>R/W</td>\n",
       "      <td>3855000.00</td>\n",
       "      <td>3085000.00</td>\n",
       "      <td>6940000.00</td>\n",
       "      <td>0.00</td>\n",
       "      <td>3839.24</td>\n",
       "      <td>3839.24</td>\n",
       "      <td>0.00</td>\n",
       "      <td>0.00</td>\n",
       "      <td>6936160.76</td>\n",
       "      <td>Project ID in TIRCP Tracking and 3010_3020 Expenditure for fund 0046</td>\n",
       "      <td>Project ID only in TIRCP Tracking</td>\n",
       "      <td>More than $400k: need to correct funding</td>\n",
       "    </tr>\n",
       "  </tbody>\n",
       "</table>\n",
       "</div>"
      ],
      "text/plain": [
       "     Award Year     #        Title Project ID      Ea         Components  \\\n",
       "178     2018.00 19.00  Valley Rail   22000241  R387GN  Elk Grove Station   \n",
       "\n",
       "    Phase  Sum of Sb1 Funding  Sum of GGRF Funding  Sum Of Allocation Amount  \\\n",
       "178   R/W          3855000.00           3085000.00                6940000.00   \n",
       "\n",
       "     Sum of GGRF (0046, xx301R expenditure)  \\\n",
       "178                                    0.00   \n",
       "\n",
       "     Sum of SB1 (0046, xx101 Expenditure)  Sum of Expenditure  Sum Billed  \\\n",
       "178                               3839.24             3839.24        0.00   \n",
       "\n",
       "     Sum of Reimbursements  Remaining Allocation  \\\n",
       "178                   0.00            6936160.76   \n",
       "\n",
       "                                             Allocation Expenditure Merge  \\\n",
       "178  Project ID in TIRCP Tracking and 3010_3020 Expenditure for fund 0046   \n",
       "\n",
       "       Allocation Project Status Merge  \\\n",
       "178  Project ID only in TIRCP Tracking   \n",
       "\n",
       "                                     Comments  \n",
       "178  More than $400k: need to correct funding  "
      ]
     },
     "execution_count": 90,
     "metadata": {},
     "output_type": "execute_result"
    }
   ],
   "source": [
    "accounting_analysis.loc[accounting_analysis[\"Project ID\"] == \"22000241\"]"
   ]
  },
  {
   "cell_type": "code",
   "execution_count": null,
   "id": "32bc9a37-df43-4160-9e80-c0a8742c0100",
   "metadata": {},
   "outputs": [],
   "source": []
  }
 ],
 "metadata": {
  "kernelspec": {
   "display_name": "Python 3 (ipykernel)",
   "language": "python",
   "name": "python3"
  },
  "language_info": {
   "codemirror_mode": {
    "name": "ipython",
    "version": 3
   },
   "file_extension": ".py",
   "mimetype": "text/x-python",
   "name": "python",
   "nbconvert_exporter": "python",
   "pygments_lexer": "ipython3",
   "version": "3.9.13"
  }
 },
 "nbformat": 4,
 "nbformat_minor": 5
}
