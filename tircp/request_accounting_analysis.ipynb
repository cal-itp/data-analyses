{
 "cells": [
  {
   "cell_type": "markdown",
   "id": "c5b46fbc-417e-4ba7-8722-9f7a9ad03787",
   "metadata": {},
   "source": [
    "## GGRF Accounting Analysis\n",
    "* Goal: Narrow down projects that need intervention with allocating funds from GGRF \n",
    "* Project ID as reference: 18000321"
   ]
  },
  {
   "cell_type": "code",
   "execution_count": 1,
   "id": "598c848d-319d-4b26-9ff3-2508cef16308",
   "metadata": {},
   "outputs": [],
   "source": [
    "import A1_data_prep\n",
    "import numpy as np\n",
    "import pandas as pd\n",
    "from calitp.sql import to_snakecase\n",
    "\n",
    "pd.options.display.max_columns = 100\n",
    "pd.options.display.float_format = \"{:.2f}\".format\n",
    "pd.set_option(\"display.max_rows\", None)\n",
    "pd.set_option(\"display.max_colwidth\", None)"
   ]
  },
  {
   "cell_type": "code",
   "execution_count": 2,
   "id": "854c15df-31eb-421f-8f45-19153c92aa86",
   "metadata": {},
   "outputs": [],
   "source": [
    "# Function to clean up project IDS\n",
    "def clean_project_ids(df, project_id_col: str):\n",
    "    # Cast to string\n",
    "    df[project_id_col] = df[project_id_col].astype(\"str\")\n",
    "\n",
    "    # Remove \\n\n",
    "    #df[project_id_col] = df[project_id_col].str.replace(\"\\n\", \"\")\n",
    "\n",
    "    # Remove extra zeroes that may appear in front of ID\n",
    "    # https://stackoverflow.com/questions/45923189/remove-first-character-from-pandas-column-if-the-number-1\n",
    "    df[project_id_col] = df[project_id_col].apply(\n",
    "        lambda x: x[2:] if x.startswith(\"0\") else x\n",
    "    )\n",
    "\n",
    "    # Slice to 8 digits if it exceeds that number\n",
    "    df[project_id_col] = df[project_id_col].str.slice(start=0, stop=8)\n",
    "    return df"
   ]
  },
  {
   "cell_type": "markdown",
   "id": "9f449679-e963-4460-b2c4-d0a0e607e293",
   "metadata": {},
   "source": [
    "### Allocation Prep"
   ]
  },
  {
   "cell_type": "code",
   "execution_count": 3,
   "id": "eae8d068-8260-4281-a47a-68aded98bb7b",
   "metadata": {},
   "outputs": [],
   "source": [
    "def prep_allocation():\n",
    "    alloc_subset = [\n",
    "    \"allocation_project_id\",\n",
    "    \"allocation_phase\",\n",
    "    \"allocation_sb1_funding\",\n",
    "    \"allocation_ggrf_funding\",]\n",
    "    \n",
    "    df = A1_data_prep.clean_allocation()[alloc_subset]\n",
    "    \n",
    "    # Filter out project ID that are none\n",
    "    df = (df.loc[df.allocation_project_id != \"None\"]).reset_index(drop=True)\n",
    "    \n",
    "    # Clean up Project ID\n",
    "    df = clean_project_ids(df, \"allocation_project_id\")\n",
    "    \n",
    "    # Group multiple project ID and phase into one row: sum up SB1 and GGRF\n",
    "    df = df.groupby(['allocation_project_id','allocation_phase']).agg({'allocation_sb1_funding':'sum', 'allocation_ggrf_funding':'sum'}).reset_index()\n",
    "    \n",
    "    # Sum up SB1 and GGRF\n",
    "    df['Sum of Allocation Amount'] = df['allocation_sb1_funding'] + df['allocation_ggrf_funding']\n",
    "    \n",
    "    return df"
   ]
  },
  {
   "cell_type": "code",
   "execution_count": 4,
   "id": "01d5808e-97af-4ba3-97b0-03027dcad19d",
   "metadata": {},
   "outputs": [],
   "source": [
    "alloc = prep_allocation()"
   ]
  },
  {
   "cell_type": "code",
   "execution_count": 5,
   "id": "5249743c-f178-4386-987b-7b62a3282b86",
   "metadata": {},
   "outputs": [],
   "source": [
    "# Original allocation sheet without \"None\" Project IDs filtered out\n",
    "alloc_original = A1_data_prep.clean_allocation()"
   ]
  },
  {
   "cell_type": "code",
   "execution_count": 6,
   "id": "610d0172-fd37-46e5-b2bd-ee9cb81ff3f9",
   "metadata": {},
   "outputs": [
    {
     "data": {
      "text/plain": [
       "(370, 53)"
      ]
     },
     "execution_count": 6,
     "metadata": {},
     "output_type": "execute_result"
    }
   ],
   "source": [
    "alloc_original.shape"
   ]
  },
  {
   "cell_type": "code",
   "execution_count": 7,
   "id": "3e6aa2fd-9f09-462d-9cbe-18ae967bb8dc",
   "metadata": {},
   "outputs": [
    {
     "data": {
      "text/plain": [
       "(247, 5)"
      ]
     },
     "execution_count": 7,
     "metadata": {},
     "output_type": "execute_result"
    }
   ],
   "source": [
    "alloc.shape"
   ]
  },
  {
   "cell_type": "code",
   "execution_count": 8,
   "id": "143349ea-cf98-4e3c-8ad7-c72e0562f7ed",
   "metadata": {},
   "outputs": [
    {
     "data": {
      "text/plain": [
       "246"
      ]
     },
     "execution_count": 8,
     "metadata": {},
     "output_type": "execute_result"
    }
   ],
   "source": [
    "alloc.allocation_project_id.nunique()"
   ]
  },
  {
   "cell_type": "markdown",
   "id": "d5f0fc3e-1500-4d68-b073-a50d4c04b188",
   "metadata": {},
   "source": [
    "### Expenditures Prep "
   ]
  },
  {
   "cell_type": "code",
   "execution_count": 9,
   "id": "005b67f2-0027-4561-84ea-46e73479bc82",
   "metadata": {},
   "outputs": [],
   "source": [
    "def prep_expenditures():\n",
    "    # Load in original sheet\n",
    "    df = pd.read_excel(\n",
    "        f\"{A1_data_prep.GCS_FILE_PATH}3010_3020 Expenditure for fund 0046.xls\",\n",
    "        sheet_name=\"Download\",\n",
    "    )\n",
    "\n",
    "    # First 10 columns or so are not data, drop them\n",
    "    df = df.iloc[9:].reset_index(drop=True)\n",
    "\n",
    "    # The first row contains column names - update it to the column\n",
    "    df.columns = df.iloc[0]\n",
    "\n",
    "    # Drop the first row as they are now column names\n",
    "    df = df.drop(df.index[0]).reset_index(drop=True)\n",
    "\n",
    "    df = to_snakecase(df)\n",
    "    \n",
    "    # Only grab records from 2017 and beyond\n",
    "    df = (df.loc[df[\"fy\"] > \"2017\"]).reset_index()\n",
    "    \n",
    "    # Subset to only columns of interest\n",
    "    subset = [\"fy\", \"fund\", \"appr_unit\", \"project\", \"project_name\", \"tot_exp\"]\n",
    "    df = df[subset]\n",
    "    \n",
    "    # Clean up project ID\n",
    "    df = clean_project_ids(df, \"project\")\n",
    "    \n",
    "    return df"
   ]
  },
  {
   "cell_type": "code",
   "execution_count": 10,
   "id": "b0769924-1f6c-461e-948b-fdeb02dba3cc",
   "metadata": {},
   "outputs": [],
   "source": [
    "# Search for the appr_unit code that corresponds with either SB1/GGRF\n",
    "# Aggregate the results by project ID and name\n",
    "def split_ggrf_sb1_expenditures(df, appr_unit_wanted: str, ):\n",
    "    \n",
    "    # Search through for the appr_unit\n",
    "    df = df.loc[df.appr_unit.str.contains(appr_unit_wanted)].reset_index(drop=True)\n",
    "    \n",
    "    # Group by project ID \n",
    "    df = df.groupby(['project',]).agg({'tot_exp':'sum'}).reset_index()\n",
    "    \n",
    "    # Rename total expenditures column with the appr_unit\n",
    "    df = df.rename(columns = {'tot_exp': f'{appr_unit_wanted}_tot_exp'}) \n",
    "    \n",
    "    return df"
   ]
  },
  {
   "cell_type": "code",
   "execution_count": 11,
   "id": "14c2d6fc-db7d-47d6-be38-b9752ba524f4",
   "metadata": {},
   "outputs": [],
   "source": [
    "# Load expenditures, split df by GGRF and Sb1, and join them bacak together for the final dataframe.\n",
    "def aggregate_expenditures():\n",
    "    df = prep_expenditures()\n",
    "    \n",
    "    # Find and sum up GGRF funds\n",
    "    df_ggrf =  split_ggrf_sb1_expenditures(df, '301R')\n",
    "    \n",
    "    # Find and sum up SB1 funds\n",
    "    df_sb1 =  split_ggrf_sb1_expenditures(df, '101')\n",
    "    \n",
    "    m1 = pd.merge(\n",
    "    df_ggrf,\n",
    "    df_sb1,\n",
    "    how=\"outer\",\n",
    "    on = [\"project\"],\n",
    "    indicator=True,)\n",
    "    \n",
    "    # Create sum column of both funds\n",
    "    m1['Sum of Expenditure'] = m1['301R_tot_exp'] + m1['101_tot_exp'] \n",
    "    return m1 "
   ]
  },
  {
   "cell_type": "code",
   "execution_count": 12,
   "id": "9bebaf7e-5faf-4da8-86b8-8d1ba57a5c71",
   "metadata": {},
   "outputs": [],
   "source": [
    "expenditure =  aggregate_expenditures()"
   ]
  },
  {
   "cell_type": "code",
   "execution_count": 13,
   "id": "0237a734-fa8d-4e2b-909e-26f982a6c70f",
   "metadata": {},
   "outputs": [
    {
     "data": {
      "text/plain": [
       "right_only    80\n",
       "both          52\n",
       "left_only     40\n",
       "Name: _merge, dtype: int64"
      ]
     },
     "execution_count": 13,
     "metadata": {},
     "output_type": "execute_result"
    }
   ],
   "source": [
    "expenditure._merge.value_counts()"
   ]
  },
  {
   "cell_type": "markdown",
   "id": "6ea0a587-cab9-42ee-af4c-0b4f4d729dfa",
   "metadata": {},
   "source": [
    "#### Double check project ids w/ original dataframe before groupby"
   ]
  },
  {
   "cell_type": "code",
   "execution_count": 14,
   "id": "e24b4a4d-6cce-460b-9898-82ee7963880d",
   "metadata": {},
   "outputs": [],
   "source": [
    "og_expenditure = pd.read_excel(\n",
    "        f\"{A1_data_prep.GCS_FILE_PATH}3010_3020 Expenditure for fund 0046.xls\",\n",
    "        sheet_name=\"Download\",\n",
    "    )"
   ]
  },
  {
   "cell_type": "code",
   "execution_count": 15,
   "id": "d8b994dd-de2c-486e-b346-96c7f5d80640",
   "metadata": {},
   "outputs": [],
   "source": [
    "og_expenditure = og_expenditure.iloc[9:].reset_index(drop=True)"
   ]
  },
  {
   "cell_type": "code",
   "execution_count": 16,
   "id": "2a702bf2-fa39-417e-8d70-bd18221e4499",
   "metadata": {},
   "outputs": [],
   "source": [
    "og_expenditure.columns =  og_expenditure.iloc[0]"
   ]
  },
  {
   "cell_type": "code",
   "execution_count": 17,
   "id": "e725aaa0-52a7-4051-905f-8ded92146af5",
   "metadata": {},
   "outputs": [],
   "source": [
    "og_expenditure =  og_expenditure.drop(og_expenditure.index[0]).reset_index(drop=True)"
   ]
  },
  {
   "cell_type": "code",
   "execution_count": 18,
   "id": "03bb2a59-9acf-4f26-bdf9-bc6d28246039",
   "metadata": {},
   "outputs": [],
   "source": [
    "og_expenditure = (og_expenditure.loc[og_expenditure[\"FY\"] > \"2017\"]).reset_index()"
   ]
  },
  {
   "cell_type": "code",
   "execution_count": 19,
   "id": "32cd0fb9-40ef-46d5-86c9-75aa512504ca",
   "metadata": {},
   "outputs": [],
   "source": [
    "og_expenditure = og_expenditure[\n",
    "    og_expenditure[\"Appr Unit\"].str.contains(\"101\") | og_expenditure[\"Appr Unit\"].str.contains(\"301R\")\n",
    "]"
   ]
  },
  {
   "cell_type": "code",
   "execution_count": 20,
   "id": "c3d7bf5a-2a05-43a6-a7aa-0b5e919e427c",
   "metadata": {},
   "outputs": [],
   "source": [
    "og_expenditure = clean_project_ids(og_expenditure, \"Project\")"
   ]
  },
  {
   "cell_type": "code",
   "execution_count": 21,
   "id": "8ca1a43d-2939-421b-bc96-d14f8f9a1d75",
   "metadata": {
    "tags": []
   },
   "outputs": [
    {
     "data": {
      "text/plain": [
       "(172, 172, 423, 172)"
      ]
     },
     "execution_count": 21,
     "metadata": {},
     "output_type": "execute_result"
    }
   ],
   "source": [
    "len(expenditure), expenditure.project.nunique(), len(og_expenditure), og_expenditure.Project.nunique()"
   ]
  },
  {
   "cell_type": "code",
   "execution_count": 22,
   "id": "b0c0996f-823a-4059-b11d-dd7bfb233b0d",
   "metadata": {},
   "outputs": [
    {
     "data": {
      "text/plain": [
       "set()"
      ]
     },
     "execution_count": 22,
     "metadata": {},
     "output_type": "execute_result"
    }
   ],
   "source": [
    "# check to see if 2 columns are the same\n",
    "project_id_grouped = set(expenditure.project.unique().tolist())\n",
    "project_id_og = set( og_expenditure.Project.unique().tolist())\n",
    "project_id_og - project_id_grouped"
   ]
  },
  {
   "cell_type": "markdown",
   "id": "c68880f0-12fc-4a62-9ade-bea315083701",
   "metadata": {},
   "source": [
    "### Project Status Prep"
   ]
  },
  {
   "cell_type": "code",
   "execution_count": 23,
   "id": "c040b470-c815-4202-8c0c-7abed6c3d711",
   "metadata": {},
   "outputs": [],
   "source": [
    "def prep_project_status():\n",
    "    df = pd.read_excel(\n",
    "        f\"{A1_data_prep.GCS_FILE_PATH}Project status for fund 0046 as of 12-5-22.xls\",\n",
    "        sheet_name=\"Download\",\n",
    "    )\n",
    "    \n",
    "    # First few rows are not data\n",
    "    df = df.iloc[6:].reset_index(drop=True)\n",
    "    \n",
    "    # Cast first row as column names\n",
    "    df.columns = df.iloc[0]\n",
    "\n",
    "    # Drop the first row as they are now column names\n",
    "    df = df.drop(df.index[0]).reset_index(drop=True)\n",
    "\n",
    "    # Coerce certain columns to numeric\n",
    "    df[[\"Billed\", \"Reimbursements\"]] = df[[\"Billed\", \"Reimbursements\"]].apply(\n",
    "        pd.to_numeric, errors=\"coerce\"\n",
    "    )\n",
    "    # Group project id so the same ones will be on one line\n",
    "    df = (\n",
    "        df.groupby([\"Project\"])\n",
    "        .agg({\"Billed\": \"sum\", \"Reimbursements\": \"sum\"})\n",
    "        .reset_index()\n",
    "    )\n",
    "\n",
    "    df = to_snakecase(df)\n",
    "    \n",
    "    # Clean project names\n",
    "    df = clean_project_ids(df, \"project\")\n",
    "    \n",
    "    return df"
   ]
  },
  {
   "cell_type": "code",
   "execution_count": 24,
   "id": "ccd6435b-a2ae-483a-bfc9-40e6d2c19bc0",
   "metadata": {},
   "outputs": [],
   "source": [
    "project_status = prep_project_status()"
   ]
  },
  {
   "cell_type": "code",
   "execution_count": 25,
   "id": "99946d81-4f48-4d68-bfbc-e16a0987ed04",
   "metadata": {},
   "outputs": [
    {
     "data": {
      "text/plain": [
       "52"
      ]
     },
     "execution_count": 25,
     "metadata": {},
     "output_type": "execute_result"
    }
   ],
   "source": [
    "project_status.project.nunique()"
   ]
  },
  {
   "cell_type": "markdown",
   "id": "3e390d88-b00d-4f57-9486-f8263a13b4e2",
   "metadata": {},
   "source": [
    "## DRAFT\n",
    "### Merge 1"
   ]
  },
  {
   "cell_type": "code",
   "execution_count": 26,
   "id": "daa3a0d6-78e1-4125-bba6-fb9d6d16200b",
   "metadata": {},
   "outputs": [],
   "source": [
    "m1 = pd.merge(\n",
    "    alloc,\n",
    "    expenditure.drop(columns = ['_merge']),\n",
    "    how=\"left\",\n",
    "    left_on=\"allocation_project_id\",\n",
    "    right_on=\"project\",\n",
    "    indicator=True,\n",
    ")"
   ]
  },
  {
   "cell_type": "code",
   "execution_count": 27,
   "id": "9f858814-469f-45b7-8be6-f078999952d0",
   "metadata": {},
   "outputs": [
    {
     "data": {
      "text/plain": [
       "both          143\n",
       "left_only     104\n",
       "right_only      0\n",
       "Name: _merge, dtype: int64"
      ]
     },
     "execution_count": 27,
     "metadata": {},
     "output_type": "execute_result"
    }
   ],
   "source": [
    "m1._merge.value_counts()"
   ]
  },
  {
   "cell_type": "code",
   "execution_count": 28,
   "id": "11b10ff6-86ef-4f43-b762-12def92adf1f",
   "metadata": {},
   "outputs": [
    {
     "data": {
      "text/plain": [
       "(247, 247)"
      ]
     },
     "execution_count": 28,
     "metadata": {},
     "output_type": "execute_result"
    }
   ],
   "source": [
    "len(m1), len(alloc)"
   ]
  },
  {
   "cell_type": "markdown",
   "id": "f9ca7065-f5f7-41eb-8d10-bc5e66ef6d79",
   "metadata": {},
   "source": [
    "### Merge 2"
   ]
  },
  {
   "cell_type": "code",
   "execution_count": 29,
   "id": "dcfc6b0e-f853-444c-af9d-183818fe6df1",
   "metadata": {},
   "outputs": [],
   "source": [
    "m2 = pd.merge(\n",
    "    m1.drop(columns = [\"_merge\"]),\n",
    "    project_status,\n",
    "    how=\"left\",\n",
    "    on = \"project\",\n",
    "    indicator=True,\n",
    ")"
   ]
  },
  {
   "cell_type": "code",
   "execution_count": 30,
   "id": "2e5d5311-8892-4aa9-800b-67dd272a0be7",
   "metadata": {
    "tags": []
   },
   "outputs": [
    {
     "data": {
      "text/plain": [
       "left_only     196\n",
       "both           51\n",
       "right_only      0\n",
       "Name: _merge, dtype: int64"
      ]
     },
     "execution_count": 30,
     "metadata": {},
     "output_type": "execute_result"
    }
   ],
   "source": [
    "m2._merge.value_counts()"
   ]
  },
  {
   "cell_type": "code",
   "execution_count": 31,
   "id": "593729fa-c958-422e-b32c-0674e80970bf",
   "metadata": {
    "scrolled": true,
    "tags": []
   },
   "outputs": [],
   "source": [
    "m2 = m2.drop(columns = ['_merge', 'project'])"
   ]
  },
  {
   "cell_type": "code",
   "execution_count": 32,
   "id": "169674f6-32c7-46b0-9d85-d9d37a69f088",
   "metadata": {
    "tags": []
   },
   "outputs": [
    {
     "data": {
      "text/plain": [
       "allocation_project_id      0.00\n",
       "allocation_phase           0.00\n",
       "allocation_sb1_funding     0.00\n",
       "allocation_ggrf_funding    0.00\n",
       "Sum of Allocation Amount   0.00\n",
       "301R_tot_exp               0.65\n",
       "101_tot_exp                0.56\n",
       "Sum of Expenditure         0.79\n",
       "billed                     0.79\n",
       "reimbursements             0.79\n",
       "dtype: float64"
      ]
     },
     "execution_count": 32,
     "metadata": {},
     "output_type": "execute_result"
    }
   ],
   "source": [
    "(m2.isna().sum())/len(m2)"
   ]
  },
  {
   "cell_type": "markdown",
   "id": "2db34914-ae5c-452d-85b9-ab9d44e4cffd",
   "metadata": {},
   "source": [
    "### Clean up"
   ]
  },
  {
   "cell_type": "code",
   "execution_count": 33,
   "id": "5fd94640-4c3e-4c05-9eeb-4cf0c5537a27",
   "metadata": {},
   "outputs": [],
   "source": [
    "m2 = A1_data_prep.clean_up_columns(m2).fillna(0)"
   ]
  },
  {
   "cell_type": "code",
   "execution_count": 34,
   "id": "821ee3c3-d72d-4ba0-99f3-2a5243ff8dde",
   "metadata": {
    "scrolled": true,
    "tags": []
   },
   "outputs": [],
   "source": [
    "m2['Remaining Allocation'] = m2['Sum Of Allocation Amount'] - m2['Sum Of Expenditure']"
   ]
  },
  {
   "cell_type": "code",
   "execution_count": 35,
   "id": "1d9649a2-b561-4d27-8ec7-4d7cb3de8bb3",
   "metadata": {},
   "outputs": [],
   "source": [
    "# Tag if a project's desc has a SHS keyword/SHS keywords or not\n",
    "def keywords(row):\n",
    "        \n",
    "    if row[\"Remaining Allocation\"] == 0: \n",
    "        return \"Fully expended: no action needed\"\n",
    "    \n",
    "    elif row[\"Sum Of Allocation Amount\"] == 0: \n",
    "        return \"No monetary info from TIRCP Tracking 2.0\"\n",
    "    \n",
    "    elif row[\"Sum Of Allocation Amount\"] == row[\"Ggrf Funding\"]:\n",
    "        return \"100% GGRF/0046R No action needed\"\n",
    "    \n",
    "    elif row[\"Sum Of Allocation Amount\"] == row[\"Sb1 Funding\"]:\n",
    "        return \"100% SB1/0046 No action needed\"\n",
    "    \n",
    "    elif row[\"Remaining Allocation\"] >= 400000: \n",
    "        return \"More than $400k: need to correct funding\"\n",
    "          \n",
    "    elif row[\"Remaining Allocation\"] <= 400000: \n",
    "        return \"Less than $400k: no action needed\"\n",
    "        \n",
    "    # Everything else is not enough info\n",
    "    else:\n",
    "        return \"Manual Comment\"\n",
    "    "
   ]
  },
  {
   "cell_type": "code",
   "execution_count": 36,
   "id": "3c4326db-0d01-4d50-b1e5-42d9cc6736ed",
   "metadata": {},
   "outputs": [],
   "source": [
    "# Apply the function\n",
    "m2[\"Comments\"] = m2.apply(keywords, axis=1)\n",
    "    "
   ]
  },
  {
   "cell_type": "code",
   "execution_count": 37,
   "id": "a882e6b4-7447-46bb-859f-09f1a8039659",
   "metadata": {
    "tags": []
   },
   "outputs": [
    {
     "data": {
      "text/plain": [
       "More than $400k: need to correct funding    123\n",
       "100% GGRF/0046R No action needed             45\n",
       "Less than $400k: no action needed            39\n",
       "Fully expended: no action needed             21\n",
       "100% SB1/0046 No action needed               19\n",
       "Name: Comments, dtype: int64"
      ]
     },
     "execution_count": 37,
     "metadata": {},
     "output_type": "execute_result"
    }
   ],
   "source": [
    "m2.Comments.value_counts()"
   ]
  },
  {
   "cell_type": "code",
   "execution_count": 38,
   "id": "ec528a46-4e3f-49a8-991e-35046107006c",
   "metadata": {
    "scrolled": true,
    "tags": []
   },
   "outputs": [],
   "source": [
    "monetary_cols = ['Sb1 Funding', 'Ggrf Funding',\n",
    "       'Sum Of Allocation Amount', '301R Tot Exp', '101 Tot Exp',\n",
    "       'Sum Of Expenditure', 'Billed', 'Reimbursements',\n",
    "       'Remaining Allocation']"
   ]
  },
  {
   "cell_type": "code",
   "execution_count": 39,
   "id": "f4900485-c345-42b4-b02b-1d9c7c9ed870",
   "metadata": {},
   "outputs": [],
   "source": [
    "m2 = A1_data_prep.currency_format(m2, monetary_cols)"
   ]
  }
 ],
 "metadata": {
  "kernelspec": {
   "display_name": "Python 3 (ipykernel)",
   "language": "python",
   "name": "python3"
  },
  "language_info": {
   "codemirror_mode": {
    "name": "ipython",
    "version": 3
   },
   "file_extension": ".py",
   "mimetype": "text/x-python",
   "name": "python",
   "nbconvert_exporter": "python",
   "pygments_lexer": "ipython3",
   "version": "3.9.13"
  }
 },
 "nbformat": 4,
 "nbformat_minor": 5
}
