{
 "cells": [
  {
   "cell_type": "markdown",
   "id": "c5b46fbc-417e-4ba7-8722-9f7a9ad03787",
   "metadata": {},
   "source": [
    "## GGRF Accounting Analysis\n",
    "* Goal: Narrow down projects from Cycle 3 and beyond that need intervention with allocating funds from GGRF \n",
    "* Project ID as reference: 18000321"
   ]
  },
  {
   "cell_type": "code",
   "execution_count": 127,
   "id": "598c848d-319d-4b26-9ff3-2508cef16308",
   "metadata": {},
   "outputs": [],
   "source": [
    "import A1_data_prep\n",
    "import numpy as np\n",
    "import pandas as pd\n",
    "from calitp.sql import to_snakecase\n",
    "\n",
    "pd.options.display.max_columns = 100\n",
    "pd.options.display.float_format = \"{:.2f}\".format\n",
    "pd.set_option(\"display.max_rows\", None)\n",
    "pd.set_option(\"display.max_colwidth\", None)"
   ]
  },
  {
   "cell_type": "code",
   "execution_count": 128,
   "id": "854c15df-31eb-421f-8f45-19153c92aa86",
   "metadata": {},
   "outputs": [],
   "source": [
    "# Function to clean up project IDS\n",
    "def clean_project_ids(df, project_id_col: str):\n",
    "    # Cast to string\n",
    "    df[project_id_col] = df[project_id_col].astype(\"str\")\n",
    "\n",
    "    # Remove extra zeroes that may appear in front of ID\n",
    "    # https://stackoverflow.com/questions/45923189/remove-first-character-from-pandas-column-if-the-number-1\n",
    "    df[project_id_col] = df[project_id_col].apply(\n",
    "        lambda x: x[2:] if x.startswith(\"0\") else x\n",
    "    )\n",
    "\n",
    "    # Slice to 8 digits if it exceeds that number\n",
    "    df[project_id_col] = df[project_id_col].str.slice(start=0, stop=8)\n",
    "    return df"
   ]
  },
  {
   "cell_type": "markdown",
   "id": "9f449679-e963-4460-b2c4-d0a0e607e293",
   "metadata": {},
   "source": [
    "### Allocation Prep"
   ]
  },
  {
   "cell_type": "code",
   "execution_count": 129,
   "id": "eae8d068-8260-4281-a47a-68aded98bb7b",
   "metadata": {},
   "outputs": [],
   "source": [
    "def prep_allocation():\n",
    "    alloc_subset = [\n",
    "    \"allocation_award_year\",\n",
    "    \"allocation_project_id\",\n",
    "    \"allocation_phase\",\n",
    "    \"allocation_sb1_funding\",\n",
    "    \"allocation_ggrf_funding\",]\n",
    "    \n",
    "    df = A1_data_prep.clean_allocation()[alloc_subset]\n",
    "    \n",
    "    # Filter out project ID that are none and projects starting in 2018 \n",
    "    df = (df[\n",
    "    ((df.allocation_project_id != \"None\") & (df.allocation_award_year >= 2018))]).reset_index(drop = True)\n",
    "    \n",
    "    # Clean up Project ID\n",
    "    df = clean_project_ids(df, \"allocation_project_id\")\n",
    "    \n",
    "    # Group multiple project ID and phase into one row: sum up SB1 and GGRF\n",
    "    df = df.groupby([\"allocation_award_year\",'allocation_project_id','allocation_phase']).agg({'allocation_sb1_funding':'sum', 'allocation_ggrf_funding':'sum'}).reset_index()\n",
    "    \n",
    "    # Sum up SB1 and GGRF\n",
    "    df['Sum of Allocation Amount'] = df['allocation_sb1_funding'] + df['allocation_ggrf_funding']\n",
    "    \n",
    "    return df"
   ]
  },
  {
   "cell_type": "code",
   "execution_count": 130,
   "id": "01d5808e-97af-4ba3-97b0-03027dcad19d",
   "metadata": {},
   "outputs": [],
   "source": [
    "alloc = prep_allocation()"
   ]
  },
  {
   "cell_type": "code",
   "execution_count": 131,
   "id": "5249743c-f178-4386-987b-7b62a3282b86",
   "metadata": {},
   "outputs": [],
   "source": [
    "# Original allocation sheet without \"None\" Project IDs filtered out\n",
    "alloc_original = A1_data_prep.clean_allocation()"
   ]
  },
  {
   "cell_type": "code",
   "execution_count": 133,
   "id": "610d0172-fd37-46e5-b2bd-ee9cb81ff3f9",
   "metadata": {},
   "outputs": [
    {
     "data": {
      "text/plain": [
       "(370, 53)"
      ]
     },
     "execution_count": 133,
     "metadata": {},
     "output_type": "execute_result"
    }
   ],
   "source": [
    "alloc_original.shape"
   ]
  },
  {
   "cell_type": "code",
   "execution_count": 134,
   "id": "3e6aa2fd-9f09-462d-9cbe-18ae967bb8dc",
   "metadata": {},
   "outputs": [
    {
     "data": {
      "text/plain": [
       "(200, 200)"
      ]
     },
     "execution_count": 134,
     "metadata": {},
     "output_type": "execute_result"
    }
   ],
   "source": [
    "len(alloc), alloc.allocation_project_id.nunique()"
   ]
  },
  {
   "cell_type": "markdown",
   "id": "d5f0fc3e-1500-4d68-b073-a50d4c04b188",
   "metadata": {},
   "source": [
    "### Expenditures Prep "
   ]
  },
  {
   "cell_type": "code",
   "execution_count": 135,
   "id": "005b67f2-0027-4561-84ea-46e73479bc82",
   "metadata": {},
   "outputs": [],
   "source": [
    "def prep_expenditures():\n",
    "    # Load in original sheet\n",
    "    df = pd.read_excel(\n",
    "        f\"{A1_data_prep.GCS_FILE_PATH}3010_3020 Expenditure for fund 0046.xls\",\n",
    "        sheet_name=\"Download\",\n",
    "    )\n",
    "\n",
    "    # First 10 columns or so are not data, drop them\n",
    "    df = df.iloc[9:].reset_index(drop=True)\n",
    "\n",
    "    # The first row contains column names - update it to the column\n",
    "    df.columns = df.iloc[0]\n",
    "\n",
    "    # Drop the first row as they are now column names\n",
    "    df = df.drop(df.index[0]).reset_index(drop=True)\n",
    "\n",
    "    df = to_snakecase(df)\n",
    "    \n",
    "    # Only grab records from 2018 and beyond\n",
    "    df = (df.loc[df[\"fy\"] > \"2017\"]).reset_index()\n",
    "    \n",
    "    # Subset to only columns of interest\n",
    "    subset = [\"fy\", \"fund\", \"appr_unit\", \"project\", \"project_name\", \"tot_exp\"]\n",
    "    df = df[subset]\n",
    "    \n",
    "    # Clean up project ID\n",
    "    df = clean_project_ids(df, \"project\")\n",
    "    \n",
    "    return df"
   ]
  },
  {
   "cell_type": "code",
   "execution_count": 136,
   "id": "b0769924-1f6c-461e-948b-fdeb02dba3cc",
   "metadata": {},
   "outputs": [],
   "source": [
    "# Search for the appr_unit code that corresponds with either SB1/GGRF\n",
    "# Aggregate the results by project ID and name\n",
    "def split_ggrf_sb1_expenditures(df, appr_unit_wanted: str, ):\n",
    "    \n",
    "    # Search through for the appr_unit\n",
    "    df = df.loc[df.appr_unit.str.contains(appr_unit_wanted)].reset_index(drop=True)\n",
    "    \n",
    "    # Group by project ID \n",
    "    df = df.groupby(['project',]).agg({'tot_exp':'sum'}).reset_index()\n",
    "    \n",
    "    # Rename total expenditures column with the appr_unit\n",
    "    df = df.rename(columns = {'tot_exp': f'{appr_unit_wanted}_tot_exp'}) \n",
    "    \n",
    "    return df"
   ]
  },
  {
   "cell_type": "code",
   "execution_count": 137,
   "id": "14c2d6fc-db7d-47d6-be38-b9752ba524f4",
   "metadata": {},
   "outputs": [],
   "source": [
    "# Load expenditures, split df by GGRF and Sb1, and join them bacak together for the final dataframe.\n",
    "def aggregate_expenditures():\n",
    "    df = prep_expenditures()\n",
    "    \n",
    "    # Find and sum up GGRF funds\n",
    "    df_ggrf =  split_ggrf_sb1_expenditures(df, '301R')\n",
    "    \n",
    "    # Find and sum up SB1 funds\n",
    "    df_sb1 =  split_ggrf_sb1_expenditures(df, '101')\n",
    "    \n",
    "    m1 = pd.merge(\n",
    "    df_ggrf,\n",
    "    df_sb1,\n",
    "    how=\"outer\",\n",
    "    on = [\"project\"],\n",
    "    indicator=True,)\n",
    "    \n",
    "    # Create sum column of both funds\n",
    "    m1['Sum of Expenditure'] = m1['301R_tot_exp'] + m1['101_tot_exp'] \n",
    "    return m1 "
   ]
  },
  {
   "cell_type": "code",
   "execution_count": 138,
   "id": "9bebaf7e-5faf-4da8-86b8-8d1ba57a5c71",
   "metadata": {},
   "outputs": [],
   "source": [
    "expenditure =  aggregate_expenditures()"
   ]
  },
  {
   "cell_type": "code",
   "execution_count": 139,
   "id": "0237a734-fa8d-4e2b-909e-26f982a6c70f",
   "metadata": {},
   "outputs": [
    {
     "data": {
      "text/plain": [
       "right_only    80\n",
       "both          52\n",
       "left_only     40\n",
       "Name: _merge, dtype: int64"
      ]
     },
     "execution_count": 139,
     "metadata": {},
     "output_type": "execute_result"
    }
   ],
   "source": [
    "expenditure._merge.value_counts()"
   ]
  },
  {
   "cell_type": "markdown",
   "id": "6ea0a587-cab9-42ee-af4c-0b4f4d729dfa",
   "metadata": {},
   "source": [
    "#### Double check project ids w/ original dataframe before groupby"
   ]
  },
  {
   "cell_type": "code",
   "execution_count": 140,
   "id": "e24b4a4d-6cce-460b-9898-82ee7963880d",
   "metadata": {},
   "outputs": [],
   "source": [
    "og_expenditure = pd.read_excel(\n",
    "        f\"{A1_data_prep.GCS_FILE_PATH}3010_3020 Expenditure for fund 0046.xls\",\n",
    "        sheet_name=\"Download\",\n",
    "    )"
   ]
  },
  {
   "cell_type": "code",
   "execution_count": 141,
   "id": "d8b994dd-de2c-486e-b346-96c7f5d80640",
   "metadata": {},
   "outputs": [],
   "source": [
    "og_expenditure = og_expenditure.iloc[9:].reset_index(drop=True)"
   ]
  },
  {
   "cell_type": "code",
   "execution_count": 142,
   "id": "2a702bf2-fa39-417e-8d70-bd18221e4499",
   "metadata": {},
   "outputs": [],
   "source": [
    "og_expenditure.columns =  og_expenditure.iloc[0]"
   ]
  },
  {
   "cell_type": "code",
   "execution_count": 143,
   "id": "e725aaa0-52a7-4051-905f-8ded92146af5",
   "metadata": {},
   "outputs": [],
   "source": [
    "og_expenditure =  og_expenditure.drop(og_expenditure.index[0]).reset_index(drop=True)"
   ]
  },
  {
   "cell_type": "code",
   "execution_count": 144,
   "id": "03bb2a59-9acf-4f26-bdf9-bc6d28246039",
   "metadata": {},
   "outputs": [],
   "source": [
    "og_expenditure = (og_expenditure.loc[og_expenditure[\"FY\"] > \"2017\"]).reset_index()"
   ]
  },
  {
   "cell_type": "code",
   "execution_count": 145,
   "id": "0b9a3cb9-1dc1-48a9-9561-b050d291dfa3",
   "metadata": {},
   "outputs": [
    {
     "data": {
      "text/plain": [
       "2022    279\n",
       "2021    222\n",
       "2020    208\n",
       "2023    189\n",
       "2018    180\n",
       "2019    172\n",
       "Name: FY, dtype: int64"
      ]
     },
     "execution_count": 145,
     "metadata": {},
     "output_type": "execute_result"
    }
   ],
   "source": [
    "og_expenditure.FY.value_counts()"
   ]
  },
  {
   "cell_type": "code",
   "execution_count": 146,
   "id": "32cd0fb9-40ef-46d5-86c9-75aa512504ca",
   "metadata": {},
   "outputs": [],
   "source": [
    "og_expenditure = og_expenditure[\n",
    "    og_expenditure[\"Appr Unit\"].str.contains(\"101\") | og_expenditure[\"Appr Unit\"].str.contains(\"301R\")\n",
    "]"
   ]
  },
  {
   "cell_type": "code",
   "execution_count": 147,
   "id": "c3d7bf5a-2a05-43a6-a7aa-0b5e919e427c",
   "metadata": {},
   "outputs": [],
   "source": [
    "og_expenditure = clean_project_ids(og_expenditure, \"Project\")"
   ]
  },
  {
   "cell_type": "code",
   "execution_count": 148,
   "id": "8ca1a43d-2939-421b-bc96-d14f8f9a1d75",
   "metadata": {
    "tags": []
   },
   "outputs": [
    {
     "data": {
      "text/plain": [
       "(172, 172, 423, 172)"
      ]
     },
     "execution_count": 148,
     "metadata": {},
     "output_type": "execute_result"
    }
   ],
   "source": [
    "len(expenditure), expenditure.project.nunique(), len(og_expenditure), og_expenditure.Project.nunique()"
   ]
  },
  {
   "cell_type": "code",
   "execution_count": 149,
   "id": "b0c0996f-823a-4059-b11d-dd7bfb233b0d",
   "metadata": {},
   "outputs": [
    {
     "data": {
      "text/plain": [
       "set()"
      ]
     },
     "execution_count": 149,
     "metadata": {},
     "output_type": "execute_result"
    }
   ],
   "source": [
    "# check to see if 2 columns are the same\n",
    "project_id_grouped = set(expenditure.project.unique().tolist())\n",
    "project_id_og = set( og_expenditure.Project.unique().tolist())\n",
    "project_id_og - project_id_grouped"
   ]
  },
  {
   "cell_type": "markdown",
   "id": "c68880f0-12fc-4a62-9ade-bea315083701",
   "metadata": {},
   "source": [
    "### Project Status Prep"
   ]
  },
  {
   "cell_type": "code",
   "execution_count": 150,
   "id": "c040b470-c815-4202-8c0c-7abed6c3d711",
   "metadata": {},
   "outputs": [],
   "source": [
    "def prep_project_status():\n",
    "    df = pd.read_excel(\n",
    "        f\"{A1_data_prep.GCS_FILE_PATH}Project status for fund 0046 as of 12-5-22.xls\",\n",
    "        sheet_name=\"Download\",\n",
    "    )\n",
    "    \n",
    "    # First few rows are not data\n",
    "    df = df.iloc[6:].reset_index(drop=True)\n",
    "    \n",
    "    # Cast first row as column names\n",
    "    df.columns = df.iloc[0]\n",
    "\n",
    "    # Drop the first row as they are now column names\n",
    "    df = df.drop(df.index[0]).reset_index(drop=True)\n",
    "\n",
    "    # Coerce certain columns to numeric\n",
    "    df[[\"Billed\", \"Reimbursements\"]] = df[[\"Billed\", \"Reimbursements\"]].apply(\n",
    "        pd.to_numeric, errors=\"coerce\"\n",
    "    )\n",
    "    # Group project id so the same ones will be on one line\n",
    "    df = (\n",
    "        df.groupby([\"Project\"])\n",
    "        .agg({\"Billed\": \"sum\", \"Reimbursements\": \"sum\"})\n",
    "        .reset_index()\n",
    "    )\n",
    "\n",
    "    df = to_snakecase(df)\n",
    "    \n",
    "    # Clean project names\n",
    "    df = clean_project_ids(df, \"project\")\n",
    "    \n",
    "    return df"
   ]
  },
  {
   "cell_type": "code",
   "execution_count": 151,
   "id": "ccd6435b-a2ae-483a-bfc9-40e6d2c19bc0",
   "metadata": {},
   "outputs": [],
   "source": [
    "project_status = prep_project_status()"
   ]
  },
  {
   "cell_type": "code",
   "execution_count": 152,
   "id": "99946d81-4f48-4d68-bfbc-e16a0987ed04",
   "metadata": {},
   "outputs": [
    {
     "data": {
      "text/plain": [
       "52"
      ]
     },
     "execution_count": 152,
     "metadata": {},
     "output_type": "execute_result"
    }
   ],
   "source": [
    "project_status.project.nunique()"
   ]
  },
  {
   "cell_type": "markdown",
   "id": "42d2e47a-1183-4e5b-bd60-01df5425e86f",
   "metadata": {},
   "source": [
    "#### Double check project ids w/ original dataframe before groupby"
   ]
  },
  {
   "cell_type": "code",
   "execution_count": 153,
   "id": "0ec336bb-4fe3-4be2-810c-94ff1c0d9a21",
   "metadata": {},
   "outputs": [],
   "source": [
    "project_status_og = pd.read_excel(\n",
    "        f\"{A1_data_prep.GCS_FILE_PATH}Project status for fund 0046 as of 12-5-22.xls\",\n",
    "        sheet_name=\"Download\",\n",
    "    )"
   ]
  },
  {
   "cell_type": "code",
   "execution_count": 154,
   "id": "c64a820a-2460-409d-b8b0-091c52fbc32c",
   "metadata": {},
   "outputs": [],
   "source": [
    "# First few rows are not data\n",
    "project_status_og = project_status_og.iloc[6:].reset_index(drop=True)\n",
    "    \n",
    "# Cast first row as column names\n",
    "project_status_og.columns = project_status_og.iloc[0]\n",
    "\n",
    "# Drop the first row as they are now column names\n",
    "project_status_og= project_status_og.drop(project_status_og.index[0]).reset_index(drop=True)"
   ]
  },
  {
   "cell_type": "code",
   "execution_count": 155,
   "id": "7b3f59ae-e5eb-454b-af1a-755dbe7d71ad",
   "metadata": {},
   "outputs": [
    {
     "data": {
      "text/plain": [
       "52"
      ]
     },
     "execution_count": 155,
     "metadata": {},
     "output_type": "execute_result"
    }
   ],
   "source": [
    "project_status_og.Project.nunique()"
   ]
  },
  {
   "cell_type": "markdown",
   "id": "3e390d88-b00d-4f57-9486-f8263a13b4e2",
   "metadata": {},
   "source": [
    "## Final Analysis - DRAFT\n",
    "### Merge 1"
   ]
  },
  {
   "cell_type": "code",
   "execution_count": 156,
   "id": "daa3a0d6-78e1-4125-bba6-fb9d6d16200b",
   "metadata": {},
   "outputs": [],
   "source": [
    "m1 = pd.merge(\n",
    "    alloc,\n",
    "    expenditure.drop(columns = ['_merge']),\n",
    "    how=\"left\",\n",
    "    left_on=\"allocation_project_id\",\n",
    "    right_on=\"project\",\n",
    "    indicator=True,\n",
    ")"
   ]
  },
  {
   "cell_type": "code",
   "execution_count": 157,
   "id": "9f858814-469f-45b7-8be6-f078999952d0",
   "metadata": {},
   "outputs": [
    {
     "data": {
      "text/plain": [
       "both          110\n",
       "left_only      90\n",
       "right_only      0\n",
       "Name: _merge, dtype: int64"
      ]
     },
     "execution_count": 157,
     "metadata": {},
     "output_type": "execute_result"
    }
   ],
   "source": [
    "m1._merge.value_counts()"
   ]
  },
  {
   "cell_type": "code",
   "execution_count": 158,
   "id": "4fbce1aa-41b2-4a75-81f5-eb30fcca4e1f",
   "metadata": {},
   "outputs": [],
   "source": [
    "m1 = m1.rename(columns = {'_merge':'Allocation_Expenditure_Merge'})"
   ]
  },
  {
   "cell_type": "code",
   "execution_count": 159,
   "id": "dbe1d0de-dc31-4879-80b0-f44aac89fedc",
   "metadata": {},
   "outputs": [],
   "source": [
    "m1.Allocation_Expenditure_Merge = m1.Allocation_Expenditure_Merge.replace(\n",
    "    {'both':'Project ID in TIRCP Tracking and 3010_3020 Expenditure for fund 0046',\n",
    "     'left_only':'Project ID only in TIRCP Tracking'})"
   ]
  },
  {
   "cell_type": "code",
   "execution_count": 160,
   "id": "90eee3d0-558e-4a28-a0c7-77aa4ce7664a",
   "metadata": {},
   "outputs": [
    {
     "data": {
      "text/plain": [
       "Project ID in TIRCP Tracking and 3010_3020 Expenditure for fund 0046    110\n",
       "Project ID only in TIRCP Tracking                                        90\n",
       "Name: Allocation_Expenditure_Merge, dtype: int64"
      ]
     },
     "execution_count": 160,
     "metadata": {},
     "output_type": "execute_result"
    }
   ],
   "source": [
    "m1.Allocation_Expenditure_Merge.value_counts()"
   ]
  },
  {
   "cell_type": "code",
   "execution_count": 161,
   "id": "eb3f3762-7f2f-4f6b-b1a3-238ec2ea2e01",
   "metadata": {},
   "outputs": [],
   "source": [
    "m1 = m1.drop(columns = ['project'])"
   ]
  },
  {
   "cell_type": "code",
   "execution_count": 162,
   "id": "11b10ff6-86ef-4f43-b762-12def92adf1f",
   "metadata": {},
   "outputs": [
    {
     "data": {
      "text/plain": [
       "(200, 200)"
      ]
     },
     "execution_count": 162,
     "metadata": {},
     "output_type": "execute_result"
    }
   ],
   "source": [
    "len(m1), len(alloc)"
   ]
  },
  {
   "cell_type": "markdown",
   "id": "f9ca7065-f5f7-41eb-8d10-bc5e66ef6d79",
   "metadata": {},
   "source": [
    "### Merge 2"
   ]
  },
  {
   "cell_type": "code",
   "execution_count": 163,
   "id": "dcfc6b0e-f853-444c-af9d-183818fe6df1",
   "metadata": {},
   "outputs": [],
   "source": [
    "m2 = pd.merge(\n",
    "    m1,\n",
    "    project_status,\n",
    "    how=\"left\",\n",
    "    left_on=\"allocation_project_id\",\n",
    "    right_on=\"project\",\n",
    "    indicator=True,\n",
    ")"
   ]
  },
  {
   "cell_type": "code",
   "execution_count": 164,
   "id": "2e5d5311-8892-4aa9-800b-67dd272a0be7",
   "metadata": {
    "tags": []
   },
   "outputs": [
    {
     "data": {
      "text/plain": [
       "left_only     150\n",
       "both           50\n",
       "right_only      0\n",
       "Name: _merge, dtype: int64"
      ]
     },
     "execution_count": 164,
     "metadata": {},
     "output_type": "execute_result"
    }
   ],
   "source": [
    "m2._merge.value_counts()"
   ]
  },
  {
   "cell_type": "code",
   "execution_count": 165,
   "id": "593729fa-c958-422e-b32c-0674e80970bf",
   "metadata": {
    "scrolled": true,
    "tags": []
   },
   "outputs": [],
   "source": [
    "m2 = m2.drop(columns = ['project'])"
   ]
  },
  {
   "cell_type": "code",
   "execution_count": 166,
   "id": "13e0da12-ed90-43fa-9916-6186c7e8c596",
   "metadata": {},
   "outputs": [],
   "source": [
    "m2 = m2.rename(columns = {'_merge':'Allocation_Project_Status_Merge'})"
   ]
  },
  {
   "cell_type": "code",
   "execution_count": 167,
   "id": "ce8f2ef6-0279-4598-b62e-b07a71135456",
   "metadata": {},
   "outputs": [],
   "source": [
    "m2.Allocation_Project_Status_Merge = m2.Allocation_Project_Status_Merge.replace(\n",
    "    {'both':'Project ID in TIRCP Tracking and Project_Status',\n",
    "     'left_only':'Project ID only in TIRCP Tracking'})"
   ]
  },
  {
   "cell_type": "code",
   "execution_count": 168,
   "id": "169674f6-32c7-46b0-9d85-d9d37a69f088",
   "metadata": {
    "tags": []
   },
   "outputs": [
    {
     "data": {
      "text/plain": [
       "allocation_award_year             0.00\n",
       "allocation_project_id             0.00\n",
       "allocation_phase                  0.00\n",
       "allocation_sb1_funding            0.00\n",
       "allocation_ggrf_funding           0.00\n",
       "Sum of Allocation Amount          0.00\n",
       "301R_tot_exp                      0.73\n",
       "101_tot_exp                       0.46\n",
       "Sum of Expenditure                0.74\n",
       "Allocation_Expenditure_Merge      0.00\n",
       "billed                            0.75\n",
       "reimbursements                    0.75\n",
       "Allocation_Project_Status_Merge   0.00\n",
       "dtype: float64"
      ]
     },
     "execution_count": 168,
     "metadata": {},
     "output_type": "execute_result"
    }
   ],
   "source": [
    "(m2.isna().sum())/len(m2)"
   ]
  },
  {
   "cell_type": "markdown",
   "id": "2db34914-ae5c-452d-85b9-ab9d44e4cffd",
   "metadata": {},
   "source": [
    "### Clean up"
   ]
  },
  {
   "cell_type": "code",
   "execution_count": 169,
   "id": "5fd94640-4c3e-4c05-9eeb-4cf0c5537a27",
   "metadata": {},
   "outputs": [],
   "source": [
    "m2 = A1_data_prep.clean_up_columns(m2).fillna(0)"
   ]
  },
  {
   "cell_type": "code",
   "execution_count": 170,
   "id": "44ad8ce9-d9a0-4dca-8bea-3b3da8c36c94",
   "metadata": {},
   "outputs": [],
   "source": [
    "m2 = m2.rename(columns = \n",
    "    {'Id':'Project ID',\n",
    "     'Sb1 Funding': 'Sum of Sb1 Funding', \n",
    "     'Ggrf Funding': 'Sum of GGRF Funding',\n",
    "     '101 Tot Exp':\"Sum of SB1 (0046, xx101 Expenditure)\",\n",
    "     '301R Tot Exp': \"Sum of GGRF (0046, xx301R expenditure)\",\n",
    "     'Billed':'Sum Billed',\n",
    "     'Reimbursements':'Sum of Reimbursements'})\n"
   ]
  },
  {
   "cell_type": "code",
   "execution_count": 171,
   "id": "821ee3c3-d72d-4ba0-99f3-2a5243ff8dde",
   "metadata": {
    "scrolled": true,
    "tags": []
   },
   "outputs": [],
   "source": [
    "m2['Remaining Allocation'] = m2['Sum Of Allocation Amount'] - m2['Sum Of Expenditure']"
   ]
  },
  {
   "cell_type": "code",
   "execution_count": 172,
   "id": "1d9649a2-b561-4d27-8ec7-4d7cb3de8bb3",
   "metadata": {},
   "outputs": [],
   "source": [
    "# Tag if a project's desc has a SHS keyword/SHS keywords or not\n",
    "def keywords(row):\n",
    "    \n",
    "    if row[\"Sum Of Allocation Amount\"] == row[\"Sum of GGRF Funding\"]:\n",
    "        return \"100% GGRF/0046R: no action needed\"\n",
    "    \n",
    "    elif row[\"Sum Of Allocation Amount\"] == row[\"Sum of Sb1 Funding\"]:\n",
    "        return \"100% SB1/0046: no action needed\"\n",
    "    \n",
    "    elif (row['Allocation Expenditure Merge'] == 'Project ID only in TIRCP Tracking') & (row['Allocation Project Status Merge'] == 'Project ID only in TIRCP Tracking'): \n",
    "        return \"Project ID only found in TIRCP Tracking 2.0\"\n",
    "    \n",
    "    elif row[\"Sum Of Allocation Amount\"] == 0: \n",
    "        return \"No monetary info from TIRCP Tracking 2.0\"\n",
    "    \n",
    "    elif row[\"Remaining Allocation\"] == 0: \n",
    "        return \"Fully expended: no action needed\"\n",
    "    \n",
    "    elif row[\"Remaining Allocation\"] >= 400000: \n",
    "        return \"More than $400k: need to correct funding\"\n",
    "    \n",
    "    elif row[\"Remaining Allocation\"] < 0: \n",
    "        return \"Negative Remaining Allocation\"\n",
    "    \n",
    "    elif row[\"Remaining Allocation\"] <= 400000: \n",
    "        return \"Less than $400k: no action needed\"\n",
    "        \n",
    "    # Everything else is not enough info\n",
    "    else:\n",
    "        return \"Manual Comment\"\n",
    "    "
   ]
  },
  {
   "cell_type": "code",
   "execution_count": 173,
   "id": "3c4326db-0d01-4d50-b1e5-42d9cc6736ed",
   "metadata": {},
   "outputs": [],
   "source": [
    "# Apply the function\n",
    "m2[\"Comments\"] = m2.apply(keywords, axis=1)"
   ]
  },
  {
   "cell_type": "code",
   "execution_count": 174,
   "id": "a882e6b4-7447-46bb-859f-09f1a8039659",
   "metadata": {
    "tags": []
   },
   "outputs": [
    {
     "data": {
      "text/plain": [
       "Project ID only found in TIRCP Tracking 2.0    86\n",
       "More than $400k: need to correct funding       52\n",
       "Less than $400k: no action needed              20\n",
       "100% SB1/0046: no action needed                18\n",
       "Fully expended: no action needed               17\n",
       "Negative Remaining Allocation                   4\n",
       "100% GGRF/0046R: no action needed               3\n",
       "Name: Comments, dtype: int64"
      ]
     },
     "execution_count": 174,
     "metadata": {},
     "output_type": "execute_result"
    }
   ],
   "source": [
    "m2.Comments.value_counts()"
   ]
  },
  {
   "cell_type": "code",
   "execution_count": 175,
   "id": "e6ec9325-53f6-459b-a1d6-cc6efea1829c",
   "metadata": {},
   "outputs": [],
   "source": [
    "right_col_order = ['Award Year', 'Project ID', 'Phase', 'Sum of Sb1 Funding',\n",
    "       'Sum of GGRF Funding', 'Sum Of Allocation Amount',\n",
    "       'Sum of GGRF (0046, xx301R expenditure)',\n",
    "       'Sum of SB1 (0046, xx101 Expenditure)', 'Sum Of Expenditure',\n",
    "       'Sum Billed', 'Sum of Reimbursements',\n",
    "       'Remaining Allocation',  'Comments',  'Allocation Project Status Merge', 'Allocation Expenditure Merge', ]"
   ]
  },
  {
   "cell_type": "code",
   "execution_count": 176,
   "id": "05e0b36e-c41f-4880-90eb-4c3a5de3b7d2",
   "metadata": {},
   "outputs": [],
   "source": [
    "m2 = m2[right_col_order]"
   ]
  },
  {
   "cell_type": "code",
   "execution_count": 177,
   "id": "95af177c-32ce-48a9-8f9d-2a12ef9294a7",
   "metadata": {
    "tags": []
   },
   "outputs": [
    {
     "data": {
      "text/plain": [
       "114"
      ]
     },
     "execution_count": 177,
     "metadata": {},
     "output_type": "execute_result"
    }
   ],
   "source": [
    "200-86"
   ]
  },
  {
   "cell_type": "code",
   "execution_count": 180,
   "id": "32bc9a37-df43-4160-9e80-c0a8742c0100",
   "metadata": {},
   "outputs": [],
   "source": [
    "# Export  \n",
    "# m2.to_excel(f\"{A1_data_prep.GCS_FILE_PATH}accounting_analysis.xlsx\", sheet_name=\"accounting_analysis\", index=False)"
   ]
  }
 ],
 "metadata": {
  "kernelspec": {
   "display_name": "Python 3 (ipykernel)",
   "language": "python",
   "name": "python3"
  },
  "language_info": {
   "codemirror_mode": {
    "name": "ipython",
    "version": 3
   },
   "file_extension": ".py",
   "mimetype": "text/x-python",
   "name": "python",
   "nbconvert_exporter": "python",
   "pygments_lexer": "ipython3",
   "version": "3.9.13"
  }
 },
 "nbformat": 4,
 "nbformat_minor": 5
}
