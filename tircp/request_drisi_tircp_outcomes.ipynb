{
 "cells": [
  {
   "cell_type": "markdown",
   "id": "83709b77-d340-42e6-bbc4-35d683947460",
   "metadata": {},
   "source": [
    "## TIRCP DRISI\n",
    "* DRISI emailed a request asking for TIRCP outcomes for cycles 3-5.  \n",
    "* [Cycles 1-6](https://calsta.ca.gov/subject-areas/transit-intercity-rail-capital-prog)\n",
    "* Cycle 1: 2015\n",
    "* Cycle 2: 2016\n",
    "* Cycle 3: 2018\n",
    "* Cycle 4: 2020\n",
    "* Cycle 5: 2022\n",
    "* Cycle 6: 2023\n",
    "\n",
    "<b>Notes 2/7/23</b>\n",
    "* Application is different than what we have in the dataset.\n",
    "* Outputs: hydrogen-battery fuel cell.\n",
    "* DRISI wants the data before end of this week.\n",
    "* Outputs\n",
    "    * Category for outputs: transit/multimodal or rail/multimodal. \n",
    "    * Pull it from `allocations` tab.\n",
    "    * Filter out design categories. We only care about 'CONST'.\n",
    "    * Transit/Multimodal\n",
    "        * Buses breakout between mobile/school/etc. Unit is each.\n",
    "            * Microtransit\n",
    "            * Bus Conversion\n",
    "            * Zero emmission (don't distinguish between hydrogen vs battery)\n",
    "            * Battery Electric\n",
    "            * Ferries\n",
    "    * Rail/Multimodal\n",
    "        * Trolleys\n",
    "        * Trains/Cars/Coach/Rolling Stocks\n",
    "        * Traffic Control\n",
    "    * Track\n",
    "        * Track Extension\n",
    "        * Double Track\n",
    "    * Network Integration improves multimodal network so everything is synced. \n",
    "    * Parking Lots/Parking Deck\n",
    "    * Active Transportation\n",
    "        * Bike Shelters/Shade Structures\n",
    "        * Bike and Pedestrians Improvements\n",
    "    * Facilities\n",
    "        * Center/Facility/Station/Station/Hub/Islands\n",
    "    * Charging Infrastructure. \n",
    "    * Storm Drain Line\n",
    "    * Street Extension\n",
    "    * Charging\n",
    "    * Signaling\n",
    "* Outcomes\n",
    "    * On Time Performance\n",
    "        * Expanded Service\n",
    "        * Routes \n",
    "        * Ridership"
   ]
  },
  {
   "cell_type": "code",
   "execution_count": 81,
   "id": "de5e8978-cecf-44cf-9a92-e2282e3b2e61",
   "metadata": {
    "tags": []
   },
   "outputs": [],
   "source": [
    "import A1_data_prep\n",
    "import A2_tableau\n",
    "import A8_strings\n",
    "import numpy as np\n",
    "import pandas as pd\n",
    "from babel.numbers import format_currency\n",
    "from calitp import *"
   ]
  },
  {
   "cell_type": "code",
   "execution_count": 82,
   "id": "b4635aa5-1ab6-4247-a1be-61d59f07c4ff",
   "metadata": {},
   "outputs": [],
   "source": [
    "pd.options.display.max_columns = 125\n",
    "pd.options.display.float_format = \"{:.2f}\".format\n",
    "pd.set_option(\"display.max_rows\", None)\n",
    "pd.set_option(\"display.max_colwidth\", None)"
   ]
  },
  {
   "cell_type": "code",
   "execution_count": 83,
   "id": "b8d3d0ef-e239-4aeb-9f18-2ec76a39b012",
   "metadata": {},
   "outputs": [],
   "source": [
    "# GCS File Path:\n",
    "GCS_FILE_PATH = f\"{A1_data_prep.GCS_FILE_PATH}DRISI/\""
   ]
  },
  {
   "cell_type": "markdown",
   "id": "b22ca6cb-f08e-4e7d-8ed1-05d364c8719b",
   "metadata": {
    "tags": []
   },
   "source": [
    "## Prep Functions"
   ]
  },
  {
   "cell_type": "code",
   "execution_count": 84,
   "id": "f2ccdb66-00c1-4d79-995f-62e2774c46f4",
   "metadata": {},
   "outputs": [],
   "source": [
    "def read_in_files(file_name: str, columns_to_drop: list):\n",
    "    \"\"\"\n",
    "    Prepping the award project, implemented project,\n",
    "    and outcome project details Excel file.\n",
    "    \"\"\"\n",
    "    df = to_snakecase(pd.read_excel(f\"{GCS_FILE_PATH}{file_name}\"))\n",
    "\n",
    "    df = df.drop(columns=columns_to_drop)\n",
    "    \n",
    "    # Delete any columns with the following strings\n",
    "    df = df.loc[:, ~df.columns.str.contains(\"funding|recipient|date|cost|program|amount|name|description\")]\n",
    "    \n",
    "    df = df.fillna(df.dtypes.replace({\"float64\": 0.0, \"object\": \"None\"}))\n",
    "    \n",
    "    return df"
   ]
  },
  {
   "cell_type": "code",
   "execution_count": 85,
   "id": "39931a2a-65e6-425c-9e42-2cfb7204b05c",
   "metadata": {},
   "outputs": [],
   "source": [
    "def merge_value_counts(left_df, right_df, left_m_col:str, right_m_col:str):\n",
    "    \"\"\"\n",
    "    Merging datasets methodologically. \n",
    "    Find columns that intersect and drop them from\n",
    "    the right dataframe. Return 2 merged dataframes,\n",
    "    one left and one outer.\n",
    "    \"\"\"\n",
    "    # Some of these sheets have repeated columns\n",
    "    # Del them off so the info isn't repeated again\n",
    "    left_df_cols = left_df.columns\n",
    "    right_df_cols = right_df.columns\n",
    "    common_cols = right_df_cols.intersection(left_df_cols)\n",
    "    common_cols = common_cols.to_list()\n",
    "    \n",
    "    right_df = right_df.drop(columns = common_cols) \n",
    "    \n",
    "    # One df for an outer merge just for checking both/left only/right only vals\n",
    "    outer = pd.merge(left_df, right_df, how=\"outer\", left_on=left_m_col, right_on=right_m_col, indicator=True)\n",
    "    \n",
    "    # One for left\n",
    "    left =  pd.merge(left_df, right_df, how=\"left\",  left_on=left_m_col, right_on=right_m_col)\n",
    "\n",
    "    return outer, left"
   ]
  },
  {
   "cell_type": "markdown",
   "id": "a2036b3c-036e-4fe5-b83f-31070ef5ac6d",
   "metadata": {},
   "source": [
    "## Outputs #1 \n",
    "### Manipulate TIRCP Project Sheet"
   ]
  },
  {
   "cell_type": "code",
   "execution_count": 86,
   "id": "33ecb748-7cf6-4928-974b-8c326054fc56",
   "metadata": {},
   "outputs": [],
   "source": [
    "allocation_cols = [\n",
    "    \"allocation_ppno\",\n",
    "    \"allocation_award_year\",\n",
    "    \"allocation_components\",\n",
    "    \"allocation_phase\",\n",
    "]\n",
    "project_cols = [\n",
    "    \"project_ppno\",\n",
    "    \"project_award_year\",\n",
    "    \"project_project_#\",\n",
    "    \"project_project_title\",\n",
    "    \"project_project_description\",\n",
    "    \"project_grant_recipient\",\n",
    "]"
   ]
  },
  {
   "cell_type": "code",
   "execution_count": 87,
   "id": "16f3fb8b-ed5d-48bb-a2cf-d57b0f46b598",
   "metadata": {},
   "outputs": [],
   "source": [
    "def output_tircp(project_cols_to_keep:list, allocation_cols_to_keep:list):\n",
    "    \"\"\"\n",
    "    Clean up TIRCP workbook before searching\n",
    "    through the components and project \n",
    "    descriptions. \n",
    "    \"\"\"\n",
    "    # Read in a joined allocation-project sheet\n",
    "    df = A1_data_prep.merge_allocation_project(project_cols_to_keep, allocation_cols_to_keep, \"left\")\n",
    "    \n",
    "    # Drop irrelevant years & non-construction.\n",
    "    df = df[(df[\"project_award_year\"] >= 2018)].reset_index(drop=True)\n",
    "\n",
    "    # Sort df by award year, number, and phase.\n",
    "    df = df.sort_values(\n",
    "    [\"project_award_year\", \"project_project_#\", \"allocation_phase\"])\n",
    "    \n",
    "    # Drop duplicates by ppno and allocation componentes\n",
    "    # Sorted by allocation phase, so construction is kept\n",
    "    # if components is the same across multiple phases\n",
    "    df = (\n",
    "    df.drop_duplicates(subset=[\"project_ppno\", \"allocation_components\"])\n",
    "    ).reset_index(drop=True)\n",
    "    \n",
    "    # Create project number\n",
    "    # Map 0 to another single digit numbers\n",
    "    # https://stackoverflow.com/questions/20990863/python-pandas-add-leading-zero-to-make-all-months-2-digits\n",
    "    df[\"project_number\"] = (\n",
    "    df[\"project_award_year\"].astype(str) + \"-\" + df[\"project_project_#\"].map(\"{:02}\".format).astype(str))\n",
    "    \n",
    "    # For projects that don't have any allocation components info\n",
    "    # fill it in with project description\n",
    "    df.allocation_components = df.allocation_components.fillna(\n",
    "    df.project_project_description\n",
    "    )\n",
    "    \n",
    "    return df"
   ]
  },
  {
   "cell_type": "code",
   "execution_count": 88,
   "id": "0f30fe75-3a51-4af1-b172-75b02996dc81",
   "metadata": {
    "tags": []
   },
   "outputs": [],
   "source": [
    "tircp3 = output_tircp(project_cols, allocation_cols)"
   ]
  },
  {
   "cell_type": "markdown",
   "id": "e40fb305-ed0b-4d2e-b0af-edc5125dff39",
   "metadata": {},
   "source": [
    "### Extract Outputs"
   ]
  },
  {
   "cell_type": "code",
   "execution_count": 89,
   "id": "2ebd9504-203f-48d4-ba45-5cac975a6417",
   "metadata": {},
   "outputs": [],
   "source": [
    "# Simplify allocation components before extracting digits\n",
    "tircp3 = A8_strings.simplify_descriptions(\n",
    "    tircp3,\n",
    "    \"allocation_components\",\n",
    "    \"clean_components\",\n",
    "    A8_strings.description_words_to_delete,\n",
    ")"
   ]
  },
  {
   "cell_type": "code",
   "execution_count": 90,
   "id": "7d5b6d41-7245-45fe-be96-163c27c02754",
   "metadata": {},
   "outputs": [],
   "source": [
    "# Keywords that will go under each category\n",
    "track = [\"track\", \"tracking\"]\n",
    "rail = [\"trolley\", \"train\", \"car\", \"coach\", \"rolling\", \"traffic\", \"light rail\", \"rail\"]\n",
    "bus = [\"bus\", \"van\", \"buses\", \"microtransit\", \"micro transit\", \"zebs\"]\n",
    "ferry = [\"ferry\", \"ferries\", \"vessel\"]\n",
    "active_transportation = [\n",
    "    \"bike\",\n",
    "    \"shelter\",\n",
    "    \"pedestrian\",\n",
    "    \"cycle\",\n",
    "    \"crosswalk\",\n",
    "    \"sidewalk\",\n",
    "    \"bicycle\",\n",
    "\n",
    "]\n",
    "network = [\"network\"]\n",
    "parking = [\"parking\", \" lots \", \"deck\"]\n",
    "facilities = [\n",
    "    \"center\",\n",
    "    \"facility\",\n",
    "    \"station\",\n",
    "    \"hub\",\n",
    "    \"islands\",\n",
    "    \"shelter\",\n",
    "    \"shade\",\n",
    "    \"location\",\n",
    "    \"canopies\",\n",
    "    \"stations\"\n",
    "]\n",
    "charging = [\"charging\", \"charge\"]\n",
    "storm_drain = [\"storm\"]\n",
    "street = [\n",
    "    \"street\",\n",
    "    \"curve\",\n",
    "    \"cross\",\n",
    "    \"signal\",\n",
    "    \"signaling\",\n",
    "    \"traffic control\",\n",
    "    \"road\",\n",
    "    \"lane\",\n",
    "    \"surface\",\n",
    "    \"interchange\",\n",
    "    \"intersection\",\n",
    "    \"shoulder\",\n",
    "    \"grade separations\",\n",
    "    \"crossing\",\n",
    "    \"border\",\n",
    "    \"corridor\",\n",
    "]\n",
    "other_vehicles = [\"vehicle\", \"zemu\", \"lrv\", \"fleet\"]\n",
    "bridge_tunnel = [\"bridge\", \"tunnel\"]\n",
    "infrastructure = [\n",
    "    \"infrastructure\",\n",
    "    \"bluff\",\n",
    "    \"operation\",\n",
    "    \"rehabilitation\",\n",
    "    \"stabilization\",\n",
    "    \"electrification\",\n",
    "    \"ramp\",\n",
    "    \"mainline\",\n",
    "    \"port\",\n",
    "    \"fiber optic\",\n",
    "    \"switches\",\n",
    "    \"signals\",\n",
    "    \"signs\",\n",
    "    \"lights\"\n",
    "    \n",
    "]\n",
    "ontime_transit_improvements = [\n",
    "    \"connect\",\n",
    "    \"service\",\n",
    "    \"mobility\",\n",
    "    \"contactless\",\n",
    "    \"rider\",\n",
    "    \"integrated\",\n",
    "    \" line \",\n",
    "    \"wayfinding\",\n",
    "    \"loop\",\n",
    "    \"modernization\",\n",
    "    \"safety\",\n",
    "    \"speed\",\n",
    "    \"ITS\",\n",
    "    \"signange\",\n",
    "    \"mobile app\",\n",
    "    \"ticket\",\n",
    "    \"ridership\",\n",
    "    \"expanded\",\n",
    "    \"service\",\n",
    "    \"time\",\n",
    "    \"route\",\n",
    "]"
   ]
  },
  {
   "cell_type": "code",
   "execution_count": 91,
   "id": "2910de4e-0962-4ba5-a6b3-db3f902a55a6",
   "metadata": {
    "scrolled": true,
    "tags": []
   },
   "outputs": [],
   "source": [
    "my_keywords_list = [\n",
    "    track,\n",
    "    rail,\n",
    "    bus,\n",
    "    ferry,\n",
    "    active_transportation,\n",
    "    network,\n",
    "    parking,\n",
    "    facilities,\n",
    "    charging,\n",
    "    storm_drain,\n",
    "    street,\n",
    "    other_vehicles,\n",
    "    bridge_tunnel,\n",
    "    infrastructure,\n",
    "    ontime_transit_improvements,\n",
    "]"
   ]
  },
  {
   "cell_type": "code",
   "execution_count": 92,
   "id": "2eeb548b-aec3-4d6e-9cb6-3ff5ecf58aaf",
   "metadata": {
    "scrolled": true,
    "tags": []
   },
   "outputs": [],
   "source": [
    "my_new_column_names_list = [\n",
    "    \"track\",\n",
    "    \"rail\",\n",
    "    \"bus\",\n",
    "    \"ferry\",\n",
    "    \"active_transportation\",\n",
    "    \"network\",\n",
    "    \"parking\",\n",
    "    \"facilities\",\n",
    "    \"charging\",\n",
    "    \"storm_drain\",\n",
    "    \"street\",\n",
    "    \"other_vehicles\",\n",
    "    \"bridge_tunnels\",\n",
    "    \"infrastructure\",\n",
    "    \"ontime_transit_improvements\",\n",
    "]"
   ]
  },
  {
   "cell_type": "code",
   "execution_count": 93,
   "id": "a706efad-0c94-411a-8cff-285d534c7af2",
   "metadata": {},
   "outputs": [],
   "source": [
    "def fill_in_zeroes(df, keywords: list, description_column: str, new_col_name: str):\n",
    "    \"\"\"\n",
    "    If a keyword appears in the desc\n",
    "    Automatically code it as 1 instead of 0.\n",
    "    \"\"\"\n",
    "    # Delinate items in keywords list using |\n",
    "    keywords_blob = f\"({'|'.join(keywords)})\"\n",
    "\n",
    "    keywords_dict = dict.fromkeys(keywords, 1)\n",
    "    \n",
    "    df[new_col_name] = (\n",
    "        df[description_column]\n",
    "        .str.extract(keywords_blob, expand=False)\n",
    "        .replace(keywords_dict)\n",
    "        .fillna(0)\n",
    "    )\n",
    "    return df"
   ]
  },
  {
   "cell_type": "code",
   "execution_count": 94,
   "id": "cff62bd9-e165-4000-a37c-2de39b263cd7",
   "metadata": {},
   "outputs": [],
   "source": [
    "def clean_procurements(df, description_col:str,  keywords:list, new_columns:list):\n",
    "    \"\"\"\n",
    "    If a keyword appears in the desc\n",
    "    automatically code it as 1 instead of 0\n",
    "    for all keyword lists/columns.\n",
    "    \"\"\"\n",
    "    df = A8_strings.total_procurement_estimates(df,description_col,keywords, new_columns) \n",
    "    \n",
    "    for i in range(0, len(keywords)):\n",
    "        df = fill_in_zeroes(\n",
    "            df,\n",
    "            keywords[i],\n",
    "            \"clean_components\",\n",
    "            f\"new_{new_columns[i]}\",)\n",
    "\n",
    "        # Replace any zeroes in the original columns with 1 if a keyword is found\n",
    "        # https://stackoverflow.com/questions/68243146/replace-zero-with-value-of-an-other-column-using-pandas\n",
    "        df[f\"total_{new_columns[i]}\"] = (df[f\"total_{new_columns[i]}\"]\n",
    "        .mask(df[f\"total_{new_columns[i]}\"].eq(0),\n",
    "        df[f\"new_{new_columns[i]}\"],\n",
    "        )) \n",
    "    \n",
    "    df = df[df.columns.drop(list(df.filter(regex=\"new\")))]\n",
    "    \n",
    "    return df "
   ]
  },
  {
   "cell_type": "code",
   "execution_count": 95,
   "id": "d452f6d5-a7e9-43b8-afa8-49ac0392ee41",
   "metadata": {},
   "outputs": [],
   "source": [
    "tircp4 = clean_procurements(tircp3,\n",
    "    \"clean_components\",\n",
    "    my_keywords_list,\n",
    "    my_new_column_names_list,)"
   ]
  },
  {
   "cell_type": "code",
   "execution_count": 97,
   "id": "0ff154ef-02c8-4d46-b50b-a489b2625861",
   "metadata": {},
   "outputs": [],
   "source": [
    "additional_keywords = [\n",
    "    \"microtransit\",\n",
    "    \"emission\",\n",
    "    \"conversion\",\n",
    "    \"zero\",\n",
    "    \"hydrogen\",\n",
    "    \"battery\",\n",
    "    \"electric\",\n",
    "    \"hybrid\",\n",
    "    \"zev\",\n",
    "    \"zemu\",\n",
    "]"
   ]
  },
  {
   "cell_type": "code",
   "execution_count": 98,
   "id": "c755daaf-ae85-4fb5-83d2-0b660c6fa3a4",
   "metadata": {},
   "outputs": [],
   "source": [
    "groupby_cols = [\n",
    "    \"project_project_title\",\n",
    "    \"project_award_year\",\n",
    "    \"project_number\",\n",
    "    \"allocation_components\",\n",
    "    \"total_track\",\n",
    "    \"total_rail\",\n",
    "    \"total_bus\",\n",
    "    \"total_ferry\",\n",
    "    \"total_active_transportation\",\n",
    "    \"total_network\",\n",
    "    \"total_parking\",\n",
    "    \"total_facilities\",\n",
    "    \"total_charging\",\n",
    "    \"total_storm_drain\",\n",
    "    \"total_street\",\n",
    "    \"total_other_vehicles\",\n",
    "    \"total_bridge_tunnels\",\n",
    "    \"total_infrastructure\",\n",
    "    \"total_ontime_transit_improvements\",\n",
    "]"
   ]
  },
  {
   "cell_type": "code",
   "execution_count": 99,
   "id": "c3809844-338f-4456-aa9c-e013145782d2",
   "metadata": {},
   "outputs": [],
   "source": [
    "def extract_keywords(df, list_of_words: list, more_keywords: list, column: str, \n",
    "                     unique_cols:list, cols_to_keep:list):\n",
    "    \"\"\"\n",
    "    Categorize projects. Search through\n",
    "    a certain column for keywords specified\n",
    "    in \"list of words\" and \"more keywords.\" \n",
    "    Input the reesults into a new column called \"categories\"\n",
    "    \"\"\"\n",
    "    for i in list_of_words: more_keywords.extend(i)\n",
    "\n",
    "    query = \"|\".join(more_keywords)\n",
    "\n",
    "    df[\"categories\"] = df[column].str.lower().str.findall(r\"\\b({})\\b\".format(query))\n",
    "\n",
    "    # All the category values are packed into a list. Unpack and del duplicates\n",
    "    df = (\n",
    "    df.explode(\"categories\")\n",
    "    .sort_values(unique_cols)\n",
    "    .drop_duplicates(subset=unique_cols.append('categories')))\n",
    "    \n",
    "    # Fill na\n",
    "    df.categories = df.categories.fillna(\"none\")\n",
    "    \n",
    "    # Regroup\n",
    "    df = df.groupby(cols_to_keep)[\"categories\"].apply(\",\".join).reset_index()\n",
    "    \n",
    "    return df"
   ]
  },
  {
   "cell_type": "code",
   "execution_count": 100,
   "id": "3fff5534-97b0-4970-9830-60cf9205bdc0",
   "metadata": {},
   "outputs": [],
   "source": [
    "tircp4 = extract_keywords(\n",
    "    tircp4, my_keywords_list, additional_keywords, \"allocation_components\", [\"project_award_year\", \"project_project_title\"],groupby_cols\n",
    ")"
   ]
  },
  {
   "cell_type": "code",
   "execution_count": 101,
   "id": "2f94ff24-9e34-4998-a61c-f7a9a3d7f637",
   "metadata": {
    "scrolled": true,
    "tags": []
   },
   "outputs": [],
   "source": [
    "#tircp4 = tircp4.explode(\"categories\").drop_duplicates(subset = [\"project_award_year\", \"project_project_title\",\"categories\"])"
   ]
  },
  {
   "cell_type": "code",
   "execution_count": 102,
   "id": "524387fd-f204-480c-bcd0-de3daf422ad9",
   "metadata": {
    "scrolled": true,
    "tags": []
   },
   "outputs": [],
   "source": [
    "#tircp4['categories'] = tircp4['categories'].fillna(\"none\")"
   ]
  },
  {
   "cell_type": "code",
   "execution_count": 103,
   "id": "4fe91b35-c8a6-4608-9f13-8e965dec136f",
   "metadata": {},
   "outputs": [],
   "source": [
    "#tircp4.groupby(groupby_cols)[\"categories\"].apply(\",\".join).reset_index()"
   ]
  },
  {
   "cell_type": "markdown",
   "id": "db0b8a4b-bb79-4f5c-9a08-60254b6d4e56",
   "metadata": {
    "tags": []
   },
   "source": [
    "### Add in info from TIRCP Battery and Hydrogen Fuel Cell Bus list 10-10-2022 (1).xlsx"
   ]
  },
  {
   "cell_type": "code",
   "execution_count": 104,
   "id": "d08a3829-b888-432a-a2c1-e18f4e5ffb91",
   "metadata": {},
   "outputs": [],
   "source": [
    "battery_drop_cols = [\n",
    "    \"local_agency_contact\",\n",
    "    \"local_agency_email\",\n",
    "    \"local_agency_phone_number\",\n",
    "    \"awarded_allocated\",\n",
    "    \"procured_contracted\",\n",
    "    \"components\",\n",
    "]"
   ]
  },
  {
   "cell_type": "code",
   "execution_count": 105,
   "id": "dd08fdda-89d7-46e1-8557-b0fae2fd300d",
   "metadata": {},
   "outputs": [],
   "source": [
    "battery = read_in_files(\"TIRCP Battery and Hydrogen Fuel Cell Bus list 10-10-2022 (1).xlsx\", battery_drop_cols)"
   ]
  },
  {
   "cell_type": "code",
   "execution_count": 106,
   "id": "ed76fb49-cd3b-4de0-82ad-2ce10e481e0d",
   "metadata": {},
   "outputs": [],
   "source": [
    "battery[\"project_number\"] = (\n",
    "    battery[\"award_year\"].astype(str) + \"-\" + battery[\"project_#\"].map(\"{:02}\".format).astype(str)\n",
    ")"
   ]
  },
  {
   "cell_type": "code",
   "execution_count": 107,
   "id": "390e85bd-2873-4eec-9e8c-50d711aa068d",
   "metadata": {},
   "outputs": [],
   "source": [
    "battery[\"hydrogen_battery_buses\"] = battery['#_hydrogen_fuel_cell_buses'] + battery['#_battery_electric_buses']"
   ]
  },
  {
   "cell_type": "code",
   "execution_count": 108,
   "id": "1fa4791b-f2da-44a4-adff-714f3f789661",
   "metadata": {},
   "outputs": [
    {
     "data": {
      "text/plain": [
       "_merge    \n",
       "left_only     243\n",
       "both           49\n",
       "right_only      7\n",
       "dtype: int64"
      ]
     },
     "execution_count": 108,
     "metadata": {},
     "output_type": "execute_result"
    }
   ],
   "source": [
    "tircp4.merge(battery[['project_number','hydrogen_battery_buses']], how=\"outer\", on=[\"project_number\"], indicator= True)[[\"_merge\"]].value_counts()"
   ]
  },
  {
   "cell_type": "code",
   "execution_count": 109,
   "id": "3281a93b-78b4-45d4-8adf-5840645a358b",
   "metadata": {},
   "outputs": [],
   "source": [
    "tircp5 = tircp4.merge(battery[['project_number','hydrogen_battery_buses']], how=\"left\", on=[\"project_number\"])"
   ]
  },
  {
   "cell_type": "code",
   "execution_count": 110,
   "id": "f4d6c01b-0664-4203-9719-c3d8575be58c",
   "metadata": {},
   "outputs": [],
   "source": [
    "tircp5[\"total_bus\"] = tircp5[\"total_bus\"].mask(\n",
    "        tircp5[\"total_bus\"].eq(0),\n",
    "        tircp5[\"hydrogen_battery_buses\"],\n",
    "    ).fillna(0)"
   ]
  },
  {
   "cell_type": "code",
   "execution_count": 111,
   "id": "e3311870-0524-4587-838a-2ee8a9483ef1",
   "metadata": {
    "scrolled": true,
    "tags": []
   },
   "outputs": [],
   "source": [
    "# Dups appear: sort by project number and total buses\n",
    "# Keep only the row with the most buses.\n",
    "tircp5 = tircp5.sort_values(['project_number','total_bus']).drop_duplicates(subset = ['project_number','project_project_title', 'allocation_components'])"
   ]
  },
  {
   "cell_type": "markdown",
   "id": "c46d4a7b-8e0f-45f6-8915-a87617dcb1fc",
   "metadata": {},
   "source": [
    "### Clean"
   ]
  },
  {
   "cell_type": "code",
   "execution_count": 112,
   "id": "a33006d1-4cdf-4d93-8d0a-8d4c15570b50",
   "metadata": {},
   "outputs": [],
   "source": [
    "# Subset for only relevant columns\n",
    "outputs_cols = [\n",
    "    \"project_project_title\",\n",
    "    \"project_award_year\",\n",
    "    \"allocation_components\",\n",
    "    \"categories\",\n",
    "    \"total_track\",\n",
    "    \"total_rail\",\n",
    "    \"total_bus\",\n",
    "    \"total_ferry\",\n",
    "    \"total_active_transportation\",\n",
    "    \"total_network\",\n",
    "    \"total_parking\",\n",
    "    \"total_facilities\",\n",
    "    \"total_charging\",\n",
    "    \"total_storm_drain\",\n",
    "    \"total_street\",\n",
    "    \"total_other_vehicles\",\n",
    "    \"total_bridge_tunnels\",\n",
    "    \"total_infrastructure\",\n",
    "    \"total_ontime_transit_improvements\",\n",
    "]"
   ]
  },
  {
   "cell_type": "code",
   "execution_count": 113,
   "id": "04a4720f-478d-4c90-9516-94e30fbfb204",
   "metadata": {},
   "outputs": [],
   "source": [
    "outputs = tircp5[outputs_cols]"
   ]
  },
  {
   "cell_type": "code",
   "execution_count": 114,
   "id": "8c317081-1423-4f4b-88d9-f955089fb697",
   "metadata": {},
   "outputs": [],
   "source": [
    "outputs = A1_data_prep.clean_up_columns(outputs)"
   ]
  },
  {
   "cell_type": "code",
   "execution_count": 115,
   "id": "6bb08812-7caa-4fa5-a237-c0325b903ec6",
   "metadata": {},
   "outputs": [],
   "source": [
    "agg_cols = ['Total Track',\n",
    "       'Total Rail', 'Total Bus', 'Total Ferry', 'Total Active Transportation',\n",
    "       'Total Network', 'Total Parking', 'Total Facilities', 'Total Charging',\n",
    "       'Total Storm Drain', 'Total Street', 'Total Other Vehicles',\n",
    "       'Total Bridge Tunnels', 'Total Infrastructure',\n",
    "       'Total Ontime Transit Improvements',\n",
    "]"
   ]
  },
  {
   "cell_type": "markdown",
   "id": "7e0a47b6-0b10-4cc9-8718-2537b739382b",
   "metadata": {},
   "source": [
    "* When mapping battery-hydrogen data, this causes # of buses to be double counted. \n",
    "* How to de duplicate. "
   ]
  },
  {
   "cell_type": "code",
   "execution_count": 116,
   "id": "49bac7d9-43ad-4dec-b43c-63d37a9a451e",
   "metadata": {},
   "outputs": [],
   "source": [
    "outputs_project = outputs.groupby(['Title','Components', 'Categories']).agg({**{e: \"max\" for e in agg_cols}})"
   ]
  },
  {
   "cell_type": "code",
   "execution_count": 166,
   "id": "683516e3-0108-4457-bc51-56c60af2b94b",
   "metadata": {
    "scrolled": true,
    "tags": []
   },
   "outputs": [],
   "source": [
    "# outputs_project"
   ]
  },
  {
   "cell_type": "code",
   "execution_count": 117,
   "id": "3963ed29-a7e3-479a-a163-a4dfbb7df7fc",
   "metadata": {},
   "outputs": [],
   "source": [
    "outputs_year = outputs.groupby(['Award Year']).agg({**{e: \"sum\" for e in agg_cols}}).T"
   ]
  },
  {
   "cell_type": "markdown",
   "id": "38976091-2915-4d28-bdb7-36764c10b8f7",
   "metadata": {},
   "source": [
    "## Output 2\n",
    "* Repeat the process above but based on table from Tyler instead of Linda's notes."
   ]
  },
  {
   "cell_type": "code",
   "execution_count": 118,
   "id": "9bf1b95a-891b-4798-8384-5daaf0f802d5",
   "metadata": {},
   "outputs": [],
   "source": [
    "bicycle_lane_miles = [\"bicycle lane miles\", \"bicycle\", \"bike\"]\n",
    "signs = [\" sign \",' signs ','lights','greenway','safety']\n",
    "crosswalk_sidewalk = ['sidewalk','crosswalk']\n",
    "pedestrian  = ['ped','pedestrian'] \n",
    "interchange = ['interchange']\n",
    "bridge_tunnel = ['bridge','bridges','tunnel','tunnels']\n",
    "intersection_signal = ['signal','intersection', 'signals','signaling','intersections'] \n",
    "fiber_optics = ['fiber','optics','cable','communication']\n",
    "its = [' its ']\n",
    "port = [' port ']\n",
    "rail = [\"trolley\", \"train\", \"car\", \"coach\", \"rolling\", \"traffic\", \"light rail\", \"rail\"]\n",
    "bus = [\"bus\", \"van\", \"buses\", \"microtransit\", \"micro transit\", \"zebs\"]\n",
    "freeway = [\"freeway ramp\", \"hov\", \"shoulder\", \"roadway\", \"lane\", \"local road\", \"auxilary lane\",\n",
    "          \"ramps\", \"connectors\", \"pocket\", \"curve\"]\n",
    "station = [\"station\"]\n",
    "grade_seperation = ['grade separations']\n"
   ]
  },
  {
   "cell_type": "code",
   "execution_count": 119,
   "id": "a30693ca-0d58-4898-b09d-52b4e2f6cc3d",
   "metadata": {},
   "outputs": [],
   "source": [
    "my_keywords_list2 = [\n",
    "   bicycle_lane_miles, signs, crosswalk_sidewalk,\n",
    "    pedestrian, interchange, bridge_tunnel, intersection_signal,\n",
    "    fiber_optics, its, port, rail, bus,freeway, station, grade_seperation\n",
    "]"
   ]
  },
  {
   "cell_type": "code",
   "execution_count": 120,
   "id": "6e697f1d-0e67-49b7-a12d-00bde36a188a",
   "metadata": {},
   "outputs": [],
   "source": [
    "my_columns_list2 = [\n",
    "   'bicycle_lane_miles', 'signs', 'crosswalk_sidewalk',\n",
    "    'pedestrian', 'interchange', 'bridge_tunnel', 'intersection_signal',\n",
    "    'fiber_optics', 'its', 'port', 'rail', 'bus','freeway', 'station', 'grade_seperation'\n",
    "]"
   ]
  },
  {
   "cell_type": "code",
   "execution_count": 121,
   "id": "8ae87615-5692-47e2-9a7a-9009cf86c0d1",
   "metadata": {},
   "outputs": [],
   "source": [
    "tircp6 = clean_procurements(tircp3,\n",
    "    \"clean_components\",\n",
    "    my_keywords_list2,\n",
    "    my_columns_list2,)"
   ]
  },
  {
   "cell_type": "code",
   "execution_count": 122,
   "id": "0c9a2e10-0cea-4532-b725-f6560a730e3d",
   "metadata": {},
   "outputs": [],
   "source": [
    "outputs3 = A1_data_prep.clean_up_columns(tircp6)"
   ]
  },
  {
   "cell_type": "code",
   "execution_count": 123,
   "id": "ae62a9ec-ce34-4fde-bfe2-195a71c93c74",
   "metadata": {},
   "outputs": [],
   "source": [
    "agg_cols2 = ['Total Bicycle Lane Miles',\n",
    "       'Total Signs', 'Total Crosswalk Sidewalk', 'Total Pedestrian',\n",
    "       'Total Interchange', 'Total Bridge Tunnel', 'Total Intersection Signal',\n",
    "       'Total Fiber Optics', 'Total Its', 'Total Port', 'Total Rail',\n",
    "       'Total Bus', 'Total Freeway', 'Total Station',\n",
    "       'Total Grade Seperation']"
   ]
  },
  {
   "cell_type": "code",
   "execution_count": 124,
   "id": "531c81bc-f47d-4580-b1ad-73333fd47b43",
   "metadata": {},
   "outputs": [],
   "source": [
    "# Change from wide to long dataframe\n",
    "outputs4 = pd.melt(outputs3, id_vars=['Components'], value_vars=agg_cols2).rename(columns = {'variable':'Variable', 'value':'Value'})"
   ]
  },
  {
   "cell_type": "code",
   "execution_count": 169,
   "id": "89ead858-6b10-4dd2-90ec-21211e0d9163",
   "metadata": {
    "scrolled": true,
    "tags": []
   },
   "outputs": [],
   "source": [
    "# Only retain rows with a value greater than 0\n",
    "outputs5 = outputs4.loc[outputs4.Value > 0 ]"
   ]
  },
  {
   "cell_type": "code",
   "execution_count": 171,
   "id": "404256ae-78f4-47a4-bce2-36269861c55b",
   "metadata": {
    "scrolled": true,
    "tags": []
   },
   "outputs": [],
   "source": [
    "# outputs5"
   ]
  },
  {
   "cell_type": "code",
   "execution_count": 172,
   "id": "87f59780-e623-4c59-ba47-46d8a1ecfc81",
   "metadata": {},
   "outputs": [],
   "source": [
    "outputs6 = outputs5.groupby(['Variable']).agg({'Components':'nunique'})"
   ]
  },
  {
   "cell_type": "code",
   "execution_count": 173,
   "id": "8fd346c8-b986-4d2e-abb0-ae1809f55daa",
   "metadata": {},
   "outputs": [
    {
     "data": {
      "text/html": [
       "<div>\n",
       "<style scoped>\n",
       "    .dataframe tbody tr th:only-of-type {\n",
       "        vertical-align: middle;\n",
       "    }\n",
       "\n",
       "    .dataframe tbody tr th {\n",
       "        vertical-align: top;\n",
       "    }\n",
       "\n",
       "    .dataframe thead th {\n",
       "        text-align: right;\n",
       "    }\n",
       "</style>\n",
       "<table border=\"1\" class=\"dataframe\">\n",
       "  <thead>\n",
       "    <tr style=\"text-align: right;\">\n",
       "      <th></th>\n",
       "      <th>Components</th>\n",
       "    </tr>\n",
       "    <tr>\n",
       "      <th>Variable</th>\n",
       "      <th></th>\n",
       "    </tr>\n",
       "  </thead>\n",
       "  <tbody>\n",
       "    <tr>\n",
       "      <th>Total Bicycle Lane Miles</th>\n",
       "      <td>5</td>\n",
       "    </tr>\n",
       "    <tr>\n",
       "      <th>Total Bridge Tunnel</th>\n",
       "      <td>2</td>\n",
       "    </tr>\n",
       "    <tr>\n",
       "      <th>Total Bus</th>\n",
       "      <td>56</td>\n",
       "    </tr>\n",
       "    <tr>\n",
       "      <th>Total Fiber Optics</th>\n",
       "      <td>2</td>\n",
       "    </tr>\n",
       "    <tr>\n",
       "      <th>Total Freeway</th>\n",
       "      <td>7</td>\n",
       "    </tr>\n",
       "    <tr>\n",
       "      <th>Total Intersection Signal</th>\n",
       "      <td>12</td>\n",
       "    </tr>\n",
       "    <tr>\n",
       "      <th>Total Pedestrian</th>\n",
       "      <td>4</td>\n",
       "    </tr>\n",
       "    <tr>\n",
       "      <th>Total Rail</th>\n",
       "      <td>29</td>\n",
       "    </tr>\n",
       "    <tr>\n",
       "      <th>Total Signs</th>\n",
       "      <td>5</td>\n",
       "    </tr>\n",
       "    <tr>\n",
       "      <th>Total Station</th>\n",
       "      <td>30</td>\n",
       "    </tr>\n",
       "  </tbody>\n",
       "</table>\n",
       "</div>"
      ],
      "text/plain": [
       "                           Components\n",
       "Variable                             \n",
       "Total Bicycle Lane Miles            5\n",
       "Total Bridge Tunnel                 2\n",
       "Total Bus                          56\n",
       "Total Fiber Optics                  2\n",
       "Total Freeway                       7\n",
       "Total Intersection Signal          12\n",
       "Total Pedestrian                    4\n",
       "Total Rail                         29\n",
       "Total Signs                         5\n",
       "Total Station                      30"
      ]
     },
     "execution_count": 173,
     "metadata": {},
     "output_type": "execute_result"
    }
   ],
   "source": [
    "outputs6"
   ]
  },
  {
   "cell_type": "markdown",
   "id": "f7fa9b2d-2552-42d8-9e0f-c6365f8f57d9",
   "metadata": {},
   "source": [
    "## Outcomes\n",
    "### Clean up Projects Sheet"
   ]
  },
  {
   "cell_type": "code",
   "execution_count": 128,
   "id": "d78d57f1-92b6-4af6-b12d-71acb6204410",
   "metadata": {},
   "outputs": [],
   "source": [
    "def clean_project():\n",
    "    \"\"\"\"\n",
    "    Clean up TIRCP Project sheet\n",
    "    to merge with other sheets\n",
    "    \"\"\"\n",
    "    project = A1_data_prep.clean_project()\n",
    "    \n",
    "    project = project.loc[project[\"project_award_year\"] >=2018].reset_index(drop = True)\n",
    "    \n",
    "    project[\"project_number\"] = (project[\"project_award_year\"].astype(str) \n",
    "                                 + \"-\"+ project[\"project_project_#\"].map(\"{:02}\".format).astype(str))\n",
    "    \n",
    "    project = project[['project_award_year','project_project_title','project_grant_recipient','project_ppno', 'project_number']]\n",
    "    \n",
    "    return project"
   ]
  },
  {
   "cell_type": "code",
   "execution_count": 129,
   "id": "84b99c61-c684-48e5-a2a9-ed1e39862e6c",
   "metadata": {
    "tags": []
   },
   "outputs": [],
   "source": [
    "# Subset tircp\n",
    "project = clean_project()"
   ]
  },
  {
   "cell_type": "code",
   "execution_count": 130,
   "id": "414f07eb-0a7f-4a65-995d-55b257c5e3b5",
   "metadata": {},
   "outputs": [
    {
     "data": {
      "text/plain": [
       "(68, 5)"
      ]
     },
     "execution_count": 130,
     "metadata": {},
     "output_type": "execute_result"
    }
   ],
   "source": [
    "project.shape"
   ]
  },
  {
   "cell_type": "markdown",
   "id": "ec3ca81f-790c-4c4c-ab9a-cc50bd9e9b3a",
   "metadata": {},
   "source": [
    "### AwardedProjectsDetail.xlsx"
   ]
  },
  {
   "cell_type": "code",
   "execution_count": 131,
   "id": "1b9e3763-1396-4a89-9485-8d1eda5768dc",
   "metadata": {},
   "outputs": [],
   "source": [
    "drisi_drop_cols = [\n",
    "    \"agency_code\",\n",
    "    \"agency_short_name\",\n",
    "    \"sub_program_description\",\n",
    "    \"agency_name\",\n",
    "    \"program_short_name\",\n",
    "    \"program_name\",\n",
    "    \"program_description\",\n",
    "    \"sub_program_short_name\",\n",
    "    \"sub_program_name\",\n",
    "    \"project_type\",\n",
    "    \"agency\",\n",
    "    \"program\",\n",
    "    \"date_imported\",\n",
    "    \"contractor_or_awardee_admin_expenses\",\n",
    "    \"voucher_id\",\n",
    "    \"project_is_completed\",\n",
    "    \"project_is_canceled\"\n",
    "]"
   ]
  },
  {
   "cell_type": "code",
   "execution_count": 132,
   "id": "5e745c64-b3d5-4e8e-af31-a0b94ef75966",
   "metadata": {},
   "outputs": [],
   "source": [
    "drisi = read_in_files(\"AwardedProjectsDetail.xlsx\", drisi_drop_cols)"
   ]
  },
  {
   "cell_type": "code",
   "execution_count": 133,
   "id": "ca88683a-43ae-42f0-9370-6ba8e73a4923",
   "metadata": {},
   "outputs": [
    {
     "data": {
      "text/plain": [
       "(63, 33)"
      ]
     },
     "execution_count": 133,
     "metadata": {},
     "output_type": "execute_result"
    }
   ],
   "source": [
    "drisi.shape"
   ]
  },
  {
   "cell_type": "code",
   "execution_count": 134,
   "id": "d212712c-896c-4990-b131-3e5f8511950a",
   "metadata": {},
   "outputs": [],
   "source": [
    "outer_drisi, m1 = merge_value_counts(project, drisi, \"project_number\", \"project_id\",) "
   ]
  },
  {
   "cell_type": "code",
   "execution_count": 135,
   "id": "0679dd27-2070-4914-bc9e-379b271f59d4",
   "metadata": {},
   "outputs": [],
   "source": [
    "m1 = m1.drop(columns = ['record_type', \"project_id\", \"project_life_years\", \"project_status\"])"
   ]
  },
  {
   "cell_type": "code",
   "execution_count": 136,
   "id": "e68935e2-77db-465c-8679-1efb04bc9ecf",
   "metadata": {},
   "outputs": [
    {
     "data": {
      "text/plain": [
       "(68, 34)"
      ]
     },
     "execution_count": 136,
     "metadata": {},
     "output_type": "execute_result"
    }
   ],
   "source": [
    "m1.shape"
   ]
  },
  {
   "cell_type": "markdown",
   "id": "f1a17d72-bc99-416a-a17e-08ee89a06c6e",
   "metadata": {},
   "source": [
    "### ImplementedProjectsDetail.xlsx"
   ]
  },
  {
   "cell_type": "code",
   "execution_count": 137,
   "id": "ffce324d-28b3-4f84-80a6-9793748c9af6",
   "metadata": {
    "scrolled": true,
    "tags": []
   },
   "outputs": [],
   "source": [
    "implemented_drop_cols = [\n",
    "    \"programuniqueidentifier\",\n",
    "    \"record_type\",\n",
    "    \"reporting_cycle_name\",\n",
    "    \"agency_short_name\",\n",
    "    \"agency_name\",\n",
    "    \"date_operational\",\n",
    "    \"program_name\",\n",
    "    \"program_description\",\n",
    "    \"project_completion_date\",\n",
    "    \"date_imported\",\n",
    "    \"sub_program_name\",\n",
    "    \"date_selected_for_award\",\n",
    "    \"project_name\",\n",
    "    \"project_type\",\n",
    "    \"fiscal_year_funding_project\",\n",
    "    \"census_tract\",\n",
    "    \"address\",\n",
    "    \"lat_long\",\n",
    "    \"total_program_ggrffunding\",\n",
    "    \"voucher_name\",\n",
    "    \"voucher_description\",\n",
    "]"
   ]
  },
  {
   "cell_type": "code",
   "execution_count": 138,
   "id": "00477756-40d9-4737-be33-824443520459",
   "metadata": {},
   "outputs": [],
   "source": [
    "implemented = read_in_files(\"ImplementedProjectsDetail.xlsx\", implemented_drop_cols)"
   ]
  },
  {
   "cell_type": "code",
   "execution_count": 139,
   "id": "f524a1ad-57d4-4dcb-9cba-600b5f7b2f3a",
   "metadata": {},
   "outputs": [],
   "source": [
    "outer_implemented, m2 = merge_value_counts(m1, implemented, \"project_number\", \"project_idnumber\") "
   ]
  },
  {
   "cell_type": "code",
   "execution_count": 140,
   "id": "54e30d11-da98-4942-92e7-54722cf4bca3",
   "metadata": {},
   "outputs": [],
   "source": [
    "m2 = m2.drop(columns = ['project_count',\"project_idnumber\",'proj_rec_id','voucher_id'])"
   ]
  },
  {
   "cell_type": "code",
   "execution_count": 141,
   "id": "c3b45544-4489-46fa-ae52-91b07de26e91",
   "metadata": {},
   "outputs": [
    {
     "data": {
      "text/plain": [
       "(171, 90)"
      ]
     },
     "execution_count": 141,
     "metadata": {},
     "output_type": "execute_result"
    }
   ],
   "source": [
    "# Why does the df become so large?\n",
    "m2.shape"
   ]
  },
  {
   "cell_type": "code",
   "execution_count": 142,
   "id": "26aa9626-726d-459a-93de-290b7fd64524",
   "metadata": {},
   "outputs": [],
   "source": [
    "m2 = m2.drop_duplicates(subset = [\"project_ppno\", \"project_number\"])"
   ]
  },
  {
   "cell_type": "code",
   "execution_count": 143,
   "id": "5177d6f3-2aec-4495-b626-d1365b9f680c",
   "metadata": {},
   "outputs": [
    {
     "data": {
      "text/plain": [
       "(68, 90)"
      ]
     },
     "execution_count": 143,
     "metadata": {},
     "output_type": "execute_result"
    }
   ],
   "source": [
    "m2.shape"
   ]
  },
  {
   "cell_type": "markdown",
   "id": "46fd61fe-13bb-4cfa-b9b0-3c9bc1a919f8",
   "metadata": {
    "tags": []
   },
   "source": [
    "### OutcomeProjectsDetail.xlsx "
   ]
  },
  {
   "cell_type": "code",
   "execution_count": 144,
   "id": "5b613084-5dbe-4fce-9294-ac6646f13b71",
   "metadata": {},
   "outputs": [],
   "source": [
    "outcomes_drop_cols = [\n",
    "    \"unnamed:_0\",\n",
    "    \"proj_rec_id\",\n",
    "    \"reporting_cycle_name\",\n",
    "    \"agency_short_name\",\n",
    "    \"agency_name\",\n",
    "    \"program_short_name\",\n",
    "    \"program_name\",\n",
    "    \"program_description\",\n",
    "    \"record_type\",\n",
    "    \"sub_program_short_name\",\n",
    "    \"sub_program_name\",\n",
    "    \"sub_program_description\",\n",
    "    \"date_imported\",\n",
    "]"
   ]
  },
  {
   "cell_type": "code",
   "execution_count": 145,
   "id": "567ed66a-cd3e-4b59-8189-8b59fc432521",
   "metadata": {},
   "outputs": [],
   "source": [
    "outcomes = read_in_files(\"OutcomeProjectsDetail.xlsx\", outcomes_drop_cols)"
   ]
  },
  {
   "cell_type": "code",
   "execution_count": 146,
   "id": "3e7ae80a-83b3-4046-81d6-50c04cc8f348",
   "metadata": {
    "scrolled": true,
    "tags": []
   },
   "outputs": [],
   "source": [
    "# outcomes.sort_values('projectid_number')"
   ]
  },
  {
   "cell_type": "code",
   "execution_count": 147,
   "id": "45726027-5769-4ea2-b372-e984bd7e5947",
   "metadata": {
    "scrolled": true,
    "tags": []
   },
   "outputs": [],
   "source": [
    "# list(outcomes.columns)"
   ]
  },
  {
   "cell_type": "code",
   "execution_count": 148,
   "id": "475fab28-094a-4689-b96a-7d276772c22d",
   "metadata": {},
   "outputs": [],
   "source": [
    "outer_outcomes, m3 = merge_value_counts(m2, outcomes, \"project_number\", \"projectid_number\") "
   ]
  },
  {
   "cell_type": "code",
   "execution_count": 149,
   "id": "c7a90425-8677-46ac-8809-d23de5b8be03",
   "metadata": {},
   "outputs": [
    {
     "data": {
      "text/plain": [
       "left_only     67\n",
       "right_only    57\n",
       "both           3\n",
       "Name: _merge, dtype: int64"
      ]
     },
     "execution_count": 149,
     "metadata": {},
     "output_type": "execute_result"
    }
   ],
   "source": [
    "outer_outcomes._merge.value_counts()"
   ]
  },
  {
   "cell_type": "code",
   "execution_count": 150,
   "id": "13e74906-e625-4c0e-868d-0788fd7af85f",
   "metadata": {},
   "outputs": [
    {
     "data": {
      "text/plain": [
       "array(['2015-07', '2015-06', '2015-01', '2015-04', '2015-10', '2015-09',\n",
       "       '2015-12', '2015-05', '2016-04', '2016-01', '2016-12', '2015-02',\n",
       "       '2015-08', '2015-11', '2016-08', '2015-14', '2015-13', '2016-05'],\n",
       "      dtype=object)"
      ]
     },
     "execution_count": 150,
     "metadata": {},
     "output_type": "execute_result"
    }
   ],
   "source": [
    "outer_outcomes.loc[outer_outcomes._merge == \"right_only\"]['projectid_number'].unique()"
   ]
  },
  {
   "cell_type": "markdown",
   "id": "7c2172ab-7ac9-4479-aa11-fb54856c9c93",
   "metadata": {
    "tags": []
   },
   "source": [
    "### TIRCP_AllProjects_12212022 (002).xlsx\n",
    "* Doesn't have anything interesting."
   ]
  },
  {
   "cell_type": "code",
   "execution_count": 158,
   "id": "74207fb1-4d58-4222-9425-24ef2063e93c",
   "metadata": {},
   "outputs": [],
   "source": [
    "# Fill in empty values with NA\n",
    "all_projects = read_in_files(\"TIRCP_AllProjects_12212022 (002).xlsx\", [])"
   ]
  },
  {
   "cell_type": "code",
   "execution_count": 159,
   "id": "49571a94-7658-4400-8f7d-0dafd8da2e73",
   "metadata": {},
   "outputs": [],
   "source": [
    "# all_projects.sample()"
   ]
  },
  {
   "cell_type": "markdown",
   "id": "008d4c5e-748a-4e13-b2f0-5990fd33346e",
   "metadata": {},
   "source": [
    "### Clean merges"
   ]
  },
  {
   "cell_type": "code",
   "execution_count": 151,
   "id": "09b9fb23-35d6-49b5-b2d1-f2fa8e52289d",
   "metadata": {},
   "outputs": [],
   "source": [
    "m3 = m3.drop(columns = [\"projectid_number\",\"ab1550choice\"])"
   ]
  },
  {
   "cell_type": "code",
   "execution_count": 152,
   "id": "6939385a-db4d-488a-8537-208700a33479",
   "metadata": {},
   "outputs": [],
   "source": [
    "m3 = A1_data_prep.clean_up_columns(m3)"
   ]
  },
  {
   "cell_type": "code",
   "execution_count": 153,
   "id": "5c5f6767-572f-4d39-942b-661bca288f23",
   "metadata": {},
   "outputs": [],
   "source": [
    "# Keep only numeric columns\n",
    "value_cols = [e for e in m3.select_dtypes(exclude=['object']).columns.tolist() if e not in ('Award Year')]"
   ]
  },
  {
   "cell_type": "code",
   "execution_count": 154,
   "id": "64344b6d-b3d4-4453-8d41-9580a563c9d0",
   "metadata": {},
   "outputs": [],
   "source": [
    "# m3.info(verbose=True)"
   ]
  },
  {
   "cell_type": "code",
   "execution_count": 155,
   "id": "58db5a78-8287-4ad1-8752-57bd2ca90493",
   "metadata": {},
   "outputs": [],
   "source": [
    "outcomes_project = m3.groupby('Title').agg({**{e: \"max\" for e in value_cols}}).T"
   ]
  },
  {
   "cell_type": "code",
   "execution_count": 156,
   "id": "a8a3ad35-bf19-4937-b1e7-37d96ffe6ce4",
   "metadata": {},
   "outputs": [],
   "source": [
    "outcomes_year = m3.groupby('Award Year').agg({**{e: \"sum\" for e in value_cols}}).T"
   ]
  },
  {
   "cell_type": "code",
   "execution_count": 157,
   "id": "39c0fc39-e9ab-455e-841e-5b7de07d431d",
   "metadata": {},
   "outputs": [],
   "source": [
    "# outcomes_year"
   ]
  },
  {
   "cell_type": "markdown",
   "id": "7ffb64ad-4a3c-4311-99b9-da3607f2353b",
   "metadata": {},
   "source": [
    "## Save"
   ]
  },
  {
   "cell_type": "code",
   "execution_count": 162,
   "id": "fcb1c43b-2adb-4c42-8ebb-487b0e34c30b",
   "metadata": {},
   "outputs": [
    {
     "data": {
      "text/plain": [
       "'\\nwith pd.ExcelWriter(f\"{GCS_FILE_PATH}drisi_outcomes_outputs.xlsx\") as writer:\\n    outputs_project.to_excel(writer, sheet_name=\"outputs_project\", index=True)\\n    outputs_year.to_excel(writer, sheet_name=\"outputs_year\", index=True)\\n    outcomes_project.to_excel(writer, sheet_name=\"outcomes_project\", index=True)\\n    outcomes_year.to_excel(writer, sheet_name=\"outcomes_year\", index=True)\\n    outputs5.to_excel(writer, sheet_name=\"investment_composition\", index=True)\\n    outputs6.to_excel(writer, sheet_name=\"investment_composition_detail\", index=True)'"
      ]
     },
     "execution_count": 162,
     "metadata": {},
     "output_type": "execute_result"
    }
   ],
   "source": [
    "\"\"\"\n",
    "with pd.ExcelWriter(f\"{GCS_FILE_PATH}drisi_outcomes_outputs.xlsx\") as writer:\n",
    "    outputs_project.to_excel(writer, sheet_name=\"outputs_project\", index=True)\n",
    "    outputs_year.to_excel(writer, sheet_name=\"outputs_year\", index=True)\n",
    "    outcomes_project.to_excel(writer, sheet_name=\"outcomes_project\", index=True)\n",
    "    outcomes_year.to_excel(writer, sheet_name=\"outcomes_year\", index=True)\n",
    "    outputs5.to_excel(writer, sheet_name=\"investment_composition\", index=True)\n",
    "    outputs6.to_excel(writer, sheet_name=\"investment_composition_detail\", index=True)\"\"\""
   ]
  }
 ],
 "metadata": {
  "kernelspec": {
   "display_name": "Python 3 (ipykernel)",
   "language": "python",
   "name": "python3"
  },
  "language_info": {
   "codemirror_mode": {
    "name": "ipython",
    "version": 3
   },
   "file_extension": ".py",
   "mimetype": "text/x-python",
   "name": "python",
   "nbconvert_exporter": "python",
   "pygments_lexer": "ipython3",
   "version": "3.9.13"
  }
 },
 "nbformat": 4,
 "nbformat_minor": 5
}
