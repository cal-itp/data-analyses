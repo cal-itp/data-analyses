{
 "cells": [
  {
   "cell_type": "markdown",
   "id": "83709b77-d340-42e6-bbc4-35d683947460",
   "metadata": {},
   "source": [
    "## TIRCP DRISI\n",
    "* DRISI emailed a request asking for TIRCP outcomes for cycles 3-5.  \n",
    "* [Cycles 1-6](https://calsta.ca.gov/subject-areas/transit-intercity-rail-capital-prog)\n",
    "* Cycle 1: 2015\n",
    "* Cycle 2: 2016\n",
    "* Cycle 3: 2018\n",
    "* Cycle 4: 2020\n",
    "* Cycle 5: 2022\n",
    "* Cycle 6: 2023\n",
    "\n",
    "<b>Notes 2/7/23</b>\n",
    "* Application is different than what we have in the dataset.\n",
    "* Outputs: hydrogen-battery fuel cell.\n",
    "* DRISI wants the data before end of this week.\n",
    "* Outputs\n",
    "    * Category for outputs: transit/multimodal or rail/multimodal. \n",
    "    * Pull it from `allocations` tab.\n",
    "    * Filter out design categories. We only care about 'CONST'.\n",
    "    * Transit/Multimodal\n",
    "        * Buses breakout between mobile/school/etc. Unit is each.\n",
    "            * Microtransit\n",
    "            * Bus Conversion\n",
    "            * Zero emmission (don't distinguish between hydrogen vs battery)\n",
    "            * Battery Electric\n",
    "            * Ferries\n",
    "    * Rail/Multimodal\n",
    "        * Trolleys\n",
    "        * Trains/Cars/Coach/Rolling Stocks\n",
    "        * Traffic Control\n",
    "    * Track\n",
    "        * Track Extension\n",
    "        * Double Track\n",
    "    * Network Integration improves multimodal network so everything is synced. \n",
    "    * Parking Lots/Parking Deck\n",
    "    * Active Transportation\n",
    "        * Bike Shelters/Shade Structures\n",
    "        * Bike and Pedestrians Improvements\n",
    "    * Facilities\n",
    "        * Center/Facility/Station/Station/Hub/Islands\n",
    "    * Charging Infrastructure. \n",
    "    * Storm Drain Line\n",
    "    * Street Extension\n",
    "    * Charging\n",
    "    * Signaling\n",
    "* Outcomes\n",
    "    * On Time Performance\n",
    "        * Expanded Service\n",
    "        * Routes \n",
    "        * Ridership"
   ]
  },
  {
   "cell_type": "code",
   "execution_count": null,
   "id": "de5e8978-cecf-44cf-9a92-e2282e3b2e61",
   "metadata": {
    "tags": []
   },
   "outputs": [],
   "source": [
    "import itertools\n",
    "\n",
    "import A1_data_prep\n",
    "import A2_tableau\n",
    "import A8_strings\n",
    "import numpy as np\n",
    "import pandas as pd\n",
    "from babel.numbers import format_currency\n",
    "from calitp import *"
   ]
  },
  {
   "cell_type": "code",
   "execution_count": null,
   "id": "b4635aa5-1ab6-4247-a1be-61d59f07c4ff",
   "metadata": {},
   "outputs": [],
   "source": [
    "pd.options.display.max_columns = 125\n",
    "pd.options.display.float_format = \"{:.2f}\".format\n",
    "pd.set_option(\"display.max_rows\", None)\n",
    "pd.set_option(\"display.max_colwidth\", None)"
   ]
  },
  {
   "cell_type": "code",
   "execution_count": null,
   "id": "b8d3d0ef-e239-4aeb-9f18-2ec76a39b012",
   "metadata": {},
   "outputs": [],
   "source": [
    "# GCS File Path:\n",
    "GCS_FILE_PATH = f\"{A1_data_prep.GCS_FILE_PATH}DRISI/\""
   ]
  },
  {
   "cell_type": "code",
   "execution_count": null,
   "id": "91e9b82d-7ea5-409f-97ce-c1bcb10c6a25",
   "metadata": {},
   "outputs": [],
   "source": [
    "GCS_FILE_PATH"
   ]
  },
  {
   "cell_type": "markdown",
   "id": "b22ca6cb-f08e-4e7d-8ed1-05d364c8719b",
   "metadata": {
    "tags": []
   },
   "source": [
    "## Prep Functions"
   ]
  },
  {
   "cell_type": "code",
   "execution_count": null,
   "id": "f2ccdb66-00c1-4d79-995f-62e2774c46f4",
   "metadata": {},
   "outputs": [],
   "source": [
    "def read_in_files(file_name: str, columns_to_drop: list):\n",
    "    df = to_snakecase(pd.read_excel(f\"{GCS_FILE_PATH}{file_name}\"))\n",
    "\n",
    "    df = df.drop(columns=columns_to_drop)\n",
    "    \n",
    "    # Delete any columns with the following strings\n",
    "    df = df.loc[:, ~df.columns.str.contains(\"funding|recipient|date|cost|program|amount|name|description\")]\n",
    "    \n",
    "    df = df.fillna(df.dtypes.replace({\"float64\": 0.0, \"object\": \"None\"}))\n",
    "    \n",
    "    return df"
   ]
  },
  {
   "cell_type": "code",
   "execution_count": null,
   "id": "39931a2a-65e6-425c-9e42-2cfb7204b05c",
   "metadata": {},
   "outputs": [],
   "source": [
    "def merge_value_counts(left_df, right_df, left_m_col:str, right_m_col:str):\n",
    "    # Some of these sheets have repeated columns\n",
    "    # Del them off so the info isn't repeated again\n",
    "    left_df_cols = left_df.columns\n",
    "    right_df_cols = right_df.columns\n",
    "    common_cols = right_df_cols.intersection(left_df_cols)\n",
    "    common_cols = common_cols.to_list()\n",
    "    \n",
    "    right_df = right_df.drop(columns = common_cols) \n",
    "    \n",
    "    # One df for an outer merge just for checking both/left only/right only vals\n",
    "    outer = pd.merge(left_df, right_df, how=\"outer\", left_on=left_m_col, right_on=right_m_col, indicator=True)\n",
    "    \n",
    "    # One for left\n",
    "    left =  pd.merge(left_df, right_df, how=\"left\",  left_on=left_m_col, right_on=right_m_col)\n",
    "\n",
    "    return outer, left"
   ]
  },
  {
   "cell_type": "markdown",
   "id": "a2036b3c-036e-4fe5-b83f-31070ef5ac6d",
   "metadata": {},
   "source": [
    "## Outputs\n",
    "### Manipulate TIRCP Project Sheet"
   ]
  },
  {
   "cell_type": "code",
   "execution_count": null,
   "id": "33ecb748-7cf6-4928-974b-8c326054fc56",
   "metadata": {},
   "outputs": [],
   "source": [
    "allocation_cols = [\n",
    "    \"allocation_ppno\",\n",
    "    \"allocation_award_year\",\n",
    "    \"allocation_components\",\n",
    "    \"allocation_phase\",\n",
    "]\n",
    "project_cols = [\n",
    "    \"project_ppno\",\n",
    "    \"project_award_year\",\n",
    "    \"project_project_#\",\n",
    "    \"project_project_title\",\n",
    "    \"project_project_description\",\n",
    "    \"project_grant_recipient\",\n",
    "]"
   ]
  },
  {
   "cell_type": "code",
   "execution_count": null,
   "id": "b1fb383e-57f4-43f3-829a-85ac74bcec82",
   "metadata": {},
   "outputs": [],
   "source": [
    "# project2.groupby('project_award_year').size(), project2.groupby('project_award_year').project_ppno.nunique()"
   ]
  },
  {
   "cell_type": "code",
   "execution_count": null,
   "id": "0cdf3f5f-fe2d-4bfa-bba8-8d945c0d3c8d",
   "metadata": {},
   "outputs": [],
   "source": [
    "# Read in a joined allocation-project sheet\n",
    "tircp = A1_data_prep.merge_allocation_project(project_cols, allocation_cols, \"left\")"
   ]
  },
  {
   "cell_type": "code",
   "execution_count": null,
   "id": "59e68acb-6066-4cb8-8d1a-cffa5c82b23e",
   "metadata": {},
   "outputs": [],
   "source": [
    "# Drop irrelevant years & non-construction.\n",
    "tircp2 = tircp[(tircp[\"project_award_year\"] >= 2018)].reset_index(drop=True)"
   ]
  },
  {
   "cell_type": "code",
   "execution_count": null,
   "id": "8a6d0a95-9240-4020-95a9-19a1645b9b63",
   "metadata": {},
   "outputs": [],
   "source": [
    "# Double check that the PPNO are correct\n",
    "tircp2.groupby(\"project_award_year\").project_ppno.nunique()"
   ]
  },
  {
   "cell_type": "code",
   "execution_count": null,
   "id": "8626c45a-47c6-412a-a1b6-35ec65ec1918",
   "metadata": {},
   "outputs": [],
   "source": [
    "# Sort df by award year, number, and phase.\n",
    "tircp2 = tircp2.sort_values(\n",
    "    [\"project_award_year\", \"project_project_#\", \"allocation_phase\"]\n",
    ")"
   ]
  },
  {
   "cell_type": "code",
   "execution_count": null,
   "id": "04d0cf24-1ffd-4039-824b-ed9a27e8c0b0",
   "metadata": {},
   "outputs": [],
   "source": [
    "# Create project number\n",
    "# Map 0 to another single digit numbers\n",
    "# https://stackoverflow.com/questions/20990863/python-pandas-add-leading-zero-to-make-all-months-2-digits\n",
    "tircp2[\"project_number\"] = (\n",
    "    tircp2[\"project_award_year\"].astype(str)\n",
    "    + \"-\"\n",
    "    + tircp2[\"project_project_#\"].astype(str)\n",
    ")"
   ]
  },
  {
   "cell_type": "code",
   "execution_count": null,
   "id": "474c82a7-3cd5-4ab9-b432-6247ba1d5446",
   "metadata": {},
   "outputs": [],
   "source": [
    "tircp2.allocation_phase.value_counts()"
   ]
  },
  {
   "cell_type": "code",
   "execution_count": null,
   "id": "350cbb24-3293-4c17-b14b-e353235ff91b",
   "metadata": {},
   "outputs": [],
   "source": [
    "len(tircp2), len(\n",
    "    tircp2.drop_duplicates(subset=[\"project_ppno\", \"allocation_components\"])\n",
    ")"
   ]
  },
  {
   "cell_type": "code",
   "execution_count": null,
   "id": "453d24e6-36d1-4a2e-9c82-2320f4ff6225",
   "metadata": {},
   "outputs": [],
   "source": [
    "# Drop duplicates by ppno and allocation componentes\n",
    "# Sorted by allocation phase, so construction is kept\n",
    "# if components is the same across multiple phases\n",
    "tircp3 = (\n",
    "    tircp2.drop_duplicates(subset=[\"project_ppno\", \"allocation_components\"])\n",
    ").reset_index(drop=True)"
   ]
  },
  {
   "cell_type": "code",
   "execution_count": null,
   "id": "0f71169b-bf15-4025-af1c-4a5c8302d5e7",
   "metadata": {},
   "outputs": [],
   "source": [
    "tircp3.groupby(\"project_award_year\").project_ppno.nunique()"
   ]
  },
  {
   "cell_type": "code",
   "execution_count": null,
   "id": "0f30fe75-3a51-4af1-b172-75b02996dc81",
   "metadata": {
    "scrolled": true,
    "tags": []
   },
   "outputs": [],
   "source": [
    "# For projects that don't have any allocation components info\n",
    "# fill it in with project description\n",
    "# Cp068 & cp106\n",
    "tircp3.allocation_components = tircp3.allocation_components.fillna(\n",
    "    tircp3.project_project_description\n",
    ")"
   ]
  },
  {
   "cell_type": "markdown",
   "id": "e40fb305-ed0b-4d2e-b0af-edc5125dff39",
   "metadata": {},
   "source": [
    "### Extract Outputs"
   ]
  },
  {
   "cell_type": "code",
   "execution_count": null,
   "id": "2ebd9504-203f-48d4-ba45-5cac975a6417",
   "metadata": {},
   "outputs": [],
   "source": [
    "tircp3 = A8_strings.simplify_descriptions(\n",
    "    tircp3,\n",
    "    \"allocation_components\",\n",
    "    \"clean_components\",\n",
    "    A8_strings.description_words_to_delete,\n",
    ")"
   ]
  },
  {
   "cell_type": "code",
   "execution_count": null,
   "id": "6d5c7d64-87ed-4f8a-a9d2-c6872f827d26",
   "metadata": {},
   "outputs": [],
   "source": [
    "tircp3 = tircp3.drop(columns=[\"allocation_ppno\", \"allocation_award_year\", \"_merge\"])"
   ]
  },
  {
   "cell_type": "code",
   "execution_count": null,
   "id": "7d5b6d41-7245-45fe-be96-163c27c02754",
   "metadata": {},
   "outputs": [],
   "source": [
    "track = [\"track\", \"double track\"]\n",
    "rail = [\"trolley\", \"train\", \"car\", \"coach\", \"rolling\", \"traffic\", \"light rail\", \"rail\"]\n",
    "bus = [\"bus\", \"van\", \"buses\", \"microtransit\", \"micro transit\", \"zebs\"]\n",
    "ferry = [\"ferry\", \"ferries\", \"vessel\"]\n",
    "active_transportation = [\n",
    "    \"bike\",\n",
    "    \"shelter\",\n",
    "    \"pedestrian\",\n",
    "    \"cycle\",\n",
    "    \"crosswalk\",\n",
    "    \"sidewalk\",\n",
    "    \"bicycle\",\n",
    "]\n",
    "network = [\"network\"]\n",
    "parking = [\"parking\", \"lots\", \"deck\"]\n",
    "facilities = [\n",
    "    \"center\",\n",
    "    \"facility\",\n",
    "    \"station\",\n",
    "    \"hub\",\n",
    "    \"islands\",\n",
    "    \"shelter\",\n",
    "    \"shade\",\n",
    "    \"location\",\n",
    "    \"center\",\n",
    "    \"stations\"\n",
    "]\n",
    "charging = [\"charging\", \"charge\"]\n",
    "storm_drain = [\"storm\"]\n",
    "street = [\n",
    "    \"street\",\n",
    "    \"signal\",\n",
    "    \"signaling\",\n",
    "    \"traffic control\",\n",
    "    \"road\",\n",
    "    \"lane\",\n",
    "    \"surface\",\n",
    "    \"interchange\",\n",
    "    \"intersection\",\n",
    "    \"shoulder\",\n",
    "    \"grade separations\",\n",
    "    \"crossing\",\n",
    "    \"border\",\n",
    "    \"corridor\",\n",
    "]\n",
    "other_vehicles = [\"vehicle\", \"zemu\"]\n",
    "bridge_tunnel = [\"bridge\", \"tunnel\"]\n",
    "infrastructure = [\n",
    "    \"infrastructure\",\n",
    "    \"bluff\",\n",
    "    \"operation\",\n",
    "    \"ramp\",\n",
    "    \"mainline\",\n",
    "    \"port\",\n",
    "    \"fiber optic\",\n",
    "]\n",
    "ontime_transit_improvements = [\n",
    "    \"ITS\",\n",
    "    \"signange\",\n",
    "    \"mobile app\",\n",
    "    \"ticket\",\n",
    "    \"ridership\",\n",
    "    \"expanded\",\n",
    "    \"service\",\n",
    "    \"time\",\n",
    "    \"route\",\n",
    "]"
   ]
  },
  {
   "cell_type": "code",
   "execution_count": null,
   "id": "2910de4e-0962-4ba5-a6b3-db3f902a55a6",
   "metadata": {
    "scrolled": true,
    "tags": []
   },
   "outputs": [],
   "source": [
    "my_keywords_list = [\n",
    "    track,\n",
    "    rail,\n",
    "    bus,\n",
    "    ferry,\n",
    "    active_transportation,\n",
    "    network,\n",
    "    parking,\n",
    "    facilities,\n",
    "    charging,\n",
    "    storm_drain,\n",
    "    street,\n",
    "    other_vehicles,\n",
    "    bridge_tunnel,\n",
    "    infrastructure,\n",
    "    ontime_transit_improvements,\n",
    "]"
   ]
  },
  {
   "cell_type": "code",
   "execution_count": null,
   "id": "2eeb548b-aec3-4d6e-9cb6-3ff5ecf58aaf",
   "metadata": {
    "scrolled": true,
    "tags": []
   },
   "outputs": [],
   "source": [
    "my_new_column_names_list = [\n",
    "    \"track\",\n",
    "    \"rail\",\n",
    "    \"bus\",\n",
    "    \"ferry\",\n",
    "    \"active_transportation\",\n",
    "    \"network\",\n",
    "    \"parking\",\n",
    "    \"facilities\",\n",
    "    \"charging\",\n",
    "    \"storm_drain\",\n",
    "    \"street\",\n",
    "    \"other_vehicles\",\n",
    "    \"bridge_tunnels\",\n",
    "    \"infrastructure\",\n",
    "    \"ontime_transit_improvements\",\n",
    "]"
   ]
  },
  {
   "cell_type": "code",
   "execution_count": null,
   "id": "df3daadb-a7e4-4513-a53d-b195b2fe59b1",
   "metadata": {},
   "outputs": [],
   "source": [
    "tircp3 = A8_strings.total_procurement_estimates(\n",
    "    tircp3,\n",
    "    \"clean_components\",\n",
    "    my_keywords_list,\n",
    "    my_new_column_names_list,\n",
    ")"
   ]
  },
  {
   "cell_type": "code",
   "execution_count": null,
   "id": "a706efad-0c94-411a-8cff-285d534c7af2",
   "metadata": {},
   "outputs": [],
   "source": [
    "def fill_in_zeroes(df, keywords: list, description_column: str, new_col_name: str):\n",
    "    # Delinate items in keywords list using |\n",
    "    keywords_blob = f\"({'|'.join(keywords)})\"\n",
    "\n",
    "    # If a keyword appears in the desc\n",
    "    # Automatically add it as 1\n",
    "    keywords_dict = dict.fromkeys(keywords, 1)\n",
    "\n",
    "    df[new_col_name] = (\n",
    "        df[description_column]\n",
    "        .str.extract(keywords_blob, expand=False)\n",
    "        .replace(keywords_dict)\n",
    "        .fillna(0)\n",
    "    )\n",
    "    return df"
   ]
  },
  {
   "cell_type": "code",
   "execution_count": null,
   "id": "a0562174-c9a7-432d-81ee-d0e73374a2aa",
   "metadata": {},
   "outputs": [],
   "source": [
    "# Turn this into a function later\n",
    "for i in range(0, len(my_keywords_list)):\n",
    "    tircp4 = fill_in_zeroes(\n",
    "        tircp3,\n",
    "        my_keywords_list[i],\n",
    "        \"clean_components\",\n",
    "        f\"new_{my_new_column_names_list[i]}\",\n",
    "    )\n",
    "\n",
    "    # Replace any zeroes in the original columns with 1\n",
    "    # if a keyword is found\n",
    "    # https://stackoverflow.com/questions/68243146/replace-zero-with-value-of-an-other-column-using-pandas\n",
    "    tircp4[f\"total_{my_new_column_names_list[i]}\"] = tircp4[\n",
    "        f\"total_{my_new_column_names_list[i]}\"\n",
    "    ].mask(\n",
    "        tircp4[f\"total_{my_new_column_names_list[i]}\"].eq(0),\n",
    "        tircp4[f\"new_{my_new_column_names_list[i]}\"],\n",
    "    )\n",
    "\n",
    "    tircp4 = tircp4[tircp4.columns.drop(list(tircp4.filter(regex=\"new\")))]"
   ]
  },
  {
   "cell_type": "code",
   "execution_count": null,
   "id": "0ff154ef-02c8-4d46-b50b-a489b2625861",
   "metadata": {},
   "outputs": [],
   "source": [
    "additional_keywords = [\n",
    "    \"microtransit\",\n",
    "    \"emission\",\n",
    "    \"conversion\",\n",
    "    \"zero\",\n",
    "    \"hydrogen\",\n",
    "    \"battery\",\n",
    "    \"electric\",\n",
    "    \"hybrid\",\n",
    "    \"zev\",\n",
    "    \"zemu\",\n",
    "]"
   ]
  },
  {
   "cell_type": "code",
   "execution_count": null,
   "id": "c3809844-338f-4456-aa9c-e013145782d2",
   "metadata": {},
   "outputs": [],
   "source": [
    "def extract_keywords(df, list_of_words: list, more_keywords: list, column: str):\n",
    "    \"\"\"\n",
    "    Extract keywords found in a certain column\n",
    "    into a new column called \"categories\"\n",
    "    \"\"\"\n",
    "    for i in list_of_words: more_keywords.extend(i)\n",
    "\n",
    "    query = \"|\".join(more_keywords)\n",
    "\n",
    "    df[\"categories\"] = df[column].str.lower().str.findall(r\"\\b({})\\b\".format(query))\n",
    "    return df"
   ]
  },
  {
   "cell_type": "code",
   "execution_count": null,
   "id": "3fff5534-97b0-4970-9830-60cf9205bdc0",
   "metadata": {},
   "outputs": [],
   "source": [
    "tircp4 = extract_keywords(\n",
    "    tircp4, my_keywords_list, additional_keywords, \"allocation_components\"\n",
    ")"
   ]
  },
  {
   "cell_type": "markdown",
   "id": "db0b8a4b-bb79-4f5c-9a08-60254b6d4e56",
   "metadata": {
    "tags": []
   },
   "source": [
    "### Add in info from TIRCP Battery and Hydrogen Fuel Cell Bus list 10-10-2022 (1).xlsx"
   ]
  },
  {
   "cell_type": "code",
   "execution_count": null,
   "id": "d08a3829-b888-432a-a2c1-e18f4e5ffb91",
   "metadata": {},
   "outputs": [],
   "source": [
    "battery_drop_cols = [\n",
    "    \"local_agency_contact\",\n",
    "    \"local_agency_email\",\n",
    "    \"local_agency_phone_number\",\n",
    "    \"awarded_allocated\",\n",
    "    \"procured_contracted\",\n",
    "    \"components\",\n",
    "]"
   ]
  },
  {
   "cell_type": "code",
   "execution_count": null,
   "id": "dd08fdda-89d7-46e1-8557-b0fae2fd300d",
   "metadata": {},
   "outputs": [],
   "source": [
    "battery = read_in_files(\"TIRCP Battery and Hydrogen Fuel Cell Bus list 10-10-2022 (1).xlsx\", battery_drop_cols)"
   ]
  },
  {
   "cell_type": "code",
   "execution_count": null,
   "id": "d5b5dcbb-62d5-4a67-81a4-04d7f7f31a64",
   "metadata": {},
   "outputs": [],
   "source": [
    "battery.sample()"
   ]
  },
  {
   "cell_type": "code",
   "execution_count": null,
   "id": "ed76fb49-cd3b-4de0-82ad-2ce10e481e0d",
   "metadata": {},
   "outputs": [],
   "source": [
    "battery[\"project_number\"] = (\n",
    "    battery[\"award_year\"].astype(str) + \"-\" + battery[\"project_#\"].map(\"{:02}\".format).astype(str)\n",
    ")"
   ]
  },
  {
   "cell_type": "code",
   "execution_count": null,
   "id": "390e85bd-2873-4eec-9e8c-50d711aa068d",
   "metadata": {},
   "outputs": [],
   "source": [
    "battery[\"hydrogen_battery_buses\"] = battery['#_hydrogen_fuel_cell_buses'] + battery['#_battery_electric_buses']"
   ]
  },
  {
   "cell_type": "code",
   "execution_count": null,
   "id": "1fa4791b-f2da-44a4-adff-714f3f789661",
   "metadata": {},
   "outputs": [],
   "source": [
    "tircp4.merge(battery[['project_number','hydrogen_battery_buses']], how=\"outer\", on=[\"project_number\"], indicator= True)[[\"_merge\"]].value_counts()"
   ]
  },
  {
   "cell_type": "code",
   "execution_count": null,
   "id": "3281a93b-78b4-45d4-8adf-5840645a358b",
   "metadata": {},
   "outputs": [],
   "source": [
    "tircp4 = tircp4.merge(battery[['project_number','hydrogen_battery_buses']], how=\"left\", on=[\"project_number\"])"
   ]
  },
  {
   "cell_type": "code",
   "execution_count": null,
   "id": "f4d6c01b-0664-4203-9719-c3d8575be58c",
   "metadata": {},
   "outputs": [],
   "source": [
    "tircp4[\"total_bus\"] = tircp4[\"total_bus\"].mask(\n",
    "        tircp4[\"total_bus\"].eq(0),\n",
    "        tircp4[\"hydrogen_battery_buses\"],\n",
    "    ).fillna(0)"
   ]
  },
  {
   "cell_type": "code",
   "execution_count": null,
   "id": "9116214e-6b30-4c6a-b9b6-77d32665fb05",
   "metadata": {
    "scrolled": true,
    "tags": []
   },
   "outputs": [],
   "source": [
    "# tircp4[['project_number','total_bus','hydrogen_battery_buses']]"
   ]
  },
  {
   "cell_type": "markdown",
   "id": "c46d4a7b-8e0f-45f6-8915-a87617dcb1fc",
   "metadata": {},
   "source": [
    "### Clean"
   ]
  },
  {
   "cell_type": "code",
   "execution_count": null,
   "id": "a33006d1-4cdf-4d93-8d0a-8d4c15570b50",
   "metadata": {},
   "outputs": [],
   "source": [
    "# Subset for only relevant columns\n",
    "outputs_cols = [\n",
    "    \"project_project_title\",\n",
    "    \"project_award_year\",\n",
    "    \"allocation_components\",\n",
    "    \"categories\",\n",
    "    \"total_track\",\n",
    "    \"total_rail\",\n",
    "    \"total_bus\",\n",
    "    \"total_ferry\",\n",
    "    \"total_active_transportation\",\n",
    "    \"total_network\",\n",
    "    \"total_parking\",\n",
    "    \"total_facilities\",\n",
    "    \"total_charging\",\n",
    "    \"total_storm_drain\",\n",
    "    \"total_street\",\n",
    "    \"total_other_vehicles\",\n",
    "    \"total_bridge_tunnels\",\n",
    "    \"total_infrastructure\",\n",
    "    \"total_ontime_transit_improvements\",\n",
    "]"
   ]
  },
  {
   "cell_type": "code",
   "execution_count": null,
   "id": "04a4720f-478d-4c90-9516-94e30fbfb204",
   "metadata": {},
   "outputs": [],
   "source": [
    "outputs = tircp4[outputs_cols]"
   ]
  },
  {
   "cell_type": "code",
   "execution_count": null,
   "id": "c755daaf-ae85-4fb5-83d2-0b660c6fa3a4",
   "metadata": {},
   "outputs": [],
   "source": [
    "groupby_cols = [\n",
    "    \"project_project_title\",\n",
    "    \"project_award_year\",\n",
    "    \"allocation_components\",\n",
    "    \"total_track\",\n",
    "    \"total_rail\",\n",
    "    \"total_bus\",\n",
    "    \"total_ferry\",\n",
    "    \"total_active_transportation\",\n",
    "    \"total_network\",\n",
    "    \"total_parking\",\n",
    "    \"total_facilities\",\n",
    "    \"total_charging\",\n",
    "    \"total_storm_drain\",\n",
    "    \"total_street\",\n",
    "    \"total_other_vehicles\",\n",
    "    \"total_bridge_tunnels\",\n",
    "    \"total_infrastructure\",\n",
    "    \"total_ontime_transit_improvements\",\n",
    "]"
   ]
  },
  {
   "cell_type": "code",
   "execution_count": null,
   "id": "d74f10c3-e306-48cf-af03-f1ea1087cc9c",
   "metadata": {},
   "outputs": [],
   "source": [
    "# All the category values are packed into a list\n",
    "# Have to expode them out in order to use groupby\n",
    "# to do: add this step in the function 'extract_keywords'\n",
    "outputs2 = (\n",
    "    outputs.explode(\"categories\")\n",
    "    .sort_values([\"project_award_year\", \"project_project_title\"])\n",
    "    .drop_duplicates(subset=[\"project_project_title\", \"categories\"])\n",
    "    .fillna(\" \")\n",
    ")"
   ]
  },
  {
   "cell_type": "code",
   "execution_count": null,
   "id": "6113bdd4-424a-430f-98da-cc420c06bbb5",
   "metadata": {},
   "outputs": [],
   "source": [
    "outputs2 = outputs2.groupby(groupby_cols)[\"categories\"].apply(\",\".join).reset_index()"
   ]
  },
  {
   "cell_type": "code",
   "execution_count": null,
   "id": "6bb08812-7caa-4fa5-a237-c0325b903ec6",
   "metadata": {},
   "outputs": [],
   "source": [
    "agg_cols = [\n",
    "    \"total_bus\",\n",
    "    \"total_ferry\",\n",
    "    \"total_active_transportation\",\n",
    "    \"total_network\",\n",
    "    \"total_parking\",\n",
    "    \"total_facilities\",\n",
    "    \"total_charging\",\n",
    "    \"total_storm_drain\",\n",
    "    \"total_street\",\n",
    "    \"total_other_vehicles\",\n",
    "    \"total_bridge_tunnels\",\n",
    "    \"total_infrastructure\",\n",
    "    \"total_ontime_transit_improvements\",\n",
    "]"
   ]
  },
  {
   "cell_type": "code",
   "execution_count": null,
   "id": "49bac7d9-43ad-4dec-b43c-63d37a9a451e",
   "metadata": {},
   "outputs": [],
   "source": [
    "outputs3 = outputs2.groupby([\n",
    "        \"project_award_year\",\n",
    "        \"project_project_title\",\n",
    "        \"allocation_components\",\n",
    "        \"categories\",\n",
    "    ]\n",
    ").agg({**{e: \"max\" for e in agg_cols}})"
   ]
  },
  {
   "cell_type": "markdown",
   "id": "f7fa9b2d-2552-42d8-9e0f-c6365f8f57d9",
   "metadata": {},
   "source": [
    "## Outcomes\n",
    "### Clean up Projects Sheet"
   ]
  },
  {
   "cell_type": "code",
   "execution_count": null,
   "id": "d78d57f1-92b6-4af6-b12d-71acb6204410",
   "metadata": {},
   "outputs": [],
   "source": [
    "def clean_project():\n",
    "    project = A1_data_prep.clean_project()\n",
    "    \n",
    "    project = project.loc[project[\"project_award_year\"] >=2018].reset_index(drop = True)\n",
    "    \n",
    "    project[\"project_number\"] = (project[\"project_award_year\"].astype(str) \n",
    "                                 + \"-\"+ project[\"project_project_#\"].map(\"{:02}\".format).astype(str))\n",
    "    \n",
    "    project = project[['project_award_year','project_project_title','project_grant_recipient','project_ppno', 'project_number']]\n",
    "    \n",
    "    return project"
   ]
  },
  {
   "cell_type": "code",
   "execution_count": null,
   "id": "84b99c61-c684-48e5-a2a9-ed1e39862e6c",
   "metadata": {
    "tags": []
   },
   "outputs": [],
   "source": [
    "# Subset tircp\n",
    "project = clean_project()"
   ]
  },
  {
   "cell_type": "code",
   "execution_count": null,
   "id": "414f07eb-0a7f-4a65-995d-55b257c5e3b5",
   "metadata": {},
   "outputs": [],
   "source": [
    "project.shape"
   ]
  },
  {
   "cell_type": "markdown",
   "id": "ec3ca81f-790c-4c4c-ab9a-cc50bd9e9b3a",
   "metadata": {},
   "source": [
    "### AwardedProjectsDetail.xlsx"
   ]
  },
  {
   "cell_type": "code",
   "execution_count": null,
   "id": "1b9e3763-1396-4a89-9485-8d1eda5768dc",
   "metadata": {},
   "outputs": [],
   "source": [
    "drisi_drop_cols = [\n",
    "    \"agency_code\",\n",
    "    \"agency_short_name\",\n",
    "    \"sub_program_description\",\n",
    "    \"agency_name\",\n",
    "    \"program_short_name\",\n",
    "    \"program_name\",\n",
    "    \"program_description\",\n",
    "    \"sub_program_short_name\",\n",
    "    \"sub_program_name\",\n",
    "    \"project_type\",\n",
    "    \"agency\",\n",
    "    \"program\",\n",
    "    \"date_imported\",\n",
    "    \"contractor_or_awardee_admin_expenses\",\n",
    "    \"voucher_id\",\n",
    "    \"project_is_completed\",\n",
    "    \"project_is_canceled\"\n",
    "]"
   ]
  },
  {
   "cell_type": "code",
   "execution_count": null,
   "id": "5e745c64-b3d5-4e8e-af31-a0b94ef75966",
   "metadata": {},
   "outputs": [],
   "source": [
    "drisi = read_in_files(\"AwardedProjectsDetail.xlsx\", drisi_drop_cols)"
   ]
  },
  {
   "cell_type": "code",
   "execution_count": null,
   "id": "ca88683a-43ae-42f0-9370-6ba8e73a4923",
   "metadata": {},
   "outputs": [],
   "source": [
    "drisi.shape"
   ]
  },
  {
   "cell_type": "code",
   "execution_count": null,
   "id": "d212712c-896c-4990-b131-3e5f8511950a",
   "metadata": {},
   "outputs": [],
   "source": [
    "outer_drisi, m1 = merge_value_counts(project, drisi, \"project_number\", \"project_id\",) "
   ]
  },
  {
   "cell_type": "code",
   "execution_count": null,
   "id": "0679dd27-2070-4914-bc9e-379b271f59d4",
   "metadata": {},
   "outputs": [],
   "source": [
    "m1 = m1.drop(columns = ['record_type', \"project_id\", \"project_life_years\", \"project_status\"])"
   ]
  },
  {
   "cell_type": "code",
   "execution_count": null,
   "id": "e68935e2-77db-465c-8679-1efb04bc9ecf",
   "metadata": {},
   "outputs": [],
   "source": [
    "m1.shape"
   ]
  },
  {
   "cell_type": "markdown",
   "id": "f1a17d72-bc99-416a-a17e-08ee89a06c6e",
   "metadata": {},
   "source": [
    "### ImplementedProjectsDetail.xlsx"
   ]
  },
  {
   "cell_type": "code",
   "execution_count": null,
   "id": "ffce324d-28b3-4f84-80a6-9793748c9af6",
   "metadata": {
    "scrolled": true,
    "tags": []
   },
   "outputs": [],
   "source": [
    "implemented_drop_cols = [\n",
    "    \"programuniqueidentifier\",\n",
    "    \"record_type\",\n",
    "    \"reporting_cycle_name\",\n",
    "    \"agency_short_name\",\n",
    "    \"agency_name\",\n",
    "    \"date_operational\",\n",
    "    \"program_name\",\n",
    "    \"program_description\",\n",
    "    \"project_completion_date\",\n",
    "    \"date_imported\",\n",
    "    \"sub_program_name\",\n",
    "    \"date_selected_for_award\",\n",
    "    \"project_name\",\n",
    "    \"project_type\",\n",
    "    \"fiscal_year_funding_project\",\n",
    "    \"census_tract\",\n",
    "    \"address\",\n",
    "    \"lat_long\",\n",
    "    \"total_program_ggrffunding\",\n",
    "    \"voucher_name\",\n",
    "    \"voucher_description\",\n",
    "]"
   ]
  },
  {
   "cell_type": "code",
   "execution_count": null,
   "id": "00477756-40d9-4737-be33-824443520459",
   "metadata": {},
   "outputs": [],
   "source": [
    "implemented = read_in_files(\"ImplementedProjectsDetail.xlsx\", implemented_drop_cols)"
   ]
  },
  {
   "cell_type": "code",
   "execution_count": null,
   "id": "f524a1ad-57d4-4dcb-9cba-600b5f7b2f3a",
   "metadata": {},
   "outputs": [],
   "source": [
    "outer_implemented, m2 = merge_value_counts(m1, implemented, \"project_number\", \"project_idnumber\") "
   ]
  },
  {
   "cell_type": "code",
   "execution_count": null,
   "id": "54e30d11-da98-4942-92e7-54722cf4bca3",
   "metadata": {},
   "outputs": [],
   "source": [
    "m2 = m2.drop(columns = ['project_count',\"project_idnumber\",'proj_rec_id','voucher_id'])"
   ]
  },
  {
   "cell_type": "code",
   "execution_count": null,
   "id": "c3b45544-4489-46fa-ae52-91b07de26e91",
   "metadata": {},
   "outputs": [],
   "source": [
    "# Why does the df become so large?\n",
    "m2.shape"
   ]
  },
  {
   "cell_type": "code",
   "execution_count": null,
   "id": "26aa9626-726d-459a-93de-290b7fd64524",
   "metadata": {},
   "outputs": [],
   "source": [
    "m2 = m2.drop_duplicates(subset = [\"project_ppno\", \"project_number\"])"
   ]
  },
  {
   "cell_type": "code",
   "execution_count": null,
   "id": "5177d6f3-2aec-4495-b626-d1365b9f680c",
   "metadata": {},
   "outputs": [],
   "source": [
    "m2.shape"
   ]
  },
  {
   "cell_type": "markdown",
   "id": "46fd61fe-13bb-4cfa-b9b0-3c9bc1a919f8",
   "metadata": {
    "tags": []
   },
   "source": [
    "### OutcomeProjectsDetail.xlsx "
   ]
  },
  {
   "cell_type": "code",
   "execution_count": null,
   "id": "5b613084-5dbe-4fce-9294-ac6646f13b71",
   "metadata": {},
   "outputs": [],
   "source": [
    "outcomes_drop_cols = [\n",
    "    \"unnamed:_0\",\n",
    "    \"proj_rec_id\",\n",
    "    \"reporting_cycle_name\",\n",
    "    \"agency_short_name\",\n",
    "    \"agency_name\",\n",
    "    \"program_short_name\",\n",
    "    \"program_name\",\n",
    "    \"program_description\",\n",
    "    \"record_type\",\n",
    "    \"sub_program_short_name\",\n",
    "    \"sub_program_name\",\n",
    "    \"sub_program_description\",\n",
    "    \"date_imported\",\n",
    "]"
   ]
  },
  {
   "cell_type": "code",
   "execution_count": null,
   "id": "567ed66a-cd3e-4b59-8189-8b59fc432521",
   "metadata": {},
   "outputs": [],
   "source": [
    "outcomes = read_in_files(\"OutcomeProjectsDetail.xlsx\", outcomes_drop_cols)"
   ]
  },
  {
   "cell_type": "code",
   "execution_count": null,
   "id": "3e7ae80a-83b3-4046-81d6-50c04cc8f348",
   "metadata": {
    "scrolled": true,
    "tags": []
   },
   "outputs": [],
   "source": [
    "# outcomes.sort_values('projectid_number')"
   ]
  },
  {
   "cell_type": "code",
   "execution_count": null,
   "id": "45726027-5769-4ea2-b372-e984bd7e5947",
   "metadata": {
    "scrolled": true,
    "tags": []
   },
   "outputs": [],
   "source": [
    "# list(outcomes.columns)"
   ]
  },
  {
   "cell_type": "code",
   "execution_count": null,
   "id": "475fab28-094a-4689-b96a-7d276772c22d",
   "metadata": {},
   "outputs": [],
   "source": [
    "outer_outcomes, m3 = merge_value_counts(m2, outcomes, \"project_number\", \"projectid_number\") "
   ]
  },
  {
   "cell_type": "code",
   "execution_count": null,
   "id": "c7a90425-8677-46ac-8809-d23de5b8be03",
   "metadata": {},
   "outputs": [],
   "source": [
    "outer_outcomes._merge.value_counts()"
   ]
  },
  {
   "cell_type": "code",
   "execution_count": null,
   "id": "13e74906-e625-4c0e-868d-0788fd7af85f",
   "metadata": {},
   "outputs": [],
   "source": [
    "outer_outcomes.loc[outer_outcomes._merge == \"right_only\"]['projectid_number'].unique()"
   ]
  },
  {
   "cell_type": "code",
   "execution_count": null,
   "id": "09b9fb23-35d6-49b5-b2d1-f2fa8e52289d",
   "metadata": {},
   "outputs": [],
   "source": [
    "m3 = m3.drop(columns = [\"projectid_number\"])"
   ]
  },
  {
   "cell_type": "code",
   "execution_count": null,
   "id": "6939385a-db4d-488a-8537-208700a33479",
   "metadata": {},
   "outputs": [],
   "source": [
    "m3.shape"
   ]
  },
  {
   "cell_type": "code",
   "execution_count": null,
   "id": "adb6202a-591c-404d-90ef-f8e6d8ffefd6",
   "metadata": {},
   "outputs": [],
   "source": [
    "id_cols = [\n",
    " 'project_number',\n",
    " 'project_project_title']"
   ]
  },
  {
   "cell_type": "code",
   "execution_count": null,
   "id": "634a6c97-6a7c-4e58-ae96-99442e8b8f75",
   "metadata": {
    "jupyter": {
     "source_hidden": true
    },
    "tags": []
   },
   "outputs": [],
   "source": [
    "value_cols = ['annual_project_ghgreductions',\n",
    " 'total_project_ghgreductions',\n",
    " 'vmtreductions',\n",
    " 'number_of_housing_units',\n",
    " 'number_of_affordable_housing_units',\n",
    " 'estimated_total_recycling_tons',\n",
    " 'estimated_ridership_increases',\n",
    " 'estimated_acres_preserved',\n",
    " 'estimated_acres_restored',\n",
    " 'estimated_num_riders_served',\n",
    " 'estimated_waste_digested_tons',\n",
    " 'estimated_diverted_from_landfills_tons',\n",
    " 'reclaimed_food_tons',\n",
    " 'estimated_incentives_to_be_issued',\n",
    " 'number_of_rebates_issued',\n",
    " 'estimated_number_of_trees_to_be_planted',\n",
    " 'estimated_energy_saved_kwh',\n",
    " 'estimated_energy_saved_therms',\n",
    " 'estimated_water_saved_gallons',\n",
    " 'estimated_energy_generated_kwh',\n",
    " 'estimated_total_criteria_air_pol_red_tons',\n",
    " 'estimated_fuel_use_reduction_gal',\n",
    " 'estimated_num_vehicles_in_service',\n",
    " 'cesversion',\n",
    " 'direct_jobs_fte',\n",
    " 'indirect_jobs_fte',\n",
    " 'induced_jobs_fte',\n",
    " 'non_ggrffunded',\n",
    " 'project_life_years',\n",
    " 'is_benefit_disadvantaged_communities',\n",
    " 'disadvantaged_community_criteria',\n",
    " 'disadvantaged_community_need',\n",
    " 'disadvantaged_community_census_tracts',\n",
    " 'vouchers_benefiting_disadvantaged_communities',\n",
    " 'rebates_within_disadvantaged_communities',\n",
    " 'ab1550choice',\n",
    " 'buffer_count',\n",
    " 'is_ab1550buffer_region',\n",
    " 'dac1550count',\n",
    " 'is_benefit_dac1550communities',\n",
    " 'low_income_count',\n",
    " 'low_income_housing_count',\n",
    " 'is_low_income_communities',\n",
    " 'potential_buffer_count',\n",
    " 'potential_dac1550count',\n",
    " 'potential_low_income_count',\n",
    " 'estimated_acres_treated',\n",
    " 'renewable_fuel_generation_tons',\n",
    " 'wood_burning_reduction_cords',\n",
    " 'black_carbon_reductions_pounds',\n",
    " 'stateew_dpm',\n",
    " 'stateew_nox',\n",
    " 'stateew_pm25',\n",
    " 'stateew_rog',\n",
    " 'diesel_pm_reductions_pounds',\n",
    " 'nox_reductions_pounds',\n",
    " 'pm25reductions_pounds',\n",
    " 'rog_reductions_pounds',\n",
    " 'number_of_plans',\n",
    " 'pollinator_acreage',\n",
    " 'research_grant',\n",
    " 'science_advancement',\n",
    " 'soil_benefit',\n",
    " 'est_energy_gen_scf',\n",
    " 'est_source_red_tons',\n",
    " 'fuel_treatment_num',\n",
    " 'education_event_num',\n",
    " 'energy_audit_buildings',\n",
    " 'est_divert_landfills_tons',\n",
    " 'est_fuel_gen_gal',\n",
    " 'climate__adaptation',\n",
    " 'community__engagement',\n",
    " 'compost__produced_tons',\n",
    " 'compost__produced_tons__yr',\n",
    " 'net_density__dua',\n",
    " 'applicants__assisted',\n",
    " 'invasive_cover_12_months',\n",
    " 'invasive_cover_36_months',\n",
    " 'project_acreage',\n",
    " 'intermediaryadminexpenses',\n",
    " 'nongggrf_funded',\n",
    " 'dactable',\n",
    " 'fg17comm_need',\n",
    " 'fg17comm_need_qual',\n",
    " 'daccommunity_benefit_critieria_met',\n",
    " 'acres_preserved',\n",
    " 'acres_treated',\n",
    " 'amt_reduction',\n",
    " 'baseline_pasture_weeks',\n",
    " 'biomass_delivered_bdtyr',\n",
    " 'add_acres_preserved',\n",
    " 'add_acres_preserved_1',\n",
    " 'biomass_carbon_change_mtco2yr',\n",
    " 'biomass_delivered_bfyr',\n",
    " 'ch4em_rate_mtco2yr',\n",
    " 'co2em_rate_mtco2yr',\n",
    " 'cardboard_recycled_tons_yr',\n",
    " 'census_tract',\n",
    " 'commercial_space_use_pct',\n",
    " 'compost_produced_tons_yr',\n",
    " 'compost_rate_stayr',\n",
    " 'cover_crop_desc',\n",
    " 'dpmchange_tons_yr',\n",
    " 'daily_riders',\n",
    " 'days_op_yr',\n",
    " 'diesel_change_gal_yr',\n",
    " 'diesel_use_gal_yr',\n",
    " 'disturbance_tree_mortality_rate',\n",
    " 'diverted_tons_yr',\n",
    " 'energy_change_kwh_hhs',\n",
    " 'energy_change_kwh_yr',\n",
    " 'energy_change_mmbtuhhs',\n",
    " 'energy_change_scfhhs',\n",
    " 'energy_change_scfry',\n",
    " 'energy_gen_gal_yr',\n",
    " 'energy_gen_kwh_gs',\n",
    " 'energy_gen_kwh_yr',\n",
    " 'energy_gen_mmbtuyr',\n",
    " 'energy_gen_mwyr',\n",
    " 'energy_gen_scfyr',\n",
    " 'energy_use_kwh_yr',\n",
    " 'energy_use_scfyr',\n",
    " 'fireplace_cstove',\n",
    " 'fireplace_electric',\n",
    " 'fireplace_ncstove',\n",
    " 'fireplace_ng',\n",
    " 'fireplace_propane',\n",
    " 'food_rescued_tons_yr',\n",
    " 'food_source_red_tons_yr',\n",
    " 'ghgchange_mtco2yr',\n",
    " 'gasoline_change_gal_yr',\n",
    " 'gasoline_user_gal_yr',\n",
    " 'glass_recycled_tons_yr',\n",
    " 'hdprecycled_tons_yr',\n",
    " 'hardwood_pct',\n",
    " 'harvested_wood_bdtyr',\n",
    " 'harvested_wood_bfyr',\n",
    " 'housing_occupancy_rate',\n",
    " 'is_agreement_check',\n",
    " 'low_income_mode_share',\n",
    " 'lumber_recycled_tons_yr',\n",
    " 'mag_mail_recycled_tons_yr',\n",
    " 'mattress_recycled_tons_yr',\n",
    " 'mattress_renovate_tons_yr',\n",
    " 'methane_destroy_mtyr',\n",
    " 'methane_used_mtyr',\n",
    " 'mill_efficiency_pct',\n",
    " 'misc_pct',\n",
    " 'n2oem_rate_mtco2yr',\n",
    " 'newspaper_recycled_tons_yr',\n",
    " 'nox_change_tons_yr',\n",
    " 'nyl66carpet_cush_recycled_tons_yr',\n",
    " 'nyl66carpet_engr_recycled_tons_yr',\n",
    " 'nyl66carpet_tile_recycled_tons_yr',\n",
    " 'nyl6carpet_cush_recycled_tons_yr',\n",
    " 'nyl6carpet_engr_recycled_tons_yr',\n",
    " 'nyl6carpet_tile_recycled_tons_yr',\n",
    " 'other_material',\n",
    " 'other_material_tons_yr',\n",
    " 'petcarpet_cush_recycled_tons_yr',\n",
    " 'petrecycled_tons_yr',\n",
    " 'pmchange_tons_yr',\n",
    " 'panels_pct',\n",
    " 'paper_pct',\n",
    " 'phonebooks_recycled_tons_yr',\n",
    " 'planted_tree_mortality_rate',\n",
    " 'plywood_pct',\n",
    " 'poly_carpet_cush_recycled_tons_yr',\n",
    " 'poly_carpet_engr_recycled_tons_yr',\n",
    " 'poly_carpet_yrn_recycled_tons_yr',\n",
    " 'project_pasture_weeks',\n",
    " 'project_pasture_weeks_1',\n",
    " 'quantity_buildings',\n",
    " 'quantity_residences',\n",
    " 'rogchange_tons_yr',\n",
    " 'resident_mode_share',\n",
    " 'resident_transit_use_pct',\n",
    " 'residual_lanfilled_mat_tons_yr',\n",
    " 'ridership_day',\n",
    " 'softwood_pct',\n",
    " 'soil_carbon_change_mtcoyr',\n",
    " 'standboard_pct',\n",
    " 'storm_water_capture_afyr',\n",
    " 'tech_assessment',\n",
    " 'tech_assessment_1',\n",
    " 'textiles_recycled_tons_yr',\n",
    " 'treated_tree_mortality_rate',\n",
    " 'trees_planted',\n",
    " 'uncertified_cstove',\n",
    " 'uncertified_electric',\n",
    " 'uncertified_ncstove',\n",
    " 'uncertified_ng',\n",
    " 'uncertified_propane',\n",
    " 'users_per_day',\n",
    " 'vmtchange_year',\n",
    " 'vmtyear',\n",
    " 'water_use_change_mgal_yr',\n",
    " 'wood_mill_bdtyr',\n",
    " 'wood_mill_bfyr',\n",
    " 'wood_use_chang_cord_hhs',\n",
    " 'fuel_type',\n",
    " 'housing_occupancy_rate_li',\n",
    " 'number_of_vouchers_tracked',\n",
    " 'diverted_comp_tons_yr',\n",
    " 'is_cnratio',\n",
    " 'publications_num',\n",
    " 'successful_grantees']"
   ]
  },
  {
   "cell_type": "code",
   "execution_count": null,
   "id": "8987a97d-a70c-4c17-9bcd-bb9c131bc9bd",
   "metadata": {},
   "outputs": [],
   "source": [
    "# Group by project name and number\n",
    "m3_group1 = m3.groupby(id_cols).agg({**{e: \"max\" for e in value_cols}}).T.fillna(0)"
   ]
  },
  {
   "cell_type": "markdown",
   "id": "7c2172ab-7ac9-4479-aa11-fb54856c9c93",
   "metadata": {
    "tags": []
   },
   "source": [
    "### TIRCP_AllProjects_12212022 (002).xlsx\n",
    "* Doesn't have anything interesting."
   ]
  },
  {
   "cell_type": "code",
   "execution_count": null,
   "id": "74207fb1-4d58-4222-9425-24ef2063e93c",
   "metadata": {},
   "outputs": [],
   "source": [
    "# Fill in empty values with NA\n",
    "all_projects = read_in_files(\"TIRCP_AllProjects_12212022 (002).xlsx\", [])"
   ]
  },
  {
   "cell_type": "code",
   "execution_count": null,
   "id": "49571a94-7658-4400-8f7d-0dafd8da2e73",
   "metadata": {},
   "outputs": [],
   "source": [
    "# all_projects.sample()"
   ]
  },
  {
   "cell_type": "markdown",
   "id": "7ffb64ad-4a3c-4311-99b9-da3607f2353b",
   "metadata": {},
   "source": [
    "## Save"
   ]
  },
  {
   "cell_type": "code",
   "execution_count": null,
   "id": "fcb1c43b-2adb-4c42-8ebb-487b0e34c30b",
   "metadata": {},
   "outputs": [],
   "source": [
    "with pd.ExcelWriter(f\"{GCS_FILE_PATH}drisi_outcomes_outputs.xlsx\") as writer:\n",
    "    outputs3.to_excel(writer, sheet_name=\"outputs\", index=True)\n",
    "    m3_group1.to_excel(writer, sheet_name=\"outcomes\", index=True)"
   ]
  },
  {
   "cell_type": "markdown",
   "id": "aa36d953-c76c-4228-9fd2-0966d026b0cc",
   "metadata": {},
   "source": [
    "### Save"
   ]
  },
  {
   "cell_type": "code",
   "execution_count": null,
   "id": "bb3f4f0d-7ade-4d34-9a3d-16f154e88d38",
   "metadata": {},
   "outputs": [],
   "source": [
    "\"\"\"\n",
    "with pd.ExcelWriter(f\"{GCS_FILE_PATH}calsta_draft.xlsx\") as writer:\n",
    "    outcomes.to_excel(writer, sheet_name=\"outcomes_unpivoted\", index=True)\n",
    "    outcomes_transformed.to_excel(writer, sheet_name=\"outcomes_transformed\", index=True)\n",
    "    projects.to_excel(writer, sheet_name=\"projects\", index=True)\n",
    "    year_summary.to_excel(writer, sheet_name=\"year_summary\", index=True)\n",
    "    GHG_by_year.to_excel(writer, sheet_name=\"GHG_reduction_year\", index=True)\n",
    "    \"\"\""
   ]
  }
 ],
 "metadata": {
  "kernelspec": {
   "display_name": "Python 3 (ipykernel)",
   "language": "python",
   "name": "python3"
  },
  "language_info": {
   "codemirror_mode": {
    "name": "ipython",
    "version": 3
   },
   "file_extension": ".py",
   "mimetype": "text/x-python",
   "name": "python",
   "nbconvert_exporter": "python",
   "pygments_lexer": "ipython3",
   "version": "3.9.13"
  }
 },
 "nbformat": 4,
 "nbformat_minor": 5
}
