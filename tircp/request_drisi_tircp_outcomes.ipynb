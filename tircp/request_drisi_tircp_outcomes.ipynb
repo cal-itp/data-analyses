{
 "cells": [
  {
   "cell_type": "markdown",
   "id": "83709b77-d340-42e6-bbc4-35d683947460",
   "metadata": {},
   "source": [
    "## TIRCP DRISI\n",
    "* DRISI emailed a request asking for TIRCP outcomes for cycles 3-5.  \n",
    "* [Cycles 1-6](https://calsta.ca.gov/subject-areas/transit-intercity-rail-capital-prog)\n",
    "* Cycle 1: 2015\n",
    "* Cycle 2: 2016\n",
    "* Cycle 3: 2018\n",
    "* Cycle 4: 2020\n",
    "* Cycle 5: 2022\n",
    "* Cycle 6: 2023\n",
    "\n",
    "<b>Notes 2/7/23</b>\n",
    "* Application is different than what we have in the dataset.\n",
    "* Outputs: hydrogen-battery fuel cell.\n",
    "* DRISI wants the data before end of this week.\n",
    "* Outputs\n",
    "    * Category for outputs: transit/multimodal or rail/multimodal. \n",
    "    * Pull it from `allocations` tab.\n",
    "    * Filter out design categories. We only care about 'CONST'.\n",
    "    * Transit/Multimodal\n",
    "        * Buses breakout between mobile/school/etc. Unit is each.\n",
    "            * Microtransit\n",
    "            * Bus Conversion\n",
    "            * Zero emmission (don't distinguish between hydrogen vs battery)\n",
    "            * Battery Electric\n",
    "            * Ferries\n",
    "    * Rail/Multimodal\n",
    "        * Trolleys\n",
    "        * Trains/Cars/Coach/Rolling Stocks\n",
    "        * Traffic Control\n",
    "    * Track\n",
    "        * Track Extension\n",
    "        * Double Track\n",
    "    * Network Integration improves multimodal network so everything is synced. \n",
    "    * Parking Lots/Parking Deck\n",
    "    * Active Transportation\n",
    "        * Bike Shelters/Shade Structures\n",
    "        * Bike and Pedestrians Improvements\n",
    "    * Facilities\n",
    "        * Center/Facility/Station/Station/Hub/Islands\n",
    "    * Charging Infrastructure. \n",
    "    * Storm Drain Line\n",
    "    * Street Extension\n",
    "    * Charging\n",
    "    * Signaling\n",
    "* Outcomes\n",
    "    * On Time Performance\n",
    "        * Expanded Service\n",
    "        * Routes \n",
    "        * Ridership\n",
    "        * "
   ]
  },
  {
   "cell_type": "code",
   "execution_count": null,
   "id": "de5e8978-cecf-44cf-9a92-e2282e3b2e61",
   "metadata": {
    "tags": []
   },
   "outputs": [],
   "source": [
    "import A1_data_prep\n",
    "import A2_tableau\n",
    "import A8_strings\n",
    "import numpy as np\n",
    "import pandas as pd\n",
    "from babel.numbers import format_currency\n",
    "from calitp import *"
   ]
  },
  {
   "cell_type": "code",
   "execution_count": null,
   "id": "b4635aa5-1ab6-4247-a1be-61d59f07c4ff",
   "metadata": {},
   "outputs": [],
   "source": [
    "pd.options.display.max_columns = 125\n",
    "pd.options.display.float_format = \"{:.2f}\".format\n",
    "pd.set_option(\"display.max_rows\", None)\n",
    "pd.set_option(\"display.max_colwidth\", None)"
   ]
  },
  {
   "cell_type": "code",
   "execution_count": null,
   "id": "b8d3d0ef-e239-4aeb-9f18-2ec76a39b012",
   "metadata": {},
   "outputs": [],
   "source": [
    "# GCS File Path:\n",
    "GCS_FILE_PATH = A1_data_prep.GCS_FILE_PATH"
   ]
  },
  {
   "cell_type": "code",
   "execution_count": null,
   "id": "f2ccdb66-00c1-4d79-995f-62e2774c46f4",
   "metadata": {},
   "outputs": [],
   "source": [
    "def read_in_files(file_name: str, columns_to_drop: list):\n",
    "    df = to_snakecase(pd.read_excel(f\"{A1_data_prep.GCS_FILE_PATH}{file_name}\"))\n",
    "\n",
    "    df = df.drop(columns=columns_to_drop)\n",
    "\n",
    "    df = df.fillna(df.dtypes.replace({\"float64\": 0.0, \"object\": \"None\"}))\n",
    "\n",
    "    return df"
   ]
  },
  {
   "cell_type": "markdown",
   "id": "a2036b3c-036e-4fe5-b83f-31070ef5ac6d",
   "metadata": {},
   "source": [
    "## Outputs\n",
    "### Manipulate TIRCP Project Sheet"
   ]
  },
  {
   "cell_type": "code",
   "execution_count": null,
   "id": "33ecb748-7cf6-4928-974b-8c326054fc56",
   "metadata": {},
   "outputs": [],
   "source": [
    "allocation_cols = [\"allocation_ppno\", \"allocation_award_year\",\"allocation_components\", \"allocation_phase\"]\n",
    "project_cols = [\"project_ppno\", \"project_award_year\", \"project_project_#\", \"project_project_title\", \"project_project_description\", \"project_grant_recipient\"]"
   ]
  },
  {
   "cell_type": "code",
   "execution_count": null,
   "id": "ca7218d6-b361-4342-bf3e-d3dcbadbc21e",
   "metadata": {},
   "outputs": [],
   "source": [
    "project = A1_data_prep.clean_project()"
   ]
  },
  {
   "cell_type": "code",
   "execution_count": null,
   "id": "57548f60-56c2-4ec5-8708-77d39330e102",
   "metadata": {},
   "outputs": [],
   "source": [
    "project2 = project.loc[project[\"project_award_year\"] >=2018].reset_index(drop = True)"
   ]
  },
  {
   "cell_type": "code",
   "execution_count": null,
   "id": "b1fb383e-57f4-43f3-829a-85ac74bcec82",
   "metadata": {},
   "outputs": [],
   "source": [
    "project2.groupby('project_award_year').size(), project2.groupby('project_award_year').project_ppno.nunique()"
   ]
  },
  {
   "cell_type": "code",
   "execution_count": null,
   "id": "0cdf3f5f-fe2d-4bfa-bba8-8d945c0d3c8d",
   "metadata": {},
   "outputs": [],
   "source": [
    "tircp = A1_data_prep.merge_allocation_project(project_cols, allocation_cols,\"left\")"
   ]
  },
  {
   "cell_type": "code",
   "execution_count": null,
   "id": "59e68acb-6066-4cb8-8d1a-cffa5c82b23e",
   "metadata": {},
   "outputs": [],
   "source": [
    "# Drop irrelevant years & non-construction.\n",
    "tircp2 = tircp[(tircp[\"project_award_year\"] >= 2018)].reset_index(drop = True)"
   ]
  },
  {
   "cell_type": "code",
   "execution_count": null,
   "id": "8a6d0a95-9240-4020-95a9-19a1645b9b63",
   "metadata": {},
   "outputs": [],
   "source": [
    "tircp2.groupby('project_award_year').project_ppno.nunique()"
   ]
  },
  {
   "cell_type": "code",
   "execution_count": null,
   "id": "8626c45a-47c6-412a-a1b6-35ec65ec1918",
   "metadata": {},
   "outputs": [],
   "source": [
    "# Sort df by award year and number\n",
    "tircp2 = tircp2.sort_values([\"project_award_year\", \"project_project_#\", \"allocation_phase\"])"
   ]
  },
  {
   "cell_type": "code",
   "execution_count": null,
   "id": "04d0cf24-1ffd-4039-824b-ed9a27e8c0b0",
   "metadata": {},
   "outputs": [],
   "source": [
    "# Create project number\n",
    "# Map 0 to another single digit numbers\n",
    "# https://stackoverflow.com/questions/20990863/python-pandas-add-leading-zero-to-make-all-months-2-digits\n",
    "tircp2[\"project_number\"] = (tircp2[\"project_award_year\"].astype(str) + \"-\"  + tircp2[\"project_project_#\"].astype(str))"
   ]
  },
  {
   "cell_type": "code",
   "execution_count": null,
   "id": "474c82a7-3cd5-4ab9-b432-6247ba1d5446",
   "metadata": {},
   "outputs": [],
   "source": [
    "tircp2.allocation_phase.value_counts()"
   ]
  },
  {
   "cell_type": "code",
   "execution_count": null,
   "id": "350cbb24-3293-4c17-b14b-e353235ff91b",
   "metadata": {},
   "outputs": [],
   "source": [
    "len(tircp2), len(tircp2.drop_duplicates(subset = [\"project_ppno\", \"allocation_components\"]))"
   ]
  },
  {
   "cell_type": "code",
   "execution_count": null,
   "id": "453d24e6-36d1-4a2e-9c82-2320f4ff6225",
   "metadata": {},
   "outputs": [],
   "source": [
    "# Drop duplicates by ppno and allocation componentes\n",
    "# Sorted by allocation phase, so construction is kept\n",
    "# if components is the same across multiple phases \n",
    "tircp3 = (tircp2.drop_duplicates(subset = [\"project_ppno\", \"allocation_components\"])).reset_index(drop = True)"
   ]
  },
  {
   "cell_type": "code",
   "execution_count": null,
   "id": "0f71169b-bf15-4025-af1c-4a5c8302d5e7",
   "metadata": {},
   "outputs": [],
   "source": [
    "tircp3.groupby('project_award_year').project_ppno.nunique()"
   ]
  },
  {
   "cell_type": "markdown",
   "id": "e40fb305-ed0b-4d2e-b0af-edc5125dff39",
   "metadata": {},
   "source": [
    "### Extract Outputs"
   ]
  },
  {
   "cell_type": "code",
   "execution_count": null,
   "id": "9ed94469-46ec-4cbd-9f2f-e568bb4242bb",
   "metadata": {},
   "outputs": [],
   "source": [
    "# Simplify description and components\n",
    "#tircp3 = A8_strings.simplify_descriptions(\n",
    "#    tircp3, \"project_project_description\", \"clean_description\", A8_strings.description_words_to_delete\n",
    "#)"
   ]
  },
  {
   "cell_type": "code",
   "execution_count": null,
   "id": "2ebd9504-203f-48d4-ba45-5cac975a6417",
   "metadata": {},
   "outputs": [],
   "source": [
    "tircp3 = A8_strings.simplify_descriptions(\n",
    "    tircp3, \"allocation_components\", \"clean_components\", A8_strings.description_words_to_delete\n",
    ")"
   ]
  },
  {
   "cell_type": "code",
   "execution_count": null,
   "id": "6d5c7d64-87ed-4f8a-a9d2-c6872f827d26",
   "metadata": {},
   "outputs": [],
   "source": [
    "tircp3 = tircp3.drop(columns = [\"allocation_ppno\",\"allocation_award_year\", \"_merge\"])"
   ]
  },
  {
   "cell_type": "code",
   "execution_count": null,
   "id": "7d5b6d41-7245-45fe-be96-163c27c02754",
   "metadata": {},
   "outputs": [],
   "source": [
    "# need plurals? \n",
    "track = [\"track\",\"double track\"]\n",
    "rail = [\"trolley\",\"train\",\"car\",\"coach\",\"rolling\",\"traffic\", \"light rail\", \"rail\"]\n",
    "bus = [\"bus\",\"van\",\"buses\",\"microtransit\",\"micro transit\"]\n",
    "ferry = [\"ferry\",\"ferries\", \"vessel\"]\n",
    "active_transportation = [\"bike\",\"shelter\", \"pedestrian\",\"cycle\", \"crosswalk\",\"sidewalk\"]\n",
    "network = [\"network\"]\n",
    "parking = [\"parking\", \"lots\", \"deck\"]\n",
    "facilities = [\"center\",\"facility\",\"station\",\"hub\",\"islands\",\"shelter\", \"shade\", \"location\",\"center\"]\n",
    "charging = [\"charging\", \"charge\"] \n",
    "storm_drain = [\"storm\"]\n",
    "street = [\"street\", \"signal\", \"signaling\", \"traffic control\", \"road\",\"lane\"]\n",
    "other_vehicles = [\"vehicles\",\"emu\",\"emus\"]\n",
    "bridge_tunnel = [\"bridge\",\"tunnel\"]\n",
    "infrastructure = [\"infrastructure\",\"bluff\"]"
   ]
  },
  {
   "cell_type": "code",
   "execution_count": null,
   "id": "2910de4e-0962-4ba5-a6b3-db3f902a55a6",
   "metadata": {
    "scrolled": true,
    "tags": []
   },
   "outputs": [],
   "source": [
    "my_keywords_list = [track,rail,bus,ferry,active_transportation,\n",
    "                    network,parking,facilities, charging, \n",
    "                    storm_drain, street, other_vehicles, bridge_tunnel, infrastructure]"
   ]
  },
  {
   "cell_type": "code",
   "execution_count": null,
   "id": "2eeb548b-aec3-4d6e-9cb6-3ff5ecf58aaf",
   "metadata": {
    "scrolled": true,
    "tags": []
   },
   "outputs": [],
   "source": [
    "my_new_column_names_list = [\"track\",\"rail\",\"bus\",\"ferry\",\"active_transportation\",\n",
    "                    \"network\",\"parking\",\"facilities\", \"charging\", \n",
    "                    \"storm_drain\", \"street\", \"other_vehicles\", \"bridge_tunnels\",\"infrastructure\"]"
   ]
  },
  {
   "cell_type": "code",
   "execution_count": null,
   "id": "df3daadb-a7e4-4513-a53d-b195b2fe59b1",
   "metadata": {},
   "outputs": [],
   "source": [
    "tircp3 = A8_strings.total_procurement_estimates(tircp3,\n",
    "    \"clean_components\",\n",
    "    my_keywords_list,\n",
    "    my_new_column_names_list,)"
   ]
  },
  {
   "cell_type": "code",
   "execution_count": null,
   "id": "a706efad-0c94-411a-8cff-285d534c7af2",
   "metadata": {},
   "outputs": [],
   "source": [
    "def fill_in_zeroes(df, keywords:list, description_column:str, new_col_name:str):\n",
    "    # Delinate items in keywords list using |\n",
    "    keywords_blob = f\"({'|'.join(keywords)})\"\n",
    "    \n",
    "    # If a keyword appears in the desc\n",
    "    # Automatically add it as 1\n",
    "    keywords_dict = dict.fromkeys(keywords, 1)\n",
    "    \n",
    "    df[new_col_name] = (df[description_column]\n",
    "                                   .str.extract(keywords_blob,expand=False)\n",
    "                                   .replace(keywords_dict)\n",
    "                                   .fillna(0)\n",
    "                                  ) \n",
    "    return df "
   ]
  },
  {
   "cell_type": "code",
   "execution_count": null,
   "id": "527e3a74-d3a3-4a7c-8db7-d2341cc1c00f",
   "metadata": {},
   "outputs": [],
   "source": [
    "# tircp3 = fill_in_zeroes(tircp3, network, \"clean_components\", \"new_network\")"
   ]
  },
  {
   "cell_type": "code",
   "execution_count": null,
   "id": "bf95ccdb-062c-4724-be00-66d13ab2eb1c",
   "metadata": {},
   "outputs": [],
   "source": [
    "for my_list in my_keywords_list:\n",
    "    for i in my_new_column_names_list:\n",
    "        tircp4 = fill_in_zeroes(tircp3,  my_list, \"clean_components\", f\"new_{i}\")"
   ]
  },
  {
   "cell_type": "code",
   "execution_count": null,
   "id": "a0562174-c9a7-432d-81ee-d0e73374a2aa",
   "metadata": {},
   "outputs": [],
   "source": [
    "for i in range(0, len(my_keywords_list)):\n",
    "        tircp4 = fill_in_zeroes(\n",
    "            tircp3, my_keywords_list[i], \"clean_components\", f\"new_{my_new_column_names_list[i]}\"\n",
    "        )\n",
    "        \n",
    "        # https://stackoverflow.com/questions/68243146/replace-zero-with-value-of-an-other-column-using-pandas\n",
    "        tircp4[f'total_{my_new_column_names_list[i]}'] = tircp4[f'total_{my_new_column_names_list[i]}'].mask(tircp4[f'total_{my_new_column_names_list[i]}'].eq(0),tircp4[f\"new_{my_new_column_names_list[i]}\"])\n",
    "        \n",
    "        tircp4 = tircp4[tircp4.columns.drop(list(tircp4.filter(regex='new')))]"
   ]
  },
  {
   "cell_type": "code",
   "execution_count": null,
   "id": "627cdece-0af4-41a9-95a4-a96d907fe54b",
   "metadata": {},
   "outputs": [],
   "source": [
    "tircp4.columns"
   ]
  },
  {
   "cell_type": "markdown",
   "id": "96e643dd-9edb-4f56-9193-13480b96f9df",
   "metadata": {},
   "source": [
    "* Add in \n",
    "* signage, mobile app development\n",
    "* service ticket integration\n",
    "* What about projects that don't have allocation yet-> have to draw stuff from project description"
   ]
  },
  {
   "cell_type": "code",
   "execution_count": null,
   "id": "909890e2-33a2-4c03-a109-06814c54cd91",
   "metadata": {
    "scrolled": true,
    "tags": []
   },
   "outputs": [],
   "source": [
    "tircp4[[ 'allocation_components', 'clean_components', 'total_track', 'total_rail',\n",
    "       'total_bus', 'total_ferry', 'total_active_transportation',\n",
    "       'total_network', 'total_parking', 'total_facilities', 'total_charging',\n",
    "       'total_storm_drain', 'total_street', 'total_other_vehicles','total_bridge_tunnels', 'total_infrastructure']]"
   ]
  },
  {
   "cell_type": "markdown",
   "id": "63c015a0-ee38-48b6-ada1-d6228f92f770",
   "metadata": {},
   "source": [
    "## Outcomes\n",
    "### AwardedProjectsDetail.xlsx"
   ]
  },
  {
   "cell_type": "code",
   "execution_count": null,
   "id": "603d76ac-db2b-45d8-9ef3-be399625a641",
   "metadata": {},
   "outputs": [],
   "source": [
    "drisi = to_snakecase(pd.read_excel(f\"{GCS_FILE_PATH}DRISI/AwardedProjectsDetail.xlsx\"))"
   ]
  },
  {
   "cell_type": "code",
   "execution_count": null,
   "id": "1b9e3763-1396-4a89-9485-8d1eda5768dc",
   "metadata": {},
   "outputs": [],
   "source": [
    "drisi_drop_cols = [\n",
    "    \"agency_code\",\n",
    "    \"agency_short_name\",\n",
    "    \"sub_program_description\",\n",
    "    \"agency_name\",\n",
    "    \"program_short_name\",\n",
    "    \"program_name\",\n",
    "    \"program_description\",\n",
    "    \"sub_program_short_name\",\n",
    "    \"sub_program_name\",\n",
    "    \"project_type\",\n",
    "    \"agency\",\n",
    "    \"program\",\n",
    "    \"date_imported\",\n",
    "]"
   ]
  },
  {
   "cell_type": "code",
   "execution_count": null,
   "id": "958b2082-4ce9-4f08-8f27-284068d749c8",
   "metadata": {},
   "outputs": [],
   "source": [
    "drisi = drisi.drop(columns=drisi_drop_cols)"
   ]
  },
  {
   "cell_type": "code",
   "execution_count": null,
   "id": "6b652e41-3370-4c4f-bca7-5df984f62de8",
   "metadata": {},
   "outputs": [],
   "source": [
    "drisi = drisi.fillna(drisi.dtypes.replace({\"float64\": 0.0, \"object\": \"None\"}))"
   ]
  },
  {
   "cell_type": "code",
   "execution_count": null,
   "id": "a9e8c54a-60ec-4e8e-83df-b8359ef96b14",
   "metadata": {},
   "outputs": [],
   "source": [
    "# drisi.info()"
   ]
  },
  {
   "cell_type": "code",
   "execution_count": null,
   "id": "75033474-cd16-471c-95ff-d4696c74c069",
   "metadata": {},
   "outputs": [],
   "source": [
    "drisi.sample()"
   ]
  },
  {
   "cell_type": "markdown",
   "id": "f1a17d72-bc99-416a-a17e-08ee89a06c6e",
   "metadata": {},
   "source": [
    "### ImplementedProjectsDetail.xlsx"
   ]
  },
  {
   "cell_type": "code",
   "execution_count": null,
   "id": "8ae36aef-d267-4215-8dd1-df365f942431",
   "metadata": {},
   "outputs": [],
   "source": [
    "implemented = to_snakecase(\n",
    "    pd.read_excel(f\"{GCS_FILE_PATH}DRISI/ImplementedProjectsDetail.xlsx\")\n",
    ")"
   ]
  },
  {
   "cell_type": "code",
   "execution_count": null,
   "id": "49149c97-50a9-40c9-9ace-ecc363c01bb0",
   "metadata": {},
   "outputs": [],
   "source": [
    "# list(implemented.columns)"
   ]
  },
  {
   "cell_type": "code",
   "execution_count": null,
   "id": "b11513bf-5f62-4672-ad2e-18e639522fa7",
   "metadata": {},
   "outputs": [],
   "source": [
    "# implemented.sample()"
   ]
  },
  {
   "cell_type": "code",
   "execution_count": null,
   "id": "ffce324d-28b3-4f84-80a6-9793748c9af6",
   "metadata": {
    "scrolled": true,
    "tags": []
   },
   "outputs": [],
   "source": [
    "implemented_drop_cols = [\n",
    "    \"programuniqueidentifier\",\n",
    "    \"record_type\",\n",
    "    \"reporting_cycle_name\",\n",
    "    \"agency_short_name\",\n",
    "    \"agency_name\",\n",
    "    \"date_operational\",\n",
    "    \"program_name\",\n",
    "    \"program_description\",\n",
    "    \"project_completion_date\",\n",
    "    \"date_imported\",\n",
    "    \"sub_program_name\",\n",
    "    \"date_selected_for_award\",\n",
    "    \"project_name\",\n",
    "    \"project_type\",\n",
    "    \"fiscal_year_funding_project\",\n",
    "    \"census_tract\",\n",
    "    \"address\",\n",
    "    \"lat_long\",\n",
    "    \"total_program_ggrffunding\",\n",
    "    \"voucher_name\",\n",
    "    \"voucher_description\",\n",
    "]"
   ]
  },
  {
   "cell_type": "code",
   "execution_count": null,
   "id": "146d393c-dd9f-4bab-b8d8-d99516411801",
   "metadata": {},
   "outputs": [],
   "source": [
    "implemented = implemented.drop(columns=implemented_drop_cols)"
   ]
  },
  {
   "cell_type": "code",
   "execution_count": null,
   "id": "f05091f9-f504-4df9-8379-55f273edaf47",
   "metadata": {},
   "outputs": [],
   "source": [
    "implemented = implemented.fillna(\n",
    "    implemented.dtypes.replace({\"float64\": 0.0, \"object\": \"None\"})\n",
    ")"
   ]
  },
  {
   "cell_type": "code",
   "execution_count": null,
   "id": "3ff83823-0b12-4846-9b8b-412ae271893d",
   "metadata": {},
   "outputs": [],
   "source": [
    "# implemented.info(verbose=True, show_counts=True)"
   ]
  },
  {
   "cell_type": "markdown",
   "id": "46fd61fe-13bb-4cfa-b9b0-3c9bc1a919f8",
   "metadata": {
    "tags": []
   },
   "source": [
    "### OutcomeProjectsDetail.xlsx "
   ]
  },
  {
   "cell_type": "code",
   "execution_count": null,
   "id": "c3c80cff-ac04-4ceb-9bba-0fd82c8157dc",
   "metadata": {},
   "outputs": [],
   "source": [
    "outcomes = to_snakecase(\n",
    "    pd.read_excel(f\"{GCS_FILE_PATH}DRISI/OutcomeProjectsDetail.xlsx\")\n",
    ")"
   ]
  },
  {
   "cell_type": "code",
   "execution_count": null,
   "id": "5b613084-5dbe-4fce-9294-ac6646f13b71",
   "metadata": {},
   "outputs": [],
   "source": [
    "outcomes_drop_cols = [\n",
    "    \"unnamed:_0\",\n",
    "    \"proj_rec_id\",\n",
    "    \"reporting_cycle_name\",\n",
    "    \"agency_short_name\",\n",
    "    \"agency_name\",\n",
    "    \"program_short_name\",\n",
    "    \"program_name\",\n",
    "    \"program_description\",\n",
    "    \"record_type\",\n",
    "    \"sub_program_short_name\",\n",
    "    \"sub_program_name\",\n",
    "    \"sub_program_description\",\n",
    "    \"date_imported\",\n",
    "]"
   ]
  },
  {
   "cell_type": "code",
   "execution_count": null,
   "id": "bca7c2a7-7cc5-4105-8f81-8b6739bcb517",
   "metadata": {},
   "outputs": [],
   "source": [
    "outcomes = outcomes.drop(columns=outcomes_drop_cols)"
   ]
  },
  {
   "cell_type": "code",
   "execution_count": null,
   "id": "45726027-5769-4ea2-b372-e984bd7e5947",
   "metadata": {
    "scrolled": true,
    "tags": []
   },
   "outputs": [],
   "source": [
    "# list(outcomes.columns)"
   ]
  },
  {
   "cell_type": "code",
   "execution_count": null,
   "id": "f3fa8364-d73a-4503-9789-fa98560b12f7",
   "metadata": {},
   "outputs": [],
   "source": [
    "outcomes = outcomes.fillna(outcomes.dtypes.replace({\"float64\": 0.0, \"object\": \"None\"}))"
   ]
  },
  {
   "cell_type": "markdown",
   "id": "7c2172ab-7ac9-4479-aa11-fb54856c9c93",
   "metadata": {
    "tags": []
   },
   "source": [
    "### TIRCP_AllProjects_12212022 (002).xlsx\n",
    "* Doesn't have anything interesting."
   ]
  },
  {
   "cell_type": "code",
   "execution_count": null,
   "id": "74207fb1-4d58-4222-9425-24ef2063e93c",
   "metadata": {},
   "outputs": [],
   "source": [
    "# Fill in empty values with NA\n",
    "projects = projects.fillna(\n",
    "    projects.dtypes.replace({\"float64\": 0.0, \"object\": \"None\", \"int64\": 0})\n",
    ")"
   ]
  },
  {
   "cell_type": "markdown",
   "id": "db0b8a4b-bb79-4f5c-9a08-60254b6d4e56",
   "metadata": {
    "tags": []
   },
   "source": [
    "### TIRCP Battery and Hydrogen Fuel Cell Bus list 10-10-2022 (1).xlsx"
   ]
  },
  {
   "cell_type": "code",
   "execution_count": null,
   "id": "e41cebd6-5251-46ae-82b5-3f5984fb1a0c",
   "metadata": {},
   "outputs": [],
   "source": [
    "battery = to_snakecase(\n",
    "    pd.read_excel(\n",
    "        f\"{GCS_FILE_PATH}DRISI/TIRCP Battery and Hydrogen Fuel Cell Bus list 10-10-2022 (1).xlsx\"\n",
    "    )\n",
    ")"
   ]
  },
  {
   "cell_type": "code",
   "execution_count": null,
   "id": "d08a3829-b888-432a-a2c1-e18f4e5ffb91",
   "metadata": {},
   "outputs": [],
   "source": [
    "battery_drop_cols = [\n",
    "    \"local_agency_contact\",\n",
    "    \"local_agency_email\",\n",
    "    \"local_agency_phone_number\",\n",
    "    \"awarded_allocated\",\n",
    "    \"procured_contracted\",\n",
    "    \"components\",\n",
    "]"
   ]
  },
  {
   "cell_type": "code",
   "execution_count": null,
   "id": "c2e66193-fd5e-4bed-b75a-2a0ee3e72599",
   "metadata": {},
   "outputs": [],
   "source": [
    "battery = battery.drop(columns=battery_drop_cols)"
   ]
  },
  {
   "cell_type": "code",
   "execution_count": null,
   "id": "4f19b880-fa31-4e4f-ba04-ce76ebdf4169",
   "metadata": {},
   "outputs": [],
   "source": [
    "battery = battery.fillna(battery.dtypes.replace({\"float64\": 0.0, \"object\": \"None\"}))"
   ]
  },
  {
   "cell_type": "code",
   "execution_count": null,
   "id": "8da4a292-da12-4d60-a901-bec1608d43e6",
   "metadata": {},
   "outputs": [],
   "source": [
    "battery[\"project_#\"] = battery[\"project_#\"].map(\"{:02}\".format)"
   ]
  },
  {
   "cell_type": "code",
   "execution_count": null,
   "id": "ed76fb49-cd3b-4de0-82ad-2ce10e481e0d",
   "metadata": {},
   "outputs": [],
   "source": [
    "battery[\"project_number\"] = (\n",
    "    battery[\"award_year\"].astype(str) + \"-\" + \"0\" + battery[\"project_#\"].astype(str)\n",
    ")"
   ]
  },
  {
   "cell_type": "code",
   "execution_count": null,
   "id": "b54e57fb-7564-4943-a86a-f1ab6f744fde",
   "metadata": {},
   "outputs": [],
   "source": [
    "battery.sample()"
   ]
  },
  {
   "cell_type": "code",
   "execution_count": null,
   "id": "3281a93b-78b4-45d4-8adf-5840645a358b",
   "metadata": {},
   "outputs": [],
   "source": [
    "tircp.merge(battery, how=\"outer\", on=[\"project_number\"], indicator=True)[\n",
    "    [\"_merge\"]\n",
    "].value_counts()"
   ]
  },
  {
   "cell_type": "code",
   "execution_count": null,
   "id": "153ffc6e-f51f-4ef6-9370-2a4ac1f58eda",
   "metadata": {},
   "outputs": [],
   "source": [
    "# Format moentary cols\n",
    "monetary_cols = [\"total__cost\", \"tircp\"]\n",
    "for i in monetary_cols:\n",
    "    projects[i] = projects[i].apply(\n",
    "        lambda x: format_currency(x, currency=\"USD\", locale=\"en_US\")\n",
    "    )"
   ]
  },
  {
   "cell_type": "code",
   "execution_count": null,
   "id": "ffdb4025-cd25-4ca2-8f8c-a21b2445489d",
   "metadata": {
    "scrolled": true,
    "tags": []
   },
   "outputs": [],
   "source": [
    "# Clean up column names\n",
    "projects = A1_data_prep.clean_up_columns(projects)"
   ]
  },
  {
   "cell_type": "code",
   "execution_count": null,
   "id": "df868b3d-1da8-4391-87d9-57dc3c693ac1",
   "metadata": {},
   "outputs": [],
   "source": [
    "projects = projects.rename(\n",
    "    columns={\n",
    "        \"Number Use\": \"Project Number\",\n",
    "        \"Assembly\\nDistricts\": \"Assembly Districts\",\n",
    "        \"Senate\\nDistricts\": \"Senate Districts\",\n",
    "        \"Caltransdistrict\": \"CT Districts\",\n",
    "        \"Assembly\\nDistricts\": \"Assembly Districts\",\n",
    "    }\n",
    ")"
   ]
  },
  {
   "cell_type": "code",
   "execution_count": null,
   "id": "abdeb33c-a2b7-4147-a465-03c79adf0a0c",
   "metadata": {},
   "outputs": [],
   "source": [
    "# Rearrange columns\n",
    "right_order = [\n",
    "    \"Award Year\",\n",
    "    \"#\",\n",
    "    \"Project Number\",\n",
    "    \"Ppno\",\n",
    "    \"Title\",\n",
    "    \"Grant Recipient\",\n",
    "    \"Tircp\",\n",
    "    \"Total  Cost\",\n",
    "    \"Description\",\n",
    "    \"District\",\n",
    "    \"County\",\n",
    "    \"Status\",\n",
    "    \"CT Districts\",\n",
    "    \"Assembly Districts\",\n",
    "    \"Senate Districts\",\n",
    "    \"City Code\",\n",
    "    \"County Code\",\n",
    "    \"Implementing Agency  Id\",\n",
    "]"
   ]
  },
  {
   "cell_type": "code",
   "execution_count": null,
   "id": "ce1d08fa-0a92-46dc-9380-ea4cb9900eed",
   "metadata": {},
   "outputs": [],
   "source": [
    "projects = projects[right_order]"
   ]
  },
  {
   "cell_type": "markdown",
   "id": "8743ed0b-a9ca-42d7-a0c9-62bb52455466",
   "metadata": {},
   "source": [
    "### Outcomes Sheet"
   ]
  },
  {
   "cell_type": "code",
   "execution_count": null,
   "id": "e3a27b70-c744-4043-be47-ed9eb6637f41",
   "metadata": {},
   "outputs": [],
   "source": [
    "# Measure columns\n",
    "measure_cols = [\n",
    "    \"estimated_tircp_ghg_reductions\",\n",
    "    \"cost_per_ghg_ton_reduced\",\n",
    "    \"increased_ridership\",\n",
    "    \"service_integration\",\n",
    "    \"improve_safety\",\n",
    "]"
   ]
  },
  {
   "cell_type": "code",
   "execution_count": null,
   "id": "8b7a831b-5689-4942-bda8-d6673d13a07e",
   "metadata": {},
   "outputs": [],
   "source": [
    "# Turn estimated GHG reductions into a number\n",
    "merge2[\"estimated_tircp_ghg_reductions\"] = (\n",
    "    merge2[\"estimated_tircp_ghg_reductions\"]\n",
    "    .str.replace(\"MTCO2e\", \"\")\n",
    "    .str.replace(\"None\", \"\")\n",
    "    .str.replace(\",\", \"\")\n",
    ")"
   ]
  },
  {
   "cell_type": "code",
   "execution_count": null,
   "id": "0b035ed5-177a-4ab8-8e6c-7beb666c8ab6",
   "metadata": {},
   "outputs": [],
   "source": [
    "merge2[\"estimated_tircp_ghg_reductions\"] = (\n",
    "    merge2[\"estimated_tircp_ghg_reductions\"]\n",
    "    .apply(pd.to_numeric, errors=\"coerce\")\n",
    "    .fillna(0)\n",
    ")"
   ]
  },
  {
   "cell_type": "code",
   "execution_count": null,
   "id": "ce540d07-dc7a-44d7-b21a-cfcaaa4ec43b",
   "metadata": {},
   "outputs": [],
   "source": [
    "# Subset to cols similar to SCCP\n",
    "outcomes = merge2[\n",
    "    [\n",
    "        \"award_year\",\n",
    "        \"detailed_title_col\",\n",
    "        \"estimated_tircp_ghg_reductions\",\n",
    "        \"increased_ridership\",\n",
    "        \"service_integration\",\n",
    "        \"improve_safety\",\n",
    "    ]\n",
    "].sort_values(\n",
    "    [\n",
    "        \"award_year\",\n",
    "        \"detailed_title_col\",\n",
    "    ]\n",
    ")"
   ]
  },
  {
   "cell_type": "code",
   "execution_count": null,
   "id": "bbe4441b-ccc2-4ad7-a0f2-3f6c6335a456",
   "metadata": {},
   "outputs": [],
   "source": [
    "outcomes = A1_data_prep.clean_up_columns(outcomes)"
   ]
  },
  {
   "cell_type": "code",
   "execution_count": null,
   "id": "bb663842-66d4-4724-8138-c2be025ddf6b",
   "metadata": {},
   "outputs": [],
   "source": [
    "outcomes.head(1)"
   ]
  },
  {
   "cell_type": "markdown",
   "id": "1474d69c-d7c3-40cb-8178-ec3c78c6d8ee",
   "metadata": {},
   "source": [
    "##### Version 1"
   ]
  },
  {
   "cell_type": "code",
   "execution_count": null,
   "id": "bdbe0a48-42aa-4a1d-b018-3d8497384ca6",
   "metadata": {},
   "outputs": [],
   "source": [
    "# Drop award year\n",
    "outcomes_transformed = outcomes.drop(columns=[\"Award Year\"]).T"
   ]
  },
  {
   "cell_type": "code",
   "execution_count": null,
   "id": "58c09afa-f3d7-428c-9791-1de3582fc381",
   "metadata": {},
   "outputs": [],
   "source": [
    "# Make first row to column names\n",
    "outcomes_transformed.columns = outcomes_transformed.iloc[0]"
   ]
  },
  {
   "cell_type": "code",
   "execution_count": null,
   "id": "f175b3b8-7992-4c49-ad23-18c8ac60f29e",
   "metadata": {},
   "outputs": [],
   "source": [
    "# Del first row\n",
    "outcomes_transformed = outcomes_transformed.iloc[1:]"
   ]
  },
  {
   "cell_type": "code",
   "execution_count": null,
   "id": "4fb08b88-596b-4e9e-a72b-07d55ff2bed5",
   "metadata": {},
   "outputs": [],
   "source": [
    "outcomes_transformed.head()"
   ]
  },
  {
   "cell_type": "markdown",
   "id": "ba168112-3b5d-4fa8-88d5-de3546502a06",
   "metadata": {},
   "source": [
    "##### Outputs: Measures except GHG Reductions."
   ]
  },
  {
   "cell_type": "code",
   "execution_count": null,
   "id": "ca989975-4147-42c2-a484-cbd46ff69347",
   "metadata": {},
   "outputs": [],
   "source": [
    "outcomes_melt = pd.melt(\n",
    "    outcomes,\n",
    "    id_vars=[\n",
    "        \"Award Year\",\n",
    "        \"Detailed Title Col\",\n",
    "    ],\n",
    "    value_vars=[\n",
    "        \"Increased Ridership\",\n",
    "        \"Service Integration\",\n",
    "        \"Improve Safety\",\n",
    "    ],\n",
    ")"
   ]
  },
  {
   "cell_type": "code",
   "execution_count": null,
   "id": "e5143ed8-e6ff-4e66-ad5a-c660fdecee28",
   "metadata": {},
   "outputs": [],
   "source": [
    "outcomes_melt = A1_data_prep.clean_up_columns(outcomes_melt)"
   ]
  },
  {
   "cell_type": "code",
   "execution_count": null,
   "id": "f1439741-a4ca-40ad-a453-2f5358dc5984",
   "metadata": {},
   "outputs": [],
   "source": [
    "year_summary = (\n",
    "    outcomes_melt.groupby([\"Award Year\", \"Variable\", \"Value\"])\n",
    "    .agg({\"Detailed Title Col\": \"nunique\"})\n",
    "    .rename(columns={\"Detailed Title Col\": \"Number of Projects in this Value Category\"})\n",
    ")"
   ]
  },
  {
   "cell_type": "code",
   "execution_count": null,
   "id": "348761d5-9cc0-4ae2-9b6a-c7b6dc7160ee",
   "metadata": {},
   "outputs": [],
   "source": [
    "year_summary"
   ]
  },
  {
   "cell_type": "code",
   "execution_count": null,
   "id": "c526a520-7cd8-44d3-9c37-585f9e982b2a",
   "metadata": {},
   "outputs": [],
   "source": [
    "GHG_by_year = outcomes.groupby([\"Award Year\"]).agg(\n",
    "    {\"Estimated Tircp Ghg Reductions\": \"sum\"}\n",
    ")"
   ]
  },
  {
   "cell_type": "code",
   "execution_count": null,
   "id": "f878002d-1b67-4a97-92ae-9dcc78950c8e",
   "metadata": {},
   "outputs": [],
   "source": [
    "GHG_by_year"
   ]
  },
  {
   "cell_type": "markdown",
   "id": "aa36d953-c76c-4228-9fd2-0966d026b0cc",
   "metadata": {},
   "source": [
    "#### Save"
   ]
  },
  {
   "cell_type": "code",
   "execution_count": null,
   "id": "bb3f4f0d-7ade-4d34-9a3d-16f154e88d38",
   "metadata": {},
   "outputs": [],
   "source": [
    "\"\"\"\n",
    "with pd.ExcelWriter(f\"{GCS_FILE_PATH}calsta_draft.xlsx\") as writer:\n",
    "    outcomes.to_excel(writer, sheet_name=\"outcomes_unpivoted\", index=True)\n",
    "    outcomes_transformed.to_excel(writer, sheet_name=\"outcomes_transformed\", index=True)\n",
    "    projects.to_excel(writer, sheet_name=\"projects\", index=True)\n",
    "    year_summary.to_excel(writer, sheet_name=\"year_summary\", index=True)\n",
    "    GHG_by_year.to_excel(writer, sheet_name=\"GHG_reduction_year\", index=True)\n",
    "    \"\"\""
   ]
  }
 ],
 "metadata": {
  "kernelspec": {
   "display_name": "Python 3 (ipykernel)",
   "language": "python",
   "name": "python3"
  },
  "language_info": {
   "codemirror_mode": {
    "name": "ipython",
    "version": 3
   },
   "file_extension": ".py",
   "mimetype": "text/x-python",
   "name": "python",
   "nbconvert_exporter": "python",
   "pygments_lexer": "ipython3",
   "version": "3.9.13"
  }
 },
 "nbformat": 4,
 "nbformat_minor": 5
}
