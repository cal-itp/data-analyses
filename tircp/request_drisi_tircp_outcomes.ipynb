{
 "cells": [
  {
   "cell_type": "markdown",
   "id": "83709b77-d340-42e6-bbc4-35d683947460",
   "metadata": {},
   "source": [
    "## TIRCP DRISI\n",
    "* DRISI emailed a request asking for TIRCP outcomes for cycles 3-5.  \n",
    "* [Cycles 1-6](https://calsta.ca.gov/subject-areas/transit-intercity-rail-capital-prog)\n",
    "* Cycle 1: 2015\n",
    "* Cycle 2: 2016\n",
    "* Cycle 3: 2018\n",
    "* Cycle 4: 2020\n",
    "* Cycle 5: 2022\n",
    "* Cycle 6: 2023\n",
    "\n",
    "<b>Notes 2/7/23</b>\n",
    "* Application is different than what we have in the dataset.\n",
    "* Outputs: hydrogen-battery fuel cell.\n",
    "* DRISI wants the data before end of this week.\n",
    "* Outputs\n",
    "    * Category for outputs: transit/multimodal or rail/multimodal. \n",
    "    * Pull it from `allocations` tab.\n",
    "    * Filter out design categories. We only care about 'CONST'.\n",
    "    * Transit/Multimodal\n",
    "        * Buses breakout between mobile/school/etc. Unit is each.\n",
    "            * Microtransit\n",
    "            * Bus Conversion\n",
    "            * Zero emmission (don't distinguish between hydrogen vs battery)\n",
    "            * Battery Electric\n",
    "            * Ferries\n",
    "    * Rail/Multimodal\n",
    "        * Trolleys\n",
    "        * Trains/Cars/Coach/Rolling Stocks\n",
    "        * Traffic Control\n",
    "    * Track\n",
    "        * Track Extension\n",
    "        * Double Track\n",
    "    * Network Integration improves multimodal network so everything is synced. \n",
    "    * Parking Lots/Parking Deck\n",
    "    * Active Transportation\n",
    "        * Bike Shelters/Shade Structures\n",
    "        * Bike and Pedestrians Improvements\n",
    "    * Facilities\n",
    "        * Center/Facility/Station/Station/Hub/Islands\n",
    "    * Charging Infrastructure. \n",
    "    * Storm Drain Line\n",
    "    * Street Extension\n",
    "    * Charging\n",
    "    * Signaling\n",
    "* Outcomes\n",
    "    * On Time Performance\n",
    "        * Expanded Service\n",
    "        * Routes \n",
    "        * Ridership"
   ]
  },
  {
   "cell_type": "code",
   "execution_count": 55,
   "id": "de5e8978-cecf-44cf-9a92-e2282e3b2e61",
   "metadata": {
    "tags": []
   },
   "outputs": [],
   "source": [
    "import itertools\n",
    "\n",
    "import A1_data_prep\n",
    "import A2_tableau\n",
    "import A8_strings\n",
    "import numpy as np\n",
    "import pandas as pd\n",
    "from babel.numbers import format_currency\n",
    "from calitp import *"
   ]
  },
  {
   "cell_type": "code",
   "execution_count": 56,
   "id": "b4635aa5-1ab6-4247-a1be-61d59f07c4ff",
   "metadata": {},
   "outputs": [],
   "source": [
    "pd.options.display.max_columns = 125\n",
    "pd.options.display.float_format = \"{:.2f}\".format\n",
    "pd.set_option(\"display.max_rows\", None)\n",
    "pd.set_option(\"display.max_colwidth\", None)"
   ]
  },
  {
   "cell_type": "code",
   "execution_count": 57,
   "id": "b8d3d0ef-e239-4aeb-9f18-2ec76a39b012",
   "metadata": {},
   "outputs": [],
   "source": [
    "# GCS File Path:\n",
    "GCS_FILE_PATH = f\"{A1_data_prep.GCS_FILE_PATH}DRISI/\""
   ]
  },
  {
   "cell_type": "code",
   "execution_count": 58,
   "id": "91e9b82d-7ea5-409f-97ce-c1bcb10c6a25",
   "metadata": {},
   "outputs": [
    {
     "data": {
      "text/plain": [
       "'gs://calitp-analytics-data/data-analyses/tircp/DRISI/'"
      ]
     },
     "execution_count": 58,
     "metadata": {},
     "output_type": "execute_result"
    }
   ],
   "source": [
    "GCS_FILE_PATH"
   ]
  },
  {
   "cell_type": "markdown",
   "id": "b22ca6cb-f08e-4e7d-8ed1-05d364c8719b",
   "metadata": {
    "tags": []
   },
   "source": [
    "## Prep Functions"
   ]
  },
  {
   "cell_type": "code",
   "execution_count": 59,
   "id": "f2ccdb66-00c1-4d79-995f-62e2774c46f4",
   "metadata": {},
   "outputs": [],
   "source": [
    "def read_in_files(file_name: str, columns_to_drop: list):\n",
    "    df = to_snakecase(pd.read_excel(f\"{GCS_FILE_PATH}{file_name}\"))\n",
    "\n",
    "    df = df.drop(columns=columns_to_drop)\n",
    "    \n",
    "    # Delete any columns with the following strings\n",
    "    df = df.loc[:, ~df.columns.str.contains(\"funding|recipient|date|cost|program|amount|name|description\")]\n",
    "    \n",
    "    df = df.fillna(df.dtypes.replace({\"float64\": 0.0, \"object\": \"None\"}))\n",
    "    \n",
    "    return df"
   ]
  },
  {
   "cell_type": "code",
   "execution_count": 60,
   "id": "39931a2a-65e6-425c-9e42-2cfb7204b05c",
   "metadata": {},
   "outputs": [],
   "source": [
    "def merge_value_counts(left_df, right_df, left_m_col:str, right_m_col:str):\n",
    "    # Some of these sheets have repeated columns\n",
    "    # Del them off so the info isn't repeated again\n",
    "    left_df_cols = left_df.columns\n",
    "    right_df_cols = right_df.columns\n",
    "    common_cols = right_df_cols.intersection(left_df_cols)\n",
    "    common_cols = common_cols.to_list()\n",
    "    \n",
    "    right_df = right_df.drop(columns = common_cols) \n",
    "    \n",
    "    # One df for an outer merge just for checking both/left only/right only vals\n",
    "    outer = pd.merge(left_df, right_df, how=\"outer\", left_on=left_m_col, right_on=right_m_col, indicator=True)\n",
    "    \n",
    "    # One for left\n",
    "    left =  pd.merge(left_df, right_df, how=\"left\",  left_on=left_m_col, right_on=right_m_col)\n",
    "\n",
    "    return outer, left"
   ]
  },
  {
   "cell_type": "markdown",
   "id": "a2036b3c-036e-4fe5-b83f-31070ef5ac6d",
   "metadata": {},
   "source": [
    "## Outputs\n",
    "### Manipulate TIRCP Project Sheet"
   ]
  },
  {
   "cell_type": "code",
   "execution_count": 61,
   "id": "33ecb748-7cf6-4928-974b-8c326054fc56",
   "metadata": {},
   "outputs": [],
   "source": [
    "allocation_cols = [\n",
    "    \"allocation_ppno\",\n",
    "    \"allocation_award_year\",\n",
    "    \"allocation_components\",\n",
    "    \"allocation_phase\",\n",
    "]\n",
    "project_cols = [\n",
    "    \"project_ppno\",\n",
    "    \"project_award_year\",\n",
    "    \"project_project_#\",\n",
    "    \"project_project_title\",\n",
    "    \"project_project_description\",\n",
    "    \"project_grant_recipient\",\n",
    "]"
   ]
  },
  {
   "cell_type": "code",
   "execution_count": 62,
   "id": "b1fb383e-57f4-43f3-829a-85ac74bcec82",
   "metadata": {},
   "outputs": [],
   "source": [
    "# project2.groupby('project_award_year').size(), project2.groupby('project_award_year').project_ppno.nunique()"
   ]
  },
  {
   "cell_type": "code",
   "execution_count": 63,
   "id": "0cdf3f5f-fe2d-4bfa-bba8-8d945c0d3c8d",
   "metadata": {},
   "outputs": [
    {
     "name": "stderr",
     "output_type": "stream",
     "text": [
      "/opt/conda/lib/python3.9/site-packages/openpyxl/worksheet/_reader.py:312: UserWarning: Data Validation extension is not supported and will be removed\n"
     ]
    }
   ],
   "source": [
    "# Read in a joined allocation-project sheet\n",
    "tircp = A1_data_prep.merge_allocation_project(project_cols, allocation_cols, \"left\")"
   ]
  },
  {
   "cell_type": "code",
   "execution_count": 64,
   "id": "59e68acb-6066-4cb8-8d1a-cffa5c82b23e",
   "metadata": {},
   "outputs": [],
   "source": [
    "# Drop irrelevant years & non-construction.\n",
    "tircp2 = tircp[(tircp[\"project_award_year\"] >= 2018)].reset_index(drop=True)"
   ]
  },
  {
   "cell_type": "code",
   "execution_count": 65,
   "id": "8a6d0a95-9240-4020-95a9-19a1645b9b63",
   "metadata": {},
   "outputs": [
    {
     "data": {
      "text/plain": [
       "project_award_year\n",
       "2018    26\n",
       "2020    17\n",
       "2022    23\n",
       "Name: project_ppno, dtype: int64"
      ]
     },
     "execution_count": 65,
     "metadata": {},
     "output_type": "execute_result"
    }
   ],
   "source": [
    "# Double check that the PPNO are correct\n",
    "tircp2.groupby(\"project_award_year\").project_ppno.nunique()"
   ]
  },
  {
   "cell_type": "code",
   "execution_count": 66,
   "id": "8626c45a-47c6-412a-a1b6-35ec65ec1918",
   "metadata": {},
   "outputs": [],
   "source": [
    "# Sort df by award year, number, and phase.\n",
    "tircp2 = tircp2.sort_values(\n",
    "    [\"project_award_year\", \"project_project_#\", \"allocation_phase\"]\n",
    ")"
   ]
  },
  {
   "cell_type": "code",
   "execution_count": 67,
   "id": "04d0cf24-1ffd-4039-824b-ed9a27e8c0b0",
   "metadata": {},
   "outputs": [],
   "source": [
    "# Create project number\n",
    "# Map 0 to another single digit numbers\n",
    "# https://stackoverflow.com/questions/20990863/python-pandas-add-leading-zero-to-make-all-months-2-digits\n",
    "tircp2[\"project_number\"] = (\n",
    "    tircp2[\"project_award_year\"].astype(str) + \"-\" + tircp2[\"project_project_#\"].map(\"{:02}\".format).astype(str)\n",
    ")"
   ]
  },
  {
   "cell_type": "code",
   "execution_count": 68,
   "id": "474c82a7-3cd5-4ab9-b432-6247ba1d5446",
   "metadata": {},
   "outputs": [
    {
     "data": {
      "text/plain": [
       "CONST    311\n",
       "PS&E     134\n",
       "PA&ED     40\n",
       "R/W       28\n",
       "Name: allocation_phase, dtype: int64"
      ]
     },
     "execution_count": 68,
     "metadata": {},
     "output_type": "execute_result"
    }
   ],
   "source": [
    "tircp2.allocation_phase.value_counts()"
   ]
  },
  {
   "cell_type": "code",
   "execution_count": 69,
   "id": "350cbb24-3293-4c17-b14b-e353235ff91b",
   "metadata": {},
   "outputs": [
    {
     "data": {
      "text/plain": [
       "(515, 280)"
      ]
     },
     "execution_count": 69,
     "metadata": {},
     "output_type": "execute_result"
    }
   ],
   "source": [
    "len(tircp2), len(\n",
    "    tircp2.drop_duplicates(subset=[\"project_ppno\", \"allocation_components\"])\n",
    ")"
   ]
  },
  {
   "cell_type": "code",
   "execution_count": 70,
   "id": "453d24e6-36d1-4a2e-9c82-2320f4ff6225",
   "metadata": {},
   "outputs": [],
   "source": [
    "# Drop duplicates by ppno and allocation componentes\n",
    "# Sorted by allocation phase, so construction is kept\n",
    "# if components is the same across multiple phases\n",
    "tircp3 = (\n",
    "    tircp2.drop_duplicates(subset=[\"project_ppno\", \"allocation_components\"])\n",
    ").reset_index(drop=True)"
   ]
  },
  {
   "cell_type": "code",
   "execution_count": 71,
   "id": "0f71169b-bf15-4025-af1c-4a5c8302d5e7",
   "metadata": {},
   "outputs": [
    {
     "data": {
      "text/plain": [
       "project_award_year\n",
       "2018    26\n",
       "2020    17\n",
       "2022    23\n",
       "Name: project_ppno, dtype: int64"
      ]
     },
     "execution_count": 71,
     "metadata": {},
     "output_type": "execute_result"
    }
   ],
   "source": [
    "tircp3.groupby(\"project_award_year\").project_ppno.nunique()"
   ]
  },
  {
   "cell_type": "code",
   "execution_count": 72,
   "id": "0f30fe75-3a51-4af1-b172-75b02996dc81",
   "metadata": {
    "scrolled": true,
    "tags": []
   },
   "outputs": [],
   "source": [
    "# For projects that don't have any allocation components info\n",
    "# fill it in with project description\n",
    "# Cp068 & cp106\n",
    "tircp3.allocation_components = tircp3.allocation_components.fillna(\n",
    "    tircp3.project_project_description\n",
    ")"
   ]
  },
  {
   "cell_type": "markdown",
   "id": "e40fb305-ed0b-4d2e-b0af-edc5125dff39",
   "metadata": {},
   "source": [
    "### Extract Outputs"
   ]
  },
  {
   "cell_type": "code",
   "execution_count": 73,
   "id": "2ebd9504-203f-48d4-ba45-5cac975a6417",
   "metadata": {},
   "outputs": [],
   "source": [
    "tircp3 = A8_strings.simplify_descriptions(\n",
    "    tircp3,\n",
    "    \"allocation_components\",\n",
    "    \"clean_components\",\n",
    "    A8_strings.description_words_to_delete,\n",
    ")"
   ]
  },
  {
   "cell_type": "code",
   "execution_count": 74,
   "id": "6d5c7d64-87ed-4f8a-a9d2-c6872f827d26",
   "metadata": {},
   "outputs": [],
   "source": [
    "tircp3 = tircp3.drop(columns=[\"allocation_ppno\", \"allocation_award_year\", \"_merge\"])"
   ]
  },
  {
   "cell_type": "code",
   "execution_count": 75,
   "id": "7d5b6d41-7245-45fe-be96-163c27c02754",
   "metadata": {},
   "outputs": [],
   "source": [
    "track = [\"track\", \"double track\"]\n",
    "rail = [\"trolley\", \"train\", \"car\", \"coach\", \"rolling\", \"traffic\", \"light rail\", \"rail\"]\n",
    "bus = [\"bus\", \"van\", \"buses\", \"microtransit\", \"micro transit\", \"zebs\"]\n",
    "ferry = [\"ferry\", \"ferries\", \"vessel\"]\n",
    "active_transportation = [\n",
    "    \"bike\",\n",
    "    \"shelter\",\n",
    "    \"pedestrian\",\n",
    "    \"cycle\",\n",
    "    \"crosswalk\",\n",
    "    \"sidewalk\",\n",
    "    \"bicycle\",\n",
    "]\n",
    "network = [\"network\"]\n",
    "parking = [\"parking\", \"lots\", \"deck\"]\n",
    "facilities = [\n",
    "    \"center\",\n",
    "    \"facility\",\n",
    "    \"station\",\n",
    "    \"hub\",\n",
    "    \"islands\",\n",
    "    \"shelter\",\n",
    "    \"shade\",\n",
    "    \"location\",\n",
    "    \"center\",\n",
    "    \"stations\"\n",
    "]\n",
    "charging = [\"charging\", \"charge\"]\n",
    "storm_drain = [\"storm\"]\n",
    "street = [\n",
    "    \"street\",\n",
    "    \"signal\",\n",
    "    \"signaling\",\n",
    "    \"traffic control\",\n",
    "    \"road\",\n",
    "    \"lane\",\n",
    "    \"surface\",\n",
    "    \"interchange\",\n",
    "    \"intersection\",\n",
    "    \"shoulder\",\n",
    "    \"grade separations\",\n",
    "    \"crossing\",\n",
    "    \"border\",\n",
    "    \"corridor\",\n",
    "]\n",
    "other_vehicles = [\"vehicle\", \"zemu\"]\n",
    "bridge_tunnel = [\"bridge\", \"tunnel\"]\n",
    "infrastructure = [\n",
    "    \"infrastructure\",\n",
    "    \"bluff\",\n",
    "    \"operation\",\n",
    "    \"ramp\",\n",
    "    \"mainline\",\n",
    "    \"port\",\n",
    "    \"fiber optic\",\n",
    "]\n",
    "ontime_transit_improvements = [\n",
    "    \"ITS\",\n",
    "    \"signange\",\n",
    "    \"mobile app\",\n",
    "    \"ticket\",\n",
    "    \"ridership\",\n",
    "    \"expanded\",\n",
    "    \"service\",\n",
    "    \"time\",\n",
    "    \"route\",\n",
    "]"
   ]
  },
  {
   "cell_type": "code",
   "execution_count": 76,
   "id": "2910de4e-0962-4ba5-a6b3-db3f902a55a6",
   "metadata": {
    "scrolled": true,
    "tags": []
   },
   "outputs": [],
   "source": [
    "my_keywords_list = [\n",
    "    track,\n",
    "    rail,\n",
    "    bus,\n",
    "    ferry,\n",
    "    active_transportation,\n",
    "    network,\n",
    "    parking,\n",
    "    facilities,\n",
    "    charging,\n",
    "    storm_drain,\n",
    "    street,\n",
    "    other_vehicles,\n",
    "    bridge_tunnel,\n",
    "    infrastructure,\n",
    "    ontime_transit_improvements,\n",
    "]"
   ]
  },
  {
   "cell_type": "code",
   "execution_count": 77,
   "id": "2eeb548b-aec3-4d6e-9cb6-3ff5ecf58aaf",
   "metadata": {
    "scrolled": true,
    "tags": []
   },
   "outputs": [],
   "source": [
    "my_new_column_names_list = [\n",
    "    \"track\",\n",
    "    \"rail\",\n",
    "    \"bus\",\n",
    "    \"ferry\",\n",
    "    \"active_transportation\",\n",
    "    \"network\",\n",
    "    \"parking\",\n",
    "    \"facilities\",\n",
    "    \"charging\",\n",
    "    \"storm_drain\",\n",
    "    \"street\",\n",
    "    \"other_vehicles\",\n",
    "    \"bridge_tunnels\",\n",
    "    \"infrastructure\",\n",
    "    \"ontime_transit_improvements\",\n",
    "]"
   ]
  },
  {
   "cell_type": "code",
   "execution_count": 78,
   "id": "df3daadb-a7e4-4513-a53d-b195b2fe59b1",
   "metadata": {},
   "outputs": [],
   "source": [
    "tircp3 = A8_strings.total_procurement_estimates(\n",
    "    tircp3,\n",
    "    \"clean_components\",\n",
    "    my_keywords_list,\n",
    "    my_new_column_names_list,\n",
    ")"
   ]
  },
  {
   "cell_type": "code",
   "execution_count": 79,
   "id": "a706efad-0c94-411a-8cff-285d534c7af2",
   "metadata": {},
   "outputs": [],
   "source": [
    "def fill_in_zeroes(df, keywords: list, description_column: str, new_col_name: str):\n",
    "    # Delinate items in keywords list using |\n",
    "    keywords_blob = f\"({'|'.join(keywords)})\"\n",
    "\n",
    "    # If a keyword appears in the desc\n",
    "    # Automatically add it as 1\n",
    "    keywords_dict = dict.fromkeys(keywords, 1)\n",
    "\n",
    "    df[new_col_name] = (\n",
    "        df[description_column]\n",
    "        .str.extract(keywords_blob, expand=False)\n",
    "        .replace(keywords_dict)\n",
    "        .fillna(0)\n",
    "    )\n",
    "    return df"
   ]
  },
  {
   "cell_type": "code",
   "execution_count": 80,
   "id": "a0562174-c9a7-432d-81ee-d0e73374a2aa",
   "metadata": {},
   "outputs": [],
   "source": [
    "# Turn this into a function later\n",
    "for i in range(0, len(my_keywords_list)):\n",
    "    tircp4 = fill_in_zeroes(\n",
    "        tircp3,\n",
    "        my_keywords_list[i],\n",
    "        \"clean_components\",\n",
    "        f\"new_{my_new_column_names_list[i]}\",\n",
    "    )\n",
    "\n",
    "    # Replace any zeroes in the original columns with 1\n",
    "    # if a keyword is found\n",
    "    # https://stackoverflow.com/questions/68243146/replace-zero-with-value-of-an-other-column-using-pandas\n",
    "    tircp4[f\"total_{my_new_column_names_list[i]}\"] = tircp4[\n",
    "        f\"total_{my_new_column_names_list[i]}\"\n",
    "    ].mask(\n",
    "        tircp4[f\"total_{my_new_column_names_list[i]}\"].eq(0),\n",
    "        tircp4[f\"new_{my_new_column_names_list[i]}\"],\n",
    "    )\n",
    "\n",
    "    tircp4 = tircp4[tircp4.columns.drop(list(tircp4.filter(regex=\"new\")))]"
   ]
  },
  {
   "cell_type": "code",
   "execution_count": 81,
   "id": "056e2cc8-a36d-43ec-b3dc-49a3e7f36b2c",
   "metadata": {},
   "outputs": [
    {
     "data": {
      "text/plain": [
       "Index(['project_ppno', 'project_award_year', 'project_project_#',\n",
       "       'project_project_title', 'project_project_description',\n",
       "       'project_grant_recipient', 'allocation_components', 'allocation_phase',\n",
       "       'project_number', 'clean_components', 'total_track', 'total_rail',\n",
       "       'total_bus', 'total_ferry', 'total_active_transportation',\n",
       "       'total_network', 'total_parking', 'total_facilities', 'total_charging',\n",
       "       'total_storm_drain', 'total_street', 'total_other_vehicles',\n",
       "       'total_bridge_tunnels', 'total_infrastructure',\n",
       "       'total_ontime_transit_improvements'],\n",
       "      dtype='object')"
      ]
     },
     "execution_count": 81,
     "metadata": {},
     "output_type": "execute_result"
    }
   ],
   "source": [
    "tircp4.columns"
   ]
  },
  {
   "cell_type": "code",
   "execution_count": 82,
   "id": "0ff154ef-02c8-4d46-b50b-a489b2625861",
   "metadata": {},
   "outputs": [],
   "source": [
    "additional_keywords = [\n",
    "    \"microtransit\",\n",
    "    \"emission\",\n",
    "    \"conversion\",\n",
    "    \"zero\",\n",
    "    \"hydrogen\",\n",
    "    \"battery\",\n",
    "    \"electric\",\n",
    "    \"hybrid\",\n",
    "    \"zev\",\n",
    "    \"zemu\",\n",
    "]"
   ]
  },
  {
   "cell_type": "code",
   "execution_count": 83,
   "id": "c755daaf-ae85-4fb5-83d2-0b660c6fa3a4",
   "metadata": {},
   "outputs": [],
   "source": [
    "groupby_cols = [\n",
    "    \"project_project_title\",\n",
    "    \"project_award_year\",\n",
    "    \"project_number\",\n",
    "    \"allocation_components\",\n",
    "    \"total_track\",\n",
    "    \"total_rail\",\n",
    "    \"total_bus\",\n",
    "    \"total_ferry\",\n",
    "    \"total_active_transportation\",\n",
    "    \"total_network\",\n",
    "    \"total_parking\",\n",
    "    \"total_facilities\",\n",
    "    \"total_charging\",\n",
    "    \"total_storm_drain\",\n",
    "    \"total_street\",\n",
    "    \"total_other_vehicles\",\n",
    "    \"total_bridge_tunnels\",\n",
    "    \"total_infrastructure\",\n",
    "    \"total_ontime_transit_improvements\",\n",
    "]"
   ]
  },
  {
   "cell_type": "code",
   "execution_count": 84,
   "id": "c3809844-338f-4456-aa9c-e013145782d2",
   "metadata": {},
   "outputs": [],
   "source": [
    "def extract_keywords(df, list_of_words: list, more_keywords: list, column: str, \n",
    "                     unique_cols:list, cols_to_keep:list):\n",
    "    \"\"\"\n",
    "    Extract keywords found in a certain column\n",
    "    into a new column called \"categories\"\n",
    "    \"\"\"\n",
    "    for i in list_of_words: more_keywords.extend(i)\n",
    "\n",
    "    query = \"|\".join(more_keywords)\n",
    "\n",
    "    df[\"categories\"] = df[column].str.lower().str.findall(r\"\\b({})\\b\".format(query))\n",
    "    \n",
    "    # All the category values are packed into a list. Unpack and del dups\n",
    "    df = (\n",
    "    df.explode(\"categories\")\n",
    "    .sort_values(unique_cols)\n",
    "    .drop_duplicates(subset=unique_cols.append('categories'))\n",
    "    .fillna(\" \"))\n",
    "    \n",
    "    # Regroup: gro\n",
    "    df = df.groupby(cols_to_keep)[\"categories\"].apply(\",\".join).reset_index()\n",
    "    return df"
   ]
  },
  {
   "cell_type": "code",
   "execution_count": 85,
   "id": "3fff5534-97b0-4970-9830-60cf9205bdc0",
   "metadata": {},
   "outputs": [
    {
     "name": "stderr",
     "output_type": "stream",
     "text": [
      "/tmp/ipykernel_2375/2004339418.py:11: SettingWithCopyWarning: \n",
      "A value is trying to be set on a copy of a slice from a DataFrame.\n",
      "Try using .loc[row_indexer,col_indexer] = value instead\n",
      "\n",
      "See the caveats in the documentation: https://pandas.pydata.org/pandas-docs/stable/user_guide/indexing.html#returning-a-view-versus-a-copy\n"
     ]
    }
   ],
   "source": [
    "tircp4 = extract_keywords(\n",
    "    tircp4, my_keywords_list, additional_keywords, \"allocation_components\", [\"project_award_year\", \"project_project_title\"],groupby_cols\n",
    ")"
   ]
  },
  {
   "cell_type": "markdown",
   "id": "db0b8a4b-bb79-4f5c-9a08-60254b6d4e56",
   "metadata": {
    "tags": []
   },
   "source": [
    "### Add in info from TIRCP Battery and Hydrogen Fuel Cell Bus list 10-10-2022 (1).xlsx"
   ]
  },
  {
   "cell_type": "code",
   "execution_count": 86,
   "id": "d08a3829-b888-432a-a2c1-e18f4e5ffb91",
   "metadata": {},
   "outputs": [],
   "source": [
    "battery_drop_cols = [\n",
    "    \"local_agency_contact\",\n",
    "    \"local_agency_email\",\n",
    "    \"local_agency_phone_number\",\n",
    "    \"awarded_allocated\",\n",
    "    \"procured_contracted\",\n",
    "    \"components\",\n",
    "]"
   ]
  },
  {
   "cell_type": "code",
   "execution_count": 87,
   "id": "dd08fdda-89d7-46e1-8557-b0fae2fd300d",
   "metadata": {},
   "outputs": [],
   "source": [
    "battery = read_in_files(\"TIRCP Battery and Hydrogen Fuel Cell Bus list 10-10-2022 (1).xlsx\", battery_drop_cols)"
   ]
  },
  {
   "cell_type": "code",
   "execution_count": 88,
   "id": "7dd37744-bb25-4d71-aca9-7cfe68cbe7ea",
   "metadata": {},
   "outputs": [
    {
     "data": {
      "text/plain": [
       "Index(['award_year', 'project_#', 'implementing_agency', 'in_operation',\n",
       "       '#_hydrogen_fuel_cell_buses', '#_battery_electric_buses'],\n",
       "      dtype='object')"
      ]
     },
     "execution_count": 88,
     "metadata": {},
     "output_type": "execute_result"
    }
   ],
   "source": [
    "battery.columns"
   ]
  },
  {
   "cell_type": "code",
   "execution_count": 89,
   "id": "ed76fb49-cd3b-4de0-82ad-2ce10e481e0d",
   "metadata": {},
   "outputs": [],
   "source": [
    "battery[\"project_number\"] = (\n",
    "    battery[\"award_year\"].astype(str) + \"-\" + battery[\"project_#\"].map(\"{:02}\".format).astype(str)\n",
    ")"
   ]
  },
  {
   "cell_type": "code",
   "execution_count": 92,
   "id": "390e85bd-2873-4eec-9e8c-50d711aa068d",
   "metadata": {},
   "outputs": [],
   "source": [
    "battery[\"hydrogen_battery_buses\"] = battery['#_hydrogen_fuel_cell_buses'] + battery['#_battery_electric_buses']"
   ]
  },
  {
   "cell_type": "code",
   "execution_count": 93,
   "id": "1fa4791b-f2da-44a4-adff-714f3f789661",
   "metadata": {},
   "outputs": [
    {
     "data": {
      "text/plain": [
       "_merge    \n",
       "left_only     243\n",
       "both           49\n",
       "right_only      7\n",
       "dtype: int64"
      ]
     },
     "execution_count": 93,
     "metadata": {},
     "output_type": "execute_result"
    }
   ],
   "source": [
    "tircp4.merge(battery[['project_number','hydrogen_battery_buses']], how=\"outer\", on=[\"project_number\"], indicator= True)[[\"_merge\"]].value_counts()"
   ]
  },
  {
   "cell_type": "code",
   "execution_count": 94,
   "id": "3281a93b-78b4-45d4-8adf-5840645a358b",
   "metadata": {},
   "outputs": [],
   "source": [
    "tircp5 = tircp4.merge(battery[['project_number','hydrogen_battery_buses']], how=\"left\", on=[\"project_number\"])"
   ]
  },
  {
   "cell_type": "code",
   "execution_count": 95,
   "id": "f4d6c01b-0664-4203-9719-c3d8575be58c",
   "metadata": {},
   "outputs": [],
   "source": [
    "tircp5[\"total_bus\"] = tircp5[\"total_bus\"].mask(\n",
    "        tircp5[\"total_bus\"].eq(0),\n",
    "        tircp5[\"hydrogen_battery_buses\"],\n",
    "    ).fillna(0)"
   ]
  },
  {
   "cell_type": "code",
   "execution_count": 96,
   "id": "71d9a43a-2b0c-4c1d-8d06-9827552bb007",
   "metadata": {
    "scrolled": true,
    "tags": []
   },
   "outputs": [],
   "source": [
    "# tircp4[['project_number','total_bus']].sort_values('project_number')"
   ]
  },
  {
   "cell_type": "code",
   "execution_count": 97,
   "id": "9116214e-6b30-4c6a-b9b6-77d32665fb05",
   "metadata": {
    "scrolled": true,
    "tags": []
   },
   "outputs": [],
   "source": [
    "# tircp5[['project_number','total_bus','hydrogen_battery_buses']].sort_values('project_number')"
   ]
  },
  {
   "cell_type": "markdown",
   "id": "c46d4a7b-8e0f-45f6-8915-a87617dcb1fc",
   "metadata": {},
   "source": [
    "### Clean"
   ]
  },
  {
   "cell_type": "code",
   "execution_count": 98,
   "id": "a33006d1-4cdf-4d93-8d0a-8d4c15570b50",
   "metadata": {},
   "outputs": [],
   "source": [
    "# Subset for only relevant columns\n",
    "outputs_cols = [\n",
    "    \"project_project_title\",\n",
    "    \"project_award_year\",\n",
    "    \"allocation_components\",\n",
    "    \"categories\",\n",
    "    \"total_track\",\n",
    "    \"total_rail\",\n",
    "    \"total_bus\",\n",
    "    \"total_ferry\",\n",
    "    \"total_active_transportation\",\n",
    "    \"total_network\",\n",
    "    \"total_parking\",\n",
    "    \"total_facilities\",\n",
    "    \"total_charging\",\n",
    "    \"total_storm_drain\",\n",
    "    \"total_street\",\n",
    "    \"total_other_vehicles\",\n",
    "    \"total_bridge_tunnels\",\n",
    "    \"total_infrastructure\",\n",
    "    \"total_ontime_transit_improvements\",\n",
    "]"
   ]
  },
  {
   "cell_type": "code",
   "execution_count": 99,
   "id": "04a4720f-478d-4c90-9516-94e30fbfb204",
   "metadata": {},
   "outputs": [],
   "source": [
    "outputs = tircp5[outputs_cols]"
   ]
  },
  {
   "cell_type": "code",
   "execution_count": 100,
   "id": "8c317081-1423-4f4b-88d9-f955089fb697",
   "metadata": {},
   "outputs": [],
   "source": [
    "outputs = A1_data_prep.clean_up_columns(outputs)"
   ]
  },
  {
   "cell_type": "code",
   "execution_count": 101,
   "id": "6bb08812-7caa-4fa5-a237-c0325b903ec6",
   "metadata": {},
   "outputs": [],
   "source": [
    "agg_cols = ['Total Track',\n",
    "       'Total Rail', 'Total Bus', 'Total Ferry', 'Total Active Transportation',\n",
    "       'Total Network', 'Total Parking', 'Total Facilities', 'Total Charging',\n",
    "       'Total Storm Drain', 'Total Street', 'Total Other Vehicles',\n",
    "       'Total Bridge Tunnels', 'Total Infrastructure',\n",
    "       'Total Ontime Transit Improvements',\n",
    "]"
   ]
  },
  {
   "cell_type": "code",
   "execution_count": 102,
   "id": "49bac7d9-43ad-4dec-b43c-63d37a9a451e",
   "metadata": {},
   "outputs": [],
   "source": [
    "outputs_project = outputs.groupby(['Award Year', 'Title','Components', 'Categories']).agg({**{e: \"max\" for e in agg_cols}})"
   ]
  },
  {
   "cell_type": "code",
   "execution_count": 103,
   "id": "3963ed29-a7e3-479a-a163-a4dfbb7df7fc",
   "metadata": {},
   "outputs": [],
   "source": [
    "outputs_year = outputs.groupby(['Award Year']).agg({**{e: \"sum\" for e in agg_cols}}).T"
   ]
  },
  {
   "cell_type": "code",
   "execution_count": 104,
   "id": "8d6fcb09-6228-4ec2-875b-91af21b839fd",
   "metadata": {},
   "outputs": [
    {
     "data": {
      "text/html": [
       "<div>\n",
       "<style scoped>\n",
       "    .dataframe tbody tr th:only-of-type {\n",
       "        vertical-align: middle;\n",
       "    }\n",
       "\n",
       "    .dataframe tbody tr th {\n",
       "        vertical-align: top;\n",
       "    }\n",
       "\n",
       "    .dataframe thead th {\n",
       "        text-align: right;\n",
       "    }\n",
       "</style>\n",
       "<table border=\"1\" class=\"dataframe\">\n",
       "  <thead>\n",
       "    <tr style=\"text-align: right;\">\n",
       "      <th>Award Year</th>\n",
       "      <th>2018</th>\n",
       "      <th>2020</th>\n",
       "      <th>2022</th>\n",
       "    </tr>\n",
       "  </thead>\n",
       "  <tbody>\n",
       "    <tr>\n",
       "      <th>Total Track</th>\n",
       "      <td>13.00</td>\n",
       "      <td>1.00</td>\n",
       "      <td>6.00</td>\n",
       "    </tr>\n",
       "    <tr>\n",
       "      <th>Total Rail</th>\n",
       "      <td>27.00</td>\n",
       "      <td>40.00</td>\n",
       "      <td>12.00</td>\n",
       "    </tr>\n",
       "    <tr>\n",
       "      <th>Total Bus</th>\n",
       "      <td>409.00</td>\n",
       "      <td>64.00</td>\n",
       "      <td>182.00</td>\n",
       "    </tr>\n",
       "    <tr>\n",
       "      <th>Total Ferry</th>\n",
       "      <td>0.00</td>\n",
       "      <td>1.00</td>\n",
       "      <td>1.00</td>\n",
       "    </tr>\n",
       "    <tr>\n",
       "      <th>Total Active Transportation</th>\n",
       "      <td>4.00</td>\n",
       "      <td>0.00</td>\n",
       "      <td>9.00</td>\n",
       "    </tr>\n",
       "    <tr>\n",
       "      <th>Total Network</th>\n",
       "      <td>19.00</td>\n",
       "      <td>3.00</td>\n",
       "      <td>2.00</td>\n",
       "    </tr>\n",
       "    <tr>\n",
       "      <th>Total Parking</th>\n",
       "      <td>2.00</td>\n",
       "      <td>0.00</td>\n",
       "      <td>4.00</td>\n",
       "    </tr>\n",
       "    <tr>\n",
       "      <th>Total Facilities</th>\n",
       "      <td>30.00</td>\n",
       "      <td>7.00</td>\n",
       "      <td>43.00</td>\n",
       "    </tr>\n",
       "    <tr>\n",
       "      <th>Total Charging</th>\n",
       "      <td>7.00</td>\n",
       "      <td>0.00</td>\n",
       "      <td>11.00</td>\n",
       "    </tr>\n",
       "    <tr>\n",
       "      <th>Total Storm Drain</th>\n",
       "      <td>0.00</td>\n",
       "      <td>0.00</td>\n",
       "      <td>1.00</td>\n",
       "    </tr>\n",
       "    <tr>\n",
       "      <th>Total Street</th>\n",
       "      <td>20.00</td>\n",
       "      <td>1.00</td>\n",
       "      <td>14.00</td>\n",
       "    </tr>\n",
       "    <tr>\n",
       "      <th>Total Other Vehicles</th>\n",
       "      <td>32.00</td>\n",
       "      <td>13.00</td>\n",
       "      <td>19.00</td>\n",
       "    </tr>\n",
       "    <tr>\n",
       "      <th>Total Bridge Tunnels</th>\n",
       "      <td>2.00</td>\n",
       "      <td>0.00</td>\n",
       "      <td>0.00</td>\n",
       "    </tr>\n",
       "    <tr>\n",
       "      <th>Total Infrastructure</th>\n",
       "      <td>15.00</td>\n",
       "      <td>7.00</td>\n",
       "      <td>13.00</td>\n",
       "    </tr>\n",
       "    <tr>\n",
       "      <th>Total Ontime Transit Improvements</th>\n",
       "      <td>16.00</td>\n",
       "      <td>3.00</td>\n",
       "      <td>7.00</td>\n",
       "    </tr>\n",
       "  </tbody>\n",
       "</table>\n",
       "</div>"
      ],
      "text/plain": [
       "Award Year                          2018  2020   2022\n",
       "Total Track                        13.00  1.00   6.00\n",
       "Total Rail                         27.00 40.00  12.00\n",
       "Total Bus                         409.00 64.00 182.00\n",
       "Total Ferry                         0.00  1.00   1.00\n",
       "Total Active Transportation         4.00  0.00   9.00\n",
       "Total Network                      19.00  3.00   2.00\n",
       "Total Parking                       2.00  0.00   4.00\n",
       "Total Facilities                   30.00  7.00  43.00\n",
       "Total Charging                      7.00  0.00  11.00\n",
       "Total Storm Drain                   0.00  0.00   1.00\n",
       "Total Street                       20.00  1.00  14.00\n",
       "Total Other Vehicles               32.00 13.00  19.00\n",
       "Total Bridge Tunnels                2.00  0.00   0.00\n",
       "Total Infrastructure               15.00  7.00  13.00\n",
       "Total Ontime Transit Improvements  16.00  3.00   7.00"
      ]
     },
     "execution_count": 104,
     "metadata": {},
     "output_type": "execute_result"
    }
   ],
   "source": [
    "outputs_year"
   ]
  },
  {
   "cell_type": "markdown",
   "id": "f7fa9b2d-2552-42d8-9e0f-c6365f8f57d9",
   "metadata": {},
   "source": [
    "## Outcomes\n",
    "### Clean up Projects Sheet"
   ]
  },
  {
   "cell_type": "code",
   "execution_count": 105,
   "id": "d78d57f1-92b6-4af6-b12d-71acb6204410",
   "metadata": {},
   "outputs": [],
   "source": [
    "def clean_project():\n",
    "    project = A1_data_prep.clean_project()\n",
    "    \n",
    "    project = project.loc[project[\"project_award_year\"] >=2018].reset_index(drop = True)\n",
    "    \n",
    "    project[\"project_number\"] = (project[\"project_award_year\"].astype(str) \n",
    "                                 + \"-\"+ project[\"project_project_#\"].map(\"{:02}\".format).astype(str))\n",
    "    \n",
    "    project = project[['project_award_year','project_project_title','project_grant_recipient','project_ppno', 'project_number']]\n",
    "    \n",
    "    return project"
   ]
  },
  {
   "cell_type": "code",
   "execution_count": 106,
   "id": "84b99c61-c684-48e5-a2a9-ed1e39862e6c",
   "metadata": {
    "tags": []
   },
   "outputs": [
    {
     "name": "stderr",
     "output_type": "stream",
     "text": [
      "/opt/conda/lib/python3.9/site-packages/openpyxl/worksheet/_reader.py:312: UserWarning: Data Validation extension is not supported and will be removed\n"
     ]
    }
   ],
   "source": [
    "# Subset tircp\n",
    "project = clean_project()"
   ]
  },
  {
   "cell_type": "code",
   "execution_count": 107,
   "id": "414f07eb-0a7f-4a65-995d-55b257c5e3b5",
   "metadata": {},
   "outputs": [
    {
     "data": {
      "text/plain": [
       "(68, 5)"
      ]
     },
     "execution_count": 107,
     "metadata": {},
     "output_type": "execute_result"
    }
   ],
   "source": [
    "project.shape"
   ]
  },
  {
   "cell_type": "markdown",
   "id": "ec3ca81f-790c-4c4c-ab9a-cc50bd9e9b3a",
   "metadata": {},
   "source": [
    "### AwardedProjectsDetail.xlsx"
   ]
  },
  {
   "cell_type": "code",
   "execution_count": 108,
   "id": "1b9e3763-1396-4a89-9485-8d1eda5768dc",
   "metadata": {},
   "outputs": [],
   "source": [
    "drisi_drop_cols = [\n",
    "    \"agency_code\",\n",
    "    \"agency_short_name\",\n",
    "    \"sub_program_description\",\n",
    "    \"agency_name\",\n",
    "    \"program_short_name\",\n",
    "    \"program_name\",\n",
    "    \"program_description\",\n",
    "    \"sub_program_short_name\",\n",
    "    \"sub_program_name\",\n",
    "    \"project_type\",\n",
    "    \"agency\",\n",
    "    \"program\",\n",
    "    \"date_imported\",\n",
    "    \"contractor_or_awardee_admin_expenses\",\n",
    "    \"voucher_id\",\n",
    "    \"project_is_completed\",\n",
    "    \"project_is_canceled\"\n",
    "]"
   ]
  },
  {
   "cell_type": "code",
   "execution_count": 109,
   "id": "5e745c64-b3d5-4e8e-af31-a0b94ef75966",
   "metadata": {},
   "outputs": [],
   "source": [
    "drisi = read_in_files(\"AwardedProjectsDetail.xlsx\", drisi_drop_cols)"
   ]
  },
  {
   "cell_type": "code",
   "execution_count": 110,
   "id": "ca88683a-43ae-42f0-9370-6ba8e73a4923",
   "metadata": {},
   "outputs": [
    {
     "data": {
      "text/plain": [
       "(63, 33)"
      ]
     },
     "execution_count": 110,
     "metadata": {},
     "output_type": "execute_result"
    }
   ],
   "source": [
    "drisi.shape"
   ]
  },
  {
   "cell_type": "code",
   "execution_count": 111,
   "id": "d212712c-896c-4990-b131-3e5f8511950a",
   "metadata": {},
   "outputs": [],
   "source": [
    "outer_drisi, m1 = merge_value_counts(project, drisi, \"project_number\", \"project_id\",) "
   ]
  },
  {
   "cell_type": "code",
   "execution_count": 112,
   "id": "0679dd27-2070-4914-bc9e-379b271f59d4",
   "metadata": {},
   "outputs": [],
   "source": [
    "m1 = m1.drop(columns = ['record_type', \"project_id\", \"project_life_years\", \"project_status\"])"
   ]
  },
  {
   "cell_type": "code",
   "execution_count": 113,
   "id": "e68935e2-77db-465c-8679-1efb04bc9ecf",
   "metadata": {},
   "outputs": [
    {
     "data": {
      "text/plain": [
       "(68, 34)"
      ]
     },
     "execution_count": 113,
     "metadata": {},
     "output_type": "execute_result"
    }
   ],
   "source": [
    "m1.shape"
   ]
  },
  {
   "cell_type": "markdown",
   "id": "f1a17d72-bc99-416a-a17e-08ee89a06c6e",
   "metadata": {},
   "source": [
    "### ImplementedProjectsDetail.xlsx"
   ]
  },
  {
   "cell_type": "code",
   "execution_count": 114,
   "id": "ffce324d-28b3-4f84-80a6-9793748c9af6",
   "metadata": {
    "scrolled": true,
    "tags": []
   },
   "outputs": [],
   "source": [
    "implemented_drop_cols = [\n",
    "    \"programuniqueidentifier\",\n",
    "    \"record_type\",\n",
    "    \"reporting_cycle_name\",\n",
    "    \"agency_short_name\",\n",
    "    \"agency_name\",\n",
    "    \"date_operational\",\n",
    "    \"program_name\",\n",
    "    \"program_description\",\n",
    "    \"project_completion_date\",\n",
    "    \"date_imported\",\n",
    "    \"sub_program_name\",\n",
    "    \"date_selected_for_award\",\n",
    "    \"project_name\",\n",
    "    \"project_type\",\n",
    "    \"fiscal_year_funding_project\",\n",
    "    \"census_tract\",\n",
    "    \"address\",\n",
    "    \"lat_long\",\n",
    "    \"total_program_ggrffunding\",\n",
    "    \"voucher_name\",\n",
    "    \"voucher_description\",\n",
    "]"
   ]
  },
  {
   "cell_type": "code",
   "execution_count": 115,
   "id": "00477756-40d9-4737-be33-824443520459",
   "metadata": {},
   "outputs": [],
   "source": [
    "implemented = read_in_files(\"ImplementedProjectsDetail.xlsx\", implemented_drop_cols)"
   ]
  },
  {
   "cell_type": "code",
   "execution_count": 116,
   "id": "f524a1ad-57d4-4dcb-9cba-600b5f7b2f3a",
   "metadata": {},
   "outputs": [],
   "source": [
    "outer_implemented, m2 = merge_value_counts(m1, implemented, \"project_number\", \"project_idnumber\") "
   ]
  },
  {
   "cell_type": "code",
   "execution_count": 117,
   "id": "54e30d11-da98-4942-92e7-54722cf4bca3",
   "metadata": {},
   "outputs": [],
   "source": [
    "m2 = m2.drop(columns = ['project_count',\"project_idnumber\",'proj_rec_id','voucher_id'])"
   ]
  },
  {
   "cell_type": "code",
   "execution_count": 118,
   "id": "c3b45544-4489-46fa-ae52-91b07de26e91",
   "metadata": {},
   "outputs": [
    {
     "data": {
      "text/plain": [
       "(171, 90)"
      ]
     },
     "execution_count": 118,
     "metadata": {},
     "output_type": "execute_result"
    }
   ],
   "source": [
    "# Why does the df become so large?\n",
    "m2.shape"
   ]
  },
  {
   "cell_type": "code",
   "execution_count": 119,
   "id": "26aa9626-726d-459a-93de-290b7fd64524",
   "metadata": {},
   "outputs": [],
   "source": [
    "m2 = m2.drop_duplicates(subset = [\"project_ppno\", \"project_number\"])"
   ]
  },
  {
   "cell_type": "code",
   "execution_count": 120,
   "id": "5177d6f3-2aec-4495-b626-d1365b9f680c",
   "metadata": {},
   "outputs": [
    {
     "data": {
      "text/plain": [
       "(68, 90)"
      ]
     },
     "execution_count": 120,
     "metadata": {},
     "output_type": "execute_result"
    }
   ],
   "source": [
    "m2.shape"
   ]
  },
  {
   "cell_type": "markdown",
   "id": "46fd61fe-13bb-4cfa-b9b0-3c9bc1a919f8",
   "metadata": {
    "tags": []
   },
   "source": [
    "### OutcomeProjectsDetail.xlsx "
   ]
  },
  {
   "cell_type": "code",
   "execution_count": 121,
   "id": "5b613084-5dbe-4fce-9294-ac6646f13b71",
   "metadata": {},
   "outputs": [],
   "source": [
    "outcomes_drop_cols = [\n",
    "    \"unnamed:_0\",\n",
    "    \"proj_rec_id\",\n",
    "    \"reporting_cycle_name\",\n",
    "    \"agency_short_name\",\n",
    "    \"agency_name\",\n",
    "    \"program_short_name\",\n",
    "    \"program_name\",\n",
    "    \"program_description\",\n",
    "    \"record_type\",\n",
    "    \"sub_program_short_name\",\n",
    "    \"sub_program_name\",\n",
    "    \"sub_program_description\",\n",
    "    \"date_imported\",\n",
    "]"
   ]
  },
  {
   "cell_type": "code",
   "execution_count": 122,
   "id": "567ed66a-cd3e-4b59-8189-8b59fc432521",
   "metadata": {},
   "outputs": [],
   "source": [
    "outcomes = read_in_files(\"OutcomeProjectsDetail.xlsx\", outcomes_drop_cols)"
   ]
  },
  {
   "cell_type": "code",
   "execution_count": 123,
   "id": "3e7ae80a-83b3-4046-81d6-50c04cc8f348",
   "metadata": {
    "scrolled": true,
    "tags": []
   },
   "outputs": [],
   "source": [
    "# outcomes.sort_values('projectid_number')"
   ]
  },
  {
   "cell_type": "code",
   "execution_count": 124,
   "id": "45726027-5769-4ea2-b372-e984bd7e5947",
   "metadata": {
    "scrolled": true,
    "tags": []
   },
   "outputs": [],
   "source": [
    "# list(outcomes.columns)"
   ]
  },
  {
   "cell_type": "code",
   "execution_count": 125,
   "id": "475fab28-094a-4689-b96a-7d276772c22d",
   "metadata": {},
   "outputs": [],
   "source": [
    "outer_outcomes, m3 = merge_value_counts(m2, outcomes, \"project_number\", \"projectid_number\") "
   ]
  },
  {
   "cell_type": "code",
   "execution_count": 126,
   "id": "c7a90425-8677-46ac-8809-d23de5b8be03",
   "metadata": {},
   "outputs": [
    {
     "data": {
      "text/plain": [
       "left_only     67\n",
       "right_only    57\n",
       "both           3\n",
       "Name: _merge, dtype: int64"
      ]
     },
     "execution_count": 126,
     "metadata": {},
     "output_type": "execute_result"
    }
   ],
   "source": [
    "outer_outcomes._merge.value_counts()"
   ]
  },
  {
   "cell_type": "code",
   "execution_count": 127,
   "id": "13e74906-e625-4c0e-868d-0788fd7af85f",
   "metadata": {},
   "outputs": [
    {
     "data": {
      "text/plain": [
       "array(['2015-07', '2015-06', '2015-01', '2015-04', '2015-10', '2015-09',\n",
       "       '2015-12', '2015-05', '2016-04', '2016-01', '2016-12', '2015-02',\n",
       "       '2015-08', '2015-11', '2016-08', '2015-14', '2015-13', '2016-05'],\n",
       "      dtype=object)"
      ]
     },
     "execution_count": 127,
     "metadata": {},
     "output_type": "execute_result"
    }
   ],
   "source": [
    "outer_outcomes.loc[outer_outcomes._merge == \"right_only\"]['projectid_number'].unique()"
   ]
  },
  {
   "cell_type": "markdown",
   "id": "008d4c5e-748a-4e13-b2f0-5990fd33346e",
   "metadata": {},
   "source": [
    "### Clean "
   ]
  },
  {
   "cell_type": "code",
   "execution_count": 132,
   "id": "09b9fb23-35d6-49b5-b2d1-f2fa8e52289d",
   "metadata": {},
   "outputs": [],
   "source": [
    "m3 = m3.drop(columns = [\"projectid_number\",\"ab1550choice\"])"
   ]
  },
  {
   "cell_type": "code",
   "execution_count": 134,
   "id": "6939385a-db4d-488a-8537-208700a33479",
   "metadata": {},
   "outputs": [],
   "source": [
    "m3 = A1_data_prep.clean_up_columns(m3)"
   ]
  },
  {
   "cell_type": "code",
   "execution_count": 140,
   "id": "5c5f6767-572f-4d39-942b-661bca288f23",
   "metadata": {},
   "outputs": [],
   "source": [
    "value_cols = [e for e in m3.columns.tolist() if e not in ('Award Year','Number','Title','Grant Recipient','Ppno')]"
   ]
  },
  {
   "cell_type": "code",
   "execution_count": 156,
   "id": "64344b6d-b3d4-4453-8d41-9580a563c9d0",
   "metadata": {},
   "outputs": [],
   "source": [
    "# m3.info(verbose=True)"
   ]
  },
  {
   "cell_type": "code",
   "execution_count": 157,
   "id": "58db5a78-8287-4ad1-8752-57bd2ca90493",
   "metadata": {},
   "outputs": [],
   "source": [
    "outcomes_project = m3.groupby('Title').agg({**{e: \"max\" for e in value_cols}}).T"
   ]
  },
  {
   "cell_type": "code",
   "execution_count": 158,
   "id": "a8a3ad35-bf19-4937-b1e7-37d96ffe6ce4",
   "metadata": {},
   "outputs": [],
   "source": [
    "outcomes_year = m3.groupby('Award Year').agg({**{e: \"sum\" for e in value_cols}}).T"
   ]
  },
  {
   "cell_type": "markdown",
   "id": "7c2172ab-7ac9-4479-aa11-fb54856c9c93",
   "metadata": {
    "tags": []
   },
   "source": [
    "### TIRCP_AllProjects_12212022 (002).xlsx\n",
    "* Doesn't have anything interesting."
   ]
  },
  {
   "cell_type": "code",
   "execution_count": 159,
   "id": "74207fb1-4d58-4222-9425-24ef2063e93c",
   "metadata": {},
   "outputs": [],
   "source": [
    "# Fill in empty values with NA\n",
    "all_projects = read_in_files(\"TIRCP_AllProjects_12212022 (002).xlsx\", [])"
   ]
  },
  {
   "cell_type": "code",
   "execution_count": 160,
   "id": "49571a94-7658-4400-8f7d-0dafd8da2e73",
   "metadata": {},
   "outputs": [],
   "source": [
    "# all_projects.sample()"
   ]
  },
  {
   "cell_type": "markdown",
   "id": "7ffb64ad-4a3c-4311-99b9-da3607f2353b",
   "metadata": {},
   "source": [
    "## Save"
   ]
  },
  {
   "cell_type": "code",
   "execution_count": 161,
   "id": "fcb1c43b-2adb-4c42-8ebb-487b0e34c30b",
   "metadata": {},
   "outputs": [],
   "source": [
    "with pd.ExcelWriter(f\"{GCS_FILE_PATH}drisi_outcomes_outputs.xlsx\") as writer:\n",
    "    outputs_project.to_excel(writer, sheet_name=\"outputs_project\", index=True)\n",
    "    outputs_year.to_excel(writer, sheet_name=\"outputs_year\", index=True)\n",
    "    outcomes_project.to_excel(writer, sheet_name=\"outcomes_year\", index=True)\n",
    "    outcomes_year.to_excel(writer, sheet_name=\"outcomes_year\", index=True)"
   ]
  },
  {
   "cell_type": "markdown",
   "id": "aa36d953-c76c-4228-9fd2-0966d026b0cc",
   "metadata": {},
   "source": [
    "### Save"
   ]
  },
  {
   "cell_type": "code",
   "execution_count": 162,
   "id": "bb3f4f0d-7ade-4d34-9a3d-16f154e88d38",
   "metadata": {},
   "outputs": [
    {
     "data": {
      "text/plain": [
       "'\\nwith pd.ExcelWriter(f\"{GCS_FILE_PATH}calsta_draft.xlsx\") as writer:\\n    outcomes.to_excel(writer, sheet_name=\"outcomes_unpivoted\", index=True)\\n    outcomes_transformed.to_excel(writer, sheet_name=\"outcomes_transformed\", index=True)\\n    projects.to_excel(writer, sheet_name=\"projects\", index=True)\\n    year_summary.to_excel(writer, sheet_name=\"year_summary\", index=True)\\n    GHG_by_year.to_excel(writer, sheet_name=\"GHG_reduction_year\", index=True)\\n    '"
      ]
     },
     "execution_count": 162,
     "metadata": {},
     "output_type": "execute_result"
    }
   ],
   "source": [
    "\"\"\"\n",
    "with pd.ExcelWriter(f\"{GCS_FILE_PATH}calsta_draft.xlsx\") as writer:\n",
    "    outcomes.to_excel(writer, sheet_name=\"outcomes_unpivoted\", index=True)\n",
    "    outcomes_transformed.to_excel(writer, sheet_name=\"outcomes_transformed\", index=True)\n",
    "    projects.to_excel(writer, sheet_name=\"projects\", index=True)\n",
    "    year_summary.to_excel(writer, sheet_name=\"year_summary\", index=True)\n",
    "    GHG_by_year.to_excel(writer, sheet_name=\"GHG_reduction_year\", index=True)\n",
    "    \"\"\""
   ]
  }
 ],
 "metadata": {
  "kernelspec": {
   "display_name": "Python 3 (ipykernel)",
   "language": "python",
   "name": "python3"
  },
  "language_info": {
   "codemirror_mode": {
    "name": "ipython",
    "version": 3
   },
   "file_extension": ".py",
   "mimetype": "text/x-python",
   "name": "python",
   "nbconvert_exporter": "python",
   "pygments_lexer": "ipython3",
   "version": "3.9.13"
  }
 },
 "nbformat": 4,
 "nbformat_minor": 5
}
