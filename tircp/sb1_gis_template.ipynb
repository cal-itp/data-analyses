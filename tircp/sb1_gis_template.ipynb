{
 "cells": [
  {
   "cell_type": "markdown",
   "id": "87c93812-b039-4ded-a350-314532788b03",
   "metadata": {},
   "source": [
    "## SB1 GIS Template\n",
    "* Populate TIRCP GIS Template to create a map for TIRCP only projects."
   ]
  },
  {
   "cell_type": "code",
   "execution_count": 1,
   "id": "7365bf9b-35c9-47c2-9c9d-1ebdbbc5141e",
   "metadata": {},
   "outputs": [],
   "source": [
    "import A1_data_prep\n",
    "import A2_tableau\n",
    "import numpy as np\n",
    "import pandas as pd\n",
    "from babel.numbers import format_currency\n",
    "from calitp import *"
   ]
  },
  {
   "cell_type": "code",
   "execution_count": 2,
   "id": "e2c46578-09b6-40d3-8a9b-1445039fee81",
   "metadata": {},
   "outputs": [],
   "source": [
    "pd.options.display.max_columns = 100\n",
    "pd.options.display.float_format = \"{:.2f}\".format\n",
    "pd.set_option(\"display.max_rows\", None)\n",
    "pd.set_option(\"display.max_colwidth\", None)"
   ]
  },
  {
   "cell_type": "markdown",
   "id": "70048027-35f8-4ed8-a863-4231dd61f5fb",
   "metadata": {},
   "source": [
    "### Load in sheets"
   ]
  },
  {
   "cell_type": "markdown",
   "id": "82619e27-51e5-4656-aff5-62e665f75c61",
   "metadata": {},
   "source": [
    "#### Project"
   ]
  },
  {
   "cell_type": "code",
   "execution_count": 3,
   "id": "e02d5615-2855-4d4a-8ef5-80d74a22e691",
   "metadata": {},
   "outputs": [
    {
     "name": "stderr",
     "output_type": "stream",
     "text": [
      "/opt/conda/lib/python3.10/site-packages/openpyxl/worksheet/_reader.py:312: UserWarning: Data Validation extension is not supported and will be removed\n",
      "  warn(msg)\n"
     ]
    }
   ],
   "source": [
    "df_project = A1_data_prep.clean_project()"
   ]
  },
  {
   "cell_type": "code",
   "execution_count": 4,
   "id": "2b2d3a8d-157f-4ba0-8d56-895d9b9803b6",
   "metadata": {},
   "outputs": [],
   "source": [
    "project_cols_wanted = [\n",
    "    \"project_award_year\",\n",
    "    \"project_project_#\",\n",
    "    \"project_grant_recipient\",\n",
    "    \"project_project_title\",\n",
    "    \"project_project_description\",\n",
    "    \"project_ppno\",\n",
    "    \"project_district\",\n",
    "    \"project_county\",\n",
    "    \"project_is_sb1?\",\n",
    "    \"project_is_ggrf?\",\n",
    "    \"project_is_iija?\",\n",
    "    \"project_on_shs?\",\n",
    "]"
   ]
  },
  {
   "cell_type": "code",
   "execution_count": 5,
   "id": "e6a034c8-4b9b-4206-99c3-a35e89407f5a",
   "metadata": {},
   "outputs": [],
   "source": [
    "df_project2 = df_project[project_cols_wanted]"
   ]
  },
  {
   "cell_type": "markdown",
   "id": "8a2c66e9-8558-4fd8-a01a-5219c346916d",
   "metadata": {},
   "source": [
    "#### Allocation"
   ]
  },
  {
   "cell_type": "code",
   "execution_count": 6,
   "id": "e9aa3f47-6774-4b19-91dc-1e78c678bfef",
   "metadata": {},
   "outputs": [],
   "source": [
    "df_alloc = A1_data_prep.clean_allocation()"
   ]
  },
  {
   "cell_type": "code",
   "execution_count": 7,
   "id": "316681c3-8084-4391-bd35-87a9dae3501e",
   "metadata": {},
   "outputs": [],
   "source": [
    "# Subset\n",
    "alloc_cols_wanted = [\n",
    "    \"allocation_award_year\",\n",
    "    \"allocation_project_#\",\n",
    "    \"allocation_grant_recipient\",\n",
    "    \"allocation_implementing_agency\",\n",
    "    \"allocation_ppno\",\n",
    "    \"allocation_components\",\n",
    "    \"allocation_phase\",\n",
    "    \"allocation_allocation_amount\",\n",
    "    \"allocation_expended_amount\",\n",
    "    \"allocation_sb1_funding\",\n",
    "    \"allocation_allocation_date\",\n",
    "]"
   ]
  },
  {
   "cell_type": "code",
   "execution_count": 8,
   "id": "c9717c14-5e96-4046-8960-2537a9b006cd",
   "metadata": {
    "tags": []
   },
   "outputs": [],
   "source": [
    "df_alloc2 = df_alloc[alloc_cols_wanted]"
   ]
  },
  {
   "cell_type": "markdown",
   "id": "cc7b9fdc-0777-40b8-8508-e794cdff7f8f",
   "metadata": {},
   "source": [
    "#### GIS"
   ]
  },
  {
   "cell_type": "code",
   "execution_count": 9,
   "id": "c7679566-284f-4d1e-917d-79d3716311d0",
   "metadata": {},
   "outputs": [],
   "source": [
    "df_gis = A1_data_prep.load_gis()"
   ]
  },
  {
   "cell_type": "markdown",
   "id": "05a29c5f-18b7-4a45-a0f0-cef53d97b508",
   "metadata": {
    "tags": []
   },
   "source": [
    "### Populate GIS Template\n",
    "* With the following columns\n",
    "    * ProjectID\t\n",
    "    * PPNO \t\n",
    "    * ProjectTitle\n",
    "    * ProjectDescription\t\n",
    "    * TIRCP Component\t\n",
    "    * ProjectStatus\t\n",
    "    * SB1 Funds\t\n",
    "    * Total Project Cost\t\n",
    "    * Fiscal Year\t\n",
    "    * Allocated\t\n",
    "    * Is SB1?\t\n",
    "    * ON SHS?\t\n",
    "    * \"Caltrans District\"\n",
    "    * \"Assembly Districts\"\t\n",
    "    * \"Senate Districts\"\t\n",
    "    * City Code\t\n",
    "    * City Agency ID \t\n",
    "    * County Code\t\n",
    "    * County Agency ID \t \n",
    "    * Implementing Agency  ID \n",
    " "
   ]
  },
  {
   "cell_type": "markdown",
   "id": "5499030e-2fa5-49d7-bb24-bc56807749f0",
   "metadata": {},
   "source": [
    "#### Merge sheets"
   ]
  },
  {
   "cell_type": "code",
   "execution_count": 10,
   "id": "13d6c9a1-91dd-474f-909f-27f87a0e55f2",
   "metadata": {},
   "outputs": [],
   "source": [
    "# Merge project & allocation sheets first\n",
    "m1 = pd.merge(\n",
    "    df_project2,\n",
    "    df_alloc2,\n",
    "    how=\"outer\",\n",
    "    left_on=[\"project_award_year\", \"project_ppno\"],\n",
    "    right_on=[\"allocation_award_year\", \"allocation_ppno\"],\n",
    "    indicator=True,\n",
    ")"
   ]
  },
  {
   "cell_type": "code",
   "execution_count": 11,
   "id": "49a42d17-cb6b-45ba-a2cd-6f3424d69d9e",
   "metadata": {},
   "outputs": [
    {
     "data": {
      "text/plain": [
       "both          429\n",
       "left_only      25\n",
       "right_only      0\n",
       "Name: _merge, dtype: int64"
      ]
     },
     "execution_count": 11,
     "metadata": {},
     "output_type": "execute_result"
    }
   ],
   "source": [
    "m1._merge.value_counts()"
   ]
  },
  {
   "cell_type": "code",
   "execution_count": 12,
   "id": "c8cc8fc1-aa47-42ab-8f0d-0855fb9cc878",
   "metadata": {},
   "outputs": [
    {
     "data": {
      "text/plain": [
       "(454, 24)"
      ]
     },
     "execution_count": 12,
     "metadata": {},
     "output_type": "execute_result"
    }
   ],
   "source": [
    "m1.shape"
   ]
  },
  {
   "cell_type": "code",
   "execution_count": 13,
   "id": "6642b274-55e2-466c-ad57-ff26acfc801b",
   "metadata": {},
   "outputs": [],
   "source": [
    "# Check that left only values are for Cycle 5.\n",
    "# m1.loc[m1['_merge'] == 'left_only']"
   ]
  },
  {
   "cell_type": "code",
   "execution_count": 14,
   "id": "e0502d7a-d1c4-4af7-9487-afa4cd1fd191",
   "metadata": {},
   "outputs": [],
   "source": [
    "# Drop merge\n",
    "m1 = m1.drop(columns=[\"_merge\"])"
   ]
  },
  {
   "cell_type": "code",
   "execution_count": 15,
   "id": "d975284f-6895-4d5a-8263-924125e81420",
   "metadata": {},
   "outputs": [],
   "source": [
    "# Merge m1 with df_gis\n",
    "m2 = pd.merge(\n",
    "    m1,\n",
    "    df_gis,\n",
    "    how=\"outer\",\n",
    "    left_on=[\"project_award_year\", \"project_project_title\"],\n",
    "    right_on=[\"award_year\", \"project_title\"],\n",
    "    indicator=True,\n",
    ")"
   ]
  },
  {
   "cell_type": "code",
   "execution_count": 16,
   "id": "b775e6fe-dec6-469f-a346-927ed5529de9",
   "metadata": {},
   "outputs": [
    {
     "data": {
      "text/plain": [
       "both          454\n",
       "left_only       0\n",
       "right_only      0\n",
       "Name: _merge, dtype: int64"
      ]
     },
     "execution_count": 16,
     "metadata": {},
     "output_type": "execute_result"
    }
   ],
   "source": [
    "m2._merge.value_counts()"
   ]
  },
  {
   "cell_type": "markdown",
   "id": "cb24b857-5062-4cff-ada2-90fdad8b3ff0",
   "metadata": {},
   "source": [
    "#### Create sheet"
   ]
  },
  {
   "cell_type": "code",
   "execution_count": 17,
   "id": "089c51de-f59c-4977-8b68-15986036060d",
   "metadata": {},
   "outputs": [],
   "source": [
    "# Subset columns\n",
    "cols_wanted = [\n",
    "    \"project_award_year\",\n",
    "    \"project_project_#\",\n",
    "    \"project_ppno\",\n",
    "    \"project_project_title\",\n",
    "    \"project_project_description\",\n",
    "    \"project_grant_recipient\",\n",
    "    \"allocation_phase\",\n",
    "    \"allocation_components\",\n",
    "    \"allocation_sb1_funding\",\n",
    "    \"allocation_allocation_amount\",\n",
    "    \"allocation_allocation_date\",\n",
    "    \"project_on_shs?\",\n",
    "    \"allocation_phase\",\n",
    "    \"caltransdistrict\",\n",
    "    \"assembly_districts\",\n",
    "    \"congressional_districts\",\n",
    "    \"senate_districts\",\n",
    "    \"city_code\",\n",
    "    \"city_agency_id_\",\n",
    "    \"county_code\",\n",
    "    \"county_agency_id_\",\n",
    "    \"_implementing_agency__id_\",\n",
    "]"
   ]
  },
  {
   "cell_type": "code",
   "execution_count": 18,
   "id": "d9b28368-87f2-4873-890b-1d9f1554a31e",
   "metadata": {},
   "outputs": [],
   "source": [
    "gis_sheet = m2[cols_wanted]"
   ]
  },
  {
   "cell_type": "markdown",
   "id": "f7abf7de-2181-4ea7-a411-3440bc26ecad",
   "metadata": {},
   "source": [
    "#### Create Project ID\n",
    "GIS program has to have a ten digit ID for the project ID.  Can you convert the project ID’s as follows:\n",
    "* (four zeros, cycle year, two digit project number) 2015:01 = 0000201501\n"
   ]
  },
  {
   "cell_type": "code",
   "execution_count": 19,
   "id": "b311552b-623e-4072-b96b-8078bf2f4db2",
   "metadata": {},
   "outputs": [],
   "source": [
    "gis_sheet = gis_sheet.rename(columns={\"project_project_#\": \"project_number\"})"
   ]
  },
  {
   "cell_type": "code",
   "execution_count": 20,
   "id": "8e445897-a9d2-4d9f-9d79-866a577db9e5",
   "metadata": {},
   "outputs": [],
   "source": [
    "# Pad single digits with a 0.\n",
    "# https://stackoverflow.com/questions/67401497/add-a-zero-before-1-digit-number-in-a-column-pandas-dataframe\n",
    "gis_sheet[\"project_number\"] = gis_sheet.project_number.astype(str).str.zfill(2)"
   ]
  },
  {
   "cell_type": "code",
   "execution_count": 21,
   "id": "135842f6-431e-426d-bc4b-197ec9a0efe1",
   "metadata": {},
   "outputs": [],
   "source": [
    "gis_sheet[\"project_id\"] = gis_sheet[\"project_award_year\"].astype(str) + gis_sheet[\n",
    "    \"project_number\"\n",
    "].astype(str)"
   ]
  },
  {
   "cell_type": "code",
   "execution_count": 22,
   "id": "4c7d146c-e92a-4a02-bc21-9d0e15a4d0a7",
   "metadata": {},
   "outputs": [],
   "source": [
    "gis_sheet[\"project_id\"] = \"0000\" + gis_sheet[\"project_id\"]"
   ]
  },
  {
   "cell_type": "markdown",
   "id": "49d09a32-e3e8-44f9-a8c0-ac0ab3647351",
   "metadata": {},
   "source": [
    "#### Edit Title to include Project Year & Number"
   ]
  },
  {
   "cell_type": "code",
   "execution_count": 23,
   "id": "b930b2f3-2e48-4cf4-b285-08fd287265a7",
   "metadata": {},
   "outputs": [],
   "source": [
    "# Create a 2nd project identifier with year + project numer\n",
    "gis_sheet['project_year_number'] = gis_sheet[\"project_award_year\"].astype(str) + \":\" + gis_sheet[\"project_number\"]\n"
   ]
  },
  {
   "cell_type": "code",
   "execution_count": 24,
   "id": "6ea349c1-406c-4c41-978f-21e9fb5dc88a",
   "metadata": {},
   "outputs": [],
   "source": [
    "gis_sheet[\"project_project_title\"] = gis_sheet[\"project_project_title\"] + ' ' +  gis_sheet[\"project_year_number\"]"
   ]
  },
  {
   "cell_type": "markdown",
   "id": "48a2147b-67c7-4b80-885e-8deb591e3f2a",
   "metadata": {},
   "source": [
    "#### Extract Fiscal Year"
   ]
  },
  {
   "cell_type": "code",
   "execution_count": 25,
   "id": "33d7fcb5-9589-4f77-9077-aa2b3b6efaff",
   "metadata": {
    "scrolled": true,
    "tags": []
   },
   "outputs": [],
   "source": [
    "gis_sheet[\"fiscal_year\"] = gis_sheet[\"allocation_allocation_date\"].dt.year"
   ]
  },
  {
   "cell_type": "markdown",
   "id": "363e9e32-05e3-498b-8a97-ebec233349e9",
   "metadata": {},
   "source": [
    "#### SB1 and Allocated funding"
   ]
  },
  {
   "cell_type": "code",
   "execution_count": 26,
   "id": "a8c45988-0700-471f-8a7f-38f6e49c64d2",
   "metadata": {},
   "outputs": [],
   "source": [
    "def sb1funding(row):\n",
    "    if row.allocation_sb1_funding <= 0:\n",
    "        return \"No\"\n",
    "    else:\n",
    "        return \"Yes\""
   ]
  },
  {
   "cell_type": "code",
   "execution_count": 27,
   "id": "fb06c286-5752-485f-9d17-204d336ac642",
   "metadata": {},
   "outputs": [],
   "source": [
    "gis_sheet[\"is_sb1_funded\"] = gis_sheet.apply(lambda x: sb1funding(x), axis=1)"
   ]
  },
  {
   "cell_type": "code",
   "execution_count": 28,
   "id": "dc76c662-a176-4990-9a62-7d9352263eb4",
   "metadata": {},
   "outputs": [],
   "source": [
    "def is_allocated(row):\n",
    "    if row.allocation_allocation_amount <= 0:\n",
    "        return \"No\"\n",
    "    else:\n",
    "        return \"Yes\""
   ]
  },
  {
   "cell_type": "code",
   "execution_count": 29,
   "id": "22aa5e0e-ac39-483f-9975-cec6fe6621b2",
   "metadata": {},
   "outputs": [],
   "source": [
    "gis_sheet[\"allocated\"] = gis_sheet.apply(lambda x: is_allocated(x), axis=1)"
   ]
  },
  {
   "cell_type": "markdown",
   "id": "48dbda0b-8e36-4415-8397-8e077d98a08e",
   "metadata": {},
   "source": [
    "#### Final Clean Up"
   ]
  },
  {
   "cell_type": "code",
   "execution_count": 30,
   "id": "204e2c4f-1ae0-405f-947a-2ade06e2fecd",
   "metadata": {},
   "outputs": [],
   "source": [
    "# Arrange cols in right order\n",
    "cols_right_order = [\n",
    "    \"project_year_number\",\n",
    "    \"project_id\",\n",
    "    \"project_ppno\",\n",
    "    \"project_project_title\",\n",
    "    \"project_project_description\",\n",
    "    \"allocation_components\",\n",
    "    \"allocation_phase\",\n",
    "    \"allocation_sb1_funding\",\n",
    "    \"allocation_allocation_amount\",\n",
    "    \"fiscal_year\",\n",
    "    \"allocated\",\n",
    "    \"is_sb1_funded\",\n",
    "    \"project_on_shs?\",\n",
    "    \"caltransdistrict\",\n",
    "    \"assembly_districts\",\n",
    "    \"senate_districts\",\n",
    "    \"city_code\",\n",
    "    \"city_agency_id_\",\n",
    "    \"county_code\",\n",
    "    \"county_agency_id_\",\n",
    "    \"_implementing_agency__id_\",\n",
    "]"
   ]
  },
  {
   "cell_type": "code",
   "execution_count": 31,
   "id": "c7ec4fcb-35db-4353-a6d2-23430d8c4488",
   "metadata": {},
   "outputs": [],
   "source": [
    "final_gis = gis_sheet[cols_right_order]"
   ]
  },
  {
   "cell_type": "code",
   "execution_count": 32,
   "id": "3472fe93-5490-449a-b726-fabbbba2dfc0",
   "metadata": {},
   "outputs": [],
   "source": [
    "final_gis = A1_data_prep.clean_up_columns(final_gis)"
   ]
  },
  {
   "cell_type": "code",
   "execution_count": 33,
   "id": "380e3ee4-02b6-4955-b71c-a8e65ea67e72",
   "metadata": {},
   "outputs": [],
   "source": [
    "final_gis = final_gis.rename(\n",
    "    columns={\n",
    "        \"Id\": \"Project ID\",\n",
    "        \"Title\": \"Project Title\",\n",
    "        \"Description\": \"Project Description\",\n",
    "        \"Component\": \"TIRCP Component\",\n",
    "        \"Phase\": \"Project Status\",\n",
    "        \"Sb1 Funding\": \"SB1 Funds\",\n",
    "        \"Amount\": \"Total Project Cost\",\n",
    "        \"Caltransdistrict\": \"Caltrans District\",\n",
    "    }\n",
    ")"
   ]
  },
  {
   "cell_type": "code",
   "execution_count": 34,
   "id": "213ad554-c43f-422f-b1e9-93e31ec20487",
   "metadata": {},
   "outputs": [],
   "source": [
    "final_gis = final_gis.fillna(\n",
    "   gis_sheet.dtypes.replace({\"float64\": 0.0, \"object\": \"None\", \"int64\": 0})\n",
    " )"
   ]
  },
  {
   "cell_type": "code",
   "execution_count": 35,
   "id": "35215f00-7351-43b4-b4c0-437b260c4701",
   "metadata": {
    "scrolled": true,
    "tags": []
   },
   "outputs": [
    {
     "data": {
      "text/html": [
       "<div>\n",
       "<style scoped>\n",
       "    .dataframe tbody tr th:only-of-type {\n",
       "        vertical-align: middle;\n",
       "    }\n",
       "\n",
       "    .dataframe tbody tr th {\n",
       "        vertical-align: top;\n",
       "    }\n",
       "\n",
       "    .dataframe thead th {\n",
       "        text-align: right;\n",
       "    }\n",
       "</style>\n",
       "<table border=\"1\" class=\"dataframe\">\n",
       "  <thead>\n",
       "    <tr style=\"text-align: right;\">\n",
       "      <th></th>\n",
       "      <th>Year Number</th>\n",
       "      <th>Project ID</th>\n",
       "      <th>Ppno</th>\n",
       "      <th>Project Title</th>\n",
       "      <th>Project Description</th>\n",
       "      <th>Components</th>\n",
       "      <th>Project Status</th>\n",
       "      <th>Project Status</th>\n",
       "      <th>SB1 Funds</th>\n",
       "      <th>Total Project Cost</th>\n",
       "      <th>Fiscal Year</th>\n",
       "      <th>Allocated</th>\n",
       "      <th>Is Sb1 Funded</th>\n",
       "      <th>On Shs?</th>\n",
       "      <th>Caltrans District</th>\n",
       "      <th>Assembly Districts</th>\n",
       "      <th>Senate Districts</th>\n",
       "      <th>City Code</th>\n",
       "      <th>City Agency Id</th>\n",
       "      <th>County Code</th>\n",
       "      <th>County Agency Id</th>\n",
       "      <th>Implementing Agency  Id</th>\n",
       "    </tr>\n",
       "  </thead>\n",
       "  <tbody>\n",
       "    <tr>\n",
       "      <th>129</th>\n",
       "      <td>2018:12</td>\n",
       "      <td>0000201812</td>\n",
       "      <td>CP031</td>\n",
       "      <td>Building Up: LOSSAN North Improvement Program 2018:12</td>\n",
       "      <td>Improve on-time performance and rail corridor capacity for Pacific Surfliner and Coaster trains by investing in signal optimization, a more robust capital maintenance program and new right of way fencing. These projects prepare the corridor for higher frequency services on the Pacific Surfliner and COASTER. Also includes study of San Diego maintenance/layover facility relocation.</td>\n",
       "      <td>On-Time Performance Incentive Program for Service Improvements</td>\n",
       "      <td>CONST</td>\n",
       "      <td>CONST</td>\n",
       "      <td>1274000.00</td>\n",
       "      <td>2299000.00</td>\n",
       "      <td>2018.00</td>\n",
       "      <td>Yes</td>\n",
       "      <td>Yes</td>\n",
       "      <td>None</td>\n",
       "      <td>|05|07|08| 11| 12|</td>\n",
       "      <td>|35|37|38|39|40|41|43|44|45|46|47|48|50|51|52|53|54|55|57|58|59|60|61|62|63|64|65|66|67|68|69|70|72|73|74|75|76|77|78|79|80|</td>\n",
       "      <td>|18|19|20|21|22|23|24|25|26|27|29|30|31|32|33|34|35|36|37|38|39|40|</td>\n",
       "      <td>|5016|5007|5129|5405|5006|5133|5055|5410|5372|5079|5445|5004|</td>\n",
       "      <td>NaN</td>\n",
       "      <td>|5953|5955|5957|5949|5951|5952|</td>\n",
       "      <td>NaN</td>\n",
       "      <td>|0295|</td>\n",
       "    </tr>\n",
       "  </tbody>\n",
       "</table>\n",
       "</div>"
      ],
      "text/plain": [
       "    Year Number  Project ID   Ppno  \\\n",
       "129     2018:12  0000201812  CP031   \n",
       "\n",
       "                                             Project Title  \\\n",
       "129  Building Up: LOSSAN North Improvement Program 2018:12   \n",
       "\n",
       "                                                                                                                                                                                                                                                                                                                                                                                Project Description  \\\n",
       "129  Improve on-time performance and rail corridor capacity for Pacific Surfliner and Coaster trains by investing in signal optimization, a more robust capital maintenance program and new right of way fencing. These projects prepare the corridor for higher frequency services on the Pacific Surfliner and COASTER. Also includes study of San Diego maintenance/layover facility relocation.   \n",
       "\n",
       "                                                         Components  \\\n",
       "129  On-Time Performance Incentive Program for Service Improvements   \n",
       "\n",
       "    Project Status Project Status  SB1 Funds  Total Project Cost  Fiscal Year  \\\n",
       "129          CONST          CONST 1274000.00          2299000.00      2018.00   \n",
       "\n",
       "    Allocated Is Sb1 Funded On Shs?   Caltrans District  \\\n",
       "129       Yes           Yes    None  |05|07|08| 11| 12|   \n",
       "\n",
       "                                                                                                               Assembly Districts  \\\n",
       "129  |35|37|38|39|40|41|43|44|45|46|47|48|50|51|52|53|54|55|57|58|59|60|61|62|63|64|65|66|67|68|69|70|72|73|74|75|76|77|78|79|80|   \n",
       "\n",
       "                                                        Senate Districts  \\\n",
       "129  |18|19|20|21|22|23|24|25|26|27|29|30|31|32|33|34|35|36|37|38|39|40|   \n",
       "\n",
       "                                                         City Code  \\\n",
       "129  |5016|5007|5129|5405|5006|5133|5055|5410|5372|5079|5445|5004|   \n",
       "\n",
       "     City Agency Id                      County Code  County Agency Id  \\\n",
       "129             NaN  |5953|5955|5957|5949|5951|5952|               NaN   \n",
       "\n",
       "    Implementing Agency  Id  \n",
       "129                  |0295|  "
      ]
     },
     "execution_count": 35,
     "metadata": {},
     "output_type": "execute_result"
    }
   ],
   "source": [
    "final_gis.sample(1)"
   ]
  },
  {
   "cell_type": "markdown",
   "id": "524fc73b-6465-4d9c-9283-4b983756ad60",
   "metadata": {},
   "source": [
    "#### Save"
   ]
  },
  {
   "cell_type": "code",
   "execution_count": 36,
   "id": "55233023-f00e-4ce5-90a9-393d8b74e2b0",
   "metadata": {},
   "outputs": [],
   "source": [
    "with pd.ExcelWriter(f\"{A1_data_prep.GCS_FILE_PATH}gis_template.xlsx\") as writer:\n",
    "    final_gis.to_excel(writer, sheet_name=\"Projects Table\", index=False)\n"
   ]
  }
 ],
 "metadata": {
  "kernelspec": {
   "display_name": "Python 3 (ipykernel)",
   "language": "python",
   "name": "python3"
  },
  "language_info": {
   "codemirror_mode": {
    "name": "ipython",
    "version": 3
   },
   "file_extension": ".py",
   "mimetype": "text/x-python",
   "name": "python",
   "nbconvert_exporter": "python",
   "pygments_lexer": "ipython3",
   "version": "3.10.6"
  }
 },
 "nbformat": 4,
 "nbformat_minor": 5
}
