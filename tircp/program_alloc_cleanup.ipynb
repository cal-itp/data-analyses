{
 "cells": [
  {
   "cell_type": "code",
   "execution_count": 1,
   "id": "44469530-a68b-4823-8dbe-0afc588e5f69",
   "metadata": {},
   "outputs": [
    {
     "name": "stderr",
     "output_type": "stream",
     "text": [
      "/opt/conda/lib/python3.10/site-packages/geopandas/_compat.py:111: UserWarning: The Shapely GEOS version (3.10.2-CAPI-1.16.0) is incompatible with the GEOS version PyGEOS was compiled with (3.10.1-CAPI-1.16.0). Conversions between both will be slow.\n",
      "  warnings.warn(\n"
     ]
    }
   ],
   "source": [
    "import A1_data_prep\n",
    "import A3_semiannual_report\n",
    "import A4_program_allocation_plan\n",
    "import numpy as np\n",
    "import pandas as pd\n",
    "from calitp import *\n",
    "from babel.numbers import format_currency\n",
    "\n",
    "pd.options.display.max_columns = 100\n",
    "pd.set_option(\"display.max_rows\", None)\n",
    "pd.set_option(\"display.max_colwidth\", None)"
   ]
  },
  {
   "cell_type": "code",
   "execution_count": 2,
   "id": "b953e4ba-ba3e-4848-bfaf-aa8e84adf3d6",
   "metadata": {},
   "outputs": [],
   "source": [
    "GCS_FILE_PATH = \"gs://calitp-analytics-data/data-analyses/tircp/\""
   ]
  },
  {
   "cell_type": "code",
   "execution_count": 3,
   "id": "6ba0cc0b-0c6e-4302-8c21-18a18ffb37af",
   "metadata": {},
   "outputs": [],
   "source": [
    "project_cols = [\n",
    "    \"project_award_year\",\n",
    "    \"project_project_#\",\n",
    "    \"project_tircp_award_amount__$_\",\n",
    "    \"project_grant_recipient\",\n",
    "    \"project_project_title\",\n",
    "    \"project_ppno\",\n",
    "    \"project_unallocated_amount\",\n",
    "]"
   ]
  },
  {
   "cell_type": "code",
   "execution_count": 4,
   "id": "5b19f038-fe8a-4fe8-80d3-6c48ed36211e",
   "metadata": {},
   "outputs": [],
   "source": [
    "allocation_cols = [\n",
    "    \"allocation_award_year\",\n",
    "    \"allocation_grant_recipient\",\n",
    "    \"allocation_implementing_agency\",\n",
    "    \"allocation_components\",\n",
    "    \"allocation_ppno\",\n",
    "    \"allocation_phase\",\n",
    "    \"allocation_prior_fiscal_years_to_2020\",\n",
    "    \"allocation_fiscal_year_2020_2021\",\n",
    "    \"allocation_fiscal_year_2021_2022\",\n",
    "    \"allocation_fiscal_year_2022_2023\",\n",
    "    \"allocation_fiscal_year_2023_2024\",\n",
    "    \"allocation_fiscal_year_2024_2025\",\n",
    "    \"allocation_fiscal_year_2025_2026\",\n",
    "    \"allocation_fiscal_year_2026_2027\",\n",
    "    \"allocation_fiscal_year_2027_2028\",\n",
    "    \"allocation_fiscal_year_2028_2029\",\n",
    "    \"allocation_fiscal_year_2029_2030\",\n",
    "    \"allocation_ctc_financial_resolution\",\n",
    "    \"allocation_allocation_date\",\n",
    "    \"allocation_project_id\",\n",
    "    \"allocation_sb1_funding\",\n",
    "    \"allocation_ggrf_funding\",\n",
    "    \"allocation_allocation_amount\",\n",
    "]"
   ]
  },
  {
   "cell_type": "code",
   "execution_count": 5,
   "id": "81f350aa-2898-4d42-a6a9-48263a9b3dd5",
   "metadata": {},
   "outputs": [],
   "source": [
    "missing_date = pd.to_datetime(\"2100-01-01\")"
   ]
  },
  {
   "cell_type": "code",
   "execution_count": 6,
   "id": "2f12a5a1-fa5f-474c-8bfa-7c51d4dab452",
   "metadata": {},
   "outputs": [],
   "source": [
    "group_by_cols = [\n",
    "    \"Award Year\",\n",
    "    \"Project #\",\n",
    "    \"Award Amount\",\n",
    "    \"Not Allocated\",\n",
    "    \"Ppno\",\n",
    "    \"Grant Recipient\",\n",
    "    \"Implementing Agency\",\n",
    "    \"Project Title\",\n",
    "    \"Separable Phases/Components\",\n",
    "    \"Phase\",\n",
    "    \"Id\",\n",
    "    \"Ctc Financial Resolution\",\n",
    "    \"Allocation Date\",\n",
    "]"
   ]
  },
  {
   "cell_type": "code",
   "execution_count": 7,
   "id": "f786fca5-912b-4d43-9ea0-345ac4305b2f",
   "metadata": {},
   "outputs": [],
   "source": [
    "max_cols = [\n",
    "    \"Fiscal Year 2021 2022\",\n",
    "    \"Fiscal Year 2022 2023\",\n",
    "    \"Fiscal Year 2023 2024\",\n",
    "    \"Fiscal Year 2024 2025\",\n",
    "    \"Fiscal Year 2025 2026\",\n",
    "    \"Fiscal Year 2026 2027\",\n",
    "    \"Fiscal Year 2027 2028\",\n",
    "    \"Fiscal Year 2028 2029\",\n",
    "    \"Fiscal Year 2029 2030\",\n",
    "]"
   ]
  },
  {
   "cell_type": "code",
   "execution_count": 8,
   "id": "7c646f37-d963-4528-b8ce-10066ee82196",
   "metadata": {},
   "outputs": [],
   "source": [
    "sum_cols = [\"PTA-SB1_Amount\", \"Ggrf Funding\", \"Total Amount\"]"
   ]
  },
  {
   "cell_type": "code",
   "execution_count": 9,
   "id": "28aed4c7-68f4-441a-8e7f-e05c4597ec1f",
   "metadata": {},
   "outputs": [],
   "source": [
    "monetary_cols = [max_cols + sum_cols]"
   ]
  },
  {
   "cell_type": "code",
   "execution_count": 10,
   "id": "b9419dd9-13db-452e-9329-d978b76992dc",
   "metadata": {},
   "outputs": [
    {
     "data": {
      "text/plain": [
       "[['Fiscal Year 2021 2022',\n",
       "  'Fiscal Year 2022 2023',\n",
       "  'Fiscal Year 2023 2024',\n",
       "  'Fiscal Year 2024 2025',\n",
       "  'Fiscal Year 2025 2026',\n",
       "  'Fiscal Year 2026 2027',\n",
       "  'Fiscal Year 2027 2028',\n",
       "  'Fiscal Year 2028 2029',\n",
       "  'Fiscal Year 2029 2030',\n",
       "  'PTA-SB1_Amount',\n",
       "  'Ggrf Funding',\n",
       "  'Total Amount']]"
      ]
     },
     "execution_count": 10,
     "metadata": {},
     "output_type": "execute_result"
    }
   ],
   "source": [
    "monetary_cols"
   ]
  },
  {
   "cell_type": "code",
   "execution_count": 11,
   "id": "584fcbb3-b708-485d-b177-ae5e65499e5f",
   "metadata": {},
   "outputs": [],
   "source": [
    "def pivot(df):\n",
    "    agg = df.groupby(group_by_cols).agg(\n",
    "        {**{e: \"max\" for e in max_cols}, **{e: \"sum\" for e in sum_cols}}\n",
    "    )\n",
    "    return agg"
   ]
  },
  {
   "cell_type": "code",
   "execution_count": 12,
   "id": "9bbbd16a-d457-4d14-9169-7a3dd8ea90b1",
   "metadata": {},
   "outputs": [],
   "source": [
    "def program_allocation_plan():\n",
    "\n",
    "    # Load in Sheets\n",
    "    df_project = A1_data_prep.clean_project()\n",
    "    df_allocation = A1_data_prep.clean_allocation()\n",
    "\n",
    "    # Only keeping certain columns\n",
    "    df_project = df_project[project_cols]\n",
    "    df_allocation = df_allocation[allocation_cols]\n",
    "\n",
    "    # Merge\n",
    "    m1 = df_allocation.merge(\n",
    "        df_project,\n",
    "        how=\"left\",\n",
    "        left_on=[\"allocation_award_year\", \"allocation_ppno\"],\n",
    "        right_on=[\"project_award_year\", \"project_ppno\"],\n",
    "    )\n",
    "\n",
    "    # Clean Up\n",
    "    # Delete one of the PPNO and Award Year Columns\n",
    "    m1 = m1.drop(\n",
    "        columns=[\n",
    "            \"allocation_award_year\",\n",
    "            \"allocation_ppno\",\n",
    "            \"allocation_grant_recipient\",\n",
    "        ]\n",
    "    )\n",
    "\n",
    "    # Fill in some columns with TBD so it'll show up\n",
    "    m1[[\"allocation_project_id\", \"allocation_ctc_financial_resolution\"]] = m1[\n",
    "        [\"allocation_project_id\", \"allocation_ctc_financial_resolution\"]\n",
    "    ].fillna(value=\"TBD\")\n",
    "\n",
    "    # Fill in missing dates with something random\n",
    "    m1[\"allocation_allocation_date\"] = m1[\"allocation_allocation_date\"].fillna(\n",
    "        missing_date\n",
    "    )\n",
    "\n",
    "    # Create Total_Amount Col\n",
    "    m1[\"Total_Amount\"] = m1[\"allocation_ggrf_funding\"] + m1[\"allocation_sb1_funding\"]\n",
    "\n",
    "    # Rename cols to the right names\n",
    "    m1 = A1_data_prep.clean_up_columns(m1)\n",
    "    m1 = m1.rename(\n",
    "        columns={\n",
    "            \"Tircp Award Amount  $\": \"Award Amount\",\n",
    "            \"#\": \"Project #\",\n",
    "            \"Ctc Financial_Resolution\": \"Allocation Resolution\",\n",
    "            \"Sb1 Funding\": \"PTA-SB1_Amount\",\n",
    "            \"Unallocated Amount\": \"Not Allocated\",\n",
    "            \"Title\": \"Project Title\",\n",
    "            \"Components\": \"Separable Phases/Components\",\n",
    "            \"Date\": \"Allocation Date\",\n",
    "        }\n",
    "    )\n",
    "    \n",
    "    # Convert to currency add in FY too\n",
    "    for i in monetary_cols:\n",
    "        m1[i] = m1[i].apply(lambda x: format_currency(x, currency=\"USD\", locale=\"en_US\"))\n",
    "\n",
    "    # Create sheets\n",
    "    df_2015 = pivot(m1.loc[m1[\"Award Year\"] == 2015])\n",
    "    df_2016 = pivot(m1.loc[m1[\"Award Year\"] == 2016])\n",
    "    df_2018 = pivot(m1.loc[m1[\"Award Year\"] == 2018])\n",
    "    df_2020 = pivot(m1.loc[m1[\"Award Year\"] == 2020])\n",
    "    \n",
    "    \"\"\"\n",
    "    # GCS\n",
    "    with pd.ExcelWriter(f\"{GCS_FILE_PATH}Program_Allocation_Plan.xlsx\") as writer:\n",
    "        df_2015.to_excel(writer, sheet_name=\"2015_Cycle_1\", index=True)\n",
    "        df_2016.to_excel(writer, sheet_name=\"2016_Cycle_2\", index=True)\n",
    "        df_2018.to_excel(writer, sheet_name=\"2018_Cycle_3\", index=True)\n",
    "        df_2020.to_excel(writer, sheet_name=\"2020_Cycle_4\", index=True)\n",
    "    \"\"\"\n",
    "    return df_2015"
   ]
  },
  {
   "cell_type": "code",
   "execution_count": 13,
   "id": "96b5ef62-ce59-448c-88ef-7def1b47b311",
   "metadata": {},
   "outputs": [
    {
     "name": "stderr",
     "output_type": "stream",
     "text": [
      "/opt/conda/lib/python3.10/site-packages/openpyxl/worksheet/_reader.py:312: UserWarning: Data Validation extension is not supported and will be removed\n"
     ]
    },
    {
     "ename": "InvalidOperation",
     "evalue": "[<class 'decimal.ConversionSyntax'>]",
     "output_type": "error",
     "traceback": [
      "\u001b[0;31m---------------------------------------------------------------------------\u001b[0m",
      "\u001b[0;31mInvalidOperation\u001b[0m                          Traceback (most recent call last)",
      "Input \u001b[0;32mIn [13]\u001b[0m, in \u001b[0;36m<cell line: 1>\u001b[0;34m()\u001b[0m\n\u001b[0;32m----> 1\u001b[0m test \u001b[38;5;241m=\u001b[39m \u001b[43mprogram_allocation_plan\u001b[49m\u001b[43m(\u001b[49m\u001b[43m)\u001b[49m\n",
      "Input \u001b[0;32mIn [12]\u001b[0m, in \u001b[0;36mprogram_allocation_plan\u001b[0;34m()\u001b[0m\n\u001b[1;32m     57\u001b[0m \u001b[38;5;66;03m# Convert to currency add in FY too\u001b[39;00m\n\u001b[1;32m     58\u001b[0m \u001b[38;5;28;01mfor\u001b[39;00m i \u001b[38;5;129;01min\u001b[39;00m monetary_cols:\n\u001b[0;32m---> 59\u001b[0m     m1[i] \u001b[38;5;241m=\u001b[39m \u001b[43mm1\u001b[49m\u001b[43m[\u001b[49m\u001b[43mi\u001b[49m\u001b[43m]\u001b[49m\u001b[38;5;241;43m.\u001b[39;49m\u001b[43mapply\u001b[49m\u001b[43m(\u001b[49m\u001b[38;5;28;43;01mlambda\u001b[39;49;00m\u001b[43m \u001b[49m\u001b[43mx\u001b[49m\u001b[43m:\u001b[49m\u001b[43m \u001b[49m\u001b[43mformat_currency\u001b[49m\u001b[43m(\u001b[49m\u001b[43mx\u001b[49m\u001b[43m,\u001b[49m\u001b[43m \u001b[49m\u001b[43mcurrency\u001b[49m\u001b[38;5;241;43m=\u001b[39;49m\u001b[38;5;124;43m\"\u001b[39;49m\u001b[38;5;124;43mUSD\u001b[39;49m\u001b[38;5;124;43m\"\u001b[39;49m\u001b[43m,\u001b[49m\u001b[43m \u001b[49m\u001b[43mlocale\u001b[49m\u001b[38;5;241;43m=\u001b[39;49m\u001b[38;5;124;43m\"\u001b[39;49m\u001b[38;5;124;43men_US\u001b[39;49m\u001b[38;5;124;43m\"\u001b[39;49m\u001b[43m)\u001b[49m\u001b[43m)\u001b[49m\n\u001b[1;32m     61\u001b[0m \u001b[38;5;66;03m# Create sheets\u001b[39;00m\n\u001b[1;32m     62\u001b[0m df_2015 \u001b[38;5;241m=\u001b[39m pivot(m1\u001b[38;5;241m.\u001b[39mloc[m1[\u001b[38;5;124m\"\u001b[39m\u001b[38;5;124mAward Year\u001b[39m\u001b[38;5;124m\"\u001b[39m] \u001b[38;5;241m==\u001b[39m \u001b[38;5;241m2015\u001b[39m])\n",
      "File \u001b[0;32m/opt/conda/lib/python3.10/site-packages/pandas/core/frame.py:8839\u001b[0m, in \u001b[0;36mDataFrame.apply\u001b[0;34m(self, func, axis, raw, result_type, args, **kwargs)\u001b[0m\n\u001b[1;32m   8828\u001b[0m \u001b[38;5;28;01mfrom\u001b[39;00m \u001b[38;5;21;01mpandas\u001b[39;00m\u001b[38;5;21;01m.\u001b[39;00m\u001b[38;5;21;01mcore\u001b[39;00m\u001b[38;5;21;01m.\u001b[39;00m\u001b[38;5;21;01mapply\u001b[39;00m \u001b[38;5;28;01mimport\u001b[39;00m frame_apply\n\u001b[1;32m   8830\u001b[0m op \u001b[38;5;241m=\u001b[39m frame_apply(\n\u001b[1;32m   8831\u001b[0m     \u001b[38;5;28mself\u001b[39m,\n\u001b[1;32m   8832\u001b[0m     func\u001b[38;5;241m=\u001b[39mfunc,\n\u001b[0;32m   (...)\u001b[0m\n\u001b[1;32m   8837\u001b[0m     kwargs\u001b[38;5;241m=\u001b[39mkwargs,\n\u001b[1;32m   8838\u001b[0m )\n\u001b[0;32m-> 8839\u001b[0m \u001b[38;5;28;01mreturn\u001b[39;00m \u001b[43mop\u001b[49m\u001b[38;5;241;43m.\u001b[39;49m\u001b[43mapply\u001b[49m\u001b[43m(\u001b[49m\u001b[43m)\u001b[49m\u001b[38;5;241m.\u001b[39m__finalize__(\u001b[38;5;28mself\u001b[39m, method\u001b[38;5;241m=\u001b[39m\u001b[38;5;124m\"\u001b[39m\u001b[38;5;124mapply\u001b[39m\u001b[38;5;124m\"\u001b[39m)\n",
      "File \u001b[0;32m/opt/conda/lib/python3.10/site-packages/pandas/core/apply.py:727\u001b[0m, in \u001b[0;36mFrameApply.apply\u001b[0;34m(self)\u001b[0m\n\u001b[1;32m    724\u001b[0m \u001b[38;5;28;01melif\u001b[39;00m \u001b[38;5;28mself\u001b[39m\u001b[38;5;241m.\u001b[39mraw:\n\u001b[1;32m    725\u001b[0m     \u001b[38;5;28;01mreturn\u001b[39;00m \u001b[38;5;28mself\u001b[39m\u001b[38;5;241m.\u001b[39mapply_raw()\n\u001b[0;32m--> 727\u001b[0m \u001b[38;5;28;01mreturn\u001b[39;00m \u001b[38;5;28;43mself\u001b[39;49m\u001b[38;5;241;43m.\u001b[39;49m\u001b[43mapply_standard\u001b[49m\u001b[43m(\u001b[49m\u001b[43m)\u001b[49m\n",
      "File \u001b[0;32m/opt/conda/lib/python3.10/site-packages/pandas/core/apply.py:851\u001b[0m, in \u001b[0;36mFrameApply.apply_standard\u001b[0;34m(self)\u001b[0m\n\u001b[1;32m    850\u001b[0m \u001b[38;5;28;01mdef\u001b[39;00m \u001b[38;5;21mapply_standard\u001b[39m(\u001b[38;5;28mself\u001b[39m):\n\u001b[0;32m--> 851\u001b[0m     results, res_index \u001b[38;5;241m=\u001b[39m \u001b[38;5;28;43mself\u001b[39;49m\u001b[38;5;241;43m.\u001b[39;49m\u001b[43mapply_series_generator\u001b[49m\u001b[43m(\u001b[49m\u001b[43m)\u001b[49m\n\u001b[1;32m    853\u001b[0m     \u001b[38;5;66;03m# wrap results\u001b[39;00m\n\u001b[1;32m    854\u001b[0m     \u001b[38;5;28;01mreturn\u001b[39;00m \u001b[38;5;28mself\u001b[39m\u001b[38;5;241m.\u001b[39mwrap_results(results, res_index)\n",
      "File \u001b[0;32m/opt/conda/lib/python3.10/site-packages/pandas/core/apply.py:867\u001b[0m, in \u001b[0;36mFrameApply.apply_series_generator\u001b[0;34m(self)\u001b[0m\n\u001b[1;32m    864\u001b[0m \u001b[38;5;28;01mwith\u001b[39;00m option_context(\u001b[38;5;124m\"\u001b[39m\u001b[38;5;124mmode.chained_assignment\u001b[39m\u001b[38;5;124m\"\u001b[39m, \u001b[38;5;28;01mNone\u001b[39;00m):\n\u001b[1;32m    865\u001b[0m     \u001b[38;5;28;01mfor\u001b[39;00m i, v \u001b[38;5;129;01min\u001b[39;00m \u001b[38;5;28menumerate\u001b[39m(series_gen):\n\u001b[1;32m    866\u001b[0m         \u001b[38;5;66;03m# ignore SettingWithCopy here in case the user mutates\u001b[39;00m\n\u001b[0;32m--> 867\u001b[0m         results[i] \u001b[38;5;241m=\u001b[39m \u001b[38;5;28;43mself\u001b[39;49m\u001b[38;5;241;43m.\u001b[39;49m\u001b[43mf\u001b[49m\u001b[43m(\u001b[49m\u001b[43mv\u001b[49m\u001b[43m)\u001b[49m\n\u001b[1;32m    868\u001b[0m         \u001b[38;5;28;01mif\u001b[39;00m \u001b[38;5;28misinstance\u001b[39m(results[i], ABCSeries):\n\u001b[1;32m    869\u001b[0m             \u001b[38;5;66;03m# If we have a view on v, we need to make a copy because\u001b[39;00m\n\u001b[1;32m    870\u001b[0m             \u001b[38;5;66;03m#  series_generator will swap out the underlying data\u001b[39;00m\n\u001b[1;32m    871\u001b[0m             results[i] \u001b[38;5;241m=\u001b[39m results[i]\u001b[38;5;241m.\u001b[39mcopy(deep\u001b[38;5;241m=\u001b[39m\u001b[38;5;28;01mFalse\u001b[39;00m)\n",
      "Input \u001b[0;32mIn [12]\u001b[0m, in \u001b[0;36mprogram_allocation_plan.<locals>.<lambda>\u001b[0;34m(x)\u001b[0m\n\u001b[1;32m     57\u001b[0m \u001b[38;5;66;03m# Convert to currency add in FY too\u001b[39;00m\n\u001b[1;32m     58\u001b[0m \u001b[38;5;28;01mfor\u001b[39;00m i \u001b[38;5;129;01min\u001b[39;00m monetary_cols:\n\u001b[0;32m---> 59\u001b[0m     m1[i] \u001b[38;5;241m=\u001b[39m m1[i]\u001b[38;5;241m.\u001b[39mapply(\u001b[38;5;28;01mlambda\u001b[39;00m x: \u001b[43mformat_currency\u001b[49m\u001b[43m(\u001b[49m\u001b[43mx\u001b[49m\u001b[43m,\u001b[49m\u001b[43m \u001b[49m\u001b[43mcurrency\u001b[49m\u001b[38;5;241;43m=\u001b[39;49m\u001b[38;5;124;43m\"\u001b[39;49m\u001b[38;5;124;43mUSD\u001b[39;49m\u001b[38;5;124;43m\"\u001b[39;49m\u001b[43m,\u001b[49m\u001b[43m \u001b[49m\u001b[43mlocale\u001b[49m\u001b[38;5;241;43m=\u001b[39;49m\u001b[38;5;124;43m\"\u001b[39;49m\u001b[38;5;124;43men_US\u001b[39;49m\u001b[38;5;124;43m\"\u001b[39;49m\u001b[43m)\u001b[49m)\n\u001b[1;32m     61\u001b[0m \u001b[38;5;66;03m# Create sheets\u001b[39;00m\n\u001b[1;32m     62\u001b[0m df_2015 \u001b[38;5;241m=\u001b[39m pivot(m1\u001b[38;5;241m.\u001b[39mloc[m1[\u001b[38;5;124m\"\u001b[39m\u001b[38;5;124mAward Year\u001b[39m\u001b[38;5;124m\"\u001b[39m] \u001b[38;5;241m==\u001b[39m \u001b[38;5;241m2015\u001b[39m])\n",
      "File \u001b[0;32m/opt/conda/lib/python3.10/site-packages/babel/numbers.py:533\u001b[0m, in \u001b[0;36mformat_currency\u001b[0;34m(number, currency, format, locale, currency_digits, format_type, decimal_quantization, group_separator)\u001b[0m\n\u001b[1;32m    529\u001b[0m     \u001b[38;5;28;01mexcept\u001b[39;00m \u001b[38;5;167;01mKeyError\u001b[39;00m:\n\u001b[1;32m    530\u001b[0m         \u001b[38;5;28;01mraise\u001b[39;00m UnknownCurrencyFormatError(\n\u001b[1;32m    531\u001b[0m             \u001b[38;5;124m\"\u001b[39m\u001b[38;5;132;01m%r\u001b[39;00m\u001b[38;5;124m is not a known currency format type\u001b[39m\u001b[38;5;124m\"\u001b[39m \u001b[38;5;241m%\u001b[39m format_type)\n\u001b[0;32m--> 533\u001b[0m \u001b[38;5;28;01mreturn\u001b[39;00m \u001b[43mpattern\u001b[49m\u001b[38;5;241;43m.\u001b[39;49m\u001b[43mapply\u001b[49m\u001b[43m(\u001b[49m\n\u001b[1;32m    534\u001b[0m \u001b[43m    \u001b[49m\u001b[43mnumber\u001b[49m\u001b[43m,\u001b[49m\u001b[43m \u001b[49m\u001b[43mlocale\u001b[49m\u001b[43m,\u001b[49m\u001b[43m \u001b[49m\u001b[43mcurrency\u001b[49m\u001b[38;5;241;43m=\u001b[39;49m\u001b[43mcurrency\u001b[49m\u001b[43m,\u001b[49m\u001b[43m \u001b[49m\u001b[43mcurrency_digits\u001b[49m\u001b[38;5;241;43m=\u001b[39;49m\u001b[43mcurrency_digits\u001b[49m\u001b[43m,\u001b[49m\n\u001b[1;32m    535\u001b[0m \u001b[43m    \u001b[49m\u001b[43mdecimal_quantization\u001b[49m\u001b[38;5;241;43m=\u001b[39;49m\u001b[43mdecimal_quantization\u001b[49m\u001b[43m,\u001b[49m\u001b[43m \u001b[49m\u001b[43mgroup_separator\u001b[49m\u001b[38;5;241;43m=\u001b[39;49m\u001b[43mgroup_separator\u001b[49m\u001b[43m)\u001b[49m\n",
      "File \u001b[0;32m/opt/conda/lib/python3.10/site-packages/babel/numbers.py:966\u001b[0m, in \u001b[0;36mNumberPattern.apply\u001b[0;34m(self, value, locale, currency, currency_digits, decimal_quantization, force_frac, group_separator)\u001b[0m\n\u001b[1;32m    940\u001b[0m \u001b[38;5;124;03m\"\"\"Renders into a string a number following the defined pattern.\u001b[39;00m\n\u001b[1;32m    941\u001b[0m \n\u001b[1;32m    942\u001b[0m \u001b[38;5;124;03mForced decimal quantization is active by default so we'll produce a\u001b[39;00m\n\u001b[0;32m   (...)\u001b[0m\n\u001b[1;32m    963\u001b[0m \u001b[38;5;124;03m:rtype: str\u001b[39;00m\n\u001b[1;32m    964\u001b[0m \u001b[38;5;124;03m\"\"\"\u001b[39;00m\n\u001b[1;32m    965\u001b[0m \u001b[38;5;28;01mif\u001b[39;00m \u001b[38;5;129;01mnot\u001b[39;00m \u001b[38;5;28misinstance\u001b[39m(value, decimal\u001b[38;5;241m.\u001b[39mDecimal):\n\u001b[0;32m--> 966\u001b[0m     value \u001b[38;5;241m=\u001b[39m \u001b[43mdecimal\u001b[49m\u001b[38;5;241;43m.\u001b[39;49m\u001b[43mDecimal\u001b[49m\u001b[43m(\u001b[49m\u001b[38;5;28;43mstr\u001b[39;49m\u001b[43m(\u001b[49m\u001b[43mvalue\u001b[49m\u001b[43m)\u001b[49m\u001b[43m)\u001b[49m\n\u001b[1;32m    968\u001b[0m value \u001b[38;5;241m=\u001b[39m value\u001b[38;5;241m.\u001b[39mscaleb(\u001b[38;5;28mself\u001b[39m\u001b[38;5;241m.\u001b[39mscale)\n\u001b[1;32m    970\u001b[0m \u001b[38;5;66;03m# Separate the absolute value from its sign.\u001b[39;00m\n",
      "\u001b[0;31mInvalidOperation\u001b[0m: [<class 'decimal.ConversionSyntax'>]"
     ]
    }
   ],
   "source": [
    "test = program_allocation_plan()"
   ]
  },
  {
   "cell_type": "code",
   "execution_count": null,
   "id": "a6967858-7bc3-46a9-a76c-b253e39149a1",
   "metadata": {
    "scrolled": true,
    "tags": []
   },
   "outputs": [],
   "source": [
    "test.head(1)"
   ]
  }
 ],
 "metadata": {
  "kernelspec": {
   "display_name": "Python 3 (ipykernel)",
   "language": "python",
   "name": "python3"
  },
  "language_info": {
   "codemirror_mode": {
    "name": "ipython",
    "version": 3
   },
   "file_extension": ".py",
   "mimetype": "text/x-python",
   "name": "python",
   "nbconvert_exporter": "python",
   "pygments_lexer": "ipython3",
   "version": "3.10.4"
  }
 },
 "nbformat": 4,
 "nbformat_minor": 5
}
