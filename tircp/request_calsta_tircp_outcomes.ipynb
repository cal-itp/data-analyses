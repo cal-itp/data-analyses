{
 "cells": [
  {
   "cell_type": "markdown",
   "id": "83709b77-d340-42e6-bbc4-35d683947460",
   "metadata": {},
   "source": [
    "## TIRCP Calsta\n",
    "* California State Transportation Agency emailed a request asking for TIRCP outcomes for cycles 3-5.  \n",
    "* [Cycles 1-6](https://calsta.ca.gov/subject-areas/transit-intercity-rail-capital-prog)\n",
    "* Cycle 1: 2015\n",
    "* Cycle 2: 2016\n",
    "* Cycle 3: 2018\n",
    "* Cycle 4: 2020\n",
    "* Cycle 5: 2022\n",
    "* Cycle 6: 2023"
   ]
  },
  {
   "cell_type": "code",
   "execution_count": 1,
   "id": "de5e8978-cecf-44cf-9a92-e2282e3b2e61",
   "metadata": {
    "scrolled": true,
    "tags": []
   },
   "outputs": [
    {
     "name": "stderr",
     "output_type": "stream",
     "text": [
      "/opt/conda/lib/python3.9/site-packages/geopandas/_compat.py:123: UserWarning: The Shapely GEOS version (3.10.3-CAPI-1.16.1) is incompatible with the GEOS version PyGEOS was compiled with (3.10.1-CAPI-1.16.0). Conversions between both will be slow.\n",
      "  warnings.warn(\n"
     ]
    }
   ],
   "source": [
    "import A1_data_prep\n",
    "import A2_tableau\n",
    "import A6_zev\n",
    "import numpy as np\n",
    "import pandas as pd\n",
    "from babel.numbers import format_currency\n",
    "from calitp import *"
   ]
  },
  {
   "cell_type": "code",
   "execution_count": 2,
   "id": "b4635aa5-1ab6-4247-a1be-61d59f07c4ff",
   "metadata": {},
   "outputs": [],
   "source": [
    "pd.options.display.max_columns = 100\n",
    "pd.options.display.float_format = \"{:.2f}\".format\n",
    "pd.set_option(\"display.max_rows\", None)\n",
    "pd.set_option(\"display.max_colwidth\", None)"
   ]
  },
  {
   "cell_type": "code",
   "execution_count": 3,
   "id": "b8d3d0ef-e239-4aeb-9f18-2ec76a39b012",
   "metadata": {},
   "outputs": [],
   "source": [
    "# GCS File Path:\n",
    "GCS_FILE_PATH = \"gs://calitp-analytics-data/data-analyses/tircp/\""
   ]
  },
  {
   "cell_type": "markdown",
   "id": "a2036b3c-036e-4fe5-b83f-31070ef5ac6d",
   "metadata": {},
   "source": [
    "### Manipulate TIRCP\n",
    "#### Filter out for cycles of interest"
   ]
  },
  {
   "cell_type": "code",
   "execution_count": 4,
   "id": "3f1cf84c-abdf-4f9d-9ba3-c18dbb893e84",
   "metadata": {},
   "outputs": [
    {
     "name": "stderr",
     "output_type": "stream",
     "text": [
      "/opt/conda/lib/python3.9/site-packages/openpyxl/worksheet/_reader.py:312: UserWarning: Data Validation extension is not supported and will be removed\n"
     ]
    }
   ],
   "source": [
    "df_tircp = to_snakecase(A2_tableau.tableau_dashboard())"
   ]
  },
  {
   "cell_type": "code",
   "execution_count": 5,
   "id": "0ee8a7b6-d0b6-4f03-bb23-26ac63945f66",
   "metadata": {},
   "outputs": [],
   "source": [
    "# Drop irrelevant years. \n",
    "df_tircp2 = df_tircp.loc[df_tircp[\"award_year\"] >= 2018].reset_index(drop=True)"
   ]
  },
  {
   "cell_type": "code",
   "execution_count": 6,
   "id": "1b38e500-55e1-4ade-b680-6bb91442116d",
   "metadata": {},
   "outputs": [],
   "source": [
    "# Sort df by award year and number\n",
    "df_tircp2 = df_tircp2.sort_values([\"award_year\", \"#\"])"
   ]
  },
  {
   "cell_type": "code",
   "execution_count": 7,
   "id": "28a9b24b-6b71-403e-bafa-ce5136107ae6",
   "metadata": {},
   "outputs": [
    {
     "data": {
      "text/plain": [
       "(2018    28\n",
       " 2022    23\n",
       " 2020    17\n",
       " Name: award_year, dtype: int64,)"
      ]
     },
     "execution_count": 7,
     "metadata": {},
     "output_type": "execute_result"
    }
   ],
   "source": [
    "# Double check that the right cycles are selected. \n",
    "df_tircp2.award_year.value_counts(),"
   ]
  },
  {
   "cell_type": "code",
   "execution_count": 8,
   "id": "8cb50778-8663-4f81-bab3-bcd27eae8d6d",
   "metadata": {},
   "outputs": [
    {
     "data": {
      "text/plain": [
       "(66, 67, 68)"
      ]
     },
     "execution_count": 8,
     "metadata": {},
     "output_type": "execute_result"
    }
   ],
   "source": [
    "df_tircp2.ppno.nunique(), df_tircp2.title.nunique(), len(df_tircp2)"
   ]
  },
  {
   "cell_type": "markdown",
   "id": "60504aeb-bf21-4e31-bf09-d15e56d54dbb",
   "metadata": {},
   "source": [
    "#### Duplicate Project Title Fix"
   ]
  },
  {
   "cell_type": "code",
   "execution_count": 9,
   "id": "c966ae9c-7ef1-4df4-a12d-90b723d35f1a",
   "metadata": {},
   "outputs": [
    {
     "data": {
      "text/plain": [
       "North State Intercity Bus System                                                                    2\n",
       "Purchase Zero Emission High Capacity Buses to Support Transbay Tomorrow and Clean Corridors Plan    1\n",
       "Expansion of WETA Ferry Services                                                                    1\n",
       "South Bay Microtransit Expansion                                                                    1\n",
       "Sacramento Valley Station (SVS) Transit Center: Priority Project                                    1\n",
       "Name: title, dtype: int64"
      ]
     },
     "execution_count": 9,
     "metadata": {},
     "output_type": "execute_result"
    }
   ],
   "source": [
    "# Find duplicate project title \n",
    "df_tircp2.title.value_counts().head()"
   ]
  },
  {
   "cell_type": "code",
   "execution_count": 10,
   "id": "1aab4f4e-0cc2-4251-992f-7703cccb64e2",
   "metadata": {},
   "outputs": [],
   "source": [
    "# Create a detailed title column to avoid duplicates by combining  year,title, and recipient into one line.\n",
    "df_tircp2[\"award_year\"] = df_tircp2[\"award_year\"].astype(\"object\")"
   ]
  },
  {
   "cell_type": "code",
   "execution_count": 11,
   "id": "c6910708-5351-42da-a856-577d4af48056",
   "metadata": {},
   "outputs": [],
   "source": [
    "# https://stackoverflow.com/questions/39291499/how-to-concatenate-multiple-column-values-into-a-single-column-in-pandas-datafra'\n",
    "detailed_title_cols = [\n",
    "    \"award_year\",\n",
    "    \"title\",\n",
    "    \"grant_recipient\",\n",
    "]"
   ]
  },
  {
   "cell_type": "code",
   "execution_count": 12,
   "id": "9ec6fc48-194a-4f4d-aba8-b185785922e7",
   "metadata": {},
   "outputs": [],
   "source": [
    "\n",
    "df_tircp2[\"detailed_title_col\"] = df_tircp2[detailed_title_cols].apply(\n",
    "    lambda row: \"-\".join(row.values.astype(str)), axis=1\n",
    ")"
   ]
  },
  {
   "cell_type": "code",
   "execution_count": 13,
   "id": "3c84423f-de4a-4b6e-8aa1-d04814ba1861",
   "metadata": {},
   "outputs": [
    {
     "data": {
      "text/plain": [
       "Index(['award_year', '#', 'grant_recipient', 'title', 'ppno', 'district',\n",
       "       'county', 'description', 'master_agreement_number',\n",
       "       'master_agreement_expiration_date', 'manager', 'regional_coordinator',\n",
       "       'technical_assistance_calitp__y_n', 'technical_assistance_fleet__y_n',\n",
       "       'technical_assistance_network_integration__y_n',\n",
       "       'technical_assistance_priority_population__y_n', 'total__cost', 'tircp',\n",
       "       'allocated_amount', 'unallocated_amount', 'percentage_allocated',\n",
       "       'expended_amount', 'other_funds_involved', 'award_cycle', 'is_sb1?',\n",
       "       'is_ggrf?', 'is_iija?', 'on_shs?', 'calitp',\n",
       "       'estimated_tircp_ghg_reductions', 'estimated_tircp_ghg_reductions2',\n",
       "       'increased_ridership', 'service_integration', 'improve_safety',\n",
       "       'readiness', 'funding_leverage',\n",
       "       'multi_agency_coordination_integration', 'ab_1550_community_benefits',\n",
       "       'housing_co_benefits', 'local_agency_address', 'local_agency_city',\n",
       "       'local_agency_zip', 'local_agency_contact', 'local_agency_email',\n",
       "       'local_agency_phone_number', 'comments_additional_contacts',\n",
       "       'expended_percent', 'allocated_percent', 'unallocated_amount',\n",
       "       'projects_funded_percent', 'expended_percent_group', 'progress',\n",
       "       'project_size', 'detailed_title_col'],\n",
       "      dtype='object')"
      ]
     },
     "execution_count": 13,
     "metadata": {},
     "output_type": "execute_result"
    }
   ],
   "source": [
    "df_tircp2.columns"
   ]
  },
  {
   "cell_type": "code",
   "execution_count": 14,
   "id": "bddb096a-b88b-4934-be26-f9dccb3a41a7",
   "metadata": {},
   "outputs": [],
   "source": [
    "# Subset df to columns of interest\n",
    "df_tircp2 = df_tircp2[\n",
    "    [\n",
    "        \"award_year\",\n",
    "        \"#\",\n",
    "        \"ppno\",\n",
    "        \"tircp\",\n",
    "        \"title\",\n",
    "        \"detailed_title_col\",\n",
    "        \"grant_recipient\",\n",
    "        \"district\",\n",
    "        \"county\",\n",
    "        \"description\",\n",
    "        \"total__cost\",\n",
    "        \"estimated_tircp_ghg_reductions\",\n",
    "        \"increased_ridership\",\n",
    "        \"service_integration\",\n",
    "        \"improve_safety\",\n",
    "    ]\n",
    "]"
   ]
  },
  {
   "cell_type": "markdown",
   "id": "82c3d930-d76e-473f-994b-af6343b3a72f",
   "metadata": {},
   "source": [
    "#### Add Project Number\n",
    "* Year + Number"
   ]
  },
  {
   "cell_type": "code",
   "execution_count": 15,
   "id": "aefa1eb2-52ac-492a-af9e-8c67eafdcc0e",
   "metadata": {},
   "outputs": [],
   "source": [
    "df_tircp2[\"project_number_use\"] = (\n",
    "    df_tircp2[\"award_year\"].astype(str) + \"-\" + df_tircp2[\"#\"].astype(str)\n",
    ")"
   ]
  },
  {
   "cell_type": "code",
   "execution_count": 16,
   "id": "bc5a49cb-22c1-4d9f-b01d-0f25486fc1ae",
   "metadata": {
    "scrolled": true,
    "tags": []
   },
   "outputs": [],
   "source": [
    "# df_tircp2[[\"project_number_use\",\"award_year\",\"#\",\"title\"]]"
   ]
  },
  {
   "cell_type": "markdown",
   "id": "b4e66999-8036-471d-ab74-5984c8475a83",
   "metadata": {},
   "source": [
    "### Recreate SCCP's output example with TIRCP data.\n",
    "Columns to include: \n",
    "\n",
    "> Project ID\tProject Name\tImplementing Agency\tProgram\tProject Description\t Total Cost \t SB 1 Funds \tFiscal Year\tIs SB 1?\tProject Status\tAssembly Districts\tSenate Districts\tCounties\tCities\tCaltrans Districts\tIs on SHS?\tDate Updated\tCycle\n"
   ]
  },
  {
   "cell_type": "markdown",
   "id": "3b879517-c819-4ade-8d43-b35de82dd01e",
   "metadata": {},
   "source": [
    "#### GIS Template \n",
    "* Although Linda provided me with more updated/complete GIS information directly from the Tracking Sheet 2.0, using this to glean project statuses. "
   ]
  },
  {
   "cell_type": "code",
   "execution_count": 17,
   "id": "2d4bb751-a9d1-4cd5-a78d-017665955f8f",
   "metadata": {},
   "outputs": [],
   "source": [
    "# Read in sheet with Assembly info.\n",
    "gis = to_snakecase(\n",
    "    pd.read_excel(\n",
    "        f\"{GCS_FILE_PATH}TIRCP_GIS_Template_Requirements 6-1-2022.xlsx\",\n",
    "        sheet_name=\"Projects Table\",\n",
    "    )\n",
    ")"
   ]
  },
  {
   "cell_type": "code",
   "execution_count": 18,
   "id": "03079759-2216-4223-892b-913e0cab4ccb",
   "metadata": {},
   "outputs": [],
   "source": [
    "# Clean some column names\n",
    "gis = gis.rename(\n",
    "    columns={\n",
    "        \"ppno_\": \"ppno\",\n",
    "    }\n",
    ")"
   ]
  },
  {
   "cell_type": "code",
   "execution_count": 19,
   "id": "cfd913d7-31d6-4699-b36d-37f27f9b036f",
   "metadata": {},
   "outputs": [],
   "source": [
    "# Clean PPNO\n",
    "gis = A1_data_prep.ppno_slice(gis)"
   ]
  },
  {
   "cell_type": "code",
   "execution_count": 20,
   "id": "782fd272-ebd4-4a5e-9aa5-8ebc095ea2de",
   "metadata": {},
   "outputs": [],
   "source": [
    "# Subset for only cols of interest\n",
    "gis2 = gis[\n",
    "    [\n",
    "        \"project_number\",\n",
    "        \"ppno\",\n",
    "        \"projecttitle\",\n",
    "        \"projectstatus\",\n",
    "    ]\n",
    "]"
   ]
  },
  {
   "cell_type": "code",
   "execution_count": 21,
   "id": "95c3cc2b-7414-439b-a126-16dc7ae2c988",
   "metadata": {},
   "outputs": [
    {
     "data": {
      "text/plain": [
       "45"
      ]
     },
     "execution_count": 21,
     "metadata": {},
     "output_type": "execute_result"
    }
   ],
   "source": [
    "gis2.ppno.nunique()"
   ]
  },
  {
   "cell_type": "code",
   "execution_count": 22,
   "id": "c4b23719-022b-424b-8b05-b88cd452cdf3",
   "metadata": {},
   "outputs": [
    {
     "data": {
      "text/plain": [
       "CP033    60\n",
       "CP035    21\n",
       "CP042    18\n",
       "CP032    14\n",
       "CP031    11\n",
       "Name: ppno, dtype: int64"
      ]
     },
     "execution_count": 22,
     "metadata": {},
     "output_type": "execute_result"
    }
   ],
   "source": [
    "# There are mulitple entries for each ppno.\n",
    "gis2.ppno.value_counts().head()"
   ]
  },
  {
   "cell_type": "code",
   "execution_count": 23,
   "id": "f7345aed-44b4-4982-b687-b1c1e9e15169",
   "metadata": {},
   "outputs": [
    {
     "name": "stderr",
     "output_type": "stream",
     "text": [
      "/opt/conda/lib/python3.9/site-packages/pandas/core/indexing.py:1732: SettingWithCopyWarning: \n",
      "A value is trying to be set on a copy of a slice from a DataFrame\n",
      "\n",
      "See the caveats in the documentation: https://pandas.pydata.org/pandas-docs/stable/user_guide/indexing.html#returning-a-view-versus-a-copy\n",
      "/opt/conda/lib/python3.9/site-packages/pandas/core/indexing.py:723: SettingWithCopyWarning: \n",
      "A value is trying to be set on a copy of a slice from a DataFrame\n",
      "\n",
      "See the caveats in the documentation: https://pandas.pydata.org/pandas-docs/stable/user_guide/indexing.html#returning-a-view-versus-a-copy\n"
     ]
    }
   ],
   "source": [
    "# Inglewood Transit Center coded as CP063, should be CP062 per TIRCP Tracking sheet.\n",
    "gis2.loc[\n",
    "    (gis2[\"projecttitle\"] == \"Inglewood Transit Center (2020:04)\"), \"ppno\"\n",
    "] = \"CP062\""
   ]
  },
  {
   "cell_type": "code",
   "execution_count": 24,
   "id": "600bbdad-c63a-452f-a930-0087430f2fb8",
   "metadata": {},
   "outputs": [],
   "source": [
    "# North State Intercity Bus System coded as CP063 per TIRCP Tracking sheet.\n",
    "gis2.loc[\n",
    "    (\n",
    "        gis2[\"projecttitle\"]\n",
    "        == \"North State Intercity Bus System-Lake County Interregional Transit Center (2020:05)\"\n",
    "    ),\n",
    "    \"ppno\",\n",
    "] = \"CP063\""
   ]
  },
  {
   "cell_type": "code",
   "execution_count": 25,
   "id": "ba6f3b63-1dd6-4667-ac92-50cfaec8847e",
   "metadata": {},
   "outputs": [
    {
     "name": "stderr",
     "output_type": "stream",
     "text": [
      "/tmp/ipykernel_1509/1194175043.py:2: SettingWithCopyWarning: \n",
      "A value is trying to be set on a copy of a slice from a DataFrame.\n",
      "Try using .loc[row_indexer,col_indexer] = value instead\n",
      "\n",
      "See the caveats in the documentation: https://pandas.pydata.org/pandas-docs/stable/user_guide/indexing.html#returning-a-view-versus-a-copy\n"
     ]
    }
   ],
   "source": [
    "# Clean project_number, only keep year\n",
    "gis2[\"project_number\"] = gis2[\"project_number\"].str.split(\":\").str[0]"
   ]
  },
  {
   "cell_type": "code",
   "execution_count": 26,
   "id": "80fd92f1-9dab-4521-9ef7-f4237e49dbc2",
   "metadata": {},
   "outputs": [
    {
     "name": "stderr",
     "output_type": "stream",
     "text": [
      "/tmp/ipykernel_1509/511736485.py:1: SettingWithCopyWarning: \n",
      "A value is trying to be set on a copy of a slice from a DataFrame.\n",
      "Try using .loc[row_indexer,col_indexer] = value instead\n",
      "\n",
      "See the caveats in the documentation: https://pandas.pydata.org/pandas-docs/stable/user_guide/indexing.html#returning-a-view-versus-a-copy\n"
     ]
    }
   ],
   "source": [
    "gis2[\"project_number\"] = gis2[\"project_number\"].fillna(0).astype(\"int64\")"
   ]
  },
  {
   "cell_type": "code",
   "execution_count": 27,
   "id": "e8a7f578-2469-41a9-accc-4c7be34bbf3f",
   "metadata": {},
   "outputs": [],
   "source": [
    "project_status_gis = A6_zev.summarize_rows(gis2, \"ppno\", \"projectstatus\")"
   ]
  },
  {
   "cell_type": "code",
   "execution_count": 28,
   "id": "449472ef-aa25-469d-88af-226eebca7c34",
   "metadata": {},
   "outputs": [
    {
     "data": {
      "text/plain": [
       "True"
      ]
     },
     "execution_count": 28,
     "metadata": {},
     "output_type": "execute_result"
    }
   ],
   "source": [
    "# Check that each row matches the number of unique ppno\n",
    "len(project_status_gis) == gis2.ppno.nunique()"
   ]
  },
  {
   "cell_type": "code",
   "execution_count": 29,
   "id": "8b22a60e-b033-4b4b-8485-c26426f3edd6",
   "metadata": {},
   "outputs": [],
   "source": [
    "# Drop old project status from original dataframe\n",
    "gis2 = gis2.drop(columns=[\"projectstatus\"])"
   ]
  },
  {
   "cell_type": "code",
   "execution_count": 30,
   "id": "770cc59d-4aaf-4bbc-8519-21fabf0f3245",
   "metadata": {
    "scrolled": true,
    "tags": []
   },
   "outputs": [],
   "source": [
    "# Merge with original gis, so there is only one row for each PPNO\n",
    "final_gis_template = (\n",
    "    pd.merge(project_status_gis, gis2, how=\"left\", on=[\"ppno\"])\n",
    "    .drop_duplicates(\"ppno\")\n",
    "    .reset_index(drop=True)\n",
    ")"
   ]
  },
  {
   "cell_type": "code",
   "execution_count": 31,
   "id": "9e927fc6-816f-41f1-91fa-52e162f837df",
   "metadata": {},
   "outputs": [
    {
     "data": {
      "text/plain": [
       "(45, 45, 45)"
      ]
     },
     "execution_count": 31,
     "metadata": {},
     "output_type": "execute_result"
    }
   ],
   "source": [
    "# Checks\n",
    "len(final_gis_template), final_gis_template.ppno.nunique(), gis.ppno.nunique()"
   ]
  },
  {
   "cell_type": "markdown",
   "id": "3edc5b66-0af2-41c5-b89d-70c611ce3319",
   "metadata": {},
   "source": [
    "##### Merge GIS information "
   ]
  },
  {
   "cell_type": "code",
   "execution_count": 32,
   "id": "0fb3c660-78cb-4015-8ce2-2af5f6bb9201",
   "metadata": {},
   "outputs": [],
   "source": [
    "# Merge with df_tircp2\n",
    "merge1 = pd.merge(\n",
    "    df_tircp2,\n",
    "    final_gis_template,\n",
    "    how=\"left\",\n",
    "    left_on=[\"ppno\", \"award_year\"],\n",
    "    right_on=[\"ppno\", \"project_number\"],\n",
    "    indicator=True,\n",
    ")"
   ]
  },
  {
   "cell_type": "code",
   "execution_count": 33,
   "id": "719bfacf-d26b-4903-906f-34c614128c51",
   "metadata": {},
   "outputs": [
    {
     "data": {
      "text/plain": [
       "both          43\n",
       "left_only     25\n",
       "right_only     0\n",
       "Name: _merge, dtype: int64"
      ]
     },
     "execution_count": 33,
     "metadata": {},
     "output_type": "execute_result"
    }
   ],
   "source": [
    "merge1._merge.value_counts()"
   ]
  },
  {
   "cell_type": "code",
   "execution_count": 34,
   "id": "13deefae-6395-4969-a12c-2a6859d29d66",
   "metadata": {
    "tags": []
   },
   "outputs": [
    {
     "data": {
      "text/html": [
       "<div>\n",
       "<style scoped>\n",
       "    .dataframe tbody tr th:only-of-type {\n",
       "        vertical-align: middle;\n",
       "    }\n",
       "\n",
       "    .dataframe tbody tr th {\n",
       "        vertical-align: top;\n",
       "    }\n",
       "\n",
       "    .dataframe thead th {\n",
       "        text-align: right;\n",
       "    }\n",
       "</style>\n",
       "<table border=\"1\" class=\"dataframe\">\n",
       "  <thead>\n",
       "    <tr style=\"text-align: right;\">\n",
       "      <th></th>\n",
       "      <th>title</th>\n",
       "      <th>projecttitle</th>\n",
       "      <th>projectstatus</th>\n",
       "    </tr>\n",
       "  </thead>\n",
       "  <tbody>\n",
       "    <tr>\n",
       "      <th>53</th>\n",
       "      <td>City of Wasco Improving Air Quality and Economic Growth with Bus Electrification</td>\n",
       "      <td>NaN</td>\n",
       "      <td>NaN</td>\n",
       "    </tr>\n",
       "    <tr>\n",
       "      <th>37</th>\n",
       "      <td>West Valley Connector Bus Rapid Transit Phase 1 &amp; ZEB Initiative</td>\n",
       "      <td>West Valley Connector Bus Rapid Transit Phase 1 &amp; Zero Emission Bus Initiative (2020:10)</td>\n",
       "      <td>Ops./Procure</td>\n",
       "    </tr>\n",
       "  </tbody>\n",
       "</table>\n",
       "</div>"
      ],
      "text/plain": [
       "                                                                               title  \\\n",
       "53  City of Wasco Improving Air Quality and Economic Growth with Bus Electrification   \n",
       "37                  West Valley Connector Bus Rapid Transit Phase 1 & ZEB Initiative   \n",
       "\n",
       "                                                                                projecttitle  \\\n",
       "53                                                                                       NaN   \n",
       "37  West Valley Connector Bus Rapid Transit Phase 1 & Zero Emission Bus Initiative (2020:10)   \n",
       "\n",
       "   projectstatus  \n",
       "53           NaN  \n",
       "37  Ops./Procure  "
      ]
     },
     "execution_count": 34,
     "metadata": {},
     "output_type": "execute_result"
    }
   ],
   "source": [
    "# Double Check that titles & years correspond with one another\n",
    "merge1[[\"title\", \"projecttitle\",\"projectstatus\"]].sample(2)"
   ]
  },
  {
   "cell_type": "code",
   "execution_count": 35,
   "id": "648c5d87-e732-4dfa-b205-e515b2ff5377",
   "metadata": {},
   "outputs": [],
   "source": [
    "# Drop merge & GIS Template projects\n",
    "merge1 = merge1.drop(columns=[\"_merge\", \"projecttitle\"])"
   ]
  },
  {
   "cell_type": "markdown",
   "id": "3df058a4-9dcf-4a4e-b262-37ee210d4dbc",
   "metadata": {},
   "source": [
    "#### GIS Info from Tracking Sheet 2.0 "
   ]
  },
  {
   "cell_type": "code",
   "execution_count": 36,
   "id": "19228468-3b4a-47ee-a6b7-73ac90a8e3eb",
   "metadata": {},
   "outputs": [],
   "source": [
    "gis_tracking_sheet = to_snakecase(\n",
    "    pd.read_excel(f\"{GCS_FILE_PATH}{A1_data_prep.FILE_NAME }\", sheet_name=\"GIS Info\")\n",
    ")"
   ]
  },
  {
   "cell_type": "code",
   "execution_count": 37,
   "id": "6c403d42-f5aa-4ec5-85e5-3bcad2c782b8",
   "metadata": {},
   "outputs": [],
   "source": [
    "# Drop certain cols\n",
    "gis_tracking_sheet = gis_tracking_sheet[\n",
    "    [\n",
    "        \"award_year\",\n",
    "        \"project_title\",\n",
    "        \"caltransdistrict\",\n",
    "        \"assembly\\ndistricts\",\n",
    "        \"senate\\ndistricts\",\n",
    "        \"city_code\",\n",
    "        \"county_code\",\n",
    "        \"_implementing_agency__id_\",\n",
    "    ]\n",
    "]"
   ]
  },
  {
   "cell_type": "code",
   "execution_count": 38,
   "id": "b98eaaf8-ea45-46e0-bf90-44af0a91efdd",
   "metadata": {},
   "outputs": [],
   "source": [
    "# Only keep the years wanted\n",
    "gis_tracking_sheet2 = gis_tracking_sheet.loc[\n",
    "    gis_tracking_sheet[\"award_year\"] >= 2018\n",
    "].reset_index(drop=True)"
   ]
  },
  {
   "cell_type": "code",
   "execution_count": 39,
   "id": "b126e30f-c32a-4a07-865f-40c74530c033",
   "metadata": {},
   "outputs": [],
   "source": [
    "# Merge with df_tircp2\n",
    "merge2 = pd.merge(\n",
    "    merge1,\n",
    "    gis_tracking_sheet2,\n",
    "    how=\"left\",\n",
    "    left_on=[\"award_year\", \"title\"],\n",
    "    right_on=[\"award_year\", \"project_title\"],\n",
    "    indicator=True,\n",
    ")"
   ]
  },
  {
   "cell_type": "code",
   "execution_count": 40,
   "id": "4180d179-6295-4ccb-8297-aae6f20f66c2",
   "metadata": {},
   "outputs": [
    {
     "data": {
      "text/plain": [
       "both          67\n",
       "left_only      1\n",
       "right_only     0\n",
       "Name: _merge, dtype: int64"
      ]
     },
     "execution_count": 40,
     "metadata": {},
     "output_type": "execute_result"
    }
   ],
   "source": [
    "# Merge\n",
    "merge2._merge.value_counts()"
   ]
  },
  {
   "cell_type": "code",
   "execution_count": 41,
   "id": "0395b4d3-eeb3-4e7b-87b1-cb49e65f617c",
   "metadata": {},
   "outputs": [
    {
     "data": {
      "text/plain": [
       "((68, 26), (68, 16))"
      ]
     },
     "execution_count": 41,
     "metadata": {},
     "output_type": "execute_result"
    }
   ],
   "source": [
    "merge2.shape, df_tircp2.shape"
   ]
  },
  {
   "cell_type": "code",
   "execution_count": 42,
   "id": "d5ec88f0-6c7c-4d65-9e5a-5b4f2e952bfe",
   "metadata": {
    "tags": []
   },
   "outputs": [],
   "source": [
    "merge2 = merge2.drop(\n",
    "    columns=[\"project_number\", \"project_title\", \"_merge\"]\n",
    ")"
   ]
  },
  {
   "cell_type": "markdown",
   "id": "59a7191b-12cc-43c9-ac27-2c31e7198722",
   "metadata": {},
   "source": [
    "### Project Sheet \n",
    "* Recreating \"projects\" tab of SCCP Excel workbook. "
   ]
  },
  {
   "cell_type": "code",
   "execution_count": 43,
   "id": "9782911e-0bd3-458f-9e41-a6924fdd6495",
   "metadata": {},
   "outputs": [],
   "source": [
    "# Copy merge 2\n",
    "projects = merge2.copy()"
   ]
  },
  {
   "cell_type": "code",
   "execution_count": 44,
   "id": "74207fb1-4d58-4222-9425-24ef2063e93c",
   "metadata": {},
   "outputs": [],
   "source": [
    "# Fill in empty values with NA\n",
    "projects = projects.fillna(\n",
    "    projects.dtypes.replace({\"float64\": 0.0, \"object\": \"None\", \"int64\": 0})\n",
    ")"
   ]
  },
  {
   "cell_type": "code",
   "execution_count": 45,
   "id": "153ffc6e-f51f-4ef6-9370-2a4ac1f58eda",
   "metadata": {},
   "outputs": [],
   "source": [
    "# Format moentary cols\n",
    "monetary_cols = [\"total__cost\", \"tircp\"]\n",
    "for i in monetary_cols:\n",
    "    projects[i] = projects[i].apply(\n",
    "        lambda x: format_currency(x, currency=\"USD\", locale=\"en_US\")\n",
    "    )"
   ]
  },
  {
   "cell_type": "code",
   "execution_count": 46,
   "id": "ffdb4025-cd25-4ca2-8f8c-a21b2445489d",
   "metadata": {
    "scrolled": true,
    "tags": []
   },
   "outputs": [],
   "source": [
    "# Clean up column names \n",
    "projects = A1_data_prep.clean_up_columns(projects)"
   ]
  },
  {
   "cell_type": "code",
   "execution_count": 47,
   "id": "df868b3d-1da8-4391-87d9-57dc3c693ac1",
   "metadata": {},
   "outputs": [],
   "source": [
    "projects = projects.rename(\n",
    "    columns={\n",
    "        \"Number Use\": \"Project Number\",\n",
    "        \"Assembly\\nDistricts\": \"Assembly Districts\",\n",
    "        \"Senate\\nDistricts\": \"Senate Districts\",\n",
    "        \"Caltransdistrict\": \"CT Districts\",\n",
    "        \"Assembly\\nDistricts\": \"Assembly Districts\",\n",
    "    }\n",
    ")"
   ]
  },
  {
   "cell_type": "code",
   "execution_count": 48,
   "id": "abdeb33c-a2b7-4147-a465-03c79adf0a0c",
   "metadata": {},
   "outputs": [],
   "source": [
    "# Rearrange columns\n",
    "right_order = [\n",
    "    \"Award Year\",\n",
    "    \"#\",\n",
    "    \"Project Number\",\n",
    "    \"Ppno\",\n",
    "    \"Title\",\n",
    "    \"Grant Recipient\",\n",
    "    \"Tircp\",\n",
    "    \"Total  Cost\",\n",
    "    \"Description\",\n",
    "    \"District\",\n",
    "    \"County\",\n",
    "    \"Status\",\n",
    "    \"CT Districts\",\n",
    "    \"Assembly Districts\",\n",
    "    \"Senate Districts\",\n",
    "    \"City Code\",\n",
    "    \"County Code\",\n",
    "    \"Implementing Agency  Id\",\n",
    "]"
   ]
  },
  {
   "cell_type": "code",
   "execution_count": 49,
   "id": "ce1d08fa-0a92-46dc-9380-ea4cb9900eed",
   "metadata": {},
   "outputs": [],
   "source": [
    "projects = projects[right_order]"
   ]
  },
  {
   "cell_type": "markdown",
   "id": "8743ed0b-a9ca-42d7-a0c9-62bb52455466",
   "metadata": {},
   "source": [
    "### Outcomes Sheet"
   ]
  },
  {
   "cell_type": "code",
   "execution_count": 50,
   "id": "e3a27b70-c744-4043-be47-ed9eb6637f41",
   "metadata": {},
   "outputs": [],
   "source": [
    "# Measure columns\n",
    "measure_cols = [\n",
    "    \"estimated_tircp_ghg_reductions\",\n",
    "    \"cost_per_ghg_ton_reduced\",\n",
    "    \"increased_ridership\",\n",
    "    \"service_integration\",\n",
    "    \"improve_safety\",\n",
    "]"
   ]
  },
  {
   "cell_type": "code",
   "execution_count": 51,
   "id": "8b7a831b-5689-4942-bda8-d6673d13a07e",
   "metadata": {},
   "outputs": [],
   "source": [
    "# Turn estimated GHG reductions into a number\n",
    "merge2[\"estimated_tircp_ghg_reductions\"] = (\n",
    "    merge2[\"estimated_tircp_ghg_reductions\"]\n",
    "    .str.replace(\"MTCO2e\", \"\")\n",
    "    .str.replace(\"None\", \"\")\n",
    "    .str.replace(\",\", \"\")\n",
    ")"
   ]
  },
  {
   "cell_type": "code",
   "execution_count": 52,
   "id": "0b035ed5-177a-4ab8-8e6c-7beb666c8ab6",
   "metadata": {},
   "outputs": [],
   "source": [
    "merge2[\"estimated_tircp_ghg_reductions\"] = (\n",
    "    merge2[\"estimated_tircp_ghg_reductions\"]\n",
    "    .apply(pd.to_numeric, errors=\"coerce\")\n",
    "    .fillna(0)\n",
    ")"
   ]
  },
  {
   "cell_type": "code",
   "execution_count": 53,
   "id": "ce540d07-dc7a-44d7-b21a-cfcaaa4ec43b",
   "metadata": {},
   "outputs": [],
   "source": [
    "# Subset to cols similar to SCCP\n",
    "outcomes = merge2[\n",
    "    [\n",
    "        \"award_year\",\n",
    "        'detailed_title_col',\n",
    "        \"estimated_tircp_ghg_reductions\",\n",
    "        \"increased_ridership\",\n",
    "        \"service_integration\",\n",
    "        \"improve_safety\",\n",
    "    ]\n",
    "].sort_values([\"award_year\", 'detailed_title_col',])"
   ]
  },
  {
   "cell_type": "code",
   "execution_count": 54,
   "id": "bbe4441b-ccc2-4ad7-a0f2-3f6c6335a456",
   "metadata": {},
   "outputs": [],
   "source": [
    "outcomes = A1_data_prep.clean_up_columns(outcomes)"
   ]
  },
  {
   "cell_type": "code",
   "execution_count": 55,
   "id": "bb663842-66d4-4724-8138-c2be025ddf6b",
   "metadata": {},
   "outputs": [
    {
     "data": {
      "text/html": [
       "<div>\n",
       "<style scoped>\n",
       "    .dataframe tbody tr th:only-of-type {\n",
       "        vertical-align: middle;\n",
       "    }\n",
       "\n",
       "    .dataframe tbody tr th {\n",
       "        vertical-align: top;\n",
       "    }\n",
       "\n",
       "    .dataframe thead th {\n",
       "        text-align: right;\n",
       "    }\n",
       "</style>\n",
       "<table border=\"1\" class=\"dataframe\">\n",
       "  <thead>\n",
       "    <tr style=\"text-align: right;\">\n",
       "      <th></th>\n",
       "      <th>Award Year</th>\n",
       "      <th>Detailed Title Col</th>\n",
       "      <th>Estimated Tircp Ghg Reductions</th>\n",
       "      <th>Increased Ridership</th>\n",
       "      <th>Service Integration</th>\n",
       "      <th>Improve Safety</th>\n",
       "    </tr>\n",
       "  </thead>\n",
       "  <tbody>\n",
       "    <tr>\n",
       "      <th>1</th>\n",
       "      <td>2018</td>\n",
       "      <td>2018-#Electrify Anaheim: Changing the Transit Paradigm in Southern California-Anaheim Transportation Network</td>\n",
       "      <td>61000.00</td>\n",
       "      <td>Medium-High</td>\n",
       "      <td>Medium-High</td>\n",
       "      <td>Medium</td>\n",
       "    </tr>\n",
       "  </tbody>\n",
       "</table>\n",
       "</div>"
      ],
      "text/plain": [
       "  Award Year  \\\n",
       "1       2018   \n",
       "\n",
       "                                                                                             Detailed Title Col  \\\n",
       "1  2018-#Electrify Anaheim: Changing the Transit Paradigm in Southern California-Anaheim Transportation Network   \n",
       "\n",
       "   Estimated Tircp Ghg Reductions Increased Ridership Service Integration  \\\n",
       "1                        61000.00         Medium-High         Medium-High   \n",
       "\n",
       "  Improve Safety  \n",
       "1         Medium  "
      ]
     },
     "execution_count": 55,
     "metadata": {},
     "output_type": "execute_result"
    }
   ],
   "source": [
    "outcomes.head(1)"
   ]
  },
  {
   "cell_type": "markdown",
   "id": "1474d69c-d7c3-40cb-8178-ec3c78c6d8ee",
   "metadata": {},
   "source": [
    "##### Version 1"
   ]
  },
  {
   "cell_type": "code",
   "execution_count": 56,
   "id": "bdbe0a48-42aa-4a1d-b018-3d8497384ca6",
   "metadata": {},
   "outputs": [],
   "source": [
    "# Drop award year\n",
    "outcomes_transformed = outcomes.drop(columns=[\"Award Year\"]).T"
   ]
  },
  {
   "cell_type": "code",
   "execution_count": 57,
   "id": "58c09afa-f3d7-428c-9791-1de3582fc381",
   "metadata": {},
   "outputs": [],
   "source": [
    "# Make first row to column names\n",
    "outcomes_transformed.columns = outcomes_transformed.iloc[0]"
   ]
  },
  {
   "cell_type": "code",
   "execution_count": 58,
   "id": "f175b3b8-7992-4c49-ad23-18c8ac60f29e",
   "metadata": {},
   "outputs": [],
   "source": [
    "# Del first row\n",
    "outcomes_transformed = outcomes_transformed.iloc[1:]"
   ]
  },
  {
   "cell_type": "code",
   "execution_count": 59,
   "id": "9631e9a2-87af-454b-abc3-d2f1b9dcdd5f",
   "metadata": {},
   "outputs": [
    {
     "data": {
      "text/html": [
       "<div>\n",
       "<style scoped>\n",
       "    .dataframe tbody tr th:only-of-type {\n",
       "        vertical-align: middle;\n",
       "    }\n",
       "\n",
       "    .dataframe tbody tr th {\n",
       "        vertical-align: top;\n",
       "    }\n",
       "\n",
       "    .dataframe thead th {\n",
       "        text-align: right;\n",
       "    }\n",
       "</style>\n",
       "<table border=\"1\" class=\"dataframe\">\n",
       "  <thead>\n",
       "    <tr style=\"text-align: right;\">\n",
       "      <th>Detailed Title Col</th>\n",
       "      <th>2018-#Electrify Anaheim: Changing the Transit Paradigm in Southern California-Anaheim Transportation Network</th>\n",
       "      <th>2018-Accelerating Rail Modernization and Expansion in the Capital Region-Sacramento Regional Transit District</th>\n",
       "      <th>2018-All Aboard 2018: Transforming SoCal Rail Travel-Los Angeles-San Diego-San Luis Obispo Rail Corridor Agency</th>\n",
       "      <th>2018-Blue Line Rail Corridor Transit Enhancements-San Diego Metropolitan Transit System</th>\n",
       "      <th>2018-Building Up: LOSSAN North Improvement Program-Los Angeles-San Diego-San Luis Obispo Rail Corridor Agency</th>\n",
       "      <th>2018-Coastal Express/Pacific Surfliner Peak Hour Service Expansion and Integration Project-Santa Barbara County Association Of Governments</th>\n",
       "      <th>2018-Diesel Multiple Unit Vehicle to Zero- or Low-Emission Vehicle Conversion and West Valley Connector Bus Rapid Transit-San Bernardino County Transportation Authority</th>\n",
       "      <th>2018-Dublin/Pleasanton Capacity Improvement and Congestion Reduction Program-Livermore Amador Valley Transit Authority</th>\n",
       "      <th>2018-Electric Blue: Electrification of City of Santa Monica's Big Blue Bus-City Of Santa Monica</th>\n",
       "      <th>2018-Extend rail service to Monterey County-Transportation Agency For Monterey County</th>\n",
       "      <th>2018-From the Desert to the Sea: Antelope Valley Transit Authority and Long Beach Transit Zero Emission Bus Initiative-Antelope Valley Transit Authority</th>\n",
       "      <th>2018-Goleta Train Depot-Santa Barbara County Association Of Governments</th>\n",
       "      <th>2018-Los Angeles City: Leading the Transformation to Zero-Emission Electric Bus Transit Service-City Of Los Angeles</th>\n",
       "      <th>2018-Los Angeles Region Transit System Integration and Modernization Program of Projects-Los Angeles County Metropolitan Transportation Authority</th>\n",
       "      <th>2018-North State Intercity Bus System-Shasta Regional Transportation Agency</th>\n",
       "      <th>2018-Peninsula Corridor Electrification Expansion Project-Peninsula Corridor Joint Powers Board</th>\n",
       "      <th>2018-Purchase Zero Emission High Capacity Buses to Support Transbay Tomorrow and Clean Corridors Plan-Alameda Contra Costa Transit District</th>\n",
       "      <th>2018-Ride Between the Line: Enhancing Access to Transit in San Diego-San Diego Association Of Governments</th>\n",
       "      <th>2018-SMART Larkspur to Windsor Corridor-Sonoma-Marin Area Rail Transit District</th>\n",
       "      <th>2018-SamTrans Express Bus Pilot-San Mateo County Transit District</th>\n",
       "      <th>2018-Solano Regional Transit Improvements-Solano Transportation Authority</th>\n",
       "      <th>2018-Southern California Optimized Rail Expansion (SCORE)-Southern California Regional Rail Authority</th>\n",
       "      <th>2018-Southwest Fresno Community Connector-City Of Fresno</th>\n",
       "      <th>2018-The Northern California Corridor Enhancement Program-Capitol Corridor Joint Powers Authority</th>\n",
       "      <th>2018-The Transbay Corridor Core Capacity Program: Vehicle Acquistion and Communications-Based Train Control System-Bay Area Rapid Transit</th>\n",
       "      <th>2018-Transit Capacity Expansion Program-San Francisco Municipal Transportation Agency</th>\n",
       "      <th>2018-VTA’s BART Silicon Valley Extension, Phase II-Santa Clara Valley Transportation Authority</th>\n",
       "      <th>2018-Valley Rail-San Joaquin Joint Powers Authority</th>\n",
       "      <th>2020-Building Up Control: LOSSAN Service Enhancement Program-Los Angeles-San Diego-San Luis Obispo Rail Corridor Agency</th>\n",
       "      <th>2020-Core Capacity Program-San Francisco Municipal Transportation Agency</th>\n",
       "      <th>2020-Expansion of WETA Ferry Services-San Francisco Bay Area Water Emergency Transportation Authority</th>\n",
       "      <th>2020-For People, Place and Planet: Connecting Inglewood to Regional Opportunities-Santa Monica Big Blue Bus</th>\n",
       "      <th>2020-Improving Air Quality &amp; Economic Growth with Electric Buses in Merced County, the Gateway to Yosemite-Transit Joint Powers Authority Of Merced County</th>\n",
       "      <th>2020-Inglewood Transit Connector Project-City Of Inglewood</th>\n",
       "      <th>2020-LBT/UCLA Electric Commuter Express-Long Beach Transit</th>\n",
       "      <th>2020-Light Rail Modernization and Expansion of Low-Floor Fleet-Sacramento Regional Transit District</th>\n",
       "      <th>2020-Metrolink Antelope Valley Line Capital and Service Improvements-Los Angeles County Metropolitan Transportation Authority</th>\n",
       "      <th>2020-North State Intercity Bus System-Lake Transit Authority</th>\n",
       "      <th>2020-Reaching the Most Transit-Vulnerable: AVTA's Zero Emission \"Microtransit\" &amp; Bus Expansion Proposal-Antelope Valley Transit Authority</th>\n",
       "      <th>2020-SDConnect: San Diego Rail Improvement Program-San Diego Association Of Governments</th>\n",
       "      <th>2020-Sacramento Valley Station (SVS) Transit Center-Capitol Corridor Joint Powers Authority</th>\n",
       "      <th>2020-Solano Regional Transit Improvements Phase 2-Solano Transportation Authority</th>\n",
       "      <th>2020-The Transbaby Corridor Core Capacity Program: Vehicle Acquisition-Bay Area Rapid Transit</th>\n",
       "      <th>2020-Torrance Transit Bus Service Enhancement Program-Torrance Transit Department</th>\n",
       "      <th>2020-West Valley Connector Bus Rapid Transit Phase 1 &amp; ZEB Initiative-San Bernardino County Transportation Authority</th>\n",
       "      <th>2022-ATN FAST (Family of Advanced Solutions for Transit): Revolutionizing Transit for a Global Audience-Anaheim Transportation Network</th>\n",
       "      <th>2022-City of Wasco Improving Air Quality and Economic Growth with Bus Electrification-City Of Wasco</th>\n",
       "      <th>2022-East Bay Transit-Oriented Development Mobility Enhancement Project-Bay Area Rapid Transit</th>\n",
       "      <th>2022-Expanding Transit Services and Introducing Zero-Emission Fleets on California’s North Coast-Humboldt Transit Authority</th>\n",
       "      <th>2022-Fleet Modernization Project-Sacramento Regional Transit District</th>\n",
       "      <th>2022-Fresno County Rural Transit Agency Resiliency Hub-Fresno County Rural Transit Agency</th>\n",
       "      <th>2022-I-680 Express Bus Program-Contra Costa Transportation Authority</th>\n",
       "      <th>2022-Los Angeles Nextgen and Zero Emission Bus Implementation Project-Los Angeles County Metropolitan Transportation Authority</th>\n",
       "      <th>2022-Making a Beeline for Electrification - City of Glendale and Arroyo Verdugo Communities Zoom towards Cleaner Transportation-City Of Glendale</th>\n",
       "      <th>2022-Metrolink Perris Valley Line Capacity Improvements-Southern California Regional Rail Authority</th>\n",
       "      <th>2022-Next Wave: Expanding MTD's Electric Legacy on the South Coast-Santa Barbara Metropolitan Transit District</th>\n",
       "      <th>2022-Oakland Waterfront Mobility Hub-City Of Oakland</th>\n",
       "      <th>2022-SFMTA Core Capacity Program-San Francisco Municipal Transportation Agency</th>\n",
       "      <th>2022-SURF! Busway and Bus Rapid Transit-Monterey-Salinas Transit District</th>\n",
       "      <th>2022-Sacramento Valley Station (SVS) Transit Center: Priority Project-Capitol Corridor Joint Powers Authority</th>\n",
       "      <th>2022-San Francisco Zero Emissions High-Frequency Ferry Network-San Francisco Bay Area Water Emergency Transportation Authority</th>\n",
       "      <th>2022-Sonoma Regional Bus and Rail Connectivity Improvements-Sonoma County Transportation Authority</th>\n",
       "      <th>2022-South Bay Microtransit Expansion-City Of Cupertino</th>\n",
       "      <th>2022-Sweet Home Antelope Valley, Where the Skies are so Blue-Antelope Valley Transit Authority</th>\n",
       "      <th>2022-The Regional Connectivity Improvement Bus Program-City Of Torrance</th>\n",
       "      <th>2022-Tulare Cross-Valley Corridor ZEB Expansion-Tulare County Regional Transit Agency</th>\n",
       "      <th>2022-Valley Rail Expansion: Altamont Corridor Express (ACE) Ceres to Turlock Extension-San Joaquin Regional Rail Commission</th>\n",
       "      <th>2022-Zero-Emission Transit Enhancement Project-San Diego Metropolitan Transit System</th>\n",
       "    </tr>\n",
       "  </thead>\n",
       "  <tbody>\n",
       "    <tr>\n",
       "      <th>Estimated Tircp Ghg Reductions</th>\n",
       "      <td>61000.00</td>\n",
       "      <td>234000.00</td>\n",
       "      <td>957000.00</td>\n",
       "      <td>68000.00</td>\n",
       "      <td>1160000.00</td>\n",
       "      <td>7000.00</td>\n",
       "      <td>67000.00</td>\n",
       "      <td>0.00</td>\n",
       "      <td>17000.00</td>\n",
       "      <td>81000.00</td>\n",
       "      <td>23000.00</td>\n",
       "      <td>73000.00</td>\n",
       "      <td>196000.00</td>\n",
       "      <td>7966000.00</td>\n",
       "      <td>26000.00</td>\n",
       "      <td>737000.00</td>\n",
       "      <td>14000.00</td>\n",
       "      <td>7000.00</td>\n",
       "      <td>134000.00</td>\n",
       "      <td>47000.00</td>\n",
       "      <td>138000.00</td>\n",
       "      <td>5714000.00</td>\n",
       "      <td>9000.00</td>\n",
       "      <td>1348000.00</td>\n",
       "      <td>4272000.00</td>\n",
       "      <td>156000.00</td>\n",
       "      <td>4063000.00</td>\n",
       "      <td>4369000.00</td>\n",
       "      <td>325000.00</td>\n",
       "      <td>369000.00</td>\n",
       "      <td>41000.00</td>\n",
       "      <td>18000.00</td>\n",
       "      <td>31000.00</td>\n",
       "      <td>772000.00</td>\n",
       "      <td>9000.00</td>\n",
       "      <td>85000.00</td>\n",
       "      <td>584000.00</td>\n",
       "      <td>14000.00</td>\n",
       "      <td>12000.00</td>\n",
       "      <td>34000.00</td>\n",
       "      <td>39000.00</td>\n",
       "      <td>125000.00</td>\n",
       "      <td>2495000.00</td>\n",
       "      <td>30000.00</td>\n",
       "      <td>33000.00</td>\n",
       "      <td>159000.00</td>\n",
       "      <td>1000.00</td>\n",
       "      <td>242000.00</td>\n",
       "      <td>389000.00</td>\n",
       "      <td>44000.00</td>\n",
       "      <td>14000.00</td>\n",
       "      <td>53000.00</td>\n",
       "      <td>781000.00</td>\n",
       "      <td>71000.00</td>\n",
       "      <td>157000.00</td>\n",
       "      <td>14000.00</td>\n",
       "      <td>10000.00</td>\n",
       "      <td>1186000.00</td>\n",
       "      <td>31000.00</td>\n",
       "      <td>156000.00</td>\n",
       "      <td>125000.00</td>\n",
       "      <td>63000.00</td>\n",
       "      <td>76000.00</td>\n",
       "      <td>139000.00</td>\n",
       "      <td>51000.00</td>\n",
       "      <td>475000.00</td>\n",
       "      <td>61000.00</td>\n",
       "      <td>34000.00</td>\n",
       "    </tr>\n",
       "  </tbody>\n",
       "</table>\n",
       "</div>"
      ],
      "text/plain": [
       "Detailed Title Col             2018-#Electrify Anaheim: Changing the Transit Paradigm in Southern California-Anaheim Transportation Network  \\\n",
       "Estimated Tircp Ghg Reductions                                                                                                     61000.00   \n",
       "\n",
       "Detailed Title Col             2018-Accelerating Rail Modernization and Expansion in the Capital Region-Sacramento Regional Transit District  \\\n",
       "Estimated Tircp Ghg Reductions                                                                                                     234000.00   \n",
       "\n",
       "Detailed Title Col             2018-All Aboard 2018: Transforming SoCal Rail Travel-Los Angeles-San Diego-San Luis Obispo Rail Corridor Agency  \\\n",
       "Estimated Tircp Ghg Reductions                                                                                                       957000.00   \n",
       "\n",
       "Detailed Title Col             2018-Blue Line Rail Corridor Transit Enhancements-San Diego Metropolitan Transit System  \\\n",
       "Estimated Tircp Ghg Reductions                                                                                68000.00   \n",
       "\n",
       "Detailed Title Col             2018-Building Up: LOSSAN North Improvement Program-Los Angeles-San Diego-San Luis Obispo Rail Corridor Agency  \\\n",
       "Estimated Tircp Ghg Reductions                                                                                                    1160000.00   \n",
       "\n",
       "Detailed Title Col             2018-Coastal Express/Pacific Surfliner Peak Hour Service Expansion and Integration Project-Santa Barbara County Association Of Governments  \\\n",
       "Estimated Tircp Ghg Reductions                                                                                                                                    7000.00   \n",
       "\n",
       "Detailed Title Col             2018-Diesel Multiple Unit Vehicle to Zero- or Low-Emission Vehicle Conversion and West Valley Connector Bus Rapid Transit-San Bernardino County Transportation Authority  \\\n",
       "Estimated Tircp Ghg Reductions                                                                                                                                                                 67000.00   \n",
       "\n",
       "Detailed Title Col             2018-Dublin/Pleasanton Capacity Improvement and Congestion Reduction Program-Livermore Amador Valley Transit Authority  \\\n",
       "Estimated Tircp Ghg Reductions                                                                                                                   0.00   \n",
       "\n",
       "Detailed Title Col             2018-Electric Blue: Electrification of City of Santa Monica's Big Blue Bus-City Of Santa Monica  \\\n",
       "Estimated Tircp Ghg Reductions                                                                                        17000.00   \n",
       "\n",
       "Detailed Title Col             2018-Extend rail service to Monterey County-Transportation Agency For Monterey County  \\\n",
       "Estimated Tircp Ghg Reductions                                                                              81000.00   \n",
       "\n",
       "Detailed Title Col             2018-From the Desert to the Sea: Antelope Valley Transit Authority and Long Beach Transit Zero Emission Bus Initiative-Antelope Valley Transit Authority  \\\n",
       "Estimated Tircp Ghg Reductions                                                                                                                                                 23000.00   \n",
       "\n",
       "Detailed Title Col             2018-Goleta Train Depot-Santa Barbara County Association Of Governments  \\\n",
       "Estimated Tircp Ghg Reductions                                                                73000.00   \n",
       "\n",
       "Detailed Title Col             2018-Los Angeles City: Leading the Transformation to Zero-Emission Electric Bus Transit Service-City Of Los Angeles  \\\n",
       "Estimated Tircp Ghg Reductions                                                                                                           196000.00   \n",
       "\n",
       "Detailed Title Col             2018-Los Angeles Region Transit System Integration and Modernization Program of Projects-Los Angeles County Metropolitan Transportation Authority  \\\n",
       "Estimated Tircp Ghg Reductions                                                                                                                                        7966000.00   \n",
       "\n",
       "Detailed Title Col             2018-North State Intercity Bus System-Shasta Regional Transportation Agency  \\\n",
       "Estimated Tircp Ghg Reductions                                                                    26000.00   \n",
       "\n",
       "Detailed Title Col             2018-Peninsula Corridor Electrification Expansion Project-Peninsula Corridor Joint Powers Board  \\\n",
       "Estimated Tircp Ghg Reductions                                                                                       737000.00   \n",
       "\n",
       "Detailed Title Col             2018-Purchase Zero Emission High Capacity Buses to Support Transbay Tomorrow and Clean Corridors Plan-Alameda Contra Costa Transit District  \\\n",
       "Estimated Tircp Ghg Reductions                                                                                                                                    14000.00   \n",
       "\n",
       "Detailed Title Col             2018-Ride Between the Line: Enhancing Access to Transit in San Diego-San Diego Association Of Governments  \\\n",
       "Estimated Tircp Ghg Reductions                                                                                                   7000.00   \n",
       "\n",
       "Detailed Title Col             2018-SMART Larkspur to Windsor Corridor-Sonoma-Marin Area Rail Transit District  \\\n",
       "Estimated Tircp Ghg Reductions                                                                       134000.00   \n",
       "\n",
       "Detailed Title Col             2018-SamTrans Express Bus Pilot-San Mateo County Transit District  \\\n",
       "Estimated Tircp Ghg Reductions                                                          47000.00   \n",
       "\n",
       "Detailed Title Col             2018-Solano Regional Transit Improvements-Solano Transportation Authority  \\\n",
       "Estimated Tircp Ghg Reductions                                                                 138000.00   \n",
       "\n",
       "Detailed Title Col             2018-Southern California Optimized Rail Expansion (SCORE)-Southern California Regional Rail Authority  \\\n",
       "Estimated Tircp Ghg Reductions                                                                                            5714000.00   \n",
       "\n",
       "Detailed Title Col             2018-Southwest Fresno Community Connector-City Of Fresno  \\\n",
       "Estimated Tircp Ghg Reductions                                                  9000.00   \n",
       "\n",
       "Detailed Title Col             2018-The Northern California Corridor Enhancement Program-Capitol Corridor Joint Powers Authority  \\\n",
       "Estimated Tircp Ghg Reductions                                                                                        1348000.00   \n",
       "\n",
       "Detailed Title Col             2018-The Transbay Corridor Core Capacity Program: Vehicle Acquistion and Communications-Based Train Control System-Bay Area Rapid Transit  \\\n",
       "Estimated Tircp Ghg Reductions                                                                                                                                4272000.00   \n",
       "\n",
       "Detailed Title Col             2018-Transit Capacity Expansion Program-San Francisco Municipal Transportation Agency  \\\n",
       "Estimated Tircp Ghg Reductions                                                                             156000.00   \n",
       "\n",
       "Detailed Title Col             2018-VTA’s BART Silicon Valley Extension, Phase II-Santa Clara Valley Transportation Authority  \\\n",
       "Estimated Tircp Ghg Reductions                                                                                     4063000.00   \n",
       "\n",
       "Detailed Title Col             2018-Valley Rail-San Joaquin Joint Powers Authority  \\\n",
       "Estimated Tircp Ghg Reductions                                          4369000.00   \n",
       "\n",
       "Detailed Title Col             2020-Building Up Control: LOSSAN Service Enhancement Program-Los Angeles-San Diego-San Luis Obispo Rail Corridor Agency  \\\n",
       "Estimated Tircp Ghg Reductions                                                                                                               325000.00   \n",
       "\n",
       "Detailed Title Col             2020-Core Capacity Program-San Francisco Municipal Transportation Agency  \\\n",
       "Estimated Tircp Ghg Reductions                                                                369000.00   \n",
       "\n",
       "Detailed Title Col             2020-Expansion of WETA Ferry Services-San Francisco Bay Area Water Emergency Transportation Authority  \\\n",
       "Estimated Tircp Ghg Reductions                                                                                              41000.00   \n",
       "\n",
       "Detailed Title Col             2020-For People, Place and Planet: Connecting Inglewood to Regional Opportunities-Santa Monica Big Blue Bus  \\\n",
       "Estimated Tircp Ghg Reductions                                                                                                    18000.00   \n",
       "\n",
       "Detailed Title Col             2020-Improving Air Quality & Economic Growth with Electric Buses in Merced County, the Gateway to Yosemite-Transit Joint Powers Authority Of Merced County  \\\n",
       "Estimated Tircp Ghg Reductions                                                                                                                                                   31000.00   \n",
       "\n",
       "Detailed Title Col             2020-Inglewood Transit Connector Project-City Of Inglewood  \\\n",
       "Estimated Tircp Ghg Reductions                                                  772000.00   \n",
       "\n",
       "Detailed Title Col             2020-LBT/UCLA Electric Commuter Express-Long Beach Transit  \\\n",
       "Estimated Tircp Ghg Reductions                                                    9000.00   \n",
       "\n",
       "Detailed Title Col             2020-Light Rail Modernization and Expansion of Low-Floor Fleet-Sacramento Regional Transit District  \\\n",
       "Estimated Tircp Ghg Reductions                                                                                            85000.00   \n",
       "\n",
       "Detailed Title Col             2020-Metrolink Antelope Valley Line Capital and Service Improvements-Los Angeles County Metropolitan Transportation Authority  \\\n",
       "Estimated Tircp Ghg Reductions                                                                                                                     584000.00   \n",
       "\n",
       "Detailed Title Col             2020-North State Intercity Bus System-Lake Transit Authority  \\\n",
       "Estimated Tircp Ghg Reductions                                                     14000.00   \n",
       "\n",
       "Detailed Title Col             2020-Reaching the Most Transit-Vulnerable: AVTA's Zero Emission \"Microtransit\" & Bus Expansion Proposal-Antelope Valley Transit Authority  \\\n",
       "Estimated Tircp Ghg Reductions                                                                                                                                  12000.00   \n",
       "\n",
       "Detailed Title Col             2020-SDConnect: San Diego Rail Improvement Program-San Diego Association Of Governments  \\\n",
       "Estimated Tircp Ghg Reductions                                                                                34000.00   \n",
       "\n",
       "Detailed Title Col             2020-Sacramento Valley Station (SVS) Transit Center-Capitol Corridor Joint Powers Authority  \\\n",
       "Estimated Tircp Ghg Reductions                                                                                    39000.00   \n",
       "\n",
       "Detailed Title Col             2020-Solano Regional Transit Improvements Phase 2-Solano Transportation Authority  \\\n",
       "Estimated Tircp Ghg Reductions                                                                         125000.00   \n",
       "\n",
       "Detailed Title Col             2020-The Transbaby Corridor Core Capacity Program: Vehicle Acquisition-Bay Area Rapid Transit  \\\n",
       "Estimated Tircp Ghg Reductions                                                                                    2495000.00   \n",
       "\n",
       "Detailed Title Col             2020-Torrance Transit Bus Service Enhancement Program-Torrance Transit Department  \\\n",
       "Estimated Tircp Ghg Reductions                                                                          30000.00   \n",
       "\n",
       "Detailed Title Col             2020-West Valley Connector Bus Rapid Transit Phase 1 & ZEB Initiative-San Bernardino County Transportation Authority  \\\n",
       "Estimated Tircp Ghg Reductions                                                                                                             33000.00   \n",
       "\n",
       "Detailed Title Col             2022-ATN FAST (Family of Advanced Solutions for Transit): Revolutionizing Transit for a Global Audience-Anaheim Transportation Network  \\\n",
       "Estimated Tircp Ghg Reductions                                                                                                                              159000.00   \n",
       "\n",
       "Detailed Title Col             2022-City of Wasco Improving Air Quality and Economic Growth with Bus Electrification-City Of Wasco  \\\n",
       "Estimated Tircp Ghg Reductions                                                                                             1000.00   \n",
       "\n",
       "Detailed Title Col             2022-East Bay Transit-Oriented Development Mobility Enhancement Project-Bay Area Rapid Transit  \\\n",
       "Estimated Tircp Ghg Reductions                                                                                      242000.00   \n",
       "\n",
       "Detailed Title Col             2022-Expanding Transit Services and Introducing Zero-Emission Fleets on California’s North Coast-Humboldt Transit Authority  \\\n",
       "Estimated Tircp Ghg Reductions                                                                                                                   389000.00   \n",
       "\n",
       "Detailed Title Col             2022-Fleet Modernization Project-Sacramento Regional Transit District  \\\n",
       "Estimated Tircp Ghg Reductions                                                              44000.00   \n",
       "\n",
       "Detailed Title Col             2022-Fresno County Rural Transit Agency Resiliency Hub-Fresno County Rural Transit Agency  \\\n",
       "Estimated Tircp Ghg Reductions                                                                                  14000.00   \n",
       "\n",
       "Detailed Title Col             2022-I-680 Express Bus Program-Contra Costa Transportation Authority  \\\n",
       "Estimated Tircp Ghg Reductions                                                             53000.00   \n",
       "\n",
       "Detailed Title Col             2022-Los Angeles Nextgen and Zero Emission Bus Implementation Project-Los Angeles County Metropolitan Transportation Authority  \\\n",
       "Estimated Tircp Ghg Reductions                                                                                                                      781000.00   \n",
       "\n",
       "Detailed Title Col             2022-Making a Beeline for Electrification - City of Glendale and Arroyo Verdugo Communities Zoom towards Cleaner Transportation-City Of Glendale  \\\n",
       "Estimated Tircp Ghg Reductions                                                                                                                                         71000.00   \n",
       "\n",
       "Detailed Title Col             2022-Metrolink Perris Valley Line Capacity Improvements-Southern California Regional Rail Authority  \\\n",
       "Estimated Tircp Ghg Reductions                                                                                           157000.00   \n",
       "\n",
       "Detailed Title Col             2022-Next Wave: Expanding MTD's Electric Legacy on the South Coast-Santa Barbara Metropolitan Transit District  \\\n",
       "Estimated Tircp Ghg Reductions                                                                                                       14000.00   \n",
       "\n",
       "Detailed Title Col             2022-Oakland Waterfront Mobility Hub-City Of Oakland  \\\n",
       "Estimated Tircp Ghg Reductions                                             10000.00   \n",
       "\n",
       "Detailed Title Col             2022-SFMTA Core Capacity Program-San Francisco Municipal Transportation Agency  \\\n",
       "Estimated Tircp Ghg Reductions                                                                     1186000.00   \n",
       "\n",
       "Detailed Title Col             2022-SURF! Busway and Bus Rapid Transit-Monterey-Salinas Transit District  \\\n",
       "Estimated Tircp Ghg Reductions                                                                  31000.00   \n",
       "\n",
       "Detailed Title Col             2022-Sacramento Valley Station (SVS) Transit Center: Priority Project-Capitol Corridor Joint Powers Authority  \\\n",
       "Estimated Tircp Ghg Reductions                                                                                                     156000.00   \n",
       "\n",
       "Detailed Title Col             2022-San Francisco Zero Emissions High-Frequency Ferry Network-San Francisco Bay Area Water Emergency Transportation Authority  \\\n",
       "Estimated Tircp Ghg Reductions                                                                                                                      125000.00   \n",
       "\n",
       "Detailed Title Col             2022-Sonoma Regional Bus and Rail Connectivity Improvements-Sonoma County Transportation Authority  \\\n",
       "Estimated Tircp Ghg Reductions                                                                                           63000.00   \n",
       "\n",
       "Detailed Title Col             2022-South Bay Microtransit Expansion-City Of Cupertino  \\\n",
       "Estimated Tircp Ghg Reductions                                                76000.00   \n",
       "\n",
       "Detailed Title Col             2022-Sweet Home Antelope Valley, Where the Skies are so Blue-Antelope Valley Transit Authority  \\\n",
       "Estimated Tircp Ghg Reductions                                                                                      139000.00   \n",
       "\n",
       "Detailed Title Col             2022-The Regional Connectivity Improvement Bus Program-City Of Torrance  \\\n",
       "Estimated Tircp Ghg Reductions                                                                51000.00   \n",
       "\n",
       "Detailed Title Col             2022-Tulare Cross-Valley Corridor ZEB Expansion-Tulare County Regional Transit Agency  \\\n",
       "Estimated Tircp Ghg Reductions                                                                             475000.00   \n",
       "\n",
       "Detailed Title Col             2022-Valley Rail Expansion: Altamont Corridor Express (ACE) Ceres to Turlock Extension-San Joaquin Regional Rail Commission  \\\n",
       "Estimated Tircp Ghg Reductions                                                                                                                    61000.00   \n",
       "\n",
       "Detailed Title Col             2022-Zero-Emission Transit Enhancement Project-San Diego Metropolitan Transit System  \n",
       "Estimated Tircp Ghg Reductions                                                                             34000.00  "
      ]
     },
     "execution_count": 59,
     "metadata": {},
     "output_type": "execute_result"
    }
   ],
   "source": [
    "outcomes_transformed.head(1)"
   ]
  },
  {
   "cell_type": "markdown",
   "id": "ba168112-3b5d-4fa8-88d5-de3546502a06",
   "metadata": {},
   "source": [
    "##### Outputs: Measures except GHG Reductions."
   ]
  },
  {
   "cell_type": "code",
   "execution_count": 90,
   "id": "ca989975-4147-42c2-a484-cbd46ff69347",
   "metadata": {},
   "outputs": [],
   "source": [
    "outcomes_melt = pd.melt(\n",
    "    outcomes,\n",
    "    id_vars=[\n",
    "        \"Award Year\",\n",
    "        \"Detailed Title Col\",\n",
    "    ],\n",
    "    value_vars=[\n",
    "        \"Increased Ridership\",\n",
    "        \"Service Integration\",\n",
    "        \"Improve Safety\",\n",
    "    ],\n",
    ")"
   ]
  },
  {
   "cell_type": "code",
   "execution_count": 91,
   "id": "e5143ed8-e6ff-4e66-ad5a-c660fdecee28",
   "metadata": {},
   "outputs": [],
   "source": [
    "outcomes_melt = A1_data_prep.clean_up_columns(outcomes_melt)"
   ]
  },
  {
   "cell_type": "code",
   "execution_count": 92,
   "id": "f1439741-a4ca-40ad-a453-2f5358dc5984",
   "metadata": {},
   "outputs": [],
   "source": [
    "year_summary = (\n",
    "    outcomes_melt.groupby([\"Award Year\", \"Variable\", \"Value\"])\n",
    "    .agg({\"Detailed Title Col\": \"nunique\"})\n",
    "    .rename(\n",
    "        columns={\"Detailed Title Col\": \"Number of Projects in this Value Category\"}\n",
    "    )\n",
    ")"
   ]
  },
  {
   "cell_type": "code",
   "execution_count": 93,
   "id": "348761d5-9cc0-4ae2-9b6a-c7b6dc7160ee",
   "metadata": {},
   "outputs": [
    {
     "data": {
      "text/html": [
       "<div>\n",
       "<style scoped>\n",
       "    .dataframe tbody tr th:only-of-type {\n",
       "        vertical-align: middle;\n",
       "    }\n",
       "\n",
       "    .dataframe tbody tr th {\n",
       "        vertical-align: top;\n",
       "    }\n",
       "\n",
       "    .dataframe thead th {\n",
       "        text-align: right;\n",
       "    }\n",
       "</style>\n",
       "<table border=\"1\" class=\"dataframe\">\n",
       "  <thead>\n",
       "    <tr style=\"text-align: right;\">\n",
       "      <th></th>\n",
       "      <th></th>\n",
       "      <th></th>\n",
       "      <th>Number of Projects in this Value Category</th>\n",
       "    </tr>\n",
       "    <tr>\n",
       "      <th>Award Year</th>\n",
       "      <th>Variable</th>\n",
       "      <th>Value</th>\n",
       "      <th></th>\n",
       "    </tr>\n",
       "  </thead>\n",
       "  <tbody>\n",
       "    <tr>\n",
       "      <th rowspan=\"9\" valign=\"top\">2018</th>\n",
       "      <th rowspan=\"3\" valign=\"top\">Improve Safety</th>\n",
       "      <th>High</th>\n",
       "      <td>9</td>\n",
       "    </tr>\n",
       "    <tr>\n",
       "      <th>Medium</th>\n",
       "      <td>12</td>\n",
       "    </tr>\n",
       "    <tr>\n",
       "      <th>Medium-High</th>\n",
       "      <td>7</td>\n",
       "    </tr>\n",
       "    <tr>\n",
       "      <th rowspan=\"3\" valign=\"top\">Increased Ridership</th>\n",
       "      <th>High</th>\n",
       "      <td>13</td>\n",
       "    </tr>\n",
       "    <tr>\n",
       "      <th>Medium</th>\n",
       "      <td>10</td>\n",
       "    </tr>\n",
       "    <tr>\n",
       "      <th>Medium-High</th>\n",
       "      <td>5</td>\n",
       "    </tr>\n",
       "    <tr>\n",
       "      <th rowspan=\"3\" valign=\"top\">Service Integration</th>\n",
       "      <th>High</th>\n",
       "      <td>5</td>\n",
       "    </tr>\n",
       "    <tr>\n",
       "      <th>Medium</th>\n",
       "      <td>8</td>\n",
       "    </tr>\n",
       "    <tr>\n",
       "      <th>Medium-High</th>\n",
       "      <td>15</td>\n",
       "    </tr>\n",
       "    <tr>\n",
       "      <th rowspan=\"11\" valign=\"top\">2020</th>\n",
       "      <th rowspan=\"3\" valign=\"top\">Improve Safety</th>\n",
       "      <th>High</th>\n",
       "      <td>4</td>\n",
       "    </tr>\n",
       "    <tr>\n",
       "      <th>Medium</th>\n",
       "      <td>7</td>\n",
       "    </tr>\n",
       "    <tr>\n",
       "      <th>Medium-High</th>\n",
       "      <td>6</td>\n",
       "    </tr>\n",
       "    <tr>\n",
       "      <th rowspan=\"4\" valign=\"top\">Increased Ridership</th>\n",
       "      <th>High</th>\n",
       "      <td>1</td>\n",
       "    </tr>\n",
       "    <tr>\n",
       "      <th>Medium</th>\n",
       "      <td>4</td>\n",
       "    </tr>\n",
       "    <tr>\n",
       "      <th>Medium-High</th>\n",
       "      <td>9</td>\n",
       "    </tr>\n",
       "    <tr>\n",
       "      <th>Medium-Low</th>\n",
       "      <td>3</td>\n",
       "    </tr>\n",
       "    <tr>\n",
       "      <th rowspan=\"4\" valign=\"top\">Service Integration</th>\n",
       "      <th>High</th>\n",
       "      <td>2</td>\n",
       "    </tr>\n",
       "    <tr>\n",
       "      <th>Medium</th>\n",
       "      <td>5</td>\n",
       "    </tr>\n",
       "    <tr>\n",
       "      <th>Medium-High</th>\n",
       "      <td>8</td>\n",
       "    </tr>\n",
       "    <tr>\n",
       "      <th>Medium-Low</th>\n",
       "      <td>2</td>\n",
       "    </tr>\n",
       "    <tr>\n",
       "      <th rowspan=\"12\" valign=\"top\">2022</th>\n",
       "      <th rowspan=\"4\" valign=\"top\">Improve Safety</th>\n",
       "      <th>High</th>\n",
       "      <td>8</td>\n",
       "    </tr>\n",
       "    <tr>\n",
       "      <th>Medium</th>\n",
       "      <td>8</td>\n",
       "    </tr>\n",
       "    <tr>\n",
       "      <th>Medium-High</th>\n",
       "      <td>6</td>\n",
       "    </tr>\n",
       "    <tr>\n",
       "      <th>Medium-Low</th>\n",
       "      <td>1</td>\n",
       "    </tr>\n",
       "    <tr>\n",
       "      <th rowspan=\"4\" valign=\"top\">Increased Ridership</th>\n",
       "      <th>High</th>\n",
       "      <td>6</td>\n",
       "    </tr>\n",
       "    <tr>\n",
       "      <th>Medium</th>\n",
       "      <td>7</td>\n",
       "    </tr>\n",
       "    <tr>\n",
       "      <th>Medium-High</th>\n",
       "      <td>8</td>\n",
       "    </tr>\n",
       "    <tr>\n",
       "      <th>Medium-Low</th>\n",
       "      <td>2</td>\n",
       "    </tr>\n",
       "    <tr>\n",
       "      <th rowspan=\"4\" valign=\"top\">Service Integration</th>\n",
       "      <th>High</th>\n",
       "      <td>5</td>\n",
       "    </tr>\n",
       "    <tr>\n",
       "      <th>Medium</th>\n",
       "      <td>8</td>\n",
       "    </tr>\n",
       "    <tr>\n",
       "      <th>Medium-High</th>\n",
       "      <td>7</td>\n",
       "    </tr>\n",
       "    <tr>\n",
       "      <th>Medium-Low</th>\n",
       "      <td>3</td>\n",
       "    </tr>\n",
       "  </tbody>\n",
       "</table>\n",
       "</div>"
      ],
      "text/plain": [
       "                                            Number of Projects in this Value Category\n",
       "Award Year Variable            Value                                                 \n",
       "2018       Improve Safety      High                                                 9\n",
       "                               Medium                                              12\n",
       "                               Medium-High                                          7\n",
       "           Increased Ridership High                                                13\n",
       "                               Medium                                              10\n",
       "                               Medium-High                                          5\n",
       "           Service Integration High                                                 5\n",
       "                               Medium                                               8\n",
       "                               Medium-High                                         15\n",
       "2020       Improve Safety      High                                                 4\n",
       "                               Medium                                               7\n",
       "                               Medium-High                                          6\n",
       "           Increased Ridership High                                                 1\n",
       "                               Medium                                               4\n",
       "                               Medium-High                                          9\n",
       "                               Medium-Low                                           3\n",
       "           Service Integration High                                                 2\n",
       "                               Medium                                               5\n",
       "                               Medium-High                                          8\n",
       "                               Medium-Low                                           2\n",
       "2022       Improve Safety      High                                                 8\n",
       "                               Medium                                               8\n",
       "                               Medium-High                                          6\n",
       "                               Medium-Low                                           1\n",
       "           Increased Ridership High                                                 6\n",
       "                               Medium                                               7\n",
       "                               Medium-High                                          8\n",
       "                               Medium-Low                                           2\n",
       "           Service Integration High                                                 5\n",
       "                               Medium                                               8\n",
       "                               Medium-High                                          7\n",
       "                               Medium-Low                                           3"
      ]
     },
     "execution_count": 93,
     "metadata": {},
     "output_type": "execute_result"
    }
   ],
   "source": [
    "year_summary"
   ]
  },
  {
   "cell_type": "markdown",
   "id": "be3a9788-a09e-4bb8-9890-9572fceadcf3",
   "metadata": {},
   "source": [
    "##### GHG Reductions."
   ]
  },
  {
   "cell_type": "code",
   "execution_count": 94,
   "id": "c526a520-7cd8-44d3-9c37-585f9e982b2a",
   "metadata": {},
   "outputs": [],
   "source": [
    "GHG_by_year = outcomes.groupby([\"Award Year\"]).agg(\n",
    "    {\"Estimated Tircp Ghg Reductions\": \"sum\"}\n",
    ")"
   ]
  },
  {
   "cell_type": "code",
   "execution_count": 95,
   "id": "f878002d-1b67-4a97-92ae-9dcc78950c8e",
   "metadata": {},
   "outputs": [
    {
     "data": {
      "text/html": [
       "<div>\n",
       "<style scoped>\n",
       "    .dataframe tbody tr th:only-of-type {\n",
       "        vertical-align: middle;\n",
       "    }\n",
       "\n",
       "    .dataframe tbody tr th {\n",
       "        vertical-align: top;\n",
       "    }\n",
       "\n",
       "    .dataframe thead th {\n",
       "        text-align: right;\n",
       "    }\n",
       "</style>\n",
       "<table border=\"1\" class=\"dataframe\">\n",
       "  <thead>\n",
       "    <tr style=\"text-align: right;\">\n",
       "      <th></th>\n",
       "      <th>Estimated Tircp Ghg Reductions</th>\n",
       "    </tr>\n",
       "    <tr>\n",
       "      <th>Award Year</th>\n",
       "      <th></th>\n",
       "    </tr>\n",
       "  </thead>\n",
       "  <tbody>\n",
       "    <tr>\n",
       "      <th>2018</th>\n",
       "      <td>31944000.00</td>\n",
       "    </tr>\n",
       "    <tr>\n",
       "      <th>2020</th>\n",
       "      <td>5016000.00</td>\n",
       "    </tr>\n",
       "    <tr>\n",
       "      <th>2022</th>\n",
       "      <td>4332000.00</td>\n",
       "    </tr>\n",
       "  </tbody>\n",
       "</table>\n",
       "</div>"
      ],
      "text/plain": [
       "            Estimated Tircp Ghg Reductions\n",
       "Award Year                                \n",
       "2018                           31944000.00\n",
       "2020                            5016000.00\n",
       "2022                            4332000.00"
      ]
     },
     "execution_count": 95,
     "metadata": {},
     "output_type": "execute_result"
    }
   ],
   "source": [
    "GHG_by_year"
   ]
  },
  {
   "cell_type": "markdown",
   "id": "aa36d953-c76c-4228-9fd2-0966d026b0cc",
   "metadata": {},
   "source": [
    "#### Save"
   ]
  },
  {
   "cell_type": "code",
   "execution_count": 96,
   "id": "bb3f4f0d-7ade-4d34-9a3d-16f154e88d38",
   "metadata": {},
   "outputs": [
    {
     "data": {
      "text/plain": [
       "'\\nwith pd.ExcelWriter(f\"{GCS_FILE_PATH}calsta_draft.xlsx\") as writer:\\n    outcomes.to_excel(writer, sheet_name=\"outcomes_unpivoted\", index=True)\\n    outcomes_transformed.to_excel(writer, sheet_name=\"outcomes_transformed\", index=True)\\n    projects.to_excel(writer, sheet_name=\"projects\", index=True)\\n    year_summary.to_excel(writer, sheet_name=\"year_summary\", index=True)\\n    GHG_by_year.to_excel(writer, sheet_name=\"GHG_reduction_year\", index=True)\\n    '"
      ]
     },
     "execution_count": 96,
     "metadata": {},
     "output_type": "execute_result"
    }
   ],
   "source": [
    "\"\"\"\n",
    "with pd.ExcelWriter(f\"{GCS_FILE_PATH}calsta_draft.xlsx\") as writer:\n",
    "    outcomes.to_excel(writer, sheet_name=\"outcomes_unpivoted\", index=True)\n",
    "    outcomes_transformed.to_excel(writer, sheet_name=\"outcomes_transformed\", index=True)\n",
    "    projects.to_excel(writer, sheet_name=\"projects\", index=True)\n",
    "    year_summary.to_excel(writer, sheet_name=\"year_summary\", index=True)\n",
    "    GHG_by_year.to_excel(writer, sheet_name=\"GHG_reduction_year\", index=True)\n",
    "    \"\"\""
   ]
  }
 ],
 "metadata": {
  "kernelspec": {
   "display_name": "Python 3 (ipykernel)",
   "language": "python",
   "name": "python3"
  },
  "language_info": {
   "codemirror_mode": {
    "name": "ipython",
    "version": 3
   },
   "file_extension": ".py",
   "mimetype": "text/x-python",
   "name": "python",
   "nbconvert_exporter": "python",
   "pygments_lexer": "ipython3",
   "version": "3.9.13"
  }
 },
 "nbformat": 4,
 "nbformat_minor": 5
}
