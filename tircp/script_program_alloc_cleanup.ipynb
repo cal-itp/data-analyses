{
 "cells": [
  {
   "cell_type": "code",
   "execution_count": 1,
   "id": "44469530-a68b-4823-8dbe-0afc588e5f69",
   "metadata": {},
   "outputs": [],
   "source": [
    "import A1_data_prep\n",
    "import A4_program_allocation_plan\n",
    "import pandas as pd\n",
    "from calitp import *\n",
    "\n",
    "pd.options.display.max_columns = 100\n",
    "pd.set_option(\"display.max_rows\", None)\n",
    "pd.set_option(\"display.max_colwidth\", None)"
   ]
  },
  {
   "cell_type": "code",
   "execution_count": 2,
   "id": "b953e4ba-ba3e-4848-bfaf-aa8e84adf3d6",
   "metadata": {},
   "outputs": [],
   "source": [
    "GCS_FILE_PATH = \"gs://calitp-analytics-data/data-analyses/tircp/\""
   ]
  },
  {
   "cell_type": "code",
   "execution_count": 4,
   "id": "71fccd72-640d-4f42-a675-e2a706e73ef9",
   "metadata": {},
   "outputs": [
    {
     "name": "stderr",
     "output_type": "stream",
     "text": [
      "/opt/conda/lib/python3.10/site-packages/openpyxl/worksheet/_reader.py:312: UserWarning: Data Validation extension is not supported and will be removed\n",
      "  warn(msg)\n"
     ]
    },
    {
     "name": "stdout",
     "output_type": "stream",
     "text": [
      "Successfully saved Program Allocation Plan to GCS\n"
     ]
    }
   ],
   "source": [
    "A4_program_allocation_plan.create_program_allocation_plan()"
   ]
  },
  {
   "cell_type": "code",
   "execution_count": null,
   "id": "b42cc361-a423-4f09-ac1e-81feeac21af3",
   "metadata": {},
   "outputs": [],
   "source": [
    "allocation = A1_data_prep.clean_allocation()"
   ]
  },
  {
   "cell_type": "code",
   "execution_count": null,
   "id": "c31c4440-f418-486f-8dd6-ef5a4a854f1f",
   "metadata": {},
   "outputs": [],
   "source": [
    "allocation = A1_data_prep.clean_up_columns(allocation)"
   ]
  },
  {
   "cell_type": "code",
   "execution_count": null,
   "id": "fa8e644e-6df4-47dc-be05-e88cbf4ed41e",
   "metadata": {},
   "outputs": [],
   "source": [
    "project = A1_data_prep.clean_project()"
   ]
  },
  {
   "cell_type": "code",
   "execution_count": null,
   "id": "220c4028-7265-432a-b8ff-65f52e0308e2",
   "metadata": {},
   "outputs": [],
   "source": [
    "project.head(1)"
   ]
  },
  {
   "cell_type": "code",
   "execution_count": null,
   "id": "f2c117bf-477e-4c19-a669-56e6af4939a3",
   "metadata": {},
   "outputs": [],
   "source": [
    "allocation.columns"
   ]
  },
  {
   "cell_type": "code",
   "execution_count": null,
   "id": "a2d5682a-b75b-451a-8631-646dcda4c2f6",
   "metadata": {
    "scrolled": true,
    "tags": []
   },
   "outputs": [],
   "source": [
    "# allocation.loc[allocation['allocation_award_year'] == 2020]"
   ]
  },
  {
   "cell_type": "code",
   "execution_count": null,
   "id": "3c2a944c-719b-4dc3-9eb9-15f5a16628b8",
   "metadata": {
    "scrolled": true,
    "tags": []
   },
   "outputs": [],
   "source": [
    "# project.loc[project['project_award_year'] == 2020]"
   ]
  },
  {
   "cell_type": "code",
   "execution_count": null,
   "id": "6ba0cc0b-0c6e-4302-8c21-18a18ffb37af",
   "metadata": {},
   "outputs": [],
   "source": [
    "project_cols = [\n",
    "    \"project_award_year\",\n",
    "    \"project_project_#\",\n",
    "    \"project_tircp_award_amount__$_\",\n",
    "    \"project_grant_recipient\",\n",
    "    \"project_project_title\",\n",
    "    \"project_ppno\",\n",
    "    \"project_unallocated_amount\",\n",
    "]"
   ]
  },
  {
   "cell_type": "code",
   "execution_count": null,
   "id": "5b19f038-fe8a-4fe8-80d3-6c48ed36211e",
   "metadata": {},
   "outputs": [],
   "source": [
    "allocation_cols = [\n",
    "    \"allocation_award_year\",\n",
    "    \"allocation_grant_recipient\",\n",
    "    \"allocation_implementing_agency\",\n",
    "    \"allocation_components\",\n",
    "    \"allocation_ppno\",\n",
    "    \"allocation_phase\",\n",
    "    \"allocation_prior_fiscal_years_to_2020\",\n",
    "    \"allocation_fiscal_year_2020_2021\",\n",
    "    \"allocation_fiscal_year_2021_2022\",\n",
    "    \"allocation_fiscal_year_2022_2023\",\n",
    "    \"allocation_fiscal_year_2023_2024\",\n",
    "    \"allocation_fiscal_year_2024_2025\",\n",
    "    \"allocation_fiscal_year_2025_2026\",\n",
    "    \"allocation_fiscal_year_2026_2027\",\n",
    "    \"allocation_fiscal_year_2027_2028\",\n",
    "    \"allocation_fiscal_year_2028_2029\",\n",
    "    \"allocation_fiscal_year_2029_2030\",\n",
    "    \"allocation_ctc_financial_resolution\",\n",
    "    \"allocation_allocation_date\",\n",
    "    \"allocation_project_id\",\n",
    "    \"allocation_sb1_funding\",\n",
    "    \"allocation_ggrf_funding\",\n",
    "    \"allocation_allocation_amount\",\n",
    "]"
   ]
  },
  {
   "cell_type": "code",
   "execution_count": null,
   "id": "81f350aa-2898-4d42-a6a9-48263a9b3dd5",
   "metadata": {},
   "outputs": [],
   "source": [
    "missing_date = pd.to_datetime(\"2100-01-01\")"
   ]
  },
  {
   "cell_type": "code",
   "execution_count": null,
   "id": "2f12a5a1-fa5f-474c-8bfa-7c51d4dab452",
   "metadata": {},
   "outputs": [],
   "source": [
    "group_by_cols = [\n",
    "    \"Project #\",\n",
    "    \"Award No\",\n",
    "    \"Award Amount\",\n",
    "    \"Not Allocated\",\n",
    "    \"Grant Recipient\",\n",
    "    \"Implementing Agency\",\n",
    "    \"Ppno\",\n",
    "    \"Project Title\",\n",
    "    \"Separable Phases/Components\",\n",
    "    \"Phase\",\n",
    "    \"Id\",\n",
    "    \"Ctc Financial Resolution\",\n",
    "    \"Allocation Date\",\n",
    "]"
   ]
  },
  {
   "cell_type": "code",
   "execution_count": null,
   "id": "f786fca5-912b-4d43-9ea0-345ac4305b2f",
   "metadata": {},
   "outputs": [],
   "source": [
    "max_cols = [\n",
    "    \"Prior Fiscal Years To 2020\",\n",
    "    \"Fiscal Year 2021 2022\",\n",
    "    \"Fiscal Year 2022 2023\",\n",
    "    \"Fiscal Year 2023 2024\",\n",
    "    \"Fiscal Year 2024 2025\",\n",
    "    \"Fiscal Year 2025 2026\",\n",
    "    \"Fiscal Year 2026 2027\",\n",
    "    \"Fiscal Year 2027 2028\",\n",
    "    \"Fiscal Year 2028 2029\",\n",
    "    \"Fiscal Year 2029 2030\",\n",
    "]"
   ]
  },
  {
   "cell_type": "code",
   "execution_count": null,
   "id": "7c646f37-d963-4528-b8ce-10066ee82196",
   "metadata": {},
   "outputs": [],
   "source": [
    "sum_cols = [\"PTA-SB1_Amount\", \"Ggrf Funding\", \"Total Amount\"]"
   ]
  },
  {
   "cell_type": "code",
   "execution_count": null,
   "id": "28aed4c7-68f4-441a-8e7f-e05c4597ec1f",
   "metadata": {},
   "outputs": [],
   "source": [
    "monetary_cols = [max_cols + sum_cols] + [\"Not Allocated\", \"Award Amount\"]"
   ]
  },
  {
   "cell_type": "code",
   "execution_count": null,
   "id": "584fcbb3-b708-485d-b177-ae5e65499e5f",
   "metadata": {},
   "outputs": [],
   "source": [
    "def pivot(df):\n",
    "    agg = df.groupby(group_by_cols).agg(\n",
    "        {**{e: \"max\" for e in max_cols}, **{e: \"sum\" for e in sum_cols}}\n",
    "    )\n",
    "    return agg"
   ]
  },
  {
   "cell_type": "code",
   "execution_count": null,
   "id": "9bbbd16a-d457-4d14-9169-7a3dd8ea90b1",
   "metadata": {},
   "outputs": [],
   "source": [
    "def program_allocation_plan():\n",
    "\n",
    "    # Load in Sheets\n",
    "    df_project = A1_data_prep.clean_project()\n",
    "    df_allocation = A1_data_prep.clean_allocation()\n",
    "\n",
    "    # Only keeping certain columns\n",
    "    df_project = df_project[project_cols]\n",
    "    df_allocation = df_allocation[allocation_cols]\n",
    "\n",
    "    # Merge\n",
    "    m1 = df_allocation.merge(\n",
    "        df_project,\n",
    "        how=\"left\",\n",
    "        left_on=[\"allocation_ppno\"],\n",
    "        right_on=[\"project_ppno\"],\n",
    "    )\n",
    "\n",
    "    # Clean Up\n",
    "    # Delete one of the PPNO and Award Year Columns\n",
    "    m1 = m1.drop(\n",
    "        columns=[\n",
    "            \"allocation_award_year\",\n",
    "            \"project_ppno\",\n",
    "            \"allocation_grant_recipient\",\n",
    "        ]\n",
    "    )\n",
    "\n",
    "    # Fill in some columns with TBD so it'll show up\n",
    "    m1[[\"allocation_project_id\", \"allocation_ctc_financial_resolution\"]] = m1[\n",
    "        [\"allocation_project_id\", \"allocation_ctc_financial_resolution\"]\n",
    "    ].fillna(value=\"TBD\")\n",
    "\n",
    "    # Fill in missing dates with something random\n",
    "    m1[\"allocation_allocation_date\"] = m1[\"allocation_allocation_date\"].fillna(\n",
    "        missing_date\n",
    "    )\n",
    "\n",
    "    # Create Total_Amount Col\n",
    "    m1[\"Total_Amount\"] = m1[\"allocation_ggrf_funding\"] + m1[\"allocation_sb1_funding\"]\n",
    "\n",
    "    # Create a column that concats award year + project #\n",
    "    m1[\"Award No\"] = (\n",
    "        m1[\"project_award_year\"].astype(\"str\")\n",
    "        + \" : \"\n",
    "        + m1[\"project_project_#\"].astype(\"str\")\n",
    "    )\n",
    "\n",
    "    # Rename cols to the right names\n",
    "    m1 = A1_data_prep.clean_up_columns(m1)\n",
    "    m1 = m1.rename(\n",
    "        columns={\n",
    "            \"Tircp Award Amount  $\": \"Award Amount\",\n",
    "            \"#\": \"Project #\",\n",
    "            \"Ctc Financial_Resolution\": \"Allocation Resolution\",\n",
    "            \"Sb1 Funding\": \"PTA-SB1_Amount\",\n",
    "            \"Unallocated Amount\": \"Not Allocated\",\n",
    "            \"Title\": \"Project Title\",\n",
    "            \"Components\": \"Separable Phases/Components\",\n",
    "            \"Date\": \"Allocation Date\",\n",
    "        }\n",
    "    )\n",
    "\n",
    "    # Format to currency\n",
    "    for i in monetary_cols:\n",
    "        m1 = A1_data_prep.currency_format(m1, i)\n",
    "\n",
    "    # Create sheets\n",
    "    df_2015 = pivot(m1.loc[m1[\"Award Year\"] == 2015])\n",
    "    df_2016 = pivot(m1.loc[m1[\"Award Year\"] == 2016])\n",
    "    df_2018 = pivot(m1.loc[m1[\"Award Year\"] == 2018])\n",
    "    df_2020 = pivot(m1.loc[m1[\"Award Year\"] == 2020])\n",
    "\n",
    "    \"\"\"\n",
    "    # GCS\n",
    "    with pd.ExcelWriter(f\"{GCS_FILE_PATH}Program_Allocation_Plan.xlsx\") as writer:\n",
    "        df_2015.to_excel(writer, sheet_name=\"2015_Cycle_1\", index=True)\n",
    "        df_2016.to_excel(writer, sheet_name=\"2016_Cycle_2\", index=True)\n",
    "        df_2018.to_excel(writer, sheet_name=\"2018_Cycle_3\", index=True)\n",
    "        df_2020.to_excel(writer, sheet_name=\"2020_Cycle_4\", index=True)\n",
    "    \"\"\"\n",
    "    return m1"
   ]
  },
  {
   "cell_type": "code",
   "execution_count": null,
   "id": "96b5ef62-ce59-448c-88ef-7def1b47b311",
   "metadata": {},
   "outputs": [],
   "source": [
    "test = program_allocation_plan()"
   ]
  },
  {
   "cell_type": "code",
   "execution_count": null,
   "id": "a6967858-7bc3-46a9-a76c-b253e39149a1",
   "metadata": {
    "scrolled": true,
    "tags": []
   },
   "outputs": [],
   "source": [
    "test.head(1)"
   ]
  }
 ],
 "metadata": {
  "kernelspec": {
   "display_name": "Python 3 (ipykernel)",
   "language": "python",
   "name": "python3"
  },
  "language_info": {
   "codemirror_mode": {
    "name": "ipython",
    "version": 3
   },
   "file_extension": ".py",
   "mimetype": "text/x-python",
   "name": "python",
   "nbconvert_exporter": "python",
   "pygments_lexer": "ipython3",
   "version": "3.10.6"
  }
 },
 "nbformat": 4,
 "nbformat_minor": 5
}
