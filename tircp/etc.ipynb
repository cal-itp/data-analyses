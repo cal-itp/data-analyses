{
 "cells": [
  {
   "cell_type": "markdown",
   "id": "e495648b-81e5-4cc8-a853-83acd963d25f",
   "metadata": {},
   "source": [
    "# Invoice "
   ]
  },
  {
   "cell_type": "code",
   "execution_count": null,
   "id": "fb2bc170-1fcc-4bb0-b0b5-f1160e7e36b8",
   "metadata": {},
   "outputs": [],
   "source": [
    "## Notes \n",
    "<b> To-Do<b>\n",
    "* For PAP, problem is prior col is all lumped together for projects before 2020?\n",
    "    * Highlands sheet does not differentiate between the years. Wants each year to be separated out.\n",
    "    * Highlands should address.   \n",
    "* Make sure PPNO numbers match across the sheets.\n",
    "* Wants to compare cols from previous SAR with current SAR b/c she has to bold any changes in black for CTC.  \n",
    "    \n",
    "<b> Done </b>\n",
    "* Make sure grant recipients don't have multiple variations of the same recipient. \n",
    "    * Replaced duplicates with one version.\n",
    "* SAR: allocation amount col isn't from highlands sheet, it's taken by adding GGRF Alloc + PTA-SB1. \n",
    "    * Added these amounts up. a\n",
    "* SAR:\n",
    "    * Projects with NO allocation amount won't appear in SAR. \n",
    "    * Projects with 100%  expenditures won't appear as well.\n",
    "    * Filtered them out. "
   ]
  },
  {
   "cell_type": "code",
   "execution_count": 35,
   "id": "57dcfb19-102b-4738-886d-6832571800a0",
   "metadata": {},
   "outputs": [],
   "source": [
    "import A1_data_prep\n",
    "import A5_crosswalks as crosswalks\n",
    "import numpy as np\n",
    "import pandas as pd\n",
    "from calitp import *\n",
    "\n",
    "pd.options.display.max_columns = 100\n",
    "pd.set_option(\"display.max_rows\", None)\n",
    "pd.set_option(\"display.max_colwidth\", None)"
   ]
  },
  {
   "cell_type": "code",
   "execution_count": 54,
   "id": "64a93541-ae0c-491e-a8e5-d5a07f385105",
   "metadata": {
    "tags": []
   },
   "outputs": [],
   "source": [
    "invoice_list = set(invoice.project_id.unique().tolist())\n",
    "allocation_list = set(allocation.allocation_project_id.unique().tolist())"
   ]
  },
  {
   "cell_type": "code",
   "execution_count": 55,
   "id": "7c9ae443-7d14-4609-b572-9987768e969c",
   "metadata": {
    "scrolled": true,
    "tags": []
   },
   "outputs": [
    {
     "data": {
      "text/plain": [
       "{'0016000007',\n",
       " '0016000008',\n",
       " '0016000009',\n",
       " '0016000048',\n",
       " '0016000119',\n",
       " '0016000121',\n",
       " '0016000188',\n",
       " '0016000237',\n",
       " '0016000238',\n",
       " '0016000275',\n",
       " '0016000276',\n",
       " '0016000277',\n",
       " '0016000329',\n",
       " '0017000040',\n",
       " '0017000077',\n",
       " '0017000128',\n",
       " '0017000129',\n",
       " '0017000130',\n",
       " '0017000174',\n",
       " '0017000181',\n",
       " '0017000182',\n",
       " '0017000183',\n",
       " '0017000206',\n",
       " '0017000233',\n",
       " '0017000234',\n",
       " '0017000240',\n",
       " '0018000010',\n",
       " '0018000149',\n",
       " '0018000170',\n",
       " '0018000175',\n",
       " '0018000237',\n",
       " '0018000278',\n",
       " '0018000287',\n",
       " '0018000288',\n",
       " '0018000321',\n",
       " '0018000323',\n",
       " '0018000324',\n",
       " '0018000354',\n",
       " '0018000355',\n",
       " '0018000356',\n",
       " '0018000357',\n",
       " '0018000358',\n",
       " '0018000359',\n",
       " '0019000014',\n",
       " '0019000017',\n",
       " '0019000021',\n",
       " '0019000063',\n",
       " '0019000064',\n",
       " '0019000068',\n",
       " '0019000069',\n",
       " '0019000073',\n",
       " '0019000075',\n",
       " '0019000078',\n",
       " '0019000079',\n",
       " '0019000080',\n",
       " '0019000081',\n",
       " '0019000086',\n",
       " '0019000087',\n",
       " '0019000088',\n",
       " '0019000089',\n",
       " '0019000090',\n",
       " '0019000091',\n",
       " '0019000092',\n",
       " '0019000093',\n",
       " '0019000095',\n",
       " '0019000096',\n",
       " '0019000097',\n",
       " '0019000111',\n",
       " '0019000120',\n",
       " '0019000121',\n",
       " '0019000122',\n",
       " '0019000123',\n",
       " '0019000128',\n",
       " '0019000134',\n",
       " '0019000135',\n",
       " '0019000237',\n",
       " '0019000238',\n",
       " '0019000239',\n",
       " '0019000260',\n",
       " '0019000262',\n",
       " '0019000341',\n",
       " '0019000460',\n",
       " '0020000007',\n",
       " '0020000042',\n",
       " '0020000059',\n",
       " '0020000060',\n",
       " '0020000063',\n",
       " '0020000081',\n",
       " '0020000084',\n",
       " '0020000133',\n",
       " '0020000160',\n",
       " '0020000161',\n",
       " '0020000190',\n",
       " '0020000212',\n",
       " '0020000213',\n",
       " '0020000214',\n",
       " '0020000275',\n",
       " '0020000280',\n",
       " '0020000287',\n",
       " '0021000080',\n",
       " '0021000142',\n",
       " '0021000143',\n",
       " '0021000145',\n",
       " '0021000148',\n",
       " '0021000149',\n",
       " '0021000157',\n",
       " '0021000158',\n",
       " '0021000160',\n",
       " '0021000200',\n",
       " '0021000202',\n",
       " '0021000203',\n",
       " '0021000204',\n",
       " '0021000207',\n",
       " '0021000208',\n",
       " '0021000210',\n",
       " '0021000211',\n",
       " '0021000212',\n",
       " '0021000214',\n",
       " '0021000363',\n",
       " 'None'}"
      ]
     },
     "execution_count": 55,
     "metadata": {},
     "output_type": "execute_result"
    }
   ],
   "source": [
    "invoice_list"
   ]
  },
  {
   "cell_type": "code",
   "execution_count": 56,
   "id": "1c471134-735d-43dd-9132-af487e88f4b1",
   "metadata": {
    "scrolled": true,
    "tags": []
   },
   "outputs": [
    {
     "data": {
      "text/plain": [
       "{'0019000021',\n",
       " '0019000087',\n",
       " '0019000120',\n",
       " '0021000177',\n",
       " '0021000249',\n",
       " '0021000320',\n",
       " '0022000240',\n",
       " '0022000241',\n",
       " '0022000242',\n",
       " '0022000260',\n",
       " '0022000268',\n",
       " '0022000269',\n",
       " '0022000335',\n",
       " 'None'}"
      ]
     },
     "execution_count": 56,
     "metadata": {},
     "output_type": "execute_result"
    }
   ],
   "source": [
    "allocation_list"
   ]
  },
  {
   "cell_type": "code",
   "execution_count": 57,
   "id": "9aa4e2be-58a5-4ca3-96f6-142a20c3e118",
   "metadata": {
    "tags": []
   },
   "outputs": [
    {
     "data": {
      "text/plain": [
       "10"
      ]
     },
     "execution_count": 57,
     "metadata": {},
     "output_type": "execute_result"
    }
   ],
   "source": [
    "len(allocation_list - invoice_list)"
   ]
  }
 ],
 "metadata": {
  "kernelspec": {
   "display_name": "Python 3 (ipykernel)",
   "language": "python",
   "name": "python3"
  },
  "language_info": {
   "codemirror_mode": {
    "name": "ipython",
    "version": 3
   },
   "file_extension": ".py",
   "mimetype": "text/x-python",
   "name": "python",
   "nbconvert_exporter": "python",
   "pygments_lexer": "ipython3",
   "version": "3.10.4"
  }
 },
 "nbformat": 4,
 "nbformat_minor": 5
}
