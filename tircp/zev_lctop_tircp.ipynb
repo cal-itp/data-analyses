{
 "cells": [
  {
   "cell_type": "code",
   "execution_count": 1,
   "id": "b4b60072-6ac2-4bb1-8fe4-dca0cbff1404",
   "metadata": {},
   "outputs": [
    {
     "name": "stderr",
     "output_type": "stream",
     "text": [
      "/opt/conda/lib/python3.10/site-packages/geopandas/_compat.py:112: UserWarning: The Shapely GEOS version (3.10.3-CAPI-1.16.1) is incompatible with the GEOS version PyGEOS was compiled with (3.10.1-CAPI-1.16.0). Conversions between both will be slow.\n",
      "  warnings.warn(\n"
     ]
    }
   ],
   "source": [
    "import A1_data_prep\n",
    "import A2_tableau\n",
    "import pandas as pd\n",
    "from calitp import *\n",
    "\n",
    "pd.options.display.max_columns = 100\n",
    "pd.set_option(\"display.max_rows\", None)\n",
    "pd.set_option(\"display.max_colwidth\", None)\n",
    "pd.options.display.float_format = \"{:.2f}\".format"
   ]
  },
  {
   "cell_type": "markdown",
   "id": "6c764e66-71b6-4cc9-bddc-a7a8542cd89f",
   "metadata": {},
   "source": [
    "## LCTOP"
   ]
  },
  {
   "cell_type": "code",
   "execution_count": 2,
   "id": "2dc05f8d-c843-4d44-b129-f81eb3d8edc1",
   "metadata": {},
   "outputs": [],
   "source": [
    "# Read in sheet\n",
    "df_lctop = pd.read_excel(\n",
    "    \"gs://calitp-analytics-data/data-analyses/lctop/LCTOP_cleaned.xlsx\",\n",
    "    sheet_name=\"cleaned\",\n",
    ")"
   ]
  },
  {
   "cell_type": "code",
   "execution_count": 3,
   "id": "3cd822e4-fa4f-4170-853d-a95d06594fbe",
   "metadata": {},
   "outputs": [],
   "source": [
    "# Only keep certain cols\n",
    "lctop_cols_to_keep = [\n",
    "    \"funding_year\",\n",
    "    \"project_sub_type_ii\",\n",
    "    \"project_description__short_\",\n",
    "    \"puc_99313_funds\",\n",
    "    \"puc_99314_funds\",\n",
    "    \"total_project_request_99314_+_99313\",\n",
    "    \"total_lctop_funds\",\n",
    "    \"total_cci_funds\",\n",
    "    \"total_project_cost\",\n",
    "    \"status\",\n",
    "    \"lead_agency\",\n",
    "]"
   ]
  },
  {
   "cell_type": "code",
   "execution_count": 4,
   "id": "fdd09368-2a98-4de8-97e7-496ab3a76adc",
   "metadata": {},
   "outputs": [],
   "source": [
    "# Subset df\n",
    "df_lctop2 = df_lctop[lctop_cols_to_keep]"
   ]
  },
  {
   "cell_type": "code",
   "execution_count": 5,
   "id": "8ffec2d1-001a-4e40-8268-d163e632b8a4",
   "metadata": {},
   "outputs": [],
   "source": [
    "# Keep only zero emission adjacent project sub type ii\n",
    "list_lctop_zev = [\n",
    "    \"New vehicles for new expanded/enhanced transit service\",\n",
    "    \"New zero-emission vehicles\",\n",
    "]"
   ]
  },
  {
   "cell_type": "code",
   "execution_count": 6,
   "id": "9bb7d6ab-e5e2-4216-99a0-391a7695f700",
   "metadata": {},
   "outputs": [],
   "source": [
    "# filter them all out at once.\n",
    "df_lctop3 = df_lctop2[df_lctop2.project_sub_type_ii.isin(list_lctop_zev)]"
   ]
  },
  {
   "cell_type": "code",
   "execution_count": 7,
   "id": "40da52f5-3cfe-4605-b9fa-ecbb2a400e94",
   "metadata": {},
   "outputs": [
    {
     "data": {
      "text/plain": [
       "(152, 851)"
      ]
     },
     "execution_count": 7,
     "metadata": {},
     "output_type": "execute_result"
    }
   ],
   "source": [
    "# Compare lengths\n",
    "len(df_lctop3), len(df_lctop2)"
   ]
  },
  {
   "cell_type": "code",
   "execution_count": 8,
   "id": "46fdbc51-3d58-4da8-af1e-b22f72d44318",
   "metadata": {},
   "outputs": [
    {
     "data": {
      "text/plain": [
       "array(['New vehicles for new expanded/enhanced transit service',\n",
       "       'New zero-emission vehicles'], dtype=object)"
      ]
     },
     "execution_count": 8,
     "metadata": {},
     "output_type": "execute_result"
    }
   ],
   "source": [
    "# Make sure I filtered it correctly\n",
    "df_lctop3[\"project_sub_type_ii\"].unique()"
   ]
  },
  {
   "cell_type": "code",
   "execution_count": 9,
   "id": "62d54d1d-f5e6-4a82-b2bd-4d2ed0c889ba",
   "metadata": {},
   "outputs": [
    {
     "name": "stderr",
     "output_type": "stream",
     "text": [
      "/tmp/ipykernel_2130/1439350916.py:2: SettingWithCopyWarning: \n",
      "A value is trying to be set on a copy of a slice from a DataFrame.\n",
      "Try using .loc[row_indexer,col_indexer] = value instead\n",
      "\n",
      "See the caveats in the documentation: https://pandas.pydata.org/pandas-docs/stable/user_guide/indexing.html#returning-a-view-versus-a-copy\n"
     ]
    }
   ],
   "source": [
    "# Change short description to lower case\n",
    "df_lctop3[\"project_description__short_\"] = df_lctop3[\n",
    "    \"project_description__short_\"\n",
    "].str.lower()"
   ]
  },
  {
   "cell_type": "code",
   "execution_count": 10,
   "id": "f5a17f59-f698-42c2-908a-42d801fda5ba",
   "metadata": {},
   "outputs": [
    {
     "name": "stderr",
     "output_type": "stream",
     "text": [
      "/tmp/ipykernel_2130/1113706348.py:2: SettingWithCopyWarning: \n",
      "A value is trying to be set on a copy of a slice from a DataFrame.\n",
      "Try using .loc[row_indexer,col_indexer] = value instead\n",
      "\n",
      "See the caveats in the documentation: https://pandas.pydata.org/pandas-docs/stable/user_guide/indexing.html#returning-a-view-versus-a-copy\n"
     ]
    }
   ],
   "source": [
    "# Replace numbers\n",
    "df_lctop3[\"project_description__short_\"] = (\n",
    "    df_lctop3[\"project_description__short_\"]\n",
    "    .str.replace(\"seven\", \"7\")\n",
    "    .str.replace(\"two\", \"2\")\n",
    "    .str.replace(\"eight\", \"8\")\n",
    "    .str.replace(\"five\", \"5\")\n",
    "    .str.replace(\"fifteen\", \"15\")\n",
    "    .str.replace(\"twenty\", \"20\")\n",
    "    .str.replace(\"three\", \"3\")\n",
    "    .str.replace(\"four\", \"4\")\n",
    "    .str.replace(\"eleven\", \"11\")\n",
    ")"
   ]
  },
  {
   "cell_type": "code",
   "execution_count": 11,
   "id": "efcec442-e145-4224-b17d-f0acc526f057",
   "metadata": {
    "tags": []
   },
   "outputs": [
    {
     "name": "stderr",
     "output_type": "stream",
     "text": [
      "/tmp/ipykernel_2130/1161998616.py:2: SettingWithCopyWarning: \n",
      "A value is trying to be set on a copy of a slice from a DataFrame.\n",
      "Try using .loc[row_indexer,col_indexer] = value instead\n",
      "\n",
      "See the caveats in the documentation: https://pandas.pydata.org/pandas-docs/stable/user_guide/indexing.html#returning-a-view-versus-a-copy\n"
     ]
    }
   ],
   "source": [
    "# Extract numbers from project desc\n",
    "df_lctop3[\"number_of_zev\"] = (\n",
    "    df_lctop3.project_description__short_.str.extract(\"(\\d+)\")\n",
    "    .astype(\"float64\")\n",
    "    .fillna(0)\n",
    ")"
   ]
  },
  {
   "cell_type": "code",
   "execution_count": 12,
   "id": "d54b65b3-12f1-478a-bcfe-a3ac7edcfe39",
   "metadata": {},
   "outputs": [],
   "source": [
    "# df = to_snakecase(pd.read_csv(url))"
   ]
  },
  {
   "cell_type": "markdown",
   "id": "c79f9461-94b0-4070-bd2a-91e0f66f6e1d",
   "metadata": {},
   "source": [
    "## TIRCP"
   ]
  },
  {
   "cell_type": "code",
   "execution_count": 13,
   "id": "cc9a0504-1fab-4b85-b630-eea5ff2c9c98",
   "metadata": {},
   "outputs": [
    {
     "name": "stderr",
     "output_type": "stream",
     "text": [
      "/opt/conda/lib/python3.10/site-packages/openpyxl/worksheet/_reader.py:312: UserWarning: Data Validation extension is not supported and will be removed\n"
     ]
    }
   ],
   "source": [
    "df_tircp = to_snakecase(A2_tableau.tableau_dashboard())"
   ]
  },
  {
   "cell_type": "code",
   "execution_count": 14,
   "id": "2485213b-984f-4669-9a2e-825ec66c806b",
   "metadata": {},
   "outputs": [],
   "source": [
    "# Subset for only cols of interest\n",
    "tircp_columns = [\n",
    "    \"award_year\",\n",
    "    \"grant_recipient\",\n",
    "    \"title\",\n",
    "    \"description\",\n",
    "    \"tircp\",\n",
    "    \"expended_amount\",\n",
    "    \"expended_percent\",\n",
    "    \"progress\",\n",
    "]"
   ]
  },
  {
   "cell_type": "code",
   "execution_count": 15,
   "id": "1db2bd7e-438e-48ca-8d4c-096ae5fdc627",
   "metadata": {},
   "outputs": [],
   "source": [
    "df_tircp2 = df_tircp[tircp_columns]"
   ]
  },
  {
   "cell_type": "code",
   "execution_count": 16,
   "id": "88f0c353-b3d6-4f17-b21c-39adb400128c",
   "metadata": {},
   "outputs": [
    {
     "name": "stderr",
     "output_type": "stream",
     "text": [
      "/tmp/ipykernel_2130/4136718606.py:2: SettingWithCopyWarning: \n",
      "A value is trying to be set on a copy of a slice from a DataFrame.\n",
      "Try using .loc[row_indexer,col_indexer] = value instead\n",
      "\n",
      "See the caveats in the documentation: https://pandas.pydata.org/pandas-docs/stable/user_guide/indexing.html#returning-a-view-versus-a-copy\n"
     ]
    }
   ],
   "source": [
    "# Lower project description to search for ZEV projects\n",
    "df_tircp2[\"description\"] = df_tircp2[\"description\"].str.lower()"
   ]
  },
  {
   "cell_type": "code",
   "execution_count": 17,
   "id": "9640e63a-a43e-492a-a123-537f7527884a",
   "metadata": {},
   "outputs": [
    {
     "name": "stderr",
     "output_type": "stream",
     "text": [
      "/tmp/ipykernel_2130/3706984429.py:1: SettingWithCopyWarning: \n",
      "A value is trying to be set on a copy of a slice from a DataFrame.\n",
      "Try using .loc[row_indexer,col_indexer] = value instead\n",
      "\n",
      "See the caveats in the documentation: https://pandas.pydata.org/pandas-docs/stable/user_guide/indexing.html#returning-a-view-versus-a-copy\n"
     ]
    }
   ],
   "source": [
    "df_tircp2[\"zev_yes_no\"] = (\n",
    "    df_tircp2[\"description\"]\n",
    "    .str.extract(\n",
    "        \"(electric|cng|zero|emission|zero-emission|battery|hydrogen|hydrogen fuel cell)\",\n",
    "        expand=False,\n",
    "    )\n",
    "    .fillna(\"Not ZEV\")\n",
    ")"
   ]
  },
  {
   "cell_type": "code",
   "execution_count": 18,
   "id": "be8731ef-8184-4991-b60a-d1c5a08b5ce8",
   "metadata": {
    "scrolled": true,
    "tags": []
   },
   "outputs": [],
   "source": [
    "# Extract ZEV only projects\n",
    "df_tircp_zev = df_tircp2.loc[df_tircp2[\"zev_yes_no\"] != \"Not ZEV\"]"
   ]
  },
  {
   "cell_type": "code",
   "execution_count": 19,
   "id": "3536b04c-e2b1-4522-8a7a-0d7b2bece211",
   "metadata": {
    "tags": []
   },
   "outputs": [
    {
     "data": {
      "text/plain": [
       "45"
      ]
     },
     "execution_count": 19,
     "metadata": {},
     "output_type": "execute_result"
    }
   ],
   "source": [
    "len(df_tircp_zev)"
   ]
  },
  {
   "cell_type": "code",
   "execution_count": 20,
   "id": "d710e353-a1d7-4955-afd9-1eada0c95439",
   "metadata": {},
   "outputs": [
    {
     "name": "stderr",
     "output_type": "stream",
     "text": [
      "/tmp/ipykernel_2130/3773272407.py:2: SettingWithCopyWarning: \n",
      "A value is trying to be set on a copy of a slice from a DataFrame.\n",
      "Try using .loc[row_indexer,col_indexer] = value instead\n",
      "\n",
      "See the caveats in the documentation: https://pandas.pydata.org/pandas-docs/stable/user_guide/indexing.html#returning-a-view-versus-a-copy\n"
     ]
    }
   ],
   "source": [
    "# Extract numbers out of description\n",
    "df_tircp_zev[\"description\"] = (\n",
    "    df_tircp_zev[\"description\"]\n",
    "    .str.replace(\"seven\", \"7\")\n",
    "    .str.replace(\"two\", \"2\")\n",
    "    .str.replace(\"eight\", \"8\")\n",
    "    .str.replace(\"five\", \"5\")\n",
    "    .str.replace(\"fifteen\", \"15\")\n",
    "    .str.replace(\"twenty\", \"20\")\n",
    "    .str.replace(\"three\", \"3\")\n",
    "    .str.replace(\"four\", \"4\")\n",
    "    .str.replace(\"eleven\", \"11\")\n",
    ")"
   ]
  },
  {
   "cell_type": "code",
   "execution_count": 21,
   "id": "9b150ace-890f-4884-ac10-111a9111c429",
   "metadata": {},
   "outputs": [
    {
     "name": "stderr",
     "output_type": "stream",
     "text": [
      "/tmp/ipykernel_2130/3013344382.py:2: SettingWithCopyWarning: \n",
      "A value is trying to be set on a copy of a slice from a DataFrame.\n",
      "Try using .loc[row_indexer,col_indexer] = value instead\n",
      "\n",
      "See the caveats in the documentation: https://pandas.pydata.org/pandas-docs/stable/user_guide/indexing.html#returning-a-view-versus-a-copy\n"
     ]
    }
   ],
   "source": [
    "# Extract numbers from project desc\n",
    "df_tircp_zev[\"number_of_zev\"] = (\n",
    "    df_tircp_zev.description.str.extract(\"(\\d+)\").astype(\"float64\").fillna(0)\n",
    ")"
   ]
  },
  {
   "cell_type": "code",
   "execution_count": 22,
   "id": "effc4d82-f6f7-440d-bb93-f755345ae270",
   "metadata": {
    "scrolled": true,
    "tags": []
   },
   "outputs": [],
   "source": [
    "df_tircp_zev = df_tircp_zev.drop(columns=[\"zev_yes_no\"])"
   ]
  },
  {
   "cell_type": "code",
   "execution_count": 23,
   "id": "0c022c8b-7d0e-41ca-9efe-b21d05769d74",
   "metadata": {},
   "outputs": [
    {
     "data": {
      "text/plain": [
       "'\\nwith pd.ExcelWriter(\\n    \"gs://calitp-analytics-data/data-analyses/tircp/LCTOP_ZEV.xlsx\"\\n) as writer:\\n    df_lctop3.to_excel(writer, sheet_name=\"lctop\", index=True)\\n    df_tircp_zev.to_excel(writer, sheet_name=\"tircp\", index=True)\\n    '"
      ]
     },
     "execution_count": 23,
     "metadata": {},
     "output_type": "execute_result"
    }
   ],
   "source": [
    "# Export LCTOP and TIRCP to fill in the # of zev buses manually for any rows that didn't pick up the number\n",
    "\"\"\"\n",
    "with pd.ExcelWriter(\n",
    "    \"gs://calitp-analytics-data/data-analyses/tircp/LCTOP_ZEV.xlsx\"\n",
    ") as writer:\n",
    "    df_lctop3.to_excel(writer, sheet_name=\"lctop\", index=True)\n",
    "    df_tircp_zev.to_excel(writer, sheet_name=\"tircp\", index=True)\n",
    "    \"\"\""
   ]
  },
  {
   "cell_type": "markdown",
   "id": "8af8c594-1c2e-4cd2-b6ab-c60e57c97961",
   "metadata": {
    "tags": []
   },
   "source": [
    "## Analysis"
   ]
  },
  {
   "cell_type": "code",
   "execution_count": 24,
   "id": "b300624a-bebe-44ae-89d6-506c6f051e9d",
   "metadata": {},
   "outputs": [],
   "source": [
    "# Open up a bunch of sheets all in the same workbook\n",
    "# Sheets I want\n",
    "sheets_list = [\"lctop\", \"tircp\"]\n",
    "\n",
    "# Open the workbook in a dictionary\n",
    "dict_df1 = pd.read_excel(\n",
    "    \"gs://calitp-analytics-data/data-analyses/tircp/zev_manual.xlsx\",\n",
    "    sheet_name=sheets_list,\n",
    ")"
   ]
  },
  {
   "cell_type": "code",
   "execution_count": 25,
   "id": "e57a1394-fd3c-4906-8ee0-0ddbc2e4c4c2",
   "metadata": {},
   "outputs": [],
   "source": [
    "# Grab each sheet\n",
    "lctop_clean = to_snakecase(dict_df1.get(\"lctop\"))\n",
    "tircp_clean = to_snakecase(dict_df1.get(\"tircp\"))"
   ]
  },
  {
   "cell_type": "markdown",
   "id": "c6ba5966-b1e0-4b07-8718-d573764de145",
   "metadata": {},
   "source": [
    "### TIRCP"
   ]
  },
  {
   "cell_type": "code",
   "execution_count": 26,
   "id": "11e5ed83-6662-4508-ade4-89682326f0ee",
   "metadata": {},
   "outputs": [],
   "source": [
    "tircp_sum = [\"tircp\", \"number_of_zev\"]\n",
    "tircp_count = [\"title\"]\n",
    "tircp_group = [\"award_year\"]\n",
    "tircp_mon = [\"tircp\"]"
   ]
  },
  {
   "cell_type": "code",
   "execution_count": 36,
   "id": "425dbdda-0002-4279-b28a-b44ff31f985c",
   "metadata": {},
   "outputs": [],
   "source": [
    "def zev_summary(\n",
    "    df_zev,\n",
    "    df_all_projects,\n",
    "    group_by_cols: list,\n",
    "    sum_cols: list,\n",
    "    count_cols: list,\n",
    "    monetary_cols: list,\n",
    "):\n",
    "    # Group by\n",
    "    zev_summary = df_zev.groupby(group_by_cols).agg(\n",
    "        {**{e: \"sum\" for e in sum_cols}, **{e: \"count\" for e in count_cols}}\n",
    "    )\n",
    "\n",
    "    zev_summary = zev_summary.reset_index()\n",
    "\n",
    "    # Aggregate ALL projects in grant program\n",
    "    all_projects = (\n",
    "        df_all_projects.groupby(group_by_cols)\n",
    "        .agg({**{e: \"count\" for e in count_cols}})\n",
    "        .reset_index()\n",
    "    )\n",
    "\n",
    "    # Merge the summaries together to calculate % of zev projects out of total projects\n",
    "    m1 = pd.merge(zev_summary, all_projects, how=\"inner\", on=group_by_cols)\n",
    "\n",
    "    # Get grand totals\n",
    "    m1 = m1.append(m1.sum(numeric_only=True), ignore_index=True)\n",
    "\n",
    "    # Format to currency\n",
    "    m1 = A1_data_prep.currency_format(m1, monetary_cols)\n",
    "\n",
    "    # Clean cols\n",
    "    m1 = A1_data_prep.clean_up_columns(m1)\n",
    "\n",
    "    return m1"
   ]
  },
  {
   "cell_type": "code",
   "execution_count": 37,
   "id": "e9e5a581-3a7f-45b7-8815-10ead729a5ab",
   "metadata": {},
   "outputs": [
    {
     "name": "stderr",
     "output_type": "stream",
     "text": [
      "/tmp/ipykernel_2130/749631319.py:27: FutureWarning: The frame.append method is deprecated and will be removed from pandas in a future version. Use pandas.concat instead.\n"
     ]
    }
   ],
   "source": [
    "tircp_summary = zev_summary(tircp_clean, df_tircp, tircp_group, tircp_sum, tircp_count,tircp_mon)"
   ]
  },
  {
   "cell_type": "code",
   "execution_count": 38,
   "id": "0d8b9d0b-37d9-49a6-a4ca-f892114bcf09",
   "metadata": {},
   "outputs": [],
   "source": [
    "tircp_summary[\"Percent of Projects that are ZEV Adjacent\"] = (\n",
    "    tircp_summary[\"Title X\"] / tircp_summary[\"Title Y\"]\n",
    ")"
   ]
  },
  {
   "cell_type": "code",
   "execution_count": 39,
   "id": "1141e310-5a0d-430b-8dfe-fc6337bd6492",
   "metadata": {},
   "outputs": [],
   "source": [
    "tircp_summary = tircp_summary.drop(columns=\"Title Y\").rename(\n",
    "    columns={\"Title X\": \"Total ZEV Projects\", \"Number Of Zev\": \"Total ZEV\"}\n",
    ")"
   ]
  },
  {
   "cell_type": "code",
   "execution_count": 40,
   "id": "021939be-ccb8-406d-ad9b-ab16f0f5b787",
   "metadata": {},
   "outputs": [
    {
     "data": {
      "text/html": [
       "<div>\n",
       "<style scoped>\n",
       "    .dataframe tbody tr th:only-of-type {\n",
       "        vertical-align: middle;\n",
       "    }\n",
       "\n",
       "    .dataframe tbody tr th {\n",
       "        vertical-align: top;\n",
       "    }\n",
       "\n",
       "    .dataframe thead th {\n",
       "        text-align: right;\n",
       "    }\n",
       "</style>\n",
       "<table border=\"1\" class=\"dataframe\">\n",
       "  <thead>\n",
       "    <tr style=\"text-align: right;\">\n",
       "      <th></th>\n",
       "      <th>Award Year</th>\n",
       "      <th>Tircp</th>\n",
       "      <th>Total ZEV</th>\n",
       "      <th>Total ZEV Projects</th>\n",
       "      <th>Percent of Projects that are ZEV Adjacent</th>\n",
       "    </tr>\n",
       "  </thead>\n",
       "  <tbody>\n",
       "    <tr>\n",
       "      <th>0</th>\n",
       "      <td>2015</td>\n",
       "      <td>$74745000.0</td>\n",
       "      <td>54</td>\n",
       "      <td>4</td>\n",
       "      <td>0.29</td>\n",
       "    </tr>\n",
       "    <tr>\n",
       "      <th>1</th>\n",
       "      <td>2016</td>\n",
       "      <td>$41930000.0</td>\n",
       "      <td>2</td>\n",
       "      <td>3</td>\n",
       "      <td>0.21</td>\n",
       "    </tr>\n",
       "    <tr>\n",
       "      <th>2</th>\n",
       "      <td>2018</td>\n",
       "      <td>$386220000.0</td>\n",
       "      <td>209</td>\n",
       "      <td>13</td>\n",
       "      <td>0.46</td>\n",
       "    </tr>\n",
       "    <tr>\n",
       "      <th>3</th>\n",
       "      <td>2020</td>\n",
       "      <td>$247425000.0</td>\n",
       "      <td>39</td>\n",
       "      <td>9</td>\n",
       "      <td>0.53</td>\n",
       "    </tr>\n",
       "    <tr>\n",
       "      <th>4</th>\n",
       "      <td>2022</td>\n",
       "      <td>$439762000.0</td>\n",
       "      <td>450</td>\n",
       "      <td>15</td>\n",
       "      <td>0.65</td>\n",
       "    </tr>\n",
       "    <tr>\n",
       "      <th>5</th>\n",
       "      <td>10091</td>\n",
       "      <td>$1190082000.0</td>\n",
       "      <td>754</td>\n",
       "      <td>44</td>\n",
       "      <td>0.46</td>\n",
       "    </tr>\n",
       "  </tbody>\n",
       "</table>\n",
       "</div>"
      ],
      "text/plain": [
       "   Award Year          Tircp  Total ZEV  Total ZEV Projects  \\\n",
       "0        2015    $74745000.0         54                   4   \n",
       "1        2016    $41930000.0          2                   3   \n",
       "2        2018   $386220000.0        209                  13   \n",
       "3        2020   $247425000.0         39                   9   \n",
       "4        2022   $439762000.0        450                  15   \n",
       "5       10091  $1190082000.0        754                  44   \n",
       "\n",
       "   Percent of Projects that are ZEV Adjacent  \n",
       "0                                       0.29  \n",
       "1                                       0.21  \n",
       "2                                       0.46  \n",
       "3                                       0.53  \n",
       "4                                       0.65  \n",
       "5                                       0.46  "
      ]
     },
     "execution_count": 40,
     "metadata": {},
     "output_type": "execute_result"
    }
   ],
   "source": [
    "tircp_summary"
   ]
  },
  {
   "cell_type": "markdown",
   "id": "7c22863e-0bde-47a4-8431-acf189cbd5db",
   "metadata": {},
   "source": [
    "### LCTOP"
   ]
  },
  {
   "cell_type": "code",
   "execution_count": 41,
   "id": "e4e6fb13-2de6-4d34-b908-52d964d9e7ff",
   "metadata": {},
   "outputs": [],
   "source": [
    "lctop_count = [\"project_sub_type_ii\"]\n",
    "lctop_group = [\"funding_year\"]\n",
    "lctop_sum = [\n",
    "    \"puc_99313_funds\",\n",
    "    \"puc_99314_funds\",\n",
    "    \"total_project_request_99314_+_99313\",\n",
    "    \"total_cci_funds\",\n",
    "    \"total_lctop_funds\",\n",
    "    \"total_project_cost\",\n",
    "    \"number_of_zev\",\n",
    "]\n",
    "lctop_monetary = [\n",
    "    \"puc_99313_funds\",\n",
    "    \"puc_99314_funds\",\n",
    "    \"total_project_request_99314_+_99313\",\n",
    "    \"total_cci_funds\",\n",
    "    \"total_lctop_funds\",\n",
    "    \"total_project_cost\",\n",
    "]"
   ]
  },
  {
   "cell_type": "code",
   "execution_count": 42,
   "id": "5b98ce90-9a52-426c-863c-172556e6455d",
   "metadata": {},
   "outputs": [
    {
     "name": "stderr",
     "output_type": "stream",
     "text": [
      "/tmp/ipykernel_2130/749631319.py:27: FutureWarning: The frame.append method is deprecated and will be removed from pandas in a future version. Use pandas.concat instead.\n"
     ]
    }
   ],
   "source": [
    "lctop_summary = zev_summary(lctop_clean, df_lctop2, lctop_group, lctop_sum, lctop_count, lctop_monetary)"
   ]
  },
  {
   "cell_type": "code",
   "execution_count": 43,
   "id": "717fc07d-257a-419d-9f4d-07a5725ddc2a",
   "metadata": {},
   "outputs": [],
   "source": [
    "lctop_summary[\"Percent of Projects that are ZEV Adjacent\"] = (\n",
    "    lctop_summary[\"Sub Type Ii X\"] / lctop_summary[\"Sub Type Ii Y\"]\n",
    ")"
   ]
  },
  {
   "cell_type": "code",
   "execution_count": 44,
   "id": "c1eac014-c33d-4cef-b2cc-96daa266a009",
   "metadata": {},
   "outputs": [],
   "source": [
    "lctop_summary = lctop_summary.drop(columns=[\"Sub Type Ii Y\"]).rename(\n",
    "    columns={\"Number Of Zev\": \"Total ZEV\", \"Sub Type Ii X\": \"Total ZEV Projects\"}\n",
    ")"
   ]
  },
  {
   "cell_type": "code",
   "execution_count": 45,
   "id": "6e65c195-0db4-4284-8f02-80247bb353ee",
   "metadata": {},
   "outputs": [],
   "source": [
    "# lctop_summary = A1_data_prep.currency_format(lctop_summary, lctop_monetary)"
   ]
  },
  {
   "cell_type": "code",
   "execution_count": 46,
   "id": "b4292f50-645f-4235-9d4a-d6aa72f9a31d",
   "metadata": {},
   "outputs": [
    {
     "data": {
      "text/html": [
       "<div>\n",
       "<style scoped>\n",
       "    .dataframe tbody tr th:only-of-type {\n",
       "        vertical-align: middle;\n",
       "    }\n",
       "\n",
       "    .dataframe tbody tr th {\n",
       "        vertical-align: top;\n",
       "    }\n",
       "\n",
       "    .dataframe thead th {\n",
       "        text-align: right;\n",
       "    }\n",
       "</style>\n",
       "<table border=\"1\" class=\"dataframe\">\n",
       "  <thead>\n",
       "    <tr style=\"text-align: right;\">\n",
       "      <th></th>\n",
       "      <th>Funding Year</th>\n",
       "      <th>Puc 99313 Funds</th>\n",
       "      <th>Puc 99314 Funds</th>\n",
       "      <th>Total  Request 99314 + 99313</th>\n",
       "      <th>Total Cci Funds</th>\n",
       "      <th>Total Lctop Funds</th>\n",
       "      <th>Total  Cost</th>\n",
       "      <th>Total ZEV</th>\n",
       "      <th>Total ZEV Projects</th>\n",
       "      <th>Percent of Projects that are ZEV Adjacent</th>\n",
       "    </tr>\n",
       "  </thead>\n",
       "  <tbody>\n",
       "    <tr>\n",
       "      <th>0</th>\n",
       "      <td>14-15</td>\n",
       "      <td>$471384.0</td>\n",
       "      <td>$86363.0</td>\n",
       "      <td>$557747.0</td>\n",
       "      <td>$0.0</td>\n",
       "      <td>$0.0</td>\n",
       "      <td>$0.0</td>\n",
       "      <td>0.00</td>\n",
       "      <td>6.00</td>\n",
       "      <td>0.06</td>\n",
       "    </tr>\n",
       "    <tr>\n",
       "      <th>1</th>\n",
       "      <td>15-16</td>\n",
       "      <td>$6369789.0</td>\n",
       "      <td>$13968572.0</td>\n",
       "      <td>$20338361.0</td>\n",
       "      <td>$0.0</td>\n",
       "      <td>$0.0</td>\n",
       "      <td>$127797962.0</td>\n",
       "      <td>73.00</td>\n",
       "      <td>20.00</td>\n",
       "      <td>0.15</td>\n",
       "    </tr>\n",
       "    <tr>\n",
       "      <th>2</th>\n",
       "      <td>16-17</td>\n",
       "      <td>$2356132.0</td>\n",
       "      <td>$5896335.0</td>\n",
       "      <td>$8252467.0</td>\n",
       "      <td>$96361014.0</td>\n",
       "      <td>$48464014.0</td>\n",
       "      <td>$2134159974.0</td>\n",
       "      <td>144.00</td>\n",
       "      <td>17.00</td>\n",
       "      <td>0.13</td>\n",
       "    </tr>\n",
       "    <tr>\n",
       "      <th>3</th>\n",
       "      <td>17-18</td>\n",
       "      <td>$9035292.0</td>\n",
       "      <td>$16542610.0</td>\n",
       "      <td>$25577902.0</td>\n",
       "      <td>$135629460.0</td>\n",
       "      <td>$68958118.0</td>\n",
       "      <td>$2251368555.0</td>\n",
       "      <td>166.00</td>\n",
       "      <td>33.00</td>\n",
       "      <td>0.22</td>\n",
       "    </tr>\n",
       "    <tr>\n",
       "      <th>4</th>\n",
       "      <td>18-19</td>\n",
       "      <td>$15791003.0</td>\n",
       "      <td>$22470451.0</td>\n",
       "      <td>$38261454.0</td>\n",
       "      <td>$125282499.0</td>\n",
       "      <td>$85768916.0</td>\n",
       "      <td>$2224989656.0</td>\n",
       "      <td>179.00</td>\n",
       "      <td>36.00</td>\n",
       "      <td>0.20</td>\n",
       "    </tr>\n",
       "    <tr>\n",
       "      <th>5</th>\n",
       "      <td>19-20</td>\n",
       "      <td>$17974901.0</td>\n",
       "      <td>$8261581.0</td>\n",
       "      <td>$26236482.0</td>\n",
       "      <td>$123509258.0</td>\n",
       "      <td>$105699301.0</td>\n",
       "      <td>$199976608.0</td>\n",
       "      <td>148.00</td>\n",
       "      <td>40.00</td>\n",
       "      <td>0.24</td>\n",
       "    </tr>\n",
       "    <tr>\n",
       "      <th>6</th>\n",
       "      <td>NaN</td>\n",
       "      <td>$51998501.0</td>\n",
       "      <td>$67225912.0</td>\n",
       "      <td>$119224412.0</td>\n",
       "      <td>$480782231.0</td>\n",
       "      <td>$308890349.0</td>\n",
       "      <td>$6938292755.0</td>\n",
       "      <td>710.00</td>\n",
       "      <td>152.00</td>\n",
       "      <td>0.18</td>\n",
       "    </tr>\n",
       "  </tbody>\n",
       "</table>\n",
       "</div>"
      ],
      "text/plain": [
       "  Funding Year Puc 99313 Funds Puc 99314 Funds Total  Request 99314 + 99313  \\\n",
       "0        14-15       $471384.0        $86363.0                    $557747.0   \n",
       "1        15-16      $6369789.0     $13968572.0                  $20338361.0   \n",
       "2        16-17      $2356132.0      $5896335.0                   $8252467.0   \n",
       "3        17-18      $9035292.0     $16542610.0                  $25577902.0   \n",
       "4        18-19     $15791003.0     $22470451.0                  $38261454.0   \n",
       "5        19-20     $17974901.0      $8261581.0                  $26236482.0   \n",
       "6          NaN     $51998501.0     $67225912.0                 $119224412.0   \n",
       "\n",
       "  Total Cci Funds Total Lctop Funds    Total  Cost  Total ZEV  \\\n",
       "0            $0.0              $0.0           $0.0       0.00   \n",
       "1            $0.0              $0.0   $127797962.0      73.00   \n",
       "2     $96361014.0       $48464014.0  $2134159974.0     144.00   \n",
       "3    $135629460.0       $68958118.0  $2251368555.0     166.00   \n",
       "4    $125282499.0       $85768916.0  $2224989656.0     179.00   \n",
       "5    $123509258.0      $105699301.0   $199976608.0     148.00   \n",
       "6    $480782231.0      $308890349.0  $6938292755.0     710.00   \n",
       "\n",
       "   Total ZEV Projects  Percent of Projects that are ZEV Adjacent  \n",
       "0                6.00                                       0.06  \n",
       "1               20.00                                       0.15  \n",
       "2               17.00                                       0.13  \n",
       "3               33.00                                       0.22  \n",
       "4               36.00                                       0.20  \n",
       "5               40.00                                       0.24  \n",
       "6              152.00                                       0.18  "
      ]
     },
     "execution_count": 46,
     "metadata": {},
     "output_type": "execute_result"
    }
   ],
   "source": [
    "lctop_summary"
   ]
  },
  {
   "cell_type": "markdown",
   "id": "2e086888-0b8a-424d-9068-124f6f146b93",
   "metadata": {},
   "source": [
    "## Applicants"
   ]
  },
  {
   "cell_type": "code",
   "execution_count": 55,
   "id": "fd87bed0-ac51-4618-85ef-0c02bdd2fb87",
   "metadata": {
    "tags": []
   },
   "outputs": [
    {
     "data": {
      "text/html": [
       "<div>\n",
       "<style scoped>\n",
       "    .dataframe tbody tr th:only-of-type {\n",
       "        vertical-align: middle;\n",
       "    }\n",
       "\n",
       "    .dataframe tbody tr th {\n",
       "        vertical-align: top;\n",
       "    }\n",
       "\n",
       "    .dataframe thead th {\n",
       "        text-align: right;\n",
       "    }\n",
       "</style>\n",
       "<table border=\"1\" class=\"dataframe\">\n",
       "  <thead>\n",
       "    <tr style=\"text-align: right;\">\n",
       "      <th></th>\n",
       "      <th>lead_agency</th>\n",
       "      <th>number_of_zev</th>\n",
       "    </tr>\n",
       "  </thead>\n",
       "  <tbody>\n",
       "    <tr>\n",
       "      <th>22</th>\n",
       "      <td>Golden Gate Bridge Highway and Transportation District</td>\n",
       "      <td>197</td>\n",
       "    </tr>\n",
       "    <tr>\n",
       "      <th>44</th>\n",
       "      <td>San Diego Metropolitan Transit System</td>\n",
       "      <td>68</td>\n",
       "    </tr>\n",
       "    <tr>\n",
       "      <th>50</th>\n",
       "      <td>Santa Clara Valley Transportation Authority</td>\n",
       "      <td>57</td>\n",
       "    </tr>\n",
       "    <tr>\n",
       "      <th>55</th>\n",
       "      <td>Sonoma County Transit</td>\n",
       "      <td>53</td>\n",
       "    </tr>\n",
       "    <tr>\n",
       "      <th>36</th>\n",
       "      <td>North County Transit District</td>\n",
       "      <td>28</td>\n",
       "    </tr>\n",
       "    <tr>\n",
       "      <th>48</th>\n",
       "      <td>San Mateo County Transit District</td>\n",
       "      <td>19</td>\n",
       "    </tr>\n",
       "    <tr>\n",
       "      <th>66</th>\n",
       "      <td>Yolo County Transportation District</td>\n",
       "      <td>16</td>\n",
       "    </tr>\n",
       "    <tr>\n",
       "      <th>34</th>\n",
       "      <td>Napa Valley Transportation Authority</td>\n",
       "      <td>14</td>\n",
       "    </tr>\n",
       "    <tr>\n",
       "      <th>26</th>\n",
       "      <td>Livermore Amador Valley Transit Authority</td>\n",
       "      <td>14</td>\n",
       "    </tr>\n",
       "    <tr>\n",
       "      <th>18</th>\n",
       "      <td>Fresno County Rural Transit</td>\n",
       "      <td>14</td>\n",
       "    </tr>\n",
       "  </tbody>\n",
       "</table>\n",
       "</div>"
      ],
      "text/plain": [
       "                                               lead_agency  number_of_zev\n",
       "22  Golden Gate Bridge Highway and Transportation District            197\n",
       "44                   San Diego Metropolitan Transit System             68\n",
       "50             Santa Clara Valley Transportation Authority             57\n",
       "55                                   Sonoma County Transit             53\n",
       "36                           North County Transit District             28\n",
       "48                       San Mateo County Transit District             19\n",
       "66                     Yolo County Transportation District             16\n",
       "34                    Napa Valley Transportation Authority             14\n",
       "26               Livermore Amador Valley Transit Authority             14\n",
       "18                             Fresno County Rural Transit             14"
      ]
     },
     "execution_count": 55,
     "metadata": {},
     "output_type": "execute_result"
    }
   ],
   "source": [
    "lctop_clean.groupby(['lead_agency']).agg({'number_of_zev':'sum'}).reset_index().sort_values('number_of_zev', ascending = False).head(10)"
   ]
  },
  {
   "cell_type": "code",
   "execution_count": 87,
   "id": "6cfa7499-0eba-412c-b7be-92399977be13",
   "metadata": {},
   "outputs": [
    {
     "data": {
      "text/html": [
       "<div>\n",
       "<style scoped>\n",
       "    .dataframe tbody tr th:only-of-type {\n",
       "        vertical-align: middle;\n",
       "    }\n",
       "\n",
       "    .dataframe tbody tr th {\n",
       "        vertical-align: top;\n",
       "    }\n",
       "\n",
       "    .dataframe thead th {\n",
       "        text-align: right;\n",
       "    }\n",
       "</style>\n",
       "<table border=\"1\" class=\"dataframe\">\n",
       "  <thead>\n",
       "    <tr style=\"text-align: right;\">\n",
       "      <th></th>\n",
       "      <th>award_year</th>\n",
       "      <th>grant_recipient</th>\n",
       "      <th>number_of_zev</th>\n",
       "      <th>tircp</th>\n",
       "    </tr>\n",
       "  </thead>\n",
       "  <tbody>\n",
       "    <tr>\n",
       "      <th>0</th>\n",
       "      <td>2015</td>\n",
       "      <td>Antelope Valley Transit Authority</td>\n",
       "      <td>29</td>\n",
       "      <td>24403000</td>\n",
       "    </tr>\n",
       "    <tr>\n",
       "      <th>1</th>\n",
       "      <td>2015</td>\n",
       "      <td>Orange County Transportation Authority</td>\n",
       "      <td>5</td>\n",
       "      <td>2320000</td>\n",
       "    </tr>\n",
       "    <tr>\n",
       "      <th>3</th>\n",
       "      <td>2015</td>\n",
       "      <td>San Joaquin Regional Transit District</td>\n",
       "      <td>12</td>\n",
       "      <td>6841000</td>\n",
       "    </tr>\n",
       "    <tr>\n",
       "      <th>4</th>\n",
       "      <td>2016</td>\n",
       "      <td>Antelope Valley Transit Authority</td>\n",
       "      <td>0</td>\n",
       "      <td>8930000</td>\n",
       "    </tr>\n",
       "    <tr>\n",
       "      <th>6</th>\n",
       "      <td>2016</td>\n",
       "      <td>Orange County Transportation Authority</td>\n",
       "      <td>0</td>\n",
       "      <td>28000000</td>\n",
       "    </tr>\n",
       "    <tr>\n",
       "      <th>8</th>\n",
       "      <td>2018</td>\n",
       "      <td>Anaheim Transportation Network</td>\n",
       "      <td>40</td>\n",
       "      <td>28617000</td>\n",
       "    </tr>\n",
       "    <tr>\n",
       "      <th>17</th>\n",
       "      <td>2018</td>\n",
       "      <td>Santa Barbara County Association Of Governments</td>\n",
       "      <td>5</td>\n",
       "      <td>9600000</td>\n",
       "    </tr>\n",
       "  </tbody>\n",
       "</table>\n",
       "</div>"
      ],
      "text/plain": [
       "    award_year                                  grant_recipient  \\\n",
       "0         2015                Antelope Valley Transit Authority   \n",
       "1         2015           Orange County Transportation Authority   \n",
       "3         2015            San Joaquin Regional Transit District   \n",
       "4         2016                Antelope Valley Transit Authority   \n",
       "6         2016           Orange County Transportation Authority   \n",
       "8         2018                   Anaheim Transportation Network   \n",
       "17        2018  Santa Barbara County Association Of Governments   \n",
       "\n",
       "    number_of_zev     tircp  \n",
       "0              29  24403000  \n",
       "1               5   2320000  \n",
       "3              12   6841000  \n",
       "4               0   8930000  \n",
       "6               0  28000000  \n",
       "8              40  28617000  \n",
       "17              5   9600000  "
      ]
     },
     "execution_count": 87,
     "metadata": {},
     "output_type": "execute_result"
    }
   ],
   "source": [
    "tircp_zev_done = (tircp_clean.loc[tircp_clean['progress'] == '100% of allocated funds spent'])\n",
    "tircp_zev_done[['award_year','grant_recipient','number_of_zev','tircp']]"
   ]
  },
  {
   "cell_type": "code",
   "execution_count": 88,
   "id": "5fdde871-b3ca-46b7-92f5-7da83d325660",
   "metadata": {},
   "outputs": [
    {
     "data": {
      "text/plain": [
       "'91 ZEV already purchased and 108711000 spent'"
      ]
     },
     "execution_count": 88,
     "metadata": {},
     "output_type": "execute_result"
    }
   ],
   "source": [
    "f'{tircp_zev_done.number_of_zev.sum()} ZEV already purchased and {tircp_zev_done.tircp.sum()} spent'"
   ]
  },
  {
   "cell_type": "code",
   "execution_count": 95,
   "id": "b79df1a6-586c-4242-a1fe-c0c67ba76863",
   "metadata": {},
   "outputs": [
    {
     "data": {
      "text/plain": [
       "No expenditures recorded         26\n",
       "100% of allocated funds spent     7\n",
       "Behind                            5\n",
       "On Track                          3\n",
       "Ahead                             3\n",
       "Name: progress, dtype: int64"
      ]
     },
     "execution_count": 95,
     "metadata": {},
     "output_type": "execute_result"
    }
   ],
   "source": [
    "tircp_clean['progress'].value_counts()"
   ]
  },
  {
   "cell_type": "code",
   "execution_count": 96,
   "id": "a24f029a-6d3e-466b-8205-de9e645d8ef4",
   "metadata": {
    "scrolled": true,
    "tags": []
   },
   "outputs": [],
   "source": [
    "tircp_zev_pipeline =  tircp_clean[tircp_clean[\"progress\"].isin([\"No expenditures recorded\", \"Behind\"])]"
   ]
  },
  {
   "cell_type": "code",
   "execution_count": 97,
   "id": "dee2183e-8411-475a-a503-9883ea39011b",
   "metadata": {
    "scrolled": true,
    "tags": []
   },
   "outputs": [
    {
     "data": {
      "text/html": [
       "<div>\n",
       "<style scoped>\n",
       "    .dataframe tbody tr th:only-of-type {\n",
       "        vertical-align: middle;\n",
       "    }\n",
       "\n",
       "    .dataframe tbody tr th {\n",
       "        vertical-align: top;\n",
       "    }\n",
       "\n",
       "    .dataframe thead th {\n",
       "        text-align: right;\n",
       "    }\n",
       "</style>\n",
       "<table border=\"1\" class=\"dataframe\">\n",
       "  <thead>\n",
       "    <tr style=\"text-align: right;\">\n",
       "      <th></th>\n",
       "      <th></th>\n",
       "      <th>number_of_zev</th>\n",
       "      <th>tircp</th>\n",
       "    </tr>\n",
       "    <tr>\n",
       "      <th>grant_recipient</th>\n",
       "      <th>award_year</th>\n",
       "      <th></th>\n",
       "      <th></th>\n",
       "    </tr>\n",
       "  </thead>\n",
       "  <tbody>\n",
       "    <tr>\n",
       "      <th>Alameda Contra Costa Transit District</th>\n",
       "      <th>2018</th>\n",
       "      <td>0</td>\n",
       "      <td>14000000</td>\n",
       "    </tr>\n",
       "    <tr>\n",
       "      <th>Anaheim Transportation Network</th>\n",
       "      <th>2022</th>\n",
       "      <td>42</td>\n",
       "      <td>22778000</td>\n",
       "    </tr>\n",
       "    <tr>\n",
       "      <th rowspan=\"2\" valign=\"top\">Antelope Valley Transit Authority</th>\n",
       "      <th>2020</th>\n",
       "      <td>11</td>\n",
       "      <td>6503000</td>\n",
       "    </tr>\n",
       "    <tr>\n",
       "      <th>2022</th>\n",
       "      <td>6</td>\n",
       "      <td>4829000</td>\n",
       "    </tr>\n",
       "    <tr>\n",
       "      <th>City Of Cupertino</th>\n",
       "      <th>2022</th>\n",
       "      <td>12</td>\n",
       "      <td>8465000</td>\n",
       "    </tr>\n",
       "    <tr>\n",
       "      <th>City Of Fresno</th>\n",
       "      <th>2018</th>\n",
       "      <td>6</td>\n",
       "      <td>7798000</td>\n",
       "    </tr>\n",
       "    <tr>\n",
       "      <th>City Of Glendale And Arroyo Verdugo Communities</th>\n",
       "      <th>2022</th>\n",
       "      <td>27</td>\n",
       "      <td>34648000</td>\n",
       "    </tr>\n",
       "    <tr>\n",
       "      <th>City Of Los Angeles</th>\n",
       "      <th>2018</th>\n",
       "      <td>112</td>\n",
       "      <td>36104000</td>\n",
       "    </tr>\n",
       "    <tr>\n",
       "      <th>City Of Santa Monica</th>\n",
       "      <th>2018</th>\n",
       "      <td>10</td>\n",
       "      <td>3050000</td>\n",
       "    </tr>\n",
       "    <tr>\n",
       "      <th>City Of Torrance</th>\n",
       "      <th>2022</th>\n",
       "      <td>10</td>\n",
       "      <td>9600000</td>\n",
       "    </tr>\n",
       "    <tr>\n",
       "      <th>City Of Wasco</th>\n",
       "      <th>2022</th>\n",
       "      <td>3</td>\n",
       "      <td>1000000</td>\n",
       "    </tr>\n",
       "    <tr>\n",
       "      <th>Contra Costa Transportation Authority</th>\n",
       "      <th>2022</th>\n",
       "      <td>1</td>\n",
       "      <td>14460000</td>\n",
       "    </tr>\n",
       "    <tr>\n",
       "      <th>Foothill Transit</th>\n",
       "      <th>2016</th>\n",
       "      <td>2</td>\n",
       "      <td>5000000</td>\n",
       "    </tr>\n",
       "    <tr>\n",
       "      <th>Fresno County Rural Transit Agency</th>\n",
       "      <th>2022</th>\n",
       "      <td>4</td>\n",
       "      <td>6175000</td>\n",
       "    </tr>\n",
       "    <tr>\n",
       "      <th>Humboldt Transit Authority</th>\n",
       "      <th>2022</th>\n",
       "      <td>11</td>\n",
       "      <td>38743000</td>\n",
       "    </tr>\n",
       "    <tr>\n",
       "      <th>La County Metropolitan Transportation Authority</th>\n",
       "      <th>2020</th>\n",
       "      <td>0</td>\n",
       "      <td>107000000</td>\n",
       "    </tr>\n",
       "    <tr>\n",
       "      <th>Lake Transit Authority</th>\n",
       "      <th>2020</th>\n",
       "      <td>4</td>\n",
       "      <td>12994000</td>\n",
       "    </tr>\n",
       "    <tr>\n",
       "      <th>Long Beach Transit</th>\n",
       "      <th>2020</th>\n",
       "      <td>5</td>\n",
       "      <td>6451000</td>\n",
       "    </tr>\n",
       "    <tr>\n",
       "      <th>Los Angeles County Metropolitan Transportation</th>\n",
       "      <th>2022</th>\n",
       "      <td>261</td>\n",
       "      <td>177500000</td>\n",
       "    </tr>\n",
       "    <tr>\n",
       "      <th>San Diego Metropolitan Transit System</th>\n",
       "      <th>2018</th>\n",
       "      <td>15</td>\n",
       "      <td>40098000</td>\n",
       "    </tr>\n",
       "    <tr>\n",
       "      <th>San Diego Metropolitan Trasit System</th>\n",
       "      <th>2022</th>\n",
       "      <td>0</td>\n",
       "      <td>33544000</td>\n",
       "    </tr>\n",
       "    <tr>\n",
       "      <th rowspan=\"2\" valign=\"top\">San Francisco Bay Area Water Emergency Transportation Authority</th>\n",
       "      <th>2020</th>\n",
       "      <td>1</td>\n",
       "      <td>9060000</td>\n",
       "    </tr>\n",
       "    <tr>\n",
       "      <th>2022</th>\n",
       "      <td>2</td>\n",
       "      <td>14946000</td>\n",
       "    </tr>\n",
       "    <tr>\n",
       "      <th>San Francisco Municipal Transportation Agency</th>\n",
       "      <th>2015</th>\n",
       "      <td>8</td>\n",
       "      <td>41181000</td>\n",
       "    </tr>\n",
       "    <tr>\n",
       "      <th>San Mateo County Transit District</th>\n",
       "      <th>2018</th>\n",
       "      <td>0</td>\n",
       "      <td>15000000</td>\n",
       "    </tr>\n",
       "    <tr>\n",
       "      <th>Santa Barbara Metropolitan Transit District</th>\n",
       "      <th>2022</th>\n",
       "      <td>11</td>\n",
       "      <td>14480000</td>\n",
       "    </tr>\n",
       "    <tr>\n",
       "      <th>Santa Monica Big Blue Bus</th>\n",
       "      <th>2020</th>\n",
       "      <td>7</td>\n",
       "      <td>1105000</td>\n",
       "    </tr>\n",
       "    <tr>\n",
       "      <th>Sonoma County Transportation Authority</th>\n",
       "      <th>2022</th>\n",
       "      <td>30</td>\n",
       "      <td>24825000</td>\n",
       "    </tr>\n",
       "    <tr>\n",
       "      <th>Torrance Transit Department</th>\n",
       "      <th>2020</th>\n",
       "      <td>7</td>\n",
       "      <td>6000000</td>\n",
       "    </tr>\n",
       "    <tr>\n",
       "      <th>Transit Joint Powers Authority Of Merced County</th>\n",
       "      <th>2020</th>\n",
       "      <td>3</td>\n",
       "      <td>3112000</td>\n",
       "    </tr>\n",
       "    <tr>\n",
       "      <th>Tulare County Regional Transit Agency</th>\n",
       "      <th>2022</th>\n",
       "      <td>30</td>\n",
       "      <td>33769000</td>\n",
       "    </tr>\n",
       "  </tbody>\n",
       "</table>\n",
       "</div>"
      ],
      "text/plain": [
       "                                                                            number_of_zev  \\\n",
       "grant_recipient                                                 award_year                  \n",
       "Alameda Contra Costa Transit District                           2018                    0   \n",
       "Anaheim Transportation Network                                  2022                   42   \n",
       "Antelope Valley Transit Authority                               2020                   11   \n",
       "                                                                2022                    6   \n",
       "City Of Cupertino                                               2022                   12   \n",
       "City Of Fresno                                                  2018                    6   \n",
       "City Of Glendale And Arroyo Verdugo Communities                 2022                   27   \n",
       "City Of Los Angeles                                             2018                  112   \n",
       "City Of Santa Monica                                            2018                   10   \n",
       "City Of Torrance                                                2022                   10   \n",
       "City Of Wasco                                                   2022                    3   \n",
       "Contra Costa Transportation Authority                           2022                    1   \n",
       "Foothill Transit                                                2016                    2   \n",
       "Fresno County Rural Transit Agency                              2022                    4   \n",
       "Humboldt Transit Authority                                      2022                   11   \n",
       "La County Metropolitan Transportation Authority                 2020                    0   \n",
       "Lake Transit Authority                                          2020                    4   \n",
       "Long Beach Transit                                              2020                    5   \n",
       "Los Angeles County Metropolitan Transportation                  2022                  261   \n",
       "San Diego Metropolitan Transit System                           2018                   15   \n",
       "San Diego Metropolitan Trasit System                            2022                    0   \n",
       "San Francisco Bay Area Water Emergency Transportation Authority 2020                    1   \n",
       "                                                                2022                    2   \n",
       "San Francisco Municipal Transportation Agency                   2015                    8   \n",
       "San Mateo County Transit District                               2018                    0   \n",
       "Santa Barbara Metropolitan Transit District                     2022                   11   \n",
       "Santa Monica Big Blue Bus                                       2020                    7   \n",
       "Sonoma County Transportation Authority                          2022                   30   \n",
       "Torrance Transit Department                                     2020                    7   \n",
       "Transit Joint Powers Authority Of Merced County                 2020                    3   \n",
       "Tulare County Regional Transit Agency                           2022                   30   \n",
       "\n",
       "                                                                                tircp  \n",
       "grant_recipient                                                 award_year             \n",
       "Alameda Contra Costa Transit District                           2018         14000000  \n",
       "Anaheim Transportation Network                                  2022         22778000  \n",
       "Antelope Valley Transit Authority                               2020          6503000  \n",
       "                                                                2022          4829000  \n",
       "City Of Cupertino                                               2022          8465000  \n",
       "City Of Fresno                                                  2018          7798000  \n",
       "City Of Glendale And Arroyo Verdugo Communities                 2022         34648000  \n",
       "City Of Los Angeles                                             2018         36104000  \n",
       "City Of Santa Monica                                            2018          3050000  \n",
       "City Of Torrance                                                2022          9600000  \n",
       "City Of Wasco                                                   2022          1000000  \n",
       "Contra Costa Transportation Authority                           2022         14460000  \n",
       "Foothill Transit                                                2016          5000000  \n",
       "Fresno County Rural Transit Agency                              2022          6175000  \n",
       "Humboldt Transit Authority                                      2022         38743000  \n",
       "La County Metropolitan Transportation Authority                 2020        107000000  \n",
       "Lake Transit Authority                                          2020         12994000  \n",
       "Long Beach Transit                                              2020          6451000  \n",
       "Los Angeles County Metropolitan Transportation                  2022        177500000  \n",
       "San Diego Metropolitan Transit System                           2018         40098000  \n",
       "San Diego Metropolitan Trasit System                            2022         33544000  \n",
       "San Francisco Bay Area Water Emergency Transportation Authority 2020          9060000  \n",
       "                                                                2022         14946000  \n",
       "San Francisco Municipal Transportation Agency                   2015         41181000  \n",
       "San Mateo County Transit District                               2018         15000000  \n",
       "Santa Barbara Metropolitan Transit District                     2022         14480000  \n",
       "Santa Monica Big Blue Bus                                       2020          1105000  \n",
       "Sonoma County Transportation Authority                          2022         24825000  \n",
       "Torrance Transit Department                                     2020          6000000  \n",
       "Transit Joint Powers Authority Of Merced County                 2020          3112000  \n",
       "Tulare County Regional Transit Agency                           2022         33769000  "
      ]
     },
     "execution_count": 97,
     "metadata": {},
     "output_type": "execute_result"
    }
   ],
   "source": [
    "tircp_zev_pipeline.groupby(['grant_recipient', 'award_year']).agg({'number_of_zev':'sum','tircp':'sum'})"
   ]
  },
  {
   "cell_type": "code",
   "execution_count": 98,
   "id": "6db3e4eb-6d63-4e6e-a9da-4ca17ec6a6f2",
   "metadata": {
    "tags": []
   },
   "outputs": [
    {
     "data": {
      "text/plain": [
       "'641 ZEV in the pipeline to be purchased and 754218000 left to spend.'"
      ]
     },
     "execution_count": 98,
     "metadata": {},
     "output_type": "execute_result"
    }
   ],
   "source": [
    "f'{tircp_zev_pipeline.number_of_zev.sum()} ZEV in the pipeline to be purchased and {tircp_zev_pipeline.tircp.sum()} left to spend.'"
   ]
  }
 ],
 "metadata": {
  "kernelspec": {
   "display_name": "Python 3 (ipykernel)",
   "language": "python",
   "name": "python3"
  },
  "language_info": {
   "codemirror_mode": {
    "name": "ipython",
    "version": 3
   },
   "file_extension": ".py",
   "mimetype": "text/x-python",
   "name": "python",
   "nbconvert_exporter": "python",
   "pygments_lexer": "ipython3",
   "version": "3.10.5"
  }
 },
 "nbformat": 4,
 "nbformat_minor": 5
}
