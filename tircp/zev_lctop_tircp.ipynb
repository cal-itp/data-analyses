{
 "cells": [
  {
   "cell_type": "markdown",
   "id": "5880f41b-d13c-45e4-b184-bdb27a19a451",
   "metadata": {},
   "source": [
    "# ZEV purchased through LCTOP & TIRCP\n",
    "* An agency here is a recipient of LCTOP/TIRCP grants."
   ]
  },
  {
   "cell_type": "code",
   "execution_count": 1,
   "id": "bb2199a3-41a8-4a50-96e0-2efc264b6bbc",
   "metadata": {},
   "outputs": [
    {
     "name": "stderr",
     "output_type": "stream",
     "text": [
      "/opt/conda/lib/python3.10/site-packages/geopandas/_compat.py:112: UserWarning: The Shapely GEOS version (3.10.3-CAPI-1.16.1) is incompatible with the GEOS version PyGEOS was compiled with (3.10.1-CAPI-1.16.0). Conversions between both will be slow.\n"
     ]
    },
    {
     "ename": "ModuleNotFoundError",
     "evalue": "No module named 'rt_analysis'",
     "output_type": "error",
     "traceback": [
      "\u001b[0;31m---------------------------------------------------------------------------\u001b[0m",
      "\u001b[0;31mModuleNotFoundError\u001b[0m                       Traceback (most recent call last)",
      "Cell \u001b[0;32mIn [1], line 3\u001b[0m\n\u001b[1;32m      1\u001b[0m \u001b[38;5;28;01mimport\u001b[39;00m \u001b[38;5;21;01mA1_data_prep\u001b[39;00m\n\u001b[1;32m      2\u001b[0m \u001b[38;5;28;01mimport\u001b[39;00m \u001b[38;5;21;01mA2_tableau\u001b[39;00m\n\u001b[0;32m----> 3\u001b[0m \u001b[38;5;28;01mimport\u001b[39;00m \u001b[38;5;21;01mA7_other\u001b[39;00m\n\u001b[1;32m      4\u001b[0m \u001b[38;5;28;01mimport\u001b[39;00m \u001b[38;5;21;01mpandas\u001b[39;00m \u001b[38;5;28;01mas\u001b[39;00m \u001b[38;5;21;01mpd\u001b[39;00m\n\u001b[1;32m      5\u001b[0m \u001b[38;5;28;01mimport\u001b[39;00m \u001b[38;5;21;01mnumpy\u001b[39;00m \u001b[38;5;28;01mas\u001b[39;00m \u001b[38;5;21;01mnp\u001b[39;00m\n",
      "File \u001b[0;32m~/data-analyses/tircp/A7_other.py:6\u001b[0m\n\u001b[1;32m      3\u001b[0m \u001b[38;5;28;01mimport\u001b[39;00m \u001b[38;5;21;01mA1_data_prep\u001b[39;00m\n\u001b[1;32m      5\u001b[0m \u001b[38;5;28;01mimport\u001b[39;00m \u001b[38;5;21;01maltair\u001b[39;00m \u001b[38;5;28;01mas\u001b[39;00m \u001b[38;5;21;01malt\u001b[39;00m\n\u001b[0;32m----> 6\u001b[0m \u001b[38;5;28;01mfrom\u001b[39;00m \u001b[38;5;21;01mshared_utils\u001b[39;00m \u001b[38;5;28;01mimport\u001b[39;00m altair_utils\n\u001b[1;32m      7\u001b[0m \u001b[38;5;28;01mfrom\u001b[39;00m \u001b[38;5;21;01mshared_utils\u001b[39;00m \u001b[38;5;28;01mimport\u001b[39;00m calitp_color_palette \u001b[38;5;28;01mas\u001b[39;00m cp\n\u001b[1;32m      8\u001b[0m \u001b[38;5;28;01mfrom\u001b[39;00m \u001b[38;5;21;01mshared_utils\u001b[39;00m \u001b[38;5;28;01mimport\u001b[39;00m styleguide\n",
      "File \u001b[0;32m~/data-analyses/_shared_utils/shared_utils/__init__.py:1\u001b[0m\n\u001b[0;32m----> 1\u001b[0m \u001b[38;5;28;01mfrom\u001b[39;00m \u001b[38;5;21;01m.\u001b[39;00m \u001b[38;5;28;01mimport\u001b[39;00m (\n\u001b[1;32m      2\u001b[0m     altair_utils,\n\u001b[1;32m      3\u001b[0m     calitp_color_palette,\n\u001b[1;32m      4\u001b[0m     geography_utils,\n\u001b[1;32m      5\u001b[0m     gtfs_utils,\n\u001b[1;32m      6\u001b[0m     map_utils,\n\u001b[1;32m      7\u001b[0m     portfolio_utils,\n\u001b[1;32m      8\u001b[0m     rt_dates,\n\u001b[1;32m      9\u001b[0m     rt_utils,\n\u001b[1;32m     10\u001b[0m     styleguide,\n\u001b[1;32m     11\u001b[0m     utils,\n\u001b[1;32m     12\u001b[0m )\n\u001b[1;32m     14\u001b[0m __version__ \u001b[38;5;241m=\u001b[39m \u001b[38;5;124m\"\u001b[39m\u001b[38;5;124m0.1.2\u001b[39m\u001b[38;5;124m\"\u001b[39m\n\u001b[1;32m     16\u001b[0m __all__ \u001b[38;5;241m=\u001b[39m [\n\u001b[1;32m     17\u001b[0m     \u001b[38;5;124m\"\u001b[39m\u001b[38;5;124maltair_utils\u001b[39m\u001b[38;5;124m\"\u001b[39m,\n\u001b[1;32m     18\u001b[0m     \u001b[38;5;124m\"\u001b[39m\u001b[38;5;124mcalitp_color_palette\u001b[39m\u001b[38;5;124m\"\u001b[39m,\n\u001b[0;32m   (...)\u001b[0m\n\u001b[1;32m     26\u001b[0m     \u001b[38;5;124m\"\u001b[39m\u001b[38;5;124mutils\u001b[39m\u001b[38;5;124m\"\u001b[39m,\n\u001b[1;32m     27\u001b[0m ]\n",
      "File \u001b[0;32m~/data-analyses/_shared_utils/shared_utils/gtfs_utils.py:15\u001b[0m\n\u001b[1;32m     13\u001b[0m \u001b[38;5;28;01mimport\u001b[39;00m \u001b[38;5;21;01msiuba\u001b[39;00m  \u001b[38;5;66;03m# need this to do type hint in functions\u001b[39;00m\n\u001b[1;32m     14\u001b[0m \u001b[38;5;28;01mfrom\u001b[39;00m \u001b[38;5;21;01mcalitp\u001b[39;00m\u001b[38;5;21;01m.\u001b[39;00m\u001b[38;5;21;01mtables\u001b[39;00m \u001b[38;5;28;01mimport\u001b[39;00m tbl\n\u001b[0;32m---> 15\u001b[0m \u001b[38;5;28;01mfrom\u001b[39;00m \u001b[38;5;21;01mshared_utils\u001b[39;00m \u001b[38;5;28;01mimport\u001b[39;00m geography_utils, rt_utils, utils\n\u001b[1;32m     16\u001b[0m \u001b[38;5;28;01mfrom\u001b[39;00m \u001b[38;5;21;01msiuba\u001b[39;00m \u001b[38;5;28;01mimport\u001b[39;00m \u001b[38;5;241m*\u001b[39m\n\u001b[1;32m     18\u001b[0m GCS_PROJECT \u001b[38;5;241m=\u001b[39m \u001b[38;5;124m\"\u001b[39m\u001b[38;5;124mcal-itp-data-infra\u001b[39m\u001b[38;5;124m\"\u001b[39m\n",
      "File \u001b[0;32m~/data-analyses/_shared_utils/shared_utils/rt_utils.py:23\u001b[0m\n\u001b[1;32m     20\u001b[0m \u001b[38;5;28;01mfrom\u001b[39;00m \u001b[38;5;21;01msiuba\u001b[39;00m \u001b[38;5;28;01mimport\u001b[39;00m \u001b[38;5;241m*\u001b[39m\n\u001b[1;32m     22\u001b[0m sys\u001b[38;5;241m.\u001b[39mpath\u001b[38;5;241m.\u001b[39mappend(\u001b[38;5;124m\"\u001b[39m\u001b[38;5;124m../../rt_delay\u001b[39m\u001b[38;5;124m\"\u001b[39m)  \u001b[38;5;66;03m# noqa\u001b[39;00m\n\u001b[0;32m---> 23\u001b[0m \u001b[38;5;28;01mimport\u001b[39;00m \u001b[38;5;21;01mrt_analysis\u001b[39;00m \u001b[38;5;28;01mas\u001b[39;00m \u001b[38;5;21;01mrt\u001b[39;00m  \u001b[38;5;66;03m# noqa\u001b[39;00m\n\u001b[1;32m     25\u001b[0m \u001b[38;5;66;03m# from zoneinfo import ZoneInfo\u001b[39;00m\n\u001b[1;32m     26\u001b[0m \u001b[38;5;66;03m# import warnings\u001b[39;00m\n\u001b[1;32m     28\u001b[0m fs \u001b[38;5;241m=\u001b[39m gcsfs\u001b[38;5;241m.\u001b[39mGCSFileSystem()\n",
      "\u001b[0;31mModuleNotFoundError\u001b[0m: No module named 'rt_analysis'"
     ]
    }
   ],
   "source": [
    "import A1_data_prep\n",
    "import A2_tableau\n",
    "import A7_other\n",
    "import pandas as pd\n",
    "import numpy as np\n",
    "from babel.numbers import format_currency\n",
    "from calitp import *"
   ]
  },
  {
   "cell_type": "code",
   "execution_count": null,
   "id": "622cb544-b5e2-463c-8c4c-3aacff8c9ef5",
   "metadata": {},
   "outputs": [],
   "source": [
    "pd.options.display.max_columns = 100\n",
    "pd.options.display.float_format = \"{:.2f}\".format\n",
    "pd.set_option(\"display.max_rows\", None)\n",
    "pd.set_option(\"display.max_colwidth\", None)"
   ]
  },
  {
   "cell_type": "markdown",
   "id": "6c764e66-71b6-4cc9-bddc-a7a8542cd89f",
   "metadata": {},
   "source": [
    "## LCTOP Clean Up \n",
    "* Subset for only zero emission adjacent work."
   ]
  },
  {
   "cell_type": "code",
   "execution_count": null,
   "id": "2dc05f8d-c843-4d44-b129-f81eb3d8edc1",
   "metadata": {},
   "outputs": [],
   "source": [
    "# Read in sheet\n",
    "df_lctop = pd.read_excel(\n",
    "    \"gs://calitp-analytics-data/data-analyses/lctop/LCTOP_cleaned.xlsx\",\n",
    "    sheet_name=\"cleaned\",\n",
    ")"
   ]
  },
  {
   "cell_type": "code",
   "execution_count": null,
   "id": "3cd822e4-fa4f-4170-853d-a95d06594fbe",
   "metadata": {},
   "outputs": [],
   "source": [
    "# Only keep certain cols\n",
    "lctop_cols_to_keep = [\n",
    "    \"funding_year\",\n",
    "    \"project_sub_type_ii\",\n",
    "    \"project_description__short_\",\n",
    "    \"puc_99313_funds\",\n",
    "    \"puc_99314_funds\",\n",
    "    \"total_project_request_99314_+_99313\",\n",
    "    \"total_lctop_funds\",\n",
    "    \"total_cci_funds\",\n",
    "    \"total_project_cost\",\n",
    "    \"status\",\n",
    "    \"lead_agency\",\n",
    "]"
   ]
  },
  {
   "cell_type": "code",
   "execution_count": null,
   "id": "fdd09368-2a98-4de8-97e7-496ab3a76adc",
   "metadata": {},
   "outputs": [],
   "source": [
    "# Subset df\n",
    "df_lctop2 = df_lctop[lctop_cols_to_keep]"
   ]
  },
  {
   "cell_type": "markdown",
   "id": "1a35df90-b94a-47cb-a2c3-90d4ba3d55c1",
   "metadata": {},
   "source": [
    "### Strangely enough LCTOP funds column is not completely populated. \n",
    "* total_project_request_99314_+_99313 is the \"total awarded\" column used in the LCTOP dashboards Courtney Williams emailed me"
   ]
  },
  {
   "cell_type": "code",
   "execution_count": null,
   "id": "fd304df2-7a0b-4f19-ace3-eb607f95deaa",
   "metadata": {},
   "outputs": [],
   "source": [
    "summary_lctop = (\n",
    "    df_lctop2.groupby([\"funding_year\"]).agg(\n",
    "        {\n",
    "            \"total_project_request_99314_+_99313\": \"sum\",\n",
    "            \"total_lctop_funds\": \"sum\",\n",
    "            \"total_cci_funds\": \"sum\",\n",
    "        }\n",
    "    )\n",
    ")"
   ]
  },
  {
   "cell_type": "code",
   "execution_count": null,
   "id": "49b8c7bb-001c-4a46-86fd-3d9aa9f9c466",
   "metadata": {},
   "outputs": [],
   "source": [
    "# Add grand total column\n",
    "summary_lctop = summary_lctop.append(summary_lctop.sum(numeric_only=True), ignore_index=True)"
   ]
  },
  {
   "cell_type": "code",
   "execution_count": null,
   "id": "91147c87-ce12-4104-b38c-2a5ef42e686c",
   "metadata": {},
   "outputs": [],
   "source": [
    "# Format currency \n",
    "for i in ['total_project_request_99314_+_99313', 'total_lctop_funds',\n",
    "       'total_cci_funds']:\n",
    "    summary_lctop[i] = summary_lctop[i].apply(\n",
    "    lambda x: format_currency(x, currency=\"USD\", locale=\"en_US\")\n",
    ")"
   ]
  },
  {
   "cell_type": "code",
   "execution_count": null,
   "id": "494c5555-7ba2-4989-8eae-ea995013812a",
   "metadata": {},
   "outputs": [],
   "source": [
    "# New column to differentiate award year\n",
    "fy = ['14-15','15-16','16-17','17-18','18-19','20-21','Grand Total']"
   ]
  },
  {
   "cell_type": "code",
   "execution_count": null,
   "id": "a67f146d-f03c-4c92-8935-796723b5558c",
   "metadata": {},
   "outputs": [],
   "source": [
    "# Add new col\n",
    "summary_lctop['fiscal_year'] = fy"
   ]
  },
  {
   "cell_type": "code",
   "execution_count": null,
   "id": "26bd4165-2af8-4784-8fe9-178bd17ae52f",
   "metadata": {},
   "outputs": [],
   "source": [
    "# Rearrange df\n",
    "summary_lctop = summary_lctop[['fiscal_year','total_project_request_99314_+_99313', 'total_lctop_funds',\n",
    "       'total_cci_funds']]"
   ]
  },
  {
   "cell_type": "code",
   "execution_count": null,
   "id": "493eadc5-7dae-42f4-a243-563aed47d8c8",
   "metadata": {},
   "outputs": [],
   "source": [
    "summary_lctop"
   ]
  },
  {
   "cell_type": "code",
   "execution_count": null,
   "id": "304c61ae-7a1e-4ff5-858d-8e384525944c",
   "metadata": {},
   "outputs": [],
   "source": [
    "# Preview project types to see which ones are ZEV adjacent.\n",
    "df_lctop2[\"project_sub_type_ii\"].value_counts()"
   ]
  },
  {
   "cell_type": "code",
   "execution_count": null,
   "id": "79c6c195-1ede-44ff-9f1f-c42a0a85e599",
   "metadata": {
    "scrolled": true,
    "tags": []
   },
   "outputs": [],
   "source": [
    "# df_lctop2.loc[df_lctop2['project_sub_type_ii'] == 'New expanded/enhanced transit service']"
   ]
  },
  {
   "cell_type": "code",
   "execution_count": null,
   "id": "8ffec2d1-001a-4e40-8268-d163e632b8a4",
   "metadata": {},
   "outputs": [],
   "source": [
    "# Keep only zero emission adjacent project sub type ii\n",
    "list_lctop_zev = [\n",
    "    \"New vehicles for new expanded/enhanced transit service\",\n",
    "    \"New zero-emission vehicles\",\n",
    "]"
   ]
  },
  {
   "cell_type": "code",
   "execution_count": null,
   "id": "9bb7d6ab-e5e2-4216-99a0-391a7695f700",
   "metadata": {},
   "outputs": [],
   "source": [
    "# filter them all out at once.\n",
    "df_lctop3 = df_lctop2[df_lctop2.project_sub_type_ii.isin(list_lctop_zev)]"
   ]
  },
  {
   "cell_type": "code",
   "execution_count": null,
   "id": "8ea90860-cc08-4d2d-8fb3-9a1cedcb1b1e",
   "metadata": {
    "scrolled": true,
    "tags": []
   },
   "outputs": [],
   "source": [
    "# Extract an estimate of ZEV purchased per project and what type.\n",
    "df_lctop3 = A7_zev.grab_zev_count(df_lctop3, \"project_description__short_\")"
   ]
  },
  {
   "cell_type": "code",
   "execution_count": null,
   "id": "40da52f5-3cfe-4605-b9fa-ecbb2a400e94",
   "metadata": {},
   "outputs": [],
   "source": [
    "# Compare lengths\n",
    "len(df_lctop2), len(df_lctop3)"
   ]
  },
  {
   "cell_type": "code",
   "execution_count": null,
   "id": "46fdbc51-3d58-4da8-af1e-b22f72d44318",
   "metadata": {},
   "outputs": [],
   "source": [
    "# Make sure I filtered it correctly\n",
    "df_lctop3[\"project_sub_type_ii\"].unique()"
   ]
  },
  {
   "cell_type": "markdown",
   "id": "2b5f4603-6320-47f3-ab3b-ef54d3144b02",
   "metadata": {},
   "source": [
    "### Answer why: <i>Didn’t seem like there was enough funding in LCTOP to support the procurement numbers that we’re showing</i>"
   ]
  },
  {
   "cell_type": "code",
   "execution_count": null,
   "id": "a6cf9006-2654-4b6d-8726-82f3e41ffe20",
   "metadata": {},
   "outputs": [],
   "source": [
    "def funding_vs_expenses(row):\n",
    "    if row[\"total_project_request_99314_+_99313\"] == row[\"total_project_cost\"]:\n",
    "        return \"Fully funded\"\n",
    "    if row[\"total_project_cost\"] == 0:\n",
    "        return \"No project cost info, just 0\"\n",
    "    elif row[\"total_project_request_99314_+_99313\"] > row[\"total_project_cost\"]:\n",
    "        return \"Funding exceeds total expenses\"\n",
    "    elif row[\"total_project_request_99314_+_99313\"] < row[\"total_project_cost\"]:\n",
    "        return \"Not fully funded\"\n",
    "    else:\n",
    "        return \"Not fully funded\""
   ]
  },
  {
   "cell_type": "code",
   "execution_count": null,
   "id": "4d5c6f83-8acd-4976-ad05-5f288aeb81db",
   "metadata": {},
   "outputs": [],
   "source": [
    "df_lctop3['fully_funded'] = df_lctop3.apply(lambda x: funding_vs_expenses(x), axis=1)"
   ]
  },
  {
   "cell_type": "code",
   "execution_count": null,
   "id": "383bfa38-758f-441f-9ed7-9760a3127a0d",
   "metadata": {},
   "outputs": [],
   "source": [
    "# Apply function to determine if a project is fully funded or not\n",
    "df_lctop3['fully_funded'] = df_lctop3.apply(funding_vs_expenses, axis=1)"
   ]
  },
  {
   "cell_type": "code",
   "execution_count": null,
   "id": "38ea3c67-a5c9-4fc9-a8d8-3f323af4b4dc",
   "metadata": {},
   "outputs": [],
   "source": [
    "# Apply function to determine if a project is fully funded or not\n",
    "df_lctop3['fully_funded'] = df_lctop3.apply(funding_vs_expenses, axis=1)\n",
    "    "
   ]
  },
  {
   "cell_type": "code",
   "execution_count": null,
   "id": "b512fb05-0e11-4383-b828-365130e18ec3",
   "metadata": {},
   "outputs": [],
   "source": [
    "# Calculate percentage of funding\n",
    "df_lctop3[\"percent_funded\"] = (df_lctop3[\"total_project_request_99314_+_99313\"]/df_lctop3[\"total_project_cost\"]).fillna(0)"
   ]
  },
  {
   "cell_type": "code",
   "execution_count": null,
   "id": "8b19bd69-8e34-4500-a724-65b52172a74e",
   "metadata": {},
   "outputs": [],
   "source": [
    "df_lctop3 = df_lctop3.replace([np.inf, -np.inf], 0)"
   ]
  },
  {
   "cell_type": "code",
   "execution_count": null,
   "id": "e6e01436-c7d1-4aa7-b96b-22579790443e",
   "metadata": {
    "scrolled": true,
    "tags": []
   },
   "outputs": [],
   "source": [
    "df_lctop3[[\"funding_year\",\"total_project_request_99314_+_99313\", \"total_project_cost\", \"percent_funded\", \"fully_funded\"]]"
   ]
  },
  {
   "cell_type": "code",
   "execution_count": null,
   "id": "03ebcfcf-17e7-4715-b10e-dfa70f62eb5e",
   "metadata": {},
   "outputs": [],
   "source": [
    "# Raw numbers\n",
    "df_lctop3[\"fully_funded\"].value_counts()"
   ]
  },
  {
   "cell_type": "code",
   "execution_count": null,
   "id": "13ed4cc8-b54e-477c-9d87-022cb7967df3",
   "metadata": {},
   "outputs": [],
   "source": [
    "# Percentage of projects by funding status\n",
    "df_lctop3[\"fully_funded\"].value_counts() *100 / len(df_lctop3)"
   ]
  },
  {
   "cell_type": "code",
   "execution_count": null,
   "id": "780ef7a4-1074-4848-9c80-56096583d973",
   "metadata": {
    "tags": []
   },
   "outputs": [],
   "source": [
    "df_lctop3[\"percent_funded\"].median(), df_lctop3[\"percent_funded\"].mean()"
   ]
  },
  {
   "cell_type": "markdown",
   "id": "c79f9461-94b0-4070-bd2a-91e0f66f6e1d",
   "metadata": {},
   "source": [
    "## TIRCP Clean Up"
   ]
  },
  {
   "cell_type": "code",
   "execution_count": null,
   "id": "cc9a0504-1fab-4b85-b630-eea5ff2c9c98",
   "metadata": {},
   "outputs": [],
   "source": [
    "df_tircp = to_snakecase(A2_tableau.tableau_dashboard())"
   ]
  },
  {
   "cell_type": "code",
   "execution_count": null,
   "id": "2485213b-984f-4669-9a2e-825ec66c806b",
   "metadata": {},
   "outputs": [],
   "source": [
    "# Subset for only cols of interest\n",
    "tircp_columns = [\n",
    "    \"award_year\",\n",
    "    \"grant_recipient\",\n",
    "    \"title\",\n",
    "    \"description\",\n",
    "    \"tircp\",\n",
    "    \"expended_amount\",\n",
    "    \"expended_percent\",\n",
    "    \"progress\",\n",
    "]"
   ]
  },
  {
   "cell_type": "code",
   "execution_count": null,
   "id": "1db2bd7e-438e-48ca-8d4c-096ae5fdc627",
   "metadata": {},
   "outputs": [],
   "source": [
    "df_tircp2 = df_tircp[tircp_columns]"
   ]
  },
  {
   "cell_type": "code",
   "execution_count": null,
   "id": "88f0c353-b3d6-4f17-b21c-39adb400128c",
   "metadata": {},
   "outputs": [],
   "source": [
    "# Extract an estimate of ZEV purchased per project and what type.\n",
    "df_tircp2 = A7_zev.grab_zev_count(df_tircp2, \"description\")"
   ]
  },
  {
   "cell_type": "code",
   "execution_count": null,
   "id": "9640e63a-a43e-492a-a123-537f7527884a",
   "metadata": {},
   "outputs": [],
   "source": [
    "# Extract ZEV adjacent keywords, as TIRCP data does not have any\n",
    "# Project categories aside from these long descriptions\n",
    "df_tircp2[\"zev_yes_no\"] = (\n",
    "    df_tircp2[\"description\"]\n",
    "    .str.extract(\n",
    "        \"(electric|cng|zero|emission|zero-emission|battery|hydrogen|hydrogen fuel cell|cell)\",\n",
    "        expand=False,\n",
    "    )\n",
    "    .fillna(\"Not ZEV\")\n",
    ")"
   ]
  },
  {
   "cell_type": "code",
   "execution_count": null,
   "id": "be8731ef-8184-4991-b60a-d1c5a08b5ce8",
   "metadata": {
    "scrolled": true,
    "tags": []
   },
   "outputs": [],
   "source": [
    "# Extract ZEV only projects\n",
    "df_tircp_zev = df_tircp2.loc[df_tircp2[\"zev_yes_no\"] != \"Not ZEV\"]"
   ]
  },
  {
   "cell_type": "code",
   "execution_count": null,
   "id": "effc4d82-f6f7-440d-bb93-f755345ae270",
   "metadata": {
    "scrolled": true,
    "tags": []
   },
   "outputs": [],
   "source": [
    "df_tircp_zev = df_tircp_zev.drop(columns=[\"zev_yes_no\"])"
   ]
  },
  {
   "cell_type": "code",
   "execution_count": null,
   "id": "9754d4c9-dda1-46f2-bc8a-ebb347bb6596",
   "metadata": {
    "scrolled": true,
    "tags": []
   },
   "outputs": [],
   "source": [
    "# df_tircp_zev.head(5)"
   ]
  },
  {
   "cell_type": "markdown",
   "id": "4a2faffa-7bd4-4893-8c4e-4b5401b4d848",
   "metadata": {},
   "source": [
    "## Manual Clean Up\n",
    "* Although I extracted integers from the description columns to find the number of ZEV purchased, some of the values were not populated/correct."
   ]
  },
  {
   "cell_type": "code",
   "execution_count": null,
   "id": "0c022c8b-7d0e-41ca-9efe-b21d05769d74",
   "metadata": {},
   "outputs": [],
   "source": [
    "# Export LCTOP and TIRCP to fill in the # of zev buses manually for any rows that didn't pick up the number\n",
    "\"\"\"\n",
    "with pd.ExcelWriter(\n",
    "    \"gs://calitp-analytics-data/data-analyses/tircp/LCTOP_ZEV.xlsx\"\n",
    ") as writer:\n",
    "    df_lctop3.to_excel(writer, sheet_name=\"lctop\", index=True)\n",
    "    df_tircp_zev.to_excel(writer, sheet_name=\"tircp\", index=True)\n",
    "    \"\"\""
   ]
  },
  {
   "cell_type": "markdown",
   "id": "8af8c594-1c2e-4cd2-b6ab-c60e57c97961",
   "metadata": {
    "tags": []
   },
   "source": [
    "## Analysis"
   ]
  },
  {
   "cell_type": "code",
   "execution_count": null,
   "id": "b300624a-bebe-44ae-89d6-506c6f051e9d",
   "metadata": {},
   "outputs": [],
   "source": [
    "# Open up workbook that I manually filled in\n",
    "# Sheets I want\n",
    "sheets_list = [\"lctop\", \"tircp\"]\n",
    "\n",
    "# Open the workbook in a dictionary\n",
    "dict_df1 = pd.read_excel(\n",
    "    \"gs://calitp-analytics-data/data-analyses/tircp/LCTOP_TIRCP_ZEV_manual.xlsx\",\n",
    "    sheet_name=sheets_list,\n",
    ")"
   ]
  },
  {
   "cell_type": "code",
   "execution_count": null,
   "id": "e57a1394-fd3c-4906-8ee0-0ddbc2e4c4c2",
   "metadata": {},
   "outputs": [],
   "source": [
    "# Grab each sheet\n",
    "lctop_clean = to_snakecase(dict_df1.get(\"lctop\"))\n",
    "tircp_clean = to_snakecase(dict_df1.get(\"tircp\"))"
   ]
  },
  {
   "cell_type": "code",
   "execution_count": null,
   "id": "3a75d4eb-4eb2-475f-af81-99138a599e30",
   "metadata": {},
   "outputs": [],
   "source": [
    "tircp_clean.head(2)"
   ]
  },
  {
   "cell_type": "markdown",
   "id": "c6ba5966-b1e0-4b07-8718-d573764de145",
   "metadata": {},
   "source": [
    "### TIRCP"
   ]
  },
  {
   "cell_type": "code",
   "execution_count": null,
   "id": "11e5ed83-6662-4508-ade4-89682326f0ee",
   "metadata": {},
   "outputs": [],
   "source": [
    "tircp_sum = [\"tircp\", \"number_of_zev\"]\n",
    "tircp_count = [\"title\"]\n",
    "tircp_group = [\"award_year\"]\n",
    "tircp_mon = [\"tircp\"]"
   ]
  },
  {
   "cell_type": "code",
   "execution_count": null,
   "id": "e9e5a581-3a7f-45b7-8815-10ead729a5ab",
   "metadata": {},
   "outputs": [],
   "source": [
    "# Create summary table for all ZEV projects\n",
    "tircp_summary = A7_zev.zev_summary(\n",
    "    tircp_clean, df_tircp, tircp_group, tircp_sum, tircp_count, tircp_mon\n",
    ")"
   ]
  },
  {
   "cell_type": "code",
   "execution_count": null,
   "id": "0d8b9d0b-37d9-49a6-a4ca-f892114bcf09",
   "metadata": {},
   "outputs": [],
   "source": [
    "# Calculate out projects that are ZEV vs total projects\n",
    "tircp_summary[\"Percent of Projects that are ZEV Adjacent\"] = (\n",
    "    tircp_summary[\"Title X\"] / tircp_summary[\"Title Y\"]\n",
    ")"
   ]
  },
  {
   "cell_type": "code",
   "execution_count": null,
   "id": "1141e310-5a0d-430b-8dfe-fc6337bd6492",
   "metadata": {},
   "outputs": [],
   "source": [
    "# Clean columns\n",
    "tircp_summary = tircp_summary.rename(\n",
    "    columns={\n",
    "        \"Title X\": \"Total ZEV Projects\",\n",
    "        \"Number Of Zev\": \"Total ZEV\",\n",
    "        \"Title Y\": \"Total Projects in Cycle\",\n",
    "        \"Tircp\": \"Total Amount Awarded\",\n",
    "    }\n",
    ")"
   ]
  },
  {
   "cell_type": "code",
   "execution_count": null,
   "id": "021939be-ccb8-406d-ad9b-ab16f0f5b787",
   "metadata": {},
   "outputs": [],
   "source": [
    "# Rename Award Year to Cycles\n",
    "tircp_summary[\"Award Year\"] = tircp_summary[\"Award Year\"].replace(\n",
    "    {\n",
    "        2015: \"Cycle 1\",\n",
    "        2016: \"Cycle 2\",\n",
    "        2018: \"Cycle 3\",\n",
    "        2020: \"Cycle 4\",\n",
    "        2022: \"Cycle 5\",\n",
    "    }\n",
    ")"
   ]
  },
  {
   "cell_type": "code",
   "execution_count": null,
   "id": "85829c07-d826-403b-a071-89b3da9188f0",
   "metadata": {},
   "outputs": [],
   "source": [
    "# Edit so Grand total row is obvious\n",
    "tircp_summary[\"Award Year\"].loc[5] = \"Grand Total\""
   ]
  },
  {
   "cell_type": "code",
   "execution_count": null,
   "id": "3294a44c-4beb-43a4-a366-69fad112277e",
   "metadata": {},
   "outputs": [],
   "source": [
    "# Manually calclate out total percent of ZEV projects\n",
    "tircp_summary[\"Percent of Projects that are ZEV Adjacent\"].loc[5] = (\n",
    "    tircp_summary[\"Total ZEV Projects\"].sum()\n",
    "    / tircp_summary[\"Total Projects in Cycle\"].sum()\n",
    ")"
   ]
  },
  {
   "cell_type": "code",
   "execution_count": null,
   "id": "7b32cf4c-ae75-451c-94ad-1316586ad0d5",
   "metadata": {},
   "outputs": [],
   "source": [
    "tircp_summary"
   ]
  },
  {
   "cell_type": "code",
   "execution_count": null,
   "id": "e96bb59e-e275-48e9-bca0-0de86df6a1d1",
   "metadata": {},
   "outputs": [],
   "source": [
    "A7_zev.basic_bar_chart(\n",
    "    tircp_summary.iloc[:-1],\n",
    "    \"Award Year\",\n",
    "    \"Total ZEV Projects\",\n",
    "    \"Award Year\",\n",
    "    \"Total ZEV Projects by FY (TIRCP)\",\n",
    ")"
   ]
  },
  {
   "cell_type": "code",
   "execution_count": null,
   "id": "7ea25470-5cec-4920-aec5-57172252842c",
   "metadata": {},
   "outputs": [],
   "source": [
    "A7_zev.basic_bar_chart(\n",
    "    tircp_summary.iloc[:-1],\n",
    "    \"Award Year\",\n",
    "    \"Total ZEV\",\n",
    "    \"Award Year\",\n",
    "    \"Total ZEV to be or already Purchased by FY (TIRCP)\",\n",
    ")"
   ]
  },
  {
   "cell_type": "markdown",
   "id": "466a44a9-bf30-4901-a438-2e62533075f1",
   "metadata": {},
   "source": [
    "#### How many  ZEV already purchased/in the pipeline?"
   ]
  },
  {
   "cell_type": "code",
   "execution_count": null,
   "id": "5fdde871-b3ca-46b7-92f5-7da83d325660",
   "metadata": {},
   "outputs": [],
   "source": [
    "# Find out how many buses already purchased by looking at only projects with 100% of allocated amount spent.\n",
    "tircp_zev_done = tircp_clean.loc[\n",
    "    tircp_clean[\"progress\"] == \"100% of allocated funds spent\"\n",
    "]\n",
    "f\"Approximately {tircp_zev_done.number_of_zev.sum()} ZEV already purchased and ${tircp_zev_done.tircp.sum()} spent\""
   ]
  },
  {
   "cell_type": "code",
   "execution_count": null,
   "id": "6cfa7499-0eba-412c-b7be-92399977be13",
   "metadata": {},
   "outputs": [],
   "source": [
    "# Look at projects that are done - says 0 when number of buses is unknown.\n",
    "tircp_zev_done = tircp_zev_done[\n",
    "    [\"award_year\", \"grant_recipient\", \"number_of_zev\", \"tircp\"]\n",
    "].sort_values(\"number_of_zev\", ascending=False)\n",
    "\n",
    "tircp_zev_done[\"tircp\"] = tircp_zev_done[\"tircp\"].apply(\n",
    "    lambda x: format_currency(x, currency=\"USD\", locale=\"en_US\")\n",
    ")"
   ]
  },
  {
   "cell_type": "code",
   "execution_count": null,
   "id": "df304e7f-9644-4a41-adc1-1244a98de58d",
   "metadata": {},
   "outputs": [],
   "source": [
    "tircp_zev_done"
   ]
  },
  {
   "cell_type": "markdown",
   "id": "749238b0-0b29-4746-a984-26cc5af7a18b",
   "metadata": {},
   "source": [
    "#### How many  ZEV in the pipeline?"
   ]
  },
  {
   "cell_type": "code",
   "execution_count": null,
   "id": "313ad954-2bdb-44fa-b7d2-034c682efb78",
   "metadata": {},
   "outputs": [],
   "source": [
    "tircp_zev_pipeline = tircp_clean.loc[\n",
    "    tircp_clean[\"progress\"] != \"100% of allocated funds spent\"\n",
    "]\n",
    "f\"Approximately {tircp_zev_pipeline.number_of_zev.sum()} ZEV in the pipeline to be purchased and ${tircp_zev_pipeline.tircp.sum()} in projected funds.\""
   ]
  },
  {
   "cell_type": "code",
   "execution_count": null,
   "id": "d6011ab5-6cd4-4e0e-9ff0-768705edf96a",
   "metadata": {
    "scrolled": true,
    "tags": []
   },
   "outputs": [],
   "source": [
    "tircp_zev_pipeline = (\n",
    "    tircp_zev_pipeline.groupby([\"grant_recipient\", \"award_year\"])\n",
    "    .agg({\"number_of_zev\": \"sum\", \"tircp\": \"sum\"})\n",
    "    .reset_index()\n",
    "    .sort_values(\"number_of_zev\", ascending=False)\n",
    ")"
   ]
  },
  {
   "cell_type": "code",
   "execution_count": null,
   "id": "9c339d93-eec7-42f3-973c-4eea0d68041e",
   "metadata": {},
   "outputs": [],
   "source": [
    "tircp_zev_pipeline[\"tircp\"] = tircp_zev_pipeline[\"tircp\"].apply(\n",
    "    lambda x: format_currency(x, currency=\"USD\", locale=\"en_US\")\n",
    ")"
   ]
  },
  {
   "cell_type": "code",
   "execution_count": null,
   "id": "59b66043-a3a6-4b96-823f-34eac949e0b3",
   "metadata": {
    "scrolled": true,
    "tags": []
   },
   "outputs": [],
   "source": [
    "tircp_zev_pipeline"
   ]
  },
  {
   "cell_type": "markdown",
   "id": "eb85b5b8-5143-48ad-b2e8-20985f981ff8",
   "metadata": {},
   "source": [
    "#### ZEV Breakdown"
   ]
  },
  {
   "cell_type": "code",
   "execution_count": null,
   "id": "2aeb5d9e-f7ea-44d6-aeb8-18d40286f2fc",
   "metadata": {},
   "outputs": [],
   "source": [
    "tircp_zev_breakout = tircp_clean.groupby([\"lrv_or_bus\"]).agg(\n",
    "    {\"tircp\": \"sum\", \"number_of_zev\": \"sum\"}\n",
    ")"
   ]
  },
  {
   "cell_type": "code",
   "execution_count": null,
   "id": "6b8f5427-206a-4f0b-b5c1-933402aefc54",
   "metadata": {},
   "outputs": [],
   "source": [
    "tircp_zev_breakout[\"tircp\"] = tircp_zev_breakout[\"tircp\"].apply(\n",
    "    lambda x: format_currency(x, currency=\"USD\", locale=\"en_US\")\n",
    ")"
   ]
  },
  {
   "cell_type": "code",
   "execution_count": null,
   "id": "3b89e9b6-e94a-4cfd-ab34-68322ae9adf2",
   "metadata": {},
   "outputs": [],
   "source": [
    "tircp_zev_breakout"
   ]
  },
  {
   "cell_type": "markdown",
   "id": "7c22863e-0bde-47a4-8431-acf189cbd5db",
   "metadata": {},
   "source": [
    "### LCTOP"
   ]
  },
  {
   "cell_type": "code",
   "execution_count": null,
   "id": "e4e6fb13-2de6-4d34-b908-52d964d9e7ff",
   "metadata": {},
   "outputs": [],
   "source": [
    "lctop_count = [\"project_sub_type_ii\"]\n",
    "lctop_group = [\"funding_year\"]\n",
    "lctop_sum = [\n",
    "    \"total_project_request_99314_+_99313\",\n",
    "    \"total_lctop_funds\",\n",
    "    \"number_of_zev\",\n",
    "]\n",
    "lctop_monetary = [\n",
    "    \"total_project_request_99314_+_99313\",\n",
    "    \"total_lctop_funds\",\n",
    "]"
   ]
  },
  {
   "cell_type": "code",
   "execution_count": null,
   "id": "5b98ce90-9a52-426c-863c-172556e6455d",
   "metadata": {},
   "outputs": [],
   "source": [
    "# Create summary table for all ZEV projects\n",
    "lctop_summary = A7_zev.zev_summary(\n",
    "    lctop_clean, df_lctop2, lctop_group, lctop_sum, lctop_count, lctop_monetary\n",
    ")"
   ]
  },
  {
   "cell_type": "code",
   "execution_count": null,
   "id": "717fc07d-257a-419d-9f4d-07a5725ddc2a",
   "metadata": {},
   "outputs": [],
   "source": [
    "# Calculate out projects that are ZEV vs total projects\n",
    "lctop_summary[\"Percent of Projects that are ZEV Adjacent\"] = (\n",
    "    lctop_summary[\"Sub Type Ii X\"] / lctop_summary[\"Sub Type Ii Y\"]\n",
    ")"
   ]
  },
  {
   "cell_type": "code",
   "execution_count": null,
   "id": "c1eac014-c33d-4cef-b2cc-96daa266a009",
   "metadata": {},
   "outputs": [],
   "source": [
    "# Clean columns\n",
    "lctop_summary = lctop_summary.rename(\n",
    "    columns={\n",
    "        \"Number Of Zev\": \"Total ZEV\",\n",
    "        \"Sub Type Ii X\": \"Total ZEV Projects\",\n",
    "        \"Sub Type Ii Y\": \"Total Projects in Cycle\",\n",
    "        \"Total  Request 99314 + 99313\": \"Total Amount Awarded\",\n",
    "    }\n",
    ")"
   ]
  },
  {
   "cell_type": "code",
   "execution_count": null,
   "id": "349ac248-2b4b-4306-8365-679f9825b6cf",
   "metadata": {},
   "outputs": [],
   "source": [
    "# Change certain values from float to int\n",
    "lctop_summary[\n",
    "    [\"Total ZEV\", \"Total ZEV Projects\", \"Total Projects in Cycle\"]\n",
    "] = lctop_summary[\n",
    "    [\"Total ZEV\", \"Total ZEV Projects\", \"Total Projects in Cycle\"]\n",
    "].astype(\n",
    "    \"int64\"\n",
    ")"
   ]
  },
  {
   "cell_type": "code",
   "execution_count": null,
   "id": "f498b8e0-7078-4a54-80e0-00980fbff3f0",
   "metadata": {},
   "outputs": [],
   "source": [
    "# Make the grand total row more obvious\n",
    "lctop_summary[\"Funding Year\"].loc[6] = \"Grand Total\""
   ]
  },
  {
   "cell_type": "code",
   "execution_count": null,
   "id": "36bbdccd-903e-4c94-a34b-46fbefe78a29",
   "metadata": {},
   "outputs": [],
   "source": [
    "# Manually calc out total ZEV projects\n",
    "lctop_summary[\"Percent of Projects that are ZEV Adjacent\"].loc[6] = (\n",
    "    lctop_summary[\"Total ZEV Projects\"].sum()\n",
    "    / lctop_summary[\"Total Projects in Cycle\"].sum()\n",
    ")"
   ]
  },
  {
   "cell_type": "code",
   "execution_count": null,
   "id": "dfedce08-5df7-44d0-bdb0-0166f17d42ee",
   "metadata": {},
   "outputs": [],
   "source": [
    "# lctop_summary"
   ]
  },
  {
   "cell_type": "code",
   "execution_count": null,
   "id": "dcf10673-75f2-4f47-8f3f-e78f22fa7116",
   "metadata": {},
   "outputs": [],
   "source": [
    "A7_zev.basic_bar_chart(\n",
    "    lctop_summary.iloc[:-1],\n",
    "    \"Funding Year\",\n",
    "    \"Total ZEV\",\n",
    "    \"Funding Year\",\n",
    "    \"Total ZEV to be or already Purchased by FY (LCTOP)\",\n",
    ")"
   ]
  },
  {
   "cell_type": "code",
   "execution_count": null,
   "id": "0497f0c3-fd07-42b8-b806-d5c9d8d07c6e",
   "metadata": {},
   "outputs": [],
   "source": [
    "A7_zev.basic_bar_chart(\n",
    "    lctop_summary.iloc[:-1],\n",
    "    \"Funding Year\",\n",
    "    \"Total ZEV Projects\",\n",
    "    \"Funding Year\",\n",
    "    \"Total ZEV Projects by FY (LCTOP)\",\n",
    ")"
   ]
  },
  {
   "cell_type": "markdown",
   "id": "7eaff8b7-114a-4b30-b10b-b6ec797bdb50",
   "metadata": {
    "tags": []
   },
   "source": [
    "#### ZEV in the pipeline\n",
    "* Status column as shown below has only one \"closed\", 50 null values, and 101 open."
   ]
  },
  {
   "cell_type": "code",
   "execution_count": null,
   "id": "49dc124b-13ed-4707-81c9-c02376b04177",
   "metadata": {},
   "outputs": [],
   "source": [
    "lctop_clean[\"status\"].value_counts()"
   ]
  },
  {
   "cell_type": "code",
   "execution_count": null,
   "id": "7d999b6f-1886-4132-8e33-f2de524a613e",
   "metadata": {},
   "outputs": [],
   "source": [
    "lctop_done = lctop_clean.loc[lctop_clean[\"status\"] == \"closed\"]\n",
    "f\"Approximately {lctop_done.number_of_zev.sum()} ZEV already purchased and ${lctop_done['total_project_request_99314_+_99313'].sum()} spent\""
   ]
  },
  {
   "cell_type": "code",
   "execution_count": null,
   "id": "64d10208-c7c7-49f0-acd1-96a8b589c266",
   "metadata": {},
   "outputs": [],
   "source": [
    "lctop_pipeline = lctop_clean.loc[lctop_clean[\"status\"] != \"closed\"]\n",
    "f\"Approximately {lctop_clean.number_of_zev.sum()} ZEV to be purchased and ${lctop_clean['total_project_request_99314_+_99313'].sum()} in projected funds\""
   ]
  },
  {
   "cell_type": "markdown",
   "id": "bb766431-840a-4213-b618-3766ad87919f",
   "metadata": {},
   "source": [
    "#### All Applicants"
   ]
  },
  {
   "cell_type": "code",
   "execution_count": null,
   "id": "e51b5916-3812-4b56-bed8-ca414a373cac",
   "metadata": {},
   "outputs": [],
   "source": [
    "lctop_clean[\"total_project_request_99314_+_99313\"] = lctop_clean[\n",
    "    \"total_project_request_99314_+_99313\"\n",
    "].astype(\"int64\")"
   ]
  },
  {
   "cell_type": "code",
   "execution_count": null,
   "id": "fd87bed0-ac51-4618-85ef-0c02bdd2fb87",
   "metadata": {
    "scrolled": true,
    "tags": []
   },
   "outputs": [],
   "source": [
    "lctop_applicants = (\n",
    "    lctop_clean.groupby([\"funding_year\", \"lead_agency\"])\n",
    "    .agg({\"number_of_zev\": \"sum\", \"total_project_request_99314_+_99313\": \"sum\"})\n",
    "    .reset_index()\n",
    "    .sort_values(\"number_of_zev\", ascending=False)\n",
    ")"
   ]
  },
  {
   "cell_type": "code",
   "execution_count": null,
   "id": "2e7195d1-13a0-4bd3-abaa-fa0aa4c36a8f",
   "metadata": {},
   "outputs": [],
   "source": [
    "lctop_applicants[\"total_project_request_99314_+_99313\"] = lctop_applicants[\n",
    "    \"total_project_request_99314_+_99313\"\n",
    "].apply(lambda x: format_currency(x, currency=\"USD\", locale=\"en_US\"))"
   ]
  },
  {
   "cell_type": "code",
   "execution_count": null,
   "id": "b769f16b-5c59-478c-bbe1-23b884762948",
   "metadata": {
    "scrolled": true,
    "tags": []
   },
   "outputs": [],
   "source": [
    "# lctop_applicants"
   ]
  },
  {
   "cell_type": "markdown",
   "id": "50078577-e03f-41c6-a14e-7483760915ff",
   "metadata": {},
   "source": [
    "#### ZEV Breakdown"
   ]
  },
  {
   "cell_type": "code",
   "execution_count": null,
   "id": "1b640b6e-41e9-4337-917b-a4cc38d643af",
   "metadata": {
    "scrolled": true,
    "tags": []
   },
   "outputs": [],
   "source": [
    "# lctop_clean.loc[lctop_clean[\"lrv_or_bus\"] == 'other']"
   ]
  },
  {
   "cell_type": "code",
   "execution_count": null,
   "id": "0835e013-b3ba-451f-9d44-5827bdbe8702",
   "metadata": {},
   "outputs": [],
   "source": [
    "lctop_zev_breakout = lctop_clean.groupby([\"lrv_or_bus\"]).agg(\n",
    "    {\"total_project_request_99314_+_99313\": \"sum\", \"number_of_zev\": \"sum\"}\n",
    ")"
   ]
  },
  {
   "cell_type": "code",
   "execution_count": null,
   "id": "c040c1af-2366-47de-8f9f-2d7b87a487a9",
   "metadata": {},
   "outputs": [],
   "source": [
    "lctop_zev_breakout = lctop_zev_breakout.rename(\n",
    "    columns={\"total_project_request_99314_+_99313\": \"awarded\"}\n",
    ")"
   ]
  },
  {
   "cell_type": "code",
   "execution_count": null,
   "id": "23bd3129-d635-4eb9-a71a-0e391ecaae74",
   "metadata": {},
   "outputs": [],
   "source": [
    "lctop_zev_breakout[\"awarded\"] = lctop_zev_breakout[\"awarded\"].apply(\n",
    "    lambda x: format_currency(x, currency=\"USD\", locale=\"en_US\")\n",
    ")"
   ]
  },
  {
   "cell_type": "code",
   "execution_count": null,
   "id": "c30d47a2-b2d9-4ee6-96a2-95a69af26548",
   "metadata": {},
   "outputs": [],
   "source": [
    "lctop_zev_breakout"
   ]
  },
  {
   "cell_type": "markdown",
   "id": "df43a5e3-6c5f-4e8d-9d3f-b3b92b73a809",
   "metadata": {},
   "source": [
    "## Export"
   ]
  },
  {
   "cell_type": "code",
   "execution_count": null,
   "id": "8d8eb19b-8882-42d1-a46b-e9b716981daa",
   "metadata": {},
   "outputs": [],
   "source": [
    "\"\"\"\n",
    "with pd.ExcelWriter(\n",
    "    \"gs://calitp-analytics-data/data-analyses/tircp/LCTOP_ZEV_final.xlsx\"\n",
    ") as writer:\n",
    "    tircp_summary.to_excel(writer, sheet_name=\"tircp_summary\", index=False)\n",
    "    tircp_zev_done.to_excel(writer, sheet_name=\"tircp_finished_projects\", index=False)\n",
    "    tircp_zev_pipeline.to_excel(writer, sheet_name=\"tircp_inprogress\", index=False)\n",
    "    lctop_summary.to_excel(writer, sheet_name=\"lctop_summary\", index=False)\n",
    "    lctop_applicants.to_excel(writer, sheet_name=\"lctop_applicants\", index=False)\n",
    "    \"\"\""
   ]
  }
 ],
 "metadata": {
  "kernelspec": {
   "display_name": "Python 3 (ipykernel)",
   "language": "python",
   "name": "python3"
  },
  "language_info": {
   "codemirror_mode": {
    "name": "ipython",
    "version": 3
   },
   "file_extension": ".py",
   "mimetype": "text/x-python",
   "name": "python",
   "nbconvert_exporter": "python",
   "pygments_lexer": "ipython3",
   "version": "3.10.6"
  }
 },
 "nbformat": 4,
 "nbformat_minor": 5
}
