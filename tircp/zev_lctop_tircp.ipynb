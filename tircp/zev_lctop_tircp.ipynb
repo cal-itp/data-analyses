{
 "cells": [
  {
   "cell_type": "markdown",
   "id": "5880f41b-d13c-45e4-b184-bdb27a19a451",
   "metadata": {},
   "source": [
    "# ZEV purchased through LCTOP & TIRCP\n",
    "* An agency here is a recipient of LCTOP/TIRCP grants."
   ]
  },
  {
   "cell_type": "code",
   "execution_count": null,
   "id": "9b403968-9a3c-45d0-b834-01319f259c9b",
   "metadata": {},
   "outputs": [],
   "source": [
    "import A1_data_prep\n",
    "import A2_tableau\n",
    "import A6_zev\n",
    "import pandas as pd\n",
    "from babel.numbers import format_currency\n",
    "from calitp import *\n",
    "\n",
    "pd.options.display.max_columns = 100\n",
    "pd.set_option(\"display.max_rows\", None)\n",
    "pd.set_option(\"display.max_colwidth\", None)\n",
    "pd.options.display.float_format = \"{:.2%}\".format"
   ]
  },
  {
   "cell_type": "markdown",
   "id": "6c764e66-71b6-4cc9-bddc-a7a8542cd89f",
   "metadata": {},
   "source": [
    "## LCTOP Clean Up \n",
    "* Subset for only zero emission adjacent work."
   ]
  },
  {
   "cell_type": "code",
   "execution_count": null,
   "id": "2dc05f8d-c843-4d44-b129-f81eb3d8edc1",
   "metadata": {},
   "outputs": [],
   "source": [
    "# Read in sheet\n",
    "df_lctop = pd.read_excel(\n",
    "    \"gs://calitp-analytics-data/data-analyses/lctop/LCTOP_cleaned.xlsx\",\n",
    "    sheet_name=\"cleaned\",\n",
    ")"
   ]
  },
  {
   "cell_type": "code",
   "execution_count": null,
   "id": "3cd822e4-fa4f-4170-853d-a95d06594fbe",
   "metadata": {},
   "outputs": [],
   "source": [
    "# Only keep certain cols\n",
    "lctop_cols_to_keep = [\n",
    "    \"funding_year\",\n",
    "    \"project_sub_type_ii\",\n",
    "    \"project_description__short_\",\n",
    "    \"puc_99313_funds\",\n",
    "    \"puc_99314_funds\",\n",
    "    \"total_project_request_99314_+_99313\",\n",
    "    \"total_lctop_funds\",\n",
    "    \"total_cci_funds\",\n",
    "    \"total_project_cost\",\n",
    "    \"status\",\n",
    "    \"lead_agency\",\n",
    "]"
   ]
  },
  {
   "cell_type": "code",
   "execution_count": null,
   "id": "fdd09368-2a98-4de8-97e7-496ab3a76adc",
   "metadata": {},
   "outputs": [],
   "source": [
    "# Subset df\n",
    "df_lctop2 = df_lctop[lctop_cols_to_keep]"
   ]
  },
  {
   "cell_type": "markdown",
   "id": "1a35df90-b94a-47cb-a2c3-90d4ba3d55c1",
   "metadata": {},
   "source": [
    "### Strangely enough LCTOP funds column is not completely populated. \n",
    "* total_project_request_99314_+_99313 is the \"total awarded\" column used in the LCTOP dashboards Courtney Williams emailed me"
   ]
  },
  {
   "cell_type": "code",
   "execution_count": null,
   "id": "fd304df2-7a0b-4f19-ace3-eb607f95deaa",
   "metadata": {},
   "outputs": [],
   "source": [
    "(\n",
    "    df_lctop2.groupby([\"funding_year\"]).agg(\n",
    "        {\n",
    "            \"total_project_request_99314_+_99313\": \"sum\",\n",
    "            \"total_lctop_funds\": \"sum\",\n",
    "            \"total_cci_funds\": \"sum\",\n",
    "        }\n",
    "    )\n",
    ")"
   ]
  },
  {
   "cell_type": "code",
   "execution_count": null,
   "id": "304c61ae-7a1e-4ff5-858d-8e384525944c",
   "metadata": {},
   "outputs": [],
   "source": [
    "# Preview project types to see which ones are ZEV adjacent.\n",
    "df_lctop2[\"project_sub_type_ii\"].value_counts()"
   ]
  },
  {
   "cell_type": "code",
   "execution_count": null,
   "id": "79c6c195-1ede-44ff-9f1f-c42a0a85e599",
   "metadata": {
    "scrolled": true,
    "tags": []
   },
   "outputs": [],
   "source": [
    "# df_lctop2.loc[df_lctop2['project_sub_type_ii'] == 'New expanded/enhanced transit service']"
   ]
  },
  {
   "cell_type": "code",
   "execution_count": null,
   "id": "8ffec2d1-001a-4e40-8268-d163e632b8a4",
   "metadata": {},
   "outputs": [],
   "source": [
    "# Keep only zero emission adjacent project sub type ii\n",
    "list_lctop_zev = [\n",
    "    \"New vehicles for new expanded/enhanced transit service\",\n",
    "    \"New zero-emission vehicles\",\n",
    "]"
   ]
  },
  {
   "cell_type": "code",
   "execution_count": null,
   "id": "9bb7d6ab-e5e2-4216-99a0-391a7695f700",
   "metadata": {},
   "outputs": [],
   "source": [
    "# filter them all out at once.\n",
    "df_lctop3 = df_lctop2[df_lctop2.project_sub_type_ii.isin(list_lctop_zev)]"
   ]
  },
  {
   "cell_type": "code",
   "execution_count": null,
   "id": "40da52f5-3cfe-4605-b9fa-ecbb2a400e94",
   "metadata": {},
   "outputs": [],
   "source": [
    "# Compare lengths\n",
    "len(df_lctop2), len(df_lctop3)"
   ]
  },
  {
   "cell_type": "code",
   "execution_count": null,
   "id": "46fdbc51-3d58-4da8-af1e-b22f72d44318",
   "metadata": {},
   "outputs": [],
   "source": [
    "# Make sure I filtered it correctly\n",
    "df_lctop3[\"project_sub_type_ii\"].unique()"
   ]
  },
  {
   "cell_type": "code",
   "execution_count": null,
   "id": "c450e709-37ff-4291-9665-1afe75568475",
   "metadata": {},
   "outputs": [],
   "source": [
    "# def extract_zev"
   ]
  },
  {
   "cell_type": "code",
   "execution_count": null,
   "id": "62d54d1d-f5e6-4a82-b2bd-4d2ed0c889ba",
   "metadata": {},
   "outputs": [],
   "source": [
    "# Change short description to lower case\n",
    "df_lctop3[\"project_description__short_\"] = df_lctop3[\n",
    "    \"project_description__short_\"\n",
    "].str.lower()"
   ]
  },
  {
   "cell_type": "code",
   "execution_count": null,
   "id": "f5a17f59-f698-42c2-908a-42d801fda5ba",
   "metadata": {},
   "outputs": [],
   "source": [
    "# Replace numbers that are written out into integers\n",
    "df_lctop3[\"project_description__short_\"] = (\n",
    "    df_lctop3[\"project_description__short_\"]\n",
    "    .str.replace(\"seven\", \"7\")\n",
    "    .str.replace(\"two\", \"2\")\n",
    "    .str.replace(\"eight\", \"8\")\n",
    "    .str.replace(\"five\", \"5\")\n",
    "    .str.replace(\"fifteen\", \"15\")\n",
    "    .str.replace(\"twenty\", \"20\")\n",
    "    .str.replace(\"three\", \"3\")\n",
    "    .str.replace(\"four\", \"4\")\n",
    "    .str.replace(\"eleven\", \"11\")\n",
    ")"
   ]
  },
  {
   "cell_type": "code",
   "execution_count": null,
   "id": "efcec442-e145-4224-b17d-f0acc526f057",
   "metadata": {
    "tags": []
   },
   "outputs": [],
   "source": [
    "# Extract numbers from project desc into a new column, cast as float, fill in zeroes\n",
    "df_lctop3[\"number_of_zev\"] = (\n",
    "    df_lctop3.project_description__short_.str.extract(\"(\\d+)\")\n",
    "    .astype(\"float64\")\n",
    "    .fillna(0)\n",
    ")"
   ]
  },
  {
   "cell_type": "markdown",
   "id": "c79f9461-94b0-4070-bd2a-91e0f66f6e1d",
   "metadata": {},
   "source": [
    "## TIRCP Clean Up"
   ]
  },
  {
   "cell_type": "code",
   "execution_count": null,
   "id": "cc9a0504-1fab-4b85-b630-eea5ff2c9c98",
   "metadata": {},
   "outputs": [],
   "source": [
    "df_tircp = to_snakecase(A2_tableau.tableau_dashboard())"
   ]
  },
  {
   "cell_type": "code",
   "execution_count": null,
   "id": "2485213b-984f-4669-9a2e-825ec66c806b",
   "metadata": {},
   "outputs": [],
   "source": [
    "# Subset for only cols of interest\n",
    "tircp_columns = [\n",
    "    \"award_year\",\n",
    "    \"grant_recipient\",\n",
    "    \"title\",\n",
    "    \"description\",\n",
    "    \"tircp\",\n",
    "    \"expended_amount\",\n",
    "    \"expended_percent\",\n",
    "    \"progress\",\n",
    "]"
   ]
  },
  {
   "cell_type": "code",
   "execution_count": null,
   "id": "1db2bd7e-438e-48ca-8d4c-096ae5fdc627",
   "metadata": {},
   "outputs": [],
   "source": [
    "df_tircp2 = df_tircp[tircp_columns]"
   ]
  },
  {
   "cell_type": "code",
   "execution_count": null,
   "id": "88f0c353-b3d6-4f17-b21c-39adb400128c",
   "metadata": {},
   "outputs": [],
   "source": [
    "# Lower project description to search for ZEV projects\n",
    "df_tircp2[\"description\"] = df_tircp2[\"description\"].str.lower()"
   ]
  },
  {
   "cell_type": "code",
   "execution_count": null,
   "id": "9640e63a-a43e-492a-a123-537f7527884a",
   "metadata": {},
   "outputs": [],
   "source": [
    "# Extract ZEV adjacent keywords\n",
    "df_tircp2[\"zev_yes_no\"] = (\n",
    "    df_tircp2[\"description\"]\n",
    "    .str.extract(\n",
    "        \"(electric|cng|zero|emission|zero-emission|battery|hydrogen|hydrogen fuel cell|cell)\",\n",
    "        expand=False,\n",
    "    )\n",
    "    .fillna(\"Not ZEV\")\n",
    ")"
   ]
  },
  {
   "cell_type": "code",
   "execution_count": null,
   "id": "be8731ef-8184-4991-b60a-d1c5a08b5ce8",
   "metadata": {
    "scrolled": true,
    "tags": []
   },
   "outputs": [],
   "source": [
    "# Extract ZEV only projects\n",
    "df_tircp_zev = df_tircp2.loc[df_tircp2[\"zev_yes_no\"] != \"Not ZEV\"]"
   ]
  },
  {
   "cell_type": "code",
   "execution_count": null,
   "id": "3536b04c-e2b1-4522-8a7a-0d7b2bece211",
   "metadata": {
    "tags": []
   },
   "outputs": [],
   "source": [
    "len(df_tircp_zev)"
   ]
  },
  {
   "cell_type": "code",
   "execution_count": null,
   "id": "d710e353-a1d7-4955-afd9-1eada0c95439",
   "metadata": {},
   "outputs": [],
   "source": [
    "# Extract numbers out of description\n",
    "df_tircp_zev[\"description\"] = (\n",
    "    df_tircp_zev[\"description\"]\n",
    "    .str.replace(\"seven\", \"7\")\n",
    "    .str.replace(\"two\", \"2\")\n",
    "    .str.replace(\"eight\", \"8\")\n",
    "    .str.replace(\"five\", \"5\")\n",
    "    .str.replace(\"fifteen\", \"15\")\n",
    "    .str.replace(\"twenty\", \"20\")\n",
    "    .str.replace(\"three\", \"3\")\n",
    "    .str.replace(\"four\", \"4\")\n",
    "    .str.replace(\"eleven\", \"11\")\n",
    ")"
   ]
  },
  {
   "cell_type": "code",
   "execution_count": null,
   "id": "9b150ace-890f-4884-ac10-111a9111c429",
   "metadata": {},
   "outputs": [],
   "source": [
    "# Extract numbers from project desc\n",
    "df_tircp_zev[\"number_of_zev\"] = (\n",
    "    df_tircp_zev.description.str.extract(\"(\\d+)\").astype(\"float64\").fillna(0)\n",
    ")"
   ]
  },
  {
   "cell_type": "code",
   "execution_count": null,
   "id": "effc4d82-f6f7-440d-bb93-f755345ae270",
   "metadata": {
    "scrolled": true,
    "tags": []
   },
   "outputs": [],
   "source": [
    "df_tircp_zev = df_tircp_zev.drop(columns=[\"zev_yes_no\"])"
   ]
  },
  {
   "cell_type": "markdown",
   "id": "4a2faffa-7bd4-4893-8c4e-4b5401b4d848",
   "metadata": {},
   "source": [
    "## Manual Clean Up\n",
    "* Although I extracted integers from the description columns to find the number of ZEV purchased, some of the values were not populated/correct."
   ]
  },
  {
   "cell_type": "code",
   "execution_count": null,
   "id": "0c022c8b-7d0e-41ca-9efe-b21d05769d74",
   "metadata": {},
   "outputs": [],
   "source": [
    "# Export LCTOP and TIRCP to fill in the # of zev buses manually for any rows that didn't pick up the number\n",
    "\"\"\"\n",
    "with pd.ExcelWriter(\n",
    "    \"gs://calitp-analytics-data/data-analyses/tircp/LCTOP_ZEV.xlsx\"\n",
    ") as writer:\n",
    "    df_lctop3.to_excel(writer, sheet_name=\"lctop\", index=True)\n",
    "    df_tircp_zev.to_excel(writer, sheet_name=\"tircp\", index=True)\n",
    "    \"\"\""
   ]
  },
  {
   "cell_type": "markdown",
   "id": "8af8c594-1c2e-4cd2-b6ab-c60e57c97961",
   "metadata": {
    "tags": []
   },
   "source": [
    "## Analysis"
   ]
  },
  {
   "cell_type": "code",
   "execution_count": null,
   "id": "b300624a-bebe-44ae-89d6-506c6f051e9d",
   "metadata": {},
   "outputs": [],
   "source": [
    "# Open up workbook that I manually filled in\n",
    "# Sheets I want\n",
    "sheets_list = [\"lctop\", \"tircp\"]\n",
    "\n",
    "# Open the workbook in a dictionary\n",
    "dict_df1 = pd.read_excel(\n",
    "    \"gs://calitp-analytics-data/data-analyses/tircp/LCTOP_TIRCP_ZEV_manual.xlsx\",\n",
    "    sheet_name=sheets_list,\n",
    ")"
   ]
  },
  {
   "cell_type": "code",
   "execution_count": null,
   "id": "e57a1394-fd3c-4906-8ee0-0ddbc2e4c4c2",
   "metadata": {},
   "outputs": [],
   "source": [
    "# Grab each sheet\n",
    "lctop_clean = to_snakecase(dict_df1.get(\"lctop\"))\n",
    "tircp_clean = to_snakecase(dict_df1.get(\"tircp\"))"
   ]
  },
  {
   "cell_type": "markdown",
   "id": "c6ba5966-b1e0-4b07-8718-d573764de145",
   "metadata": {},
   "source": [
    "### TIRCP"
   ]
  },
  {
   "cell_type": "code",
   "execution_count": null,
   "id": "11e5ed83-6662-4508-ade4-89682326f0ee",
   "metadata": {},
   "outputs": [],
   "source": [
    "tircp_sum = [\"tircp\", \"number_of_zev\"]\n",
    "tircp_count = [\"title\"]\n",
    "tircp_group = [\"award_year\"]\n",
    "tircp_mon = [\"tircp\"]"
   ]
  },
  {
   "cell_type": "code",
   "execution_count": null,
   "id": "e9e5a581-3a7f-45b7-8815-10ead729a5ab",
   "metadata": {},
   "outputs": [],
   "source": [
    "# Create summary table for all ZEV projects\n",
    "tircp_summary = A6_zev.zev_summary(\n",
    "    tircp_clean, df_tircp, tircp_group, tircp_sum, tircp_count, tircp_mon\n",
    ")"
   ]
  },
  {
   "cell_type": "code",
   "execution_count": null,
   "id": "0d8b9d0b-37d9-49a6-a4ca-f892114bcf09",
   "metadata": {},
   "outputs": [],
   "source": [
    "# Calculate out projects that are ZEV vs total projects\n",
    "tircp_summary[\"Percent of Projects that are ZEV Adjacent\"] = (\n",
    "    tircp_summary[\"Title X\"] / tircp_summary[\"Title Y\"]\n",
    ")"
   ]
  },
  {
   "cell_type": "code",
   "execution_count": null,
   "id": "1141e310-5a0d-430b-8dfe-fc6337bd6492",
   "metadata": {},
   "outputs": [],
   "source": [
    "# Clean columns\n",
    "tircp_summary = tircp_summary.rename(\n",
    "    columns={\n",
    "        \"Title X\": \"Total ZEV Projects\",\n",
    "        \"Number Of Zev\": \"Total ZEV\",\n",
    "        \"Title Y\": \"Total Projects in Cycle\",\n",
    "        \"Tircp\": \"Total Amount Awarded\",\n",
    "    }\n",
    ")"
   ]
  },
  {
   "cell_type": "code",
   "execution_count": null,
   "id": "021939be-ccb8-406d-ad9b-ab16f0f5b787",
   "metadata": {},
   "outputs": [],
   "source": [
    "# Rename Award Year to Cycles\n",
    "tircp_summary[\"Award Year\"] = tircp_summary[\"Award Year\"].replace(\n",
    "    {\n",
    "        2015: \"Cycle 1\",\n",
    "        2016: \"Cycle 2\",\n",
    "        2018: \"Cycle 3\",\n",
    "        2020: \"Cycle 4\",\n",
    "        2022: \"Cycle 5\",\n",
    "    }\n",
    ")"
   ]
  },
  {
   "cell_type": "code",
   "execution_count": null,
   "id": "85829c07-d826-403b-a071-89b3da9188f0",
   "metadata": {},
   "outputs": [],
   "source": [
    "# Edit so Grand total row is obvious\n",
    "tircp_summary[\"Award Year\"].loc[5] = \"Grand Total\""
   ]
  },
  {
   "cell_type": "code",
   "execution_count": null,
   "id": "3294a44c-4beb-43a4-a366-69fad112277e",
   "metadata": {},
   "outputs": [],
   "source": [
    "# Manually calclate out total percent of ZEV projects\n",
    "tircp_summary[\"Percent of Projects that are ZEV Adjacent\"].loc[5] = (\n",
    "    tircp_summary[\"Total ZEV Projects\"].sum()\n",
    "    / tircp_summary[\"Total Projects in Cycle\"].sum()\n",
    ")"
   ]
  },
  {
   "cell_type": "code",
   "execution_count": null,
   "id": "7b32cf4c-ae75-451c-94ad-1316586ad0d5",
   "metadata": {},
   "outputs": [],
   "source": [
    "tircp_summary"
   ]
  },
  {
   "cell_type": "code",
   "execution_count": null,
   "id": "e96bb59e-e275-48e9-bca0-0de86df6a1d1",
   "metadata": {},
   "outputs": [],
   "source": [
    "A6_zev.basic_bar_chart(\n",
    "    tircp_summary.iloc[:-1],\n",
    "    \"Award Year\",\n",
    "    \"Total ZEV Projects\",\n",
    "    \"Award Year\",\n",
    "    \"Total ZEV Projects by FY (TIRCP)\",\n",
    ")"
   ]
  },
  {
   "cell_type": "code",
   "execution_count": null,
   "id": "7ea25470-5cec-4920-aec5-57172252842c",
   "metadata": {},
   "outputs": [],
   "source": [
    "A6_zev.basic_bar_chart(\n",
    "    tircp_summary.iloc[:-1],\n",
    "    \"Award Year\",\n",
    "    \"Total ZEV\",\n",
    "    \"Award Year\",\n",
    "    \"Total ZEV to be or already Purchased by FY (TIRCP)\",\n",
    ")"
   ]
  },
  {
   "cell_type": "markdown",
   "id": "466a44a9-bf30-4901-a438-2e62533075f1",
   "metadata": {},
   "source": [
    "#### How many  ZEV already purchased/in the pipeline?"
   ]
  },
  {
   "cell_type": "code",
   "execution_count": null,
   "id": "5fdde871-b3ca-46b7-92f5-7da83d325660",
   "metadata": {},
   "outputs": [],
   "source": [
    "# Find out how many buses already purchased by looking at only projects with 100% of allocated amount spent.\n",
    "tircp_zev_done = tircp_clean.loc[\n",
    "    tircp_clean[\"progress\"] == \"100% of allocated funds spent\"\n",
    "]\n",
    "f\"Approximately {tircp_zev_done.number_of_zev.sum()} ZEV already purchased and ${tircp_zev_done.tircp.sum()} spent\""
   ]
  },
  {
   "cell_type": "code",
   "execution_count": null,
   "id": "6cfa7499-0eba-412c-b7be-92399977be13",
   "metadata": {},
   "outputs": [],
   "source": [
    "# Look at projects that are done - says 0 when number of buses is unknown.\n",
    "tircp_zev_done = tircp_zev_done[[\"award_year\", \"grant_recipient\", \"number_of_zev\", \"tircp\"]].sort_values(\n",
    "    \"number_of_zev\", ascending=False\n",
    ")\n",
    "\n",
    "tircp_zev_done['tircp'] = tircp_zev_done['tircp'].apply(lambda x: format_currency(x, currency=\"USD\", locale=\"en_US\"))"
   ]
  },
  {
   "cell_type": "code",
   "execution_count": null,
   "id": "df304e7f-9644-4a41-adc1-1244a98de58d",
   "metadata": {},
   "outputs": [],
   "source": [
    "tircp_zev_done"
   ]
  },
  {
   "cell_type": "markdown",
   "id": "749238b0-0b29-4746-a984-26cc5af7a18b",
   "metadata": {},
   "source": [
    "#### How many  ZEV in the pipeline?"
   ]
  },
  {
   "cell_type": "code",
   "execution_count": null,
   "id": "313ad954-2bdb-44fa-b7d2-034c682efb78",
   "metadata": {},
   "outputs": [],
   "source": [
    "tircp_zev_pipeline = tircp_clean.loc[\n",
    "    tircp_clean[\"progress\"] != \"100% of allocated funds spent\"\n",
    "]\n",
    "f\"Approximately {tircp_zev_pipeline.number_of_zev.sum()} ZEV in the pipeline to be purchased and ${tircp_zev_pipeline.tircp.sum()} in projected funds.\""
   ]
  },
  {
   "cell_type": "code",
   "execution_count": null,
   "id": "d6011ab5-6cd4-4e0e-9ff0-768705edf96a",
   "metadata": {
    "scrolled": true,
    "tags": []
   },
   "outputs": [],
   "source": [
    "tircp_zev_pipeline = tircp_zev_pipeline.groupby([\"grant_recipient\", \"award_year\"]).agg(\n",
    "    {\"number_of_zev\": \"sum\", \"tircp\": \"sum\"}\n",
    ").reset_index().sort_values(\"number_of_zev\", ascending=False)"
   ]
  },
  {
   "cell_type": "code",
   "execution_count": null,
   "id": "9c339d93-eec7-42f3-973c-4eea0d68041e",
   "metadata": {},
   "outputs": [],
   "source": [
    "tircp_zev_pipeline['tircp'] = tircp_zev_pipeline['tircp'].apply(lambda x: format_currency(x, currency=\"USD\", locale=\"en_US\"))"
   ]
  },
  {
   "cell_type": "code",
   "execution_count": null,
   "id": "59b66043-a3a6-4b96-823f-34eac949e0b3",
   "metadata": {
    "scrolled": true,
    "tags": []
   },
   "outputs": [],
   "source": [
    "tircp_zev_pipeline"
   ]
  },
  {
   "cell_type": "markdown",
   "id": "7c22863e-0bde-47a4-8431-acf189cbd5db",
   "metadata": {},
   "source": [
    "### LCTOP"
   ]
  },
  {
   "cell_type": "code",
   "execution_count": null,
   "id": "e4e6fb13-2de6-4d34-b908-52d964d9e7ff",
   "metadata": {},
   "outputs": [],
   "source": [
    "lctop_count = [\"project_sub_type_ii\"]\n",
    "lctop_group = [\"funding_year\"]\n",
    "lctop_sum = [\n",
    "    \"total_project_request_99314_+_99313\",\n",
    "    \"total_lctop_funds\",\n",
    "    \"number_of_zev\",\n",
    "]\n",
    "lctop_monetary = [\n",
    "    \"total_project_request_99314_+_99313\",\n",
    "    \"total_lctop_funds\",\n",
    "]"
   ]
  },
  {
   "cell_type": "code",
   "execution_count": null,
   "id": "5b98ce90-9a52-426c-863c-172556e6455d",
   "metadata": {},
   "outputs": [],
   "source": [
    "# Create summary table for all ZEV projects\n",
    "lctop_summary = A6_zev.zev_summary(\n",
    "    lctop_clean, df_lctop2, lctop_group, lctop_sum, lctop_count, lctop_monetary\n",
    ")"
   ]
  },
  {
   "cell_type": "code",
   "execution_count": null,
   "id": "717fc07d-257a-419d-9f4d-07a5725ddc2a",
   "metadata": {},
   "outputs": [],
   "source": [
    "# Calculate out projects that are ZEV vs total projects\n",
    "lctop_summary[\"Percent of Projects that are ZEV Adjacent\"] = (\n",
    "    lctop_summary[\"Sub Type Ii X\"] / lctop_summary[\"Sub Type Ii Y\"]\n",
    ")"
   ]
  },
  {
   "cell_type": "code",
   "execution_count": null,
   "id": "c1eac014-c33d-4cef-b2cc-96daa266a009",
   "metadata": {},
   "outputs": [],
   "source": [
    "# Clean columns\n",
    "lctop_summary = lctop_summary.rename(\n",
    "    columns={\n",
    "        \"Number Of Zev\": \"Total ZEV\",\n",
    "        \"Sub Type Ii X\": \"Total ZEV Projects\",\n",
    "        \"Sub Type Ii Y\": \"Total Projects in Cycle\",\n",
    "        \"Total  Request 99314 + 99313\": \"Total Amount Awarded\",\n",
    "    }\n",
    ")"
   ]
  },
  {
   "cell_type": "code",
   "execution_count": null,
   "id": "349ac248-2b4b-4306-8365-679f9825b6cf",
   "metadata": {},
   "outputs": [],
   "source": [
    "# Change certain values from float to int\n",
    "lctop_summary[\n",
    "    [\"Total ZEV\", \"Total ZEV Projects\", \"Total Projects in Cycle\"]\n",
    "] = lctop_summary[\n",
    "    [\"Total ZEV\", \"Total ZEV Projects\", \"Total Projects in Cycle\"]\n",
    "].astype(\n",
    "    \"int64\"\n",
    ")"
   ]
  },
  {
   "cell_type": "code",
   "execution_count": null,
   "id": "f498b8e0-7078-4a54-80e0-00980fbff3f0",
   "metadata": {},
   "outputs": [],
   "source": [
    "# Make the grand total row more obvious\n",
    "lctop_summary[\"Funding Year\"].loc[6] = \"Grand Total\""
   ]
  },
  {
   "cell_type": "code",
   "execution_count": null,
   "id": "36bbdccd-903e-4c94-a34b-46fbefe78a29",
   "metadata": {},
   "outputs": [],
   "source": [
    "# Manually calc out total ZEV projects\n",
    "lctop_summary[\"Percent of Projects that are ZEV Adjacent\"].loc[6] = (\n",
    "    lctop_summary[\"Total ZEV Projects\"].sum()\n",
    "    / lctop_summary[\"Total Projects in Cycle\"].sum()\n",
    ")"
   ]
  },
  {
   "cell_type": "code",
   "execution_count": null,
   "id": "dfedce08-5df7-44d0-bdb0-0166f17d42ee",
   "metadata": {},
   "outputs": [],
   "source": [
    "# lctop_summary"
   ]
  },
  {
   "cell_type": "code",
   "execution_count": null,
   "id": "dcf10673-75f2-4f47-8f3f-e78f22fa7116",
   "metadata": {},
   "outputs": [],
   "source": [
    "A6_zev.basic_bar_chart(\n",
    "    lctop_summary.iloc[:-1],\n",
    "    \"Funding Year\",\n",
    "    \"Total ZEV\",\n",
    "    \"Funding Year\",\n",
    "    \"Total ZEV to be or already Purchased by FY (LCTOP)\",\n",
    ")"
   ]
  },
  {
   "cell_type": "code",
   "execution_count": null,
   "id": "0497f0c3-fd07-42b8-b806-d5c9d8d07c6e",
   "metadata": {},
   "outputs": [],
   "source": [
    "A6_zev.basic_bar_chart(\n",
    "    lctop_summary.iloc[:-1],\n",
    "    \"Funding Year\",\n",
    "    \"Total ZEV Projects\",\n",
    "    \"Funding Year\",\n",
    "    \"Total ZEV Projects by FY (LCTOP)\",\n",
    ")"
   ]
  },
  {
   "cell_type": "markdown",
   "id": "7eaff8b7-114a-4b30-b10b-b6ec797bdb50",
   "metadata": {
    "tags": []
   },
   "source": [
    "#### ZEV in the pipeline\n",
    "* Status column as shown below has only one \"closed\", 50 null values, and 101 open."
   ]
  },
  {
   "cell_type": "code",
   "execution_count": null,
   "id": "49dc124b-13ed-4707-81c9-c02376b04177",
   "metadata": {},
   "outputs": [],
   "source": [
    "lctop_clean[\"status\"].value_counts()"
   ]
  },
  {
   "cell_type": "code",
   "execution_count": null,
   "id": "7d999b6f-1886-4132-8e33-f2de524a613e",
   "metadata": {},
   "outputs": [],
   "source": [
    "lctop_done = lctop_clean.loc[lctop_clean[\"status\"] == \"closed\"]\n",
    "f\"Approximately {lctop_done.number_of_zev.sum()} ZEV already purchased and ${lctop_done['total_project_request_99314_+_99313'].sum()} spent\""
   ]
  },
  {
   "cell_type": "code",
   "execution_count": null,
   "id": "64d10208-c7c7-49f0-acd1-96a8b589c266",
   "metadata": {},
   "outputs": [],
   "source": [
    "lctop_pipeline = lctop_clean.loc[lctop_clean[\"status\"] != \"closed\"]\n",
    "f\"Approximately {lctop_clean.number_of_zev.sum()} ZEV to be purchased and ${lctop_clean['total_project_request_99314_+_99313'].sum()} in projected funds\""
   ]
  },
  {
   "cell_type": "markdown",
   "id": "bb766431-840a-4213-b618-3766ad87919f",
   "metadata": {},
   "source": [
    "#### All Applicants"
   ]
  },
  {
   "cell_type": "code",
   "execution_count": null,
   "id": "e51b5916-3812-4b56-bed8-ca414a373cac",
   "metadata": {},
   "outputs": [],
   "source": [
    "lctop_clean[\"total_project_request_99314_+_99313\"] = lctop_clean[\n",
    "    \"total_project_request_99314_+_99313\"\n",
    "].astype(\"int64\")"
   ]
  },
  {
   "cell_type": "code",
   "execution_count": null,
   "id": "fd87bed0-ac51-4618-85ef-0c02bdd2fb87",
   "metadata": {
    "scrolled": true,
    "tags": []
   },
   "outputs": [],
   "source": [
    "lctop_applicants = (\n",
    "    lctop_clean.groupby([\"funding_year\", \"lead_agency\"])\n",
    "    .agg({\"number_of_zev\": \"sum\", \"total_project_request_99314_+_99313\": \"sum\"})\n",
    "    .reset_index()\n",
    "    .sort_values(\"number_of_zev\", ascending=False)\n",
    ")"
   ]
  },
  {
   "cell_type": "code",
   "execution_count": null,
   "id": "2e7195d1-13a0-4bd3-abaa-fa0aa4c36a8f",
   "metadata": {},
   "outputs": [],
   "source": [
    "lctop_applicants[\"total_project_request_99314_+_99313\"] = lctop_applicants[\n",
    "    \"total_project_request_99314_+_99313\"\n",
    "].apply(lambda x: format_currency(x, currency=\"USD\", locale=\"en_US\"))"
   ]
  },
  {
   "cell_type": "code",
   "execution_count": null,
   "id": "b769f16b-5c59-478c-bbe1-23b884762948",
   "metadata": {
    "scrolled": true,
    "tags": []
   },
   "outputs": [],
   "source": [
    "# lctop_applicants"
   ]
  },
  {
   "cell_type": "markdown",
   "id": "df43a5e3-6c5f-4e8d-9d3f-b3b92b73a809",
   "metadata": {},
   "source": [
    "## Export"
   ]
  },
  {
   "cell_type": "code",
   "execution_count": null,
   "id": "8d8eb19b-8882-42d1-a46b-e9b716981daa",
   "metadata": {},
   "outputs": [],
   "source": [
    "\"\"\"\n",
    "with pd.ExcelWriter(\n",
    "    \"gs://calitp-analytics-data/data-analyses/tircp/LCTOP_ZEV_final.xlsx\"\n",
    ") as writer:\n",
    "    tircp_summary.to_excel(writer, sheet_name=\"tircp_summary\", index=False)\n",
    "    tircp_zev_done.to_excel(writer, sheet_name=\"tircp_finished_projects\", index=False)\n",
    "    tircp_zev_pipeline.to_excel(writer, sheet_name=\"tircp_inprogress\", index=False)\n",
    "    lctop_summary.to_excel(writer, sheet_name=\"lctop_summary\", index=False)\n",
    "    lctop_applicants.to_excel(writer, sheet_name=\"lctop_applicants\", index=False)\n",
    "    \"\"\""
   ]
  }
 ],
 "metadata": {
  "kernelspec": {
   "display_name": "Python 3 (ipykernel)",
   "language": "python",
   "name": "python3"
  },
  "language_info": {
   "codemirror_mode": {
    "name": "ipython",
    "version": 3
   },
   "file_extension": ".py",
   "mimetype": "text/x-python",
   "name": "python",
   "nbconvert_exporter": "python",
   "pygments_lexer": "ipython3",
   "version": "3.10.5"
  }
 },
 "nbformat": 4,
 "nbformat_minor": 5
}
