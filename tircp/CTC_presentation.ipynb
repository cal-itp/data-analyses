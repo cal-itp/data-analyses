{
 "cells": [
  {
   "cell_type": "code",
   "execution_count": 8,
   "id": "932a37b7-b89d-4c93-8143-79bf1b54a276",
   "metadata": {},
   "outputs": [],
   "source": [
    "import numpy as np\n",
    "import pandas as pd\n",
    "import A1_data_prep as data_prep\n",
    "import A2_tableau \n",
    "from calitp import *\n",
    "\n",
    "GCS_FILE_PATH = \"gs://calitp-analytics-data/data-analyses/tircp/\""
   ]
  },
  {
   "cell_type": "code",
   "execution_count": 2,
   "id": "45998401-ea23-46ce-8068-a0d51fe8ddcf",
   "metadata": {},
   "outputs": [],
   "source": [
    "pd.options.display.max_columns = 50\n",
    "pd.options.display.max_rows = 120\n",
    "pd.set_option('display.max_colwidth', None)"
   ]
  },
  {
   "cell_type": "code",
   "execution_count": 3,
   "id": "d4fee000-4277-46cc-9984-c00181f11acf",
   "metadata": {},
   "outputs": [],
   "source": [
    "GCS_FILE_PATH = \"gs://calitp-analytics-data/data-analyses/tircp/\"\n",
    "FILE_NAME = \"TIRCP_July_8_2022.xlsx\""
   ]
  },
  {
   "cell_type": "code",
   "execution_count": 5,
   "id": "47da3b41-f583-414b-af92-00cab30c1994",
   "metadata": {},
   "outputs": [
    {
     "name": "stderr",
     "output_type": "stream",
     "text": [
      "/opt/conda/lib/python3.10/site-packages/openpyxl/worksheet/_reader.py:312: UserWarning: Data Validation extension is not supported and will be removed\n"
     ]
    }
   ],
   "source": [
    "cleaned_project = data_prep.clean_project()"
   ]
  },
  {
   "cell_type": "code",
   "execution_count": 6,
   "id": "c58b4eaf-bc13-4082-a0ee-95e49c1b2cb3",
   "metadata": {},
   "outputs": [],
   "source": [
    "cleaned_alloc = data_prep.clean_allocation()"
   ]
  },
  {
   "cell_type": "code",
   "execution_count": 9,
   "id": "2dfbcda1-ef88-449c-adcc-8eeaa9f16a22",
   "metadata": {},
   "outputs": [
    {
     "name": "stderr",
     "output_type": "stream",
     "text": [
      "/opt/conda/lib/python3.10/site-packages/openpyxl/worksheet/_reader.py:312: UserWarning: Data Validation extension is not supported and will be removed\n",
      "/home/jovyan/data-analyses/tircp/A2_tableau.py:170: FutureWarning: The default value of regex will change from True to False in a future version.\n"
     ]
    }
   ],
   "source": [
    "sheet_tableau = A2_tableau.tableau() "
   ]
  },
  {
   "cell_type": "code",
   "execution_count": 10,
   "id": "b938266f-d4d2-4622-ae18-b0cd3df47530",
   "metadata": {},
   "outputs": [],
   "source": [
    "with pd.ExcelWriter(f\"{GCS_FILE_PATH}ctc_presentation.xlsx\") as writer:\n",
    "    cleaned_project.to_excel(writer, sheet_name=\"project\", index=True)\n",
    "    cleaned_alloc.to_excel(writer, sheet_name=\"allocation\", index=True)\n",
    "    sheet_tableau.to_excel(writer, sheet_name=\"tableau\", index=True)"
   ]
  }
 ],
 "metadata": {
  "kernelspec": {
   "display_name": "Python 3 (ipykernel)",
   "language": "python",
   "name": "python3"
  },
  "language_info": {
   "codemirror_mode": {
    "name": "ipython",
    "version": 3
   },
   "file_extension": ".py",
   "mimetype": "text/x-python",
   "name": "python",
   "nbconvert_exporter": "python",
   "pygments_lexer": "ipython3",
   "version": "3.10.4"
  }
 },
 "nbformat": 4,
 "nbformat_minor": 5
}
