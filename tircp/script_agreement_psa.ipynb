{
 "cells": [
  {
   "cell_type": "markdown",
   "id": "cdeae02c-ff5d-4c6e-8bbe-f430426ac9ff",
   "metadata": {},
   "source": [
    "## Master Agreement/PSA Report \n",
    "* Goal: Make it easy for branch chiefs to know whether a Master Agreement and/or Program Supplement is needed or is going to expire in the next year.\n",
    "* This will be a monthly report.\n"
   ]
  },
  {
   "cell_type": "code",
   "execution_count": 1,
   "id": "5622f666-0352-41fc-85c1-f04c219f9476",
   "metadata": {},
   "outputs": [],
   "source": [
    "import A1_data_prep\n",
    "import A2_tableau\n",
    "import A5_crosswalks\n",
    "import numpy as np\n",
    "import pandas as pd\n",
    "from babel.numbers import format_currency\n",
    "from calitp import *\n",
    "\n",
    "pd.options.display.max_columns = 100\n",
    "pd.options.display.float_format = \"{:.2f}\".format\n",
    "pd.set_option(\"display.max_rows\", None)\n",
    "pd.set_option(\"display.max_colwidth\", None)"
   ]
  },
  {
   "cell_type": "markdown",
   "id": "64850984-4c69-42df-9308-9479124caf96",
   "metadata": {},
   "source": [
    "### Project Sheet\n",
    "* Column A - Award Year  \n",
    "* Column B - Project #       \n",
    "* Column C - Grant Recipient          \n",
    "* Column D - Project Title \n",
    "* Column E - PPNO             \n",
    "* Column I - Master Agreement Number\n",
    "* Column J - Master Agreement Expiration Date\n",
    "* Column K - Project Manager"
   ]
  },
  {
   "cell_type": "markdown",
   "id": "03a602dd-d3d6-42be-b088-8eca5c76e42a",
   "metadata": {},
   "source": [
    "### Criteria\n",
    "* If the master agreement field (column I Master Agreement Number, tab 1) is empty, the information should appear on the report\n",
    "* If there is less than a year until the Master Agreement Expiration Date, the information should appear on the report"
   ]
  },
  {
   "cell_type": "code",
   "execution_count": 2,
   "id": "f09a93bc-2592-4650-b40c-bafb441ff8ba",
   "metadata": {},
   "outputs": [],
   "source": [
    "# Subset of cols.\n",
    "master_agreement_cols = [\n",
    "    \"project_award_year\",\n",
    "    \"project_project_#\",\n",
    "    \"project_grant_recipient\",\n",
    "    \"project_project_title\",\n",
    "    \"project_ppno\",\n",
    "    \"project_master_agreement_number\",\n",
    "    \"project_master_agreement_expiration_date\",\n",
    "    \"project_project_manager\",\n",
    "]"
   ]
  },
  {
   "cell_type": "code",
   "execution_count": 3,
   "id": "8f9e7047-c924-47a7-a236-e277fc785924",
   "metadata": {},
   "outputs": [],
   "source": [
    "# Correct column order for the final report.\n",
    "master_agreement_right_order = [\n",
    "    \"Manager\",\n",
    "    \"Award Year\",\n",
    "    \"#\",\n",
    "    \"Grant Recipient\",\n",
    "    \"Title\",\n",
    "    \"Ppno\",\n",
    "    \"Master Agreement Number\",\n",
    "    \"Master Agreement Expiration Date\",\n",
    "    \"Tag\",\n",
    "]"
   ]
  },
  {
   "cell_type": "code",
   "execution_count": 4,
   "id": "5db129c1-f6ce-4c8d-818d-9fa499b2f8da",
   "metadata": {},
   "outputs": [],
   "source": [
    "# Tag projects with the appropriate comment\n",
    "def ma_comments(row):\n",
    "\n",
    "    if (row[\"project_master_agreement_number\"] == \"None\") | (\n",
    "        row[\"project_master_agreement_number\"] == \"Pending\"\n",
    "    ):\n",
    "        return \"None/Pending Master Agreement Number\"\n",
    "    else:\n",
    "        return \"<1 a year until Master Agreement Expiration Date\""
   ]
  },
  {
   "cell_type": "code",
   "execution_count": 5,
   "id": "3495f067-ccd6-4e4f-86f7-9561fe2efc91",
   "metadata": {},
   "outputs": [],
   "source": [
    "# project = A1_data_prep.clean_up_columns(project)"
   ]
  },
  {
   "cell_type": "code",
   "execution_count": 6,
   "id": "4d475eb1-bdad-4381-a3fe-bde09973e2b5",
   "metadata": {},
   "outputs": [],
   "source": [
    "def create_master_agreement(expiration_year: int):\n",
    "    project = A1_data_prep.clean_project()\n",
    "\n",
    "    # Subset df to only the columns requested\n",
    "    project = project[master_agreement_cols]\n",
    "\n",
    "    # Coerce to datetime\n",
    "    project.project_master_agreement_expiration_date = (\n",
    "        project.project_master_agreement_expiration_date.apply(\n",
    "            pd.to_datetime, errors=\"coerce\"\n",
    "        )\n",
    "    )\n",
    "\n",
    "    # Conditions\n",
    "    # If there is less than a year until the Master Agreement Expiration Date\n",
    "    project_cond1 = (\n",
    "        project.project_master_agreement_expiration_date.dt.year == expiration_year\n",
    "    )\n",
    "    # If the master agreement field (column I Master Agreement Number, tab 1) is empty\n",
    "    project_cond2 = project.project_master_agreement_number.isin([\"None\", \"Pending\"])\n",
    "\n",
    "    # Filter based on criteria above\n",
    "    project = (project[(project_cond1 | project_cond2)]).reset_index(drop=True)\n",
    "\n",
    "    # Apply tag\n",
    "    project[\"Tag\"] = project.apply(ma_comments, axis=1)\n",
    "\n",
    "    # Clean up\n",
    "    project = A1_data_prep.clean_up_columns(project)\n",
    "\n",
    "    # Change month-year from 2023-10-01 to October 2023\n",
    "    # https://stackoverflow.com/questions/57033657/how-to-extract-month-name-and-year-from-date-column-of-dataframe\n",
    "    project[\"Master Agreement Expiration Date\"] = project[\n",
    "        \"Master Agreement Expiration Date\"\n",
    "    ].dt.strftime(\"%m-%d-%Y\")\n",
    "\n",
    "    # Arrange columns to the correct order\n",
    "    project = project[master_agreement_right_order]\n",
    "\n",
    "    return project"
   ]
  },
  {
   "cell_type": "code",
   "execution_count": 7,
   "id": "7e50c3f8-9d81-4afe-b41d-715aa0201873",
   "metadata": {
    "tags": []
   },
   "outputs": [
    {
     "name": "stderr",
     "output_type": "stream",
     "text": [
      "/opt/conda/lib/python3.9/site-packages/openpyxl/worksheet/_reader.py:312: UserWarning: Data Validation extension is not supported and will be removed\n",
      "  warn(msg)\n"
     ]
    }
   ],
   "source": [
    "project_test = create_master_agreement(2023)"
   ]
  },
  {
   "cell_type": "code",
   "execution_count": 8,
   "id": "4058d314-a036-40c7-a828-8d1f02241f0b",
   "metadata": {},
   "outputs": [],
   "source": [
    "# project_test.head()"
   ]
  },
  {
   "cell_type": "markdown",
   "id": "230005ab-5676-49b0-98f2-39fc9fb404df",
   "metadata": {},
   "source": [
    "### Allocation Sheet\n",
    "* Column F - Project ID\n",
    "* Column E - EA\n",
    "* Column I - Phase \n",
    "* Column J - Allocation Amount\n",
    "* Column T - Allocation Date \n",
    "* Column V - PSA #\n",
    "* Column Q: Allocation Amendment\n",
    "* Column AB - Date Branch Chief Receives PSA       \n",
    "* Column AC - Date Regional Coordinator Receives PSA      \n",
    "* Column AD - Date OC Receives PSA          \n",
    "* Column AE - Date OPM Receives PSA      \n",
    "* Column AF - Date Legal Receives PSA      \n",
    "* Column AG - Date Returned to PM           \n",
    "* Column AH - Date PSA Sent to Local Agency         \n",
    "* Column AI - Date PSA Approved by Local Agency \n",
    "* Column AJ - Date Signed by DRMT\n",
    "* Column AK – PSA Expiry Date\n"
   ]
  },
  {
   "cell_type": "code",
   "execution_count": 9,
   "id": "8d195a49-6f79-4035-adbb-4495853e1064",
   "metadata": {},
   "outputs": [],
   "source": [
    "# allocation = A1_data_prep.clean_allocation()"
   ]
  },
  {
   "cell_type": "code",
   "execution_count": 10,
   "id": "25e4a347-15f6-441b-9c64-880ce262ec9b",
   "metadata": {},
   "outputs": [],
   "source": [
    "# allocation.columns"
   ]
  },
  {
   "cell_type": "code",
   "execution_count": 11,
   "id": "8b0a23e0-27c3-4425-9b00-e0a56ee32005",
   "metadata": {},
   "outputs": [],
   "source": [
    "alloc_cols = [\n",
    "    \"allocation_grant_recipient\",\n",
    "    \"allocation_implementing_agency\",\n",
    "    \"allocation_project_#\",\n",
    "    \"allocation_components\",\n",
    "    \"allocation_ppno\",\n",
    "    \"allocation_project_id\",\n",
    "    \"allocation_ea\",\n",
    "    \"allocation_phase\",\n",
    "    \"allocation_allocation_amount\",\n",
    "    \"allocation_allocation_date\",\n",
    "    \"allocation_psa_#\",\n",
    "    \"allocation_date_branch_chief_receives_psa\",\n",
    "    \"allocation_date_regional_coordinator_receives_psa\",\n",
    "    \"allocation_date_oc_receives_psa\",\n",
    "    \"allocation_date_opm_receives_psa\",\n",
    "    \"allocation_date_legal_receives_psa\",\n",
    "    \"allocation_date_returned_to_pm\",\n",
    "    \"allocation_date_psa_sent_to_local_agency\",\n",
    "    \"allocation_date_psa_approved_by_local_agency\",\n",
    "    \"allocation_ctc_allocation_amendment\",\n",
    "    \"allocation_date_signed_by_drmt\",\n",
    "    \"allocation_psa_expiry_date\",\n",
    "]"
   ]
  },
  {
   "cell_type": "code",
   "execution_count": 12,
   "id": "c13a07fd-c872-41aa-b546-3546dd182a16",
   "metadata": {},
   "outputs": [],
   "source": [
    "# alloc2 = alloc[alloc_cols]"
   ]
  },
  {
   "cell_type": "markdown",
   "id": "f173d0a9-1ca1-4e9e-931f-ff33bfea6959",
   "metadata": {
    "tags": []
   },
   "source": [
    "#### Criteria #1\n",
    "* If there is new information in column Q and no change in column (Date Signed by DRMT), then the information should be on the report\n",
    "* https://stackoverflow.com/questions/54879260/how-to-highlight-differences-in-pandas-data-frame-after-concatenating-them"
   ]
  },
  {
   "cell_type": "code",
   "execution_count": 13,
   "id": "3af1fe81-22d0-460f-b5fa-7e5a6a094ed8",
   "metadata": {},
   "outputs": [],
   "source": [
    "def summarize_rows(df, col_to_group: list, col_to_summarize: str):\n",
    "    df_col_to_summarize = (\n",
    "        df.groupby(col_to_group)[col_to_summarize].apply(\",\".join).reset_index()\n",
    "    )\n",
    "    return df_col_to_summarize"
   ]
  },
  {
   "cell_type": "code",
   "execution_count": 14,
   "id": "de669941-b439-4475-9b23-b48f3baa8d81",
   "metadata": {},
   "outputs": [],
   "source": [
    "def create_unique_id(df):\n",
    "    df[\"unique_id\"] = (\n",
    "        df.project_id.astype(str)\n",
    "        + \"-\"\n",
    "        + df.ppno.astype(str)\n",
    "        + \"-\"\n",
    "        + df.components.astype(str)\n",
    "        + \"-\"\n",
    "        + df.phase.astype(str)\n",
    "        + df.allocation_amount.astype(str)\n",
    "    ).str.lower()\n",
    "    return df"
   ]
  },
  {
   "cell_type": "code",
   "execution_count": 15,
   "id": "130ecff1-e85f-4ce0-9b2d-b5a4611032d4",
   "metadata": {},
   "outputs": [],
   "source": [
    "def clean_date_signed_ctc_drmt(df, my_prefix: str):\n",
    "    \"\"\"\n",
    "    Clean the allocation sheet for the PSA agreement condition\n",
    "    of keeping projects where its CTC allocation column changed\n",
    "    but date signed by DRMT did not change.\n",
    "    \"\"\"\n",
    "    # Some rows are not completely filled: drop them based on whether or not some cols are populated.\n",
    "    df = df.dropna(subset=[\"award_year\", \"grant_recipient\", \"ppno\"])\n",
    "\n",
    "    # Do some manual cleaning\n",
    "    df = A1_data_prep.clean_allocation_manual(df)\n",
    "\n",
    "    # Subset\n",
    "    df = df[\n",
    "        [\n",
    "            \"ppno\",\n",
    "            \"project_id\",\n",
    "            \"phase\",\n",
    "            \"date_signed_by_drmt\",\n",
    "            \"components\",\n",
    "            \"allocation_amount\",\n",
    "            \"ctc_allocation_amendment\",\n",
    "        ]\n",
    "    ]\n",
    "\n",
    "    # Fill in NA\n",
    "    df = df.fillna(\"None\")\n",
    "\n",
    "    # Create an ID\n",
    "    df = create_unique_id(df)\n",
    "\n",
    "    # Drop old columns\n",
    "    df = df[[\"unique_id\", \"date_signed_by_drmt\", \"ctc_allocation_amendment\"]]\n",
    "\n",
    "    # Add prefix\n",
    "    df = df.add_prefix(my_prefix)\n",
    "\n",
    "    return df"
   ]
  },
  {
   "cell_type": "code",
   "execution_count": 16,
   "id": "f9e93175-d38c-407f-96e9-f39129c4f80f",
   "metadata": {},
   "outputs": [],
   "source": [
    "# alloc_test = clean_date_signed_drmt(allocation, 'test')"
   ]
  },
  {
   "cell_type": "code",
   "execution_count": 17,
   "id": "d7218b54-2cf2-4831-9c14-1d1b4ca46dff",
   "metadata": {},
   "outputs": [],
   "source": [
    "def date_signed_drmt_ctc_condition(previous_sheet_path: str, previous_sheet_name: str):\n",
    "\n",
    "    # Pretend that this is the new allocation sheet\n",
    "    new = A1_data_prep.load_allocation()\n",
    "\n",
    "    # This is an allocation sheet I populated with fake values\n",
    "    # in the Date signed by DRMT column. Pretend this is the \"previous\" one\n",
    "    previous = to_snakecase(\n",
    "        pd.read_excel(\n",
    "            f\"{A1_data_prep.GCS_FILE_PATH}{previous_sheet_path}\",\n",
    "            sheet_name=previous_sheet_name,\n",
    "        )\n",
    "    )\n",
    "\n",
    "    previous = clean_date_signed_ctc_drmt(previous, \"previous_\")\n",
    "    new = clean_date_signed_ctc_drmt(new, \"new_\")\n",
    "\n",
    "    # Compare the new to previous\n",
    "    merged = pd.merge(\n",
    "        previous,\n",
    "        new,\n",
    "        how=\"inner\",\n",
    "        left_on=\"previous_unique_id\",\n",
    "        right_on=\"new_unique_id\",\n",
    "    )\n",
    "\n",
    "    # Drop duplicates\n",
    "    merged2 = merged.drop_duplicates()\n",
    "\n",
    "    # First condition: did date signed by DRMT remain the same?\n",
    "    # Coerce dates to datetime\n",
    "    date_cols = [\"previous_date_signed_by_drmt\",\"new_date_signed_by_drmt\"]\n",
    "    merged2[date_cols] = merged2[date_cols].apply(pd.to_datetime, errors=\"coerce\")\n",
    "    \n",
    "    merged2[\"do_dates_match\"] = (\n",
    "        merged2[\"previous_date_signed_by_drmt\"] == merged2[\"new_date_signed_by_drmt\"]\n",
    "    )\n",
    "\n",
    "    # Second condition: did CTC Allocation column change?\n",
    "    merged2[\"does_ctc_match\"] = (\n",
    "        merged2[\"previous_ctc_allocation_amendment\"]\n",
    "        == merged2[\"new_ctc_allocation_amendment\"]\n",
    "    )\n",
    "\n",
    "    # Filter: if there is new information in column CTC and no change in column Date Signed by DRMT, then the information should be on the report\n",
    "    merged2 = (\n",
    "        merged2[\n",
    "            (merged2[\"does_ctc_match\"] == False) & (merged2[\"do_dates_match\"] == True)\n",
    "        ]\n",
    "    ).reset_index(drop=True)\n",
    "\n",
    "    # Grab unique IDS.\n",
    "    unique_ids_list = merged2.previous_unique_id.tolist()\n",
    "\n",
    "    return unique_ids_list"
   ]
  },
  {
   "cell_type": "code",
   "execution_count": 18,
   "id": "65e250ed-1c52-40d3-b927-f3dd0b97d760",
   "metadata": {},
   "outputs": [],
   "source": [
    "# date_signed_change_list = date_signed_drmt_ctc_condition(\"fake_allocation_sheet.xlsx\")"
   ]
  },
  {
   "cell_type": "code",
   "execution_count": 19,
   "id": "ef1c0506-812e-46ad-9acc-07ca41f58e0e",
   "metadata": {},
   "outputs": [],
   "source": [
    "# m2 = (m2[(m2[\"does_ctc_match\"] == False) & (m2[\"do_dates_match\"] == True)]).reset_index(drop = True)"
   ]
  },
  {
   "cell_type": "code",
   "execution_count": 20,
   "id": "95f33ba0-571c-44b4-a9d9-bbc66fbcd391",
   "metadata": {
    "tags": []
   },
   "outputs": [],
   "source": [
    "# Tag: if the two previous dates match\n",
    "# m2[\"Tag\"] = ((m2[\"previousdate_signed_by_drmt\"] == m2['newdate_signed_by_drmt'])).astype('str')"
   ]
  },
  {
   "cell_type": "markdown",
   "id": "a7703a2b-b621-4330-aa5c-4d3547fc85dc",
   "metadata": {
    "tags": []
   },
   "source": [
    "#### Criterias #2 and #3\n",
    "* If there is a date in the “Allocation Date” field (column T) and no date in the “Date Signed by DRMT” (column AJ), then the information should be on the report\n",
    "* If there is 6 months or less until the expiry date (column AK), then the information would be on the report\n"
   ]
  },
  {
   "cell_type": "code",
   "execution_count": 21,
   "id": "99973900-998d-426b-9044-510618699646",
   "metadata": {},
   "outputs": [],
   "source": [
    "# allocation.columns = allocation.columns.str.replace(\"^allocation_\", \"\")"
   ]
  },
  {
   "cell_type": "code",
   "execution_count": 22,
   "id": "578c6a8f-a3c5-4bd3-ab71-8728427c5842",
   "metadata": {},
   "outputs": [],
   "source": [
    "# allocation = create_unique_id(allocation)"
   ]
  },
  {
   "cell_type": "code",
   "execution_count": 23,
   "id": "87a563ec-c6d9-42e6-9d36-6d8e47f1821a",
   "metadata": {},
   "outputs": [],
   "source": [
    "# allocation = (allocation[allocation.unique_id.isin(date_signed_change_list)]).reset_index(drop = True)"
   ]
  },
  {
   "cell_type": "code",
   "execution_count": 24,
   "id": "fc1923af-c5ab-4985-b829-1996b34fd463",
   "metadata": {},
   "outputs": [],
   "source": [
    "cols_to_group = [\n",
    "    \"Grant Recipient\",\n",
    "    \"Implementing Agency\",\n",
    "    \"Project #\",\n",
    "    \"Components\",\n",
    "    \"Ppno\",\n",
    "    \"Project Id\",\n",
    "    \"Ea\",\n",
    "    \"Phase\",\n",
    "    \"Allocation Amount\",\n",
    "    \"Allocation Date\",\n",
    "    \"Psa #\",\n",
    "    \"Date Branch Chief Receives Psa\",\n",
    "    \"Date Regional Coordinator Receives Psa\",\n",
    "    \"Date Oc Receives Psa\",\n",
    "    \"Date Opm Receives Psa\",\n",
    "    \"Date Legal Receives Psa\",\n",
    "    \"Date Returned To Pm\",\n",
    "    \"Date Psa Sent To Local Agency\",\n",
    "    \"Date Psa Approved By Local Agency\",\n",
    "    \"Ctc Allocation Amendment\",\n",
    "    \"Date Signed By Drmt\",\n",
    "    \"Psa Expiry Date\",\n",
    "    \"Unique Id\",\n",
    "]"
   ]
  },
  {
   "cell_type": "code",
   "execution_count": 25,
   "id": "a897201f-b290-4db7-99bc-d28eeaef8c47",
   "metadata": {},
   "outputs": [],
   "source": [
    "psa_date_cols = [\n",
    "    \"Date Branch Chief Receives Psa\",\n",
    "    \"Date Regional Coordinator Receives Psa\",\n",
    "    \"Date Oc Receives Psa\",\n",
    "    \"Date Opm Receives Psa\",\n",
    "    \"Date Legal Receives Psa\",\n",
    "    \"Date Returned To Pm\",\n",
    "    \"Date Psa Sent To Local Agency\",\n",
    "    \"Date Psa Approved By Local Agency\",\n",
    "    \"Date Signed By Drmt\",\n",
    "    \"Psa Expiry Date\",\n",
    "    \"Allocation Date\",\n",
    "]"
   ]
  },
  {
   "cell_type": "code",
   "execution_count": 26,
   "id": "380bd66e-eca5-4a50-a1b4-2a73f3d442b5",
   "metadata": {},
   "outputs": [],
   "source": [
    "psa_project_cols = [\n",
    "    \"project_award_year\",\n",
    "    \"project_ppno\",\n",
    "    \"project_project_#\",\n",
    "    \"project_project_manager\",\n",
    "]"
   ]
  },
  {
   "cell_type": "code",
   "execution_count": 27,
   "id": "64d1af5a-5650-423f-ac42-f5e907a1b466",
   "metadata": {},
   "outputs": [],
   "source": [
    "PSA_right_order = [\n",
    "    \"Project Manager\",\n",
    "    \"Award Year\",\n",
    "    \"Project #\",\n",
    "    \"Grant Recipient\",\n",
    "    \"Implementing Agency\",\n",
    "    \"Components\",\n",
    "    \"Ppno\",\n",
    "    \"Project Id\",\n",
    "    \"Ea\",\n",
    "    \"Phase\",\n",
    "    \"Allocation Amount\",\n",
    "    \"Allocation Date\",\n",
    "    \"Psa #\",\n",
    "    \"Date Branch Chief Receives Psa\",\n",
    "    \"Date Regional Coordinator Receives Psa\",\n",
    "    \"Date Oc Receives Psa\",\n",
    "    \"Date Opm Receives Psa\",\n",
    "    \"Date Legal Receives Psa\",\n",
    "    \"Date Returned To Pm\",\n",
    "    \"Date Psa Sent To Local Agency\",\n",
    "    \"Date Psa Approved By Local Agency\",\n",
    "    \"Ctc Allocation Amendment\",\n",
    "    \"Date Signed By Drmt\",\n",
    "    \"Psa Expiry Date\",\n",
    "    \"Tag\",\n",
    "]"
   ]
  },
  {
   "cell_type": "code",
   "execution_count": 28,
   "id": "6a988e49-aa4a-45c9-b1d3-505ddb33fcb1",
   "metadata": {},
   "outputs": [],
   "source": [
    "allocation = A1_data_prep.clean_allocation()"
   ]
  },
  {
   "cell_type": "code",
   "execution_count": 29,
   "id": "245da187-3cbb-42bf-97f3-c32a87d05920",
   "metadata": {
    "scrolled": true,
    "tags": []
   },
   "outputs": [],
   "source": [
    "def tag_PSA_report(\n",
    "    start_date: str,\n",
    "    end_date: str,\n",
    "    previous_allocation_file_name: str,\n",
    "    previous_allocation_tab_name: str,\n",
    "):\n",
    "\n",
    "    # Load sheets\n",
    "    allocation = A1_data_prep.clean_allocation()[alloc_cols]\n",
    "\n",
    "    # Remove prefixes\n",
    "    allocation.columns = allocation.columns.str.replace(\"^allocation_\", \"\")\n",
    "\n",
    "    # Create unique ids\n",
    "    allocation = create_unique_id(allocation)\n",
    "\n",
    "    # If there is new information in column CTC and no change in column Date Signed by DRMT\n",
    "    # then the information should be on the report\n",
    "    date_signed_drmt_list = date_signed_drmt_ctc_condition(\n",
    "        previous_allocation_file_name, previous_allocation_tab_name)\n",
    "\n",
    "    date_signed_drmt = (allocation[allocation.unique_id.isin(date_signed_drmt_list)]).reset_index(drop=True)\n",
    "    date_signed_drmt[\"Tag\"] = \"New info in CTC Alloc Ammendment but date signed by DRMT didn't change\"\n",
    "\n",
    "    # If projects with a PSA that will expire in the next 6 months or less, include these projects on the report.\n",
    "    expiration_condition = (\n",
    "        allocation.psa_expiry_date.dt.date.astype(str) > start_date\n",
    "    ) & (allocation.psa_expiry_date.dt.date.astype(str) < end_date)\n",
    "\n",
    "    will_expire = (allocation[expiration_condition]).reset_index(drop=True)\n",
    "    will_expire[\"Tag\"] = \"PSA will expire in < 6 months\"\n",
    "\n",
    "    # Find projects with a PSA where the allocation date is filled\n",
    "    # but the allocation date signed by DRMT is empty\n",
    "    allocation_drmt_date_condition = (allocation.allocation_date.notna()) & (allocation.date_signed_by_drmt.isna())\n",
    "    allocation_drmt_date = (allocation[allocation_drmt_date_condition]).reset_index(drop=True)\n",
    "\n",
    "    allocation_drmt_date[\n",
    "        \"Tag\"\n",
    "    ] = \"Allocation date is filled but date signed by DRMT is empty\"\n",
    "\n",
    "    # Concat them\n",
    "    c1 = pd.concat([date_signed_drmt, will_expire, allocation_drmt_date])\n",
    "\n",
    "    # Clean Up\n",
    "    c1 = c1.fillna(\"None\")\n",
    "    c1.columns = c1.columns.str.replace(\"_\", \" \").str.title().str.strip()\n",
    "\n",
    "    # Need to clean up projects that appear twice because they meet multiple conditions.\n",
    "    # Place the conditions they meet on the same line.\n",
    "    c1 = summarize_rows(c1, cols_to_group, \"Tag\")\n",
    "\n",
    "    return c1"
   ]
  },
  {
   "cell_type": "code",
   "execution_count": 30,
   "id": "a74f19fb-abff-4ed4-8c6f-fe650d588624",
   "metadata": {
    "scrolled": true,
    "tags": []
   },
   "outputs": [],
   "source": [
    "def create_PSA_report(\n",
    "    start_date: str,\n",
    "    end_date: str,\n",
    "    previous_allocation_file_name: str,\n",
    "    previous_allocation_tab_name: str,\n",
    "):\n",
    "\n",
    "    # Load in allocation sheet with all the tagging.\n",
    "    c1 = tag_PSA_report(\n",
    "        start_date,\n",
    "        end_date,\n",
    "        previous_allocation_file_name,\n",
    "        previous_allocation_tab_name,\n",
    "    )\n",
    "\n",
    "    # Load project sheet\n",
    "    project = A1_data_prep.clean_project()[psa_project_cols]\n",
    "\n",
    "    # Replace PPNO so the merge will work.\n",
    "    c1[\"Ppno\"] = c1[\"Ppno\"].replace(A5_crosswalks.ppno_crosswalk_allocation)\n",
    "\n",
    "    # Merge with project tracking tab to get project manager info\n",
    "    m1 = pd.merge(\n",
    "        c1,\n",
    "        project,\n",
    "        how=\"left\",\n",
    "        left_on=[\n",
    "            \"Ppno\",\n",
    "            \"Project #\",\n",
    "        ],\n",
    "        right_on=[\"project_ppno\", \"project_project_#\"],\n",
    "        indicator=True,\n",
    "    )\n",
    "\n",
    "    # Clean date-time values\n",
    "    for i in psa_date_cols:\n",
    "        m1[i] = pd.to_datetime(m1[i], errors=\"coerce\")\n",
    "\n",
    "    for i in psa_date_cols:\n",
    "        m1[i] = m1[i].dt.strftime(\"%m-%d-%Y\")\n",
    "\n",
    "    # Clean up\n",
    "    m1 = m1.drop(columns=[\"project_project_#\", \"project_ppno\", \"_merge\", \"Unique Id\"])\n",
    "    m1 = m1.rename(\n",
    "        columns={\n",
    "            \"project_project_manager\": \"Project Manager\",\n",
    "            \"project_award_year\": \"Award Year\",\n",
    "        }\n",
    "    )\n",
    "   \n",
    "    # Rearrange to the right order\n",
    "    m1 = m1[PSA_right_order]\n",
    "\n",
    "    # Fill in NA\n",
    "    m1 = m1.fillna(\"None\")\n",
    "    return m1"
   ]
  },
  {
   "cell_type": "code",
   "execution_count": 31,
   "id": "5ad33011-7d92-41d3-9958-c15b6cafea7a",
   "metadata": {},
   "outputs": [
    {
     "name": "stderr",
     "output_type": "stream",
     "text": [
      "/tmp/ipykernel_1502/3975058824.py:12: FutureWarning: The default value of regex will change from True to False in a future version.\n",
      "  allocation.columns = allocation.columns.str.replace(\"^allocation_\", \"\")\n",
      "/home/jovyan/data-analyses/tircp/A1_data_prep.py:204: SettingWithCopyWarning: \n",
      "A value is trying to be set on a copy of a slice from a DataFrame.\n",
      "Try using .loc[row_indexer,col_indexer] = value instead\n",
      "\n",
      "See the caveats in the documentation: https://pandas.pydata.org/pandas-docs/stable/user_guide/indexing.html#returning-a-view-versus-a-copy\n",
      "  df[\"_3rd_party_award_date\"] = df[\"_3rd_party_award_date\"].replace(\n",
      "/home/jovyan/data-analyses/tircp/A1_data_prep.py:207: SettingWithCopyWarning: \n",
      "A value is trying to be set on a copy of a slice from a DataFrame.\n",
      "Try using .loc[row_indexer,col_indexer] = value instead\n",
      "\n",
      "See the caveats in the documentation: https://pandas.pydata.org/pandas-docs/stable/user_guide/indexing.html#returning-a-view-versus-a-copy\n",
      "  df[\"led\"] = df[\"led\"].replace(crosswalks.allocation_led)\n",
      "/home/jovyan/data-analyses/tircp/A1_data_prep.py:208: SettingWithCopyWarning: \n",
      "A value is trying to be set on a copy of a slice from a DataFrame.\n",
      "Try using .loc[row_indexer,col_indexer] = value instead\n",
      "\n",
      "See the caveats in the documentation: https://pandas.pydata.org/pandas-docs/stable/user_guide/indexing.html#returning-a-view-versus-a-copy\n",
      "  df[\"phase_completion_date\"] = df[\"phase_completion_date\"].replace(\n",
      "/home/jovyan/data-analyses/tircp/A1_data_prep.py:212: SettingWithCopyWarning: \n",
      "A value is trying to be set on a copy of a slice from a DataFrame.\n",
      "Try using .loc[row_indexer,col_indexer] = value instead\n",
      "\n",
      "See the caveats in the documentation: https://pandas.pydata.org/pandas-docs/stable/user_guide/indexing.html#returning-a-view-versus-a-copy\n",
      "  df[\"allocation_date\"] = df[\"allocation_date\"].replace(\n",
      "/opt/conda/lib/python3.9/site-packages/pandas/core/indexing.py:1817: SettingWithCopyWarning: \n",
      "A value is trying to be set on a copy of a slice from a DataFrame.\n",
      "Try using .loc[row_indexer,col_indexer] = value instead\n",
      "\n",
      "See the caveats in the documentation: https://pandas.pydata.org/pandas-docs/stable/user_guide/indexing.html#returning-a-view-versus-a-copy\n",
      "  self._setitem_single_column(loc, value, pi)\n",
      "/opt/conda/lib/python3.9/site-packages/pandas/core/frame.py:3641: SettingWithCopyWarning: \n",
      "A value is trying to be set on a copy of a slice from a DataFrame.\n",
      "Try using .loc[row_indexer,col_indexer] = value instead\n",
      "\n",
      "See the caveats in the documentation: https://pandas.pydata.org/pandas-docs/stable/user_guide/indexing.html#returning-a-view-versus-a-copy\n",
      "  self[k1] = value[k2]\n",
      "/tmp/ipykernel_1502/715262327.py:35: SettingWithCopyWarning: \n",
      "A value is trying to be set on a copy of a slice from a DataFrame.\n",
      "Try using .loc[row_indexer,col_indexer] = value instead\n",
      "\n",
      "See the caveats in the documentation: https://pandas.pydata.org/pandas-docs/stable/user_guide/indexing.html#returning-a-view-versus-a-copy\n",
      "  merged2[\"do_dates_match\"] = (\n",
      "/tmp/ipykernel_1502/715262327.py:40: SettingWithCopyWarning: \n",
      "A value is trying to be set on a copy of a slice from a DataFrame.\n",
      "Try using .loc[row_indexer,col_indexer] = value instead\n",
      "\n",
      "See the caveats in the documentation: https://pandas.pydata.org/pandas-docs/stable/user_guide/indexing.html#returning-a-view-versus-a-copy\n",
      "  merged2[\"does_ctc_match\"] = (\n"
     ]
    }
   ],
   "source": [
    "m1 = create_PSA_report(\n",
    "    \"2023-01-01\", \"2023-06-01\", \"fake_allocation_sheet.xlsx\", \"fake_aa\"\n",
    ")"
   ]
  },
  {
   "cell_type": "code",
   "execution_count": 32,
   "id": "1a5ac33a-e500-495f-a492-c253ebf5e003",
   "metadata": {},
   "outputs": [
    {
     "data": {
      "text/plain": [
       "Allocation date is filled but date signed by DRMT is empty                53\n",
       "New info in CTC Alloc Ammendment but date signed by DRMT didn't change    11\n",
       "PSA will expire in < 6 months                                              2\n",
       "Name: Tag, dtype: int64"
      ]
     },
     "execution_count": 32,
     "metadata": {},
     "output_type": "execute_result"
    }
   ],
   "source": [
    "m1.Tag.value_counts()"
   ]
  },
  {
   "cell_type": "code",
   "execution_count": 33,
   "id": "e9de913a-fc58-4207-b970-579f5746f1fe",
   "metadata": {},
   "outputs": [
    {
     "data": {
      "text/plain": [
       "66"
      ]
     },
     "execution_count": 33,
     "metadata": {},
     "output_type": "execute_result"
    }
   ],
   "source": [
    "len(m1)"
   ]
  },
  {
   "cell_type": "code",
   "execution_count": 34,
   "id": "bddf3187-c214-4935-ae58-6147d3c13cd0",
   "metadata": {},
   "outputs": [],
   "source": [
    "# m1[['Grant Recipient', 'Project #','Ppno', 'project_project_#', 'project_project_title',\n",
    "#       'project_ppno', 'project_project_manager']]"
   ]
  },
  {
   "cell_type": "code",
   "execution_count": 35,
   "id": "c44b4abd-e2b6-4155-8886-edd2e526d6da",
   "metadata": {
    "scrolled": true,
    "tags": []
   },
   "outputs": [],
   "source": [
    "# exporting 2 dataframes into a single workbook\n",
    "#with pd.ExcelWriter(f\"{A1_data_prep.GCS_FILE_PATH}MA_PSA.xlsx\") as writer:\n",
    "#    project_test.to_excel(writer, sheet_name=\"MA\", index=False)\n",
    "#    m1.to_excel(writer, sheet_name=\"PSA\", index=False)"
   ]
  }
 ],
 "metadata": {
  "kernelspec": {
   "display_name": "Python 3 (ipykernel)",
   "language": "python",
   "name": "python3"
  },
  "language_info": {
   "codemirror_mode": {
    "name": "ipython",
    "version": 3
   },
   "file_extension": ".py",
   "mimetype": "text/x-python",
   "name": "python",
   "nbconvert_exporter": "python",
   "pygments_lexer": "ipython3",
   "version": "3.9.13"
  }
 },
 "nbformat": 4,
 "nbformat_minor": 5
}
