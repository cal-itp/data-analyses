{
 "cells": [
  {
   "cell_type": "markdown",
   "id": "cdeae02c-ff5d-4c6e-8bbe-f430426ac9ff",
   "metadata": {},
   "source": [
    "## Master Agreement/PSA Report \n",
    "* Goal: Make it easy for branch chiefs to know whether a Master Agreement and/or Program Supplement is needed or is going to expire in the next year.\n",
    "* This will be a monthly report.\n"
   ]
  },
  {
   "cell_type": "code",
   "execution_count": 33,
   "id": "5622f666-0352-41fc-85c1-f04c219f9476",
   "metadata": {},
   "outputs": [],
   "source": [
    "import A1_data_prep\n",
    "import A2_tableau\n",
    "import numpy as np\n",
    "import pandas as pd\n",
    "from babel.numbers import format_currency\n",
    "from calitp import *\n",
    "\n",
    "pd.options.display.max_columns = 100\n",
    "pd.options.display.float_format = \"{:.2f}\".format\n",
    "pd.set_option(\"display.max_rows\", None)\n",
    "pd.set_option(\"display.max_colwidth\", None)"
   ]
  },
  {
   "cell_type": "markdown",
   "id": "64850984-4c69-42df-9308-9479124caf96",
   "metadata": {},
   "source": [
    "### Project Sheet\n",
    "* Column A - Award Year  \n",
    "* Column B - Project #       \n",
    "* Column C - Grant Recipient          \n",
    "* Column D - Project Title \n",
    "* Column E - PPNO             \n",
    "* Column I - Master Agreement Number\n",
    "* Column J - Master Agreement Expiration Date\n",
    "* Column K - Project Manager"
   ]
  },
  {
   "cell_type": "code",
   "execution_count": 34,
   "id": "25a6f8f6-5d5d-4168-b314-e9a1e1bc3a3e",
   "metadata": {},
   "outputs": [
    {
     "name": "stderr",
     "output_type": "stream",
     "text": [
      "/opt/conda/lib/python3.9/site-packages/openpyxl/worksheet/_reader.py:312: UserWarning: Data Validation extension is not supported and will be removed\n",
      "  warn(msg)\n"
     ]
    }
   ],
   "source": [
    "# Load in sheets\n",
    "project = A1_data_prep.clean_project()"
   ]
  },
  {
   "cell_type": "code",
   "execution_count": 35,
   "id": "f09a93bc-2592-4650-b40c-bafb441ff8ba",
   "metadata": {},
   "outputs": [],
   "source": [
    "# Subset of cols\n",
    "project_cols = [\n",
    "    \"project_award_year\",\n",
    "    \"project_project_#\",\n",
    "    \"project_grant_recipient\",\n",
    "    \"project_project_title\",\n",
    "    \"project_ppno\",\n",
    "    \"project_master_agreement_number\",\n",
    "    \"project_master_agreement_expiration_date\",\n",
    "    \"project_project_manager\",\n",
    "]"
   ]
  },
  {
   "cell_type": "code",
   "execution_count": 36,
   "id": "dd77ff3d-15e3-469d-b0ec-caf5891e6200",
   "metadata": {},
   "outputs": [],
   "source": [
    "# Subset df to only the columns requested\n",
    "project2 = project[project_cols]"
   ]
  },
  {
   "cell_type": "code",
   "execution_count": 37,
   "id": "72bd5609-f3cf-4985-829f-12dc6a027a31",
   "metadata": {
    "tags": []
   },
   "outputs": [
    {
     "name": "stderr",
     "output_type": "stream",
     "text": [
      "/opt/conda/lib/python3.9/site-packages/pandas/core/generic.py:5516: SettingWithCopyWarning: \n",
      "A value is trying to be set on a copy of a slice from a DataFrame.\n",
      "Try using .loc[row_indexer,col_indexer] = value instead\n",
      "\n",
      "See the caveats in the documentation: https://pandas.pydata.org/pandas-docs/stable/user_guide/indexing.html#returning-a-view-versus-a-copy\n",
      "  self[name] = value\n"
     ]
    }
   ],
   "source": [
    "project2.project_master_agreement_expiration_date = project2.project_master_agreement_expiration_date.apply(pd.to_datetime, errors=\"coerce\")"
   ]
  },
  {
   "cell_type": "markdown",
   "id": "03a602dd-d3d6-42be-b088-8eca5c76e42a",
   "metadata": {},
   "source": [
    "#### Criteria\n",
    "* If the master agreement field (column I Master Agreement Number, tab 1) is empty, the information should appear on the report\n",
    "* If there is less than a year until the Master Agreement Expiration Date, the information should appear on the report"
   ]
  },
  {
   "cell_type": "code",
   "execution_count": 38,
   "id": "fa20c271-f38e-411d-9411-2b95402a2fee",
   "metadata": {},
   "outputs": [],
   "source": [
    "project_cond1= (project2.project_master_agreement_expiration_date.dt.year == 2023)\n",
    "project_cond2 = (project2.project_master_agreement_number.isin([\"None\",\"Pending\"]))"
   ]
  },
  {
   "cell_type": "code",
   "execution_count": 39,
   "id": "68a90c50-8c83-4c58-91e9-883010b32d61",
   "metadata": {
    "scrolled": true,
    "tags": []
   },
   "outputs": [],
   "source": [
    "# Filter based on criteria above\n",
    "project3 = (project2[\n",
    "    (project_cond1 | project_cond2)\n",
    "]).reset_index(drop = True)"
   ]
  },
  {
   "cell_type": "code",
   "execution_count": 40,
   "id": "5db129c1-f6ce-4c8d-818d-9fa499b2f8da",
   "metadata": {},
   "outputs": [],
   "source": [
    "# Tag projects with the appropriate comment\n",
    "def ma_comments(row):\n",
    "\n",
    "    if (row[\"project_master_agreement_number\"] == \"None\")|(row[\"project_master_agreement_number\"] == \"Pending\"):\n",
    "        return \"None/Pending Master Agreement Number\"\n",
    "    else:\n",
    "        return \"<1 a year until Master Agreement Expiration Date\""
   ]
  },
  {
   "cell_type": "code",
   "execution_count": 41,
   "id": "fcb90c37-9999-4f9c-9a64-cc77824a04b5",
   "metadata": {},
   "outputs": [],
   "source": [
    "project3[\"Comments\"] = project3.apply(ma_comments, axis=1)"
   ]
  },
  {
   "cell_type": "markdown",
   "id": "230005ab-5676-49b0-98f2-39fc9fb404df",
   "metadata": {},
   "source": [
    "### Allocation Sheet\n",
    "* Column F - Project ID\n",
    "* Column E - EA\n",
    "* Column I - Phase \n",
    "* Column J - Allocation Amount\n",
    "* Column T - Allocation Date \n",
    "* Column V - PSA #\n",
    "* Column Q: Allocation Amendment\n",
    "* Column AB - Date Branch Chief Receives PSA       \n",
    "* Column AC - Date Regional Coordinator Receives PSA      \n",
    "* Column AD - Date OC Receives PSA          \n",
    "* Column AE - Date OPM Receives PSA      \n",
    "* Column AF - Date Legal Receives PSA      \n",
    "* Column AG - Date Returned to PM           \n",
    "* Column AH - Date PSA Sent to Local Agency         \n",
    "* Column AI - Date PSA Approved by Local Agency \n",
    "* Column AJ - Date Signed by DRMT\n",
    "* Column AK – PSA Expiry Date\n"
   ]
  },
  {
   "cell_type": "code",
   "execution_count": 42,
   "id": "efc2b0fa-412b-42b7-8a84-ebd70a19a716",
   "metadata": {},
   "outputs": [],
   "source": [
    "alloc = A1_data_prep.clean_allocation()"
   ]
  },
  {
   "cell_type": "code",
   "execution_count": 43,
   "id": "8b0a23e0-27c3-4425-9b00-e0a56ee32005",
   "metadata": {},
   "outputs": [],
   "source": [
    "# Subset of cols\n",
    "alloc_cols = [\n",
    "    \"allocation_ppno\",\n",
    "    \"allocation_project_id\",\n",
    "    \"allocation_ea\",\n",
    "    \"allocation_phase\",\n",
    "    \"allocation_allocation_amount\",\n",
    "    \"allocation_allocation_date\",\n",
    "    \"allocation_psa_#\",\n",
    "    \"allocation_date_branch_chief_receives_psa\",\n",
    "    \"allocation_date_regional_coordinator_receives_psa\",\n",
    "    \"allocation_date_oc_receives_psa\",\n",
    "    \"allocation_date_opm_receives_psa\",\n",
    "    \"allocation_date_legal_receives_psa\",\n",
    "    \"allocation_date_returned_to_pm\",\n",
    "    \"allocation_date_psa_sent_to_local_agency\",\n",
    "    \"allocation_date_psa_approved_by_local_agency\",\n",
    "    \"allocation_ctc_allocation_amendment\",\n",
    "    \"allocation_date_signed_by_drmt\",\n",
    "    \"allocation_psa_expiry_date\",\n",
    "]"
   ]
  },
  {
   "cell_type": "code",
   "execution_count": 44,
   "id": "c13a07fd-c872-41aa-b546-3546dd182a16",
   "metadata": {},
   "outputs": [],
   "source": [
    "alloc2 = alloc[alloc_cols]"
   ]
  },
  {
   "cell_type": "code",
   "execution_count": 66,
   "id": "054d7147-5926-46c7-be9f-723ca51c56f6",
   "metadata": {},
   "outputs": [
    {
     "data": {
      "text/plain": [
       "allocation_ppno                                     0.00\n",
       "allocation_project_id                               0.00\n",
       "allocation_ea                                       0.00\n",
       "allocation_phase                                    0.00\n",
       "allocation_allocation_amount                        0.00\n",
       "allocation_allocation_date                          0.25\n",
       "allocation_psa_#                                    0.00\n",
       "allocation_date_branch_chief_receives_psa           0.97\n",
       "allocation_date_regional_coordinator_receives_psa   1.00\n",
       "allocation_date_oc_receives_psa                     0.93\n",
       "allocation_date_opm_receives_psa                    0.67\n",
       "allocation_date_legal_receives_psa                  0.66\n",
       "allocation_date_returned_to_pm                      0.67\n",
       "allocation_date_psa_sent_to_local_agency            0.00\n",
       "allocation_date_psa_approved_by_local_agency        0.88\n",
       "allocation_ctc_allocation_amendment                 0.00\n",
       "allocation_date_signed_by_drmt                      0.39\n",
       "allocation_psa_expiry_date                          0.93\n",
       "dtype: float64"
      ]
     },
     "execution_count": 66,
     "metadata": {},
     "output_type": "execute_result"
    }
   ],
   "source": [
    "alloc2.isna().sum()/len(alloc2)"
   ]
  },
  {
   "cell_type": "code",
   "execution_count": 71,
   "id": "b5edb844-c86a-4be6-948e-5876f4beaa72",
   "metadata": {
    "scrolled": true,
    "tags": []
   },
   "outputs": [],
   "source": [
    "# alloc2[['allocation_ctc_allocation_amendment']]"
   ]
  },
  {
   "cell_type": "markdown",
   "id": "a7703a2b-b621-4330-aa5c-4d3547fc85dc",
   "metadata": {
    "tags": []
   },
   "source": [
    "#### Criteria\n",
    "* If there is a date in the “Allocation Date” field (column T) and no date in the “Date Signed by DRMT” (column AJ), then the information should be on the report\n",
    "* If there is 6 months or less until the expiry date (column AK), then the information would be on the report\n"
   ]
  },
  {
   "cell_type": "code",
   "execution_count": 57,
   "id": "1f2bb4ff-9ed6-40f8-9d05-dc8f75e966fe",
   "metadata": {},
   "outputs": [],
   "source": [
    "alloc_cond1 = ((alloc2.allocation_allocation_date.notna()) & (alloc2.allocation_date_signed_by_drmt.isna())) "
   ]
  },
  {
   "cell_type": "code",
   "execution_count": 58,
   "id": "f3112c20-bb53-4a07-aeda-242de7671f62",
   "metadata": {
    "scrolled": true,
    "tags": []
   },
   "outputs": [],
   "source": [
    "alloc_cond2 = (alloc2.allocation_psa_expiry_date.dt.date.astype(str) > '2022-12-31') & (alloc2.allocation_psa_expiry_date.dt.date.astype(str) < '2023-06-12')"
   ]
  },
  {
   "cell_type": "code",
   "execution_count": 59,
   "id": "8ec689c8-c43a-4ab3-b76a-7b8368ae0c2f",
   "metadata": {},
   "outputs": [],
   "source": [
    "alloc3 = (alloc2[alloc_cond1 |(alloc_cond2)]).reset_index(drop = True)"
   ]
  },
  {
   "cell_type": "code",
   "execution_count": 60,
   "id": "53e6cbd0-8cf4-4946-94da-a506317d5d64",
   "metadata": {},
   "outputs": [
    {
     "data": {
      "text/plain": [
       "54"
      ]
     },
     "execution_count": 60,
     "metadata": {},
     "output_type": "execute_result"
    }
   ],
   "source": [
    "len(alloc3)"
   ]
  },
  {
   "cell_type": "code",
   "execution_count": 62,
   "id": "48e9555e-dd50-4d84-ae07-db1cdd8cbc0f",
   "metadata": {},
   "outputs": [],
   "source": [
    "# alloc3[['allocation_allocation_date','allocation_date_signed_by_drmt','allocation_psa_expiry_date']]"
   ]
  },
  {
   "cell_type": "markdown",
   "id": "f173d0a9-1ca1-4e9e-931f-ff33bfea6959",
   "metadata": {},
   "source": [
    "* If there is new information in column Q (allocation_ctc_allocation_amendment) and no change in column, then the information should be on the report"
   ]
  },
  {
   "cell_type": "code",
   "execution_count": 80,
   "id": "d7218b54-2cf2-4831-9c14-1d1b4ca46dff",
   "metadata": {},
   "outputs": [],
   "source": [
    "def previous_allocation():\n",
    "    df = df = to_snakecase(\n",
    "        pd.read_excel(f\"{A1_data_prep.GCS_FILE_PATH}fake_allocation.xlsx\", sheet_name=\"Agreement Allocations\")\n",
    "    )\n",
    "\n",
    "    \"\"\"\n",
    "    Some rows are not completely filled: drop them based on whether or not some\n",
    "    cols are populated.\n",
    "    \"\"\"\n",
    "    df = df.dropna(subset=[\"award_year\", \"grant_recipient\", \"ppno\"])\n",
    "\n",
    "    # Correcting string to 0\n",
    "    df[\"expended_amount\"] = (\n",
    "        df[\"expended_amount\"].replace({\"Deallocation\": 0}).astype(\"int64\")\n",
    "    )\n",
    "\n",
    "    # Fill in NA based on data type\n",
    "    df = df.fillna(df.dtypes.replace({\"float64\": 0.0, \"object\": \"None\"}))\n",
    "\n",
    "    # Coerce dates to datetime\n",
    "    # df[date_columns] = df[date_columns].apply(pd.to_datetime, errors=\"coerce\")\n",
    "\n",
    "    # Clean organization name/de duplicate\n",
    "    df = A1_data_prep.organization_cleaning(df, \"grant_recipient\")\n",
    "    \n",
    "    # Add prefix\n",
    "    df = df.add_prefix(\"allocation_\")\n",
    "    \n",
    "    df = df[alloc_cols]\n",
    "    df = df.add_prefix(\"fake_\")\n",
    "    return df\n"
   ]
  },
  {
   "cell_type": "code",
   "execution_count": 81,
   "id": "65e250ed-1c52-40d3-b927-f3dd0b97d760",
   "metadata": {},
   "outputs": [],
   "source": [
    "alloc_fake_test = previous_allocation()"
   ]
  }
 ],
 "metadata": {
  "kernelspec": {
   "display_name": "Python 3 (ipykernel)",
   "language": "python",
   "name": "python3"
  },
  "language_info": {
   "codemirror_mode": {
    "name": "ipython",
    "version": 3
   },
   "file_extension": ".py",
   "mimetype": "text/x-python",
   "name": "python",
   "nbconvert_exporter": "python",
   "pygments_lexer": "ipython3",
   "version": "3.9.13"
  }
 },
 "nbformat": 4,
 "nbformat_minor": 5
}
