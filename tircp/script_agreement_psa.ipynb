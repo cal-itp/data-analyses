{
 "cells": [
  {
   "cell_type": "markdown",
   "id": "cdeae02c-ff5d-4c6e-8bbe-f430426ac9ff",
   "metadata": {},
   "source": [
    "## Master Agreement/PSA Report \n",
    "* Goal: Make it easy for branch chiefs to know whether a Master Agreement and/or Program Supplement is needed or is going to expire in the next year.\n",
    "* This will be a monthly report.\n"
   ]
  },
  {
   "cell_type": "code",
   "execution_count": 58,
   "id": "5622f666-0352-41fc-85c1-f04c219f9476",
   "metadata": {},
   "outputs": [],
   "source": [
    "import A1_data_prep\n",
    "import A2_tableau\n",
    "import numpy as np\n",
    "import pandas as pd\n",
    "from babel.numbers import format_currency\n",
    "from calitp import *\n",
    "\n",
    "pd.options.display.max_columns = 100\n",
    "pd.options.display.float_format = \"{:.2f}\".format\n",
    "pd.set_option(\"display.max_rows\", None)\n",
    "pd.set_option(\"display.max_colwidth\", None)"
   ]
  },
  {
   "cell_type": "markdown",
   "id": "64850984-4c69-42df-9308-9479124caf96",
   "metadata": {},
   "source": [
    "### Project Sheet\n",
    "* Column A - Award Year  \n",
    "* Column B - Project #       \n",
    "* Column C - Grant Recipient          \n",
    "* Column D - Project Title \n",
    "* Column E - PPNO             \n",
    "* Column I - Master Agreement Number\n",
    "* Column J - Master Agreement Expiration Date\n",
    "* Column K - Project Manager"
   ]
  },
  {
   "cell_type": "markdown",
   "id": "03a602dd-d3d6-42be-b088-8eca5c76e42a",
   "metadata": {},
   "source": [
    "#### Criteria\n",
    "* If the master agreement field (column I Master Agreement Number, tab 1) is empty, the information should appear on the report\n",
    "* If there is less than a year until the Master Agreement Expiration Date, the information should appear on the report"
   ]
  },
  {
   "cell_type": "code",
   "execution_count": 59,
   "id": "f09a93bc-2592-4650-b40c-bafb441ff8ba",
   "metadata": {},
   "outputs": [],
   "source": [
    "# Subset of cols\n",
    "project_cols = [\n",
    "    \"project_award_year\",\n",
    "    \"project_project_#\",\n",
    "    \"project_grant_recipient\",\n",
    "    \"project_project_title\",\n",
    "    \"project_ppno\",\n",
    "    \"project_master_agreement_number\",\n",
    "    \"project_master_agreement_expiration_date\",\n",
    "    \"project_project_manager\",\n",
    "]"
   ]
  },
  {
   "cell_type": "code",
   "execution_count": 60,
   "id": "5db129c1-f6ce-4c8d-818d-9fa499b2f8da",
   "metadata": {},
   "outputs": [],
   "source": [
    "# Tag projects with the appropriate comment\n",
    "def ma_comments(row):\n",
    "\n",
    "    if (row[\"project_master_agreement_number\"] == \"None\") | (\n",
    "        row[\"project_master_agreement_number\"] == \"Pending\"\n",
    "    ):\n",
    "        return \"None/Pending Master Agreement Number\"\n",
    "    else:\n",
    "        return \"<1 a year until Master Agreement Expiration Date\""
   ]
  },
  {
   "cell_type": "code",
   "execution_count": 61,
   "id": "4d475eb1-bdad-4381-a3fe-bde09973e2b5",
   "metadata": {},
   "outputs": [],
   "source": [
    "def master_agreement(expiration_year: int):\n",
    "    project = A1_data_prep.clean_project()\n",
    "\n",
    "    # Subset df to only the columns requested\n",
    "    project = project[project_cols]\n",
    "\n",
    "    # Coerce to datetime\n",
    "    project.project_master_agreement_expiration_date = (\n",
    "        project.project_master_agreement_expiration_date.apply(\n",
    "            pd.to_datetime, errors=\"coerce\"\n",
    "        )\n",
    "    )\n",
    "\n",
    "    # Conditions\n",
    "    # If there is less than a year until the Master Agreement Expiration Date\n",
    "    project_cond1 = (\n",
    "        project.project_master_agreement_expiration_date.dt.year == expiration_year\n",
    "    )\n",
    "    # If the master agreement field (column I Master Agreement Number, tab 1) is empty\n",
    "    project_cond2 = project.project_master_agreement_number.isin([\"None\", \"Pending\"])\n",
    "\n",
    "    # Filter based on criteria above\n",
    "    project = (project[(project_cond1 | project_cond2)]).reset_index(drop=True)\n",
    "\n",
    "    project[\"Comments\"] = project.apply(ma_comments, axis=1)\n",
    "\n",
    "    return project"
   ]
  },
  {
   "cell_type": "code",
   "execution_count": 62,
   "id": "7e50c3f8-9d81-4afe-b41d-715aa0201873",
   "metadata": {
    "tags": []
   },
   "outputs": [
    {
     "name": "stderr",
     "output_type": "stream",
     "text": [
      "/opt/conda/lib/python3.9/site-packages/openpyxl/worksheet/_reader.py:312: UserWarning: Data Validation extension is not supported and will be removed\n",
      "  warn(msg)\n"
     ]
    }
   ],
   "source": [
    "project_test = master_agreement(2023)"
   ]
  },
  {
   "cell_type": "code",
   "execution_count": 63,
   "id": "4058d314-a036-40c7-a828-8d1f02241f0b",
   "metadata": {},
   "outputs": [
    {
     "data": {
      "text/plain": [
       "16"
      ]
     },
     "execution_count": 63,
     "metadata": {},
     "output_type": "execute_result"
    }
   ],
   "source": [
    "len(project_test)"
   ]
  },
  {
   "cell_type": "markdown",
   "id": "230005ab-5676-49b0-98f2-39fc9fb404df",
   "metadata": {},
   "source": [
    "### Allocation Sheet\n",
    "* Column F - Project ID\n",
    "* Column E - EA\n",
    "* Column I - Phase \n",
    "* Column J - Allocation Amount\n",
    "* Column T - Allocation Date \n",
    "* Column V - PSA #\n",
    "* Column Q: Allocation Amendment\n",
    "* Column AB - Date Branch Chief Receives PSA       \n",
    "* Column AC - Date Regional Coordinator Receives PSA      \n",
    "* Column AD - Date OC Receives PSA          \n",
    "* Column AE - Date OPM Receives PSA      \n",
    "* Column AF - Date Legal Receives PSA      \n",
    "* Column AG - Date Returned to PM           \n",
    "* Column AH - Date PSA Sent to Local Agency         \n",
    "* Column AI - Date PSA Approved by Local Agency \n",
    "* Column AJ - Date Signed by DRMT\n",
    "* Column AK – PSA Expiry Date\n"
   ]
  },
  {
   "cell_type": "code",
   "execution_count": 64,
   "id": "efc2b0fa-412b-42b7-8a84-ebd70a19a716",
   "metadata": {},
   "outputs": [],
   "source": [
    "alloc = A1_data_prep.clean_allocation()"
   ]
  },
  {
   "cell_type": "code",
   "execution_count": 65,
   "id": "8b0a23e0-27c3-4425-9b00-e0a56ee32005",
   "metadata": {},
   "outputs": [],
   "source": [
    "# Subset of cols\n",
    "alloc_cols = [\n",
    "    \"allocation_grant_recipient\",\n",
    "    \"allocation_ppno\",\n",
    "    \"allocation_project_id\",\n",
    "    \"allocation_ea\",\n",
    "    \"allocation_phase\",\n",
    "    \"allocation_allocation_amount\",\n",
    "    \"allocation_allocation_date\",\n",
    "    \"allocation_psa_#\",\n",
    "    \"allocation_date_branch_chief_receives_psa\",\n",
    "    \"allocation_date_regional_coordinator_receives_psa\",\n",
    "    \"allocation_date_oc_receives_psa\",\n",
    "    \"allocation_date_opm_receives_psa\",\n",
    "    \"allocation_date_legal_receives_psa\",\n",
    "    \"allocation_date_returned_to_pm\",\n",
    "    \"allocation_date_psa_sent_to_local_agency\",\n",
    "    \"allocation_date_psa_approved_by_local_agency\",\n",
    "    \"allocation_ctc_allocation_amendment\",\n",
    "    \"allocation_date_signed_by_drmt\",\n",
    "    \"allocation_psa_expiry_date\",\n",
    "]"
   ]
  },
  {
   "cell_type": "code",
   "execution_count": 66,
   "id": "c13a07fd-c872-41aa-b546-3546dd182a16",
   "metadata": {},
   "outputs": [],
   "source": [
    "alloc2 = alloc[alloc_cols]"
   ]
  },
  {
   "cell_type": "code",
   "execution_count": 67,
   "id": "054d7147-5926-46c7-be9f-723ca51c56f6",
   "metadata": {},
   "outputs": [
    {
     "data": {
      "text/plain": [
       "allocation_grant_recipient                          0.00\n",
       "allocation_ppno                                     0.00\n",
       "allocation_project_id                               0.00\n",
       "allocation_ea                                       0.00\n",
       "allocation_phase                                    0.00\n",
       "allocation_allocation_amount                        0.00\n",
       "allocation_allocation_date                          0.25\n",
       "allocation_psa_#                                    0.00\n",
       "allocation_date_branch_chief_receives_psa           0.97\n",
       "allocation_date_regional_coordinator_receives_psa   1.00\n",
       "allocation_date_oc_receives_psa                     0.93\n",
       "allocation_date_opm_receives_psa                    0.67\n",
       "allocation_date_legal_receives_psa                  0.66\n",
       "allocation_date_returned_to_pm                      0.67\n",
       "allocation_date_psa_sent_to_local_agency            0.00\n",
       "allocation_date_psa_approved_by_local_agency        0.88\n",
       "allocation_ctc_allocation_amendment                 0.00\n",
       "allocation_date_signed_by_drmt                      0.39\n",
       "allocation_psa_expiry_date                          0.93\n",
       "dtype: float64"
      ]
     },
     "execution_count": 67,
     "metadata": {},
     "output_type": "execute_result"
    }
   ],
   "source": [
    "alloc2.isna().sum() / len(alloc2)"
   ]
  },
  {
   "cell_type": "code",
   "execution_count": 68,
   "id": "b5edb844-c86a-4be6-948e-5876f4beaa72",
   "metadata": {
    "scrolled": true,
    "tags": []
   },
   "outputs": [],
   "source": [
    "# alloc2[['allocation_ctc_allocation_amendment']]"
   ]
  },
  {
   "cell_type": "markdown",
   "id": "a7703a2b-b621-4330-aa5c-4d3547fc85dc",
   "metadata": {
    "tags": []
   },
   "source": [
    "#### Criteria\n",
    "* If there is a date in the “Allocation Date” field (column T) and no date in the “Date Signed by DRMT” (column AJ), then the information should be on the report\n",
    "* If there is 6 months or less until the expiry date (column AK), then the information would be on the report\n"
   ]
  },
  {
   "cell_type": "code",
   "execution_count": 69,
   "id": "1f2bb4ff-9ed6-40f8-9d05-dc8f75e966fe",
   "metadata": {},
   "outputs": [],
   "source": [
    "alloc_cond1 = (alloc2.allocation_allocation_date.notna()) & (\n",
    "    alloc2.allocation_date_signed_by_drmt.isna()\n",
    ")"
   ]
  },
  {
   "cell_type": "code",
   "execution_count": 70,
   "id": "f3112c20-bb53-4a07-aeda-242de7671f62",
   "metadata": {
    "scrolled": true,
    "tags": []
   },
   "outputs": [],
   "source": [
    "# Replace with variables later not hard coded values\n",
    "alloc_cond2 = (alloc2.allocation_psa_expiry_date.dt.date.astype(str) > \"2022-12-31\") & (\n",
    "    alloc2.allocation_psa_expiry_date.dt.date.astype(str) < \"2023-06-12\"\n",
    ")"
   ]
  },
  {
   "cell_type": "code",
   "execution_count": 71,
   "id": "8ec689c8-c43a-4ab3-b76a-7b8368ae0c2f",
   "metadata": {},
   "outputs": [],
   "source": [
    "alloc3 = (alloc2[alloc_cond1 | (alloc_cond2)]).reset_index(drop=True)"
   ]
  },
  {
   "cell_type": "code",
   "execution_count": 72,
   "id": "53e6cbd0-8cf4-4946-94da-a506317d5d64",
   "metadata": {},
   "outputs": [
    {
     "data": {
      "text/plain": [
       "54"
      ]
     },
     "execution_count": 72,
     "metadata": {},
     "output_type": "execute_result"
    }
   ],
   "source": [
    "len(alloc3)"
   ]
  },
  {
   "cell_type": "code",
   "execution_count": 73,
   "id": "48e9555e-dd50-4d84-ae07-db1cdd8cbc0f",
   "metadata": {},
   "outputs": [],
   "source": [
    "# alloc3[['allocation_allocation_date','allocation_date_signed_by_drmt','allocation_psa_expiry_date']]"
   ]
  },
  {
   "cell_type": "markdown",
   "id": "f173d0a9-1ca1-4e9e-931f-ff33bfea6959",
   "metadata": {},
   "source": [
    "##### If there is new information in column Q (allocation_ctc_allocation_amendment) and no change in column, then the information should be on the report\n",
    "* https://stackoverflow.com/questions/54879260/how-to-highlight-differences-in-pandas-data-frame-after-concatenating-them"
   ]
  },
  {
   "cell_type": "code",
   "execution_count": 74,
   "id": "d7218b54-2cf2-4831-9c14-1d1b4ca46dff",
   "metadata": {},
   "outputs": [],
   "source": [
    "def load_previous_allocation():\n",
    "    df = to_snakecase(\n",
    "        pd.read_excel(\n",
    "            f\"{A1_data_prep.GCS_FILE_PATH}fake_allocation_sheet.xlsx\",\n",
    "            sheet_name=\"fake_aa\",\n",
    "        )\n",
    "    )\n",
    "\n",
    "    \"\"\"\n",
    "    Some rows are not completely filled: drop them based on whether or not some\n",
    "    cols are populated.\n",
    "    \"\"\"\n",
    "    df = df.dropna(subset=[\"award_year\", \"grant_recipient\", \"ppno\"])\n",
    "\n",
    "    # Fill in NA based on data type\n",
    "    df.ctc_allocation_amendment = df.ctc_allocation_amendment.fillna(\"None\")\n",
    "\n",
    "    # Prefix to distinguish\n",
    "    df = df.add_prefix(\"fake_allocation_\")\n",
    "\n",
    "    # Subset\n",
    "    df = df[[\n",
    "        \"fake_allocation_ppno\",\n",
    "        \"fake_allocation_grant_recipient\",\n",
    "        \"fake_allocation_project_id\",\n",
    "        \"fake_allocation_phase\",\n",
    "        \"fake_allocation_ctc_allocation_amendment\",\n",
    "    ]]\n",
    "    \n",
    "    \n",
    "    # Clean organization name/de duplicate\n",
    "    df = A1_data_prep.organization_cleaning(df, \"fake_allocation_grant_recipient\")\n",
    "    return df"
   ]
  },
  {
   "cell_type": "code",
   "execution_count": 75,
   "id": "65e250ed-1c52-40d3-b927-f3dd0b97d760",
   "metadata": {},
   "outputs": [],
   "source": [
    "alloc_fake_test = load_previous_allocation()"
   ]
  },
  {
   "cell_type": "code",
   "execution_count": 51,
   "id": "44b39e58-7da9-41ca-96c8-6dba3e073416",
   "metadata": {},
   "outputs": [],
   "source": [
    "previous_alloc_merge_cols = [\"fake_allocation_ppno\",\n",
    "    \n",
    "        \"fake_allocation_project_id\",\n",
    "        \"fake_allocation_phase\",]"
   ]
  },
  {
   "cell_type": "code",
   "execution_count": 52,
   "id": "c7e83000-4fc6-4792-83a8-935227d42fb9",
   "metadata": {},
   "outputs": [],
   "source": [
    "current_alloc_merge_cols = [\"allocation_ppno\",\n",
    "     \n",
    "        \"allocation_project_id\",\n",
    "        \"allocation_phase\",]"
   ]
  },
  {
   "cell_type": "code",
   "execution_count": 53,
   "id": "feb5d8e0-73ab-49f9-97bf-746184797d6b",
   "metadata": {},
   "outputs": [],
   "source": [
    "m1 = pd.merge(\n",
    "    alloc2, alloc_fake_test, how=\"outer\", left_on=current_alloc_merge_cols, \n",
    "    right_on=previous_alloc_merge_cols, indicator=True\n",
    ")"
   ]
  },
  {
   "cell_type": "code",
   "execution_count": 54,
   "id": "3d7ee308-608b-412e-921c-191963b8cb33",
   "metadata": {},
   "outputs": [
    {
     "data": {
      "text/plain": [
       "631"
      ]
     },
     "execution_count": 54,
     "metadata": {},
     "output_type": "execute_result"
    }
   ],
   "source": [
    "len(m1)"
   ]
  },
  {
   "cell_type": "code",
   "execution_count": 55,
   "id": "902b872f-1745-435b-86ff-020648b4abcc",
   "metadata": {},
   "outputs": [
    {
     "data": {
      "text/plain": [
       "right_only    233\n",
       "left_only     227\n",
       "both          171\n",
       "Name: _merge, dtype: int64"
      ]
     },
     "execution_count": 55,
     "metadata": {},
     "output_type": "execute_result"
    }
   ],
   "source": [
    "m1._merge.value_counts()"
   ]
  },
  {
   "cell_type": "code",
   "execution_count": 56,
   "id": "650e7e90-8006-4997-beaf-19a49a2e9e41",
   "metadata": {},
   "outputs": [],
   "source": [
    "preview_cols = [\"fake_allocation_ctc_allocation_amendment\",\"allocation_ctc_allocation_amendment\", \"_merge\"]"
   ]
  }
 ],
 "metadata": {
  "kernelspec": {
   "display_name": "Python 3 (ipykernel)",
   "language": "python",
   "name": "python3"
  },
  "language_info": {
   "codemirror_mode": {
    "name": "ipython",
    "version": 3
   },
   "file_extension": ".py",
   "mimetype": "text/x-python",
   "name": "python",
   "nbconvert_exporter": "python",
   "pygments_lexer": "ipython3",
   "version": "3.9.13"
  }
 },
 "nbformat": 4,
 "nbformat_minor": 5
}
