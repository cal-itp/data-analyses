{
 "cells": [
  {
   "cell_type": "markdown",
   "id": "3f0b7f1b-ddfd-4519-8099-1673e66a984a",
   "metadata": {},
   "source": [
    "# Cleaning & improving old work\n",
    "* Recieved a new workbook July 8, 2022.\n",
    "* Create separate functions to import the actual sheets"
   ]
  },
  {
   "cell_type": "code",
   "execution_count": 1,
   "id": "b0ddb4f3-ffaa-4a5a-9736-035cce0d71a0",
   "metadata": {},
   "outputs": [
    {
     "name": "stderr",
     "output_type": "stream",
     "text": [
      "/opt/conda/lib/python3.10/site-packages/geopandas/_compat.py:111: UserWarning: The Shapely GEOS version (3.10.2-CAPI-1.16.0) is incompatible with the GEOS version PyGEOS was compiled with (3.10.1-CAPI-1.16.0). Conversions between both will be slow.\n"
     ]
    }
   ],
   "source": [
    "import numpy as np\n",
    "import pandas as pd\n",
    "from siuba import *\n",
    "from calitp import *\n",
    "\n",
    "#Formatting the nb \n",
    "pd.options.display.max_columns = 100\n",
    "pd.set_option(\"display.max_rows\", None)\n",
    "pd.set_option(\"display.max_colwidth\", None)\n",
    "pd.options.display.float_format = \"{:.2f}\".format\n",
    "\n",
    "#Import script\n",
    "import A1_data_prep\n",
    "import A2_tableau\n",
    "import A3_semiannual_report\n",
    "\n",
    "import crosswalks"
   ]
  },
  {
   "cell_type": "code",
   "execution_count": 2,
   "id": "07f9a5d2-ab4c-4ca0-9cf8-857509de4139",
   "metadata": {},
   "outputs": [],
   "source": [
    "GCS_FILE_PATH = \"gs://calitp-analytics-data/data-analyses/tircp/\"\n",
    "FILE_NAME = \"TIRCP_July_8_2022.xlsx\""
   ]
  },
  {
   "cell_type": "code",
   "execution_count": 3,
   "id": "a0d70f9c-fde5-435a-93d1-45ddb76695a7",
   "metadata": {},
   "outputs": [
    {
     "name": "stderr",
     "output_type": "stream",
     "text": [
      "/opt/conda/lib/python3.10/site-packages/openpyxl/worksheet/_reader.py:312: UserWarning: Data Validation extension is not supported and will be removed\n"
     ]
    }
   ],
   "source": [
    "#Open up the 3 sheets \n",
    "project = to_snakecase(pd.read_excel(f\"{GCS_FILE_PATH}{FILE_NAME}\", sheet_name=\"Project Tracking\"))\n",
    "allocation =  to_snakecase(pd.read_excel(f\"{GCS_FILE_PATH}{FILE_NAME}\", sheet_name=\"Agreement Allocations\"))\n",
    "invoice = to_snakecase(pd.read_excel(f\"{GCS_FILE_PATH}{FILE_NAME}\", sheet_name=\"Invoice Tracking Sheet\"))"
   ]
  },
  {
   "cell_type": "markdown",
   "id": "54e9f853-f218-43f8-abc8-2be41dfc0290",
   "metadata": {},
   "source": [
    "## Functions"
   ]
  },
  {
   "cell_type": "code",
   "execution_count": 4,
   "id": "99179cad-0951-4f95-9163-12a95998bd1c",
   "metadata": {},
   "outputs": [],
   "source": [
    "#Some PPNO numbers are 5+. Slice them down to <= 5.\n",
    "def ppno_slice(df):\n",
    "    df = df.assign(ppno = df['ppno'].str.slice(start=0, stop=5))\n",
    "    return df "
   ]
  },
  {
   "cell_type": "code",
   "execution_count": 5,
   "id": "3f172a08-d733-4b83-ae58-edc063374000",
   "metadata": {},
   "outputs": [],
   "source": [
    "allocation = ppno_slice(allocation)\n",
    "project = ppno_slice(project)"
   ]
  },
  {
   "cell_type": "code",
   "execution_count": 6,
   "id": "afd7b80c-48e9-4e50-8cf7-50a63b724259",
   "metadata": {},
   "outputs": [
    {
     "name": "stderr",
     "output_type": "stream",
     "text": [
      "/opt/conda/lib/python3.10/site-packages/openpyxl/worksheet/_reader.py:312: UserWarning: Data Validation extension is not supported and will be removed\n"
     ]
    }
   ],
   "source": [
    "script_SAR = A3_semiannual_report.full_sar_report()"
   ]
  },
  {
   "cell_type": "markdown",
   "id": "34ab31d0-60f9-4767-837a-f48e5d4525df",
   "metadata": {},
   "source": [
    "## Check PPNO "
   ]
  },
  {
   "cell_type": "code",
   "execution_count": null,
   "id": "5c518f3f-0145-400b-9ead-c89da65c3329",
   "metadata": {},
   "outputs": [],
   "source": [
    "PPNO_project = set(project.ppno.unique().tolist())\n",
    "PPNO_allocation = set(allocation.ppno.unique().tolist())"
   ]
  },
  {
   "cell_type": "code",
   "execution_count": null,
   "id": "727ef66c-7e92-4fd7-be09-070da08c6cfa",
   "metadata": {},
   "outputs": [],
   "source": [
    "#Only 3 differing PPNO numbers\n",
    "PPNO_project - PPNO_allocation "
   ]
  },
  {
   "cell_type": "code",
   "execution_count": null,
   "id": "4ba1249f-58b9-464f-8761-bd599605806c",
   "metadata": {},
   "outputs": [],
   "source": [
    "differences = list(PPNO_allocation - PPNO_project)\n",
    "f'{len(differences)} different PPNOS.'"
   ]
  },
  {
   "cell_type": "code",
   "execution_count": null,
   "id": "83f017c8-5789-49b6-afe1-2875e765935b",
   "metadata": {},
   "outputs": [],
   "source": [
    "differences"
   ]
  },
  {
   "cell_type": "code",
   "execution_count": null,
   "id": "03d847f4-a49d-44e0-ada5-43d0e24b5e65",
   "metadata": {
    "scrolled": true,
    "tags": []
   },
   "outputs": [],
   "source": [
    "#Create a subset of allocation df with only the PPNOS that differ between the Allocation and Projects sheet\n",
    "different_dfs = allocation[allocation.ppno.isin(differences)]"
   ]
  },
  {
   "cell_type": "code",
   "execution_count": null,
   "id": "1f95f6ce-49a8-4ccb-a39a-14c6783ec28c",
   "metadata": {},
   "outputs": [],
   "source": [
    "#Subset df for only rows of interest to find out which grant recipients & award years have different PPNOS\n",
    "allocation_sub =different_dfs[['award_year', 'ppno','grant_recipient']].drop_duplicates()"
   ]
  },
  {
   "cell_type": "code",
   "execution_count": null,
   "id": "d0f828d3-d234-4faa-b61b-e8edbce1e262",
   "metadata": {
    "scrolled": true,
    "tags": []
   },
   "outputs": [],
   "source": [
    "#allocation_sub"
   ]
  },
  {
   "cell_type": "markdown",
   "id": "d0162d58-57bf-4d60-8222-8ee602f49460",
   "metadata": {},
   "source": [
    "### Use projects dataframe's PPNO as a source of truth\n",
    "* Need to change Antelope Valley Transit Authority (AVTA) 2020's PPNO.  "
   ]
  },
  {
   "cell_type": "code",
   "execution_count": null,
   "id": "367a1bc8-f827-4e6d-82f0-5558cba89560",
   "metadata": {},
   "outputs": [],
   "source": [
    "#Crosswalk for allocation df \n",
    "ppno_crosswalk_allocation = {'CP018': 'CP019','CP024':'CP043',\n",
    "                             'CP021':'CP043', 'CPO02':'CP025',\n",
    "                             'CP301': 'CP031', 'CP042':'CP031',\n",
    "                             'CP053': 'CP052','CP032': 'CP034',\n",
    "                             '1155N':'1155A','CP002':'CP000'}\n",
    "allocation.loc[(allocation[\"grant_recipient\"] == \"San Bernardino County Transportation Authority (SBCTA)\") & (allocation['award_year'] == 2016), \"ppno\"] = 1230\n",
    "allocation = allocation.sort_values(['award_year','grant_recipient'])\n",
    "allocation['ppno'].replace(ppno_crosswalk_allocation, inplace= True)      \n"
   ]
  },
  {
   "cell_type": "code",
   "execution_count": null,
   "id": "01edb965-6cd0-45d2-998c-0fad6ed6785d",
   "metadata": {},
   "outputs": [],
   "source": [
    "allocation['ppno'] = allocation['ppno'].fillna(method=\"ffill\")"
   ]
  },
  {
   "cell_type": "code",
   "execution_count": null,
   "id": "b4030ae4-df93-451b-905a-730e371d8126",
   "metadata": {
    "scrolled": true,
    "tags": []
   },
   "outputs": [],
   "source": [
    "#No need for a crosswalk for projects dataframe. For some reason some read in as NaN. \n",
    "project.loc[(project[\"grant_recipient\"] == \"San Bernardino County Transportation Authority (SBCTA)\"), \"ppno\"] = 1230\n",
    "project.loc[(project[\"grant_recipient\"] == \"Bay Area Rapid Transit District (BART)\"), \"ppno\"] = 'CP060'\n",
    "project.loc[(project[\"grant_recipient\"] == \"Santa Monica Big Blue Bus\"), \"ppno\"] = 'CP071'\n",
    "project.loc[(project[\"grant_recipient\"] == \"Antelope Valley Transit Authority (AVTA)\") & (project['award_year'] == 2020), \"ppno\"] = \"CP059\""
   ]
  },
  {
   "cell_type": "markdown",
   "id": "67e986c8-5010-4726-8961-e2c1a0bfd157",
   "metadata": {},
   "source": [
    "### Double check the sets"
   ]
  },
  {
   "cell_type": "code",
   "execution_count": null,
   "id": "c85f8c54-eccc-4a67-b4cd-d58a48625ded",
   "metadata": {},
   "outputs": [],
   "source": [
    "PPNO_project = set(project.ppno.unique().tolist())\n",
    "PPNO_allocation = set(allocation.ppno.unique().tolist())"
   ]
  },
  {
   "cell_type": "code",
   "execution_count": null,
   "id": "b895fb4d-515c-4a0b-bd23-60100205140f",
   "metadata": {},
   "outputs": [],
   "source": [
    "PPNO_allocation - PPNO_project"
   ]
  },
  {
   "cell_type": "code",
   "execution_count": null,
   "id": "39f1febf-edb4-46a2-82b7-04d13247f05b",
   "metadata": {},
   "outputs": [],
   "source": [
    "PPNO_project - PPNO_allocation"
   ]
  },
  {
   "cell_type": "code",
   "execution_count": null,
   "id": "33f4cd57-9439-4032-9741-e15d5fdc78de",
   "metadata": {
    "scrolled": true,
    "tags": []
   },
   "outputs": [],
   "source": [
    "allocation[['award_year','ppno','grant_recipient']].drop_duplicates()"
   ]
  },
  {
   "cell_type": "code",
   "execution_count": null,
   "id": "68a1a86b-03b0-44ea-9825-db6cf844cb49",
   "metadata": {
    "scrolled": true,
    "tags": []
   },
   "outputs": [],
   "source": [
    "#preview subset of project_sub \n",
    "project[['award_year','ppno','grant_recipient']].drop_duplicates()"
   ]
  },
  {
   "cell_type": "markdown",
   "id": "6e186713-a496-4b3f-8fc8-8689a7ddea12",
   "metadata": {},
   "source": [
    "## Project"
   ]
  },
  {
   "cell_type": "code",
   "execution_count": null,
   "id": "ea384b7d-e86d-4405-ac60-70c336ddee84",
   "metadata": {
    "tags": []
   },
   "outputs": [],
   "source": [
    "project[['award_year','ppno','grant_recipient','district', 'county',\n",
    "         'tircp_award_amount__$_', 'allocated_amount', 'unallocated_amount',\n",
    "       'percentage_allocated', 'expended_amount', 'other_funds_involved',\n",
    "       'award_cycle', 'estimated_tircp_ghg_reductions',\n",
    "       'cost_per_ghg_ton_reduced', 'increased_ridership',\n",
    "       'service_integration', 'improve_safety', 'project_readiness',\n",
    "       'funding_leverage', 'multi_agency_coordination_integration',\n",
    "       'priority_population_benefits___ab_1550_community_benefits',\n",
    "       'housing_co_benefits']].head(2)\n"
   ]
  },
  {
   "cell_type": "code",
   "execution_count": null,
   "id": "8af73bb3-75b5-48d1-9bc2-528de797b78f",
   "metadata": {},
   "outputs": [],
   "source": [
    "#Fill in nulls based on data type\n",
    "project.fillna(project.dtypes.replace({'float64': 0.0, 'object': 'None', 'int64':0}), inplace=True)\n",
    "\n",
    "#Fill in FY \n",
    "project[\"award_cycle\"].replace({'FY 21/22': 4}, inplace=True)"
   ]
  },
  {
   "cell_type": "code",
   "execution_count": null,
   "id": "c8dd16b6-bc2b-4f64-89f4-2b452e7e119b",
   "metadata": {},
   "outputs": [],
   "source": [
    "project['award_year'].value_counts()"
   ]
  },
  {
   "cell_type": "code",
   "execution_count": null,
   "id": "6e5896e4-4612-418c-a249-4d864da28cdf",
   "metadata": {},
   "outputs": [],
   "source": [
    "project['award_cycle'].value_counts()"
   ]
  },
  {
   "cell_type": "code",
   "execution_count": null,
   "id": "198d7350-32ca-4827-8227-037912c16b2e",
   "metadata": {
    "scrolled": true,
    "tags": []
   },
   "outputs": [],
   "source": [
    "#project['percentage_allocated'].value_counts()"
   ]
  },
  {
   "cell_type": "code",
   "execution_count": null,
   "id": "50dba9b7-89a3-4664-b68a-847c96bd42e3",
   "metadata": {},
   "outputs": [],
   "source": [
    "project = project.add_prefix(\"project_\")"
   ]
  },
  {
   "cell_type": "code",
   "execution_count": null,
   "id": "247b2363-bd4c-4ae5-8aa1-72f159054936",
   "metadata": {},
   "outputs": [],
   "source": [
    "script_projects = A1_data_prep.clean_project()"
   ]
  },
  {
   "cell_type": "code",
   "execution_count": null,
   "id": "963a3f09-2a00-486d-9361-a5f9dc492dc5",
   "metadata": {
    "scrolled": true,
    "tags": []
   },
   "outputs": [],
   "source": [
    "assert script_projects.shape == project.shape"
   ]
  },
  {
   "cell_type": "code",
   "execution_count": null,
   "id": "daba150f-ccf8-4465-b37f-c6d39f77b38b",
   "metadata": {},
   "outputs": [],
   "source": [
    "assert set(script_projects.columns) == set(project.columns)"
   ]
  },
  {
   "cell_type": "markdown",
   "id": "bb64f26f-cea3-48df-919d-99041721a546",
   "metadata": {},
   "source": [
    "## Allocation Agreement \n",
    "* Function within script isn't working"
   ]
  },
  {
   "cell_type": "code",
   "execution_count": null,
   "id": "c994b648-2ceb-46ac-a770-e0c4f345085d",
   "metadata": {
    "tags": []
   },
   "outputs": [],
   "source": [
    "#Some rows are not completed: drop them\n",
    "allocation1 = allocation.dropna(subset=['award_year', 'grant_recipient', 'ppno'])\n",
    "len(allocation1)"
   ]
  },
  {
   "cell_type": "code",
   "execution_count": null,
   "id": "838d9c9c-37c0-4967-bffb-a2d5c159c7a8",
   "metadata": {
    "scrolled": true,
    "tags": []
   },
   "outputs": [],
   "source": [
    "#Replacing values  \n",
    "allocation_3rd_party_date = {'07/29/2020': '2020-07-29 00:00:00'}\n",
    "allocation_led = {'2/1/2021\\n\\n10/31/2022': '2021-02-01 00:00:00',\n",
    "                 'June 30, 2019\\nSeptember 30, 2019': '2019 06-30 00:00:00',\n",
    "                 'October 15, 2018\\nSeptember 30, 2021': '2018-10-15 00:00:00'}\n",
    "allocation_completion_date = {'6/30/2021\\n12/31/2021\\n10/20/2022':'2021-06-30 00:00:00',\n",
    "                              'Complete\\n8/30/2020':'2020-08-30 00:00:00',\n",
    "                              'Complete\\n1/31/2020':'2021-01-31 00:00:00'}\n",
    "\n"
   ]
  },
  {
   "cell_type": "code",
   "execution_count": null,
   "id": "a6466c56-340a-4ff3-b499-83b98764aefb",
   "metadata": {},
   "outputs": [],
   "source": [
    "allocation1['_3rd_party_award_date'] = allocation1['_3rd_party_award_date'].replace(crosswalks.allocation_3rd_party_date)\n",
    "allocation1['led'] = allocation1['led'].replace(crosswalks.allocation_led)     \n",
    "allocation1['completion_date'] = allocation1['completion_date'].replace(crosswalks.allocation_completion_date) "
   ]
  },
  {
   "cell_type": "code",
   "execution_count": null,
   "id": "2a8570a4-8862-40af-9f90-3352705db1a0",
   "metadata": {
    "scrolled": true,
    "tags": []
   },
   "outputs": [],
   "source": [
    "#allocation['_3rd_party_award_date'].value_counts()"
   ]
  },
  {
   "cell_type": "code",
   "execution_count": null,
   "id": "c762d290-4cf5-472d-b8ba-ee7622cc447f",
   "metadata": {
    "scrolled": true,
    "tags": []
   },
   "outputs": [],
   "source": [
    "#allocation['led'].value_counts()"
   ]
  },
  {
   "cell_type": "code",
   "execution_count": null,
   "id": "282925d6-5681-4c5e-8cac-d086df001ee6",
   "metadata": {
    "scrolled": true,
    "tags": []
   },
   "outputs": [],
   "source": [
    "#allocation['allocation_date'].value_counts()"
   ]
  },
  {
   "cell_type": "code",
   "execution_count": null,
   "id": "ef6ed43b-cfa7-4964-b37b-44c3fde351a7",
   "metadata": {
    "scrolled": true,
    "tags": []
   },
   "outputs": [],
   "source": [
    "#allocation['completion_date'].value_counts()"
   ]
  },
  {
   "cell_type": "code",
   "execution_count": null,
   "id": "0b748b53-1c7b-4c36-b2a4-4aac3065569b",
   "metadata": {
    "scrolled": true,
    "tags": []
   },
   "outputs": [],
   "source": [
    "#allocation['date_branch_chief_receives_psa'].value_counts()"
   ]
  },
  {
   "cell_type": "code",
   "execution_count": null,
   "id": "edbfbe65-e04e-4074-bffd-4d42d715bd52",
   "metadata": {
    "scrolled": true,
    "tags": []
   },
   "outputs": [],
   "source": [
    "#allocation['expended_amount'].value_counts()"
   ]
  },
  {
   "cell_type": "code",
   "execution_count": null,
   "id": "963b362b-21d4-479a-bf43-50da1a0745e6",
   "metadata": {},
   "outputs": [],
   "source": [
    "allocation1[\"expended_amount\"] = (allocation1[\"expended_amount\"]\n",
    "                             .replace({'Deallocation': 0})\n",
    "                             .astype('int64')\n",
    "                            )"
   ]
  },
  {
   "cell_type": "code",
   "execution_count": null,
   "id": "7f935fdb-a379-491a-a21c-dc1da3c03e56",
   "metadata": {},
   "outputs": [],
   "source": [
    "#Coerce dates to datetime\n",
    "date_columns = ['allocation_date', 'completion_date','_3rd_party_award_date', 'led', 'date_branch_chief_receives_psa',\n",
    "       'date_regional_coordinator_receives_psa', 'date_oc_receives_psa',\n",
    "       'date_opm_receives_psa', 'date_legal_receives_psa',\n",
    "       'date_returned_to_pm',\n",
    "       'date_psa_approved_by_local_agency', 'date_signed_by_drmt',\n",
    "       'psa_expiry_date']"
   ]
  },
  {
   "cell_type": "code",
   "execution_count": null,
   "id": "1722946f-e9b1-48b2-8a35-c229bff65b35",
   "metadata": {},
   "outputs": [],
   "source": [
    "#Fill in NA based on data type\n",
    "allocation1.fillna(allocation1.dtypes.replace({'float64': 0.0, 'object': 'None'}), inplace=True)"
   ]
  },
  {
   "cell_type": "code",
   "execution_count": null,
   "id": "eccc833b-6aee-4746-915c-5dc32aca25a5",
   "metadata": {},
   "outputs": [],
   "source": [
    "#Coerce date columns\n",
    "#https://sparkbyexamples.com/pandas/pandas-convert-multiple-columns-to-datetime-type/\n",
    "for c in date_columns:\n",
    "        allocation1[c] = allocation1[c].apply(pd.to_datetime, errors='coerce')"
   ]
  },
  {
   "cell_type": "code",
   "execution_count": null,
   "id": "704f943b-7d17-49df-bf38-85186dd628ef",
   "metadata": {
    "scrolled": true,
    "tags": []
   },
   "outputs": [],
   "source": [
    "allocation1 = allocation1.add_prefix(\"allocation_\")"
   ]
  },
  {
   "cell_type": "code",
   "execution_count": null,
   "id": "e5702e12-2ca3-4f13-be76-cdf815c08a3c",
   "metadata": {},
   "outputs": [],
   "source": [
    "script_allocation = A1_data_prep.clean_allocation()"
   ]
  },
  {
   "cell_type": "code",
   "execution_count": null,
   "id": "3bf9c3dc-201b-4709-95d4-ff9c91ea0111",
   "metadata": {},
   "outputs": [],
   "source": [
    "assert set(script_allocation.columns) == set(allocation1.columns)"
   ]
  },
  {
   "cell_type": "code",
   "execution_count": null,
   "id": "ff8811d4-dba2-4123-b86d-62bd95f8db35",
   "metadata": {},
   "outputs": [],
   "source": [
    "script_allocation.shape "
   ]
  },
  {
   "cell_type": "code",
   "execution_count": null,
   "id": "1b7a0308-db1e-4a34-add2-87f2d15b94e8",
   "metadata": {},
   "outputs": [],
   "source": [
    "allocation1.shape"
   ]
  },
  {
   "cell_type": "markdown",
   "id": "dee43a50-a7ea-49c2-b918-1c0358a8039f",
   "metadata": {},
   "source": [
    "## PAP"
   ]
  },
  {
   "cell_type": "markdown",
   "id": "2596d54a-2077-4819-a0d8-cc681f87fb8b",
   "metadata": {},
   "source": [
    "## SAR"
   ]
  },
  {
   "cell_type": "code",
   "execution_count": null,
   "id": "d93df8a6-3b7b-44ce-b8f7-9c6878ac76ef",
   "metadata": {},
   "outputs": [],
   "source": [
    "#Functions\n",
    "#Columns to keep\n",
    "allocation_cols = ['allocation_award_year','allocation_expended_amount','allocation_allocation_amount',\n",
    "                                'allocation_components','allocation_grant_recipient', \n",
    "                                   'allocation_implementing_agency','allocation_ppno',\n",
    "                                   'allocation_phase','allocation_led','allocation_allocation_date',\n",
    "                                   'allocation_completion_date','allocation__3rd_party_award_date',\n",
    "                                  'allocation_ea', 'allocation_sb1_funding',  'allocation_ggrf_funding',\n",
    "                                   'allocation_project_id']\n",
    "project_cols = ['project_project_manager','project_award_year', 'project_project_#','project_project_title',\n",
    "                             'project_ppno',  'project_tircp_award_amount__$_',\n",
    "                             'project_expended_amount','project_allocated_amount','project_grant_recipient']\n",
    "\n",
    "numeric_cols = ['allocation_expended_amount','allocation_allocation_amount',\n",
    "            'project_tircp_award_amount__$_','project_expended_amount',\n",
    "            'Percent_of_Allocation_Expended', 'Percent_of_Award_Fully_Allocated']\n",
    "\n",
    "dates = [\"allocation_allocation_date\", \"allocation__3rd_party_award_date\",\n",
    "             \"allocation_completion_date\", \"allocation_led\"]\n",
    "\n",
    "group_by_cols = ['project_award_year','project_project_#','project_project_manager',\n",
    "                 'allocation_grant_recipient', 'allocation_implementing_agency',\n",
    "                 'project_project_title', 'Percent_of_Award_Fully_Allocated','TIRCP_Award_Amount',\n",
    "                 'allocation_components','project_ppno','allocation_phase',\n",
    "                 \"allocation_allocation_date\",  \"CON_Contract_Award_Date\",\n",
    "                 \"Phase_Completion_Date\", 'allocation_ea', 'allocation_project_id',]\n",
    "\n",
    "sum_cols = ['allocation_allocation_amount','allocation_expended_amount','allocation_sb1_funding',\n",
    "    'allocation_ggrf_funding']\n",
    "\n",
    "max_cols = ['Percent_of_Allocation_Expended','Allocated_Before_July_31_2020']\n",
    "\n",
    "\n"
   ]
  },
  {
   "cell_type": "code",
   "execution_count": null,
   "id": "260be3db-25bf-4d0a-80fd-83d4e0d896c2",
   "metadata": {},
   "outputs": [],
   "source": [
    "#For table 2 in semi annual report\n",
    "#Input project df \n",
    "def summary_SAR_table_two(df):\n",
    "    #pivot\n",
    "    df = (df\n",
    "          .drop_duplicates()\n",
    "          .groupby(['project_award_year'])\n",
    "          .agg({'project_project_#':'count',\n",
    "                'project_tircp_award_amount__$_':'sum', \n",
    "                'project_allocated_amount':'sum',\n",
    "                'project_expended_amount':'sum'})\n",
    "          .reset_index()\n",
    "         )\n",
    "    #renaming columns to match report\n",
    "    df = (df.rename(columns = {'project_project_#':'Number_of_Awarded_Projects',\n",
    "                               'project_tircp_award_amount__$_': 'Award_Amount',\n",
    "                               'project_allocated_amount':'Amount_Allocated',\n",
    "                               'project_expended_amount': 'Expended_Amount',\n",
    "                               'project_award_year': 'Award_Year'})\n",
    "         )\n",
    "    #create percentages\n",
    "    df['Expended_Percent_of_Awarded'] = (df['Expended_Amount']/df['Award_Amount'])\n",
    "    df['Expended_Percent_of_Allocated'] = (df['Expended_Amount']/df['Amount_Allocated'])\n",
    "    df['Percent_Allocated'] = (df['Amount_Allocated']/df['Award_Amount'])\n",
    "    #transpose \n",
    "    df = df.set_index('Award_Year').T\n",
    "    #grand totals for monetary columns\n",
    "    list_to_add = ['Award_Amount','Amount_Allocated','Expended_Amount', 'Number_of_Awarded_Projects']\n",
    "    df['Grand_Total']=df.loc[list_to_add, :].sum(axis=1)\n",
    "    #grand total project_expended_amount of each monetary column to fill in percentages below.\n",
    "    Exp = df.at['Expended_Amount','Grand_Total']\n",
    "    Alloc = df.at['Amount_Allocated','Grand_Total']\n",
    "    TIRCP = df.at['Award_Amount','Grand_Total']\n",
    "    #filling in totals of percentages\n",
    "    df.at['Expended_Percent_of_Awarded','Grand_Total'] = (Exp/TIRCP)\n",
    "    df.at['Expended_Percent_of_Allocated','Grand_Total'] = (Exp/Alloc)\n",
    "    df.at['Percent_Allocated','Grand_Total'] = (Alloc/TIRCP)\n",
    "    #switching rows to correct order\n",
    "    df = (df.reindex(['Number_of_Awarded_Projects',\n",
    "                      'Award_Amount', 'Amount_Allocated',\n",
    "                     'Percent_Allocated','Expended_Amount', \n",
    "                      'Expended_Percent_of_Awarded', 'Expended_Percent_of_Allocated'])\n",
    "    )\n",
    "    return df \n"
   ]
  },
  {
   "cell_type": "code",
   "execution_count": null,
   "id": "ea9233b7-373a-4190-96af-233484ddc877",
   "metadata": {
    "tags": []
   },
   "outputs": [],
   "source": [
    "'''\n",
    "def sar():\n",
    "    #Load in raw sheets\n",
    "    df_project = A1_data_prep.clean_project()\n",
    "    df_allocation = A1_data_prep.clean_allocation()\n",
    "    previous_sar = A1_data_prep.load_previous_sar()\n",
    "    \n",
    "    #Function for summary table portion of the report\n",
    "    summary = summary_SAR_table_two(df_project)\n",
    "    \n",
    "    #Only keeping certain columns\n",
    "    df_project = (df_project[project_cols])\n",
    "    df_allocation =(df_allocation[allocation_cols])\n",
    "    \n",
    "    #Join the 2 dataframes\n",
    "    m1 = df_allocation.merge(df_project, how = \"left\", \n",
    "                                 left_on = [\"allocation_ppno\", \"allocation_award_year\"],\n",
    "                                 right_on = [\"project_ppno\", \"project_award_year\"])\n",
    "    #drop duplicates\n",
    "    m1 = m1.drop_duplicates() \n",
    "    \n",
    "    #Fill in missing dates with a fake one so it'll show up in the group by \n",
    "    missing_date = pd.to_datetime('2100-01-01')\n",
    "    for i in dates:\n",
    "        m1[i] = (m1[i]\n",
    "                     .fillna(missing_date)\n",
    "                     .apply(pd.to_datetime)\n",
    "                    )\n",
    "    \n",
    "    #Add new columns with percentages and a new column to flag whether an allocation date is \n",
    "    #AFTER  7-31-2020 then blank, if BEFORE 7-31-2020 then X\n",
    "    m1 = m1.assign(\n",
    "    Percent_of_Allocation_Expended = (m1['allocation_expended_amount']/\n",
    "                                      m1['allocation_allocation_amount']),\n",
    "    Percent_of_Award_Fully_Allocated = (m1['allocation_allocation_amount']/\n",
    "                                        m1['project_tircp_award_amount__$_']),\n",
    "    Allocated_Before_July_31_2020 =   m1.apply(lambda x: ' ' if x.allocation_allocation_date \n",
    "                                        > pd.Timestamp(2020, 7, 31, 0) else 'X', axis=1))\n",
    "    \n",
    "        \n",
    "    #Filter out projects that are excluded \n",
    "    m1 = (m1[(m1.allocation_allocation_amount > 0 ) & (m1.Percent_of_Allocation_Expended < 0.99)]) \n",
    "    \n",
    "    #Fill in null values based on datatype of each column\n",
    "    m1 = m1.fillna(m1.dtypes.replace({'float64': 0.0, 'int64': 0}))\n",
    "    \n",
    "    #Rename cols \n",
    "    m1 = m1.rename(columns = {'allocation_led': 'Phase_Completion_Date',\n",
    "         'project_tircp_award_amount__$_': 'TIRCP_Award_Amount',\n",
    "         'allocation__3rd_party_award_date':'CON_Contract_Award_Date'})\n",
    "\n",
    "    #Pivot\n",
    "    df_pivoted =m1.groupby(group_by_cols).agg({**{e:'max' for e in max_cols}, **{e:'sum' for e in sum_cols}})\n",
    "    \n",
    "    #Apply styling to show difference between current SAR and previous SAR\n",
    "    #https://stackoverflow.com/questions/17095101/compare-two-dataframes-and-output-their-differences-side-by-side\n",
    "    #Reset index from dataframe above\n",
    "    df_current = df_pivoted.reset_index() \n",
    "    df_all = pd.concat([df_current, previous_sar], keys=['Current_SAR', 'Previous_SAR'], axis =1)\n",
    "    df_all = df_all.swaplevel(axis='columns')[df_current.columns[1:]]\n",
    "    \n",
    "    def highlight_diff(data, color='pink'):\n",
    "        attr = 'background-color: {}'.format(color)\n",
    "        other = data.xs('Current_SAR', axis='columns', level=-1)\n",
    "        return pd.DataFrame(np.where(data.ne(other, level=0), attr, ''),\n",
    "                        index=data.index, columns=data.columns)\n",
    "    \n",
    "    df_highlighted = df_all.style.apply(highlight_diff, axis=None)\n",
    "    \n",
    "    #Save to GCS\n",
    "    with pd.ExcelWriter(f\"{GCS_FILE_PATH}Script_Semi_Annual_Report.xlsx\") as writer:\n",
    "        summary.to_excel(writer, sheet_name=\"Summary\", index=True)\n",
    "        df_pivoted.to_excel(writer, sheet_name=\"FY\", index=True)\n",
    "        df_current.to_excel(writer, sheet_name=\"Unpivoted_Current_Version\", index=False)\n",
    "        df_highlighted.to_excel(writer, sheet_name=\"highlighted\")\n",
    "    return df_current, df_pivoted, summary\n",
    "'''"
   ]
  },
  {
   "cell_type": "code",
   "execution_count": null,
   "id": "ca31858d-d173-43e5-9f28-1e15e5c8ef13",
   "metadata": {},
   "outputs": [],
   "source": [
    "df1, df2, df3 = sar()"
   ]
  },
  {
   "cell_type": "code",
   "execution_count": null,
   "id": "b2be9cd6-4f23-4922-9546-e43153ff61e7",
   "metadata": {},
   "outputs": [],
   "source": [
    "previous_sar = A1_data_prep.load_previous_sar()"
   ]
  },
  {
   "cell_type": "code",
   "execution_count": null,
   "id": "6bc68f18-2d7e-4636-8671-851f77668316",
   "metadata": {},
   "outputs": [],
   "source": [
    "def highlight_differences(df1, df2):\n",
    "    df_current = df1.reset_index()\n",
    "    df_all = pd.concat([df_current, previous_sar], keys=['Current_SAR', 'Previous_SAR'], axis =1)\n",
    "    df_all = df_all.swaplevel(axis='columns')[df1.columns[1:]]\n",
    "    def highlight_diff(data, color='pink'):\n",
    "        attr = 'background-color: {}'.format(color)\n",
    "        other = data.xs('Current_SAR', axis='columns', level=-1)\n",
    "        return pd.DataFrame(np.where(data.ne(other, level=0), attr, ''),\n",
    "                        index=data.index, columns=data.columns)\n",
    "    \n",
    "    df_highlighted = df_all.style.apply(highlight_diff, axis=None)\n",
    "    return df_highlighted "
   ]
  },
  {
   "cell_type": "code",
   "execution_count": null,
   "id": "4a6284c8-7e0c-423a-ab71-b759be4519a6",
   "metadata": {
    "scrolled": true,
    "tags": []
   },
   "outputs": [],
   "source": [
    "test_function = highlight_differences(df1, previous_sar)\n",
    "#test_function"
   ]
  },
  {
   "cell_type": "code",
   "execution_count": null,
   "id": "72065700-a960-4dbd-9218-f551713020f8",
   "metadata": {},
   "outputs": [],
   "source": [
    "#https://stackoverflow.com/questions/17095101/compare-two-dataframes-and-output-their-differences-side-by-side\n",
    "df_all = pd.concat([df1, previous_sar], keys=['Current_SAR', 'Previous_SAR'], axis =1)"
   ]
  },
  {
   "cell_type": "code",
   "execution_count": null,
   "id": "392255f7-1e54-4154-bf15-2220a178bd0e",
   "metadata": {
    "scrolled": true,
    "tags": []
   },
   "outputs": [],
   "source": [
    "df_all = df_all.swaplevel(axis='columns')[df1.columns[1:]]"
   ]
  },
  {
   "cell_type": "code",
   "execution_count": null,
   "id": "baf123da-8ea9-4dfe-ac1a-cf58d4f0744f",
   "metadata": {},
   "outputs": [],
   "source": [
    "def highlight_diff(data, color='pink'):\n",
    "    attr = 'background-color: {}'.format(color)\n",
    "    other = data.xs('Current_SAR', axis='columns', level=-1)\n",
    "    return pd.DataFrame(np.where(data.ne(other, level=0), attr, ''),\n",
    "                        index=data.index, columns=data.columns)"
   ]
  },
  {
   "cell_type": "code",
   "execution_count": null,
   "id": "1a3a772c-9e34-4f35-8a45-052ceb8f088d",
   "metadata": {
    "scrolled": true,
    "tags": []
   },
   "outputs": [],
   "source": [
    "df_highlighted = df_all.style.apply(highlight_diff, axis=None)"
   ]
  },
  {
   "cell_type": "markdown",
   "id": "367f1016-ef15-4b3d-9b4b-e58ae32da2d1",
   "metadata": {},
   "source": [
    "## Tableau\n",
    "* Maybe add geodataframe component?\n",
    "* Project Size function not working, have to embed it in the entire function as opposed to outside. Fix.\n"
   ]
  },
  {
   "cell_type": "markdown",
   "id": "974c86de-c242-4f7e-b029-3fcc3cf18351",
   "metadata": {
    "tags": []
   },
   "source": [
    "def tableau():  \n",
    "    df = A1_data_prep.clean_project()\n",
    "    # Keeping only certain columns.\n",
    "    df = df[['project_award_year','project_grant_recipient',\n",
    "       'project_project_title', 'project_ppno', 'project_district',\n",
    "       'project_technical_assistance_calitp__y_n_',\n",
    "       'project_technical_assistance_fleet__y_n_',\n",
    "       'project_technical_assistance_network_integration__y_n_',\n",
    "       'project_technical_assistance_priority_population__y_n_',\n",
    "       'project_total_project_cost', 'project_tircp_award_amount__$_',\n",
    "       'project_allocated_amount', 'project_unallocated_amount',\n",
    "       'project_expended_amount', 'project_award_cycle',\n",
    "       'project_estimated_tircp_ghg_reductions',\n",
    "       'project_cost_per_ghg_ton_reduced', 'project_increased_ridership',\n",
    "       'project_service_integration', 'project_improve_safety',\n",
    "       'project_project_readiness','project_county']]\n",
    "\n",
    "    #Create new cols\n",
    "    df = df.assign(\n",
    "    Expended_Percent = (df[\"project_expended_amount\"] / df[\"project_allocated_amount\"]),\n",
    "    Allocated_Percent = (df[\"project_allocated_amount\"] / df[\"project_tircp_award_amount__$_\"]),\n",
    "    Unallocated_Amount = (df[\"project_tircp_award_amount__$_\"] - df[\"project_allocated_amount\"]),\n",
    "    Projects_Funded_Percent = (df['project_tircp_award_amount__$_']/df['project_total_project_cost'])\n",
    "    )\n",
    "   \n",
    "    # filling in for 0's\n",
    "    new_cols_list = [\"Expended_Percent\", \"Allocated_Percent\", \"Unallocated_Amount\", 'Projects_Funded_Percent'] \n",
    "    df[new_cols_list] = df[new_cols_list].fillna(0)\n",
    "    \n",
    "    #Replace distircts & counties with their full names \n",
    "    df['project_district'] = df['project_district'].replace(crosswalks.full_ct_district)\n",
    "    df['project_county'] = df['project_county'].replace(crosswalks.full_county)\n",
    "    \n",
    "    #Apply functions\n",
    "    #Categorize projects into expended % bins\n",
    "    df[\"Expended_Percent_Group\"] = df.apply(lambda x: A2_tableau.expended_percent(x), axis=1)\n",
    "    \n",
    "    #Categorize projects whether they are ahead/behind/0 expenditures/etc\n",
    "    df[\"Progress\"] = df.apply(A2_tableau.progress, axis=1)\n",
    "    \n",
    "    #Categorize projects whether they are large/small/med based on TIRCPamount\n",
    "    \n",
    "    #Rename TIRCP column to something cleaner\n",
    "    df= df.rename(columns={'project_tircp_award_amount__$_': \"tircp\"})\n",
    "    # Which projects are large,small, medium\n",
    "    p75 = df.tircp.quantile(0.75).astype(float)\n",
    "    p50 = df.tircp.quantile(0.50).astype(float)\n",
    "    p25 = df.tircp.quantile(0.25).astype(float)\n",
    "    \n",
    "    def project_size (row):\n",
    "        if ((row.tircp > 0) and (row.tircp < p25)):\n",
    "             return \"Small\"\n",
    "        elif ((row.tircp > p25) and (row.tircp < p50)):\n",
    "             return \"Medium\"\n",
    "        elif (row.tircp > p50):\n",
    "             return \"Large\"\n",
    "        elif (row.tircp == 0):\n",
    "            return \"$0 recorded for TIRCP\"\n",
    "        else:\n",
    "            return \"Medium\"\n",
    "        \n",
    "    df[\"Project_Category\"] = df.apply(lambda x: project_size(x), axis=1)\n",
    "    \n",
    "    #Clean up column names\n",
    "    df.columns = (df.columns\n",
    "                  .str.replace('[_]', ' ')\n",
    "                  .str.replace('project','')\n",
    "                  .str.title()\n",
    "                  .str.strip()\n",
    "                 )\n",
    "    ### GCS ###\n",
    "    with pd.ExcelWriter(f\"{GCS_FILE_PATH}Script_Tableau_Sheet.xlsx\") as writer:\n",
    "        df.to_excel(writer, sheet_name=\"Data\", index=False)\n",
    "    return df\n"
   ]
  },
  {
   "cell_type": "code",
   "execution_count": null,
   "id": "6ac04e2a-26a0-46ea-ba96-111c4b98621e",
   "metadata": {},
   "outputs": [],
   "source": [
    "#nb_tableau = tableau()"
   ]
  },
  {
   "cell_type": "code",
   "execution_count": null,
   "id": "07de8a7e-8bc4-41ec-8618-72216cb8e77f",
   "metadata": {},
   "outputs": [],
   "source": [
    "#nb_tableau.shape"
   ]
  },
  {
   "cell_type": "code",
   "execution_count": null,
   "id": "4f634794-3b32-4924-8300-b2167a2e8cfa",
   "metadata": {
    "scrolled": true,
    "tags": []
   },
   "outputs": [],
   "source": [
    "#nb_tableau[['Tircp','Expended Amount','Ppno','Expended Percent','Progress','Project Category']]"
   ]
  },
  {
   "cell_type": "code",
   "execution_count": null,
   "id": "d94a398b-e4ce-4c3e-9966-c4c7e1c2d4bb",
   "metadata": {},
   "outputs": [],
   "source": [
    "script_tableau = A2_tableau.tableau()"
   ]
  },
  {
   "cell_type": "code",
   "execution_count": null,
   "id": "5c1e7687-2e2d-4995-abbd-3e9a8b09a800",
   "metadata": {},
   "outputs": [],
   "source": [
    "#script_tableau.shape"
   ]
  },
  {
   "cell_type": "code",
   "execution_count": null,
   "id": "4e1fa839-2e11-467e-9f1d-12a5d9a42efe",
   "metadata": {},
   "outputs": [],
   "source": [
    "#nb_tableau.equals(script_tableau)"
   ]
  }
 ],
 "metadata": {
  "kernelspec": {
   "display_name": "Python 3 (ipykernel)",
   "language": "python",
   "name": "python3"
  },
  "language_info": {
   "codemirror_mode": {
    "name": "ipython",
    "version": 3
   },
   "file_extension": ".py",
   "mimetype": "text/x-python",
   "name": "python",
   "nbconvert_exporter": "python",
   "pygments_lexer": "ipython3",
   "version": "3.10.4"
  }
 },
 "nbformat": 4,
 "nbformat_minor": 5
}
