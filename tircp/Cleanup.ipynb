{
 "cells": [
  {
   "cell_type": "markdown",
   "id": "3f0b7f1b-ddfd-4519-8099-1673e66a984a",
   "metadata": {},
   "source": [
    "# Cleaning & improving old work\n",
    "* Recieved a new workbook July 8, 2022.\n",
    "* Create separate functions to import the actual sheets"
   ]
  },
  {
   "cell_type": "code",
   "execution_count": 1,
   "id": "b0ddb4f3-ffaa-4a5a-9736-035cce0d71a0",
   "metadata": {},
   "outputs": [
    {
     "name": "stderr",
     "output_type": "stream",
     "text": [
      "/opt/conda/lib/python3.10/site-packages/geopandas/_compat.py:111: UserWarning: The Shapely GEOS version (3.10.2-CAPI-1.16.0) is incompatible with the GEOS version PyGEOS was compiled with (3.10.1-CAPI-1.16.0). Conversions between both will be slow.\n"
     ]
    }
   ],
   "source": [
    "import numpy as np\n",
    "import pandas as pd\n",
    "\n",
    "import altair as alt\n",
    "import matplotlib.pyplot as plt\n",
    "import numpy as np\n",
    "import pandas as pd\n",
    "\n",
    "from calitp import *\n",
    "\n",
    "#Formatting the nb \n",
    "pd.options.display.max_columns = 100\n",
    "pd.set_option(\"display.max_rows\", None)\n",
    "pd.set_option(\"display.max_colwidth\", None)\n",
    "pd.options.display.float_format = \"{:.2f}\".format\n",
    "\n",
    "#Import script\n",
    "import data_prep"
   ]
  },
  {
   "cell_type": "code",
   "execution_count": 2,
   "id": "07f9a5d2-ab4c-4ca0-9cf8-857509de4139",
   "metadata": {},
   "outputs": [],
   "source": [
    "GCS_FILE_PATH = \"gs://calitp-analytics-data/data-analyses/tircp/\"\n",
    "FILE_NAME = \"TIRCP_July_8_2022.xlsx\""
   ]
  },
  {
   "cell_type": "code",
   "execution_count": 3,
   "id": "a0d70f9c-fde5-435a-93d1-45ddb76695a7",
   "metadata": {},
   "outputs": [
    {
     "name": "stderr",
     "output_type": "stream",
     "text": [
      "/opt/conda/lib/python3.10/site-packages/openpyxl/worksheet/_reader.py:312: UserWarning: Data Validation extension is not supported and will be removed\n"
     ]
    }
   ],
   "source": [
    "#Open up the 3 sheets \n",
    "project = to_snakecase(pd.read_excel(f\"{GCS_FILE_PATH}{FILE_NAME}\", sheet_name=\"Project Tracking\"))\n",
    "allocation =  to_snakecase(pd.read_excel(f\"{GCS_FILE_PATH}{FILE_NAME}\", sheet_name=\"Agreement Allocations\"))\n",
    "invoice = to_snakecase(pd.read_excel(f\"{GCS_FILE_PATH}{FILE_NAME}\", sheet_name=\"Invoice Tracking Sheet\"))"
   ]
  },
  {
   "cell_type": "markdown",
   "id": "54e9f853-f218-43f8-abc8-2be41dfc0290",
   "metadata": {},
   "source": [
    "## Functions"
   ]
  },
  {
   "cell_type": "code",
   "execution_count": 4,
   "id": "99179cad-0951-4f95-9163-12a95998bd1c",
   "metadata": {},
   "outputs": [],
   "source": [
    "#Some PPNO numbers are 5+. Slice them down to <= 5.\n",
    "def ppno_slice(df):\n",
    "    df = df.assign(ppno = df['ppno'].str.slice(start=0, stop=5))\n",
    "    return df "
   ]
  },
  {
   "cell_type": "code",
   "execution_count": 5,
   "id": "3f172a08-d733-4b83-ae58-edc063374000",
   "metadata": {},
   "outputs": [],
   "source": [
    "allocation = ppno_slice(allocation)\n",
    "project = ppno_slice(project)"
   ]
  },
  {
   "cell_type": "markdown",
   "id": "34ab31d0-60f9-4767-837a-f48e5d4525df",
   "metadata": {},
   "source": [
    "## Check PPNO "
   ]
  },
  {
   "cell_type": "code",
   "execution_count": 6,
   "id": "5c518f3f-0145-400b-9ead-c89da65c3329",
   "metadata": {},
   "outputs": [],
   "source": [
    "PPNO_project = set(project.ppno.unique().tolist())\n",
    "PPNO_allocation = set(allocation.ppno.unique().tolist())"
   ]
  },
  {
   "cell_type": "code",
   "execution_count": 7,
   "id": "727ef66c-7e92-4fd7-be09-070da08c6cfa",
   "metadata": {},
   "outputs": [
    {
     "data": {
      "text/plain": [
       "{'1155A', 'CP000', 'CP052'}"
      ]
     },
     "execution_count": 7,
     "metadata": {},
     "output_type": "execute_result"
    }
   ],
   "source": [
    "#Only 3 differing PPNO numbers\n",
    "PPNO_project - PPNO_allocation "
   ]
  },
  {
   "cell_type": "code",
   "execution_count": 8,
   "id": "4ba1249f-58b9-464f-8761-bd599605806c",
   "metadata": {},
   "outputs": [
    {
     "data": {
      "text/plain": [
       "'13 different PPNOS.'"
      ]
     },
     "execution_count": 8,
     "metadata": {},
     "output_type": "execute_result"
    }
   ],
   "source": [
    "differences = list(PPNO_allocation - PPNO_project)\n",
    "f'{len(differences)} different PPNOS.'"
   ]
  },
  {
   "cell_type": "code",
   "execution_count": 9,
   "id": "03d847f4-a49d-44e0-ada5-43d0e24b5e65",
   "metadata": {
    "scrolled": true,
    "tags": []
   },
   "outputs": [],
   "source": [
    "#Create a subset of allocation df with only the PPNOS that differ between the Allocation and Projects sheet\n",
    "different_dfs = allocation[allocation.ppno.isin(differences)]"
   ]
  },
  {
   "cell_type": "code",
   "execution_count": 10,
   "id": "1f95f6ce-49a8-4ccb-a39a-14c6783ec28c",
   "metadata": {},
   "outputs": [],
   "source": [
    "#Subset df for only rows of interest to find out which grant recipients & award years have different PPNOS\n",
    "allocation_sub =different_dfs[['award_year', 'ppno','grant_recipient']].drop_duplicates()"
   ]
  },
  {
   "cell_type": "code",
   "execution_count": 11,
   "id": "d0f828d3-d234-4faa-b61b-e8edbce1e262",
   "metadata": {
    "scrolled": true,
    "tags": []
   },
   "outputs": [
    {
     "data": {
      "text/html": [
       "<div>\n",
       "<style scoped>\n",
       "    .dataframe tbody tr th:only-of-type {\n",
       "        vertical-align: middle;\n",
       "    }\n",
       "\n",
       "    .dataframe tbody tr th {\n",
       "        vertical-align: top;\n",
       "    }\n",
       "\n",
       "    .dataframe thead th {\n",
       "        text-align: right;\n",
       "    }\n",
       "</style>\n",
       "<table border=\"1\" class=\"dataframe\">\n",
       "  <thead>\n",
       "    <tr style=\"text-align: right;\">\n",
       "      <th></th>\n",
       "      <th>award_year</th>\n",
       "      <th>ppno</th>\n",
       "      <th>grant_recipient</th>\n",
       "    </tr>\n",
       "  </thead>\n",
       "  <tbody>\n",
       "    <tr>\n",
       "      <th>15</th>\n",
       "      <td>2015.00</td>\n",
       "      <td>CP002</td>\n",
       "      <td>Southern California Regional Rail Authority (Metrolink)</td>\n",
       "    </tr>\n",
       "    <tr>\n",
       "      <th>17</th>\n",
       "      <td>2016.00</td>\n",
       "      <td>CP018</td>\n",
       "      <td>Antelope Valley Transit Authority</td>\n",
       "    </tr>\n",
       "    <tr>\n",
       "      <th>33</th>\n",
       "      <td>2016.00</td>\n",
       "      <td>CP024</td>\n",
       "      <td>Los Angeles-San Diego-San Luis Obispo Rail Corridor Agency (LOSSAN)</td>\n",
       "    </tr>\n",
       "    <tr>\n",
       "      <th>35</th>\n",
       "      <td>2016.00</td>\n",
       "      <td>CP021</td>\n",
       "      <td>Los Angeles-San Diego-San Luis Obispo Rail Corridor Agency (LOSSAN)</td>\n",
       "    </tr>\n",
       "    <tr>\n",
       "      <th>53</th>\n",
       "      <td>2016.00</td>\n",
       "      <td>CPO02</td>\n",
       "      <td>San Joaquin Regional Rail Commission</td>\n",
       "    </tr>\n",
       "    <tr>\n",
       "      <th>94</th>\n",
       "      <td>2018.00</td>\n",
       "      <td>CP301</td>\n",
       "      <td>Los Angeles-San Diego-San Luis Obispo Rail Corridor Agency (LOSSAN)</td>\n",
       "    </tr>\n",
       "    <tr>\n",
       "      <th>110</th>\n",
       "      <td>2018.00</td>\n",
       "      <td>CP042</td>\n",
       "      <td>Los Angeles-San Diego-San Luis Obispo Rail Corridor Agency (LOSSAN)</td>\n",
       "    </tr>\n",
       "    <tr>\n",
       "      <th>146</th>\n",
       "      <td>2018.00</td>\n",
       "      <td>CP053</td>\n",
       "      <td>Sacramento Regional Transit District</td>\n",
       "    </tr>\n",
       "    <tr>\n",
       "      <th>158</th>\n",
       "      <td>2018.00</td>\n",
       "      <td>CP032</td>\n",
       "      <td>San Diego Metropolitan Transit System (MTS)</td>\n",
       "    </tr>\n",
       "    <tr>\n",
       "      <th>299</th>\n",
       "      <td>2018.00</td>\n",
       "      <td>1155N</td>\n",
       "      <td>Transportation Agency for Monterey County</td>\n",
       "    </tr>\n",
       "    <tr>\n",
       "      <th>302</th>\n",
       "      <td>2020.00</td>\n",
       "      <td>CP059</td>\n",
       "      <td>Antelope Valley Transit Authority</td>\n",
       "    </tr>\n",
       "    <tr>\n",
       "      <th>304</th>\n",
       "      <td>2020.00</td>\n",
       "      <td>CP060</td>\n",
       "      <td>Bay Area Rapid Transit District</td>\n",
       "    </tr>\n",
       "    <tr>\n",
       "      <th>334</th>\n",
       "      <td>2020.00</td>\n",
       "      <td>CP071</td>\n",
       "      <td>Santa Monica Big Blue Bus</td>\n",
       "    </tr>\n",
       "  </tbody>\n",
       "</table>\n",
       "</div>"
      ],
      "text/plain": [
       "     award_year   ppno  \\\n",
       "15      2015.00  CP002   \n",
       "17      2016.00  CP018   \n",
       "33      2016.00  CP024   \n",
       "35      2016.00  CP021   \n",
       "53      2016.00  CPO02   \n",
       "94      2018.00  CP301   \n",
       "110     2018.00  CP042   \n",
       "146     2018.00  CP053   \n",
       "158     2018.00  CP032   \n",
       "299     2018.00  1155N   \n",
       "302     2020.00  CP059   \n",
       "304     2020.00  CP060   \n",
       "334     2020.00  CP071   \n",
       "\n",
       "                                                         grant_recipient  \n",
       "15               Southern California Regional Rail Authority (Metrolink)  \n",
       "17                                    Antelope Valley Transit Authority   \n",
       "33   Los Angeles-San Diego-San Luis Obispo Rail Corridor Agency (LOSSAN)  \n",
       "35   Los Angeles-San Diego-San Luis Obispo Rail Corridor Agency (LOSSAN)  \n",
       "53                                  San Joaquin Regional Rail Commission  \n",
       "94   Los Angeles-San Diego-San Luis Obispo Rail Corridor Agency (LOSSAN)  \n",
       "110  Los Angeles-San Diego-San Luis Obispo Rail Corridor Agency (LOSSAN)  \n",
       "146                                Sacramento Regional Transit District   \n",
       "158                          San Diego Metropolitan Transit System (MTS)  \n",
       "299                            Transportation Agency for Monterey County  \n",
       "302                                    Antelope Valley Transit Authority  \n",
       "304                                      Bay Area Rapid Transit District  \n",
       "334                                            Santa Monica Big Blue Bus  "
      ]
     },
     "execution_count": 11,
     "metadata": {},
     "output_type": "execute_result"
    }
   ],
   "source": [
    "allocation_sub"
   ]
  },
  {
   "cell_type": "code",
   "execution_count": 12,
   "id": "68a1a86b-03b0-44ea-9825-db6cf844cb49",
   "metadata": {
    "scrolled": true,
    "tags": []
   },
   "outputs": [],
   "source": [
    "#get a subset of project_sub \n",
    "#project[['award_year','ppno','grant_recipient']].drop_duplicates()"
   ]
  },
  {
   "cell_type": "markdown",
   "id": "d0162d58-57bf-4d60-8222-8ee602f49460",
   "metadata": {},
   "source": [
    "### Use projects dataframe's PPNO as a source of truth\n",
    "* Need to change Antelope Valley Transit Authority (AVTA) 2020's PPNO.  "
   ]
  },
  {
   "cell_type": "code",
   "execution_count": 13,
   "id": "367a1bc8-f827-4e6d-82f0-5558cba89560",
   "metadata": {},
   "outputs": [],
   "source": [
    "#Crosswalk for allocation df \n",
    "ppno_crosswalk_allocation = {'CP018': 'CP019','CP024':'CP043',\n",
    "                             'CP021':'CP043', 'CPO02':'CP025',\n",
    "                             'CP301': 'CP031', 'CP042':'CP031',\n",
    "                             'CP053': 'CP052','CP032': 'CP034',\n",
    "                             '1155N':'1155A',}\n",
    "allocation['ppno'].replace(ppno_crosswalk_allocation, inplace= True)                           "
   ]
  },
  {
   "cell_type": "code",
   "execution_count": 14,
   "id": "0e96d1b5-0761-40f7-8b49-5663b4798428",
   "metadata": {},
   "outputs": [],
   "source": [
    "#No need for a crosswalk for projects dataframe. For some reason some read in as NaN. \n",
    "project.loc[(project[\"grant_recipient\"] == \"San Bernardino County Transportation Authority (SBCTA)\"), \"ppno\"] = '1230'\n",
    "project.loc[(project[\"grant_recipient\"] == \"Bay Area Rapid Transit District (BART)\"), \"ppno\"] = 'CP060'\n",
    "project.loc[(project[\"grant_recipient\"] == \"Santa Monica Big Blue Bus\"), \"ppno\"] = 'CP071'"
   ]
  },
  {
   "cell_type": "markdown",
   "id": "67e986c8-5010-4726-8961-e2c1a0bfd157",
   "metadata": {},
   "source": [
    "### Double check the sets"
   ]
  },
  {
   "cell_type": "code",
   "execution_count": 15,
   "id": "c85f8c54-eccc-4a67-b4cd-d58a48625ded",
   "metadata": {},
   "outputs": [],
   "source": [
    "PPNO_project = set(project.ppno.unique().tolist())\n",
    "PPNO_allocation = set(allocation.ppno.unique().tolist())"
   ]
  },
  {
   "cell_type": "code",
   "execution_count": 16,
   "id": "b895fb4d-515c-4a0b-bd23-60100205140f",
   "metadata": {},
   "outputs": [
    {
     "data": {
      "text/plain": [
       "{'CP002', 'CP059'}"
      ]
     },
     "execution_count": 16,
     "metadata": {},
     "output_type": "execute_result"
    }
   ],
   "source": [
    "PPNO_allocation - PPNO_project"
   ]
  },
  {
   "cell_type": "markdown",
   "id": "6e186713-a496-4b3f-8fc8-8689a7ddea12",
   "metadata": {},
   "source": [
    "## Project"
   ]
  },
  {
   "cell_type": "code",
   "execution_count": 17,
   "id": "3dc99315-7816-428b-be10-2e33f673a590",
   "metadata": {
    "tags": []
   },
   "outputs": [
    {
     "name": "stdout",
     "output_type": "stream",
     "text": [
      "<class 'pandas.core.frame.DataFrame'>\n",
      "RangeIndex: 73 entries, 0 to 72\n",
      "Data columns (total 41 columns):\n",
      " #   Column                                                     Non-Null Count  Dtype  \n",
      "---  ------                                                     --------------  -----  \n",
      " 0   award_year                                                 73 non-null     int64  \n",
      " 1   project_#                                                  73 non-null     int64  \n",
      " 2   grant_recipient                                            73 non-null     object \n",
      " 3   project_title                                              73 non-null     object \n",
      " 4   ppno                                                       72 non-null     object \n",
      " 5   district                                                   70 non-null     object \n",
      " 6   county                                                     72 non-null     object \n",
      " 7   project_description                                        73 non-null     object \n",
      " 8   master_agreement_number                                    71 non-null     object \n",
      " 9   master_agreement_expiration_date                           71 non-null     object \n",
      " 10  project_manager                                            73 non-null     object \n",
      " 11  regional_coordinator                                       73 non-null     object \n",
      " 12  technical_assistance_calitp__y_n_                          64 non-null     object \n",
      " 13  technical_assistance_fleet__y_n_                           62 non-null     object \n",
      " 14  technical_assistance_network_integration__y_n_             63 non-null     object \n",
      " 15  technical_assistance_priority_population__y_n_             63 non-null     object \n",
      " 16  total_project_cost                                         73 non-null     int64  \n",
      " 17  tircp_award_amount__$_                                     73 non-null     int64  \n",
      " 18  allocated_amount                                           73 non-null     int64  \n",
      " 19  unallocated_amount                                         73 non-null     int64  \n",
      " 20  percentage_allocated                                       73 non-null     float64\n",
      " 21  expended_amount                                            71 non-null     float64\n",
      " 22  other_funds_involved                                       38 non-null     object \n",
      " 23  award_cycle                                                73 non-null     object \n",
      " 24  estimated_tircp_ghg_reductions                             70 non-null     object \n",
      " 25  cost_per_ghg_ton_reduced                                   57 non-null     object \n",
      " 26  increased_ridership                                        58 non-null     object \n",
      " 27  service_integration                                        58 non-null     object \n",
      " 28  improve_safety                                             58 non-null     object \n",
      " 29  project_readiness                                          58 non-null     object \n",
      " 30  funding_leverage                                           58 non-null     object \n",
      " 31  multi_agency_coordination_integration                      58 non-null     object \n",
      " 32  priority_population_benefits___ab_1550_community_benefits  55 non-null     object \n",
      " 33  housing_co_benefits                                        17 non-null     object \n",
      " 34  local_agency_address                                       72 non-null     object \n",
      " 35  local_agency_city                                          72 non-null     object \n",
      " 36  local_agency_zip                                           72 non-null     object \n",
      " 37  local_agency_contact                                       72 non-null     object \n",
      " 38  local_agency_email                                         72 non-null     object \n",
      " 39  local_agency_phone_number                                  68 non-null     object \n",
      " 40  comments_additional_contacts                               32 non-null     object \n",
      "dtypes: float64(2), int64(6), object(33)\n",
      "memory usage: 23.5+ KB\n"
     ]
    }
   ],
   "source": [
    "project.info()"
   ]
  },
  {
   "cell_type": "code",
   "execution_count": 18,
   "id": "ea384b7d-e86d-4405-ac60-70c336ddee84",
   "metadata": {
    "scrolled": true,
    "tags": []
   },
   "outputs": [
    {
     "data": {
      "text/html": [
       "<div>\n",
       "<style scoped>\n",
       "    .dataframe tbody tr th:only-of-type {\n",
       "        vertical-align: middle;\n",
       "    }\n",
       "\n",
       "    .dataframe tbody tr th {\n",
       "        vertical-align: top;\n",
       "    }\n",
       "\n",
       "    .dataframe thead th {\n",
       "        text-align: right;\n",
       "    }\n",
       "</style>\n",
       "<table border=\"1\" class=\"dataframe\">\n",
       "  <thead>\n",
       "    <tr style=\"text-align: right;\">\n",
       "      <th></th>\n",
       "      <th>award_year</th>\n",
       "      <th>ppno</th>\n",
       "      <th>grant_recipient</th>\n",
       "      <th>district</th>\n",
       "      <th>county</th>\n",
       "      <th>tircp_award_amount__$_</th>\n",
       "      <th>allocated_amount</th>\n",
       "      <th>unallocated_amount</th>\n",
       "      <th>percentage_allocated</th>\n",
       "      <th>expended_amount</th>\n",
       "      <th>other_funds_involved</th>\n",
       "      <th>award_cycle</th>\n",
       "      <th>estimated_tircp_ghg_reductions</th>\n",
       "      <th>cost_per_ghg_ton_reduced</th>\n",
       "      <th>increased_ridership</th>\n",
       "      <th>service_integration</th>\n",
       "      <th>improve_safety</th>\n",
       "      <th>project_readiness</th>\n",
       "      <th>funding_leverage</th>\n",
       "      <th>multi_agency_coordination_integration</th>\n",
       "      <th>priority_population_benefits___ab_1550_community_benefits</th>\n",
       "      <th>housing_co_benefits</th>\n",
       "    </tr>\n",
       "  </thead>\n",
       "  <tbody>\n",
       "    <tr>\n",
       "      <th>0</th>\n",
       "      <td>2015</td>\n",
       "      <td>CP005</td>\n",
       "      <td>Antelope Valley Transit Authority (AVTA)</td>\n",
       "      <td>7</td>\n",
       "      <td>LA</td>\n",
       "      <td>24403000</td>\n",
       "      <td>24403000</td>\n",
       "      <td>0</td>\n",
       "      <td>1.00</td>\n",
       "      <td>21714177.53</td>\n",
       "      <td>NaN</td>\n",
       "      <td>1</td>\n",
       "      <td>195,380 tons</td>\n",
       "      <td>NaN</td>\n",
       "      <td>NaN</td>\n",
       "      <td>NaN</td>\n",
       "      <td>NaN</td>\n",
       "      <td>NaN</td>\n",
       "      <td>NaN</td>\n",
       "      <td>NaN</td>\n",
       "      <td>NaN</td>\n",
       "      <td>NaN</td>\n",
       "    </tr>\n",
       "    <tr>\n",
       "      <th>1</th>\n",
       "      <td>2015</td>\n",
       "      <td>CP012</td>\n",
       "      <td>Capitol Corridor Joint Powers Authority</td>\n",
       "      <td>4</td>\n",
       "      <td>VAR</td>\n",
       "      <td>4620000</td>\n",
       "      <td>4620000</td>\n",
       "      <td>0</td>\n",
       "      <td>1.00</td>\n",
       "      <td>4619999.90</td>\n",
       "      <td>NaN</td>\n",
       "      <td>1</td>\n",
       "      <td>356,667 tons</td>\n",
       "      <td>NaN</td>\n",
       "      <td>NaN</td>\n",
       "      <td>NaN</td>\n",
       "      <td>NaN</td>\n",
       "      <td>NaN</td>\n",
       "      <td>NaN</td>\n",
       "      <td>NaN</td>\n",
       "      <td>NaN</td>\n",
       "      <td>NaN</td>\n",
       "    </tr>\n",
       "  </tbody>\n",
       "</table>\n",
       "</div>"
      ],
      "text/plain": [
       "   award_year   ppno                           grant_recipient district  \\\n",
       "0        2015  CP005  Antelope Valley Transit Authority (AVTA)        7   \n",
       "1        2015  CP012   Capitol Corridor Joint Powers Authority        4   \n",
       "\n",
       "  county  tircp_award_amount__$_  allocated_amount  unallocated_amount  \\\n",
       "0     LA                24403000          24403000                   0   \n",
       "1    VAR                 4620000           4620000                   0   \n",
       "\n",
       "   percentage_allocated  expended_amount other_funds_involved award_cycle  \\\n",
       "0                  1.00      21714177.53                  NaN           1   \n",
       "1                  1.00       4619999.90                  NaN           1   \n",
       "\n",
       "  estimated_tircp_ghg_reductions cost_per_ghg_ton_reduced increased_ridership  \\\n",
       "0                   195,380 tons                      NaN                 NaN   \n",
       "1                   356,667 tons                      NaN                 NaN   \n",
       "\n",
       "  service_integration improve_safety project_readiness funding_leverage  \\\n",
       "0                 NaN            NaN               NaN              NaN   \n",
       "1                 NaN            NaN               NaN              NaN   \n",
       "\n",
       "  multi_agency_coordination_integration  \\\n",
       "0                                   NaN   \n",
       "1                                   NaN   \n",
       "\n",
       "  priority_population_benefits___ab_1550_community_benefits  \\\n",
       "0                                                       NaN   \n",
       "1                                                       NaN   \n",
       "\n",
       "  housing_co_benefits  \n",
       "0                 NaN  \n",
       "1                 NaN  "
      ]
     },
     "execution_count": 18,
     "metadata": {},
     "output_type": "execute_result"
    }
   ],
   "source": [
    "project[['award_year','ppno','grant_recipient','district', 'county',\n",
    "         'tircp_award_amount__$_', 'allocated_amount', 'unallocated_amount',\n",
    "       'percentage_allocated', 'expended_amount', 'other_funds_involved',\n",
    "       'award_cycle', 'estimated_tircp_ghg_reductions',\n",
    "       'cost_per_ghg_ton_reduced', 'increased_ridership',\n",
    "       'service_integration', 'improve_safety', 'project_readiness',\n",
    "       'funding_leverage', 'multi_agency_coordination_integration',\n",
    "       'priority_population_benefits___ab_1550_community_benefits',\n",
    "       'housing_co_benefits']].head(2)\n"
   ]
  },
  {
   "cell_type": "code",
   "execution_count": 19,
   "id": "8af73bb3-75b5-48d1-9bc2-528de797b78f",
   "metadata": {},
   "outputs": [],
   "source": [
    "#Fill in nulls based on data type\n",
    "project.fillna(project.dtypes.replace({'float64': 0.0, 'object': 'None', 'int64':0}), inplace=True)\n",
    "\n",
    "#Fill in FY \n",
    "project[\"award_cycle\"].replace({'FY 21/22': 4}, inplace=True)"
   ]
  },
  {
   "cell_type": "code",
   "execution_count": 20,
   "id": "c8dd16b6-bc2b-4f64-89f4-2b452e7e119b",
   "metadata": {},
   "outputs": [
    {
     "data": {
      "text/plain": [
       "2018    28\n",
       "2020    17\n",
       "2015    14\n",
       "2016    14\n",
       "Name: award_year, dtype: int64"
      ]
     },
     "execution_count": 20,
     "metadata": {},
     "output_type": "execute_result"
    }
   ],
   "source": [
    "project['award_year'].value_counts()"
   ]
  },
  {
   "cell_type": "code",
   "execution_count": 21,
   "id": "6e5896e4-4612-418c-a249-4d864da28cdf",
   "metadata": {},
   "outputs": [
    {
     "data": {
      "text/plain": [
       "3    28\n",
       "4    17\n",
       "1    14\n",
       "2    14\n",
       "Name: award_cycle, dtype: int64"
      ]
     },
     "execution_count": 21,
     "metadata": {},
     "output_type": "execute_result"
    }
   ],
   "source": [
    "project['award_cycle'].value_counts()"
   ]
  },
  {
   "cell_type": "code",
   "execution_count": 22,
   "id": "198d7350-32ca-4827-8227-037912c16b2e",
   "metadata": {},
   "outputs": [
    {
     "data": {
      "text/plain": [
       "1.00    39\n",
       "0.00    11\n",
       "0.93     1\n",
       "0.91     1\n",
       "0.06     1\n",
       "0.02     1\n",
       "0.21     1\n",
       "0.18     1\n",
       "0.05     1\n",
       "0.49     1\n",
       "0.86     1\n",
       "0.12     1\n",
       "0.19     1\n",
       "1.76     1\n",
       "0.38     1\n",
       "2.00     1\n",
       "0.84     1\n",
       "0.41     1\n",
       "0.99     1\n",
       "0.24     1\n",
       "0.68     1\n",
       "1.84     1\n",
       "1.09     1\n",
       "0.90     1\n",
       "0.24     1\n",
       "Name: percentage_allocated, dtype: int64"
      ]
     },
     "execution_count": 22,
     "metadata": {},
     "output_type": "execute_result"
    }
   ],
   "source": [
    "project['percentage_allocated'].value_counts()"
   ]
  },
  {
   "cell_type": "code",
   "execution_count": 23,
   "id": "247b2363-bd4c-4ae5-8aa1-72f159054936",
   "metadata": {},
   "outputs": [
    {
     "name": "stderr",
     "output_type": "stream",
     "text": [
      "/opt/conda/lib/python3.10/site-packages/openpyxl/worksheet/_reader.py:312: UserWarning: Data Validation extension is not supported and will be removed\n"
     ]
    }
   ],
   "source": [
    "test_projects = data_prep.clean_project()"
   ]
  },
  {
   "cell_type": "markdown",
   "id": "bb64f26f-cea3-48df-919d-99041721a546",
   "metadata": {},
   "source": [
    "## Allocation Agreement "
   ]
  },
  {
   "cell_type": "code",
   "execution_count": 24,
   "id": "c994b648-2ceb-46ac-a770-e0c4f345085d",
   "metadata": {
    "tags": []
   },
   "outputs": [
    {
     "data": {
      "text/plain": [
       "338"
      ]
     },
     "execution_count": 24,
     "metadata": {},
     "output_type": "execute_result"
    }
   ],
   "source": [
    "#Some rows are not completed: drop them\n",
    "allocation = allocation.dropna(subset=['award_year', 'grant_recipient', 'ppno'])\n",
    "len(allocation)"
   ]
  },
  {
   "cell_type": "code",
   "execution_count": 25,
   "id": "838d9c9c-37c0-4967-bffb-a2d5c159c7a8",
   "metadata": {
    "scrolled": true,
    "tags": []
   },
   "outputs": [],
   "source": [
    "#Replacing values  \n",
    "allocation_3rd_party_date = {'07/29/2020': '2020-07-29 00:00:00'}\n",
    "allocation_led = {'2/1/2021\\n\\n10/31/2022': '2021-02-01 00:00:00',\n",
    "                 'June 30, 2019\\nSeptember 30, 2019': '2019 06-30 00:00:00',\n",
    "                 'October 15, 2018\\nSeptember 30, 2021': '2018-10-15 00:00:00'}\n",
    "allocation_completion_date = {'6/30/2021\\n12/31/2021\\n10/20/2022':'2021-06-30 00:00:00',\n",
    "                              'Complete\\n8/30/2020':'2020-08-30 00:00:00',\n",
    "                              'Complete\\n1/31/2020':'2021-01-31 00:00:00'}\n",
    "\n"
   ]
  },
  {
   "cell_type": "code",
   "execution_count": 26,
   "id": "2a8570a4-8862-40af-9f90-3352705db1a0",
   "metadata": {
    "scrolled": true,
    "tags": []
   },
   "outputs": [],
   "source": [
    "#allocation['_3rd_party_award_date'].value_counts()"
   ]
  },
  {
   "cell_type": "code",
   "execution_count": 27,
   "id": "c762d290-4cf5-472d-b8ba-ee7622cc447f",
   "metadata": {
    "scrolled": true,
    "tags": []
   },
   "outputs": [],
   "source": [
    "#allocation['led'].value_counts()"
   ]
  },
  {
   "cell_type": "code",
   "execution_count": 28,
   "id": "282925d6-5681-4c5e-8cac-d086df001ee6",
   "metadata": {
    "scrolled": true,
    "tags": []
   },
   "outputs": [],
   "source": [
    "#allocation['allocation_date'].value_counts()"
   ]
  },
  {
   "cell_type": "code",
   "execution_count": 29,
   "id": "ef6ed43b-cfa7-4964-b37b-44c3fde351a7",
   "metadata": {
    "scrolled": true,
    "tags": []
   },
   "outputs": [],
   "source": [
    "#allocation['completion_date'].value_counts()"
   ]
  },
  {
   "cell_type": "code",
   "execution_count": 30,
   "id": "0b748b53-1c7b-4c36-b2a4-4aac3065569b",
   "metadata": {
    "scrolled": true,
    "tags": []
   },
   "outputs": [],
   "source": [
    "#allocation['date_branch_chief_receives_psa'].value_counts()"
   ]
  },
  {
   "cell_type": "code",
   "execution_count": 31,
   "id": "edbfbe65-e04e-4074-bffd-4d42d715bd52",
   "metadata": {
    "scrolled": true,
    "tags": []
   },
   "outputs": [],
   "source": [
    "#allocation['expended_amount'].value_counts()"
   ]
  },
  {
   "cell_type": "code",
   "execution_count": 32,
   "id": "963b362b-21d4-479a-bf43-50da1a0745e6",
   "metadata": {},
   "outputs": [],
   "source": [
    "allocation[\"expended_amount\"] = (allocation[\"expended_amount\"]\n",
    "                             .replace({'Deallocation': 0})\n",
    "                             .astype('int64')\n",
    "                            )"
   ]
  },
  {
   "cell_type": "code",
   "execution_count": 33,
   "id": "7f935fdb-a379-491a-a21c-dc1da3c03e56",
   "metadata": {},
   "outputs": [],
   "source": [
    "#Coerce dates to datetime\n",
    "date_columns = ['allocation_date', 'completion_date','_3rd_party_award_date', 'led', 'date_branch_chief_receives_psa',\n",
    "       'date_regional_coordinator_receives_psa', 'date_oc_receives_psa',\n",
    "       'date_opm_receives_psa', 'date_legal_receives_psa',\n",
    "       'date_returned_to_pm',\n",
    "       'date_psa_approved_by_local_agency', 'date_signed_by_drmt',\n",
    "       'psa_expiry_date']"
   ]
  },
  {
   "cell_type": "code",
   "execution_count": 34,
   "id": "1722946f-e9b1-48b2-8a35-c229bff65b35",
   "metadata": {},
   "outputs": [],
   "source": [
    "#Fill in NA based on data type\n",
    "allocation.fillna(allocation.dtypes.replace({'float64': 0.0, 'object': 'None'}), inplace=True)"
   ]
  },
  {
   "cell_type": "code",
   "execution_count": 35,
   "id": "eccc833b-6aee-4746-915c-5dc32aca25a5",
   "metadata": {},
   "outputs": [],
   "source": [
    "#Coerce date columns\n",
    "#https://sparkbyexamples.com/pandas/pandas-convert-multiple-columns-to-datetime-type/\n",
    "for c in date_columns:\n",
    "        allocation[c] = allocation[c].apply(pd.to_datetime, errors='coerce')"
   ]
  },
  {
   "cell_type": "code",
   "execution_count": 36,
   "id": "704f943b-7d17-49df-bf38-85186dd628ef",
   "metadata": {
    "scrolled": true,
    "tags": []
   },
   "outputs": [
    {
     "name": "stdout",
     "output_type": "stream",
     "text": [
      "<class 'pandas.core.frame.DataFrame'>\n",
      "Int64Index: 338 entries, 0 to 345\n",
      "Data columns (total 50 columns):\n",
      " #   Column                                                       Non-Null Count  Dtype         \n",
      "---  ------                                                       --------------  -----         \n",
      " 0   award_year                                                   338 non-null    float64       \n",
      " 1   project_#                                                    338 non-null    float64       \n",
      " 2   grant_recipient                                              338 non-null    object        \n",
      " 3   implementing_agency                                          338 non-null    object        \n",
      " 4   ppno                                                         338 non-null    object        \n",
      " 5   project_id                                                   338 non-null    object        \n",
      " 6   ea                                                           338 non-null    object        \n",
      " 7   components                                                   338 non-null    object        \n",
      " 8   phase                                                        338 non-null    object        \n",
      " 9   allocation_amount                                            338 non-null    float64       \n",
      " 10  expended_amount                                              338 non-null    int64         \n",
      " 11  sb1_funding                                                  338 non-null    float64       \n",
      " 12  sb1_budget_year                                              338 non-null    object        \n",
      " 13  ggrf_funding                                                 338 non-null    float64       \n",
      " 14  ggrf_budget_year                                             338 non-null    object        \n",
      " 15  ctc_financial_resolution                                     338 non-null    object        \n",
      " 16  ctc_allocation_amendment                                     338 non-null    object        \n",
      " 17  ctc_waiver                                                   338 non-null    object        \n",
      " 18  calsta_waiver                                                338 non-null    object        \n",
      " 19  allocation_date                                              255 non-null    datetime64[ns]\n",
      " 20  completion_date                                              182 non-null    datetime64[ns]\n",
      " 21  psa_#                                                        338 non-null    object        \n",
      " 22  ct_document_#                                                338 non-null    object        \n",
      " 23  _3rd_party_award_date                                        123 non-null    datetime64[ns]\n",
      " 24  led                                                          180 non-null    datetime64[ns]\n",
      " 25  date_branch_chief_receives_psa                               6 non-null      datetime64[ns]\n",
      " 26  date_regional_coordinator_receives_psa                       1 non-null      datetime64[ns]\n",
      " 27  date_oc_receives_psa                                         28 non-null     datetime64[ns]\n",
      " 28  date_opm_receives_psa                                        79 non-null     datetime64[ns]\n",
      " 29  date_legal_receives_psa                                      80 non-null     datetime64[ns]\n",
      " 30  date_returned_to_pm                                          77 non-null     datetime64[ns]\n",
      " 31  date_psa_sent_to_local_agency                                338 non-null    float64       \n",
      " 32  date_psa_approved_by_local_agency                            36 non-null     datetime64[ns]\n",
      " 33  date_signed_by_drmt                                          189 non-null    datetime64[ns]\n",
      " 34  psa_expiry_date                                              21 non-null     datetime64[ns]\n",
      " 35  lonp                                                         338 non-null    object        \n",
      " 36  prior_fiscal_years_to_2020                                   338 non-null    float64       \n",
      " 37  fiscal_year_2020_2021                                        338 non-null    float64       \n",
      " 38  fiscal_year_2021_2022                                        338 non-null    float64       \n",
      " 39  fiscal_year_2022_2023                                        338 non-null    float64       \n",
      " 40  fiscal_year_2023_2024                                        338 non-null    float64       \n",
      " 41  fiscal_year_2024_2025                                        338 non-null    float64       \n",
      " 42  fiscal_year_2025_2026                                        338 non-null    float64       \n",
      " 43  fiscal_year_2026_2027                                        338 non-null    float64       \n",
      " 44  fiscal_year_2027_2028                                        338 non-null    float64       \n",
      " 45  fiscal_year_2028_2029                                        338 non-null    float64       \n",
      " 46  fiscal_year_2029_2030                                        338 non-null    float64       \n",
      " 47  allocation_comments                                          338 non-null    object        \n",
      " 48  non_network_integration_allocations_unique_percentage_split  338 non-null    object        \n",
      " 49  psa_comments                                                 338 non-null    object        \n",
      "dtypes: datetime64[ns](13), float64(17), int64(1), object(19)\n",
      "memory usage: 134.7+ KB\n"
     ]
    }
   ],
   "source": [
    "allocation.info()"
   ]
  },
  {
   "cell_type": "code",
   "execution_count": 37,
   "id": "e5702e12-2ca3-4f13-be76-cdf815c08a3c",
   "metadata": {},
   "outputs": [],
   "source": [
    "test_allocation = data_prep.load_allocation()"
   ]
  },
  {
   "cell_type": "code",
   "execution_count": 39,
   "id": "7ee36386-6eb7-4670-8ec9-be7614bc2eda",
   "metadata": {},
   "outputs": [
    {
     "data": {
      "text/html": [
       "<div>\n",
       "<style scoped>\n",
       "    .dataframe tbody tr th:only-of-type {\n",
       "        vertical-align: middle;\n",
       "    }\n",
       "\n",
       "    .dataframe tbody tr th {\n",
       "        vertical-align: top;\n",
       "    }\n",
       "\n",
       "    .dataframe thead th {\n",
       "        text-align: right;\n",
       "    }\n",
       "</style>\n",
       "<table border=\"1\" class=\"dataframe\">\n",
       "  <thead>\n",
       "    <tr style=\"text-align: right;\">\n",
       "      <th></th>\n",
       "      <th>award_year</th>\n",
       "      <th>project_#</th>\n",
       "      <th>grant_recipient</th>\n",
       "      <th>implementing_agency</th>\n",
       "      <th>ppno</th>\n",
       "      <th>project_id</th>\n",
       "      <th>ea</th>\n",
       "      <th>components</th>\n",
       "      <th>phase</th>\n",
       "      <th>allocation_amount</th>\n",
       "      <th>expended_amount</th>\n",
       "      <th>sb1_funding</th>\n",
       "      <th>sb1_budget_year</th>\n",
       "      <th>ggrf_funding</th>\n",
       "      <th>ggrf_budget_year</th>\n",
       "      <th>ctc_financial_resolution</th>\n",
       "      <th>ctc_allocation_amendment</th>\n",
       "      <th>ctc_waiver</th>\n",
       "      <th>calsta_waiver</th>\n",
       "      <th>allocation_date</th>\n",
       "      <th>completion_date</th>\n",
       "      <th>psa_#</th>\n",
       "      <th>ct_document_#</th>\n",
       "      <th>_3rd_party_award_date</th>\n",
       "      <th>led</th>\n",
       "      <th>date_branch_chief_receives_psa</th>\n",
       "      <th>date_regional_coordinator_receives_psa</th>\n",
       "      <th>date_oc_receives_psa</th>\n",
       "      <th>date_opm_receives_psa</th>\n",
       "      <th>date_legal_receives_psa</th>\n",
       "      <th>date_returned_to_pm</th>\n",
       "      <th>date_psa_sent_to_local_agency</th>\n",
       "      <th>date_psa_approved_by_local_agency</th>\n",
       "      <th>date_signed_by_drmt</th>\n",
       "      <th>psa_expiry_date</th>\n",
       "      <th>lonp</th>\n",
       "      <th>prior_fiscal_years_to_2020</th>\n",
       "      <th>fiscal_year_2020_2021</th>\n",
       "      <th>fiscal_year_2021_2022</th>\n",
       "      <th>fiscal_year_2022_2023</th>\n",
       "      <th>fiscal_year_2023_2024</th>\n",
       "      <th>fiscal_year_2024_2025</th>\n",
       "      <th>fiscal_year_2025_2026</th>\n",
       "      <th>fiscal_year_2026_2027</th>\n",
       "      <th>fiscal_year_2027_2028</th>\n",
       "      <th>fiscal_year_2028_2029</th>\n",
       "      <th>fiscal_year_2029_2030</th>\n",
       "      <th>allocation_comments</th>\n",
       "      <th>non_network_integration_allocations_unique_percentage_split</th>\n",
       "      <th>psa_comments</th>\n",
       "    </tr>\n",
       "  </thead>\n",
       "  <tbody>\n",
       "    <tr>\n",
       "      <th>0</th>\n",
       "      <td>2015.00</td>\n",
       "      <td>1.00</td>\n",
       "      <td>Antelope Valley Transit Authority</td>\n",
       "      <td>Antelope Valley Transit Authority</td>\n",
       "      <td>CP005</td>\n",
       "      <td>16000048</td>\n",
       "      <td>T343GA</td>\n",
       "      <td>Purchase 13 60-foot articulated BRT buses and 16 45-foot electric commuter buses</td>\n",
       "      <td>CONST</td>\n",
       "      <td>24403000.00</td>\n",
       "      <td>21714177.53</td>\n",
       "      <td>0.00</td>\n",
       "      <td>NaN</td>\n",
       "      <td>24403000.00</td>\n",
       "      <td>2015-16</td>\n",
       "      <td>TIRCP-1516-02</td>\n",
       "      <td>NaN</td>\n",
       "      <td>NaN</td>\n",
       "      <td>Waiver-1920-17</td>\n",
       "      <td>2015-10-22</td>\n",
       "      <td>2022-03-30 00:00:00</td>\n",
       "      <td>07AVTA2015PS-01 A1 \\n\\n07AVTA2015PS-05</td>\n",
       "      <td>07AVTA2015PS\\n*Listed under Unit 3040</td>\n",
       "      <td>2016-03-14 00:00:00</td>\n",
       "      <td>2022-03-31 00:00:00</td>\n",
       "      <td>NaT</td>\n",
       "      <td>NaT</td>\n",
       "      <td>NaN</td>\n",
       "      <td>NaN</td>\n",
       "      <td>NaN</td>\n",
       "      <td>NaN</td>\n",
       "      <td>NaN</td>\n",
       "      <td>NaT</td>\n",
       "      <td>2021-02-02</td>\n",
       "      <td>NaT</td>\n",
       "      <td>NaN</td>\n",
       "      <td>24403000.00</td>\n",
       "      <td>NaN</td>\n",
       "      <td>NaN</td>\n",
       "      <td>NaN</td>\n",
       "      <td>NaN</td>\n",
       "      <td>NaN</td>\n",
       "      <td>NaN</td>\n",
       "      <td>NaN</td>\n",
       "      <td>NaN</td>\n",
       "      <td>NaN</td>\n",
       "      <td>NaN</td>\n",
       "      <td>Program Supplement be Amended to show a correction in the invoicing section and to include language that confirms funding for \" supporting infrastructure\" includes WAVE.</td>\n",
       "      <td>NaN</td>\n",
       "      <td>NaN</td>\n",
       "    </tr>\n",
       "    <tr>\n",
       "      <th>1</th>\n",
       "      <td>2015.00</td>\n",
       "      <td>2.00</td>\n",
       "      <td>Capitol Corridor Joint Powers Authority</td>\n",
       "      <td>Capitol Corridor Joint Powers Authority</td>\n",
       "      <td>CP012</td>\n",
       "      <td>16000276</td>\n",
       "      <td>R350GA</td>\n",
       "      <td>Track and curve improvements between San Jose and Martinez for faster journeys benefiting Capitol Corridor passengers</td>\n",
       "      <td>CONST</td>\n",
       "      <td>4620000.00</td>\n",
       "      <td>4619999.90</td>\n",
       "      <td>4620000.00</td>\n",
       "      <td>2015-16</td>\n",
       "      <td>0.00</td>\n",
       "      <td>2012-13</td>\n",
       "      <td>TIRCP-1516-07\\nTech. Correction June 2017</td>\n",
       "      <td>TIRCP-1920-17A\\n6/25/2020</td>\n",
       "      <td>NaN</td>\n",
       "      <td>NaN</td>\n",
       "      <td>2016-05-19</td>\n",
       "      <td>Complete\\n6/1/2019</td>\n",
       "      <td>VARCCJPAPS-01\\n</td>\n",
       "      <td>VARCCJPAPS-01</td>\n",
       "      <td>2016-06-01 00:00:00</td>\n",
       "      <td>2019-06-01 00:00:00</td>\n",
       "      <td>NaT</td>\n",
       "      <td>NaT</td>\n",
       "      <td>NaN</td>\n",
       "      <td>NaN</td>\n",
       "      <td>NaN</td>\n",
       "      <td>NaN</td>\n",
       "      <td>NaN</td>\n",
       "      <td>NaT</td>\n",
       "      <td>2016-12-13</td>\n",
       "      <td>2019-06-01</td>\n",
       "      <td>NaN</td>\n",
       "      <td>4620000.00</td>\n",
       "      <td>NaN</td>\n",
       "      <td>NaN</td>\n",
       "      <td>NaN</td>\n",
       "      <td>NaN</td>\n",
       "      <td>NaN</td>\n",
       "      <td>NaN</td>\n",
       "      <td>NaN</td>\n",
       "      <td>NaN</td>\n",
       "      <td>NaN</td>\n",
       "      <td>NaN</td>\n",
       "      <td>NaN</td>\n",
       "      <td>NaN</td>\n",
       "      <td>NaN</td>\n",
       "    </tr>\n",
       "  </tbody>\n",
       "</table>\n",
       "</div>"
      ],
      "text/plain": [
       "   award_year  project_#                          grant_recipient  \\\n",
       "0     2015.00       1.00       Antelope Valley Transit Authority    \n",
       "1     2015.00       2.00  Capitol Corridor Joint Powers Authority   \n",
       "\n",
       "                       implementing_agency   ppno project_id      ea  \\\n",
       "0        Antelope Valley Transit Authority  CP005   16000048  T343GA   \n",
       "1  Capitol Corridor Joint Powers Authority  CP012   16000276  R350GA   \n",
       "\n",
       "                                                                                                              components  \\\n",
       "0                                       Purchase 13 60-foot articulated BRT buses and 16 45-foot electric commuter buses   \n",
       "1  Track and curve improvements between San Jose and Martinez for faster journeys benefiting Capitol Corridor passengers   \n",
       "\n",
       "   phase  allocation_amount expended_amount  sb1_funding sb1_budget_year  \\\n",
       "0  CONST        24403000.00     21714177.53         0.00             NaN   \n",
       "1  CONST         4620000.00      4619999.90   4620000.00         2015-16   \n",
       "\n",
       "   ggrf_funding ggrf_budget_year                   ctc_financial_resolution  \\\n",
       "0   24403000.00          2015-16                              TIRCP-1516-02   \n",
       "1          0.00          2012-13  TIRCP-1516-07\\nTech. Correction June 2017   \n",
       "\n",
       "    ctc_allocation_amendment ctc_waiver   calsta_waiver allocation_date  \\\n",
       "0                        NaN        NaN  Waiver-1920-17      2015-10-22   \n",
       "1  TIRCP-1920-17A\\n6/25/2020        NaN             NaN      2016-05-19   \n",
       "\n",
       "       completion_date                                    psa_#  \\\n",
       "0  2022-03-30 00:00:00  07AVTA2015PS-01 A1 \\n\\n07AVTA2015PS-05    \n",
       "1   Complete\\n6/1/2019                          VARCCJPAPS-01\\n   \n",
       "\n",
       "                           ct_document_# _3rd_party_award_date  \\\n",
       "0  07AVTA2015PS\\n*Listed under Unit 3040   2016-03-14 00:00:00   \n",
       "1                          VARCCJPAPS-01   2016-06-01 00:00:00   \n",
       "\n",
       "                   led date_branch_chief_receives_psa  \\\n",
       "0  2022-03-31 00:00:00                            NaT   \n",
       "1  2019-06-01 00:00:00                            NaT   \n",
       "\n",
       "  date_regional_coordinator_receives_psa date_oc_receives_psa  \\\n",
       "0                                    NaT                  NaN   \n",
       "1                                    NaT                  NaN   \n",
       "\n",
       "  date_opm_receives_psa date_legal_receives_psa date_returned_to_pm  \\\n",
       "0                   NaN                     NaN                 NaN   \n",
       "1                   NaN                     NaN                 NaN   \n",
       "\n",
       "   date_psa_sent_to_local_agency date_psa_approved_by_local_agency  \\\n",
       "0                            NaN                               NaT   \n",
       "1                            NaN                               NaT   \n",
       "\n",
       "  date_signed_by_drmt psa_expiry_date lonp  prior_fiscal_years_to_2020  \\\n",
       "0          2021-02-02             NaT  NaN                 24403000.00   \n",
       "1          2016-12-13      2019-06-01  NaN                  4620000.00   \n",
       "\n",
       "   fiscal_year_2020_2021  fiscal_year_2021_2022  fiscal_year_2022_2023  \\\n",
       "0                    NaN                    NaN                    NaN   \n",
       "1                    NaN                    NaN                    NaN   \n",
       "\n",
       "   fiscal_year_2023_2024  fiscal_year_2024_2025  fiscal_year_2025_2026  \\\n",
       "0                    NaN                    NaN                    NaN   \n",
       "1                    NaN                    NaN                    NaN   \n",
       "\n",
       "   fiscal_year_2026_2027  fiscal_year_2027_2028  fiscal_year_2028_2029  \\\n",
       "0                    NaN                    NaN                    NaN   \n",
       "1                    NaN                    NaN                    NaN   \n",
       "\n",
       "   fiscal_year_2029_2030  \\\n",
       "0                    NaN   \n",
       "1                    NaN   \n",
       "\n",
       "                                                                                                                                                         allocation_comments  \\\n",
       "0  Program Supplement be Amended to show a correction in the invoicing section and to include language that confirms funding for \" supporting infrastructure\" includes WAVE.   \n",
       "1                                                                                                                                                                        NaN   \n",
       "\n",
       "  non_network_integration_allocations_unique_percentage_split psa_comments  \n",
       "0                                                         NaN          NaN  \n",
       "1                                                         NaN          NaN  "
      ]
     },
     "execution_count": 39,
     "metadata": {},
     "output_type": "execute_result"
    }
   ],
   "source": [
    "test_allocation.head(2)"
   ]
  }
 ],
 "metadata": {
  "kernelspec": {
   "display_name": "Python 3 (ipykernel)",
   "language": "python",
   "name": "python3"
  },
  "language_info": {
   "codemirror_mode": {
    "name": "ipython",
    "version": 3
   },
   "file_extension": ".py",
   "mimetype": "text/x-python",
   "name": "python",
   "nbconvert_exporter": "python",
   "pygments_lexer": "ipython3",
   "version": "3.10.4"
  }
 },
 "nbformat": 4,
 "nbformat_minor": 5
}
