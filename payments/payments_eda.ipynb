{
 "cells": [
  {
   "cell_type": "code",
   "execution_count": null,
   "id": "d5abe861-679e-48b6-8b9c-8175a4e211e0",
   "metadata": {},
   "outputs": [],
   "source": [
    "import pandas as pd\n",
    "import plotly.express as px\n",
    "import seaborn as sns\n",
    "from calitp import query_sql"
   ]
  },
  {
   "cell_type": "code",
   "execution_count": null,
   "id": "8597be54-d1b6-476b-a8d9-817d6b42bbf0",
   "metadata": {},
   "outputs": [],
   "source": [
    "df = query_sql(\"SELECT * FROM views.payments_rides LIMIT 1000000\", as_df=True)\n",
    "df"
   ]
  },
  {
   "cell_type": "code",
   "execution_count": null,
   "id": "3df1926d-8288-455e-a4e6-60668fa0ec68",
   "metadata": {},
   "outputs": [],
   "source": [
    "df.columns"
   ]
  },
  {
   "cell_type": "code",
   "execution_count": null,
   "id": "4595bea8-caed-47a9-9d75-6fba1408a56f",
   "metadata": {},
   "outputs": [],
   "source": [
    "data = df[\"participant_id\"].value_counts(normalize=True)\n",
    "sns.barplot(x=data.index, y=data.values)"
   ]
  },
  {
   "cell_type": "code",
   "execution_count": null,
   "id": "1e869e02-44c1-4cfc-ab5c-e2b94f447f8c",
   "metadata": {},
   "outputs": [],
   "source": [
    "df[\"micropayment_id\"].value_counts()"
   ]
  },
  {
   "cell_type": "code",
   "execution_count": null,
   "id": "f60366b6-dbc2-460a-a4d6-04b83fdeef32",
   "metadata": {},
   "outputs": [],
   "source": [
    "data = df[\"card_scheme\"].value_counts(normalize=True)\n",
    "sns.barplot(x=data.index, y=data.values)"
   ]
  },
  {
   "cell_type": "code",
   "execution_count": null,
   "id": "5da57538-e570-4332-b00b-ab232d7a0633",
   "metadata": {},
   "outputs": [],
   "source": [
    "data = df[\"issuer\"].value_counts(normalize=True).head()\n",
    "ax = sns.barplot(x=data.index, y=data.values)\n",
    "ax.set_xticklabels(ax.get_xticklabels(),rotation = 90)\n",
    "ax"
   ]
  },
  {
   "cell_type": "code",
   "execution_count": null,
   "id": "d27daf9f-8415-429e-ac1a-76316c4be217",
   "metadata": {},
   "outputs": [],
   "source": [
    "#Add counts\n",
    "data = df['issuer_country'].value_counts().head()\n",
    "sns.barplot(x=data.index, y=data.values)"
   ]
  },
  {
   "cell_type": "code",
   "execution_count": null,
   "id": "f56c075e-e782-4785-9e6a-d28ae4477791",
   "metadata": {},
   "outputs": [],
   "source": [
    "data"
   ]
  },
  {
   "cell_type": "code",
   "execution_count": null,
   "id": "57277378-2309-4c1a-8709-8fbbfe9d32d1",
   "metadata": {},
   "outputs": [],
   "source": [
    "df['transaction_month'] = pd.to_datetime(df['transaction_date_time_utc']).dt.month\n",
    "top_10_non_US = df['issuer_country'].value_counts(normalize=True)[1:11]\n",
    "country_counts_df = df.groupby(['issuer_country', 'transaction_month']).count().reset_index()\n",
    "top_10_country_counts_df = country_counts_df[country_counts_df['issuer_country'].isin(top_10_non_US.index)]\n",
    "top_10_country_counts_df"
   ]
  },
  {
   "cell_type": "code",
   "execution_count": null,
   "id": "b5c9b03b-f89c-4e8d-8a08-ca664946f3bd",
   "metadata": {},
   "outputs": [],
   "source": [
    "sns.lineplot(x='transaction_month', y='participant_id', hue='issuer_country', data=top_10_country_counts_df)"
   ]
  },
  {
   "cell_type": "code",
   "execution_count": null,
   "id": "ef0601f0-5b78-4646-b117-c4b5d5a83649",
   "metadata": {},
   "outputs": [],
   "source": [
    "data = df[\"form_factor\"].value_counts(normalize=True)\n",
    "sns.barplot(x=data.index, y=data.values)"
   ]
  },
  {
   "cell_type": "code",
   "execution_count": null,
   "id": "325c4b51-5df4-473c-bfd7-2f84845dbadb",
   "metadata": {},
   "outputs": [],
   "source": [
    "data = df[\"charge_amount\"]\n",
    "sns.displot(x=data.values)"
   ]
  },
  {
   "cell_type": "code",
   "execution_count": null,
   "id": "3ef9d046-6ba5-406c-be18-373c159c827d",
   "metadata": {},
   "outputs": [],
   "source": [
    "df[\"charge_amount\"].describe()"
   ]
  },
  {
   "cell_type": "code",
   "execution_count": null,
   "id": "58978e83-7813-488a-b997-ac22b195ac55",
   "metadata": {},
   "outputs": [],
   "source": [
    "data = df[\"charge_type\"].value_counts(normalize=True)\n",
    "sns.barplot(x=data.index, y=data.values)"
   ]
  },
  {
   "cell_type": "code",
   "execution_count": null,
   "id": "ebac22d8-99f8-4922-b0e6-5f1e70cdd885",
   "metadata": {},
   "outputs": [],
   "source": [
    "data = df[\"adjustment_type\"].value_counts(normalize=True)\n",
    "ax = sns.barplot(x=data.index, y=data.values)\n",
    "ax.set_xticklabels(ax.get_xticklabels(),rotation = 60)\n",
    "ax"
   ]
  },
  {
   "cell_type": "code",
   "execution_count": null,
   "id": "8daa0f6a-d238-4c82-ad50-c423d2f07702",
   "metadata": {},
   "outputs": [],
   "source": [
    "df[\"adjustment_description\"].value_counts(normalize=True)"
   ]
  },
  {
   "cell_type": "code",
   "execution_count": null,
   "id": "c1d7965a-299c-4327-a07b-b99b885a8468",
   "metadata": {},
   "outputs": [],
   "source": [
    "# Simulations for revenue/ridership if this was distributed differently?"
   ]
  },
  {
   "cell_type": "code",
   "execution_count": null,
   "id": "a6038fde-9ebc-4705-9b5a-f3aca75eb5b9",
   "metadata": {
    "tags": []
   },
   "outputs": [],
   "source": [
    "sns.displot(pd.to_datetime(df[\"transaction_date_time_utc\"]).dt.hour)"
   ]
  },
  {
   "cell_type": "code",
   "execution_count": null,
   "id": "dd41da3c-da64-4506-a241-2f3469d18a32",
   "metadata": {
    "tags": []
   },
   "outputs": [],
   "source": [
    "df[\"route_short_name\"].value_counts(normalize=True)"
   ]
  },
  {
   "cell_type": "code",
   "execution_count": null,
   "id": "88701603-1dd2-4dd9-8a83-890483b53486",
   "metadata": {},
   "outputs": [],
   "source": [
    "df.corr()"
   ]
  },
  {
   "cell_type": "code",
   "execution_count": null,
   "id": "2d8ccc87-255d-48c8-ac42-308907b7cde7",
   "metadata": {},
   "outputs": [],
   "source": [
    "corr_cols = df.columns.drop(['participant_id', 'micropayment_id', 'funding_source_vault_id', 'customer_id', 'principal_customer_id', \n",
    "                             'bin', 'masked_pan', 'vehicle_id', 'adjustment_id', 'littlepay_transaction_id', 'off_littlepay_transaction_id', \n",
    "                             'device_id', 'charge_amount', 'transaction_date_time_utc', 'transaction_date_time_pacific', \n",
    "                             'off_transaction_date_time_utc', 'off_transaction_date_time_pacific', 'refund_amount', 'location_id',\n",
    "                             'nominal_amount', 'adjustment_amount', 'latitude', 'longitude', 'off_latitude', 'off_longitude'])\n",
    "one_hot_df = pd.get_dummies(df, columns=corr_cols)\n",
    "one_hot_df"
   ]
  },
  {
   "cell_type": "code",
   "execution_count": null,
   "id": "d20c1eb2-336a-42a3-a7a8-d959e42ea663",
   "metadata": {},
   "outputs": [],
   "source": [
    "#corr_df = one_hot_df.corr()"
   ]
  },
  {
   "cell_type": "code",
   "execution_count": null,
   "id": "4f6a0f49-baa9-4156-9c78-caf5dfba04b6",
   "metadata": {},
   "outputs": [],
   "source": [
    "corr_df = corr_df.dropna(how='all')\n",
    "corr_df.nlargest(n=10, columns=corr_df.columns)"
   ]
  },
  {
   "cell_type": "code",
   "execution_count": null,
   "id": "896df0ec-462d-4ad6-814d-2c487ea2f26e",
   "metadata": {},
   "outputs": [],
   "source": [
    "# correlate across other values"
   ]
  },
  {
   "cell_type": "code",
   "execution_count": null,
   "id": "3c7f9aa1-a6c1-4ad4-bb4e-f792b2417755",
   "metadata": {},
   "outputs": [],
   "source": [
    "df[\"direction\"].value_counts(normalize=True)"
   ]
  },
  {
   "cell_type": "code",
   "execution_count": null,
   "id": "addf55da-706f-40a1-aa05-7819f50e5179",
   "metadata": {},
   "outputs": [],
   "source": [
    "df[\"adjustment_type\"].value_counts()"
   ]
  },
  {
   "cell_type": "code",
   "execution_count": null,
   "id": "691d4113-a3f9-4b8d-a802-68fcc4231b14",
   "metadata": {
    "tags": []
   },
   "outputs": [],
   "source": [
    "fig = px.scatter_geo(df, lat=\"latitude\", lon=\"longitude\", hover_name=\"route_short_name\")\n",
    "fig.show()"
   ]
  }
 ],
 "metadata": {
  "kernelspec": {
   "display_name": "Python 3 (ipykernel)",
   "language": "python",
   "name": "python3"
  },
  "language_info": {
   "codemirror_mode": {
    "name": "ipython",
    "version": 3
   },
   "file_extension": ".py",
   "mimetype": "text/x-python",
   "name": "python",
   "nbconvert_exporter": "python",
   "pygments_lexer": "ipython3",
   "version": "3.9.13"
  }
 },
 "nbformat": 4,
 "nbformat_minor": 5
}
