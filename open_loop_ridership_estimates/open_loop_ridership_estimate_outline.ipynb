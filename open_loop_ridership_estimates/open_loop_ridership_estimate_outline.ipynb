{
 "cells": [
  {
   "cell_type": "markdown",
   "id": "15bec67c-6ced-4b72-b916-05b9a600534a",
   "metadata": {},
   "source": [
    "# Open Loop Ridership Estimates\n",
    "\n",
    "How much do we save by going after ridership boost from open loop vs more service\n",
    "[GH Issue](https://github.com/cal-itp/data-analyses/issues/545)\n",
    "\n",
    "# Datasets\n",
    "* NTD, annual ridership by agency \n",
    "* NTD, cost per revenue hour\n",
    "* GTFS schedule, number of trips per agency"
   ]
  },
  {
   "cell_type": "markdown",
   "id": "ee005bb5-fca1-4eb8-84a0-50c826c034f1",
   "metadata": {},
   "source": [
    "# Calculations"
   ]
  },
  {
   "cell_type": "markdown",
   "id": "5191339b-298b-4fc8-b773-6ac5226bba43",
   "metadata": {},
   "source": [
    "## Target Ridership\n",
    "\n",
    "First we want to project the target ridership gained per agency by adopting open loop. This can be defined as projected ridership with open loop by agency equals annual ridership multiplied by 1.03, representing the projected 3% increase.\n",
    "\n",
    "\n",
    "` projected_annual_ridership = existing_annual_ridership * 1.03 `\n",
    "\n",
    "## Number of Riders per Additional Trip\n",
    "\n",
    "Second we need to calculate the number of riders per additional trip so that we can determine what an equivalent service increase would be to guarantee the same ridership increase that open loop does. The number of additional riders can be calculated as existing ridership multiplied by percentage increase of ridership per additional trip added.\n",
    "\n",
    "`  number_of_rider_per_additional_trip = existing_annual_ridership * percentage_increase_of_ridership_per_additional_trip_added `\n",
    "\n",
    "## Increase in Service by Agency Needed\n",
    "\n",
    "Third we need to calculate the increase in service needed. This is defined as number of overall riders after open loop subtracted by the current number of riders, then all divided by number of riders per additional trip.\n",
    "\n",
    "` increase_in_service_by_agency = (projected_annual_ridership - existing_annual_ridership ) / number_of_rider_per_additional_trip `\n",
    "\n",
    "## Cost Estimates\n",
    "\n",
    "Fourth we need to calculate the cost of service increase. From the NTD, we know how much one revenue hour of service costs. In order to know the total number of additional hours needed, we need to take the number of additional trips needed and multiply it by the runtime per trip.\n",
    "\n",
    "` estimated_cost = cost_of_one_revenue_hour_of_service * increase_in_service_by_agency * runtime_per_trip `"
   ]
  },
  {
   "cell_type": "code",
   "execution_count": null,
   "id": "75da53c4-9a47-437d-8c7e-f9ecef76716b",
   "metadata": {},
   "outputs": [],
   "source": []
  }
 ],
 "metadata": {
  "kernelspec": {
   "display_name": "Python 3 (ipykernel)",
   "language": "python",
   "name": "python3"
  },
  "language_info": {
   "codemirror_mode": {
    "name": "ipython",
    "version": 3
   },
   "file_extension": ".py",
   "mimetype": "text/x-python",
   "name": "python",
   "nbconvert_exporter": "python",
   "pygments_lexer": "ipython3",
   "version": "3.9.13"
  }
 },
 "nbformat": 4,
 "nbformat_minor": 5
}
