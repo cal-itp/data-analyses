{
 "cells": [
  {
   "cell_type": "markdown",
   "id": "113a8748-2f2d-460e-b0c0-76905588a21a",
   "metadata": {
    "tags": []
   },
   "source": [
    "# Annual Ridership by RTPA Report Outline #\n",
    "\n",
    "See [Github issue #1112 - Research Rquest - Annual NTD by RTPA report](https://github.com/cal-itp/data-analyses/issues/1112)\n",
    "\n",
    "\n",
    "This notebook will outline the methodology of developing the new Annual Ridership by RTPA Report Portfolio site (Annual Report).\n",
    "Similar to the `monthly ridership by RTPA portfolio site`, the Annual Report will:\n",
    "    \n",
    "- use data from the FTA NTD \n",
    "- clean, prepare, transform new columns \n",
    "- export to gcs \n",
    "- create charts\n",
    "- become availabile online\n",
    "\n",
    "The Annual Report will take inspiration from the Monthly Ridership Report in that the intended output will be a portfolio site where each chapter is a seperate RTPA from paramaterized notebook.\n",
    "\n"
   ]
  },
  {
   "cell_type": "markdown",
   "id": "1f8ed180-1dc3-46a4-8d26-ae94233bfbe9",
   "metadata": {},
   "source": [
    "## Goals \n",
    "- have a paramaterized portfolio\n",
    "    - create template notebook >> inside data-analyses/ntd_annual_ridership\n",
    "    - create config.yml file >> place `_config.ylm` inside portofolio/ntd_annual_ridership folder\n",
    "    - create table of contents.yml file >> place `_toc.yml` inside portofolio/ntd_annual_ridership folder\n",
    "    - create README.md file >> inside data-analyses/ntd_annual_ridership\n",
    "<br>\n",
    "<br>   \n",
    "- add to root MAKEFILE\n",
    "    - add section for `build_ntd_annual_report`\n",
    "<br>\n",
    "<br>\n",
    "- prepare files for portfolio folder\n",
    "    - create .yml for portfolio/sites folder >> `ntd_annual_ridership.yml`\n",
    "    - create ntd_annual_ridership folder in portfolio directory"
   ]
  },
  {
   "cell_type": "markdown",
   "id": "fd8affd8-65d8-4f61-b42c-8db41afdba0d",
   "metadata": {
    "tags": []
   },
   "source": [
    "## Development Outline\n",
    "\n",
    "- Review data sources, see what information can be reported\n",
    "    - VOMS, VRM, VRH, UPT\n",
    "    - how to filter this data to only show agencies in CA?\n",
    "    - how to assign the CA agencies to a RTPA?\n",
    "    - confirm with Tiffany if `dim_annual_ntd_agency_information` has the ridership data I need.\n",
    "- notebook to test which imports and functions are needed >> see monthly ridership report files\n",
    "- review of portfolio process (which make files to hit, which folders in `data-analyses/porfolio` to make, etc)\n",
    "- test building paramterizing notebooks\n",
    "- test deploying portfolio with netlify\n"
   ]
  },
  {
   "cell_type": "markdown",
   "id": "69e96f3f-7a92-43c7-8fe2-bc991206b65b",
   "metadata": {},
   "source": [
    "## Overview of Cal-ITP Portfolio Docs\n",
    "\n",
    "[Link to Docs here](https://docs.calitp.org/data-infra/publishing/sections/4_analytics_portfolio_site.html)\n",
    "- COMPLETE ~~set up Netlify key~~\n",
    "    - but need to log in to see if my keys need refreshing\n",
    "- COMPLETE ~~create README.md~~\n",
    "    - see `data-analyses/ntd_annual_ridership/README.md`\n",
    "- create a `.yml` file in `data-analyses/portfolio/site`\n",
    "- prepare notebook\n",
    "    - [see sample parameterized NB here](https://github.com/cal-itp/data-analyses/blob/main/starter_kit/parameterized_notebook.ipynb)\n",
    "- build report with `python portfolio/portfolio.py build my_report`\n",
    "- deploy report with `python portfolio/portfolio.py build my_report --deploy`\n"
   ]
  },
  {
   "cell_type": "markdown",
   "id": "db870397-e234-4429-a66b-50963f713faa",
   "metadata": {
    "tags": []
   },
   "source": [
    "## notes about preparing notebook\n",
    "- must have all the elements for notebook to parameterize.\n",
    "- `RTPA` will be the parameter for this notebook. aka a notebook will be created for each RTPA\n",
    "- \n"
   ]
  },
  {
   "cell_type": "code",
   "execution_count": null,
   "id": "4ff075f6-c76f-4e0d-a35a-b442b3bc67ea",
   "metadata": {
    "tags": [
     "parameters"
    ]
   },
   "outputs": [],
   "source": [
    "rtpa = 'Metropolitan Transportation Commission'"
   ]
  },
  {
   "cell_type": "code",
   "execution_count": null,
   "id": "bfa389e3-6c8d-487a-ac9a-96dc7715a99c",
   "metadata": {},
   "outputs": [],
   "source": [
    "%%capture_parameters\n",
    "rtpa"
   ]
  },
  {
   "cell_type": "markdown",
   "id": "24cb589c-c16a-482f-b5be-6af169275056",
   "metadata": {
    "tags": []
   },
   "source": [
    "## Questions: "
   ]
  },
  {
   "cell_type": "markdown",
   "id": "dffc235c-645d-4e78-991f-f23e645d5b80",
   "metadata": {},
   "source": [
    "### ~~Where should this file live?~~\n",
    "- should the annual ridership report live in the same `ntd` folder as the `monthly_ridership_report` files?\n",
    "- ~~i believe it can, but will have to add a new make function to the `data-analyses/makefile` for this annual ridership report~~\n",
    "- ~~ensure everything points to the annual ridership files~~\n",
    "- starting a new folder called `ntd_annual_ridership`\n",
    "\n",
    "\n"
   ]
  },
  {
   "cell_type": "markdown",
   "id": "7918ee4b-3919-4280-8b4e-471721b328c6",
   "metadata": {},
   "source": [
    "### Which libraries/packages should be imported?\n",
    "- start with whats in the `monthly ridership report`\n",
    "- commenting out the monthly report specific files for now (`update_vars`, `monthly_ridership_by_rtpa`, `shared_utils.rt_dates`)"
   ]
  },
  {
   "cell_type": "code",
   "execution_count": 2,
   "id": "743e74e1-abbc-4227-aa6c-02746191a6aa",
   "metadata": {},
   "outputs": [],
   "source": [
    "%%capture\n",
    "import sys\n",
    "sys.path.append(\"../bus_service_increase\")\n",
    "\n",
    "import warnings\n",
    "warnings.filterwarnings('ignore')\n",
    "\n",
    "import altair as alt\n",
    "import calitp_data_analysis.magics\n",
    "import pandas as pd\n",
    "\n",
    "from IPython.display import display, HTML\n",
    "\n",
    "from bus_service_utils import chart_utils\n",
    "from calitp_data_analysis import calitp_color_palette as cp\n",
    "#from update_vars import GCS_FILE_PATH, PUBLIC_FILENAME, YEAR, MONTH\n",
    "#from monthly_ridership_by_rtpa import get_percent_change\n",
    "#from shared_utils.rt_dates import MONTH_DICT\n",
    "\n",
    "#alt.renderers.enable(\"html\")\n",
    "alt.data_transformers.enable('default', max_rows=None)"
   ]
  },
  {
   "cell_type": "markdown",
   "id": "f93e4d86-33ff-4dbf-8254-055a88bb4a84",
   "metadata": {},
   "source": [
    "### Any functions i should import?\n",
    "- considering `from monthly_ridership_by_rtpa import get_percent_change`\n"
   ]
  },
  {
   "cell_type": "markdown",
   "id": "d477989c-8bd2-4315-a2a1-c84309c9a33f",
   "metadata": {},
   "source": [
    "### What does the data look like?\n",
    "- need to test out whats in `dim_annual_ntd_agency_information` & `dim_annual_ntd_agency_service` for 2022.\n",
    "- see notebook `annual_report_test.ipynb`"
   ]
  },
  {
   "cell_type": "markdown",
   "id": "7fbfdc2c-bb19-4054-aa03-7de5dd2fa11d",
   "metadata": {},
   "source": [
    "## how to filter the 2022 data to only show the RTPAs & Agencies in California?\n",
    "- will need to look at the monthly report to see how this is done\n",
    "-"
   ]
  },
  {
   "cell_type": "markdown",
   "id": "59900516-9a0c-49ff-86c7-5c95a3acbbe0",
   "metadata": {},
   "source": [
    "## What metrics to include in the notebook?\n",
    "- after looking at the data, include the following at the very least\n",
    "    - `vehicles_passenger_cars_operated_in_maximum_service`\n",
    "    - `actual_vehicles_passenger_car_revenue_miles`\n",
    "    - `actual_vehicle_passenger_car_revenue_hours`\n",
    "    - `unlinked_passenger_trips__upt_`\n",
    "- aggregate the above by \n",
    "    - `agency_name`\n",
    "    - `mode`\n",
    "    - `tos`\n",
    "    - "
   ]
  },
  {
   "cell_type": "code",
   "execution_count": null,
   "id": "e114e498-d2bd-4bc4-8c91-90b8a53ce180",
   "metadata": {},
   "outputs": [],
   "source": []
  }
 ],
 "metadata": {
  "kernelspec": {
   "display_name": "Python 3 (ipykernel)",
   "language": "python",
   "name": "python3"
  },
  "language_info": {
   "codemirror_mode": {
    "name": "ipython",
    "version": 3
   },
   "file_extension": ".py",
   "mimetype": "text/x-python",
   "name": "python",
   "nbconvert_exporter": "python",
   "pygments_lexer": "ipython3",
   "version": "3.9.13"
  }
 },
 "nbformat": 4,
 "nbformat_minor": 5
}
