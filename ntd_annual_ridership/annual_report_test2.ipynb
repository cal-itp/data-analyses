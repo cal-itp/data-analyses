{
 "cells": [
  {
   "cell_type": "code",
   "execution_count": 8,
   "id": "f69ce09b-de2a-4d6e-a5b9-d6fa2ecf2be2",
   "metadata": {},
   "outputs": [],
   "source": [
    "from calitp_data_analysis.tables import tbls\n",
    "from siuba import *\n",
    "import pandas as pd\n",
    "GCS_FILE_PATH = \"gs://calitp-analytics-data/data-analyses/ntd/\"\n",
    "\n",
    "pd.set_option('display.max_rows', None)  \n",
    "pd.set_option('display.max_columns', None) "
   ]
  },
  {
   "cell_type": "code",
   "execution_count": 16,
   "id": "d92464c2-e8a2-46b4-a78e-8f25d2bb4c3f",
   "metadata": {},
   "outputs": [],
   "source": [
    "# using siuba to read in data from warehouse.\n",
    "ntd_info = (tbls.mart_ntd.dim_annual_ntd_agency_information() \n",
    "            >> filter(_._is_current == True,\n",
    "                     _.year == 2022,\n",
    "                     _.region == 9) \n",
    "            >> collect()\n",
    "           )\n",
    "\n",
    "# need to find a way to filter  ntd service to California agencies only. \n",
    "ntd_service = (tbls.mart_ntd.dim_annual_ntd_agency_service()\n",
    "               >> group_by(_.ntd_id)\n",
    "               >> distinct(_.agency_name)\n",
    "               >> collect()\n",
    "            )#can i add pd filters after this?\n",
    "\n",
    "# reading in NTD ID crosswalk from GCS\n",
    "crosswalk = pd.read_csv(\n",
    "        f\"{GCS_FILE_PATH}ntd_id_rtpa_crosswalk.csv\", \n",
    "        dtype = {\"NTD ID\": \"str\"}\n",
    "    ).rename(columns={\"NTD ID\": \"ntd_id\"})"
   ]
  },
  {
   "cell_type": "code",
   "execution_count": 17,
   "id": "a5dc49d8-6da7-422a-8482-d4bacafde914",
   "metadata": {},
   "outputs": [
    {
     "data": {
      "text/plain": [
       "(322, 46)"
      ]
     },
     "metadata": {},
     "output_type": "display_data"
    },
    {
     "data": {
      "text/plain": [
       "(2259, 2)"
      ]
     },
     "metadata": {},
     "output_type": "display_data"
    },
    {
     "data": {
      "text/plain": [
       "(117, 6)"
      ]
     },
     "metadata": {},
     "output_type": "display_data"
    }
   ],
   "source": [
    "display(\n",
    "    ntd_info.shape,\n",
    "    ntd_service.shape,\n",
    "    crosswalk.shape\n",
    ")"
   ]
  },
  {
   "cell_type": "code",
   "execution_count": 19,
   "id": "82a51ca6-8150-431e-8b4c-acf7be22e240",
   "metadata": {},
   "outputs": [
    {
     "data": {
      "text/html": [
       "<div>\n",
       "<style scoped>\n",
       "    .dataframe tbody tr th:only-of-type {\n",
       "        vertical-align: middle;\n",
       "    }\n",
       "\n",
       "    .dataframe tbody tr th {\n",
       "        vertical-align: top;\n",
       "    }\n",
       "\n",
       "    .dataframe thead th {\n",
       "        text-align: right;\n",
       "    }\n",
       "</style>\n",
       "<table border=\"1\" class=\"dataframe\">\n",
       "  <thead>\n",
       "    <tr style=\"text-align: right;\">\n",
       "      <th></th>\n",
       "      <th>ntd_id</th>\n",
       "      <th>agency_name</th>\n",
       "    </tr>\n",
       "  </thead>\n",
       "  <tbody>\n",
       "    <tr>\n",
       "      <th>0</th>\n",
       "      <td>00001</td>\n",
       "      <td>King County Department of Metro Transit</td>\n",
       "    </tr>\n",
       "    <tr>\n",
       "      <th>1</th>\n",
       "      <td>00002</td>\n",
       "      <td>Spokane Transit Authority</td>\n",
       "    </tr>\n",
       "    <tr>\n",
       "      <th>2</th>\n",
       "      <td>00003</td>\n",
       "      <td>Pierce County Transportation Benefit Area Auth...</td>\n",
       "    </tr>\n",
       "    <tr>\n",
       "      <th>3</th>\n",
       "      <td>00004</td>\n",
       "      <td>Confederated Tribes of the Colville Indian Res...</td>\n",
       "    </tr>\n",
       "    <tr>\n",
       "      <th>4</th>\n",
       "      <td>00005</td>\n",
       "      <td>City of Everett</td>\n",
       "    </tr>\n",
       "  </tbody>\n",
       "</table>\n",
       "</div>"
      ],
      "text/plain": [
       "  ntd_id                                        agency_name\n",
       "0  00001            King County Department of Metro Transit\n",
       "1  00002                          Spokane Transit Authority\n",
       "2  00003  Pierce County Transportation Benefit Area Auth...\n",
       "3  00004  Confederated Tribes of the Colville Indian Res...\n",
       "4  00005                                    City of Everett"
      ]
     },
     "execution_count": 19,
     "metadata": {},
     "output_type": "execute_result"
    }
   ],
   "source": [
    "ntd_service.head()"
   ]
  },
  {
   "cell_type": "code",
   "execution_count": null,
   "id": "c025cbe8-6752-43c8-ba36-0eeb368fdd9c",
   "metadata": {},
   "outputs": [],
   "source": []
  }
 ],
 "metadata": {
  "kernelspec": {
   "display_name": "Python 3 (ipykernel)",
   "language": "python",
   "name": "python3"
  },
  "language_info": {
   "codemirror_mode": {
    "name": "ipython",
    "version": 3
   },
   "file_extension": ".py",
   "mimetype": "text/x-python",
   "name": "python",
   "nbconvert_exporter": "python",
   "pygments_lexer": "ipython3",
   "version": "3.9.13"
  }
 },
 "nbformat": 4,
 "nbformat_minor": 5
}
