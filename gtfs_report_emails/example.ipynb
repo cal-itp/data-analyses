{
 "cells": [
  {
   "cell_type": "markdown",
   "metadata": {},
   "source": [
    "# Cal-itp GTFS schedule report templating\n",
    "\n",
    "(Note: GTFS stands for General Transit Feed Specification)\n",
    "\n",
    "**Resources:**\n",
    "\n",
    "* [report spec](https://docs.google.com/document/d/1-iXNdl4f2EbYayKg3e7jkTALAcNzht9yGQuyIOtPLc4/edit#)\n",
    "* Brand & styles\n",
    "  - [CA state template](https://webstandards.ca.gov/state-template/)\n",
    "  - [cal-itp transit stop example](https://github.com/cal-itp/transit-stop)\n",
    "  - [cal-itp website](https://github.com/cal-itp/website)\n",
    "* [nbconvert](https://github.com/jupyter/nbconvert) - generates html reports from notebooks\n",
    "  - [base template for notebooks](https://github.com/jupyter/nbconvert/blob/master/share/jupyter/nbconvert/templates/base/null.j2)\n",
    "  - [final template for notebooks](https://github.com/jupyter/nbconvert/blob/master/share/jupyter/nbconvert/templates/lab/index.html.j2)\n",
    "\n",
    "\n",
    "**Generating this example:**\n",
    "\n",
    "```\n",
    "jupyter nbconvert --template_file _template.tpl\n",
    "```"
   ]
  },
  {
   "cell_type": "markdown",
   "metadata": {},
   "source": [
    "## This is a markdown cell\n",
    "\n",
    "| a | b |\n",
    "| -- | -- |\n",
    "| a | table |"
   ]
  },
  {
   "cell_type": "code",
   "execution_count": 2,
   "metadata": {},
   "outputs": [
    {
     "data": {
      "text/plain": [
       "2"
      ]
     },
     "execution_count": 2,
     "metadata": {},
     "output_type": "execute_result"
    }
   ],
   "source": [
    "# code cell with simple printout\n",
    "\n",
    "1 + 1"
   ]
  },
  {
   "cell_type": "code",
   "execution_count": 4,
   "metadata": {},
   "outputs": [
    {
     "data": {
      "text/plain": [
       "<AxesSubplot:xlabel='x'>"
      ]
     },
     "execution_count": 4,
     "metadata": {},
     "output_type": "execute_result"
    },
    {
     "data": {
      "image/png": "[encoded data removed]",
      "text/plain": [
       "<Figure size 432x288 with 1 Axes>"
      ]
     },
     "metadata": {
      "needs_background": "light"
     },
     "output_type": "display_data"
    }
   ],
   "source": [
    "# code cell with plot\n",
    "\n",
    "import pandas as pd\n",
    "\n",
    "df = pd.DataFrame({'x': [1,2,3], 'y': [3,4,5]})\n",
    "\n",
    "df.plot('x', 'y')"
   ]
  }
 ],
 "metadata": {
  "kernelspec": {
   "display_name": "venv-notebooks",
   "language": "python",
   "name": "venv-notebooks"
  },
  "language_info": {
   "codemirror_mode": {
    "name": "ipython",
    "version": 3
   },
   "file_extension": ".py",
   "mimetype": "text/x-python",
   "name": "python",
   "nbconvert_exporter": "python",
   "pygments_lexer": "ipython3",
   "version": "3.6.8"
  }
 },
 "nbformat": 4,
 "nbformat_minor": 4
}
