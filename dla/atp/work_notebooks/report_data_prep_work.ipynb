{
 "cells": [
  {
   "cell_type": "markdown",
   "id": "c1ddc4a5-915c-40cb-9b89-395eab0235f2",
   "metadata": {},
   "source": [
    "# Data Prep for ATP "
   ]
  },
  {
   "cell_type": "markdown",
   "id": "e4cbe4aa-ecd4-4e55-ac04-72e13a6c36e4",
   "metadata": {},
   "source": [
    "**Duplicate notebook using concat method**\n",
    "\n",
    "* manual cleaning needed outside of notebook for funding data"
   ]
  },
  {
   "cell_type": "code",
   "execution_count": 2,
   "id": "7e3b5387-ec6e-49a8-a240-256309b20473",
   "metadata": {},
   "outputs": [
    {
     "ename": "ModuleNotFoundError",
     "evalue": "No module named '_data_cleaning'",
     "output_type": "error",
     "traceback": [
      "\u001b[0;31m---------------------------------------------------------------------------\u001b[0m",
      "\u001b[0;31mModuleNotFoundError\u001b[0m                       Traceback (most recent call last)",
      "Cell \u001b[0;32mIn[2], line 7\u001b[0m\n\u001b[1;32m      4\u001b[0m \u001b[38;5;28;01mfrom\u001b[39;00m \u001b[38;5;21;01mdla_utils\u001b[39;00m \u001b[38;5;28;01mimport\u001b[39;00m _dla_utils\n\u001b[1;32m      5\u001b[0m \u001b[38;5;28;01mfrom\u001b[39;00m \u001b[38;5;21;01msiuba\u001b[39;00m \u001b[38;5;28;01mimport\u001b[39;00m \u001b[38;5;241m*\u001b[39m\n\u001b[0;32m----> 7\u001b[0m \u001b[38;5;28;01mimport\u001b[39;00m \u001b[38;5;21;01m_data_cleaning\u001b[39;00m\n",
      "\u001b[0;31mModuleNotFoundError\u001b[0m: No module named '_data_cleaning'"
     ]
    }
   ],
   "source": [
    "import numpy as np\n",
    "import pandas as pd\n",
    "from calitp_data_analysis.sql import to_snakecase\n",
    "from dla_utils import _dla_utils\n",
    "from siuba import *\n",
    "\n",
    "import _data_cleaning"
   ]
  },
  {
   "cell_type": "code",
   "execution_count": null,
   "id": "3a1db0a4-8041-49cf-8a7c-8c5d16aa18d3",
   "metadata": {},
   "outputs": [],
   "source": [
    "pd.set_option(\"display.max_columns\",500)"
   ]
  },
  {
   "cell_type": "markdown",
   "id": "c32f21d9-d110-4a04-b88f-458c93b265d6",
   "metadata": {},
   "source": [
    "* some `a1_imp_agcy_fed_ma_num` are not present \n",
    "*  merge on `project_app_id`\n"
   ]
  },
  {
   "cell_type": "markdown",
   "id": "3442964e-79fb-41bd-8335-1542f5d1e247",
   "metadata": {},
   "source": [
    "* need function for reading in funding data and which projects get selected for funding\n",
    "* sheets of Master_AllData that we need:\n",
    "    * Master_Yes\n",
    "    * Statewide SUR Details (merge with SUR Funding\n",
    "    * Statewide SUR Funding (merge with SUR Details) \n",
    "* using a copy of the data to account for multiple headers"
   ]
  },
  {
   "cell_type": "code",
   "execution_count": null,
   "id": "c1ea2c5e-6cf5-43e8-970b-a30d3d4f7d3d",
   "metadata": {},
   "outputs": [],
   "source": [
    "GCS_FILE_PATH = 'gs://calitp-analytics-data/data-analyses/dla/atp/'\n"
   ]
  },
  {
   "cell_type": "markdown",
   "id": "27e747b4-51e7-4e65-b1db-3c96facc4d7c",
   "metadata": {},
   "source": [
    "## Read in Master Data"
   ]
  },
  {
   "cell_type": "code",
   "execution_count": null,
   "id": "7c4dac84-5c22-416d-98bf-db3372eaade3",
   "metadata": {},
   "outputs": [],
   "source": [
    "# reading the clean data (from atp script)\n",
    "#df = _data_cleaning.read_clean_data()"
   ]
  },
  {
   "cell_type": "code",
   "execution_count": null,
   "id": "2772c6d8-5c57-4f3b-a414-430de97c3452",
   "metadata": {},
   "outputs": [],
   "source": [
    "#df.sample()"
   ]
  },
  {
   "cell_type": "code",
   "execution_count": null,
   "id": "bd3bc3b6-246d-448c-8589-d90b367d9dc1",
   "metadata": {},
   "outputs": [],
   "source": [
    "def read_app_data():\n",
    "    \"\"\"\n",
    "    Function for reading in the application data. Can then merge with funded data\n",
    "    \"\"\"\n",
    "    # identify information columns that we need to drop\n",
    "    columns_to_drop = ['a1_imp_agcy_contact','a1_imp_agcy_email','a1_imp_agcy_phone',\n",
    "                      'a1_proj_partner_contact', 'a1_proj_partner_email', 'a1_proj_partner_phone']\n",
    "    \n",
    "    #read in data\n",
    "    df = to_snakecase(pd.read_excel(f'{GCS_FILE_PATH}Master_AllData_Cycle5_Field_Mapping_COPY.xls',\n",
    "              sheet_name='Master_Yes',\n",
    "                                        header=[2]))\n",
    "    df = df.drop(columns = columns_to_drop)\n",
    "    \n",
    "    #drop columns that will contain funding data (this df has the columns but no information for them)\n",
    "    #we know funding data starts with columns `original_prog__amt___pa_ed_`\n",
    "    df.drop(df.iloc[:,(df.columns.get_loc('original_prog__amt___pa_ed_')):], inplace=True, axis=1)  \n",
    "    \n",
    "    #drop identifier columns that are fully null (these columns are populated in funding data\n",
    "    df = df.drop(columns={'#', 'atp_id', 'ppno', 'ppno_1'})\n",
    "    \n",
    "    return df"
   ]
  },
  {
   "cell_type": "code",
   "execution_count": null,
   "id": "aa39be12-4d0c-4ad3-ae41-458bf771288b",
   "metadata": {},
   "outputs": [],
   "source": [
    "## cn use the version provided or the one we cleaned in the cleaning script\n",
    "master_data2= read_app_data()"
   ]
  },
  {
   "cell_type": "code",
   "execution_count": null,
   "id": "0003f8ed-f8af-4cf4-a8ef-6fc578cf83cc",
   "metadata": {},
   "outputs": [],
   "source": [
    "master_data =  _data_cleaning.read_clean_data()\n"
   ]
  },
  {
   "cell_type": "code",
   "execution_count": null,
   "id": "e5e4677b-e701-473b-8ec9-5b303a0563c0",
   "metadata": {},
   "outputs": [],
   "source": [
    "master_data.head()"
   ]
  },
  {
   "cell_type": "code",
   "execution_count": null,
   "id": "b7a97950-c9c5-4f5c-abd7-034d0028daa3",
   "metadata": {},
   "outputs": [],
   "source": [
    "len(list(master_data.columns))"
   ]
  },
  {
   "cell_type": "markdown",
   "id": "60508620-e725-421c-af7d-84c2278e278b",
   "metadata": {
    "tags": []
   },
   "source": [
    "## Function to read SUR funding data"
   ]
  },
  {
   "cell_type": "code",
   "execution_count": null,
   "id": "b5160760-5f00-4096-9c98-fed3f8b78f51",
   "metadata": {},
   "outputs": [],
   "source": [
    "def read_SUR_funding_data():\n",
    "    \"\"\"\n",
    "    Function to read in ATP funding data. Function will need to change for future data.\n",
    "    Notes:\n",
    "    * `atp_id` columns appear the same but the sur_details has an extra zero in the middle of the string so it would not match\n",
    "    * `a3_project_type` also is entered differently however, details has more details than the funding sheet. Has information on size of project. can add to new column\n",
    "    * `a1_imp_agcy_name_x` has manual errors so selecting `a1_imp_agcy_name_y`\n",
    "    \"\"\"\n",
    "    # identify information columns that we need to drop\n",
    "    columns_to_drop = ['a1_imp_agcy_contact','a1_imp_agcy_email','a1_imp_agcy_phone',\n",
    "                      'a1_proj_partner_contact', 'a1_proj_partner_email', 'a1_proj_partner_phone']\n",
    "    #read in SUR details and SUR funding data\n",
    "    sur_details = to_snakecase(pd.read_excel(f'{GCS_FILE_PATH}Master_AllData_Cycle5_Field_Mapping_COPY.xls',\n",
    "              sheet_name='Statewide SUR Details'))\n",
    "    sur_details = sur_details.drop(columns = columns_to_drop)\n",
    "    \n",
    "    sur_funding = to_snakecase(pd.read_excel(f'{GCS_FILE_PATH}Master_AllData_Cycle5_Field_Mapping_COPY.xls',\n",
    "              sheet_name='Statewide SUR Funding'))\n",
    "    \n",
    "    #drop the last few columns of SUR Details that have no funding data entered, but have columns\n",
    "    sur_details.drop(sur_details.iloc[:,199:], inplace=True, axis=1)\n",
    "    \n",
    "    #remove rows with all null values\n",
    "    cols_to_check = sur_funding.columns\n",
    "    sur_funding['is_na'] = sur_funding[cols_to_check].isnull().apply(lambda x: all(x), axis=1) \n",
    "    sur_funding = sur_funding>>filter(_.is_na==False)\n",
    "    sur_funding = sur_funding.drop(columns={'is_na'})\n",
    "\n",
    "    #delete rows identified that are not part of the data (informational cells) or a sum total for all entries\n",
    "    delete_row = sur_funding[sur_funding[\"project_cycle\"]== 'Added Field not from App'].index\n",
    "    sur_funding = sur_funding.drop(delete_row)\n",
    "    \n",
    "    delete_row = sur_funding[sur_funding[\"total_project_cost\"]== '370,984,000.00'].index\n",
    "    sur_funding = sur_funding.drop(delete_row)\n",
    "    \n",
    "    #merge sur_funding and sur_details\n",
    "    merge_on = ['project_app_id', 'project_cycle', 'a2_ct_dist', 'a1_locode']\n",
    "    df = (pd.merge(sur_details, sur_funding, how=\"outer\", on = merge_on, indicator=True))\n",
    "    \n",
    "    #keep entries that merge. Right_only rows are misentered and more informational columns  \n",
    "    df = df>>filter(_._merge=='both')\n",
    "    \n",
    "    # filling the null values for some of the duplicate columns\n",
    "    # manually checking that values are the same as of now- will add function to check when we get the data links\n",
    "    df['awarded_x'] = df['awarded_x'].fillna(df['awarded_y'])\n",
    "    df['ppno_y'] = df['ppno_y'].fillna(df['ppno_x'])\n",
    "    \n",
    "    #renaming and dropping duplicate columns \n",
    "    ## a1_imp_agcy_name_x has manual errors so selecting a1_imp_agcy_name_y\n",
    "    df = df.rename(columns={'awarded_x':'awarded',\n",
    "                                'ppno_y':'ppno',\n",
    "                                'a1_imp_agcy_name_y':'a1_imp_agcy_name',\n",
    "                                'a2_info_proj_name_y':'a2_info_proj_name'\n",
    "                               })\n",
    "    df = df.drop(columns={'awarded_y', 'a1_imp_agcy_name_x', 'a2_info_proj_name_x','ppno_x', '_merge'})\n",
    "    df[\"data_origin\"]=\"Funded\"\n",
    "    \n",
    "    return df"
   ]
  },
  {
   "cell_type": "code",
   "execution_count": null,
   "id": "b29a3840-267f-49c0-99d9-8ebda8d8050f",
   "metadata": {},
   "outputs": [],
   "source": [
    "funded = read_SUR_funding_data()"
   ]
  },
  {
   "cell_type": "code",
   "execution_count": null,
   "id": "95c09a07-74e1-4d04-991f-7b488c032f60",
   "metadata": {},
   "outputs": [],
   "source": [
    "len(funded)"
   ]
  },
  {
   "cell_type": "code",
   "execution_count": null,
   "id": "33cd1a47-4ecb-42ce-a6e2-2e5f0776938c",
   "metadata": {},
   "outputs": [],
   "source": [
    "len(list(funded.columns))"
   ]
  },
  {
   "cell_type": "code",
   "execution_count": null,
   "id": "a94629c7-c900-47e5-95b2-00e76e202e09",
   "metadata": {
    "tags": []
   },
   "outputs": [],
   "source": [
    "funded.head()"
   ]
  },
  {
   "cell_type": "code",
   "execution_count": null,
   "id": "dabd7971-e313-43cb-af2c-334d8189f855",
   "metadata": {},
   "outputs": [],
   "source": [
    "import re"
   ]
  },
  {
   "cell_type": "code",
   "execution_count": null,
   "id": "c52a5c61-5ca5-4108-93ac-1ff752ec02d2",
   "metadata": {},
   "outputs": [],
   "source": [
    "dcolumns1 = [col for col in funded.columns if isinstance(col, str) and re.match('.*_x', col)]"
   ]
  },
  {
   "cell_type": "code",
   "execution_count": null,
   "id": "424e48ea-2449-4e64-aa69-71f2cb08e626",
   "metadata": {},
   "outputs": [],
   "source": [
    "dcolumns2 = [col for col in funded.columns if isinstance(col, str) and re.match('.*_y', col)]"
   ]
  },
  {
   "cell_type": "code",
   "execution_count": null,
   "id": "111eaa14-3cd8-46f6-899b-f156ef113e0f",
   "metadata": {},
   "outputs": [],
   "source": [
    "dcolumns1"
   ]
  },
  {
   "cell_type": "code",
   "execution_count": null,
   "id": "81b2bfdc-7830-4d9c-88c4-1b0e0df28d0e",
   "metadata": {},
   "outputs": [],
   "source": [
    "dcolumns2"
   ]
  },
  {
   "cell_type": "code",
   "execution_count": null,
   "id": "16c26ea4-f237-412c-bb0a-7de068e164b2",
   "metadata": {
    "scrolled": true,
    "tags": []
   },
   "outputs": [],
   "source": [
    "funded>>select(_.atp_id_x, _.atp_id_y,\n",
    "               _.a3_proj_type_x, _.a3_proj_type_y)"
   ]
  },
  {
   "cell_type": "code",
   "execution_count": null,
   "id": "e5704ad7-af56-419a-aa62-92b7b0428aba",
   "metadata": {},
   "outputs": [],
   "source": []
  },
  {
   "cell_type": "markdown",
   "id": "4a2bebcb-1d4c-4167-8f13-5478c1ac8c87",
   "metadata": {},
   "source": [
    "## Merging with Master_Data"
   ]
  },
  {
   "cell_type": "code",
   "execution_count": null,
   "id": "8d78bcaf-857b-4bdc-8447-dc29bd581df8",
   "metadata": {},
   "outputs": [],
   "source": []
  },
  {
   "cell_type": "code",
   "execution_count": null,
   "id": "13c1faf8-58fe-4730-a0d8-ebb0993c58b4",
   "metadata": {},
   "outputs": [],
   "source": [
    "master_data.sample()"
   ]
  },
  {
   "cell_type": "code",
   "execution_count": null,
   "id": "4d9cbd74-6c4f-42f5-8f8e-0a711dd15e6b",
   "metadata": {},
   "outputs": [],
   "source": [
    "funded.sample()"
   ]
  },
  {
   "cell_type": "code",
   "execution_count": null,
   "id": "f5b3edea-b357-4b7d-987a-28e72b05cf88",
   "metadata": {},
   "outputs": [],
   "source": [
    "master_data.loc[master_data['project_cycle'] == 'CYCLE 5', 'project_cycle'] = 5\n",
    "master_data.loc[master_data['project_cycle'] == 'CYCLE 6', 'project_cycle'] = 6"
   ]
  },
  {
   "cell_type": "code",
   "execution_count": null,
   "id": "1cb4990e-cb84-4ea9-84af-a54833c99072",
   "metadata": {},
   "outputs": [],
   "source": [
    "master_data[['a2_ct_dist','project_cycle']] = master_data[['a2_ct_dist','project_cycle']].astype(int)"
   ]
  },
  {
   "cell_type": "code",
   "execution_count": null,
   "id": "5eb5639a-3578-4bb8-96d9-0b5b41945a9b",
   "metadata": {},
   "outputs": [],
   "source": [
    "master_data[['a1_locode']] = master_data[['a1_locode']].astype(object)"
   ]
  },
  {
   "cell_type": "code",
   "execution_count": null,
   "id": "24cc91fc-39a6-4b1b-ae7f-7759fedb06fc",
   "metadata": {},
   "outputs": [],
   "source": [
    "subset = master_data>>select(_.project_app_id, _.project_cycle, _.a2_ct_dist, _.a1_locode)"
   ]
  },
  {
   "cell_type": "code",
   "execution_count": null,
   "id": "85d4fd25-4328-4921-b4c0-ee7cabad46ce",
   "metadata": {},
   "outputs": [],
   "source": [
    "subset.project_cycle.value_counts()"
   ]
  },
  {
   "cell_type": "code",
   "execution_count": null,
   "id": "6372f9df-3c02-4d4f-994e-8d0cf5f060a2",
   "metadata": {},
   "outputs": [],
   "source": [
    "subset.info()"
   ]
  },
  {
   "cell_type": "code",
   "execution_count": null,
   "id": "6ba27deb-a98d-4307-904e-e93d2885a935",
   "metadata": {},
   "outputs": [],
   "source": [
    "(master_data2>>select(_.project_app_id, _.project_cycle, _.a2_ct_dist, _.a1_locode)).info()"
   ]
  },
  {
   "cell_type": "code",
   "execution_count": null,
   "id": "49f0c8c7-561e-4d14-b1ee-d95bac796c06",
   "metadata": {},
   "outputs": [],
   "source": [
    "(funded.iloc[:,0:20]).info()"
   ]
  },
  {
   "cell_type": "code",
   "execution_count": null,
   "id": "db072cbe-a7a5-451e-8ed9-ce33bc373c37",
   "metadata": {},
   "outputs": [],
   "source": [
    "merge_on = ['project_app_id', 'project_cycle', 'a2_ct_dist', 'a1_locode']"
   ]
  },
  {
   "cell_type": "code",
   "execution_count": null,
   "id": "b86aaf92-88f7-4058-981c-e4e47233ab11",
   "metadata": {},
   "outputs": [],
   "source": [
    "#pd.concat([subset,funded])"
   ]
  },
  {
   "cell_type": "code",
   "execution_count": null,
   "id": "f747a87e-117f-4601-b0d0-d9e4307e100f",
   "metadata": {},
   "outputs": [],
   "source": [
    "c1 = subset.select_dtypes(np.float).columns\n",
    "c1"
   ]
  },
  {
   "cell_type": "code",
   "execution_count": null,
   "id": "2dba82a8-f644-4566-96a9-e3c1b90f3dcf",
   "metadata": {},
   "outputs": [],
   "source": [
    "# will have suplicates for atp_id_x a3_proj_type_x\n",
    "(pd.merge(subset, funded, how='outer', on= merge_on, indicator='full_merge')).head()"
   ]
  },
  {
   "cell_type": "code",
   "execution_count": null,
   "id": "d868c493-6614-4473-8379-58aa73e9c14e",
   "metadata": {},
   "outputs": [],
   "source": [
    "(pd.merge(subset, funded, how='outer', on= merge_on, indicator='full_merge')).full_merge.value_counts()"
   ]
  },
  {
   "cell_type": "code",
   "execution_count": null,
   "id": "dce0f73f-1cc5-4679-9ff6-517e2b4bddd3",
   "metadata": {},
   "outputs": [],
   "source": [
    "(pd.merge(subset, funded, how='outer', on= merge_on, indicator='full_merge')).info()"
   ]
  },
  {
   "cell_type": "code",
   "execution_count": null,
   "id": "9b17eb3e-fdf4-4294-b347-c827f207ced5",
   "metadata": {},
   "outputs": [],
   "source": [
    "# subset data in app data (will concat data later) and keep full funded columns"
   ]
  },
  {
   "cell_type": "code",
   "execution_count": null,
   "id": "87a41419-03d9-4e2c-a435-249121535427",
   "metadata": {},
   "outputs": [],
   "source": []
  },
  {
   "cell_type": "code",
   "execution_count": null,
   "id": "54e7f6a2-42ec-44b6-87da-31f79242f10f",
   "metadata": {},
   "outputs": [],
   "source": []
  },
  {
   "cell_type": "code",
   "execution_count": null,
   "id": "e1100feb-9fa6-4f98-94a5-a105c7c58bf0",
   "metadata": {},
   "outputs": [],
   "source": []
  },
  {
   "cell_type": "markdown",
   "id": "1b5032f1-d731-4429-8709-8dc7c2dbdf72",
   "metadata": {
    "tags": []
   },
   "source": [
    "### test using merge"
   ]
  },
  {
   "cell_type": "code",
   "execution_count": null,
   "id": "19a1a872-6de8-47bf-9468-8fd5a846ae97",
   "metadata": {},
   "outputs": [],
   "source": [
    "#(pd.merge(master_data, funded, how='outer', on= merge_on, indicator='full_merge')).head()"
   ]
  },
  {
   "cell_type": "code",
   "execution_count": null,
   "id": "f6a978a1-d7ac-4479-8c7f-1e0631cc9453",
   "metadata": {},
   "outputs": [],
   "source": [
    "#(pd.merge(master_data, funded, how='outer', on=merge_on2, indicator='full_merge')).full_merge.value_counts()"
   ]
  },
  {
   "cell_type": "code",
   "execution_count": null,
   "id": "9de792ff-990e-4508-86d2-8815684ef456",
   "metadata": {},
   "outputs": [],
   "source": [
    "master_data.columns.intersection(funded.columns)"
   ]
  },
  {
   "cell_type": "code",
   "execution_count": null,
   "id": "63170403-2630-4d2e-875b-4b9e64613ec0",
   "metadata": {},
   "outputs": [],
   "source": [
    "master_data.columns.difference(funded.columns)"
   ]
  },
  {
   "cell_type": "code",
   "execution_count": null,
   "id": "7418db9f-33af-4405-a7c0-3816c09056f4",
   "metadata": {},
   "outputs": [],
   "source": [
    "funded.columns.difference(master_data.columns)"
   ]
  },
  {
   "cell_type": "code",
   "execution_count": null,
   "id": "ad643d10-a92c-4d05-be74-78e39defa1cf",
   "metadata": {},
   "outputs": [],
   "source": [
    "# # merging on all common columns does not work\n",
    "# merge_on3 = list(master_data.columns.intersection(funded.columns))"
   ]
  },
  {
   "cell_type": "code",
   "execution_count": null,
   "id": "e39c5283-2802-420c-9387-ba3bb0800c7d",
   "metadata": {},
   "outputs": [],
   "source": []
  },
  {
   "cell_type": "markdown",
   "id": "c082daa2-c918-448f-a1f2-f15aaf5f685a",
   "metadata": {},
   "source": [
    "* merging on [`project_app_id`, `project_cycle`, `a2_ct_dist`, `a1_locode`] "
   ]
  },
  {
   "cell_type": "code",
   "execution_count": null,
   "id": "247e5137-2302-4c4b-954e-cf02369f2311",
   "metadata": {},
   "outputs": [],
   "source": [
    "merge_on3 = ['project_app_id', 'project_cycle', 'a2_ct_dist', \n",
    "             # 'a1_locode', 'a2_county', 'a2_info_proj_name',\n",
    "             # 'a1_imp_agcy_name', \n",
    "              # 'a1_imp_agcy_street', 'a1_imp_agcy_city',\n",
    " # 'a1_imp_agcy_zip', 'a1_imp_agcy_title', 'a1_imp_agcy_ma', 'a1_imp_agcy_state_ma_num',\n",
    " # 'a1_imp_agcy_fed_ma_num', 'a1_proj_partner_exists', 'a1_proj_partner_agcy', 'a1_proj_partner_title',\n",
    " #'assembly_district', 'a2_assem_dist_a', 'a2_assem_dist_b', 'a2_assem_dist_c',\n",
    " #'congressional_district', 'a2_congress_dist_a', 'a2_congress_dist_b', 'a2_congress_dist_c', 'senate_district',\n",
    " #'a2_senate_dist_a', 'a2_senate_dist_b', 'a2_senatedistc', 'a2_info_proj_loc',\n",
    "  # 'a2_mop_uza_population', 'a2_mpo', 'a2_past_proj', 'a2_past_proj_qty',\n",
    "  # 'a2_proj_lat', 'a2_proj_long', 'a2_proj_scope_summary',\n",
    "  # 'a2_project_location_map', 'a2_rtpa', 'a3_plan_active_trans', 'a3_plan_active_trans_exists',\n",
    "  # 'a3_plan_bicycle', 'a3_plan_bicycle_exists', 'a3_plan_ped', 'a3_plan_ped_exists',\n",
    "  # 'a3_plan_srts', 'a3_plan_srts_exists', 'a3_st_bicycle_applies',\n",
    "  # 'a3_st_bicycle_pct', 'a3_st_num_schools', 'a3_st_ped_applies',\n",
    "   # 'a3_st_ped_pct', 'a3_st_srts', 'a3_trail_elig_cost', 'a3_trail_fed_funding',\n",
    "]"
   ]
  },
  {
   "cell_type": "code",
   "execution_count": null,
   "id": "4042e023-1fe9-493c-b3fc-3ba0396f5165",
   "metadata": {},
   "outputs": [],
   "source": []
  },
  {
   "cell_type": "code",
   "execution_count": null,
   "id": "d0775a0b-59af-45be-b1bb-ba2c66a8ac6f",
   "metadata": {
    "scrolled": true,
    "tags": []
   },
   "outputs": [],
   "source": [
    "#(master_data2[master_data2.columns.intersection(merge_on3)]).info()"
   ]
  },
  {
   "cell_type": "code",
   "execution_count": null,
   "id": "71df1b79-26b8-4f92-a47b-f5a159dd841e",
   "metadata": {
    "scrolled": true,
    "tags": []
   },
   "outputs": [],
   "source": [
    "#(master_data[master_data.columns.intersection(merge_on3)]).info()"
   ]
  },
  {
   "cell_type": "code",
   "execution_count": null,
   "id": "9369e391-53b3-4b68-9fff-f8d030eb12a9",
   "metadata": {},
   "outputs": [],
   "source": []
  },
  {
   "cell_type": "code",
   "execution_count": null,
   "id": "f588932f-b518-413e-abec-b8f9ec799928",
   "metadata": {},
   "outputs": [],
   "source": [
    "dfall = (pd.merge(master_data, funded, how='outer', on=merge_on3, indicator='full_merge'))"
   ]
  },
  {
   "cell_type": "code",
   "execution_count": null,
   "id": "ed35f3c8-f0df-42f4-8d03-ee869f956366",
   "metadata": {},
   "outputs": [],
   "source": [
    "dfall.full_merge.value_counts()"
   ]
  },
  {
   "cell_type": "code",
   "execution_count": null,
   "id": "5b7cc48b-2723-40c7-83c4-bf41245f0d95",
   "metadata": {},
   "outputs": [],
   "source": [
    "compare_entries = np.where(dfall[\"a1_imp_agcy_name_x\"] == dfall[\"a1_imp_agcy_name_y\"], True, False)\n",
    "dfall[\"compare_desc\"] = compare_entries"
   ]
  },
  {
   "cell_type": "code",
   "execution_count": null,
   "id": "558f70d4-ca9f-4027-a642-f7d15b629286",
   "metadata": {},
   "outputs": [],
   "source": [
    "dfall.compare_desc.value_counts()"
   ]
  },
  {
   "cell_type": "code",
   "execution_count": null,
   "id": "af0ab6ca-f919-43b8-98b6-73bdadd452c9",
   "metadata": {},
   "outputs": [],
   "source": [
    "dfall>>filter(_.compare_desc==False)>>select(_.a1_imp_agcy_name_x,  _.a1_imp_agcy_name_y)>>arrange(_.a1_imp_agcy_name_y)"
   ]
  },
  {
   "cell_type": "code",
   "execution_count": null,
   "id": "bd9491bb-8e63-45be-b5d0-c812347d8747",
   "metadata": {},
   "outputs": [],
   "source": [
    "dfall>>filter(_.full_merge=='right_only')"
   ]
  },
  {
   "cell_type": "code",
   "execution_count": null,
   "id": "861f2e3b-b4f2-4c97-a3a9-f1ed3c1e8b99",
   "metadata": {},
   "outputs": [],
   "source": [
    "dfall.info()"
   ]
  },
  {
   "cell_type": "code",
   "execution_count": null,
   "id": "96153b8e-dc07-4653-baad-dfe715c24886",
   "metadata": {
    "scrolled": true,
    "tags": []
   },
   "outputs": [],
   "source": [
    "# columns in common with the dfs we merged\n",
    "list(master_data.columns.intersection(funded.columns))"
   ]
  },
  {
   "cell_type": "code",
   "execution_count": null,
   "id": "d6481b6c-a79f-42f4-a1e0-bde317f4c728",
   "metadata": {},
   "outputs": [],
   "source": [
    "# (dfall.iloc[:,199:230]).info()"
   ]
  },
  {
   "cell_type": "code",
   "execution_count": null,
   "id": "e13ce9eb-0895-4be3-b075-1c45c99fe4e8",
   "metadata": {},
   "outputs": [],
   "source": [
    "dfall.sample()"
   ]
  },
  {
   "cell_type": "code",
   "execution_count": null,
   "id": "1e1c6ab0-3773-4b50-ae4c-ffbd98f28b20",
   "metadata": {
    "scrolled": true,
    "tags": []
   },
   "outputs": [],
   "source": [
    "dfall>>select(_.awarded_x, _.awarded_y,\n",
    "               # _['#_x'], _['#_y'],\n",
    "               # _.ppno_x, _.ppno_y,\n",
    "               # _.ppno_1_x, _.ppno_1_y,\n",
    "               _.a2_info_proj_descr_x, _.a2_info_proj_descr_y)>>filter(_.a2_info_proj_descr_y.notnull())"
   ]
  },
  {
   "cell_type": "code",
   "execution_count": null,
   "id": "29f7b13f-6414-4340-959a-de90e5f902c7",
   "metadata": {},
   "outputs": [],
   "source": [
    "compare_desc = np.where(dfall[\"a2_info_proj_descr_x\"] == dfall[\"a2_info_proj_descr_y\"], True, False)\n",
    "dfall[\"compare_proj_desc\"] = compare_desc"
   ]
  },
  {
   "cell_type": "code",
   "execution_count": null,
   "id": "8099a1f9-c9c7-4d31-8a7d-452a7867e6ab",
   "metadata": {},
   "outputs": [],
   "source": [
    "dfall.compare_proj_desc.value_counts()"
   ]
  },
  {
   "cell_type": "code",
   "execution_count": null,
   "id": "a087f600-9cf3-4216-847a-07c830bd4071",
   "metadata": {},
   "outputs": [],
   "source": [
    "#check that there are no mismatched entries\n",
    "dfall>>filter(_.compare_proj_desc==False)>>select(_.a2_info_proj_descr_x,  _.a2_info_proj_descr_y)>>arrange(_.a2_info_proj_descr_y)"
   ]
  },
  {
   "cell_type": "code",
   "execution_count": null,
   "id": "1d666267-1851-4803-9061-479f027287d0",
   "metadata": {},
   "outputs": [],
   "source": []
  },
  {
   "cell_type": "markdown",
   "id": "043cc86c-d913-431d-b605-e1a1a1e982e9",
   "metadata": {},
   "source": [
    "### test using concat"
   ]
  },
  {
   "cell_type": "code",
   "execution_count": null,
   "id": "1855183d-322c-469b-a2f9-03022b7f4495",
   "metadata": {},
   "outputs": [],
   "source": [
    "master_data.info()"
   ]
  },
  {
   "cell_type": "code",
   "execution_count": null,
   "id": "e1fd829a-1b01-4c15-8693-744ea00afc80",
   "metadata": {},
   "outputs": [],
   "source": [
    "funded.info()"
   ]
  },
  {
   "cell_type": "code",
   "execution_count": null,
   "id": "cb17621d-7b8d-46f2-b0e1-074d32dcd5e8",
   "metadata": {},
   "outputs": [],
   "source": [
    "dfall2 = (pd.concat([master_data, funded]))"
   ]
  },
  {
   "cell_type": "code",
   "execution_count": null,
   "id": "54bcc31e-c0af-46dc-96d7-71494e4ff218",
   "metadata": {},
   "outputs": [],
   "source": [
    "dfall2.info()"
   ]
  },
  {
   "cell_type": "code",
   "execution_count": null,
   "id": "d4819568-ad5e-4066-81a4-3a9e0135976d",
   "metadata": {},
   "outputs": [],
   "source": [
    "dfall2.sample()"
   ]
  },
  {
   "cell_type": "code",
   "execution_count": null,
   "id": "f2e94b41-f0ed-402c-943a-210dcd3dcd38",
   "metadata": {},
   "outputs": [],
   "source": [
    "len(dfall2>>group_by(_.project_app_id, _.project_cycle)>>summarize(n = _.awarded.nunique())>>arrange(_.n)>>filter(_.n>1))"
   ]
  },
  {
   "cell_type": "code",
   "execution_count": null,
   "id": "d46efb9d-0aca-46b0-b728-83ac88e14c99",
   "metadata": {},
   "outputs": [],
   "source": [
    "dfall2>>group_by(_.project_app_id, _.project_cycle)>>summarize(n = _.awarded.nunique())>>arrange(_.n)>>filter(_.n>1)"
   ]
  },
  {
   "cell_type": "code",
   "execution_count": null,
   "id": "af7a4a27-6b99-48cd-a5bb-832a4ec88c8c",
   "metadata": {},
   "outputs": [],
   "source": [
    "dfall2.awarded.value_counts()"
   ]
  },
  {
   "cell_type": "code",
   "execution_count": null,
   "id": "7f43e93b-7cbd-41dc-9d61-d2c5d71b13d9",
   "metadata": {},
   "outputs": [],
   "source": [
    "len(dfall2)"
   ]
  },
  {
   "cell_type": "code",
   "execution_count": null,
   "id": "18e25871-5b3f-4d51-a267-5992d032d4a6",
   "metadata": {},
   "outputs": [],
   "source": [
    "#dfall2['awarded'] = dfall2['awarded'].astype('category') \n",
    "# define the valid categories: \n",
    "#dfall2['awarded'] = dfall2['awarded'].cat.set_categories(['Y', 'N'], ordered=True) "
   ]
  },
  {
   "cell_type": "code",
   "execution_count": null,
   "id": "2d98b374-266a-46aa-a2e7-8581d48e2ae8",
   "metadata": {},
   "outputs": [],
   "source": [
    "dfall2.sort_values(['project_app_id','a2_proj_scope_summary', 'project_cycle', 'awarded'], inplace=True, ascending=True) "
   ]
  },
  {
   "cell_type": "code",
   "execution_count": null,
   "id": "5998aedd-6a53-439f-82bd-482dc82ed231",
   "metadata": {},
   "outputs": [],
   "source": [
    "(dfall2>>select(_.project_app_id, _.a2_proj_scope_summary, _.project_cycle, _.awarded, _.data_origin)).head(50)"
   ]
  },
  {
   "cell_type": "code",
   "execution_count": null,
   "id": "ae259070-5726-4a42-a1a3-72139d2d1c34",
   "metadata": {},
   "outputs": [],
   "source": [
    "dfall3 = dfall2.sort_values('awarded').drop_duplicates(subset=['project_app_id','a2_proj_scope_summary','project_cycle'], keep='first')"
   ]
  },
  {
   "cell_type": "code",
   "execution_count": null,
   "id": "62749a47-e21d-4290-8bf2-392acc554bc5",
   "metadata": {},
   "outputs": [],
   "source": [
    "dfall3>>select(_.project_app_id, _.a2_proj_scope_summary, _.project_cycle, _.awarded, _.data_origin)>>arrange(_.project_app_id)"
   ]
  },
  {
   "cell_type": "code",
   "execution_count": null,
   "id": "c2fab211-9864-4e7a-a056-94d0009fcf83",
   "metadata": {},
   "outputs": [],
   "source": [
    "(dfall3>>arrange(_.project_app_id, _.project_cycle)>>select(_.project_app_id, _.project_cycle, _.awarded, _.data_origin)).head(50)"
   ]
  },
  {
   "cell_type": "code",
   "execution_count": null,
   "id": "a86e5bf2-4795-4f28-acd1-d05a8c268b24",
   "metadata": {},
   "outputs": [],
   "source": [
    "#should have 882 - same number as the application data...\n",
    "len(dfall3)"
   ]
  },
  {
   "cell_type": "code",
   "execution_count": null,
   "id": "d535b570-debf-45f5-b8e0-cd13cb358ca7",
   "metadata": {},
   "outputs": [],
   "source": [
    "## the two that might show up twice may be from the changes in application name \n",
    "## same that did not merge in the first attempt\n",
    "#dfall>>filter(_.full_merge=='right_only')>>select(_.project_app_id, _.a2_proj_scope_summary_x, _.project_cycle, _.awarded_x)>>arrange(_.project_app_id)"
   ]
  },
  {
   "cell_type": "code",
   "execution_count": null,
   "id": "fb77e882-aa83-4c32-a325-e31420d09166",
   "metadata": {},
   "outputs": [],
   "source": [
    "#dfall>>filter(_.project_app_id=='4-Oakland, City of-2')>>select(_.project_app_id,_.a1_imp_agcy_name_x, _.a1_imp_agcy_name_y, _.project_cycle)"
   ]
  },
  {
   "cell_type": "code",
   "execution_count": null,
   "id": "5ebae2dd-1510-4cea-9288-08a655504c59",
   "metadata": {},
   "outputs": [],
   "source": []
  },
  {
   "cell_type": "code",
   "execution_count": null,
   "id": "d8d61b62-be13-4a7f-ba54-6ad1779acadc",
   "metadata": {},
   "outputs": [],
   "source": [
    "dfall3>>group_by(_.project_app_id, _.project_cycle)>>summarize(n = _.awarded.nunique())>>arrange(_.n)"
   ]
  },
  {
   "cell_type": "code",
   "execution_count": null,
   "id": "25b01791-170a-435e-9812-b479293540bb",
   "metadata": {},
   "outputs": [],
   "source": []
  },
  {
   "cell_type": "code",
   "execution_count": null,
   "id": "bc9e1abe-90a5-48ab-911a-ff314b6a6bb3",
   "metadata": {},
   "outputs": [],
   "source": [
    "dfall3.sample()"
   ]
  },
  {
   "cell_type": "code",
   "execution_count": null,
   "id": "cd7b264c-5af2-47b9-92a4-26196c8443b8",
   "metadata": {},
   "outputs": [],
   "source": [
    "# #unnamed cols originating in Funded data -- UPDATE NOW FIXED MANUALLY\n",
    "# unnamed_cols = [col for col in funded.columns if isinstance(col, str) and re.match('unnamed.*', col)]\n",
    "# unnamed_cols"
   ]
  },
  {
   "cell_type": "code",
   "execution_count": null,
   "id": "d8cb1fdd-5fee-494c-bbf0-83a585cab483",
   "metadata": {},
   "outputs": [],
   "source": []
  },
  {
   "cell_type": "markdown",
   "id": "65a22d53-7e48-4359-8480-9b92b06a98c0",
   "metadata": {},
   "source": [
    "## function for combining data - works"
   ]
  },
  {
   "cell_type": "code",
   "execution_count": null,
   "id": "440d05c9-208e-45f6-a721-716ee5aba08f",
   "metadata": {},
   "outputs": [],
   "source": [
    "def join_funding_and_app_data(df_funding,\n",
    "                              df_app,\n",
    "                              awarded_col: list = [],\n",
    "                             sort_values_cols: list = [],\n",
    "                             subset_cols: list = []\n",
    "                             ):\n",
    "    '''\n",
    "    columns in the funded and application data that we want to use\n",
    "    awarded_col= ['awarded'],\n",
    "    sort_values_cols = ['project_app_id','a2_proj_scope_summary', 'project_cycle', 'awarded'],\n",
    "    subset_cols = ['project_app_id','a2_proj_scope_summary','project_cycle']\n",
    "    '''\n",
    "    # concat the funding and app dataframes\n",
    "    df = (pd.concat([df_app, df_funding]))\n",
    "    \n",
    "    # take the awarded column and convert to a category so we can order by this column\n",
    "    df[awarded_col] = df[awarded_col].astype('category') \n",
    "    df[awarded_col] = df[awarded_col].cat.set_categories(['Y', 'N'], ordered=True) \n",
    "    \n",
    "    # sort values based on columns we defined (usually key like unique id, cycle)\n",
    "    #df = df.sort_values(sort_values_cols, inplace=True, ascending=True) \n",
    "    \n",
    "    # drop duplicates so we only get the funded data instead of the application data for a project that is selected\n",
    "    df_final = df.sort_values(awarded_col).drop_duplicates(subset=subset_cols, keep='first')\n",
    "    \n",
    "    return df_final"
   ]
  },
  {
   "cell_type": "code",
   "execution_count": null,
   "id": "1a64dbd3-6eab-422d-82e2-0bed9af99992",
   "metadata": {},
   "outputs": [],
   "source": [
    "df_test = join_funding_and_app_data(funded,\n",
    "                              master_data,\n",
    "                              awarded_col= 'awarded',\n",
    "                             sort_values_cols= ['project_app_id','a2_proj_scope_summary', 'project_cycle', 'awarded'],\n",
    "                             subset_cols = ['project_app_id','a2_proj_scope_summary','project_cycle']\n",
    "                             )"
   ]
  },
  {
   "cell_type": "code",
   "execution_count": null,
   "id": "5c1f71ae-af48-4f41-b8a3-c4cb0dd6b09a",
   "metadata": {},
   "outputs": [],
   "source": [
    "df_test.sort_values(['project_app_id','a2_proj_scope_summary', 'project_cycle', 'awarded'], inplace=True, ascending=True) "
   ]
  },
  {
   "cell_type": "code",
   "execution_count": null,
   "id": "ce2ff6bf-3ace-4304-b452-f0d95c135003",
   "metadata": {},
   "outputs": [],
   "source": [
    "(df_test>>select(_.project_app_id, _.a2_proj_scope_summary, _.project_cycle, _.awarded, _.data_origin)).head(50)"
   ]
  },
  {
   "cell_type": "code",
   "execution_count": null,
   "id": "10d774e5-a179-4623-8437-a40489234c4b",
   "metadata": {},
   "outputs": [],
   "source": [
    "df_test>>group_by(_.project_cycle)>>count(_.data_origin)"
   ]
  },
  {
   "cell_type": "code",
   "execution_count": null,
   "id": "07b5fdd3-b405-48fa-b5f4-19195a8a036e",
   "metadata": {},
   "outputs": [],
   "source": []
  },
  {
   "cell_type": "code",
   "execution_count": null,
   "id": "0212e092-c649-41c2-8b50-0fb3b91ee747",
   "metadata": {},
   "outputs": [],
   "source": []
  },
  {
   "cell_type": "code",
   "execution_count": null,
   "id": "8d81099e-d5bd-41cb-af95-a9b2b67d574a",
   "metadata": {},
   "outputs": [],
   "source": []
  },
  {
   "cell_type": "code",
   "execution_count": null,
   "id": "f1b5586d-97af-44f4-b49a-7d1ef94149e5",
   "metadata": {},
   "outputs": [],
   "source": []
  },
  {
   "cell_type": "code",
   "execution_count": null,
   "id": "fe7746a6-7b2f-4e71-94ee-ca7857e118ac",
   "metadata": {},
   "outputs": [],
   "source": []
  },
  {
   "cell_type": "code",
   "execution_count": null,
   "id": "83bae570-5519-4fc6-ba4d-65171dfc8047",
   "metadata": {
    "tags": []
   },
   "outputs": [],
   "source": []
  },
  {
   "cell_type": "code",
   "execution_count": null,
   "id": "fa232d37-0d5c-445e-8996-77ef493f8ebb",
   "metadata": {},
   "outputs": [],
   "source": []
  },
  {
   "cell_type": "markdown",
   "id": "a8068c21-c508-446a-b787-775fe6c3b498",
   "metadata": {
    "tags": []
   },
   "source": [
    "#### Check what columns are the duplicates"
   ]
  },
  {
   "cell_type": "code",
   "execution_count": null,
   "id": "da04baef-f534-41fe-8e79-90c6f7d697c7",
   "metadata": {},
   "outputs": [],
   "source": [
    "#https://stackoverflow.com/questions/61793094/find-column-whose-name-contains-a-specific-value-that-is-in-a-fixed-column"
   ]
  },
  {
   "cell_type": "code",
   "execution_count": null,
   "id": "c3599c7d-68f4-4c79-b6c4-689c506fd3cb",
   "metadata": {},
   "outputs": [],
   "source": [
    "import re                                                               "
   ]
  },
  {
   "cell_type": "code",
   "execution_count": null,
   "id": "a946b012-f452-4951-9bcd-10bc64279426",
   "metadata": {},
   "outputs": [],
   "source": [
    "dcolumns = [col for col in dfall.columns if isinstance(col, str) and re.match('.*_x', col)]"
   ]
  },
  {
   "cell_type": "code",
   "execution_count": null,
   "id": "ee04ecfb-e700-46cb-83a1-245252165ae6",
   "metadata": {},
   "outputs": [],
   "source": [
    "len(dcolumns)"
   ]
  },
  {
   "cell_type": "code",
   "execution_count": null,
   "id": "93e39db7-4f9d-4dcd-bfa1-588ed3f6254c",
   "metadata": {
    "scrolled": true,
    "tags": []
   },
   "outputs": [],
   "source": [
    "dcolumns"
   ]
  },
  {
   "cell_type": "code",
   "execution_count": null,
   "id": "13631617-4f10-4978-9895-43152797ae8f",
   "metadata": {},
   "outputs": [],
   "source": [
    "def remove_duplicate_cols(df, col_list):\n",
    "    for col_x in col_list:\n",
    "        df[col_x] = df[col_x].fillna(df[col_y])\n",
    "    "
   ]
  },
  {
   "cell_type": "code",
   "execution_count": null,
   "id": "81ddfb78-fa2a-47d1-9b38-d415395450a7",
   "metadata": {},
   "outputs": [],
   "source": [
    "dfall"
   ]
  },
  {
   "cell_type": "code",
   "execution_count": null,
   "id": "afdce7ee-4bc6-44fd-8007-b4fcec2ac43d",
   "metadata": {},
   "outputs": [],
   "source": []
  },
  {
   "cell_type": "code",
   "execution_count": null,
   "id": "99768bfa-4835-43ba-bd99-7b4308edfaff",
   "metadata": {},
   "outputs": [],
   "source": [
    "## list of all columns\n",
    "#col_list = sorted(dfall.columns.to_list())"
   ]
  },
  {
   "cell_type": "code",
   "execution_count": null,
   "id": "8d1617e5-fba6-4f00-9fc8-8c5df6ec3b7f",
   "metadata": {
    "scrolled": true,
    "tags": []
   },
   "outputs": [],
   "source": [
    "#col_list"
   ]
  },
  {
   "cell_type": "code",
   "execution_count": null,
   "id": "4912dbad-05b4-4e8c-9b93-502e1fda738a",
   "metadata": {},
   "outputs": [],
   "source": [
    "#dfall.columns.get_loc(\"a3_current_plan_x\")"
   ]
  },
  {
   "cell_type": "code",
   "execution_count": null,
   "id": "06ccdf73-480d-4e62-a9c8-3f8821b421fb",
   "metadata": {},
   "outputs": [],
   "source": [
    "# (dfall>>select(_.a3_proj_type, \n",
    "#                _.a3_proj_type_x,\n",
    "#               _.a3_proj_type_y)).info()"
   ]
  },
  {
   "cell_type": "markdown",
   "id": "3b641c49-7950-40de-8dba-608c64f2a72d",
   "metadata": {},
   "source": [
    "remove cols: \n",
    "* a3_proj_type_x"
   ]
  },
  {
   "cell_type": "code",
   "execution_count": null,
   "id": "40fbf2c3-19ad-4a3b-9a41-334e217854d5",
   "metadata": {},
   "outputs": [],
   "source": [
    "(dfall>>select(_.a3_proj_type, \n",
    "               _.a3_proj_type_x,\n",
    "              _.a3_proj_type_y))>>arrange(_.a3_proj_type_y)"
   ]
  },
  {
   "cell_type": "code",
   "execution_count": null,
   "id": "d0f08c57-4bce-4824-8a25-33ed4bf228b0",
   "metadata": {},
   "outputs": [],
   "source": [
    "#(dfall.iloc[:,64:70]).info()"
   ]
  },
  {
   "cell_type": "code",
   "execution_count": null,
   "id": "3bc60476-c7d0-46bc-b048-353fda96e459",
   "metadata": {},
   "outputs": [],
   "source": []
  },
  {
   "cell_type": "code",
   "execution_count": null,
   "id": "4d79bdb2-5e7b-4807-8e0e-6b4660f7bc74",
   "metadata": {},
   "outputs": [],
   "source": []
  },
  {
   "cell_type": "code",
   "execution_count": null,
   "id": "ec8719cf-37bf-48c5-bf9a-12dc1f409c69",
   "metadata": {},
   "outputs": [],
   "source": []
  },
  {
   "cell_type": "code",
   "execution_count": null,
   "id": "04a8f201-5eb9-4b7b-a40e-5d0de9f7865b",
   "metadata": {},
   "outputs": [],
   "source": []
  },
  {
   "cell_type": "code",
   "execution_count": null,
   "id": "2495b1b4-21f2-445d-a97d-f380e1bc3638",
   "metadata": {},
   "outputs": [],
   "source": []
  }
 ],
 "metadata": {
  "kernelspec": {
   "display_name": "Python 3 (ipykernel)",
   "language": "python",
   "name": "python3"
  },
  "language_info": {
   "codemirror_mode": {
    "name": "ipython",
    "version": 3
   },
   "file_extension": ".py",
   "mimetype": "text/x-python",
   "name": "python",
   "nbconvert_exporter": "python",
   "pygments_lexer": "ipython3",
   "version": "3.9.13"
  },
  "widgets": {
   "application/vnd.jupyter.widget-state+json": {
    "state": {},
    "version_major": 2,
    "version_minor": 0
   }
  }
 },
 "nbformat": 4,
 "nbformat_minor": 5
}
