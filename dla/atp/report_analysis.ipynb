{
 "cells": [
  {
   "cell_type": "markdown",
   "id": "7b9b7325-7a69-467a-af59-9e5974411587",
   "metadata": {},
   "source": [
    "# Active Transporation Program - State Component Report"
   ]
  },
  {
   "cell_type": "markdown",
   "id": "d8b6c21c-03a2-4a29-a8cd-20e1f5b92978",
   "metadata": {},
   "source": [
    "This report is an anlysis of the Active Transportation Program Application Cycles. Currently, this analysis is grouped at the *cycle* level. "
   ]
  },
  {
   "cell_type": "code",
   "execution_count": 1,
   "id": "6eee8d0c-6e66-4e3e-9507-ca8d7f1330ef",
   "metadata": {},
   "outputs": [],
   "source": [
    "import warnings\n",
    "warnings.filterwarnings('ignore')\n"
   ]
  },
  {
   "cell_type": "code",
   "execution_count": 2,
   "id": "dd2992c9-ca98-4774-b599-411ca38f3769",
   "metadata": {},
   "outputs": [],
   "source": [
    "%%capture\n",
    "import intake\n",
    "import numpy as np\n",
    "import pandas as pd\n",
    "import geopandas as gpd\n",
    "from calitp import to_snakecase\n",
    "from dla_utils import _dla_utils\n",
    "from IPython.display import HTML, Markdown\n",
    "from siuba import *\n",
    "from shared_utils import geography_utils\n",
    "from shared_utils import calitp_color_palette as cp\n",
    "from shared_utils import styleguide\n",
    "\n",
    "import altair as alt\n",
    "\n",
    "import _data_cleaning\n",
    "import _report_utils"
   ]
  },
  {
   "cell_type": "code",
   "execution_count": 3,
   "id": "574c019c-9cd2-41ea-be68-117a531c52e7",
   "metadata": {},
   "outputs": [],
   "source": [
    "import fiona\n",
    "\n",
    "from ipyleaflet import Map, GeoJSON, projections, basemaps, GeoData, LayersControl, WidgetControl, GeoJSON, LegendControl\n",
    "from ipywidgets import Text, HTML"
   ]
  },
  {
   "cell_type": "code",
   "execution_count": 4,
   "id": "aadb0d1f-b2e4-4f7f-9e17-e53124b5c23b",
   "metadata": {},
   "outputs": [],
   "source": [
    "GCS_FILE_PATH = 'gs://calitp-analytics-data/data-analyses/dla/atp/'\n"
   ]
  },
  {
   "cell_type": "code",
   "execution_count": 5,
   "id": "022e1341-d471-4eb8-a751-421703754ba3",
   "metadata": {},
   "outputs": [],
   "source": [
    "## read in data"
   ]
  },
  {
   "cell_type": "code",
   "execution_count": null,
   "id": "fc9f39a9-49f3-4290-9746-419616689511",
   "metadata": {
    "tags": []
   },
   "outputs": [],
   "source": [
    "df = _report_utils.read_in_joined_data()"
   ]
  },
  {
   "cell_type": "code",
   "execution_count": null,
   "id": "86189da4-7a89-40cd-adad-3cd1c5b686ba",
   "metadata": {},
   "outputs": [],
   "source": [
    "df = (_report_utils.reorder_namecol(df,\n",
    "                    og_name_col= 'a1_imp_agcy_name',\n",
    "                    new_name_col= 'imp_agency_name_new', \n",
    "                    split_on = \", \",\n",
    "                   order_on ='pt2_pt1'))"
   ]
  },
  {
   "cell_type": "code",
   "execution_count": null,
   "id": "e3330b9a-3d5b-4628-a869-89dbd9270ed1",
   "metadata": {},
   "outputs": [],
   "source": [
    "pd.set_option(\"display.max_columns\",500)"
   ]
  },
  {
   "cell_type": "code",
   "execution_count": null,
   "id": "8bb03fd8-92da-405b-86a6-9ab7d0f0a1de",
   "metadata": {
    "tags": [
     "Parameters"
    ]
   },
   "outputs": [],
   "source": [
    "## paramaters cell -- not using \n",
    "#district = 4"
   ]
  },
  {
   "cell_type": "code",
   "execution_count": null,
   "id": "9abe7463-f7a0-496a-ab71-c95efad47b42",
   "metadata": {
    "tags": [
     "Parameters"
    ]
   },
   "outputs": [],
   "source": [
    "## parameters cell\n",
    "cycle = 5"
   ]
  },
  {
   "cell_type": "code",
   "execution_count": null,
   "id": "9b6def9d-0d12-4a85-ae47-161c572f4228",
   "metadata": {},
   "outputs": [],
   "source": [
    "## subset df to just the district\n",
    "#df = df_all>>filter(_.a2_ct_dist==district)"
   ]
  },
  {
   "cell_type": "code",
   "execution_count": null,
   "id": "310748ca-50e6-46ff-bd96-34a77104a359",
   "metadata": {},
   "outputs": [],
   "source": [
    "df = df>>filter(_.project_cycle==cycle)"
   ]
  },
  {
   "cell_type": "code",
   "execution_count": null,
   "id": "5d9c4641-ebcd-4fcb-8695-45b742973cca",
   "metadata": {},
   "outputs": [],
   "source": [
    "## df with correct mapping coordinates\n",
    "df_map = _report_utils.prep_mapping_data(df)"
   ]
  },
  {
   "cell_type": "code",
   "execution_count": null,
   "id": "6b6ce7c4-7399-4127-bd8d-98a255a612e8",
   "metadata": {},
   "outputs": [],
   "source": [
    "## from amanda's notebook for Project prioritization: https://github.com/cal-itp/data-analyses/blob/main/project_prioritization/_utils.py\n",
    "shapes = \"https://gis.data.ca.gov/datasets/0144574f750f4ccc88749004aca6eb0c_0.geojson?outSR=%7B%22latestWkid%22%3A3857%2C%22wkid%22%3A102100%7D\"\n",
    "district_shapes = gpd.read_file(f\"{shapes}\").to_crs(epsg=4326)  \n",
    "\n",
    "## df with ct district level shapes\n",
    "by_dist = _report_utils.nunique_by_geography(df_map,\n",
    "                         district_shapes,\n",
    "                         groupby_cols = ['a2_ct_dist', 'data_origin'],\n",
    "                         agg_col=  'project_app_id',\n",
    "                         geodf_merge_on_col = 'DISTRICT',\n",
    "                         sum_merge_on_col = 'a2_ct_dist')"
   ]
  },
  {
   "cell_type": "code",
   "execution_count": null,
   "id": "abd46231-a7c4-47e7-8b3f-b1f303c06c88",
   "metadata": {},
   "outputs": [],
   "source": [
    "## long df with various district application counts (assembly, senate, congressional, caltrans)\n",
    "districts = _report_utils.get_district_level_data(by_dist, df_map)"
   ]
  },
  {
   "cell_type": "code",
   "execution_count": null,
   "id": "c155a9db-3271-4c5f-8e21-e1cd8771a109",
   "metadata": {},
   "outputs": [],
   "source": [
    "funded = df>>filter(_.awarded=='Y')"
   ]
  },
  {
   "cell_type": "code",
   "execution_count": null,
   "id": "95cf5d82-61cf-484b-aebc-309970e868ca",
   "metadata": {},
   "outputs": [],
   "source": []
  },
  {
   "cell_type": "code",
   "execution_count": null,
   "id": "2e330a16-7021-4078-8e80-878cf127a051",
   "metadata": {
    "tags": []
   },
   "outputs": [],
   "source": [
    "display(HTML(f\"<h2>Quick Look at Cycle {cycle}</h2>\"))\n",
    "\n",
    "display(HTML(f\"Out of {len(df)} Active Transportation Program Project Applications, \"\n",
    "            f\"there are <strong>{(df>>filter(_.awarded=='Y')).project_app_id.nunique()} \"\n",
    "            f\"projects</strong> that recieved funding over \"\n",
    "            f\"{df.project_cycle.nunique()} cycles.\"))\n"
   ]
  },
  {
   "cell_type": "code",
   "execution_count": null,
   "id": "278cf7b5-6898-4725-91e4-0bb87cb994a8",
   "metadata": {
    "tags": []
   },
   "outputs": [],
   "source": [
    "display(HTML(f\"<h4> What were the application outcomes \"\n",
    "             # f\"for District {district} \"\n",
    "             f\"in Cycle {cycle} across the State?</h4>\"))\n",
    "display(HTML(_dla_utils.pretify_tables((df>>count(_.data_origin)))))"
   ]
  },
  {
   "cell_type": "code",
   "execution_count": null,
   "id": "7117c6cc-cb20-4392-9e94-f284b0911621",
   "metadata": {},
   "outputs": [],
   "source": [
    "display(HTML(f'The total dollar amount awarded in Cycle {cycle} for the Statewide Component was '\n",
    "             f'<strong> {(\"${:,.2f}\".format((funded[\"total_atp_$\"].sum())))} </strong>'))"
   ]
  },
  {
   "cell_type": "code",
   "execution_count": null,
   "id": "02370177-c8b8-4911-aaaa-3de9f0e22a65",
   "metadata": {},
   "outputs": [],
   "source": [
    "by_dist = by_dist.rename(columns= {'a2_ct_dist':'Caltrans District'})"
   ]
  },
  {
   "cell_type": "code",
   "execution_count": null,
   "id": "93edb12e-b184-4d4b-adcd-d37fca33f5a3",
   "metadata": {},
   "outputs": [],
   "source": [
    "ct_dist_sr = by_dist>>select(_['Caltrans District'], _['Success Rate'])\n",
    "ct_dist_sr['Success Rate'] = ct_dist_sr['Success Rate'].transform(lambda x: '{:,.2%}'.format(x))\n"
   ]
  },
  {
   "cell_type": "code",
   "execution_count": null,
   "id": "ba8e3048-4321-40f2-9856-d48eb167a6a7",
   "metadata": {},
   "outputs": [],
   "source": [
    "display(HTML(f\"<h4>Caltrans District Success rate in Cycle {cycle}</h4>\"))\n",
    "\n",
    "display(HTML(_dla_utils.pretify_tables(ct_dist_sr)))"
   ]
  },
  {
   "cell_type": "code",
   "execution_count": null,
   "id": "c85e9f95-e707-46cd-b817-0a21c94605e6",
   "metadata": {},
   "outputs": [],
   "source": []
  },
  {
   "cell_type": "code",
   "execution_count": null,
   "id": "6539754a-9f9f-41d9-b826-0b8ed7c9db27",
   "metadata": {},
   "outputs": [],
   "source": [
    "count_proj_ct = (by_dist >> select(_['Caltrans District'], _.Application, _.Funded)\n",
    " >> gather('Application Status', 'Number of Projects', _.Application, _.Funded))>>arrange(_['Caltrans District'])\n"
   ]
  },
  {
   "cell_type": "code",
   "execution_count": null,
   "id": "1baa4362-ef99-4326-bd2e-406a89f95e3f",
   "metadata": {},
   "outputs": [],
   "source": [
    "ct_totals = (alt.Chart(count_proj_ct).mark_bar(size=30).encode(\n",
    "    x='Caltrans District',\n",
    "    y='Number of Projects',\n",
    "    color='Application Status',\n",
    "     tooltip=['Caltrans District','Application Status', 'Number of Projects']).properties(\n",
    "    width=600,\n",
    "    height=300))\n"
   ]
  },
  {
   "cell_type": "code",
   "execution_count": null,
   "id": "1a69c649-8004-45a7-9224-4b1f2bc42a28",
   "metadata": {},
   "outputs": [],
   "source": [
    "display(HTML(f\"<h4> Application Status by Caltrans District in Cycle {cycle}</h4>\"))\n",
    "\n",
    "ct_totals"
   ]
  },
  {
   "cell_type": "code",
   "execution_count": null,
   "id": "9bb78cb1-f4ea-4e7a-b5a7-7d1bd08c8463",
   "metadata": {
    "tags": []
   },
   "outputs": [],
   "source": []
  },
  {
   "cell_type": "markdown",
   "id": "7a6508a3-a4ee-4d79-8358-cdf215d7892f",
   "metadata": {},
   "source": [
    "## District Maps\n",
    "* Maps at the Assembly, Congressional, Senate, and Caltrans District Levels"
   ]
  },
  {
   "cell_type": "code",
   "execution_count": null,
   "id": "aee2a875-f1cd-4314-b394-afe99b87e34e",
   "metadata": {},
   "outputs": [],
   "source": [
    "import folium"
   ]
  },
  {
   "cell_type": "code",
   "execution_count": null,
   "id": "96ac603c-f474-435c-80df-56e2f635c66c",
   "metadata": {},
   "outputs": [],
   "source": []
  },
  {
   "cell_type": "code",
   "execution_count": null,
   "id": "ebe5a692-56c6-4df4-b6e0-5b273397dd9f",
   "metadata": {},
   "outputs": [],
   "source": [
    "display(HTML(\"<h3>Number of Applications by County</h3>\"))"
   ]
  },
  {
   "cell_type": "code",
   "execution_count": null,
   "id": "e91fd260-22fe-4d90-8d01-2bbcb844e27b",
   "metadata": {},
   "outputs": [],
   "source": [
    "m = by_dist.explore(\n",
    "     column=\"Application\", \n",
    "     legend=True,\n",
    "    cmap = 'Oranges',\n",
    "     legend_kwds=dict(colorbar=True),\n",
    "     tooltip=[\"DISTRICT\", \"Application\"], \n",
    "     name=\"Number of Applications by County\")\n",
    "\n",
    "df_map.explore(\n",
    "     m=m, \n",
    "     color=\"data_origin\", \n",
    "     marker_kwds=dict(radius=3, fill=True),\n",
    "     tooltip=[\"data_origin\", \"project_cycle\", \"imp_agency_name_new\", \"a1_imp_agcy_city\", \"a2_info_proj_name\"], \n",
    "     tooltip_kwds=dict(labels=True),\n",
    "     name=\"Project Locations\"\n",
    ")\n",
    "\n",
    "folium.TileLayer('Stamen Toner', control=True).add_to(m) \n",
    "folium.LayerControl().add_to(m)\n",
    "\n",
    "m"
   ]
  },
  {
   "cell_type": "code",
   "execution_count": null,
   "id": "6fbdb3d3-24f8-4bbc-a298-d040b0ef63b1",
   "metadata": {},
   "outputs": [],
   "source": []
  },
  {
   "cell_type": "code",
   "execution_count": null,
   "id": "e18db5eb-52c9-4ecd-b7c0-2f3d98394d20",
   "metadata": {},
   "outputs": [],
   "source": []
  },
  {
   "cell_type": "code",
   "execution_count": null,
   "id": "4c517eec-cf3b-4f1a-a745-5a21a77f95f8",
   "metadata": {},
   "outputs": [],
   "source": [
    "display(HTML(\"<h3>Mapping Option for Assembly Districts (or others)</h3>\"))"
   ]
  },
  {
   "cell_type": "code",
   "execution_count": null,
   "id": "9677fd1a-0de6-425f-bf17-0fb578bb876b",
   "metadata": {},
   "outputs": [],
   "source": [
    "_report_utils.map_districts(districts, \n",
    "                 district_type= \"Assembly District\",\n",
    "                 district_type_col= \"District Type\",\n",
    "                 mapping_col= \"Success Rate\",\n",
    "              tool_tip_cols= ['District Type', 'District', 'Success Rate'])"
   ]
  },
  {
   "cell_type": "code",
   "execution_count": null,
   "id": "e3cb8aef-0ead-4439-9ce9-5408a4456981",
   "metadata": {},
   "outputs": [],
   "source": []
  },
  {
   "cell_type": "code",
   "execution_count": null,
   "id": "c25c6294-4f49-439b-a5ea-e3a3af0b69f5",
   "metadata": {},
   "outputs": [],
   "source": []
  },
  {
   "cell_type": "code",
   "execution_count": null,
   "id": "1b2afd41-668e-4fd6-83a7-bf927ed8d607",
   "metadata": {},
   "outputs": [],
   "source": [
    "#display(HTML(\"<h3>Mapping Option for All Districts (dropdown)</h3>\"))"
   ]
  },
  {
   "cell_type": "code",
   "execution_count": null,
   "id": "478199c5-bcaa-4487-8bdd-8f45c8cebb3f",
   "metadata": {},
   "outputs": [],
   "source": [
    "#_report_utils.add_dropdown_map(districts)"
   ]
  },
  {
   "cell_type": "code",
   "execution_count": null,
   "id": "ced48df1-2388-4364-a277-359a7f776639",
   "metadata": {},
   "outputs": [],
   "source": []
  },
  {
   "cell_type": "code",
   "execution_count": null,
   "id": "f8dda8e2-3c5d-4bd9-a3a8-bca0ab9cc479",
   "metadata": {},
   "outputs": [],
   "source": [
    "## Metrics"
   ]
  },
  {
   "cell_type": "code",
   "execution_count": null,
   "id": "4aadcc90-ad07-4159-9e22-739a7df017f4",
   "metadata": {},
   "outputs": [],
   "source": [
    "# unique_agencies = df>>group_by(_.project_cycle, _.a2_county, _.data_origin)>>summarize(n_unique_agency= _.imp_agency_name_new.nunique())"
   ]
  },
  {
   "cell_type": "code",
   "execution_count": null,
   "id": "aa81acfc-b5b9-4b45-9409-cb917a01c1bc",
   "metadata": {},
   "outputs": [],
   "source": [
    "# unique_agencies =(spread(unique_agencies, \"data_origin\", \"n_unique_agency\"))"
   ]
  },
  {
   "cell_type": "code",
   "execution_count": null,
   "id": "0f4b767f-c6e6-4191-a043-3564223f51c6",
   "metadata": {},
   "outputs": [],
   "source": [
    "# unique_agencies = unique_agencies.rename(columns={\"a2_county\":\"county_name\"})"
   ]
  },
  {
   "cell_type": "code",
   "execution_count": null,
   "id": "9187743d-a4b6-449f-937b-3188c72dc841",
   "metadata": {},
   "outputs": [],
   "source": [
    "# unique_agencies['Application'].fillna(0, inplace=True)\n",
    "# unique_agencies['Funded'].fillna(0, inplace=True)"
   ]
  },
  {
   "cell_type": "code",
   "execution_count": null,
   "id": "fe8f9b66-a1b1-4944-85e4-a1908e49b6bb",
   "metadata": {},
   "outputs": [],
   "source": [
    "# unique_agencies['Application'] = unique_agencies['Application'].astype('int32')\n",
    "# unique_agencies['Funded'] = unique_agencies['Funded'].astype('int32')"
   ]
  },
  {
   "cell_type": "code",
   "execution_count": null,
   "id": "92ecf49d-05fe-499d-96a0-2c94eee155da",
   "metadata": {},
   "outputs": [],
   "source": [
    "# display(HTML(\"<h3>Number of Unique Agencies By County</h3>\"))\n",
    "# display(HTML(_dla_utils.pretify_tables(unique_agencies)))\n"
   ]
  },
  {
   "cell_type": "code",
   "execution_count": null,
   "id": "d3cb1012-5c05-4f90-a53e-18eac6538429",
   "metadata": {},
   "outputs": [],
   "source": []
  },
  {
   "cell_type": "markdown",
   "id": "1dd5cbf3-2472-4b3c-9d60-2c420e6b483c",
   "metadata": {},
   "source": [
    "## Application and Funded Project Details by District"
   ]
  },
  {
   "cell_type": "code",
   "execution_count": null,
   "id": "4dae3dd6-d800-49e2-af4e-fa7da7ea9a23",
   "metadata": {},
   "outputs": [],
   "source": [
    "from shared_utils import altair_utils"
   ]
  },
  {
   "cell_type": "code",
   "execution_count": null,
   "id": "8ead3940-86bb-4c6a-8a8f-0f4943714ea1",
   "metadata": {},
   "outputs": [],
   "source": []
  },
  {
   "cell_type": "markdown",
   "id": "2688828f-2855-46ff-9dc2-acb7390f6a21",
   "metadata": {},
   "source": [
    "### District 1 - Eureka"
   ]
  },
  {
   "cell_type": "code",
   "execution_count": null,
   "id": "38dbfe94-0ea6-439e-9a40-27739986648f",
   "metadata": {},
   "outputs": [],
   "source": [
    "_report_utils.map_dist_proj(funded, df, df_map, 1)"
   ]
  },
  {
   "cell_type": "code",
   "execution_count": null,
   "id": "17b78c60-2453-4467-b97e-1f59f99130a3",
   "metadata": {},
   "outputs": [],
   "source": []
  },
  {
   "cell_type": "markdown",
   "id": "962cdd09-9201-4fa7-87c3-abae90cb3991",
   "metadata": {},
   "source": [
    "### District 2 - Redding"
   ]
  },
  {
   "cell_type": "code",
   "execution_count": null,
   "id": "c203663c-ddef-4618-b19e-a7d49516e157",
   "metadata": {},
   "outputs": [],
   "source": [
    "_report_utils.map_dist_proj(funded, df, df_map, 2)"
   ]
  },
  {
   "cell_type": "code",
   "execution_count": null,
   "id": "5028d647-1504-4b99-93ba-58eaa2bdb4fe",
   "metadata": {},
   "outputs": [],
   "source": []
  },
  {
   "cell_type": "markdown",
   "id": "4454f080-bb79-4de3-a27c-214b5eaf46b6",
   "metadata": {},
   "source": [
    "### District 3 - Marysville"
   ]
  },
  {
   "cell_type": "code",
   "execution_count": null,
   "id": "bba61a14-6ae9-424d-a4b7-90601efa7786",
   "metadata": {},
   "outputs": [],
   "source": [
    "_report_utils.map_dist_proj(funded, df, df_map, 3)"
   ]
  },
  {
   "cell_type": "code",
   "execution_count": null,
   "id": "c797c8ea-e500-4ff9-9e7f-02f239d7ba8d",
   "metadata": {},
   "outputs": [],
   "source": [
    "#df>>filter(_.a1_imp_agcy_name==\"5002\")"
   ]
  },
  {
   "cell_type": "code",
   "execution_count": null,
   "id": "8ff5bc9a-3270-4eba-9228-a2f563eea06b",
   "metadata": {},
   "outputs": [],
   "source": [
    "#df>>filter(_.a1_imp_agcy_name==\"5447\")"
   ]
  },
  {
   "cell_type": "code",
   "execution_count": null,
   "id": "6f2e218f-fa52-4dbc-b1d6-a302ed06c6e7",
   "metadata": {},
   "outputs": [],
   "source": []
  },
  {
   "cell_type": "markdown",
   "id": "32b6e87b-0d7e-4cc3-bdee-658e420621ad",
   "metadata": {},
   "source": [
    "### District 4 - Oakland "
   ]
  },
  {
   "cell_type": "code",
   "execution_count": null,
   "id": "e950669c-2aca-4ea9-88bf-0863f7bba2f0",
   "metadata": {},
   "outputs": [],
   "source": [
    "_report_utils.map_dist_proj(funded, df, df_map, 4)"
   ]
  },
  {
   "cell_type": "code",
   "execution_count": null,
   "id": "591aa8a5-948a-48b0-8e8c-86445a230d32",
   "metadata": {},
   "outputs": [],
   "source": [
    "d4 = df_map>>filter(_.a2_ct_dist==4)"
   ]
  },
  {
   "cell_type": "code",
   "execution_count": null,
   "id": "a8c0c9a6-2548-44ae-9ccd-2e7f4e12551b",
   "metadata": {},
   "outputs": [],
   "source": [
    "display(HTML(f\"Out of {len(d4)} projects in District {d4['a2_ct_dist'].iloc[0]}, \"\n",
    "             f\"{len(d4>>filter(_.awarded=='Y'))} were funded\"))"
   ]
  },
  {
   "cell_type": "code",
   "execution_count": null,
   "id": "551c1a09-1c4b-4e66-bb3c-c0238a6f6198",
   "metadata": {},
   "outputs": [],
   "source": []
  },
  {
   "cell_type": "code",
   "execution_count": null,
   "id": "27a5b095-4221-4437-83cc-d48ecfd864c8",
   "metadata": {},
   "outputs": [],
   "source": []
  },
  {
   "cell_type": "code",
   "execution_count": null,
   "id": "211f8847-616d-489f-ba1d-22fb65957e3d",
   "metadata": {},
   "outputs": [],
   "source": []
  },
  {
   "cell_type": "markdown",
   "id": "b4b79edd-8c8d-4629-b3f3-ac8cfbfcd018",
   "metadata": {
    "tags": []
   },
   "source": [
    "### District 5 - San Luis Obispo"
   ]
  },
  {
   "cell_type": "code",
   "execution_count": null,
   "id": "53a0ab38-524a-457a-b2b5-e8a04ff82e7d",
   "metadata": {},
   "outputs": [],
   "source": [
    "_report_utils.map_dist_proj(funded, df, df_map, 5)"
   ]
  },
  {
   "cell_type": "code",
   "execution_count": null,
   "id": "83e222d1-536a-4d5e-b2a5-6e247e6cf5e0",
   "metadata": {},
   "outputs": [],
   "source": []
  },
  {
   "cell_type": "markdown",
   "id": "5d2b8d19-d531-4611-8ac2-8fe8d943ca43",
   "metadata": {},
   "source": [
    "### District 6 - Frenso"
   ]
  },
  {
   "cell_type": "code",
   "execution_count": null,
   "id": "0ef8c589-f486-4421-b922-c565a073930d",
   "metadata": {},
   "outputs": [],
   "source": [
    "_report_utils.map_dist_proj(funded, df, df_map, 6)"
   ]
  },
  {
   "cell_type": "code",
   "execution_count": null,
   "id": "4db4cb39-b8a6-4fea-b597-11d84d7cf407",
   "metadata": {},
   "outputs": [],
   "source": []
  },
  {
   "cell_type": "markdown",
   "id": "79dfb112-6e6b-47e8-965f-5a35294736e2",
   "metadata": {},
   "source": [
    "### District 7 - Los Angeles"
   ]
  },
  {
   "cell_type": "code",
   "execution_count": null,
   "id": "263cde0c-26ec-40f8-9657-898ad072d7b1",
   "metadata": {},
   "outputs": [],
   "source": [
    "_report_utils.map_dist_proj(funded, df, df_map, 7)"
   ]
  },
  {
   "cell_type": "code",
   "execution_count": null,
   "id": "a51f5c09-51cb-4f77-aefd-ce32b3bbff08",
   "metadata": {},
   "outputs": [],
   "source": []
  },
  {
   "cell_type": "markdown",
   "id": "8f4688cf-e9d4-48c2-821a-a4853408f7c1",
   "metadata": {},
   "source": [
    "### District 8 - San Bernardino"
   ]
  },
  {
   "cell_type": "code",
   "execution_count": null,
   "id": "563f3b0d-c503-4715-bee9-10646edb53d1",
   "metadata": {},
   "outputs": [],
   "source": [
    "_report_utils.map_dist_proj(funded, df, df_map, 8)"
   ]
  },
  {
   "cell_type": "code",
   "execution_count": null,
   "id": "5981075e-b3d0-4529-8d2b-9e682df328ad",
   "metadata": {},
   "outputs": [],
   "source": []
  },
  {
   "cell_type": "markdown",
   "id": "ab2c47e3-e2fd-4e2d-96e7-1e836d710f2f",
   "metadata": {},
   "source": [
    "### District 9 - Bishop"
   ]
  },
  {
   "cell_type": "code",
   "execution_count": null,
   "id": "6e21a5bd-c61b-4495-ae78-9cd374df49c2",
   "metadata": {},
   "outputs": [],
   "source": [
    "_report_utils.map_dist_proj(funded, df, df_map, 9)"
   ]
  },
  {
   "cell_type": "code",
   "execution_count": null,
   "id": "bba8c386-1b71-4d36-af39-20f135a77bfd",
   "metadata": {},
   "outputs": [],
   "source": []
  },
  {
   "cell_type": "markdown",
   "id": "4877ec9e-ba57-43d3-bfed-08fbaa500cee",
   "metadata": {},
   "source": [
    "### District 10 - Stockton"
   ]
  },
  {
   "cell_type": "code",
   "execution_count": null,
   "id": "231d86f4-700e-438a-bfb8-2216488521d1",
   "metadata": {},
   "outputs": [],
   "source": [
    "_report_utils.map_dist_proj(funded, df, df_map, 10)"
   ]
  },
  {
   "cell_type": "code",
   "execution_count": null,
   "id": "1373e8f1-27f7-4cac-9ff0-ac01101a0e7a",
   "metadata": {},
   "outputs": [],
   "source": []
  },
  {
   "cell_type": "markdown",
   "id": "f2eb8fc9-e6dd-4a85-bb01-1f8384e1c59a",
   "metadata": {},
   "source": [
    "### District 11 - San Diego"
   ]
  },
  {
   "cell_type": "code",
   "execution_count": null,
   "id": "d89bf032-1674-46ae-b920-b063285a8cb3",
   "metadata": {},
   "outputs": [],
   "source": [
    "_report_utils.map_dist_proj(funded, df, df_map, 11)"
   ]
  },
  {
   "cell_type": "code",
   "execution_count": null,
   "id": "3f5a79d2-6629-40e5-a85d-50b24859867a",
   "metadata": {},
   "outputs": [],
   "source": []
  },
  {
   "cell_type": "markdown",
   "id": "1e2aa78d-e70d-41e5-82af-eff29e42c5f4",
   "metadata": {},
   "source": [
    "### District 12 - Irvine"
   ]
  },
  {
   "cell_type": "code",
   "execution_count": null,
   "id": "50682580-01ce-49b2-a662-a4991da6a3e6",
   "metadata": {},
   "outputs": [],
   "source": [
    "_report_utils.map_dist_proj(funded, df, df_map, 12)"
   ]
  },
  {
   "cell_type": "code",
   "execution_count": null,
   "id": "e713c9a9-3774-4060-a548-f7278d1ad92f",
   "metadata": {},
   "outputs": [],
   "source": []
  },
  {
   "cell_type": "code",
   "execution_count": null,
   "id": "11214de8-92a1-4dd8-ba16-90449ad1c49f",
   "metadata": {},
   "outputs": [],
   "source": []
  },
  {
   "cell_type": "code",
   "execution_count": null,
   "id": "852d7490-bae8-47fd-9890-b388b75761ac",
   "metadata": {},
   "outputs": [],
   "source": []
  },
  {
   "cell_type": "code",
   "execution_count": null,
   "id": "c95fe977-f0de-4f1a-b89c-452834a9cc29",
   "metadata": {},
   "outputs": [],
   "source": []
  }
 ],
 "metadata": {
  "kernelspec": {
   "display_name": "Python 3 (ipykernel)",
   "language": "python",
   "name": "python3"
  },
  "language_info": {
   "codemirror_mode": {
    "name": "ipython",
    "version": 3
   },
   "file_extension": ".py",
   "mimetype": "text/x-python",
   "name": "python",
   "nbconvert_exporter": "python",
   "pygments_lexer": "ipython3",
   "version": "3.9.13"
  },
  "widgets": {
   "application/vnd.jupyter.widget-state+json": {
    "state": {},
    "version_major": 2,
    "version_minor": 0
   }
  }
 },
 "nbformat": 4,
 "nbformat_minor": 5
}
