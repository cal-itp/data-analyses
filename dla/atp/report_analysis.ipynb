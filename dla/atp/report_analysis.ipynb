{
 "cells": [
  {
   "cell_type": "markdown",
   "id": "7b9b7325-7a69-467a-af59-9e5974411587",
   "metadata": {},
   "source": [
    "# Notebook to prep functions for report"
   ]
  },
  {
   "cell_type": "markdown",
   "id": "d8b6c21c-03a2-4a29-a8cd-20e1f5b92978",
   "metadata": {},
   "source": [
    "* Grouped down to the DISTRICT and the CYCLE level"
   ]
  },
  {
   "cell_type": "code",
   "execution_count": 1,
   "id": "dd2992c9-ca98-4774-b599-411ca38f3769",
   "metadata": {},
   "outputs": [
    {
     "name": "stderr",
     "output_type": "stream",
     "text": [
      "/opt/conda/lib/python3.10/site-packages/geopandas/_compat.py:123: UserWarning: The Shapely GEOS version (3.10.3-CAPI-1.16.1) is incompatible with the GEOS version PyGEOS was compiled with (3.10.1-CAPI-1.16.0). Conversions between both will be slow.\n",
      "  warnings.warn(\n"
     ]
    }
   ],
   "source": [
    "import intake\n",
    "import numpy as np\n",
    "import pandas as pd\n",
    "import geopandas as gpd\n",
    "from calitp import to_snakecase\n",
    "from dla_utils import _dla_utils\n",
    "from IPython.display import HTML, Markdown\n",
    "from siuba import *\n",
    "from shared_utils import geography_utils\n",
    "\n",
    "import altair as alt\n",
    "\n",
    "import _data_cleaning\n",
    "import _report_utils"
   ]
  },
  {
   "cell_type": "code",
   "execution_count": 2,
   "id": "574c019c-9cd2-41ea-be68-117a531c52e7",
   "metadata": {},
   "outputs": [],
   "source": [
    "import fiona\n",
    "\n",
    "from ipyleaflet import Map, GeoJSON, projections, basemaps, GeoData, LayersControl, WidgetControl, GeoJSON, LegendControl\n",
    "from ipywidgets import Text, HTML"
   ]
  },
  {
   "cell_type": "code",
   "execution_count": 3,
   "id": "aadb0d1f-b2e4-4f7f-9e17-e53124b5c23b",
   "metadata": {},
   "outputs": [],
   "source": [
    "GCS_FILE_PATH = 'gs://calitp-analytics-data/data-analyses/dla/atp/'\n"
   ]
  },
  {
   "cell_type": "code",
   "execution_count": null,
   "id": "022e1341-d471-4eb8-a751-421703754ba3",
   "metadata": {},
   "outputs": [],
   "source": []
  },
  {
   "cell_type": "code",
   "execution_count": 4,
   "id": "fc9f39a9-49f3-4290-9746-419616689511",
   "metadata": {
    "tags": []
   },
   "outputs": [
    {
     "name": "stderr",
     "output_type": "stream",
     "text": [
      "/home/jovyan/data-analyses/dla/atp/_report_utils.py:67: FutureWarning: In a future version, the Index constructor will not infer numeric dtypes when passed object-dtype sequences (matching Series behavior)\n"
     ]
    }
   ],
   "source": [
    "df_all = _report_utils.read_in_joined_data()"
   ]
  },
  {
   "cell_type": "code",
   "execution_count": 5,
   "id": "e3330b9a-3d5b-4628-a869-89dbd9270ed1",
   "metadata": {},
   "outputs": [],
   "source": [
    "pd.set_option(\"display.max_columns\",500)"
   ]
  },
  {
   "cell_type": "code",
   "execution_count": 6,
   "id": "8bb03fd8-92da-405b-86a6-9ab7d0f0a1de",
   "metadata": {
    "tags": [
     "Parameters"
    ]
   },
   "outputs": [],
   "source": [
    "## paramaters cell\n",
    "district = 4"
   ]
  },
  {
   "cell_type": "code",
   "execution_count": 7,
   "id": "9abe7463-f7a0-496a-ab71-c95efad47b42",
   "metadata": {
    "tags": [
     "Parameters"
    ]
   },
   "outputs": [],
   "source": [
    "## parameters cell\n",
    "cycle = 5"
   ]
  },
  {
   "cell_type": "code",
   "execution_count": 8,
   "id": "9b6def9d-0d12-4a85-ae47-161c572f4228",
   "metadata": {},
   "outputs": [],
   "source": [
    "## subset df to just the district\n",
    "#df = df_all>>filter(_.a2_ct_dist==district)"
   ]
  },
  {
   "cell_type": "code",
   "execution_count": 9,
   "id": "9982e03e-a05a-480e-8371-54aa9a11f307",
   "metadata": {},
   "outputs": [],
   "source": [
    "df = df_all.copy()"
   ]
  },
  {
   "cell_type": "code",
   "execution_count": 10,
   "id": "310748ca-50e6-46ff-bd96-34a77104a359",
   "metadata": {},
   "outputs": [],
   "source": [
    "df = df>>filter(_.project_cycle==cycle)"
   ]
  },
  {
   "cell_type": "code",
   "execution_count": 11,
   "id": "e7e5d379-8270-4357-8a5c-e2336612edbd",
   "metadata": {},
   "outputs": [],
   "source": [
    "# #check where everything is mapped\n",
    "# df = df_all.copy()"
   ]
  },
  {
   "cell_type": "code",
   "execution_count": 12,
   "id": "2e330a16-7021-4078-8e80-878cf127a051",
   "metadata": {},
   "outputs": [
    {
     "data": {
      "application/vnd.jupyter.widget-view+json": {
       "model_id": "27fedb1c5d254c8887a77730e8a1a3b7",
       "version_major": 2,
       "version_minor": 0
      },
      "text/plain": [
       "HTML(value='<h2>Quick Stats</h2>')"
      ]
     },
     "metadata": {},
     "output_type": "display_data"
    },
    {
     "data": {
      "application/vnd.jupyter.widget-view+json": {
       "model_id": "e93431bd361d4081bdae3942bd5e1776",
       "version_major": 2,
       "version_minor": 0
      },
      "text/plain": [
       "HTML(value='Out of 450 Active Transportation Program Project Applications, there are <strong>49 projects</stro…"
      ]
     },
     "metadata": {},
     "output_type": "display_data"
    }
   ],
   "source": [
    "display(HTML(\"<h2>Quick Stats</h2>\"))\n",
    "\n",
    "display(HTML(f\"Out of {len(df)} Active Transportation Program Project Applications, \"\n",
    "            f\"there are <strong>{(df>>filter(_.awarded=='Y')).project_app_id.nunique()} \"\n",
    "            f\"projects</strong> that recieved funding over \"\n",
    "            f\"{df.project_cycle.nunique()} cycles\"))\n"
   ]
  },
  {
   "cell_type": "code",
   "execution_count": 13,
   "id": "278cf7b5-6898-4725-91e4-0bb87cb994a8",
   "metadata": {
    "tags": []
   },
   "outputs": [
    {
     "data": {
      "application/vnd.jupyter.widget-view+json": {
       "model_id": "69e56ecdfaf54691b5c9dbc9d42b4b01",
       "version_major": 2,
       "version_minor": 0
      },
      "text/plain": [
       "HTML(value='<h3> What were the application outcomes for District 4 in Cycle 5?</h3>')"
      ]
     },
     "metadata": {},
     "output_type": "display_data"
    },
    {
     "data": {
      "application/vnd.jupyter.widget-view+json": {
       "model_id": "fe4e70b37e1c4980b8729c966a6bb49c",
       "version_major": 2,
       "version_minor": 0
      },
      "text/plain": [
       "HTML(value='<style type=\"text/css\">\\n#T_e9d48 th {\\n  text-align: center;\\n}\\n#T_e9d48_row0_col0, #T_e9d48_row…"
      ]
     },
     "metadata": {},
     "output_type": "display_data"
    }
   ],
   "source": [
    "display(HTML(f\"<h3> What were the application outcomes \"\n",
    "             f\"for District {district} \"\n",
    "             f\"in Cycle {cycle}?</h3>\"))\n",
    "display(HTML(_dla_utils.pretify_tables((df>>count(_.data_origin)))))"
   ]
  },
  {
   "cell_type": "code",
   "execution_count": 14,
   "id": "e7e90a9f-f276-4c6e-b581-10479e7a2554",
   "metadata": {},
   "outputs": [],
   "source": [
    "quick_view = df>>filter(_.awarded==\"Y\")>>select(_.data_origin, _.a1_imp_agcy_name, _.a2_info_proj_name, \n",
    "                                   _.a2_county, _.total_project_cost)"
   ]
  },
  {
   "cell_type": "code",
   "execution_count": 15,
   "id": "39e7659f-0d2f-4a5c-982f-520694bd7a64",
   "metadata": {},
   "outputs": [],
   "source": [
    "quick_view['total_project_cost'] = quick_view['total_project_cost'].map('$ {:0,.2f}'.format)"
   ]
  },
  {
   "cell_type": "code",
   "execution_count": 16,
   "id": "0751bcff-b682-416e-8d64-5dec80f47a99",
   "metadata": {},
   "outputs": [
    {
     "data": {
      "application/vnd.jupyter.widget-view+json": {
       "model_id": "1a7a1806e6864e5483075eef01367242",
       "version_major": 2,
       "version_minor": 0
      },
      "text/plain": [
       "HTML(value='<h3> Funded Projects </h3>')"
      ]
     },
     "metadata": {},
     "output_type": "display_data"
    },
    {
     "data": {
      "application/vnd.jupyter.widget-view+json": {
       "model_id": "97f76b8c54364c4599890cf3196eea2d",
       "version_major": 2,
       "version_minor": 0
      },
      "text/plain": [
       "HTML(value='<style type=\"text/css\">\\n#T_6619b th {\\n  text-align: center;\\n}\\n#T_6619b_row0_col0, #T_6619b_row…"
      ]
     },
     "metadata": {},
     "output_type": "display_data"
    }
   ],
   "source": [
    "display(HTML(\"<h3> Funded Projects </h3>\"))\n",
    "display(HTML(_dla_utils.pretify_tables(quick_view)))"
   ]
  },
  {
   "cell_type": "code",
   "execution_count": null,
   "id": "1e192585-e2df-4b54-b045-59cb2ff834d9",
   "metadata": {},
   "outputs": [],
   "source": []
  },
  {
   "cell_type": "code",
   "execution_count": null,
   "id": "d2399d63-4f75-4a3e-9a22-a29fcf216a29",
   "metadata": {},
   "outputs": [],
   "source": []
  },
  {
   "cell_type": "code",
   "execution_count": 17,
   "id": "29244e0c-e1d5-4cfe-b3b6-95b8420f5b77",
   "metadata": {},
   "outputs": [],
   "source": [
    "#df>>group_by(_.awarded)>>count(_.a2_county)>>arrange(_.a2_county)"
   ]
  },
  {
   "cell_type": "code",
   "execution_count": null,
   "id": "baf9a66a-109f-44c4-9583-92d4bb4186c0",
   "metadata": {},
   "outputs": [],
   "source": []
  },
  {
   "cell_type": "code",
   "execution_count": null,
   "id": "9bb78cb1-f4ea-4e7a-b5a7-7d1bd08c8463",
   "metadata": {},
   "outputs": [],
   "source": []
  },
  {
   "cell_type": "markdown",
   "id": "7a6508a3-a4ee-4d79-8358-cdf215d7892f",
   "metadata": {},
   "source": [
    "## Mapping"
   ]
  },
  {
   "cell_type": "code",
   "execution_count": 18,
   "id": "a90cee47-ffaf-4c05-9a90-f937a43f8290",
   "metadata": {},
   "outputs": [],
   "source": [
    "df_map= (df >>select(_.awarded, _.project_app_id, _.project_cycle, _.data_origin, _.geometry,\n",
    "               _.a1_imp_agcy_city, _.a1_imp_agcy_name, _.a1_proj_partner_agcy, \n",
    "               _.assembly_district, _.congressional_district, _.senate_district,\n",
    "              _.a2_county, _.a2_info_proj_descr, _.a2_info_proj_loc, _.a2_info_proj_name,\n",
    "               _.a2_mop_uza_population, _.a2_mpo, _.a1_imp_agcy_street, _.a3_proj_type, \n",
    "               _.a3_proj_type, _['total_atp_$'], _.a2_proj_lat, _.a2_proj_long))"
   ]
  },
  {
   "cell_type": "code",
   "execution_count": 19,
   "id": "4b221505-56c8-486e-812a-9a63761c3cf9",
   "metadata": {},
   "outputs": [],
   "source": [
    "df_map = df_map>>filter(_.project_cycle==5)"
   ]
  },
  {
   "cell_type": "code",
   "execution_count": null,
   "id": "e4dabe22-7792-4afd-86ee-64dd990430a4",
   "metadata": {},
   "outputs": [],
   "source": []
  },
  {
   "cell_type": "code",
   "execution_count": 20,
   "id": "77fc63f7-6059-4585-8e4d-9776ff9ab95f",
   "metadata": {},
   "outputs": [],
   "source": [
    "## offloading incorrect mapping"
   ]
  },
  {
   "cell_type": "code",
   "execution_count": null,
   "id": "ced48df1-2388-4364-a277-359a7f776639",
   "metadata": {},
   "outputs": [],
   "source": []
  },
  {
   "cell_type": "markdown",
   "id": "13080127-a725-4700-991f-07bc07629f10",
   "metadata": {},
   "source": [
    "## Metrics"
   ]
  },
  {
   "cell_type": "code",
   "execution_count": 21,
   "id": "4aadcc90-ad07-4159-9e22-739a7df017f4",
   "metadata": {},
   "outputs": [],
   "source": [
    "unique_agencies = df>>group_by(_.project_cycle, _.a2_county, _.data_origin)>>summarize(n_unique_agency= _.a1_imp_agcy_name.nunique())"
   ]
  },
  {
   "cell_type": "code",
   "execution_count": 22,
   "id": "aa81acfc-b5b9-4b45-9409-cb917a01c1bc",
   "metadata": {},
   "outputs": [],
   "source": [
    "unique_agencies =(spread(unique_agencies, \"data_origin\", \"n_unique_agency\"))"
   ]
  },
  {
   "cell_type": "code",
   "execution_count": 23,
   "id": "0f4b767f-c6e6-4191-a043-3564223f51c6",
   "metadata": {},
   "outputs": [],
   "source": [
    "unique_agencies = unique_agencies.rename(columns={\"a2_county\":\"county_name\"})"
   ]
  },
  {
   "cell_type": "code",
   "execution_count": 24,
   "id": "9187743d-a4b6-449f-937b-3188c72dc841",
   "metadata": {},
   "outputs": [],
   "source": [
    "unique_agencies['Application'].fillna(0, inplace=True)\n",
    "unique_agencies['Funded'].fillna(0, inplace=True)"
   ]
  },
  {
   "cell_type": "code",
   "execution_count": 25,
   "id": "fe8f9b66-a1b1-4944-85e4-a1908e49b6bb",
   "metadata": {},
   "outputs": [],
   "source": [
    "unique_agencies['Application'] = unique_agencies['Application'].astype('int32')\n",
    "unique_agencies['Funded'] = unique_agencies['Funded'].astype('int32')"
   ]
  },
  {
   "cell_type": "code",
   "execution_count": 26,
   "id": "92ecf49d-05fe-499d-96a0-2c94eee155da",
   "metadata": {},
   "outputs": [
    {
     "data": {
      "application/vnd.jupyter.widget-view+json": {
       "model_id": "0b32a6bcc6bc49ed9544ad6e22f35741",
       "version_major": 2,
       "version_minor": 0
      },
      "text/plain": [
       "HTML(value='<h3>Number of Unique Agencies By County</h3>')"
      ]
     },
     "metadata": {},
     "output_type": "display_data"
    },
    {
     "data": {
      "application/vnd.jupyter.widget-view+json": {
       "model_id": "a4892a47f0c344a09ab0aa19f2316659",
       "version_major": 2,
       "version_minor": 0
      },
      "text/plain": [
       "HTML(value='<style type=\"text/css\">\\n#T_76f96 th {\\n  text-align: center;\\n}\\n#T_76f96_row0_col0, #T_76f96_row…"
      ]
     },
     "metadata": {},
     "output_type": "display_data"
    }
   ],
   "source": [
    "display(HTML(\"<h3>Number of Unique Agencies By County</h3>\"))\n",
    "display(HTML(_dla_utils.pretify_tables(unique_agencies)))\n"
   ]
  },
  {
   "cell_type": "code",
   "execution_count": null,
   "id": "d3cb1012-5c05-4f90-a53e-18eac6538429",
   "metadata": {},
   "outputs": [],
   "source": []
  },
  {
   "cell_type": "markdown",
   "id": "0ad6869f-ef70-40b3-a8ed-91dbaa37284c",
   "metadata": {},
   "source": [
    "### Success Rates"
   ]
  },
  {
   "cell_type": "code",
   "execution_count": 27,
   "id": "354cb837-61de-4de8-bb6e-0363959cad3f",
   "metadata": {},
   "outputs": [
    {
     "name": "stderr",
     "output_type": "stream",
     "text": [
      "/home/jovyan/data-analyses/dla/atp/_report_utils.py:202: FutureWarning: In a future version of pandas all arguments of StringMethods.split except for the argument 'pat' will be keyword-only.\n"
     ]
    }
   ],
   "source": [
    "df = (_report_utils.reorder_namecol(df,\n",
    "                    og_name_col= 'a1_imp_agcy_name',\n",
    "                    new_name_col= 'imp_agency_name_new', \n",
    "                    split_on = \", \",\n",
    "                   order_on ='pt2_pt1'))"
   ]
  },
  {
   "cell_type": "code",
   "execution_count": 28,
   "id": "f224a362-2106-4746-ae1a-972aae8f7213",
   "metadata": {},
   "outputs": [],
   "source": [
    "successes = (df>>group_by(_.awarded)>>count(_.imp_agency_name_new))>>spread(\"awarded\", \"n\")>>arrange(-_.Y)"
   ]
  },
  {
   "cell_type": "code",
   "execution_count": 29,
   "id": "2813ae94-5557-4b64-9fdf-03d241f7c704",
   "metadata": {},
   "outputs": [],
   "source": [
    "successes['total'] = (successes['N'] + successes['Y'])"
   ]
  },
  {
   "cell_type": "code",
   "execution_count": 30,
   "id": "bab293ea-80a7-42f5-8269-8e3ba6a2f088",
   "metadata": {},
   "outputs": [],
   "source": [
    "successes['success_rate'] = (successes['Y']/successes['total'])"
   ]
  },
  {
   "cell_type": "code",
   "execution_count": 31,
   "id": "6a83f36b-1198-4db8-b5e2-0d34a007f9c9",
   "metadata": {},
   "outputs": [],
   "source": [
    "successes = successes.rename(columns={\"imp_agency_name_new\":\"Implementing Agency\", \"N\":\"Projects Not Funded\",\n",
    "                                    \"Y\":\"Funded Projects\", \"total\":\"Total Applications\"})"
   ]
  },
  {
   "cell_type": "code",
   "execution_count": 32,
   "id": "c047f68f-42f6-495d-b008-7b6ebada9a8b",
   "metadata": {},
   "outputs": [],
   "source": [
    "successes_top = successes>>filter(_.success_rate>0)"
   ]
  },
  {
   "cell_type": "code",
   "execution_count": 33,
   "id": "70ed56ab-d9d3-4105-861b-205fce6beebe",
   "metadata": {},
   "outputs": [
    {
     "name": "stderr",
     "output_type": "stream",
     "text": [
      "/tmp/ipykernel_2350/3746543993.py:1: SettingWithCopyWarning: \n",
      "A value is trying to be set on a copy of a slice from a DataFrame.\n",
      "Try using .loc[row_indexer,col_indexer] = value instead\n",
      "\n",
      "See the caveats in the documentation: https://pandas.pydata.org/pandas-docs/stable/user_guide/indexing.html#returning-a-view-versus-a-copy\n"
     ]
    }
   ],
   "source": [
    "successes_top['success_rate'] = successes_top['success_rate'].transform(lambda x: '{:,.2%}'.format(x))"
   ]
  },
  {
   "cell_type": "code",
   "execution_count": 34,
   "id": "13089c3f-abed-4ba6-ba14-a052af5cc6aa",
   "metadata": {
    "tags": []
   },
   "outputs": [
    {
     "data": {
      "application/vnd.jupyter.widget-view+json": {
       "model_id": "f7ca636168cb4646ad776b27b74ef594",
       "version_major": 2,
       "version_minor": 0
      },
      "text/plain": [
       "HTML(value='<h3>Application Success Rate</h3>')"
      ]
     },
     "metadata": {},
     "output_type": "display_data"
    },
    {
     "data": {
      "application/vnd.jupyter.widget-view+json": {
       "model_id": "d5db1c1da0144ffea4812ac42f483ee4",
       "version_major": 2,
       "version_minor": 0
      },
      "text/plain": [
       "HTML(value='There are <strong>209</strong> implenting agencies with <strong> zero </strong>successful applicat…"
      ]
     },
     "metadata": {},
     "output_type": "display_data"
    },
    {
     "data": {
      "application/vnd.jupyter.widget-view+json": {
       "model_id": "0750de98b6254ea19b90acb1a1bbdbde",
       "version_major": 2,
       "version_minor": 0
      },
      "text/plain": [
       "HTML(value='There are <strong>42</strong> implenting agencies with <strong> one of more </strong>successful ap…"
      ]
     },
     "metadata": {},
     "output_type": "display_data"
    },
    {
     "data": {
      "application/vnd.jupyter.widget-view+json": {
       "model_id": "a38ae88c337845b1a5cd12e6cc36abe7",
       "version_major": 2,
       "version_minor": 0
      },
      "text/plain": [
       "HTML(value='</br><h4> Success Rates for Agencies with Successful Applications </h4>')"
      ]
     },
     "metadata": {},
     "output_type": "display_data"
    },
    {
     "data": {
      "application/vnd.jupyter.widget-view+json": {
       "model_id": "691006ee2d4d40b7ba09739117038ad5",
       "version_major": 2,
       "version_minor": 0
      },
      "text/plain": [
       "HTML(value='<style type=\"text/css\">\\n#T_2de67 th {\\n  text-align: center;\\n}\\n#T_2de67_row0_col0, #T_2de67_row…"
      ]
     },
     "metadata": {},
     "output_type": "display_data"
    }
   ],
   "source": [
    "display(HTML(\"<h3>Application Success Rate</h3>\"))\n",
    "\n",
    "display(HTML(f\"There are <strong>{len(successes>>filter(_.success_rate==0))}</strong> \"\n",
    "            f\"implenting agencies with <strong> zero </strong>\"\n",
    "            f\"successful applications.\"))\n",
    "\n",
    "display(HTML(f\"There are <strong>{len(successes>>filter(_.success_rate!=0))}</strong> \"\n",
    "            f\"implenting agencies with <strong> one of more </strong>\"\n",
    "            f\"successful applications.\"))\n",
    "    \n",
    "display(HTML(\"</br><h4> Success Rates for Agencies with Successful Applications </h4>\"))\n",
    "display(HTML(_dla_utils.pretify_tables(successes_top>>select(_['Implementing Agency'], _['Total Applications'], _.success_rate))))"
   ]
  },
  {
   "cell_type": "code",
   "execution_count": null,
   "id": "5cb67505-dc51-44da-88c8-2287622524c4",
   "metadata": {},
   "outputs": [],
   "source": []
  },
  {
   "cell_type": "code",
   "execution_count": null,
   "id": "443f8c41-dbf6-4cc6-b2c8-838d21d0c494",
   "metadata": {},
   "outputs": [],
   "source": []
  },
  {
   "cell_type": "code",
   "execution_count": null,
   "id": "574f9b04-8d43-4a81-8ff2-1773aa9897fc",
   "metadata": {},
   "outputs": [],
   "source": []
  },
  {
   "cell_type": "code",
   "execution_count": null,
   "id": "ea547e16-2247-4c74-aa62-19077a989d18",
   "metadata": {},
   "outputs": [],
   "source": []
  },
  {
   "cell_type": "code",
   "execution_count": null,
   "id": "227fbf63-7685-4708-8d53-a74d3cca1809",
   "metadata": {},
   "outputs": [],
   "source": []
  }
 ],
 "metadata": {
  "kernelspec": {
   "display_name": "Python 3 (ipykernel)",
   "language": "python",
   "name": "python3"
  },
  "language_info": {
   "codemirror_mode": {
    "name": "ipython",
    "version": 3
   },
   "file_extension": ".py",
   "mimetype": "text/x-python",
   "name": "python",
   "nbconvert_exporter": "python",
   "pygments_lexer": "ipython3",
   "version": "3.10.6"
  },
  "widgets": {
   "application/vnd.jupyter.widget-state+json": {
    "state": {
     "0750de98b6254ea19b90acb1a1bbdbde": {
      "model_module": "@jupyter-widgets/controls",
      "model_module_version": "1.5.0",
      "model_name": "HTMLModel",
      "state": {
       "layout": "IPY_MODEL_57604bcb724f4e19a3e2bd9267115247",
       "style": "IPY_MODEL_34e5465850564d6e9add414eb5014093",
       "value": "There are <strong>42</strong> implenting agencies with <strong> one of more </strong>successful applications."
      }
     },
     "08629d412f474689982961fb8b856130": {
      "model_module": "@jupyter-widgets/controls",
      "model_module_version": "1.5.0",
      "model_name": "DescriptionStyleModel",
      "state": {
       "description_width": ""
      }
     },
     "0b32a6bcc6bc49ed9544ad6e22f35741": {
      "model_module": "@jupyter-widgets/controls",
      "model_module_version": "1.5.0",
      "model_name": "HTMLModel",
      "state": {
       "layout": "IPY_MODEL_f4516b8a7b264fbb8a03e597e2e067f7",
       "style": "IPY_MODEL_74e45547242f4e23b15018343514484d",
       "value": "<h3>Number of Unique Agencies By County</h3>"
      }
     },
     "1a7a1806e6864e5483075eef01367242": {
      "model_module": "@jupyter-widgets/controls",
      "model_module_version": "1.5.0",
      "model_name": "HTMLModel",
      "state": {
       "layout": "IPY_MODEL_9f12cf98b5fd493eb96fdf9f29c97669",
       "style": "IPY_MODEL_4b328680c79241ff8c30ba474ee37844",
       "value": "<h3> Funded Projects </h3>"
      }
     },
     "2685897f815b42cdab1b5d16364e5682": {
      "model_module": "@jupyter-widgets/controls",
      "model_module_version": "1.5.0",
      "model_name": "DescriptionStyleModel",
      "state": {
       "description_width": ""
      }
     },
     "27fedb1c5d254c8887a77730e8a1a3b7": {
      "model_module": "@jupyter-widgets/controls",
      "model_module_version": "1.5.0",
      "model_name": "HTMLModel",
      "state": {
       "layout": "IPY_MODEL_ede069d014fc47f4bfbb4a71ebcf3adc",
       "style": "IPY_MODEL_bbb0f1fa84e74588a5c48c416fbb23f1",
       "value": "<h2>Quick Stats</h2>"
      }
     },
     "34e5465850564d6e9add414eb5014093": {
      "model_module": "@jupyter-widgets/controls",
      "model_module_version": "1.5.0",
      "model_name": "DescriptionStyleModel",
      "state": {
       "description_width": ""
      }
     },
     "3895fb84c46141be91a537951c079ca4": {
      "model_module": "@jupyter-widgets/base",
      "model_module_version": "1.2.0",
      "model_name": "LayoutModel",
      "state": {}
     },
     "3c6f105a7495495096ef1a5b99a0c4ca": {
      "model_module": "@jupyter-widgets/controls",
      "model_module_version": "1.5.0",
      "model_name": "DescriptionStyleModel",
      "state": {
       "description_width": ""
      }
     },
     "41e6475618f84ff8a64539f8802f69c4": {
      "model_module": "@jupyter-widgets/controls",
      "model_module_version": "1.5.0",
      "model_name": "DescriptionStyleModel",
      "state": {
       "description_width": ""
      }
     },
     "4b328680c79241ff8c30ba474ee37844": {
      "model_module": "@jupyter-widgets/controls",
      "model_module_version": "1.5.0",
      "model_name": "DescriptionStyleModel",
      "state": {
       "description_width": ""
      }
     },
     "53ec12d8fda24de9932d00210ee8259f": {
      "model_module": "@jupyter-widgets/controls",
      "model_module_version": "1.5.0",
      "model_name": "DescriptionStyleModel",
      "state": {
       "description_width": ""
      }
     },
     "57604bcb724f4e19a3e2bd9267115247": {
      "model_module": "@jupyter-widgets/base",
      "model_module_version": "1.2.0",
      "model_name": "LayoutModel",
      "state": {}
     },
     "5af1f851120346c3949bea7cdaf781d6": {
      "model_module": "@jupyter-widgets/base",
      "model_module_version": "1.2.0",
      "model_name": "LayoutModel",
      "state": {}
     },
     "691006ee2d4d40b7ba09739117038ad5": {
      "model_module": "@jupyter-widgets/controls",
      "model_module_version": "1.5.0",
      "model_name": "HTMLModel",
      "state": {
       "layout": "IPY_MODEL_ee7d61e302dc49b9b5f8125a84c544ad",
       "style": "IPY_MODEL_41e6475618f84ff8a64539f8802f69c4",
       "value": "<style type=\"text/css\">\n#T_2de67 th {\n  text-align: center;\n}\n#T_2de67_row0_col0, #T_2de67_row0_col1, #T_2de67_row0_col2, #T_2de67_row1_col0, #T_2de67_row1_col1, #T_2de67_row1_col2, #T_2de67_row2_col0, #T_2de67_row2_col1, #T_2de67_row2_col2, #T_2de67_row3_col0, #T_2de67_row3_col1, #T_2de67_row3_col2, #T_2de67_row4_col0, #T_2de67_row4_col1, #T_2de67_row4_col2, #T_2de67_row5_col0, #T_2de67_row5_col1, #T_2de67_row5_col2, #T_2de67_row6_col0, #T_2de67_row6_col1, #T_2de67_row6_col2, #T_2de67_row7_col0, #T_2de67_row7_col1, #T_2de67_row7_col2, #T_2de67_row8_col0, #T_2de67_row8_col1, #T_2de67_row8_col2, #T_2de67_row9_col0, #T_2de67_row9_col1, #T_2de67_row9_col2, #T_2de67_row10_col0, #T_2de67_row10_col1, #T_2de67_row10_col2, #T_2de67_row11_col0, #T_2de67_row11_col1, #T_2de67_row11_col2, #T_2de67_row12_col0, #T_2de67_row12_col1, #T_2de67_row12_col2, #T_2de67_row13_col0, #T_2de67_row13_col1, #T_2de67_row13_col2, #T_2de67_row14_col0, #T_2de67_row14_col1, #T_2de67_row14_col2, #T_2de67_row15_col0, #T_2de67_row15_col1, #T_2de67_row15_col2, #T_2de67_row16_col0, #T_2de67_row16_col1, #T_2de67_row16_col2, #T_2de67_row17_col0, #T_2de67_row17_col1, #T_2de67_row17_col2, #T_2de67_row18_col0, #T_2de67_row18_col1, #T_2de67_row18_col2, #T_2de67_row19_col0, #T_2de67_row19_col1, #T_2de67_row19_col2, #T_2de67_row20_col0, #T_2de67_row20_col1, #T_2de67_row20_col2, #T_2de67_row21_col0, #T_2de67_row21_col1, #T_2de67_row21_col2, #T_2de67_row22_col0, #T_2de67_row22_col1, #T_2de67_row22_col2, #T_2de67_row23_col0, #T_2de67_row23_col1, #T_2de67_row23_col2, #T_2de67_row24_col0, #T_2de67_row24_col1, #T_2de67_row24_col2, #T_2de67_row25_col0, #T_2de67_row25_col1, #T_2de67_row25_col2, #T_2de67_row26_col0, #T_2de67_row26_col1, #T_2de67_row26_col2, #T_2de67_row27_col0, #T_2de67_row27_col1, #T_2de67_row27_col2, #T_2de67_row28_col0, #T_2de67_row28_col1, #T_2de67_row28_col2, #T_2de67_row29_col0, #T_2de67_row29_col1, #T_2de67_row29_col2, #T_2de67_row30_col0, #T_2de67_row30_col1, #T_2de67_row30_col2, #T_2de67_row31_col0, #T_2de67_row31_col1, #T_2de67_row31_col2, #T_2de67_row32_col0, #T_2de67_row32_col1, #T_2de67_row32_col2, #T_2de67_row33_col0, #T_2de67_row33_col1, #T_2de67_row33_col2, #T_2de67_row34_col0, #T_2de67_row34_col1, #T_2de67_row34_col2, #T_2de67_row35_col0, #T_2de67_row35_col1, #T_2de67_row35_col2, #T_2de67_row36_col0, #T_2de67_row36_col1, #T_2de67_row36_col2, #T_2de67_row37_col0, #T_2de67_row37_col1, #T_2de67_row37_col2, #T_2de67_row38_col0, #T_2de67_row38_col1, #T_2de67_row38_col2, #T_2de67_row39_col0, #T_2de67_row39_col1, #T_2de67_row39_col2, #T_2de67_row40_col0, #T_2de67_row40_col1, #T_2de67_row40_col2, #T_2de67_row41_col0, #T_2de67_row41_col1, #T_2de67_row41_col2 {\n  text-align: center;\n}\n</style>\n<table id=\"T_2de67\">\n  <thead>\n    <tr>\n      <th id=\"T_2de67_level0_col0\" class=\"col_heading level0 col0\" >Implementing Agency</th>\n      <th id=\"T_2de67_level0_col1\" class=\"col_heading level0 col1\" >Total Applications</th>\n      <th id=\"T_2de67_level0_col2\" class=\"col_heading level0 col2\" >Success Rate</th>\n    </tr>\n  </thead>\n  <tbody>\n    <tr>\n      <td id=\"T_2de67_row0_col0\" class=\"data row0 col0\" >City of Los Angeles</td>\n      <td id=\"T_2de67_row0_col1\" class=\"data row0 col1\" >12</td>\n      <td id=\"T_2de67_row0_col2\" class=\"data row0 col2\" >33.33%</td>\n    </tr>\n    <tr>\n      <td id=\"T_2de67_row1_col0\" class=\"data row1 col0\" >City of Long Beach</td>\n      <td id=\"T_2de67_row1_col1\" class=\"data row1 col1\" >4</td>\n      <td id=\"T_2de67_row1_col2\" class=\"data row1 col2\" >50.00%</td>\n    </tr>\n    <tr>\n      <td id=\"T_2de67_row2_col0\" class=\"data row2 col0\" >City of Oakland</td>\n      <td id=\"T_2de67_row2_col1\" class=\"data row2 col1\" >6</td>\n      <td id=\"T_2de67_row2_col2\" class=\"data row2 col2\" >33.33%</td>\n    </tr>\n    <tr>\n      <td id=\"T_2de67_row3_col0\" class=\"data row3 col0\" >City of Redding</td>\n      <td id=\"T_2de67_row3_col1\" class=\"data row3 col1\" >3</td>\n      <td id=\"T_2de67_row3_col2\" class=\"data row3 col2\" >66.67%</td>\n    </tr>\n    <tr>\n      <td id=\"T_2de67_row4_col0\" class=\"data row4 col0\" >Mariposa County</td>\n      <td id=\"T_2de67_row4_col1\" class=\"data row4 col1\" >2</td>\n      <td id=\"T_2de67_row4_col2\" class=\"data row4 col2\" >100.00%</td>\n    </tr>\n    <tr>\n      <td id=\"T_2de67_row5_col0\" class=\"data row5 col0\" >City of Arcata</td>\n      <td id=\"T_2de67_row5_col1\" class=\"data row5 col1\" >1</td>\n      <td id=\"T_2de67_row5_col2\" class=\"data row5 col2\" >100.00%</td>\n    </tr>\n    <tr>\n      <td id=\"T_2de67_row6_col0\" class=\"data row6 col0\" >City of Bell Gardens</td>\n      <td id=\"T_2de67_row6_col1\" class=\"data row6 col1\" >1</td>\n      <td id=\"T_2de67_row6_col2\" class=\"data row6 col2\" >100.00%</td>\n    </tr>\n    <tr>\n      <td id=\"T_2de67_row7_col0\" class=\"data row7 col0\" >City of Clearlake</td>\n      <td id=\"T_2de67_row7_col1\" class=\"data row7 col1\" >1</td>\n      <td id=\"T_2de67_row7_col2\" class=\"data row7 col2\" >100.00%</td>\n    </tr>\n    <tr>\n      <td id=\"T_2de67_row8_col0\" class=\"data row8 col0\" >City of Corcoran</td>\n      <td id=\"T_2de67_row8_col1\" class=\"data row8 col1\" >1</td>\n      <td id=\"T_2de67_row8_col2\" class=\"data row8 col2\" >100.00%</td>\n    </tr>\n    <tr>\n      <td id=\"T_2de67_row9_col0\" class=\"data row9 col0\" >City of Delano</td>\n      <td id=\"T_2de67_row9_col1\" class=\"data row9 col1\" >2</td>\n      <td id=\"T_2de67_row9_col2\" class=\"data row9 col2\" >50.00%</td>\n    </tr>\n    <tr>\n      <td id=\"T_2de67_row10_col0\" class=\"data row10 col0\" >City of Fairfield</td>\n      <td id=\"T_2de67_row10_col1\" class=\"data row10 col1\" >1</td>\n      <td id=\"T_2de67_row10_col2\" class=\"data row10 col2\" >100.00%</td>\n    </tr>\n    <tr>\n      <td id=\"T_2de67_row11_col0\" class=\"data row11 col0\" >City of Fresno</td>\n      <td id=\"T_2de67_row11_col1\" class=\"data row11 col1\" >3</td>\n      <td id=\"T_2de67_row11_col2\" class=\"data row11 col2\" >33.33%</td>\n    </tr>\n    <tr>\n      <td id=\"T_2de67_row12_col0\" class=\"data row12 col0\" >City of Huron</td>\n      <td id=\"T_2de67_row12_col1\" class=\"data row12 col1\" >1</td>\n      <td id=\"T_2de67_row12_col2\" class=\"data row12 col2\" >100.00%</td>\n    </tr>\n    <tr>\n      <td id=\"T_2de67_row13_col0\" class=\"data row13 col0\" >City of Imperial Beach</td>\n      <td id=\"T_2de67_row13_col1\" class=\"data row13 col1\" >1</td>\n      <td id=\"T_2de67_row13_col2\" class=\"data row13 col2\" >100.00%</td>\n    </tr>\n    <tr>\n      <td id=\"T_2de67_row14_col0\" class=\"data row14 col0\" >City of Maywood</td>\n      <td id=\"T_2de67_row14_col1\" class=\"data row14 col1\" >1</td>\n      <td id=\"T_2de67_row14_col2\" class=\"data row14 col2\" >100.00%</td>\n    </tr>\n    <tr>\n      <td id=\"T_2de67_row15_col0\" class=\"data row15 col0\" >City of National City</td>\n      <td id=\"T_2de67_row15_col1\" class=\"data row15 col1\" >3</td>\n      <td id=\"T_2de67_row15_col2\" class=\"data row15 col2\" >33.33%</td>\n    </tr>\n    <tr>\n      <td id=\"T_2de67_row16_col0\" class=\"data row16 col0\" >City of Oceanside</td>\n      <td id=\"T_2de67_row16_col1\" class=\"data row16 col1\" >3</td>\n      <td id=\"T_2de67_row16_col2\" class=\"data row16 col2\" >33.33%</td>\n    </tr>\n    <tr>\n      <td id=\"T_2de67_row17_col0\" class=\"data row17 col0\" >City of Ontario</td>\n      <td id=\"T_2de67_row17_col1\" class=\"data row17 col1\" >3</td>\n      <td id=\"T_2de67_row17_col2\" class=\"data row17 col2\" >33.33%</td>\n    </tr>\n    <tr>\n      <td id=\"T_2de67_row18_col0\" class=\"data row18 col0\" >City of Perris</td>\n      <td id=\"T_2de67_row18_col1\" class=\"data row18 col1\" >1</td>\n      <td id=\"T_2de67_row18_col2\" class=\"data row18 col2\" >100.00%</td>\n    </tr>\n    <tr>\n      <td id=\"T_2de67_row19_col0\" class=\"data row19 col0\" >City of Porterville</td>\n      <td id=\"T_2de67_row19_col1\" class=\"data row19 col1\" >4</td>\n      <td id=\"T_2de67_row19_col2\" class=\"data row19 col2\" >25.00%</td>\n    </tr>\n    <tr>\n      <td id=\"T_2de67_row20_col0\" class=\"data row20 col0\" >City of Sacramento</td>\n      <td id=\"T_2de67_row20_col1\" class=\"data row20 col1\" >1</td>\n      <td id=\"T_2de67_row20_col2\" class=\"data row20 col2\" >100.00%</td>\n    </tr>\n    <tr>\n      <td id=\"T_2de67_row21_col0\" class=\"data row21 col0\" >City of Santa Barbara</td>\n      <td id=\"T_2de67_row21_col1\" class=\"data row21 col1\" >4</td>\n      <td id=\"T_2de67_row21_col2\" class=\"data row21 col2\" >25.00%</td>\n    </tr>\n    <tr>\n      <td id=\"T_2de67_row22_col0\" class=\"data row22 col0\" >City of Santa Cruz</td>\n      <td id=\"T_2de67_row22_col1\" class=\"data row22 col1\" >3</td>\n      <td id=\"T_2de67_row22_col2\" class=\"data row22 col2\" >33.33%</td>\n    </tr>\n    <tr>\n      <td id=\"T_2de67_row23_col0\" class=\"data row23 col0\" >City of Santa Monica</td>\n      <td id=\"T_2de67_row23_col1\" class=\"data row23 col1\" >2</td>\n      <td id=\"T_2de67_row23_col2\" class=\"data row23 col2\" >50.00%</td>\n    </tr>\n    <tr>\n      <td id=\"T_2de67_row24_col0\" class=\"data row24 col0\" >City of Seaside</td>\n      <td id=\"T_2de67_row24_col1\" class=\"data row24 col1\" >1</td>\n      <td id=\"T_2de67_row24_col2\" class=\"data row24 col2\" >100.00%</td>\n    </tr>\n    <tr>\n      <td id=\"T_2de67_row25_col0\" class=\"data row25 col0\" >City of South El Monte</td>\n      <td id=\"T_2de67_row25_col1\" class=\"data row25 col1\" >1</td>\n      <td id=\"T_2de67_row25_col2\" class=\"data row25 col2\" >100.00%</td>\n    </tr>\n    <tr>\n      <td id=\"T_2de67_row26_col0\" class=\"data row26 col0\" >City of Watsonville</td>\n      <td id=\"T_2de67_row26_col1\" class=\"data row26 col1\" >1</td>\n      <td id=\"T_2de67_row26_col2\" class=\"data row26 col2\" >100.00%</td>\n    </tr>\n    <tr>\n      <td id=\"T_2de67_row27_col0\" class=\"data row27 col0\" >City of West Sacramento</td>\n      <td id=\"T_2de67_row27_col1\" class=\"data row27 col1\" >2</td>\n      <td id=\"T_2de67_row27_col2\" class=\"data row27 col2\" >50.00%</td>\n    </tr>\n    <tr>\n      <td id=\"T_2de67_row28_col0\" class=\"data row28 col0\" >Contra Costa County</td>\n      <td id=\"T_2de67_row28_col1\" class=\"data row28 col1\" >6</td>\n      <td id=\"T_2de67_row28_col2\" class=\"data row28 col2\" >16.67%</td>\n    </tr>\n    <tr>\n      <td id=\"T_2de67_row29_col0\" class=\"data row29 col0\" >El Dorado County</td>\n      <td id=\"T_2de67_row29_col1\" class=\"data row29 col1\" >8</td>\n      <td id=\"T_2de67_row29_col2\" class=\"data row29 col2\" >12.50%</td>\n    </tr>\n    <tr>\n      <td id=\"T_2de67_row30_col0\" class=\"data row30 col0\" >Fresno County</td>\n      <td id=\"T_2de67_row30_col1\" class=\"data row30 col1\" >1</td>\n      <td id=\"T_2de67_row30_col2\" class=\"data row30 col2\" >100.00%</td>\n    </tr>\n    <tr>\n      <td id=\"T_2de67_row31_col0\" class=\"data row31 col0\" >Karuk Tribe</td>\n      <td id=\"T_2de67_row31_col1\" class=\"data row31 col1\" >1</td>\n      <td id=\"T_2de67_row31_col2\" class=\"data row31 col2\" >100.00%</td>\n    </tr>\n    <tr>\n      <td id=\"T_2de67_row32_col0\" class=\"data row32 col0\" >Riverside County</td>\n      <td id=\"T_2de67_row32_col1\" class=\"data row32 col1\" >9</td>\n      <td id=\"T_2de67_row32_col2\" class=\"data row32 col2\" >11.11%</td>\n    </tr>\n    <tr>\n      <td id=\"T_2de67_row33_col0\" class=\"data row33 col0\" >Sacramento County</td>\n      <td id=\"T_2de67_row33_col1\" class=\"data row33 col1\" >3</td>\n      <td id=\"T_2de67_row33_col2\" class=\"data row33 col2\" >33.33%</td>\n    </tr>\n    <tr>\n      <td id=\"T_2de67_row34_col0\" class=\"data row34 col0\" >San Bernardino County</td>\n      <td id=\"T_2de67_row34_col1\" class=\"data row34 col1\" >2</td>\n      <td id=\"T_2de67_row34_col2\" class=\"data row34 col2\" >50.00%</td>\n    </tr>\n    <tr>\n      <td id=\"T_2de67_row35_col0\" class=\"data row35 col0\" >San Diego Association of Governments (SANDAG)</td>\n      <td id=\"T_2de67_row35_col1\" class=\"data row35 col1\" >4</td>\n      <td id=\"T_2de67_row35_col2\" class=\"data row35 col2\" >25.00%</td>\n    </tr>\n    <tr>\n      <td id=\"T_2de67_row36_col0\" class=\"data row36 col0\" >San Luis Obispo County</td>\n      <td id=\"T_2de67_row36_col1\" class=\"data row36 col1\" >5</td>\n      <td id=\"T_2de67_row36_col2\" class=\"data row36 col2\" >20.00%</td>\n    </tr>\n    <tr>\n      <td id=\"T_2de67_row37_col0\" class=\"data row37 col0\" >Santa Clara County</td>\n      <td id=\"T_2de67_row37_col1\" class=\"data row37 col1\" >1</td>\n      <td id=\"T_2de67_row37_col2\" class=\"data row37 col2\" >100.00%</td>\n    </tr>\n    <tr>\n      <td id=\"T_2de67_row38_col0\" class=\"data row38 col0\" >Shasta County</td>\n      <td id=\"T_2de67_row38_col1\" class=\"data row38 col1\" >3</td>\n      <td id=\"T_2de67_row38_col2\" class=\"data row38 col2\" >33.33%</td>\n    </tr>\n    <tr>\n      <td id=\"T_2de67_row39_col0\" class=\"data row39 col0\" >Siskiyou County Transportation Commission</td>\n      <td id=\"T_2de67_row39_col1\" class=\"data row39 col1\" >1</td>\n      <td id=\"T_2de67_row39_col2\" class=\"data row39 col2\" >100.00%</td>\n    </tr>\n    <tr>\n      <td id=\"T_2de67_row40_col0\" class=\"data row40 col0\" >Tuolumne County</td>\n      <td id=\"T_2de67_row40_col1\" class=\"data row40 col1\" >1</td>\n      <td id=\"T_2de67_row40_col2\" class=\"data row40 col2\" >100.00%</td>\n    </tr>\n    <tr>\n      <td id=\"T_2de67_row41_col0\" class=\"data row41 col0\" >Ventura County</td>\n      <td id=\"T_2de67_row41_col1\" class=\"data row41 col1\" >3</td>\n      <td id=\"T_2de67_row41_col2\" class=\"data row41 col2\" >33.33%</td>\n    </tr>\n  </tbody>\n</table>\n"
      }
     },
     "69e56ecdfaf54691b5c9dbc9d42b4b01": {
      "model_module": "@jupyter-widgets/controls",
      "model_module_version": "1.5.0",
      "model_name": "HTMLModel",
      "state": {
       "layout": "IPY_MODEL_6af627b8fa8f44e19443f1c83222baf3",
       "style": "IPY_MODEL_79b65e2c30e24e158f6c98874283ffd7",
       "value": "<h3> What were the application outcomes for District 4 in Cycle 5?</h3>"
      }
     },
     "6af627b8fa8f44e19443f1c83222baf3": {
      "model_module": "@jupyter-widgets/base",
      "model_module_version": "1.2.0",
      "model_name": "LayoutModel",
      "state": {}
     },
     "74e45547242f4e23b15018343514484d": {
      "model_module": "@jupyter-widgets/controls",
      "model_module_version": "1.5.0",
      "model_name": "DescriptionStyleModel",
      "state": {
       "description_width": ""
      }
     },
     "79b65e2c30e24e158f6c98874283ffd7": {
      "model_module": "@jupyter-widgets/controls",
      "model_module_version": "1.5.0",
      "model_name": "DescriptionStyleModel",
      "state": {
       "description_width": ""
      }
     },
     "9623413d073345daad0f35a5f28a6f85": {
      "model_module": "@jupyter-widgets/controls",
      "model_module_version": "1.5.0",
      "model_name": "DescriptionStyleModel",
      "state": {
       "description_width": ""
      }
     },
     "97f76b8c54364c4599890cf3196eea2d": {
      "model_module": "@jupyter-widgets/controls",
      "model_module_version": "1.5.0",
      "model_name": "HTMLModel",
      "state": {
       "layout": "IPY_MODEL_3895fb84c46141be91a537951c079ca4",
       "style": "IPY_MODEL_08629d412f474689982961fb8b856130",
       "value": "<style type=\"text/css\">\n#T_6619b th {\n  text-align: center;\n}\n#T_6619b_row0_col0, #T_6619b_row0_col1, #T_6619b_row0_col2, #T_6619b_row0_col3, #T_6619b_row0_col4, #T_6619b_row1_col0, #T_6619b_row1_col1, #T_6619b_row1_col2, #T_6619b_row1_col3, #T_6619b_row1_col4, #T_6619b_row2_col0, #T_6619b_row2_col1, #T_6619b_row2_col2, #T_6619b_row2_col3, #T_6619b_row2_col4, #T_6619b_row3_col0, #T_6619b_row3_col1, #T_6619b_row3_col2, #T_6619b_row3_col3, #T_6619b_row3_col4, #T_6619b_row4_col0, #T_6619b_row4_col1, #T_6619b_row4_col2, #T_6619b_row4_col3, #T_6619b_row4_col4, #T_6619b_row5_col0, #T_6619b_row5_col1, #T_6619b_row5_col2, #T_6619b_row5_col3, #T_6619b_row5_col4, #T_6619b_row6_col0, #T_6619b_row6_col1, #T_6619b_row6_col2, #T_6619b_row6_col3, #T_6619b_row6_col4, #T_6619b_row7_col0, #T_6619b_row7_col1, #T_6619b_row7_col2, #T_6619b_row7_col3, #T_6619b_row7_col4, #T_6619b_row8_col0, #T_6619b_row8_col1, #T_6619b_row8_col2, #T_6619b_row8_col3, #T_6619b_row8_col4, #T_6619b_row9_col0, #T_6619b_row9_col1, #T_6619b_row9_col2, #T_6619b_row9_col3, #T_6619b_row9_col4, #T_6619b_row10_col0, #T_6619b_row10_col1, #T_6619b_row10_col2, #T_6619b_row10_col3, #T_6619b_row10_col4, #T_6619b_row11_col0, #T_6619b_row11_col1, #T_6619b_row11_col2, #T_6619b_row11_col3, #T_6619b_row11_col4, #T_6619b_row12_col0, #T_6619b_row12_col1, #T_6619b_row12_col2, #T_6619b_row12_col3, #T_6619b_row12_col4, #T_6619b_row13_col0, #T_6619b_row13_col1, #T_6619b_row13_col2, #T_6619b_row13_col3, #T_6619b_row13_col4, #T_6619b_row14_col0, #T_6619b_row14_col1, #T_6619b_row14_col2, #T_6619b_row14_col3, #T_6619b_row14_col4, #T_6619b_row15_col0, #T_6619b_row15_col1, #T_6619b_row15_col2, #T_6619b_row15_col3, #T_6619b_row15_col4, #T_6619b_row16_col0, #T_6619b_row16_col1, #T_6619b_row16_col2, #T_6619b_row16_col3, #T_6619b_row16_col4, #T_6619b_row17_col0, #T_6619b_row17_col1, #T_6619b_row17_col2, #T_6619b_row17_col3, #T_6619b_row17_col4, #T_6619b_row18_col0, #T_6619b_row18_col1, #T_6619b_row18_col2, #T_6619b_row18_col3, #T_6619b_row18_col4, #T_6619b_row19_col0, #T_6619b_row19_col1, #T_6619b_row19_col2, #T_6619b_row19_col3, #T_6619b_row19_col4, #T_6619b_row20_col0, #T_6619b_row20_col1, #T_6619b_row20_col2, #T_6619b_row20_col3, #T_6619b_row20_col4, #T_6619b_row21_col0, #T_6619b_row21_col1, #T_6619b_row21_col2, #T_6619b_row21_col3, #T_6619b_row21_col4, #T_6619b_row22_col0, #T_6619b_row22_col1, #T_6619b_row22_col2, #T_6619b_row22_col3, #T_6619b_row22_col4, #T_6619b_row23_col0, #T_6619b_row23_col1, #T_6619b_row23_col2, #T_6619b_row23_col3, #T_6619b_row23_col4, #T_6619b_row24_col0, #T_6619b_row24_col1, #T_6619b_row24_col2, #T_6619b_row24_col3, #T_6619b_row24_col4, #T_6619b_row25_col0, #T_6619b_row25_col1, #T_6619b_row25_col2, #T_6619b_row25_col3, #T_6619b_row25_col4, #T_6619b_row26_col0, #T_6619b_row26_col1, #T_6619b_row26_col2, #T_6619b_row26_col3, #T_6619b_row26_col4, #T_6619b_row27_col0, #T_6619b_row27_col1, #T_6619b_row27_col2, #T_6619b_row27_col3, #T_6619b_row27_col4, #T_6619b_row28_col0, #T_6619b_row28_col1, #T_6619b_row28_col2, #T_6619b_row28_col3, #T_6619b_row28_col4, #T_6619b_row29_col0, #T_6619b_row29_col1, #T_6619b_row29_col2, #T_6619b_row29_col3, #T_6619b_row29_col4, #T_6619b_row30_col0, #T_6619b_row30_col1, #T_6619b_row30_col2, #T_6619b_row30_col3, #T_6619b_row30_col4, #T_6619b_row31_col0, #T_6619b_row31_col1, #T_6619b_row31_col2, #T_6619b_row31_col3, #T_6619b_row31_col4, #T_6619b_row32_col0, #T_6619b_row32_col1, #T_6619b_row32_col2, #T_6619b_row32_col3, #T_6619b_row32_col4, #T_6619b_row33_col0, #T_6619b_row33_col1, #T_6619b_row33_col2, #T_6619b_row33_col3, #T_6619b_row33_col4, #T_6619b_row34_col0, #T_6619b_row34_col1, #T_6619b_row34_col2, #T_6619b_row34_col3, #T_6619b_row34_col4, #T_6619b_row35_col0, #T_6619b_row35_col1, #T_6619b_row35_col2, #T_6619b_row35_col3, #T_6619b_row35_col4, #T_6619b_row36_col0, #T_6619b_row36_col1, #T_6619b_row36_col2, #T_6619b_row36_col3, #T_6619b_row36_col4, #T_6619b_row37_col0, #T_6619b_row37_col1, #T_6619b_row37_col2, #T_6619b_row37_col3, #T_6619b_row37_col4, #T_6619b_row38_col0, #T_6619b_row38_col1, #T_6619b_row38_col2, #T_6619b_row38_col3, #T_6619b_row38_col4, #T_6619b_row39_col0, #T_6619b_row39_col1, #T_6619b_row39_col2, #T_6619b_row39_col3, #T_6619b_row39_col4, #T_6619b_row40_col0, #T_6619b_row40_col1, #T_6619b_row40_col2, #T_6619b_row40_col3, #T_6619b_row40_col4, #T_6619b_row41_col0, #T_6619b_row41_col1, #T_6619b_row41_col2, #T_6619b_row41_col3, #T_6619b_row41_col4, #T_6619b_row42_col0, #T_6619b_row42_col1, #T_6619b_row42_col2, #T_6619b_row42_col3, #T_6619b_row42_col4, #T_6619b_row43_col0, #T_6619b_row43_col1, #T_6619b_row43_col2, #T_6619b_row43_col3, #T_6619b_row43_col4, #T_6619b_row44_col0, #T_6619b_row44_col1, #T_6619b_row44_col2, #T_6619b_row44_col3, #T_6619b_row44_col4, #T_6619b_row45_col0, #T_6619b_row45_col1, #T_6619b_row45_col2, #T_6619b_row45_col3, #T_6619b_row45_col4, #T_6619b_row46_col0, #T_6619b_row46_col1, #T_6619b_row46_col2, #T_6619b_row46_col3, #T_6619b_row46_col4, #T_6619b_row47_col0, #T_6619b_row47_col1, #T_6619b_row47_col2, #T_6619b_row47_col3, #T_6619b_row47_col4, #T_6619b_row48_col0, #T_6619b_row48_col1, #T_6619b_row48_col2, #T_6619b_row48_col3, #T_6619b_row48_col4 {\n  text-align: center;\n}\n</style>\n<table id=\"T_6619b\">\n  <thead>\n    <tr>\n      <th id=\"T_6619b_level0_col0\" class=\"col_heading level0 col0\" >Data Origin</th>\n      <th id=\"T_6619b_level0_col1\" class=\"col_heading level0 col1\" >A1 Imp Agcy Name</th>\n      <th id=\"T_6619b_level0_col2\" class=\"col_heading level0 col2\" >A2 Info Proj Name</th>\n      <th id=\"T_6619b_level0_col3\" class=\"col_heading level0 col3\" >A2 County</th>\n      <th id=\"T_6619b_level0_col4\" class=\"col_heading level0 col4\" >Total Project Cost</th>\n    </tr>\n  </thead>\n  <tbody>\n    <tr>\n      <td id=\"T_6619b_row0_col0\" class=\"data row0 col0\" >Funded</td>\n      <td id=\"T_6619b_row0_col1\" class=\"data row0 col1\" >El Dorado County</td>\n      <td id=\"T_6619b_row0_col2\" class=\"data row0 col2\" >Pollock Pines - Pony Express Trail Bicycle and Pedestrian Improvements</td>\n      <td id=\"T_6619b_row0_col3\" class=\"data row0 col3\" >El Dorado</td>\n      <td id=\"T_6619b_row0_col4\" class=\"data row0 col4\" >$ 2,000,000.00</td>\n    </tr>\n    <tr>\n      <td id=\"T_6619b_row1_col0\" class=\"data row1 col0\" >Funded</td>\n      <td id=\"T_6619b_row1_col1\" class=\"data row1 col1\" >Karuk Tribe</td>\n      <td id=\"T_6619b_row1_col2\" class=\"data row1 col2\" >Happy Camp Complete Streets Project</td>\n      <td id=\"T_6619b_row1_col3\" class=\"data row1 col3\" >Siskiyou</td>\n      <td id=\"T_6619b_row1_col4\" class=\"data row1 col4\" >$ 12,221,000.00</td>\n    </tr>\n    <tr>\n      <td id=\"T_6619b_row2_col0\" class=\"data row2 col0\" >Funded</td>\n      <td id=\"T_6619b_row2_col1\" class=\"data row2 col1\" >Bell Gardens, City of</td>\n      <td id=\"T_6619b_row2_col2\" class=\"data row2 col2\" >Bell Gardens Complete Streets Improvements - Phase 1</td>\n      <td id=\"T_6619b_row2_col3\" class=\"data row2 col3\" >Los Angeles</td>\n      <td id=\"T_6619b_row2_col4\" class=\"data row2 col4\" >$ 6,999,000.00</td>\n    </tr>\n    <tr>\n      <td id=\"T_6619b_row3_col0\" class=\"data row3 col0\" >Funded</td>\n      <td id=\"T_6619b_row3_col1\" class=\"data row3 col1\" >Redding, City of</td>\n      <td id=\"T_6619b_row3_col2\" class=\"data row3 col2\" >Turtle Bay to Downtown Gap Completion Project</td>\n      <td id=\"T_6619b_row3_col3\" class=\"data row3 col3\" >Shasta</td>\n      <td id=\"T_6619b_row3_col4\" class=\"data row3 col4\" >$ 3,935,000.00</td>\n    </tr>\n    <tr>\n      <td id=\"T_6619b_row4_col0\" class=\"data row4 col0\" >Funded</td>\n      <td id=\"T_6619b_row4_col1\" class=\"data row4 col1\" >Clearlake, City of</td>\n      <td id=\"T_6619b_row4_col2\" class=\"data row4 col2\" >Dam Road Extension & South Center Drive Bike/Pedestrian Improvements</td>\n      <td id=\"T_6619b_row4_col3\" class=\"data row4 col3\" >Lake</td>\n      <td id=\"T_6619b_row4_col4\" class=\"data row4 col4\" >$ 997,000.00</td>\n    </tr>\n    <tr>\n      <td id=\"T_6619b_row5_col0\" class=\"data row5 col0\" >Funded</td>\n      <td id=\"T_6619b_row5_col1\" class=\"data row5 col1\" >Oakland, City of</td>\n      <td id=\"T_6619b_row5_col2\" class=\"data row5 col2\" >7th Street Connection Project</td>\n      <td id=\"T_6619b_row5_col3\" class=\"data row5 col3\" >Alameda</td>\n      <td id=\"T_6619b_row5_col4\" class=\"data row5 col4\" >$ 21,037,000.00</td>\n    </tr>\n    <tr>\n      <td id=\"T_6619b_row6_col0\" class=\"data row6 col0\" >Funded</td>\n      <td id=\"T_6619b_row6_col1\" class=\"data row6 col1\" >Shasta County</td>\n      <td id=\"T_6619b_row6_col2\" class=\"data row6 col2\" >Cottonwood Active Transportation Trunk Line Express (CATTLE) Network</td>\n      <td id=\"T_6619b_row6_col3\" class=\"data row6 col3\" >Shasta</td>\n      <td id=\"T_6619b_row6_col4\" class=\"data row6 col4\" >$ 17,844,000.00</td>\n    </tr>\n    <tr>\n      <td id=\"T_6619b_row7_col0\" class=\"data row7 col0\" >Funded</td>\n      <td id=\"T_6619b_row7_col1\" class=\"data row7 col1\" >Santa Clara County</td>\n      <td id=\"T_6619b_row7_col2\" class=\"data row7 col2\" >Active and Safe Routes to a Healthier City </td>\n      <td id=\"T_6619b_row7_col3\" class=\"data row7 col3\" >Santa Clara</td>\n      <td id=\"T_6619b_row7_col4\" class=\"data row7 col4\" >$ 2,510,000.00</td>\n    </tr>\n    <tr>\n      <td id=\"T_6619b_row8_col0\" class=\"data row8 col0\" >Funded</td>\n      <td id=\"T_6619b_row8_col1\" class=\"data row8 col1\" >Siskiyou County Transportation Commission</td>\n      <td id=\"T_6619b_row8_col2\" class=\"data row8 col2\" >Siskiyou- Regional Active Transportation Plan</td>\n      <td id=\"T_6619b_row8_col3\" class=\"data row8 col3\" >Siskiyou</td>\n      <td id=\"T_6619b_row8_col4\" class=\"data row8 col4\" >$ 212,000.00</td>\n    </tr>\n    <tr>\n      <td id=\"T_6619b_row9_col0\" class=\"data row9 col0\" >Funded</td>\n      <td id=\"T_6619b_row9_col1\" class=\"data row9 col1\" >Oakland, City of</td>\n      <td id=\"T_6619b_row9_col2\" class=\"data row9 col2\" >East Oakland Neighborhood Bike Routes</td>\n      <td id=\"T_6619b_row9_col3\" class=\"data row9 col3\" >Alameda</td>\n      <td id=\"T_6619b_row9_col4\" class=\"data row9 col4\" >$ 21,859,000.00</td>\n    </tr>\n    <tr>\n      <td id=\"T_6619b_row10_col0\" class=\"data row10 col0\" >Funded</td>\n      <td id=\"T_6619b_row10_col1\" class=\"data row10 col1\" >Arcata, City of</td>\n      <td id=\"T_6619b_row10_col2\" class=\"data row10 col2\" >Arcata Annie & Mary Trail Connectivity Project</td>\n      <td id=\"T_6619b_row10_col3\" class=\"data row10 col3\" >Humboldt</td>\n      <td id=\"T_6619b_row10_col4\" class=\"data row10 col4\" >$ 5,286,000.00</td>\n    </tr>\n    <tr>\n      <td id=\"T_6619b_row11_col0\" class=\"data row11 col0\" >Funded</td>\n      <td id=\"T_6619b_row11_col1\" class=\"data row11 col1\" >San Bernardino County</td>\n      <td id=\"T_6619b_row11_col2\" class=\"data row11 col2\" >Muscoy Area Safe Routes to School Pedestrian Improvements Project</td>\n      <td id=\"T_6619b_row11_col3\" class=\"data row11 col3\" >San Bernardino</td>\n      <td id=\"T_6619b_row11_col4\" class=\"data row11 col4\" >$ 2,355,000.00</td>\n    </tr>\n    <tr>\n      <td id=\"T_6619b_row12_col0\" class=\"data row12 col0\" >Funded</td>\n      <td id=\"T_6619b_row12_col1\" class=\"data row12 col1\" >Corcoran, City of</td>\n      <td id=\"T_6619b_row12_col2\" class=\"data row12 col2\" >Corcoran Safe Routes to School</td>\n      <td id=\"T_6619b_row12_col3\" class=\"data row12 col3\" >Kings</td>\n      <td id=\"T_6619b_row12_col4\" class=\"data row12 col4\" >$ 1,998,000.00</td>\n    </tr>\n    <tr>\n      <td id=\"T_6619b_row13_col0\" class=\"data row13 col0\" >Funded</td>\n      <td id=\"T_6619b_row13_col1\" class=\"data row13 col1\" >Mariposa County</td>\n      <td id=\"T_6619b_row13_col2\" class=\"data row13 col2\" >Mariposa Elementary School Connectivity Project</td>\n      <td id=\"T_6619b_row13_col3\" class=\"data row13 col3\" >MPA </td>\n      <td id=\"T_6619b_row13_col4\" class=\"data row13 col4\" >$ 1,900,000.00</td>\n    </tr>\n    <tr>\n      <td id=\"T_6619b_row14_col0\" class=\"data row14 col0\" >Funded</td>\n      <td id=\"T_6619b_row14_col1\" class=\"data row14 col1\" >Santa Cruz, City of</td>\n      <td id=\"T_6619b_row14_col2\" class=\"data row14 col2\" >Santa Cruz Rail Trail Segment 7 Phase 2 Construction</td>\n      <td id=\"T_6619b_row14_col3\" class=\"data row14 col3\" >Santa Cruz</td>\n      <td id=\"T_6619b_row14_col4\" class=\"data row14 col4\" >$ 12,030,000.00</td>\n    </tr>\n    <tr>\n      <td id=\"T_6619b_row15_col0\" class=\"data row15 col0\" >Funded</td>\n      <td id=\"T_6619b_row15_col1\" class=\"data row15 col1\" >Sacramento County</td>\n      <td id=\"T_6619b_row15_col2\" class=\"data row15 col2\" >South Sacramento County Safe Routes to School Project </td>\n      <td id=\"T_6619b_row15_col3\" class=\"data row15 col3\" >Sacramento</td>\n      <td id=\"T_6619b_row15_col4\" class=\"data row15 col4\" >$ 1,946,000.00</td>\n    </tr>\n    <tr>\n      <td id=\"T_6619b_row16_col0\" class=\"data row16 col0\" >Funded</td>\n      <td id=\"T_6619b_row16_col1\" class=\"data row16 col1\" >Fresno County</td>\n      <td id=\"T_6619b_row16_col2\" class=\"data row16 col2\" >Biola Community Sidewalks</td>\n      <td id=\"T_6619b_row16_col3\" class=\"data row16 col3\" >Fresno</td>\n      <td id=\"T_6619b_row16_col4\" class=\"data row16 col4\" >$ 1,498,000.00</td>\n    </tr>\n    <tr>\n      <td id=\"T_6619b_row17_col0\" class=\"data row17 col0\" >Funded</td>\n      <td id=\"T_6619b_row17_col1\" class=\"data row17 col1\" >Seaside, City of</td>\n      <td id=\"T_6619b_row17_col2\" class=\"data row17 col2\" >Broadway Ave Complete Street Corridor</td>\n      <td id=\"T_6619b_row17_col3\" class=\"data row17 col3\" >Monterey</td>\n      <td id=\"T_6619b_row17_col4\" class=\"data row17 col4\" >$ 14,001,000.00</td>\n    </tr>\n    <tr>\n      <td id=\"T_6619b_row18_col0\" class=\"data row18 col0\" >Funded</td>\n      <td id=\"T_6619b_row18_col1\" class=\"data row18 col1\" >Imperial Beach, City of</td>\n      <td id=\"T_6619b_row18_col2\" class=\"data row18 col2\" >9th St Active Transportation Corridor</td>\n      <td id=\"T_6619b_row18_col3\" class=\"data row18 col3\" >San Diego</td>\n      <td id=\"T_6619b_row18_col4\" class=\"data row18 col4\" >$ 3,354,000.00</td>\n    </tr>\n    <tr>\n      <td id=\"T_6619b_row19_col0\" class=\"data row19 col0\" >Funded</td>\n      <td id=\"T_6619b_row19_col1\" class=\"data row19 col1\" >Sacramento, City of</td>\n      <td id=\"T_6619b_row19_col2\" class=\"data row19 col2\" >Franklin Boulevard Complete Street Project</td>\n      <td id=\"T_6619b_row19_col3\" class=\"data row19 col3\" >Sacramento</td>\n      <td id=\"T_6619b_row19_col4\" class=\"data row19 col4\" >$ 16,265,000.00</td>\n    </tr>\n    <tr>\n      <td id=\"T_6619b_row20_col0\" class=\"data row20 col0\" >Funded</td>\n      <td id=\"T_6619b_row20_col1\" class=\"data row20 col1\" >Maywood, City of</td>\n      <td id=\"T_6619b_row20_col2\" class=\"data row20 col2\" >City of Maywood Active Transportation Plan</td>\n      <td id=\"T_6619b_row20_col3\" class=\"data row20 col3\" >Los Angeles</td>\n      <td id=\"T_6619b_row20_col4\" class=\"data row20 col4\" >$ 263,000.00</td>\n    </tr>\n    <tr>\n      <td id=\"T_6619b_row21_col0\" class=\"data row21 col0\" >Funded</td>\n      <td id=\"T_6619b_row21_col1\" class=\"data row21 col1\" >Watsonville, City of</td>\n      <td id=\"T_6619b_row21_col2\" class=\"data row21 col2\" >Safer Access to Pajaro Valley High School and Beyond</td>\n      <td id=\"T_6619b_row21_col3\" class=\"data row21 col3\" >Santa Cruz</td>\n      <td id=\"T_6619b_row21_col4\" class=\"data row21 col4\" >$ 15,823,000.00</td>\n    </tr>\n    <tr>\n      <td id=\"T_6619b_row22_col0\" class=\"data row22 col0\" >Funded</td>\n      <td id=\"T_6619b_row22_col1\" class=\"data row22 col1\" >Redding, City of</td>\n      <td id=\"T_6619b_row22_col2\" class=\"data row22 col2\" >Victor Ave & Cypress Ave Active Transportation (VCAT) Project</td>\n      <td id=\"T_6619b_row22_col3\" class=\"data row22 col3\" >Shasta</td>\n      <td id=\"T_6619b_row22_col4\" class=\"data row22 col4\" >$ 10,409,000.00</td>\n    </tr>\n    <tr>\n      <td id=\"T_6619b_row23_col0\" class=\"data row23 col0\" >Funded</td>\n      <td id=\"T_6619b_row23_col1\" class=\"data row23 col1\" >National City, City of</td>\n      <td id=\"T_6619b_row23_col2\" class=\"data row23 col2\" >Highland Avenue Inter-City Bike Connection</td>\n      <td id=\"T_6619b_row23_col3\" class=\"data row23 col3\" >San Diego</td>\n      <td id=\"T_6619b_row23_col4\" class=\"data row23 col4\" >$ 1,897,000.00</td>\n    </tr>\n    <tr>\n      <td id=\"T_6619b_row24_col0\" class=\"data row24 col0\" >Funded</td>\n      <td id=\"T_6619b_row24_col1\" class=\"data row24 col1\" >Santa Monica, City of</td>\n      <td id=\"T_6619b_row24_col2\" class=\"data row24 col2\" >Stewart-Pennsylvania Safety Enhancement Project</td>\n      <td id=\"T_6619b_row24_col3\" class=\"data row24 col3\" >Los Angeles</td>\n      <td id=\"T_6619b_row24_col4\" class=\"data row24 col4\" >$ 4,000,000.00</td>\n    </tr>\n    <tr>\n      <td id=\"T_6619b_row25_col0\" class=\"data row25 col0\" >Funded</td>\n      <td id=\"T_6619b_row25_col1\" class=\"data row25 col1\" >Oceanside, City of</td>\n      <td id=\"T_6619b_row25_col2\" class=\"data row25 col2\" >Laurel Elementary Safe Routes to School</td>\n      <td id=\"T_6619b_row25_col3\" class=\"data row25 col3\" >San Diego</td>\n      <td id=\"T_6619b_row25_col4\" class=\"data row25 col4\" >$ 1,535,000.00</td>\n    </tr>\n    <tr>\n      <td id=\"T_6619b_row26_col0\" class=\"data row26 col0\" >Funded</td>\n      <td id=\"T_6619b_row26_col1\" class=\"data row26 col1\" >Delano, City of</td>\n      <td id=\"T_6619b_row26_col2\" class=\"data row26 col2\" >ATP-5 SRTS Intersection Enhancement and NI Work Plan</td>\n      <td id=\"T_6619b_row26_col3\" class=\"data row26 col3\" >Kern</td>\n      <td id=\"T_6619b_row26_col4\" class=\"data row26 col4\" >$ 1,178,000.00</td>\n    </tr>\n    <tr>\n      <td id=\"T_6619b_row27_col0\" class=\"data row27 col0\" >Funded</td>\n      <td id=\"T_6619b_row27_col1\" class=\"data row27 col1\" >San Diego Association of Governments (SANDAG)</td>\n      <td id=\"T_6619b_row27_col2\" class=\"data row27 col2\" >Orange Family Friendly Street Project</td>\n      <td id=\"T_6619b_row27_col3\" class=\"data row27 col3\" >San Diego</td>\n      <td id=\"T_6619b_row27_col4\" class=\"data row27 col4\" >$ 5,660,000.00</td>\n    </tr>\n    <tr>\n      <td id=\"T_6619b_row28_col0\" class=\"data row28 col0\" >Funded</td>\n      <td id=\"T_6619b_row28_col1\" class=\"data row28 col1\" >West Sacramento, City of</td>\n      <td id=\"T_6619b_row28_col2\" class=\"data row28 col2\" >Sycamore Trail (Phase 2) Bicycle/Pedestrian Overcrossing</td>\n      <td id=\"T_6619b_row28_col3\" class=\"data row28 col3\" >Yolo</td>\n      <td id=\"T_6619b_row28_col4\" class=\"data row28 col4\" >$ 11,538,000.00</td>\n    </tr>\n    <tr>\n      <td id=\"T_6619b_row29_col0\" class=\"data row29 col0\" >Funded</td>\n      <td id=\"T_6619b_row29_col1\" class=\"data row29 col1\" >Fresno, City of</td>\n      <td id=\"T_6619b_row29_col2\" class=\"data row29 col2\" >Kids Crossing: Safe Routes to School in South Fresno</td>\n      <td id=\"T_6619b_row29_col3\" class=\"data row29 col3\" >Fresno</td>\n      <td id=\"T_6619b_row29_col4\" class=\"data row29 col4\" >$ 1,636,000.00</td>\n    </tr>\n    <tr>\n      <td id=\"T_6619b_row30_col0\" class=\"data row30 col0\" >Funded</td>\n      <td id=\"T_6619b_row30_col1\" class=\"data row30 col1\" >Santa Barbara, City of</td>\n      <td id=\"T_6619b_row30_col2\" class=\"data row30 col2\" >Upper De La Vina Street Gap Closure and Safe Crossings </td>\n      <td id=\"T_6619b_row30_col3\" class=\"data row30 col3\" >Santa Barbara</td>\n      <td id=\"T_6619b_row30_col4\" class=\"data row30 col4\" >$ 1,998,000.00</td>\n    </tr>\n    <tr>\n      <td id=\"T_6619b_row31_col0\" class=\"data row31 col0\" >Funded</td>\n      <td id=\"T_6619b_row31_col1\" class=\"data row31 col1\" >Contra Costa County</td>\n      <td id=\"T_6619b_row31_col2\" class=\"data row31 col2\" >North Bailey Road Active Transportation Corridor</td>\n      <td id=\"T_6619b_row31_col3\" class=\"data row31 col3\" >Contra Costa</td>\n      <td id=\"T_6619b_row31_col4\" class=\"data row31 col4\" >$ 6,845,000.00</td>\n    </tr>\n    <tr>\n      <td id=\"T_6619b_row32_col0\" class=\"data row32 col0\" >Funded</td>\n      <td id=\"T_6619b_row32_col1\" class=\"data row32 col1\" >Mariposa County</td>\n      <td id=\"T_6619b_row32_col2\" class=\"data row32 col2\" >Mariposa Creek Parkway</td>\n      <td id=\"T_6619b_row32_col3\" class=\"data row32 col3\" >Mariposa</td>\n      <td id=\"T_6619b_row32_col4\" class=\"data row32 col4\" >$ 5,176,000.00</td>\n    </tr>\n    <tr>\n      <td id=\"T_6619b_row33_col0\" class=\"data row33 col0\" >Funded</td>\n      <td id=\"T_6619b_row33_col1\" class=\"data row33 col1\" >Riverside County</td>\n      <td id=\"T_6619b_row33_col2\" class=\"data row33 col2\" >Riverside County Safe Routes for All - San Jacinto</td>\n      <td id=\"T_6619b_row33_col3\" class=\"data row33 col3\" >Riverside</td>\n      <td id=\"T_6619b_row33_col4\" class=\"data row33 col4\" >$ 600,000.00</td>\n    </tr>\n    <tr>\n      <td id=\"T_6619b_row34_col0\" class=\"data row34 col0\" >Funded</td>\n      <td id=\"T_6619b_row34_col1\" class=\"data row34 col1\" >Long Beach, City of</td>\n      <td id=\"T_6619b_row34_col2\" class=\"data row34 col2\" >Pacific Avenue Cycle Track</td>\n      <td id=\"T_6619b_row34_col3\" class=\"data row34 col3\" >Los Angeles</td>\n      <td id=\"T_6619b_row34_col4\" class=\"data row34 col4\" >$ 8,332,000.00</td>\n    </tr>\n    <tr>\n      <td id=\"T_6619b_row35_col0\" class=\"data row35 col0\" >Funded</td>\n      <td id=\"T_6619b_row35_col1\" class=\"data row35 col1\" >Perris, City of</td>\n      <td id=\"T_6619b_row35_col2\" class=\"data row35 col2\" >City of Perris Bike and Pedestrian Network Project </td>\n      <td id=\"T_6619b_row35_col3\" class=\"data row35 col3\" >Riverside</td>\n      <td id=\"T_6619b_row35_col4\" class=\"data row35 col4\" >$ 1,999,000.00</td>\n    </tr>\n    <tr>\n      <td id=\"T_6619b_row36_col0\" class=\"data row36 col0\" >Funded</td>\n      <td id=\"T_6619b_row36_col1\" class=\"data row36 col1\" >Porterville, City of</td>\n      <td id=\"T_6619b_row36_col2\" class=\"data row36 col2\" >Butterfield Stage Corridor (W North Grand Ave to College Ave)</td>\n      <td id=\"T_6619b_row36_col3\" class=\"data row36 col3\" >Tulare</td>\n      <td id=\"T_6619b_row36_col4\" class=\"data row36 col4\" >$ 7,750,000.00</td>\n    </tr>\n    <tr>\n      <td id=\"T_6619b_row37_col0\" class=\"data row37 col0\" >Funded</td>\n      <td id=\"T_6619b_row37_col1\" class=\"data row37 col1\" >Ontario, City of</td>\n      <td id=\"T_6619b_row37_col2\" class=\"data row37 col2\" >Vine Ave & B St Bike Boulevard Project</td>\n      <td id=\"T_6619b_row37_col3\" class=\"data row37 col3\" >San Bernardino</td>\n      <td id=\"T_6619b_row37_col4\" class=\"data row37 col4\" >$ 4,881,000.00</td>\n    </tr>\n    <tr>\n      <td id=\"T_6619b_row38_col0\" class=\"data row38 col0\" >Funded</td>\n      <td id=\"T_6619b_row38_col1\" class=\"data row38 col1\" >Fairfield, City of</td>\n      <td id=\"T_6619b_row38_col2\" class=\"data row38 col2\" >West Texas Street Complete Streets Project</td>\n      <td id=\"T_6619b_row38_col3\" class=\"data row38 col3\" >Solano</td>\n      <td id=\"T_6619b_row38_col4\" class=\"data row38 col4\" >$ 16,922,000.00</td>\n    </tr>\n    <tr>\n      <td id=\"T_6619b_row39_col0\" class=\"data row39 col0\" >Funded</td>\n      <td id=\"T_6619b_row39_col1\" class=\"data row39 col1\" >South El Monte, City of</td>\n      <td id=\"T_6619b_row39_col2\" class=\"data row39 col2\" >South El Monte Safe Routes to School Pedestrian Safety Project</td>\n      <td id=\"T_6619b_row39_col3\" class=\"data row39 col3\" >Los Angeles</td>\n      <td id=\"T_6619b_row39_col4\" class=\"data row39 col4\" >$ 1,637,000.00</td>\n    </tr>\n    <tr>\n      <td id=\"T_6619b_row40_col0\" class=\"data row40 col0\" >Funded</td>\n      <td id=\"T_6619b_row40_col1\" class=\"data row40 col1\" >Los Angeles, City of</td>\n      <td id=\"T_6619b_row40_col2\" class=\"data row40 col2\" >Connecting Canoga Park Through Safety and Urban Cooling Improvements</td>\n      <td id=\"T_6619b_row40_col3\" class=\"data row40 col3\" >Los Angeles</td>\n      <td id=\"T_6619b_row40_col4\" class=\"data row40 col4\" >$ 38,655,000.00</td>\n    </tr>\n    <tr>\n      <td id=\"T_6619b_row41_col0\" class=\"data row41 col0\" >Funded</td>\n      <td id=\"T_6619b_row41_col1\" class=\"data row41 col1\" >San Luis Obispo County</td>\n      <td id=\"T_6619b_row41_col2\" class=\"data row41 col2\" >San Luis Obispo County-Bob Jones Trail Gap Closure</td>\n      <td id=\"T_6619b_row41_col3\" class=\"data row41 col3\" >San Luis Obispo</td>\n      <td id=\"T_6619b_row41_col4\" class=\"data row41 col4\" >$ 23,414,000.00</td>\n    </tr>\n    <tr>\n      <td id=\"T_6619b_row42_col0\" class=\"data row42 col0\" >Funded</td>\n      <td id=\"T_6619b_row42_col1\" class=\"data row42 col1\" >Los Angeles, City of</td>\n      <td id=\"T_6619b_row42_col2\" class=\"data row42 col2\" >SRTS Carver Middle, Ascot Avenue and Harmony Elementary Schools Project</td>\n      <td id=\"T_6619b_row42_col3\" class=\"data row42 col3\" >Los Angeles</td>\n      <td id=\"T_6619b_row42_col4\" class=\"data row42 col4\" >$ 6,700,000.00</td>\n    </tr>\n    <tr>\n      <td id=\"T_6619b_row43_col0\" class=\"data row43 col0\" >Funded</td>\n      <td id=\"T_6619b_row43_col1\" class=\"data row43 col1\" >Los Angeles, City of</td>\n      <td id=\"T_6619b_row43_col2\" class=\"data row43 col2\" >SRTS Berendo Middle and 3 Feeder Elementary Schools Safety Project </td>\n      <td id=\"T_6619b_row43_col3\" class=\"data row43 col3\" >Los Angeles</td>\n      <td id=\"T_6619b_row43_col4\" class=\"data row43 col4\" >$ 11,057,000.00</td>\n    </tr>\n    <tr>\n      <td id=\"T_6619b_row44_col0\" class=\"data row44 col0\" >Funded</td>\n      <td id=\"T_6619b_row44_col1\" class=\"data row44 col1\" >Los Angeles, City of</td>\n      <td id=\"T_6619b_row44_col2\" class=\"data row44 col2\" >SRTS Panorama City Elementary School Project </td>\n      <td id=\"T_6619b_row44_col3\" class=\"data row44 col3\" >Los Angeles</td>\n      <td id=\"T_6619b_row44_col4\" class=\"data row44 col4\" >$ 6,832,000.00</td>\n    </tr>\n    <tr>\n      <td id=\"T_6619b_row45_col0\" class=\"data row45 col0\" >Funded</td>\n      <td id=\"T_6619b_row45_col1\" class=\"data row45 col1\" >Huron, City of</td>\n      <td id=\"T_6619b_row45_col2\" class=\"data row45 col2\" >City of Huron Bicyclist and Pedestrian Safety Improvement Project</td>\n      <td id=\"T_6619b_row45_col3\" class=\"data row45 col3\" >Fresno</td>\n      <td id=\"T_6619b_row45_col4\" class=\"data row45 col4\" >$ 1,969,000.00</td>\n    </tr>\n    <tr>\n      <td id=\"T_6619b_row46_col0\" class=\"data row46 col0\" >Funded</td>\n      <td id=\"T_6619b_row46_col1\" class=\"data row46 col1\" >Tuolumne County</td>\n      <td id=\"T_6619b_row46_col2\" class=\"data row46 col2\" >Jamestown Community Connectivity Project</td>\n      <td id=\"T_6619b_row46_col3\" class=\"data row46 col3\" >Tuolumne</td>\n      <td id=\"T_6619b_row46_col4\" class=\"data row46 col4\" >$ 2,300,000.00</td>\n    </tr>\n    <tr>\n      <td id=\"T_6619b_row47_col0\" class=\"data row47 col0\" >Funded</td>\n      <td id=\"T_6619b_row47_col1\" class=\"data row47 col1\" >Long Beach, City of</td>\n      <td id=\"T_6619b_row47_col2\" class=\"data row47 col2\" >Downtown Long Beach Walkable Corners</td>\n      <td id=\"T_6619b_row47_col3\" class=\"data row47 col3\" >Los Angeles</td>\n      <td id=\"T_6619b_row47_col4\" class=\"data row47 col4\" >$ 8,771,000.00</td>\n    </tr>\n    <tr>\n      <td id=\"T_6619b_row48_col0\" class=\"data row48 col0\" >Funded</td>\n      <td id=\"T_6619b_row48_col1\" class=\"data row48 col1\" >Ventura County</td>\n      <td id=\"T_6619b_row48_col2\" class=\"data row48 col2\" >El Rio Pedestrian Improvement and Safe Route to School Project</td>\n      <td id=\"T_6619b_row48_col3\" class=\"data row48 col3\" >Ventura</td>\n      <td id=\"T_6619b_row48_col4\" class=\"data row48 col4\" >$ 6,960,000.00</td>\n    </tr>\n  </tbody>\n</table>\n"
      }
     },
     "98182e3b2c6c4c338dfea10b0feebccd": {
      "model_module": "@jupyter-widgets/base",
      "model_module_version": "1.2.0",
      "model_name": "LayoutModel",
      "state": {}
     },
     "9f039b60358d4b0aa72413aaed21b018": {
      "model_module": "@jupyter-widgets/base",
      "model_module_version": "1.2.0",
      "model_name": "LayoutModel",
      "state": {}
     },
     "9f12cf98b5fd493eb96fdf9f29c97669": {
      "model_module": "@jupyter-widgets/base",
      "model_module_version": "1.2.0",
      "model_name": "LayoutModel",
      "state": {}
     },
     "a38ae88c337845b1a5cd12e6cc36abe7": {
      "model_module": "@jupyter-widgets/controls",
      "model_module_version": "1.5.0",
      "model_name": "HTMLModel",
      "state": {
       "layout": "IPY_MODEL_c39e8a38db5348e689b0f5df9678fc2d",
       "style": "IPY_MODEL_b027cbeca3da4e28b065e04585053baf",
       "value": "</br><h4> Success Rates for Agencies with Successful Applications </h4>"
      }
     },
     "a4892a47f0c344a09ab0aa19f2316659": {
      "model_module": "@jupyter-widgets/controls",
      "model_module_version": "1.5.0",
      "model_name": "HTMLModel",
      "state": {
       "layout": "IPY_MODEL_98182e3b2c6c4c338dfea10b0feebccd",
       "style": "IPY_MODEL_53ec12d8fda24de9932d00210ee8259f",
       "value": "<style type=\"text/css\">\n#T_76f96 th {\n  text-align: center;\n}\n#T_76f96_row0_col0, #T_76f96_row0_col1, #T_76f96_row0_col2, #T_76f96_row0_col3, #T_76f96_row1_col0, #T_76f96_row1_col1, #T_76f96_row1_col2, #T_76f96_row1_col3, #T_76f96_row2_col0, #T_76f96_row2_col1, #T_76f96_row2_col2, #T_76f96_row2_col3, #T_76f96_row3_col0, #T_76f96_row3_col1, #T_76f96_row3_col2, #T_76f96_row3_col3, #T_76f96_row4_col0, #T_76f96_row4_col1, #T_76f96_row4_col2, #T_76f96_row4_col3, #T_76f96_row5_col0, #T_76f96_row5_col1, #T_76f96_row5_col2, #T_76f96_row5_col3, #T_76f96_row6_col0, #T_76f96_row6_col1, #T_76f96_row6_col2, #T_76f96_row6_col3, #T_76f96_row7_col0, #T_76f96_row7_col1, #T_76f96_row7_col2, #T_76f96_row7_col3, #T_76f96_row8_col0, #T_76f96_row8_col1, #T_76f96_row8_col2, #T_76f96_row8_col3, #T_76f96_row9_col0, #T_76f96_row9_col1, #T_76f96_row9_col2, #T_76f96_row9_col3, #T_76f96_row10_col0, #T_76f96_row10_col1, #T_76f96_row10_col2, #T_76f96_row10_col3, #T_76f96_row11_col0, #T_76f96_row11_col1, #T_76f96_row11_col2, #T_76f96_row11_col3, #T_76f96_row12_col0, #T_76f96_row12_col1, #T_76f96_row12_col2, #T_76f96_row12_col3, #T_76f96_row13_col0, #T_76f96_row13_col1, #T_76f96_row13_col2, #T_76f96_row13_col3, #T_76f96_row14_col0, #T_76f96_row14_col1, #T_76f96_row14_col2, #T_76f96_row14_col3, #T_76f96_row15_col0, #T_76f96_row15_col1, #T_76f96_row15_col2, #T_76f96_row15_col3, #T_76f96_row16_col0, #T_76f96_row16_col1, #T_76f96_row16_col2, #T_76f96_row16_col3, #T_76f96_row17_col0, #T_76f96_row17_col1, #T_76f96_row17_col2, #T_76f96_row17_col3, #T_76f96_row18_col0, #T_76f96_row18_col1, #T_76f96_row18_col2, #T_76f96_row18_col3, #T_76f96_row19_col0, #T_76f96_row19_col1, #T_76f96_row19_col2, #T_76f96_row19_col3, #T_76f96_row20_col0, #T_76f96_row20_col1, #T_76f96_row20_col2, #T_76f96_row20_col3, #T_76f96_row21_col0, #T_76f96_row21_col1, #T_76f96_row21_col2, #T_76f96_row21_col3, #T_76f96_row22_col0, #T_76f96_row22_col1, #T_76f96_row22_col2, #T_76f96_row22_col3, #T_76f96_row23_col0, #T_76f96_row23_col1, #T_76f96_row23_col2, #T_76f96_row23_col3, #T_76f96_row24_col0, #T_76f96_row24_col1, #T_76f96_row24_col2, #T_76f96_row24_col3, #T_76f96_row25_col0, #T_76f96_row25_col1, #T_76f96_row25_col2, #T_76f96_row25_col3, #T_76f96_row26_col0, #T_76f96_row26_col1, #T_76f96_row26_col2, #T_76f96_row26_col3, #T_76f96_row27_col0, #T_76f96_row27_col1, #T_76f96_row27_col2, #T_76f96_row27_col3, #T_76f96_row28_col0, #T_76f96_row28_col1, #T_76f96_row28_col2, #T_76f96_row28_col3, #T_76f96_row29_col0, #T_76f96_row29_col1, #T_76f96_row29_col2, #T_76f96_row29_col3, #T_76f96_row30_col0, #T_76f96_row30_col1, #T_76f96_row30_col2, #T_76f96_row30_col3, #T_76f96_row31_col0, #T_76f96_row31_col1, #T_76f96_row31_col2, #T_76f96_row31_col3, #T_76f96_row32_col0, #T_76f96_row32_col1, #T_76f96_row32_col2, #T_76f96_row32_col3, #T_76f96_row33_col0, #T_76f96_row33_col1, #T_76f96_row33_col2, #T_76f96_row33_col3, #T_76f96_row34_col0, #T_76f96_row34_col1, #T_76f96_row34_col2, #T_76f96_row34_col3, #T_76f96_row35_col0, #T_76f96_row35_col1, #T_76f96_row35_col2, #T_76f96_row35_col3, #T_76f96_row36_col0, #T_76f96_row36_col1, #T_76f96_row36_col2, #T_76f96_row36_col3, #T_76f96_row37_col0, #T_76f96_row37_col1, #T_76f96_row37_col2, #T_76f96_row37_col3, #T_76f96_row38_col0, #T_76f96_row38_col1, #T_76f96_row38_col2, #T_76f96_row38_col3, #T_76f96_row39_col0, #T_76f96_row39_col1, #T_76f96_row39_col2, #T_76f96_row39_col3, #T_76f96_row40_col0, #T_76f96_row40_col1, #T_76f96_row40_col2, #T_76f96_row40_col3, #T_76f96_row41_col0, #T_76f96_row41_col1, #T_76f96_row41_col2, #T_76f96_row41_col3, #T_76f96_row42_col0, #T_76f96_row42_col1, #T_76f96_row42_col2, #T_76f96_row42_col3, #T_76f96_row43_col0, #T_76f96_row43_col1, #T_76f96_row43_col2, #T_76f96_row43_col3, #T_76f96_row44_col0, #T_76f96_row44_col1, #T_76f96_row44_col2, #T_76f96_row44_col3, #T_76f96_row45_col0, #T_76f96_row45_col1, #T_76f96_row45_col2, #T_76f96_row45_col3, #T_76f96_row46_col0, #T_76f96_row46_col1, #T_76f96_row46_col2, #T_76f96_row46_col3, #T_76f96_row47_col0, #T_76f96_row47_col1, #T_76f96_row47_col2, #T_76f96_row47_col3 {\n  text-align: center;\n}\n</style>\n<table id=\"T_76f96\">\n  <thead>\n    <tr>\n      <th id=\"T_76f96_level0_col0\" class=\"col_heading level0 col0\" >Project Cycle</th>\n      <th id=\"T_76f96_level0_col1\" class=\"col_heading level0 col1\" >County Name</th>\n      <th id=\"T_76f96_level0_col2\" class=\"col_heading level0 col2\" >Application</th>\n      <th id=\"T_76f96_level0_col3\" class=\"col_heading level0 col3\" >Funded</th>\n    </tr>\n  </thead>\n  <tbody>\n    <tr>\n      <td id=\"T_76f96_row0_col0\" class=\"data row0 col0\" >5</td>\n      <td id=\"T_76f96_row0_col1\" class=\"data row0 col1\" >Alameda</td>\n      <td id=\"T_76f96_row0_col2\" class=\"data row0 col2\" >8</td>\n      <td id=\"T_76f96_row0_col3\" class=\"data row0 col3\" >1</td>\n    </tr>\n    <tr>\n      <td id=\"T_76f96_row1_col0\" class=\"data row1 col0\" >5</td>\n      <td id=\"T_76f96_row1_col1\" class=\"data row1 col1\" >Butte</td>\n      <td id=\"T_76f96_row1_col2\" class=\"data row1 col2\" >4</td>\n      <td id=\"T_76f96_row1_col3\" class=\"data row1 col3\" >0</td>\n    </tr>\n    <tr>\n      <td id=\"T_76f96_row2_col0\" class=\"data row2 col0\" >5</td>\n      <td id=\"T_76f96_row2_col1\" class=\"data row2 col1\" >Calaveras</td>\n      <td id=\"T_76f96_row2_col2\" class=\"data row2 col2\" >1</td>\n      <td id=\"T_76f96_row2_col3\" class=\"data row2 col3\" >0</td>\n    </tr>\n    <tr>\n      <td id=\"T_76f96_row3_col0\" class=\"data row3 col0\" >5</td>\n      <td id=\"T_76f96_row3_col1\" class=\"data row3 col1\" >Colusa</td>\n      <td id=\"T_76f96_row3_col2\" class=\"data row3 col2\" >1</td>\n      <td id=\"T_76f96_row3_col3\" class=\"data row3 col3\" >0</td>\n    </tr>\n    <tr>\n      <td id=\"T_76f96_row4_col0\" class=\"data row4 col0\" >5</td>\n      <td id=\"T_76f96_row4_col1\" class=\"data row4 col1\" >Contra Costa</td>\n      <td id=\"T_76f96_row4_col2\" class=\"data row4 col2\" >10</td>\n      <td id=\"T_76f96_row4_col3\" class=\"data row4 col3\" >1</td>\n    </tr>\n    <tr>\n      <td id=\"T_76f96_row5_col0\" class=\"data row5 col0\" >5</td>\n      <td id=\"T_76f96_row5_col1\" class=\"data row5 col1\" >El Dorado</td>\n      <td id=\"T_76f96_row5_col2\" class=\"data row5 col2\" >3</td>\n      <td id=\"T_76f96_row5_col3\" class=\"data row5 col3\" >1</td>\n    </tr>\n    <tr>\n      <td id=\"T_76f96_row6_col0\" class=\"data row6 col0\" >5</td>\n      <td id=\"T_76f96_row6_col1\" class=\"data row6 col1\" >Fresno</td>\n      <td id=\"T_76f96_row6_col2\" class=\"data row6 col2\" >9</td>\n      <td id=\"T_76f96_row6_col3\" class=\"data row6 col3\" >3</td>\n    </tr>\n    <tr>\n      <td id=\"T_76f96_row7_col0\" class=\"data row7 col0\" >5</td>\n      <td id=\"T_76f96_row7_col1\" class=\"data row7 col1\" >Humboldt</td>\n      <td id=\"T_76f96_row7_col2\" class=\"data row7 col2\" >4</td>\n      <td id=\"T_76f96_row7_col3\" class=\"data row7 col3\" >1</td>\n    </tr>\n    <tr>\n      <td id=\"T_76f96_row8_col0\" class=\"data row8 col0\" >5</td>\n      <td id=\"T_76f96_row8_col1\" class=\"data row8 col1\" >Imperial</td>\n      <td id=\"T_76f96_row8_col2\" class=\"data row8 col2\" >1</td>\n      <td id=\"T_76f96_row8_col3\" class=\"data row8 col3\" >0</td>\n    </tr>\n    <tr>\n      <td id=\"T_76f96_row9_col0\" class=\"data row9 col0\" >5</td>\n      <td id=\"T_76f96_row9_col1\" class=\"data row9 col1\" >Inyo</td>\n      <td id=\"T_76f96_row9_col2\" class=\"data row9 col2\" >2</td>\n      <td id=\"T_76f96_row9_col3\" class=\"data row9 col3\" >0</td>\n    </tr>\n    <tr>\n      <td id=\"T_76f96_row10_col0\" class=\"data row10 col0\" >5</td>\n      <td id=\"T_76f96_row10_col1\" class=\"data row10 col1\" >Kern</td>\n      <td id=\"T_76f96_row10_col2\" class=\"data row10 col2\" >6</td>\n      <td id=\"T_76f96_row10_col3\" class=\"data row10 col3\" >1</td>\n    </tr>\n    <tr>\n      <td id=\"T_76f96_row11_col0\" class=\"data row11 col0\" >5</td>\n      <td id=\"T_76f96_row11_col1\" class=\"data row11 col1\" >Kings</td>\n      <td id=\"T_76f96_row11_col2\" class=\"data row11 col2\" >1</td>\n      <td id=\"T_76f96_row11_col3\" class=\"data row11 col3\" >1</td>\n    </tr>\n    <tr>\n      <td id=\"T_76f96_row12_col0\" class=\"data row12 col0\" >5</td>\n      <td id=\"T_76f96_row12_col1\" class=\"data row12 col1\" >Lake</td>\n      <td id=\"T_76f96_row12_col2\" class=\"data row12 col2\" >1</td>\n      <td id=\"T_76f96_row12_col3\" class=\"data row12 col3\" >1</td>\n    </tr>\n    <tr>\n      <td id=\"T_76f96_row13_col0\" class=\"data row13 col0\" >5</td>\n      <td id=\"T_76f96_row13_col1\" class=\"data row13 col1\" >Los Angeles</td>\n      <td id=\"T_76f96_row13_col2\" class=\"data row13 col2\" >32</td>\n      <td id=\"T_76f96_row13_col3\" class=\"data row13 col3\" >6</td>\n    </tr>\n    <tr>\n      <td id=\"T_76f96_row14_col0\" class=\"data row14 col0\" >5</td>\n      <td id=\"T_76f96_row14_col1\" class=\"data row14 col1\" >MPA </td>\n      <td id=\"T_76f96_row14_col2\" class=\"data row14 col2\" >0</td>\n      <td id=\"T_76f96_row14_col3\" class=\"data row14 col3\" >1</td>\n    </tr>\n    <tr>\n      <td id=\"T_76f96_row15_col0\" class=\"data row15 col0\" >5</td>\n      <td id=\"T_76f96_row15_col1\" class=\"data row15 col1\" >Marin</td>\n      <td id=\"T_76f96_row15_col2\" class=\"data row15 col2\" >5</td>\n      <td id=\"T_76f96_row15_col3\" class=\"data row15 col3\" >0</td>\n    </tr>\n    <tr>\n      <td id=\"T_76f96_row16_col0\" class=\"data row16 col0\" >5</td>\n      <td id=\"T_76f96_row16_col1\" class=\"data row16 col1\" >Mariposa</td>\n      <td id=\"T_76f96_row16_col2\" class=\"data row16 col2\" >0</td>\n      <td id=\"T_76f96_row16_col3\" class=\"data row16 col3\" >1</td>\n    </tr>\n    <tr>\n      <td id=\"T_76f96_row17_col0\" class=\"data row17 col0\" >5</td>\n      <td id=\"T_76f96_row17_col1\" class=\"data row17 col1\" >Mendocino</td>\n      <td id=\"T_76f96_row17_col2\" class=\"data row17 col2\" >2</td>\n      <td id=\"T_76f96_row17_col3\" class=\"data row17 col3\" >0</td>\n    </tr>\n    <tr>\n      <td id=\"T_76f96_row18_col0\" class=\"data row18 col0\" >5</td>\n      <td id=\"T_76f96_row18_col1\" class=\"data row18 col1\" >Merced</td>\n      <td id=\"T_76f96_row18_col2\" class=\"data row18 col2\" >2</td>\n      <td id=\"T_76f96_row18_col3\" class=\"data row18 col3\" >0</td>\n    </tr>\n    <tr>\n      <td id=\"T_76f96_row19_col0\" class=\"data row19 col0\" >5</td>\n      <td id=\"T_76f96_row19_col1\" class=\"data row19 col1\" >Modoc</td>\n      <td id=\"T_76f96_row19_col2\" class=\"data row19 col2\" >1</td>\n      <td id=\"T_76f96_row19_col3\" class=\"data row19 col3\" >0</td>\n    </tr>\n    <tr>\n      <td id=\"T_76f96_row20_col0\" class=\"data row20 col0\" >5</td>\n      <td id=\"T_76f96_row20_col1\" class=\"data row20 col1\" >Monterey</td>\n      <td id=\"T_76f96_row20_col2\" class=\"data row20 col2\" >4</td>\n      <td id=\"T_76f96_row20_col3\" class=\"data row20 col3\" >1</td>\n    </tr>\n    <tr>\n      <td id=\"T_76f96_row21_col0\" class=\"data row21 col0\" >5</td>\n      <td id=\"T_76f96_row21_col1\" class=\"data row21 col1\" >Napa</td>\n      <td id=\"T_76f96_row21_col2\" class=\"data row21 col2\" >3</td>\n      <td id=\"T_76f96_row21_col3\" class=\"data row21 col3\" >0</td>\n    </tr>\n    <tr>\n      <td id=\"T_76f96_row22_col0\" class=\"data row22 col0\" >5</td>\n      <td id=\"T_76f96_row22_col1\" class=\"data row22 col1\" >Nevada</td>\n      <td id=\"T_76f96_row22_col2\" class=\"data row22 col2\" >3</td>\n      <td id=\"T_76f96_row22_col3\" class=\"data row22 col3\" >0</td>\n    </tr>\n    <tr>\n      <td id=\"T_76f96_row23_col0\" class=\"data row23 col0\" >5</td>\n      <td id=\"T_76f96_row23_col1\" class=\"data row23 col1\" >Orange</td>\n      <td id=\"T_76f96_row23_col2\" class=\"data row23 col2\" >14</td>\n      <td id=\"T_76f96_row23_col3\" class=\"data row23 col3\" >0</td>\n    </tr>\n    <tr>\n      <td id=\"T_76f96_row24_col0\" class=\"data row24 col0\" >5</td>\n      <td id=\"T_76f96_row24_col1\" class=\"data row24 col1\" >Placer</td>\n      <td id=\"T_76f96_row24_col2\" class=\"data row24 col2\" >2</td>\n      <td id=\"T_76f96_row24_col3\" class=\"data row24 col3\" >0</td>\n    </tr>\n    <tr>\n      <td id=\"T_76f96_row25_col0\" class=\"data row25 col0\" >5</td>\n      <td id=\"T_76f96_row25_col1\" class=\"data row25 col1\" >Riverside</td>\n      <td id=\"T_76f96_row25_col2\" class=\"data row25 col2\" >14</td>\n      <td id=\"T_76f96_row25_col3\" class=\"data row25 col3\" >2</td>\n    </tr>\n    <tr>\n      <td id=\"T_76f96_row26_col0\" class=\"data row26 col0\" >5</td>\n      <td id=\"T_76f96_row26_col1\" class=\"data row26 col1\" >Sacramento</td>\n      <td id=\"T_76f96_row26_col2\" class=\"data row26 col2\" >6</td>\n      <td id=\"T_76f96_row26_col3\" class=\"data row26 col3\" >2</td>\n    </tr>\n    <tr>\n      <td id=\"T_76f96_row27_col0\" class=\"data row27 col0\" >5</td>\n      <td id=\"T_76f96_row27_col1\" class=\"data row27 col1\" >San Benito</td>\n      <td id=\"T_76f96_row27_col2\" class=\"data row27 col2\" >1</td>\n      <td id=\"T_76f96_row27_col3\" class=\"data row27 col3\" >0</td>\n    </tr>\n    <tr>\n      <td id=\"T_76f96_row28_col0\" class=\"data row28 col0\" >5</td>\n      <td id=\"T_76f96_row28_col1\" class=\"data row28 col1\" >San Bernardino</td>\n      <td id=\"T_76f96_row28_col2\" class=\"data row28 col2\" >14</td>\n      <td id=\"T_76f96_row28_col3\" class=\"data row28 col3\" >2</td>\n    </tr>\n    <tr>\n      <td id=\"T_76f96_row29_col0\" class=\"data row29 col0\" >5</td>\n      <td id=\"T_76f96_row29_col1\" class=\"data row29 col1\" >San Diego</td>\n      <td id=\"T_76f96_row29_col2\" class=\"data row29 col2\" >16</td>\n      <td id=\"T_76f96_row29_col3\" class=\"data row29 col3\" >4</td>\n    </tr>\n    <tr>\n      <td id=\"T_76f96_row30_col0\" class=\"data row30 col0\" >5</td>\n      <td id=\"T_76f96_row30_col1\" class=\"data row30 col1\" >San Francisco</td>\n      <td id=\"T_76f96_row30_col2\" class=\"data row30 col2\" >2</td>\n      <td id=\"T_76f96_row30_col3\" class=\"data row30 col3\" >0</td>\n    </tr>\n    <tr>\n      <td id=\"T_76f96_row31_col0\" class=\"data row31 col0\" >5</td>\n      <td id=\"T_76f96_row31_col1\" class=\"data row31 col1\" >San Joaquin</td>\n      <td id=\"T_76f96_row31_col2\" class=\"data row31 col2\" >9</td>\n      <td id=\"T_76f96_row31_col3\" class=\"data row31 col3\" >0</td>\n    </tr>\n    <tr>\n      <td id=\"T_76f96_row32_col0\" class=\"data row32 col0\" >5</td>\n      <td id=\"T_76f96_row32_col1\" class=\"data row32 col1\" >San Luis Obispo</td>\n      <td id=\"T_76f96_row32_col2\" class=\"data row32 col2\" >5</td>\n      <td id=\"T_76f96_row32_col3\" class=\"data row32 col3\" >1</td>\n    </tr>\n    <tr>\n      <td id=\"T_76f96_row33_col0\" class=\"data row33 col0\" >5</td>\n      <td id=\"T_76f96_row33_col1\" class=\"data row33 col1\" >San Mateo</td>\n      <td id=\"T_76f96_row33_col2\" class=\"data row33 col2\" >10</td>\n      <td id=\"T_76f96_row33_col3\" class=\"data row33 col3\" >0</td>\n    </tr>\n    <tr>\n      <td id=\"T_76f96_row34_col0\" class=\"data row34 col0\" >5</td>\n      <td id=\"T_76f96_row34_col1\" class=\"data row34 col1\" >Santa Barbara</td>\n      <td id=\"T_76f96_row34_col2\" class=\"data row34 col2\" >6</td>\n      <td id=\"T_76f96_row34_col3\" class=\"data row34 col3\" >1</td>\n    </tr>\n    <tr>\n      <td id=\"T_76f96_row35_col0\" class=\"data row35 col0\" >5</td>\n      <td id=\"T_76f96_row35_col1\" class=\"data row35 col1\" >Santa Clara</td>\n      <td id=\"T_76f96_row35_col2\" class=\"data row35 col2\" >1</td>\n      <td id=\"T_76f96_row35_col3\" class=\"data row35 col3\" >1</td>\n    </tr>\n    <tr>\n      <td id=\"T_76f96_row36_col0\" class=\"data row36 col0\" >5</td>\n      <td id=\"T_76f96_row36_col1\" class=\"data row36 col1\" >Santa Cruz</td>\n      <td id=\"T_76f96_row36_col2\" class=\"data row36 col2\" >2</td>\n      <td id=\"T_76f96_row36_col3\" class=\"data row36 col3\" >2</td>\n    </tr>\n    <tr>\n      <td id=\"T_76f96_row37_col0\" class=\"data row37 col0\" >5</td>\n      <td id=\"T_76f96_row37_col1\" class=\"data row37 col1\" >Shasta</td>\n      <td id=\"T_76f96_row37_col2\" class=\"data row37 col2\" >4</td>\n      <td id=\"T_76f96_row37_col3\" class=\"data row37 col3\" >2</td>\n    </tr>\n    <tr>\n      <td id=\"T_76f96_row38_col0\" class=\"data row38 col0\" >5</td>\n      <td id=\"T_76f96_row38_col1\" class=\"data row38 col1\" >Siskiyou</td>\n      <td id=\"T_76f96_row38_col2\" class=\"data row38 col2\" >0</td>\n      <td id=\"T_76f96_row38_col3\" class=\"data row38 col3\" >2</td>\n    </tr>\n    <tr>\n      <td id=\"T_76f96_row39_col0\" class=\"data row39 col0\" >5</td>\n      <td id=\"T_76f96_row39_col1\" class=\"data row39 col1\" >Solano</td>\n      <td id=\"T_76f96_row39_col2\" class=\"data row39 col2\" >3</td>\n      <td id=\"T_76f96_row39_col3\" class=\"data row39 col3\" >1</td>\n    </tr>\n    <tr>\n      <td id=\"T_76f96_row40_col0\" class=\"data row40 col0\" >5</td>\n      <td id=\"T_76f96_row40_col1\" class=\"data row40 col1\" >Sonoma</td>\n      <td id=\"T_76f96_row40_col2\" class=\"data row40 col2\" >3</td>\n      <td id=\"T_76f96_row40_col3\" class=\"data row40 col3\" >0</td>\n    </tr>\n    <tr>\n      <td id=\"T_76f96_row41_col0\" class=\"data row41 col0\" >5</td>\n      <td id=\"T_76f96_row41_col1\" class=\"data row41 col1\" >Stanislaus</td>\n      <td id=\"T_76f96_row41_col2\" class=\"data row41 col2\" >4</td>\n      <td id=\"T_76f96_row41_col3\" class=\"data row41 col3\" >0</td>\n    </tr>\n    <tr>\n      <td id=\"T_76f96_row42_col0\" class=\"data row42 col0\" >5</td>\n      <td id=\"T_76f96_row42_col1\" class=\"data row42 col1\" >Tehama</td>\n      <td id=\"T_76f96_row42_col2\" class=\"data row42 col2\" >1</td>\n      <td id=\"T_76f96_row42_col3\" class=\"data row42 col3\" >0</td>\n    </tr>\n    <tr>\n      <td id=\"T_76f96_row43_col0\" class=\"data row43 col0\" >5</td>\n      <td id=\"T_76f96_row43_col1\" class=\"data row43 col1\" >Tulare</td>\n      <td id=\"T_76f96_row43_col2\" class=\"data row43 col2\" >6</td>\n      <td id=\"T_76f96_row43_col3\" class=\"data row43 col3\" >1</td>\n    </tr>\n    <tr>\n      <td id=\"T_76f96_row44_col0\" class=\"data row44 col0\" >5</td>\n      <td id=\"T_76f96_row44_col1\" class=\"data row44 col1\" >Tuolumne</td>\n      <td id=\"T_76f96_row44_col2\" class=\"data row44 col2\" >2</td>\n      <td id=\"T_76f96_row44_col3\" class=\"data row44 col3\" >1</td>\n    </tr>\n    <tr>\n      <td id=\"T_76f96_row45_col0\" class=\"data row45 col0\" >5</td>\n      <td id=\"T_76f96_row45_col1\" class=\"data row45 col1\" >Ventura</td>\n      <td id=\"T_76f96_row45_col2\" class=\"data row45 col2\" >4</td>\n      <td id=\"T_76f96_row45_col3\" class=\"data row45 col3\" >1</td>\n    </tr>\n    <tr>\n      <td id=\"T_76f96_row46_col0\" class=\"data row46 col0\" >5</td>\n      <td id=\"T_76f96_row46_col1\" class=\"data row46 col1\" >Yolo</td>\n      <td id=\"T_76f96_row46_col2\" class=\"data row46 col2\" >5</td>\n      <td id=\"T_76f96_row46_col3\" class=\"data row46 col3\" >1</td>\n    </tr>\n    <tr>\n      <td id=\"T_76f96_row47_col0\" class=\"data row47 col0\" >5</td>\n      <td id=\"T_76f96_row47_col1\" class=\"data row47 col1\" >Yuba</td>\n      <td id=\"T_76f96_row47_col2\" class=\"data row47 col2\" >2</td>\n      <td id=\"T_76f96_row47_col3\" class=\"data row47 col3\" >0</td>\n    </tr>\n  </tbody>\n</table>\n"
      }
     },
     "af4e838cbda24beaa4ca3796b415f8a8": {
      "model_module": "@jupyter-widgets/base",
      "model_module_version": "1.2.0",
      "model_name": "LayoutModel",
      "state": {}
     },
     "b027cbeca3da4e28b065e04585053baf": {
      "model_module": "@jupyter-widgets/controls",
      "model_module_version": "1.5.0",
      "model_name": "DescriptionStyleModel",
      "state": {
       "description_width": ""
      }
     },
     "bbb0f1fa84e74588a5c48c416fbb23f1": {
      "model_module": "@jupyter-widgets/controls",
      "model_module_version": "1.5.0",
      "model_name": "DescriptionStyleModel",
      "state": {
       "description_width": ""
      }
     },
     "c39e8a38db5348e689b0f5df9678fc2d": {
      "model_module": "@jupyter-widgets/base",
      "model_module_version": "1.2.0",
      "model_name": "LayoutModel",
      "state": {}
     },
     "d20780aa93274e5995ae9d17b672e464": {
      "model_module": "@jupyter-widgets/controls",
      "model_module_version": "1.5.0",
      "model_name": "DescriptionStyleModel",
      "state": {
       "description_width": ""
      }
     },
     "d5db1c1da0144ffea4812ac42f483ee4": {
      "model_module": "@jupyter-widgets/controls",
      "model_module_version": "1.5.0",
      "model_name": "HTMLModel",
      "state": {
       "layout": "IPY_MODEL_9f039b60358d4b0aa72413aaed21b018",
       "style": "IPY_MODEL_d20780aa93274e5995ae9d17b672e464",
       "value": "There are <strong>209</strong> implenting agencies with <strong> zero </strong>successful applications."
      }
     },
     "e93431bd361d4081bdae3942bd5e1776": {
      "model_module": "@jupyter-widgets/controls",
      "model_module_version": "1.5.0",
      "model_name": "HTMLModel",
      "state": {
       "layout": "IPY_MODEL_af4e838cbda24beaa4ca3796b415f8a8",
       "style": "IPY_MODEL_3c6f105a7495495096ef1a5b99a0c4ca",
       "value": "Out of 450 Active Transportation Program Project Applications, there are <strong>49 projects</strong> that recieved funding over 1 cycles"
      }
     },
     "ede069d014fc47f4bfbb4a71ebcf3adc": {
      "model_module": "@jupyter-widgets/base",
      "model_module_version": "1.2.0",
      "model_name": "LayoutModel",
      "state": {}
     },
     "ee7d61e302dc49b9b5f8125a84c544ad": {
      "model_module": "@jupyter-widgets/base",
      "model_module_version": "1.2.0",
      "model_name": "LayoutModel",
      "state": {}
     },
     "f4516b8a7b264fbb8a03e597e2e067f7": {
      "model_module": "@jupyter-widgets/base",
      "model_module_version": "1.2.0",
      "model_name": "LayoutModel",
      "state": {}
     },
     "f7ca636168cb4646ad776b27b74ef594": {
      "model_module": "@jupyter-widgets/controls",
      "model_module_version": "1.5.0",
      "model_name": "HTMLModel",
      "state": {
       "layout": "IPY_MODEL_5af1f851120346c3949bea7cdaf781d6",
       "style": "IPY_MODEL_2685897f815b42cdab1b5d16364e5682",
       "value": "<h3>Application Success Rate</h3>"
      }
     },
     "fe0d9f4b44474a368dc25903f79d9019": {
      "model_module": "@jupyter-widgets/base",
      "model_module_version": "1.2.0",
      "model_name": "LayoutModel",
      "state": {}
     },
     "fe4e70b37e1c4980b8729c966a6bb49c": {
      "model_module": "@jupyter-widgets/controls",
      "model_module_version": "1.5.0",
      "model_name": "HTMLModel",
      "state": {
       "layout": "IPY_MODEL_fe0d9f4b44474a368dc25903f79d9019",
       "style": "IPY_MODEL_9623413d073345daad0f35a5f28a6f85",
       "value": "<style type=\"text/css\">\n#T_e9d48 th {\n  text-align: center;\n}\n#T_e9d48_row0_col0, #T_e9d48_row1_col0 {\n  text-align: center;\n}\n#T_e9d48_row0_col1, #T_e9d48_row1_col1 {\n  text-align: center;\n  text-align: right;\n}\n</style>\n<table id=\"T_e9d48\">\n  <thead>\n    <tr>\n      <th id=\"T_e9d48_level0_col0\" class=\"col_heading level0 col0\" >Data Origin</th>\n      <th id=\"T_e9d48_level0_col1\" class=\"col_heading level0 col1\" >Count</th>\n    </tr>\n  </thead>\n  <tbody>\n    <tr>\n      <td id=\"T_e9d48_row0_col0\" class=\"data row0 col0\" >Application</td>\n      <td id=\"T_e9d48_row0_col1\" class=\"data row0 col1\" >401</td>\n    </tr>\n    <tr>\n      <td id=\"T_e9d48_row1_col0\" class=\"data row1 col0\" >Funded</td>\n      <td id=\"T_e9d48_row1_col1\" class=\"data row1 col1\" >49</td>\n    </tr>\n  </tbody>\n</table>\n"
      }
     }
    },
    "version_major": 2,
    "version_minor": 0
   }
  }
 },
 "nbformat": 4,
 "nbformat_minor": 5
}
