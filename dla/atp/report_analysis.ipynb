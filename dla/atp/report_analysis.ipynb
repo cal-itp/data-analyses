{
 "cells": [
  {
   "cell_type": "markdown",
   "id": "7b9b7325-7a69-467a-af59-9e5974411587",
   "metadata": {},
   "source": [
    "# Notebook to prep functions for report"
   ]
  },
  {
   "cell_type": "code",
   "execution_count": 1,
   "id": "dd2992c9-ca98-4774-b599-411ca38f3769",
   "metadata": {},
   "outputs": [
    {
     "name": "stderr",
     "output_type": "stream",
     "text": [
      "/opt/conda/lib/python3.10/site-packages/geopandas/_compat.py:123: UserWarning: The Shapely GEOS version (3.10.3-CAPI-1.16.1) is incompatible with the GEOS version PyGEOS was compiled with (3.10.1-CAPI-1.16.0). Conversions between both will be slow.\n",
      "  warnings.warn(\n"
     ]
    },
    {
     "ename": "ImportError",
     "evalue": "cannot import name 'tbl' from 'calitp.tables' (/opt/conda/lib/python3.10/site-packages/calitp/tables.py)",
     "output_type": "error",
     "traceback": [
      "\u001b[0;31m---------------------------------------------------------------------------\u001b[0m",
      "\u001b[0;31mImportError\u001b[0m                               Traceback (most recent call last)",
      "Cell \u001b[0;32mIn [1], line 12\u001b[0m\n\u001b[1;32m      9\u001b[0m \u001b[38;5;28;01mimport\u001b[39;00m \u001b[38;5;21;01maltair\u001b[39;00m \u001b[38;5;28;01mas\u001b[39;00m \u001b[38;5;21;01malt\u001b[39;00m\n\u001b[1;32m     11\u001b[0m \u001b[38;5;28;01mimport\u001b[39;00m \u001b[38;5;21;01m_data_cleaning\u001b[39;00m\n\u001b[0;32m---> 12\u001b[0m \u001b[38;5;28;01mimport\u001b[39;00m \u001b[38;5;21;01m_report_utils\u001b[39;00m\n",
      "File \u001b[0;32m~/data-analyses/dla/atp/_report_utils.py:12\u001b[0m\n\u001b[1;32m     10\u001b[0m \u001b[38;5;28;01mimport\u001b[39;00m \u001b[38;5;21;01mpandas\u001b[39;00m \u001b[38;5;28;01mas\u001b[39;00m \u001b[38;5;21;01mpd\u001b[39;00m\n\u001b[1;32m     11\u001b[0m \u001b[38;5;28;01mfrom\u001b[39;00m \u001b[38;5;21;01mcalitp\u001b[39;00m \u001b[38;5;28;01mimport\u001b[39;00m to_snakecase\n\u001b[0;32m---> 12\u001b[0m \u001b[38;5;28;01mfrom\u001b[39;00m \u001b[38;5;21;01mdla_utils\u001b[39;00m \u001b[38;5;28;01mimport\u001b[39;00m _dla_utils\n\u001b[1;32m     13\u001b[0m \u001b[38;5;28;01mfrom\u001b[39;00m \u001b[38;5;21;01mIPython\u001b[39;00m\u001b[38;5;21;01m.\u001b[39;00m\u001b[38;5;21;01mdisplay\u001b[39;00m \u001b[38;5;28;01mimport\u001b[39;00m HTML, Markdown\n\u001b[1;32m     14\u001b[0m \u001b[38;5;28;01mfrom\u001b[39;00m \u001b[38;5;21;01msiuba\u001b[39;00m \u001b[38;5;28;01mimport\u001b[39;00m \u001b[38;5;241m*\u001b[39m\n",
      "File \u001b[0;32m~/data-analyses/dla/dla_utils/dla_utils/_dla_utils.py:20\u001b[0m\n\u001b[1;32m     17\u001b[0m \u001b[38;5;28;01mfrom\u001b[39;00m \u001b[38;5;21;01mIPython\u001b[39;00m\u001b[38;5;21;01m.\u001b[39;00m\u001b[38;5;21;01mcore\u001b[39;00m\u001b[38;5;21;01m.\u001b[39;00m\u001b[38;5;21;01mdisplay\u001b[39;00m \u001b[38;5;28;01mimport\u001b[39;00m display\n\u001b[1;32m     19\u001b[0m \u001b[38;5;66;03m#from shared_utils import altair_utils\u001b[39;00m\n\u001b[0;32m---> 20\u001b[0m \u001b[38;5;28;01mfrom\u001b[39;00m \u001b[38;5;21;01mshared_utils\u001b[39;00m \u001b[38;5;28;01mimport\u001b[39;00m geography_utils\n\u001b[1;32m     21\u001b[0m \u001b[38;5;28;01mfrom\u001b[39;00m \u001b[38;5;21;01mshared_utils\u001b[39;00m \u001b[38;5;28;01mimport\u001b[39;00m calitp_color_palette \u001b[38;5;28;01mas\u001b[39;00m cp\n\u001b[1;32m     22\u001b[0m \u001b[38;5;28;01mfrom\u001b[39;00m \u001b[38;5;21;01mshared_utils\u001b[39;00m \u001b[38;5;28;01mimport\u001b[39;00m styleguide\n",
      "File \u001b[0;32m~/data-analyses/_shared_utils/shared_utils/__init__.py:1\u001b[0m\n\u001b[0;32m----> 1\u001b[0m \u001b[38;5;28;01mfrom\u001b[39;00m \u001b[38;5;21;01m.\u001b[39;00m \u001b[38;5;28;01mimport\u001b[39;00m (\n\u001b[1;32m      2\u001b[0m     altair_utils,\n\u001b[1;32m      3\u001b[0m     calitp_color_palette,\n\u001b[1;32m      4\u001b[0m     geography_utils,\n\u001b[1;32m      5\u001b[0m   \u001b[38;5;66;03m#  gtfs_utils,\u001b[39;00m\n\u001b[1;32m      6\u001b[0m     map_utils,\n\u001b[1;32m      7\u001b[0m     portfolio_utils,\n\u001b[1;32m      8\u001b[0m     rt_dates,\n\u001b[1;32m      9\u001b[0m     rt_utils,\n\u001b[1;32m     10\u001b[0m     styleguide,\n\u001b[1;32m     11\u001b[0m     utils,\n\u001b[1;32m     12\u001b[0m )\n\u001b[1;32m     14\u001b[0m __version__ \u001b[38;5;241m=\u001b[39m \u001b[38;5;124m\"\u001b[39m\u001b[38;5;124m0.1.2\u001b[39m\u001b[38;5;124m\"\u001b[39m\n\u001b[1;32m     16\u001b[0m __all__ \u001b[38;5;241m=\u001b[39m [\n\u001b[1;32m     17\u001b[0m     \u001b[38;5;124m\"\u001b[39m\u001b[38;5;124maltair_utils\u001b[39m\u001b[38;5;124m\"\u001b[39m,\n\u001b[1;32m     18\u001b[0m     \u001b[38;5;124m\"\u001b[39m\u001b[38;5;124mcalitp_color_palette\u001b[39m\u001b[38;5;124m\"\u001b[39m,\n\u001b[0;32m   (...)\u001b[0m\n\u001b[1;32m     26\u001b[0m     \u001b[38;5;124m\"\u001b[39m\u001b[38;5;124mutils\u001b[39m\u001b[38;5;124m\"\u001b[39m,\n\u001b[1;32m     27\u001b[0m ]\n",
      "File \u001b[0;32m~/data-analyses/_shared_utils/shared_utils/portfolio_utils.py:14\u001b[0m\n\u001b[1;32m     11\u001b[0m \u001b[38;5;28;01mimport\u001b[39;00m \u001b[38;5;21;01mdatetime\u001b[39;00m \u001b[38;5;28;01mas\u001b[39;00m \u001b[38;5;21;01mdt\u001b[39;00m\n\u001b[1;32m     13\u001b[0m \u001b[38;5;28;01mimport\u001b[39;00m \u001b[38;5;21;01mpandas\u001b[39;00m \u001b[38;5;28;01mas\u001b[39;00m \u001b[38;5;21;01mpd\u001b[39;00m\n\u001b[0;32m---> 14\u001b[0m \u001b[38;5;28;01mfrom\u001b[39;00m \u001b[38;5;21;01mcalitp\u001b[39;00m\u001b[38;5;21;01m.\u001b[39;00m\u001b[38;5;21;01mtables\u001b[39;00m \u001b[38;5;28;01mimport\u001b[39;00m tbl\n\u001b[1;32m     15\u001b[0m \u001b[38;5;28;01mfrom\u001b[39;00m \u001b[38;5;21;01mshared_utils\u001b[39;00m \u001b[38;5;28;01mimport\u001b[39;00m rt_utils\n\u001b[1;32m     16\u001b[0m \u001b[38;5;28;01mfrom\u001b[39;00m \u001b[38;5;21;01msiuba\u001b[39;00m \u001b[38;5;28;01mimport\u001b[39;00m \u001b[38;5;241m*\u001b[39m\n",
      "\u001b[0;31mImportError\u001b[0m: cannot import name 'tbl' from 'calitp.tables' (/opt/conda/lib/python3.10/site-packages/calitp/tables.py)"
     ]
    }
   ],
   "source": [
    "import intake\n",
    "import numpy as np\n",
    "import pandas as pd\n",
    "from calitp import to_snakecase\n",
    "#from dla_utils import _dla_utils\n",
    "from IPython.display import HTML, Markdown\n",
    "from siuba import *\n",
    "\n",
    "import altair as alt\n",
    "\n",
    "import _data_cleaning\n",
    "import _report_utils"
   ]
  },
  {
   "cell_type": "code",
   "execution_count": null,
   "id": "aadb0d1f-b2e4-4f7f-9e17-e53124b5c23b",
   "metadata": {},
   "outputs": [],
   "source": [
    "GCS_FILE_PATH = 'gs://calitp-analytics-data/data-analyses/dla/atp/'\n"
   ]
  },
  {
   "cell_type": "code",
   "execution_count": null,
   "id": "fc9f39a9-49f3-4290-9746-419616689511",
   "metadata": {},
   "outputs": [],
   "source": [
    "df = _report_utils.read_in_joined_data()"
   ]
  },
  {
   "cell_type": "code",
   "execution_count": null,
   "id": "e3330b9a-3d5b-4628-a869-89dbd9270ed1",
   "metadata": {},
   "outputs": [],
   "source": [
    "pd.set_option(\"display.max_columns\",500)"
   ]
  },
  {
   "cell_type": "code",
   "execution_count": null,
   "id": "25698dfc-8f29-41c4-b2fd-ba190c6ea69d",
   "metadata": {},
   "outputs": [],
   "source": [
    "df.head()"
   ]
  },
  {
   "cell_type": "code",
   "execution_count": null,
   "id": "1efb8ad2-8aef-4836-b604-6f41ffadeced",
   "metadata": {},
   "outputs": [],
   "source": [
    "#check to make sure this all worked - should have some Awarded Yes\n",
    "(df>>arrange(_.project_app_id, _.project_cycle)>>select(_.project_app_id, _.project_cycle, _.awarded, _.data_origin)).head(50)"
   ]
  },
  {
   "cell_type": "code",
   "execution_count": null,
   "id": "278cf7b5-6898-4725-91e4-0bb87cb994a8",
   "metadata": {},
   "outputs": [],
   "source": [
    "df>>group_by(_.project_cycle)>>count(_.data_origin)"
   ]
  },
  {
   "cell_type": "code",
   "execution_count": null,
   "id": "0751bcff-b682-416e-8d64-5dec80f47a99",
   "metadata": {},
   "outputs": [],
   "source": []
  },
  {
   "cell_type": "code",
   "execution_count": null,
   "id": "45028134-753a-4fc1-b96c-e9b5f01e94e0",
   "metadata": {},
   "outputs": [],
   "source": [
    "df>>group_by(_.project_cycle, _.awarded)>>count(_.a2_county)>>filter(_.project_cycle==5, _.n>0)>>arrange(_.a2_county)"
   ]
  },
  {
   "cell_type": "markdown",
   "id": "30286746-c66c-4ec8-8b30-6f92270de34d",
   "metadata": {},
   "source": [
    "## ISSUE"
   ]
  },
  {
   "cell_type": "markdown",
   "id": "7f6faf54-c3b6-43b3-8307-b2eabcb5df89",
   "metadata": {},
   "source": [
    "* county name is a code in the funded data. need to convert"
   ]
  },
  {
   "cell_type": "code",
   "execution_count": null,
   "id": "446aaa97-51f0-4ea7-9a73-2950fc4d6951",
   "metadata": {},
   "outputs": [],
   "source": [
    "county_place_names = (to_snakecase(pd.read_excel('gs://calitp-analytics-data/data-analyses/dla/e-76Obligated/2020-place-names-locode.xlsx', sheet_name=1)))"
   ]
  },
  {
   "cell_type": "code",
   "execution_count": null,
   "id": "fcefffa5-e353-499f-b7f5-838c4ee761e6",
   "metadata": {},
   "outputs": [],
   "source": [
    "county_place_names = county_place_names>>select(_.county_name, _.co__name_abbr_)"
   ]
  },
  {
   "cell_type": "code",
   "execution_count": null,
   "id": "6cfbf3dc-e858-4553-b3fd-a154038fe104",
   "metadata": {},
   "outputs": [],
   "source": [
    "county_place_names['co__name_abbr_'] = county_place_names['co__name_abbr_'].str.upper()"
   ]
  },
  {
   "cell_type": "code",
   "execution_count": null,
   "id": "4b4291c5-4cb0-4df1-8cd0-939b03a185f5",
   "metadata": {},
   "outputs": [],
   "source": [
    "county_map = dict(county_place_names[['co__name_abbr_', 'county_name']].values)"
   ]
  },
  {
   "cell_type": "code",
   "execution_count": null,
   "id": "0d7d1910-927e-4537-90fc-b28da4f61d7b",
   "metadata": {},
   "outputs": [],
   "source": [
    "county_map"
   ]
  },
  {
   "cell_type": "code",
   "execution_count": null,
   "id": "03fe0af1-3b37-4fae-a06f-d7a87421e0b9",
   "metadata": {},
   "outputs": [],
   "source": [
    "#need to make a new column, then fill na with og column\n",
    "#df['a2_county_2'] = df.a2_county.map(county_map)"
   ]
  },
  {
   "cell_type": "code",
   "execution_count": null,
   "id": "fb961459-5394-41cf-a70e-7e5d32de1e7b",
   "metadata": {},
   "outputs": [],
   "source": []
  },
  {
   "cell_type": "code",
   "execution_count": null,
   "id": "19125859-8bae-43e1-b9a6-a7a61e7f8d9d",
   "metadata": {},
   "outputs": [],
   "source": []
  },
  {
   "cell_type": "code",
   "execution_count": null,
   "id": "629ed2b4-3746-4184-95c5-dc85f0dcc85f",
   "metadata": {},
   "outputs": [],
   "source": []
  },
  {
   "cell_type": "code",
   "execution_count": null,
   "id": "c81fe129-24b9-4bd9-b591-23344dd448f7",
   "metadata": {},
   "outputs": [],
   "source": []
  },
  {
   "cell_type": "code",
   "execution_count": null,
   "id": "eccbc1eb-cc77-4e06-b594-7e0ce416598f",
   "metadata": {},
   "outputs": [],
   "source": []
  },
  {
   "cell_type": "code",
   "execution_count": null,
   "id": "3f3433c3-14bd-450c-9f62-fc6e2080cbbf",
   "metadata": {},
   "outputs": [],
   "source": [
    "df>>group_by(_.project_cycle, _.awarded)>>count(_.a2_county)>>filter(_.project_cycle==5, _.n>0)>>arrange(_.a2_county)"
   ]
  },
  {
   "cell_type": "code",
   "execution_count": null,
   "id": "90d3b641-b2b1-4c80-a729-3b2eb7a58541",
   "metadata": {},
   "outputs": [],
   "source": []
  },
  {
   "cell_type": "code",
   "execution_count": null,
   "id": "7333addc-f41f-410f-ad23-ce62aa2e53c6",
   "metadata": {},
   "outputs": [],
   "source": []
  }
 ],
 "metadata": {
  "kernelspec": {
   "display_name": "Python 3 (ipykernel)",
   "language": "python",
   "name": "python3"
  },
  "language_info": {
   "codemirror_mode": {
    "name": "ipython",
    "version": 3
   },
   "file_extension": ".py",
   "mimetype": "text/x-python",
   "name": "python",
   "nbconvert_exporter": "python",
   "pygments_lexer": "ipython3",
   "version": "3.10.6"
  },
  "widgets": {
   "application/vnd.jupyter.widget-state+json": {
    "state": {},
    "version_major": 2,
    "version_minor": 0
   }
  }
 },
 "nbformat": 4,
 "nbformat_minor": 5
}
