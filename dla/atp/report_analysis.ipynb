{
 "cells": [
  {
   "cell_type": "markdown",
   "id": "7b9b7325-7a69-467a-af59-9e5974411587",
   "metadata": {},
   "source": [
    "# ATP Report"
   ]
  },
  {
   "cell_type": "markdown",
   "id": "d8b6c21c-03a2-4a29-a8cd-20e1f5b92978",
   "metadata": {},
   "source": [
    "This report is ana anlysis of the Active Transportation Program Application Cycles. Currently, this analysis is grouped at the **cycle** level. "
   ]
  },
  {
   "cell_type": "code",
   "execution_count": 1,
   "id": "6eee8d0c-6e66-4e3e-9507-ca8d7f1330ef",
   "metadata": {},
   "outputs": [],
   "source": [
    "import warnings\n",
    "warnings.filterwarnings('ignore')\n"
   ]
  },
  {
   "cell_type": "code",
   "execution_count": 2,
   "id": "dd2992c9-ca98-4774-b599-411ca38f3769",
   "metadata": {},
   "outputs": [],
   "source": [
    "%%capture\n",
    "import intake\n",
    "import numpy as np\n",
    "import pandas as pd\n",
    "import geopandas as gpd\n",
    "from calitp import to_snakecase\n",
    "from dla_utils import _dla_utils\n",
    "from IPython.display import HTML, Markdown\n",
    "from siuba import *\n",
    "from shared_utils import geography_utils\n",
    "\n",
    "import altair as alt\n",
    "\n",
    "import _data_cleaning\n",
    "import _report_utils"
   ]
  },
  {
   "cell_type": "code",
   "execution_count": 3,
   "id": "574c019c-9cd2-41ea-be68-117a531c52e7",
   "metadata": {},
   "outputs": [],
   "source": [
    "import fiona\n",
    "\n",
    "from ipyleaflet import Map, GeoJSON, projections, basemaps, GeoData, LayersControl, WidgetControl, GeoJSON, LegendControl\n",
    "from ipywidgets import Text, HTML"
   ]
  },
  {
   "cell_type": "code",
   "execution_count": 4,
   "id": "aadb0d1f-b2e4-4f7f-9e17-e53124b5c23b",
   "metadata": {},
   "outputs": [],
   "source": [
    "GCS_FILE_PATH = 'gs://calitp-analytics-data/data-analyses/dla/atp/'\n"
   ]
  },
  {
   "cell_type": "code",
   "execution_count": 5,
   "id": "022e1341-d471-4eb8-a751-421703754ba3",
   "metadata": {},
   "outputs": [],
   "source": [
    "## read in data"
   ]
  },
  {
   "cell_type": "code",
   "execution_count": 6,
   "id": "fc9f39a9-49f3-4290-9746-419616689511",
   "metadata": {
    "tags": []
   },
   "outputs": [],
   "source": [
    "df = _report_utils.read_in_joined_data()"
   ]
  },
  {
   "cell_type": "code",
   "execution_count": 7,
   "id": "86189da4-7a89-40cd-adad-3cd1c5b686ba",
   "metadata": {},
   "outputs": [],
   "source": [
    "df = (_report_utils.reorder_namecol(df,\n",
    "                    og_name_col= 'a1_imp_agcy_name',\n",
    "                    new_name_col= 'imp_agency_name_new', \n",
    "                    split_on = \", \",\n",
    "                   order_on ='pt2_pt1'))"
   ]
  },
  {
   "cell_type": "code",
   "execution_count": 8,
   "id": "e3330b9a-3d5b-4628-a869-89dbd9270ed1",
   "metadata": {},
   "outputs": [],
   "source": [
    "pd.set_option(\"display.max_columns\",500)"
   ]
  },
  {
   "cell_type": "code",
   "execution_count": 9,
   "id": "8bb03fd8-92da-405b-86a6-9ab7d0f0a1de",
   "metadata": {
    "tags": [
     "Parameters"
    ]
   },
   "outputs": [],
   "source": [
    "## paramaters cell -- not using \n",
    "#district = 4"
   ]
  },
  {
   "cell_type": "code",
   "execution_count": 10,
   "id": "9abe7463-f7a0-496a-ab71-c95efad47b42",
   "metadata": {
    "tags": [
     "Parameters"
    ]
   },
   "outputs": [],
   "source": [
    "## parameters cell\n",
    "cycle = 5"
   ]
  },
  {
   "cell_type": "code",
   "execution_count": 11,
   "id": "9b6def9d-0d12-4a85-ae47-161c572f4228",
   "metadata": {},
   "outputs": [],
   "source": [
    "## subset df to just the district\n",
    "#df = df_all>>filter(_.a2_ct_dist==district)"
   ]
  },
  {
   "cell_type": "code",
   "execution_count": 12,
   "id": "310748ca-50e6-46ff-bd96-34a77104a359",
   "metadata": {},
   "outputs": [],
   "source": [
    "df = df>>filter(_.project_cycle==cycle)"
   ]
  },
  {
   "cell_type": "code",
   "execution_count": 13,
   "id": "2e330a16-7021-4078-8e80-878cf127a051",
   "metadata": {
    "tags": []
   },
   "outputs": [
    {
     "data": {
      "application/vnd.jupyter.widget-view+json": {
       "model_id": "d32dc4fea0fd40c9bcd3c8532639c013",
       "version_major": 2,
       "version_minor": 0
      },
      "text/plain": [
       "HTML(value='<h2>Quick Stats</h2>')"
      ]
     },
     "metadata": {},
     "output_type": "display_data"
    },
    {
     "data": {
      "application/vnd.jupyter.widget-view+json": {
       "model_id": "323254d828e246c18893e9038802fe45",
       "version_major": 2,
       "version_minor": 0
      },
      "text/plain": [
       "HTML(value='Out of 450 Active Transportation Program Project Applications, there are <strong>49 projects</stro…"
      ]
     },
     "metadata": {},
     "output_type": "display_data"
    }
   ],
   "source": [
    "display(HTML(\"<h2>Quick Stats</h2>\"))\n",
    "\n",
    "display(HTML(f\"Out of {len(df)} Active Transportation Program Project Applications, \"\n",
    "            f\"there are <strong>{(df>>filter(_.awarded=='Y')).project_app_id.nunique()} \"\n",
    "            f\"projects</strong> that recieved funding over \"\n",
    "            f\"{df.project_cycle.nunique()} cycles\"))\n"
   ]
  },
  {
   "cell_type": "code",
   "execution_count": 14,
   "id": "278cf7b5-6898-4725-91e4-0bb87cb994a8",
   "metadata": {
    "tags": []
   },
   "outputs": [
    {
     "data": {
      "application/vnd.jupyter.widget-view+json": {
       "model_id": "8da648b143c548b5a5971dc709e2da8a",
       "version_major": 2,
       "version_minor": 0
      },
      "text/plain": [
       "HTML(value='<h4> What were the application outcomes in Cycle 5?</h4>')"
      ]
     },
     "metadata": {},
     "output_type": "display_data"
    },
    {
     "data": {
      "application/vnd.jupyter.widget-view+json": {
       "model_id": "536e1e4ee6744313bf46ed7c1749d630",
       "version_major": 2,
       "version_minor": 0
      },
      "text/plain": [
       "HTML(value='<style type=\"text/css\">\\n#T_0a10b_ th {\\n  text-align: center;\\n}\\n#T_0a10b_row0_col0, #T_0a10b_ro…"
      ]
     },
     "metadata": {},
     "output_type": "display_data"
    }
   ],
   "source": [
    "display(HTML(f\"<h4> What were the application outcomes \"\n",
    "             # f\"for District {district} \"\n",
    "             f\"in Cycle {cycle}?</h4>\"))\n",
    "display(HTML(_dla_utils.pretify_tables((df>>count(_.data_origin)))))"
   ]
  },
  {
   "cell_type": "code",
   "execution_count": null,
   "id": "e7e90a9f-f276-4c6e-b581-10479e7a2554",
   "metadata": {},
   "outputs": [],
   "source": []
  },
  {
   "cell_type": "code",
   "execution_count": 15,
   "id": "29244e0c-e1d5-4cfe-b3b6-95b8420f5b77",
   "metadata": {},
   "outputs": [],
   "source": [
    "#df>>group_by(_.awarded)>>count(_.a2_county)>>arrange(_.a2_county)"
   ]
  },
  {
   "cell_type": "code",
   "execution_count": null,
   "id": "9bb78cb1-f4ea-4e7a-b5a7-7d1bd08c8463",
   "metadata": {},
   "outputs": [],
   "source": []
  },
  {
   "cell_type": "markdown",
   "id": "7a6508a3-a4ee-4d79-8358-cdf215d7892f",
   "metadata": {},
   "source": [
    "## Mapping"
   ]
  },
  {
   "cell_type": "code",
   "execution_count": 16,
   "id": "aee2a875-f1cd-4314-b394-afe99b87e34e",
   "metadata": {},
   "outputs": [],
   "source": [
    "import folium"
   ]
  },
  {
   "cell_type": "code",
   "execution_count": 17,
   "id": "8839ec70-db14-4e5f-8cb6-a83fdb31a336",
   "metadata": {},
   "outputs": [],
   "source": [
    "df_map = _report_utils.prep_mapping_data(df)"
   ]
  },
  {
   "cell_type": "code",
   "execution_count": 18,
   "id": "96ac603c-f474-435c-80df-56e2f635c66c",
   "metadata": {},
   "outputs": [],
   "source": [
    "## from amanda's notebook for Project prioritization: https://github.com/cal-itp/data-analyses/blob/main/project_prioritization/_utils.py\n",
    "shapes = \"https://gis.data.ca.gov/datasets/0144574f750f4ccc88749004aca6eb0c_0.geojson?outSR=%7B%22latestWkid%22%3A3857%2C%22wkid%22%3A102100%7D\"\n",
    "district_shapes = gpd.read_file(f\"{shapes}\").to_crs(epsg=4326)  \n",
    "\n",
    "by_dist = _report_utils.nunique_by_geography(df_map,\n",
    "                         district_shapes,\n",
    "                         groupby_cols = ['a2_ct_dist', 'data_origin'],\n",
    "                         agg_col=  'project_app_id',\n",
    "                         geodf_merge_on_col = 'DISTRICT',\n",
    "                         sum_merge_on_col = 'a2_ct_dist')"
   ]
  },
  {
   "cell_type": "code",
   "execution_count": 19,
   "id": "ebe5a692-56c6-4df4-b6e0-5b273397dd9f",
   "metadata": {},
   "outputs": [
    {
     "data": {
      "application/vnd.jupyter.widget-view+json": {
       "model_id": "edee7f24735f402d8f30dd2938e4e46d",
       "version_major": 2,
       "version_minor": 0
      },
      "text/plain": [
       "HTML(value='<h3>Number of Applications by County</h3>')"
      ]
     },
     "metadata": {},
     "output_type": "display_data"
    }
   ],
   "source": [
    "display(HTML(\"<h3>Number of Applications by County</h3>\"))"
   ]
  },
  {
   "cell_type": "code",
   "execution_count": 52,
   "id": "e91fd260-22fe-4d90-8d01-2bbcb844e27b",
   "metadata": {},
   "outputs": [],
   "source": [
    "# m = by_dist.explore(\n",
    "#      column=\"Application\", \n",
    "#      legend=True,\n",
    "#     cmap = 'Oranges',\n",
    "#      legend_kwds=dict(colorbar=True),\n",
    "#      tooltip=[\"DISTRICT\", \"Application\"], \n",
    "#      name=\"Number of Applications by County\")\n",
    "\n",
    "# df_map.explore(\n",
    "#      m=m, \n",
    "#      color=\"data_origin\", \n",
    "#      marker_kwds=dict(radius=3, fill=True),\n",
    "#      tooltip=[\"data_origin\", \"project_cycle\", \"imp_agency_name_new\", \"a1_imp_agcy_city\", \"a2_info_proj_name\"], \n",
    "#      tooltip_kwds=dict(labels=True),\n",
    "#      name=\"Project Locations\"\n",
    "# )\n",
    "\n",
    "# folium.TileLayer('Stamen Toner', control=True).add_to(m) \n",
    "# folium.LayerControl().add_to(m)\n",
    "\n",
    "# m"
   ]
  },
  {
   "cell_type": "code",
   "execution_count": null,
   "id": "6fbdb3d3-24f8-4bbc-a298-d040b0ef63b1",
   "metadata": {},
   "outputs": [],
   "source": []
  },
  {
   "cell_type": "code",
   "execution_count": 21,
   "id": "e18db5eb-52c9-4ecd-b7c0-2f3d98394d20",
   "metadata": {},
   "outputs": [],
   "source": [
    "districts = _report_utils.get_district_level_data(by_dist, df_map)"
   ]
  },
  {
   "cell_type": "code",
   "execution_count": 22,
   "id": "4c517eec-cf3b-4f1a-a745-5a21a77f95f8",
   "metadata": {},
   "outputs": [
    {
     "data": {
      "application/vnd.jupyter.widget-view+json": {
       "model_id": "756502f3cf14477cbe13fc4c819d44ff",
       "version_major": 2,
       "version_minor": 0
      },
      "text/plain": [
       "HTML(value='<h3>Mapping Option for Assembly Districts (or others)</h3>')"
      ]
     },
     "metadata": {},
     "output_type": "display_data"
    }
   ],
   "source": [
    "display(HTML(\"<h3>Mapping Option for Assembly Districts (or others)</h3>\"))"
   ]
  },
  {
   "cell_type": "code",
   "execution_count": 53,
   "id": "9677fd1a-0de6-425f-bf17-0fb578bb876b",
   "metadata": {},
   "outputs": [],
   "source": [
    "# _report_utils.map_districts(districts, \n",
    "#                  district_type= \"Assembly District\",\n",
    "#                  district_type_col= \"District Type\",\n",
    "#                  mapping_col= \"Success Rate\",\n",
    "#               tool_tip_cols= ['District Type', 'District', 'Success Rate'])"
   ]
  },
  {
   "cell_type": "code",
   "execution_count": null,
   "id": "e3cb8aef-0ead-4439-9ce9-5408a4456981",
   "metadata": {},
   "outputs": [],
   "source": []
  },
  {
   "cell_type": "code",
   "execution_count": null,
   "id": "c25c6294-4f49-439b-a5ea-e3a3af0b69f5",
   "metadata": {},
   "outputs": [],
   "source": []
  },
  {
   "cell_type": "code",
   "execution_count": 24,
   "id": "1b2afd41-668e-4fd6-83a7-bf927ed8d607",
   "metadata": {},
   "outputs": [
    {
     "data": {
      "application/vnd.jupyter.widget-view+json": {
       "model_id": "6aa7bfae5c364f3d95517755ce5130c9",
       "version_major": 2,
       "version_minor": 0
      },
      "text/plain": [
       "HTML(value='<h3>Mapping Option for All Districts (dropdown)</h3>')"
      ]
     },
     "metadata": {},
     "output_type": "display_data"
    }
   ],
   "source": [
    "display(HTML(\"<h3>Mapping Option for All Districts (dropdown)</h3>\"))"
   ]
  },
  {
   "cell_type": "code",
   "execution_count": 25,
   "id": "478199c5-bcaa-4487-8bdd-8f45c8cebb3f",
   "metadata": {},
   "outputs": [],
   "source": [
    "#_report_utils.add_dropdown_map(districts)"
   ]
  },
  {
   "cell_type": "code",
   "execution_count": null,
   "id": "ced48df1-2388-4364-a277-359a7f776639",
   "metadata": {},
   "outputs": [],
   "source": []
  },
  {
   "cell_type": "code",
   "execution_count": 26,
   "id": "f8dda8e2-3c5d-4bd9-a3a8-bca0ab9cc479",
   "metadata": {},
   "outputs": [],
   "source": [
    "## Metrics"
   ]
  },
  {
   "cell_type": "code",
   "execution_count": 27,
   "id": "4aadcc90-ad07-4159-9e22-739a7df017f4",
   "metadata": {},
   "outputs": [],
   "source": [
    "# unique_agencies = df>>group_by(_.project_cycle, _.a2_county, _.data_origin)>>summarize(n_unique_agency= _.imp_agency_name_new.nunique())"
   ]
  },
  {
   "cell_type": "code",
   "execution_count": 28,
   "id": "aa81acfc-b5b9-4b45-9409-cb917a01c1bc",
   "metadata": {},
   "outputs": [],
   "source": [
    "# unique_agencies =(spread(unique_agencies, \"data_origin\", \"n_unique_agency\"))"
   ]
  },
  {
   "cell_type": "code",
   "execution_count": 29,
   "id": "0f4b767f-c6e6-4191-a043-3564223f51c6",
   "metadata": {},
   "outputs": [],
   "source": [
    "# unique_agencies = unique_agencies.rename(columns={\"a2_county\":\"county_name\"})"
   ]
  },
  {
   "cell_type": "code",
   "execution_count": 30,
   "id": "9187743d-a4b6-449f-937b-3188c72dc841",
   "metadata": {},
   "outputs": [],
   "source": [
    "# unique_agencies['Application'].fillna(0, inplace=True)\n",
    "# unique_agencies['Funded'].fillna(0, inplace=True)"
   ]
  },
  {
   "cell_type": "code",
   "execution_count": 31,
   "id": "fe8f9b66-a1b1-4944-85e4-a1908e49b6bb",
   "metadata": {},
   "outputs": [],
   "source": [
    "# unique_agencies['Application'] = unique_agencies['Application'].astype('int32')\n",
    "# unique_agencies['Funded'] = unique_agencies['Funded'].astype('int32')"
   ]
  },
  {
   "cell_type": "code",
   "execution_count": 32,
   "id": "92ecf49d-05fe-499d-96a0-2c94eee155da",
   "metadata": {},
   "outputs": [],
   "source": [
    "# display(HTML(\"<h3>Number of Unique Agencies By County</h3>\"))\n",
    "# display(HTML(_dla_utils.pretify_tables(unique_agencies)))\n"
   ]
  },
  {
   "cell_type": "code",
   "execution_count": null,
   "id": "d3cb1012-5c05-4f90-a53e-18eac6538429",
   "metadata": {},
   "outputs": [],
   "source": []
  },
  {
   "cell_type": "markdown",
   "id": "1dd5cbf3-2472-4b3c-9d60-2c420e6b483c",
   "metadata": {},
   "source": [
    "## Application and Funded Project Details by District"
   ]
  },
  {
   "cell_type": "code",
   "execution_count": 33,
   "id": "4dae3dd6-d800-49e2-af4e-fa7da7ea9a23",
   "metadata": {},
   "outputs": [],
   "source": [
    "from shared_utils import altair_utils"
   ]
  },
  {
   "cell_type": "code",
   "execution_count": 34,
   "id": "8ead3940-86bb-4c6a-8a8f-0f4943714ea1",
   "metadata": {},
   "outputs": [],
   "source": [
    "funded = df>>filter(_.awarded=='Y')"
   ]
  },
  {
   "cell_type": "markdown",
   "id": "2688828f-2855-46ff-9dc2-acb7390f6a21",
   "metadata": {},
   "source": [
    "### District 1 - Eureka"
   ]
  },
  {
   "cell_type": "code",
   "execution_count": 35,
   "id": "38dbfe94-0ea6-439e-9a40-27739986648f",
   "metadata": {},
   "outputs": [
    {
     "data": {
      "text/html": [
       "\n",
       "<div id=\"altair-viz-1f85cc9e59434949b828303788bfd377\"></div>\n",
       "<script type=\"text/javascript\">\n",
       "  var VEGA_DEBUG = (typeof VEGA_DEBUG == \"undefined\") ? {} : VEGA_DEBUG;\n",
       "  (function(spec, embedOpt){\n",
       "    let outputDiv = document.currentScript.previousElementSibling;\n",
       "    if (outputDiv.id !== \"altair-viz-1f85cc9e59434949b828303788bfd377\") {\n",
       "      outputDiv = document.getElementById(\"altair-viz-1f85cc9e59434949b828303788bfd377\");\n",
       "    }\n",
       "    const paths = {\n",
       "      \"vega\": \"https://cdn.jsdelivr.net/npm//vega@5?noext\",\n",
       "      \"vega-lib\": \"https://cdn.jsdelivr.net/npm//vega-lib?noext\",\n",
       "      \"vega-lite\": \"https://cdn.jsdelivr.net/npm//vega-lite@4.17.0?noext\",\n",
       "      \"vega-embed\": \"https://cdn.jsdelivr.net/npm//vega-embed@6?noext\",\n",
       "    };\n",
       "\n",
       "    function maybeLoadScript(lib, version) {\n",
       "      var key = `${lib.replace(\"-\", \"\")}_version`;\n",
       "      return (VEGA_DEBUG[key] == version) ?\n",
       "        Promise.resolve(paths[lib]) :\n",
       "        new Promise(function(resolve, reject) {\n",
       "          var s = document.createElement('script');\n",
       "          document.getElementsByTagName(\"head\")[0].appendChild(s);\n",
       "          s.async = true;\n",
       "          s.onload = () => {\n",
       "            VEGA_DEBUG[key] = version;\n",
       "            return resolve(paths[lib]);\n",
       "          };\n",
       "          s.onerror = () => reject(`Error loading script: ${paths[lib]}`);\n",
       "          s.src = paths[lib];\n",
       "        });\n",
       "    }\n",
       "\n",
       "    function showError(err) {\n",
       "      outputDiv.innerHTML = `<div class=\"error\" style=\"color:red;\">${err}</div>`;\n",
       "      throw err;\n",
       "    }\n",
       "\n",
       "    function displayChart(vegaEmbed) {\n",
       "      vegaEmbed(outputDiv, spec, embedOpt)\n",
       "        .catch(err => showError(`Javascript Error: ${err.message}<br>This usually means there's a typo in your chart specification. See the javascript console for the full traceback.`));\n",
       "    }\n",
       "\n",
       "    if(typeof define === \"function\" && define.amd) {\n",
       "      requirejs.config({paths});\n",
       "      require([\"vega-embed\"], displayChart, err => showError(`Error loading script: ${err.message}`));\n",
       "    } else {\n",
       "      maybeLoadScript(\"vega\", \"5\")\n",
       "        .then(() => maybeLoadScript(\"vega-lite\", \"4.17.0\"))\n",
       "        .then(() => maybeLoadScript(\"vega-embed\", \"6\"))\n",
       "        .catch(showError)\n",
       "        .then(() => displayChart(vegaEmbed));\n",
       "    }\n",
       "  })({\"config\": {\"view\": {\"continuousWidth\": 400, \"continuousHeight\": 300}}, \"data\": {\"name\": \"data-0d5464036603d36e88642560a8d15c5b\"}, \"mark\": \"bar\", \"encoding\": {\"color\": {\"field\": \"Project Name\", \"legend\": null, \"scale\": {\"range\": [\"#E16B26\", \"#EB9F3C\", \"#f6e7e1\", \"#8CBCCB\", \"#2EA8CE\", \"#136C97\"]}, \"type\": \"nominal\"}, \"tooltip\": [{\"field\": \"Project Name\", \"type\": \"nominal\"}, {\"field\": \"Total ATP Funds\", \"type\": \"quantitative\"}], \"x\": {\"field\": \"Total ATP Funds\", \"type\": \"quantitative\"}, \"y\": {\"field\": \"Implemeting Agency Name\", \"type\": \"nominal\"}}, \"title\": \"Total ATP Funds by Project\", \"$schema\": \"https://vega.github.io/schema/vega-lite/v4.17.0.json\", \"datasets\": {\"data-0d5464036603d36e88642560a8d15c5b\": [{\"Project ID\": \"1-Clearlake, City of-1\", \"project_cycle\": 5, \"a1_locode\": 5427.0, \"#\": null, \"atp_id\": null, \"awarded\": \"Y\", \"ppno\": 3204, \"ppno_1\": null, \"data_origin\": \"Funded\", \"geometry\": null, \"project_status\": \"Active\", \"solicitation_abv\": \"R\", \"solicitation\": \"SMALL URBAN & RURAL SOLICITATION-CYCLE 5\", \"soliciting_agency\": \"CALTRANS\", \"project_size\": \"Small\", \"a1_imp_agcy_city\": \"Clearlake\", \"a1_imp_agcy_name\": \"Clearlake, City of\", \"a1_proj_partner_agcy\": null, \"a1_proj_partner_exists\": \"No \", \"assembly_district\": 4, \"congressional_district\": 3, \"senate_district\": 2, \"County\": \"Lake\", \"a2_ct_dist\": 1, \"a2_info_proj_descr\": \"Construct curb, gutter and sidewalk, and add bike lanes, to an area hosting a planned transit hub near key generators such as schools, retail establishments, and public services.\", \"a2_info_proj_loc\": \"Within the City of Clearlake, area including Dam Road Extension and South Center Drive, excluding planned improvements associated with the construction of a new corner transit hub.\", \"Project Name\": \"Dam Road Extension & South Center Drive Bike/Pedestrian Improvements\", \"a2_mop_uza_population\": \"Project is located outside one of the ten large MPOs in a UZA with Pop <=200,000 and > than 5,000\", \"a2_mpo\": \"Caltrans\", \"a2_rtpa\": \"Lake CCAPC\", \"a2_proj_scope_summary\": \"The project will expand bicycle and pedestrian networks within the economically disadvantaged City of Clearlake, by adding bike lanes and sidewalks to one of its key developing areas.  Goal CI 4 of the City\\u2019s 2040 General Plan identifies the need to \\u201cenha\", \"a1_imp_agcy_fed_ma_num\": \"01-5427R\", \"a1_imp_agcy_ma\": \"Yes\", \"a1_imp_agcy_state_ma_num\": \"0087S\", \"a1_imp_agcy_street\": \"14050 Olympic Drive\", \"a1_imp_agcy_title\": \"Engineer Technician\", \"a1_imp_agcy_zip\": 95422, \"a1_letter_of_intent\": null, \"a1_proj_partner_title\": null, \"a2_assem_dist_a\": 4.0, \"a2_assem_dist_b\": null, \"a2_assem_dist_c\": null, \"a2_congress_dist_a\": 3.0, \"a2_congress_dist_b\": null, \"a2_congress_dist_c\": null, \"a2_past_proj\": \"Yes                           \", \"a2_past_proj_qty\": 1, \"a2_proj_lat\": 38.560068, \"a2_proj_long\": 122.370451, \"a2_project_location_map\": null, \"a2_senate_dist_a\": 2.0, \"a2_senate_dist_b\": null, \"a2_senatedistc\": null, \"a3_plan_active_trans\": null, \"a3_plan_active_trans_exists\": \"Yes\", \"a3_plan_bicycle\": null, \"a3_plan_bicycle_exists\": \"Yes\", \"a3_plan_ped\": null, \"a3_plan_ped_exists\": \"Yes\", \"a3_plan_srts\": null, \"a3_plan_srts_exists\": \"No \", \"a3_proj_type\": null, \"a3_st_bicycle_applies\": \"Yes\", \"a3_st_bicycle_pct\": 50.0, \"a3_st_num_schools\": 1, \"a3_st_ped_applies\": \"Yes\", \"a3_st_ped_pct\": 50, \"a3_st_srts\": \"Yes\", \"a3_trail_elig_cost\": 0.0, \"a3_trail_fed_funding\": null, \"a3_trail_trans_pct\": null, \"a3_trails\": null, \"agency_app_num\": null, \"app_pk\": null, \"attch_addtl_attachments\": null, \"attch_app_sig_page\": null, \"attch_conditions_photos\": null, \"attch_conditions_project_map\": null, \"attch_engineeers_checklist\": null, \"attch_exhibit22_plan\": null, \"attch_letters_of_support\": null, \"attch_link\": null, \"attch_ni_workplan\": null, \"attch_project_estimate\": null, \"completed_pdf_form\": null, \"main_datetime_stamp\": \"\", \"a3_plan_none\": \"No\", \"a3_plan_other\": \"No\", \"a3_plan_other_desc\": null, \"a2_output_outcome\": \"Construction of curb, gutter and sidewalk and the addition of bike lanes surrounding a planned transit hub will provide pedestrian, bicycle and transit access to educational, retail and institutional establishments in a key developing area.  \", \"a3_current_plan\": \"Yes\", \"b_sig_inter_new_bike_boxes\": null, \"b_class_1\": null, \"b_class_2\": 1420.0, \"b_class_3\": null, \"b_class_4\": null, \"a4_bike_gap_pct\": null, \"b_light_intersection\": null, \"b_mid_block_new_rrfb_signal\": null, \"b_mid_block_surf_improv\": null, \"b_bsp_new_bikes\": null, \"b_bike_new_secured_lockers\": null, \"b_bike_new_racks\": null, \"b_bsp_new_station\": null, \"b_other_bike_improv_1\": null, \"b_other_bike_improv_qty_1\": null, \"b_other_bike_improv_2\": null, \"b_other_bike_improv_qty_2\": null, \"b_light_rdwy_seg\": null, \"b_sig_inter_timing_improv\": null, \"b_un_sig_new_rrfb_signal\": null, \"b_un_sig_cross_surf_improv\": null, \"a4_easement_support\": null, \"m_cls_1_trails_widen_recon_exist\": null, \"m_cls_1_trails_new__less_than_9\": null, \"m_cls_1_trails_new_over_9\": null, \"m_non_cls_trails_new\": null, \"m_other_trail_imprv_1\": null, \"m_other_trail_improv_qty_1\": null, \"m_other_trail_imprv_2\": null, \"m_other_trail_improv_qty_2\": null, \"m_non_cls_widen_recon_exist\": null, \"p_amenities_bench\": null, \"a4_ped_gap_pct\": 73.0, \"p_mid_block_cross_new_rrfb_signal\": null, \"p_light_intersection\": null, \"p_lighting_rdwy_seg\": null, \"p_mid_block_cross_surf_improv\": null, \"p_new_ada_ramp\": 5.0, \"p_sidewlks_new_barrier_protect\": null, \"p_sidewlks_new_4_to_8\": 3393.0, \"p_sidewlks_new_over_8\": null, \"p_other_ped_imprv_1\": null, \"p_other_ped_qty_1\": null, \"p_other_ped_imprv_2\": null, \"p_other_ped_qty_2\": null, \"p_reconstruct_ramp_to_ada_stand\": null, \"p_sidewlks_reconstruct_enhance_exist\": null, \"p_sig_inter_enhance_exist_crosswlk\": 3.0, \"p_sig_inter_new_crosswlk\": 6.0, \"p_sig_inter_ped_heads\": null, \"p_sig_inter_shorten_cross\": null, \"p_sig_inter_timing_improv\": null, \"p_amenities_trash_can\": null, \"p_amenities_shade_tree\": null, \"p_amenities_shade_tree_type\": null, \"p_un_sig_inter_new_traff_sig\": null, \"p_un_sig_inter_new_roundabout\": null, \"p_un_sig_inter_new_rrfb_sig\": null, \"p_un_sig_inter_shorten_cross\": null, \"p_un_sig_inter_cross_surface_improv\": null, \"p_sidewlks_widen_existing\": null, \"a4_row_100\": null, \"a4_row_gov_ease\": null, \"a4_row_private_ease\": null, \"v_other_traffic_calming_imprv_1\": null, \"v_speed_feedback_signs\": null, \"v_other_traffic_calming_qty_1\": null, \"v_other_traffic_calming_imprv_2\": null, \"v_other_traffic_calming_qty_2\": null, \"v_remove_right_turn_pocket\": null, \"v_remove_travel_ln\": null, \"v_sig_inter_new_roundabout\": null, \"v_sig_inter_timing_improv\": null, \"v_un_sig_inter_new_traf_sig\": null, \"v_un_sig_inter_new_roundabout\": null, \"app_fk\": null, \"details_datetime_stamp\": \"\", \"a4_reg_init\": \"N\", \"a4_reg_init_pct\": 0, \"a4_com_init\": \"N\", \"a4_com_init_pct\": 0, \"a4_safe_route\": \"N\", \"a4_safe_route_pct\": 0, \"a4_fl_mile\": \"N\", \"a4_fl_mile_pct\": 0, \"a4_emp_based\": null, \"a4_emp_based_pct\": 0.0, \"a4_other_ni\": \"N\", \"a4_other_ni_descr\": null, \"a4_other_ni_pct\": 0, \"a4_wb_audits\": 0.0, \"a4_bike_classes\": 0.0, \"a4_ped_classes\": 0.0, \"a4_demo_events\": 0.0, \"a4_com_enc\": 0.0, \"a4_le_methods\": 0.0, \"a4_com_meetings\": 0.0, \"a4_classrooms\": 0.0, \"a4_school_assem\": 0.0, \"a4_after_school\": 0.0, \"a4_bike_rodeos\": 0.0, \"a4_mock_cities\": 0.0, \"a4_walk_bus\": 0.0, \"a4_bike_train\": 0.0, \"a4_com_challenges\": 0.0, \"a4_srts_enc\": 0.0, \"a4_srts_le\": 0.0, \"a4_srts_training\": 0.0, \"a4_act_other_1\": 0.0, \"a4_act_other_1_descr\": null, \"a4_act_other_2\": 0.0, \"a4_act_other_2_decr\": null, \"a4_comm_trad_media\": \"N\", \"a4_comm_large_media\": \"N\", \"a4_comm_print\": \"N\", \"a4_comm_social\": \"N\", \"a4_comm_web\": \"N\", \"a4_comm_other\": \"N\", \"a4_comm_other_descr\": null, \"a4_comm_language\": null, \"a4_collab_pub_health\": \"N\", \"a4_collab_le\": \"N\", \"a4_collab_non_profit\": \"N\", \"a4_collab_schools\": \"N\", \"a4_collab_pub_works\": \"N\", \"a4_collab_other\": \"N\", \"a4_colab_other_descr\": null, \"a4_plan_ped\": \"N\", \"a4_plan_bike\": \"N\", \"a4_plan_atp\": \"N\", \"a4_plan_school_routes\": \"N\", \"a4_row_open_street_demo\": \"No\", \"atp_id_x\": \"ATP5-01-022R\", \"a3_proj_type_x\": \"Infrastructure - Small\", \"agency_fully_own_r_w\": \"X\", \"require_r_w_easement,_from_gov\": null, \"_require_rw_easement_from_private\": null, \"atp_id_y\": \"ATP5-1-022R\", \"ppno1\": null, \"oversight_id\": \"Standard\", \"a3_proj_type_y\": \"Infrastructure\", \"Total Project Cost\": 997000.0, \"original_prog__amt___pa_ed_\": null, \"orig__prog__year__pa_ed_\": null, \"original_prog__amt___ps_e_\": 82000.0, \"orig__prog__year__ps_e_\": \"21/22\", \"original_prog__amt___rw_\": null, \"orig__prog__year__rw_\": null, \"orignal_prog__amt___con_\": 915000.0, \"orig__prog__year__con_\": \"22/23\", \"original_prog__amt___con_ni_\": null, \"orig__prog__year__con_ni_\": null, \"total\": 997000.0, \"_2122_pa_ed\": null, \"_2122_ps_e\": 82000.0, \"_2122_rw\": null, \"_2122_con\": null, \"_2122_con_ni\": null, \"_2122_total\": 82000.0, \"fund_year_1\": \"21/22\", \"_2223_pa_ed\": null, \"_2223_ps_e\": null, \"_2223_rw\": null, \"_2223_con\": 915000.0, \"_2223_con_ni\": null, \"_2223_total\": 915000.0, \"fund_year_2\": \"22/23\", \"_2324_pa_ed\": null, \"_2324_ps_e\": null, \"_2324_rw\": null, \"_2324_con\": null, \"_2324_con_ni\": null, \"_2324_total\": 0.0, \"fund_year_3\": \"23/24\", \"_2425_pa_ed\": null, \"_2425_ps_e\": null, \"_2425_rw\": null, \"_2425_con\": null, \"_2425_con_ni\": null, \"_2425_total\": 0.0, \"fund_year_4\": \"24/25\", \"Total ATP Funds\": 997000.0, \"match_total_atp_$_and_total\": \"YES\", \"match_total_atp_$_and_total_atp_x_1000\": \"YES\", \"paed\": 0.0, \"ps_e_\": 82.0, \"rw\": 0.0, \"con\": 915.0, \"con_ni\": 0.0, \"total_atp__000s_\": 997.0, \"total_atp_x_1000\": 997000.0, \"year__pa_ed_\": null, \"year__ps_e_\": \"21/22\", \"year__rw_\": null, \"year__con_\": \"22/23\", \"year__con_ni_\": null, \"Implemeting Agency Name\": \"City of Clearlake\"}, {\"Project ID\": \"1-Arcata, City of-1\", \"project_cycle\": 5, \"a1_locode\": 5021.0, \"#\": null, \"atp_id\": null, \"awarded\": \"Y\", \"ppno\": 2548, \"ppno_1\": null, \"data_origin\": \"Funded\", \"geometry\": null, \"project_status\": \"Active\", \"solicitation_abv\": \"S\", \"solicitation\": \"STATEWIDE SOLICITATION-CYCLE 5\", \"soliciting_agency\": \"CALTRANS\", \"project_size\": \"Medium\", \"a1_imp_agcy_city\": \"Arcata\", \"a1_imp_agcy_name\": \"Arcata, City of\", \"a1_proj_partner_agcy\": \"County of Humboldt\", \"a1_proj_partner_exists\": \"Yes\", \"assembly_district\": 2, \"congressional_district\": 2, \"senate_district\": 2, \"County\": \"Humboldt\", \"a2_ct_dist\": 1, \"a2_info_proj_descr\": \"PA&ED, PS&E, ROW and CON of 3.3 mile Class I trail along NCRA rail corridor and Caltrans\\u2019 Giuntoli Ln and Sunset Ave overpasses in north Arcata plus trailhead improvements. \", \"a2_info_proj_loc\": \"Project is located in northern Arcata along NCRA rail corridor between Sunset Ave, the Caltrans Giuntoli Lane/Highway 299 overpass, and the HBMWD Park on the Mad River. \", \"Project Name\": \"Arcata Annie & Mary Trail Connectivity Project\", \"a2_mop_uza_population\": \"Project is located outside one of the ten large MPOs in a UZA with Pop <=200,000 and > than 5,000\", \"a2_mpo\": \"Caltrans\", \"a2_rtpa\": \"Humboldt CAG\", \"a2_proj_scope_summary\": \"The Arcata Annie & Mary Trail Connectivity Project will design and construct a Class I trail with highway overpass and trailhead improvements to provide a safe walking and biking route from downtown Arcata to the low-income neighborhood of Valley West and\", \"a1_imp_agcy_fed_ma_num\": \"01-5021R\", \"a1_imp_agcy_ma\": \"Yes\", \"a1_imp_agcy_state_ma_num\": \"00024S\", \"a1_imp_agcy_street\": \"736 F Street\", \"a1_imp_agcy_title\": \"City Engineer\", \"a1_imp_agcy_zip\": 95521, \"a1_letter_of_intent\": null, \"a1_proj_partner_title\": \"Deputy Director Public Works\", \"a2_assem_dist_a\": 2.0, \"a2_assem_dist_b\": null, \"a2_assem_dist_c\": null, \"a2_congress_dist_a\": 2.0, \"a2_congress_dist_b\": null, \"a2_congress_dist_c\": null, \"a2_past_proj\": \"Yes                           \", \"a2_past_proj_qty\": 3, \"a2_proj_lat\": 40.896595, \"a2_proj_long\": -124.075969, \"a2_project_location_map\": null, \"a2_senate_dist_a\": 2.0, \"a2_senate_dist_b\": null, \"a2_senatedistc\": null, \"a3_plan_active_trans\": null, \"a3_plan_active_trans_exists\": \"No \", \"a3_plan_bicycle\": null, \"a3_plan_bicycle_exists\": \"Yes\", \"a3_plan_ped\": null, \"a3_plan_ped_exists\": \"Yes\", \"a3_plan_srts\": null, \"a3_plan_srts_exists\": \"No \", \"a3_proj_type\": null, \"a3_st_bicycle_applies\": \"Yes\", \"a3_st_bicycle_pct\": 50.0, \"a3_st_num_schools\": 0, \"a3_st_ped_applies\": \"Yes\", \"a3_st_ped_pct\": 50, \"a3_st_srts\": \"No \", \"a3_trail_elig_cost\": 0.0, \"a3_trail_fed_funding\": \"Yes\", \"a3_trail_trans_pct\": 96.0, \"a3_trails\": \"X\", \"agency_app_num\": null, \"app_pk\": null, \"attch_addtl_attachments\": null, \"attch_app_sig_page\": null, \"attch_conditions_photos\": null, \"attch_conditions_project_map\": null, \"attch_engineeers_checklist\": null, \"attch_exhibit22_plan\": null, \"attch_letters_of_support\": null, \"attch_link\": null, \"attch_ni_workplan\": null, \"attch_project_estimate\": null, \"completed_pdf_form\": null, \"main_datetime_stamp\": \"\", \"a3_plan_none\": \"0\", \"a3_plan_other\": \"0\", \"a3_plan_other_desc\": \"Humboldt County Regional Trails Master Plan\", \"a2_output_outcome\": \"Creation of 3.3 miles of Class I trail, walkways and bike lanes on two highway overpasses to provide safe connections to the trail, plus trailhead improvements\", \"a3_current_plan\": \"Yes\", \"b_sig_inter_new_bike_boxes\": null, \"b_class_1\": null, \"b_class_2\": 2200.0, \"b_class_3\": null, \"b_class_4\": null, \"a4_bike_gap_pct\": null, \"b_light_intersection\": null, \"b_mid_block_new_rrfb_signal\": null, \"b_mid_block_surf_improv\": null, \"b_bsp_new_bikes\": null, \"b_bike_new_secured_lockers\": null, \"b_bike_new_racks\": 3.0, \"b_bsp_new_station\": null, \"b_other_bike_improv_1\": null, \"b_other_bike_improv_qty_1\": null, \"b_other_bike_improv_2\": null, \"b_other_bike_improv_qty_2\": null, \"b_light_rdwy_seg\": null, \"b_sig_inter_timing_improv\": null, \"b_un_sig_new_rrfb_signal\": null, \"b_un_sig_cross_surf_improv\": null, \"a4_easement_support\": null, \"m_cls_1_trails_widen_recon_exist\": null, \"m_cls_1_trails_new__less_than_9\": null, \"m_cls_1_trails_new_over_9\": 17424.0, \"m_non_cls_trails_new\": null, \"m_other_trail_imprv_1\": null, \"m_other_trail_improv_qty_1\": null, \"m_other_trail_imprv_2\": null, \"m_other_trail_improv_qty_2\": null, \"m_non_cls_widen_recon_exist\": null, \"p_amenities_bench\": 5.0, \"a4_ped_gap_pct\": 100.0, \"p_mid_block_cross_new_rrfb_signal\": null, \"p_light_intersection\": null, \"p_lighting_rdwy_seg\": null, \"p_mid_block_cross_surf_improv\": null, \"p_new_ada_ramp\": 24.0, \"p_sidewlks_new_barrier_protect\": null, \"p_sidewlks_new_4_to_8\": null, \"p_sidewlks_new_over_8\": 17424.0, \"p_other_ped_imprv_1\": null, \"p_other_ped_qty_1\": null, \"p_other_ped_imprv_2\": null, \"p_other_ped_qty_2\": null, \"p_reconstruct_ramp_to_ada_stand\": 2.0, \"p_sidewlks_reconstruct_enhance_exist\": null, \"p_sig_inter_enhance_exist_crosswlk\": null, \"p_sig_inter_new_crosswlk\": null, \"p_sig_inter_ped_heads\": null, \"p_sig_inter_shorten_cross\": null, \"p_sig_inter_timing_improv\": null, \"p_amenities_trash_can\": null, \"p_amenities_shade_tree\": null, \"p_amenities_shade_tree_type\": null, \"p_un_sig_inter_new_traff_sig\": null, \"p_un_sig_inter_new_roundabout\": null, \"p_un_sig_inter_new_rrfb_sig\": 3.0, \"p_un_sig_inter_shorten_cross\": null, \"p_un_sig_inter_cross_surface_improv\": 1.0, \"p_sidewlks_widen_existing\": null, \"a4_row_100\": null, \"a4_row_gov_ease\": null, \"a4_row_private_ease\": null, \"v_other_traffic_calming_imprv_1\": null, \"v_speed_feedback_signs\": null, \"v_other_traffic_calming_qty_1\": null, \"v_other_traffic_calming_imprv_2\": null, \"v_other_traffic_calming_qty_2\": null, \"v_remove_right_turn_pocket\": null, \"v_remove_travel_ln\": null, \"v_sig_inter_new_roundabout\": null, \"v_sig_inter_timing_improv\": null, \"v_un_sig_inter_new_traf_sig\": null, \"v_un_sig_inter_new_roundabout\": null, \"app_fk\": null, \"details_datetime_stamp\": \"\", \"a4_reg_init\": \"N\", \"a4_reg_init_pct\": 0, \"a4_com_init\": \"N\", \"a4_com_init_pct\": 0, \"a4_safe_route\": \"N\", \"a4_safe_route_pct\": 0, \"a4_fl_mile\": \"N\", \"a4_fl_mile_pct\": 0, \"a4_emp_based\": null, \"a4_emp_based_pct\": 0.0, \"a4_other_ni\": \"N\", \"a4_other_ni_descr\": null, \"a4_other_ni_pct\": 0, \"a4_wb_audits\": 0.0, \"a4_bike_classes\": 0.0, \"a4_ped_classes\": 0.0, \"a4_demo_events\": 0.0, \"a4_com_enc\": 0.0, \"a4_le_methods\": 0.0, \"a4_com_meetings\": 0.0, \"a4_classrooms\": 0.0, \"a4_school_assem\": 0.0, \"a4_after_school\": 0.0, \"a4_bike_rodeos\": 0.0, \"a4_mock_cities\": 0.0, \"a4_walk_bus\": 0.0, \"a4_bike_train\": 0.0, \"a4_com_challenges\": 0.0, \"a4_srts_enc\": 0.0, \"a4_srts_le\": 0.0, \"a4_srts_training\": 0.0, \"a4_act_other_1\": 0.0, \"a4_act_other_1_descr\": null, \"a4_act_other_2\": 0.0, \"a4_act_other_2_decr\": null, \"a4_comm_trad_media\": \"N\", \"a4_comm_large_media\": \"N\", \"a4_comm_print\": \"N\", \"a4_comm_social\": \"N\", \"a4_comm_web\": \"N\", \"a4_comm_other\": \"N\", \"a4_comm_other_descr\": null, \"a4_comm_language\": null, \"a4_collab_pub_health\": \"N\", \"a4_collab_le\": \"N\", \"a4_collab_non_profit\": \"N\", \"a4_collab_schools\": \"N\", \"a4_collab_pub_works\": \"N\", \"a4_collab_other\": \"N\", \"a4_colab_other_descr\": null, \"a4_plan_ped\": \"N\", \"a4_plan_bike\": \"N\", \"a4_plan_atp\": \"N\", \"a4_plan_school_routes\": \"N\", \"a4_row_open_street_demo\": \"No\", \"atp_id_x\": \"ATP5-01-019S\", \"a3_proj_type_x\": \"Infrastructure - Medium\", \"agency_fully_own_r_w\": null, \"require_r_w_easement,_from_gov\": \"X\", \"_require_rw_easement_from_private\": \"X\", \"atp_id_y\": \"ATP5-1-019S\", \"ppno1\": null, \"oversight_id\": \"Standard\", \"a3_proj_type_y\": \"Infrastructure\", \"Total Project Cost\": 5286000.0, \"original_prog__amt___pa_ed_\": 67000.0, \"orig__prog__year__pa_ed_\": \"21/22\", \"original_prog__amt___ps_e_\": 240000.0, \"orig__prog__year__ps_e_\": \"22/23\", \"original_prog__amt___rw_\": 255000.0, \"orig__prog__year__rw_\": \"22/23\", \"orignal_prog__amt___con_\": 3658000.0, \"orig__prog__year__con_\": \"23/24\", \"original_prog__amt___con_ni_\": null, \"orig__prog__year__con_ni_\": null, \"total\": 4220000.0, \"_2122_pa_ed\": 67000.0, \"_2122_ps_e\": null, \"_2122_rw\": null, \"_2122_con\": null, \"_2122_con_ni\": null, \"_2122_total\": 67000.0, \"fund_year_1\": \"21/22\", \"_2223_pa_ed\": null, \"_2223_ps_e\": 240000.0, \"_2223_rw\": 255000.0, \"_2223_con\": null, \"_2223_con_ni\": null, \"_2223_total\": 495000.0, \"fund_year_2\": \"22/23\", \"_2324_pa_ed\": null, \"_2324_ps_e\": null, \"_2324_rw\": null, \"_2324_con\": 3658000.0, \"_2324_con_ni\": null, \"_2324_total\": 3658000.0, \"fund_year_3\": \"23/24\", \"_2425_pa_ed\": null, \"_2425_ps_e\": null, \"_2425_rw\": null, \"_2425_con\": null, \"_2425_con_ni\": null, \"_2425_total\": 0.0, \"fund_year_4\": \"24/25\", \"Total ATP Funds\": 4220000.0, \"match_total_atp_$_and_total\": \"YES\", \"match_total_atp_$_and_total_atp_x_1000\": \"YES\", \"paed\": 67.0, \"ps_e_\": 240.0, \"rw\": 255.0, \"con\": 3658.0, \"con_ni\": 0.0, \"total_atp__000s_\": 4220.0, \"total_atp_x_1000\": 4220000.0, \"year__pa_ed_\": \"21/22\", \"year__ps_e_\": \"22/23\", \"year__rw_\": \"22/23\", \"year__con_\": \"23/24\", \"year__con_ni_\": null, \"Implemeting Agency Name\": \"City of Arcata\"}]}}, {\"mode\": \"vega-lite\"});\n",
       "</script>"
      ],
      "text/plain": [
       "alt.Chart(...)"
      ]
     },
     "metadata": {},
     "output_type": "display_data"
    },
    {
     "data": {
      "text/html": [
       "<h4>Funded Project Information</h4>"
      ],
      "text/plain": [
       "<IPython.core.display.HTML object>"
      ]
     },
     "metadata": {},
     "output_type": "display_data"
    },
    {
     "data": {
      "text/html": [
       "<style type=\"text/css\">\n",
       "#T_571ab_ th {\n",
       "  text-align: center;\n",
       "}\n",
       "#T_571ab_row0_col0, #T_571ab_row0_col1, #T_571ab_row0_col2, #T_571ab_row0_col3, #T_571ab_row0_col4, #T_571ab_row1_col0, #T_571ab_row1_col1, #T_571ab_row1_col2, #T_571ab_row1_col3, #T_571ab_row1_col4 {\n",
       "  text-align: center;\n",
       "}\n",
       "</style>\n",
       "<table id=\"T_571ab_\">\n",
       "  <thead>\n",
       "    <tr>\n",
       "      <th class=\"col_heading level0 col0\" >Implemeting Agency Name</th>\n",
       "      <th class=\"col_heading level0 col1\" >Project Name</th>\n",
       "      <th class=\"col_heading level0 col2\" >County</th>\n",
       "      <th class=\"col_heading level0 col3\" >Total Atp Funds</th>\n",
       "      <th class=\"col_heading level0 col4\" >Total Project Cost</th>\n",
       "    </tr>\n",
       "  </thead>\n",
       "  <tbody>\n",
       "    <tr>\n",
       "      <td id=\"T_571ab_row0_col0\" class=\"data row0 col0\" >City of Clearlake</td>\n",
       "      <td id=\"T_571ab_row0_col1\" class=\"data row0 col1\" >Dam Road Extension & South Center Drive Bike/Pedestrian Improvements</td>\n",
       "      <td id=\"T_571ab_row0_col2\" class=\"data row0 col2\" >Lake</td>\n",
       "      <td id=\"T_571ab_row0_col3\" class=\"data row0 col3\" >$ 997,000.00</td>\n",
       "      <td id=\"T_571ab_row0_col4\" class=\"data row0 col4\" >$ 997,000.00</td>\n",
       "    </tr>\n",
       "    <tr>\n",
       "      <td id=\"T_571ab_row1_col0\" class=\"data row1 col0\" >City of Arcata</td>\n",
       "      <td id=\"T_571ab_row1_col1\" class=\"data row1 col1\" >Arcata Annie & Mary Trail Connectivity Project</td>\n",
       "      <td id=\"T_571ab_row1_col2\" class=\"data row1 col2\" >Humboldt</td>\n",
       "      <td id=\"T_571ab_row1_col3\" class=\"data row1 col3\" >$ 4,220,000.00</td>\n",
       "      <td id=\"T_571ab_row1_col4\" class=\"data row1 col4\" >$ 5,286,000.00</td>\n",
       "    </tr>\n",
       "  </tbody>\n",
       "</table>\n"
      ],
      "text/plain": [
       "<IPython.core.display.HTML object>"
      ]
     },
     "metadata": {},
     "output_type": "display_data"
    },
    {
     "data": {
      "text/html": [
       "</br><h4> Success Rates for Agencies in District 1 </h4>"
      ],
      "text/plain": [
       "<IPython.core.display.HTML object>"
      ]
     },
     "metadata": {},
     "output_type": "display_data"
    },
    {
     "data": {
      "text/html": [
       "<style type=\"text/css\">\n",
       "#T_1ed0e_ th {\n",
       "  text-align: center;\n",
       "}\n",
       "#T_1ed0e_row0_col0, #T_1ed0e_row0_col1, #T_1ed0e_row0_col2, #T_1ed0e_row1_col0, #T_1ed0e_row1_col1, #T_1ed0e_row1_col2, #T_1ed0e_row2_col0, #T_1ed0e_row2_col1, #T_1ed0e_row2_col2, #T_1ed0e_row3_col0, #T_1ed0e_row3_col1, #T_1ed0e_row3_col2, #T_1ed0e_row4_col0, #T_1ed0e_row4_col1, #T_1ed0e_row4_col2, #T_1ed0e_row5_col0, #T_1ed0e_row5_col1, #T_1ed0e_row5_col2, #T_1ed0e_row6_col0, #T_1ed0e_row6_col1, #T_1ed0e_row6_col2, #T_1ed0e_row7_col0, #T_1ed0e_row7_col1, #T_1ed0e_row7_col2, #T_1ed0e_row8_col0, #T_1ed0e_row8_col1, #T_1ed0e_row8_col2 {\n",
       "  text-align: center;\n",
       "}\n",
       "</style>\n",
       "<table id=\"T_1ed0e_\">\n",
       "  <thead>\n",
       "    <tr>\n",
       "      <th class=\"col_heading level0 col0\" >Implemeting Agency Name</th>\n",
       "      <th class=\"col_heading level0 col1\" >Total Applications</th>\n",
       "      <th class=\"col_heading level0 col2\" >Success Rate</th>\n",
       "    </tr>\n",
       "  </thead>\n",
       "  <tbody>\n",
       "    <tr>\n",
       "      <td id=\"T_1ed0e_row0_col0\" class=\"data row0 col0\" >City of Arcata</td>\n",
       "      <td id=\"T_1ed0e_row0_col1\" class=\"data row0 col1\" >1</td>\n",
       "      <td id=\"T_1ed0e_row0_col2\" class=\"data row0 col2\" >100.00%</td>\n",
       "    </tr>\n",
       "    <tr>\n",
       "      <td id=\"T_1ed0e_row1_col0\" class=\"data row1 col0\" >City of Clearlake</td>\n",
       "      <td id=\"T_1ed0e_row1_col1\" class=\"data row1 col1\" >1</td>\n",
       "      <td id=\"T_1ed0e_row1_col2\" class=\"data row1 col2\" >100.00%</td>\n",
       "    </tr>\n",
       "    <tr>\n",
       "      <td id=\"T_1ed0e_row2_col0\" class=\"data row2 col0\" >City of Eureka</td>\n",
       "      <td id=\"T_1ed0e_row2_col1\" class=\"data row2 col1\" >2</td>\n",
       "      <td id=\"T_1ed0e_row2_col2\" class=\"data row2 col2\" >0.00%</td>\n",
       "    </tr>\n",
       "    <tr>\n",
       "      <td id=\"T_1ed0e_row3_col0\" class=\"data row3 col0\" >City of Rio Dell</td>\n",
       "      <td id=\"T_1ed0e_row3_col1\" class=\"data row3 col1\" >1</td>\n",
       "      <td id=\"T_1ed0e_row3_col2\" class=\"data row3 col2\" >0.00%</td>\n",
       "    </tr>\n",
       "    <tr>\n",
       "      <td id=\"T_1ed0e_row4_col0\" class=\"data row4 col0\" >Humboldt County</td>\n",
       "      <td id=\"T_1ed0e_row4_col1\" class=\"data row4 col1\" >1</td>\n",
       "      <td id=\"T_1ed0e_row4_col2\" class=\"data row4 col2\" >0.00%</td>\n",
       "    </tr>\n",
       "    <tr>\n",
       "      <td id=\"T_1ed0e_row5_col0\" class=\"data row5 col0\" >Humboldt County Association of Governments</td>\n",
       "      <td id=\"T_1ed0e_row5_col1\" class=\"data row5 col1\" >1</td>\n",
       "      <td id=\"T_1ed0e_row5_col2\" class=\"data row5 col2\" >0.00%</td>\n",
       "    </tr>\n",
       "    <tr>\n",
       "      <td id=\"T_1ed0e_row6_col0\" class=\"data row6 col0\" >Lake County</td>\n",
       "      <td id=\"T_1ed0e_row6_col1\" class=\"data row6 col1\" >1</td>\n",
       "      <td id=\"T_1ed0e_row6_col2\" class=\"data row6 col2\" >0.00%</td>\n",
       "    </tr>\n",
       "    <tr>\n",
       "      <td id=\"T_1ed0e_row7_col0\" class=\"data row7 col0\" >Mendocino Council of Governments</td>\n",
       "      <td id=\"T_1ed0e_row7_col1\" class=\"data row7 col1\" >1</td>\n",
       "      <td id=\"T_1ed0e_row7_col2\" class=\"data row7 col2\" >0.00%</td>\n",
       "    </tr>\n",
       "    <tr>\n",
       "      <td id=\"T_1ed0e_row8_col0\" class=\"data row8 col0\" >Round Valley Indians Tribe</td>\n",
       "      <td id=\"T_1ed0e_row8_col1\" class=\"data row8 col1\" >1</td>\n",
       "      <td id=\"T_1ed0e_row8_col2\" class=\"data row8 col2\" >0.00%</td>\n",
       "    </tr>\n",
       "  </tbody>\n",
       "</table>\n"
      ],
      "text/plain": [
       "<IPython.core.display.HTML object>"
      ]
     },
     "metadata": {},
     "output_type": "display_data"
    }
   ],
   "source": [
    "_report_utils.map_dist_proj(funded, df, 1)"
   ]
  },
  {
   "cell_type": "code",
   "execution_count": null,
   "id": "17b78c60-2453-4467-b97e-1f59f99130a3",
   "metadata": {},
   "outputs": [],
   "source": []
  },
  {
   "cell_type": "markdown",
   "id": "962cdd09-9201-4fa7-87c3-abae90cb3991",
   "metadata": {},
   "source": [
    "### District 2 - Redding"
   ]
  },
  {
   "cell_type": "code",
   "execution_count": 36,
   "id": "c203663c-ddef-4618-b19e-a7d49516e157",
   "metadata": {},
   "outputs": [
    {
     "data": {
      "text/html": [
       "\n",
       "<div id=\"altair-viz-aa893df7b7de4d73adb003edd8431357\"></div>\n",
       "<script type=\"text/javascript\">\n",
       "  var VEGA_DEBUG = (typeof VEGA_DEBUG == \"undefined\") ? {} : VEGA_DEBUG;\n",
       "  (function(spec, embedOpt){\n",
       "    let outputDiv = document.currentScript.previousElementSibling;\n",
       "    if (outputDiv.id !== \"altair-viz-aa893df7b7de4d73adb003edd8431357\") {\n",
       "      outputDiv = document.getElementById(\"altair-viz-aa893df7b7de4d73adb003edd8431357\");\n",
       "    }\n",
       "    const paths = {\n",
       "      \"vega\": \"https://cdn.jsdelivr.net/npm//vega@5?noext\",\n",
       "      \"vega-lib\": \"https://cdn.jsdelivr.net/npm//vega-lib?noext\",\n",
       "      \"vega-lite\": \"https://cdn.jsdelivr.net/npm//vega-lite@4.17.0?noext\",\n",
       "      \"vega-embed\": \"https://cdn.jsdelivr.net/npm//vega-embed@6?noext\",\n",
       "    };\n",
       "\n",
       "    function maybeLoadScript(lib, version) {\n",
       "      var key = `${lib.replace(\"-\", \"\")}_version`;\n",
       "      return (VEGA_DEBUG[key] == version) ?\n",
       "        Promise.resolve(paths[lib]) :\n",
       "        new Promise(function(resolve, reject) {\n",
       "          var s = document.createElement('script');\n",
       "          document.getElementsByTagName(\"head\")[0].appendChild(s);\n",
       "          s.async = true;\n",
       "          s.onload = () => {\n",
       "            VEGA_DEBUG[key] = version;\n",
       "            return resolve(paths[lib]);\n",
       "          };\n",
       "          s.onerror = () => reject(`Error loading script: ${paths[lib]}`);\n",
       "          s.src = paths[lib];\n",
       "        });\n",
       "    }\n",
       "\n",
       "    function showError(err) {\n",
       "      outputDiv.innerHTML = `<div class=\"error\" style=\"color:red;\">${err}</div>`;\n",
       "      throw err;\n",
       "    }\n",
       "\n",
       "    function displayChart(vegaEmbed) {\n",
       "      vegaEmbed(outputDiv, spec, embedOpt)\n",
       "        .catch(err => showError(`Javascript Error: ${err.message}<br>This usually means there's a typo in your chart specification. See the javascript console for the full traceback.`));\n",
       "    }\n",
       "\n",
       "    if(typeof define === \"function\" && define.amd) {\n",
       "      requirejs.config({paths});\n",
       "      require([\"vega-embed\"], displayChart, err => showError(`Error loading script: ${err.message}`));\n",
       "    } else {\n",
       "      maybeLoadScript(\"vega\", \"5\")\n",
       "        .then(() => maybeLoadScript(\"vega-lite\", \"4.17.0\"))\n",
       "        .then(() => maybeLoadScript(\"vega-embed\", \"6\"))\n",
       "        .catch(showError)\n",
       "        .then(() => displayChart(vegaEmbed));\n",
       "    }\n",
       "  })({\"config\": {\"view\": {\"continuousWidth\": 400, \"continuousHeight\": 300}}, \"data\": {\"name\": \"data-eaf9b01c126b308df67e3c3488d27d66\"}, \"mark\": \"bar\", \"encoding\": {\"color\": {\"field\": \"Project Name\", \"legend\": null, \"scale\": {\"range\": [\"#E16B26\", \"#EB9F3C\", \"#f6e7e1\", \"#8CBCCB\", \"#2EA8CE\", \"#136C97\"]}, \"type\": \"nominal\"}, \"tooltip\": [{\"field\": \"Project Name\", \"type\": \"nominal\"}, {\"field\": \"Total ATP Funds\", \"type\": \"quantitative\"}], \"x\": {\"field\": \"Total ATP Funds\", \"type\": \"quantitative\"}, \"y\": {\"field\": \"Implemeting Agency Name\", \"type\": \"nominal\"}}, \"title\": \"Total ATP Funds by Project\", \"$schema\": \"https://vega.github.io/schema/vega-lite/v4.17.0.json\", \"datasets\": {\"data-eaf9b01c126b308df67e3c3488d27d66\": [{\"Project ID\": \"2-Karuk Tribe-1\", \"project_cycle\": 5, \"a1_locode\": null, \"#\": null, \"atp_id\": null, \"awarded\": \"Y\", \"ppno\": null, \"ppno_1\": null, \"data_origin\": \"Funded\", \"geometry\": null, \"project_status\": \"Active\", \"solicitation_abv\": \"R\", \"solicitation\": \"SMALL URBAN & RURAL SOLICITATION-CYCLE 5\", \"soliciting_agency\": \"CALTRANS\", \"project_size\": \"Large\", \"a1_imp_agcy_city\": \"Orleans\", \"a1_imp_agcy_name\": \"Karuk Tribe\", \"a1_proj_partner_agcy\": \"Caltrans, District 2\", \"a1_proj_partner_exists\": \"Yes\", \"assembly_district\": 1, \"congressional_district\": 1, \"senate_district\": 1, \"County\": \"Siskiyou\", \"a2_ct_dist\": 2, \"a2_info_proj_descr\": \"In Happy Camp on SR 96, install sidewalks, construct a Class II bike lane, install new & improve existing crosswalks, install rapid flashing beacons, install pedestrian lighting.\", \"a2_info_proj_loc\": \"In Siskiyou County at and near Happy Camp from 1st Avenue to 0.1 mile east of Mill Road\", \"Project Name\": \"Happy Camp Complete Streets Project\", \"a2_mop_uza_population\": \"Project is located outside one of the ten large MPOs in a UZA with Pop <= 5,000\", \"a2_mpo\": \"Caltrans\", \"a2_rtpa\": \"Siskiyou CTC\", \"a2_proj_scope_summary\": \"The town of Happy Camp is a severely disadvantaged community in a small rural area in western Siskiyou County where State Route (SR) 96 serves as its main street. Currently there are no sidewalks, no designated bike travel areas and little to no shoulders\", \"a1_imp_agcy_fed_ma_num\": null, \"a1_imp_agcy_ma\": \"No \", \"a1_imp_agcy_state_ma_num\": null, \"a1_imp_agcy_street\": \"37960 Highway 96, Building A\", \"a1_imp_agcy_title\": \"Director of Transportation\", \"a1_imp_agcy_zip\": 95556, \"a1_letter_of_intent\": null, \"a1_proj_partner_title\": \"District ATP Manager\", \"a2_assem_dist_a\": 1.0, \"a2_assem_dist_b\": null, \"a2_assem_dist_c\": null, \"a2_congress_dist_a\": 1.0, \"a2_congress_dist_b\": null, \"a2_congress_dist_c\": null, \"a2_past_proj\": \"No                            \", \"a2_past_proj_qty\": 0, \"a2_proj_lat\": 41.791421, \"a2_proj_long\": -123.378281, \"a2_project_location_map\": null, \"a2_senate_dist_a\": 1.0, \"a2_senate_dist_b\": null, \"a2_senatedistc\": null, \"a3_plan_active_trans\": null, \"a3_plan_active_trans_exists\": \"Yes\", \"a3_plan_bicycle\": null, \"a3_plan_bicycle_exists\": \"Yes\", \"a3_plan_ped\": null, \"a3_plan_ped_exists\": \"Yes\", \"a3_plan_srts\": null, \"a3_plan_srts_exists\": \"No \", \"a3_proj_type\": null, \"a3_st_bicycle_applies\": \"Yes\", \"a3_st_bicycle_pct\": 50.0, \"a3_st_num_schools\": 2, \"a3_st_ped_applies\": \"Yes\", \"a3_st_ped_pct\": 50, \"a3_st_srts\": \"Yes\", \"a3_trail_elig_cost\": 0.0, \"a3_trail_fed_funding\": null, \"a3_trail_trans_pct\": null, \"a3_trails\": null, \"agency_app_num\": null, \"app_pk\": null, \"attch_addtl_attachments\": null, \"attch_app_sig_page\": null, \"attch_conditions_photos\": null, \"attch_conditions_project_map\": null, \"attch_engineeers_checklist\": null, \"attch_exhibit22_plan\": null, \"attch_letters_of_support\": null, \"attch_link\": null, \"attch_ni_workplan\": null, \"attch_project_estimate\": null, \"completed_pdf_form\": null, \"main_datetime_stamp\": \"\", \"a3_plan_none\": \"0\", \"a3_plan_other\": \"0\", \"a3_plan_other_desc\": \"Middle Klamath River Community Transportation Plan\", \"a2_output_outcome\": \"Project will provide complete street elements by constructing: 2,700 LF of Class II Bike Lane, RRFB, 21 pedestrian safety lights, 4,160 LF new sidewalk, 27 ADA curb ramps, radar feedback signs, landscape and transit improvements \", \"a3_current_plan\": \"Yes\", \"b_sig_inter_new_bike_boxes\": null, \"b_class_1\": null, \"b_class_2\": 2700.0, \"b_class_3\": null, \"b_class_4\": null, \"a4_bike_gap_pct\": null, \"b_light_intersection\": null, \"b_mid_block_new_rrfb_signal\": null, \"b_mid_block_surf_improv\": null, \"b_bsp_new_bikes\": null, \"b_bike_new_secured_lockers\": null, \"b_bike_new_racks\": null, \"b_bsp_new_station\": null, \"b_other_bike_improv_1\": \"Shoulder Widening - 1161 Linear Feet\", \"b_other_bike_improv_qty_1\": null, \"b_other_bike_improv_2\": \"Bike Lane Marking (square feet)\", \"b_other_bike_improv_qty_2\": 128.0, \"b_light_rdwy_seg\": null, \"b_sig_inter_timing_improv\": null, \"b_un_sig_new_rrfb_signal\": null, \"b_un_sig_cross_surf_improv\": null, \"a4_easement_support\": null, \"m_cls_1_trails_widen_recon_exist\": null, \"m_cls_1_trails_new__less_than_9\": null, \"m_cls_1_trails_new_over_9\": null, \"m_non_cls_trails_new\": null, \"m_other_trail_imprv_1\": null, \"m_other_trail_improv_qty_1\": null, \"m_other_trail_imprv_2\": null, \"m_other_trail_improv_qty_2\": null, \"m_non_cls_widen_recon_exist\": null, \"p_amenities_bench\": null, \"a4_ped_gap_pct\": 100.0, \"p_mid_block_cross_new_rrfb_signal\": null, \"p_light_intersection\": null, \"p_lighting_rdwy_seg\": 2300.0, \"p_mid_block_cross_surf_improv\": null, \"p_new_ada_ramp\": 27.0, \"p_sidewlks_new_barrier_protect\": 1290.0, \"p_sidewlks_new_4_to_8\": 4160.0, \"p_sidewlks_new_over_8\": null, \"p_other_ped_imprv_1\": \"Bulbouts\", \"p_other_ped_qty_1\": 4.0, \"p_other_ped_imprv_2\": \"New or Improved Crosswalks\", \"p_other_ped_qty_2\": 6.0, \"p_reconstruct_ramp_to_ada_stand\": null, \"p_sidewlks_reconstruct_enhance_exist\": null, \"p_sig_inter_enhance_exist_crosswlk\": null, \"p_sig_inter_new_crosswlk\": null, \"p_sig_inter_ped_heads\": null, \"p_sig_inter_shorten_cross\": null, \"p_sig_inter_timing_improv\": null, \"p_amenities_trash_can\": null, \"p_amenities_shade_tree\": 44.0, \"p_amenities_shade_tree_type\": \"Native Evergreen Species\", \"p_un_sig_inter_new_traff_sig\": null, \"p_un_sig_inter_new_roundabout\": null, \"p_un_sig_inter_new_rrfb_sig\": 1.0, \"p_un_sig_inter_shorten_cross\": 6.0, \"p_un_sig_inter_cross_surface_improv\": 1.0, \"p_sidewlks_widen_existing\": null, \"a4_row_100\": null, \"a4_row_gov_ease\": null, \"a4_row_private_ease\": null, \"v_other_traffic_calming_imprv_1\": \"Two Way Left Turn Lane - 1350 LF\", \"v_speed_feedback_signs\": 2.0, \"v_other_traffic_calming_qty_1\": null, \"v_other_traffic_calming_imprv_2\": null, \"v_other_traffic_calming_qty_2\": null, \"v_remove_right_turn_pocket\": null, \"v_remove_travel_ln\": null, \"v_sig_inter_new_roundabout\": null, \"v_sig_inter_timing_improv\": null, \"v_un_sig_inter_new_traf_sig\": null, \"v_un_sig_inter_new_roundabout\": null, \"app_fk\": null, \"details_datetime_stamp\": \"\", \"a4_reg_init\": \"N\", \"a4_reg_init_pct\": 0, \"a4_com_init\": \"N\", \"a4_com_init_pct\": 0, \"a4_safe_route\": \"N\", \"a4_safe_route_pct\": 0, \"a4_fl_mile\": \"N\", \"a4_fl_mile_pct\": 0, \"a4_emp_based\": null, \"a4_emp_based_pct\": 0.0, \"a4_other_ni\": \"N\", \"a4_other_ni_descr\": null, \"a4_other_ni_pct\": 0, \"a4_wb_audits\": 0.0, \"a4_bike_classes\": 0.0, \"a4_ped_classes\": 0.0, \"a4_demo_events\": 0.0, \"a4_com_enc\": 0.0, \"a4_le_methods\": 0.0, \"a4_com_meetings\": 0.0, \"a4_classrooms\": 0.0, \"a4_school_assem\": 0.0, \"a4_after_school\": 0.0, \"a4_bike_rodeos\": 0.0, \"a4_mock_cities\": 0.0, \"a4_walk_bus\": 0.0, \"a4_bike_train\": 0.0, \"a4_com_challenges\": 0.0, \"a4_srts_enc\": 0.0, \"a4_srts_le\": 0.0, \"a4_srts_training\": 0.0, \"a4_act_other_1\": 0.0, \"a4_act_other_1_descr\": null, \"a4_act_other_2\": 0.0, \"a4_act_other_2_decr\": null, \"a4_comm_trad_media\": \"N\", \"a4_comm_large_media\": \"N\", \"a4_comm_print\": \"N\", \"a4_comm_social\": \"N\", \"a4_comm_web\": \"N\", \"a4_comm_other\": \"N\", \"a4_comm_other_descr\": null, \"a4_comm_language\": null, \"a4_collab_pub_health\": \"N\", \"a4_collab_le\": \"N\", \"a4_collab_non_profit\": \"N\", \"a4_collab_schools\": \"N\", \"a4_collab_pub_works\": \"N\", \"a4_collab_other\": \"N\", \"a4_colab_other_descr\": null, \"a4_plan_ped\": \"N\", \"a4_plan_bike\": \"N\", \"a4_plan_atp\": \"N\", \"a4_plan_school_routes\": \"N\", \"a4_row_open_street_demo\": \"No\", \"atp_id_x\": \"ATP5-02-009R\", \"a3_proj_type_x\": \"Infrastructure - Large\", \"agency_fully_own_r_w\": null, \"require_r_w_easement,_from_gov\": null, \"_require_rw_easement_from_private\": null, \"atp_id_y\": \"ATP5-2-009R\", \"ppno1\": null, \"oversight_id\": \"Standard\", \"a3_proj_type_y\": \"Infrastructure\", \"Total Project Cost\": 12221000.0, \"original_prog__amt___pa_ed_\": 600000.0, \"orig__prog__year__pa_ed_\": \"21/22\", \"original_prog__amt___ps_e_\": 800000.0, \"orig__prog__year__ps_e_\": \"22/23\", \"original_prog__amt___rw_\": 1101000.0, \"orig__prog__year__rw_\": \"22/23\", \"orignal_prog__amt___con_\": 7470000.0, \"orig__prog__year__con_\": \"24/25\", \"original_prog__amt___con_ni_\": null, \"orig__prog__year__con_ni_\": null, \"total\": 9971000.0, \"_2122_pa_ed\": 600000.0, \"_2122_ps_e\": null, \"_2122_rw\": null, \"_2122_con\": null, \"_2122_con_ni\": null, \"_2122_total\": 600000.0, \"fund_year_1\": \"21/22\", \"_2223_pa_ed\": null, \"_2223_ps_e\": 800000.0, \"_2223_rw\": 1101000.0, \"_2223_con\": null, \"_2223_con_ni\": null, \"_2223_total\": 1901000.0, \"fund_year_2\": \"22/23\", \"_2324_pa_ed\": null, \"_2324_ps_e\": null, \"_2324_rw\": null, \"_2324_con\": null, \"_2324_con_ni\": null, \"_2324_total\": 0.0, \"fund_year_3\": \"23/24\", \"_2425_pa_ed\": null, \"_2425_ps_e\": null, \"_2425_rw\": null, \"_2425_con\": 7470000.0, \"_2425_con_ni\": null, \"_2425_total\": 7470000.0, \"fund_year_4\": \"24/25\", \"Total ATP Funds\": 9971000.0, \"match_total_atp_$_and_total\": \"YES\", \"match_total_atp_$_and_total_atp_x_1000\": \"YES\", \"paed\": 600.0, \"ps_e_\": 800.0, \"rw\": 1101.0, \"con\": 7470.0, \"con_ni\": 0.0, \"total_atp__000s_\": 9971.0, \"total_atp_x_1000\": 9971000.0, \"year__pa_ed_\": \"21/22\", \"year__ps_e_\": \"22/23\", \"year__rw_\": \"22/23\", \"year__con_\": \"24/25\", \"year__con_ni_\": null, \"Implemeting Agency Name\": \"Karuk Tribe\"}, {\"Project ID\": \"2-Redding, City of-2\", \"project_cycle\": 5, \"a1_locode\": 5068.0, \"#\": null, \"atp_id\": null, \"awarded\": \"Y\", \"ppno\": 2610, \"ppno_1\": null, \"data_origin\": \"Funded\", \"geometry\": null, \"project_status\": \"Active\", \"solicitation_abv\": \"S\", \"solicitation\": \"STATEWIDE SOLICITATION-CYCLE 5\", \"soliciting_agency\": \"CALTRANS\", \"project_size\": \"Medium\", \"a1_imp_agcy_city\": \"Redding\", \"a1_imp_agcy_name\": \"Redding, City of\", \"a1_proj_partner_agcy\": null, \"a1_proj_partner_exists\": \"No \", \"assembly_district\": 1, \"congressional_district\": 1, \"senate_district\": 1, \"County\": \"Shasta\", \"a2_ct_dist\": 2, \"a2_info_proj_descr\": \"Buffered 2-way cycle track; shared use path; raised intersection with curb extensions, bollards, lane reductions; raised crosswalks with bike/ped separations; and shade trees.\", \"a2_info_proj_loc\": \"The project is located in the City of Redding, CA on Sundial Bridge Drive above and north of SR44, throughout Turtle Bay Park, and connecting to the Sacramento River Trail.\", \"Project Name\": \"Turtle Bay to Downtown Gap Completion Project\", \"a2_mop_uza_population\": \"Project is located outside one of the ten large MPOs in a UZA with Pop <=200,000 and > than 5,000\", \"a2_mpo\": \"SRTA\", \"a2_rtpa\": \"None\", \"a2_proj_scope_summary\": \"The City of Redding's longtime goal for their downtown area is to create a safe, walkable, and bikeable community with easy access to the multiple regional trails that surround it. This includes connecting to the existing Dana to Downtown (D2D) Trail and \", \"a1_imp_agcy_fed_ma_num\": \"02-5068F15\", \"a1_imp_agcy_ma\": \"Yes\", \"a1_imp_agcy_state_ma_num\": \"00074S\", \"a1_imp_agcy_street\": \"777 Cypress Ave\", \"a1_imp_agcy_title\": \"City of Redding Public Works Director\", \"a1_imp_agcy_zip\": 96001, \"a1_letter_of_intent\": null, \"a1_proj_partner_title\": null, \"a2_assem_dist_a\": 1.0, \"a2_assem_dist_b\": null, \"a2_assem_dist_c\": null, \"a2_congress_dist_a\": 1.0, \"a2_congress_dist_b\": null, \"a2_congress_dist_c\": null, \"a2_past_proj\": \"Yes                           \", \"a2_past_proj_qty\": 1, \"a2_proj_lat\": 40.587851, \"a2_proj_long\": -122.378588, \"a2_project_location_map\": null, \"a2_senate_dist_a\": 1.0, \"a2_senate_dist_b\": null, \"a2_senatedistc\": null, \"a3_plan_active_trans\": null, \"a3_plan_active_trans_exists\": \"Yes\", \"a3_plan_bicycle\": null, \"a3_plan_bicycle_exists\": \"No \", \"a3_plan_ped\": null, \"a3_plan_ped_exists\": \"No \", \"a3_plan_srts\": null, \"a3_plan_srts_exists\": \"No \", \"a3_proj_type\": null, \"a3_st_bicycle_applies\": \"Yes\", \"a3_st_bicycle_pct\": 60.0, \"a3_st_num_schools\": 2, \"a3_st_ped_applies\": \"Yes\", \"a3_st_ped_pct\": 40, \"a3_st_srts\": \"Yes\", \"a3_trail_elig_cost\": 0.0, \"a3_trail_fed_funding\": \"No \", \"a3_trail_trans_pct\": null, \"a3_trails\": \"X\", \"agency_app_num\": null, \"app_pk\": null, \"attch_addtl_attachments\": null, \"attch_app_sig_page\": null, \"attch_conditions_photos\": null, \"attch_conditions_project_map\": null, \"attch_engineeers_checklist\": null, \"attch_exhibit22_plan\": null, \"attch_letters_of_support\": null, \"attch_link\": null, \"attch_ni_workplan\": null, \"attch_project_estimate\": null, \"completed_pdf_form\": null, \"main_datetime_stamp\": \"\", \"a3_plan_none\": \"0\", \"a3_plan_other\": \"0\", \"a3_plan_other_desc\": null, \"a2_output_outcome\": \"Installation of buffered 2-way cycle track; shared use path; raised intersection with bulbout/curb extensions, bollards, lane reductions; crosswalks with bike/ped separations; landscaping and shade trees to provide safe connections to and through Turtle B\", \"a3_current_plan\": \"Yes\", \"b_sig_inter_new_bike_boxes\": null, \"b_class_1\": null, \"b_class_2\": 311.0, \"b_class_3\": null, \"b_class_4\": 324.0, \"a4_bike_gap_pct\": null, \"b_light_intersection\": null, \"b_mid_block_new_rrfb_signal\": null, \"b_mid_block_surf_improv\": null, \"b_bsp_new_bikes\": null, \"b_bike_new_secured_lockers\": null, \"b_bike_new_racks\": null, \"b_bsp_new_station\": null, \"b_other_bike_improv_1\": null, \"b_other_bike_improv_qty_1\": null, \"b_other_bike_improv_2\": null, \"b_other_bike_improv_qty_2\": null, \"b_light_rdwy_seg\": null, \"b_sig_inter_timing_improv\": null, \"b_un_sig_new_rrfb_signal\": null, \"b_un_sig_cross_surf_improv\": 3.0, \"a4_easement_support\": null, \"m_cls_1_trails_widen_recon_exist\": null, \"m_cls_1_trails_new__less_than_9\": null, \"m_cls_1_trails_new_over_9\": 1715.0, \"m_non_cls_trails_new\": null, \"m_other_trail_imprv_1\": null, \"m_other_trail_improv_qty_1\": null, \"m_other_trail_imprv_2\": null, \"m_other_trail_improv_qty_2\": null, \"m_non_cls_widen_recon_exist\": null, \"p_amenities_bench\": null, \"a4_ped_gap_pct\": 100.0, \"p_mid_block_cross_new_rrfb_signal\": null, \"p_light_intersection\": 1.0, \"p_lighting_rdwy_seg\": 1093.0, \"p_mid_block_cross_surf_improv\": 2.0, \"p_new_ada_ramp\": 5.0, \"p_sidewlks_new_barrier_protect\": 53.0, \"p_sidewlks_new_4_to_8\": 230.0, \"p_sidewlks_new_over_8\": null, \"p_other_ped_imprv_1\": null, \"p_other_ped_qty_1\": null, \"p_other_ped_imprv_2\": null, \"p_other_ped_qty_2\": null, \"p_reconstruct_ramp_to_ada_stand\": 3.0, \"p_sidewlks_reconstruct_enhance_exist\": null, \"p_sig_inter_enhance_exist_crosswlk\": 2.0, \"p_sig_inter_new_crosswlk\": null, \"p_sig_inter_ped_heads\": null, \"p_sig_inter_shorten_cross\": null, \"p_sig_inter_timing_improv\": null, \"p_amenities_trash_can\": null, \"p_amenities_shade_tree\": 10.0, \"p_amenities_shade_tree_type\": null, \"p_un_sig_inter_new_traff_sig\": null, \"p_un_sig_inter_new_roundabout\": null, \"p_un_sig_inter_new_rrfb_sig\": null, \"p_un_sig_inter_shorten_cross\": null, \"p_un_sig_inter_cross_surface_improv\": 1.0, \"p_sidewlks_widen_existing\": 278.0, \"a4_row_100\": null, \"a4_row_gov_ease\": null, \"a4_row_private_ease\": null, \"v_other_traffic_calming_imprv_1\": null, \"v_speed_feedback_signs\": null, \"v_other_traffic_calming_qty_1\": null, \"v_other_traffic_calming_imprv_2\": null, \"v_other_traffic_calming_qty_2\": null, \"v_remove_right_turn_pocket\": null, \"v_remove_travel_ln\": 788.0, \"v_sig_inter_new_roundabout\": null, \"v_sig_inter_timing_improv\": null, \"v_un_sig_inter_new_traf_sig\": null, \"v_un_sig_inter_new_roundabout\": null, \"app_fk\": null, \"details_datetime_stamp\": \"\", \"a4_reg_init\": \"Y\", \"a4_reg_init_pct\": 30, \"a4_com_init\": \"Y\", \"a4_com_init_pct\": 40, \"a4_safe_route\": \"Y\", \"a4_safe_route_pct\": 30, \"a4_fl_mile\": \"N\", \"a4_fl_mile_pct\": 0, \"a4_emp_based\": null, \"a4_emp_based_pct\": 0.0, \"a4_other_ni\": \"N\", \"a4_other_ni_descr\": null, \"a4_other_ni_pct\": 0, \"a4_wb_audits\": 2.0, \"a4_bike_classes\": 0.0, \"a4_ped_classes\": 0.0, \"a4_demo_events\": 1.0, \"a4_com_enc\": 1.0, \"a4_le_methods\": 0.0, \"a4_com_meetings\": 5.0, \"a4_classrooms\": 2.0, \"a4_school_assem\": 0.0, \"a4_after_school\": 0.0, \"a4_bike_rodeos\": 0.0, \"a4_mock_cities\": 2.0, \"a4_walk_bus\": 1.0, \"a4_bike_train\": 0.0, \"a4_com_challenges\": 0.0, \"a4_srts_enc\": 6.0, \"a4_srts_le\": 0.0, \"a4_srts_training\": 0.0, \"a4_act_other_1\": 2.0, \"a4_act_other_1_descr\": \"Back to School/Open House helmet fitting/How to Ride to School events\", \"a4_act_other_2\": 0.0, \"a4_act_other_2_decr\": null, \"a4_comm_trad_media\": \"Y\", \"a4_comm_large_media\": \"Y\", \"a4_comm_print\": \"Y\", \"a4_comm_social\": \"Y\", \"a4_comm_web\": \"Y\", \"a4_comm_other\": \"Y\", \"a4_comm_other_descr\": \"Garden Tract Neighborhood Association\", \"a4_comm_language\": null, \"a4_collab_pub_health\": \"Y\", \"a4_collab_le\": \"Y\", \"a4_collab_non_profit\": \"Y\", \"a4_collab_schools\": \"Y\", \"a4_collab_pub_works\": \"Y\", \"a4_collab_other\": \"Y\", \"a4_colab_other_descr\": \"Garden Tract Neighborhood Association\", \"a4_plan_ped\": \"N\", \"a4_plan_bike\": \"N\", \"a4_plan_atp\": \"N\", \"a4_plan_school_routes\": \"N\", \"a4_row_open_street_demo\": \"No\", \"atp_id_x\": \"ATP5-02-031S\", \"a3_proj_type_x\": \"Infrastructure + NI - Medium\", \"agency_fully_own_r_w\": null, \"require_r_w_easement,_from_gov\": null, \"_require_rw_easement_from_private\": null, \"atp_id_y\": \"ATP5-2-031S\", \"ppno1\": null, \"oversight_id\": \"Standard\", \"a3_proj_type_y\": \"Combined (IF and NI)\", \"Total Project Cost\": 3935000.0, \"original_prog__amt___pa_ed_\": null, \"orig__prog__year__pa_ed_\": null, \"original_prog__amt___ps_e_\": null, \"orig__prog__year__ps_e_\": null, \"original_prog__amt___rw_\": 50000.0, \"orig__prog__year__rw_\": \"23/24\", \"orignal_prog__amt___con_\": 2462000.0, \"orig__prog__year__con_\": \"24/25\", \"original_prog__amt___con_ni_\": 153000.0, \"orig__prog__year__con_ni_\": \"24/25\", \"total\": 2665000.0, \"_2122_pa_ed\": null, \"_2122_ps_e\": null, \"_2122_rw\": null, \"_2122_con\": null, \"_2122_con_ni\": null, \"_2122_total\": 0.0, \"fund_year_1\": \"21/22\", \"_2223_pa_ed\": null, \"_2223_ps_e\": null, \"_2223_rw\": null, \"_2223_con\": null, \"_2223_con_ni\": null, \"_2223_total\": 0.0, \"fund_year_2\": \"22/23\", \"_2324_pa_ed\": null, \"_2324_ps_e\": null, \"_2324_rw\": 50000.0, \"_2324_con\": null, \"_2324_con_ni\": null, \"_2324_total\": 50000.0, \"fund_year_3\": \"23/24\", \"_2425_pa_ed\": null, \"_2425_ps_e\": null, \"_2425_rw\": null, \"_2425_con\": 2462000.0, \"_2425_con_ni\": 153000.0, \"_2425_total\": 2615000.0, \"fund_year_4\": \"24/25\", \"Total ATP Funds\": 2665000.0, \"match_total_atp_$_and_total\": \"YES\", \"match_total_atp_$_and_total_atp_x_1000\": \"YES\", \"paed\": 0.0, \"ps_e_\": 0.0, \"rw\": 50.0, \"con\": 2462.0, \"con_ni\": 153.0, \"total_atp__000s_\": 2665.0, \"total_atp_x_1000\": 2665000.0, \"year__pa_ed_\": null, \"year__ps_e_\": null, \"year__rw_\": \"23/24\", \"year__con_\": \"24/25\", \"year__con_ni_\": \"24/25\", \"Implemeting Agency Name\": \"City of Redding\"}, {\"Project ID\": \"2-Shasta County-3\", \"project_cycle\": 5, \"a1_locode\": 5906.0, \"#\": null, \"atp_id\": null, \"awarded\": \"Y\", \"ppno\": 2607, \"ppno_1\": null, \"data_origin\": \"Funded\", \"geometry\": null, \"project_status\": \"Active\", \"solicitation_abv\": \"R\", \"solicitation\": \"SMALL URBAN & RURAL SOLICITATION-CYCLE 5\", \"soliciting_agency\": \"CALTRANS\", \"project_size\": \"Large\", \"a1_imp_agcy_city\": \"Redding\", \"a1_imp_agcy_name\": \"Shasta County\", \"a1_proj_partner_agcy\": null, \"a1_proj_partner_exists\": \"No \", \"assembly_district\": 1, \"congressional_district\": 1, \"senate_district\": 1, \"County\": \"Shasta\", \"a2_ct_dist\": 2, \"a2_info_proj_descr\": \"In the unincorporated community of Cottonwood, develop a complete, low-stress bicycle/pedestrian network connecting residents to key Cottonwood attractions and community resources.\", \"a2_info_proj_loc\": \"Unincorporated Cottonwood on Main Street, Gas Point Road, 1st St, 4th St, Locust St, Brush St, and Interstate 5 on/off ramps on Gas Point Rd.\", \"Project Name\": \"Cottonwood Active Transportation Trunk Line Express (CATTLE) Network\", \"a2_mop_uza_population\": \"Project is located outside one of the ten large MPOs in a UZA with Pop <= 5,000\", \"a2_mpo\": \"SRTA\", \"a2_rtpa\": \"None\", \"a2_proj_scope_summary\": \"Cottonwood lacks bicycle infrastructure and has sparse walking infrastructure. Consequently, active transportation users face high-stress conditions, such as crossing freeway ramps with no facilities or crosswalks in order to access fresh food.  This tran\", \"a1_imp_agcy_fed_ma_num\": \"02-5906F15\", \"a1_imp_agcy_ma\": \"Yes\", \"a1_imp_agcy_state_ma_num\": \"000480\", \"a1_imp_agcy_street\": \"1855 Placer St\", \"a1_imp_agcy_title\": \"Supervising Engineer, Shasta County Department of Public Works\", \"a1_imp_agcy_zip\": 96001, \"a1_letter_of_intent\": null, \"a1_proj_partner_title\": null, \"a2_assem_dist_a\": 1.0, \"a2_assem_dist_b\": null, \"a2_assem_dist_c\": null, \"a2_congress_dist_a\": 1.0, \"a2_congress_dist_b\": null, \"a2_congress_dist_c\": null, \"a2_past_proj\": \"No                            \", \"a2_past_proj_qty\": 0, \"a2_proj_lat\": 40.385716, \"a2_proj_long\": -122.281225, \"a2_project_location_map\": null, \"a2_senate_dist_a\": 1.0, \"a2_senate_dist_b\": null, \"a2_senatedistc\": null, \"a3_plan_active_trans\": null, \"a3_plan_active_trans_exists\": \"Yes\", \"a3_plan_bicycle\": null, \"a3_plan_bicycle_exists\": \"No \", \"a3_plan_ped\": null, \"a3_plan_ped_exists\": \"No \", \"a3_plan_srts\": null, \"a3_plan_srts_exists\": \"No \", \"a3_proj_type\": null, \"a3_st_bicycle_applies\": \"Yes\", \"a3_st_bicycle_pct\": 50.0, \"a3_st_num_schools\": 2, \"a3_st_ped_applies\": \"Yes\", \"a3_st_ped_pct\": 50, \"a3_st_srts\": \"Yes\", \"a3_trail_elig_cost\": 0.0, \"a3_trail_fed_funding\": null, \"a3_trail_trans_pct\": null, \"a3_trails\": null, \"agency_app_num\": null, \"app_pk\": null, \"attch_addtl_attachments\": null, \"attch_app_sig_page\": null, \"attch_conditions_photos\": null, \"attch_conditions_project_map\": null, \"attch_engineeers_checklist\": null, \"attch_exhibit22_plan\": null, \"attch_letters_of_support\": null, \"attch_link\": null, \"attch_ni_workplan\": null, \"attch_project_estimate\": null, \"completed_pdf_form\": null, \"main_datetime_stamp\": \"\", \"a3_plan_none\": \"No\", \"a3_plan_other\": \"No\", \"a3_plan_other_desc\": null, \"a2_output_outcome\": \"Construction of school frontage walking paths and crossings, pedestrian-scale lighting, and a shared-use path network in the downtown adds needed safety for pedestrians/bicyclists, including walking/biking improvements on two I-5 overpasses, significant e\", \"a3_current_plan\": \"Yes\", \"b_sig_inter_new_bike_boxes\": null, \"b_class_1\": 7740.0, \"b_class_2\": null, \"b_class_3\": null, \"b_class_4\": null, \"a4_bike_gap_pct\": null, \"b_light_intersection\": null, \"b_mid_block_new_rrfb_signal\": null, \"b_mid_block_surf_improv\": null, \"b_bsp_new_bikes\": null, \"b_bike_new_secured_lockers\": null, \"b_bike_new_racks\": null, \"b_bsp_new_station\": null, \"b_other_bike_improv_1\": \"New Bicycle Facility Signage\", \"b_other_bike_improv_qty_1\": null, \"b_other_bike_improv_2\": null, \"b_other_bike_improv_qty_2\": null, \"b_light_rdwy_seg\": null, \"b_sig_inter_timing_improv\": null, \"b_un_sig_new_rrfb_signal\": null, \"b_un_sig_cross_surf_improv\": null, \"a4_easement_support\": null, \"m_cls_1_trails_widen_recon_exist\": null, \"m_cls_1_trails_new__less_than_9\": null, \"m_cls_1_trails_new_over_9\": null, \"m_non_cls_trails_new\": null, \"m_other_trail_imprv_1\": null, \"m_other_trail_improv_qty_1\": null, \"m_other_trail_imprv_2\": null, \"m_other_trail_improv_qty_2\": null, \"m_non_cls_widen_recon_exist\": null, \"p_amenities_bench\": null, \"a4_ped_gap_pct\": null, \"p_mid_block_cross_new_rrfb_signal\": 2.0, \"p_light_intersection\": null, \"p_lighting_rdwy_seg\": 14210.0, \"p_mid_block_cross_surf_improv\": null, \"p_new_ada_ramp\": 12.0, \"p_sidewlks_new_barrier_protect\": null, \"p_sidewlks_new_4_to_8\": 6470.0, \"p_sidewlks_new_over_8\": null, \"p_other_ped_imprv_1\": \"Upgrade I-5 on/offramps on 4th St\", \"p_other_ped_qty_1\": null, \"p_other_ped_imprv_2\": null, \"p_other_ped_qty_2\": null, \"p_reconstruct_ramp_to_ada_stand\": 13.0, \"p_sidewlks_reconstruct_enhance_exist\": null, \"p_sig_inter_enhance_exist_crosswlk\": 16.0, \"p_sig_inter_new_crosswlk\": 31.0, \"p_sig_inter_ped_heads\": null, \"p_sig_inter_shorten_cross\": null, \"p_sig_inter_timing_improv\": null, \"p_amenities_trash_can\": null, \"p_amenities_shade_tree\": null, \"p_amenities_shade_tree_type\": null, \"p_un_sig_inter_new_traff_sig\": 1.0, \"p_un_sig_inter_new_roundabout\": null, \"p_un_sig_inter_new_rrfb_sig\": null, \"p_un_sig_inter_shorten_cross\": 2.0, \"p_un_sig_inter_cross_surface_improv\": null, \"p_sidewlks_widen_existing\": null, \"a4_row_100\": null, \"a4_row_gov_ease\": null, \"a4_row_private_ease\": null, \"v_other_traffic_calming_imprv_1\": null, \"v_speed_feedback_signs\": null, \"v_other_traffic_calming_qty_1\": null, \"v_other_traffic_calming_imprv_2\": null, \"v_other_traffic_calming_qty_2\": null, \"v_remove_right_turn_pocket\": null, \"v_remove_travel_ln\": null, \"v_sig_inter_new_roundabout\": null, \"v_sig_inter_timing_improv\": null, \"v_un_sig_inter_new_traf_sig\": null, \"v_un_sig_inter_new_roundabout\": null, \"app_fk\": null, \"details_datetime_stamp\": \"\", \"a4_reg_init\": \"N\", \"a4_reg_init_pct\": 0, \"a4_com_init\": \"Y\", \"a4_com_init_pct\": 40, \"a4_safe_route\": \"Y\", \"a4_safe_route_pct\": 60, \"a4_fl_mile\": \"N\", \"a4_fl_mile_pct\": 0, \"a4_emp_based\": null, \"a4_emp_based_pct\": 0.0, \"a4_other_ni\": \"N\", \"a4_other_ni_descr\": null, \"a4_other_ni_pct\": 0, \"a4_wb_audits\": 1.0, \"a4_bike_classes\": 0.0, \"a4_ped_classes\": 0.0, \"a4_demo_events\": 0.0, \"a4_com_enc\": 0.0, \"a4_le_methods\": 0.0, \"a4_com_meetings\": 4.0, \"a4_classrooms\": 2.0, \"a4_school_assem\": 0.0, \"a4_after_school\": 0.0, \"a4_bike_rodeos\": 1.0, \"a4_mock_cities\": 2.0, \"a4_walk_bus\": 0.0, \"a4_bike_train\": 0.0, \"a4_com_challenges\": 0.0, \"a4_srts_enc\": 4.0, \"a4_srts_le\": 0.0, \"a4_srts_training\": 2.0, \"a4_act_other_1\": 0.0, \"a4_act_other_1_descr\": null, \"a4_act_other_2\": 0.0, \"a4_act_other_2_decr\": null, \"a4_comm_trad_media\": \"Y\", \"a4_comm_large_media\": \"N\", \"a4_comm_print\": \"N\", \"a4_comm_social\": \"Y\", \"a4_comm_web\": \"Y\", \"a4_comm_other\": \"N\", \"a4_comm_other_descr\": null, \"a4_comm_language\": \"English and Spanish\", \"a4_collab_pub_health\": \"Y\", \"a4_collab_le\": \"N\", \"a4_collab_non_profit\": \"Y\", \"a4_collab_schools\": \"Y\", \"a4_collab_pub_works\": \"Y\", \"a4_collab_other\": \"Y\", \"a4_colab_other_descr\": null, \"a4_plan_ped\": \"N\", \"a4_plan_bike\": \"N\", \"a4_plan_atp\": \"N\", \"a4_plan_school_routes\": \"N\", \"a4_row_open_street_demo\": \"No\", \"atp_id_x\": \"ATP5-02-038R\", \"a3_proj_type_x\": \"Infrastructure + NI - Large\", \"agency_fully_own_r_w\": null, \"require_r_w_easement,_from_gov\": null, \"_require_rw_easement_from_private\": null, \"atp_id_y\": \"ATP5-2-038R\", \"ppno1\": null, \"oversight_id\": \"Standard\", \"a3_proj_type_y\": \"Combined (IF and NI)\", \"Total Project Cost\": 17844000.0, \"original_prog__amt___pa_ed_\": 1197000.0, \"orig__prog__year__pa_ed_\": \"21/22\", \"original_prog__amt___ps_e_\": 1796000.0, \"orig__prog__year__ps_e_\": \"22/23\", \"original_prog__amt___rw_\": 760000.0, \"orig__prog__year__rw_\": \"22/23\", \"orignal_prog__amt___con_\": 3227000.0, \"orig__prog__year__con_\": \"24/25\", \"original_prog__amt___con_ni_\": 76000.0, \"orig__prog__year__con_ni_\": \"23/24\", \"total\": 7056000.0, \"_2122_pa_ed\": 1197000.0, \"_2122_ps_e\": null, \"_2122_rw\": null, \"_2122_con\": null, \"_2122_con_ni\": null, \"_2122_total\": 1197000.0, \"fund_year_1\": \"21/22\", \"_2223_pa_ed\": null, \"_2223_ps_e\": 1796000.0, \"_2223_rw\": 760000.0, \"_2223_con\": null, \"_2223_con_ni\": null, \"_2223_total\": 2556000.0, \"fund_year_2\": \"22/23\", \"_2324_pa_ed\": null, \"_2324_ps_e\": null, \"_2324_rw\": null, \"_2324_con\": null, \"_2324_con_ni\": 76000.0, \"_2324_total\": 76000.0, \"fund_year_3\": \"23/24\", \"_2425_pa_ed\": null, \"_2425_ps_e\": null, \"_2425_rw\": null, \"_2425_con\": 3227000.0, \"_2425_con_ni\": null, \"_2425_total\": 3227000.0, \"fund_year_4\": \"24/25\", \"Total ATP Funds\": 7056000.0, \"match_total_atp_$_and_total\": \"YES\", \"match_total_atp_$_and_total_atp_x_1000\": \"YES\", \"paed\": 1197.0, \"ps_e_\": 1796.0, \"rw\": 760.0, \"con\": 3227.0, \"con_ni\": 76.0, \"total_atp__000s_\": 7056.0, \"total_atp_x_1000\": 7056000.0, \"year__pa_ed_\": \"21/22\", \"year__ps_e_\": \"22/23\", \"year__rw_\": \"22/23\", \"year__con_\": \"24/25\", \"year__con_ni_\": \"23/24\", \"Implemeting Agency Name\": \"Shasta County\"}, {\"Project ID\": \"2-Siskiyou County Transportation Commission-1\", \"project_cycle\": 5, \"a1_locode\": 6151.0, \"#\": null, \"atp_id\": null, \"awarded\": \"Y\", \"ppno\": 2608, \"ppno_1\": null, \"data_origin\": \"Funded\", \"geometry\": null, \"project_status\": \"Active\", \"solicitation_abv\": \"R\", \"solicitation\": \"SMALL URBAN & RURAL SOLICITATION-CYCLE 5\", \"soliciting_agency\": \"CALTRANS\", \"project_size\": null, \"a1_imp_agcy_city\": \"Yreka\", \"a1_imp_agcy_name\": \"Siskiyou County Transportation Commission\", \"a1_proj_partner_agcy\": null, \"a1_proj_partner_exists\": \"No \", \"assembly_district\": 1, \"congressional_district\": 1, \"senate_district\": 1, \"County\": \"Siskiyou\", \"a2_ct_dist\": 2, \"a2_info_proj_descr\": \"The goal of this project is to create a comprehensive regional active transportation plan for the County of Siskiyou that will identify priority active transportation needs.\", \"a2_info_proj_loc\": \"Siskiyou County, including all unincorporated communities, and the Cities of Dorris, Dunsmuir, Etna, Fort Jones, Montague, Mt. Shasta, Tulelake, Weed, and Yreka,.\", \"Project Name\": \"Siskiyou- Regional Active Transportation Plan\", \"a2_mop_uza_population\": \"Project is located outside one of the ten large MPOs in a UZA with Pop <=200,000 and > than 5,000\", \"a2_mpo\": \"Caltrans\", \"a2_rtpa\": \"Siskiyou CTC\", \"a2_proj_scope_summary\": \"The communities in the Siskiyou region are widespread and severely disadvantaged, with little access to public transportation and necessary resources that create social equity. Creating a comprehensive, regional active transportation plan for the County o\", \"a1_imp_agcy_fed_ma_num\": \"74A0804\", \"a1_imp_agcy_ma\": \"Yes\", \"a1_imp_agcy_state_ma_num\": \"74A0804\", \"a1_imp_agcy_street\": \"190 Greenhorn Road\", \"a1_imp_agcy_title\": \"Executive Director\", \"a1_imp_agcy_zip\": 96097, \"a1_letter_of_intent\": null, \"a1_proj_partner_title\": null, \"a2_assem_dist_a\": 1.0, \"a2_assem_dist_b\": null, \"a2_assem_dist_c\": null, \"a2_congress_dist_a\": 1.0, \"a2_congress_dist_b\": null, \"a2_congress_dist_c\": null, \"a2_past_proj\": \"No                            \", \"a2_past_proj_qty\": 0, \"a2_proj_lat\": 41.734092, \"a2_proj_long\": -122.629513, \"a2_project_location_map\": null, \"a2_senate_dist_a\": 1.0, \"a2_senate_dist_b\": null, \"a2_senatedistc\": null, \"a3_plan_active_trans\": null, \"a3_plan_active_trans_exists\": \"No \", \"a3_plan_bicycle\": null, \"a3_plan_bicycle_exists\": \"No \", \"a3_plan_ped\": null, \"a3_plan_ped_exists\": \"No \", \"a3_plan_srts\": null, \"a3_plan_srts_exists\": \"No \", \"a3_proj_type\": null, \"a3_st_bicycle_applies\": \"Yes\", \"a3_st_bicycle_pct\": 50.0, \"a3_st_num_schools\": 1, \"a3_st_ped_applies\": \"Yes\", \"a3_st_ped_pct\": 50, \"a3_st_srts\": \"No \", \"a3_trail_elig_cost\": 0.0, \"a3_trail_fed_funding\": \"No \", \"a3_trail_trans_pct\": null, \"a3_trails\": \"X\", \"agency_app_num\": null, \"app_pk\": null, \"attch_addtl_attachments\": null, \"attch_app_sig_page\": null, \"attch_conditions_photos\": null, \"attch_conditions_project_map\": null, \"attch_engineeers_checklist\": null, \"attch_exhibit22_plan\": null, \"attch_letters_of_support\": null, \"attch_link\": null, \"attch_ni_workplan\": null, \"attch_project_estimate\": null, \"completed_pdf_form\": null, \"main_datetime_stamp\": \"\", \"a3_plan_none\": \"0\", \"a3_plan_other\": \"0\", \"a3_plan_other_desc\": \"Regional Transportation Plan\", \"a2_output_outcome\": \"A Regional Active Transportation Plan including an inventory of existing infrastructure, a comprehensive public outreach campaign, a prioritized list of projects and a list of non-infrastructure elements. \", \"a3_current_plan\": \"Yes\", \"b_sig_inter_new_bike_boxes\": null, \"b_class_1\": null, \"b_class_2\": null, \"b_class_3\": null, \"b_class_4\": null, \"a4_bike_gap_pct\": null, \"b_light_intersection\": null, \"b_mid_block_new_rrfb_signal\": null, \"b_mid_block_surf_improv\": null, \"b_bsp_new_bikes\": null, \"b_bike_new_secured_lockers\": null, \"b_bike_new_racks\": null, \"b_bsp_new_station\": null, \"b_other_bike_improv_1\": null, \"b_other_bike_improv_qty_1\": null, \"b_other_bike_improv_2\": null, \"b_other_bike_improv_qty_2\": null, \"b_light_rdwy_seg\": null, \"b_sig_inter_timing_improv\": null, \"b_un_sig_new_rrfb_signal\": null, \"b_un_sig_cross_surf_improv\": null, \"a4_easement_support\": null, \"m_cls_1_trails_widen_recon_exist\": null, \"m_cls_1_trails_new__less_than_9\": null, \"m_cls_1_trails_new_over_9\": null, \"m_non_cls_trails_new\": null, \"m_other_trail_imprv_1\": null, \"m_other_trail_improv_qty_1\": null, \"m_other_trail_imprv_2\": null, \"m_other_trail_improv_qty_2\": null, \"m_non_cls_widen_recon_exist\": null, \"p_amenities_bench\": null, \"a4_ped_gap_pct\": null, \"p_mid_block_cross_new_rrfb_signal\": null, \"p_light_intersection\": null, \"p_lighting_rdwy_seg\": null, \"p_mid_block_cross_surf_improv\": null, \"p_new_ada_ramp\": null, \"p_sidewlks_new_barrier_protect\": null, \"p_sidewlks_new_4_to_8\": null, \"p_sidewlks_new_over_8\": null, \"p_other_ped_imprv_1\": null, \"p_other_ped_qty_1\": null, \"p_other_ped_imprv_2\": null, \"p_other_ped_qty_2\": null, \"p_reconstruct_ramp_to_ada_stand\": null, \"p_sidewlks_reconstruct_enhance_exist\": null, \"p_sig_inter_enhance_exist_crosswlk\": null, \"p_sig_inter_new_crosswlk\": null, \"p_sig_inter_ped_heads\": null, \"p_sig_inter_shorten_cross\": null, \"p_sig_inter_timing_improv\": null, \"p_amenities_trash_can\": null, \"p_amenities_shade_tree\": null, \"p_amenities_shade_tree_type\": null, \"p_un_sig_inter_new_traff_sig\": null, \"p_un_sig_inter_new_roundabout\": null, \"p_un_sig_inter_new_rrfb_sig\": null, \"p_un_sig_inter_shorten_cross\": null, \"p_un_sig_inter_cross_surface_improv\": null, \"p_sidewlks_widen_existing\": null, \"a4_row_100\": null, \"a4_row_gov_ease\": null, \"a4_row_private_ease\": null, \"v_other_traffic_calming_imprv_1\": null, \"v_speed_feedback_signs\": null, \"v_other_traffic_calming_qty_1\": null, \"v_other_traffic_calming_imprv_2\": null, \"v_other_traffic_calming_qty_2\": null, \"v_remove_right_turn_pocket\": null, \"v_remove_travel_ln\": null, \"v_sig_inter_new_roundabout\": null, \"v_sig_inter_timing_improv\": null, \"v_un_sig_inter_new_traf_sig\": null, \"v_un_sig_inter_new_roundabout\": null, \"app_fk\": null, \"details_datetime_stamp\": \"\", \"a4_reg_init\": \"N\", \"a4_reg_init_pct\": 0, \"a4_com_init\": \"N\", \"a4_com_init_pct\": 0, \"a4_safe_route\": \"N\", \"a4_safe_route_pct\": 0, \"a4_fl_mile\": \"N\", \"a4_fl_mile_pct\": 0, \"a4_emp_based\": null, \"a4_emp_based_pct\": 0.0, \"a4_other_ni\": \"N\", \"a4_other_ni_descr\": null, \"a4_other_ni_pct\": 0, \"a4_wb_audits\": 0.0, \"a4_bike_classes\": 0.0, \"a4_ped_classes\": 0.0, \"a4_demo_events\": 0.0, \"a4_com_enc\": 0.0, \"a4_le_methods\": 0.0, \"a4_com_meetings\": 0.0, \"a4_classrooms\": 0.0, \"a4_school_assem\": 0.0, \"a4_after_school\": 0.0, \"a4_bike_rodeos\": 0.0, \"a4_mock_cities\": 0.0, \"a4_walk_bus\": 0.0, \"a4_bike_train\": 0.0, \"a4_com_challenges\": 0.0, \"a4_srts_enc\": 0.0, \"a4_srts_le\": 0.0, \"a4_srts_training\": 0.0, \"a4_act_other_1\": 0.0, \"a4_act_other_1_descr\": null, \"a4_act_other_2\": 0.0, \"a4_act_other_2_decr\": null, \"a4_comm_trad_media\": \"N\", \"a4_comm_large_media\": \"N\", \"a4_comm_print\": \"N\", \"a4_comm_social\": \"N\", \"a4_comm_web\": \"N\", \"a4_comm_other\": \"N\", \"a4_comm_other_descr\": null, \"a4_comm_language\": null, \"a4_collab_pub_health\": \"N\", \"a4_collab_le\": \"N\", \"a4_collab_non_profit\": \"N\", \"a4_collab_schools\": \"N\", \"a4_collab_pub_works\": \"N\", \"a4_collab_other\": \"N\", \"a4_colab_other_descr\": null, \"a4_plan_ped\": \"N\", \"a4_plan_bike\": \"N\", \"a4_plan_atp\": \"Y\", \"a4_plan_school_routes\": \"N\", \"a4_row_open_street_demo\": \"Yes\", \"atp_id_x\": \"ATP5-02-048R\", \"a3_proj_type_x\": \"Plan\", \"agency_fully_own_r_w\": null, \"require_r_w_easement,_from_gov\": null, \"_require_rw_easement_from_private\": null, \"atp_id_y\": \"ATP5-2-048R\", \"ppno1\": null, \"oversight_id\": \"Standard\", \"a3_proj_type_y\": \"Plan\", \"Total Project Cost\": 212000.0, \"original_prog__amt___pa_ed_\": null, \"orig__prog__year__pa_ed_\": null, \"original_prog__amt___ps_e_\": null, \"orig__prog__year__ps_e_\": null, \"original_prog__amt___rw_\": null, \"orig__prog__year__rw_\": null, \"orignal_prog__amt___con_\": null, \"orig__prog__year__con_\": null, \"original_prog__amt___con_ni_\": 202000.0, \"orig__prog__year__con_ni_\": \"21/22\", \"total\": 202000.0, \"_2122_pa_ed\": null, \"_2122_ps_e\": null, \"_2122_rw\": null, \"_2122_con\": null, \"_2122_con_ni\": 202000.0, \"_2122_total\": 202000.0, \"fund_year_1\": \"21/22\", \"_2223_pa_ed\": null, \"_2223_ps_e\": null, \"_2223_rw\": null, \"_2223_con\": null, \"_2223_con_ni\": null, \"_2223_total\": 0.0, \"fund_year_2\": \"22/23\", \"_2324_pa_ed\": null, \"_2324_ps_e\": null, \"_2324_rw\": null, \"_2324_con\": null, \"_2324_con_ni\": null, \"_2324_total\": 0.0, \"fund_year_3\": \"23/24\", \"_2425_pa_ed\": null, \"_2425_ps_e\": null, \"_2425_rw\": null, \"_2425_con\": null, \"_2425_con_ni\": null, \"_2425_total\": 0.0, \"fund_year_4\": \"24/25\", \"Total ATP Funds\": 202000.0, \"match_total_atp_$_and_total\": \"YES\", \"match_total_atp_$_and_total_atp_x_1000\": \"YES\", \"paed\": 0.0, \"ps_e_\": 0.0, \"rw\": 0.0, \"con\": 0.0, \"con_ni\": 202.0, \"total_atp__000s_\": 202.0, \"total_atp_x_1000\": 202000.0, \"year__pa_ed_\": null, \"year__ps_e_\": null, \"year__rw_\": null, \"year__con_\": null, \"year__con_ni_\": \"21/22\", \"Implemeting Agency Name\": \"Siskiyou County Transportation Commission\"}, {\"Project ID\": \"2-Redding, City of-1\", \"project_cycle\": 5, \"a1_locode\": 5068.0, \"#\": null, \"atp_id\": null, \"awarded\": \"Y\", \"ppno\": 2606, \"ppno_1\": null, \"data_origin\": \"Funded\", \"geometry\": null, \"project_status\": \"Active\", \"solicitation_abv\": \"R\", \"solicitation\": \"SMALL URBAN & RURAL SOLICITATION-CYCLE 5\", \"soliciting_agency\": \"CALTRANS\", \"project_size\": \"Large\", \"a1_imp_agcy_city\": \"Redding\", \"a1_imp_agcy_name\": \"Redding, City of\", \"a1_proj_partner_agcy\": null, \"a1_proj_partner_exists\": \"No \", \"assembly_district\": 1, \"congressional_district\": 1, \"senate_district\": 1, \"County\": \"Shasta\", \"a2_ct_dist\": 2, \"a2_info_proj_descr\": \"Along Victor Ave, Cypress Ave, and Alfreda Way, construct shared use paths, sidewalks, curb/gutter/curb ramps, bike lanes, and protected intersections.\", \"a2_info_proj_loc\": \"The project is located in the City of Redding, CA. \\rVictor Ave (s/o Hartnell Ave to Cypress Ave), Cypress Ave (Victor Ave to Alfreda Way), Alfreda Way (Cypress Ave to Del Monte St)\", \"Project Name\": \"Victor Ave & Cypress Ave Active Transportation (VCAT) Project\", \"a2_mop_uza_population\": \"Project is located outside one of the ten large MPOs in a UZA with Pop <=200,000 and > than 5,000\", \"a2_mpo\": \"SRTA\", \"a2_rtpa\": \"None\", \"a2_proj_scope_summary\": \"Along Victor Avenue and Cypress Avenue--two major arterial streets in an urban and very low-income area of Redding--there are little to no pedestrian and bicycle facilities. This results in a very dangerous and uncomfortable experience for pedestrians and\", \"a1_imp_agcy_fed_ma_num\": \"02-5068F15\", \"a1_imp_agcy_ma\": \"Yes\", \"a1_imp_agcy_state_ma_num\": \"00074S\", \"a1_imp_agcy_street\": \"777 Cypress Ave\", \"a1_imp_agcy_title\": \"City of Redding Public Works Director\", \"a1_imp_agcy_zip\": 96001, \"a1_letter_of_intent\": null, \"a1_proj_partner_title\": null, \"a2_assem_dist_a\": 1.0, \"a2_assem_dist_b\": null, \"a2_assem_dist_c\": null, \"a2_congress_dist_a\": 1.0, \"a2_congress_dist_b\": null, \"a2_congress_dist_c\": null, \"a2_past_proj\": \"Yes                           \", \"a2_past_proj_qty\": 5, \"a2_proj_lat\": 40.570793, \"a2_proj_long\": -122.338999, \"a2_project_location_map\": null, \"a2_senate_dist_a\": 1.0, \"a2_senate_dist_b\": null, \"a2_senatedistc\": null, \"a3_plan_active_trans\": null, \"a3_plan_active_trans_exists\": \"Yes\", \"a3_plan_bicycle\": null, \"a3_plan_bicycle_exists\": \"No \", \"a3_plan_ped\": null, \"a3_plan_ped_exists\": \"No \", \"a3_plan_srts\": null, \"a3_plan_srts_exists\": \"No \", \"a3_proj_type\": null, \"a3_st_bicycle_applies\": \"Yes\", \"a3_st_bicycle_pct\": 50.0, \"a3_st_num_schools\": 2, \"a3_st_ped_applies\": \"Yes\", \"a3_st_ped_pct\": 50, \"a3_st_srts\": \"Yes\", \"a3_trail_elig_cost\": 0.0, \"a3_trail_fed_funding\": \"No \", \"a3_trail_trans_pct\": null, \"a3_trails\": \"X\", \"agency_app_num\": null, \"app_pk\": null, \"attch_addtl_attachments\": null, \"attch_app_sig_page\": null, \"attch_conditions_photos\": null, \"attch_conditions_project_map\": null, \"attch_engineeers_checklist\": null, \"attch_exhibit22_plan\": null, \"attch_letters_of_support\": null, \"attch_link\": null, \"attch_ni_workplan\": null, \"attch_project_estimate\": null, \"completed_pdf_form\": null, \"main_datetime_stamp\": \"\", \"a3_plan_none\": \"0\", \"a3_plan_other\": \"0\", \"a3_plan_other_desc\": null, \"a2_output_outcome\": \"Construct shared use paths (8\\u2019- to 10\\u2019-wide), sidewalks, curb/gutter/curb ramps, and bike lanes (including 2\\u2019-wide buffers and parking protection, where possible); add two rectangular rapid flashing beacons; enhance two intersections.\", \"a3_current_plan\": \"Yes\", \"b_sig_inter_new_bike_boxes\": null, \"b_class_1\": null, \"b_class_2\": 10740.0, \"b_class_3\": null, \"b_class_4\": null, \"a4_bike_gap_pct\": null, \"b_light_intersection\": null, \"b_mid_block_new_rrfb_signal\": null, \"b_mid_block_surf_improv\": null, \"b_bsp_new_bikes\": null, \"b_bike_new_secured_lockers\": null, \"b_bike_new_racks\": null, \"b_bsp_new_station\": null, \"b_other_bike_improv_1\": null, \"b_other_bike_improv_qty_1\": null, \"b_other_bike_improv_2\": null, \"b_other_bike_improv_qty_2\": null, \"b_light_rdwy_seg\": null, \"b_sig_inter_timing_improv\": null, \"b_un_sig_new_rrfb_signal\": null, \"b_un_sig_cross_surf_improv\": null, \"a4_easement_support\": null, \"m_cls_1_trails_widen_recon_exist\": null, \"m_cls_1_trails_new__less_than_9\": 833.0, \"m_cls_1_trails_new_over_9\": 4038.0, \"m_non_cls_trails_new\": null, \"m_other_trail_imprv_1\": null, \"m_other_trail_improv_qty_1\": null, \"m_other_trail_imprv_2\": null, \"m_other_trail_improv_qty_2\": null, \"m_non_cls_widen_recon_exist\": null, \"p_amenities_bench\": null, \"a4_ped_gap_pct\": 90.0, \"p_mid_block_cross_new_rrfb_signal\": 1.0, \"p_light_intersection\": null, \"p_lighting_rdwy_seg\": 3406.0, \"p_mid_block_cross_surf_improv\": 1.0, \"p_new_ada_ramp\": 12.0, \"p_sidewlks_new_barrier_protect\": null, \"p_sidewlks_new_4_to_8\": 4334.0, \"p_sidewlks_new_over_8\": null, \"p_other_ped_imprv_1\": null, \"p_other_ped_qty_1\": null, \"p_other_ped_imprv_2\": null, \"p_other_ped_qty_2\": null, \"p_reconstruct_ramp_to_ada_stand\": 13.0, \"p_sidewlks_reconstruct_enhance_exist\": 447.0, \"p_sig_inter_enhance_exist_crosswlk\": 4.0, \"p_sig_inter_new_crosswlk\": null, \"p_sig_inter_ped_heads\": null, \"p_sig_inter_shorten_cross\": null, \"p_sig_inter_timing_improv\": null, \"p_amenities_trash_can\": null, \"p_amenities_shade_tree\": null, \"p_amenities_shade_tree_type\": null, \"p_un_sig_inter_new_traff_sig\": null, \"p_un_sig_inter_new_roundabout\": null, \"p_un_sig_inter_new_rrfb_sig\": 1.0, \"p_un_sig_inter_shorten_cross\": null, \"p_un_sig_inter_cross_surface_improv\": 1.0, \"p_sidewlks_widen_existing\": 1262.0, \"a4_row_100\": null, \"a4_row_gov_ease\": null, \"a4_row_private_ease\": null, \"v_other_traffic_calming_imprv_1\": null, \"v_speed_feedback_signs\": null, \"v_other_traffic_calming_qty_1\": null, \"v_other_traffic_calming_imprv_2\": null, \"v_other_traffic_calming_qty_2\": null, \"v_remove_right_turn_pocket\": null, \"v_remove_travel_ln\": 2250.0, \"v_sig_inter_new_roundabout\": 1.0, \"v_sig_inter_timing_improv\": null, \"v_un_sig_inter_new_traf_sig\": null, \"v_un_sig_inter_new_roundabout\": null, \"app_fk\": null, \"details_datetime_stamp\": \"\", \"a4_reg_init\": \"N\", \"a4_reg_init_pct\": 0, \"a4_com_init\": \"Y\", \"a4_com_init_pct\": 25, \"a4_safe_route\": \"Y\", \"a4_safe_route_pct\": 75, \"a4_fl_mile\": \"N\", \"a4_fl_mile_pct\": 0, \"a4_emp_based\": null, \"a4_emp_based_pct\": 0.0, \"a4_other_ni\": \"N\", \"a4_other_ni_descr\": null, \"a4_other_ni_pct\": 0, \"a4_wb_audits\": 1.0, \"a4_bike_classes\": 0.0, \"a4_ped_classes\": 0.0, \"a4_demo_events\": 0.0, \"a4_com_enc\": 1.0, \"a4_le_methods\": 0.0, \"a4_com_meetings\": 4.0, \"a4_classrooms\": 1.0, \"a4_school_assem\": 0.0, \"a4_after_school\": 0.0, \"a4_bike_rodeos\": 0.0, \"a4_mock_cities\": 1.0, \"a4_walk_bus\": 0.0, \"a4_bike_train\": 0.0, \"a4_com_challenges\": 1.0, \"a4_srts_enc\": 4.0, \"a4_srts_le\": 0.0, \"a4_srts_training\": 0.0, \"a4_act_other_1\": 0.0, \"a4_act_other_1_descr\": null, \"a4_act_other_2\": 0.0, \"a4_act_other_2_decr\": null, \"a4_comm_trad_media\": \"Y\", \"a4_comm_large_media\": \"N\", \"a4_comm_print\": \"Y\", \"a4_comm_social\": \"Y\", \"a4_comm_web\": \"Y\", \"a4_comm_other\": \"N\", \"a4_comm_other_descr\": null, \"a4_comm_language\": null, \"a4_collab_pub_health\": \"Y\", \"a4_collab_le\": \"Y\", \"a4_collab_non_profit\": \"Y\", \"a4_collab_schools\": \"Y\", \"a4_collab_pub_works\": \"Y\", \"a4_collab_other\": \"Y\", \"a4_colab_other_descr\": \"Neighborhood groups, City of Redding Parks and Rec Dept\", \"a4_plan_ped\": \"N\", \"a4_plan_bike\": \"N\", \"a4_plan_atp\": \"N\", \"a4_plan_school_routes\": \"N\", \"a4_row_open_street_demo\": \"No\", \"atp_id_x\": \"ATP5-02-013R\", \"a3_proj_type_x\": \"Infrastructure + NI - Large\", \"agency_fully_own_r_w\": null, \"require_r_w_easement,_from_gov\": null, \"_require_rw_easement_from_private\": \"X\", \"atp_id_y\": \"ATP5-2-013R\", \"ppno1\": null, \"oversight_id\": \"Standard\", \"a3_proj_type_y\": \"Combined (IF and NI)\", \"Total Project Cost\": 10409000.0, \"original_prog__amt___pa_ed_\": 1352000.0, \"orig__prog__year__pa_ed_\": \"21/22\", \"original_prog__amt___ps_e_\": 338000.0, \"orig__prog__year__ps_e_\": \"22/23\", \"original_prog__amt___rw_\": 402000.0, \"orig__prog__year__rw_\": \"22/23\", \"orignal_prog__amt___con_\": 5643000.0, \"orig__prog__year__con_\": \"24/25\", \"original_prog__amt___con_ni_\": 87000.0, \"orig__prog__year__con_ni_\": \"24/25\", \"total\": 7822000.0, \"_2122_pa_ed\": 1352000.0, \"_2122_ps_e\": null, \"_2122_rw\": null, \"_2122_con\": null, \"_2122_con_ni\": null, \"_2122_total\": 1352000.0, \"fund_year_1\": \"21/22\", \"_2223_pa_ed\": null, \"_2223_ps_e\": 338000.0, \"_2223_rw\": 402000.0, \"_2223_con\": null, \"_2223_con_ni\": null, \"_2223_total\": 740000.0, \"fund_year_2\": \"22/23\", \"_2324_pa_ed\": null, \"_2324_ps_e\": null, \"_2324_rw\": null, \"_2324_con\": null, \"_2324_con_ni\": null, \"_2324_total\": 0.0, \"fund_year_3\": \"23/24\", \"_2425_pa_ed\": null, \"_2425_ps_e\": null, \"_2425_rw\": null, \"_2425_con\": 5643000.0, \"_2425_con_ni\": 87000.0, \"_2425_total\": 5730000.0, \"fund_year_4\": \"24/25\", \"Total ATP Funds\": 7822000.0, \"match_total_atp_$_and_total\": \"YES\", \"match_total_atp_$_and_total_atp_x_1000\": \"YES\", \"paed\": 1352.0, \"ps_e_\": 338.0, \"rw\": 402.0, \"con\": 5643.0, \"con_ni\": 87.0, \"total_atp__000s_\": 7822.0, \"total_atp_x_1000\": 7822000.0, \"year__pa_ed_\": \"21/22\", \"year__ps_e_\": \"22/23\", \"year__rw_\": \"22/23\", \"year__con_\": \"24/25\", \"year__con_ni_\": \"24/25\", \"Implemeting Agency Name\": \"City of Redding\"}]}}, {\"mode\": \"vega-lite\"});\n",
       "</script>"
      ],
      "text/plain": [
       "alt.Chart(...)"
      ]
     },
     "metadata": {},
     "output_type": "display_data"
    },
    {
     "data": {
      "text/html": [
       "<h4>Funded Project Information</h4>"
      ],
      "text/plain": [
       "<IPython.core.display.HTML object>"
      ]
     },
     "metadata": {},
     "output_type": "display_data"
    },
    {
     "data": {
      "text/html": [
       "<style type=\"text/css\">\n",
       "#T_73f6a_ th {\n",
       "  text-align: center;\n",
       "}\n",
       "#T_73f6a_row0_col0, #T_73f6a_row0_col1, #T_73f6a_row0_col2, #T_73f6a_row0_col3, #T_73f6a_row0_col4, #T_73f6a_row1_col0, #T_73f6a_row1_col1, #T_73f6a_row1_col2, #T_73f6a_row1_col3, #T_73f6a_row1_col4, #T_73f6a_row2_col0, #T_73f6a_row2_col1, #T_73f6a_row2_col2, #T_73f6a_row2_col3, #T_73f6a_row2_col4, #T_73f6a_row3_col0, #T_73f6a_row3_col1, #T_73f6a_row3_col2, #T_73f6a_row3_col3, #T_73f6a_row3_col4, #T_73f6a_row4_col0, #T_73f6a_row4_col1, #T_73f6a_row4_col2, #T_73f6a_row4_col3, #T_73f6a_row4_col4 {\n",
       "  text-align: center;\n",
       "}\n",
       "</style>\n",
       "<table id=\"T_73f6a_\">\n",
       "  <thead>\n",
       "    <tr>\n",
       "      <th class=\"col_heading level0 col0\" >Implemeting Agency Name</th>\n",
       "      <th class=\"col_heading level0 col1\" >Project Name</th>\n",
       "      <th class=\"col_heading level0 col2\" >County</th>\n",
       "      <th class=\"col_heading level0 col3\" >Total Atp Funds</th>\n",
       "      <th class=\"col_heading level0 col4\" >Total Project Cost</th>\n",
       "    </tr>\n",
       "  </thead>\n",
       "  <tbody>\n",
       "    <tr>\n",
       "      <td id=\"T_73f6a_row0_col0\" class=\"data row0 col0\" >Karuk Tribe</td>\n",
       "      <td id=\"T_73f6a_row0_col1\" class=\"data row0 col1\" >Happy Camp Complete Streets Project</td>\n",
       "      <td id=\"T_73f6a_row0_col2\" class=\"data row0 col2\" >Siskiyou</td>\n",
       "      <td id=\"T_73f6a_row0_col3\" class=\"data row0 col3\" >$ 9,971,000.00</td>\n",
       "      <td id=\"T_73f6a_row0_col4\" class=\"data row0 col4\" >$ 12,221,000.00</td>\n",
       "    </tr>\n",
       "    <tr>\n",
       "      <td id=\"T_73f6a_row1_col0\" class=\"data row1 col0\" >City of Redding</td>\n",
       "      <td id=\"T_73f6a_row1_col1\" class=\"data row1 col1\" >Turtle Bay to Downtown Gap Completion Project</td>\n",
       "      <td id=\"T_73f6a_row1_col2\" class=\"data row1 col2\" >Shasta</td>\n",
       "      <td id=\"T_73f6a_row1_col3\" class=\"data row1 col3\" >$ 2,665,000.00</td>\n",
       "      <td id=\"T_73f6a_row1_col4\" class=\"data row1 col4\" >$ 3,935,000.00</td>\n",
       "    </tr>\n",
       "    <tr>\n",
       "      <td id=\"T_73f6a_row2_col0\" class=\"data row2 col0\" >Shasta County</td>\n",
       "      <td id=\"T_73f6a_row2_col1\" class=\"data row2 col1\" >Cottonwood Active Transportation Trunk Line Express (CATTLE) Network</td>\n",
       "      <td id=\"T_73f6a_row2_col2\" class=\"data row2 col2\" >Shasta</td>\n",
       "      <td id=\"T_73f6a_row2_col3\" class=\"data row2 col3\" >$ 7,056,000.00</td>\n",
       "      <td id=\"T_73f6a_row2_col4\" class=\"data row2 col4\" >$ 17,844,000.00</td>\n",
       "    </tr>\n",
       "    <tr>\n",
       "      <td id=\"T_73f6a_row3_col0\" class=\"data row3 col0\" >Siskiyou County Transportation Commission</td>\n",
       "      <td id=\"T_73f6a_row3_col1\" class=\"data row3 col1\" >Siskiyou- Regional Active Transportation Plan</td>\n",
       "      <td id=\"T_73f6a_row3_col2\" class=\"data row3 col2\" >Siskiyou</td>\n",
       "      <td id=\"T_73f6a_row3_col3\" class=\"data row3 col3\" >$ 202,000.00</td>\n",
       "      <td id=\"T_73f6a_row3_col4\" class=\"data row3 col4\" >$ 212,000.00</td>\n",
       "    </tr>\n",
       "    <tr>\n",
       "      <td id=\"T_73f6a_row4_col0\" class=\"data row4 col0\" >City of Redding</td>\n",
       "      <td id=\"T_73f6a_row4_col1\" class=\"data row4 col1\" >Victor Ave & Cypress Ave Active Transportation (VCAT) Project</td>\n",
       "      <td id=\"T_73f6a_row4_col2\" class=\"data row4 col2\" >Shasta</td>\n",
       "      <td id=\"T_73f6a_row4_col3\" class=\"data row4 col3\" >$ 7,822,000.00</td>\n",
       "      <td id=\"T_73f6a_row4_col4\" class=\"data row4 col4\" >$ 10,409,000.00</td>\n",
       "    </tr>\n",
       "  </tbody>\n",
       "</table>\n"
      ],
      "text/plain": [
       "<IPython.core.display.HTML object>"
      ]
     },
     "metadata": {},
     "output_type": "display_data"
    },
    {
     "data": {
      "text/html": [
       "</br><h4> Success Rates for Agencies in District 2 </h4>"
      ],
      "text/plain": [
       "<IPython.core.display.HTML object>"
      ]
     },
     "metadata": {},
     "output_type": "display_data"
    },
    {
     "data": {
      "text/html": [
       "<style type=\"text/css\">\n",
       "#T_c1923_ th {\n",
       "  text-align: center;\n",
       "}\n",
       "#T_c1923_row0_col0, #T_c1923_row0_col1, #T_c1923_row0_col2, #T_c1923_row1_col0, #T_c1923_row1_col1, #T_c1923_row1_col2, #T_c1923_row2_col0, #T_c1923_row2_col1, #T_c1923_row2_col2, #T_c1923_row3_col0, #T_c1923_row3_col1, #T_c1923_row3_col2, #T_c1923_row4_col0, #T_c1923_row4_col1, #T_c1923_row4_col2, #T_c1923_row5_col0, #T_c1923_row5_col1, #T_c1923_row5_col2, #T_c1923_row6_col0, #T_c1923_row6_col1, #T_c1923_row6_col2, #T_c1923_row7_col0, #T_c1923_row7_col1, #T_c1923_row7_col2 {\n",
       "  text-align: center;\n",
       "}\n",
       "</style>\n",
       "<table id=\"T_c1923_\">\n",
       "  <thead>\n",
       "    <tr>\n",
       "      <th class=\"col_heading level0 col0\" >Implemeting Agency Name</th>\n",
       "      <th class=\"col_heading level0 col1\" >Total Applications</th>\n",
       "      <th class=\"col_heading level0 col2\" >Success Rate</th>\n",
       "    </tr>\n",
       "  </thead>\n",
       "  <tbody>\n",
       "    <tr>\n",
       "      <td id=\"T_c1923_row0_col0\" class=\"data row0 col0\" >City of Redding</td>\n",
       "      <td id=\"T_c1923_row0_col1\" class=\"data row0 col1\" >3</td>\n",
       "      <td id=\"T_c1923_row0_col2\" class=\"data row0 col2\" >66.67%</td>\n",
       "    </tr>\n",
       "    <tr>\n",
       "      <td id=\"T_c1923_row1_col0\" class=\"data row1 col0\" >Karuk Tribe</td>\n",
       "      <td id=\"T_c1923_row1_col1\" class=\"data row1 col1\" >1</td>\n",
       "      <td id=\"T_c1923_row1_col2\" class=\"data row1 col2\" >100.00%</td>\n",
       "    </tr>\n",
       "    <tr>\n",
       "      <td id=\"T_c1923_row2_col0\" class=\"data row2 col0\" >Shasta County</td>\n",
       "      <td id=\"T_c1923_row2_col1\" class=\"data row2 col1\" >3</td>\n",
       "      <td id=\"T_c1923_row2_col2\" class=\"data row2 col2\" >33.33%</td>\n",
       "    </tr>\n",
       "    <tr>\n",
       "      <td id=\"T_c1923_row3_col0\" class=\"data row3 col0\" >Siskiyou County Transportation Commission</td>\n",
       "      <td id=\"T_c1923_row3_col1\" class=\"data row3 col1\" >1</td>\n",
       "      <td id=\"T_c1923_row3_col2\" class=\"data row3 col2\" >100.00%</td>\n",
       "    </tr>\n",
       "    <tr>\n",
       "      <td id=\"T_c1923_row4_col0\" class=\"data row4 col0\" >City of Shasta Lake</td>\n",
       "      <td id=\"T_c1923_row4_col1\" class=\"data row4 col1\" >1</td>\n",
       "      <td id=\"T_c1923_row4_col2\" class=\"data row4 col2\" >0.00%</td>\n",
       "    </tr>\n",
       "    <tr>\n",
       "      <td id=\"T_c1923_row5_col0\" class=\"data row5 col0\" >Department of Transportation</td>\n",
       "      <td id=\"T_c1923_row5_col1\" class=\"data row5 col1\" >1</td>\n",
       "      <td id=\"T_c1923_row5_col2\" class=\"data row5 col2\" >0.00%</td>\n",
       "    </tr>\n",
       "    <tr>\n",
       "      <td id=\"T_c1923_row6_col0\" class=\"data row6 col0\" >Modoc County</td>\n",
       "      <td id=\"T_c1923_row6_col1\" class=\"data row6 col1\" >1</td>\n",
       "      <td id=\"T_c1923_row6_col2\" class=\"data row6 col2\" >0.00%</td>\n",
       "    </tr>\n",
       "    <tr>\n",
       "      <td id=\"T_c1923_row7_col0\" class=\"data row7 col0\" >Shasta County RTPA</td>\n",
       "      <td id=\"T_c1923_row7_col1\" class=\"data row7 col1\" >1</td>\n",
       "      <td id=\"T_c1923_row7_col2\" class=\"data row7 col2\" >0.00%</td>\n",
       "    </tr>\n",
       "  </tbody>\n",
       "</table>\n"
      ],
      "text/plain": [
       "<IPython.core.display.HTML object>"
      ]
     },
     "metadata": {},
     "output_type": "display_data"
    }
   ],
   "source": [
    "_report_utils.map_dist_proj(funded, df, 2)"
   ]
  },
  {
   "cell_type": "code",
   "execution_count": null,
   "id": "5028d647-1504-4b99-93ba-58eaa2bdb4fe",
   "metadata": {},
   "outputs": [],
   "source": []
  },
  {
   "cell_type": "markdown",
   "id": "4454f080-bb79-4de3-a27c-214b5eaf46b6",
   "metadata": {},
   "source": [
    "### District 3 - Marysville"
   ]
  },
  {
   "cell_type": "code",
   "execution_count": 37,
   "id": "bba61a14-6ae9-424d-a4b7-90601efa7786",
   "metadata": {},
   "outputs": [
    {
     "data": {
      "text/html": [
       "\n",
       "<div id=\"altair-viz-144b40c36e174c3293530c11614b1d55\"></div>\n",
       "<script type=\"text/javascript\">\n",
       "  var VEGA_DEBUG = (typeof VEGA_DEBUG == \"undefined\") ? {} : VEGA_DEBUG;\n",
       "  (function(spec, embedOpt){\n",
       "    let outputDiv = document.currentScript.previousElementSibling;\n",
       "    if (outputDiv.id !== \"altair-viz-144b40c36e174c3293530c11614b1d55\") {\n",
       "      outputDiv = document.getElementById(\"altair-viz-144b40c36e174c3293530c11614b1d55\");\n",
       "    }\n",
       "    const paths = {\n",
       "      \"vega\": \"https://cdn.jsdelivr.net/npm//vega@5?noext\",\n",
       "      \"vega-lib\": \"https://cdn.jsdelivr.net/npm//vega-lib?noext\",\n",
       "      \"vega-lite\": \"https://cdn.jsdelivr.net/npm//vega-lite@4.17.0?noext\",\n",
       "      \"vega-embed\": \"https://cdn.jsdelivr.net/npm//vega-embed@6?noext\",\n",
       "    };\n",
       "\n",
       "    function maybeLoadScript(lib, version) {\n",
       "      var key = `${lib.replace(\"-\", \"\")}_version`;\n",
       "      return (VEGA_DEBUG[key] == version) ?\n",
       "        Promise.resolve(paths[lib]) :\n",
       "        new Promise(function(resolve, reject) {\n",
       "          var s = document.createElement('script');\n",
       "          document.getElementsByTagName(\"head\")[0].appendChild(s);\n",
       "          s.async = true;\n",
       "          s.onload = () => {\n",
       "            VEGA_DEBUG[key] = version;\n",
       "            return resolve(paths[lib]);\n",
       "          };\n",
       "          s.onerror = () => reject(`Error loading script: ${paths[lib]}`);\n",
       "          s.src = paths[lib];\n",
       "        });\n",
       "    }\n",
       "\n",
       "    function showError(err) {\n",
       "      outputDiv.innerHTML = `<div class=\"error\" style=\"color:red;\">${err}</div>`;\n",
       "      throw err;\n",
       "    }\n",
       "\n",
       "    function displayChart(vegaEmbed) {\n",
       "      vegaEmbed(outputDiv, spec, embedOpt)\n",
       "        .catch(err => showError(`Javascript Error: ${err.message}<br>This usually means there's a typo in your chart specification. See the javascript console for the full traceback.`));\n",
       "    }\n",
       "\n",
       "    if(typeof define === \"function\" && define.amd) {\n",
       "      requirejs.config({paths});\n",
       "      require([\"vega-embed\"], displayChart, err => showError(`Error loading script: ${err.message}`));\n",
       "    } else {\n",
       "      maybeLoadScript(\"vega\", \"5\")\n",
       "        .then(() => maybeLoadScript(\"vega-lite\", \"4.17.0\"))\n",
       "        .then(() => maybeLoadScript(\"vega-embed\", \"6\"))\n",
       "        .catch(showError)\n",
       "        .then(() => displayChart(vegaEmbed));\n",
       "    }\n",
       "  })({\"config\": {\"view\": {\"continuousWidth\": 400, \"continuousHeight\": 300}}, \"data\": {\"name\": \"data-c1d9d1d06594930d3e7b960051e7b3cb\"}, \"mark\": \"bar\", \"encoding\": {\"color\": {\"field\": \"Project Name\", \"legend\": null, \"scale\": {\"range\": [\"#E16B26\", \"#EB9F3C\", \"#f6e7e1\", \"#8CBCCB\", \"#2EA8CE\", \"#136C97\"]}, \"type\": \"nominal\"}, \"tooltip\": [{\"field\": \"Project Name\", \"type\": \"nominal\"}, {\"field\": \"Total ATP Funds\", \"type\": \"quantitative\"}], \"x\": {\"field\": \"Total ATP Funds\", \"type\": \"quantitative\"}, \"y\": {\"field\": \"Implemeting Agency Name\", \"type\": \"nominal\"}}, \"title\": \"Total ATP Funds by Project\", \"$schema\": \"https://vega.github.io/schema/vega-lite/v4.17.0.json\", \"datasets\": {\"data-c1d9d1d06594930d3e7b960051e7b3cb\": [{\"Project ID\": \"3-El Dorado County-3\", \"project_cycle\": 5, \"a1_locode\": 5925.0, \"#\": null, \"atp_id\": null, \"awarded\": \"Y\", \"ppno\": 1228, \"ppno_1\": null, \"data_origin\": \"Funded\", \"geometry\": null, \"project_status\": \"Active\", \"solicitation_abv\": \"S\", \"solicitation\": \"STATEWIDE SOLICITATION-CYCLE 5\", \"soliciting_agency\": \"CALTRANS\", \"project_size\": \"Small\", \"a1_imp_agcy_city\": \"Placerville\", \"a1_imp_agcy_name\": \"El Dorado County\", \"a1_proj_partner_agcy\": null, \"a1_proj_partner_exists\": \"No \", \"assembly_district\": 5, \"congressional_district\": 4, \"senate_district\": 1, \"County\": \"El Dorado\", \"a2_ct_dist\": 3, \"a2_info_proj_descr\": \"1.7 miles of class II bike lanes on both sides of Pony Express Trail, 4650 lineal feet of new or reconstructed pedestrian paths, improved ADA compliance, crosswalks with beacons\", \"a2_info_proj_loc\": \"Pony Express Trail in Pollock Pines, California from Sanders Drive to the Pony Express Station shopping center approximately 150 lineal feet to the east of Sly Park Road.\", \"Project Name\": \"Pollock Pines - Pony Express Trail Bicycle and Pedestrian Improvements\", \"a2_mop_uza_population\": \"Project is located within one of the ten large MPOs\", \"a2_mpo\": \"SACOG\", \"a2_rtpa\": \"EDCTC\", \"a2_proj_scope_summary\": \"- Existing conditions include Pony Express Trail roadway with minimal shoulders for safe bike and pedestrian access on either side of the road.  An existing pedestrian path on the South side of the roadway is constructed of asphalt or dirt between 2' and \", \"a1_imp_agcy_fed_ma_num\": \"03-5925F15\", \"a1_imp_agcy_ma\": \"Yes\", \"a1_imp_agcy_state_ma_num\": \"00314S\", \"a1_imp_agcy_street\": \"2850 Fairlane Court\", \"a1_imp_agcy_title\": \"Senior Planner\", \"a1_imp_agcy_zip\": 95667, \"a1_letter_of_intent\": null, \"a1_proj_partner_title\": null, \"a2_assem_dist_a\": 5.0, \"a2_assem_dist_b\": null, \"a2_assem_dist_c\": null, \"a2_congress_dist_a\": 4.0, \"a2_congress_dist_b\": null, \"a2_congress_dist_c\": null, \"a2_past_proj\": \"No                            \", \"a2_past_proj_qty\": 0, \"a2_proj_lat\": 38.762852, \"a2_proj_long\": -120.580008, \"a2_project_location_map\": null, \"a2_senate_dist_a\": 1.0, \"a2_senate_dist_b\": null, \"a2_senatedistc\": null, \"a3_plan_active_trans\": null, \"a3_plan_active_trans_exists\": \"Yes\", \"a3_plan_bicycle\": null, \"a3_plan_bicycle_exists\": \"No \", \"a3_plan_ped\": null, \"a3_plan_ped_exists\": \"No \", \"a3_plan_srts\": null, \"a3_plan_srts_exists\": \"No \", \"a3_proj_type\": null, \"a3_st_bicycle_applies\": \"Yes\", \"a3_st_bicycle_pct\": 30.0, \"a3_st_num_schools\": 1, \"a3_st_ped_applies\": \"Yes\", \"a3_st_ped_pct\": 70, \"a3_st_srts\": \"No \", \"a3_trail_elig_cost\": 0.0, \"a3_trail_fed_funding\": null, \"a3_trail_trans_pct\": null, \"a3_trails\": null, \"agency_app_num\": null, \"app_pk\": null, \"attch_addtl_attachments\": null, \"attch_app_sig_page\": null, \"attch_conditions_photos\": null, \"attch_conditions_project_map\": null, \"attch_engineeers_checklist\": null, \"attch_exhibit22_plan\": null, \"attch_letters_of_support\": null, \"attch_link\": null, \"attch_ni_workplan\": null, \"attch_project_estimate\": null, \"completed_pdf_form\": null, \"main_datetime_stamp\": \"\", \"a3_plan_none\": \"0\", \"a3_plan_other\": \"0\", \"a3_plan_other_desc\": null, \"a2_output_outcome\": \"1.7 miles of class II bike lanes on both sides of Pony Express Trail will provide safer travel for bicycles.\\rImproved pedestrian walkways will increase safe access and ADA compliance.\\rSafer crosswalks add traffic calming.\", \"a3_current_plan\": \"Yes\", \"b_sig_inter_new_bike_boxes\": null, \"b_class_1\": null, \"b_class_2\": 9000.0, \"b_class_3\": null, \"b_class_4\": null, \"a4_bike_gap_pct\": null, \"b_light_intersection\": null, \"b_mid_block_new_rrfb_signal\": null, \"b_mid_block_surf_improv\": null, \"b_bsp_new_bikes\": null, \"b_bike_new_secured_lockers\": null, \"b_bike_new_racks\": null, \"b_bsp_new_station\": null, \"b_other_bike_improv_1\": null, \"b_other_bike_improv_qty_1\": null, \"b_other_bike_improv_2\": null, \"b_other_bike_improv_qty_2\": null, \"b_light_rdwy_seg\": null, \"b_sig_inter_timing_improv\": null, \"b_un_sig_new_rrfb_signal\": null, \"b_un_sig_cross_surf_improv\": null, \"a4_easement_support\": null, \"m_cls_1_trails_widen_recon_exist\": null, \"m_cls_1_trails_new__less_than_9\": null, \"m_cls_1_trails_new_over_9\": null, \"m_non_cls_trails_new\": null, \"m_other_trail_imprv_1\": null, \"m_other_trail_improv_qty_1\": null, \"m_other_trail_imprv_2\": null, \"m_other_trail_improv_qty_2\": null, \"m_non_cls_widen_recon_exist\": null, \"p_amenities_bench\": null, \"a4_ped_gap_pct\": null, \"p_mid_block_cross_new_rrfb_signal\": 8.0, \"p_light_intersection\": null, \"p_lighting_rdwy_seg\": null, \"p_mid_block_cross_surf_improv\": 4.0, \"p_new_ada_ramp\": 28.0, \"p_sidewlks_new_barrier_protect\": null, \"p_sidewlks_new_4_to_8\": 150.0, \"p_sidewlks_new_over_8\": null, \"p_other_ped_imprv_1\": \"New Side Street Crosswalks\", \"p_other_ped_qty_1\": 5.0, \"p_other_ped_imprv_2\": null, \"p_other_ped_qty_2\": null, \"p_reconstruct_ramp_to_ada_stand\": null, \"p_sidewlks_reconstruct_enhance_exist\": 500.0, \"p_sig_inter_enhance_exist_crosswlk\": null, \"p_sig_inter_new_crosswlk\": null, \"p_sig_inter_ped_heads\": null, \"p_sig_inter_shorten_cross\": null, \"p_sig_inter_timing_improv\": null, \"p_amenities_trash_can\": null, \"p_amenities_shade_tree\": null, \"p_amenities_shade_tree_type\": null, \"p_un_sig_inter_new_traff_sig\": null, \"p_un_sig_inter_new_roundabout\": null, \"p_un_sig_inter_new_rrfb_sig\": 2.0, \"p_un_sig_inter_shorten_cross\": null, \"p_un_sig_inter_cross_surface_improv\": 2.0, \"p_sidewlks_widen_existing\": 4000.0, \"a4_row_100\": null, \"a4_row_gov_ease\": null, \"a4_row_private_ease\": null, \"v_other_traffic_calming_imprv_1\": \"Narrow Lanes to 11' w/ 5' Class 2 \", \"v_speed_feedback_signs\": null, \"v_other_traffic_calming_qty_1\": 2.0, \"v_other_traffic_calming_imprv_2\": null, \"v_other_traffic_calming_qty_2\": null, \"v_remove_right_turn_pocket\": null, \"v_remove_travel_ln\": null, \"v_sig_inter_new_roundabout\": null, \"v_sig_inter_timing_improv\": null, \"v_un_sig_inter_new_traf_sig\": null, \"v_un_sig_inter_new_roundabout\": null, \"app_fk\": null, \"details_datetime_stamp\": \"\", \"a4_reg_init\": \"N\", \"a4_reg_init_pct\": 0, \"a4_com_init\": \"N\", \"a4_com_init_pct\": 0, \"a4_safe_route\": \"N\", \"a4_safe_route_pct\": 0, \"a4_fl_mile\": \"N\", \"a4_fl_mile_pct\": 0, \"a4_emp_based\": null, \"a4_emp_based_pct\": 0.0, \"a4_other_ni\": \"N\", \"a4_other_ni_descr\": null, \"a4_other_ni_pct\": 0, \"a4_wb_audits\": 0.0, \"a4_bike_classes\": 0.0, \"a4_ped_classes\": 0.0, \"a4_demo_events\": 0.0, \"a4_com_enc\": 0.0, \"a4_le_methods\": 0.0, \"a4_com_meetings\": 0.0, \"a4_classrooms\": 0.0, \"a4_school_assem\": 0.0, \"a4_after_school\": 0.0, \"a4_bike_rodeos\": 0.0, \"a4_mock_cities\": 0.0, \"a4_walk_bus\": 0.0, \"a4_bike_train\": 0.0, \"a4_com_challenges\": 0.0, \"a4_srts_enc\": 0.0, \"a4_srts_le\": 0.0, \"a4_srts_training\": 0.0, \"a4_act_other_1\": 0.0, \"a4_act_other_1_descr\": null, \"a4_act_other_2\": 0.0, \"a4_act_other_2_decr\": null, \"a4_comm_trad_media\": \"N\", \"a4_comm_large_media\": \"N\", \"a4_comm_print\": \"N\", \"a4_comm_social\": \"N\", \"a4_comm_web\": \"N\", \"a4_comm_other\": \"N\", \"a4_comm_other_descr\": null, \"a4_comm_language\": null, \"a4_collab_pub_health\": \"N\", \"a4_collab_le\": \"N\", \"a4_collab_non_profit\": \"N\", \"a4_collab_schools\": \"N\", \"a4_collab_pub_works\": \"N\", \"a4_collab_other\": \"N\", \"a4_colab_other_descr\": null, \"a4_plan_ped\": \"N\", \"a4_plan_bike\": \"N\", \"a4_plan_atp\": \"N\", \"a4_plan_school_routes\": \"N\", \"a4_row_open_street_demo\": \"No\", \"atp_id_x\": \"ATP5-03-023S\", \"a3_proj_type_x\": \"Infrastructure - Small\", \"agency_fully_own_r_w\": null, \"require_r_w_easement,_from_gov\": null, \"_require_rw_easement_from_private\": \"X\", \"atp_id_y\": \"ATP5-3-023S\", \"ppno1\": null, \"oversight_id\": \"Standard\", \"a3_proj_type_y\": \"Infrastructure\", \"Total Project Cost\": 2000000.0, \"original_prog__amt___pa_ed_\": null, \"orig__prog__year__pa_ed_\": null, \"original_prog__amt___ps_e_\": null, \"orig__prog__year__ps_e_\": null, \"original_prog__amt___rw_\": null, \"orig__prog__year__rw_\": null, \"orignal_prog__amt___con_\": 1440000.0, \"orig__prog__year__con_\": \"21/22\", \"original_prog__amt___con_ni_\": null, \"orig__prog__year__con_ni_\": null, \"total\": 1440000.0, \"_2122_pa_ed\": null, \"_2122_ps_e\": null, \"_2122_rw\": null, \"_2122_con\": 1440000.0, \"_2122_con_ni\": null, \"_2122_total\": 1440000.0, \"fund_year_1\": \"21/22\", \"_2223_pa_ed\": null, \"_2223_ps_e\": null, \"_2223_rw\": null, \"_2223_con\": null, \"_2223_con_ni\": null, \"_2223_total\": 0.0, \"fund_year_2\": \"22/23\", \"_2324_pa_ed\": null, \"_2324_ps_e\": null, \"_2324_rw\": null, \"_2324_con\": null, \"_2324_con_ni\": null, \"_2324_total\": 0.0, \"fund_year_3\": \"23/24\", \"_2425_pa_ed\": null, \"_2425_ps_e\": null, \"_2425_rw\": null, \"_2425_con\": null, \"_2425_con_ni\": null, \"_2425_total\": 0.0, \"fund_year_4\": \"24/25\", \"Total ATP Funds\": 1440000.0, \"match_total_atp_$_and_total\": \"YES\", \"match_total_atp_$_and_total_atp_x_1000\": \"YES\", \"paed\": 0.0, \"ps_e_\": 0.0, \"rw\": 0.0, \"con\": 1440.0, \"con_ni\": 0.0, \"total_atp__000s_\": 1440.0, \"total_atp_x_1000\": 1440000.0, \"year__pa_ed_\": null, \"year__ps_e_\": null, \"year__rw_\": null, \"year__con_\": \"21/22\", \"year__con_ni_\": null, \"Implemeting Agency Name\": \"El Dorado County\"}, {\"Project ID\": \"3-Sacramento County-2\", \"project_cycle\": 5, \"a1_locode\": 5924.0, \"#\": null, \"atp_id\": null, \"awarded\": \"Y\", \"ppno\": 2214, \"ppno_1\": null, \"data_origin\": \"Funded\", \"geometry\": null, \"project_status\": \"Active\", \"solicitation_abv\": \"S\", \"solicitation\": \"STATEWIDE SOLICITATION-CYCLE 5\", \"soliciting_agency\": \"CALTRANS\", \"project_size\": \"Small\", \"a1_imp_agcy_city\": \"Sacramento\", \"a1_imp_agcy_name\": \"Sacramento County\", \"a1_proj_partner_agcy\": null, \"a1_proj_partner_exists\": \"No \", \"assembly_district\": 7, \"congressional_district\": 6, \"senate_district\": 6, \"County\": \"Sacramento\", \"a2_ct_dist\": 3, \"a2_info_proj_descr\": \"Construct 12 curb extensions, 26 crosswalks, 33 curb ramps, 1 hardened median, 1 expanded transit stop, 255 feet widened sidewalk, 2 speed humps, bike/ped education programming.\", \"a2_info_proj_loc\": \"The projects are located in unincorporated South Sacramento County, surrounding Ethel Baker ES, Nicholas ES, and Pacific ES. Programming implemented at 3 schools in S. Sacramento.\", \"Project Name\": \"South Sacramento County Safe Routes to School Project \", \"a2_mop_uza_population\": \"Project is located within one of the ten large MPOs\", \"a2_mpo\": \"SACOG\", \"a2_rtpa\": \"None\", \"a2_proj_scope_summary\": \"The South Sacramento County Safe Routes to School Project addresses safety concerns by proposing traffic calming and accessibility improvements around three elementary schools in unincorporated South Sacramento County including Ethel Baker Elementary, Nic\", \"a1_imp_agcy_fed_ma_num\": \"035924f15\", \"a1_imp_agcy_ma\": \"Yes\", \"a1_imp_agcy_state_ma_num\": \"00090s\", \"a1_imp_agcy_street\": \"4111 Branch Center Road \", \"a1_imp_agcy_title\": \"Principal Civil Engineer\", \"a1_imp_agcy_zip\": 95827, \"a1_letter_of_intent\": null, \"a1_proj_partner_title\": null, \"a2_assem_dist_a\": 7.0, \"a2_assem_dist_b\": null, \"a2_assem_dist_c\": null, \"a2_congress_dist_a\": 6.0, \"a2_congress_dist_b\": null, \"a2_congress_dist_c\": null, \"a2_past_proj\": \"Yes                           \", \"a2_past_proj_qty\": 1, \"a2_proj_lat\": 38.513528, \"a2_proj_long\": -121.458917, \"a2_project_location_map\": null, \"a2_senate_dist_a\": 6.0, \"a2_senate_dist_b\": null, \"a2_senatedistc\": null, \"a3_plan_active_trans\": null, \"a3_plan_active_trans_exists\": \"No \", \"a3_plan_bicycle\": null, \"a3_plan_bicycle_exists\": \"Yes\", \"a3_plan_ped\": null, \"a3_plan_ped_exists\": \"Yes\", \"a3_plan_srts\": null, \"a3_plan_srts_exists\": \"No \", \"a3_proj_type\": null, \"a3_st_bicycle_applies\": \"No \", \"a3_st_bicycle_pct\": 0.0, \"a3_st_num_schools\": 3, \"a3_st_ped_applies\": \"Yes\", \"a3_st_ped_pct\": 100, \"a3_st_srts\": \"Yes\", \"a3_trail_elig_cost\": 0.0, \"a3_trail_fed_funding\": null, \"a3_trail_trans_pct\": null, \"a3_trails\": null, \"agency_app_num\": null, \"app_pk\": null, \"attch_addtl_attachments\": null, \"attch_app_sig_page\": null, \"attch_conditions_photos\": null, \"attch_conditions_project_map\": null, \"attch_engineeers_checklist\": null, \"attch_exhibit22_plan\": null, \"attch_letters_of_support\": null, \"attch_link\": null, \"attch_ni_workplan\": null, \"attch_project_estimate\": null, \"completed_pdf_form\": null, \"main_datetime_stamp\": \"\", \"a3_plan_none\": \"No\", \"a3_plan_other\": \"No\", \"a3_plan_other_desc\": null, \"a2_output_outcome\": \"Construct 12 curb extensions, 26 crosswalks, 33 curb ramps, 1 hardened median, 1 expanded/upgraded transit stop, 255 feet of widened sidewalk, and 2 speed humps. Implement bicycle and pedestrian education and Safe Passage programs.\", \"a3_current_plan\": \"Yes\", \"b_sig_inter_new_bike_boxes\": null, \"b_class_1\": null, \"b_class_2\": null, \"b_class_3\": null, \"b_class_4\": null, \"a4_bike_gap_pct\": null, \"b_light_intersection\": null, \"b_mid_block_new_rrfb_signal\": null, \"b_mid_block_surf_improv\": null, \"b_bsp_new_bikes\": null, \"b_bike_new_secured_lockers\": null, \"b_bike_new_racks\": null, \"b_bsp_new_station\": null, \"b_other_bike_improv_1\": null, \"b_other_bike_improv_qty_1\": null, \"b_other_bike_improv_2\": null, \"b_other_bike_improv_qty_2\": null, \"b_light_rdwy_seg\": null, \"b_sig_inter_timing_improv\": null, \"b_un_sig_new_rrfb_signal\": null, \"b_un_sig_cross_surf_improv\": null, \"a4_easement_support\": null, \"m_cls_1_trails_widen_recon_exist\": null, \"m_cls_1_trails_new__less_than_9\": null, \"m_cls_1_trails_new_over_9\": null, \"m_non_cls_trails_new\": null, \"m_other_trail_imprv_1\": null, \"m_other_trail_improv_qty_1\": null, \"m_other_trail_imprv_2\": null, \"m_other_trail_improv_qty_2\": null, \"m_non_cls_widen_recon_exist\": null, \"p_amenities_bench\": null, \"a4_ped_gap_pct\": 90.0, \"p_mid_block_cross_new_rrfb_signal\": null, \"p_light_intersection\": null, \"p_lighting_rdwy_seg\": null, \"p_mid_block_cross_surf_improv\": null, \"p_new_ada_ramp\": 33.0, \"p_sidewlks_new_barrier_protect\": null, \"p_sidewlks_new_4_to_8\": null, \"p_sidewlks_new_over_8\": null, \"p_other_ped_imprv_1\": \"Accessible Bus Stop \", \"p_other_ped_qty_1\": 1.0, \"p_other_ped_imprv_2\": \"hard median\", \"p_other_ped_qty_2\": 1.0, \"p_reconstruct_ramp_to_ada_stand\": null, \"p_sidewlks_reconstruct_enhance_exist\": null, \"p_sig_inter_enhance_exist_crosswlk\": 1.0, \"p_sig_inter_new_crosswlk\": 25.0, \"p_sig_inter_ped_heads\": null, \"p_sig_inter_shorten_cross\": 1.0, \"p_sig_inter_timing_improv\": null, \"p_amenities_trash_can\": null, \"p_amenities_shade_tree\": null, \"p_amenities_shade_tree_type\": null, \"p_un_sig_inter_new_traff_sig\": null, \"p_un_sig_inter_new_roundabout\": null, \"p_un_sig_inter_new_rrfb_sig\": null, \"p_un_sig_inter_shorten_cross\": 12.0, \"p_un_sig_inter_cross_surface_improv\": null, \"p_sidewlks_widen_existing\": 255.0, \"a4_row_100\": null, \"a4_row_gov_ease\": null, \"a4_row_private_ease\": null, \"v_other_traffic_calming_imprv_1\": \"Speed Hump \", \"v_speed_feedback_signs\": null, \"v_other_traffic_calming_qty_1\": 2.0, \"v_other_traffic_calming_imprv_2\": null, \"v_other_traffic_calming_qty_2\": null, \"v_remove_right_turn_pocket\": null, \"v_remove_travel_ln\": null, \"v_sig_inter_new_roundabout\": null, \"v_sig_inter_timing_improv\": null, \"v_un_sig_inter_new_traf_sig\": null, \"v_un_sig_inter_new_roundabout\": null, \"app_fk\": null, \"details_datetime_stamp\": \"\", \"a4_reg_init\": \"N\", \"a4_reg_init_pct\": 0, \"a4_com_init\": \"N\", \"a4_com_init_pct\": 0, \"a4_safe_route\": \"Y\", \"a4_safe_route_pct\": 100, \"a4_fl_mile\": \"N\", \"a4_fl_mile_pct\": 0, \"a4_emp_based\": null, \"a4_emp_based_pct\": 0.0, \"a4_other_ni\": \"N\", \"a4_other_ni_descr\": null, \"a4_other_ni_pct\": 0, \"a4_wb_audits\": 0.0, \"a4_bike_classes\": 0.0, \"a4_ped_classes\": 0.0, \"a4_demo_events\": 0.0, \"a4_com_enc\": 0.0, \"a4_le_methods\": 0.0, \"a4_com_meetings\": 0.0, \"a4_classrooms\": 0.0, \"a4_school_assem\": 6.0, \"a4_after_school\": 3.0, \"a4_bike_rodeos\": 6.0, \"a4_mock_cities\": 6.0, \"a4_walk_bus\": 0.0, \"a4_bike_train\": 0.0, \"a4_com_challenges\": 0.0, \"a4_srts_enc\": 9.0, \"a4_srts_le\": 0.0, \"a4_srts_training\": 3.0, \"a4_act_other_1\": 6.0, \"a4_act_other_1_descr\": \"Mobile Bicycle Repair Clinics\", \"a4_act_other_2\": 3.0, \"a4_act_other_2_decr\": \"Community directed hot spot mapping meetings \", \"a4_comm_trad_media\": \"Y\", \"a4_comm_large_media\": \"N\", \"a4_comm_print\": \"N\", \"a4_comm_social\": \"Y\", \"a4_comm_web\": \"N\", \"a4_comm_other\": \"Y\", \"a4_comm_other_descr\": \"Yard Signs, Flyers\", \"a4_comm_language\": \"Spanish\", \"a4_collab_pub_health\": \"N\", \"a4_collab_le\": \"N\", \"a4_collab_non_profit\": \"Y\", \"a4_collab_schools\": \"Y\", \"a4_collab_pub_works\": \"N\", \"a4_collab_other\": \"N\", \"a4_colab_other_descr\": null, \"a4_plan_ped\": \"N\", \"a4_plan_bike\": \"N\", \"a4_plan_atp\": \"N\", \"a4_plan_school_routes\": \"N\", \"a4_row_open_street_demo\": \"No\", \"atp_id_x\": \"ATP5-03-012S\", \"a3_proj_type_x\": \"Infrastructure + NI - Small\", \"agency_fully_own_r_w\": null, \"require_r_w_easement,_from_gov\": null, \"_require_rw_easement_from_private\": \"X\", \"atp_id_y\": \"ATP5-3-012S\", \"ppno1\": null, \"oversight_id\": \"Standard\", \"a3_proj_type_y\": \"Combined (IF and NI)\", \"Total Project Cost\": 1946000.0, \"original_prog__amt___pa_ed_\": 95000.0, \"orig__prog__year__pa_ed_\": \"21/22\", \"original_prog__amt___ps_e_\": 190000.0, \"orig__prog__year__ps_e_\": \"22/23\", \"original_prog__amt___rw_\": 200000.0, \"orig__prog__year__rw_\": \"22/23\", \"orignal_prog__amt___con_\": 1381000.0, \"orig__prog__year__con_\": \"23/24\", \"original_prog__amt___con_ni_\": 80000.0, \"orig__prog__year__con_ni_\": \"23/24\", \"total\": 1946000.0, \"_2122_pa_ed\": 95000.0, \"_2122_ps_e\": null, \"_2122_rw\": null, \"_2122_con\": null, \"_2122_con_ni\": null, \"_2122_total\": 95000.0, \"fund_year_1\": \"21/22\", \"_2223_pa_ed\": null, \"_2223_ps_e\": 190000.0, \"_2223_rw\": 200000.0, \"_2223_con\": null, \"_2223_con_ni\": null, \"_2223_total\": 390000.0, \"fund_year_2\": \"22/23\", \"_2324_pa_ed\": null, \"_2324_ps_e\": null, \"_2324_rw\": null, \"_2324_con\": 1381000.0, \"_2324_con_ni\": 80000.0, \"_2324_total\": 1461000.0, \"fund_year_3\": \"23/24\", \"_2425_pa_ed\": null, \"_2425_ps_e\": null, \"_2425_rw\": null, \"_2425_con\": null, \"_2425_con_ni\": null, \"_2425_total\": 0.0, \"fund_year_4\": \"24/25\", \"Total ATP Funds\": 1946000.0, \"match_total_atp_$_and_total\": \"YES\", \"match_total_atp_$_and_total_atp_x_1000\": \"YES\", \"paed\": 95.0, \"ps_e_\": 190.0, \"rw\": 200.0, \"con\": 1381.0, \"con_ni\": 80.0, \"total_atp__000s_\": 1946.0, \"total_atp_x_1000\": 1946000.0, \"year__pa_ed_\": \"21/22\", \"year__ps_e_\": \"22/23\", \"year__rw_\": \"22/23\", \"year__con_\": \"23/24\", \"year__con_ni_\": \"23/24\", \"Implemeting Agency Name\": \"Sacramento County\"}, {\"Project ID\": \"3-Sacramento, City of-1\", \"project_cycle\": 5, \"a1_locode\": 5002.0, \"#\": null, \"atp_id\": null, \"awarded\": \"Y\", \"ppno\": 2213, \"ppno_1\": null, \"data_origin\": \"Funded\", \"geometry\": null, \"project_status\": \"Active\", \"solicitation_abv\": \"S\", \"solicitation\": \"STATEWIDE SOLICITATION-CYCLE 5\", \"soliciting_agency\": \"CALTRANS\", \"project_size\": \"Large\", \"a1_imp_agcy_city\": \"Sacramento\", \"a1_imp_agcy_name\": \"Sacramento, City of\", \"a1_proj_partner_agcy\": null, \"a1_proj_partner_exists\": \"No \", \"assembly_district\": 9, \"congressional_district\": 6, \"senate_district\": 6, \"County\": \"Sacramento\", \"a2_ct_dist\": 3, \"a2_info_proj_descr\": \"A reduction in travel lanes from four to two; addition of Class IV and buffered Class II bike facilities; pedestrian improvements; signal modifications.\", \"a2_info_proj_loc\": \"On Franklin Boulevard between Sutterville Road and 32nd Avenue, in Sacramento.\", \"Project Name\": \"Franklin Boulevard Complete Street Project\", \"a2_mop_uza_population\": \"Project is located within one of the ten large MPOs\", \"a2_mpo\": \"SACOG\", \"a2_rtpa\": \"None\", \"a2_proj_scope_summary\": \"This Complete Street project will transform the Franklin Boulevard corridor between Sutterville Road and 32nd Avenue, once called \\\"the ugliest street in Sacramento\\\" by the Sacramento Bee, into an active transportation-friendly main street that meets the m\", \"a1_imp_agcy_fed_ma_num\": \"03-5002F15\", \"a1_imp_agcy_ma\": \"Yes\", \"a1_imp_agcy_state_ma_num\": \"00311S\", \"a1_imp_agcy_street\": \"915 I Street, Room 2000\", \"a1_imp_agcy_title\": \"Supervising Engineer\", \"a1_imp_agcy_zip\": 95814, \"a1_letter_of_intent\": null, \"a1_proj_partner_title\": null, \"a2_assem_dist_a\": 9.0, \"a2_assem_dist_b\": null, \"a2_assem_dist_c\": null, \"a2_congress_dist_a\": 6.0, \"a2_congress_dist_b\": null, \"a2_congress_dist_c\": null, \"a2_past_proj\": \"Yes                           \", \"a2_past_proj_qty\": 3, \"a2_proj_lat\": 38.529311, \"a2_proj_long\": -121.473578, \"a2_project_location_map\": null, \"a2_senate_dist_a\": 6.0, \"a2_senate_dist_b\": null, \"a2_senatedistc\": null, \"a3_plan_active_trans\": null, \"a3_plan_active_trans_exists\": \"No \", \"a3_plan_bicycle\": null, \"a3_plan_bicycle_exists\": \"Yes\", \"a3_plan_ped\": null, \"a3_plan_ped_exists\": \"Yes\", \"a3_plan_srts\": null, \"a3_plan_srts_exists\": \"No \", \"a3_proj_type\": null, \"a3_st_bicycle_applies\": \"Yes\", \"a3_st_bicycle_pct\": 85.0, \"a3_st_num_schools\": 1, \"a3_st_ped_applies\": \"Yes\", \"a3_st_ped_pct\": 15, \"a3_st_srts\": \"No \", \"a3_trail_elig_cost\": 0.0, \"a3_trail_fed_funding\": null, \"a3_trail_trans_pct\": null, \"a3_trails\": null, \"agency_app_num\": null, \"app_pk\": null, \"attch_addtl_attachments\": null, \"attch_app_sig_page\": null, \"attch_conditions_photos\": null, \"attch_conditions_project_map\": null, \"attch_engineeers_checklist\": null, \"attch_exhibit22_plan\": null, \"attch_letters_of_support\": null, \"attch_link\": null, \"attch_ni_workplan\": null, \"attch_project_estimate\": null, \"completed_pdf_form\": null, \"main_datetime_stamp\": \"\", \"a3_plan_none\": \"0\", \"a3_plan_other\": \"0\", \"a3_plan_other_desc\": null, \"a2_output_outcome\": \"Reduction from four to two lanes, construction of separated Class IV and buffered Class II bike facilities, crosswalks, curb ramps, and separated sidewalks will provide safety and connectivity for pedestrians and bicyclists along Franklin Boulevard.\", \"a3_current_plan\": \"Yes\", \"b_sig_inter_new_bike_boxes\": 2.0, \"b_class_1\": null, \"b_class_2\": 2300.0, \"b_class_3\": null, \"b_class_4\": 10000.0, \"a4_bike_gap_pct\": null, \"b_light_intersection\": null, \"b_mid_block_new_rrfb_signal\": null, \"b_mid_block_surf_improv\": null, \"b_bsp_new_bikes\": null, \"b_bike_new_secured_lockers\": null, \"b_bike_new_racks\": null, \"b_bsp_new_station\": null, \"b_other_bike_improv_1\": \"Protected Intersection\", \"b_other_bike_improv_qty_1\": 1.0, \"b_other_bike_improv_2\": null, \"b_other_bike_improv_qty_2\": null, \"b_light_rdwy_seg\": 6000.0, \"b_sig_inter_timing_improv\": 4.0, \"b_un_sig_new_rrfb_signal\": 1.0, \"b_un_sig_cross_surf_improv\": 17.0, \"a4_easement_support\": null, \"m_cls_1_trails_widen_recon_exist\": null, \"m_cls_1_trails_new__less_than_9\": null, \"m_cls_1_trails_new_over_9\": null, \"m_non_cls_trails_new\": null, \"m_other_trail_imprv_1\": null, \"m_other_trail_improv_qty_1\": null, \"m_other_trail_imprv_2\": null, \"m_other_trail_improv_qty_2\": null, \"m_non_cls_widen_recon_exist\": null, \"p_amenities_bench\": null, \"a4_ped_gap_pct\": 15.0, \"p_mid_block_cross_new_rrfb_signal\": null, \"p_light_intersection\": null, \"p_lighting_rdwy_seg\": 6000.0, \"p_mid_block_cross_surf_improv\": null, \"p_new_ada_ramp\": null, \"p_sidewlks_new_barrier_protect\": 6000.0, \"p_sidewlks_new_4_to_8\": null, \"p_sidewlks_new_over_8\": null, \"p_other_ped_imprv_1\": null, \"p_other_ped_qty_1\": null, \"p_other_ped_imprv_2\": null, \"p_other_ped_qty_2\": null, \"p_reconstruct_ramp_to_ada_stand\": 49.0, \"p_sidewlks_reconstruct_enhance_exist\": 1900.0, \"p_sig_inter_enhance_exist_crosswlk\": null, \"p_sig_inter_new_crosswlk\": null, \"p_sig_inter_ped_heads\": 12.0, \"p_sig_inter_shorten_cross\": 3.0, \"p_sig_inter_timing_improv\": null, \"p_amenities_trash_can\": null, \"p_amenities_shade_tree\": 37.0, \"p_amenities_shade_tree_type\": \"Maples\", \"p_un_sig_inter_new_traff_sig\": null, \"p_un_sig_inter_new_roundabout\": null, \"p_un_sig_inter_new_rrfb_sig\": 1.0, \"p_un_sig_inter_shorten_cross\": 1.0, \"p_un_sig_inter_cross_surface_improv\": null, \"p_sidewlks_widen_existing\": null, \"a4_row_100\": null, \"a4_row_gov_ease\": null, \"a4_row_private_ease\": null, \"v_other_traffic_calming_imprv_1\": \"Reduced lane widths\", \"v_speed_feedback_signs\": null, \"v_other_traffic_calming_qty_1\": 2.0, \"v_other_traffic_calming_imprv_2\": null, \"v_other_traffic_calming_qty_2\": null, \"v_remove_right_turn_pocket\": null, \"v_remove_travel_ln\": 6000.0, \"v_sig_inter_new_roundabout\": null, \"v_sig_inter_timing_improv\": 4.0, \"v_un_sig_inter_new_traf_sig\": null, \"v_un_sig_inter_new_roundabout\": null, \"app_fk\": null, \"details_datetime_stamp\": \"\", \"a4_reg_init\": \"N\", \"a4_reg_init_pct\": 0, \"a4_com_init\": \"N\", \"a4_com_init_pct\": 0, \"a4_safe_route\": \"N\", \"a4_safe_route_pct\": 0, \"a4_fl_mile\": \"N\", \"a4_fl_mile_pct\": 0, \"a4_emp_based\": null, \"a4_emp_based_pct\": 0.0, \"a4_other_ni\": \"N\", \"a4_other_ni_descr\": null, \"a4_other_ni_pct\": 0, \"a4_wb_audits\": 0.0, \"a4_bike_classes\": 0.0, \"a4_ped_classes\": 0.0, \"a4_demo_events\": 0.0, \"a4_com_enc\": 0.0, \"a4_le_methods\": 0.0, \"a4_com_meetings\": 0.0, \"a4_classrooms\": 0.0, \"a4_school_assem\": 0.0, \"a4_after_school\": 0.0, \"a4_bike_rodeos\": 0.0, \"a4_mock_cities\": 0.0, \"a4_walk_bus\": 0.0, \"a4_bike_train\": 0.0, \"a4_com_challenges\": 0.0, \"a4_srts_enc\": 0.0, \"a4_srts_le\": 0.0, \"a4_srts_training\": 0.0, \"a4_act_other_1\": 0.0, \"a4_act_other_1_descr\": null, \"a4_act_other_2\": 0.0, \"a4_act_other_2_decr\": null, \"a4_comm_trad_media\": \"N\", \"a4_comm_large_media\": \"N\", \"a4_comm_print\": \"N\", \"a4_comm_social\": \"N\", \"a4_comm_web\": \"N\", \"a4_comm_other\": \"N\", \"a4_comm_other_descr\": null, \"a4_comm_language\": null, \"a4_collab_pub_health\": \"N\", \"a4_collab_le\": \"N\", \"a4_collab_non_profit\": \"N\", \"a4_collab_schools\": \"N\", \"a4_collab_pub_works\": \"N\", \"a4_collab_other\": \"N\", \"a4_colab_other_descr\": null, \"a4_plan_ped\": \"N\", \"a4_plan_bike\": \"N\", \"a4_plan_atp\": \"N\", \"a4_plan_school_routes\": \"N\", \"a4_row_open_street_demo\": \"No\", \"atp_id_x\": \"ATP5-03-028S\", \"a3_proj_type_x\": \"Infrastructure - Large\", \"agency_fully_own_r_w\": null, \"require_r_w_easement,_from_gov\": null, \"_require_rw_easement_from_private\": \"X\", \"atp_id_y\": \"ATP5-3-028S\", \"ppno1\": null, \"oversight_id\": \"Standard\", \"a3_proj_type_y\": \"Infrastructure\", \"Total Project Cost\": 16265000.0, \"original_prog__amt___pa_ed_\": null, \"orig__prog__year__pa_ed_\": null, \"original_prog__amt___ps_e_\": null, \"orig__prog__year__ps_e_\": null, \"original_prog__amt___rw_\": null, \"orig__prog__year__rw_\": null, \"orignal_prog__amt___con_\": 9323000.0, \"orig__prog__year__con_\": \"23/24\", \"original_prog__amt___con_ni_\": null, \"orig__prog__year__con_ni_\": null, \"total\": 9323000.0, \"_2122_pa_ed\": null, \"_2122_ps_e\": null, \"_2122_rw\": null, \"_2122_con\": null, \"_2122_con_ni\": null, \"_2122_total\": 0.0, \"fund_year_1\": \"21/22\", \"_2223_pa_ed\": null, \"_2223_ps_e\": null, \"_2223_rw\": null, \"_2223_con\": null, \"_2223_con_ni\": null, \"_2223_total\": 0.0, \"fund_year_2\": \"22/23\", \"_2324_pa_ed\": null, \"_2324_ps_e\": null, \"_2324_rw\": null, \"_2324_con\": 9323000.0, \"_2324_con_ni\": null, \"_2324_total\": 9323000.0, \"fund_year_3\": \"23/24\", \"_2425_pa_ed\": null, \"_2425_ps_e\": null, \"_2425_rw\": null, \"_2425_con\": null, \"_2425_con_ni\": null, \"_2425_total\": 0.0, \"fund_year_4\": \"24/25\", \"Total ATP Funds\": 9323000.0, \"match_total_atp_$_and_total\": \"YES\", \"match_total_atp_$_and_total_atp_x_1000\": \"YES\", \"paed\": 0.0, \"ps_e_\": 0.0, \"rw\": 0.0, \"con\": 9323.0, \"con_ni\": 0.0, \"total_atp__000s_\": 9323.0, \"total_atp_x_1000\": 9323000.0, \"year__pa_ed_\": null, \"year__ps_e_\": null, \"year__rw_\": null, \"year__con_\": \"23/24\", \"year__con_ni_\": null, \"Implemeting Agency Name\": \"City of Sacramento\"}, {\"Project ID\": \"3-West Sacramento, City of-2\", \"project_cycle\": 5, \"a1_locode\": 5447.0, \"#\": null, \"atp_id\": null, \"awarded\": \"Y\", \"ppno\": 2215, \"ppno_1\": null, \"data_origin\": \"Funded\", \"geometry\": null, \"project_status\": \"Active\", \"solicitation_abv\": \"S\", \"solicitation\": \"STATEWIDE SOLICITATION-CYCLE 5\", \"soliciting_agency\": \"CALTRANS\", \"project_size\": \"Large\", \"a1_imp_agcy_city\": \"West Sacramento\", \"a1_imp_agcy_name\": \"West Sacramento, City of\", \"a1_proj_partner_agcy\": null, \"a1_proj_partner_exists\": \"No \", \"assembly_district\": 7, \"congressional_district\": 6, \"senate_district\": 6, \"County\": \"Yolo\", \"a2_ct_dist\": 3, \"a2_info_proj_descr\": \"Sycamore Trail (Phase 2), constructing 1,940 foot concrete overpass with amenities and safety enhancements to bridge Highway 50 from Joey Lopes Park to Westmore Oaks site. \", \"a2_info_proj_loc\": \"City of West Sacramento, Sycamore Avenue and the Lower Northwest Interceptor (LWNI) sewer easement from Evergreen Avenue to the Westmore Oaks School site (1110 Clarendon Street).\", \"Project Name\": \"Sycamore Trail (Phase 2) Bicycle/Pedestrian Overcrossing\", \"a2_mop_uza_population\": \"Project is located within one of the ten large MPOs\", \"a2_mpo\": \"SACOG\", \"a2_rtpa\": \"None\", \"a2_proj_scope_summary\": \"This is a shovel-ready project to construct a 1,940 foot (16-foot wide) bicycle-pedestrian overcrossing spanning Highway 50 to close a gap between the existing Phase 1 Sycamore Trail (.5 miles) and planned Phase 3 Sycamore Trail Extension south of the fre\", \"a1_imp_agcy_fed_ma_num\": \"03-5447R\", \"a1_imp_agcy_ma\": \"Yes\", \"a1_imp_agcy_state_ma_num\": \"000445\", \"a1_imp_agcy_street\": \"1110 W Capitol Avenue\", \"a1_imp_agcy_title\": \"Senior Transportation Planner\", \"a1_imp_agcy_zip\": 95691, \"a1_letter_of_intent\": null, \"a1_proj_partner_title\": null, \"a2_assem_dist_a\": 7.0, \"a2_assem_dist_b\": null, \"a2_assem_dist_c\": null, \"a2_congress_dist_a\": 6.0, \"a2_congress_dist_b\": null, \"a2_congress_dist_c\": null, \"a2_past_proj\": \"Yes                           \", \"a2_past_proj_qty\": 11, \"a2_proj_lat\": 38.575734, \"a2_proj_long\": -121.537382, \"a2_project_location_map\": null, \"a2_senate_dist_a\": 6.0, \"a2_senate_dist_b\": null, \"a2_senatedistc\": null, \"a3_plan_active_trans\": null, \"a3_plan_active_trans_exists\": \"Yes\", \"a3_plan_bicycle\": null, \"a3_plan_bicycle_exists\": \"Yes\", \"a3_plan_ped\": null, \"a3_plan_ped_exists\": \"Yes\", \"a3_plan_srts\": null, \"a3_plan_srts_exists\": \"Yes\", \"a3_proj_type\": null, \"a3_st_bicycle_applies\": \"Yes\", \"a3_st_bicycle_pct\": 50.0, \"a3_st_num_schools\": 1, \"a3_st_ped_applies\": \"Yes\", \"a3_st_ped_pct\": 50, \"a3_st_srts\": \"No \", \"a3_trail_elig_cost\": 0.0, \"a3_trail_fed_funding\": null, \"a3_trail_trans_pct\": null, \"a3_trails\": null, \"agency_app_num\": null, \"app_pk\": null, \"attch_addtl_attachments\": null, \"attch_app_sig_page\": null, \"attch_conditions_photos\": null, \"attch_conditions_project_map\": null, \"attch_engineeers_checklist\": null, \"attch_exhibit22_plan\": null, \"attch_letters_of_support\": null, \"attch_link\": null, \"attch_ni_workplan\": null, \"attch_project_estimate\": null, \"completed_pdf_form\": null, \"main_datetime_stamp\": \"\", \"a3_plan_none\": \"0\", \"a3_plan_other\": \"0\", \"a3_plan_other_desc\": null, \"a2_output_outcome\": \"Construction of 1,940 foot bicycle/pedestrian freeway overcrossing with amenities to provide safer, more direct walking/biking routes avoiding dangerous intersections. Bridges Highway 50 barrier, and closes gap between Sycamore Trail Phase 1 (existing) an\", \"a3_current_plan\": \"Yes\", \"b_sig_inter_new_bike_boxes\": null, \"b_class_1\": 1940.0, \"b_class_2\": null, \"b_class_3\": null, \"b_class_4\": null, \"a4_bike_gap_pct\": null, \"b_light_intersection\": null, \"b_mid_block_new_rrfb_signal\": null, \"b_mid_block_surf_improv\": null, \"b_bsp_new_bikes\": null, \"b_bike_new_secured_lockers\": null, \"b_bike_new_racks\": 3.0, \"b_bsp_new_station\": null, \"b_other_bike_improv_1\": null, \"b_other_bike_improv_qty_1\": null, \"b_other_bike_improv_2\": null, \"b_other_bike_improv_qty_2\": null, \"b_light_rdwy_seg\": null, \"b_sig_inter_timing_improv\": null, \"b_un_sig_new_rrfb_signal\": null, \"b_un_sig_cross_surf_improv\": null, \"a4_easement_support\": null, \"m_cls_1_trails_widen_recon_exist\": null, \"m_cls_1_trails_new__less_than_9\": null, \"m_cls_1_trails_new_over_9\": null, \"m_non_cls_trails_new\": null, \"m_other_trail_imprv_1\": null, \"m_other_trail_improv_qty_1\": null, \"m_other_trail_imprv_2\": null, \"m_other_trail_improv_qty_2\": null, \"m_non_cls_widen_recon_exist\": null, \"p_amenities_bench\": null, \"a4_ped_gap_pct\": 50.0, \"p_mid_block_cross_new_rrfb_signal\": null, \"p_light_intersection\": 32.0, \"p_lighting_rdwy_seg\": null, \"p_mid_block_cross_surf_improv\": null, \"p_new_ada_ramp\": 1.0, \"p_sidewlks_new_barrier_protect\": null, \"p_sidewlks_new_4_to_8\": null, \"p_sidewlks_new_over_8\": null, \"p_other_ped_imprv_1\": null, \"p_other_ped_qty_1\": null, \"p_other_ped_imprv_2\": null, \"p_other_ped_qty_2\": null, \"p_reconstruct_ramp_to_ada_stand\": null, \"p_sidewlks_reconstruct_enhance_exist\": null, \"p_sig_inter_enhance_exist_crosswlk\": null, \"p_sig_inter_new_crosswlk\": null, \"p_sig_inter_ped_heads\": null, \"p_sig_inter_shorten_cross\": null, \"p_sig_inter_timing_improv\": null, \"p_amenities_trash_can\": 2.0, \"p_amenities_shade_tree\": 4.0, \"p_amenities_shade_tree_type\": null, \"p_un_sig_inter_new_traff_sig\": null, \"p_un_sig_inter_new_roundabout\": null, \"p_un_sig_inter_new_rrfb_sig\": null, \"p_un_sig_inter_shorten_cross\": null, \"p_un_sig_inter_cross_surface_improv\": null, \"p_sidewlks_widen_existing\": null, \"a4_row_100\": null, \"a4_row_gov_ease\": null, \"a4_row_private_ease\": null, \"v_other_traffic_calming_imprv_1\": null, \"v_speed_feedback_signs\": null, \"v_other_traffic_calming_qty_1\": null, \"v_other_traffic_calming_imprv_2\": null, \"v_other_traffic_calming_qty_2\": null, \"v_remove_right_turn_pocket\": null, \"v_remove_travel_ln\": null, \"v_sig_inter_new_roundabout\": null, \"v_sig_inter_timing_improv\": null, \"v_un_sig_inter_new_traf_sig\": null, \"v_un_sig_inter_new_roundabout\": null, \"app_fk\": null, \"details_datetime_stamp\": \"\", \"a4_reg_init\": \"N\", \"a4_reg_init_pct\": 0, \"a4_com_init\": \"N\", \"a4_com_init_pct\": 0, \"a4_safe_route\": \"N\", \"a4_safe_route_pct\": 0, \"a4_fl_mile\": \"N\", \"a4_fl_mile_pct\": 0, \"a4_emp_based\": null, \"a4_emp_based_pct\": 0.0, \"a4_other_ni\": \"N\", \"a4_other_ni_descr\": null, \"a4_other_ni_pct\": 0, \"a4_wb_audits\": 0.0, \"a4_bike_classes\": 0.0, \"a4_ped_classes\": 0.0, \"a4_demo_events\": 0.0, \"a4_com_enc\": 0.0, \"a4_le_methods\": 0.0, \"a4_com_meetings\": 0.0, \"a4_classrooms\": 0.0, \"a4_school_assem\": 0.0, \"a4_after_school\": 0.0, \"a4_bike_rodeos\": 0.0, \"a4_mock_cities\": 0.0, \"a4_walk_bus\": 0.0, \"a4_bike_train\": 0.0, \"a4_com_challenges\": 0.0, \"a4_srts_enc\": 0.0, \"a4_srts_le\": 0.0, \"a4_srts_training\": 0.0, \"a4_act_other_1\": 0.0, \"a4_act_other_1_descr\": null, \"a4_act_other_2\": 0.0, \"a4_act_other_2_decr\": null, \"a4_comm_trad_media\": \"N\", \"a4_comm_large_media\": \"N\", \"a4_comm_print\": \"N\", \"a4_comm_social\": \"N\", \"a4_comm_web\": \"N\", \"a4_comm_other\": \"N\", \"a4_comm_other_descr\": null, \"a4_comm_language\": null, \"a4_collab_pub_health\": \"N\", \"a4_collab_le\": \"N\", \"a4_collab_non_profit\": \"N\", \"a4_collab_schools\": \"N\", \"a4_collab_pub_works\": \"N\", \"a4_collab_other\": \"N\", \"a4_colab_other_descr\": null, \"a4_plan_ped\": \"N\", \"a4_plan_bike\": \"N\", \"a4_plan_atp\": \"N\", \"a4_plan_school_routes\": \"N\", \"a4_row_open_street_demo\": \"No\", \"atp_id_x\": \"ATP5-03-040S\", \"a3_proj_type_x\": \"Infrastructure - Large\", \"agency_fully_own_r_w\": null, \"require_r_w_easement,_from_gov\": null, \"_require_rw_easement_from_private\": null, \"atp_id_y\": \"ATP5-3-040S\", \"ppno1\": null, \"oversight_id\": \"Standard\", \"a3_proj_type_y\": \"Infrastructure\", \"Total Project Cost\": 11538000.0, \"original_prog__amt___pa_ed_\": null, \"orig__prog__year__pa_ed_\": null, \"original_prog__amt___ps_e_\": null, \"orig__prog__year__ps_e_\": null, \"original_prog__amt___rw_\": null, \"orig__prog__year__rw_\": null, \"orignal_prog__amt___con_\": 3500000.0, \"orig__prog__year__con_\": \"21/22\", \"original_prog__amt___con_ni_\": null, \"orig__prog__year__con_ni_\": null, \"total\": 3500000.0, \"_2122_pa_ed\": null, \"_2122_ps_e\": null, \"_2122_rw\": null, \"_2122_con\": 3500000.0, \"_2122_con_ni\": null, \"_2122_total\": 3500000.0, \"fund_year_1\": \"21/22\", \"_2223_pa_ed\": null, \"_2223_ps_e\": null, \"_2223_rw\": null, \"_2223_con\": null, \"_2223_con_ni\": null, \"_2223_total\": 0.0, \"fund_year_2\": \"22/23\", \"_2324_pa_ed\": null, \"_2324_ps_e\": null, \"_2324_rw\": null, \"_2324_con\": null, \"_2324_con_ni\": null, \"_2324_total\": 0.0, \"fund_year_3\": \"23/24\", \"_2425_pa_ed\": null, \"_2425_ps_e\": null, \"_2425_rw\": null, \"_2425_con\": null, \"_2425_con_ni\": null, \"_2425_total\": 0.0, \"fund_year_4\": \"24/25\", \"Total ATP Funds\": 3500000.0, \"match_total_atp_$_and_total\": \"YES\", \"match_total_atp_$_and_total_atp_x_1000\": \"YES\", \"paed\": 0.0, \"ps_e_\": 0.0, \"rw\": 0.0, \"con\": 3500.0, \"con_ni\": 0.0, \"total_atp__000s_\": 3500.0, \"total_atp_x_1000\": 3500000.0, \"year__pa_ed_\": null, \"year__ps_e_\": null, \"year__rw_\": null, \"year__con_\": \"21/22\", \"year__con_ni_\": null, \"Implemeting Agency Name\": \"City of West Sacramento\"}]}}, {\"mode\": \"vega-lite\"});\n",
       "</script>"
      ],
      "text/plain": [
       "alt.Chart(...)"
      ]
     },
     "metadata": {},
     "output_type": "display_data"
    },
    {
     "data": {
      "text/html": [
       "<h4>Funded Project Information</h4>"
      ],
      "text/plain": [
       "<IPython.core.display.HTML object>"
      ]
     },
     "metadata": {},
     "output_type": "display_data"
    },
    {
     "data": {
      "text/html": [
       "<style type=\"text/css\">\n",
       "#T_be054_ th {\n",
       "  text-align: center;\n",
       "}\n",
       "#T_be054_row0_col0, #T_be054_row0_col1, #T_be054_row0_col2, #T_be054_row0_col3, #T_be054_row0_col4, #T_be054_row1_col0, #T_be054_row1_col1, #T_be054_row1_col2, #T_be054_row1_col3, #T_be054_row1_col4, #T_be054_row2_col0, #T_be054_row2_col1, #T_be054_row2_col2, #T_be054_row2_col3, #T_be054_row2_col4, #T_be054_row3_col0, #T_be054_row3_col1, #T_be054_row3_col2, #T_be054_row3_col3, #T_be054_row3_col4 {\n",
       "  text-align: center;\n",
       "}\n",
       "</style>\n",
       "<table id=\"T_be054_\">\n",
       "  <thead>\n",
       "    <tr>\n",
       "      <th class=\"col_heading level0 col0\" >Implemeting Agency Name</th>\n",
       "      <th class=\"col_heading level0 col1\" >Project Name</th>\n",
       "      <th class=\"col_heading level0 col2\" >County</th>\n",
       "      <th class=\"col_heading level0 col3\" >Total Atp Funds</th>\n",
       "      <th class=\"col_heading level0 col4\" >Total Project Cost</th>\n",
       "    </tr>\n",
       "  </thead>\n",
       "  <tbody>\n",
       "    <tr>\n",
       "      <td id=\"T_be054_row0_col0\" class=\"data row0 col0\" >El Dorado County</td>\n",
       "      <td id=\"T_be054_row0_col1\" class=\"data row0 col1\" >Pollock Pines - Pony Express Trail Bicycle and Pedestrian Improvements</td>\n",
       "      <td id=\"T_be054_row0_col2\" class=\"data row0 col2\" >El Dorado</td>\n",
       "      <td id=\"T_be054_row0_col3\" class=\"data row0 col3\" >$ 1,440,000.00</td>\n",
       "      <td id=\"T_be054_row0_col4\" class=\"data row0 col4\" >$ 2,000,000.00</td>\n",
       "    </tr>\n",
       "    <tr>\n",
       "      <td id=\"T_be054_row1_col0\" class=\"data row1 col0\" >Sacramento County</td>\n",
       "      <td id=\"T_be054_row1_col1\" class=\"data row1 col1\" >South Sacramento County Safe Routes to School Project </td>\n",
       "      <td id=\"T_be054_row1_col2\" class=\"data row1 col2\" >Sacramento</td>\n",
       "      <td id=\"T_be054_row1_col3\" class=\"data row1 col3\" >$ 1,946,000.00</td>\n",
       "      <td id=\"T_be054_row1_col4\" class=\"data row1 col4\" >$ 1,946,000.00</td>\n",
       "    </tr>\n",
       "    <tr>\n",
       "      <td id=\"T_be054_row2_col0\" class=\"data row2 col0\" >City of Sacramento</td>\n",
       "      <td id=\"T_be054_row2_col1\" class=\"data row2 col1\" >Franklin Boulevard Complete Street Project</td>\n",
       "      <td id=\"T_be054_row2_col2\" class=\"data row2 col2\" >Sacramento</td>\n",
       "      <td id=\"T_be054_row2_col3\" class=\"data row2 col3\" >$ 9,323,000.00</td>\n",
       "      <td id=\"T_be054_row2_col4\" class=\"data row2 col4\" >$ 16,265,000.00</td>\n",
       "    </tr>\n",
       "    <tr>\n",
       "      <td id=\"T_be054_row3_col0\" class=\"data row3 col0\" >City of West Sacramento</td>\n",
       "      <td id=\"T_be054_row3_col1\" class=\"data row3 col1\" >Sycamore Trail (Phase 2) Bicycle/Pedestrian Overcrossing</td>\n",
       "      <td id=\"T_be054_row3_col2\" class=\"data row3 col2\" >Yolo</td>\n",
       "      <td id=\"T_be054_row3_col3\" class=\"data row3 col3\" >$ 3,500,000.00</td>\n",
       "      <td id=\"T_be054_row3_col4\" class=\"data row3 col4\" >$ 11,538,000.00</td>\n",
       "    </tr>\n",
       "  </tbody>\n",
       "</table>\n"
      ],
      "text/plain": [
       "<IPython.core.display.HTML object>"
      ]
     },
     "metadata": {},
     "output_type": "display_data"
    },
    {
     "data": {
      "text/html": [
       "</br><h4> Success Rates for Agencies in District 3 </h4>"
      ],
      "text/plain": [
       "<IPython.core.display.HTML object>"
      ]
     },
     "metadata": {},
     "output_type": "display_data"
    },
    {
     "data": {
      "text/html": [
       "<style type=\"text/css\">\n",
       "#T_ab52f_ th {\n",
       "  text-align: center;\n",
       "}\n",
       "#T_ab52f_row0_col0, #T_ab52f_row0_col1, #T_ab52f_row0_col2, #T_ab52f_row1_col0, #T_ab52f_row1_col1, #T_ab52f_row1_col2, #T_ab52f_row2_col0, #T_ab52f_row2_col1, #T_ab52f_row2_col2, #T_ab52f_row3_col0, #T_ab52f_row3_col1, #T_ab52f_row3_col2, #T_ab52f_row4_col0, #T_ab52f_row4_col1, #T_ab52f_row4_col2, #T_ab52f_row5_col0, #T_ab52f_row5_col1, #T_ab52f_row5_col2, #T_ab52f_row6_col0, #T_ab52f_row6_col1, #T_ab52f_row6_col2, #T_ab52f_row7_col0, #T_ab52f_row7_col1, #T_ab52f_row7_col2, #T_ab52f_row8_col0, #T_ab52f_row8_col1, #T_ab52f_row8_col2, #T_ab52f_row9_col0, #T_ab52f_row9_col1, #T_ab52f_row9_col2, #T_ab52f_row10_col0, #T_ab52f_row10_col1, #T_ab52f_row10_col2, #T_ab52f_row11_col0, #T_ab52f_row11_col1, #T_ab52f_row11_col2, #T_ab52f_row12_col0, #T_ab52f_row12_col1, #T_ab52f_row12_col2, #T_ab52f_row13_col0, #T_ab52f_row13_col1, #T_ab52f_row13_col2, #T_ab52f_row14_col0, #T_ab52f_row14_col1, #T_ab52f_row14_col2, #T_ab52f_row15_col0, #T_ab52f_row15_col1, #T_ab52f_row15_col2, #T_ab52f_row16_col0, #T_ab52f_row16_col1, #T_ab52f_row16_col2, #T_ab52f_row17_col0, #T_ab52f_row17_col1, #T_ab52f_row17_col2, #T_ab52f_row18_col0, #T_ab52f_row18_col1, #T_ab52f_row18_col2, #T_ab52f_row19_col0, #T_ab52f_row19_col1, #T_ab52f_row19_col2, #T_ab52f_row20_col0, #T_ab52f_row20_col1, #T_ab52f_row20_col2, #T_ab52f_row21_col0, #T_ab52f_row21_col1, #T_ab52f_row21_col2, #T_ab52f_row22_col0, #T_ab52f_row22_col1, #T_ab52f_row22_col2, #T_ab52f_row23_col0, #T_ab52f_row23_col1, #T_ab52f_row23_col2, #T_ab52f_row24_col0, #T_ab52f_row24_col1, #T_ab52f_row24_col2, #T_ab52f_row25_col0, #T_ab52f_row25_col1, #T_ab52f_row25_col2, #T_ab52f_row26_col0, #T_ab52f_row26_col1, #T_ab52f_row26_col2 {\n",
       "  text-align: center;\n",
       "}\n",
       "</style>\n",
       "<table id=\"T_ab52f_\">\n",
       "  <thead>\n",
       "    <tr>\n",
       "      <th class=\"col_heading level0 col0\" >Implemeting Agency Name</th>\n",
       "      <th class=\"col_heading level0 col1\" >Total Applications</th>\n",
       "      <th class=\"col_heading level0 col2\" >Success Rate</th>\n",
       "    </tr>\n",
       "  </thead>\n",
       "  <tbody>\n",
       "    <tr>\n",
       "      <td id=\"T_ab52f_row0_col0\" class=\"data row0 col0\" >City of Sacramento</td>\n",
       "      <td id=\"T_ab52f_row0_col1\" class=\"data row0 col1\" >1</td>\n",
       "      <td id=\"T_ab52f_row0_col2\" class=\"data row0 col2\" >100.00%</td>\n",
       "    </tr>\n",
       "    <tr>\n",
       "      <td id=\"T_ab52f_row1_col0\" class=\"data row1 col0\" >City of West Sacramento</td>\n",
       "      <td id=\"T_ab52f_row1_col1\" class=\"data row1 col1\" >2</td>\n",
       "      <td id=\"T_ab52f_row1_col2\" class=\"data row1 col2\" >50.00%</td>\n",
       "    </tr>\n",
       "    <tr>\n",
       "      <td id=\"T_ab52f_row2_col0\" class=\"data row2 col0\" >El Dorado County</td>\n",
       "      <td id=\"T_ab52f_row2_col1\" class=\"data row2 col1\" >8</td>\n",
       "      <td id=\"T_ab52f_row2_col2\" class=\"data row2 col2\" >12.50%</td>\n",
       "    </tr>\n",
       "    <tr>\n",
       "      <td id=\"T_ab52f_row3_col0\" class=\"data row3 col0\" >Sacramento County</td>\n",
       "      <td id=\"T_ab52f_row3_col1\" class=\"data row3 col1\" >3</td>\n",
       "      <td id=\"T_ab52f_row3_col2\" class=\"data row3 col2\" >33.33%</td>\n",
       "    </tr>\n",
       "    <tr>\n",
       "      <td id=\"T_ab52f_row4_col0\" class=\"data row4 col0\" >5002</td>\n",
       "      <td id=\"T_ab52f_row4_col1\" class=\"data row4 col1\" >1</td>\n",
       "      <td id=\"T_ab52f_row4_col2\" class=\"data row4 col2\" >0.00%</td>\n",
       "    </tr>\n",
       "    <tr>\n",
       "      <td id=\"T_ab52f_row5_col0\" class=\"data row5 col0\" >5447</td>\n",
       "      <td id=\"T_ab52f_row5_col1\" class=\"data row5 col1\" >1</td>\n",
       "      <td id=\"T_ab52f_row5_col2\" class=\"data row5 col2\" >0.00%</td>\n",
       "    </tr>\n",
       "    <tr>\n",
       "      <td id=\"T_ab52f_row6_col0\" class=\"data row6 col0\" >Butte County</td>\n",
       "      <td id=\"T_ab52f_row6_col1\" class=\"data row6 col1\" >1</td>\n",
       "      <td id=\"T_ab52f_row6_col2\" class=\"data row6 col2\" >0.00%</td>\n",
       "    </tr>\n",
       "    <tr>\n",
       "      <td id=\"T_ab52f_row7_col0\" class=\"data row7 col0\" >City of Biggs</td>\n",
       "      <td id=\"T_ab52f_row7_col1\" class=\"data row7 col1\" >1</td>\n",
       "      <td id=\"T_ab52f_row7_col2\" class=\"data row7 col2\" >0.00%</td>\n",
       "    </tr>\n",
       "    <tr>\n",
       "      <td id=\"T_ab52f_row8_col0\" class=\"data row8 col0\" >City of Citrus Heights</td>\n",
       "      <td id=\"T_ab52f_row8_col1\" class=\"data row8 col1\" >1</td>\n",
       "      <td id=\"T_ab52f_row8_col2\" class=\"data row8 col2\" >0.00%</td>\n",
       "    </tr>\n",
       "    <tr>\n",
       "      <td id=\"T_ab52f_row9_col0\" class=\"data row9 col0\" >City of Colusa</td>\n",
       "      <td id=\"T_ab52f_row9_col1\" class=\"data row9 col1\" >1</td>\n",
       "      <td id=\"T_ab52f_row9_col2\" class=\"data row9 col2\" >0.00%</td>\n",
       "    </tr>\n",
       "    <tr>\n",
       "      <td id=\"T_ab52f_row10_col0\" class=\"data row10 col0\" >City of Elk Grove</td>\n",
       "      <td id=\"T_ab52f_row10_col1\" class=\"data row10 col1\" >1</td>\n",
       "      <td id=\"T_ab52f_row10_col2\" class=\"data row10 col2\" >0.00%</td>\n",
       "    </tr>\n",
       "    <tr>\n",
       "      <td id=\"T_ab52f_row11_col0\" class=\"data row11 col0\" >City of Folsom</td>\n",
       "      <td id=\"T_ab52f_row11_col1\" class=\"data row11 col1\" >1</td>\n",
       "      <td id=\"T_ab52f_row11_col2\" class=\"data row11 col2\" >0.00%</td>\n",
       "    </tr>\n",
       "    <tr>\n",
       "      <td id=\"T_ab52f_row12_col0\" class=\"data row12 col0\" >City of Marysville</td>\n",
       "      <td id=\"T_ab52f_row12_col1\" class=\"data row12 col1\" >1</td>\n",
       "      <td id=\"T_ab52f_row12_col2\" class=\"data row12 col2\" >0.00%</td>\n",
       "    </tr>\n",
       "    <tr>\n",
       "      <td id=\"T_ab52f_row13_col0\" class=\"data row13 col0\" >City of Oroville</td>\n",
       "      <td id=\"T_ab52f_row13_col1\" class=\"data row13 col1\" >1</td>\n",
       "      <td id=\"T_ab52f_row13_col2\" class=\"data row13 col2\" >0.00%</td>\n",
       "    </tr>\n",
       "    <tr>\n",
       "      <td id=\"T_ab52f_row14_col0\" class=\"data row14 col0\" >City of Placerville</td>\n",
       "      <td id=\"T_ab52f_row14_col1\" class=\"data row14 col1\" >1</td>\n",
       "      <td id=\"T_ab52f_row14_col2\" class=\"data row14 col2\" >0.00%</td>\n",
       "    </tr>\n",
       "    <tr>\n",
       "      <td id=\"T_ab52f_row15_col0\" class=\"data row15 col0\" >City of Rancho Cordova</td>\n",
       "      <td id=\"T_ab52f_row15_col1\" class=\"data row15 col1\" >2</td>\n",
       "      <td id=\"T_ab52f_row15_col2\" class=\"data row15 col2\" >0.00%</td>\n",
       "    </tr>\n",
       "    <tr>\n",
       "      <td id=\"T_ab52f_row16_col0\" class=\"data row16 col0\" >City of Roseville</td>\n",
       "      <td id=\"T_ab52f_row16_col1\" class=\"data row16 col1\" >1</td>\n",
       "      <td id=\"T_ab52f_row16_col2\" class=\"data row16 col2\" >0.00%</td>\n",
       "    </tr>\n",
       "    <tr>\n",
       "      <td id=\"T_ab52f_row17_col0\" class=\"data row17 col0\" >City of South Lake Tahoe</td>\n",
       "      <td id=\"T_ab52f_row17_col1\" class=\"data row17 col1\" >1</td>\n",
       "      <td id=\"T_ab52f_row17_col2\" class=\"data row17 col2\" >0.00%</td>\n",
       "    </tr>\n",
       "    <tr>\n",
       "      <td id=\"T_ab52f_row18_col0\" class=\"data row18 col0\" >City of Winters</td>\n",
       "      <td id=\"T_ab52f_row18_col1\" class=\"data row18 col1\" >1</td>\n",
       "      <td id=\"T_ab52f_row18_col2\" class=\"data row18 col2\" >0.00%</td>\n",
       "    </tr>\n",
       "    <tr>\n",
       "      <td id=\"T_ab52f_row19_col0\" class=\"data row19 col0\" >City of Woodland</td>\n",
       "      <td id=\"T_ab52f_row19_col1\" class=\"data row19 col1\" >1</td>\n",
       "      <td id=\"T_ab52f_row19_col2\" class=\"data row19 col2\" >0.00%</td>\n",
       "    </tr>\n",
       "    <tr>\n",
       "      <td id=\"T_ab52f_row20_col0\" class=\"data row20 col0\" >Nevada County</td>\n",
       "      <td id=\"T_ab52f_row20_col1\" class=\"data row20 col1\" >2</td>\n",
       "      <td id=\"T_ab52f_row20_col2\" class=\"data row20 col2\" >0.00%</td>\n",
       "    </tr>\n",
       "    <tr>\n",
       "      <td id=\"T_ab52f_row21_col0\" class=\"data row21 col0\" >Nevada County Transportation Commission</td>\n",
       "      <td id=\"T_ab52f_row21_col1\" class=\"data row21 col1\" >2</td>\n",
       "      <td id=\"T_ab52f_row21_col2\" class=\"data row21 col2\" >0.00%</td>\n",
       "    </tr>\n",
       "    <tr>\n",
       "      <td id=\"T_ab52f_row22_col0\" class=\"data row22 col0\" >Placer County</td>\n",
       "      <td id=\"T_ab52f_row22_col1\" class=\"data row22 col1\" >2</td>\n",
       "      <td id=\"T_ab52f_row22_col2\" class=\"data row22 col2\" >0.00%</td>\n",
       "    </tr>\n",
       "    <tr>\n",
       "      <td id=\"T_ab52f_row23_col0\" class=\"data row23 col0\" >Town of Paradise</td>\n",
       "      <td id=\"T_ab52f_row23_col1\" class=\"data row23 col1\" >4</td>\n",
       "      <td id=\"T_ab52f_row23_col2\" class=\"data row23 col2\" >0.00%</td>\n",
       "    </tr>\n",
       "    <tr>\n",
       "      <td id=\"T_ab52f_row24_col0\" class=\"data row24 col0\" >Town of Truckee</td>\n",
       "      <td id=\"T_ab52f_row24_col1\" class=\"data row24 col1\" >1</td>\n",
       "      <td id=\"T_ab52f_row24_col2\" class=\"data row24 col2\" >0.00%</td>\n",
       "    </tr>\n",
       "    <tr>\n",
       "      <td id=\"T_ab52f_row25_col0\" class=\"data row25 col0\" >Yolo County</td>\n",
       "      <td id=\"T_ab52f_row25_col1\" class=\"data row25 col1\" >1</td>\n",
       "      <td id=\"T_ab52f_row25_col2\" class=\"data row25 col2\" >0.00%</td>\n",
       "    </tr>\n",
       "    <tr>\n",
       "      <td id=\"T_ab52f_row26_col0\" class=\"data row26 col0\" >Yuba County</td>\n",
       "      <td id=\"T_ab52f_row26_col1\" class=\"data row26 col1\" >2</td>\n",
       "      <td id=\"T_ab52f_row26_col2\" class=\"data row26 col2\" >0.00%</td>\n",
       "    </tr>\n",
       "  </tbody>\n",
       "</table>\n"
      ],
      "text/plain": [
       "<IPython.core.display.HTML object>"
      ]
     },
     "metadata": {},
     "output_type": "display_data"
    }
   ],
   "source": [
    "_report_utils.map_dist_proj(funded, df, 3)"
   ]
  },
  {
   "cell_type": "code",
   "execution_count": 50,
   "id": "c797c8ea-e500-4ff9-9e7f-02f239d7ba8d",
   "metadata": {},
   "outputs": [],
   "source": [
    "#df>>filter(_.a1_imp_agcy_name==\"5002\")"
   ]
  },
  {
   "cell_type": "code",
   "execution_count": 51,
   "id": "8ff5bc9a-3270-4eba-9228-a2f563eea06b",
   "metadata": {},
   "outputs": [],
   "source": [
    "#df>>filter(_.a1_imp_agcy_name==\"5447\")"
   ]
  },
  {
   "cell_type": "code",
   "execution_count": null,
   "id": "6f2e218f-fa52-4dbc-b1d6-a302ed06c6e7",
   "metadata": {},
   "outputs": [],
   "source": []
  },
  {
   "cell_type": "markdown",
   "id": "32b6e87b-0d7e-4cc3-bdee-658e420621ad",
   "metadata": {},
   "source": [
    "### District 4 - Oakland "
   ]
  },
  {
   "cell_type": "code",
   "execution_count": 38,
   "id": "e950669c-2aca-4ea9-88bf-0863f7bba2f0",
   "metadata": {},
   "outputs": [
    {
     "data": {
      "text/html": [
       "\n",
       "<div id=\"altair-viz-124968c466c943cda1e17abbdac57c47\"></div>\n",
       "<script type=\"text/javascript\">\n",
       "  var VEGA_DEBUG = (typeof VEGA_DEBUG == \"undefined\") ? {} : VEGA_DEBUG;\n",
       "  (function(spec, embedOpt){\n",
       "    let outputDiv = document.currentScript.previousElementSibling;\n",
       "    if (outputDiv.id !== \"altair-viz-124968c466c943cda1e17abbdac57c47\") {\n",
       "      outputDiv = document.getElementById(\"altair-viz-124968c466c943cda1e17abbdac57c47\");\n",
       "    }\n",
       "    const paths = {\n",
       "      \"vega\": \"https://cdn.jsdelivr.net/npm//vega@5?noext\",\n",
       "      \"vega-lib\": \"https://cdn.jsdelivr.net/npm//vega-lib?noext\",\n",
       "      \"vega-lite\": \"https://cdn.jsdelivr.net/npm//vega-lite@4.17.0?noext\",\n",
       "      \"vega-embed\": \"https://cdn.jsdelivr.net/npm//vega-embed@6?noext\",\n",
       "    };\n",
       "\n",
       "    function maybeLoadScript(lib, version) {\n",
       "      var key = `${lib.replace(\"-\", \"\")}_version`;\n",
       "      return (VEGA_DEBUG[key] == version) ?\n",
       "        Promise.resolve(paths[lib]) :\n",
       "        new Promise(function(resolve, reject) {\n",
       "          var s = document.createElement('script');\n",
       "          document.getElementsByTagName(\"head\")[0].appendChild(s);\n",
       "          s.async = true;\n",
       "          s.onload = () => {\n",
       "            VEGA_DEBUG[key] = version;\n",
       "            return resolve(paths[lib]);\n",
       "          };\n",
       "          s.onerror = () => reject(`Error loading script: ${paths[lib]}`);\n",
       "          s.src = paths[lib];\n",
       "        });\n",
       "    }\n",
       "\n",
       "    function showError(err) {\n",
       "      outputDiv.innerHTML = `<div class=\"error\" style=\"color:red;\">${err}</div>`;\n",
       "      throw err;\n",
       "    }\n",
       "\n",
       "    function displayChart(vegaEmbed) {\n",
       "      vegaEmbed(outputDiv, spec, embedOpt)\n",
       "        .catch(err => showError(`Javascript Error: ${err.message}<br>This usually means there's a typo in your chart specification. See the javascript console for the full traceback.`));\n",
       "    }\n",
       "\n",
       "    if(typeof define === \"function\" && define.amd) {\n",
       "      requirejs.config({paths});\n",
       "      require([\"vega-embed\"], displayChart, err => showError(`Error loading script: ${err.message}`));\n",
       "    } else {\n",
       "      maybeLoadScript(\"vega\", \"5\")\n",
       "        .then(() => maybeLoadScript(\"vega-lite\", \"4.17.0\"))\n",
       "        .then(() => maybeLoadScript(\"vega-embed\", \"6\"))\n",
       "        .catch(showError)\n",
       "        .then(() => displayChart(vegaEmbed));\n",
       "    }\n",
       "  })({\"config\": {\"view\": {\"continuousWidth\": 400, \"continuousHeight\": 300}}, \"data\": {\"name\": \"data-b579a95bd087f88ec5300e8d4fd7b0f9\"}, \"mark\": \"bar\", \"encoding\": {\"color\": {\"field\": \"Project Name\", \"legend\": null, \"scale\": {\"range\": [\"#E16B26\", \"#EB9F3C\", \"#f6e7e1\", \"#8CBCCB\", \"#2EA8CE\", \"#136C97\"]}, \"type\": \"nominal\"}, \"tooltip\": [{\"field\": \"Project Name\", \"type\": \"nominal\"}, {\"field\": \"Total ATP Funds\", \"type\": \"quantitative\"}], \"x\": {\"field\": \"Total ATP Funds\", \"type\": \"quantitative\"}, \"y\": {\"field\": \"Implemeting Agency Name\", \"type\": \"nominal\"}}, \"title\": \"Total ATP Funds by Project\", \"$schema\": \"https://vega.github.io/schema/vega-lite/v4.17.0.json\", \"datasets\": {\"data-b579a95bd087f88ec5300e8d4fd7b0f9\": [{\"Project ID\": \"4-Oakland, City of-1\", \"project_cycle\": 5, \"a1_locode\": 5012.0, \"#\": null, \"atp_id\": null, \"awarded\": \"Y\", \"ppno\": 2342, \"ppno_1\": null, \"data_origin\": \"Funded\", \"geometry\": null, \"project_status\": \"Active\", \"solicitation_abv\": \"S\", \"solicitation\": \"STATEWIDE SOLICITATION-CYCLE 5\", \"soliciting_agency\": \"CALTRANS\", \"project_size\": \"Large\", \"a1_imp_agcy_city\": \"Oakland\", \"a1_imp_agcy_name\": \"Oakland, City of\", \"a1_proj_partner_agcy\": null, \"a1_proj_partner_exists\": \"No \", \"assembly_district\": 18, \"congressional_district\": 13, \"senate_district\": 9, \"County\": \"Alameda\", \"a2_ct_dist\": 4, \"a2_info_proj_descr\": \"Complete Streets corridor project including protected bike lanes, intersection/traffic signal improvements, sidewalk repairs, and new trees that improve ssafety for all road users\", \"a2_info_proj_loc\": \"7th Street from Mandela Parkway to Martin Luther King Jr Way\", \"Project Name\": \"7th Street Connection Project\", \"a2_mop_uza_population\": \"Project is located within one of the ten large MPOs\", \"a2_mpo\": \"MTC\", \"a2_rtpa\": \"None\", \"a2_proj_scope_summary\": \"7th Street was once the bustling center of Black jazz and blues culture in the Bay Area. Since the 1950s, the street has undergone cycles of disruption and neglect following construction of the BART overhead trackway and the Cypress Freeway, along with in\", \"a1_imp_agcy_fed_ma_num\": \"04-5012R\", \"a1_imp_agcy_ma\": \"Yes\", \"a1_imp_agcy_state_ma_num\": \"00099S\", \"a1_imp_agcy_street\": \"250 Frank Ogawa Plaza\", \"a1_imp_agcy_title\": \"Funding Program Manager\", \"a1_imp_agcy_zip\": 94612, \"a1_letter_of_intent\": null, \"a1_proj_partner_title\": null, \"a2_assem_dist_a\": 18.0, \"a2_assem_dist_b\": null, \"a2_assem_dist_c\": null, \"a2_congress_dist_a\": 13.0, \"a2_congress_dist_b\": null, \"a2_congress_dist_c\": null, \"a2_past_proj\": \"Yes                           \", \"a2_past_proj_qty\": 2, \"a2_proj_lat\": 37.803556, \"a2_proj_long\": -122.28668, \"a2_project_location_map\": null, \"a2_senate_dist_a\": 9.0, \"a2_senate_dist_b\": null, \"a2_senatedistc\": null, \"a3_plan_active_trans\": null, \"a3_plan_active_trans_exists\": \"No \", \"a3_plan_bicycle\": null, \"a3_plan_bicycle_exists\": \"No \", \"a3_plan_ped\": null, \"a3_plan_ped_exists\": \"No \", \"a3_plan_srts\": null, \"a3_plan_srts_exists\": \"No \", \"a3_proj_type\": null, \"a3_st_bicycle_applies\": \"Yes\", \"a3_st_bicycle_pct\": 75.0, \"a3_st_num_schools\": 1, \"a3_st_ped_applies\": \"Yes\", \"a3_st_ped_pct\": 25, \"a3_st_srts\": \"No \", \"a3_trail_elig_cost\": 0.0, \"a3_trail_fed_funding\": null, \"a3_trail_trans_pct\": null, \"a3_trails\": null, \"agency_app_num\": null, \"app_pk\": null, \"attch_addtl_attachments\": null, \"attch_app_sig_page\": null, \"attch_conditions_photos\": null, \"attch_conditions_project_map\": null, \"attch_engineeers_checklist\": null, \"attch_exhibit22_plan\": null, \"attch_letters_of_support\": null, \"attch_link\": null, \"attch_ni_workplan\": null, \"attch_project_estimate\": null, \"completed_pdf_form\": null, \"main_datetime_stamp\": \"\", \"a3_plan_none\": \"No\", \"a3_plan_other\": \"Yes\", \"a3_plan_other_desc\": \"West Oakland Spec. Plan, W. Oakland Climate Action Plan\", \"a2_output_outcome\": \"Complete Streets corridor project implementing protected bike lanes, intersection safety and signal improvements, sidewalk repairs and new trees. Closes a critical gap for people walking, biking, and connecting to transit between West Oakland and Downtown\", \"a3_current_plan\": \"Yes\", \"b_sig_inter_new_bike_boxes\": 4.0, \"b_class_1\": null, \"b_class_2\": null, \"b_class_3\": null, \"b_class_4\": 7035.0, \"a4_bike_gap_pct\": null, \"b_light_intersection\": null, \"b_mid_block_new_rrfb_signal\": null, \"b_mid_block_surf_improv\": null, \"b_bsp_new_bikes\": null, \"b_bike_new_secured_lockers\": null, \"b_bike_new_racks\": null, \"b_bsp_new_station\": null, \"b_other_bike_improv_1\": null, \"b_other_bike_improv_qty_1\": null, \"b_other_bike_improv_2\": null, \"b_other_bike_improv_qty_2\": null, \"b_light_rdwy_seg\": null, \"b_sig_inter_timing_improv\": 8.0, \"b_un_sig_new_rrfb_signal\": null, \"b_un_sig_cross_surf_improv\": 9.0, \"a4_easement_support\": null, \"m_cls_1_trails_widen_recon_exist\": null, \"m_cls_1_trails_new__less_than_9\": null, \"m_cls_1_trails_new_over_9\": null, \"m_non_cls_trails_new\": null, \"m_other_trail_imprv_1\": null, \"m_other_trail_improv_qty_1\": null, \"m_other_trail_imprv_2\": null, \"m_other_trail_improv_qty_2\": null, \"m_non_cls_widen_recon_exist\": null, \"p_amenities_bench\": null, \"a4_ped_gap_pct\": null, \"p_mid_block_cross_new_rrfb_signal\": null, \"p_light_intersection\": null, \"p_lighting_rdwy_seg\": null, \"p_mid_block_cross_surf_improv\": null, \"p_new_ada_ramp\": null, \"p_sidewlks_new_barrier_protect\": null, \"p_sidewlks_new_4_to_8\": null, \"p_sidewlks_new_over_8\": null, \"p_other_ped_imprv_1\": null, \"p_other_ped_qty_1\": null, \"p_other_ped_imprv_2\": null, \"p_other_ped_qty_2\": null, \"p_reconstruct_ramp_to_ada_stand\": 65.0, \"p_sidewlks_reconstruct_enhance_exist\": 500.0, \"p_sig_inter_enhance_exist_crosswlk\": 31.0, \"p_sig_inter_new_crosswlk\": null, \"p_sig_inter_ped_heads\": null, \"p_sig_inter_shorten_cross\": 14.0, \"p_sig_inter_timing_improv\": 8.0, \"p_amenities_trash_can\": null, \"p_amenities_shade_tree\": null, \"p_amenities_shade_tree_type\": null, \"p_un_sig_inter_new_traff_sig\": null, \"p_un_sig_inter_new_roundabout\": null, \"p_un_sig_inter_new_rrfb_sig\": 1.0, \"p_un_sig_inter_shorten_cross\": 2.0, \"p_un_sig_inter_cross_surface_improv\": 1.0, \"p_sidewlks_widen_existing\": null, \"a4_row_100\": null, \"a4_row_gov_ease\": null, \"a4_row_private_ease\": null, \"v_other_traffic_calming_imprv_1\": null, \"v_speed_feedback_signs\": null, \"v_other_traffic_calming_qty_1\": null, \"v_other_traffic_calming_imprv_2\": null, \"v_other_traffic_calming_qty_2\": null, \"v_remove_right_turn_pocket\": 2.0, \"v_remove_travel_ln\": 8970.0, \"v_sig_inter_new_roundabout\": null, \"v_sig_inter_timing_improv\": null, \"v_un_sig_inter_new_traf_sig\": null, \"v_un_sig_inter_new_roundabout\": null, \"app_fk\": null, \"details_datetime_stamp\": \"\", \"a4_reg_init\": \"N\", \"a4_reg_init_pct\": 0, \"a4_com_init\": \"N\", \"a4_com_init_pct\": 0, \"a4_safe_route\": \"N\", \"a4_safe_route_pct\": 0, \"a4_fl_mile\": \"N\", \"a4_fl_mile_pct\": 0, \"a4_emp_based\": null, \"a4_emp_based_pct\": 0.0, \"a4_other_ni\": \"N\", \"a4_other_ni_descr\": null, \"a4_other_ni_pct\": 0, \"a4_wb_audits\": 0.0, \"a4_bike_classes\": 0.0, \"a4_ped_classes\": 0.0, \"a4_demo_events\": 0.0, \"a4_com_enc\": 0.0, \"a4_le_methods\": 0.0, \"a4_com_meetings\": 0.0, \"a4_classrooms\": 0.0, \"a4_school_assem\": 0.0, \"a4_after_school\": 0.0, \"a4_bike_rodeos\": 0.0, \"a4_mock_cities\": 0.0, \"a4_walk_bus\": 0.0, \"a4_bike_train\": 0.0, \"a4_com_challenges\": 0.0, \"a4_srts_enc\": 0.0, \"a4_srts_le\": 0.0, \"a4_srts_training\": 0.0, \"a4_act_other_1\": 0.0, \"a4_act_other_1_descr\": null, \"a4_act_other_2\": 0.0, \"a4_act_other_2_decr\": null, \"a4_comm_trad_media\": \"N\", \"a4_comm_large_media\": \"N\", \"a4_comm_print\": \"N\", \"a4_comm_social\": \"N\", \"a4_comm_web\": \"N\", \"a4_comm_other\": \"N\", \"a4_comm_other_descr\": null, \"a4_comm_language\": null, \"a4_collab_pub_health\": \"N\", \"a4_collab_le\": \"N\", \"a4_collab_non_profit\": \"N\", \"a4_collab_schools\": \"N\", \"a4_collab_pub_works\": \"N\", \"a4_collab_other\": \"N\", \"a4_colab_other_descr\": null, \"a4_plan_ped\": \"N\", \"a4_plan_bike\": \"N\", \"a4_plan_atp\": \"N\", \"a4_plan_school_routes\": \"N\", \"a4_row_open_street_demo\": \"No\", \"atp_id_x\": \"ATP5-04-011S\", \"a3_proj_type_x\": \"Infrastructure - Large\", \"agency_fully_own_r_w\": null, \"require_r_w_easement,_from_gov\": null, \"_require_rw_easement_from_private\": null, \"atp_id_y\": \"ATP5-4-011S\", \"ppno1\": null, \"oversight_id\": \"Standard\", \"a3_proj_type_y\": \"Infrastructure\", \"Total Project Cost\": 21037000.0, \"original_prog__amt___pa_ed_\": null, \"orig__prog__year__pa_ed_\": null, \"original_prog__amt___ps_e_\": null, \"orig__prog__year__ps_e_\": null, \"original_prog__amt___rw_\": null, \"orig__prog__year__rw_\": null, \"orignal_prog__amt___con_\": 14180000.0, \"orig__prog__year__con_\": \"24/25\", \"original_prog__amt___con_ni_\": null, \"orig__prog__year__con_ni_\": null, \"total\": 14180000.0, \"_2122_pa_ed\": null, \"_2122_ps_e\": null, \"_2122_rw\": null, \"_2122_con\": null, \"_2122_con_ni\": null, \"_2122_total\": 0.0, \"fund_year_1\": \"21/22\", \"_2223_pa_ed\": null, \"_2223_ps_e\": null, \"_2223_rw\": null, \"_2223_con\": null, \"_2223_con_ni\": null, \"_2223_total\": 0.0, \"fund_year_2\": \"22/23\", \"_2324_pa_ed\": null, \"_2324_ps_e\": null, \"_2324_rw\": null, \"_2324_con\": null, \"_2324_con_ni\": null, \"_2324_total\": 0.0, \"fund_year_3\": \"23/24\", \"_2425_pa_ed\": null, \"_2425_ps_e\": null, \"_2425_rw\": null, \"_2425_con\": 14180000.0, \"_2425_con_ni\": null, \"_2425_total\": 14180000.0, \"fund_year_4\": \"24/25\", \"Total ATP Funds\": 14180000.0, \"match_total_atp_$_and_total\": \"YES\", \"match_total_atp_$_and_total_atp_x_1000\": \"YES\", \"paed\": 0.0, \"ps_e_\": 0.0, \"rw\": 0.0, \"con\": 14180.0, \"con_ni\": 0.0, \"total_atp__000s_\": 14180.0, \"total_atp_x_1000\": 14180000.0, \"year__pa_ed_\": null, \"year__ps_e_\": null, \"year__rw_\": null, \"year__con_\": \"24/25\", \"year__con_ni_\": null, \"Implemeting Agency Name\": \"City of Oakland\"}, {\"Project ID\": \"4-Santa Clara County-1\", \"project_cycle\": 5, \"a1_locode\": 5937.0, \"#\": null, \"atp_id\": null, \"awarded\": \"Y\", \"ppno\": 2345, \"ppno_1\": null, \"data_origin\": \"Funded\", \"geometry\": null, \"project_status\": \"Active\", \"solicitation_abv\": \"S\", \"solicitation\": \"STATEWIDE SOLICITATION-CYCLE 5\", \"soliciting_agency\": \"CALTRANS\", \"project_size\": null, \"a1_imp_agcy_city\": \"San Jose\", \"a1_imp_agcy_name\": \"Santa Clara County\", \"a1_proj_partner_agcy\": null, \"a1_proj_partner_exists\": \"No \", \"assembly_district\": 30, \"congressional_district\": \"19, 20\", \"senate_district\": 17, \"County\": \"Santa Clara\", \"a2_ct_dist\": 4, \"a2_info_proj_descr\": \"Non-infrastructure 6 E\\u2019s project linking key community hubs via promotion of active transportation and providing SRTS technical assistance to schools in Gilroy, CA\", \"a2_info_proj_loc\": \"Location is the City of Gilroy, particularly focusing on East Gilroy neighborhood, along routes linking transit, health center, civic center, parks, faith center, and schools\", \"Project Name\": \"Active and Safe Routes to a Healthier City \", \"a2_mop_uza_population\": \"Project is located within one of the ten large MPOs\", \"a2_mpo\": \"MTC\", \"a2_rtpa\": \"None\", \"a2_proj_scope_summary\": \"Project Scope: Building on the 6 E\\u2019s model (education, encouragement, engagement, engineering, evaluation, and equity) implemented with the successful Safe Routes to School (SRTS) Program in Gilroy, the Santa Clara County Public Health Department (SCCPHD)\", \"a1_imp_agcy_fed_ma_num\": \"04-5937F15\", \"a1_imp_agcy_ma\": \"Yes\", \"a1_imp_agcy_state_ma_num\": \"04-5937F15\", \"a1_imp_agcy_street\": \"70 W Hedding\", \"a1_imp_agcy_title\": \"Senior Health Care Program Manager\", \"a1_imp_agcy_zip\": 95110, \"a1_letter_of_intent\": null, \"a1_proj_partner_title\": null, \"a2_assem_dist_a\": 30.0, \"a2_assem_dist_b\": null, \"a2_assem_dist_c\": null, \"a2_congress_dist_a\": 19.0, \"a2_congress_dist_b\": 20.0, \"a2_congress_dist_c\": null, \"a2_past_proj\": \"Yes                           \", \"a2_past_proj_qty\": 2, \"a2_proj_lat\": 37.0058, \"a2_proj_long\": 121.5683, \"a2_project_location_map\": null, \"a2_senate_dist_a\": 17.0, \"a2_senate_dist_b\": null, \"a2_senatedistc\": null, \"a3_plan_active_trans\": null, \"a3_plan_active_trans_exists\": \"No \", \"a3_plan_bicycle\": null, \"a3_plan_bicycle_exists\": \"No \", \"a3_plan_ped\": null, \"a3_plan_ped_exists\": \"No \", \"a3_plan_srts\": null, \"a3_plan_srts_exists\": \"Yes\", \"a3_proj_type\": null, \"a3_st_bicycle_applies\": \"Yes\", \"a3_st_bicycle_pct\": 50.0, \"a3_st_num_schools\": 2, \"a3_st_ped_applies\": \"Yes\", \"a3_st_ped_pct\": 50, \"a3_st_srts\": \"Yes\", \"a3_trail_elig_cost\": 0.0, \"a3_trail_fed_funding\": null, \"a3_trail_trans_pct\": null, \"a3_trails\": null, \"agency_app_num\": null, \"app_pk\": null, \"attch_addtl_attachments\": null, \"attch_app_sig_page\": null, \"attch_conditions_photos\": null, \"attch_conditions_project_map\": null, \"attch_engineeers_checklist\": null, \"attch_exhibit22_plan\": null, \"attch_letters_of_support\": null, \"attch_link\": null, \"attch_ni_workplan\": null, \"attch_project_estimate\": null, \"completed_pdf_form\": null, \"main_datetime_stamp\": \"\", \"a3_plan_none\": \"0\", \"a3_plan_other\": \"0\", \"a3_plan_other_desc\": null, \"a2_output_outcome\": \"Increased knowledge and awareness of walking and bicycling safety, practices, and resources; improved community engagement and advocacy for active transportation; increase in walking and bicycling rates; and improved policy and practice changes supporting\", \"a3_current_plan\": \"No\", \"b_sig_inter_new_bike_boxes\": null, \"b_class_1\": null, \"b_class_2\": null, \"b_class_3\": null, \"b_class_4\": null, \"a4_bike_gap_pct\": null, \"b_light_intersection\": null, \"b_mid_block_new_rrfb_signal\": null, \"b_mid_block_surf_improv\": null, \"b_bsp_new_bikes\": null, \"b_bike_new_secured_lockers\": null, \"b_bike_new_racks\": null, \"b_bsp_new_station\": null, \"b_other_bike_improv_1\": null, \"b_other_bike_improv_qty_1\": null, \"b_other_bike_improv_2\": null, \"b_other_bike_improv_qty_2\": null, \"b_light_rdwy_seg\": null, \"b_sig_inter_timing_improv\": null, \"b_un_sig_new_rrfb_signal\": null, \"b_un_sig_cross_surf_improv\": null, \"a4_easement_support\": null, \"m_cls_1_trails_widen_recon_exist\": null, \"m_cls_1_trails_new__less_than_9\": null, \"m_cls_1_trails_new_over_9\": null, \"m_non_cls_trails_new\": null, \"m_other_trail_imprv_1\": null, \"m_other_trail_improv_qty_1\": null, \"m_other_trail_imprv_2\": null, \"m_other_trail_improv_qty_2\": null, \"m_non_cls_widen_recon_exist\": null, \"p_amenities_bench\": null, \"a4_ped_gap_pct\": null, \"p_mid_block_cross_new_rrfb_signal\": null, \"p_light_intersection\": null, \"p_lighting_rdwy_seg\": null, \"p_mid_block_cross_surf_improv\": null, \"p_new_ada_ramp\": null, \"p_sidewlks_new_barrier_protect\": null, \"p_sidewlks_new_4_to_8\": null, \"p_sidewlks_new_over_8\": null, \"p_other_ped_imprv_1\": null, \"p_other_ped_qty_1\": null, \"p_other_ped_imprv_2\": null, \"p_other_ped_qty_2\": null, \"p_reconstruct_ramp_to_ada_stand\": null, \"p_sidewlks_reconstruct_enhance_exist\": null, \"p_sig_inter_enhance_exist_crosswlk\": null, \"p_sig_inter_new_crosswlk\": null, \"p_sig_inter_ped_heads\": null, \"p_sig_inter_shorten_cross\": null, \"p_sig_inter_timing_improv\": null, \"p_amenities_trash_can\": null, \"p_amenities_shade_tree\": null, \"p_amenities_shade_tree_type\": null, \"p_un_sig_inter_new_traff_sig\": null, \"p_un_sig_inter_new_roundabout\": null, \"p_un_sig_inter_new_rrfb_sig\": null, \"p_un_sig_inter_shorten_cross\": null, \"p_un_sig_inter_cross_surface_improv\": null, \"p_sidewlks_widen_existing\": null, \"a4_row_100\": null, \"a4_row_gov_ease\": null, \"a4_row_private_ease\": null, \"v_other_traffic_calming_imprv_1\": null, \"v_speed_feedback_signs\": null, \"v_other_traffic_calming_qty_1\": null, \"v_other_traffic_calming_imprv_2\": null, \"v_other_traffic_calming_qty_2\": null, \"v_remove_right_turn_pocket\": null, \"v_remove_travel_ln\": null, \"v_sig_inter_new_roundabout\": null, \"v_sig_inter_timing_improv\": null, \"v_un_sig_inter_new_traf_sig\": null, \"v_un_sig_inter_new_roundabout\": null, \"app_fk\": null, \"details_datetime_stamp\": \"\", \"a4_reg_init\": \"N\", \"a4_reg_init_pct\": 0, \"a4_com_init\": \"Y\", \"a4_com_init_pct\": 70, \"a4_safe_route\": \"Y\", \"a4_safe_route_pct\": 30, \"a4_fl_mile\": \"N\", \"a4_fl_mile_pct\": 0, \"a4_emp_based\": null, \"a4_emp_based_pct\": 0.0, \"a4_other_ni\": \"N\", \"a4_other_ni_descr\": null, \"a4_other_ni_pct\": 0, \"a4_wb_audits\": 3.0, \"a4_bike_classes\": 3.0, \"a4_ped_classes\": 3.0, \"a4_demo_events\": 3.0, \"a4_com_enc\": 3.0, \"a4_le_methods\": 0.0, \"a4_com_meetings\": 17.0, \"a4_classrooms\": 0.0, \"a4_school_assem\": 0.0, \"a4_after_school\": 0.0, \"a4_bike_rodeos\": 0.0, \"a4_mock_cities\": 0.0, \"a4_walk_bus\": 0.0, \"a4_bike_train\": 0.0, \"a4_com_challenges\": 0.0, \"a4_srts_enc\": 2.0, \"a4_srts_le\": 0.0, \"a4_srts_training\": 7.0, \"a4_act_other_1\": 3.0, \"a4_act_other_1_descr\": \"policy, environmental, or practice changes at community hubs\", \"a4_act_other_2\": 0.0, \"a4_act_other_2_decr\": null, \"a4_comm_trad_media\": \"Y\", \"a4_comm_large_media\": \"Y\", \"a4_comm_print\": \"Y\", \"a4_comm_social\": \"Y\", \"a4_comm_web\": \"N\", \"a4_comm_other\": \"Y\", \"a4_comm_other_descr\": \"Guidebook/Toolkit\", \"a4_comm_language\": \"Spanish, English\", \"a4_collab_pub_health\": \"Y\", \"a4_collab_le\": \"N\", \"a4_collab_non_profit\": \"Y\", \"a4_collab_schools\": \"Y\", \"a4_collab_pub_works\": \"Y\", \"a4_collab_other\": \"Y\", \"a4_colab_other_descr\": \"Local Agencies, nonprofits, neighborhood groups, clinics, Mayor, Parks and Recreation, BPAC\", \"a4_plan_ped\": \"N\", \"a4_plan_bike\": \"N\", \"a4_plan_atp\": \"N\", \"a4_plan_school_routes\": \"N\", \"a4_row_open_street_demo\": \"No\", \"atp_id_x\": \"ATP5-04-015S\", \"a3_proj_type_x\": \"Non-Infrastructure\", \"agency_fully_own_r_w\": null, \"require_r_w_easement,_from_gov\": null, \"_require_rw_easement_from_private\": null, \"atp_id_y\": \"ATP5-4-015S\", \"ppno1\": null, \"oversight_id\": \"Standard\", \"a3_proj_type_y\": \"Non-Infrastructure\", \"Total Project Cost\": 2510000.0, \"original_prog__amt___pa_ed_\": null, \"orig__prog__year__pa_ed_\": null, \"original_prog__amt___ps_e_\": null, \"orig__prog__year__ps_e_\": null, \"original_prog__amt___rw_\": null, \"orig__prog__year__rw_\": null, \"orignal_prog__amt___con_\": null, \"orig__prog__year__con_\": null, \"original_prog__amt___con_ni_\": 2510000.0, \"orig__prog__year__con_ni_\": \"21/22\", \"total\": 2510000.0, \"_2122_pa_ed\": null, \"_2122_ps_e\": null, \"_2122_rw\": null, \"_2122_con\": null, \"_2122_con_ni\": 2510000.0, \"_2122_total\": 2510000.0, \"fund_year_1\": \"21/22\", \"_2223_pa_ed\": null, \"_2223_ps_e\": null, \"_2223_rw\": null, \"_2223_con\": null, \"_2223_con_ni\": null, \"_2223_total\": 0.0, \"fund_year_2\": \"22/23\", \"_2324_pa_ed\": null, \"_2324_ps_e\": null, \"_2324_rw\": null, \"_2324_con\": null, \"_2324_con_ni\": null, \"_2324_total\": 0.0, \"fund_year_3\": \"23/24\", \"_2425_pa_ed\": null, \"_2425_ps_e\": null, \"_2425_rw\": null, \"_2425_con\": null, \"_2425_con_ni\": null, \"_2425_total\": 0.0, \"fund_year_4\": \"24/25\", \"Total ATP Funds\": 2510000.0, \"match_total_atp_$_and_total\": \"YES\", \"match_total_atp_$_and_total_atp_x_1000\": \"YES\", \"paed\": 0.0, \"ps_e_\": 0.0, \"rw\": 0.0, \"con\": 0.0, \"con_ni\": 2510.0, \"total_atp__000s_\": 2510.0, \"total_atp_x_1000\": 2510000.0, \"year__pa_ed_\": null, \"year__ps_e_\": null, \"year__rw_\": null, \"year__con_\": null, \"year__con_ni_\": \"21/22\", \"Implemeting Agency Name\": \"Santa Clara County\"}, {\"Project ID\": \"4-Oakland, City of-2\", \"project_cycle\": 5, \"a1_locode\": 5012.0, \"#\": null, \"atp_id\": null, \"awarded\": \"Y\", \"ppno\": 2346, \"ppno_1\": null, \"data_origin\": \"Funded\", \"geometry\": null, \"project_status\": \"Active\", \"solicitation_abv\": \"S\", \"solicitation\": \"STATEWIDE SOLICITATION-CYCLE 5\", \"soliciting_agency\": \"CALTRANS\", \"project_size\": \"Large\", \"a1_imp_agcy_city\": \"Oakland\", \"a1_imp_agcy_name\": \"Oakland, City of\", \"a1_proj_partner_agcy\": null, \"a1_proj_partner_exists\": \"No \", \"assembly_district\": 18, \"congressional_district\": 13, \"senate_district\": 9, \"County\": \"Alameda\", \"a2_ct_dist\": 4, \"a2_info_proj_descr\": \"Neighborhood bike routes on four corridors in East Oakland linking residents to schools, parks, transit, grocery stores and other community destinations. \", \"a2_info_proj_loc\": \"Neighborhood bike routes on 81st Avenue, 85th Avenue, 64th Avenue/Arthur Street, and Hamilton Street/Rudsdale Street/D Street/Royal Ann Street in East Oakland.\", \"Project Name\": \"East Oakland Neighborhood Bike Routes\", \"a2_mop_uza_population\": \"Project is located within one of the ten large MPOs\", \"a2_mpo\": \"MTC\", \"a2_rtpa\": \"None\", \"a2_proj_scope_summary\": \"East Oakland's street network currently presents significant challenges for those wishing to walk and bike, including wide, multi-lane arterial roads with speeding and often reckless drivers. This project will create alternatives to biking along these hig\", \"a1_imp_agcy_fed_ma_num\": \"04-5012R\", \"a1_imp_agcy_ma\": \"Yes\", \"a1_imp_agcy_state_ma_num\": \"00099S\", \"a1_imp_agcy_street\": \"250 Frank H Ogawa Plaza\", \"a1_imp_agcy_title\": \"Funding Program Manager\", \"a1_imp_agcy_zip\": 94612, \"a1_letter_of_intent\": null, \"a1_proj_partner_title\": null, \"a2_assem_dist_a\": 18.0, \"a2_assem_dist_b\": null, \"a2_assem_dist_c\": null, \"a2_congress_dist_a\": 13.0, \"a2_congress_dist_b\": null, \"a2_congress_dist_c\": null, \"a2_past_proj\": \"No                            \", \"a2_past_proj_qty\": 0, \"a2_proj_lat\": 37.750995, \"a2_proj_long\": -122.18217, \"a2_project_location_map\": null, \"a2_senate_dist_a\": 9.0, \"a2_senate_dist_b\": null, \"a2_senatedistc\": null, \"a3_plan_active_trans\": null, \"a3_plan_active_trans_exists\": \"No \", \"a3_plan_bicycle\": null, \"a3_plan_bicycle_exists\": \"Yes\", \"a3_plan_ped\": null, \"a3_plan_ped_exists\": \"Yes\", \"a3_plan_srts\": null, \"a3_plan_srts_exists\": \"No \", \"a3_proj_type\": null, \"a3_st_bicycle_applies\": \"Yes\", \"a3_st_bicycle_pct\": 90.0, \"a3_st_num_schools\": 0, \"a3_st_ped_applies\": \"Yes\", \"a3_st_ped_pct\": 10, \"a3_st_srts\": \"No \", \"a3_trail_elig_cost\": 0.0, \"a3_trail_fed_funding\": null, \"a3_trail_trans_pct\": null, \"a3_trails\": null, \"agency_app_num\": null, \"app_pk\": null, \"attch_addtl_attachments\": null, \"attch_app_sig_page\": null, \"attch_conditions_photos\": null, \"attch_conditions_project_map\": null, \"attch_engineeers_checklist\": null, \"attch_exhibit22_plan\": null, \"attch_letters_of_support\": null, \"attch_link\": null, \"attch_ni_workplan\": null, \"attch_project_estimate\": null, \"completed_pdf_form\": null, \"main_datetime_stamp\": \"\", \"a3_plan_none\": \"No\", \"a3_plan_other\": \"No\", \"a3_plan_other_desc\": null, \"a2_output_outcome\": \"Construction of four Class III bicycle boulevards in East Oakland including new curb ramps, high visibility crosswalks, neighborhood traffic circles, speed humps, pavement markings, wayfinding signage, roadway repaving, and signal timing modifications.  \", \"a3_current_plan\": \"Yes\", \"b_sig_inter_new_bike_boxes\": null, \"b_class_1\": null, \"b_class_2\": 225.0, \"b_class_3\": 30780.0, \"b_class_4\": null, \"a4_bike_gap_pct\": null, \"b_light_intersection\": null, \"b_mid_block_new_rrfb_signal\": null, \"b_mid_block_surf_improv\": null, \"b_bsp_new_bikes\": null, \"b_bike_new_secured_lockers\": null, \"b_bike_new_racks\": null, \"b_bsp_new_station\": null, \"b_other_bike_improv_1\": \"Two Stage Left Turn Box\", \"b_other_bike_improv_qty_1\": 4.0, \"b_other_bike_improv_2\": \"Green Backed Sharrow \", \"b_other_bike_improv_qty_2\": 30.0, \"b_light_rdwy_seg\": null, \"b_sig_inter_timing_improv\": 5.0, \"b_un_sig_new_rrfb_signal\": null, \"b_un_sig_cross_surf_improv\": null, \"a4_easement_support\": null, \"m_cls_1_trails_widen_recon_exist\": null, \"m_cls_1_trails_new__less_than_9\": null, \"m_cls_1_trails_new_over_9\": null, \"m_non_cls_trails_new\": null, \"m_other_trail_imprv_1\": null, \"m_other_trail_improv_qty_1\": null, \"m_other_trail_imprv_2\": null, \"m_other_trail_improv_qty_2\": null, \"m_non_cls_widen_recon_exist\": null, \"p_amenities_bench\": null, \"a4_ped_gap_pct\": null, \"p_mid_block_cross_new_rrfb_signal\": null, \"p_light_intersection\": null, \"p_lighting_rdwy_seg\": null, \"p_mid_block_cross_surf_improv\": null, \"p_new_ada_ramp\": 269.0, \"p_sidewlks_new_barrier_protect\": null, \"p_sidewlks_new_4_to_8\": null, \"p_sidewlks_new_over_8\": null, \"p_other_ped_imprv_1\": \"Pedestrian Hybrid Beacon\", \"p_other_ped_qty_1\": 2.0, \"p_other_ped_imprv_2\": null, \"p_other_ped_qty_2\": null, \"p_reconstruct_ramp_to_ada_stand\": 37.0, \"p_sidewlks_reconstruct_enhance_exist\": null, \"p_sig_inter_enhance_exist_crosswlk\": 49.0, \"p_sig_inter_new_crosswlk\": 157.0, \"p_sig_inter_ped_heads\": 4.0, \"p_sig_inter_shorten_cross\": 4.0, \"p_sig_inter_timing_improv\": null, \"p_amenities_trash_can\": null, \"p_amenities_shade_tree\": null, \"p_amenities_shade_tree_type\": null, \"p_un_sig_inter_new_traff_sig\": null, \"p_un_sig_inter_new_roundabout\": 6.0, \"p_un_sig_inter_new_rrfb_sig\": 2.0, \"p_un_sig_inter_shorten_cross\": 18.0, \"p_un_sig_inter_cross_surface_improv\": null, \"p_sidewlks_widen_existing\": null, \"a4_row_100\": null, \"a4_row_gov_ease\": null, \"a4_row_private_ease\": null, \"v_other_traffic_calming_imprv_1\": \"Speed bumps\", \"v_speed_feedback_signs\": null, \"v_other_traffic_calming_qty_1\": 81.0, \"v_other_traffic_calming_imprv_2\": null, \"v_other_traffic_calming_qty_2\": null, \"v_remove_right_turn_pocket\": null, \"v_remove_travel_ln\": null, \"v_sig_inter_new_roundabout\": null, \"v_sig_inter_timing_improv\": null, \"v_un_sig_inter_new_traf_sig\": null, \"v_un_sig_inter_new_roundabout\": null, \"app_fk\": null, \"details_datetime_stamp\": \"\", \"a4_reg_init\": \"N\", \"a4_reg_init_pct\": 0, \"a4_com_init\": \"N\", \"a4_com_init_pct\": 0, \"a4_safe_route\": \"N\", \"a4_safe_route_pct\": 0, \"a4_fl_mile\": \"N\", \"a4_fl_mile_pct\": 0, \"a4_emp_based\": null, \"a4_emp_based_pct\": 0.0, \"a4_other_ni\": \"N\", \"a4_other_ni_descr\": null, \"a4_other_ni_pct\": 0, \"a4_wb_audits\": 0.0, \"a4_bike_classes\": 0.0, \"a4_ped_classes\": 0.0, \"a4_demo_events\": 0.0, \"a4_com_enc\": 0.0, \"a4_le_methods\": 0.0, \"a4_com_meetings\": 0.0, \"a4_classrooms\": 0.0, \"a4_school_assem\": 0.0, \"a4_after_school\": 0.0, \"a4_bike_rodeos\": 0.0, \"a4_mock_cities\": 0.0, \"a4_walk_bus\": 0.0, \"a4_bike_train\": 0.0, \"a4_com_challenges\": 0.0, \"a4_srts_enc\": 0.0, \"a4_srts_le\": 0.0, \"a4_srts_training\": 0.0, \"a4_act_other_1\": 0.0, \"a4_act_other_1_descr\": null, \"a4_act_other_2\": 0.0, \"a4_act_other_2_decr\": null, \"a4_comm_trad_media\": \"N\", \"a4_comm_large_media\": \"N\", \"a4_comm_print\": \"N\", \"a4_comm_social\": \"N\", \"a4_comm_web\": \"N\", \"a4_comm_other\": \"N\", \"a4_comm_other_descr\": null, \"a4_comm_language\": null, \"a4_collab_pub_health\": \"N\", \"a4_collab_le\": \"N\", \"a4_collab_non_profit\": \"N\", \"a4_collab_schools\": \"N\", \"a4_collab_pub_works\": \"N\", \"a4_collab_other\": \"N\", \"a4_colab_other_descr\": null, \"a4_plan_ped\": \"N\", \"a4_plan_bike\": \"N\", \"a4_plan_atp\": \"N\", \"a4_plan_school_routes\": \"N\", \"a4_row_open_street_demo\": \"No\", \"atp_id_x\": \"ATP5-04-033S\", \"a3_proj_type_x\": \"Infrastructure - Large\", \"agency_fully_own_r_w\": null, \"require_r_w_easement,_from_gov\": null, \"_require_rw_easement_from_private\": null, \"atp_id_y\": \"ATP5-4-033S\", \"ppno1\": null, \"oversight_id\": \"Standard\", \"a3_proj_type_y\": \"Infrastructure\", \"Total Project Cost\": 21859000.0, \"original_prog__amt___pa_ed_\": null, \"orig__prog__year__pa_ed_\": null, \"original_prog__amt___ps_e_\": null, \"orig__prog__year__ps_e_\": null, \"original_prog__amt___rw_\": null, \"orig__prog__year__rw_\": null, \"orignal_prog__amt___con_\": 17269000.0, \"orig__prog__year__con_\": \"23/24\", \"original_prog__amt___con_ni_\": null, \"orig__prog__year__con_ni_\": null, \"total\": 17269000.0, \"_2122_pa_ed\": null, \"_2122_ps_e\": null, \"_2122_rw\": null, \"_2122_con\": null, \"_2122_con_ni\": null, \"_2122_total\": 0.0, \"fund_year_1\": \"21/22\", \"_2223_pa_ed\": null, \"_2223_ps_e\": null, \"_2223_rw\": null, \"_2223_con\": null, \"_2223_con_ni\": null, \"_2223_total\": 0.0, \"fund_year_2\": \"22/23\", \"_2324_pa_ed\": null, \"_2324_ps_e\": null, \"_2324_rw\": null, \"_2324_con\": 17269000.0, \"_2324_con_ni\": null, \"_2324_total\": 17269000.0, \"fund_year_3\": \"23/24\", \"_2425_pa_ed\": null, \"_2425_ps_e\": null, \"_2425_rw\": null, \"_2425_con\": null, \"_2425_con_ni\": null, \"_2425_total\": 0.0, \"fund_year_4\": \"24/25\", \"Total ATP Funds\": 17269000.0, \"match_total_atp_$_and_total\": \"YES\", \"match_total_atp_$_and_total_atp_x_1000\": \"YES\", \"paed\": 0.0, \"ps_e_\": 0.0, \"rw\": 0.0, \"con\": 17269.0, \"con_ni\": 0.0, \"total_atp__000s_\": 17269.0, \"total_atp_x_1000\": 17269000.0, \"year__pa_ed_\": null, \"year__ps_e_\": null, \"year__rw_\": null, \"year__con_\": \"23/24\", \"year__con_ni_\": null, \"Implemeting Agency Name\": \"City of Oakland\"}, {\"Project ID\": \"4-Contra Costa County-2\", \"project_cycle\": 5, \"a1_locode\": 5928.0, \"#\": null, \"atp_id\": null, \"awarded\": \"Y\", \"ppno\": 2344, \"ppno_1\": null, \"data_origin\": \"Funded\", \"geometry\": null, \"project_status\": \"Active\", \"solicitation_abv\": \"S\", \"solicitation\": \"STATEWIDE SOLICITATION-CYCLE 5\", \"soliciting_agency\": \"CALTRANS\", \"project_size\": \"Medium\", \"a1_imp_agcy_city\": \"Martinez\", \"a1_imp_agcy_name\": \"Contra Costa County\", \"a1_proj_partner_agcy\": null, \"a1_proj_partner_exists\": \"No \", \"assembly_district\": 14, \"congressional_district\": 11, \"senate_district\": 7, \"County\": \"Contra Costa\", \"a2_ct_dist\": 4, \"a2_info_proj_descr\": \"Construct two-way cycle track, ADA-compliant curb ramps, ADA-accessible sidewalks, traffic signal, and reconfigure travel lanes on Bailey Road between Willow Pass and Canal Roads.\", \"a2_info_proj_loc\": \"Bailey Road in unincorporated Bay Point, bounded by Willow Pass Road to the north and Canal Road on the south.\", \"Project Name\": \"North Bailey Road Active Transportation Corridor\", \"a2_mop_uza_population\": \"Project is located within one of the ten large MPOs\", \"a2_mpo\": \"MTC\", \"a2_rtpa\": \"None\", \"a2_proj_scope_summary\": \"The goal of the North Bailey Road Active Transportation Corridor Project is to improve the pedestrian and bicycle environment along Bailey Road in Bay Point in accordance with the 2010 Bailey Road Pedestrian and Bicycle Improvement Plan (Plan). The Plan p\", \"a1_imp_agcy_fed_ma_num\": \"04-5928F15\", \"a1_imp_agcy_ma\": \"Yes\", \"a1_imp_agcy_state_ma_num\": \"00393S\", \"a1_imp_agcy_street\": \"255 Glacier Drive\", \"a1_imp_agcy_title\": \"Associate Civil Engineer\", \"a1_imp_agcy_zip\": 94553, \"a1_letter_of_intent\": null, \"a1_proj_partner_title\": null, \"a2_assem_dist_a\": 14.0, \"a2_assem_dist_b\": null, \"a2_assem_dist_c\": null, \"a2_congress_dist_a\": 11.0, \"a2_congress_dist_b\": null, \"a2_congress_dist_c\": null, \"a2_past_proj\": \"Yes                           \", \"a2_past_proj_qty\": 1, \"a2_proj_lat\": 38.024157, \"a2_proj_long\": 121.941956, \"a2_project_location_map\": null, \"a2_senate_dist_a\": 7.0, \"a2_senate_dist_b\": null, \"a2_senatedistc\": null, \"a3_plan_active_trans\": null, \"a3_plan_active_trans_exists\": \"No \", \"a3_plan_bicycle\": null, \"a3_plan_bicycle_exists\": \"Yes\", \"a3_plan_ped\": null, \"a3_plan_ped_exists\": \"Yes\", \"a3_plan_srts\": null, \"a3_plan_srts_exists\": \"No \", \"a3_proj_type\": null, \"a3_st_bicycle_applies\": \"Yes\", \"a3_st_bicycle_pct\": 50.0, \"a3_st_num_schools\": 1, \"a3_st_ped_applies\": \"Yes\", \"a3_st_ped_pct\": 50, \"a3_st_srts\": \"Yes\", \"a3_trail_elig_cost\": 0.0, \"a3_trail_fed_funding\": null, \"a3_trail_trans_pct\": null, \"a3_trails\": null, \"agency_app_num\": null, \"app_pk\": null, \"attch_addtl_attachments\": null, \"attch_app_sig_page\": null, \"attch_conditions_photos\": null, \"attch_conditions_project_map\": null, \"attch_engineeers_checklist\": null, \"attch_exhibit22_plan\": null, \"attch_letters_of_support\": null, \"attch_link\": null, \"attch_ni_workplan\": null, \"attch_project_estimate\": null, \"completed_pdf_form\": null, \"main_datetime_stamp\": \"\", \"a3_plan_none\": \"No\", \"a3_plan_other\": \"Yes\", \"a3_plan_other_desc\": \"Bailey Road Pedestrian and Bicycle Improvement Plan\\u00a0\", \"a2_output_outcome\": \"Reconfiguring roadway with ADA-compliant, buffered sidewalks, narrower travel lanes, a separated two-way cycle track, a new traffic signal, and enhanced pedestrian crossings will provide additional safety for bicyclists and pedestrians on this busy arteri\", \"a3_current_plan\": \"Yes\", \"b_sig_inter_new_bike_boxes\": null, \"b_class_1\": null, \"b_class_2\": null, \"b_class_3\": null, \"b_class_4\": 4390.0, \"a4_bike_gap_pct\": null, \"b_light_intersection\": null, \"b_mid_block_new_rrfb_signal\": null, \"b_mid_block_surf_improv\": null, \"b_bsp_new_bikes\": null, \"b_bike_new_secured_lockers\": null, \"b_bike_new_racks\": null, \"b_bsp_new_station\": null, \"b_other_bike_improv_1\": null, \"b_other_bike_improv_qty_1\": null, \"b_other_bike_improv_2\": null, \"b_other_bike_improv_qty_2\": null, \"b_light_rdwy_seg\": null, \"b_sig_inter_timing_improv\": null, \"b_un_sig_new_rrfb_signal\": null, \"b_un_sig_cross_surf_improv\": null, \"a4_easement_support\": null, \"m_cls_1_trails_widen_recon_exist\": null, \"m_cls_1_trails_new__less_than_9\": null, \"m_cls_1_trails_new_over_9\": null, \"m_non_cls_trails_new\": null, \"m_other_trail_imprv_1\": null, \"m_other_trail_improv_qty_1\": null, \"m_other_trail_imprv_2\": null, \"m_other_trail_improv_qty_2\": null, \"m_non_cls_widen_recon_exist\": null, \"p_amenities_bench\": null, \"a4_ped_gap_pct\": null, \"p_mid_block_cross_new_rrfb_signal\": null, \"p_light_intersection\": null, \"p_lighting_rdwy_seg\": null, \"p_mid_block_cross_surf_improv\": null, \"p_new_ada_ramp\": 1.0, \"p_sidewlks_new_barrier_protect\": 4390.0, \"p_sidewlks_new_4_to_8\": null, \"p_sidewlks_new_over_8\": null, \"p_other_ped_imprv_1\": null, \"p_other_ped_qty_1\": null, \"p_other_ped_imprv_2\": null, \"p_other_ped_qty_2\": null, \"p_reconstruct_ramp_to_ada_stand\": 9.0, \"p_sidewlks_reconstruct_enhance_exist\": 4390.0, \"p_sig_inter_enhance_exist_crosswlk\": null, \"p_sig_inter_new_crosswlk\": 1.0, \"p_sig_inter_ped_heads\": 2.0, \"p_sig_inter_shorten_cross\": 2.0, \"p_sig_inter_timing_improv\": null, \"p_amenities_trash_can\": null, \"p_amenities_shade_tree\": 18.0, \"p_amenities_shade_tree_type\": null, \"p_un_sig_inter_new_traff_sig\": 1.0, \"p_un_sig_inter_new_roundabout\": null, \"p_un_sig_inter_new_rrfb_sig\": null, \"p_un_sig_inter_shorten_cross\": 1.0, \"p_un_sig_inter_cross_surface_improv\": null, \"p_sidewlks_widen_existing\": null, \"a4_row_100\": null, \"a4_row_gov_ease\": null, \"a4_row_private_ease\": null, \"v_other_traffic_calming_imprv_1\": null, \"v_speed_feedback_signs\": null, \"v_other_traffic_calming_qty_1\": null, \"v_other_traffic_calming_imprv_2\": null, \"v_other_traffic_calming_qty_2\": null, \"v_remove_right_turn_pocket\": null, \"v_remove_travel_ln\": null, \"v_sig_inter_new_roundabout\": null, \"v_sig_inter_timing_improv\": null, \"v_un_sig_inter_new_traf_sig\": null, \"v_un_sig_inter_new_roundabout\": null, \"app_fk\": null, \"details_datetime_stamp\": \"\", \"a4_reg_init\": \"N\", \"a4_reg_init_pct\": 0, \"a4_com_init\": \"N\", \"a4_com_init_pct\": 0, \"a4_safe_route\": \"N\", \"a4_safe_route_pct\": 0, \"a4_fl_mile\": \"N\", \"a4_fl_mile_pct\": 0, \"a4_emp_based\": null, \"a4_emp_based_pct\": 0.0, \"a4_other_ni\": \"N\", \"a4_other_ni_descr\": null, \"a4_other_ni_pct\": 0, \"a4_wb_audits\": 0.0, \"a4_bike_classes\": 0.0, \"a4_ped_classes\": 0.0, \"a4_demo_events\": 0.0, \"a4_com_enc\": 0.0, \"a4_le_methods\": 0.0, \"a4_com_meetings\": 0.0, \"a4_classrooms\": 0.0, \"a4_school_assem\": 0.0, \"a4_after_school\": 0.0, \"a4_bike_rodeos\": 0.0, \"a4_mock_cities\": 0.0, \"a4_walk_bus\": 0.0, \"a4_bike_train\": 0.0, \"a4_com_challenges\": 0.0, \"a4_srts_enc\": 0.0, \"a4_srts_le\": 0.0, \"a4_srts_training\": 0.0, \"a4_act_other_1\": 0.0, \"a4_act_other_1_descr\": null, \"a4_act_other_2\": 0.0, \"a4_act_other_2_decr\": null, \"a4_comm_trad_media\": \"N\", \"a4_comm_large_media\": \"N\", \"a4_comm_print\": \"N\", \"a4_comm_social\": \"N\", \"a4_comm_web\": \"N\", \"a4_comm_other\": \"N\", \"a4_comm_other_descr\": null, \"a4_comm_language\": null, \"a4_collab_pub_health\": \"N\", \"a4_collab_le\": \"N\", \"a4_collab_non_profit\": \"N\", \"a4_collab_schools\": \"N\", \"a4_collab_pub_works\": \"N\", \"a4_collab_other\": \"N\", \"a4_colab_other_descr\": null, \"a4_plan_ped\": \"N\", \"a4_plan_bike\": \"N\", \"a4_plan_atp\": \"N\", \"a4_plan_school_routes\": \"N\", \"a4_row_open_street_demo\": \"No\", \"atp_id_x\": \"ATP5-04-030S\", \"a3_proj_type_x\": \"Infrastructure - Medium\", \"agency_fully_own_r_w\": \"X\", \"require_r_w_easement,_from_gov\": null, \"_require_rw_easement_from_private\": null, \"atp_id_y\": \"ATP5-4-030S\", \"ppno1\": null, \"oversight_id\": \"Standard\", \"a3_proj_type_y\": \"Infrastructure\", \"Total Project Cost\": 6845000.0, \"original_prog__amt___pa_ed_\": 499000.0, \"orig__prog__year__pa_ed_\": \"21/22\", \"original_prog__amt___ps_e_\": null, \"orig__prog__year__ps_e_\": null, \"original_prog__amt___rw_\": null, \"orig__prog__year__rw_\": null, \"orignal_prog__amt___con_\": 5660000.0, \"orig__prog__year__con_\": \"23/24\", \"original_prog__amt___con_ni_\": null, \"orig__prog__year__con_ni_\": null, \"total\": 6159000.0, \"_2122_pa_ed\": 499000.0, \"_2122_ps_e\": null, \"_2122_rw\": null, \"_2122_con\": null, \"_2122_con_ni\": null, \"_2122_total\": 499000.0, \"fund_year_1\": \"21/22\", \"_2223_pa_ed\": null, \"_2223_ps_e\": null, \"_2223_rw\": null, \"_2223_con\": null, \"_2223_con_ni\": null, \"_2223_total\": 0.0, \"fund_year_2\": \"22/23\", \"_2324_pa_ed\": null, \"_2324_ps_e\": null, \"_2324_rw\": null, \"_2324_con\": 5660000.0, \"_2324_con_ni\": null, \"_2324_total\": 5660000.0, \"fund_year_3\": \"23/24\", \"_2425_pa_ed\": null, \"_2425_ps_e\": null, \"_2425_rw\": null, \"_2425_con\": null, \"_2425_con_ni\": null, \"_2425_total\": 0.0, \"fund_year_4\": \"24/25\", \"Total ATP Funds\": 6159000.0, \"match_total_atp_$_and_total\": \"YES\", \"match_total_atp_$_and_total_atp_x_1000\": \"YES\", \"paed\": 499.0, \"ps_e_\": 0.0, \"rw\": 0.0, \"con\": 5660.0, \"con_ni\": 0.0, \"total_atp__000s_\": 6159.0, \"total_atp_x_1000\": 6159000.0, \"year__pa_ed_\": \"21/22\", \"year__ps_e_\": null, \"year__rw_\": null, \"year__con_\": \"23/24\", \"year__con_ni_\": null, \"Implemeting Agency Name\": \"Contra Costa County\"}, {\"Project ID\": \"4-Fairfield, City of-1\", \"project_cycle\": 5, \"a1_locode\": 5132.0, \"#\": null, \"atp_id\": null, \"awarded\": \"Y\", \"ppno\": \"2343A\", \"ppno_1\": \"2343B\", \"data_origin\": \"Funded\", \"geometry\": null, \"project_status\": \"Active\", \"solicitation_abv\": \"S\", \"solicitation\": \"STATEWIDE SOLICITATION-CYCLE 5\", \"soliciting_agency\": \"CALTRANS\", \"project_size\": \"Large\", \"a1_imp_agcy_city\": \"Fairfield\", \"a1_imp_agcy_name\": \"Fairfield, City of\", \"a1_proj_partner_agcy\": null, \"a1_proj_partner_exists\": \"No \", \"assembly_district\": 11, \"congressional_district\": 3, \"senate_district\": 3, \"County\": \"Solano\", \"a2_ct_dist\": 4, \"a2_info_proj_descr\": \"Construct Class IV separated bikeways with Class II buffered bike lane segment, new 1 traffic signal and 2 new marked crosswalks, curb extensions; non-infrastructure programs\", \"a2_info_proj_loc\": \"West Texas Street between Beck Avenue and Pennsylvania Avenue\", \"Project Name\": \"West Texas Street Complete Streets Project\", \"a2_mop_uza_population\": \"Project is located within one of the ten large MPOs\", \"a2_mpo\": \"MTC\", \"a2_rtpa\": \"None\", \"a2_proj_scope_summary\": \"Located adjacent to downtown Fairfield, this project modernizes a relinquished highway to improve conditions for bicyclists and pedestrians traveling along West Texas Street between Beck Avenue and Pennsylvania Avenue. The recently completed Heart of Fair\", \"a1_imp_agcy_fed_ma_num\": \"04-5132R\", \"a1_imp_agcy_ma\": \"Yes\", \"a1_imp_agcy_state_ma_num\": null, \"a1_imp_agcy_street\": \"1000 Webster Street\", \"a1_imp_agcy_title\": \"Asst Director of PW, City Engineer\", \"a1_imp_agcy_zip\": 94533, \"a1_letter_of_intent\": null, \"a1_proj_partner_title\": null, \"a2_assem_dist_a\": 11.0, \"a2_assem_dist_b\": null, \"a2_assem_dist_c\": null, \"a2_congress_dist_a\": 3.0, \"a2_congress_dist_b\": null, \"a2_congress_dist_c\": null, \"a2_past_proj\": \"No                            \", \"a2_past_proj_qty\": 0, \"a2_proj_lat\": 38.249316, \"a2_proj_long\": -122.057949, \"a2_project_location_map\": null, \"a2_senate_dist_a\": 3.0, \"a2_senate_dist_b\": null, \"a2_senatedistc\": null, \"a3_plan_active_trans\": null, \"a3_plan_active_trans_exists\": \"Yes\", \"a3_plan_bicycle\": null, \"a3_plan_bicycle_exists\": \"Yes\", \"a3_plan_ped\": null, \"a3_plan_ped_exists\": \"Yes\", \"a3_plan_srts\": null, \"a3_plan_srts_exists\": \"Yes\", \"a3_proj_type\": null, \"a3_st_bicycle_applies\": \"Yes\", \"a3_st_bicycle_pct\": 38.0, \"a3_st_num_schools\": 2, \"a3_st_ped_applies\": \"Yes\", \"a3_st_ped_pct\": 62, \"a3_st_srts\": \"Yes\", \"a3_trail_elig_cost\": 0.0, \"a3_trail_fed_funding\": null, \"a3_trail_trans_pct\": null, \"a3_trails\": null, \"agency_app_num\": null, \"app_pk\": null, \"attch_addtl_attachments\": null, \"attch_app_sig_page\": null, \"attch_conditions_photos\": null, \"attch_conditions_project_map\": null, \"attch_engineeers_checklist\": null, \"attch_exhibit22_plan\": null, \"attch_letters_of_support\": null, \"attch_link\": null, \"attch_ni_workplan\": null, \"attch_project_estimate\": null, \"completed_pdf_form\": null, \"main_datetime_stamp\": \"\", \"a3_plan_none\": \"0\", \"a3_plan_other\": \"0\", \"a3_plan_other_desc\": \"Heart of Fairfield Specific Plan\", \"a2_output_outcome\": \"Road diet replacing travel lanes with Class IV separated bikeways, constructing raised medians, installing a traffic signal and two marked crossings, and education and evaluation programs will improve safety and comfort for bicyclists and pedestrians. \", \"a3_current_plan\": \"Yes\", \"b_sig_inter_new_bike_boxes\": 12.0, \"b_class_1\": null, \"b_class_2\": 3120.0, \"b_class_3\": null, \"b_class_4\": 5720.0, \"a4_bike_gap_pct\": null, \"b_light_intersection\": 3.0, \"b_mid_block_new_rrfb_signal\": null, \"b_mid_block_surf_improv\": null, \"b_bsp_new_bikes\": null, \"b_bike_new_secured_lockers\": null, \"b_bike_new_racks\": null, \"b_bsp_new_station\": null, \"b_other_bike_improv_1\": null, \"b_other_bike_improv_qty_1\": null, \"b_other_bike_improv_2\": null, \"b_other_bike_improv_qty_2\": null, \"b_light_rdwy_seg\": 4090.0, \"b_sig_inter_timing_improv\": 5.0, \"b_un_sig_new_rrfb_signal\": null, \"b_un_sig_cross_surf_improv\": null, \"a4_easement_support\": null, \"m_cls_1_trails_widen_recon_exist\": null, \"m_cls_1_trails_new__less_than_9\": null, \"m_cls_1_trails_new_over_9\": null, \"m_non_cls_trails_new\": null, \"m_other_trail_imprv_1\": null, \"m_other_trail_improv_qty_1\": null, \"m_other_trail_imprv_2\": null, \"m_other_trail_improv_qty_2\": null, \"m_non_cls_widen_recon_exist\": null, \"p_amenities_bench\": null, \"a4_ped_gap_pct\": null, \"p_mid_block_cross_new_rrfb_signal\": null, \"p_light_intersection\": null, \"p_lighting_rdwy_seg\": null, \"p_mid_block_cross_surf_improv\": null, \"p_new_ada_ramp\": 3.0, \"p_sidewlks_new_barrier_protect\": 4020.0, \"p_sidewlks_new_4_to_8\": null, \"p_sidewlks_new_over_8\": null, \"p_other_ped_imprv_1\": null, \"p_other_ped_qty_1\": null, \"p_other_ped_imprv_2\": null, \"p_other_ped_qty_2\": null, \"p_reconstruct_ramp_to_ada_stand\": 27.0, \"p_sidewlks_reconstruct_enhance_exist\": 2100.0, \"p_sig_inter_enhance_exist_crosswlk\": 14.0, \"p_sig_inter_new_crosswlk\": 2.0, \"p_sig_inter_ped_heads\": 32.0, \"p_sig_inter_shorten_cross\": 2.0, \"p_sig_inter_timing_improv\": 5.0, \"p_amenities_trash_can\": null, \"p_amenities_shade_tree\": null, \"p_amenities_shade_tree_type\": null, \"p_un_sig_inter_new_traff_sig\": 1.0, \"p_un_sig_inter_new_roundabout\": null, \"p_un_sig_inter_new_rrfb_sig\": 1.0, \"p_un_sig_inter_shorten_cross\": 2.0, \"p_un_sig_inter_cross_surface_improv\": 4.0, \"p_sidewlks_widen_existing\": 6140.0, \"a4_row_100\": null, \"a4_row_gov_ease\": null, \"a4_row_private_ease\": null, \"v_other_traffic_calming_imprv_1\": null, \"v_speed_feedback_signs\": null, \"v_other_traffic_calming_qty_1\": null, \"v_other_traffic_calming_imprv_2\": null, \"v_other_traffic_calming_qty_2\": null, \"v_remove_right_turn_pocket\": null, \"v_remove_travel_ln\": 7164.0, \"v_sig_inter_new_roundabout\": null, \"v_sig_inter_timing_improv\": 5.0, \"v_un_sig_inter_new_traf_sig\": 1.0, \"v_un_sig_inter_new_roundabout\": null, \"app_fk\": null, \"details_datetime_stamp\": \"\", \"a4_reg_init\": \"N\", \"a4_reg_init_pct\": 0, \"a4_com_init\": \"N\", \"a4_com_init_pct\": 0, \"a4_safe_route\": \"Y\", \"a4_safe_route_pct\": 100, \"a4_fl_mile\": \"N\", \"a4_fl_mile_pct\": 0, \"a4_emp_based\": null, \"a4_emp_based_pct\": 0.0, \"a4_other_ni\": \"N\", \"a4_other_ni_descr\": null, \"a4_other_ni_pct\": 0, \"a4_wb_audits\": 0.0, \"a4_bike_classes\": 2.0, \"a4_ped_classes\": 0.0, \"a4_demo_events\": 0.0, \"a4_com_enc\": 0.0, \"a4_le_methods\": 0.0, \"a4_com_meetings\": 0.0, \"a4_classrooms\": 0.0, \"a4_school_assem\": 7.0, \"a4_after_school\": 7.0, \"a4_bike_rodeos\": 0.0, \"a4_mock_cities\": 0.0, \"a4_walk_bus\": 0.0, \"a4_bike_train\": 0.0, \"a4_com_challenges\": 0.0, \"a4_srts_enc\": 8.0, \"a4_srts_le\": 0.0, \"a4_srts_training\": 0.0, \"a4_act_other_1\": 4.0, \"a4_act_other_1_descr\": \"Mobile Bike Repair Events\", \"a4_act_other_2\": 8.0, \"a4_act_other_2_decr\": \"Evaluation Time Periods - 2 each hand tallies and parent surveys, and 4 user counts\", \"a4_comm_trad_media\": \"Y\", \"a4_comm_large_media\": \"N\", \"a4_comm_print\": \"Y\", \"a4_comm_social\": \"Y\", \"a4_comm_web\": \"N\", \"a4_comm_other\": \"N\", \"a4_comm_other_descr\": null, \"a4_comm_language\": null, \"a4_collab_pub_health\": \"N\", \"a4_collab_le\": \"N\", \"a4_collab_non_profit\": \"N\", \"a4_collab_schools\": \"N\", \"a4_collab_pub_works\": \"N\", \"a4_collab_other\": \"Y\", \"a4_colab_other_descr\": \"Solano Transportation Authority (STA) is the Congestion Management Agency (CMA) for Solano County\", \"a4_plan_ped\": \"N\", \"a4_plan_bike\": \"N\", \"a4_plan_atp\": \"N\", \"a4_plan_school_routes\": \"N\", \"a4_row_open_street_demo\": \"No\", \"atp_id_x\": \"ATP5-04-003S\", \"a3_proj_type_x\": \"Infrastructure + NI - Large\", \"agency_fully_own_r_w\": null, \"require_r_w_easement,_from_gov\": null, \"_require_rw_easement_from_private\": \"X\", \"atp_id_y\": \"ATP5-4-003S\", \"ppno1\": \"2343B\", \"oversight_id\": \"Standard\", \"a3_proj_type_y\": \"Combined (IF and NI)\", \"Total Project Cost\": 16922000.0, \"original_prog__amt___pa_ed_\": null, \"orig__prog__year__pa_ed_\": null, \"original_prog__amt___ps_e_\": 838000.0, \"orig__prog__year__ps_e_\": \"22/23\", \"original_prog__amt___rw_\": null, \"orig__prog__year__rw_\": null, \"orignal_prog__amt___con_\": 9948000.0, \"orig__prog__year__con_\": \"23/24\", \"original_prog__amt___con_ni_\": 117000.0, \"orig__prog__year__con_ni_\": \"22/23\", \"total\": 10903000.0, \"_2122_pa_ed\": null, \"_2122_ps_e\": null, \"_2122_rw\": null, \"_2122_con\": null, \"_2122_con_ni\": null, \"_2122_total\": 0.0, \"fund_year_1\": \"21/22\", \"_2223_pa_ed\": null, \"_2223_ps_e\": 838000.0, \"_2223_rw\": null, \"_2223_con\": null, \"_2223_con_ni\": 117000.0, \"_2223_total\": 955000.0, \"fund_year_2\": \"22/23\", \"_2324_pa_ed\": null, \"_2324_ps_e\": null, \"_2324_rw\": null, \"_2324_con\": 9948000.0, \"_2324_con_ni\": null, \"_2324_total\": 9948000.0, \"fund_year_3\": \"23/24\", \"_2425_pa_ed\": null, \"_2425_ps_e\": null, \"_2425_rw\": null, \"_2425_con\": null, \"_2425_con_ni\": null, \"_2425_total\": 0.0, \"fund_year_4\": \"24/25\", \"Total ATP Funds\": 10903000.0, \"match_total_atp_$_and_total\": \"YES\", \"match_total_atp_$_and_total_atp_x_1000\": \"YES\", \"paed\": 0.0, \"ps_e_\": 838.0, \"rw\": 0.0, \"con\": 9948.0, \"con_ni\": 117.0, \"total_atp__000s_\": 10903.0, \"total_atp_x_1000\": 10903000.0, \"year__pa_ed_\": null, \"year__ps_e_\": \"22/23\", \"year__rw_\": null, \"year__con_\": \"23/24\", \"year__con_ni_\": \"22/23\", \"Implemeting Agency Name\": \"City of Fairfield\"}]}}, {\"mode\": \"vega-lite\"});\n",
       "</script>"
      ],
      "text/plain": [
       "alt.Chart(...)"
      ]
     },
     "metadata": {},
     "output_type": "display_data"
    },
    {
     "data": {
      "text/html": [
       "<h4>Funded Project Information</h4>"
      ],
      "text/plain": [
       "<IPython.core.display.HTML object>"
      ]
     },
     "metadata": {},
     "output_type": "display_data"
    },
    {
     "data": {
      "text/html": [
       "<style type=\"text/css\">\n",
       "#T_84124_ th {\n",
       "  text-align: center;\n",
       "}\n",
       "#T_84124_row0_col0, #T_84124_row0_col1, #T_84124_row0_col2, #T_84124_row0_col3, #T_84124_row0_col4, #T_84124_row1_col0, #T_84124_row1_col1, #T_84124_row1_col2, #T_84124_row1_col3, #T_84124_row1_col4, #T_84124_row2_col0, #T_84124_row2_col1, #T_84124_row2_col2, #T_84124_row2_col3, #T_84124_row2_col4, #T_84124_row3_col0, #T_84124_row3_col1, #T_84124_row3_col2, #T_84124_row3_col3, #T_84124_row3_col4, #T_84124_row4_col0, #T_84124_row4_col1, #T_84124_row4_col2, #T_84124_row4_col3, #T_84124_row4_col4 {\n",
       "  text-align: center;\n",
       "}\n",
       "</style>\n",
       "<table id=\"T_84124_\">\n",
       "  <thead>\n",
       "    <tr>\n",
       "      <th class=\"col_heading level0 col0\" >Implemeting Agency Name</th>\n",
       "      <th class=\"col_heading level0 col1\" >Project Name</th>\n",
       "      <th class=\"col_heading level0 col2\" >County</th>\n",
       "      <th class=\"col_heading level0 col3\" >Total Atp Funds</th>\n",
       "      <th class=\"col_heading level0 col4\" >Total Project Cost</th>\n",
       "    </tr>\n",
       "  </thead>\n",
       "  <tbody>\n",
       "    <tr>\n",
       "      <td id=\"T_84124_row0_col0\" class=\"data row0 col0\" >City of Oakland</td>\n",
       "      <td id=\"T_84124_row0_col1\" class=\"data row0 col1\" >7th Street Connection Project</td>\n",
       "      <td id=\"T_84124_row0_col2\" class=\"data row0 col2\" >Alameda</td>\n",
       "      <td id=\"T_84124_row0_col3\" class=\"data row0 col3\" >$ 14,180,000.00</td>\n",
       "      <td id=\"T_84124_row0_col4\" class=\"data row0 col4\" >$ 21,037,000.00</td>\n",
       "    </tr>\n",
       "    <tr>\n",
       "      <td id=\"T_84124_row1_col0\" class=\"data row1 col0\" >Santa Clara County</td>\n",
       "      <td id=\"T_84124_row1_col1\" class=\"data row1 col1\" >Active and Safe Routes to a Healthier City </td>\n",
       "      <td id=\"T_84124_row1_col2\" class=\"data row1 col2\" >Santa Clara</td>\n",
       "      <td id=\"T_84124_row1_col3\" class=\"data row1 col3\" >$ 2,510,000.00</td>\n",
       "      <td id=\"T_84124_row1_col4\" class=\"data row1 col4\" >$ 2,510,000.00</td>\n",
       "    </tr>\n",
       "    <tr>\n",
       "      <td id=\"T_84124_row2_col0\" class=\"data row2 col0\" >City of Oakland</td>\n",
       "      <td id=\"T_84124_row2_col1\" class=\"data row2 col1\" >East Oakland Neighborhood Bike Routes</td>\n",
       "      <td id=\"T_84124_row2_col2\" class=\"data row2 col2\" >Alameda</td>\n",
       "      <td id=\"T_84124_row2_col3\" class=\"data row2 col3\" >$ 17,269,000.00</td>\n",
       "      <td id=\"T_84124_row2_col4\" class=\"data row2 col4\" >$ 21,859,000.00</td>\n",
       "    </tr>\n",
       "    <tr>\n",
       "      <td id=\"T_84124_row3_col0\" class=\"data row3 col0\" >Contra Costa County</td>\n",
       "      <td id=\"T_84124_row3_col1\" class=\"data row3 col1\" >North Bailey Road Active Transportation Corridor</td>\n",
       "      <td id=\"T_84124_row3_col2\" class=\"data row3 col2\" >Contra Costa</td>\n",
       "      <td id=\"T_84124_row3_col3\" class=\"data row3 col3\" >$ 6,159,000.00</td>\n",
       "      <td id=\"T_84124_row3_col4\" class=\"data row3 col4\" >$ 6,845,000.00</td>\n",
       "    </tr>\n",
       "    <tr>\n",
       "      <td id=\"T_84124_row4_col0\" class=\"data row4 col0\" >City of Fairfield</td>\n",
       "      <td id=\"T_84124_row4_col1\" class=\"data row4 col1\" >West Texas Street Complete Streets Project</td>\n",
       "      <td id=\"T_84124_row4_col2\" class=\"data row4 col2\" >Solano</td>\n",
       "      <td id=\"T_84124_row4_col3\" class=\"data row4 col3\" >$ 10,903,000.00</td>\n",
       "      <td id=\"T_84124_row4_col4\" class=\"data row4 col4\" >$ 16,922,000.00</td>\n",
       "    </tr>\n",
       "  </tbody>\n",
       "</table>\n"
      ],
      "text/plain": [
       "<IPython.core.display.HTML object>"
      ]
     },
     "metadata": {},
     "output_type": "display_data"
    },
    {
     "data": {
      "text/html": [
       "</br><h4> Success Rates for Agencies in District 4 </h4>"
      ],
      "text/plain": [
       "<IPython.core.display.HTML object>"
      ]
     },
     "metadata": {},
     "output_type": "display_data"
    },
    {
     "data": {
      "text/html": [
       "<style type=\"text/css\">\n",
       "#T_15227_ th {\n",
       "  text-align: center;\n",
       "}\n",
       "#T_15227_row0_col0, #T_15227_row0_col1, #T_15227_row0_col2, #T_15227_row1_col0, #T_15227_row1_col1, #T_15227_row1_col2, #T_15227_row2_col0, #T_15227_row2_col1, #T_15227_row2_col2, #T_15227_row3_col0, #T_15227_row3_col1, #T_15227_row3_col2, #T_15227_row4_col0, #T_15227_row4_col1, #T_15227_row4_col2, #T_15227_row5_col0, #T_15227_row5_col1, #T_15227_row5_col2, #T_15227_row6_col0, #T_15227_row6_col1, #T_15227_row6_col2, #T_15227_row7_col0, #T_15227_row7_col1, #T_15227_row7_col2, #T_15227_row8_col0, #T_15227_row8_col1, #T_15227_row8_col2, #T_15227_row9_col0, #T_15227_row9_col1, #T_15227_row9_col2, #T_15227_row10_col0, #T_15227_row10_col1, #T_15227_row10_col2, #T_15227_row11_col0, #T_15227_row11_col1, #T_15227_row11_col2, #T_15227_row12_col0, #T_15227_row12_col1, #T_15227_row12_col2, #T_15227_row13_col0, #T_15227_row13_col1, #T_15227_row13_col2, #T_15227_row14_col0, #T_15227_row14_col1, #T_15227_row14_col2, #T_15227_row15_col0, #T_15227_row15_col1, #T_15227_row15_col2, #T_15227_row16_col0, #T_15227_row16_col1, #T_15227_row16_col2, #T_15227_row17_col0, #T_15227_row17_col1, #T_15227_row17_col2, #T_15227_row18_col0, #T_15227_row18_col1, #T_15227_row18_col2, #T_15227_row19_col0, #T_15227_row19_col1, #T_15227_row19_col2, #T_15227_row20_col0, #T_15227_row20_col1, #T_15227_row20_col2, #T_15227_row21_col0, #T_15227_row21_col1, #T_15227_row21_col2, #T_15227_row22_col0, #T_15227_row22_col1, #T_15227_row22_col2, #T_15227_row23_col0, #T_15227_row23_col1, #T_15227_row23_col2, #T_15227_row24_col0, #T_15227_row24_col1, #T_15227_row24_col2, #T_15227_row25_col0, #T_15227_row25_col1, #T_15227_row25_col2, #T_15227_row26_col0, #T_15227_row26_col1, #T_15227_row26_col2, #T_15227_row27_col0, #T_15227_row27_col1, #T_15227_row27_col2, #T_15227_row28_col0, #T_15227_row28_col1, #T_15227_row28_col2, #T_15227_row29_col0, #T_15227_row29_col1, #T_15227_row29_col2, #T_15227_row30_col0, #T_15227_row30_col1, #T_15227_row30_col2, #T_15227_row31_col0, #T_15227_row31_col1, #T_15227_row31_col2, #T_15227_row32_col0, #T_15227_row32_col1, #T_15227_row32_col2, #T_15227_row33_col0, #T_15227_row33_col1, #T_15227_row33_col2, #T_15227_row34_col0, #T_15227_row34_col1, #T_15227_row34_col2, #T_15227_row35_col0, #T_15227_row35_col1, #T_15227_row35_col2, #T_15227_row36_col0, #T_15227_row36_col1, #T_15227_row36_col2, #T_15227_row37_col0, #T_15227_row37_col1, #T_15227_row37_col2, #T_15227_row38_col0, #T_15227_row38_col1, #T_15227_row38_col2, #T_15227_row39_col0, #T_15227_row39_col1, #T_15227_row39_col2, #T_15227_row40_col0, #T_15227_row40_col1, #T_15227_row40_col2, #T_15227_row41_col0, #T_15227_row41_col1, #T_15227_row41_col2, #T_15227_row42_col0, #T_15227_row42_col1, #T_15227_row42_col2, #T_15227_row43_col0, #T_15227_row43_col1, #T_15227_row43_col2, #T_15227_row44_col0, #T_15227_row44_col1, #T_15227_row44_col2, #T_15227_row45_col0, #T_15227_row45_col1, #T_15227_row45_col2, #T_15227_row46_col0, #T_15227_row46_col1, #T_15227_row46_col2 {\n",
       "  text-align: center;\n",
       "}\n",
       "</style>\n",
       "<table id=\"T_15227_\">\n",
       "  <thead>\n",
       "    <tr>\n",
       "      <th class=\"col_heading level0 col0\" >Implemeting Agency Name</th>\n",
       "      <th class=\"col_heading level0 col1\" >Total Applications</th>\n",
       "      <th class=\"col_heading level0 col2\" >Success Rate</th>\n",
       "    </tr>\n",
       "  </thead>\n",
       "  <tbody>\n",
       "    <tr>\n",
       "      <td id=\"T_15227_row0_col0\" class=\"data row0 col0\" >City of Oakland</td>\n",
       "      <td id=\"T_15227_row0_col1\" class=\"data row0 col1\" >6</td>\n",
       "      <td id=\"T_15227_row0_col2\" class=\"data row0 col2\" >33.33%</td>\n",
       "    </tr>\n",
       "    <tr>\n",
       "      <td id=\"T_15227_row1_col0\" class=\"data row1 col0\" >City of Fairfield</td>\n",
       "      <td id=\"T_15227_row1_col1\" class=\"data row1 col1\" >1</td>\n",
       "      <td id=\"T_15227_row1_col2\" class=\"data row1 col2\" >100.00%</td>\n",
       "    </tr>\n",
       "    <tr>\n",
       "      <td id=\"T_15227_row2_col0\" class=\"data row2 col0\" >Contra Costa County</td>\n",
       "      <td id=\"T_15227_row2_col1\" class=\"data row2 col1\" >6</td>\n",
       "      <td id=\"T_15227_row2_col2\" class=\"data row2 col2\" >16.67%</td>\n",
       "    </tr>\n",
       "    <tr>\n",
       "      <td id=\"T_15227_row3_col0\" class=\"data row3 col0\" >Santa Clara County</td>\n",
       "      <td id=\"T_15227_row3_col1\" class=\"data row3 col1\" >1</td>\n",
       "      <td id=\"T_15227_row3_col2\" class=\"data row3 col2\" >100.00%</td>\n",
       "    </tr>\n",
       "    <tr>\n",
       "      <td id=\"T_15227_row4_col0\" class=\"data row4 col0\" >Alameda County</td>\n",
       "      <td id=\"T_15227_row4_col1\" class=\"data row4 col1\" >6</td>\n",
       "      <td id=\"T_15227_row4_col2\" class=\"data row4 col2\" >0.00%</td>\n",
       "    </tr>\n",
       "    <tr>\n",
       "      <td id=\"T_15227_row5_col0\" class=\"data row5 col0\" >Alameda County Transportation Commission</td>\n",
       "      <td id=\"T_15227_row5_col1\" class=\"data row5 col1\" >1</td>\n",
       "      <td id=\"T_15227_row5_col2\" class=\"data row5 col2\" >0.00%</td>\n",
       "    </tr>\n",
       "    <tr>\n",
       "      <td id=\"T_15227_row6_col0\" class=\"data row6 col0\" >Bay Area Toll Authority</td>\n",
       "      <td id=\"T_15227_row6_col1\" class=\"data row6 col1\" >1</td>\n",
       "      <td id=\"T_15227_row6_col2\" class=\"data row6 col2\" >0.00%</td>\n",
       "    </tr>\n",
       "    <tr>\n",
       "      <td id=\"T_15227_row7_col0\" class=\"data row7 col0\" >California Department of Transportation</td>\n",
       "      <td id=\"T_15227_row7_col1\" class=\"data row7 col1\" >1</td>\n",
       "      <td id=\"T_15227_row7_col2\" class=\"data row7 col2\" >0.00%</td>\n",
       "    </tr>\n",
       "    <tr>\n",
       "      <td id=\"T_15227_row8_col0\" class=\"data row8 col0\" >City of Berkeley</td>\n",
       "      <td id=\"T_15227_row8_col1\" class=\"data row8 col1\" >2</td>\n",
       "      <td id=\"T_15227_row8_col2\" class=\"data row8 col2\" >0.00%</td>\n",
       "    </tr>\n",
       "    <tr>\n",
       "      <td id=\"T_15227_row9_col0\" class=\"data row9 col0\" >City of Concord</td>\n",
       "      <td id=\"T_15227_row9_col1\" class=\"data row9 col1\" >1</td>\n",
       "      <td id=\"T_15227_row9_col2\" class=\"data row9 col2\" >0.00%</td>\n",
       "    </tr>\n",
       "    <tr>\n",
       "      <td id=\"T_15227_row10_col0\" class=\"data row10 col0\" >City of Daly City</td>\n",
       "      <td id=\"T_15227_row10_col1\" class=\"data row10 col1\" >1</td>\n",
       "      <td id=\"T_15227_row10_col2\" class=\"data row10 col2\" >0.00%</td>\n",
       "    </tr>\n",
       "    <tr>\n",
       "      <td id=\"T_15227_row11_col0\" class=\"data row11 col0\" >City of Dublin</td>\n",
       "      <td id=\"T_15227_row11_col1\" class=\"data row11 col1\" >1</td>\n",
       "      <td id=\"T_15227_row11_col2\" class=\"data row11 col2\" >0.00%</td>\n",
       "    </tr>\n",
       "    <tr>\n",
       "      <td id=\"T_15227_row12_col0\" class=\"data row12 col0\" >City of East Palo Alto</td>\n",
       "      <td id=\"T_15227_row12_col1\" class=\"data row12 col1\" >1</td>\n",
       "      <td id=\"T_15227_row12_col2\" class=\"data row12 col2\" >0.00%</td>\n",
       "    </tr>\n",
       "    <tr>\n",
       "      <td id=\"T_15227_row13_col0\" class=\"data row13 col0\" >City of Emeryville</td>\n",
       "      <td id=\"T_15227_row13_col1\" class=\"data row13 col1\" >1</td>\n",
       "      <td id=\"T_15227_row13_col2\" class=\"data row13 col2\" >0.00%</td>\n",
       "    </tr>\n",
       "    <tr>\n",
       "      <td id=\"T_15227_row14_col0\" class=\"data row14 col0\" >City of Fremont</td>\n",
       "      <td id=\"T_15227_row14_col1\" class=\"data row14 col1\" >1</td>\n",
       "      <td id=\"T_15227_row14_col2\" class=\"data row14 col2\" >0.00%</td>\n",
       "    </tr>\n",
       "    <tr>\n",
       "      <td id=\"T_15227_row15_col0\" class=\"data row15 col0\" >City of Half Moon Bay</td>\n",
       "      <td id=\"T_15227_row15_col1\" class=\"data row15 col1\" >1</td>\n",
       "      <td id=\"T_15227_row15_col2\" class=\"data row15 col2\" >0.00%</td>\n",
       "    </tr>\n",
       "    <tr>\n",
       "      <td id=\"T_15227_row16_col0\" class=\"data row16 col0\" >City of Healdsburg</td>\n",
       "      <td id=\"T_15227_row16_col1\" class=\"data row16 col1\" >1</td>\n",
       "      <td id=\"T_15227_row16_col2\" class=\"data row16 col2\" >0.00%</td>\n",
       "    </tr>\n",
       "    <tr>\n",
       "      <td id=\"T_15227_row17_col0\" class=\"data row17 col0\" >City of Hercules</td>\n",
       "      <td id=\"T_15227_row17_col1\" class=\"data row17 col1\" >1</td>\n",
       "      <td id=\"T_15227_row17_col2\" class=\"data row17 col2\" >0.00%</td>\n",
       "    </tr>\n",
       "    <tr>\n",
       "      <td id=\"T_15227_row18_col0\" class=\"data row18 col0\" >City of Lafayette</td>\n",
       "      <td id=\"T_15227_row18_col1\" class=\"data row18 col1\" >2</td>\n",
       "      <td id=\"T_15227_row18_col2\" class=\"data row18 col2\" >0.00%</td>\n",
       "    </tr>\n",
       "    <tr>\n",
       "      <td id=\"T_15227_row19_col0\" class=\"data row19 col0\" >City of Menlo Park</td>\n",
       "      <td id=\"T_15227_row19_col1\" class=\"data row19 col1\" >1</td>\n",
       "      <td id=\"T_15227_row19_col2\" class=\"data row19 col2\" >0.00%</td>\n",
       "    </tr>\n",
       "    <tr>\n",
       "      <td id=\"T_15227_row20_col0\" class=\"data row20 col0\" >City of Millbrae</td>\n",
       "      <td id=\"T_15227_row20_col1\" class=\"data row20 col1\" >1</td>\n",
       "      <td id=\"T_15227_row20_col2\" class=\"data row20 col2\" >0.00%</td>\n",
       "    </tr>\n",
       "    <tr>\n",
       "      <td id=\"T_15227_row21_col0\" class=\"data row21 col0\" >City of Napa</td>\n",
       "      <td id=\"T_15227_row21_col1\" class=\"data row21 col1\" >1</td>\n",
       "      <td id=\"T_15227_row21_col2\" class=\"data row21 col2\" >0.00%</td>\n",
       "    </tr>\n",
       "    <tr>\n",
       "      <td id=\"T_15227_row22_col0\" class=\"data row22 col0\" >City of Novato</td>\n",
       "      <td id=\"T_15227_row22_col1\" class=\"data row22 col1\" >1</td>\n",
       "      <td id=\"T_15227_row22_col2\" class=\"data row22 col2\" >0.00%</td>\n",
       "    </tr>\n",
       "    <tr>\n",
       "      <td id=\"T_15227_row23_col0\" class=\"data row23 col0\" >City of Pacifica</td>\n",
       "      <td id=\"T_15227_row23_col1\" class=\"data row23 col1\" >1</td>\n",
       "      <td id=\"T_15227_row23_col2\" class=\"data row23 col2\" >0.00%</td>\n",
       "    </tr>\n",
       "    <tr>\n",
       "      <td id=\"T_15227_row24_col0\" class=\"data row24 col0\" >City of San Bruno</td>\n",
       "      <td id=\"T_15227_row24_col1\" class=\"data row24 col1\" >1</td>\n",
       "      <td id=\"T_15227_row24_col2\" class=\"data row24 col2\" >0.00%</td>\n",
       "    </tr>\n",
       "    <tr>\n",
       "      <td id=\"T_15227_row25_col0\" class=\"data row25 col0\" >City of San Carlos</td>\n",
       "      <td id=\"T_15227_row25_col1\" class=\"data row25 col1\" >1</td>\n",
       "      <td id=\"T_15227_row25_col2\" class=\"data row25 col2\" >0.00%</td>\n",
       "    </tr>\n",
       "    <tr>\n",
       "      <td id=\"T_15227_row26_col0\" class=\"data row26 col0\" >City of San Jose</td>\n",
       "      <td id=\"T_15227_row26_col1\" class=\"data row26 col1\" >1</td>\n",
       "      <td id=\"T_15227_row26_col2\" class=\"data row26 col2\" >0.00%</td>\n",
       "    </tr>\n",
       "    <tr>\n",
       "      <td id=\"T_15227_row27_col0\" class=\"data row27 col0\" >City of San Mateo</td>\n",
       "      <td id=\"T_15227_row27_col1\" class=\"data row27 col1\" >1</td>\n",
       "      <td id=\"T_15227_row27_col2\" class=\"data row27 col2\" >0.00%</td>\n",
       "    </tr>\n",
       "    <tr>\n",
       "      <td id=\"T_15227_row28_col0\" class=\"data row28 col0\" >City of San Rafael</td>\n",
       "      <td id=\"T_15227_row28_col1\" class=\"data row28 col1\" >1</td>\n",
       "      <td id=\"T_15227_row28_col2\" class=\"data row28 col2\" >0.00%</td>\n",
       "    </tr>\n",
       "    <tr>\n",
       "      <td id=\"T_15227_row29_col0\" class=\"data row29 col0\" >City of San Ramon</td>\n",
       "      <td id=\"T_15227_row29_col1\" class=\"data row29 col1\" >1</td>\n",
       "      <td id=\"T_15227_row29_col2\" class=\"data row29 col2\" >0.00%</td>\n",
       "    </tr>\n",
       "    <tr>\n",
       "      <td id=\"T_15227_row30_col0\" class=\"data row30 col0\" >City of Santa Rosa</td>\n",
       "      <td id=\"T_15227_row30_col1\" class=\"data row30 col1\" >1</td>\n",
       "      <td id=\"T_15227_row30_col2\" class=\"data row30 col2\" >0.00%</td>\n",
       "    </tr>\n",
       "    <tr>\n",
       "      <td id=\"T_15227_row31_col0\" class=\"data row31 col0\" >City of South San Francisco</td>\n",
       "      <td id=\"T_15227_row31_col1\" class=\"data row31 col1\" >1</td>\n",
       "      <td id=\"T_15227_row31_col2\" class=\"data row31 col2\" >0.00%</td>\n",
       "    </tr>\n",
       "    <tr>\n",
       "      <td id=\"T_15227_row32_col0\" class=\"data row32 col0\" >City of Vacaville</td>\n",
       "      <td id=\"T_15227_row32_col1\" class=\"data row32 col1\" >1</td>\n",
       "      <td id=\"T_15227_row32_col2\" class=\"data row32 col2\" >0.00%</td>\n",
       "    </tr>\n",
       "    <tr>\n",
       "      <td id=\"T_15227_row33_col0\" class=\"data row33 col0\" >City of Vallejo</td>\n",
       "      <td id=\"T_15227_row33_col1\" class=\"data row33 col1\" >1</td>\n",
       "      <td id=\"T_15227_row33_col2\" class=\"data row33 col2\" >0.00%</td>\n",
       "    </tr>\n",
       "    <tr>\n",
       "      <td id=\"T_15227_row34_col0\" class=\"data row34 col0\" >Contra Costa Transportation Authority (CCTA)</td>\n",
       "      <td id=\"T_15227_row34_col1\" class=\"data row34 col1\" >1</td>\n",
       "      <td id=\"T_15227_row34_col2\" class=\"data row34 col2\" >0.00%</td>\n",
       "    </tr>\n",
       "    <tr>\n",
       "      <td id=\"T_15227_row35_col0\" class=\"data row35 col0\" >East Bay Regional Park District</td>\n",
       "      <td id=\"T_15227_row35_col1\" class=\"data row35 col1\" >1</td>\n",
       "      <td id=\"T_15227_row35_col2\" class=\"data row35 col2\" >0.00%</td>\n",
       "    </tr>\n",
       "    <tr>\n",
       "      <td id=\"T_15227_row36_col0\" class=\"data row36 col0\" >Metropilitan Transportation Commission (MTC)</td>\n",
       "      <td id=\"T_15227_row36_col1\" class=\"data row36 col1\" >1</td>\n",
       "      <td id=\"T_15227_row36_col2\" class=\"data row36 col2\" >0.00%</td>\n",
       "    </tr>\n",
       "    <tr>\n",
       "      <td id=\"T_15227_row37_col0\" class=\"data row37 col0\" >Napa County</td>\n",
       "      <td id=\"T_15227_row37_col1\" class=\"data row37 col1\" >1</td>\n",
       "      <td id=\"T_15227_row37_col2\" class=\"data row37 col2\" >0.00%</td>\n",
       "    </tr>\n",
       "    <tr>\n",
       "      <td id=\"T_15227_row38_col0\" class=\"data row38 col0\" >Napa County Office of Education</td>\n",
       "      <td id=\"T_15227_row38_col1\" class=\"data row38 col1\" >1</td>\n",
       "      <td id=\"T_15227_row38_col2\" class=\"data row38 col2\" >0.00%</td>\n",
       "    </tr>\n",
       "    <tr>\n",
       "      <td id=\"T_15227_row39_col0\" class=\"data row39 col0\" >San Francisco Bay Area Rapid Transit District</td>\n",
       "      <td id=\"T_15227_row39_col1\" class=\"data row39 col1\" >1</td>\n",
       "      <td id=\"T_15227_row39_col2\" class=\"data row39 col2\" >0.00%</td>\n",
       "    </tr>\n",
       "    <tr>\n",
       "      <td id=\"T_15227_row40_col0\" class=\"data row40 col0\" >San Francisco County Transportation Authority</td>\n",
       "      <td id=\"T_15227_row40_col1\" class=\"data row40 col1\" >1</td>\n",
       "      <td id=\"T_15227_row40_col2\" class=\"data row40 col2\" >0.00%</td>\n",
       "    </tr>\n",
       "    <tr>\n",
       "      <td id=\"T_15227_row41_col0\" class=\"data row41 col0\" >San Francisco Municipal Transportation Agency</td>\n",
       "      <td id=\"T_15227_row41_col1\" class=\"data row41 col1\" >1</td>\n",
       "      <td id=\"T_15227_row41_col2\" class=\"data row41 col2\" >0.00%</td>\n",
       "    </tr>\n",
       "    <tr>\n",
       "      <td id=\"T_15227_row42_col0\" class=\"data row42 col0\" >Solano County</td>\n",
       "      <td id=\"T_15227_row42_col1\" class=\"data row42 col1\" >1</td>\n",
       "      <td id=\"T_15227_row42_col2\" class=\"data row42 col2\" >0.00%</td>\n",
       "    </tr>\n",
       "    <tr>\n",
       "      <td id=\"T_15227_row43_col0\" class=\"data row43 col0\" >Sonoma County</td>\n",
       "      <td id=\"T_15227_row43_col1\" class=\"data row43 col1\" >1</td>\n",
       "      <td id=\"T_15227_row43_col2\" class=\"data row43 col2\" >0.00%</td>\n",
       "    </tr>\n",
       "    <tr>\n",
       "      <td id=\"T_15227_row44_col0\" class=\"data row44 col0\" >Town of Corte Madera</td>\n",
       "      <td id=\"T_15227_row44_col1\" class=\"data row44 col1\" >1</td>\n",
       "      <td id=\"T_15227_row44_col2\" class=\"data row44 col2\" >0.00%</td>\n",
       "    </tr>\n",
       "    <tr>\n",
       "      <td id=\"T_15227_row45_col0\" class=\"data row45 col0\" >Town of Danville</td>\n",
       "      <td id=\"T_15227_row45_col1\" class=\"data row45 col1\" >2</td>\n",
       "      <td id=\"T_15227_row45_col2\" class=\"data row45 col2\" >0.00%</td>\n",
       "    </tr>\n",
       "    <tr>\n",
       "      <td id=\"T_15227_row46_col0\" class=\"data row46 col0\" >Town of Tiburon</td>\n",
       "      <td id=\"T_15227_row46_col1\" class=\"data row46 col1\" >1</td>\n",
       "      <td id=\"T_15227_row46_col2\" class=\"data row46 col2\" >0.00%</td>\n",
       "    </tr>\n",
       "  </tbody>\n",
       "</table>\n"
      ],
      "text/plain": [
       "<IPython.core.display.HTML object>"
      ]
     },
     "metadata": {},
     "output_type": "display_data"
    }
   ],
   "source": [
    "_report_utils.map_dist_proj(funded, df, 4)"
   ]
  },
  {
   "cell_type": "code",
   "execution_count": null,
   "id": "d33f2eca-0aa2-4116-883d-0c844a5d8a71",
   "metadata": {},
   "outputs": [],
   "source": []
  },
  {
   "cell_type": "markdown",
   "id": "b4b79edd-8c8d-4629-b3f3-ac8cfbfcd018",
   "metadata": {
    "tags": []
   },
   "source": [
    "### District 5 - San Luis Obispo"
   ]
  },
  {
   "cell_type": "code",
   "execution_count": 39,
   "id": "53a0ab38-524a-457a-b2b5-e8a04ff82e7d",
   "metadata": {},
   "outputs": [
    {
     "data": {
      "text/html": [
       "\n",
       "<div id=\"altair-viz-6b37f75d27c4495fac2e162524c4924e\"></div>\n",
       "<script type=\"text/javascript\">\n",
       "  var VEGA_DEBUG = (typeof VEGA_DEBUG == \"undefined\") ? {} : VEGA_DEBUG;\n",
       "  (function(spec, embedOpt){\n",
       "    let outputDiv = document.currentScript.previousElementSibling;\n",
       "    if (outputDiv.id !== \"altair-viz-6b37f75d27c4495fac2e162524c4924e\") {\n",
       "      outputDiv = document.getElementById(\"altair-viz-6b37f75d27c4495fac2e162524c4924e\");\n",
       "    }\n",
       "    const paths = {\n",
       "      \"vega\": \"https://cdn.jsdelivr.net/npm//vega@5?noext\",\n",
       "      \"vega-lib\": \"https://cdn.jsdelivr.net/npm//vega-lib?noext\",\n",
       "      \"vega-lite\": \"https://cdn.jsdelivr.net/npm//vega-lite@4.17.0?noext\",\n",
       "      \"vega-embed\": \"https://cdn.jsdelivr.net/npm//vega-embed@6?noext\",\n",
       "    };\n",
       "\n",
       "    function maybeLoadScript(lib, version) {\n",
       "      var key = `${lib.replace(\"-\", \"\")}_version`;\n",
       "      return (VEGA_DEBUG[key] == version) ?\n",
       "        Promise.resolve(paths[lib]) :\n",
       "        new Promise(function(resolve, reject) {\n",
       "          var s = document.createElement('script');\n",
       "          document.getElementsByTagName(\"head\")[0].appendChild(s);\n",
       "          s.async = true;\n",
       "          s.onload = () => {\n",
       "            VEGA_DEBUG[key] = version;\n",
       "            return resolve(paths[lib]);\n",
       "          };\n",
       "          s.onerror = () => reject(`Error loading script: ${paths[lib]}`);\n",
       "          s.src = paths[lib];\n",
       "        });\n",
       "    }\n",
       "\n",
       "    function showError(err) {\n",
       "      outputDiv.innerHTML = `<div class=\"error\" style=\"color:red;\">${err}</div>`;\n",
       "      throw err;\n",
       "    }\n",
       "\n",
       "    function displayChart(vegaEmbed) {\n",
       "      vegaEmbed(outputDiv, spec, embedOpt)\n",
       "        .catch(err => showError(`Javascript Error: ${err.message}<br>This usually means there's a typo in your chart specification. See the javascript console for the full traceback.`));\n",
       "    }\n",
       "\n",
       "    if(typeof define === \"function\" && define.amd) {\n",
       "      requirejs.config({paths});\n",
       "      require([\"vega-embed\"], displayChart, err => showError(`Error loading script: ${err.message}`));\n",
       "    } else {\n",
       "      maybeLoadScript(\"vega\", \"5\")\n",
       "        .then(() => maybeLoadScript(\"vega-lite\", \"4.17.0\"))\n",
       "        .then(() => maybeLoadScript(\"vega-embed\", \"6\"))\n",
       "        .catch(showError)\n",
       "        .then(() => displayChart(vegaEmbed));\n",
       "    }\n",
       "  })({\"config\": {\"view\": {\"continuousWidth\": 400, \"continuousHeight\": 300}}, \"data\": {\"name\": \"data-e104bc1096ee1c7f74bf4bd6b81227e2\"}, \"mark\": \"bar\", \"encoding\": {\"color\": {\"field\": \"Project Name\", \"legend\": null, \"scale\": {\"range\": [\"#E16B26\", \"#EB9F3C\", \"#f6e7e1\", \"#8CBCCB\", \"#2EA8CE\", \"#136C97\"]}, \"type\": \"nominal\"}, \"tooltip\": [{\"field\": \"Project Name\", \"type\": \"nominal\"}, {\"field\": \"Total ATP Funds\", \"type\": \"quantitative\"}], \"x\": {\"field\": \"Total ATP Funds\", \"type\": \"quantitative\"}, \"y\": {\"field\": \"Implemeting Agency Name\", \"type\": \"nominal\"}}, \"title\": \"Total ATP Funds by Project\", \"$schema\": \"https://vega.github.io/schema/vega-lite/v4.17.0.json\", \"datasets\": {\"data-e104bc1096ee1c7f74bf4bd6b81227e2\": [{\"Project ID\": \"5-Santa Cruz, City of-2\", \"project_cycle\": 5, \"a1_locode\": 5025.0, \"#\": null, \"atp_id\": null, \"awarded\": \"Y\", \"ppno\": \"3058A\", \"ppno_1\": \"3058B\", \"data_origin\": \"Funded\", \"geometry\": null, \"project_status\": \"Active\", \"solicitation_abv\": \"S\", \"solicitation\": \"STATEWIDE SOLICITATION-CYCLE 5\", \"soliciting_agency\": \"CALTRANS\", \"project_size\": \"Large\", \"a1_imp_agcy_city\": \"Santa Cruz\", \"a1_imp_agcy_name\": \"Santa Cruz, City of\", \"a1_proj_partner_agcy\": null, \"a1_proj_partner_exists\": \"No \", \"assembly_district\": 29, \"congressional_district\": \"18, 20\", \"senate_district\": 17, \"County\": \"Santa Cruz\", \"a2_ct_dist\": 5, \"a2_info_proj_descr\": \"Construction of .8 miles of Segment 7 of the Rail Trail multiuse path between Bay/California Streets and Pacific Ave/Beach St in the City of Santa Cruz. Noninfrastructure programs.\", \"a2_info_proj_loc\": \"Adjacent to the Santa Cruz Branch Rail Line between the intersection of Bay/California Streets and Pacific Avenue/Beach Street in the City of Santa Cruz \", \"Project Name\": \"Santa Cruz Rail Trail Segment 7 Phase 2 Construction\", \"a2_mop_uza_population\": \"Project is located outside one of the ten large MPOs in a UZA with Pop <=200,000 and > than 5,000\", \"a2_mpo\": \"AMBAG\", \"a2_rtpa\": \"SCCRTC\", \"a2_proj_scope_summary\": \"The project will close a .8 mile gap in the Rail Trail within the City of Santa Cruz by constructing a Class I multi-use trail adjacent to the existing active rail line. This project is located entirely within a DAC community- Census Tract 1010, and is sh\", \"a1_imp_agcy_fed_ma_num\": \"05-5025R\", \"a1_imp_agcy_ma\": \"Yes\", \"a1_imp_agcy_state_ma_num\": \"00244S\", \"a1_imp_agcy_street\": \"809 Center St\", \"a1_imp_agcy_title\": \"Senior Engineer\", \"a1_imp_agcy_zip\": 95060, \"a1_letter_of_intent\": null, \"a1_proj_partner_title\": null, \"a2_assem_dist_a\": 29.0, \"a2_assem_dist_b\": null, \"a2_assem_dist_c\": null, \"a2_congress_dist_a\": 18.0, \"a2_congress_dist_b\": 20.0, \"a2_congress_dist_c\": null, \"a2_past_proj\": \"Yes                           \", \"a2_past_proj_qty\": 2, \"a2_proj_lat\": 36.960888, \"a2_proj_long\": -122.031223, \"a2_project_location_map\": null, \"a2_senate_dist_a\": 17.0, \"a2_senate_dist_b\": null, \"a2_senatedistc\": null, \"a3_plan_active_trans\": null, \"a3_plan_active_trans_exists\": \"Yes\", \"a3_plan_bicycle\": null, \"a3_plan_bicycle_exists\": \"No \", \"a3_plan_ped\": null, \"a3_plan_ped_exists\": \"No \", \"a3_plan_srts\": null, \"a3_plan_srts_exists\": \"Yes\", \"a3_proj_type\": null, \"a3_st_bicycle_applies\": \"Yes\", \"a3_st_bicycle_pct\": 50.0, \"a3_st_num_schools\": 1, \"a3_st_ped_applies\": \"Yes\", \"a3_st_ped_pct\": 50, \"a3_st_srts\": \"Yes\", \"a3_trail_elig_cost\": 0.0, \"a3_trail_fed_funding\": \"Yes\", \"a3_trail_trans_pct\": 100.0, \"a3_trails\": \"X\", \"agency_app_num\": null, \"app_pk\": null, \"attch_addtl_attachments\": null, \"attch_app_sig_page\": null, \"attch_conditions_photos\": null, \"attch_conditions_project_map\": null, \"attch_engineeers_checklist\": null, \"attch_exhibit22_plan\": null, \"attch_letters_of_support\": null, \"attch_link\": null, \"attch_ni_workplan\": null, \"attch_project_estimate\": null, \"completed_pdf_form\": null, \"main_datetime_stamp\": \"\", \"a3_plan_none\": \"No\", \"a3_plan_other\": \"No\", \"a3_plan_other_desc\": null, \"a2_output_outcome\": \"Construction of .8 miles of Segment 7 of the Rail Trail multiuse path between Bay/California Streets and Pacific Ave/Beach St in the City of Santa Cruz will improve safety for nonmotorized users.\", \"a3_current_plan\": \"Yes\", \"b_sig_inter_new_bike_boxes\": null, \"b_class_1\": null, \"b_class_2\": null, \"b_class_3\": null, \"b_class_4\": null, \"a4_bike_gap_pct\": null, \"b_light_intersection\": null, \"b_mid_block_new_rrfb_signal\": null, \"b_mid_block_surf_improv\": null, \"b_bsp_new_bikes\": null, \"b_bike_new_secured_lockers\": null, \"b_bike_new_racks\": null, \"b_bsp_new_station\": null, \"b_other_bike_improv_1\": null, \"b_other_bike_improv_qty_1\": null, \"b_other_bike_improv_2\": null, \"b_other_bike_improv_qty_2\": null, \"b_light_rdwy_seg\": null, \"b_sig_inter_timing_improv\": null, \"b_un_sig_new_rrfb_signal\": null, \"b_un_sig_cross_surf_improv\": null, \"a4_easement_support\": null, \"m_cls_1_trails_widen_recon_exist\": null, \"m_cls_1_trails_new__less_than_9\": null, \"m_cls_1_trails_new_over_9\": 4172.0, \"m_non_cls_trails_new\": null, \"m_other_trail_imprv_1\": \"Wayfinding signage\", \"m_other_trail_improv_qty_1\": 40.0, \"m_other_trail_imprv_2\": \"Lighting\", \"m_other_trail_improv_qty_2\": 45.0, \"m_non_cls_widen_recon_exist\": null, \"p_amenities_bench\": null, \"a4_ped_gap_pct\": 100.0, \"p_mid_block_cross_new_rrfb_signal\": null, \"p_light_intersection\": null, \"p_lighting_rdwy_seg\": null, \"p_mid_block_cross_surf_improv\": null, \"p_new_ada_ramp\": null, \"p_sidewlks_new_barrier_protect\": null, \"p_sidewlks_new_4_to_8\": null, \"p_sidewlks_new_over_8\": null, \"p_other_ped_imprv_1\": null, \"p_other_ped_qty_1\": null, \"p_other_ped_imprv_2\": null, \"p_other_ped_qty_2\": null, \"p_reconstruct_ramp_to_ada_stand\": null, \"p_sidewlks_reconstruct_enhance_exist\": null, \"p_sig_inter_enhance_exist_crosswlk\": null, \"p_sig_inter_new_crosswlk\": null, \"p_sig_inter_ped_heads\": null, \"p_sig_inter_shorten_cross\": null, \"p_sig_inter_timing_improv\": null, \"p_amenities_trash_can\": null, \"p_amenities_shade_tree\": 38.0, \"p_amenities_shade_tree_type\": \"Willow and heritage\", \"p_un_sig_inter_new_traff_sig\": null, \"p_un_sig_inter_new_roundabout\": null, \"p_un_sig_inter_new_rrfb_sig\": null, \"p_un_sig_inter_shorten_cross\": null, \"p_un_sig_inter_cross_surface_improv\": null, \"p_sidewlks_widen_existing\": null, \"a4_row_100\": null, \"a4_row_gov_ease\": null, \"a4_row_private_ease\": null, \"v_other_traffic_calming_imprv_1\": null, \"v_speed_feedback_signs\": null, \"v_other_traffic_calming_qty_1\": null, \"v_other_traffic_calming_imprv_2\": null, \"v_other_traffic_calming_qty_2\": null, \"v_remove_right_turn_pocket\": null, \"v_remove_travel_ln\": null, \"v_sig_inter_new_roundabout\": null, \"v_sig_inter_timing_improv\": null, \"v_un_sig_inter_new_traf_sig\": null, \"v_un_sig_inter_new_roundabout\": null, \"app_fk\": null, \"details_datetime_stamp\": \"\", \"a4_reg_init\": \"N\", \"a4_reg_init_pct\": 0, \"a4_com_init\": \"N\", \"a4_com_init_pct\": 30, \"a4_safe_route\": \"N\", \"a4_safe_route_pct\": 70, \"a4_fl_mile\": \"N\", \"a4_fl_mile_pct\": 0, \"a4_emp_based\": null, \"a4_emp_based_pct\": 0.0, \"a4_other_ni\": \"N\", \"a4_other_ni_descr\": null, \"a4_other_ni_pct\": 0, \"a4_wb_audits\": 0.0, \"a4_bike_classes\": 20.0, \"a4_ped_classes\": 0.0, \"a4_demo_events\": 0.0, \"a4_com_enc\": 0.0, \"a4_le_methods\": 0.0, \"a4_com_meetings\": 0.0, \"a4_classrooms\": 24.0, \"a4_school_assem\": 4.0, \"a4_after_school\": 0.0, \"a4_bike_rodeos\": 24.0, \"a4_mock_cities\": 12.0, \"a4_walk_bus\": 0.0, \"a4_bike_train\": 0.0, \"a4_com_challenges\": 0.0, \"a4_srts_enc\": 144.0, \"a4_srts_le\": 0.0, \"a4_srts_training\": 6.0, \"a4_act_other_1\": 20.0, \"a4_act_other_1_descr\": \"Parent education classes on bike and pedestrian safety\", \"a4_act_other_2\": 8.0, \"a4_act_other_2_decr\": \"Group family rides\", \"a4_comm_trad_media\": \"Y\", \"a4_comm_large_media\": \"N\", \"a4_comm_print\": \"Y\", \"a4_comm_social\": \"Y\", \"a4_comm_web\": \"Y\", \"a4_comm_other\": \"N\", \"a4_comm_other_descr\": null, \"a4_comm_language\": \"Spanish\", \"a4_collab_pub_health\": \"Y\", \"a4_collab_le\": \"Y\", \"a4_collab_non_profit\": \"Y\", \"a4_collab_schools\": \"Y\", \"a4_collab_pub_works\": \"Y\", \"a4_collab_other\": \"N\", \"a4_colab_other_descr\": null, \"a4_plan_ped\": \"N\", \"a4_plan_bike\": \"N\", \"a4_plan_atp\": \"N\", \"a4_plan_school_routes\": \"N\", \"a4_row_open_street_demo\": \"No\", \"atp_id_x\": \"ATP5-05-004S\", \"a3_proj_type_x\": \"Infrastructure + NI - Large\", \"agency_fully_own_r_w\": null, \"require_r_w_easement,_from_gov\": null, \"_require_rw_easement_from_private\": \"X\", \"atp_id_y\": \"ATP5-5-004S\", \"ppno1\": null, \"oversight_id\": \"Standard\", \"a3_proj_type_y\": \"Combined (IF and NI)\", \"Total Project Cost\": 12030000.0, \"original_prog__amt___pa_ed_\": null, \"orig__prog__year__pa_ed_\": null, \"original_prog__amt___ps_e_\": null, \"orig__prog__year__ps_e_\": null, \"original_prog__amt___rw_\": null, \"orig__prog__year__rw_\": null, \"orignal_prog__amt___con_\": 8634000.0, \"orig__prog__year__con_\": \"21/22\", \"original_prog__amt___con_ni_\": 550000.0, \"orig__prog__year__con_ni_\": \"21/22\", \"total\": 9184000.0, \"_2122_pa_ed\": null, \"_2122_ps_e\": null, \"_2122_rw\": null, \"_2122_con\": 8634000.0, \"_2122_con_ni\": 550000.0, \"_2122_total\": 9184000.0, \"fund_year_1\": \"21/22\", \"_2223_pa_ed\": null, \"_2223_ps_e\": null, \"_2223_rw\": null, \"_2223_con\": null, \"_2223_con_ni\": null, \"_2223_total\": 0.0, \"fund_year_2\": \"22/23\", \"_2324_pa_ed\": null, \"_2324_ps_e\": null, \"_2324_rw\": null, \"_2324_con\": null, \"_2324_con_ni\": null, \"_2324_total\": 0.0, \"fund_year_3\": \"23/24\", \"_2425_pa_ed\": null, \"_2425_ps_e\": null, \"_2425_rw\": null, \"_2425_con\": null, \"_2425_con_ni\": null, \"_2425_total\": 0.0, \"fund_year_4\": \"24/25\", \"Total ATP Funds\": 9184000.0, \"match_total_atp_$_and_total\": \"YES\", \"match_total_atp_$_and_total_atp_x_1000\": \"YES\", \"paed\": 0.0, \"ps_e_\": 0.0, \"rw\": 0.0, \"con\": 8634.0, \"con_ni\": 550.0, \"total_atp__000s_\": 9184.0, \"total_atp_x_1000\": 9184000.0, \"year__pa_ed_\": null, \"year__ps_e_\": null, \"year__rw_\": null, \"year__con_\": \"21/22\", \"year__con_ni_\": \"21/22\", \"Implemeting Agency Name\": \"City of Santa Cruz\"}, {\"Project ID\": \"5-Seaside, City of-1\", \"project_cycle\": 5, \"a1_locode\": 5316.0, \"#\": null, \"atp_id\": null, \"awarded\": \"Y\", \"ppno\": \"3059A\", \"ppno_1\": \"3059B\", \"data_origin\": \"Funded\", \"geometry\": null, \"project_status\": \"Active\", \"solicitation_abv\": \"R\", \"solicitation\": \"SMALL URBAN & RURAL SOLICITATION-CYCLE 5\", \"soliciting_agency\": \"CALTRANS\", \"project_size\": \"Large\", \"a1_imp_agcy_city\": \"Seaside\", \"a1_imp_agcy_name\": \"Seaside, City of\", \"a1_proj_partner_agcy\": \"Transportation Agency for Monterey County & Monterey County Health Department (see MCHD info and \\\"letter of intent\\\" attached)\", \"a1_proj_partner_exists\": \"Yes\", \"assembly_district\": 29, \"congressional_district\": 20, \"senate_district\": 17, \"County\": \"Monterey\", \"a2_ct_dist\": 5, \"a2_info_proj_descr\": \"The Broadway Ave Complete Streets Corridor project includes the PA&ED, PS&E and Construction phases of a 1.3 mile road diet on Broadway Ave and SRTS improvements on Yosemite Ave\", \"a2_info_proj_loc\": \"The improvements will be made on 1.3 miles of Broadway Avenue between Fremont Blvd and General Jim Moore Blvd, and on Yosemite Ave between San Pablo Ave and Wanda Ave. \", \"Project Name\": \"Broadway Ave Complete Street Corridor\", \"a2_mop_uza_population\": \"Project is located outside one of the ten large MPOs in a UZA with Pop <=200,000 and > than 5,000\", \"a2_mpo\": \"AMBAG\", \"a2_rtpa\": \"TAMC\", \"a2_proj_scope_summary\": \"The Broadway Ave Complete Streets Corridor project will create the only continuous citywide east-west bicycle facility in Seaside which will serve as a strong backbone for future safe bicycling and walking infrastructure projects throughout the city.  Bro\", \"a1_imp_agcy_fed_ma_num\": \"05-5316F15\", \"a1_imp_agcy_ma\": \"Yes\", \"a1_imp_agcy_state_ma_num\": null, \"a1_imp_agcy_street\": \"440 Harcourt Avenue\", \"a1_imp_agcy_title\": \"Public Works Director\", \"a1_imp_agcy_zip\": 93955, \"a1_letter_of_intent\": null, \"a1_proj_partner_title\": \"Executive Director\", \"a2_assem_dist_a\": 29.0, \"a2_assem_dist_b\": null, \"a2_assem_dist_c\": null, \"a2_congress_dist_a\": 20.0, \"a2_congress_dist_b\": null, \"a2_congress_dist_c\": null, \"a2_past_proj\": \"Yes                           \", \"a2_past_proj_qty\": 2, \"a2_proj_lat\": 36.609029, \"a2_proj_long\": -121.836674, \"a2_project_location_map\": null, \"a2_senate_dist_a\": 17.0, \"a2_senate_dist_b\": null, \"a2_senatedistc\": null, \"a3_plan_active_trans\": null, \"a3_plan_active_trans_exists\": \"Yes\", \"a3_plan_bicycle\": null, \"a3_plan_bicycle_exists\": \"No \", \"a3_plan_ped\": null, \"a3_plan_ped_exists\": \"No \", \"a3_plan_srts\": null, \"a3_plan_srts_exists\": \"Yes\", \"a3_proj_type\": null, \"a3_st_bicycle_applies\": \"Yes\", \"a3_st_bicycle_pct\": 75.0, \"a3_st_num_schools\": 2, \"a3_st_ped_applies\": \"Yes\", \"a3_st_ped_pct\": 25, \"a3_st_srts\": \"Yes\", \"a3_trail_elig_cost\": 0.0, \"a3_trail_fed_funding\": null, \"a3_trail_trans_pct\": null, \"a3_trails\": null, \"agency_app_num\": null, \"app_pk\": null, \"attch_addtl_attachments\": null, \"attch_app_sig_page\": null, \"attch_conditions_photos\": null, \"attch_conditions_project_map\": null, \"attch_engineeers_checklist\": null, \"attch_exhibit22_plan\": null, \"attch_letters_of_support\": null, \"attch_link\": null, \"attch_ni_workplan\": null, \"attch_project_estimate\": null, \"completed_pdf_form\": null, \"main_datetime_stamp\": \"\", \"a3_plan_none\": \"No\", \"a3_plan_other\": \"Yes\", \"a3_plan_other_desc\": \"General Plan\", \"a2_output_outcome\": \"Design and construction of a road diet with enhanced bicycle facilities and roundabouts will create a safer and more comfortable environment for walking and bicycling from the west to the east end of Seaside.\", \"a3_current_plan\": \"Yes\", \"b_sig_inter_new_bike_boxes\": 2.0, \"b_class_1\": null, \"b_class_2\": 6592.0, \"b_class_3\": 6283.0, \"b_class_4\": 1812.0, \"a4_bike_gap_pct\": null, \"b_light_intersection\": null, \"b_mid_block_new_rrfb_signal\": null, \"b_mid_block_surf_improv\": null, \"b_bsp_new_bikes\": 50.0, \"b_bike_new_secured_lockers\": null, \"b_bike_new_racks\": 6.0, \"b_bsp_new_station\": null, \"b_other_bike_improv_1\": \"green striping at conflict areas\", \"b_other_bike_improv_qty_1\": 20.0, \"b_other_bike_improv_2\": \"striped bike buffer for class II\", \"b_other_bike_improv_qty_2\": 1.0, \"b_light_rdwy_seg\": null, \"b_sig_inter_timing_improv\": null, \"b_un_sig_new_rrfb_signal\": null, \"b_un_sig_cross_surf_improv\": null, \"a4_easement_support\": null, \"m_cls_1_trails_widen_recon_exist\": null, \"m_cls_1_trails_new__less_than_9\": null, \"m_cls_1_trails_new_over_9\": null, \"m_non_cls_trails_new\": null, \"m_other_trail_imprv_1\": null, \"m_other_trail_improv_qty_1\": null, \"m_other_trail_imprv_2\": null, \"m_other_trail_improv_qty_2\": null, \"m_non_cls_widen_recon_exist\": null, \"p_amenities_bench\": null, \"a4_ped_gap_pct\": null, \"p_mid_block_cross_new_rrfb_signal\": 1.0, \"p_light_intersection\": 6.0, \"p_lighting_rdwy_seg\": null, \"p_mid_block_cross_surf_improv\": 1.0, \"p_new_ada_ramp\": 46.0, \"p_sidewlks_new_barrier_protect\": null, \"p_sidewlks_new_4_to_8\": 1233.0, \"p_sidewlks_new_over_8\": null, \"p_other_ped_imprv_1\": \"Curb extensions (bulbouts)\", \"p_other_ped_qty_1\": 38.0, \"p_other_ped_imprv_2\": \"crossing refuge area\", \"p_other_ped_qty_2\": 23.0, \"p_reconstruct_ramp_to_ada_stand\": 20.0, \"p_sidewlks_reconstruct_enhance_exist\": null, \"p_sig_inter_enhance_exist_crosswlk\": null, \"p_sig_inter_new_crosswlk\": null, \"p_sig_inter_ped_heads\": null, \"p_sig_inter_shorten_cross\": null, \"p_sig_inter_timing_improv\": null, \"p_amenities_trash_can\": null, \"p_amenities_shade_tree\": null, \"p_amenities_shade_tree_type\": null, \"p_un_sig_inter_new_traff_sig\": null, \"p_un_sig_inter_new_roundabout\": 6.0, \"p_un_sig_inter_new_rrfb_sig\": null, \"p_un_sig_inter_shorten_cross\": 29.0, \"p_un_sig_inter_cross_surface_improv\": 29.0, \"p_sidewlks_widen_existing\": null, \"a4_row_100\": null, \"a4_row_gov_ease\": null, \"a4_row_private_ease\": null, \"v_other_traffic_calming_imprv_1\": \"Curb extensions 9bulbouts)\", \"v_speed_feedback_signs\": null, \"v_other_traffic_calming_qty_1\": 38.0, \"v_other_traffic_calming_imprv_2\": null, \"v_other_traffic_calming_qty_2\": null, \"v_remove_right_turn_pocket\": null, \"v_remove_travel_ln\": 20064.0, \"v_sig_inter_new_roundabout\": 2.0, \"v_sig_inter_timing_improv\": null, \"v_un_sig_inter_new_traf_sig\": null, \"v_un_sig_inter_new_roundabout\": 5.0, \"app_fk\": null, \"details_datetime_stamp\": \"\", \"a4_reg_init\": \"N\", \"a4_reg_init_pct\": 0, \"a4_com_init\": \"Y\", \"a4_com_init_pct\": 45, \"a4_safe_route\": \"Y\", \"a4_safe_route_pct\": 50, \"a4_fl_mile\": \"Y\", \"a4_fl_mile_pct\": 5, \"a4_emp_based\": null, \"a4_emp_based_pct\": 0.0, \"a4_other_ni\": \"N\", \"a4_other_ni_descr\": null, \"a4_other_ni_pct\": 0, \"a4_wb_audits\": 0.0, \"a4_bike_classes\": 15.0, \"a4_ped_classes\": 0.0, \"a4_demo_events\": 1.0, \"a4_com_enc\": 6.0, \"a4_le_methods\": 0.0, \"a4_com_meetings\": 12.0, \"a4_classrooms\": 0.0, \"a4_school_assem\": 8.0, \"a4_after_school\": 0.0, \"a4_bike_rodeos\": 16.0, \"a4_mock_cities\": 24.0, \"a4_walk_bus\": 2.0, \"a4_bike_train\": 0.0, \"a4_com_challenges\": 6.0, \"a4_srts_enc\": 120.0, \"a4_srts_le\": 0.0, \"a4_srts_training\": 6.0, \"a4_act_other_1\": 3.0, \"a4_act_other_1_descr\": \"traffic gardens\", \"a4_act_other_2\": 6.0, \"a4_act_other_2_decr\": \"Safe walking presentations to seniors\", \"a4_comm_trad_media\": \"Y\", \"a4_comm_large_media\": \"N\", \"a4_comm_print\": \"Y\", \"a4_comm_social\": \"Y\", \"a4_comm_web\": \"Y\", \"a4_comm_other\": \"Y\", \"a4_comm_other_descr\": \"Construction text updates\", \"a4_comm_language\": \"Spanish\", \"a4_collab_pub_health\": \"Y\", \"a4_collab_le\": \"Y\", \"a4_collab_non_profit\": \"Y\", \"a4_collab_schools\": \"Y\", \"a4_collab_pub_works\": \"Y\", \"a4_collab_other\": \"Y\", \"a4_colab_other_descr\": \"RTPA\", \"a4_plan_ped\": \"N\", \"a4_plan_bike\": \"N\", \"a4_plan_atp\": \"N\", \"a4_plan_school_routes\": \"N\", \"a4_row_open_street_demo\": \"No\", \"atp_id_x\": \"ATP5-05-018R\", \"a3_proj_type_x\": \"Infrastructure + NI - Large\", \"agency_fully_own_r_w\": \"X\", \"require_r_w_easement,_from_gov\": null, \"_require_rw_easement_from_private\": null, \"atp_id_y\": \"ATP5-5-018R\", \"ppno1\": null, \"oversight_id\": \"Standard\", \"a3_proj_type_y\": \"Combined (IF and NI)\", \"Total Project Cost\": 14001000.0, \"original_prog__amt___pa_ed_\": null, \"orig__prog__year__pa_ed_\": null, \"original_prog__amt___ps_e_\": 1576000.0, \"orig__prog__year__ps_e_\": \"21/22\", \"original_prog__amt___rw_\": null, \"orig__prog__year__rw_\": null, \"orignal_prog__amt___con_\": 9450000.0, \"orig__prog__year__con_\": \"23/24\", \"original_prog__amt___con_ni_\": 1015000.0, \"orig__prog__year__con_ni_\": \"23/24\", \"total\": 12041000.0, \"_2122_pa_ed\": null, \"_2122_ps_e\": 1576000.0, \"_2122_rw\": null, \"_2122_con\": null, \"_2122_con_ni\": null, \"_2122_total\": 1576000.0, \"fund_year_1\": \"21/22\", \"_2223_pa_ed\": null, \"_2223_ps_e\": null, \"_2223_rw\": null, \"_2223_con\": null, \"_2223_con_ni\": null, \"_2223_total\": 0.0, \"fund_year_2\": \"22/23\", \"_2324_pa_ed\": null, \"_2324_ps_e\": null, \"_2324_rw\": null, \"_2324_con\": 9450000.0, \"_2324_con_ni\": 1015000.0, \"_2324_total\": 10465000.0, \"fund_year_3\": \"23/24\", \"_2425_pa_ed\": null, \"_2425_ps_e\": null, \"_2425_rw\": null, \"_2425_con\": null, \"_2425_con_ni\": null, \"_2425_total\": 0.0, \"fund_year_4\": \"24/25\", \"Total ATP Funds\": 12041000.0, \"match_total_atp_$_and_total\": \"YES\", \"match_total_atp_$_and_total_atp_x_1000\": \"YES\", \"paed\": 0.0, \"ps_e_\": 1576.0, \"rw\": 0.0, \"con\": 9450.0, \"con_ni\": 1015.0, \"total_atp__000s_\": 12041.0, \"total_atp_x_1000\": 12041000.0, \"year__pa_ed_\": null, \"year__ps_e_\": \"21/22\", \"year__rw_\": null, \"year__con_\": \"23/24\", \"year__con_ni_\": \"23/24\", \"Implemeting Agency Name\": \"City of Seaside\"}, {\"Project ID\": \"5-Watsonville, City of-1\", \"project_cycle\": 5, \"a1_locode\": 5031.0, \"#\": null, \"atp_id\": null, \"awarded\": \"Y\", \"ppno\": \"0413A\", \"ppno_1\": null, \"data_origin\": \"Funded\", \"geometry\": null, \"project_status\": \"Active\", \"solicitation_abv\": \"S\", \"solicitation\": \"STATEWIDE SOLICITATION-CYCLE 5\", \"soliciting_agency\": \"CALTRANS\", \"project_size\": \"Large\", \"a1_imp_agcy_city\": \"Watsonville\", \"a1_imp_agcy_name\": \"Watsonville, City of\", \"a1_proj_partner_agcy\": \"Caltrans District 5\", \"a1_proj_partner_exists\": \"Yes\", \"assembly_district\": 30, \"congressional_district\": 20, \"senate_district\": 17, \"County\": \"Santa Cruz\", \"a2_ct_dist\": 5, \"a2_info_proj_descr\": \"Install pedestrian bridge, sidewalk, class IV bike lanes, intersection improvements, high visibility crosswalks, curb extensions, upgraded curb ramps and pedestrian & bike safety.\", \"a2_info_proj_loc\": \"Harkins Slough Rd between Pajaro Valley High School and Green Valley Rd & Silver Leaf Dr intersection and at feeder schools and various locations within the PVHS attendance area.\", \"Project Name\": \"Safer Access to Pajaro Valley High School and Beyond\", \"a2_mop_uza_population\": \"Project is located outside one of the ten large MPOs in a UZA with Pop <=200,000 and > than 5,000\", \"a2_mpo\": \"AMBAG\", \"a2_rtpa\": \"SCCRTC\", \"a2_proj_scope_summary\": \"With all 1,451 Pajaro Valley High School (PVHS) students arriving and departing at the same time via a single, two-lane bridge over State Route 1, traffic is bumper to bumper and the students who walk or bike to school (35% of students use this active tra\", \"a1_imp_agcy_fed_ma_num\": \"05-0531R\", \"a1_imp_agcy_ma\": \"Yes\", \"a1_imp_agcy_state_ma_num\": \"00243S\", \"a1_imp_agcy_street\": \"250 Main Street\", \"a1_imp_agcy_title\": \"Principle Engineer\", \"a1_imp_agcy_zip\": 95076, \"a1_letter_of_intent\": null, \"a1_proj_partner_title\": \"Project Manager\", \"a2_assem_dist_a\": 30.0, \"a2_assem_dist_b\": null, \"a2_assem_dist_c\": null, \"a2_congress_dist_a\": 20.0, \"a2_congress_dist_b\": null, \"a2_congress_dist_c\": null, \"a2_past_proj\": \"Yes                           \", \"a2_past_proj_qty\": 1, \"a2_proj_lat\": 36.914583, \"a2_proj_long\": -121.78, \"a2_project_location_map\": null, \"a2_senate_dist_a\": 17.0, \"a2_senate_dist_b\": null, \"a2_senatedistc\": null, \"a3_plan_active_trans\": null, \"a3_plan_active_trans_exists\": \"No \", \"a3_plan_bicycle\": null, \"a3_plan_bicycle_exists\": \"Yes\", \"a3_plan_ped\": null, \"a3_plan_ped_exists\": \"Yes\", \"a3_plan_srts\": null, \"a3_plan_srts_exists\": \"Yes\", \"a3_proj_type\": null, \"a3_st_bicycle_applies\": \"Yes\", \"a3_st_bicycle_pct\": 50.0, \"a3_st_num_schools\": 7, \"a3_st_ped_applies\": \"Yes\", \"a3_st_ped_pct\": 50, \"a3_st_srts\": \"Yes\", \"a3_trail_elig_cost\": 0.0, \"a3_trail_fed_funding\": null, \"a3_trail_trans_pct\": null, \"a3_trails\": null, \"agency_app_num\": null, \"app_pk\": null, \"attch_addtl_attachments\": null, \"attch_app_sig_page\": null, \"attch_conditions_photos\": null, \"attch_conditions_project_map\": null, \"attch_engineeers_checklist\": null, \"attch_exhibit22_plan\": null, \"attch_letters_of_support\": null, \"attch_link\": null, \"attch_ni_workplan\": null, \"attch_project_estimate\": null, \"completed_pdf_form\": null, \"main_datetime_stamp\": \"\", \"a3_plan_none\": \"0\", \"a3_plan_other\": \"0\", \"a3_plan_other_desc\": \"Safe Streets Save Lives Vision Zero Action Plan 2020\", \"a2_output_outcome\": \"Construction of 1 pedestrian bridge, 1 sidewalk, 4 class IV bike lanes, 4 high visibility crosswalks, 10 curb extensions, 1 traffic garden, and 8 intersection improvements will improve safety for pedestrian and/or bicyclists.\", \"a3_current_plan\": \"Yes\", \"b_sig_inter_new_bike_boxes\": null, \"b_class_1\": null, \"b_class_2\": null, \"b_class_3\": null, \"b_class_4\": 420.0, \"a4_bike_gap_pct\": null, \"b_light_intersection\": null, \"b_mid_block_new_rrfb_signal\": null, \"b_mid_block_surf_improv\": null, \"b_bsp_new_bikes\": null, \"b_bike_new_secured_lockers\": null, \"b_bike_new_racks\": null, \"b_bsp_new_station\": null, \"b_other_bike_improv_1\": \"Convert C1 2 bike lane to C4 (miles)\", \"b_other_bike_improv_qty_1\": 2.0, \"b_other_bike_improv_2\": \"Modify Existing intersection to protect\", \"b_other_bike_improv_qty_2\": 1.0, \"b_light_rdwy_seg\": null, \"b_sig_inter_timing_improv\": null, \"b_un_sig_new_rrfb_signal\": 2.0, \"b_un_sig_cross_surf_improv\": null, \"a4_easement_support\": null, \"m_cls_1_trails_widen_recon_exist\": null, \"m_cls_1_trails_new__less_than_9\": null, \"m_cls_1_trails_new_over_9\": null, \"m_non_cls_trails_new\": null, \"m_other_trail_imprv_1\": null, \"m_other_trail_improv_qty_1\": null, \"m_other_trail_imprv_2\": null, \"m_other_trail_improv_qty_2\": null, \"m_non_cls_widen_recon_exist\": null, \"p_amenities_bench\": null, \"a4_ped_gap_pct\": 50.0, \"p_mid_block_cross_new_rrfb_signal\": null, \"p_light_intersection\": null, \"p_lighting_rdwy_seg\": null, \"p_mid_block_cross_surf_improv\": null, \"p_new_ada_ramp\": null, \"p_sidewlks_new_barrier_protect\": null, \"p_sidewlks_new_4_to_8\": 180.0, \"p_sidewlks_new_over_8\": 140.0, \"p_other_ped_imprv_1\": null, \"p_other_ped_qty_1\": null, \"p_other_ped_imprv_2\": null, \"p_other_ped_qty_2\": null, \"p_reconstruct_ramp_to_ada_stand\": 19.0, \"p_sidewlks_reconstruct_enhance_exist\": null, \"p_sig_inter_enhance_exist_crosswlk\": 4.0, \"p_sig_inter_new_crosswlk\": null, \"p_sig_inter_ped_heads\": null, \"p_sig_inter_shorten_cross\": null, \"p_sig_inter_timing_improv\": null, \"p_amenities_trash_can\": null, \"p_amenities_shade_tree\": null, \"p_amenities_shade_tree_type\": null, \"p_un_sig_inter_new_traff_sig\": null, \"p_un_sig_inter_new_roundabout\": null, \"p_un_sig_inter_new_rrfb_sig\": null, \"p_un_sig_inter_shorten_cross\": 5.0, \"p_un_sig_inter_cross_surface_improv\": 16.0, \"p_sidewlks_widen_existing\": null, \"a4_row_100\": null, \"a4_row_gov_ease\": null, \"a4_row_private_ease\": null, \"v_other_traffic_calming_imprv_1\": null, \"v_speed_feedback_signs\": null, \"v_other_traffic_calming_qty_1\": null, \"v_other_traffic_calming_imprv_2\": null, \"v_other_traffic_calming_qty_2\": null, \"v_remove_right_turn_pocket\": null, \"v_remove_travel_ln\": null, \"v_sig_inter_new_roundabout\": null, \"v_sig_inter_timing_improv\": null, \"v_un_sig_inter_new_traf_sig\": null, \"v_un_sig_inter_new_roundabout\": null, \"app_fk\": null, \"details_datetime_stamp\": \"\", \"a4_reg_init\": \"N\", \"a4_reg_init_pct\": 0, \"a4_com_init\": \"Y\", \"a4_com_init_pct\": 8, \"a4_safe_route\": \"Y\", \"a4_safe_route_pct\": 92, \"a4_fl_mile\": \"N\", \"a4_fl_mile_pct\": 0, \"a4_emp_based\": null, \"a4_emp_based_pct\": 0.0, \"a4_other_ni\": \"N\", \"a4_other_ni_descr\": null, \"a4_other_ni_pct\": 0, \"a4_wb_audits\": 0.0, \"a4_bike_classes\": 0.0, \"a4_ped_classes\": 0.0, \"a4_demo_events\": 0.0, \"a4_com_enc\": 4.0, \"a4_le_methods\": 0.0, \"a4_com_meetings\": 0.0, \"a4_classrooms\": 128.0, \"a4_school_assem\": 48.0, \"a4_after_school\": 9.0, \"a4_bike_rodeos\": 60.0, \"a4_mock_cities\": 68.0, \"a4_walk_bus\": 0.0, \"a4_bike_train\": 0.0, \"a4_com_challenges\": 0.0, \"a4_srts_enc\": 56.0, \"a4_srts_le\": 0.0, \"a4_srts_training\": 0.0, \"a4_act_other_1\": 1.0, \"a4_act_other_1_descr\": \"permanently installed community traffic garden\", \"a4_act_other_2\": 6.0, \"a4_act_other_2_decr\": \"semester long bicycle maintenance education classes\", \"a4_comm_trad_media\": \"Y\", \"a4_comm_large_media\": \"N\", \"a4_comm_print\": \"Y\", \"a4_comm_social\": \"Y\", \"a4_comm_web\": \"N\", \"a4_comm_other\": \"N\", \"a4_comm_other_descr\": null, \"a4_comm_language\": \"Spanish\", \"a4_collab_pub_health\": \"Y\", \"a4_collab_le\": \"N\", \"a4_collab_non_profit\": \"Y\", \"a4_collab_schools\": \"Y\", \"a4_collab_pub_works\": \"Y\", \"a4_collab_other\": \"N\", \"a4_colab_other_descr\": null, \"a4_plan_ped\": \"N\", \"a4_plan_bike\": \"N\", \"a4_plan_atp\": \"N\", \"a4_plan_school_routes\": \"N\", \"a4_row_open_street_demo\": \"No\", \"atp_id_x\": \"ATP5-05-034S\", \"a3_proj_type_x\": \"Infrastructure + NI - Large\", \"agency_fully_own_r_w\": null, \"require_r_w_easement,_from_gov\": null, \"_require_rw_easement_from_private\": \"X\", \"atp_id_y\": \"ATP5-5-034S\", \"ppno1\": null, \"oversight_id\": \"Standard\", \"a3_proj_type_y\": \"Combined (IF and NI)\", \"Total Project Cost\": 15823000.0, \"original_prog__amt___pa_ed_\": null, \"orig__prog__year__pa_ed_\": null, \"original_prog__amt___ps_e_\": null, \"orig__prog__year__ps_e_\": null, \"original_prog__amt___rw_\": 521000.0, \"orig__prog__year__rw_\": \"21/22\", \"orignal_prog__amt___con_\": 10541000.0, \"orig__prog__year__con_\": \"22/23\", \"original_prog__amt___con_ni_\": 647000.0, \"orig__prog__year__con_ni_\": \"21/22\", \"total\": 11709000.0, \"_2122_pa_ed\": null, \"_2122_ps_e\": null, \"_2122_rw\": 521000.0, \"_2122_con\": null, \"_2122_con_ni\": 647000.0, \"_2122_total\": 1168000.0, \"fund_year_1\": \"21/22\", \"_2223_pa_ed\": null, \"_2223_ps_e\": null, \"_2223_rw\": null, \"_2223_con\": 10541000.0, \"_2223_con_ni\": null, \"_2223_total\": 10541000.0, \"fund_year_2\": \"22/23\", \"_2324_pa_ed\": null, \"_2324_ps_e\": null, \"_2324_rw\": null, \"_2324_con\": null, \"_2324_con_ni\": null, \"_2324_total\": 0.0, \"fund_year_3\": \"23/24\", \"_2425_pa_ed\": null, \"_2425_ps_e\": null, \"_2425_rw\": null, \"_2425_con\": null, \"_2425_con_ni\": null, \"_2425_total\": 0.0, \"fund_year_4\": \"24/25\", \"Total ATP Funds\": 11709000.0, \"match_total_atp_$_and_total\": \"YES\", \"match_total_atp_$_and_total_atp_x_1000\": \"YES\", \"paed\": 0.0, \"ps_e_\": 0.0, \"rw\": 521.0, \"con\": 10541.0, \"con_ni\": 647.0, \"total_atp__000s_\": 11709.0, \"total_atp_x_1000\": 11709000.0, \"year__pa_ed_\": null, \"year__ps_e_\": null, \"year__rw_\": \"21/22\", \"year__con_\": \"22/23\", \"year__con_ni_\": \"21/22\", \"Implemeting Agency Name\": \"City of Watsonville\"}, {\"Project ID\": \"5-Santa Barbara, City of-3\", \"project_cycle\": 5, \"a1_locode\": 5007.0, \"#\": null, \"atp_id\": null, \"awarded\": \"Y\", \"ppno\": 3057, \"ppno_1\": null, \"data_origin\": \"Funded\", \"geometry\": null, \"project_status\": \"Active\", \"solicitation_abv\": \"R\", \"solicitation\": \"SMALL URBAN & RURAL SOLICITATION-CYCLE 5\", \"soliciting_agency\": \"CALTRANS\", \"project_size\": \"Small\", \"a1_imp_agcy_city\": \"Santa Barbara\", \"a1_imp_agcy_name\": \"Santa Barbara, City of\", \"a1_proj_partner_agcy\": null, \"a1_proj_partner_exists\": \"No \", \"assembly_district\": 37, \"congressional_district\": 24, \"senate_district\": 19, \"County\": \"Santa Barbara\", \"a2_ct_dist\": 5, \"a2_info_proj_descr\": \"Design and construct buffered bike lanes on De La Vina Street, class III connections, 210-feet of sidewalk infill, and curb extensions at six intersections.\", \"a2_info_proj_loc\": \"On De La Vina Street from Alamar Avenue to Padre Street, on Padre Street from De La Vina Street to State Street, and the intersection of Alamar Avenue and Junipero Street.\", \"Project Name\": \"Upper De La Vina Street Gap Closure and Safe Crossings \", \"a2_mop_uza_population\": \"Project is located outside one of the ten large MPOs in a UZA with Pop <=200,000 and > than 5,000\", \"a2_mpo\": \"SBCAG\", \"a2_rtpa\": \"None\", \"a2_proj_scope_summary\": \"-Existing Conditions-\\r\\rDe La Vina Street had the second highest number of bicycle or pedestrian involved collisions of all corridors in Santa Barbara between 2015 and 2017, and has been identified as a high priority corridor in the City's Vision Zero Stra\", \"a1_imp_agcy_fed_ma_num\": \"05-5007F15\", \"a1_imp_agcy_ma\": \"Yes\", \"a1_imp_agcy_state_ma_num\": \"00167S\", \"a1_imp_agcy_street\": \"630 Garden Street\", \"a1_imp_agcy_title\": \"Principal Transportation Engineer\", \"a1_imp_agcy_zip\": 93101, \"a1_letter_of_intent\": null, \"a1_proj_partner_title\": null, \"a2_assem_dist_a\": 0.0, \"a2_assem_dist_b\": 3.0, \"a2_assem_dist_c\": 7.0, \"a2_congress_dist_a\": 0.0, \"a2_congress_dist_b\": 2.0, \"a2_congress_dist_c\": 4.0, \"a2_past_proj\": \"No                            \", \"a2_past_proj_qty\": 0, \"a2_proj_lat\": 34.431627, \"a2_proj_long\": -119.720724, \"a2_project_location_map\": null, \"a2_senate_dist_a\": 0.0, \"a2_senate_dist_b\": 1.0, \"a2_senatedistc\": 9.0, \"a3_plan_active_trans\": null, \"a3_plan_active_trans_exists\": \"No \", \"a3_plan_bicycle\": null, \"a3_plan_bicycle_exists\": \"Yes\", \"a3_plan_ped\": null, \"a3_plan_ped_exists\": \"Yes\", \"a3_plan_srts\": null, \"a3_plan_srts_exists\": \"No \", \"a3_proj_type\": null, \"a3_st_bicycle_applies\": \"Yes\", \"a3_st_bicycle_pct\": 50.0, \"a3_st_num_schools\": 3, \"a3_st_ped_applies\": \"Yes\", \"a3_st_ped_pct\": 50, \"a3_st_srts\": \"No \", \"a3_trail_elig_cost\": 0.0, \"a3_trail_fed_funding\": null, \"a3_trail_trans_pct\": null, \"a3_trails\": null, \"agency_app_num\": null, \"app_pk\": null, \"attch_addtl_attachments\": null, \"attch_app_sig_page\": null, \"attch_conditions_photos\": null, \"attch_conditions_project_map\": null, \"attch_engineeers_checklist\": null, \"attch_exhibit22_plan\": null, \"attch_letters_of_support\": null, \"attch_link\": null, \"attch_ni_workplan\": null, \"attch_project_estimate\": null, \"completed_pdf_form\": null, \"main_datetime_stamp\": \"\", \"a3_plan_none\": \"0\", \"a3_plan_other\": \"0\", \"a3_plan_other_desc\": null, \"a2_output_outcome\": \"Install .65 miles of new Class II buffered bike lanes, curb extensions at six intersections, and 210-feet of sidewalk infill to close gaps in the network and improve safety for cyclists and pedestrians.\", \"a3_current_plan\": \"Yes\", \"b_sig_inter_new_bike_boxes\": null, \"b_class_1\": null, \"b_class_2\": 3475.0, \"b_class_3\": 4965.0, \"b_class_4\": null, \"a4_bike_gap_pct\": null, \"b_light_intersection\": null, \"b_mid_block_new_rrfb_signal\": null, \"b_mid_block_surf_improv\": null, \"b_bsp_new_bikes\": null, \"b_bike_new_secured_lockers\": null, \"b_bike_new_racks\": null, \"b_bsp_new_station\": null, \"b_other_bike_improv_1\": null, \"b_other_bike_improv_qty_1\": null, \"b_other_bike_improv_2\": null, \"b_other_bike_improv_qty_2\": null, \"b_light_rdwy_seg\": null, \"b_sig_inter_timing_improv\": null, \"b_un_sig_new_rrfb_signal\": null, \"b_un_sig_cross_surf_improv\": null, \"a4_easement_support\": null, \"m_cls_1_trails_widen_recon_exist\": null, \"m_cls_1_trails_new__less_than_9\": null, \"m_cls_1_trails_new_over_9\": null, \"m_non_cls_trails_new\": null, \"m_other_trail_imprv_1\": null, \"m_other_trail_improv_qty_1\": null, \"m_other_trail_imprv_2\": null, \"m_other_trail_improv_qty_2\": null, \"m_non_cls_widen_recon_exist\": null, \"p_amenities_bench\": null, \"a4_ped_gap_pct\": null, \"p_mid_block_cross_new_rrfb_signal\": null, \"p_light_intersection\": 4.0, \"p_lighting_rdwy_seg\": null, \"p_mid_block_cross_surf_improv\": null, \"p_new_ada_ramp\": null, \"p_sidewlks_new_barrier_protect\": null, \"p_sidewlks_new_4_to_8\": 210.0, \"p_sidewlks_new_over_8\": null, \"p_other_ped_imprv_1\": null, \"p_other_ped_qty_1\": null, \"p_other_ped_imprv_2\": null, \"p_other_ped_qty_2\": null, \"p_reconstruct_ramp_to_ada_stand\": 21.0, \"p_sidewlks_reconstruct_enhance_exist\": null, \"p_sig_inter_enhance_exist_crosswlk\": null, \"p_sig_inter_new_crosswlk\": null, \"p_sig_inter_ped_heads\": null, \"p_sig_inter_shorten_cross\": null, \"p_sig_inter_timing_improv\": null, \"p_amenities_trash_can\": null, \"p_amenities_shade_tree\": null, \"p_amenities_shade_tree_type\": null, \"p_un_sig_inter_new_traff_sig\": null, \"p_un_sig_inter_new_roundabout\": null, \"p_un_sig_inter_new_rrfb_sig\": null, \"p_un_sig_inter_shorten_cross\": 6.0, \"p_un_sig_inter_cross_surface_improv\": null, \"p_sidewlks_widen_existing\": null, \"a4_row_100\": null, \"a4_row_gov_ease\": null, \"a4_row_private_ease\": null, \"v_other_traffic_calming_imprv_1\": null, \"v_speed_feedback_signs\": null, \"v_other_traffic_calming_qty_1\": null, \"v_other_traffic_calming_imprv_2\": null, \"v_other_traffic_calming_qty_2\": null, \"v_remove_right_turn_pocket\": null, \"v_remove_travel_ln\": null, \"v_sig_inter_new_roundabout\": null, \"v_sig_inter_timing_improv\": null, \"v_un_sig_inter_new_traf_sig\": null, \"v_un_sig_inter_new_roundabout\": null, \"app_fk\": null, \"details_datetime_stamp\": \"\", \"a4_reg_init\": \"N\", \"a4_reg_init_pct\": 0, \"a4_com_init\": \"N\", \"a4_com_init_pct\": 0, \"a4_safe_route\": \"N\", \"a4_safe_route_pct\": 0, \"a4_fl_mile\": \"N\", \"a4_fl_mile_pct\": 0, \"a4_emp_based\": null, \"a4_emp_based_pct\": 0.0, \"a4_other_ni\": \"N\", \"a4_other_ni_descr\": null, \"a4_other_ni_pct\": 0, \"a4_wb_audits\": 0.0, \"a4_bike_classes\": 0.0, \"a4_ped_classes\": 0.0, \"a4_demo_events\": 0.0, \"a4_com_enc\": 0.0, \"a4_le_methods\": 0.0, \"a4_com_meetings\": 0.0, \"a4_classrooms\": 0.0, \"a4_school_assem\": 0.0, \"a4_after_school\": 0.0, \"a4_bike_rodeos\": 0.0, \"a4_mock_cities\": 0.0, \"a4_walk_bus\": 0.0, \"a4_bike_train\": 0.0, \"a4_com_challenges\": 0.0, \"a4_srts_enc\": 0.0, \"a4_srts_le\": 0.0, \"a4_srts_training\": 0.0, \"a4_act_other_1\": 0.0, \"a4_act_other_1_descr\": null, \"a4_act_other_2\": 0.0, \"a4_act_other_2_decr\": null, \"a4_comm_trad_media\": \"N\", \"a4_comm_large_media\": \"N\", \"a4_comm_print\": \"N\", \"a4_comm_social\": \"N\", \"a4_comm_web\": \"N\", \"a4_comm_other\": \"N\", \"a4_comm_other_descr\": null, \"a4_comm_language\": null, \"a4_collab_pub_health\": \"N\", \"a4_collab_le\": \"N\", \"a4_collab_non_profit\": \"N\", \"a4_collab_schools\": \"N\", \"a4_collab_pub_works\": \"N\", \"a4_collab_other\": \"N\", \"a4_colab_other_descr\": null, \"a4_plan_ped\": \"N\", \"a4_plan_bike\": \"N\", \"a4_plan_atp\": \"N\", \"a4_plan_school_routes\": \"N\", \"a4_row_open_street_demo\": \"No\", \"atp_id_x\": \"ATP5-05-001R\", \"a3_proj_type_x\": \"Infrastructure - Small\", \"agency_fully_own_r_w\": \"X\", \"require_r_w_easement,_from_gov\": null, \"_require_rw_easement_from_private\": null, \"atp_id_y\": \"ATP5-5-001R\", \"ppno1\": null, \"oversight_id\": \"Standard\", \"a3_proj_type_y\": \"Infrastructure\", \"Total Project Cost\": 1998000.0, \"original_prog__amt___pa_ed_\": 290000.0, \"orig__prog__year__pa_ed_\": \"21/22\", \"original_prog__amt___ps_e_\": 29000.0, \"orig__prog__year__ps_e_\": \"23/24\", \"original_prog__amt___rw_\": 8000.0, \"orig__prog__year__rw_\": \"23/24\", \"orignal_prog__amt___con_\": 1671000.0, \"orig__prog__year__con_\": \"24/25\", \"original_prog__amt___con_ni_\": null, \"orig__prog__year__con_ni_\": null, \"total\": 1998000.0, \"_2122_pa_ed\": 290000.0, \"_2122_ps_e\": null, \"_2122_rw\": null, \"_2122_con\": null, \"_2122_con_ni\": null, \"_2122_total\": 290000.0, \"fund_year_1\": \"21/22\", \"_2223_pa_ed\": null, \"_2223_ps_e\": null, \"_2223_rw\": null, \"_2223_con\": null, \"_2223_con_ni\": null, \"_2223_total\": 0.0, \"fund_year_2\": \"22/23\", \"_2324_pa_ed\": null, \"_2324_ps_e\": 29000.0, \"_2324_rw\": 8000.0, \"_2324_con\": null, \"_2324_con_ni\": null, \"_2324_total\": 37000.0, \"fund_year_3\": \"23/24\", \"_2425_pa_ed\": null, \"_2425_ps_e\": null, \"_2425_rw\": null, \"_2425_con\": 1671000.0, \"_2425_con_ni\": null, \"_2425_total\": 1671000.0, \"fund_year_4\": \"24/25\", \"Total ATP Funds\": 1998000.0, \"match_total_atp_$_and_total\": \"YES\", \"match_total_atp_$_and_total_atp_x_1000\": \"YES\", \"paed\": 290.0, \"ps_e_\": 29.0, \"rw\": 8.0, \"con\": 1671.0, \"con_ni\": 0.0, \"total_atp__000s_\": 1998.0, \"total_atp_x_1000\": 1998000.0, \"year__pa_ed_\": \"21/22\", \"year__ps_e_\": \"23/24\", \"year__rw_\": \"23/24\", \"year__con_\": \"24/25\", \"year__con_ni_\": null, \"Implemeting Agency Name\": \"City of Santa Barbara\"}, {\"Project ID\": \"5-San Luis Obispo County-1\", \"project_cycle\": 5, \"a1_locode\": 5949.0, \"#\": null, \"atp_id\": null, \"awarded\": \"Y\", \"ppno\": 3060, \"ppno_1\": null, \"data_origin\": \"Funded\", \"geometry\": null, \"project_status\": \"Active\", \"solicitation_abv\": \"S\", \"solicitation\": \"STATEWIDE SOLICITATION-CYCLE 5\", \"soliciting_agency\": \"CALTRANS\", \"project_size\": \"Large\", \"a1_imp_agcy_city\": \"San Luis Obispo\", \"a1_imp_agcy_name\": \"San Luis Obispo County\", \"a1_proj_partner_agcy\": null, \"a1_proj_partner_exists\": \"No \", \"assembly_district\": 35, \"congressional_district\": 24, \"senate_district\": 17, \"County\": \"San Luis Obispo\", \"a2_ct_dist\": 5, \"a2_info_proj_descr\": \"Completion of PS&E, ROW acquisition, and construction of the 4.5-mile Bob Jones Trail  (BJT) Gap Closure between the SLO trailhead and the traihead just north of Pismo Beach.   \", \"a2_info_proj_loc\": \"South of San Luis Obispo and north of Pismo Beach, along US 101, between the San Luis Obispo trailhead, at the Octagon Barn, and the trailhead just north of Pismo Beach.  \", \"Project Name\": \"San Luis Obispo County-Bob Jones Trail Gap Closure\", \"a2_mop_uza_population\": \"Project is located outside one of the ten large MPOs in a UZA with Pop <=200,000 and > than 5,000\", \"a2_mpo\": \"SLOCOG\", \"a2_rtpa\": \"None\", \"a2_proj_scope_summary\": \"This project closes a 4.5-mile gap between two existing sections of Bob Jones multi-use trails by connecting their current termini trailheads; Ontario Rd Trailhead at the north edge of Pismo Beach/Avila Valley and Octagon Barn Trailhead at the south edge \", \"a1_imp_agcy_fed_ma_num\": \"05-5949R\", \"a1_imp_agcy_ma\": \"Yes\", \"a1_imp_agcy_state_ma_num\": \"00322S\", \"a1_imp_agcy_street\": \"1055 Monterey Street\", \"a1_imp_agcy_title\": \"Senior Planner\", \"a1_imp_agcy_zip\": 93408, \"a1_letter_of_intent\": null, \"a1_proj_partner_title\": null, \"a2_assem_dist_a\": 35.0, \"a2_assem_dist_b\": null, \"a2_assem_dist_c\": null, \"a2_congress_dist_a\": 24.0, \"a2_congress_dist_b\": null, \"a2_congress_dist_c\": null, \"a2_past_proj\": \"No                            \", \"a2_past_proj_qty\": 0, \"a2_proj_lat\": 35.213889, \"a2_proj_long\": -120.695607, \"a2_project_location_map\": null, \"a2_senate_dist_a\": 17.0, \"a2_senate_dist_b\": null, \"a2_senatedistc\": null, \"a3_plan_active_trans\": null, \"a3_plan_active_trans_exists\": \"No \", \"a3_plan_bicycle\": null, \"a3_plan_bicycle_exists\": \"Yes\", \"a3_plan_ped\": null, \"a3_plan_ped_exists\": \"No \", \"a3_plan_srts\": null, \"a3_plan_srts_exists\": \"No \", \"a3_proj_type\": null, \"a3_st_bicycle_applies\": \"Yes\", \"a3_st_bicycle_pct\": 50.0, \"a3_st_num_schools\": 0, \"a3_st_ped_applies\": \"Yes\", \"a3_st_ped_pct\": 50, \"a3_st_srts\": \"No \", \"a3_trail_elig_cost\": 0.0, \"a3_trail_fed_funding\": \"Yes\", \"a3_trail_trans_pct\": 100.0, \"a3_trails\": \"X\", \"agency_app_num\": null, \"app_pk\": null, \"attch_addtl_attachments\": null, \"attch_app_sig_page\": null, \"attch_conditions_photos\": null, \"attch_conditions_project_map\": null, \"attch_engineeers_checklist\": null, \"attch_exhibit22_plan\": null, \"attch_letters_of_support\": null, \"attch_link\": null, \"attch_ni_workplan\": null, \"attch_project_estimate\": null, \"completed_pdf_form\": null, \"main_datetime_stamp\": \"\", \"a3_plan_none\": \"0\", \"a3_plan_other\": \"0\", \"a3_plan_other_desc\": \"Parks and Recreation Element of the County's General Plan\", \"a2_output_outcome\": \"Construction of the 4.5-mile Bob Jones Gap Closure will remove barriers to safe access, creating a transformational modal shift opportunity expected to be well over one million trips per year, and potentially more during COVID-19.\", \"a3_current_plan\": \"Yes\", \"b_sig_inter_new_bike_boxes\": null, \"b_class_1\": null, \"b_class_2\": null, \"b_class_3\": null, \"b_class_4\": null, \"a4_bike_gap_pct\": null, \"b_light_intersection\": null, \"b_mid_block_new_rrfb_signal\": null, \"b_mid_block_surf_improv\": null, \"b_bsp_new_bikes\": null, \"b_bike_new_secured_lockers\": null, \"b_bike_new_racks\": null, \"b_bsp_new_station\": null, \"b_other_bike_improv_1\": null, \"b_other_bike_improv_qty_1\": null, \"b_other_bike_improv_2\": null, \"b_other_bike_improv_qty_2\": null, \"b_light_rdwy_seg\": null, \"b_sig_inter_timing_improv\": null, \"b_un_sig_new_rrfb_signal\": null, \"b_un_sig_cross_surf_improv\": null, \"a4_easement_support\": null, \"m_cls_1_trails_widen_recon_exist\": null, \"m_cls_1_trails_new__less_than_9\": null, \"m_cls_1_trails_new_over_9\": 24200.0, \"m_non_cls_trails_new\": null, \"m_other_trail_imprv_1\": \"Trail Bridges over San Luis Creek\", \"m_other_trail_improv_qty_1\": 3.0, \"m_other_trail_imprv_2\": \"Trail Road Undercrossings\", \"m_other_trail_improv_qty_2\": 3.0, \"m_non_cls_widen_recon_exist\": null, \"p_amenities_bench\": null, \"a4_ped_gap_pct\": null, \"p_mid_block_cross_new_rrfb_signal\": null, \"p_light_intersection\": null, \"p_lighting_rdwy_seg\": null, \"p_mid_block_cross_surf_improv\": null, \"p_new_ada_ramp\": null, \"p_sidewlks_new_barrier_protect\": null, \"p_sidewlks_new_4_to_8\": null, \"p_sidewlks_new_over_8\": null, \"p_other_ped_imprv_1\": null, \"p_other_ped_qty_1\": null, \"p_other_ped_imprv_2\": null, \"p_other_ped_qty_2\": null, \"p_reconstruct_ramp_to_ada_stand\": null, \"p_sidewlks_reconstruct_enhance_exist\": null, \"p_sig_inter_enhance_exist_crosswlk\": null, \"p_sig_inter_new_crosswlk\": null, \"p_sig_inter_ped_heads\": null, \"p_sig_inter_shorten_cross\": null, \"p_sig_inter_timing_improv\": null, \"p_amenities_trash_can\": null, \"p_amenities_shade_tree\": null, \"p_amenities_shade_tree_type\": null, \"p_un_sig_inter_new_traff_sig\": null, \"p_un_sig_inter_new_roundabout\": null, \"p_un_sig_inter_new_rrfb_sig\": null, \"p_un_sig_inter_shorten_cross\": null, \"p_un_sig_inter_cross_surface_improv\": null, \"p_sidewlks_widen_existing\": null, \"a4_row_100\": null, \"a4_row_gov_ease\": null, \"a4_row_private_ease\": null, \"v_other_traffic_calming_imprv_1\": null, \"v_speed_feedback_signs\": null, \"v_other_traffic_calming_qty_1\": null, \"v_other_traffic_calming_imprv_2\": null, \"v_other_traffic_calming_qty_2\": null, \"v_remove_right_turn_pocket\": null, \"v_remove_travel_ln\": null, \"v_sig_inter_new_roundabout\": null, \"v_sig_inter_timing_improv\": null, \"v_un_sig_inter_new_traf_sig\": null, \"v_un_sig_inter_new_roundabout\": null, \"app_fk\": null, \"details_datetime_stamp\": \"\", \"a4_reg_init\": \"N\", \"a4_reg_init_pct\": 0, \"a4_com_init\": \"N\", \"a4_com_init_pct\": 0, \"a4_safe_route\": \"N\", \"a4_safe_route_pct\": 0, \"a4_fl_mile\": \"N\", \"a4_fl_mile_pct\": 0, \"a4_emp_based\": null, \"a4_emp_based_pct\": 0.0, \"a4_other_ni\": \"N\", \"a4_other_ni_descr\": null, \"a4_other_ni_pct\": 0, \"a4_wb_audits\": 0.0, \"a4_bike_classes\": 0.0, \"a4_ped_classes\": 0.0, \"a4_demo_events\": 0.0, \"a4_com_enc\": 0.0, \"a4_le_methods\": 0.0, \"a4_com_meetings\": 0.0, \"a4_classrooms\": 0.0, \"a4_school_assem\": 0.0, \"a4_after_school\": 0.0, \"a4_bike_rodeos\": 0.0, \"a4_mock_cities\": 0.0, \"a4_walk_bus\": 0.0, \"a4_bike_train\": 0.0, \"a4_com_challenges\": 0.0, \"a4_srts_enc\": 0.0, \"a4_srts_le\": 0.0, \"a4_srts_training\": 0.0, \"a4_act_other_1\": 0.0, \"a4_act_other_1_descr\": null, \"a4_act_other_2\": 0.0, \"a4_act_other_2_decr\": null, \"a4_comm_trad_media\": \"N\", \"a4_comm_large_media\": \"N\", \"a4_comm_print\": \"N\", \"a4_comm_social\": \"N\", \"a4_comm_web\": \"N\", \"a4_comm_other\": \"N\", \"a4_comm_other_descr\": null, \"a4_comm_language\": null, \"a4_collab_pub_health\": \"N\", \"a4_collab_le\": \"N\", \"a4_collab_non_profit\": \"N\", \"a4_collab_schools\": \"N\", \"a4_collab_pub_works\": \"N\", \"a4_collab_other\": \"N\", \"a4_colab_other_descr\": null, \"a4_plan_ped\": \"N\", \"a4_plan_bike\": \"N\", \"a4_plan_atp\": \"N\", \"a4_plan_school_routes\": \"N\", \"a4_row_open_street_demo\": \"No\", \"atp_id_x\": \"ATP5-05-008S\", \"a3_proj_type_x\": \"Infrastructure - Large\", \"agency_fully_own_r_w\": null, \"require_r_w_easement,_from_gov\": \"X\", \"_require_rw_easement_from_private\": \"X\", \"atp_id_y\": \"ATP5-5-008S\", \"ppno1\": null, \"oversight_id\": \"Standard\", \"a3_proj_type_y\": \"Infrastructure\", \"Total Project Cost\": 23414000.0, \"original_prog__amt___pa_ed_\": null, \"orig__prog__year__pa_ed_\": null, \"original_prog__amt___ps_e_\": 321000.0, \"orig__prog__year__ps_e_\": \"21/22\", \"original_prog__amt___rw_\": 1974000.0, \"orig__prog__year__rw_\": \"21/22\", \"orignal_prog__amt___con_\": 15953000.0, \"orig__prog__year__con_\": \"22/23\", \"original_prog__amt___con_ni_\": null, \"orig__prog__year__con_ni_\": null, \"total\": 18248000.0, \"_2122_pa_ed\": null, \"_2122_ps_e\": 321000.0, \"_2122_rw\": 1974000.0, \"_2122_con\": null, \"_2122_con_ni\": null, \"_2122_total\": 2295000.0, \"fund_year_1\": \"21/22\", \"_2223_pa_ed\": null, \"_2223_ps_e\": null, \"_2223_rw\": null, \"_2223_con\": 15953000.0, \"_2223_con_ni\": null, \"_2223_total\": 15953000.0, \"fund_year_2\": \"22/23\", \"_2324_pa_ed\": null, \"_2324_ps_e\": null, \"_2324_rw\": null, \"_2324_con\": null, \"_2324_con_ni\": null, \"_2324_total\": 0.0, \"fund_year_3\": \"23/24\", \"_2425_pa_ed\": null, \"_2425_ps_e\": null, \"_2425_rw\": null, \"_2425_con\": null, \"_2425_con_ni\": null, \"_2425_total\": 0.0, \"fund_year_4\": \"24/25\", \"Total ATP Funds\": 18248000.0, \"match_total_atp_$_and_total\": \"YES\", \"match_total_atp_$_and_total_atp_x_1000\": \"YES\", \"paed\": 0.0, \"ps_e_\": 321.0, \"rw\": 1974.0, \"con\": 15953.0, \"con_ni\": 0.0, \"total_atp__000s_\": 18248.0, \"total_atp_x_1000\": 18248000.0, \"year__pa_ed_\": null, \"year__ps_e_\": \"21/22\", \"year__rw_\": \"21/22\", \"year__con_\": \"22/23\", \"year__con_ni_\": null, \"Implemeting Agency Name\": \"San Luis Obispo County\"}]}}, {\"mode\": \"vega-lite\"});\n",
       "</script>"
      ],
      "text/plain": [
       "alt.Chart(...)"
      ]
     },
     "metadata": {},
     "output_type": "display_data"
    },
    {
     "data": {
      "text/html": [
       "<h4>Funded Project Information</h4>"
      ],
      "text/plain": [
       "<IPython.core.display.HTML object>"
      ]
     },
     "metadata": {},
     "output_type": "display_data"
    },
    {
     "data": {
      "text/html": [
       "<style type=\"text/css\">\n",
       "#T_e1311_ th {\n",
       "  text-align: center;\n",
       "}\n",
       "#T_e1311_row0_col0, #T_e1311_row0_col1, #T_e1311_row0_col2, #T_e1311_row0_col3, #T_e1311_row0_col4, #T_e1311_row1_col0, #T_e1311_row1_col1, #T_e1311_row1_col2, #T_e1311_row1_col3, #T_e1311_row1_col4, #T_e1311_row2_col0, #T_e1311_row2_col1, #T_e1311_row2_col2, #T_e1311_row2_col3, #T_e1311_row2_col4, #T_e1311_row3_col0, #T_e1311_row3_col1, #T_e1311_row3_col2, #T_e1311_row3_col3, #T_e1311_row3_col4, #T_e1311_row4_col0, #T_e1311_row4_col1, #T_e1311_row4_col2, #T_e1311_row4_col3, #T_e1311_row4_col4 {\n",
       "  text-align: center;\n",
       "}\n",
       "</style>\n",
       "<table id=\"T_e1311_\">\n",
       "  <thead>\n",
       "    <tr>\n",
       "      <th class=\"col_heading level0 col0\" >Implemeting Agency Name</th>\n",
       "      <th class=\"col_heading level0 col1\" >Project Name</th>\n",
       "      <th class=\"col_heading level0 col2\" >County</th>\n",
       "      <th class=\"col_heading level0 col3\" >Total Atp Funds</th>\n",
       "      <th class=\"col_heading level0 col4\" >Total Project Cost</th>\n",
       "    </tr>\n",
       "  </thead>\n",
       "  <tbody>\n",
       "    <tr>\n",
       "      <td id=\"T_e1311_row0_col0\" class=\"data row0 col0\" >City of Santa Cruz</td>\n",
       "      <td id=\"T_e1311_row0_col1\" class=\"data row0 col1\" >Santa Cruz Rail Trail Segment 7 Phase 2 Construction</td>\n",
       "      <td id=\"T_e1311_row0_col2\" class=\"data row0 col2\" >Santa Cruz</td>\n",
       "      <td id=\"T_e1311_row0_col3\" class=\"data row0 col3\" >$ 9,184,000.00</td>\n",
       "      <td id=\"T_e1311_row0_col4\" class=\"data row0 col4\" >$ 12,030,000.00</td>\n",
       "    </tr>\n",
       "    <tr>\n",
       "      <td id=\"T_e1311_row1_col0\" class=\"data row1 col0\" >City of Seaside</td>\n",
       "      <td id=\"T_e1311_row1_col1\" class=\"data row1 col1\" >Broadway Ave Complete Street Corridor</td>\n",
       "      <td id=\"T_e1311_row1_col2\" class=\"data row1 col2\" >Monterey</td>\n",
       "      <td id=\"T_e1311_row1_col3\" class=\"data row1 col3\" >$ 12,041,000.00</td>\n",
       "      <td id=\"T_e1311_row1_col4\" class=\"data row1 col4\" >$ 14,001,000.00</td>\n",
       "    </tr>\n",
       "    <tr>\n",
       "      <td id=\"T_e1311_row2_col0\" class=\"data row2 col0\" >City of Watsonville</td>\n",
       "      <td id=\"T_e1311_row2_col1\" class=\"data row2 col1\" >Safer Access to Pajaro Valley High School and Beyond</td>\n",
       "      <td id=\"T_e1311_row2_col2\" class=\"data row2 col2\" >Santa Cruz</td>\n",
       "      <td id=\"T_e1311_row2_col3\" class=\"data row2 col3\" >$ 11,709,000.00</td>\n",
       "      <td id=\"T_e1311_row2_col4\" class=\"data row2 col4\" >$ 15,823,000.00</td>\n",
       "    </tr>\n",
       "    <tr>\n",
       "      <td id=\"T_e1311_row3_col0\" class=\"data row3 col0\" >City of Santa Barbara</td>\n",
       "      <td id=\"T_e1311_row3_col1\" class=\"data row3 col1\" >Upper De La Vina Street Gap Closure and Safe Crossings </td>\n",
       "      <td id=\"T_e1311_row3_col2\" class=\"data row3 col2\" >Santa Barbara</td>\n",
       "      <td id=\"T_e1311_row3_col3\" class=\"data row3 col3\" >$ 1,998,000.00</td>\n",
       "      <td id=\"T_e1311_row3_col4\" class=\"data row3 col4\" >$ 1,998,000.00</td>\n",
       "    </tr>\n",
       "    <tr>\n",
       "      <td id=\"T_e1311_row4_col0\" class=\"data row4 col0\" >San Luis Obispo County</td>\n",
       "      <td id=\"T_e1311_row4_col1\" class=\"data row4 col1\" >San Luis Obispo County-Bob Jones Trail Gap Closure</td>\n",
       "      <td id=\"T_e1311_row4_col2\" class=\"data row4 col2\" >San Luis Obispo</td>\n",
       "      <td id=\"T_e1311_row4_col3\" class=\"data row4 col3\" >$ 18,248,000.00</td>\n",
       "      <td id=\"T_e1311_row4_col4\" class=\"data row4 col4\" >$ 23,414,000.00</td>\n",
       "    </tr>\n",
       "  </tbody>\n",
       "</table>\n"
      ],
      "text/plain": [
       "<IPython.core.display.HTML object>"
      ]
     },
     "metadata": {},
     "output_type": "display_data"
    },
    {
     "data": {
      "text/html": [
       "</br><h4> Success Rates for Agencies in District 5 </h4>"
      ],
      "text/plain": [
       "<IPython.core.display.HTML object>"
      ]
     },
     "metadata": {},
     "output_type": "display_data"
    },
    {
     "data": {
      "text/html": [
       "<style type=\"text/css\">\n",
       "#T_b9725_ th {\n",
       "  text-align: center;\n",
       "}\n",
       "#T_b9725_row0_col0, #T_b9725_row0_col1, #T_b9725_row0_col2, #T_b9725_row1_col0, #T_b9725_row1_col1, #T_b9725_row1_col2, #T_b9725_row2_col0, #T_b9725_row2_col1, #T_b9725_row2_col2, #T_b9725_row3_col0, #T_b9725_row3_col1, #T_b9725_row3_col2, #T_b9725_row4_col0, #T_b9725_row4_col1, #T_b9725_row4_col2, #T_b9725_row5_col0, #T_b9725_row5_col1, #T_b9725_row5_col2, #T_b9725_row6_col0, #T_b9725_row6_col1, #T_b9725_row6_col2, #T_b9725_row7_col0, #T_b9725_row7_col1, #T_b9725_row7_col2, #T_b9725_row8_col0, #T_b9725_row8_col1, #T_b9725_row8_col2, #T_b9725_row9_col0, #T_b9725_row9_col1, #T_b9725_row9_col2, #T_b9725_row10_col0, #T_b9725_row10_col1, #T_b9725_row10_col2, #T_b9725_row11_col0, #T_b9725_row11_col1, #T_b9725_row11_col2, #T_b9725_row12_col0, #T_b9725_row12_col1, #T_b9725_row12_col2, #T_b9725_row13_col0, #T_b9725_row13_col1, #T_b9725_row13_col2, #T_b9725_row14_col0, #T_b9725_row14_col1, #T_b9725_row14_col2, #T_b9725_row15_col0, #T_b9725_row15_col1, #T_b9725_row15_col2, #T_b9725_row16_col0, #T_b9725_row16_col1, #T_b9725_row16_col2, #T_b9725_row17_col0, #T_b9725_row17_col1, #T_b9725_row17_col2, #T_b9725_row18_col0, #T_b9725_row18_col1, #T_b9725_row18_col2, #T_b9725_row19_col0, #T_b9725_row19_col1, #T_b9725_row19_col2 {\n",
       "  text-align: center;\n",
       "}\n",
       "</style>\n",
       "<table id=\"T_b9725_\">\n",
       "  <thead>\n",
       "    <tr>\n",
       "      <th class=\"col_heading level0 col0\" >Implemeting Agency Name</th>\n",
       "      <th class=\"col_heading level0 col1\" >Total Applications</th>\n",
       "      <th class=\"col_heading level0 col2\" >Success Rate</th>\n",
       "    </tr>\n",
       "  </thead>\n",
       "  <tbody>\n",
       "    <tr>\n",
       "      <td id=\"T_b9725_row0_col0\" class=\"data row0 col0\" >City of Santa Barbara</td>\n",
       "      <td id=\"T_b9725_row0_col1\" class=\"data row0 col1\" >4</td>\n",
       "      <td id=\"T_b9725_row0_col2\" class=\"data row0 col2\" >25.00%</td>\n",
       "    </tr>\n",
       "    <tr>\n",
       "      <td id=\"T_b9725_row1_col0\" class=\"data row1 col0\" >City of Santa Cruz</td>\n",
       "      <td id=\"T_b9725_row1_col1\" class=\"data row1 col1\" >3</td>\n",
       "      <td id=\"T_b9725_row1_col2\" class=\"data row1 col2\" >33.33%</td>\n",
       "    </tr>\n",
       "    <tr>\n",
       "      <td id=\"T_b9725_row2_col0\" class=\"data row2 col0\" >City of Seaside</td>\n",
       "      <td id=\"T_b9725_row2_col1\" class=\"data row2 col1\" >1</td>\n",
       "      <td id=\"T_b9725_row2_col2\" class=\"data row2 col2\" >100.00%</td>\n",
       "    </tr>\n",
       "    <tr>\n",
       "      <td id=\"T_b9725_row3_col0\" class=\"data row3 col0\" >City of Watsonville</td>\n",
       "      <td id=\"T_b9725_row3_col1\" class=\"data row3 col1\" >1</td>\n",
       "      <td id=\"T_b9725_row3_col2\" class=\"data row3 col2\" >100.00%</td>\n",
       "    </tr>\n",
       "    <tr>\n",
       "      <td id=\"T_b9725_row4_col0\" class=\"data row4 col0\" >San Luis Obispo County</td>\n",
       "      <td id=\"T_b9725_row4_col1\" class=\"data row4 col1\" >5</td>\n",
       "      <td id=\"T_b9725_row4_col2\" class=\"data row4 col2\" >20.00%</td>\n",
       "    </tr>\n",
       "    <tr>\n",
       "      <td id=\"T_b9725_row5_col0\" class=\"data row5 col0\" >California Department of Transportation</td>\n",
       "      <td id=\"T_b9725_row5_col1\" class=\"data row5 col1\" >1</td>\n",
       "      <td id=\"T_b9725_row5_col2\" class=\"data row5 col2\" >0.00%</td>\n",
       "    </tr>\n",
       "    <tr>\n",
       "      <td id=\"T_b9725_row6_col0\" class=\"data row6 col0\" >City of Atascadero</td>\n",
       "      <td id=\"T_b9725_row6_col1\" class=\"data row6 col1\" >1</td>\n",
       "      <td id=\"T_b9725_row6_col2\" class=\"data row6 col2\" >0.00%</td>\n",
       "    </tr>\n",
       "    <tr>\n",
       "      <td id=\"T_b9725_row7_col0\" class=\"data row7 col0\" >City of Buellton</td>\n",
       "      <td id=\"T_b9725_row7_col1\" class=\"data row7 col1\" >1</td>\n",
       "      <td id=\"T_b9725_row7_col2\" class=\"data row7 col2\" >0.00%</td>\n",
       "    </tr>\n",
       "    <tr>\n",
       "      <td id=\"T_b9725_row8_col0\" class=\"data row8 col0\" >City of Carpinteria</td>\n",
       "      <td id=\"T_b9725_row8_col1\" class=\"data row8 col1\" >1</td>\n",
       "      <td id=\"T_b9725_row8_col2\" class=\"data row8 col2\" >0.00%</td>\n",
       "    </tr>\n",
       "    <tr>\n",
       "      <td id=\"T_b9725_row9_col0\" class=\"data row9 col0\" >City of El Paso De Robles</td>\n",
       "      <td id=\"T_b9725_row9_col1\" class=\"data row9 col1\" >1</td>\n",
       "      <td id=\"T_b9725_row9_col2\" class=\"data row9 col2\" >0.00%</td>\n",
       "    </tr>\n",
       "    <tr>\n",
       "      <td id=\"T_b9725_row10_col0\" class=\"data row10 col0\" >City of Greenfield</td>\n",
       "      <td id=\"T_b9725_row10_col1\" class=\"data row10 col1\" >1</td>\n",
       "      <td id=\"T_b9725_row10_col2\" class=\"data row10 col2\" >0.00%</td>\n",
       "    </tr>\n",
       "    <tr>\n",
       "      <td id=\"T_b9725_row11_col0\" class=\"data row11 col0\" >City of Lompoc</td>\n",
       "      <td id=\"T_b9725_row11_col1\" class=\"data row11 col1\" >1</td>\n",
       "      <td id=\"T_b9725_row11_col2\" class=\"data row11 col2\" >0.00%</td>\n",
       "    </tr>\n",
       "    <tr>\n",
       "      <td id=\"T_b9725_row12_col0\" class=\"data row12 col0\" >City of Monterey</td>\n",
       "      <td id=\"T_b9725_row12_col1\" class=\"data row12 col1\" >1</td>\n",
       "      <td id=\"T_b9725_row12_col2\" class=\"data row12 col2\" >0.00%</td>\n",
       "    </tr>\n",
       "    <tr>\n",
       "      <td id=\"T_b9725_row13_col0\" class=\"data row13 col0\" >City of Morro Bay</td>\n",
       "      <td id=\"T_b9725_row13_col1\" class=\"data row13 col1\" >1</td>\n",
       "      <td id=\"T_b9725_row13_col2\" class=\"data row13 col2\" >0.00%</td>\n",
       "    </tr>\n",
       "    <tr>\n",
       "      <td id=\"T_b9725_row14_col0\" class=\"data row14 col0\" >Monterey County</td>\n",
       "      <td id=\"T_b9725_row14_col1\" class=\"data row14 col1\" >6</td>\n",
       "      <td id=\"T_b9725_row14_col2\" class=\"data row14 col2\" >0.00%</td>\n",
       "    </tr>\n",
       "    <tr>\n",
       "      <td id=\"T_b9725_row15_col0\" class=\"data row15 col0\" >San Benito County</td>\n",
       "      <td id=\"T_b9725_row15_col1\" class=\"data row15 col1\" >1</td>\n",
       "      <td id=\"T_b9725_row15_col2\" class=\"data row15 col2\" >0.00%</td>\n",
       "    </tr>\n",
       "    <tr>\n",
       "      <td id=\"T_b9725_row16_col0\" class=\"data row16 col0\" >San Luis Obispo Council of Governments</td>\n",
       "      <td id=\"T_b9725_row16_col1\" class=\"data row16 col1\" >2</td>\n",
       "      <td id=\"T_b9725_row16_col2\" class=\"data row16 col2\" >0.00%</td>\n",
       "    </tr>\n",
       "    <tr>\n",
       "      <td id=\"T_b9725_row17_col0\" class=\"data row17 col0\" >Santa Barbara County</td>\n",
       "      <td id=\"T_b9725_row17_col1\" class=\"data row17 col1\" >2</td>\n",
       "      <td id=\"T_b9725_row17_col2\" class=\"data row17 col2\" >0.00%</td>\n",
       "    </tr>\n",
       "    <tr>\n",
       "      <td id=\"T_b9725_row18_col0\" class=\"data row18 col0\" >Santa Cruz Health Services Agency</td>\n",
       "      <td id=\"T_b9725_row18_col1\" class=\"data row18 col1\" >1</td>\n",
       "      <td id=\"T_b9725_row18_col2\" class=\"data row18 col2\" >0.00%</td>\n",
       "    </tr>\n",
       "    <tr>\n",
       "      <td id=\"T_b9725_row19_col0\" class=\"data row19 col0\" >Transportation Agency for Monterey County</td>\n",
       "      <td id=\"T_b9725_row19_col1\" class=\"data row19 col1\" >1</td>\n",
       "      <td id=\"T_b9725_row19_col2\" class=\"data row19 col2\" >0.00%</td>\n",
       "    </tr>\n",
       "  </tbody>\n",
       "</table>\n"
      ],
      "text/plain": [
       "<IPython.core.display.HTML object>"
      ]
     },
     "metadata": {},
     "output_type": "display_data"
    }
   ],
   "source": [
    "_report_utils.map_dist_proj(funded, df, 5)"
   ]
  },
  {
   "cell_type": "code",
   "execution_count": null,
   "id": "83e222d1-536a-4d5e-b2a5-6e247e6cf5e0",
   "metadata": {},
   "outputs": [],
   "source": []
  },
  {
   "cell_type": "markdown",
   "id": "5d2b8d19-d531-4611-8ac2-8fe8d943ca43",
   "metadata": {},
   "source": [
    "### District 6 - Frenso"
   ]
  },
  {
   "cell_type": "code",
   "execution_count": 40,
   "id": "0ef8c589-f486-4421-b922-c565a073930d",
   "metadata": {},
   "outputs": [
    {
     "data": {
      "text/html": [
       "\n",
       "<div id=\"altair-viz-d4da769f2fd24dbd98d73d0eeb158477\"></div>\n",
       "<script type=\"text/javascript\">\n",
       "  var VEGA_DEBUG = (typeof VEGA_DEBUG == \"undefined\") ? {} : VEGA_DEBUG;\n",
       "  (function(spec, embedOpt){\n",
       "    let outputDiv = document.currentScript.previousElementSibling;\n",
       "    if (outputDiv.id !== \"altair-viz-d4da769f2fd24dbd98d73d0eeb158477\") {\n",
       "      outputDiv = document.getElementById(\"altair-viz-d4da769f2fd24dbd98d73d0eeb158477\");\n",
       "    }\n",
       "    const paths = {\n",
       "      \"vega\": \"https://cdn.jsdelivr.net/npm//vega@5?noext\",\n",
       "      \"vega-lib\": \"https://cdn.jsdelivr.net/npm//vega-lib?noext\",\n",
       "      \"vega-lite\": \"https://cdn.jsdelivr.net/npm//vega-lite@4.17.0?noext\",\n",
       "      \"vega-embed\": \"https://cdn.jsdelivr.net/npm//vega-embed@6?noext\",\n",
       "    };\n",
       "\n",
       "    function maybeLoadScript(lib, version) {\n",
       "      var key = `${lib.replace(\"-\", \"\")}_version`;\n",
       "      return (VEGA_DEBUG[key] == version) ?\n",
       "        Promise.resolve(paths[lib]) :\n",
       "        new Promise(function(resolve, reject) {\n",
       "          var s = document.createElement('script');\n",
       "          document.getElementsByTagName(\"head\")[0].appendChild(s);\n",
       "          s.async = true;\n",
       "          s.onload = () => {\n",
       "            VEGA_DEBUG[key] = version;\n",
       "            return resolve(paths[lib]);\n",
       "          };\n",
       "          s.onerror = () => reject(`Error loading script: ${paths[lib]}`);\n",
       "          s.src = paths[lib];\n",
       "        });\n",
       "    }\n",
       "\n",
       "    function showError(err) {\n",
       "      outputDiv.innerHTML = `<div class=\"error\" style=\"color:red;\">${err}</div>`;\n",
       "      throw err;\n",
       "    }\n",
       "\n",
       "    function displayChart(vegaEmbed) {\n",
       "      vegaEmbed(outputDiv, spec, embedOpt)\n",
       "        .catch(err => showError(`Javascript Error: ${err.message}<br>This usually means there's a typo in your chart specification. See the javascript console for the full traceback.`));\n",
       "    }\n",
       "\n",
       "    if(typeof define === \"function\" && define.amd) {\n",
       "      requirejs.config({paths});\n",
       "      require([\"vega-embed\"], displayChart, err => showError(`Error loading script: ${err.message}`));\n",
       "    } else {\n",
       "      maybeLoadScript(\"vega\", \"5\")\n",
       "        .then(() => maybeLoadScript(\"vega-lite\", \"4.17.0\"))\n",
       "        .then(() => maybeLoadScript(\"vega-embed\", \"6\"))\n",
       "        .catch(showError)\n",
       "        .then(() => displayChart(vegaEmbed));\n",
       "    }\n",
       "  })({\"config\": {\"view\": {\"continuousWidth\": 400, \"continuousHeight\": 300}}, \"data\": {\"name\": \"data-fa361d7041858b6a473537c79eac8e2c\"}, \"mark\": \"bar\", \"encoding\": {\"color\": {\"field\": \"Project Name\", \"legend\": null, \"scale\": {\"range\": [\"#E16B26\", \"#EB9F3C\", \"#f6e7e1\", \"#8CBCCB\", \"#2EA8CE\", \"#136C97\"]}, \"type\": \"nominal\"}, \"tooltip\": [{\"field\": \"Project Name\", \"type\": \"nominal\"}, {\"field\": \"Total ATP Funds\", \"type\": \"quantitative\"}], \"x\": {\"field\": \"Total ATP Funds\", \"type\": \"quantitative\"}, \"y\": {\"field\": \"Implemeting Agency Name\", \"type\": \"nominal\"}}, \"title\": \"Total ATP Funds by Project\", \"$schema\": \"https://vega.github.io/schema/vega-lite/v4.17.0.json\", \"datasets\": {\"data-fa361d7041858b6a473537c79eac8e2c\": [{\"Project ID\": \"6-Corcoran, City of-1\", \"project_cycle\": 5, \"a1_locode\": 5223.0, \"#\": null, \"atp_id\": null, \"awarded\": \"Y\", \"ppno\": 7080, \"ppno_1\": null, \"data_origin\": \"Funded\", \"geometry\": null, \"project_status\": \"Active\", \"solicitation_abv\": \"R\", \"solicitation\": \"SMALL URBAN & RURAL SOLICITATION-CYCLE 5\", \"soliciting_agency\": \"CALTRANS\", \"project_size\": \"Small\", \"a1_imp_agcy_city\": \"Corcoran\", \"a1_imp_agcy_name\": \"Corcoran, City of\", \"a1_proj_partner_agcy\": null, \"a1_proj_partner_exists\": \"No \", \"assembly_district\": 32, \"congressional_district\": 21, \"senate_district\": 14, \"County\": \"Kings\", \"a2_ct_dist\": 6, \"a2_info_proj_descr\": \"Construct sidewalk along various school routes, install high visibility crosswalks and construct ADA curb ramps.\", \"a2_info_proj_loc\": \"Various locations along North Ave, Whitley Ave, Sherman Ave, Oregon Ave, and Letts Ave.\", \"Project Name\": \"Corcoran Safe Routes to School\", \"a2_mop_uza_population\": \"Project is located outside one of the ten large MPOs in a UZA with Pop <=200,000 and > than 5,000\", \"a2_mpo\": \"KCAG\", \"a2_rtpa\": \"None\", \"a2_proj_scope_summary\": \"The Corcoran Safe Routes to School Project is an infrastructure project that spans seven years of planning efforts involving a wide variety of stakeholders, including: the City of Corcoran, local citizens, school staff and school parents. While many schoo\", \"a1_imp_agcy_fed_ma_num\": \"06-5223R\", \"a1_imp_agcy_ma\": \"Yes\", \"a1_imp_agcy_state_ma_num\": \"000223\", \"a1_imp_agcy_street\": \"832 Whitley Avenue\", \"a1_imp_agcy_title\": \"Public Works Director\", \"a1_imp_agcy_zip\": 93212, \"a1_letter_of_intent\": null, \"a1_proj_partner_title\": null, \"a2_assem_dist_a\": 32.0, \"a2_assem_dist_b\": null, \"a2_assem_dist_c\": null, \"a2_congress_dist_a\": 21.0, \"a2_congress_dist_b\": null, \"a2_congress_dist_c\": null, \"a2_past_proj\": \"No                            \", \"a2_past_proj_qty\": 0, \"a2_proj_lat\": 36.098076, \"a2_proj_long\": -119.567505, \"a2_project_location_map\": null, \"a2_senate_dist_a\": 14.0, \"a2_senate_dist_b\": null, \"a2_senatedistc\": null, \"a3_plan_active_trans\": null, \"a3_plan_active_trans_exists\": \"No \", \"a3_plan_bicycle\": null, \"a3_plan_bicycle_exists\": \"No \", \"a3_plan_ped\": null, \"a3_plan_ped_exists\": \"No \", \"a3_plan_srts\": null, \"a3_plan_srts_exists\": \"Yes\", \"a3_proj_type\": null, \"a3_st_bicycle_applies\": \"No \", \"a3_st_bicycle_pct\": 0.0, \"a3_st_num_schools\": 5, \"a3_st_ped_applies\": \"Yes\", \"a3_st_ped_pct\": 100, \"a3_st_srts\": \"No \", \"a3_trail_elig_cost\": 0.0, \"a3_trail_fed_funding\": null, \"a3_trail_trans_pct\": null, \"a3_trails\": null, \"agency_app_num\": null, \"app_pk\": null, \"attch_addtl_attachments\": null, \"attch_app_sig_page\": null, \"attch_conditions_photos\": null, \"attch_conditions_project_map\": null, \"attch_engineeers_checklist\": null, \"attch_exhibit22_plan\": null, \"attch_letters_of_support\": null, \"attch_link\": null, \"attch_ni_workplan\": null, \"attch_project_estimate\": null, \"completed_pdf_form\": null, \"main_datetime_stamp\": \"\", \"a3_plan_none\": \"No\", \"a3_plan_other\": \"No\", \"a3_plan_other_desc\": null, \"a2_output_outcome\": \"Construction of ADA ramps will increase accessibility of school routes, installing high visibility crosswalks and constructing sidewalk to fill in gaps along school routes will increase pedestrian safety.\", \"a3_current_plan\": \"Yes\", \"b_sig_inter_new_bike_boxes\": null, \"b_class_1\": null, \"b_class_2\": null, \"b_class_3\": null, \"b_class_4\": null, \"a4_bike_gap_pct\": null, \"b_light_intersection\": null, \"b_mid_block_new_rrfb_signal\": null, \"b_mid_block_surf_improv\": null, \"b_bsp_new_bikes\": null, \"b_bike_new_secured_lockers\": null, \"b_bike_new_racks\": null, \"b_bsp_new_station\": null, \"b_other_bike_improv_1\": null, \"b_other_bike_improv_qty_1\": null, \"b_other_bike_improv_2\": null, \"b_other_bike_improv_qty_2\": null, \"b_light_rdwy_seg\": null, \"b_sig_inter_timing_improv\": null, \"b_un_sig_new_rrfb_signal\": null, \"b_un_sig_cross_surf_improv\": null, \"a4_easement_support\": null, \"m_cls_1_trails_widen_recon_exist\": null, \"m_cls_1_trails_new__less_than_9\": null, \"m_cls_1_trails_new_over_9\": null, \"m_non_cls_trails_new\": null, \"m_other_trail_imprv_1\": null, \"m_other_trail_improv_qty_1\": null, \"m_other_trail_imprv_2\": null, \"m_other_trail_improv_qty_2\": null, \"m_non_cls_widen_recon_exist\": null, \"p_amenities_bench\": null, \"a4_ped_gap_pct\": 100.0, \"p_mid_block_cross_new_rrfb_signal\": null, \"p_light_intersection\": null, \"p_lighting_rdwy_seg\": null, \"p_mid_block_cross_surf_improv\": null, \"p_new_ada_ramp\": 26.0, \"p_sidewlks_new_barrier_protect\": null, \"p_sidewlks_new_4_to_8\": 9160.0, \"p_sidewlks_new_over_8\": null, \"p_other_ped_imprv_1\": \"High visibility crosswalks\", \"p_other_ped_qty_1\": 25.0, \"p_other_ped_imprv_2\": null, \"p_other_ped_qty_2\": null, \"p_reconstruct_ramp_to_ada_stand\": null, \"p_sidewlks_reconstruct_enhance_exist\": 100.0, \"p_sig_inter_enhance_exist_crosswlk\": null, \"p_sig_inter_new_crosswlk\": null, \"p_sig_inter_ped_heads\": null, \"p_sig_inter_shorten_cross\": null, \"p_sig_inter_timing_improv\": null, \"p_amenities_trash_can\": null, \"p_amenities_shade_tree\": null, \"p_amenities_shade_tree_type\": null, \"p_un_sig_inter_new_traff_sig\": null, \"p_un_sig_inter_new_roundabout\": null, \"p_un_sig_inter_new_rrfb_sig\": null, \"p_un_sig_inter_shorten_cross\": null, \"p_un_sig_inter_cross_surface_improv\": null, \"p_sidewlks_widen_existing\": null, \"a4_row_100\": null, \"a4_row_gov_ease\": null, \"a4_row_private_ease\": null, \"v_other_traffic_calming_imprv_1\": null, \"v_speed_feedback_signs\": null, \"v_other_traffic_calming_qty_1\": null, \"v_other_traffic_calming_imprv_2\": null, \"v_other_traffic_calming_qty_2\": null, \"v_remove_right_turn_pocket\": null, \"v_remove_travel_ln\": null, \"v_sig_inter_new_roundabout\": null, \"v_sig_inter_timing_improv\": null, \"v_un_sig_inter_new_traf_sig\": null, \"v_un_sig_inter_new_roundabout\": null, \"app_fk\": null, \"details_datetime_stamp\": \"\", \"a4_reg_init\": \"N\", \"a4_reg_init_pct\": 0, \"a4_com_init\": \"N\", \"a4_com_init_pct\": 0, \"a4_safe_route\": \"N\", \"a4_safe_route_pct\": 0, \"a4_fl_mile\": \"N\", \"a4_fl_mile_pct\": 0, \"a4_emp_based\": null, \"a4_emp_based_pct\": 0.0, \"a4_other_ni\": \"N\", \"a4_other_ni_descr\": null, \"a4_other_ni_pct\": 0, \"a4_wb_audits\": 0.0, \"a4_bike_classes\": 0.0, \"a4_ped_classes\": 0.0, \"a4_demo_events\": 0.0, \"a4_com_enc\": 0.0, \"a4_le_methods\": 0.0, \"a4_com_meetings\": 0.0, \"a4_classrooms\": 0.0, \"a4_school_assem\": 0.0, \"a4_after_school\": 0.0, \"a4_bike_rodeos\": 0.0, \"a4_mock_cities\": 0.0, \"a4_walk_bus\": 0.0, \"a4_bike_train\": 0.0, \"a4_com_challenges\": 0.0, \"a4_srts_enc\": 0.0, \"a4_srts_le\": 0.0, \"a4_srts_training\": 0.0, \"a4_act_other_1\": 0.0, \"a4_act_other_1_descr\": null, \"a4_act_other_2\": 0.0, \"a4_act_other_2_decr\": null, \"a4_comm_trad_media\": \"N\", \"a4_comm_large_media\": \"N\", \"a4_comm_print\": \"N\", \"a4_comm_social\": \"N\", \"a4_comm_web\": \"N\", \"a4_comm_other\": \"N\", \"a4_comm_other_descr\": null, \"a4_comm_language\": null, \"a4_collab_pub_health\": \"N\", \"a4_collab_le\": \"N\", \"a4_collab_non_profit\": \"N\", \"a4_collab_schools\": \"N\", \"a4_collab_pub_works\": \"N\", \"a4_collab_other\": \"N\", \"a4_colab_other_descr\": null, \"a4_plan_ped\": \"N\", \"a4_plan_bike\": \"N\", \"a4_plan_atp\": \"N\", \"a4_plan_school_routes\": \"N\", \"a4_row_open_street_demo\": \"No\", \"atp_id_x\": \"ATP5-06-049R\", \"a3_proj_type_x\": \"Infrastructure - Small\", \"agency_fully_own_r_w\": \"X\", \"require_r_w_easement,_from_gov\": null, \"_require_rw_easement_from_private\": null, \"atp_id_y\": \"ATP5-6-049R\", \"ppno1\": null, \"oversight_id\": \"Standard\", \"a3_proj_type_y\": \"Infrastructure\", \"Total Project Cost\": 1998000.0, \"original_prog__amt___pa_ed_\": 15000.0, \"orig__prog__year__pa_ed_\": \"21/22\", \"original_prog__amt___ps_e_\": 220000.0, \"orig__prog__year__ps_e_\": \"22/23\", \"original_prog__amt___rw_\": null, \"orig__prog__year__rw_\": null, \"orignal_prog__amt___con_\": 1763000.0, \"orig__prog__year__con_\": \"23/24\", \"original_prog__amt___con_ni_\": null, \"orig__prog__year__con_ni_\": null, \"total\": 1998000.0, \"_2122_pa_ed\": 15000.0, \"_2122_ps_e\": null, \"_2122_rw\": null, \"_2122_con\": null, \"_2122_con_ni\": null, \"_2122_total\": 15000.0, \"fund_year_1\": \"21/22\", \"_2223_pa_ed\": null, \"_2223_ps_e\": 220000.0, \"_2223_rw\": null, \"_2223_con\": null, \"_2223_con_ni\": null, \"_2223_total\": 220000.0, \"fund_year_2\": \"22/23\", \"_2324_pa_ed\": null, \"_2324_ps_e\": null, \"_2324_rw\": null, \"_2324_con\": 1763000.0, \"_2324_con_ni\": null, \"_2324_total\": 1763000.0, \"fund_year_3\": \"23/24\", \"_2425_pa_ed\": null, \"_2425_ps_e\": null, \"_2425_rw\": null, \"_2425_con\": null, \"_2425_con_ni\": null, \"_2425_total\": 0.0, \"fund_year_4\": \"24/25\", \"Total ATP Funds\": 1998000.0, \"match_total_atp_$_and_total\": \"YES\", \"match_total_atp_$_and_total_atp_x_1000\": \"YES\", \"paed\": 15.0, \"ps_e_\": 220.0, \"rw\": 0.0, \"con\": 1763.0, \"con_ni\": 0.0, \"total_atp__000s_\": 1998.0, \"total_atp_x_1000\": 1998000.0, \"year__pa_ed_\": \"21/22\", \"year__ps_e_\": \"22/23\", \"year__rw_\": null, \"year__con_\": \"23/24\", \"year__con_ni_\": null, \"Implemeting Agency Name\": \"City of Corcoran\"}, {\"Project ID\": \"6-Fresno County-1\", \"project_cycle\": 5, \"a1_locode\": 5942.0, \"#\": null, \"atp_id\": null, \"awarded\": \"Y\", \"ppno\": 7078, \"ppno_1\": null, \"data_origin\": \"Funded\", \"geometry\": null, \"project_status\": \"Active\", \"solicitation_abv\": \"S\", \"solicitation\": \"STATEWIDE SOLICITATION-CYCLE 5\", \"soliciting_agency\": \"CALTRANS\", \"project_size\": \"Small\", \"a1_imp_agcy_city\": \"Fresno\", \"a1_imp_agcy_name\": \"Fresno County\", \"a1_proj_partner_agcy\": null, \"a1_proj_partner_exists\": \"No \", \"assembly_district\": 31, \"congressional_district\": 16, \"senate_district\": 12, \"County\": \"Fresno\", \"a2_ct_dist\": 6, \"a2_info_proj_descr\": \"Construct concrete sidewalk, curb & gutter, ADA curb ramps, and drainage facilities on east side Biola Ave and north side C St.  Install lighted crosswalk signs on Biola Avenue.\", \"a2_info_proj_loc\": \"East side of Biola Avenue from Shaw Avenue to F/G Alley; north side of C Street from Biola Avenue to Biola Community Center.\", \"Project Name\": \"Biola Community Sidewalks\", \"a2_mop_uza_population\": \"Project is located within one of the ten large MPOs\", \"a2_mpo\": \"COFCG\", \"a2_rtpa\": \"None\", \"a2_proj_scope_summary\": \"Summary of Existing Conditions - Biola Avenue is the main north-south road in the community of Biola and provides connectivity to the following community destination points:  Biola-Pershing Elementary School, the Biola Community Center, Shaw Market, the U\", \"a1_imp_agcy_fed_ma_num\": \"06-5942R\", \"a1_imp_agcy_ma\": \"Yes\", \"a1_imp_agcy_state_ma_num\": \"00324S\", \"a1_imp_agcy_street\": \"2220 Tulare Street, 6th Floor\", \"a1_imp_agcy_title\": \"Design Engineer\", \"a1_imp_agcy_zip\": 93721, \"a1_letter_of_intent\": null, \"a1_proj_partner_title\": null, \"a2_assem_dist_a\": 31.0, \"a2_assem_dist_b\": null, \"a2_assem_dist_c\": null, \"a2_congress_dist_a\": 16.0, \"a2_congress_dist_b\": null, \"a2_congress_dist_c\": null, \"a2_past_proj\": \"Yes                           \", \"a2_past_proj_qty\": 2, \"a2_proj_lat\": 36.802222, \"a2_proj_long\": -120.016389, \"a2_project_location_map\": null, \"a2_senate_dist_a\": 12.0, \"a2_senate_dist_b\": null, \"a2_senatedistc\": null, \"a3_plan_active_trans\": null, \"a3_plan_active_trans_exists\": \"No \", \"a3_plan_bicycle\": null, \"a3_plan_bicycle_exists\": \"Yes\", \"a3_plan_ped\": null, \"a3_plan_ped_exists\": \"Yes\", \"a3_plan_srts\": null, \"a3_plan_srts_exists\": \"No \", \"a3_proj_type\": null, \"a3_st_bicycle_applies\": \"No \", \"a3_st_bicycle_pct\": 0.0, \"a3_st_num_schools\": 1, \"a3_st_ped_applies\": \"Yes\", \"a3_st_ped_pct\": 100, \"a3_st_srts\": \"Yes\", \"a3_trail_elig_cost\": 0.0, \"a3_trail_fed_funding\": null, \"a3_trail_trans_pct\": null, \"a3_trails\": null, \"agency_app_num\": null, \"app_pk\": null, \"attch_addtl_attachments\": null, \"attch_app_sig_page\": null, \"attch_conditions_photos\": null, \"attch_conditions_project_map\": null, \"attch_engineeers_checklist\": null, \"attch_exhibit22_plan\": null, \"attch_letters_of_support\": null, \"attch_link\": null, \"attch_ni_workplan\": null, \"attch_project_estimate\": null, \"completed_pdf_form\": null, \"main_datetime_stamp\": \"\", \"a3_plan_none\": \"No\", \"a3_plan_other\": \"No\", \"a3_plan_other_desc\": null, \"a2_output_outcome\": \"Construction of 1,975 feet of concrete sidewalk, curb & gutter, and drainage facilities; 9 ADA curb ramps, and 4 lighted crosswalk signs.  \", \"a3_current_plan\": \"Yes\", \"b_sig_inter_new_bike_boxes\": null, \"b_class_1\": null, \"b_class_2\": null, \"b_class_3\": null, \"b_class_4\": null, \"a4_bike_gap_pct\": null, \"b_light_intersection\": null, \"b_mid_block_new_rrfb_signal\": null, \"b_mid_block_surf_improv\": null, \"b_bsp_new_bikes\": null, \"b_bike_new_secured_lockers\": null, \"b_bike_new_racks\": null, \"b_bsp_new_station\": null, \"b_other_bike_improv_1\": null, \"b_other_bike_improv_qty_1\": null, \"b_other_bike_improv_2\": null, \"b_other_bike_improv_qty_2\": null, \"b_light_rdwy_seg\": null, \"b_sig_inter_timing_improv\": null, \"b_un_sig_new_rrfb_signal\": null, \"b_un_sig_cross_surf_improv\": null, \"a4_easement_support\": null, \"m_cls_1_trails_widen_recon_exist\": null, \"m_cls_1_trails_new__less_than_9\": null, \"m_cls_1_trails_new_over_9\": null, \"m_non_cls_trails_new\": null, \"m_other_trail_imprv_1\": null, \"m_other_trail_improv_qty_1\": null, \"m_other_trail_imprv_2\": null, \"m_other_trail_improv_qty_2\": null, \"m_non_cls_widen_recon_exist\": null, \"p_amenities_bench\": null, \"a4_ped_gap_pct\": 100.0, \"p_mid_block_cross_new_rrfb_signal\": null, \"p_light_intersection\": null, \"p_lighting_rdwy_seg\": null, \"p_mid_block_cross_surf_improv\": null, \"p_new_ada_ramp\": 9.0, \"p_sidewlks_new_barrier_protect\": null, \"p_sidewlks_new_4_to_8\": 1975.0, \"p_sidewlks_new_over_8\": null, \"p_other_ped_imprv_1\": \"Corner Bulb-outs\", \"p_other_ped_qty_1\": 2.0, \"p_other_ped_imprv_2\": \"Enhance Existing Crosswalk?\", \"p_other_ped_qty_2\": 3.0, \"p_reconstruct_ramp_to_ada_stand\": null, \"p_sidewlks_reconstruct_enhance_exist\": null, \"p_sig_inter_enhance_exist_crosswlk\": null, \"p_sig_inter_new_crosswlk\": null, \"p_sig_inter_ped_heads\": null, \"p_sig_inter_shorten_cross\": null, \"p_sig_inter_timing_improv\": null, \"p_amenities_trash_can\": null, \"p_amenities_shade_tree\": null, \"p_amenities_shade_tree_type\": null, \"p_un_sig_inter_new_traff_sig\": null, \"p_un_sig_inter_new_roundabout\": null, \"p_un_sig_inter_new_rrfb_sig\": null, \"p_un_sig_inter_shorten_cross\": 2.0, \"p_un_sig_inter_cross_surface_improv\": 3.0, \"p_sidewlks_widen_existing\": null, \"a4_row_100\": null, \"a4_row_gov_ease\": null, \"a4_row_private_ease\": null, \"v_other_traffic_calming_imprv_1\": null, \"v_speed_feedback_signs\": null, \"v_other_traffic_calming_qty_1\": null, \"v_other_traffic_calming_imprv_2\": null, \"v_other_traffic_calming_qty_2\": null, \"v_remove_right_turn_pocket\": null, \"v_remove_travel_ln\": null, \"v_sig_inter_new_roundabout\": null, \"v_sig_inter_timing_improv\": null, \"v_un_sig_inter_new_traf_sig\": null, \"v_un_sig_inter_new_roundabout\": null, \"app_fk\": null, \"details_datetime_stamp\": \"\", \"a4_reg_init\": \"N\", \"a4_reg_init_pct\": 0, \"a4_com_init\": \"N\", \"a4_com_init_pct\": 0, \"a4_safe_route\": \"N\", \"a4_safe_route_pct\": 0, \"a4_fl_mile\": \"N\", \"a4_fl_mile_pct\": 0, \"a4_emp_based\": null, \"a4_emp_based_pct\": 0.0, \"a4_other_ni\": \"N\", \"a4_other_ni_descr\": null, \"a4_other_ni_pct\": 0, \"a4_wb_audits\": 0.0, \"a4_bike_classes\": 0.0, \"a4_ped_classes\": 0.0, \"a4_demo_events\": 0.0, \"a4_com_enc\": 0.0, \"a4_le_methods\": 0.0, \"a4_com_meetings\": 0.0, \"a4_classrooms\": 0.0, \"a4_school_assem\": 0.0, \"a4_after_school\": 0.0, \"a4_bike_rodeos\": 0.0, \"a4_mock_cities\": 0.0, \"a4_walk_bus\": 0.0, \"a4_bike_train\": 0.0, \"a4_com_challenges\": 0.0, \"a4_srts_enc\": 0.0, \"a4_srts_le\": 0.0, \"a4_srts_training\": 0.0, \"a4_act_other_1\": 0.0, \"a4_act_other_1_descr\": null, \"a4_act_other_2\": 0.0, \"a4_act_other_2_decr\": null, \"a4_comm_trad_media\": \"N\", \"a4_comm_large_media\": \"N\", \"a4_comm_print\": \"N\", \"a4_comm_social\": \"N\", \"a4_comm_web\": \"N\", \"a4_comm_other\": \"N\", \"a4_comm_other_descr\": null, \"a4_comm_language\": null, \"a4_collab_pub_health\": \"N\", \"a4_collab_le\": \"N\", \"a4_collab_non_profit\": \"N\", \"a4_collab_schools\": \"N\", \"a4_collab_pub_works\": \"N\", \"a4_collab_other\": \"N\", \"a4_colab_other_descr\": null, \"a4_plan_ped\": \"N\", \"a4_plan_bike\": \"N\", \"a4_plan_atp\": \"N\", \"a4_plan_school_routes\": \"N\", \"a4_row_open_street_demo\": \"No\", \"atp_id_x\": \"ATP5-06-027S\", \"a3_proj_type_x\": \"Infrastructure - Small\", \"agency_fully_own_r_w\": \"X\", \"require_r_w_easement,_from_gov\": null, \"_require_rw_easement_from_private\": null, \"atp_id_y\": \"ATP5-6-027S\", \"ppno1\": null, \"oversight_id\": \"Standard\", \"a3_proj_type_y\": \"Infrastructure\", \"Total Project Cost\": 1498000.0, \"original_prog__amt___pa_ed_\": null, \"orig__prog__year__pa_ed_\": null, \"original_prog__amt___ps_e_\": null, \"orig__prog__year__ps_e_\": null, \"original_prog__amt___rw_\": null, \"orig__prog__year__rw_\": null, \"orignal_prog__amt___con_\": 1255000.0, \"orig__prog__year__con_\": \"23/24\", \"original_prog__amt___con_ni_\": null, \"orig__prog__year__con_ni_\": null, \"total\": 1255000.0, \"_2122_pa_ed\": null, \"_2122_ps_e\": null, \"_2122_rw\": null, \"_2122_con\": null, \"_2122_con_ni\": null, \"_2122_total\": 0.0, \"fund_year_1\": \"21/22\", \"_2223_pa_ed\": null, \"_2223_ps_e\": null, \"_2223_rw\": null, \"_2223_con\": null, \"_2223_con_ni\": null, \"_2223_total\": 0.0, \"fund_year_2\": \"22/23\", \"_2324_pa_ed\": null, \"_2324_ps_e\": null, \"_2324_rw\": null, \"_2324_con\": 1255000.0, \"_2324_con_ni\": null, \"_2324_total\": 1255000.0, \"fund_year_3\": \"23/24\", \"_2425_pa_ed\": null, \"_2425_ps_e\": null, \"_2425_rw\": null, \"_2425_con\": null, \"_2425_con_ni\": null, \"_2425_total\": 0.0, \"fund_year_4\": \"24/25\", \"Total ATP Funds\": 1255000.0, \"match_total_atp_$_and_total\": \"YES\", \"match_total_atp_$_and_total_atp_x_1000\": \"YES\", \"paed\": 0.0, \"ps_e_\": 0.0, \"rw\": 0.0, \"con\": 1255.0, \"con_ni\": 0.0, \"total_atp__000s_\": 1255.0, \"total_atp_x_1000\": 1255000.0, \"year__pa_ed_\": null, \"year__ps_e_\": null, \"year__rw_\": null, \"year__con_\": \"23/24\", \"year__con_ni_\": null, \"Implemeting Agency Name\": \"Fresno County\"}, {\"Project ID\": \"6-Delano, City of-1\", \"project_cycle\": 5, \"a1_locode\": 5227.0, \"#\": null, \"atp_id\": null, \"awarded\": \"Y\", \"ppno\": 7075, \"ppno_1\": null, \"data_origin\": \"Funded\", \"geometry\": null, \"project_status\": \"Active\", \"solicitation_abv\": \"S\", \"solicitation\": \"STATEWIDE SOLICITATION-CYCLE 5\", \"soliciting_agency\": \"CALTRANS\", \"project_size\": \"Small\", \"a1_imp_agcy_city\": \"Delano\", \"a1_imp_agcy_name\": \"Delano, City of\", \"a1_proj_partner_agcy\": null, \"a1_proj_partner_exists\": \"No \", \"assembly_district\": 32, \"congressional_district\": 21, \"senate_district\": 14, \"County\": \"Kern\", \"a2_ct_dist\": 6, \"a2_info_proj_descr\": \"Construct 68 curb ramps, 87 crosswalks, advanced stop and yield bars, 12 R1-6 center pedestrian signs, 12 RRFB signals, advanced pedestrian crossing/yield signs, and NI work plan. \", \"a2_info_proj_loc\": \"Project is located in Delano, a severely disadvantaged community of 53,000 in Kern County, with a median household income of $38,708, 60 percent less than the statewide average. \", \"Project Name\": \"ATP-5 SRTS Intersection Enhancement and NI Work Plan\", \"a2_mop_uza_population\": \"Project is located within one of the ten large MPOs\", \"a2_mpo\": \"KCOG\", \"a2_rtpa\": \"None\", \"a2_proj_scope_summary\": \"Fifty intersections surrounding twelve Delano elementary,middle and high schools and affecting over 7,200 students have missing or inadequate active transportation elements to help ensure safer travel to and from school. With 38 percent of current student\", \"a1_imp_agcy_fed_ma_num\": \"06-5227R\", \"a1_imp_agcy_ma\": \"Yes\", \"a1_imp_agcy_state_ma_num\": \"00260S\", \"a1_imp_agcy_street\": \"1015 Eleventh Avenue\", \"a1_imp_agcy_title\": \"Associate Engineer/Public Works Inspector\", \"a1_imp_agcy_zip\": 93215, \"a1_letter_of_intent\": null, \"a1_proj_partner_title\": null, \"a2_assem_dist_a\": 0.0, \"a2_assem_dist_b\": 3.0, \"a2_assem_dist_c\": 2.0, \"a2_congress_dist_a\": 0.0, \"a2_congress_dist_b\": 2.0, \"a2_congress_dist_c\": 1.0, \"a2_past_proj\": \"Yes                           \", \"a2_past_proj_qty\": 11, \"a2_proj_lat\": 35.7688, \"a2_proj_long\": 119.2471, \"a2_project_location_map\": null, \"a2_senate_dist_a\": 0.0, \"a2_senate_dist_b\": 1.0, \"a2_senatedistc\": 4.0, \"a3_plan_active_trans\": null, \"a3_plan_active_trans_exists\": \"No \", \"a3_plan_bicycle\": null, \"a3_plan_bicycle_exists\": \"No \", \"a3_plan_ped\": null, \"a3_plan_ped_exists\": \"No \", \"a3_plan_srts\": null, \"a3_plan_srts_exists\": \"No \", \"a3_proj_type\": null, \"a3_st_bicycle_applies\": \"Yes\", \"a3_st_bicycle_pct\": 30.0, \"a3_st_num_schools\": 12, \"a3_st_ped_applies\": \"Yes\", \"a3_st_ped_pct\": 70, \"a3_st_srts\": \"Yes\", \"a3_trail_elig_cost\": 0.0, \"a3_trail_fed_funding\": null, \"a3_trail_trans_pct\": null, \"a3_trails\": null, \"agency_app_num\": null, \"app_pk\": null, \"attch_addtl_attachments\": null, \"attch_app_sig_page\": null, \"attch_conditions_photos\": null, \"attch_conditions_project_map\": null, \"attch_engineeers_checklist\": null, \"attch_exhibit22_plan\": null, \"attch_letters_of_support\": null, \"attch_link\": null, \"attch_ni_workplan\": null, \"attch_project_estimate\": null, \"completed_pdf_form\": null, \"main_datetime_stamp\": \"\", \"a3_plan_none\": \"No\", \"a3_plan_other\": \"Yes\", \"a3_plan_other_desc\": \"2018 Kern County ATP Plan\", \"a2_output_outcome\": \"Construct 68 curb ramps, stripe 87 ladder-type crosswalks,and install safety signage and markings at 50 intersections surrounding twelve local public schools benefiting over 7,200 students in Delano.  \", \"a3_current_plan\": \"Yes\", \"b_sig_inter_new_bike_boxes\": null, \"b_class_1\": null, \"b_class_2\": null, \"b_class_3\": null, \"b_class_4\": null, \"a4_bike_gap_pct\": null, \"b_light_intersection\": null, \"b_mid_block_new_rrfb_signal\": null, \"b_mid_block_surf_improv\": null, \"b_bsp_new_bikes\": null, \"b_bike_new_secured_lockers\": null, \"b_bike_new_racks\": null, \"b_bsp_new_station\": null, \"b_other_bike_improv_1\": null, \"b_other_bike_improv_qty_1\": null, \"b_other_bike_improv_2\": null, \"b_other_bike_improv_qty_2\": null, \"b_light_rdwy_seg\": null, \"b_sig_inter_timing_improv\": null, \"b_un_sig_new_rrfb_signal\": null, \"b_un_sig_cross_surf_improv\": null, \"a4_easement_support\": null, \"m_cls_1_trails_widen_recon_exist\": null, \"m_cls_1_trails_new__less_than_9\": null, \"m_cls_1_trails_new_over_9\": null, \"m_non_cls_trails_new\": null, \"m_other_trail_imprv_1\": null, \"m_other_trail_improv_qty_1\": null, \"m_other_trail_imprv_2\": null, \"m_other_trail_improv_qty_2\": null, \"m_non_cls_widen_recon_exist\": null, \"p_amenities_bench\": null, \"a4_ped_gap_pct\": null, \"p_mid_block_cross_new_rrfb_signal\": 2.0, \"p_light_intersection\": null, \"p_lighting_rdwy_seg\": null, \"p_mid_block_cross_surf_improv\": 1.0, \"p_new_ada_ramp\": 68.0, \"p_sidewlks_new_barrier_protect\": null, \"p_sidewlks_new_4_to_8\": null, \"p_sidewlks_new_over_8\": null, \"p_other_ped_imprv_1\": \"Crosswalk/School Warning Signs \", \"p_other_ped_qty_1\": 159.0, \"p_other_ped_imprv_2\": \"Install Yield Signs, R1-6 Signs\", \"p_other_ped_qty_2\": 71.0, \"p_reconstruct_ramp_to_ada_stand\": null, \"p_sidewlks_reconstruct_enhance_exist\": null, \"p_sig_inter_enhance_exist_crosswlk\": null, \"p_sig_inter_new_crosswlk\": null, \"p_sig_inter_ped_heads\": null, \"p_sig_inter_shorten_cross\": null, \"p_sig_inter_timing_improv\": null, \"p_amenities_trash_can\": null, \"p_amenities_shade_tree\": null, \"p_amenities_shade_tree_type\": null, \"p_un_sig_inter_new_traff_sig\": null, \"p_un_sig_inter_new_roundabout\": null, \"p_un_sig_inter_new_rrfb_sig\": 10.0, \"p_un_sig_inter_shorten_cross\": null, \"p_un_sig_inter_cross_surface_improv\": 86.0, \"p_sidewlks_widen_existing\": null, \"a4_row_100\": null, \"a4_row_gov_ease\": null, \"a4_row_private_ease\": null, \"v_other_traffic_calming_imprv_1\": null, \"v_speed_feedback_signs\": null, \"v_other_traffic_calming_qty_1\": null, \"v_other_traffic_calming_imprv_2\": null, \"v_other_traffic_calming_qty_2\": null, \"v_remove_right_turn_pocket\": null, \"v_remove_travel_ln\": null, \"v_sig_inter_new_roundabout\": null, \"v_sig_inter_timing_improv\": null, \"v_un_sig_inter_new_traf_sig\": null, \"v_un_sig_inter_new_roundabout\": null, \"app_fk\": null, \"details_datetime_stamp\": \"\", \"a4_reg_init\": \"N\", \"a4_reg_init_pct\": 0, \"a4_com_init\": \"N\", \"a4_com_init_pct\": 0, \"a4_safe_route\": \"Y\", \"a4_safe_route_pct\": 100, \"a4_fl_mile\": \"N\", \"a4_fl_mile_pct\": 0, \"a4_emp_based\": null, \"a4_emp_based_pct\": 0.0, \"a4_other_ni\": \"N\", \"a4_other_ni_descr\": null, \"a4_other_ni_pct\": 0, \"a4_wb_audits\": 0.0, \"a4_bike_classes\": 0.0, \"a4_ped_classes\": 0.0, \"a4_demo_events\": 0.0, \"a4_com_enc\": 0.0, \"a4_le_methods\": 0.0, \"a4_com_meetings\": 0.0, \"a4_classrooms\": 0.0, \"a4_school_assem\": 12.0, \"a4_after_school\": 12.0, \"a4_bike_rodeos\": 4.0, \"a4_mock_cities\": 12.0, \"a4_walk_bus\": 0.0, \"a4_bike_train\": 0.0, \"a4_com_challenges\": 0.0, \"a4_srts_enc\": 12.0, \"a4_srts_le\": 0.0, \"a4_srts_training\": 12.0, \"a4_act_other_1\": 0.0, \"a4_act_other_1_descr\": null, \"a4_act_other_2\": 0.0, \"a4_act_other_2_decr\": null, \"a4_comm_trad_media\": \"N\", \"a4_comm_large_media\": \"N\", \"a4_comm_print\": \"Y\", \"a4_comm_social\": \"Y\", \"a4_comm_web\": \"Y\", \"a4_comm_other\": \"Y\", \"a4_comm_other_descr\": \"Delano Unified Elementary School and Delano Unified High School Districts. \", \"a4_comm_language\": \"Spanish\", \"a4_collab_pub_health\": \"Y\", \"a4_collab_le\": \"Y\", \"a4_collab_non_profit\": \"N\", \"a4_collab_schools\": \"Y\", \"a4_collab_pub_works\": \"Y\", \"a4_collab_other\": \"N\", \"a4_colab_other_descr\": null, \"a4_plan_ped\": \"N\", \"a4_plan_bike\": \"N\", \"a4_plan_atp\": \"N\", \"a4_plan_school_routes\": \"N\", \"a4_row_open_street_demo\": \"No\", \"atp_id_x\": \"ATP5-06-010S\", \"a3_proj_type_x\": \"Infrastructure + NI - Small\", \"agency_fully_own_r_w\": \"X\", \"require_r_w_easement,_from_gov\": null, \"_require_rw_easement_from_private\": null, \"atp_id_y\": \"ATP5-6-010S\", \"ppno1\": null, \"oversight_id\": \"Standard\", \"a3_proj_type_y\": \"Combined (IF and NI)\", \"Total Project Cost\": 1178000.0, \"original_prog__amt___pa_ed_\": null, \"orig__prog__year__pa_ed_\": null, \"original_prog__amt___ps_e_\": 140000.0, \"orig__prog__year__ps_e_\": \"22/23\", \"original_prog__amt___rw_\": null, \"orig__prog__year__rw_\": null, \"orignal_prog__amt___con_\": 949000.0, \"orig__prog__year__con_\": \"23/24\", \"original_prog__amt___con_ni_\": 75000.0, \"orig__prog__year__con_ni_\": \"23/24\", \"total\": 1164000.0, \"_2122_pa_ed\": null, \"_2122_ps_e\": null, \"_2122_rw\": null, \"_2122_con\": null, \"_2122_con_ni\": null, \"_2122_total\": 0.0, \"fund_year_1\": \"21/22\", \"_2223_pa_ed\": null, \"_2223_ps_e\": 140000.0, \"_2223_rw\": null, \"_2223_con\": null, \"_2223_con_ni\": null, \"_2223_total\": 140000.0, \"fund_year_2\": \"22/23\", \"_2324_pa_ed\": null, \"_2324_ps_e\": null, \"_2324_rw\": null, \"_2324_con\": 949000.0, \"_2324_con_ni\": 75000.0, \"_2324_total\": 1024000.0, \"fund_year_3\": \"23/24\", \"_2425_pa_ed\": null, \"_2425_ps_e\": null, \"_2425_rw\": null, \"_2425_con\": null, \"_2425_con_ni\": null, \"_2425_total\": 0.0, \"fund_year_4\": \"24/25\", \"Total ATP Funds\": 1164000.0, \"match_total_atp_$_and_total\": \"YES\", \"match_total_atp_$_and_total_atp_x_1000\": \"YES\", \"paed\": 0.0, \"ps_e_\": 140.0, \"rw\": 0.0, \"con\": 949.0, \"con_ni\": 75.0, \"total_atp__000s_\": 1164.0, \"total_atp_x_1000\": 1164000.0, \"year__pa_ed_\": null, \"year__ps_e_\": \"22/23\", \"year__rw_\": null, \"year__con_\": \"23/24\", \"year__con_ni_\": \"23/24\", \"Implemeting Agency Name\": \"City of Delano\"}, {\"Project ID\": \"6-Fresno, City of-1\", \"project_cycle\": 5, \"a1_locode\": 5060.0, \"#\": null, \"atp_id\": null, \"awarded\": \"Y\", \"ppno\": 7074, \"ppno_1\": null, \"data_origin\": \"Funded\", \"geometry\": null, \"project_status\": \"Active\", \"solicitation_abv\": \"S\", \"solicitation\": \"STATEWIDE SOLICITATION-CYCLE 5\", \"soliciting_agency\": \"CALTRANS\", \"project_size\": \"Small\", \"a1_imp_agcy_city\": \"Fresno\", \"a1_imp_agcy_name\": \"Fresno, City of\", \"a1_proj_partner_agcy\": null, \"a1_proj_partner_exists\": \"No \", \"assembly_district\": 31, \"congressional_district\": 16, \"senate_district\": \"8, 14\", \"County\": \"Fresno\", \"a2_ct_dist\": 6, \"a2_info_proj_descr\": \"Amador & Trinity and Church & Waldby intersections: SRTS education, install traffic signals, curb ramps, signing, striping, curb, gutter, ped island, ped heads and relocate fence.\", \"a2_info_proj_loc\": \"Improvements are located at the intersections of Church Avenue and Waldby Avenue (Storey Elementary) and Trinity Avenue and Amador Avenue (Columbia Elementary). \", \"Project Name\": \"Kids Crossing: Safe Routes to School in South Fresno\", \"a2_mop_uza_population\": \"Project is located within one of the ten large MPOs\", \"a2_mpo\": \"COFCG\", \"a2_rtpa\": \"None\", \"a2_proj_scope_summary\": \"This project includes safety education and the signalization of intersections along the route to two schools in south Fresno: Columbia Elementary (Trinity Avenue and Amador Avenue) and Storey Elementary (Church Avenue and Waldby Avenue). Educational mater\", \"a1_imp_agcy_fed_ma_num\": \"06-5060F15\", \"a1_imp_agcy_ma\": \"Yes\", \"a1_imp_agcy_state_ma_num\": \"00006S\", \"a1_imp_agcy_street\": \"2600 Fresno Street\", \"a1_imp_agcy_title\": \"Grants Adminstrator, Department of Public Works\", \"a1_imp_agcy_zip\": 93721, \"a1_letter_of_intent\": null, \"a1_proj_partner_title\": null, \"a2_assem_dist_a\": 31.0, \"a2_assem_dist_b\": null, \"a2_assem_dist_c\": null, \"a2_congress_dist_a\": 16.0, \"a2_congress_dist_b\": null, \"a2_congress_dist_c\": null, \"a2_past_proj\": \"Yes                           \", \"a2_past_proj_qty\": 1, \"a2_proj_lat\": 36.734977, \"a2_proj_long\": -119.808557, \"a2_project_location_map\": null, \"a2_senate_dist_a\": 8.0, \"a2_senate_dist_b\": 14.0, \"a2_senatedistc\": null, \"a3_plan_active_trans\": null, \"a3_plan_active_trans_exists\": \"Yes\", \"a3_plan_bicycle\": null, \"a3_plan_bicycle_exists\": \"No \", \"a3_plan_ped\": null, \"a3_plan_ped_exists\": \"No \", \"a3_plan_srts\": null, \"a3_plan_srts_exists\": \"Yes\", \"a3_proj_type\": null, \"a3_st_bicycle_applies\": \"Yes\", \"a3_st_bicycle_pct\": 1.0, \"a3_st_num_schools\": 2, \"a3_st_ped_applies\": \"Yes\", \"a3_st_ped_pct\": 99, \"a3_st_srts\": \"Yes\", \"a3_trail_elig_cost\": 0.0, \"a3_trail_fed_funding\": null, \"a3_trail_trans_pct\": null, \"a3_trails\": null, \"agency_app_num\": null, \"app_pk\": null, \"attch_addtl_attachments\": null, \"attch_app_sig_page\": null, \"attch_conditions_photos\": null, \"attch_conditions_project_map\": null, \"attch_engineeers_checklist\": null, \"attch_exhibit22_plan\": null, \"attch_letters_of_support\": null, \"attch_link\": null, \"attch_ni_workplan\": null, \"attch_project_estimate\": null, \"completed_pdf_form\": null, \"main_datetime_stamp\": \"\", \"a3_plan_none\": \"0\", \"a3_plan_other\": \"0\", \"a3_plan_other_desc\": \"Regional Transportation Plan\", \"a2_output_outcome\": \"Construction of two traffic-signals, six upgraded/reconstructed curb ramps, signing, striping and education will provide controlled crossings, greater accessibility and pedestrian and bicycle safety skills for elementary students at two schools.\", \"a3_current_plan\": \"Yes\", \"b_sig_inter_new_bike_boxes\": null, \"b_class_1\": null, \"b_class_2\": null, \"b_class_3\": null, \"b_class_4\": null, \"a4_bike_gap_pct\": null, \"b_light_intersection\": null, \"b_mid_block_new_rrfb_signal\": null, \"b_mid_block_surf_improv\": null, \"b_bsp_new_bikes\": null, \"b_bike_new_secured_lockers\": null, \"b_bike_new_racks\": null, \"b_bsp_new_station\": null, \"b_other_bike_improv_1\": \"Bike detectors at intersections\", \"b_other_bike_improv_qty_1\": 3.0, \"b_other_bike_improv_2\": null, \"b_other_bike_improv_qty_2\": null, \"b_light_rdwy_seg\": null, \"b_sig_inter_timing_improv\": null, \"b_un_sig_new_rrfb_signal\": null, \"b_un_sig_cross_surf_improv\": null, \"a4_easement_support\": null, \"m_cls_1_trails_widen_recon_exist\": null, \"m_cls_1_trails_new__less_than_9\": null, \"m_cls_1_trails_new_over_9\": null, \"m_non_cls_trails_new\": null, \"m_other_trail_imprv_1\": null, \"m_other_trail_improv_qty_1\": null, \"m_other_trail_imprv_2\": null, \"m_other_trail_improv_qty_2\": null, \"m_non_cls_widen_recon_exist\": null, \"p_amenities_bench\": null, \"a4_ped_gap_pct\": null, \"p_mid_block_cross_new_rrfb_signal\": null, \"p_light_intersection\": null, \"p_lighting_rdwy_seg\": null, \"p_mid_block_cross_surf_improv\": null, \"p_new_ada_ramp\": null, \"p_sidewlks_new_barrier_protect\": null, \"p_sidewlks_new_4_to_8\": null, \"p_sidewlks_new_over_8\": null, \"p_other_ped_imprv_1\": \"Install detectable warning - curb ramp\", \"p_other_ped_qty_1\": 5.0, \"p_other_ped_imprv_2\": \"Ped Refuge Island\", \"p_other_ped_qty_2\": 1.0, \"p_reconstruct_ramp_to_ada_stand\": 4.0, \"p_sidewlks_reconstruct_enhance_exist\": null, \"p_sig_inter_enhance_exist_crosswlk\": null, \"p_sig_inter_new_crosswlk\": null, \"p_sig_inter_ped_heads\": 16.0, \"p_sig_inter_shorten_cross\": null, \"p_sig_inter_timing_improv\": null, \"p_amenities_trash_can\": null, \"p_amenities_shade_tree\": null, \"p_amenities_shade_tree_type\": null, \"p_un_sig_inter_new_traff_sig\": null, \"p_un_sig_inter_new_roundabout\": null, \"p_un_sig_inter_new_rrfb_sig\": null, \"p_un_sig_inter_shorten_cross\": null, \"p_un_sig_inter_cross_surface_improv\": null, \"p_sidewlks_widen_existing\": null, \"a4_row_100\": null, \"a4_row_gov_ease\": null, \"a4_row_private_ease\": null, \"v_other_traffic_calming_imprv_1\": null, \"v_speed_feedback_signs\": null, \"v_other_traffic_calming_qty_1\": null, \"v_other_traffic_calming_imprv_2\": null, \"v_other_traffic_calming_qty_2\": null, \"v_remove_right_turn_pocket\": null, \"v_remove_travel_ln\": null, \"v_sig_inter_new_roundabout\": null, \"v_sig_inter_timing_improv\": null, \"v_un_sig_inter_new_traf_sig\": null, \"v_un_sig_inter_new_roundabout\": null, \"app_fk\": null, \"details_datetime_stamp\": \"\", \"a4_reg_init\": \"N\", \"a4_reg_init_pct\": 0, \"a4_com_init\": \"N\", \"a4_com_init_pct\": 0, \"a4_safe_route\": \"Y\", \"a4_safe_route_pct\": 100, \"a4_fl_mile\": \"N\", \"a4_fl_mile_pct\": 0, \"a4_emp_based\": null, \"a4_emp_based_pct\": 0.0, \"a4_other_ni\": \"N\", \"a4_other_ni_descr\": null, \"a4_other_ni_pct\": 0, \"a4_wb_audits\": 0.0, \"a4_bike_classes\": 0.0, \"a4_ped_classes\": 0.0, \"a4_demo_events\": 0.0, \"a4_com_enc\": 0.0, \"a4_le_methods\": 0.0, \"a4_com_meetings\": 0.0, \"a4_classrooms\": 50.0, \"a4_school_assem\": 0.0, \"a4_after_school\": 0.0, \"a4_bike_rodeos\": 0.0, \"a4_mock_cities\": 0.0, \"a4_walk_bus\": 1.0, \"a4_bike_train\": 0.0, \"a4_com_challenges\": 0.0, \"a4_srts_enc\": 0.0, \"a4_srts_le\": 0.0, \"a4_srts_training\": 1.0, \"a4_act_other_1\": 2.0, \"a4_act_other_1_descr\": \" Pedestrian and Bike Safety Parent Coffee Hour Presentations\", \"a4_act_other_2\": 2.0, \"a4_act_other_2_decr\": \"Inaugural Bicycle and Pedestrian Safety Weeks\", \"a4_comm_trad_media\": \"Y\", \"a4_comm_large_media\": \"N\", \"a4_comm_print\": \"Y\", \"a4_comm_social\": \"Y\", \"a4_comm_web\": \"Y\", \"a4_comm_other\": \"N\", \"a4_comm_other_descr\": null, \"a4_comm_language\": \"English, Spanish, Hmong, Punjabi and additional languages available upon request.\", \"a4_collab_pub_health\": \"Y\", \"a4_collab_le\": \"Y\", \"a4_collab_non_profit\": \"Y\", \"a4_collab_schools\": \"Y\", \"a4_collab_pub_works\": \"Y\", \"a4_collab_other\": \"Y\", \"a4_colab_other_descr\": \"Elected Officials\", \"a4_plan_ped\": \"N\", \"a4_plan_bike\": \"N\", \"a4_plan_atp\": \"N\", \"a4_plan_school_routes\": \"N\", \"a4_row_open_street_demo\": \"No\", \"atp_id_x\": \"ATP5-06-006S\", \"a3_proj_type_x\": \"Infrastructure + NI - Small\", \"agency_fully_own_r_w\": null, \"require_r_w_easement,_from_gov\": \"X\", \"_require_rw_easement_from_private\": \"X\", \"atp_id_y\": \"ATP5-6-006S\", \"ppno1\": null, \"oversight_id\": \"Standard\", \"a3_proj_type_y\": \"Combined (IF and NI)\", \"Total Project Cost\": 1636000.0, \"original_prog__amt___pa_ed_\": 3000.0, \"orig__prog__year__pa_ed_\": \"21/22\", \"original_prog__amt___ps_e_\": 138000.0, \"orig__prog__year__ps_e_\": \"21/22\", \"original_prog__amt___rw_\": 14000.0, \"orig__prog__year__rw_\": \"22/23\", \"orignal_prog__amt___con_\": 1441000.0, \"orig__prog__year__con_\": \"23/24\", \"original_prog__amt___con_ni_\": 40000.0, \"orig__prog__year__con_ni_\": \"23/24\", \"total\": 1636000.0, \"_2122_pa_ed\": 3000.0, \"_2122_ps_e\": 138000.0, \"_2122_rw\": null, \"_2122_con\": null, \"_2122_con_ni\": null, \"_2122_total\": 141000.0, \"fund_year_1\": \"21/22\", \"_2223_pa_ed\": null, \"_2223_ps_e\": null, \"_2223_rw\": 14000.0, \"_2223_con\": null, \"_2223_con_ni\": null, \"_2223_total\": 14000.0, \"fund_year_2\": \"22/23\", \"_2324_pa_ed\": null, \"_2324_ps_e\": null, \"_2324_rw\": null, \"_2324_con\": 1441000.0, \"_2324_con_ni\": 40000.0, \"_2324_total\": 1481000.0, \"fund_year_3\": \"23/24\", \"_2425_pa_ed\": null, \"_2425_ps_e\": null, \"_2425_rw\": null, \"_2425_con\": null, \"_2425_con_ni\": null, \"_2425_total\": 0.0, \"fund_year_4\": \"24/25\", \"Total ATP Funds\": 1636000.0, \"match_total_atp_$_and_total\": \"YES\", \"match_total_atp_$_and_total_atp_x_1000\": \"YES\", \"paed\": 3.0, \"ps_e_\": 138.0, \"rw\": 14.0, \"con\": 1441.0, \"con_ni\": 40.0, \"total_atp__000s_\": 1636.0, \"total_atp_x_1000\": 1636000.0, \"year__pa_ed_\": \"21/22\", \"year__ps_e_\": \"21/22\", \"year__rw_\": \"22/23\", \"year__con_\": \"23/24\", \"year__con_ni_\": \"23/24\", \"Implemeting Agency Name\": \"City of Fresno\"}, {\"Project ID\": \"6-Porterville, City of-4\", \"project_cycle\": 5, \"a1_locode\": 5122.0, \"#\": null, \"atp_id\": null, \"awarded\": \"Y\", \"ppno\": 7077, \"ppno_1\": null, \"data_origin\": \"Funded\", \"geometry\": null, \"project_status\": \"Active\", \"solicitation_abv\": \"S\", \"solicitation\": \"STATEWIDE SOLICITATION-CYCLE 5\", \"soliciting_agency\": \"CALTRANS\", \"project_size\": \"Large\", \"a1_imp_agcy_city\": \"Porterville\", \"a1_imp_agcy_name\": \"Porterville, City of\", \"a1_proj_partner_agcy\": null, \"a1_proj_partner_exists\": \"No \", \"assembly_district\": 26, \"congressional_district\": 23, \"senate_district\": 14, \"County\": \"Tulare\", \"a2_ct_dist\": 6, \"a2_info_proj_descr\": \"Development of an active transportation corridor (approx. 3.9 miles in length) to include solar lighting, water stations, wayfinding, benches, controlled lighted crossing systems.\", \"a2_info_proj_loc\": \"The project is located less than one quarter mile west of Main Street (former railway), between College Avenue to the south and W Northgrand Avenue to the north.  \", \"Project Name\": \"Butterfield Stage Corridor (W North Grand Ave to College Ave)\", \"a2_mop_uza_population\": \"Project is located within one of the ten large MPOs\", \"a2_mpo\": \"TCAG\", \"a2_rtpa\": \"None\", \"a2_proj_scope_summary\": \"The Butterfield Stage Corridor Project consists of the development of a transportation corridor for non-motorized users that utilizes former Union Pacific Railroad right of way between College Avenue to the south and W North Grand Avenue to the north.  Th\", \"a1_imp_agcy_fed_ma_num\": \"06-5122R\", \"a1_imp_agcy_ma\": \"Yes\", \"a1_imp_agcy_state_ma_num\": \"00291S\", \"a1_imp_agcy_street\": \"291 N. Main Street\", \"a1_imp_agcy_title\": \"Economic Development and Housing Manager\", \"a1_imp_agcy_zip\": 93257, \"a1_letter_of_intent\": null, \"a1_proj_partner_title\": null, \"a2_assem_dist_a\": 26.0, \"a2_assem_dist_b\": null, \"a2_assem_dist_c\": null, \"a2_congress_dist_a\": 23.0, \"a2_congress_dist_b\": null, \"a2_congress_dist_c\": null, \"a2_past_proj\": \"No                            \", \"a2_past_proj_qty\": 0, \"a2_proj_lat\": 36.073036, \"a2_proj_long\": -119.008959, \"a2_project_location_map\": null, \"a2_senate_dist_a\": 14.0, \"a2_senate_dist_b\": null, \"a2_senatedistc\": null, \"a3_plan_active_trans\": null, \"a3_plan_active_trans_exists\": \"No \", \"a3_plan_bicycle\": null, \"a3_plan_bicycle_exists\": \"No \", \"a3_plan_ped\": null, \"a3_plan_ped_exists\": \"No \", \"a3_plan_srts\": null, \"a3_plan_srts_exists\": \"No \", \"a3_proj_type\": null, \"a3_st_bicycle_applies\": \"Yes\", \"a3_st_bicycle_pct\": 50.0, \"a3_st_num_schools\": 0, \"a3_st_ped_applies\": \"Yes\", \"a3_st_ped_pct\": 50, \"a3_st_srts\": \"No \", \"a3_trail_elig_cost\": 0.0, \"a3_trail_fed_funding\": \"No \", \"a3_trail_trans_pct\": null, \"a3_trails\": \"X\", \"agency_app_num\": null, \"app_pk\": null, \"attch_addtl_attachments\": null, \"attch_app_sig_page\": null, \"attch_conditions_photos\": null, \"attch_conditions_project_map\": null, \"attch_engineeers_checklist\": null, \"attch_exhibit22_plan\": null, \"attch_letters_of_support\": null, \"attch_link\": null, \"attch_ni_workplan\": null, \"attch_project_estimate\": null, \"completed_pdf_form\": null, \"main_datetime_stamp\": \"\", \"a3_plan_none\": \"0\", \"a3_plan_other\": \"0\", \"a3_plan_other_desc\": \"Porterville 2030 General Plan; TCAG Regional AT Plan\", \"a2_output_outcome\": \"Construction of a Class 1 multi-use path that includes solar lighting, drinking water stations, benches, lighted crossing systems, and pedestrian hybrid beacons will improve the comfort and safety of non-motorized users in four disadvantaged communities.\", \"a3_current_plan\": \"Yes\", \"b_sig_inter_new_bike_boxes\": null, \"b_class_1\": null, \"b_class_2\": null, \"b_class_3\": null, \"b_class_4\": null, \"a4_bike_gap_pct\": null, \"b_light_intersection\": null, \"b_mid_block_new_rrfb_signal\": 6.0, \"b_mid_block_surf_improv\": 6.0, \"b_bsp_new_bikes\": null, \"b_bike_new_secured_lockers\": null, \"b_bike_new_racks\": 10.0, \"b_bsp_new_station\": null, \"b_other_bike_improv_1\": null, \"b_other_bike_improv_qty_1\": null, \"b_other_bike_improv_2\": null, \"b_other_bike_improv_qty_2\": null, \"b_light_rdwy_seg\": null, \"b_sig_inter_timing_improv\": null, \"b_un_sig_new_rrfb_signal\": null, \"b_un_sig_cross_surf_improv\": null, \"a4_easement_support\": null, \"m_cls_1_trails_widen_recon_exist\": null, \"m_cls_1_trails_new__less_than_9\": null, \"m_cls_1_trails_new_over_9\": 20400.0, \"m_non_cls_trails_new\": null, \"m_other_trail_imprv_1\": \"solar lights on pedestals\", \"m_other_trail_improv_qty_1\": 208.0, \"m_other_trail_imprv_2\": null, \"m_other_trail_improv_qty_2\": null, \"m_non_cls_widen_recon_exist\": null, \"p_amenities_bench\": 20.0, \"a4_ped_gap_pct\": 100.0, \"p_mid_block_cross_new_rrfb_signal\": 6.0, \"p_light_intersection\": null, \"p_lighting_rdwy_seg\": null, \"p_mid_block_cross_surf_improv\": 6.0, \"p_new_ada_ramp\": 18.0, \"p_sidewlks_new_barrier_protect\": null, \"p_sidewlks_new_4_to_8\": 700.0, \"p_sidewlks_new_over_8\": null, \"p_other_ped_imprv_1\": \"Drinking Fountains w/pet spout\", \"p_other_ped_qty_1\": 10.0, \"p_other_ped_imprv_2\": null, \"p_other_ped_qty_2\": null, \"p_reconstruct_ramp_to_ada_stand\": 2.0, \"p_sidewlks_reconstruct_enhance_exist\": null, \"p_sig_inter_enhance_exist_crosswlk\": null, \"p_sig_inter_new_crosswlk\": null, \"p_sig_inter_ped_heads\": null, \"p_sig_inter_shorten_cross\": null, \"p_sig_inter_timing_improv\": null, \"p_amenities_trash_can\": 20.0, \"p_amenities_shade_tree\": 755.0, \"p_amenities_shade_tree_type\": \"Palo Verde, Eastern Redbud &\", \"p_un_sig_inter_new_traff_sig\": null, \"p_un_sig_inter_new_roundabout\": null, \"p_un_sig_inter_new_rrfb_sig\": null, \"p_un_sig_inter_shorten_cross\": null, \"p_un_sig_inter_cross_surface_improv\": null, \"p_sidewlks_widen_existing\": null, \"a4_row_100\": null, \"a4_row_gov_ease\": null, \"a4_row_private_ease\": null, \"v_other_traffic_calming_imprv_1\": null, \"v_speed_feedback_signs\": null, \"v_other_traffic_calming_qty_1\": null, \"v_other_traffic_calming_imprv_2\": null, \"v_other_traffic_calming_qty_2\": null, \"v_remove_right_turn_pocket\": null, \"v_remove_travel_ln\": null, \"v_sig_inter_new_roundabout\": null, \"v_sig_inter_timing_improv\": null, \"v_un_sig_inter_new_traf_sig\": null, \"v_un_sig_inter_new_roundabout\": null, \"app_fk\": null, \"details_datetime_stamp\": \"\", \"a4_reg_init\": \"N\", \"a4_reg_init_pct\": 0, \"a4_com_init\": \"N\", \"a4_com_init_pct\": 0, \"a4_safe_route\": \"N\", \"a4_safe_route_pct\": 0, \"a4_fl_mile\": \"N\", \"a4_fl_mile_pct\": 0, \"a4_emp_based\": null, \"a4_emp_based_pct\": 0.0, \"a4_other_ni\": \"N\", \"a4_other_ni_descr\": null, \"a4_other_ni_pct\": 0, \"a4_wb_audits\": 0.0, \"a4_bike_classes\": 0.0, \"a4_ped_classes\": 0.0, \"a4_demo_events\": 0.0, \"a4_com_enc\": 0.0, \"a4_le_methods\": 0.0, \"a4_com_meetings\": 0.0, \"a4_classrooms\": 0.0, \"a4_school_assem\": 0.0, \"a4_after_school\": 0.0, \"a4_bike_rodeos\": 0.0, \"a4_mock_cities\": 0.0, \"a4_walk_bus\": 0.0, \"a4_bike_train\": 0.0, \"a4_com_challenges\": 0.0, \"a4_srts_enc\": 0.0, \"a4_srts_le\": 0.0, \"a4_srts_training\": 0.0, \"a4_act_other_1\": 0.0, \"a4_act_other_1_descr\": null, \"a4_act_other_2\": 0.0, \"a4_act_other_2_decr\": null, \"a4_comm_trad_media\": \"N\", \"a4_comm_large_media\": \"N\", \"a4_comm_print\": \"N\", \"a4_comm_social\": \"N\", \"a4_comm_web\": \"N\", \"a4_comm_other\": \"N\", \"a4_comm_other_descr\": null, \"a4_comm_language\": null, \"a4_collab_pub_health\": \"N\", \"a4_collab_le\": \"N\", \"a4_collab_non_profit\": \"N\", \"a4_collab_schools\": \"N\", \"a4_collab_pub_works\": \"N\", \"a4_collab_other\": \"N\", \"a4_colab_other_descr\": null, \"a4_plan_ped\": \"N\", \"a4_plan_bike\": \"N\", \"a4_plan_atp\": \"N\", \"a4_plan_school_routes\": \"N\", \"a4_row_open_street_demo\": \"No\", \"atp_id_x\": \"ATP5-06-026S\", \"a3_proj_type_x\": \"Infrastructure - Large\", \"agency_fully_own_r_w\": \"X\", \"require_r_w_easement,_from_gov\": null, \"_require_rw_easement_from_private\": null, \"atp_id_y\": \"ATP5-6-026S\", \"ppno1\": null, \"oversight_id\": \"Standard\", \"a3_proj_type_y\": \"Infrastructure\", \"Total Project Cost\": 7750000.0, \"original_prog__amt___pa_ed_\": null, \"orig__prog__year__pa_ed_\": null, \"original_prog__amt___ps_e_\": null, \"orig__prog__year__ps_e_\": null, \"original_prog__amt___rw_\": null, \"orig__prog__year__rw_\": null, \"orignal_prog__amt___con_\": 7100000.0, \"orig__prog__year__con_\": \"22/23\", \"original_prog__amt___con_ni_\": null, \"orig__prog__year__con_ni_\": null, \"total\": 7100000.0, \"_2122_pa_ed\": null, \"_2122_ps_e\": null, \"_2122_rw\": null, \"_2122_con\": null, \"_2122_con_ni\": null, \"_2122_total\": 0.0, \"fund_year_1\": \"21/22\", \"_2223_pa_ed\": null, \"_2223_ps_e\": null, \"_2223_rw\": null, \"_2223_con\": 7100000.0, \"_2223_con_ni\": null, \"_2223_total\": 7100000.0, \"fund_year_2\": \"22/23\", \"_2324_pa_ed\": null, \"_2324_ps_e\": null, \"_2324_rw\": null, \"_2324_con\": null, \"_2324_con_ni\": null, \"_2324_total\": 0.0, \"fund_year_3\": \"23/24\", \"_2425_pa_ed\": null, \"_2425_ps_e\": null, \"_2425_rw\": null, \"_2425_con\": null, \"_2425_con_ni\": null, \"_2425_total\": 0.0, \"fund_year_4\": \"24/25\", \"Total ATP Funds\": 7100000.0, \"match_total_atp_$_and_total\": \"YES\", \"match_total_atp_$_and_total_atp_x_1000\": \"YES\", \"paed\": 0.0, \"ps_e_\": 0.0, \"rw\": 0.0, \"con\": 7100.0, \"con_ni\": 0.0, \"total_atp__000s_\": 7100.0, \"total_atp_x_1000\": 7100000.0, \"year__pa_ed_\": null, \"year__ps_e_\": null, \"year__rw_\": null, \"year__con_\": \"22/23\", \"year__con_ni_\": null, \"Implemeting Agency Name\": \"City of Porterville\"}, {\"Project ID\": \"6-Huron, City of-1\", \"project_cycle\": 5, \"a1_locode\": 5305.0, \"#\": null, \"atp_id\": null, \"awarded\": \"Y\", \"ppno\": 7079, \"ppno_1\": null, \"data_origin\": \"Funded\", \"geometry\": null, \"project_status\": \"Active\", \"solicitation_abv\": \"S\", \"solicitation\": \"STATEWIDE SOLICITATION-CYCLE 5\", \"soliciting_agency\": \"CALTRANS\", \"project_size\": \"Small\", \"a1_imp_agcy_city\": \"Huron\", \"a1_imp_agcy_name\": \"Huron, City of\", \"a1_proj_partner_agcy\": null, \"a1_proj_partner_exists\": \"No \", \"assembly_district\": 31, \"congressional_district\": 21, \"senate_district\": 12, \"County\": \"Fresno\", \"a2_ct_dist\": 6, \"a2_info_proj_descr\": \"The project will add Class II, III and IV bike lanes and six new crosswalks with safety features (RRFBs, pedestrian refuge island, and bulb-outs). \", \"a2_info_proj_loc\": \"The proposed project will take place on Lassen Ave, Palmer Ave, M Street, and 4th Street in Huron.\\r\", \"Project Name\": \"City of Huron Bicyclist and Pedestrian Safety Improvement Project\", \"a2_mop_uza_population\": \"Project is located within one of the ten large MPOs\", \"a2_mpo\": \"COFCG\", \"a2_rtpa\": \"None\", \"a2_proj_scope_summary\": \"This transformative project in Huron will improve bicycle and pedestrian safety throughout the city, primarily along Lassen Ave, M St, 4th St, and Palmer Ave. The improvements include constructing six new crosswalks with Rectangular Rapid Flash Beacons (R\", \"a1_imp_agcy_fed_ma_num\": \"06-5305F15\", \"a1_imp_agcy_ma\": \"Yes\", \"a1_imp_agcy_state_ma_num\": \"06-5305F15\", \"a1_imp_agcy_street\": \"PO Box 339\", \"a1_imp_agcy_title\": \"City Manager\", \"a1_imp_agcy_zip\": 93234, \"a1_letter_of_intent\": null, \"a1_proj_partner_title\": null, \"a2_assem_dist_a\": 31.0, \"a2_assem_dist_b\": null, \"a2_assem_dist_c\": null, \"a2_congress_dist_a\": 21.0, \"a2_congress_dist_b\": null, \"a2_congress_dist_c\": null, \"a2_past_proj\": \"No                            \", \"a2_past_proj_qty\": 0, \"a2_proj_lat\": 36.210269, \"a2_proj_long\": -120.103035, \"a2_project_location_map\": null, \"a2_senate_dist_a\": 12.0, \"a2_senate_dist_b\": null, \"a2_senatedistc\": null, \"a3_plan_active_trans\": null, \"a3_plan_active_trans_exists\": \"Yes\", \"a3_plan_bicycle\": null, \"a3_plan_bicycle_exists\": \"No \", \"a3_plan_ped\": null, \"a3_plan_ped_exists\": \"No \", \"a3_plan_srts\": null, \"a3_plan_srts_exists\": \"No \", \"a3_proj_type\": null, \"a3_st_bicycle_applies\": \"Yes\", \"a3_st_bicycle_pct\": 50.0, \"a3_st_num_schools\": 2, \"a3_st_ped_applies\": \"Yes\", \"a3_st_ped_pct\": 50, \"a3_st_srts\": \"Yes\", \"a3_trail_elig_cost\": 0.0, \"a3_trail_fed_funding\": null, \"a3_trail_trans_pct\": null, \"a3_trails\": null, \"agency_app_num\": null, \"app_pk\": null, \"attch_addtl_attachments\": null, \"attch_app_sig_page\": null, \"attch_conditions_photos\": null, \"attch_conditions_project_map\": null, \"attch_engineeers_checklist\": null, \"attch_exhibit22_plan\": null, \"attch_letters_of_support\": null, \"attch_link\": null, \"attch_ni_workplan\": null, \"attch_project_estimate\": null, \"completed_pdf_form\": null, \"main_datetime_stamp\": \"\", \"a3_plan_none\": \"0\", \"a3_plan_other\": \"0\", \"a3_plan_other_desc\": null, \"a2_output_outcome\": \"After completion, this project will improve pedestrian and bicyclist safety on Lassen, Palmer, M, and 4th, reduce potential accidents, and increase access to many popular destinations in Huron through active transportation.\", \"a3_current_plan\": \"Yes\", \"b_sig_inter_new_bike_boxes\": null, \"b_class_1\": null, \"b_class_2\": 6060.0, \"b_class_3\": 1100.0, \"b_class_4\": 13805.0, \"a4_bike_gap_pct\": null, \"b_light_intersection\": null, \"b_mid_block_new_rrfb_signal\": null, \"b_mid_block_surf_improv\": null, \"b_bsp_new_bikes\": null, \"b_bike_new_secured_lockers\": null, \"b_bike_new_racks\": null, \"b_bsp_new_station\": null, \"b_other_bike_improv_1\": null, \"b_other_bike_improv_qty_1\": null, \"b_other_bike_improv_2\": null, \"b_other_bike_improv_qty_2\": null, \"b_light_rdwy_seg\": null, \"b_sig_inter_timing_improv\": null, \"b_un_sig_new_rrfb_signal\": null, \"b_un_sig_cross_surf_improv\": null, \"a4_easement_support\": null, \"m_cls_1_trails_widen_recon_exist\": null, \"m_cls_1_trails_new__less_than_9\": null, \"m_cls_1_trails_new_over_9\": null, \"m_non_cls_trails_new\": null, \"m_other_trail_imprv_1\": null, \"m_other_trail_improv_qty_1\": null, \"m_other_trail_imprv_2\": null, \"m_other_trail_improv_qty_2\": null, \"m_non_cls_widen_recon_exist\": null, \"p_amenities_bench\": null, \"a4_ped_gap_pct\": 80.0, \"p_mid_block_cross_new_rrfb_signal\": null, \"p_light_intersection\": 1.0, \"p_lighting_rdwy_seg\": 3000.0, \"p_mid_block_cross_surf_improv\": null, \"p_new_ada_ramp\": 7.0, \"p_sidewlks_new_barrier_protect\": null, \"p_sidewlks_new_4_to_8\": null, \"p_sidewlks_new_over_8\": null, \"p_other_ped_imprv_1\": null, \"p_other_ped_qty_1\": null, \"p_other_ped_imprv_2\": null, \"p_other_ped_qty_2\": null, \"p_reconstruct_ramp_to_ada_stand\": 5.0, \"p_sidewlks_reconstruct_enhance_exist\": null, \"p_sig_inter_enhance_exist_crosswlk\": null, \"p_sig_inter_new_crosswlk\": null, \"p_sig_inter_ped_heads\": null, \"p_sig_inter_shorten_cross\": null, \"p_sig_inter_timing_improv\": null, \"p_amenities_trash_can\": null, \"p_amenities_shade_tree\": null, \"p_amenities_shade_tree_type\": null, \"p_un_sig_inter_new_traff_sig\": null, \"p_un_sig_inter_new_roundabout\": null, \"p_un_sig_inter_new_rrfb_sig\": 24.0, \"p_un_sig_inter_shorten_cross\": 6.0, \"p_un_sig_inter_cross_surface_improv\": 9.0, \"p_sidewlks_widen_existing\": null, \"a4_row_100\": null, \"a4_row_gov_ease\": null, \"a4_row_private_ease\": null, \"v_other_traffic_calming_imprv_1\": null, \"v_speed_feedback_signs\": null, \"v_other_traffic_calming_qty_1\": null, \"v_other_traffic_calming_imprv_2\": null, \"v_other_traffic_calming_qty_2\": null, \"v_remove_right_turn_pocket\": null, \"v_remove_travel_ln\": null, \"v_sig_inter_new_roundabout\": null, \"v_sig_inter_timing_improv\": null, \"v_un_sig_inter_new_traf_sig\": null, \"v_un_sig_inter_new_roundabout\": null, \"app_fk\": null, \"details_datetime_stamp\": \"\", \"a4_reg_init\": \"N\", \"a4_reg_init_pct\": 0, \"a4_com_init\": \"N\", \"a4_com_init_pct\": 0, \"a4_safe_route\": \"N\", \"a4_safe_route_pct\": 0, \"a4_fl_mile\": \"N\", \"a4_fl_mile_pct\": 0, \"a4_emp_based\": null, \"a4_emp_based_pct\": 0.0, \"a4_other_ni\": \"N\", \"a4_other_ni_descr\": null, \"a4_other_ni_pct\": 0, \"a4_wb_audits\": 0.0, \"a4_bike_classes\": 0.0, \"a4_ped_classes\": 0.0, \"a4_demo_events\": 0.0, \"a4_com_enc\": 0.0, \"a4_le_methods\": 0.0, \"a4_com_meetings\": 0.0, \"a4_classrooms\": 0.0, \"a4_school_assem\": 0.0, \"a4_after_school\": 0.0, \"a4_bike_rodeos\": 0.0, \"a4_mock_cities\": 0.0, \"a4_walk_bus\": 0.0, \"a4_bike_train\": 0.0, \"a4_com_challenges\": 0.0, \"a4_srts_enc\": 0.0, \"a4_srts_le\": 0.0, \"a4_srts_training\": 0.0, \"a4_act_other_1\": 0.0, \"a4_act_other_1_descr\": null, \"a4_act_other_2\": 0.0, \"a4_act_other_2_decr\": null, \"a4_comm_trad_media\": \"N\", \"a4_comm_large_media\": \"N\", \"a4_comm_print\": \"N\", \"a4_comm_social\": \"N\", \"a4_comm_web\": \"N\", \"a4_comm_other\": \"N\", \"a4_comm_other_descr\": null, \"a4_comm_language\": null, \"a4_collab_pub_health\": \"N\", \"a4_collab_le\": \"N\", \"a4_collab_non_profit\": \"N\", \"a4_collab_schools\": \"N\", \"a4_collab_pub_works\": \"N\", \"a4_collab_other\": \"N\", \"a4_colab_other_descr\": null, \"a4_plan_ped\": \"N\", \"a4_plan_bike\": \"N\", \"a4_plan_atp\": \"N\", \"a4_plan_school_routes\": \"N\", \"a4_row_open_street_demo\": \"No\", \"atp_id_x\": \"ATP5-06-042S\", \"a3_proj_type_x\": \"Infrastructure - Small\", \"agency_fully_own_r_w\": \"X\", \"require_r_w_easement,_from_gov\": null, \"_require_rw_easement_from_private\": null, \"atp_id_y\": \"ATP5-6-042S\", \"ppno1\": null, \"oversight_id\": \"Standard\", \"a3_proj_type_y\": \"Infrastructure\", \"Total Project Cost\": 1969000.0, \"original_prog__amt___pa_ed_\": 25000.0, \"orig__prog__year__pa_ed_\": \"21/22\", \"original_prog__amt___ps_e_\": 100000.0, \"orig__prog__year__ps_e_\": \"22/23\", \"original_prog__amt___rw_\": null, \"orig__prog__year__rw_\": null, \"orignal_prog__amt___con_\": 1644000.0, \"orig__prog__year__con_\": \"23/24\", \"original_prog__amt___con_ni_\": null, \"orig__prog__year__con_ni_\": null, \"total\": 1769000.0, \"_2122_pa_ed\": 25000.0, \"_2122_ps_e\": null, \"_2122_rw\": null, \"_2122_con\": null, \"_2122_con_ni\": null, \"_2122_total\": 25000.0, \"fund_year_1\": \"21/22\", \"_2223_pa_ed\": null, \"_2223_ps_e\": 100000.0, \"_2223_rw\": null, \"_2223_con\": null, \"_2223_con_ni\": null, \"_2223_total\": 100000.0, \"fund_year_2\": \"22/23\", \"_2324_pa_ed\": null, \"_2324_ps_e\": null, \"_2324_rw\": null, \"_2324_con\": 1644000.0, \"_2324_con_ni\": null, \"_2324_total\": 1644000.0, \"fund_year_3\": \"23/24\", \"_2425_pa_ed\": null, \"_2425_ps_e\": null, \"_2425_rw\": null, \"_2425_con\": null, \"_2425_con_ni\": null, \"_2425_total\": 0.0, \"fund_year_4\": \"24/25\", \"Total ATP Funds\": 1769000.0, \"match_total_atp_$_and_total\": \"YES\", \"match_total_atp_$_and_total_atp_x_1000\": \"YES\", \"paed\": 25.0, \"ps_e_\": 100.0, \"rw\": 0.0, \"con\": 1644.0, \"con_ni\": 0.0, \"total_atp__000s_\": 1769.0, \"total_atp_x_1000\": 1769000.0, \"year__pa_ed_\": \"21/22\", \"year__ps_e_\": \"22/23\", \"year__rw_\": null, \"year__con_\": \"23/24\", \"year__con_ni_\": null, \"Implemeting Agency Name\": \"City of Huron\"}]}}, {\"mode\": \"vega-lite\"});\n",
       "</script>"
      ],
      "text/plain": [
       "alt.Chart(...)"
      ]
     },
     "metadata": {},
     "output_type": "display_data"
    },
    {
     "data": {
      "text/html": [
       "<h4>Funded Project Information</h4>"
      ],
      "text/plain": [
       "<IPython.core.display.HTML object>"
      ]
     },
     "metadata": {},
     "output_type": "display_data"
    },
    {
     "data": {
      "text/html": [
       "<style type=\"text/css\">\n",
       "#T_3dc83_ th {\n",
       "  text-align: center;\n",
       "}\n",
       "#T_3dc83_row0_col0, #T_3dc83_row0_col1, #T_3dc83_row0_col2, #T_3dc83_row0_col3, #T_3dc83_row0_col4, #T_3dc83_row1_col0, #T_3dc83_row1_col1, #T_3dc83_row1_col2, #T_3dc83_row1_col3, #T_3dc83_row1_col4, #T_3dc83_row2_col0, #T_3dc83_row2_col1, #T_3dc83_row2_col2, #T_3dc83_row2_col3, #T_3dc83_row2_col4, #T_3dc83_row3_col0, #T_3dc83_row3_col1, #T_3dc83_row3_col2, #T_3dc83_row3_col3, #T_3dc83_row3_col4, #T_3dc83_row4_col0, #T_3dc83_row4_col1, #T_3dc83_row4_col2, #T_3dc83_row4_col3, #T_3dc83_row4_col4, #T_3dc83_row5_col0, #T_3dc83_row5_col1, #T_3dc83_row5_col2, #T_3dc83_row5_col3, #T_3dc83_row5_col4 {\n",
       "  text-align: center;\n",
       "}\n",
       "</style>\n",
       "<table id=\"T_3dc83_\">\n",
       "  <thead>\n",
       "    <tr>\n",
       "      <th class=\"col_heading level0 col0\" >Implemeting Agency Name</th>\n",
       "      <th class=\"col_heading level0 col1\" >Project Name</th>\n",
       "      <th class=\"col_heading level0 col2\" >County</th>\n",
       "      <th class=\"col_heading level0 col3\" >Total Atp Funds</th>\n",
       "      <th class=\"col_heading level0 col4\" >Total Project Cost</th>\n",
       "    </tr>\n",
       "  </thead>\n",
       "  <tbody>\n",
       "    <tr>\n",
       "      <td id=\"T_3dc83_row0_col0\" class=\"data row0 col0\" >City of Corcoran</td>\n",
       "      <td id=\"T_3dc83_row0_col1\" class=\"data row0 col1\" >Corcoran Safe Routes to School</td>\n",
       "      <td id=\"T_3dc83_row0_col2\" class=\"data row0 col2\" >Kings</td>\n",
       "      <td id=\"T_3dc83_row0_col3\" class=\"data row0 col3\" >$ 1,998,000.00</td>\n",
       "      <td id=\"T_3dc83_row0_col4\" class=\"data row0 col4\" >$ 1,998,000.00</td>\n",
       "    </tr>\n",
       "    <tr>\n",
       "      <td id=\"T_3dc83_row1_col0\" class=\"data row1 col0\" >Fresno County</td>\n",
       "      <td id=\"T_3dc83_row1_col1\" class=\"data row1 col1\" >Biola Community Sidewalks</td>\n",
       "      <td id=\"T_3dc83_row1_col2\" class=\"data row1 col2\" >Fresno</td>\n",
       "      <td id=\"T_3dc83_row1_col3\" class=\"data row1 col3\" >$ 1,255,000.00</td>\n",
       "      <td id=\"T_3dc83_row1_col4\" class=\"data row1 col4\" >$ 1,498,000.00</td>\n",
       "    </tr>\n",
       "    <tr>\n",
       "      <td id=\"T_3dc83_row2_col0\" class=\"data row2 col0\" >City of Delano</td>\n",
       "      <td id=\"T_3dc83_row2_col1\" class=\"data row2 col1\" >ATP-5 SRTS Intersection Enhancement and NI Work Plan</td>\n",
       "      <td id=\"T_3dc83_row2_col2\" class=\"data row2 col2\" >Kern</td>\n",
       "      <td id=\"T_3dc83_row2_col3\" class=\"data row2 col3\" >$ 1,164,000.00</td>\n",
       "      <td id=\"T_3dc83_row2_col4\" class=\"data row2 col4\" >$ 1,178,000.00</td>\n",
       "    </tr>\n",
       "    <tr>\n",
       "      <td id=\"T_3dc83_row3_col0\" class=\"data row3 col0\" >City of Fresno</td>\n",
       "      <td id=\"T_3dc83_row3_col1\" class=\"data row3 col1\" >Kids Crossing: Safe Routes to School in South Fresno</td>\n",
       "      <td id=\"T_3dc83_row3_col2\" class=\"data row3 col2\" >Fresno</td>\n",
       "      <td id=\"T_3dc83_row3_col3\" class=\"data row3 col3\" >$ 1,636,000.00</td>\n",
       "      <td id=\"T_3dc83_row3_col4\" class=\"data row3 col4\" >$ 1,636,000.00</td>\n",
       "    </tr>\n",
       "    <tr>\n",
       "      <td id=\"T_3dc83_row4_col0\" class=\"data row4 col0\" >City of Porterville</td>\n",
       "      <td id=\"T_3dc83_row4_col1\" class=\"data row4 col1\" >Butterfield Stage Corridor (W North Grand Ave to College Ave)</td>\n",
       "      <td id=\"T_3dc83_row4_col2\" class=\"data row4 col2\" >Tulare</td>\n",
       "      <td id=\"T_3dc83_row4_col3\" class=\"data row4 col3\" >$ 7,100,000.00</td>\n",
       "      <td id=\"T_3dc83_row4_col4\" class=\"data row4 col4\" >$ 7,750,000.00</td>\n",
       "    </tr>\n",
       "    <tr>\n",
       "      <td id=\"T_3dc83_row5_col0\" class=\"data row5 col0\" >City of Huron</td>\n",
       "      <td id=\"T_3dc83_row5_col1\" class=\"data row5 col1\" >City of Huron Bicyclist and Pedestrian Safety Improvement Project</td>\n",
       "      <td id=\"T_3dc83_row5_col2\" class=\"data row5 col2\" >Fresno</td>\n",
       "      <td id=\"T_3dc83_row5_col3\" class=\"data row5 col3\" >$ 1,769,000.00</td>\n",
       "      <td id=\"T_3dc83_row5_col4\" class=\"data row5 col4\" >$ 1,969,000.00</td>\n",
       "    </tr>\n",
       "  </tbody>\n",
       "</table>\n"
      ],
      "text/plain": [
       "<IPython.core.display.HTML object>"
      ]
     },
     "metadata": {},
     "output_type": "display_data"
    },
    {
     "data": {
      "text/html": [
       "</br><h4> Success Rates for Agencies in District 6 </h4>"
      ],
      "text/plain": [
       "<IPython.core.display.HTML object>"
      ]
     },
     "metadata": {},
     "output_type": "display_data"
    },
    {
     "data": {
      "text/html": [
       "<style type=\"text/css\">\n",
       "#T_6aa5c_ th {\n",
       "  text-align: center;\n",
       "}\n",
       "#T_6aa5c_row0_col0, #T_6aa5c_row0_col1, #T_6aa5c_row0_col2, #T_6aa5c_row1_col0, #T_6aa5c_row1_col1, #T_6aa5c_row1_col2, #T_6aa5c_row2_col0, #T_6aa5c_row2_col1, #T_6aa5c_row2_col2, #T_6aa5c_row3_col0, #T_6aa5c_row3_col1, #T_6aa5c_row3_col2, #T_6aa5c_row4_col0, #T_6aa5c_row4_col1, #T_6aa5c_row4_col2, #T_6aa5c_row5_col0, #T_6aa5c_row5_col1, #T_6aa5c_row5_col2, #T_6aa5c_row6_col0, #T_6aa5c_row6_col1, #T_6aa5c_row6_col2, #T_6aa5c_row7_col0, #T_6aa5c_row7_col1, #T_6aa5c_row7_col2, #T_6aa5c_row8_col0, #T_6aa5c_row8_col1, #T_6aa5c_row8_col2, #T_6aa5c_row9_col0, #T_6aa5c_row9_col1, #T_6aa5c_row9_col2, #T_6aa5c_row10_col0, #T_6aa5c_row10_col1, #T_6aa5c_row10_col2, #T_6aa5c_row11_col0, #T_6aa5c_row11_col1, #T_6aa5c_row11_col2, #T_6aa5c_row12_col0, #T_6aa5c_row12_col1, #T_6aa5c_row12_col2, #T_6aa5c_row13_col0, #T_6aa5c_row13_col1, #T_6aa5c_row13_col2, #T_6aa5c_row14_col0, #T_6aa5c_row14_col1, #T_6aa5c_row14_col2, #T_6aa5c_row15_col0, #T_6aa5c_row15_col1, #T_6aa5c_row15_col2, #T_6aa5c_row16_col0, #T_6aa5c_row16_col1, #T_6aa5c_row16_col2, #T_6aa5c_row17_col0, #T_6aa5c_row17_col1, #T_6aa5c_row17_col2, #T_6aa5c_row18_col0, #T_6aa5c_row18_col1, #T_6aa5c_row18_col2, #T_6aa5c_row19_col0, #T_6aa5c_row19_col1, #T_6aa5c_row19_col2, #T_6aa5c_row20_col0, #T_6aa5c_row20_col1, #T_6aa5c_row20_col2, #T_6aa5c_row21_col0, #T_6aa5c_row21_col1, #T_6aa5c_row21_col2, #T_6aa5c_row22_col0, #T_6aa5c_row22_col1, #T_6aa5c_row22_col2, #T_6aa5c_row23_col0, #T_6aa5c_row23_col1, #T_6aa5c_row23_col2 {\n",
       "  text-align: center;\n",
       "}\n",
       "</style>\n",
       "<table id=\"T_6aa5c_\">\n",
       "  <thead>\n",
       "    <tr>\n",
       "      <th class=\"col_heading level0 col0\" >Implemeting Agency Name</th>\n",
       "      <th class=\"col_heading level0 col1\" >Total Applications</th>\n",
       "      <th class=\"col_heading level0 col2\" >Success Rate</th>\n",
       "    </tr>\n",
       "  </thead>\n",
       "  <tbody>\n",
       "    <tr>\n",
       "      <td id=\"T_6aa5c_row0_col0\" class=\"data row0 col0\" >City of Corcoran</td>\n",
       "      <td id=\"T_6aa5c_row0_col1\" class=\"data row0 col1\" >1</td>\n",
       "      <td id=\"T_6aa5c_row0_col2\" class=\"data row0 col2\" >100.00%</td>\n",
       "    </tr>\n",
       "    <tr>\n",
       "      <td id=\"T_6aa5c_row1_col0\" class=\"data row1 col0\" >City of Delano</td>\n",
       "      <td id=\"T_6aa5c_row1_col1\" class=\"data row1 col1\" >2</td>\n",
       "      <td id=\"T_6aa5c_row1_col2\" class=\"data row1 col2\" >50.00%</td>\n",
       "    </tr>\n",
       "    <tr>\n",
       "      <td id=\"T_6aa5c_row2_col0\" class=\"data row2 col0\" >City of Fresno</td>\n",
       "      <td id=\"T_6aa5c_row2_col1\" class=\"data row2 col1\" >3</td>\n",
       "      <td id=\"T_6aa5c_row2_col2\" class=\"data row2 col2\" >33.33%</td>\n",
       "    </tr>\n",
       "    <tr>\n",
       "      <td id=\"T_6aa5c_row3_col0\" class=\"data row3 col0\" >City of Huron</td>\n",
       "      <td id=\"T_6aa5c_row3_col1\" class=\"data row3 col1\" >1</td>\n",
       "      <td id=\"T_6aa5c_row3_col2\" class=\"data row3 col2\" >100.00%</td>\n",
       "    </tr>\n",
       "    <tr>\n",
       "      <td id=\"T_6aa5c_row4_col0\" class=\"data row4 col0\" >City of Porterville</td>\n",
       "      <td id=\"T_6aa5c_row4_col1\" class=\"data row4 col1\" >4</td>\n",
       "      <td id=\"T_6aa5c_row4_col2\" class=\"data row4 col2\" >25.00%</td>\n",
       "    </tr>\n",
       "    <tr>\n",
       "      <td id=\"T_6aa5c_row5_col0\" class=\"data row5 col0\" >Fresno County</td>\n",
       "      <td id=\"T_6aa5c_row5_col1\" class=\"data row5 col1\" >1</td>\n",
       "      <td id=\"T_6aa5c_row5_col2\" class=\"data row5 col2\" >100.00%</td>\n",
       "    </tr>\n",
       "    <tr>\n",
       "      <td id=\"T_6aa5c_row6_col0\" class=\"data row6 col0\" >5216</td>\n",
       "      <td id=\"T_6aa5c_row6_col1\" class=\"data row6 col1\" >1</td>\n",
       "      <td id=\"T_6aa5c_row6_col2\" class=\"data row6 col2\" >0.00%</td>\n",
       "    </tr>\n",
       "    <tr>\n",
       "      <td id=\"T_6aa5c_row7_col0\" class=\"data row7 col0\" >California Department of Transportation</td>\n",
       "      <td id=\"T_6aa5c_row7_col1\" class=\"data row7 col1\" >1</td>\n",
       "      <td id=\"T_6aa5c_row7_col2\" class=\"data row7 col2\" >0.00%</td>\n",
       "    </tr>\n",
       "    <tr>\n",
       "      <td id=\"T_6aa5c_row8_col0\" class=\"data row8 col0\" >City of Bakersfield</td>\n",
       "      <td id=\"T_6aa5c_row8_col1\" class=\"data row8 col1\" >5</td>\n",
       "      <td id=\"T_6aa5c_row8_col2\" class=\"data row8 col2\" >0.00%</td>\n",
       "    </tr>\n",
       "    <tr>\n",
       "      <td id=\"T_6aa5c_row9_col0\" class=\"data row9 col0\" >City of Clovis</td>\n",
       "      <td id=\"T_6aa5c_row9_col1\" class=\"data row9 col1\" >1</td>\n",
       "      <td id=\"T_6aa5c_row9_col2\" class=\"data row9 col2\" >0.00%</td>\n",
       "    </tr>\n",
       "    <tr>\n",
       "      <td id=\"T_6aa5c_row10_col0\" class=\"data row10 col0\" >City of Dinuba</td>\n",
       "      <td id=\"T_6aa5c_row10_col1\" class=\"data row10 col1\" >6</td>\n",
       "      <td id=\"T_6aa5c_row10_col2\" class=\"data row10 col2\" >0.00%</td>\n",
       "    </tr>\n",
       "    <tr>\n",
       "      <td id=\"T_6aa5c_row11_col0\" class=\"data row11 col0\" >City of Fowler</td>\n",
       "      <td id=\"T_6aa5c_row11_col1\" class=\"data row11 col1\" >1</td>\n",
       "      <td id=\"T_6aa5c_row11_col2\" class=\"data row11 col2\" >0.00%</td>\n",
       "    </tr>\n",
       "    <tr>\n",
       "      <td id=\"T_6aa5c_row12_col0\" class=\"data row12 col0\" >City of Kingsburg</td>\n",
       "      <td id=\"T_6aa5c_row12_col1\" class=\"data row12 col1\" >1</td>\n",
       "      <td id=\"T_6aa5c_row12_col2\" class=\"data row12 col2\" >0.00%</td>\n",
       "    </tr>\n",
       "    <tr>\n",
       "      <td id=\"T_6aa5c_row13_col0\" class=\"data row13 col0\" >City of Orange Cove</td>\n",
       "      <td id=\"T_6aa5c_row13_col1\" class=\"data row13 col1\" >1</td>\n",
       "      <td id=\"T_6aa5c_row13_col2\" class=\"data row13 col2\" >0.00%</td>\n",
       "    </tr>\n",
       "    <tr>\n",
       "      <td id=\"T_6aa5c_row14_col0\" class=\"data row14 col0\" >City of Parlier</td>\n",
       "      <td id=\"T_6aa5c_row14_col1\" class=\"data row14 col1\" >1</td>\n",
       "      <td id=\"T_6aa5c_row14_col2\" class=\"data row14 col2\" >0.00%</td>\n",
       "    </tr>\n",
       "    <tr>\n",
       "      <td id=\"T_6aa5c_row15_col0\" class=\"data row15 col0\" >City of Selma</td>\n",
       "      <td id=\"T_6aa5c_row15_col1\" class=\"data row15 col1\" >3</td>\n",
       "      <td id=\"T_6aa5c_row15_col2\" class=\"data row15 col2\" >0.00%</td>\n",
       "    </tr>\n",
       "    <tr>\n",
       "      <td id=\"T_6aa5c_row16_col0\" class=\"data row16 col0\" >City of Visalia</td>\n",
       "      <td id=\"T_6aa5c_row16_col1\" class=\"data row16 col1\" >1</td>\n",
       "      <td id=\"T_6aa5c_row16_col2\" class=\"data row16 col2\" >0.00%</td>\n",
       "    </tr>\n",
       "    <tr>\n",
       "      <td id=\"T_6aa5c_row17_col0\" class=\"data row17 col0\" >City of Wasco</td>\n",
       "      <td id=\"T_6aa5c_row17_col1\" class=\"data row17 col1\" >1</td>\n",
       "      <td id=\"T_6aa5c_row17_col2\" class=\"data row17 col2\" >0.00%</td>\n",
       "    </tr>\n",
       "    <tr>\n",
       "      <td id=\"T_6aa5c_row18_col0\" class=\"data row18 col0\" >City of Woodlake</td>\n",
       "      <td id=\"T_6aa5c_row18_col1\" class=\"data row18 col1\" >1</td>\n",
       "      <td id=\"T_6aa5c_row18_col2\" class=\"data row18 col2\" >0.00%</td>\n",
       "    </tr>\n",
       "    <tr>\n",
       "      <td id=\"T_6aa5c_row19_col0\" class=\"data row19 col0\" >City of- Coalinga</td>\n",
       "      <td id=\"T_6aa5c_row19_col1\" class=\"data row19 col1\" >1</td>\n",
       "      <td id=\"T_6aa5c_row19_col2\" class=\"data row19 col2\" >0.00%</td>\n",
       "    </tr>\n",
       "    <tr>\n",
       "      <td id=\"T_6aa5c_row20_col0\" class=\"data row20 col0\" >Kern Council of Governments</td>\n",
       "      <td id=\"T_6aa5c_row20_col1\" class=\"data row20 col1\" >1</td>\n",
       "      <td id=\"T_6aa5c_row20_col2\" class=\"data row20 col2\" >0.00%</td>\n",
       "    </tr>\n",
       "    <tr>\n",
       "      <td id=\"T_6aa5c_row21_col0\" class=\"data row21 col0\" >Kern County - D6</td>\n",
       "      <td id=\"T_6aa5c_row21_col1\" class=\"data row21 col1\" >1</td>\n",
       "      <td id=\"T_6aa5c_row21_col2\" class=\"data row21 col2\" >0.00%</td>\n",
       "    </tr>\n",
       "    <tr>\n",
       "      <td id=\"T_6aa5c_row22_col0\" class=\"data row22 col0\" >Kings County</td>\n",
       "      <td id=\"T_6aa5c_row22_col1\" class=\"data row22 col1\" >1</td>\n",
       "      <td id=\"T_6aa5c_row22_col2\" class=\"data row22 col2\" >0.00%</td>\n",
       "    </tr>\n",
       "    <tr>\n",
       "      <td id=\"T_6aa5c_row23_col0\" class=\"data row23 col0\" >Tulare County</td>\n",
       "      <td id=\"T_6aa5c_row23_col1\" class=\"data row23 col1\" >5</td>\n",
       "      <td id=\"T_6aa5c_row23_col2\" class=\"data row23 col2\" >0.00%</td>\n",
       "    </tr>\n",
       "  </tbody>\n",
       "</table>\n"
      ],
      "text/plain": [
       "<IPython.core.display.HTML object>"
      ]
     },
     "metadata": {},
     "output_type": "display_data"
    }
   ],
   "source": [
    "_report_utils.map_dist_proj(funded, df, 6)"
   ]
  },
  {
   "cell_type": "code",
   "execution_count": null,
   "id": "4db4cb39-b8a6-4fea-b597-11d84d7cf407",
   "metadata": {},
   "outputs": [],
   "source": []
  },
  {
   "cell_type": "markdown",
   "id": "79dfb112-6e6b-47e8-965f-5a35294736e2",
   "metadata": {},
   "source": [
    "### District 7 - Los Angeles"
   ]
  },
  {
   "cell_type": "code",
   "execution_count": 41,
   "id": "263cde0c-26ec-40f8-9657-898ad072d7b1",
   "metadata": {},
   "outputs": [
    {
     "data": {
      "text/html": [
       "\n",
       "<div id=\"altair-viz-765880b096d54190b758584561061203\"></div>\n",
       "<script type=\"text/javascript\">\n",
       "  var VEGA_DEBUG = (typeof VEGA_DEBUG == \"undefined\") ? {} : VEGA_DEBUG;\n",
       "  (function(spec, embedOpt){\n",
       "    let outputDiv = document.currentScript.previousElementSibling;\n",
       "    if (outputDiv.id !== \"altair-viz-765880b096d54190b758584561061203\") {\n",
       "      outputDiv = document.getElementById(\"altair-viz-765880b096d54190b758584561061203\");\n",
       "    }\n",
       "    const paths = {\n",
       "      \"vega\": \"https://cdn.jsdelivr.net/npm//vega@5?noext\",\n",
       "      \"vega-lib\": \"https://cdn.jsdelivr.net/npm//vega-lib?noext\",\n",
       "      \"vega-lite\": \"https://cdn.jsdelivr.net/npm//vega-lite@4.17.0?noext\",\n",
       "      \"vega-embed\": \"https://cdn.jsdelivr.net/npm//vega-embed@6?noext\",\n",
       "    };\n",
       "\n",
       "    function maybeLoadScript(lib, version) {\n",
       "      var key = `${lib.replace(\"-\", \"\")}_version`;\n",
       "      return (VEGA_DEBUG[key] == version) ?\n",
       "        Promise.resolve(paths[lib]) :\n",
       "        new Promise(function(resolve, reject) {\n",
       "          var s = document.createElement('script');\n",
       "          document.getElementsByTagName(\"head\")[0].appendChild(s);\n",
       "          s.async = true;\n",
       "          s.onload = () => {\n",
       "            VEGA_DEBUG[key] = version;\n",
       "            return resolve(paths[lib]);\n",
       "          };\n",
       "          s.onerror = () => reject(`Error loading script: ${paths[lib]}`);\n",
       "          s.src = paths[lib];\n",
       "        });\n",
       "    }\n",
       "\n",
       "    function showError(err) {\n",
       "      outputDiv.innerHTML = `<div class=\"error\" style=\"color:red;\">${err}</div>`;\n",
       "      throw err;\n",
       "    }\n",
       "\n",
       "    function displayChart(vegaEmbed) {\n",
       "      vegaEmbed(outputDiv, spec, embedOpt)\n",
       "        .catch(err => showError(`Javascript Error: ${err.message}<br>This usually means there's a typo in your chart specification. See the javascript console for the full traceback.`));\n",
       "    }\n",
       "\n",
       "    if(typeof define === \"function\" && define.amd) {\n",
       "      requirejs.config({paths});\n",
       "      require([\"vega-embed\"], displayChart, err => showError(`Error loading script: ${err.message}`));\n",
       "    } else {\n",
       "      maybeLoadScript(\"vega\", \"5\")\n",
       "        .then(() => maybeLoadScript(\"vega-lite\", \"4.17.0\"))\n",
       "        .then(() => maybeLoadScript(\"vega-embed\", \"6\"))\n",
       "        .catch(showError)\n",
       "        .then(() => displayChart(vegaEmbed));\n",
       "    }\n",
       "  })({\"config\": {\"view\": {\"continuousWidth\": 400, \"continuousHeight\": 300}}, \"data\": {\"name\": \"data-d72fabada9a067d401914966e99fb629\"}, \"mark\": \"bar\", \"encoding\": {\"color\": {\"field\": \"Project Name\", \"legend\": null, \"scale\": {\"range\": [\"#E16B26\", \"#EB9F3C\", \"#f6e7e1\", \"#8CBCCB\", \"#2EA8CE\", \"#136C97\"]}, \"type\": \"nominal\"}, \"tooltip\": [{\"field\": \"Project Name\", \"type\": \"nominal\"}, {\"field\": \"Total ATP Funds\", \"type\": \"quantitative\"}], \"x\": {\"field\": \"Total ATP Funds\", \"type\": \"quantitative\"}, \"y\": {\"field\": \"Implemeting Agency Name\", \"type\": \"nominal\"}}, \"title\": \"Total ATP Funds by Project\", \"$schema\": \"https://vega.github.io/schema/vega-lite/v4.17.0.json\", \"datasets\": {\"data-d72fabada9a067d401914966e99fb629\": [{\"Project ID\": \"7-Bell Gardens, City of-1\", \"project_cycle\": 5, \"a1_locode\": 5373.0, \"#\": null, \"atp_id\": null, \"awarded\": \"Y\", \"ppno\": 5868, \"ppno_1\": null, \"data_origin\": \"Funded\", \"geometry\": null, \"project_status\": \"Active\", \"solicitation_abv\": \"S\", \"solicitation\": \"STATEWIDE SOLICITATION-CYCLE 5\", \"soliciting_agency\": \"CALTRANS\", \"project_size\": \"Medium\", \"a1_imp_agcy_city\": \"Bell Gardens\", \"a1_imp_agcy_name\": \"Bell Gardens, City of\", \"a1_proj_partner_agcy\": null, \"a1_proj_partner_exists\": \"No \", \"assembly_district\": 58, \"congressional_district\": 40, \"senate_district\": 33, \"County\": \"Los Angeles\", \"a2_ct_dist\": 7, \"a2_info_proj_descr\": \"Citywide ped, bike, & traffic calming improvements to create complete streets - xwalks, mini traffic circles, HAWK, curb extensions, Class 3 bike routes, ADA ramps, LPI, striping.\", \"a2_info_proj_loc\": \"Various locations within the City, including Agra St, Ajax Ave, Colmar Ave, Lubec St, Ira Ave, Toler Ave, Quinn Ave, Muller St, El Selinda Ave, Loveland St, and Jaboneria Rd. \", \"Project Name\": \"Bell Gardens Complete Streets Improvements - Phase 1\", \"a2_mop_uza_population\": \"Project is located within one of the ten large MPOs\", \"a2_mpo\": \"SCAG\", \"a2_rtpa\": \"None\", \"a2_proj_scope_summary\": \"Bell Gardens received funding from Caltrans in 2016 to develop a Citywide Complete Streets Plan. Residents provided extensive input during the Plan\\u2019s development. The Plan provides guidance on how to improve the walking, biking, and transit experience thr\", \"a1_imp_agcy_fed_ma_num\": \"075373F15\", \"a1_imp_agcy_ma\": \"Yes\", \"a1_imp_agcy_state_ma_num\": null, \"a1_imp_agcy_street\": \"7100 Garfield Ave\", \"a1_imp_agcy_title\": \"Director of Public Works\", \"a1_imp_agcy_zip\": 90201, \"a1_letter_of_intent\": null, \"a1_proj_partner_title\": null, \"a2_assem_dist_a\": 58.0, \"a2_assem_dist_b\": null, \"a2_assem_dist_c\": null, \"a2_congress_dist_a\": 40.0, \"a2_congress_dist_b\": null, \"a2_congress_dist_c\": null, \"a2_past_proj\": \"Yes                           \", \"a2_past_proj_qty\": 7, \"a2_proj_lat\": 33.966244, \"a2_proj_long\": -118.15499, \"a2_project_location_map\": null, \"a2_senate_dist_a\": 33.0, \"a2_senate_dist_b\": null, \"a2_senatedistc\": null, \"a3_plan_active_trans\": null, \"a3_plan_active_trans_exists\": \"No \", \"a3_plan_bicycle\": null, \"a3_plan_bicycle_exists\": \"No \", \"a3_plan_ped\": null, \"a3_plan_ped_exists\": \"No \", \"a3_plan_srts\": null, \"a3_plan_srts_exists\": \"No \", \"a3_proj_type\": null, \"a3_st_bicycle_applies\": \"Yes\", \"a3_st_bicycle_pct\": 15.0, \"a3_st_num_schools\": 3, \"a3_st_ped_applies\": \"Yes\", \"a3_st_ped_pct\": 85, \"a3_st_srts\": \"No \", \"a3_trail_elig_cost\": 0.0, \"a3_trail_fed_funding\": null, \"a3_trail_trans_pct\": null, \"a3_trails\": null, \"agency_app_num\": null, \"app_pk\": null, \"attch_addtl_attachments\": null, \"attch_app_sig_page\": null, \"attch_conditions_photos\": null, \"attch_conditions_project_map\": null, \"attch_engineeers_checklist\": null, \"attch_exhibit22_plan\": null, \"attch_letters_of_support\": null, \"attch_link\": null, \"attch_ni_workplan\": null, \"attch_project_estimate\": null, \"completed_pdf_form\": null, \"main_datetime_stamp\": \"\", \"a3_plan_none\": \"0\", \"a3_plan_other\": \"0\", \"a3_plan_other_desc\": \"Complete Streets Plan\", \"a2_output_outcome\": \"Install or refresh 31 white or yellow high visibility crosswalks, 4 miles of Class III bike route, 2 raised intersections, 10 speed humps, 12 curb extensions, 1 HAWK signal, 8 mini traffic circles, 3 LPI.\", \"a3_current_plan\": \"Yes\", \"b_sig_inter_new_bike_boxes\": null, \"b_class_1\": null, \"b_class_2\": null, \"b_class_3\": 21331.0, \"b_class_4\": null, \"a4_bike_gap_pct\": null, \"b_light_intersection\": null, \"b_mid_block_new_rrfb_signal\": null, \"b_mid_block_surf_improv\": null, \"b_bsp_new_bikes\": null, \"b_bike_new_secured_lockers\": null, \"b_bike_new_racks\": null, \"b_bsp_new_station\": null, \"b_other_bike_improv_1\": \"Edgeline Treatment - 3.22 miles\", \"b_other_bike_improv_qty_1\": null, \"b_other_bike_improv_2\": null, \"b_other_bike_improv_qty_2\": null, \"b_light_rdwy_seg\": null, \"b_sig_inter_timing_improv\": null, \"b_un_sig_new_rrfb_signal\": null, \"b_un_sig_cross_surf_improv\": null, \"a4_easement_support\": null, \"m_cls_1_trails_widen_recon_exist\": null, \"m_cls_1_trails_new__less_than_9\": null, \"m_cls_1_trails_new_over_9\": null, \"m_non_cls_trails_new\": null, \"m_other_trail_imprv_1\": null, \"m_other_trail_improv_qty_1\": null, \"m_other_trail_imprv_2\": null, \"m_other_trail_improv_qty_2\": null, \"m_non_cls_widen_recon_exist\": null, \"p_amenities_bench\": null, \"a4_ped_gap_pct\": null, \"p_mid_block_cross_new_rrfb_signal\": null, \"p_light_intersection\": null, \"p_lighting_rdwy_seg\": null, \"p_mid_block_cross_surf_improv\": 1.0, \"p_new_ada_ramp\": null, \"p_sidewlks_new_barrier_protect\": null, \"p_sidewlks_new_4_to_8\": null, \"p_sidewlks_new_over_8\": null, \"p_other_ped_imprv_1\": \"Curb Extensions\", \"p_other_ped_qty_1\": 12.0, \"p_other_ped_imprv_2\": null, \"p_other_ped_qty_2\": null, \"p_reconstruct_ramp_to_ada_stand\": 33.0, \"p_sidewlks_reconstruct_enhance_exist\": null, \"p_sig_inter_enhance_exist_crosswlk\": 7.0, \"p_sig_inter_new_crosswlk\": null, \"p_sig_inter_ped_heads\": null, \"p_sig_inter_shorten_cross\": null, \"p_sig_inter_timing_improv\": 3.0, \"p_amenities_trash_can\": null, \"p_amenities_shade_tree\": null, \"p_amenities_shade_tree_type\": null, \"p_un_sig_inter_new_traff_sig\": null, \"p_un_sig_inter_new_roundabout\": null, \"p_un_sig_inter_new_rrfb_sig\": 1.0, \"p_un_sig_inter_shorten_cross\": null, \"p_un_sig_inter_cross_surface_improv\": 23.0, \"p_sidewlks_widen_existing\": null, \"a4_row_100\": null, \"a4_row_gov_ease\": null, \"a4_row_private_ease\": null, \"v_other_traffic_calming_imprv_1\": \"Speed Humps\", \"v_speed_feedback_signs\": null, \"v_other_traffic_calming_qty_1\": 10.0, \"v_other_traffic_calming_imprv_2\": \"Raised Intersections\", \"v_other_traffic_calming_qty_2\": 2.0, \"v_remove_right_turn_pocket\": null, \"v_remove_travel_ln\": null, \"v_sig_inter_new_roundabout\": null, \"v_sig_inter_timing_improv\": null, \"v_un_sig_inter_new_traf_sig\": null, \"v_un_sig_inter_new_roundabout\": 8.0, \"app_fk\": null, \"details_datetime_stamp\": \"\", \"a4_reg_init\": \"N\", \"a4_reg_init_pct\": 0, \"a4_com_init\": \"N\", \"a4_com_init_pct\": 0, \"a4_safe_route\": \"N\", \"a4_safe_route_pct\": 0, \"a4_fl_mile\": \"N\", \"a4_fl_mile_pct\": 0, \"a4_emp_based\": null, \"a4_emp_based_pct\": 0.0, \"a4_other_ni\": \"N\", \"a4_other_ni_descr\": null, \"a4_other_ni_pct\": 0, \"a4_wb_audits\": 0.0, \"a4_bike_classes\": 0.0, \"a4_ped_classes\": 0.0, \"a4_demo_events\": 0.0, \"a4_com_enc\": 0.0, \"a4_le_methods\": 0.0, \"a4_com_meetings\": 0.0, \"a4_classrooms\": 0.0, \"a4_school_assem\": 0.0, \"a4_after_school\": 0.0, \"a4_bike_rodeos\": 0.0, \"a4_mock_cities\": 0.0, \"a4_walk_bus\": 0.0, \"a4_bike_train\": 0.0, \"a4_com_challenges\": 0.0, \"a4_srts_enc\": 0.0, \"a4_srts_le\": 0.0, \"a4_srts_training\": 0.0, \"a4_act_other_1\": 0.0, \"a4_act_other_1_descr\": null, \"a4_act_other_2\": 0.0, \"a4_act_other_2_decr\": null, \"a4_comm_trad_media\": \"N\", \"a4_comm_large_media\": \"N\", \"a4_comm_print\": \"N\", \"a4_comm_social\": \"N\", \"a4_comm_web\": \"N\", \"a4_comm_other\": \"N\", \"a4_comm_other_descr\": null, \"a4_comm_language\": null, \"a4_collab_pub_health\": \"N\", \"a4_collab_le\": \"N\", \"a4_collab_non_profit\": \"N\", \"a4_collab_schools\": \"N\", \"a4_collab_pub_works\": \"N\", \"a4_collab_other\": \"N\", \"a4_colab_other_descr\": null, \"a4_plan_ped\": \"N\", \"a4_plan_bike\": \"N\", \"a4_plan_atp\": \"N\", \"a4_plan_school_routes\": \"N\", \"a4_row_open_street_demo\": \"No\", \"atp_id_x\": \"ATP5-07-047S\", \"a3_proj_type_x\": \"Infrastructure - Medium\", \"agency_fully_own_r_w\": \"X\", \"require_r_w_easement,_from_gov\": null, \"_require_rw_easement_from_private\": null, \"atp_id_y\": \"ATP5-7-047S\", \"ppno1\": null, \"oversight_id\": \"Standard\", \"a3_proj_type_y\": \"Infrastructure\", \"Total Project Cost\": 6999000.0, \"original_prog__amt___pa_ed_\": 200000.0, \"orig__prog__year__pa_ed_\": \"21/22\", \"original_prog__amt___ps_e_\": null, \"orig__prog__year__ps_e_\": null, \"original_prog__amt___rw_\": null, \"orig__prog__year__rw_\": null, \"orignal_prog__amt___con_\": 6299000.0, \"orig__prog__year__con_\": \"22/23\", \"original_prog__amt___con_ni_\": null, \"orig__prog__year__con_ni_\": null, \"total\": 6499000.0, \"_2122_pa_ed\": 200000.0, \"_2122_ps_e\": null, \"_2122_rw\": null, \"_2122_con\": null, \"_2122_con_ni\": null, \"_2122_total\": 200000.0, \"fund_year_1\": \"21/22\", \"_2223_pa_ed\": null, \"_2223_ps_e\": null, \"_2223_rw\": null, \"_2223_con\": 6299000.0, \"_2223_con_ni\": null, \"_2223_total\": 6299000.0, \"fund_year_2\": \"22/23\", \"_2324_pa_ed\": null, \"_2324_ps_e\": null, \"_2324_rw\": null, \"_2324_con\": null, \"_2324_con_ni\": null, \"_2324_total\": 0.0, \"fund_year_3\": \"23/24\", \"_2425_pa_ed\": null, \"_2425_ps_e\": null, \"_2425_rw\": null, \"_2425_con\": null, \"_2425_con_ni\": null, \"_2425_total\": 0.0, \"fund_year_4\": \"24/25\", \"Total ATP Funds\": 6499000.0, \"match_total_atp_$_and_total\": \"YES\", \"match_total_atp_$_and_total_atp_x_1000\": \"YES\", \"paed\": 200.0, \"ps_e_\": 0.0, \"rw\": 0.0, \"con\": 6299.0, \"con_ni\": 0.0, \"total_atp__000s_\": 6499.0, \"total_atp_x_1000\": 6499000.0, \"year__pa_ed_\": \"21/22\", \"year__ps_e_\": null, \"year__rw_\": null, \"year__con_\": \"22/23\", \"year__con_ni_\": null, \"Implemeting Agency Name\": \"City of Bell Gardens\"}, {\"Project ID\": \"7-Maywood, City of-1\", \"project_cycle\": 5, \"a1_locode\": 5265.0, \"#\": null, \"atp_id\": null, \"awarded\": \"Y\", \"ppno\": 5860, \"ppno_1\": null, \"data_origin\": \"Funded\", \"geometry\": null, \"project_status\": \"Active\", \"solicitation_abv\": \"S\", \"solicitation\": \"STATEWIDE SOLICITATION-CYCLE 5\", \"soliciting_agency\": \"CALTRANS\", \"project_size\": null, \"a1_imp_agcy_city\": \"City Of Maywood\", \"a1_imp_agcy_name\": \"Maywood, City of\", \"a1_proj_partner_agcy\": null, \"a1_proj_partner_exists\": \"No \", \"assembly_district\": 63, \"congressional_district\": 40, \"senate_district\": 33, \"County\": \"Los Angeles\", \"a2_ct_dist\": 7, \"a2_info_proj_descr\": \"The City of Maywood will develop an Active Transportation Master Plan. The project includes community engagement and analysis of existing bicycle and pedestrian facilities.\", \"a2_info_proj_loc\": \"City of Maywood\", \"Project Name\": \"City of Maywood Active Transportation Plan\", \"a2_mop_uza_population\": \"Project is located within one of the ten large MPOs\", \"a2_mpo\": \"SCAG\", \"a2_rtpa\": \"None\", \"a2_proj_scope_summary\": \"The City of Maywood will develop an Active Transportation Master Plan that will serve as a guide for the implementation of future active transportation projects and programs. The project outcomes will include a Safe Routes to School Master Plan, Pedestria\", \"a1_imp_agcy_fed_ma_num\": null, \"a1_imp_agcy_ma\": \"No \", \"a1_imp_agcy_state_ma_num\": null, \"a1_imp_agcy_street\": \"4319 Slauson Ave\", \"a1_imp_agcy_title\": \"Vasquez\", \"a1_imp_agcy_zip\": 90270, \"a1_letter_of_intent\": null, \"a1_proj_partner_title\": null, \"a2_assem_dist_a\": 0.0, \"a2_assem_dist_b\": 6.0, \"a2_assem_dist_c\": 3.0, \"a2_congress_dist_a\": 40.0, \"a2_congress_dist_b\": null, \"a2_congress_dist_c\": null, \"a2_past_proj\": \"No                            \", \"a2_past_proj_qty\": 0, \"a2_proj_lat\": 33.986, \"a2_proj_long\": -118.1853, \"a2_project_location_map\": null, \"a2_senate_dist_a\": 33.0, \"a2_senate_dist_b\": null, \"a2_senatedistc\": null, \"a3_plan_active_trans\": null, \"a3_plan_active_trans_exists\": \"No \", \"a3_plan_bicycle\": null, \"a3_plan_bicycle_exists\": \"No \", \"a3_plan_ped\": null, \"a3_plan_ped_exists\": \"No \", \"a3_plan_srts\": null, \"a3_plan_srts_exists\": \"No \", \"a3_proj_type\": null, \"a3_st_bicycle_applies\": \"Yes\", \"a3_st_bicycle_pct\": 50.0, \"a3_st_num_schools\": 8, \"a3_st_ped_applies\": \"Yes\", \"a3_st_ped_pct\": 50, \"a3_st_srts\": \"Yes\", \"a3_trail_elig_cost\": 0.0, \"a3_trail_fed_funding\": null, \"a3_trail_trans_pct\": null, \"a3_trails\": null, \"agency_app_num\": null, \"app_pk\": null, \"attch_addtl_attachments\": null, \"attch_app_sig_page\": null, \"attch_conditions_photos\": null, \"attch_conditions_project_map\": null, \"attch_engineeers_checklist\": null, \"attch_exhibit22_plan\": null, \"attch_letters_of_support\": null, \"attch_link\": null, \"attch_ni_workplan\": null, \"attch_project_estimate\": null, \"completed_pdf_form\": null, \"main_datetime_stamp\": \"\", \"a3_plan_none\": \"Yes\", \"a3_plan_other\": \"No\", \"a3_plan_other_desc\": null, \"a2_output_outcome\": \"The outcome will include the delivery of active transportation plan. Additional outcomes include an implementation strategy to support a safe routes to school plan, a pedestrian plan, and bicycle master plan.\", \"a3_current_plan\": \"No\", \"b_sig_inter_new_bike_boxes\": null, \"b_class_1\": null, \"b_class_2\": null, \"b_class_3\": null, \"b_class_4\": null, \"a4_bike_gap_pct\": null, \"b_light_intersection\": null, \"b_mid_block_new_rrfb_signal\": null, \"b_mid_block_surf_improv\": null, \"b_bsp_new_bikes\": null, \"b_bike_new_secured_lockers\": null, \"b_bike_new_racks\": null, \"b_bsp_new_station\": null, \"b_other_bike_improv_1\": null, \"b_other_bike_improv_qty_1\": null, \"b_other_bike_improv_2\": null, \"b_other_bike_improv_qty_2\": null, \"b_light_rdwy_seg\": null, \"b_sig_inter_timing_improv\": null, \"b_un_sig_new_rrfb_signal\": null, \"b_un_sig_cross_surf_improv\": null, \"a4_easement_support\": null, \"m_cls_1_trails_widen_recon_exist\": null, \"m_cls_1_trails_new__less_than_9\": null, \"m_cls_1_trails_new_over_9\": null, \"m_non_cls_trails_new\": null, \"m_other_trail_imprv_1\": null, \"m_other_trail_improv_qty_1\": null, \"m_other_trail_imprv_2\": null, \"m_other_trail_improv_qty_2\": null, \"m_non_cls_widen_recon_exist\": null, \"p_amenities_bench\": null, \"a4_ped_gap_pct\": null, \"p_mid_block_cross_new_rrfb_signal\": null, \"p_light_intersection\": null, \"p_lighting_rdwy_seg\": null, \"p_mid_block_cross_surf_improv\": null, \"p_new_ada_ramp\": null, \"p_sidewlks_new_barrier_protect\": null, \"p_sidewlks_new_4_to_8\": null, \"p_sidewlks_new_over_8\": null, \"p_other_ped_imprv_1\": null, \"p_other_ped_qty_1\": null, \"p_other_ped_imprv_2\": null, \"p_other_ped_qty_2\": null, \"p_reconstruct_ramp_to_ada_stand\": null, \"p_sidewlks_reconstruct_enhance_exist\": null, \"p_sig_inter_enhance_exist_crosswlk\": null, \"p_sig_inter_new_crosswlk\": null, \"p_sig_inter_ped_heads\": null, \"p_sig_inter_shorten_cross\": null, \"p_sig_inter_timing_improv\": null, \"p_amenities_trash_can\": null, \"p_amenities_shade_tree\": null, \"p_amenities_shade_tree_type\": null, \"p_un_sig_inter_new_traff_sig\": null, \"p_un_sig_inter_new_roundabout\": null, \"p_un_sig_inter_new_rrfb_sig\": null, \"p_un_sig_inter_shorten_cross\": null, \"p_un_sig_inter_cross_surface_improv\": null, \"p_sidewlks_widen_existing\": null, \"a4_row_100\": null, \"a4_row_gov_ease\": null, \"a4_row_private_ease\": null, \"v_other_traffic_calming_imprv_1\": null, \"v_speed_feedback_signs\": null, \"v_other_traffic_calming_qty_1\": null, \"v_other_traffic_calming_imprv_2\": null, \"v_other_traffic_calming_qty_2\": null, \"v_remove_right_turn_pocket\": null, \"v_remove_travel_ln\": null, \"v_sig_inter_new_roundabout\": null, \"v_sig_inter_timing_improv\": null, \"v_un_sig_inter_new_traf_sig\": null, \"v_un_sig_inter_new_roundabout\": null, \"app_fk\": null, \"details_datetime_stamp\": \"\", \"a4_reg_init\": \"N\", \"a4_reg_init_pct\": 0, \"a4_com_init\": \"N\", \"a4_com_init_pct\": 0, \"a4_safe_route\": \"N\", \"a4_safe_route_pct\": 0, \"a4_fl_mile\": \"N\", \"a4_fl_mile_pct\": 0, \"a4_emp_based\": null, \"a4_emp_based_pct\": 0.0, \"a4_other_ni\": \"N\", \"a4_other_ni_descr\": null, \"a4_other_ni_pct\": 0, \"a4_wb_audits\": 0.0, \"a4_bike_classes\": 0.0, \"a4_ped_classes\": 0.0, \"a4_demo_events\": 0.0, \"a4_com_enc\": 0.0, \"a4_le_methods\": 0.0, \"a4_com_meetings\": 0.0, \"a4_classrooms\": 0.0, \"a4_school_assem\": 0.0, \"a4_after_school\": 0.0, \"a4_bike_rodeos\": 0.0, \"a4_mock_cities\": 0.0, \"a4_walk_bus\": 0.0, \"a4_bike_train\": 0.0, \"a4_com_challenges\": 0.0, \"a4_srts_enc\": 0.0, \"a4_srts_le\": 0.0, \"a4_srts_training\": 0.0, \"a4_act_other_1\": 0.0, \"a4_act_other_1_descr\": null, \"a4_act_other_2\": 0.0, \"a4_act_other_2_decr\": null, \"a4_comm_trad_media\": \"N\", \"a4_comm_large_media\": \"N\", \"a4_comm_print\": \"N\", \"a4_comm_social\": \"N\", \"a4_comm_web\": \"N\", \"a4_comm_other\": \"N\", \"a4_comm_other_descr\": null, \"a4_comm_language\": null, \"a4_collab_pub_health\": \"N\", \"a4_collab_le\": \"N\", \"a4_collab_non_profit\": \"N\", \"a4_collab_schools\": \"N\", \"a4_collab_pub_works\": \"N\", \"a4_collab_other\": \"N\", \"a4_colab_other_descr\": null, \"a4_plan_ped\": \"N\", \"a4_plan_bike\": \"N\", \"a4_plan_atp\": \"Y\", \"a4_plan_school_routes\": \"N\", \"a4_row_open_street_demo\": \"No\", \"atp_id_x\": \"ATP5-07-021S\", \"a3_proj_type_x\": \"Plan\", \"agency_fully_own_r_w\": null, \"require_r_w_easement,_from_gov\": null, \"_require_rw_easement_from_private\": null, \"atp_id_y\": \"ATP5-7-021S\", \"ppno1\": null, \"oversight_id\": \"Standard\", \"a3_proj_type_y\": \"Plan\", \"Total Project Cost\": 263000.0, \"original_prog__amt___pa_ed_\": null, \"orig__prog__year__pa_ed_\": null, \"original_prog__amt___ps_e_\": null, \"orig__prog__year__ps_e_\": null, \"original_prog__amt___rw_\": null, \"orig__prog__year__rw_\": null, \"orignal_prog__amt___con_\": null, \"orig__prog__year__con_\": null, \"original_prog__amt___con_ni_\": 263000.0, \"orig__prog__year__con_ni_\": \"21/22\", \"total\": 263000.0, \"_2122_pa_ed\": null, \"_2122_ps_e\": null, \"_2122_rw\": null, \"_2122_con\": null, \"_2122_con_ni\": 263000.0, \"_2122_total\": 263000.0, \"fund_year_1\": \"21/22\", \"_2223_pa_ed\": null, \"_2223_ps_e\": null, \"_2223_rw\": null, \"_2223_con\": null, \"_2223_con_ni\": null, \"_2223_total\": 0.0, \"fund_year_2\": \"22/23\", \"_2324_pa_ed\": null, \"_2324_ps_e\": null, \"_2324_rw\": null, \"_2324_con\": null, \"_2324_con_ni\": null, \"_2324_total\": 0.0, \"fund_year_3\": \"23/24\", \"_2425_pa_ed\": null, \"_2425_ps_e\": null, \"_2425_rw\": null, \"_2425_con\": null, \"_2425_con_ni\": null, \"_2425_total\": 0.0, \"fund_year_4\": \"24/25\", \"Total ATP Funds\": 263000.0, \"match_total_atp_$_and_total\": \"YES\", \"match_total_atp_$_and_total_atp_x_1000\": \"YES\", \"paed\": 0.0, \"ps_e_\": 0.0, \"rw\": 0.0, \"con\": 0.0, \"con_ni\": 263.0, \"total_atp__000s_\": 263.0, \"total_atp_x_1000\": 263000.0, \"year__pa_ed_\": null, \"year__ps_e_\": null, \"year__rw_\": null, \"year__con_\": null, \"year__con_ni_\": \"21/22\", \"Implemeting Agency Name\": \"City of Maywood\"}, {\"Project ID\": \"7-Santa Monica, City of-2\", \"project_cycle\": 5, \"a1_locode\": 5107.0, \"#\": null, \"atp_id\": null, \"awarded\": \"Y\", \"ppno\": \"5861A\", \"ppno_1\": \"5861B\", \"data_origin\": \"Funded\", \"geometry\": null, \"project_status\": \"Active\", \"solicitation_abv\": \"S\", \"solicitation\": \"STATEWIDE SOLICITATION-CYCLE 5\", \"soliciting_agency\": \"CALTRANS\", \"project_size\": \"Medium\", \"a1_imp_agcy_city\": \"Santa Monica\", \"a1_imp_agcy_name\": \"Santa Monica, City of\", \"a1_proj_partner_agcy\": null, \"a1_proj_partner_exists\": \"No \", \"assembly_district\": 50, \"congressional_district\": 33, \"senate_district\": 26, \"County\": \"Los Angeles\", \"a2_ct_dist\": 7, \"a2_info_proj_descr\": \"Construction of Class IV separated bikeway, bus islands, and intersection reconfigurations along Stewart St. Add new sidewalks and pedestrian scale lighting along Pennsylvania Ave.\", \"a2_info_proj_loc\": \"Project is located on Colorado Ave between Yale St and Stewart St; Stewart St between Colorado Ave and Kansas Ave; and Pennsylvania Ave from Stewart St to 26th St.  \", \"Project Name\": \"Stewart-Pennsylvania Safety Enhancement Project\", \"a2_mop_uza_population\": \"Project is located within one of the ten large MPOs\", \"a2_mpo\": \"SCAG\", \"a2_rtpa\": \"None\", \"a2_proj_scope_summary\": \"The Stewart-Pennsylvania Safety Enhancement Project addresses two major safety threats at intersections and closes gaps in the pedestrian and bicycle networks. This project was prioritized by Santa Monica\\u2019s Bicycle Action Plan and Pedestrian Action Plan f\", \"a1_imp_agcy_fed_ma_num\": \"07-5107F15\", \"a1_imp_agcy_ma\": \"Yes\", \"a1_imp_agcy_state_ma_num\": \"00373S\", \"a1_imp_agcy_street\": \"1685 Main Street, Mail Stop 28\", \"a1_imp_agcy_title\": \"Chief Mobility Officer, Community Development Department\", \"a1_imp_agcy_zip\": 90401, \"a1_letter_of_intent\": null, \"a1_proj_partner_title\": null, \"a2_assem_dist_a\": 50.0, \"a2_assem_dist_b\": null, \"a2_assem_dist_c\": null, \"a2_congress_dist_a\": 33.0, \"a2_congress_dist_b\": null, \"a2_congress_dist_c\": null, \"a2_past_proj\": \"No                            \", \"a2_past_proj_qty\": 0, \"a2_proj_lat\": 34.030183, \"a2_proj_long\": -118.465694, \"a2_project_location_map\": null, \"a2_senate_dist_a\": 26.0, \"a2_senate_dist_b\": null, \"a2_senatedistc\": null, \"a3_plan_active_trans\": null, \"a3_plan_active_trans_exists\": \"No \", \"a3_plan_bicycle\": null, \"a3_plan_bicycle_exists\": \"Yes\", \"a3_plan_ped\": null, \"a3_plan_ped_exists\": \"Yes\", \"a3_plan_srts\": null, \"a3_plan_srts_exists\": \"No \", \"a3_proj_type\": null, \"a3_st_bicycle_applies\": \"Yes\", \"a3_st_bicycle_pct\": 55.0, \"a3_st_num_schools\": 1, \"a3_st_ped_applies\": \"Yes\", \"a3_st_ped_pct\": 45, \"a3_st_srts\": \"No \", \"a3_trail_elig_cost\": 0.0, \"a3_trail_fed_funding\": null, \"a3_trail_trans_pct\": null, \"a3_trails\": null, \"agency_app_num\": null, \"app_pk\": null, \"attch_addtl_attachments\": null, \"attch_app_sig_page\": null, \"attch_conditions_photos\": null, \"attch_conditions_project_map\": null, \"attch_engineeers_checklist\": null, \"attch_exhibit22_plan\": null, \"attch_letters_of_support\": null, \"attch_link\": null, \"attch_ni_workplan\": null, \"attch_project_estimate\": null, \"completed_pdf_form\": null, \"main_datetime_stamp\": \"\", \"a3_plan_none\": \"0\", \"a3_plan_other\": \"0\", \"a3_plan_other_desc\": \"Land Use and Circulation Element, Bergamot Area Plan\", \"a2_output_outcome\": \"Construction of safety enhancements including a Class IV separated bikeway, curb extension, curb ramps, 2 bus islands, Rectangular Rapid Flashing Beacon, sidewalks, crosswalks, pedestrian scale lighting, and signal modifications to better protect pedestri\", \"a3_current_plan\": \"Yes\", \"b_sig_inter_new_bike_boxes\": null, \"b_class_1\": null, \"b_class_2\": null, \"b_class_3\": null, \"b_class_4\": 6000.0, \"a4_bike_gap_pct\": null, \"b_light_intersection\": null, \"b_mid_block_new_rrfb_signal\": null, \"b_mid_block_surf_improv\": null, \"b_bsp_new_bikes\": null, \"b_bike_new_secured_lockers\": null, \"b_bike_new_racks\": null, \"b_bsp_new_station\": null, \"b_other_bike_improv_1\": \"Protected Intersection Corner\", \"b_other_bike_improv_qty_1\": 1.0, \"b_other_bike_improv_2\": \"New Bicycle Signal Intersections\", \"b_other_bike_improv_qty_2\": 2.0, \"b_light_rdwy_seg\": 100.0, \"b_sig_inter_timing_improv\": 2.0, \"b_un_sig_new_rrfb_signal\": null, \"b_un_sig_cross_surf_improv\": null, \"a4_easement_support\": null, \"m_cls_1_trails_widen_recon_exist\": null, \"m_cls_1_trails_new__less_than_9\": null, \"m_cls_1_trails_new_over_9\": null, \"m_non_cls_trails_new\": null, \"m_other_trail_imprv_1\": null, \"m_other_trail_improv_qty_1\": null, \"m_other_trail_imprv_2\": null, \"m_other_trail_improv_qty_2\": null, \"m_non_cls_widen_recon_exist\": null, \"p_amenities_bench\": null, \"a4_ped_gap_pct\": 45.0, \"p_mid_block_cross_new_rrfb_signal\": null, \"p_light_intersection\": null, \"p_lighting_rdwy_seg\": 1880.0, \"p_mid_block_cross_surf_improv\": null, \"p_new_ada_ramp\": 8.0, \"p_sidewlks_new_barrier_protect\": null, \"p_sidewlks_new_4_to_8\": 435.0, \"p_sidewlks_new_over_8\": 940.0, \"p_other_ped_imprv_1\": null, \"p_other_ped_qty_1\": null, \"p_other_ped_imprv_2\": null, \"p_other_ped_qty_2\": null, \"p_reconstruct_ramp_to_ada_stand\": 4.0, \"p_sidewlks_reconstruct_enhance_exist\": null, \"p_sig_inter_enhance_exist_crosswlk\": 9.0, \"p_sig_inter_new_crosswlk\": null, \"p_sig_inter_ped_heads\": null, \"p_sig_inter_shorten_cross\": null, \"p_sig_inter_timing_improv\": 9.0, \"p_amenities_trash_can\": null, \"p_amenities_shade_tree\": 13.0, \"p_amenities_shade_tree_type\": \"Western Sycamore\", \"p_un_sig_inter_new_traff_sig\": null, \"p_un_sig_inter_new_roundabout\": null, \"p_un_sig_inter_new_rrfb_sig\": 2.0, \"p_un_sig_inter_shorten_cross\": 3.0, \"p_un_sig_inter_cross_surface_improv\": null, \"p_sidewlks_widen_existing\": null, \"a4_row_100\": null, \"a4_row_gov_ease\": null, \"a4_row_private_ease\": null, \"v_other_traffic_calming_imprv_1\": null, \"v_speed_feedback_signs\": null, \"v_other_traffic_calming_qty_1\": null, \"v_other_traffic_calming_imprv_2\": null, \"v_other_traffic_calming_qty_2\": null, \"v_remove_right_turn_pocket\": null, \"v_remove_travel_ln\": null, \"v_sig_inter_new_roundabout\": null, \"v_sig_inter_timing_improv\": null, \"v_un_sig_inter_new_traf_sig\": null, \"v_un_sig_inter_new_roundabout\": null, \"app_fk\": null, \"details_datetime_stamp\": \"\", \"a4_reg_init\": \"N\", \"a4_reg_init_pct\": 0, \"a4_com_init\": \"Y\", \"a4_com_init_pct\": 67, \"a4_safe_route\": \"Y\", \"a4_safe_route_pct\": 33, \"a4_fl_mile\": \"N\", \"a4_fl_mile_pct\": 0, \"a4_emp_based\": null, \"a4_emp_based_pct\": 0.0, \"a4_other_ni\": \"N\", \"a4_other_ni_descr\": null, \"a4_other_ni_pct\": 0, \"a4_wb_audits\": 0.0, \"a4_bike_classes\": 4.0, \"a4_ped_classes\": 0.0, \"a4_demo_events\": 0.0, \"a4_com_enc\": 0.0, \"a4_le_methods\": 0.0, \"a4_com_meetings\": 0.0, \"a4_classrooms\": 0.0, \"a4_school_assem\": 0.0, \"a4_after_school\": 2.0, \"a4_bike_rodeos\": 0.0, \"a4_mock_cities\": 0.0, \"a4_walk_bus\": 0.0, \"a4_bike_train\": 0.0, \"a4_com_challenges\": 0.0, \"a4_srts_enc\": 0.0, \"a4_srts_le\": 0.0, \"a4_srts_training\": 0.0, \"a4_act_other_1\": 0.0, \"a4_act_other_1_descr\": null, \"a4_act_other_2\": 0.0, \"a4_act_other_2_decr\": null, \"a4_comm_trad_media\": \"N\", \"a4_comm_large_media\": \"N\", \"a4_comm_print\": \"Y\", \"a4_comm_social\": \"Y\", \"a4_comm_web\": \"Y\", \"a4_comm_other\": \"N\", \"a4_comm_other_descr\": null, \"a4_comm_language\": \"English and Spanish\", \"a4_collab_pub_health\": \"N\", \"a4_collab_le\": \"N\", \"a4_collab_non_profit\": \"Y\", \"a4_collab_schools\": \"Y\", \"a4_collab_pub_works\": \"N\", \"a4_collab_other\": \"Y\", \"a4_colab_other_descr\": \"Large Employment Centers\", \"a4_plan_ped\": \"N\", \"a4_plan_bike\": \"N\", \"a4_plan_atp\": \"N\", \"a4_plan_school_routes\": \"N\", \"a4_row_open_street_demo\": \"No\", \"atp_id_x\": \"ATP5-07-025S\", \"a3_proj_type_x\": \"Infrastructure + NI - Medium\", \"agency_fully_own_r_w\": null, \"require_r_w_easement,_from_gov\": \"X\", \"_require_rw_easement_from_private\": null, \"atp_id_y\": \"ATP5-7-025S\", \"ppno1\": \"5861B\", \"oversight_id\": \"Standard\", \"a3_proj_type_y\": \"Combined (IF and NI)\", \"Total Project Cost\": 4000000.0, \"original_prog__amt___pa_ed_\": null, \"orig__prog__year__pa_ed_\": null, \"original_prog__amt___ps_e_\": null, \"orig__prog__year__ps_e_\": null, \"original_prog__amt___rw_\": null, \"orig__prog__year__rw_\": null, \"orignal_prog__amt___con_\": 3171000.0, \"orig__prog__year__con_\": \"21/22\", \"original_prog__amt___con_ni_\": 25000.0, \"orig__prog__year__con_ni_\": \"21/22\", \"total\": 3196000.0, \"_2122_pa_ed\": null, \"_2122_ps_e\": null, \"_2122_rw\": null, \"_2122_con\": 3171000.0, \"_2122_con_ni\": 25000.0, \"_2122_total\": 3196000.0, \"fund_year_1\": \"21/22\", \"_2223_pa_ed\": null, \"_2223_ps_e\": null, \"_2223_rw\": null, \"_2223_con\": null, \"_2223_con_ni\": null, \"_2223_total\": 0.0, \"fund_year_2\": \"22/23\", \"_2324_pa_ed\": null, \"_2324_ps_e\": null, \"_2324_rw\": null, \"_2324_con\": null, \"_2324_con_ni\": null, \"_2324_total\": 0.0, \"fund_year_3\": \"23/24\", \"_2425_pa_ed\": null, \"_2425_ps_e\": null, \"_2425_rw\": null, \"_2425_con\": null, \"_2425_con_ni\": null, \"_2425_total\": 0.0, \"fund_year_4\": \"24/25\", \"Total ATP Funds\": 3196000.0, \"match_total_atp_$_and_total\": \"YES\", \"match_total_atp_$_and_total_atp_x_1000\": \"YES\", \"paed\": 0.0, \"ps_e_\": 0.0, \"rw\": 0.0, \"con\": 3171.0, \"con_ni\": 25.0, \"total_atp__000s_\": 3196.0, \"total_atp_x_1000\": 3196000.0, \"year__pa_ed_\": null, \"year__ps_e_\": null, \"year__rw_\": null, \"year__con_\": \"21/22\", \"year__con_ni_\": \"21/22\", \"Implemeting Agency Name\": \"City of Santa Monica\"}, {\"Project ID\": \"7-Long Beach, City of-2\", \"project_cycle\": 5, \"a1_locode\": 5108.0, \"#\": null, \"atp_id\": null, \"awarded\": \"Y\", \"ppno\": \"5867A\", \"ppno_1\": \"5867B\", \"data_origin\": \"Funded\", \"geometry\": null, \"project_status\": \"Active\", \"solicitation_abv\": \"S\", \"solicitation\": \"STATEWIDE SOLICITATION-CYCLE 5\", \"soliciting_agency\": \"CALTRANS\", \"project_size\": \"Large\", \"a1_imp_agcy_city\": \"Long Beach\", \"a1_imp_agcy_name\": \"Long Beach, City of\", \"a1_proj_partner_agcy\": null, \"a1_proj_partner_exists\": \"No \", \"assembly_district\": 70, \"congressional_district\": 47, \"senate_district\": 33, \"County\": \"Los Angeles\", \"a2_ct_dist\": 7, \"a2_info_proj_descr\": \"Transform Pacific Avenue into a complete streets best practices corridor adding protected bike lanes, protected intersections, curb extensions, and bus islands.\", \"a2_info_proj_loc\": \"Pacific Avenue from Ocean Boulevard to Pacific Coast Highway in City of Long Beach.\", \"Project Name\": \"Pacific Avenue Cycle Track\", \"a2_mop_uza_population\": \"Project is located within one of the ten large MPOs\", \"a2_mpo\": \"SCAG\", \"a2_rtpa\": \"None\", \"a2_proj_scope_summary\": \"The Pacific Avenue Cycle Track project will transform 1.6 miles of the high-stress Class III bike route from Ocean Boulevard to Pacific Coast Highway into to an attractive and comfortable Class IV cycle track to serve Long Beach\\u2019s residents and commuters.\", \"a1_imp_agcy_fed_ma_num\": \"07-0097R\", \"a1_imp_agcy_ma\": \"Yes\", \"a1_imp_agcy_state_ma_num\": \"00305S\", \"a1_imp_agcy_street\": \"411 West Ocean Boulevard, 4th Floor\", \"a1_imp_agcy_title\": \"City Traffic Engineer\", \"a1_imp_agcy_zip\": 90802, \"a1_letter_of_intent\": null, \"a1_proj_partner_title\": null, \"a2_assem_dist_a\": 70.0, \"a2_assem_dist_b\": null, \"a2_assem_dist_c\": null, \"a2_congress_dist_a\": 47.0, \"a2_congress_dist_b\": null, \"a2_congress_dist_c\": null, \"a2_past_proj\": \"No                            \", \"a2_past_proj_qty\": 1, \"a2_proj_lat\": 33.778946, \"a2_proj_long\": -118.193711, \"a2_project_location_map\": null, \"a2_senate_dist_a\": 33.0, \"a2_senate_dist_b\": null, \"a2_senatedistc\": null, \"a3_plan_active_trans\": null, \"a3_plan_active_trans_exists\": \"No \", \"a3_plan_bicycle\": null, \"a3_plan_bicycle_exists\": \"Yes\", \"a3_plan_ped\": null, \"a3_plan_ped_exists\": \"Yes\", \"a3_plan_srts\": null, \"a3_plan_srts_exists\": \"No \", \"a3_proj_type\": null, \"a3_st_bicycle_applies\": \"Yes\", \"a3_st_bicycle_pct\": 50.0, \"a3_st_num_schools\": 0, \"a3_st_ped_applies\": \"Yes\", \"a3_st_ped_pct\": 50, \"a3_st_srts\": \"No \", \"a3_trail_elig_cost\": 0.0, \"a3_trail_fed_funding\": null, \"a3_trail_trans_pct\": null, \"a3_trails\": null, \"agency_app_num\": null, \"app_pk\": null, \"attch_addtl_attachments\": null, \"attch_app_sig_page\": null, \"attch_conditions_photos\": null, \"attch_conditions_project_map\": null, \"attch_engineeers_checklist\": null, \"attch_exhibit22_plan\": null, \"attch_letters_of_support\": null, \"attch_link\": null, \"attch_ni_workplan\": null, \"attch_project_estimate\": null, \"completed_pdf_form\": null, \"main_datetime_stamp\": \"\", \"a3_plan_none\": \"0\", \"a3_plan_other\": \"0\", \"a3_plan_other_desc\": \"Vision Zero Action Plan\", \"a2_output_outcome\": \"The Pacific Avenue Cycle Track project will add 1.6 miles of Class IV bike lanes, 21 bus islands, three protected intersections, and high-visibility crosswalks throughout the corridor.\", \"a3_current_plan\": null, \"b_sig_inter_new_bike_boxes\": null, \"b_class_1\": null, \"b_class_2\": null, \"b_class_3\": null, \"b_class_4\": 16300.0, \"a4_bike_gap_pct\": null, \"b_light_intersection\": null, \"b_mid_block_new_rrfb_signal\": null, \"b_mid_block_surf_improv\": null, \"b_bsp_new_bikes\": null, \"b_bike_new_secured_lockers\": null, \"b_bike_new_racks\": null, \"b_bsp_new_station\": null, \"b_other_bike_improv_1\": \"Protected Intersections\", \"b_other_bike_improv_qty_1\": 3.0, \"b_other_bike_improv_2\": \"Sq ft Green Thermo in Conflict Zones\", \"b_other_bike_improv_qty_2\": 975.0, \"b_light_rdwy_seg\": null, \"b_sig_inter_timing_improv\": 13.0, \"b_un_sig_new_rrfb_signal\": null, \"b_un_sig_cross_surf_improv\": null, \"a4_easement_support\": null, \"m_cls_1_trails_widen_recon_exist\": null, \"m_cls_1_trails_new__less_than_9\": null, \"m_cls_1_trails_new_over_9\": null, \"m_non_cls_trails_new\": null, \"m_other_trail_imprv_1\": null, \"m_other_trail_improv_qty_1\": null, \"m_other_trail_imprv_2\": null, \"m_other_trail_improv_qty_2\": null, \"m_non_cls_widen_recon_exist\": null, \"p_amenities_bench\": null, \"a4_ped_gap_pct\": 38.0, \"p_mid_block_cross_new_rrfb_signal\": null, \"p_light_intersection\": null, \"p_lighting_rdwy_seg\": null, \"p_mid_block_cross_surf_improv\": null, \"p_new_ada_ramp\": 32.0, \"p_sidewlks_new_barrier_protect\": null, \"p_sidewlks_new_4_to_8\": null, \"p_sidewlks_new_over_8\": null, \"p_other_ped_imprv_1\": \"Bus Boarding Islands\", \"p_other_ped_qty_1\": 21.0, \"p_other_ped_imprv_2\": null, \"p_other_ped_qty_2\": null, \"p_reconstruct_ramp_to_ada_stand\": null, \"p_sidewlks_reconstruct_enhance_exist\": null, \"p_sig_inter_enhance_exist_crosswlk\": null, \"p_sig_inter_new_crosswlk\": null, \"p_sig_inter_ped_heads\": null, \"p_sig_inter_shorten_cross\": 30.0, \"p_sig_inter_timing_improv\": null, \"p_amenities_trash_can\": null, \"p_amenities_shade_tree\": 32.0, \"p_amenities_shade_tree_type\": \"Determined during outreach\", \"p_un_sig_inter_new_traff_sig\": null, \"p_un_sig_inter_new_roundabout\": null, \"p_un_sig_inter_new_rrfb_sig\": null, \"p_un_sig_inter_shorten_cross\": 2.0, \"p_un_sig_inter_cross_surface_improv\": null, \"p_sidewlks_widen_existing\": null, \"a4_row_100\": null, \"a4_row_gov_ease\": null, \"a4_row_private_ease\": null, \"v_other_traffic_calming_imprv_1\": null, \"v_speed_feedback_signs\": null, \"v_other_traffic_calming_qty_1\": null, \"v_other_traffic_calming_imprv_2\": null, \"v_other_traffic_calming_qty_2\": null, \"v_remove_right_turn_pocket\": null, \"v_remove_travel_ln\": 16300.0, \"v_sig_inter_new_roundabout\": null, \"v_sig_inter_timing_improv\": null, \"v_un_sig_inter_new_traf_sig\": null, \"v_un_sig_inter_new_roundabout\": null, \"app_fk\": null, \"details_datetime_stamp\": \"\", \"a4_reg_init\": \"N\", \"a4_reg_init_pct\": 0, \"a4_com_init\": \"Y\", \"a4_com_init_pct\": 100, \"a4_safe_route\": \"N\", \"a4_safe_route_pct\": 0, \"a4_fl_mile\": \"N\", \"a4_fl_mile_pct\": 0, \"a4_emp_based\": null, \"a4_emp_based_pct\": 0.0, \"a4_other_ni\": \"N\", \"a4_other_ni_descr\": null, \"a4_other_ni_pct\": 0, \"a4_wb_audits\": 12.0, \"a4_bike_classes\": 20.0, \"a4_ped_classes\": 20.0, \"a4_demo_events\": 15.0, \"a4_com_enc\": 8.0, \"a4_le_methods\": 0.0, \"a4_com_meetings\": 0.0, \"a4_classrooms\": 0.0, \"a4_school_assem\": 0.0, \"a4_after_school\": 0.0, \"a4_bike_rodeos\": 0.0, \"a4_mock_cities\": 0.0, \"a4_walk_bus\": 0.0, \"a4_bike_train\": 0.0, \"a4_com_challenges\": 6.0, \"a4_srts_enc\": 0.0, \"a4_srts_le\": 0.0, \"a4_srts_training\": 0.0, \"a4_act_other_1\": 16.0, \"a4_act_other_1_descr\": \"brief pedestrian and bicycle safety video clips/animation\", \"a4_act_other_2\": 6.0, \"a4_act_other_2_decr\": \"community bicycle rides\", \"a4_comm_trad_media\": \"Y\", \"a4_comm_large_media\": \"Y\", \"a4_comm_print\": \"Y\", \"a4_comm_social\": \"Y\", \"a4_comm_web\": \"N\", \"a4_comm_other\": \"N\", \"a4_comm_other_descr\": null, \"a4_comm_language\": \"Spanish, Khmer, Tagalog\", \"a4_collab_pub_health\": \"Y\", \"a4_collab_le\": \"N\", \"a4_collab_non_profit\": \"Y\", \"a4_collab_schools\": \"Y\", \"a4_collab_pub_works\": \"Y\", \"a4_collab_other\": \"N\", \"a4_colab_other_descr\": null, \"a4_plan_ped\": \"N\", \"a4_plan_bike\": \"N\", \"a4_plan_atp\": \"N\", \"a4_plan_school_routes\": \"N\", \"a4_row_open_street_demo\": \"No\", \"atp_id_x\": \"ATP5-07-045S\", \"a3_proj_type_x\": \"Infrastructure + NI - Large\", \"agency_fully_own_r_w\": \"X\", \"require_r_w_easement,_from_gov\": null, \"_require_rw_easement_from_private\": null, \"atp_id_y\": \"ATP5-7-045S\", \"ppno1\": \"5867B\", \"oversight_id\": \"Standard\", \"a3_proj_type_y\": \"Combined (IF and NI)\", \"Total Project Cost\": 8332000.0, \"original_prog__amt___pa_ed_\": 225000.0, \"orig__prog__year__pa_ed_\": \"21/22\", \"original_prog__amt___ps_e_\": 675000.0, \"orig__prog__year__ps_e_\": \"22/23\", \"original_prog__amt___rw_\": null, \"orig__prog__year__rw_\": null, \"orignal_prog__amt___con_\": 5740000.0, \"orig__prog__year__con_\": \"24/25\", \"original_prog__amt___con_ni_\": 858000.0, \"orig__prog__year__con_ni_\": \"22/23\", \"total\": 7498000.0, \"_2122_pa_ed\": 225000.0, \"_2122_ps_e\": null, \"_2122_rw\": null, \"_2122_con\": null, \"_2122_con_ni\": null, \"_2122_total\": 225000.0, \"fund_year_1\": \"21/22\", \"_2223_pa_ed\": null, \"_2223_ps_e\": 675000.0, \"_2223_rw\": null, \"_2223_con\": null, \"_2223_con_ni\": 858000.0, \"_2223_total\": 1533000.0, \"fund_year_2\": \"22/23\", \"_2324_pa_ed\": null, \"_2324_ps_e\": null, \"_2324_rw\": null, \"_2324_con\": null, \"_2324_con_ni\": null, \"_2324_total\": 0.0, \"fund_year_3\": \"23/24\", \"_2425_pa_ed\": null, \"_2425_ps_e\": null, \"_2425_rw\": null, \"_2425_con\": 5740000.0, \"_2425_con_ni\": null, \"_2425_total\": 5740000.0, \"fund_year_4\": \"24/25\", \"Total ATP Funds\": 7498000.0, \"match_total_atp_$_and_total\": \"YES\", \"match_total_atp_$_and_total_atp_x_1000\": \"YES\", \"paed\": 225.0, \"ps_e_\": 675.0, \"rw\": 0.0, \"con\": 5740.0, \"con_ni\": 858.0, \"total_atp__000s_\": 7498.0, \"total_atp_x_1000\": 7498000.0, \"year__pa_ed_\": \"21/22\", \"year__ps_e_\": \"22/23\", \"year__rw_\": null, \"year__con_\": \"24/25\", \"year__con_ni_\": \"22/23\", \"Implemeting Agency Name\": \"City of Long Beach\"}, {\"Project ID\": \"7-South El Monte, City of-1\", \"project_cycle\": 5, \"a1_locode\": 5352.0, \"#\": null, \"atp_id\": null, \"awarded\": \"Y\", \"ppno\": 5858, \"ppno_1\": null, \"data_origin\": \"Funded\", \"geometry\": null, \"project_status\": \"Active\", \"solicitation_abv\": \"S\", \"solicitation\": \"STATEWIDE SOLICITATION-CYCLE 5\", \"soliciting_agency\": \"CALTRANS\", \"project_size\": \"Small\", \"a1_imp_agcy_city\": \"South El Monte\", \"a1_imp_agcy_name\": \"South El Monte, City of\", \"a1_proj_partner_agcy\": null, \"a1_proj_partner_exists\": \"No \", \"assembly_district\": 57, \"congressional_district\": 38, \"senate_district\": 22, \"County\": \"Los Angeles\", \"a2_ct_dist\": 7, \"a2_info_proj_descr\": \"This project focuses on school and pedestrian safety improvements Citywide at signalized intersections and uncontrolled crossings near schools and major destinations. \", \"a2_info_proj_loc\": \"The project is fully in the City of South El Monte at various intersections adjacent to schools, parks, employment areas, shopping, transit stops, and pedestrian activity centers.\", \"Project Name\": \"South El Monte Safe Routes to School Pedestrian Safety Project\", \"a2_mop_uza_population\": \"Project is located within one of the ten large MPOs\", \"a2_mpo\": \"SCAG\", \"a2_rtpa\": \"None\", \"a2_proj_scope_summary\": \"This project focuses on school and pedestrian safety improvements Citywide in the City of South El Monte at both signalized intersections as well as uncontrolled crosswalk locations adjacent to schools, city parks, and areas where there is a high number o\", \"a1_imp_agcy_fed_ma_num\": \"07-5352\", \"a1_imp_agcy_ma\": \"Yes\", \"a1_imp_agcy_state_ma_num\": \"00054S\", \"a1_imp_agcy_street\": \"1415 Santa Anita Avenue\", \"a1_imp_agcy_title\": \"Project Manager\", \"a1_imp_agcy_zip\": 91733, \"a1_letter_of_intent\": null, \"a1_proj_partner_title\": null, \"a2_assem_dist_a\": 57.0, \"a2_assem_dist_b\": null, \"a2_assem_dist_c\": null, \"a2_congress_dist_a\": 38.0, \"a2_congress_dist_b\": null, \"a2_congress_dist_c\": null, \"a2_past_proj\": \"No                            \", \"a2_past_proj_qty\": 0, \"a2_proj_lat\": 34.052, \"a2_proj_long\": 118.0467, \"a2_project_location_map\": null, \"a2_senate_dist_a\": 22.0, \"a2_senate_dist_b\": null, \"a2_senatedistc\": null, \"a3_plan_active_trans\": null, \"a3_plan_active_trans_exists\": \"No \", \"a3_plan_bicycle\": null, \"a3_plan_bicycle_exists\": \"No \", \"a3_plan_ped\": null, \"a3_plan_ped_exists\": \"No \", \"a3_plan_srts\": null, \"a3_plan_srts_exists\": \"Yes\", \"a3_proj_type\": null, \"a3_st_bicycle_applies\": \"No \", \"a3_st_bicycle_pct\": 0.0, \"a3_st_num_schools\": 7, \"a3_st_ped_applies\": \"Yes\", \"a3_st_ped_pct\": 100, \"a3_st_srts\": \"Yes\", \"a3_trail_elig_cost\": 0.0, \"a3_trail_fed_funding\": null, \"a3_trail_trans_pct\": null, \"a3_trails\": null, \"agency_app_num\": null, \"app_pk\": null, \"attch_addtl_attachments\": null, \"attch_app_sig_page\": null, \"attch_conditions_photos\": null, \"attch_conditions_project_map\": null, \"attch_engineeers_checklist\": null, \"attch_exhibit22_plan\": null, \"attch_letters_of_support\": null, \"attch_link\": null, \"attch_ni_workplan\": null, \"attch_project_estimate\": null, \"completed_pdf_form\": null, \"main_datetime_stamp\": \"\", \"a3_plan_none\": \"0\", \"a3_plan_other\": \"0\", \"a3_plan_other_desc\": null, \"a2_output_outcome\": \"Installation of pedestrian safety upgrades at signalized intersections and uncontrolled crosswalks including RRFBs or upgraded pedestrian signage and speed radar feedback signs. \", \"a3_current_plan\": \"Yes\", \"b_sig_inter_new_bike_boxes\": null, \"b_class_1\": null, \"b_class_2\": null, \"b_class_3\": null, \"b_class_4\": null, \"a4_bike_gap_pct\": null, \"b_light_intersection\": null, \"b_mid_block_new_rrfb_signal\": null, \"b_mid_block_surf_improv\": null, \"b_bsp_new_bikes\": null, \"b_bike_new_secured_lockers\": null, \"b_bike_new_racks\": null, \"b_bsp_new_station\": null, \"b_other_bike_improv_1\": null, \"b_other_bike_improv_qty_1\": null, \"b_other_bike_improv_2\": null, \"b_other_bike_improv_qty_2\": null, \"b_light_rdwy_seg\": null, \"b_sig_inter_timing_improv\": null, \"b_un_sig_new_rrfb_signal\": null, \"b_un_sig_cross_surf_improv\": null, \"a4_easement_support\": null, \"m_cls_1_trails_widen_recon_exist\": null, \"m_cls_1_trails_new__less_than_9\": null, \"m_cls_1_trails_new_over_9\": null, \"m_non_cls_trails_new\": null, \"m_other_trail_imprv_1\": null, \"m_other_trail_improv_qty_1\": null, \"m_other_trail_imprv_2\": null, \"m_other_trail_improv_qty_2\": null, \"m_non_cls_widen_recon_exist\": null, \"p_amenities_bench\": null, \"a4_ped_gap_pct\": 100.0, \"p_mid_block_cross_new_rrfb_signal\": 1.0, \"p_light_intersection\": null, \"p_lighting_rdwy_seg\": null, \"p_mid_block_cross_surf_improv\": 2.0, \"p_new_ada_ramp\": null, \"p_sidewlks_new_barrier_protect\": null, \"p_sidewlks_new_4_to_8\": null, \"p_sidewlks_new_over_8\": null, \"p_other_ped_imprv_1\": \"LED Blinding Stop Signs\", \"p_other_ped_qty_1\": 13.0, \"p_other_ped_imprv_2\": \"Speed Radar Feedback Signs\", \"p_other_ped_qty_2\": 5.0, \"p_reconstruct_ramp_to_ada_stand\": null, \"p_sidewlks_reconstruct_enhance_exist\": null, \"p_sig_inter_enhance_exist_crosswlk\": 9.0, \"p_sig_inter_new_crosswlk\": null, \"p_sig_inter_ped_heads\": 8.0, \"p_sig_inter_shorten_cross\": null, \"p_sig_inter_timing_improv\": null, \"p_amenities_trash_can\": null, \"p_amenities_shade_tree\": null, \"p_amenities_shade_tree_type\": null, \"p_un_sig_inter_new_traff_sig\": null, \"p_un_sig_inter_new_roundabout\": null, \"p_un_sig_inter_new_rrfb_sig\": 8.0, \"p_un_sig_inter_shorten_cross\": null, \"p_un_sig_inter_cross_surface_improv\": 32.0, \"p_sidewlks_widen_existing\": null, \"a4_row_100\": null, \"a4_row_gov_ease\": null, \"a4_row_private_ease\": null, \"v_other_traffic_calming_imprv_1\": null, \"v_speed_feedback_signs\": null, \"v_other_traffic_calming_qty_1\": null, \"v_other_traffic_calming_imprv_2\": null, \"v_other_traffic_calming_qty_2\": null, \"v_remove_right_turn_pocket\": null, \"v_remove_travel_ln\": null, \"v_sig_inter_new_roundabout\": null, \"v_sig_inter_timing_improv\": null, \"v_un_sig_inter_new_traf_sig\": null, \"v_un_sig_inter_new_roundabout\": null, \"app_fk\": null, \"details_datetime_stamp\": \"\", \"a4_reg_init\": \"N\", \"a4_reg_init_pct\": 0, \"a4_com_init\": \"N\", \"a4_com_init_pct\": 0, \"a4_safe_route\": \"N\", \"a4_safe_route_pct\": 0, \"a4_fl_mile\": \"N\", \"a4_fl_mile_pct\": 0, \"a4_emp_based\": null, \"a4_emp_based_pct\": 0.0, \"a4_other_ni\": \"N\", \"a4_other_ni_descr\": null, \"a4_other_ni_pct\": 0, \"a4_wb_audits\": 0.0, \"a4_bike_classes\": 0.0, \"a4_ped_classes\": 0.0, \"a4_demo_events\": 0.0, \"a4_com_enc\": 0.0, \"a4_le_methods\": 0.0, \"a4_com_meetings\": 0.0, \"a4_classrooms\": 0.0, \"a4_school_assem\": 0.0, \"a4_after_school\": 0.0, \"a4_bike_rodeos\": 0.0, \"a4_mock_cities\": 0.0, \"a4_walk_bus\": 0.0, \"a4_bike_train\": 0.0, \"a4_com_challenges\": 0.0, \"a4_srts_enc\": 0.0, \"a4_srts_le\": 0.0, \"a4_srts_training\": 0.0, \"a4_act_other_1\": 0.0, \"a4_act_other_1_descr\": null, \"a4_act_other_2\": 0.0, \"a4_act_other_2_decr\": null, \"a4_comm_trad_media\": \"N\", \"a4_comm_large_media\": \"N\", \"a4_comm_print\": \"N\", \"a4_comm_social\": \"N\", \"a4_comm_web\": \"N\", \"a4_comm_other\": \"N\", \"a4_comm_other_descr\": null, \"a4_comm_language\": null, \"a4_collab_pub_health\": \"N\", \"a4_collab_le\": \"N\", \"a4_collab_non_profit\": \"N\", \"a4_collab_schools\": \"N\", \"a4_collab_pub_works\": \"N\", \"a4_collab_other\": \"N\", \"a4_colab_other_descr\": null, \"a4_plan_ped\": \"N\", \"a4_plan_bike\": \"N\", \"a4_plan_atp\": \"N\", \"a4_plan_school_routes\": \"N\", \"a4_row_open_street_demo\": \"No\", \"atp_id_x\": \"ATP5-07-002S\", \"a3_proj_type_x\": \"Infrastructure - Small\", \"agency_fully_own_r_w\": \"X\", \"require_r_w_easement,_from_gov\": null, \"_require_rw_easement_from_private\": null, \"atp_id_y\": \"ATP5-7-002S\", \"ppno1\": null, \"oversight_id\": \"Standard\", \"a3_proj_type_y\": \"Infrastructure\", \"Total Project Cost\": 1637000.0, \"original_prog__amt___pa_ed_\": 10000.0, \"orig__prog__year__pa_ed_\": \"21/22\", \"original_prog__amt___ps_e_\": 130000.0, \"orig__prog__year__ps_e_\": \"22/23\", \"original_prog__amt___rw_\": null, \"orig__prog__year__rw_\": null, \"orignal_prog__amt___con_\": 1497000.0, \"orig__prog__year__con_\": \"23/24\", \"original_prog__amt___con_ni_\": null, \"orig__prog__year__con_ni_\": null, \"total\": 1637000.0, \"_2122_pa_ed\": 10000.0, \"_2122_ps_e\": null, \"_2122_rw\": null, \"_2122_con\": null, \"_2122_con_ni\": null, \"_2122_total\": 10000.0, \"fund_year_1\": \"21/22\", \"_2223_pa_ed\": null, \"_2223_ps_e\": 130000.0, \"_2223_rw\": null, \"_2223_con\": null, \"_2223_con_ni\": null, \"_2223_total\": 130000.0, \"fund_year_2\": \"22/23\", \"_2324_pa_ed\": null, \"_2324_ps_e\": null, \"_2324_rw\": null, \"_2324_con\": 1497000.0, \"_2324_con_ni\": null, \"_2324_total\": 1497000.0, \"fund_year_3\": \"23/24\", \"_2425_pa_ed\": null, \"_2425_ps_e\": null, \"_2425_rw\": null, \"_2425_con\": null, \"_2425_con_ni\": null, \"_2425_total\": 0.0, \"fund_year_4\": \"24/25\", \"Total ATP Funds\": 1637000.0, \"match_total_atp_$_and_total\": \"YES\", \"match_total_atp_$_and_total_atp_x_1000\": \"YES\", \"paed\": 10.0, \"ps_e_\": 130.0, \"rw\": 0.0, \"con\": 1497.0, \"con_ni\": 0.0, \"total_atp__000s_\": 1637.0, \"total_atp_x_1000\": 1637000.0, \"year__pa_ed_\": \"21/22\", \"year__ps_e_\": \"22/23\", \"year__rw_\": null, \"year__con_\": \"23/24\", \"year__con_ni_\": null, \"Implemeting Agency Name\": \"City of South El Monte\"}, {\"Project ID\": \"7-Los Angeles, City of-11\", \"project_cycle\": 5, \"a1_locode\": 5006.0, \"#\": null, \"atp_id\": null, \"awarded\": \"Y\", \"ppno\": 5862, \"ppno_1\": null, \"data_origin\": \"Funded\", \"geometry\": null, \"project_status\": \"Active\", \"solicitation_abv\": \"S\", \"solicitation\": \"STATEWIDE SOLICITATION-CYCLE 5\", \"soliciting_agency\": \"CALTRANS\", \"project_size\": \"Large\", \"a1_imp_agcy_city\": \"Los Angeles\", \"a1_imp_agcy_name\": \"Los Angeles, City of\", \"a1_proj_partner_agcy\": null, \"a1_proj_partner_exists\": \"No \", \"assembly_district\": 45, \"congressional_district\": 30, \"senate_district\": 27, \"County\": \"Los Angeles\", \"a2_ct_dist\": 7, \"a2_info_proj_descr\": \"7 miles of pedestrian and cyclist improvements within the heart of the Canoga Park community connecting DAC residents with local destinations & the regional transit & trail system\", \"a2_info_proj_loc\": \"Canoga Park community in the west San Fernando Valley area of Los Angeles - Topanga Canyon Blvd (west), Cohasset St (north), Brown's Canyon Wash (east) and Vanowen St (south)\", \"Project Name\": \"Connecting Canoga Park Through Safety and Urban Cooling Improvements\", \"a2_mop_uza_population\": \"Project is located within one of the ten large MPOs\", \"a2_mpo\": \"SCAG\", \"a2_rtpa\": \"None\", \"a2_proj_scope_summary\": \"The project will transform 7 miles of streets in the heart of the Canoga Park community adjacent to the Metro Orange (G) Line Rapid Bus Corridor and Orange Line Pedestrian and Bike Trail (Orange Line Trail) in the west San Fernando Valley area of the City\", \"a1_imp_agcy_fed_ma_num\": \"07-5006F15\", \"a1_imp_agcy_ma\": \"Yes\", \"a1_imp_agcy_state_ma_num\": \"00152S\", \"a1_imp_agcy_street\": \"1149 South Broadway\", \"a1_imp_agcy_title\": \"Sr. Civil Engineer\", \"a1_imp_agcy_zip\": 90015, \"a1_letter_of_intent\": null, \"a1_proj_partner_title\": null, \"a2_assem_dist_a\": 45.0, \"a2_assem_dist_b\": null, \"a2_assem_dist_c\": null, \"a2_congress_dist_a\": 30.0, \"a2_congress_dist_b\": null, \"a2_congress_dist_c\": null, \"a2_past_proj\": \"Yes                           \", \"a2_past_proj_qty\": 2, \"a2_proj_lat\": 34.201028, \"a2_proj_long\": -118.597711, \"a2_project_location_map\": null, \"a2_senate_dist_a\": 27.0, \"a2_senate_dist_b\": null, \"a2_senatedistc\": null, \"a3_plan_active_trans\": null, \"a3_plan_active_trans_exists\": \"No \", \"a3_plan_bicycle\": null, \"a3_plan_bicycle_exists\": \"No \", \"a3_plan_ped\": null, \"a3_plan_ped_exists\": \"No \", \"a3_plan_srts\": null, \"a3_plan_srts_exists\": \"Yes\", \"a3_proj_type\": null, \"a3_st_bicycle_applies\": \"Yes\", \"a3_st_bicycle_pct\": 70.0, \"a3_st_num_schools\": 7, \"a3_st_ped_applies\": \"Yes\", \"a3_st_ped_pct\": 30, \"a3_st_srts\": \"No \", \"a3_trail_elig_cost\": 0.0, \"a3_trail_fed_funding\": \"No \", \"a3_trail_trans_pct\": null, \"a3_trails\": \"X\", \"agency_app_num\": null, \"app_pk\": null, \"attch_addtl_attachments\": null, \"attch_app_sig_page\": null, \"attch_conditions_photos\": null, \"attch_conditions_project_map\": null, \"attch_engineeers_checklist\": null, \"attch_exhibit22_plan\": null, \"attch_letters_of_support\": null, \"attch_link\": null, \"attch_ni_workplan\": null, \"attch_project_estimate\": null, \"completed_pdf_form\": null, \"main_datetime_stamp\": \"\", \"a3_plan_none\": \"No\", \"a3_plan_other\": \"Yes\", \"a3_plan_other_desc\": \"City of Los Angeles Mobility Plan 2035\", \"a2_output_outcome\": \"A network of pedestrian and cyclist improvements will provide local community members with safer access to eight local schools, businesses, civic institutions, recreational facilities, youth and senior centers, bus rapid transit routes and entertainment d\", \"a3_current_plan\": \"Yes\", \"b_sig_inter_new_bike_boxes\": null, \"b_class_1\": null, \"b_class_2\": 315.0, \"b_class_3\": 19490.0, \"b_class_4\": 12746.0, \"a4_bike_gap_pct\": null, \"b_light_intersection\": 3.0, \"b_mid_block_new_rrfb_signal\": null, \"b_mid_block_surf_improv\": null, \"b_bsp_new_bikes\": null, \"b_bike_new_secured_lockers\": null, \"b_bike_new_racks\": 24.0, \"b_bsp_new_station\": null, \"b_other_bike_improv_1\": \"TOUCAN Signal\", \"b_other_bike_improv_qty_1\": 1.0, \"b_other_bike_improv_2\": \"Landscape Buffer - 3,600 LF\", \"b_other_bike_improv_qty_2\": 1.0, \"b_light_rdwy_seg\": 4224.0, \"b_sig_inter_timing_improv\": 17.0, \"b_un_sig_new_rrfb_signal\": null, \"b_un_sig_cross_surf_improv\": null, \"a4_easement_support\": null, \"m_cls_1_trails_widen_recon_exist\": 4224.0, \"m_cls_1_trails_new__less_than_9\": null, \"m_cls_1_trails_new_over_9\": null, \"m_non_cls_trails_new\": null, \"m_other_trail_imprv_1\": \"Orange Line Trail Wayfinding Signage\", \"m_other_trail_improv_qty_1\": 6.0, \"m_other_trail_imprv_2\": \"Orange Line Trail Hydration Stations\", \"m_other_trail_improv_qty_2\": 3.0, \"m_non_cls_widen_recon_exist\": null, \"p_amenities_bench\": 20.0, \"a4_ped_gap_pct\": 20.0, \"p_mid_block_cross_new_rrfb_signal\": null, \"p_light_intersection\": 7.0, \"p_lighting_rdwy_seg\": 7850.0, \"p_mid_block_cross_surf_improv\": null, \"p_new_ada_ramp\": 39.0, \"p_sidewlks_new_barrier_protect\": 4200.0, \"p_sidewlks_new_4_to_8\": 5500.0, \"p_sidewlks_new_over_8\": null, \"p_other_ped_imprv_1\": \"Shade Structures\", \"p_other_ped_qty_1\": 3.0, \"p_other_ped_imprv_2\": \"Pedestrian Hybrid Beacon Signal\", \"p_other_ped_qty_2\": 4.0, \"p_reconstruct_ramp_to_ada_stand\": 110.0, \"p_sidewlks_reconstruct_enhance_exist\": 5520.0, \"p_sig_inter_enhance_exist_crosswlk\": 114.0, \"p_sig_inter_new_crosswlk\": 5.0, \"p_sig_inter_ped_heads\": null, \"p_sig_inter_shorten_cross\": null, \"p_sig_inter_timing_improv\": 15.0, \"p_amenities_trash_can\": 3.0, \"p_amenities_shade_tree\": 150.0, \"p_amenities_shade_tree_type\": \"Drought, Evergreen/Deciduous\", \"p_un_sig_inter_new_traff_sig\": null, \"p_un_sig_inter_new_roundabout\": 3.0, \"p_un_sig_inter_new_rrfb_sig\": null, \"p_un_sig_inter_shorten_cross\": null, \"p_un_sig_inter_cross_surface_improv\": null, \"p_sidewlks_widen_existing\": null, \"a4_row_100\": null, \"a4_row_gov_ease\": null, \"a4_row_private_ease\": null, \"v_other_traffic_calming_imprv_1\": \"Speed Humps\", \"v_speed_feedback_signs\": null, \"v_other_traffic_calming_qty_1\": 16.0, \"v_other_traffic_calming_imprv_2\": \"Remove Parking Lane - 1990 LF\", \"v_other_traffic_calming_qty_2\": 1.0, \"v_remove_right_turn_pocket\": 4.0, \"v_remove_travel_ln\": 6500.0, \"v_sig_inter_new_roundabout\": null, \"v_sig_inter_timing_improv\": null, \"v_un_sig_inter_new_traf_sig\": null, \"v_un_sig_inter_new_roundabout\": null, \"app_fk\": null, \"details_datetime_stamp\": \"\", \"a4_reg_init\": \"N\", \"a4_reg_init_pct\": 0, \"a4_com_init\": \"N\", \"a4_com_init_pct\": 0, \"a4_safe_route\": \"N\", \"a4_safe_route_pct\": 0, \"a4_fl_mile\": \"N\", \"a4_fl_mile_pct\": 0, \"a4_emp_based\": null, \"a4_emp_based_pct\": 0.0, \"a4_other_ni\": \"N\", \"a4_other_ni_descr\": null, \"a4_other_ni_pct\": 0, \"a4_wb_audits\": 0.0, \"a4_bike_classes\": 0.0, \"a4_ped_classes\": 0.0, \"a4_demo_events\": 0.0, \"a4_com_enc\": 0.0, \"a4_le_methods\": 0.0, \"a4_com_meetings\": 0.0, \"a4_classrooms\": 0.0, \"a4_school_assem\": 0.0, \"a4_after_school\": 0.0, \"a4_bike_rodeos\": 0.0, \"a4_mock_cities\": 0.0, \"a4_walk_bus\": 0.0, \"a4_bike_train\": 0.0, \"a4_com_challenges\": 0.0, \"a4_srts_enc\": 0.0, \"a4_srts_le\": 0.0, \"a4_srts_training\": 0.0, \"a4_act_other_1\": 0.0, \"a4_act_other_1_descr\": null, \"a4_act_other_2\": 0.0, \"a4_act_other_2_decr\": null, \"a4_comm_trad_media\": \"N\", \"a4_comm_large_media\": \"N\", \"a4_comm_print\": \"N\", \"a4_comm_social\": \"N\", \"a4_comm_web\": \"N\", \"a4_comm_other\": \"N\", \"a4_comm_other_descr\": null, \"a4_comm_language\": null, \"a4_collab_pub_health\": \"N\", \"a4_collab_le\": \"N\", \"a4_collab_non_profit\": \"N\", \"a4_collab_schools\": \"N\", \"a4_collab_pub_works\": \"N\", \"a4_collab_other\": \"N\", \"a4_colab_other_descr\": null, \"a4_plan_ped\": \"N\", \"a4_plan_bike\": \"N\", \"a4_plan_atp\": \"N\", \"a4_plan_school_routes\": \"N\", \"a4_row_open_street_demo\": \"No\", \"atp_id_x\": \"ATP5-07-032S\", \"a3_proj_type_x\": \"Infrastructure - Large\", \"agency_fully_own_r_w\": null, \"require_r_w_easement,_from_gov\": \"X\", \"_require_rw_easement_from_private\": null, \"atp_id_y\": \"ATP5-7-032S\", \"ppno1\": null, \"oversight_id\": \"Standard\", \"a3_proj_type_y\": \"Infrastructure\", \"Total Project Cost\": 38655000.0, \"original_prog__amt___pa_ed_\": 3567000.0, \"orig__prog__year__pa_ed_\": \"21/22\", \"original_prog__amt___ps_e_\": 1921000.0, \"orig__prog__year__ps_e_\": \"23/24\", \"original_prog__amt___rw_\": null, \"orig__prog__year__rw_\": null, \"orignal_prog__amt___con_\": 25243000.0, \"orig__prog__year__con_\": \"24/25\", \"original_prog__amt___con_ni_\": null, \"orig__prog__year__con_ni_\": null, \"total\": 30731000.0, \"_2122_pa_ed\": 3567000.0, \"_2122_ps_e\": null, \"_2122_rw\": null, \"_2122_con\": null, \"_2122_con_ni\": null, \"_2122_total\": 3567000.0, \"fund_year_1\": \"21/22\", \"_2223_pa_ed\": null, \"_2223_ps_e\": null, \"_2223_rw\": null, \"_2223_con\": null, \"_2223_con_ni\": null, \"_2223_total\": 0.0, \"fund_year_2\": \"22/23\", \"_2324_pa_ed\": null, \"_2324_ps_e\": 1921000.0, \"_2324_rw\": null, \"_2324_con\": null, \"_2324_con_ni\": null, \"_2324_total\": 1921000.0, \"fund_year_3\": \"23/24\", \"_2425_pa_ed\": null, \"_2425_ps_e\": null, \"_2425_rw\": null, \"_2425_con\": 25243000.0, \"_2425_con_ni\": null, \"_2425_total\": 25243000.0, \"fund_year_4\": \"24/25\", \"Total ATP Funds\": 30731000.0, \"match_total_atp_$_and_total\": \"YES\", \"match_total_atp_$_and_total_atp_x_1000\": \"YES\", \"paed\": 3567.0, \"ps_e_\": 1921.0, \"rw\": 0.0, \"con\": 25243.0, \"con_ni\": 0.0, \"total_atp__000s_\": 30731.0, \"total_atp_x_1000\": 30731000.0, \"year__pa_ed_\": \"21/22\", \"year__ps_e_\": \"23/24\", \"year__rw_\": null, \"year__con_\": \"24/25\", \"year__con_ni_\": null, \"Implemeting Agency Name\": \"City of Los Angeles\"}, {\"Project ID\": \"7-Los Angeles, City of-3\", \"project_cycle\": 5, \"a1_locode\": 5006.0, \"#\": null, \"atp_id\": null, \"awarded\": \"Y\", \"ppno\": 5859, \"ppno_1\": null, \"data_origin\": \"Funded\", \"geometry\": null, \"project_status\": \"Active\", \"solicitation_abv\": \"S\", \"solicitation\": \"STATEWIDE SOLICITATION-CYCLE 5\", \"soliciting_agency\": \"CALTRANS\", \"project_size\": \"Medium\", \"a1_imp_agcy_city\": \"Los Angeles \", \"a1_imp_agcy_name\": \"Los Angeles, City of\", \"a1_proj_partner_agcy\": null, \"a1_proj_partner_exists\": \"No \", \"assembly_district\": 59, \"congressional_district\": 40, \"senate_district\": \"30, 33\", \"County\": \"Los Angeles\", \"a2_ct_dist\": 7, \"a2_info_proj_descr\": \"Transform one of the City\\u2019s most disadvantaged, traffic-stressed  areas with 1 middle and 2 elementary schools through pedestrian safety and speed-reduction improvements.\", \"a2_info_proj_loc\": \"The areas within one-quarter mile of Carver Middle, Ascot Avenue Elementary, and Harmony Elementary Schools in the Southeast Los Angeles neighborhood.\", \"Project Name\": \"SRTS Carver Middle, Ascot Avenue and Harmony Elementary Schools Project\", \"a2_mop_uza_population\": \"Project is located within one of the ten large MPOs\", \"a2_mpo\": \"SCAG\", \"a2_rtpa\": \"None\", \"a2_proj_scope_summary\": \"This project will implement improvements for Carver Middle School and its two feeder elementary schools, Ascot Avenue and Harmony, in Southeast Los Angeles, ranked 17th, 23rd and 34th respectively out of the City\\u2019s top 50 public schools with greatest need\", \"a1_imp_agcy_fed_ma_num\": \"07-5006F15\", \"a1_imp_agcy_ma\": \"Yes\", \"a1_imp_agcy_state_ma_num\": \"07-00152S\", \"a1_imp_agcy_street\": \"100 S. Main Street, 9th Floor\", \"a1_imp_agcy_title\": \"Safe Routes to School Director\", \"a1_imp_agcy_zip\": 90012, \"a1_letter_of_intent\": null, \"a1_proj_partner_title\": null, \"a2_assem_dist_a\": 59.0, \"a2_assem_dist_b\": null, \"a2_assem_dist_c\": null, \"a2_congress_dist_a\": 40.0, \"a2_congress_dist_b\": null, \"a2_congress_dist_c\": null, \"a2_past_proj\": \"Yes                           \", \"a2_past_proj_qty\": 2, \"a2_proj_lat\": 34.003589, \"a2_proj_long\": -118.260673, \"a2_project_location_map\": null, \"a2_senate_dist_a\": 30.0, \"a2_senate_dist_b\": 33.0, \"a2_senatedistc\": null, \"a3_plan_active_trans\": null, \"a3_plan_active_trans_exists\": \"No \", \"a3_plan_bicycle\": null, \"a3_plan_bicycle_exists\": \"Yes\", \"a3_plan_ped\": null, \"a3_plan_ped_exists\": \"No \", \"a3_plan_srts\": null, \"a3_plan_srts_exists\": \"Yes\", \"a3_proj_type\": null, \"a3_st_bicycle_applies\": \"No \", \"a3_st_bicycle_pct\": 0.0, \"a3_st_num_schools\": 3, \"a3_st_ped_applies\": \"Yes\", \"a3_st_ped_pct\": 100, \"a3_st_srts\": \"Yes\", \"a3_trail_elig_cost\": 0.0, \"a3_trail_fed_funding\": null, \"a3_trail_trans_pct\": null, \"a3_trails\": null, \"agency_app_num\": null, \"app_pk\": null, \"attch_addtl_attachments\": null, \"attch_app_sig_page\": null, \"attch_conditions_photos\": null, \"attch_conditions_project_map\": null, \"attch_engineeers_checklist\": null, \"attch_exhibit22_plan\": null, \"attch_letters_of_support\": null, \"attch_link\": null, \"attch_ni_workplan\": null, \"attch_project_estimate\": null, \"completed_pdf_form\": null, \"main_datetime_stamp\": \"\", \"a3_plan_none\": \"0\", \"a3_plan_other\": \"0\", \"a3_plan_other_desc\": \"Mobility Plan 2035, Vision Zero LA, Green New Deal LA\", \"a2_output_outcome\": \"12 curb extensions, 3 raised crosswalks, 1 HAWK signal, 1 Rectangular Rapid Flashing Beacon, 33 ramps, 2 Leading Pedestrian Intervals, 11 Accessible Pedestrian Signals, 9 speed humps, 2 speed feedback signs, 4 new crosswalks \", \"a3_current_plan\": \"Yes\", \"b_sig_inter_new_bike_boxes\": null, \"b_class_1\": null, \"b_class_2\": null, \"b_class_3\": null, \"b_class_4\": null, \"a4_bike_gap_pct\": null, \"b_light_intersection\": null, \"b_mid_block_new_rrfb_signal\": null, \"b_mid_block_surf_improv\": null, \"b_bsp_new_bikes\": null, \"b_bike_new_secured_lockers\": null, \"b_bike_new_racks\": null, \"b_bsp_new_station\": null, \"b_other_bike_improv_1\": null, \"b_other_bike_improv_qty_1\": null, \"b_other_bike_improv_2\": null, \"b_other_bike_improv_qty_2\": null, \"b_light_rdwy_seg\": null, \"b_sig_inter_timing_improv\": null, \"b_un_sig_new_rrfb_signal\": null, \"b_un_sig_cross_surf_improv\": null, \"a4_easement_support\": null, \"m_cls_1_trails_widen_recon_exist\": null, \"m_cls_1_trails_new__less_than_9\": null, \"m_cls_1_trails_new_over_9\": null, \"m_non_cls_trails_new\": null, \"m_other_trail_imprv_1\": null, \"m_other_trail_improv_qty_1\": null, \"m_other_trail_imprv_2\": null, \"m_other_trail_improv_qty_2\": null, \"m_non_cls_widen_recon_exist\": null, \"p_amenities_bench\": null, \"a4_ped_gap_pct\": 20.0, \"p_mid_block_cross_new_rrfb_signal\": null, \"p_light_intersection\": null, \"p_lighting_rdwy_seg\": null, \"p_mid_block_cross_surf_improv\": null, \"p_new_ada_ramp\": 11.0, \"p_sidewlks_new_barrier_protect\": null, \"p_sidewlks_new_4_to_8\": null, \"p_sidewlks_new_over_8\": null, \"p_other_ped_imprv_1\": \"Accessible Ped Signal-11, LPI-2\", \"p_other_ped_qty_1\": null, \"p_other_ped_imprv_2\": \"Raised Crsswlk-3, Speed Humps-9 \", \"p_other_ped_qty_2\": null, \"p_reconstruct_ramp_to_ada_stand\": 22.0, \"p_sidewlks_reconstruct_enhance_exist\": null, \"p_sig_inter_enhance_exist_crosswlk\": null, \"p_sig_inter_new_crosswlk\": null, \"p_sig_inter_ped_heads\": null, \"p_sig_inter_shorten_cross\": 8.0, \"p_sig_inter_timing_improv\": null, \"p_amenities_trash_can\": null, \"p_amenities_shade_tree\": null, \"p_amenities_shade_tree_type\": null, \"p_un_sig_inter_new_traff_sig\": null, \"p_un_sig_inter_new_roundabout\": null, \"p_un_sig_inter_new_rrfb_sig\": 2.0, \"p_un_sig_inter_shorten_cross\": 4.0, \"p_un_sig_inter_cross_surface_improv\": 4.0, \"p_sidewlks_widen_existing\": null, \"a4_row_100\": null, \"a4_row_gov_ease\": null, \"a4_row_private_ease\": null, \"v_other_traffic_calming_imprv_1\": \"Stop Sign Relo-1, Stop Rflect Post-20\", \"v_speed_feedback_signs\": 2.0, \"v_other_traffic_calming_qty_1\": null, \"v_other_traffic_calming_imprv_2\": \"Turn Rad Red-3, Transit Stop Relo-1\", \"v_other_traffic_calming_qty_2\": null, \"v_remove_right_turn_pocket\": null, \"v_remove_travel_ln\": null, \"v_sig_inter_new_roundabout\": null, \"v_sig_inter_timing_improv\": null, \"v_un_sig_inter_new_traf_sig\": null, \"v_un_sig_inter_new_roundabout\": null, \"app_fk\": null, \"details_datetime_stamp\": \"\", \"a4_reg_init\": \"N\", \"a4_reg_init_pct\": 0, \"a4_com_init\": \"N\", \"a4_com_init_pct\": 0, \"a4_safe_route\": \"N\", \"a4_safe_route_pct\": 0, \"a4_fl_mile\": \"N\", \"a4_fl_mile_pct\": 0, \"a4_emp_based\": null, \"a4_emp_based_pct\": 0.0, \"a4_other_ni\": \"N\", \"a4_other_ni_descr\": null, \"a4_other_ni_pct\": 0, \"a4_wb_audits\": 0.0, \"a4_bike_classes\": 0.0, \"a4_ped_classes\": 0.0, \"a4_demo_events\": 0.0, \"a4_com_enc\": 0.0, \"a4_le_methods\": 0.0, \"a4_com_meetings\": 0.0, \"a4_classrooms\": 0.0, \"a4_school_assem\": 0.0, \"a4_after_school\": 0.0, \"a4_bike_rodeos\": 0.0, \"a4_mock_cities\": 0.0, \"a4_walk_bus\": 0.0, \"a4_bike_train\": 0.0, \"a4_com_challenges\": 0.0, \"a4_srts_enc\": 0.0, \"a4_srts_le\": 0.0, \"a4_srts_training\": 0.0, \"a4_act_other_1\": 0.0, \"a4_act_other_1_descr\": null, \"a4_act_other_2\": 0.0, \"a4_act_other_2_decr\": null, \"a4_comm_trad_media\": \"N\", \"a4_comm_large_media\": \"N\", \"a4_comm_print\": \"N\", \"a4_comm_social\": \"N\", \"a4_comm_web\": \"N\", \"a4_comm_other\": \"N\", \"a4_comm_other_descr\": null, \"a4_comm_language\": null, \"a4_collab_pub_health\": \"N\", \"a4_collab_le\": \"N\", \"a4_collab_non_profit\": \"N\", \"a4_collab_schools\": \"N\", \"a4_collab_pub_works\": \"N\", \"a4_collab_other\": \"N\", \"a4_colab_other_descr\": null, \"a4_plan_ped\": \"N\", \"a4_plan_bike\": \"N\", \"a4_plan_atp\": \"N\", \"a4_plan_school_routes\": \"N\", \"a4_row_open_street_demo\": \"No\", \"atp_id_x\": \"ATP5-07-016S\", \"a3_proj_type_x\": \"Infrastructure - Medium\", \"agency_fully_own_r_w\": \"X\", \"require_r_w_easement,_from_gov\": null, \"_require_rw_easement_from_private\": null, \"atp_id_y\": \"ATP5-7-016S\", \"ppno1\": null, \"oversight_id\": \"Standard\", \"a3_proj_type_y\": \"Infrastructure\", \"Total Project Cost\": 6700000.0, \"original_prog__amt___pa_ed_\": 801000.0, \"orig__prog__year__pa_ed_\": \"21/22\", \"original_prog__amt___ps_e_\": 290000.0, \"orig__prog__year__ps_e_\": \"23/24\", \"original_prog__amt___rw_\": null, \"orig__prog__year__rw_\": null, \"orignal_prog__amt___con_\": 4939000.0, \"orig__prog__year__con_\": \"24/25\", \"original_prog__amt___con_ni_\": null, \"orig__prog__year__con_ni_\": null, \"total\": 6030000.0, \"_2122_pa_ed\": 801000.0, \"_2122_ps_e\": null, \"_2122_rw\": null, \"_2122_con\": null, \"_2122_con_ni\": null, \"_2122_total\": 801000.0, \"fund_year_1\": \"21/22\", \"_2223_pa_ed\": null, \"_2223_ps_e\": null, \"_2223_rw\": null, \"_2223_con\": null, \"_2223_con_ni\": null, \"_2223_total\": 0.0, \"fund_year_2\": \"22/23\", \"_2324_pa_ed\": null, \"_2324_ps_e\": 290000.0, \"_2324_rw\": null, \"_2324_con\": null, \"_2324_con_ni\": null, \"_2324_total\": 290000.0, \"fund_year_3\": \"23/24\", \"_2425_pa_ed\": null, \"_2425_ps_e\": null, \"_2425_rw\": null, \"_2425_con\": 4939000.0, \"_2425_con_ni\": null, \"_2425_total\": 4939000.0, \"fund_year_4\": \"24/25\", \"Total ATP Funds\": 6030000.0, \"match_total_atp_$_and_total\": \"YES\", \"match_total_atp_$_and_total_atp_x_1000\": \"YES\", \"paed\": 801.0, \"ps_e_\": 290.0, \"rw\": 0.0, \"con\": 4939.0, \"con_ni\": 0.0, \"total_atp__000s_\": 6030.0, \"total_atp_x_1000\": 6030000.0, \"year__pa_ed_\": \"21/22\", \"year__ps_e_\": \"23/24\", \"year__rw_\": null, \"year__con_\": \"24/25\", \"year__con_ni_\": null, \"Implemeting Agency Name\": \"City of Los Angeles\"}, {\"Project ID\": \"7-Los Angeles, City of-4\", \"project_cycle\": 5, \"a1_locode\": 5006.0, \"#\": null, \"atp_id\": null, \"awarded\": \"Y\", \"ppno\": 5864, \"ppno_1\": null, \"data_origin\": \"Funded\", \"geometry\": null, \"project_status\": \"Active\", \"solicitation_abv\": \"S\", \"solicitation\": \"STATEWIDE SOLICITATION-CYCLE 5\", \"soliciting_agency\": \"CALTRANS\", \"project_size\": \"Large\", \"a1_imp_agcy_city\": \"Los Angeles \", \"a1_imp_agcy_name\": \"Los Angeles, City of\", \"a1_proj_partner_agcy\": null, \"a1_proj_partner_exists\": \"No \", \"assembly_district\": 53, \"congressional_district\": 34, \"senate_district\": 24, \"County\": \"Los Angeles\", \"a2_ct_dist\": 7, \"a2_info_proj_descr\": \"The one-quarter mile radius around Berendo Middle, and Hoover Street, Leo Politi and Magnolia Avenue Elementary Schools in the disadvantaged Pico-Union-Westlake neighborhoods.\", \"a2_info_proj_loc\": \"The one-quarter mile radius around Berendo Middle, and Hoover Street, Leo Politi and Magnolia Avenue Elementary Schools in the disadvantaged Pico-Union-Westlake neighborhoods\", \"Project Name\": \"SRTS Berendo Middle and 3 Feeder Elementary Schools Safety Project \", \"a2_mop_uza_population\": \"Project is located within one of the ten large MPOs\", \"a2_mpo\": \"SCAG\", \"a2_rtpa\": \"None\", \"a2_proj_scope_summary\": \"Berendo Middle and Magnolia Avenue, Hoover Street, and Leo Politi Elementary Schools sit in one of the City\\u2019s most densely-populated and severely disadvantaged areas. These schools rank 5th, 7th, 8th, and 11th respectively out of the top 50 public schools\", \"a1_imp_agcy_fed_ma_num\": \"07-5006F15\", \"a1_imp_agcy_ma\": \"Yes\", \"a1_imp_agcy_state_ma_num\": \"07-00152S\", \"a1_imp_agcy_street\": \"100 S. Main Street, 9th Floor\", \"a1_imp_agcy_title\": \"Safe Routes to School Director\", \"a1_imp_agcy_zip\": 90012, \"a1_letter_of_intent\": null, \"a1_proj_partner_title\": null, \"a2_assem_dist_a\": 53.0, \"a2_assem_dist_b\": null, \"a2_assem_dist_c\": null, \"a2_congress_dist_a\": 34.0, \"a2_congress_dist_b\": null, \"a2_congress_dist_c\": null, \"a2_past_proj\": \"Yes                           \", \"a2_past_proj_qty\": 2, \"a2_proj_lat\": 34.056532, \"a2_proj_long\": -118.285233, \"a2_project_location_map\": null, \"a2_senate_dist_a\": 24.0, \"a2_senate_dist_b\": null, \"a2_senatedistc\": null, \"a3_plan_active_trans\": null, \"a3_plan_active_trans_exists\": \"No \", \"a3_plan_bicycle\": null, \"a3_plan_bicycle_exists\": \"Yes\", \"a3_plan_ped\": null, \"a3_plan_ped_exists\": \"No \", \"a3_plan_srts\": null, \"a3_plan_srts_exists\": \"Yes\", \"a3_proj_type\": null, \"a3_st_bicycle_applies\": \"Yes\", \"a3_st_bicycle_pct\": 40.0, \"a3_st_num_schools\": 4, \"a3_st_ped_applies\": \"Yes\", \"a3_st_ped_pct\": 60, \"a3_st_srts\": \"Yes\", \"a3_trail_elig_cost\": 0.0, \"a3_trail_fed_funding\": null, \"a3_trail_trans_pct\": null, \"a3_trails\": null, \"agency_app_num\": null, \"app_pk\": null, \"attch_addtl_attachments\": null, \"attch_app_sig_page\": null, \"attch_conditions_photos\": null, \"attch_conditions_project_map\": null, \"attch_engineeers_checklist\": null, \"attch_exhibit22_plan\": null, \"attch_letters_of_support\": null, \"attch_link\": null, \"attch_ni_workplan\": null, \"attch_project_estimate\": null, \"completed_pdf_form\": null, \"main_datetime_stamp\": \"\", \"a3_plan_none\": \"0\", \"a3_plan_other\": \"0\", \"a3_plan_other_desc\": \"Mobility Plan 2035, Vision Zero LA, Green New Deal LA\", \"a2_output_outcome\": \"27 curb extensions, 2 traffic circles, 8,700 sq ft new pedestrian space, 1 raised crosswalk, 2 HAWK signals, 12 Accessible Pedestrian Signals, 19 new ramps, 1 RRFB, 7 speed humps, and new bicycle facilities\", \"a3_current_plan\": \"Yes\", \"b_sig_inter_new_bike_boxes\": 10.0, \"b_class_1\": null, \"b_class_2\": null, \"b_class_3\": 5280.0, \"b_class_4\": null, \"a4_bike_gap_pct\": null, \"b_light_intersection\": null, \"b_mid_block_new_rrfb_signal\": null, \"b_mid_block_surf_improv\": null, \"b_bsp_new_bikes\": null, \"b_bike_new_secured_lockers\": null, \"b_bike_new_racks\": null, \"b_bsp_new_station\": null, \"b_other_bike_improv_1\": \"Bike Loop Detector-2\", \"b_other_bike_improv_qty_1\": null, \"b_other_bike_improv_2\": \"Turn Radius Reduction-2\", \"b_other_bike_improv_qty_2\": null, \"b_light_rdwy_seg\": null, \"b_sig_inter_timing_improv\": null, \"b_un_sig_new_rrfb_signal\": null, \"b_un_sig_cross_surf_improv\": null, \"a4_easement_support\": null, \"m_cls_1_trails_widen_recon_exist\": null, \"m_cls_1_trails_new__less_than_9\": null, \"m_cls_1_trails_new_over_9\": null, \"m_non_cls_trails_new\": null, \"m_other_trail_imprv_1\": null, \"m_other_trail_improv_qty_1\": null, \"m_other_trail_imprv_2\": null, \"m_other_trail_improv_qty_2\": null, \"m_non_cls_widen_recon_exist\": null, \"p_amenities_bench\": null, \"a4_ped_gap_pct\": 60.0, \"p_mid_block_cross_new_rrfb_signal\": null, \"p_light_intersection\": null, \"p_lighting_rdwy_seg\": 2350.0, \"p_mid_block_cross_surf_improv\": null, \"p_new_ada_ramp\": 19.0, \"p_sidewlks_new_barrier_protect\": null, \"p_sidewlks_new_4_to_8\": null, \"p_sidewlks_new_over_8\": null, \"p_other_ped_imprv_1\": \"Access Ped Signl-12, Lead Ped Intr-4\", \"p_other_ped_qty_1\": null, \"p_other_ped_imprv_2\": \"New Ped Space-8,700 ft\", \"p_other_ped_qty_2\": null, \"p_reconstruct_ramp_to_ada_stand\": null, \"p_sidewlks_reconstruct_enhance_exist\": 215.0, \"p_sig_inter_enhance_exist_crosswlk\": null, \"p_sig_inter_new_crosswlk\": null, \"p_sig_inter_ped_heads\": null, \"p_sig_inter_shorten_cross\": 3.0, \"p_sig_inter_timing_improv\": null, \"p_amenities_trash_can\": null, \"p_amenities_shade_tree\": null, \"p_amenities_shade_tree_type\": null, \"p_un_sig_inter_new_traff_sig\": null, \"p_un_sig_inter_new_roundabout\": null, \"p_un_sig_inter_new_rrfb_sig\": 3.0, \"p_un_sig_inter_shorten_cross\": 24.0, \"p_un_sig_inter_cross_surface_improv\": null, \"p_sidewlks_widen_existing\": null, \"a4_row_100\": null, \"a4_row_gov_ease\": null, \"a4_row_private_ease\": null, \"v_other_traffic_calming_imprv_1\": \"Protect LT-1, Stop Signs-7, Trf Circ-2\", \"v_speed_feedback_signs\": 4.0, \"v_other_traffic_calming_qty_1\": null, \"v_other_traffic_calming_imprv_2\": \"Edgeline-9,780 ft, Raised Xwalk-1\", \"v_other_traffic_calming_qty_2\": null, \"v_remove_right_turn_pocket\": null, \"v_remove_travel_ln\": null, \"v_sig_inter_new_roundabout\": null, \"v_sig_inter_timing_improv\": null, \"v_un_sig_inter_new_traf_sig\": null, \"v_un_sig_inter_new_roundabout\": null, \"app_fk\": null, \"details_datetime_stamp\": \"\", \"a4_reg_init\": \"N\", \"a4_reg_init_pct\": 0, \"a4_com_init\": \"N\", \"a4_com_init_pct\": 0, \"a4_safe_route\": \"N\", \"a4_safe_route_pct\": 0, \"a4_fl_mile\": \"N\", \"a4_fl_mile_pct\": 0, \"a4_emp_based\": null, \"a4_emp_based_pct\": 0.0, \"a4_other_ni\": \"N\", \"a4_other_ni_descr\": null, \"a4_other_ni_pct\": 0, \"a4_wb_audits\": 0.0, \"a4_bike_classes\": 0.0, \"a4_ped_classes\": 0.0, \"a4_demo_events\": 0.0, \"a4_com_enc\": 0.0, \"a4_le_methods\": 0.0, \"a4_com_meetings\": 0.0, \"a4_classrooms\": 0.0, \"a4_school_assem\": 0.0, \"a4_after_school\": 0.0, \"a4_bike_rodeos\": 0.0, \"a4_mock_cities\": 0.0, \"a4_walk_bus\": 0.0, \"a4_bike_train\": 0.0, \"a4_com_challenges\": 0.0, \"a4_srts_enc\": 0.0, \"a4_srts_le\": 0.0, \"a4_srts_training\": 0.0, \"a4_act_other_1\": 0.0, \"a4_act_other_1_descr\": null, \"a4_act_other_2\": 0.0, \"a4_act_other_2_decr\": null, \"a4_comm_trad_media\": \"N\", \"a4_comm_large_media\": \"N\", \"a4_comm_print\": \"N\", \"a4_comm_social\": \"N\", \"a4_comm_web\": \"N\", \"a4_comm_other\": \"N\", \"a4_comm_other_descr\": null, \"a4_comm_language\": null, \"a4_collab_pub_health\": \"N\", \"a4_collab_le\": \"N\", \"a4_collab_non_profit\": \"N\", \"a4_collab_schools\": \"N\", \"a4_collab_pub_works\": \"N\", \"a4_collab_other\": \"N\", \"a4_colab_other_descr\": null, \"a4_plan_ped\": \"N\", \"a4_plan_bike\": \"N\", \"a4_plan_atp\": \"N\", \"a4_plan_school_routes\": \"N\", \"a4_row_open_street_demo\": \"No\", \"atp_id_x\": \"ATP5-07-037S\", \"a3_proj_type_x\": \"Infrastructure - Large\", \"agency_fully_own_r_w\": \"X\", \"require_r_w_easement,_from_gov\": null, \"_require_rw_easement_from_private\": null, \"atp_id_y\": \"ATP5-7-037S\", \"ppno1\": null, \"oversight_id\": \"Standard\", \"a3_proj_type_y\": \"Infrastructure\", \"Total Project Cost\": 11057000.0, \"original_prog__amt___pa_ed_\": 188000.0, \"orig__prog__year__pa_ed_\": \"21/22\", \"original_prog__amt___ps_e_\": 1588000.0, \"orig__prog__year__ps_e_\": \"23/24\", \"original_prog__amt___rw_\": null, \"orig__prog__year__rw_\": null, \"orignal_prog__amt___con_\": 8175000.0, \"orig__prog__year__con_\": \"24/25\", \"original_prog__amt___con_ni_\": null, \"orig__prog__year__con_ni_\": null, \"total\": 9951000.0, \"_2122_pa_ed\": 188000.0, \"_2122_ps_e\": null, \"_2122_rw\": null, \"_2122_con\": null, \"_2122_con_ni\": null, \"_2122_total\": 188000.0, \"fund_year_1\": \"21/22\", \"_2223_pa_ed\": null, \"_2223_ps_e\": null, \"_2223_rw\": null, \"_2223_con\": null, \"_2223_con_ni\": null, \"_2223_total\": 0.0, \"fund_year_2\": \"22/23\", \"_2324_pa_ed\": null, \"_2324_ps_e\": 1588000.0, \"_2324_rw\": null, \"_2324_con\": null, \"_2324_con_ni\": null, \"_2324_total\": 1588000.0, \"fund_year_3\": \"23/24\", \"_2425_pa_ed\": null, \"_2425_ps_e\": null, \"_2425_rw\": null, \"_2425_con\": 8175000.0, \"_2425_con_ni\": null, \"_2425_total\": 8175000.0, \"fund_year_4\": \"24/25\", \"Total ATP Funds\": 9951000.0, \"match_total_atp_$_and_total\": \"YES\", \"match_total_atp_$_and_total_atp_x_1000\": \"YES\", \"paed\": 188.0, \"ps_e_\": 1588.0, \"rw\": 0.0, \"con\": 8175.0, \"con_ni\": 0.0, \"total_atp__000s_\": 9951.0, \"total_atp_x_1000\": 9951000.0, \"year__pa_ed_\": \"21/22\", \"year__ps_e_\": \"23/24\", \"year__rw_\": null, \"year__con_\": \"24/25\", \"year__con_ni_\": null, \"Implemeting Agency Name\": \"City of Los Angeles\"}, {\"Project ID\": \"7-Los Angeles, City of-5\", \"project_cycle\": 5, \"a1_locode\": 5006.0, \"#\": null, \"atp_id\": null, \"awarded\": \"Y\", \"ppno\": 5866, \"ppno_1\": null, \"data_origin\": \"Funded\", \"geometry\": null, \"project_status\": \"Active\", \"solicitation_abv\": \"S\", \"solicitation\": \"STATEWIDE SOLICITATION-CYCLE 5\", \"soliciting_agency\": \"CALTRANS\", \"project_size\": \"Medium\", \"a1_imp_agcy_city\": \"Los Angeles\", \"a1_imp_agcy_name\": \"Los Angeles, City of\", \"a1_proj_partner_agcy\": null, \"a1_proj_partner_exists\": \"No \", \"assembly_district\": 46, \"congressional_district\": 29, \"senate_district\": 18, \"County\": \"Los Angeles\", \"a2_ct_dist\": 7, \"a2_info_proj_descr\": \"Transform one of the City\\u2019s most traffic-stressed, disadvantaged school areas in the Valley with innovative pedestrian and bicycle infrastructure, and speed-reduction measures\", \"a2_info_proj_loc\": \"The one-quarter mile radius around the Panorama City Elementary School in the San Fernando Valley in the City of Los Angeles.\", \"Project Name\": \"SRTS Panorama City Elementary School Project \", \"a2_mop_uza_population\": \"Project is located within one of the ten large MPOs\", \"a2_mpo\": \"SCAG\", \"a2_rtpa\": \"None\", \"a2_proj_scope_summary\": \"Panorama City Elementary School, in the heart of the City\\u2019s San Fernando Valley, ranks 41st of the City\\u2019s 835 schools within the Los Angeles Unified School District (LAUSD) with the greatest need for a SRTS project. \\r\\rThe project will create continuous, n\", \"a1_imp_agcy_fed_ma_num\": \"07-5006F15\", \"a1_imp_agcy_ma\": \"Yes\", \"a1_imp_agcy_state_ma_num\": \"07-00152S\", \"a1_imp_agcy_street\": \"100 S. Main Street, 9th Floor\", \"a1_imp_agcy_title\": \"Safe Routes to School Director\", \"a1_imp_agcy_zip\": 90012, \"a1_letter_of_intent\": null, \"a1_proj_partner_title\": null, \"a2_assem_dist_a\": 46.0, \"a2_assem_dist_b\": null, \"a2_assem_dist_c\": null, \"a2_congress_dist_a\": 29.0, \"a2_congress_dist_b\": null, \"a2_congress_dist_c\": null, \"a2_past_proj\": \"Yes                           \", \"a2_past_proj_qty\": 1, \"a2_proj_lat\": 34.226893, \"a2_proj_long\": -118.457186, \"a2_project_location_map\": null, \"a2_senate_dist_a\": 18.0, \"a2_senate_dist_b\": null, \"a2_senatedistc\": null, \"a3_plan_active_trans\": null, \"a3_plan_active_trans_exists\": \"No \", \"a3_plan_bicycle\": null, \"a3_plan_bicycle_exists\": \"Yes\", \"a3_plan_ped\": null, \"a3_plan_ped_exists\": \"No \", \"a3_plan_srts\": null, \"a3_plan_srts_exists\": \"Yes\", \"a3_proj_type\": null, \"a3_st_bicycle_applies\": \"Yes\", \"a3_st_bicycle_pct\": 58.0, \"a3_st_num_schools\": 1, \"a3_st_ped_applies\": \"Yes\", \"a3_st_ped_pct\": 42, \"a3_st_srts\": \"Yes\", \"a3_trail_elig_cost\": 0.0, \"a3_trail_fed_funding\": null, \"a3_trail_trans_pct\": null, \"a3_trails\": null, \"agency_app_num\": null, \"app_pk\": null, \"attch_addtl_attachments\": null, \"attch_app_sig_page\": null, \"attch_conditions_photos\": null, \"attch_conditions_project_map\": null, \"attch_engineeers_checklist\": null, \"attch_exhibit22_plan\": null, \"attch_letters_of_support\": null, \"attch_link\": null, \"attch_ni_workplan\": null, \"attch_project_estimate\": null, \"completed_pdf_form\": null, \"main_datetime_stamp\": \"\", \"a3_plan_none\": \"0\", \"a3_plan_other\": \"0\", \"a3_plan_other_desc\": \"Mobility Plan 2035, Vision Zero LA, Green New Deal LA\", \"a2_output_outcome\": \"23 curb extensions, 6 median extensions, 2 traffic circles, 1,845 feet of new sidewalk, 1 Rectangular Rapid Flashing Beacon, 7 bus bulbs with protected bicycle lanes and other innovative bicycle facilities to comprehensively improve safety\", \"a3_current_plan\": \"Yes\", \"b_sig_inter_new_bike_boxes\": 1.0, \"b_class_1\": 584.0, \"b_class_2\": 3700.0, \"b_class_3\": 12172.0, \"b_class_4\": null, \"a4_bike_gap_pct\": null, \"b_light_intersection\": null, \"b_mid_block_new_rrfb_signal\": null, \"b_mid_block_surf_improv\": null, \"b_bsp_new_bikes\": null, \"b_bike_new_secured_lockers\": null, \"b_bike_new_racks\": null, \"b_bsp_new_station\": null, \"b_other_bike_improv_1\": \"Bicycle Loop Detector\", \"b_other_bike_improv_qty_1\": 1.0, \"b_other_bike_improv_2\": \"Bus Bulbs with Class I Bicycle Lanes\", \"b_other_bike_improv_qty_2\": 7.0, \"b_light_rdwy_seg\": null, \"b_sig_inter_timing_improv\": null, \"b_un_sig_new_rrfb_signal\": null, \"b_un_sig_cross_surf_improv\": null, \"a4_easement_support\": null, \"m_cls_1_trails_widen_recon_exist\": null, \"m_cls_1_trails_new__less_than_9\": null, \"m_cls_1_trails_new_over_9\": null, \"m_non_cls_trails_new\": null, \"m_other_trail_imprv_1\": null, \"m_other_trail_improv_qty_1\": null, \"m_other_trail_imprv_2\": null, \"m_other_trail_improv_qty_2\": null, \"m_non_cls_widen_recon_exist\": null, \"p_amenities_bench\": null, \"a4_ped_gap_pct\": 30.0, \"p_mid_block_cross_new_rrfb_signal\": null, \"p_light_intersection\": null, \"p_lighting_rdwy_seg\": null, \"p_mid_block_cross_surf_improv\": null, \"p_new_ada_ramp\": 7.0, \"p_sidewlks_new_barrier_protect\": null, \"p_sidewlks_new_4_to_8\": 1795.0, \"p_sidewlks_new_over_8\": null, \"p_other_ped_imprv_1\": \"Access Ped Signal-2, Lead Ped Intr-2\", \"p_other_ped_qty_1\": null, \"p_other_ped_imprv_2\": \"New Act Transportation Space \", \"p_other_ped_qty_2\": 6.0, \"p_reconstruct_ramp_to_ada_stand\": 8.0, \"p_sidewlks_reconstruct_enhance_exist\": 50.0, \"p_sig_inter_enhance_exist_crosswlk\": null, \"p_sig_inter_new_crosswlk\": 3.0, \"p_sig_inter_ped_heads\": null, \"p_sig_inter_shorten_cross\": 10.0, \"p_sig_inter_timing_improv\": null, \"p_amenities_trash_can\": null, \"p_amenities_shade_tree\": null, \"p_amenities_shade_tree_type\": null, \"p_un_sig_inter_new_traff_sig\": null, \"p_un_sig_inter_new_roundabout\": null, \"p_un_sig_inter_new_rrfb_sig\": 1.0, \"p_un_sig_inter_shorten_cross\": 13.0, \"p_un_sig_inter_cross_surface_improv\": 4.0, \"p_sidewlks_widen_existing\": null, \"a4_row_100\": null, \"a4_row_gov_ease\": null, \"a4_row_private_ease\": null, \"v_other_traffic_calming_imprv_1\": \"15 MPH School Zone Signs\", \"v_speed_feedback_signs\": null, \"v_other_traffic_calming_qty_1\": 2.0, \"v_other_traffic_calming_imprv_2\": \"Speed Humps-6, Traffic Circles-2\", \"v_other_traffic_calming_qty_2\": null, \"v_remove_right_turn_pocket\": null, \"v_remove_travel_ln\": null, \"v_sig_inter_new_roundabout\": null, \"v_sig_inter_timing_improv\": null, \"v_un_sig_inter_new_traf_sig\": null, \"v_un_sig_inter_new_roundabout\": null, \"app_fk\": null, \"details_datetime_stamp\": \"\", \"a4_reg_init\": \"N\", \"a4_reg_init_pct\": 0, \"a4_com_init\": \"N\", \"a4_com_init_pct\": 0, \"a4_safe_route\": \"N\", \"a4_safe_route_pct\": 0, \"a4_fl_mile\": \"N\", \"a4_fl_mile_pct\": 0, \"a4_emp_based\": null, \"a4_emp_based_pct\": 0.0, \"a4_other_ni\": \"N\", \"a4_other_ni_descr\": null, \"a4_other_ni_pct\": 0, \"a4_wb_audits\": 0.0, \"a4_bike_classes\": 0.0, \"a4_ped_classes\": 0.0, \"a4_demo_events\": 0.0, \"a4_com_enc\": 0.0, \"a4_le_methods\": 0.0, \"a4_com_meetings\": 0.0, \"a4_classrooms\": 0.0, \"a4_school_assem\": 0.0, \"a4_after_school\": 0.0, \"a4_bike_rodeos\": 0.0, \"a4_mock_cities\": 0.0, \"a4_walk_bus\": 0.0, \"a4_bike_train\": 0.0, \"a4_com_challenges\": 0.0, \"a4_srts_enc\": 0.0, \"a4_srts_le\": 0.0, \"a4_srts_training\": 0.0, \"a4_act_other_1\": 0.0, \"a4_act_other_1_descr\": null, \"a4_act_other_2\": 0.0, \"a4_act_other_2_decr\": null, \"a4_comm_trad_media\": \"N\", \"a4_comm_large_media\": \"N\", \"a4_comm_print\": \"N\", \"a4_comm_social\": \"N\", \"a4_comm_web\": \"N\", \"a4_comm_other\": \"N\", \"a4_comm_other_descr\": null, \"a4_comm_language\": null, \"a4_collab_pub_health\": \"N\", \"a4_collab_le\": \"N\", \"a4_collab_non_profit\": \"N\", \"a4_collab_schools\": \"N\", \"a4_collab_pub_works\": \"N\", \"a4_collab_other\": \"N\", \"a4_colab_other_descr\": null, \"a4_plan_ped\": \"N\", \"a4_plan_bike\": \"N\", \"a4_plan_atp\": \"N\", \"a4_plan_school_routes\": \"N\", \"a4_row_open_street_demo\": \"No\", \"atp_id_x\": \"ATP5-07-043S\", \"a3_proj_type_x\": \"Infrastructure - Medium\", \"agency_fully_own_r_w\": \"X\", \"require_r_w_easement,_from_gov\": null, \"_require_rw_easement_from_private\": null, \"atp_id_y\": \"ATP5-7-043S\", \"ppno1\": null, \"oversight_id\": \"Standard\", \"a3_proj_type_y\": \"Infrastructure\", \"Total Project Cost\": 6832000.0, \"original_prog__amt___pa_ed_\": 756000.0, \"orig__prog__year__pa_ed_\": \"21/22\", \"original_prog__amt___ps_e_\": 329000.0, \"orig__prog__year__ps_e_\": \"23/24\", \"original_prog__amt___rw_\": null, \"orig__prog__year__rw_\": null, \"orignal_prog__amt___con_\": 5064000.0, \"orig__prog__year__con_\": \"24/25\", \"original_prog__amt___con_ni_\": null, \"orig__prog__year__con_ni_\": null, \"total\": 6149000.0, \"_2122_pa_ed\": 756000.0, \"_2122_ps_e\": null, \"_2122_rw\": null, \"_2122_con\": null, \"_2122_con_ni\": null, \"_2122_total\": 756000.0, \"fund_year_1\": \"21/22\", \"_2223_pa_ed\": null, \"_2223_ps_e\": null, \"_2223_rw\": null, \"_2223_con\": null, \"_2223_con_ni\": null, \"_2223_total\": 0.0, \"fund_year_2\": \"22/23\", \"_2324_pa_ed\": null, \"_2324_ps_e\": 329000.0, \"_2324_rw\": null, \"_2324_con\": null, \"_2324_con_ni\": null, \"_2324_total\": 329000.0, \"fund_year_3\": \"23/24\", \"_2425_pa_ed\": null, \"_2425_ps_e\": null, \"_2425_rw\": null, \"_2425_con\": 5064000.0, \"_2425_con_ni\": null, \"_2425_total\": 5064000.0, \"fund_year_4\": \"24/25\", \"Total ATP Funds\": 6149000.0, \"match_total_atp_$_and_total\": \"YES\", \"match_total_atp_$_and_total_atp_x_1000\": \"YES\", \"paed\": 756.0, \"ps_e_\": 329.0, \"rw\": 0.0, \"con\": 5064.0, \"con_ni\": 0.0, \"total_atp__000s_\": 6149.0, \"total_atp_x_1000\": 6149000.0, \"year__pa_ed_\": \"21/22\", \"year__ps_e_\": \"23/24\", \"year__rw_\": null, \"year__con_\": \"24/25\", \"year__con_ni_\": null, \"Implemeting Agency Name\": \"City of Los Angeles\"}, {\"Project ID\": \"7-Long Beach, City of-1\", \"project_cycle\": 5, \"a1_locode\": 5108.0, \"#\": null, \"atp_id\": null, \"awarded\": \"Y\", \"ppno\": \"5865A\", \"ppno_1\": \"5865B\", \"data_origin\": \"Funded\", \"geometry\": null, \"project_status\": \"Active\", \"solicitation_abv\": \"S\", \"solicitation\": \"STATEWIDE SOLICITATION-CYCLE 5\", \"soliciting_agency\": \"CALTRANS\", \"project_size\": \"Large\", \"a1_imp_agcy_city\": \"Long Beach\", \"a1_imp_agcy_name\": \"Long Beach, City of\", \"a1_proj_partner_agcy\": null, \"a1_proj_partner_exists\": \"No \", \"assembly_district\": 70, \"congressional_district\": 47, \"senate_district\": 33, \"County\": \"Los Angeles\", \"a2_ct_dist\": 7, \"a2_info_proj_descr\": \"Transform Downtown Long Beach into a pedestrian priority area through the installation of 190 concrete curb extensions and pedestrian refuges with green infrastructure elements.\", \"a2_info_proj_loc\": \"Select intersections in Downtown Long Beach (bounded by Magnolia Ave to the west, Ocean Blvd to the south, 7th Street to the north, and Alamitos Ave to the east)\", \"Project Name\": \"Downtown Long Beach Walkable Corners\", \"a2_mop_uza_population\": \"Project is located within one of the ten large MPOs\", \"a2_mpo\": \"SCAG\", \"a2_rtpa\": \"None\", \"a2_proj_scope_summary\": \"Downtown Long Beach is home to over 32,000 residents, 13,000 employees, and welcomes 3.9 million visitors from around the Southern California region and beyond every year. Recent investments in the past decade, including a new Civic Center complex, mixed-\", \"a1_imp_agcy_fed_ma_num\": \"07-0097R\", \"a1_imp_agcy_ma\": \"Yes\", \"a1_imp_agcy_state_ma_num\": \"00305S\", \"a1_imp_agcy_street\": \"411 West Ocean Boulevard, 4th Floor\", \"a1_imp_agcy_title\": \"City Traffic Engineer\", \"a1_imp_agcy_zip\": 90802, \"a1_letter_of_intent\": null, \"a1_proj_partner_title\": null, \"a2_assem_dist_a\": 70.0, \"a2_assem_dist_b\": null, \"a2_assem_dist_c\": null, \"a2_congress_dist_a\": 47.0, \"a2_congress_dist_b\": null, \"a2_congress_dist_c\": null, \"a2_past_proj\": \"No                            \", \"a2_past_proj_qty\": 0, \"a2_proj_lat\": 33.770711, \"a2_proj_long\": -118.192332, \"a2_project_location_map\": null, \"a2_senate_dist_a\": 33.0, \"a2_senate_dist_b\": null, \"a2_senatedistc\": null, \"a3_plan_active_trans\": null, \"a3_plan_active_trans_exists\": \"No \", \"a3_plan_bicycle\": null, \"a3_plan_bicycle_exists\": \"Yes\", \"a3_plan_ped\": null, \"a3_plan_ped_exists\": \"Yes\", \"a3_plan_srts\": null, \"a3_plan_srts_exists\": \"No \", \"a3_proj_type\": null, \"a3_st_bicycle_applies\": \"No \", \"a3_st_bicycle_pct\": 0.0, \"a3_st_num_schools\": 0, \"a3_st_ped_applies\": \"Yes\", \"a3_st_ped_pct\": 100, \"a3_st_srts\": \"No \", \"a3_trail_elig_cost\": 0.0, \"a3_trail_fed_funding\": null, \"a3_trail_trans_pct\": null, \"a3_trails\": null, \"agency_app_num\": null, \"app_pk\": null, \"attch_addtl_attachments\": null, \"attch_app_sig_page\": null, \"attch_conditions_photos\": null, \"attch_conditions_project_map\": null, \"attch_engineeers_checklist\": null, \"attch_exhibit22_plan\": null, \"attch_letters_of_support\": null, \"attch_link\": null, \"attch_ni_workplan\": null, \"attch_project_estimate\": null, \"completed_pdf_form\": null, \"main_datetime_stamp\": \"\", \"a3_plan_none\": \"No\", \"a3_plan_other\": \"Yes\", \"a3_plan_other_desc\": \"Vision Zero Action Plan\", \"a2_output_outcome\": \"Transform Downtown Long Beach into a pedestrian priority area through the installation of 171 concrete curb extensions and 19 pedestrian refuges with green infrastructure elements.\", \"a3_current_plan\": \"Yes\", \"b_sig_inter_new_bike_boxes\": null, \"b_class_1\": null, \"b_class_2\": null, \"b_class_3\": null, \"b_class_4\": null, \"a4_bike_gap_pct\": null, \"b_light_intersection\": null, \"b_mid_block_new_rrfb_signal\": null, \"b_mid_block_surf_improv\": null, \"b_bsp_new_bikes\": null, \"b_bike_new_secured_lockers\": null, \"b_bike_new_racks\": null, \"b_bsp_new_station\": null, \"b_other_bike_improv_1\": null, \"b_other_bike_improv_qty_1\": null, \"b_other_bike_improv_2\": null, \"b_other_bike_improv_qty_2\": null, \"b_light_rdwy_seg\": null, \"b_sig_inter_timing_improv\": null, \"b_un_sig_new_rrfb_signal\": null, \"b_un_sig_cross_surf_improv\": null, \"a4_easement_support\": null, \"m_cls_1_trails_widen_recon_exist\": null, \"m_cls_1_trails_new__less_than_9\": null, \"m_cls_1_trails_new_over_9\": null, \"m_non_cls_trails_new\": null, \"m_other_trail_imprv_1\": null, \"m_other_trail_improv_qty_1\": null, \"m_other_trail_imprv_2\": null, \"m_other_trail_improv_qty_2\": null, \"m_non_cls_widen_recon_exist\": null, \"p_amenities_bench\": null, \"a4_ped_gap_pct\": null, \"p_mid_block_cross_new_rrfb_signal\": null, \"p_light_intersection\": null, \"p_lighting_rdwy_seg\": null, \"p_mid_block_cross_surf_improv\": null, \"p_new_ada_ramp\": 220.0, \"p_sidewlks_new_barrier_protect\": null, \"p_sidewlks_new_4_to_8\": null, \"p_sidewlks_new_over_8\": null, \"p_other_ped_imprv_1\": \"Pedestrian Refuges\", \"p_other_ped_qty_1\": 19.0, \"p_other_ped_imprv_2\": \"Bulb outs\", \"p_other_ped_qty_2\": 171.0, \"p_reconstruct_ramp_to_ada_stand\": null, \"p_sidewlks_reconstruct_enhance_exist\": null, \"p_sig_inter_enhance_exist_crosswlk\": null, \"p_sig_inter_new_crosswlk\": null, \"p_sig_inter_ped_heads\": null, \"p_sig_inter_shorten_cross\": 134.0, \"p_sig_inter_timing_improv\": null, \"p_amenities_trash_can\": null, \"p_amenities_shade_tree\": 90.0, \"p_amenities_shade_tree_type\": \"Determined in outreach\", \"p_un_sig_inter_new_traff_sig\": null, \"p_un_sig_inter_new_roundabout\": null, \"p_un_sig_inter_new_rrfb_sig\": null, \"p_un_sig_inter_shorten_cross\": 14.0, \"p_un_sig_inter_cross_surface_improv\": null, \"p_sidewlks_widen_existing\": null, \"a4_row_100\": null, \"a4_row_gov_ease\": null, \"a4_row_private_ease\": null, \"v_other_traffic_calming_imprv_1\": null, \"v_speed_feedback_signs\": null, \"v_other_traffic_calming_qty_1\": null, \"v_other_traffic_calming_imprv_2\": null, \"v_other_traffic_calming_qty_2\": null, \"v_remove_right_turn_pocket\": null, \"v_remove_travel_ln\": null, \"v_sig_inter_new_roundabout\": null, \"v_sig_inter_timing_improv\": null, \"v_un_sig_inter_new_traf_sig\": null, \"v_un_sig_inter_new_roundabout\": null, \"app_fk\": null, \"details_datetime_stamp\": \"\", \"a4_reg_init\": \"N\", \"a4_reg_init_pct\": 0, \"a4_com_init\": \"Y\", \"a4_com_init_pct\": 100, \"a4_safe_route\": \"N\", \"a4_safe_route_pct\": 0, \"a4_fl_mile\": \"N\", \"a4_fl_mile_pct\": 0, \"a4_emp_based\": null, \"a4_emp_based_pct\": 0.0, \"a4_other_ni\": \"N\", \"a4_other_ni_descr\": null, \"a4_other_ni_pct\": 0, \"a4_wb_audits\": 8.0, \"a4_bike_classes\": 0.0, \"a4_ped_classes\": 14.0, \"a4_demo_events\": 12.0, \"a4_com_enc\": 6.0, \"a4_le_methods\": 0.0, \"a4_com_meetings\": 0.0, \"a4_classrooms\": 0.0, \"a4_school_assem\": 0.0, \"a4_after_school\": 0.0, \"a4_bike_rodeos\": 0.0, \"a4_mock_cities\": 0.0, \"a4_walk_bus\": 0.0, \"a4_bike_train\": 0.0, \"a4_com_challenges\": 4.0, \"a4_srts_enc\": 0.0, \"a4_srts_le\": 0.0, \"a4_srts_training\": 0.0, \"a4_act_other_1\": 12.0, \"a4_act_other_1_descr\": \"brief pedestrian and bicycle safety video clips/animation\", \"a4_act_other_2\": 0.0, \"a4_act_other_2_decr\": null, \"a4_comm_trad_media\": \"Y\", \"a4_comm_large_media\": \"N\", \"a4_comm_print\": \"Y\", \"a4_comm_social\": \"Y\", \"a4_comm_web\": \"N\", \"a4_comm_other\": \"N\", \"a4_comm_other_descr\": null, \"a4_comm_language\": \"Spanish, Khmer, Tagalog\", \"a4_collab_pub_health\": \"Y\", \"a4_collab_le\": \"N\", \"a4_collab_non_profit\": \"Y\", \"a4_collab_schools\": \"Y\", \"a4_collab_pub_works\": \"Y\", \"a4_collab_other\": \"N\", \"a4_colab_other_descr\": null, \"a4_plan_ped\": \"N\", \"a4_plan_bike\": \"N\", \"a4_plan_atp\": \"N\", \"a4_plan_school_routes\": \"N\", \"a4_row_open_street_demo\": \"No\", \"atp_id_x\": \"ATP5-07-041S\", \"a3_proj_type_x\": \"Infrastructure + NI - Large\", \"agency_fully_own_r_w\": \"X\", \"require_r_w_easement,_from_gov\": null, \"_require_rw_easement_from_private\": null, \"atp_id_y\": \"ATP5-7-041S\", \"ppno1\": \"5865B\", \"oversight_id\": \"Standard\", \"a3_proj_type_y\": \"Combined (IF and NI)\", \"Total Project Cost\": 8771000.0, \"original_prog__amt___pa_ed_\": 225000.0, \"orig__prog__year__pa_ed_\": \"21/22\", \"original_prog__amt___ps_e_\": 450000.0, \"orig__prog__year__ps_e_\": \"22/23\", \"original_prog__amt___rw_\": null, \"orig__prog__year__rw_\": null, \"orignal_prog__amt___con_\": 6675000.0, \"orig__prog__year__con_\": \"24/25\", \"original_prog__amt___con_ni_\": 543000.0, \"orig__prog__year__con_ni_\": \"21/22\", \"total\": 7893000.0, \"_2122_pa_ed\": 225000.0, \"_2122_ps_e\": null, \"_2122_rw\": null, \"_2122_con\": null, \"_2122_con_ni\": 543000.0, \"_2122_total\": 768000.0, \"fund_year_1\": \"21/22\", \"_2223_pa_ed\": null, \"_2223_ps_e\": 450000.0, \"_2223_rw\": null, \"_2223_con\": null, \"_2223_con_ni\": null, \"_2223_total\": 450000.0, \"fund_year_2\": \"22/23\", \"_2324_pa_ed\": null, \"_2324_ps_e\": null, \"_2324_rw\": null, \"_2324_con\": null, \"_2324_con_ni\": null, \"_2324_total\": 0.0, \"fund_year_3\": \"23/24\", \"_2425_pa_ed\": null, \"_2425_ps_e\": null, \"_2425_rw\": null, \"_2425_con\": 6675000.0, \"_2425_con_ni\": null, \"_2425_total\": 6675000.0, \"fund_year_4\": \"24/25\", \"Total ATP Funds\": 7893000.0, \"match_total_atp_$_and_total\": \"YES\", \"match_total_atp_$_and_total_atp_x_1000\": \"YES\", \"paed\": 225.0, \"ps_e_\": 450.0, \"rw\": 0.0, \"con\": 6675.0, \"con_ni\": 543.0, \"total_atp__000s_\": 7893.0, \"total_atp_x_1000\": 7893000.0, \"year__pa_ed_\": \"21/22\", \"year__ps_e_\": \"22/23\", \"year__rw_\": null, \"year__con_\": \"24/25\", \"year__con_ni_\": \"21/22\", \"Implemeting Agency Name\": \"City of Long Beach\"}, {\"Project ID\": \"7-Ventura County-2\", \"project_cycle\": 5, \"a1_locode\": 5952.0, \"#\": null, \"atp_id\": null, \"awarded\": \"Y\", \"ppno\": 5863, \"ppno_1\": null, \"data_origin\": \"Funded\", \"geometry\": null, \"project_status\": \"Active\", \"solicitation_abv\": \"S\", \"solicitation\": \"STATEWIDE SOLICITATION-CYCLE 5\", \"soliciting_agency\": \"CALTRANS\", \"project_size\": \"Medium\", \"a1_imp_agcy_city\": \"Ventura\", \"a1_imp_agcy_name\": \"Ventura County\", \"a1_proj_partner_agcy\": null, \"a1_proj_partner_exists\": \"No \", \"assembly_district\": 44, \"congressional_district\": 26, \"senate_district\": 19, \"County\": \"Ventura\", \"a2_ct_dist\": 7, \"a2_info_proj_descr\": \"Install sidewalks, curbs, gutters, water-retention areas, curb extensions, RRFBs, and intersection improvements, for SRTS and a disadvantaged community.\", \"a2_info_proj_loc\": \"Stroube Street from Vineyard Avenue to Rose Avenue, Walnut Street from Vineyard Avenue to Rose Avenue, and Cortez Street from Stroube Street to the Rio Plaza Elementary School.\", \"Project Name\": \"El Rio Pedestrian Improvement and Safe Route to School Project\", \"a2_mop_uza_population\": \"Project is located within one of the ten large MPOs\", \"a2_mpo\": \"SCAG\", \"a2_rtpa\": \"None\", \"a2_proj_scope_summary\": \"The project is to install pedestrian improvements such as sidewalk, curbs, gutters, ADA ramps, crosswalks, signage and other infrastructure elements to improve safety for pedestrians to walk around the community and for children to get to school safely. T\", \"a1_imp_agcy_fed_ma_num\": \"07-5952R\", \"a1_imp_agcy_ma\": \"Yes\", \"a1_imp_agcy_state_ma_num\": null, \"a1_imp_agcy_street\": \"800 South Victoria Avenue\", \"a1_imp_agcy_title\": \"Engineering Manager III\", \"a1_imp_agcy_zip\": 93009, \"a1_letter_of_intent\": null, \"a1_proj_partner_title\": null, \"a2_assem_dist_a\": 44.0, \"a2_assem_dist_b\": null, \"a2_assem_dist_c\": null, \"a2_congress_dist_a\": 26.0, \"a2_congress_dist_b\": null, \"a2_congress_dist_c\": null, \"a2_past_proj\": \"Yes                           \", \"a2_past_proj_qty\": 6, \"a2_proj_lat\": 34.23514, \"a2_proj_long\": -119.162905, \"a2_project_location_map\": null, \"a2_senate_dist_a\": 19.0, \"a2_senate_dist_b\": null, \"a2_senatedistc\": null, \"a3_plan_active_trans\": null, \"a3_plan_active_trans_exists\": \"No \", \"a3_plan_bicycle\": null, \"a3_plan_bicycle_exists\": \"No \", \"a3_plan_ped\": null, \"a3_plan_ped_exists\": \"No \", \"a3_plan_srts\": null, \"a3_plan_srts_exists\": \"Yes\", \"a3_proj_type\": null, \"a3_st_bicycle_applies\": \"No \", \"a3_st_bicycle_pct\": 0.0, \"a3_st_num_schools\": 4, \"a3_st_ped_applies\": \"Yes\", \"a3_st_ped_pct\": 100, \"a3_st_srts\": \"Yes\", \"a3_trail_elig_cost\": 0.0, \"a3_trail_fed_funding\": null, \"a3_trail_trans_pct\": null, \"a3_trails\": null, \"agency_app_num\": null, \"app_pk\": null, \"attch_addtl_attachments\": null, \"attch_app_sig_page\": null, \"attch_conditions_photos\": null, \"attch_conditions_project_map\": null, \"attch_engineeers_checklist\": null, \"attch_exhibit22_plan\": null, \"attch_letters_of_support\": null, \"attch_link\": null, \"attch_ni_workplan\": null, \"attch_project_estimate\": null, \"completed_pdf_form\": null, \"main_datetime_stamp\": \"\", \"a3_plan_none\": \"No\", \"a3_plan_other\": \"No\", \"a3_plan_other_desc\": null, \"a2_output_outcome\": \"Constructing Sidewalks and crosswalk improvements will provide safety for pedestrians and school children. Curbs and gutters will provide a physical barrier between pedestrians and motorist while eliminating mud that pedestrians need to trek through. \", \"a3_current_plan\": \"Yes\", \"b_sig_inter_new_bike_boxes\": null, \"b_class_1\": null, \"b_class_2\": null, \"b_class_3\": null, \"b_class_4\": null, \"a4_bike_gap_pct\": null, \"b_light_intersection\": null, \"b_mid_block_new_rrfb_signal\": null, \"b_mid_block_surf_improv\": null, \"b_bsp_new_bikes\": null, \"b_bike_new_secured_lockers\": null, \"b_bike_new_racks\": null, \"b_bsp_new_station\": null, \"b_other_bike_improv_1\": null, \"b_other_bike_improv_qty_1\": null, \"b_other_bike_improv_2\": null, \"b_other_bike_improv_qty_2\": null, \"b_light_rdwy_seg\": null, \"b_sig_inter_timing_improv\": null, \"b_un_sig_new_rrfb_signal\": null, \"b_un_sig_cross_surf_improv\": null, \"a4_easement_support\": null, \"m_cls_1_trails_widen_recon_exist\": null, \"m_cls_1_trails_new__less_than_9\": null, \"m_cls_1_trails_new_over_9\": null, \"m_non_cls_trails_new\": null, \"m_other_trail_imprv_1\": null, \"m_other_trail_improv_qty_1\": null, \"m_other_trail_imprv_2\": null, \"m_other_trail_improv_qty_2\": null, \"m_non_cls_widen_recon_exist\": null, \"p_amenities_bench\": null, \"a4_ped_gap_pct\": 100.0, \"p_mid_block_cross_new_rrfb_signal\": null, \"p_light_intersection\": null, \"p_lighting_rdwy_seg\": null, \"p_mid_block_cross_surf_improv\": null, \"p_new_ada_ramp\": 66.0, \"p_sidewlks_new_barrier_protect\": null, \"p_sidewlks_new_4_to_8\": 22688.0, \"p_sidewlks_new_over_8\": null, \"p_other_ped_imprv_1\": null, \"p_other_ped_qty_1\": null, \"p_other_ped_imprv_2\": null, \"p_other_ped_qty_2\": null, \"p_reconstruct_ramp_to_ada_stand\": 2.0, \"p_sidewlks_reconstruct_enhance_exist\": null, \"p_sig_inter_enhance_exist_crosswlk\": null, \"p_sig_inter_new_crosswlk\": null, \"p_sig_inter_ped_heads\": null, \"p_sig_inter_shorten_cross\": null, \"p_sig_inter_timing_improv\": null, \"p_amenities_trash_can\": null, \"p_amenities_shade_tree\": null, \"p_amenities_shade_tree_type\": null, \"p_un_sig_inter_new_traff_sig\": null, \"p_un_sig_inter_new_roundabout\": null, \"p_un_sig_inter_new_rrfb_sig\": 4.0, \"p_un_sig_inter_shorten_cross\": 5.0, \"p_un_sig_inter_cross_surface_improv\": null, \"p_sidewlks_widen_existing\": null, \"a4_row_100\": null, \"a4_row_gov_ease\": null, \"a4_row_private_ease\": null, \"v_other_traffic_calming_imprv_1\": \"Curb-Extensions (Bulb-out) \", \"v_speed_feedback_signs\": null, \"v_other_traffic_calming_qty_1\": 5.0, \"v_other_traffic_calming_imprv_2\": null, \"v_other_traffic_calming_qty_2\": null, \"v_remove_right_turn_pocket\": null, \"v_remove_travel_ln\": null, \"v_sig_inter_new_roundabout\": null, \"v_sig_inter_timing_improv\": null, \"v_un_sig_inter_new_traf_sig\": null, \"v_un_sig_inter_new_roundabout\": null, \"app_fk\": null, \"details_datetime_stamp\": \"\", \"a4_reg_init\": \"N\", \"a4_reg_init_pct\": 0, \"a4_com_init\": \"N\", \"a4_com_init_pct\": 0, \"a4_safe_route\": \"N\", \"a4_safe_route_pct\": 0, \"a4_fl_mile\": \"N\", \"a4_fl_mile_pct\": 0, \"a4_emp_based\": null, \"a4_emp_based_pct\": 0.0, \"a4_other_ni\": \"N\", \"a4_other_ni_descr\": null, \"a4_other_ni_pct\": 0, \"a4_wb_audits\": 0.0, \"a4_bike_classes\": 0.0, \"a4_ped_classes\": 0.0, \"a4_demo_events\": 0.0, \"a4_com_enc\": 0.0, \"a4_le_methods\": 0.0, \"a4_com_meetings\": 0.0, \"a4_classrooms\": 0.0, \"a4_school_assem\": 0.0, \"a4_after_school\": 0.0, \"a4_bike_rodeos\": 0.0, \"a4_mock_cities\": 0.0, \"a4_walk_bus\": 0.0, \"a4_bike_train\": 0.0, \"a4_com_challenges\": 0.0, \"a4_srts_enc\": 0.0, \"a4_srts_le\": 0.0, \"a4_srts_training\": 0.0, \"a4_act_other_1\": 0.0, \"a4_act_other_1_descr\": null, \"a4_act_other_2\": 0.0, \"a4_act_other_2_decr\": null, \"a4_comm_trad_media\": \"N\", \"a4_comm_large_media\": \"N\", \"a4_comm_print\": \"N\", \"a4_comm_social\": \"N\", \"a4_comm_web\": \"N\", \"a4_comm_other\": \"N\", \"a4_comm_other_descr\": null, \"a4_comm_language\": null, \"a4_collab_pub_health\": \"N\", \"a4_collab_le\": \"N\", \"a4_collab_non_profit\": \"N\", \"a4_collab_schools\": \"N\", \"a4_collab_pub_works\": \"N\", \"a4_collab_other\": \"N\", \"a4_colab_other_descr\": null, \"a4_plan_ped\": \"N\", \"a4_plan_bike\": \"N\", \"a4_plan_atp\": \"N\", \"a4_plan_school_routes\": \"N\", \"a4_row_open_street_demo\": \"No\", \"atp_id_x\": \"ATP5-07-036S\", \"a3_proj_type_x\": \"Infrastructure - Medium\", \"agency_fully_own_r_w\": null, \"require_r_w_easement,_from_gov\": null, \"_require_rw_easement_from_private\": \"X\", \"atp_id_y\": \"ATP5-7-036S\", \"ppno1\": null, \"oversight_id\": \"Standard\", \"a3_proj_type_y\": \"Infrastructure\", \"Total Project Cost\": 6960000.0, \"original_prog__amt___pa_ed_\": 222000.0, \"orig__prog__year__pa_ed_\": \"21/22\", \"original_prog__amt___ps_e_\": 884000.0, \"orig__prog__year__ps_e_\": \"22/23\", \"original_prog__amt___rw_\": null, \"orig__prog__year__rw_\": null, \"orignal_prog__amt___con_\": 5089000.0, \"orig__prog__year__con_\": \"23/24\", \"original_prog__amt___con_ni_\": null, \"orig__prog__year__con_ni_\": null, \"total\": 6195000.0, \"_2122_pa_ed\": 222000.0, \"_2122_ps_e\": null, \"_2122_rw\": null, \"_2122_con\": null, \"_2122_con_ni\": null, \"_2122_total\": 222000.0, \"fund_year_1\": \"21/22\", \"_2223_pa_ed\": null, \"_2223_ps_e\": 884000.0, \"_2223_rw\": null, \"_2223_con\": null, \"_2223_con_ni\": null, \"_2223_total\": 884000.0, \"fund_year_2\": \"22/23\", \"_2324_pa_ed\": null, \"_2324_ps_e\": null, \"_2324_rw\": null, \"_2324_con\": 5089000.0, \"_2324_con_ni\": null, \"_2324_total\": 5089000.0, \"fund_year_3\": \"23/24\", \"_2425_pa_ed\": null, \"_2425_ps_e\": null, \"_2425_rw\": null, \"_2425_con\": null, \"_2425_con_ni\": null, \"_2425_total\": 0.0, \"fund_year_4\": \"24/25\", \"Total ATP Funds\": 6195000.0, \"match_total_atp_$_and_total\": \"YES\", \"match_total_atp_$_and_total_atp_x_1000\": \"YES\", \"paed\": 222.0, \"ps_e_\": 884.0, \"rw\": 0.0, \"con\": 5089.0, \"con_ni\": 0.0, \"total_atp__000s_\": 6195.0, \"total_atp_x_1000\": 6195000.0, \"year__pa_ed_\": \"21/22\", \"year__ps_e_\": \"22/23\", \"year__rw_\": null, \"year__con_\": \"23/24\", \"year__con_ni_\": null, \"Implemeting Agency Name\": \"Ventura County\"}]}}, {\"mode\": \"vega-lite\"});\n",
       "</script>"
      ],
      "text/plain": [
       "alt.Chart(...)"
      ]
     },
     "metadata": {},
     "output_type": "display_data"
    },
    {
     "data": {
      "text/html": [
       "<h4>Funded Project Information</h4>"
      ],
      "text/plain": [
       "<IPython.core.display.HTML object>"
      ]
     },
     "metadata": {},
     "output_type": "display_data"
    },
    {
     "data": {
      "text/html": [
       "<style type=\"text/css\">\n",
       "#T_ea7e2_ th {\n",
       "  text-align: center;\n",
       "}\n",
       "#T_ea7e2_row0_col0, #T_ea7e2_row0_col1, #T_ea7e2_row0_col2, #T_ea7e2_row0_col3, #T_ea7e2_row0_col4, #T_ea7e2_row1_col0, #T_ea7e2_row1_col1, #T_ea7e2_row1_col2, #T_ea7e2_row1_col3, #T_ea7e2_row1_col4, #T_ea7e2_row2_col0, #T_ea7e2_row2_col1, #T_ea7e2_row2_col2, #T_ea7e2_row2_col3, #T_ea7e2_row2_col4, #T_ea7e2_row3_col0, #T_ea7e2_row3_col1, #T_ea7e2_row3_col2, #T_ea7e2_row3_col3, #T_ea7e2_row3_col4, #T_ea7e2_row4_col0, #T_ea7e2_row4_col1, #T_ea7e2_row4_col2, #T_ea7e2_row4_col3, #T_ea7e2_row4_col4, #T_ea7e2_row5_col0, #T_ea7e2_row5_col1, #T_ea7e2_row5_col2, #T_ea7e2_row5_col3, #T_ea7e2_row5_col4, #T_ea7e2_row6_col0, #T_ea7e2_row6_col1, #T_ea7e2_row6_col2, #T_ea7e2_row6_col3, #T_ea7e2_row6_col4, #T_ea7e2_row7_col0, #T_ea7e2_row7_col1, #T_ea7e2_row7_col2, #T_ea7e2_row7_col3, #T_ea7e2_row7_col4, #T_ea7e2_row8_col0, #T_ea7e2_row8_col1, #T_ea7e2_row8_col2, #T_ea7e2_row8_col3, #T_ea7e2_row8_col4, #T_ea7e2_row9_col0, #T_ea7e2_row9_col1, #T_ea7e2_row9_col2, #T_ea7e2_row9_col3, #T_ea7e2_row9_col4, #T_ea7e2_row10_col0, #T_ea7e2_row10_col1, #T_ea7e2_row10_col2, #T_ea7e2_row10_col3, #T_ea7e2_row10_col4 {\n",
       "  text-align: center;\n",
       "}\n",
       "</style>\n",
       "<table id=\"T_ea7e2_\">\n",
       "  <thead>\n",
       "    <tr>\n",
       "      <th class=\"col_heading level0 col0\" >Implemeting Agency Name</th>\n",
       "      <th class=\"col_heading level0 col1\" >Project Name</th>\n",
       "      <th class=\"col_heading level0 col2\" >County</th>\n",
       "      <th class=\"col_heading level0 col3\" >Total Atp Funds</th>\n",
       "      <th class=\"col_heading level0 col4\" >Total Project Cost</th>\n",
       "    </tr>\n",
       "  </thead>\n",
       "  <tbody>\n",
       "    <tr>\n",
       "      <td id=\"T_ea7e2_row0_col0\" class=\"data row0 col0\" >City of Bell Gardens</td>\n",
       "      <td id=\"T_ea7e2_row0_col1\" class=\"data row0 col1\" >Bell Gardens Complete Streets Improvements - Phase 1</td>\n",
       "      <td id=\"T_ea7e2_row0_col2\" class=\"data row0 col2\" >Los Angeles</td>\n",
       "      <td id=\"T_ea7e2_row0_col3\" class=\"data row0 col3\" >$ 6,499,000.00</td>\n",
       "      <td id=\"T_ea7e2_row0_col4\" class=\"data row0 col4\" >$ 6,999,000.00</td>\n",
       "    </tr>\n",
       "    <tr>\n",
       "      <td id=\"T_ea7e2_row1_col0\" class=\"data row1 col0\" >City of Maywood</td>\n",
       "      <td id=\"T_ea7e2_row1_col1\" class=\"data row1 col1\" >City of Maywood Active Transportation Plan</td>\n",
       "      <td id=\"T_ea7e2_row1_col2\" class=\"data row1 col2\" >Los Angeles</td>\n",
       "      <td id=\"T_ea7e2_row1_col3\" class=\"data row1 col3\" >$ 263,000.00</td>\n",
       "      <td id=\"T_ea7e2_row1_col4\" class=\"data row1 col4\" >$ 263,000.00</td>\n",
       "    </tr>\n",
       "    <tr>\n",
       "      <td id=\"T_ea7e2_row2_col0\" class=\"data row2 col0\" >City of Santa Monica</td>\n",
       "      <td id=\"T_ea7e2_row2_col1\" class=\"data row2 col1\" >Stewart-Pennsylvania Safety Enhancement Project</td>\n",
       "      <td id=\"T_ea7e2_row2_col2\" class=\"data row2 col2\" >Los Angeles</td>\n",
       "      <td id=\"T_ea7e2_row2_col3\" class=\"data row2 col3\" >$ 3,196,000.00</td>\n",
       "      <td id=\"T_ea7e2_row2_col4\" class=\"data row2 col4\" >$ 4,000,000.00</td>\n",
       "    </tr>\n",
       "    <tr>\n",
       "      <td id=\"T_ea7e2_row3_col0\" class=\"data row3 col0\" >City of Long Beach</td>\n",
       "      <td id=\"T_ea7e2_row3_col1\" class=\"data row3 col1\" >Pacific Avenue Cycle Track</td>\n",
       "      <td id=\"T_ea7e2_row3_col2\" class=\"data row3 col2\" >Los Angeles</td>\n",
       "      <td id=\"T_ea7e2_row3_col3\" class=\"data row3 col3\" >$ 7,498,000.00</td>\n",
       "      <td id=\"T_ea7e2_row3_col4\" class=\"data row3 col4\" >$ 8,332,000.00</td>\n",
       "    </tr>\n",
       "    <tr>\n",
       "      <td id=\"T_ea7e2_row4_col0\" class=\"data row4 col0\" >City of South El Monte</td>\n",
       "      <td id=\"T_ea7e2_row4_col1\" class=\"data row4 col1\" >South El Monte Safe Routes to School Pedestrian Safety Project</td>\n",
       "      <td id=\"T_ea7e2_row4_col2\" class=\"data row4 col2\" >Los Angeles</td>\n",
       "      <td id=\"T_ea7e2_row4_col3\" class=\"data row4 col3\" >$ 1,637,000.00</td>\n",
       "      <td id=\"T_ea7e2_row4_col4\" class=\"data row4 col4\" >$ 1,637,000.00</td>\n",
       "    </tr>\n",
       "    <tr>\n",
       "      <td id=\"T_ea7e2_row5_col0\" class=\"data row5 col0\" >City of Los Angeles</td>\n",
       "      <td id=\"T_ea7e2_row5_col1\" class=\"data row5 col1\" >Connecting Canoga Park Through Safety and Urban Cooling Improvements</td>\n",
       "      <td id=\"T_ea7e2_row5_col2\" class=\"data row5 col2\" >Los Angeles</td>\n",
       "      <td id=\"T_ea7e2_row5_col3\" class=\"data row5 col3\" >$ 30,731,000.00</td>\n",
       "      <td id=\"T_ea7e2_row5_col4\" class=\"data row5 col4\" >$ 38,655,000.00</td>\n",
       "    </tr>\n",
       "    <tr>\n",
       "      <td id=\"T_ea7e2_row6_col0\" class=\"data row6 col0\" >City of Los Angeles</td>\n",
       "      <td id=\"T_ea7e2_row6_col1\" class=\"data row6 col1\" >SRTS Carver Middle, Ascot Avenue and Harmony Elementary Schools Project</td>\n",
       "      <td id=\"T_ea7e2_row6_col2\" class=\"data row6 col2\" >Los Angeles</td>\n",
       "      <td id=\"T_ea7e2_row6_col3\" class=\"data row6 col3\" >$ 6,030,000.00</td>\n",
       "      <td id=\"T_ea7e2_row6_col4\" class=\"data row6 col4\" >$ 6,700,000.00</td>\n",
       "    </tr>\n",
       "    <tr>\n",
       "      <td id=\"T_ea7e2_row7_col0\" class=\"data row7 col0\" >City of Los Angeles</td>\n",
       "      <td id=\"T_ea7e2_row7_col1\" class=\"data row7 col1\" >SRTS Berendo Middle and 3 Feeder Elementary Schools Safety Project </td>\n",
       "      <td id=\"T_ea7e2_row7_col2\" class=\"data row7 col2\" >Los Angeles</td>\n",
       "      <td id=\"T_ea7e2_row7_col3\" class=\"data row7 col3\" >$ 9,951,000.00</td>\n",
       "      <td id=\"T_ea7e2_row7_col4\" class=\"data row7 col4\" >$ 11,057,000.00</td>\n",
       "    </tr>\n",
       "    <tr>\n",
       "      <td id=\"T_ea7e2_row8_col0\" class=\"data row8 col0\" >City of Los Angeles</td>\n",
       "      <td id=\"T_ea7e2_row8_col1\" class=\"data row8 col1\" >SRTS Panorama City Elementary School Project </td>\n",
       "      <td id=\"T_ea7e2_row8_col2\" class=\"data row8 col2\" >Los Angeles</td>\n",
       "      <td id=\"T_ea7e2_row8_col3\" class=\"data row8 col3\" >$ 6,149,000.00</td>\n",
       "      <td id=\"T_ea7e2_row8_col4\" class=\"data row8 col4\" >$ 6,832,000.00</td>\n",
       "    </tr>\n",
       "    <tr>\n",
       "      <td id=\"T_ea7e2_row9_col0\" class=\"data row9 col0\" >City of Long Beach</td>\n",
       "      <td id=\"T_ea7e2_row9_col1\" class=\"data row9 col1\" >Downtown Long Beach Walkable Corners</td>\n",
       "      <td id=\"T_ea7e2_row9_col2\" class=\"data row9 col2\" >Los Angeles</td>\n",
       "      <td id=\"T_ea7e2_row9_col3\" class=\"data row9 col3\" >$ 7,893,000.00</td>\n",
       "      <td id=\"T_ea7e2_row9_col4\" class=\"data row9 col4\" >$ 8,771,000.00</td>\n",
       "    </tr>\n",
       "    <tr>\n",
       "      <td id=\"T_ea7e2_row10_col0\" class=\"data row10 col0\" >Ventura County</td>\n",
       "      <td id=\"T_ea7e2_row10_col1\" class=\"data row10 col1\" >El Rio Pedestrian Improvement and Safe Route to School Project</td>\n",
       "      <td id=\"T_ea7e2_row10_col2\" class=\"data row10 col2\" >Ventura</td>\n",
       "      <td id=\"T_ea7e2_row10_col3\" class=\"data row10 col3\" >$ 6,195,000.00</td>\n",
       "      <td id=\"T_ea7e2_row10_col4\" class=\"data row10 col4\" >$ 6,960,000.00</td>\n",
       "    </tr>\n",
       "  </tbody>\n",
       "</table>\n"
      ],
      "text/plain": [
       "<IPython.core.display.HTML object>"
      ]
     },
     "metadata": {},
     "output_type": "display_data"
    },
    {
     "data": {
      "text/html": [
       "</br><h4> Success Rates for Agencies in District 7 </h4>"
      ],
      "text/plain": [
       "<IPython.core.display.HTML object>"
      ]
     },
     "metadata": {},
     "output_type": "display_data"
    },
    {
     "data": {
      "text/html": [
       "<style type=\"text/css\">\n",
       "#T_51e7e_ th {\n",
       "  text-align: center;\n",
       "}\n",
       "#T_51e7e_row0_col0, #T_51e7e_row0_col1, #T_51e7e_row0_col2, #T_51e7e_row1_col0, #T_51e7e_row1_col1, #T_51e7e_row1_col2, #T_51e7e_row2_col0, #T_51e7e_row2_col1, #T_51e7e_row2_col2, #T_51e7e_row3_col0, #T_51e7e_row3_col1, #T_51e7e_row3_col2, #T_51e7e_row4_col0, #T_51e7e_row4_col1, #T_51e7e_row4_col2, #T_51e7e_row5_col0, #T_51e7e_row5_col1, #T_51e7e_row5_col2, #T_51e7e_row6_col0, #T_51e7e_row6_col1, #T_51e7e_row6_col2, #T_51e7e_row7_col0, #T_51e7e_row7_col1, #T_51e7e_row7_col2, #T_51e7e_row8_col0, #T_51e7e_row8_col1, #T_51e7e_row8_col2, #T_51e7e_row9_col0, #T_51e7e_row9_col1, #T_51e7e_row9_col2, #T_51e7e_row10_col0, #T_51e7e_row10_col1, #T_51e7e_row10_col2, #T_51e7e_row11_col0, #T_51e7e_row11_col1, #T_51e7e_row11_col2, #T_51e7e_row12_col0, #T_51e7e_row12_col1, #T_51e7e_row12_col2, #T_51e7e_row13_col0, #T_51e7e_row13_col1, #T_51e7e_row13_col2, #T_51e7e_row14_col0, #T_51e7e_row14_col1, #T_51e7e_row14_col2, #T_51e7e_row15_col0, #T_51e7e_row15_col1, #T_51e7e_row15_col2, #T_51e7e_row16_col0, #T_51e7e_row16_col1, #T_51e7e_row16_col2, #T_51e7e_row17_col0, #T_51e7e_row17_col1, #T_51e7e_row17_col2, #T_51e7e_row18_col0, #T_51e7e_row18_col1, #T_51e7e_row18_col2, #T_51e7e_row19_col0, #T_51e7e_row19_col1, #T_51e7e_row19_col2, #T_51e7e_row20_col0, #T_51e7e_row20_col1, #T_51e7e_row20_col2, #T_51e7e_row21_col0, #T_51e7e_row21_col1, #T_51e7e_row21_col2, #T_51e7e_row22_col0, #T_51e7e_row22_col1, #T_51e7e_row22_col2, #T_51e7e_row23_col0, #T_51e7e_row23_col1, #T_51e7e_row23_col2, #T_51e7e_row24_col0, #T_51e7e_row24_col1, #T_51e7e_row24_col2, #T_51e7e_row25_col0, #T_51e7e_row25_col1, #T_51e7e_row25_col2, #T_51e7e_row26_col0, #T_51e7e_row26_col1, #T_51e7e_row26_col2, #T_51e7e_row27_col0, #T_51e7e_row27_col1, #T_51e7e_row27_col2, #T_51e7e_row28_col0, #T_51e7e_row28_col1, #T_51e7e_row28_col2, #T_51e7e_row29_col0, #T_51e7e_row29_col1, #T_51e7e_row29_col2, #T_51e7e_row30_col0, #T_51e7e_row30_col1, #T_51e7e_row30_col2, #T_51e7e_row31_col0, #T_51e7e_row31_col1, #T_51e7e_row31_col2, #T_51e7e_row32_col0, #T_51e7e_row32_col1, #T_51e7e_row32_col2, #T_51e7e_row33_col0, #T_51e7e_row33_col1, #T_51e7e_row33_col2, #T_51e7e_row34_col0, #T_51e7e_row34_col1, #T_51e7e_row34_col2, #T_51e7e_row35_col0, #T_51e7e_row35_col1, #T_51e7e_row35_col2, #T_51e7e_row36_col0, #T_51e7e_row36_col1, #T_51e7e_row36_col2, #T_51e7e_row37_col0, #T_51e7e_row37_col1, #T_51e7e_row37_col2, #T_51e7e_row38_col0, #T_51e7e_row38_col1, #T_51e7e_row38_col2 {\n",
       "  text-align: center;\n",
       "}\n",
       "</style>\n",
       "<table id=\"T_51e7e_\">\n",
       "  <thead>\n",
       "    <tr>\n",
       "      <th class=\"col_heading level0 col0\" >Implemeting Agency Name</th>\n",
       "      <th class=\"col_heading level0 col1\" >Total Applications</th>\n",
       "      <th class=\"col_heading level0 col2\" >Success Rate</th>\n",
       "    </tr>\n",
       "  </thead>\n",
       "  <tbody>\n",
       "    <tr>\n",
       "      <td id=\"T_51e7e_row0_col0\" class=\"data row0 col0\" >City of Los Angeles</td>\n",
       "      <td id=\"T_51e7e_row0_col1\" class=\"data row0 col1\" >12</td>\n",
       "      <td id=\"T_51e7e_row0_col2\" class=\"data row0 col2\" >33.33%</td>\n",
       "    </tr>\n",
       "    <tr>\n",
       "      <td id=\"T_51e7e_row1_col0\" class=\"data row1 col0\" >City of Long Beach</td>\n",
       "      <td id=\"T_51e7e_row1_col1\" class=\"data row1 col1\" >4</td>\n",
       "      <td id=\"T_51e7e_row1_col2\" class=\"data row1 col2\" >50.00%</td>\n",
       "    </tr>\n",
       "    <tr>\n",
       "      <td id=\"T_51e7e_row2_col0\" class=\"data row2 col0\" >City of Bell Gardens</td>\n",
       "      <td id=\"T_51e7e_row2_col1\" class=\"data row2 col1\" >1</td>\n",
       "      <td id=\"T_51e7e_row2_col2\" class=\"data row2 col2\" >100.00%</td>\n",
       "    </tr>\n",
       "    <tr>\n",
       "      <td id=\"T_51e7e_row3_col0\" class=\"data row3 col0\" >City of Maywood</td>\n",
       "      <td id=\"T_51e7e_row3_col1\" class=\"data row3 col1\" >1</td>\n",
       "      <td id=\"T_51e7e_row3_col2\" class=\"data row3 col2\" >100.00%</td>\n",
       "    </tr>\n",
       "    <tr>\n",
       "      <td id=\"T_51e7e_row4_col0\" class=\"data row4 col0\" >City of Santa Monica</td>\n",
       "      <td id=\"T_51e7e_row4_col1\" class=\"data row4 col1\" >2</td>\n",
       "      <td id=\"T_51e7e_row4_col2\" class=\"data row4 col2\" >50.00%</td>\n",
       "    </tr>\n",
       "    <tr>\n",
       "      <td id=\"T_51e7e_row5_col0\" class=\"data row5 col0\" >City of South El Monte</td>\n",
       "      <td id=\"T_51e7e_row5_col1\" class=\"data row5 col1\" >1</td>\n",
       "      <td id=\"T_51e7e_row5_col2\" class=\"data row5 col2\" >100.00%</td>\n",
       "    </tr>\n",
       "    <tr>\n",
       "      <td id=\"T_51e7e_row6_col0\" class=\"data row6 col0\" >Ventura County</td>\n",
       "      <td id=\"T_51e7e_row6_col1\" class=\"data row6 col1\" >3</td>\n",
       "      <td id=\"T_51e7e_row6_col2\" class=\"data row6 col2\" >33.33%</td>\n",
       "    </tr>\n",
       "    <tr>\n",
       "      <td id=\"T_51e7e_row7_col0\" class=\"data row7 col0\" >California Department of Transportation</td>\n",
       "      <td id=\"T_51e7e_row7_col1\" class=\"data row7 col1\" >1</td>\n",
       "      <td id=\"T_51e7e_row7_col2\" class=\"data row7 col2\" >0.00%</td>\n",
       "    </tr>\n",
       "    <tr>\n",
       "      <td id=\"T_51e7e_row8_col0\" class=\"data row8 col0\" >City of Alhambra</td>\n",
       "      <td id=\"T_51e7e_row8_col1\" class=\"data row8 col1\" >1</td>\n",
       "      <td id=\"T_51e7e_row8_col2\" class=\"data row8 col2\" >0.00%</td>\n",
       "    </tr>\n",
       "    <tr>\n",
       "      <td id=\"T_51e7e_row9_col0\" class=\"data row9 col0\" >City of Avalon</td>\n",
       "      <td id=\"T_51e7e_row9_col1\" class=\"data row9 col1\" >1</td>\n",
       "      <td id=\"T_51e7e_row9_col2\" class=\"data row9 col2\" >0.00%</td>\n",
       "    </tr>\n",
       "    <tr>\n",
       "      <td id=\"T_51e7e_row10_col0\" class=\"data row10 col0\" >City of Baldwin Park</td>\n",
       "      <td id=\"T_51e7e_row10_col1\" class=\"data row10 col1\" >1</td>\n",
       "      <td id=\"T_51e7e_row10_col2\" class=\"data row10 col2\" >0.00%</td>\n",
       "    </tr>\n",
       "    <tr>\n",
       "      <td id=\"T_51e7e_row11_col0\" class=\"data row11 col0\" >City of Burbank</td>\n",
       "      <td id=\"T_51e7e_row11_col1\" class=\"data row11 col1\" >1</td>\n",
       "      <td id=\"T_51e7e_row11_col2\" class=\"data row11 col2\" >0.00%</td>\n",
       "    </tr>\n",
       "    <tr>\n",
       "      <td id=\"T_51e7e_row12_col0\" class=\"data row12 col0\" >City of Camarillo</td>\n",
       "      <td id=\"T_51e7e_row12_col1\" class=\"data row12 col1\" >1</td>\n",
       "      <td id=\"T_51e7e_row12_col2\" class=\"data row12 col2\" >0.00%</td>\n",
       "    </tr>\n",
       "    <tr>\n",
       "      <td id=\"T_51e7e_row13_col0\" class=\"data row13 col0\" >City of Cerritos</td>\n",
       "      <td id=\"T_51e7e_row13_col1\" class=\"data row13 col1\" >2</td>\n",
       "      <td id=\"T_51e7e_row13_col2\" class=\"data row13 col2\" >0.00%</td>\n",
       "    </tr>\n",
       "    <tr>\n",
       "      <td id=\"T_51e7e_row14_col0\" class=\"data row14 col0\" >City of Commerce</td>\n",
       "      <td id=\"T_51e7e_row14_col1\" class=\"data row14 col1\" >1</td>\n",
       "      <td id=\"T_51e7e_row14_col2\" class=\"data row14 col2\" >0.00%</td>\n",
       "    </tr>\n",
       "    <tr>\n",
       "      <td id=\"T_51e7e_row15_col0\" class=\"data row15 col0\" >City of Covina</td>\n",
       "      <td id=\"T_51e7e_row15_col1\" class=\"data row15 col1\" >1</td>\n",
       "      <td id=\"T_51e7e_row15_col2\" class=\"data row15 col2\" >0.00%</td>\n",
       "    </tr>\n",
       "    <tr>\n",
       "      <td id=\"T_51e7e_row16_col0\" class=\"data row16 col0\" >City of Culver City</td>\n",
       "      <td id=\"T_51e7e_row16_col1\" class=\"data row16 col1\" >2</td>\n",
       "      <td id=\"T_51e7e_row16_col2\" class=\"data row16 col2\" >0.00%</td>\n",
       "    </tr>\n",
       "    <tr>\n",
       "      <td id=\"T_51e7e_row17_col0\" class=\"data row17 col0\" >City of Diamond Bar</td>\n",
       "      <td id=\"T_51e7e_row17_col1\" class=\"data row17 col1\" >1</td>\n",
       "      <td id=\"T_51e7e_row17_col2\" class=\"data row17 col2\" >0.00%</td>\n",
       "    </tr>\n",
       "    <tr>\n",
       "      <td id=\"T_51e7e_row18_col0\" class=\"data row18 col0\" >City of Duarte</td>\n",
       "      <td id=\"T_51e7e_row18_col1\" class=\"data row18 col1\" >1</td>\n",
       "      <td id=\"T_51e7e_row18_col2\" class=\"data row18 col2\" >0.00%</td>\n",
       "    </tr>\n",
       "    <tr>\n",
       "      <td id=\"T_51e7e_row19_col0\" class=\"data row19 col0\" >City of El Monte</td>\n",
       "      <td id=\"T_51e7e_row19_col1\" class=\"data row19 col1\" >1</td>\n",
       "      <td id=\"T_51e7e_row19_col2\" class=\"data row19 col2\" >0.00%</td>\n",
       "    </tr>\n",
       "    <tr>\n",
       "      <td id=\"T_51e7e_row20_col0\" class=\"data row20 col0\" >City of Glendale</td>\n",
       "      <td id=\"T_51e7e_row20_col1\" class=\"data row20 col1\" >1</td>\n",
       "      <td id=\"T_51e7e_row20_col2\" class=\"data row20 col2\" >0.00%</td>\n",
       "    </tr>\n",
       "    <tr>\n",
       "      <td id=\"T_51e7e_row21_col0\" class=\"data row21 col0\" >City of Glendora</td>\n",
       "      <td id=\"T_51e7e_row21_col1\" class=\"data row21 col1\" >2</td>\n",
       "      <td id=\"T_51e7e_row21_col2\" class=\"data row21 col2\" >0.00%</td>\n",
       "    </tr>\n",
       "    <tr>\n",
       "      <td id=\"T_51e7e_row22_col0\" class=\"data row22 col0\" >City of Hawaiian Gardens</td>\n",
       "      <td id=\"T_51e7e_row22_col1\" class=\"data row22 col1\" >1</td>\n",
       "      <td id=\"T_51e7e_row22_col2\" class=\"data row22 col2\" >0.00%</td>\n",
       "    </tr>\n",
       "    <tr>\n",
       "      <td id=\"T_51e7e_row23_col0\" class=\"data row23 col0\" >City of Huntington Park</td>\n",
       "      <td id=\"T_51e7e_row23_col1\" class=\"data row23 col1\" >1</td>\n",
       "      <td id=\"T_51e7e_row23_col2\" class=\"data row23 col2\" >0.00%</td>\n",
       "    </tr>\n",
       "    <tr>\n",
       "      <td id=\"T_51e7e_row24_col0\" class=\"data row24 col0\" >City of Lancaster</td>\n",
       "      <td id=\"T_51e7e_row24_col1\" class=\"data row24 col1\" >2</td>\n",
       "      <td id=\"T_51e7e_row24_col2\" class=\"data row24 col2\" >0.00%</td>\n",
       "    </tr>\n",
       "    <tr>\n",
       "      <td id=\"T_51e7e_row25_col0\" class=\"data row25 col0\" >City of Lynwood</td>\n",
       "      <td id=\"T_51e7e_row25_col1\" class=\"data row25 col1\" >2</td>\n",
       "      <td id=\"T_51e7e_row25_col2\" class=\"data row25 col2\" >0.00%</td>\n",
       "    </tr>\n",
       "    <tr>\n",
       "      <td id=\"T_51e7e_row26_col0\" class=\"data row26 col0\" >City of Manhattan Beach</td>\n",
       "      <td id=\"T_51e7e_row26_col1\" class=\"data row26 col1\" >4</td>\n",
       "      <td id=\"T_51e7e_row26_col2\" class=\"data row26 col2\" >0.00%</td>\n",
       "    </tr>\n",
       "    <tr>\n",
       "      <td id=\"T_51e7e_row27_col0\" class=\"data row27 col0\" >City of Oxnard</td>\n",
       "      <td id=\"T_51e7e_row27_col1\" class=\"data row27 col1\" >2</td>\n",
       "      <td id=\"T_51e7e_row27_col2\" class=\"data row27 col2\" >0.00%</td>\n",
       "    </tr>\n",
       "    <tr>\n",
       "      <td id=\"T_51e7e_row28_col0\" class=\"data row28 col0\" >City of Palmdale</td>\n",
       "      <td id=\"T_51e7e_row28_col1\" class=\"data row28 col1\" >1</td>\n",
       "      <td id=\"T_51e7e_row28_col2\" class=\"data row28 col2\" >0.00%</td>\n",
       "    </tr>\n",
       "    <tr>\n",
       "      <td id=\"T_51e7e_row29_col0\" class=\"data row29 col0\" >City of Paramount</td>\n",
       "      <td id=\"T_51e7e_row29_col1\" class=\"data row29 col1\" >1</td>\n",
       "      <td id=\"T_51e7e_row29_col2\" class=\"data row29 col2\" >0.00%</td>\n",
       "    </tr>\n",
       "    <tr>\n",
       "      <td id=\"T_51e7e_row30_col0\" class=\"data row30 col0\" >City of Pasadena</td>\n",
       "      <td id=\"T_51e7e_row30_col1\" class=\"data row30 col1\" >2</td>\n",
       "      <td id=\"T_51e7e_row30_col2\" class=\"data row30 col2\" >0.00%</td>\n",
       "    </tr>\n",
       "    <tr>\n",
       "      <td id=\"T_51e7e_row31_col0\" class=\"data row31 col0\" >City of Pico Rivera</td>\n",
       "      <td id=\"T_51e7e_row31_col1\" class=\"data row31 col1\" >1</td>\n",
       "      <td id=\"T_51e7e_row31_col2\" class=\"data row31 col2\" >0.00%</td>\n",
       "    </tr>\n",
       "    <tr>\n",
       "      <td id=\"T_51e7e_row32_col0\" class=\"data row32 col0\" >City of South Gate</td>\n",
       "      <td id=\"T_51e7e_row32_col1\" class=\"data row32 col1\" >2</td>\n",
       "      <td id=\"T_51e7e_row32_col2\" class=\"data row32 col2\" >0.00%</td>\n",
       "    </tr>\n",
       "    <tr>\n",
       "      <td id=\"T_51e7e_row33_col0\" class=\"data row33 col0\" >City of South Pasadena</td>\n",
       "      <td id=\"T_51e7e_row33_col1\" class=\"data row33 col1\" >1</td>\n",
       "      <td id=\"T_51e7e_row33_col2\" class=\"data row33 col2\" >0.00%</td>\n",
       "    </tr>\n",
       "    <tr>\n",
       "      <td id=\"T_51e7e_row34_col0\" class=\"data row34 col0\" >City of Ventura</td>\n",
       "      <td id=\"T_51e7e_row34_col1\" class=\"data row34 col1\" >1</td>\n",
       "      <td id=\"T_51e7e_row34_col2\" class=\"data row34 col2\" >0.00%</td>\n",
       "    </tr>\n",
       "    <tr>\n",
       "      <td id=\"T_51e7e_row35_col0\" class=\"data row35 col0\" >City of West Covina</td>\n",
       "      <td id=\"T_51e7e_row35_col1\" class=\"data row35 col1\" >1</td>\n",
       "      <td id=\"T_51e7e_row35_col2\" class=\"data row35 col2\" >0.00%</td>\n",
       "    </tr>\n",
       "    <tr>\n",
       "      <td id=\"T_51e7e_row36_col0\" class=\"data row36 col0\" >Los Angeles County</td>\n",
       "      <td id=\"T_51e7e_row36_col1\" class=\"data row36 col1\" >5</td>\n",
       "      <td id=\"T_51e7e_row36_col2\" class=\"data row36 col2\" >0.00%</td>\n",
       "    </tr>\n",
       "    <tr>\n",
       "      <td id=\"T_51e7e_row37_col0\" class=\"data row37 col0\" >San Gabriel Valley Council of Governments</td>\n",
       "      <td id=\"T_51e7e_row37_col1\" class=\"data row37 col1\" >1</td>\n",
       "      <td id=\"T_51e7e_row37_col2\" class=\"data row37 col2\" >0.00%</td>\n",
       "    </tr>\n",
       "    <tr>\n",
       "      <td id=\"T_51e7e_row38_col0\" class=\"data row38 col0\" >Southern California Association of Governments</td>\n",
       "      <td id=\"T_51e7e_row38_col1\" class=\"data row38 col1\" >1</td>\n",
       "      <td id=\"T_51e7e_row38_col2\" class=\"data row38 col2\" >0.00%</td>\n",
       "    </tr>\n",
       "  </tbody>\n",
       "</table>\n"
      ],
      "text/plain": [
       "<IPython.core.display.HTML object>"
      ]
     },
     "metadata": {},
     "output_type": "display_data"
    }
   ],
   "source": [
    "_report_utils.map_dist_proj(funded, df, 7)"
   ]
  },
  {
   "cell_type": "code",
   "execution_count": null,
   "id": "a51f5c09-51cb-4f77-aefd-ce32b3bbff08",
   "metadata": {},
   "outputs": [],
   "source": []
  },
  {
   "cell_type": "markdown",
   "id": "8f4688cf-e9d4-48c2-821a-a4853408f7c1",
   "metadata": {},
   "source": [
    "### District 8 - San Bernardino"
   ]
  },
  {
   "cell_type": "code",
   "execution_count": 42,
   "id": "563f3b0d-c503-4715-bee9-10646edb53d1",
   "metadata": {},
   "outputs": [
    {
     "data": {
      "text/html": [
       "\n",
       "<div id=\"altair-viz-2c8640d1846f4d4587165f5f8a269a79\"></div>\n",
       "<script type=\"text/javascript\">\n",
       "  var VEGA_DEBUG = (typeof VEGA_DEBUG == \"undefined\") ? {} : VEGA_DEBUG;\n",
       "  (function(spec, embedOpt){\n",
       "    let outputDiv = document.currentScript.previousElementSibling;\n",
       "    if (outputDiv.id !== \"altair-viz-2c8640d1846f4d4587165f5f8a269a79\") {\n",
       "      outputDiv = document.getElementById(\"altair-viz-2c8640d1846f4d4587165f5f8a269a79\");\n",
       "    }\n",
       "    const paths = {\n",
       "      \"vega\": \"https://cdn.jsdelivr.net/npm//vega@5?noext\",\n",
       "      \"vega-lib\": \"https://cdn.jsdelivr.net/npm//vega-lib?noext\",\n",
       "      \"vega-lite\": \"https://cdn.jsdelivr.net/npm//vega-lite@4.17.0?noext\",\n",
       "      \"vega-embed\": \"https://cdn.jsdelivr.net/npm//vega-embed@6?noext\",\n",
       "    };\n",
       "\n",
       "    function maybeLoadScript(lib, version) {\n",
       "      var key = `${lib.replace(\"-\", \"\")}_version`;\n",
       "      return (VEGA_DEBUG[key] == version) ?\n",
       "        Promise.resolve(paths[lib]) :\n",
       "        new Promise(function(resolve, reject) {\n",
       "          var s = document.createElement('script');\n",
       "          document.getElementsByTagName(\"head\")[0].appendChild(s);\n",
       "          s.async = true;\n",
       "          s.onload = () => {\n",
       "            VEGA_DEBUG[key] = version;\n",
       "            return resolve(paths[lib]);\n",
       "          };\n",
       "          s.onerror = () => reject(`Error loading script: ${paths[lib]}`);\n",
       "          s.src = paths[lib];\n",
       "        });\n",
       "    }\n",
       "\n",
       "    function showError(err) {\n",
       "      outputDiv.innerHTML = `<div class=\"error\" style=\"color:red;\">${err}</div>`;\n",
       "      throw err;\n",
       "    }\n",
       "\n",
       "    function displayChart(vegaEmbed) {\n",
       "      vegaEmbed(outputDiv, spec, embedOpt)\n",
       "        .catch(err => showError(`Javascript Error: ${err.message}<br>This usually means there's a typo in your chart specification. See the javascript console for the full traceback.`));\n",
       "    }\n",
       "\n",
       "    if(typeof define === \"function\" && define.amd) {\n",
       "      requirejs.config({paths});\n",
       "      require([\"vega-embed\"], displayChart, err => showError(`Error loading script: ${err.message}`));\n",
       "    } else {\n",
       "      maybeLoadScript(\"vega\", \"5\")\n",
       "        .then(() => maybeLoadScript(\"vega-lite\", \"4.17.0\"))\n",
       "        .then(() => maybeLoadScript(\"vega-embed\", \"6\"))\n",
       "        .catch(showError)\n",
       "        .then(() => displayChart(vegaEmbed));\n",
       "    }\n",
       "  })({\"config\": {\"view\": {\"continuousWidth\": 400, \"continuousHeight\": 300}}, \"data\": {\"name\": \"data-8a94bf934ca2c0bd021a0481b894a942\"}, \"mark\": \"bar\", \"encoding\": {\"color\": {\"field\": \"Project Name\", \"legend\": null, \"scale\": {\"range\": [\"#E16B26\", \"#EB9F3C\", \"#f6e7e1\", \"#8CBCCB\", \"#2EA8CE\", \"#136C97\"]}, \"type\": \"nominal\"}, \"tooltip\": [{\"field\": \"Project Name\", \"type\": \"nominal\"}, {\"field\": \"Total ATP Funds\", \"type\": \"quantitative\"}], \"x\": {\"field\": \"Total ATP Funds\", \"type\": \"quantitative\"}, \"y\": {\"field\": \"Implemeting Agency Name\", \"type\": \"nominal\"}}, \"title\": \"Total ATP Funds by Project\", \"$schema\": \"https://vega.github.io/schema/vega-lite/v4.17.0.json\", \"datasets\": {\"data-8a94bf934ca2c0bd021a0481b894a942\": [{\"Project ID\": \"8-San Bernardino County-2\", \"project_cycle\": 5, \"a1_locode\": 5954.0, \"#\": null, \"atp_id\": null, \"awarded\": \"Y\", \"ppno\": \"1274A\", \"ppno_1\": \"1274B\", \"data_origin\": \"Funded\", \"geometry\": null, \"project_status\": \"Active\", \"solicitation_abv\": \"S\", \"solicitation\": \"STATEWIDE SOLICITATION-CYCLE 5\", \"soliciting_agency\": \"CALTRANS\", \"project_size\": \"Medium\", \"a1_imp_agcy_city\": \"San Bernardino\", \"a1_imp_agcy_name\": \"San Bernardino County\", \"a1_proj_partner_agcy\": null, \"a1_proj_partner_exists\": \"No \", \"assembly_district\": 47, \"congressional_district\": 31, \"senate_district\": 20, \"County\": \"San Bernardino\", \"a2_ct_dist\": 8, \"a2_info_proj_descr\": \"Installation of pedestrian safety improvements, including; crosswalks, pedestrian flashing beacons, signage, speed feedback signs, ADA curb ramps, and sidewalks in the Muscoy area.\", \"a2_info_proj_loc\": \"In the unincorporated San Bernardino County community of Muscoy, in the areas immediately surrounding both campuses of the Vermont and Muscoy Elementary Schools.\", \"Project Name\": \"Muscoy Area Safe Routes to School Pedestrian Improvements Project\", \"a2_mop_uza_population\": \"Project is located within one of the ten large MPOs\", \"a2_mpo\": \"SCAG\", \"a2_rtpa\": \"None\", \"a2_proj_scope_summary\": \"The community of Muscoy is a rural community with large parcels and limited pedestrian infrastructure. Currently, the streets are largely without curb and gutter or sidewalk. The proposed project will upgrade existing crosswalks to more visible ladder sty\", \"a1_imp_agcy_fed_ma_num\": \"08-5954R\", \"a1_imp_agcy_ma\": \"Yes\", \"a1_imp_agcy_state_ma_num\": \"08-5954R\", \"a1_imp_agcy_street\": \"825 East Third Street\", \"a1_imp_agcy_title\": \"Engineering Manager, Transportation Planning Division\", \"a1_imp_agcy_zip\": 92415, \"a1_letter_of_intent\": null, \"a1_proj_partner_title\": null, \"a2_assem_dist_a\": 47.0, \"a2_assem_dist_b\": null, \"a2_assem_dist_c\": null, \"a2_congress_dist_a\": 31.0, \"a2_congress_dist_b\": null, \"a2_congress_dist_c\": null, \"a2_past_proj\": \"No                            \", \"a2_past_proj_qty\": 0, \"a2_proj_lat\": 34.161619, \"a2_proj_long\": -117.353515, \"a2_project_location_map\": null, \"a2_senate_dist_a\": 20.0, \"a2_senate_dist_b\": null, \"a2_senatedistc\": null, \"a3_plan_active_trans\": null, \"a3_plan_active_trans_exists\": \"Yes\", \"a3_plan_bicycle\": null, \"a3_plan_bicycle_exists\": \"Yes\", \"a3_plan_ped\": null, \"a3_plan_ped_exists\": \"Yes\", \"a3_plan_srts\": null, \"a3_plan_srts_exists\": \"Yes\", \"a3_proj_type\": null, \"a3_st_bicycle_applies\": \"No \", \"a3_st_bicycle_pct\": 0.0, \"a3_st_num_schools\": 2, \"a3_st_ped_applies\": \"Yes\", \"a3_st_ped_pct\": 100, \"a3_st_srts\": \"Yes\", \"a3_trail_elig_cost\": 0.0, \"a3_trail_fed_funding\": null, \"a3_trail_trans_pct\": null, \"a3_trails\": null, \"agency_app_num\": null, \"app_pk\": null, \"attch_addtl_attachments\": null, \"attch_app_sig_page\": null, \"attch_conditions_photos\": null, \"attch_conditions_project_map\": null, \"attch_engineeers_checklist\": null, \"attch_exhibit22_plan\": null, \"attch_letters_of_support\": null, \"attch_link\": null, \"attch_ni_workplan\": null, \"attch_project_estimate\": null, \"completed_pdf_form\": null, \"main_datetime_stamp\": \"\", \"a3_plan_none\": \"0\", \"a3_plan_other\": \"0\", \"a3_plan_other_desc\": null, \"a2_output_outcome\": \"Construction of 7,290 feet of sidewalk, installing 22 Rapid Rectangular Flashing Beacons (RRFB), improving 46 ADA ramps, upgrading 29 crosswalks to ladder-style crosswalks which will provide added safety for students and pedestrians in Muscoy area.\", \"a3_current_plan\": \"Yes\", \"b_sig_inter_new_bike_boxes\": null, \"b_class_1\": null, \"b_class_2\": null, \"b_class_3\": null, \"b_class_4\": null, \"a4_bike_gap_pct\": null, \"b_light_intersection\": null, \"b_mid_block_new_rrfb_signal\": null, \"b_mid_block_surf_improv\": null, \"b_bsp_new_bikes\": null, \"b_bike_new_secured_lockers\": null, \"b_bike_new_racks\": null, \"b_bsp_new_station\": null, \"b_other_bike_improv_1\": null, \"b_other_bike_improv_qty_1\": null, \"b_other_bike_improv_2\": null, \"b_other_bike_improv_qty_2\": null, \"b_light_rdwy_seg\": null, \"b_sig_inter_timing_improv\": null, \"b_un_sig_new_rrfb_signal\": null, \"b_un_sig_cross_surf_improv\": null, \"a4_easement_support\": null, \"m_cls_1_trails_widen_recon_exist\": null, \"m_cls_1_trails_new__less_than_9\": null, \"m_cls_1_trails_new_over_9\": null, \"m_non_cls_trails_new\": null, \"m_other_trail_imprv_1\": null, \"m_other_trail_improv_qty_1\": null, \"m_other_trail_imprv_2\": null, \"m_other_trail_improv_qty_2\": null, \"m_non_cls_widen_recon_exist\": null, \"p_amenities_bench\": null, \"a4_ped_gap_pct\": 100.0, \"p_mid_block_cross_new_rrfb_signal\": null, \"p_light_intersection\": null, \"p_lighting_rdwy_seg\": null, \"p_mid_block_cross_surf_improv\": null, \"p_new_ada_ramp\": 17.0, \"p_sidewlks_new_barrier_protect\": null, \"p_sidewlks_new_4_to_8\": 7290.0, \"p_sidewlks_new_over_8\": null, \"p_other_ped_imprv_1\": \"School Signage\", \"p_other_ped_qty_1\": 63.0, \"p_other_ped_imprv_2\": \"Speed Feedback Signs\", \"p_other_ped_qty_2\": 2.0, \"p_reconstruct_ramp_to_ada_stand\": 31.0, \"p_sidewlks_reconstruct_enhance_exist\": null, \"p_sig_inter_enhance_exist_crosswlk\": 34.0, \"p_sig_inter_new_crosswlk\": null, \"p_sig_inter_ped_heads\": null, \"p_sig_inter_shorten_cross\": null, \"p_sig_inter_timing_improv\": null, \"p_amenities_trash_can\": null, \"p_amenities_shade_tree\": null, \"p_amenities_shade_tree_type\": null, \"p_un_sig_inter_new_traff_sig\": null, \"p_un_sig_inter_new_roundabout\": null, \"p_un_sig_inter_new_rrfb_sig\": 24.0, \"p_un_sig_inter_shorten_cross\": null, \"p_un_sig_inter_cross_surface_improv\": null, \"p_sidewlks_widen_existing\": null, \"a4_row_100\": null, \"a4_row_gov_ease\": null, \"a4_row_private_ease\": null, \"v_other_traffic_calming_imprv_1\": null, \"v_speed_feedback_signs\": 55.0, \"v_other_traffic_calming_qty_1\": null, \"v_other_traffic_calming_imprv_2\": null, \"v_other_traffic_calming_qty_2\": null, \"v_remove_right_turn_pocket\": null, \"v_remove_travel_ln\": null, \"v_sig_inter_new_roundabout\": null, \"v_sig_inter_timing_improv\": null, \"v_un_sig_inter_new_traf_sig\": null, \"v_un_sig_inter_new_roundabout\": null, \"app_fk\": null, \"details_datetime_stamp\": \"\", \"a4_reg_init\": \"N\", \"a4_reg_init_pct\": 0, \"a4_com_init\": \"Y\", \"a4_com_init_pct\": 19, \"a4_safe_route\": \"Y\", \"a4_safe_route_pct\": 81, \"a4_fl_mile\": \"N\", \"a4_fl_mile_pct\": 0, \"a4_emp_based\": null, \"a4_emp_based_pct\": 0.0, \"a4_other_ni\": \"N\", \"a4_other_ni_descr\": null, \"a4_other_ni_pct\": 0, \"a4_wb_audits\": 4.0, \"a4_bike_classes\": 0.0, \"a4_ped_classes\": 0.0, \"a4_demo_events\": 0.0, \"a4_com_enc\": 0.0, \"a4_le_methods\": 0.0, \"a4_com_meetings\": 4.0, \"a4_classrooms\": 6.0, \"a4_school_assem\": 0.0, \"a4_after_school\": 0.0, \"a4_bike_rodeos\": 0.0, \"a4_mock_cities\": 0.0, \"a4_walk_bus\": 0.0, \"a4_bike_train\": 0.0, \"a4_com_challenges\": 0.0, \"a4_srts_enc\": 6.0, \"a4_srts_le\": 0.0, \"a4_srts_training\": 0.0, \"a4_act_other_1\": 0.0, \"a4_act_other_1_descr\": null, \"a4_act_other_2\": 0.0, \"a4_act_other_2_decr\": null, \"a4_comm_trad_media\": \"N\", \"a4_comm_large_media\": \"N\", \"a4_comm_print\": \"N\", \"a4_comm_social\": \"Y\", \"a4_comm_web\": \"N\", \"a4_comm_other\": \"N\", \"a4_comm_other_descr\": null, \"a4_comm_language\": \"English, Spanish\", \"a4_collab_pub_health\": \"Y\", \"a4_collab_le\": \"Y\", \"a4_collab_non_profit\": \"Y\", \"a4_collab_schools\": \"Y\", \"a4_collab_pub_works\": \"Y\", \"a4_collab_other\": \"Y\", \"a4_colab_other_descr\": \"Assemblymember Eloise Reyes (D-San Bernardino, 47th District)\", \"a4_plan_ped\": \"N\", \"a4_plan_bike\": \"N\", \"a4_plan_atp\": \"N\", \"a4_plan_school_routes\": \"N\", \"a4_row_open_street_demo\": \"No\", \"atp_id_x\": \"ATP5-08-046S\", \"a3_proj_type_x\": \"Infrastructure + NI - Medium\", \"agency_fully_own_r_w\": null, \"require_r_w_easement,_from_gov\": null, \"_require_rw_easement_from_private\": \"X\", \"atp_id_y\": \"ATP5-8-046S\", \"ppno1\": null, \"oversight_id\": \"Standard\", \"a3_proj_type_y\": \"Combined (IF and NI)\", \"Total Project Cost\": 2355000.0, \"original_prog__amt___pa_ed_\": 112000.0, \"orig__prog__year__pa_ed_\": \"21/22\", \"original_prog__amt___ps_e_\": 160000.0, \"orig__prog__year__ps_e_\": \"22/23\", \"original_prog__amt___rw_\": 303000.0, \"orig__prog__year__rw_\": \"22/23\", \"orignal_prog__amt___con_\": 1271000.0, \"orig__prog__year__con_\": \"24/25\", \"original_prog__amt___con_ni_\": 35000.0, \"orig__prog__year__con_ni_\": \"24/25\", \"total\": 1881000.0, \"_2122_pa_ed\": 112000.0, \"_2122_ps_e\": null, \"_2122_rw\": null, \"_2122_con\": null, \"_2122_con_ni\": null, \"_2122_total\": 112000.0, \"fund_year_1\": \"21/22\", \"_2223_pa_ed\": null, \"_2223_ps_e\": 160000.0, \"_2223_rw\": 303000.0, \"_2223_con\": null, \"_2223_con_ni\": null, \"_2223_total\": 463000.0, \"fund_year_2\": \"22/23\", \"_2324_pa_ed\": null, \"_2324_ps_e\": null, \"_2324_rw\": null, \"_2324_con\": null, \"_2324_con_ni\": null, \"_2324_total\": 0.0, \"fund_year_3\": \"23/24\", \"_2425_pa_ed\": null, \"_2425_ps_e\": null, \"_2425_rw\": null, \"_2425_con\": 1271000.0, \"_2425_con_ni\": 35000.0, \"_2425_total\": 1306000.0, \"fund_year_4\": \"24/25\", \"Total ATP Funds\": 1881000.0, \"match_total_atp_$_and_total\": \"YES\", \"match_total_atp_$_and_total_atp_x_1000\": \"YES\", \"paed\": 112.0, \"ps_e_\": 160.0, \"rw\": 303.0, \"con\": 1271.0, \"con_ni\": 35.0, \"total_atp__000s_\": 1881.0, \"total_atp_x_1000\": 1881000.0, \"year__pa_ed_\": \"21/22\", \"year__ps_e_\": \"22/23\", \"year__rw_\": \"22/23\", \"year__con_\": \"24/25\", \"year__con_ni_\": \"24/25\", \"Implemeting Agency Name\": \"San Bernardino County\"}, {\"Project ID\": \"8-Riverside County-10\", \"project_cycle\": 5, \"a1_locode\": 5956.0, \"#\": null, \"atp_id\": null, \"awarded\": \"Y\", \"ppno\": 1277, \"ppno_1\": null, \"data_origin\": \"Funded\", \"geometry\": null, \"project_status\": \"Active\", \"solicitation_abv\": \"S\", \"solicitation\": \"STATEWIDE SOLICITATION-CYCLE 5\", \"soliciting_agency\": \"CALTRANS\", \"project_size\": null, \"a1_imp_agcy_city\": \"Riverside\", \"a1_imp_agcy_name\": \"Riverside County\", \"a1_proj_partner_agcy\": null, \"a1_proj_partner_exists\": \"No \", \"assembly_district\": 42, \"congressional_district\": 36, \"senate_district\": 23, \"County\": \"Riverside\", \"a2_ct_dist\": 8, \"a2_info_proj_descr\": \"Safe Routes for All Program-San Jacinto: Pre-K through college students, park users, senior centers and homeless. Trainings include ped/bike safety, skills workshops and campaigns.\", \"a2_info_proj_loc\": \"San Jacinto is located in western Riverside County 80 miles east of Los Angeles, 25 miles north of Temecula, and 90 miles north of San Diego accessible by CA Highways 79 and 74.\", \"Project Name\": \"Riverside County Safe Routes for All - San Jacinto\", \"a2_mop_uza_population\": \"Project is located within one of the ten large MPOs\", \"a2_mpo\": \"SCAG\", \"a2_rtpa\": \"None\", \"a2_proj_scope_summary\": \"The Safe Routes for All - San Jacinto Program proposed by Riverside University Health System \\u2013 Public Health (RUHS-PH) targets students in pre-K through college, older adults, park users, and the homeless population with bicycle and pedestrian education, \", \"a1_imp_agcy_fed_ma_num\": \"08-5956R\", \"a1_imp_agcy_ma\": \"Yes\", \"a1_imp_agcy_state_ma_num\": \"00010S\", \"a1_imp_agcy_street\": \"4065 County Circle Drive, P.O. Box 7600\", \"a1_imp_agcy_title\": \"Branch Chief for Injury Prevention Services\", \"a1_imp_agcy_zip\": 92507, \"a1_letter_of_intent\": null, \"a1_proj_partner_title\": null, \"a2_assem_dist_a\": 42.0, \"a2_assem_dist_b\": null, \"a2_assem_dist_c\": null, \"a2_congress_dist_a\": 36.0, \"a2_congress_dist_b\": null, \"a2_congress_dist_c\": null, \"a2_past_proj\": \"Yes                           \", \"a2_past_proj_qty\": 2, \"a2_proj_lat\": 33.782352, \"a2_proj_long\": -116.958678, \"a2_project_location_map\": null, \"a2_senate_dist_a\": 23.0, \"a2_senate_dist_b\": null, \"a2_senatedistc\": null, \"a3_plan_active_trans\": null, \"a3_plan_active_trans_exists\": \"No \", \"a3_plan_bicycle\": null, \"a3_plan_bicycle_exists\": \"No \", \"a3_plan_ped\": null, \"a3_plan_ped_exists\": \"No \", \"a3_plan_srts\": null, \"a3_plan_srts_exists\": \"No \", \"a3_proj_type\": null, \"a3_st_bicycle_applies\": \"Yes\", \"a3_st_bicycle_pct\": 30.0, \"a3_st_num_schools\": 5, \"a3_st_ped_applies\": \"Yes\", \"a3_st_ped_pct\": 70, \"a3_st_srts\": \"Yes\", \"a3_trail_elig_cost\": 0.0, \"a3_trail_fed_funding\": null, \"a3_trail_trans_pct\": null, \"a3_trails\": null, \"agency_app_num\": null, \"app_pk\": null, \"attch_addtl_attachments\": null, \"attch_app_sig_page\": null, \"attch_conditions_photos\": null, \"attch_conditions_project_map\": null, \"attch_engineeers_checklist\": null, \"attch_exhibit22_plan\": null, \"attch_letters_of_support\": null, \"attch_link\": null, \"attch_ni_workplan\": null, \"attch_project_estimate\": null, \"completed_pdf_form\": null, \"main_datetime_stamp\": \"\", \"a3_plan_none\": \"0\", \"a3_plan_other\": \"0\", \"a3_plan_other_desc\": \"WRCOG Active Transportation Plan\", \"a2_output_outcome\": \"Improve pedestrian and bicycle safety among students pre-k through college, homeless individuals, park users, older adults, and parents, within four high-collision, high-use corridors in San Jacinto by implementing comprehensive and intensive education an\", \"a3_current_plan\": \"No\", \"b_sig_inter_new_bike_boxes\": null, \"b_class_1\": null, \"b_class_2\": null, \"b_class_3\": null, \"b_class_4\": null, \"a4_bike_gap_pct\": null, \"b_light_intersection\": null, \"b_mid_block_new_rrfb_signal\": null, \"b_mid_block_surf_improv\": null, \"b_bsp_new_bikes\": null, \"b_bike_new_secured_lockers\": null, \"b_bike_new_racks\": null, \"b_bsp_new_station\": null, \"b_other_bike_improv_1\": null, \"b_other_bike_improv_qty_1\": null, \"b_other_bike_improv_2\": null, \"b_other_bike_improv_qty_2\": null, \"b_light_rdwy_seg\": null, \"b_sig_inter_timing_improv\": null, \"b_un_sig_new_rrfb_signal\": null, \"b_un_sig_cross_surf_improv\": null, \"a4_easement_support\": null, \"m_cls_1_trails_widen_recon_exist\": null, \"m_cls_1_trails_new__less_than_9\": null, \"m_cls_1_trails_new_over_9\": null, \"m_non_cls_trails_new\": null, \"m_other_trail_imprv_1\": null, \"m_other_trail_improv_qty_1\": null, \"m_other_trail_imprv_2\": null, \"m_other_trail_improv_qty_2\": null, \"m_non_cls_widen_recon_exist\": null, \"p_amenities_bench\": null, \"a4_ped_gap_pct\": null, \"p_mid_block_cross_new_rrfb_signal\": null, \"p_light_intersection\": null, \"p_lighting_rdwy_seg\": null, \"p_mid_block_cross_surf_improv\": null, \"p_new_ada_ramp\": null, \"p_sidewlks_new_barrier_protect\": null, \"p_sidewlks_new_4_to_8\": null, \"p_sidewlks_new_over_8\": null, \"p_other_ped_imprv_1\": null, \"p_other_ped_qty_1\": null, \"p_other_ped_imprv_2\": null, \"p_other_ped_qty_2\": null, \"p_reconstruct_ramp_to_ada_stand\": null, \"p_sidewlks_reconstruct_enhance_exist\": null, \"p_sig_inter_enhance_exist_crosswlk\": null, \"p_sig_inter_new_crosswlk\": null, \"p_sig_inter_ped_heads\": null, \"p_sig_inter_shorten_cross\": null, \"p_sig_inter_timing_improv\": null, \"p_amenities_trash_can\": null, \"p_amenities_shade_tree\": null, \"p_amenities_shade_tree_type\": null, \"p_un_sig_inter_new_traff_sig\": null, \"p_un_sig_inter_new_roundabout\": null, \"p_un_sig_inter_new_rrfb_sig\": null, \"p_un_sig_inter_shorten_cross\": null, \"p_un_sig_inter_cross_surface_improv\": null, \"p_sidewlks_widen_existing\": null, \"a4_row_100\": null, \"a4_row_gov_ease\": null, \"a4_row_private_ease\": null, \"v_other_traffic_calming_imprv_1\": null, \"v_speed_feedback_signs\": null, \"v_other_traffic_calming_qty_1\": null, \"v_other_traffic_calming_imprv_2\": null, \"v_other_traffic_calming_qty_2\": null, \"v_remove_right_turn_pocket\": null, \"v_remove_travel_ln\": null, \"v_sig_inter_new_roundabout\": null, \"v_sig_inter_timing_improv\": null, \"v_un_sig_inter_new_traf_sig\": null, \"v_un_sig_inter_new_roundabout\": null, \"app_fk\": null, \"details_datetime_stamp\": \"\", \"a4_reg_init\": \"N\", \"a4_reg_init_pct\": 0, \"a4_com_init\": \"Y\", \"a4_com_init_pct\": 60, \"a4_safe_route\": \"Y\", \"a4_safe_route_pct\": 40, \"a4_fl_mile\": \"N\", \"a4_fl_mile_pct\": 0, \"a4_emp_based\": null, \"a4_emp_based_pct\": 0.0, \"a4_other_ni\": \"N\", \"a4_other_ni_descr\": null, \"a4_other_ni_pct\": 0, \"a4_wb_audits\": 8.0, \"a4_bike_classes\": 3.0, \"a4_ped_classes\": 3.0, \"a4_demo_events\": 5.0, \"a4_com_enc\": 1.0, \"a4_le_methods\": 0.0, \"a4_com_meetings\": 24.0, \"a4_classrooms\": 3.0, \"a4_school_assem\": 0.0, \"a4_after_school\": 5.0, \"a4_bike_rodeos\": 3.0, \"a4_mock_cities\": 9.0, \"a4_walk_bus\": 5.0, \"a4_bike_train\": 0.0, \"a4_com_challenges\": 4.0, \"a4_srts_enc\": 320.0, \"a4_srts_le\": 0.0, \"a4_srts_training\": 4.0, \"a4_act_other_1\": 7.0, \"a4_act_other_1_descr\": \"campaigns (5 elementary school based, 1 college based, 1 city wide - Go Human)\", \"a4_act_other_2\": 7.0, \"a4_act_other_2_decr\": \"evaluation methods\", \"a4_comm_trad_media\": \"Y\", \"a4_comm_large_media\": \"Y\", \"a4_comm_print\": \"Y\", \"a4_comm_social\": \"Y\", \"a4_comm_web\": \"Y\", \"a4_comm_other\": \"Y\", \"a4_comm_other_descr\": \"Presentations to older adults, parents, community members, tables at community events\", \"a4_comm_language\": \"Spanish; All communication activities are bilingual and culturally competent\", \"a4_collab_pub_health\": \"Y\", \"a4_collab_le\": \"Y\", \"a4_collab_non_profit\": \"Y\", \"a4_collab_schools\": \"Y\", \"a4_collab_pub_works\": \"Y\", \"a4_collab_other\": \"Y\", \"a4_colab_other_descr\": \"Western Riverside Council of Governments, City of San Jacinto, see continued list on page 15\", \"a4_plan_ped\": \"N\", \"a4_plan_bike\": \"N\", \"a4_plan_atp\": \"N\", \"a4_plan_school_routes\": \"N\", \"a4_row_open_street_demo\": \"No\", \"atp_id_x\": \"ATP5-08-020S\", \"a3_proj_type_x\": \"Non-Infrastructure\", \"agency_fully_own_r_w\": null, \"require_r_w_easement,_from_gov\": null, \"_require_rw_easement_from_private\": null, \"atp_id_y\": \"ATP5-8-020S\", \"ppno1\": null, \"oversight_id\": \"Standard\", \"a3_proj_type_y\": \"Non-Infrastructure\", \"Total Project Cost\": 600000.0, \"original_prog__amt___pa_ed_\": null, \"orig__prog__year__pa_ed_\": null, \"original_prog__amt___ps_e_\": null, \"orig__prog__year__ps_e_\": null, \"original_prog__amt___rw_\": null, \"orig__prog__year__rw_\": null, \"orignal_prog__amt___con_\": null, \"orig__prog__year__con_\": null, \"original_prog__amt___con_ni_\": 600000.0, \"orig__prog__year__con_ni_\": \"22/23\", \"total\": 600000.0, \"_2122_pa_ed\": null, \"_2122_ps_e\": null, \"_2122_rw\": null, \"_2122_con\": null, \"_2122_con_ni\": null, \"_2122_total\": 0.0, \"fund_year_1\": \"21/22\", \"_2223_pa_ed\": null, \"_2223_ps_e\": null, \"_2223_rw\": null, \"_2223_con\": null, \"_2223_con_ni\": 600000.0, \"_2223_total\": 600000.0, \"fund_year_2\": \"22/23\", \"_2324_pa_ed\": null, \"_2324_ps_e\": null, \"_2324_rw\": null, \"_2324_con\": null, \"_2324_con_ni\": null, \"_2324_total\": 0.0, \"fund_year_3\": \"23/24\", \"_2425_pa_ed\": null, \"_2425_ps_e\": null, \"_2425_rw\": null, \"_2425_con\": null, \"_2425_con_ni\": null, \"_2425_total\": 0.0, \"fund_year_4\": \"24/25\", \"Total ATP Funds\": 600000.0, \"match_total_atp_$_and_total\": \"YES\", \"match_total_atp_$_and_total_atp_x_1000\": \"YES\", \"paed\": 0.0, \"ps_e_\": 0.0, \"rw\": 0.0, \"con\": 0.0, \"con_ni\": 600.0, \"total_atp__000s_\": 600.0, \"total_atp_x_1000\": 600000.0, \"year__pa_ed_\": null, \"year__ps_e_\": null, \"year__rw_\": null, \"year__con_\": null, \"year__con_ni_\": \"22/23\", \"Implemeting Agency Name\": \"Riverside County\"}, {\"Project ID\": \"8-Perris, City of-1\", \"project_cycle\": 5, \"a1_locode\": 5198.0, \"#\": null, \"atp_id\": null, \"awarded\": \"Y\", \"ppno\": \"1273A\", \"ppno_1\": \"1273B\", \"data_origin\": \"Funded\", \"geometry\": null, \"project_status\": \"Active\", \"solicitation_abv\": \"S\", \"solicitation\": \"STATEWIDE SOLICITATION-CYCLE 5\", \"soliciting_agency\": \"CALTRANS\", \"project_size\": \"Small\", \"a1_imp_agcy_city\": \"Perris\", \"a1_imp_agcy_name\": \"Perris, City of\", \"a1_proj_partner_agcy\": null, \"a1_proj_partner_exists\": \"No \", \"assembly_district\": 61, \"congressional_district\": 41, \"senate_district\": 31, \"County\": \"Riverside\", \"a2_ct_dist\": 8, \"a2_info_proj_descr\": \"Class IV bike lanes with hardscape buffer and reflective delineators, high-visibility crosswalks, sidewalks, bike repair stations, signage, and public outreach campaign.  \", \"a2_info_proj_loc\": \"On Redlands Avenue between Placentia Avenue and Tahoe Street, and on Citrus Avenue between Redlands Avenue and Perris Boulevard.\", \"Project Name\": \"City of Perris Bike and Pedestrian Network Project \", \"a2_mop_uza_population\": \"Project is located within one of the ten large MPOs\", \"a2_mpo\": \"SCAG\", \"a2_rtpa\": \"None\", \"a2_proj_scope_summary\": \"The City of Perris proposes to construct a 1.75-mile segment of the existing and planned Bicycle and Pedestrian Network, connecting residents of a disadvantaged community to multiple destinations, including an elementary school, employment and shopping lo\", \"a1_imp_agcy_fed_ma_num\": \"08-5198F15\", \"a1_imp_agcy_ma\": \"Yes\", \"a1_imp_agcy_state_ma_num\": \"004885\", \"a1_imp_agcy_street\": \"101 N. D Street\", \"a1_imp_agcy_title\": \"City Engineer\", \"a1_imp_agcy_zip\": 92570, \"a1_letter_of_intent\": null, \"a1_proj_partner_title\": null, \"a2_assem_dist_a\": 61.0, \"a2_assem_dist_b\": null, \"a2_assem_dist_c\": null, \"a2_congress_dist_a\": 41.0, \"a2_congress_dist_b\": null, \"a2_congress_dist_c\": null, \"a2_past_proj\": \"No                            \", \"a2_past_proj_qty\": 2, \"a2_proj_lat\": 33.784933, \"a2_proj_long\": -117.231589, \"a2_project_location_map\": null, \"a2_senate_dist_a\": 31.0, \"a2_senate_dist_b\": null, \"a2_senatedistc\": null, \"a3_plan_active_trans\": null, \"a3_plan_active_trans_exists\": \"Yes\", \"a3_plan_bicycle\": null, \"a3_plan_bicycle_exists\": \"No \", \"a3_plan_ped\": null, \"a3_plan_ped_exists\": \"No \", \"a3_plan_srts\": null, \"a3_plan_srts_exists\": \"No \", \"a3_proj_type\": null, \"a3_st_bicycle_applies\": \"Yes\", \"a3_st_bicycle_pct\": 50.0, \"a3_st_num_schools\": 0, \"a3_st_ped_applies\": \"Yes\", \"a3_st_ped_pct\": 50, \"a3_st_srts\": \"No \", \"a3_trail_elig_cost\": 0.0, \"a3_trail_fed_funding\": null, \"a3_trail_trans_pct\": null, \"a3_trails\": null, \"agency_app_num\": null, \"app_pk\": null, \"attch_addtl_attachments\": null, \"attch_app_sig_page\": null, \"attch_conditions_photos\": null, \"attch_conditions_project_map\": null, \"attch_engineeers_checklist\": null, \"attch_exhibit22_plan\": null, \"attch_letters_of_support\": null, \"attch_link\": null, \"attch_ni_workplan\": null, \"attch_project_estimate\": null, \"completed_pdf_form\": null, \"main_datetime_stamp\": \"\", \"a3_plan_none\": \"0\", \"a3_plan_other\": \"0\", \"a3_plan_other_desc\": \"Trails Master Plan\", \"a2_output_outcome\": \"1.75 miles of Class IV buffered bike lanes connecting to public transit, 3 high visibility crosswalks, 700 SF of sidewalk, 2 bike repair stations, project-wide signage, and an extensive outreach campaign benefiting disadvantaged communities. \", \"a3_current_plan\": \"Yes\", \"b_sig_inter_new_bike_boxes\": null, \"b_class_1\": null, \"b_class_2\": null, \"b_class_3\": null, \"b_class_4\": 9240.0, \"a4_bike_gap_pct\": null, \"b_light_intersection\": null, \"b_mid_block_new_rrfb_signal\": null, \"b_mid_block_surf_improv\": null, \"b_bsp_new_bikes\": null, \"b_bike_new_secured_lockers\": null, \"b_bike_new_racks\": 2.0, \"b_bsp_new_station\": null, \"b_other_bike_improv_1\": \"1.75 miles of hardscape buffer\", \"b_other_bike_improv_qty_1\": 1.0, \"b_other_bike_improv_2\": \"Reflective delineators \", \"b_other_bike_improv_qty_2\": 568.0, \"b_light_rdwy_seg\": null, \"b_sig_inter_timing_improv\": null, \"b_un_sig_new_rrfb_signal\": null, \"b_un_sig_cross_surf_improv\": null, \"a4_easement_support\": null, \"m_cls_1_trails_widen_recon_exist\": null, \"m_cls_1_trails_new__less_than_9\": null, \"m_cls_1_trails_new_over_9\": null, \"m_non_cls_trails_new\": null, \"m_other_trail_imprv_1\": null, \"m_other_trail_improv_qty_1\": null, \"m_other_trail_imprv_2\": null, \"m_other_trail_improv_qty_2\": null, \"m_non_cls_widen_recon_exist\": null, \"p_amenities_bench\": null, \"a4_ped_gap_pct\": 75.0, \"p_mid_block_cross_new_rrfb_signal\": 2.0, \"p_light_intersection\": null, \"p_lighting_rdwy_seg\": null, \"p_mid_block_cross_surf_improv\": 2.0, \"p_new_ada_ramp\": 3.0, \"p_sidewlks_new_barrier_protect\": null, \"p_sidewlks_new_4_to_8\": 700.0, \"p_sidewlks_new_over_8\": null, \"p_other_ped_imprv_1\": null, \"p_other_ped_qty_1\": null, \"p_other_ped_imprv_2\": null, \"p_other_ped_qty_2\": null, \"p_reconstruct_ramp_to_ada_stand\": null, \"p_sidewlks_reconstruct_enhance_exist\": null, \"p_sig_inter_enhance_exist_crosswlk\": null, \"p_sig_inter_new_crosswlk\": null, \"p_sig_inter_ped_heads\": null, \"p_sig_inter_shorten_cross\": null, \"p_sig_inter_timing_improv\": null, \"p_amenities_trash_can\": null, \"p_amenities_shade_tree\": null, \"p_amenities_shade_tree_type\": null, \"p_un_sig_inter_new_traff_sig\": null, \"p_un_sig_inter_new_roundabout\": null, \"p_un_sig_inter_new_rrfb_sig\": 1.0, \"p_un_sig_inter_shorten_cross\": null, \"p_un_sig_inter_cross_surface_improv\": 1.0, \"p_sidewlks_widen_existing\": null, \"a4_row_100\": null, \"a4_row_gov_ease\": null, \"a4_row_private_ease\": null, \"v_other_traffic_calming_imprv_1\": null, \"v_speed_feedback_signs\": null, \"v_other_traffic_calming_qty_1\": null, \"v_other_traffic_calming_imprv_2\": null, \"v_other_traffic_calming_qty_2\": null, \"v_remove_right_turn_pocket\": null, \"v_remove_travel_ln\": null, \"v_sig_inter_new_roundabout\": null, \"v_sig_inter_timing_improv\": null, \"v_un_sig_inter_new_traf_sig\": null, \"v_un_sig_inter_new_roundabout\": null, \"app_fk\": null, \"details_datetime_stamp\": \"\", \"a4_reg_init\": \"N\", \"a4_reg_init_pct\": 0, \"a4_com_init\": \"Y\", \"a4_com_init_pct\": 100, \"a4_safe_route\": \"N\", \"a4_safe_route_pct\": 0, \"a4_fl_mile\": \"N\", \"a4_fl_mile_pct\": 0, \"a4_emp_based\": null, \"a4_emp_based_pct\": 0.0, \"a4_other_ni\": \"N\", \"a4_other_ni_descr\": null, \"a4_other_ni_pct\": 0, \"a4_wb_audits\": 0.0, \"a4_bike_classes\": 0.0, \"a4_ped_classes\": 3.0, \"a4_demo_events\": 0.0, \"a4_com_enc\": 1.0, \"a4_le_methods\": 0.0, \"a4_com_meetings\": 0.0, \"a4_classrooms\": 0.0, \"a4_school_assem\": 0.0, \"a4_after_school\": 0.0, \"a4_bike_rodeos\": 0.0, \"a4_mock_cities\": 0.0, \"a4_walk_bus\": 0.0, \"a4_bike_train\": 0.0, \"a4_com_challenges\": 0.0, \"a4_srts_enc\": 0.0, \"a4_srts_le\": 0.0, \"a4_srts_training\": 0.0, \"a4_act_other_1\": 0.0, \"a4_act_other_1_descr\": null, \"a4_act_other_2\": 0.0, \"a4_act_other_2_decr\": null, \"a4_comm_trad_media\": \"Y\", \"a4_comm_large_media\": \"N\", \"a4_comm_print\": \"Y\", \"a4_comm_social\": \"Y\", \"a4_comm_web\": \"N\", \"a4_comm_other\": \"N\", \"a4_comm_other_descr\": null, \"a4_comm_language\": \"Spanish\", \"a4_collab_pub_health\": \"Y\", \"a4_collab_le\": \"N\", \"a4_collab_non_profit\": \"N\", \"a4_collab_schools\": \"N\", \"a4_collab_pub_works\": \"N\", \"a4_collab_other\": \"N\", \"a4_colab_other_descr\": null, \"a4_plan_ped\": \"N\", \"a4_plan_bike\": \"N\", \"a4_plan_atp\": \"N\", \"a4_plan_school_routes\": \"N\", \"a4_row_open_street_demo\": \"No\", \"atp_id_x\": \"ATP5-08-035S\", \"a3_proj_type_x\": \"Infrastructure + NI - Small\", \"agency_fully_own_r_w\": \"X\", \"require_r_w_easement,_from_gov\": null, \"_require_rw_easement_from_private\": null, \"atp_id_y\": \"ATP5-8-035S\", \"ppno1\": null, \"oversight_id\": \"Standard\", \"a3_proj_type_y\": \"Combined (IF and NI)\", \"Total Project Cost\": 1999000.0, \"original_prog__amt___pa_ed_\": null, \"orig__prog__year__pa_ed_\": null, \"original_prog__amt___ps_e_\": null, \"orig__prog__year__ps_e_\": null, \"original_prog__amt___rw_\": null, \"orig__prog__year__rw_\": null, \"orignal_prog__amt___con_\": 1896000.0, \"orig__prog__year__con_\": \"22/23\", \"original_prog__amt___con_ni_\": 35000.0, \"orig__prog__year__con_ni_\": \"21/22\", \"total\": 1931000.0, \"_2122_pa_ed\": null, \"_2122_ps_e\": null, \"_2122_rw\": null, \"_2122_con\": null, \"_2122_con_ni\": 35000.0, \"_2122_total\": 35000.0, \"fund_year_1\": \"21/22\", \"_2223_pa_ed\": null, \"_2223_ps_e\": null, \"_2223_rw\": null, \"_2223_con\": 1896000.0, \"_2223_con_ni\": null, \"_2223_total\": 1896000.0, \"fund_year_2\": \"22/23\", \"_2324_pa_ed\": null, \"_2324_ps_e\": null, \"_2324_rw\": null, \"_2324_con\": null, \"_2324_con_ni\": null, \"_2324_total\": 0.0, \"fund_year_3\": \"23/24\", \"_2425_pa_ed\": null, \"_2425_ps_e\": null, \"_2425_rw\": null, \"_2425_con\": null, \"_2425_con_ni\": null, \"_2425_total\": 0.0, \"fund_year_4\": \"24/25\", \"Total ATP Funds\": 1931000.0, \"match_total_atp_$_and_total\": \"YES\", \"match_total_atp_$_and_total_atp_x_1000\": \"YES\", \"paed\": 0.0, \"ps_e_\": 0.0, \"rw\": 0.0, \"con\": 1896.0, \"con_ni\": 35.0, \"total_atp__000s_\": 1931.0, \"total_atp_x_1000\": 1931000.0, \"year__pa_ed_\": null, \"year__ps_e_\": null, \"year__rw_\": null, \"year__con_\": \"22/23\", \"year__con_ni_\": \"21/22\", \"Implemeting Agency Name\": \"City of Perris\"}, {\"Project ID\": \"8-Ontario, City of-1\", \"project_cycle\": 5, \"a1_locode\": 5092.0, \"#\": null, \"atp_id\": null, \"awarded\": \"Y\", \"ppno\": 1275, \"ppno_1\": null, \"data_origin\": \"Funded\", \"geometry\": null, \"project_status\": \"Active\", \"solicitation_abv\": \"S\", \"solicitation\": \"STATEWIDE SOLICITATION-CYCLE 5\", \"soliciting_agency\": \"CALTRANS\", \"project_size\": \"Medium\", \"a1_imp_agcy_city\": \"Ontario\", \"a1_imp_agcy_name\": \"Ontario, City of\", \"a1_proj_partner_agcy\": null, \"a1_proj_partner_exists\": \"No \", \"assembly_district\": 52, \"congressional_district\": 35, \"senate_district\": 20, \"County\": \"San Bernardino\", \"a2_ct_dist\": 8, \"a2_info_proj_descr\": \"Construction of bike boulevard, improvements include street lights, traffic circles, curb extensions, and a lane configuration to slow vehicle traffic and prioritize bike movement\", \"a2_info_proj_loc\": \"Project location includes segments of B Street, Vine Avenue, Phillips Street, and Fern Avenue in the City of Ontario, CA\", \"Project Name\": \"Vine Ave & B St Bike Boulevard Project\", \"a2_mop_uza_population\": \"Project is located within one of the ten large MPOs\", \"a2_mpo\": \"SCAG\", \"a2_rtpa\": \"None\", \"a2_proj_scope_summary\": \"The project area includes a bike boulevard. The bike boulevard is comprised of 9,280-feet of Class III and 320-feet of Class II buffered bike lane new bicycle improvements in Ontario's established residential area. The route connects Ontario's historic do\", \"a1_imp_agcy_fed_ma_num\": \"08-5092R\", \"a1_imp_agcy_ma\": \"Yes\", \"a1_imp_agcy_state_ma_num\": \"08-00092\", \"a1_imp_agcy_street\": \"303 East B Street\", \"a1_imp_agcy_title\": \"Traffic/Transportation Manager\", \"a1_imp_agcy_zip\": 91764, \"a1_letter_of_intent\": null, \"a1_proj_partner_title\": null, \"a2_assem_dist_a\": 52.0, \"a2_assem_dist_b\": null, \"a2_assem_dist_c\": null, \"a2_congress_dist_a\": 35.0, \"a2_congress_dist_b\": null, \"a2_congress_dist_c\": null, \"a2_past_proj\": \"Yes                           \", \"a2_past_proj_qty\": 2, \"a2_proj_lat\": 34.058169, \"a2_proj_long\": -117.648827, \"a2_project_location_map\": null, \"a2_senate_dist_a\": 20.0, \"a2_senate_dist_b\": null, \"a2_senatedistc\": null, \"a3_plan_active_trans\": null, \"a3_plan_active_trans_exists\": \"No \", \"a3_plan_bicycle\": null, \"a3_plan_bicycle_exists\": \"No \", \"a3_plan_ped\": null, \"a3_plan_ped_exists\": \"No \", \"a3_plan_srts\": null, \"a3_plan_srts_exists\": \"No \", \"a3_proj_type\": null, \"a3_st_bicycle_applies\": \"Yes\", \"a3_st_bicycle_pct\": 75.0, \"a3_st_num_schools\": 0, \"a3_st_ped_applies\": \"Yes\", \"a3_st_ped_pct\": 25, \"a3_st_srts\": \"No \", \"a3_trail_elig_cost\": 0.0, \"a3_trail_fed_funding\": null, \"a3_trail_trans_pct\": null, \"a3_trails\": null, \"agency_app_num\": null, \"app_pk\": null, \"attch_addtl_attachments\": null, \"attch_app_sig_page\": null, \"attch_conditions_photos\": null, \"attch_conditions_project_map\": null, \"attch_engineeers_checklist\": null, \"attch_exhibit22_plan\": null, \"attch_letters_of_support\": null, \"attch_link\": null, \"attch_ni_workplan\": null, \"attch_project_estimate\": null, \"completed_pdf_form\": null, \"main_datetime_stamp\": \"\", \"a3_plan_none\": \"No\", \"a3_plan_other\": \"Yes\", \"a3_plan_other_desc\": \"Draft Active Transportation Master Plan\", \"a2_output_outcome\": \"The traffic circle, curb extension, street light, and Class III and Class II infrastructure improvements along the route will make bicycling and walking more comfortable, desirable, and safe while connecting disadvantaged communities to local destinations\", \"a3_current_plan\": \"Yes\", \"b_sig_inter_new_bike_boxes\": null, \"b_class_1\": null, \"b_class_2\": 320.0, \"b_class_3\": 9280.0, \"b_class_4\": null, \"a4_bike_gap_pct\": null, \"b_light_intersection\": 15.0, \"b_mid_block_new_rrfb_signal\": null, \"b_mid_block_surf_improv\": null, \"b_bsp_new_bikes\": null, \"b_bike_new_secured_lockers\": null, \"b_bike_new_racks\": 4.0, \"b_bsp_new_station\": null, \"b_other_bike_improv_1\": \"Bicycle Destination Signs\", \"b_other_bike_improv_qty_1\": 41.0, \"b_other_bike_improv_2\": \"Bicycle Guide Signs\", \"b_other_bike_improv_qty_2\": 28.0, \"b_light_rdwy_seg\": 360.0, \"b_sig_inter_timing_improv\": null, \"b_un_sig_new_rrfb_signal\": null, \"b_un_sig_cross_surf_improv\": null, \"a4_easement_support\": null, \"m_cls_1_trails_widen_recon_exist\": null, \"m_cls_1_trails_new__less_than_9\": null, \"m_cls_1_trails_new_over_9\": null, \"m_non_cls_trails_new\": null, \"m_other_trail_imprv_1\": null, \"m_other_trail_improv_qty_1\": null, \"m_other_trail_imprv_2\": null, \"m_other_trail_improv_qty_2\": null, \"m_non_cls_widen_recon_exist\": null, \"p_amenities_bench\": null, \"a4_ped_gap_pct\": null, \"p_mid_block_cross_new_rrfb_signal\": null, \"p_light_intersection\": null, \"p_lighting_rdwy_seg\": null, \"p_mid_block_cross_surf_improv\": null, \"p_new_ada_ramp\": 4.0, \"p_sidewlks_new_barrier_protect\": null, \"p_sidewlks_new_4_to_8\": null, \"p_sidewlks_new_over_8\": null, \"p_other_ped_imprv_1\": null, \"p_other_ped_qty_1\": null, \"p_other_ped_imprv_2\": null, \"p_other_ped_qty_2\": null, \"p_reconstruct_ramp_to_ada_stand\": null, \"p_sidewlks_reconstruct_enhance_exist\": null, \"p_sig_inter_enhance_exist_crosswlk\": 8.0, \"p_sig_inter_new_crosswlk\": null, \"p_sig_inter_ped_heads\": null, \"p_sig_inter_shorten_cross\": null, \"p_sig_inter_timing_improv\": null, \"p_amenities_trash_can\": null, \"p_amenities_shade_tree\": null, \"p_amenities_shade_tree_type\": null, \"p_un_sig_inter_new_traff_sig\": null, \"p_un_sig_inter_new_roundabout\": 2.0, \"p_un_sig_inter_new_rrfb_sig\": null, \"p_un_sig_inter_shorten_cross\": 15.0, \"p_un_sig_inter_cross_surface_improv\": null, \"p_sidewlks_widen_existing\": null, \"a4_row_100\": null, \"a4_row_gov_ease\": null, \"a4_row_private_ease\": null, \"v_other_traffic_calming_imprv_1\": \"Advanced Warning Signs\", \"v_speed_feedback_signs\": null, \"v_other_traffic_calming_qty_1\": 14.0, \"v_other_traffic_calming_imprv_2\": null, \"v_other_traffic_calming_qty_2\": null, \"v_remove_right_turn_pocket\": 1.0, \"v_remove_travel_ln\": 1490.0, \"v_sig_inter_new_roundabout\": null, \"v_sig_inter_timing_improv\": null, \"v_un_sig_inter_new_traf_sig\": null, \"v_un_sig_inter_new_roundabout\": 2.0, \"app_fk\": null, \"details_datetime_stamp\": \"\", \"a4_reg_init\": \"N\", \"a4_reg_init_pct\": 0, \"a4_com_init\": \"N\", \"a4_com_init_pct\": 0, \"a4_safe_route\": \"N\", \"a4_safe_route_pct\": 0, \"a4_fl_mile\": \"N\", \"a4_fl_mile_pct\": 0, \"a4_emp_based\": null, \"a4_emp_based_pct\": 0.0, \"a4_other_ni\": \"N\", \"a4_other_ni_descr\": null, \"a4_other_ni_pct\": 0, \"a4_wb_audits\": 0.0, \"a4_bike_classes\": 0.0, \"a4_ped_classes\": 0.0, \"a4_demo_events\": 0.0, \"a4_com_enc\": 0.0, \"a4_le_methods\": 0.0, \"a4_com_meetings\": 0.0, \"a4_classrooms\": 0.0, \"a4_school_assem\": 0.0, \"a4_after_school\": 0.0, \"a4_bike_rodeos\": 0.0, \"a4_mock_cities\": 0.0, \"a4_walk_bus\": 0.0, \"a4_bike_train\": 0.0, \"a4_com_challenges\": 0.0, \"a4_srts_enc\": 0.0, \"a4_srts_le\": 0.0, \"a4_srts_training\": 0.0, \"a4_act_other_1\": 0.0, \"a4_act_other_1_descr\": null, \"a4_act_other_2\": 0.0, \"a4_act_other_2_decr\": null, \"a4_comm_trad_media\": \"N\", \"a4_comm_large_media\": \"N\", \"a4_comm_print\": \"N\", \"a4_comm_social\": \"N\", \"a4_comm_web\": \"N\", \"a4_comm_other\": \"N\", \"a4_comm_other_descr\": null, \"a4_comm_language\": null, \"a4_collab_pub_health\": \"N\", \"a4_collab_le\": \"N\", \"a4_collab_non_profit\": \"N\", \"a4_collab_schools\": \"N\", \"a4_collab_pub_works\": \"N\", \"a4_collab_other\": \"N\", \"a4_colab_other_descr\": null, \"a4_plan_ped\": \"N\", \"a4_plan_bike\": \"N\", \"a4_plan_atp\": \"N\", \"a4_plan_school_routes\": \"N\", \"a4_row_open_street_demo\": \"No\", \"atp_id_x\": \"ATP5-08-017S\", \"a3_proj_type_x\": \"Infrastructure - Medium\", \"agency_fully_own_r_w\": \"X\", \"require_r_w_easement,_from_gov\": null, \"_require_rw_easement_from_private\": null, \"atp_id_y\": \"ATP5-8-017S\", \"ppno1\": null, \"oversight_id\": \"Standard\", \"a3_proj_type_y\": \"Infrastructure\", \"Total Project Cost\": 4881000.0, \"original_prog__amt___pa_ed_\": 45000.0, \"orig__prog__year__pa_ed_\": \"21/22\", \"original_prog__amt___ps_e_\": 468000.0, \"orig__prog__year__ps_e_\": \"22/23\", \"original_prog__amt___rw_\": null, \"orig__prog__year__rw_\": null, \"orignal_prog__amt___con_\": 3879000.0, \"orig__prog__year__con_\": \"23/24\", \"original_prog__amt___con_ni_\": null, \"orig__prog__year__con_ni_\": null, \"total\": 4392000.0, \"_2122_pa_ed\": 45000.0, \"_2122_ps_e\": null, \"_2122_rw\": null, \"_2122_con\": null, \"_2122_con_ni\": null, \"_2122_total\": 45000.0, \"fund_year_1\": \"21/22\", \"_2223_pa_ed\": null, \"_2223_ps_e\": 468000.0, \"_2223_rw\": null, \"_2223_con\": null, \"_2223_con_ni\": null, \"_2223_total\": 468000.0, \"fund_year_2\": \"22/23\", \"_2324_pa_ed\": null, \"_2324_ps_e\": null, \"_2324_rw\": null, \"_2324_con\": 3879000.0, \"_2324_con_ni\": null, \"_2324_total\": 3879000.0, \"fund_year_3\": \"23/24\", \"_2425_pa_ed\": null, \"_2425_ps_e\": null, \"_2425_rw\": null, \"_2425_con\": null, \"_2425_con_ni\": null, \"_2425_total\": 0.0, \"fund_year_4\": \"24/25\", \"Total ATP Funds\": 4392000.0, \"match_total_atp_$_and_total\": \"YES\", \"match_total_atp_$_and_total_atp_x_1000\": \"YES\", \"paed\": 45.0, \"ps_e_\": 468.0, \"rw\": 0.0, \"con\": 3879.0, \"con_ni\": 0.0, \"total_atp__000s_\": 4392.0, \"total_atp_x_1000\": 4392000.0, \"year__pa_ed_\": \"21/22\", \"year__ps_e_\": \"22/23\", \"year__rw_\": null, \"year__con_\": \"23/24\", \"year__con_ni_\": null, \"Implemeting Agency Name\": \"City of Ontario\"}]}}, {\"mode\": \"vega-lite\"});\n",
       "</script>"
      ],
      "text/plain": [
       "alt.Chart(...)"
      ]
     },
     "metadata": {},
     "output_type": "display_data"
    },
    {
     "data": {
      "text/html": [
       "<h4>Funded Project Information</h4>"
      ],
      "text/plain": [
       "<IPython.core.display.HTML object>"
      ]
     },
     "metadata": {},
     "output_type": "display_data"
    },
    {
     "data": {
      "text/html": [
       "<style type=\"text/css\">\n",
       "#T_c9921_ th {\n",
       "  text-align: center;\n",
       "}\n",
       "#T_c9921_row0_col0, #T_c9921_row0_col1, #T_c9921_row0_col2, #T_c9921_row0_col3, #T_c9921_row0_col4, #T_c9921_row1_col0, #T_c9921_row1_col1, #T_c9921_row1_col2, #T_c9921_row1_col3, #T_c9921_row1_col4, #T_c9921_row2_col0, #T_c9921_row2_col1, #T_c9921_row2_col2, #T_c9921_row2_col3, #T_c9921_row2_col4, #T_c9921_row3_col0, #T_c9921_row3_col1, #T_c9921_row3_col2, #T_c9921_row3_col3, #T_c9921_row3_col4 {\n",
       "  text-align: center;\n",
       "}\n",
       "</style>\n",
       "<table id=\"T_c9921_\">\n",
       "  <thead>\n",
       "    <tr>\n",
       "      <th class=\"col_heading level0 col0\" >Implemeting Agency Name</th>\n",
       "      <th class=\"col_heading level0 col1\" >Project Name</th>\n",
       "      <th class=\"col_heading level0 col2\" >County</th>\n",
       "      <th class=\"col_heading level0 col3\" >Total Atp Funds</th>\n",
       "      <th class=\"col_heading level0 col4\" >Total Project Cost</th>\n",
       "    </tr>\n",
       "  </thead>\n",
       "  <tbody>\n",
       "    <tr>\n",
       "      <td id=\"T_c9921_row0_col0\" class=\"data row0 col0\" >San Bernardino County</td>\n",
       "      <td id=\"T_c9921_row0_col1\" class=\"data row0 col1\" >Muscoy Area Safe Routes to School Pedestrian Improvements Project</td>\n",
       "      <td id=\"T_c9921_row0_col2\" class=\"data row0 col2\" >San Bernardino</td>\n",
       "      <td id=\"T_c9921_row0_col3\" class=\"data row0 col3\" >$ 1,881,000.00</td>\n",
       "      <td id=\"T_c9921_row0_col4\" class=\"data row0 col4\" >$ 2,355,000.00</td>\n",
       "    </tr>\n",
       "    <tr>\n",
       "      <td id=\"T_c9921_row1_col0\" class=\"data row1 col0\" >Riverside County</td>\n",
       "      <td id=\"T_c9921_row1_col1\" class=\"data row1 col1\" >Riverside County Safe Routes for All - San Jacinto</td>\n",
       "      <td id=\"T_c9921_row1_col2\" class=\"data row1 col2\" >Riverside</td>\n",
       "      <td id=\"T_c9921_row1_col3\" class=\"data row1 col3\" >$ 600,000.00</td>\n",
       "      <td id=\"T_c9921_row1_col4\" class=\"data row1 col4\" >$ 600,000.00</td>\n",
       "    </tr>\n",
       "    <tr>\n",
       "      <td id=\"T_c9921_row2_col0\" class=\"data row2 col0\" >City of Perris</td>\n",
       "      <td id=\"T_c9921_row2_col1\" class=\"data row2 col1\" >City of Perris Bike and Pedestrian Network Project </td>\n",
       "      <td id=\"T_c9921_row2_col2\" class=\"data row2 col2\" >Riverside</td>\n",
       "      <td id=\"T_c9921_row2_col3\" class=\"data row2 col3\" >$ 1,931,000.00</td>\n",
       "      <td id=\"T_c9921_row2_col4\" class=\"data row2 col4\" >$ 1,999,000.00</td>\n",
       "    </tr>\n",
       "    <tr>\n",
       "      <td id=\"T_c9921_row3_col0\" class=\"data row3 col0\" >City of Ontario</td>\n",
       "      <td id=\"T_c9921_row3_col1\" class=\"data row3 col1\" >Vine Ave & B St Bike Boulevard Project</td>\n",
       "      <td id=\"T_c9921_row3_col2\" class=\"data row3 col2\" >San Bernardino</td>\n",
       "      <td id=\"T_c9921_row3_col3\" class=\"data row3 col3\" >$ 4,392,000.00</td>\n",
       "      <td id=\"T_c9921_row3_col4\" class=\"data row3 col4\" >$ 4,881,000.00</td>\n",
       "    </tr>\n",
       "  </tbody>\n",
       "</table>\n"
      ],
      "text/plain": [
       "<IPython.core.display.HTML object>"
      ]
     },
     "metadata": {},
     "output_type": "display_data"
    },
    {
     "data": {
      "text/html": [
       "</br><h4> Success Rates for Agencies in District 8 </h4>"
      ],
      "text/plain": [
       "<IPython.core.display.HTML object>"
      ]
     },
     "metadata": {},
     "output_type": "display_data"
    },
    {
     "data": {
      "text/html": [
       "<style type=\"text/css\">\n",
       "#T_f7ce9_ th {\n",
       "  text-align: center;\n",
       "}\n",
       "#T_f7ce9_row0_col0, #T_f7ce9_row0_col1, #T_f7ce9_row0_col2, #T_f7ce9_row1_col0, #T_f7ce9_row1_col1, #T_f7ce9_row1_col2, #T_f7ce9_row2_col0, #T_f7ce9_row2_col1, #T_f7ce9_row2_col2, #T_f7ce9_row3_col0, #T_f7ce9_row3_col1, #T_f7ce9_row3_col2, #T_f7ce9_row4_col0, #T_f7ce9_row4_col1, #T_f7ce9_row4_col2, #T_f7ce9_row5_col0, #T_f7ce9_row5_col1, #T_f7ce9_row5_col2, #T_f7ce9_row6_col0, #T_f7ce9_row6_col1, #T_f7ce9_row6_col2, #T_f7ce9_row7_col0, #T_f7ce9_row7_col1, #T_f7ce9_row7_col2, #T_f7ce9_row8_col0, #T_f7ce9_row8_col1, #T_f7ce9_row8_col2, #T_f7ce9_row9_col0, #T_f7ce9_row9_col1, #T_f7ce9_row9_col2, #T_f7ce9_row10_col0, #T_f7ce9_row10_col1, #T_f7ce9_row10_col2, #T_f7ce9_row11_col0, #T_f7ce9_row11_col1, #T_f7ce9_row11_col2, #T_f7ce9_row12_col0, #T_f7ce9_row12_col1, #T_f7ce9_row12_col2, #T_f7ce9_row13_col0, #T_f7ce9_row13_col1, #T_f7ce9_row13_col2, #T_f7ce9_row14_col0, #T_f7ce9_row14_col1, #T_f7ce9_row14_col2, #T_f7ce9_row15_col0, #T_f7ce9_row15_col1, #T_f7ce9_row15_col2, #T_f7ce9_row16_col0, #T_f7ce9_row16_col1, #T_f7ce9_row16_col2, #T_f7ce9_row17_col0, #T_f7ce9_row17_col1, #T_f7ce9_row17_col2, #T_f7ce9_row18_col0, #T_f7ce9_row18_col1, #T_f7ce9_row18_col2, #T_f7ce9_row19_col0, #T_f7ce9_row19_col1, #T_f7ce9_row19_col2, #T_f7ce9_row20_col0, #T_f7ce9_row20_col1, #T_f7ce9_row20_col2, #T_f7ce9_row21_col0, #T_f7ce9_row21_col1, #T_f7ce9_row21_col2, #T_f7ce9_row22_col0, #T_f7ce9_row22_col1, #T_f7ce9_row22_col2, #T_f7ce9_row23_col0, #T_f7ce9_row23_col1, #T_f7ce9_row23_col2, #T_f7ce9_row24_col0, #T_f7ce9_row24_col1, #T_f7ce9_row24_col2, #T_f7ce9_row25_col0, #T_f7ce9_row25_col1, #T_f7ce9_row25_col2, #T_f7ce9_row26_col0, #T_f7ce9_row26_col1, #T_f7ce9_row26_col2, #T_f7ce9_row27_col0, #T_f7ce9_row27_col1, #T_f7ce9_row27_col2, #T_f7ce9_row28_col0, #T_f7ce9_row28_col1, #T_f7ce9_row28_col2 {\n",
       "  text-align: center;\n",
       "}\n",
       "</style>\n",
       "<table id=\"T_f7ce9_\">\n",
       "  <thead>\n",
       "    <tr>\n",
       "      <th class=\"col_heading level0 col0\" >Implemeting Agency Name</th>\n",
       "      <th class=\"col_heading level0 col1\" >Total Applications</th>\n",
       "      <th class=\"col_heading level0 col2\" >Success Rate</th>\n",
       "    </tr>\n",
       "  </thead>\n",
       "  <tbody>\n",
       "    <tr>\n",
       "      <td id=\"T_f7ce9_row0_col0\" class=\"data row0 col0\" >City of Ontario</td>\n",
       "      <td id=\"T_f7ce9_row0_col1\" class=\"data row0 col1\" >3</td>\n",
       "      <td id=\"T_f7ce9_row0_col2\" class=\"data row0 col2\" >33.33%</td>\n",
       "    </tr>\n",
       "    <tr>\n",
       "      <td id=\"T_f7ce9_row1_col0\" class=\"data row1 col0\" >City of Perris</td>\n",
       "      <td id=\"T_f7ce9_row1_col1\" class=\"data row1 col1\" >1</td>\n",
       "      <td id=\"T_f7ce9_row1_col2\" class=\"data row1 col2\" >100.00%</td>\n",
       "    </tr>\n",
       "    <tr>\n",
       "      <td id=\"T_f7ce9_row2_col0\" class=\"data row2 col0\" >Riverside County</td>\n",
       "      <td id=\"T_f7ce9_row2_col1\" class=\"data row2 col1\" >9</td>\n",
       "      <td id=\"T_f7ce9_row2_col2\" class=\"data row2 col2\" >11.11%</td>\n",
       "    </tr>\n",
       "    <tr>\n",
       "      <td id=\"T_f7ce9_row3_col0\" class=\"data row3 col0\" >San Bernardino County</td>\n",
       "      <td id=\"T_f7ce9_row3_col1\" class=\"data row3 col1\" >2</td>\n",
       "      <td id=\"T_f7ce9_row3_col2\" class=\"data row3 col2\" >50.00%</td>\n",
       "    </tr>\n",
       "    <tr>\n",
       "      <td id=\"T_f7ce9_row4_col0\" class=\"data row4 col0\" >California Department of Transportation</td>\n",
       "      <td id=\"T_f7ce9_row4_col1\" class=\"data row4 col1\" >1</td>\n",
       "      <td id=\"T_f7ce9_row4_col2\" class=\"data row4 col2\" >0.00%</td>\n",
       "    </tr>\n",
       "    <tr>\n",
       "      <td id=\"T_f7ce9_row5_col0\" class=\"data row5 col0\" >City of Adelanto</td>\n",
       "      <td id=\"T_f7ce9_row5_col1\" class=\"data row5 col1\" >1</td>\n",
       "      <td id=\"T_f7ce9_row5_col2\" class=\"data row5 col2\" >0.00%</td>\n",
       "    </tr>\n",
       "    <tr>\n",
       "      <td id=\"T_f7ce9_row6_col0\" class=\"data row6 col0\" >City of Barstow</td>\n",
       "      <td id=\"T_f7ce9_row6_col1\" class=\"data row6 col1\" >1</td>\n",
       "      <td id=\"T_f7ce9_row6_col2\" class=\"data row6 col2\" >0.00%</td>\n",
       "    </tr>\n",
       "    <tr>\n",
       "      <td id=\"T_f7ce9_row7_col0\" class=\"data row7 col0\" >City of Big Bear Lake</td>\n",
       "      <td id=\"T_f7ce9_row7_col1\" class=\"data row7 col1\" >2</td>\n",
       "      <td id=\"T_f7ce9_row7_col2\" class=\"data row7 col2\" >0.00%</td>\n",
       "    </tr>\n",
       "    <tr>\n",
       "      <td id=\"T_f7ce9_row8_col0\" class=\"data row8 col0\" >City of Cathedral City</td>\n",
       "      <td id=\"T_f7ce9_row8_col1\" class=\"data row8 col1\" >1</td>\n",
       "      <td id=\"T_f7ce9_row8_col2\" class=\"data row8 col2\" >0.00%</td>\n",
       "    </tr>\n",
       "    <tr>\n",
       "      <td id=\"T_f7ce9_row9_col0\" class=\"data row9 col0\" >City of Coachella</td>\n",
       "      <td id=\"T_f7ce9_row9_col1\" class=\"data row9 col1\" >1</td>\n",
       "      <td id=\"T_f7ce9_row9_col2\" class=\"data row9 col2\" >0.00%</td>\n",
       "    </tr>\n",
       "    <tr>\n",
       "      <td id=\"T_f7ce9_row10_col0\" class=\"data row10 col0\" >City of Desert Hot Springs</td>\n",
       "      <td id=\"T_f7ce9_row10_col1\" class=\"data row10 col1\" >3</td>\n",
       "      <td id=\"T_f7ce9_row10_col2\" class=\"data row10 col2\" >0.00%</td>\n",
       "    </tr>\n",
       "    <tr>\n",
       "      <td id=\"T_f7ce9_row11_col0\" class=\"data row11 col0\" >City of Eastvale</td>\n",
       "      <td id=\"T_f7ce9_row11_col1\" class=\"data row11 col1\" >2</td>\n",
       "      <td id=\"T_f7ce9_row11_col2\" class=\"data row11 col2\" >0.00%</td>\n",
       "    </tr>\n",
       "    <tr>\n",
       "      <td id=\"T_f7ce9_row12_col0\" class=\"data row12 col0\" >City of Fontana</td>\n",
       "      <td id=\"T_f7ce9_row12_col1\" class=\"data row12 col1\" >4</td>\n",
       "      <td id=\"T_f7ce9_row12_col2\" class=\"data row12 col2\" >0.00%</td>\n",
       "    </tr>\n",
       "    <tr>\n",
       "      <td id=\"T_f7ce9_row13_col0\" class=\"data row13 col0\" >City of Highland</td>\n",
       "      <td id=\"T_f7ce9_row13_col1\" class=\"data row13 col1\" >1</td>\n",
       "      <td id=\"T_f7ce9_row13_col2\" class=\"data row13 col2\" >0.00%</td>\n",
       "    </tr>\n",
       "    <tr>\n",
       "      <td id=\"T_f7ce9_row14_col0\" class=\"data row14 col0\" >City of Jurupa Valley</td>\n",
       "      <td id=\"T_f7ce9_row14_col1\" class=\"data row14 col1\" >1</td>\n",
       "      <td id=\"T_f7ce9_row14_col2\" class=\"data row14 col2\" >0.00%</td>\n",
       "    </tr>\n",
       "    <tr>\n",
       "      <td id=\"T_f7ce9_row15_col0\" class=\"data row15 col0\" >City of Menifee</td>\n",
       "      <td id=\"T_f7ce9_row15_col1\" class=\"data row15 col1\" >2</td>\n",
       "      <td id=\"T_f7ce9_row15_col2\" class=\"data row15 col2\" >0.00%</td>\n",
       "    </tr>\n",
       "    <tr>\n",
       "      <td id=\"T_f7ce9_row16_col0\" class=\"data row16 col0\" >City of Montclair</td>\n",
       "      <td id=\"T_f7ce9_row16_col1\" class=\"data row16 col1\" >1</td>\n",
       "      <td id=\"T_f7ce9_row16_col2\" class=\"data row16 col2\" >0.00%</td>\n",
       "    </tr>\n",
       "    <tr>\n",
       "      <td id=\"T_f7ce9_row17_col0\" class=\"data row17 col0\" >City of Moreno Valley</td>\n",
       "      <td id=\"T_f7ce9_row17_col1\" class=\"data row17 col1\" >2</td>\n",
       "      <td id=\"T_f7ce9_row17_col2\" class=\"data row17 col2\" >0.00%</td>\n",
       "    </tr>\n",
       "    <tr>\n",
       "      <td id=\"T_f7ce9_row18_col0\" class=\"data row18 col0\" >City of Murrieta</td>\n",
       "      <td id=\"T_f7ce9_row18_col1\" class=\"data row18 col1\" >1</td>\n",
       "      <td id=\"T_f7ce9_row18_col2\" class=\"data row18 col2\" >0.00%</td>\n",
       "    </tr>\n",
       "    <tr>\n",
       "      <td id=\"T_f7ce9_row19_col0\" class=\"data row19 col0\" >City of Riverside</td>\n",
       "      <td id=\"T_f7ce9_row19_col1\" class=\"data row19 col1\" >2</td>\n",
       "      <td id=\"T_f7ce9_row19_col2\" class=\"data row19 col2\" >0.00%</td>\n",
       "    </tr>\n",
       "    <tr>\n",
       "      <td id=\"T_f7ce9_row20_col0\" class=\"data row20 col0\" >City of San Bernardio</td>\n",
       "      <td id=\"T_f7ce9_row20_col1\" class=\"data row20 col1\" >1</td>\n",
       "      <td id=\"T_f7ce9_row20_col2\" class=\"data row20 col2\" >0.00%</td>\n",
       "    </tr>\n",
       "    <tr>\n",
       "      <td id=\"T_f7ce9_row21_col0\" class=\"data row21 col0\" >City of San Jacinto</td>\n",
       "      <td id=\"T_f7ce9_row21_col1\" class=\"data row21 col1\" >1</td>\n",
       "      <td id=\"T_f7ce9_row21_col2\" class=\"data row21 col2\" >0.00%</td>\n",
       "    </tr>\n",
       "    <tr>\n",
       "      <td id=\"T_f7ce9_row22_col0\" class=\"data row22 col0\" >City of Twentynine Palms</td>\n",
       "      <td id=\"T_f7ce9_row22_col1\" class=\"data row22 col1\" >1</td>\n",
       "      <td id=\"T_f7ce9_row22_col2\" class=\"data row22 col2\" >0.00%</td>\n",
       "    </tr>\n",
       "    <tr>\n",
       "      <td id=\"T_f7ce9_row23_col0\" class=\"data row23 col0\" >City of Wildomar</td>\n",
       "      <td id=\"T_f7ce9_row23_col1\" class=\"data row23 col1\" >1</td>\n",
       "      <td id=\"T_f7ce9_row23_col2\" class=\"data row23 col2\" >0.00%</td>\n",
       "    </tr>\n",
       "    <tr>\n",
       "      <td id=\"T_f7ce9_row24_col0\" class=\"data row24 col0\" >City of Woodlake</td>\n",
       "      <td id=\"T_f7ce9_row24_col1\" class=\"data row24 col1\" >1</td>\n",
       "      <td id=\"T_f7ce9_row24_col2\" class=\"data row24 col2\" >0.00%</td>\n",
       "    </tr>\n",
       "    <tr>\n",
       "      <td id=\"T_f7ce9_row25_col0\" class=\"data row25 col0\" >City of Yucaipa</td>\n",
       "      <td id=\"T_f7ce9_row25_col1\" class=\"data row25 col1\" >1</td>\n",
       "      <td id=\"T_f7ce9_row25_col2\" class=\"data row25 col2\" >0.00%</td>\n",
       "    </tr>\n",
       "    <tr>\n",
       "      <td id=\"T_f7ce9_row26_col0\" class=\"data row26 col0\" >City of- Needles</td>\n",
       "      <td id=\"T_f7ce9_row26_col1\" class=\"data row26 col1\" >1</td>\n",
       "      <td id=\"T_f7ce9_row26_col2\" class=\"data row26 col2\" >0.00%</td>\n",
       "    </tr>\n",
       "    <tr>\n",
       "      <td id=\"T_f7ce9_row27_col0\" class=\"data row27 col0\" >Coachella Valley Association of Governments</td>\n",
       "      <td id=\"T_f7ce9_row27_col1\" class=\"data row27 col1\" >1</td>\n",
       "      <td id=\"T_f7ce9_row27_col2\" class=\"data row27 col2\" >0.00%</td>\n",
       "    </tr>\n",
       "    <tr>\n",
       "      <td id=\"T_f7ce9_row28_col0\" class=\"data row28 col0\" >Town of Apple Valley</td>\n",
       "      <td id=\"T_f7ce9_row28_col1\" class=\"data row28 col1\" >2</td>\n",
       "      <td id=\"T_f7ce9_row28_col2\" class=\"data row28 col2\" >0.00%</td>\n",
       "    </tr>\n",
       "  </tbody>\n",
       "</table>\n"
      ],
      "text/plain": [
       "<IPython.core.display.HTML object>"
      ]
     },
     "metadata": {},
     "output_type": "display_data"
    }
   ],
   "source": [
    "_report_utils.map_dist_proj(funded, df, 8)"
   ]
  },
  {
   "cell_type": "code",
   "execution_count": null,
   "id": "5981075e-b3d0-4529-8d2b-9e682df328ad",
   "metadata": {},
   "outputs": [],
   "source": []
  },
  {
   "cell_type": "markdown",
   "id": "ab2c47e3-e2fd-4e2d-96e7-1e836d710f2f",
   "metadata": {},
   "source": [
    "### District 9 - Bishop"
   ]
  },
  {
   "cell_type": "code",
   "execution_count": 43,
   "id": "6e21a5bd-c61b-4495-ae78-9cd374df49c2",
   "metadata": {},
   "outputs": [
    {
     "data": {
      "text/html": [
       "\n",
       "<div id=\"altair-viz-5b461545e9ad47cbb31e873c6b7f4c64\"></div>\n",
       "<script type=\"text/javascript\">\n",
       "  var VEGA_DEBUG = (typeof VEGA_DEBUG == \"undefined\") ? {} : VEGA_DEBUG;\n",
       "  (function(spec, embedOpt){\n",
       "    let outputDiv = document.currentScript.previousElementSibling;\n",
       "    if (outputDiv.id !== \"altair-viz-5b461545e9ad47cbb31e873c6b7f4c64\") {\n",
       "      outputDiv = document.getElementById(\"altair-viz-5b461545e9ad47cbb31e873c6b7f4c64\");\n",
       "    }\n",
       "    const paths = {\n",
       "      \"vega\": \"https://cdn.jsdelivr.net/npm//vega@5?noext\",\n",
       "      \"vega-lib\": \"https://cdn.jsdelivr.net/npm//vega-lib?noext\",\n",
       "      \"vega-lite\": \"https://cdn.jsdelivr.net/npm//vega-lite@4.17.0?noext\",\n",
       "      \"vega-embed\": \"https://cdn.jsdelivr.net/npm//vega-embed@6?noext\",\n",
       "    };\n",
       "\n",
       "    function maybeLoadScript(lib, version) {\n",
       "      var key = `${lib.replace(\"-\", \"\")}_version`;\n",
       "      return (VEGA_DEBUG[key] == version) ?\n",
       "        Promise.resolve(paths[lib]) :\n",
       "        new Promise(function(resolve, reject) {\n",
       "          var s = document.createElement('script');\n",
       "          document.getElementsByTagName(\"head\")[0].appendChild(s);\n",
       "          s.async = true;\n",
       "          s.onload = () => {\n",
       "            VEGA_DEBUG[key] = version;\n",
       "            return resolve(paths[lib]);\n",
       "          };\n",
       "          s.onerror = () => reject(`Error loading script: ${paths[lib]}`);\n",
       "          s.src = paths[lib];\n",
       "        });\n",
       "    }\n",
       "\n",
       "    function showError(err) {\n",
       "      outputDiv.innerHTML = `<div class=\"error\" style=\"color:red;\">${err}</div>`;\n",
       "      throw err;\n",
       "    }\n",
       "\n",
       "    function displayChart(vegaEmbed) {\n",
       "      vegaEmbed(outputDiv, spec, embedOpt)\n",
       "        .catch(err => showError(`Javascript Error: ${err.message}<br>This usually means there's a typo in your chart specification. See the javascript console for the full traceback.`));\n",
       "    }\n",
       "\n",
       "    if(typeof define === \"function\" && define.amd) {\n",
       "      requirejs.config({paths});\n",
       "      require([\"vega-embed\"], displayChart, err => showError(`Error loading script: ${err.message}`));\n",
       "    } else {\n",
       "      maybeLoadScript(\"vega\", \"5\")\n",
       "        .then(() => maybeLoadScript(\"vega-lite\", \"4.17.0\"))\n",
       "        .then(() => maybeLoadScript(\"vega-embed\", \"6\"))\n",
       "        .catch(showError)\n",
       "        .then(() => displayChart(vegaEmbed));\n",
       "    }\n",
       "  })({\"config\": {\"view\": {\"continuousWidth\": 400, \"continuousHeight\": 300}}, \"data\": {\"name\": \"data-d751713988987e9331980363e24189ce\"}, \"mark\": \"bar\", \"encoding\": {\"color\": {\"field\": \"Project Name\", \"legend\": null, \"scale\": {\"range\": [\"#E16B26\", \"#EB9F3C\", \"#f6e7e1\", \"#8CBCCB\", \"#2EA8CE\", \"#136C97\"]}, \"type\": \"nominal\"}, \"tooltip\": [{\"field\": \"Project Name\", \"type\": \"nominal\"}, {\"field\": \"Total ATP Funds\", \"type\": \"quantitative\"}], \"x\": {\"field\": \"Total ATP Funds\", \"type\": \"quantitative\"}, \"y\": {\"field\": \"Implemeting Agency Name\", \"type\": \"nominal\"}}, \"title\": \"Total ATP Funds by Project\", \"$schema\": \"https://vega.github.io/schema/vega-lite/v4.17.0.json\", \"datasets\": {\"data-d751713988987e9331980363e24189ce\": []}}, {\"mode\": \"vega-lite\"});\n",
       "</script>"
      ],
      "text/plain": [
       "alt.Chart(...)"
      ]
     },
     "metadata": {},
     "output_type": "display_data"
    },
    {
     "data": {
      "text/html": [
       "<h4>Funded Project Information</h4>"
      ],
      "text/plain": [
       "<IPython.core.display.HTML object>"
      ]
     },
     "metadata": {},
     "output_type": "display_data"
    },
    {
     "data": {
      "text/html": [
       "<style type=\"text/css\">\n",
       "#T_fd9a9_ th {\n",
       "  text-align: center;\n",
       "}\n",
       "</style>\n",
       "<table id=\"T_fd9a9_\">\n",
       "  <thead>\n",
       "    <tr>\n",
       "      <th class=\"col_heading level0 col0\" >Implemeting Agency Name</th>\n",
       "      <th class=\"col_heading level0 col1\" >Project Name</th>\n",
       "      <th class=\"col_heading level0 col2\" >County</th>\n",
       "      <th class=\"col_heading level0 col3\" >Total Atp Funds</th>\n",
       "      <th class=\"col_heading level0 col4\" >Total Project Cost</th>\n",
       "    </tr>\n",
       "  </thead>\n",
       "  <tbody>\n",
       "  </tbody>\n",
       "</table>\n"
      ],
      "text/plain": [
       "<IPython.core.display.HTML object>"
      ]
     },
     "metadata": {},
     "output_type": "display_data"
    },
    {
     "data": {
      "text/html": [
       "</br><h4> Success Rates for Agencies in District 9 </h4>"
      ],
      "text/plain": [
       "<IPython.core.display.HTML object>"
      ]
     },
     "metadata": {},
     "output_type": "display_data"
    },
    {
     "data": {
      "text/html": [
       "<style type=\"text/css\">\n",
       "#T_95006_ th {\n",
       "  text-align: center;\n",
       "}\n",
       "#T_95006_row0_col0, #T_95006_row0_col1, #T_95006_row0_col2, #T_95006_row1_col0, #T_95006_row1_col1, #T_95006_row1_col2, #T_95006_row2_col0, #T_95006_row2_col1, #T_95006_row2_col2 {\n",
       "  text-align: center;\n",
       "}\n",
       "</style>\n",
       "<table id=\"T_95006_\">\n",
       "  <thead>\n",
       "    <tr>\n",
       "      <th class=\"col_heading level0 col0\" >Implemeting Agency Name</th>\n",
       "      <th class=\"col_heading level0 col1\" >Total Applications</th>\n",
       "      <th class=\"col_heading level0 col2\" >Success Rate</th>\n",
       "    </tr>\n",
       "  </thead>\n",
       "  <tbody>\n",
       "    <tr>\n",
       "      <td id=\"T_95006_row0_col0\" class=\"data row0 col0\" >California Department of Transportation</td>\n",
       "      <td id=\"T_95006_row0_col1\" class=\"data row0 col1\" >1</td>\n",
       "      <td id=\"T_95006_row0_col2\" class=\"data row0 col2\" >0.00%</td>\n",
       "    </tr>\n",
       "    <tr>\n",
       "      <td id=\"T_95006_row1_col0\" class=\"data row1 col0\" >City of Bishop</td>\n",
       "      <td id=\"T_95006_row1_col1\" class=\"data row1 col1\" >1</td>\n",
       "      <td id=\"T_95006_row1_col2\" class=\"data row1 col2\" >0.00%</td>\n",
       "    </tr>\n",
       "    <tr>\n",
       "      <td id=\"T_95006_row2_col0\" class=\"data row2 col0\" >City of Tehachapi</td>\n",
       "      <td id=\"T_95006_row2_col1\" class=\"data row2 col1\" >2</td>\n",
       "      <td id=\"T_95006_row2_col2\" class=\"data row2 col2\" >0.00%</td>\n",
       "    </tr>\n",
       "  </tbody>\n",
       "</table>\n"
      ],
      "text/plain": [
       "<IPython.core.display.HTML object>"
      ]
     },
     "metadata": {},
     "output_type": "display_data"
    }
   ],
   "source": [
    "_report_utils.map_dist_proj(funded, df, 9)"
   ]
  },
  {
   "cell_type": "code",
   "execution_count": null,
   "id": "bba8c386-1b71-4d36-af39-20f135a77bfd",
   "metadata": {},
   "outputs": [],
   "source": []
  },
  {
   "cell_type": "markdown",
   "id": "4877ec9e-ba57-43d3-bfed-08fbaa500cee",
   "metadata": {},
   "source": [
    "### District 10 - Stockton"
   ]
  },
  {
   "cell_type": "code",
   "execution_count": 44,
   "id": "231d86f4-700e-438a-bfb8-2216488521d1",
   "metadata": {},
   "outputs": [
    {
     "data": {
      "text/html": [
       "\n",
       "<div id=\"altair-viz-483e69804fd34dcb82fe86be7fee5a4c\"></div>\n",
       "<script type=\"text/javascript\">\n",
       "  var VEGA_DEBUG = (typeof VEGA_DEBUG == \"undefined\") ? {} : VEGA_DEBUG;\n",
       "  (function(spec, embedOpt){\n",
       "    let outputDiv = document.currentScript.previousElementSibling;\n",
       "    if (outputDiv.id !== \"altair-viz-483e69804fd34dcb82fe86be7fee5a4c\") {\n",
       "      outputDiv = document.getElementById(\"altair-viz-483e69804fd34dcb82fe86be7fee5a4c\");\n",
       "    }\n",
       "    const paths = {\n",
       "      \"vega\": \"https://cdn.jsdelivr.net/npm//vega@5?noext\",\n",
       "      \"vega-lib\": \"https://cdn.jsdelivr.net/npm//vega-lib?noext\",\n",
       "      \"vega-lite\": \"https://cdn.jsdelivr.net/npm//vega-lite@4.17.0?noext\",\n",
       "      \"vega-embed\": \"https://cdn.jsdelivr.net/npm//vega-embed@6?noext\",\n",
       "    };\n",
       "\n",
       "    function maybeLoadScript(lib, version) {\n",
       "      var key = `${lib.replace(\"-\", \"\")}_version`;\n",
       "      return (VEGA_DEBUG[key] == version) ?\n",
       "        Promise.resolve(paths[lib]) :\n",
       "        new Promise(function(resolve, reject) {\n",
       "          var s = document.createElement('script');\n",
       "          document.getElementsByTagName(\"head\")[0].appendChild(s);\n",
       "          s.async = true;\n",
       "          s.onload = () => {\n",
       "            VEGA_DEBUG[key] = version;\n",
       "            return resolve(paths[lib]);\n",
       "          };\n",
       "          s.onerror = () => reject(`Error loading script: ${paths[lib]}`);\n",
       "          s.src = paths[lib];\n",
       "        });\n",
       "    }\n",
       "\n",
       "    function showError(err) {\n",
       "      outputDiv.innerHTML = `<div class=\"error\" style=\"color:red;\">${err}</div>`;\n",
       "      throw err;\n",
       "    }\n",
       "\n",
       "    function displayChart(vegaEmbed) {\n",
       "      vegaEmbed(outputDiv, spec, embedOpt)\n",
       "        .catch(err => showError(`Javascript Error: ${err.message}<br>This usually means there's a typo in your chart specification. See the javascript console for the full traceback.`));\n",
       "    }\n",
       "\n",
       "    if(typeof define === \"function\" && define.amd) {\n",
       "      requirejs.config({paths});\n",
       "      require([\"vega-embed\"], displayChart, err => showError(`Error loading script: ${err.message}`));\n",
       "    } else {\n",
       "      maybeLoadScript(\"vega\", \"5\")\n",
       "        .then(() => maybeLoadScript(\"vega-lite\", \"4.17.0\"))\n",
       "        .then(() => maybeLoadScript(\"vega-embed\", \"6\"))\n",
       "        .catch(showError)\n",
       "        .then(() => displayChart(vegaEmbed));\n",
       "    }\n",
       "  })({\"config\": {\"view\": {\"continuousWidth\": 400, \"continuousHeight\": 300}}, \"data\": {\"name\": \"data-842356cc22c2bea0d0d4b8103017cfe5\"}, \"mark\": \"bar\", \"encoding\": {\"color\": {\"field\": \"Project Name\", \"legend\": null, \"scale\": {\"range\": [\"#E16B26\", \"#EB9F3C\", \"#f6e7e1\", \"#8CBCCB\", \"#2EA8CE\", \"#136C97\"]}, \"type\": \"nominal\"}, \"tooltip\": [{\"field\": \"Project Name\", \"type\": \"nominal\"}, {\"field\": \"Total ATP Funds\", \"type\": \"quantitative\"}], \"x\": {\"field\": \"Total ATP Funds\", \"type\": \"quantitative\"}, \"y\": {\"field\": \"Implemeting Agency Name\", \"type\": \"nominal\"}}, \"title\": \"Total ATP Funds by Project\", \"$schema\": \"https://vega.github.io/schema/vega-lite/v4.17.0.json\", \"datasets\": {\"data-842356cc22c2bea0d0d4b8103017cfe5\": [{\"Project ID\": \"10-Mariposa County-1\", \"project_cycle\": 5, \"a1_locode\": 5940.0, \"#\": null, \"atp_id\": null, \"awarded\": \"Y\", \"ppno\": 3513, \"ppno_1\": null, \"data_origin\": \"Funded\", \"geometry\": null, \"project_status\": \"Active\", \"solicitation_abv\": \"S\", \"solicitation\": \"STATEWIDE SOLICITATION-CYCLE 5\", \"soliciting_agency\": \"CALTRANS\", \"project_size\": \"Small\", \"a1_imp_agcy_city\": \"Mariposa\", \"a1_imp_agcy_name\": \"Mariposa County\", \"a1_proj_partner_agcy\": null, \"a1_proj_partner_exists\": \"No \", \"assembly_district\": 5, \"congressional_district\": 4, \"senate_district\": 8, \"County\": \"Mariposa\", \"a2_ct_dist\": 10, \"a2_info_proj_descr\": \"Construct new curb, gutter, sidewalks, ADA ramps, drainage improvements, high visibility school zone striping and signage for pedestrians and schools.\", \"a2_info_proj_loc\": \"The proposed project is in the unincorporated community of Mariposa on Bullion Street, 6th Street, 7th Street, and Jones Street adjacent to Mariposa Elementary School.\", \"Project Name\": \"Mariposa Elementary School Connectivity Project\", \"a2_mop_uza_population\": \"Project is located outside one of the ten large MPOs in a UZA with Pop <= 5,000\", \"a2_mpo\": \"MCTC\", \"a2_rtpa\": \"Mariposa CTC\", \"a2_proj_scope_summary\": \"This is a Safe Routes to School project in a disadvantaged community. The County received past SRTS/ST2S funds, however due to a CON shortfall, the construction remains incomplete and the prior funding has lapsed. New project scope includes PAED to prepar\", \"a1_imp_agcy_fed_ma_num\": \"10-5940F15\", \"a1_imp_agcy_ma\": \"Yes\", \"a1_imp_agcy_state_ma_num\": \"74A0793\", \"a1_imp_agcy_street\": \"4639 Ben Hur Road\", \"a1_imp_agcy_title\": \"Director of Public Works & Transportation\", \"a1_imp_agcy_zip\": 95338, \"a1_letter_of_intent\": null, \"a1_proj_partner_title\": null, \"a2_assem_dist_a\": 5.0, \"a2_assem_dist_b\": null, \"a2_assem_dist_c\": null, \"a2_congress_dist_a\": 4.0, \"a2_congress_dist_b\": null, \"a2_congress_dist_c\": null, \"a2_past_proj\": \"Yes                           \", \"a2_past_proj_qty\": 2, \"a2_proj_lat\": 37.48632, \"a2_proj_long\": -119.96406, \"a2_project_location_map\": null, \"a2_senate_dist_a\": 8.0, \"a2_senate_dist_b\": null, \"a2_senatedistc\": null, \"a3_plan_active_trans\": null, \"a3_plan_active_trans_exists\": \"No \", \"a3_plan_bicycle\": null, \"a3_plan_bicycle_exists\": \"Yes\", \"a3_plan_ped\": null, \"a3_plan_ped_exists\": \"Yes\", \"a3_plan_srts\": null, \"a3_plan_srts_exists\": \"No \", \"a3_proj_type\": null, \"a3_st_bicycle_applies\": \"No \", \"a3_st_bicycle_pct\": 0.0, \"a3_st_num_schools\": 2, \"a3_st_ped_applies\": \"Yes\", \"a3_st_ped_pct\": 100, \"a3_st_srts\": \"Yes\", \"a3_trail_elig_cost\": 0.0, \"a3_trail_fed_funding\": null, \"a3_trail_trans_pct\": null, \"a3_trails\": null, \"agency_app_num\": null, \"app_pk\": null, \"attch_addtl_attachments\": null, \"attch_app_sig_page\": null, \"attch_conditions_photos\": null, \"attch_conditions_project_map\": null, \"attch_engineeers_checklist\": null, \"attch_exhibit22_plan\": null, \"attch_letters_of_support\": null, \"attch_link\": null, \"attch_ni_workplan\": null, \"attch_project_estimate\": null, \"completed_pdf_form\": null, \"main_datetime_stamp\": \"\", \"a3_plan_none\": \"0\", \"a3_plan_other\": \"0\", \"a3_plan_other_desc\": \"Regional Transportation Plan\", \"a2_output_outcome\": \"Construct approximately 3,200 linear feet of new sidewalk including curbs, gutters, ramps, drainage improvements, and retaining walls to close gaps and improve pedestrian safety in a school zone.\", \"a3_current_plan\": \"Yes\", \"b_sig_inter_new_bike_boxes\": null, \"b_class_1\": null, \"b_class_2\": null, \"b_class_3\": null, \"b_class_4\": null, \"a4_bike_gap_pct\": null, \"b_light_intersection\": null, \"b_mid_block_new_rrfb_signal\": null, \"b_mid_block_surf_improv\": null, \"b_bsp_new_bikes\": null, \"b_bike_new_secured_lockers\": null, \"b_bike_new_racks\": null, \"b_bsp_new_station\": null, \"b_other_bike_improv_1\": null, \"b_other_bike_improv_qty_1\": null, \"b_other_bike_improv_2\": null, \"b_other_bike_improv_qty_2\": null, \"b_light_rdwy_seg\": null, \"b_sig_inter_timing_improv\": null, \"b_un_sig_new_rrfb_signal\": null, \"b_un_sig_cross_surf_improv\": null, \"a4_easement_support\": null, \"m_cls_1_trails_widen_recon_exist\": null, \"m_cls_1_trails_new__less_than_9\": null, \"m_cls_1_trails_new_over_9\": null, \"m_non_cls_trails_new\": null, \"m_other_trail_imprv_1\": null, \"m_other_trail_improv_qty_1\": null, \"m_other_trail_imprv_2\": null, \"m_other_trail_improv_qty_2\": null, \"m_non_cls_widen_recon_exist\": null, \"p_amenities_bench\": null, \"a4_ped_gap_pct\": null, \"p_mid_block_cross_new_rrfb_signal\": null, \"p_light_intersection\": null, \"p_lighting_rdwy_seg\": null, \"p_mid_block_cross_surf_improv\": null, \"p_new_ada_ramp\": 13.0, \"p_sidewlks_new_barrier_protect\": null, \"p_sidewlks_new_4_to_8\": 3200.0, \"p_sidewlks_new_over_8\": null, \"p_other_ped_imprv_1\": null, \"p_other_ped_qty_1\": null, \"p_other_ped_imprv_2\": null, \"p_other_ped_qty_2\": null, \"p_reconstruct_ramp_to_ada_stand\": null, \"p_sidewlks_reconstruct_enhance_exist\": null, \"p_sig_inter_enhance_exist_crosswlk\": null, \"p_sig_inter_new_crosswlk\": null, \"p_sig_inter_ped_heads\": null, \"p_sig_inter_shorten_cross\": null, \"p_sig_inter_timing_improv\": null, \"p_amenities_trash_can\": null, \"p_amenities_shade_tree\": null, \"p_amenities_shade_tree_type\": null, \"p_un_sig_inter_new_traff_sig\": null, \"p_un_sig_inter_new_roundabout\": null, \"p_un_sig_inter_new_rrfb_sig\": null, \"p_un_sig_inter_shorten_cross\": null, \"p_un_sig_inter_cross_surface_improv\": 9.0, \"p_sidewlks_widen_existing\": null, \"a4_row_100\": null, \"a4_row_gov_ease\": null, \"a4_row_private_ease\": null, \"v_other_traffic_calming_imprv_1\": null, \"v_speed_feedback_signs\": null, \"v_other_traffic_calming_qty_1\": null, \"v_other_traffic_calming_imprv_2\": null, \"v_other_traffic_calming_qty_2\": null, \"v_remove_right_turn_pocket\": null, \"v_remove_travel_ln\": null, \"v_sig_inter_new_roundabout\": null, \"v_sig_inter_timing_improv\": null, \"v_un_sig_inter_new_traf_sig\": null, \"v_un_sig_inter_new_roundabout\": null, \"app_fk\": null, \"details_datetime_stamp\": \"\", \"a4_reg_init\": \"N\", \"a4_reg_init_pct\": 0, \"a4_com_init\": \"N\", \"a4_com_init_pct\": 0, \"a4_safe_route\": \"N\", \"a4_safe_route_pct\": 0, \"a4_fl_mile\": \"N\", \"a4_fl_mile_pct\": 0, \"a4_emp_based\": null, \"a4_emp_based_pct\": 0.0, \"a4_other_ni\": \"N\", \"a4_other_ni_descr\": null, \"a4_other_ni_pct\": 0, \"a4_wb_audits\": 0.0, \"a4_bike_classes\": 0.0, \"a4_ped_classes\": 0.0, \"a4_demo_events\": 0.0, \"a4_com_enc\": 0.0, \"a4_le_methods\": 0.0, \"a4_com_meetings\": 0.0, \"a4_classrooms\": 0.0, \"a4_school_assem\": 0.0, \"a4_after_school\": 0.0, \"a4_bike_rodeos\": 0.0, \"a4_mock_cities\": 0.0, \"a4_walk_bus\": 0.0, \"a4_bike_train\": 0.0, \"a4_com_challenges\": 0.0, \"a4_srts_enc\": 0.0, \"a4_srts_le\": 0.0, \"a4_srts_training\": 0.0, \"a4_act_other_1\": 0.0, \"a4_act_other_1_descr\": null, \"a4_act_other_2\": 0.0, \"a4_act_other_2_decr\": null, \"a4_comm_trad_media\": \"N\", \"a4_comm_large_media\": \"N\", \"a4_comm_print\": \"N\", \"a4_comm_social\": \"N\", \"a4_comm_web\": \"N\", \"a4_comm_other\": \"N\", \"a4_comm_other_descr\": null, \"a4_comm_language\": null, \"a4_collab_pub_health\": \"N\", \"a4_collab_le\": \"N\", \"a4_collab_non_profit\": \"N\", \"a4_collab_schools\": \"N\", \"a4_collab_pub_works\": \"N\", \"a4_collab_other\": \"N\", \"a4_colab_other_descr\": null, \"a4_plan_ped\": \"N\", \"a4_plan_bike\": \"N\", \"a4_plan_atp\": \"N\", \"a4_plan_school_routes\": \"N\", \"a4_row_open_street_demo\": \"No\", \"atp_id_x\": \"ATP5-10-007S\", \"a3_proj_type_x\": \"Infrastructure - Small\", \"agency_fully_own_r_w\": \"X\", \"require_r_w_easement,_from_gov\": null, \"_require_rw_easement_from_private\": null, \"atp_id_y\": \"ATP5-10-007S\", \"ppno1\": null, \"oversight_id\": \"Standard\", \"a3_proj_type_y\": \"Infrastructure\", \"Total Project Cost\": 1900000.0, \"original_prog__amt___pa_ed_\": 100000.0, \"orig__prog__year__pa_ed_\": \"21/22\", \"original_prog__amt___ps_e_\": null, \"orig__prog__year__ps_e_\": null, \"original_prog__amt___rw_\": null, \"orig__prog__year__rw_\": null, \"orignal_prog__amt___con_\": 1800000.0, \"orig__prog__year__con_\": \"23/24\", \"original_prog__amt___con_ni_\": null, \"orig__prog__year__con_ni_\": null, \"total\": 1900000.0, \"_2122_pa_ed\": 100000.0, \"_2122_ps_e\": null, \"_2122_rw\": null, \"_2122_con\": null, \"_2122_con_ni\": null, \"_2122_total\": 100000.0, \"fund_year_1\": \"21/22\", \"_2223_pa_ed\": null, \"_2223_ps_e\": null, \"_2223_rw\": null, \"_2223_con\": null, \"_2223_con_ni\": null, \"_2223_total\": 0.0, \"fund_year_2\": \"22/23\", \"_2324_pa_ed\": null, \"_2324_ps_e\": null, \"_2324_rw\": null, \"_2324_con\": 1800000.0, \"_2324_con_ni\": null, \"_2324_total\": 1800000.0, \"fund_year_3\": \"23/24\", \"_2425_pa_ed\": null, \"_2425_ps_e\": null, \"_2425_rw\": null, \"_2425_con\": null, \"_2425_con_ni\": null, \"_2425_total\": 0.0, \"fund_year_4\": \"24/25\", \"Total ATP Funds\": 1900000.0, \"match_total_atp_$_and_total\": \"YES\", \"match_total_atp_$_and_total_atp_x_1000\": \"YES\", \"paed\": 100.0, \"ps_e_\": 0.0, \"rw\": 0.0, \"con\": 1800.0, \"con_ni\": 0.0, \"total_atp__000s_\": 1900.0, \"total_atp_x_1000\": 1900000.0, \"year__pa_ed_\": \"21/22\", \"year__ps_e_\": null, \"year__rw_\": null, \"year__con_\": \"23/24\", \"year__con_ni_\": null, \"Implemeting Agency Name\": \"Mariposa County\"}, {\"Project ID\": \"10-Mariposa County-2\", \"project_cycle\": 5, \"a1_locode\": 5940.0, \"#\": null, \"atp_id\": null, \"awarded\": \"Y\", \"ppno\": 3514, \"ppno_1\": null, \"data_origin\": \"Funded\", \"geometry\": null, \"project_status\": \"Active\", \"solicitation_abv\": \"S\", \"solicitation\": \"STATEWIDE SOLICITATION-CYCLE 5\", \"soliciting_agency\": \"CALTRANS\", \"project_size\": \"Medium\", \"a1_imp_agcy_city\": \"Mariposa\", \"a1_imp_agcy_name\": \"Mariposa County\", \"a1_proj_partner_agcy\": null, \"a1_proj_partner_exists\": \"No \", \"assembly_district\": 5, \"congressional_district\": 4, \"senate_district\": 8, \"County\": \"Mariposa\", \"a2_ct_dist\": 10, \"a2_info_proj_descr\": \"The Mariposa Creek Parkway provides an off-street, multi-use active transportation facility, adding nearly 0.5 miles of shared trails to the existing Parkway.\", \"a2_info_proj_loc\": \"The project is located along Mariposa Creek in downtown Mariposa between 8th and Joe Howard Streets, and includes a critical connection through the former 11th Street right of way.\", \"Project Name\": \"Mariposa Creek Parkway\", \"a2_mop_uza_population\": \"Project is located outside one of the ten large MPOs in a UZA with Pop <=200,000 and > than 5,000\", \"a2_mpo\": \"MCTC\", \"a2_rtpa\": \"Mariposa CTC\", \"a2_proj_scope_summary\": \"The Mariposa Creek Parkway project will implement a .4-mile extension to the existing off-street active transportation facility, close a sidewalk gap along Jessie Street, and establish a critical active transportation link to the Parkway through the 11th \", \"a1_imp_agcy_fed_ma_num\": \"10-5940R \", \"a1_imp_agcy_ma\": \"Yes\", \"a1_imp_agcy_state_ma_num\": \"00086S \", \"a1_imp_agcy_street\": \"4639 Ben Hur Road\", \"a1_imp_agcy_title\": \"Director, Public Works and Transportation\", \"a1_imp_agcy_zip\": 95338, \"a1_letter_of_intent\": null, \"a1_proj_partner_title\": null, \"a2_assem_dist_a\": 5.0, \"a2_assem_dist_b\": null, \"a2_assem_dist_c\": null, \"a2_congress_dist_a\": 4.0, \"a2_congress_dist_b\": null, \"a2_congress_dist_c\": null, \"a2_past_proj\": \"No                            \", \"a2_past_proj_qty\": 0, \"a2_proj_lat\": 37.487, \"a2_proj_long\": 119.9708, \"a2_project_location_map\": null, \"a2_senate_dist_a\": 8.0, \"a2_senate_dist_b\": null, \"a2_senatedistc\": null, \"a3_plan_active_trans\": null, \"a3_plan_active_trans_exists\": \"No \", \"a3_plan_bicycle\": null, \"a3_plan_bicycle_exists\": \"No \", \"a3_plan_ped\": null, \"a3_plan_ped_exists\": \"No \", \"a3_plan_srts\": null, \"a3_plan_srts_exists\": \"No \", \"a3_proj_type\": null, \"a3_st_bicycle_applies\": \"Yes\", \"a3_st_bicycle_pct\": 50.0, \"a3_st_num_schools\": 2, \"a3_st_ped_applies\": \"Yes\", \"a3_st_ped_pct\": 50, \"a3_st_srts\": \"No \", \"a3_trail_elig_cost\": 0.0, \"a3_trail_fed_funding\": \"Yes\", \"a3_trail_trans_pct\": 100.0, \"a3_trails\": \"X\", \"agency_app_num\": null, \"app_pk\": null, \"attch_addtl_attachments\": null, \"attch_app_sig_page\": null, \"attch_conditions_photos\": null, \"attch_conditions_project_map\": null, \"attch_engineeers_checklist\": null, \"attch_exhibit22_plan\": null, \"attch_letters_of_support\": null, \"attch_link\": null, \"attch_ni_workplan\": null, \"attch_project_estimate\": null, \"completed_pdf_form\": null, \"main_datetime_stamp\": \"\", \"a3_plan_none\": \"No\", \"a3_plan_other\": \"Yes\", \"a3_plan_other_desc\": \"Mariposa Creek Parkway MP, Act. Transp. Feasibility Study\", \"a2_output_outcome\": \" .4-mile extension of existing multi-use active transportation pathway to include public realm improvements, strategic 520\\u2019 sidewalk gap closure, and establishment of a critical connection to the pathway from nearby high-stress roadway environment. \", \"a3_current_plan\": \"Yes\", \"b_sig_inter_new_bike_boxes\": null, \"b_class_1\": null, \"b_class_2\": null, \"b_class_3\": null, \"b_class_4\": null, \"a4_bike_gap_pct\": null, \"b_light_intersection\": null, \"b_mid_block_new_rrfb_signal\": null, \"b_mid_block_surf_improv\": null, \"b_bsp_new_bikes\": null, \"b_bike_new_secured_lockers\": null, \"b_bike_new_racks\": 3.0, \"b_bsp_new_station\": null, \"b_other_bike_improv_1\": \"Stair Ramp\", \"b_other_bike_improv_qty_1\": 1.0, \"b_other_bike_improv_2\": \"bollards\", \"b_other_bike_improv_qty_2\": 6.0, \"b_light_rdwy_seg\": null, \"b_sig_inter_timing_improv\": null, \"b_un_sig_new_rrfb_signal\": null, \"b_un_sig_cross_surf_improv\": null, \"a4_easement_support\": null, \"m_cls_1_trails_widen_recon_exist\": null, \"m_cls_1_trails_new__less_than_9\": null, \"m_cls_1_trails_new_over_9\": 2020.0, \"m_non_cls_trails_new\": 340.0, \"m_other_trail_imprv_1\": \"Pedestrian Lighting\", \"m_other_trail_improv_qty_1\": 21.0, \"m_other_trail_imprv_2\": \"Wayfinding and Interpretive Signage\", \"m_other_trail_improv_qty_2\": 10.0, \"m_non_cls_widen_recon_exist\": null, \"p_amenities_bench\": 14.0, \"a4_ped_gap_pct\": 100.0, \"p_mid_block_cross_new_rrfb_signal\": null, \"p_light_intersection\": null, \"p_lighting_rdwy_seg\": null, \"p_mid_block_cross_surf_improv\": 1.0, \"p_new_ada_ramp\": 6.0, \"p_sidewlks_new_barrier_protect\": null, \"p_sidewlks_new_4_to_8\": 520.0, \"p_sidewlks_new_over_8\": null, \"p_other_ped_imprv_1\": \"Enhanced landscaping \", \"p_other_ped_qty_1\": 1.0, \"p_other_ped_imprv_2\": \"stairs\", \"p_other_ped_qty_2\": 3.0, \"p_reconstruct_ramp_to_ada_stand\": null, \"p_sidewlks_reconstruct_enhance_exist\": null, \"p_sig_inter_enhance_exist_crosswlk\": null, \"p_sig_inter_new_crosswlk\": 2.0, \"p_sig_inter_ped_heads\": null, \"p_sig_inter_shorten_cross\": null, \"p_sig_inter_timing_improv\": null, \"p_amenities_trash_can\": 5.0, \"p_amenities_shade_tree\": 15.0, \"p_amenities_shade_tree_type\": \"Redbud, Sycamore, others\", \"p_un_sig_inter_new_traff_sig\": null, \"p_un_sig_inter_new_roundabout\": null, \"p_un_sig_inter_new_rrfb_sig\": null, \"p_un_sig_inter_shorten_cross\": null, \"p_un_sig_inter_cross_surface_improv\": 1.0, \"p_sidewlks_widen_existing\": null, \"a4_row_100\": null, \"a4_row_gov_ease\": null, \"a4_row_private_ease\": null, \"v_other_traffic_calming_imprv_1\": null, \"v_speed_feedback_signs\": null, \"v_other_traffic_calming_qty_1\": null, \"v_other_traffic_calming_imprv_2\": null, \"v_other_traffic_calming_qty_2\": null, \"v_remove_right_turn_pocket\": null, \"v_remove_travel_ln\": null, \"v_sig_inter_new_roundabout\": null, \"v_sig_inter_timing_improv\": null, \"v_un_sig_inter_new_traf_sig\": null, \"v_un_sig_inter_new_roundabout\": null, \"app_fk\": null, \"details_datetime_stamp\": \"\", \"a4_reg_init\": \"N\", \"a4_reg_init_pct\": 0, \"a4_com_init\": \"N\", \"a4_com_init_pct\": 0, \"a4_safe_route\": \"N\", \"a4_safe_route_pct\": 0, \"a4_fl_mile\": \"N\", \"a4_fl_mile_pct\": 0, \"a4_emp_based\": null, \"a4_emp_based_pct\": 0.0, \"a4_other_ni\": \"N\", \"a4_other_ni_descr\": null, \"a4_other_ni_pct\": 0, \"a4_wb_audits\": 0.0, \"a4_bike_classes\": 0.0, \"a4_ped_classes\": 0.0, \"a4_demo_events\": 0.0, \"a4_com_enc\": 0.0, \"a4_le_methods\": 0.0, \"a4_com_meetings\": 0.0, \"a4_classrooms\": 0.0, \"a4_school_assem\": 0.0, \"a4_after_school\": 0.0, \"a4_bike_rodeos\": 0.0, \"a4_mock_cities\": 0.0, \"a4_walk_bus\": 0.0, \"a4_bike_train\": 0.0, \"a4_com_challenges\": 0.0, \"a4_srts_enc\": 0.0, \"a4_srts_le\": 0.0, \"a4_srts_training\": 0.0, \"a4_act_other_1\": 0.0, \"a4_act_other_1_descr\": null, \"a4_act_other_2\": 0.0, \"a4_act_other_2_decr\": null, \"a4_comm_trad_media\": \"N\", \"a4_comm_large_media\": \"N\", \"a4_comm_print\": \"N\", \"a4_comm_social\": \"N\", \"a4_comm_web\": \"N\", \"a4_comm_other\": \"N\", \"a4_comm_other_descr\": null, \"a4_comm_language\": null, \"a4_collab_pub_health\": \"N\", \"a4_collab_le\": \"N\", \"a4_collab_non_profit\": \"N\", \"a4_collab_schools\": \"N\", \"a4_collab_pub_works\": \"N\", \"a4_collab_other\": \"N\", \"a4_colab_other_descr\": null, \"a4_plan_ped\": \"N\", \"a4_plan_bike\": \"N\", \"a4_plan_atp\": \"N\", \"a4_plan_school_routes\": \"N\", \"a4_row_open_street_demo\": \"No\", \"atp_id_x\": \"ATP5-10-029S\", \"a3_proj_type_x\": \"Infrastructure - Medium\", \"agency_fully_own_r_w\": null, \"require_r_w_easement,_from_gov\": null, \"_require_rw_easement_from_private\": \"X\", \"atp_id_y\": \"ATP5-10-029S\", \"ppno1\": null, \"oversight_id\": \"Standard\", \"a3_proj_type_y\": \"Infrastructure\", \"Total Project Cost\": 5176000.0, \"original_prog__amt___pa_ed_\": 200000.0, \"orig__prog__year__pa_ed_\": \"21/22\", \"original_prog__amt___ps_e_\": 450000.0, \"orig__prog__year__ps_e_\": \"22/23\", \"original_prog__amt___rw_\": 750000.0, \"orig__prog__year__rw_\": \"22/23\", \"orignal_prog__amt___con_\": 3015000.0, \"orig__prog__year__con_\": \"24/25\", \"original_prog__amt___con_ni_\": null, \"orig__prog__year__con_ni_\": null, \"total\": 4415000.0, \"_2122_pa_ed\": 200000.0, \"_2122_ps_e\": null, \"_2122_rw\": null, \"_2122_con\": null, \"_2122_con_ni\": null, \"_2122_total\": 200000.0, \"fund_year_1\": \"21/22\", \"_2223_pa_ed\": null, \"_2223_ps_e\": 450000.0, \"_2223_rw\": 750000.0, \"_2223_con\": null, \"_2223_con_ni\": null, \"_2223_total\": 1200000.0, \"fund_year_2\": \"22/23\", \"_2324_pa_ed\": null, \"_2324_ps_e\": null, \"_2324_rw\": null, \"_2324_con\": null, \"_2324_con_ni\": null, \"_2324_total\": 0.0, \"fund_year_3\": \"23/24\", \"_2425_pa_ed\": null, \"_2425_ps_e\": null, \"_2425_rw\": null, \"_2425_con\": 3015000.0, \"_2425_con_ni\": null, \"_2425_total\": 3015000.0, \"fund_year_4\": \"24/25\", \"Total ATP Funds\": 4415000.0, \"match_total_atp_$_and_total\": \"YES\", \"match_total_atp_$_and_total_atp_x_1000\": \"YES\", \"paed\": 200.0, \"ps_e_\": 450.0, \"rw\": 750.0, \"con\": 3015.0, \"con_ni\": 0.0, \"total_atp__000s_\": 4415.0, \"total_atp_x_1000\": 4415000.0, \"year__pa_ed_\": \"21/22\", \"year__ps_e_\": \"22/23\", \"year__rw_\": \"22/23\", \"year__con_\": \"24/25\", \"year__con_ni_\": null, \"Implemeting Agency Name\": \"Mariposa County\"}, {\"Project ID\": \"10-Tuolumne County-1\", \"project_cycle\": 5, \"a1_locode\": 5932.0, \"#\": null, \"atp_id\": null, \"awarded\": \"Y\", \"ppno\": 3512, \"ppno_1\": null, \"data_origin\": \"Funded\", \"geometry\": null, \"project_status\": \"Active\", \"solicitation_abv\": \"R\", \"solicitation\": \"SMALL URBAN & RURAL SOLICITATION-CYCLE 5\", \"soliciting_agency\": \"CALTRANS\", \"project_size\": \"Medium\", \"a1_imp_agcy_city\": \"Sonora\", \"a1_imp_agcy_name\": \"Tuolumne County\", \"a1_proj_partner_agcy\": null, \"a1_proj_partner_exists\": \"No \", \"assembly_district\": 8, \"congressional_district\": 4, \"senate_district\": 8, \"County\": \"Tuolumne\", \"a2_ct_dist\": 10, \"a2_info_proj_descr\": \"Project includes approximately 4,200 linear feet of new sidewalk, separated paths, curb and gutter, ADA improvements, and crosswalks.\", \"a2_info_proj_loc\": \"On 5th Ave, from Jamestown Rd, cross 108 to 7th S. and from 4th Ave. along 7th St to 7th Ave and s along 6th St. to 9th St. east along 5th Ave. Jim Brady to Rolling Oaks Dr\", \"Project Name\": \"Jamestown Community Connectivity Project\", \"a2_mop_uza_population\": \"Project is located outside one of the ten large MPOs in a UZA with Pop <=200,000 and > than 5,000\", \"a2_mpo\": \"Caltrans\", \"a2_rtpa\": \"Tuolumne TCTC\", \"a2_proj_scope_summary\": \"The project includes approximately 3,600 linear feet of new sidewalk, curb and gutter, ADA improvements, and crosswalks within the vicinity of Jamestown Elementary School. Parking stalls adjacent to school and district offices will be modified to angular \", \"a1_imp_agcy_fed_ma_num\": \"10-5932F15\", \"a1_imp_agcy_ma\": \"Yes\", \"a1_imp_agcy_state_ma_num\": \"10-5932F15\", \"a1_imp_agcy_street\": \"2 S. Green Street\", \"a1_imp_agcy_title\": \"Supervising Engineer - Capital\", \"a1_imp_agcy_zip\": 95370, \"a1_letter_of_intent\": null, \"a1_proj_partner_title\": null, \"a2_assem_dist_a\": 8.0, \"a2_assem_dist_b\": null, \"a2_assem_dist_c\": null, \"a2_congress_dist_a\": 4.0, \"a2_congress_dist_b\": null, \"a2_congress_dist_c\": null, \"a2_past_proj\": \"Yes                           \", \"a2_past_proj_qty\": 1, \"a2_proj_lat\": 37.58579, \"a2_proj_long\": 120.232638, \"a2_project_location_map\": null, \"a2_senate_dist_a\": 8.0, \"a2_senate_dist_b\": null, \"a2_senatedistc\": null, \"a3_plan_active_trans\": null, \"a3_plan_active_trans_exists\": \"No \", \"a3_plan_bicycle\": null, \"a3_plan_bicycle_exists\": \"No \", \"a3_plan_ped\": null, \"a3_plan_ped_exists\": \"Yes\", \"a3_plan_srts\": null, \"a3_plan_srts_exists\": \"Yes\", \"a3_proj_type\": null, \"a3_st_bicycle_applies\": \"Yes\", \"a3_st_bicycle_pct\": 25.0, \"a3_st_num_schools\": 1, \"a3_st_ped_applies\": \"Yes\", \"a3_st_ped_pct\": 75, \"a3_st_srts\": \"Yes\", \"a3_trail_elig_cost\": 0.0, \"a3_trail_fed_funding\": null, \"a3_trail_trans_pct\": null, \"a3_trails\": null, \"agency_app_num\": null, \"app_pk\": null, \"attch_addtl_attachments\": null, \"attch_app_sig_page\": null, \"attch_conditions_photos\": null, \"attch_conditions_project_map\": null, \"attch_engineeers_checklist\": null, \"attch_exhibit22_plan\": null, \"attch_letters_of_support\": null, \"attch_link\": null, \"attch_ni_workplan\": null, \"attch_project_estimate\": null, \"completed_pdf_form\": null, \"main_datetime_stamp\": \"\", \"a3_plan_none\": \"0\", \"a3_plan_other\": \"0\", \"a3_plan_other_desc\": null, \"a2_output_outcome\": \"The construction of sidewalks, pathways, and crossings will improve the connectivity for Jamestown Elementary School students and provide connectivity to the existing pedestrian network. \", \"a3_current_plan\": \"Yes\", \"b_sig_inter_new_bike_boxes\": null, \"b_class_1\": 600.0, \"b_class_2\": null, \"b_class_3\": null, \"b_class_4\": null, \"a4_bike_gap_pct\": null, \"b_light_intersection\": null, \"b_mid_block_new_rrfb_signal\": null, \"b_mid_block_surf_improv\": null, \"b_bsp_new_bikes\": null, \"b_bike_new_secured_lockers\": null, \"b_bike_new_racks\": null, \"b_bsp_new_station\": null, \"b_other_bike_improv_1\": null, \"b_other_bike_improv_qty_1\": null, \"b_other_bike_improv_2\": null, \"b_other_bike_improv_qty_2\": null, \"b_light_rdwy_seg\": null, \"b_sig_inter_timing_improv\": null, \"b_un_sig_new_rrfb_signal\": null, \"b_un_sig_cross_surf_improv\": null, \"a4_easement_support\": null, \"m_cls_1_trails_widen_recon_exist\": null, \"m_cls_1_trails_new__less_than_9\": null, \"m_cls_1_trails_new_over_9\": null, \"m_non_cls_trails_new\": null, \"m_other_trail_imprv_1\": null, \"m_other_trail_improv_qty_1\": null, \"m_other_trail_imprv_2\": null, \"m_other_trail_improv_qty_2\": null, \"m_non_cls_widen_recon_exist\": null, \"p_amenities_bench\": null, \"a4_ped_gap_pct\": 100.0, \"p_mid_block_cross_new_rrfb_signal\": null, \"p_light_intersection\": null, \"p_lighting_rdwy_seg\": null, \"p_mid_block_cross_surf_improv\": null, \"p_new_ada_ramp\": null, \"p_sidewlks_new_barrier_protect\": null, \"p_sidewlks_new_4_to_8\": 3600.0, \"p_sidewlks_new_over_8\": null, \"p_other_ped_imprv_1\": null, \"p_other_ped_qty_1\": null, \"p_other_ped_imprv_2\": null, \"p_other_ped_qty_2\": null, \"p_reconstruct_ramp_to_ada_stand\": null, \"p_sidewlks_reconstruct_enhance_exist\": null, \"p_sig_inter_enhance_exist_crosswlk\": null, \"p_sig_inter_new_crosswlk\": null, \"p_sig_inter_ped_heads\": null, \"p_sig_inter_shorten_cross\": null, \"p_sig_inter_timing_improv\": null, \"p_amenities_trash_can\": null, \"p_amenities_shade_tree\": null, \"p_amenities_shade_tree_type\": null, \"p_un_sig_inter_new_traff_sig\": null, \"p_un_sig_inter_new_roundabout\": null, \"p_un_sig_inter_new_rrfb_sig\": null, \"p_un_sig_inter_shorten_cross\": null, \"p_un_sig_inter_cross_surface_improv\": null, \"p_sidewlks_widen_existing\": null, \"a4_row_100\": null, \"a4_row_gov_ease\": null, \"a4_row_private_ease\": null, \"v_other_traffic_calming_imprv_1\": null, \"v_speed_feedback_signs\": null, \"v_other_traffic_calming_qty_1\": null, \"v_other_traffic_calming_imprv_2\": null, \"v_other_traffic_calming_qty_2\": null, \"v_remove_right_turn_pocket\": null, \"v_remove_travel_ln\": null, \"v_sig_inter_new_roundabout\": null, \"v_sig_inter_timing_improv\": null, \"v_un_sig_inter_new_traf_sig\": null, \"v_un_sig_inter_new_roundabout\": null, \"app_fk\": null, \"details_datetime_stamp\": \"\", \"a4_reg_init\": \"N\", \"a4_reg_init_pct\": 0, \"a4_com_init\": \"N\", \"a4_com_init_pct\": 0, \"a4_safe_route\": \"N\", \"a4_safe_route_pct\": 0, \"a4_fl_mile\": \"N\", \"a4_fl_mile_pct\": 0, \"a4_emp_based\": null, \"a4_emp_based_pct\": 0.0, \"a4_other_ni\": \"N\", \"a4_other_ni_descr\": null, \"a4_other_ni_pct\": 0, \"a4_wb_audits\": 0.0, \"a4_bike_classes\": 0.0, \"a4_ped_classes\": 0.0, \"a4_demo_events\": 0.0, \"a4_com_enc\": 0.0, \"a4_le_methods\": 0.0, \"a4_com_meetings\": 0.0, \"a4_classrooms\": 0.0, \"a4_school_assem\": 0.0, \"a4_after_school\": 0.0, \"a4_bike_rodeos\": 0.0, \"a4_mock_cities\": 0.0, \"a4_walk_bus\": 0.0, \"a4_bike_train\": 0.0, \"a4_com_challenges\": 0.0, \"a4_srts_enc\": 0.0, \"a4_srts_le\": 0.0, \"a4_srts_training\": 0.0, \"a4_act_other_1\": 0.0, \"a4_act_other_1_descr\": null, \"a4_act_other_2\": 0.0, \"a4_act_other_2_decr\": null, \"a4_comm_trad_media\": \"N\", \"a4_comm_large_media\": \"N\", \"a4_comm_print\": \"N\", \"a4_comm_social\": \"N\", \"a4_comm_web\": \"N\", \"a4_comm_other\": \"N\", \"a4_comm_other_descr\": null, \"a4_comm_language\": null, \"a4_collab_pub_health\": \"N\", \"a4_collab_le\": \"N\", \"a4_collab_non_profit\": \"N\", \"a4_collab_schools\": \"N\", \"a4_collab_pub_works\": \"N\", \"a4_collab_other\": \"N\", \"a4_colab_other_descr\": null, \"a4_plan_ped\": \"N\", \"a4_plan_bike\": \"N\", \"a4_plan_atp\": \"N\", \"a4_plan_school_routes\": \"N\", \"a4_row_open_street_demo\": \"No\", \"atp_id_x\": \"ATP5-10-039R\", \"a3_proj_type_x\": \"Infrastructure - Medium\", \"agency_fully_own_r_w\": null, \"require_r_w_easement,_from_gov\": null, \"_require_rw_easement_from_private\": null, \"atp_id_y\": \"ATP5-10-039R\", \"ppno1\": null, \"oversight_id\": \"Standard\", \"a3_proj_type_y\": \"Infrastructure\", \"Total Project Cost\": 2300000.0, \"original_prog__amt___pa_ed_\": 198000.0, \"orig__prog__year__pa_ed_\": \"21/22\", \"original_prog__amt___ps_e_\": 147000.0, \"orig__prog__year__ps_e_\": \"22/23\", \"original_prog__amt___rw_\": 140000.0, \"orig__prog__year__rw_\": \"23/24\", \"orignal_prog__amt___con_\": 1586000.0, \"orig__prog__year__con_\": \"24/25\", \"original_prog__amt___con_ni_\": null, \"orig__prog__year__con_ni_\": null, \"total\": 2071000.0, \"_2122_pa_ed\": 198000.0, \"_2122_ps_e\": null, \"_2122_rw\": null, \"_2122_con\": null, \"_2122_con_ni\": null, \"_2122_total\": 198000.0, \"fund_year_1\": \"21/22\", \"_2223_pa_ed\": null, \"_2223_ps_e\": 147000.0, \"_2223_rw\": null, \"_2223_con\": null, \"_2223_con_ni\": null, \"_2223_total\": 147000.0, \"fund_year_2\": \"22/23\", \"_2324_pa_ed\": null, \"_2324_ps_e\": null, \"_2324_rw\": 140000.0, \"_2324_con\": null, \"_2324_con_ni\": null, \"_2324_total\": 140000.0, \"fund_year_3\": \"23/24\", \"_2425_pa_ed\": null, \"_2425_ps_e\": null, \"_2425_rw\": null, \"_2425_con\": 1586000.0, \"_2425_con_ni\": null, \"_2425_total\": 1586000.0, \"fund_year_4\": \"24/25\", \"Total ATP Funds\": 2071000.0, \"match_total_atp_$_and_total\": \"YES\", \"match_total_atp_$_and_total_atp_x_1000\": \"YES\", \"paed\": 198.0, \"ps_e_\": 147.0, \"rw\": 140.0, \"con\": 1586.0, \"con_ni\": 0.0, \"total_atp__000s_\": 2071.0, \"total_atp_x_1000\": 2071000.0, \"year__pa_ed_\": \"21/22\", \"year__ps_e_\": \"22/23\", \"year__rw_\": \"23/24\", \"year__con_\": \"24/25\", \"year__con_ni_\": null, \"Implemeting Agency Name\": \"Tuolumne County\"}]}}, {\"mode\": \"vega-lite\"});\n",
       "</script>"
      ],
      "text/plain": [
       "alt.Chart(...)"
      ]
     },
     "metadata": {},
     "output_type": "display_data"
    },
    {
     "data": {
      "text/html": [
       "<h4>Funded Project Information</h4>"
      ],
      "text/plain": [
       "<IPython.core.display.HTML object>"
      ]
     },
     "metadata": {},
     "output_type": "display_data"
    },
    {
     "data": {
      "text/html": [
       "<style type=\"text/css\">\n",
       "#T_e61d1_ th {\n",
       "  text-align: center;\n",
       "}\n",
       "#T_e61d1_row0_col0, #T_e61d1_row0_col1, #T_e61d1_row0_col2, #T_e61d1_row0_col3, #T_e61d1_row0_col4, #T_e61d1_row1_col0, #T_e61d1_row1_col1, #T_e61d1_row1_col2, #T_e61d1_row1_col3, #T_e61d1_row1_col4, #T_e61d1_row2_col0, #T_e61d1_row2_col1, #T_e61d1_row2_col2, #T_e61d1_row2_col3, #T_e61d1_row2_col4 {\n",
       "  text-align: center;\n",
       "}\n",
       "</style>\n",
       "<table id=\"T_e61d1_\">\n",
       "  <thead>\n",
       "    <tr>\n",
       "      <th class=\"col_heading level0 col0\" >Implemeting Agency Name</th>\n",
       "      <th class=\"col_heading level0 col1\" >Project Name</th>\n",
       "      <th class=\"col_heading level0 col2\" >County</th>\n",
       "      <th class=\"col_heading level0 col3\" >Total Atp Funds</th>\n",
       "      <th class=\"col_heading level0 col4\" >Total Project Cost</th>\n",
       "    </tr>\n",
       "  </thead>\n",
       "  <tbody>\n",
       "    <tr>\n",
       "      <td id=\"T_e61d1_row0_col0\" class=\"data row0 col0\" >Mariposa County</td>\n",
       "      <td id=\"T_e61d1_row0_col1\" class=\"data row0 col1\" >Mariposa Elementary School Connectivity Project</td>\n",
       "      <td id=\"T_e61d1_row0_col2\" class=\"data row0 col2\" >Mariposa</td>\n",
       "      <td id=\"T_e61d1_row0_col3\" class=\"data row0 col3\" >$ 1,900,000.00</td>\n",
       "      <td id=\"T_e61d1_row0_col4\" class=\"data row0 col4\" >$ 1,900,000.00</td>\n",
       "    </tr>\n",
       "    <tr>\n",
       "      <td id=\"T_e61d1_row1_col0\" class=\"data row1 col0\" >Mariposa County</td>\n",
       "      <td id=\"T_e61d1_row1_col1\" class=\"data row1 col1\" >Mariposa Creek Parkway</td>\n",
       "      <td id=\"T_e61d1_row1_col2\" class=\"data row1 col2\" >Mariposa</td>\n",
       "      <td id=\"T_e61d1_row1_col3\" class=\"data row1 col3\" >$ 4,415,000.00</td>\n",
       "      <td id=\"T_e61d1_row1_col4\" class=\"data row1 col4\" >$ 5,176,000.00</td>\n",
       "    </tr>\n",
       "    <tr>\n",
       "      <td id=\"T_e61d1_row2_col0\" class=\"data row2 col0\" >Tuolumne County</td>\n",
       "      <td id=\"T_e61d1_row2_col1\" class=\"data row2 col1\" >Jamestown Community Connectivity Project</td>\n",
       "      <td id=\"T_e61d1_row2_col2\" class=\"data row2 col2\" >Tuolumne</td>\n",
       "      <td id=\"T_e61d1_row2_col3\" class=\"data row2 col3\" >$ 2,071,000.00</td>\n",
       "      <td id=\"T_e61d1_row2_col4\" class=\"data row2 col4\" >$ 2,300,000.00</td>\n",
       "    </tr>\n",
       "  </tbody>\n",
       "</table>\n"
      ],
      "text/plain": [
       "<IPython.core.display.HTML object>"
      ]
     },
     "metadata": {},
     "output_type": "display_data"
    },
    {
     "data": {
      "text/html": [
       "</br><h4> Success Rates for Agencies in District 10 </h4>"
      ],
      "text/plain": [
       "<IPython.core.display.HTML object>"
      ]
     },
     "metadata": {},
     "output_type": "display_data"
    },
    {
     "data": {
      "text/html": [
       "<style type=\"text/css\">\n",
       "#T_0d111_ th {\n",
       "  text-align: center;\n",
       "}\n",
       "#T_0d111_row0_col0, #T_0d111_row0_col1, #T_0d111_row0_col2, #T_0d111_row1_col0, #T_0d111_row1_col1, #T_0d111_row1_col2, #T_0d111_row2_col0, #T_0d111_row2_col1, #T_0d111_row2_col2, #T_0d111_row3_col0, #T_0d111_row3_col1, #T_0d111_row3_col2, #T_0d111_row4_col0, #T_0d111_row4_col1, #T_0d111_row4_col2, #T_0d111_row5_col0, #T_0d111_row5_col1, #T_0d111_row5_col2, #T_0d111_row6_col0, #T_0d111_row6_col1, #T_0d111_row6_col2, #T_0d111_row7_col0, #T_0d111_row7_col1, #T_0d111_row7_col2, #T_0d111_row8_col0, #T_0d111_row8_col1, #T_0d111_row8_col2, #T_0d111_row9_col0, #T_0d111_row9_col1, #T_0d111_row9_col2, #T_0d111_row10_col0, #T_0d111_row10_col1, #T_0d111_row10_col2, #T_0d111_row11_col0, #T_0d111_row11_col1, #T_0d111_row11_col2, #T_0d111_row12_col0, #T_0d111_row12_col1, #T_0d111_row12_col2, #T_0d111_row13_col0, #T_0d111_row13_col1, #T_0d111_row13_col2, #T_0d111_row14_col0, #T_0d111_row14_col1, #T_0d111_row14_col2, #T_0d111_row15_col0, #T_0d111_row15_col1, #T_0d111_row15_col2, #T_0d111_row16_col0, #T_0d111_row16_col1, #T_0d111_row16_col2, #T_0d111_row17_col0, #T_0d111_row17_col1, #T_0d111_row17_col2, #T_0d111_row18_col0, #T_0d111_row18_col1, #T_0d111_row18_col2, #T_0d111_row19_col0, #T_0d111_row19_col1, #T_0d111_row19_col2 {\n",
       "  text-align: center;\n",
       "}\n",
       "</style>\n",
       "<table id=\"T_0d111_\">\n",
       "  <thead>\n",
       "    <tr>\n",
       "      <th class=\"col_heading level0 col0\" >Implemeting Agency Name</th>\n",
       "      <th class=\"col_heading level0 col1\" >Total Applications</th>\n",
       "      <th class=\"col_heading level0 col2\" >Success Rate</th>\n",
       "    </tr>\n",
       "  </thead>\n",
       "  <tbody>\n",
       "    <tr>\n",
       "      <td id=\"T_0d111_row0_col0\" class=\"data row0 col0\" >Mariposa County</td>\n",
       "      <td id=\"T_0d111_row0_col1\" class=\"data row0 col1\" >2</td>\n",
       "      <td id=\"T_0d111_row0_col2\" class=\"data row0 col2\" >100.00%</td>\n",
       "    </tr>\n",
       "    <tr>\n",
       "      <td id=\"T_0d111_row1_col0\" class=\"data row1 col0\" >Tuolumne County</td>\n",
       "      <td id=\"T_0d111_row1_col1\" class=\"data row1 col1\" >1</td>\n",
       "      <td id=\"T_0d111_row1_col2\" class=\"data row1 col2\" >100.00%</td>\n",
       "    </tr>\n",
       "    <tr>\n",
       "      <td id=\"T_0d111_row2_col0\" class=\"data row2 col0\" >Calaveras County</td>\n",
       "      <td id=\"T_0d111_row2_col1\" class=\"data row2 col1\" >1</td>\n",
       "      <td id=\"T_0d111_row2_col2\" class=\"data row2 col2\" >0.00%</td>\n",
       "    </tr>\n",
       "    <tr>\n",
       "      <td id=\"T_0d111_row3_col0\" class=\"data row3 col0\" >California Department of Transportation</td>\n",
       "      <td id=\"T_0d111_row3_col1\" class=\"data row3 col1\" >1</td>\n",
       "      <td id=\"T_0d111_row3_col2\" class=\"data row3 col2\" >0.00%</td>\n",
       "    </tr>\n",
       "    <tr>\n",
       "      <td id=\"T_0d111_row4_col0\" class=\"data row4 col0\" >City of Escalon</td>\n",
       "      <td id=\"T_0d111_row4_col1\" class=\"data row4 col1\" >1</td>\n",
       "      <td id=\"T_0d111_row4_col2\" class=\"data row4 col2\" >0.00%</td>\n",
       "    </tr>\n",
       "    <tr>\n",
       "      <td id=\"T_0d111_row5_col0\" class=\"data row5 col0\" >City of Lodi</td>\n",
       "      <td id=\"T_0d111_row5_col1\" class=\"data row5 col1\" >1</td>\n",
       "      <td id=\"T_0d111_row5_col2\" class=\"data row5 col2\" >0.00%</td>\n",
       "    </tr>\n",
       "    <tr>\n",
       "      <td id=\"T_0d111_row6_col0\" class=\"data row6 col0\" >City of Los Banos</td>\n",
       "      <td id=\"T_0d111_row6_col1\" class=\"data row6 col1\" >1</td>\n",
       "      <td id=\"T_0d111_row6_col2\" class=\"data row6 col2\" >0.00%</td>\n",
       "    </tr>\n",
       "    <tr>\n",
       "      <td id=\"T_0d111_row7_col0\" class=\"data row7 col0\" >City of Manteca</td>\n",
       "      <td id=\"T_0d111_row7_col1\" class=\"data row7 col1\" >2</td>\n",
       "      <td id=\"T_0d111_row7_col2\" class=\"data row7 col2\" >0.00%</td>\n",
       "    </tr>\n",
       "    <tr>\n",
       "      <td id=\"T_0d111_row8_col0\" class=\"data row8 col0\" >City of Modesto</td>\n",
       "      <td id=\"T_0d111_row8_col1\" class=\"data row8 col1\" >1</td>\n",
       "      <td id=\"T_0d111_row8_col2\" class=\"data row8 col2\" >0.00%</td>\n",
       "    </tr>\n",
       "    <tr>\n",
       "      <td id=\"T_0d111_row9_col0\" class=\"data row9 col0\" >City of Patterson</td>\n",
       "      <td id=\"T_0d111_row9_col1\" class=\"data row9 col1\" >1</td>\n",
       "      <td id=\"T_0d111_row9_col2\" class=\"data row9 col2\" >0.00%</td>\n",
       "    </tr>\n",
       "    <tr>\n",
       "      <td id=\"T_0d111_row10_col0\" class=\"data row10 col0\" >City of Ripon</td>\n",
       "      <td id=\"T_0d111_row10_col1\" class=\"data row10 col1\" >1</td>\n",
       "      <td id=\"T_0d111_row10_col2\" class=\"data row10 col2\" >0.00%</td>\n",
       "    </tr>\n",
       "    <tr>\n",
       "      <td id=\"T_0d111_row11_col0\" class=\"data row11 col0\" >City of Sonora</td>\n",
       "      <td id=\"T_0d111_row11_col1\" class=\"data row11 col1\" >1</td>\n",
       "      <td id=\"T_0d111_row11_col2\" class=\"data row11 col2\" >0.00%</td>\n",
       "    </tr>\n",
       "    <tr>\n",
       "      <td id=\"T_0d111_row12_col0\" class=\"data row12 col0\" >City of Stockton</td>\n",
       "      <td id=\"T_0d111_row12_col1\" class=\"data row12 col1\" >10</td>\n",
       "      <td id=\"T_0d111_row12_col2\" class=\"data row12 col2\" >0.00%</td>\n",
       "    </tr>\n",
       "    <tr>\n",
       "      <td id=\"T_0d111_row13_col0\" class=\"data row13 col0\" >City of Tracy</td>\n",
       "      <td id=\"T_0d111_row13_col1\" class=\"data row13 col1\" >2</td>\n",
       "      <td id=\"T_0d111_row13_col2\" class=\"data row13 col2\" >0.00%</td>\n",
       "    </tr>\n",
       "    <tr>\n",
       "      <td id=\"T_0d111_row14_col0\" class=\"data row14 col0\" >City of Waterford</td>\n",
       "      <td id=\"T_0d111_row14_col1\" class=\"data row14 col1\" >2</td>\n",
       "      <td id=\"T_0d111_row14_col2\" class=\"data row14 col2\" >0.00%</td>\n",
       "    </tr>\n",
       "    <tr>\n",
       "      <td id=\"T_0d111_row15_col0\" class=\"data row15 col0\" >Lathrop,City of</td>\n",
       "      <td id=\"T_0d111_row15_col1\" class=\"data row15 col1\" >2</td>\n",
       "      <td id=\"T_0d111_row15_col2\" class=\"data row15 col2\" >0.00%</td>\n",
       "    </tr>\n",
       "    <tr>\n",
       "      <td id=\"T_0d111_row16_col0\" class=\"data row16 col0\" >Merced County</td>\n",
       "      <td id=\"T_0d111_row16_col1\" class=\"data row16 col1\" >1</td>\n",
       "      <td id=\"T_0d111_row16_col2\" class=\"data row16 col2\" >0.00%</td>\n",
       "    </tr>\n",
       "    <tr>\n",
       "      <td id=\"T_0d111_row17_col0\" class=\"data row17 col0\" >San Joaquin County</td>\n",
       "      <td id=\"T_0d111_row17_col1\" class=\"data row17 col1\" >2</td>\n",
       "      <td id=\"T_0d111_row17_col2\" class=\"data row17 col2\" >0.00%</td>\n",
       "    </tr>\n",
       "    <tr>\n",
       "      <td id=\"T_0d111_row18_col0\" class=\"data row18 col0\" >San Joaquin Regional Rail Commission</td>\n",
       "      <td id=\"T_0d111_row18_col1\" class=\"data row18 col1\" >1</td>\n",
       "      <td id=\"T_0d111_row18_col2\" class=\"data row18 col2\" >0.00%</td>\n",
       "    </tr>\n",
       "    <tr>\n",
       "      <td id=\"T_0d111_row19_col0\" class=\"data row19 col0\" >Stanislaus County</td>\n",
       "      <td id=\"T_0d111_row19_col1\" class=\"data row19 col1\" >2</td>\n",
       "      <td id=\"T_0d111_row19_col2\" class=\"data row19 col2\" >0.00%</td>\n",
       "    </tr>\n",
       "  </tbody>\n",
       "</table>\n"
      ],
      "text/plain": [
       "<IPython.core.display.HTML object>"
      ]
     },
     "metadata": {},
     "output_type": "display_data"
    }
   ],
   "source": [
    "_report_utils.map_dist_proj(funded, df,  10)"
   ]
  },
  {
   "cell_type": "code",
   "execution_count": null,
   "id": "1373e8f1-27f7-4cac-9ff0-ac01101a0e7a",
   "metadata": {},
   "outputs": [],
   "source": []
  },
  {
   "cell_type": "markdown",
   "id": "f2eb8fc9-e6dd-4a85-bb01-1f8384e1c59a",
   "metadata": {},
   "source": [
    "### District 11 - San Diego"
   ]
  },
  {
   "cell_type": "code",
   "execution_count": 45,
   "id": "d89bf032-1674-46ae-b920-b063285a8cb3",
   "metadata": {},
   "outputs": [
    {
     "data": {
      "text/html": [
       "\n",
       "<div id=\"altair-viz-6fc9337487744814a3048459015ea20e\"></div>\n",
       "<script type=\"text/javascript\">\n",
       "  var VEGA_DEBUG = (typeof VEGA_DEBUG == \"undefined\") ? {} : VEGA_DEBUG;\n",
       "  (function(spec, embedOpt){\n",
       "    let outputDiv = document.currentScript.previousElementSibling;\n",
       "    if (outputDiv.id !== \"altair-viz-6fc9337487744814a3048459015ea20e\") {\n",
       "      outputDiv = document.getElementById(\"altair-viz-6fc9337487744814a3048459015ea20e\");\n",
       "    }\n",
       "    const paths = {\n",
       "      \"vega\": \"https://cdn.jsdelivr.net/npm//vega@5?noext\",\n",
       "      \"vega-lib\": \"https://cdn.jsdelivr.net/npm//vega-lib?noext\",\n",
       "      \"vega-lite\": \"https://cdn.jsdelivr.net/npm//vega-lite@4.17.0?noext\",\n",
       "      \"vega-embed\": \"https://cdn.jsdelivr.net/npm//vega-embed@6?noext\",\n",
       "    };\n",
       "\n",
       "    function maybeLoadScript(lib, version) {\n",
       "      var key = `${lib.replace(\"-\", \"\")}_version`;\n",
       "      return (VEGA_DEBUG[key] == version) ?\n",
       "        Promise.resolve(paths[lib]) :\n",
       "        new Promise(function(resolve, reject) {\n",
       "          var s = document.createElement('script');\n",
       "          document.getElementsByTagName(\"head\")[0].appendChild(s);\n",
       "          s.async = true;\n",
       "          s.onload = () => {\n",
       "            VEGA_DEBUG[key] = version;\n",
       "            return resolve(paths[lib]);\n",
       "          };\n",
       "          s.onerror = () => reject(`Error loading script: ${paths[lib]}`);\n",
       "          s.src = paths[lib];\n",
       "        });\n",
       "    }\n",
       "\n",
       "    function showError(err) {\n",
       "      outputDiv.innerHTML = `<div class=\"error\" style=\"color:red;\">${err}</div>`;\n",
       "      throw err;\n",
       "    }\n",
       "\n",
       "    function displayChart(vegaEmbed) {\n",
       "      vegaEmbed(outputDiv, spec, embedOpt)\n",
       "        .catch(err => showError(`Javascript Error: ${err.message}<br>This usually means there's a typo in your chart specification. See the javascript console for the full traceback.`));\n",
       "    }\n",
       "\n",
       "    if(typeof define === \"function\" && define.amd) {\n",
       "      requirejs.config({paths});\n",
       "      require([\"vega-embed\"], displayChart, err => showError(`Error loading script: ${err.message}`));\n",
       "    } else {\n",
       "      maybeLoadScript(\"vega\", \"5\")\n",
       "        .then(() => maybeLoadScript(\"vega-lite\", \"4.17.0\"))\n",
       "        .then(() => maybeLoadScript(\"vega-embed\", \"6\"))\n",
       "        .catch(showError)\n",
       "        .then(() => displayChart(vegaEmbed));\n",
       "    }\n",
       "  })({\"config\": {\"view\": {\"continuousWidth\": 400, \"continuousHeight\": 300}}, \"data\": {\"name\": \"data-ed108416706eefe26392bb3a4142a2b4\"}, \"mark\": \"bar\", \"encoding\": {\"color\": {\"field\": \"Project Name\", \"legend\": null, \"scale\": {\"range\": [\"#E16B26\", \"#EB9F3C\", \"#f6e7e1\", \"#8CBCCB\", \"#2EA8CE\", \"#136C97\"]}, \"type\": \"nominal\"}, \"tooltip\": [{\"field\": \"Project Name\", \"type\": \"nominal\"}, {\"field\": \"Total ATP Funds\", \"type\": \"quantitative\"}], \"x\": {\"field\": \"Total ATP Funds\", \"type\": \"quantitative\"}, \"y\": {\"field\": \"Implemeting Agency Name\", \"type\": \"nominal\"}}, \"title\": \"Total ATP Funds by Project\", \"$schema\": \"https://vega.github.io/schema/vega-lite/v4.17.0.json\", \"datasets\": {\"data-ed108416706eefe26392bb3a4142a2b4\": [{\"Project ID\": \"11-Imperial Beach, City of-1\", \"project_cycle\": 5, \"a1_locode\": 5329.0, \"#\": null, \"atp_id\": null, \"awarded\": \"Y\", \"ppno\": 1440, \"ppno_1\": null, \"data_origin\": \"Funded\", \"geometry\": null, \"project_status\": \"Active\", \"solicitation_abv\": \"S\", \"solicitation\": \"STATEWIDE SOLICITATION-CYCLE 5\", \"soliciting_agency\": \"CALTRANS\", \"project_size\": \"Medium\", \"a1_imp_agcy_city\": \"Imperial Beach\", \"a1_imp_agcy_name\": \"Imperial Beach, City of\", \"a1_proj_partner_agcy\": null, \"a1_proj_partner_exists\": \"No \", \"assembly_district\": 78, \"congressional_district\": 51, \"senate_district\": 40, \"County\": \"San Diego\", \"a2_ct_dist\": 11, \"a2_info_proj_descr\": \"1.3 miles of bicycle and pedestrian improvements that include a road diet, green buffered bike lanes, sharrows, bicycle bend-outs, high-visibility crosswalks, and curb extensions\", \"a2_info_proj_loc\": \"9th Street in Imperial Beach between the southern edge of Imperial Beach near Sea Park Drive and 280 feet north of the intersection of 9th street and Cypress Avenue\", \"Project Name\": \"9th St Active Transportation Corridor\", \"a2_mop_uza_population\": \"Project is located within one of the ten large MPOs\", \"a2_mpo\": \"SANDAG\", \"a2_rtpa\": \"None\", \"a2_proj_scope_summary\": \"9th Street is a 60\\u2019-64\\u2019 wide 4-lane north-south arterial street with parallel parking that crosses the City of Imperial Beach. It connects residential housing to Veterans Park and Veterans Dog Park, Imperial Beach Charter School, Oneonta Elementary School\", \"a1_imp_agcy_fed_ma_num\": \"11-5329R\", \"a1_imp_agcy_ma\": \"Yes\", \"a1_imp_agcy_state_ma_num\": \"00136s\", \"a1_imp_agcy_street\": \"495 10th Street\", \"a1_imp_agcy_title\": \"City of Imperial Beach Public Works Director\", \"a1_imp_agcy_zip\": 91932, \"a1_letter_of_intent\": null, \"a1_proj_partner_title\": null, \"a2_assem_dist_a\": 78.0, \"a2_assem_dist_b\": null, \"a2_assem_dist_c\": null, \"a2_congress_dist_a\": 51.0, \"a2_congress_dist_b\": null, \"a2_congress_dist_c\": null, \"a2_past_proj\": \"Yes                           \", \"a2_past_proj_qty\": 3, \"a2_proj_lat\": 32.576461, \"a2_proj_long\": 117.114406, \"a2_project_location_map\": null, \"a2_senate_dist_a\": 40.0, \"a2_senate_dist_b\": null, \"a2_senatedistc\": null, \"a3_plan_active_trans\": null, \"a3_plan_active_trans_exists\": \"Yes\", \"a3_plan_bicycle\": null, \"a3_plan_bicycle_exists\": \"Yes\", \"a3_plan_ped\": null, \"a3_plan_ped_exists\": \"Yes\", \"a3_plan_srts\": null, \"a3_plan_srts_exists\": \"Yes\", \"a3_proj_type\": null, \"a3_st_bicycle_applies\": \"Yes\", \"a3_st_bicycle_pct\": 60.0, \"a3_st_num_schools\": 5, \"a3_st_ped_applies\": \"Yes\", \"a3_st_ped_pct\": 40, \"a3_st_srts\": \"Yes\", \"a3_trail_elig_cost\": 0.0, \"a3_trail_fed_funding\": null, \"a3_trail_trans_pct\": null, \"a3_trails\": null, \"agency_app_num\": null, \"app_pk\": null, \"attch_addtl_attachments\": null, \"attch_app_sig_page\": null, \"attch_conditions_photos\": null, \"attch_conditions_project_map\": null, \"attch_engineeers_checklist\": null, \"attch_exhibit22_plan\": null, \"attch_letters_of_support\": null, \"attch_link\": null, \"attch_ni_workplan\": null, \"attch_project_estimate\": null, \"completed_pdf_form\": null, \"main_datetime_stamp\": \"\", \"a3_plan_none\": \"No\", \"a3_plan_other\": \"No\", \"a3_plan_other_desc\": \"Local Roadway Safety Plan\", \"a2_output_outcome\": \"Constructing a road diet, green buffered bike lanes, and shortening pedestrian crossings at five intersections will calm traffic, remove barriers, and enhance safety for people biking/walking along this busy arterial to access important community destinat\", \"a3_current_plan\": \"Yes\", \"b_sig_inter_new_bike_boxes\": null, \"b_class_1\": null, \"b_class_2\": 9720.0, \"b_class_3\": 3360.0, \"b_class_4\": 480.0, \"a4_bike_gap_pct\": null, \"b_light_intersection\": null, \"b_mid_block_new_rrfb_signal\": null, \"b_mid_block_surf_improv\": null, \"b_bsp_new_bikes\": null, \"b_bike_new_secured_lockers\": null, \"b_bike_new_racks\": null, \"b_bsp_new_station\": null, \"b_other_bike_improv_1\": \"Bike Bend-Out\", \"b_other_bike_improv_qty_1\": 1.0, \"b_other_bike_improv_2\": \"Protected Intersection Corner\", \"b_other_bike_improv_qty_2\": 1.0, \"b_light_rdwy_seg\": null, \"b_sig_inter_timing_improv\": null, \"b_un_sig_new_rrfb_signal\": null, \"b_un_sig_cross_surf_improv\": null, \"a4_easement_support\": null, \"m_cls_1_trails_widen_recon_exist\": null, \"m_cls_1_trails_new__less_than_9\": null, \"m_cls_1_trails_new_over_9\": null, \"m_non_cls_trails_new\": null, \"m_other_trail_imprv_1\": null, \"m_other_trail_improv_qty_1\": null, \"m_other_trail_imprv_2\": null, \"m_other_trail_improv_qty_2\": null, \"m_non_cls_widen_recon_exist\": null, \"p_amenities_bench\": null, \"a4_ped_gap_pct\": 42.0, \"p_mid_block_cross_new_rrfb_signal\": 1.0, \"p_light_intersection\": 3.0, \"p_lighting_rdwy_seg\": null, \"p_mid_block_cross_surf_improv\": null, \"p_new_ada_ramp\": 11.0, \"p_sidewlks_new_barrier_protect\": null, \"p_sidewlks_new_4_to_8\": null, \"p_sidewlks_new_over_8\": null, \"p_other_ped_imprv_1\": \"New High-Visibility Crosswalks\", \"p_other_ped_qty_1\": 4.0, \"p_other_ped_imprv_2\": null, \"p_other_ped_qty_2\": null, \"p_reconstruct_ramp_to_ada_stand\": 34.0, \"p_sidewlks_reconstruct_enhance_exist\": 780.0, \"p_sig_inter_enhance_exist_crosswlk\": null, \"p_sig_inter_new_crosswlk\": null, \"p_sig_inter_ped_heads\": null, \"p_sig_inter_shorten_cross\": 2.0, \"p_sig_inter_timing_improv\": null, \"p_amenities_trash_can\": null, \"p_amenities_shade_tree\": null, \"p_amenities_shade_tree_type\": null, \"p_un_sig_inter_new_traff_sig\": null, \"p_un_sig_inter_new_roundabout\": null, \"p_un_sig_inter_new_rrfb_sig\": 3.0, \"p_un_sig_inter_shorten_cross\": 10.0, \"p_un_sig_inter_cross_surface_improv\": null, \"p_sidewlks_widen_existing\": 1100.0, \"a4_row_100\": null, \"a4_row_gov_ease\": null, \"a4_row_private_ease\": null, \"v_other_traffic_calming_imprv_1\": null, \"v_speed_feedback_signs\": null, \"v_other_traffic_calming_qty_1\": null, \"v_other_traffic_calming_imprv_2\": null, \"v_other_traffic_calming_qty_2\": null, \"v_remove_right_turn_pocket\": null, \"v_remove_travel_ln\": 10200.0, \"v_sig_inter_new_roundabout\": null, \"v_sig_inter_timing_improv\": null, \"v_un_sig_inter_new_traf_sig\": null, \"v_un_sig_inter_new_roundabout\": null, \"app_fk\": null, \"details_datetime_stamp\": \"\", \"a4_reg_init\": \"N\", \"a4_reg_init_pct\": 0, \"a4_com_init\": \"N\", \"a4_com_init_pct\": 0, \"a4_safe_route\": \"N\", \"a4_safe_route_pct\": 0, \"a4_fl_mile\": \"N\", \"a4_fl_mile_pct\": 0, \"a4_emp_based\": null, \"a4_emp_based_pct\": 0.0, \"a4_other_ni\": \"N\", \"a4_other_ni_descr\": null, \"a4_other_ni_pct\": 0, \"a4_wb_audits\": 0.0, \"a4_bike_classes\": 0.0, \"a4_ped_classes\": 0.0, \"a4_demo_events\": 0.0, \"a4_com_enc\": 0.0, \"a4_le_methods\": 0.0, \"a4_com_meetings\": 0.0, \"a4_classrooms\": 0.0, \"a4_school_assem\": 0.0, \"a4_after_school\": 0.0, \"a4_bike_rodeos\": 0.0, \"a4_mock_cities\": 0.0, \"a4_walk_bus\": 0.0, \"a4_bike_train\": 0.0, \"a4_com_challenges\": 0.0, \"a4_srts_enc\": 0.0, \"a4_srts_le\": 0.0, \"a4_srts_training\": 0.0, \"a4_act_other_1\": 0.0, \"a4_act_other_1_descr\": null, \"a4_act_other_2\": 0.0, \"a4_act_other_2_decr\": null, \"a4_comm_trad_media\": \"N\", \"a4_comm_large_media\": \"N\", \"a4_comm_print\": \"N\", \"a4_comm_social\": \"N\", \"a4_comm_web\": \"N\", \"a4_comm_other\": \"N\", \"a4_comm_other_descr\": null, \"a4_comm_language\": null, \"a4_collab_pub_health\": \"N\", \"a4_collab_le\": \"N\", \"a4_collab_non_profit\": \"N\", \"a4_collab_schools\": \"N\", \"a4_collab_pub_works\": \"N\", \"a4_collab_other\": \"N\", \"a4_colab_other_descr\": null, \"a4_plan_ped\": \"N\", \"a4_plan_bike\": \"N\", \"a4_plan_atp\": \"N\", \"a4_plan_school_routes\": \"N\", \"a4_row_open_street_demo\": \"No\", \"atp_id_x\": \"ATP5-11-044S\", \"a3_proj_type_x\": \"Infrastructure - Medium\", \"agency_fully_own_r_w\": \"X\", \"require_r_w_easement,_from_gov\": null, \"_require_rw_easement_from_private\": null, \"atp_id_y\": \"ATP5-11-044S\", \"ppno1\": null, \"oversight_id\": \"Standard\", \"a3_proj_type_y\": \"Infrastructure\", \"Total Project Cost\": 3354000.0, \"original_prog__amt___pa_ed_\": null, \"orig__prog__year__pa_ed_\": null, \"original_prog__amt___ps_e_\": 539000.0, \"orig__prog__year__ps_e_\": \"21/22\", \"original_prog__amt___rw_\": null, \"orig__prog__year__rw_\": null, \"orignal_prog__amt___con_\": 2479000.0, \"orig__prog__year__con_\": \"22/23\", \"original_prog__amt___con_ni_\": null, \"orig__prog__year__con_ni_\": null, \"total\": 3018000.0, \"_2122_pa_ed\": null, \"_2122_ps_e\": 539000.0, \"_2122_rw\": null, \"_2122_con\": null, \"_2122_con_ni\": null, \"_2122_total\": 539000.0, \"fund_year_1\": \"21/22\", \"_2223_pa_ed\": null, \"_2223_ps_e\": null, \"_2223_rw\": null, \"_2223_con\": 2479000.0, \"_2223_con_ni\": null, \"_2223_total\": 2479000.0, \"fund_year_2\": \"22/23\", \"_2324_pa_ed\": null, \"_2324_ps_e\": null, \"_2324_rw\": null, \"_2324_con\": null, \"_2324_con_ni\": null, \"_2324_total\": 0.0, \"fund_year_3\": \"23/24\", \"_2425_pa_ed\": null, \"_2425_ps_e\": null, \"_2425_rw\": null, \"_2425_con\": null, \"_2425_con_ni\": null, \"_2425_total\": 0.0, \"fund_year_4\": \"24/25\", \"Total ATP Funds\": 3018000.0, \"match_total_atp_$_and_total\": \"YES\", \"match_total_atp_$_and_total_atp_x_1000\": \"YES\", \"paed\": 0.0, \"ps_e_\": 539.0, \"rw\": 0.0, \"con\": 2479.0, \"con_ni\": 0.0, \"total_atp__000s_\": 3018.0, \"total_atp_x_1000\": 3018000.0, \"year__pa_ed_\": null, \"year__ps_e_\": \"21/22\", \"year__rw_\": null, \"year__con_\": \"22/23\", \"year__con_ni_\": null, \"Implemeting Agency Name\": \"City of Imperial Beach\"}, {\"Project ID\": \"11-National City, City of-3\", \"project_cycle\": 5, \"a1_locode\": 5066.0, \"#\": null, \"atp_id\": null, \"awarded\": \"Y\", \"ppno\": 1441, \"ppno_1\": null, \"data_origin\": \"Funded\", \"geometry\": null, \"project_status\": \"Active\", \"solicitation_abv\": \"S\", \"solicitation\": \"STATEWIDE SOLICITATION-CYCLE 5\", \"soliciting_agency\": \"CALTRANS\", \"project_size\": \"Small\", \"a1_imp_agcy_city\": \"National City\", \"a1_imp_agcy_name\": \"National City, City of\", \"a1_proj_partner_agcy\": null, \"a1_proj_partner_exists\": \"No \", \"assembly_district\": 80, \"congressional_district\": 51, \"senate_district\": 40, \"County\": \"San Diego\", \"a2_ct_dist\": 11, \"a2_info_proj_descr\": \"Construct Class IV and II bicycle facilities, traffic calming, pavement markings, signing, signal modifications, and ADA curb ramps.\", \"a2_info_proj_loc\": \"National City, CA.  Highland Avenue from 30th Street to just south of the SR-54 EB ramps. \", \"Project Name\": \"Highland Avenue Inter-City Bike Connection\", \"a2_mop_uza_population\": \"Project is located within one of the ten large MPOs\", \"a2_mpo\": \"SANDAG\", \"a2_rtpa\": \"None\", \"a2_proj_scope_summary\": \"The Highland Avenue Inter-City Bike Connection project will construct nearly 0.4 miles of Class IV and Class II bicycle facilities along Highland Avenue from 30th Street to the southern City limits, per the City's Bicycle Master Plan.  Currently, the Swee\", \"a1_imp_agcy_fed_ma_num\": \"11-5066R\", \"a1_imp_agcy_ma\": \"Yes\", \"a1_imp_agcy_state_ma_num\": \"00013S\", \"a1_imp_agcy_street\": \"1243 National City Boulevard\", \"a1_imp_agcy_title\": \"Director of Public Works/City Engineer\", \"a1_imp_agcy_zip\": 91950, \"a1_letter_of_intent\": null, \"a1_proj_partner_title\": null, \"a2_assem_dist_a\": 80.0, \"a2_assem_dist_b\": null, \"a2_assem_dist_c\": null, \"a2_congress_dist_a\": 51.0, \"a2_congress_dist_b\": null, \"a2_congress_dist_c\": null, \"a2_past_proj\": \"Yes                           \", \"a2_past_proj_qty\": 1, \"a2_proj_lat\": 32.656506, \"a2_proj_long\": 32.656506, \"a2_project_location_map\": null, \"a2_senate_dist_a\": 40.0, \"a2_senate_dist_b\": null, \"a2_senatedistc\": null, \"a3_plan_active_trans\": null, \"a3_plan_active_trans_exists\": \"Yes\", \"a3_plan_bicycle\": null, \"a3_plan_bicycle_exists\": \"No \", \"a3_plan_ped\": null, \"a3_plan_ped_exists\": \"No \", \"a3_plan_srts\": null, \"a3_plan_srts_exists\": \"No \", \"a3_proj_type\": null, \"a3_st_bicycle_applies\": \"Yes\", \"a3_st_bicycle_pct\": 85.0, \"a3_st_num_schools\": 0, \"a3_st_ped_applies\": \"Yes\", \"a3_st_ped_pct\": 15, \"a3_st_srts\": \"No \", \"a3_trail_elig_cost\": 0.0, \"a3_trail_fed_funding\": null, \"a3_trail_trans_pct\": null, \"a3_trails\": null, \"agency_app_num\": null, \"app_pk\": null, \"attch_addtl_attachments\": null, \"attch_app_sig_page\": null, \"attch_conditions_photos\": null, \"attch_conditions_project_map\": null, \"attch_engineeers_checklist\": null, \"attch_exhibit22_plan\": null, \"attch_letters_of_support\": null, \"attch_link\": null, \"attch_ni_workplan\": null, \"attch_project_estimate\": null, \"completed_pdf_form\": null, \"main_datetime_stamp\": \"\", \"a3_plan_none\": \"0\", \"a3_plan_other\": \"0\", \"a3_plan_other_desc\": null, \"a2_output_outcome\": \"Addition of bicycle facilities on Highland Avenue will break down the non-motorized barrier and provide a much needed active transportation connection between National City and Chula Vista.\", \"a3_current_plan\": \"Yes\", \"b_sig_inter_new_bike_boxes\": 1.0, \"b_class_1\": null, \"b_class_2\": 1100.0, \"b_class_3\": null, \"b_class_4\": 2800.0, \"a4_bike_gap_pct\": null, \"b_light_intersection\": null, \"b_mid_block_new_rrfb_signal\": null, \"b_mid_block_surf_improv\": null, \"b_bsp_new_bikes\": null, \"b_bike_new_secured_lockers\": null, \"b_bike_new_racks\": null, \"b_bsp_new_station\": null, \"b_other_bike_improv_1\": \"Intersection conflict striping\", \"b_other_bike_improv_qty_1\": 2.0, \"b_other_bike_improv_2\": null, \"b_other_bike_improv_qty_2\": null, \"b_light_rdwy_seg\": null, \"b_sig_inter_timing_improv\": null, \"b_un_sig_new_rrfb_signal\": null, \"b_un_sig_cross_surf_improv\": null, \"a4_easement_support\": null, \"m_cls_1_trails_widen_recon_exist\": null, \"m_cls_1_trails_new__less_than_9\": null, \"m_cls_1_trails_new_over_9\": null, \"m_non_cls_trails_new\": null, \"m_other_trail_imprv_1\": null, \"m_other_trail_improv_qty_1\": null, \"m_other_trail_imprv_2\": null, \"m_other_trail_improv_qty_2\": null, \"m_non_cls_widen_recon_exist\": null, \"p_amenities_bench\": null, \"a4_ped_gap_pct\": null, \"p_mid_block_cross_new_rrfb_signal\": null, \"p_light_intersection\": null, \"p_lighting_rdwy_seg\": null, \"p_mid_block_cross_surf_improv\": null, \"p_new_ada_ramp\": null, \"p_sidewlks_new_barrier_protect\": null, \"p_sidewlks_new_4_to_8\": null, \"p_sidewlks_new_over_8\": null, \"p_other_ped_imprv_1\": null, \"p_other_ped_qty_1\": null, \"p_other_ped_imprv_2\": null, \"p_other_ped_qty_2\": null, \"p_reconstruct_ramp_to_ada_stand\": 13.0, \"p_sidewlks_reconstruct_enhance_exist\": null, \"p_sig_inter_enhance_exist_crosswlk\": 2.0, \"p_sig_inter_new_crosswlk\": 6.0, \"p_sig_inter_ped_heads\": null, \"p_sig_inter_shorten_cross\": null, \"p_sig_inter_timing_improv\": null, \"p_amenities_trash_can\": null, \"p_amenities_shade_tree\": null, \"p_amenities_shade_tree_type\": null, \"p_un_sig_inter_new_traff_sig\": null, \"p_un_sig_inter_new_roundabout\": null, \"p_un_sig_inter_new_rrfb_sig\": null, \"p_un_sig_inter_shorten_cross\": null, \"p_un_sig_inter_cross_surface_improv\": null, \"p_sidewlks_widen_existing\": null, \"a4_row_100\": null, \"a4_row_gov_ease\": null, \"a4_row_private_ease\": null, \"v_other_traffic_calming_imprv_1\": \"Narrow travel lanes\", \"v_speed_feedback_signs\": null, \"v_other_traffic_calming_qty_1\": 2.0, \"v_other_traffic_calming_imprv_2\": null, \"v_other_traffic_calming_qty_2\": null, \"v_remove_right_turn_pocket\": null, \"v_remove_travel_ln\": null, \"v_sig_inter_new_roundabout\": null, \"v_sig_inter_timing_improv\": null, \"v_un_sig_inter_new_traf_sig\": null, \"v_un_sig_inter_new_roundabout\": null, \"app_fk\": null, \"details_datetime_stamp\": \"\", \"a4_reg_init\": \"N\", \"a4_reg_init_pct\": 0, \"a4_com_init\": \"N\", \"a4_com_init_pct\": 0, \"a4_safe_route\": \"N\", \"a4_safe_route_pct\": 0, \"a4_fl_mile\": \"N\", \"a4_fl_mile_pct\": 0, \"a4_emp_based\": null, \"a4_emp_based_pct\": 0.0, \"a4_other_ni\": \"N\", \"a4_other_ni_descr\": null, \"a4_other_ni_pct\": 0, \"a4_wb_audits\": 0.0, \"a4_bike_classes\": 0.0, \"a4_ped_classes\": 0.0, \"a4_demo_events\": 0.0, \"a4_com_enc\": 0.0, \"a4_le_methods\": 0.0, \"a4_com_meetings\": 0.0, \"a4_classrooms\": 0.0, \"a4_school_assem\": 0.0, \"a4_after_school\": 0.0, \"a4_bike_rodeos\": 0.0, \"a4_mock_cities\": 0.0, \"a4_walk_bus\": 0.0, \"a4_bike_train\": 0.0, \"a4_com_challenges\": 0.0, \"a4_srts_enc\": 0.0, \"a4_srts_le\": 0.0, \"a4_srts_training\": 0.0, \"a4_act_other_1\": 0.0, \"a4_act_other_1_descr\": null, \"a4_act_other_2\": 0.0, \"a4_act_other_2_decr\": null, \"a4_comm_trad_media\": \"N\", \"a4_comm_large_media\": \"N\", \"a4_comm_print\": \"N\", \"a4_comm_social\": \"N\", \"a4_comm_web\": \"N\", \"a4_comm_other\": \"N\", \"a4_comm_other_descr\": null, \"a4_comm_language\": null, \"a4_collab_pub_health\": \"N\", \"a4_collab_le\": \"N\", \"a4_collab_non_profit\": \"N\", \"a4_collab_schools\": \"N\", \"a4_collab_pub_works\": \"N\", \"a4_collab_other\": \"N\", \"a4_colab_other_descr\": null, \"a4_plan_ped\": \"N\", \"a4_plan_bike\": \"N\", \"a4_plan_atp\": \"N\", \"a4_plan_school_routes\": \"N\", \"a4_row_open_street_demo\": \"No\", \"atp_id_x\": \"ATP5-11-024S\", \"a3_proj_type_x\": \"Infrastructure - Small\", \"agency_fully_own_r_w\": null, \"require_r_w_easement,_from_gov\": null, \"_require_rw_easement_from_private\": null, \"atp_id_y\": \"ATP5-11-024S\", \"ppno1\": null, \"oversight_id\": \"Standard\", \"a3_proj_type_y\": \"Infrastructure\", \"Total Project Cost\": 1897000.0, \"original_prog__amt___pa_ed_\": 58000.0, \"orig__prog__year__pa_ed_\": \"21/22\", \"original_prog__amt___ps_e_\": 260000.0, \"orig__prog__year__ps_e_\": \"22/23\", \"original_prog__amt___rw_\": null, \"orig__prog__year__rw_\": null, \"orignal_prog__amt___con_\": 1025000.0, \"orig__prog__year__con_\": \"23/24\", \"original_prog__amt___con_ni_\": null, \"orig__prog__year__con_ni_\": null, \"total\": 1343000.0, \"_2122_pa_ed\": 58000.0, \"_2122_ps_e\": null, \"_2122_rw\": null, \"_2122_con\": null, \"_2122_con_ni\": null, \"_2122_total\": 58000.0, \"fund_year_1\": \"21/22\", \"_2223_pa_ed\": null, \"_2223_ps_e\": 260000.0, \"_2223_rw\": null, \"_2223_con\": null, \"_2223_con_ni\": null, \"_2223_total\": 260000.0, \"fund_year_2\": \"22/23\", \"_2324_pa_ed\": null, \"_2324_ps_e\": null, \"_2324_rw\": null, \"_2324_con\": 1025000.0, \"_2324_con_ni\": null, \"_2324_total\": 1025000.0, \"fund_year_3\": \"23/24\", \"_2425_pa_ed\": null, \"_2425_ps_e\": null, \"_2425_rw\": null, \"_2425_con\": null, \"_2425_con_ni\": null, \"_2425_total\": 0.0, \"fund_year_4\": \"24/25\", \"Total ATP Funds\": 1343000.0, \"match_total_atp_$_and_total\": \"YES\", \"match_total_atp_$_and_total_atp_x_1000\": \"YES\", \"paed\": 58.0, \"ps_e_\": 260.0, \"rw\": 0.0, \"con\": 1025.0, \"con_ni\": 0.0, \"total_atp__000s_\": 1343.0, \"total_atp_x_1000\": 1343000.0, \"year__pa_ed_\": \"21/22\", \"year__ps_e_\": \"22/23\", \"year__rw_\": null, \"year__con_\": \"23/24\", \"year__con_ni_\": null, \"Implemeting Agency Name\": \"City of National City\"}, {\"Project ID\": \"11-Oceanside, City of-1\", \"project_cycle\": 5, \"a1_locode\": 5079.0, \"#\": null, \"atp_id\": null, \"awarded\": \"Y\", \"ppno\": 1442, \"ppno_1\": null, \"data_origin\": \"Funded\", \"geometry\": null, \"project_status\": \"Active\", \"solicitation_abv\": \"S\", \"solicitation\": \"STATEWIDE SOLICITATION-CYCLE 5\", \"soliciting_agency\": \"CALTRANS\", \"project_size\": \"Small\", \"a1_imp_agcy_city\": \"Oceanside\", \"a1_imp_agcy_name\": \"Oceanside, City of\", \"a1_proj_partner_agcy\": null, \"a1_proj_partner_exists\": \"No \", \"assembly_district\": 76, \"congressional_district\": 49, \"senate_district\": 36, \"County\": \"San Diego\", \"a2_ct_dist\": 11, \"a2_info_proj_descr\": \"The Laurel Elementary SRTS includes infrastructure improvements, complemented by non-infrastructure activities to improve the safety and convenience for students walking/biking.\", \"a2_info_proj_loc\": \"The project is located in the Eastside community of the City of Oceanside in San Diego County.\", \"Project Name\": \"Laurel Elementary Safe Routes to School\", \"a2_mop_uza_population\": \"Project is located within one of the ten large MPOs\", \"a2_mpo\": \"SANDAG\", \"a2_rtpa\": \"None\", \"a2_proj_scope_summary\": \"Laurel Elementary Safe Routes to School (SRTS) is a comprehensive infrastructure and non-infrastructure project that is the direct result of the extensive outreach, engagement, and data collection conducted as a part of the ongoing Oceanside SRTS Plan dev\", \"a1_imp_agcy_fed_ma_num\": \"11-5079R\", \"a1_imp_agcy_ma\": \"Yes\", \"a1_imp_agcy_state_ma_num\": \"00369S\", \"a1_imp_agcy_street\": \"300 N Coast Highway \", \"a1_imp_agcy_title\": \"Active Transportation and Micromobility Coordinator\", \"a1_imp_agcy_zip\": 92024, \"a1_letter_of_intent\": null, \"a1_proj_partner_title\": null, \"a2_assem_dist_a\": 76.0, \"a2_assem_dist_b\": null, \"a2_assem_dist_c\": null, \"a2_congress_dist_a\": 49.0, \"a2_congress_dist_b\": null, \"a2_congress_dist_c\": null, \"a2_past_proj\": \"No                            \", \"a2_past_proj_qty\": 0, \"a2_proj_lat\": 33.207349, \"a2_proj_long\": -117.373505, \"a2_project_location_map\": null, \"a2_senate_dist_a\": 36.0, \"a2_senate_dist_b\": null, \"a2_senatedistc\": null, \"a3_plan_active_trans\": null, \"a3_plan_active_trans_exists\": \"No \", \"a3_plan_bicycle\": null, \"a3_plan_bicycle_exists\": \"Yes\", \"a3_plan_ped\": null, \"a3_plan_ped_exists\": \"Yes\", \"a3_plan_srts\": null, \"a3_plan_srts_exists\": \"No \", \"a3_proj_type\": null, \"a3_st_bicycle_applies\": \"Yes\", \"a3_st_bicycle_pct\": 10.0, \"a3_st_num_schools\": 1, \"a3_st_ped_applies\": \"Yes\", \"a3_st_ped_pct\": 90, \"a3_st_srts\": \"Yes\", \"a3_trail_elig_cost\": 0.0, \"a3_trail_fed_funding\": null, \"a3_trail_trans_pct\": null, \"a3_trails\": null, \"agency_app_num\": null, \"app_pk\": null, \"attch_addtl_attachments\": null, \"attch_app_sig_page\": null, \"attch_conditions_photos\": null, \"attch_conditions_project_map\": null, \"attch_engineeers_checklist\": null, \"attch_exhibit22_plan\": null, \"attch_letters_of_support\": null, \"attch_link\": null, \"attch_ni_workplan\": null, \"attch_project_estimate\": null, \"completed_pdf_form\": null, \"main_datetime_stamp\": \"\", \"a3_plan_none\": \"No\", \"a3_plan_other\": \"No\", \"a3_plan_other_desc\": null, \"a2_output_outcome\": \"Infrastructure improvements of a mini roundabout, curb extensions, striping and signage, traffic calming median, flashing beacons, and high visibility crosswalks coupled with education will improve safety and encourage families to walk and bike to school.\", \"a3_current_plan\": \"No\", \"b_sig_inter_new_bike_boxes\": null, \"b_class_1\": null, \"b_class_2\": null, \"b_class_3\": null, \"b_class_4\": null, \"a4_bike_gap_pct\": null, \"b_light_intersection\": null, \"b_mid_block_new_rrfb_signal\": null, \"b_mid_block_surf_improv\": null, \"b_bsp_new_bikes\": null, \"b_bike_new_secured_lockers\": null, \"b_bike_new_racks\": null, \"b_bsp_new_station\": null, \"b_other_bike_improv_1\": null, \"b_other_bike_improv_qty_1\": null, \"b_other_bike_improv_2\": null, \"b_other_bike_improv_qty_2\": null, \"b_light_rdwy_seg\": null, \"b_sig_inter_timing_improv\": null, \"b_un_sig_new_rrfb_signal\": null, \"b_un_sig_cross_surf_improv\": null, \"a4_easement_support\": null, \"m_cls_1_trails_widen_recon_exist\": null, \"m_cls_1_trails_new__less_than_9\": null, \"m_cls_1_trails_new_over_9\": null, \"m_non_cls_trails_new\": null, \"m_other_trail_imprv_1\": null, \"m_other_trail_improv_qty_1\": null, \"m_other_trail_imprv_2\": null, \"m_other_trail_improv_qty_2\": null, \"m_non_cls_widen_recon_exist\": null, \"p_amenities_bench\": null, \"a4_ped_gap_pct\": 25.0, \"p_mid_block_cross_new_rrfb_signal\": 2.0, \"p_light_intersection\": null, \"p_lighting_rdwy_seg\": null, \"p_mid_block_cross_surf_improv\": 1.0, \"p_new_ada_ramp\": 29.0, \"p_sidewlks_new_barrier_protect\": null, \"p_sidewlks_new_4_to_8\": 868.0, \"p_sidewlks_new_over_8\": null, \"p_other_ped_imprv_1\": \"traffic circle and pavement markings\", \"p_other_ped_qty_1\": 1.0, \"p_other_ped_imprv_2\": null, \"p_other_ped_qty_2\": null, \"p_reconstruct_ramp_to_ada_stand\": null, \"p_sidewlks_reconstruct_enhance_exist\": null, \"p_sig_inter_enhance_exist_crosswlk\": null, \"p_sig_inter_new_crosswlk\": null, \"p_sig_inter_ped_heads\": null, \"p_sig_inter_shorten_cross\": null, \"p_sig_inter_timing_improv\": null, \"p_amenities_trash_can\": null, \"p_amenities_shade_tree\": null, \"p_amenities_shade_tree_type\": null, \"p_un_sig_inter_new_traff_sig\": null, \"p_un_sig_inter_new_roundabout\": 1.0, \"p_un_sig_inter_new_rrfb_sig\": null, \"p_un_sig_inter_shorten_cross\": 1.0, \"p_un_sig_inter_cross_surface_improv\": 12.0, \"p_sidewlks_widen_existing\": null, \"a4_row_100\": null, \"a4_row_gov_ease\": null, \"a4_row_private_ease\": null, \"v_other_traffic_calming_imprv_1\": \"traffic calming median on San Diego  \", \"v_speed_feedback_signs\": null, \"v_other_traffic_calming_qty_1\": 1.0, \"v_other_traffic_calming_imprv_2\": null, \"v_other_traffic_calming_qty_2\": null, \"v_remove_right_turn_pocket\": null, \"v_remove_travel_ln\": null, \"v_sig_inter_new_roundabout\": null, \"v_sig_inter_timing_improv\": null, \"v_un_sig_inter_new_traf_sig\": null, \"v_un_sig_inter_new_roundabout\": null, \"app_fk\": null, \"details_datetime_stamp\": \"\", \"a4_reg_init\": \"N\", \"a4_reg_init_pct\": 0, \"a4_com_init\": \"N\", \"a4_com_init_pct\": 0, \"a4_safe_route\": \"Y\", \"a4_safe_route_pct\": 100, \"a4_fl_mile\": \"N\", \"a4_fl_mile_pct\": 0, \"a4_emp_based\": null, \"a4_emp_based_pct\": 0.0, \"a4_other_ni\": \"N\", \"a4_other_ni_descr\": null, \"a4_other_ni_pct\": 0, \"a4_wb_audits\": 0.0, \"a4_bike_classes\": 0.0, \"a4_ped_classes\": 0.0, \"a4_demo_events\": 0.0, \"a4_com_enc\": 0.0, \"a4_le_methods\": 0.0, \"a4_com_meetings\": 0.0, \"a4_classrooms\": 0.0, \"a4_school_assem\": 2.0, \"a4_after_school\": 0.0, \"a4_bike_rodeos\": 2.0, \"a4_mock_cities\": 2.0, \"a4_walk_bus\": 1.0, \"a4_bike_train\": 0.0, \"a4_com_challenges\": 0.0, \"a4_srts_enc\": 2.0, \"a4_srts_le\": 0.0, \"a4_srts_training\": 0.0, \"a4_act_other_1\": 12.0, \"a4_act_other_1_descr\": \"Stakeholder Meetings\", \"a4_act_other_2\": 2.0, \"a4_act_other_2_decr\": \"Crossing Guard Trainings\", \"a4_comm_trad_media\": \"Y\", \"a4_comm_large_media\": \"N\", \"a4_comm_print\": \"Y\", \"a4_comm_social\": \"Y\", \"a4_comm_web\": \"Y\", \"a4_comm_other\": \"N\", \"a4_comm_other_descr\": null, \"a4_comm_language\": \"Spanish\", \"a4_collab_pub_health\": \"Y\", \"a4_collab_le\": \"Y\", \"a4_collab_non_profit\": \"Y\", \"a4_collab_schools\": \"Y\", \"a4_collab_pub_works\": \"Y\", \"a4_collab_other\": \"N\", \"a4_colab_other_descr\": null, \"a4_plan_ped\": \"N\", \"a4_plan_bike\": \"N\", \"a4_plan_atp\": \"N\", \"a4_plan_school_routes\": \"N\", \"a4_row_open_street_demo\": \"No\", \"atp_id_x\": \"ATP5-11-005S\", \"a3_proj_type_x\": \"Infrastructure + NI - Small\", \"agency_fully_own_r_w\": \"X\", \"require_r_w_easement,_from_gov\": null, \"_require_rw_easement_from_private\": null, \"atp_id_y\": \"ATP5-11-005S\", \"ppno1\": null, \"oversight_id\": \"Standard\", \"a3_proj_type_y\": \"Combined (IF and NI)\", \"Total Project Cost\": 1535000.0, \"original_prog__amt___pa_ed_\": 160000.0, \"orig__prog__year__pa_ed_\": \"21/22\", \"original_prog__amt___ps_e_\": 160000.0, \"orig__prog__year__ps_e_\": \"22/23\", \"original_prog__amt___rw_\": null, \"orig__prog__year__rw_\": null, \"orignal_prog__amt___con_\": 1075000.0, \"orig__prog__year__con_\": \"23/24\", \"original_prog__amt___con_ni_\": 127000.0, \"orig__prog__year__con_ni_\": \"21/22\", \"total\": 1522000.0, \"_2122_pa_ed\": 160000.0, \"_2122_ps_e\": null, \"_2122_rw\": null, \"_2122_con\": null, \"_2122_con_ni\": 127000.0, \"_2122_total\": 287000.0, \"fund_year_1\": \"21/22\", \"_2223_pa_ed\": null, \"_2223_ps_e\": 160000.0, \"_2223_rw\": null, \"_2223_con\": null, \"_2223_con_ni\": null, \"_2223_total\": 160000.0, \"fund_year_2\": \"22/23\", \"_2324_pa_ed\": null, \"_2324_ps_e\": null, \"_2324_rw\": null, \"_2324_con\": 1075000.0, \"_2324_con_ni\": null, \"_2324_total\": 1075000.0, \"fund_year_3\": \"23/24\", \"_2425_pa_ed\": null, \"_2425_ps_e\": null, \"_2425_rw\": null, \"_2425_con\": null, \"_2425_con_ni\": null, \"_2425_total\": 0.0, \"fund_year_4\": \"24/25\", \"Total ATP Funds\": 1522000.0, \"match_total_atp_$_and_total\": \"YES\", \"match_total_atp_$_and_total_atp_x_1000\": \"YES\", \"paed\": 160.0, \"ps_e_\": 160.0, \"rw\": 0.0, \"con\": 1075.0, \"con_ni\": 127.0, \"total_atp__000s_\": 1522.0, \"total_atp_x_1000\": 1522000.0, \"year__pa_ed_\": \"21/22\", \"year__ps_e_\": \"22/23\", \"year__rw_\": null, \"year__con_\": \"23/24\", \"year__con_ni_\": \"21/22\", \"Implemeting Agency Name\": \"City of Oceanside\"}, {\"Project ID\": \"11-San Diego Association of Governments (SANDAG)-1\", \"project_cycle\": 5, \"a1_locode\": 6066.0, \"#\": null, \"atp_id\": null, \"awarded\": \"Y\", \"ppno\": 1443, \"ppno_1\": null, \"data_origin\": \"Funded\", \"geometry\": null, \"project_status\": \"Active\", \"solicitation_abv\": \"S\", \"solicitation\": \"STATEWIDE SOLICITATION-CYCLE 5\", \"soliciting_agency\": \"CALTRANS\", \"project_size\": \"Medium\", \"a1_imp_agcy_city\": \"San Diego\", \"a1_imp_agcy_name\": \"San Diego Association of Governments (SANDAG)\", \"a1_proj_partner_agcy\": \"City of San Diego\", \"a1_proj_partner_exists\": \"Yes\", \"assembly_district\": \"78, 80\", \"congressional_district\": \"51, 53\", \"senate_district\": 40, \"County\": \"San Diego\", \"a2_ct_dist\": 11, \"a2_info_proj_descr\": \"Buffered bike lanes; traffic calming and ped access improvements including diverters, curb extensions, high vis and raised crosswalks, traffic circle, curb ramps, and signal mods\", \"a2_info_proj_loc\": \"The Orange Family Friendly Street Project is 2.1-miles long and will run along Orange Avenue, between 32nd Street and Estrella Avenue, in the City Heights community of San Diego.\", \"Project Name\": \"Orange Family Friendly Street Project\", \"a2_mop_uza_population\": \"Project is located within one of the ten large MPOs\", \"a2_mpo\": \"SANDAG\", \"a2_rtpa\": \"None\", \"a2_proj_scope_summary\": \"The Orange Family Friendly Street Project, also known as Orange Bikeway, will be 2.1 miles long and run along Orange Avenue, between 32nd Street and Estrella Avenue, in the City Heights community of San Diego. It is part of the larger 13-mile North Park |\", \"a1_imp_agcy_fed_ma_num\": \"11-6066R\", \"a1_imp_agcy_ma\": \"Yes\", \"a1_imp_agcy_state_ma_num\": \"00037S\", \"a1_imp_agcy_street\": \"401 B Street, Suite 800\", \"a1_imp_agcy_title\": \"Associate Planner, Active Transportation\", \"a1_imp_agcy_zip\": 92101, \"a1_letter_of_intent\": null, \"a1_proj_partner_title\": \"Mobility Program Manager\", \"a2_assem_dist_a\": 78.0, \"a2_assem_dist_b\": 80.0, \"a2_assem_dist_c\": null, \"a2_congress_dist_a\": 51.0, \"a2_congress_dist_b\": 53.0, \"a2_congress_dist_c\": null, \"a2_past_proj\": \"No                            \", \"a2_past_proj_qty\": 0, \"a2_proj_lat\": 324511.0, \"a2_proj_long\": 1170624.0, \"a2_project_location_map\": null, \"a2_senate_dist_a\": 40.0, \"a2_senate_dist_b\": null, \"a2_senatedistc\": null, \"a3_plan_active_trans\": null, \"a3_plan_active_trans_exists\": \"No \", \"a3_plan_bicycle\": null, \"a3_plan_bicycle_exists\": \"Yes\", \"a3_plan_ped\": null, \"a3_plan_ped_exists\": \"No \", \"a3_plan_srts\": null, \"a3_plan_srts_exists\": \"Yes\", \"a3_proj_type\": null, \"a3_st_bicycle_applies\": \"Yes\", \"a3_st_bicycle_pct\": 60.0, \"a3_st_num_schools\": 18, \"a3_st_ped_applies\": \"Yes\", \"a3_st_ped_pct\": 40, \"a3_st_srts\": \"Yes\", \"a3_trail_elig_cost\": 0.0, \"a3_trail_fed_funding\": null, \"a3_trail_trans_pct\": null, \"a3_trails\": null, \"agency_app_num\": null, \"app_pk\": null, \"attch_addtl_attachments\": null, \"attch_app_sig_page\": null, \"attch_conditions_photos\": null, \"attch_conditions_project_map\": null, \"attch_engineeers_checklist\": null, \"attch_exhibit22_plan\": null, \"attch_letters_of_support\": null, \"attch_link\": null, \"attch_ni_workplan\": null, \"attch_project_estimate\": null, \"completed_pdf_form\": null, \"main_datetime_stamp\": \"\", \"a3_plan_none\": \"0\", \"a3_plan_other\": \"0\", \"a3_plan_other_desc\": null, \"a2_output_outcome\": \"Construction of 2.1-miles of buffered bike lanes, 3 diverters, high visibility crosswalks (2 raised), neighborhood traffic circle, and additional traffic calming and pedestrian access features will improve safety and comfort for people walking and biking.\", \"a3_current_plan\": \"Yes\", \"b_sig_inter_new_bike_boxes\": 4.0, \"b_class_1\": null, \"b_class_2\": 22180.0, \"b_class_3\": null, \"b_class_4\": null, \"a4_bike_gap_pct\": null, \"b_light_intersection\": null, \"b_mid_block_new_rrfb_signal\": null, \"b_mid_block_surf_improv\": null, \"b_bsp_new_bikes\": null, \"b_bike_new_secured_lockers\": null, \"b_bike_new_racks\": 6.0, \"b_bsp_new_station\": null, \"b_other_bike_improv_1\": \"Diverter Median Islands\", \"b_other_bike_improv_qty_1\": 3.0, \"b_other_bike_improv_2\": null, \"b_other_bike_improv_qty_2\": null, \"b_light_rdwy_seg\": 400.0, \"b_sig_inter_timing_improv\": null, \"b_un_sig_new_rrfb_signal\": null, \"b_un_sig_cross_surf_improv\": null, \"a4_easement_support\": null, \"m_cls_1_trails_widen_recon_exist\": null, \"m_cls_1_trails_new__less_than_9\": null, \"m_cls_1_trails_new_over_9\": null, \"m_non_cls_trails_new\": null, \"m_other_trail_imprv_1\": null, \"m_other_trail_improv_qty_1\": null, \"m_other_trail_imprv_2\": null, \"m_other_trail_improv_qty_2\": null, \"m_non_cls_widen_recon_exist\": null, \"p_amenities_bench\": null, \"a4_ped_gap_pct\": null, \"p_mid_block_cross_new_rrfb_signal\": null, \"p_light_intersection\": 12.0, \"p_lighting_rdwy_seg\": null, \"p_mid_block_cross_surf_improv\": 2.0, \"p_new_ada_ramp\": 4.0, \"p_sidewlks_new_barrier_protect\": null, \"p_sidewlks_new_4_to_8\": null, \"p_sidewlks_new_over_8\": null, \"p_other_ped_imprv_1\": \"Install Audible Ped Push Buttons\", \"p_other_ped_qty_1\": 24.0, \"p_other_ped_imprv_2\": \"Raised Crosswalk\", \"p_other_ped_qty_2\": 2.0, \"p_reconstruct_ramp_to_ada_stand\": 18.0, \"p_sidewlks_reconstruct_enhance_exist\": 890.0, \"p_sig_inter_enhance_exist_crosswlk\": 24.0, \"p_sig_inter_new_crosswlk\": null, \"p_sig_inter_ped_heads\": null, \"p_sig_inter_shorten_cross\": null, \"p_sig_inter_timing_improv\": 7.0, \"p_amenities_trash_can\": null, \"p_amenities_shade_tree\": null, \"p_amenities_shade_tree_type\": null, \"p_un_sig_inter_new_traff_sig\": null, \"p_un_sig_inter_new_roundabout\": 1.0, \"p_un_sig_inter_new_rrfb_sig\": 4.0, \"p_un_sig_inter_shorten_cross\": 10.0, \"p_un_sig_inter_cross_surface_improv\": null, \"p_sidewlks_widen_existing\": null, \"a4_row_100\": null, \"a4_row_gov_ease\": null, \"a4_row_private_ease\": null, \"v_other_traffic_calming_imprv_1\": \"Diverter Median Island\", \"v_speed_feedback_signs\": null, \"v_other_traffic_calming_qty_1\": 3.0, \"v_other_traffic_calming_imprv_2\": \"Speed Cushions (5 with chokers)\", \"v_other_traffic_calming_qty_2\": 10.0, \"v_remove_right_turn_pocket\": null, \"v_remove_travel_ln\": 11090.0, \"v_sig_inter_new_roundabout\": null, \"v_sig_inter_timing_improv\": null, \"v_un_sig_inter_new_traf_sig\": null, \"v_un_sig_inter_new_roundabout\": 1.0, \"app_fk\": null, \"details_datetime_stamp\": \"\", \"a4_reg_init\": \"N\", \"a4_reg_init_pct\": 0, \"a4_com_init\": \"N\", \"a4_com_init_pct\": 0, \"a4_safe_route\": \"N\", \"a4_safe_route_pct\": 0, \"a4_fl_mile\": \"N\", \"a4_fl_mile_pct\": 0, \"a4_emp_based\": null, \"a4_emp_based_pct\": 0.0, \"a4_other_ni\": \"N\", \"a4_other_ni_descr\": null, \"a4_other_ni_pct\": 0, \"a4_wb_audits\": 0.0, \"a4_bike_classes\": 0.0, \"a4_ped_classes\": 0.0, \"a4_demo_events\": 0.0, \"a4_com_enc\": 0.0, \"a4_le_methods\": 0.0, \"a4_com_meetings\": 0.0, \"a4_classrooms\": 0.0, \"a4_school_assem\": 0.0, \"a4_after_school\": 0.0, \"a4_bike_rodeos\": 0.0, \"a4_mock_cities\": 0.0, \"a4_walk_bus\": 0.0, \"a4_bike_train\": 0.0, \"a4_com_challenges\": 0.0, \"a4_srts_enc\": 0.0, \"a4_srts_le\": 0.0, \"a4_srts_training\": 0.0, \"a4_act_other_1\": 0.0, \"a4_act_other_1_descr\": null, \"a4_act_other_2\": 0.0, \"a4_act_other_2_decr\": null, \"a4_comm_trad_media\": \"N\", \"a4_comm_large_media\": \"N\", \"a4_comm_print\": \"N\", \"a4_comm_social\": \"N\", \"a4_comm_web\": \"N\", \"a4_comm_other\": \"N\", \"a4_comm_other_descr\": null, \"a4_comm_language\": null, \"a4_collab_pub_health\": \"N\", \"a4_collab_le\": \"N\", \"a4_collab_non_profit\": \"N\", \"a4_collab_schools\": \"N\", \"a4_collab_pub_works\": \"N\", \"a4_collab_other\": \"N\", \"a4_colab_other_descr\": null, \"a4_plan_ped\": \"N\", \"a4_plan_bike\": \"N\", \"a4_plan_atp\": \"N\", \"a4_plan_school_routes\": \"N\", \"a4_row_open_street_demo\": \"No\", \"atp_id_x\": \"ATP5-11-014S\", \"a3_proj_type_x\": \"Infrastructure - Medium\", \"agency_fully_own_r_w\": null, \"require_r_w_easement,_from_gov\": null, \"_require_rw_easement_from_private\": null, \"atp_id_y\": \"ATP5-11-014S\", \"ppno1\": null, \"oversight_id\": \"Standard\", \"a3_proj_type_y\": \"Infrastructure\", \"Total Project Cost\": 5660000.0, \"original_prog__amt___pa_ed_\": null, \"orig__prog__year__pa_ed_\": null, \"original_prog__amt___ps_e_\": null, \"orig__prog__year__ps_e_\": null, \"original_prog__amt___rw_\": null, \"orig__prog__year__rw_\": null, \"orignal_prog__amt___con_\": 4317000.0, \"orig__prog__year__con_\": \"22/23\", \"original_prog__amt___con_ni_\": null, \"orig__prog__year__con_ni_\": null, \"total\": 4317000.0, \"_2122_pa_ed\": null, \"_2122_ps_e\": null, \"_2122_rw\": null, \"_2122_con\": null, \"_2122_con_ni\": null, \"_2122_total\": 0.0, \"fund_year_1\": \"21/22\", \"_2223_pa_ed\": null, \"_2223_ps_e\": null, \"_2223_rw\": null, \"_2223_con\": 4317000.0, \"_2223_con_ni\": null, \"_2223_total\": 4317000.0, \"fund_year_2\": \"22/23\", \"_2324_pa_ed\": null, \"_2324_ps_e\": null, \"_2324_rw\": null, \"_2324_con\": null, \"_2324_con_ni\": null, \"_2324_total\": 0.0, \"fund_year_3\": \"23/24\", \"_2425_pa_ed\": null, \"_2425_ps_e\": null, \"_2425_rw\": null, \"_2425_con\": null, \"_2425_con_ni\": null, \"_2425_total\": 0.0, \"fund_year_4\": \"24/25\", \"Total ATP Funds\": 4317000.0, \"match_total_atp_$_and_total\": \"YES\", \"match_total_atp_$_and_total_atp_x_1000\": \"YES\", \"paed\": 0.0, \"ps_e_\": 0.0, \"rw\": 0.0, \"con\": 4317.0, \"con_ni\": 0.0, \"total_atp__000s_\": 4317.0, \"total_atp_x_1000\": 4317000.0, \"year__pa_ed_\": null, \"year__ps_e_\": null, \"year__rw_\": null, \"year__con_\": \"22/23\", \"year__con_ni_\": null, \"Implemeting Agency Name\": \"San Diego Association of Governments (SANDAG)\"}]}}, {\"mode\": \"vega-lite\"});\n",
       "</script>"
      ],
      "text/plain": [
       "alt.Chart(...)"
      ]
     },
     "metadata": {},
     "output_type": "display_data"
    },
    {
     "data": {
      "text/html": [
       "<h4>Funded Project Information</h4>"
      ],
      "text/plain": [
       "<IPython.core.display.HTML object>"
      ]
     },
     "metadata": {},
     "output_type": "display_data"
    },
    {
     "data": {
      "text/html": [
       "<style type=\"text/css\">\n",
       "#T_17029_ th {\n",
       "  text-align: center;\n",
       "}\n",
       "#T_17029_row0_col0, #T_17029_row0_col1, #T_17029_row0_col2, #T_17029_row0_col3, #T_17029_row0_col4, #T_17029_row1_col0, #T_17029_row1_col1, #T_17029_row1_col2, #T_17029_row1_col3, #T_17029_row1_col4, #T_17029_row2_col0, #T_17029_row2_col1, #T_17029_row2_col2, #T_17029_row2_col3, #T_17029_row2_col4, #T_17029_row3_col0, #T_17029_row3_col1, #T_17029_row3_col2, #T_17029_row3_col3, #T_17029_row3_col4 {\n",
       "  text-align: center;\n",
       "}\n",
       "</style>\n",
       "<table id=\"T_17029_\">\n",
       "  <thead>\n",
       "    <tr>\n",
       "      <th class=\"col_heading level0 col0\" >Implemeting Agency Name</th>\n",
       "      <th class=\"col_heading level0 col1\" >Project Name</th>\n",
       "      <th class=\"col_heading level0 col2\" >County</th>\n",
       "      <th class=\"col_heading level0 col3\" >Total Atp Funds</th>\n",
       "      <th class=\"col_heading level0 col4\" >Total Project Cost</th>\n",
       "    </tr>\n",
       "  </thead>\n",
       "  <tbody>\n",
       "    <tr>\n",
       "      <td id=\"T_17029_row0_col0\" class=\"data row0 col0\" >City of Imperial Beach</td>\n",
       "      <td id=\"T_17029_row0_col1\" class=\"data row0 col1\" >9th St Active Transportation Corridor</td>\n",
       "      <td id=\"T_17029_row0_col2\" class=\"data row0 col2\" >San Diego</td>\n",
       "      <td id=\"T_17029_row0_col3\" class=\"data row0 col3\" >$ 3,018,000.00</td>\n",
       "      <td id=\"T_17029_row0_col4\" class=\"data row0 col4\" >$ 3,354,000.00</td>\n",
       "    </tr>\n",
       "    <tr>\n",
       "      <td id=\"T_17029_row1_col0\" class=\"data row1 col0\" >City of National City</td>\n",
       "      <td id=\"T_17029_row1_col1\" class=\"data row1 col1\" >Highland Avenue Inter-City Bike Connection</td>\n",
       "      <td id=\"T_17029_row1_col2\" class=\"data row1 col2\" >San Diego</td>\n",
       "      <td id=\"T_17029_row1_col3\" class=\"data row1 col3\" >$ 1,343,000.00</td>\n",
       "      <td id=\"T_17029_row1_col4\" class=\"data row1 col4\" >$ 1,897,000.00</td>\n",
       "    </tr>\n",
       "    <tr>\n",
       "      <td id=\"T_17029_row2_col0\" class=\"data row2 col0\" >City of Oceanside</td>\n",
       "      <td id=\"T_17029_row2_col1\" class=\"data row2 col1\" >Laurel Elementary Safe Routes to School</td>\n",
       "      <td id=\"T_17029_row2_col2\" class=\"data row2 col2\" >San Diego</td>\n",
       "      <td id=\"T_17029_row2_col3\" class=\"data row2 col3\" >$ 1,522,000.00</td>\n",
       "      <td id=\"T_17029_row2_col4\" class=\"data row2 col4\" >$ 1,535,000.00</td>\n",
       "    </tr>\n",
       "    <tr>\n",
       "      <td id=\"T_17029_row3_col0\" class=\"data row3 col0\" >San Diego Association of Governments (SANDAG)</td>\n",
       "      <td id=\"T_17029_row3_col1\" class=\"data row3 col1\" >Orange Family Friendly Street Project</td>\n",
       "      <td id=\"T_17029_row3_col2\" class=\"data row3 col2\" >San Diego</td>\n",
       "      <td id=\"T_17029_row3_col3\" class=\"data row3 col3\" >$ 4,317,000.00</td>\n",
       "      <td id=\"T_17029_row3_col4\" class=\"data row3 col4\" >$ 5,660,000.00</td>\n",
       "    </tr>\n",
       "  </tbody>\n",
       "</table>\n"
      ],
      "text/plain": [
       "<IPython.core.display.HTML object>"
      ]
     },
     "metadata": {},
     "output_type": "display_data"
    },
    {
     "data": {
      "text/html": [
       "</br><h4> Success Rates for Agencies in District 11 </h4>"
      ],
      "text/plain": [
       "<IPython.core.display.HTML object>"
      ]
     },
     "metadata": {},
     "output_type": "display_data"
    },
    {
     "data": {
      "text/html": [
       "<style type=\"text/css\">\n",
       "#T_e5cc1_ th {\n",
       "  text-align: center;\n",
       "}\n",
       "#T_e5cc1_row0_col0, #T_e5cc1_row0_col1, #T_e5cc1_row0_col2, #T_e5cc1_row1_col0, #T_e5cc1_row1_col1, #T_e5cc1_row1_col2, #T_e5cc1_row2_col0, #T_e5cc1_row2_col1, #T_e5cc1_row2_col2, #T_e5cc1_row3_col0, #T_e5cc1_row3_col1, #T_e5cc1_row3_col2, #T_e5cc1_row4_col0, #T_e5cc1_row4_col1, #T_e5cc1_row4_col2, #T_e5cc1_row5_col0, #T_e5cc1_row5_col1, #T_e5cc1_row5_col2, #T_e5cc1_row6_col0, #T_e5cc1_row6_col1, #T_e5cc1_row6_col2, #T_e5cc1_row7_col0, #T_e5cc1_row7_col1, #T_e5cc1_row7_col2, #T_e5cc1_row8_col0, #T_e5cc1_row8_col1, #T_e5cc1_row8_col2, #T_e5cc1_row9_col0, #T_e5cc1_row9_col1, #T_e5cc1_row9_col2, #T_e5cc1_row10_col0, #T_e5cc1_row10_col1, #T_e5cc1_row10_col2, #T_e5cc1_row11_col0, #T_e5cc1_row11_col1, #T_e5cc1_row11_col2, #T_e5cc1_row12_col0, #T_e5cc1_row12_col1, #T_e5cc1_row12_col2, #T_e5cc1_row13_col0, #T_e5cc1_row13_col1, #T_e5cc1_row13_col2, #T_e5cc1_row14_col0, #T_e5cc1_row14_col1, #T_e5cc1_row14_col2, #T_e5cc1_row15_col0, #T_e5cc1_row15_col1, #T_e5cc1_row15_col2, #T_e5cc1_row16_col0, #T_e5cc1_row16_col1, #T_e5cc1_row16_col2, #T_e5cc1_row17_col0, #T_e5cc1_row17_col1, #T_e5cc1_row17_col2 {\n",
       "  text-align: center;\n",
       "}\n",
       "</style>\n",
       "<table id=\"T_e5cc1_\">\n",
       "  <thead>\n",
       "    <tr>\n",
       "      <th class=\"col_heading level0 col0\" >Implemeting Agency Name</th>\n",
       "      <th class=\"col_heading level0 col1\" >Total Applications</th>\n",
       "      <th class=\"col_heading level0 col2\" >Success Rate</th>\n",
       "    </tr>\n",
       "  </thead>\n",
       "  <tbody>\n",
       "    <tr>\n",
       "      <td id=\"T_e5cc1_row0_col0\" class=\"data row0 col0\" >City of Imperial Beach</td>\n",
       "      <td id=\"T_e5cc1_row0_col1\" class=\"data row0 col1\" >1</td>\n",
       "      <td id=\"T_e5cc1_row0_col2\" class=\"data row0 col2\" >100.00%</td>\n",
       "    </tr>\n",
       "    <tr>\n",
       "      <td id=\"T_e5cc1_row1_col0\" class=\"data row1 col0\" >City of National City</td>\n",
       "      <td id=\"T_e5cc1_row1_col1\" class=\"data row1 col1\" >3</td>\n",
       "      <td id=\"T_e5cc1_row1_col2\" class=\"data row1 col2\" >33.33%</td>\n",
       "    </tr>\n",
       "    <tr>\n",
       "      <td id=\"T_e5cc1_row2_col0\" class=\"data row2 col0\" >City of Oceanside</td>\n",
       "      <td id=\"T_e5cc1_row2_col1\" class=\"data row2 col1\" >3</td>\n",
       "      <td id=\"T_e5cc1_row2_col2\" class=\"data row2 col2\" >33.33%</td>\n",
       "    </tr>\n",
       "    <tr>\n",
       "      <td id=\"T_e5cc1_row3_col0\" class=\"data row3 col0\" >San Diego Association of Governments (SANDAG)</td>\n",
       "      <td id=\"T_e5cc1_row3_col1\" class=\"data row3 col1\" >4</td>\n",
       "      <td id=\"T_e5cc1_row3_col2\" class=\"data row3 col2\" >25.00%</td>\n",
       "    </tr>\n",
       "    <tr>\n",
       "      <td id=\"T_e5cc1_row4_col0\" class=\"data row4 col0\" >City o El Cajon</td>\n",
       "      <td id=\"T_e5cc1_row4_col1\" class=\"data row4 col1\" >1</td>\n",
       "      <td id=\"T_e5cc1_row4_col2\" class=\"data row4 col2\" >0.00%</td>\n",
       "    </tr>\n",
       "    <tr>\n",
       "      <td id=\"T_e5cc1_row5_col0\" class=\"data row5 col0\" >City of Chula Vista</td>\n",
       "      <td id=\"T_e5cc1_row5_col1\" class=\"data row5 col1\" >2</td>\n",
       "      <td id=\"T_e5cc1_row5_col2\" class=\"data row5 col2\" >0.00%</td>\n",
       "    </tr>\n",
       "    <tr>\n",
       "      <td id=\"T_e5cc1_row6_col0\" class=\"data row6 col0\" >City of Coronado</td>\n",
       "      <td id=\"T_e5cc1_row6_col1\" class=\"data row6 col1\" >1</td>\n",
       "      <td id=\"T_e5cc1_row6_col2\" class=\"data row6 col2\" >0.00%</td>\n",
       "    </tr>\n",
       "    <tr>\n",
       "      <td id=\"T_e5cc1_row7_col0\" class=\"data row7 col0\" >City of El Cajon</td>\n",
       "      <td id=\"T_e5cc1_row7_col1\" class=\"data row7 col1\" >1</td>\n",
       "      <td id=\"T_e5cc1_row7_col2\" class=\"data row7 col2\" >0.00%</td>\n",
       "    </tr>\n",
       "    <tr>\n",
       "      <td id=\"T_e5cc1_row8_col0\" class=\"data row8 col0\" >City of El Centro</td>\n",
       "      <td id=\"T_e5cc1_row8_col1\" class=\"data row8 col1\" >1</td>\n",
       "      <td id=\"T_e5cc1_row8_col2\" class=\"data row8 col2\" >0.00%</td>\n",
       "    </tr>\n",
       "    <tr>\n",
       "      <td id=\"T_e5cc1_row9_col0\" class=\"data row9 col0\" >City of Encinitas</td>\n",
       "      <td id=\"T_e5cc1_row9_col1\" class=\"data row9 col1\" >2</td>\n",
       "      <td id=\"T_e5cc1_row9_col2\" class=\"data row9 col2\" >0.00%</td>\n",
       "    </tr>\n",
       "    <tr>\n",
       "      <td id=\"T_e5cc1_row10_col0\" class=\"data row10 col0\" >City of Escondido</td>\n",
       "      <td id=\"T_e5cc1_row10_col1\" class=\"data row10 col1\" >2</td>\n",
       "      <td id=\"T_e5cc1_row10_col2\" class=\"data row10 col2\" >0.00%</td>\n",
       "    </tr>\n",
       "    <tr>\n",
       "      <td id=\"T_e5cc1_row11_col0\" class=\"data row11 col0\" >City of La Mesa</td>\n",
       "      <td id=\"T_e5cc1_row11_col1\" class=\"data row11 col1\" >1</td>\n",
       "      <td id=\"T_e5cc1_row11_col2\" class=\"data row11 col2\" >0.00%</td>\n",
       "    </tr>\n",
       "    <tr>\n",
       "      <td id=\"T_e5cc1_row12_col0\" class=\"data row12 col0\" >City of Lemon Grove</td>\n",
       "      <td id=\"T_e5cc1_row12_col1\" class=\"data row12 col1\" >1</td>\n",
       "      <td id=\"T_e5cc1_row12_col2\" class=\"data row12 col2\" >0.00%</td>\n",
       "    </tr>\n",
       "    <tr>\n",
       "      <td id=\"T_e5cc1_row13_col0\" class=\"data row13 col0\" >City of San Diego</td>\n",
       "      <td id=\"T_e5cc1_row13_col1\" class=\"data row13 col1\" >5</td>\n",
       "      <td id=\"T_e5cc1_row13_col2\" class=\"data row13 col2\" >0.00%</td>\n",
       "    </tr>\n",
       "    <tr>\n",
       "      <td id=\"T_e5cc1_row14_col0\" class=\"data row14 col0\" >City of Santee</td>\n",
       "      <td id=\"T_e5cc1_row14_col1\" class=\"data row14 col1\" >1</td>\n",
       "      <td id=\"T_e5cc1_row14_col2\" class=\"data row14 col2\" >0.00%</td>\n",
       "    </tr>\n",
       "    <tr>\n",
       "      <td id=\"T_e5cc1_row15_col0\" class=\"data row15 col0\" >City of Solana Beach</td>\n",
       "      <td id=\"T_e5cc1_row15_col1\" class=\"data row15 col1\" >1</td>\n",
       "      <td id=\"T_e5cc1_row15_col2\" class=\"data row15 col2\" >0.00%</td>\n",
       "    </tr>\n",
       "    <tr>\n",
       "      <td id=\"T_e5cc1_row16_col0\" class=\"data row16 col0\" >City of Vista</td>\n",
       "      <td id=\"T_e5cc1_row16_col1\" class=\"data row16 col1\" >2</td>\n",
       "      <td id=\"T_e5cc1_row16_col2\" class=\"data row16 col2\" >0.00%</td>\n",
       "    </tr>\n",
       "    <tr>\n",
       "      <td id=\"T_e5cc1_row17_col0\" class=\"data row17 col0\" >San Diego County</td>\n",
       "      <td id=\"T_e5cc1_row17_col1\" class=\"data row17 col1\" >6</td>\n",
       "      <td id=\"T_e5cc1_row17_col2\" class=\"data row17 col2\" >0.00%</td>\n",
       "    </tr>\n",
       "  </tbody>\n",
       "</table>\n"
      ],
      "text/plain": [
       "<IPython.core.display.HTML object>"
      ]
     },
     "metadata": {},
     "output_type": "display_data"
    }
   ],
   "source": [
    "_report_utils.map_dist_proj(funded, df, 11)"
   ]
  },
  {
   "cell_type": "code",
   "execution_count": null,
   "id": "3f5a79d2-6629-40e5-a85d-50b24859867a",
   "metadata": {},
   "outputs": [],
   "source": []
  },
  {
   "cell_type": "markdown",
   "id": "1e2aa78d-e70d-41e5-82af-eff29e42c5f4",
   "metadata": {},
   "source": [
    "### District 12 - Irvine"
   ]
  },
  {
   "cell_type": "code",
   "execution_count": 46,
   "id": "50682580-01ce-49b2-a662-a4991da6a3e6",
   "metadata": {},
   "outputs": [
    {
     "data": {
      "text/html": [
       "\n",
       "<div id=\"altair-viz-848655a538cf4fc3ae592f48e3da2cf5\"></div>\n",
       "<script type=\"text/javascript\">\n",
       "  var VEGA_DEBUG = (typeof VEGA_DEBUG == \"undefined\") ? {} : VEGA_DEBUG;\n",
       "  (function(spec, embedOpt){\n",
       "    let outputDiv = document.currentScript.previousElementSibling;\n",
       "    if (outputDiv.id !== \"altair-viz-848655a538cf4fc3ae592f48e3da2cf5\") {\n",
       "      outputDiv = document.getElementById(\"altair-viz-848655a538cf4fc3ae592f48e3da2cf5\");\n",
       "    }\n",
       "    const paths = {\n",
       "      \"vega\": \"https://cdn.jsdelivr.net/npm//vega@5?noext\",\n",
       "      \"vega-lib\": \"https://cdn.jsdelivr.net/npm//vega-lib?noext\",\n",
       "      \"vega-lite\": \"https://cdn.jsdelivr.net/npm//vega-lite@4.17.0?noext\",\n",
       "      \"vega-embed\": \"https://cdn.jsdelivr.net/npm//vega-embed@6?noext\",\n",
       "    };\n",
       "\n",
       "    function maybeLoadScript(lib, version) {\n",
       "      var key = `${lib.replace(\"-\", \"\")}_version`;\n",
       "      return (VEGA_DEBUG[key] == version) ?\n",
       "        Promise.resolve(paths[lib]) :\n",
       "        new Promise(function(resolve, reject) {\n",
       "          var s = document.createElement('script');\n",
       "          document.getElementsByTagName(\"head\")[0].appendChild(s);\n",
       "          s.async = true;\n",
       "          s.onload = () => {\n",
       "            VEGA_DEBUG[key] = version;\n",
       "            return resolve(paths[lib]);\n",
       "          };\n",
       "          s.onerror = () => reject(`Error loading script: ${paths[lib]}`);\n",
       "          s.src = paths[lib];\n",
       "        });\n",
       "    }\n",
       "\n",
       "    function showError(err) {\n",
       "      outputDiv.innerHTML = `<div class=\"error\" style=\"color:red;\">${err}</div>`;\n",
       "      throw err;\n",
       "    }\n",
       "\n",
       "    function displayChart(vegaEmbed) {\n",
       "      vegaEmbed(outputDiv, spec, embedOpt)\n",
       "        .catch(err => showError(`Javascript Error: ${err.message}<br>This usually means there's a typo in your chart specification. See the javascript console for the full traceback.`));\n",
       "    }\n",
       "\n",
       "    if(typeof define === \"function\" && define.amd) {\n",
       "      requirejs.config({paths});\n",
       "      require([\"vega-embed\"], displayChart, err => showError(`Error loading script: ${err.message}`));\n",
       "    } else {\n",
       "      maybeLoadScript(\"vega\", \"5\")\n",
       "        .then(() => maybeLoadScript(\"vega-lite\", \"4.17.0\"))\n",
       "        .then(() => maybeLoadScript(\"vega-embed\", \"6\"))\n",
       "        .catch(showError)\n",
       "        .then(() => displayChart(vegaEmbed));\n",
       "    }\n",
       "  })({\"config\": {\"view\": {\"continuousWidth\": 400, \"continuousHeight\": 300}}, \"data\": {\"name\": \"data-d751713988987e9331980363e24189ce\"}, \"mark\": \"bar\", \"encoding\": {\"color\": {\"field\": \"Project Name\", \"legend\": null, \"scale\": {\"range\": [\"#E16B26\", \"#EB9F3C\", \"#f6e7e1\", \"#8CBCCB\", \"#2EA8CE\", \"#136C97\"]}, \"type\": \"nominal\"}, \"tooltip\": [{\"field\": \"Project Name\", \"type\": \"nominal\"}, {\"field\": \"Total ATP Funds\", \"type\": \"quantitative\"}], \"x\": {\"field\": \"Total ATP Funds\", \"type\": \"quantitative\"}, \"y\": {\"field\": \"Implemeting Agency Name\", \"type\": \"nominal\"}}, \"title\": \"Total ATP Funds by Project\", \"$schema\": \"https://vega.github.io/schema/vega-lite/v4.17.0.json\", \"datasets\": {\"data-d751713988987e9331980363e24189ce\": []}}, {\"mode\": \"vega-lite\"});\n",
       "</script>"
      ],
      "text/plain": [
       "alt.Chart(...)"
      ]
     },
     "metadata": {},
     "output_type": "display_data"
    },
    {
     "data": {
      "text/html": [
       "<h4>Funded Project Information</h4>"
      ],
      "text/plain": [
       "<IPython.core.display.HTML object>"
      ]
     },
     "metadata": {},
     "output_type": "display_data"
    },
    {
     "data": {
      "text/html": [
       "<style type=\"text/css\">\n",
       "#T_a1a19_ th {\n",
       "  text-align: center;\n",
       "}\n",
       "</style>\n",
       "<table id=\"T_a1a19_\">\n",
       "  <thead>\n",
       "    <tr>\n",
       "      <th class=\"col_heading level0 col0\" >Implemeting Agency Name</th>\n",
       "      <th class=\"col_heading level0 col1\" >Project Name</th>\n",
       "      <th class=\"col_heading level0 col2\" >County</th>\n",
       "      <th class=\"col_heading level0 col3\" >Total Atp Funds</th>\n",
       "      <th class=\"col_heading level0 col4\" >Total Project Cost</th>\n",
       "    </tr>\n",
       "  </thead>\n",
       "  <tbody>\n",
       "  </tbody>\n",
       "</table>\n"
      ],
      "text/plain": [
       "<IPython.core.display.HTML object>"
      ]
     },
     "metadata": {},
     "output_type": "display_data"
    },
    {
     "data": {
      "text/html": [
       "</br><h4> Success Rates for Agencies in District 12 </h4>"
      ],
      "text/plain": [
       "<IPython.core.display.HTML object>"
      ]
     },
     "metadata": {},
     "output_type": "display_data"
    },
    {
     "data": {
      "text/html": [
       "<style type=\"text/css\">\n",
       "#T_0b5a5_ th {\n",
       "  text-align: center;\n",
       "}\n",
       "#T_0b5a5_row0_col0, #T_0b5a5_row0_col1, #T_0b5a5_row0_col2, #T_0b5a5_row1_col0, #T_0b5a5_row1_col1, #T_0b5a5_row1_col2, #T_0b5a5_row2_col0, #T_0b5a5_row2_col1, #T_0b5a5_row2_col2, #T_0b5a5_row3_col0, #T_0b5a5_row3_col1, #T_0b5a5_row3_col2, #T_0b5a5_row4_col0, #T_0b5a5_row4_col1, #T_0b5a5_row4_col2, #T_0b5a5_row5_col0, #T_0b5a5_row5_col1, #T_0b5a5_row5_col2, #T_0b5a5_row6_col0, #T_0b5a5_row6_col1, #T_0b5a5_row6_col2, #T_0b5a5_row7_col0, #T_0b5a5_row7_col1, #T_0b5a5_row7_col2, #T_0b5a5_row8_col0, #T_0b5a5_row8_col1, #T_0b5a5_row8_col2, #T_0b5a5_row9_col0, #T_0b5a5_row9_col1, #T_0b5a5_row9_col2, #T_0b5a5_row10_col0, #T_0b5a5_row10_col1, #T_0b5a5_row10_col2, #T_0b5a5_row11_col0, #T_0b5a5_row11_col1, #T_0b5a5_row11_col2, #T_0b5a5_row12_col0, #T_0b5a5_row12_col1, #T_0b5a5_row12_col2, #T_0b5a5_row13_col0, #T_0b5a5_row13_col1, #T_0b5a5_row13_col2 {\n",
       "  text-align: center;\n",
       "}\n",
       "</style>\n",
       "<table id=\"T_0b5a5_\">\n",
       "  <thead>\n",
       "    <tr>\n",
       "      <th class=\"col_heading level0 col0\" >Implemeting Agency Name</th>\n",
       "      <th class=\"col_heading level0 col1\" >Total Applications</th>\n",
       "      <th class=\"col_heading level0 col2\" >Success Rate</th>\n",
       "    </tr>\n",
       "  </thead>\n",
       "  <tbody>\n",
       "    <tr>\n",
       "      <td id=\"T_0b5a5_row0_col0\" class=\"data row0 col0\" >City of Anaheim</td>\n",
       "      <td id=\"T_0b5a5_row0_col1\" class=\"data row0 col1\" >1</td>\n",
       "      <td id=\"T_0b5a5_row0_col2\" class=\"data row0 col2\" >0.00%</td>\n",
       "    </tr>\n",
       "    <tr>\n",
       "      <td id=\"T_0b5a5_row1_col0\" class=\"data row1 col0\" >City of Brea</td>\n",
       "      <td id=\"T_0b5a5_row1_col1\" class=\"data row1 col1\" >1</td>\n",
       "      <td id=\"T_0b5a5_row1_col2\" class=\"data row1 col2\" >0.00%</td>\n",
       "    </tr>\n",
       "    <tr>\n",
       "      <td id=\"T_0b5a5_row2_col0\" class=\"data row2 col0\" >City of Buena Park</td>\n",
       "      <td id=\"T_0b5a5_row2_col1\" class=\"data row2 col1\" >1</td>\n",
       "      <td id=\"T_0b5a5_row2_col2\" class=\"data row2 col2\" >0.00%</td>\n",
       "    </tr>\n",
       "    <tr>\n",
       "      <td id=\"T_0b5a5_row3_col0\" class=\"data row3 col0\" >City of Costa Mesa</td>\n",
       "      <td id=\"T_0b5a5_row3_col1\" class=\"data row3 col1\" >1</td>\n",
       "      <td id=\"T_0b5a5_row3_col2\" class=\"data row3 col2\" >0.00%</td>\n",
       "    </tr>\n",
       "    <tr>\n",
       "      <td id=\"T_0b5a5_row4_col0\" class=\"data row4 col0\" >City of Fullerton</td>\n",
       "      <td id=\"T_0b5a5_row4_col1\" class=\"data row4 col1\" >1</td>\n",
       "      <td id=\"T_0b5a5_row4_col2\" class=\"data row4 col2\" >0.00%</td>\n",
       "    </tr>\n",
       "    <tr>\n",
       "      <td id=\"T_0b5a5_row5_col0\" class=\"data row5 col0\" >City of Irvine</td>\n",
       "      <td id=\"T_0b5a5_row5_col1\" class=\"data row5 col1\" >1</td>\n",
       "      <td id=\"T_0b5a5_row5_col2\" class=\"data row5 col2\" >0.00%</td>\n",
       "    </tr>\n",
       "    <tr>\n",
       "      <td id=\"T_0b5a5_row6_col0\" class=\"data row6 col0\" >City of La Habra</td>\n",
       "      <td id=\"T_0b5a5_row6_col1\" class=\"data row6 col1\" >1</td>\n",
       "      <td id=\"T_0b5a5_row6_col2\" class=\"data row6 col2\" >0.00%</td>\n",
       "    </tr>\n",
       "    <tr>\n",
       "      <td id=\"T_0b5a5_row7_col0\" class=\"data row7 col0\" >City of Laguna Hills</td>\n",
       "      <td id=\"T_0b5a5_row7_col1\" class=\"data row7 col1\" >1</td>\n",
       "      <td id=\"T_0b5a5_row7_col2\" class=\"data row7 col2\" >0.00%</td>\n",
       "    </tr>\n",
       "    <tr>\n",
       "      <td id=\"T_0b5a5_row8_col0\" class=\"data row8 col0\" >City of Orange</td>\n",
       "      <td id=\"T_0b5a5_row8_col1\" class=\"data row8 col1\" >1</td>\n",
       "      <td id=\"T_0b5a5_row8_col2\" class=\"data row8 col2\" >0.00%</td>\n",
       "    </tr>\n",
       "    <tr>\n",
       "      <td id=\"T_0b5a5_row9_col0\" class=\"data row9 col0\" >City of Rancho Santa Margarita</td>\n",
       "      <td id=\"T_0b5a5_row9_col1\" class=\"data row9 col1\" >1</td>\n",
       "      <td id=\"T_0b5a5_row9_col2\" class=\"data row9 col2\" >0.00%</td>\n",
       "    </tr>\n",
       "    <tr>\n",
       "      <td id=\"T_0b5a5_row10_col0\" class=\"data row10 col0\" >City of Santa Ana</td>\n",
       "      <td id=\"T_0b5a5_row10_col1\" class=\"data row10 col1\" >21</td>\n",
       "      <td id=\"T_0b5a5_row10_col2\" class=\"data row10 col2\" >0.00%</td>\n",
       "    </tr>\n",
       "    <tr>\n",
       "      <td id=\"T_0b5a5_row11_col0\" class=\"data row11 col0\" >City of Yorba Linda</td>\n",
       "      <td id=\"T_0b5a5_row11_col1\" class=\"data row11 col1\" >2</td>\n",
       "      <td id=\"T_0b5a5_row11_col2\" class=\"data row11 col2\" >0.00%</td>\n",
       "    </tr>\n",
       "    <tr>\n",
       "      <td id=\"T_0b5a5_row12_col0\" class=\"data row12 col0\" >Orange County</td>\n",
       "      <td id=\"T_0b5a5_row12_col1\" class=\"data row12 col1\" >3</td>\n",
       "      <td id=\"T_0b5a5_row12_col2\" class=\"data row12 col2\" >0.00%</td>\n",
       "    </tr>\n",
       "    <tr>\n",
       "      <td id=\"T_0b5a5_row13_col0\" class=\"data row13 col0\" >Orange County Transportation Authority (OCTA)</td>\n",
       "      <td id=\"T_0b5a5_row13_col1\" class=\"data row13 col1\" >1</td>\n",
       "      <td id=\"T_0b5a5_row13_col2\" class=\"data row13 col2\" >0.00%</td>\n",
       "    </tr>\n",
       "  </tbody>\n",
       "</table>\n"
      ],
      "text/plain": [
       "<IPython.core.display.HTML object>"
      ]
     },
     "metadata": {},
     "output_type": "display_data"
    }
   ],
   "source": [
    "_report_utils.map_dist_proj(funded, df, 12)"
   ]
  },
  {
   "cell_type": "code",
   "execution_count": null,
   "id": "e713c9a9-3774-4060-a548-f7278d1ad92f",
   "metadata": {},
   "outputs": [],
   "source": []
  },
  {
   "cell_type": "code",
   "execution_count": null,
   "id": "11214de8-92a1-4dd8-ba16-90449ad1c49f",
   "metadata": {},
   "outputs": [],
   "source": []
  },
  {
   "cell_type": "code",
   "execution_count": null,
   "id": "852d7490-bae8-47fd-9890-b388b75761ac",
   "metadata": {},
   "outputs": [],
   "source": []
  },
  {
   "cell_type": "code",
   "execution_count": null,
   "id": "c95fe977-f0de-4f1a-b89c-452834a9cc29",
   "metadata": {},
   "outputs": [],
   "source": []
  }
 ],
 "metadata": {
  "kernelspec": {
   "display_name": "Python 3 (ipykernel)",
   "language": "python",
   "name": "python3"
  },
  "language_info": {
   "codemirror_mode": {
    "name": "ipython",
    "version": 3
   },
   "file_extension": ".py",
   "mimetype": "text/x-python",
   "name": "python",
   "nbconvert_exporter": "python",
   "pygments_lexer": "ipython3",
   "version": "3.9.13"
  },
  "widgets": {
   "application/vnd.jupyter.widget-state+json": {
    "state": {
     "030d5f6beed84814be6e86831ba508a0": {
      "model_module": "@jupyter-widgets/base",
      "model_module_version": "1.2.0",
      "model_name": "LayoutModel",
      "state": {}
     },
     "0811b53df36946a59b443097cc1514c6": {
      "model_module": "@jupyter-widgets/controls",
      "model_module_version": "1.5.0",
      "model_name": "DescriptionStyleModel",
      "state": {
       "description_width": ""
      }
     },
     "1d0c71bfa06c4e849a2710222f7dbfe1": {
      "model_module": "@jupyter-widgets/controls",
      "model_module_version": "1.5.0",
      "model_name": "HTMLModel",
      "state": {
       "layout": "IPY_MODEL_c6c99ab091f14a498e38089c353ee289",
       "style": "IPY_MODEL_5f3c1e0a240a489ea1154115aa5577d7",
       "value": "Out of 450 Active Transportation Program Project Applications, there are <strong>49 projects</strong> that recieved funding over 1 cycles"
      }
     },
     "205b2034f5034e60bd7d90c8ffa318c8": {
      "model_module": "@jupyter-widgets/controls",
      "model_module_version": "1.5.0",
      "model_name": "DescriptionStyleModel",
      "state": {
       "description_width": ""
      }
     },
     "2571fc6c9d674e2db46ebb50cfa74a72": {
      "model_module": "@jupyter-widgets/controls",
      "model_module_version": "1.5.0",
      "model_name": "HTMLModel",
      "state": {
       "layout": "IPY_MODEL_2da9d9d612ab45a7babfe3436184a328",
       "style": "IPY_MODEL_3f561506077649579888566ce9a2b420",
       "value": "<h2>Quick Stats</h2>"
      }
     },
     "2a25c8748e61450d8c539562e9ba8ea3": {
      "model_module": "@jupyter-widgets/controls",
      "model_module_version": "1.5.0",
      "model_name": "HTMLModel",
      "state": {
       "layout": "IPY_MODEL_ccac1a6f728f425d8d1de4d007cd15a7",
       "style": "IPY_MODEL_a7a5d01e1cbc45808536e1ba06560381",
       "value": "<h3>Mapping Option for All Districts (dropdown)</h3>"
      }
     },
     "2bbc1688095349528fe85530040640e8": {
      "model_module": "@jupyter-widgets/controls",
      "model_module_version": "1.5.0",
      "model_name": "DescriptionStyleModel",
      "state": {
       "description_width": ""
      }
     },
     "2c395103d37845e8be40c7261b770af2": {
      "model_module": "@jupyter-widgets/controls",
      "model_module_version": "1.5.0",
      "model_name": "HTMLModel",
      "state": {
       "layout": "IPY_MODEL_f5c494d20f15438fbaabca402a0ef617",
       "style": "IPY_MODEL_2bbc1688095349528fe85530040640e8",
       "value": "<h3>Number of Applications by County</h3>"
      }
     },
     "2c4b5ce60ad143a08fcf7cb4cfafba81": {
      "model_module": "@jupyter-widgets/base",
      "model_module_version": "1.2.0",
      "model_name": "LayoutModel",
      "state": {}
     },
     "2da9d9d612ab45a7babfe3436184a328": {
      "model_module": "@jupyter-widgets/base",
      "model_module_version": "1.2.0",
      "model_name": "LayoutModel",
      "state": {}
     },
     "323254d828e246c18893e9038802fe45": {
      "model_module": "@jupyter-widgets/controls",
      "model_module_version": "1.5.0",
      "model_name": "HTMLModel",
      "state": {
       "layout": "IPY_MODEL_c6c99ab091f14a498e38089c353ee289",
       "style": "IPY_MODEL_5f3c1e0a240a489ea1154115aa5577d7",
       "value": "Out of 450 Active Transportation Program Project Applications, there are <strong>49 projects</strong> that recieved funding over 1 cycles"
      }
     },
     "32ea35263c484400a33f7211494569a3": {
      "model_module": "@jupyter-widgets/controls",
      "model_module_version": "1.5.0",
      "model_name": "DescriptionStyleModel",
      "state": {
       "description_width": ""
      }
     },
     "3506d78d95a24a32b8b8e032241cfc6b": {
      "model_module": "@jupyter-widgets/base",
      "model_module_version": "1.2.0",
      "model_name": "LayoutModel",
      "state": {}
     },
     "3877f3fc07cf4d769f855ca021073827": {
      "model_module": "@jupyter-widgets/controls",
      "model_module_version": "1.5.0",
      "model_name": "HTMLModel",
      "state": {
       "layout": "IPY_MODEL_b4d52cf1bf4948ce8e86ebc2ca3aa75b",
       "style": "IPY_MODEL_c6d720adf5a84148b497f19a9abda758",
       "value": "<h4> What were the application outcomes in Cycle 5?</h4>"
      }
     },
     "3ab359bf85ad40f6bb74ff8c6070f5c8": {
      "model_module": "@jupyter-widgets/controls",
      "model_module_version": "1.5.0",
      "model_name": "DescriptionStyleModel",
      "state": {
       "description_width": ""
      }
     },
     "3b0a6ff14406476c804135e709e5b4ff": {
      "model_module": "@jupyter-widgets/controls",
      "model_module_version": "1.5.0",
      "model_name": "HTMLModel",
      "state": {
       "layout": "IPY_MODEL_de8d74421ab6426c8beab9979f12e8ee",
       "style": "IPY_MODEL_e805d4577e2c45989a372c33ab3ed132",
       "value": "<h3>Mapping Option for Assembly Districts (or others)</h3>"
      }
     },
     "3df50eb650d946129eee02229aa88c4a": {
      "model_module": "@jupyter-widgets/base",
      "model_module_version": "1.2.0",
      "model_name": "LayoutModel",
      "state": {}
     },
     "3e462e08bed347a1b4304d2489903c4e": {
      "model_module": "@jupyter-widgets/base",
      "model_module_version": "1.2.0",
      "model_name": "LayoutModel",
      "state": {}
     },
     "3f561506077649579888566ce9a2b420": {
      "model_module": "@jupyter-widgets/controls",
      "model_module_version": "1.5.0",
      "model_name": "DescriptionStyleModel",
      "state": {
       "description_width": ""
      }
     },
     "503642e842ce494ab7282b828d1bbf80": {
      "model_module": "@jupyter-widgets/base",
      "model_module_version": "1.2.0",
      "model_name": "LayoutModel",
      "state": {}
     },
     "536e1e4ee6744313bf46ed7c1749d630": {
      "model_module": "@jupyter-widgets/controls",
      "model_module_version": "1.5.0",
      "model_name": "HTMLModel",
      "state": {
       "layout": "IPY_MODEL_3e462e08bed347a1b4304d2489903c4e",
       "style": "IPY_MODEL_205b2034f5034e60bd7d90c8ffa318c8",
       "value": "<style type=\"text/css\">\n#T_0a10b_ th {\n  text-align: center;\n}\n#T_0a10b_row0_col0, #T_0a10b_row1_col0 {\n  text-align: center;\n}\n#T_0a10b_row0_col1, #T_0a10b_row1_col1 {\n  text-align: center;\n  text-align: right;\n}\n</style>\n<table id=\"T_0a10b_\">\n  <thead>\n    <tr>\n      <th class=\"col_heading level0 col0\" >Data Origin</th>\n      <th class=\"col_heading level0 col1\" >Count</th>\n    </tr>\n  </thead>\n  <tbody>\n    <tr>\n      <td id=\"T_0a10b_row0_col0\" class=\"data row0 col0\" >Application</td>\n      <td id=\"T_0a10b_row0_col1\" class=\"data row0 col1\" >401</td>\n    </tr>\n    <tr>\n      <td id=\"T_0a10b_row1_col0\" class=\"data row1 col0\" >Funded</td>\n      <td id=\"T_0a10b_row1_col1\" class=\"data row1 col1\" >49</td>\n    </tr>\n  </tbody>\n</table>\n"
      }
     },
     "5bac997bc5f3485aa3fbc46c55b81324": {
      "model_module": "@jupyter-widgets/controls",
      "model_module_version": "1.5.0",
      "model_name": "DescriptionStyleModel",
      "state": {
       "description_width": ""
      }
     },
     "5f3c1e0a240a489ea1154115aa5577d7": {
      "model_module": "@jupyter-widgets/controls",
      "model_module_version": "1.5.0",
      "model_name": "DescriptionStyleModel",
      "state": {
       "description_width": ""
      }
     },
     "6aa7bfae5c364f3d95517755ce5130c9": {
      "model_module": "@jupyter-widgets/controls",
      "model_module_version": "1.5.0",
      "model_name": "HTMLModel",
      "state": {
       "layout": "IPY_MODEL_ccac1a6f728f425d8d1de4d007cd15a7",
       "style": "IPY_MODEL_a7a5d01e1cbc45808536e1ba06560381",
       "value": "<h3>Mapping Option for All Districts (dropdown)</h3>"
      }
     },
     "739229eef8114bfba80330b20be4f2e9": {
      "model_module": "@jupyter-widgets/controls",
      "model_module_version": "1.5.0",
      "model_name": "DescriptionStyleModel",
      "state": {
       "description_width": ""
      }
     },
     "756502f3cf14477cbe13fc4c819d44ff": {
      "model_module": "@jupyter-widgets/controls",
      "model_module_version": "1.5.0",
      "model_name": "HTMLModel",
      "state": {
       "layout": "IPY_MODEL_de8d74421ab6426c8beab9979f12e8ee",
       "style": "IPY_MODEL_e805d4577e2c45989a372c33ab3ed132",
       "value": "<h3>Mapping Option for Assembly Districts (or others)</h3>"
      }
     },
     "8da648b143c548b5a5971dc709e2da8a": {
      "model_module": "@jupyter-widgets/controls",
      "model_module_version": "1.5.0",
      "model_name": "HTMLModel",
      "state": {
       "layout": "IPY_MODEL_b4d52cf1bf4948ce8e86ebc2ca3aa75b",
       "style": "IPY_MODEL_c6d720adf5a84148b497f19a9abda758",
       "value": "<h4> What were the application outcomes in Cycle 5?</h4>"
      }
     },
     "9b754a16cd5e41e89901935d85200b9b": {
      "model_module": "@jupyter-widgets/base",
      "model_module_version": "1.2.0",
      "model_name": "LayoutModel",
      "state": {}
     },
     "a7a5d01e1cbc45808536e1ba06560381": {
      "model_module": "@jupyter-widgets/controls",
      "model_module_version": "1.5.0",
      "model_name": "DescriptionStyleModel",
      "state": {
       "description_width": ""
      }
     },
     "b4d52cf1bf4948ce8e86ebc2ca3aa75b": {
      "model_module": "@jupyter-widgets/base",
      "model_module_version": "1.2.0",
      "model_name": "LayoutModel",
      "state": {}
     },
     "baa26c99f275435bb07c377b36ebba0a": {
      "model_module": "@jupyter-widgets/controls",
      "model_module_version": "1.5.0",
      "model_name": "DescriptionStyleModel",
      "state": {
       "description_width": ""
      }
     },
     "c6c99ab091f14a498e38089c353ee289": {
      "model_module": "@jupyter-widgets/base",
      "model_module_version": "1.2.0",
      "model_name": "LayoutModel",
      "state": {}
     },
     "c6d720adf5a84148b497f19a9abda758": {
      "model_module": "@jupyter-widgets/controls",
      "model_module_version": "1.5.0",
      "model_name": "DescriptionStyleModel",
      "state": {
       "description_width": ""
      }
     },
     "cacaa9eb32924c5c8b513badb1b303fc": {
      "model_module": "@jupyter-widgets/controls",
      "model_module_version": "1.5.0",
      "model_name": "DescriptionStyleModel",
      "state": {
       "description_width": ""
      }
     },
     "ccac1a6f728f425d8d1de4d007cd15a7": {
      "model_module": "@jupyter-widgets/base",
      "model_module_version": "1.2.0",
      "model_name": "LayoutModel",
      "state": {}
     },
     "ccbd61c6a8134a66a1e143376f02ac31": {
      "model_module": "@jupyter-widgets/base",
      "model_module_version": "1.2.0",
      "model_name": "LayoutModel",
      "state": {}
     },
     "d32dc4fea0fd40c9bcd3c8532639c013": {
      "model_module": "@jupyter-widgets/controls",
      "model_module_version": "1.5.0",
      "model_name": "HTMLModel",
      "state": {
       "layout": "IPY_MODEL_2da9d9d612ab45a7babfe3436184a328",
       "style": "IPY_MODEL_3f561506077649579888566ce9a2b420",
       "value": "<h2>Quick Stats</h2>"
      }
     },
     "de8d74421ab6426c8beab9979f12e8ee": {
      "model_module": "@jupyter-widgets/base",
      "model_module_version": "1.2.0",
      "model_name": "LayoutModel",
      "state": {}
     },
     "e805d4577e2c45989a372c33ab3ed132": {
      "model_module": "@jupyter-widgets/controls",
      "model_module_version": "1.5.0",
      "model_name": "DescriptionStyleModel",
      "state": {
       "description_width": ""
      }
     },
     "edee7f24735f402d8f30dd2938e4e46d": {
      "model_module": "@jupyter-widgets/controls",
      "model_module_version": "1.5.0",
      "model_name": "HTMLModel",
      "state": {
       "layout": "IPY_MODEL_f5c494d20f15438fbaabca402a0ef617",
       "style": "IPY_MODEL_2bbc1688095349528fe85530040640e8",
       "value": "<h3>Number of Applications by County</h3>"
      }
     },
     "f5c494d20f15438fbaabca402a0ef617": {
      "model_module": "@jupyter-widgets/base",
      "model_module_version": "1.2.0",
      "model_name": "LayoutModel",
      "state": {}
     },
     "f5ef56246ba74badb1a79e8aae9d1d96": {
      "model_module": "@jupyter-widgets/controls",
      "model_module_version": "1.5.0",
      "model_name": "HTMLModel",
      "state": {
       "layout": "IPY_MODEL_3e462e08bed347a1b4304d2489903c4e",
       "style": "IPY_MODEL_205b2034f5034e60bd7d90c8ffa318c8",
       "value": "<style type=\"text/css\">\n#T_0a10b_ th {\n  text-align: center;\n}\n#T_0a10b_row0_col0, #T_0a10b_row1_col0 {\n  text-align: center;\n}\n#T_0a10b_row0_col1, #T_0a10b_row1_col1 {\n  text-align: center;\n  text-align: right;\n}\n</style>\n<table id=\"T_0a10b_\">\n  <thead>\n    <tr>\n      <th class=\"col_heading level0 col0\" >Data Origin</th>\n      <th class=\"col_heading level0 col1\" >Count</th>\n    </tr>\n  </thead>\n  <tbody>\n    <tr>\n      <td id=\"T_0a10b_row0_col0\" class=\"data row0 col0\" >Application</td>\n      <td id=\"T_0a10b_row0_col1\" class=\"data row0 col1\" >401</td>\n    </tr>\n    <tr>\n      <td id=\"T_0a10b_row1_col0\" class=\"data row1 col0\" >Funded</td>\n      <td id=\"T_0a10b_row1_col1\" class=\"data row1 col1\" >49</td>\n    </tr>\n  </tbody>\n</table>\n"
      }
     }
    },
    "version_major": 2,
    "version_minor": 0
   }
  }
 },
 "nbformat": 4,
 "nbformat_minor": 5
}
