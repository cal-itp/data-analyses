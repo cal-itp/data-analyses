{
 "cells": [
  {
   "cell_type": "markdown",
   "id": "7b9b7325-7a69-467a-af59-9e5974411587",
   "metadata": {},
   "source": [
    "# Notebook to prep functions for report"
   ]
  },
  {
   "cell_type": "markdown",
   "id": "d8b6c21c-03a2-4a29-a8cd-20e1f5b92978",
   "metadata": {},
   "source": [
    "* Grouped down to the DISTRICT and the CYCLE level"
   ]
  },
  {
   "cell_type": "code",
   "execution_count": 1,
   "id": "dd2992c9-ca98-4774-b599-411ca38f3769",
   "metadata": {},
   "outputs": [
    {
     "name": "stderr",
     "output_type": "stream",
     "text": [
      "/opt/conda/lib/python3.10/site-packages/geopandas/_compat.py:123: UserWarning: The Shapely GEOS version (3.10.3-CAPI-1.16.1) is incompatible with the GEOS version PyGEOS was compiled with (3.10.1-CAPI-1.16.0). Conversions between both will be slow.\n",
      "  warnings.warn(\n"
     ]
    }
   ],
   "source": [
    "import intake\n",
    "import numpy as np\n",
    "import pandas as pd\n",
    "from calitp import to_snakecase\n",
    "from dla_utils import _dla_utils\n",
    "from IPython.display import HTML, Markdown\n",
    "from siuba import *\n",
    "from shared_utils import geography_utils\n",
    "\n",
    "import altair as alt\n",
    "\n",
    "import _data_cleaning\n",
    "import _report_utils"
   ]
  },
  {
   "cell_type": "code",
   "execution_count": 2,
   "id": "aadb0d1f-b2e4-4f7f-9e17-e53124b5c23b",
   "metadata": {},
   "outputs": [],
   "source": [
    "GCS_FILE_PATH = 'gs://calitp-analytics-data/data-analyses/dla/atp/'\n"
   ]
  },
  {
   "cell_type": "code",
   "execution_count": null,
   "id": "022e1341-d471-4eb8-a751-421703754ba3",
   "metadata": {},
   "outputs": [],
   "source": []
  },
  {
   "cell_type": "code",
   "execution_count": 3,
   "id": "fc9f39a9-49f3-4290-9746-419616689511",
   "metadata": {
    "tags": []
   },
   "outputs": [
    {
     "name": "stderr",
     "output_type": "stream",
     "text": [
      "/home/jovyan/data-analyses/dla/atp/_report_utils.py:67: FutureWarning: In a future version, the Index constructor will not infer numeric dtypes when passed object-dtype sequences (matching Series behavior)\n"
     ]
    }
   ],
   "source": [
    "df_all = _report_utils.read_in_joined_data()"
   ]
  },
  {
   "cell_type": "code",
   "execution_count": 4,
   "id": "e3330b9a-3d5b-4628-a869-89dbd9270ed1",
   "metadata": {},
   "outputs": [],
   "source": [
    "pd.set_option(\"display.max_columns\",500)"
   ]
  },
  {
   "cell_type": "code",
   "execution_count": 5,
   "id": "8bb03fd8-92da-405b-86a6-9ab7d0f0a1de",
   "metadata": {
    "tags": [
     "Parameters"
    ]
   },
   "outputs": [],
   "source": [
    "## paramaters cell\n",
    "district = 4"
   ]
  },
  {
   "cell_type": "code",
   "execution_count": 6,
   "id": "9abe7463-f7a0-496a-ab71-c95efad47b42",
   "metadata": {
    "tags": [
     "Parameters"
    ]
   },
   "outputs": [],
   "source": [
    "## parameters cell\n",
    "cycle = 5"
   ]
  },
  {
   "cell_type": "code",
   "execution_count": 7,
   "id": "9b6def9d-0d12-4a85-ae47-161c572f4228",
   "metadata": {},
   "outputs": [],
   "source": [
    "## subset df to just the district\n",
    "df = df_all>>filter(_.a2_ct_dist==district)"
   ]
  },
  {
   "cell_type": "code",
   "execution_count": 8,
   "id": "9982e03e-a05a-480e-8371-54aa9a11f307",
   "metadata": {},
   "outputs": [],
   "source": [
    "#df = df_all.copy()"
   ]
  },
  {
   "cell_type": "code",
   "execution_count": 9,
   "id": "310748ca-50e6-46ff-bd96-34a77104a359",
   "metadata": {},
   "outputs": [],
   "source": [
    "df = df>>filter(_.project_cycle==cycle)"
   ]
  },
  {
   "cell_type": "code",
   "execution_count": 10,
   "id": "e7e5d379-8270-4357-8a5c-e2336612edbd",
   "metadata": {},
   "outputs": [],
   "source": [
    "# #check where everything is mapped\n",
    "# df = df_all.copy()"
   ]
  },
  {
   "cell_type": "code",
   "execution_count": 11,
   "id": "2e330a16-7021-4078-8e80-878cf127a051",
   "metadata": {},
   "outputs": [
    {
     "data": {
      "text/html": [
       "<h2>Quick Stats</h2>"
      ],
      "text/plain": [
       "<IPython.core.display.HTML object>"
      ]
     },
     "metadata": {},
     "output_type": "display_data"
    },
    {
     "data": {
      "text/html": [
       "Out of 65 Active Transportation Program Project Applications, there are <strong>5 projects</strong> that recieved funding over 1 cycles"
      ],
      "text/plain": [
       "<IPython.core.display.HTML object>"
      ]
     },
     "metadata": {},
     "output_type": "display_data"
    }
   ],
   "source": [
    "display(HTML(\"<h2>Quick Stats</h2>\"))\n",
    "\n",
    "display(HTML(f\"Out of {len(df)} Active Transportation Program Project Applications, \"\n",
    "            f\"there are <strong>{(df>>filter(_.awarded=='Y')).project_app_id.nunique()} \"\n",
    "            f\"projects</strong> that recieved funding over \"\n",
    "            f\"{df.project_cycle.nunique()} cycles\"))\n"
   ]
  },
  {
   "cell_type": "code",
   "execution_count": 144,
   "id": "278cf7b5-6898-4725-91e4-0bb87cb994a8",
   "metadata": {
    "tags": []
   },
   "outputs": [
    {
     "data": {
      "text/html": [
       "<h3> What were the application outcomes for District 4 in Cycle 5?</h3>"
      ],
      "text/plain": [
       "<IPython.core.display.HTML object>"
      ]
     },
     "metadata": {},
     "output_type": "display_data"
    },
    {
     "data": {
      "text/html": [
       "<style type=\"text/css\">\n",
       "#T_57d53 th {\n",
       "  text-align: center;\n",
       "}\n",
       "#T_57d53_row0_col0, #T_57d53_row1_col0 {\n",
       "  text-align: center;\n",
       "}\n",
       "#T_57d53_row0_col1, #T_57d53_row1_col1 {\n",
       "  text-align: center;\n",
       "  text-align: right;\n",
       "}\n",
       "</style>\n",
       "<table id=\"T_57d53\">\n",
       "  <thead>\n",
       "    <tr>\n",
       "      <th id=\"T_57d53_level0_col0\" class=\"col_heading level0 col0\" >Data Origin</th>\n",
       "      <th id=\"T_57d53_level0_col1\" class=\"col_heading level0 col1\" >Count</th>\n",
       "    </tr>\n",
       "  </thead>\n",
       "  <tbody>\n",
       "    <tr>\n",
       "      <td id=\"T_57d53_row0_col0\" class=\"data row0 col0\" >Application</td>\n",
       "      <td id=\"T_57d53_row0_col1\" class=\"data row0 col1\" >60</td>\n",
       "    </tr>\n",
       "    <tr>\n",
       "      <td id=\"T_57d53_row1_col0\" class=\"data row1 col0\" >Funded</td>\n",
       "      <td id=\"T_57d53_row1_col1\" class=\"data row1 col1\" >5</td>\n",
       "    </tr>\n",
       "  </tbody>\n",
       "</table>\n"
      ],
      "text/plain": [
       "<IPython.core.display.HTML object>"
      ]
     },
     "metadata": {},
     "output_type": "display_data"
    }
   ],
   "source": [
    "display(HTML(f\"<h3> What were the application outcomes \"\n",
    "             f\"for District {district} \"\n",
    "             f\"in Cycle {cycle}?</h3>\"))\n",
    "display(HTML(_dla_utils.pretify_tables((df>>count(_.data_origin)))))"
   ]
  },
  {
   "cell_type": "code",
   "execution_count": 13,
   "id": "e7e90a9f-f276-4c6e-b581-10479e7a2554",
   "metadata": {},
   "outputs": [],
   "source": [
    "quick_view = df>>filter(_.awarded==\"Y\")>>select(_.data_origin, _.a1_imp_agcy_name, _.a2_info_proj_name, \n",
    "                                   _.a2_county, _.total_project_cost)"
   ]
  },
  {
   "cell_type": "code",
   "execution_count": 14,
   "id": "39e7659f-0d2f-4a5c-982f-520694bd7a64",
   "metadata": {},
   "outputs": [],
   "source": [
    "quick_view['total_project_cost'] = quick_view['total_project_cost'].map('$ {:0,.2f}'.format)"
   ]
  },
  {
   "cell_type": "code",
   "execution_count": 142,
   "id": "0751bcff-b682-416e-8d64-5dec80f47a99",
   "metadata": {},
   "outputs": [
    {
     "data": {
      "text/html": [
       "<h4> Funded Projects </h4>"
      ],
      "text/plain": [
       "<IPython.core.display.HTML object>"
      ]
     },
     "metadata": {},
     "output_type": "display_data"
    },
    {
     "data": {
      "text/html": [
       "<style type=\"text/css\">\n",
       "#T_2eff0 th {\n",
       "  text-align: center;\n",
       "}\n",
       "#T_2eff0_row0_col0, #T_2eff0_row0_col1, #T_2eff0_row0_col2, #T_2eff0_row0_col3, #T_2eff0_row0_col4, #T_2eff0_row1_col0, #T_2eff0_row1_col1, #T_2eff0_row1_col2, #T_2eff0_row1_col3, #T_2eff0_row1_col4, #T_2eff0_row2_col0, #T_2eff0_row2_col1, #T_2eff0_row2_col2, #T_2eff0_row2_col3, #T_2eff0_row2_col4, #T_2eff0_row3_col0, #T_2eff0_row3_col1, #T_2eff0_row3_col2, #T_2eff0_row3_col3, #T_2eff0_row3_col4, #T_2eff0_row4_col0, #T_2eff0_row4_col1, #T_2eff0_row4_col2, #T_2eff0_row4_col3, #T_2eff0_row4_col4 {\n",
       "  text-align: center;\n",
       "}\n",
       "</style>\n",
       "<table id=\"T_2eff0\">\n",
       "  <thead>\n",
       "    <tr>\n",
       "      <th id=\"T_2eff0_level0_col0\" class=\"col_heading level0 col0\" >Data Origin</th>\n",
       "      <th id=\"T_2eff0_level0_col1\" class=\"col_heading level0 col1\" >A1 Imp Agcy Name</th>\n",
       "      <th id=\"T_2eff0_level0_col2\" class=\"col_heading level0 col2\" >A2 Info Proj Name</th>\n",
       "      <th id=\"T_2eff0_level0_col3\" class=\"col_heading level0 col3\" >A2 County</th>\n",
       "      <th id=\"T_2eff0_level0_col4\" class=\"col_heading level0 col4\" >Total Project Cost</th>\n",
       "    </tr>\n",
       "  </thead>\n",
       "  <tbody>\n",
       "    <tr>\n",
       "      <td id=\"T_2eff0_row0_col0\" class=\"data row0 col0\" >Funded</td>\n",
       "      <td id=\"T_2eff0_row0_col1\" class=\"data row0 col1\" >Oakland, City of</td>\n",
       "      <td id=\"T_2eff0_row0_col2\" class=\"data row0 col2\" >7th Street Connection Project</td>\n",
       "      <td id=\"T_2eff0_row0_col3\" class=\"data row0 col3\" >Alameda</td>\n",
       "      <td id=\"T_2eff0_row0_col4\" class=\"data row0 col4\" >$ 21,037,000.00</td>\n",
       "    </tr>\n",
       "    <tr>\n",
       "      <td id=\"T_2eff0_row1_col0\" class=\"data row1 col0\" >Funded</td>\n",
       "      <td id=\"T_2eff0_row1_col1\" class=\"data row1 col1\" >Santa Clara County</td>\n",
       "      <td id=\"T_2eff0_row1_col2\" class=\"data row1 col2\" >Active and Safe Routes to a Healthier City </td>\n",
       "      <td id=\"T_2eff0_row1_col3\" class=\"data row1 col3\" >Santa Clara</td>\n",
       "      <td id=\"T_2eff0_row1_col4\" class=\"data row1 col4\" >$ 2,510,000.00</td>\n",
       "    </tr>\n",
       "    <tr>\n",
       "      <td id=\"T_2eff0_row2_col0\" class=\"data row2 col0\" >Funded</td>\n",
       "      <td id=\"T_2eff0_row2_col1\" class=\"data row2 col1\" >Oakland, City of</td>\n",
       "      <td id=\"T_2eff0_row2_col2\" class=\"data row2 col2\" >East Oakland Neighborhood Bike Routes</td>\n",
       "      <td id=\"T_2eff0_row2_col3\" class=\"data row2 col3\" >Alameda</td>\n",
       "      <td id=\"T_2eff0_row2_col4\" class=\"data row2 col4\" >$ 21,859,000.00</td>\n",
       "    </tr>\n",
       "    <tr>\n",
       "      <td id=\"T_2eff0_row3_col0\" class=\"data row3 col0\" >Funded</td>\n",
       "      <td id=\"T_2eff0_row3_col1\" class=\"data row3 col1\" >Contra Costa County</td>\n",
       "      <td id=\"T_2eff0_row3_col2\" class=\"data row3 col2\" >North Bailey Road Active Transportation Corridor</td>\n",
       "      <td id=\"T_2eff0_row3_col3\" class=\"data row3 col3\" >Contra Costa</td>\n",
       "      <td id=\"T_2eff0_row3_col4\" class=\"data row3 col4\" >$ 6,845,000.00</td>\n",
       "    </tr>\n",
       "    <tr>\n",
       "      <td id=\"T_2eff0_row4_col0\" class=\"data row4 col0\" >Funded</td>\n",
       "      <td id=\"T_2eff0_row4_col1\" class=\"data row4 col1\" >Fairfield, City of</td>\n",
       "      <td id=\"T_2eff0_row4_col2\" class=\"data row4 col2\" >West Texas Street Complete Streets Project</td>\n",
       "      <td id=\"T_2eff0_row4_col3\" class=\"data row4 col3\" >Solano</td>\n",
       "      <td id=\"T_2eff0_row4_col4\" class=\"data row4 col4\" >$ 16,922,000.00</td>\n",
       "    </tr>\n",
       "  </tbody>\n",
       "</table>\n"
      ],
      "text/plain": [
       "<IPython.core.display.HTML object>"
      ]
     },
     "metadata": {},
     "output_type": "display_data"
    }
   ],
   "source": [
    "display(HTML(\"<h3> Funded Projects </h3>\"))\n",
    "display(HTML(_dla_utils.pretify_tables(quick_view)))"
   ]
  },
  {
   "cell_type": "code",
   "execution_count": null,
   "id": "1e192585-e2df-4b54-b045-59cb2ff834d9",
   "metadata": {},
   "outputs": [],
   "source": []
  },
  {
   "cell_type": "code",
   "execution_count": null,
   "id": "d2399d63-4f75-4a3e-9a22-a29fcf216a29",
   "metadata": {},
   "outputs": [],
   "source": []
  },
  {
   "cell_type": "code",
   "execution_count": 140,
   "id": "29244e0c-e1d5-4cfe-b3b6-95b8420f5b77",
   "metadata": {},
   "outputs": [],
   "source": [
    "#df>>group_by(_.awarded)>>count(_.a2_county)>>arrange(_.a2_county)"
   ]
  },
  {
   "cell_type": "code",
   "execution_count": null,
   "id": "baf9a66a-109f-44c4-9583-92d4bb4186c0",
   "metadata": {},
   "outputs": [],
   "source": []
  },
  {
   "cell_type": "code",
   "execution_count": null,
   "id": "9bb78cb1-f4ea-4e7a-b5a7-7d1bd08c8463",
   "metadata": {},
   "outputs": [],
   "source": []
  },
  {
   "cell_type": "markdown",
   "id": "7a6508a3-a4ee-4d79-8358-cdf215d7892f",
   "metadata": {},
   "source": [
    "## Mapping"
   ]
  },
  {
   "cell_type": "code",
   "execution_count": 18,
   "id": "a90cee47-ffaf-4c05-9a90-f937a43f8290",
   "metadata": {},
   "outputs": [],
   "source": [
    "df_map= (df >>select(_.awarded, _.project_app_id, _.project_cycle, _.data_origin, _.geometry,\n",
    "               _.a1_imp_agcy_city, _.a1_imp_agcy_name, _.a1_proj_partner_agcy, \n",
    "               _.assembly_district, _.congressional_district, _.senate_district,\n",
    "              _.a2_county, _.a2_info_proj_descr, _.a2_info_proj_loc, _.a2_info_proj_name,\n",
    "               _.a2_mop_uza_population, _.a2_mpo, _.a1_imp_agcy_street, _.a3_proj_type, \n",
    "               _.a3_proj_type, _['total_atp_$'], _.a2_proj_lat, _.a2_proj_long))"
   ]
  },
  {
   "cell_type": "code",
   "execution_count": 19,
   "id": "4b221505-56c8-486e-812a-9a63761c3cf9",
   "metadata": {},
   "outputs": [],
   "source": [
    "df_map = df_map>>filter(_.project_cycle==5)"
   ]
  },
  {
   "cell_type": "code",
   "execution_count": 149,
   "id": "82203757-7e56-486f-8d76-cd033d224201",
   "metadata": {
    "scrolled": true,
    "tags": []
   },
   "outputs": [],
   "source": [
    "#df_map>>filter(_.geometry.isnull())"
   ]
  },
  {
   "cell_type": "code",
   "execution_count": 21,
   "id": "9f97b861-93fe-406f-9563-11bf9d2778c8",
   "metadata": {},
   "outputs": [],
   "source": [
    "## reapply geometry col for lat long\n",
    "df_map = (geography_utils.create_point_geometry(df_map, longitude_col = 'a2_proj_long', latitude_col = 'a2_proj_lat'))"
   ]
  },
  {
   "cell_type": "markdown",
   "id": "4469e95f-b7f3-491d-a327-37376c65ee33",
   "metadata": {},
   "source": [
    "### ~~ISSUE~~ -- SOLVED WITH A QUICK FIX\n",
    "* funded data lost mapping data from geometry column"
   ]
  },
  {
   "cell_type": "code",
   "execution_count": 145,
   "id": "85a2f247-0bcf-469b-91c3-bdc45fb0e9d9",
   "metadata": {},
   "outputs": [],
   "source": [
    "## map before corrections\n",
    "#df_map.explore(\"a2_county\", cmap=\"Blues\")  "
   ]
  },
  {
   "cell_type": "code",
   "execution_count": 24,
   "id": "8788511a-da15-4976-a809-15f72b6a993b",
   "metadata": {},
   "outputs": [],
   "source": [
    "# issue getting some lat longs in wrong country"
   ]
  },
  {
   "cell_type": "code",
   "execution_count": null,
   "id": "b80c09a5-e0ad-4612-b601-70003a116bd4",
   "metadata": {},
   "outputs": [],
   "source": []
  },
  {
   "cell_type": "markdown",
   "id": "ae829d35-27b2-43c2-89a9-8473e67b61ea",
   "metadata": {},
   "source": [
    "###  ~~ISSUE: Some Project Longs are wrong~~ - SOLVED WITH A QUICK FIX"
   ]
  },
  {
   "cell_type": "code",
   "execution_count": null,
   "id": "3e65e4eb-e3a1-473c-aae2-b698a878c32e",
   "metadata": {
    "tags": []
   },
   "outputs": [],
   "source": []
  },
  {
   "cell_type": "code",
   "execution_count": 28,
   "id": "ebdbd964-c0ff-4846-8401-4261934c6f91",
   "metadata": {},
   "outputs": [],
   "source": [
    "df_map_correct = (df_map>>filter(_.a2_proj_long<0))"
   ]
  },
  {
   "cell_type": "code",
   "execution_count": 29,
   "id": "7ddebd34-c3ad-48c6-89d6-94c23fb6cf70",
   "metadata": {},
   "outputs": [],
   "source": [
    "df_map_incorrect = (df_map>>filter(_.a2_proj_long>0))"
   ]
  },
  {
   "cell_type": "code",
   "execution_count": 30,
   "id": "ceb09e04-c33a-4a7a-9123-e84d189f4168",
   "metadata": {},
   "outputs": [
    {
     "name": "stderr",
     "output_type": "stream",
     "text": [
      "/opt/conda/lib/python3.10/site-packages/geopandas/geodataframe.py:1443: SettingWithCopyWarning: \n",
      "A value is trying to be set on a copy of a slice from a DataFrame.\n",
      "Try using .loc[row_indexer,col_indexer] = value instead\n",
      "\n",
      "See the caveats in the documentation: https://pandas.pydata.org/pandas-docs/stable/user_guide/indexing.html#returning-a-view-versus-a-copy\n"
     ]
    }
   ],
   "source": [
    "df_map_incorrect['a2_proj_long'] = df_map_incorrect['a2_proj_long'] * (-1)"
   ]
  },
  {
   "cell_type": "code",
   "execution_count": 31,
   "id": "31b106a5-a763-4127-af79-ad58598e5921",
   "metadata": {},
   "outputs": [],
   "source": [
    "df_map_corrected = (geography_utils.create_point_geometry(df_map_incorrect, longitude_col = 'a2_proj_long', latitude_col = 'a2_proj_lat'))"
   ]
  },
  {
   "cell_type": "code",
   "execution_count": 32,
   "id": "be63f0e9-fe02-4727-b7c0-53d1aaad86e2",
   "metadata": {},
   "outputs": [],
   "source": [
    "df_map2 = (pd.concat([df_map_corrected, df_map_correct]))"
   ]
  },
  {
   "cell_type": "code",
   "execution_count": 146,
   "id": "f64c7ca7-cc88-4e52-9cb5-4b7dda8ca769",
   "metadata": {},
   "outputs": [],
   "source": [
    "#check ## commenting out for now\n",
    "#df_map2.explore(\"project_cycle\", cmap=\"Blues\")  "
   ]
  },
  {
   "cell_type": "code",
   "execution_count": 147,
   "id": "01854e3e-8b71-4f4a-9f55-fa2b3cb35e2d",
   "metadata": {},
   "outputs": [],
   "source": [
    "df_map3 = df_map2>>filter(_.a2_proj_lat<300)"
   ]
  },
  {
   "cell_type": "code",
   "execution_count": 155,
   "id": "bc48f177-5a48-4543-b27d-5948256faf94",
   "metadata": {},
   "outputs": [
    {
     "data": {
      "text/html": [
       "<div style=\"width:100%;\"><div style=\"position:relative;width:100%;height:0;padding-bottom:60%;\"><span style=\"color:#565656\">Make this Notebook Trusted to load map: File -> Trust Notebook</span><iframe src=\"about:blank\" style=\"position:absolute;width:100%;height:100%;left:0;top:0;border:none !important;\" data-html=%3C%21DOCTYPE%20html%3E%0A%3Chead%3E%20%20%20%20%0A%20%20%20%20%3Cmeta%20http-equiv%3D%22content-type%22%20content%3D%22text/html%3B%20charset%3DUTF-8%22%20/%3E%0A%20%20%20%20%0A%20%20%20%20%20%20%20%20%3Cscript%3E%0A%20%20%20%20%20%20%20%20%20%20%20%20L_NO_TOUCH%20%3D%20false%3B%0A%20%20%20%20%20%20%20%20%20%20%20%20L_DISABLE_3D%20%3D%20false%3B%0A%20%20%20%20%20%20%20%20%3C/script%3E%0A%20%20%20%20%0A%20%20%20%20%3Cstyle%3Ehtml%2C%20body%20%7Bwidth%3A%20100%25%3Bheight%3A%20100%25%3Bmargin%3A%200%3Bpadding%3A%200%3B%7D%3C/style%3E%0A%20%20%20%20%3Cstyle%3E%23map%20%7Bposition%3Aabsolute%3Btop%3A0%3Bbottom%3A0%3Bright%3A0%3Bleft%3A0%3B%7D%3C/style%3E%0A%20%20%20%20%3Cscript%20src%3D%22https%3A//cdn.jsdelivr.net/npm/leaflet%401.6.0/dist/leaflet.js%22%3E%3C/script%3E%0A%20%20%20%20%3Cscript%20src%3D%22https%3A//code.jquery.com/jquery-1.12.4.min.js%22%3E%3C/script%3E%0A%20%20%20%20%3Cscript%20src%3D%22https%3A//maxcdn.bootstrapcdn.com/bootstrap/3.2.0/js/bootstrap.min.js%22%3E%3C/script%3E%0A%20%20%20%20%3Cscript%20src%3D%22https%3A//cdnjs.cloudflare.com/ajax/libs/Leaflet.awesome-markers/2.0.2/leaflet.awesome-markers.js%22%3E%3C/script%3E%0A%20%20%20%20%3Clink%20rel%3D%22stylesheet%22%20href%3D%22https%3A//cdn.jsdelivr.net/npm/leaflet%401.6.0/dist/leaflet.css%22/%3E%0A%20%20%20%20%3Clink%20rel%3D%22stylesheet%22%20href%3D%22https%3A//maxcdn.bootstrapcdn.com/bootstrap/3.2.0/css/bootstrap.min.css%22/%3E%0A%20%20%20%20%3Clink%20rel%3D%22stylesheet%22%20href%3D%22https%3A//maxcdn.bootstrapcdn.com/bootstrap/3.2.0/css/bootstrap-theme.min.css%22/%3E%0A%20%20%20%20%3Clink%20rel%3D%22stylesheet%22%20href%3D%22https%3A//maxcdn.bootstrapcdn.com/font-awesome/4.6.3/css/font-awesome.min.css%22/%3E%0A%20%20%20%20%3Clink%20rel%3D%22stylesheet%22%20href%3D%22https%3A//cdnjs.cloudflare.com/ajax/libs/Leaflet.awesome-markers/2.0.2/leaflet.awesome-markers.css%22/%3E%0A%20%20%20%20%3Clink%20rel%3D%22stylesheet%22%20href%3D%22https%3A//cdn.jsdelivr.net/gh/python-visualization/folium/folium/templates/leaflet.awesome.rotate.min.css%22/%3E%0A%20%20%20%20%0A%20%20%20%20%20%20%20%20%20%20%20%20%3Cmeta%20name%3D%22viewport%22%20content%3D%22width%3Ddevice-width%2C%0A%20%20%20%20%20%20%20%20%20%20%20%20%20%20%20%20initial-scale%3D1.0%2C%20maximum-scale%3D1.0%2C%20user-scalable%3Dno%22%20/%3E%0A%20%20%20%20%20%20%20%20%20%20%20%20%3Cstyle%3E%0A%20%20%20%20%20%20%20%20%20%20%20%20%20%20%20%20%23map_6585b8be5fe841d6898810b8af05f640%20%7B%0A%20%20%20%20%20%20%20%20%20%20%20%20%20%20%20%20%20%20%20%20position%3A%20relative%3B%0A%20%20%20%20%20%20%20%20%20%20%20%20%20%20%20%20%20%20%20%20width%3A%20100.0%25%3B%0A%20%20%20%20%20%20%20%20%20%20%20%20%20%20%20%20%20%20%20%20height%3A%20100.0%25%3B%0A%20%20%20%20%20%20%20%20%20%20%20%20%20%20%20%20%20%20%20%20left%3A%200.0%25%3B%0A%20%20%20%20%20%20%20%20%20%20%20%20%20%20%20%20%20%20%20%20top%3A%200.0%25%3B%0A%20%20%20%20%20%20%20%20%20%20%20%20%20%20%20%20%7D%0A%20%20%20%20%20%20%20%20%20%20%20%20%3C/style%3E%0A%20%20%20%20%20%20%20%20%0A%20%20%20%20%0A%20%20%20%20%20%20%20%20%20%20%20%20%20%20%20%20%20%20%20%20%3Cstyle%3E%0A%20%20%20%20%20%20%20%20%20%20%20%20%20%20%20%20%20%20%20%20%20%20%20%20.foliumtooltip%20%7B%0A%20%20%20%20%20%20%20%20%20%20%20%20%20%20%20%20%20%20%20%20%20%20%20%20%20%20%20%20%0A%20%20%20%20%20%20%20%20%20%20%20%20%20%20%20%20%20%20%20%20%20%20%20%20%7D%0A%20%20%20%20%20%20%20%20%20%20%20%20%20%20%20%20%20%20%20%20%20%20%20.foliumtooltip%20table%7B%0A%20%20%20%20%20%20%20%20%20%20%20%20%20%20%20%20%20%20%20%20%20%20%20%20%20%20%20%20margin%3A%20auto%3B%0A%20%20%20%20%20%20%20%20%20%20%20%20%20%20%20%20%20%20%20%20%20%20%20%20%7D%0A%20%20%20%20%20%20%20%20%20%20%20%20%20%20%20%20%20%20%20%20%20%20%20%20.foliumtooltip%20tr%7B%0A%20%20%20%20%20%20%20%20%20%20%20%20%20%20%20%20%20%20%20%20%20%20%20%20%20%20%20%20text-align%3A%20left%3B%0A%20%20%20%20%20%20%20%20%20%20%20%20%20%20%20%20%20%20%20%20%20%20%20%20%7D%0A%20%20%20%20%20%20%20%20%20%20%20%20%20%20%20%20%20%20%20%20%20%20%20%20.foliumtooltip%20th%7B%0A%20%20%20%20%20%20%20%20%20%20%20%20%20%20%20%20%20%20%20%20%20%20%20%20%20%20%20%20padding%3A%202px%3B%20padding-right%3A%208px%3B%0A%20%20%20%20%20%20%20%20%20%20%20%20%20%20%20%20%20%20%20%20%20%20%20%20%7D%0A%20%20%20%20%20%20%20%20%20%20%20%20%20%20%20%20%20%20%20%20%3C/style%3E%0A%20%20%20%20%20%20%20%20%20%20%20%20%0A%20%20%20%20%0A%20%20%20%20%3Cscript%20src%3D%22https%3A//code.jquery.com/ui/1.12.1/jquery-ui.js%22%3E%3C/script%3E%0A%20%20%20%20%3Cscript%3E%24%28%20function%28%29%20%7B%0A%20%20%20%20%20%20%20%20%24%28%20%22.maplegend%22%20%29.draggable%28%7B%0A%20%20%20%20%20%20%20%20%20%20%20%20start%3A%20function%20%28event%2C%20ui%29%20%7B%0A%20%20%20%20%20%20%20%20%20%20%20%20%20%20%20%20%24%28this%29.css%28%7B%0A%20%20%20%20%20%20%20%20%20%20%20%20%20%20%20%20%20%20%20%20right%3A%20%22auto%22%2C%0A%20%20%20%20%20%20%20%20%20%20%20%20%20%20%20%20%20%20%20%20top%3A%20%22auto%22%2C%0A%20%20%20%20%20%20%20%20%20%20%20%20%20%20%20%20%20%20%20%20bottom%3A%20%22auto%22%0A%20%20%20%20%20%20%20%20%20%20%20%20%20%20%20%20%7D%29%3B%0A%20%20%20%20%20%20%20%20%20%20%20%20%7D%0A%20%20%20%20%20%20%20%20%7D%29%3B%0A%20%20%20%20%7D%29%3B%0A%20%20%20%20%3C/script%3E%0A%20%20%20%20%3Cstyle%20type%3D%27text/css%27%3E%0A%20%20%20%20%20%20.maplegend%20%7B%0A%20%20%20%20%20%20%20%20position%3A%20absolute%3B%0A%20%20%20%20%20%20%20%20z-index%3A9999%3B%0A%20%20%20%20%20%20%20%20background-color%3A%20rgba%28255%2C%20255%2C%20255%2C%20.8%29%3B%0A%20%20%20%20%20%20%20%20border-radius%3A%205px%3B%0A%20%20%20%20%20%20%20%20box-shadow%3A%200%200%2015px%20rgba%280%2C0%2C0%2C0.2%29%3B%0A%20%20%20%20%20%20%20%20padding%3A%2010px%3B%0A%20%20%20%20%20%20%20%20font%3A%2012px/14px%20Arial%2C%20Helvetica%2C%20sans-serif%3B%0A%20%20%20%20%20%20%20%20right%3A%2010px%3B%0A%20%20%20%20%20%20%20%20bottom%3A%2020px%3B%0A%20%20%20%20%20%20%7D%0A%20%20%20%20%20%20.maplegend%20.legend-title%20%7B%0A%20%20%20%20%20%20%20%20text-align%3A%20left%3B%0A%20%20%20%20%20%20%20%20margin-bottom%3A%205px%3B%0A%20%20%20%20%20%20%20%20font-weight%3A%20bold%3B%0A%20%20%20%20%20%20%20%20%7D%0A%20%20%20%20%20%20.maplegend%20.legend-scale%20ul%20%7B%0A%20%20%20%20%20%20%20%20margin%3A%200%3B%0A%20%20%20%20%20%20%20%20margin-bottom%3A%200px%3B%0A%20%20%20%20%20%20%20%20padding%3A%200%3B%0A%20%20%20%20%20%20%20%20float%3A%20left%3B%0A%20%20%20%20%20%20%20%20list-style%3A%20none%3B%0A%20%20%20%20%20%20%20%20%7D%0A%20%20%20%20%20%20.maplegend%20.legend-scale%20ul%20li%20%7B%0A%20%20%20%20%20%20%20%20list-style%3A%20none%3B%0A%20%20%20%20%20%20%20%20margin-left%3A%200%3B%0A%20%20%20%20%20%20%20%20line-height%3A%2016px%3B%0A%20%20%20%20%20%20%20%20margin-bottom%3A%202px%3B%0A%20%20%20%20%20%20%20%20%7D%0A%20%20%20%20%20%20.maplegend%20ul.legend-labels%20li%20span%20%7B%0A%20%20%20%20%20%20%20%20display%3A%20block%3B%0A%20%20%20%20%20%20%20%20float%3A%20left%3B%0A%20%20%20%20%20%20%20%20height%3A%2014px%3B%0A%20%20%20%20%20%20%20%20width%3A%2014px%3B%0A%20%20%20%20%20%20%20%20margin-right%3A%205px%3B%0A%20%20%20%20%20%20%20%20margin-left%3A%200%3B%0A%20%20%20%20%20%20%20%20border%3A%200px%20solid%20%23ccc%3B%0A%20%20%20%20%20%20%20%20%7D%0A%20%20%20%20%20%20.maplegend%20.legend-source%20%7B%0A%20%20%20%20%20%20%20%20color%3A%20%23777%3B%0A%20%20%20%20%20%20%20%20clear%3A%20both%3B%0A%20%20%20%20%20%20%20%20%7D%0A%20%20%20%20%20%20.maplegend%20a%20%7B%0A%20%20%20%20%20%20%20%20color%3A%20%23777%3B%0A%20%20%20%20%20%20%20%20%7D%0A%20%20%20%20%3C/style%3E%0A%20%20%20%20%0A%3C/head%3E%0A%3Cbody%3E%20%20%20%20%0A%20%20%20%20%0A%20%20%20%20%3Cdiv%20id%3D%27maplegend%20data_origin%27%20class%3D%27maplegend%27%3E%0A%20%20%20%20%20%20%20%20%3Cdiv%20class%3D%27legend-title%27%3Edata_origin%3C/div%3E%0A%20%20%20%20%20%20%20%20%3Cdiv%20class%3D%27legend-scale%27%3E%0A%20%20%20%20%20%20%20%20%20%20%20%20%3Cul%20class%3D%27legend-labels%27%3E%0A%20%20%20%20%20%20%20%20%20%20%20%20%20%20%20%20%3Cli%3E%3Cspan%20style%3D%27background%3A%23393b79%27%3E%3C/span%3EApplication%3C/li%3E%0A%20%20%20%20%20%20%20%20%20%20%20%20%20%20%20%20%3Cli%3E%3Cspan%20style%3D%27background%3A%23de9ed6%27%3E%3C/span%3EFunded%3C/li%3E%0A%20%20%20%20%20%20%20%20%20%20%20%20%3C/ul%3E%0A%20%20%20%20%20%20%20%20%3C/div%3E%0A%20%20%20%20%3C/div%3E%0A%20%20%20%20%0A%20%20%20%20%0A%20%20%20%20%20%20%20%20%20%20%20%20%3Cdiv%20class%3D%22folium-map%22%20id%3D%22map_6585b8be5fe841d6898810b8af05f640%22%20%3E%3C/div%3E%0A%20%20%20%20%20%20%20%20%0A%3C/body%3E%0A%3Cscript%3E%20%20%20%20%0A%20%20%20%20%0A%20%20%20%20%20%20%20%20%20%20%20%20var%20map_6585b8be5fe841d6898810b8af05f640%20%3D%20L.map%28%0A%20%20%20%20%20%20%20%20%20%20%20%20%20%20%20%20%22map_6585b8be5fe841d6898810b8af05f640%22%2C%0A%20%20%20%20%20%20%20%20%20%20%20%20%20%20%20%20%7B%0A%20%20%20%20%20%20%20%20%20%20%20%20%20%20%20%20%20%20%20%20center%3A%20%5B37.81915%2C%20-122.19155%5D%2C%0A%20%20%20%20%20%20%20%20%20%20%20%20%20%20%20%20%20%20%20%20crs%3A%20L.CRS.EPSG3857%2C%0A%20%20%20%20%20%20%20%20%20%20%20%20%20%20%20%20%20%20%20%20zoom%3A%2010%2C%0A%20%20%20%20%20%20%20%20%20%20%20%20%20%20%20%20%20%20%20%20zoomControl%3A%20true%2C%0A%20%20%20%20%20%20%20%20%20%20%20%20%20%20%20%20%20%20%20%20preferCanvas%3A%20false%2C%0A%20%20%20%20%20%20%20%20%20%20%20%20%20%20%20%20%7D%0A%20%20%20%20%20%20%20%20%20%20%20%20%29%3B%0A%20%20%20%20%20%20%20%20%20%20%20%20L.control.scale%28%29.addTo%28map_6585b8be5fe841d6898810b8af05f640%29%3B%0A%0A%20%20%20%20%20%20%20%20%20%20%20%20%0A%0A%20%20%20%20%20%20%20%20%0A%20%20%20%20%0A%20%20%20%20%20%20%20%20%20%20%20%20var%20tile_layer_e9ef5c9adea2424aab9307bc38a381f3%20%3D%20L.tileLayer%28%0A%20%20%20%20%20%20%20%20%20%20%20%20%20%20%20%20%22https%3A//%7Bs%7D.tile.openstreetmap.org/%7Bz%7D/%7Bx%7D/%7By%7D.png%22%2C%0A%20%20%20%20%20%20%20%20%20%20%20%20%20%20%20%20%7B%22attribution%22%3A%20%22Data%20by%20%5Cu0026copy%3B%20%5Cu003ca%20href%3D%5C%22http%3A//openstreetmap.org%5C%22%5Cu003eOpenStreetMap%5Cu003c/a%5Cu003e%2C%20under%20%5Cu003ca%20href%3D%5C%22http%3A//www.openstreetmap.org/copyright%5C%22%5Cu003eODbL%5Cu003c/a%5Cu003e.%22%2C%20%22detectRetina%22%3A%20false%2C%20%22maxNativeZoom%22%3A%2018%2C%20%22maxZoom%22%3A%2018%2C%20%22minZoom%22%3A%200%2C%20%22noWrap%22%3A%20false%2C%20%22opacity%22%3A%201%2C%20%22subdomains%22%3A%20%22abc%22%2C%20%22tms%22%3A%20false%7D%0A%20%20%20%20%20%20%20%20%20%20%20%20%29.addTo%28map_6585b8be5fe841d6898810b8af05f640%29%3B%0A%20%20%20%20%20%20%20%20%0A%20%20%20%20%0A%20%20%20%20%20%20%20%20%20%20%20%20map_6585b8be5fe841d6898810b8af05f640.fitBounds%28%0A%20%20%20%20%20%20%20%20%20%20%20%20%20%20%20%20%5B%5B37.0058%2C%20-122.8731%5D%2C%20%5B38.6325%2C%20-121.51%5D%5D%2C%0A%20%20%20%20%20%20%20%20%20%20%20%20%20%20%20%20%7B%7D%0A%20%20%20%20%20%20%20%20%20%20%20%20%29%3B%0A%20%20%20%20%20%20%20%20%0A%20%20%20%20%0A%20%20%20%20%20%20%20%20function%20geo_json_e2f5fcd395784f729a0fe42d35fcc4b2_styler%28feature%29%20%7B%0A%20%20%20%20%20%20%20%20%20%20%20%20switch%28feature.properties.project_app_id%29%20%7B%0A%20%20%20%20%20%20%20%20%20%20%20%20%20%20%20%20case%20%224-Santa%20Clara%20County-1%22%3A%20case%20%224-Contra%20Costa%20County-2%22%3A%20case%20%224-Oakland%2C%20City%20of-1%22%3A%20case%20%224-Oakland%2C%20City%20of-2%22%3A%20case%20%224-Fairfield%2C%20City%20of-1%22%3A%20%0A%20%20%20%20%20%20%20%20%20%20%20%20%20%20%20%20%20%20%20%20return%20%7B%22color%22%3A%20%22%23de9ed6%22%2C%20%22fillColor%22%3A%20%22%23de9ed6%22%2C%20%22fillOpacity%22%3A%200.5%2C%20%22weight%22%3A%202%7D%3B%0A%20%20%20%20%20%20%20%20%20%20%20%20%20%20%20%20default%3A%0A%20%20%20%20%20%20%20%20%20%20%20%20%20%20%20%20%20%20%20%20return%20%7B%22color%22%3A%20%22%23393b79%22%2C%20%22fillColor%22%3A%20%22%23393b79%22%2C%20%22fillOpacity%22%3A%200.5%2C%20%22weight%22%3A%202%7D%3B%0A%20%20%20%20%20%20%20%20%20%20%20%20%7D%0A%20%20%20%20%20%20%20%20%7D%0A%20%20%20%20%20%20%20%20function%20geo_json_e2f5fcd395784f729a0fe42d35fcc4b2_highlighter%28feature%29%20%7B%0A%20%20%20%20%20%20%20%20%20%20%20%20switch%28feature.properties.project_app_id%29%20%7B%0A%20%20%20%20%20%20%20%20%20%20%20%20%20%20%20%20default%3A%0A%20%20%20%20%20%20%20%20%20%20%20%20%20%20%20%20%20%20%20%20return%20%7B%22fillOpacity%22%3A%200.75%7D%3B%0A%20%20%20%20%20%20%20%20%20%20%20%20%7D%0A%20%20%20%20%20%20%20%20%7D%0A%20%20%20%20%20%20%20%20function%20geo_json_e2f5fcd395784f729a0fe42d35fcc4b2_pointToLayer%28feature%2C%20latlng%29%20%7B%0A%20%20%20%20%20%20%20%20%20%20%20%20var%20opts%20%3D%20%7B%22bubblingMouseEvents%22%3A%20true%2C%20%22color%22%3A%20%22%233388ff%22%2C%20%22dashArray%22%3A%20null%2C%20%22dashOffset%22%3A%20null%2C%20%22fill%22%3A%20true%2C%20%22fillColor%22%3A%20%22%233388ff%22%2C%20%22fillOpacity%22%3A%200.2%2C%20%22fillRule%22%3A%20%22evenodd%22%2C%20%22lineCap%22%3A%20%22round%22%2C%20%22lineJoin%22%3A%20%22round%22%2C%20%22opacity%22%3A%201.0%2C%20%22radius%22%3A%202%2C%20%22stroke%22%3A%20true%2C%20%22weight%22%3A%203%7D%3B%0A%20%20%20%20%20%20%20%20%20%20%20%20%0A%20%20%20%20%20%20%20%20%20%20%20%20let%20style%20%3D%20geo_json_e2f5fcd395784f729a0fe42d35fcc4b2_styler%28feature%29%0A%20%20%20%20%20%20%20%20%20%20%20%20Object.assign%28opts%2C%20style%29%0A%20%20%20%20%20%20%20%20%20%20%20%20%0A%20%20%20%20%20%20%20%20%20%20%20%20return%20new%20L.CircleMarker%28latlng%2C%20opts%29%0A%20%20%20%20%20%20%20%20%7D%0A%0A%20%20%20%20%20%20%20%20function%20geo_json_e2f5fcd395784f729a0fe42d35fcc4b2_onEachFeature%28feature%2C%20layer%29%20%7B%0A%20%20%20%20%20%20%20%20%20%20%20%20layer.on%28%7B%0A%20%20%20%20%20%20%20%20%20%20%20%20%20%20%20%20mouseout%3A%20function%28e%29%20%7B%0A%20%20%20%20%20%20%20%20%20%20%20%20%20%20%20%20%20%20%20%20if%28typeof%20e.target.setStyle%20%3D%3D%3D%20%22function%22%29%7B%0A%20%20%20%20%20%20%20%20%20%20%20%20%20%20%20%20%20%20%20%20%20%20%20%20geo_json_e2f5fcd395784f729a0fe42d35fcc4b2.resetStyle%28e.target%29%3B%0A%20%20%20%20%20%20%20%20%20%20%20%20%20%20%20%20%20%20%20%20%7D%0A%20%20%20%20%20%20%20%20%20%20%20%20%20%20%20%20%7D%2C%0A%20%20%20%20%20%20%20%20%20%20%20%20%20%20%20%20mouseover%3A%20function%28e%29%20%7B%0A%20%20%20%20%20%20%20%20%20%20%20%20%20%20%20%20%20%20%20%20if%28typeof%20e.target.setStyle%20%3D%3D%3D%20%22function%22%29%7B%0A%20%20%20%20%20%20%20%20%20%20%20%20%20%20%20%20%20%20%20%20%20%20%20%20const%20highlightStyle%20%3D%20geo_json_e2f5fcd395784f729a0fe42d35fcc4b2_highlighter%28e.target.feature%29%0A%20%20%20%20%20%20%20%20%20%20%20%20%20%20%20%20%20%20%20%20%20%20%20%20e.target.setStyle%28highlightStyle%29%3B%0A%20%20%20%20%20%20%20%20%20%20%20%20%20%20%20%20%20%20%20%20%7D%0A%20%20%20%20%20%20%20%20%20%20%20%20%20%20%20%20%7D%2C%0A%20%20%20%20%20%20%20%20%20%20%20%20%7D%29%3B%0A%20%20%20%20%20%20%20%20%7D%3B%0A%20%20%20%20%20%20%20%20var%20geo_json_e2f5fcd395784f729a0fe42d35fcc4b2%20%3D%20L.geoJson%28null%2C%20%7B%0A%20%20%20%20%20%20%20%20%20%20%20%20%20%20%20%20onEachFeature%3A%20geo_json_e2f5fcd395784f729a0fe42d35fcc4b2_onEachFeature%2C%0A%20%20%20%20%20%20%20%20%20%20%20%20%0A%20%20%20%20%20%20%20%20%20%20%20%20%20%20%20%20style%3A%20geo_json_e2f5fcd395784f729a0fe42d35fcc4b2_styler%2C%0A%20%20%20%20%20%20%20%20%20%20%20%20%20%20%20%20pointToLayer%3A%20geo_json_e2f5fcd395784f729a0fe42d35fcc4b2_pointToLayer%0A%20%20%20%20%20%20%20%20%7D%29%3B%0A%0A%20%20%20%20%20%20%20%20function%20geo_json_e2f5fcd395784f729a0fe42d35fcc4b2_add%20%28data%29%20%7B%0A%20%20%20%20%20%20%20%20%20%20%20%20geo_json_e2f5fcd395784f729a0fe42d35fcc4b2%0A%20%20%20%20%20%20%20%20%20%20%20%20%20%20%20%20.addData%28data%29%0A%20%20%20%20%20%20%20%20%20%20%20%20%20%20%20%20.addTo%28map_6585b8be5fe841d6898810b8af05f640%29%3B%0A%20%20%20%20%20%20%20%20%7D%0A%20%20%20%20%20%20%20%20%20%20%20%20geo_json_e2f5fcd395784f729a0fe42d35fcc4b2_add%28%7B%22bbox%22%3A%20%5B-122.8731%2C%2037.0058%2C%20-121.51%2C%2038.6325%5D%2C%20%22features%22%3A%20%5B%7B%22bbox%22%3A%20%5B-122.238333%2C%2038.096389%2C%20-122.238333%2C%2038.096389%5D%2C%20%22geometry%22%3A%20%7B%22coordinates%22%3A%20%5B-122.238333%2C%2038.096389%5D%2C%20%22type%22%3A%20%22Point%22%7D%2C%20%22id%22%3A%20%22399%22%2C%20%22properties%22%3A%20%7B%22__folium_color%22%3A%20%22%23393b79%22%2C%20%22a1_imp_agcy_city%22%3A%20%22Fairfield%22%2C%20%22a1_imp_agcy_name%22%3A%20%22Solano%20County%22%2C%20%22a1_imp_agcy_street%22%3A%20%22675%20Texas%20Street%2C%20Suite%205500%22%2C%20%22a1_proj_partner_agcy%22%3A%20null%2C%20%22a2_county%22%3A%20%22Solano%22%2C%20%22a2_info_proj_descr%22%3A%20%22Remove%20and%20replace%20deficient%20sidewalk%2C%20curb%2C%20gutter%20and%20ADA%20ramps.%20Reconfigure%20existing%20striping.%20Install%20bus%20shelter.%22%2C%20%22a2_info_proj_loc%22%3A%20%22On%20Benicia%20Road%20between%20Beach%20Street%20and%20Lemon%20Avenue.%22%2C%20%22a2_info_proj_name%22%3A%20%22Benicia%20Road%20Complete%20Street%20Project%22%2C%20%22a2_mop_uza_population%22%3A%20%22Project%20is%20located%20within%20one%20of%20the%20ten%20large%20MPOs%22%2C%20%22a2_mpo%22%3A%20%22MTC%22%2C%20%22a2_proj_lat%22%3A%2038.096389%2C%20%22a2_proj_long%22%3A%20-122.238333%2C%20%22a3_proj_type%22%3A%20%22Infrastructure%20-%20Medium%22%2C%20%22assembly_district%22%3A%2014%2C%20%22awarded%22%3A%20%22N%22%2C%20%22congressional_district%22%3A%205%2C%20%22data_origin%22%3A%20%22Application%22%2C%20%22project_app_id%22%3A%20%224-Solano%20County-1%22%2C%20%22project_cycle%22%3A%205%2C%20%22senate_district%22%3A%203%2C%20%22total_atp_%24%22%3A%20null%7D%2C%20%22type%22%3A%20%22Feature%22%7D%2C%20%7B%22bbox%22%3A%20%5B-122.487926%2C%2037.898081%2C%20-122.487926%2C%2037.898081%5D%2C%20%22geometry%22%3A%20%7B%22coordinates%22%3A%20%5B-122.487926%2C%2037.898081%5D%2C%20%22type%22%3A%20%22Point%22%7D%2C%20%22id%22%3A%20%22312%22%2C%20%22properties%22%3A%20%7B%22__folium_color%22%3A%20%22%23393b79%22%2C%20%22a1_imp_agcy_city%22%3A%20%22Tiburon%22%2C%20%22a1_imp_agcy_name%22%3A%20%22Tiburon%2C%20Town%20of%22%2C%20%22a1_imp_agcy_street%22%3A%20%221505%20Tiburon%20Boulevard%22%2C%20%22a1_proj_partner_agcy%22%3A%20null%2C%20%22a2_county%22%3A%20%22Marin%22%2C%20%22a2_info_proj_descr%22%3A%20%22Trestle%20Glen%20Boulevard%20Class%20II%20Bikeway%22%2C%20%22a2_info_proj_loc%22%3A%20%22Trestle%20Glen%20Boulevard%20between%20Tiburon%20Boulevard%20%28Highway%20131%29%20and%20Paradise%20Drive%22%2C%20%22a2_info_proj_name%22%3A%20%22Trestle%20Glen%20Boulevard%20Class%20II%20Bikeway%22%2C%20%22a2_mop_uza_population%22%3A%20%22Project%20is%20located%20within%20one%20of%20the%20ten%20large%20MPOs%22%2C%20%22a2_mpo%22%3A%20%22MTC%22%2C%20%22a2_proj_lat%22%3A%2037.898081%2C%20%22a2_proj_long%22%3A%20-122.487926%2C%20%22a3_proj_type%22%3A%20%22Infrastructure%20-%20Medium%22%2C%20%22assembly_district%22%3A%2010%2C%20%22awarded%22%3A%20%22N%22%2C%20%22congressional_district%22%3A%202%2C%20%22data_origin%22%3A%20%22Application%22%2C%20%22project_app_id%22%3A%20%224-Tiburon%2C%20Town%20of-1%22%2C%20%22project_cycle%22%3A%205%2C%20%22senate_district%22%3A%202%2C%20%22total_atp_%24%22%3A%20null%7D%2C%20%22type%22%3A%20%22Feature%22%7D%2C%20%7B%22bbox%22%3A%20%5B-121.581905%2C%2038.212941%2C%20-121.581905%2C%2038.212941%5D%2C%20%22geometry%22%3A%20%7B%22coordinates%22%3A%20%5B-121.581905%2C%2038.212941%5D%2C%20%22type%22%3A%20%22Point%22%7D%2C%20%22id%22%3A%20%22434%22%2C%20%22properties%22%3A%20%7B%22__folium_color%22%3A%20%22%23393b79%22%2C%20%22a1_imp_agcy_city%22%3A%20%22Vacaville%22%2C%20%22a1_imp_agcy_name%22%3A%20%22Vacaville%2C%20City%20of%22%2C%20%22a1_imp_agcy_street%22%3A%20%22650%20Merchant%20St%2C%20Vacaville%2C%20CA%2095688%22%2C%20%22a1_proj_partner_agcy%22%3A%20null%2C%20%22a2_county%22%3A%20%22Solano%22%2C%20%22a2_info_proj_descr%22%3A%20%22Phase%201%20of%20Class%201%20gap%20closure%2C%20path%20improvements%20and%20two%20bridges%20on%20Ulatis%20Creek%20between%20Allison%20Dr%20and%20I-80%20connecting%20Disadvantaged%20communities%20to%20VTC.%22%2C%20%22a2_info_proj_loc%22%3A%20%22Class%20I%20Path%20from%20Allison%20Dr%2C%20along%20both%20sides%20of%20Ulatis%20Creek%20to%20east%20side%20of%20I-80.%20I-80%20Managed%20Lanes%20Project%20if%20funded%2C%20will%20construct%20path%20under%2080%20connecting%20to%20Beard%20St.%20%22%2C%20%22a2_info_proj_name%22%3A%20%22Ulatis%20Creek%20Safe%20Routes%20to%20Transit%20Gap%20Closure%22%2C%20%22a2_mop_uza_population%22%3A%20%22Project%20is%20located%20within%20one%20of%20the%20ten%20large%20MPOs%22%2C%20%22a2_mpo%22%3A%20%22MTC%22%2C%20%22a2_proj_lat%22%3A%2038.212941%2C%20%22a2_proj_long%22%3A%20-121.581905%2C%20%22a3_proj_type%22%3A%20%22Infrastructure%20-%20Medium%22%2C%20%22assembly_district%22%3A%2011%2C%20%22awarded%22%3A%20%22N%22%2C%20%22congressional_district%22%3A%203%2C%20%22data_origin%22%3A%20%22Application%22%2C%20%22project_app_id%22%3A%20%224-Vacaville%2C%20City%20of-1%22%2C%20%22project_cycle%22%3A%205%2C%20%22senate_district%22%3A%203%2C%20%22total_atp_%24%22%3A%20null%7D%2C%20%22type%22%3A%20%22Feature%22%7D%2C%20%7B%22bbox%22%3A%20%5B-121.51%2C%2037.2%2C%20-121.51%2C%2037.2%5D%2C%20%22geometry%22%3A%20%7B%22coordinates%22%3A%20%5B-121.51%2C%2037.2%5D%2C%20%22type%22%3A%20%22Point%22%7D%2C%20%22id%22%3A%20%22367%22%2C%20%22properties%22%3A%20%7B%22__folium_color%22%3A%20%22%23393b79%22%2C%20%22a1_imp_agcy_city%22%3A%20%22San%20Jose%22%2C%20%22a1_imp_agcy_name%22%3A%20%22San%20Jose%2C%20City%20of%22%2C%20%22a1_imp_agcy_street%22%3A%20%22200%20East%20Santa%20Clara%20Street%22%2C%20%22a1_proj_partner_agcy%22%3A%20null%2C%20%22a2_county%22%3A%20%22Santa%20Clara%22%2C%20%22a2_info_proj_descr%22%3A%20%22Development%20of%201.95%20mile%20trail%20%28Class%20I%20Bikeway%29%22%2C%20%22a2_info_proj_loc%22%3A%20%22Project%20corridor%20begins%20at%20Story%20Rd%2C%20follows%20the%20former%20rail%20corridor%20north%20to%20Whitton%20Ave%2C%20then%20past%20a%20future%20BART%20station%20that%20may%20incorporate%20a%20trail%20to%20Julian%20as%20VTA%20permits.%22%2C%20%22a2_info_proj_name%22%3A%20%22Five%20Wounds%20Trail%20%28Story%20to%20Julian%29%20-%20PA%5Cu0026ED%20and%20CON%22%2C%20%22a2_mop_uza_population%22%3A%20%22Project%20is%20located%20within%20one%20of%20the%20ten%20large%20MPOs%22%2C%20%22a2_mpo%22%3A%20%22MTC%22%2C%20%22a2_proj_lat%22%3A%2037.2%2C%20%22a2_proj_long%22%3A%20-121.51%2C%20%22a3_proj_type%22%3A%20%22Infrastructure%20-%20Large%22%2C%20%22assembly_district%22%3A%20%2227%2C%2025%22%2C%20%22awarded%22%3A%20%22N%22%2C%20%22congressional_district%22%3A%2019%2C%20%22data_origin%22%3A%20%22Application%22%2C%20%22project_app_id%22%3A%20%224-San%20Jose%2C%20City%20of-5%22%2C%20%22project_cycle%22%3A%205%2C%20%22senate_district%22%3A%20%2215%2C%2010%22%2C%20%22total_atp_%24%22%3A%20null%7D%2C%20%22type%22%3A%20%22Feature%22%7D%2C%20%7B%22bbox%22%3A%20%5B-122.363302%2C%2037.958705%2C%20-122.363302%2C%2037.958705%5D%2C%20%22geometry%22%3A%20%7B%22coordinates%22%3A%20%5B-122.363302%2C%2037.958705%5D%2C%20%22type%22%3A%20%22Point%22%7D%2C%20%22id%22%3A%20%22328%22%2C%20%22properties%22%3A%20%7B%22__folium_color%22%3A%20%22%23393b79%22%2C%20%22a1_imp_agcy_city%22%3A%20%22Martinez%22%2C%20%22a1_imp_agcy_name%22%3A%20%22Contra%20Costa%20County%22%2C%20%22a1_imp_agcy_street%22%3A%20%22255%20Glacier%20Drive%22%2C%20%22a1_proj_partner_agcy%22%3A%20null%2C%20%22a2_county%22%3A%20%22Contra%20Costa%22%2C%20%22a2_info_proj_descr%22%3A%20%22Construct%20widened%20and%20ADA-accessible%20sidewalks%2C%20ADA-compliant%20curb%20ramps%2C%20curb%20extensions%2C%20shared-lane%20bicycle%20markings%2C%20and%20narrow%20travel%20lanes%20along%200.3%20miles%20of%20Market%20Avenue.%22%2C%20%22a2_info_proj_loc%22%3A%20%22On%20Market%20Avenue%20between%20Fred%20Jackson%20Way%20and%207th%20Street%20in%20unincorporated%20North%20Richmond%22%2C%20%22a2_info_proj_name%22%3A%20%22Market%20Avenue%20Complete%20Street%22%2C%20%22a2_mop_uza_population%22%3A%20%22Project%20is%20located%20within%20one%20of%20the%20ten%20large%20MPOs%22%2C%20%22a2_mpo%22%3A%20%22MTC%22%2C%20%22a2_proj_lat%22%3A%2037.958705%2C%20%22a2_proj_long%22%3A%20-122.363302%2C%20%22a3_proj_type%22%3A%20%22Infrastructure%20-%20Medium%22%2C%20%22assembly_district%22%3A%2015%2C%20%22awarded%22%3A%20%22N%22%2C%20%22congressional_district%22%3A%2011%2C%20%22data_origin%22%3A%20%22Application%22%2C%20%22project_app_id%22%3A%20%224-Contra%20Costa%20County-3%22%2C%20%22project_cycle%22%3A%205%2C%20%22senate_district%22%3A%209%2C%20%22total_atp_%24%22%3A%20null%7D%2C%20%22type%22%3A%20%22Feature%22%7D%2C%20%7B%22bbox%22%3A%20%5B-122.310887%2C%2037.900696%2C%20-122.310887%2C%2037.900696%5D%2C%20%22geometry%22%3A%20%7B%22coordinates%22%3A%20%5B-122.310887%2C%2037.900696%5D%2C%20%22type%22%3A%20%22Point%22%7D%2C%20%22id%22%3A%20%22309%22%2C%20%22properties%22%3A%20%7B%22__folium_color%22%3A%20%22%23393b79%22%2C%20%22a1_imp_agcy_city%22%3A%20%22Oakland%22%2C%20%22a1_imp_agcy_name%22%3A%20%22California%20Department%20of%20Transportation%22%2C%20%22a1_imp_agcy_street%22%3A%20%22District%204%20Office%20-%20111%20Grand%20Avenue%22%2C%20%22a1_proj_partner_agcy%22%3A%20null%2C%20%22a2_county%22%3A%20%22Contra%20Costa%22%2C%20%22a2_info_proj_descr%22%3A%20%22Improve%20pedestrian/bicycle%20access%20at%20Central%20Ave%20I-80%20undercrossing%20with%20wider%20sidewalks%2C%20new%20sidewalk-level%20bikeways%2C%20crossing%20improvements%2C%20pedestrian%20lighting%2C%20and%20fencing.%22%2C%20%22a2_info_proj_loc%22%3A%20%22The%20Project%20is%20located%20on%20Central%20Avenue%20crossing%20I-80%20between%20San%20Joaquin%20St./Jacuzzi%20St.%20and%20San%20Luis%20St./Pierce%20St.%20in%20the%20City%20of%20Richmond%2C%20a%20block%20from%20the%20City%20of%20El%20Cerrito.%22%2C%20%22a2_info_proj_name%22%3A%20%22Central%20Avenue%20I-80%20Undercrossing%20Ped/Bike%20Improvements%22%2C%20%22a2_mop_uza_population%22%3A%20%22Project%20is%20located%20within%20one%20of%20the%20ten%20large%20MPOs%22%2C%20%22a2_mpo%22%3A%20%22MTC%22%2C%20%22a2_proj_lat%22%3A%2037.900696%2C%20%22a2_proj_long%22%3A%20-122.310887%2C%20%22a3_proj_type%22%3A%20%22Infrastructure%20-%20Medium%22%2C%20%22assembly_district%22%3A%2015%2C%20%22awarded%22%3A%20%22N%22%2C%20%22congressional_district%22%3A%2011%2C%20%22data_origin%22%3A%20%22Application%22%2C%20%22project_app_id%22%3A%20%224-California%20Department%20of%20Transportation-3%22%2C%20%22project_cycle%22%3A%205%2C%20%22senate_district%22%3A%209%2C%20%22total_atp_%24%22%3A%20null%7D%2C%20%22type%22%3A%20%22Feature%22%7D%2C%20%7B%22bbox%22%3A%20%5B-122.2567%2C%2038.0489%2C%20-122.2567%2C%2038.0489%5D%2C%20%22geometry%22%3A%20%7B%22coordinates%22%3A%20%5B-122.2567%2C%2038.0489%5D%2C%20%22type%22%3A%20%22Point%22%7D%2C%20%22id%22%3A%20%22198%22%2C%20%22properties%22%3A%20%7B%22__folium_color%22%3A%20%22%23393b79%22%2C%20%22a1_imp_agcy_city%22%3A%20%22Martinez%22%2C%20%22a1_imp_agcy_name%22%3A%20%22Contra%20Costa%20County%22%2C%20%22a1_imp_agcy_street%22%3A%20%22255%20Glacier%20Drive%22%2C%20%22a1_proj_partner_agcy%22%3A%20null%2C%20%22a2_county%22%3A%20%22Contra%20Costa%22%2C%20%22a2_info_proj_descr%22%3A%20%22The%20San%20Pablo%20Avenue%20Complete%20Street/Bay%20Point%20Trail%20Gap%20Closure%20Project%20will%20implement%20a%20road%20diet%20and%20construct%20a%20Class%20I%20shared%20use%20path%20along%20the%20San%20Francisco%20Bay%20Trail.%22%2C%20%22a2_info_proj_loc%22%3A%20%22The%20project%20is%20a%203.2-mile%20segment%20of%20San%20Pablo%20Avenue%20between%20the%20towns%20of%20Rodeo%20and%20Crockett%2C%20from%20Pacific%20Avenue%20to%20Pomona%20Street.%22%2C%20%22a2_info_proj_name%22%3A%20%22San%20Pablo%20Avenue%20Complete%20Street/Bay%20Trail%20Gap%20Closure%20Project%22%2C%20%22a2_mop_uza_population%22%3A%20%22Project%20is%20located%20within%20one%20of%20the%20ten%20large%20MPOs%22%2C%20%22a2_mpo%22%3A%20%22MTC%22%2C%20%22a2_proj_lat%22%3A%2038.0489%2C%20%22a2_proj_long%22%3A%20-122.2567%2C%20%22a3_proj_type%22%3A%20%22Infrastructure%20-%20Large%22%2C%20%22assembly_district%22%3A%2014%2C%20%22awarded%22%3A%20%22N%22%2C%20%22congressional_district%22%3A%205%2C%20%22data_origin%22%3A%20%22Application%22%2C%20%22project_app_id%22%3A%20%224-Contra%20Costa%20County-4%22%2C%20%22project_cycle%22%3A%205%2C%20%22senate_district%22%3A%209%2C%20%22total_atp_%24%22%3A%20null%7D%2C%20%22type%22%3A%20%22Feature%22%7D%2C%20%7B%22bbox%22%3A%20%5B-122.221927%2C%2038.051925%2C%20-122.221927%2C%2038.051925%5D%2C%20%22geometry%22%3A%20%7B%22coordinates%22%3A%20%5B-122.221927%2C%2038.051925%5D%2C%20%22type%22%3A%20%22Point%22%7D%2C%20%22id%22%3A%20%22144%22%2C%20%22properties%22%3A%20%7B%22__folium_color%22%3A%20%22%23393b79%22%2C%20%22a1_imp_agcy_city%22%3A%20%22Martinez%22%2C%20%22a1_imp_agcy_name%22%3A%20%22Contra%20Costa%20County%22%2C%20%22a1_imp_agcy_street%22%3A%20%22255%20Glacier%20Drive%22%2C%20%22a1_proj_partner_agcy%22%3A%20%22John%20Swett%20Unified%20School%20District%22%2C%20%22a2_county%22%3A%20%22Contra%20Costa%22%2C%20%22a2_info_proj_descr%22%3A%20%22Construct%20multi-modal%2C%20ADA-compliant%20path%20along%20Crockett%20Boulevard%20%20to%20access%20two%20schools%20and%20close%20a%20gap%20in%20a%20regional%20trail.%20Install%20pedestrian%20crossing%20improvements.%20%22%2C%20%22a2_info_proj_loc%22%3A%20%22West%20side%20of%20Crockett%20Boulevard%20from%20Pomona%20Street%20to%20Willow%20High%20School%20in%20unincorporated%20Crockett.%22%2C%20%22a2_info_proj_name%22%3A%20%22Carquinez%20Middle%20School%20Trail%20Connection%22%2C%20%22a2_mop_uza_population%22%3A%20%22Project%20is%20located%20within%20one%20of%20the%20ten%20large%20MPOs%22%2C%20%22a2_mpo%22%3A%20%22MTC%22%2C%20%22a2_proj_lat%22%3A%2038.051925%2C%20%22a2_proj_long%22%3A%20-122.221927%2C%20%22a3_proj_type%22%3A%20%22Infrastructure%20-%20Medium%22%2C%20%22assembly_district%22%3A%2014%2C%20%22awarded%22%3A%20%22N%22%2C%20%22congressional_district%22%3A%205%2C%20%22data_origin%22%3A%20%22Application%22%2C%20%22project_app_id%22%3A%20%224-Contra%20Costa%20County-6%22%2C%20%22project_cycle%22%3A%205%2C%20%22senate_district%22%3A%203%2C%20%22total_atp_%24%22%3A%20null%7D%2C%20%22type%22%3A%20%22Feature%22%7D%2C%20%7B%22bbox%22%3A%20%5B-121.881543%2C%2038.019093%2C%20-121.881543%2C%2038.019093%5D%2C%20%22geometry%22%3A%20%7B%22coordinates%22%3A%20%5B-121.881543%2C%2038.019093%5D%2C%20%22type%22%3A%20%22Point%22%7D%2C%20%22id%22%3A%20%22223%22%2C%20%22properties%22%3A%20%7B%22__folium_color%22%3A%20%22%23393b79%22%2C%20%22a1_imp_agcy_city%22%3A%20%22Walnut%20Creek%22%2C%20%22a1_imp_agcy_name%22%3A%20%22Contra%20Costa%20Transportation%20Authority%20%28CCTA%29%22%2C%20%22a1_imp_agcy_street%22%3A%20%22Planning%20Department%2C%202999%20Oak%20Road%2C%20Suite%20100%22%2C%20%22a1_proj_partner_agcy%22%3A%20null%2C%20%22a2_county%22%3A%20%22Contra%20Costa%22%2C%20%22a2_info_proj_descr%22%3A%20%22Increase%20bicycling%20and%20walking%20trips%20to/from%2066%20east%20Contra%20Costa%20schools%20by%20creating%20Walk%20%5Cu0026%20Roll%20Maps%2C%20Walking%20Field%20Trip%20Program%2C%20and%20a%20Community-Led%20Encouragement%20Campaign.%20%22%2C%20%22a2_info_proj_loc%22%3A%20%22Program%20will%20serve%20all%20public%20K-12%20schools%20in%20the%20cities%20of%20Antioch%2C%20Brentwood%2C%20Oakley%2C%20Pittsburg%2C%20and%20unincorporated%20communities%20of%20Bay%20Point%2C%20Byron%2C%20Discovery%20Bay%2C%20and%20Knightsen.%22%2C%20%22a2_info_proj_name%22%3A%20%22Our%20Streets%3A%20SRTS%20Community%20Bike/Walk%20Campaign%20for%20East%20Contra%20Costa%22%2C%20%22a2_mop_uza_population%22%3A%20%22Project%20is%20located%20within%20one%20of%20the%20ten%20large%20MPOs%22%2C%20%22a2_mpo%22%3A%20%22MTC%22%2C%20%22a2_proj_lat%22%3A%2038.019093%2C%20%22a2_proj_long%22%3A%20-121.881543%2C%20%22a3_proj_type%22%3A%20%22Non-Infrastructure%22%2C%20%22assembly_district%22%3A%20%2211%2C%2014%22%2C%20%22awarded%22%3A%20%22N%22%2C%20%22congressional_district%22%3A%2011%2C%20%22data_origin%22%3A%20%22Application%22%2C%20%22project_app_id%22%3A%20%224-Contra%20Costa%20Transportation%20Authority%20%28CCTA%29-1%22%2C%20%22project_cycle%22%3A%205%2C%20%22senate_district%22%3A%207%2C%20%22total_atp_%24%22%3A%20null%7D%2C%20%22type%22%3A%20%22Feature%22%7D%2C%20%7B%22bbox%22%3A%20%5B-121.970102%2C%2037.835723%2C%20-121.970102%2C%2037.835723%5D%2C%20%22geometry%22%3A%20%7B%22coordinates%22%3A%20%5B-121.970102%2C%2037.835723%5D%2C%20%22type%22%3A%20%22Point%22%7D%2C%20%22id%22%3A%20%22109%22%2C%20%22properties%22%3A%20%7B%22__folium_color%22%3A%20%22%23393b79%22%2C%20%22a1_imp_agcy_city%22%3A%20%22Danville%22%2C%20%22a1_imp_agcy_name%22%3A%20%22Danville%2C%20Town%20of%22%2C%20%22a1_imp_agcy_street%22%3A%20%22510%20La%20Gonda%20Way%22%2C%20%22a1_proj_partner_agcy%22%3A%20null%2C%20%22a2_county%22%3A%20%22Contra%20Costa%22%2C%20%22a2_info_proj_descr%22%3A%20%22Construction%20of%208-foot%20wide%2C%20asphalt%20concrete%20Class%20I%20path%20approximately%204%2C530%20feet%20long.%20%20Includes%20crosswalk%20and%20crosswalk%20warning%20system%2C%20signage/striping%2C%20drainage%20improvements.%22%2C%20%22a2_info_proj_loc%22%3A%20%22Diablo%20Road%2C%20between%20intersections%20of%20Fairway%20Drive%20%28west%20end%29%20and%20360%20feet%20west%20of%20Avenida%20Nueva%20%28east%20end%29.%20%20Project%20lies%20adjacent%20to%20Diablo%20Road%20on%20south%20side%20of%20road.%22%2C%20%22a2_info_proj_name%22%3A%20%22Diablo%20Road%20Trail%22%2C%20%22a2_mop_uza_population%22%3A%20%22Project%20is%20located%20within%20one%20of%20the%20ten%20large%20MPOs%22%2C%20%22a2_mpo%22%3A%20%22MTC%22%2C%20%22a2_proj_lat%22%3A%2037.835723%2C%20%22a2_proj_long%22%3A%20-121.970102%2C%20%22a3_proj_type%22%3A%20%22Infrastructure%20-%20Medium%22%2C%20%22assembly_district%22%3A%2016%2C%20%22awarded%22%3A%20%22N%22%2C%20%22congressional_district%22%3A%2011%2C%20%22data_origin%22%3A%20%22Application%22%2C%20%22project_app_id%22%3A%20%224-Danville%2C%20Town%20of-1%22%2C%20%22project_cycle%22%3A%205%2C%20%22senate_district%22%3A%207%2C%20%22total_atp_%24%22%3A%20null%7D%2C%20%22type%22%3A%20%22Feature%22%7D%2C%20%7B%22bbox%22%3A%20%5B-121.9101%2C%2037.7159%2C%20-121.9101%2C%2037.7159%5D%2C%20%22geometry%22%3A%20%7B%22coordinates%22%3A%20%5B-121.9101%2C%2037.7159%5D%2C%20%22type%22%3A%20%22Point%22%7D%2C%20%22id%22%3A%20%22192%22%2C%20%22properties%22%3A%20%7B%22__folium_color%22%3A%20%22%23393b79%22%2C%20%22a1_imp_agcy_city%22%3A%20%22Dublin%22%2C%20%22a1_imp_agcy_name%22%3A%20%22Dublin%2C%20City%20of%22%2C%20%22a1_imp_agcy_street%22%3A%20%22100%20Civic%20Plaza%22%2C%20%22a1_proj_partner_agcy%22%3A%20null%2C%20%22a2_county%22%3A%20%22Alameda%22%2C%20%22a2_info_proj_descr%22%3A%20%22Pedestrian%20safety%20improvements%20near%2012%20schools%20in%20the%20City%20of%20Dublin%20for%20improved%20safety%20and%20accessibility%20for%20active%20transportation%20users.%22%2C%20%22a2_info_proj_loc%22%3A%20%22City%20of%20Dublin%20-%20Installation%20of%20RRFB%20and%20bulb%20outs%2C%20upgrade%20of%20pavement%20markings%2C%20sidewalks%2C%20and%20a%20traffic%20signal%2C%20and%20implementation%20of%20safety%20education%20program%20near%2012%20schools.%22%2C%20%22a2_info_proj_name%22%3A%20%22City%20of%20Dublin%20Safe%20Routes%20to%20Schools%20Project%22%2C%20%22a2_mop_uza_population%22%3A%20%22Project%20is%20located%20within%20one%20of%20the%20ten%20large%20MPOs%22%2C%20%22a2_mpo%22%3A%20%22MTC%22%2C%20%22a2_proj_lat%22%3A%2037.7159%2C%20%22a2_proj_long%22%3A%20-121.9101%2C%20%22a3_proj_type%22%3A%20%22Infrastructure%20%2B%20NI%20-%20Medium%22%2C%20%22assembly_district%22%3A%20%2216%22%2C%20%22awarded%22%3A%20%22N%22%2C%20%22congressional_district%22%3A%20%2215%22%2C%20%22data_origin%22%3A%20%22Application%22%2C%20%22project_app_id%22%3A%20%224-Dublin%2C%20City%20of-1%22%2C%20%22project_cycle%22%3A%205%2C%20%22senate_district%22%3A%20%2270%22%2C%20%22total_atp_%24%22%3A%20null%7D%2C%20%22type%22%3A%20%22Feature%22%7D%2C%20%7B%22bbox%22%3A%20%5B-122.07177%2C%2037.41089%2C%20-122.07177%2C%2037.41089%5D%2C%20%22geometry%22%3A%20%7B%22coordinates%22%3A%20%5B-122.07177%2C%2037.41089%5D%2C%20%22type%22%3A%20%22Point%22%7D%2C%20%22id%22%3A%20%2238%22%2C%20%22properties%22%3A%20%7B%22__folium_color%22%3A%20%22%23393b79%22%2C%20%22a1_imp_agcy_city%22%3A%20%22Hayward%22%2C%20%22a1_imp_agcy_name%22%3A%20%22Alameda%20County%22%2C%20%22a1_imp_agcy_street%22%3A%20%22399%20Elmhurst%20Street%22%2C%20%22a1_proj_partner_agcy%22%3A%20%22Hayward%20Area%20Recreation%20and%20Park%20District%22%2C%20%22a2_county%22%3A%20%22Alameda%22%2C%20%22a2_info_proj_descr%22%3A%20%22PE%2C%20R/W%2C%20CON%2C%20and%20NI%20phases%20for%20a%207.1-mile%20Class%20I%20path%2C%20including%20paving%2C%20fencing%2C%20signing%2C%20intersection%20improvements%2C%20access%20points%2C%20safety%20features%2C%20and%20an%20SRTS%20program.%22%2C%20%22a2_info_proj_loc%22%3A%20%22Along%20the%20San%20Lorenzo%20Creek%2C%20the%20project%20will%20run%20from%20the%20SF%20Bay%20Trail%20in%20San%20Lorenzo/San%20Leandro%2C%20through%20DACs%20Ashland%20and%20Cherryland%2C%20and%20end%20in%20Hayward%20at%204th%20and%20A%20Streets.%22%2C%20%22a2_info_proj_name%22%3A%20%22San%20Lorenzo%20Creekway%3A%20Building%20Equitable%20Active%20Transportation%20in%20Alameda%20County%22%2C%20%22a2_mop_uza_population%22%3A%20%22Project%20is%20located%20within%20one%20of%20the%20ten%20large%20MPOs%22%2C%20%22a2_mpo%22%3A%20%22MTC%22%2C%20%22a2_proj_lat%22%3A%2037.41089%2C%20%22a2_proj_long%22%3A%20-122.07177%2C%20%22a3_proj_type%22%3A%20%22Infrastructure%20%2B%20NI%20-%20Large%22%2C%20%22assembly_district%22%3A%20%2218%2C%2020%22%2C%20%22awarded%22%3A%20%22N%22%2C%20%22congressional_district%22%3A%20%2213%2C%2015%22%2C%20%22data_origin%22%3A%20%22Application%22%2C%20%22project_app_id%22%3A%20%224-Alameda%20County-6%22%2C%20%22project_cycle%22%3A%205%2C%20%22senate_district%22%3A%20%22Needs%20Manual%20Assistance%22%2C%20%22total_atp_%24%22%3A%20null%7D%2C%20%22type%22%3A%20%22Feature%22%7D%2C%20%7B%22bbox%22%3A%20%5B-122.265348%2C%2037.831318%2C%20-122.265348%2C%2037.831318%5D%2C%20%22geometry%22%3A%20%7B%22coordinates%22%3A%20%5B-122.265348%2C%2037.831318%5D%2C%20%22type%22%3A%20%22Point%22%7D%2C%20%22id%22%3A%20%22322%22%2C%20%22properties%22%3A%20%7B%22__folium_color%22%3A%20%22%23393b79%22%2C%20%22a1_imp_agcy_city%22%3A%20%22Emeryville%22%2C%20%22a1_imp_agcy_name%22%3A%20%22Emeryville%2C%20City%20of%22%2C%20%22a1_imp_agcy_street%22%3A%20%221333%20Park%20Avenue%22%2C%20%22a1_proj_partner_agcy%22%3A%20null%2C%20%22a2_county%22%3A%20%22Alameda%22%2C%20%22a2_info_proj_descr%22%3A%20%22Two-way%20separated%20Class%20IV%20bike%20lanes%20on%20north%20side%20of%20street%2C%20multi-modal%20intersection%20improvements%2C%20realignment%20of%20curbs%20at%20bus%20stops%2C%20side%20medians%20protecting%20bike%20lanes%22%2C%20%22a2_info_proj_loc%22%3A%20%2240th%20Street%20and%20Shellmound%20Street%20from%20Adeline%20Street%20to%20Bay%20Bridge%20Trail%2C%20crossing%20San%20Pablo%20Avenue%2C%20on%20Transbay%20bus%20route%20to%20Bay%20Bridge%20to%20San%20Francisco%22%2C%20%22a2_info_proj_name%22%3A%20%2240th%20Street%20Protected%20Bikeway%20and%20Pedestrian%20Improvements%22%2C%20%22a2_mop_uza_population%22%3A%20%22Project%20is%20located%20within%20one%20of%20the%20ten%20large%20MPOs%22%2C%20%22a2_mpo%22%3A%20%22MTC%22%2C%20%22a2_proj_lat%22%3A%2037.831318%2C%20%22a2_proj_long%22%3A%20-122.265348%2C%20%22a3_proj_type%22%3A%20%22Infrastructure%20-%20Large%22%2C%20%22assembly_district%22%3A%2015%2C%20%22awarded%22%3A%20%22N%22%2C%20%22congressional_district%22%3A%2013%2C%20%22data_origin%22%3A%20%22Application%22%2C%20%22project_app_id%22%3A%20%224-Emeryville%2C%20City%20of-2%22%2C%20%22project_cycle%22%3A%205%2C%20%22senate_district%22%3A%209%2C%20%22total_atp_%24%22%3A%20null%7D%2C%20%22type%22%3A%20%22Feature%22%7D%2C%20%7B%22bbox%22%3A%20%5B-122.236344%2C%2037.786212%2C%20-122.236344%2C%2037.786212%5D%2C%20%22geometry%22%3A%20%7B%22coordinates%22%3A%20%5B-122.236344%2C%2037.786212%5D%2C%20%22type%22%3A%20%22Point%22%7D%2C%20%22id%22%3A%20%22100%22%2C%20%22properties%22%3A%20%7B%22__folium_color%22%3A%20%22%23393b79%22%2C%20%22a1_imp_agcy_city%22%3A%20%22Oakland%22%2C%20%22a1_imp_agcy_name%22%3A%20%22Oakland%2C%20City%20of%22%2C%20%22a1_imp_agcy_street%22%3A%20%22250%20Frank%20H.%20Ogawa%20Plaza%2C%204th%20Floor%22%2C%20%22a1_proj_partner_agcy%22%3A%20null%2C%20%22a2_county%22%3A%20%22Alameda%22%2C%20%22a2_info_proj_descr%22%3A%20%22PS%5Cu0026E%20and%20construction%20funding%20for%20traffic%20signal%20modernization%20and%20a%20concrete%20median%20refuge.%22%2C%20%22a2_info_proj_loc%22%3A%20%22Foothill%20Boulevard%20at%20the%20intersections%20with%2022nd%20Avenue%20and%20Munson%20Way%22%2C%20%22a2_info_proj_name%22%3A%20%22Garfield%20Elementary%20Safe%20Routes%20to%20School%22%2C%20%22a2_mop_uza_population%22%3A%20%22Project%20is%20located%20within%20one%20of%20the%20ten%20large%20MPOs%22%2C%20%22a2_mpo%22%3A%20%22MTC%22%2C%20%22a2_proj_lat%22%3A%2037.786212%2C%20%22a2_proj_long%22%3A%20-122.236344%2C%20%22a3_proj_type%22%3A%20%22Infrastructure%20-%20Small%22%2C%20%22assembly_district%22%3A%2018%2C%20%22awarded%22%3A%20%22N%22%2C%20%22congressional_district%22%3A%2013%2C%20%22data_origin%22%3A%20%22Application%22%2C%20%22project_app_id%22%3A%20%224-Oakland%2C%20City%20of-4%22%2C%20%22project_cycle%22%3A%205%2C%20%22senate_district%22%3A%209%2C%20%22total_atp_%24%22%3A%20null%7D%2C%20%22type%22%3A%20%22Feature%22%7D%2C%20%7B%22bbox%22%3A%20%5B-122.8731%2C%2038.6325%2C%20-122.8731%2C%2038.6325%5D%2C%20%22geometry%22%3A%20%7B%22coordinates%22%3A%20%5B-122.8731%2C%2038.6325%5D%2C%20%22type%22%3A%20%22Point%22%7D%2C%20%22id%22%3A%20%22292%22%2C%20%22properties%22%3A%20%7B%22__folium_color%22%3A%20%22%23393b79%22%2C%20%22a1_imp_agcy_city%22%3A%20%22Healdsburg%22%2C%20%22a1_imp_agcy_name%22%3A%20%22Healdsburg%2C%20City%20of%22%2C%20%22a1_imp_agcy_street%22%3A%20%22401%20Grove%20Street%22%2C%20%22a1_proj_partner_agcy%22%3A%20null%2C%20%22a2_county%22%3A%20%22Sonoma%22%2C%20%22a2_info_proj_descr%22%3A%20%22PA%5Cu0026ED%2C%20ROW%2C%20PS%5Cu0026E%2C%20and%20CON%20funding%20to%20implement%20a%20road%20diet%20and%20construct%20bicycle%2C%20pedestrian%2C%20and%20transit%20improvements%20on%20Healdsburg%20Avenue.%22%2C%20%22a2_info_proj_loc%22%3A%20%22Healdsburg%20Avenue%20between%20Powell%20Avenue%20and%20the%20Foss%20Creek%20bridge%201/4%20mile%20south%20of%20Passalacqua%20Road%2C%20having%20a%20total%20project%20length%20of%201-1/2%20mile.%22%2C%20%22a2_info_proj_name%22%3A%20%22Healdsburg%20Avenue%20Complete%20Streets%20Project%22%2C%20%22a2_mop_uza_population%22%3A%20%22Project%20is%20located%20within%20one%20of%20the%20ten%20large%20MPOs%22%2C%20%22a2_mpo%22%3A%20%22MTC%22%2C%20%22a2_proj_lat%22%3A%2038.6325%2C%20%22a2_proj_long%22%3A%20-122.8731%2C%20%22a3_proj_type%22%3A%20%22Infrastructure%20-%20Large%22%2C%20%22assembly_district%22%3A%20%2202%22%2C%20%22awarded%22%3A%20%22N%22%2C%20%22congressional_district%22%3A%20%2202%22%2C%20%22data_origin%22%3A%20%22Application%22%2C%20%22project_app_id%22%3A%20%224-Healdsburg%2C%20City%20of-1%22%2C%20%22project_cycle%22%3A%205%2C%20%22senate_district%22%3A%20%2202%22%2C%20%22total_atp_%24%22%3A%20null%7D%2C%20%22type%22%3A%20%22Feature%22%7D%2C%20%7B%22bbox%22%3A%20%5B-122.2654%2C%2038.5025%2C%20-122.2654%2C%2038.5025%5D%2C%20%22geometry%22%3A%20%7B%22coordinates%22%3A%20%5B-122.2654%2C%2038.5025%5D%2C%20%22type%22%3A%20%22Point%22%7D%2C%20%22id%22%3A%20%22209%22%2C%20%22properties%22%3A%20%7B%22__folium_color%22%3A%20%22%23393b79%22%2C%20%22a1_imp_agcy_city%22%3A%20%22Napa%22%2C%20%22a1_imp_agcy_name%22%3A%20%22Napa%20County%20Office%20of%20Education%22%2C%20%22a1_imp_agcy_street%22%3A%20%222121%20Imola%20Ave.%22%2C%20%22a1_proj_partner_agcy%22%3A%20null%2C%20%22a2_county%22%3A%20%22Napa%22%2C%20%22a2_info_proj_descr%22%3A%20%22Napa%20SRTS%20will%20provide%20county-wide%20education%20and%20encouragement%20to%20support%20activity%20transportation%2C%20with%20targeted%20support%20and%20intensive%20activities%20offered%20at%205%20highest-need%20schools.%22%2C%20%22a2_info_proj_loc%22%3A%20%22Project%20is%20located%20in%20Napa%20County.%20Majority%20of%20project%20will%20be%20conducted%20in%20Calistoga%20and%20the%20city%20of%20Napa%20at%20the%20five%20disadvantaged%20schools%20described.%20%22%2C%20%22a2_info_proj_name%22%3A%20%22Napa%20County%20Safe%20Routes%20to%20School%20Program%22%2C%20%22a2_mop_uza_population%22%3A%20%22Project%20is%20located%20within%20one%20of%20the%20ten%20large%20MPOs%22%2C%20%22a2_mpo%22%3A%20%22MTC%22%2C%20%22a2_proj_lat%22%3A%2038.5025%2C%20%22a2_proj_long%22%3A%20-122.2654%2C%20%22a3_proj_type%22%3A%20%22Non-Infrastructure%22%2C%20%22assembly_district%22%3A%204%2C%20%22awarded%22%3A%20%22N%22%2C%20%22congressional_district%22%3A%205%2C%20%22data_origin%22%3A%20%22Application%22%2C%20%22project_app_id%22%3A%20%224-Napa%20County%20Office%20of%20Education-1%22%2C%20%22project_cycle%22%3A%205%2C%20%22senate_district%22%3A%203%2C%20%22total_atp_%24%22%3A%20null%7D%2C%20%22type%22%3A%20%22Feature%22%7D%2C%20%7B%22bbox%22%3A%20%5B-122.399397%2C%2038.433407%2C%20-122.399397%2C%2038.433407%5D%2C%20%22geometry%22%3A%20%7B%22coordinates%22%3A%20%5B-122.399397%2C%2038.433407%5D%2C%20%22type%22%3A%20%22Point%22%7D%2C%20%22id%22%3A%20%22185%22%2C%20%22properties%22%3A%20%7B%22__folium_color%22%3A%20%22%23393b79%22%2C%20%22a1_imp_agcy_city%22%3A%20%22Napa%22%2C%20%22a1_imp_agcy_name%22%3A%20%22Napa%20County%22%2C%20%22a1_imp_agcy_street%22%3A%20%221195%20Third%20Street%20Suite%20101%22%2C%20%22a1_proj_partner_agcy%22%3A%20null%2C%20%22a2_county%22%3A%20%22Napa%22%2C%20%22a2_info_proj_descr%22%3A%20%22The%20project%20consists%20of%20an%208.06%20mile%20ADA%20compliant%20shared%20use%20path%2C%202%20at-grade%20crossings%20of%20SR%2029%20%28one%20modification%20%2B%20one%20new%29%2C%20safety%20barriers%2C%20bicycle%20amenities%20%5Cu0026%20tree%20planting.%22%2C%20%22a2_info_proj_loc%22%3A%20%22The%20project%20is%20located%20in%20the%20unincorporated%20area%20of%20Napa%20Valley%20between%20Madison%20Street%20in%20the%20the%20Town%20of%20Yountville%20and%20the%20City%20of%20St%20Helena%20city%20limits.%22%2C%20%22a2_info_proj_name%22%3A%20%22Napa%20Valley%20Vine%20Trail%20Yountville%20to%20St%20Helena%20Gap%20Closure%22%2C%20%22a2_mop_uza_population%22%3A%20%22Project%20is%20located%20within%20one%20of%20the%20ten%20large%20MPOs%22%2C%20%22a2_mpo%22%3A%20%22MTC%22%2C%20%22a2_proj_lat%22%3A%2038.433407%2C%20%22a2_proj_long%22%3A%20-122.399397%2C%20%22a3_proj_type%22%3A%20%22Infrastructure%20-%20Large%22%2C%20%22assembly_district%22%3A%204%2C%20%22awarded%22%3A%20%22N%22%2C%20%22congressional_district%22%3A%205%2C%20%22data_origin%22%3A%20%22Application%22%2C%20%22project_app_id%22%3A%20%224-Napa%20County-1%22%2C%20%22project_cycle%22%3A%205%2C%20%22senate_district%22%3A%203%2C%20%22total_atp_%24%22%3A%20null%7D%2C%20%22type%22%3A%20%22Feature%22%7D%2C%20%7B%22bbox%22%3A%20%5B-121.5683%2C%2037.0058%2C%20-121.5683%2C%2037.0058%5D%2C%20%22geometry%22%3A%20%7B%22coordinates%22%3A%20%5B-121.5683%2C%2037.0058%5D%2C%20%22type%22%3A%20%22Point%22%7D%2C%20%22id%22%3A%20%2214%22%2C%20%22properties%22%3A%20%7B%22__folium_color%22%3A%20%22%23de9ed6%22%2C%20%22a1_imp_agcy_city%22%3A%20%22San%20Jose%22%2C%20%22a1_imp_agcy_name%22%3A%20%22Santa%20Clara%20County%22%2C%20%22a1_imp_agcy_street%22%3A%20%2270%20W%20Hedding%22%2C%20%22a1_proj_partner_agcy%22%3A%20null%2C%20%22a2_county%22%3A%20%22Santa%20Clara%22%2C%20%22a2_info_proj_descr%22%3A%20%22Non-infrastructure%206%20E%5Cu2019s%20project%20linking%20key%20community%20hubs%20via%20promotion%20of%20active%20transportation%20and%20providing%20SRTS%20technical%20assistance%20to%20schools%20in%20Gilroy%2C%20CA%22%2C%20%22a2_info_proj_loc%22%3A%20%22Location%20is%20the%20City%20of%20Gilroy%2C%20particularly%20focusing%20on%20East%20Gilroy%20neighborhood%2C%20along%20routes%20linking%20transit%2C%20health%20center%2C%20civic%20center%2C%20parks%2C%20faith%20center%2C%20and%20schools%22%2C%20%22a2_info_proj_name%22%3A%20%22Active%20and%20Safe%20Routes%20to%20a%20Healthier%20City%20%22%2C%20%22a2_mop_uza_population%22%3A%20%22Project%20is%20located%20within%20one%20of%20the%20ten%20large%20MPOs%22%2C%20%22a2_mpo%22%3A%20%22MTC%22%2C%20%22a2_proj_lat%22%3A%2037.0058%2C%20%22a2_proj_long%22%3A%20-121.5683%2C%20%22a3_proj_type%22%3A%20null%2C%20%22assembly_district%22%3A%2030%2C%20%22awarded%22%3A%20%22Y%22%2C%20%22congressional_district%22%3A%20%2219%2C%2020%22%2C%20%22data_origin%22%3A%20%22Funded%22%2C%20%22project_app_id%22%3A%20%224-Santa%20Clara%20County-1%22%2C%20%22project_cycle%22%3A%205.0%2C%20%22senate_district%22%3A%2017%2C%20%22total_atp_%24%22%3A%202510000.0%7D%2C%20%22type%22%3A%20%22Feature%22%7D%2C%20%7B%22bbox%22%3A%20%5B-121.941956%2C%2038.024157%2C%20-121.941956%2C%2038.024157%5D%2C%20%22geometry%22%3A%20%7B%22coordinates%22%3A%20%5B-121.941956%2C%2038.024157%5D%2C%20%22type%22%3A%20%22Point%22%7D%2C%20%22id%22%3A%20%2229%22%2C%20%22properties%22%3A%20%7B%22__folium_color%22%3A%20%22%23de9ed6%22%2C%20%22a1_imp_agcy_city%22%3A%20%22Martinez%22%2C%20%22a1_imp_agcy_name%22%3A%20%22Contra%20Costa%20County%22%2C%20%22a1_imp_agcy_street%22%3A%20%22255%20Glacier%20Drive%22%2C%20%22a1_proj_partner_agcy%22%3A%20null%2C%20%22a2_county%22%3A%20%22Contra%20Costa%22%2C%20%22a2_info_proj_descr%22%3A%20%22Construct%20two-way%20cycle%20track%2C%20ADA-compliant%20curb%20ramps%2C%20ADA-accessible%20sidewalks%2C%20traffic%20signal%2C%20and%20reconfigure%20travel%20lanes%20on%20Bailey%20Road%20between%20Willow%20Pass%20and%20Canal%20Roads.%22%2C%20%22a2_info_proj_loc%22%3A%20%22Bailey%20Road%20in%20unincorporated%20Bay%20Point%2C%20bounded%20by%20Willow%20Pass%20Road%20to%20the%20north%20and%20Canal%20Road%20on%20the%20south.%22%2C%20%22a2_info_proj_name%22%3A%20%22North%20Bailey%20Road%20Active%20Transportation%20Corridor%22%2C%20%22a2_mop_uza_population%22%3A%20%22Project%20is%20located%20within%20one%20of%20the%20ten%20large%20MPOs%22%2C%20%22a2_mpo%22%3A%20%22MTC%22%2C%20%22a2_proj_lat%22%3A%2038.024157%2C%20%22a2_proj_long%22%3A%20-121.941956%2C%20%22a3_proj_type%22%3A%20null%2C%20%22assembly_district%22%3A%2014%2C%20%22awarded%22%3A%20%22Y%22%2C%20%22congressional_district%22%3A%2011%2C%20%22data_origin%22%3A%20%22Funded%22%2C%20%22project_app_id%22%3A%20%224-Contra%20Costa%20County-2%22%2C%20%22project_cycle%22%3A%205.0%2C%20%22senate_district%22%3A%207%2C%20%22total_atp_%24%22%3A%206159000.0%7D%2C%20%22type%22%3A%20%22Feature%22%7D%2C%20%7B%22bbox%22%3A%20%5B-122.305255%2C%2037.552069%2C%20-122.305255%2C%2037.552069%5D%2C%20%22geometry%22%3A%20%7B%22coordinates%22%3A%20%5B-122.305255%2C%2037.552069%5D%2C%20%22type%22%3A%20%22Point%22%7D%2C%20%22id%22%3A%20%22154%22%2C%20%22properties%22%3A%20%7B%22__folium_color%22%3A%20%22%23393b79%22%2C%20%22a1_imp_agcy_city%22%3A%20%22San%20Mateo%22%2C%20%22a1_imp_agcy_name%22%3A%20%22San%20Mateo%2C%20City%20of%22%2C%20%22a1_imp_agcy_street%22%3A%20%22330%20W.%2020th%20Avenue%22%2C%20%22a1_proj_partner_agcy%22%3A%20null%2C%20%22a2_county%22%3A%20%22San%20Mateo%22%2C%20%22a2_info_proj_descr%22%3A%20%22PS%5Cu0026E%2C%20ROW%2C%20CON%20funding%20for%20design/construction%20of%20Class%20IV%20separated%20bike%20lanes%20and%20bicycle%20boulevard%2C%20upgrade%20pedestrian%20facilities%2C%20and%20connections%20to%20existing%20facilities.%22%2C%20%22a2_info_proj_loc%22%3A%20%22The%20project%20extents%20are%20South%20Delaware%20Street%20from%2019th%20Avenue%20to%20Pacific%20Boulevard.%20%22%2C%20%22a2_info_proj_name%22%3A%20%22Delaware%20Street%20Safe%20Routes%20to%20School%20Corridor%22%2C%20%22a2_mop_uza_population%22%3A%20%22Project%20is%20located%20within%20one%20of%20the%20ten%20large%20MPOs%22%2C%20%22a2_mpo%22%3A%20%22MTC%22%2C%20%22a2_proj_lat%22%3A%2037.552069%2C%20%22a2_proj_long%22%3A%20-122.305255%2C%20%22a3_proj_type%22%3A%20%22Infrastructure%20-%20Small%22%2C%20%22assembly_district%22%3A%2022%2C%20%22awarded%22%3A%20%22N%22%2C%20%22congressional_district%22%3A%2014%2C%20%22data_origin%22%3A%20%22Application%22%2C%20%22project_app_id%22%3A%20%224-San%20Mateo%2C%20City%20of-1%22%2C%20%22project_cycle%22%3A%205%2C%20%22senate_district%22%3A%2013%2C%20%22total_atp_%24%22%3A%20null%7D%2C%20%22type%22%3A%20%22Feature%22%7D%2C%20%7B%22bbox%22%3A%20%5B-122.51269%2C%2037.968298%2C%20-122.51269%2C%2037.968298%5D%2C%20%22geometry%22%3A%20%7B%22coordinates%22%3A%20%5B-122.51269%2C%2037.968298%5D%2C%20%22type%22%3A%20%22Point%22%7D%2C%20%22id%22%3A%20%22443%22%2C%20%22properties%22%3A%20%7B%22__folium_color%22%3A%20%22%23393b79%22%2C%20%22a1_imp_agcy_city%22%3A%20%22San%20Rafael%22%2C%20%22a1_imp_agcy_name%22%3A%20%22San%20Rafael%2C%20City%20of%22%2C%20%22a1_imp_agcy_street%22%3A%20%22111%20Morphew%20Street%22%2C%20%22a1_proj_partner_agcy%22%3A%20null%2C%20%22a2_county%22%3A%20%22Marin%22%2C%20%22a2_info_proj_descr%22%3A%20%22Ped/bike%20crossing%20of%20San%20Rafael%20Canal%20between%20Canal%20Street%20in%20San%20Rafael%5Cu2019s%20Canal%20neighborhood%20and%20Third%20Street%3B%20and%20bike%20boulevard%20treatments%20on%20Canal%20St%20and%20Harbor%20Street%22%2C%20%22a2_info_proj_loc%22%3A%20%22Crossing%20between%20Canal%20Street%20in%20San%20Rafael%5Cu2019s%20Canal%20neighborhood%20and%20Third%20Street%20in%20San%20Rafael%3B%20also%20on%20Canal%20and%20Harbor%20Streets%20in%20San%20Rafael.%22%2C%20%22a2_info_proj_name%22%3A%20%22San%20Rafael%20Canal%20Crossing%20Project%22%2C%20%22a2_mop_uza_population%22%3A%20%22Project%20is%20located%20within%20one%20of%20the%20ten%20large%20MPOs%22%2C%20%22a2_mpo%22%3A%20%22MTC%22%2C%20%22a2_proj_lat%22%3A%2037.968298%2C%20%22a2_proj_long%22%3A%20-122.51269%2C%20%22a3_proj_type%22%3A%20%22Infrastructure%20-%20Large%22%2C%20%22assembly_district%22%3A%2010%2C%20%22awarded%22%3A%20%22N%22%2C%20%22congressional_district%22%3A%202%2C%20%22data_origin%22%3A%20%22Application%22%2C%20%22project_app_id%22%3A%20%224-San%20Rafael%2C%20City%20of-1%22%2C%20%22project_cycle%22%3A%205%2C%20%22senate_district%22%3A%202%2C%20%22total_atp_%24%22%3A%20null%7D%2C%20%22type%22%3A%20%22Feature%22%7D%2C%20%7B%22bbox%22%3A%20%5B-121.9669%2C%2037.78049%2C%20-121.9669%2C%2037.78049%5D%2C%20%22geometry%22%3A%20%7B%22coordinates%22%3A%20%5B-121.9669%2C%2037.78049%5D%2C%20%22type%22%3A%20%22Point%22%7D%2C%20%22id%22%3A%20%22255%22%2C%20%22properties%22%3A%20%7B%22__folium_color%22%3A%20%22%23393b79%22%2C%20%22a1_imp_agcy_city%22%3A%20%22San%20Ramon%22%2C%20%22a1_imp_agcy_name%22%3A%20%22San%20Ramon%2C%20City%20of%22%2C%20%22a1_imp_agcy_street%22%3A%20%227000%20Bollinger%20Canyon%20Road%22%2C%20%22a1_proj_partner_agcy%22%3A%20null%2C%20%22a2_county%22%3A%20%22Contra%20Costa%22%2C%20%22a2_info_proj_descr%22%3A%20%22RTP%20ID%3A%2017-02-0003%20%20%20%20%20%20%20%20%5CrBicycle%20and%20Pedestrian%20Program%20-%20Contra%20Costa%20County%20%20%20%20%20%20%20%20%20%20%20%20%20%20%20%20%20%20%20%20%20%20%20%20%20%20%20%20%5Cr%22%2C%20%22a2_info_proj_loc%22%3A%20%22This%20project%20is%20located%20in%20the%20City%20of%20San%20Ramon%20at%20the%20intersection%20of%20the%20Iron%20Horse%20Regional%20Trail%20and%20Crow%20Canyon%20Road%22%2C%20%22a2_info_proj_name%22%3A%20%22Iron%20Horse%20Trail%20Bicycle%20and%20Pedestrian%20Overcrossing%20Crow%20Canyon%20Road%22%2C%20%22a2_mop_uza_population%22%3A%20%22Project%20is%20located%20within%20one%20of%20the%20ten%20large%20MPOs%22%2C%20%22a2_mpo%22%3A%20%22MTC%22%2C%20%22a2_proj_lat%22%3A%2037.78049%2C%20%22a2_proj_long%22%3A%20-121.9669%2C%20%22a3_proj_type%22%3A%20%22Infrastructure%20-%20Large%22%2C%20%22assembly_district%22%3A%2016%2C%20%22awarded%22%3A%20%22N%22%2C%20%22congressional_district%22%3A%2015%2C%20%22data_origin%22%3A%20%22Application%22%2C%20%22project_app_id%22%3A%20%224-San%20Ramon%2C%20City%20of-1%22%2C%20%22project_cycle%22%3A%205%2C%20%22senate_district%22%3A%207%2C%20%22total_atp_%24%22%3A%20null%7D%2C%20%22type%22%3A%20%22Feature%22%7D%2C%20%7B%22bbox%22%3A%20%5B-122.23%2C%2038.07%2C%20-122.23%2C%2038.07%5D%2C%20%22geometry%22%3A%20%7B%22coordinates%22%3A%20%5B-122.23%2C%2038.07%5D%2C%20%22type%22%3A%20%22Point%22%7D%2C%20%22id%22%3A%20%22372%22%2C%20%22properties%22%3A%20%7B%22__folium_color%22%3A%20%22%23393b79%22%2C%20%22a1_imp_agcy_city%22%3A%20%22Vallejo%22%2C%20%22a1_imp_agcy_name%22%3A%20%22Vallejo%2C%20City%20of%22%2C%20%22a1_imp_agcy_street%22%3A%20%22555%20Santa%20Clara%20St%22%2C%20%22a1_proj_partner_agcy%22%3A%20null%2C%20%22a2_county%22%3A%20%22Solano%22%2C%20%22a2_info_proj_descr%22%3A%20%22A%20recreational%20trail%20of%20approximately%201.97%20miles%20in%20length%20traversing%20steep%20terrain%20that%20will%20require%20the%20construction%20of%20retaining%20walls%20and%20potentially%20two%20pedestrian%20bridges.%22%2C%20%22a2_info_proj_loc%22%3A%20%22From%20intersection%20of%20Sequoia%20Avenue%20and%20Lincoln%20Road%20East%20on%20the%20east%20side%20of%20I-80%2C%20along%20east%20side%20of%20I-80%20exit%20ramp%20south%20to%20existing%20Bay%20Ridge%20Trail.%22%2C%20%22a2_info_proj_name%22%3A%20%22Vallejo%20Bluff%20Trail%20Phase%201%22%2C%20%22a2_mop_uza_population%22%3A%20%22Project%20is%20located%20within%20one%20of%20the%20ten%20large%20MPOs%22%2C%20%22a2_mpo%22%3A%20%22MTC%22%2C%20%22a2_proj_lat%22%3A%2038.07%2C%20%22a2_proj_long%22%3A%20-122.23%2C%20%22a3_proj_type%22%3A%20%22Infrastructure%20-%20Medium%22%2C%20%22assembly_district%22%3A%20%22Needs%20Manual%20Assistance%22%2C%20%22awarded%22%3A%20%22N%22%2C%20%22congressional_district%22%3A%205%2C%20%22data_origin%22%3A%20%22Application%22%2C%20%22project_app_id%22%3A%20%224-Vallejo%2C%20City%20of-1%22%2C%20%22project_cycle%22%3A%205%2C%20%22senate_district%22%3A%203%2C%20%22total_atp_%24%22%3A%20null%7D%2C%20%22type%22%3A%20%22Feature%22%7D%2C%20%7B%22bbox%22%3A%20%5B-122.726023%2C%2038.455895%2C%20-122.726023%2C%2038.455895%5D%2C%20%22geometry%22%3A%20%7B%22coordinates%22%3A%20%5B-122.726023%2C%2038.455895%5D%2C%20%22type%22%3A%20%22Point%22%7D%2C%20%22id%22%3A%20%22341%22%2C%20%22properties%22%3A%20%7B%22__folium_color%22%3A%20%22%23393b79%22%2C%20%22a1_imp_agcy_city%22%3A%20%22SANTA%20ROSA%22%2C%20%22a1_imp_agcy_name%22%3A%20%22Santa%20Rosa%2C%20City%20of%22%2C%20%22a1_imp_agcy_street%22%3A%20%2269%20STONY%20CIRCLE%22%2C%20%22a1_proj_partner_agcy%22%3A%20null%2C%20%22a2_county%22%3A%20%22Sonoma%22%2C%20%22a2_info_proj_descr%22%3A%20%22Construct%20a%20Class%20I%20ADA%20accessible%20and%20mode-separated%20bicycle%20and%20pedestrian%20overcrossing%20of%20US-101%2C%20including%20new%20crosswalk%2C%20curb%20ramps%2C%20and%20pedestrian%20lighting.%22%2C%20%22a2_info_proj_loc%22%3A%20%22In%20the%20City%20of%20Santa%20Rosa%2C%20Sonoma%20County%2C%20over%20US-101%2C%20north%20of%20College%20Avenue%20near%20Santa%20Rosa%20Junior%20College%2C%20Santa%20Rosa%20High%20School%2C%20and%20Coddingtown%20Mall.%22%2C%20%22a2_info_proj_name%22%3A%20%22Santa%20Rosa%20US%20Highway%20101%20Bicycle%20and%20Pedestrian%20Overcrossing%22%2C%20%22a2_mop_uza_population%22%3A%20%22Project%20is%20located%20within%20one%20of%20the%20ten%20large%20MPOs%22%2C%20%22a2_mpo%22%3A%20%22MTC%22%2C%20%22a2_proj_lat%22%3A%2038.455895%2C%20%22a2_proj_long%22%3A%20-122.726023%2C%20%22a3_proj_type%22%3A%20%22Infrastructure%20-%20Large%22%2C%20%22assembly_district%22%3A%202%2C%20%22awarded%22%3A%20%22N%22%2C%20%22congressional_district%22%3A%205%2C%20%22data_origin%22%3A%20%22Application%22%2C%20%22project_app_id%22%3A%20%224-Santa%20Rosa%2C%20City%20of-1%22%2C%20%22project_cycle%22%3A%205%2C%20%22senate_district%22%3A%202%2C%20%22total_atp_%24%22%3A%20null%7D%2C%20%22type%22%3A%20%22Feature%22%7D%2C%20%7B%22bbox%22%3A%20%5B-122.718606%2C%2038.394457%2C%20-122.718606%2C%2038.394457%5D%2C%20%22geometry%22%3A%20%7B%22coordinates%22%3A%20%5B-122.718606%2C%2038.394457%5D%2C%20%22type%22%3A%20%22Point%22%7D%2C%20%22id%22%3A%20%22304%22%2C%20%22properties%22%3A%20%7B%22__folium_color%22%3A%20%22%23393b79%22%2C%20%22a1_imp_agcy_city%22%3A%20%22Santa%20Rosa%22%2C%20%22a1_imp_agcy_name%22%3A%20%22Sonoma%20County%22%2C%20%22a1_imp_agcy_street%22%3A%20%222300%20County%20Center%20Drive%2C%20Suite%20B100%22%2C%20%22a1_proj_partner_agcy%22%3A%20null%2C%20%22a2_county%22%3A%20%22Sonoma%22%2C%20%22a2_info_proj_descr%22%3A%20%22Construct%20sidewalks%2C%20construct%20trail%20segment%2C%20install%20enhanced%20crosswalks%20and%20signage%2C%20deliver%20community-led%20SRTS%20program%20at%20Bellevue%20Elementary.%22%2C%20%22a2_info_proj_loc%22%3A%20%22Moorland%20Ave.%20%28Todd%20Rd.%20to%20Bellevue%20Ave.%29%2C%20W.%20Robles%20Ave.%20%28Moorland%20to%20Juniper%20Ave.%29%2C%20County%20right-of-way%20%28W.%20Robles%20to%20Oasis%20Dr.%29%2C%20Oasis%20%28Juniper%20Ave.%20to%20Primrose%20Dr.%29%22%2C%20%22a2_info_proj_name%22%3A%20%22Moorland%20Pedestrian%20and%20School%20Access%22%2C%20%22a2_mop_uza_population%22%3A%20%22Project%20is%20located%20within%20one%20of%20the%20ten%20large%20MPOs%22%2C%20%22a2_mpo%22%3A%20%22MTC%22%2C%20%22a2_proj_lat%22%3A%2038.394457%2C%20%22a2_proj_long%22%3A%20-122.718606%2C%20%22a3_proj_type%22%3A%20%22Infrastructure%20%2B%20NI%20-%20Medium%22%2C%20%22assembly_district%22%3A%201%2C%20%22awarded%22%3A%20%22N%22%2C%20%22congressional_district%22%3A%205%2C%20%22data_origin%22%3A%20%22Application%22%2C%20%22project_app_id%22%3A%20%224-Sonoma%20County-1%22%2C%20%22project_cycle%22%3A%205%2C%20%22senate_district%22%3A%202%2C%20%22total_atp_%24%22%3A%20null%7D%2C%20%22type%22%3A%20%22Feature%22%7D%2C%20%7B%22bbox%22%3A%20%5B-122.43628%2C%2037.671712%2C%20-122.43628%2C%2037.671712%5D%2C%20%22geometry%22%3A%20%7B%22coordinates%22%3A%20%5B-122.43628%2C%2037.671712%5D%2C%20%22type%22%3A%20%22Point%22%7D%2C%20%22id%22%3A%20%22365%22%2C%20%22properties%22%3A%20%7B%22__folium_color%22%3A%20%22%23393b79%22%2C%20%22a1_imp_agcy_city%22%3A%20%22South%20San%20Francisco%22%2C%20%22a1_imp_agcy_name%22%3A%20%22South%20San%20Francisco%2C%20City%20of%22%2C%20%22a1_imp_agcy_street%22%3A%20%22315%20Maple%20Avenue%22%2C%20%22a1_proj_partner_agcy%22%3A%20null%2C%20%22a2_county%22%3A%20%22San%20Mateo%22%2C%20%22a2_info_proj_descr%22%3A%20%22Signalize%20intersection%20of%20Hillside%20and%20Lincoln%3B%20add%20protected%20crossings%20and%20sidewalk%20improvements%3B%20provide%20separated%20bike%20lanes%20on%20Hillside%20from%20Lawndale%20to%20Lincoln%3B%20extend%20trail%22%2C%20%22a2_info_proj_loc%22%3A%20%22Hillside%20Blvd%20from%20Lawndale%20Blvd%20to%20Lincoln%20St%2C%20South%20San%20Francisco%2C%20CA%3B%20traffic%20signal%20at%20intersection%20of%20Hillside%20at%20Lincoln%20St%3B%20trail%20and%20sidewalk%20connections%20near%20Lincoln%20St%22%2C%20%22a2_info_proj_name%22%3A%20%22Hillside%20and%20Lincoln%20Traffic%20Improvement%20Project%22%2C%20%22a2_mop_uza_population%22%3A%20%22Project%20is%20located%20within%20one%20of%20the%20ten%20large%20MPOs%22%2C%20%22a2_mpo%22%3A%20%22MTC%22%2C%20%22a2_proj_lat%22%3A%2037.671712%2C%20%22a2_proj_long%22%3A%20-122.43628%2C%20%22a3_proj_type%22%3A%20%22Infrastructure%20-%20Medium%22%2C%20%22assembly_district%22%3A%2022%2C%20%22awarded%22%3A%20%22N%22%2C%20%22congressional_district%22%3A%2014%2C%20%22data_origin%22%3A%20%22Application%22%2C%20%22project_app_id%22%3A%20%224-South%20San%20Francisco%2C%20City%20of-1%22%2C%20%22project_cycle%22%3A%205%2C%20%22senate_district%22%3A%2013%2C%20%22total_atp_%24%22%3A%20null%7D%2C%20%22type%22%3A%20%22Feature%22%7D%2C%20%7B%22bbox%22%3A%20%5B-122.022129%2C%2037.980568%2C%20-122.022129%2C%2037.980568%5D%2C%20%22geometry%22%3A%20%7B%22coordinates%22%3A%20%5B-122.022129%2C%2037.980568%5D%2C%20%22type%22%3A%20%22Point%22%7D%2C%20%22id%22%3A%20%22233%22%2C%20%22properties%22%3A%20%7B%22__folium_color%22%3A%20%22%23393b79%22%2C%20%22a1_imp_agcy_city%22%3A%20%22Concord%22%2C%20%22a1_imp_agcy_name%22%3A%20%22Concord%2C%20City%20of%22%2C%20%22a1_imp_agcy_street%22%3A%20%221950%20Parkside%20Drive%22%2C%20%22a1_proj_partner_agcy%22%3A%20null%2C%20%22a2_county%22%3A%20%22Contra%20Costa%22%2C%20%22a2_info_proj_descr%22%3A%20%22This%20project%20will%20implement%20critical%20bicycle%20linkages%20between%20multiple%20Concord%20schools%2C%20surrounding%20neighborhoods%2C%20and%20existing%20BART%20station%2C%20and%20improve%20pedestrian%20safety.%22%2C%20%22a2_info_proj_loc%22%3A%20%22This%20project%20is%20located%20in%20and%20adjacent%20to%20Downtown%20Concord%20in%20Contra%20Costa%20County%20west%20of%20Highway%20242%20on%20Willow%20Pass%20Road%2C%20Parkside%20Drive%2C%20Salvio%20Street%2C%20and%20Grant%20Street.%22%2C%20%22a2_info_proj_name%22%3A%20%22Willow%20Pass/Parkside/Salvio%20Bikeways%20Connection%20Project%22%2C%20%22a2_mop_uza_population%22%3A%20%22Project%20is%20located%20within%20one%20of%20the%20ten%20large%20MPOs%22%2C%20%22a2_mpo%22%3A%20%22MTC%22%2C%20%22a2_proj_lat%22%3A%2037.980568%2C%20%22a2_proj_long%22%3A%20-122.022129%2C%20%22a3_proj_type%22%3A%20%22Infrastructure%20-%20Medium%22%2C%20%22assembly_district%22%3A%2014%2C%20%22awarded%22%3A%20%22N%22%2C%20%22congressional_district%22%3A%2011%2C%20%22data_origin%22%3A%20%22Application%22%2C%20%22project_app_id%22%3A%20%224-Concord%2C%20City%20of-1%22%2C%20%22project_cycle%22%3A%205%2C%20%22senate_district%22%3A%207%2C%20%22total_atp_%24%22%3A%20null%7D%2C%20%22type%22%3A%20%22Feature%22%7D%2C%20%7B%22bbox%22%3A%20%5B-122.301221%2C%2037.973786%2C%20-122.301221%2C%2037.973786%5D%2C%20%22geometry%22%3A%20%7B%22coordinates%22%3A%20%5B-122.301221%2C%2037.973786%5D%2C%20%22type%22%3A%20%22Point%22%7D%2C%20%22id%22%3A%20%22269%22%2C%20%22properties%22%3A%20%7B%22__folium_color%22%3A%20%22%23393b79%22%2C%20%22a1_imp_agcy_city%22%3A%20%22Martinez%22%2C%20%22a1_imp_agcy_name%22%3A%20%22Contra%20Costa%20County%22%2C%20%22a1_imp_agcy_street%22%3A%20%22255%20Glacier%20Drive%22%2C%20%22a1_proj_partner_agcy%22%3A%20null%2C%20%22a2_county%22%3A%20%22Contra%20Costa%22%2C%20%22a2_info_proj_descr%22%3A%20%22Construct%20pedestrian%20crossing%20safety%20enhancements%20and%20sidewalk%20improvements%20at%20five%20uncontrolled%20crosswalks%20to%20improve%20pedestrian%20safety%20and%20multi-modal%20access%20along%20Appian%20Way.%22%2C%20%22a2_info_proj_loc%22%3A%20%22Appian%20Way%20in%20unincorporated%20west%20Contra%20Costa%20County%2C%20between%20Fran%20Way%20and%20San%20Pablo%20Dam%20Road.%22%2C%20%22a2_info_proj_name%22%3A%20%22Appian%20Way%20Corridor%20-%20Pedestrian%20Crossing%20Enhancements%22%2C%20%22a2_mop_uza_population%22%3A%20%22Project%20is%20located%20within%20one%20of%20the%20ten%20large%20MPOs%22%2C%20%22a2_mpo%22%3A%20%22MTC%22%2C%20%22a2_proj_lat%22%3A%2037.973786%2C%20%22a2_proj_long%22%3A%20-122.301221%2C%20%22a3_proj_type%22%3A%20%22Infrastructure%20-%20Medium%22%2C%20%22assembly_district%22%3A%2015%2C%20%22awarded%22%3A%20%22N%22%2C%20%22congressional_district%22%3A%2011%2C%20%22data_origin%22%3A%20%22Application%22%2C%20%22project_app_id%22%3A%20%224-Contra%20Costa%20County-1%22%2C%20%22project_cycle%22%3A%205%2C%20%22senate_district%22%3A%209%2C%20%22total_atp_%24%22%3A%20null%7D%2C%20%22type%22%3A%20%22Feature%22%7D%2C%20%7B%22bbox%22%3A%20%5B-122.517217%2C%2037.936556%2C%20-122.517217%2C%2037.936556%5D%2C%20%22geometry%22%3A%20%7B%22coordinates%22%3A%20%5B-122.517217%2C%2037.936556%5D%2C%20%22type%22%3A%20%22Point%22%7D%2C%20%22id%22%3A%20%22201%22%2C%20%22properties%22%3A%20%7B%22__folium_color%22%3A%20%22%23393b79%22%2C%20%22a1_imp_agcy_city%22%3A%20%22Corte%20Madera%22%2C%20%22a1_imp_agcy_name%22%3A%20%22Corte%20Madera%2C%20Town%20of%22%2C%20%22a1_imp_agcy_street%22%3A%20%22300%20Tamalpais%20Drive%22%2C%20%22a1_proj_partner_agcy%22%3A%20null%2C%20%22a2_county%22%3A%20%22Marin%22%2C%20%22a2_info_proj_descr%22%3A%20%22Funding%20for%20construction%20of%20Class%20I%20pathway%20on%20Wornum%20Drive%2C%202-way%20cycle%20track%20on%20Nellen%20Avenue%20and%20enhanced%20ped/bicycle%20crossings%20at%20two%20intersections%2C%20including%20at%20highway%20ramps.%22%2C%20%22a2_info_proj_loc%22%3A%20%22Corte%20Madera%2C%20CA%20%28with%20one%20intersection%20in%20Larkspur%2C%20CA%29%20on%20the%20west%20side%20of%20US%20101%20along%20Nellen%20Avenue%20and%20Wornum%20Drive.%20Project%20is%20approximately%200.5%20miles%20in%20length.%20%22%2C%20%22a2_info_proj_name%22%3A%20%22Central%20Marin%20Regional%20Pathways%20Gap%20Closure%20Project%22%2C%20%22a2_mop_uza_population%22%3A%20%22Project%20is%20located%20within%20one%20of%20the%20ten%20large%20MPOs%22%2C%20%22a2_mpo%22%3A%20%22MTC%22%2C%20%22a2_proj_lat%22%3A%2037.936556%2C%20%22a2_proj_long%22%3A%20-122.517217%2C%20%22a3_proj_type%22%3A%20%22Infrastructure%20-%20Small%22%2C%20%22assembly_district%22%3A%2010%2C%20%22awarded%22%3A%20%22N%22%2C%20%22congressional_district%22%3A%202%2C%20%22data_origin%22%3A%20%22Application%22%2C%20%22project_app_id%22%3A%20%224-Corte%20Madera%2C%20Town%20of-1%22%2C%20%22project_cycle%22%3A%205%2C%20%22senate_district%22%3A%202%2C%20%22total_atp_%24%22%3A%20null%7D%2C%20%22type%22%3A%20%22Feature%22%7D%2C%20%7B%22bbox%22%3A%20%5B-122.414287%2C%2037.705478%2C%20-122.414287%2C%2037.705478%5D%2C%20%22geometry%22%3A%20%7B%22coordinates%22%3A%20%5B-122.414287%2C%2037.705478%5D%2C%20%22type%22%3A%20%22Point%22%7D%2C%20%22id%22%3A%20%22346%22%2C%20%22properties%22%3A%20%7B%22__folium_color%22%3A%20%22%23393b79%22%2C%20%22a1_imp_agcy_city%22%3A%20%22Daly%20City%22%2C%20%22a1_imp_agcy_name%22%3A%20%22Daly%20City%2C%20City%20of%22%2C%20%22a1_imp_agcy_street%22%3A%20%22333%2090th%20Street%22%2C%20%22a1_proj_partner_agcy%22%3A%20null%2C%20%22a2_county%22%3A%20%22San%20Mateo%22%2C%20%22a2_info_proj_descr%22%3A%20%22Safe%20Routes%20to%20School%20project%20to%20install%20new%20pedestrian%20bulb-outs%2C%20green%20infrastructure%20and%20high%20visibility%20crosswalks%20near%20The%20Bayshore%20School%20%20Woodrow%20Wilson%20Elementary%20School.%22%2C%20%22a2_info_proj_loc%22%3A%20%22The%20Bayshore%20School%20is%20located%20in%20the%20Bayshore%20Heights%20neighborhood%20and%20Woodrow%20Wilson%20Elementary%20School%20is%20located%20in%20the%20Original%20Daly%20City%20neighborhood%20in%20Daly%20City.%22%2C%20%22a2_info_proj_name%22%3A%20%22Bayshore%20and%20Woodrow%20Wilson%20Safe%20Routes%20to%20School%20Project%22%2C%20%22a2_mop_uza_population%22%3A%20%22Project%20is%20located%20outside%20one%20of%20the%20ten%20large%20MPOs%20in%20a%20UZA%20with%20Pop%20%5Cu003c%3D200%2C000%20and%20%5Cu003e%20than%205%2C000%22%2C%20%22a2_mpo%22%3A%20%22MTC%22%2C%20%22a2_proj_lat%22%3A%2037.705478%2C%20%22a2_proj_long%22%3A%20-122.414287%2C%20%22a3_proj_type%22%3A%20%22Infrastructure%20-%20Medium%22%2C%20%22assembly_district%22%3A%2019%2C%20%22awarded%22%3A%20%22N%22%2C%20%22congressional_district%22%3A%2014%2C%20%22data_origin%22%3A%20%22Application%22%2C%20%22project_app_id%22%3A%20%224-Daly%20City%2C%20City%20of-1%22%2C%20%22project_cycle%22%3A%205%2C%20%22senate_district%22%3A%2011%2C%20%22total_atp_%24%22%3A%20null%7D%2C%20%22type%22%3A%20%22Feature%22%7D%2C%20%7B%22bbox%22%3A%20%5B-121.977494%2C%2037.838327%2C%20-121.977494%2C%2037.838327%5D%2C%20%22geometry%22%3A%20%7B%22coordinates%22%3A%20%5B-121.977494%2C%2037.838327%5D%2C%20%22type%22%3A%20%22Point%22%7D%2C%20%22id%22%3A%20%22416%22%2C%20%22properties%22%3A%20%7B%22__folium_color%22%3A%20%22%23393b79%22%2C%20%22a1_imp_agcy_city%22%3A%20%22Danville%22%2C%20%22a1_imp_agcy_name%22%3A%20%22Danville%2C%20Town%20of%22%2C%20%22a1_imp_agcy_street%22%3A%20%22510%20La%20Gonda%20Way%22%2C%20%22a1_proj_partner_agcy%22%3A%20null%2C%20%22a2_county%22%3A%20%22Contra%20Costa%22%2C%20%22a2_info_proj_descr%22%3A%20%22Remove%20non-compliant%20ADA%20pathway%20including%20AC%20pavement%2C%20AC%20dike%2C%20and%20curb%20ramps.%20%20Install%20new%20ADA%20pedestrian%20improvements%20including%20curb%2C%20gutter%2C%20sidewalk%2C%20curb%20ramps%20and%20drainage.%22%2C%20%22a2_info_proj_loc%22%3A%20%22Cameo%20Drive%20between%20Green%20Valley%20Road%20and%20Plaza%20Circle%20in%20Danville%2C%20CA.%22%2C%20%22a2_info_proj_name%22%3A%20%22Cameo%20Drive%20Pedestrian%20Safety%20Improvements%22%2C%20%22a2_mop_uza_population%22%3A%20%22Project%20is%20located%20within%20one%20of%20the%20ten%20large%20MPOs%22%2C%20%22a2_mpo%22%3A%20%22MTC%22%2C%20%22a2_proj_lat%22%3A%2037.838327%2C%20%22a2_proj_long%22%3A%20-121.977494%2C%20%22a3_proj_type%22%3A%20%22Infrastructure%20-%20Small%22%2C%20%22assembly_district%22%3A%2016%2C%20%22awarded%22%3A%20%22N%22%2C%20%22congressional_district%22%3A%2011%2C%20%22data_origin%22%3A%20%22Application%22%2C%20%22project_app_id%22%3A%20%224-Danville%2C%20Town%20of-2%22%2C%20%22project_cycle%22%3A%205%2C%20%22senate_district%22%3A%207%2C%20%22total_atp_%24%22%3A%20null%7D%2C%20%22type%22%3A%20%22Feature%22%7D%2C%20%7B%22bbox%22%3A%20%5B-122.143387%2C%2038.019301%2C%20-122.143387%2C%2038.019301%5D%2C%20%22geometry%22%3A%20%7B%22coordinates%22%3A%20%5B-122.143387%2C%2038.019301%5D%2C%20%22type%22%3A%20%22Point%22%7D%2C%20%22id%22%3A%20%22189%22%2C%20%22properties%22%3A%20%7B%22__folium_color%22%3A%20%22%23393b79%22%2C%20%22a1_imp_agcy_city%22%3A%20%22Oakland%22%2C%20%22a1_imp_agcy_name%22%3A%20%22East%20Bay%20Regional%20Park%20District%22%2C%20%22a1_imp_agcy_street%22%3A%20%222950%20Peralta%20Oaks%20Court%22%2C%20%22a1_proj_partner_agcy%22%3A%20null%2C%20%22a2_county%22%3A%20%22Contra%20Costa%22%2C%20%22a2_info_proj_descr%22%3A%20%22Construction%20of%20a%20Class%20I%20shared-use%20path%20and%20at-grade%20railroad%20crossing%20improvements.%20%22%2C%20%22a2_info_proj_loc%22%3A%20%22A%200.5-mile%20segment%20connecting%20the%20Carquinez%20Strait%20Regional%20Shoreline%20Nejedly%20Staging%20Area%20to%20Berrellesa%20Street%20in%20Martinez%20along%20an%20easement%20in%20Union%20Pacific%20Railroad%20right-of-way%22%2C%20%22a2_info_proj_name%22%3A%20%22Martinez%20Intermodal%20Station%20-%20Crockett%20Bay%20Trail%20Gap%20Closure%20Project%20%22%2C%20%22a2_mop_uza_population%22%3A%20%22Project%20is%20located%20within%20one%20of%20the%20ten%20large%20MPOs%22%2C%20%22a2_mpo%22%3A%20%22MTC%22%2C%20%22a2_proj_lat%22%3A%2038.019301%2C%20%22a2_proj_long%22%3A%20-122.143387%2C%20%22a3_proj_type%22%3A%20%22Infrastructure%20-%20Medium%22%2C%20%22assembly_district%22%3A%2014%2C%20%22awarded%22%3A%20%22N%22%2C%20%22congressional_district%22%3A%205%2C%20%22data_origin%22%3A%20%22Application%22%2C%20%22project_app_id%22%3A%20%224-East%20Bay%20Regional%20Park%20District-1%22%2C%20%22project_cycle%22%3A%205%2C%20%22senate_district%22%3A%203%2C%20%22total_atp_%24%22%3A%20null%7D%2C%20%22type%22%3A%20%22Feature%22%7D%2C%20%7B%22bbox%22%3A%20%5B-122.289181%2C%2037.963072%2C%20-122.289181%2C%2037.963072%5D%2C%20%22geometry%22%3A%20%7B%22coordinates%22%3A%20%5B-122.289181%2C%2037.963072%5D%2C%20%22type%22%3A%20%22Point%22%7D%2C%20%22id%22%3A%20%22237%22%2C%20%22properties%22%3A%20%7B%22__folium_color%22%3A%20%22%23393b79%22%2C%20%22a1_imp_agcy_city%22%3A%20%22Martinez%22%2C%20%22a1_imp_agcy_name%22%3A%20%22Contra%20Costa%20County%22%2C%20%22a1_imp_agcy_street%22%3A%20%22255%20Glacier%20Drive%22%2C%20%22a1_proj_partner_agcy%22%3A%20null%2C%20%22a2_county%22%3A%20%22Contra%20Costa%22%2C%20%22a2_info_proj_descr%22%3A%20%22Install%20two%20Pedestrian%20Hybrid%20Beacon%20systems%20including%20marked%20crosswalks%2C%20advanced%20warning%20signs%2C%20pavement%20markings%2C%20sidewalk%2C%20and%20curb%20extensions%20along%20San%20Pablo%20Dam%20Road.%22%2C%20%22a2_info_proj_loc%22%3A%20%22San%20Pablo%20Dam%20Road%20in%20El%20Sobrante%2C%20two%20locations%3A%20400%20feet%20east%20of%20Leisure%20Lane%20and%20100%20feet%20west%20of%20Bristlecone%20Drive.%22%2C%20%22a2_info_proj_name%22%3A%20%22San%20Pablo%20Dam%20Road%20Pedestrian%20Crossings%22%2C%20%22a2_mop_uza_population%22%3A%20%22Project%20is%20located%20within%20one%20of%20the%20ten%20large%20MPOs%22%2C%20%22a2_mpo%22%3A%20%22MTC%22%2C%20%22a2_proj_lat%22%3A%2037.963072%2C%20%22a2_proj_long%22%3A%20-122.289181%2C%20%22a3_proj_type%22%3A%20%22Infrastructure%20-%20Small%22%2C%20%22assembly_district%22%3A%2015%2C%20%22awarded%22%3A%20%22N%22%2C%20%22congressional_district%22%3A%2011%2C%20%22data_origin%22%3A%20%22Application%22%2C%20%22project_app_id%22%3A%20%224-Contra%20Costa%20County-5%22%2C%20%22project_cycle%22%3A%205%2C%20%22senate_district%22%3A%209%2C%20%22total_atp_%24%22%3A%20null%7D%2C%20%22type%22%3A%20%22Feature%22%7D%2C%20%7B%22bbox%22%3A%20%5B-122.272587%2C%2037.867542%2C%20-122.272587%2C%2037.867542%5D%2C%20%22geometry%22%3A%20%7B%22coordinates%22%3A%20%5B-122.272587%2C%2037.867542%5D%2C%20%22type%22%3A%20%22Point%22%7D%2C%20%22id%22%3A%20%22369%22%2C%20%22properties%22%3A%20%7B%22__folium_color%22%3A%20%22%23393b79%22%2C%20%22a1_imp_agcy_city%22%3A%20%22Berkeley%22%2C%20%22a1_imp_agcy_name%22%3A%20%22Berkeley%2C%20City%20of%22%2C%20%22a1_imp_agcy_street%22%3A%20%221947%20Center%20Street%2C%204th%20Floor%22%2C%20%22a1_proj_partner_agcy%22%3A%20null%2C%20%22a2_county%22%3A%20%22Alameda%22%2C%20%22a2_info_proj_descr%22%3A%20%22Installation%20of%20leading%20pedestrian%20intervals%2C%20curb%20extensions%2C%20one%20traffic%20circle%2C%20pavement%20markings%2C%20signage%2C%20changes%20to%20drop-off/pick-up%20zones%2C%20and%20other%20traffic%20calming%20measures%22%2C%20%22a2_info_proj_loc%22%3A%20%2213%20different%20intersections%20in%20Downtown%20Berkeley%20around%20Washington%20Elementary%20and%20Berkeley%20High%20as%20well%20as%20school%20frontages%20on%20Milvia%20Street%20and%20McKinley%20Avenue%20%28see%20Attachment%20D%29.%20%22%2C%20%22a2_info_proj_name%22%3A%20%22Washington%20Elementary%20and%20Berkeley%20High%20SR2S%20Project%22%2C%20%22a2_mop_uza_population%22%3A%20%22Project%20is%20located%20within%20one%20of%20the%20ten%20large%20MPOs%22%2C%20%22a2_mpo%22%3A%20%22MTC%22%2C%20%22a2_proj_lat%22%3A%2037.867542%2C%20%22a2_proj_long%22%3A%20-122.272587%2C%20%22a3_proj_type%22%3A%20%22Infrastructure%20-%20Small%22%2C%20%22assembly_district%22%3A%2015%2C%20%22awarded%22%3A%20%22N%22%2C%20%22congressional_district%22%3A%2013%2C%20%22data_origin%22%3A%20%22Application%22%2C%20%22project_app_id%22%3A%20%224-Berkeley%2C%20City%20of-2%22%2C%20%22project_cycle%22%3A%205%2C%20%22senate_district%22%3A%209%2C%20%22total_atp_%24%22%3A%20null%7D%2C%20%22type%22%3A%20%22Feature%22%7D%2C%20%7B%22bbox%22%3A%20%5B-122.105172%2C%2037.682069%2C%20-122.105172%2C%2037.682069%5D%2C%20%22geometry%22%3A%20%7B%22coordinates%22%3A%20%5B-122.105172%2C%2037.682069%5D%2C%20%22type%22%3A%20%22Point%22%7D%2C%20%22id%22%3A%20%22352%22%2C%20%22properties%22%3A%20%7B%22__folium_color%22%3A%20%22%23393b79%22%2C%20%22a1_imp_agcy_city%22%3A%20%22Oakland%22%2C%20%22a1_imp_agcy_name%22%3A%20%22Alameda%20County%20Transportation%20Commission%22%2C%20%22a1_imp_agcy_street%22%3A%20%221111%20Broadway%2C%20Suite%20800%22%2C%20%22a1_proj_partner_agcy%22%3A%20%22Cities%20of%20Oakland%2C%20San%20Leandro%2C%20Hayward%2C%20Alameda%20County%20Public%20Works%20Agency%22%2C%20%22a2_county%22%3A%20%22Alameda%22%2C%20%22a2_info_proj_descr%22%3A%20%22PS%5Cu0026E%20for%20a%2016-mile%20Class%20I%20and%20Class%20IV%20facility%20that%20includes%20paving%2C%20lighting%2C%20crossing%20treatments%2C%20signage%2C%20traffic%20control%20devices%2C%20landscaping%2C%20fencing%2C%20bridges%2C%20and%20walls.%22%2C%20%22a2_info_proj_loc%22%3A%20%22Along%20BART%20and%20Oakland%20Subdivision%20UPRR%20alignment%20from%20the%20Lake%20Merritt%20to%20South%20Hayward%20BART%20stations%2C%20traversing%20Oakland%2C%20San%20Leandro%2C%20Ashland/Cherryland%2C%20and%20Hayward%22%2C%20%22a2_info_proj_name%22%3A%20%22East%20Bay%20Greenway%22%2C%20%22a2_mop_uza_population%22%3A%20%22Project%20is%20located%20within%20one%20of%20the%20ten%20large%20MPOs%22%2C%20%22a2_mpo%22%3A%20%22MTC%22%2C%20%22a2_proj_lat%22%3A%2037.682069%2C%20%22a2_proj_long%22%3A%20-122.105172%2C%20%22a3_proj_type%22%3A%20%22Infrastructure%20-%20Large%22%2C%20%22assembly_district%22%3A%20%2218%2C%2020%22%2C%20%22awarded%22%3A%20%22N%22%2C%20%22congressional_district%22%3A%20%2213%2C%2015%22%2C%20%22data_origin%22%3A%20%22Application%22%2C%20%22project_app_id%22%3A%20%224-Alameda%20County%20Transportation%20Commission-1%22%2C%20%22project_cycle%22%3A%205%2C%20%22senate_district%22%3A%20%22Needs%20Manual%20Assistance%22%2C%20%22total_atp_%24%22%3A%20null%7D%2C%20%22type%22%3A%20%22Feature%22%7D%2C%20%7B%22bbox%22%3A%20%5B-122.100887%2C%2037.685832%2C%20-122.100887%2C%2037.685832%5D%2C%20%22geometry%22%3A%20%7B%22coordinates%22%3A%20%5B-122.100887%2C%2037.685832%5D%2C%20%22type%22%3A%20%22Point%22%7D%2C%20%22id%22%3A%20%227%22%2C%20%22properties%22%3A%20%7B%22__folium_color%22%3A%20%22%23393b79%22%2C%20%22a1_imp_agcy_city%22%3A%20%22Hayward%22%2C%20%22a1_imp_agcy_name%22%3A%20%22Alameda%20County%22%2C%20%22a1_imp_agcy_street%22%3A%20%22399%20Elmhurst%20Street%22%2C%20%22a1_proj_partner_agcy%22%3A%20null%2C%20%22a2_county%22%3A%20%22Alameda%22%2C%20%22a2_info_proj_descr%22%3A%20%22Install%20Class%20IV%20separated%20bikeways%2C%20protected%20intersections%2C%20pedestrian%20hybrid%20beacons%2C%20curb%20extensions%2C%20median%20refuges%2Chigh-visibility%20crosswalks%2C%20signal%20retiming%2C%20streetscaping.%22%2C%20%22a2_info_proj_loc%22%3A%20%22Mission%20Blvd%20between%20East%20Lewelling%20Blvd/I-238%20and%20Rose%20St%20in%20the%20unincorporated%20Alameda%20County%20communities%20of%20Ashland%20and%20Cherryland.%20%22%2C%20%22a2_info_proj_name%22%3A%20%22Mission%20Boulevard%20Safe%20and%20Complete%20Street%20for%20Active%20Transportation%22%2C%20%22a2_mop_uza_population%22%3A%20%22Project%20is%20located%20within%20one%20of%20the%20ten%20large%20MPOs%22%2C%20%22a2_mpo%22%3A%20%22MTC%22%2C%20%22a2_proj_lat%22%3A%2037.685832%2C%20%22a2_proj_long%22%3A%20-122.100887%2C%20%22a3_proj_type%22%3A%20%22Infrastructure%20-%20Large%22%2C%20%22assembly_district%22%3A%2020%2C%20%22awarded%22%3A%20%22N%22%2C%20%22congressional_district%22%3A%2015%2C%20%22data_origin%22%3A%20%22Application%22%2C%20%22project_app_id%22%3A%20%224-Alameda%20County-1%22%2C%20%22project_cycle%22%3A%205%2C%20%22senate_district%22%3A%2010%2C%20%22total_atp_%24%22%3A%20null%7D%2C%20%22type%22%3A%20%22Feature%22%7D%2C%20%7B%22bbox%22%3A%20%5B-122.109778%2C%2037.687389%2C%20-122.109778%2C%2037.687389%5D%2C%20%22geometry%22%3A%20%7B%22coordinates%22%3A%20%5B-122.109778%2C%2037.687389%5D%2C%20%22type%22%3A%20%22Point%22%7D%2C%20%22id%22%3A%20%2232%22%2C%20%22properties%22%3A%20%7B%22__folium_color%22%3A%20%22%23393b79%22%2C%20%22a1_imp_agcy_city%22%3A%20%22Hayward%22%2C%20%22a1_imp_agcy_name%22%3A%20%22Alameda%20County%22%2C%20%22a1_imp_agcy_street%22%3A%20%22399%20Elmhurst%20Street%22%2C%20%22a1_proj_partner_agcy%22%3A%20null%2C%20%22a2_county%22%3A%20%22Alameda%22%2C%20%22a2_info_proj_descr%22%3A%20%22Close%20sidewalk%20gaps%2C%20close%20bikeway%20gap%20with%20Class%20IV%20separated%20bikeways%2C%20and%20enhance%20crosswalks%20with%20bulb-outs%20and%20ADA%20ramps.%20%22%2C%20%22a2_info_proj_loc%22%3A%20%22East%20Lewelling%20Boulevard%20between%20Meekland%20Avenue%20and%20Langton%20Way%20in%20the%20unincorporated%20community%20of%20Ashland%20in%20Alameda%20County.%20%22%2C%20%22a2_info_proj_name%22%3A%20%22E.%20Lewelling%20Boulevard%20Safe%20and%20Complete%20Street%20for%20Active%20Transportation%22%2C%20%22a2_mop_uza_population%22%3A%20%22Project%20is%20located%20within%20one%20of%20the%20ten%20large%20MPOs%22%2C%20%22a2_mpo%22%3A%20%22MTC%22%2C%20%22a2_proj_lat%22%3A%2037.687389%2C%20%22a2_proj_long%22%3A%20-122.109778%2C%20%22a3_proj_type%22%3A%20%22Infrastructure%20-%20Large%22%2C%20%22assembly_district%22%3A%2020%2C%20%22awarded%22%3A%20%22N%22%2C%20%22congressional_district%22%3A%2015%2C%20%22data_origin%22%3A%20%22Application%22%2C%20%22project_app_id%22%3A%20%224-Alameda%20County-2%22%2C%20%22project_cycle%22%3A%205%2C%20%22senate_district%22%3A%2010%2C%20%22total_atp_%24%22%3A%20null%7D%2C%20%22type%22%3A%20%22Feature%22%7D%2C%20%7B%22bbox%22%3A%20%5B-122.083363%2C%2037.698396%2C%20-122.083363%2C%2037.698396%5D%2C%20%22geometry%22%3A%20%7B%22coordinates%22%3A%20%5B-122.083363%2C%2037.698396%5D%2C%20%22type%22%3A%20%22Point%22%7D%2C%20%22id%22%3A%20%2251%22%2C%20%22properties%22%3A%20%7B%22__folium_color%22%3A%20%22%23393b79%22%2C%20%22a1_imp_agcy_city%22%3A%20%22Hayward%22%2C%20%22a1_imp_agcy_name%22%3A%20%22Alameda%20County%22%2C%20%22a1_imp_agcy_street%22%3A%20%22399%20Elmhurst%20Street%22%2C%20%22a1_proj_partner_agcy%22%3A%20null%2C%20%22a2_county%22%3A%20%22Alameda%22%2C%20%22a2_info_proj_descr%22%3A%20%22Install%20continuous%2C%20accessible%20sidewalks%2C%20enhanced%20crosswalks%2C%20ADA%20curb%20ramps%2C%20bio-retention%20areas%2C%20and%20street%20trees.%22%2C%20%22a2_info_proj_loc%22%3A%20%22Anita%20Avenue%20between%20Somerset%20Avenue%20and%20Castro%20Valley%20Boulevard%20in%20the%20unincorporated%20community%20of%20Castro%20Valley%20in%20Alameda%20County.%20%22%2C%20%22a2_info_proj_name%22%3A%20%22Anita%20Avenue%20Safe%20and%20Accessible%20Route%20to%20School%20and%20Transit%20%22%2C%20%22a2_mop_uza_population%22%3A%20%22Project%20is%20located%20within%20one%20of%20the%20ten%20large%20MPOs%22%2C%20%22a2_mpo%22%3A%20%22MTC%22%2C%20%22a2_proj_lat%22%3A%2037.698396%2C%20%22a2_proj_long%22%3A%20-122.083363%2C%20%22a3_proj_type%22%3A%20%22Infrastructure%20-%20Medium%22%2C%20%22assembly_district%22%3A%2020%2C%20%22awarded%22%3A%20%22N%22%2C%20%22congressional_district%22%3A%2015%2C%20%22data_origin%22%3A%20%22Application%22%2C%20%22project_app_id%22%3A%20%224-Alameda%20County-3%22%2C%20%22project_cycle%22%3A%205%2C%20%22senate_district%22%3A%2010%2C%20%22total_atp_%24%22%3A%20null%7D%2C%20%22type%22%3A%20%22Feature%22%7D%2C%20%7B%22bbox%22%3A%20%5B-122.05734%2C%2037.679853%2C%20-122.05734%2C%2037.679853%5D%2C%20%22geometry%22%3A%20%7B%22coordinates%22%3A%20%5B-122.05734%2C%2037.679853%5D%2C%20%22type%22%3A%20%22Point%22%7D%2C%20%22id%22%3A%20%2254%22%2C%20%22properties%22%3A%20%7B%22__folium_color%22%3A%20%22%23393b79%22%2C%20%22a1_imp_agcy_city%22%3A%20%22Hayward%22%2C%20%22a1_imp_agcy_name%22%3A%20%22Alameda%20County%22%2C%20%22a1_imp_agcy_street%22%3A%20%22399%20Elmhurst%20Street%22%2C%20%22a1_proj_partner_agcy%22%3A%20null%2C%20%22a2_county%22%3A%20%22Alameda%22%2C%20%22a2_info_proj_descr%22%3A%20%22%20D%20Street%20Safe%20Route%20to%20Fairview%20Elementary%20School%20will%20improve%20safety%20for%20children%20and%20adults%20walking%20to%20school%20through%20a%20complete%20sidewalk%20network%20and%20new%20Class%20II%20bike%20lanes.%22%2C%20%22a2_info_proj_loc%22%3A%20%22D%20Street%20between%20City%20of%20Hayward%20limit%20line%20and%20Machado%20Court%20in%20the%20Fairview%20area%20of%20unincorporated%20Alameda%20County.%22%2C%20%22a2_info_proj_name%22%3A%20%22D%20Street%20Safe%20Route%20to%20Fairview%20Elementary%20School%22%2C%20%22a2_mop_uza_population%22%3A%20%22Project%20is%20located%20within%20one%20of%20the%20ten%20large%20MPOs%22%2C%20%22a2_mpo%22%3A%20%22MTC%22%2C%20%22a2_proj_lat%22%3A%2037.679853%2C%20%22a2_proj_long%22%3A%20-122.05734%2C%20%22a3_proj_type%22%3A%20%22Infrastructure%20-%20Medium%22%2C%20%22assembly_district%22%3A%2020%2C%20%22awarded%22%3A%20%22N%22%2C%20%22congressional_district%22%3A%2015%2C%20%22data_origin%22%3A%20%22Application%22%2C%20%22project_app_id%22%3A%20%224-Alameda%20County-4%22%2C%20%22project_cycle%22%3A%205%2C%20%22senate_district%22%3A%2010%2C%20%22total_atp_%24%22%3A%20null%7D%2C%20%22type%22%3A%20%22Feature%22%7D%2C%20%7B%22bbox%22%3A%20%5B-121.95322%2C%2037.593764%2C%20-121.95322%2C%2037.593764%5D%2C%20%22geometry%22%3A%20%7B%22coordinates%22%3A%20%5B-121.95322%2C%2037.593764%5D%2C%20%22type%22%3A%20%22Point%22%7D%2C%20%22id%22%3A%20%22112%22%2C%20%22properties%22%3A%20%7B%22__folium_color%22%3A%20%22%23393b79%22%2C%20%22a1_imp_agcy_city%22%3A%20%22Hayward%22%2C%20%22a1_imp_agcy_name%22%3A%20%22Alameda%20County%22%2C%20%22a1_imp_agcy_street%22%3A%20%22399%20Elmhurst%20Street%22%2C%20%22a1_proj_partner_agcy%22%3A%20null%2C%20%22a2_county%22%3A%20%22Alameda%22%2C%20%22a2_info_proj_descr%22%3A%20%22This%20is%20pre-construction%20funding%20to%20support%20PS%5Cu0026E%20of%20the%20first%20phase%20of%20the%20trail%20linking%20the%20Niles%20District%20with%20Palomares%20Road%20located%20within%20Alameda%20County.%22%2C%20%22a2_info_proj_loc%22%3A%20%22The%20multi-use%20Class%201%20trail%20crosses%20east%20to%20west%20along%20the%20State%20Route%2084%20linking%20the%20Niles%20District%20of%20the%20City%20of%20Fremont%20and%20the%20Town%20of%20Sunol%20in%20unincorporated%20Alameda%20County.%22%2C%20%22a2_info_proj_name%22%3A%20%22Closing%20the%20gap%20in%20Niles%20Canyon%3B%20the%20Niles%20Canyon%20Pathway%22%2C%20%22a2_mop_uza_population%22%3A%20%22Project%20is%20located%20within%20one%20of%20the%20ten%20large%20MPOs%22%2C%20%22a2_mpo%22%3A%20%22MTC%22%2C%20%22a2_proj_lat%22%3A%2037.593764%2C%20%22a2_proj_long%22%3A%20-121.95322%2C%20%22a3_proj_type%22%3A%20%22Infrastructure%20-%20Large%22%2C%20%22assembly_district%22%3A%20%2225%22%2C%20%22awarded%22%3A%20%22N%22%2C%20%22congressional_district%22%3A%20%2215%22%2C%20%22data_origin%22%3A%20%22Application%22%2C%20%22project_app_id%22%3A%20%224-Alameda%20County-5%22%2C%20%22project_cycle%22%3A%205%2C%20%22senate_district%22%3A%20%2210%22%2C%20%22total_atp_%24%22%3A%20null%7D%2C%20%22type%22%3A%20%22Feature%22%7D%2C%20%7B%22bbox%22%3A%20%5B-122.302083%2C%2037.822943%2C%20-122.302083%2C%2037.822943%5D%2C%20%22geometry%22%3A%20%7B%22coordinates%22%3A%20%5B-122.302083%2C%2037.822943%5D%2C%20%22type%22%3A%20%22Point%22%7D%2C%20%22id%22%3A%20%22265%22%2C%20%22properties%22%3A%20%7B%22__folium_color%22%3A%20%22%23393b79%22%2C%20%22a1_imp_agcy_city%22%3A%20%22San%20Francisco%22%2C%20%22a1_imp_agcy_name%22%3A%20%22Bay%20Area%20Toll%20Authority%22%2C%20%22a1_imp_agcy_street%22%3A%20%22Bay%20Area%20Metro%20Center%3B%20375%20Beale%20Street%2C%20Suite%20800%22%2C%20%22a1_proj_partner_agcy%22%3A%20null%2C%20%22a2_county%22%3A%20%22Alameda%22%2C%20%22a2_info_proj_descr%22%3A%20%22PS%5Cu0026E%20funding%20for%20the%20eventual%20construction%20of%20a%201.1-mile%20Class%20I%20pathway%20connecting%20West%20Oakland%20and%20the%20existing%20Bay%20Trail%20and%20Bay%20Bridge%20East%20Span%20pathway.%22%2C%20%22a2_info_proj_loc%22%3A%20%22Alongside%20the%20south%20side%20of%20West%20Grand%20Avenue%20in%20Oakland%2C%20between%20Mandela%20Parkway%20and%20the%20existing%20Bay%20Bridge%20East%20Span%20pathway.%22%2C%20%22a2_info_proj_name%22%3A%20%22West%20Oakland%20Link%20to%20Bay%20Trail%20and%20Bay%20Bridge%20Path%22%2C%20%22a2_mop_uza_population%22%3A%20%22Project%20is%20located%20within%20one%20of%20the%20ten%20large%20MPOs%22%2C%20%22a2_mpo%22%3A%20%22MTC%22%2C%20%22a2_proj_lat%22%3A%2037.822943%2C%20%22a2_proj_long%22%3A%20-122.302083%2C%20%22a3_proj_type%22%3A%20%22Infrastructure%20-%20Large%22%2C%20%22assembly_district%22%3A%2018%2C%20%22awarded%22%3A%20%22N%22%2C%20%22congressional_district%22%3A%2013%2C%20%22data_origin%22%3A%20%22Application%22%2C%20%22project_app_id%22%3A%20%224-Bay%20Area%20Toll%20Authority-1%22%2C%20%22project_cycle%22%3A%205%2C%20%22senate_district%22%3A%209%2C%20%22total_atp_%24%22%3A%20null%7D%2C%20%22type%22%3A%20%22Feature%22%7D%2C%20%7B%22bbox%22%3A%20%5B-122.284093%2C%2037.869308%2C%20-122.284093%2C%2037.869308%5D%2C%20%22geometry%22%3A%20%7B%22coordinates%22%3A%20%5B-122.284093%2C%2037.869308%5D%2C%20%22type%22%3A%20%22Point%22%7D%2C%20%22id%22%3A%20%22212%22%2C%20%22properties%22%3A%20%7B%22__folium_color%22%3A%20%22%23393b79%22%2C%20%22a1_imp_agcy_city%22%3A%20%22Berkeley%22%2C%20%22a1_imp_agcy_name%22%3A%20%22Berkeley%2C%20City%20of%22%2C%20%22a1_imp_agcy_street%22%3A%20%221947%20Center%20Street%2C%204th%20Floor%22%2C%20%22a1_proj_partner_agcy%22%3A%20null%2C%20%22a2_county%22%3A%20%22Alameda%22%2C%20%22a2_info_proj_descr%22%3A%20%22Install%20a%20Class%20III%20bike%20boulevard%2C%20Class%20IV%20bicycle%20connector%2C%20two%20traffic%20circles%2C%20traffic%20diverter%2C%20RRFB%20and%20refuge%20median%2C%20Class%20I%20shared-use%20path%2C%20PHB%2C%20signage%20and%20striping.%22%2C%20%22a2_info_proj_loc%22%3A%20%22On%20Addison%20Street%20from%20Bolivar%20Drive%20to%20the%20east%20side%20of%20Sacramento%20Street%20and%20on%20Addison%20Street%20from%20Milvia%20Street%20to%20Oxford%20Street.%20%22%2C%20%22a2_info_proj_name%22%3A%20%22Addison%20Street%20Bicycle%20Boulevard%20Project%20%22%2C%20%22a2_mop_uza_population%22%3A%20%22Project%20is%20located%20within%20one%20of%20the%20ten%20large%20MPOs%22%2C%20%22a2_mpo%22%3A%20%22MTC%22%2C%20%22a2_proj_lat%22%3A%2037.869308%2C%20%22a2_proj_long%22%3A%20-122.284093%2C%20%22a3_proj_type%22%3A%20%22Infrastructure%20-%20Small%22%2C%20%22assembly_district%22%3A%2015%2C%20%22awarded%22%3A%20%22N%22%2C%20%22congressional_district%22%3A%2013%2C%20%22data_origin%22%3A%20%22Application%22%2C%20%22project_app_id%22%3A%20%224-Berkeley%2C%20City%20of-1%22%2C%20%22project_cycle%22%3A%205%2C%20%22senate_district%22%3A%209%2C%20%22total_atp_%24%22%3A%20null%7D%2C%20%22type%22%3A%20%22Feature%22%7D%2C%20%7B%22bbox%22%3A%20%5B-122.141067%2C%2037.460834%2C%20-122.141067%2C%2037.460834%5D%2C%20%22geometry%22%3A%20%7B%22coordinates%22%3A%20%5B-122.141067%2C%2037.460834%5D%2C%20%22type%22%3A%20%22Point%22%7D%2C%20%22id%22%3A%20%22158%22%2C%20%22properties%22%3A%20%7B%22__folium_color%22%3A%20%22%23393b79%22%2C%20%22a1_imp_agcy_city%22%3A%20%22East%20Palo%20Alto%22%2C%20%22a1_imp_agcy_name%22%3A%20%22East%20Palo%20Alto%2C%20City%20of%22%2C%20%22a1_imp_agcy_street%22%3A%20%222415%20University%20Avenue%22%2C%20%22a1_proj_partner_agcy%22%3A%20null%2C%20%22a2_county%22%3A%20%22San%20Mateo%22%2C%20%22a2_info_proj_descr%22%3A%20%22University%20Avenue%20at%20US%20101%20Pedestrian/Bicycle%20Overcrossing%20including%20the%20realignment%20of%20northbound%20US%20101%20to%20southbound%20University%20Avenue%20loop%20off-ramp.%22%2C%20%22a2_info_proj_loc%22%3A%20%22University%20Avenue%20at%20US%20101%20between%20Donohoe%20Street%20and%20Woodland%20Avenue%20in%20East%20Palo%20Alto%2C%20California%20%22%2C%20%22a2_info_proj_name%22%3A%20%22University%20Avenue%20at%20101%20Pedestrian/Bicycle%20Overcrossing%22%2C%20%22a2_mop_uza_population%22%3A%20%22Project%20is%20located%20within%20one%20of%20the%20ten%20large%20MPOs%22%2C%20%22a2_mpo%22%3A%20%22MTC%22%2C%20%22a2_proj_lat%22%3A%2037.460834%2C%20%22a2_proj_long%22%3A%20-122.141067%2C%20%22a3_proj_type%22%3A%20%22Infrastructure%20-%20Large%22%2C%20%22assembly_district%22%3A%2024%2C%20%22awarded%22%3A%20%22N%22%2C%20%22congressional_district%22%3A%2014%2C%20%22data_origin%22%3A%20%22Application%22%2C%20%22project_app_id%22%3A%20%224-East%20Palo%20Alto%2C%20City%20of-1%22%2C%20%22project_cycle%22%3A%205%2C%20%22senate_district%22%3A%2013%2C%20%22total_atp_%24%22%3A%20null%7D%2C%20%22type%22%3A%20%22Feature%22%7D%2C%20%7B%22bbox%22%3A%20%5B-122.166309%2C%2037.754381%2C%20-122.166309%2C%2037.754381%5D%2C%20%22geometry%22%3A%20%7B%22coordinates%22%3A%20%5B-122.166309%2C%2037.754381%5D%2C%20%22type%22%3A%20%22Point%22%7D%2C%20%22id%22%3A%20%22131%22%2C%20%22properties%22%3A%20%7B%22__folium_color%22%3A%20%22%23393b79%22%2C%20%22a1_imp_agcy_city%22%3A%20%22Oakland%22%2C%20%22a1_imp_agcy_name%22%3A%20%22Oakland%2C%20City%20of%22%2C%20%22a1_imp_agcy_street%22%3A%20%22250%20Frank%20H.%20Ogawa%20Plaza%20%22%2C%20%22a1_proj_partner_agcy%22%3A%20null%2C%20%22a2_county%22%3A%20%22Alameda%22%2C%20%22a2_info_proj_descr%22%3A%20%22Construct%20permeable%20paver%20multi-use%2C%20curb%20and%20gutter%2C%20curb%20ramps%2C%20trees/groud%20cover%2C%20pedestrian%20lighting%2C%20benches%2C%20striping%2C%20and%20signage%22%2C%20%22a2_info_proj_loc%22%3A%20%22Center%20median%20of%20Bancroft%20Avenue%20from%20intersection%20with%2073rd%20Avenue%20to%20103rd%20Avenue%20%22%2C%20%22a2_info_proj_name%22%3A%20%22Bancroft%20Avenue%20Greenway%22%2C%20%22a2_mop_uza_population%22%3A%20%22Project%20is%20located%20within%20one%20of%20the%20ten%20large%20MPOs%22%2C%20%22a2_mpo%22%3A%20%22MTC%22%2C%20%22a2_proj_lat%22%3A%2037.754381%2C%20%22a2_proj_long%22%3A%20-122.166309%2C%20%22a3_proj_type%22%3A%20%22Infrastructure%20-%20Large%22%2C%20%22assembly_district%22%3A%2018%2C%20%22awarded%22%3A%20%22N%22%2C%20%22congressional_district%22%3A%2013%2C%20%22data_origin%22%3A%20%22Application%22%2C%20%22project_app_id%22%3A%20%224-Oakland%2C%20City%20of-3%22%2C%20%22project_cycle%22%3A%205%2C%20%22senate_district%22%3A%209%2C%20%22total_atp_%24%22%3A%20null%7D%2C%20%22type%22%3A%20%22Feature%22%7D%2C%20%7B%22bbox%22%3A%20%5B-122.187063%2C%2037.75922%2C%20-122.187063%2C%2037.75922%5D%2C%20%22geometry%22%3A%20%7B%22coordinates%22%3A%20%5B-122.187063%2C%2037.75922%5D%2C%20%22type%22%3A%20%22Point%22%7D%2C%20%22id%22%3A%20%22409%22%2C%20%22properties%22%3A%20%7B%22__folium_color%22%3A%20%22%23393b79%22%2C%20%22a1_imp_agcy_city%22%3A%20%22Oakland%22%2C%20%22a1_imp_agcy_name%22%3A%20%22Oakland%2C%20City%20of%22%2C%20%22a1_imp_agcy_street%22%3A%20%22250%20Frank%20Ogawa%20Plaza%22%2C%20%22a1_proj_partner_agcy%22%3A%20null%2C%20%22a2_county%22%3A%20%22Alameda%22%2C%20%22a2_info_proj_descr%22%3A%20%22Install%20pedestrian-scale%20lighting%20and%20repair%20sidewalks%20and%20ADA-compliant%20curb%20ramps%20to%20provide%20safer%20pedestrian%20conditions%20for%20people%20along%20the%20International%20Boulevard%20corridor%22%2C%20%22a2_info_proj_loc%22%3A%20%22International%20Blvd%20between%205th%20Ave%20to%2022nd%20Ave%20and%2036th-107th%20Ave%3B%20E.%2012th%20St%20between%201st%20Ave%20to%2014th%20Ave.%22%2C%20%22a2_info_proj_name%22%3A%20%22International%20Boulevard%20Pedestrian%20Lighting%20and%20Sidewalk%20Improvements%22%2C%20%22a2_mop_uza_population%22%3A%20%22Project%20is%20located%20within%20one%20of%20the%20ten%20large%20MPOs%22%2C%20%22a2_mpo%22%3A%20%22MTC%22%2C%20%22a2_proj_lat%22%3A%2037.75922%2C%20%22a2_proj_long%22%3A%20-122.187063%2C%20%22a3_proj_type%22%3A%20%22Infrastructure%20-%20Large%22%2C%20%22assembly_district%22%3A%2018%2C%20%22awarded%22%3A%20%22N%22%2C%20%22congressional_district%22%3A%2013%2C%20%22data_origin%22%3A%20%22Application%22%2C%20%22project_app_id%22%3A%20%224-Oakland%2C%20City%20of-5%22%2C%20%22project_cycle%22%3A%205%2C%20%22senate_district%22%3A%209%2C%20%22total_atp_%24%22%3A%20null%7D%2C%20%22type%22%3A%20%22Feature%22%7D%2C%20%7B%22bbox%22%3A%20%5B-122.187063%2C%2037.75922%2C%20-122.187063%2C%2037.75922%5D%2C%20%22geometry%22%3A%20%7B%22coordinates%22%3A%20%5B-122.187063%2C%2037.75922%5D%2C%20%22type%22%3A%20%22Point%22%7D%2C%20%22id%22%3A%20%22424%22%2C%20%22properties%22%3A%20%7B%22__folium_color%22%3A%20%22%23393b79%22%2C%20%22a1_imp_agcy_city%22%3A%20%22Oakland%22%2C%20%22a1_imp_agcy_name%22%3A%20%22Oakland%2C%20City%20of%22%2C%20%22a1_imp_agcy_street%22%3A%20%22250%20Frank%20Ogawa%20Plaza%22%2C%20%22a1_proj_partner_agcy%22%3A%20null%2C%20%22a2_county%22%3A%20%22Alameda%22%2C%20%22a2_info_proj_descr%22%3A%20%22Install%20pedestrian-scale%20lighting%20and%20repair%20sidewalks%20and%20ADA-compliant%20curb%20ramps%20to%20provide%20safer%20pedestrian%20conditions%20for%20people%20along%20the%20International%20Boulevard%20corridor%22%2C%20%22a2_info_proj_loc%22%3A%20%22International%20Blvd%20from%2080th%20to%20107th%20avenues%22%2C%20%22a2_info_proj_name%22%3A%20%22International%20Boulevard%20Pedestrian%20Lighting%20and%20Sidewalk%20Improvements%20%28M%29%22%2C%20%22a2_mop_uza_population%22%3A%20%22Project%20is%20located%20within%20one%20of%20the%20ten%20large%20MPOs%22%2C%20%22a2_mpo%22%3A%20%22MTC%22%2C%20%22a2_proj_lat%22%3A%2037.75922%2C%20%22a2_proj_long%22%3A%20-122.187063%2C%20%22a3_proj_type%22%3A%20%22Infrastructure%20-%20Medium%22%2C%20%22assembly_district%22%3A%2018%2C%20%22awarded%22%3A%20%22N%22%2C%20%22congressional_district%22%3A%2013%2C%20%22data_origin%22%3A%20%22Application%22%2C%20%22project_app_id%22%3A%20%224-Oakland%2C%20City%20of-6%22%2C%20%22project_cycle%22%3A%205%2C%20%22senate_district%22%3A%209%2C%20%22total_atp_%24%22%3A%20null%7D%2C%20%22type%22%3A%20%22Feature%22%7D%2C%20%7B%22bbox%22%3A%20%5B-122.49178%2C%2037.647298%2C%20-122.49178%2C%2037.647298%5D%2C%20%22geometry%22%3A%20%7B%22coordinates%22%3A%20%5B-122.49178%2C%2037.647298%5D%2C%20%22type%22%3A%20%22Point%22%7D%2C%20%22id%22%3A%20%222%22%2C%20%22properties%22%3A%20%7B%22__folium_color%22%3A%20%22%23393b79%22%2C%20%22a1_imp_agcy_city%22%3A%20%22City%20of%20Pacifica%22%2C%20%22a1_imp_agcy_name%22%3A%20%22Pacifica%2C%20City%20of%22%2C%20%22a1_imp_agcy_street%22%3A%20%22151%20Milagra%20Drive%22%2C%20%22a1_proj_partner_agcy%22%3A%20null%2C%20%22a2_county%22%3A%20%22San%20Mateo%22%2C%20%22a2_info_proj_descr%22%3A%20%22CON%20funding%20for%20installing%20bicycling%20facilities%2C%20curb%20ramps%2C%20and%20high-visibility%20crosswalks%20especially%20near%20a%20shopping%20district%20and%20nearby%20elementary%20school.%22%2C%20%22a2_info_proj_loc%22%3A%20%22On%20Palmetto%20Ave%20between%20Paloma%20Ave%20and%20West%20Avalon%20Drive%3B%20on%20West%20Avalon%20Drive%20between%20Palmetto%20Ave%20and%20Esplanade%20Ave%3B%20on%20Esplanade%20Ave%20between%20West%20Avalon%20Drive%20and%20Palmetto%20Ave.%22%2C%20%22a2_info_proj_name%22%3A%20%22Palmetto%20Ave%20-%20Esplanade%20Ave%20Bicycle%20%5Cu0026%20Pedestrian%20Improvements%20Project%22%2C%20%22a2_mop_uza_population%22%3A%20%22Project%20is%20located%20outside%20one%20of%20the%20ten%20large%20MPOs%20in%20a%20UZA%20with%20Pop%20%5Cu003c%3D200%2C000%20and%20%5Cu003e%20than%205%2C000%22%2C%20%22a2_mpo%22%3A%20%22MTC%22%2C%20%22a2_proj_lat%22%3A%2037.647298%2C%20%22a2_proj_long%22%3A%20-122.49178%2C%20%22a3_proj_type%22%3A%20%22Infrastructure%20-%20Small%22%2C%20%22assembly_district%22%3A%2022%2C%20%22awarded%22%3A%20%22N%22%2C%20%22congressional_district%22%3A%2014%2C%20%22data_origin%22%3A%20%22Application%22%2C%20%22project_app_id%22%3A%20%224-Pacifica%2C%20City%20of-1%22%2C%20%22project_cycle%22%3A%205%2C%20%22senate_district%22%3A%2013%2C%20%22total_atp_%24%22%3A%20null%7D%2C%20%22type%22%3A%20%22Feature%22%7D%2C%20%7B%22bbox%22%3A%20%5B-122.41429%2C%2037.63466%2C%20-122.41429%2C%2037.63466%5D%2C%20%22geometry%22%3A%20%7B%22coordinates%22%3A%20%5B-122.41429%2C%2037.63466%5D%2C%20%22type%22%3A%20%22Point%22%7D%2C%20%22id%22%3A%20%22118%22%2C%20%22properties%22%3A%20%7B%22__folium_color%22%3A%20%22%23393b79%22%2C%20%22a1_imp_agcy_city%22%3A%20%22San%20Bruno%22%2C%20%22a1_imp_agcy_name%22%3A%20%22San%20Bruno%2C%20City%20of%22%2C%20%22a1_imp_agcy_street%22%3A%20%22567%20El%20Camino%20Real%22%2C%20%22a1_proj_partner_agcy%22%3A%20null%2C%20%22a2_county%22%3A%20%22San%20Mateo%22%2C%20%22a2_info_proj_descr%22%3A%20%22Install%20two-way%20Class%20IV%20cycletrack%20with%20a%20concrete%20buffer%20and%20a%20Class%20III%20bicycle%20route%2C%20and%20streetscape%20improvements%22%2C%20%22a2_info_proj_loc%22%3A%20%22The%20project%20is%20located%20on%20Huntington%20Avenue%20in%20San%20Bruno%20connecting%20the%20Centennial%20Way%20Trail%20located%20in%20South%20San%20Francisco%20to%20the%20north%20and%20the%20Caltrain%20Station%20to%20the%20south.%22%2C%20%22a2_info_proj_name%22%3A%20%22Huntington%20Bikeway%20and%20Pedestrian%20Safety%20Project%22%2C%20%22a2_mop_uza_population%22%3A%20%22Project%20is%20located%20within%20one%20of%20the%20ten%20large%20MPOs%22%2C%20%22a2_mpo%22%3A%20%22MTC%22%2C%20%22a2_proj_lat%22%3A%2037.63466%2C%20%22a2_proj_long%22%3A%20-122.41429%2C%20%22a3_proj_type%22%3A%20%22Infrastructure%20-%20Medium%22%2C%20%22assembly_district%22%3A%2022%2C%20%22awarded%22%3A%20%22N%22%2C%20%22congressional_district%22%3A%2013%2C%20%22data_origin%22%3A%20%22Application%22%2C%20%22project_app_id%22%3A%20%224-San%20Bruno%2C%20City%20of-1%22%2C%20%22project_cycle%22%3A%205%2C%20%22senate_district%22%3A%2013%2C%20%22total_atp_%24%22%3A%20null%7D%2C%20%22type%22%3A%20%22Feature%22%7D%2C%20%7B%22bbox%22%3A%20%5B-122.255116%2C%2037.512998%2C%20-122.255116%2C%2037.512998%5D%2C%20%22geometry%22%3A%20%7B%22coordinates%22%3A%20%5B-122.255116%2C%2037.512998%5D%2C%20%22type%22%3A%20%22Point%22%7D%2C%20%22id%22%3A%20%22376%22%2C%20%22properties%22%3A%20%7B%22__folium_color%22%3A%20%22%23393b79%22%2C%20%22a1_imp_agcy_city%22%3A%20%22San%20Carlos%22%2C%20%22a1_imp_agcy_name%22%3A%20%22San%20Carlos%2C%20City%20of%22%2C%20%22a1_imp_agcy_street%22%3A%20%22600%20Elm%20Street%22%2C%20%22a1_proj_partner_agcy%22%3A%20null%2C%20%22a2_county%22%3A%20%22San%20Mateo%22%2C%20%22a2_info_proj_descr%22%3A%20%22Construction%20of%20a%20multi-purpose%20Class%20I%20pedestrian%20and%20bike%20path%3B%20installation%20of%20lighting%20and%20signage.%22%2C%20%22a2_info_proj_loc%22%3A%20%22Approximately%20430%20feet%20south%20of%20the%20existing%20US-101/Holly%20Street%20interchange%2C%20between%20Industrial%20Road%20and%20Skyway%20Drive.%22%2C%20%22a2_info_proj_name%22%3A%20%22Holly%20Street/US-101%20Pedestrian%20and%20Bicyclist%20Overcrossing%22%2C%20%22a2_mop_uza_population%22%3A%20%22Project%20is%20located%20within%20one%20of%20the%20ten%20large%20MPOs%22%2C%20%22a2_mpo%22%3A%20%22MTC%22%2C%20%22a2_proj_lat%22%3A%2037.512998%2C%20%22a2_proj_long%22%3A%20-122.255116%2C%20%22a3_proj_type%22%3A%20%22Infrastructure%20-%20Large%22%2C%20%22assembly_district%22%3A%2022%2C%20%22awarded%22%3A%20%22N%22%2C%20%22congressional_district%22%3A%20%2214%2C%2018%22%2C%20%22data_origin%22%3A%20%22Application%22%2C%20%22project_app_id%22%3A%20%224-San%20Carlos%2C%20City%20of-1%22%2C%20%22project_cycle%22%3A%205%2C%20%22senate_district%22%3A%2013%2C%20%22total_atp_%24%22%3A%20null%7D%2C%20%22type%22%3A%20%22Feature%22%7D%2C%20%7B%22bbox%22%3A%20%5B-121.943727%2C%2038.018421%2C%20-121.943727%2C%2038.018421%5D%2C%20%22geometry%22%3A%20%7B%22coordinates%22%3A%20%5B-121.943727%2C%2038.018421%5D%2C%20%22type%22%3A%20%22Point%22%7D%2C%20%22id%22%3A%20%22323%22%2C%20%22properties%22%3A%20%7B%22__folium_color%22%3A%20%22%23393b79%22%2C%20%22a1_imp_agcy_city%22%3A%20%22Oakland%22%2C%20%22a1_imp_agcy_name%22%3A%20%22San%20Francisco%20Bay%20Area%20Rapid%20Transit%20District%22%2C%20%22a1_imp_agcy_street%22%3A%20%22300%20Lakeside%20Drive%2C%2021st%20Floor%22%2C%20%22a1_proj_partner_agcy%22%3A%20null%2C%20%22a2_county%22%3A%20%22Contra%20Costa%22%2C%20%22a2_info_proj_descr%22%3A%20%22Repave%20decommissioned%20bus-only%20lane%20for%20Class%20IV%20separated%20bikeway%2C%20road%20diet%20%5Cu0026%20repair%20sidewalk%3B%20install%20bike%20channels%20%5Cu0026%20ADA%20ramp%20at%20station%20entrance%2C%20wayfinding%20at%20intersection%22%2C%20%22a2_info_proj_loc%22%3A%20%22The%20Pittsburg/Bay%20Point%20BART%20station%20on%20the%20access%20road%20between%20Bailey%20Road%20and%20the%20station%2C%20as%20well%20as%20the%20station%20entrance%20stairs%22%2C%20%22a2_info_proj_name%22%3A%20%22Bicycle%2C%20pedestrian%2C%20and%20ADA%20improvements%20at%20Pittsburg/Bay%20Point%20BART%20Station%22%2C%20%22a2_mop_uza_population%22%3A%20%22Project%20is%20located%20within%20one%20of%20the%20ten%20large%20MPOs%22%2C%20%22a2_mpo%22%3A%20%22MTC%22%2C%20%22a2_proj_lat%22%3A%2038.018421%2C%20%22a2_proj_long%22%3A%20-121.943727%2C%20%22a3_proj_type%22%3A%20%22Infrastructure%20-%20Small%22%2C%20%22assembly_district%22%3A%2014%2C%20%22awarded%22%3A%20%22N%22%2C%20%22congressional_district%22%3A%2011%2C%20%22data_origin%22%3A%20%22Application%22%2C%20%22project_app_id%22%3A%20%224-San%20Francisco%20Bay%20Area%20Rapid%20Transit%20District-1%22%2C%20%22project_cycle%22%3A%205%2C%20%22senate_district%22%3A%207%2C%20%22total_atp_%24%22%3A%20null%7D%2C%20%22type%22%3A%20%22Feature%22%7D%2C%20%7B%22bbox%22%3A%20%5B-122.365967%2C%2037.808785%2C%20-122.365967%2C%2037.808785%5D%2C%20%22geometry%22%3A%20%7B%22coordinates%22%3A%20%5B-122.365967%2C%2037.808785%5D%2C%20%22type%22%3A%20%22Point%22%7D%2C%20%22id%22%3A%20%22414%22%2C%20%22properties%22%3A%20%7B%22__folium_color%22%3A%20%22%23393b79%22%2C%20%22a1_imp_agcy_city%22%3A%20%22San%20Francisco%22%2C%20%22a1_imp_agcy_name%22%3A%20%22San%20Francisco%20County%20Transportation%20Authority%22%2C%20%22a1_imp_agcy_street%22%3A%20%221455%20Market%20Street%2C%2022nd%20Floor%22%2C%20%22a1_proj_partner_agcy%22%3A%20null%2C%20%22a2_county%22%3A%20%22San%20Francisco%22%2C%20%22a2_info_proj_descr%22%3A%20%22PS%5Cu0026E%20funding%20for%20the%20eventual%20construction%20of%201.2%20miles%20of%20multi-use%20pathway%20from%20the%20existing%20Bay%20Bridge%20East%20Span%20bike/ped%20landing%20to%20the%20Treasure%20Island%20Ferry%20Terminal.%22%2C%20%22a2_info_proj_loc%22%3A%20%22Between%20the%20existing%20Bay%20Bridge%20East%20Span%20bike/ped%20landing%20on%20YBI%20and%20the%20Ferry%20Terminal%20on%20Treasure%20Island.%20The%20path%20will%20be%20adjacent%20to%20Hillcrest%20Road%20and%20Treasure%20Island%20Road.%22%2C%20%22a2_info_proj_name%22%3A%20%22Yerba%20Buena%20Island%20Multi-use%20Pathway%20Project%22%2C%20%22a2_mop_uza_population%22%3A%20%22Project%20is%20located%20within%20one%20of%20the%20ten%20large%20MPOs%22%2C%20%22a2_mpo%22%3A%20%22MTC%22%2C%20%22a2_proj_lat%22%3A%2037.808785%2C%20%22a2_proj_long%22%3A%20-122.365967%2C%20%22a3_proj_type%22%3A%20%22Infrastructure%20-%20Large%22%2C%20%22assembly_district%22%3A%2017%2C%20%22awarded%22%3A%20%22N%22%2C%20%22congressional_district%22%3A%2012%2C%20%22data_origin%22%3A%20%22Application%22%2C%20%22project_app_id%22%3A%20%224-San%20Francisco%20County%20Transportation%20Authority-1%22%2C%20%22project_cycle%22%3A%205%2C%20%22senate_district%22%3A%2011%2C%20%22total_atp_%24%22%3A%20null%7D%2C%20%22type%22%3A%20%22Feature%22%7D%2C%20%7B%22bbox%22%3A%20%5B-122.405645%2C%2037.7785%2C%20-122.405645%2C%2037.7785%5D%2C%20%22geometry%22%3A%20%7B%22coordinates%22%3A%20%5B-122.405645%2C%2037.7785%5D%2C%20%22type%22%3A%20%22Point%22%7D%2C%20%22id%22%3A%20%2263%22%2C%20%22properties%22%3A%20%7B%22__folium_color%22%3A%20%22%23393b79%22%2C%20%22a1_imp_agcy_city%22%3A%20%22San%20Francisco%22%2C%20%22a1_imp_agcy_name%22%3A%20%22San%20Francisco%20Municipal%20Transportation%20Agency%22%2C%20%22a1_imp_agcy_street%22%3A%20%221%20South%20Van%20Ness%20Avenue%22%2C%20%22a1_proj_partner_agcy%22%3A%20null%2C%20%22a2_county%22%3A%20%22San%20Francisco%22%2C%20%22a2_info_proj_descr%22%3A%20%22Transformation%20of%20Folsom%20Street%20between%202nd%20and%2011th%20Street%20from%20a%20roadway%20mainly%20serving%20vehicles%20to%20a%20Complete%20Street%20improving%20traffic%20safety%20and%20comfort%20for%20all%20users%22%2C%20%22a2_info_proj_loc%22%3A%20%22This%20project%20is%20located%20in%20the%20South%20of%20Market%20%28SoMa%29%20neighborbhood%20in%20San%20Francisco%2C%20on%20Folsom%20Street%20between%202nd%20and%2011th%20streets.%22%2C%20%22a2_info_proj_name%22%3A%20%22Folsom%20Streetscape%20Project%22%2C%20%22a2_mop_uza_population%22%3A%20%22Project%20is%20located%20within%20one%20of%20the%20ten%20large%20MPOs%22%2C%20%22a2_mpo%22%3A%20%22MTC%22%2C%20%22a2_proj_lat%22%3A%2037.7785%2C%20%22a2_proj_long%22%3A%20-122.405645%2C%20%22a3_proj_type%22%3A%20%22Infrastructure%20-%20Large%22%2C%20%22assembly_district%22%3A%2017%2C%20%22awarded%22%3A%20%22N%22%2C%20%22congressional_district%22%3A%2012%2C%20%22data_origin%22%3A%20%22Application%22%2C%20%22project_app_id%22%3A%20%224-San%20Francisco%20Municipal%20Transportation%20Agency-1%22%2C%20%22project_cycle%22%3A%205%2C%20%22senate_district%22%3A%2011%2C%20%22total_atp_%24%22%3A%20null%7D%2C%20%22type%22%3A%20%22Feature%22%7D%2C%20%7B%22bbox%22%3A%20%5B-122.609737%2C%2038.117936%2C%20-122.609737%2C%2038.117936%5D%2C%20%22geometry%22%3A%20%7B%22coordinates%22%3A%20%5B-122.609737%2C%2038.117936%5D%2C%20%22type%22%3A%20%22Point%22%7D%2C%20%22id%22%3A%20%22101%22%2C%20%22properties%22%3A%20%7B%22__folium_color%22%3A%20%22%23393b79%22%2C%20%22a1_imp_agcy_city%22%3A%20%22Novato%22%2C%20%22a1_imp_agcy_name%22%3A%20%22Novato%2C%20City%20of%22%2C%20%22a1_imp_agcy_street%22%3A%20%22922%20Machin%20Avenue%22%2C%20%22a1_proj_partner_agcy%22%3A%20null%2C%20%22a2_county%22%3A%20%22Marin%22%2C%20%22a2_info_proj_descr%22%3A%20%22Safe%20Routes%20to%20School%20Project%20that%20will%20result%20in%20the%20reconfiguration%20of%20a%20major%20intersection%2C%20improvement%20of%20shared%20use%20pathway%2C%20new%20crosswalk%20and%20signage%2C%20and%20bike%20lanes.%22%2C%20%22a2_info_proj_loc%22%3A%20%22The%20project%20is%20located%20at%20the%20intersection%20of%20Novato%20Blvd%2C%20Sutro%20Ave%20and%20San%20Marin%20Dr%20in%20Novato%2C%20and%20extends%20south%20on%20Sutro%20Ave%20to%20Michele%20Circle.%22%2C%20%22a2_info_proj_name%22%3A%20%22San%20Marin%20High%20School%20Area%20Multimodal%20Access%20Project%22%2C%20%22a2_mop_uza_population%22%3A%20%22Project%20is%20located%20within%20one%20of%20the%20ten%20large%20MPOs%22%2C%20%22a2_mpo%22%3A%20%22MTC%22%2C%20%22a2_proj_lat%22%3A%2038.117936%2C%20%22a2_proj_long%22%3A%20-122.609737%2C%20%22a3_proj_type%22%3A%20%22Infrastructure%20-%20Small%22%2C%20%22assembly_district%22%3A%2010%2C%20%22awarded%22%3A%20%22N%22%2C%20%22congressional_district%22%3A%202%2C%20%22data_origin%22%3A%20%22Application%22%2C%20%22project_app_id%22%3A%20%224-Novato%2C%20City%20of-1%22%2C%20%22project_cycle%22%3A%205%2C%20%22senate_district%22%3A%202%2C%20%22total_atp_%24%22%3A%20null%7D%2C%20%22type%22%3A%20%22Feature%22%7D%2C%20%7B%22bbox%22%3A%20%5B-122.309781%2C%2038.296098%2C%20-122.309781%2C%2038.296098%5D%2C%20%22geometry%22%3A%20%7B%22coordinates%22%3A%20%5B-122.309781%2C%2038.296098%5D%2C%20%22type%22%3A%20%22Point%22%7D%2C%20%22id%22%3A%20%22446%22%2C%20%22properties%22%3A%20%7B%22__folium_color%22%3A%20%22%23393b79%22%2C%20%22a1_imp_agcy_city%22%3A%20%22Napa%22%2C%20%22a1_imp_agcy_name%22%3A%20%22Napa%2C%20City%20of%22%2C%20%22a1_imp_agcy_street%22%3A%20%22P.O%20Box%20660%22%2C%20%22a1_proj_partner_agcy%22%3A%20null%2C%20%22a2_county%22%3A%20%22Napa%22%2C%20%22a2_info_proj_descr%22%3A%20%22Design%20and%20construction%20of%20curb%2C%20gutter%2C%20sidewalk%2C%20ADA%20curb%20ramps%2C%20and%20striped%20crosswalks%20within%20the%20Westwood%20Neighborhood.%22%2C%20%22a2_info_proj_loc%22%3A%20%22Westwood%20Neighborhood%20of%20the%20City%20of%20Napa%20along%20the%20streets%20of%3A%20Chelsea%20Avenue%2C%20Homewood%20Avenue%2C%20Westwood%20Avenue%2C%20and%20Cornwall%20Avenue.%22%2C%20%22a2_info_proj_name%22%3A%20%22Westwood%20Neighborhood%20Pedestrian%20Infrastructure%20Improvements%22%2C%20%22a2_mop_uza_population%22%3A%20%22Project%20is%20located%20within%20one%20of%20the%20ten%20large%20MPOs%22%2C%20%22a2_mpo%22%3A%20%22MTC%22%2C%20%22a2_proj_lat%22%3A%2038.296098%2C%20%22a2_proj_long%22%3A%20-122.309781%2C%20%22a3_proj_type%22%3A%20%22Infrastructure%20-%20Medium%22%2C%20%22assembly_district%22%3A%204%2C%20%22awarded%22%3A%20%22N%22%2C%20%22congressional_district%22%3A%205%2C%20%22data_origin%22%3A%20%22Application%22%2C%20%22project_app_id%22%3A%20%224-Napa%2C%20City%20of-1%22%2C%20%22project_cycle%22%3A%205%2C%20%22senate_district%22%3A%203%2C%20%22total_atp_%24%22%3A%20null%7D%2C%20%22type%22%3A%20%22Feature%22%7D%2C%20%7B%22bbox%22%3A%20%5B-121.982188%2C%2037.548449%2C%20-121.982188%2C%2037.548449%5D%2C%20%22geometry%22%3A%20%7B%22coordinates%22%3A%20%5B-121.982188%2C%2037.548449%5D%2C%20%22type%22%3A%20%22Point%22%7D%2C%20%22id%22%3A%20%22413%22%2C%20%22properties%22%3A%20%7B%22__folium_color%22%3A%20%22%23393b79%22%2C%20%22a1_imp_agcy_city%22%3A%20%22Fremont%22%2C%20%22a1_imp_agcy_name%22%3A%20%22Fremont%2C%20City%20of%22%2C%20%22a1_imp_agcy_street%22%3A%20%22PO%20Box%205006%22%2C%20%22a1_proj_partner_agcy%22%3A%20null%2C%20%22a2_county%22%3A%20%22Alameda%22%2C%20%22a2_info_proj_descr%22%3A%20%22City%20of%20Fremont%5Cu2019s%20Walnut%20Avenue%20Protected%20Intersection%20corridor%20improvements%20and%20installation%20of%20pedestrian%20rapid%20flashing%20beacon.%20%22%2C%20%22a2_info_proj_loc%22%3A%20%22The%20project%20is%20situated%20along%20the%20Walnut%20Avenue%20corridor%20between%20the%20intersections%20of%20Fremont%20Boulevard%20and%20Liberty%20Street%20in%20the%20City%20Center/Downtown%20area%20of%20City%20of%20Fremont.%22%2C%20%22a2_info_proj_name%22%3A%20%22Walnut%20Avenue%20Corridor%20Protected%20Intersections%20Project%22%2C%20%22a2_mop_uza_population%22%3A%20%22Project%20is%20located%20within%20one%20of%20the%20ten%20large%20MPOs%22%2C%20%22a2_mpo%22%3A%20%22MTC%22%2C%20%22a2_proj_lat%22%3A%2037.548449%2C%20%22a2_proj_long%22%3A%20-121.982188%2C%20%22a3_proj_type%22%3A%20%22Infrastructure%20-%20Medium%22%2C%20%22assembly_district%22%3A%20%2220%2C%2025%22%2C%20%22awarded%22%3A%20%22N%22%2C%20%22congressional_district%22%3A%2017%2C%20%22data_origin%22%3A%20%22Application%22%2C%20%22project_app_id%22%3A%20%224-Fremont%2C%20City%20of-1%22%2C%20%22project_cycle%22%3A%205%2C%20%22senate_district%22%3A%2010%2C%20%22total_atp_%24%22%3A%20null%7D%2C%20%22type%22%3A%20%22Feature%22%7D%2C%20%7B%22bbox%22%3A%20%5B-122.435017%2C%2037.472211%2C%20-122.435017%2C%2037.472211%5D%2C%20%22geometry%22%3A%20%7B%22coordinates%22%3A%20%5B-122.435017%2C%2037.472211%5D%2C%20%22type%22%3A%20%22Point%22%7D%2C%20%22id%22%3A%20%22359%22%2C%20%22properties%22%3A%20%7B%22__folium_color%22%3A%20%22%23393b79%22%2C%20%22a1_imp_agcy_city%22%3A%20%22Half%20Moon%20Bay%22%2C%20%22a1_imp_agcy_name%22%3A%20%22Half%20Moon%20Bay%2C%20City%20of%22%2C%20%22a1_imp_agcy_street%22%3A%20%22501%20Main%20Street%22%2C%20%22a1_proj_partner_agcy%22%3A%20null%2C%20%22a2_county%22%3A%20%22San%20Mateo%22%2C%20%22a2_info_proj_descr%22%3A%20%22Design%20and%20construct%20a%20pedestrian%20and%20bicycle%20safety%20and%20mobility%20improvement%20project%20to%20create%20a%20Class%20I%20multiuse%20pathway.%20%22%2C%20%22a2_info_proj_loc%22%3A%20%22City%20of%20Half%20Moon%20Bay%2C%20along%20the%20east%20side%20of%20Highway%201%20from%20Main%20Street%20to%20Spindrift%20Way.%22%2C%20%22a2_info_proj_name%22%3A%20%22Highway%201%20Safety%20and%20Operational%20Improvements%20North%22%2C%20%22a2_mop_uza_population%22%3A%20%22Project%20is%20located%20within%20one%20of%20the%20ten%20large%20MPOs%22%2C%20%22a2_mpo%22%3A%20%22MTC%22%2C%20%22a2_proj_lat%22%3A%2037.472211%2C%20%22a2_proj_long%22%3A%20-122.435017%2C%20%22a3_proj_type%22%3A%20%22Infrastructure%20-%20Large%22%2C%20%22assembly_district%22%3A%2024%2C%20%22awarded%22%3A%20%22N%22%2C%20%22congressional_district%22%3A%2014%2C%20%22data_origin%22%3A%20%22Application%22%2C%20%22project_app_id%22%3A%20%224-Half%20Moon%20Bay%2C%20City%20of-1%22%2C%20%22project_cycle%22%3A%205%2C%20%22senate_district%22%3A%2013%2C%20%22total_atp_%24%22%3A%20null%7D%2C%20%22type%22%3A%20%22Feature%22%7D%2C%20%7B%22bbox%22%3A%20%5B-122.266275%2C%2038.01242%2C%20-122.266275%2C%2038.01242%5D%2C%20%22geometry%22%3A%20%7B%22coordinates%22%3A%20%5B-122.266275%2C%2038.01242%5D%2C%20%22type%22%3A%20%22Point%22%7D%2C%20%22id%22%3A%20%22287%22%2C%20%22properties%22%3A%20%7B%22__folium_color%22%3A%20%22%23393b79%22%2C%20%22a1_imp_agcy_city%22%3A%20%22Hercules%22%2C%20%22a1_imp_agcy_name%22%3A%20%22Hercules%2C%20City%20of%22%2C%20%22a1_imp_agcy_street%22%3A%20%22111%20Civic%20Drive%22%2C%20%22a1_proj_partner_agcy%22%3A%20null%2C%20%22a2_county%22%3A%20%22Contra%20Costa%22%2C%20%22a2_info_proj_descr%22%3A%20%22Construction%20of%20new%20sidewalk%20and%20narrow%20vehicular%20travel%20lanes%2C%20as%20well%20as%20installation%20of%20new%20lighting%20at%20intersection%22%2C%20%22a2_info_proj_loc%22%3A%20%22Along%20Willow%20Avenue%20starting%20from%20the%20SR-4%20on-ramp%20to%20the%20intersection%20at%20Palm%20Avenue%2C%20then%20from%20Palm%20Avenue%20to%20the%20intersection%20at%20Sycamore%20Avenue%22%2C%20%22a2_info_proj_name%22%3A%20%22Willow/Palm%20Pedestrian%20Corridor%20Transit%20Center%20Connector%22%2C%20%22a2_mop_uza_population%22%3A%20%22Project%20is%20located%20within%20one%20of%20the%20ten%20large%20MPOs%22%2C%20%22a2_mpo%22%3A%20%22MTC%22%2C%20%22a2_proj_lat%22%3A%2038.01242%2C%20%22a2_proj_long%22%3A%20-122.266275%2C%20%22a3_proj_type%22%3A%20%22Infrastructure%20-%20Small%22%2C%20%22assembly_district%22%3A%20%2200%22%2C%20%22awarded%22%3A%20%22N%22%2C%20%22congressional_district%22%3A%20%2205%22%2C%20%22data_origin%22%3A%20%22Application%22%2C%20%22project_app_id%22%3A%20%224-Hercules%2C%20City%20of-1%22%2C%20%22project_cycle%22%3A%205%2C%20%22senate_district%22%3A%20%2209%22%2C%20%22total_atp_%24%22%3A%20null%7D%2C%20%22type%22%3A%20%22Feature%22%7D%2C%20%7B%22bbox%22%3A%20%5B-122.06573%2C%2037.5316%2C%20-122.06573%2C%2037.5316%5D%2C%20%22geometry%22%3A%20%7B%22coordinates%22%3A%20%5B-122.06573%2C%2037.5316%5D%2C%20%22type%22%3A%20%22Point%22%7D%2C%20%22id%22%3A%20%22398%22%2C%20%22properties%22%3A%20%7B%22__folium_color%22%3A%20%22%23393b79%22%2C%20%22a1_imp_agcy_city%22%3A%20%22Lafayette%22%2C%20%22a1_imp_agcy_name%22%3A%20%22Lafayette%2C%20City%20of%22%2C%20%22a1_imp_agcy_street%22%3A%20%223675%20Mount%20Diablo%20Blvd.%22%2C%20%22a1_proj_partner_agcy%22%3A%20null%2C%20%22a2_county%22%3A%20%22Contra%20Costa%22%2C%20%22a2_info_proj_descr%22%3A%20%22Design%20and%20construct%20a%20Class%20I%20multi-use%20pathway%20to%20create%20a%20Safe%20Route%20to%20School%20and%20Complete%20Street%20corridor%20on%20School%20Street%20and%20Topper%20Lane%20in%20Downtown%20Lafayette.%20%20%22%2C%20%22a2_info_proj_loc%22%3A%20%22School%20Street/Topper%20Lane%20adjacent%20to%20the%20Lafayette-Moraga%20Regional%20Trail.%20The%20Project%20is%20located%20in%20Downtown%20Lafayette%2C%20next%20to%20two%20schools%20within%20the%20Lafayette%20School%20District.%22%2C%20%22a2_info_proj_name%22%3A%20%22School%20Street/Topper%20Lane%20Safe%20Routes%20to%20School%20Project%22%2C%20%22a2_mop_uza_population%22%3A%20%22Project%20is%20located%20within%20one%20of%20the%20ten%20large%20MPOs%22%2C%20%22a2_mpo%22%3A%20%22MTC%22%2C%20%22a2_proj_lat%22%3A%2037.5316%2C%20%22a2_proj_long%22%3A%20-122.06573%2C%20%22a3_proj_type%22%3A%20%22Infrastructure%20-%20Medium%22%2C%20%22assembly_district%22%3A%2016%2C%20%22awarded%22%3A%20%22N%22%2C%20%22congressional_district%22%3A%2011%2C%20%22data_origin%22%3A%20%22Application%22%2C%20%22project_app_id%22%3A%20%224-Lafayette%2C%20City%20of-1%22%2C%20%22project_cycle%22%3A%205%2C%20%22senate_district%22%3A%207%2C%20%22total_atp_%24%22%3A%20null%7D%2C%20%22type%22%3A%20%22Feature%22%7D%2C%20%7B%22bbox%22%3A%20%5B-122.096849%2C%2037.899742%2C%20-122.096849%2C%2037.899742%5D%2C%20%22geometry%22%3A%20%7B%22coordinates%22%3A%20%5B-122.096849%2C%2037.899742%5D%2C%20%22type%22%3A%20%22Point%22%7D%2C%20%22id%22%3A%20%22419%22%2C%20%22properties%22%3A%20%7B%22__folium_color%22%3A%20%22%23393b79%22%2C%20%22a1_imp_agcy_city%22%3A%20%22Lafayette%22%2C%20%22a1_imp_agcy_name%22%3A%20%22Lafayette%2C%20City%20of%22%2C%20%22a1_imp_agcy_street%22%3A%20%223675%20Mount%20Diablo%20Blvd.%22%2C%20%22a1_proj_partner_agcy%22%3A%20null%2C%20%22a2_county%22%3A%20%22Contra%20Costa%22%2C%20%22a2_info_proj_descr%22%3A%20%22Design%20and%20construct%20a%20Class%20I%20multi-purpose%20pathway%20to%20provide%20a%20safe%20route%20to%20school%2C%20and%20a%20connection%20to%20a%20regional%20trail%2C%20on%20a%20Route%20of%20Regional%20Significance.%20%22%2C%20%22a2_info_proj_loc%22%3A%20%22Pleasant%20Hill%20Road%2C%20between%20Mount%20Diablo%20Boulevard%20and%20Deer%20Hill/Stanley%20Boulevard%2C%20in%20the%20City%20of%20Lafayette.%22%2C%20%22a2_info_proj_name%22%3A%20%22Pleasant%20Hill%20Road%20Class%20I%20Pathway%22%2C%20%22a2_mop_uza_population%22%3A%20%22Project%20is%20located%20within%20one%20of%20the%20ten%20large%20MPOs%22%2C%20%22a2_mpo%22%3A%20%22MTC%22%2C%20%22a2_proj_lat%22%3A%2037.899742%2C%20%22a2_proj_long%22%3A%20-122.096849%2C%20%22a3_proj_type%22%3A%20%22Infrastructure%20-%20Medium%22%2C%20%22assembly_district%22%3A%2016%2C%20%22awarded%22%3A%20%22N%22%2C%20%22congressional_district%22%3A%2011%2C%20%22data_origin%22%3A%20%22Application%22%2C%20%22project_app_id%22%3A%20%224-Lafayette%2C%20City%20of-2%22%2C%20%22project_cycle%22%3A%205%2C%20%22senate_district%22%3A%207%2C%20%22total_atp_%24%22%3A%20null%7D%2C%20%22type%22%3A%20%22Feature%22%7D%2C%20%7B%22bbox%22%3A%20%5B-122.177285%2C%2037.451533%2C%20-122.177285%2C%2037.451533%5D%2C%20%22geometry%22%3A%20%7B%22coordinates%22%3A%20%5B-122.177285%2C%2037.451533%5D%2C%20%22type%22%3A%20%22Point%22%7D%2C%20%22id%22%3A%20%2243%22%2C%20%22properties%22%3A%20%7B%22__folium_color%22%3A%20%22%23393b79%22%2C%20%22a1_imp_agcy_city%22%3A%20%22Menlo%20Park%22%2C%20%22a1_imp_agcy_name%22%3A%20%22Menlo%20Park%2C%20City%20of%22%2C%20%22a1_imp_agcy_street%22%3A%20%22701%20Laurel%20Street%22%2C%20%22a1_proj_partner_agcy%22%3A%20null%2C%20%22a2_county%22%3A%20%22San%20Mateo%22%2C%20%22a2_info_proj_descr%22%3A%20%22Install%20a%20pedestrian/bicycle-only%20grade%20separation%20structure%20%28tunnel/underpass%29%20in%20southern%20Menlo%20Park%20at%20approximately%20Middle%20Avenue%22%2C%20%22a2_info_proj_loc%22%3A%20%22Between%20El%20Camino%20Real%20and%20the%20Caltrain%20railroad%20tracks%20at%20approximately%20Middle%20Avenue%20in%20the%20soon-to-be-developed%20parcel%20for%20Middle%20Plaza%20located%20at%20500%20El%20Camino%20Real.%22%2C%20%22a2_info_proj_name%22%3A%20%22Middle%20Avenue%20Pedestrian/Bicycle%20Rail%20Crossing%20Project%22%2C%20%22a2_mop_uza_population%22%3A%20%22Project%20is%20located%20within%20one%20of%20the%20ten%20large%20MPOs%22%2C%20%22a2_mpo%22%3A%20%22MTC%22%2C%20%22a2_proj_lat%22%3A%2037.451533%2C%20%22a2_proj_long%22%3A%20-122.177285%2C%20%22a3_proj_type%22%3A%20%22Infrastructure%20-%20Large%22%2C%20%22assembly_district%22%3A%2024%2C%20%22awarded%22%3A%20%22N%22%2C%20%22congressional_district%22%3A%2018%2C%20%22data_origin%22%3A%20%22Application%22%2C%20%22project_app_id%22%3A%20%224-Menlo%20Park%2C%20City%20of-1%22%2C%20%22project_cycle%22%3A%205%2C%20%22senate_district%22%3A%2013%2C%20%22total_atp_%24%22%3A%20null%7D%2C%20%22type%22%3A%20%22Feature%22%7D%2C%20%7B%22bbox%22%3A%20%5B-122.483886%2C%2037.945321%2C%20-122.483886%2C%2037.945321%5D%2C%20%22geometry%22%3A%20%7B%22coordinates%22%3A%20%5B-122.483886%2C%2037.945321%5D%2C%20%22type%22%3A%20%22Point%22%7D%2C%20%22id%22%3A%20%22338%22%2C%20%22properties%22%3A%20%7B%22__folium_color%22%3A%20%22%23393b79%22%2C%20%22a1_imp_agcy_city%22%3A%20%22San%20Francisco%22%2C%20%22a1_imp_agcy_name%22%3A%20%22Metropilitan%20Transportation%20Commission%20%28MTC%29%22%2C%20%22a1_imp_agcy_street%22%3A%20%22375%20Beale%20Street%3B%20Suite%20800%22%2C%20%22a1_proj_partner_agcy%22%3A%20null%2C%20%22a2_county%22%3A%20%22Marin%22%2C%20%22a2_info_proj_descr%22%3A%20%22Construction%20of%20a%20multiuse%20pathway%20to%20connect%20users%20between%20existing%20pathways%2C%20the%20SF%20Bay%20Trail%2C%20and%20the%20new%20bicycle%20and%20pedestrian%20facility%20on%20the%20Richmond-San%20Rafael%20Bridge.%22%2C%20%22a2_info_proj_loc%22%3A%20%22Francisco%20Boulevard%20East%20in%20San%20Rafael%2C%20from%20the%20westbound%20Main%20Street%20off-ramp%20to%20Grange%20Avenue%22%2C%20%22a2_info_proj_name%22%3A%20%22Richmond-San%20Rafael%20Bridge%20Shared%20Use%20Path%20Gap%20Closure%22%2C%20%22a2_mop_uza_population%22%3A%20%22Project%20is%20located%20within%20one%20of%20the%20ten%20large%20MPOs%22%2C%20%22a2_mpo%22%3A%20%22MTC%22%2C%20%22a2_proj_lat%22%3A%2037.945321%2C%20%22a2_proj_long%22%3A%20-122.483886%2C%20%22a3_proj_type%22%3A%20%22Infrastructure%20-%20Medium%22%2C%20%22assembly_district%22%3A%2010%2C%20%22awarded%22%3A%20%22N%22%2C%20%22congressional_district%22%3A%202%2C%20%22data_origin%22%3A%20%22Application%22%2C%20%22project_app_id%22%3A%20%224-Metropilitan%20Transportation%20Commission%20%28MTC%29-1%22%2C%20%22project_cycle%22%3A%205%2C%20%22senate_district%22%3A%202%2C%20%22total_atp_%24%22%3A%20null%7D%2C%20%22type%22%3A%20%22Feature%22%7D%2C%20%7B%22bbox%22%3A%20%5B-122.380829%2C%2037.602394%2C%20-122.380829%2C%2037.602394%5D%2C%20%22geometry%22%3A%20%7B%22coordinates%22%3A%20%5B-122.380829%2C%2037.602394%5D%2C%20%22type%22%3A%20%22Point%22%7D%2C%20%22id%22%3A%20%22330%22%2C%20%22properties%22%3A%20%7B%22__folium_color%22%3A%20%22%23393b79%22%2C%20%22a1_imp_agcy_city%22%3A%20%22Millbrae%22%2C%20%22a1_imp_agcy_name%22%3A%20%22Millbrae%2C%20City%20of%22%2C%20%22a1_imp_agcy_street%22%3A%20%22621%20Magnolia%20Avenue%22%2C%20%22a1_proj_partner_agcy%22%3A%20null%2C%20%22a2_county%22%3A%20%22San%20Mateo%22%2C%20%22a2_info_proj_descr%22%3A%20%22Across%20US%20101%20north%20of%20and%20adjacent%20to%20the%20existing%20Millbrae%20Avenue%20bridge%3B%20Construct%20a%20new%2010-ft%20wide%20Class%201%20mixed-use%20bike/ped%20overcrossing.%22%2C%20%22a2_info_proj_loc%22%3A%20%22The%20project%20is%20located%20adjacent%20to%20Millbrae%20Avenue%20between%20Aviador%20Avenue%20and%20connecting%20to%20the%20San%20Francisco%20Bay%20Trail%20on%20the%20east%2C%20at%20McDonnell%20Road/Old%20Bayshore%20Highway.%22%2C%20%22a2_info_proj_name%22%3A%20%22Millbrae%20Avenue%20Bicycle/Pedestrian%20Overcrossing%20Bridge%20Project%22%2C%20%22a2_mop_uza_population%22%3A%20%22Project%20is%20located%20within%20one%20of%20the%20ten%20large%20MPOs%22%2C%20%22a2_mpo%22%3A%20%22MTC%22%2C%20%22a2_proj_lat%22%3A%2037.602394%2C%20%22a2_proj_long%22%3A%20-122.380829%2C%20%22a3_proj_type%22%3A%20%22Infrastructure%20-%20Large%22%2C%20%22assembly_district%22%3A%2022%2C%20%22awarded%22%3A%20%22N%22%2C%20%22congressional_district%22%3A%2014%2C%20%22data_origin%22%3A%20%22Application%22%2C%20%22project_app_id%22%3A%20%224-Millbrae%2C%20City%20of-1%22%2C%20%22project_cycle%22%3A%205%2C%20%22senate_district%22%3A%2013%2C%20%22total_atp_%24%22%3A%20null%7D%2C%20%22type%22%3A%20%22Feature%22%7D%2C%20%7B%22bbox%22%3A%20%5B-122.28668%2C%2037.803556%2C%20-122.28668%2C%2037.803556%5D%2C%20%22geometry%22%3A%20%7B%22coordinates%22%3A%20%5B-122.28668%2C%2037.803556%5D%2C%20%22type%22%3A%20%22Point%22%7D%2C%20%22id%22%3A%20%2210%22%2C%20%22properties%22%3A%20%7B%22__folium_color%22%3A%20%22%23de9ed6%22%2C%20%22a1_imp_agcy_city%22%3A%20%22Oakland%22%2C%20%22a1_imp_agcy_name%22%3A%20%22Oakland%2C%20City%20of%22%2C%20%22a1_imp_agcy_street%22%3A%20%22250%20Frank%20Ogawa%20Plaza%22%2C%20%22a1_proj_partner_agcy%22%3A%20null%2C%20%22a2_county%22%3A%20%22Alameda%22%2C%20%22a2_info_proj_descr%22%3A%20%22Complete%20Streets%20corridor%20project%20including%20protected%20bike%20lanes%2C%20intersection/traffic%20signal%20improvements%2C%20sidewalk%20repairs%2C%20and%20new%20trees%20that%20improve%20ssafety%20for%20all%20road%20users%22%2C%20%22a2_info_proj_loc%22%3A%20%227th%20Street%20from%20Mandela%20Parkway%20to%20Martin%20Luther%20King%20Jr%20Way%22%2C%20%22a2_info_proj_name%22%3A%20%227th%20Street%20Connection%20Project%22%2C%20%22a2_mop_uza_population%22%3A%20%22Project%20is%20located%20within%20one%20of%20the%20ten%20large%20MPOs%22%2C%20%22a2_mpo%22%3A%20%22MTC%22%2C%20%22a2_proj_lat%22%3A%2037.803556%2C%20%22a2_proj_long%22%3A%20-122.28668%2C%20%22a3_proj_type%22%3A%20null%2C%20%22assembly_district%22%3A%2018%2C%20%22awarded%22%3A%20%22Y%22%2C%20%22congressional_district%22%3A%2013%2C%20%22data_origin%22%3A%20%22Funded%22%2C%20%22project_app_id%22%3A%20%224-Oakland%2C%20City%20of-1%22%2C%20%22project_cycle%22%3A%205.0%2C%20%22senate_district%22%3A%209%2C%20%22total_atp_%24%22%3A%2014180000.0%7D%2C%20%22type%22%3A%20%22Feature%22%7D%2C%20%7B%22bbox%22%3A%20%5B-122.18217%2C%2037.750995%2C%20-122.18217%2C%2037.750995%5D%2C%20%22geometry%22%3A%20%7B%22coordinates%22%3A%20%5B-122.18217%2C%2037.750995%5D%2C%20%22type%22%3A%20%22Point%22%7D%2C%20%22id%22%3A%20%2232%22%2C%20%22properties%22%3A%20%7B%22__folium_color%22%3A%20%22%23de9ed6%22%2C%20%22a1_imp_agcy_city%22%3A%20%22Oakland%22%2C%20%22a1_imp_agcy_name%22%3A%20%22Oakland%2C%20City%20of%22%2C%20%22a1_imp_agcy_street%22%3A%20%22250%20Frank%20H%20Ogawa%20Plaza%22%2C%20%22a1_proj_partner_agcy%22%3A%20null%2C%20%22a2_county%22%3A%20%22Alameda%22%2C%20%22a2_info_proj_descr%22%3A%20%22Neighborhood%20bike%20routes%20on%20four%20corridors%20in%20East%20Oakland%20linking%20residents%20to%20schools%2C%20parks%2C%20transit%2C%20grocery%20stores%20and%20other%20community%20destinations.%20%22%2C%20%22a2_info_proj_loc%22%3A%20%22Neighborhood%20bike%20routes%20on%2081st%20Avenue%2C%2085th%20Avenue%2C%2064th%20Avenue/Arthur%20Street%2C%20and%20Hamilton%20Street/Rudsdale%20Street/D%20Street/Royal%20Ann%20Street%20in%20East%20Oakland.%22%2C%20%22a2_info_proj_name%22%3A%20%22East%20Oakland%20Neighborhood%20Bike%20Routes%22%2C%20%22a2_mop_uza_population%22%3A%20%22Project%20is%20located%20within%20one%20of%20the%20ten%20large%20MPOs%22%2C%20%22a2_mpo%22%3A%20%22MTC%22%2C%20%22a2_proj_lat%22%3A%2037.750995%2C%20%22a2_proj_long%22%3A%20-122.18217%2C%20%22a3_proj_type%22%3A%20null%2C%20%22assembly_district%22%3A%2018%2C%20%22awarded%22%3A%20%22Y%22%2C%20%22congressional_district%22%3A%2013%2C%20%22data_origin%22%3A%20%22Funded%22%2C%20%22project_app_id%22%3A%20%224-Oakland%2C%20City%20of-2%22%2C%20%22project_cycle%22%3A%205.0%2C%20%22senate_district%22%3A%209%2C%20%22total_atp_%24%22%3A%2017269000.0%7D%2C%20%22type%22%3A%20%22Feature%22%7D%2C%20%7B%22bbox%22%3A%20%5B-122.057949%2C%2038.249316%2C%20-122.057949%2C%2038.249316%5D%2C%20%22geometry%22%3A%20%7B%22coordinates%22%3A%20%5B-122.057949%2C%2038.249316%5D%2C%20%22type%22%3A%20%22Point%22%7D%2C%20%22id%22%3A%20%222%22%2C%20%22properties%22%3A%20%7B%22__folium_color%22%3A%20%22%23de9ed6%22%2C%20%22a1_imp_agcy_city%22%3A%20%22Fairfield%22%2C%20%22a1_imp_agcy_name%22%3A%20%22Fairfield%2C%20City%20of%22%2C%20%22a1_imp_agcy_street%22%3A%20%221000%20Webster%20Street%22%2C%20%22a1_proj_partner_agcy%22%3A%20null%2C%20%22a2_county%22%3A%20%22Solano%22%2C%20%22a2_info_proj_descr%22%3A%20%22Construct%20Class%20IV%20separated%20bikeways%20with%20Class%20II%20buffered%20bike%20lane%20segment%2C%20new%201%20traffic%20signal%20and%202%20new%20marked%20crosswalks%2C%20curb%20extensions%3B%20non-infrastructure%20programs%22%2C%20%22a2_info_proj_loc%22%3A%20%22West%20Texas%20Street%20between%20Beck%20Avenue%20and%20Pennsylvania%20Avenue%22%2C%20%22a2_info_proj_name%22%3A%20%22West%20Texas%20Street%20Complete%20Streets%20Project%22%2C%20%22a2_mop_uza_population%22%3A%20%22Project%20is%20located%20within%20one%20of%20the%20ten%20large%20MPOs%22%2C%20%22a2_mpo%22%3A%20%22MTC%22%2C%20%22a2_proj_lat%22%3A%2038.249316%2C%20%22a2_proj_long%22%3A%20-122.057949%2C%20%22a3_proj_type%22%3A%20null%2C%20%22assembly_district%22%3A%2011%2C%20%22awarded%22%3A%20%22Y%22%2C%20%22congressional_district%22%3A%203%2C%20%22data_origin%22%3A%20%22Funded%22%2C%20%22project_app_id%22%3A%20%224-Fairfield%2C%20City%20of-1%22%2C%20%22project_cycle%22%3A%205.0%2C%20%22senate_district%22%3A%203%2C%20%22total_atp_%24%22%3A%2010903000.0%7D%2C%20%22type%22%3A%20%22Feature%22%7D%5D%2C%20%22type%22%3A%20%22FeatureCollection%22%7D%29%3B%0A%0A%20%20%20%20%20%20%20%20%0A%20%20%20%20%0A%20%20%20%20geo_json_e2f5fcd395784f729a0fe42d35fcc4b2.bindTooltip%28%0A%20%20%20%20function%28layer%29%7B%0A%20%20%20%20let%20div%20%3D%20L.DomUtil.create%28%27div%27%29%3B%0A%20%20%20%20%0A%20%20%20%20let%20handleObject%20%3D%20feature%3D%3Etypeof%28feature%29%3D%3D%27object%27%20%3F%20JSON.stringify%28feature%29%20%3A%20feature%3B%0A%20%20%20%20let%20fields%20%3D%20%5B%22awarded%22%2C%20%22project_app_id%22%2C%20%22project_cycle%22%2C%20%22data_origin%22%2C%20%22a1_imp_agcy_city%22%2C%20%22a1_imp_agcy_name%22%2C%20%22a1_proj_partner_agcy%22%2C%20%22assembly_district%22%2C%20%22congressional_district%22%2C%20%22senate_district%22%2C%20%22a2_county%22%2C%20%22a2_info_proj_descr%22%2C%20%22a2_info_proj_loc%22%2C%20%22a2_info_proj_name%22%2C%20%22a2_mop_uza_population%22%2C%20%22a2_mpo%22%2C%20%22a1_imp_agcy_street%22%2C%20%22a3_proj_type%22%2C%20%22total_atp_%24%22%2C%20%22a2_proj_lat%22%2C%20%22a2_proj_long%22%5D%3B%0A%20%20%20%20let%20aliases%20%3D%20%5B%22awarded%22%2C%20%22project_app_id%22%2C%20%22project_cycle%22%2C%20%22data_origin%22%2C%20%22a1_imp_agcy_city%22%2C%20%22a1_imp_agcy_name%22%2C%20%22a1_proj_partner_agcy%22%2C%20%22assembly_district%22%2C%20%22congressional_district%22%2C%20%22senate_district%22%2C%20%22a2_county%22%2C%20%22a2_info_proj_descr%22%2C%20%22a2_info_proj_loc%22%2C%20%22a2_info_proj_name%22%2C%20%22a2_mop_uza_population%22%2C%20%22a2_mpo%22%2C%20%22a1_imp_agcy_street%22%2C%20%22a3_proj_type%22%2C%20%22total_atp_%24%22%2C%20%22a2_proj_lat%22%2C%20%22a2_proj_long%22%5D%3B%0A%20%20%20%20let%20table%20%3D%20%27%3Ctable%3E%27%20%2B%0A%20%20%20%20%20%20%20%20String%28%0A%20%20%20%20%20%20%20%20fields.map%28%0A%20%20%20%20%20%20%20%20%28v%2Ci%29%3D%3E%0A%20%20%20%20%20%20%20%20%60%3Ctr%3E%0A%20%20%20%20%20%20%20%20%20%20%20%20%3Cth%3E%24%7Baliases%5Bi%5D%7D%3C/th%3E%0A%20%20%20%20%20%20%20%20%20%20%20%20%0A%20%20%20%20%20%20%20%20%20%20%20%20%3Ctd%3E%24%7BhandleObject%28layer.feature.properties%5Bv%5D%29%7D%3C/td%3E%0A%20%20%20%20%20%20%20%20%3C/tr%3E%60%29.join%28%27%27%29%29%0A%20%20%20%20%2B%27%3C/table%3E%27%3B%0A%20%20%20%20div.innerHTML%3Dtable%3B%0A%20%20%20%20%0A%20%20%20%20return%20div%0A%20%20%20%20%7D%0A%20%20%20%20%2C%7B%22className%22%3A%20%22foliumtooltip%22%2C%20%22sticky%22%3A%20true%7D%29%3B%0A%20%20%20%20%20%20%20%20%20%20%20%20%20%20%20%20%20%20%20%20%20%0A%3C/script%3E onload=\"this.contentDocument.open();this.contentDocument.write(    decodeURIComponent(this.getAttribute('data-html')));this.contentDocument.close();\" allowfullscreen webkitallowfullscreen mozallowfullscreen></iframe></div></div>"
      ],
      "text/plain": [
       "<folium.folium.Map at 0x7ff18dbce4a0>"
      ]
     },
     "execution_count": 155,
     "metadata": {},
     "output_type": "execute_result"
    }
   ],
   "source": [
    "#check again \n",
    "df_map3.explore(\"data_origin\", cmap=\"tab20b\")  "
   ]
  },
  {
   "cell_type": "code",
   "execution_count": 39,
   "id": "6f922503-2549-43cf-80f3-4494341ae938",
   "metadata": {},
   "outputs": [],
   "source": [
    "# still have some weird locations but better than before"
   ]
  },
  {
   "cell_type": "code",
   "execution_count": 40,
   "id": "479c13c4-3084-49d1-9922-0d1ceb6899d6",
   "metadata": {},
   "outputs": [],
   "source": [
    "## going back to just district"
   ]
  },
  {
   "cell_type": "markdown",
   "id": "b96b03c9-0774-4047-bac9-272bf6e92244",
   "metadata": {},
   "source": [
    "### Adding Flag for corrected geometries"
   ]
  },
  {
   "cell_type": "code",
   "execution_count": null,
   "id": "003cb9a9-3337-4946-b1ed-b84800eae90d",
   "metadata": {},
   "outputs": [],
   "source": []
  },
  {
   "cell_type": "code",
   "execution_count": null,
   "id": "2a3965c1-49ad-4886-a23b-9d0a30235750",
   "metadata": {},
   "outputs": [],
   "source": []
  },
  {
   "cell_type": "code",
   "execution_count": null,
   "id": "ced48df1-2388-4364-a277-359a7f776639",
   "metadata": {},
   "outputs": [],
   "source": []
  },
  {
   "cell_type": "markdown",
   "id": "13080127-a725-4700-991f-07bc07629f10",
   "metadata": {},
   "source": [
    "## Metrics"
   ]
  },
  {
   "cell_type": "code",
   "execution_count": 42,
   "id": "4aadcc90-ad07-4159-9e22-739a7df017f4",
   "metadata": {},
   "outputs": [],
   "source": [
    "unique_agencies = df>>group_by(_.project_cycle, _.a2_county, _.data_origin)>>summarize(n_unique_agency= _.a1_imp_agcy_name.nunique())"
   ]
  },
  {
   "cell_type": "code",
   "execution_count": 43,
   "id": "aa81acfc-b5b9-4b45-9409-cb917a01c1bc",
   "metadata": {},
   "outputs": [],
   "source": [
    "unique_agencies =(spread(unique_agencies, \"data_origin\", \"n_unique_agency\"))"
   ]
  },
  {
   "cell_type": "code",
   "execution_count": 44,
   "id": "0f4b767f-c6e6-4191-a043-3564223f51c6",
   "metadata": {},
   "outputs": [],
   "source": [
    "unique_agencies = unique_agencies.rename(columns={\"a2_county\":\"county_name\"})"
   ]
  },
  {
   "cell_type": "code",
   "execution_count": 45,
   "id": "9187743d-a4b6-449f-937b-3188c72dc841",
   "metadata": {},
   "outputs": [],
   "source": [
    "unique_agencies['Application'].fillna(0, inplace=True)\n",
    "unique_agencies['Funded'].fillna(0, inplace=True)"
   ]
  },
  {
   "cell_type": "code",
   "execution_count": 46,
   "id": "fe8f9b66-a1b1-4944-85e4-a1908e49b6bb",
   "metadata": {},
   "outputs": [],
   "source": [
    "unique_agencies['Application'] = unique_agencies['Application'].astype('int32')\n",
    "unique_agencies['Funded'] = unique_agencies['Funded'].astype('int32')"
   ]
  },
  {
   "cell_type": "code",
   "execution_count": 47,
   "id": "92ecf49d-05fe-499d-96a0-2c94eee155da",
   "metadata": {},
   "outputs": [
    {
     "data": {
      "text/html": [
       "<h3>Number of Unique Agencies By County</h3>"
      ],
      "text/plain": [
       "<IPython.core.display.HTML object>"
      ]
     },
     "metadata": {},
     "output_type": "display_data"
    },
    {
     "data": {
      "text/html": [
       "<style type=\"text/css\">\n",
       "#T_6beba th {\n",
       "  text-align: center;\n",
       "}\n",
       "#T_6beba_row0_col0, #T_6beba_row0_col1, #T_6beba_row0_col2, #T_6beba_row0_col3, #T_6beba_row1_col0, #T_6beba_row1_col1, #T_6beba_row1_col2, #T_6beba_row1_col3, #T_6beba_row2_col0, #T_6beba_row2_col1, #T_6beba_row2_col2, #T_6beba_row2_col3, #T_6beba_row3_col0, #T_6beba_row3_col1, #T_6beba_row3_col2, #T_6beba_row3_col3, #T_6beba_row4_col0, #T_6beba_row4_col1, #T_6beba_row4_col2, #T_6beba_row4_col3, #T_6beba_row5_col0, #T_6beba_row5_col1, #T_6beba_row5_col2, #T_6beba_row5_col3, #T_6beba_row6_col0, #T_6beba_row6_col1, #T_6beba_row6_col2, #T_6beba_row6_col3, #T_6beba_row7_col0, #T_6beba_row7_col1, #T_6beba_row7_col2, #T_6beba_row7_col3, #T_6beba_row8_col0, #T_6beba_row8_col1, #T_6beba_row8_col2, #T_6beba_row8_col3 {\n",
       "  text-align: center;\n",
       "}\n",
       "</style>\n",
       "<table id=\"T_6beba\">\n",
       "  <thead>\n",
       "    <tr>\n",
       "      <th id=\"T_6beba_level0_col0\" class=\"col_heading level0 col0\" >Project Cycle</th>\n",
       "      <th id=\"T_6beba_level0_col1\" class=\"col_heading level0 col1\" >County Name</th>\n",
       "      <th id=\"T_6beba_level0_col2\" class=\"col_heading level0 col2\" >Application</th>\n",
       "      <th id=\"T_6beba_level0_col3\" class=\"col_heading level0 col3\" >Funded</th>\n",
       "    </tr>\n",
       "  </thead>\n",
       "  <tbody>\n",
       "    <tr>\n",
       "      <td id=\"T_6beba_row0_col0\" class=\"data row0 col0\" >5</td>\n",
       "      <td id=\"T_6beba_row0_col1\" class=\"data row0 col1\" >Alameda</td>\n",
       "      <td id=\"T_6beba_row0_col2\" class=\"data row0 col2\" >8</td>\n",
       "      <td id=\"T_6beba_row0_col3\" class=\"data row0 col3\" >1</td>\n",
       "    </tr>\n",
       "    <tr>\n",
       "      <td id=\"T_6beba_row1_col0\" class=\"data row1 col0\" >5</td>\n",
       "      <td id=\"T_6beba_row1_col1\" class=\"data row1 col1\" >Contra Costa</td>\n",
       "      <td id=\"T_6beba_row1_col2\" class=\"data row1 col2\" >10</td>\n",
       "      <td id=\"T_6beba_row1_col3\" class=\"data row1 col3\" >1</td>\n",
       "    </tr>\n",
       "    <tr>\n",
       "      <td id=\"T_6beba_row2_col0\" class=\"data row2 col0\" >5</td>\n",
       "      <td id=\"T_6beba_row2_col1\" class=\"data row2 col1\" >Marin</td>\n",
       "      <td id=\"T_6beba_row2_col2\" class=\"data row2 col2\" >5</td>\n",
       "      <td id=\"T_6beba_row2_col3\" class=\"data row2 col3\" >0</td>\n",
       "    </tr>\n",
       "    <tr>\n",
       "      <td id=\"T_6beba_row3_col0\" class=\"data row3 col0\" >5</td>\n",
       "      <td id=\"T_6beba_row3_col1\" class=\"data row3 col1\" >Napa</td>\n",
       "      <td id=\"T_6beba_row3_col2\" class=\"data row3 col2\" >3</td>\n",
       "      <td id=\"T_6beba_row3_col3\" class=\"data row3 col3\" >0</td>\n",
       "    </tr>\n",
       "    <tr>\n",
       "      <td id=\"T_6beba_row4_col0\" class=\"data row4 col0\" >5</td>\n",
       "      <td id=\"T_6beba_row4_col1\" class=\"data row4 col1\" >San Francisco</td>\n",
       "      <td id=\"T_6beba_row4_col2\" class=\"data row4 col2\" >2</td>\n",
       "      <td id=\"T_6beba_row4_col3\" class=\"data row4 col3\" >0</td>\n",
       "    </tr>\n",
       "    <tr>\n",
       "      <td id=\"T_6beba_row5_col0\" class=\"data row5 col0\" >5</td>\n",
       "      <td id=\"T_6beba_row5_col1\" class=\"data row5 col1\" >San Mateo</td>\n",
       "      <td id=\"T_6beba_row5_col2\" class=\"data row5 col2\" >10</td>\n",
       "      <td id=\"T_6beba_row5_col3\" class=\"data row5 col3\" >0</td>\n",
       "    </tr>\n",
       "    <tr>\n",
       "      <td id=\"T_6beba_row6_col0\" class=\"data row6 col0\" >5</td>\n",
       "      <td id=\"T_6beba_row6_col1\" class=\"data row6 col1\" >Santa Clara</td>\n",
       "      <td id=\"T_6beba_row6_col2\" class=\"data row6 col2\" >1</td>\n",
       "      <td id=\"T_6beba_row6_col3\" class=\"data row6 col3\" >1</td>\n",
       "    </tr>\n",
       "    <tr>\n",
       "      <td id=\"T_6beba_row7_col0\" class=\"data row7 col0\" >5</td>\n",
       "      <td id=\"T_6beba_row7_col1\" class=\"data row7 col1\" >Solano</td>\n",
       "      <td id=\"T_6beba_row7_col2\" class=\"data row7 col2\" >3</td>\n",
       "      <td id=\"T_6beba_row7_col3\" class=\"data row7 col3\" >1</td>\n",
       "    </tr>\n",
       "    <tr>\n",
       "      <td id=\"T_6beba_row8_col0\" class=\"data row8 col0\" >5</td>\n",
       "      <td id=\"T_6beba_row8_col1\" class=\"data row8 col1\" >Sonoma</td>\n",
       "      <td id=\"T_6beba_row8_col2\" class=\"data row8 col2\" >3</td>\n",
       "      <td id=\"T_6beba_row8_col3\" class=\"data row8 col3\" >0</td>\n",
       "    </tr>\n",
       "  </tbody>\n",
       "</table>\n"
      ],
      "text/plain": [
       "<IPython.core.display.HTML object>"
      ]
     },
     "metadata": {},
     "output_type": "display_data"
    }
   ],
   "source": [
    "display(HTML(\"<h3>Number of Unique Agencies By County</h3>\"))\n",
    "display(HTML(_dla_utils.pretify_tables(unique_agencies)))\n"
   ]
  },
  {
   "cell_type": "code",
   "execution_count": null,
   "id": "d3cb1012-5c05-4f90-a53e-18eac6538429",
   "metadata": {},
   "outputs": [],
   "source": []
  },
  {
   "cell_type": "markdown",
   "id": "0ad6869f-ef70-40b3-a8ed-91dbaa37284c",
   "metadata": {},
   "source": [
    "### Success Rates"
   ]
  },
  {
   "cell_type": "code",
   "execution_count": 100,
   "id": "354cb837-61de-4de8-bb6e-0363959cad3f",
   "metadata": {},
   "outputs": [
    {
     "name": "stderr",
     "output_type": "stream",
     "text": [
      "/home/jovyan/data-analyses/dla/atp/_report_utils.py:178: FutureWarning: In a future version of pandas all arguments of StringMethods.split except for the argument 'pat' will be keyword-only.\n"
     ]
    }
   ],
   "source": [
    "df = (_report_utils.reorder_namecol(df,\n",
    "                    og_name_col= 'a1_imp_agcy_name',\n",
    "                    new_name_col= 'imp_agency_name_new', \n",
    "                    split_on = \", \",\n",
    "                   order_on ='pt2_pt1'))"
   ]
  },
  {
   "cell_type": "code",
   "execution_count": 124,
   "id": "f224a362-2106-4746-ae1a-972aae8f7213",
   "metadata": {},
   "outputs": [],
   "source": [
    "successes = (df>>group_by(_.awarded)>>count(_.imp_agency_name_new))>>spread(\"awarded\", \"n\")>>arrange(-_.Y)"
   ]
  },
  {
   "cell_type": "code",
   "execution_count": 125,
   "id": "2813ae94-5557-4b64-9fdf-03d241f7c704",
   "metadata": {},
   "outputs": [],
   "source": [
    "successes['total'] = (successes['N'] + successes['Y'])"
   ]
  },
  {
   "cell_type": "code",
   "execution_count": 126,
   "id": "bab293ea-80a7-42f5-8269-8e3ba6a2f088",
   "metadata": {},
   "outputs": [],
   "source": [
    "successes['success_rate'] = (successes['Y']/successes['total'])"
   ]
  },
  {
   "cell_type": "code",
   "execution_count": 127,
   "id": "6a83f36b-1198-4db8-b5e2-0d34a007f9c9",
   "metadata": {},
   "outputs": [],
   "source": [
    "successes = successes.rename(columns={\"imp_agency_name_new\":\"Implementing Agency\", \"N\":\"Projects Not Funded\",\n",
    "                                    \"Y\":\"Funded Projects\", \"total\":\"Total Applications\"})"
   ]
  },
  {
   "cell_type": "code",
   "execution_count": 128,
   "id": "c047f68f-42f6-495d-b008-7b6ebada9a8b",
   "metadata": {},
   "outputs": [],
   "source": [
    "successes_top = successes>>filter(_.success_rate>0)"
   ]
  },
  {
   "cell_type": "code",
   "execution_count": 129,
   "id": "70ed56ab-d9d3-4105-861b-205fce6beebe",
   "metadata": {},
   "outputs": [
    {
     "name": "stderr",
     "output_type": "stream",
     "text": [
      "/tmp/ipykernel_2023/3746543993.py:1: SettingWithCopyWarning: \n",
      "A value is trying to be set on a copy of a slice from a DataFrame.\n",
      "Try using .loc[row_indexer,col_indexer] = value instead\n",
      "\n",
      "See the caveats in the documentation: https://pandas.pydata.org/pandas-docs/stable/user_guide/indexing.html#returning-a-view-versus-a-copy\n"
     ]
    }
   ],
   "source": [
    "successes_top['success_rate'] = successes_top['success_rate'].transform(lambda x: '{:,.2%}'.format(x))"
   ]
  },
  {
   "cell_type": "code",
   "execution_count": 138,
   "id": "13089c3f-abed-4ba6-ba14-a052af5cc6aa",
   "metadata": {},
   "outputs": [
    {
     "data": {
      "text/html": [
       "<h3>Application Success Rate</h3>"
      ],
      "text/plain": [
       "<IPython.core.display.HTML object>"
      ]
     },
     "metadata": {},
     "output_type": "display_data"
    },
    {
     "data": {
      "text/html": [
       "There are <strong>43</strong> implenting agencies with <strong> zero </strong>successful applications."
      ],
      "text/plain": [
       "<IPython.core.display.HTML object>"
      ]
     },
     "metadata": {},
     "output_type": "display_data"
    },
    {
     "data": {
      "text/html": [
       "There are <strong>4</strong> implenting agencies with <strong> one of more </strong>successful applications."
      ],
      "text/plain": [
       "<IPython.core.display.HTML object>"
      ]
     },
     "metadata": {},
     "output_type": "display_data"
    },
    {
     "data": {
      "text/html": [
       "</br><h4> Success Rates for Agencies with Successful Applications </h4>"
      ],
      "text/plain": [
       "<IPython.core.display.HTML object>"
      ]
     },
     "metadata": {},
     "output_type": "display_data"
    },
    {
     "data": {
      "text/html": [
       "<style type=\"text/css\">\n",
       "#T_f46bf th {\n",
       "  text-align: center;\n",
       "}\n",
       "#T_f46bf_row0_col0, #T_f46bf_row0_col1, #T_f46bf_row0_col2, #T_f46bf_row1_col0, #T_f46bf_row1_col1, #T_f46bf_row1_col2, #T_f46bf_row2_col0, #T_f46bf_row2_col1, #T_f46bf_row2_col2, #T_f46bf_row3_col0, #T_f46bf_row3_col1, #T_f46bf_row3_col2 {\n",
       "  text-align: center;\n",
       "}\n",
       "</style>\n",
       "<table id=\"T_f46bf\">\n",
       "  <thead>\n",
       "    <tr>\n",
       "      <th id=\"T_f46bf_level0_col0\" class=\"col_heading level0 col0\" >Implementing Agency</th>\n",
       "      <th id=\"T_f46bf_level0_col1\" class=\"col_heading level0 col1\" >Total Applications</th>\n",
       "      <th id=\"T_f46bf_level0_col2\" class=\"col_heading level0 col2\" >Success Rate</th>\n",
       "    </tr>\n",
       "  </thead>\n",
       "  <tbody>\n",
       "    <tr>\n",
       "      <td id=\"T_f46bf_row0_col0\" class=\"data row0 col0\" >City of Oakland</td>\n",
       "      <td id=\"T_f46bf_row0_col1\" class=\"data row0 col1\" >6</td>\n",
       "      <td id=\"T_f46bf_row0_col2\" class=\"data row0 col2\" >33.33%</td>\n",
       "    </tr>\n",
       "    <tr>\n",
       "      <td id=\"T_f46bf_row1_col0\" class=\"data row1 col0\" >City of Fairfield</td>\n",
       "      <td id=\"T_f46bf_row1_col1\" class=\"data row1 col1\" >1</td>\n",
       "      <td id=\"T_f46bf_row1_col2\" class=\"data row1 col2\" >100.00%</td>\n",
       "    </tr>\n",
       "    <tr>\n",
       "      <td id=\"T_f46bf_row2_col0\" class=\"data row2 col0\" >Contra Costa County</td>\n",
       "      <td id=\"T_f46bf_row2_col1\" class=\"data row2 col1\" >6</td>\n",
       "      <td id=\"T_f46bf_row2_col2\" class=\"data row2 col2\" >16.67%</td>\n",
       "    </tr>\n",
       "    <tr>\n",
       "      <td id=\"T_f46bf_row3_col0\" class=\"data row3 col0\" >Santa Clara County</td>\n",
       "      <td id=\"T_f46bf_row3_col1\" class=\"data row3 col1\" >1</td>\n",
       "      <td id=\"T_f46bf_row3_col2\" class=\"data row3 col2\" >100.00%</td>\n",
       "    </tr>\n",
       "  </tbody>\n",
       "</table>\n"
      ],
      "text/plain": [
       "<IPython.core.display.HTML object>"
      ]
     },
     "metadata": {},
     "output_type": "display_data"
    }
   ],
   "source": [
    "display(HTML(\"<h3>Application Success Rate</h3>\"))\n",
    "\n",
    "display(HTML(f\"There are <strong>{len(successes>>filter(_.success_rate==0))}</strong> \"\n",
    "            f\"implenting agencies with <strong> zero </strong>\"\n",
    "            f\"successful applications.\"))\n",
    "\n",
    "display(HTML(f\"There are <strong>{len(successes>>filter(_.success_rate!=0))}</strong> \"\n",
    "            f\"implenting agencies with <strong> one of more </strong>\"\n",
    "            f\"successful applications.\"))\n",
    "    \n",
    "display(HTML(\"</br><h4> Success Rates for Agencies with Successful Applications </h4>\"))\n",
    "display(HTML(_dla_utils.pretify_tables(successes_top>>select(_['Implementing Agency'], _['Total Applications'], _.success_rate))))"
   ]
  },
  {
   "cell_type": "code",
   "execution_count": null,
   "id": "5cb67505-dc51-44da-88c8-2287622524c4",
   "metadata": {},
   "outputs": [],
   "source": []
  },
  {
   "cell_type": "code",
   "execution_count": null,
   "id": "443f8c41-dbf6-4cc6-b2c8-838d21d0c494",
   "metadata": {},
   "outputs": [],
   "source": []
  },
  {
   "cell_type": "code",
   "execution_count": null,
   "id": "574f9b04-8d43-4a81-8ff2-1773aa9897fc",
   "metadata": {},
   "outputs": [],
   "source": []
  },
  {
   "cell_type": "code",
   "execution_count": null,
   "id": "ea547e16-2247-4c74-aa62-19077a989d18",
   "metadata": {},
   "outputs": [],
   "source": []
  },
  {
   "cell_type": "code",
   "execution_count": null,
   "id": "227fbf63-7685-4708-8d53-a74d3cca1809",
   "metadata": {},
   "outputs": [],
   "source": []
  }
 ],
 "metadata": {
  "kernelspec": {
   "display_name": "Python 3 (ipykernel)",
   "language": "python",
   "name": "python3"
  },
  "language_info": {
   "codemirror_mode": {
    "name": "ipython",
    "version": 3
   },
   "file_extension": ".py",
   "mimetype": "text/x-python",
   "name": "python",
   "nbconvert_exporter": "python",
   "pygments_lexer": "ipython3",
   "version": "3.10.6"
  },
  "widgets": {
   "application/vnd.jupyter.widget-state+json": {
    "state": {},
    "version_major": 2,
    "version_minor": 0
   }
  }
 },
 "nbformat": 4,
 "nbformat_minor": 5
}
