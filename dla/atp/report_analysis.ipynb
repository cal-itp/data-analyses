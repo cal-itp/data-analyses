{
 "cells": [
  {
   "cell_type": "markdown",
   "id": "7b9b7325-7a69-467a-af59-9e5974411587",
   "metadata": {},
   "source": [
    "# Notebook to prep functions for report"
   ]
  },
  {
   "cell_type": "markdown",
   "id": "d8b6c21c-03a2-4a29-a8cd-20e1f5b92978",
   "metadata": {},
   "source": [
    "* Grouped down to the DISTRICT and the CYCLE level"
   ]
  },
  {
   "cell_type": "code",
   "execution_count": 1,
   "id": "dd2992c9-ca98-4774-b599-411ca38f3769",
   "metadata": {},
   "outputs": [
    {
     "name": "stderr",
     "output_type": "stream",
     "text": [
      "/opt/conda/lib/python3.10/site-packages/geopandas/_compat.py:123: UserWarning: The Shapely GEOS version (3.10.3-CAPI-1.16.1) is incompatible with the GEOS version PyGEOS was compiled with (3.10.1-CAPI-1.16.0). Conversions between both will be slow.\n",
      "  warnings.warn(\n"
     ]
    }
   ],
   "source": [
    "import intake\n",
    "import numpy as np\n",
    "import pandas as pd\n",
    "import geopandas as gpd\n",
    "from calitp import to_snakecase\n",
    "from dla_utils import _dla_utils\n",
    "from IPython.display import HTML, Markdown\n",
    "from siuba import *\n",
    "from shared_utils import geography_utils\n",
    "\n",
    "import altair as alt\n",
    "\n",
    "import _data_cleaning\n",
    "import _report_utils"
   ]
  },
  {
   "cell_type": "code",
   "execution_count": 2,
   "id": "574c019c-9cd2-41ea-be68-117a531c52e7",
   "metadata": {},
   "outputs": [],
   "source": [
    "import fiona\n",
    "\n",
    "from ipyleaflet import Map, GeoJSON, projections, basemaps, GeoData, LayersControl, WidgetControl, GeoJSON, LegendControl\n",
    "from ipywidgets import Text, HTML"
   ]
  },
  {
   "cell_type": "code",
   "execution_count": 3,
   "id": "aadb0d1f-b2e4-4f7f-9e17-e53124b5c23b",
   "metadata": {},
   "outputs": [],
   "source": [
    "GCS_FILE_PATH = 'gs://calitp-analytics-data/data-analyses/dla/atp/'\n"
   ]
  },
  {
   "cell_type": "code",
   "execution_count": 4,
   "id": "022e1341-d471-4eb8-a751-421703754ba3",
   "metadata": {},
   "outputs": [],
   "source": [
    "## read in data"
   ]
  },
  {
   "cell_type": "code",
   "execution_count": 5,
   "id": "fc9f39a9-49f3-4290-9746-419616689511",
   "metadata": {
    "tags": []
   },
   "outputs": [
    {
     "name": "stderr",
     "output_type": "stream",
     "text": [
      "/home/jovyan/data-analyses/dla/atp/_report_utils.py:70: FutureWarning: In a future version, the Index constructor will not infer numeric dtypes when passed object-dtype sequences (matching Series behavior)\n"
     ]
    }
   ],
   "source": [
    "df_all = _report_utils.read_in_joined_data()"
   ]
  },
  {
   "cell_type": "code",
   "execution_count": 6,
   "id": "e3330b9a-3d5b-4628-a869-89dbd9270ed1",
   "metadata": {},
   "outputs": [],
   "source": [
    "pd.set_option(\"display.max_columns\",500)"
   ]
  },
  {
   "cell_type": "code",
   "execution_count": 7,
   "id": "8bb03fd8-92da-405b-86a6-9ab7d0f0a1de",
   "metadata": {
    "tags": [
     "Parameters"
    ]
   },
   "outputs": [],
   "source": [
    "## paramaters cell\n",
    "district = 4"
   ]
  },
  {
   "cell_type": "code",
   "execution_count": 8,
   "id": "9abe7463-f7a0-496a-ab71-c95efad47b42",
   "metadata": {
    "tags": [
     "Parameters"
    ]
   },
   "outputs": [],
   "source": [
    "## parameters cell\n",
    "cycle = 5"
   ]
  },
  {
   "cell_type": "code",
   "execution_count": 9,
   "id": "9b6def9d-0d12-4a85-ae47-161c572f4228",
   "metadata": {},
   "outputs": [],
   "source": [
    "## subset df to just the district\n",
    "#df = df_all>>filter(_.a2_ct_dist==district)"
   ]
  },
  {
   "cell_type": "code",
   "execution_count": 10,
   "id": "9982e03e-a05a-480e-8371-54aa9a11f307",
   "metadata": {},
   "outputs": [],
   "source": [
    "df = df_all.copy()"
   ]
  },
  {
   "cell_type": "code",
   "execution_count": null,
   "id": "7f75248c-977c-4177-b2f7-e5319a44f0c0",
   "metadata": {},
   "outputs": [],
   "source": []
  },
  {
   "cell_type": "code",
   "execution_count": 11,
   "id": "310748ca-50e6-46ff-bd96-34a77104a359",
   "metadata": {},
   "outputs": [],
   "source": [
    "#df = df>>filter(_.project_cycle==cycle)"
   ]
  },
  {
   "cell_type": "code",
   "execution_count": 12,
   "id": "527e76b0-fcf6-4102-82b2-87b1639aa539",
   "metadata": {},
   "outputs": [],
   "source": [
    "mapsubset_cols= ['awarded','project_app_id', 'project_cycle', 'data_origin', 'geometry',\n",
    "               'a1_imp_agcy_city','a1_imp_agcy_name','a1_proj_partner_agcy', \n",
    "               'assembly_district','congressional_district','senate_district',\n",
    "              'a2_county', 'a2_ct_dist','a2_info_proj_name','a3_proj_type', 'total_atp_$', 'a2_proj_lat','a2_proj_long']"
   ]
  },
  {
   "cell_type": "code",
   "execution_count": 13,
   "id": "296fdf4c-7a73-4b32-a7c0-7d64e8cfc090",
   "metadata": {},
   "outputs": [],
   "source": [
    "df_map = _report_utils.fix_geom_issues(df, mapsubset_cols)"
   ]
  },
  {
   "cell_type": "code",
   "execution_count": 14,
   "id": "e7e5d379-8270-4357-8a5c-e2336612edbd",
   "metadata": {},
   "outputs": [],
   "source": [
    "# #check where everything is mapped\n",
    "# df = df_all.copy()"
   ]
  },
  {
   "cell_type": "code",
   "execution_count": 15,
   "id": "2e330a16-7021-4078-8e80-878cf127a051",
   "metadata": {},
   "outputs": [
    {
     "data": {
      "application/vnd.jupyter.widget-view+json": {
       "model_id": "74dd7cfa33fa4875b1118eec13114dc1",
       "version_major": 2,
       "version_minor": 0
      },
      "text/plain": [
       "HTML(value='<h2>Quick Stats</h2>')"
      ]
     },
     "metadata": {},
     "output_type": "display_data"
    },
    {
     "data": {
      "application/vnd.jupyter.widget-view+json": {
       "model_id": "89478ca9d9ed411980700880c87b06d6",
       "version_major": 2,
       "version_minor": 0
      },
      "text/plain": [
       "HTML(value='Out of 884 Active Transportation Program Project Applications, there are <strong>49 projects</stro…"
      ]
     },
     "metadata": {},
     "output_type": "display_data"
    }
   ],
   "source": [
    "display(HTML(\"<h2>Quick Stats</h2>\"))\n",
    "\n",
    "display(HTML(f\"Out of {len(df)} Active Transportation Program Project Applications, \"\n",
    "            f\"there are <strong>{(df>>filter(_.awarded=='Y')).project_app_id.nunique()} \"\n",
    "            f\"projects</strong> that recieved funding over \"\n",
    "            f\"{df.project_cycle.nunique()} cycles\"))\n"
   ]
  },
  {
   "cell_type": "code",
   "execution_count": 16,
   "id": "278cf7b5-6898-4725-91e4-0bb87cb994a8",
   "metadata": {
    "tags": []
   },
   "outputs": [
    {
     "data": {
      "application/vnd.jupyter.widget-view+json": {
       "model_id": "555bb5a8c98d4014b12bac01f7038efe",
       "version_major": 2,
       "version_minor": 0
      },
      "text/plain": [
       "HTML(value='<h3> What were the application outcomes for District 4 in Cycle 5?</h3>')"
      ]
     },
     "metadata": {},
     "output_type": "display_data"
    },
    {
     "data": {
      "application/vnd.jupyter.widget-view+json": {
       "model_id": "becb8c40ea7242d082e92b63e9156df3",
       "version_major": 2,
       "version_minor": 0
      },
      "text/plain": [
       "HTML(value='<style type=\"text/css\">\\n#T_e4dac th {\\n  text-align: center;\\n}\\n#T_e4dac_row0_col0, #T_e4dac_row…"
      ]
     },
     "metadata": {},
     "output_type": "display_data"
    }
   ],
   "source": [
    "display(HTML(f\"<h3> What were the application outcomes \"\n",
    "             f\"for District {district} \"\n",
    "             f\"in Cycle {cycle}?</h3>\"))\n",
    "display(HTML(_dla_utils.pretify_tables((df>>count(_.data_origin)))))"
   ]
  },
  {
   "cell_type": "code",
   "execution_count": 17,
   "id": "e7e90a9f-f276-4c6e-b581-10479e7a2554",
   "metadata": {},
   "outputs": [],
   "source": [
    "quick_view = df>>filter(_.awarded==\"Y\")>>select(_.data_origin, _.a1_imp_agcy_name, _.a2_info_proj_name, \n",
    "                                   _.a2_county, _.total_project_cost)"
   ]
  },
  {
   "cell_type": "code",
   "execution_count": 18,
   "id": "39e7659f-0d2f-4a5c-982f-520694bd7a64",
   "metadata": {},
   "outputs": [],
   "source": [
    "quick_view['total_project_cost'] = quick_view['total_project_cost'].map('$ {:0,.2f}'.format)"
   ]
  },
  {
   "cell_type": "code",
   "execution_count": 19,
   "id": "0751bcff-b682-416e-8d64-5dec80f47a99",
   "metadata": {},
   "outputs": [
    {
     "data": {
      "application/vnd.jupyter.widget-view+json": {
       "model_id": "8e4f3fa6164f442eb7e3da27c3a72527",
       "version_major": 2,
       "version_minor": 0
      },
      "text/plain": [
       "HTML(value='<h3> Funded Projects </h3>')"
      ]
     },
     "metadata": {},
     "output_type": "display_data"
    },
    {
     "data": {
      "application/vnd.jupyter.widget-view+json": {
       "model_id": "933a7c5bec3b49e7847c17d5356e26f1",
       "version_major": 2,
       "version_minor": 0
      },
      "text/plain": [
       "HTML(value='<style type=\"text/css\">\\n#T_e033c th {\\n  text-align: center;\\n}\\n#T_e033c_row0_col0, #T_e033c_row…"
      ]
     },
     "metadata": {},
     "output_type": "display_data"
    }
   ],
   "source": [
    "display(HTML(\"<h3> Funded Projects </h3>\"))\n",
    "display(HTML(_dla_utils.pretify_tables(quick_view)))"
   ]
  },
  {
   "cell_type": "code",
   "execution_count": 20,
   "id": "29244e0c-e1d5-4cfe-b3b6-95b8420f5b77",
   "metadata": {},
   "outputs": [],
   "source": [
    "#df>>group_by(_.awarded)>>count(_.a2_county)>>arrange(_.a2_county)"
   ]
  },
  {
   "cell_type": "code",
   "execution_count": null,
   "id": "9bb78cb1-f4ea-4e7a-b5a7-7d1bd08c8463",
   "metadata": {},
   "outputs": [],
   "source": []
  },
  {
   "cell_type": "markdown",
   "id": "7a6508a3-a4ee-4d79-8358-cdf215d7892f",
   "metadata": {},
   "source": [
    "## Mapping"
   ]
  },
  {
   "cell_type": "code",
   "execution_count": 21,
   "id": "a8e1fba7-191d-4d75-8c39-5eba15aed8af",
   "metadata": {},
   "outputs": [],
   "source": [
    "## offloading map function development to new notebook"
   ]
  },
  {
   "cell_type": "code",
   "execution_count": 22,
   "id": "77fc63f7-6059-4585-8e4d-9776ff9ab95f",
   "metadata": {},
   "outputs": [],
   "source": [
    "## offloading cells correcting geometries for mapping \n",
    "## UPDATE: now fixed"
   ]
  },
  {
   "cell_type": "code",
   "execution_count": null,
   "id": "8839ec70-db14-4e5f-8cb6-a83fdb31a336",
   "metadata": {},
   "outputs": [],
   "source": []
  },
  {
   "cell_type": "code",
   "execution_count": null,
   "id": "96ac603c-f474-435c-80df-56e2f635c66c",
   "metadata": {},
   "outputs": [],
   "source": []
  },
  {
   "cell_type": "code",
   "execution_count": null,
   "id": "c0d81185-3320-49f3-b61c-16663b3b994f",
   "metadata": {},
   "outputs": [],
   "source": []
  },
  {
   "cell_type": "code",
   "execution_count": null,
   "id": "ebe5a692-56c6-4df4-b6e0-5b273397dd9f",
   "metadata": {},
   "outputs": [],
   "source": []
  },
  {
   "cell_type": "code",
   "execution_count": null,
   "id": "e91fd260-22fe-4d90-8d01-2bbcb844e27b",
   "metadata": {},
   "outputs": [],
   "source": []
  },
  {
   "cell_type": "code",
   "execution_count": null,
   "id": "478199c5-bcaa-4487-8bdd-8f45c8cebb3f",
   "metadata": {},
   "outputs": [],
   "source": []
  },
  {
   "cell_type": "code",
   "execution_count": null,
   "id": "ced48df1-2388-4364-a277-359a7f776639",
   "metadata": {},
   "outputs": [],
   "source": []
  },
  {
   "cell_type": "markdown",
   "id": "13080127-a725-4700-991f-07bc07629f10",
   "metadata": {},
   "source": [
    "## Metrics"
   ]
  },
  {
   "cell_type": "code",
   "execution_count": 23,
   "id": "4aadcc90-ad07-4159-9e22-739a7df017f4",
   "metadata": {},
   "outputs": [],
   "source": [
    "unique_agencies = df>>group_by(_.project_cycle, _.a2_county, _.data_origin)>>summarize(n_unique_agency= _.a1_imp_agcy_name.nunique())"
   ]
  },
  {
   "cell_type": "code",
   "execution_count": 24,
   "id": "aa81acfc-b5b9-4b45-9409-cb917a01c1bc",
   "metadata": {},
   "outputs": [],
   "source": [
    "unique_agencies =(spread(unique_agencies, \"data_origin\", \"n_unique_agency\"))"
   ]
  },
  {
   "cell_type": "code",
   "execution_count": 25,
   "id": "0f4b767f-c6e6-4191-a043-3564223f51c6",
   "metadata": {},
   "outputs": [],
   "source": [
    "unique_agencies = unique_agencies.rename(columns={\"a2_county\":\"county_name\"})"
   ]
  },
  {
   "cell_type": "code",
   "execution_count": 26,
   "id": "9187743d-a4b6-449f-937b-3188c72dc841",
   "metadata": {},
   "outputs": [],
   "source": [
    "unique_agencies['Application'].fillna(0, inplace=True)\n",
    "unique_agencies['Funded'].fillna(0, inplace=True)"
   ]
  },
  {
   "cell_type": "code",
   "execution_count": 27,
   "id": "fe8f9b66-a1b1-4944-85e4-a1908e49b6bb",
   "metadata": {},
   "outputs": [],
   "source": [
    "unique_agencies['Application'] = unique_agencies['Application'].astype('int32')\n",
    "unique_agencies['Funded'] = unique_agencies['Funded'].astype('int32')"
   ]
  },
  {
   "cell_type": "code",
   "execution_count": 28,
   "id": "92ecf49d-05fe-499d-96a0-2c94eee155da",
   "metadata": {},
   "outputs": [
    {
     "data": {
      "application/vnd.jupyter.widget-view+json": {
       "model_id": "4d67417a674b42a8aff3a3fd9ed53714",
       "version_major": 2,
       "version_minor": 0
      },
      "text/plain": [
       "HTML(value='<h3>Number of Unique Agencies By County</h3>')"
      ]
     },
     "metadata": {},
     "output_type": "display_data"
    },
    {
     "data": {
      "application/vnd.jupyter.widget-view+json": {
       "model_id": "0bebbfe35dc2410fa0f11b69c7960cd5",
       "version_major": 2,
       "version_minor": 0
      },
      "text/plain": [
       "HTML(value='<style type=\"text/css\">\\n#T_82aa5 th {\\n  text-align: center;\\n}\\n#T_82aa5_row0_col0, #T_82aa5_row…"
      ]
     },
     "metadata": {},
     "output_type": "display_data"
    }
   ],
   "source": [
    "display(HTML(\"<h3>Number of Unique Agencies By County</h3>\"))\n",
    "display(HTML(_dla_utils.pretify_tables(unique_agencies)))\n"
   ]
  },
  {
   "cell_type": "code",
   "execution_count": null,
   "id": "d3cb1012-5c05-4f90-a53e-18eac6538429",
   "metadata": {},
   "outputs": [],
   "source": []
  },
  {
   "cell_type": "markdown",
   "id": "0ad6869f-ef70-40b3-a8ed-91dbaa37284c",
   "metadata": {},
   "source": [
    "### Success Rates"
   ]
  },
  {
   "cell_type": "code",
   "execution_count": 29,
   "id": "354cb837-61de-4de8-bb6e-0363959cad3f",
   "metadata": {},
   "outputs": [
    {
     "name": "stderr",
     "output_type": "stream",
     "text": [
      "/home/jovyan/data-analyses/dla/atp/_report_utils.py:311: FutureWarning: In a future version of pandas all arguments of StringMethods.split except for the argument 'pat' will be keyword-only.\n"
     ]
    }
   ],
   "source": [
    "df = (_report_utils.reorder_namecol(df,\n",
    "                    og_name_col= 'a1_imp_agcy_name',\n",
    "                    new_name_col= 'imp_agency_name_new', \n",
    "                    split_on = \", \",\n",
    "                   order_on ='pt2_pt1'))"
   ]
  },
  {
   "cell_type": "code",
   "execution_count": 30,
   "id": "f224a362-2106-4746-ae1a-972aae8f7213",
   "metadata": {},
   "outputs": [],
   "source": [
    "successes = (df>>group_by(_.awarded)>>count(_.imp_agency_name_new))>>spread(\"awarded\", \"n\")>>arrange(-_.Y)"
   ]
  },
  {
   "cell_type": "code",
   "execution_count": 31,
   "id": "2813ae94-5557-4b64-9fdf-03d241f7c704",
   "metadata": {},
   "outputs": [],
   "source": [
    "successes['total'] = (successes['N'] + successes['Y'])"
   ]
  },
  {
   "cell_type": "code",
   "execution_count": 32,
   "id": "bab293ea-80a7-42f5-8269-8e3ba6a2f088",
   "metadata": {},
   "outputs": [],
   "source": [
    "successes['success_rate'] = (successes['Y']/successes['total'])"
   ]
  },
  {
   "cell_type": "code",
   "execution_count": 33,
   "id": "6a83f36b-1198-4db8-b5e2-0d34a007f9c9",
   "metadata": {},
   "outputs": [],
   "source": [
    "successes = successes.rename(columns={\"imp_agency_name_new\":\"Implementing Agency\", \"N\":\"Projects Not Funded\",\n",
    "                                    \"Y\":\"Funded Projects\", \"total\":\"Total Applications\"})"
   ]
  },
  {
   "cell_type": "code",
   "execution_count": 34,
   "id": "c047f68f-42f6-495d-b008-7b6ebada9a8b",
   "metadata": {},
   "outputs": [],
   "source": [
    "successes_top = successes>>filter(_.success_rate>0)"
   ]
  },
  {
   "cell_type": "code",
   "execution_count": 35,
   "id": "70ed56ab-d9d3-4105-861b-205fce6beebe",
   "metadata": {},
   "outputs": [
    {
     "name": "stderr",
     "output_type": "stream",
     "text": [
      "/tmp/ipykernel_2029/3746543993.py:1: SettingWithCopyWarning: \n",
      "A value is trying to be set on a copy of a slice from a DataFrame.\n",
      "Try using .loc[row_indexer,col_indexer] = value instead\n",
      "\n",
      "See the caveats in the documentation: https://pandas.pydata.org/pandas-docs/stable/user_guide/indexing.html#returning-a-view-versus-a-copy\n"
     ]
    }
   ],
   "source": [
    "successes_top['success_rate'] = successes_top['success_rate'].transform(lambda x: '{:,.2%}'.format(x))"
   ]
  },
  {
   "cell_type": "code",
   "execution_count": 36,
   "id": "13089c3f-abed-4ba6-ba14-a052af5cc6aa",
   "metadata": {
    "tags": []
   },
   "outputs": [
    {
     "data": {
      "application/vnd.jupyter.widget-view+json": {
       "model_id": "529cb66292784e5699f1ccdbfe484abe",
       "version_major": 2,
       "version_minor": 0
      },
      "text/plain": [
       "HTML(value='<h3>Application Success Rate</h3>')"
      ]
     },
     "metadata": {},
     "output_type": "display_data"
    },
    {
     "data": {
      "application/vnd.jupyter.widget-view+json": {
       "model_id": "aebc573f76fc42db94b6a63a2dec5131",
       "version_major": 2,
       "version_minor": 0
      },
      "text/plain": [
       "HTML(value='There are <strong>296</strong> implenting agencies with <strong> zero </strong>successful applicat…"
      ]
     },
     "metadata": {},
     "output_type": "display_data"
    },
    {
     "data": {
      "application/vnd.jupyter.widget-view+json": {
       "model_id": "f853ac95c30e4ff688a355967d4ee5f7",
       "version_major": 2,
       "version_minor": 0
      },
      "text/plain": [
       "HTML(value='There are <strong>42</strong> implenting agencies with <strong> one of more </strong>successful ap…"
      ]
     },
     "metadata": {},
     "output_type": "display_data"
    },
    {
     "data": {
      "application/vnd.jupyter.widget-view+json": {
       "model_id": "e6a45cfb80eb43ab9ee1fcee19f95ccf",
       "version_major": 2,
       "version_minor": 0
      },
      "text/plain": [
       "HTML(value='</br><h4> Success Rates for Agencies with Successful Applications </h4>')"
      ]
     },
     "metadata": {},
     "output_type": "display_data"
    },
    {
     "data": {
      "application/vnd.jupyter.widget-view+json": {
       "model_id": "cfe9f8a874c049e5a38f610d292b57d2",
       "version_major": 2,
       "version_minor": 0
      },
      "text/plain": [
       "HTML(value='<style type=\"text/css\">\\n#T_f5bef th {\\n  text-align: center;\\n}\\n#T_f5bef_row0_col0, #T_f5bef_row…"
      ]
     },
     "metadata": {},
     "output_type": "display_data"
    }
   ],
   "source": [
    "display(HTML(\"<h3>Application Success Rate</h3>\"))\n",
    "\n",
    "display(HTML(f\"There are <strong>{len(successes>>filter(_.success_rate==0))}</strong> \"\n",
    "            f\"implenting agencies with <strong> zero </strong>\"\n",
    "            f\"successful applications.\"))\n",
    "\n",
    "display(HTML(f\"There are <strong>{len(successes>>filter(_.success_rate!=0))}</strong> \"\n",
    "            f\"implenting agencies with <strong> one of more </strong>\"\n",
    "            f\"successful applications.\"))\n",
    "    \n",
    "display(HTML(\"</br><h4> Success Rates for Agencies with Successful Applications </h4>\"))\n",
    "display(HTML(_dla_utils.pretify_tables(successes_top>>select(_['Implementing Agency'], _['Total Applications'], _.success_rate))))"
   ]
  },
  {
   "cell_type": "code",
   "execution_count": null,
   "id": "5cb67505-dc51-44da-88c8-2287622524c4",
   "metadata": {},
   "outputs": [],
   "source": []
  },
  {
   "cell_type": "code",
   "execution_count": null,
   "id": "443f8c41-dbf6-4cc6-b2c8-838d21d0c494",
   "metadata": {},
   "outputs": [],
   "source": []
  },
  {
   "cell_type": "code",
   "execution_count": null,
   "id": "574f9b04-8d43-4a81-8ff2-1773aa9897fc",
   "metadata": {},
   "outputs": [],
   "source": []
  },
  {
   "cell_type": "code",
   "execution_count": null,
   "id": "ea547e16-2247-4c74-aa62-19077a989d18",
   "metadata": {},
   "outputs": [],
   "source": []
  },
  {
   "cell_type": "code",
   "execution_count": null,
   "id": "227fbf63-7685-4708-8d53-a74d3cca1809",
   "metadata": {},
   "outputs": [],
   "source": []
  }
 ],
 "metadata": {
  "kernelspec": {
   "display_name": "Python 3 (ipykernel)",
   "language": "python",
   "name": "python3"
  },
  "language_info": {
   "codemirror_mode": {
    "name": "ipython",
    "version": 3
   },
   "file_extension": ".py",
   "mimetype": "text/x-python",
   "name": "python",
   "nbconvert_exporter": "python",
   "pygments_lexer": "ipython3",
   "version": "3.10.6"
  },
  "widgets": {
   "application/vnd.jupyter.widget-state+json": {
    "state": {
     "06562ec8592e40dc8f700523fabe5eef": {
      "model_module": "@jupyter-widgets/controls",
      "model_module_version": "1.5.0",
      "model_name": "DescriptionStyleModel",
      "state": {
       "description_width": ""
      }
     },
     "0bebbfe35dc2410fa0f11b69c7960cd5": {
      "model_module": "@jupyter-widgets/controls",
      "model_module_version": "1.5.0",
      "model_name": "HTMLModel",
      "state": {
       "layout": "IPY_MODEL_c80d10930d2949d7ae876d69c5956ff1",
       "style": "IPY_MODEL_80e39f3050964c07aa1ec4ae24468af2",
       "value": "<style type=\"text/css\">\n#T_82aa5 th {\n  text-align: center;\n}\n#T_82aa5_row0_col0, #T_82aa5_row0_col1, #T_82aa5_row0_col2, #T_82aa5_row0_col3, #T_82aa5_row1_col0, #T_82aa5_row1_col1, #T_82aa5_row1_col2, #T_82aa5_row1_col3, #T_82aa5_row2_col0, #T_82aa5_row2_col1, #T_82aa5_row2_col2, #T_82aa5_row2_col3, #T_82aa5_row3_col0, #T_82aa5_row3_col1, #T_82aa5_row3_col2, #T_82aa5_row3_col3, #T_82aa5_row4_col0, #T_82aa5_row4_col1, #T_82aa5_row4_col2, #T_82aa5_row4_col3, #T_82aa5_row5_col0, #T_82aa5_row5_col1, #T_82aa5_row5_col2, #T_82aa5_row5_col3, #T_82aa5_row6_col0, #T_82aa5_row6_col1, #T_82aa5_row6_col2, #T_82aa5_row6_col3, #T_82aa5_row7_col0, #T_82aa5_row7_col1, #T_82aa5_row7_col2, #T_82aa5_row7_col3, #T_82aa5_row8_col0, #T_82aa5_row8_col1, #T_82aa5_row8_col2, #T_82aa5_row8_col3, #T_82aa5_row9_col0, #T_82aa5_row9_col1, #T_82aa5_row9_col2, #T_82aa5_row9_col3, #T_82aa5_row10_col0, #T_82aa5_row10_col1, #T_82aa5_row10_col2, #T_82aa5_row10_col3, #T_82aa5_row11_col0, #T_82aa5_row11_col1, #T_82aa5_row11_col2, #T_82aa5_row11_col3, #T_82aa5_row12_col0, #T_82aa5_row12_col1, #T_82aa5_row12_col2, #T_82aa5_row12_col3, #T_82aa5_row13_col0, #T_82aa5_row13_col1, #T_82aa5_row13_col2, #T_82aa5_row13_col3, #T_82aa5_row14_col0, #T_82aa5_row14_col1, #T_82aa5_row14_col2, #T_82aa5_row14_col3, #T_82aa5_row15_col0, #T_82aa5_row15_col1, #T_82aa5_row15_col2, #T_82aa5_row15_col3, #T_82aa5_row16_col0, #T_82aa5_row16_col1, #T_82aa5_row16_col2, #T_82aa5_row16_col3, #T_82aa5_row17_col0, #T_82aa5_row17_col1, #T_82aa5_row17_col2, #T_82aa5_row17_col3, #T_82aa5_row18_col0, #T_82aa5_row18_col1, #T_82aa5_row18_col2, #T_82aa5_row18_col3, #T_82aa5_row19_col0, #T_82aa5_row19_col1, #T_82aa5_row19_col2, #T_82aa5_row19_col3, #T_82aa5_row20_col0, #T_82aa5_row20_col1, #T_82aa5_row20_col2, #T_82aa5_row20_col3, #T_82aa5_row21_col0, #T_82aa5_row21_col1, #T_82aa5_row21_col2, #T_82aa5_row21_col3, #T_82aa5_row22_col0, #T_82aa5_row22_col1, #T_82aa5_row22_col2, #T_82aa5_row22_col3, #T_82aa5_row23_col0, #T_82aa5_row23_col1, #T_82aa5_row23_col2, #T_82aa5_row23_col3, #T_82aa5_row24_col0, #T_82aa5_row24_col1, #T_82aa5_row24_col2, #T_82aa5_row24_col3, #T_82aa5_row25_col0, #T_82aa5_row25_col1, #T_82aa5_row25_col2, #T_82aa5_row25_col3, #T_82aa5_row26_col0, #T_82aa5_row26_col1, #T_82aa5_row26_col2, #T_82aa5_row26_col3, #T_82aa5_row27_col0, #T_82aa5_row27_col1, #T_82aa5_row27_col2, #T_82aa5_row27_col3, #T_82aa5_row28_col0, #T_82aa5_row28_col1, #T_82aa5_row28_col2, #T_82aa5_row28_col3, #T_82aa5_row29_col0, #T_82aa5_row29_col1, #T_82aa5_row29_col2, #T_82aa5_row29_col3, #T_82aa5_row30_col0, #T_82aa5_row30_col1, #T_82aa5_row30_col2, #T_82aa5_row30_col3, #T_82aa5_row31_col0, #T_82aa5_row31_col1, #T_82aa5_row31_col2, #T_82aa5_row31_col3, #T_82aa5_row32_col0, #T_82aa5_row32_col1, #T_82aa5_row32_col2, #T_82aa5_row32_col3, #T_82aa5_row33_col0, #T_82aa5_row33_col1, #T_82aa5_row33_col2, #T_82aa5_row33_col3, #T_82aa5_row34_col0, #T_82aa5_row34_col1, #T_82aa5_row34_col2, #T_82aa5_row34_col3, #T_82aa5_row35_col0, #T_82aa5_row35_col1, #T_82aa5_row35_col2, #T_82aa5_row35_col3, #T_82aa5_row36_col0, #T_82aa5_row36_col1, #T_82aa5_row36_col2, #T_82aa5_row36_col3, #T_82aa5_row37_col0, #T_82aa5_row37_col1, #T_82aa5_row37_col2, #T_82aa5_row37_col3, #T_82aa5_row38_col0, #T_82aa5_row38_col1, #T_82aa5_row38_col2, #T_82aa5_row38_col3, #T_82aa5_row39_col0, #T_82aa5_row39_col1, #T_82aa5_row39_col2, #T_82aa5_row39_col3, #T_82aa5_row40_col0, #T_82aa5_row40_col1, #T_82aa5_row40_col2, #T_82aa5_row40_col3, #T_82aa5_row41_col0, #T_82aa5_row41_col1, #T_82aa5_row41_col2, #T_82aa5_row41_col3, #T_82aa5_row42_col0, #T_82aa5_row42_col1, #T_82aa5_row42_col2, #T_82aa5_row42_col3, #T_82aa5_row43_col0, #T_82aa5_row43_col1, #T_82aa5_row43_col2, #T_82aa5_row43_col3, #T_82aa5_row44_col0, #T_82aa5_row44_col1, #T_82aa5_row44_col2, #T_82aa5_row44_col3, #T_82aa5_row45_col0, #T_82aa5_row45_col1, #T_82aa5_row45_col2, #T_82aa5_row45_col3, #T_82aa5_row46_col0, #T_82aa5_row46_col1, #T_82aa5_row46_col2, #T_82aa5_row46_col3, #T_82aa5_row47_col0, #T_82aa5_row47_col1, #T_82aa5_row47_col2, #T_82aa5_row47_col3, #T_82aa5_row48_col0, #T_82aa5_row48_col1, #T_82aa5_row48_col2, #T_82aa5_row48_col3, #T_82aa5_row49_col0, #T_82aa5_row49_col1, #T_82aa5_row49_col2, #T_82aa5_row49_col3, #T_82aa5_row50_col0, #T_82aa5_row50_col1, #T_82aa5_row50_col2, #T_82aa5_row50_col3, #T_82aa5_row51_col0, #T_82aa5_row51_col1, #T_82aa5_row51_col2, #T_82aa5_row51_col3, #T_82aa5_row52_col0, #T_82aa5_row52_col1, #T_82aa5_row52_col2, #T_82aa5_row52_col3, #T_82aa5_row53_col0, #T_82aa5_row53_col1, #T_82aa5_row53_col2, #T_82aa5_row53_col3, #T_82aa5_row54_col0, #T_82aa5_row54_col1, #T_82aa5_row54_col2, #T_82aa5_row54_col3, #T_82aa5_row55_col0, #T_82aa5_row55_col1, #T_82aa5_row55_col2, #T_82aa5_row55_col3, #T_82aa5_row56_col0, #T_82aa5_row56_col1, #T_82aa5_row56_col2, #T_82aa5_row56_col3, #T_82aa5_row57_col0, #T_82aa5_row57_col1, #T_82aa5_row57_col2, #T_82aa5_row57_col3, #T_82aa5_row58_col0, #T_82aa5_row58_col1, #T_82aa5_row58_col2, #T_82aa5_row58_col3, #T_82aa5_row59_col0, #T_82aa5_row59_col1, #T_82aa5_row59_col2, #T_82aa5_row59_col3, #T_82aa5_row60_col0, #T_82aa5_row60_col1, #T_82aa5_row60_col2, #T_82aa5_row60_col3, #T_82aa5_row61_col0, #T_82aa5_row61_col1, #T_82aa5_row61_col2, #T_82aa5_row61_col3, #T_82aa5_row62_col0, #T_82aa5_row62_col1, #T_82aa5_row62_col2, #T_82aa5_row62_col3, #T_82aa5_row63_col0, #T_82aa5_row63_col1, #T_82aa5_row63_col2, #T_82aa5_row63_col3, #T_82aa5_row64_col0, #T_82aa5_row64_col1, #T_82aa5_row64_col2, #T_82aa5_row64_col3, #T_82aa5_row65_col0, #T_82aa5_row65_col1, #T_82aa5_row65_col2, #T_82aa5_row65_col3, #T_82aa5_row66_col0, #T_82aa5_row66_col1, #T_82aa5_row66_col2, #T_82aa5_row66_col3, #T_82aa5_row67_col0, #T_82aa5_row67_col1, #T_82aa5_row67_col2, #T_82aa5_row67_col3, #T_82aa5_row68_col0, #T_82aa5_row68_col1, #T_82aa5_row68_col2, #T_82aa5_row68_col3, #T_82aa5_row69_col0, #T_82aa5_row69_col1, #T_82aa5_row69_col2, #T_82aa5_row69_col3, #T_82aa5_row70_col0, #T_82aa5_row70_col1, #T_82aa5_row70_col2, #T_82aa5_row70_col3, #T_82aa5_row71_col0, #T_82aa5_row71_col1, #T_82aa5_row71_col2, #T_82aa5_row71_col3, #T_82aa5_row72_col0, #T_82aa5_row72_col1, #T_82aa5_row72_col2, #T_82aa5_row72_col3, #T_82aa5_row73_col0, #T_82aa5_row73_col1, #T_82aa5_row73_col2, #T_82aa5_row73_col3, #T_82aa5_row74_col0, #T_82aa5_row74_col1, #T_82aa5_row74_col2, #T_82aa5_row74_col3, #T_82aa5_row75_col0, #T_82aa5_row75_col1, #T_82aa5_row75_col2, #T_82aa5_row75_col3, #T_82aa5_row76_col0, #T_82aa5_row76_col1, #T_82aa5_row76_col2, #T_82aa5_row76_col3, #T_82aa5_row77_col0, #T_82aa5_row77_col1, #T_82aa5_row77_col2, #T_82aa5_row77_col3, #T_82aa5_row78_col0, #T_82aa5_row78_col1, #T_82aa5_row78_col2, #T_82aa5_row78_col3, #T_82aa5_row79_col0, #T_82aa5_row79_col1, #T_82aa5_row79_col2, #T_82aa5_row79_col3, #T_82aa5_row80_col0, #T_82aa5_row80_col1, #T_82aa5_row80_col2, #T_82aa5_row80_col3, #T_82aa5_row81_col0, #T_82aa5_row81_col1, #T_82aa5_row81_col2, #T_82aa5_row81_col3, #T_82aa5_row82_col0, #T_82aa5_row82_col1, #T_82aa5_row82_col2, #T_82aa5_row82_col3, #T_82aa5_row83_col0, #T_82aa5_row83_col1, #T_82aa5_row83_col2, #T_82aa5_row83_col3, #T_82aa5_row84_col0, #T_82aa5_row84_col1, #T_82aa5_row84_col2, #T_82aa5_row84_col3, #T_82aa5_row85_col0, #T_82aa5_row85_col1, #T_82aa5_row85_col2, #T_82aa5_row85_col3, #T_82aa5_row86_col0, #T_82aa5_row86_col1, #T_82aa5_row86_col2, #T_82aa5_row86_col3, #T_82aa5_row87_col0, #T_82aa5_row87_col1, #T_82aa5_row87_col2, #T_82aa5_row87_col3, #T_82aa5_row88_col0, #T_82aa5_row88_col1, #T_82aa5_row88_col2, #T_82aa5_row88_col3, #T_82aa5_row89_col0, #T_82aa5_row89_col1, #T_82aa5_row89_col2, #T_82aa5_row89_col3, #T_82aa5_row90_col0, #T_82aa5_row90_col1, #T_82aa5_row90_col2, #T_82aa5_row90_col3, #T_82aa5_row91_col0, #T_82aa5_row91_col1, #T_82aa5_row91_col2, #T_82aa5_row91_col3, #T_82aa5_row92_col0, #T_82aa5_row92_col1, #T_82aa5_row92_col2, #T_82aa5_row92_col3, #T_82aa5_row93_col0, #T_82aa5_row93_col1, #T_82aa5_row93_col2, #T_82aa5_row93_col3, #T_82aa5_row94_col0, #T_82aa5_row94_col1, #T_82aa5_row94_col2, #T_82aa5_row94_col3 {\n  text-align: center;\n}\n</style>\n<table id=\"T_82aa5\">\n  <thead>\n    <tr>\n      <th id=\"T_82aa5_level0_col0\" class=\"col_heading level0 col0\" >Project Cycle</th>\n      <th id=\"T_82aa5_level0_col1\" class=\"col_heading level0 col1\" >County Name</th>\n      <th id=\"T_82aa5_level0_col2\" class=\"col_heading level0 col2\" >Application</th>\n      <th id=\"T_82aa5_level0_col3\" class=\"col_heading level0 col3\" >Funded</th>\n    </tr>\n  </thead>\n  <tbody>\n    <tr>\n      <td id=\"T_82aa5_row0_col0\" class=\"data row0 col0\" >5</td>\n      <td id=\"T_82aa5_row0_col1\" class=\"data row0 col1\" >Alameda</td>\n      <td id=\"T_82aa5_row0_col2\" class=\"data row0 col2\" >8</td>\n      <td id=\"T_82aa5_row0_col3\" class=\"data row0 col3\" >1</td>\n    </tr>\n    <tr>\n      <td id=\"T_82aa5_row1_col0\" class=\"data row1 col0\" >5</td>\n      <td id=\"T_82aa5_row1_col1\" class=\"data row1 col1\" >Butte</td>\n      <td id=\"T_82aa5_row1_col2\" class=\"data row1 col2\" >4</td>\n      <td id=\"T_82aa5_row1_col3\" class=\"data row1 col3\" >0</td>\n    </tr>\n    <tr>\n      <td id=\"T_82aa5_row2_col0\" class=\"data row2 col0\" >5</td>\n      <td id=\"T_82aa5_row2_col1\" class=\"data row2 col1\" >Calaveras</td>\n      <td id=\"T_82aa5_row2_col2\" class=\"data row2 col2\" >1</td>\n      <td id=\"T_82aa5_row2_col3\" class=\"data row2 col3\" >0</td>\n    </tr>\n    <tr>\n      <td id=\"T_82aa5_row3_col0\" class=\"data row3 col0\" >5</td>\n      <td id=\"T_82aa5_row3_col1\" class=\"data row3 col1\" >Colusa</td>\n      <td id=\"T_82aa5_row3_col2\" class=\"data row3 col2\" >1</td>\n      <td id=\"T_82aa5_row3_col3\" class=\"data row3 col3\" >0</td>\n    </tr>\n    <tr>\n      <td id=\"T_82aa5_row4_col0\" class=\"data row4 col0\" >5</td>\n      <td id=\"T_82aa5_row4_col1\" class=\"data row4 col1\" >Contra Costa</td>\n      <td id=\"T_82aa5_row4_col2\" class=\"data row4 col2\" >10</td>\n      <td id=\"T_82aa5_row4_col3\" class=\"data row4 col3\" >1</td>\n    </tr>\n    <tr>\n      <td id=\"T_82aa5_row5_col0\" class=\"data row5 col0\" >5</td>\n      <td id=\"T_82aa5_row5_col1\" class=\"data row5 col1\" >El Dorado</td>\n      <td id=\"T_82aa5_row5_col2\" class=\"data row5 col2\" >3</td>\n      <td id=\"T_82aa5_row5_col3\" class=\"data row5 col3\" >1</td>\n    </tr>\n    <tr>\n      <td id=\"T_82aa5_row6_col0\" class=\"data row6 col0\" >5</td>\n      <td id=\"T_82aa5_row6_col1\" class=\"data row6 col1\" >Fresno</td>\n      <td id=\"T_82aa5_row6_col2\" class=\"data row6 col2\" >9</td>\n      <td id=\"T_82aa5_row6_col3\" class=\"data row6 col3\" >3</td>\n    </tr>\n    <tr>\n      <td id=\"T_82aa5_row7_col0\" class=\"data row7 col0\" >5</td>\n      <td id=\"T_82aa5_row7_col1\" class=\"data row7 col1\" >Humboldt</td>\n      <td id=\"T_82aa5_row7_col2\" class=\"data row7 col2\" >4</td>\n      <td id=\"T_82aa5_row7_col3\" class=\"data row7 col3\" >1</td>\n    </tr>\n    <tr>\n      <td id=\"T_82aa5_row8_col0\" class=\"data row8 col0\" >5</td>\n      <td id=\"T_82aa5_row8_col1\" class=\"data row8 col1\" >Imperial</td>\n      <td id=\"T_82aa5_row8_col2\" class=\"data row8 col2\" >1</td>\n      <td id=\"T_82aa5_row8_col3\" class=\"data row8 col3\" >0</td>\n    </tr>\n    <tr>\n      <td id=\"T_82aa5_row9_col0\" class=\"data row9 col0\" >5</td>\n      <td id=\"T_82aa5_row9_col1\" class=\"data row9 col1\" >Inyo</td>\n      <td id=\"T_82aa5_row9_col2\" class=\"data row9 col2\" >2</td>\n      <td id=\"T_82aa5_row9_col3\" class=\"data row9 col3\" >0</td>\n    </tr>\n    <tr>\n      <td id=\"T_82aa5_row10_col0\" class=\"data row10 col0\" >5</td>\n      <td id=\"T_82aa5_row10_col1\" class=\"data row10 col1\" >Kern</td>\n      <td id=\"T_82aa5_row10_col2\" class=\"data row10 col2\" >6</td>\n      <td id=\"T_82aa5_row10_col3\" class=\"data row10 col3\" >1</td>\n    </tr>\n    <tr>\n      <td id=\"T_82aa5_row11_col0\" class=\"data row11 col0\" >5</td>\n      <td id=\"T_82aa5_row11_col1\" class=\"data row11 col1\" >Kings</td>\n      <td id=\"T_82aa5_row11_col2\" class=\"data row11 col2\" >1</td>\n      <td id=\"T_82aa5_row11_col3\" class=\"data row11 col3\" >1</td>\n    </tr>\n    <tr>\n      <td id=\"T_82aa5_row12_col0\" class=\"data row12 col0\" >5</td>\n      <td id=\"T_82aa5_row12_col1\" class=\"data row12 col1\" >Lake</td>\n      <td id=\"T_82aa5_row12_col2\" class=\"data row12 col2\" >1</td>\n      <td id=\"T_82aa5_row12_col3\" class=\"data row12 col3\" >1</td>\n    </tr>\n    <tr>\n      <td id=\"T_82aa5_row13_col0\" class=\"data row13 col0\" >5</td>\n      <td id=\"T_82aa5_row13_col1\" class=\"data row13 col1\" >Los Angeles</td>\n      <td id=\"T_82aa5_row13_col2\" class=\"data row13 col2\" >32</td>\n      <td id=\"T_82aa5_row13_col3\" class=\"data row13 col3\" >6</td>\n    </tr>\n    <tr>\n      <td id=\"T_82aa5_row14_col0\" class=\"data row14 col0\" >5</td>\n      <td id=\"T_82aa5_row14_col1\" class=\"data row14 col1\" >MPA </td>\n      <td id=\"T_82aa5_row14_col2\" class=\"data row14 col2\" >0</td>\n      <td id=\"T_82aa5_row14_col3\" class=\"data row14 col3\" >1</td>\n    </tr>\n    <tr>\n      <td id=\"T_82aa5_row15_col0\" class=\"data row15 col0\" >5</td>\n      <td id=\"T_82aa5_row15_col1\" class=\"data row15 col1\" >Marin</td>\n      <td id=\"T_82aa5_row15_col2\" class=\"data row15 col2\" >5</td>\n      <td id=\"T_82aa5_row15_col3\" class=\"data row15 col3\" >0</td>\n    </tr>\n    <tr>\n      <td id=\"T_82aa5_row16_col0\" class=\"data row16 col0\" >5</td>\n      <td id=\"T_82aa5_row16_col1\" class=\"data row16 col1\" >Mariposa</td>\n      <td id=\"T_82aa5_row16_col2\" class=\"data row16 col2\" >0</td>\n      <td id=\"T_82aa5_row16_col3\" class=\"data row16 col3\" >1</td>\n    </tr>\n    <tr>\n      <td id=\"T_82aa5_row17_col0\" class=\"data row17 col0\" >5</td>\n      <td id=\"T_82aa5_row17_col1\" class=\"data row17 col1\" >Mendocino</td>\n      <td id=\"T_82aa5_row17_col2\" class=\"data row17 col2\" >2</td>\n      <td id=\"T_82aa5_row17_col3\" class=\"data row17 col3\" >0</td>\n    </tr>\n    <tr>\n      <td id=\"T_82aa5_row18_col0\" class=\"data row18 col0\" >5</td>\n      <td id=\"T_82aa5_row18_col1\" class=\"data row18 col1\" >Merced</td>\n      <td id=\"T_82aa5_row18_col2\" class=\"data row18 col2\" >2</td>\n      <td id=\"T_82aa5_row18_col3\" class=\"data row18 col3\" >0</td>\n    </tr>\n    <tr>\n      <td id=\"T_82aa5_row19_col0\" class=\"data row19 col0\" >5</td>\n      <td id=\"T_82aa5_row19_col1\" class=\"data row19 col1\" >Modoc</td>\n      <td id=\"T_82aa5_row19_col2\" class=\"data row19 col2\" >1</td>\n      <td id=\"T_82aa5_row19_col3\" class=\"data row19 col3\" >0</td>\n    </tr>\n    <tr>\n      <td id=\"T_82aa5_row20_col0\" class=\"data row20 col0\" >5</td>\n      <td id=\"T_82aa5_row20_col1\" class=\"data row20 col1\" >Monterey</td>\n      <td id=\"T_82aa5_row20_col2\" class=\"data row20 col2\" >4</td>\n      <td id=\"T_82aa5_row20_col3\" class=\"data row20 col3\" >1</td>\n    </tr>\n    <tr>\n      <td id=\"T_82aa5_row21_col0\" class=\"data row21 col0\" >5</td>\n      <td id=\"T_82aa5_row21_col1\" class=\"data row21 col1\" >Napa</td>\n      <td id=\"T_82aa5_row21_col2\" class=\"data row21 col2\" >3</td>\n      <td id=\"T_82aa5_row21_col3\" class=\"data row21 col3\" >0</td>\n    </tr>\n    <tr>\n      <td id=\"T_82aa5_row22_col0\" class=\"data row22 col0\" >5</td>\n      <td id=\"T_82aa5_row22_col1\" class=\"data row22 col1\" >Nevada</td>\n      <td id=\"T_82aa5_row22_col2\" class=\"data row22 col2\" >3</td>\n      <td id=\"T_82aa5_row22_col3\" class=\"data row22 col3\" >0</td>\n    </tr>\n    <tr>\n      <td id=\"T_82aa5_row23_col0\" class=\"data row23 col0\" >5</td>\n      <td id=\"T_82aa5_row23_col1\" class=\"data row23 col1\" >Orange</td>\n      <td id=\"T_82aa5_row23_col2\" class=\"data row23 col2\" >14</td>\n      <td id=\"T_82aa5_row23_col3\" class=\"data row23 col3\" >0</td>\n    </tr>\n    <tr>\n      <td id=\"T_82aa5_row24_col0\" class=\"data row24 col0\" >5</td>\n      <td id=\"T_82aa5_row24_col1\" class=\"data row24 col1\" >Placer</td>\n      <td id=\"T_82aa5_row24_col2\" class=\"data row24 col2\" >2</td>\n      <td id=\"T_82aa5_row24_col3\" class=\"data row24 col3\" >0</td>\n    </tr>\n    <tr>\n      <td id=\"T_82aa5_row25_col0\" class=\"data row25 col0\" >5</td>\n      <td id=\"T_82aa5_row25_col1\" class=\"data row25 col1\" >Riverside</td>\n      <td id=\"T_82aa5_row25_col2\" class=\"data row25 col2\" >14</td>\n      <td id=\"T_82aa5_row25_col3\" class=\"data row25 col3\" >2</td>\n    </tr>\n    <tr>\n      <td id=\"T_82aa5_row26_col0\" class=\"data row26 col0\" >5</td>\n      <td id=\"T_82aa5_row26_col1\" class=\"data row26 col1\" >Sacramento</td>\n      <td id=\"T_82aa5_row26_col2\" class=\"data row26 col2\" >6</td>\n      <td id=\"T_82aa5_row26_col3\" class=\"data row26 col3\" >2</td>\n    </tr>\n    <tr>\n      <td id=\"T_82aa5_row27_col0\" class=\"data row27 col0\" >5</td>\n      <td id=\"T_82aa5_row27_col1\" class=\"data row27 col1\" >San Benito</td>\n      <td id=\"T_82aa5_row27_col2\" class=\"data row27 col2\" >1</td>\n      <td id=\"T_82aa5_row27_col3\" class=\"data row27 col3\" >0</td>\n    </tr>\n    <tr>\n      <td id=\"T_82aa5_row28_col0\" class=\"data row28 col0\" >5</td>\n      <td id=\"T_82aa5_row28_col1\" class=\"data row28 col1\" >San Bernardino</td>\n      <td id=\"T_82aa5_row28_col2\" class=\"data row28 col2\" >14</td>\n      <td id=\"T_82aa5_row28_col3\" class=\"data row28 col3\" >2</td>\n    </tr>\n    <tr>\n      <td id=\"T_82aa5_row29_col0\" class=\"data row29 col0\" >5</td>\n      <td id=\"T_82aa5_row29_col1\" class=\"data row29 col1\" >San Diego</td>\n      <td id=\"T_82aa5_row29_col2\" class=\"data row29 col2\" >16</td>\n      <td id=\"T_82aa5_row29_col3\" class=\"data row29 col3\" >4</td>\n    </tr>\n    <tr>\n      <td id=\"T_82aa5_row30_col0\" class=\"data row30 col0\" >5</td>\n      <td id=\"T_82aa5_row30_col1\" class=\"data row30 col1\" >San Francisco</td>\n      <td id=\"T_82aa5_row30_col2\" class=\"data row30 col2\" >2</td>\n      <td id=\"T_82aa5_row30_col3\" class=\"data row30 col3\" >0</td>\n    </tr>\n    <tr>\n      <td id=\"T_82aa5_row31_col0\" class=\"data row31 col0\" >5</td>\n      <td id=\"T_82aa5_row31_col1\" class=\"data row31 col1\" >San Joaquin</td>\n      <td id=\"T_82aa5_row31_col2\" class=\"data row31 col2\" >9</td>\n      <td id=\"T_82aa5_row31_col3\" class=\"data row31 col3\" >0</td>\n    </tr>\n    <tr>\n      <td id=\"T_82aa5_row32_col0\" class=\"data row32 col0\" >5</td>\n      <td id=\"T_82aa5_row32_col1\" class=\"data row32 col1\" >San Luis Obispo</td>\n      <td id=\"T_82aa5_row32_col2\" class=\"data row32 col2\" >5</td>\n      <td id=\"T_82aa5_row32_col3\" class=\"data row32 col3\" >1</td>\n    </tr>\n    <tr>\n      <td id=\"T_82aa5_row33_col0\" class=\"data row33 col0\" >5</td>\n      <td id=\"T_82aa5_row33_col1\" class=\"data row33 col1\" >San Mateo</td>\n      <td id=\"T_82aa5_row33_col2\" class=\"data row33 col2\" >10</td>\n      <td id=\"T_82aa5_row33_col3\" class=\"data row33 col3\" >0</td>\n    </tr>\n    <tr>\n      <td id=\"T_82aa5_row34_col0\" class=\"data row34 col0\" >5</td>\n      <td id=\"T_82aa5_row34_col1\" class=\"data row34 col1\" >Santa Barbara</td>\n      <td id=\"T_82aa5_row34_col2\" class=\"data row34 col2\" >6</td>\n      <td id=\"T_82aa5_row34_col3\" class=\"data row34 col3\" >1</td>\n    </tr>\n    <tr>\n      <td id=\"T_82aa5_row35_col0\" class=\"data row35 col0\" >5</td>\n      <td id=\"T_82aa5_row35_col1\" class=\"data row35 col1\" >Santa Clara</td>\n      <td id=\"T_82aa5_row35_col2\" class=\"data row35 col2\" >1</td>\n      <td id=\"T_82aa5_row35_col3\" class=\"data row35 col3\" >1</td>\n    </tr>\n    <tr>\n      <td id=\"T_82aa5_row36_col0\" class=\"data row36 col0\" >5</td>\n      <td id=\"T_82aa5_row36_col1\" class=\"data row36 col1\" >Santa Cruz</td>\n      <td id=\"T_82aa5_row36_col2\" class=\"data row36 col2\" >2</td>\n      <td id=\"T_82aa5_row36_col3\" class=\"data row36 col3\" >2</td>\n    </tr>\n    <tr>\n      <td id=\"T_82aa5_row37_col0\" class=\"data row37 col0\" >5</td>\n      <td id=\"T_82aa5_row37_col1\" class=\"data row37 col1\" >Shasta</td>\n      <td id=\"T_82aa5_row37_col2\" class=\"data row37 col2\" >4</td>\n      <td id=\"T_82aa5_row37_col3\" class=\"data row37 col3\" >2</td>\n    </tr>\n    <tr>\n      <td id=\"T_82aa5_row38_col0\" class=\"data row38 col0\" >5</td>\n      <td id=\"T_82aa5_row38_col1\" class=\"data row38 col1\" >Siskiyou</td>\n      <td id=\"T_82aa5_row38_col2\" class=\"data row38 col2\" >0</td>\n      <td id=\"T_82aa5_row38_col3\" class=\"data row38 col3\" >2</td>\n    </tr>\n    <tr>\n      <td id=\"T_82aa5_row39_col0\" class=\"data row39 col0\" >5</td>\n      <td id=\"T_82aa5_row39_col1\" class=\"data row39 col1\" >Solano</td>\n      <td id=\"T_82aa5_row39_col2\" class=\"data row39 col2\" >3</td>\n      <td id=\"T_82aa5_row39_col3\" class=\"data row39 col3\" >1</td>\n    </tr>\n    <tr>\n      <td id=\"T_82aa5_row40_col0\" class=\"data row40 col0\" >5</td>\n      <td id=\"T_82aa5_row40_col1\" class=\"data row40 col1\" >Sonoma</td>\n      <td id=\"T_82aa5_row40_col2\" class=\"data row40 col2\" >3</td>\n      <td id=\"T_82aa5_row40_col3\" class=\"data row40 col3\" >0</td>\n    </tr>\n    <tr>\n      <td id=\"T_82aa5_row41_col0\" class=\"data row41 col0\" >5</td>\n      <td id=\"T_82aa5_row41_col1\" class=\"data row41 col1\" >Stanislaus</td>\n      <td id=\"T_82aa5_row41_col2\" class=\"data row41 col2\" >4</td>\n      <td id=\"T_82aa5_row41_col3\" class=\"data row41 col3\" >0</td>\n    </tr>\n    <tr>\n      <td id=\"T_82aa5_row42_col0\" class=\"data row42 col0\" >5</td>\n      <td id=\"T_82aa5_row42_col1\" class=\"data row42 col1\" >Tehama</td>\n      <td id=\"T_82aa5_row42_col2\" class=\"data row42 col2\" >1</td>\n      <td id=\"T_82aa5_row42_col3\" class=\"data row42 col3\" >0</td>\n    </tr>\n    <tr>\n      <td id=\"T_82aa5_row43_col0\" class=\"data row43 col0\" >5</td>\n      <td id=\"T_82aa5_row43_col1\" class=\"data row43 col1\" >Tulare</td>\n      <td id=\"T_82aa5_row43_col2\" class=\"data row43 col2\" >6</td>\n      <td id=\"T_82aa5_row43_col3\" class=\"data row43 col3\" >1</td>\n    </tr>\n    <tr>\n      <td id=\"T_82aa5_row44_col0\" class=\"data row44 col0\" >5</td>\n      <td id=\"T_82aa5_row44_col1\" class=\"data row44 col1\" >Tuolumne</td>\n      <td id=\"T_82aa5_row44_col2\" class=\"data row44 col2\" >2</td>\n      <td id=\"T_82aa5_row44_col3\" class=\"data row44 col3\" >1</td>\n    </tr>\n    <tr>\n      <td id=\"T_82aa5_row45_col0\" class=\"data row45 col0\" >5</td>\n      <td id=\"T_82aa5_row45_col1\" class=\"data row45 col1\" >Ventura</td>\n      <td id=\"T_82aa5_row45_col2\" class=\"data row45 col2\" >4</td>\n      <td id=\"T_82aa5_row45_col3\" class=\"data row45 col3\" >1</td>\n    </tr>\n    <tr>\n      <td id=\"T_82aa5_row46_col0\" class=\"data row46 col0\" >5</td>\n      <td id=\"T_82aa5_row46_col1\" class=\"data row46 col1\" >Yolo</td>\n      <td id=\"T_82aa5_row46_col2\" class=\"data row46 col2\" >5</td>\n      <td id=\"T_82aa5_row46_col3\" class=\"data row46 col3\" >1</td>\n    </tr>\n    <tr>\n      <td id=\"T_82aa5_row47_col0\" class=\"data row47 col0\" >5</td>\n      <td id=\"T_82aa5_row47_col1\" class=\"data row47 col1\" >Yuba</td>\n      <td id=\"T_82aa5_row47_col2\" class=\"data row47 col2\" >2</td>\n      <td id=\"T_82aa5_row47_col3\" class=\"data row47 col3\" >0</td>\n    </tr>\n    <tr>\n      <td id=\"T_82aa5_row48_col0\" class=\"data row48 col0\" >6</td>\n      <td id=\"T_82aa5_row48_col1\" class=\"data row48 col1\" >Alameda</td>\n      <td id=\"T_82aa5_row48_col2\" class=\"data row48 col2\" >9</td>\n      <td id=\"T_82aa5_row48_col3\" class=\"data row48 col3\" >0</td>\n    </tr>\n    <tr>\n      <td id=\"T_82aa5_row49_col0\" class=\"data row49 col0\" >6</td>\n      <td id=\"T_82aa5_row49_col1\" class=\"data row49 col1\" >Amador</td>\n      <td id=\"T_82aa5_row49_col2\" class=\"data row49 col2\" >1</td>\n      <td id=\"T_82aa5_row49_col3\" class=\"data row49 col3\" >0</td>\n    </tr>\n    <tr>\n      <td id=\"T_82aa5_row50_col0\" class=\"data row50 col0\" >6</td>\n      <td id=\"T_82aa5_row50_col1\" class=\"data row50 col1\" >Butte</td>\n      <td id=\"T_82aa5_row50_col2\" class=\"data row50 col2\" >3</td>\n      <td id=\"T_82aa5_row50_col3\" class=\"data row50 col3\" >0</td>\n    </tr>\n    <tr>\n      <td id=\"T_82aa5_row51_col0\" class=\"data row51 col0\" >6</td>\n      <td id=\"T_82aa5_row51_col1\" class=\"data row51 col1\" >Calaveras</td>\n      <td id=\"T_82aa5_row51_col2\" class=\"data row51 col2\" >1</td>\n      <td id=\"T_82aa5_row51_col3\" class=\"data row51 col3\" >0</td>\n    </tr>\n    <tr>\n      <td id=\"T_82aa5_row52_col0\" class=\"data row52 col0\" >6</td>\n      <td id=\"T_82aa5_row52_col1\" class=\"data row52 col1\" >Colusa</td>\n      <td id=\"T_82aa5_row52_col2\" class=\"data row52 col2\" >1</td>\n      <td id=\"T_82aa5_row52_col3\" class=\"data row52 col3\" >0</td>\n    </tr>\n    <tr>\n      <td id=\"T_82aa5_row53_col0\" class=\"data row53 col0\" >6</td>\n      <td id=\"T_82aa5_row53_col1\" class=\"data row53 col1\" >Contra Costa</td>\n      <td id=\"T_82aa5_row53_col2\" class=\"data row53 col2\" >8</td>\n      <td id=\"T_82aa5_row53_col3\" class=\"data row53 col3\" >0</td>\n    </tr>\n    <tr>\n      <td id=\"T_82aa5_row54_col0\" class=\"data row54 col0\" >6</td>\n      <td id=\"T_82aa5_row54_col1\" class=\"data row54 col1\" >El Dorado</td>\n      <td id=\"T_82aa5_row54_col2\" class=\"data row54 col2\" >3</td>\n      <td id=\"T_82aa5_row54_col3\" class=\"data row54 col3\" >0</td>\n    </tr>\n    <tr>\n      <td id=\"T_82aa5_row55_col0\" class=\"data row55 col0\" >6</td>\n      <td id=\"T_82aa5_row55_col1\" class=\"data row55 col1\" >Fresno</td>\n      <td id=\"T_82aa5_row55_col2\" class=\"data row55 col2\" >9</td>\n      <td id=\"T_82aa5_row55_col3\" class=\"data row55 col3\" >0</td>\n    </tr>\n    <tr>\n      <td id=\"T_82aa5_row56_col0\" class=\"data row56 col0\" >6</td>\n      <td id=\"T_82aa5_row56_col1\" class=\"data row56 col1\" >Humboldt</td>\n      <td id=\"T_82aa5_row56_col2\" class=\"data row56 col2\" >2</td>\n      <td id=\"T_82aa5_row56_col3\" class=\"data row56 col3\" >0</td>\n    </tr>\n    <tr>\n      <td id=\"T_82aa5_row57_col0\" class=\"data row57 col0\" >6</td>\n      <td id=\"T_82aa5_row57_col1\" class=\"data row57 col1\" >Imperial</td>\n      <td id=\"T_82aa5_row57_col2\" class=\"data row57 col2\" >5</td>\n      <td id=\"T_82aa5_row57_col3\" class=\"data row57 col3\" >0</td>\n    </tr>\n    <tr>\n      <td id=\"T_82aa5_row58_col0\" class=\"data row58 col0\" >6</td>\n      <td id=\"T_82aa5_row58_col1\" class=\"data row58 col1\" >Inyo</td>\n      <td id=\"T_82aa5_row58_col2\" class=\"data row58 col2\" >1</td>\n      <td id=\"T_82aa5_row58_col3\" class=\"data row58 col3\" >0</td>\n    </tr>\n    <tr>\n      <td id=\"T_82aa5_row59_col0\" class=\"data row59 col0\" >6</td>\n      <td id=\"T_82aa5_row59_col1\" class=\"data row59 col1\" >Kern</td>\n      <td id=\"T_82aa5_row59_col2\" class=\"data row59 col2\" >7</td>\n      <td id=\"T_82aa5_row59_col3\" class=\"data row59 col3\" >0</td>\n    </tr>\n    <tr>\n      <td id=\"T_82aa5_row60_col0\" class=\"data row60 col0\" >6</td>\n      <td id=\"T_82aa5_row60_col1\" class=\"data row60 col1\" >Kings</td>\n      <td id=\"T_82aa5_row60_col2\" class=\"data row60 col2\" >1</td>\n      <td id=\"T_82aa5_row60_col3\" class=\"data row60 col3\" >0</td>\n    </tr>\n    <tr>\n      <td id=\"T_82aa5_row61_col0\" class=\"data row61 col0\" >6</td>\n      <td id=\"T_82aa5_row61_col1\" class=\"data row61 col1\" >Lake</td>\n      <td id=\"T_82aa5_row61_col2\" class=\"data row61 col2\" >2</td>\n      <td id=\"T_82aa5_row61_col3\" class=\"data row61 col3\" >0</td>\n    </tr>\n    <tr>\n      <td id=\"T_82aa5_row62_col0\" class=\"data row62 col0\" >6</td>\n      <td id=\"T_82aa5_row62_col1\" class=\"data row62 col1\" >Lassen</td>\n      <td id=\"T_82aa5_row62_col2\" class=\"data row62 col2\" >1</td>\n      <td id=\"T_82aa5_row62_col3\" class=\"data row62 col3\" >0</td>\n    </tr>\n    <tr>\n      <td id=\"T_82aa5_row63_col0\" class=\"data row63 col0\" >6</td>\n      <td id=\"T_82aa5_row63_col1\" class=\"data row63 col1\" >Los Angeles</td>\n      <td id=\"T_82aa5_row63_col2\" class=\"data row63 col2\" >37</td>\n      <td id=\"T_82aa5_row63_col3\" class=\"data row63 col3\" >0</td>\n    </tr>\n    <tr>\n      <td id=\"T_82aa5_row64_col0\" class=\"data row64 col0\" >6</td>\n      <td id=\"T_82aa5_row64_col1\" class=\"data row64 col1\" >Madera</td>\n      <td id=\"T_82aa5_row64_col2\" class=\"data row64 col2\" >2</td>\n      <td id=\"T_82aa5_row64_col3\" class=\"data row64 col3\" >0</td>\n    </tr>\n    <tr>\n      <td id=\"T_82aa5_row65_col0\" class=\"data row65 col0\" >6</td>\n      <td id=\"T_82aa5_row65_col1\" class=\"data row65 col1\" >Marin</td>\n      <td id=\"T_82aa5_row65_col2\" class=\"data row65 col2\" >4</td>\n      <td id=\"T_82aa5_row65_col3\" class=\"data row65 col3\" >0</td>\n    </tr>\n    <tr>\n      <td id=\"T_82aa5_row66_col0\" class=\"data row66 col0\" >6</td>\n      <td id=\"T_82aa5_row66_col1\" class=\"data row66 col1\" >Mendocino</td>\n      <td id=\"T_82aa5_row66_col2\" class=\"data row66 col2\" >2</td>\n      <td id=\"T_82aa5_row66_col3\" class=\"data row66 col3\" >0</td>\n    </tr>\n    <tr>\n      <td id=\"T_82aa5_row67_col0\" class=\"data row67 col0\" >6</td>\n      <td id=\"T_82aa5_row67_col1\" class=\"data row67 col1\" >Merced</td>\n      <td id=\"T_82aa5_row67_col2\" class=\"data row67 col2\" >1</td>\n      <td id=\"T_82aa5_row67_col3\" class=\"data row67 col3\" >0</td>\n    </tr>\n    <tr>\n      <td id=\"T_82aa5_row68_col0\" class=\"data row68 col0\" >6</td>\n      <td id=\"T_82aa5_row68_col1\" class=\"data row68 col1\" >Modoc</td>\n      <td id=\"T_82aa5_row68_col2\" class=\"data row68 col2\" >1</td>\n      <td id=\"T_82aa5_row68_col3\" class=\"data row68 col3\" >0</td>\n    </tr>\n    <tr>\n      <td id=\"T_82aa5_row69_col0\" class=\"data row69 col0\" >6</td>\n      <td id=\"T_82aa5_row69_col1\" class=\"data row69 col1\" >Monterey</td>\n      <td id=\"T_82aa5_row69_col2\" class=\"data row69 col2\" >6</td>\n      <td id=\"T_82aa5_row69_col3\" class=\"data row69 col3\" >0</td>\n    </tr>\n    <tr>\n      <td id=\"T_82aa5_row70_col0\" class=\"data row70 col0\" >6</td>\n      <td id=\"T_82aa5_row70_col1\" class=\"data row70 col1\" >Napa</td>\n      <td id=\"T_82aa5_row70_col2\" class=\"data row70 col2\" >3</td>\n      <td id=\"T_82aa5_row70_col3\" class=\"data row70 col3\" >0</td>\n    </tr>\n    <tr>\n      <td id=\"T_82aa5_row71_col0\" class=\"data row71 col0\" >6</td>\n      <td id=\"T_82aa5_row71_col1\" class=\"data row71 col1\" >Nevada</td>\n      <td id=\"T_82aa5_row71_col2\" class=\"data row71 col2\" >1</td>\n      <td id=\"T_82aa5_row71_col3\" class=\"data row71 col3\" >0</td>\n    </tr>\n    <tr>\n      <td id=\"T_82aa5_row72_col0\" class=\"data row72 col0\" >6</td>\n      <td id=\"T_82aa5_row72_col1\" class=\"data row72 col1\" >Orange</td>\n      <td id=\"T_82aa5_row72_col2\" class=\"data row72 col2\" >12</td>\n      <td id=\"T_82aa5_row72_col3\" class=\"data row72 col3\" >0</td>\n    </tr>\n    <tr>\n      <td id=\"T_82aa5_row73_col0\" class=\"data row73 col0\" >6</td>\n      <td id=\"T_82aa5_row73_col1\" class=\"data row73 col1\" >Placer</td>\n      <td id=\"T_82aa5_row73_col2\" class=\"data row73 col2\" >4</td>\n      <td id=\"T_82aa5_row73_col3\" class=\"data row73 col3\" >0</td>\n    </tr>\n    <tr>\n      <td id=\"T_82aa5_row74_col0\" class=\"data row74 col0\" >6</td>\n      <td id=\"T_82aa5_row74_col1\" class=\"data row74 col1\" >Riverside</td>\n      <td id=\"T_82aa5_row74_col2\" class=\"data row74 col2\" >15</td>\n      <td id=\"T_82aa5_row74_col3\" class=\"data row74 col3\" >0</td>\n    </tr>\n    <tr>\n      <td id=\"T_82aa5_row75_col0\" class=\"data row75 col0\" >6</td>\n      <td id=\"T_82aa5_row75_col1\" class=\"data row75 col1\" >Sacramento</td>\n      <td id=\"T_82aa5_row75_col2\" class=\"data row75 col2\" >7</td>\n      <td id=\"T_82aa5_row75_col3\" class=\"data row75 col3\" >0</td>\n    </tr>\n    <tr>\n      <td id=\"T_82aa5_row76_col0\" class=\"data row76 col0\" >6</td>\n      <td id=\"T_82aa5_row76_col1\" class=\"data row76 col1\" >San Bernardino</td>\n      <td id=\"T_82aa5_row76_col2\" class=\"data row76 col2\" >16</td>\n      <td id=\"T_82aa5_row76_col3\" class=\"data row76 col3\" >0</td>\n    </tr>\n    <tr>\n      <td id=\"T_82aa5_row77_col0\" class=\"data row77 col0\" >6</td>\n      <td id=\"T_82aa5_row77_col1\" class=\"data row77 col1\" >San Diego</td>\n      <td id=\"T_82aa5_row77_col2\" class=\"data row77 col2\" >12</td>\n      <td id=\"T_82aa5_row77_col3\" class=\"data row77 col3\" >0</td>\n    </tr>\n    <tr>\n      <td id=\"T_82aa5_row78_col0\" class=\"data row78 col0\" >6</td>\n      <td id=\"T_82aa5_row78_col1\" class=\"data row78 col1\" >San Francisco</td>\n      <td id=\"T_82aa5_row78_col2\" class=\"data row78 col2\" >1</td>\n      <td id=\"T_82aa5_row78_col3\" class=\"data row78 col3\" >0</td>\n    </tr>\n    <tr>\n      <td id=\"T_82aa5_row79_col0\" class=\"data row79 col0\" >6</td>\n      <td id=\"T_82aa5_row79_col1\" class=\"data row79 col1\" >San Joaquin</td>\n      <td id=\"T_82aa5_row79_col2\" class=\"data row79 col2\" >6</td>\n      <td id=\"T_82aa5_row79_col3\" class=\"data row79 col3\" >0</td>\n    </tr>\n    <tr>\n      <td id=\"T_82aa5_row80_col0\" class=\"data row80 col0\" >6</td>\n      <td id=\"T_82aa5_row80_col1\" class=\"data row80 col1\" >San Luis Obispo</td>\n      <td id=\"T_82aa5_row80_col2\" class=\"data row80 col2\" >5</td>\n      <td id=\"T_82aa5_row80_col3\" class=\"data row80 col3\" >0</td>\n    </tr>\n    <tr>\n      <td id=\"T_82aa5_row81_col0\" class=\"data row81 col0\" >6</td>\n      <td id=\"T_82aa5_row81_col1\" class=\"data row81 col1\" >San Mateo</td>\n      <td id=\"T_82aa5_row81_col2\" class=\"data row81 col2\" >5</td>\n      <td id=\"T_82aa5_row81_col3\" class=\"data row81 col3\" >0</td>\n    </tr>\n    <tr>\n      <td id=\"T_82aa5_row82_col0\" class=\"data row82 col0\" >6</td>\n      <td id=\"T_82aa5_row82_col1\" class=\"data row82 col1\" >Santa Barbara</td>\n      <td id=\"T_82aa5_row82_col2\" class=\"data row82 col2\" >5</td>\n      <td id=\"T_82aa5_row82_col3\" class=\"data row82 col3\" >0</td>\n    </tr>\n    <tr>\n      <td id=\"T_82aa5_row83_col0\" class=\"data row83 col0\" >6</td>\n      <td id=\"T_82aa5_row83_col1\" class=\"data row83 col1\" >Santa Clara</td>\n      <td id=\"T_82aa5_row83_col2\" class=\"data row83 col2\" >7</td>\n      <td id=\"T_82aa5_row83_col3\" class=\"data row83 col3\" >0</td>\n    </tr>\n    <tr>\n      <td id=\"T_82aa5_row84_col0\" class=\"data row84 col0\" >6</td>\n      <td id=\"T_82aa5_row84_col1\" class=\"data row84 col1\" >Santa Cruz</td>\n      <td id=\"T_82aa5_row84_col2\" class=\"data row84 col2\" >5</td>\n      <td id=\"T_82aa5_row84_col3\" class=\"data row84 col3\" >0</td>\n    </tr>\n    <tr>\n      <td id=\"T_82aa5_row85_col0\" class=\"data row85 col0\" >6</td>\n      <td id=\"T_82aa5_row85_col1\" class=\"data row85 col1\" >Shasta</td>\n      <td id=\"T_82aa5_row85_col2\" class=\"data row85 col2\" >1</td>\n      <td id=\"T_82aa5_row85_col3\" class=\"data row85 col3\" >0</td>\n    </tr>\n    <tr>\n      <td id=\"T_82aa5_row86_col0\" class=\"data row86 col0\" >6</td>\n      <td id=\"T_82aa5_row86_col1\" class=\"data row86 col1\" >Solano</td>\n      <td id=\"T_82aa5_row86_col2\" class=\"data row86 col2\" >6</td>\n      <td id=\"T_82aa5_row86_col3\" class=\"data row86 col3\" >0</td>\n    </tr>\n    <tr>\n      <td id=\"T_82aa5_row87_col0\" class=\"data row87 col0\" >6</td>\n      <td id=\"T_82aa5_row87_col1\" class=\"data row87 col1\" >Sonoma</td>\n      <td id=\"T_82aa5_row87_col2\" class=\"data row87 col2\" >3</td>\n      <td id=\"T_82aa5_row87_col3\" class=\"data row87 col3\" >0</td>\n    </tr>\n    <tr>\n      <td id=\"T_82aa5_row88_col0\" class=\"data row88 col0\" >6</td>\n      <td id=\"T_82aa5_row88_col1\" class=\"data row88 col1\" >Stanislaus</td>\n      <td id=\"T_82aa5_row88_col2\" class=\"data row88 col2\" >5</td>\n      <td id=\"T_82aa5_row88_col3\" class=\"data row88 col3\" >0</td>\n    </tr>\n    <tr>\n      <td id=\"T_82aa5_row89_col0\" class=\"data row89 col0\" >6</td>\n      <td id=\"T_82aa5_row89_col1\" class=\"data row89 col1\" >Sutter</td>\n      <td id=\"T_82aa5_row89_col2\" class=\"data row89 col2\" >1</td>\n      <td id=\"T_82aa5_row89_col3\" class=\"data row89 col3\" >0</td>\n    </tr>\n    <tr>\n      <td id=\"T_82aa5_row90_col0\" class=\"data row90 col0\" >6</td>\n      <td id=\"T_82aa5_row90_col1\" class=\"data row90 col1\" >Tulare</td>\n      <td id=\"T_82aa5_row90_col2\" class=\"data row90 col2\" >6</td>\n      <td id=\"T_82aa5_row90_col3\" class=\"data row90 col3\" >0</td>\n    </tr>\n    <tr>\n      <td id=\"T_82aa5_row91_col0\" class=\"data row91 col0\" >6</td>\n      <td id=\"T_82aa5_row91_col1\" class=\"data row91 col1\" >Tuolumne</td>\n      <td id=\"T_82aa5_row91_col2\" class=\"data row91 col2\" >3</td>\n      <td id=\"T_82aa5_row91_col3\" class=\"data row91 col3\" >0</td>\n    </tr>\n    <tr>\n      <td id=\"T_82aa5_row92_col0\" class=\"data row92 col0\" >6</td>\n      <td id=\"T_82aa5_row92_col1\" class=\"data row92 col1\" >Ventura</td>\n      <td id=\"T_82aa5_row92_col2\" class=\"data row92 col2\" >6</td>\n      <td id=\"T_82aa5_row92_col3\" class=\"data row92 col3\" >0</td>\n    </tr>\n    <tr>\n      <td id=\"T_82aa5_row93_col0\" class=\"data row93 col0\" >6</td>\n      <td id=\"T_82aa5_row93_col1\" class=\"data row93 col1\" >Yolo</td>\n      <td id=\"T_82aa5_row93_col2\" class=\"data row93 col2\" >4</td>\n      <td id=\"T_82aa5_row93_col3\" class=\"data row93 col3\" >0</td>\n    </tr>\n    <tr>\n      <td id=\"T_82aa5_row94_col0\" class=\"data row94 col0\" >6</td>\n      <td id=\"T_82aa5_row94_col1\" class=\"data row94 col1\" >Yuba</td>\n      <td id=\"T_82aa5_row94_col2\" class=\"data row94 col2\" >1</td>\n      <td id=\"T_82aa5_row94_col3\" class=\"data row94 col3\" >0</td>\n    </tr>\n  </tbody>\n</table>\n"
      }
     },
     "0d743ad8e97f4cacaf6703359bf3910a": {
      "model_module": "@jupyter-widgets/base",
      "model_module_version": "1.2.0",
      "model_name": "LayoutModel",
      "state": {}
     },
     "1383586c38124a0cb6cfec55ac379fcc": {
      "model_module": "@jupyter-widgets/base",
      "model_module_version": "1.2.0",
      "model_name": "LayoutModel",
      "state": {}
     },
     "18af3acd498e4fa4ad342db4b4f536fe": {
      "model_module": "@jupyter-widgets/controls",
      "model_module_version": "1.5.0",
      "model_name": "DescriptionStyleModel",
      "state": {
       "description_width": ""
      }
     },
     "197ba661899342fd9a117a90c98cafee": {
      "model_module": "@jupyter-widgets/controls",
      "model_module_version": "1.5.0",
      "model_name": "DescriptionStyleModel",
      "state": {
       "description_width": ""
      }
     },
     "236afa5c77fd42b08f1ecfe5fb61ec4e": {
      "model_module": "@jupyter-widgets/controls",
      "model_module_version": "1.5.0",
      "model_name": "DescriptionStyleModel",
      "state": {
       "description_width": ""
      }
     },
     "2bfed52023a3415184d25b43121047ff": {
      "model_module": "@jupyter-widgets/base",
      "model_module_version": "1.2.0",
      "model_name": "LayoutModel",
      "state": {}
     },
     "2d5af8809a2f44318005618767195a93": {
      "model_module": "@jupyter-widgets/controls",
      "model_module_version": "1.5.0",
      "model_name": "DescriptionStyleModel",
      "state": {
       "description_width": ""
      }
     },
     "37f452e7ecb04fc8b26993e1014b7fe6": {
      "model_module": "@jupyter-widgets/controls",
      "model_module_version": "1.5.0",
      "model_name": "DescriptionStyleModel",
      "state": {
       "description_width": ""
      }
     },
     "4485151128ef4fd69a539b9aee78cc78": {
      "model_module": "@jupyter-widgets/base",
      "model_module_version": "1.2.0",
      "model_name": "LayoutModel",
      "state": {}
     },
     "4b071995d5e04769a0a09a3348d82da8": {
      "model_module": "@jupyter-widgets/base",
      "model_module_version": "1.2.0",
      "model_name": "LayoutModel",
      "state": {}
     },
     "4d67417a674b42a8aff3a3fd9ed53714": {
      "model_module": "@jupyter-widgets/controls",
      "model_module_version": "1.5.0",
      "model_name": "HTMLModel",
      "state": {
       "layout": "IPY_MODEL_4485151128ef4fd69a539b9aee78cc78",
       "style": "IPY_MODEL_236afa5c77fd42b08f1ecfe5fb61ec4e",
       "value": "<h3>Number of Unique Agencies By County</h3>"
      }
     },
     "529cb66292784e5699f1ccdbfe484abe": {
      "model_module": "@jupyter-widgets/controls",
      "model_module_version": "1.5.0",
      "model_name": "HTMLModel",
      "state": {
       "layout": "IPY_MODEL_a5bf365ba5c1483d906275a059df332b",
       "style": "IPY_MODEL_06562ec8592e40dc8f700523fabe5eef",
       "value": "<h3>Application Success Rate</h3>"
      }
     },
     "555bb5a8c98d4014b12bac01f7038efe": {
      "model_module": "@jupyter-widgets/controls",
      "model_module_version": "1.5.0",
      "model_name": "HTMLModel",
      "state": {
       "layout": "IPY_MODEL_0d743ad8e97f4cacaf6703359bf3910a",
       "style": "IPY_MODEL_eadc3f23f71b47bd954a267042d61dcd",
       "value": "<h3> What were the application outcomes for District 4 in Cycle 5?</h3>"
      }
     },
     "57066920555549abbd233425a4150a81": {
      "model_module": "@jupyter-widgets/base",
      "model_module_version": "1.2.0",
      "model_name": "LayoutModel",
      "state": {}
     },
     "644d216fa1a94bd3ab81bc836c4b491b": {
      "model_module": "@jupyter-widgets/controls",
      "model_module_version": "1.5.0",
      "model_name": "DescriptionStyleModel",
      "state": {
       "description_width": ""
      }
     },
     "74dd7cfa33fa4875b1118eec13114dc1": {
      "model_module": "@jupyter-widgets/controls",
      "model_module_version": "1.5.0",
      "model_name": "HTMLModel",
      "state": {
       "layout": "IPY_MODEL_99074e27a8514883b48d0339a3da2512",
       "style": "IPY_MODEL_d7fd5b1a6f2b4123ac29a8c843b2b945",
       "value": "<h2>Quick Stats</h2>"
      }
     },
     "7579c75344174eecbf9b0235dece47d9": {
      "model_module": "@jupyter-widgets/base",
      "model_module_version": "1.2.0",
      "model_name": "LayoutModel",
      "state": {}
     },
     "762e6d10a18145a6a3fb9f2322f9c318": {
      "model_module": "@jupyter-widgets/controls",
      "model_module_version": "1.5.0",
      "model_name": "DescriptionStyleModel",
      "state": {
       "description_width": ""
      }
     },
     "80e39f3050964c07aa1ec4ae24468af2": {
      "model_module": "@jupyter-widgets/controls",
      "model_module_version": "1.5.0",
      "model_name": "DescriptionStyleModel",
      "state": {
       "description_width": ""
      }
     },
     "89478ca9d9ed411980700880c87b06d6": {
      "model_module": "@jupyter-widgets/controls",
      "model_module_version": "1.5.0",
      "model_name": "HTMLModel",
      "state": {
       "layout": "IPY_MODEL_2bfed52023a3415184d25b43121047ff",
       "style": "IPY_MODEL_2d5af8809a2f44318005618767195a93",
       "value": "Out of 884 Active Transportation Program Project Applications, there are <strong>49 projects</strong> that recieved funding over 2 cycles"
      }
     },
     "8e4f3fa6164f442eb7e3da27c3a72527": {
      "model_module": "@jupyter-widgets/controls",
      "model_module_version": "1.5.0",
      "model_name": "HTMLModel",
      "state": {
       "layout": "IPY_MODEL_7579c75344174eecbf9b0235dece47d9",
       "style": "IPY_MODEL_37f452e7ecb04fc8b26993e1014b7fe6",
       "value": "<h3> Funded Projects </h3>"
      }
     },
     "933a7c5bec3b49e7847c17d5356e26f1": {
      "model_module": "@jupyter-widgets/controls",
      "model_module_version": "1.5.0",
      "model_name": "HTMLModel",
      "state": {
       "layout": "IPY_MODEL_57066920555549abbd233425a4150a81",
       "style": "IPY_MODEL_197ba661899342fd9a117a90c98cafee",
       "value": "<style type=\"text/css\">\n#T_e033c th {\n  text-align: center;\n}\n#T_e033c_row0_col0, #T_e033c_row0_col1, #T_e033c_row0_col2, #T_e033c_row0_col3, #T_e033c_row0_col4, #T_e033c_row1_col0, #T_e033c_row1_col1, #T_e033c_row1_col2, #T_e033c_row1_col3, #T_e033c_row1_col4, #T_e033c_row2_col0, #T_e033c_row2_col1, #T_e033c_row2_col2, #T_e033c_row2_col3, #T_e033c_row2_col4, #T_e033c_row3_col0, #T_e033c_row3_col1, #T_e033c_row3_col2, #T_e033c_row3_col3, #T_e033c_row3_col4, #T_e033c_row4_col0, #T_e033c_row4_col1, #T_e033c_row4_col2, #T_e033c_row4_col3, #T_e033c_row4_col4, #T_e033c_row5_col0, #T_e033c_row5_col1, #T_e033c_row5_col2, #T_e033c_row5_col3, #T_e033c_row5_col4, #T_e033c_row6_col0, #T_e033c_row6_col1, #T_e033c_row6_col2, #T_e033c_row6_col3, #T_e033c_row6_col4, #T_e033c_row7_col0, #T_e033c_row7_col1, #T_e033c_row7_col2, #T_e033c_row7_col3, #T_e033c_row7_col4, #T_e033c_row8_col0, #T_e033c_row8_col1, #T_e033c_row8_col2, #T_e033c_row8_col3, #T_e033c_row8_col4, #T_e033c_row9_col0, #T_e033c_row9_col1, #T_e033c_row9_col2, #T_e033c_row9_col3, #T_e033c_row9_col4, #T_e033c_row10_col0, #T_e033c_row10_col1, #T_e033c_row10_col2, #T_e033c_row10_col3, #T_e033c_row10_col4, #T_e033c_row11_col0, #T_e033c_row11_col1, #T_e033c_row11_col2, #T_e033c_row11_col3, #T_e033c_row11_col4, #T_e033c_row12_col0, #T_e033c_row12_col1, #T_e033c_row12_col2, #T_e033c_row12_col3, #T_e033c_row12_col4, #T_e033c_row13_col0, #T_e033c_row13_col1, #T_e033c_row13_col2, #T_e033c_row13_col3, #T_e033c_row13_col4, #T_e033c_row14_col0, #T_e033c_row14_col1, #T_e033c_row14_col2, #T_e033c_row14_col3, #T_e033c_row14_col4, #T_e033c_row15_col0, #T_e033c_row15_col1, #T_e033c_row15_col2, #T_e033c_row15_col3, #T_e033c_row15_col4, #T_e033c_row16_col0, #T_e033c_row16_col1, #T_e033c_row16_col2, #T_e033c_row16_col3, #T_e033c_row16_col4, #T_e033c_row17_col0, #T_e033c_row17_col1, #T_e033c_row17_col2, #T_e033c_row17_col3, #T_e033c_row17_col4, #T_e033c_row18_col0, #T_e033c_row18_col1, #T_e033c_row18_col2, #T_e033c_row18_col3, #T_e033c_row18_col4, #T_e033c_row19_col0, #T_e033c_row19_col1, #T_e033c_row19_col2, #T_e033c_row19_col3, #T_e033c_row19_col4, #T_e033c_row20_col0, #T_e033c_row20_col1, #T_e033c_row20_col2, #T_e033c_row20_col3, #T_e033c_row20_col4, #T_e033c_row21_col0, #T_e033c_row21_col1, #T_e033c_row21_col2, #T_e033c_row21_col3, #T_e033c_row21_col4, #T_e033c_row22_col0, #T_e033c_row22_col1, #T_e033c_row22_col2, #T_e033c_row22_col3, #T_e033c_row22_col4, #T_e033c_row23_col0, #T_e033c_row23_col1, #T_e033c_row23_col2, #T_e033c_row23_col3, #T_e033c_row23_col4, #T_e033c_row24_col0, #T_e033c_row24_col1, #T_e033c_row24_col2, #T_e033c_row24_col3, #T_e033c_row24_col4, #T_e033c_row25_col0, #T_e033c_row25_col1, #T_e033c_row25_col2, #T_e033c_row25_col3, #T_e033c_row25_col4, #T_e033c_row26_col0, #T_e033c_row26_col1, #T_e033c_row26_col2, #T_e033c_row26_col3, #T_e033c_row26_col4, #T_e033c_row27_col0, #T_e033c_row27_col1, #T_e033c_row27_col2, #T_e033c_row27_col3, #T_e033c_row27_col4, #T_e033c_row28_col0, #T_e033c_row28_col1, #T_e033c_row28_col2, #T_e033c_row28_col3, #T_e033c_row28_col4, #T_e033c_row29_col0, #T_e033c_row29_col1, #T_e033c_row29_col2, #T_e033c_row29_col3, #T_e033c_row29_col4, #T_e033c_row30_col0, #T_e033c_row30_col1, #T_e033c_row30_col2, #T_e033c_row30_col3, #T_e033c_row30_col4, #T_e033c_row31_col0, #T_e033c_row31_col1, #T_e033c_row31_col2, #T_e033c_row31_col3, #T_e033c_row31_col4, #T_e033c_row32_col0, #T_e033c_row32_col1, #T_e033c_row32_col2, #T_e033c_row32_col3, #T_e033c_row32_col4, #T_e033c_row33_col0, #T_e033c_row33_col1, #T_e033c_row33_col2, #T_e033c_row33_col3, #T_e033c_row33_col4, #T_e033c_row34_col0, #T_e033c_row34_col1, #T_e033c_row34_col2, #T_e033c_row34_col3, #T_e033c_row34_col4, #T_e033c_row35_col0, #T_e033c_row35_col1, #T_e033c_row35_col2, #T_e033c_row35_col3, #T_e033c_row35_col4, #T_e033c_row36_col0, #T_e033c_row36_col1, #T_e033c_row36_col2, #T_e033c_row36_col3, #T_e033c_row36_col4, #T_e033c_row37_col0, #T_e033c_row37_col1, #T_e033c_row37_col2, #T_e033c_row37_col3, #T_e033c_row37_col4, #T_e033c_row38_col0, #T_e033c_row38_col1, #T_e033c_row38_col2, #T_e033c_row38_col3, #T_e033c_row38_col4, #T_e033c_row39_col0, #T_e033c_row39_col1, #T_e033c_row39_col2, #T_e033c_row39_col3, #T_e033c_row39_col4, #T_e033c_row40_col0, #T_e033c_row40_col1, #T_e033c_row40_col2, #T_e033c_row40_col3, #T_e033c_row40_col4, #T_e033c_row41_col0, #T_e033c_row41_col1, #T_e033c_row41_col2, #T_e033c_row41_col3, #T_e033c_row41_col4, #T_e033c_row42_col0, #T_e033c_row42_col1, #T_e033c_row42_col2, #T_e033c_row42_col3, #T_e033c_row42_col4, #T_e033c_row43_col0, #T_e033c_row43_col1, #T_e033c_row43_col2, #T_e033c_row43_col3, #T_e033c_row43_col4, #T_e033c_row44_col0, #T_e033c_row44_col1, #T_e033c_row44_col2, #T_e033c_row44_col3, #T_e033c_row44_col4, #T_e033c_row45_col0, #T_e033c_row45_col1, #T_e033c_row45_col2, #T_e033c_row45_col3, #T_e033c_row45_col4, #T_e033c_row46_col0, #T_e033c_row46_col1, #T_e033c_row46_col2, #T_e033c_row46_col3, #T_e033c_row46_col4, #T_e033c_row47_col0, #T_e033c_row47_col1, #T_e033c_row47_col2, #T_e033c_row47_col3, #T_e033c_row47_col4, #T_e033c_row48_col0, #T_e033c_row48_col1, #T_e033c_row48_col2, #T_e033c_row48_col3, #T_e033c_row48_col4 {\n  text-align: center;\n}\n</style>\n<table id=\"T_e033c\">\n  <thead>\n    <tr>\n      <th id=\"T_e033c_level0_col0\" class=\"col_heading level0 col0\" >Data Origin</th>\n      <th id=\"T_e033c_level0_col1\" class=\"col_heading level0 col1\" >A1 Imp Agcy Name</th>\n      <th id=\"T_e033c_level0_col2\" class=\"col_heading level0 col2\" >A2 Info Proj Name</th>\n      <th id=\"T_e033c_level0_col3\" class=\"col_heading level0 col3\" >A2 County</th>\n      <th id=\"T_e033c_level0_col4\" class=\"col_heading level0 col4\" >Total Project Cost</th>\n    </tr>\n  </thead>\n  <tbody>\n    <tr>\n      <td id=\"T_e033c_row0_col0\" class=\"data row0 col0\" >Funded</td>\n      <td id=\"T_e033c_row0_col1\" class=\"data row0 col1\" >El Dorado County</td>\n      <td id=\"T_e033c_row0_col2\" class=\"data row0 col2\" >Pollock Pines - Pony Express Trail Bicycle and Pedestrian Improvements</td>\n      <td id=\"T_e033c_row0_col3\" class=\"data row0 col3\" >El Dorado</td>\n      <td id=\"T_e033c_row0_col4\" class=\"data row0 col4\" >$ 2,000,000.00</td>\n    </tr>\n    <tr>\n      <td id=\"T_e033c_row1_col0\" class=\"data row1 col0\" >Funded</td>\n      <td id=\"T_e033c_row1_col1\" class=\"data row1 col1\" >Karuk Tribe</td>\n      <td id=\"T_e033c_row1_col2\" class=\"data row1 col2\" >Happy Camp Complete Streets Project</td>\n      <td id=\"T_e033c_row1_col3\" class=\"data row1 col3\" >Siskiyou</td>\n      <td id=\"T_e033c_row1_col4\" class=\"data row1 col4\" >$ 12,221,000.00</td>\n    </tr>\n    <tr>\n      <td id=\"T_e033c_row2_col0\" class=\"data row2 col0\" >Funded</td>\n      <td id=\"T_e033c_row2_col1\" class=\"data row2 col1\" >Bell Gardens, City of</td>\n      <td id=\"T_e033c_row2_col2\" class=\"data row2 col2\" >Bell Gardens Complete Streets Improvements - Phase 1</td>\n      <td id=\"T_e033c_row2_col3\" class=\"data row2 col3\" >Los Angeles</td>\n      <td id=\"T_e033c_row2_col4\" class=\"data row2 col4\" >$ 6,999,000.00</td>\n    </tr>\n    <tr>\n      <td id=\"T_e033c_row3_col0\" class=\"data row3 col0\" >Funded</td>\n      <td id=\"T_e033c_row3_col1\" class=\"data row3 col1\" >Redding, City of</td>\n      <td id=\"T_e033c_row3_col2\" class=\"data row3 col2\" >Turtle Bay to Downtown Gap Completion Project</td>\n      <td id=\"T_e033c_row3_col3\" class=\"data row3 col3\" >Shasta</td>\n      <td id=\"T_e033c_row3_col4\" class=\"data row3 col4\" >$ 3,935,000.00</td>\n    </tr>\n    <tr>\n      <td id=\"T_e033c_row4_col0\" class=\"data row4 col0\" >Funded</td>\n      <td id=\"T_e033c_row4_col1\" class=\"data row4 col1\" >Clearlake, City of</td>\n      <td id=\"T_e033c_row4_col2\" class=\"data row4 col2\" >Dam Road Extension & South Center Drive Bike/Pedestrian Improvements</td>\n      <td id=\"T_e033c_row4_col3\" class=\"data row4 col3\" >Lake</td>\n      <td id=\"T_e033c_row4_col4\" class=\"data row4 col4\" >$ 997,000.00</td>\n    </tr>\n    <tr>\n      <td id=\"T_e033c_row5_col0\" class=\"data row5 col0\" >Funded</td>\n      <td id=\"T_e033c_row5_col1\" class=\"data row5 col1\" >Oakland, City of</td>\n      <td id=\"T_e033c_row5_col2\" class=\"data row5 col2\" >7th Street Connection Project</td>\n      <td id=\"T_e033c_row5_col3\" class=\"data row5 col3\" >Alameda</td>\n      <td id=\"T_e033c_row5_col4\" class=\"data row5 col4\" >$ 21,037,000.00</td>\n    </tr>\n    <tr>\n      <td id=\"T_e033c_row6_col0\" class=\"data row6 col0\" >Funded</td>\n      <td id=\"T_e033c_row6_col1\" class=\"data row6 col1\" >Shasta County</td>\n      <td id=\"T_e033c_row6_col2\" class=\"data row6 col2\" >Cottonwood Active Transportation Trunk Line Express (CATTLE) Network</td>\n      <td id=\"T_e033c_row6_col3\" class=\"data row6 col3\" >Shasta</td>\n      <td id=\"T_e033c_row6_col4\" class=\"data row6 col4\" >$ 17,844,000.00</td>\n    </tr>\n    <tr>\n      <td id=\"T_e033c_row7_col0\" class=\"data row7 col0\" >Funded</td>\n      <td id=\"T_e033c_row7_col1\" class=\"data row7 col1\" >Santa Clara County</td>\n      <td id=\"T_e033c_row7_col2\" class=\"data row7 col2\" >Active and Safe Routes to a Healthier City </td>\n      <td id=\"T_e033c_row7_col3\" class=\"data row7 col3\" >Santa Clara</td>\n      <td id=\"T_e033c_row7_col4\" class=\"data row7 col4\" >$ 2,510,000.00</td>\n    </tr>\n    <tr>\n      <td id=\"T_e033c_row8_col0\" class=\"data row8 col0\" >Funded</td>\n      <td id=\"T_e033c_row8_col1\" class=\"data row8 col1\" >Siskiyou County Transportation Commission</td>\n      <td id=\"T_e033c_row8_col2\" class=\"data row8 col2\" >Siskiyou- Regional Active Transportation Plan</td>\n      <td id=\"T_e033c_row8_col3\" class=\"data row8 col3\" >Siskiyou</td>\n      <td id=\"T_e033c_row8_col4\" class=\"data row8 col4\" >$ 212,000.00</td>\n    </tr>\n    <tr>\n      <td id=\"T_e033c_row9_col0\" class=\"data row9 col0\" >Funded</td>\n      <td id=\"T_e033c_row9_col1\" class=\"data row9 col1\" >Oakland, City of</td>\n      <td id=\"T_e033c_row9_col2\" class=\"data row9 col2\" >East Oakland Neighborhood Bike Routes</td>\n      <td id=\"T_e033c_row9_col3\" class=\"data row9 col3\" >Alameda</td>\n      <td id=\"T_e033c_row9_col4\" class=\"data row9 col4\" >$ 21,859,000.00</td>\n    </tr>\n    <tr>\n      <td id=\"T_e033c_row10_col0\" class=\"data row10 col0\" >Funded</td>\n      <td id=\"T_e033c_row10_col1\" class=\"data row10 col1\" >Arcata, City of</td>\n      <td id=\"T_e033c_row10_col2\" class=\"data row10 col2\" >Arcata Annie & Mary Trail Connectivity Project</td>\n      <td id=\"T_e033c_row10_col3\" class=\"data row10 col3\" >Humboldt</td>\n      <td id=\"T_e033c_row10_col4\" class=\"data row10 col4\" >$ 5,286,000.00</td>\n    </tr>\n    <tr>\n      <td id=\"T_e033c_row11_col0\" class=\"data row11 col0\" >Funded</td>\n      <td id=\"T_e033c_row11_col1\" class=\"data row11 col1\" >San Bernardino County</td>\n      <td id=\"T_e033c_row11_col2\" class=\"data row11 col2\" >Muscoy Area Safe Routes to School Pedestrian Improvements Project</td>\n      <td id=\"T_e033c_row11_col3\" class=\"data row11 col3\" >San Bernardino</td>\n      <td id=\"T_e033c_row11_col4\" class=\"data row11 col4\" >$ 2,355,000.00</td>\n    </tr>\n    <tr>\n      <td id=\"T_e033c_row12_col0\" class=\"data row12 col0\" >Funded</td>\n      <td id=\"T_e033c_row12_col1\" class=\"data row12 col1\" >Corcoran, City of</td>\n      <td id=\"T_e033c_row12_col2\" class=\"data row12 col2\" >Corcoran Safe Routes to School</td>\n      <td id=\"T_e033c_row12_col3\" class=\"data row12 col3\" >Kings</td>\n      <td id=\"T_e033c_row12_col4\" class=\"data row12 col4\" >$ 1,998,000.00</td>\n    </tr>\n    <tr>\n      <td id=\"T_e033c_row13_col0\" class=\"data row13 col0\" >Funded</td>\n      <td id=\"T_e033c_row13_col1\" class=\"data row13 col1\" >Mariposa County</td>\n      <td id=\"T_e033c_row13_col2\" class=\"data row13 col2\" >Mariposa Elementary School Connectivity Project</td>\n      <td id=\"T_e033c_row13_col3\" class=\"data row13 col3\" >MPA </td>\n      <td id=\"T_e033c_row13_col4\" class=\"data row13 col4\" >$ 1,900,000.00</td>\n    </tr>\n    <tr>\n      <td id=\"T_e033c_row14_col0\" class=\"data row14 col0\" >Funded</td>\n      <td id=\"T_e033c_row14_col1\" class=\"data row14 col1\" >Santa Cruz, City of</td>\n      <td id=\"T_e033c_row14_col2\" class=\"data row14 col2\" >Santa Cruz Rail Trail Segment 7 Phase 2 Construction</td>\n      <td id=\"T_e033c_row14_col3\" class=\"data row14 col3\" >Santa Cruz</td>\n      <td id=\"T_e033c_row14_col4\" class=\"data row14 col4\" >$ 12,030,000.00</td>\n    </tr>\n    <tr>\n      <td id=\"T_e033c_row15_col0\" class=\"data row15 col0\" >Funded</td>\n      <td id=\"T_e033c_row15_col1\" class=\"data row15 col1\" >Sacramento County</td>\n      <td id=\"T_e033c_row15_col2\" class=\"data row15 col2\" >South Sacramento County Safe Routes to School Project </td>\n      <td id=\"T_e033c_row15_col3\" class=\"data row15 col3\" >Sacramento</td>\n      <td id=\"T_e033c_row15_col4\" class=\"data row15 col4\" >$ 1,946,000.00</td>\n    </tr>\n    <tr>\n      <td id=\"T_e033c_row16_col0\" class=\"data row16 col0\" >Funded</td>\n      <td id=\"T_e033c_row16_col1\" class=\"data row16 col1\" >Fresno County</td>\n      <td id=\"T_e033c_row16_col2\" class=\"data row16 col2\" >Biola Community Sidewalks</td>\n      <td id=\"T_e033c_row16_col3\" class=\"data row16 col3\" >Fresno</td>\n      <td id=\"T_e033c_row16_col4\" class=\"data row16 col4\" >$ 1,498,000.00</td>\n    </tr>\n    <tr>\n      <td id=\"T_e033c_row17_col0\" class=\"data row17 col0\" >Funded</td>\n      <td id=\"T_e033c_row17_col1\" class=\"data row17 col1\" >Seaside, City of</td>\n      <td id=\"T_e033c_row17_col2\" class=\"data row17 col2\" >Broadway Ave Complete Street Corridor</td>\n      <td id=\"T_e033c_row17_col3\" class=\"data row17 col3\" >Monterey</td>\n      <td id=\"T_e033c_row17_col4\" class=\"data row17 col4\" >$ 14,001,000.00</td>\n    </tr>\n    <tr>\n      <td id=\"T_e033c_row18_col0\" class=\"data row18 col0\" >Funded</td>\n      <td id=\"T_e033c_row18_col1\" class=\"data row18 col1\" >Imperial Beach, City of</td>\n      <td id=\"T_e033c_row18_col2\" class=\"data row18 col2\" >9th St Active Transportation Corridor</td>\n      <td id=\"T_e033c_row18_col3\" class=\"data row18 col3\" >San Diego</td>\n      <td id=\"T_e033c_row18_col4\" class=\"data row18 col4\" >$ 3,354,000.00</td>\n    </tr>\n    <tr>\n      <td id=\"T_e033c_row19_col0\" class=\"data row19 col0\" >Funded</td>\n      <td id=\"T_e033c_row19_col1\" class=\"data row19 col1\" >Sacramento, City of</td>\n      <td id=\"T_e033c_row19_col2\" class=\"data row19 col2\" >Franklin Boulevard Complete Street Project</td>\n      <td id=\"T_e033c_row19_col3\" class=\"data row19 col3\" >Sacramento</td>\n      <td id=\"T_e033c_row19_col4\" class=\"data row19 col4\" >$ 16,265,000.00</td>\n    </tr>\n    <tr>\n      <td id=\"T_e033c_row20_col0\" class=\"data row20 col0\" >Funded</td>\n      <td id=\"T_e033c_row20_col1\" class=\"data row20 col1\" >Maywood, City of</td>\n      <td id=\"T_e033c_row20_col2\" class=\"data row20 col2\" >City of Maywood Active Transportation Plan</td>\n      <td id=\"T_e033c_row20_col3\" class=\"data row20 col3\" >Los Angeles</td>\n      <td id=\"T_e033c_row20_col4\" class=\"data row20 col4\" >$ 263,000.00</td>\n    </tr>\n    <tr>\n      <td id=\"T_e033c_row21_col0\" class=\"data row21 col0\" >Funded</td>\n      <td id=\"T_e033c_row21_col1\" class=\"data row21 col1\" >Watsonville, City of</td>\n      <td id=\"T_e033c_row21_col2\" class=\"data row21 col2\" >Safer Access to Pajaro Valley High School and Beyond</td>\n      <td id=\"T_e033c_row21_col3\" class=\"data row21 col3\" >Santa Cruz</td>\n      <td id=\"T_e033c_row21_col4\" class=\"data row21 col4\" >$ 15,823,000.00</td>\n    </tr>\n    <tr>\n      <td id=\"T_e033c_row22_col0\" class=\"data row22 col0\" >Funded</td>\n      <td id=\"T_e033c_row22_col1\" class=\"data row22 col1\" >Redding, City of</td>\n      <td id=\"T_e033c_row22_col2\" class=\"data row22 col2\" >Victor Ave & Cypress Ave Active Transportation (VCAT) Project</td>\n      <td id=\"T_e033c_row22_col3\" class=\"data row22 col3\" >Shasta</td>\n      <td id=\"T_e033c_row22_col4\" class=\"data row22 col4\" >$ 10,409,000.00</td>\n    </tr>\n    <tr>\n      <td id=\"T_e033c_row23_col0\" class=\"data row23 col0\" >Funded</td>\n      <td id=\"T_e033c_row23_col1\" class=\"data row23 col1\" >National City, City of</td>\n      <td id=\"T_e033c_row23_col2\" class=\"data row23 col2\" >Highland Avenue Inter-City Bike Connection</td>\n      <td id=\"T_e033c_row23_col3\" class=\"data row23 col3\" >San Diego</td>\n      <td id=\"T_e033c_row23_col4\" class=\"data row23 col4\" >$ 1,897,000.00</td>\n    </tr>\n    <tr>\n      <td id=\"T_e033c_row24_col0\" class=\"data row24 col0\" >Funded</td>\n      <td id=\"T_e033c_row24_col1\" class=\"data row24 col1\" >Santa Monica, City of</td>\n      <td id=\"T_e033c_row24_col2\" class=\"data row24 col2\" >Stewart-Pennsylvania Safety Enhancement Project</td>\n      <td id=\"T_e033c_row24_col3\" class=\"data row24 col3\" >Los Angeles</td>\n      <td id=\"T_e033c_row24_col4\" class=\"data row24 col4\" >$ 4,000,000.00</td>\n    </tr>\n    <tr>\n      <td id=\"T_e033c_row25_col0\" class=\"data row25 col0\" >Funded</td>\n      <td id=\"T_e033c_row25_col1\" class=\"data row25 col1\" >Oceanside, City of</td>\n      <td id=\"T_e033c_row25_col2\" class=\"data row25 col2\" >Laurel Elementary Safe Routes to School</td>\n      <td id=\"T_e033c_row25_col3\" class=\"data row25 col3\" >San Diego</td>\n      <td id=\"T_e033c_row25_col4\" class=\"data row25 col4\" >$ 1,535,000.00</td>\n    </tr>\n    <tr>\n      <td id=\"T_e033c_row26_col0\" class=\"data row26 col0\" >Funded</td>\n      <td id=\"T_e033c_row26_col1\" class=\"data row26 col1\" >Delano, City of</td>\n      <td id=\"T_e033c_row26_col2\" class=\"data row26 col2\" >ATP-5 SRTS Intersection Enhancement and NI Work Plan</td>\n      <td id=\"T_e033c_row26_col3\" class=\"data row26 col3\" >Kern</td>\n      <td id=\"T_e033c_row26_col4\" class=\"data row26 col4\" >$ 1,178,000.00</td>\n    </tr>\n    <tr>\n      <td id=\"T_e033c_row27_col0\" class=\"data row27 col0\" >Funded</td>\n      <td id=\"T_e033c_row27_col1\" class=\"data row27 col1\" >San Diego Association of Governments (SANDAG)</td>\n      <td id=\"T_e033c_row27_col2\" class=\"data row27 col2\" >Orange Family Friendly Street Project</td>\n      <td id=\"T_e033c_row27_col3\" class=\"data row27 col3\" >San Diego</td>\n      <td id=\"T_e033c_row27_col4\" class=\"data row27 col4\" >$ 5,660,000.00</td>\n    </tr>\n    <tr>\n      <td id=\"T_e033c_row28_col0\" class=\"data row28 col0\" >Funded</td>\n      <td id=\"T_e033c_row28_col1\" class=\"data row28 col1\" >West Sacramento, City of</td>\n      <td id=\"T_e033c_row28_col2\" class=\"data row28 col2\" >Sycamore Trail (Phase 2) Bicycle/Pedestrian Overcrossing</td>\n      <td id=\"T_e033c_row28_col3\" class=\"data row28 col3\" >Yolo</td>\n      <td id=\"T_e033c_row28_col4\" class=\"data row28 col4\" >$ 11,538,000.00</td>\n    </tr>\n    <tr>\n      <td id=\"T_e033c_row29_col0\" class=\"data row29 col0\" >Funded</td>\n      <td id=\"T_e033c_row29_col1\" class=\"data row29 col1\" >Fresno, City of</td>\n      <td id=\"T_e033c_row29_col2\" class=\"data row29 col2\" >Kids Crossing: Safe Routes to School in South Fresno</td>\n      <td id=\"T_e033c_row29_col3\" class=\"data row29 col3\" >Fresno</td>\n      <td id=\"T_e033c_row29_col4\" class=\"data row29 col4\" >$ 1,636,000.00</td>\n    </tr>\n    <tr>\n      <td id=\"T_e033c_row30_col0\" class=\"data row30 col0\" >Funded</td>\n      <td id=\"T_e033c_row30_col1\" class=\"data row30 col1\" >Santa Barbara, City of</td>\n      <td id=\"T_e033c_row30_col2\" class=\"data row30 col2\" >Upper De La Vina Street Gap Closure and Safe Crossings </td>\n      <td id=\"T_e033c_row30_col3\" class=\"data row30 col3\" >Santa Barbara</td>\n      <td id=\"T_e033c_row30_col4\" class=\"data row30 col4\" >$ 1,998,000.00</td>\n    </tr>\n    <tr>\n      <td id=\"T_e033c_row31_col0\" class=\"data row31 col0\" >Funded</td>\n      <td id=\"T_e033c_row31_col1\" class=\"data row31 col1\" >Contra Costa County</td>\n      <td id=\"T_e033c_row31_col2\" class=\"data row31 col2\" >North Bailey Road Active Transportation Corridor</td>\n      <td id=\"T_e033c_row31_col3\" class=\"data row31 col3\" >Contra Costa</td>\n      <td id=\"T_e033c_row31_col4\" class=\"data row31 col4\" >$ 6,845,000.00</td>\n    </tr>\n    <tr>\n      <td id=\"T_e033c_row32_col0\" class=\"data row32 col0\" >Funded</td>\n      <td id=\"T_e033c_row32_col1\" class=\"data row32 col1\" >Mariposa County</td>\n      <td id=\"T_e033c_row32_col2\" class=\"data row32 col2\" >Mariposa Creek Parkway</td>\n      <td id=\"T_e033c_row32_col3\" class=\"data row32 col3\" >Mariposa</td>\n      <td id=\"T_e033c_row32_col4\" class=\"data row32 col4\" >$ 5,176,000.00</td>\n    </tr>\n    <tr>\n      <td id=\"T_e033c_row33_col0\" class=\"data row33 col0\" >Funded</td>\n      <td id=\"T_e033c_row33_col1\" class=\"data row33 col1\" >Riverside County</td>\n      <td id=\"T_e033c_row33_col2\" class=\"data row33 col2\" >Riverside County Safe Routes for All - San Jacinto</td>\n      <td id=\"T_e033c_row33_col3\" class=\"data row33 col3\" >Riverside</td>\n      <td id=\"T_e033c_row33_col4\" class=\"data row33 col4\" >$ 600,000.00</td>\n    </tr>\n    <tr>\n      <td id=\"T_e033c_row34_col0\" class=\"data row34 col0\" >Funded</td>\n      <td id=\"T_e033c_row34_col1\" class=\"data row34 col1\" >Long Beach, City of</td>\n      <td id=\"T_e033c_row34_col2\" class=\"data row34 col2\" >Pacific Avenue Cycle Track</td>\n      <td id=\"T_e033c_row34_col3\" class=\"data row34 col3\" >Los Angeles</td>\n      <td id=\"T_e033c_row34_col4\" class=\"data row34 col4\" >$ 8,332,000.00</td>\n    </tr>\n    <tr>\n      <td id=\"T_e033c_row35_col0\" class=\"data row35 col0\" >Funded</td>\n      <td id=\"T_e033c_row35_col1\" class=\"data row35 col1\" >Perris, City of</td>\n      <td id=\"T_e033c_row35_col2\" class=\"data row35 col2\" >City of Perris Bike and Pedestrian Network Project </td>\n      <td id=\"T_e033c_row35_col3\" class=\"data row35 col3\" >Riverside</td>\n      <td id=\"T_e033c_row35_col4\" class=\"data row35 col4\" >$ 1,999,000.00</td>\n    </tr>\n    <tr>\n      <td id=\"T_e033c_row36_col0\" class=\"data row36 col0\" >Funded</td>\n      <td id=\"T_e033c_row36_col1\" class=\"data row36 col1\" >Porterville, City of</td>\n      <td id=\"T_e033c_row36_col2\" class=\"data row36 col2\" >Butterfield Stage Corridor (W North Grand Ave to College Ave)</td>\n      <td id=\"T_e033c_row36_col3\" class=\"data row36 col3\" >Tulare</td>\n      <td id=\"T_e033c_row36_col4\" class=\"data row36 col4\" >$ 7,750,000.00</td>\n    </tr>\n    <tr>\n      <td id=\"T_e033c_row37_col0\" class=\"data row37 col0\" >Funded</td>\n      <td id=\"T_e033c_row37_col1\" class=\"data row37 col1\" >Ontario, City of</td>\n      <td id=\"T_e033c_row37_col2\" class=\"data row37 col2\" >Vine Ave & B St Bike Boulevard Project</td>\n      <td id=\"T_e033c_row37_col3\" class=\"data row37 col3\" >San Bernardino</td>\n      <td id=\"T_e033c_row37_col4\" class=\"data row37 col4\" >$ 4,881,000.00</td>\n    </tr>\n    <tr>\n      <td id=\"T_e033c_row38_col0\" class=\"data row38 col0\" >Funded</td>\n      <td id=\"T_e033c_row38_col1\" class=\"data row38 col1\" >Fairfield, City of</td>\n      <td id=\"T_e033c_row38_col2\" class=\"data row38 col2\" >West Texas Street Complete Streets Project</td>\n      <td id=\"T_e033c_row38_col3\" class=\"data row38 col3\" >Solano</td>\n      <td id=\"T_e033c_row38_col4\" class=\"data row38 col4\" >$ 16,922,000.00</td>\n    </tr>\n    <tr>\n      <td id=\"T_e033c_row39_col0\" class=\"data row39 col0\" >Funded</td>\n      <td id=\"T_e033c_row39_col1\" class=\"data row39 col1\" >South El Monte, City of</td>\n      <td id=\"T_e033c_row39_col2\" class=\"data row39 col2\" >South El Monte Safe Routes to School Pedestrian Safety Project</td>\n      <td id=\"T_e033c_row39_col3\" class=\"data row39 col3\" >Los Angeles</td>\n      <td id=\"T_e033c_row39_col4\" class=\"data row39 col4\" >$ 1,637,000.00</td>\n    </tr>\n    <tr>\n      <td id=\"T_e033c_row40_col0\" class=\"data row40 col0\" >Funded</td>\n      <td id=\"T_e033c_row40_col1\" class=\"data row40 col1\" >Los Angeles, City of</td>\n      <td id=\"T_e033c_row40_col2\" class=\"data row40 col2\" >Connecting Canoga Park Through Safety and Urban Cooling Improvements</td>\n      <td id=\"T_e033c_row40_col3\" class=\"data row40 col3\" >Los Angeles</td>\n      <td id=\"T_e033c_row40_col4\" class=\"data row40 col4\" >$ 38,655,000.00</td>\n    </tr>\n    <tr>\n      <td id=\"T_e033c_row41_col0\" class=\"data row41 col0\" >Funded</td>\n      <td id=\"T_e033c_row41_col1\" class=\"data row41 col1\" >San Luis Obispo County</td>\n      <td id=\"T_e033c_row41_col2\" class=\"data row41 col2\" >San Luis Obispo County-Bob Jones Trail Gap Closure</td>\n      <td id=\"T_e033c_row41_col3\" class=\"data row41 col3\" >San Luis Obispo</td>\n      <td id=\"T_e033c_row41_col4\" class=\"data row41 col4\" >$ 23,414,000.00</td>\n    </tr>\n    <tr>\n      <td id=\"T_e033c_row42_col0\" class=\"data row42 col0\" >Funded</td>\n      <td id=\"T_e033c_row42_col1\" class=\"data row42 col1\" >Los Angeles, City of</td>\n      <td id=\"T_e033c_row42_col2\" class=\"data row42 col2\" >SRTS Carver Middle, Ascot Avenue and Harmony Elementary Schools Project</td>\n      <td id=\"T_e033c_row42_col3\" class=\"data row42 col3\" >Los Angeles</td>\n      <td id=\"T_e033c_row42_col4\" class=\"data row42 col4\" >$ 6,700,000.00</td>\n    </tr>\n    <tr>\n      <td id=\"T_e033c_row43_col0\" class=\"data row43 col0\" >Funded</td>\n      <td id=\"T_e033c_row43_col1\" class=\"data row43 col1\" >Los Angeles, City of</td>\n      <td id=\"T_e033c_row43_col2\" class=\"data row43 col2\" >SRTS Berendo Middle and 3 Feeder Elementary Schools Safety Project </td>\n      <td id=\"T_e033c_row43_col3\" class=\"data row43 col3\" >Los Angeles</td>\n      <td id=\"T_e033c_row43_col4\" class=\"data row43 col4\" >$ 11,057,000.00</td>\n    </tr>\n    <tr>\n      <td id=\"T_e033c_row44_col0\" class=\"data row44 col0\" >Funded</td>\n      <td id=\"T_e033c_row44_col1\" class=\"data row44 col1\" >Los Angeles, City of</td>\n      <td id=\"T_e033c_row44_col2\" class=\"data row44 col2\" >SRTS Panorama City Elementary School Project </td>\n      <td id=\"T_e033c_row44_col3\" class=\"data row44 col3\" >Los Angeles</td>\n      <td id=\"T_e033c_row44_col4\" class=\"data row44 col4\" >$ 6,832,000.00</td>\n    </tr>\n    <tr>\n      <td id=\"T_e033c_row45_col0\" class=\"data row45 col0\" >Funded</td>\n      <td id=\"T_e033c_row45_col1\" class=\"data row45 col1\" >Huron, City of</td>\n      <td id=\"T_e033c_row45_col2\" class=\"data row45 col2\" >City of Huron Bicyclist and Pedestrian Safety Improvement Project</td>\n      <td id=\"T_e033c_row45_col3\" class=\"data row45 col3\" >Fresno</td>\n      <td id=\"T_e033c_row45_col4\" class=\"data row45 col4\" >$ 1,969,000.00</td>\n    </tr>\n    <tr>\n      <td id=\"T_e033c_row46_col0\" class=\"data row46 col0\" >Funded</td>\n      <td id=\"T_e033c_row46_col1\" class=\"data row46 col1\" >Tuolumne County</td>\n      <td id=\"T_e033c_row46_col2\" class=\"data row46 col2\" >Jamestown Community Connectivity Project</td>\n      <td id=\"T_e033c_row46_col3\" class=\"data row46 col3\" >Tuolumne</td>\n      <td id=\"T_e033c_row46_col4\" class=\"data row46 col4\" >$ 2,300,000.00</td>\n    </tr>\n    <tr>\n      <td id=\"T_e033c_row47_col0\" class=\"data row47 col0\" >Funded</td>\n      <td id=\"T_e033c_row47_col1\" class=\"data row47 col1\" >Long Beach, City of</td>\n      <td id=\"T_e033c_row47_col2\" class=\"data row47 col2\" >Downtown Long Beach Walkable Corners</td>\n      <td id=\"T_e033c_row47_col3\" class=\"data row47 col3\" >Los Angeles</td>\n      <td id=\"T_e033c_row47_col4\" class=\"data row47 col4\" >$ 8,771,000.00</td>\n    </tr>\n    <tr>\n      <td id=\"T_e033c_row48_col0\" class=\"data row48 col0\" >Funded</td>\n      <td id=\"T_e033c_row48_col1\" class=\"data row48 col1\" >Ventura County</td>\n      <td id=\"T_e033c_row48_col2\" class=\"data row48 col2\" >El Rio Pedestrian Improvement and Safe Route to School Project</td>\n      <td id=\"T_e033c_row48_col3\" class=\"data row48 col3\" >Ventura</td>\n      <td id=\"T_e033c_row48_col4\" class=\"data row48 col4\" >$ 6,960,000.00</td>\n    </tr>\n  </tbody>\n</table>\n"
      }
     },
     "99074e27a8514883b48d0339a3da2512": {
      "model_module": "@jupyter-widgets/base",
      "model_module_version": "1.2.0",
      "model_name": "LayoutModel",
      "state": {}
     },
     "a5bf365ba5c1483d906275a059df332b": {
      "model_module": "@jupyter-widgets/base",
      "model_module_version": "1.2.0",
      "model_name": "LayoutModel",
      "state": {}
     },
     "aebc573f76fc42db94b6a63a2dec5131": {
      "model_module": "@jupyter-widgets/controls",
      "model_module_version": "1.5.0",
      "model_name": "HTMLModel",
      "state": {
       "layout": "IPY_MODEL_4b071995d5e04769a0a09a3348d82da8",
       "style": "IPY_MODEL_762e6d10a18145a6a3fb9f2322f9c318",
       "value": "There are <strong>296</strong> implenting agencies with <strong> zero </strong>successful applications."
      }
     },
     "ba3f8ec48b684051a8d36af7643f8027": {
      "model_module": "@jupyter-widgets/base",
      "model_module_version": "1.2.0",
      "model_name": "LayoutModel",
      "state": {}
     },
     "becb8c40ea7242d082e92b63e9156df3": {
      "model_module": "@jupyter-widgets/controls",
      "model_module_version": "1.5.0",
      "model_name": "HTMLModel",
      "state": {
       "layout": "IPY_MODEL_1383586c38124a0cb6cfec55ac379fcc",
       "style": "IPY_MODEL_f1ce6ebcd6534c53b091cd2895cb29a2",
       "value": "<style type=\"text/css\">\n#T_e4dac th {\n  text-align: center;\n}\n#T_e4dac_row0_col0, #T_e4dac_row1_col0 {\n  text-align: center;\n}\n#T_e4dac_row0_col1, #T_e4dac_row1_col1 {\n  text-align: center;\n  text-align: right;\n}\n</style>\n<table id=\"T_e4dac\">\n  <thead>\n    <tr>\n      <th id=\"T_e4dac_level0_col0\" class=\"col_heading level0 col0\" >Data Origin</th>\n      <th id=\"T_e4dac_level0_col1\" class=\"col_heading level0 col1\" >Count</th>\n    </tr>\n  </thead>\n  <tbody>\n    <tr>\n      <td id=\"T_e4dac_row0_col0\" class=\"data row0 col0\" >Application</td>\n      <td id=\"T_e4dac_row0_col1\" class=\"data row0 col1\" >835</td>\n    </tr>\n    <tr>\n      <td id=\"T_e4dac_row1_col0\" class=\"data row1 col0\" >Funded</td>\n      <td id=\"T_e4dac_row1_col1\" class=\"data row1 col1\" >49</td>\n    </tr>\n  </tbody>\n</table>\n"
      }
     },
     "bf37cf150514496bb04b11ff68609744": {
      "model_module": "@jupyter-widgets/base",
      "model_module_version": "1.2.0",
      "model_name": "LayoutModel",
      "state": {}
     },
     "c80d10930d2949d7ae876d69c5956ff1": {
      "model_module": "@jupyter-widgets/base",
      "model_module_version": "1.2.0",
      "model_name": "LayoutModel",
      "state": {}
     },
     "cfe9f8a874c049e5a38f610d292b57d2": {
      "model_module": "@jupyter-widgets/controls",
      "model_module_version": "1.5.0",
      "model_name": "HTMLModel",
      "state": {
       "layout": "IPY_MODEL_ba3f8ec48b684051a8d36af7643f8027",
       "style": "IPY_MODEL_18af3acd498e4fa4ad342db4b4f536fe",
       "value": "<style type=\"text/css\">\n#T_f5bef th {\n  text-align: center;\n}\n#T_f5bef_row0_col0, #T_f5bef_row0_col1, #T_f5bef_row0_col2, #T_f5bef_row1_col0, #T_f5bef_row1_col1, #T_f5bef_row1_col2, #T_f5bef_row2_col0, #T_f5bef_row2_col1, #T_f5bef_row2_col2, #T_f5bef_row3_col0, #T_f5bef_row3_col1, #T_f5bef_row3_col2, #T_f5bef_row4_col0, #T_f5bef_row4_col1, #T_f5bef_row4_col2, #T_f5bef_row5_col0, #T_f5bef_row5_col1, #T_f5bef_row5_col2, #T_f5bef_row6_col0, #T_f5bef_row6_col1, #T_f5bef_row6_col2, #T_f5bef_row7_col0, #T_f5bef_row7_col1, #T_f5bef_row7_col2, #T_f5bef_row8_col0, #T_f5bef_row8_col1, #T_f5bef_row8_col2, #T_f5bef_row9_col0, #T_f5bef_row9_col1, #T_f5bef_row9_col2, #T_f5bef_row10_col0, #T_f5bef_row10_col1, #T_f5bef_row10_col2, #T_f5bef_row11_col0, #T_f5bef_row11_col1, #T_f5bef_row11_col2, #T_f5bef_row12_col0, #T_f5bef_row12_col1, #T_f5bef_row12_col2, #T_f5bef_row13_col0, #T_f5bef_row13_col1, #T_f5bef_row13_col2, #T_f5bef_row14_col0, #T_f5bef_row14_col1, #T_f5bef_row14_col2, #T_f5bef_row15_col0, #T_f5bef_row15_col1, #T_f5bef_row15_col2, #T_f5bef_row16_col0, #T_f5bef_row16_col1, #T_f5bef_row16_col2, #T_f5bef_row17_col0, #T_f5bef_row17_col1, #T_f5bef_row17_col2, #T_f5bef_row18_col0, #T_f5bef_row18_col1, #T_f5bef_row18_col2, #T_f5bef_row19_col0, #T_f5bef_row19_col1, #T_f5bef_row19_col2, #T_f5bef_row20_col0, #T_f5bef_row20_col1, #T_f5bef_row20_col2, #T_f5bef_row21_col0, #T_f5bef_row21_col1, #T_f5bef_row21_col2, #T_f5bef_row22_col0, #T_f5bef_row22_col1, #T_f5bef_row22_col2, #T_f5bef_row23_col0, #T_f5bef_row23_col1, #T_f5bef_row23_col2, #T_f5bef_row24_col0, #T_f5bef_row24_col1, #T_f5bef_row24_col2, #T_f5bef_row25_col0, #T_f5bef_row25_col1, #T_f5bef_row25_col2, #T_f5bef_row26_col0, #T_f5bef_row26_col1, #T_f5bef_row26_col2, #T_f5bef_row27_col0, #T_f5bef_row27_col1, #T_f5bef_row27_col2, #T_f5bef_row28_col0, #T_f5bef_row28_col1, #T_f5bef_row28_col2, #T_f5bef_row29_col0, #T_f5bef_row29_col1, #T_f5bef_row29_col2, #T_f5bef_row30_col0, #T_f5bef_row30_col1, #T_f5bef_row30_col2, #T_f5bef_row31_col0, #T_f5bef_row31_col1, #T_f5bef_row31_col2, #T_f5bef_row32_col0, #T_f5bef_row32_col1, #T_f5bef_row32_col2, #T_f5bef_row33_col0, #T_f5bef_row33_col1, #T_f5bef_row33_col2, #T_f5bef_row34_col0, #T_f5bef_row34_col1, #T_f5bef_row34_col2, #T_f5bef_row35_col0, #T_f5bef_row35_col1, #T_f5bef_row35_col2, #T_f5bef_row36_col0, #T_f5bef_row36_col1, #T_f5bef_row36_col2, #T_f5bef_row37_col0, #T_f5bef_row37_col1, #T_f5bef_row37_col2, #T_f5bef_row38_col0, #T_f5bef_row38_col1, #T_f5bef_row38_col2, #T_f5bef_row39_col0, #T_f5bef_row39_col1, #T_f5bef_row39_col2, #T_f5bef_row40_col0, #T_f5bef_row40_col1, #T_f5bef_row40_col2, #T_f5bef_row41_col0, #T_f5bef_row41_col1, #T_f5bef_row41_col2 {\n  text-align: center;\n}\n</style>\n<table id=\"T_f5bef\">\n  <thead>\n    <tr>\n      <th id=\"T_f5bef_level0_col0\" class=\"col_heading level0 col0\" >Implementing Agency</th>\n      <th id=\"T_f5bef_level0_col1\" class=\"col_heading level0 col1\" >Total Applications</th>\n      <th id=\"T_f5bef_level0_col2\" class=\"col_heading level0 col2\" >Success Rate</th>\n    </tr>\n  </thead>\n  <tbody>\n    <tr>\n      <td id=\"T_f5bef_row0_col0\" class=\"data row0 col0\" >City of Los Angeles</td>\n      <td id=\"T_f5bef_row0_col1\" class=\"data row0 col1\" >21</td>\n      <td id=\"T_f5bef_row0_col2\" class=\"data row0 col2\" >19.05%</td>\n    </tr>\n    <tr>\n      <td id=\"T_f5bef_row1_col0\" class=\"data row1 col0\" >City of Long Beach</td>\n      <td id=\"T_f5bef_row1_col1\" class=\"data row1 col1\" >5</td>\n      <td id=\"T_f5bef_row1_col2\" class=\"data row1 col2\" >40.00%</td>\n    </tr>\n    <tr>\n      <td id=\"T_f5bef_row2_col0\" class=\"data row2 col0\" >City of Oakland</td>\n      <td id=\"T_f5bef_row2_col1\" class=\"data row2 col1\" >8</td>\n      <td id=\"T_f5bef_row2_col2\" class=\"data row2 col2\" >25.00%</td>\n    </tr>\n    <tr>\n      <td id=\"T_f5bef_row3_col0\" class=\"data row3 col0\" >City of Redding</td>\n      <td id=\"T_f5bef_row3_col1\" class=\"data row3 col1\" >6</td>\n      <td id=\"T_f5bef_row3_col2\" class=\"data row3 col2\" >33.33%</td>\n    </tr>\n    <tr>\n      <td id=\"T_f5bef_row4_col0\" class=\"data row4 col0\" >Mariposa County</td>\n      <td id=\"T_f5bef_row4_col1\" class=\"data row4 col1\" >2</td>\n      <td id=\"T_f5bef_row4_col2\" class=\"data row4 col2\" >100.00%</td>\n    </tr>\n    <tr>\n      <td id=\"T_f5bef_row5_col0\" class=\"data row5 col0\" >City of Arcata</td>\n      <td id=\"T_f5bef_row5_col1\" class=\"data row5 col1\" >1</td>\n      <td id=\"T_f5bef_row5_col2\" class=\"data row5 col2\" >100.00%</td>\n    </tr>\n    <tr>\n      <td id=\"T_f5bef_row6_col0\" class=\"data row6 col0\" >City of Bell Gardens</td>\n      <td id=\"T_f5bef_row6_col1\" class=\"data row6 col1\" >2</td>\n      <td id=\"T_f5bef_row6_col2\" class=\"data row6 col2\" >50.00%</td>\n    </tr>\n    <tr>\n      <td id=\"T_f5bef_row7_col0\" class=\"data row7 col0\" >City of Clearlake</td>\n      <td id=\"T_f5bef_row7_col1\" class=\"data row7 col1\" >1</td>\n      <td id=\"T_f5bef_row7_col2\" class=\"data row7 col2\" >100.00%</td>\n    </tr>\n    <tr>\n      <td id=\"T_f5bef_row8_col0\" class=\"data row8 col0\" >City of Corcoran</td>\n      <td id=\"T_f5bef_row8_col1\" class=\"data row8 col1\" >2</td>\n      <td id=\"T_f5bef_row8_col2\" class=\"data row8 col2\" >50.00%</td>\n    </tr>\n    <tr>\n      <td id=\"T_f5bef_row9_col0\" class=\"data row9 col0\" >City of Delano</td>\n      <td id=\"T_f5bef_row9_col1\" class=\"data row9 col1\" >3</td>\n      <td id=\"T_f5bef_row9_col2\" class=\"data row9 col2\" >33.33%</td>\n    </tr>\n    <tr>\n      <td id=\"T_f5bef_row10_col0\" class=\"data row10 col0\" >City of Fairfield</td>\n      <td id=\"T_f5bef_row10_col1\" class=\"data row10 col1\" >2</td>\n      <td id=\"T_f5bef_row10_col2\" class=\"data row10 col2\" >50.00%</td>\n    </tr>\n    <tr>\n      <td id=\"T_f5bef_row11_col0\" class=\"data row11 col0\" >City of Fresno</td>\n      <td id=\"T_f5bef_row11_col1\" class=\"data row11 col1\" >8</td>\n      <td id=\"T_f5bef_row11_col2\" class=\"data row11 col2\" >12.50%</td>\n    </tr>\n    <tr>\n      <td id=\"T_f5bef_row12_col0\" class=\"data row12 col0\" >City of Huron</td>\n      <td id=\"T_f5bef_row12_col1\" class=\"data row12 col1\" >2</td>\n      <td id=\"T_f5bef_row12_col2\" class=\"data row12 col2\" >50.00%</td>\n    </tr>\n    <tr>\n      <td id=\"T_f5bef_row13_col0\" class=\"data row13 col0\" >City of Imperial Beach</td>\n      <td id=\"T_f5bef_row13_col1\" class=\"data row13 col1\" >2</td>\n      <td id=\"T_f5bef_row13_col2\" class=\"data row13 col2\" >50.00%</td>\n    </tr>\n    <tr>\n      <td id=\"T_f5bef_row14_col0\" class=\"data row14 col0\" >City of Maywood</td>\n      <td id=\"T_f5bef_row14_col1\" class=\"data row14 col1\" >2</td>\n      <td id=\"T_f5bef_row14_col2\" class=\"data row14 col2\" >50.00%</td>\n    </tr>\n    <tr>\n      <td id=\"T_f5bef_row15_col0\" class=\"data row15 col0\" >City of National City</td>\n      <td id=\"T_f5bef_row15_col1\" class=\"data row15 col1\" >6</td>\n      <td id=\"T_f5bef_row15_col2\" class=\"data row15 col2\" >16.67%</td>\n    </tr>\n    <tr>\n      <td id=\"T_f5bef_row16_col0\" class=\"data row16 col0\" >City of Oceanside</td>\n      <td id=\"T_f5bef_row16_col1\" class=\"data row16 col1\" >4</td>\n      <td id=\"T_f5bef_row16_col2\" class=\"data row16 col2\" >25.00%</td>\n    </tr>\n    <tr>\n      <td id=\"T_f5bef_row17_col0\" class=\"data row17 col0\" >City of Ontario</td>\n      <td id=\"T_f5bef_row17_col1\" class=\"data row17 col1\" >4</td>\n      <td id=\"T_f5bef_row17_col2\" class=\"data row17 col2\" >25.00%</td>\n    </tr>\n    <tr>\n      <td id=\"T_f5bef_row18_col0\" class=\"data row18 col0\" >City of Perris</td>\n      <td id=\"T_f5bef_row18_col1\" class=\"data row18 col1\" >1</td>\n      <td id=\"T_f5bef_row18_col2\" class=\"data row18 col2\" >100.00%</td>\n    </tr>\n    <tr>\n      <td id=\"T_f5bef_row19_col0\" class=\"data row19 col0\" >City of Porterville</td>\n      <td id=\"T_f5bef_row19_col1\" class=\"data row19 col1\" >6</td>\n      <td id=\"T_f5bef_row19_col2\" class=\"data row19 col2\" >16.67%</td>\n    </tr>\n    <tr>\n      <td id=\"T_f5bef_row20_col0\" class=\"data row20 col0\" >City of Sacramento</td>\n      <td id=\"T_f5bef_row20_col1\" class=\"data row20 col1\" >3</td>\n      <td id=\"T_f5bef_row20_col2\" class=\"data row20 col2\" >33.33%</td>\n    </tr>\n    <tr>\n      <td id=\"T_f5bef_row21_col0\" class=\"data row21 col0\" >City of Santa Barbara</td>\n      <td id=\"T_f5bef_row21_col1\" class=\"data row21 col1\" >7</td>\n      <td id=\"T_f5bef_row21_col2\" class=\"data row21 col2\" >14.29%</td>\n    </tr>\n    <tr>\n      <td id=\"T_f5bef_row22_col0\" class=\"data row22 col0\" >City of Santa Cruz</td>\n      <td id=\"T_f5bef_row22_col1\" class=\"data row22 col1\" >5</td>\n      <td id=\"T_f5bef_row22_col2\" class=\"data row22 col2\" >20.00%</td>\n    </tr>\n    <tr>\n      <td id=\"T_f5bef_row23_col0\" class=\"data row23 col0\" >City of Santa Monica</td>\n      <td id=\"T_f5bef_row23_col1\" class=\"data row23 col1\" >3</td>\n      <td id=\"T_f5bef_row23_col2\" class=\"data row23 col2\" >33.33%</td>\n    </tr>\n    <tr>\n      <td id=\"T_f5bef_row24_col0\" class=\"data row24 col0\" >City of Seaside</td>\n      <td id=\"T_f5bef_row24_col1\" class=\"data row24 col1\" >1</td>\n      <td id=\"T_f5bef_row24_col2\" class=\"data row24 col2\" >100.00%</td>\n    </tr>\n    <tr>\n      <td id=\"T_f5bef_row25_col0\" class=\"data row25 col0\" >City of South El Monte</td>\n      <td id=\"T_f5bef_row25_col1\" class=\"data row25 col1\" >2</td>\n      <td id=\"T_f5bef_row25_col2\" class=\"data row25 col2\" >50.00%</td>\n    </tr>\n    <tr>\n      <td id=\"T_f5bef_row26_col0\" class=\"data row26 col0\" >City of Watsonville</td>\n      <td id=\"T_f5bef_row26_col1\" class=\"data row26 col1\" >2</td>\n      <td id=\"T_f5bef_row26_col2\" class=\"data row26 col2\" >50.00%</td>\n    </tr>\n    <tr>\n      <td id=\"T_f5bef_row27_col0\" class=\"data row27 col0\" >City of West Sacramento</td>\n      <td id=\"T_f5bef_row27_col1\" class=\"data row27 col1\" >3</td>\n      <td id=\"T_f5bef_row27_col2\" class=\"data row27 col2\" >33.33%</td>\n    </tr>\n    <tr>\n      <td id=\"T_f5bef_row28_col0\" class=\"data row28 col0\" >Contra Costa County</td>\n      <td id=\"T_f5bef_row28_col1\" class=\"data row28 col1\" >12</td>\n      <td id=\"T_f5bef_row28_col2\" class=\"data row28 col2\" >8.33%</td>\n    </tr>\n    <tr>\n      <td id=\"T_f5bef_row29_col0\" class=\"data row29 col0\" >El Dorado County</td>\n      <td id=\"T_f5bef_row29_col1\" class=\"data row29 col1\" >13</td>\n      <td id=\"T_f5bef_row29_col2\" class=\"data row29 col2\" >7.69%</td>\n    </tr>\n    <tr>\n      <td id=\"T_f5bef_row30_col0\" class=\"data row30 col0\" >Fresno County</td>\n      <td id=\"T_f5bef_row30_col1\" class=\"data row30 col1\" >5</td>\n      <td id=\"T_f5bef_row30_col2\" class=\"data row30 col2\" >20.00%</td>\n    </tr>\n    <tr>\n      <td id=\"T_f5bef_row31_col0\" class=\"data row31 col0\" >Karuk Tribe</td>\n      <td id=\"T_f5bef_row31_col1\" class=\"data row31 col1\" >1</td>\n      <td id=\"T_f5bef_row31_col2\" class=\"data row31 col2\" >100.00%</td>\n    </tr>\n    <tr>\n      <td id=\"T_f5bef_row32_col0\" class=\"data row32 col0\" >Riverside County</td>\n      <td id=\"T_f5bef_row32_col1\" class=\"data row32 col1\" >16</td>\n      <td id=\"T_f5bef_row32_col2\" class=\"data row32 col2\" >6.25%</td>\n    </tr>\n    <tr>\n      <td id=\"T_f5bef_row33_col0\" class=\"data row33 col0\" >Sacramento County</td>\n      <td id=\"T_f5bef_row33_col1\" class=\"data row33 col1\" >6</td>\n      <td id=\"T_f5bef_row33_col2\" class=\"data row33 col2\" >16.67%</td>\n    </tr>\n    <tr>\n      <td id=\"T_f5bef_row34_col0\" class=\"data row34 col0\" >San Bernardino County</td>\n      <td id=\"T_f5bef_row34_col1\" class=\"data row34 col1\" >4</td>\n      <td id=\"T_f5bef_row34_col2\" class=\"data row34 col2\" >25.00%</td>\n    </tr>\n    <tr>\n      <td id=\"T_f5bef_row35_col0\" class=\"data row35 col0\" >San Diego Association of Governments (SANDAG)</td>\n      <td id=\"T_f5bef_row35_col1\" class=\"data row35 col1\" >9</td>\n      <td id=\"T_f5bef_row35_col2\" class=\"data row35 col2\" >11.11%</td>\n    </tr>\n    <tr>\n      <td id=\"T_f5bef_row36_col0\" class=\"data row36 col0\" >San Luis Obispo County</td>\n      <td id=\"T_f5bef_row36_col1\" class=\"data row36 col1\" >6</td>\n      <td id=\"T_f5bef_row36_col2\" class=\"data row36 col2\" >16.67%</td>\n    </tr>\n    <tr>\n      <td id=\"T_f5bef_row37_col0\" class=\"data row37 col0\" >Santa Clara County</td>\n      <td id=\"T_f5bef_row37_col1\" class=\"data row37 col1\" >2</td>\n      <td id=\"T_f5bef_row37_col2\" class=\"data row37 col2\" >50.00%</td>\n    </tr>\n    <tr>\n      <td id=\"T_f5bef_row38_col0\" class=\"data row38 col0\" >Shasta County</td>\n      <td id=\"T_f5bef_row38_col1\" class=\"data row38 col1\" >3</td>\n      <td id=\"T_f5bef_row38_col2\" class=\"data row38 col2\" >33.33%</td>\n    </tr>\n    <tr>\n      <td id=\"T_f5bef_row39_col0\" class=\"data row39 col0\" >Siskiyou County Transportation Commission</td>\n      <td id=\"T_f5bef_row39_col1\" class=\"data row39 col1\" >1</td>\n      <td id=\"T_f5bef_row39_col2\" class=\"data row39 col2\" >100.00%</td>\n    </tr>\n    <tr>\n      <td id=\"T_f5bef_row40_col0\" class=\"data row40 col0\" >Tuolumne County</td>\n      <td id=\"T_f5bef_row40_col1\" class=\"data row40 col1\" >2</td>\n      <td id=\"T_f5bef_row40_col2\" class=\"data row40 col2\" >50.00%</td>\n    </tr>\n    <tr>\n      <td id=\"T_f5bef_row41_col0\" class=\"data row41 col0\" >Ventura County</td>\n      <td id=\"T_f5bef_row41_col1\" class=\"data row41 col1\" >5</td>\n      <td id=\"T_f5bef_row41_col2\" class=\"data row41 col2\" >20.00%</td>\n    </tr>\n  </tbody>\n</table>\n"
      }
     },
     "d7fd5b1a6f2b4123ac29a8c843b2b945": {
      "model_module": "@jupyter-widgets/controls",
      "model_module_version": "1.5.0",
      "model_name": "DescriptionStyleModel",
      "state": {
       "description_width": ""
      }
     },
     "e6a45cfb80eb43ab9ee1fcee19f95ccf": {
      "model_module": "@jupyter-widgets/controls",
      "model_module_version": "1.5.0",
      "model_name": "HTMLModel",
      "state": {
       "layout": "IPY_MODEL_f03a0bcabaf149119ed44f7942acaa7f",
       "style": "IPY_MODEL_644d216fa1a94bd3ab81bc836c4b491b",
       "value": "</br><h4> Success Rates for Agencies with Successful Applications </h4>"
      }
     },
     "eadc3f23f71b47bd954a267042d61dcd": {
      "model_module": "@jupyter-widgets/controls",
      "model_module_version": "1.5.0",
      "model_name": "DescriptionStyleModel",
      "state": {
       "description_width": ""
      }
     },
     "f03a0bcabaf149119ed44f7942acaa7f": {
      "model_module": "@jupyter-widgets/base",
      "model_module_version": "1.2.0",
      "model_name": "LayoutModel",
      "state": {}
     },
     "f1ce6ebcd6534c53b091cd2895cb29a2": {
      "model_module": "@jupyter-widgets/controls",
      "model_module_version": "1.5.0",
      "model_name": "DescriptionStyleModel",
      "state": {
       "description_width": ""
      }
     },
     "f853ac95c30e4ff688a355967d4ee5f7": {
      "model_module": "@jupyter-widgets/controls",
      "model_module_version": "1.5.0",
      "model_name": "HTMLModel",
      "state": {
       "layout": "IPY_MODEL_bf37cf150514496bb04b11ff68609744",
       "style": "IPY_MODEL_fc551c6f861b477f9b3ea0739f3d6472",
       "value": "There are <strong>42</strong> implenting agencies with <strong> one of more </strong>successful applications."
      }
     },
     "fc551c6f861b477f9b3ea0739f3d6472": {
      "model_module": "@jupyter-widgets/controls",
      "model_module_version": "1.5.0",
      "model_name": "DescriptionStyleModel",
      "state": {
       "description_width": ""
      }
     }
    },
    "version_major": 2,
    "version_minor": 0
   }
  }
 },
 "nbformat": 4,
 "nbformat_minor": 5
}
