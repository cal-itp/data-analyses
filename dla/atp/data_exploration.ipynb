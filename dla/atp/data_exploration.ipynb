{
 "cells": [
  {
   "cell_type": "markdown",
   "id": "a6a02001-3f1a-44e5-824d-66e98c17555e",
   "metadata": {},
   "source": [
    "# ATP Data Exploration"
   ]
  },
  {
   "cell_type": "code",
   "execution_count": 1,
   "id": "f2136906-b3d3-4071-b1bb-bee0d64cbefe",
   "metadata": {},
   "outputs": [
    {
     "name": "stderr",
     "output_type": "stream",
     "text": [
      "/opt/conda/lib/python3.10/site-packages/geopandas/_compat.py:111: UserWarning: The Shapely GEOS version (3.10.2-CAPI-1.16.0) is incompatible with the GEOS version PyGEOS was compiled with (3.10.1-CAPI-1.16.0). Conversions between both will be slow.\n",
      "/opt/conda/lib/python3.10/site-packages/google/auth/_default.py:79: UserWarning: Your application has authenticated using end user credentials from Google Cloud SDK without a quota project. You might receive a \"quota exceeded\" or \"API not enabled\" error. We recommend you rerun `gcloud auth application-default login` and make sure a quota project is added. Or you can use service accounts instead. For more information about service accounts, see https://cloud.google.com/docs/authentication/\n",
      "/opt/conda/lib/python3.10/site-packages/google/auth/_default.py:79: UserWarning: Your application has authenticated using end user credentials from Google Cloud SDK without a quota project. You might receive a \"quota exceeded\" or \"API not enabled\" error. We recommend you rerun `gcloud auth application-default login` and make sure a quota project is added. Or you can use service accounts instead. For more information about service accounts, see https://cloud.google.com/docs/authentication/\n",
      "/opt/conda/lib/python3.10/site-packages/google/auth/_default.py:79: UserWarning: Your application has authenticated using end user credentials from Google Cloud SDK without a quota project. You might receive a \"quota exceeded\" or \"API not enabled\" error. We recommend you rerun `gcloud auth application-default login` and make sure a quota project is added. Or you can use service accounts instead. For more information about service accounts, see https://cloud.google.com/docs/authentication/\n"
     ]
    }
   ],
   "source": [
    "import numpy as np\n",
    "import pandas as pd\n",
    "from siuba import *\n",
    "\n",
    "import altair as alt\n",
    "import altair_saver\n",
    "from plotnine import *\n",
    "\n",
    "from IPython.display import Markdown, HTML, Image\n",
    "import ipywidgets as widgets\n",
    "from ipywidgets import interact, interactive\n",
    "\n",
    "from calitp import to_snakecase\n",
    "import intake\n",
    "\n",
    "from shared_utils import altair_utils\n",
    "from shared_utils import styleguide\n",
    "\n",
    "from dla_utils import _dla_utils"
   ]
  },
  {
   "cell_type": "code",
   "execution_count": 2,
   "id": "64188b8f-8dff-411f-a180-d20a7238011e",
   "metadata": {},
   "outputs": [],
   "source": [
    "main_details = to_snakecase(pd.read_excel(\"gs://calitp-analytics-data/data-analyses/dla/atp/Main Details.xls\"))\n",
    "project_details = to_snakecase(pd.read_excel(\"gs://calitp-analytics-data/data-analyses/dla/atp/Project Details.xls\"))"
   ]
  },
  {
   "cell_type": "code",
   "execution_count": 3,
   "id": "b50fb971-37cc-4673-8f40-7ef6b4025723",
   "metadata": {},
   "outputs": [
    {
     "name": "stdout",
     "output_type": "stream",
     "text": [
      "<class 'pandas.core.frame.DataFrame'>\n",
      "RangeIndex: 882 entries, 0 to 881\n",
      "Data columns (total 83 columns):\n",
      " #   Column                        Non-Null Count  Dtype         \n",
      "---  ------                        --------------  -----         \n",
      " 0   a1_imp_agcy_city              882 non-null    object        \n",
      " 1   a1_imp_agcy_contact           882 non-null    object        \n",
      " 2   a1_imp_agcy_email             882 non-null    object        \n",
      " 3   a1_imp_agcy_fed_ma_num        742 non-null    object        \n",
      " 4   a1_imp_agcy_ma                882 non-null    object        \n",
      " 5   a1_imp_agcy_name              882 non-null    object        \n",
      " 6   a1_imp_agcy_phone             882 non-null    object        \n",
      " 7   a1_imp_agcy_state_ma_num      780 non-null    object        \n",
      " 8   a1_imp_agcy_street            882 non-null    object        \n",
      " 9   a1_imp_agcy_title             882 non-null    object        \n",
      " 10  a1_imp_agcy_zip               882 non-null    int64         \n",
      " 11  a1_letter_of_intent           87 non-null     object        \n",
      " 12  a1_proj_partner_agcy          90 non-null     object        \n",
      " 13  a1_proj_partner_contact       89 non-null     object        \n",
      " 14  a1_proj_partner_email         89 non-null     object        \n",
      " 15  a1_proj_partner_exists        882 non-null    object        \n",
      " 16  a1_proj_partner_phone         89 non-null     object        \n",
      " 17  a1_proj_partner_title         88 non-null     object        \n",
      " 18  a2_assem_dist_a               882 non-null    int64         \n",
      " 19  a2_assem_dist_b               137 non-null    float64       \n",
      " 20  a2_assem_dist_c               66 non-null     float64       \n",
      " 21  a2_congress_dist_a            882 non-null    int64         \n",
      " 22  a2_congress_dist_b            129 non-null    float64       \n",
      " 23  a2_congress_dist_c            59 non-null     float64       \n",
      " 24  a2_county                     882 non-null    object        \n",
      " 25  a2_ct_dist                    882 non-null    int64         \n",
      " 26  a2_info_proj_descr            881 non-null    object        \n",
      " 27  a2_info_proj_loc              882 non-null    object        \n",
      " 28  a2_info_proj_name             882 non-null    object        \n",
      " 29  a2_mop_uza_population         882 non-null    object        \n",
      " 30  a2_mpo                        882 non-null    object        \n",
      " 31  a2_past_proj                  882 non-null    object        \n",
      " 32  a2_past_proj_qty              882 non-null    int64         \n",
      " 33  a2_proj_lat                   448 non-null    float64       \n",
      " 34  a2_proj_long                  448 non-null    float64       \n",
      " 35  a2_proj_scope_summary         882 non-null    object        \n",
      " 36  a2_project_location_map       0 non-null      float64       \n",
      " 37  a2_rtpa                       882 non-null    object        \n",
      " 38  a2_senate_dist_a              882 non-null    int64         \n",
      " 39  a2_senate_dist_b              106 non-null    float64       \n",
      " 40  a2_senatedistc                58 non-null     float64       \n",
      " 41  a3_plan_active_trans          0 non-null      float64       \n",
      " 42  a3_plan_active_trans_exists   882 non-null    object        \n",
      " 43  a3_plan_bicycle               0 non-null      float64       \n",
      " 44  a3_plan_bicycle_exists        882 non-null    object        \n",
      " 45  a3_plan_ped                   0 non-null      float64       \n",
      " 46  a3_plan_ped_exists            882 non-null    object        \n",
      " 47  a3_plan_srts                  0 non-null      float64       \n",
      " 48  a3_plan_srts_exists           882 non-null    object        \n",
      " 49  a3_proj_type                  882 non-null    object        \n",
      " 50  a3_st_bicycle_applies         882 non-null    object        \n",
      " 51  a3_st_bicycle_pct             882 non-null    int64         \n",
      " 52  a3_st_num_schools             882 non-null    int64         \n",
      " 53  a3_st_ped_applies             882 non-null    object        \n",
      " 54  a3_st_ped_pct                 882 non-null    int64         \n",
      " 55  a3_st_srts                    882 non-null    object        \n",
      " 56  a3_trail_elig_cost            882 non-null    int64         \n",
      " 57  a3_trail_fed_funding          163 non-null    object        \n",
      " 58  a3_trail_trans_pct            882 non-null    int64         \n",
      " 59  a3_trails                     882 non-null    object        \n",
      " 60  agency_app_num                882 non-null    int64         \n",
      " 61  app_pk                        882 non-null    int64         \n",
      " 62  attch_addtl_attachments       624 non-null    object        \n",
      " 63  attch_app_sig_page            882 non-null    object        \n",
      " 64  attch_conditions_photos       882 non-null    object        \n",
      " 65  attch_conditions_project_map  805 non-null    object        \n",
      " 66  attch_engineeers_checklist    808 non-null    object        \n",
      " 67  attch_exhibit22_plan          0 non-null      float64       \n",
      " 68  attch_letters_of_support      837 non-null    object        \n",
      " 69  attch_link                    0 non-null      float64       \n",
      " 70  attch_ni_workplan             259 non-null    object        \n",
      " 71  attch_project_estimate        808 non-null    object        \n",
      " 72  completed_pdf_form            0 non-null      float64       \n",
      " 73  main_datetime_stamp           882 non-null    datetime64[ns]\n",
      " 74  project_app_id                882 non-null    object        \n",
      " 75  project_cycle                 882 non-null    object        \n",
      " 76  awarded                       882 non-null    object        \n",
      " 77  a1_locode                     881 non-null    object        \n",
      " 78  a3_plan_none                  882 non-null    object        \n",
      " 79  a3_plan_other                 882 non-null    object        \n",
      " 80  a3_plan_other_desc            451 non-null    object        \n",
      " 81  a2_output_outcome             882 non-null    object        \n",
      " 82  a3_current_plan               853 non-null    object        \n",
      "dtypes: datetime64[ns](1), float64(16), int64(13), object(53)\n",
      "memory usage: 572.0+ KB\n"
     ]
    }
   ],
   "source": [
    "main_details.info()"
   ]
  },
  {
   "cell_type": "code",
   "execution_count": 4,
   "id": "96c49061-fdad-4317-950e-30f5ddddf663",
   "metadata": {},
   "outputs": [
    {
     "data": {
      "text/html": [
       "<div>\n",
       "<style scoped>\n",
       "    .dataframe tbody tr th:only-of-type {\n",
       "        vertical-align: middle;\n",
       "    }\n",
       "\n",
       "    .dataframe tbody tr th {\n",
       "        vertical-align: top;\n",
       "    }\n",
       "\n",
       "    .dataframe thead th {\n",
       "        text-align: right;\n",
       "    }\n",
       "</style>\n",
       "<table border=\"1\" class=\"dataframe\">\n",
       "  <thead>\n",
       "    <tr style=\"text-align: right;\">\n",
       "      <th></th>\n",
       "      <th>b_sig_inter_new_bike_boxes</th>\n",
       "      <th>b_class_1</th>\n",
       "      <th>b_class_2</th>\n",
       "      <th>b_class_3</th>\n",
       "      <th>b_class_4</th>\n",
       "      <th>a4_bike_gap_pct</th>\n",
       "      <th>b_light_intersection</th>\n",
       "      <th>b_mid_block_new_rrfb_signal</th>\n",
       "      <th>b_mid_block_surf_improv</th>\n",
       "      <th>b_bsp_new_bikes</th>\n",
       "      <th>...</th>\n",
       "      <th>a4_collab_other</th>\n",
       "      <th>a4_colab_other_descr</th>\n",
       "      <th>a4_plan_ped</th>\n",
       "      <th>a4_plan_bike</th>\n",
       "      <th>a4_plan_atp</th>\n",
       "      <th>a4_plan_school_routes</th>\n",
       "      <th>a4_row_open_street_demo</th>\n",
       "      <th>project_app_id</th>\n",
       "      <th>project_cycle</th>\n",
       "      <th>awarded</th>\n",
       "    </tr>\n",
       "  </thead>\n",
       "  <tbody>\n",
       "    <tr>\n",
       "      <th>296</th>\n",
       "      <td>0</td>\n",
       "      <td>0</td>\n",
       "      <td>0</td>\n",
       "      <td>0</td>\n",
       "      <td>0</td>\n",
       "      <td>NaN</td>\n",
       "      <td>0</td>\n",
       "      <td>0</td>\n",
       "      <td>0</td>\n",
       "      <td>0</td>\n",
       "      <td>...</td>\n",
       "      <td>N</td>\n",
       "      <td>NaN</td>\n",
       "      <td>N</td>\n",
       "      <td>N</td>\n",
       "      <td>N</td>\n",
       "      <td>N</td>\n",
       "      <td>No</td>\n",
       "      <td>5-Buellton, City of-1</td>\n",
       "      <td>CYCLE 5</td>\n",
       "      <td>N</td>\n",
       "    </tr>\n",
       "  </tbody>\n",
       "</table>\n",
       "<p>1 rows × 135 columns</p>\n",
       "</div>"
      ],
      "text/plain": [
       "     b_sig_inter_new_bike_boxes  b_class_1  b_class_2  b_class_3  b_class_4  \\\n",
       "296                           0          0          0          0          0   \n",
       "\n",
       "     a4_bike_gap_pct  b_light_intersection  b_mid_block_new_rrfb_signal  \\\n",
       "296              NaN                     0                            0   \n",
       "\n",
       "     b_mid_block_surf_improv  b_bsp_new_bikes  ...  a4_collab_other  \\\n",
       "296                        0                0  ...                N   \n",
       "\n",
       "     a4_colab_other_descr  a4_plan_ped a4_plan_bike  a4_plan_atp  \\\n",
       "296                   NaN            N            N            N   \n",
       "\n",
       "    a4_plan_school_routes  a4_row_open_street_demo         project_app_id  \\\n",
       "296                     N                       No  5-Buellton, City of-1   \n",
       "\n",
       "     project_cycle  awarded  \n",
       "296        CYCLE 5        N  \n",
       "\n",
       "[1 rows x 135 columns]"
      ]
     },
     "execution_count": 4,
     "metadata": {},
     "output_type": "execute_result"
    }
   ],
   "source": [
    "project_details.sample()"
   ]
  },
  {
   "cell_type": "code",
   "execution_count": 5,
   "id": "b55b1119-f0a8-4414-bf2c-52928f6787f7",
   "metadata": {},
   "outputs": [
    {
     "data": {
      "text/plain": [
       "CYCLE 5    448\n",
       "CYCLE 6    434\n",
       "Name: project_cycle, dtype: int64"
      ]
     },
     "execution_count": 5,
     "metadata": {},
     "output_type": "execute_result"
    }
   ],
   "source": [
    "project_details.project_cycle.value_counts()"
   ]
  },
  {
   "cell_type": "code",
   "execution_count": 6,
   "id": "21437cf0-e3c4-49a3-a4e2-7aed309cfcc4",
   "metadata": {},
   "outputs": [
    {
     "data": {
      "text/html": [
       "<div>\n",
       "<style scoped>\n",
       "    .dataframe tbody tr th:only-of-type {\n",
       "        vertical-align: middle;\n",
       "    }\n",
       "\n",
       "    .dataframe tbody tr th {\n",
       "        vertical-align: top;\n",
       "    }\n",
       "\n",
       "    .dataframe thead th {\n",
       "        text-align: right;\n",
       "    }\n",
       "</style>\n",
       "<table border=\"1\" class=\"dataframe\">\n",
       "  <thead>\n",
       "    <tr style=\"text-align: right;\">\n",
       "      <th></th>\n",
       "      <th>project_app_id</th>\n",
       "      <th>n</th>\n",
       "    </tr>\n",
       "  </thead>\n",
       "  <tbody>\n",
       "    <tr>\n",
       "      <th>4</th>\n",
       "      <td>1-Eureka, City of-1</td>\n",
       "      <td>2</td>\n",
       "    </tr>\n",
       "    <tr>\n",
       "      <th>5</th>\n",
       "      <td>1-Eureka, City of-2</td>\n",
       "      <td>2</td>\n",
       "    </tr>\n",
       "    <tr>\n",
       "      <th>9</th>\n",
       "      <td>1-Lake County-1</td>\n",
       "      <td>2</td>\n",
       "    </tr>\n",
       "    <tr>\n",
       "      <th>10</th>\n",
       "      <td>1-Mendocino Council of Governments-1</td>\n",
       "      <td>2</td>\n",
       "    </tr>\n",
       "    <tr>\n",
       "      <th>16</th>\n",
       "      <td>10-Calaveras County-1</td>\n",
       "      <td>2</td>\n",
       "    </tr>\n",
       "    <tr>\n",
       "      <th>...</th>\n",
       "      <td>...</td>\n",
       "      <td>...</td>\n",
       "    </tr>\n",
       "    <tr>\n",
       "      <th>601</th>\n",
       "      <td>8-Wildomar, City of-2</td>\n",
       "      <td>2</td>\n",
       "    </tr>\n",
       "    <tr>\n",
       "      <th>602</th>\n",
       "      <td>8-Yucaipa, City of-1</td>\n",
       "      <td>2</td>\n",
       "    </tr>\n",
       "    <tr>\n",
       "      <th>603</th>\n",
       "      <td>9-Bishop, City of-1</td>\n",
       "      <td>2</td>\n",
       "    </tr>\n",
       "    <tr>\n",
       "      <th>605</th>\n",
       "      <td>9-Tehachapi, City of-1</td>\n",
       "      <td>2</td>\n",
       "    </tr>\n",
       "    <tr>\n",
       "      <th>606</th>\n",
       "      <td>9-Tehachapi, City of-2</td>\n",
       "      <td>2</td>\n",
       "    </tr>\n",
       "  </tbody>\n",
       "</table>\n",
       "<p>275 rows × 2 columns</p>\n",
       "</div>"
      ],
      "text/plain": [
       "                           project_app_id  n\n",
       "4                     1-Eureka, City of-1  2\n",
       "5                     1-Eureka, City of-2  2\n",
       "9                         1-Lake County-1  2\n",
       "10   1-Mendocino Council of Governments-1  2\n",
       "16                  10-Calaveras County-1  2\n",
       "..                                    ... ..\n",
       "601                 8-Wildomar, City of-2  2\n",
       "602                  8-Yucaipa, City of-1  2\n",
       "603                   9-Bishop, City of-1  2\n",
       "605                9-Tehachapi, City of-1  2\n",
       "606                9-Tehachapi, City of-2  2\n",
       "\n",
       "[275 rows x 2 columns]"
      ]
     },
     "execution_count": 6,
     "metadata": {},
     "output_type": "execute_result"
    }
   ],
   "source": [
    "project_details>>count(_.project_app_id)>>filter(_.n>1)"
   ]
  },
  {
   "cell_type": "code",
   "execution_count": 7,
   "id": "243aea91-5ab0-4496-acb0-f8749ac9490d",
   "metadata": {},
   "outputs": [
    {
     "data": {
      "text/html": [
       "<div>\n",
       "<style scoped>\n",
       "    .dataframe tbody tr th:only-of-type {\n",
       "        vertical-align: middle;\n",
       "    }\n",
       "\n",
       "    .dataframe tbody tr th {\n",
       "        vertical-align: top;\n",
       "    }\n",
       "\n",
       "    .dataframe thead th {\n",
       "        text-align: right;\n",
       "    }\n",
       "</style>\n",
       "<table border=\"1\" class=\"dataframe\">\n",
       "  <thead>\n",
       "    <tr style=\"text-align: right;\">\n",
       "      <th></th>\n",
       "      <th>project_cycle</th>\n",
       "      <th>project_app_id</th>\n",
       "      <th>n</th>\n",
       "    </tr>\n",
       "  </thead>\n",
       "  <tbody>\n",
       "  </tbody>\n",
       "</table>\n",
       "</div>"
      ],
      "text/plain": [
       "Empty DataFrame\n",
       "Columns: [project_cycle, project_app_id, n]\n",
       "Index: []"
      ]
     },
     "execution_count": 7,
     "metadata": {},
     "output_type": "execute_result"
    }
   ],
   "source": [
    "project_details>>group_by(_.project_cycle)>>count(_.project_app_id)>>filter(_.n>1)"
   ]
  },
  {
   "cell_type": "markdown",
   "id": "feadcbc3-5750-481a-a95b-5ceffbf154ab",
   "metadata": {},
   "source": [
    "* multiple project ids, but no duplicates by project cycle. "
   ]
  },
  {
   "cell_type": "markdown",
   "id": "3438be4f-f5c9-475e-9012-8e2308f722c3",
   "metadata": {},
   "source": [
    "## Merging Data"
   ]
  },
  {
   "cell_type": "code",
   "execution_count": 8,
   "id": "34f6b05b-6892-4e58-b11a-37268035af55",
   "metadata": {},
   "outputs": [],
   "source": [
    "df = pd.merge(main_details, project_details, how=\"outer\", on=[\"project_app_id\", \"project_cycle\"], indicator='matches')"
   ]
  },
  {
   "cell_type": "code",
   "execution_count": 9,
   "id": "fc295383-f724-4764-b1f2-c75ed10efc46",
   "metadata": {},
   "outputs": [
    {
     "data": {
      "text/html": [
       "<div>\n",
       "<style scoped>\n",
       "    .dataframe tbody tr th:only-of-type {\n",
       "        vertical-align: middle;\n",
       "    }\n",
       "\n",
       "    .dataframe tbody tr th {\n",
       "        vertical-align: top;\n",
       "    }\n",
       "\n",
       "    .dataframe thead th {\n",
       "        text-align: right;\n",
       "    }\n",
       "</style>\n",
       "<table border=\"1\" class=\"dataframe\">\n",
       "  <thead>\n",
       "    <tr style=\"text-align: right;\">\n",
       "      <th></th>\n",
       "      <th>project_app_id</th>\n",
       "      <th>project_cycle</th>\n",
       "      <th>matches</th>\n",
       "      <th>agency_app_num</th>\n",
       "    </tr>\n",
       "  </thead>\n",
       "  <tbody>\n",
       "    <tr>\n",
       "      <th>405</th>\n",
       "      <td>1-Mendocino Council of Governments-1</td>\n",
       "      <td>CYCLE 5</td>\n",
       "      <td>both</td>\n",
       "      <td>1</td>\n",
       "    </tr>\n",
       "    <tr>\n",
       "      <th>750</th>\n",
       "      <td>1-Mendocino Council of Governments-1</td>\n",
       "      <td>CYCLE 6</td>\n",
       "      <td>both</td>\n",
       "      <td>1</td>\n",
       "    </tr>\n",
       "  </tbody>\n",
       "</table>\n",
       "</div>"
      ],
      "text/plain": [
       "                           project_app_id project_cycle matches  \\\n",
       "405  1-Mendocino Council of Governments-1       CYCLE 5    both   \n",
       "750  1-Mendocino Council of Governments-1       CYCLE 6    both   \n",
       "\n",
       "     agency_app_num  \n",
       "405               1  \n",
       "750               1  "
      ]
     },
     "execution_count": 9,
     "metadata": {},
     "output_type": "execute_result"
    }
   ],
   "source": [
    "(df>>filter(_.project_app_id =='1-Mendocino Council of Governments-1')>>select(_.project_app_id, \n",
    "                                                                              _.project_cycle,\n",
    "                                                                             _.matches,\n",
    "                                                                              _.agency_app_num))"
   ]
  },
  {
   "cell_type": "code",
   "execution_count": 16,
   "id": "388eae44-448a-4d1b-b6f8-073400e35398",
   "metadata": {},
   "outputs": [
    {
     "name": "stdout",
     "output_type": "stream",
     "text": [
      "<class 'pandas.core.frame.DataFrame'>\n",
      "Int64Index: 882 entries, 0 to 881\n",
      "Columns: 217 entries, a1_imp_agcy_city to matches\n",
      "dtypes: category(1), datetime64[ns](2), float64(23), int64(97), object(94)\n",
      "memory usage: 1.5+ MB\n"
     ]
    }
   ],
   "source": [
    "df.info()"
   ]
  },
  {
   "cell_type": "code",
   "execution_count": 10,
   "id": "58661928-4c3c-4118-947a-a9957b1bd564",
   "metadata": {},
   "outputs": [],
   "source": [
    "### Checking the read in function"
   ]
  },
  {
   "cell_type": "code",
   "execution_count": 11,
   "id": "bae86938-e270-4e1f-b76e-62af03842a93",
   "metadata": {},
   "outputs": [],
   "source": [
    "import utils"
   ]
  },
  {
   "cell_type": "code",
   "execution_count": 12,
   "id": "a88c9ba0-4ee3-41eb-8e61-ed54ee6af476",
   "metadata": {},
   "outputs": [
    {
     "ename": "KeyError",
     "evalue": "\"['a1_imp_agcy_contact', 'a1_imp_agcy_email', 'a1_imp_agcy_phone'] not found in axis\"",
     "output_type": "error",
     "traceback": [
      "\u001b[0;31m---------------------------------------------------------------------------\u001b[0m",
      "\u001b[0;31mKeyError\u001b[0m                                  Traceback (most recent call last)",
      "Input \u001b[0;32mIn [12]\u001b[0m, in \u001b[0;36m<cell line: 1>\u001b[0;34m()\u001b[0m\n\u001b[0;32m----> 1\u001b[0m df \u001b[38;5;241m=\u001b[39m \u001b[43mutils\u001b[49m\u001b[38;5;241;43m.\u001b[39;49m\u001b[43mread_in_data\u001b[49m\u001b[43m(\u001b[49m\u001b[43m)\u001b[49m\n",
      "File \u001b[0;32m~/data-analyses/dla/atp/utils.py:17\u001b[0m, in \u001b[0;36mread_in_data\u001b[0;34m()\u001b[0m\n\u001b[1;32m     15\u001b[0m df \u001b[38;5;241m=\u001b[39m pd\u001b[38;5;241m.\u001b[39mmerge(main_details, project_details, how\u001b[38;5;241m=\u001b[39m\u001b[38;5;124m\"\u001b[39m\u001b[38;5;124mouter\u001b[39m\u001b[38;5;124m\"\u001b[39m, on\u001b[38;5;241m=\u001b[39m[\u001b[38;5;124m\"\u001b[39m\u001b[38;5;124mproject_app_id\u001b[39m\u001b[38;5;124m\"\u001b[39m, \u001b[38;5;124m\"\u001b[39m\u001b[38;5;124mproject_cycle\u001b[39m\u001b[38;5;124m\"\u001b[39m], indicator\u001b[38;5;241m=\u001b[39m\u001b[38;5;124m'\u001b[39m\u001b[38;5;124mmatches\u001b[39m\u001b[38;5;124m'\u001b[39m)\n\u001b[1;32m     16\u001b[0m columns_to_drop \u001b[38;5;241m=\u001b[39m [\u001b[38;5;124m'\u001b[39m\u001b[38;5;124ma1_imp_agcy_contact\u001b[39m\u001b[38;5;124m'\u001b[39m,\u001b[38;5;124m'\u001b[39m\u001b[38;5;124ma1_imp_agcy_email\u001b[39m\u001b[38;5;124m'\u001b[39m,\u001b[38;5;124m'\u001b[39m\u001b[38;5;124ma1_imp_agcy_phone\u001b[39m\u001b[38;5;124m'\u001b[39m]\n\u001b[0;32m---> 17\u001b[0m df \u001b[38;5;241m=\u001b[39m \u001b[43mdf\u001b[49m\u001b[38;5;241;43m.\u001b[39;49m\u001b[43mdrop\u001b[49m\u001b[43m(\u001b[49m\u001b[43mcolumns_to_drop\u001b[49m\u001b[43m,\u001b[49m\u001b[43m \u001b[49m\u001b[43minplace\u001b[49m\u001b[38;5;241;43m=\u001b[39;49m\u001b[38;5;28;43;01mTrue\u001b[39;49;00m\u001b[43m)\u001b[49m\n\u001b[1;32m     18\u001b[0m \u001b[38;5;28;01mreturn\u001b[39;00m df\n",
      "File \u001b[0;32m/opt/conda/lib/python3.10/site-packages/pandas/util/_decorators.py:311\u001b[0m, in \u001b[0;36mdeprecate_nonkeyword_arguments.<locals>.decorate.<locals>.wrapper\u001b[0;34m(*args, **kwargs)\u001b[0m\n\u001b[1;32m    305\u001b[0m \u001b[38;5;28;01mif\u001b[39;00m \u001b[38;5;28mlen\u001b[39m(args) \u001b[38;5;241m>\u001b[39m num_allow_args:\n\u001b[1;32m    306\u001b[0m     warnings\u001b[38;5;241m.\u001b[39mwarn(\n\u001b[1;32m    307\u001b[0m         msg\u001b[38;5;241m.\u001b[39mformat(arguments\u001b[38;5;241m=\u001b[39marguments),\n\u001b[1;32m    308\u001b[0m         \u001b[38;5;167;01mFutureWarning\u001b[39;00m,\n\u001b[1;32m    309\u001b[0m         stacklevel\u001b[38;5;241m=\u001b[39mstacklevel,\n\u001b[1;32m    310\u001b[0m     )\n\u001b[0;32m--> 311\u001b[0m \u001b[38;5;28;01mreturn\u001b[39;00m \u001b[43mfunc\u001b[49m\u001b[43m(\u001b[49m\u001b[38;5;241;43m*\u001b[39;49m\u001b[43margs\u001b[49m\u001b[43m,\u001b[49m\u001b[43m \u001b[49m\u001b[38;5;241;43m*\u001b[39;49m\u001b[38;5;241;43m*\u001b[39;49m\u001b[43mkwargs\u001b[49m\u001b[43m)\u001b[49m\n",
      "File \u001b[0;32m/opt/conda/lib/python3.10/site-packages/pandas/core/frame.py:4954\u001b[0m, in \u001b[0;36mDataFrame.drop\u001b[0;34m(self, labels, axis, index, columns, level, inplace, errors)\u001b[0m\n\u001b[1;32m   4806\u001b[0m \u001b[38;5;129m@deprecate_nonkeyword_arguments\u001b[39m(version\u001b[38;5;241m=\u001b[39m\u001b[38;5;28;01mNone\u001b[39;00m, allowed_args\u001b[38;5;241m=\u001b[39m[\u001b[38;5;124m\"\u001b[39m\u001b[38;5;124mself\u001b[39m\u001b[38;5;124m\"\u001b[39m, \u001b[38;5;124m\"\u001b[39m\u001b[38;5;124mlabels\u001b[39m\u001b[38;5;124m\"\u001b[39m])\n\u001b[1;32m   4807\u001b[0m \u001b[38;5;28;01mdef\u001b[39;00m \u001b[38;5;21mdrop\u001b[39m(\n\u001b[1;32m   4808\u001b[0m     \u001b[38;5;28mself\u001b[39m,\n\u001b[0;32m   (...)\u001b[0m\n\u001b[1;32m   4815\u001b[0m     errors: \u001b[38;5;28mstr\u001b[39m \u001b[38;5;241m=\u001b[39m \u001b[38;5;124m\"\u001b[39m\u001b[38;5;124mraise\u001b[39m\u001b[38;5;124m\"\u001b[39m,\n\u001b[1;32m   4816\u001b[0m ):\n\u001b[1;32m   4817\u001b[0m     \u001b[38;5;124;03m\"\"\"\u001b[39;00m\n\u001b[1;32m   4818\u001b[0m \u001b[38;5;124;03m    Drop specified labels from rows or columns.\u001b[39;00m\n\u001b[1;32m   4819\u001b[0m \n\u001b[0;32m   (...)\u001b[0m\n\u001b[1;32m   4952\u001b[0m \u001b[38;5;124;03m            weight  1.0     0.8\u001b[39;00m\n\u001b[1;32m   4953\u001b[0m \u001b[38;5;124;03m    \"\"\"\u001b[39;00m\n\u001b[0;32m-> 4954\u001b[0m     \u001b[38;5;28;01mreturn\u001b[39;00m \u001b[38;5;28;43msuper\u001b[39;49m\u001b[43m(\u001b[49m\u001b[43m)\u001b[49m\u001b[38;5;241;43m.\u001b[39;49m\u001b[43mdrop\u001b[49m\u001b[43m(\u001b[49m\n\u001b[1;32m   4955\u001b[0m \u001b[43m        \u001b[49m\u001b[43mlabels\u001b[49m\u001b[38;5;241;43m=\u001b[39;49m\u001b[43mlabels\u001b[49m\u001b[43m,\u001b[49m\n\u001b[1;32m   4956\u001b[0m \u001b[43m        \u001b[49m\u001b[43maxis\u001b[49m\u001b[38;5;241;43m=\u001b[39;49m\u001b[43maxis\u001b[49m\u001b[43m,\u001b[49m\n\u001b[1;32m   4957\u001b[0m \u001b[43m        \u001b[49m\u001b[43mindex\u001b[49m\u001b[38;5;241;43m=\u001b[39;49m\u001b[43mindex\u001b[49m\u001b[43m,\u001b[49m\n\u001b[1;32m   4958\u001b[0m \u001b[43m        \u001b[49m\u001b[43mcolumns\u001b[49m\u001b[38;5;241;43m=\u001b[39;49m\u001b[43mcolumns\u001b[49m\u001b[43m,\u001b[49m\n\u001b[1;32m   4959\u001b[0m \u001b[43m        \u001b[49m\u001b[43mlevel\u001b[49m\u001b[38;5;241;43m=\u001b[39;49m\u001b[43mlevel\u001b[49m\u001b[43m,\u001b[49m\n\u001b[1;32m   4960\u001b[0m \u001b[43m        \u001b[49m\u001b[43minplace\u001b[49m\u001b[38;5;241;43m=\u001b[39;49m\u001b[43minplace\u001b[49m\u001b[43m,\u001b[49m\n\u001b[1;32m   4961\u001b[0m \u001b[43m        \u001b[49m\u001b[43merrors\u001b[49m\u001b[38;5;241;43m=\u001b[39;49m\u001b[43merrors\u001b[49m\u001b[43m,\u001b[49m\n\u001b[1;32m   4962\u001b[0m \u001b[43m    \u001b[49m\u001b[43m)\u001b[49m\n",
      "File \u001b[0;32m/opt/conda/lib/python3.10/site-packages/pandas/core/generic.py:4267\u001b[0m, in \u001b[0;36mNDFrame.drop\u001b[0;34m(self, labels, axis, index, columns, level, inplace, errors)\u001b[0m\n\u001b[1;32m   4265\u001b[0m \u001b[38;5;28;01mfor\u001b[39;00m axis, labels \u001b[38;5;129;01min\u001b[39;00m axes\u001b[38;5;241m.\u001b[39mitems():\n\u001b[1;32m   4266\u001b[0m     \u001b[38;5;28;01mif\u001b[39;00m labels \u001b[38;5;129;01mis\u001b[39;00m \u001b[38;5;129;01mnot\u001b[39;00m \u001b[38;5;28;01mNone\u001b[39;00m:\n\u001b[0;32m-> 4267\u001b[0m         obj \u001b[38;5;241m=\u001b[39m \u001b[43mobj\u001b[49m\u001b[38;5;241;43m.\u001b[39;49m\u001b[43m_drop_axis\u001b[49m\u001b[43m(\u001b[49m\u001b[43mlabels\u001b[49m\u001b[43m,\u001b[49m\u001b[43m \u001b[49m\u001b[43maxis\u001b[49m\u001b[43m,\u001b[49m\u001b[43m \u001b[49m\u001b[43mlevel\u001b[49m\u001b[38;5;241;43m=\u001b[39;49m\u001b[43mlevel\u001b[49m\u001b[43m,\u001b[49m\u001b[43m \u001b[49m\u001b[43merrors\u001b[49m\u001b[38;5;241;43m=\u001b[39;49m\u001b[43merrors\u001b[49m\u001b[43m)\u001b[49m\n\u001b[1;32m   4269\u001b[0m \u001b[38;5;28;01mif\u001b[39;00m inplace:\n\u001b[1;32m   4270\u001b[0m     \u001b[38;5;28mself\u001b[39m\u001b[38;5;241m.\u001b[39m_update_inplace(obj)\n",
      "File \u001b[0;32m/opt/conda/lib/python3.10/site-packages/pandas/core/generic.py:4311\u001b[0m, in \u001b[0;36mNDFrame._drop_axis\u001b[0;34m(self, labels, axis, level, errors, consolidate, only_slice)\u001b[0m\n\u001b[1;32m   4309\u001b[0m         new_axis \u001b[38;5;241m=\u001b[39m axis\u001b[38;5;241m.\u001b[39mdrop(labels, level\u001b[38;5;241m=\u001b[39mlevel, errors\u001b[38;5;241m=\u001b[39merrors)\n\u001b[1;32m   4310\u001b[0m     \u001b[38;5;28;01melse\u001b[39;00m:\n\u001b[0;32m-> 4311\u001b[0m         new_axis \u001b[38;5;241m=\u001b[39m \u001b[43maxis\u001b[49m\u001b[38;5;241;43m.\u001b[39;49m\u001b[43mdrop\u001b[49m\u001b[43m(\u001b[49m\u001b[43mlabels\u001b[49m\u001b[43m,\u001b[49m\u001b[43m \u001b[49m\u001b[43merrors\u001b[49m\u001b[38;5;241;43m=\u001b[39;49m\u001b[43merrors\u001b[49m\u001b[43m)\u001b[49m\n\u001b[1;32m   4312\u001b[0m     indexer \u001b[38;5;241m=\u001b[39m axis\u001b[38;5;241m.\u001b[39mget_indexer(new_axis)\n\u001b[1;32m   4314\u001b[0m \u001b[38;5;66;03m# Case for non-unique axis\u001b[39;00m\n\u001b[1;32m   4315\u001b[0m \u001b[38;5;28;01melse\u001b[39;00m:\n",
      "File \u001b[0;32m/opt/conda/lib/python3.10/site-packages/pandas/core/indexes/base.py:6644\u001b[0m, in \u001b[0;36mIndex.drop\u001b[0;34m(self, labels, errors)\u001b[0m\n\u001b[1;32m   6642\u001b[0m \u001b[38;5;28;01mif\u001b[39;00m mask\u001b[38;5;241m.\u001b[39many():\n\u001b[1;32m   6643\u001b[0m     \u001b[38;5;28;01mif\u001b[39;00m errors \u001b[38;5;241m!=\u001b[39m \u001b[38;5;124m\"\u001b[39m\u001b[38;5;124mignore\u001b[39m\u001b[38;5;124m\"\u001b[39m:\n\u001b[0;32m-> 6644\u001b[0m         \u001b[38;5;28;01mraise\u001b[39;00m \u001b[38;5;167;01mKeyError\u001b[39;00m(\u001b[38;5;124mf\u001b[39m\u001b[38;5;124m\"\u001b[39m\u001b[38;5;132;01m{\u001b[39;00m\u001b[38;5;28mlist\u001b[39m(labels[mask])\u001b[38;5;132;01m}\u001b[39;00m\u001b[38;5;124m not found in axis\u001b[39m\u001b[38;5;124m\"\u001b[39m)\n\u001b[1;32m   6645\u001b[0m     indexer \u001b[38;5;241m=\u001b[39m indexer[\u001b[38;5;241m~\u001b[39mmask]\n\u001b[1;32m   6646\u001b[0m \u001b[38;5;28;01mreturn\u001b[39;00m \u001b[38;5;28mself\u001b[39m\u001b[38;5;241m.\u001b[39mdelete(indexer)\n",
      "\u001b[0;31mKeyError\u001b[0m: \"['a1_imp_agcy_contact', 'a1_imp_agcy_email', 'a1_imp_agcy_phone'] not found in axis\""
     ]
    }
   ],
   "source": [
    "df = utils.read_in_data()"
   ]
  },
  {
   "cell_type": "code",
   "execution_count": null,
   "id": "46efd9bc-0b1e-4188-87ed-413af16ace25",
   "metadata": {},
   "outputs": [],
   "source": [
    "df"
   ]
  },
  {
   "cell_type": "code",
   "execution_count": null,
   "id": "ab30bfa0-4fb9-446e-8328-1e748ca0ca46",
   "metadata": {},
   "outputs": [],
   "source": []
  },
  {
   "cell_type": "code",
   "execution_count": null,
   "id": "2b2c4bf3-85ad-45d2-9a35-c65cde926acf",
   "metadata": {},
   "outputs": [],
   "source": []
  },
  {
   "cell_type": "code",
   "execution_count": null,
   "id": "e0c1999d-3e40-4400-8d6f-d06b2d74b7b8",
   "metadata": {},
   "outputs": [],
   "source": []
  },
  {
   "cell_type": "code",
   "execution_count": null,
   "id": "836b7ed8-872a-494f-9dc7-0e73dfd1f507",
   "metadata": {},
   "outputs": [],
   "source": []
  },
  {
   "cell_type": "code",
   "execution_count": null,
   "id": "0d6af0fa-f64e-4a23-b699-b26b8472c16a",
   "metadata": {},
   "outputs": [],
   "source": []
  },
  {
   "cell_type": "code",
   "execution_count": null,
   "id": "687fd87e-d90c-45dd-b9a3-c2d0bbb277cd",
   "metadata": {},
   "outputs": [],
   "source": []
  },
  {
   "cell_type": "code",
   "execution_count": null,
   "id": "95cf2830-4d53-4954-b8fa-0ffeff9ba713",
   "metadata": {},
   "outputs": [],
   "source": []
  },
  {
   "cell_type": "code",
   "execution_count": null,
   "id": "2ac6f410-846e-46a6-986d-5c1cf37e4404",
   "metadata": {},
   "outputs": [],
   "source": []
  },
  {
   "cell_type": "code",
   "execution_count": null,
   "id": "4f4565bb-7823-49f2-a214-34bfe5c78479",
   "metadata": {},
   "outputs": [],
   "source": []
  },
  {
   "cell_type": "code",
   "execution_count": null,
   "id": "47500f29-837a-4b83-b717-92beffdb8020",
   "metadata": {},
   "outputs": [],
   "source": []
  },
  {
   "cell_type": "code",
   "execution_count": null,
   "id": "fce37ac7-132a-4c35-b44e-faa52cfc2d31",
   "metadata": {},
   "outputs": [],
   "source": []
  },
  {
   "cell_type": "code",
   "execution_count": null,
   "id": "a45e7237-1c36-4d43-8d78-af073634776d",
   "metadata": {},
   "outputs": [],
   "source": []
  },
  {
   "cell_type": "code",
   "execution_count": null,
   "id": "3a719586-9674-4667-86ef-29a3e4d5277c",
   "metadata": {},
   "outputs": [],
   "source": []
  },
  {
   "cell_type": "code",
   "execution_count": null,
   "id": "ec1cfb21-aff5-4abd-91ec-409b948faa2c",
   "metadata": {},
   "outputs": [],
   "source": []
  },
  {
   "cell_type": "code",
   "execution_count": null,
   "id": "b722e639-d054-484c-bf7b-bfc61c378b02",
   "metadata": {},
   "outputs": [],
   "source": []
  },
  {
   "cell_type": "code",
   "execution_count": null,
   "id": "a94899c1-2e6e-4715-bb71-bb003753df78",
   "metadata": {},
   "outputs": [],
   "source": []
  },
  {
   "cell_type": "code",
   "execution_count": null,
   "id": "7dcfa9ae-26e7-485c-9823-6a0b4dfe0ef0",
   "metadata": {},
   "outputs": [],
   "source": []
  },
  {
   "cell_type": "code",
   "execution_count": null,
   "id": "32444213-149d-4e93-bab1-35e3cb3f67fd",
   "metadata": {},
   "outputs": [],
   "source": []
  }
 ],
 "metadata": {
  "kernelspec": {
   "display_name": "Python 3 (ipykernel)",
   "language": "python",
   "name": "python3"
  },
  "language_info": {
   "codemirror_mode": {
    "name": "ipython",
    "version": 3
   },
   "file_extension": ".py",
   "mimetype": "text/x-python",
   "name": "python",
   "nbconvert_exporter": "python",
   "pygments_lexer": "ipython3",
   "version": "3.10.4"
  },
  "widgets": {
   "application/vnd.jupyter.widget-state+json": {
    "state": {},
    "version_major": 2,
    "version_minor": 0
   }
  }
 },
 "nbformat": 4,
 "nbformat_minor": 5
}
