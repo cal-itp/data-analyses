{
 "cells": [
  {
   "cell_type": "markdown",
   "id": "25bd41d4-3f54-47a8-b277-b5b5784dd20e",
   "metadata": {
    "tags": []
   },
   "source": [
    "# Map Dev for Reports"
   ]
  },
  {
   "cell_type": "code",
   "execution_count": 1,
   "id": "59e83bd2-4031-480e-b043-4d3b3cae3327",
   "metadata": {},
   "outputs": [
    {
     "name": "stderr",
     "output_type": "stream",
     "text": [
      "/opt/conda/lib/python3.10/site-packages/geopandas/_compat.py:123: UserWarning: The Shapely GEOS version (3.10.3-CAPI-1.16.1) is incompatible with the GEOS version PyGEOS was compiled with (3.10.1-CAPI-1.16.0). Conversions between both will be slow.\n",
      "  warnings.warn(\n"
     ]
    }
   ],
   "source": [
    "import intake\n",
    "import numpy as np\n",
    "import pandas as pd\n",
    "import geopandas as gpd\n",
    "from calitp import to_snakecase\n",
    "from dla_utils import _dla_utils\n",
    "from IPython.display import HTML, Markdown\n",
    "from siuba import *\n",
    "from shared_utils import geography_utils\n",
    "\n",
    "import altair as alt\n",
    "\n",
    "import _data_cleaning\n",
    "import _report_utils"
   ]
  },
  {
   "cell_type": "code",
   "execution_count": 2,
   "id": "4ef7b460-577f-4307-beac-2e7a58fa2e2c",
   "metadata": {},
   "outputs": [],
   "source": [
    "GCS_FILE_PATH = 'gs://calitp-analytics-data/data-analyses/dla/atp/'\n"
   ]
  },
  {
   "cell_type": "code",
   "execution_count": 3,
   "id": "48c6360c-9628-471d-b5c4-8f7b41fadfb1",
   "metadata": {},
   "outputs": [
    {
     "name": "stderr",
     "output_type": "stream",
     "text": [
      "/home/jovyan/data-analyses/dla/atp/_report_utils.py:70: FutureWarning: In a future version, the Index constructor will not infer numeric dtypes when passed object-dtype sequences (matching Series behavior)\n"
     ]
    }
   ],
   "source": [
    "df = _report_utils.read_in_joined_data()"
   ]
  },
  {
   "cell_type": "code",
   "execution_count": 4,
   "id": "f3317c25-5fea-49ec-914b-0f5bc6de90d7",
   "metadata": {},
   "outputs": [],
   "source": [
    "pd.set_option(\"display.max_columns\",500)"
   ]
  },
  {
   "cell_type": "code",
   "execution_count": 5,
   "id": "6a60ebee-c1dd-4c50-9021-87e7aad11903",
   "metadata": {},
   "outputs": [],
   "source": [
    "mapsubset_cols= ['awarded','project_app_id', 'project_cycle', 'data_origin', 'geometry',\n",
    "               'a1_imp_agcy_city','a1_imp_agcy_name','a1_proj_partner_agcy', \n",
    "               'assembly_district','congressional_district','senate_district',\n",
    "              'a2_county', 'a2_ct_dist','a2_info_proj_name','a3_proj_type', 'total_atp_$', 'a2_proj_lat','a2_proj_long']"
   ]
  },
  {
   "cell_type": "code",
   "execution_count": 6,
   "id": "d64f3b38-dc49-4ad3-9e4b-b140ad101559",
   "metadata": {},
   "outputs": [],
   "source": [
    "df_map = _report_utils.fix_geom_issues(df, mapsubset_cols)"
   ]
  },
  {
   "cell_type": "code",
   "execution_count": null,
   "id": "2f10531b-5c30-4da8-9436-938ae9b5b83a",
   "metadata": {},
   "outputs": [],
   "source": []
  },
  {
   "cell_type": "code",
   "execution_count": 7,
   "id": "d5f44fe2-ac17-4196-89db-1dede7317686",
   "metadata": {
    "tags": []
   },
   "outputs": [],
   "source": [
    "#df_map.explore(\"data_origin\", cmap=\"tab20b\")"
   ]
  },
  {
   "cell_type": "code",
   "execution_count": null,
   "id": "54d5f218-afbb-4c70-96f9-971234e0b73c",
   "metadata": {},
   "outputs": [],
   "source": []
  },
  {
   "cell_type": "code",
   "execution_count": 8,
   "id": "dba30e48-d926-4b50-9876-ac9e64f0e05a",
   "metadata": {},
   "outputs": [],
   "source": [
    "## from amanda's notebook for Project prioritization: https://github.com/cal-itp/data-analyses/blob/main/project_prioritization/_utils.py\n",
    "shapes = \"https://gis.data.ca.gov/datasets/0144574f750f4ccc88749004aca6eb0c_0.geojson?outSR=%7B%22latestWkid%22%3A3857%2C%22wkid%22%3A102100%7D\"\n",
    "district_shapes = gpd.read_file(f\"{shapes}\").to_crs(epsg=4326)   "
   ]
  },
  {
   "cell_type": "code",
   "execution_count": 9,
   "id": "97a3ea5b-0359-42b2-b515-28ae0b4f13ea",
   "metadata": {},
   "outputs": [],
   "source": [
    "#district_shapes.boundary.explore()"
   ]
  },
  {
   "cell_type": "code",
   "execution_count": 10,
   "id": "609d547c-b4a2-4c49-b6fb-63103ca19b05",
   "metadata": {},
   "outputs": [],
   "source": [
    "## county geography\n",
    "\n",
    "shapes2 = \"https://opendata.arcgis.com/datasets/8713ced9b78a4abb97dc130a691a8695_0.geojson\"\n",
    "county_shapes = gpd.read_file(f\"{shapes2}\").to_crs(epsg=4326)"
   ]
  },
  {
   "cell_type": "code",
   "execution_count": 11,
   "id": "7c1a96c3-a1d4-4d09-ba9c-2b5e33537e97",
   "metadata": {},
   "outputs": [],
   "source": [
    "#county_shapes.boundary.explore()"
   ]
  },
  {
   "cell_type": "code",
   "execution_count": 12,
   "id": "6328cba9-337b-4055-bfbc-c2df933f2b03",
   "metadata": {},
   "outputs": [],
   "source": [
    "df_map = df_map.drop(columns='index_right')"
   ]
  },
  {
   "cell_type": "markdown",
   "id": "b54c4fa5-f291-4eec-af9c-5a802a804ad5",
   "metadata": {},
   "source": [
    "## Joining District and Points"
   ]
  },
  {
   "cell_type": "code",
   "execution_count": 56,
   "id": "fd39e091-3895-4d19-b651-8837c487bfe3",
   "metadata": {},
   "outputs": [],
   "source": [
    "def nunique_by_geography(df,\n",
    "                         geodf,\n",
    "                         geog_col,\n",
    "                         agg_col,\n",
    "                         geodf_mergeon_col):\n",
    "    \n",
    "    sum_df = (df>>group_by(_[geog_col])\n",
    "              >>summarize(n_unique = _[agg_col].nunique()))\n",
    "    \n",
    "    joined_df = geodf.merge(sum_df, \n",
    "                            how='inner',\n",
    "                            left_on=[geodf_mergeon_col],\n",
    "                            right_on=[geog_col])\n",
    "    \n",
    "    return joined_df\n",
    "              "
   ]
  },
  {
   "cell_type": "code",
   "execution_count": 58,
   "id": "bd9bb1c8-6457-4648-83cf-e9d7a1ddc232",
   "metadata": {},
   "outputs": [],
   "source": [
    "by_dist = nunique_by_geography(df_map,\n",
    "                         district_shapes,\n",
    "                         'a2_ct_dist',\n",
    "                         'project_app_id',\n",
    "                         'DISTRICT')"
   ]
  },
  {
   "cell_type": "code",
   "execution_count": 59,
   "id": "4ac119fb-f477-4b6d-9ddd-f0e7b37d934a",
   "metadata": {},
   "outputs": [],
   "source": [
    "#by_dist.explore('n_applications', cmap='Oranges', highlight=True, legend=True)"
   ]
  },
  {
   "cell_type": "code",
   "execution_count": null,
   "id": "ea743083-6482-4ffd-977b-f915bc8ae666",
   "metadata": {},
   "outputs": [],
   "source": []
  },
  {
   "cell_type": "code",
   "execution_count": null,
   "id": "daeefdec-df56-4d4f-837d-d4d34ff8c884",
   "metadata": {},
   "outputs": [],
   "source": []
  },
  {
   "cell_type": "code",
   "execution_count": null,
   "id": "46da869b-8f21-4079-90bb-ebc3476e2fc5",
   "metadata": {},
   "outputs": [],
   "source": []
  },
  {
   "cell_type": "markdown",
   "id": "392c3df4-82a5-43f0-81aa-10720aed719d",
   "metadata": {},
   "source": [
    "## Layering"
   ]
  },
  {
   "cell_type": "code",
   "execution_count": 17,
   "id": "3f05ae48-1474-4926-9a09-91676708a5a6",
   "metadata": {},
   "outputs": [],
   "source": [
    "#base = district_shapes.plot(color='white', edgecolor='black')\n",
    "\n",
    "#df_map.plot(ax=base, marker='o', color='blue', markersize=5)"
   ]
  },
  {
   "cell_type": "code",
   "execution_count": 21,
   "id": "abf9e8ce-6964-4f53-a966-cdfbeb52b385",
   "metadata": {
    "tags": []
   },
   "outputs": [],
   "source": [
    "# base = district_shapes.plot(figsize=(8,8), color='white', edgecolor='black')\n",
    "# layered = df_map.plot(ax=base, marker='o', legend='true', column='data_origin', markersize=10)\n",
    "# layered.set_title('ATP Applications',fontsize=18)\n",
    "\n",
    "# layered"
   ]
  },
  {
   "cell_type": "code",
   "execution_count": null,
   "id": "60672c66-1133-4acf-965c-c8a0db86ac59",
   "metadata": {},
   "outputs": [],
   "source": []
  },
  {
   "cell_type": "code",
   "execution_count": null,
   "id": "c43a7986-8444-40c3-9e38-8e95ea62d163",
   "metadata": {},
   "outputs": [],
   "source": []
  },
  {
   "cell_type": "code",
   "execution_count": 19,
   "id": "adb82d5b-24d7-4ca8-b62c-b52caef7787c",
   "metadata": {},
   "outputs": [],
   "source": [
    "import folium"
   ]
  },
  {
   "cell_type": "code",
   "execution_count": 46,
   "id": "d5296604-ab09-4530-bff3-b4fa0c312989",
   "metadata": {},
   "outputs": [],
   "source": [
    "## following map works, commenting out to save"
   ]
  },
  {
   "cell_type": "code",
   "execution_count": null,
   "id": "29070375-e4b7-42bb-8612-1afbc3c7de00",
   "metadata": {},
   "outputs": [],
   "source": []
  },
  {
   "cell_type": "code",
   "execution_count": 47,
   "id": "3f45afcf-0184-42b6-9bdf-27717eec4d74",
   "metadata": {},
   "outputs": [],
   "source": [
    "# m = by_dist.explore(\n",
    "#      column=\"n_applications\", \n",
    "#      legend=True,\n",
    "#     color = 'oranges',\n",
    "#      legend_kwds=dict(colorbar=True),\n",
    "#      tooltip=[\"District\", \"Number of Applications\"], \n",
    "#      name=\"Number of Applications by County\")\n",
    "\n",
    "# df_map.explore(\n",
    "#      m=m, \n",
    "#      color=\"Data Origin\", \n",
    "#      marker_kwds=dict(radius=3, fill=True),\n",
    "#      tooltip=[\"Data Origin\", \"Project Cycle\", \"Implemeting Agency\", \"Project Name\"], \n",
    "#      tooltip_kwds=dict(labels=True),\n",
    "#      name=\"Project Locations\"\n",
    "# )\n",
    "\n",
    "# folium.TileLayer('Stamen Toner', control=True).add_to(m) \n",
    "# folium.LayerControl().add_to(m)\n",
    "\n",
    "# m"
   ]
  },
  {
   "cell_type": "code",
   "execution_count": 51,
   "id": "6a2b5a33-e025-4f1d-a9ef-d36f7736c008",
   "metadata": {},
   "outputs": [],
   "source": [
    "# points = df_map.explore(\n",
    "#      column=\"data_origin\", \n",
    "#      legend=True,\n",
    "#      legend_kwds=dict(colorbar=False),\n",
    "#      name=\"Application Result\",\n",
    "#      tooltip=[\"data_origin\", \"project_cycle\", \"a1_imp_agcy_city\", \"a2_info_proj_name\"], \n",
    "#      tooltip_kwds=dict(labels=False), \n",
    "# )"
   ]
  },
  {
   "cell_type": "code",
   "execution_count": 52,
   "id": "b54bde18-cebc-4035-8e45-3dda25af2798",
   "metadata": {},
   "outputs": [],
   "source": [
    "# points"
   ]
  },
  {
   "cell_type": "code",
   "execution_count": null,
   "id": "b596fe2e-0c07-47ce-b9e2-41a66cc64b7a",
   "metadata": {},
   "outputs": [],
   "source": []
  },
  {
   "cell_type": "code",
   "execution_count": null,
   "id": "2fa116bb-f05d-416e-8128-e0dee1e8055b",
   "metadata": {},
   "outputs": [],
   "source": []
  },
  {
   "cell_type": "code",
   "execution_count": 62,
   "id": "daca4d8f-3de1-4ae5-a0c6-1a48c83fbbf3",
   "metadata": {},
   "outputs": [],
   "source": [
    "## By Congressional Dist"
   ]
  },
  {
   "cell_type": "code",
   "execution_count": 61,
   "id": "6ddf4bbd-c1f7-4b6c-8c76-a66f25ee3db6",
   "metadata": {},
   "outputs": [
    {
     "data": {
      "text/html": [
       "<div>\n",
       "<style scoped>\n",
       "    .dataframe tbody tr th:only-of-type {\n",
       "        vertical-align: middle;\n",
       "    }\n",
       "\n",
       "    .dataframe tbody tr th {\n",
       "        vertical-align: top;\n",
       "    }\n",
       "\n",
       "    .dataframe thead th {\n",
       "        text-align: right;\n",
       "    }\n",
       "</style>\n",
       "<table border=\"1\" class=\"dataframe\">\n",
       "  <thead>\n",
       "    <tr style=\"text-align: right;\">\n",
       "      <th></th>\n",
       "      <th>project_app_id</th>\n",
       "      <th>project_cycle</th>\n",
       "      <th>awarded</th>\n",
       "      <th>data_origin</th>\n",
       "      <th>geometry</th>\n",
       "      <th>a1_imp_agcy_city</th>\n",
       "      <th>a1_imp_agcy_name</th>\n",
       "      <th>a1_proj_partner_agcy</th>\n",
       "      <th>assembly_district</th>\n",
       "      <th>congressional_district</th>\n",
       "      <th>senate_district</th>\n",
       "      <th>a2_county</th>\n",
       "      <th>a2_ct_dist</th>\n",
       "      <th>a2_info_proj_name</th>\n",
       "      <th>a2_proj_lat</th>\n",
       "      <th>a2_proj_long</th>\n",
       "      <th>a3_proj_type</th>\n",
       "      <th>total_atp_$</th>\n",
       "      <th>State</th>\n",
       "      <th>point_check</th>\n",
       "    </tr>\n",
       "  </thead>\n",
       "  <tbody>\n",
       "    <tr>\n",
       "      <th>227</th>\n",
       "      <td>10-Lathrop,City of-1</td>\n",
       "      <td>5</td>\n",
       "      <td>N</td>\n",
       "      <td>Application</td>\n",
       "      <td>POINT (-121.29787 37.80354)</td>\n",
       "      <td>Lathrop</td>\n",
       "      <td>Lathrop,City of</td>\n",
       "      <td>NaN</td>\n",
       "      <td>12</td>\n",
       "      <td>9</td>\n",
       "      <td>5</td>\n",
       "      <td>San Joaquin</td>\n",
       "      <td>10.00</td>\n",
       "      <td>Class II Bikeway to ACE Station</td>\n",
       "      <td>37.80</td>\n",
       "      <td>-121.30</td>\n",
       "      <td>Infrastructure - Small</td>\n",
       "      <td>NaN</td>\n",
       "      <td>CA</td>\n",
       "      <td>Point In State</td>\n",
       "    </tr>\n",
       "  </tbody>\n",
       "</table>\n",
       "</div>"
      ],
      "text/plain": [
       "           project_app_id project_cycle awarded  data_origin  \\\n",
       "227  10-Lathrop,City of-1             5       N  Application   \n",
       "\n",
       "                        geometry a1_imp_agcy_city a1_imp_agcy_name  \\\n",
       "227  POINT (-121.29787 37.80354)          Lathrop  Lathrop,City of   \n",
       "\n",
       "    a1_proj_partner_agcy assembly_district congressional_district  \\\n",
       "227                  NaN                12                      9   \n",
       "\n",
       "    senate_district    a2_county  a2_ct_dist                a2_info_proj_name  \\\n",
       "227               5  San Joaquin       10.00  Class II Bikeway to ACE Station   \n",
       "\n",
       "    a2_proj_lat a2_proj_long            a3_proj_type  total_atp_$ State  \\\n",
       "227       37.80      -121.30  Infrastructure - Small          NaN    CA   \n",
       "\n",
       "        point_check  \n",
       "227  Point In State  "
      ]
     },
     "execution_count": 61,
     "metadata": {},
     "output_type": "execute_result"
    }
   ],
   "source": [
    "df_map.sample()"
   ]
  },
  {
   "cell_type": "code",
   "execution_count": null,
   "id": "8042d733-2567-463f-ad18-d3134ce3e4e6",
   "metadata": {},
   "outputs": [],
   "source": [
    "nunique_by_geography(df,\n",
    "                         geodf,\n",
    "                         geog_col,\n",
    "                         agg_col,\n",
    "                         geodf_mergeon_col)"
   ]
  },
  {
   "cell_type": "code",
   "execution_count": null,
   "id": "868418d6-6838-4549-b476-aa1cac002e12",
   "metadata": {},
   "outputs": [],
   "source": []
  },
  {
   "cell_type": "code",
   "execution_count": null,
   "id": "b824d467-efcb-4c10-ba3a-37df96d5447c",
   "metadata": {},
   "outputs": [],
   "source": []
  },
  {
   "cell_type": "code",
   "execution_count": 63,
   "id": "09deed60-20e2-4e31-9b7f-7e75124b1d3f",
   "metadata": {},
   "outputs": [],
   "source": [
    "## By Senate Dist"
   ]
  },
  {
   "cell_type": "code",
   "execution_count": null,
   "id": "7846af45-298b-4531-90d1-199b161594f3",
   "metadata": {},
   "outputs": [],
   "source": []
  },
  {
   "cell_type": "code",
   "execution_count": null,
   "id": "f25ae9bc-18d3-4397-a7b3-eb63c6352573",
   "metadata": {},
   "outputs": [],
   "source": []
  },
  {
   "cell_type": "code",
   "execution_count": 64,
   "id": "ecb6a0db-2332-45d6-b539-9760ee9b2bb0",
   "metadata": {},
   "outputs": [],
   "source": [
    "## By Assembly Dist"
   ]
  },
  {
   "cell_type": "code",
   "execution_count": null,
   "id": "8d4a56a8-83c8-4de7-b5cc-a31b0b34fb79",
   "metadata": {},
   "outputs": [],
   "source": []
  },
  {
   "cell_type": "code",
   "execution_count": null,
   "id": "ec90a046-27c2-4b88-b4d2-8c7f4be0d278",
   "metadata": {},
   "outputs": [],
   "source": []
  }
 ],
 "metadata": {
  "kernelspec": {
   "display_name": "Python 3 (ipykernel)",
   "language": "python",
   "name": "python3"
  },
  "language_info": {
   "codemirror_mode": {
    "name": "ipython",
    "version": 3
   },
   "file_extension": ".py",
   "mimetype": "text/x-python",
   "name": "python",
   "nbconvert_exporter": "python",
   "pygments_lexer": "ipython3",
   "version": "3.10.6"
  },
  "widgets": {
   "application/vnd.jupyter.widget-state+json": {
    "state": {},
    "version_major": 2,
    "version_minor": 0
   }
  }
 },
 "nbformat": 4,
 "nbformat_minor": 5
}
