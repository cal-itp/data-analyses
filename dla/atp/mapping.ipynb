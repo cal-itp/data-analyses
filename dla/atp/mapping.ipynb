{
 "cells": [
  {
   "cell_type": "markdown",
   "id": "25bd41d4-3f54-47a8-b277-b5b5784dd20e",
   "metadata": {
    "tags": []
   },
   "source": [
    "# Map Dev for Reports"
   ]
  },
  {
   "cell_type": "code",
   "execution_count": null,
   "id": "59e83bd2-4031-480e-b043-4d3b3cae3327",
   "metadata": {},
   "outputs": [],
   "source": [
    "import intake\n",
    "import numpy as np\n",
    "import pandas as pd\n",
    "import geopandas as gpd\n",
    "from calitp import to_snakecase\n",
    "from dla_utils import _dla_utils\n",
    "from IPython.display import HTML, Markdown\n",
    "from siuba import *\n",
    "from shared_utils import geography_utils\n",
    "\n",
    "import altair as alt\n",
    "\n",
    "import _data_cleaning\n",
    "import _report_utils"
   ]
  },
  {
   "cell_type": "code",
   "execution_count": null,
   "id": "4ef7b460-577f-4307-beac-2e7a58fa2e2c",
   "metadata": {},
   "outputs": [],
   "source": [
    "GCS_FILE_PATH = 'gs://calitp-analytics-data/data-analyses/dla/atp/'\n"
   ]
  },
  {
   "cell_type": "code",
   "execution_count": null,
   "id": "48c6360c-9628-471d-b5c4-8f7b41fadfb1",
   "metadata": {},
   "outputs": [],
   "source": [
    "df = _report_utils.read_in_joined_data()"
   ]
  },
  {
   "cell_type": "code",
   "execution_count": null,
   "id": "f3317c25-5fea-49ec-914b-0f5bc6de90d7",
   "metadata": {},
   "outputs": [],
   "source": [
    "pd.set_option(\"display.max_columns\",500)"
   ]
  },
  {
   "cell_type": "code",
   "execution_count": null,
   "id": "6a60ebee-c1dd-4c50-9021-87e7aad11903",
   "metadata": {},
   "outputs": [],
   "source": [
    "mapsubset_cols= ['awarded','project_app_id', 'project_cycle', 'data_origin', 'geometry',\n",
    "               'a1_imp_agcy_city','a1_imp_agcy_name','a1_proj_partner_agcy', \n",
    "               'assembly_district','congressional_district','senate_district',\n",
    "              'a2_county', 'a2_ct_dist','a2_info_proj_name','a3_proj_type', 'total_atp_$', 'a2_proj_lat','a2_proj_long']"
   ]
  },
  {
   "cell_type": "code",
   "execution_count": null,
   "id": "d64f3b38-dc49-4ad3-9e4b-b140ad101559",
   "metadata": {},
   "outputs": [],
   "source": [
    "df_map = _report_utils.fix_geom_issues(df, mapsubset_cols)"
   ]
  },
  {
   "cell_type": "code",
   "execution_count": null,
   "id": "2f10531b-5c30-4da8-9436-938ae9b5b83a",
   "metadata": {},
   "outputs": [],
   "source": []
  },
  {
   "cell_type": "code",
   "execution_count": null,
   "id": "d5f44fe2-ac17-4196-89db-1dede7317686",
   "metadata": {
    "jupyter": {
     "source_hidden": true
    },
    "tags": []
   },
   "outputs": [],
   "source": [
    "df_map.explore(\"data_origin\", cmap=\"tab20b\")"
   ]
  },
  {
   "cell_type": "code",
   "execution_count": null,
   "id": "54d5f218-afbb-4c70-96f9-971234e0b73c",
   "metadata": {},
   "outputs": [],
   "source": []
  },
  {
   "cell_type": "code",
   "execution_count": null,
   "id": "dba30e48-d926-4b50-9876-ac9e64f0e05a",
   "metadata": {},
   "outputs": [],
   "source": [
    "## from amanda's notebook for Project prioritization: https://github.com/cal-itp/data-analyses/blob/main/project_prioritization/_utils.py\n",
    "shapes = \"https://gis.data.ca.gov/datasets/0144574f750f4ccc88749004aca6eb0c_0.geojson?outSR=%7B%22latestWkid%22%3A3857%2C%22wkid%22%3A102100%7D\"\n",
    "district_shapes = gpd.read_file(f\"{shapes}\").to_crs(epsg=4326)   "
   ]
  },
  {
   "cell_type": "code",
   "execution_count": null,
   "id": "97a3ea5b-0359-42b2-b515-28ae0b4f13ea",
   "metadata": {},
   "outputs": [],
   "source": [
    "#district_shapes.boundary.explore()"
   ]
  },
  {
   "cell_type": "code",
   "execution_count": null,
   "id": "609d547c-b4a2-4c49-b6fb-63103ca19b05",
   "metadata": {},
   "outputs": [],
   "source": [
    "## county geography\n",
    "\n",
    "shapes2 = \"https://opendata.arcgis.com/datasets/8713ced9b78a4abb97dc130a691a8695_0.geojson\"\n",
    "county_shapes = gpd.read_file(f\"{shapes2}\").to_crs(epsg=4326)"
   ]
  },
  {
   "cell_type": "code",
   "execution_count": null,
   "id": "7c1a96c3-a1d4-4d09-ba9c-2b5e33537e97",
   "metadata": {},
   "outputs": [],
   "source": [
    "#county_shapes.boundary.explore()"
   ]
  },
  {
   "cell_type": "code",
   "execution_count": null,
   "id": "6328cba9-337b-4055-bfbc-c2df933f2b03",
   "metadata": {},
   "outputs": [],
   "source": [
    "df_map = df_map.drop(columns='index_right')"
   ]
  },
  {
   "cell_type": "markdown",
   "id": "b54c4fa5-f291-4eec-af9c-5a802a804ad5",
   "metadata": {},
   "source": [
    "## Joining District and Points"
   ]
  },
  {
   "cell_type": "code",
   "execution_count": null,
   "id": "f3b0d3e2-c751-48ef-bc59-9a3d88d407ce",
   "metadata": {},
   "outputs": [],
   "source": [
    "joined = district_shapes.merge(\n",
    "    df_map, how=\"inner\", left_on=\"DISTRICT\", right_on=\"a2_ct_dist\")"
   ]
  },
  {
   "cell_type": "code",
   "execution_count": null,
   "id": "a2352ae8-f207-44cc-b6ad-fcde434439ea",
   "metadata": {},
   "outputs": [],
   "source": [
    "joined.sample()"
   ]
  },
  {
   "cell_type": "code",
   "execution_count": null,
   "id": "7537fca5-99c2-4628-93a5-3844e7e466eb",
   "metadata": {},
   "outputs": [],
   "source": [
    "sum_app = (joined>>group_by(_.DISTRICT, _.awarded)\n",
    " >>summarize(n_applications = _.project_app_id.nunique()))"
   ]
  },
  {
   "cell_type": "code",
   "execution_count": null,
   "id": "95085f79-9040-4a90-bff2-4304c1a1f212",
   "metadata": {},
   "outputs": [],
   "source": [
    "sum_app = sum_app.merge(\n",
    "    district_shapes, how=\"inner\", on=\"DISTRICT\")"
   ]
  },
  {
   "cell_type": "code",
   "execution_count": null,
   "id": "46da869b-8f21-4079-90bb-ebc3476e2fc5",
   "metadata": {},
   "outputs": [],
   "source": []
  },
  {
   "cell_type": "markdown",
   "id": "392c3df4-82a5-43f0-81aa-10720aed719d",
   "metadata": {},
   "source": [
    "## Layering"
   ]
  },
  {
   "cell_type": "code",
   "execution_count": null,
   "id": "3f05ae48-1474-4926-9a09-91676708a5a6",
   "metadata": {},
   "outputs": [],
   "source": [
    "#base = district_shapes.plot(color='white', edgecolor='black')\n",
    "\n",
    "#df_map.plot(ax=base, marker='o', color='blue', markersize=5)"
   ]
  },
  {
   "cell_type": "code",
   "execution_count": null,
   "id": "ec90a046-27c2-4b88-b4d2-8c7f4be0d278",
   "metadata": {},
   "outputs": [],
   "source": []
  }
 ],
 "metadata": {
  "kernelspec": {
   "display_name": "Python 3 (ipykernel)",
   "language": "python",
   "name": "python3"
  },
  "language_info": {
   "codemirror_mode": {
    "name": "ipython",
    "version": 3
   },
   "file_extension": ".py",
   "mimetype": "text/x-python",
   "name": "python",
   "nbconvert_exporter": "python",
   "pygments_lexer": "ipython3",
   "version": "3.10.6"
  },
  "widgets": {
   "application/vnd.jupyter.widget-state+json": {
    "state": {},
    "version_major": 2,
    "version_minor": 0
   }
  }
 },
 "nbformat": 4,
 "nbformat_minor": 5
}
