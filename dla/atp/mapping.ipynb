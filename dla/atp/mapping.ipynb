{
 "cells": [
  {
   "cell_type": "markdown",
   "id": "25bd41d4-3f54-47a8-b277-b5b5784dd20e",
   "metadata": {
    "tags": []
   },
   "source": [
    "# Map Dev for Reports"
   ]
  },
  {
   "cell_type": "code",
   "execution_count": null,
   "id": "59e83bd2-4031-480e-b043-4d3b3cae3327",
   "metadata": {},
   "outputs": [],
   "source": [
    "import intake\n",
    "import numpy as np\n",
    "import pandas as pd\n",
    "import geopandas as gpd\n",
    "from calitp import to_snakecase\n",
    "from dla_utils import _dla_utils\n",
    "from IPython.display import HTML, Markdown\n",
    "from siuba import *\n",
    "from shared_utils import geography_utils\n",
    "\n",
    "import altair as alt\n",
    "\n",
    "import _data_cleaning\n",
    "import _report_utils"
   ]
  },
  {
   "cell_type": "code",
   "execution_count": null,
   "id": "4ef7b460-577f-4307-beac-2e7a58fa2e2c",
   "metadata": {},
   "outputs": [],
   "source": [
    "GCS_FILE_PATH = 'gs://calitp-analytics-data/data-analyses/dla/atp/'\n"
   ]
  },
  {
   "cell_type": "code",
   "execution_count": null,
   "id": "48c6360c-9628-471d-b5c4-8f7b41fadfb1",
   "metadata": {},
   "outputs": [],
   "source": [
    "df = _report_utils.read_in_joined_data()"
   ]
  },
  {
   "cell_type": "code",
   "execution_count": null,
   "id": "f3317c25-5fea-49ec-914b-0f5bc6de90d7",
   "metadata": {},
   "outputs": [],
   "source": [
    "pd.set_option(\"display.max_columns\",500)"
   ]
  },
  {
   "cell_type": "code",
   "execution_count": null,
   "id": "6a60ebee-c1dd-4c50-9021-87e7aad11903",
   "metadata": {},
   "outputs": [],
   "source": [
    "mapsubset_cols= ['awarded','project_app_id', 'project_cycle', 'data_origin', 'geometry',\n",
    "               'a1_imp_agcy_city','a1_imp_agcy_name','a1_proj_partner_agcy', \n",
    "               'assembly_district','congressional_district','senate_district',\n",
    "              'a2_county', 'a2_ct_dist','a2_info_proj_name','a3_proj_type', 'total_atp_$', 'a2_proj_lat','a2_proj_long']"
   ]
  },
  {
   "cell_type": "code",
   "execution_count": null,
   "id": "d64f3b38-dc49-4ad3-9e4b-b140ad101559",
   "metadata": {},
   "outputs": [],
   "source": [
    "df_map = _report_utils.fix_geom_issues(df, mapsubset_cols)"
   ]
  },
  {
   "cell_type": "code",
   "execution_count": null,
   "id": "2f10531b-5c30-4da8-9436-938ae9b5b83a",
   "metadata": {},
   "outputs": [],
   "source": []
  },
  {
   "cell_type": "code",
   "execution_count": null,
   "id": "d5f44fe2-ac17-4196-89db-1dede7317686",
   "metadata": {
    "tags": []
   },
   "outputs": [],
   "source": [
    "#df_map.explore(\"data_origin\", cmap=\"tab20b\")"
   ]
  },
  {
   "cell_type": "code",
   "execution_count": null,
   "id": "54d5f218-afbb-4c70-96f9-971234e0b73c",
   "metadata": {},
   "outputs": [],
   "source": []
  },
  {
   "cell_type": "code",
   "execution_count": null,
   "id": "dba30e48-d926-4b50-9876-ac9e64f0e05a",
   "metadata": {},
   "outputs": [],
   "source": [
    "## from amanda's notebook for Project prioritization: https://github.com/cal-itp/data-analyses/blob/main/project_prioritization/_utils.py\n",
    "shapes = \"https://gis.data.ca.gov/datasets/0144574f750f4ccc88749004aca6eb0c_0.geojson?outSR=%7B%22latestWkid%22%3A3857%2C%22wkid%22%3A102100%7D\"\n",
    "district_shapes = gpd.read_file(f\"{shapes}\").to_crs(epsg=4326)   "
   ]
  },
  {
   "cell_type": "code",
   "execution_count": null,
   "id": "97a3ea5b-0359-42b2-b515-28ae0b4f13ea",
   "metadata": {},
   "outputs": [],
   "source": [
    "#district_shapes.boundary.explore()"
   ]
  },
  {
   "cell_type": "code",
   "execution_count": null,
   "id": "609d547c-b4a2-4c49-b6fb-63103ca19b05",
   "metadata": {},
   "outputs": [],
   "source": [
    "## county geography\n",
    "\n",
    "shapes2 = \"https://opendata.arcgis.com/datasets/8713ced9b78a4abb97dc130a691a8695_0.geojson\"\n",
    "county_shapes = gpd.read_file(f\"{shapes2}\").to_crs(epsg=4326)"
   ]
  },
  {
   "cell_type": "code",
   "execution_count": null,
   "id": "7c1a96c3-a1d4-4d09-ba9c-2b5e33537e97",
   "metadata": {},
   "outputs": [],
   "source": [
    "#county_shapes.boundary.explore()"
   ]
  },
  {
   "cell_type": "code",
   "execution_count": null,
   "id": "6328cba9-337b-4055-bfbc-c2df933f2b03",
   "metadata": {},
   "outputs": [],
   "source": [
    "df_map = df_map.drop(columns='index_right')"
   ]
  },
  {
   "cell_type": "markdown",
   "id": "b54c4fa5-f291-4eec-af9c-5a802a804ad5",
   "metadata": {},
   "source": [
    "## Joining District and Points"
   ]
  },
  {
   "cell_type": "code",
   "execution_count": null,
   "id": "fd39e091-3895-4d19-b651-8837c487bfe3",
   "metadata": {},
   "outputs": [],
   "source": [
    "def nunique_by_geography(df,\n",
    "                         geodf,\n",
    "                         geog_col,\n",
    "                         agg_col,\n",
    "                         geodf_mergeon_col):\n",
    "    \n",
    "    sum_df = (df>>group_by(_[geog_col])\n",
    "              >>summarize(n_unique = _[agg_col].nunique()))\n",
    "    \n",
    "    joined_df = geodf.merge(sum_df, \n",
    "                            how='inner',\n",
    "                            left_on=[geodf_mergeon_col],\n",
    "                            right_on=[geog_col])\n",
    "    \n",
    "    return joined_df\n",
    "              "
   ]
  },
  {
   "cell_type": "code",
   "execution_count": null,
   "id": "bd9bb1c8-6457-4648-83cf-e9d7a1ddc232",
   "metadata": {},
   "outputs": [],
   "source": [
    "by_dist = nunique_by_geography(df_map,\n",
    "                         district_shapes,\n",
    "                         'a2_ct_dist',\n",
    "                         'project_app_id',\n",
    "                         'DISTRICT')"
   ]
  },
  {
   "cell_type": "code",
   "execution_count": null,
   "id": "4ac119fb-f477-4b6d-9ddd-f0e7b37d934a",
   "metadata": {},
   "outputs": [],
   "source": [
    "#by_dist.explore('n_applications', cmap='Oranges', highlight=True, legend=True)"
   ]
  },
  {
   "cell_type": "code",
   "execution_count": null,
   "id": "ea743083-6482-4ffd-977b-f915bc8ae666",
   "metadata": {},
   "outputs": [],
   "source": []
  },
  {
   "cell_type": "code",
   "execution_count": null,
   "id": "daeefdec-df56-4d4f-837d-d4d34ff8c884",
   "metadata": {},
   "outputs": [],
   "source": []
  },
  {
   "cell_type": "code",
   "execution_count": null,
   "id": "46da869b-8f21-4079-90bb-ebc3476e2fc5",
   "metadata": {},
   "outputs": [],
   "source": []
  },
  {
   "cell_type": "markdown",
   "id": "392c3df4-82a5-43f0-81aa-10720aed719d",
   "metadata": {},
   "source": [
    "## Layering"
   ]
  },
  {
   "cell_type": "code",
   "execution_count": null,
   "id": "3f05ae48-1474-4926-9a09-91676708a5a6",
   "metadata": {},
   "outputs": [],
   "source": [
    "#base = district_shapes.plot(color='white', edgecolor='black')\n",
    "\n",
    "#df_map.plot(ax=base, marker='o', color='blue', markersize=5)"
   ]
  },
  {
   "cell_type": "code",
   "execution_count": null,
   "id": "abf9e8ce-6964-4f53-a966-cdfbeb52b385",
   "metadata": {
    "tags": []
   },
   "outputs": [],
   "source": [
    "# base = district_shapes.plot(figsize=(8,8), color='white', edgecolor='black')\n",
    "# layered = df_map.plot(ax=base, marker='o', legend='true', column='data_origin', markersize=10)\n",
    "# layered.set_title('ATP Applications',fontsize=18)\n",
    "\n",
    "# layered"
   ]
  },
  {
   "cell_type": "code",
   "execution_count": null,
   "id": "60672c66-1133-4acf-965c-c8a0db86ac59",
   "metadata": {},
   "outputs": [],
   "source": []
  },
  {
   "cell_type": "code",
   "execution_count": null,
   "id": "c43a7986-8444-40c3-9e38-8e95ea62d163",
   "metadata": {},
   "outputs": [],
   "source": []
  },
  {
   "cell_type": "code",
   "execution_count": null,
   "id": "adb82d5b-24d7-4ca8-b62c-b52caef7787c",
   "metadata": {},
   "outputs": [],
   "source": [
    "import folium"
   ]
  },
  {
   "cell_type": "code",
   "execution_count": null,
   "id": "d5296604-ab09-4530-bff3-b4fa0c312989",
   "metadata": {},
   "outputs": [],
   "source": [
    "## following map works, commenting out to save"
   ]
  },
  {
   "cell_type": "code",
   "execution_count": null,
   "id": "29070375-e4b7-42bb-8612-1afbc3c7de00",
   "metadata": {},
   "outputs": [],
   "source": [
    "df_map.sample()"
   ]
  },
  {
   "cell_type": "code",
   "execution_count": null,
   "id": "3f45afcf-0184-42b6-9bdf-27717eec4d74",
   "metadata": {},
   "outputs": [],
   "source": [
    "m = by_dist.explore(\n",
    "     column=\"n_unique\", \n",
    "     legend=True,\n",
    "    color = 'oranges',\n",
    "     legend_kwds=dict(colorbar=True),\n",
    "     tooltip=[\"DISTRICT\", \"n_unique\"], \n",
    "     name=\"Number of Applications by County\")\n",
    "\n",
    "df_map.explore(\n",
    "     m=m, \n",
    "     color=\"data_origin\", \n",
    "     marker_kwds=dict(radius=3, fill=True),\n",
    "     tooltip=[\"data_origin\", \"project_cycle\", \"a1_imp_agcy_city\", \"a2_info_proj_name\"], \n",
    "     tooltip_kwds=dict(labels=True),\n",
    "     name=\"Project Locations\"\n",
    ")\n",
    "\n",
    "folium.TileLayer('Stamen Toner', control=True).add_to(m) \n",
    "folium.LayerControl().add_to(m)\n",
    "\n",
    "m"
   ]
  },
  {
   "cell_type": "code",
   "execution_count": null,
   "id": "6a2b5a33-e025-4f1d-a9ef-d36f7736c008",
   "metadata": {},
   "outputs": [],
   "source": [
    "# points = df_map.explore(\n",
    "#      column=\"data_origin\", \n",
    "#      legend=True,\n",
    "#      legend_kwds=dict(colorbar=False),\n",
    "#      name=\"Application Result\",\n",
    "#      tooltip=[\"data_origin\", \"project_cycle\", \"a1_imp_agcy_city\", \"a2_info_proj_name\"], \n",
    "#      tooltip_kwds=dict(labels=False), \n",
    "# )"
   ]
  },
  {
   "cell_type": "code",
   "execution_count": null,
   "id": "b54bde18-cebc-4035-8e45-3dda25af2798",
   "metadata": {},
   "outputs": [],
   "source": [
    "# points"
   ]
  },
  {
   "cell_type": "code",
   "execution_count": null,
   "id": "b596fe2e-0c07-47ce-b9e2-41a66cc64b7a",
   "metadata": {},
   "outputs": [],
   "source": []
  },
  {
   "cell_type": "code",
   "execution_count": null,
   "id": "2fa116bb-f05d-416e-8128-e0dee1e8055b",
   "metadata": {},
   "outputs": [],
   "source": []
  },
  {
   "cell_type": "markdown",
   "id": "e80310e4-e8da-4e3d-aa0d-5e841e05bdbe",
   "metadata": {},
   "source": [
    "### By Congressional Dist"
   ]
  },
  {
   "cell_type": "code",
   "execution_count": null,
   "id": "6ddf4bbd-c1f7-4b6c-8c76-a66f25ee3db6",
   "metadata": {},
   "outputs": [],
   "source": [
    "df_map.sample()"
   ]
  },
  {
   "cell_type": "code",
   "execution_count": null,
   "id": "1562839e-8188-4ed9-9651-cdb8d618c94d",
   "metadata": {},
   "outputs": [],
   "source": [
    "shapes = \"https://gis.data.ca.gov/datasets/f173bfa16514414ab6130c248fdd9d28_2.geojson\"\n",
    "congesional_shapes = gpd.read_file(f\"{shapes}\").to_crs(epsg=4326)   \n"
   ]
  },
  {
   "cell_type": "code",
   "execution_count": null,
   "id": "098caef3-d2f3-4f6b-be5b-180db265f379",
   "metadata": {},
   "outputs": [],
   "source": [
    "## make sure it ran- it did\n",
    "#congesional_shapes.explore()"
   ]
  },
  {
   "cell_type": "code",
   "execution_count": null,
   "id": "73b11452-b212-4965-ba05-803e333367f6",
   "metadata": {},
   "outputs": [],
   "source": [
    "df_map.congressional_district.value_counts()"
   ]
  },
  {
   "cell_type": "code",
   "execution_count": null,
   "id": "d040c452-4551-4c28-8bf8-f791aa031db4",
   "metadata": {
    "tags": []
   },
   "outputs": [],
   "source": [
    "df_map>>filter(_.congressional_district.str.contains(','))"
   ]
  },
  {
   "cell_type": "code",
   "execution_count": null,
   "id": "df32e1a0-84f2-4086-871f-e26e1c3119d0",
   "metadata": {},
   "outputs": [],
   "source": [
    "districts = df_map>>select(_.project_app_id, _.project_cycle, _.data_origin, _.a1_imp_agcy_city,_.assembly_district, _.congressional_district, _.senate_district) "
   ]
  },
  {
   "cell_type": "code",
   "execution_count": null,
   "id": "c1815817-111e-436a-8cfd-7350c4d59916",
   "metadata": {},
   "outputs": [],
   "source": [
    "districts = districts.replace('Needs Manual Assistance', 0)"
   ]
  },
  {
   "cell_type": "code",
   "execution_count": null,
   "id": "93b8c5bc-dbff-4a41-975d-12df4ff1a07a",
   "metadata": {},
   "outputs": [],
   "source": [
    "districts"
   ]
  },
  {
   "cell_type": "code",
   "execution_count": null,
   "id": "a516d938-05c1-4172-9f26-3b0fc14af507",
   "metadata": {},
   "outputs": [],
   "source": []
  },
  {
   "cell_type": "code",
   "execution_count": null,
   "id": "829fa8bb-d4cb-4dc0-8766-02174a23989d",
   "metadata": {},
   "outputs": [],
   "source": [
    "# cols = ['assembly_district', 'congressional_district', 'senate_district']\n",
    "# for col in cols:\n",
    "#     pd.concat([districts[['project_app_id']], districts[col].str.split(', ', expand=True)], axis=1)"
   ]
  },
  {
   "cell_type": "code",
   "execution_count": null,
   "id": "36679d14-2daf-4777-9bae-addf16b65225",
   "metadata": {},
   "outputs": [],
   "source": [
    "#assembly_split = pd.concat([districts[['project_app_id','project_cycle','data_origin','a1_imp_agcy_city']], districts['assembly_district'].str.split(', ', expand=True)], axis=1)"
   ]
  },
  {
   "cell_type": "code",
   "execution_count": null,
   "id": "e3c1a853-b887-4734-a048-ba91433cc7a4",
   "metadata": {},
   "outputs": [],
   "source": [
    "## following does not take into account tany single values\n",
    "#districts[['assembly_district_1', 'assembly_district_2', 'assembly_district_3']] = districts['assembly_district'].str.split(', ', expand=True)"
   ]
  },
  {
   "cell_type": "code",
   "execution_count": null,
   "id": "3010f0da-d300-46ee-bfd2-6614c26640cc",
   "metadata": {},
   "outputs": [],
   "source": [
    "districts = districts.astype({'assembly_district':'str',\n",
    "                              'congressional_district':'str',\n",
    "                              'senate_district':'str'})"
   ]
  },
  {
   "cell_type": "code",
   "execution_count": null,
   "id": "997ee019-7d8c-41cd-bba2-4926b0edf64f",
   "metadata": {},
   "outputs": [],
   "source": [
    "#districts.explode('senate_district')"
   ]
  },
  {
   "cell_type": "code",
   "execution_count": null,
   "id": "6bf2404b-8f60-42b6-ab30-bac2bcd9fca9",
   "metadata": {},
   "outputs": [],
   "source": []
  },
  {
   "cell_type": "code",
   "execution_count": null,
   "id": "13ec8f4b-b485-4a85-82b6-f6cd0b6b02cf",
   "metadata": {},
   "outputs": [],
   "source": [
    "districts[['assembly_district_1', 'assembly_district_2', 'assembly_district_3']] = districts['assembly_district'].str.split(', ', expand=True)"
   ]
  },
  {
   "cell_type": "code",
   "execution_count": null,
   "id": "95889406-cb6e-4122-9e6d-040ee25dc0c3",
   "metadata": {},
   "outputs": [],
   "source": [
    "districts[['congressional_district_1', 'congressional_district_2', 'congressional_district_3']] = districts['congressional_district'].str.split(', ', expand=True)"
   ]
  },
  {
   "cell_type": "code",
   "execution_count": null,
   "id": "18573942-8518-47d4-9105-6db645f565e7",
   "metadata": {},
   "outputs": [],
   "source": [
    "districts[['senate_district_1', 'senate_district_2', 'senate_district_3']] = districts['senate_district'].str.split(', ', expand=True)"
   ]
  },
  {
   "cell_type": "code",
   "execution_count": null,
   "id": "dc06df87-38c1-4251-a427-9946ae4ab76e",
   "metadata": {},
   "outputs": [],
   "source": [
    "congressional_dist_counts = (districts \n",
    " >> gather('measure', 'congressional_district2',_.congressional_district_1, _.congressional_district_2, _.congressional_district_3) \n",
    " >> select(_.project_app_id, _.project_cycle, _.data_origin, _.a1_imp_agcy_city, _.congressional_district2)\n",
    " >> filter(_.congressional_district2.notnull()))\n"
   ]
  },
  {
   "cell_type": "code",
   "execution_count": null,
   "id": "06ec87fe-c249-462e-b9f3-b8b954fc8ddb",
   "metadata": {},
   "outputs": [],
   "source": [
    "congressional_dist_counts"
   ]
  },
  {
   "cell_type": "code",
   "execution_count": null,
   "id": "b1007626-d498-48b3-93b5-cccb38aea638",
   "metadata": {},
   "outputs": [],
   "source": []
  },
  {
   "cell_type": "code",
   "execution_count": null,
   "id": "edc021c9-8699-4475-b44f-478abb428bba",
   "metadata": {},
   "outputs": [],
   "source": []
  },
  {
   "cell_type": "code",
   "execution_count": null,
   "id": "8042d733-2567-463f-ad18-d3134ce3e4e6",
   "metadata": {},
   "outputs": [],
   "source": [
    "congressional_dist = nunique_by_geography(congressional_dist_counts,\n",
    "                         congesional_shapes,\n",
    "                         'congressional_district2',\n",
    "                         'project_app_id',\n",
    "                         'DISTRICT')"
   ]
  },
  {
   "cell_type": "code",
   "execution_count": null,
   "id": "2106fe8b-103d-4845-baae-ef4d4ca90317",
   "metadata": {},
   "outputs": [],
   "source": [
    "congressional_dist.sample()"
   ]
  },
  {
   "cell_type": "code",
   "execution_count": null,
   "id": "7ac29321-6c66-4d88-9161-4f9d1da4e08d",
   "metadata": {},
   "outputs": [],
   "source": [
    "# congressional_dist.explore('n_unique',\n",
    "#                            cmap='Oranges', highlight=True, legend=True)"
   ]
  },
  {
   "cell_type": "code",
   "execution_count": null,
   "id": "8763efa7-3685-4a50-96c4-b80f7245f4fd",
   "metadata": {},
   "outputs": [],
   "source": [
    "#looks like some projects are missing in the join."
   ]
  },
  {
   "cell_type": "code",
   "execution_count": null,
   "id": "29413b82-ea38-4278-b1b8-2864e2b7c4e3",
   "metadata": {},
   "outputs": [],
   "source": []
  },
  {
   "cell_type": "code",
   "execution_count": null,
   "id": "b824d467-efcb-4c10-ba3a-37df96d5447c",
   "metadata": {},
   "outputs": [],
   "source": []
  },
  {
   "cell_type": "markdown",
   "id": "782fa9c4-f559-4af5-94ae-1781c55e5658",
   "metadata": {},
   "source": [
    "### By Senate Dist"
   ]
  },
  {
   "cell_type": "code",
   "execution_count": null,
   "id": "7846af45-298b-4531-90d1-199b161594f3",
   "metadata": {},
   "outputs": [],
   "source": [
    "shapes = \"https://gis.data.ca.gov/datasets/f173bfa16514414ab6130c248fdd9d28_1.geojson\"\n",
    "senate_shapes = gpd.read_file(f\"{shapes}\").to_crs(epsg=4326)   \n"
   ]
  },
  {
   "cell_type": "code",
   "execution_count": null,
   "id": "c3792807-6565-42e0-8e38-859020e449c8",
   "metadata": {},
   "outputs": [],
   "source": [
    "## make sure it ran- it did\n",
    "#senate_shapes.explore()"
   ]
  },
  {
   "cell_type": "code",
   "execution_count": null,
   "id": "5ef52e14-ba41-44d5-a08c-cea41c262118",
   "metadata": {},
   "outputs": [],
   "source": [
    "# nunique_by_geography(df_map,\n",
    "#                          senate_shapes,\n",
    "#                          'a2_ct_dist',\n",
    "#                          'project_app_id',\n",
    "#                          'DISTRICT')"
   ]
  },
  {
   "cell_type": "code",
   "execution_count": null,
   "id": "bb8b0869-de79-42a3-b335-34be01697ed8",
   "metadata": {},
   "outputs": [],
   "source": [
    "senate_shapes.sample()"
   ]
  },
  {
   "cell_type": "code",
   "execution_count": null,
   "id": "d97382cd-0c38-403e-9763-abe6cd431ab9",
   "metadata": {},
   "outputs": [],
   "source": []
  },
  {
   "cell_type": "code",
   "execution_count": null,
   "id": "f25ae9bc-18d3-4397-a7b3-eb63c6352573",
   "metadata": {},
   "outputs": [],
   "source": []
  },
  {
   "cell_type": "markdown",
   "id": "48ffdeb2-ffbc-4d6a-a25b-f9aa4a3dd841",
   "metadata": {},
   "source": [
    "### By Assembly Dist"
   ]
  },
  {
   "cell_type": "code",
   "execution_count": null,
   "id": "8d4a56a8-83c8-4de7-b5cc-a31b0b34fb79",
   "metadata": {},
   "outputs": [],
   "source": [
    "shapes = \"https://gis.data.ca.gov/datasets/f173bfa16514414ab6130c248fdd9d28_0.geojson\"\n",
    "assembly_shapes = gpd.read_file(f\"{shapes}\").to_crs(epsg=4326)   "
   ]
  },
  {
   "cell_type": "code",
   "execution_count": null,
   "id": "00d45b3b-5f6f-4575-bd8d-f3efd1277e82",
   "metadata": {},
   "outputs": [],
   "source": [
    "## make sure it ran- it did\n",
    "#assembly_shapes.explore()"
   ]
  },
  {
   "cell_type": "code",
   "execution_count": null,
   "id": "d496467b-fd4d-46b2-9b4e-8531f391bbbe",
   "metadata": {},
   "outputs": [],
   "source": []
  },
  {
   "cell_type": "code",
   "execution_count": null,
   "id": "5c7171e2-bca0-4776-8da0-da57276e5fff",
   "metadata": {},
   "outputs": [],
   "source": []
  },
  {
   "cell_type": "code",
   "execution_count": null,
   "id": "ecb04588-a7bb-4741-a1a0-1866158f9424",
   "metadata": {},
   "outputs": [],
   "source": []
  },
  {
   "cell_type": "code",
   "execution_count": null,
   "id": "ec90a046-27c2-4b88-b4d2-8c7f4be0d278",
   "metadata": {},
   "outputs": [],
   "source": []
  }
 ],
 "metadata": {
  "kernelspec": {
   "display_name": "Python 3 (ipykernel)",
   "language": "python",
   "name": "python3"
  },
  "language_info": {
   "codemirror_mode": {
    "name": "ipython",
    "version": 3
   },
   "file_extension": ".py",
   "mimetype": "text/x-python",
   "name": "python",
   "nbconvert_exporter": "python",
   "pygments_lexer": "ipython3",
   "version": "3.10.6"
  },
  "widgets": {
   "application/vnd.jupyter.widget-state+json": {
    "state": {},
    "version_major": 2,
    "version_minor": 0
   }
  }
 },
 "nbformat": 4,
 "nbformat_minor": 5
}
