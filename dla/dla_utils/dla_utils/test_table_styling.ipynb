{
 "cells": [
  {
   "cell_type": "markdown",
   "id": "ada421fc-6237-4342-b4e9-e8e1e5ead1fe",
   "metadata": {},
   "source": [
    "# Notebook for Creating Function for Table Styling & Testing "
   ]
  },
  {
   "cell_type": "code",
   "execution_count": 1,
   "id": "294ed9ae-9c23-4ffe-ae35-bad59e56e1ba",
   "metadata": {},
   "outputs": [
    {
     "name": "stderr",
     "output_type": "stream",
     "text": [
      "/opt/conda/lib/python3.9/site-packages/geopandas/_compat.py:111: UserWarning: The Shapely GEOS version (3.10.2-CAPI-1.16.0) is incompatible with the GEOS version PyGEOS was compiled with (3.10.1-CAPI-1.16.0). Conversions between both will be slow.\n",
      "  warnings.warn(\n",
      "/opt/conda/lib/python3.9/site-packages/google/auth/_default.py:79: UserWarning: Your application has authenticated using end user credentials from Google Cloud SDK without a quota project. You might receive a \"quota exceeded\" or \"API not enabled\" error. We recommend you rerun `gcloud auth application-default login` and make sure a quota project is added. Or you can use service accounts instead. For more information about service accounts, see https://cloud.google.com/docs/authentication/\n",
      "/opt/conda/lib/python3.9/site-packages/google/auth/_default.py:79: UserWarning: Your application has authenticated using end user credentials from Google Cloud SDK without a quota project. You might receive a \"quota exceeded\" or \"API not enabled\" error. We recommend you rerun `gcloud auth application-default login` and make sure a quota project is added. Or you can use service accounts instead. For more information about service accounts, see https://cloud.google.com/docs/authentication/\n",
      "/opt/conda/lib/python3.9/site-packages/google/auth/_default.py:79: UserWarning: Your application has authenticated using end user credentials from Google Cloud SDK without a quota project. You might receive a \"quota exceeded\" or \"API not enabled\" error. We recommend you rerun `gcloud auth application-default login` and make sure a quota project is added. Or you can use service accounts instead. For more information about service accounts, see https://cloud.google.com/docs/authentication/\n"
     ]
    }
   ],
   "source": [
    "from dla_utils import _dla_utils\n",
    "import pandas as pd\n",
    "import numpy as np\n",
    "from siuba import *\n",
    "\n",
    "from IPython.display import display, Markdown, HTML"
   ]
  },
  {
   "cell_type": "code",
   "execution_count": 2,
   "id": "a2e7fa72-1f3f-479a-9f14-c24737b7b5aa",
   "metadata": {},
   "outputs": [],
   "source": [
    "#using dla df as data example\n",
    "df= pd.read_parquet(\"gs://calitp-analytics-data/data-analyses/dla/e-76Obligated/dla_df.parquet\")"
   ]
  },
  {
   "cell_type": "code",
   "execution_count": 3,
   "id": "f1854fa0-57aa-4a52-afb1-5b43ee0f6ab7",
   "metadata": {},
   "outputs": [
    {
     "data": {
      "text/html": [
       "<div>\n",
       "<style scoped>\n",
       "    .dataframe tbody tr th:only-of-type {\n",
       "        vertical-align: middle;\n",
       "    }\n",
       "\n",
       "    .dataframe tbody tr th {\n",
       "        vertical-align: top;\n",
       "    }\n",
       "\n",
       "    .dataframe thead th {\n",
       "        text-align: right;\n",
       "    }\n",
       "</style>\n",
       "<table border=\"1\" class=\"dataframe\">\n",
       "  <thead>\n",
       "    <tr style=\"text-align: right;\">\n",
       "      <th></th>\n",
       "      <th>location</th>\n",
       "      <th>prefix</th>\n",
       "      <th>project_no</th>\n",
       "      <th>agency</th>\n",
       "      <th>prepared_date</th>\n",
       "      <th>submit__to_hq_date</th>\n",
       "      <th>hq_review_date</th>\n",
       "      <th>submit_to_fhwa_date</th>\n",
       "      <th>to_fmis_date</th>\n",
       "      <th>fed_requested</th>\n",
       "      <th>...</th>\n",
       "      <th>adjusted_ac_requested</th>\n",
       "      <th>obligation_cat</th>\n",
       "      <th>active_transp</th>\n",
       "      <th>transit</th>\n",
       "      <th>bridge</th>\n",
       "      <th>street</th>\n",
       "      <th>freeway</th>\n",
       "      <th>infra_resiliency_er</th>\n",
       "      <th>congestion_relief</th>\n",
       "      <th>work_categories</th>\n",
       "    </tr>\n",
       "  </thead>\n",
       "  <tbody>\n",
       "    <tr>\n",
       "      <th>19968</th>\n",
       "      <td>Obligated</td>\n",
       "      <td>HSIPL</td>\n",
       "      <td>5466(023)</td>\n",
       "      <td>Yucca Valley</td>\n",
       "      <td>2021-06-23</td>\n",
       "      <td>2021-08-20</td>\n",
       "      <td>2021-09-01</td>\n",
       "      <td>2021-09-01</td>\n",
       "      <td>2021-09-17</td>\n",
       "      <td>47,122.72</td>\n",
       "      <td>...</td>\n",
       "      <td>0.00</td>\n",
       "      <td>Medium</td>\n",
       "      <td>0</td>\n",
       "      <td>0</td>\n",
       "      <td>0</td>\n",
       "      <td>1</td>\n",
       "      <td>0</td>\n",
       "      <td>0</td>\n",
       "      <td>0</td>\n",
       "      <td>1</td>\n",
       "    </tr>\n",
       "  </tbody>\n",
       "</table>\n",
       "<p>1 rows × 42 columns</p>\n",
       "</div>"
      ],
      "text/plain": [
       "        location prefix project_no        agency prepared_date  \\\n",
       "19968  Obligated  HSIPL  5466(023)  Yucca Valley    2021-06-23   \n",
       "\n",
       "      submit__to_hq_date hq_review_date submit_to_fhwa_date to_fmis_date  \\\n",
       "19968         2021-08-20     2021-09-01          2021-09-01   2021-09-17   \n",
       "\n",
       "       fed_requested  ...  adjusted_ac_requested  obligation_cat  \\\n",
       "19968      47,122.72  ...                   0.00          Medium   \n",
       "\n",
       "      active_transp transit  bridge street  freeway  infra_resiliency_er  \\\n",
       "19968             0       0       0      1        0                    0   \n",
       "\n",
       "       congestion_relief work_categories  \n",
       "19968                  0               1  \n",
       "\n",
       "[1 rows x 42 columns]"
      ]
     },
     "execution_count": 3,
     "metadata": {},
     "output_type": "execute_result"
    }
   ],
   "source": [
    "df.sample()"
   ]
  },
  {
   "cell_type": "code",
   "execution_count": 4,
   "id": "5dedc7c1-f953-4a8d-ab2b-13bf6b361aa6",
   "metadata": {},
   "outputs": [],
   "source": [
    "#create new df using filtered data\n",
    "counts =  (_dla_utils.get_nunique(df, \"primary_agency_name\", \"prefix\")).head(5)"
   ]
  },
  {
   "cell_type": "code",
   "execution_count": 5,
   "id": "5c97127c-0fd8-4207-a6cd-317890100ff4",
   "metadata": {
    "tags": []
   },
   "outputs": [
    {
     "data": {
      "text/html": [
       "<div>\n",
       "<style scoped>\n",
       "    .dataframe tbody tr th:only-of-type {\n",
       "        vertical-align: middle;\n",
       "    }\n",
       "\n",
       "    .dataframe tbody tr th {\n",
       "        vertical-align: top;\n",
       "    }\n",
       "\n",
       "    .dataframe thead th {\n",
       "        text-align: right;\n",
       "    }\n",
       "</style>\n",
       "<table border=\"1\" class=\"dataframe\">\n",
       "  <thead>\n",
       "    <tr style=\"text-align: right;\">\n",
       "      <th></th>\n",
       "      <th>prefix</th>\n",
       "      <th>n</th>\n",
       "    </tr>\n",
       "  </thead>\n",
       "  <tbody>\n",
       "    <tr>\n",
       "      <th>312</th>\n",
       "      <td>STPL</td>\n",
       "      <td>319</td>\n",
       "    </tr>\n",
       "    <tr>\n",
       "      <th>213</th>\n",
       "      <td>HSIPL</td>\n",
       "      <td>289</td>\n",
       "    </tr>\n",
       "    <tr>\n",
       "      <th>70</th>\n",
       "      <td>CML</td>\n",
       "      <td>287</td>\n",
       "    </tr>\n",
       "    <tr>\n",
       "      <th>275</th>\n",
       "      <td>RPSTPL</td>\n",
       "      <td>148</td>\n",
       "    </tr>\n",
       "    <tr>\n",
       "      <th>47</th>\n",
       "      <td>BRLS</td>\n",
       "      <td>127</td>\n",
       "    </tr>\n",
       "  </tbody>\n",
       "</table>\n",
       "</div>"
      ],
      "text/plain": [
       "     prefix    n\n",
       "312    STPL  319\n",
       "213   HSIPL  289\n",
       "70      CML  287\n",
       "275  RPSTPL  148\n",
       "47     BRLS  127"
      ]
     },
     "execution_count": 5,
     "metadata": {},
     "output_type": "execute_result"
    }
   ],
   "source": [
    "counts"
   ]
  },
  {
   "cell_type": "code",
   "execution_count": 6,
   "id": "d843bb42-90ed-495d-a49c-9ca9105890f2",
   "metadata": {
    "tags": []
   },
   "outputs": [
    {
     "data": {
      "text/html": [
       "<table border=\"1\" class=\"dataframe\">\n",
       "  <thead>\n",
       "    <tr style=\"text-align: right;\">\n",
       "      <th>Prefix Code</th>\n",
       "      <th>Count</th>\n",
       "    </tr>\n",
       "  </thead>\n",
       "  <tbody>\n",
       "    <tr>\n",
       "      <td>STPL</td>\n",
       "      <td>319</td>\n",
       "    </tr>\n",
       "    <tr>\n",
       "      <td>HSIPL</td>\n",
       "      <td>289</td>\n",
       "    </tr>\n",
       "    <tr>\n",
       "      <td>CML</td>\n",
       "      <td>287</td>\n",
       "    </tr>\n",
       "    <tr>\n",
       "      <td>RPSTPL</td>\n",
       "      <td>148</td>\n",
       "    </tr>\n",
       "    <tr>\n",
       "      <td>BRLS</td>\n",
       "      <td>127</td>\n",
       "    </tr>\n",
       "  </tbody>\n",
       "</table>"
      ],
      "text/plain": [
       "<IPython.core.display.HTML object>"
      ]
     },
     "metadata": {},
     "output_type": "display_data"
    }
   ],
   "source": [
    "# we want to print this subset df prettier.\n",
    "counts2 = counts.rename(columns={\"prefix\": \"Prefix Code\", \"n\": \"Count\"})\n",
    "display(HTML(counts2.to_html(index=False)))"
   ]
  },
  {
   "cell_type": "code",
   "execution_count": 7,
   "id": "9e16d245-393b-4fb5-97e8-07019b821419",
   "metadata": {},
   "outputs": [],
   "source": [
    "#adding to labeling\n",
    "def labeling(word):\n",
    "    LABEL_DICT = {\n",
    "        \"dist\": \"District\",\n",
    "        \"nunique\": \"Number of Unique\",\n",
    "        \"n\":\"Count\",\n",
    "        \"name_NTD_Airtable\":\"Organization Name\",\n",
    "        \"prefix\":\"Prefix Code\",\n",
    "        \"prepared_y\": \"Year\",\n",
    "        \"total_requested\": \"Total Requested\",\n",
    "        \"fed_requested\": \"Fed Requested\",\n",
    "        \"ac_requested\": \"Advance Construction Requested\",\n",
    "        \"project_no\": \"Project Number\",\n",
    "        \"active_transp\": \"Active Transportation\",\n",
    "        \"infra_resiliency_er\": \"Infrastructure & Emergency Relief\",\n",
    "        \"congestion_relief\": \"Congestion Relief\",\n",
    "        \"primary_agency_name\":\"Organization Name\",\n",
    "        \"name_NTD_Airtable\":\"Organization Name\"\n",
    "    }\n",
    "        \n",
    "    if (word == \"mpo\") or (word == \"rtpa\"):\n",
    "        word = word.upper()\n",
    "    elif word in LABEL_DICT.keys():\n",
    "        word = LABEL_DICT[word]\n",
    "    else:\n",
    "        #word = word.replace(\"n_\", \"Number of \").title()\n",
    "        word = word.replace(\"unique_\", \"Number of Unique \").title()\n",
    "        word = word.replace(\"_\", \" \").title()\n",
    "\n",
    "    return word"
   ]
  },
  {
   "cell_type": "code",
   "execution_count": 8,
   "id": "9a164bdc-a3d3-4896-abb5-1a2a3bc080f7",
   "metadata": {},
   "outputs": [],
   "source": [
    "def pretify_tables(df):\n",
    "    df = df.rename(columns = labeling)\n",
    "    display(HTML(df.to_html(index=False)))"
   ]
  },
  {
   "cell_type": "code",
   "execution_count": 9,
   "id": "a1eee736-8bcb-41a5-9410-f433278f83b3",
   "metadata": {},
   "outputs": [
    {
     "data": {
      "text/html": [
       "<table border=\"1\" class=\"dataframe\">\n",
       "  <thead>\n",
       "    <tr style=\"text-align: right;\">\n",
       "      <th>Prefix Code</th>\n",
       "      <th>Count</th>\n",
       "    </tr>\n",
       "  </thead>\n",
       "  <tbody>\n",
       "    <tr>\n",
       "      <td>STPL</td>\n",
       "      <td>319</td>\n",
       "    </tr>\n",
       "    <tr>\n",
       "      <td>HSIPL</td>\n",
       "      <td>289</td>\n",
       "    </tr>\n",
       "    <tr>\n",
       "      <td>CML</td>\n",
       "      <td>287</td>\n",
       "    </tr>\n",
       "    <tr>\n",
       "      <td>RPSTPL</td>\n",
       "      <td>148</td>\n",
       "    </tr>\n",
       "    <tr>\n",
       "      <td>BRLS</td>\n",
       "      <td>127</td>\n",
       "    </tr>\n",
       "  </tbody>\n",
       "</table>"
      ],
      "text/plain": [
       "<IPython.core.display.HTML object>"
      ]
     },
     "metadata": {},
     "output_type": "display_data"
    }
   ],
   "source": [
    "pretify_tables(counts)"
   ]
  },
  {
   "cell_type": "code",
   "execution_count": 11,
   "id": "5a0b24d5-604e-4cc4-8971-46393abf3a9e",
   "metadata": {},
   "outputs": [
    {
     "data": {
      "application/vnd.jupyter.widget-view+json": {
       "model_id": "1a0e2940ca5c464a8d7bd000231572b1",
       "version_major": 2,
       "version_minor": 0
      },
      "text/plain": [
       "HTML(value='<table border=\"1\" class=\"dataframe\">\\n  <thead>\\n    <tr style=\"text-align: right;\">\\n      <th>Pr…"
      ]
     },
     "metadata": {},
     "output_type": "display_data"
    }
   ],
   "source": [
    "_dla_utils.pretify_tables(counts)"
   ]
  },
  {
   "cell_type": "code",
   "execution_count": null,
   "id": "ea810216-ad29-4fb9-a2fe-28eff10de400",
   "metadata": {},
   "outputs": [],
   "source": []
  }
 ],
 "metadata": {
  "kernelspec": {
   "display_name": "Python 3 (ipykernel)",
   "language": "python",
   "name": "python3"
  },
  "language_info": {
   "codemirror_mode": {
    "name": "ipython",
    "version": 3
   },
   "file_extension": ".py",
   "mimetype": "text/x-python",
   "name": "python",
   "nbconvert_exporter": "python",
   "pygments_lexer": "ipython3",
   "version": "3.9.12"
  },
  "widgets": {
   "application/vnd.jupyter.widget-state+json": {
    "state": {
     "0f9f2ca8ae7f4b0087d57fa17cdfa43b": {
      "model_module": "@jupyter-widgets/base",
      "model_module_version": "1.2.0",
      "model_name": "LayoutModel",
      "state": {}
     },
     "1a0e2940ca5c464a8d7bd000231572b1": {
      "model_module": "@jupyter-widgets/controls",
      "model_module_version": "1.5.0",
      "model_name": "HTMLModel",
      "state": {
       "layout": "IPY_MODEL_61d14a4336884074ba028fd19999e834",
       "style": "IPY_MODEL_e2fd001dcb2343879d3fb681f6bc3f75",
       "value": "<table border=\"1\" class=\"dataframe\">\n  <thead>\n    <tr style=\"text-align: right;\">\n      <th>Prefix Code</th>\n      <th>Count</th>\n    </tr>\n  </thead>\n  <tbody>\n    <tr>\n      <td>STPL</td>\n      <td>319</td>\n    </tr>\n    <tr>\n      <td>HSIPL</td>\n      <td>289</td>\n    </tr>\n    <tr>\n      <td>CML</td>\n      <td>287</td>\n    </tr>\n    <tr>\n      <td>RPSTPL</td>\n      <td>148</td>\n    </tr>\n    <tr>\n      <td>BRLS</td>\n      <td>127</td>\n    </tr>\n  </tbody>\n</table>"
      }
     },
     "61d14a4336884074ba028fd19999e834": {
      "model_module": "@jupyter-widgets/base",
      "model_module_version": "1.2.0",
      "model_name": "LayoutModel",
      "state": {}
     },
     "8910e6be1127431eb29802a38b6229a5": {
      "model_module": "@jupyter-widgets/controls",
      "model_module_version": "1.5.0",
      "model_name": "HTMLModel",
      "state": {
       "layout": "IPY_MODEL_0f9f2ca8ae7f4b0087d57fa17cdfa43b",
       "style": "IPY_MODEL_defd5aaa04fb486197a3be72271691b2",
       "value": "<table border=\"1\" class=\"dataframe\">\n  <thead>\n    <tr style=\"text-align: right;\">\n      <th>Prefix Code</th>\n      <th>Count</th>\n    </tr>\n  </thead>\n  <tbody>\n    <tr>\n      <td>STPL</td>\n      <td>319</td>\n    </tr>\n    <tr>\n      <td>HSIPL</td>\n      <td>289</td>\n    </tr>\n    <tr>\n      <td>CML</td>\n      <td>287</td>\n    </tr>\n    <tr>\n      <td>RPSTPL</td>\n      <td>148</td>\n    </tr>\n    <tr>\n      <td>BRLS</td>\n      <td>127</td>\n    </tr>\n  </tbody>\n</table>"
      }
     },
     "defd5aaa04fb486197a3be72271691b2": {
      "model_module": "@jupyter-widgets/controls",
      "model_module_version": "1.5.0",
      "model_name": "DescriptionStyleModel",
      "state": {
       "description_width": ""
      }
     },
     "e2fd001dcb2343879d3fb681f6bc3f75": {
      "model_module": "@jupyter-widgets/controls",
      "model_module_version": "1.5.0",
      "model_name": "DescriptionStyleModel",
      "state": {
       "description_width": ""
      }
     }
    },
    "version_major": 2,
    "version_minor": 0
   }
  }
 },
 "nbformat": 4,
 "nbformat_minor": 5
}
