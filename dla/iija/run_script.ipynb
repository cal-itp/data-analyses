{
 "cells": [
  {
   "cell_type": "markdown",
   "id": "3c31cd6d-91cd-4b4e-8fd0-9a6ed076e95b",
   "metadata": {},
   "source": [
    "# Run Functions to Add Information to Projects"
   ]
  },
  {
   "cell_type": "markdown",
   "id": "f993b35a-25e9-4aaf-86ab-fd01c724cb92",
   "metadata": {},
   "source": [
    "To run the data through the script, all you need to do is update `my_file` path to the most recent export from FMIS and QMRS uploaded to GCS, then run the function in the section `Export Data` with your dataframe and the current date. Then your aggregated data will be ready in GCS. "
   ]
  },
  {
   "cell_type": "code",
   "execution_count": 1,
   "id": "427ef3d1-a937-483e-bcb5-68e377dd4f35",
   "metadata": {},
   "outputs": [],
   "source": [
    "import pandas as pd\n",
    "from siuba import *\n",
    "\n",
    "import _script_utils"
   ]
  },
  {
   "cell_type": "code",
   "execution_count": 2,
   "id": "ce77f2af-baa1-4cc7-ad1a-64ec8d12e0e9",
   "metadata": {},
   "outputs": [],
   "source": [
    "pd.set_option(\"display.max_columns\", 100)\n",
    "pd.set_option('display.max_colwidth', None)"
   ]
  },
  {
   "cell_type": "markdown",
   "id": "899b931a-6a2c-479c-8db1-85f5e5e0eb27",
   "metadata": {
    "tags": []
   },
   "source": [
    "## Read in Data and function development / Test Function"
   ]
  },
  {
   "cell_type": "markdown",
   "id": "4ccf8b66-6289-41ca-9cc1-1b9538ec5aaa",
   "metadata": {},
   "source": [
    "For the following function:\n",
    "* update the file path for `my_file` to the most recent file name of the FMIS & QMRS export\n",
    "* the second kwargs is the unique recipient identifier, in this case it should stay the same with subsequent exports\n",
    "* the third kwargs is the aggregation level you want for the data. Unless otherwise specified, it should be `agg` which is one row per project"
   ]
  },
  {
   "cell_type": "code",
   "execution_count": 3,
   "id": "50c0f7c4-0c73-47d8-b56e-2ae9111e248f",
   "metadata": {},
   "outputs": [],
   "source": [
    "GCS_FILE_PATH  = 'gs://calitp-analytics-data/data-analyses/dla/dla-iija'"
   ]
  },
  {
   "cell_type": "code",
   "execution_count": 4,
   "id": "e97910e0-80a7-4eb7-9c42-ab09e017157d",
   "metadata": {},
   "outputs": [],
   "source": [
    "my_file = \"FMIS_Projects_Universe_IIJA_Reporting_03012024_ToDLA.xlsx\""
   ]
  },
  {
   "cell_type": "code",
   "execution_count": 5,
   "id": "0e5b2fc8-2008-4fa9-815d-3794219692a8",
   "metadata": {},
   "outputs": [
    {
     "name": "stderr",
     "output_type": "stream",
     "text": [
      "/home/jovyan/data-analyses/dla/iija/_script_utils.py:465: FutureWarning: The default value of regex will change from True to False in a future version.\n",
      "  df['implementing_agency_locode'] = df['implementing_agency_locode'].str.replace('.0', '')\n"
     ]
    }
   ],
   "source": [
    "df = _script_utils.run_script(my_file, 'summary_recipient_defined_text_field_1_value', 'agg')"
   ]
  },
  {
   "cell_type": "code",
   "execution_count": null,
   "id": "442d0c4a-3578-4042-b042-9a279b75d459",
   "metadata": {},
   "outputs": [],
   "source": []
  },
  {
   "cell_type": "markdown",
   "id": "30325e4e-1bd0-4176-be6a-92aecd143e49",
   "metadata": {
    "tags": []
   },
   "source": [
    "### Testing the data"
   ]
  },
  {
   "cell_type": "code",
   "execution_count": 6,
   "id": "ca390710-cf98-412e-aece-da32a3bc397d",
   "metadata": {},
   "outputs": [
    {
     "data": {
      "text/html": [
       "<div>\n",
       "<style scoped>\n",
       "    .dataframe tbody tr th:only-of-type {\n",
       "        vertical-align: middle;\n",
       "    }\n",
       "\n",
       "    .dataframe tbody tr th {\n",
       "        vertical-align: top;\n",
       "    }\n",
       "\n",
       "    .dataframe thead th {\n",
       "        text-align: right;\n",
       "    }\n",
       "</style>\n",
       "<table border=\"1\" class=\"dataframe\">\n",
       "  <thead>\n",
       "    <tr style=\"text-align: right;\">\n",
       "      <th></th>\n",
       "      <th>fmis_transaction_date</th>\n",
       "      <th>project_number</th>\n",
       "      <th>implementing_agency</th>\n",
       "      <th>summary_recipient_defined_text_field_1_value</th>\n",
       "      <th>program_code</th>\n",
       "      <th>program_code_description</th>\n",
       "      <th>recipient_project_number</th>\n",
       "      <th>improvement_type</th>\n",
       "      <th>improvement_type_description</th>\n",
       "      <th>old_project_title_desc</th>\n",
       "      <th>obligations_amount</th>\n",
       "      <th>congressional_district</th>\n",
       "      <th>district</th>\n",
       "      <th>county_code</th>\n",
       "      <th>county_name</th>\n",
       "      <th>county_name_abbrev</th>\n",
       "      <th>implementing_agency_locode</th>\n",
       "      <th>rtpa_name</th>\n",
       "      <th>mpo_name</th>\n",
       "      <th>new_project_title</th>\n",
       "      <th>new_description_col</th>\n",
       "    </tr>\n",
       "  </thead>\n",
       "  <tbody>\n",
       "    <tr>\n",
       "      <th>1308</th>\n",
       "      <td>45175</td>\n",
       "      <td>31L1001</td>\n",
       "      <td>California</td>\n",
       "      <td>S    ER NONE</td>\n",
       "      <td>ER01</td>\n",
       "      <td>Emergency Relieve Funding</td>\n",
       "      <td>0117000079S</td>\n",
       "      <td>6</td>\n",
       "      <td>4R - Restoration &amp; Rehabilitation</td>\n",
       "      <td>IN HUMBOLDT CO., ABOUT 6 MI W OF WILLOW CREEK AT CEDAR CREEK ROAD. EMERGENCY RELIEF - EMERGENCY OPENING STORM DAMAGE REPAIRS.</td>\n",
       "      <td>32379</td>\n",
       "      <td>|02|</td>\n",
       "      <td>|01|</td>\n",
       "      <td>23</td>\n",
       "      <td>Humboldt County</td>\n",
       "      <td>|HUM|</td>\n",
       "      <td>nan</td>\n",
       "      <td>None</td>\n",
       "      <td>None</td>\n",
       "      <td>Road Restoration &amp; Rehabilitation in Humboldt County</td>\n",
       "      <td>Road Restoration &amp; Rehabilitation in Humboldt County, part of the program(s) Emergency Relieve Funding. (Federal Project ID: 31L1001).</td>\n",
       "    </tr>\n",
       "    <tr>\n",
       "      <th>1018</th>\n",
       "      <td>45103</td>\n",
       "      <td>5958094</td>\n",
       "      <td>Imperial County</td>\n",
       "      <td>L5958SCAG</td>\n",
       "      <td>Y001</td>\n",
       "      <td>National Highway Performance Program (NHPP)</td>\n",
       "      <td>1115000144L</td>\n",
       "      <td>15|16|43</td>\n",
       "      <td>Preliminary Engineering|Right of Way|Utilities</td>\n",
       "      <td>FORRESTER ROAD OVER WESTSIDE MAIN CANAL 0.6 MILES NORTH OF KEYSTONE ROAD, BR. NO. 58C-0014 REPLACE EXISTING TWO LANES BRIDGE WITH A NEW TWO LANE BRID</td>\n",
       "      <td>2464055</td>\n",
       "      <td>|51|</td>\n",
       "      <td>|11|</td>\n",
       "      <td>25</td>\n",
       "      <td>Imperial County</td>\n",
       "      <td>|IMP|</td>\n",
       "      <td>5958</td>\n",
       "      <td>Imperial County Transportation Commission</td>\n",
       "      <td>Southern California Association Of Governments</td>\n",
       "      <td>Preliminary Engineering Projects in Imperial County</td>\n",
       "      <td>Preliminary Engineering Projects in Imperial County, part of the program(s) National Highway Performance Program (NHPP). (Federal Project ID: 5958094).</td>\n",
       "    </tr>\n",
       "    <tr>\n",
       "      <th>214</th>\n",
       "      <td>44767</td>\n",
       "      <td>5933143</td>\n",
       "      <td>Alameda County</td>\n",
       "      <td>L5933MTC</td>\n",
       "      <td>Y240</td>\n",
       "      <td>Surface Transportation Block Grant</td>\n",
       "      <td>0418000118L</td>\n",
       "      <td>17|28</td>\n",
       "      <td>Construction Engineering|Facilities for Pedestrians and Bicycles</td>\n",
       "      <td>IN CASTRO VALLEY: ON ANITA AVENUE BETWEEN CASTRO VALLEY BLVD. AND SOMERSET AVENUE CONSTRUCT SIDE WALKS,CURBS, GUTTERS, DRIVEWAYS, PEDESTRIAN RAMPS AN</td>\n",
       "      <td>2000000</td>\n",
       "      <td>|15|</td>\n",
       "      <td>|04|</td>\n",
       "      <td>1</td>\n",
       "      <td>Alameda County</td>\n",
       "      <td>|ALA|</td>\n",
       "      <td>5933</td>\n",
       "      <td>Metropolitan Transportation Commission</td>\n",
       "      <td>Metropolitan Transportation Commission</td>\n",
       "      <td>Construct Pedestrian Safety Improvements in Alameda County</td>\n",
       "      <td>Construct Pedestrian Safety Improvements in Alameda County, part of the program(s) Surface Transportation Block Grant. (Federal Project ID: 5933143).</td>\n",
       "    </tr>\n",
       "  </tbody>\n",
       "</table>\n",
       "</div>"
      ],
      "text/plain": [
       "      fmis_transaction_date project_number implementing_agency  \\\n",
       "1308                  45175        31L1001          California   \n",
       "1018                  45103        5958094     Imperial County   \n",
       "214                   44767        5933143      Alameda County   \n",
       "\n",
       "     summary_recipient_defined_text_field_1_value program_code  \\\n",
       "1308                                 S    ER NONE         ER01   \n",
       "1018                                    L5958SCAG         Y001   \n",
       "214                                      L5933MTC         Y240   \n",
       "\n",
       "                         program_code_description recipient_project_number  \\\n",
       "1308                    Emergency Relieve Funding              0117000079S   \n",
       "1018  National Highway Performance Program (NHPP)              1115000144L   \n",
       "214            Surface Transportation Block Grant              0418000118L   \n",
       "\n",
       "     improvement_type  \\\n",
       "1308                6   \n",
       "1018         15|16|43   \n",
       "214             17|28   \n",
       "\n",
       "                                          improvement_type_description  \\\n",
       "1308                                 4R - Restoration & Rehabilitation   \n",
       "1018                    Preliminary Engineering|Right of Way|Utilities   \n",
       "214   Construction Engineering|Facilities for Pedestrians and Bicycles   \n",
       "\n",
       "                                                                                                                                     old_project_title_desc  \\\n",
       "1308                          IN HUMBOLDT CO., ABOUT 6 MI W OF WILLOW CREEK AT CEDAR CREEK ROAD. EMERGENCY RELIEF - EMERGENCY OPENING STORM DAMAGE REPAIRS.   \n",
       "1018  FORRESTER ROAD OVER WESTSIDE MAIN CANAL 0.6 MILES NORTH OF KEYSTONE ROAD, BR. NO. 58C-0014 REPLACE EXISTING TWO LANES BRIDGE WITH A NEW TWO LANE BRID   \n",
       "214   IN CASTRO VALLEY: ON ANITA AVENUE BETWEEN CASTRO VALLEY BLVD. AND SOMERSET AVENUE CONSTRUCT SIDE WALKS,CURBS, GUTTERS, DRIVEWAYS, PEDESTRIAN RAMPS AN   \n",
       "\n",
       "      obligations_amount congressional_district district county_code  \\\n",
       "1308               32379                   |02|     |01|          23   \n",
       "1018             2464055                   |51|     |11|          25   \n",
       "214              2000000                   |15|     |04|           1   \n",
       "\n",
       "          county_name county_name_abbrev implementing_agency_locode  \\\n",
       "1308  Humboldt County              |HUM|                        nan   \n",
       "1018  Imperial County              |IMP|                       5958   \n",
       "214    Alameda County              |ALA|                       5933   \n",
       "\n",
       "                                      rtpa_name  \\\n",
       "1308                                       None   \n",
       "1018  Imperial County Transportation Commission   \n",
       "214      Metropolitan Transportation Commission   \n",
       "\n",
       "                                            mpo_name  \\\n",
       "1308                                            None   \n",
       "1018  Southern California Association Of Governments   \n",
       "214           Metropolitan Transportation Commission   \n",
       "\n",
       "                                               new_project_title  \\\n",
       "1308        Road Restoration & Rehabilitation in Humboldt County   \n",
       "1018         Preliminary Engineering Projects in Imperial County   \n",
       "214   Construct Pedestrian Safety Improvements in Alameda County   \n",
       "\n",
       "                                                                                                                                           new_description_col  \n",
       "1308                    Road Restoration & Rehabilitation in Humboldt County, part of the program(s) Emergency Relieve Funding. (Federal Project ID: 31L1001).  \n",
       "1018   Preliminary Engineering Projects in Imperial County, part of the program(s) National Highway Performance Program (NHPP). (Federal Project ID: 5958094).  \n",
       "214      Construct Pedestrian Safety Improvements in Alameda County, part of the program(s) Surface Transportation Block Grant. (Federal Project ID: 5933143).  "
      ]
     },
     "execution_count": 6,
     "metadata": {},
     "output_type": "execute_result"
    }
   ],
   "source": [
    "df.sample(3)"
   ]
  },
  {
   "cell_type": "code",
   "execution_count": 7,
   "id": "2074166e-ee58-44c5-9052-52c549cbe1e6",
   "metadata": {},
   "outputs": [
    {
     "data": {
      "text/plain": [
       "1968"
      ]
     },
     "execution_count": 7,
     "metadata": {},
     "output_type": "execute_result"
    }
   ],
   "source": [
    "## when grouping by funding program (pne project can have multiple rows), len is 1612\n",
    "len(df)"
   ]
  },
  {
   "cell_type": "code",
   "execution_count": 8,
   "id": "bf02e0fe-bfc7-417f-a9a3-6fcafca51770",
   "metadata": {},
   "outputs": [
    {
     "data": {
      "text/html": [
       "<div>\n",
       "<style scoped>\n",
       "    .dataframe tbody tr th:only-of-type {\n",
       "        vertical-align: middle;\n",
       "    }\n",
       "\n",
       "    .dataframe tbody tr th {\n",
       "        vertical-align: top;\n",
       "    }\n",
       "\n",
       "    .dataframe thead th {\n",
       "        text-align: right;\n",
       "    }\n",
       "</style>\n",
       "<table border=\"1\" class=\"dataframe\">\n",
       "  <thead>\n",
       "    <tr style=\"text-align: right;\">\n",
       "      <th></th>\n",
       "      <th>fmis_transaction_date</th>\n",
       "      <th>project_number</th>\n",
       "      <th>implementing_agency</th>\n",
       "      <th>summary_recipient_defined_text_field_1_value</th>\n",
       "      <th>program_code</th>\n",
       "      <th>program_code_description</th>\n",
       "      <th>recipient_project_number</th>\n",
       "      <th>improvement_type</th>\n",
       "      <th>improvement_type_description</th>\n",
       "      <th>old_project_title_desc</th>\n",
       "      <th>obligations_amount</th>\n",
       "      <th>congressional_district</th>\n",
       "      <th>district</th>\n",
       "      <th>county_code</th>\n",
       "      <th>county_name</th>\n",
       "      <th>county_name_abbrev</th>\n",
       "      <th>implementing_agency_locode</th>\n",
       "      <th>rtpa_name</th>\n",
       "      <th>mpo_name</th>\n",
       "      <th>new_project_title</th>\n",
       "      <th>new_description_col</th>\n",
       "    </tr>\n",
       "  </thead>\n",
       "  <tbody>\n",
       "    <tr>\n",
       "      <th>1129</th>\n",
       "      <td>45133</td>\n",
       "      <td>5004049</td>\n",
       "      <td>San Diego</td>\n",
       "      <td>L5004SANDAG</td>\n",
       "      <td>Y001|Y110|Y908|Y909</td>\n",
       "      <td>National Highway Performance Program (NHPP)|Bridge Formula Program|Bridge Replacement and Rehabilitation Program</td>\n",
       "      <td>11955780L</td>\n",
       "      <td>10|17</td>\n",
       "      <td>Bridge Replacement - Added Capacity|Construction Engineering</td>\n",
       "      <td>WEST MISSION BAY DRIVE OVER THE SAN DIEGO RIVER BRIDGE REPLACEMENT, BR. NO. 57C-0023</td>\n",
       "      <td>69715548</td>\n",
       "      <td>|52|</td>\n",
       "      <td>|11|</td>\n",
       "      <td>73</td>\n",
       "      <td>San Diego County</td>\n",
       "      <td>|SD|</td>\n",
       "      <td>04</td>\n",
       "      <td>San Diego Association of Governments</td>\n",
       "      <td>San Diego Association Of Governments</td>\n",
       "      <td>Replace Bridge in San Diego</td>\n",
       "      <td>Replace Bridge in San Diego, part of the program(s) National Highway Performance Program (NHPP), and the Bridge Formula Program, and the Bridge Replacement and Rehabilitation Program. (Federal Project ID: 5004049).</td>\n",
       "    </tr>\n",
       "  </tbody>\n",
       "</table>\n",
       "</div>"
      ],
      "text/plain": [
       "      fmis_transaction_date project_number implementing_agency  \\\n",
       "1129                  45133        5004049           San Diego   \n",
       "\n",
       "     summary_recipient_defined_text_field_1_value         program_code  \\\n",
       "1129                                  L5004SANDAG  Y001|Y110|Y908|Y909   \n",
       "\n",
       "                                                                                              program_code_description  \\\n",
       "1129  National Highway Performance Program (NHPP)|Bridge Formula Program|Bridge Replacement and Rehabilitation Program   \n",
       "\n",
       "     recipient_project_number improvement_type  \\\n",
       "1129                11955780L            10|17   \n",
       "\n",
       "                                      improvement_type_description  \\\n",
       "1129  Bridge Replacement - Added Capacity|Construction Engineering   \n",
       "\n",
       "                                                                    old_project_title_desc  \\\n",
       "1129  WEST MISSION BAY DRIVE OVER THE SAN DIEGO RIVER BRIDGE REPLACEMENT, BR. NO. 57C-0023   \n",
       "\n",
       "      obligations_amount congressional_district district county_code  \\\n",
       "1129            69715548                   |52|     |11|          73   \n",
       "\n",
       "           county_name county_name_abbrev implementing_agency_locode  \\\n",
       "1129  San Diego County               |SD|                         04   \n",
       "\n",
       "                                 rtpa_name  \\\n",
       "1129  San Diego Association of Governments   \n",
       "\n",
       "                                  mpo_name            new_project_title  \\\n",
       "1129  San Diego Association Of Governments  Replace Bridge in San Diego   \n",
       "\n",
       "                                                                                                                                                                                                         new_description_col  \n",
       "1129  Replace Bridge in San Diego, part of the program(s) National Highway Performance Program (NHPP), and the Bridge Formula Program, and the Bridge Replacement and Rehabilitation Program. (Federal Project ID: 5004049).  "
      ]
     },
     "execution_count": 8,
     "metadata": {},
     "output_type": "execute_result"
    }
   ],
   "source": [
    "## check one project with multiple funding codes\n",
    "df>>filter(_.project_number=='5004049')"
   ]
  },
  {
   "cell_type": "code",
   "execution_count": null,
   "id": "9d4d834f-3b81-4d8f-9dc3-fe38cca7873a",
   "metadata": {},
   "outputs": [],
   "source": []
  },
  {
   "cell_type": "markdown",
   "id": "3d6cc3f2-07a3-4390-9ee1-8d30aa78909e",
   "metadata": {},
   "source": [
    "## Export Data"
   ]
  },
  {
   "cell_type": "code",
   "execution_count": 10,
   "id": "6652683c-2ea1-456e-918a-bffb7da2de0a",
   "metadata": {},
   "outputs": [],
   "source": [
    "### rename the file for export to GCS"
   ]
  },
  {
   "cell_type": "code",
   "execution_count": 9,
   "id": "388a2112-cc55-46cd-8fa1-941fadb70f13",
   "metadata": {},
   "outputs": [],
   "source": [
    "# _script_utils.export_to_gcs(df, \"IIJA_FMIS_AllProjects_03012024_ToDLA_agg.csv\")"
   ]
  },
  {
   "cell_type": "code",
   "execution_count": null,
   "id": "0c492d4d-d6d3-49f5-a65c-e1d18ea4a5d1",
   "metadata": {},
   "outputs": [],
   "source": []
  },
  {
   "cell_type": "code",
   "execution_count": null,
   "id": "041d7477-713f-4c18-98a1-f45355e39fa8",
   "metadata": {},
   "outputs": [],
   "source": []
  }
 ],
 "metadata": {
  "kernelspec": {
   "display_name": "Python 3 (ipykernel)",
   "language": "python",
   "name": "python3"
  },
  "language_info": {
   "codemirror_mode": {
    "name": "ipython",
    "version": 3
   },
   "file_extension": ".py",
   "mimetype": "text/x-python",
   "name": "python",
   "nbconvert_exporter": "python",
   "pygments_lexer": "ipython3",
   "version": "3.9.13"
  },
  "widgets": {
   "application/vnd.jupyter.widget-state+json": {
    "state": {},
    "version_major": 2,
    "version_minor": 0
   }
  }
 },
 "nbformat": 4,
 "nbformat_minor": 5
}
