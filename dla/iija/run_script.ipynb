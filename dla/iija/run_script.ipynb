{
 "cells": [
  {
   "cell_type": "markdown",
   "id": "3c31cd6d-91cd-4b4e-8fd0-9a6ed076e95b",
   "metadata": {},
   "source": [
    "# Run Functions to Add Information to Projects"
   ]
  },
  {
   "cell_type": "markdown",
   "id": "f993b35a-25e9-4aaf-86ab-fd01c724cb92",
   "metadata": {},
   "source": [
    "To run the data through the script, all you need to do is update `my_file` path to the most recent export from FMIS and QMRS uploaded to GCS, then run the function in the section `Export Data` with your dataframe and the current date. Then your aggregated data will be ready in GCS. "
   ]
  },
  {
   "cell_type": "code",
   "execution_count": 1,
   "id": "427ef3d1-a937-483e-bcb5-68e377dd4f35",
   "metadata": {},
   "outputs": [],
   "source": [
    "import pandas as pd\n",
    "from siuba import *\n",
    "\n",
    "import _script_utils\n",
    "\n",
    "from calitp_data_analysis.sql import to_snakecase\n"
   ]
  },
  {
   "cell_type": "code",
   "execution_count": 2,
   "id": "ce77f2af-baa1-4cc7-ad1a-64ec8d12e0e9",
   "metadata": {},
   "outputs": [],
   "source": [
    "pd.set_option(\"display.max_columns\", 100)\n",
    "pd.set_option('display.max_colwidth', None)"
   ]
  },
  {
   "cell_type": "markdown",
   "id": "899b931a-6a2c-479c-8db1-85f5e5e0eb27",
   "metadata": {
    "tags": []
   },
   "source": [
    "## Read in Data and function development / Test Function"
   ]
  },
  {
   "cell_type": "markdown",
   "id": "4ccf8b66-6289-41ca-9cc1-1b9538ec5aaa",
   "metadata": {},
   "source": [
    "For the following function:\n",
    "* update the file path for `my_file` to the most recent file name of the FMIS & QMRS export\n",
    "* the second kwargs is the unique recipient identifier, in this case it should stay the same with subsequent exports\n",
    "* the third kwargs is the aggregation level you want for the data. Unless otherwise specified, it should be `agg` which is one row per project"
   ]
  },
  {
   "cell_type": "code",
   "execution_count": 3,
   "id": "50c0f7c4-0c73-47d8-b56e-2ae9111e248f",
   "metadata": {},
   "outputs": [],
   "source": [
    "GCS_FILE_PATH  = 'gs://calitp-analytics-data/data-analyses/dla/dla-iija'"
   ]
  },
  {
   "cell_type": "code",
   "execution_count": 4,
   "id": "e97910e0-80a7-4eb7-9c42-ab09e017157d",
   "metadata": {},
   "outputs": [],
   "source": [
    "my_file = \"2b Output.xlsx\""
   ]
  },
  {
   "cell_type": "markdown",
   "id": "bb7ff766-0a96-4015-9e43-1799dbcccd8a",
   "metadata": {},
   "source": [
    "### Check data"
   ]
  },
  {
   "cell_type": "code",
   "execution_count": 5,
   "id": "e104318c-bd90-42d6-9c1d-36a9e8ceb003",
   "metadata": {},
   "outputs": [],
   "source": [
    "check_data = to_snakecase(pd.read_excel(f\"{GCS_FILE_PATH}/{my_file}\"))"
   ]
  },
  {
   "cell_type": "code",
   "execution_count": 6,
   "id": "720b2731-1646-414d-bb72-345a8fdc27ce",
   "metadata": {},
   "outputs": [
    {
     "data": {
      "text/html": [
       "<div>\n",
       "<style scoped>\n",
       "    .dataframe tbody tr th:only-of-type {\n",
       "        vertical-align: middle;\n",
       "    }\n",
       "\n",
       "    .dataframe tbody tr th {\n",
       "        vertical-align: top;\n",
       "    }\n",
       "\n",
       "    .dataframe thead th {\n",
       "        text-align: right;\n",
       "    }\n",
       "</style>\n",
       "<table border=\"1\" class=\"dataframe\">\n",
       "  <thead>\n",
       "    <tr style=\"text-align: right;\">\n",
       "      <th></th>\n",
       "      <th>state_local</th>\n",
       "      <th>fmis_transaction_date</th>\n",
       "      <th>program_code</th>\n",
       "      <th>program_code_description</th>\n",
       "      <th>project_number</th>\n",
       "      <th>recipient_project_number</th>\n",
       "      <th>project_title</th>\n",
       "      <th>county_code</th>\n",
       "      <th>congressional_district</th>\n",
       "      <th>project_status_description</th>\n",
       "      <th>project_description</th>\n",
       "      <th>improvement_type</th>\n",
       "      <th>improvement_type_description</th>\n",
       "      <th>total_cost_amount</th>\n",
       "      <th>obligations_amount</th>\n",
       "      <th>summary_recipient_defined_text_field_1_value</th>\n",
       "      <th>rk_locode</th>\n",
       "      <th>action_type</th>\n",
       "      <th>_3c_phase</th>\n",
       "      <th>_3c_status</th>\n",
       "      <th>iija_codes</th>\n",
       "      <th>_3c_iija_obligated</th>\n",
       "      <th>_3c_total_cost</th>\n",
       "      <th>_3c_agency_name</th>\n",
       "      <th>_3c_county</th>\n",
       "      <th>district</th>\n",
       "      <th>lp2000_location</th>\n",
       "      <th>fads_location</th>\n",
       "    </tr>\n",
       "  </thead>\n",
       "  <tbody>\n",
       "    <tr>\n",
       "      <th>0</th>\n",
       "      <td>S</td>\n",
       "      <td>2022-01-20</td>\n",
       "      <td>ER01</td>\n",
       "      <td>EMERGENCY REL 2022 SUPPLEMENT</td>\n",
       "      <td>31RA002</td>\n",
       "      <td>0518000118</td>\n",
       "      <td>MONTEREY COUNTY NEAR BIG SUR 2.3 MILES NORTH OF CASTRO CANYON BRIDGE TO 0.8 MILE SOUTH OF BIG SUR RIVER BRIDGE. EMERGENCY PROJECT - PERMANENT RESTORA</td>\n",
       "      <td>53</td>\n",
       "      <td>Cong Dist 20</td>\n",
       "      <td>Active</td>\n",
       "      <td>MONTEREY COUNTY NEAR BIG SUR 2.3 MILES NORTH OF CASTRO CANYON BRIDGE TO 0.8 MILE SOUTH OF BIG SUR RIVER BRIDGE. EMERGENCY PROJECT - PERMANENT RESTORATION. COMPLETE COASTAL DEVELOPMENT PERMIT REQUIREMENTS AT PFEIFFER CANYON BRIDGE.</td>\n",
       "      <td>16</td>\n",
       "      <td>Right of Way</td>\n",
       "      <td>600000.0</td>\n",
       "      <td>531100.0</td>\n",
       "      <td>S    AMBAG</td>\n",
       "      <td>NaN</td>\n",
       "      <td>NaN</td>\n",
       "      <td>NaN</td>\n",
       "      <td>NaN</td>\n",
       "      <td>NaN</td>\n",
       "      <td>NaN</td>\n",
       "      <td>NaN</td>\n",
       "      <td>NaN</td>\n",
       "      <td>NaN</td>\n",
       "      <td>NaN</td>\n",
       "      <td>NaN</td>\n",
       "      <td>NaN</td>\n",
       "    </tr>\n",
       "  </tbody>\n",
       "</table>\n",
       "</div>"
      ],
      "text/plain": [
       "  state_local fmis_transaction_date program_code  \\\n",
       "0           S            2022-01-20         ER01   \n",
       "\n",
       "        program_code_description project_number recipient_project_number  \\\n",
       "0  EMERGENCY REL 2022 SUPPLEMENT        31RA002               0518000118   \n",
       "\n",
       "                                                                                                                                           project_title  \\\n",
       "0  MONTEREY COUNTY NEAR BIG SUR 2.3 MILES NORTH OF CASTRO CANYON BRIDGE TO 0.8 MILE SOUTH OF BIG SUR RIVER BRIDGE. EMERGENCY PROJECT - PERMANENT RESTORA   \n",
       "\n",
       "   county_code congressional_district project_status_description  \\\n",
       "0           53           Cong Dist 20                     Active   \n",
       "\n",
       "                                                                                                                                                                                                                      project_description  \\\n",
       "0  MONTEREY COUNTY NEAR BIG SUR 2.3 MILES NORTH OF CASTRO CANYON BRIDGE TO 0.8 MILE SOUTH OF BIG SUR RIVER BRIDGE. EMERGENCY PROJECT - PERMANENT RESTORATION. COMPLETE COASTAL DEVELOPMENT PERMIT REQUIREMENTS AT PFEIFFER CANYON BRIDGE.   \n",
       "\n",
       "   improvement_type improvement_type_description  total_cost_amount  \\\n",
       "0                16                 Right of Way           600000.0   \n",
       "\n",
       "   obligations_amount summary_recipient_defined_text_field_1_value  rk_locode  \\\n",
       "0            531100.0                                   S    AMBAG        NaN   \n",
       "\n",
       "  action_type _3c_phase _3c_status iija_codes  _3c_iija_obligated  \\\n",
       "0         NaN       NaN        NaN        NaN                 NaN   \n",
       "\n",
       "   _3c_total_cost _3c_agency_name _3c_county district lp2000_location  \\\n",
       "0             NaN             NaN        NaN      NaN             NaN   \n",
       "\n",
       "  fads_location  \n",
       "0           NaN  "
      ]
     },
     "execution_count": 6,
     "metadata": {},
     "output_type": "execute_result"
    }
   ],
   "source": [
    "check_data.head(1)"
   ]
  },
  {
   "cell_type": "code",
   "execution_count": 7,
   "id": "a0890faa-9ef1-47ba-b758-7ea636a3e40d",
   "metadata": {},
   "outputs": [
    {
     "data": {
      "text/plain": [
       "2601"
      ]
     },
     "execution_count": 7,
     "metadata": {},
     "output_type": "execute_result"
    }
   ],
   "source": [
    "check_data.project_number.nunique()"
   ]
  },
  {
   "cell_type": "code",
   "execution_count": 8,
   "id": "f4f7e9b0-af71-41e6-9a86-71d3dbdee1e6",
   "metadata": {
    "tags": []
   },
   "outputs": [
    {
     "data": {
      "text/plain": [
       "Index(['state_local', 'fmis_transaction_date', 'program_code',\n",
       "       'program_code_description', 'project_number',\n",
       "       'recipient_project_number', 'project_title', 'county_code',\n",
       "       'congressional_district', 'project_status_description',\n",
       "       'project_description', 'improvement_type',\n",
       "       'improvement_type_description', 'total_cost_amount',\n",
       "       'obligations_amount', 'summary_recipient_defined_text_field_1_value',\n",
       "       'rk_locode', 'action_type', '_3c_phase', '_3c_status', 'iija_codes',\n",
       "       '_3c_iija_obligated', '_3c_total_cost', '_3c_agency_name', '_3c_county',\n",
       "       'district', 'lp2000_location', 'fads_location'],\n",
       "      dtype='object')"
      ]
     },
     "execution_count": 8,
     "metadata": {},
     "output_type": "execute_result"
    }
   ],
   "source": [
    "check_data.columns"
   ]
  },
  {
   "cell_type": "markdown",
   "id": "b9406960-ac09-43c1-a17c-498a9c687fe4",
   "metadata": {},
   "source": [
    "### Run Script"
   ]
  },
  {
   "cell_type": "code",
   "execution_count": 9,
   "id": "0e5b2fc8-2008-4fa9-815d-3794219692a8",
   "metadata": {
    "tags": []
   },
   "outputs": [
    {
     "data": {
      "text/plain": [
       "Index(['fmis_transaction_date', 'project_number', 'implementing_agency',\n",
       "       'summary_recipient_defined_text_field_1_value', 'funding_type_code',\n",
       "       'program_code', 'program_code_description', 'recipient_project_number',\n",
       "       'improvement_type', 'improvement_type_description',\n",
       "       'program_code_description_for_description', 'project_title',\n",
       "       'obligations_amount', 'total_cost_amount', 'congressional_district',\n",
       "       'district', 'county_code', 'county_name', 'county_name_abbrev',\n",
       "       'county_name_title', 'implementing_agency_locode', 'rtpa_name',\n",
       "       'mpo_name'],\n",
       "      dtype='object')"
      ]
     },
     "metadata": {},
     "output_type": "display_data"
    },
    {
     "name": "stderr",
     "output_type": "stream",
     "text": [
      "/home/jovyan/data-analyses/dla/iija/_script_utils.py:593: FutureWarning: The default value of regex will change from True to False in a future version.\n",
      "  df['implementing_agency_locode'] = df['implementing_agency_locode'].str.replace('.0', '')\n"
     ]
    },
    {
     "data": {
      "text/plain": [
       "True"
      ]
     },
     "metadata": {},
     "output_type": "display_data"
    }
   ],
   "source": [
    "df = _script_utils.run_script(my_file, 'summary_recipient_defined_text_field_1_value', 'agg')"
   ]
  },
  {
   "cell_type": "code",
   "execution_count": 10,
   "id": "8627c85d-bf97-4ef3-b1a8-cc03d2a96942",
   "metadata": {
    "tags": []
   },
   "outputs": [
    {
     "data": {
      "text/plain": [
       "count     2601\n",
       "unique     100\n",
       "top         37\n",
       "freq       198\n",
       "Name: county_code, dtype: object"
      ]
     },
     "execution_count": 10,
     "metadata": {},
     "output_type": "execute_result"
    }
   ],
   "source": [
    "df.county_code.describe()"
   ]
  },
  {
   "cell_type": "code",
   "execution_count": 11,
   "id": "442d0c4a-3578-4042-b042-9a279b75d459",
   "metadata": {
    "tags": []
   },
   "outputs": [
    {
     "data": {
      "text/plain": [
       "'Rows with locodes filled'"
      ]
     },
     "metadata": {},
     "output_type": "display_data"
    },
    {
     "data": {
      "text/plain": [
       "both          3290\n",
       "left_only        4\n",
       "right_only       0\n",
       "Name: _merge, dtype: int64"
      ]
     },
     "metadata": {},
     "output_type": "display_data"
    },
    {
     "data": {
      "text/plain": [
       "'Do the # of rows match?'"
      ]
     },
     "metadata": {},
     "output_type": "display_data"
    },
    {
     "data": {
      "text/plain": [
       "True"
      ]
     },
     "metadata": {},
     "output_type": "display_data"
    },
    {
     "data": {
      "text/plain": [
       "Index(['fmis_transaction_date', 'project_number', 'implementing_agency',\n",
       "       'summary_recipient_defined_text_field_1_value', 'funding_type_code',\n",
       "       'program_code', 'program_code_description', 'recipient_project_number',\n",
       "       'improvement_type', 'improvement_type_description',\n",
       "       'program_code_description_for_description', 'project_title',\n",
       "       'obligations_amount', 'total_cost_amount', 'congressional_district',\n",
       "       'district', 'county_code', 'county_name', 'county_name_abbrev',\n",
       "       'county_name_title', 'implementing_agency_locode', 'rtpa_name',\n",
       "       'mpo_name'],\n",
       "      dtype='object')"
      ]
     },
     "metadata": {},
     "output_type": "display_data"
    },
    {
     "name": "stderr",
     "output_type": "stream",
     "text": [
      "/home/jovyan/data-analyses/dla/iija/_script_utils.py:593: FutureWarning: The default value of regex will change from True to False in a future version.\n",
      "  df['implementing_agency_locode'] = df['implementing_agency_locode'].str.replace('.0', '')\n"
     ]
    },
    {
     "data": {
      "text/plain": [
       "True"
      ]
     },
     "metadata": {},
     "output_type": "display_data"
    }
   ],
   "source": [
    "df2 = _script_utils.run_script2(my_file, 'summary_recipient_defined_text_field_1_value', 'agg')"
   ]
  },
  {
   "cell_type": "code",
   "execution_count": 12,
   "id": "7e6a92e0-a9ae-405a-8e72-96acc190a22d",
   "metadata": {
    "tags": []
   },
   "outputs": [
    {
     "data": {
      "text/plain": [
       "Index(['fmis_transaction_date', 'project_number', 'implementing_agency',\n",
       "       'summary_recipient_defined_text_field_1_value', 'funding_type_code',\n",
       "       'program_code', 'program_code_description', 'recipient_project_number',\n",
       "       'improvement_type', 'improvement_type_description',\n",
       "       'old_project_title_desc', 'obligations_amount', 'total_cost_amount',\n",
       "       'congressional_district', 'district', 'county_code', 'county_name',\n",
       "       'county_name_abbrev', 'implementing_agency_locode', 'rtpa_name',\n",
       "       'mpo_name', 'new_project_title', 'new_description_col'],\n",
       "      dtype='object')"
      ]
     },
     "execution_count": 12,
     "metadata": {},
     "output_type": "execute_result"
    }
   ],
   "source": [
    "df2.columns"
   ]
  },
  {
   "cell_type": "markdown",
   "id": "30325e4e-1bd0-4176-be6a-92aecd143e49",
   "metadata": {
    "tags": []
   },
   "source": [
    "### Testing the data"
   ]
  },
  {
   "cell_type": "code",
   "execution_count": null,
   "id": "2074166e-ee58-44c5-9052-52c549cbe1e6",
   "metadata": {
    "tags": []
   },
   "outputs": [],
   "source": [
    "## when grouping by funding program (pne project can have multiple rows), len is 1612 for 2023 version of data\n",
    "## asserting the length of the df is the same as number of projects\n",
    "assert len(df) == check_data.project_number.nunique()"
   ]
  },
  {
   "cell_type": "code",
   "execution_count": null,
   "id": "73fa7f51-7e07-414a-95a8-385a2649a67d",
   "metadata": {},
   "outputs": [],
   "source": [
    "assert len(df2) == check_data.project_number.nunique()"
   ]
  },
  {
   "cell_type": "code",
   "execution_count": null,
   "id": "31fd8ca9-65a5-4e7f-9c10-8ce0f0ee2123",
   "metadata": {
    "tags": []
   },
   "outputs": [],
   "source": [
    "len(df2), len(df)"
   ]
  },
  {
   "cell_type": "code",
   "execution_count": null,
   "id": "bf02e0fe-bfc7-417f-a9a3-6fcafca51770",
   "metadata": {
    "tags": []
   },
   "outputs": [],
   "source": [
    "## check one project with multiple funding codes\n",
    "df>>filter(_.project_number=='5004049')"
   ]
  },
  {
   "cell_type": "code",
   "execution_count": null,
   "id": "1d72d856-35fe-4523-bfac-a35b617ebc92",
   "metadata": {
    "scrolled": true,
    "tags": []
   },
   "outputs": [],
   "source": [
    "df2>>filter(_.project_number=='5004049')"
   ]
  },
  {
   "cell_type": "code",
   "execution_count": null,
   "id": "91065ed4-ebb7-4c49-a483-a826b6a9ca75",
   "metadata": {
    "tags": []
   },
   "outputs": [],
   "source": [
    "df.implementing_agency.value_counts().head()"
   ]
  },
  {
   "cell_type": "code",
   "execution_count": null,
   "id": "387553fe-7e28-4d3a-8580-1a96e1ea7351",
   "metadata": {
    "tags": []
   },
   "outputs": [],
   "source": [
    "df2.implementing_agency.value_counts().head()"
   ]
  },
  {
   "cell_type": "code",
   "execution_count": null,
   "id": "599f2f30-2d13-4900-ae69-0fc14ae739a8",
   "metadata": {
    "tags": []
   },
   "outputs": [],
   "source": [
    "df2.columns"
   ]
  },
  {
   "cell_type": "markdown",
   "id": "3d6cc3f2-07a3-4390-9ee1-8d30aa78909e",
   "metadata": {},
   "source": [
    "## Export Data"
   ]
  },
  {
   "cell_type": "code",
   "execution_count": null,
   "id": "6652683c-2ea1-456e-918a-bffb7da2de0a",
   "metadata": {},
   "outputs": [],
   "source": [
    "### rename the file for export to GCS\n",
    "### use date to rename"
   ]
  },
  {
   "cell_type": "code",
   "execution_count": null,
   "id": "388a2112-cc55-46cd-8fa1-941fadb70f13",
   "metadata": {
    "tags": []
   },
   "outputs": [],
   "source": [
    "# _script_utils.export_to_gcs(df, \"01302025_agg\")"
   ]
  },
  {
   "cell_type": "code",
   "execution_count": null,
   "id": "0c492d4d-d6d3-49f5-a65c-e1d18ea4a5d1",
   "metadata": {},
   "outputs": [],
   "source": [
    "_script_utils.export_to_gcs(df2, \"04242025_agg\")"
   ]
  },
  {
   "cell_type": "code",
   "execution_count": null,
   "id": "041d7477-713f-4c18-98a1-f45355e39fa8",
   "metadata": {},
   "outputs": [],
   "source": []
  }
 ],
 "metadata": {
  "kernelspec": {
   "display_name": "Python 3 (ipykernel)",
   "language": "python",
   "name": "python3"
  },
  "language_info": {
   "codemirror_mode": {
    "name": "ipython",
    "version": 3
   },
   "file_extension": ".py",
   "mimetype": "text/x-python",
   "name": "python",
   "nbconvert_exporter": "python",
   "pygments_lexer": "ipython3",
   "version": "3.11.10"
  },
  "widgets": {
   "application/vnd.jupyter.widget-state+json": {
    "state": {},
    "version_major": 2,
    "version_minor": 0
   }
  }
 },
 "nbformat": 4,
 "nbformat_minor": 5
}
