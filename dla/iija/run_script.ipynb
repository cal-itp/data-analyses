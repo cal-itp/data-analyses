{
 "cells": [
  {
   "cell_type": "markdown",
   "id": "3c31cd6d-91cd-4b4e-8fd0-9a6ed076e95b",
   "metadata": {},
   "source": [
    "# Run Functions to Add Information to Projects"
   ]
  },
  {
   "cell_type": "markdown",
   "id": "f993b35a-25e9-4aaf-86ab-fd01c724cb92",
   "metadata": {},
   "source": [
    "To run the data through the script, all you need to do is update `my_file` path to the most recent export from FMIS and QMRS uploaded to GCS, then run the function in the section `Export Data` with your dataframe and the current date. Then your aggregated data will be ready in GCS. "
   ]
  },
  {
   "cell_type": "code",
   "execution_count": 1,
   "id": "427ef3d1-a937-483e-bcb5-68e377dd4f35",
   "metadata": {},
   "outputs": [],
   "source": [
    "import pandas as pd\n",
    "from siuba import *\n",
    "\n",
    "import _script_utils\n",
    "\n",
    "from calitp_data_analysis.sql import to_snakecase\n"
   ]
  },
  {
   "cell_type": "code",
   "execution_count": 2,
   "id": "ce77f2af-baa1-4cc7-ad1a-64ec8d12e0e9",
   "metadata": {},
   "outputs": [],
   "source": [
    "pd.set_option(\"display.max_columns\", 100)\n",
    "pd.set_option('display.max_colwidth', None)"
   ]
  },
  {
   "cell_type": "markdown",
   "id": "899b931a-6a2c-479c-8db1-85f5e5e0eb27",
   "metadata": {
    "tags": []
   },
   "source": [
    "## Read in Data and function development / Test Function"
   ]
  },
  {
   "cell_type": "markdown",
   "id": "4ccf8b66-6289-41ca-9cc1-1b9538ec5aaa",
   "metadata": {},
   "source": [
    "For the following function:\n",
    "* update the file path for `my_file` to the most recent file name of the FMIS & QMRS export\n",
    "* the second kwargs is the unique recipient identifier, in this case it should stay the same with subsequent exports\n",
    "* the third kwargs is the aggregation level you want for the data. Unless otherwise specified, it should be `agg` which is one row per project"
   ]
  },
  {
   "cell_type": "code",
   "execution_count": 3,
   "id": "50c0f7c4-0c73-47d8-b56e-2ae9111e248f",
   "metadata": {},
   "outputs": [],
   "source": [
    "GCS_FILE_PATH  = 'gs://calitp-analytics-data/data-analyses/dla/dla-iija'"
   ]
  },
  {
   "cell_type": "code",
   "execution_count": 4,
   "id": "e97910e0-80a7-4eb7-9c42-ab09e017157d",
   "metadata": {},
   "outputs": [],
   "source": [
    "my_file = \"IIJA Project List 01_2025.xlsx\""
   ]
  },
  {
   "cell_type": "code",
   "execution_count": null,
   "id": "2042b3b6-5003-45b5-ba15-9c701000f4cd",
   "metadata": {},
   "outputs": [],
   "source": []
  },
  {
   "cell_type": "markdown",
   "id": "bb7ff766-0a96-4015-9e43-1799dbcccd8a",
   "metadata": {},
   "source": [
    "### Check data"
   ]
  },
  {
   "cell_type": "code",
   "execution_count": 5,
   "id": "e104318c-bd90-42d6-9c1d-36a9e8ceb003",
   "metadata": {},
   "outputs": [],
   "source": [
    "check_data = to_snakecase(pd.read_excel(f\"{GCS_FILE_PATH}/{my_file}\"))"
   ]
  },
  {
   "cell_type": "code",
   "execution_count": 6,
   "id": "720b2731-1646-414d-bb72-345a8fdc27ce",
   "metadata": {},
   "outputs": [
    {
     "data": {
      "text/html": [
       "<div>\n",
       "<style scoped>\n",
       "    .dataframe tbody tr th:only-of-type {\n",
       "        vertical-align: middle;\n",
       "    }\n",
       "\n",
       "    .dataframe tbody tr th {\n",
       "        vertical-align: top;\n",
       "    }\n",
       "\n",
       "    .dataframe thead th {\n",
       "        text-align: right;\n",
       "    }\n",
       "</style>\n",
       "<table border=\"1\" class=\"dataframe\">\n",
       "  <thead>\n",
       "    <tr style=\"text-align: right;\">\n",
       "      <th></th>\n",
       "      <th>fmis_transaction_date</th>\n",
       "      <th>program_code</th>\n",
       "      <th>program_code_description</th>\n",
       "      <th>pid_district</th>\n",
       "      <th>project_number</th>\n",
       "      <th>recipient_project_number</th>\n",
       "      <th>pid_check1</th>\n",
       "      <th>efis_id</th>\n",
       "      <th>pid_check2</th>\n",
       "      <th>project_title</th>\n",
       "      <th>rk_locode</th>\n",
       "      <th>county_code</th>\n",
       "      <th>congressional_district</th>\n",
       "      <th>project_status_description</th>\n",
       "      <th>project_description</th>\n",
       "      <th>improvement_type</th>\n",
       "      <th>improvement_type_description</th>\n",
       "      <th>total_cost_amount</th>\n",
       "      <th>obligations_amount</th>\n",
       "      <th>summary_recipient_defined_text_field_1_value</th>\n",
       "      <th>comp</th>\n",
       "    </tr>\n",
       "  </thead>\n",
       "  <tbody>\n",
       "    <tr>\n",
       "      <th>0</th>\n",
       "      <td>2022-01-20</td>\n",
       "      <td>ER01</td>\n",
       "      <td>EMERGENCY REL 2022 SUPPLEMENT</td>\n",
       "      <td>5.0</td>\n",
       "      <td>31RA002</td>\n",
       "      <td>0518000118S</td>\n",
       "      <td>11</td>\n",
       "      <td>0518000118</td>\n",
       "      <td>10</td>\n",
       "      <td>MONTEREY COUNTY NEAR BIG SUR 2.3 MILES NORTH OF CASTRO CANYON BRIDGE TO 0.8 MILE SOUTH OF BIG SUR RIVER BRIDGE. EMERGENCY PROJECT - PERMANENT RESTORA</td>\n",
       "      <td>NaN</td>\n",
       "      <td>53</td>\n",
       "      <td>Cong Dist 20</td>\n",
       "      <td>Active</td>\n",
       "      <td>MONTEREY COUNTY NEAR BIG SUR 2.3 MILES NORTH OF CASTRO CANYON BRIDGE TO 0.8 MILE SOUTH OF BIG SUR RIVER BRIDGE. EMERGENCY PROJECT - PERMANENT RESTORATION. COMPLETE COASTAL DEVELOPMENT PERMIT REQUIREMENTS AT PFEIFFER CANYON BRIDGE.</td>\n",
       "      <td>16</td>\n",
       "      <td>Right of Way</td>\n",
       "      <td>600000.0</td>\n",
       "      <td>531100.0</td>\n",
       "      <td>S    AMBAG</td>\n",
       "      <td>IIJA-A</td>\n",
       "    </tr>\n",
       "  </tbody>\n",
       "</table>\n",
       "</div>"
      ],
      "text/plain": [
       "  fmis_transaction_date program_code       program_code_description  \\\n",
       "0            2022-01-20         ER01  EMERGENCY REL 2022 SUPPLEMENT   \n",
       "\n",
       "   pid_district project_number recipient_project_number  pid_check1  \\\n",
       "0           5.0        31RA002              0518000118S          11   \n",
       "\n",
       "      efis_id  pid_check2  \\\n",
       "0  0518000118          10   \n",
       "\n",
       "                                                                                                                                           project_title  \\\n",
       "0  MONTEREY COUNTY NEAR BIG SUR 2.3 MILES NORTH OF CASTRO CANYON BRIDGE TO 0.8 MILE SOUTH OF BIG SUR RIVER BRIDGE. EMERGENCY PROJECT - PERMANENT RESTORA   \n",
       "\n",
       "   rk_locode  county_code congressional_district project_status_description  \\\n",
       "0        NaN           53           Cong Dist 20                     Active   \n",
       "\n",
       "                                                                                                                                                                                                                      project_description  \\\n",
       "0  MONTEREY COUNTY NEAR BIG SUR 2.3 MILES NORTH OF CASTRO CANYON BRIDGE TO 0.8 MILE SOUTH OF BIG SUR RIVER BRIDGE. EMERGENCY PROJECT - PERMANENT RESTORATION. COMPLETE COASTAL DEVELOPMENT PERMIT REQUIREMENTS AT PFEIFFER CANYON BRIDGE.   \n",
       "\n",
       "   improvement_type improvement_type_description  total_cost_amount  \\\n",
       "0                16                 Right of Way           600000.0   \n",
       "\n",
       "   obligations_amount summary_recipient_defined_text_field_1_value    comp  \n",
       "0            531100.0                                   S    AMBAG  IIJA-A  "
      ]
     },
     "execution_count": 6,
     "metadata": {},
     "output_type": "execute_result"
    }
   ],
   "source": [
    "check_data.head(1)"
   ]
  },
  {
   "cell_type": "code",
   "execution_count": 7,
   "id": "a0890faa-9ef1-47ba-b758-7ea636a3e40d",
   "metadata": {},
   "outputs": [
    {
     "data": {
      "text/plain": [
       "2489"
      ]
     },
     "execution_count": 7,
     "metadata": {},
     "output_type": "execute_result"
    }
   ],
   "source": [
    "check_data.project_number.nunique()"
   ]
  },
  {
   "cell_type": "markdown",
   "id": "b9406960-ac09-43c1-a17c-498a9c687fe4",
   "metadata": {},
   "source": [
    "### Run Script"
   ]
  },
  {
   "cell_type": "code",
   "execution_count": 8,
   "id": "0e5b2fc8-2008-4fa9-815d-3794219692a8",
   "metadata": {
    "tags": []
   },
   "outputs": [
    {
     "name": "stderr",
     "output_type": "stream",
     "text": [
      "/home/jovyan/data-analyses/dla/iija/_script_utils.py:564: FutureWarning: The default value of regex will change from True to False in a future version.\n",
      "  df['implementing_agency_locode'] = df['implementing_agency_locode'].str.replace('.0', '')\n"
     ]
    }
   ],
   "source": [
    "df = _script_utils.run_script(my_file, 'summary_recipient_defined_text_field_1_value', 'agg')"
   ]
  },
  {
   "cell_type": "code",
   "execution_count": 9,
   "id": "442d0c4a-3578-4042-b042-9a279b75d459",
   "metadata": {},
   "outputs": [
    {
     "data": {
      "text/plain": [
       "'Rows with locodes filled'"
      ]
     },
     "metadata": {},
     "output_type": "display_data"
    },
    {
     "data": {
      "text/plain": [
       "both          3085\n",
       "left_only        2\n",
       "right_only       0\n",
       "Name: _merge, dtype: int64"
      ]
     },
     "metadata": {},
     "output_type": "display_data"
    },
    {
     "data": {
      "text/plain": [
       "'Do the # of rows match?'"
      ]
     },
     "metadata": {},
     "output_type": "display_data"
    },
    {
     "data": {
      "text/plain": [
       "True"
      ]
     },
     "metadata": {},
     "output_type": "display_data"
    },
    {
     "name": "stderr",
     "output_type": "stream",
     "text": [
      "/home/jovyan/data-analyses/dla/iija/_script_utils.py:564: FutureWarning: The default value of regex will change from True to False in a future version.\n",
      "  df['implementing_agency_locode'] = df['implementing_agency_locode'].str.replace('.0', '')\n"
     ]
    }
   ],
   "source": [
    "df2 = _script_utils.run_script2(my_file, 'summary_recipient_defined_text_field_1_value', 'agg')"
   ]
  },
  {
   "cell_type": "markdown",
   "id": "30325e4e-1bd0-4176-be6a-92aecd143e49",
   "metadata": {
    "tags": []
   },
   "source": [
    "### Testing the data"
   ]
  },
  {
   "cell_type": "code",
   "execution_count": 10,
   "id": "ca390710-cf98-412e-aece-da32a3bc397d",
   "metadata": {
    "tags": []
   },
   "outputs": [
    {
     "data": {
      "text/html": [
       "<div>\n",
       "<style scoped>\n",
       "    .dataframe tbody tr th:only-of-type {\n",
       "        vertical-align: middle;\n",
       "    }\n",
       "\n",
       "    .dataframe tbody tr th {\n",
       "        vertical-align: top;\n",
       "    }\n",
       "\n",
       "    .dataframe thead th {\n",
       "        text-align: right;\n",
       "    }\n",
       "</style>\n",
       "<table border=\"1\" class=\"dataframe\">\n",
       "  <thead>\n",
       "    <tr style=\"text-align: right;\">\n",
       "      <th></th>\n",
       "      <th>fmis_transaction_date</th>\n",
       "      <th>project_number</th>\n",
       "      <th>implementing_agency</th>\n",
       "      <th>summary_recipient_defined_text_field_1_value</th>\n",
       "      <th>program_code</th>\n",
       "      <th>program_code_description</th>\n",
       "      <th>recipient_project_number</th>\n",
       "      <th>improvement_type</th>\n",
       "      <th>improvement_type_description</th>\n",
       "      <th>old_project_title_desc</th>\n",
       "      <th>obligations_amount</th>\n",
       "      <th>congressional_district</th>\n",
       "      <th>district</th>\n",
       "      <th>county_code</th>\n",
       "      <th>county_name</th>\n",
       "      <th>county_name_abbrev</th>\n",
       "      <th>implementing_agency_locode</th>\n",
       "      <th>rtpa_name</th>\n",
       "      <th>mpo_name</th>\n",
       "      <th>new_project_title</th>\n",
       "      <th>new_description_col</th>\n",
       "    </tr>\n",
       "  </thead>\n",
       "  <tbody>\n",
       "    <tr>\n",
       "      <th>113</th>\n",
       "      <td>2022-08-16</td>\n",
       "      <td>37M0001</td>\n",
       "      <td>California</td>\n",
       "      <td>S    ER NONE</td>\n",
       "      <td>ER01</td>\n",
       "      <td>Emergency Supplement Funding Program</td>\n",
       "      <td>0518000006S</td>\n",
       "      <td>6|15|16|17</td>\n",
       "      <td>4R - Restoration &amp; Rehabilitation|Preliminary Engineering|Right of Way|Construction Engineering</td>\n",
       "      <td>SANTA BARBARA COUNTY FROM VENTURA COUNTY LINE TO GARDEN STREET UNDERCROSSING. EMERGENCY OPENING - REPAIR ROADWAY AND BRIDGES DUE TO MUDSLIDE.</td>\n",
       "      <td>7498011</td>\n",
       "      <td>|24|</td>\n",
       "      <td>|05|</td>\n",
       "      <td>83</td>\n",
       "      <td>Santa Barbara County</td>\n",
       "      <td>|SB|</td>\n",
       "      <td>nan</td>\n",
       "      <td>None</td>\n",
       "      <td>None</td>\n",
       "      <td>Road Restoration &amp; Rehabilitation in Santa Barbara County</td>\n",
       "      <td>Road Restoration &amp; Rehabilitation in Santa Barbara County, part of the Emergency Supplement Funding Program. (Federal Project ID: 37M0001).</td>\n",
       "    </tr>\n",
       "    <tr>\n",
       "      <th>2175</th>\n",
       "      <td>2024-11-01</td>\n",
       "      <td>5038028</td>\n",
       "      <td>Antioch</td>\n",
       "      <td>L5038MTC</td>\n",
       "      <td>YS70</td>\n",
       "      <td>Vulnerable Road User Safety Special Rule Program</td>\n",
       "      <td>0424000478L</td>\n",
       "      <td>15</td>\n",
       "      <td>Preliminary Engineering</td>\n",
       "      <td>69 SIGNALIZED INTERSECTIONS ALONG MULTIPLE ROADWAY SEGMENTS IMPROVE SIGNAL HARDWARE: LENSES, BACK-PLATES WITH RETROREFLECTIVE BORDERS, MOUNTING, SIZE</td>\n",
       "      <td>369000</td>\n",
       "      <td>|10|</td>\n",
       "      <td>|04|</td>\n",
       "      <td>13</td>\n",
       "      <td>Contra Costa County</td>\n",
       "      <td>|CC|</td>\n",
       "      <td>38</td>\n",
       "      <td>Metropolitan Transportation Commission</td>\n",
       "      <td>Metropolitan Transportation Commission</td>\n",
       "      <td>Improve Signals in Antioch</td>\n",
       "      <td>Improve Signals in Antioch, part of the Vulnerable Road User Safety Special Rule Program. (Federal Project ID: 5038028).</td>\n",
       "    </tr>\n",
       "    <tr>\n",
       "      <th>172</th>\n",
       "      <td>2022-09-20</td>\n",
       "      <td>40A0074</td>\n",
       "      <td>Palm Springs</td>\n",
       "      <td>L5282SCAG</td>\n",
       "      <td>ER01</td>\n",
       "      <td>Emergency Supplement Funding Program</td>\n",
       "      <td>0820000054L</td>\n",
       "      <td>4</td>\n",
       "      <td>4R - No Added Capacity</td>\n",
       "      <td>ARABY ROAD AT PALM CANYON WASH PLACEMENT AND LATER REMOVAL OF BARRICADES, REMOVAL OF SAND, AND SILT FROM ROAD, AND WATER TRUCK FOR DUST CONTROL FOR E</td>\n",
       "      <td>108227</td>\n",
       "      <td>|36|</td>\n",
       "      <td>|08|</td>\n",
       "      <td>65</td>\n",
       "      <td>Riverside County</td>\n",
       "      <td>|RIV|</td>\n",
       "      <td>5282</td>\n",
       "      <td>Riverside County Transportation Commission</td>\n",
       "      <td>Southern California Association Of Governments</td>\n",
       "      <td>Road Construction in Palm Springs</td>\n",
       "      <td>Road Construction in Palm Springs, part of the Emergency Supplement Funding Program. (Federal Project ID: 40A0074).</td>\n",
       "    </tr>\n",
       "  </tbody>\n",
       "</table>\n",
       "</div>"
      ],
      "text/plain": [
       "     fmis_transaction_date project_number implementing_agency  \\\n",
       "113             2022-08-16        37M0001          California   \n",
       "2175            2024-11-01        5038028             Antioch   \n",
       "172             2022-09-20        40A0074        Palm Springs   \n",
       "\n",
       "     summary_recipient_defined_text_field_1_value program_code  \\\n",
       "113                                  S    ER NONE         ER01   \n",
       "2175                                     L5038MTC         YS70   \n",
       "172                                     L5282SCAG         ER01   \n",
       "\n",
       "                              program_code_description  \\\n",
       "113               Emergency Supplement Funding Program   \n",
       "2175  Vulnerable Road User Safety Special Rule Program   \n",
       "172               Emergency Supplement Funding Program   \n",
       "\n",
       "     recipient_project_number improvement_type  \\\n",
       "113               0518000006S       6|15|16|17   \n",
       "2175              0424000478L               15   \n",
       "172               0820000054L                4   \n",
       "\n",
       "                                                                         improvement_type_description  \\\n",
       "113   4R - Restoration & Rehabilitation|Preliminary Engineering|Right of Way|Construction Engineering   \n",
       "2175                                                                          Preliminary Engineering   \n",
       "172                                                                            4R - No Added Capacity   \n",
       "\n",
       "                                                                                                                                     old_project_title_desc  \\\n",
       "113           SANTA BARBARA COUNTY FROM VENTURA COUNTY LINE TO GARDEN STREET UNDERCROSSING. EMERGENCY OPENING - REPAIR ROADWAY AND BRIDGES DUE TO MUDSLIDE.   \n",
       "2175  69 SIGNALIZED INTERSECTIONS ALONG MULTIPLE ROADWAY SEGMENTS IMPROVE SIGNAL HARDWARE: LENSES, BACK-PLATES WITH RETROREFLECTIVE BORDERS, MOUNTING, SIZE   \n",
       "172   ARABY ROAD AT PALM CANYON WASH PLACEMENT AND LATER REMOVAL OF BARRICADES, REMOVAL OF SAND, AND SILT FROM ROAD, AND WATER TRUCK FOR DUST CONTROL FOR E   \n",
       "\n",
       "      obligations_amount congressional_district district county_code  \\\n",
       "113              7498011                   |24|     |05|          83   \n",
       "2175              369000                   |10|     |04|          13   \n",
       "172               108227                   |36|     |08|          65   \n",
       "\n",
       "               county_name county_name_abbrev implementing_agency_locode  \\\n",
       "113   Santa Barbara County               |SB|                        nan   \n",
       "2175   Contra Costa County               |CC|                         38   \n",
       "172       Riverside County              |RIV|                       5282   \n",
       "\n",
       "                                       rtpa_name  \\\n",
       "113                                         None   \n",
       "2175      Metropolitan Transportation Commission   \n",
       "172   Riverside County Transportation Commission   \n",
       "\n",
       "                                            mpo_name  \\\n",
       "113                                             None   \n",
       "2175          Metropolitan Transportation Commission   \n",
       "172   Southern California Association Of Governments   \n",
       "\n",
       "                                               new_project_title  \\\n",
       "113    Road Restoration & Rehabilitation in Santa Barbara County   \n",
       "2175                                  Improve Signals in Antioch   \n",
       "172                            Road Construction in Palm Springs   \n",
       "\n",
       "                                                                                                                               new_description_col  \n",
       "113    Road Restoration & Rehabilitation in Santa Barbara County, part of the Emergency Supplement Funding Program. (Federal Project ID: 37M0001).  \n",
       "2175                      Improve Signals in Antioch, part of the Vulnerable Road User Safety Special Rule Program. (Federal Project ID: 5038028).  \n",
       "172                            Road Construction in Palm Springs, part of the Emergency Supplement Funding Program. (Federal Project ID: 40A0074).  "
      ]
     },
     "execution_count": 10,
     "metadata": {},
     "output_type": "execute_result"
    }
   ],
   "source": [
    "df.sample(3)"
   ]
  },
  {
   "cell_type": "code",
   "execution_count": 11,
   "id": "2074166e-ee58-44c5-9052-52c549cbe1e6",
   "metadata": {
    "tags": []
   },
   "outputs": [],
   "source": [
    "## when grouping by funding program (pne project can have multiple rows), len is 1612 for 2023 version of data\n",
    "## asserting the length of the df is the same as number of projects\n",
    "assert len(df) == check_data.project_number.nunique()"
   ]
  },
  {
   "cell_type": "code",
   "execution_count": 12,
   "id": "bf02e0fe-bfc7-417f-a9a3-6fcafca51770",
   "metadata": {
    "tags": []
   },
   "outputs": [
    {
     "data": {
      "text/html": [
       "<div>\n",
       "<style scoped>\n",
       "    .dataframe tbody tr th:only-of-type {\n",
       "        vertical-align: middle;\n",
       "    }\n",
       "\n",
       "    .dataframe tbody tr th {\n",
       "        vertical-align: top;\n",
       "    }\n",
       "\n",
       "    .dataframe thead th {\n",
       "        text-align: right;\n",
       "    }\n",
       "</style>\n",
       "<table border=\"1\" class=\"dataframe\">\n",
       "  <thead>\n",
       "    <tr style=\"text-align: right;\">\n",
       "      <th></th>\n",
       "      <th>fmis_transaction_date</th>\n",
       "      <th>project_number</th>\n",
       "      <th>implementing_agency</th>\n",
       "      <th>summary_recipient_defined_text_field_1_value</th>\n",
       "      <th>program_code</th>\n",
       "      <th>program_code_description</th>\n",
       "      <th>recipient_project_number</th>\n",
       "      <th>improvement_type</th>\n",
       "      <th>improvement_type_description</th>\n",
       "      <th>old_project_title_desc</th>\n",
       "      <th>obligations_amount</th>\n",
       "      <th>congressional_district</th>\n",
       "      <th>district</th>\n",
       "      <th>county_code</th>\n",
       "      <th>county_name</th>\n",
       "      <th>county_name_abbrev</th>\n",
       "      <th>implementing_agency_locode</th>\n",
       "      <th>rtpa_name</th>\n",
       "      <th>mpo_name</th>\n",
       "      <th>new_project_title</th>\n",
       "      <th>new_description_col</th>\n",
       "    </tr>\n",
       "  </thead>\n",
       "  <tbody>\n",
       "    <tr>\n",
       "      <th>1341</th>\n",
       "      <td>2024-04-15</td>\n",
       "      <td>5004049</td>\n",
       "      <td>San Diego</td>\n",
       "      <td>L5004SANDAG</td>\n",
       "      <td>Y001|Y110|Y908|Y909</td>\n",
       "      <td>National Highway Performance Program (NHPP)|Bridge Formula Program|Bridge Replacement and Rehabilitation Program</td>\n",
       "      <td>11955780L</td>\n",
       "      <td>10|17</td>\n",
       "      <td>Bridge Replacement - Added Capacity|Construction Engineering</td>\n",
       "      <td>WEST MISSION BAY DRIVE OVER THE SAN DIEGO RIVER BRIDGE REPLACEMENT, BR. NO. 57C-0023</td>\n",
       "      <td>80036838</td>\n",
       "      <td>|52|</td>\n",
       "      <td>|11|</td>\n",
       "      <td>73</td>\n",
       "      <td>San Diego County</td>\n",
       "      <td>|SD|</td>\n",
       "      <td>04</td>\n",
       "      <td>San Diego Association of Governments</td>\n",
       "      <td>San Diego Association Of Governments</td>\n",
       "      <td>Replace Bridge in San Diego</td>\n",
       "      <td>Replace Bridge in San Diego, part of the National Highway Performance Program (NHPP), and the Bridge Formula Program, and the Bridge Replacement and Rehabilitation Program. (Federal Project ID: 5004049).</td>\n",
       "    </tr>\n",
       "  </tbody>\n",
       "</table>\n",
       "</div>"
      ],
      "text/plain": [
       "     fmis_transaction_date project_number implementing_agency  \\\n",
       "1341            2024-04-15        5004049           San Diego   \n",
       "\n",
       "     summary_recipient_defined_text_field_1_value         program_code  \\\n",
       "1341                                  L5004SANDAG  Y001|Y110|Y908|Y909   \n",
       "\n",
       "                                                                                              program_code_description  \\\n",
       "1341  National Highway Performance Program (NHPP)|Bridge Formula Program|Bridge Replacement and Rehabilitation Program   \n",
       "\n",
       "     recipient_project_number improvement_type  \\\n",
       "1341                11955780L            10|17   \n",
       "\n",
       "                                      improvement_type_description  \\\n",
       "1341  Bridge Replacement - Added Capacity|Construction Engineering   \n",
       "\n",
       "                                                                    old_project_title_desc  \\\n",
       "1341  WEST MISSION BAY DRIVE OVER THE SAN DIEGO RIVER BRIDGE REPLACEMENT, BR. NO. 57C-0023   \n",
       "\n",
       "      obligations_amount congressional_district district county_code  \\\n",
       "1341            80036838                   |52|     |11|          73   \n",
       "\n",
       "           county_name county_name_abbrev implementing_agency_locode  \\\n",
       "1341  San Diego County               |SD|                         04   \n",
       "\n",
       "                                 rtpa_name  \\\n",
       "1341  San Diego Association of Governments   \n",
       "\n",
       "                                  mpo_name            new_project_title  \\\n",
       "1341  San Diego Association Of Governments  Replace Bridge in San Diego   \n",
       "\n",
       "                                                                                                                                                                                              new_description_col  \n",
       "1341  Replace Bridge in San Diego, part of the National Highway Performance Program (NHPP), and the Bridge Formula Program, and the Bridge Replacement and Rehabilitation Program. (Federal Project ID: 5004049).  "
      ]
     },
     "execution_count": 12,
     "metadata": {},
     "output_type": "execute_result"
    }
   ],
   "source": [
    "## check one project with multiple funding codes\n",
    "df>>filter(_.project_number=='5004049')"
   ]
  },
  {
   "cell_type": "code",
   "execution_count": 13,
   "id": "9d4d834f-3b81-4d8f-9dc3-fe38cca7873a",
   "metadata": {
    "tags": []
   },
   "outputs": [
    {
     "name": "stdout",
     "output_type": "stream",
     "text": [
      "<class 'pandas.core.frame.DataFrame'>\n",
      "RangeIndex: 2489 entries, 0 to 2488\n",
      "Data columns (total 21 columns):\n",
      " #   Column                                        Non-Null Count  Dtype         \n",
      "---  ------                                        --------------  -----         \n",
      " 0   fmis_transaction_date                         2489 non-null   datetime64[ns]\n",
      " 1   project_number                                2489 non-null   object        \n",
      " 2   implementing_agency                           2489 non-null   object        \n",
      " 3   summary_recipient_defined_text_field_1_value  2489 non-null   object        \n",
      " 4   program_code                                  2489 non-null   object        \n",
      " 5   program_code_description                      2489 non-null   object        \n",
      " 6   recipient_project_number                      2489 non-null   object        \n",
      " 7   improvement_type                              2489 non-null   object        \n",
      " 8   improvement_type_description                  2489 non-null   object        \n",
      " 9   old_project_title_desc                        2489 non-null   object        \n",
      " 10  obligations_amount                            2489 non-null   int64         \n",
      " 11  congressional_district                        2489 non-null   object        \n",
      " 12  district                                      2489 non-null   object        \n",
      " 13  county_code                                   2489 non-null   object        \n",
      " 14  county_name                                   2489 non-null   object        \n",
      " 15  county_name_abbrev                            2489 non-null   object        \n",
      " 16  implementing_agency_locode                    2489 non-null   object        \n",
      " 17  rtpa_name                                     1606 non-null   object        \n",
      " 18  mpo_name                                      1606 non-null   object        \n",
      " 19  new_project_title                             2489 non-null   object        \n",
      " 20  new_description_col                           2489 non-null   object        \n",
      "dtypes: datetime64[ns](1), int64(1), object(19)\n",
      "memory usage: 408.5+ KB\n"
     ]
    }
   ],
   "source": [
    "df.info()"
   ]
  },
  {
   "cell_type": "code",
   "execution_count": 16,
   "id": "0c0c71ba-2955-4dea-8460-9778ed7f4b55",
   "metadata": {},
   "outputs": [
    {
     "name": "stdout",
     "output_type": "stream",
     "text": [
      "<class 'pandas.core.frame.DataFrame'>\n",
      "RangeIndex: 2489 entries, 0 to 2488\n",
      "Data columns (total 21 columns):\n",
      " #   Column                                        Non-Null Count  Dtype         \n",
      "---  ------                                        --------------  -----         \n",
      " 0   fmis_transaction_date                         2489 non-null   datetime64[ns]\n",
      " 1   project_number                                2489 non-null   object        \n",
      " 2   implementing_agency                           2489 non-null   object        \n",
      " 3   summary_recipient_defined_text_field_1_value  2489 non-null   object        \n",
      " 4   program_code                                  2489 non-null   object        \n",
      " 5   program_code_description                      2489 non-null   object        \n",
      " 6   recipient_project_number                      2489 non-null   object        \n",
      " 7   improvement_type                              2489 non-null   object        \n",
      " 8   improvement_type_description                  2489 non-null   object        \n",
      " 9   old_project_title_desc                        2489 non-null   object        \n",
      " 10  obligations_amount                            2489 non-null   int64         \n",
      " 11  congressional_district                        2489 non-null   object        \n",
      " 12  district                                      2489 non-null   object        \n",
      " 13  county_code                                   2489 non-null   object        \n",
      " 14  county_name                                   2489 non-null   object        \n",
      " 15  county_name_abbrev                            2489 non-null   object        \n",
      " 16  implementing_agency_locode                    2489 non-null   object        \n",
      " 17  rtpa_name                                     1613 non-null   object        \n",
      " 18  mpo_name                                      1613 non-null   object        \n",
      " 19  new_project_title                             2489 non-null   object        \n",
      " 20  new_description_col                           2489 non-null   object        \n",
      "dtypes: datetime64[ns](1), int64(1), object(19)\n",
      "memory usage: 408.5+ KB\n"
     ]
    }
   ],
   "source": [
    "df2.info()"
   ]
  },
  {
   "cell_type": "markdown",
   "id": "3d6cc3f2-07a3-4390-9ee1-8d30aa78909e",
   "metadata": {},
   "source": [
    "## Export Data"
   ]
  },
  {
   "cell_type": "code",
   "execution_count": 14,
   "id": "6652683c-2ea1-456e-918a-bffb7da2de0a",
   "metadata": {},
   "outputs": [],
   "source": [
    "### rename the file for export to GCS\n",
    "### use date to rename"
   ]
  },
  {
   "cell_type": "code",
   "execution_count": 15,
   "id": "388a2112-cc55-46cd-8fa1-941fadb70f13",
   "metadata": {
    "tags": []
   },
   "outputs": [],
   "source": [
    "# _script_utils.export_to_gcs(df, \"01302025_agg\")"
   ]
  },
  {
   "cell_type": "code",
   "execution_count": 17,
   "id": "0c492d4d-d6d3-49f5-a65c-e1d18ea4a5d1",
   "metadata": {},
   "outputs": [],
   "source": [
    "_script_utils.export_to_gcs(df2, \"01312025_agg\")"
   ]
  },
  {
   "cell_type": "code",
   "execution_count": null,
   "id": "041d7477-713f-4c18-98a1-f45355e39fa8",
   "metadata": {},
   "outputs": [],
   "source": []
  }
 ],
 "metadata": {
  "kernelspec": {
   "display_name": "Python 3 (ipykernel)",
   "language": "python",
   "name": "python3"
  },
  "language_info": {
   "codemirror_mode": {
    "name": "ipython",
    "version": 3
   },
   "file_extension": ".py",
   "mimetype": "text/x-python",
   "name": "python",
   "nbconvert_exporter": "python",
   "pygments_lexer": "ipython3",
   "version": "3.11.6"
  },
  "widgets": {
   "application/vnd.jupyter.widget-state+json": {
    "state": {},
    "version_major": 2,
    "version_minor": 0
   }
  }
 },
 "nbformat": 4,
 "nbformat_minor": 5
}
