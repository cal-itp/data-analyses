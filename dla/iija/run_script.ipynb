{
 "cells": [
  {
   "cell_type": "markdown",
   "id": "3c31cd6d-91cd-4b4e-8fd0-9a6ed076e95b",
   "metadata": {},
   "source": [
    "# Run Functions to Add Information to Projects"
   ]
  },
  {
   "cell_type": "markdown",
   "id": "f993b35a-25e9-4aaf-86ab-fd01c724cb92",
   "metadata": {},
   "source": [
    "To run the data through the script, all you need to do is update `my_file` path to the most recent export from FMIS and QMRS uploaded to GCS, then run the function in the section `Export Data` with your dataframe and the current date. Then your aggregated data will be ready in GCS. "
   ]
  },
  {
   "cell_type": "code",
   "execution_count": 1,
   "id": "427ef3d1-a937-483e-bcb5-68e377dd4f35",
   "metadata": {},
   "outputs": [],
   "source": [
    "import pandas as pd\n",
    "from siuba import *\n",
    "\n",
    "import _script_utils"
   ]
  },
  {
   "cell_type": "code",
   "execution_count": 2,
   "id": "ce77f2af-baa1-4cc7-ad1a-64ec8d12e0e9",
   "metadata": {},
   "outputs": [],
   "source": [
    "pd.set_option(\"display.max_columns\", 100)\n",
    "pd.set_option('display.max_colwidth', None)"
   ]
  },
  {
   "cell_type": "markdown",
   "id": "899b931a-6a2c-479c-8db1-85f5e5e0eb27",
   "metadata": {
    "tags": []
   },
   "source": [
    "## Read in Data and function development / Test Function"
   ]
  },
  {
   "cell_type": "markdown",
   "id": "4ccf8b66-6289-41ca-9cc1-1b9538ec5aaa",
   "metadata": {},
   "source": [
    "For the following function:\n",
    "* update the file path for `my_file` to the most recent file name of the FMIS & QMRS export\n",
    "* the second kwargs is the unique recipient identifier, in this case it should stay the same with subsequent exports\n",
    "* the third kwargs is the aggregation level you want for the data. Unless otherwise specified, it should be `agg` which is one row per project"
   ]
  },
  {
   "cell_type": "code",
   "execution_count": 5,
   "id": "50c0f7c4-0c73-47d8-b56e-2ae9111e248f",
   "metadata": {},
   "outputs": [],
   "source": [
    "GCS_FILE_PATH  = 'gs://calitp-analytics-data/data-analyses/dla/dla-iija'"
   ]
  },
  {
   "cell_type": "code",
   "execution_count": 6,
   "id": "e97910e0-80a7-4eb7-9c42-ab09e017157d",
   "metadata": {},
   "outputs": [],
   "source": [
    "my_file = \"FMIS_Projects_Universe_IIJA_Reporting_062923_ToDLA.xlsx\""
   ]
  },
  {
   "cell_type": "code",
   "execution_count": 7,
   "id": "0e5b2fc8-2008-4fa9-815d-3794219692a8",
   "metadata": {},
   "outputs": [
    {
     "name": "stderr",
     "output_type": "stream",
     "text": [
      "/opt/conda/lib/python3.9/site-packages/geopandas/_compat.py:124: UserWarning: The Shapely GEOS version (3.11.1-CAPI-1.17.1) is incompatible with the GEOS version PyGEOS was compiled with (3.10.1-CAPI-1.16.0). Conversions between both will be slow.\n",
      "  warnings.warn(\n",
      "/home/jovyan/data-analyses/dla/iija/_script_utils.py:465: FutureWarning: The default value of regex will change from True to False in a future version.\n",
      "  df['implementing_agency_locode'] = df['implementing_agency_locode'].str.replace('.0', '')\n"
     ]
    }
   ],
   "source": [
    "df = _script_utils.run_script(my_file, 'summary_recipient_defined_text_field_1_value', 'agg')"
   ]
  },
  {
   "cell_type": "code",
   "execution_count": null,
   "id": "442d0c4a-3578-4042-b042-9a279b75d459",
   "metadata": {},
   "outputs": [],
   "source": []
  },
  {
   "cell_type": "markdown",
   "id": "30325e4e-1bd0-4176-be6a-92aecd143e49",
   "metadata": {
    "jp-MarkdownHeadingCollapsed": true,
    "tags": []
   },
   "source": [
    "### Testing the data"
   ]
  },
  {
   "cell_type": "code",
   "execution_count": 10,
   "id": "ca390710-cf98-412e-aece-da32a3bc397d",
   "metadata": {},
   "outputs": [
    {
     "data": {
      "text/html": [
       "<div>\n",
       "<style scoped>\n",
       "    .dataframe tbody tr th:only-of-type {\n",
       "        vertical-align: middle;\n",
       "    }\n",
       "\n",
       "    .dataframe tbody tr th {\n",
       "        vertical-align: top;\n",
       "    }\n",
       "\n",
       "    .dataframe thead th {\n",
       "        text-align: right;\n",
       "    }\n",
       "</style>\n",
       "<table border=\"1\" class=\"dataframe\">\n",
       "  <thead>\n",
       "    <tr style=\"text-align: right;\">\n",
       "      <th></th>\n",
       "      <th>fmis_transaction_date</th>\n",
       "      <th>project_number</th>\n",
       "      <th>implementing_agency</th>\n",
       "      <th>summary_recipient_defined_text_field_1_value</th>\n",
       "      <th>program_code</th>\n",
       "      <th>program_code_description</th>\n",
       "      <th>recipient_project_number</th>\n",
       "      <th>improvement_type</th>\n",
       "      <th>improvement_type_description</th>\n",
       "      <th>old_project_title_desc</th>\n",
       "      <th>obligations_amount</th>\n",
       "      <th>congressional_district</th>\n",
       "      <th>district</th>\n",
       "      <th>county_code</th>\n",
       "      <th>county_name</th>\n",
       "      <th>county_name_abbrev</th>\n",
       "      <th>implementing_agency_locode</th>\n",
       "      <th>rtpa_name</th>\n",
       "      <th>mpo_name</th>\n",
       "      <th>new_project_title</th>\n",
       "      <th>new_description_col</th>\n",
       "    </tr>\n",
       "  </thead>\n",
       "  <tbody>\n",
       "    <tr>\n",
       "      <th>913</th>\n",
       "      <td>2023-03-28</td>\n",
       "      <td>5931030</td>\n",
       "      <td>Alpine County</td>\n",
       "      <td>L5931NON-MPO</td>\n",
       "      <td>Y001|Y110</td>\n",
       "      <td>National Highway Performance Program (NHPP)|Bridge Formula Program</td>\n",
       "      <td>1000020606L</td>\n",
       "      <td>15|10|17</td>\n",
       "      <td>Preliminary Engineering|Bridge Replacement - Added Capacity|Construction Engineering</td>\n",
       "      <td>HOT SPRINGS ROAD (BRIDGE 31C0005) OVER HOT SPRINGS CREEK BRIDGE REPLACEMENT</td>\n",
       "      <td>2923277</td>\n",
       "      <td>|04|</td>\n",
       "      <td>|10|</td>\n",
       "      <td>3</td>\n",
       "      <td>Alpine County</td>\n",
       "      <td>|ALP|</td>\n",
       "      <td>5931</td>\n",
       "      <td>Alpine County Transportation Commission</td>\n",
       "      <td>NON-MPO</td>\n",
       "      <td>Replace Bridge in Alpine County</td>\n",
       "      <td>Replace Bridge in Alpine County, part of the program(s) National Highway Performance Program (NHPP), and the Bridge Formula Program. (Federal Project ID: 5931030).</td>\n",
       "    </tr>\n",
       "    <tr>\n",
       "      <th>879</th>\n",
       "      <td>2023-03-23</td>\n",
       "      <td>5059242</td>\n",
       "      <td>Modesto</td>\n",
       "      <td>L5059STANCOG</td>\n",
       "      <td>Y230</td>\n",
       "      <td>Surface Transportation Block Grant</td>\n",
       "      <td>1020000126L</td>\n",
       "      <td>6|17</td>\n",
       "      <td>4R - Restoration &amp; Rehabilitation|Construction Engineering</td>\n",
       "      <td>PELANDALE AVENUE FROM DALE ROAD TO DETROIT LANE PAVEMENT REHABILITATION (TC)</td>\n",
       "      <td>2000000</td>\n",
       "      <td>|10|</td>\n",
       "      <td>|10|</td>\n",
       "      <td>99</td>\n",
       "      <td>Stanislaus County</td>\n",
       "      <td>|STA|</td>\n",
       "      <td>59</td>\n",
       "      <td>Stanislaus Council of Governments</td>\n",
       "      <td>Stanislaus Council Of Governments</td>\n",
       "      <td>Pavement Rehabilitation in Modesto</td>\n",
       "      <td>Pavement Rehabilitation in Modesto, part of the program(s) Surface Transportation Block Grant. (Federal Project ID: 5059242).</td>\n",
       "    </tr>\n",
       "    <tr>\n",
       "      <th>807</th>\n",
       "      <td>2023-02-27</td>\n",
       "      <td>6212022</td>\n",
       "      <td>Caltrans</td>\n",
       "      <td>S6212SCAG</td>\n",
       "      <td>Y230</td>\n",
       "      <td>Surface Transportation Block Grant</td>\n",
       "      <td>1214000097L</td>\n",
       "      <td>17</td>\n",
       "      <td>Construction Engineering</td>\n",
       "      <td>INTERSTATE 5 FROM OSO CREEK TO ALICIA PARKWAY CONSTRUCT ONE GENERAL PURPOSE LANE ON EACH DIRECTION, RECONSTRUCT LA PAZ ROAD INTERCHANGE AND ADD AUXIL</td>\n",
       "      <td>1000000</td>\n",
       "      <td>|45|</td>\n",
       "      <td>|12|</td>\n",
       "      <td>59</td>\n",
       "      <td>Multi-County</td>\n",
       "      <td>|NA|</td>\n",
       "      <td>6212</td>\n",
       "      <td>CT-ADMIN</td>\n",
       "      <td>CT-ADMIN</td>\n",
       "      <td>Caltrans  Construction Engineering Projects</td>\n",
       "      <td>Caltrans  Construction Engineering Projects, part of the program(s) Surface Transportation Block Grant. (Federal Project ID: 6212022).</td>\n",
       "    </tr>\n",
       "  </tbody>\n",
       "</table>\n",
       "</div>"
      ],
      "text/plain": [
       "    fmis_transaction_date project_number implementing_agency  \\\n",
       "913            2023-03-28        5931030       Alpine County   \n",
       "879            2023-03-23        5059242             Modesto   \n",
       "807            2023-02-27        6212022            Caltrans   \n",
       "\n",
       "    summary_recipient_defined_text_field_1_value program_code  \\\n",
       "913                                 L5931NON-MPO    Y001|Y110   \n",
       "879                                 L5059STANCOG         Y230   \n",
       "807                                    S6212SCAG         Y230   \n",
       "\n",
       "                                               program_code_description  \\\n",
       "913  National Highway Performance Program (NHPP)|Bridge Formula Program   \n",
       "879                                  Surface Transportation Block Grant   \n",
       "807                                  Surface Transportation Block Grant   \n",
       "\n",
       "    recipient_project_number improvement_type  \\\n",
       "913              1000020606L         15|10|17   \n",
       "879              1020000126L             6|17   \n",
       "807              1214000097L               17   \n",
       "\n",
       "                                                             improvement_type_description  \\\n",
       "913  Preliminary Engineering|Bridge Replacement - Added Capacity|Construction Engineering   \n",
       "879                            4R - Restoration & Rehabilitation|Construction Engineering   \n",
       "807                                                              Construction Engineering   \n",
       "\n",
       "                                                                                                                                    old_project_title_desc  \\\n",
       "913                                                                            HOT SPRINGS ROAD (BRIDGE 31C0005) OVER HOT SPRINGS CREEK BRIDGE REPLACEMENT   \n",
       "879                                                                           PELANDALE AVENUE FROM DALE ROAD TO DETROIT LANE PAVEMENT REHABILITATION (TC)   \n",
       "807  INTERSTATE 5 FROM OSO CREEK TO ALICIA PARKWAY CONSTRUCT ONE GENERAL PURPOSE LANE ON EACH DIRECTION, RECONSTRUCT LA PAZ ROAD INTERCHANGE AND ADD AUXIL   \n",
       "\n",
       "     obligations_amount congressional_district district county_code  \\\n",
       "913             2923277                   |04|     |10|           3   \n",
       "879             2000000                   |10|     |10|          99   \n",
       "807             1000000                   |45|     |12|          59   \n",
       "\n",
       "           county_name county_name_abbrev implementing_agency_locode  \\\n",
       "913      Alpine County              |ALP|                       5931   \n",
       "879  Stanislaus County              |STA|                         59   \n",
       "807       Multi-County               |NA|                       6212   \n",
       "\n",
       "                                   rtpa_name  \\\n",
       "913  Alpine County Transportation Commission   \n",
       "879        Stanislaus Council of Governments   \n",
       "807                                 CT-ADMIN   \n",
       "\n",
       "                              mpo_name  \\\n",
       "913                            NON-MPO   \n",
       "879  Stanislaus Council Of Governments   \n",
       "807                           CT-ADMIN   \n",
       "\n",
       "                               new_project_title  \\\n",
       "913              Replace Bridge in Alpine County   \n",
       "879           Pavement Rehabilitation in Modesto   \n",
       "807  Caltrans  Construction Engineering Projects   \n",
       "\n",
       "                                                                                                                                                     new_description_col  \n",
       "913  Replace Bridge in Alpine County, part of the program(s) National Highway Performance Program (NHPP), and the Bridge Formula Program. (Federal Project ID: 5931030).  \n",
       "879                                        Pavement Rehabilitation in Modesto, part of the program(s) Surface Transportation Block Grant. (Federal Project ID: 5059242).  \n",
       "807                               Caltrans  Construction Engineering Projects, part of the program(s) Surface Transportation Block Grant. (Federal Project ID: 6212022).  "
      ]
     },
     "execution_count": 10,
     "metadata": {},
     "output_type": "execute_result"
    }
   ],
   "source": [
    "df.sample(3)"
   ]
  },
  {
   "cell_type": "code",
   "execution_count": 11,
   "id": "2074166e-ee58-44c5-9052-52c549cbe1e6",
   "metadata": {},
   "outputs": [
    {
     "data": {
      "text/plain": [
       "1465"
      ]
     },
     "execution_count": 11,
     "metadata": {},
     "output_type": "execute_result"
    }
   ],
   "source": [
    "## when grouping by funding program (pne project can have multiple rows), len is 1612\n",
    "len(df)"
   ]
  },
  {
   "cell_type": "code",
   "execution_count": 13,
   "id": "bf02e0fe-bfc7-417f-a9a3-6fcafca51770",
   "metadata": {},
   "outputs": [
    {
     "data": {
      "text/html": [
       "<div>\n",
       "<style scoped>\n",
       "    .dataframe tbody tr th:only-of-type {\n",
       "        vertical-align: middle;\n",
       "    }\n",
       "\n",
       "    .dataframe tbody tr th {\n",
       "        vertical-align: top;\n",
       "    }\n",
       "\n",
       "    .dataframe thead th {\n",
       "        text-align: right;\n",
       "    }\n",
       "</style>\n",
       "<table border=\"1\" class=\"dataframe\">\n",
       "  <thead>\n",
       "    <tr style=\"text-align: right;\">\n",
       "      <th></th>\n",
       "      <th>fmis_transaction_date</th>\n",
       "      <th>project_number</th>\n",
       "      <th>implementing_agency</th>\n",
       "      <th>summary_recipient_defined_text_field_1_value</th>\n",
       "      <th>program_code</th>\n",
       "      <th>program_code_description</th>\n",
       "      <th>recipient_project_number</th>\n",
       "      <th>improvement_type</th>\n",
       "      <th>improvement_type_description</th>\n",
       "      <th>old_project_title_desc</th>\n",
       "      <th>obligations_amount</th>\n",
       "      <th>congressional_district</th>\n",
       "      <th>district</th>\n",
       "      <th>county_code</th>\n",
       "      <th>county_name</th>\n",
       "      <th>county_name_abbrev</th>\n",
       "      <th>implementing_agency_locode</th>\n",
       "      <th>rtpa_name</th>\n",
       "      <th>mpo_name</th>\n",
       "      <th>new_project_title</th>\n",
       "      <th>new_description_col</th>\n",
       "    </tr>\n",
       "  </thead>\n",
       "  <tbody>\n",
       "    <tr>\n",
       "      <th>1372</th>\n",
       "      <td>2023-06-26</td>\n",
       "      <td>5004049</td>\n",
       "      <td>San Diego</td>\n",
       "      <td>L5004SANDAG</td>\n",
       "      <td>Y001|Y110|Y908|Y909</td>\n",
       "      <td>National Highway Performance Program (NHPP)|Bridge Formula Program|Bridge Replacement and Rehabilitation Program</td>\n",
       "      <td>11955780L</td>\n",
       "      <td>10|17</td>\n",
       "      <td>Bridge Replacement - Added Capacity|Construction Engineering</td>\n",
       "      <td>WEST MISSION BAY DRIVE OVER THE SAN DIEGO RIVER BRIDGE REPLACEMENT, BR. NO. 57C-0023</td>\n",
       "      <td>69715548</td>\n",
       "      <td>|52|</td>\n",
       "      <td>|11|</td>\n",
       "      <td>73</td>\n",
       "      <td>San Diego County</td>\n",
       "      <td>|SD|</td>\n",
       "      <td>04</td>\n",
       "      <td>San Diego Association of Governments</td>\n",
       "      <td>San Diego Association Of Governments</td>\n",
       "      <td>Replace Bridge in San Diego</td>\n",
       "      <td>Replace Bridge in San Diego, part of the program(s) National Highway Performance Program (NHPP), and the Bridge Formula Program, and the Bridge Replacement and Rehabilitation Program. (Federal Project ID: 5004049).</td>\n",
       "    </tr>\n",
       "  </tbody>\n",
       "</table>\n",
       "</div>"
      ],
      "text/plain": [
       "     fmis_transaction_date project_number implementing_agency  \\\n",
       "1372            2023-06-26        5004049           San Diego   \n",
       "\n",
       "     summary_recipient_defined_text_field_1_value         program_code  \\\n",
       "1372                                  L5004SANDAG  Y001|Y110|Y908|Y909   \n",
       "\n",
       "                                                                                              program_code_description  \\\n",
       "1372  National Highway Performance Program (NHPP)|Bridge Formula Program|Bridge Replacement and Rehabilitation Program   \n",
       "\n",
       "     recipient_project_number improvement_type  \\\n",
       "1372                11955780L            10|17   \n",
       "\n",
       "                                      improvement_type_description  \\\n",
       "1372  Bridge Replacement - Added Capacity|Construction Engineering   \n",
       "\n",
       "                                                                    old_project_title_desc  \\\n",
       "1372  WEST MISSION BAY DRIVE OVER THE SAN DIEGO RIVER BRIDGE REPLACEMENT, BR. NO. 57C-0023   \n",
       "\n",
       "      obligations_amount congressional_district district county_code  \\\n",
       "1372            69715548                   |52|     |11|          73   \n",
       "\n",
       "           county_name county_name_abbrev implementing_agency_locode  \\\n",
       "1372  San Diego County               |SD|                         04   \n",
       "\n",
       "                                 rtpa_name  \\\n",
       "1372  San Diego Association of Governments   \n",
       "\n",
       "                                  mpo_name            new_project_title  \\\n",
       "1372  San Diego Association Of Governments  Replace Bridge in San Diego   \n",
       "\n",
       "                                                                                                                                                                                                         new_description_col  \n",
       "1372  Replace Bridge in San Diego, part of the program(s) National Highway Performance Program (NHPP), and the Bridge Formula Program, and the Bridge Replacement and Rehabilitation Program. (Federal Project ID: 5004049).  "
      ]
     },
     "execution_count": 13,
     "metadata": {},
     "output_type": "execute_result"
    }
   ],
   "source": [
    "## check one project with multiple funding codes\n",
    "df>>filter(_.project_number=='5004049')"
   ]
  },
  {
   "cell_type": "code",
   "execution_count": null,
   "id": "9d4d834f-3b81-4d8f-9dc3-fe38cca7873a",
   "metadata": {},
   "outputs": [],
   "source": []
  },
  {
   "cell_type": "markdown",
   "id": "3d6cc3f2-07a3-4390-9ee1-8d30aa78909e",
   "metadata": {},
   "source": [
    "## Export Data"
   ]
  },
  {
   "cell_type": "code",
   "execution_count": 14,
   "id": "388a2112-cc55-46cd-8fa1-941fadb70f13",
   "metadata": {},
   "outputs": [],
   "source": [
    "# _script_utils.export_to_gcs(df, \"export_name\")"
   ]
  },
  {
   "cell_type": "code",
   "execution_count": null,
   "id": "0c492d4d-d6d3-49f5-a65c-e1d18ea4a5d1",
   "metadata": {},
   "outputs": [],
   "source": []
  },
  {
   "cell_type": "code",
   "execution_count": null,
   "id": "041d7477-713f-4c18-98a1-f45355e39fa8",
   "metadata": {},
   "outputs": [],
   "source": []
  }
 ],
 "metadata": {
  "kernelspec": {
   "display_name": "Python 3 (ipykernel)",
   "language": "python",
   "name": "python3"
  },
  "language_info": {
   "codemirror_mode": {
    "name": "ipython",
    "version": 3
   },
   "file_extension": ".py",
   "mimetype": "text/x-python",
   "name": "python",
   "nbconvert_exporter": "python",
   "pygments_lexer": "ipython3",
   "version": "3.9.13"
  },
  "widgets": {
   "application/vnd.jupyter.widget-state+json": {
    "state": {},
    "version_major": 2,
    "version_minor": 0
   }
  }
 },
 "nbformat": 4,
 "nbformat_minor": 5
}
