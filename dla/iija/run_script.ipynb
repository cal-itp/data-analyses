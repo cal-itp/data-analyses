{
 "cells": [
  {
   "cell_type": "markdown",
   "id": "3c31cd6d-91cd-4b4e-8fd0-9a6ed076e95b",
   "metadata": {},
   "source": [
    "# Run Functions to Add Information to Projects"
   ]
  },
  {
   "cell_type": "markdown",
   "id": "f993b35a-25e9-4aaf-86ab-fd01c724cb92",
   "metadata": {},
   "source": [
    "To run the data through the script, all you need to do is update `my_file` path to the most recent export from FMIS and QMRS uploaded to GCS, then run the function in the section `Export Data` with your dataframe and the current date. Then your aggregated data will be ready in GCS. "
   ]
  },
  {
   "cell_type": "code",
   "execution_count": 1,
   "id": "427ef3d1-a937-483e-bcb5-68e377dd4f35",
   "metadata": {},
   "outputs": [],
   "source": [
    "import pandas as pd\n",
    "from siuba import *\n",
    "\n",
    "import _script_utils\n",
    "\n",
    "from calitp_data_analysis.sql import to_snakecase\n"
   ]
  },
  {
   "cell_type": "code",
   "execution_count": 2,
   "id": "ce77f2af-baa1-4cc7-ad1a-64ec8d12e0e9",
   "metadata": {},
   "outputs": [],
   "source": [
    "pd.set_option(\"display.max_columns\", 100)\n",
    "pd.set_option('display.max_colwidth', None)"
   ]
  },
  {
   "cell_type": "markdown",
   "id": "899b931a-6a2c-479c-8db1-85f5e5e0eb27",
   "metadata": {
    "tags": []
   },
   "source": [
    "## Read in Data and function development / Test Function"
   ]
  },
  {
   "cell_type": "markdown",
   "id": "4ccf8b66-6289-41ca-9cc1-1b9538ec5aaa",
   "metadata": {},
   "source": [
    "For the following function:\n",
    "* update the file path for `my_file` to the most recent file name of the FMIS & QMRS export\n",
    "* the second kwargs is the unique recipient identifier, in this case it should stay the same with subsequent exports\n",
    "* the third kwargs is the aggregation level you want for the data. Unless otherwise specified, it should be `agg` which is one row per project"
   ]
  },
  {
   "cell_type": "code",
   "execution_count": 3,
   "id": "50c0f7c4-0c73-47d8-b56e-2ae9111e248f",
   "metadata": {},
   "outputs": [],
   "source": [
    "GCS_FILE_PATH  = 'gs://calitp-analytics-data/data-analyses/dla/dla-iija'"
   ]
  },
  {
   "cell_type": "code",
   "execution_count": 4,
   "id": "e97910e0-80a7-4eb7-9c42-ab09e017157d",
   "metadata": {},
   "outputs": [],
   "source": [
    "my_file = \"FMIS_Projects_Universe_IIJA_Reporting_03012024_ToDLA.xlsx\""
   ]
  },
  {
   "cell_type": "code",
   "execution_count": null,
   "id": "2042b3b6-5003-45b5-ba15-9c701000f4cd",
   "metadata": {},
   "outputs": [],
   "source": []
  },
  {
   "cell_type": "markdown",
   "id": "bb7ff766-0a96-4015-9e43-1799dbcccd8a",
   "metadata": {},
   "source": [
    "### Check data"
   ]
  },
  {
   "cell_type": "code",
   "execution_count": 5,
   "id": "e104318c-bd90-42d6-9c1d-36a9e8ceb003",
   "metadata": {},
   "outputs": [],
   "source": [
    "check_data = to_snakecase(pd.read_excel(f\"{GCS_FILE_PATH}/{my_file}\"))"
   ]
  },
  {
   "cell_type": "code",
   "execution_count": 6,
   "id": "720b2731-1646-414d-bb72-345a8fdc27ce",
   "metadata": {},
   "outputs": [
    {
     "data": {
      "text/html": [
       "<div>\n",
       "<style scoped>\n",
       "    .dataframe tbody tr th:only-of-type {\n",
       "        vertical-align: middle;\n",
       "    }\n",
       "\n",
       "    .dataframe tbody tr th {\n",
       "        vertical-align: top;\n",
       "    }\n",
       "\n",
       "    .dataframe thead th {\n",
       "        text-align: right;\n",
       "    }\n",
       "</style>\n",
       "<table border=\"1\" class=\"dataframe\">\n",
       "  <thead>\n",
       "    <tr style=\"text-align: right;\">\n",
       "      <th></th>\n",
       "      <th>fmis_transaction_date</th>\n",
       "      <th>program_code</th>\n",
       "      <th>program_code_description</th>\n",
       "      <th>project_number</th>\n",
       "      <th>recipient_project_number</th>\n",
       "      <th>project_title</th>\n",
       "      <th>county_code</th>\n",
       "      <th>congressional_district</th>\n",
       "      <th>project_status_description</th>\n",
       "      <th>project_description</th>\n",
       "      <th>improvement_type</th>\n",
       "      <th>improvement_type_description</th>\n",
       "      <th>total_cost_amount</th>\n",
       "      <th>obligations_amount</th>\n",
       "      <th>summary_recipient_defined_text_field_1_value</th>\n",
       "      <th>proj_id</th>\n",
       "    </tr>\n",
       "  </thead>\n",
       "  <tbody>\n",
       "    <tr>\n",
       "      <th>3912</th>\n",
       "      <td>45324</td>\n",
       "      <td>YS32</td>\n",
       "      <td>SEC 164 PENALTIES HSIP IIJA</td>\n",
       "      <td>P084056</td>\n",
       "      <td>0416000005S</td>\n",
       "      <td>ALAMEDA COUNTY IN FREMONT FROM THE NORTH END OF DUMBARTON BRIDGE TO 0.1 MILE SOUTH OF TOLL PLAZA CONCRETE BARRIER, SHOULDER WIDENING, STRIPING, COLD</td>\n",
       "      <td>1</td>\n",
       "      <td>Cong Dist 15</td>\n",
       "      <td>Active</td>\n",
       "      <td>ON STATE ROUTE: 84. ALAMEDA COUNTY IN FREMONT FROM THE NORTH END OF DUMBARTON BRIDGE TO 0.1 MILE SOUTH OF TOLL PLAZA CONCRETE BARRIER, SHOULDER WIDENING, STRIPING, COLD PLAN, AND OVERLAY.- (TC)</td>\n",
       "      <td>42</td>\n",
       "      <td>Training</td>\n",
       "      <td>5966.96</td>\n",
       "      <td>5966.96</td>\n",
       "      <td>S    MTC</td>\n",
       "      <td>0416000005</td>\n",
       "    </tr>\n",
       "  </tbody>\n",
       "</table>\n",
       "</div>"
      ],
      "text/plain": [
       "      fmis_transaction_date program_code     program_code_description  \\\n",
       "3912                  45324         YS32  SEC 164 PENALTIES HSIP IIJA   \n",
       "\n",
       "     project_number recipient_project_number  \\\n",
       "3912        P084056              0416000005S   \n",
       "\n",
       "                                                                                                                                             project_title  \\\n",
       "3912  ALAMEDA COUNTY IN FREMONT FROM THE NORTH END OF DUMBARTON BRIDGE TO 0.1 MILE SOUTH OF TOLL PLAZA CONCRETE BARRIER, SHOULDER WIDENING, STRIPING, COLD   \n",
       "\n",
       "      county_code congressional_district project_status_description  \\\n",
       "3912            1           Cong Dist 15                     Active   \n",
       "\n",
       "                                                                                                                                                                                    project_description  \\\n",
       "3912  ON STATE ROUTE: 84. ALAMEDA COUNTY IN FREMONT FROM THE NORTH END OF DUMBARTON BRIDGE TO 0.1 MILE SOUTH OF TOLL PLAZA CONCRETE BARRIER, SHOULDER WIDENING, STRIPING, COLD PLAN, AND OVERLAY.- (TC)   \n",
       "\n",
       "      improvement_type improvement_type_description  total_cost_amount  \\\n",
       "3912                42                     Training            5966.96   \n",
       "\n",
       "      obligations_amount summary_recipient_defined_text_field_1_value  \\\n",
       "3912             5966.96                                     S    MTC   \n",
       "\n",
       "         proj_id  \n",
       "3912  0416000005  "
      ]
     },
     "execution_count": 6,
     "metadata": {},
     "output_type": "execute_result"
    }
   ],
   "source": [
    "check_data.sample()"
   ]
  },
  {
   "cell_type": "code",
   "execution_count": 7,
   "id": "a0890faa-9ef1-47ba-b758-7ea636a3e40d",
   "metadata": {},
   "outputs": [
    {
     "data": {
      "text/plain": [
       "1968"
      ]
     },
     "execution_count": 7,
     "metadata": {},
     "output_type": "execute_result"
    }
   ],
   "source": [
    "check_data.project_number.nunique()"
   ]
  },
  {
   "cell_type": "code",
   "execution_count": null,
   "id": "96510890-b6c7-4db3-9c4a-0872b23439a5",
   "metadata": {},
   "outputs": [],
   "source": []
  },
  {
   "cell_type": "code",
   "execution_count": null,
   "id": "c750c45b-28f3-4ebc-aed2-f39fd128ccea",
   "metadata": {},
   "outputs": [],
   "source": []
  },
  {
   "cell_type": "markdown",
   "id": "b9406960-ac09-43c1-a17c-498a9c687fe4",
   "metadata": {},
   "source": [
    "### Run Script"
   ]
  },
  {
   "cell_type": "code",
   "execution_count": 8,
   "id": "0e5b2fc8-2008-4fa9-815d-3794219692a8",
   "metadata": {},
   "outputs": [
    {
     "name": "stderr",
     "output_type": "stream",
     "text": [
      "/home/jovyan/data-analyses/dla/iija/_script_utils.py:465: FutureWarning: The default value of regex will change from True to False in a future version.\n",
      "  df['implementing_agency_locode'] = df['implementing_agency_locode'].str.replace('.0', '')\n"
     ]
    }
   ],
   "source": [
    "df = _script_utils.run_script(my_file, 'summary_recipient_defined_text_field_1_value', 'agg')"
   ]
  },
  {
   "cell_type": "code",
   "execution_count": null,
   "id": "442d0c4a-3578-4042-b042-9a279b75d459",
   "metadata": {},
   "outputs": [],
   "source": []
  },
  {
   "cell_type": "markdown",
   "id": "30325e4e-1bd0-4176-be6a-92aecd143e49",
   "metadata": {
    "tags": []
   },
   "source": [
    "### Testing the data"
   ]
  },
  {
   "cell_type": "code",
   "execution_count": 9,
   "id": "ca390710-cf98-412e-aece-da32a3bc397d",
   "metadata": {},
   "outputs": [
    {
     "data": {
      "text/html": [
       "<div>\n",
       "<style scoped>\n",
       "    .dataframe tbody tr th:only-of-type {\n",
       "        vertical-align: middle;\n",
       "    }\n",
       "\n",
       "    .dataframe tbody tr th {\n",
       "        vertical-align: top;\n",
       "    }\n",
       "\n",
       "    .dataframe thead th {\n",
       "        text-align: right;\n",
       "    }\n",
       "</style>\n",
       "<table border=\"1\" class=\"dataframe\">\n",
       "  <thead>\n",
       "    <tr style=\"text-align: right;\">\n",
       "      <th></th>\n",
       "      <th>fmis_transaction_date</th>\n",
       "      <th>project_number</th>\n",
       "      <th>implementing_agency</th>\n",
       "      <th>summary_recipient_defined_text_field_1_value</th>\n",
       "      <th>program_code</th>\n",
       "      <th>program_code_description</th>\n",
       "      <th>recipient_project_number</th>\n",
       "      <th>improvement_type</th>\n",
       "      <th>improvement_type_description</th>\n",
       "      <th>old_project_title_desc</th>\n",
       "      <th>obligations_amount</th>\n",
       "      <th>congressional_district</th>\n",
       "      <th>district</th>\n",
       "      <th>county_code</th>\n",
       "      <th>county_name</th>\n",
       "      <th>county_name_abbrev</th>\n",
       "      <th>implementing_agency_locode</th>\n",
       "      <th>rtpa_name</th>\n",
       "      <th>mpo_name</th>\n",
       "      <th>new_project_title</th>\n",
       "      <th>new_description_col</th>\n",
       "    </tr>\n",
       "  </thead>\n",
       "  <tbody>\n",
       "    <tr>\n",
       "      <th>683</th>\n",
       "      <td>45021</td>\n",
       "      <td>5208171</td>\n",
       "      <td>Clovis</td>\n",
       "      <td>L5208FCOG</td>\n",
       "      <td>Y230</td>\n",
       "      <td>Surface Transportation Block Grant</td>\n",
       "      <td>0620000056L</td>\n",
       "      <td>15</td>\n",
       "      <td>Preliminary Engineering</td>\n",
       "      <td>BARSTOW AVENUE BETWEEN MINNEWAWA AND CLOVIS AVENUES ROAD REHABILITATION INCLUDING CURB, SIGNAL, SIGNAGE, DETECTOR LOOPS AND STRIPING (TC)</td>\n",
       "      <td>8444</td>\n",
       "      <td>|22|</td>\n",
       "      <td>|06|</td>\n",
       "      <td>19</td>\n",
       "      <td>Fresno County</td>\n",
       "      <td>|FRE|</td>\n",
       "      <td>58</td>\n",
       "      <td>Council of Fresno County Governments</td>\n",
       "      <td>Council Of Fresno County Goverments</td>\n",
       "      <td>Signals in Clovis</td>\n",
       "      <td>Signals in Clovis, part of the program(s) Surface Transportation Block Grant. (Federal Project ID: 5208171).</td>\n",
       "    </tr>\n",
       "    <tr>\n",
       "      <th>1549</th>\n",
       "      <td>45258</td>\n",
       "      <td>5954183</td>\n",
       "      <td>San Bernardino County</td>\n",
       "      <td>L5954SCAG</td>\n",
       "      <td>Y001</td>\n",
       "      <td>National Highway Performance Program (NHPP)</td>\n",
       "      <td>0821000031L</td>\n",
       "      <td>15</td>\n",
       "      <td>Preliminary Engineering</td>\n",
       "      <td>NATIONAL TRAILS HIGHWAY (ROUTE 66) AT IZZY DITCH 24.2 MILES EAST OF KELBAKER ROAD, BR. NO. 54C-0319 REPLACE TWO LANE TIMBER BRIDGE WITH TWO LANE BRID</td>\n",
       "      <td>328000</td>\n",
       "      <td>|08|</td>\n",
       "      <td>|08|</td>\n",
       "      <td>71</td>\n",
       "      <td>San Bernardino County</td>\n",
       "      <td>|SBD|</td>\n",
       "      <td>5954</td>\n",
       "      <td>San Bernardino Associated Governments</td>\n",
       "      <td>Southern California Association Of Governments</td>\n",
       "      <td>Preliminary Engineering Projects in San Bernardino County</td>\n",
       "      <td>Preliminary Engineering Projects in San Bernardino County, part of the program(s) National Highway Performance Program (NHPP). (Federal Project ID: 5954183).</td>\n",
       "    </tr>\n",
       "    <tr>\n",
       "      <th>1421</th>\n",
       "      <td>45223</td>\n",
       "      <td>5904127</td>\n",
       "      <td>Humboldt County</td>\n",
       "      <td>L5904NON-MPO</td>\n",
       "      <td>Y001</td>\n",
       "      <td>National Highway Performance Program (NHPP)</td>\n",
       "      <td>0112000291L</td>\n",
       "      <td>17</td>\n",
       "      <td>Construction Engineering</td>\n",
       "      <td>WILLIAMS CREEK BRIDGE (04C0209) ON GRIZZLY BLUFF ROAD IN HUMBOLDT COUNTY, CA BRIDGE REPLACEMENT</td>\n",
       "      <td>45602</td>\n",
       "      <td>|02|</td>\n",
       "      <td>|01|</td>\n",
       "      <td>23</td>\n",
       "      <td>Humboldt County</td>\n",
       "      <td>|HUM|</td>\n",
       "      <td>54</td>\n",
       "      <td>Humboldt County Association of Governments</td>\n",
       "      <td>NON-MPO</td>\n",
       "      <td>Replace Bridge in Humboldt County</td>\n",
       "      <td>Replace Bridge in Humboldt County, part of the program(s) National Highway Performance Program (NHPP). (Federal Project ID: 5904127).</td>\n",
       "    </tr>\n",
       "  </tbody>\n",
       "</table>\n",
       "</div>"
      ],
      "text/plain": [
       "      fmis_transaction_date project_number    implementing_agency  \\\n",
       "683                   45021        5208171                 Clovis   \n",
       "1549                  45258        5954183  San Bernardino County   \n",
       "1421                  45223        5904127        Humboldt County   \n",
       "\n",
       "     summary_recipient_defined_text_field_1_value program_code  \\\n",
       "683                                     L5208FCOG         Y230   \n",
       "1549                                    L5954SCAG         Y001   \n",
       "1421                                 L5904NON-MPO         Y001   \n",
       "\n",
       "                         program_code_description recipient_project_number  \\\n",
       "683            Surface Transportation Block Grant              0620000056L   \n",
       "1549  National Highway Performance Program (NHPP)              0821000031L   \n",
       "1421  National Highway Performance Program (NHPP)              0112000291L   \n",
       "\n",
       "     improvement_type improvement_type_description  \\\n",
       "683                15      Preliminary Engineering   \n",
       "1549               15      Preliminary Engineering   \n",
       "1421               17     Construction Engineering   \n",
       "\n",
       "                                                                                                                                     old_project_title_desc  \\\n",
       "683               BARSTOW AVENUE BETWEEN MINNEWAWA AND CLOVIS AVENUES ROAD REHABILITATION INCLUDING CURB, SIGNAL, SIGNAGE, DETECTOR LOOPS AND STRIPING (TC)   \n",
       "1549  NATIONAL TRAILS HIGHWAY (ROUTE 66) AT IZZY DITCH 24.2 MILES EAST OF KELBAKER ROAD, BR. NO. 54C-0319 REPLACE TWO LANE TIMBER BRIDGE WITH TWO LANE BRID   \n",
       "1421                                                        WILLIAMS CREEK BRIDGE (04C0209) ON GRIZZLY BLUFF ROAD IN HUMBOLDT COUNTY, CA BRIDGE REPLACEMENT   \n",
       "\n",
       "      obligations_amount congressional_district district county_code  \\\n",
       "683                 8444                   |22|     |06|          19   \n",
       "1549              328000                   |08|     |08|          71   \n",
       "1421               45602                   |02|     |01|          23   \n",
       "\n",
       "                county_name county_name_abbrev implementing_agency_locode  \\\n",
       "683           Fresno County              |FRE|                         58   \n",
       "1549  San Bernardino County              |SBD|                       5954   \n",
       "1421        Humboldt County              |HUM|                         54   \n",
       "\n",
       "                                       rtpa_name  \\\n",
       "683         Council of Fresno County Governments   \n",
       "1549       San Bernardino Associated Governments   \n",
       "1421  Humboldt County Association of Governments   \n",
       "\n",
       "                                            mpo_name  \\\n",
       "683              Council Of Fresno County Goverments   \n",
       "1549  Southern California Association Of Governments   \n",
       "1421                                         NON-MPO   \n",
       "\n",
       "                                               new_project_title  \\\n",
       "683                                            Signals in Clovis   \n",
       "1549   Preliminary Engineering Projects in San Bernardino County   \n",
       "1421                           Replace Bridge in Humboldt County   \n",
       "\n",
       "                                                                                                                                                 new_description_col  \n",
       "683                                                     Signals in Clovis, part of the program(s) Surface Transportation Block Grant. (Federal Project ID: 5208171).  \n",
       "1549   Preliminary Engineering Projects in San Bernardino County, part of the program(s) National Highway Performance Program (NHPP). (Federal Project ID: 5954183).  \n",
       "1421                           Replace Bridge in Humboldt County, part of the program(s) National Highway Performance Program (NHPP). (Federal Project ID: 5904127).  "
      ]
     },
     "execution_count": 9,
     "metadata": {},
     "output_type": "execute_result"
    }
   ],
   "source": [
    "df.sample(3)"
   ]
  },
  {
   "cell_type": "code",
   "execution_count": 10,
   "id": "2074166e-ee58-44c5-9052-52c549cbe1e6",
   "metadata": {},
   "outputs": [],
   "source": [
    "## when grouping by funding program (pne project can have multiple rows), len is 1612 for 2023 version of data\n",
    "## asserting the length of the df is the same as number of projects\n",
    "assert len(df) == check_data.project_number.nunique()"
   ]
  },
  {
   "cell_type": "code",
   "execution_count": 11,
   "id": "bf02e0fe-bfc7-417f-a9a3-6fcafca51770",
   "metadata": {},
   "outputs": [
    {
     "data": {
      "text/html": [
       "<div>\n",
       "<style scoped>\n",
       "    .dataframe tbody tr th:only-of-type {\n",
       "        vertical-align: middle;\n",
       "    }\n",
       "\n",
       "    .dataframe tbody tr th {\n",
       "        vertical-align: top;\n",
       "    }\n",
       "\n",
       "    .dataframe thead th {\n",
       "        text-align: right;\n",
       "    }\n",
       "</style>\n",
       "<table border=\"1\" class=\"dataframe\">\n",
       "  <thead>\n",
       "    <tr style=\"text-align: right;\">\n",
       "      <th></th>\n",
       "      <th>fmis_transaction_date</th>\n",
       "      <th>project_number</th>\n",
       "      <th>implementing_agency</th>\n",
       "      <th>summary_recipient_defined_text_field_1_value</th>\n",
       "      <th>program_code</th>\n",
       "      <th>program_code_description</th>\n",
       "      <th>recipient_project_number</th>\n",
       "      <th>improvement_type</th>\n",
       "      <th>improvement_type_description</th>\n",
       "      <th>old_project_title_desc</th>\n",
       "      <th>obligations_amount</th>\n",
       "      <th>congressional_district</th>\n",
       "      <th>district</th>\n",
       "      <th>county_code</th>\n",
       "      <th>county_name</th>\n",
       "      <th>county_name_abbrev</th>\n",
       "      <th>implementing_agency_locode</th>\n",
       "      <th>rtpa_name</th>\n",
       "      <th>mpo_name</th>\n",
       "      <th>new_project_title</th>\n",
       "      <th>new_description_col</th>\n",
       "    </tr>\n",
       "  </thead>\n",
       "  <tbody>\n",
       "    <tr>\n",
       "      <th>1129</th>\n",
       "      <td>45133</td>\n",
       "      <td>5004049</td>\n",
       "      <td>San Diego</td>\n",
       "      <td>L5004SANDAG</td>\n",
       "      <td>Y001|Y110|Y908|Y909</td>\n",
       "      <td>National Highway Performance Program (NHPP)|Bridge Formula Program|Bridge Replacement and Rehabilitation Program</td>\n",
       "      <td>11955780L</td>\n",
       "      <td>10|17</td>\n",
       "      <td>Bridge Replacement - Added Capacity|Construction Engineering</td>\n",
       "      <td>WEST MISSION BAY DRIVE OVER THE SAN DIEGO RIVER BRIDGE REPLACEMENT, BR. NO. 57C-0023</td>\n",
       "      <td>69715548</td>\n",
       "      <td>|52|</td>\n",
       "      <td>|11|</td>\n",
       "      <td>73</td>\n",
       "      <td>San Diego County</td>\n",
       "      <td>|SD|</td>\n",
       "      <td>04</td>\n",
       "      <td>San Diego Association of Governments</td>\n",
       "      <td>San Diego Association Of Governments</td>\n",
       "      <td>Replace Bridge in San Diego</td>\n",
       "      <td>Replace Bridge in San Diego, part of the program(s) National Highway Performance Program (NHPP), and the Bridge Formula Program, and the Bridge Replacement and Rehabilitation Program. (Federal Project ID: 5004049).</td>\n",
       "    </tr>\n",
       "  </tbody>\n",
       "</table>\n",
       "</div>"
      ],
      "text/plain": [
       "      fmis_transaction_date project_number implementing_agency  \\\n",
       "1129                  45133        5004049           San Diego   \n",
       "\n",
       "     summary_recipient_defined_text_field_1_value         program_code  \\\n",
       "1129                                  L5004SANDAG  Y001|Y110|Y908|Y909   \n",
       "\n",
       "                                                                                              program_code_description  \\\n",
       "1129  National Highway Performance Program (NHPP)|Bridge Formula Program|Bridge Replacement and Rehabilitation Program   \n",
       "\n",
       "     recipient_project_number improvement_type  \\\n",
       "1129                11955780L            10|17   \n",
       "\n",
       "                                      improvement_type_description  \\\n",
       "1129  Bridge Replacement - Added Capacity|Construction Engineering   \n",
       "\n",
       "                                                                    old_project_title_desc  \\\n",
       "1129  WEST MISSION BAY DRIVE OVER THE SAN DIEGO RIVER BRIDGE REPLACEMENT, BR. NO. 57C-0023   \n",
       "\n",
       "      obligations_amount congressional_district district county_code  \\\n",
       "1129            69715548                   |52|     |11|          73   \n",
       "\n",
       "           county_name county_name_abbrev implementing_agency_locode  \\\n",
       "1129  San Diego County               |SD|                         04   \n",
       "\n",
       "                                 rtpa_name  \\\n",
       "1129  San Diego Association of Governments   \n",
       "\n",
       "                                  mpo_name            new_project_title  \\\n",
       "1129  San Diego Association Of Governments  Replace Bridge in San Diego   \n",
       "\n",
       "                                                                                                                                                                                                         new_description_col  \n",
       "1129  Replace Bridge in San Diego, part of the program(s) National Highway Performance Program (NHPP), and the Bridge Formula Program, and the Bridge Replacement and Rehabilitation Program. (Federal Project ID: 5004049).  "
      ]
     },
     "execution_count": 11,
     "metadata": {},
     "output_type": "execute_result"
    }
   ],
   "source": [
    "## check one project with multiple funding codes\n",
    "df>>filter(_.project_number=='5004049')"
   ]
  },
  {
   "cell_type": "code",
   "execution_count": null,
   "id": "9d4d834f-3b81-4d8f-9dc3-fe38cca7873a",
   "metadata": {},
   "outputs": [],
   "source": []
  },
  {
   "cell_type": "markdown",
   "id": "3d6cc3f2-07a3-4390-9ee1-8d30aa78909e",
   "metadata": {},
   "source": [
    "## Export Data"
   ]
  },
  {
   "cell_type": "code",
   "execution_count": 12,
   "id": "6652683c-2ea1-456e-918a-bffb7da2de0a",
   "metadata": {},
   "outputs": [],
   "source": [
    "### rename the file for export to GCS\n",
    "### use date to rename"
   ]
  },
  {
   "cell_type": "code",
   "execution_count": 13,
   "id": "388a2112-cc55-46cd-8fa1-941fadb70f13",
   "metadata": {},
   "outputs": [],
   "source": [
    "_script_utils.export_to_gcs(df, \"03012024_agg\")"
   ]
  },
  {
   "cell_type": "code",
   "execution_count": null,
   "id": "0c492d4d-d6d3-49f5-a65c-e1d18ea4a5d1",
   "metadata": {},
   "outputs": [],
   "source": []
  },
  {
   "cell_type": "code",
   "execution_count": null,
   "id": "041d7477-713f-4c18-98a1-f45355e39fa8",
   "metadata": {},
   "outputs": [],
   "source": []
  }
 ],
 "metadata": {
  "kernelspec": {
   "display_name": "Python 3 (ipykernel)",
   "language": "python",
   "name": "python3"
  },
  "language_info": {
   "codemirror_mode": {
    "name": "ipython",
    "version": 3
   },
   "file_extension": ".py",
   "mimetype": "text/x-python",
   "name": "python",
   "nbconvert_exporter": "python",
   "pygments_lexer": "ipython3",
   "version": "3.9.13"
  },
  "widgets": {
   "application/vnd.jupyter.widget-state+json": {
    "state": {},
    "version_major": 2,
    "version_minor": 0
   }
  }
 },
 "nbformat": 4,
 "nbformat_minor": 5
}
