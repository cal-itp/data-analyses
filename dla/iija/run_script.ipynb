{
 "cells": [
  {
   "cell_type": "markdown",
   "id": "3c31cd6d-91cd-4b4e-8fd0-9a6ed076e95b",
   "metadata": {},
   "source": [
    "# Run Functions to Add Information to Projects"
   ]
  },
  {
   "cell_type": "markdown",
   "id": "f993b35a-25e9-4aaf-86ab-fd01c724cb92",
   "metadata": {},
   "source": [
    "To run the data through the script, all you need to do is update `my_file` path to the most recent export from FMIS and QMRS uploaded to GCS, then run the function in the section `Export Data` with your dataframe and the current date. Then your aggregated data will be ready in GCS. "
   ]
  },
  {
   "cell_type": "code",
   "execution_count": 7,
   "id": "427ef3d1-a937-483e-bcb5-68e377dd4f35",
   "metadata": {
    "tags": []
   },
   "outputs": [],
   "source": [
    "import _data_utils\n",
    "import _script_utils\n",
    "import pandas as pd\n",
    "from calitp_data_analysis.sql import to_snakecase"
   ]
  },
  {
   "cell_type": "code",
   "execution_count": 8,
   "id": "ce77f2af-baa1-4cc7-ad1a-64ec8d12e0e9",
   "metadata": {
    "tags": []
   },
   "outputs": [],
   "source": [
    "pd.set_option(\"display.max_columns\", 100)\n",
    "pd.set_option(\"display.max_colwidth\", None)"
   ]
  },
  {
   "cell_type": "code",
   "execution_count": 9,
   "id": "c7995807-e85f-48fa-a4e8-db986f89778a",
   "metadata": {
    "tags": []
   },
   "outputs": [],
   "source": [
    "locodes = to_snakecase(\n",
    "    pd.read_excel(\n",
    "        f\"gs://calitp-analytics-data/data-analyses/dla/e-76Obligated/locodes_updated7122021.xlsx\"\n",
    "    )\n",
    ")"
   ]
  },
  {
   "cell_type": "markdown",
   "id": "899b931a-6a2c-479c-8db1-85f5e5e0eb27",
   "metadata": {
    "tags": []
   },
   "source": [
    "## Read in Data and function development / Test Function"
   ]
  },
  {
   "cell_type": "markdown",
   "id": "4ccf8b66-6289-41ca-9cc1-1b9538ec5aaa",
   "metadata": {},
   "source": [
    "For the following function:\n",
    "* update the file path for `my_file` to the most recent file name of the FMIS & QMRS export\n",
    "* the second kwargs is the unique recipient identifier, in this case it should stay the same with subsequent exports\n",
    "* the third kwargs is the aggregation level you want for the data. Unless otherwise specified, it should be `agg` which is one row per project"
   ]
  },
  {
   "cell_type": "code",
   "execution_count": 10,
   "id": "50c0f7c4-0c73-47d8-b56e-2ae9111e248f",
   "metadata": {
    "tags": []
   },
   "outputs": [],
   "source": [
    "GCS_FILE_PATH = \"gs://calitp-analytics-data/data-analyses/dla/dla-iija\""
   ]
  },
  {
   "cell_type": "code",
   "execution_count": 13,
   "id": "e97910e0-80a7-4eb7-9c42-ab09e017157d",
   "metadata": {
    "tags": []
   },
   "outputs": [],
   "source": [
    "# update this path to the latest IIJA data\n",
    "my_file = \"IIJA_ToDDS_20251016.xlsx\""
   ]
  },
  {
   "cell_type": "markdown",
   "id": "bb7ff766-0a96-4015-9e43-1799dbcccd8a",
   "metadata": {
    "tags": []
   },
   "source": [
    "### Check data\n",
    "* July 2025 Notes\n",
    "    * `summary_recipient_defined_text_field_1_value` changed to `summary_recipient` in `script_utils.run_script_original` and `script_utils.run_script_2025.`\n",
    "    * `rk_locode` is missing so I used `run_script_original` instead.\n",
    "    * Updated `_script_utils.add_county_abbrev()` because the values in the counties geojson in `shared_data_catalog.yml` changed. "
   ]
  },
  {
   "cell_type": "code",
   "execution_count": 14,
   "id": "e104318c-bd90-42d6-9c1d-36a9e8ceb003",
   "metadata": {
    "tags": []
   },
   "outputs": [],
   "source": [
    "check_data = to_snakecase(pd.read_excel(f\"{GCS_FILE_PATH}/{my_file}\"))"
   ]
  },
  {
   "cell_type": "code",
   "execution_count": 15,
   "id": "720b2731-1646-414d-bb72-345a8fdc27ce",
   "metadata": {
    "tags": []
   },
   "outputs": [
    {
     "data": {
      "text/html": [
       "<div>\n",
       "<style scoped>\n",
       "    .dataframe tbody tr th:only-of-type {\n",
       "        vertical-align: middle;\n",
       "    }\n",
       "\n",
       "    .dataframe tbody tr th {\n",
       "        vertical-align: top;\n",
       "    }\n",
       "\n",
       "    .dataframe thead th {\n",
       "        text-align: right;\n",
       "    }\n",
       "</style>\n",
       "<table border=\"1\" class=\"dataframe\">\n",
       "  <thead>\n",
       "    <tr style=\"text-align: right;\">\n",
       "      <th></th>\n",
       "      <th>fmis_transaction_date</th>\n",
       "      <th>program_code</th>\n",
       "      <th>program_code_description</th>\n",
       "      <th>project_number</th>\n",
       "      <th>recipient_project_number</th>\n",
       "      <th>length_of_id</th>\n",
       "      <th>id_suffix</th>\n",
       "      <th>_10_id</th>\n",
       "      <th>length_of_10_id</th>\n",
       "      <th>_10_id_prefix</th>\n",
       "      <th>project_title</th>\n",
       "      <th>county_code</th>\n",
       "      <th>congressional_district</th>\n",
       "      <th>project_status_description</th>\n",
       "      <th>project_description</th>\n",
       "      <th>improvement_type</th>\n",
       "      <th>improvement_type_description</th>\n",
       "      <th>total_cost_amount</th>\n",
       "      <th>obligations_amount</th>\n",
       "      <th>summary_recipient</th>\n",
       "    </tr>\n",
       "  </thead>\n",
       "  <tbody>\n",
       "    <tr>\n",
       "      <th>0</th>\n",
       "      <td>2022-01-20</td>\n",
       "      <td>ER01</td>\n",
       "      <td>EMERGENCY REL 2022 SUPPLEMENT</td>\n",
       "      <td>31RA002</td>\n",
       "      <td>0518000118S</td>\n",
       "      <td>11</td>\n",
       "      <td>S</td>\n",
       "      <td>0518000118</td>\n",
       "      <td>10</td>\n",
       "      <td>05</td>\n",
       "      <td>MONTEREY COUNTY NEAR BIG SUR 2.3 MILES NORTH OF CASTRO CANYON BRIDGE TO 0.8 MILE SOUTH OF BIG SUR RIVER BRIDGE. EMERGENCY PROJECT - PERMANENT RESTORA</td>\n",
       "      <td>53</td>\n",
       "      <td>Cong Dist 20</td>\n",
       "      <td>Active</td>\n",
       "      <td>MONTEREY COUNTY NEAR BIG SUR 2.3 MILES NORTH OF CASTRO CANYON BRIDGE TO 0.8 MILE SOUTH OF BIG SUR RIVER BRIDGE. EMERGENCY PROJECT - PERMANENT RESTORATION. COMPLETE COASTAL DEVELOPMENT PERMIT REQUIREMENTS AT PFEIFFER CANYON BRIDGE.</td>\n",
       "      <td>16</td>\n",
       "      <td>Right of Way</td>\n",
       "      <td>600000.0</td>\n",
       "      <td>531100.0</td>\n",
       "      <td>S    AMBAG</td>\n",
       "    </tr>\n",
       "  </tbody>\n",
       "</table>\n",
       "</div>"
      ],
      "text/plain": [
       "  fmis_transaction_date program_code       program_code_description  \\\n",
       "0            2022-01-20         ER01  EMERGENCY REL 2022 SUPPLEMENT   \n",
       "\n",
       "  project_number recipient_project_number  length_of_id id_suffix      _10_id  \\\n",
       "0        31RA002              0518000118S            11         S  0518000118   \n",
       "\n",
       "   length_of_10_id _10_id_prefix  \\\n",
       "0               10            05   \n",
       "\n",
       "                                                                                                                                           project_title  \\\n",
       "0  MONTEREY COUNTY NEAR BIG SUR 2.3 MILES NORTH OF CASTRO CANYON BRIDGE TO 0.8 MILE SOUTH OF BIG SUR RIVER BRIDGE. EMERGENCY PROJECT - PERMANENT RESTORA   \n",
       "\n",
       "   county_code congressional_district project_status_description  \\\n",
       "0           53           Cong Dist 20                     Active   \n",
       "\n",
       "                                                                                                                                                                                                                      project_description  \\\n",
       "0  MONTEREY COUNTY NEAR BIG SUR 2.3 MILES NORTH OF CASTRO CANYON BRIDGE TO 0.8 MILE SOUTH OF BIG SUR RIVER BRIDGE. EMERGENCY PROJECT - PERMANENT RESTORATION. COMPLETE COASTAL DEVELOPMENT PERMIT REQUIREMENTS AT PFEIFFER CANYON BRIDGE.   \n",
       "\n",
       "   improvement_type improvement_type_description  total_cost_amount  \\\n",
       "0                16                 Right of Way           600000.0   \n",
       "\n",
       "   obligations_amount summary_recipient  \n",
       "0            531100.0        S    AMBAG  "
      ]
     },
     "execution_count": 15,
     "metadata": {},
     "output_type": "execute_result"
    }
   ],
   "source": [
    "check_data.head(1)"
   ]
  },
  {
   "cell_type": "markdown",
   "id": "b9406960-ac09-43c1-a17c-498a9c687fe4",
   "metadata": {},
   "source": [
    "### Run Script\n",
    "* Choose between `run_script_original` or `run_script_2025` depending on the dataframe you receive."
   ]
  },
  {
   "cell_type": "code",
   "execution_count": 17,
   "id": "442d0c4a-3578-4042-b042-9a279b75d459",
   "metadata": {
    "tags": []
   },
   "outputs": [
    {
     "data": {
      "text/plain": [
       "Index(['fmis_transaction_date', 'project_number', 'implementing_agency',\n",
       "       'summary_recipient_defined_text_field_1_value', 'funding_type_code',\n",
       "       'program_code', 'program_code_description', 'recipient_project_number',\n",
       "       'improvement_type', 'improvement_type_description',\n",
       "       'program_code_description_for_description', 'project_title',\n",
       "       'obligations_amount', 'total_cost_amount', 'congressional_district',\n",
       "       'district', 'county_code', 'county_name', 'county_name_abbrev',\n",
       "       'county_name_title', 'implementing_agency_locode', 'rtpa_name',\n",
       "       'mpo_name'],\n",
       "      dtype='object')"
      ]
     },
     "metadata": {},
     "output_type": "display_data"
    },
    {
     "name": "stderr",
     "output_type": "stream",
     "text": [
      "/home/jovyan/data-analyses/dla/iija/_script_utils.py:630: FutureWarning: The default value of regex will change from True to False in a future version.\n",
      "  df['implementing_agency_locode'] = df['implementing_agency_locode'].str.replace('.0', '')\n"
     ]
    },
    {
     "data": {
      "text/plain": [
       "True"
      ]
     },
     "metadata": {},
     "output_type": "display_data"
    }
   ],
   "source": [
    "df = _script_utils.run_script_original(\n",
    "    file_name = my_file, \n",
    "    recipient_column = \"summary_recipient_defined_text_field_1_value\", \n",
    "    df_agg_level = \"agg\"\n",
    ")"
   ]
  },
  {
   "cell_type": "markdown",
   "id": "30325e4e-1bd0-4176-be6a-92aecd143e49",
   "metadata": {
    "tags": []
   },
   "source": [
    "### Testing the data"
   ]
  },
  {
   "cell_type": "code",
   "execution_count": 18,
   "id": "73fa7f51-7e07-414a-95a8-385a2649a67d",
   "metadata": {
    "tags": []
   },
   "outputs": [],
   "source": [
    "assert len(df) == check_data.project_number.nunique()"
   ]
  },
  {
   "cell_type": "code",
   "execution_count": 19,
   "id": "279b6d00-a71d-4f3d-b427-dad70ef8b888",
   "metadata": {
    "tags": []
   },
   "outputs": [
    {
     "data": {
      "text/plain": [
       "Index(['fmis_transaction_date', 'program_code', 'program_code_description',\n",
       "       'project_number', 'recipient_project_number', 'length_of_id',\n",
       "       'id_suffix', '_10_id', 'length_of_10_id', '_10_id_prefix',\n",
       "       'project_title', 'county_code', 'congressional_district',\n",
       "       'project_status_description', 'project_description', 'improvement_type',\n",
       "       'improvement_type_description', 'total_cost_amount',\n",
       "       'obligations_amount', 'summary_recipient'],\n",
       "      dtype='object')"
      ]
     },
     "execution_count": 19,
     "metadata": {},
     "output_type": "execute_result"
    }
   ],
   "source": [
    "check_data.columns"
   ]
  },
  {
   "cell_type": "code",
   "execution_count": 20,
   "id": "1d72d856-35fe-4523-bfac-a35b617ebc92",
   "metadata": {
    "scrolled": true,
    "tags": []
   },
   "outputs": [
    {
     "data": {
      "text/html": [
       "<div>\n",
       "<style scoped>\n",
       "    .dataframe tbody tr th:only-of-type {\n",
       "        vertical-align: middle;\n",
       "    }\n",
       "\n",
       "    .dataframe tbody tr th {\n",
       "        vertical-align: top;\n",
       "    }\n",
       "\n",
       "    .dataframe thead th {\n",
       "        text-align: right;\n",
       "    }\n",
       "</style>\n",
       "<table border=\"1\" class=\"dataframe\">\n",
       "  <thead>\n",
       "    <tr style=\"text-align: right;\">\n",
       "      <th></th>\n",
       "      <th>fmis_transaction_date</th>\n",
       "      <th>program_code</th>\n",
       "      <th>program_code_description</th>\n",
       "      <th>project_number</th>\n",
       "      <th>recipient_project_number</th>\n",
       "      <th>length_of_id</th>\n",
       "      <th>id_suffix</th>\n",
       "      <th>_10_id</th>\n",
       "      <th>length_of_10_id</th>\n",
       "      <th>_10_id_prefix</th>\n",
       "      <th>project_title</th>\n",
       "      <th>county_code</th>\n",
       "      <th>congressional_district</th>\n",
       "      <th>project_status_description</th>\n",
       "      <th>project_description</th>\n",
       "      <th>improvement_type</th>\n",
       "      <th>improvement_type_description</th>\n",
       "      <th>total_cost_amount</th>\n",
       "      <th>obligations_amount</th>\n",
       "      <th>summary_recipient</th>\n",
       "    </tr>\n",
       "  </thead>\n",
       "  <tbody>\n",
       "    <tr>\n",
       "      <th>2061</th>\n",
       "      <td>2024-04-15</td>\n",
       "      <td>Y001</td>\n",
       "      <td>NATIONAL HIGHWAY PERF IIJA</td>\n",
       "      <td>5004049</td>\n",
       "      <td>11955780L</td>\n",
       "      <td>9</td>\n",
       "      <td>NaN</td>\n",
       "      <td>NaN</td>\n",
       "      <td>3</td>\n",
       "      <td>N/</td>\n",
       "      <td>WEST MISSION BAY DRIVE OVER THE SAN DIEGO RIVER BRIDGE REPLACEMENT, BR. NO. 57C-0023</td>\n",
       "      <td>73</td>\n",
       "      <td>Cong Dist 52</td>\n",
       "      <td>Active</td>\n",
       "      <td>WEST MISSION BAY DRIVE OVER THE SAN DIEGO RIVER BRIDGE REPLACEMENT, BR. NO. 57C-0023</td>\n",
       "      <td>10</td>\n",
       "      <td>Bridge Replacement - Added Capacity</td>\n",
       "      <td>43068358.00</td>\n",
       "      <td>38128417.81</td>\n",
       "      <td>L5004SANDAG</td>\n",
       "    </tr>\n",
       "    <tr>\n",
       "      <th>2062</th>\n",
       "      <td>2024-04-15</td>\n",
       "      <td>Y001</td>\n",
       "      <td>NATIONAL HIGHWAY PERF IIJA</td>\n",
       "      <td>5004049</td>\n",
       "      <td>11955780L</td>\n",
       "      <td>9</td>\n",
       "      <td>NaN</td>\n",
       "      <td>NaN</td>\n",
       "      <td>3</td>\n",
       "      <td>N/</td>\n",
       "      <td>WEST MISSION BAY DRIVE OVER THE SAN DIEGO RIVER BRIDGE REPLACEMENT, BR. NO. 57C-0023</td>\n",
       "      <td>73</td>\n",
       "      <td>Cong Dist 52</td>\n",
       "      <td>Active</td>\n",
       "      <td>WEST MISSION BAY DRIVE OVER THE SAN DIEGO RIVER BRIDGE REPLACEMENT, BR. NO. 57C-0023</td>\n",
       "      <td>17</td>\n",
       "      <td>Construction Engineering</td>\n",
       "      <td>12180390.07</td>\n",
       "      <td>10321290.00</td>\n",
       "      <td>L5004SANDAG</td>\n",
       "    </tr>\n",
       "    <tr>\n",
       "      <th>2063</th>\n",
       "      <td>2024-04-15</td>\n",
       "      <td>Y110</td>\n",
       "      <td>HIP BRIDGE FORMULA PROGRAM</td>\n",
       "      <td>5004049</td>\n",
       "      <td>11955780L</td>\n",
       "      <td>9</td>\n",
       "      <td>NaN</td>\n",
       "      <td>NaN</td>\n",
       "      <td>3</td>\n",
       "      <td>N/</td>\n",
       "      <td>WEST MISSION BAY DRIVE OVER THE SAN DIEGO RIVER BRIDGE REPLACEMENT, BR. NO. 57C-0023</td>\n",
       "      <td>73</td>\n",
       "      <td>Cong Dist 52</td>\n",
       "      <td>Active</td>\n",
       "      <td>WEST MISSION BAY DRIVE OVER THE SAN DIEGO RIVER BRIDGE REPLACEMENT, BR. NO. 57C-0023</td>\n",
       "      <td>10</td>\n",
       "      <td>Bridge Replacement - Added Capacity</td>\n",
       "      <td>13409672.00</td>\n",
       "      <td>11871582.19</td>\n",
       "      <td>L5004SANDAG</td>\n",
       "    </tr>\n",
       "    <tr>\n",
       "      <th>2067</th>\n",
       "      <td>2024-04-15</td>\n",
       "      <td>Y908</td>\n",
       "      <td>HWY INFRA BRDG REPL -2022 APPN</td>\n",
       "      <td>5004049</td>\n",
       "      <td>11955780L</td>\n",
       "      <td>9</td>\n",
       "      <td>NaN</td>\n",
       "      <td>NaN</td>\n",
       "      <td>3</td>\n",
       "      <td>N/</td>\n",
       "      <td>WEST MISSION BAY DRIVE OVER THE SAN DIEGO RIVER BRIDGE REPLACEMENT, BR. NO. 57C-0023</td>\n",
       "      <td>73</td>\n",
       "      <td>Cong Dist 52</td>\n",
       "      <td>Active</td>\n",
       "      <td>WEST MISSION BAY DRIVE OVER THE SAN DIEGO RIVER BRIDGE REPLACEMENT, BR. NO. 57C-0023</td>\n",
       "      <td>10</td>\n",
       "      <td>Bridge Replacement - Added Capacity</td>\n",
       "      <td>10373649.58</td>\n",
       "      <td>9183791.97</td>\n",
       "      <td>L5004SANDAG</td>\n",
       "    </tr>\n",
       "    <tr>\n",
       "      <th>2068</th>\n",
       "      <td>2024-04-15</td>\n",
       "      <td>Y908</td>\n",
       "      <td>HWY INFRA BRDG REPL -2022 APPN</td>\n",
       "      <td>5004049</td>\n",
       "      <td>11955780L</td>\n",
       "      <td>9</td>\n",
       "      <td>NaN</td>\n",
       "      <td>NaN</td>\n",
       "      <td>3</td>\n",
       "      <td>N/</td>\n",
       "      <td>WEST MISSION BAY DRIVE OVER THE SAN DIEGO RIVER BRIDGE REPLACEMENT, BR. NO. 57C-0023</td>\n",
       "      <td>73</td>\n",
       "      <td>Cong Dist 52</td>\n",
       "      <td>Active</td>\n",
       "      <td>WEST MISSION BAY DRIVE OVER THE SAN DIEGO RIVER BRIDGE REPLACEMENT, BR. NO. 57C-0023</td>\n",
       "      <td>17</td>\n",
       "      <td>Construction Engineering</td>\n",
       "      <td>595918.93</td>\n",
       "      <td>527567.03</td>\n",
       "      <td>L5004SANDAG</td>\n",
       "    </tr>\n",
       "    <tr>\n",
       "      <th>2069</th>\n",
       "      <td>2024-04-15</td>\n",
       "      <td>Y909</td>\n",
       "      <td>HWY INFRA BRDG REPL -2023 APPN</td>\n",
       "      <td>5004049</td>\n",
       "      <td>11955780L</td>\n",
       "      <td>9</td>\n",
       "      <td>NaN</td>\n",
       "      <td>NaN</td>\n",
       "      <td>3</td>\n",
       "      <td>N/</td>\n",
       "      <td>WEST MISSION BAY DRIVE OVER THE SAN DIEGO RIVER BRIDGE REPLACEMENT, BR. NO. 57C-0023</td>\n",
       "      <td>73</td>\n",
       "      <td>Cong Dist 52</td>\n",
       "      <td>Active</td>\n",
       "      <td>WEST MISSION BAY DRIVE OVER THE SAN DIEGO RIVER BRIDGE REPLACEMENT, BR. NO. 57C-0023</td>\n",
       "      <td>10</td>\n",
       "      <td>Bridge Replacement - Added Capacity</td>\n",
       "      <td>11300338.42</td>\n",
       "      <td>10004189.60</td>\n",
       "      <td>L5004SANDAG</td>\n",
       "    </tr>\n",
       "  </tbody>\n",
       "</table>\n",
       "</div>"
      ],
      "text/plain": [
       "     fmis_transaction_date program_code        program_code_description  \\\n",
       "2061            2024-04-15         Y001      NATIONAL HIGHWAY PERF IIJA   \n",
       "2062            2024-04-15         Y001      NATIONAL HIGHWAY PERF IIJA   \n",
       "2063            2024-04-15         Y110      HIP BRIDGE FORMULA PROGRAM   \n",
       "2067            2024-04-15         Y908  HWY INFRA BRDG REPL -2022 APPN   \n",
       "2068            2024-04-15         Y908  HWY INFRA BRDG REPL -2022 APPN   \n",
       "2069            2024-04-15         Y909  HWY INFRA BRDG REPL -2023 APPN   \n",
       "\n",
       "     project_number recipient_project_number  length_of_id id_suffix _10_id  \\\n",
       "2061        5004049                11955780L             9       NaN    NaN   \n",
       "2062        5004049                11955780L             9       NaN    NaN   \n",
       "2063        5004049                11955780L             9       NaN    NaN   \n",
       "2067        5004049                11955780L             9       NaN    NaN   \n",
       "2068        5004049                11955780L             9       NaN    NaN   \n",
       "2069        5004049                11955780L             9       NaN    NaN   \n",
       "\n",
       "      length_of_10_id _10_id_prefix  \\\n",
       "2061                3            N/   \n",
       "2062                3            N/   \n",
       "2063                3            N/   \n",
       "2067                3            N/   \n",
       "2068                3            N/   \n",
       "2069                3            N/   \n",
       "\n",
       "                                                                             project_title  \\\n",
       "2061  WEST MISSION BAY DRIVE OVER THE SAN DIEGO RIVER BRIDGE REPLACEMENT, BR. NO. 57C-0023   \n",
       "2062  WEST MISSION BAY DRIVE OVER THE SAN DIEGO RIVER BRIDGE REPLACEMENT, BR. NO. 57C-0023   \n",
       "2063  WEST MISSION BAY DRIVE OVER THE SAN DIEGO RIVER BRIDGE REPLACEMENT, BR. NO. 57C-0023   \n",
       "2067  WEST MISSION BAY DRIVE OVER THE SAN DIEGO RIVER BRIDGE REPLACEMENT, BR. NO. 57C-0023   \n",
       "2068  WEST MISSION BAY DRIVE OVER THE SAN DIEGO RIVER BRIDGE REPLACEMENT, BR. NO. 57C-0023   \n",
       "2069  WEST MISSION BAY DRIVE OVER THE SAN DIEGO RIVER BRIDGE REPLACEMENT, BR. NO. 57C-0023   \n",
       "\n",
       "      county_code congressional_district project_status_description  \\\n",
       "2061           73           Cong Dist 52                     Active   \n",
       "2062           73           Cong Dist 52                     Active   \n",
       "2063           73           Cong Dist 52                     Active   \n",
       "2067           73           Cong Dist 52                     Active   \n",
       "2068           73           Cong Dist 52                     Active   \n",
       "2069           73           Cong Dist 52                     Active   \n",
       "\n",
       "                                                                       project_description  \\\n",
       "2061  WEST MISSION BAY DRIVE OVER THE SAN DIEGO RIVER BRIDGE REPLACEMENT, BR. NO. 57C-0023   \n",
       "2062  WEST MISSION BAY DRIVE OVER THE SAN DIEGO RIVER BRIDGE REPLACEMENT, BR. NO. 57C-0023   \n",
       "2063  WEST MISSION BAY DRIVE OVER THE SAN DIEGO RIVER BRIDGE REPLACEMENT, BR. NO. 57C-0023   \n",
       "2067  WEST MISSION BAY DRIVE OVER THE SAN DIEGO RIVER BRIDGE REPLACEMENT, BR. NO. 57C-0023   \n",
       "2068  WEST MISSION BAY DRIVE OVER THE SAN DIEGO RIVER BRIDGE REPLACEMENT, BR. NO. 57C-0023   \n",
       "2069  WEST MISSION BAY DRIVE OVER THE SAN DIEGO RIVER BRIDGE REPLACEMENT, BR. NO. 57C-0023   \n",
       "\n",
       "      improvement_type         improvement_type_description  \\\n",
       "2061                10  Bridge Replacement - Added Capacity   \n",
       "2062                17             Construction Engineering   \n",
       "2063                10  Bridge Replacement - Added Capacity   \n",
       "2067                10  Bridge Replacement - Added Capacity   \n",
       "2068                17             Construction Engineering   \n",
       "2069                10  Bridge Replacement - Added Capacity   \n",
       "\n",
       "      total_cost_amount  obligations_amount summary_recipient  \n",
       "2061        43068358.00         38128417.81       L5004SANDAG  \n",
       "2062        12180390.07         10321290.00       L5004SANDAG  \n",
       "2063        13409672.00         11871582.19       L5004SANDAG  \n",
       "2067        10373649.58          9183791.97       L5004SANDAG  \n",
       "2068          595918.93           527567.03       L5004SANDAG  \n",
       "2069        11300338.42         10004189.60       L5004SANDAG  "
      ]
     },
     "execution_count": 20,
     "metadata": {},
     "output_type": "execute_result"
    }
   ],
   "source": [
    "check_data.loc[check_data.project_number == \"5004049\"]"
   ]
  },
  {
   "cell_type": "code",
   "execution_count": 21,
   "id": "0994fbb3-c566-47fa-853a-0126d6ae8eba",
   "metadata": {
    "tags": []
   },
   "outputs": [
    {
     "data": {
      "text/plain": [
       "Index(['fmis_transaction_date', 'project_number', 'implementing_agency',\n",
       "       'summary_recipient_defined_text_field_1_value', 'funding_type_code',\n",
       "       'program_code', 'program_code_description', 'recipient_project_number',\n",
       "       'improvement_type', 'improvement_type_description',\n",
       "       'old_project_title_desc', 'obligations_amount', 'total_cost_amount',\n",
       "       'congressional_district', 'district', 'county_code', 'county_name',\n",
       "       'county_name_abbrev', 'implementing_agency_locode', 'rtpa_name',\n",
       "       'mpo_name', 'new_project_title', 'new_description_col'],\n",
       "      dtype='object')"
      ]
     },
     "execution_count": 21,
     "metadata": {},
     "output_type": "execute_result"
    }
   ],
   "source": [
    "df.columns"
   ]
  },
  {
   "cell_type": "code",
   "execution_count": 22,
   "id": "9b3b9345-b797-4a8b-86af-f09efe62fe92",
   "metadata": {
    "tags": []
   },
   "outputs": [
    {
     "data": {
      "text/html": [
       "<div>\n",
       "<style scoped>\n",
       "    .dataframe tbody tr th:only-of-type {\n",
       "        vertical-align: middle;\n",
       "    }\n",
       "\n",
       "    .dataframe tbody tr th {\n",
       "        vertical-align: top;\n",
       "    }\n",
       "\n",
       "    .dataframe thead th {\n",
       "        text-align: right;\n",
       "    }\n",
       "</style>\n",
       "<table border=\"1\" class=\"dataframe\">\n",
       "  <thead>\n",
       "    <tr style=\"text-align: right;\">\n",
       "      <th></th>\n",
       "      <th>fmis_transaction_date</th>\n",
       "      <th>project_number</th>\n",
       "      <th>implementing_agency</th>\n",
       "      <th>summary_recipient_defined_text_field_1_value</th>\n",
       "      <th>funding_type_code</th>\n",
       "      <th>program_code</th>\n",
       "      <th>program_code_description</th>\n",
       "      <th>recipient_project_number</th>\n",
       "      <th>improvement_type</th>\n",
       "      <th>improvement_type_description</th>\n",
       "      <th>old_project_title_desc</th>\n",
       "      <th>obligations_amount</th>\n",
       "      <th>total_cost_amount</th>\n",
       "      <th>congressional_district</th>\n",
       "      <th>district</th>\n",
       "      <th>county_code</th>\n",
       "      <th>county_name</th>\n",
       "      <th>county_name_abbrev</th>\n",
       "      <th>implementing_agency_locode</th>\n",
       "      <th>rtpa_name</th>\n",
       "      <th>mpo_name</th>\n",
       "      <th>new_project_title</th>\n",
       "      <th>new_description_col</th>\n",
       "    </tr>\n",
       "  </thead>\n",
       "  <tbody>\n",
       "    <tr>\n",
       "      <th>914</th>\n",
       "      <td>2024-04-15</td>\n",
       "      <td>5004049</td>\n",
       "      <td>San Diego</td>\n",
       "      <td>L5004SANDAG</td>\n",
       "      <td>IIJA-F</td>\n",
       "      <td>Y001|Y110|Y908|Y909</td>\n",
       "      <td>National Highway Performance Program (NHPP)|Bridge Formula Program|Bridge Replacement and Rehabilitation Program</td>\n",
       "      <td>11955780L</td>\n",
       "      <td>10|17</td>\n",
       "      <td>Bridge Replacement - Added Capacity|Construction Engineering</td>\n",
       "      <td>WEST MISSION BAY DRIVE OVER THE SAN DIEGO RIVER BRIDGE REPLACEMENT, BR. NO. 57C-0023</td>\n",
       "      <td>80036838</td>\n",
       "      <td>90928327</td>\n",
       "      <td>|52|</td>\n",
       "      <td>|11|</td>\n",
       "      <td>73</td>\n",
       "      <td>San Diego County</td>\n",
       "      <td>|SD|</td>\n",
       "      <td>04</td>\n",
       "      <td>San Diego Association of Governments</td>\n",
       "      <td>San Diego Association Of Governments</td>\n",
       "      <td>Replace Bridge in San Diego</td>\n",
       "      <td>Replace Bridge in San Diego, part of the National Highway Performance Program (NHPP), and the Bridge Formula Program, and the Bridge Replacement and Rehabilitation Program. (Federal Project ID: 5004049).</td>\n",
       "    </tr>\n",
       "  </tbody>\n",
       "</table>\n",
       "</div>"
      ],
      "text/plain": [
       "    fmis_transaction_date project_number implementing_agency  \\\n",
       "914            2024-04-15        5004049           San Diego   \n",
       "\n",
       "    summary_recipient_defined_text_field_1_value funding_type_code  \\\n",
       "914                                  L5004SANDAG            IIJA-F   \n",
       "\n",
       "            program_code  \\\n",
       "914  Y001|Y110|Y908|Y909   \n",
       "\n",
       "                                                                                             program_code_description  \\\n",
       "914  National Highway Performance Program (NHPP)|Bridge Formula Program|Bridge Replacement and Rehabilitation Program   \n",
       "\n",
       "    recipient_project_number improvement_type  \\\n",
       "914                11955780L            10|17   \n",
       "\n",
       "                                     improvement_type_description  \\\n",
       "914  Bridge Replacement - Added Capacity|Construction Engineering   \n",
       "\n",
       "                                                                   old_project_title_desc  \\\n",
       "914  WEST MISSION BAY DRIVE OVER THE SAN DIEGO RIVER BRIDGE REPLACEMENT, BR. NO. 57C-0023   \n",
       "\n",
       "     obligations_amount  total_cost_amount congressional_district district  \\\n",
       "914            80036838           90928327                   |52|     |11|   \n",
       "\n",
       "    county_code       county_name county_name_abbrev  \\\n",
       "914          73  San Diego County               |SD|   \n",
       "\n",
       "    implementing_agency_locode                             rtpa_name  \\\n",
       "914                         04  San Diego Association of Governments   \n",
       "\n",
       "                                 mpo_name            new_project_title  \\\n",
       "914  San Diego Association Of Governments  Replace Bridge in San Diego   \n",
       "\n",
       "                                                                                                                                                                                             new_description_col  \n",
       "914  Replace Bridge in San Diego, part of the National Highway Performance Program (NHPP), and the Bridge Formula Program, and the Bridge Replacement and Rehabilitation Program. (Federal Project ID: 5004049).  "
      ]
     },
     "execution_count": 22,
     "metadata": {},
     "output_type": "execute_result"
    }
   ],
   "source": [
    "df.loc[df[\"project_number\"] == \"5004049\"]"
   ]
  },
  {
   "cell_type": "markdown",
   "id": "3d6cc3f2-07a3-4390-9ee1-8d30aa78909e",
   "metadata": {},
   "source": [
    "## Export Data"
   ]
  },
  {
   "cell_type": "code",
   "execution_count": 14,
   "id": "6652683c-2ea1-456e-918a-bffb7da2de0a",
   "metadata": {},
   "outputs": [],
   "source": [
    "### rename the file for export to GCS\n",
    "### use date to rename"
   ]
  },
  {
   "cell_type": "code",
   "execution_count": 23,
   "id": "0c492d4d-d6d3-49f5-a65c-e1d18ea4a5d1",
   "metadata": {
    "tags": []
   },
   "outputs": [],
   "source": [
    "# _script_utils.export_to_gcs(df, \"10202025_agg\")"
   ]
  },
  {
   "cell_type": "markdown",
   "id": "b9165c87-52e3-4518-a052-5cf21a2b8c5a",
   "metadata": {},
   "source": [
    "## Removing S***ba\n",
    "### `data_utils`"
   ]
  },
  {
   "cell_type": "code",
   "execution_count": 16,
   "id": "51dd2b12-ce7f-4549-8b84-947af248e699",
   "metadata": {},
   "outputs": [],
   "source": [
    "def update_program_code_list2():\n",
    "    updated_codes = to_snakecase(\n",
    "        pd.read_excel(\n",
    "            f\"{GCS_FILE_PATH}/program_codes/FY21-22ProgramCodesAsOf5-25-2022.v2_expanded090823.xlsx\"\n",
    "        )\n",
    "    )[[\"iija_program_code\", \"new_description\"]]\n",
    "    original_codes = to_snakecase(\n",
    "        pd.read_excel(\n",
    "            f\"{GCS_FILE_PATH}/program_codes/Copy of lst_IIJA_Code_20230908.xlsx\"\n",
    "        )\n",
    "    )[[\"iija_program_code\", \"description\", \"program_name\"]]\n",
    "\n",
    "    program_codes = pd.merge(\n",
    "        updated_codes,\n",
    "        original_codes,\n",
    "        on=\"iija_program_code\",\n",
    "        how=\"outer\",\n",
    "        indicator=True,\n",
    "    )\n",
    "    program_codes[\"new_description\"] = program_codes[\"new_description\"].str.strip()\n",
    "\n",
    "    program_codes.new_description.fillna(program_codes[\"description\"], inplace=True)\n",
    "\n",
    "    program_codes = program_codes.drop(columns={\"description\", \"_merge\"})\n",
    "\n",
    "    def add_program_to_row(row):\n",
    "        if \"Program\" not in row[\"program_name\"]:\n",
    "            return row[\"program_name\"] + \" Program\"\n",
    "        else:\n",
    "            return row[\"program_name\"]\n",
    "\n",
    "    program_codes[\"program_name\"] = program_codes.apply(add_program_to_row, axis=1)\n",
    "\n",
    "    return program_codes"
   ]
  },
  {
   "cell_type": "markdown",
   "id": "dd9a97d4-fc74-45f5-a1bb-2941832b143a",
   "metadata": {},
   "source": [
    "### `script_utils`"
   ]
  },
  {
   "cell_type": "code",
   "execution_count": 17,
   "id": "d9fad02f-8a94-48ba-83da-028f55011a5c",
   "metadata": {
    "tags": []
   },
   "outputs": [],
   "source": [
    "def county_district_crosswalk() -> pd.DataFrame:\n",
    "    \"\"\"\n",
    "    Aggregate locodes dataset to find which\n",
    "    districts a county lies in.\n",
    "    \"\"\"\n",
    "    # Load locodes\n",
    "    locodes_df = _script_utils.load_locodes()\n",
    "\n",
    "    # Load counties\n",
    "    county_base = _script_utils.load_county()\n",
    "\n",
    "    county_district = locodes_df[[\"district\", \"county_name\"]].drop_duplicates()\n",
    "\n",
    "    county_info = pd.merge(\n",
    "        county_base,\n",
    "        county_district,\n",
    "        how=\"left\",\n",
    "        left_on=\"county_description\",\n",
    "        right_on=\"county_name\",\n",
    "    ).drop(columns=[\"county_name\"])\n",
    "    return county_info"
   ]
  },
  {
   "cell_type": "code",
   "execution_count": 18,
   "id": "35c270c5-47f5-4592-bcf8-ffb2bcd20d02",
   "metadata": {
    "tags": []
   },
   "outputs": [],
   "source": [
    "test1 = county_district_crosswalk()"
   ]
  },
  {
   "cell_type": "code",
   "execution_count": 19,
   "id": "5a276044-9116-41fe-b8ac-3bbeb64b1332",
   "metadata": {
    "tags": []
   },
   "outputs": [
    {
     "data": {
      "text/html": [
       "<div>\n",
       "<style scoped>\n",
       "    .dataframe tbody tr th:only-of-type {\n",
       "        vertical-align: middle;\n",
       "    }\n",
       "\n",
       "    .dataframe tbody tr th {\n",
       "        vertical-align: top;\n",
       "    }\n",
       "\n",
       "    .dataframe thead th {\n",
       "        text-align: right;\n",
       "    }\n",
       "</style>\n",
       "<table border=\"1\" class=\"dataframe\">\n",
       "  <thead>\n",
       "    <tr style=\"text-align: right;\">\n",
       "      <th></th>\n",
       "      <th>recipient_name</th>\n",
       "      <th>county_description</th>\n",
       "      <th>county_code</th>\n",
       "      <th>district</th>\n",
       "    </tr>\n",
       "  </thead>\n",
       "  <tbody>\n",
       "    <tr>\n",
       "      <th>0</th>\n",
       "      <td>California</td>\n",
       "      <td>Alameda County</td>\n",
       "      <td>1</td>\n",
       "      <td>4.0</td>\n",
       "    </tr>\n",
       "    <tr>\n",
       "      <th>1</th>\n",
       "      <td>California</td>\n",
       "      <td>Alpine County</td>\n",
       "      <td>3</td>\n",
       "      <td>10.0</td>\n",
       "    </tr>\n",
       "    <tr>\n",
       "      <th>2</th>\n",
       "      <td>California</td>\n",
       "      <td>Amador County</td>\n",
       "      <td>5</td>\n",
       "      <td>10.0</td>\n",
       "    </tr>\n",
       "    <tr>\n",
       "      <th>3</th>\n",
       "      <td>California</td>\n",
       "      <td>Butte County</td>\n",
       "      <td>7</td>\n",
       "      <td>3.0</td>\n",
       "    </tr>\n",
       "    <tr>\n",
       "      <th>4</th>\n",
       "      <td>California</td>\n",
       "      <td>Calaveras County</td>\n",
       "      <td>9</td>\n",
       "      <td>10.0</td>\n",
       "    </tr>\n",
       "  </tbody>\n",
       "</table>\n",
       "</div>"
      ],
      "text/plain": [
       "  recipient_name county_description  county_code  district\n",
       "0     California     Alameda County            1       4.0\n",
       "1     California      Alpine County            3      10.0\n",
       "2     California      Amador County            5      10.0\n",
       "3     California       Butte County            7       3.0\n",
       "4     California   Calaveras County            9      10.0"
      ]
     },
     "execution_count": 19,
     "metadata": {},
     "output_type": "execute_result"
    }
   ],
   "source": [
    "test1.head()"
   ]
  }
 ],
 "metadata": {
  "kernelspec": {
   "display_name": "Python 3 (ipykernel)",
   "language": "python",
   "name": "python3"
  },
  "language_info": {
   "codemirror_mode": {
    "name": "ipython",
    "version": 3
   },
   "file_extension": ".py",
   "mimetype": "text/x-python",
   "name": "python",
   "nbconvert_exporter": "python",
   "pygments_lexer": "ipython3",
   "version": "3.11.10"
  },
  "widgets": {
   "application/vnd.jupyter.widget-state+json": {
    "state": {},
    "version_major": 2,
    "version_minor": 0
   }
  }
 },
 "nbformat": 4,
 "nbformat_minor": 5
}
