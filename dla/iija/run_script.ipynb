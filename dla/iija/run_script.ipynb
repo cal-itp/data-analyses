{
 "cells": [
  {
   "cell_type": "markdown",
   "id": "3c31cd6d-91cd-4b4e-8fd0-9a6ed076e95b",
   "metadata": {},
   "source": [
    "# Run Functions to Add Information to Projects"
   ]
  },
  {
   "cell_type": "markdown",
   "id": "f993b35a-25e9-4aaf-86ab-fd01c724cb92",
   "metadata": {},
   "source": [
    "To run the data through the script, all you need to do is update `my_file` path to the most recent export from FMIS and QMRS uploaded to GCS, then run the function in the section `Export Data` with your dataframe and the current date. Then your aggregated data will be ready in GCS. "
   ]
  },
  {
   "cell_type": "code",
   "execution_count": 1,
   "id": "427ef3d1-a937-483e-bcb5-68e377dd4f35",
   "metadata": {},
   "outputs": [],
   "source": [
    "import pandas as pd\n",
    "from siuba import *\n",
    "\n",
    "import _script_utils\n",
    "\n",
    "from calitp_data_analysis.sql import to_snakecase\n"
   ]
  },
  {
   "cell_type": "code",
   "execution_count": 2,
   "id": "ce77f2af-baa1-4cc7-ad1a-64ec8d12e0e9",
   "metadata": {},
   "outputs": [],
   "source": [
    "pd.set_option(\"display.max_columns\", 100)\n",
    "pd.set_option('display.max_colwidth', None)"
   ]
  },
  {
   "cell_type": "markdown",
   "id": "899b931a-6a2c-479c-8db1-85f5e5e0eb27",
   "metadata": {
    "tags": []
   },
   "source": [
    "## Read in Data and function development / Test Function"
   ]
  },
  {
   "cell_type": "markdown",
   "id": "4ccf8b66-6289-41ca-9cc1-1b9538ec5aaa",
   "metadata": {},
   "source": [
    "For the following function:\n",
    "* update the file path for `my_file` to the most recent file name of the FMIS & QMRS export\n",
    "* the second kwargs is the unique recipient identifier, in this case it should stay the same with subsequent exports\n",
    "* the third kwargs is the aggregation level you want for the data. Unless otherwise specified, it should be `agg` which is one row per project"
   ]
  },
  {
   "cell_type": "code",
   "execution_count": 3,
   "id": "50c0f7c4-0c73-47d8-b56e-2ae9111e248f",
   "metadata": {},
   "outputs": [],
   "source": [
    "GCS_FILE_PATH  = 'gs://calitp-analytics-data/data-analyses/dla/dla-iija'"
   ]
  },
  {
   "cell_type": "code",
   "execution_count": 4,
   "id": "60c37fa9-cb51-4181-86c6-3f288ef334fa",
   "metadata": {
    "tags": []
   },
   "outputs": [],
   "source": [
    "my_file = \"Copy of 2b to DLA Output.xlsx\""
   ]
  },
  {
   "cell_type": "code",
   "execution_count": 5,
   "id": "bcb63555-2ad3-497a-9fcc-4459e1563736",
   "metadata": {
    "tags": []
   },
   "outputs": [],
   "source": [
    "og_file = \"IIJA Project List 01_2025.xlsx\"\n",
    "\n"
   ]
  },
  {
   "cell_type": "markdown",
   "id": "bb7ff766-0a96-4015-9e43-1799dbcccd8a",
   "metadata": {},
   "source": [
    "### Check data"
   ]
  },
  {
   "cell_type": "code",
   "execution_count": 6,
   "id": "e104318c-bd90-42d6-9c1d-36a9e8ceb003",
   "metadata": {},
   "outputs": [],
   "source": [
    "check_data = to_snakecase(pd.read_excel(f\"{GCS_FILE_PATH}/{my_file}\"))"
   ]
  },
  {
   "cell_type": "code",
   "execution_count": 7,
   "id": "6a389530-98ff-4ca7-8f82-613abc40a21a",
   "metadata": {
    "tags": []
   },
   "outputs": [],
   "source": [
    "og_file = to_snakecase(pd.read_excel(f\"{GCS_FILE_PATH}/{og_file}\"))"
   ]
  },
  {
   "cell_type": "code",
   "execution_count": 8,
   "id": "b4b71a66-061a-4bc6-b3a0-ff8d714f21be",
   "metadata": {
    "tags": []
   },
   "outputs": [
    {
     "data": {
      "text/plain": [
       "{'state_local'}"
      ]
     },
     "execution_count": 8,
     "metadata": {},
     "output_type": "execute_result"
    }
   ],
   "source": [
    "set(list(check_data.columns)) - set(list(og_file.columns))"
   ]
  },
  {
   "cell_type": "code",
   "execution_count": 9,
   "id": "0753af1a-9f10-4cb1-883c-69db1dd7b115",
   "metadata": {
    "tags": []
   },
   "outputs": [
    {
     "data": {
      "text/plain": [
       "{'comp', 'efis_id', 'pid_check1', 'pid_check2', 'pid_district', 'rk_locode'}"
      ]
     },
     "execution_count": 9,
     "metadata": {},
     "output_type": "execute_result"
    }
   ],
   "source": [
    "set(list(og_file.columns)) - set(list(check_data.columns))"
   ]
  },
  {
   "cell_type": "code",
   "execution_count": 16,
   "id": "4317cbd8-3fb3-4ee1-93a2-14d7ab298d2c",
   "metadata": {
    "tags": []
   },
   "outputs": [
    {
     "data": {
      "text/plain": [
       "Index(['fmis_transaction_date', 'program_code', 'program_code_description',\n",
       "       'pid_district', 'project_number', 'recipient_project_number',\n",
       "       'pid_check1', 'efis_id', 'pid_check2', 'project_title', 'rk_locode',\n",
       "       'county_code', 'congressional_district', 'project_status_description',\n",
       "       'project_description', 'improvement_type',\n",
       "       'improvement_type_description', 'total_cost_amount',\n",
       "       'obligations_amount', 'summary_recipient_defined_text_field_1_value',\n",
       "       'comp'],\n",
       "      dtype='object')"
      ]
     },
     "execution_count": 16,
     "metadata": {},
     "output_type": "execute_result"
    }
   ],
   "source": [
    "og_file.columns"
   ]
  },
  {
   "cell_type": "code",
   "execution_count": 15,
   "id": "720b2731-1646-414d-bb72-345a8fdc27ce",
   "metadata": {},
   "outputs": [
    {
     "data": {
      "text/plain": [
       "Index(['state_local', 'fmis_transaction_date', 'program_code',\n",
       "       'program_code_description', 'project_number',\n",
       "       'recipient_project_number', 'project_title', 'county_code',\n",
       "       'congressional_district', 'project_status_description',\n",
       "       'project_description', 'improvement_type',\n",
       "       'improvement_type_description', 'total_cost_amount',\n",
       "       'obligations_amount', 'summary_recipient_defined_text_field_1_value'],\n",
       "      dtype='object')"
      ]
     },
     "execution_count": 15,
     "metadata": {},
     "output_type": "execute_result"
    }
   ],
   "source": [
    "check_data.columns"
   ]
  },
  {
   "cell_type": "code",
   "execution_count": 11,
   "id": "a0890faa-9ef1-47ba-b758-7ea636a3e40d",
   "metadata": {},
   "outputs": [
    {
     "data": {
      "text/plain": [
       "2601"
      ]
     },
     "execution_count": 11,
     "metadata": {},
     "output_type": "execute_result"
    }
   ],
   "source": [
    "check_data.project_number.nunique()"
   ]
  },
  {
   "cell_type": "markdown",
   "id": "b9406960-ac09-43c1-a17c-498a9c687fe4",
   "metadata": {},
   "source": [
    "### Run Script"
   ]
  },
  {
   "cell_type": "code",
   "execution_count": 12,
   "id": "0e5b2fc8-2008-4fa9-815d-3794219692a8",
   "metadata": {
    "tags": []
   },
   "outputs": [
    {
     "name": "stderr",
     "output_type": "stream",
     "text": [
      "/home/jovyan/data-analyses/dla/iija/_script_utils.py:592: FutureWarning: The default value of regex will change from True to False in a future version.\n",
      "  df['implementing_agency_locode'] = df['implementing_agency_locode'].str.replace('.0', '')\n"
     ]
    },
    {
     "data": {
      "text/plain": [
       "True"
      ]
     },
     "metadata": {},
     "output_type": "display_data"
    }
   ],
   "source": [
    "df = _script_utils.run_script(my_file, 'summary_recipient_defined_text_field_1_value', 'agg')"
   ]
  },
  {
   "cell_type": "code",
   "execution_count": 13,
   "id": "8627c85d-bf97-4ef3-b1a8-cc03d2a96942",
   "metadata": {
    "tags": []
   },
   "outputs": [
    {
     "data": {
      "text/plain": [
       "count     2601\n",
       "unique     100\n",
       "top         37\n",
       "freq       198\n",
       "Name: county_code, dtype: object"
      ]
     },
     "execution_count": 13,
     "metadata": {},
     "output_type": "execute_result"
    }
   ],
   "source": [
    "df.county_code.describe()"
   ]
  },
  {
   "cell_type": "code",
   "execution_count": 14,
   "id": "442d0c4a-3578-4042-b042-9a279b75d459",
   "metadata": {},
   "outputs": [
    {
     "ename": "AttributeError",
     "evalue": "'DataFrame' object has no attribute 'rk_locode'",
     "output_type": "error",
     "traceback": [
      "\u001b[0;31m---------------------------------------------------------------------------\u001b[0m",
      "\u001b[0;31mAttributeError\u001b[0m                            Traceback (most recent call last)",
      "\u001b[0;32m/tmp/ipykernel_497/2888938786.py\u001b[0m in \u001b[0;36m?\u001b[0;34m()\u001b[0m\n\u001b[0;32m----> 1\u001b[0;31m \u001b[0mdf2\u001b[0m \u001b[0;34m=\u001b[0m \u001b[0m_script_utils\u001b[0m\u001b[0;34m.\u001b[0m\u001b[0mrun_script2\u001b[0m\u001b[0;34m(\u001b[0m\u001b[0mmy_file\u001b[0m\u001b[0;34m,\u001b[0m \u001b[0;34m'summary_recipient_defined_text_field_1_value'\u001b[0m\u001b[0;34m,\u001b[0m \u001b[0;34m'agg'\u001b[0m\u001b[0;34m)\u001b[0m\u001b[0;34m\u001b[0m\u001b[0;34m\u001b[0m\u001b[0m\n\u001b[0m",
      "\u001b[0;32m~/data-analyses/dla/iija/_script_utils.py\u001b[0m in \u001b[0;36m?\u001b[0;34m(file_name, recipient_column, df_agg_level)\u001b[0m\n\u001b[1;32m    675\u001b[0m     \u001b[0;31m### run function to get new program codes\u001b[0m\u001b[0;34m\u001b[0m\u001b[0;34m\u001b[0m\u001b[0m\n\u001b[1;32m    676\u001b[0m     \u001b[0mproj_cleaned\u001b[0m \u001b[0;34m=\u001b[0m \u001b[0m_data_utils\u001b[0m\u001b[0;34m.\u001b[0m\u001b[0madd_new_codes\u001b[0m\u001b[0;34m(\u001b[0m\u001b[0mproj_list\u001b[0m\u001b[0;34m)\u001b[0m\u001b[0;34m\u001b[0m\u001b[0;34m\u001b[0m\u001b[0m\n\u001b[1;32m    677\u001b[0m \u001b[0;34m\u001b[0m\u001b[0m\n\u001b[1;32m    678\u001b[0m     \u001b[0;31m## function that adds known agency name to df\u001b[0m\u001b[0;34m\u001b[0m\u001b[0;34m\u001b[0m\u001b[0m\n\u001b[0;32m--> 679\u001b[0;31m     \u001b[0mdf\u001b[0m \u001b[0;34m=\u001b[0m \u001b[0midentify_agency2\u001b[0m\u001b[0;34m(\u001b[0m\u001b[0mproj_cleaned\u001b[0m\u001b[0;34m)\u001b[0m\u001b[0;34m\u001b[0m\u001b[0;34m\u001b[0m\u001b[0m\n\u001b[0m\u001b[1;32m    680\u001b[0m \u001b[0;34m\u001b[0m\u001b[0m\n\u001b[1;32m    681\u001b[0m     \u001b[0;31m### run the data through the rest of the script\u001b[0m\u001b[0;34m\u001b[0m\u001b[0;34m\u001b[0m\u001b[0m\n\u001b[1;32m    682\u001b[0m     \u001b[0;31m### return a dataset that is aggregated at the project and program code\u001b[0m\u001b[0;34m\u001b[0m\u001b[0;34m\u001b[0m\u001b[0m\n",
      "\u001b[0;32m~/data-analyses/dla/iija/_script_utils.py\u001b[0m in \u001b[0;36m?\u001b[0;34m(df)\u001b[0m\n\u001b[1;32m    205\u001b[0m     \u001b[0;31m# Load dataframe with locodes\u001b[0m\u001b[0;34m\u001b[0m\u001b[0;34m\u001b[0m\u001b[0m\n\u001b[1;32m    206\u001b[0m     \u001b[0mlocodes_df\u001b[0m \u001b[0;34m=\u001b[0m \u001b[0mload_locodes\u001b[0m\u001b[0;34m(\u001b[0m\u001b[0;34m)\u001b[0m\u001b[0;34m\u001b[0m\u001b[0;34m\u001b[0m\u001b[0m\n\u001b[1;32m    207\u001b[0m \u001b[0;34m\u001b[0m\u001b[0m\n\u001b[1;32m    208\u001b[0m     \u001b[0;31m# Filter out for rows in which rk_locode is filled\u001b[0m\u001b[0;34m\u001b[0m\u001b[0;34m\u001b[0m\u001b[0m\n\u001b[0;32m--> 209\u001b[0;31m     \u001b[0mfilled_locode_df\u001b[0m \u001b[0;34m=\u001b[0m \u001b[0mdf\u001b[0m\u001b[0;34m.\u001b[0m\u001b[0mloc\u001b[0m\u001b[0;34m[\u001b[0m\u001b[0mdf\u001b[0m\u001b[0;34m.\u001b[0m\u001b[0mrk_locode\u001b[0m\u001b[0;34m.\u001b[0m\u001b[0mnotna\u001b[0m\u001b[0;34m(\u001b[0m\u001b[0;34m)\u001b[0m\u001b[0;34m]\u001b[0m\u001b[0;34m.\u001b[0m\u001b[0mreset_index\u001b[0m\u001b[0;34m(\u001b[0m\u001b[0mdrop\u001b[0m\u001b[0;34m=\u001b[0m\u001b[0;32mTrue\u001b[0m\u001b[0;34m)\u001b[0m\u001b[0;34m\u001b[0m\u001b[0;34m\u001b[0m\u001b[0m\n\u001b[0m\u001b[1;32m    210\u001b[0m \u001b[0;34m\u001b[0m\u001b[0m\n\u001b[1;32m    211\u001b[0m     \u001b[0;31m# Merge the two dataframes\u001b[0m\u001b[0;34m\u001b[0m\u001b[0;34m\u001b[0m\u001b[0m\n\u001b[1;32m    212\u001b[0m     filled_locode_df2 = pd.merge(\n",
      "\u001b[0;32m/opt/conda/lib/python3.11/site-packages/pandas/core/generic.py\u001b[0m in \u001b[0;36m?\u001b[0;34m(self, name)\u001b[0m\n\u001b[1;32m   5898\u001b[0m             \u001b[0;32mand\u001b[0m \u001b[0mname\u001b[0m \u001b[0;32mnot\u001b[0m \u001b[0;32min\u001b[0m \u001b[0mself\u001b[0m\u001b[0;34m.\u001b[0m\u001b[0m_accessors\u001b[0m\u001b[0;34m\u001b[0m\u001b[0;34m\u001b[0m\u001b[0m\n\u001b[1;32m   5899\u001b[0m             \u001b[0;32mand\u001b[0m \u001b[0mself\u001b[0m\u001b[0;34m.\u001b[0m\u001b[0m_info_axis\u001b[0m\u001b[0;34m.\u001b[0m\u001b[0m_can_hold_identifiers_and_holds_name\u001b[0m\u001b[0;34m(\u001b[0m\u001b[0mname\u001b[0m\u001b[0;34m)\u001b[0m\u001b[0;34m\u001b[0m\u001b[0;34m\u001b[0m\u001b[0m\n\u001b[1;32m   5900\u001b[0m         ):\n\u001b[1;32m   5901\u001b[0m             \u001b[0;32mreturn\u001b[0m \u001b[0mself\u001b[0m\u001b[0;34m[\u001b[0m\u001b[0mname\u001b[0m\u001b[0;34m]\u001b[0m\u001b[0;34m\u001b[0m\u001b[0;34m\u001b[0m\u001b[0m\n\u001b[0;32m-> 5902\u001b[0;31m         \u001b[0;32mreturn\u001b[0m \u001b[0mobject\u001b[0m\u001b[0;34m.\u001b[0m\u001b[0m__getattribute__\u001b[0m\u001b[0;34m(\u001b[0m\u001b[0mself\u001b[0m\u001b[0;34m,\u001b[0m \u001b[0mname\u001b[0m\u001b[0;34m)\u001b[0m\u001b[0;34m\u001b[0m\u001b[0;34m\u001b[0m\u001b[0m\n\u001b[0m",
      "\u001b[0;31mAttributeError\u001b[0m: 'DataFrame' object has no attribute 'rk_locode'"
     ]
    }
   ],
   "source": [
    "df2 = _script_utils.run_script2(my_file, 'summary_recipient_defined_text_field_1_value', 'agg')"
   ]
  },
  {
   "cell_type": "markdown",
   "id": "30325e4e-1bd0-4176-be6a-92aecd143e49",
   "metadata": {
    "tags": []
   },
   "source": [
    "### Testing the data"
   ]
  },
  {
   "cell_type": "code",
   "execution_count": null,
   "id": "2074166e-ee58-44c5-9052-52c549cbe1e6",
   "metadata": {
    "tags": []
   },
   "outputs": [],
   "source": [
    "## when grouping by funding program (pne project can have multiple rows), len is 1612 for 2023 version of data\n",
    "## asserting the length of the df is the same as number of projects\n",
    "assert len(df) == check_data.project_number.nunique()"
   ]
  },
  {
   "cell_type": "code",
   "execution_count": null,
   "id": "73fa7f51-7e07-414a-95a8-385a2649a67d",
   "metadata": {},
   "outputs": [],
   "source": [
    "assert len(df2) == check_data.project_number.nunique()"
   ]
  },
  {
   "cell_type": "code",
   "execution_count": null,
   "id": "31fd8ca9-65a5-4e7f-9c10-8ce0f0ee2123",
   "metadata": {
    "tags": []
   },
   "outputs": [],
   "source": [
    "len(df2), len(df)"
   ]
  },
  {
   "cell_type": "code",
   "execution_count": null,
   "id": "bf02e0fe-bfc7-417f-a9a3-6fcafca51770",
   "metadata": {
    "tags": []
   },
   "outputs": [],
   "source": [
    "## check one project with multiple funding codes\n",
    "df>>filter(_.project_number=='5004049')"
   ]
  },
  {
   "cell_type": "code",
   "execution_count": null,
   "id": "1d72d856-35fe-4523-bfac-a35b617ebc92",
   "metadata": {
    "scrolled": true,
    "tags": []
   },
   "outputs": [],
   "source": [
    "df2>>filter(_.project_number=='5004049')"
   ]
  },
  {
   "cell_type": "code",
   "execution_count": null,
   "id": "91065ed4-ebb7-4c49-a483-a826b6a9ca75",
   "metadata": {
    "tags": []
   },
   "outputs": [],
   "source": [
    "df.implementing_agency.value_counts().head()"
   ]
  },
  {
   "cell_type": "code",
   "execution_count": null,
   "id": "387553fe-7e28-4d3a-8580-1a96e1ea7351",
   "metadata": {
    "tags": []
   },
   "outputs": [],
   "source": [
    "df2.implementing_agency.value_counts().head()"
   ]
  },
  {
   "cell_type": "markdown",
   "id": "3d6cc3f2-07a3-4390-9ee1-8d30aa78909e",
   "metadata": {},
   "source": [
    "## Export Data"
   ]
  },
  {
   "cell_type": "code",
   "execution_count": null,
   "id": "6652683c-2ea1-456e-918a-bffb7da2de0a",
   "metadata": {},
   "outputs": [],
   "source": [
    "### rename the file for export to GCS\n",
    "### use date to rename"
   ]
  },
  {
   "cell_type": "code",
   "execution_count": null,
   "id": "388a2112-cc55-46cd-8fa1-941fadb70f13",
   "metadata": {
    "tags": []
   },
   "outputs": [],
   "source": [
    "# _script_utils.export_to_gcs(df, \"01302025_agg\")"
   ]
  },
  {
   "cell_type": "code",
   "execution_count": null,
   "id": "0c492d4d-d6d3-49f5-a65c-e1d18ea4a5d1",
   "metadata": {},
   "outputs": [],
   "source": [
    "_script_utils.export_to_gcs(df2, \"02102025_agg\")"
   ]
  },
  {
   "cell_type": "code",
   "execution_count": null,
   "id": "041d7477-713f-4c18-98a1-f45355e39fa8",
   "metadata": {},
   "outputs": [],
   "source": []
  }
 ],
 "metadata": {
  "kernelspec": {
   "display_name": "Python 3 (ipykernel)",
   "language": "python",
   "name": "python3"
  },
  "language_info": {
   "codemirror_mode": {
    "name": "ipython",
    "version": 3
   },
   "file_extension": ".py",
   "mimetype": "text/x-python",
   "name": "python",
   "nbconvert_exporter": "python",
   "pygments_lexer": "ipython3",
   "version": "3.11.10"
  },
  "widgets": {
   "application/vnd.jupyter.widget-state+json": {
    "state": {},
    "version_major": 2,
    "version_minor": 0
   }
  }
 },
 "nbformat": 4,
 "nbformat_minor": 5
}
