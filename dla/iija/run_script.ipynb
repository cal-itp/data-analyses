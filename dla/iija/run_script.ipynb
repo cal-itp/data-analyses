{
 "cells": [
  {
   "cell_type": "markdown",
   "id": "3c31cd6d-91cd-4b4e-8fd0-9a6ed076e95b",
   "metadata": {},
   "source": [
    "# Run Functions to Add Information to Projects"
   ]
  },
  {
   "cell_type": "markdown",
   "id": "f993b35a-25e9-4aaf-86ab-fd01c724cb92",
   "metadata": {},
   "source": [
    "To run the data through the script, all you need to do is update `my_file` path to the most recent export from FMIS and QMRS uploaded to GCS, then run the function in the section `Export Data` with your dataframe and the current date. Then your aggregated data will be ready in GCS. "
   ]
  },
  {
   "cell_type": "code",
   "execution_count": 1,
   "id": "427ef3d1-a937-483e-bcb5-68e377dd4f35",
   "metadata": {},
   "outputs": [],
   "source": [
    "import _script_utils\n",
    "import _data_utils\n",
    "import pandas as pd\n",
    "from calitp_data_analysis.sql import to_snakecase\n",
    "from siuba import *"
   ]
  },
  {
   "cell_type": "code",
   "execution_count": 2,
   "id": "ce77f2af-baa1-4cc7-ad1a-64ec8d12e0e9",
   "metadata": {},
   "outputs": [],
   "source": [
    "pd.set_option(\"display.max_columns\", 100)\n",
    "pd.set_option(\"display.max_colwidth\", None)"
   ]
  },
  {
   "cell_type": "markdown",
   "id": "899b931a-6a2c-479c-8db1-85f5e5e0eb27",
   "metadata": {
    "tags": []
   },
   "source": [
    "## Read in Data and function development / Test Function"
   ]
  },
  {
   "cell_type": "markdown",
   "id": "4ccf8b66-6289-41ca-9cc1-1b9538ec5aaa",
   "metadata": {},
   "source": [
    "For the following function:\n",
    "* update the file path for `my_file` to the most recent file name of the FMIS & QMRS export\n",
    "* the second kwargs is the unique recipient identifier, in this case it should stay the same with subsequent exports\n",
    "* the third kwargs is the aggregation level you want for the data. Unless otherwise specified, it should be `agg` which is one row per project"
   ]
  },
  {
   "cell_type": "code",
   "execution_count": 3,
   "id": "50c0f7c4-0c73-47d8-b56e-2ae9111e248f",
   "metadata": {},
   "outputs": [],
   "source": [
    "GCS_FILE_PATH = \"gs://calitp-analytics-data/data-analyses/dla/dla-iija\""
   ]
  },
  {
   "cell_type": "code",
   "execution_count": 4,
   "id": "e97910e0-80a7-4eb7-9c42-ab09e017157d",
   "metadata": {},
   "outputs": [],
   "source": [
    "my_file = \"FMIS_IIJA_20250709.xlsx\""
   ]
  },
  {
   "cell_type": "markdown",
   "id": "bb7ff766-0a96-4015-9e43-1799dbcccd8a",
   "metadata": {},
   "source": [
    "### Check data"
   ]
  },
  {
   "cell_type": "code",
   "execution_count": 5,
   "id": "e104318c-bd90-42d6-9c1d-36a9e8ceb003",
   "metadata": {},
   "outputs": [],
   "source": [
    "check_data = to_snakecase(pd.read_excel(f\"{GCS_FILE_PATH}/{my_file}\"))"
   ]
  },
  {
   "cell_type": "code",
   "execution_count": 6,
   "id": "720b2731-1646-414d-bb72-345a8fdc27ce",
   "metadata": {},
   "outputs": [
    {
     "data": {
      "text/html": [
       "<div>\n",
       "<style scoped>\n",
       "    .dataframe tbody tr th:only-of-type {\n",
       "        vertical-align: middle;\n",
       "    }\n",
       "\n",
       "    .dataframe tbody tr th {\n",
       "        vertical-align: top;\n",
       "    }\n",
       "\n",
       "    .dataframe thead th {\n",
       "        text-align: right;\n",
       "    }\n",
       "</style>\n",
       "<table border=\"1\" class=\"dataframe\">\n",
       "  <thead>\n",
       "    <tr style=\"text-align: right;\">\n",
       "      <th></th>\n",
       "      <th>fmis_transaction_date</th>\n",
       "      <th>program_code</th>\n",
       "      <th>program_code_description</th>\n",
       "      <th>project_number</th>\n",
       "      <th>recipient_project_number</th>\n",
       "      <th>project_title</th>\n",
       "      <th>county_code</th>\n",
       "      <th>congressional_district</th>\n",
       "      <th>project_status_description</th>\n",
       "      <th>project_description</th>\n",
       "      <th>improvement_type</th>\n",
       "      <th>improvement_type_description</th>\n",
       "      <th>total_cost_amount</th>\n",
       "      <th>obligations_amount</th>\n",
       "      <th>summary_recipient</th>\n",
       "    </tr>\n",
       "  </thead>\n",
       "  <tbody>\n",
       "    <tr>\n",
       "      <th>0</th>\n",
       "      <td>2022-03-15</td>\n",
       "      <td>Y230</td>\n",
       "      <td>STBG-URBANIZED &gt;200K IIJA</td>\n",
       "      <td>6084275</td>\n",
       "      <td>0422000280L</td>\n",
       "      <td>FREMONT, RICHMOND, AND MARIN AND SONOMA COUNTIES, ALONG THE SMART CORRIDOR. BIKE SHARE CAPITAL PROGRAM (TC)</td>\n",
       "      <td>13</td>\n",
       "      <td>Cong Dist 15</td>\n",
       "      <td>Active</td>\n",
       "      <td>FREMONT, RICHMOND, AND MARIN AND SONOMA COUNTIES, ALONG THE SMART CORRIDOR. BIKE SHARE CAPITAL PROGRAM (TC)</td>\n",
       "      <td>44</td>\n",
       "      <td>Other</td>\n",
       "      <td>700000.0</td>\n",
       "      <td>700000.0</td>\n",
       "      <td>L6084MTC</td>\n",
       "    </tr>\n",
       "  </tbody>\n",
       "</table>\n",
       "</div>"
      ],
      "text/plain": [
       "  fmis_transaction_date program_code   program_code_description  \\\n",
       "0            2022-03-15         Y230  STBG-URBANIZED >200K IIJA   \n",
       "\n",
       "  project_number recipient_project_number  \\\n",
       "0        6084275              0422000280L   \n",
       "\n",
       "                                                                                                 project_title  \\\n",
       "0  FREMONT, RICHMOND, AND MARIN AND SONOMA COUNTIES, ALONG THE SMART CORRIDOR. BIKE SHARE CAPITAL PROGRAM (TC)   \n",
       "\n",
       "   county_code congressional_district project_status_description  \\\n",
       "0           13           Cong Dist 15                     Active   \n",
       "\n",
       "                                                                                           project_description  \\\n",
       "0  FREMONT, RICHMOND, AND MARIN AND SONOMA COUNTIES, ALONG THE SMART CORRIDOR. BIKE SHARE CAPITAL PROGRAM (TC)   \n",
       "\n",
       "   improvement_type improvement_type_description  total_cost_amount  \\\n",
       "0                44                        Other           700000.0   \n",
       "\n",
       "   obligations_amount summary_recipient  \n",
       "0            700000.0          L6084MTC  "
      ]
     },
     "execution_count": 6,
     "metadata": {},
     "output_type": "execute_result"
    }
   ],
   "source": [
    "check_data.head(1)"
   ]
  },
  {
   "cell_type": "code",
   "execution_count": 7,
   "id": "98ff2a30-9ec4-4d3e-9f07-5be996363cdd",
   "metadata": {
    "tags": []
   },
   "outputs": [
    {
     "data": {
      "text/html": [
       "<div>\n",
       "<style scoped>\n",
       "    .dataframe tbody tr th:only-of-type {\n",
       "        vertical-align: middle;\n",
       "    }\n",
       "\n",
       "    .dataframe tbody tr th {\n",
       "        vertical-align: top;\n",
       "    }\n",
       "\n",
       "    .dataframe thead th {\n",
       "        text-align: right;\n",
       "    }\n",
       "</style>\n",
       "<table border=\"1\" class=\"dataframe\">\n",
       "  <thead>\n",
       "    <tr style=\"text-align: right;\">\n",
       "      <th></th>\n",
       "      <th>summary_recipient</th>\n",
       "    </tr>\n",
       "  </thead>\n",
       "  <tbody>\n",
       "    <tr>\n",
       "      <th>2507</th>\n",
       "      <td>L5379MTC</td>\n",
       "    </tr>\n",
       "    <tr>\n",
       "      <th>2060</th>\n",
       "      <td>L5957SANDAG</td>\n",
       "    </tr>\n",
       "    <tr>\n",
       "      <th>5009</th>\n",
       "      <td>S    MTC</td>\n",
       "    </tr>\n",
       "  </tbody>\n",
       "</table>\n",
       "</div>"
      ],
      "text/plain": [
       "     summary_recipient\n",
       "2507          L5379MTC\n",
       "2060       L5957SANDAG\n",
       "5009          S    MTC"
      ]
     },
     "execution_count": 7,
     "metadata": {},
     "output_type": "execute_result"
    }
   ],
   "source": [
    "check_data[[\"summary_recipient\"]].sample(3)"
   ]
  },
  {
   "cell_type": "code",
   "execution_count": 8,
   "id": "a0890faa-9ef1-47ba-b758-7ea636a3e40d",
   "metadata": {},
   "outputs": [
    {
     "data": {
      "text/plain": [
       "2310"
      ]
     },
     "execution_count": 8,
     "metadata": {},
     "output_type": "execute_result"
    }
   ],
   "source": [
    "check_data.project_number.nunique()"
   ]
  },
  {
   "cell_type": "code",
   "execution_count": 9,
   "id": "f4f7e9b0-af71-41e6-9a86-71d3dbdee1e6",
   "metadata": {
    "tags": []
   },
   "outputs": [
    {
     "data": {
      "text/plain": [
       "Index(['fmis_transaction_date', 'program_code', 'program_code_description',\n",
       "       'project_number', 'recipient_project_number', 'project_title',\n",
       "       'county_code', 'congressional_district', 'project_status_description',\n",
       "       'project_description', 'improvement_type',\n",
       "       'improvement_type_description', 'total_cost_amount',\n",
       "       'obligations_amount', 'summary_recipient'],\n",
       "      dtype='object')"
      ]
     },
     "execution_count": 9,
     "metadata": {},
     "output_type": "execute_result"
    }
   ],
   "source": [
    "check_data.columns"
   ]
  },
  {
   "cell_type": "code",
   "execution_count": 10,
   "id": "c0371626-b415-45ff-8430-a5f40515951d",
   "metadata": {
    "tags": []
   },
   "outputs": [],
   "source": [
    "import intake"
   ]
  },
  {
   "cell_type": "code",
   "execution_count": 11,
   "id": "7e976493-a44c-4aa1-b37f-507bc5a07ee6",
   "metadata": {
    "tags": []
   },
   "outputs": [],
   "source": [
    "previous_df = to_snakecase(pd.read_excel(\n",
    "    \"gs://calitp-analytics-data/data-analyses/dla/dla-iija/2b Output.xlsx\"\n",
    "))"
   ]
  },
  {
   "cell_type": "code",
   "execution_count": 12,
   "id": "6b98c688-3a00-4360-ac1a-906b19b263bf",
   "metadata": {
    "tags": []
   },
   "outputs": [
    {
     "data": {
      "text/plain": [
       "{'_3c_agency_name',\n",
       " '_3c_county',\n",
       " '_3c_iija_obligated',\n",
       " '_3c_phase',\n",
       " '_3c_status',\n",
       " '_3c_total_cost',\n",
       " 'action_type',\n",
       " 'district',\n",
       " 'fads_location',\n",
       " 'iija_codes',\n",
       " 'lp2000_location',\n",
       " 'rk_locode',\n",
       " 'state_local',\n",
       " 'summary_recipient_defined_text_field_1_value'}"
      ]
     },
     "execution_count": 12,
     "metadata": {},
     "output_type": "execute_result"
    }
   ],
   "source": [
    "set(list(previous_df.columns))-set(list(check_data.columns))"
   ]
  },
  {
   "cell_type": "code",
   "execution_count": 13,
   "id": "f7824d70-fe4f-4afe-89d7-742e594ea816",
   "metadata": {
    "tags": []
   },
   "outputs": [],
   "source": [
    "catalog = intake.open_catalog(\n",
    "    \"../../_shared_utils/shared_utils/shared_data_catalog.yml\"\n",
    ")"
   ]
  },
  {
   "cell_type": "code",
   "execution_count": 14,
   "id": "ae93b275-040e-4696-b3a8-0e97cd3d7015",
   "metadata": {
    "tags": []
   },
   "outputs": [],
   "source": [
    "counties = to_snakecase((catalog.ca_counties.read()))[[\"name\", \"cnty_fips\"]]"
   ]
  },
  {
   "cell_type": "code",
   "execution_count": 15,
   "id": "3a2eb30a-4021-448c-9942-ed392ef44bae",
   "metadata": {
    "tags": []
   },
   "outputs": [],
   "source": [
    "counties.cnty_fips   = counties.cnty_fips.astype(int)"
   ]
  },
  {
   "cell_type": "code",
   "execution_count": 16,
   "id": "0e1b7cc4-f080-4730-90c4-82d637604b9d",
   "metadata": {
    "tags": []
   },
   "outputs": [
    {
     "data": {
      "text/plain": [
       "array([ 13,  83,  67, 999, 103,  23,  81,  73,  15,   1,  37,  79,  19,\n",
       "        77,  59,  71,  11,  85,  65, 113,  61, 107,  89,  75, 115,  45,\n",
       "         7,  87,  99,  97,  93,  29,  21,  41,  95,  57,  17,  33, 101,\n",
       "        53,  39, 105,  35,  43,  47,  25,   3,  31,   5, 111,  69,   9,\n",
       "        55,  27,  63,  51, 109,  91,  49])"
      ]
     },
     "execution_count": 16,
     "metadata": {},
     "output_type": "execute_result"
    }
   ],
   "source": [
    "check_data.county_code.unique()"
   ]
  },
  {
   "cell_type": "code",
   "execution_count": 17,
   "id": "cba2aa6e-30d3-4b68-a82f-0afba5df5b65",
   "metadata": {
    "scrolled": true,
    "tags": []
   },
   "outputs": [
    {
     "data": {
      "text/html": [
       "<div>\n",
       "<style scoped>\n",
       "    .dataframe tbody tr th:only-of-type {\n",
       "        vertical-align: middle;\n",
       "    }\n",
       "\n",
       "    .dataframe tbody tr th {\n",
       "        vertical-align: top;\n",
       "    }\n",
       "\n",
       "    .dataframe thead th {\n",
       "        text-align: right;\n",
       "    }\n",
       "</style>\n",
       "<table border=\"1\" class=\"dataframe\">\n",
       "  <thead>\n",
       "    <tr style=\"text-align: right;\">\n",
       "      <th></th>\n",
       "      <th>name</th>\n",
       "      <th>cnty_fips</th>\n",
       "    </tr>\n",
       "  </thead>\n",
       "  <tbody>\n",
       "    <tr>\n",
       "      <th>0</th>\n",
       "      <td>Alameda County</td>\n",
       "      <td>1</td>\n",
       "    </tr>\n",
       "    <tr>\n",
       "      <th>1</th>\n",
       "      <td>Alpine County</td>\n",
       "      <td>3</td>\n",
       "    </tr>\n",
       "    <tr>\n",
       "      <th>2</th>\n",
       "      <td>Amador County</td>\n",
       "      <td>5</td>\n",
       "    </tr>\n",
       "    <tr>\n",
       "      <th>3</th>\n",
       "      <td>Butte County</td>\n",
       "      <td>7</td>\n",
       "    </tr>\n",
       "    <tr>\n",
       "      <th>4</th>\n",
       "      <td>Calaveras County</td>\n",
       "      <td>9</td>\n",
       "    </tr>\n",
       "    <tr>\n",
       "      <th>5</th>\n",
       "      <td>Colusa County</td>\n",
       "      <td>11</td>\n",
       "    </tr>\n",
       "    <tr>\n",
       "      <th>6</th>\n",
       "      <td>Contra Costa County</td>\n",
       "      <td>13</td>\n",
       "    </tr>\n",
       "    <tr>\n",
       "      <th>7</th>\n",
       "      <td>Del Norte County</td>\n",
       "      <td>15</td>\n",
       "    </tr>\n",
       "    <tr>\n",
       "      <th>8</th>\n",
       "      <td>El Dorado County</td>\n",
       "      <td>17</td>\n",
       "    </tr>\n",
       "    <tr>\n",
       "      <th>9</th>\n",
       "      <td>Fresno County</td>\n",
       "      <td>19</td>\n",
       "    </tr>\n",
       "    <tr>\n",
       "      <th>10</th>\n",
       "      <td>Glenn County</td>\n",
       "      <td>21</td>\n",
       "    </tr>\n",
       "    <tr>\n",
       "      <th>11</th>\n",
       "      <td>Humboldt County</td>\n",
       "      <td>23</td>\n",
       "    </tr>\n",
       "    <tr>\n",
       "      <th>12</th>\n",
       "      <td>Imperial County</td>\n",
       "      <td>25</td>\n",
       "    </tr>\n",
       "    <tr>\n",
       "      <th>13</th>\n",
       "      <td>Inyo County</td>\n",
       "      <td>27</td>\n",
       "    </tr>\n",
       "    <tr>\n",
       "      <th>14</th>\n",
       "      <td>Kern County</td>\n",
       "      <td>29</td>\n",
       "    </tr>\n",
       "    <tr>\n",
       "      <th>15</th>\n",
       "      <td>Kings County</td>\n",
       "      <td>31</td>\n",
       "    </tr>\n",
       "    <tr>\n",
       "      <th>16</th>\n",
       "      <td>Lake County</td>\n",
       "      <td>33</td>\n",
       "    </tr>\n",
       "    <tr>\n",
       "      <th>17</th>\n",
       "      <td>Lassen County</td>\n",
       "      <td>35</td>\n",
       "    </tr>\n",
       "    <tr>\n",
       "      <th>18</th>\n",
       "      <td>Los Angeles County</td>\n",
       "      <td>37</td>\n",
       "    </tr>\n",
       "    <tr>\n",
       "      <th>19</th>\n",
       "      <td>Madera County</td>\n",
       "      <td>39</td>\n",
       "    </tr>\n",
       "    <tr>\n",
       "      <th>20</th>\n",
       "      <td>Marin County</td>\n",
       "      <td>41</td>\n",
       "    </tr>\n",
       "    <tr>\n",
       "      <th>21</th>\n",
       "      <td>Mariposa County</td>\n",
       "      <td>43</td>\n",
       "    </tr>\n",
       "    <tr>\n",
       "      <th>22</th>\n",
       "      <td>Mendocino County</td>\n",
       "      <td>45</td>\n",
       "    </tr>\n",
       "    <tr>\n",
       "      <th>23</th>\n",
       "      <td>Merced County</td>\n",
       "      <td>47</td>\n",
       "    </tr>\n",
       "    <tr>\n",
       "      <th>24</th>\n",
       "      <td>Modoc County</td>\n",
       "      <td>49</td>\n",
       "    </tr>\n",
       "    <tr>\n",
       "      <th>25</th>\n",
       "      <td>Mono County</td>\n",
       "      <td>51</td>\n",
       "    </tr>\n",
       "    <tr>\n",
       "      <th>26</th>\n",
       "      <td>Monterey County</td>\n",
       "      <td>53</td>\n",
       "    </tr>\n",
       "    <tr>\n",
       "      <th>27</th>\n",
       "      <td>Napa County</td>\n",
       "      <td>55</td>\n",
       "    </tr>\n",
       "    <tr>\n",
       "      <th>28</th>\n",
       "      <td>Nevada County</td>\n",
       "      <td>57</td>\n",
       "    </tr>\n",
       "    <tr>\n",
       "      <th>29</th>\n",
       "      <td>Orange County</td>\n",
       "      <td>59</td>\n",
       "    </tr>\n",
       "    <tr>\n",
       "      <th>30</th>\n",
       "      <td>Placer County</td>\n",
       "      <td>61</td>\n",
       "    </tr>\n",
       "    <tr>\n",
       "      <th>31</th>\n",
       "      <td>Plumas County</td>\n",
       "      <td>63</td>\n",
       "    </tr>\n",
       "    <tr>\n",
       "      <th>32</th>\n",
       "      <td>Riverside County</td>\n",
       "      <td>65</td>\n",
       "    </tr>\n",
       "    <tr>\n",
       "      <th>33</th>\n",
       "      <td>Sacramento County</td>\n",
       "      <td>67</td>\n",
       "    </tr>\n",
       "    <tr>\n",
       "      <th>34</th>\n",
       "      <td>San Benito County</td>\n",
       "      <td>69</td>\n",
       "    </tr>\n",
       "    <tr>\n",
       "      <th>35</th>\n",
       "      <td>San Bernardino County</td>\n",
       "      <td>71</td>\n",
       "    </tr>\n",
       "    <tr>\n",
       "      <th>36</th>\n",
       "      <td>San Diego County</td>\n",
       "      <td>73</td>\n",
       "    </tr>\n",
       "    <tr>\n",
       "      <th>37</th>\n",
       "      <td>San Francisco County</td>\n",
       "      <td>75</td>\n",
       "    </tr>\n",
       "    <tr>\n",
       "      <th>38</th>\n",
       "      <td>San Joaquin County</td>\n",
       "      <td>77</td>\n",
       "    </tr>\n",
       "    <tr>\n",
       "      <th>39</th>\n",
       "      <td>San Luis Obispo County</td>\n",
       "      <td>79</td>\n",
       "    </tr>\n",
       "    <tr>\n",
       "      <th>40</th>\n",
       "      <td>San Mateo County</td>\n",
       "      <td>81</td>\n",
       "    </tr>\n",
       "    <tr>\n",
       "      <th>41</th>\n",
       "      <td>Santa Barbara County</td>\n",
       "      <td>83</td>\n",
       "    </tr>\n",
       "    <tr>\n",
       "      <th>42</th>\n",
       "      <td>Santa Clara County</td>\n",
       "      <td>85</td>\n",
       "    </tr>\n",
       "    <tr>\n",
       "      <th>43</th>\n",
       "      <td>Santa Cruz County</td>\n",
       "      <td>87</td>\n",
       "    </tr>\n",
       "    <tr>\n",
       "      <th>44</th>\n",
       "      <td>Shasta County</td>\n",
       "      <td>89</td>\n",
       "    </tr>\n",
       "    <tr>\n",
       "      <th>45</th>\n",
       "      <td>Sierra County</td>\n",
       "      <td>91</td>\n",
       "    </tr>\n",
       "    <tr>\n",
       "      <th>46</th>\n",
       "      <td>Siskiyou County</td>\n",
       "      <td>93</td>\n",
       "    </tr>\n",
       "    <tr>\n",
       "      <th>47</th>\n",
       "      <td>Solano County</td>\n",
       "      <td>95</td>\n",
       "    </tr>\n",
       "    <tr>\n",
       "      <th>48</th>\n",
       "      <td>Sonoma County</td>\n",
       "      <td>97</td>\n",
       "    </tr>\n",
       "    <tr>\n",
       "      <th>49</th>\n",
       "      <td>Stanislaus County</td>\n",
       "      <td>99</td>\n",
       "    </tr>\n",
       "    <tr>\n",
       "      <th>50</th>\n",
       "      <td>Sutter County</td>\n",
       "      <td>101</td>\n",
       "    </tr>\n",
       "    <tr>\n",
       "      <th>51</th>\n",
       "      <td>Tehama County</td>\n",
       "      <td>103</td>\n",
       "    </tr>\n",
       "    <tr>\n",
       "      <th>52</th>\n",
       "      <td>Trinity County</td>\n",
       "      <td>105</td>\n",
       "    </tr>\n",
       "    <tr>\n",
       "      <th>53</th>\n",
       "      <td>Tulare County</td>\n",
       "      <td>107</td>\n",
       "    </tr>\n",
       "    <tr>\n",
       "      <th>54</th>\n",
       "      <td>Tuolumne County</td>\n",
       "      <td>109</td>\n",
       "    </tr>\n",
       "    <tr>\n",
       "      <th>55</th>\n",
       "      <td>Ventura County</td>\n",
       "      <td>111</td>\n",
       "    </tr>\n",
       "    <tr>\n",
       "      <th>56</th>\n",
       "      <td>Yolo County</td>\n",
       "      <td>113</td>\n",
       "    </tr>\n",
       "    <tr>\n",
       "      <th>57</th>\n",
       "      <td>Yuba County</td>\n",
       "      <td>115</td>\n",
       "    </tr>\n",
       "  </tbody>\n",
       "</table>\n",
       "</div>"
      ],
      "text/plain": [
       "                      name  cnty_fips\n",
       "0           Alameda County          1\n",
       "1            Alpine County          3\n",
       "2            Amador County          5\n",
       "3             Butte County          7\n",
       "4         Calaveras County          9\n",
       "5            Colusa County         11\n",
       "6      Contra Costa County         13\n",
       "7         Del Norte County         15\n",
       "8         El Dorado County         17\n",
       "9            Fresno County         19\n",
       "10            Glenn County         21\n",
       "11         Humboldt County         23\n",
       "12         Imperial County         25\n",
       "13             Inyo County         27\n",
       "14             Kern County         29\n",
       "15            Kings County         31\n",
       "16             Lake County         33\n",
       "17           Lassen County         35\n",
       "18      Los Angeles County         37\n",
       "19           Madera County         39\n",
       "20            Marin County         41\n",
       "21         Mariposa County         43\n",
       "22        Mendocino County         45\n",
       "23           Merced County         47\n",
       "24            Modoc County         49\n",
       "25             Mono County         51\n",
       "26         Monterey County         53\n",
       "27             Napa County         55\n",
       "28           Nevada County         57\n",
       "29           Orange County         59\n",
       "30           Placer County         61\n",
       "31           Plumas County         63\n",
       "32        Riverside County         65\n",
       "33       Sacramento County         67\n",
       "34       San Benito County         69\n",
       "35   San Bernardino County         71\n",
       "36        San Diego County         73\n",
       "37    San Francisco County         75\n",
       "38      San Joaquin County         77\n",
       "39  San Luis Obispo County         79\n",
       "40        San Mateo County         81\n",
       "41    Santa Barbara County         83\n",
       "42      Santa Clara County         85\n",
       "43       Santa Cruz County         87\n",
       "44           Shasta County         89\n",
       "45           Sierra County         91\n",
       "46         Siskiyou County         93\n",
       "47           Solano County         95\n",
       "48           Sonoma County         97\n",
       "49       Stanislaus County         99\n",
       "50           Sutter County        101\n",
       "51           Tehama County        103\n",
       "52          Trinity County        105\n",
       "53           Tulare County        107\n",
       "54         Tuolumne County        109\n",
       "55          Ventura County        111\n",
       "56             Yolo County        113\n",
       "57             Yuba County        115"
      ]
     },
     "execution_count": 17,
     "metadata": {},
     "output_type": "execute_result"
    }
   ],
   "source": [
    "counties.sort_values(by = [\"name\"])"
   ]
  },
  {
   "cell_type": "code",
   "execution_count": 18,
   "id": "f7771a46-351e-42ca-bf32-19bf747a3440",
   "metadata": {
    "tags": []
   },
   "outputs": [],
   "source": [
    "GCS_FILE_PATH = \"gs://calitp-analytics-data/data-analyses/dla/dla-iija\""
   ]
  },
  {
   "cell_type": "code",
   "execution_count": 19,
   "id": "cc714631-6158-4ac0-80ae-88b2c50b1d2f",
   "metadata": {
    "tags": []
   },
   "outputs": [],
   "source": [
    "county_codes = to_snakecase(\n",
    "    (pd.read_excel(f\"{GCS_FILE_PATH}/CountyNameToCodeLookUp.xlsx\"))\n",
    ")"
   ]
  },
  {
   "cell_type": "code",
   "execution_count": 20,
   "id": "e7e77221-afd0-42a1-843e-2464aefcba80",
   "metadata": {
    "tags": []
   },
   "outputs": [
    {
     "data": {
      "text/html": [
       "<div>\n",
       "<style scoped>\n",
       "    .dataframe tbody tr th:only-of-type {\n",
       "        vertical-align: middle;\n",
       "    }\n",
       "\n",
       "    .dataframe tbody tr th {\n",
       "        vertical-align: top;\n",
       "    }\n",
       "\n",
       "    .dataframe thead th {\n",
       "        text-align: right;\n",
       "    }\n",
       "</style>\n",
       "<table border=\"1\" class=\"dataframe\">\n",
       "  <thead>\n",
       "    <tr style=\"text-align: right;\">\n",
       "      <th></th>\n",
       "      <th>county_name</th>\n",
       "      <th>rca_county_code</th>\n",
       "    </tr>\n",
       "  </thead>\n",
       "  <tbody>\n",
       "    <tr>\n",
       "      <th>0</th>\n",
       "      <td>Alameda County</td>\n",
       "      <td>ALA</td>\n",
       "    </tr>\n",
       "    <tr>\n",
       "      <th>1</th>\n",
       "      <td>Alpine County</td>\n",
       "      <td>ALP</td>\n",
       "    </tr>\n",
       "  </tbody>\n",
       "</table>\n",
       "</div>"
      ],
      "text/plain": [
       "      county_name rca_county_code\n",
       "0  Alameda County             ALA\n",
       "1   Alpine County             ALP"
      ]
     },
     "execution_count": 20,
     "metadata": {},
     "output_type": "execute_result"
    }
   ],
   "source": [
    "county_codes.head(2)"
   ]
  },
  {
   "cell_type": "code",
   "execution_count": 21,
   "id": "b77490ab-7eff-40e1-b2b4-f7c7739e1bb6",
   "metadata": {
    "tags": []
   },
   "outputs": [],
   "source": [
    "county_mapping = pd.merge(county_codes, counties, left_on =\"county_name\", right_on = \"name\",how = \"inner\")\n",
    "county_mapping = county_mapping.drop(columns = [\"name\"])\n",
    "county_mapping = county_mapping.rename(columns = {\"county_name\":\"COUNTY\", \"rca_county_code\":\"COUNTY_ABBREV\"})"
   ]
  },
  {
   "cell_type": "code",
   "execution_count": 22,
   "id": "b998fe18-68d5-42b9-b6f0-cd1057b9d528",
   "metadata": {
    "tags": []
   },
   "outputs": [
    {
     "data": {
      "text/html": [
       "<div>\n",
       "<style scoped>\n",
       "    .dataframe tbody tr th:only-of-type {\n",
       "        vertical-align: middle;\n",
       "    }\n",
       "\n",
       "    .dataframe tbody tr th {\n",
       "        vertical-align: top;\n",
       "    }\n",
       "\n",
       "    .dataframe thead th {\n",
       "        text-align: right;\n",
       "    }\n",
       "</style>\n",
       "<table border=\"1\" class=\"dataframe\">\n",
       "  <thead>\n",
       "    <tr style=\"text-align: right;\">\n",
       "      <th></th>\n",
       "      <th>COUNTY</th>\n",
       "      <th>COUNTY_ABBREV</th>\n",
       "      <th>cnty_fips</th>\n",
       "    </tr>\n",
       "  </thead>\n",
       "  <tbody>\n",
       "    <tr>\n",
       "      <th>21</th>\n",
       "      <td>Mariposa County</td>\n",
       "      <td>MPA</td>\n",
       "      <td>43</td>\n",
       "    </tr>\n",
       "  </tbody>\n",
       "</table>\n",
       "</div>"
      ],
      "text/plain": [
       "             COUNTY COUNTY_ABBREV  cnty_fips\n",
       "21  Mariposa County           MPA         43"
      ]
     },
     "execution_count": 22,
     "metadata": {},
     "output_type": "execute_result"
    }
   ],
   "source": [
    "county_mapping.sample()"
   ]
  },
  {
   "cell_type": "code",
   "execution_count": 23,
   "id": "3655aac8-c458-4c02-8d36-3204cc8aa7a9",
   "metadata": {
    "tags": []
   },
   "outputs": [],
   "source": [
    "check_data = check_data.rename(columns = {\"summary_recipient\": \"summary_recipient_defined_text_field_1_value\"})"
   ]
  },
  {
   "cell_type": "code",
   "execution_count": 24,
   "id": "e85e284d-24ce-4aea-af58-37da1057d128",
   "metadata": {
    "tags": []
   },
   "outputs": [],
   "source": [
    "check_data2 = _data_utils.add_new_codes(check_data)"
   ]
  },
  {
   "cell_type": "code",
   "execution_count": 25,
   "id": "a6c5f30a-05ac-4265-9108-6b83cdc1f295",
   "metadata": {
    "tags": []
   },
   "outputs": [
    {
     "data": {
      "text/plain": [
       "Index(['fmis_transaction_date', 'program_code', 'program_code_description',\n",
       "       'project_number', 'recipient_project_number', 'project_title',\n",
       "       'county_code', 'congressional_district', 'project_status_description',\n",
       "       'project_description', 'improvement_type',\n",
       "       'improvement_type_description', 'total_cost_amount',\n",
       "       'obligations_amount', 'summary_recipient_defined_text_field_1_value',\n",
       "       'iija_program_code', 'funding_type_code'],\n",
       "      dtype='object')"
      ]
     },
     "execution_count": 25,
     "metadata": {},
     "output_type": "execute_result"
    }
   ],
   "source": [
    "check_data2.columns"
   ]
  },
  {
   "cell_type": "code",
   "execution_count": 26,
   "id": "19943792-e5e8-40b3-a993-7d0fea6683c3",
   "metadata": {
    "tags": []
   },
   "outputs": [],
   "source": [
    "check_data3 = _script_utils.identify_agency(check_data2, \"summary_recipient_defined_text_field_1_value\")"
   ]
  },
  {
   "cell_type": "code",
   "execution_count": 27,
   "id": "564f0aa5-1dc4-4042-862d-f95e3e1bbbbf",
   "metadata": {
    "tags": []
   },
   "outputs": [
    {
     "data": {
      "text/plain": [
       "Index(['fmis_transaction_date', 'program_code', 'program_code_description',\n",
       "       'project_number', 'recipient_project_number', 'project_title',\n",
       "       'county_code', 'congressional_district', 'project_status_description',\n",
       "       'project_description', 'improvement_type',\n",
       "       'improvement_type_description', 'total_cost_amount',\n",
       "       'obligations_amount', 'summary_recipient_defined_text_field_1_value',\n",
       "       'iija_program_code', 'funding_type_code', 'implementing_agency_locode',\n",
       "       'implementing_agency', 'district', 'county_name', 'rtpa_name',\n",
       "       'mpo_name'],\n",
       "      dtype='object')"
      ]
     },
     "execution_count": 27,
     "metadata": {},
     "output_type": "execute_result"
    }
   ],
   "source": [
    "check_data3.columns"
   ]
  },
  {
   "cell_type": "code",
   "execution_count": 28,
   "id": "0a0bac5a-127a-4d8a-8e50-7535ca20f626",
   "metadata": {
    "tags": []
   },
   "outputs": [],
   "source": [
    "check_data3 = _script_utils.format_congressional_district(check_data3, \"congressional_district\")"
   ]
  },
  {
   "cell_type": "code",
   "execution_count": 29,
   "id": "2333916d-20ad-4565-a0e7-b51617a35af9",
   "metadata": {
    "tags": []
   },
   "outputs": [
    {
     "data": {
      "text/plain": [
       "Index(['fmis_transaction_date', 'program_code', 'program_code_description',\n",
       "       'project_number', 'recipient_project_number', 'project_title',\n",
       "       'county_code', 'congressional_district', 'project_status_description',\n",
       "       'project_description', 'improvement_type',\n",
       "       'improvement_type_description', 'total_cost_amount',\n",
       "       'obligations_amount', 'summary_recipient_defined_text_field_1_value',\n",
       "       'iija_program_code', 'funding_type_code', 'implementing_agency_locode',\n",
       "       'implementing_agency', 'district', 'county_name', 'rtpa_name',\n",
       "       'mpo_name'],\n",
       "      dtype='object')"
      ]
     },
     "execution_count": 29,
     "metadata": {},
     "output_type": "execute_result"
    }
   ],
   "source": [
    "check_data3.columns"
   ]
  },
  {
   "cell_type": "code",
   "execution_count": 30,
   "id": "81a78ee6-5289-451b-86ac-45e9198ae0bf",
   "metadata": {
    "tags": []
   },
   "outputs": [],
   "source": [
    "check_data3 = _script_utils.change_district_format(check_data3, \"district\")"
   ]
  },
  {
   "cell_type": "code",
   "execution_count": 31,
   "id": "7ad3bce2-3ba1-412c-a776-162ed20da86d",
   "metadata": {
    "tags": []
   },
   "outputs": [
    {
     "data": {
      "text/plain": [
       "Index(['fmis_transaction_date', 'program_code', 'program_code_description',\n",
       "       'project_number', 'recipient_project_number', 'project_title',\n",
       "       'county_code', 'congressional_district', 'project_status_description',\n",
       "       'project_description', 'improvement_type',\n",
       "       'improvement_type_description', 'total_cost_amount',\n",
       "       'obligations_amount', 'summary_recipient_defined_text_field_1_value'],\n",
       "      dtype='object')"
      ]
     },
     "execution_count": 31,
     "metadata": {},
     "output_type": "execute_result"
    }
   ],
   "source": [
    "check_data.columns"
   ]
  },
  {
   "cell_type": "code",
   "execution_count": 32,
   "id": "355b3f19-682d-4469-90c4-7e56a78f7ef9",
   "metadata": {
    "tags": []
   },
   "outputs": [
    {
     "data": {
      "text/plain": [
       "Index(['fmis_transaction_date', 'program_code', 'program_code_description',\n",
       "       'project_number', 'recipient_project_number', 'project_title',\n",
       "       'county_code', 'congressional_district', 'project_status_description',\n",
       "       'project_description', 'improvement_type',\n",
       "       'improvement_type_description', 'total_cost_amount',\n",
       "       'obligations_amount', 'summary_recipient_defined_text_field_1_value',\n",
       "       'iija_program_code', 'funding_type_code', 'implementing_agency_locode',\n",
       "       'implementing_agency', 'district', 'county_name', 'rtpa_name',\n",
       "       'mpo_name'],\n",
       "      dtype='object')"
      ]
     },
     "execution_count": 32,
     "metadata": {},
     "output_type": "execute_result"
    }
   ],
   "source": [
    "check_data3.columns"
   ]
  },
  {
   "cell_type": "code",
   "execution_count": 33,
   "id": "2687f2a1-fa13-421a-8ce8-874f7ec91656",
   "metadata": {
    "tags": []
   },
   "outputs": [],
   "source": [
    "check_data4 = _script_utils.add_county_abbrev(check_data3, \"county_name\")"
   ]
  },
  {
   "cell_type": "code",
   "execution_count": 34,
   "id": "a58d770d-0f28-4b3e-a768-458d8e6de0de",
   "metadata": {
    "tags": []
   },
   "outputs": [
    {
     "data": {
      "text/plain": [
       "Index(['fmis_transaction_date', 'program_code', 'program_code_description',\n",
       "       'project_number', 'recipient_project_number', 'project_title',\n",
       "       'county_code', 'congressional_district', 'project_status_description',\n",
       "       'project_description', 'improvement_type',\n",
       "       'improvement_type_description', 'total_cost_amount',\n",
       "       'obligations_amount', 'summary_recipient_defined_text_field_1_value',\n",
       "       'iija_program_code', 'funding_type_code', 'implementing_agency_locode',\n",
       "       'implementing_agency', 'district', 'county_name', 'rtpa_name',\n",
       "       'mpo_name', 'county_name_abbrev'],\n",
       "      dtype='object')"
      ]
     },
     "execution_count": 34,
     "metadata": {},
     "output_type": "execute_result"
    }
   ],
   "source": [
    "check_data4.columns"
   ]
  },
  {
   "cell_type": "code",
   "execution_count": 35,
   "id": "d0f98565-95d8-4ba4-8857-b40919501704",
   "metadata": {
    "tags": []
   },
   "outputs": [
    {
     "data": {
      "text/html": [
       "<div>\n",
       "<style scoped>\n",
       "    .dataframe tbody tr th:only-of-type {\n",
       "        vertical-align: middle;\n",
       "    }\n",
       "\n",
       "    .dataframe tbody tr th {\n",
       "        vertical-align: top;\n",
       "    }\n",
       "\n",
       "    .dataframe thead th {\n",
       "        text-align: right;\n",
       "    }\n",
       "</style>\n",
       "<table border=\"1\" class=\"dataframe\">\n",
       "  <thead>\n",
       "    <tr style=\"text-align: right;\">\n",
       "      <th></th>\n",
       "      <th>county_name</th>\n",
       "      <th>county_code</th>\n",
       "      <th>county_name_abbrev</th>\n",
       "    </tr>\n",
       "  </thead>\n",
       "  <tbody>\n",
       "    <tr>\n",
       "      <th>2637</th>\n",
       "      <td>San Mateo County</td>\n",
       "      <td>81</td>\n",
       "      <td>SM</td>\n",
       "    </tr>\n",
       "    <tr>\n",
       "      <th>2907</th>\n",
       "      <td>Marin County</td>\n",
       "      <td>41</td>\n",
       "      <td>MRN</td>\n",
       "    </tr>\n",
       "    <tr>\n",
       "      <th>4566</th>\n",
       "      <td>Los Angeles County</td>\n",
       "      <td>37</td>\n",
       "      <td>LA</td>\n",
       "    </tr>\n",
       "    <tr>\n",
       "      <th>4191</th>\n",
       "      <td>Siskiyou County</td>\n",
       "      <td>93</td>\n",
       "      <td>SIS</td>\n",
       "    </tr>\n",
       "    <tr>\n",
       "      <th>1146</th>\n",
       "      <td>Calaveras County</td>\n",
       "      <td>9</td>\n",
       "      <td>CAL</td>\n",
       "    </tr>\n",
       "    <tr>\n",
       "      <th>1272</th>\n",
       "      <td>Imperial County</td>\n",
       "      <td>73</td>\n",
       "      <td>IMP</td>\n",
       "    </tr>\n",
       "    <tr>\n",
       "      <th>1103</th>\n",
       "      <td>Sacramento County</td>\n",
       "      <td>67</td>\n",
       "      <td>SAC</td>\n",
       "    </tr>\n",
       "    <tr>\n",
       "      <th>4289</th>\n",
       "      <td>Statewide</td>\n",
       "      <td>999</td>\n",
       "      <td>NaN</td>\n",
       "    </tr>\n",
       "    <tr>\n",
       "      <th>3569</th>\n",
       "      <td>San Bernardino County</td>\n",
       "      <td>71</td>\n",
       "      <td>SBD</td>\n",
       "    </tr>\n",
       "    <tr>\n",
       "      <th>1328</th>\n",
       "      <td>Fresno County</td>\n",
       "      <td>19</td>\n",
       "      <td>FRE</td>\n",
       "    </tr>\n",
       "  </tbody>\n",
       "</table>\n",
       "</div>"
      ],
      "text/plain": [
       "                county_name  county_code county_name_abbrev\n",
       "2637       San Mateo County           81                 SM\n",
       "2907           Marin County           41                MRN\n",
       "4566     Los Angeles County           37                 LA\n",
       "4191        Siskiyou County           93                SIS\n",
       "1146       Calaveras County            9                CAL\n",
       "1272        Imperial County           73                IMP\n",
       "1103      Sacramento County           67                SAC\n",
       "4289              Statewide          999                NaN\n",
       "3569  San Bernardino County           71                SBD\n",
       "1328          Fresno County           19                FRE"
      ]
     },
     "execution_count": 35,
     "metadata": {},
     "output_type": "execute_result"
    }
   ],
   "source": [
    "check_data4[['county_name','county_code', \"county_name_abbrev\"]].sample(10)"
   ]
  },
  {
   "cell_type": "markdown",
   "id": "b9406960-ac09-43c1-a17c-498a9c687fe4",
   "metadata": {},
   "source": [
    "### Run Script"
   ]
  },
  {
   "cell_type": "code",
   "execution_count": 36,
   "id": "442d0c4a-3578-4042-b042-9a279b75d459",
   "metadata": {
    "tags": []
   },
   "outputs": [
    {
     "data": {
      "text/plain": [
       "Index(['fmis_transaction_date', 'project_number', 'implementing_agency',\n",
       "       'summary_recipient_defined_text_field_1_value', 'funding_type_code',\n",
       "       'program_code', 'program_code_description', 'recipient_project_number',\n",
       "       'improvement_type', 'improvement_type_description',\n",
       "       'program_code_description_for_description', 'project_title',\n",
       "       'obligations_amount', 'total_cost_amount', 'congressional_district',\n",
       "       'district', 'county_code', 'county_name', 'county_name_abbrev',\n",
       "       'county_name_title', 'implementing_agency_locode', 'rtpa_name',\n",
       "       'mpo_name'],\n",
       "      dtype='object')"
      ]
     },
     "metadata": {},
     "output_type": "display_data"
    },
    {
     "name": "stderr",
     "output_type": "stream",
     "text": [
      "/home/jovyan/data-analyses/dla/iija/_script_utils.py:600: FutureWarning: The default value of regex will change from True to False in a future version.\n",
      "  df['implementing_agency_locode'] = df['implementing_agency_locode'].str.replace('.0', '')\n"
     ]
    },
    {
     "data": {
      "text/plain": [
       "True"
      ]
     },
     "metadata": {},
     "output_type": "display_data"
    }
   ],
   "source": [
    "df2 = _script_utils.run_script(\n",
    "    my_file, \"summary_recipient_defined_text_field_1_value\", \"agg\"\n",
    ")"
   ]
  },
  {
   "cell_type": "code",
   "execution_count": 37,
   "id": "7e6a92e0-a9ae-405a-8e72-96acc190a22d",
   "metadata": {
    "tags": []
   },
   "outputs": [
    {
     "data": {
      "text/plain": [
       "Index(['fmis_transaction_date', 'project_number', 'implementing_agency',\n",
       "       'summary_recipient_defined_text_field_1_value', 'funding_type_code',\n",
       "       'program_code', 'program_code_description', 'recipient_project_number',\n",
       "       'improvement_type', 'improvement_type_description',\n",
       "       'old_project_title_desc', 'obligations_amount', 'total_cost_amount',\n",
       "       'congressional_district', 'district', 'county_code', 'county_name',\n",
       "       'county_name_abbrev', 'implementing_agency_locode', 'rtpa_name',\n",
       "       'mpo_name', 'new_project_title', 'new_description_col'],\n",
       "      dtype='object')"
      ]
     },
     "execution_count": 37,
     "metadata": {},
     "output_type": "execute_result"
    }
   ],
   "source": [
    "df2.columns"
   ]
  },
  {
   "cell_type": "markdown",
   "id": "30325e4e-1bd0-4176-be6a-92aecd143e49",
   "metadata": {
    "tags": []
   },
   "source": [
    "### Testing the data"
   ]
  },
  {
   "cell_type": "code",
   "execution_count": 38,
   "id": "73fa7f51-7e07-414a-95a8-385a2649a67d",
   "metadata": {},
   "outputs": [],
   "source": [
    "assert len(df2) == check_data.project_number.nunique()"
   ]
  },
  {
   "cell_type": "code",
   "execution_count": 41,
   "id": "279b6d00-a71d-4f3d-b427-dad70ef8b888",
   "metadata": {
    "tags": []
   },
   "outputs": [
    {
     "data": {
      "text/plain": [
       "Index(['fmis_transaction_date', 'program_code', 'program_code_description',\n",
       "       'project_number', 'recipient_project_number', 'project_title',\n",
       "       'county_code', 'congressional_district', 'project_status_description',\n",
       "       'project_description', 'improvement_type',\n",
       "       'improvement_type_description', 'total_cost_amount',\n",
       "       'obligations_amount', 'summary_recipient_defined_text_field_1_value'],\n",
       "      dtype='object')"
      ]
     },
     "execution_count": 41,
     "metadata": {},
     "output_type": "execute_result"
    }
   ],
   "source": [
    "check_data.columns"
   ]
  },
  {
   "cell_type": "code",
   "execution_count": 42,
   "id": "1d72d856-35fe-4523-bfac-a35b617ebc92",
   "metadata": {
    "scrolled": true,
    "tags": []
   },
   "outputs": [
    {
     "data": {
      "text/html": [
       "<div>\n",
       "<style scoped>\n",
       "    .dataframe tbody tr th:only-of-type {\n",
       "        vertical-align: middle;\n",
       "    }\n",
       "\n",
       "    .dataframe tbody tr th {\n",
       "        vertical-align: top;\n",
       "    }\n",
       "\n",
       "    .dataframe thead th {\n",
       "        text-align: right;\n",
       "    }\n",
       "</style>\n",
       "<table border=\"1\" class=\"dataframe\">\n",
       "  <thead>\n",
       "    <tr style=\"text-align: right;\">\n",
       "      <th></th>\n",
       "      <th>fmis_transaction_date</th>\n",
       "      <th>project_number</th>\n",
       "      <th>implementing_agency</th>\n",
       "      <th>summary_recipient_defined_text_field_1_value</th>\n",
       "      <th>funding_type_code</th>\n",
       "      <th>program_code</th>\n",
       "      <th>program_code_description</th>\n",
       "      <th>recipient_project_number</th>\n",
       "      <th>improvement_type</th>\n",
       "      <th>improvement_type_description</th>\n",
       "      <th>old_project_title_desc</th>\n",
       "      <th>obligations_amount</th>\n",
       "      <th>total_cost_amount</th>\n",
       "      <th>congressional_district</th>\n",
       "      <th>district</th>\n",
       "      <th>county_code</th>\n",
       "      <th>county_name</th>\n",
       "      <th>county_name_abbrev</th>\n",
       "      <th>implementing_agency_locode</th>\n",
       "      <th>rtpa_name</th>\n",
       "      <th>mpo_name</th>\n",
       "      <th>new_project_title</th>\n",
       "      <th>new_description_col</th>\n",
       "    </tr>\n",
       "  </thead>\n",
       "  <tbody>\n",
       "    <tr>\n",
       "      <th>785</th>\n",
       "      <td>2024-04-15</td>\n",
       "      <td>5004049</td>\n",
       "      <td>San Diego</td>\n",
       "      <td>L5004SANDAG</td>\n",
       "      <td>IIJA-F</td>\n",
       "      <td>Y001|Y110|Y908|Y909</td>\n",
       "      <td>National Highway Performance Program (NHPP)|Bridge Formula Program|Bridge Replacement and Rehabilitation Program</td>\n",
       "      <td>11955780L</td>\n",
       "      <td>10|17</td>\n",
       "      <td>Bridge Replacement - Added Capacity|Construction Engineering</td>\n",
       "      <td>WEST MISSION BAY DRIVE OVER THE SAN DIEGO RIVER BRIDGE REPLACEMENT, BR. NO. 57C-0023</td>\n",
       "      <td>80036838</td>\n",
       "      <td>90928327</td>\n",
       "      <td>|52|</td>\n",
       "      <td>|11|</td>\n",
       "      <td>73</td>\n",
       "      <td>San Diego County</td>\n",
       "      <td>|SD|</td>\n",
       "      <td>04</td>\n",
       "      <td>San Diego Association of Governments</td>\n",
       "      <td>San Diego Association Of Governments</td>\n",
       "      <td>Replace Bridge in San Diego</td>\n",
       "      <td>Replace Bridge in San Diego, part of the National Highway Performance Program (NHPP), and the Bridge Formula Program, and the Bridge Replacement and Rehabilitation Program. (Federal Project ID: 5004049).</td>\n",
       "    </tr>\n",
       "  </tbody>\n",
       "</table>\n",
       "</div>"
      ],
      "text/plain": [
       "    fmis_transaction_date project_number implementing_agency  \\\n",
       "785            2024-04-15        5004049           San Diego   \n",
       "\n",
       "    summary_recipient_defined_text_field_1_value funding_type_code  \\\n",
       "785                                  L5004SANDAG            IIJA-F   \n",
       "\n",
       "            program_code  \\\n",
       "785  Y001|Y110|Y908|Y909   \n",
       "\n",
       "                                                                                             program_code_description  \\\n",
       "785  National Highway Performance Program (NHPP)|Bridge Formula Program|Bridge Replacement and Rehabilitation Program   \n",
       "\n",
       "    recipient_project_number improvement_type  \\\n",
       "785                11955780L            10|17   \n",
       "\n",
       "                                     improvement_type_description  \\\n",
       "785  Bridge Replacement - Added Capacity|Construction Engineering   \n",
       "\n",
       "                                                                   old_project_title_desc  \\\n",
       "785  WEST MISSION BAY DRIVE OVER THE SAN DIEGO RIVER BRIDGE REPLACEMENT, BR. NO. 57C-0023   \n",
       "\n",
       "     obligations_amount  total_cost_amount congressional_district district  \\\n",
       "785            80036838           90928327                   |52|     |11|   \n",
       "\n",
       "    county_code       county_name county_name_abbrev  \\\n",
       "785          73  San Diego County               |SD|   \n",
       "\n",
       "    implementing_agency_locode                             rtpa_name  \\\n",
       "785                         04  San Diego Association of Governments   \n",
       "\n",
       "                                 mpo_name            new_project_title  \\\n",
       "785  San Diego Association Of Governments  Replace Bridge in San Diego   \n",
       "\n",
       "                                                                                                                                                                                             new_description_col  \n",
       "785  Replace Bridge in San Diego, part of the National Highway Performance Program (NHPP), and the Bridge Formula Program, and the Bridge Replacement and Rehabilitation Program. (Federal Project ID: 5004049).  "
      ]
     },
     "execution_count": 42,
     "metadata": {},
     "output_type": "execute_result"
    }
   ],
   "source": [
    "df2 >> filter(_.project_number == \"5004049\")"
   ]
  },
  {
   "cell_type": "markdown",
   "id": "3d6cc3f2-07a3-4390-9ee1-8d30aa78909e",
   "metadata": {},
   "source": [
    "## Export Data"
   ]
  },
  {
   "cell_type": "code",
   "execution_count": null,
   "id": "6652683c-2ea1-456e-918a-bffb7da2de0a",
   "metadata": {},
   "outputs": [],
   "source": [
    "### rename the file for export to GCS\n",
    "### use date to rename"
   ]
  },
  {
   "cell_type": "code",
   "execution_count": 43,
   "id": "0c492d4d-d6d3-49f5-a65c-e1d18ea4a5d1",
   "metadata": {},
   "outputs": [],
   "source": [
    " _script_utils.export_to_gcs(df2, \"07102025_agg\")"
   ]
  },
  {
   "cell_type": "code",
   "execution_count": null,
   "id": "041d7477-713f-4c18-98a1-f45355e39fa8",
   "metadata": {},
   "outputs": [],
   "source": []
  }
 ],
 "metadata": {
  "kernelspec": {
   "display_name": "Python 3 (ipykernel)",
   "language": "python",
   "name": "python3"
  },
  "language_info": {
   "codemirror_mode": {
    "name": "ipython",
    "version": 3
   },
   "file_extension": ".py",
   "mimetype": "text/x-python",
   "name": "python",
   "nbconvert_exporter": "python",
   "pygments_lexer": "ipython3",
   "version": "3.11.10"
  },
  "widgets": {
   "application/vnd.jupyter.widget-state+json": {
    "state": {},
    "version_major": 2,
    "version_minor": 0
   }
  }
 },
 "nbformat": 4,
 "nbformat_minor": 5
}
