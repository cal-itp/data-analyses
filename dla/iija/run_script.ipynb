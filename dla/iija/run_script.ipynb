{
 "cells": [
  {
   "cell_type": "markdown",
   "id": "3c31cd6d-91cd-4b4e-8fd0-9a6ed076e95b",
   "metadata": {},
   "source": [
    "# Run Functions to Add Information to Projects"
   ]
  },
  {
   "cell_type": "markdown",
   "id": "f993b35a-25e9-4aaf-86ab-fd01c724cb92",
   "metadata": {},
   "source": [
    "To run the data through the script, all you need to do is update `my_file` path to the most recent export from FMIS and QMRS uploaded to GCS, then run the function in the section `Export Data` with your dataframe and the current date. Then your aggregated data will be ready in GCS. "
   ]
  },
  {
   "cell_type": "code",
   "execution_count": 1,
   "id": "427ef3d1-a937-483e-bcb5-68e377dd4f35",
   "metadata": {},
   "outputs": [],
   "source": [
    "import pandas as pd\n",
    "from siuba import *\n",
    "\n",
    "import _script_utils\n",
    "\n",
    "from calitp_data_analysis.sql import to_snakecase\n"
   ]
  },
  {
   "cell_type": "code",
   "execution_count": 2,
   "id": "ce77f2af-baa1-4cc7-ad1a-64ec8d12e0e9",
   "metadata": {},
   "outputs": [],
   "source": [
    "pd.set_option(\"display.max_columns\", 100)\n",
    "pd.set_option('display.max_colwidth', None)"
   ]
  },
  {
   "cell_type": "markdown",
   "id": "899b931a-6a2c-479c-8db1-85f5e5e0eb27",
   "metadata": {
    "tags": []
   },
   "source": [
    "## Read in Data and function development / Test Function"
   ]
  },
  {
   "cell_type": "markdown",
   "id": "4ccf8b66-6289-41ca-9cc1-1b9538ec5aaa",
   "metadata": {},
   "source": [
    "For the following function:\n",
    "* update the file path for `my_file` to the most recent file name of the FMIS & QMRS export\n",
    "* the second kwargs is the unique recipient identifier, in this case it should stay the same with subsequent exports\n",
    "* the third kwargs is the aggregation level you want for the data. Unless otherwise specified, it should be `agg` which is one row per project"
   ]
  },
  {
   "cell_type": "code",
   "execution_count": 3,
   "id": "50c0f7c4-0c73-47d8-b56e-2ae9111e248f",
   "metadata": {},
   "outputs": [],
   "source": [
    "GCS_FILE_PATH  = 'gs://calitp-analytics-data/data-analyses/dla/dla-iija'"
   ]
  },
  {
   "cell_type": "code",
   "execution_count": 4,
   "id": "e97910e0-80a7-4eb7-9c42-ab09e017157d",
   "metadata": {},
   "outputs": [],
   "source": [
    "my_file = \"FMIS_Projects_Universe_IIJA_Reporting_03012024_ToDLA.xlsx\""
   ]
  },
  {
   "cell_type": "code",
   "execution_count": null,
   "id": "2042b3b6-5003-45b5-ba15-9c701000f4cd",
   "metadata": {},
   "outputs": [],
   "source": []
  },
  {
   "cell_type": "markdown",
   "id": "bb7ff766-0a96-4015-9e43-1799dbcccd8a",
   "metadata": {},
   "source": [
    "### Check data"
   ]
  },
  {
   "cell_type": "code",
   "execution_count": 5,
   "id": "e104318c-bd90-42d6-9c1d-36a9e8ceb003",
   "metadata": {},
   "outputs": [],
   "source": [
    "check_data = to_snakecase(pd.read_excel(f\"{GCS_FILE_PATH}/{my_file}\"))"
   ]
  },
  {
   "cell_type": "code",
   "execution_count": 6,
   "id": "720b2731-1646-414d-bb72-345a8fdc27ce",
   "metadata": {},
   "outputs": [
    {
     "data": {
      "text/html": [
       "<div>\n",
       "<style scoped>\n",
       "    .dataframe tbody tr th:only-of-type {\n",
       "        vertical-align: middle;\n",
       "    }\n",
       "\n",
       "    .dataframe tbody tr th {\n",
       "        vertical-align: top;\n",
       "    }\n",
       "\n",
       "    .dataframe thead th {\n",
       "        text-align: right;\n",
       "    }\n",
       "</style>\n",
       "<table border=\"1\" class=\"dataframe\">\n",
       "  <thead>\n",
       "    <tr style=\"text-align: right;\">\n",
       "      <th></th>\n",
       "      <th>fmis_transaction_date</th>\n",
       "      <th>program_code</th>\n",
       "      <th>program_code_description</th>\n",
       "      <th>project_number</th>\n",
       "      <th>recipient_project_number</th>\n",
       "      <th>project_title</th>\n",
       "      <th>county_code</th>\n",
       "      <th>congressional_district</th>\n",
       "      <th>project_status_description</th>\n",
       "      <th>project_description</th>\n",
       "      <th>improvement_type</th>\n",
       "      <th>improvement_type_description</th>\n",
       "      <th>total_cost_amount</th>\n",
       "      <th>obligations_amount</th>\n",
       "      <th>summary_recipient_defined_text_field_1_value</th>\n",
       "      <th>proj_id</th>\n",
       "    </tr>\n",
       "  </thead>\n",
       "  <tbody>\n",
       "    <tr>\n",
       "      <th>0</th>\n",
       "      <td>44581</td>\n",
       "      <td>ER01</td>\n",
       "      <td>EMERGENCY REL 2022 SUPPLEMENT</td>\n",
       "      <td>31RA002</td>\n",
       "      <td>0518000118S</td>\n",
       "      <td>MONTEREY COUNTY NEAR BIG SUR 2.3 MILES NORTH OF CASTRO CANYON BRIDGE TO 0.8 MILE SOUTH OF BIG SUR RIVER BRIDGE. EMERGENCY PROJECT - PERMANENT RESTORA</td>\n",
       "      <td>53</td>\n",
       "      <td>Cong Dist 20</td>\n",
       "      <td>Active</td>\n",
       "      <td>MONTEREY COUNTY NEAR BIG SUR 2.3 MILES NORTH OF CASTRO CANYON BRIDGE TO 0.8 MILE SOUTH OF BIG SUR RIVER BRIDGE. EMERGENCY PROJECT - PERMANENT RESTORATION. COMPLETE COASTAL DEVELOPMENT PERMIT REQUIREMENTS AT PFEIFFER CANYON BRIDGE.</td>\n",
       "      <td>16</td>\n",
       "      <td>Right of Way</td>\n",
       "      <td>600000.0</td>\n",
       "      <td>531100.0</td>\n",
       "      <td>S    AMBAG</td>\n",
       "      <td>0518000118</td>\n",
       "    </tr>\n",
       "  </tbody>\n",
       "</table>\n",
       "</div>"
      ],
      "text/plain": [
       "   fmis_transaction_date program_code       program_code_description  \\\n",
       "0                  44581         ER01  EMERGENCY REL 2022 SUPPLEMENT   \n",
       "\n",
       "  project_number recipient_project_number  \\\n",
       "0        31RA002              0518000118S   \n",
       "\n",
       "                                                                                                                                           project_title  \\\n",
       "0  MONTEREY COUNTY NEAR BIG SUR 2.3 MILES NORTH OF CASTRO CANYON BRIDGE TO 0.8 MILE SOUTH OF BIG SUR RIVER BRIDGE. EMERGENCY PROJECT - PERMANENT RESTORA   \n",
       "\n",
       "   county_code congressional_district project_status_description  \\\n",
       "0           53           Cong Dist 20                     Active   \n",
       "\n",
       "                                                                                                                                                                                                                      project_description  \\\n",
       "0  MONTEREY COUNTY NEAR BIG SUR 2.3 MILES NORTH OF CASTRO CANYON BRIDGE TO 0.8 MILE SOUTH OF BIG SUR RIVER BRIDGE. EMERGENCY PROJECT - PERMANENT RESTORATION. COMPLETE COASTAL DEVELOPMENT PERMIT REQUIREMENTS AT PFEIFFER CANYON BRIDGE.   \n",
       "\n",
       "   improvement_type improvement_type_description  total_cost_amount  \\\n",
       "0                16                 Right of Way           600000.0   \n",
       "\n",
       "   obligations_amount summary_recipient_defined_text_field_1_value     proj_id  \n",
       "0            531100.0                                   S    AMBAG  0518000118  "
      ]
     },
     "execution_count": 6,
     "metadata": {},
     "output_type": "execute_result"
    }
   ],
   "source": [
    "check_data.head(1)"
   ]
  },
  {
   "cell_type": "code",
   "execution_count": 7,
   "id": "a0890faa-9ef1-47ba-b758-7ea636a3e40d",
   "metadata": {},
   "outputs": [
    {
     "data": {
      "text/plain": [
       "1968"
      ]
     },
     "execution_count": 7,
     "metadata": {},
     "output_type": "execute_result"
    }
   ],
   "source": [
    "check_data.project_number.nunique()"
   ]
  },
  {
   "cell_type": "code",
   "execution_count": null,
   "id": "96510890-b6c7-4db3-9c4a-0872b23439a5",
   "metadata": {},
   "outputs": [],
   "source": []
  },
  {
   "cell_type": "code",
   "execution_count": null,
   "id": "c750c45b-28f3-4ebc-aed2-f39fd128ccea",
   "metadata": {},
   "outputs": [],
   "source": []
  },
  {
   "cell_type": "markdown",
   "id": "b9406960-ac09-43c1-a17c-498a9c687fe4",
   "metadata": {},
   "source": [
    "### Run Script"
   ]
  },
  {
   "cell_type": "code",
   "execution_count": 8,
   "id": "0e5b2fc8-2008-4fa9-815d-3794219692a8",
   "metadata": {},
   "outputs": [
    {
     "name": "stderr",
     "output_type": "stream",
     "text": [
      "/home/jovyan/data-analyses/dla/iija/_script_utils.py:466: FutureWarning: The default value of regex will change from True to False in a future version.\n",
      "  df['implementing_agency_locode'] = df['implementing_agency_locode'].str.replace('.0', '')\n"
     ]
    }
   ],
   "source": [
    "df = _script_utils.run_script(my_file, 'summary_recipient_defined_text_field_1_value', 'agg')"
   ]
  },
  {
   "cell_type": "code",
   "execution_count": null,
   "id": "442d0c4a-3578-4042-b042-9a279b75d459",
   "metadata": {},
   "outputs": [],
   "source": []
  },
  {
   "cell_type": "markdown",
   "id": "30325e4e-1bd0-4176-be6a-92aecd143e49",
   "metadata": {
    "tags": []
   },
   "source": [
    "### Testing the data"
   ]
  },
  {
   "cell_type": "code",
   "execution_count": 9,
   "id": "ca390710-cf98-412e-aece-da32a3bc397d",
   "metadata": {},
   "outputs": [
    {
     "data": {
      "text/html": [
       "<div>\n",
       "<style scoped>\n",
       "    .dataframe tbody tr th:only-of-type {\n",
       "        vertical-align: middle;\n",
       "    }\n",
       "\n",
       "    .dataframe tbody tr th {\n",
       "        vertical-align: top;\n",
       "    }\n",
       "\n",
       "    .dataframe thead th {\n",
       "        text-align: right;\n",
       "    }\n",
       "</style>\n",
       "<table border=\"1\" class=\"dataframe\">\n",
       "  <thead>\n",
       "    <tr style=\"text-align: right;\">\n",
       "      <th></th>\n",
       "      <th>fmis_transaction_date</th>\n",
       "      <th>project_number</th>\n",
       "      <th>implementing_agency</th>\n",
       "      <th>summary_recipient_defined_text_field_1_value</th>\n",
       "      <th>program_code</th>\n",
       "      <th>program_code_description</th>\n",
       "      <th>recipient_project_number</th>\n",
       "      <th>improvement_type</th>\n",
       "      <th>improvement_type_description</th>\n",
       "      <th>old_project_title_desc</th>\n",
       "      <th>obligations_amount</th>\n",
       "      <th>congressional_district</th>\n",
       "      <th>district</th>\n",
       "      <th>county_code</th>\n",
       "      <th>county_name</th>\n",
       "      <th>county_name_abbrev</th>\n",
       "      <th>implementing_agency_locode</th>\n",
       "      <th>rtpa_name</th>\n",
       "      <th>mpo_name</th>\n",
       "      <th>new_project_title</th>\n",
       "      <th>new_description_col</th>\n",
       "    </tr>\n",
       "  </thead>\n",
       "  <tbody>\n",
       "    <tr>\n",
       "      <th>981</th>\n",
       "      <td>45098</td>\n",
       "      <td>5925051</td>\n",
       "      <td>El Dorado County</td>\n",
       "      <td>L5925SACOG</td>\n",
       "      <td>Y001</td>\n",
       "      <td>National Highway Performance Program (NHPP)</td>\n",
       "      <td>03928745L</td>\n",
       "      <td>15</td>\n",
       "      <td>Preliminary Engineering</td>\n",
       "      <td>BUCKS BAR ROAD BR. @ N. FORK COSUMNES RIVER. BR. # 25C0003 BRIDGE REPLACEMENT</td>\n",
       "      <td>385105</td>\n",
       "      <td>|04|</td>\n",
       "      <td>|03|</td>\n",
       "      <td>17</td>\n",
       "      <td>El Dorado County</td>\n",
       "      <td>|ED|</td>\n",
       "      <td>5925</td>\n",
       "      <td>El Dorado County Transportation Commission</td>\n",
       "      <td>Sacramento Area Council Of Governments</td>\n",
       "      <td>Replace Bridge in El Dorado County</td>\n",
       "      <td>Replace Bridge in El Dorado County, part of the National Highway Performance Program (NHPP). (Federal Project ID: 5925051).</td>\n",
       "    </tr>\n",
       "    <tr>\n",
       "      <th>725</th>\n",
       "      <td>45047</td>\n",
       "      <td>5481013</td>\n",
       "      <td>Goleta</td>\n",
       "      <td>L5481SBCAG</td>\n",
       "      <td>Y001</td>\n",
       "      <td>National Highway Performance Program (NHPP)</td>\n",
       "      <td>0512000237L</td>\n",
       "      <td>10|17</td>\n",
       "      <td>Bridge Replacement - Added Capacity|Construction Engineering</td>\n",
       "      <td>HOLLISTER AVENUE BRIDGE #51C0027 BRIDGE REPLACEMENT</td>\n",
       "      <td>13948388</td>\n",
       "      <td>|24|</td>\n",
       "      <td>|05|</td>\n",
       "      <td>83</td>\n",
       "      <td>Santa Barbara County</td>\n",
       "      <td>|SB|</td>\n",
       "      <td>5481</td>\n",
       "      <td>Santa Barbara County Association of Governments</td>\n",
       "      <td>Santa Barbara County Association Of Governments</td>\n",
       "      <td>Replace Bridge in Goleta</td>\n",
       "      <td>Replace Bridge in Goleta, part of the National Highway Performance Program (NHPP). (Federal Project ID: 5481013).</td>\n",
       "    </tr>\n",
       "    <tr>\n",
       "      <th>952</th>\n",
       "      <td>45096</td>\n",
       "      <td>5030067</td>\n",
       "      <td>Vallejo</td>\n",
       "      <td>L5030MTC</td>\n",
       "      <td>Y230</td>\n",
       "      <td>Surface Transportation Block Grant Program</td>\n",
       "      <td>0420000343L</td>\n",
       "      <td>6</td>\n",
       "      <td>4R - Restoration &amp; Rehabilitation</td>\n",
       "      <td>SACRAMENTO ST FROM TENNESSEE ST TO CAPITAL  ST IMPLEMENT ROAD DIET PROJECT . INSTALL NEW DESIGNATED CLASS 2 BIKE LANE  OR BIKE SHARROWS, WITH CORRESP</td>\n",
       "      <td>681000</td>\n",
       "      <td>|05|</td>\n",
       "      <td>|04|</td>\n",
       "      <td>95</td>\n",
       "      <td>Solano County</td>\n",
       "      <td>|SOL|</td>\n",
       "      <td></td>\n",
       "      <td>NON-RTPA</td>\n",
       "      <td>Metropolitan Transportation Commission</td>\n",
       "      <td>Install Bike Lanes in Vallejo</td>\n",
       "      <td>Install Bike Lanes in Vallejo, part of the Surface Transportation Block Grant Program. (Federal Project ID: 5030067).</td>\n",
       "    </tr>\n",
       "  </tbody>\n",
       "</table>\n",
       "</div>"
      ],
      "text/plain": [
       "     fmis_transaction_date project_number implementing_agency  \\\n",
       "981                  45098        5925051    El Dorado County   \n",
       "725                  45047        5481013              Goleta   \n",
       "952                  45096        5030067             Vallejo   \n",
       "\n",
       "    summary_recipient_defined_text_field_1_value program_code  \\\n",
       "981                                   L5925SACOG         Y001   \n",
       "725                                   L5481SBCAG         Y001   \n",
       "952                                     L5030MTC         Y230   \n",
       "\n",
       "                        program_code_description recipient_project_number  \\\n",
       "981  National Highway Performance Program (NHPP)                03928745L   \n",
       "725  National Highway Performance Program (NHPP)              0512000237L   \n",
       "952   Surface Transportation Block Grant Program              0420000343L   \n",
       "\n",
       "    improvement_type  \\\n",
       "981               15   \n",
       "725            10|17   \n",
       "952                6   \n",
       "\n",
       "                                     improvement_type_description  \\\n",
       "981                                       Preliminary Engineering   \n",
       "725  Bridge Replacement - Added Capacity|Construction Engineering   \n",
       "952                             4R - Restoration & Rehabilitation   \n",
       "\n",
       "                                                                                                                                    old_project_title_desc  \\\n",
       "981                                                                          BUCKS BAR ROAD BR. @ N. FORK COSUMNES RIVER. BR. # 25C0003 BRIDGE REPLACEMENT   \n",
       "725                                                                                                    HOLLISTER AVENUE BRIDGE #51C0027 BRIDGE REPLACEMENT   \n",
       "952  SACRAMENTO ST FROM TENNESSEE ST TO CAPITAL  ST IMPLEMENT ROAD DIET PROJECT . INSTALL NEW DESIGNATED CLASS 2 BIKE LANE  OR BIKE SHARROWS, WITH CORRESP   \n",
       "\n",
       "     obligations_amount congressional_district district county_code  \\\n",
       "981              385105                   |04|     |03|          17   \n",
       "725            13948388                   |24|     |05|          83   \n",
       "952              681000                   |05|     |04|          95   \n",
       "\n",
       "              county_name county_name_abbrev implementing_agency_locode  \\\n",
       "981      El Dorado County               |ED|                       5925   \n",
       "725  Santa Barbara County               |SB|                       5481   \n",
       "952         Solano County              |SOL|                              \n",
       "\n",
       "                                           rtpa_name  \\\n",
       "981       El Dorado County Transportation Commission   \n",
       "725  Santa Barbara County Association of Governments   \n",
       "952                                         NON-RTPA   \n",
       "\n",
       "                                            mpo_name  \\\n",
       "981           Sacramento Area Council Of Governments   \n",
       "725  Santa Barbara County Association Of Governments   \n",
       "952           Metropolitan Transportation Commission   \n",
       "\n",
       "                      new_project_title  \\\n",
       "981  Replace Bridge in El Dorado County   \n",
       "725            Replace Bridge in Goleta   \n",
       "952       Install Bike Lanes in Vallejo   \n",
       "\n",
       "                                                                                                             new_description_col  \n",
       "981  Replace Bridge in El Dorado County, part of the National Highway Performance Program (NHPP). (Federal Project ID: 5925051).  \n",
       "725            Replace Bridge in Goleta, part of the National Highway Performance Program (NHPP). (Federal Project ID: 5481013).  \n",
       "952        Install Bike Lanes in Vallejo, part of the Surface Transportation Block Grant Program. (Federal Project ID: 5030067).  "
      ]
     },
     "execution_count": 9,
     "metadata": {},
     "output_type": "execute_result"
    }
   ],
   "source": [
    "df.sample(3)"
   ]
  },
  {
   "cell_type": "code",
   "execution_count": 10,
   "id": "2074166e-ee58-44c5-9052-52c549cbe1e6",
   "metadata": {},
   "outputs": [],
   "source": [
    "## when grouping by funding program (pne project can have multiple rows), len is 1612 for 2023 version of data\n",
    "## asserting the length of the df is the same as number of projects\n",
    "assert len(df) == check_data.project_number.nunique()"
   ]
  },
  {
   "cell_type": "code",
   "execution_count": 11,
   "id": "bf02e0fe-bfc7-417f-a9a3-6fcafca51770",
   "metadata": {},
   "outputs": [
    {
     "data": {
      "text/html": [
       "<div>\n",
       "<style scoped>\n",
       "    .dataframe tbody tr th:only-of-type {\n",
       "        vertical-align: middle;\n",
       "    }\n",
       "\n",
       "    .dataframe tbody tr th {\n",
       "        vertical-align: top;\n",
       "    }\n",
       "\n",
       "    .dataframe thead th {\n",
       "        text-align: right;\n",
       "    }\n",
       "</style>\n",
       "<table border=\"1\" class=\"dataframe\">\n",
       "  <thead>\n",
       "    <tr style=\"text-align: right;\">\n",
       "      <th></th>\n",
       "      <th>fmis_transaction_date</th>\n",
       "      <th>project_number</th>\n",
       "      <th>implementing_agency</th>\n",
       "      <th>summary_recipient_defined_text_field_1_value</th>\n",
       "      <th>program_code</th>\n",
       "      <th>program_code_description</th>\n",
       "      <th>recipient_project_number</th>\n",
       "      <th>improvement_type</th>\n",
       "      <th>improvement_type_description</th>\n",
       "      <th>old_project_title_desc</th>\n",
       "      <th>obligations_amount</th>\n",
       "      <th>congressional_district</th>\n",
       "      <th>district</th>\n",
       "      <th>county_code</th>\n",
       "      <th>county_name</th>\n",
       "      <th>county_name_abbrev</th>\n",
       "      <th>implementing_agency_locode</th>\n",
       "      <th>rtpa_name</th>\n",
       "      <th>mpo_name</th>\n",
       "      <th>new_project_title</th>\n",
       "      <th>new_description_col</th>\n",
       "    </tr>\n",
       "  </thead>\n",
       "  <tbody>\n",
       "    <tr>\n",
       "      <th>1129</th>\n",
       "      <td>45133</td>\n",
       "      <td>5004049</td>\n",
       "      <td>San Diego</td>\n",
       "      <td>L5004SANDAG</td>\n",
       "      <td>Y001|Y110|Y908|Y909</td>\n",
       "      <td>National Highway Performance Program (NHPP)|Bridge Formula Program|Bridge Replacement and Rehabilitation Program</td>\n",
       "      <td>11955780L</td>\n",
       "      <td>10|17</td>\n",
       "      <td>Bridge Replacement - Added Capacity|Construction Engineering</td>\n",
       "      <td>WEST MISSION BAY DRIVE OVER THE SAN DIEGO RIVER BRIDGE REPLACEMENT, BR. NO. 57C-0023</td>\n",
       "      <td>69715548</td>\n",
       "      <td>|52|</td>\n",
       "      <td>|11|</td>\n",
       "      <td>73</td>\n",
       "      <td>San Diego County</td>\n",
       "      <td>|SD|</td>\n",
       "      <td>04</td>\n",
       "      <td>San Diego Association of Governments</td>\n",
       "      <td>San Diego Association Of Governments</td>\n",
       "      <td>Replace Bridge in San Diego</td>\n",
       "      <td>Replace Bridge in San Diego, part of the National Highway Performance Program (NHPP), and the Bridge Formula Program, and the Bridge Replacement and Rehabilitation Program. (Federal Project ID: 5004049).</td>\n",
       "    </tr>\n",
       "  </tbody>\n",
       "</table>\n",
       "</div>"
      ],
      "text/plain": [
       "      fmis_transaction_date project_number implementing_agency  \\\n",
       "1129                  45133        5004049           San Diego   \n",
       "\n",
       "     summary_recipient_defined_text_field_1_value         program_code  \\\n",
       "1129                                  L5004SANDAG  Y001|Y110|Y908|Y909   \n",
       "\n",
       "                                                                                              program_code_description  \\\n",
       "1129  National Highway Performance Program (NHPP)|Bridge Formula Program|Bridge Replacement and Rehabilitation Program   \n",
       "\n",
       "     recipient_project_number improvement_type  \\\n",
       "1129                11955780L            10|17   \n",
       "\n",
       "                                      improvement_type_description  \\\n",
       "1129  Bridge Replacement - Added Capacity|Construction Engineering   \n",
       "\n",
       "                                                                    old_project_title_desc  \\\n",
       "1129  WEST MISSION BAY DRIVE OVER THE SAN DIEGO RIVER BRIDGE REPLACEMENT, BR. NO. 57C-0023   \n",
       "\n",
       "      obligations_amount congressional_district district county_code  \\\n",
       "1129            69715548                   |52|     |11|          73   \n",
       "\n",
       "           county_name county_name_abbrev implementing_agency_locode  \\\n",
       "1129  San Diego County               |SD|                         04   \n",
       "\n",
       "                                 rtpa_name  \\\n",
       "1129  San Diego Association of Governments   \n",
       "\n",
       "                                  mpo_name            new_project_title  \\\n",
       "1129  San Diego Association Of Governments  Replace Bridge in San Diego   \n",
       "\n",
       "                                                                                                                                                                                              new_description_col  \n",
       "1129  Replace Bridge in San Diego, part of the National Highway Performance Program (NHPP), and the Bridge Formula Program, and the Bridge Replacement and Rehabilitation Program. (Federal Project ID: 5004049).  "
      ]
     },
     "execution_count": 11,
     "metadata": {},
     "output_type": "execute_result"
    }
   ],
   "source": [
    "## check one project with multiple funding codes\n",
    "df>>filter(_.project_number=='5004049')"
   ]
  },
  {
   "cell_type": "code",
   "execution_count": null,
   "id": "9d4d834f-3b81-4d8f-9dc3-fe38cca7873a",
   "metadata": {
    "tags": []
   },
   "outputs": [],
   "source": []
  },
  {
   "cell_type": "code",
   "execution_count": null,
   "id": "0c0c71ba-2955-4dea-8460-9778ed7f4b55",
   "metadata": {},
   "outputs": [],
   "source": []
  },
  {
   "cell_type": "markdown",
   "id": "3d6cc3f2-07a3-4390-9ee1-8d30aa78909e",
   "metadata": {},
   "source": [
    "## Export Data"
   ]
  },
  {
   "cell_type": "code",
   "execution_count": 14,
   "id": "6652683c-2ea1-456e-918a-bffb7da2de0a",
   "metadata": {},
   "outputs": [],
   "source": [
    "### rename the file for export to GCS\n",
    "### use date to rename"
   ]
  },
  {
   "cell_type": "code",
   "execution_count": 16,
   "id": "388a2112-cc55-46cd-8fa1-941fadb70f13",
   "metadata": {},
   "outputs": [],
   "source": [
    "# _script_utils.export_to_gcs(df, \"04162024_agg\")"
   ]
  },
  {
   "cell_type": "code",
   "execution_count": null,
   "id": "0c492d4d-d6d3-49f5-a65c-e1d18ea4a5d1",
   "metadata": {},
   "outputs": [],
   "source": []
  },
  {
   "cell_type": "code",
   "execution_count": null,
   "id": "041d7477-713f-4c18-98a1-f45355e39fa8",
   "metadata": {},
   "outputs": [],
   "source": []
  }
 ],
 "metadata": {
  "kernelspec": {
   "display_name": "Python 3 (ipykernel)",
   "language": "python",
   "name": "python3"
  },
  "language_info": {
   "codemirror_mode": {
    "name": "ipython",
    "version": 3
   },
   "file_extension": ".py",
   "mimetype": "text/x-python",
   "name": "python",
   "nbconvert_exporter": "python",
   "pygments_lexer": "ipython3",
   "version": "3.9.13"
  },
  "widgets": {
   "application/vnd.jupyter.widget-state+json": {
    "state": {},
    "version_major": 2,
    "version_minor": 0
   }
  }
 },
 "nbformat": 4,
 "nbformat_minor": 5
}
