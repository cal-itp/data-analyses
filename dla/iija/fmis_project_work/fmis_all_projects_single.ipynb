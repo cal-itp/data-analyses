{
 "cells": [
  {
   "cell_type": "markdown",
   "id": "6e816b2e-3dfb-429e-9fda-5a9d07c934fc",
   "metadata": {},
   "source": [
    "# IIJA All Projects "
   ]
  },
  {
   "cell_type": "markdown",
   "id": "ed294695-4d24-453f-bc8e-6544366fce69",
   "metadata": {},
   "source": [
    "* start with raw data\n",
    "* condense into one project\n",
    "* run string parser to get new title after"
   ]
  },
  {
   "cell_type": "code",
   "execution_count": 1,
   "id": "5dcfccd8-5107-41a3-bcf7-db0c9503b51d",
   "metadata": {},
   "outputs": [],
   "source": [
    "# ! pip install nltk\n",
    "# ! pip install textblob"
   ]
  },
  {
   "cell_type": "code",
   "execution_count": 2,
   "id": "f0d63a7a-1a82-4ff4-a8c2-23cf952c66ea",
   "metadata": {},
   "outputs": [
    {
     "name": "stderr",
     "output_type": "stream",
     "text": [
      "/opt/conda/lib/python3.10/site-packages/geopandas/_compat.py:112: UserWarning: The Shapely GEOS version (3.10.3-CAPI-1.16.1) is incompatible with the GEOS version PyGEOS was compiled with (3.10.1-CAPI-1.16.0). Conversions between both will be slow.\n"
     ]
    }
   ],
   "source": [
    "import numpy as np\n",
    "import pandas as pd\n",
    "from siuba import *\n",
    "\n",
    "from shared_utils import geography_utils\n",
    "from dla_utils import _dla_utils\n",
    "\n",
    "from calitp import to_snakecase\n",
    "\n",
    "import utils"
   ]
  },
  {
   "cell_type": "code",
   "execution_count": 3,
   "id": "5cf38c7a-a8f4-4c50-9219-71770b2ac0d6",
   "metadata": {},
   "outputs": [],
   "source": [
    "pd.set_option(\"display.max_columns\", 100)\n",
    "pd.set_option('display.max_colwidth', None)\n"
   ]
  },
  {
   "cell_type": "markdown",
   "id": "eeac35ea-48d1-4818-85e1-c5bbd173f4ec",
   "metadata": {},
   "source": [
    "## Read Data"
   ]
  },
  {
   "cell_type": "code",
   "execution_count": 31,
   "id": "f5feb5ee-1212-4909-864d-0a8c4a137f12",
   "metadata": {},
   "outputs": [],
   "source": [
    "proj = utils.read_data_all()"
   ]
  },
  {
   "cell_type": "code",
   "execution_count": 32,
   "id": "eafcf219-2e16-48a1-872c-9306c71329f4",
   "metadata": {},
   "outputs": [
    {
     "data": {
      "text/html": [
       "<div>\n",
       "<style scoped>\n",
       "    .dataframe tbody tr th:only-of-type {\n",
       "        vertical-align: middle;\n",
       "    }\n",
       "\n",
       "    .dataframe tbody tr th {\n",
       "        vertical-align: top;\n",
       "    }\n",
       "\n",
       "    .dataframe thead th {\n",
       "        text-align: right;\n",
       "    }\n",
       "</style>\n",
       "<table border=\"1\" class=\"dataframe\">\n",
       "  <thead>\n",
       "    <tr style=\"text-align: right;\">\n",
       "      <th></th>\n",
       "      <th>fmis_transaction_date</th>\n",
       "      <th>program_code</th>\n",
       "      <th>program_code_description</th>\n",
       "      <th>project_number</th>\n",
       "      <th>recipient_project_number</th>\n",
       "      <th>project_title</th>\n",
       "      <th>county_code</th>\n",
       "      <th>congressional_district</th>\n",
       "      <th>improvement_type</th>\n",
       "      <th>improvement_type_description</th>\n",
       "      <th>obligations_amount</th>\n",
       "      <th>summary_recipient_defined_text_field_1_value</th>\n",
       "    </tr>\n",
       "  </thead>\n",
       "  <tbody>\n",
       "    <tr>\n",
       "      <th>0</th>\n",
       "      <td>2022-03-03</td>\n",
       "      <td>Y230</td>\n",
       "      <td>Surface Transportation Block Grant (STBG) Program</td>\n",
       "      <td>5002174</td>\n",
       "      <td>0314000222L</td>\n",
       "      <td>BELL AVE. FROM BOLLENBACHER AVE. TO ASTORIA ST ROAD REHABILITATION (TC)</td>\n",
       "      <td>67.00</td>\n",
       "      <td>Cong Dist 6</td>\n",
       "      <td>4.00</td>\n",
       "      <td>4R - No Added Capacity</td>\n",
       "      <td>2,841,397.00</td>\n",
       "      <td>L5002SACOG</td>\n",
       "    </tr>\n",
       "  </tbody>\n",
       "</table>\n",
       "</div>"
      ],
      "text/plain": [
       "  fmis_transaction_date program_code  \\\n",
       "0            2022-03-03         Y230   \n",
       "\n",
       "                            program_code_description project_number  \\\n",
       "0  Surface Transportation Block Grant (STBG) Program        5002174   \n",
       "\n",
       "  recipient_project_number  \\\n",
       "0              0314000222L   \n",
       "\n",
       "                                                             project_title  \\\n",
       "0  BELL AVE. FROM BOLLENBACHER AVE. TO ASTORIA ST ROAD REHABILITATION (TC)   \n",
       "\n",
       "   county_code congressional_district  improvement_type  \\\n",
       "0        67.00            Cong Dist 6              4.00   \n",
       "\n",
       "  improvement_type_description  obligations_amount  \\\n",
       "0       4R - No Added Capacity        2,841,397.00   \n",
       "\n",
       "  summary_recipient_defined_text_field_1_value  \n",
       "0                                   L5002SACOG  "
      ]
     },
     "execution_count": 32,
     "metadata": {},
     "output_type": "execute_result"
    }
   ],
   "source": [
    "proj.head(1)"
   ]
  },
  {
   "cell_type": "code",
   "execution_count": 33,
   "id": "3f01456b-3d77-4918-b4ab-720fce230671",
   "metadata": {},
   "outputs": [
    {
     "data": {
      "text/html": [
       "<div>\n",
       "<style scoped>\n",
       "    .dataframe tbody tr th:only-of-type {\n",
       "        vertical-align: middle;\n",
       "    }\n",
       "\n",
       "    .dataframe tbody tr th {\n",
       "        vertical-align: top;\n",
       "    }\n",
       "\n",
       "    .dataframe thead th {\n",
       "        text-align: right;\n",
       "    }\n",
       "</style>\n",
       "<table border=\"1\" class=\"dataframe\">\n",
       "  <thead>\n",
       "    <tr style=\"text-align: right;\">\n",
       "      <th></th>\n",
       "      <th>fmis_transaction_date</th>\n",
       "      <th>program_code</th>\n",
       "      <th>program_code_description</th>\n",
       "      <th>project_number</th>\n",
       "      <th>recipient_project_number</th>\n",
       "      <th>project_title</th>\n",
       "      <th>county_code</th>\n",
       "      <th>congressional_district</th>\n",
       "      <th>improvement_type</th>\n",
       "      <th>improvement_type_description</th>\n",
       "      <th>obligations_amount</th>\n",
       "      <th>summary_recipient_defined_text_field_1_value</th>\n",
       "    </tr>\n",
       "  </thead>\n",
       "  <tbody>\n",
       "    <tr>\n",
       "      <th>1245</th>\n",
       "      <td>2022-09-09</td>\n",
       "      <td>YS30</td>\n",
       "      <td>Highway Safety Improvement Program (HSIP)</td>\n",
       "      <td>5801081</td>\n",
       "      <td>0416000125S</td>\n",
       "      <td>ALAMEDA COUNTY NEAR LIVERMORE FROM GRANT LINE ROAD UNDERCROSSING TO 0.1 MILE EAST OF NORTH FLYNN ROAD INSTALL LIGHTING SYSTEM</td>\n",
       "      <td>1.00</td>\n",
       "      <td>Cong Dist 15</td>\n",
       "      <td>17.00</td>\n",
       "      <td>Construction Engineering</td>\n",
       "      <td>742,500.00</td>\n",
       "      <td>S    MTC</td>\n",
       "    </tr>\n",
       "    <tr>\n",
       "      <th>1246</th>\n",
       "      <td>2022-09-09</td>\n",
       "      <td>YS30</td>\n",
       "      <td>Highway Safety Improvement Program (HSIP)</td>\n",
       "      <td>5801081</td>\n",
       "      <td>0416000125S</td>\n",
       "      <td>ALAMEDA COUNTY NEAR LIVERMORE FROM GRANT LINE ROAD UNDERCROSSING TO 0.1 MILE EAST OF NORTH FLYNN ROAD INSTALL LIGHTING SYSTEM</td>\n",
       "      <td>1.00</td>\n",
       "      <td>Cong Dist 15</td>\n",
       "      <td>21.00</td>\n",
       "      <td>Safety</td>\n",
       "      <td>4,165,800.00</td>\n",
       "      <td>S    MTC</td>\n",
       "    </tr>\n",
       "    <tr>\n",
       "      <th>1247</th>\n",
       "      <td>2022-09-09</td>\n",
       "      <td>YS30</td>\n",
       "      <td>Highway Safety Improvement Program (HSIP)</td>\n",
       "      <td>5801081</td>\n",
       "      <td>0416000125S</td>\n",
       "      <td>ALAMEDA COUNTY NEAR LIVERMORE FROM GRANT LINE ROAD UNDERCROSSING TO 0.1 MILE EAST OF NORTH FLYNN ROAD INSTALL LIGHTING SYSTEM</td>\n",
       "      <td>1.00</td>\n",
       "      <td>Cong Dist 15</td>\n",
       "      <td>22.00</td>\n",
       "      <td>Rail/Hwy Crossing</td>\n",
       "      <td>18,900.00</td>\n",
       "      <td>S    MTC</td>\n",
       "    </tr>\n",
       "    <tr>\n",
       "      <th>1248</th>\n",
       "      <td>2022-09-09</td>\n",
       "      <td>YS30</td>\n",
       "      <td>Highway Safety Improvement Program (HSIP)</td>\n",
       "      <td>5801081</td>\n",
       "      <td>0416000125S</td>\n",
       "      <td>ALAMEDA COUNTY NEAR LIVERMORE FROM GRANT LINE ROAD UNDERCROSSING TO 0.1 MILE EAST OF NORTH FLYNN ROAD INSTALL LIGHTING SYSTEM</td>\n",
       "      <td>1.00</td>\n",
       "      <td>Cong Dist 15</td>\n",
       "      <td>42.00</td>\n",
       "      <td>Training</td>\n",
       "      <td>3,000.00</td>\n",
       "      <td>S    MTC</td>\n",
       "    </tr>\n",
       "    <tr>\n",
       "      <th>1249</th>\n",
       "      <td>2022-09-09</td>\n",
       "      <td>YS32</td>\n",
       "      <td>Section 164 Penalties - Use for HSIP Activities</td>\n",
       "      <td>5801081</td>\n",
       "      <td>0416000125S</td>\n",
       "      <td>ALAMEDA COUNTY NEAR LIVERMORE FROM GRANT LINE ROAD UNDERCROSSING TO 0.1 MILE EAST OF NORTH FLYNN ROAD INSTALL LIGHTING SYSTEM</td>\n",
       "      <td>1.00</td>\n",
       "      <td>Cong Dist 15</td>\n",
       "      <td>17.00</td>\n",
       "      <td>Construction Engineering</td>\n",
       "      <td>288,000.00</td>\n",
       "      <td>S    MTC</td>\n",
       "    </tr>\n",
       "  </tbody>\n",
       "</table>\n",
       "</div>"
      ],
      "text/plain": [
       "     fmis_transaction_date program_code  \\\n",
       "1245            2022-09-09         YS30   \n",
       "1246            2022-09-09         YS30   \n",
       "1247            2022-09-09         YS30   \n",
       "1248            2022-09-09         YS30   \n",
       "1249            2022-09-09         YS32   \n",
       "\n",
       "                             program_code_description project_number  \\\n",
       "1245        Highway Safety Improvement Program (HSIP)        5801081   \n",
       "1246        Highway Safety Improvement Program (HSIP)        5801081   \n",
       "1247        Highway Safety Improvement Program (HSIP)        5801081   \n",
       "1248        Highway Safety Improvement Program (HSIP)        5801081   \n",
       "1249  Section 164 Penalties - Use for HSIP Activities        5801081   \n",
       "\n",
       "     recipient_project_number  \\\n",
       "1245              0416000125S   \n",
       "1246              0416000125S   \n",
       "1247              0416000125S   \n",
       "1248              0416000125S   \n",
       "1249              0416000125S   \n",
       "\n",
       "                                                                                                                      project_title  \\\n",
       "1245  ALAMEDA COUNTY NEAR LIVERMORE FROM GRANT LINE ROAD UNDERCROSSING TO 0.1 MILE EAST OF NORTH FLYNN ROAD INSTALL LIGHTING SYSTEM   \n",
       "1246  ALAMEDA COUNTY NEAR LIVERMORE FROM GRANT LINE ROAD UNDERCROSSING TO 0.1 MILE EAST OF NORTH FLYNN ROAD INSTALL LIGHTING SYSTEM   \n",
       "1247  ALAMEDA COUNTY NEAR LIVERMORE FROM GRANT LINE ROAD UNDERCROSSING TO 0.1 MILE EAST OF NORTH FLYNN ROAD INSTALL LIGHTING SYSTEM   \n",
       "1248  ALAMEDA COUNTY NEAR LIVERMORE FROM GRANT LINE ROAD UNDERCROSSING TO 0.1 MILE EAST OF NORTH FLYNN ROAD INSTALL LIGHTING SYSTEM   \n",
       "1249  ALAMEDA COUNTY NEAR LIVERMORE FROM GRANT LINE ROAD UNDERCROSSING TO 0.1 MILE EAST OF NORTH FLYNN ROAD INSTALL LIGHTING SYSTEM   \n",
       "\n",
       "      county_code congressional_district  improvement_type  \\\n",
       "1245         1.00           Cong Dist 15             17.00   \n",
       "1246         1.00           Cong Dist 15             21.00   \n",
       "1247         1.00           Cong Dist 15             22.00   \n",
       "1248         1.00           Cong Dist 15             42.00   \n",
       "1249         1.00           Cong Dist 15             17.00   \n",
       "\n",
       "     improvement_type_description  obligations_amount  \\\n",
       "1245     Construction Engineering          742,500.00   \n",
       "1246                       Safety        4,165,800.00   \n",
       "1247            Rail/Hwy Crossing           18,900.00   \n",
       "1248                     Training            3,000.00   \n",
       "1249     Construction Engineering          288,000.00   \n",
       "\n",
       "     summary_recipient_defined_text_field_1_value  \n",
       "1245                                     S    MTC  \n",
       "1246                                     S    MTC  \n",
       "1247                                     S    MTC  \n",
       "1248                                     S    MTC  \n",
       "1249                                     S    MTC  "
      ]
     },
     "execution_count": 33,
     "metadata": {},
     "output_type": "execute_result"
    }
   ],
   "source": [
    "proj.tail()"
   ]
  },
  {
   "cell_type": "code",
   "execution_count": 34,
   "id": "d44e65a1-fbd6-4331-9346-5765fbe19716",
   "metadata": {},
   "outputs": [
    {
     "data": {
      "text/plain": [
       "1241"
      ]
     },
     "execution_count": 34,
     "metadata": {},
     "output_type": "execute_result"
    }
   ],
   "source": [
    "len(proj)"
   ]
  },
  {
   "cell_type": "markdown",
   "id": "a8f5e8bc-3937-4b6e-8cb2-ad28445fee03",
   "metadata": {},
   "source": [
    "* need 1241 projects. "
   ]
  },
  {
   "cell_type": "code",
   "execution_count": 35,
   "id": "1515ce59-be30-44ce-8314-fae851cb30ab",
   "metadata": {},
   "outputs": [],
   "source": [
    "## agency identifier column doesnt always have locode"
   ]
  },
  {
   "cell_type": "code",
   "execution_count": null,
   "id": "258b4076-4428-471f-9411-ac61e13f6dea",
   "metadata": {},
   "outputs": [],
   "source": []
  },
  {
   "cell_type": "markdown",
   "id": "7233b3ac-6ab1-454b-9d17-13e8e7c162ce",
   "metadata": {
    "jp-MarkdownHeadingCollapsed": true,
    "tags": []
   },
   "source": [
    "## Redo `identify_agency` function"
   ]
  },
  {
   "cell_type": "code",
   "execution_count": 9,
   "id": "8d6f931c-d3f5-45d2-894e-dda5496be841",
   "metadata": {
    "scrolled": true,
    "tags": []
   },
   "outputs": [],
   "source": [
    "#check why we are getting more rows\n",
    "\n",
    "#utils.add_name_from_locode(proj, 'summary_recipient_defined_text_field_1_value')\n",
    "\n",
    "#utils.identify_agency(proj, 'summary_recipient_defined_text_field_1_value')\n"
   ]
  },
  {
   "cell_type": "code",
   "execution_count": null,
   "id": "0ef962e9-e26e-47a0-80cd-1bfc1db9f32d",
   "metadata": {},
   "outputs": [],
   "source": []
  },
  {
   "cell_type": "code",
   "execution_count": 10,
   "id": "51586cb6-9ab1-4da2-80c4-006e5e64c479",
   "metadata": {},
   "outputs": [],
   "source": [
    "# locode_proj = ((proj[~proj['summary_recipient_defined_text_field_1_value'].str.contains(\" \")]))\n",
    "# locode_proj = locode_proj>>filter(_['summary_recipient_defined_text_field_1_value']!='None')\n",
    "    "
   ]
  },
  {
   "cell_type": "code",
   "execution_count": 11,
   "id": "288c7792-6260-492c-ad34-092059b87604",
   "metadata": {},
   "outputs": [],
   "source": [
    "# locode_proj = (utils.add_name_from_locode(locode_proj, 'summary_recipient_defined_text_field_1_value'))"
   ]
  },
  {
   "cell_type": "code",
   "execution_count": 12,
   "id": "22f34f84-09b7-41d9-8f40-7678675d0807",
   "metadata": {},
   "outputs": [],
   "source": [
    "# len(locode_proj)"
   ]
  },
  {
   "cell_type": "code",
   "execution_count": 13,
   "id": "c074a166-5369-4f0a-8c88-5d45c6215fb9",
   "metadata": {},
   "outputs": [],
   "source": [
    "# no_locode = ((proj[proj['summary_recipient_defined_text_field_1_value'].str.contains(\" \")]))\n",
    "# no_entry = proj>>filter(_['summary_recipient_defined_text_field_1_value']=='None')"
   ]
  },
  {
   "cell_type": "code",
   "execution_count": 14,
   "id": "bc5efdb5-f1c7-4a46-a909-4ac33aa83073",
   "metadata": {},
   "outputs": [],
   "source": [
    "# print(len(no_locode))\n",
    "# print(len(no_entry))"
   ]
  },
  {
   "cell_type": "code",
   "execution_count": 15,
   "id": "071ec99d-71d2-496a-9470-c7fff96b6ed7",
   "metadata": {},
   "outputs": [],
   "source": [
    "# no_locode = pd.concat([no_locode, no_entry])"
   ]
  },
  {
   "cell_type": "code",
   "execution_count": 16,
   "id": "59af5da1-6103-45f8-95d1-10ab58feb4ed",
   "metadata": {},
   "outputs": [],
   "source": [
    "# len(no_locode)"
   ]
  },
  {
   "cell_type": "code",
   "execution_count": 17,
   "id": "544633b3-95da-4ede-955d-25dfb923fe17",
   "metadata": {},
   "outputs": [],
   "source": [
    "#     #add county codes:\n",
    "# county_base = to_snakecase(pd.read_excel(f\"gs://calitp-analytics-data/data-analyses/dla/dla-iija/Copy of County.xlsx\", sheet_name='County', header=[1]))\n",
    "# county_base.drop(columns =['unnamed:_0', 'unnamed:_4'], axis=1, inplace=True)\n",
    "# county_base['county_description'] = county_base['county_description'] + \" County\""
   ]
  },
  {
   "cell_type": "code",
   "execution_count": 18,
   "id": "369afa27-c035-42fa-96b2-7f672da81339",
   "metadata": {},
   "outputs": [],
   "source": [
    "# locodes = to_snakecase(pd.read_excel(f\"gs://calitp-analytics-data/data-analyses/dla/e-76Obligated/locodes_updated7122021.xlsx\"))\n",
    "# county_district = locodes>>group_by(_.district, _.county_name)>>count(_.county_name)>>select(_.district, _.county_name)>>filter(_.county_name!='Multi-County', _.district !=53)"
   ]
  },
  {
   "cell_type": "code",
   "execution_count": 19,
   "id": "e133afe9-7976-4aac-a13a-d2f724c8225d",
   "metadata": {},
   "outputs": [],
   "source": [
    "# county_info = (pd.merge(county_base, county_district, how='left', left_on= 'county_description', right_on = 'county_name'))\n",
    "# county_info.drop(columns =['county_name'], axis=1, inplace=True)"
   ]
  },
  {
   "cell_type": "code",
   "execution_count": 20,
   "id": "3a17d319-a943-41ee-b9b5-9c5288efe06b",
   "metadata": {},
   "outputs": [],
   "source": [
    "# county_info.head()"
   ]
  },
  {
   "cell_type": "code",
   "execution_count": 21,
   "id": "d702e1fc-f4ab-4db1-aaa4-5e39fb7abb0f",
   "metadata": {},
   "outputs": [],
   "source": [
    "# mapping1 = dict(county_info[['county_code', 'county_description']].values)\n",
    "# mapping2 = dict(county_info[['county_code', 'recipient_name']].values)\n",
    "# mapping3 = dict(county_info[['county_code', 'district']].values)\n"
   ]
  },
  {
   "cell_type": "code",
   "execution_count": 22,
   "id": "4de19c20-4961-4a38-a285-9d27e7674007",
   "metadata": {},
   "outputs": [],
   "source": [
    "# no_locode['county_description'] = no_locode.county_code.map(mapping1)\n",
    "# no_locode['recipient_name'] = no_locode.county_code.map(mapping2)\n",
    "# no_locode['district'] = no_locode.county_code.map(mapping3)"
   ]
  },
  {
   "cell_type": "code",
   "execution_count": 23,
   "id": "6529a057-5993-4e91-aedc-4ba753b6924b",
   "metadata": {},
   "outputs": [],
   "source": [
    "# len(no_locode)"
   ]
  },
  {
   "cell_type": "code",
   "execution_count": 24,
   "id": "4fec6e66-4fc0-4ef0-aa40-35da116eec2a",
   "metadata": {},
   "outputs": [],
   "source": [
    "#no_locode2 = (pd.merge(no_locode, county_info, on='county_code', how='left', indicator=True))\n",
    "# no_locode = no_locode.rename(columns = {\"recipient_name\":\"implementing_agency\", \"county_description\":\"county_name\"})"
   ]
  },
  {
   "cell_type": "code",
   "execution_count": 25,
   "id": "997016bf-10af-4514-863e-f506a86c0db8",
   "metadata": {},
   "outputs": [],
   "source": [
    "# assert lengths"
   ]
  },
  {
   "cell_type": "code",
   "execution_count": 26,
   "id": "9ab97a4a-3f8d-4dc2-861a-5e9beae774c4",
   "metadata": {},
   "outputs": [],
   "source": [
    "# len(no_locode)"
   ]
  },
  {
   "cell_type": "code",
   "execution_count": 27,
   "id": "6155b10e-ed8c-485a-add1-12817ab26243",
   "metadata": {},
   "outputs": [],
   "source": [
    "# len(locode_proj)"
   ]
  },
  {
   "cell_type": "code",
   "execution_count": 28,
   "id": "db3a285e-4f79-443e-a017-726700e4cadf",
   "metadata": {},
   "outputs": [],
   "source": [
    "# full_df = pd.concat([locode_proj, no_locode])\n",
    "    \n",
    "# full_df.loc[full_df.county_name == \"Statewide County\", 'county_name'] = \"Statewide\""
   ]
  },
  {
   "cell_type": "code",
   "execution_count": null,
   "id": "27e81774-48c2-4d09-9d53-723c40476640",
   "metadata": {},
   "outputs": [],
   "source": []
  },
  {
   "cell_type": "code",
   "execution_count": 29,
   "id": "c285b1b1-d074-45b4-8fc0-2fc556b66b85",
   "metadata": {},
   "outputs": [],
   "source": [
    "###testing with reworked utils"
   ]
  },
  {
   "cell_type": "markdown",
   "id": "8b25e340-76ff-4469-854a-e1197ff16d48",
   "metadata": {},
   "source": [
    "## Use reworked `identify_agency` function\n",
    "* now uses mapping instead of merge"
   ]
  },
  {
   "cell_type": "code",
   "execution_count": 36,
   "id": "19611c98-5c26-4ae0-9e37-baec6b3cb440",
   "metadata": {},
   "outputs": [],
   "source": [
    "full_df = utils.identify_agency(proj, 'summary_recipient_defined_text_field_1_value')"
   ]
  },
  {
   "cell_type": "code",
   "execution_count": 37,
   "id": "46da1a8d-fb34-4ec0-8c27-cfc92e80ffcd",
   "metadata": {},
   "outputs": [
    {
     "data": {
      "text/plain": [
       "1241"
      ]
     },
     "execution_count": 37,
     "metadata": {},
     "output_type": "execute_result"
    }
   ],
   "source": [
    "len(full_df)"
   ]
  },
  {
   "cell_type": "code",
   "execution_count": null,
   "id": "7d627334-78a0-403c-aea7-ff90da404d89",
   "metadata": {},
   "outputs": [],
   "source": []
  },
  {
   "cell_type": "markdown",
   "id": "caa47656-6d9c-4c1e-8eb7-aca5cb49d3a0",
   "metadata": {},
   "source": [
    "## Check `full_df`"
   ]
  },
  {
   "cell_type": "code",
   "execution_count": 38,
   "id": "a2e5e921-8445-47be-9884-45e6647defe7",
   "metadata": {},
   "outputs": [
    {
     "data": {
      "text/html": [
       "<div>\n",
       "<style scoped>\n",
       "    .dataframe tbody tr th:only-of-type {\n",
       "        vertical-align: middle;\n",
       "    }\n",
       "\n",
       "    .dataframe tbody tr th {\n",
       "        vertical-align: top;\n",
       "    }\n",
       "\n",
       "    .dataframe thead th {\n",
       "        text-align: right;\n",
       "    }\n",
       "</style>\n",
       "<table border=\"1\" class=\"dataframe\">\n",
       "  <thead>\n",
       "    <tr style=\"text-align: right;\">\n",
       "      <th></th>\n",
       "      <th>fmis_transaction_date</th>\n",
       "      <th>program_code</th>\n",
       "      <th>program_code_description</th>\n",
       "      <th>project_number</th>\n",
       "      <th>recipient_project_number</th>\n",
       "      <th>project_title</th>\n",
       "      <th>county_code</th>\n",
       "      <th>congressional_district</th>\n",
       "      <th>improvement_type</th>\n",
       "      <th>improvement_type_description</th>\n",
       "      <th>obligations_amount</th>\n",
       "      <th>summary_recipient_defined_text_field_1_value</th>\n",
       "      <th>implementing_agency_locode</th>\n",
       "      <th>implementing_agency</th>\n",
       "      <th>district</th>\n",
       "      <th>county_name</th>\n",
       "      <th>rtpa_name</th>\n",
       "      <th>mpo_name</th>\n",
       "    </tr>\n",
       "  </thead>\n",
       "  <tbody>\n",
       "    <tr>\n",
       "      <th>579</th>\n",
       "      <td>2022-06-28</td>\n",
       "      <td>Y240</td>\n",
       "      <td>Surface Transportation Block Grant (STBG) Program</td>\n",
       "      <td>X099645</td>\n",
       "      <td>1000000424S</td>\n",
       "      <td>IN AND NEAR THE CITY OF MODESTO ON SR 132 NEAR NORTH DAKOTA AVE TO NEAR 6TH ST AND ON SR 99 FROM 0.5 M SOUTH OF TUOLUMNE RIVER BRIDGE TO 0.1 M NORTH</td>\n",
       "      <td>99.00</td>\n",
       "      <td>Cong Dist 10</td>\n",
       "      <td>6.00</td>\n",
       "      <td>4R - Restoration &amp; Rehabilitation</td>\n",
       "      <td>35,915,865.35</td>\n",
       "      <td>L5059NON-MPO</td>\n",
       "      <td>5,059.00</td>\n",
       "      <td>Modesto</td>\n",
       "      <td>10.00</td>\n",
       "      <td>Stanislaus County</td>\n",
       "      <td>Stanislaus Council of Governments</td>\n",
       "      <td>Stanislaus Council Of Governments</td>\n",
       "    </tr>\n",
       "  </tbody>\n",
       "</table>\n",
       "</div>"
      ],
      "text/plain": [
       "    fmis_transaction_date program_code  \\\n",
       "579            2022-06-28         Y240   \n",
       "\n",
       "                              program_code_description project_number  \\\n",
       "579  Surface Transportation Block Grant (STBG) Program        X099645   \n",
       "\n",
       "    recipient_project_number  \\\n",
       "579              1000000424S   \n",
       "\n",
       "                                                                                                                                            project_title  \\\n",
       "579  IN AND NEAR THE CITY OF MODESTO ON SR 132 NEAR NORTH DAKOTA AVE TO NEAR 6TH ST AND ON SR 99 FROM 0.5 M SOUTH OF TUOLUMNE RIVER BRIDGE TO 0.1 M NORTH   \n",
       "\n",
       "     county_code congressional_district  improvement_type  \\\n",
       "579        99.00           Cong Dist 10              6.00   \n",
       "\n",
       "          improvement_type_description  obligations_amount  \\\n",
       "579  4R - Restoration & Rehabilitation       35,915,865.35   \n",
       "\n",
       "    summary_recipient_defined_text_field_1_value  implementing_agency_locode  \\\n",
       "579                                 L5059NON-MPO                    5,059.00   \n",
       "\n",
       "    implementing_agency  district        county_name  \\\n",
       "579             Modesto     10.00  Stanislaus County   \n",
       "\n",
       "                             rtpa_name                           mpo_name  \n",
       "579  Stanislaus Council of Governments  Stanislaus Council Of Governments  "
      ]
     },
     "execution_count": 38,
     "metadata": {},
     "output_type": "execute_result"
    }
   ],
   "source": [
    "full_df.sample()"
   ]
  },
  {
   "cell_type": "code",
   "execution_count": 39,
   "id": "32dc04c6-15d0-4bba-b2a4-8de11ce137d0",
   "metadata": {},
   "outputs": [
    {
     "data": {
      "text/plain": [
       "1241"
      ]
     },
     "execution_count": 39,
     "metadata": {},
     "output_type": "execute_result"
    }
   ],
   "source": [
    "len(full_df)"
   ]
  },
  {
   "cell_type": "code",
   "execution_count": 40,
   "id": "1bb9879e-64f1-4f83-96e9-f4d0cde08df5",
   "metadata": {},
   "outputs": [
    {
     "data": {
      "text/plain": [
       "552"
      ]
     },
     "execution_count": 40,
     "metadata": {},
     "output_type": "execute_result"
    }
   ],
   "source": [
    "full_df.project_number.nunique()"
   ]
  },
  {
   "cell_type": "code",
   "execution_count": 41,
   "id": "5d3b951d-4722-42f2-9743-d7b2befe444f",
   "metadata": {},
   "outputs": [
    {
     "data": {
      "text/plain": [
       "549"
      ]
     },
     "execution_count": 41,
     "metadata": {},
     "output_type": "execute_result"
    }
   ],
   "source": [
    "full_df.recipient_project_number.nunique()"
   ]
  },
  {
   "cell_type": "code",
   "execution_count": 42,
   "id": "260a9125-5040-428e-bb8e-b3ab6fb08ead",
   "metadata": {},
   "outputs": [
    {
     "data": {
      "text/html": [
       "<div>\n",
       "<style scoped>\n",
       "    .dataframe tbody tr th:only-of-type {\n",
       "        vertical-align: middle;\n",
       "    }\n",
       "\n",
       "    .dataframe tbody tr th {\n",
       "        vertical-align: top;\n",
       "    }\n",
       "\n",
       "    .dataframe thead th {\n",
       "        text-align: right;\n",
       "    }\n",
       "</style>\n",
       "<table border=\"1\" class=\"dataframe\">\n",
       "  <thead>\n",
       "    <tr style=\"text-align: right;\">\n",
       "      <th></th>\n",
       "      <th>recipient_project_number</th>\n",
       "      <th>n</th>\n",
       "    </tr>\n",
       "  </thead>\n",
       "  <tbody>\n",
       "    <tr>\n",
       "      <th>79</th>\n",
       "      <td>0316000003S</td>\n",
       "      <td>2</td>\n",
       "    </tr>\n",
       "    <tr>\n",
       "      <th>397</th>\n",
       "      <td>0816000049S</td>\n",
       "      <td>2</td>\n",
       "    </tr>\n",
       "    <tr>\n",
       "      <th>0</th>\n",
       "      <td>0000001453L5</td>\n",
       "      <td>1</td>\n",
       "    </tr>\n",
       "    <tr>\n",
       "      <th>1</th>\n",
       "      <td>00000PE023S</td>\n",
       "      <td>1</td>\n",
       "    </tr>\n",
       "    <tr>\n",
       "      <th>2</th>\n",
       "      <td>0021000337S</td>\n",
       "      <td>1</td>\n",
       "    </tr>\n",
       "    <tr>\n",
       "      <th>...</th>\n",
       "      <td>...</td>\n",
       "      <td>...</td>\n",
       "    </tr>\n",
       "    <tr>\n",
       "      <th>544</th>\n",
       "      <td>1222000101L</td>\n",
       "      <td>1</td>\n",
       "    </tr>\n",
       "    <tr>\n",
       "      <th>545</th>\n",
       "      <td>12931559L</td>\n",
       "      <td>1</td>\n",
       "    </tr>\n",
       "    <tr>\n",
       "      <th>546</th>\n",
       "      <td>6500010147S</td>\n",
       "      <td>1</td>\n",
       "    </tr>\n",
       "    <tr>\n",
       "      <th>547</th>\n",
       "      <td>7400010045S</td>\n",
       "      <td>1</td>\n",
       "    </tr>\n",
       "    <tr>\n",
       "      <th>548</th>\n",
       "      <td>7400010046S</td>\n",
       "      <td>1</td>\n",
       "    </tr>\n",
       "  </tbody>\n",
       "</table>\n",
       "<p>549 rows × 2 columns</p>\n",
       "</div>"
      ],
      "text/plain": [
       "    recipient_project_number  n\n",
       "79               0316000003S  2\n",
       "397              0816000049S  2\n",
       "0               0000001453L5  1\n",
       "1                00000PE023S  1\n",
       "2                0021000337S  1\n",
       "..                       ... ..\n",
       "544              1222000101L  1\n",
       "545                12931559L  1\n",
       "546              6500010147S  1\n",
       "547              7400010045S  1\n",
       "548              7400010046S  1\n",
       "\n",
       "[549 rows x 2 columns]"
      ]
     },
     "execution_count": 42,
     "metadata": {},
     "output_type": "execute_result"
    }
   ],
   "source": [
    "full_df>>group_by(_.recipient_project_number)>>summarize(n=_.project_number.nunique())>>arrange(-_.n)"
   ]
  },
  {
   "cell_type": "code",
   "execution_count": 43,
   "id": "ad9fd51a-5c91-4c31-b900-d1e8f01831a4",
   "metadata": {},
   "outputs": [
    {
     "data": {
      "text/plain": [
       "1240"
      ]
     },
     "execution_count": 43,
     "metadata": {},
     "output_type": "execute_result"
    }
   ],
   "source": [
    "(full_df>>count(_.recipient_project_number)>>arrange(-_.n)).n.sum()"
   ]
  },
  {
   "cell_type": "code",
   "execution_count": 44,
   "id": "942fac91-d8af-44a5-864e-c35052fd99cc",
   "metadata": {},
   "outputs": [
    {
     "data": {
      "text/plain": [
       "1241"
      ]
     },
     "execution_count": 44,
     "metadata": {},
     "output_type": "execute_result"
    }
   ],
   "source": [
    "(full_df>>count(_.project_number)>>arrange(-_.n)).n.sum()"
   ]
  },
  {
   "cell_type": "code",
   "execution_count": 45,
   "id": "de607804-f92f-458c-85ee-63092010d936",
   "metadata": {},
   "outputs": [
    {
     "data": {
      "text/html": [
       "<div>\n",
       "<style scoped>\n",
       "    .dataframe tbody tr th:only-of-type {\n",
       "        vertical-align: middle;\n",
       "    }\n",
       "\n",
       "    .dataframe tbody tr th {\n",
       "        vertical-align: top;\n",
       "    }\n",
       "\n",
       "    .dataframe thead th {\n",
       "        text-align: right;\n",
       "    }\n",
       "</style>\n",
       "<table border=\"1\" class=\"dataframe\">\n",
       "  <thead>\n",
       "    <tr style=\"text-align: right;\">\n",
       "      <th></th>\n",
       "      <th>fmis_transaction_date</th>\n",
       "      <th>program_code</th>\n",
       "      <th>program_code_description</th>\n",
       "      <th>project_number</th>\n",
       "      <th>recipient_project_number</th>\n",
       "      <th>project_title</th>\n",
       "      <th>county_code</th>\n",
       "      <th>congressional_district</th>\n",
       "      <th>improvement_type</th>\n",
       "      <th>improvement_type_description</th>\n",
       "      <th>obligations_amount</th>\n",
       "      <th>summary_recipient_defined_text_field_1_value</th>\n",
       "      <th>implementing_agency_locode</th>\n",
       "      <th>implementing_agency</th>\n",
       "      <th>district</th>\n",
       "      <th>county_name</th>\n",
       "      <th>rtpa_name</th>\n",
       "      <th>mpo_name</th>\n",
       "    </tr>\n",
       "  </thead>\n",
       "  <tbody>\n",
       "    <tr>\n",
       "      <th>1211</th>\n",
       "      <td>2022-09-23</td>\n",
       "      <td>YR10</td>\n",
       "      <td>State RTP Administration</td>\n",
       "      <td>2023000</td>\n",
       "      <td>NaN</td>\n",
       "      <td>2023 Rec Trails Project: State Parks Incurred Administrative Expenses</td>\n",
       "      <td>999.00</td>\n",
       "      <td>Cong Dist 0</td>\n",
       "      <td>44.00</td>\n",
       "      <td>Other</td>\n",
       "      <td>241,760.00</td>\n",
       "      <td>None</td>\n",
       "      <td>NaN</td>\n",
       "      <td>California</td>\n",
       "      <td>NaN</td>\n",
       "      <td>Statewide</td>\n",
       "      <td>NaN</td>\n",
       "      <td>NaN</td>\n",
       "    </tr>\n",
       "  </tbody>\n",
       "</table>\n",
       "</div>"
      ],
      "text/plain": [
       "     fmis_transaction_date program_code  program_code_description  \\\n",
       "1211            2022-09-23         YR10  State RTP Administration   \n",
       "\n",
       "     project_number recipient_project_number  \\\n",
       "1211        2023000                      NaN   \n",
       "\n",
       "                                                              project_title  \\\n",
       "1211  2023 Rec Trails Project: State Parks Incurred Administrative Expenses   \n",
       "\n",
       "      county_code congressional_district  improvement_type  \\\n",
       "1211       999.00            Cong Dist 0             44.00   \n",
       "\n",
       "     improvement_type_description  obligations_amount  \\\n",
       "1211                        Other          241,760.00   \n",
       "\n",
       "     summary_recipient_defined_text_field_1_value  implementing_agency_locode  \\\n",
       "1211                                         None                         NaN   \n",
       "\n",
       "     implementing_agency  district county_name rtpa_name mpo_name  \n",
       "1211          California       NaN   Statewide       NaN      NaN  "
      ]
     },
     "execution_count": 45,
     "metadata": {},
     "output_type": "execute_result"
    }
   ],
   "source": [
    "#one row does not have recipient_project_number\n",
    "full_df>>filter(_.recipient_project_number.isnull())"
   ]
  },
  {
   "cell_type": "code",
   "execution_count": 46,
   "id": "6cf9aa6f-7334-45b9-8761-21b226af9b7d",
   "metadata": {},
   "outputs": [
    {
     "data": {
      "text/html": [
       "<div>\n",
       "<style scoped>\n",
       "    .dataframe tbody tr th:only-of-type {\n",
       "        vertical-align: middle;\n",
       "    }\n",
       "\n",
       "    .dataframe tbody tr th {\n",
       "        vertical-align: top;\n",
       "    }\n",
       "\n",
       "    .dataframe thead th {\n",
       "        text-align: right;\n",
       "    }\n",
       "</style>\n",
       "<table border=\"1\" class=\"dataframe\">\n",
       "  <thead>\n",
       "    <tr style=\"text-align: right;\">\n",
       "      <th></th>\n",
       "      <th>fmis_transaction_date</th>\n",
       "      <th>program_code</th>\n",
       "      <th>program_code_description</th>\n",
       "      <th>project_number</th>\n",
       "      <th>recipient_project_number</th>\n",
       "      <th>project_title</th>\n",
       "      <th>county_code</th>\n",
       "      <th>congressional_district</th>\n",
       "      <th>improvement_type</th>\n",
       "      <th>improvement_type_description</th>\n",
       "      <th>obligations_amount</th>\n",
       "      <th>summary_recipient_defined_text_field_1_value</th>\n",
       "      <th>implementing_agency_locode</th>\n",
       "      <th>implementing_agency</th>\n",
       "      <th>district</th>\n",
       "      <th>county_name</th>\n",
       "      <th>rtpa_name</th>\n",
       "      <th>mpo_name</th>\n",
       "    </tr>\n",
       "  </thead>\n",
       "  <tbody>\n",
       "    <tr>\n",
       "      <th>666</th>\n",
       "      <td>2022-06-28</td>\n",
       "      <td>Y001</td>\n",
       "      <td>National Highway Performance Program (NHPP)</td>\n",
       "      <td>P020195</td>\n",
       "      <td>0316000003S</td>\n",
       "      <td>SR 20 IN COLUSA COUNTY FROM APPROX. NIAGRA RD TO WEST OF STEIDMAYER RD WIDEN BOTH SHOULDERS TO 8 FEET WITH AN RHMA STRUCTURAL SECTION, CONSTRUCT EMBA</td>\n",
       "      <td>11.00</td>\n",
       "      <td>Cong Dist 3</td>\n",
       "      <td>16.00</td>\n",
       "      <td>Right of Way</td>\n",
       "      <td>2,000,000.00</td>\n",
       "      <td>S    NON-MPO</td>\n",
       "      <td>NaN</td>\n",
       "      <td>California</td>\n",
       "      <td>3.00</td>\n",
       "      <td>Colusa County</td>\n",
       "      <td>NaN</td>\n",
       "      <td>NaN</td>\n",
       "    </tr>\n",
       "    <tr>\n",
       "      <th>673</th>\n",
       "      <td>2022-05-31</td>\n",
       "      <td>YS30</td>\n",
       "      <td>Highway Safety Improvement Program (HSIP)</td>\n",
       "      <td>P020197</td>\n",
       "      <td>0316000003S</td>\n",
       "      <td>COLUSA COUNTY 1.7 MILES EAST OF COLUSA FROM NIAGARA AVENUE TO 0.3 MILE WEST OFSTEIDLMAYER ROAD RDWY EXCAVATION, COLD PLANE AC PVMT, &amp; OVERLAY.</td>\n",
       "      <td>11.00</td>\n",
       "      <td>Cong Dist 3</td>\n",
       "      <td>17.00</td>\n",
       "      <td>Construction Engineering</td>\n",
       "      <td>1,146,600.00</td>\n",
       "      <td>S    NON-MPO</td>\n",
       "      <td>NaN</td>\n",
       "      <td>California</td>\n",
       "      <td>3.00</td>\n",
       "      <td>Colusa County</td>\n",
       "      <td>NaN</td>\n",
       "      <td>NaN</td>\n",
       "    </tr>\n",
       "    <tr>\n",
       "      <th>674</th>\n",
       "      <td>2022-05-31</td>\n",
       "      <td>YS30</td>\n",
       "      <td>Highway Safety Improvement Program (HSIP)</td>\n",
       "      <td>P020197</td>\n",
       "      <td>0316000003S</td>\n",
       "      <td>COLUSA COUNTY 1.7 MILES EAST OF COLUSA FROM NIAGARA AVENUE TO 0.3 MILE WEST OFSTEIDLMAYER ROAD RDWY EXCAVATION, COLD PLANE AC PVMT, &amp; OVERLAY.</td>\n",
       "      <td>11.00</td>\n",
       "      <td>Cong Dist 3</td>\n",
       "      <td>21.00</td>\n",
       "      <td>Safety</td>\n",
       "      <td>5,095,070.00</td>\n",
       "      <td>S    NON-MPO</td>\n",
       "      <td>NaN</td>\n",
       "      <td>California</td>\n",
       "      <td>3.00</td>\n",
       "      <td>Colusa County</td>\n",
       "      <td>NaN</td>\n",
       "      <td>NaN</td>\n",
       "    </tr>\n",
       "  </tbody>\n",
       "</table>\n",
       "</div>"
      ],
      "text/plain": [
       "    fmis_transaction_date program_code  \\\n",
       "666            2022-06-28         Y001   \n",
       "673            2022-05-31         YS30   \n",
       "674            2022-05-31         YS30   \n",
       "\n",
       "                        program_code_description project_number  \\\n",
       "666  National Highway Performance Program (NHPP)        P020195   \n",
       "673    Highway Safety Improvement Program (HSIP)        P020197   \n",
       "674    Highway Safety Improvement Program (HSIP)        P020197   \n",
       "\n",
       "    recipient_project_number  \\\n",
       "666              0316000003S   \n",
       "673              0316000003S   \n",
       "674              0316000003S   \n",
       "\n",
       "                                                                                                                                             project_title  \\\n",
       "666  SR 20 IN COLUSA COUNTY FROM APPROX. NIAGRA RD TO WEST OF STEIDMAYER RD WIDEN BOTH SHOULDERS TO 8 FEET WITH AN RHMA STRUCTURAL SECTION, CONSTRUCT EMBA   \n",
       "673         COLUSA COUNTY 1.7 MILES EAST OF COLUSA FROM NIAGARA AVENUE TO 0.3 MILE WEST OFSTEIDLMAYER ROAD RDWY EXCAVATION, COLD PLANE AC PVMT, & OVERLAY.   \n",
       "674         COLUSA COUNTY 1.7 MILES EAST OF COLUSA FROM NIAGARA AVENUE TO 0.3 MILE WEST OFSTEIDLMAYER ROAD RDWY EXCAVATION, COLD PLANE AC PVMT, & OVERLAY.   \n",
       "\n",
       "     county_code congressional_district  improvement_type  \\\n",
       "666        11.00            Cong Dist 3             16.00   \n",
       "673        11.00            Cong Dist 3             17.00   \n",
       "674        11.00            Cong Dist 3             21.00   \n",
       "\n",
       "    improvement_type_description  obligations_amount  \\\n",
       "666                 Right of Way        2,000,000.00   \n",
       "673     Construction Engineering        1,146,600.00   \n",
       "674                       Safety        5,095,070.00   \n",
       "\n",
       "    summary_recipient_defined_text_field_1_value  implementing_agency_locode  \\\n",
       "666                                 S    NON-MPO                         NaN   \n",
       "673                                 S    NON-MPO                         NaN   \n",
       "674                                 S    NON-MPO                         NaN   \n",
       "\n",
       "    implementing_agency  district    county_name rtpa_name mpo_name  \n",
       "666          California      3.00  Colusa County       NaN      NaN  \n",
       "673          California      3.00  Colusa County       NaN      NaN  \n",
       "674          California      3.00  Colusa County       NaN      NaN  "
      ]
     },
     "execution_count": 46,
     "metadata": {},
     "output_type": "execute_result"
    }
   ],
   "source": [
    "#some project title entries have differnet spellings of the same thing\\\n",
    "#example\n",
    "full_df>>filter(_.recipient_project_number =='0316000003S')"
   ]
  },
  {
   "cell_type": "markdown",
   "id": "32bebefd-a78f-4299-a0a1-7aa8f6d136d1",
   "metadata": {},
   "source": [
    "* using `project_number` as unique id"
   ]
  },
  {
   "cell_type": "code",
   "execution_count": null,
   "id": "241b9349-bf16-466c-975d-46de34037791",
   "metadata": {},
   "outputs": [],
   "source": []
  },
  {
   "cell_type": "markdown",
   "id": "02e6a0f9-cf73-40df-b397-11ce66c59a08",
   "metadata": {
    "jp-MarkdownHeadingCollapsed": true,
    "tags": []
   },
   "source": [
    "#### Get one row for each project"
   ]
  },
  {
   "cell_type": "code",
   "execution_count": 40,
   "id": "2edeb432-f8bd-4880-ae60-2aecc3a07e49",
   "metadata": {},
   "outputs": [],
   "source": [
    "# proj_unique = df.groupby(['fmis_transaction_date','program_code','project_number','recipient_project_number','project_title',\n",
    "                    # 'implementing_agency', 'district', 'county_name'])['obligations_amount'].max().reset_index()"
   ]
  },
  {
   "cell_type": "code",
   "execution_count": 41,
   "id": "6d4438c0-24fc-44a6-89c9-ff6b50fc84a9",
   "metadata": {},
   "outputs": [],
   "source": [
    "# merge_cols = ['fmis_transaction_date', 'program_code','project_number','recipient_project_number','project_title',\n",
    "                    # 'implementing_agency', 'county_name', 'district', 'obligations_amount']"
   ]
  },
  {
   "cell_type": "code",
   "execution_count": 42,
   "id": "7b9c9c39-08c0-4726-b7cf-a3038cdf3f32",
   "metadata": {},
   "outputs": [],
   "source": [
    "# proj_unique = (pd.merge(proj_unique, df, how='left', on=merge_cols))"
   ]
  },
  {
   "cell_type": "code",
   "execution_count": 43,
   "id": "43ef2cdf-de42-4b1a-8aac-d7ca6eeffc1e",
   "metadata": {},
   "outputs": [],
   "source": [
    "# proj_unique.sample()"
   ]
  },
  {
   "cell_type": "code",
   "execution_count": 44,
   "id": "350f42e6-ce90-4ae0-be2a-9eb0ae1e21e4",
   "metadata": {},
   "outputs": [],
   "source": [
    "# proj_unique_cat = utils.add_description(proj_unique, 'project_title')"
   ]
  },
  {
   "cell_type": "code",
   "execution_count": 45,
   "id": "0d5954a9-8a91-4e5c-ae48-cb6547695657",
   "metadata": {},
   "outputs": [],
   "source": [
    "# proj_unique_cat.sample()"
   ]
  },
  {
   "cell_type": "code",
   "execution_count": 46,
   "id": "3415c7ef-f8c4-4a1c-ac55-cc14d7ae9a88",
   "metadata": {},
   "outputs": [],
   "source": [
    "# len(proj_unique_cat>>filter(_.project_type==\"Project\"))"
   ]
  },
  {
   "cell_type": "code",
   "execution_count": 47,
   "id": "298559cc-75e5-4cfc-b7bf-1eef2b0ef4d9",
   "metadata": {},
   "outputs": [],
   "source": [
    "# proj_unique_cat_title = utils.add_new_title(proj_unique_cat, \"project_method\", 'project_type', 'implementing_agency')"
   ]
  },
  {
   "cell_type": "code",
   "execution_count": 48,
   "id": "ba52de91-a4b8-425a-866b-57e3c52d34cd",
   "metadata": {},
   "outputs": [],
   "source": [
    "# proj_unique_cat_title.sample()"
   ]
  },
  {
   "cell_type": "code",
   "execution_count": null,
   "id": "9f863d38-74f4-47b6-be96-405339acd364",
   "metadata": {},
   "outputs": [],
   "source": []
  },
  {
   "cell_type": "markdown",
   "id": "9d90441e-d4b8-49a6-84d2-2c65eb5f7daf",
   "metadata": {
    "jp-MarkdownHeadingCollapsed": true,
    "tags": []
   },
   "source": [
    "## Add New Title Function"
   ]
  },
  {
   "cell_type": "code",
   "execution_count": 49,
   "id": "38f4d111-f3b7-41cc-89e5-bc6aab625f90",
   "metadata": {
    "tags": []
   },
   "outputs": [],
   "source": [
    "# #to run after first desc and title function\n",
    "\n",
    "# def add_new_title(df, first_col_method, second_col_type, third_col_name, alt_col_name):\n",
    "#     \"\"\"\n",
    "#     Function to add new title. \n",
    "#     Expected output example: \"New Bike Lane in Eureka\"\n",
    "#     \"\"\"\n",
    "#     def return_name(df):\n",
    "        \n",
    "#         if (df[third_col_name] == \"California\") & (df[alt_col_name] == \"Statewide\"):\n",
    "#             return (df[first_col_method] + \" \" + df[second_col_type] +\" \" + df[alt_col_name])\n",
    "        \n",
    "#         elif (df[third_col_name] == \"California\"):\n",
    "#             return (df[first_col_method] + \" \" + df[second_col_type] + \" in \" + df[alt_col_name])\n",
    "        \n",
    "#         elif (df[third_col_name] != \"California\"):\n",
    "#             return (df[first_col_method] + \" \" + df[second_col_type] + \" in \" + df[third_col_name])\n",
    "        \n",
    "#         # elif (df[third_col_name] == \"Metropolitan Transportation Commission\"):\n",
    "#         #     return (df[first_col_method] + \" \" + df[second_col_type] + \" in The \" + df[third_col_name])\n",
    "\n",
    "#         return df\n",
    "\n",
    "#     df['project_name_new'] = df.apply(return_name, axis = 1)\n",
    "    \n",
    "#     return df"
   ]
  },
  {
   "cell_type": "code",
   "execution_count": 50,
   "id": "3e6d3a8f-94f2-4523-8a68-fe186f2a1887",
   "metadata": {},
   "outputs": [],
   "source": [
    "# proj_unique_cat_title = utils.add_new_title(proj_unique_cat_title, \"project_method\", \"project_type\", \"implementing_agency\", \"county_name\")"
   ]
  },
  {
   "cell_type": "code",
   "execution_count": 51,
   "id": "91806a7d-ff71-41ee-8929-cac81dd7af6b",
   "metadata": {
    "scrolled": true,
    "tags": []
   },
   "outputs": [],
   "source": [
    "# proj_unique_cat_title.sample(3)"
   ]
  },
  {
   "cell_type": "code",
   "execution_count": null,
   "id": "808f9496-21e2-48df-a66a-3ff5c1153c86",
   "metadata": {},
   "outputs": [],
   "source": []
  },
  {
   "cell_type": "code",
   "execution_count": 52,
   "id": "ba02913a-0e14-4897-8133-fc4f488aafe8",
   "metadata": {},
   "outputs": [],
   "source": [
    "# proj_unique_cat_title = utils.update_no_matched(proj_unique_cat_title, 'project_type', 'improvement_type_description', 'implementing_agency', 'program_code_description')"
   ]
  },
  {
   "cell_type": "code",
   "execution_count": 53,
   "id": "4794f0c1-55f2-4a21-bbd4-e6c2d5520933",
   "metadata": {
    "scrolled": true,
    "tags": []
   },
   "outputs": [],
   "source": [
    "# (proj_unique_cat_title>>filter(_.project_type==\"Project\")).sample(5)"
   ]
  },
  {
   "cell_type": "code",
   "execution_count": 54,
   "id": "490bbb83-32f3-49b4-a651-e193ae7d242b",
   "metadata": {},
   "outputs": [],
   "source": [
    "# proj_unique_cat_title['project_name_new2'] = proj_unique_cat_title['project_name_new2'].replace('', np.NaN)"
   ]
  },
  {
   "cell_type": "code",
   "execution_count": 55,
   "id": "0900101c-989a-4761-b699-45374ed2e475",
   "metadata": {},
   "outputs": [],
   "source": [
    "# proj_unique_cat_title.project_name_new2.fillna(proj_unique_cat_title.project_name_new, inplace=True)"
   ]
  },
  {
   "cell_type": "code",
   "execution_count": 56,
   "id": "3213676b-1afe-4545-829a-6def06cf9acf",
   "metadata": {},
   "outputs": [],
   "source": [
    "# proj_unique_cat_title.drop(columns =['project_name_new'], axis=1, inplace=True)\n",
    "# proj_unique_cat_title = proj_unique_cat_title.rename(columns={'project_name_new2':'project_title_new'})"
   ]
  },
  {
   "cell_type": "code",
   "execution_count": null,
   "id": "ff66813c-21b3-401e-bfe8-75004fe45a2c",
   "metadata": {},
   "outputs": [],
   "source": []
  },
  {
   "cell_type": "markdown",
   "id": "207efcec-a9dd-4e31-b774-b0e3716fed30",
   "metadata": {
    "tags": []
   },
   "source": [
    "## Put into full function"
   ]
  },
  {
   "cell_type": "code",
   "execution_count": 57,
   "id": "b1b6bf03-4298-469a-8089-130604e2728d",
   "metadata": {},
   "outputs": [],
   "source": [
    "## function moved over to utils"
   ]
  },
  {
   "cell_type": "code",
   "execution_count": 50,
   "id": "ab065cfc-9c39-4084-9dfe-f1f5a3b4ed65",
   "metadata": {},
   "outputs": [
    {
     "data": {
      "text/html": [
       "<div>\n",
       "<style scoped>\n",
       "    .dataframe tbody tr th:only-of-type {\n",
       "        vertical-align: middle;\n",
       "    }\n",
       "\n",
       "    .dataframe tbody tr th {\n",
       "        vertical-align: top;\n",
       "    }\n",
       "\n",
       "    .dataframe thead th {\n",
       "        text-align: right;\n",
       "    }\n",
       "</style>\n",
       "<table border=\"1\" class=\"dataframe\">\n",
       "  <thead>\n",
       "    <tr style=\"text-align: right;\">\n",
       "      <th></th>\n",
       "      <th>fmis_transaction_date</th>\n",
       "      <th>program_code</th>\n",
       "      <th>program_code_description</th>\n",
       "      <th>project_number</th>\n",
       "      <th>recipient_project_number</th>\n",
       "      <th>project_title</th>\n",
       "      <th>county_code</th>\n",
       "      <th>congressional_district</th>\n",
       "      <th>improvement_type</th>\n",
       "      <th>improvement_type_description</th>\n",
       "      <th>obligations_amount</th>\n",
       "      <th>summary_recipient_defined_text_field_1_value</th>\n",
       "      <th>implementing_agency_locode</th>\n",
       "      <th>implementing_agency</th>\n",
       "      <th>district</th>\n",
       "      <th>county_name</th>\n",
       "      <th>rtpa_name</th>\n",
       "      <th>mpo_name</th>\n",
       "      <th>project_title_new</th>\n",
       "    </tr>\n",
       "  </thead>\n",
       "  <tbody>\n",
       "    <tr>\n",
       "      <th>0</th>\n",
       "      <td>2022-03-03</td>\n",
       "      <td>Y230</td>\n",
       "      <td>Surface Transportation Block Grant (STBG) Program</td>\n",
       "      <td>5002174</td>\n",
       "      <td>0314000222L</td>\n",
       "      <td>BELL AVE. FROM BOLLENBACHER AVE. TO ASTORIA ST ROAD REHABILITATION (TC)</td>\n",
       "      <td>67.00</td>\n",
       "      <td>Cong Dist 6</td>\n",
       "      <td>4.00</td>\n",
       "      <td>4R - No Added Capacity</td>\n",
       "      <td>2,841,397.00</td>\n",
       "      <td>L5002SACOG</td>\n",
       "      <td>5,002.00</td>\n",
       "      <td>Sacramento</td>\n",
       "      <td>3.00</td>\n",
       "      <td>Sacramento County</td>\n",
       "      <td>Sacramento Area Council of Governments</td>\n",
       "      <td>Sacramento Area Council Of Governments</td>\n",
       "      <td>Road Rehabiliation in Sacramento</td>\n",
       "    </tr>\n",
       "    <tr>\n",
       "      <th>1</th>\n",
       "      <td>2022-03-03</td>\n",
       "      <td>Y230</td>\n",
       "      <td>Surface Transportation Block Grant (STBG) Program</td>\n",
       "      <td>5002174</td>\n",
       "      <td>0314000222L</td>\n",
       "      <td>BELL AVE. FROM BOLLENBACHER AVE. TO ASTORIA ST ROAD REHABILITATION (TC)</td>\n",
       "      <td>67.00</td>\n",
       "      <td>Cong Dist 6</td>\n",
       "      <td>17.00</td>\n",
       "      <td>Construction Engineering</td>\n",
       "      <td>255,927.00</td>\n",
       "      <td>L5002SACOG</td>\n",
       "      <td>5,002.00</td>\n",
       "      <td>Sacramento</td>\n",
       "      <td>3.00</td>\n",
       "      <td>Sacramento County</td>\n",
       "      <td>Sacramento Area Council of Governments</td>\n",
       "      <td>Sacramento Area Council Of Governments</td>\n",
       "      <td>Road Rehabiliation in Sacramento</td>\n",
       "    </tr>\n",
       "    <tr>\n",
       "      <th>2</th>\n",
       "      <td>2022-08-26</td>\n",
       "      <td>Y400</td>\n",
       "      <td>Congestion Mitigation &amp; Air Quality Improvement (CMAQ)</td>\n",
       "      <td>5002178</td>\n",
       "      <td>0315000001L</td>\n",
       "      <td>SOUTH SACRAMENTO PARKWAY TRAIL- WEST. IN THE CITY OF SACRAMENTO, ADJACENT TO NORTHBOUND INTERSTATE 5, SOUTH OF POCKET ROAD/MEADOWVIEW ROAD AND FREEPO</td>\n",
       "      <td>67.00</td>\n",
       "      <td>Cong Dist 6</td>\n",
       "      <td>17.00</td>\n",
       "      <td>Construction Engineering</td>\n",
       "      <td>50,000.00</td>\n",
       "      <td>L5002SACOG</td>\n",
       "      <td>5,002.00</td>\n",
       "      <td>Sacramento</td>\n",
       "      <td>3.00</td>\n",
       "      <td>Sacramento County</td>\n",
       "      <td>Sacramento Area Council of Governments</td>\n",
       "      <td>Sacramento Area Council Of Governments</td>\n",
       "      <td>Facilities for Pedestrians and Bicycles in Sacramento</td>\n",
       "    </tr>\n",
       "    <tr>\n",
       "      <th>3</th>\n",
       "      <td>2022-08-26</td>\n",
       "      <td>Y400</td>\n",
       "      <td>Congestion Mitigation &amp; Air Quality Improvement (CMAQ)</td>\n",
       "      <td>5002178</td>\n",
       "      <td>0315000001L</td>\n",
       "      <td>SOUTH SACRAMENTO PARKWAY TRAIL- WEST. IN THE CITY OF SACRAMENTO, ADJACENT TO NORTHBOUND INTERSTATE 5, SOUTH OF POCKET ROAD/MEADOWVIEW ROAD AND FREEPO</td>\n",
       "      <td>67.00</td>\n",
       "      <td>Cong Dist 6</td>\n",
       "      <td>28.00</td>\n",
       "      <td>Facilities for Pedestrians and Bicycles</td>\n",
       "      <td>508,614.00</td>\n",
       "      <td>L5002SACOG</td>\n",
       "      <td>5,002.00</td>\n",
       "      <td>Sacramento</td>\n",
       "      <td>3.00</td>\n",
       "      <td>Sacramento County</td>\n",
       "      <td>Sacramento Area Council of Governments</td>\n",
       "      <td>Sacramento Area Council Of Governments</td>\n",
       "      <td>Facilities for Pedestrians and Bicycles in Sacramento</td>\n",
       "    </tr>\n",
       "    <tr>\n",
       "      <th>4</th>\n",
       "      <td>2022-07-15</td>\n",
       "      <td>Y400</td>\n",
       "      <td>Congestion Mitigation &amp; Air Quality Improvement (CMAQ)</td>\n",
       "      <td>5002189</td>\n",
       "      <td>0316000158L</td>\n",
       "      <td>ALONG UNUSED RAIL CORRIDOR NEAR FREEPORT BLVD FROM SUTTERVILLE ROAD TO SOUTH OF MEADOWVIEW/POCKET ROAD (4.5 MILES) RAILS TO TRAILS PROJECT ; NEW CLAS</td>\n",
       "      <td>67.00</td>\n",
       "      <td>Cong Dist 6</td>\n",
       "      <td>28.00</td>\n",
       "      <td>Facilities for Pedestrians and Bicycles</td>\n",
       "      <td>4,359,000.00</td>\n",
       "      <td>L5002SACOG</td>\n",
       "      <td>5,002.00</td>\n",
       "      <td>Sacramento</td>\n",
       "      <td>3.00</td>\n",
       "      <td>Sacramento County</td>\n",
       "      <td>Sacramento Area Council of Governments</td>\n",
       "      <td>Sacramento Area Council Of Governments</td>\n",
       "      <td>Facilities for Pedestrians and Bicycles in Sacramento</td>\n",
       "    </tr>\n",
       "    <tr>\n",
       "      <th>...</th>\n",
       "      <td>...</td>\n",
       "      <td>...</td>\n",
       "      <td>...</td>\n",
       "      <td>...</td>\n",
       "      <td>...</td>\n",
       "      <td>...</td>\n",
       "      <td>...</td>\n",
       "      <td>...</td>\n",
       "      <td>...</td>\n",
       "      <td>...</td>\n",
       "      <td>...</td>\n",
       "      <td>...</td>\n",
       "      <td>...</td>\n",
       "      <td>...</td>\n",
       "      <td>...</td>\n",
       "      <td>...</td>\n",
       "      <td>...</td>\n",
       "      <td>...</td>\n",
       "      <td>...</td>\n",
       "    </tr>\n",
       "    <tr>\n",
       "      <th>1246</th>\n",
       "      <td>2022-09-09</td>\n",
       "      <td>YS30</td>\n",
       "      <td>Highway Safety Improvement Program (HSIP)</td>\n",
       "      <td>5801081</td>\n",
       "      <td>0416000125S</td>\n",
       "      <td>ALAMEDA COUNTY NEAR LIVERMORE FROM GRANT LINE ROAD UNDERCROSSING TO 0.1 MILE EAST OF NORTH FLYNN ROAD INSTALL LIGHTING SYSTEM</td>\n",
       "      <td>1.00</td>\n",
       "      <td>Cong Dist 15</td>\n",
       "      <td>21.00</td>\n",
       "      <td>Safety</td>\n",
       "      <td>4,165,800.00</td>\n",
       "      <td>S    MTC</td>\n",
       "      <td>NaN</td>\n",
       "      <td>California</td>\n",
       "      <td>4.00</td>\n",
       "      <td>Alameda County</td>\n",
       "      <td>NaN</td>\n",
       "      <td>NaN</td>\n",
       "      <td>Install Lighting in Alameda County</td>\n",
       "    </tr>\n",
       "    <tr>\n",
       "      <th>1247</th>\n",
       "      <td>2022-09-09</td>\n",
       "      <td>YS30</td>\n",
       "      <td>Highway Safety Improvement Program (HSIP)</td>\n",
       "      <td>5801081</td>\n",
       "      <td>0416000125S</td>\n",
       "      <td>ALAMEDA COUNTY NEAR LIVERMORE FROM GRANT LINE ROAD UNDERCROSSING TO 0.1 MILE EAST OF NORTH FLYNN ROAD INSTALL LIGHTING SYSTEM</td>\n",
       "      <td>1.00</td>\n",
       "      <td>Cong Dist 15</td>\n",
       "      <td>22.00</td>\n",
       "      <td>Rail/Hwy Crossing</td>\n",
       "      <td>18,900.00</td>\n",
       "      <td>S    MTC</td>\n",
       "      <td>NaN</td>\n",
       "      <td>California</td>\n",
       "      <td>4.00</td>\n",
       "      <td>Alameda County</td>\n",
       "      <td>NaN</td>\n",
       "      <td>NaN</td>\n",
       "      <td>Install Lighting in Alameda County</td>\n",
       "    </tr>\n",
       "    <tr>\n",
       "      <th>1248</th>\n",
       "      <td>2022-09-09</td>\n",
       "      <td>YS30</td>\n",
       "      <td>Highway Safety Improvement Program (HSIP)</td>\n",
       "      <td>5801081</td>\n",
       "      <td>0416000125S</td>\n",
       "      <td>ALAMEDA COUNTY NEAR LIVERMORE FROM GRANT LINE ROAD UNDERCROSSING TO 0.1 MILE EAST OF NORTH FLYNN ROAD INSTALL LIGHTING SYSTEM</td>\n",
       "      <td>1.00</td>\n",
       "      <td>Cong Dist 15</td>\n",
       "      <td>42.00</td>\n",
       "      <td>Training</td>\n",
       "      <td>3,000.00</td>\n",
       "      <td>S    MTC</td>\n",
       "      <td>NaN</td>\n",
       "      <td>California</td>\n",
       "      <td>4.00</td>\n",
       "      <td>Alameda County</td>\n",
       "      <td>NaN</td>\n",
       "      <td>NaN</td>\n",
       "      <td>Install Lighting in Alameda County</td>\n",
       "    </tr>\n",
       "    <tr>\n",
       "      <th>1249</th>\n",
       "      <td>2022-09-09</td>\n",
       "      <td>YS32</td>\n",
       "      <td>Section 164 Penalties - Use for HSIP Activities</td>\n",
       "      <td>5801081</td>\n",
       "      <td>0416000125S</td>\n",
       "      <td>ALAMEDA COUNTY NEAR LIVERMORE FROM GRANT LINE ROAD UNDERCROSSING TO 0.1 MILE EAST OF NORTH FLYNN ROAD INSTALL LIGHTING SYSTEM</td>\n",
       "      <td>1.00</td>\n",
       "      <td>Cong Dist 15</td>\n",
       "      <td>17.00</td>\n",
       "      <td>Construction Engineering</td>\n",
       "      <td>288,000.00</td>\n",
       "      <td>S    MTC</td>\n",
       "      <td>NaN</td>\n",
       "      <td>California</td>\n",
       "      <td>4.00</td>\n",
       "      <td>Alameda County</td>\n",
       "      <td>NaN</td>\n",
       "      <td>NaN</td>\n",
       "      <td>Install Lighting in Alameda County</td>\n",
       "    </tr>\n",
       "    <tr>\n",
       "      <th>1211</th>\n",
       "      <td>2022-09-23</td>\n",
       "      <td>YR10</td>\n",
       "      <td>State RTP Administration</td>\n",
       "      <td>2023000</td>\n",
       "      <td>NaN</td>\n",
       "      <td>2023 Rec Trails Project: State Parks Incurred Administrative Expenses</td>\n",
       "      <td>999.00</td>\n",
       "      <td>Cong Dist 0</td>\n",
       "      <td>44.00</td>\n",
       "      <td>Other</td>\n",
       "      <td>241,760.00</td>\n",
       "      <td>None</td>\n",
       "      <td>NaN</td>\n",
       "      <td>California</td>\n",
       "      <td>NaN</td>\n",
       "      <td>Statewide</td>\n",
       "      <td>NaN</td>\n",
       "      <td>NaN</td>\n",
       "      <td>Recreational Trails Statewide</td>\n",
       "    </tr>\n",
       "  </tbody>\n",
       "</table>\n",
       "<p>1241 rows × 19 columns</p>\n",
       "</div>"
      ],
      "text/plain": [
       "     fmis_transaction_date program_code  \\\n",
       "0               2022-03-03         Y230   \n",
       "1               2022-03-03         Y230   \n",
       "2               2022-08-26         Y400   \n",
       "3               2022-08-26         Y400   \n",
       "4               2022-07-15         Y400   \n",
       "...                    ...          ...   \n",
       "1246            2022-09-09         YS30   \n",
       "1247            2022-09-09         YS30   \n",
       "1248            2022-09-09         YS30   \n",
       "1249            2022-09-09         YS32   \n",
       "1211            2022-09-23         YR10   \n",
       "\n",
       "                                    program_code_description project_number  \\\n",
       "0          Surface Transportation Block Grant (STBG) Program        5002174   \n",
       "1          Surface Transportation Block Grant (STBG) Program        5002174   \n",
       "2     Congestion Mitigation & Air Quality Improvement (CMAQ)        5002178   \n",
       "3     Congestion Mitigation & Air Quality Improvement (CMAQ)        5002178   \n",
       "4     Congestion Mitigation & Air Quality Improvement (CMAQ)        5002189   \n",
       "...                                                      ...            ...   \n",
       "1246               Highway Safety Improvement Program (HSIP)        5801081   \n",
       "1247               Highway Safety Improvement Program (HSIP)        5801081   \n",
       "1248               Highway Safety Improvement Program (HSIP)        5801081   \n",
       "1249         Section 164 Penalties - Use for HSIP Activities        5801081   \n",
       "1211                                State RTP Administration        2023000   \n",
       "\n",
       "     recipient_project_number  \\\n",
       "0                 0314000222L   \n",
       "1                 0314000222L   \n",
       "2                 0315000001L   \n",
       "3                 0315000001L   \n",
       "4                 0316000158L   \n",
       "...                       ...   \n",
       "1246              0416000125S   \n",
       "1247              0416000125S   \n",
       "1248              0416000125S   \n",
       "1249              0416000125S   \n",
       "1211                      NaN   \n",
       "\n",
       "                                                                                                                                              project_title  \\\n",
       "0                                                                                   BELL AVE. FROM BOLLENBACHER AVE. TO ASTORIA ST ROAD REHABILITATION (TC)   \n",
       "1                                                                                   BELL AVE. FROM BOLLENBACHER AVE. TO ASTORIA ST ROAD REHABILITATION (TC)   \n",
       "2     SOUTH SACRAMENTO PARKWAY TRAIL- WEST. IN THE CITY OF SACRAMENTO, ADJACENT TO NORTHBOUND INTERSTATE 5, SOUTH OF POCKET ROAD/MEADOWVIEW ROAD AND FREEPO   \n",
       "3     SOUTH SACRAMENTO PARKWAY TRAIL- WEST. IN THE CITY OF SACRAMENTO, ADJACENT TO NORTHBOUND INTERSTATE 5, SOUTH OF POCKET ROAD/MEADOWVIEW ROAD AND FREEPO   \n",
       "4     ALONG UNUSED RAIL CORRIDOR NEAR FREEPORT BLVD FROM SUTTERVILLE ROAD TO SOUTH OF MEADOWVIEW/POCKET ROAD (4.5 MILES) RAILS TO TRAILS PROJECT ; NEW CLAS   \n",
       "...                                                                                                                                                     ...   \n",
       "1246                          ALAMEDA COUNTY NEAR LIVERMORE FROM GRANT LINE ROAD UNDERCROSSING TO 0.1 MILE EAST OF NORTH FLYNN ROAD INSTALL LIGHTING SYSTEM   \n",
       "1247                          ALAMEDA COUNTY NEAR LIVERMORE FROM GRANT LINE ROAD UNDERCROSSING TO 0.1 MILE EAST OF NORTH FLYNN ROAD INSTALL LIGHTING SYSTEM   \n",
       "1248                          ALAMEDA COUNTY NEAR LIVERMORE FROM GRANT LINE ROAD UNDERCROSSING TO 0.1 MILE EAST OF NORTH FLYNN ROAD INSTALL LIGHTING SYSTEM   \n",
       "1249                          ALAMEDA COUNTY NEAR LIVERMORE FROM GRANT LINE ROAD UNDERCROSSING TO 0.1 MILE EAST OF NORTH FLYNN ROAD INSTALL LIGHTING SYSTEM   \n",
       "1211                                                                                  2023 Rec Trails Project: State Parks Incurred Administrative Expenses   \n",
       "\n",
       "      county_code congressional_district  improvement_type  \\\n",
       "0           67.00            Cong Dist 6              4.00   \n",
       "1           67.00            Cong Dist 6             17.00   \n",
       "2           67.00            Cong Dist 6             17.00   \n",
       "3           67.00            Cong Dist 6             28.00   \n",
       "4           67.00            Cong Dist 6             28.00   \n",
       "...           ...                    ...               ...   \n",
       "1246         1.00           Cong Dist 15             21.00   \n",
       "1247         1.00           Cong Dist 15             22.00   \n",
       "1248         1.00           Cong Dist 15             42.00   \n",
       "1249         1.00           Cong Dist 15             17.00   \n",
       "1211       999.00            Cong Dist 0             44.00   \n",
       "\n",
       "                 improvement_type_description  obligations_amount  \\\n",
       "0                      4R - No Added Capacity        2,841,397.00   \n",
       "1                    Construction Engineering          255,927.00   \n",
       "2                    Construction Engineering           50,000.00   \n",
       "3     Facilities for Pedestrians and Bicycles          508,614.00   \n",
       "4     Facilities for Pedestrians and Bicycles        4,359,000.00   \n",
       "...                                       ...                 ...   \n",
       "1246                                   Safety        4,165,800.00   \n",
       "1247                        Rail/Hwy Crossing           18,900.00   \n",
       "1248                                 Training            3,000.00   \n",
       "1249                 Construction Engineering          288,000.00   \n",
       "1211                                    Other          241,760.00   \n",
       "\n",
       "     summary_recipient_defined_text_field_1_value  implementing_agency_locode  \\\n",
       "0                                      L5002SACOG                    5,002.00   \n",
       "1                                      L5002SACOG                    5,002.00   \n",
       "2                                      L5002SACOG                    5,002.00   \n",
       "3                                      L5002SACOG                    5,002.00   \n",
       "4                                      L5002SACOG                    5,002.00   \n",
       "...                                           ...                         ...   \n",
       "1246                                     S    MTC                         NaN   \n",
       "1247                                     S    MTC                         NaN   \n",
       "1248                                     S    MTC                         NaN   \n",
       "1249                                     S    MTC                         NaN   \n",
       "1211                                         None                         NaN   \n",
       "\n",
       "     implementing_agency  district        county_name  \\\n",
       "0             Sacramento      3.00  Sacramento County   \n",
       "1             Sacramento      3.00  Sacramento County   \n",
       "2             Sacramento      3.00  Sacramento County   \n",
       "3             Sacramento      3.00  Sacramento County   \n",
       "4             Sacramento      3.00  Sacramento County   \n",
       "...                  ...       ...                ...   \n",
       "1246          California      4.00     Alameda County   \n",
       "1247          California      4.00     Alameda County   \n",
       "1248          California      4.00     Alameda County   \n",
       "1249          California      4.00     Alameda County   \n",
       "1211          California       NaN          Statewide   \n",
       "\n",
       "                                   rtpa_name  \\\n",
       "0     Sacramento Area Council of Governments   \n",
       "1     Sacramento Area Council of Governments   \n",
       "2     Sacramento Area Council of Governments   \n",
       "3     Sacramento Area Council of Governments   \n",
       "4     Sacramento Area Council of Governments   \n",
       "...                                      ...   \n",
       "1246                                     NaN   \n",
       "1247                                     NaN   \n",
       "1248                                     NaN   \n",
       "1249                                     NaN   \n",
       "1211                                     NaN   \n",
       "\n",
       "                                    mpo_name  \\\n",
       "0     Sacramento Area Council Of Governments   \n",
       "1     Sacramento Area Council Of Governments   \n",
       "2     Sacramento Area Council Of Governments   \n",
       "3     Sacramento Area Council Of Governments   \n",
       "4     Sacramento Area Council Of Governments   \n",
       "...                                      ...   \n",
       "1246                                     NaN   \n",
       "1247                                     NaN   \n",
       "1248                                     NaN   \n",
       "1249                                     NaN   \n",
       "1211                                     NaN   \n",
       "\n",
       "                                           project_title_new  \n",
       "0                           Road Rehabiliation in Sacramento  \n",
       "1                           Road Rehabiliation in Sacramento  \n",
       "2      Facilities for Pedestrians and Bicycles in Sacramento  \n",
       "3      Facilities for Pedestrians and Bicycles in Sacramento  \n",
       "4      Facilities for Pedestrians and Bicycles in Sacramento  \n",
       "...                                                      ...  \n",
       "1246                      Install Lighting in Alameda County  \n",
       "1247                      Install Lighting in Alameda County  \n",
       "1248                      Install Lighting in Alameda County  \n",
       "1249                      Install Lighting in Alameda County  \n",
       "1211                           Recreational Trails Statewide  \n",
       "\n",
       "[1241 rows x 19 columns]"
      ]
     },
     "execution_count": 50,
     "metadata": {},
     "output_type": "execute_result"
    }
   ],
   "source": [
    "utils.get_new_desc_title(full_df)"
   ]
  },
  {
   "cell_type": "code",
   "execution_count": 48,
   "id": "a8bebddd-79ec-4192-9f1d-a869bcda8286",
   "metadata": {},
   "outputs": [
    {
     "data": {
      "text/html": [
       "<div>\n",
       "<style scoped>\n",
       "    .dataframe tbody tr th:only-of-type {\n",
       "        vertical-align: middle;\n",
       "    }\n",
       "\n",
       "    .dataframe tbody tr th {\n",
       "        vertical-align: top;\n",
       "    }\n",
       "\n",
       "    .dataframe thead th {\n",
       "        text-align: right;\n",
       "    }\n",
       "</style>\n",
       "<table border=\"1\" class=\"dataframe\">\n",
       "  <thead>\n",
       "    <tr style=\"text-align: right;\">\n",
       "      <th></th>\n",
       "      <th>fmis_transaction_date</th>\n",
       "      <th>program_code</th>\n",
       "      <th>program_code_description</th>\n",
       "      <th>project_number</th>\n",
       "      <th>recipient_project_number</th>\n",
       "      <th>project_title</th>\n",
       "      <th>county_code</th>\n",
       "      <th>congressional_district</th>\n",
       "      <th>improvement_type</th>\n",
       "      <th>improvement_type_description</th>\n",
       "      <th>obligations_amount</th>\n",
       "      <th>summary_recipient_defined_text_field_1_value</th>\n",
       "      <th>implementing_agency_locode</th>\n",
       "      <th>implementing_agency</th>\n",
       "      <th>district</th>\n",
       "      <th>county_name</th>\n",
       "      <th>rtpa_name</th>\n",
       "      <th>mpo_name</th>\n",
       "    </tr>\n",
       "  </thead>\n",
       "  <tbody>\n",
       "    <tr>\n",
       "      <th>1246</th>\n",
       "      <td>2022-09-09</td>\n",
       "      <td>YS30</td>\n",
       "      <td>Highway Safety Improvement Program (HSIP)</td>\n",
       "      <td>5801081</td>\n",
       "      <td>0416000125S</td>\n",
       "      <td>ALAMEDA COUNTY NEAR LIVERMORE FROM GRANT LINE ROAD UNDERCROSSING TO 0.1 MILE EAST OF NORTH FLYNN ROAD INSTALL LIGHTING SYSTEM</td>\n",
       "      <td>1.00</td>\n",
       "      <td>Cong Dist 15</td>\n",
       "      <td>21.00</td>\n",
       "      <td>Safety</td>\n",
       "      <td>4,165,800.00</td>\n",
       "      <td>S    MTC</td>\n",
       "      <td>NaN</td>\n",
       "      <td>California</td>\n",
       "      <td>4.00</td>\n",
       "      <td>Alameda County</td>\n",
       "      <td>NaN</td>\n",
       "      <td>NaN</td>\n",
       "    </tr>\n",
       "    <tr>\n",
       "      <th>1247</th>\n",
       "      <td>2022-09-09</td>\n",
       "      <td>YS30</td>\n",
       "      <td>Highway Safety Improvement Program (HSIP)</td>\n",
       "      <td>5801081</td>\n",
       "      <td>0416000125S</td>\n",
       "      <td>ALAMEDA COUNTY NEAR LIVERMORE FROM GRANT LINE ROAD UNDERCROSSING TO 0.1 MILE EAST OF NORTH FLYNN ROAD INSTALL LIGHTING SYSTEM</td>\n",
       "      <td>1.00</td>\n",
       "      <td>Cong Dist 15</td>\n",
       "      <td>22.00</td>\n",
       "      <td>Rail/Hwy Crossing</td>\n",
       "      <td>18,900.00</td>\n",
       "      <td>S    MTC</td>\n",
       "      <td>NaN</td>\n",
       "      <td>California</td>\n",
       "      <td>4.00</td>\n",
       "      <td>Alameda County</td>\n",
       "      <td>NaN</td>\n",
       "      <td>NaN</td>\n",
       "    </tr>\n",
       "    <tr>\n",
       "      <th>1248</th>\n",
       "      <td>2022-09-09</td>\n",
       "      <td>YS30</td>\n",
       "      <td>Highway Safety Improvement Program (HSIP)</td>\n",
       "      <td>5801081</td>\n",
       "      <td>0416000125S</td>\n",
       "      <td>ALAMEDA COUNTY NEAR LIVERMORE FROM GRANT LINE ROAD UNDERCROSSING TO 0.1 MILE EAST OF NORTH FLYNN ROAD INSTALL LIGHTING SYSTEM</td>\n",
       "      <td>1.00</td>\n",
       "      <td>Cong Dist 15</td>\n",
       "      <td>42.00</td>\n",
       "      <td>Training</td>\n",
       "      <td>3,000.00</td>\n",
       "      <td>S    MTC</td>\n",
       "      <td>NaN</td>\n",
       "      <td>California</td>\n",
       "      <td>4.00</td>\n",
       "      <td>Alameda County</td>\n",
       "      <td>NaN</td>\n",
       "      <td>NaN</td>\n",
       "    </tr>\n",
       "    <tr>\n",
       "      <th>1249</th>\n",
       "      <td>2022-09-09</td>\n",
       "      <td>YS32</td>\n",
       "      <td>Section 164 Penalties - Use for HSIP Activities</td>\n",
       "      <td>5801081</td>\n",
       "      <td>0416000125S</td>\n",
       "      <td>ALAMEDA COUNTY NEAR LIVERMORE FROM GRANT LINE ROAD UNDERCROSSING TO 0.1 MILE EAST OF NORTH FLYNN ROAD INSTALL LIGHTING SYSTEM</td>\n",
       "      <td>1.00</td>\n",
       "      <td>Cong Dist 15</td>\n",
       "      <td>17.00</td>\n",
       "      <td>Construction Engineering</td>\n",
       "      <td>288,000.00</td>\n",
       "      <td>S    MTC</td>\n",
       "      <td>NaN</td>\n",
       "      <td>California</td>\n",
       "      <td>4.00</td>\n",
       "      <td>Alameda County</td>\n",
       "      <td>NaN</td>\n",
       "      <td>NaN</td>\n",
       "    </tr>\n",
       "    <tr>\n",
       "      <th>1211</th>\n",
       "      <td>2022-09-23</td>\n",
       "      <td>YR10</td>\n",
       "      <td>State RTP Administration</td>\n",
       "      <td>2023000</td>\n",
       "      <td>NaN</td>\n",
       "      <td>2023 Rec Trails Project: State Parks Incurred Administrative Expenses</td>\n",
       "      <td>999.00</td>\n",
       "      <td>Cong Dist 0</td>\n",
       "      <td>44.00</td>\n",
       "      <td>Other</td>\n",
       "      <td>241,760.00</td>\n",
       "      <td>None</td>\n",
       "      <td>NaN</td>\n",
       "      <td>California</td>\n",
       "      <td>NaN</td>\n",
       "      <td>Statewide</td>\n",
       "      <td>NaN</td>\n",
       "      <td>NaN</td>\n",
       "    </tr>\n",
       "  </tbody>\n",
       "</table>\n",
       "</div>"
      ],
      "text/plain": [
       "     fmis_transaction_date program_code  \\\n",
       "1246            2022-09-09         YS30   \n",
       "1247            2022-09-09         YS30   \n",
       "1248            2022-09-09         YS30   \n",
       "1249            2022-09-09         YS32   \n",
       "1211            2022-09-23         YR10   \n",
       "\n",
       "                             program_code_description project_number  \\\n",
       "1246        Highway Safety Improvement Program (HSIP)        5801081   \n",
       "1247        Highway Safety Improvement Program (HSIP)        5801081   \n",
       "1248        Highway Safety Improvement Program (HSIP)        5801081   \n",
       "1249  Section 164 Penalties - Use for HSIP Activities        5801081   \n",
       "1211                         State RTP Administration        2023000   \n",
       "\n",
       "     recipient_project_number  \\\n",
       "1246              0416000125S   \n",
       "1247              0416000125S   \n",
       "1248              0416000125S   \n",
       "1249              0416000125S   \n",
       "1211                      NaN   \n",
       "\n",
       "                                                                                                                      project_title  \\\n",
       "1246  ALAMEDA COUNTY NEAR LIVERMORE FROM GRANT LINE ROAD UNDERCROSSING TO 0.1 MILE EAST OF NORTH FLYNN ROAD INSTALL LIGHTING SYSTEM   \n",
       "1247  ALAMEDA COUNTY NEAR LIVERMORE FROM GRANT LINE ROAD UNDERCROSSING TO 0.1 MILE EAST OF NORTH FLYNN ROAD INSTALL LIGHTING SYSTEM   \n",
       "1248  ALAMEDA COUNTY NEAR LIVERMORE FROM GRANT LINE ROAD UNDERCROSSING TO 0.1 MILE EAST OF NORTH FLYNN ROAD INSTALL LIGHTING SYSTEM   \n",
       "1249  ALAMEDA COUNTY NEAR LIVERMORE FROM GRANT LINE ROAD UNDERCROSSING TO 0.1 MILE EAST OF NORTH FLYNN ROAD INSTALL LIGHTING SYSTEM   \n",
       "1211                                                          2023 Rec Trails Project: State Parks Incurred Administrative Expenses   \n",
       "\n",
       "      county_code congressional_district  improvement_type  \\\n",
       "1246         1.00           Cong Dist 15             21.00   \n",
       "1247         1.00           Cong Dist 15             22.00   \n",
       "1248         1.00           Cong Dist 15             42.00   \n",
       "1249         1.00           Cong Dist 15             17.00   \n",
       "1211       999.00            Cong Dist 0             44.00   \n",
       "\n",
       "     improvement_type_description  obligations_amount  \\\n",
       "1246                       Safety        4,165,800.00   \n",
       "1247            Rail/Hwy Crossing           18,900.00   \n",
       "1248                     Training            3,000.00   \n",
       "1249     Construction Engineering          288,000.00   \n",
       "1211                        Other          241,760.00   \n",
       "\n",
       "     summary_recipient_defined_text_field_1_value  implementing_agency_locode  \\\n",
       "1246                                     S    MTC                         NaN   \n",
       "1247                                     S    MTC                         NaN   \n",
       "1248                                     S    MTC                         NaN   \n",
       "1249                                     S    MTC                         NaN   \n",
       "1211                                         None                         NaN   \n",
       "\n",
       "     implementing_agency  district     county_name rtpa_name mpo_name  \n",
       "1246          California      4.00  Alameda County       NaN      NaN  \n",
       "1247          California      4.00  Alameda County       NaN      NaN  \n",
       "1248          California      4.00  Alameda County       NaN      NaN  \n",
       "1249          California      4.00  Alameda County       NaN      NaN  \n",
       "1211          California       NaN       Statewide       NaN      NaN  "
      ]
     },
     "execution_count": 48,
     "metadata": {},
     "output_type": "execute_result"
    }
   ],
   "source": [
    "full_df.tail()"
   ]
  },
  {
   "cell_type": "code",
   "execution_count": null,
   "id": "4a9b553c-05b3-442f-818d-c56b0db66967",
   "metadata": {},
   "outputs": [],
   "source": []
  },
  {
   "cell_type": "markdown",
   "id": "5df71ac6-0c26-49f9-b9b0-eb580eed8dde",
   "metadata": {
    "jp-MarkdownHeadingCollapsed": true,
    "tags": []
   },
   "source": [
    "### Reworking of title function application"
   ]
  },
  {
   "cell_type": "code",
   "execution_count": 61,
   "id": "1a7dbf69-d040-4648-975f-4042044661e2",
   "metadata": {},
   "outputs": [],
   "source": [
    "#redo"
   ]
  },
  {
   "cell_type": "code",
   "execution_count": 62,
   "id": "c88be61b-c048-46f4-bc82-cf78649a8669",
   "metadata": {},
   "outputs": [],
   "source": [
    "#proj_one_row = full_df.groupby(['project_number', 'project_title'])['obligations_amount'].max().reset_index()"
   ]
  },
  {
   "cell_type": "code",
   "execution_count": 63,
   "id": "0fdf7588-b273-4e52-b019-c0411a016e75",
   "metadata": {},
   "outputs": [],
   "source": [
    "#len(proj_one_row)"
   ]
  },
  {
   "cell_type": "code",
   "execution_count": 64,
   "id": "58d22062-4226-46f6-9479-7a9641dae1ad",
   "metadata": {},
   "outputs": [],
   "source": [
    "#merge_cols = ['project_number','project_title','obligations_amount']\n"
   ]
  },
  {
   "cell_type": "code",
   "execution_count": 65,
   "id": "9f004d2b-1ca9-4bd2-8fbb-6e4e9b9f2b9b",
   "metadata": {},
   "outputs": [],
   "source": [
    "#proj_unique = (pd.merge(proj_one_row, full_df, how='left', on=merge_cols))"
   ]
  },
  {
   "cell_type": "code",
   "execution_count": 66,
   "id": "4c127820-7563-4e06-80ba-5d1219b5e099",
   "metadata": {},
   "outputs": [],
   "source": [
    "# proj_unique>>group_by(_.project_number, _.project_title)>>count(_.obligations_amount)>>arrange(_.n)"
   ]
  },
  {
   "cell_type": "markdown",
   "id": "2d115c95-bc87-4e26-bb77-7f6f527856e2",
   "metadata": {},
   "source": [
    "* duplicates here have different congressional districts- so we have more entries"
   ]
  },
  {
   "cell_type": "code",
   "execution_count": 67,
   "id": "4533974b-2bee-4975-aba5-307dc9b529ff",
   "metadata": {
    "tags": []
   },
   "outputs": [],
   "source": [
    "# proj_unique_cat = utils.add_description(proj_unique, 'project_title')"
   ]
  },
  {
   "cell_type": "code",
   "execution_count": 68,
   "id": "4049682d-f5fa-4103-970c-be58a8cd44b5",
   "metadata": {},
   "outputs": [],
   "source": [
    "# proj_unique_cat_title = utils.add_new_title(proj_unique_cat, \"project_method\", \"project_type\", \"implementing_agency\", \"county_name\")\n"
   ]
  },
  {
   "cell_type": "code",
   "execution_count": 69,
   "id": "7989f6b4-193f-45ae-a0fc-fd682e065449",
   "metadata": {},
   "outputs": [],
   "source": [
    "# proj_unique_cat_title = utils.update_no_matched(proj_unique_cat_title, 'project_type', 'improvement_type_description', 'implementing_agency', 'program_code_description')\n"
   ]
  },
  {
   "cell_type": "code",
   "execution_count": 70,
   "id": "83067dd1-4ff7-4fa1-8fc0-3fdb3cee9342",
   "metadata": {},
   "outputs": [],
   "source": [
    "# proj_unique_cat_title['project_name_new2'] = proj_unique_cat_title['project_name_new2'].replace('', np.NaN)\n"
   ]
  },
  {
   "cell_type": "code",
   "execution_count": 71,
   "id": "ace1106b-5ea5-443f-8ecf-5dfa22228382",
   "metadata": {},
   "outputs": [],
   "source": [
    "# proj_unique_cat_title.project_name_new2.fillna(proj_unique_cat_title.project_name_new, inplace=True)\n"
   ]
  },
  {
   "cell_type": "code",
   "execution_count": 72,
   "id": "d833d871-6c8c-44fa-bc86-68a1a6f98f96",
   "metadata": {},
   "outputs": [],
   "source": [
    "# proj_unique_cat_title.drop(columns =['project_name_new'], axis=1, inplace=True)\n",
    "# proj_unique_cat_title = proj_unique_cat_title.rename(columns={'project_name_new2':'project_title_new'})"
   ]
  },
  {
   "cell_type": "code",
   "execution_count": 73,
   "id": "fb0e2875-8850-4a3f-8945-2aa061842d87",
   "metadata": {},
   "outputs": [],
   "source": [
    "# proj_unique_cat_title.sample()"
   ]
  },
  {
   "cell_type": "code",
   "execution_count": 74,
   "id": "b3e2b973-6591-463a-a8ac-70f1554bc352",
   "metadata": {},
   "outputs": [],
   "source": [
    "#proj_unique_cat_title = get_new_desc_title(full_df)"
   ]
  },
  {
   "cell_type": "code",
   "execution_count": 75,
   "id": "22f6952e-6ba0-4bba-b9c6-289dcd363ba7",
   "metadata": {},
   "outputs": [],
   "source": [
    "#proj_unique_cat_title.sample()"
   ]
  },
  {
   "cell_type": "code",
   "execution_count": 76,
   "id": "a536c02b-e2e1-455e-8f8f-b1c16d245881",
   "metadata": {},
   "outputs": [],
   "source": [
    "# proj_title_mapping = dict(proj_unique_cat_title[['project_number', 'project_title_new']].values)\n"
   ]
  },
  {
   "cell_type": "code",
   "execution_count": 77,
   "id": "9a4ef346-f5a2-416f-b785-58dd9866b826",
   "metadata": {},
   "outputs": [],
   "source": [
    "# full_df['project_title_new'] = full_df.project_number.map(proj_title_mapping)\n"
   ]
  },
  {
   "cell_type": "code",
   "execution_count": null,
   "id": "76a4cb22-883c-43ce-a82a-60ed7d262c06",
   "metadata": {},
   "outputs": [],
   "source": []
  },
  {
   "cell_type": "markdown",
   "id": "d4ebcdde-49aa-48e9-b78e-4b5c28dd219c",
   "metadata": {
    "jp-MarkdownHeadingCollapsed": true,
    "tags": []
   },
   "source": [
    "## Check new Title"
   ]
  },
  {
   "cell_type": "code",
   "execution_count": null,
   "id": "f21bea79-4e30-4040-8f0a-bc052bcc9e66",
   "metadata": {},
   "outputs": [
    {
     "data": {
      "text/html": [
       "<div>\n",
       "<style scoped>\n",
       "    .dataframe tbody tr th:only-of-type {\n",
       "        vertical-align: middle;\n",
       "    }\n",
       "\n",
       "    .dataframe tbody tr th {\n",
       "        vertical-align: top;\n",
       "    }\n",
       "\n",
       "    .dataframe thead th {\n",
       "        text-align: right;\n",
       "    }\n",
       "</style>\n",
       "<table border=\"1\" class=\"dataframe\">\n",
       "  <thead>\n",
       "    <tr style=\"text-align: right;\">\n",
       "      <th></th>\n",
       "      <th>fmis_transaction_date</th>\n",
       "      <th>program_code</th>\n",
       "      <th>program_code_description</th>\n",
       "      <th>project_number</th>\n",
       "      <th>recipient_project_number</th>\n",
       "      <th>project_title</th>\n",
       "      <th>county_code</th>\n",
       "      <th>congressional_district</th>\n",
       "      <th>improvement_type</th>\n",
       "      <th>improvement_type_description</th>\n",
       "      <th>obligations_amount</th>\n",
       "      <th>summary_recipient_defined_text_field_1_value</th>\n",
       "      <th>implementing_agency_locode</th>\n",
       "      <th>implementing_agency</th>\n",
       "      <th>district</th>\n",
       "      <th>county_name</th>\n",
       "      <th>rtpa_name</th>\n",
       "      <th>mpo_name</th>\n",
       "    </tr>\n",
       "  </thead>\n",
       "  <tbody>\n",
       "    <tr>\n",
       "      <th>351</th>\n",
       "      <td>2022-07-27</td>\n",
       "      <td>Y230</td>\n",
       "      <td>Surface Transportation Block Grant (STBG) Program</td>\n",
       "      <td>5919136</td>\n",
       "      <td>0318000149L</td>\n",
       "      <td>SR 28 /SR 267 INTERSECTION; PM 9.1/9.4 CONSTRUCT ROUNDABOUT</td>\n",
       "      <td>61.00</td>\n",
       "      <td>Cong Dist 1</td>\n",
       "      <td>15.00</td>\n",
       "      <td>Preliminary Engineering</td>\n",
       "      <td>505,000.00</td>\n",
       "      <td>L5919TAHOE</td>\n",
       "      <td>5,919.00</td>\n",
       "      <td>Placer County</td>\n",
       "      <td>3.00</td>\n",
       "      <td>Placer County</td>\n",
       "      <td>Placer County Transportation Planning Agency</td>\n",
       "      <td>Sacramento Area Council Of Governments</td>\n",
       "    </tr>\n",
       "    <tr>\n",
       "      <th>877</th>\n",
       "      <td>2022-05-05</td>\n",
       "      <td>Y001</td>\n",
       "      <td>National Highway Performance Program (NHPP)</td>\n",
       "      <td>P198081</td>\n",
       "      <td>0620000035S</td>\n",
       "      <td>IN AND NEAR HANFORD FROM 12TH AVE OC TO 0.9 MILE EAST OF RTE 43/198 SEPARATION COMBINED ROADSIDE SAFETY IMPROVEMENTS &amp; IRRIGATION SYSTEM UPGRADES</td>\n",
       "      <td>31.00</td>\n",
       "      <td>Cong Dist 21</td>\n",
       "      <td>6.00</td>\n",
       "      <td>4R - Restoration &amp; Rehabilitation</td>\n",
       "      <td>2,189,100.00</td>\n",
       "      <td>S    KCAG</td>\n",
       "      <td>NaN</td>\n",
       "      <td>California</td>\n",
       "      <td>6.00</td>\n",
       "      <td>Kings County</td>\n",
       "      <td>NaN</td>\n",
       "      <td>NaN</td>\n",
       "    </tr>\n",
       "    <tr>\n",
       "      <th>687</th>\n",
       "      <td>2022-09-12</td>\n",
       "      <td>YS30</td>\n",
       "      <td>Highway Safety Improvement Program (HSIP)</td>\n",
       "      <td>P025033</td>\n",
       "      <td>0517000185S</td>\n",
       "      <td>SAN BENITO COUNTY NEAR HOLLISTER ON ROUTE 25 FROM 0.4 MILE EAST TO 0.3 MILE WEST OF ROUTE 156 AND ON ROUTE 156 FROM 0.4 MILE SOUTH TO 0.3 MILE NORTH</td>\n",
       "      <td>69.00</td>\n",
       "      <td>Cong Dist 20</td>\n",
       "      <td>42.00</td>\n",
       "      <td>Training</td>\n",
       "      <td>3,400.00</td>\n",
       "      <td>S    AMBAG</td>\n",
       "      <td>NaN</td>\n",
       "      <td>California</td>\n",
       "      <td>5.00</td>\n",
       "      <td>San Benito County</td>\n",
       "      <td>NaN</td>\n",
       "      <td>NaN</td>\n",
       "    </tr>\n",
       "    <tr>\n",
       "      <th>975</th>\n",
       "      <td>2022-05-10</td>\n",
       "      <td>Y001</td>\n",
       "      <td>National Highway Performance Program (NHPP)</td>\n",
       "      <td>X029141</td>\n",
       "      <td>0618000019S</td>\n",
       "      <td>KERN COUNTY IN THE CITY OF BAKERSFIELD ON ROUTE 99 FROM 0.3 MILE SOUTH OF BELLE TERRACE OVERCROSSING TO 0.1 MILE NORTH OF ROUTE 58; ALSO ON ROUTE 58</td>\n",
       "      <td>29.00</td>\n",
       "      <td>Cong Dist 23</td>\n",
       "      <td>11.00</td>\n",
       "      <td>Bridge Replacement - No Added Capacity</td>\n",
       "      <td>20,213,400.00</td>\n",
       "      <td>S    KCOG</td>\n",
       "      <td>NaN</td>\n",
       "      <td>California</td>\n",
       "      <td>9.00</td>\n",
       "      <td>Kern County</td>\n",
       "      <td>NaN</td>\n",
       "      <td>NaN</td>\n",
       "    </tr>\n",
       "    <tr>\n",
       "      <th>222</th>\n",
       "      <td>2022-07-11</td>\n",
       "      <td>Y230</td>\n",
       "      <td>Surface Transportation Block Grant (STBG) Program</td>\n",
       "      <td>5208160</td>\n",
       "      <td>0617000227L</td>\n",
       "      <td>NEES AVENUE FROM MINNEWAWA AVENUE TO CLOVIS AVENUE ROAD WIDENING AND RECONSTRUCTION, INSTALLATION OF CURB AND GUTTERS, SIDEWALK, BICYCLE LANES, MODIF</td>\n",
       "      <td>19.00</td>\n",
       "      <td>Cong Dist 22</td>\n",
       "      <td>3.00</td>\n",
       "      <td>4R - Added Capacity</td>\n",
       "      <td>1,746,769.00</td>\n",
       "      <td>L5208FCOG</td>\n",
       "      <td>5,208.00</td>\n",
       "      <td>Clovis</td>\n",
       "      <td>6.00</td>\n",
       "      <td>Fresno County</td>\n",
       "      <td>Council of Fresno County Governments</td>\n",
       "      <td>Council Of Fresno County Goverments</td>\n",
       "    </tr>\n",
       "  </tbody>\n",
       "</table>\n",
       "</div>"
      ],
      "text/plain": [
       "    fmis_transaction_date program_code  \\\n",
       "351            2022-07-27         Y230   \n",
       "877            2022-05-05         Y001   \n",
       "687            2022-09-12         YS30   \n",
       "975            2022-05-10         Y001   \n",
       "222            2022-07-11         Y230   \n",
       "\n",
       "                              program_code_description project_number  \\\n",
       "351  Surface Transportation Block Grant (STBG) Program        5919136   \n",
       "877        National Highway Performance Program (NHPP)        P198081   \n",
       "687          Highway Safety Improvement Program (HSIP)        P025033   \n",
       "975        National Highway Performance Program (NHPP)        X029141   \n",
       "222  Surface Transportation Block Grant (STBG) Program        5208160   \n",
       "\n",
       "    recipient_project_number  \\\n",
       "351              0318000149L   \n",
       "877              0620000035S   \n",
       "687              0517000185S   \n",
       "975              0618000019S   \n",
       "222              0617000227L   \n",
       "\n",
       "                                                                                                                                             project_title  \\\n",
       "351                                                                                            SR 28 /SR 267 INTERSECTION; PM 9.1/9.4 CONSTRUCT ROUNDABOUT   \n",
       "877      IN AND NEAR HANFORD FROM 12TH AVE OC TO 0.9 MILE EAST OF RTE 43/198 SEPARATION COMBINED ROADSIDE SAFETY IMPROVEMENTS & IRRIGATION SYSTEM UPGRADES   \n",
       "687   SAN BENITO COUNTY NEAR HOLLISTER ON ROUTE 25 FROM 0.4 MILE EAST TO 0.3 MILE WEST OF ROUTE 156 AND ON ROUTE 156 FROM 0.4 MILE SOUTH TO 0.3 MILE NORTH   \n",
       "975   KERN COUNTY IN THE CITY OF BAKERSFIELD ON ROUTE 99 FROM 0.3 MILE SOUTH OF BELLE TERRACE OVERCROSSING TO 0.1 MILE NORTH OF ROUTE 58; ALSO ON ROUTE 58   \n",
       "222  NEES AVENUE FROM MINNEWAWA AVENUE TO CLOVIS AVENUE ROAD WIDENING AND RECONSTRUCTION, INSTALLATION OF CURB AND GUTTERS, SIDEWALK, BICYCLE LANES, MODIF   \n",
       "\n",
       "     county_code congressional_district  improvement_type  \\\n",
       "351        61.00            Cong Dist 1             15.00   \n",
       "877        31.00           Cong Dist 21              6.00   \n",
       "687        69.00           Cong Dist 20             42.00   \n",
       "975        29.00           Cong Dist 23             11.00   \n",
       "222        19.00           Cong Dist 22              3.00   \n",
       "\n",
       "               improvement_type_description  obligations_amount  \\\n",
       "351                 Preliminary Engineering          505,000.00   \n",
       "877       4R - Restoration & Rehabilitation        2,189,100.00   \n",
       "687                                Training            3,400.00   \n",
       "975  Bridge Replacement - No Added Capacity       20,213,400.00   \n",
       "222                     4R - Added Capacity        1,746,769.00   \n",
       "\n",
       "    summary_recipient_defined_text_field_1_value  implementing_agency_locode  \\\n",
       "351                                   L5919TAHOE                    5,919.00   \n",
       "877                                    S    KCAG                         NaN   \n",
       "687                                   S    AMBAG                         NaN   \n",
       "975                                    S    KCOG                         NaN   \n",
       "222                                    L5208FCOG                    5,208.00   \n",
       "\n",
       "    implementing_agency  district        county_name  \\\n",
       "351       Placer County      3.00      Placer County   \n",
       "877          California      6.00       Kings County   \n",
       "687          California      5.00  San Benito County   \n",
       "975          California      9.00        Kern County   \n",
       "222              Clovis      6.00      Fresno County   \n",
       "\n",
       "                                        rtpa_name  \\\n",
       "351  Placer County Transportation Planning Agency   \n",
       "877                                           NaN   \n",
       "687                                           NaN   \n",
       "975                                           NaN   \n",
       "222          Council of Fresno County Governments   \n",
       "\n",
       "                                   mpo_name  \n",
       "351  Sacramento Area Council Of Governments  \n",
       "877                                     NaN  \n",
       "687                                     NaN  \n",
       "975                                     NaN  \n",
       "222     Council Of Fresno County Goverments  "
      ]
     },
     "execution_count": 49,
     "metadata": {},
     "output_type": "execute_result"
    }
   ],
   "source": [
    "full_df.sample(5)"
   ]
  },
  {
   "cell_type": "code",
   "execution_count": 79,
   "id": "db57b4b8-1546-44f2-b567-2a27243d77f0",
   "metadata": {},
   "outputs": [
    {
     "data": {
      "text/html": [
       "<div>\n",
       "<style scoped>\n",
       "    .dataframe tbody tr th:only-of-type {\n",
       "        vertical-align: middle;\n",
       "    }\n",
       "\n",
       "    .dataframe tbody tr th {\n",
       "        vertical-align: top;\n",
       "    }\n",
       "\n",
       "    .dataframe thead th {\n",
       "        text-align: right;\n",
       "    }\n",
       "</style>\n",
       "<table border=\"1\" class=\"dataframe\">\n",
       "  <thead>\n",
       "    <tr style=\"text-align: right;\">\n",
       "      <th></th>\n",
       "      <th>fmis_transaction_date</th>\n",
       "      <th>program_code</th>\n",
       "      <th>program_code_description</th>\n",
       "      <th>project_number</th>\n",
       "      <th>recipient_project_number</th>\n",
       "      <th>project_title</th>\n",
       "      <th>county_code</th>\n",
       "      <th>congressional_district</th>\n",
       "      <th>improvement_type</th>\n",
       "      <th>improvement_type_description</th>\n",
       "      <th>obligations_amount</th>\n",
       "      <th>summary_recipient_defined_text_field_1_value</th>\n",
       "      <th>implementing_agency_locode</th>\n",
       "      <th>implementing_agency</th>\n",
       "      <th>district</th>\n",
       "      <th>county_name</th>\n",
       "      <th>rtpa_name</th>\n",
       "      <th>mpo_name</th>\n",
       "      <th>project_title_new</th>\n",
       "    </tr>\n",
       "  </thead>\n",
       "  <tbody>\n",
       "  </tbody>\n",
       "</table>\n",
       "</div>"
      ],
      "text/plain": [
       "Empty DataFrame\n",
       "Columns: [fmis_transaction_date, program_code, program_code_description, project_number, recipient_project_number, project_title, county_code, congressional_district, improvement_type, improvement_type_description, obligations_amount, summary_recipient_defined_text_field_1_value, implementing_agency_locode, implementing_agency, district, county_name, rtpa_name, mpo_name, project_title_new]\n",
       "Index: []"
      ]
     },
     "execution_count": 79,
     "metadata": {},
     "output_type": "execute_result"
    }
   ],
   "source": [
    "full_df>>filter(_.project_title_new.isna())"
   ]
  },
  {
   "cell_type": "code",
   "execution_count": 80,
   "id": "438e5b98-fa3a-4755-b4c3-06df8b69b576",
   "metadata": {},
   "outputs": [
    {
     "data": {
      "text/plain": [
       "1241"
      ]
     },
     "execution_count": 80,
     "metadata": {},
     "output_type": "execute_result"
    }
   ],
   "source": [
    "#checking the length of entries here to make sure\n",
    "len(full_df)"
   ]
  },
  {
   "cell_type": "code",
   "execution_count": 81,
   "id": "1951f498-31d3-4731-a878-10f2559ff624",
   "metadata": {},
   "outputs": [
    {
     "data": {
      "text/html": [
       "<div>\n",
       "<style scoped>\n",
       "    .dataframe tbody tr th:only-of-type {\n",
       "        vertical-align: middle;\n",
       "    }\n",
       "\n",
       "    .dataframe tbody tr th {\n",
       "        vertical-align: top;\n",
       "    }\n",
       "\n",
       "    .dataframe thead th {\n",
       "        text-align: right;\n",
       "    }\n",
       "</style>\n",
       "<table border=\"1\" class=\"dataframe\">\n",
       "  <thead>\n",
       "    <tr style=\"text-align: right;\">\n",
       "      <th></th>\n",
       "      <th>project_title_new</th>\n",
       "      <th>n</th>\n",
       "    </tr>\n",
       "  </thead>\n",
       "  <tbody>\n",
       "    <tr>\n",
       "      <th>92</th>\n",
       "      <td>Planning Statewide</td>\n",
       "      <td>43</td>\n",
       "    </tr>\n",
       "    <tr>\n",
       "      <th>134</th>\n",
       "      <td>Road Restoration &amp; Rehabilitation in Los Angeles County</td>\n",
       "      <td>33</td>\n",
       "    </tr>\n",
       "    <tr>\n",
       "      <th>143</th>\n",
       "      <td>Road Restoration &amp; Rehabilitation in San Diego County</td>\n",
       "      <td>23</td>\n",
       "    </tr>\n",
       "    <tr>\n",
       "      <th>431</th>\n",
       "      <td>Replace Signage in Los Angeles County</td>\n",
       "      <td>21</td>\n",
       "    </tr>\n",
       "    <tr>\n",
       "      <th>165</th>\n",
       "      <td>Safety Improvements in Los Angeles County</td>\n",
       "      <td>19</td>\n",
       "    </tr>\n",
       "    <tr>\n",
       "      <th>...</th>\n",
       "      <td>...</td>\n",
       "      <td>...</td>\n",
       "    </tr>\n",
       "    <tr>\n",
       "      <th>436</th>\n",
       "      <td>Upgrade Bike Lanes in Galt</td>\n",
       "      <td>1</td>\n",
       "    </tr>\n",
       "    <tr>\n",
       "      <th>437</th>\n",
       "      <td>Upgrade Erosion Countermeasures in Ventura County</td>\n",
       "      <td>1</td>\n",
       "    </tr>\n",
       "    <tr>\n",
       "      <th>441</th>\n",
       "      <td>Upgrade Guardrails in Jurupa Valley</td>\n",
       "      <td>1</td>\n",
       "    </tr>\n",
       "    <tr>\n",
       "      <th>453</th>\n",
       "      <td>Upgrade Traffic Signals in San Bernardino</td>\n",
       "      <td>1</td>\n",
       "    </tr>\n",
       "    <tr>\n",
       "      <th>454</th>\n",
       "      <td>Upgrade Traffic Signals in Santa Rosa</td>\n",
       "      <td>1</td>\n",
       "    </tr>\n",
       "  </tbody>\n",
       "</table>\n",
       "<p>456 rows × 2 columns</p>\n",
       "</div>"
      ],
      "text/plain": [
       "                                            project_title_new   n\n",
       "92                                         Planning Statewide  43\n",
       "134   Road Restoration & Rehabilitation in Los Angeles County  33\n",
       "143     Road Restoration & Rehabilitation in San Diego County  23\n",
       "431                     Replace Signage in Los Angeles County  21\n",
       "165                 Safety Improvements in Los Angeles County  19\n",
       "..                                                        ...  ..\n",
       "436                                Upgrade Bike Lanes in Galt   1\n",
       "437         Upgrade Erosion Countermeasures in Ventura County   1\n",
       "441                       Upgrade Guardrails in Jurupa Valley   1\n",
       "453                 Upgrade Traffic Signals in San Bernardino   1\n",
       "454                     Upgrade Traffic Signals in Santa Rosa   1\n",
       "\n",
       "[456 rows x 2 columns]"
      ]
     },
     "execution_count": 81,
     "metadata": {},
     "output_type": "execute_result"
    }
   ],
   "source": [
    "full_df>>count(_.project_title_new)>>arrange(-_.n)"
   ]
  },
  {
   "cell_type": "code",
   "execution_count": 82,
   "id": "a6207a8c-b9e2-413d-b92d-d4d864d10cd5",
   "metadata": {},
   "outputs": [
    {
     "data": {
      "text/plain": [
       "0"
      ]
     },
     "execution_count": 82,
     "metadata": {},
     "output_type": "execute_result"
    }
   ],
   "source": [
    "len(full_df>>filter(_.project_title_new.str.contains(\"in California\")))"
   ]
  },
  {
   "cell_type": "code",
   "execution_count": 83,
   "id": "1115f8c9-ad45-4928-87e4-b9605bab9ded",
   "metadata": {},
   "outputs": [
    {
     "data": {
      "text/html": [
       "<div>\n",
       "<style scoped>\n",
       "    .dataframe tbody tr th:only-of-type {\n",
       "        vertical-align: middle;\n",
       "    }\n",
       "\n",
       "    .dataframe tbody tr th {\n",
       "        vertical-align: top;\n",
       "    }\n",
       "\n",
       "    .dataframe thead th {\n",
       "        text-align: right;\n",
       "    }\n",
       "</style>\n",
       "<table border=\"1\" class=\"dataframe\">\n",
       "  <thead>\n",
       "    <tr style=\"text-align: right;\">\n",
       "      <th></th>\n",
       "      <th>project_title_new</th>\n",
       "      <th>n</th>\n",
       "    </tr>\n",
       "  </thead>\n",
       "  <tbody>\n",
       "  </tbody>\n",
       "</table>\n",
       "</div>"
      ],
      "text/plain": [
       "Empty DataFrame\n",
       "Columns: [project_title_new, n]\n",
       "Index: []"
      ]
     },
     "execution_count": 83,
     "metadata": {},
     "output_type": "execute_result"
    }
   ],
   "source": [
    "full_df>>filter(_.project_title_new.str.contains(\"in California\"))>>count(_.project_title_new)"
   ]
  },
  {
   "cell_type": "code",
   "execution_count": 84,
   "id": "6f306c16-7e11-442d-aaf9-e525fa637daf",
   "metadata": {
    "tags": []
   },
   "outputs": [
    {
     "data": {
      "text/html": [
       "<div>\n",
       "<style scoped>\n",
       "    .dataframe tbody tr th:only-of-type {\n",
       "        vertical-align: middle;\n",
       "    }\n",
       "\n",
       "    .dataframe tbody tr th {\n",
       "        vertical-align: top;\n",
       "    }\n",
       "\n",
       "    .dataframe thead th {\n",
       "        text-align: right;\n",
       "    }\n",
       "</style>\n",
       "<table border=\"1\" class=\"dataframe\">\n",
       "  <thead>\n",
       "    <tr style=\"text-align: right;\">\n",
       "      <th></th>\n",
       "      <th>fmis_transaction_date</th>\n",
       "      <th>program_code</th>\n",
       "      <th>program_code_description</th>\n",
       "      <th>project_number</th>\n",
       "      <th>recipient_project_number</th>\n",
       "      <th>project_title</th>\n",
       "      <th>county_code</th>\n",
       "      <th>congressional_district</th>\n",
       "      <th>improvement_type</th>\n",
       "      <th>improvement_type_description</th>\n",
       "      <th>obligations_amount</th>\n",
       "      <th>summary_recipient_defined_text_field_1_value</th>\n",
       "      <th>implementing_agency_locode</th>\n",
       "      <th>implementing_agency</th>\n",
       "      <th>district</th>\n",
       "      <th>county_name</th>\n",
       "      <th>rtpa_name</th>\n",
       "      <th>mpo_name</th>\n",
       "      <th>project_title_new</th>\n",
       "    </tr>\n",
       "  </thead>\n",
       "  <tbody>\n",
       "  </tbody>\n",
       "</table>\n",
       "</div>"
      ],
      "text/plain": [
       "Empty DataFrame\n",
       "Columns: [fmis_transaction_date, program_code, program_code_description, project_number, recipient_project_number, project_title, county_code, congressional_district, improvement_type, improvement_type_description, obligations_amount, summary_recipient_defined_text_field_1_value, implementing_agency_locode, implementing_agency, district, county_name, rtpa_name, mpo_name, project_title_new]\n",
       "Index: []"
      ]
     },
     "execution_count": 84,
     "metadata": {},
     "output_type": "execute_result"
    }
   ],
   "source": [
    "full_df>>filter(_.project_title_new==\"Road Restoration & Rehabilitation in California\")"
   ]
  },
  {
   "cell_type": "code",
   "execution_count": null,
   "id": "92833ad4-64a2-4dd7-9545-e5d112be2257",
   "metadata": {},
   "outputs": [],
   "source": []
  },
  {
   "cell_type": "markdown",
   "id": "06c562df-1c46-46a8-ae7c-ec8fca66765e",
   "metadata": {
    "tags": []
   },
   "source": [
    "## Export data frame with new titles"
   ]
  },
  {
   "cell_type": "code",
   "execution_count": 85,
   "id": "3db36a46-ef98-4afd-b050-1bdbd6fb9db2",
   "metadata": {},
   "outputs": [],
   "source": [
    "#GCS_FILE_PATH  = 'gs://calitp-analytics-data/data-analyses/dla/dla-iija'"
   ]
  },
  {
   "cell_type": "code",
   "execution_count": 86,
   "id": "e6a37a73-13a4-4268-a9c7-c63d5fd81986",
   "metadata": {},
   "outputs": [],
   "source": [
    "#test_df = utils.title_column_names(full_df)"
   ]
  },
  {
   "cell_type": "code",
   "execution_count": 87,
   "id": "0d5c2dab-66fc-4c0e-b192-0c62c7221ceb",
   "metadata": {},
   "outputs": [],
   "source": [
    "#test_df.to_csv(f\"{GCS_FILE_PATH}/FMIS_projects_all.csv\")"
   ]
  },
  {
   "cell_type": "code",
   "execution_count": null,
   "id": "6ac8e628-7f1e-4621-91a7-27c82b79ed89",
   "metadata": {},
   "outputs": [],
   "source": []
  },
  {
   "cell_type": "code",
   "execution_count": null,
   "id": "258b1be8-0ba4-4606-9dfc-5065d3cd344d",
   "metadata": {},
   "outputs": [],
   "source": []
  },
  {
   "cell_type": "markdown",
   "id": "d075f3a7-99c4-49d5-b37b-3c2d112ed673",
   "metadata": {
    "tags": []
   },
   "source": [
    "## adding locations"
   ]
  },
  {
   "cell_type": "code",
   "execution_count": null,
   "id": "29184a4a-1652-46b8-82c1-9ba1eb927ba0",
   "metadata": {},
   "outputs": [],
   "source": []
  },
  {
   "cell_type": "code",
   "execution_count": null,
   "id": "4df160fd-0601-499e-ae32-3ab074d35ca3",
   "metadata": {},
   "outputs": [],
   "source": []
  },
  {
   "cell_type": "code",
   "execution_count": null,
   "id": "015887cd-2a9c-430a-9501-e1b20f04e4cf",
   "metadata": {},
   "outputs": [],
   "source": []
  },
  {
   "cell_type": "code",
   "execution_count": null,
   "id": "d0d1d22f-23df-4324-b5f6-9d1a1915c112",
   "metadata": {},
   "outputs": [],
   "source": []
  },
  {
   "cell_type": "code",
   "execution_count": null,
   "id": "cb43fe7e-b04b-4994-9a80-5a55743fb9b5",
   "metadata": {},
   "outputs": [],
   "source": []
  },
  {
   "cell_type": "code",
   "execution_count": null,
   "id": "7143d049-7a39-4706-966e-2b197a34e249",
   "metadata": {},
   "outputs": [],
   "source": []
  },
  {
   "cell_type": "code",
   "execution_count": null,
   "id": "d0c24d83-7f7a-4c71-b41b-f54b26445a3e",
   "metadata": {},
   "outputs": [],
   "source": []
  },
  {
   "cell_type": "code",
   "execution_count": null,
   "id": "39370baf-8904-4fe8-8249-c175e6198f62",
   "metadata": {},
   "outputs": [],
   "source": []
  },
  {
   "cell_type": "code",
   "execution_count": null,
   "id": "ec1fcaf0-2306-44a2-82b0-e414b59c070f",
   "metadata": {},
   "outputs": [],
   "source": []
  },
  {
   "cell_type": "code",
   "execution_count": null,
   "id": "3cc1332d-2bd8-443e-ac1f-14d9cfdd3885",
   "metadata": {},
   "outputs": [],
   "source": []
  },
  {
   "cell_type": "code",
   "execution_count": null,
   "id": "9800d0b7-42ba-424f-82e4-023ff33293c1",
   "metadata": {},
   "outputs": [],
   "source": []
  },
  {
   "cell_type": "code",
   "execution_count": null,
   "id": "ca349aef-79f5-4832-91bc-68d0c246cfd6",
   "metadata": {},
   "outputs": [],
   "source": []
  },
  {
   "cell_type": "code",
   "execution_count": null,
   "id": "0b05fa6d-16be-4202-9c14-f64316a8d1d9",
   "metadata": {},
   "outputs": [],
   "source": []
  },
  {
   "cell_type": "code",
   "execution_count": null,
   "id": "36c38347-c015-466c-9a7c-57f96358bbea",
   "metadata": {},
   "outputs": [],
   "source": []
  },
  {
   "cell_type": "code",
   "execution_count": null,
   "id": "d48b4ab4-f5d8-47eb-8285-09ae2469d988",
   "metadata": {},
   "outputs": [],
   "source": []
  },
  {
   "cell_type": "code",
   "execution_count": null,
   "id": "09145bb4-ddb8-44a9-a979-d82a73e88e86",
   "metadata": {},
   "outputs": [],
   "source": []
  },
  {
   "cell_type": "code",
   "execution_count": null,
   "id": "6f012cf5-9e7b-4939-b4d4-f8a5e6e38d41",
   "metadata": {},
   "outputs": [],
   "source": []
  },
  {
   "cell_type": "code",
   "execution_count": null,
   "id": "fcf03037-e668-4b1a-84e2-9a9aa99a2c93",
   "metadata": {},
   "outputs": [],
   "source": []
  },
  {
   "cell_type": "code",
   "execution_count": null,
   "id": "61ee46b7-1a33-4024-832a-7363bb5b210a",
   "metadata": {},
   "outputs": [],
   "source": []
  },
  {
   "cell_type": "code",
   "execution_count": null,
   "id": "e759cbe6-1806-4647-ab26-f788c1b3f6dc",
   "metadata": {},
   "outputs": [],
   "source": []
  }
 ],
 "metadata": {
  "kernelspec": {
   "display_name": "Python 3 (ipykernel)",
   "language": "python",
   "name": "python3"
  },
  "language_info": {
   "codemirror_mode": {
    "name": "ipython",
    "version": 3
   },
   "file_extension": ".py",
   "mimetype": "text/x-python",
   "name": "python",
   "nbconvert_exporter": "python",
   "pygments_lexer": "ipython3",
   "version": "3.9.13"
  },
  "widgets": {
   "application/vnd.jupyter.widget-state+json": {
    "state": {},
    "version_major": 2,
    "version_minor": 0
   }
  }
 },
 "nbformat": 4,
 "nbformat_minor": 5
}
