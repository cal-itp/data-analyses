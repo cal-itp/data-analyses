{
 "cells": [
  {
   "cell_type": "markdown",
   "id": "3c31cd6d-91cd-4b4e-8fd0-9a6ed076e95b",
   "metadata": {},
   "source": [
    "# Update Program Code Descriptions"
   ]
  },
  {
   "cell_type": "code",
   "execution_count": 2,
   "id": "427ef3d1-a937-483e-bcb5-68e377dd4f35",
   "metadata": {},
   "outputs": [],
   "source": [
    "import numpy as np\n",
    "import pandas as pd\n",
    "from siuba import *\n",
    "\n",
    "import dla_utils\n",
    "from calitp_data_analysis.sql import to_snakecase\n",
    "\n",
    "import utils"
   ]
  },
  {
   "cell_type": "code",
   "execution_count": 3,
   "id": "ce77f2af-baa1-4cc7-ad1a-64ec8d12e0e9",
   "metadata": {},
   "outputs": [],
   "source": [
    "pd.set_option(\"display.max_columns\", 100)\n",
    "pd.set_option('display.max_colwidth', None)"
   ]
  },
  {
   "cell_type": "markdown",
   "id": "899b931a-6a2c-479c-8db1-85f5e5e0eb27",
   "metadata": {
    "tags": []
   },
   "source": [
    "## Read in Data and function development"
   ]
  },
  {
   "cell_type": "code",
   "execution_count": null,
   "id": "88075960-a5f8-4214-abd3-5f626c12ef47",
   "metadata": {},
   "outputs": [],
   "source": [
    "df = utils.read_data_all()\n",
    "    \n",
    "    ## function that adds known agency name to df \n",
    "df = utils.identify_agency(df, 'summary_recipient_defined_text_field_1_value')"
   ]
  },
  {
   "cell_type": "code",
   "execution_count": null,
   "id": "2680906d-2a02-4f51-bd13-1634e9c6346f",
   "metadata": {},
   "outputs": [],
   "source": [
    "df.sample(3)"
   ]
  },
  {
   "cell_type": "code",
   "execution_count": null,
   "id": "10903b32-c049-40d4-842f-6a871cb4fdca",
   "metadata": {},
   "outputs": [],
   "source": [
    "#checking to make sure summary_recipient_defined_text_field_1_value (and implementing_agency) is unique\n",
    "df>>group_by(_.project_number)>>summarize(n = _.summary_recipient_defined_text_field_1_value.nunique())>>arrange(-_.n)"
   ]
  },
  {
   "cell_type": "code",
   "execution_count": null,
   "id": "187564c1-29be-4ef1-8a2f-62e29f7de173",
   "metadata": {},
   "outputs": [],
   "source": []
  },
  {
   "cell_type": "markdown",
   "id": "fcd35764-0213-4f50-9fb3-f9bfcc582da4",
   "metadata": {
    "tags": []
   },
   "source": [
    "### Condense Projects into One"
   ]
  },
  {
   "cell_type": "code",
   "execution_count": null,
   "id": "73328a37-dbb4-474c-8e35-f49f93193ac2",
   "metadata": {},
   "outputs": [],
   "source": []
  },
  {
   "cell_type": "code",
   "execution_count": null,
   "id": "e588e1c6-cf6f-45f7-a5a7-884b33981883",
   "metadata": {},
   "outputs": [],
   "source": [
    "df_agg = df.astype(str).groupby('project_number').agg(' | ' .join).reset_index()"
   ]
  },
  {
   "cell_type": "code",
   "execution_count": null,
   "id": "0cdd66c2-8026-4f76-b2f9-d97ea7993538",
   "metadata": {},
   "outputs": [],
   "source": [
    "df_agg.sample()"
   ]
  },
  {
   "cell_type": "code",
   "execution_count": null,
   "id": "7754b18f-d0af-453f-962a-37a989085e12",
   "metadata": {},
   "outputs": [],
   "source": [
    "(list(df.columns))"
   ]
  },
  {
   "cell_type": "code",
   "execution_count": null,
   "id": "c117abf0-578c-4780-8fdc-2d9e098b5a6f",
   "metadata": {},
   "outputs": [],
   "source": []
  },
  {
   "cell_type": "code",
   "execution_count": null,
   "id": "93e12b09-2e85-4093-adf1-fd926b6f932a",
   "metadata": {},
   "outputs": [],
   "source": [
    "df.info()"
   ]
  },
  {
   "cell_type": "code",
   "execution_count": null,
   "id": "a39b0ca3-4919-4315-ab9b-3016bf0f9da4",
   "metadata": {},
   "outputs": [],
   "source": [
    "df2 = df.copy()"
   ]
  },
  {
   "cell_type": "code",
   "execution_count": null,
   "id": "8663ee35-ac9e-4c3a-93f2-2ce0ee72f677",
   "metadata": {},
   "outputs": [],
   "source": [
    "df_agg = utils.condense_df(df2)"
   ]
  },
  {
   "cell_type": "code",
   "execution_count": null,
   "id": "09fe1e37-3241-4bfd-ac70-9b4df2a8f648",
   "metadata": {},
   "outputs": [],
   "source": [
    "df_agg.sample(5)"
   ]
  },
  {
   "cell_type": "code",
   "execution_count": null,
   "id": "55eb31ab-85c4-49e3-b080-988d7509fa2f",
   "metadata": {},
   "outputs": [],
   "source": [
    "#should return 552\n",
    "len(df_agg)"
   ]
  },
  {
   "cell_type": "code",
   "execution_count": null,
   "id": "18880633-5972-4dac-8d18-a4189ec39aaa",
   "metadata": {},
   "outputs": [],
   "source": []
  },
  {
   "cell_type": "code",
   "execution_count": null,
   "id": "f68a37b0-358b-4f7c-b343-a4d17e99b397",
   "metadata": {},
   "outputs": [],
   "source": []
  },
  {
   "cell_type": "code",
   "execution_count": null,
   "id": "6d7b4c18-03b7-47e6-8cb6-5dec77f46b9e",
   "metadata": {},
   "outputs": [],
   "source": [
    "# def condense_df(df):\n",
    "    \n",
    "#     # make sure columns are in string format\n",
    "#     df[['county_code', 'improvement_type',\n",
    "#      'implementing_agency_locode', 'district',\n",
    "#      'program_code_description', 'recipient_project_number']] = df[['county_code', 'improvement_type',\n",
    "#                                                                      'implementing_agency_locode', 'district',\n",
    "#                                                                      'program_code_description', 'recipient_project_number']].astype(str)\n",
    "#     # aggreate df using .agg function and join in the unique values into one row\n",
    "#     df_agg = (df\n",
    "#            .assign(count=1)\n",
    "#            .groupby(['fmis_transaction_date','project_number', 'implementing_agency', 'summary_recipient_defined_text_field_1_value'])\n",
    "#            .agg({'program_code':lambda x:' | '.join(x.unique()), # get unique values to concatenate\n",
    "#                  'program_code_description':lambda x:' | '.join(x.unique()), # get unique values to concatenate\n",
    "#                  'recipient_project_number':lambda x:' | '.join(x.unique()), #'first',\n",
    "#                  'improvement_type':lambda x:' | '.join(x.unique()), # get unique values to concatenate\n",
    "#                  'improvement_type_description':lambda x:' | '.join(x.unique()),  # get unique values to concatenate\n",
    "#                  'project_title':'first', #should be the same                 \n",
    "#                  'obligations_amount':'sum', #sum of the obligations amount\n",
    "#                  'congressional_district':lambda x:' | '.join(x.unique()), # get unique values to concatenate\n",
    "#                  'district':lambda x:' | '.join(x.unique()), # get unique values to concatenate\n",
    "#                  'county_code':lambda x:' | '.join(x.unique()), # get unique values to concatenate\n",
    "#                  'county_name':lambda x:' | '.join(x.unique()), # get unique values to concatenate\n",
    "#                  'implementing_agency_locode':lambda x:' | '.join(x.unique()), # get unique values to concatenate\n",
    "#                  'rtpa_name':'first', #should be the same\n",
    "#                  'mpo_name':'first',  #should be the same\n",
    "#                 }).reset_index())\n",
    "    \n",
    "#     return df_agg"
   ]
  },
  {
   "cell_type": "code",
   "execution_count": null,
   "id": "416aa030-008d-41e6-a71f-50e3b3656a50",
   "metadata": {},
   "outputs": [],
   "source": [
    "# df2[['county_code'\n",
    "#      , 'improvement_type',\n",
    "#      'implementing_agency_locode',\n",
    "#      'district',\n",
    "#      'program_code_description',\n",
    "#      'recipient_project_number']] = df2[['county_code',\n",
    "#                                          'improvement_type',\n",
    "#                                          'implementing_agency_locode',\n",
    "#                                          'district', 'program_code_description',\n",
    "#                                          'recipient_project_number']].astype(str)"
   ]
  },
  {
   "cell_type": "code",
   "execution_count": null,
   "id": "321967fc-a351-4719-ba71-bad73f5ffff2",
   "metadata": {},
   "outputs": [],
   "source": [
    "# df_agg = (df2\n",
    "#            .assign(count=1)\n",
    "#            .groupby(['fmis_transaction_date','project_number', 'implementing_agency', 'summary_recipient_defined_text_field_1_value'])\n",
    "#            .agg({'program_code':lambda x:' | '.join(x.unique()), # get unique values to concatenate\n",
    "#                  'program_code_description':lambda x:' | '.join(x.unique()), # get unique values to concatenate\n",
    "#                  'recipient_project_number':lambda x:' | '.join(x.unique()), #'first',\n",
    "#                  'improvement_type':lambda x:' | '.join(x.unique()), # get unique values to concatenate\n",
    "#                  'improvement_type_description':lambda x:' | '.join(x.unique()),  # get unique values to concatenate\n",
    "#                  'project_title':'first', #should be the same                 \n",
    "#                  'obligations_amount':'sum', #sum of the obligations amount\n",
    "#                  'congressional_district':lambda x:' | '.join(x.unique()), # get unique values to concatenate\n",
    "#                  'district':lambda x:' | '.join(x.unique()), # get unique values to concatenate\n",
    "#                  'county_code':lambda x:' | '.join(x.unique()), # get unique values to concatenate\n",
    "#                  'county_name':lambda x:' | '.join(x.unique()), # get unique values to concatenate\n",
    "#                  'implementing_agency_locode':lambda x:' | '.join(x.unique()), # get unique values to concatenate\n",
    "#                  'rtpa_name':'first', #should be the same\n",
    "#                  'mpo_name':'first',  #should be the same\n",
    "#                 }).reset_index())"
   ]
  },
  {
   "cell_type": "code",
   "execution_count": null,
   "id": "815b4208-ee63-4ef0-ba00-1f2f25c252d7",
   "metadata": {},
   "outputs": [],
   "source": []
  },
  {
   "cell_type": "code",
   "execution_count": null,
   "id": "575b9354-f462-4fb8-aebe-a78ad41e7189",
   "metadata": {},
   "outputs": [],
   "source": [
    "len(df_agg>>filter(_.improvement_type.str.contains(' | ')))"
   ]
  },
  {
   "cell_type": "code",
   "execution_count": null,
   "id": "6023882c-7a11-424c-bc7d-e19e62ce11a8",
   "metadata": {},
   "outputs": [],
   "source": []
  },
  {
   "cell_type": "code",
   "execution_count": null,
   "id": "9cd0b134-7414-4e18-92f2-c05b9e276a18",
   "metadata": {},
   "outputs": [],
   "source": [
    "full_df_agg = utils.get_new_desc_title(df_agg)"
   ]
  },
  {
   "cell_type": "code",
   "execution_count": null,
   "id": "7c3fabac-a21c-428c-addb-27b7ebb3cc52",
   "metadata": {},
   "outputs": [],
   "source": [
    "full_df_agg"
   ]
  },
  {
   "cell_type": "code",
   "execution_count": null,
   "id": "7d67802a-01d7-49f7-b495-ba29b1881ce3",
   "metadata": {},
   "outputs": [],
   "source": []
  },
  {
   "cell_type": "code",
   "execution_count": null,
   "id": "e0a8c3ab-e9aa-4783-bbbf-dcc5532f4fea",
   "metadata": {},
   "outputs": [],
   "source": []
  },
  {
   "cell_type": "code",
   "execution_count": null,
   "id": "ddce0338-709e-4696-b07f-ad006fc41ce5",
   "metadata": {},
   "outputs": [],
   "source": []
  },
  {
   "cell_type": "markdown",
   "id": "bcc069d8-5d79-4521-81ab-1ce47d18dfb8",
   "metadata": {
    "tags": []
   },
   "source": [
    "### New issue: `project_title_new` taking groupings from `improvement_type_description`\n"
   ]
  },
  {
   "cell_type": "code",
   "execution_count": null,
   "id": "508aa26b-840f-4a96-85ba-c5d64118bed9",
   "metadata": {
    "scrolled": true,
    "tags": []
   },
   "outputs": [],
   "source": []
  },
  {
   "cell_type": "code",
   "execution_count": null,
   "id": "c5215ad3-b99c-49e7-a482-1ab808ae398f",
   "metadata": {},
   "outputs": [],
   "source": [
    "#checking the description column to add \"project\" flag and subsetting data\n",
    "test_df = (utils.add_description(full_df_agg, 'project_title'))>>filter(_.project_type=='Project')\n",
    "# test_df = (test_df>>select(_.implementing_agency, _.program_code_description, _.improvement_type, _.improvement_type_description, _.project_title,\n",
    "#                           _.county_name, _.project_title_new, _.project_type))"
   ]
  },
  {
   "cell_type": "code",
   "execution_count": null,
   "id": "4c7aece3-1fb9-4f79-a099-c0a0cc31f582",
   "metadata": {},
   "outputs": [],
   "source": [
    "len(test_df)"
   ]
  },
  {
   "cell_type": "code",
   "execution_count": null,
   "id": "e2a644aa-064d-4ff0-b391-2e52e6232164",
   "metadata": {},
   "outputs": [],
   "source": [
    "print((f\"There are {len(test_df>>filter(_.improvement_type.str.contains(' | ')))} \"\n",
    "           f\"entires out of {len(full_df_agg)} that have concatenated entired for improvement_type_description\"))"
   ]
  },
  {
   "cell_type": "code",
   "execution_count": null,
   "id": "5dfec828-d25b-4189-b730-d8c0d9e2a5c7",
   "metadata": {
    "scrolled": true,
    "tags": []
   },
   "outputs": [],
   "source": [
    "#entries with concatenated improvement types descriptions\n",
    "(test_df>>filter(_.improvement_type.str.contains(' | '))).improvement_type_description.value_counts()"
   ]
  },
  {
   "cell_type": "code",
   "execution_count": null,
   "id": "9ce52998-e919-4cd5-9127-21336b8ff856",
   "metadata": {},
   "outputs": [],
   "source": [
    "## filter down to just the projects with multiple improvement type descriptions\n",
    "test_df = (test_df>>filter(_.improvement_type.str.contains(' | ')))"
   ]
  },
  {
   "cell_type": "code",
   "execution_count": null,
   "id": "3ac9fad8-5330-43f6-876a-592ab122129e",
   "metadata": {},
   "outputs": [],
   "source": []
  },
  {
   "cell_type": "code",
   "execution_count": null,
   "id": "da7b21b9-5fdd-4a20-a4e1-996dd9a0a0da",
   "metadata": {
    "tags": []
   },
   "outputs": [],
   "source": [
    "# #function to rework DOES NOT WORK\n",
    "# def update_no_matched(df, flag_col, desc_col, program_code_desc_col): \n",
    "#     \"\"\"\n",
    "#     function to itreate over projects that did not match the first time\n",
    "#     using an existing project's short description of project type. \n",
    "#     \"\"\"\n",
    "    \n",
    "#     def return_project_type(df):\n",
    "        \n",
    "#         if (df[flag_col] == \"Project\") & df[desc_col].str.contains(\"Bridge Rehabilitation\") | df[desc_col].str.contains(\"Bridge Rehabilitation - No Added Capacity\") | df[desc_col].str.contains(\"Bridge Rehabilitation - Added Capacity\"):\n",
    "#             return (\"Bridge Rehabilitation\")\n",
    "        \n",
    "#         elif (df[flag_col] == \"Project\") & df[desc_col].str.contains(\"Facilities for Pedestrians and Bicycles\"):\n",
    "#             return (df[desc_col])\n",
    "        \n",
    "#         elif (df[flag_col] == \"Project\") & df[desc_col].str.contains(\"Safety\"):\n",
    "#             return (df[desc_col] + \" Improvements\")\n",
    "            \n",
    "#         elif (df[flag_col] == \"Project\") & df[desc_col].str.contains(\"Planning \"):\n",
    "#             return \"Project Planning\" \n",
    "            \n",
    "#         elif (df[flag_col] == \"Project\") & df[desc_col].str.contains(\"Preliminary Engineering\"):\n",
    "#             return (df[desc_col] + \" Projects \")\n",
    "        \n",
    "#         elif (df[flag_col] == \"Project\") & df[desc_col].str.contains(\"Construction Engineering\"):\n",
    "#             return (df[desc_col] + \" Projects\")\n",
    "        \n",
    "#         elif (df[flag_col] == \"Project\") & df[desc_col].str.contains(\"4R - Restoration & Rehabilitation\"):\n",
    "#             return (\"Road Restoration & Rehabilitation\")\n",
    "        \n",
    "#         elif (df[flag_col] == \"Project\") & df[desc_col].str.contains(\"4R - Maintenance  Resurfacing\"):\n",
    "#             return (\"Maintenance Resurfacing\")\n",
    "        \n",
    "#         elif (df[flag_col] == \"Project\") & df[desc_col].str.contains(\"Bridge Replacement - Added Capacity\")| df[desc_col].str.contains(\"Bridge Replacement - No Added Capacity\") | df[desc_col].str.contains(\"Bridge New Construction\")| df[desc_col].str.contains(\"Special Bridge\"):\n",
    "#             return (\"Bridge Replacement\")\n",
    "        \n",
    "#         elif (df[flag_col] == \"Project\") & df[desc_col].str.contains(\"Mitigation of Water Pollution due to Highway Runoff\"):\n",
    "#             return (df[desc_col])\n",
    "        \n",
    "#         elif (df[flag_col] == \"Project\") & df[desc_col].str.contains(\"4R - Added Capacity\"):\n",
    "#             return (\"Added Roadway Capacity\")\n",
    "        \n",
    "#         elif (df[flag_col] == \"Project\") & df[desc_col].str.contains(\"4R - No Added Capacity\"):\n",
    "#             return (\"Road Construction\")\n",
    "        \n",
    "#         elif (df[flag_col] == \"Project\") & df[desc_col].str.contains(\"New  Construction Roadway\"):\n",
    "#             return (\"New Construction Roadway\")\n",
    "        \n",
    "#         elif (df[flag_col] == \"Project\") & df[desc_col].str.contains(\"Traffic Management/Engineering - HOV\"):\n",
    "#             return (\"Traffic Management Project\")\n",
    "        \n",
    "#         elif (df[flag_col] == \"Project\") & df[desc_col].str.contains(\"Right of Way\"):\n",
    "#             return (df[desc_col] + \" Project\")\n",
    "        \n",
    "#         # elif (df[flag_col] == \"Project\") & (df[program_code_desc_col]== \"National Highway Performance Program (NHPP)\"): \n",
    "#         #     return (\"National Highway Performance Program Support\") \n",
    "        \n",
    "#         # elif (df[flag_col] == \"Project\") & (df[desc_col] != \"Other\"):\n",
    "#         #     return (df[desc_col])\n",
    "    \n",
    "#         else:\n",
    "#             return df[flag_col] \n",
    "\n",
    "#         return df\n",
    "\n",
    "#     df['project_type2'] = df.apply(return_project_type, axis = 1)\n",
    "\n",
    "#     return df"
   ]
  },
  {
   "cell_type": "code",
   "execution_count": null,
   "id": "9d8f6e3f-bd58-41e8-ac15-0c27b89b9e01",
   "metadata": {},
   "outputs": [],
   "source": [
    "#test_df2 = update_no_matched(test_df, 'project_type', 'improvement_type_description', 'program_code_description')"
   ]
  },
  {
   "cell_type": "code",
   "execution_count": null,
   "id": "076bcd05-8487-46c6-9615-8268f8b9c078",
   "metadata": {},
   "outputs": [],
   "source": [
    "#test_df2.sample(5)"
   ]
  },
  {
   "cell_type": "code",
   "execution_count": null,
   "id": "070206c8-c022-48db-8bb1-aafc6804d23f",
   "metadata": {},
   "outputs": [],
   "source": [
    "#trying another version\n",
    "#update: worked-- moving to utils\n",
    "def add_description_4_no_match(df, desc_col):\n",
    "    ##using np.where. code help: https://stackoverflow.com/questions/43905930/conditional-if-statement-if-value-in-row-contains-string-set-another-column\n",
    "\n",
    "    \n",
    "    ## method for project in first column\n",
    "    df['project_type2'] = (np.where(df[desc_col].str.contains(\"Bridge Rehabilitation\"),\"Bridge Rehabilitation\",\n",
    "                        np.where(df[desc_col].str.contains(\"Bridge Rehabilitation - No Added Capacity\") | df[desc_col].str.contains(\"Bridge Rehabilitation - Added Capacity\"), \"Bridge Rehabilitation\",\n",
    "                        np.where(df[desc_col].str.contains(\"Bridge Replacement - Added Capacity\")| df[desc_col].str.contains(\"Bridge Replacement - No Added Capacity\"), \"Bridge Replacement\",\n",
    "                        np.where(df[desc_col].str.contains(\"Bridge New Construction\")| df[desc_col].str.contains(\"Special Bridge\"), \"Bridge Replacement\",\n",
    "                        np.where(df[desc_col].str.contains(\"Facilities for Pedestrians and Bicycles\"), \"Facilities for Pedestrians and Bicycles\",\n",
    "                        np.where(df[desc_col].str.contains(\"Mitigation of Water Pollution due to Highway Runoff\"), \"Mitigation of Water Pollution due to Highway Runoff\",\n",
    "                        np.where(df[desc_col].str.contains(\"Traffic Management/Engineering - HOV\"), \"Traffic Management Project\",\n",
    "                        np.where(df[desc_col].str.contains(\"Planning \"), \"Project Planning\",\n",
    "                        np.where(df[desc_col].str.contains(\"4R - Restoration & Rehabilitation\"), \"Road Restoration & Rehabilitation\",\n",
    "                        np.where(df[desc_col].str.contains(\"4R - Maintenance  Resurfacing\"), \"Maintenance Resurfacing\",\n",
    "                        np.where(df[desc_col].str.contains(\"4R - Added Capacity\"), \"Added Roadway Capacity\",\n",
    "                        np.where(df[desc_col].str.contains(\"4R - No Added Capacity\"), \"Road Construction\",\n",
    "                        np.where(df[desc_col].str.contains(\"Safety\"), \"Safety Improvements\",\n",
    "                        np.where(df[desc_col].str.contains(\"New  Construction Roadway\"), \"New Construction Roadway\",\n",
    "                        np.where(df[desc_col].str.contains(\"Preliminary Engineering\"), \"Preliminary Engineering Projects\",\n",
    "                        np.where(df[desc_col].str.contains(\"Construction Engineering\"), \"Construction Engineering Projects\",\n",
    "                        np.where(df[desc_col].str.contains(\"Right of Way\"), \"Right of Way Project\",\n",
    "                                    \"Project\"))))))))))))))))))\n",
    "    \n",
    "    return df"
   ]
  },
  {
   "cell_type": "code",
   "execution_count": null,
   "id": "69db122c-2c34-46ac-96a0-da4e4806f46a",
   "metadata": {},
   "outputs": [],
   "source": [
    "test_df3 = add_description_4_no_match(test_df, 'improvement_type_description')"
   ]
  },
  {
   "cell_type": "code",
   "execution_count": null,
   "id": "86adecad-7d82-4675-9527-c401206ec342",
   "metadata": {},
   "outputs": [],
   "source": [
    "test_df3.project_type2.value_counts()"
   ]
  },
  {
   "cell_type": "code",
   "execution_count": null,
   "id": "7a9ef4d9-bbfd-45fc-9e6f-025420ff065d",
   "metadata": {
    "tags": []
   },
   "outputs": [],
   "source": [
    "test_df3.loc[0:60]"
   ]
  },
  {
   "cell_type": "code",
   "execution_count": null,
   "id": "379d66ca-ba5f-4746-864e-3f9ce5ff7b98",
   "metadata": {},
   "outputs": [],
   "source": []
  },
  {
   "cell_type": "code",
   "execution_count": null,
   "id": "9e69c3ab-1de1-4695-b199-e8f86129713f",
   "metadata": {},
   "outputs": [],
   "source": [
    "test_df3>>filter(_.improvement_type_description.str.contains(\"Other\"))"
   ]
  },
  {
   "cell_type": "code",
   "execution_count": null,
   "id": "7406a8c4-71ab-4f66-bffa-755a4067c371",
   "metadata": {},
   "outputs": [],
   "source": []
  },
  {
   "cell_type": "markdown",
   "id": "471959a7-c5b0-4e3c-8011-3f48d345fbdf",
   "metadata": {
    "tags": []
   },
   "source": [
    "### Add new function to larger function"
   ]
  },
  {
   "cell_type": "code",
   "execution_count": null,
   "id": "e112e6ce-5dfe-454e-b2ae-966fae25cfa5",
   "metadata": {},
   "outputs": [],
   "source": [
    "# using df_agg\n",
    "\n",
    "df = utils.condense_df(df)"
   ]
  },
  {
   "cell_type": "code",
   "execution_count": null,
   "id": "473b4a81-f4a5-4785-8813-70b21e188189",
   "metadata": {},
   "outputs": [],
   "source": [
    "proj_unique_cat = utils.add_description(df, 'project_title')"
   ]
  },
  {
   "cell_type": "code",
   "execution_count": null,
   "id": "0afd19c8-05d8-4ae9-8607-0455ce381644",
   "metadata": {},
   "outputs": [],
   "source": [
    "len(proj_unique_cat>>filter(_.project_type=='Project'))"
   ]
  },
  {
   "cell_type": "code",
   "execution_count": null,
   "id": "8af1912f-612a-4d03-8a0a-aae7a52f5900",
   "metadata": {},
   "outputs": [],
   "source": [
    "proj_unique_cat.loc[proj_unique_cat['project_type'] == 'Project', 'project_method'] = \"\""
   ]
  },
  {
   "cell_type": "code",
   "execution_count": null,
   "id": "97ebedb0-0f37-42c2-97c9-1f1884622d19",
   "metadata": {},
   "outputs": [],
   "source": [
    "proj_unique_cat['project_type'] = proj_unique_cat['project_type'].replace('Project', np.NaN)"
   ]
  },
  {
   "cell_type": "code",
   "execution_count": null,
   "id": "78ca8d83-4162-48b6-ae0a-a5f5f60066fd",
   "metadata": {},
   "outputs": [],
   "source": [
    "proj_unique_cat_title =  utils.add_description_4_no_match(proj_unique_cat, 'improvement_type_description')\n"
   ]
  },
  {
   "cell_type": "code",
   "execution_count": null,
   "id": "b70905e5-e7f0-4eed-8bca-ef8baad25da6",
   "metadata": {},
   "outputs": [],
   "source": [
    "proj_unique_cat_title['project_type'] = proj_unique_cat_title['project_type'].fillna(proj_unique_cat_title['project_type2'])\n"
   ]
  },
  {
   "cell_type": "code",
   "execution_count": null,
   "id": "2813cd5d-5ab5-4e1a-b012-18d940f45534",
   "metadata": {},
   "outputs": [],
   "source": [
    "proj_unique_cat_title = utils.add_new_title(proj_unique_cat, \"project_method\", \"project_type\", \"implementing_agency\", \"county_name\")\n"
   ]
  },
  {
   "cell_type": "code",
   "execution_count": null,
   "id": "a0362d62-bf5e-4753-9faa-d2bef2297782",
   "metadata": {},
   "outputs": [],
   "source": [
    "proj_unique_cat_title = proj_unique_cat_title.rename(columns={'project_name_new':'project_title_new'})\n",
    "#proj_unique_cat_title.drop(columns =['project_method', 'project_type', 'project_type2'], axis=1, inplace=True)"
   ]
  },
  {
   "cell_type": "code",
   "execution_count": null,
   "id": "bc4da084-82ed-4f3e-9863-354bb600f575",
   "metadata": {},
   "outputs": [],
   "source": [
    "proj_title_mapping = (dict(proj_unique_cat_title[['project_number', 'project_title_new']].values))"
   ]
  },
  {
   "cell_type": "code",
   "execution_count": null,
   "id": "89c215f8-54ec-4910-a88b-90de342c388b",
   "metadata": {},
   "outputs": [],
   "source": [
    "df['project_title_new'] = df.project_number.map(proj_title_mapping)"
   ]
  },
  {
   "cell_type": "code",
   "execution_count": null,
   "id": "e70601e5-1749-42ed-8f8d-6a69bf1bbe3e",
   "metadata": {},
   "outputs": [],
   "source": [
    "df"
   ]
  },
  {
   "cell_type": "code",
   "execution_count": null,
   "id": "3135ebb9-3fa9-48df-a393-feca09d0d1dc",
   "metadata": {
    "tags": []
   },
   "outputs": [],
   "source": [
    "# from get_new_desc_title\n",
    "    \n",
    "    \n",
    "#     proj_unique_cat = add_description(proj_unique, 'project_title')\n",
    "    \n",
    "#     #remove project method column values so that the title function wont double count\n",
    "#     proj_unique_cat.loc[proj_unique_cat['project_type'] == 'Project', 'project_method'] = \"\"\n",
    "    # proj_unique_cat['project_type'].replace('Project', np.NaN)\n",
    "    \n",
    "    #update for the projects not in the first round of descriptions\n",
    "    # proj_unique_cat_title =  add_description_4_no_match(proj_unique_cat, 'improvement_type_description')\n",
    "    ## proj_unique_cat_title = update_no_matched(proj_unique_cat, \"project_type\", 'improvement_type_description', 'program_code_description')\n",
    "    \n",
    "    #fill nan values in 'Project_type' with values from 'project_type2' from add_description_4_no_match function\n",
    "    # proj_unique_cat_title['project_type'] = proj_unique_cat_title['project_type'].fillna(proj_unique_cat_title['project_type2'])\n",
    "    \n",
    "    #add title - second round to account for statewide projects\n",
    "    # proj_unique_cat_title = add_new_title(proj_unique_cat, \"project_method\", \"project_type\", \"implementing_agency\", \"county_name\")\n",
    "    \n",
    "    # rename new title one\n",
    "    # proj_unique_cat_title = proj_unique_cat_title.rename(columns={'project_name_new':'project_title_new'})\n",
    "    # proj_unique_cat_title.drop(columns =['project_method', 'project_type', 'project_type2'], axis=1, inplace=True)\n",
    "    \n",
    "    #map the title back to df\n",
    "#     proj_title_mapping = (dict(proj_unique_cat_title[['project_number', 'project_title_new']].values))\n",
    "    \n",
    "#     df['project_title_new'] = df.project_number.map(proj_title_mapping)\n",
    "\n",
    "#     return df"
   ]
  },
  {
   "cell_type": "code",
   "execution_count": null,
   "id": "2ffa6362-96aa-4632-80fb-e8ec5396331e",
   "metadata": {},
   "outputs": [],
   "source": []
  },
  {
   "cell_type": "code",
   "execution_count": null,
   "id": "7a8b4474-ac36-4091-956e-84d323da8609",
   "metadata": {},
   "outputs": [],
   "source": []
  },
  {
   "cell_type": "code",
   "execution_count": null,
   "id": "f59cdbb0-0af0-4e58-b699-a58b2667f0e4",
   "metadata": {},
   "outputs": [],
   "source": []
  },
  {
   "cell_type": "markdown",
   "id": "5a3bc3f6-3a64-43cb-96c0-e1b3cccfdcc5",
   "metadata": {},
   "source": [
    "## Test & Export"
   ]
  },
  {
   "cell_type": "code",
   "execution_count": 4,
   "id": "9a4baf5b-26ea-4a39-aac6-6670bfc9ceea",
   "metadata": {},
   "outputs": [],
   "source": [
    "GCS_FILE_PATH  = 'gs://calitp-analytics-data/data-analyses/dla/dla-iija'"
   ]
  },
  {
   "cell_type": "code",
   "execution_count": 5,
   "id": "ff85167d-819b-4f2d-9c05-95b4bbb69212",
   "metadata": {},
   "outputs": [],
   "source": [
    "###test agg. PASS df with title column, concat and 552 rows\n",
    "agg = utils.get_clean_data(full_or_agg = 'agg')"
   ]
  },
  {
   "cell_type": "code",
   "execution_count": null,
   "id": "0c8494a6-0e98-4a6d-978e-25b626b225d9",
   "metadata": {
    "scrolled": true,
    "tags": []
   },
   "outputs": [],
   "source": [
    "sorted(list(agg.project_title_new))"
   ]
  },
  {
   "cell_type": "code",
   "execution_count": null,
   "id": "439c7fec-b657-4abe-9339-7b4c266dc270",
   "metadata": {},
   "outputs": [],
   "source": []
  },
  {
   "cell_type": "code",
   "execution_count": 6,
   "id": "6c3014c5-a399-4323-904f-610e011c9447",
   "metadata": {},
   "outputs": [
    {
     "data": {
      "text/html": [
       "<div>\n",
       "<style scoped>\n",
       "    .dataframe tbody tr th:only-of-type {\n",
       "        vertical-align: middle;\n",
       "    }\n",
       "\n",
       "    .dataframe tbody tr th {\n",
       "        vertical-align: top;\n",
       "    }\n",
       "\n",
       "    .dataframe thead th {\n",
       "        text-align: right;\n",
       "    }\n",
       "</style>\n",
       "<table border=\"1\" class=\"dataframe\">\n",
       "  <thead>\n",
       "    <tr style=\"text-align: right;\">\n",
       "      <th></th>\n",
       "      <th>fmis_transaction_date</th>\n",
       "      <th>project_number</th>\n",
       "      <th>implementing_agency</th>\n",
       "      <th>summary_recipient_defined_text_field_1_value</th>\n",
       "      <th>program_code</th>\n",
       "      <th>program_code_description</th>\n",
       "      <th>recipient_project_number</th>\n",
       "      <th>improvement_type</th>\n",
       "      <th>improvement_type_description</th>\n",
       "      <th>project_title</th>\n",
       "      <th>obligations_amount</th>\n",
       "      <th>congressional_district</th>\n",
       "      <th>district</th>\n",
       "      <th>county_code</th>\n",
       "      <th>county_name</th>\n",
       "      <th>implementing_agency_locode</th>\n",
       "      <th>rtpa_name</th>\n",
       "      <th>mpo_name</th>\n",
       "      <th>project_title_new</th>\n",
       "    </tr>\n",
       "  </thead>\n",
       "  <tbody>\n",
       "    <tr>\n",
       "      <th>219</th>\n",
       "      <td>2022-06-14</td>\n",
       "      <td>5060377</td>\n",
       "      <td>Fresno</td>\n",
       "      <td>L5060COFCG</td>\n",
       "      <td>Y400</td>\n",
       "      <td>Congestion Mitigation &amp; Air Quality Improvement (CMAQ)</td>\n",
       "      <td>0621000057L</td>\n",
       "      <td>24.0</td>\n",
       "      <td>Traffic Management/Engineering - HOV</td>\n",
       "      <td>JENSEN AVE. FROM ELM AVENUE TO TEMPERANCE AVENUE INSTALL ITS ADAPTIVE SYSTEM, UPGRADE DETECTION AND SYNCHRONIZE CORRIDOR. (TC)</td>\n",
       "      <td>1057300.00</td>\n",
       "      <td>Cong Dist 16 | Cong Dist 22</td>\n",
       "      <td>6.0</td>\n",
       "      <td>19.0</td>\n",
       "      <td>Fresno County</td>\n",
       "      <td>5060.0</td>\n",
       "      <td>Council of Fresno County Governments</td>\n",
       "      <td>Council Of Fresno County Goverments</td>\n",
       "      <td>Install Synchronize Corridor in Fresno</td>\n",
       "    </tr>\n",
       "    <tr>\n",
       "      <th>309</th>\n",
       "      <td>2022-07-18</td>\n",
       "      <td>5937207</td>\n",
       "      <td>Santa Clara County</td>\n",
       "      <td>L5937MTC</td>\n",
       "      <td>Y233</td>\n",
       "      <td>Surface Transportation Block Grant (STBG) Program</td>\n",
       "      <td>0417000077L</td>\n",
       "      <td>15.0 | 16.0</td>\n",
       "      <td>Preliminary Engineering | Right of Way</td>\n",
       "      <td>ALDERCROFT HEIGHTS ROAD OVER LOS GATOS CREEK 2.38 MILES SOUTH OF LOS GATOS SC ROAD. BRIDGE 37C0508 REPLACE EXISTING ONE-LANE BRIDGE WITH A NEW 2-LANE</td>\n",
       "      <td>330479.53</td>\n",
       "      <td>Cong Dist 18</td>\n",
       "      <td>4.0</td>\n",
       "      <td>85.0</td>\n",
       "      <td>Santa Clara County</td>\n",
       "      <td>5937.0</td>\n",
       "      <td>Metropolitan Transportation Commission</td>\n",
       "      <td>Metropolitan Transportation Commission</td>\n",
       "      <td>Replace Bridge in Santa Clara County</td>\n",
       "    </tr>\n",
       "    <tr>\n",
       "      <th>408</th>\n",
       "      <td>2022-09-01</td>\n",
       "      <td>2152252</td>\n",
       "      <td>California</td>\n",
       "      <td>S    SCAG</td>\n",
       "      <td>YS30</td>\n",
       "      <td>Highway Safety Improvement Program (HSIP)</td>\n",
       "      <td>0819000045S</td>\n",
       "      <td>17.0 | 21.0 | 42.0</td>\n",
       "      <td>Construction Engineering | Safety | Training</td>\n",
       "      <td>IN RIVERSIDE COUNTY NEAR MORENO VALLEY ON INTERSTATE 215 FROM 0.2 MILE NORTH OF ALESSANDRO BOULEVARD OVERCROSSING TO 0.2 MILE SOUTH OF EUCALYPTUS AVE</td>\n",
       "      <td>5867900.00</td>\n",
       "      <td>Cong Dist 41</td>\n",
       "      <td>8.0</td>\n",
       "      <td>65.0</td>\n",
       "      <td>Riverside County</td>\n",
       "      <td>nan</td>\n",
       "      <td>None</td>\n",
       "      <td>None</td>\n",
       "      <td>Safety Improvements in Riverside County</td>\n",
       "    </tr>\n",
       "    <tr>\n",
       "      <th>3</th>\n",
       "      <td>2022-02-09</td>\n",
       "      <td>5117016</td>\n",
       "      <td>Hercules</td>\n",
       "      <td>L5117MTC</td>\n",
       "      <td>Y230</td>\n",
       "      <td>Surface Transportation Block Grant (STBG) Program</td>\n",
       "      <td>0420000346L</td>\n",
       "      <td>5.0</td>\n",
       "      <td>4R - Maintenance  Resurfacing</td>\n",
       "      <td>HERCULES: SYCAMORE AVE FROM CIVIC DR TO WILLOW/PALM AVE PAVEMENT REHABILITATION</td>\n",
       "      <td>492000.00</td>\n",
       "      <td>Cong Dist 5</td>\n",
       "      <td>4.0</td>\n",
       "      <td>13.0</td>\n",
       "      <td>Contra Costa County</td>\n",
       "      <td>5117.0</td>\n",
       "      <td>Metropolitan Transportation Commission</td>\n",
       "      <td>Metropolitan Transportation Commission</td>\n",
       "      <td>Pavement Rehabilitation in Hercules</td>\n",
       "    </tr>\n",
       "    <tr>\n",
       "      <th>148</th>\n",
       "      <td>2022-05-09</td>\n",
       "      <td>P002041</td>\n",
       "      <td>California</td>\n",
       "      <td>S    SCAG</td>\n",
       "      <td>YS30</td>\n",
       "      <td>Highway Safety Improvement Program (HSIP)</td>\n",
       "      <td>0716000270S</td>\n",
       "      <td>17.0 | 21.0 | 42.0</td>\n",
       "      <td>Construction Engineering | Safety | Training</td>\n",
       "      <td>IN LOS ANGELES COUNTY FROM BAY TREE RD TO BIG PINES HWYINSTALL AND UPGRADE MBGR THE PROJECT PROPOSES TO UPGRADE THE EXISTING NON-STANDARD METAL BEAM</td>\n",
       "      <td>20039900.00</td>\n",
       "      <td>Cong Dist 27 | Cong Dist 28</td>\n",
       "      <td>7.0</td>\n",
       "      <td>37.0</td>\n",
       "      <td>Los Angeles County</td>\n",
       "      <td>nan</td>\n",
       "      <td>None</td>\n",
       "      <td>None</td>\n",
       "      <td>Safety Improvements in Los Angeles County</td>\n",
       "    </tr>\n",
       "  </tbody>\n",
       "</table>\n",
       "</div>"
      ],
      "text/plain": [
       "    fmis_transaction_date project_number implementing_agency  \\\n",
       "219            2022-06-14        5060377              Fresno   \n",
       "309            2022-07-18        5937207  Santa Clara County   \n",
       "408            2022-09-01        2152252          California   \n",
       "3              2022-02-09        5117016            Hercules   \n",
       "148            2022-05-09        P002041          California   \n",
       "\n",
       "    summary_recipient_defined_text_field_1_value program_code  \\\n",
       "219                                   L5060COFCG         Y400   \n",
       "309                                     L5937MTC         Y233   \n",
       "408                                    S    SCAG         YS30   \n",
       "3                                       L5117MTC         Y230   \n",
       "148                                    S    SCAG         YS30   \n",
       "\n",
       "                                   program_code_description  \\\n",
       "219  Congestion Mitigation & Air Quality Improvement (CMAQ)   \n",
       "309       Surface Transportation Block Grant (STBG) Program   \n",
       "408               Highway Safety Improvement Program (HSIP)   \n",
       "3         Surface Transportation Block Grant (STBG) Program   \n",
       "148               Highway Safety Improvement Program (HSIP)   \n",
       "\n",
       "    recipient_project_number    improvement_type  \\\n",
       "219              0621000057L                24.0   \n",
       "309              0417000077L         15.0 | 16.0   \n",
       "408              0819000045S  17.0 | 21.0 | 42.0   \n",
       "3                0420000346L                 5.0   \n",
       "148              0716000270S  17.0 | 21.0 | 42.0   \n",
       "\n",
       "                     improvement_type_description  \\\n",
       "219          Traffic Management/Engineering - HOV   \n",
       "309        Preliminary Engineering | Right of Way   \n",
       "408  Construction Engineering | Safety | Training   \n",
       "3                   4R - Maintenance  Resurfacing   \n",
       "148  Construction Engineering | Safety | Training   \n",
       "\n",
       "                                                                                                                                             project_title  \\\n",
       "219                         JENSEN AVE. FROM ELM AVENUE TO TEMPERANCE AVENUE INSTALL ITS ADAPTIVE SYSTEM, UPGRADE DETECTION AND SYNCHRONIZE CORRIDOR. (TC)   \n",
       "309  ALDERCROFT HEIGHTS ROAD OVER LOS GATOS CREEK 2.38 MILES SOUTH OF LOS GATOS SC ROAD. BRIDGE 37C0508 REPLACE EXISTING ONE-LANE BRIDGE WITH A NEW 2-LANE   \n",
       "408  IN RIVERSIDE COUNTY NEAR MORENO VALLEY ON INTERSTATE 215 FROM 0.2 MILE NORTH OF ALESSANDRO BOULEVARD OVERCROSSING TO 0.2 MILE SOUTH OF EUCALYPTUS AVE   \n",
       "3                                                                          HERCULES: SYCAMORE AVE FROM CIVIC DR TO WILLOW/PALM AVE PAVEMENT REHABILITATION   \n",
       "148   IN LOS ANGELES COUNTY FROM BAY TREE RD TO BIG PINES HWYINSTALL AND UPGRADE MBGR THE PROJECT PROPOSES TO UPGRADE THE EXISTING NON-STANDARD METAL BEAM   \n",
       "\n",
       "     obligations_amount       congressional_district district county_code  \\\n",
       "219          1057300.00  Cong Dist 16 | Cong Dist 22      6.0        19.0   \n",
       "309           330479.53                 Cong Dist 18      4.0        85.0   \n",
       "408          5867900.00                 Cong Dist 41      8.0        65.0   \n",
       "3             492000.00                  Cong Dist 5      4.0        13.0   \n",
       "148         20039900.00  Cong Dist 27 | Cong Dist 28      7.0        37.0   \n",
       "\n",
       "             county_name implementing_agency_locode  \\\n",
       "219        Fresno County                     5060.0   \n",
       "309   Santa Clara County                     5937.0   \n",
       "408     Riverside County                        nan   \n",
       "3    Contra Costa County                     5117.0   \n",
       "148   Los Angeles County                        nan   \n",
       "\n",
       "                                  rtpa_name  \\\n",
       "219    Council of Fresno County Governments   \n",
       "309  Metropolitan Transportation Commission   \n",
       "408                                    None   \n",
       "3    Metropolitan Transportation Commission   \n",
       "148                                    None   \n",
       "\n",
       "                                   mpo_name  \\\n",
       "219     Council Of Fresno County Goverments   \n",
       "309  Metropolitan Transportation Commission   \n",
       "408                                    None   \n",
       "3    Metropolitan Transportation Commission   \n",
       "148                                    None   \n",
       "\n",
       "                              project_title_new  \n",
       "219      Install Synchronize Corridor in Fresno  \n",
       "309        Replace Bridge in Santa Clara County  \n",
       "408     Safety Improvements in Riverside County  \n",
       "3           Pavement Rehabilitation in Hercules  \n",
       "148   Safety Improvements in Los Angeles County  "
      ]
     },
     "execution_count": 6,
     "metadata": {},
     "output_type": "execute_result"
    }
   ],
   "source": [
    "agg.sample(5)"
   ]
  },
  {
   "cell_type": "code",
   "execution_count": 7,
   "id": "388a2112-cc55-46cd-8fa1-941fadb70f13",
   "metadata": {},
   "outputs": [],
   "source": [
    "agg = utils.title_column_names(agg)"
   ]
  },
  {
   "cell_type": "code",
   "execution_count": 11,
   "id": "ece0441f-a6de-4463-a1d4-0186ea818c6e",
   "metadata": {},
   "outputs": [
    {
     "data": {
      "text/plain": [
       "552"
      ]
     },
     "execution_count": 11,
     "metadata": {},
     "output_type": "execute_result"
    }
   ],
   "source": [
    "len(agg)"
   ]
  },
  {
   "cell_type": "code",
   "execution_count": 14,
   "id": "47f3bb4e-2507-45ed-81d5-e2d241ed0bba",
   "metadata": {},
   "outputs": [
    {
     "data": {
      "text/html": [
       "<div>\n",
       "<style scoped>\n",
       "    .dataframe tbody tr th:only-of-type {\n",
       "        vertical-align: middle;\n",
       "    }\n",
       "\n",
       "    .dataframe tbody tr th {\n",
       "        vertical-align: top;\n",
       "    }\n",
       "\n",
       "    .dataframe thead th {\n",
       "        text-align: right;\n",
       "    }\n",
       "</style>\n",
       "<table border=\"1\" class=\"dataframe\">\n",
       "  <thead>\n",
       "    <tr style=\"text-align: right;\">\n",
       "      <th></th>\n",
       "      <th>Fmis Transaction Date</th>\n",
       "      <th>Project Number</th>\n",
       "      <th>Implementing Agency</th>\n",
       "      <th>Summary Recipient Defined Text Field 1 Value</th>\n",
       "      <th>Program Code</th>\n",
       "      <th>Program Code Description</th>\n",
       "      <th>Recipient Project Number</th>\n",
       "      <th>Improvement Type</th>\n",
       "      <th>Improvement Type Description</th>\n",
       "      <th>Project Title</th>\n",
       "      <th>Obligations Amount</th>\n",
       "      <th>Congressional District</th>\n",
       "      <th>District</th>\n",
       "      <th>County Code</th>\n",
       "      <th>County Name</th>\n",
       "      <th>Implementing Agency Locode</th>\n",
       "      <th>Rtpa Name</th>\n",
       "      <th>Mpo Name</th>\n",
       "      <th>Project Title New</th>\n",
       "    </tr>\n",
       "  </thead>\n",
       "  <tbody>\n",
       "    <tr>\n",
       "      <th>0</th>\n",
       "      <td>2022-02-04</td>\n",
       "      <td>5064095</td>\n",
       "      <td>Pasadena</td>\n",
       "      <td>L5064SCAG</td>\n",
       "      <td>YS30</td>\n",
       "      <td>Highway Safety Improvement Program (HSIP)</td>\n",
       "      <td>0721000154L</td>\n",
       "      <td>17.0 | 21.0</td>\n",
       "      <td>Construction Engineering | Safety</td>\n",
       "      <td>VARIOUS LOCATIONS THROUGHOUT THE WEST SIDE OF THE CITY. REPAIR EXISTING DAMAGED GUARDRAI</td>\n",
       "      <td>289000.0</td>\n",
       "      <td>Cong Dist 27</td>\n",
       "      <td>7.0</td>\n",
       "      <td>37.0</td>\n",
       "      <td>Los Angeles County</td>\n",
       "      <td>5064.0</td>\n",
       "      <td>Los Angeles County Metropolitan Transportation Auth.</td>\n",
       "      <td>Southern California Association Of Governments</td>\n",
       "      <td>Repair Guardrails in Pasadena</td>\n",
       "    </tr>\n",
       "  </tbody>\n",
       "</table>\n",
       "</div>"
      ],
      "text/plain": [
       "  Fmis Transaction Date Project Number Implementing Agency  \\\n",
       "0            2022-02-04        5064095            Pasadena   \n",
       "\n",
       "  Summary Recipient Defined Text Field 1 Value Program Code  \\\n",
       "0                                    L5064SCAG         YS30   \n",
       "\n",
       "                    Program Code Description Recipient Project Number  \\\n",
       "0  Highway Safety Improvement Program (HSIP)              0721000154L   \n",
       "\n",
       "  Improvement Type       Improvement Type Description  \\\n",
       "0      17.0 | 21.0  Construction Engineering | Safety   \n",
       "\n",
       "                                                                              Project Title  \\\n",
       "0  VARIOUS LOCATIONS THROUGHOUT THE WEST SIDE OF THE CITY. REPAIR EXISTING DAMAGED GUARDRAI   \n",
       "\n",
       "   Obligations Amount Congressional District District County Code  \\\n",
       "0            289000.0           Cong Dist 27      7.0        37.0   \n",
       "\n",
       "          County Name Implementing Agency Locode  \\\n",
       "0  Los Angeles County                     5064.0   \n",
       "\n",
       "                                              Rtpa Name  \\\n",
       "0  Los Angeles County Metropolitan Transportation Auth.   \n",
       "\n",
       "                                         Mpo Name  \\\n",
       "0  Southern California Association Of Governments   \n",
       "\n",
       "               Project Title New  \n",
       "0  Repair Guardrails in Pasadena  "
      ]
     },
     "execution_count": 14,
     "metadata": {},
     "output_type": "execute_result"
    }
   ],
   "source": [
    "agg.head(1)"
   ]
  },
  {
   "cell_type": "code",
   "execution_count": 17,
   "id": "f155b555-fa3a-4d58-bed0-ccbb7e63f096",
   "metadata": {},
   "outputs": [
    {
     "data": {
      "text/plain": [
       "dtype('O')"
      ]
     },
     "execution_count": 17,
     "metadata": {},
     "output_type": "execute_result"
    }
   ],
   "source": [
    "agg.District.dtypes"
   ]
  },
  {
   "cell_type": "code",
   "execution_count": 18,
   "id": "0916dfec-44d4-487e-ab30-56990ea769ad",
   "metadata": {},
   "outputs": [
    {
     "data": {
      "text/plain": [
       "4.0           101\n",
       "3.0            81\n",
       "10.0           57\n",
       "7.0            53\n",
       "8.0            50\n",
       "6.0            45\n",
       "nan            41\n",
       "12.0           29\n",
       "5.0            23\n",
       "11.0           23\n",
       "1.0            17\n",
       "2.0            17\n",
       "9.0            10\n",
       "7.0 | 8.0       2\n",
       "7.0 | 12.0      1\n",
       "1.0 | 11.0      1\n",
       "4.0 | 5.0       1\n",
       "Name: District, dtype: int64"
      ]
     },
     "execution_count": 18,
     "metadata": {},
     "output_type": "execute_result"
    }
   ],
   "source": [
    "agg.District.value_counts()"
   ]
  },
  {
   "cell_type": "code",
   "execution_count": 8,
   "id": "34a4b598-72fc-4f2c-b9bc-97e2d0beb640",
   "metadata": {},
   "outputs": [],
   "source": [
    "# agg.to_csv(f\"{GCS_FILE_PATH}/FMIS_projects_agg.csv\")"
   ]
  },
  {
   "cell_type": "code",
   "execution_count": null,
   "id": "deaaca55-60b4-4e16-9ec1-ee32ec3a44da",
   "metadata": {},
   "outputs": [],
   "source": []
  },
  {
   "cell_type": "code",
   "execution_count": 9,
   "id": "3c0b9e81-97dc-4a86-bb83-511b71921a4a",
   "metadata": {},
   "outputs": [],
   "source": [
    "###test full. PASS title, no concat and 1241 rows\n",
    "full = utils.get_clean_data(full_or_agg = 'full')"
   ]
  },
  {
   "cell_type": "code",
   "execution_count": 10,
   "id": "744f085e-5578-42c9-85f1-444f7b7a24f1",
   "metadata": {},
   "outputs": [],
   "source": [
    "full = utils.title_column_names(full)"
   ]
  },
  {
   "cell_type": "code",
   "execution_count": null,
   "id": "c5c6d5bb-7c60-4c70-ab20-8483d6bff093",
   "metadata": {},
   "outputs": [],
   "source": [
    "# full.to_csv(f\"{GCS_FILE_PATH}/FMIS_projects_all.csv\")"
   ]
  },
  {
   "cell_type": "code",
   "execution_count": 12,
   "id": "8648d690-b83e-4de2-9c21-27f59f11dcb4",
   "metadata": {},
   "outputs": [
    {
     "data": {
      "text/plain": [
       "1241"
      ]
     },
     "execution_count": 12,
     "metadata": {},
     "output_type": "execute_result"
    }
   ],
   "source": [
    "len(full)"
   ]
  },
  {
   "cell_type": "code",
   "execution_count": null,
   "id": "e578a2f3-085c-489a-83e6-94bed8e2ced5",
   "metadata": {},
   "outputs": [],
   "source": []
  }
 ],
 "metadata": {
  "kernelspec": {
   "display_name": "Python 3 (ipykernel)",
   "language": "python",
   "name": "python3"
  },
  "language_info": {
   "codemirror_mode": {
    "name": "ipython",
    "version": 3
   },
   "file_extension": ".py",
   "mimetype": "text/x-python",
   "name": "python",
   "nbconvert_exporter": "python",
   "pygments_lexer": "ipython3",
   "version": "3.9.13"
  },
  "widgets": {
   "application/vnd.jupyter.widget-state+json": {
    "state": {},
    "version_major": 2,
    "version_minor": 0
   }
  }
 },
 "nbformat": 4,
 "nbformat_minor": 5
}
