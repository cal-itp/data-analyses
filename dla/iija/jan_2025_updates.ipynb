{
 "cells": [
  {
   "cell_type": "markdown",
   "id": "39fa43a3-fc6a-4347-8dce-fe3f239bcd7e",
   "metadata": {},
   "source": [
    "## Requested updates submitted January 2025\n",
    "* Using the additional lists provided, can you please update your script to include additional program codes\n",
    "* Updates to program descriptions as highlighted in column C \n",
    "* Adding the funding type from column F in the script output. \n",
    "* Use the “RK Locode” column K in the Project list as the Primary Locode, and if blank, use your current data source to populate the implementing agency."
   ]
  },
  {
   "cell_type": "code",
   "execution_count": 1,
   "id": "a4b399a9-eb35-4373-b4d6-3758577c1da3",
   "metadata": {
    "tags": []
   },
   "outputs": [],
   "source": [
    "import _data_utils\n",
    "import _script_utils\n",
    "import numpy as np\n",
    "from siuba import *\n",
    "import pandas as pd\n",
    "from calitp_data_analysis.sql import to_snakecase"
   ]
  },
  {
   "cell_type": "code",
   "execution_count": 2,
   "id": "66ca9f6d-c09b-4afc-a1a4-3b36026c9b50",
   "metadata": {
    "tags": []
   },
   "outputs": [],
   "source": [
    "pd.options.display.max_columns = 100\n",
    "pd.options.display.float_format = \"{:.2f}\".format\n",
    "pd.set_option(\"display.max_rows\", None)\n",
    "pd.set_option(\"display.max_colwidth\", None)"
   ]
  },
  {
   "cell_type": "code",
   "execution_count": 3,
   "id": "a8dd533a-4b2c-4b4e-abad-d48d888af034",
   "metadata": {
    "tags": []
   },
   "outputs": [],
   "source": [
    "GCS_FILE_PATH = \"gs://calitp-analytics-data/data-analyses/dla/dla-iija\""
   ]
  },
  {
   "cell_type": "code",
   "execution_count": 4,
   "id": "a34ba60d-9026-4195-90be-8f83be39a408",
   "metadata": {
    "tags": []
   },
   "outputs": [],
   "source": [
    "project_list = \"IIJA Project List 01_2025.xlsx\""
   ]
  },
  {
   "cell_type": "code",
   "execution_count": 5,
   "id": "7d3c150d-1fa2-4245-98c4-8decbbe3f8b5",
   "metadata": {
    "tags": []
   },
   "outputs": [],
   "source": [
    "project_df = to_snakecase(pd.read_excel(f\"{GCS_FILE_PATH}/{project_list}\"))"
   ]
  },
  {
   "cell_type": "code",
   "execution_count": 6,
   "id": "faed3484-17db-44d9-813d-06d9d7484b72",
   "metadata": {
    "tags": []
   },
   "outputs": [],
   "source": [
    "program_codes = \"program_codes/Ycodes_01.2025.xlsx\""
   ]
  },
  {
   "cell_type": "code",
   "execution_count": 7,
   "id": "141e34bc-bf6e-4c33-8799-9d1fac407b6b",
   "metadata": {
    "tags": []
   },
   "outputs": [],
   "source": [
    "program_codes_df = to_snakecase(pd.read_excel(f\"{GCS_FILE_PATH}/{program_codes}\"))"
   ]
  },
  {
   "cell_type": "code",
   "execution_count": 8,
   "id": "ab7ef29c-9e39-48ae-b0bd-cb846af2373e",
   "metadata": {
    "tags": []
   },
   "outputs": [
    {
     "data": {
      "text/plain": [
       "Index(['program_code', 'short_name', 'program_code_description',\n",
       "       'funding_type', 'funding_type_code', 'iija_code', 'notes_resources'],\n",
       "      dtype='object')"
      ]
     },
     "execution_count": 8,
     "metadata": {},
     "output_type": "execute_result"
    }
   ],
   "source": [
    "program_codes_df.columns"
   ]
  },
  {
   "cell_type": "markdown",
   "id": "09662f08-2177-481e-9163-67d0a1bb663a",
   "metadata": {},
   "source": [
    "### Why are there so many `unknowns` when I'm using the `rk_locode` column??\n",
    "* B/c the districts column has no values..."
   ]
  },
  {
   "cell_type": "code",
   "execution_count": 9,
   "id": "f391a1c9-f4c1-4f39-ae6b-d15980cca3a2",
   "metadata": {
    "tags": []
   },
   "outputs": [],
   "source": [
    "county_info = _script_utils.county_district_crosswalk()"
   ]
  },
  {
   "cell_type": "code",
   "execution_count": 11,
   "id": "efd5a22b-8f96-44a2-a8ed-eac397bb66d4",
   "metadata": {
    "tags": []
   },
   "outputs": [],
   "source": [
    "df = _data_utils.add_new_codes(project_df)"
   ]
  },
  {
   "cell_type": "code",
   "execution_count": 10,
   "id": "683cb87e-1752-43a9-bdd9-28a15f36f8e6",
   "metadata": {
    "tags": []
   },
   "outputs": [
    {
     "data": {
      "text/html": [
       "<div>\n",
       "<style scoped>\n",
       "    .dataframe tbody tr th:only-of-type {\n",
       "        vertical-align: middle;\n",
       "    }\n",
       "\n",
       "    .dataframe tbody tr th {\n",
       "        vertical-align: top;\n",
       "    }\n",
       "\n",
       "    .dataframe thead th {\n",
       "        text-align: right;\n",
       "    }\n",
       "</style>\n",
       "<table border=\"1\" class=\"dataframe\">\n",
       "  <thead>\n",
       "    <tr style=\"text-align: right;\">\n",
       "      <th></th>\n",
       "      <th>recipient_name</th>\n",
       "      <th>county_description</th>\n",
       "      <th>county_code</th>\n",
       "      <th>district</th>\n",
       "    </tr>\n",
       "  </thead>\n",
       "  <tbody>\n",
       "    <tr>\n",
       "      <th>0</th>\n",
       "      <td>California</td>\n",
       "      <td>Alameda County</td>\n",
       "      <td>1</td>\n",
       "      <td>4.00</td>\n",
       "    </tr>\n",
       "    <tr>\n",
       "      <th>1</th>\n",
       "      <td>California</td>\n",
       "      <td>Alpine County</td>\n",
       "      <td>3</td>\n",
       "      <td>10.00</td>\n",
       "    </tr>\n",
       "    <tr>\n",
       "      <th>2</th>\n",
       "      <td>California</td>\n",
       "      <td>Amador County</td>\n",
       "      <td>5</td>\n",
       "      <td>10.00</td>\n",
       "    </tr>\n",
       "    <tr>\n",
       "      <th>3</th>\n",
       "      <td>California</td>\n",
       "      <td>Butte County</td>\n",
       "      <td>7</td>\n",
       "      <td>3.00</td>\n",
       "    </tr>\n",
       "    <tr>\n",
       "      <th>4</th>\n",
       "      <td>California</td>\n",
       "      <td>Calaveras County</td>\n",
       "      <td>9</td>\n",
       "      <td>10.00</td>\n",
       "    </tr>\n",
       "  </tbody>\n",
       "</table>\n",
       "</div>"
      ],
      "text/plain": [
       "  recipient_name county_description  county_code  district\n",
       "0     California     Alameda County            1      4.00\n",
       "1     California      Alpine County            3     10.00\n",
       "2     California      Amador County            5     10.00\n",
       "3     California       Butte County            7      3.00\n",
       "4     California   Calaveras County            9     10.00"
      ]
     },
     "execution_count": 10,
     "metadata": {},
     "output_type": "execute_result"
    }
   ],
   "source": [
    "county_info.head()"
   ]
  },
  {
   "cell_type": "code",
   "execution_count": 12,
   "id": "99e13287-9d6e-4380-980c-26f9c6ed8fb2",
   "metadata": {
    "tags": []
   },
   "outputs": [],
   "source": [
    "mapping1 = dict(county_info[[\"county_code\", \"county_description\"]].values)\n",
    "mapping2 = dict(county_info[[\"county_code\", \"recipient_name\"]].values)\n",
    "mapping3 = dict(county_info[[\"county_code\", \"district\"]].values)"
   ]
  },
  {
   "cell_type": "code",
   "execution_count": 17,
   "id": "1d3258ba-1c14-4e1e-a93a-3c14184c7eff",
   "metadata": {
    "tags": []
   },
   "outputs": [],
   "source": [
    "# Load dataframe with locodes\n",
    "locodes_df = _script_utils.load_locodes()\n",
    "    \n",
    "# Filter out for rows in which rk_locode is filled\n",
    "filled_locode_df = df.loc[df.rk_locode.notna()].reset_index(drop=True)\n",
    "\n",
    "# Merge the two dataframes\n",
    "filled_locode_df2 = pd.merge(\n",
    "        filled_locode_df,\n",
    "        locodes_df,\n",
    "        left_on=\"rk_locode\",\n",
    "        right_on=\"agency_locode\",\n",
    "        how=\"left\",\n",
    "        indicator=True,\n",
    "    )"
   ]
  },
  {
   "cell_type": "code",
   "execution_count": 20,
   "id": "46731e33-b712-4a93-b6b4-4bb29a7a03e5",
   "metadata": {
    "tags": []
   },
   "outputs": [],
   "source": [
    "# Clean\n",
    "filled_locode_df2 = filled_locode_df2.rename(\n",
    "        columns={\n",
    "            \"rk_locode\": \"implementing_agency_locode\",\n",
    "        }\n",
    "    ).drop(\n",
    "        columns=[\n",
    "            \"active_e76s______7_12_2021_\",\n",
    "            \"mpo_locode_fads\",\n",
    "            \"agency_locode\",\n",
    "            \"_merge\",\n",
    "        ]\n",
    "    )"
   ]
  },
  {
   "cell_type": "code",
   "execution_count": 18,
   "id": "b6057604-d8ef-4d87-8878-5855acbc17ee",
   "metadata": {
    "scrolled": true,
    "tags": []
   },
   "outputs": [
    {
     "name": "stdout",
     "output_type": "stream",
     "text": [
      "<class 'pandas.core.frame.DataFrame'>\n",
      "Int64Index: 3087 entries, 0 to 3086\n",
      "Data columns (total 32 columns):\n",
      " #   Column                                        Non-Null Count  Dtype         \n",
      "---  ------                                        --------------  -----         \n",
      " 0   fmis_transaction_date                         3087 non-null   datetime64[ns]\n",
      " 1   program_code                                  3087 non-null   object        \n",
      " 2   program_code_description                      3087 non-null   object        \n",
      " 3   pid_district                                  3087 non-null   float64       \n",
      " 4   project_number                                3087 non-null   object        \n",
      " 5   recipient_project_number                      3087 non-null   object        \n",
      " 6   pid_check1                                    3087 non-null   int64         \n",
      " 7   efis_id                                       3087 non-null   object        \n",
      " 8   pid_check2                                    3087 non-null   int64         \n",
      " 9   project_title                                 3087 non-null   object        \n",
      " 10  rk_locode                                     3087 non-null   float64       \n",
      " 11  county_code                                   3087 non-null   int64         \n",
      " 12  congressional_district                        3087 non-null   object        \n",
      " 13  project_status_description                    3087 non-null   object        \n",
      " 14  project_description                           3087 non-null   object        \n",
      " 15  improvement_type                              3087 non-null   int64         \n",
      " 16  improvement_type_description                  3087 non-null   object        \n",
      " 17  total_cost_amount                             3087 non-null   float64       \n",
      " 18  obligations_amount                            3087 non-null   float64       \n",
      " 19  summary_recipient_defined_text_field_1_value  3087 non-null   object        \n",
      " 20  comp                                          3087 non-null   object        \n",
      " 21  iija_program_code                             3087 non-null   object        \n",
      " 22  funding_type_code                             3087 non-null   object        \n",
      " 23  agency_locode                                 3085 non-null   float64       \n",
      " 24  implementing_agency                           3085 non-null   object        \n",
      " 25  district                                      3085 non-null   float64       \n",
      " 26  county_name                                   2981 non-null   object        \n",
      " 27  rtpa_name                                     3085 non-null   object        \n",
      " 28  mpo_name                                      3085 non-null   object        \n",
      " 29  mpo_locode_fads                               3085 non-null   object        \n",
      " 30  active_e76s______7_12_2021_                   3018 non-null   object        \n",
      " 31  _merge                                        3087 non-null   category      \n",
      "dtypes: category(1), datetime64[ns](1), float64(6), int64(4), object(20)\n",
      "memory usage: 774.9+ KB\n"
     ]
    }
   ],
   "source": [
    "filled_locode_df2.info()"
   ]
  },
  {
   "cell_type": "code",
   "execution_count": 21,
   "id": "c6458767-1ab6-4b0a-8fb3-2890cbc8dca4",
   "metadata": {
    "tags": []
   },
   "outputs": [],
   "source": [
    "missing_locode_df = (df.loc[(df.rk_locode.isna())].reset_index(drop=True)).drop(\n",
    "        columns=[\"rk_locode\"]\n",
    "    )\n",
    "\n",
    "    # Fill in summary_recipient_defined_text_field_1_value\n",
    "    #missing_locode_df.summary_recipient_defined_text_field_1_value = (\n",
    "    #    missing_locode_df.summary_recipient_defined_text_field_1_value.fillna(\"None\")\n",
    "    #)\n",
    "\n",
    "# Try add_name_from_locode from _data_utils\n",
    "missing_locode_df2 = _data_utils.add_name_from_locode(\n",
    "        missing_locode_df, \"summary_recipient_defined_text_field_1_value\"\n",
    "    )"
   ]
  },
  {
   "cell_type": "code",
   "execution_count": 22,
   "id": "192353d0-8391-4dd5-ae75-27d17179d65a",
   "metadata": {
    "tags": []
   },
   "outputs": [
    {
     "name": "stdout",
     "output_type": "stream",
     "text": [
      "<class 'pandas.core.frame.DataFrame'>\n",
      "Int64Index: 2609 entries, 0 to 2608\n",
      "Data columns (total 28 columns):\n",
      " #   Column                                        Non-Null Count  Dtype         \n",
      "---  ------                                        --------------  -----         \n",
      " 0   fmis_transaction_date                         2609 non-null   datetime64[ns]\n",
      " 1   program_code                                  2609 non-null   object        \n",
      " 2   program_code_description                      2609 non-null   object        \n",
      " 3   pid_district                                  2602 non-null   float64       \n",
      " 4   project_number                                2609 non-null   object        \n",
      " 5   recipient_project_number                      2602 non-null   object        \n",
      " 6   pid_check1                                    2609 non-null   int64         \n",
      " 7   efis_id                                       2602 non-null   object        \n",
      " 8   pid_check2                                    2609 non-null   int64         \n",
      " 9   project_title                                 2609 non-null   object        \n",
      " 10  county_code                                   2609 non-null   int64         \n",
      " 11  congressional_district                        2609 non-null   object        \n",
      " 12  project_status_description                    2609 non-null   object        \n",
      " 13  project_description                           2609 non-null   object        \n",
      " 14  improvement_type                              2609 non-null   int64         \n",
      " 15  improvement_type_description                  2609 non-null   object        \n",
      " 16  total_cost_amount                             2609 non-null   float64       \n",
      " 17  obligations_amount                            2609 non-null   float64       \n",
      " 18  summary_recipient_defined_text_field_1_value  2609 non-null   object        \n",
      " 19  comp                                          2609 non-null   object        \n",
      " 20  iija_program_code                             2609 non-null   object        \n",
      " 21  funding_type_code                             2592 non-null   object        \n",
      " 22  implementing_agency_locode                    120 non-null    float64       \n",
      " 23  implementing_agency                           118 non-null    object        \n",
      " 24  district                                      118 non-null    float64       \n",
      " 25  county_name                                   113 non-null    object        \n",
      " 26  rtpa_name                                     118 non-null    object        \n",
      " 27  mpo_name                                      118 non-null    object        \n",
      "dtypes: datetime64[ns](1), float64(5), int64(4), object(18)\n",
      "memory usage: 591.1+ KB\n"
     ]
    }
   ],
   "source": [
    "missing_locode_df2.info()"
   ]
  },
  {
   "cell_type": "code",
   "execution_count": 23,
   "id": "9db9f2d2-b20e-4960-8305-33a4738aeac9",
   "metadata": {
    "tags": []
   },
   "outputs": [],
   "source": [
    "mapping1 = dict(county_info[[\"county_code\", \"county_description\"]].values)\n",
    "mapping2 = dict(county_info[[\"county_code\", \"recipient_name\"]].values)\n",
    "mapping3 = dict(county_info[[\"county_code\", \"district\"]].values)\n",
    "    \n",
    "   "
   ]
  },
  {
   "cell_type": "code",
   "execution_count": 24,
   "id": "3b2218d1-d615-427e-a892-c0038e965659",
   "metadata": {
    "tags": []
   },
   "outputs": [],
   "source": [
    "missing_locode_df2[\"county_description\"] = missing_locode_df2.county_code.map(mapping1)\n",
    "missing_locode_df2[\"recipient_name\"] = missing_locode_df2.county_code.map(mapping2)\n",
    "missing_locode_df2[\"district\"] = missing_locode_df2.county_code.map(mapping3)"
   ]
  },
  {
   "cell_type": "code",
   "execution_count": 25,
   "id": "0a6842b4-b218-4b25-9378-09c47b854b0b",
   "metadata": {
    "tags": []
   },
   "outputs": [
    {
     "name": "stdout",
     "output_type": "stream",
     "text": [
      "<class 'pandas.core.frame.DataFrame'>\n",
      "Int64Index: 2609 entries, 0 to 2608\n",
      "Data columns (total 30 columns):\n",
      " #   Column                                        Non-Null Count  Dtype         \n",
      "---  ------                                        --------------  -----         \n",
      " 0   fmis_transaction_date                         2609 non-null   datetime64[ns]\n",
      " 1   program_code                                  2609 non-null   object        \n",
      " 2   program_code_description                      2609 non-null   object        \n",
      " 3   pid_district                                  2602 non-null   float64       \n",
      " 4   project_number                                2609 non-null   object        \n",
      " 5   recipient_project_number                      2602 non-null   object        \n",
      " 6   pid_check1                                    2609 non-null   int64         \n",
      " 7   efis_id                                       2602 non-null   object        \n",
      " 8   pid_check2                                    2609 non-null   int64         \n",
      " 9   project_title                                 2609 non-null   object        \n",
      " 10  county_code                                   2609 non-null   int64         \n",
      " 11  congressional_district                        2609 non-null   object        \n",
      " 12  project_status_description                    2609 non-null   object        \n",
      " 13  project_description                           2609 non-null   object        \n",
      " 14  improvement_type                              2609 non-null   int64         \n",
      " 15  improvement_type_description                  2609 non-null   object        \n",
      " 16  total_cost_amount                             2609 non-null   float64       \n",
      " 17  obligations_amount                            2609 non-null   float64       \n",
      " 18  summary_recipient_defined_text_field_1_value  2609 non-null   object        \n",
      " 19  comp                                          2609 non-null   object        \n",
      " 20  iija_program_code                             2609 non-null   object        \n",
      " 21  funding_type_code                             2592 non-null   object        \n",
      " 22  implementing_agency_locode                    120 non-null    float64       \n",
      " 23  implementing_agency                           118 non-null    object        \n",
      " 24  district                                      2349 non-null   float64       \n",
      " 25  county_name                                   113 non-null    object        \n",
      " 26  rtpa_name                                     118 non-null    object        \n",
      " 27  mpo_name                                      118 non-null    object        \n",
      " 28  county_description                            2609 non-null   object        \n",
      " 29  recipient_name                                2609 non-null   object        \n",
      "dtypes: datetime64[ns](1), float64(5), int64(4), object(20)\n",
      "memory usage: 631.9+ KB\n"
     ]
    }
   ],
   "source": [
    "missing_locode_df2.info()"
   ]
  },
  {
   "cell_type": "code",
   "execution_count": null,
   "id": "3299eafa-b68c-42f4-bc09-e7998d950037",
   "metadata": {
    "tags": []
   },
   "outputs": [],
   "source": [
    "version1 = _script_utils.identify_agency(df, \"summary_recipient_defined_text_field_1_value\")"
   ]
  },
  {
   "cell_type": "code",
   "execution_count": null,
   "id": "4274aaff-d11c-4aef-8b25-834cf8be83de",
   "metadata": {
    "tags": []
   },
   "outputs": [],
   "source": [
    "version1.info()"
   ]
  },
  {
   "cell_type": "markdown",
   "id": "3c671879-10f1-44d3-8281-2c9f98f5e748",
   "metadata": {},
   "source": [
    "### Clean up county portion of `script_utils`"
   ]
  },
  {
   "cell_type": "code",
   "execution_count": null,
   "id": "2c090ec6-5f97-4cd9-91ef-1c2d3c376c35",
   "metadata": {
    "tags": []
   },
   "outputs": [],
   "source": [
    "# Filter out for rows in which rk_locode is filled"
   ]
  },
  {
   "cell_type": "code",
   "execution_count": null,
   "id": "c4af311f-00a3-4a46-a820-94d2496b1502",
   "metadata": {
    "tags": []
   },
   "outputs": [],
   "source": [
    "filled_locode_df = df.loc[df.rk_locode.notna()].reset_index(drop=True)"
   ]
  },
  {
   "cell_type": "code",
   "execution_count": null,
   "id": "cc201d2e-4611-40d2-9eee-282ede81282c",
   "metadata": {
    "tags": []
   },
   "outputs": [],
   "source": [
    "missing_locode_df = (df.loc[(df.rk_locode.isna())].reset_index(drop=True)).drop(\n",
    "        columns=[\"rk_locode\"]\n",
    "    )"
   ]
  },
  {
   "cell_type": "code",
   "execution_count": null,
   "id": "e7b9d58f-9500-409d-9904-7012382c6c26",
   "metadata": {
    "tags": []
   },
   "outputs": [],
   "source": [
    "len(filled_locode_df) + len(missing_locode_df)"
   ]
  },
  {
   "cell_type": "code",
   "execution_count": null,
   "id": "8c9fa95b-6d02-4250-8202-6615d3577e80",
   "metadata": {
    "tags": []
   },
   "outputs": [],
   "source": [
    "# Merge the two dataframes\n",
    "filled_locode_df2 = pd.merge(\n",
    "        filled_locode_df,\n",
    "        locodes_df,\n",
    "        left_on=\"rk_locode\",\n",
    "        right_on=\"agency_locode\",\n",
    "        how=\"left\",\n",
    "        indicator=True,\n",
    "    )"
   ]
  },
  {
   "cell_type": "code",
   "execution_count": null,
   "id": "b16f4205-9666-4a22-81de-4af7b31ff4e1",
   "metadata": {
    "tags": []
   },
   "outputs": [],
   "source": [
    "filled_locode_df2.info()"
   ]
  },
  {
   "cell_type": "code",
   "execution_count": null,
   "id": "3bbdfc49-a1c0-4b1c-9ad1-bc72abe79b09",
   "metadata": {
    "tags": []
   },
   "outputs": [],
   "source": [
    "filled_locode_df2.implementing_agency.value_counts().head()"
   ]
  },
  {
   "cell_type": "code",
   "execution_count": null,
   "id": "e192f7e0-9036-4839-814a-b42911733584",
   "metadata": {
    "tags": []
   },
   "outputs": [],
   "source": []
  },
  {
   "cell_type": "code",
   "execution_count": null,
   "id": "15c29a11-e18b-4c85-a099-7f8c1a1931ca",
   "metadata": {
    "tags": []
   },
   "outputs": [],
   "source": [
    "county_base.head(2)"
   ]
  },
  {
   "cell_type": "code",
   "execution_count": null,
   "id": "0720a238-2e02-4989-9235-0deb2b3364ec",
   "metadata": {
    "tags": []
   },
   "outputs": [],
   "source": [
    "county_base.recipient_name.unique()"
   ]
  },
  {
   "cell_type": "code",
   "execution_count": null,
   "id": "6a20ae08-5940-4d92-8fa8-13041941c5e1",
   "metadata": {
    "tags": []
   },
   "outputs": [],
   "source": [
    "len(county_base), county_base.county_description.nunique()"
   ]
  },
  {
   "cell_type": "code",
   "execution_count": null,
   "id": "e33fb96f-41c9-4a8a-b7ae-d6eb434915c6",
   "metadata": {
    "tags": []
   },
   "outputs": [],
   "source": [
    "county_base['county_description'] = county_base['county_description'] + \" County\""
   ]
  },
  {
   "cell_type": "code",
   "execution_count": null,
   "id": "e9d4fbba-de35-4ea4-9e62-5bd51351078c",
   "metadata": {
    "tags": []
   },
   "outputs": [],
   "source": [
    "from siuba import *"
   ]
  },
  {
   "cell_type": "code",
   "execution_count": null,
   "id": "bbf88e82-cd04-4b00-8674-e43a069545de",
   "metadata": {
    "tags": []
   },
   "outputs": [],
   "source": []
  },
  {
   "cell_type": "code",
   "execution_count": null,
   "id": "e8b7137c-2c5b-4c06-84d5-ee1085aae26a",
   "metadata": {
    "tags": []
   },
   "outputs": [],
   "source": [
    "county_info = county_district_crosswalk()"
   ]
  },
  {
   "cell_type": "code",
   "execution_count": null,
   "id": "9fc1b2cc-7978-45f4-b7c5-e26483fb5539",
   "metadata": {
    "tags": []
   },
   "outputs": [],
   "source": [
    "mapping1 = dict(county_info[[\"county_code\", \"county_description\"]].values)"
   ]
  },
  {
   "cell_type": "code",
   "execution_count": null,
   "id": "26c7c822-a343-480c-a922-0bca6fcfe13e",
   "metadata": {
    "tags": []
   },
   "outputs": [],
   "source": []
  },
  {
   "cell_type": "code",
   "execution_count": null,
   "id": "a24ceab2-ee02-4937-a90a-37d58b8db751",
   "metadata": {
    "tags": []
   },
   "outputs": [],
   "source": [
    "missing_locode_df.info()"
   ]
  },
  {
   "cell_type": "code",
   "execution_count": null,
   "id": "994464c5-c9e4-4a43-a9f3-d9820c7dd1ed",
   "metadata": {
    "tags": []
   },
   "outputs": [],
   "source": [
    "missing_locode_df2 = _data_utils.add_name_from_locode(\n",
    "        missing_locode_df, \"summary_recipient_defined_text_field_1_value\"\n",
    "    )"
   ]
  },
  {
   "cell_type": "code",
   "execution_count": null,
   "id": "6ea902ca-9d61-4491-8856-130be8648376",
   "metadata": {
    "tags": []
   },
   "outputs": [],
   "source": [
    "missing_locode_df2.info()"
   ]
  },
  {
   "cell_type": "code",
   "execution_count": null,
   "id": "8377343f-9bf2-4bb7-8282-097746f435d0",
   "metadata": {
    "tags": []
   },
   "outputs": [],
   "source": [
    "test_all_rows = _data_utils.add_name_from_locode(\n",
    "        df, \"summary_recipient_defined_text_field_1_value\"\n",
    "    )"
   ]
  },
  {
   "cell_type": "code",
   "execution_count": null,
   "id": "7405f3ff-67dd-414e-9c6f-d8ad695f6b9c",
   "metadata": {
    "tags": []
   },
   "outputs": [],
   "source": [
    "test_all_rows.info()"
   ]
  },
  {
   "cell_type": "markdown",
   "id": "cec03946-0ab2-4116-877c-f7f74eb8e99f",
   "metadata": {},
   "source": [
    "### Testing"
   ]
  },
  {
   "cell_type": "code",
   "execution_count": null,
   "id": "92170584-1c45-4000-93b3-4058b3023e52",
   "metadata": {
    "tags": []
   },
   "outputs": [],
   "source": [
    "new_codes = _data_utils.update_program_code_list_2025()"
   ]
  },
  {
   "cell_type": "code",
   "execution_count": null,
   "id": "e80e5c6d-3dfd-4385-9360-7adc5f0cbb33",
   "metadata": {
    "tags": []
   },
   "outputs": [],
   "source": [
    "iija_code_map = dict(new_codes[[\"iija_program_code\", \"program_name\"]].values)"
   ]
  },
  {
   "cell_type": "code",
   "execution_count": null,
   "id": "a339a956-c1c9-46f8-9f1e-aa1e70ee0939",
   "metadata": {
    "scrolled": true,
    "tags": []
   },
   "outputs": [],
   "source": [
    "iija_code_map"
   ]
  },
  {
   "cell_type": "code",
   "execution_count": null,
   "id": "cd3d05e7-ae2f-4e07-8e85-c23970a29a1e",
   "metadata": {
    "tags": []
   },
   "outputs": [],
   "source": [
    "project_df.columns"
   ]
  },
  {
   "cell_type": "code",
   "execution_count": null,
   "id": "308665d2-0255-4e70-8598-49c7f143c3fa",
   "metadata": {
    "scrolled": true,
    "tags": []
   },
   "outputs": [],
   "source": [
    "test_df = _data_utils.add_new_codes(project_df)"
   ]
  },
  {
   "cell_type": "code",
   "execution_count": null,
   "id": "9f3a7acc-3f88-41dc-a829-920c8b3dabef",
   "metadata": {
    "tags": []
   },
   "outputs": [],
   "source": [
    "test_df.columns"
   ]
  },
  {
   "cell_type": "code",
   "execution_count": null,
   "id": "ca0f0a33-acbe-4487-8917-95efb2f1318f",
   "metadata": {
    "tags": []
   },
   "outputs": [],
   "source": [
    "test_df.info()"
   ]
  },
  {
   "cell_type": "code",
   "execution_count": null,
   "id": "0eae8c74-87f0-418a-9026-3dcbb3f854ac",
   "metadata": {
    "tags": []
   },
   "outputs": [],
   "source": [
    "test_df[\n",
    "    [\"program_code_description\", \"program_code\", \"funding_type_code\"]\n",
    "].drop_duplicates().sample(10)"
   ]
  },
  {
   "cell_type": "markdown",
   "id": "b2c5ce92-45b7-4139-8d62-dba939d14bc1",
   "metadata": {},
   "source": [
    "### Breakout `_data_utils.update_program_code_list2()`"
   ]
  },
  {
   "cell_type": "code",
   "execution_count": null,
   "id": "e009810c-bc32-41bf-a824-8491dc85266f",
   "metadata": {
    "tags": []
   },
   "outputs": [],
   "source": [
    "def add_program_to_row(row):\n",
    "    if \"Program\" not in row[\"program_name\"]:\n",
    "        return row[\"program_name\"] + \" Program\"\n",
    "    else:\n",
    "        return row[\"program_name\"]"
   ]
  },
  {
   "cell_type": "code",
   "execution_count": null,
   "id": "3c9de009-57f1-47c6-affe-e5dcb80bbcc1",
   "metadata": {
    "tags": []
   },
   "outputs": [],
   "source": [
    "def load_program_codes_og() -> pd.DataFrame:\n",
    "    df = to_snakecase(\n",
    "        pd.read_excel(\n",
    "            f\"{GCS_FILE_PATH}/program_codes/Copy of lst_IIJA_Code_20230908.xlsx\"\n",
    "        )\n",
    "    )[[\"iija_program_code\", \"description\", \"program_name\"]]\n",
    "    return df"
   ]
  },
  {
   "cell_type": "code",
   "execution_count": null,
   "id": "916c246a-77a2-44f0-a2b9-dddd526d033f",
   "metadata": {
    "tags": []
   },
   "outputs": [],
   "source": [
    "original_codes_df = load_program_codes_og()"
   ]
  },
  {
   "cell_type": "code",
   "execution_count": null,
   "id": "8b95ae8c-d6d0-412f-9abf-ad5fb8269eee",
   "metadata": {
    "tags": []
   },
   "outputs": [],
   "source": [
    "original_codes_df.head()"
   ]
  },
  {
   "cell_type": "code",
   "execution_count": null,
   "id": "5390e411-38cd-4843-bac8-8bb5ae894c77",
   "metadata": {
    "tags": []
   },
   "outputs": [],
   "source": [
    "def load_program_codes_sept_2023() -> pd.DataFrame:\n",
    "    df = to_snakecase(\n",
    "        pd.read_excel(\n",
    "            f\"{GCS_FILE_PATH}/program_codes/FY21-22ProgramCodesAsOf5-25-2022.v2_expanded090823.xlsx\"\n",
    "        )\n",
    "    )[[\"iija_program_code\", \"new_description\"]]\n",
    "    return df"
   ]
  },
  {
   "cell_type": "code",
   "execution_count": null,
   "id": "71b03c78-195c-47cb-9437-d19101f0beaf",
   "metadata": {
    "tags": []
   },
   "outputs": [],
   "source": [
    "program_codes_sept_2023 = load_program_codes_sept_2023()"
   ]
  },
  {
   "cell_type": "code",
   "execution_count": null,
   "id": "1815a20f-e378-40c6-a6ae-964a641183a3",
   "metadata": {
    "tags": []
   },
   "outputs": [],
   "source": [
    "program_codes_sept_2023.head(2)"
   ]
  },
  {
   "cell_type": "code",
   "execution_count": null,
   "id": "e4ffaef0-a621-43d2-b6d2-1ffbbff60ce1",
   "metadata": {
    "tags": []
   },
   "outputs": [],
   "source": [
    "program_codes = pd.merge(\n",
    "    program_codes_sept_2023,\n",
    "    original_codes_df,\n",
    "    on=\"iija_program_code\",\n",
    "    how=\"outer\",\n",
    "    indicator=True,\n",
    ")"
   ]
  },
  {
   "cell_type": "code",
   "execution_count": null,
   "id": "e930f1ab-4d3c-4358-95a2-f9b93123ff3c",
   "metadata": {
    "tags": []
   },
   "outputs": [],
   "source": [
    "program_codes[\"new_description\"] = (\n",
    "    program_codes[\"new_description\"].str.strip().fillna(program_codes.description)\n",
    ")"
   ]
  },
  {
   "cell_type": "code",
   "execution_count": null,
   "id": "a9d21c6d-94ea-446b-9221-fb3e65e04339",
   "metadata": {
    "tags": []
   },
   "outputs": [],
   "source": [
    "program_codes._merge.value_counts()"
   ]
  },
  {
   "cell_type": "code",
   "execution_count": null,
   "id": "e903dfaf-e7e7-45d7-9e38-4c2d2a5fc976",
   "metadata": {
    "tags": []
   },
   "outputs": [],
   "source": [
    "program_codes = program_codes.drop(columns={\"description\", \"_merge\"})"
   ]
  },
  {
   "cell_type": "code",
   "execution_count": null,
   "id": "67dbf7fb-a842-4be5-a8d0-6d21b5ee39ce",
   "metadata": {
    "tags": []
   },
   "outputs": [],
   "source": [
    "program_codes[\"program_name\"] = program_codes.apply(add_program_to_row, axis=1)"
   ]
  },
  {
   "cell_type": "code",
   "execution_count": null,
   "id": "c953256e-1a92-4b9f-ba2e-447aa7d031d6",
   "metadata": {
    "tags": []
   },
   "outputs": [],
   "source": [
    "program_codes.head(2)"
   ]
  },
  {
   "cell_type": "code",
   "execution_count": null,
   "id": "3a28a482-7f97-4b60-b68d-5da002f26d2f",
   "metadata": {
    "tags": []
   },
   "outputs": [],
   "source": [
    "def load_program_codes_jan_2025() -> pd.DataFrame:\n",
    "    df = to_snakecase(\n",
    "        pd.read_excel(f\"{GCS_FILE_PATH}/program_codes/Ycodes_01.2025.xlsx\")\n",
    "    )[[\"program_code\", \"short_name\", \"program_code_description\", \"funding_type_code\"]]\n",
    "\n",
    "    df = df.rename(\n",
    "        columns={\n",
    "            \"program_code\": \"iija_program_code\",\n",
    "        }\n",
    "    )\n",
    "    df.short_name = df.short_name.str.title()\n",
    "    return df"
   ]
  },
  {
   "cell_type": "code",
   "execution_count": null,
   "id": "191e5309-1f61-48e7-a2fb-7bf6ab786ab0",
   "metadata": {
    "tags": []
   },
   "outputs": [],
   "source": [
    "program_codes_jan_2025 = load_program_codes_jan_2025()"
   ]
  },
  {
   "cell_type": "code",
   "execution_count": null,
   "id": "73ebfc4a-e788-41f2-906f-3e56970d45ee",
   "metadata": {
    "tags": []
   },
   "outputs": [],
   "source": [
    "program_codes_jan_2025.head(2)"
   ]
  },
  {
   "cell_type": "code",
   "execution_count": null,
   "id": "d14fb03b-ced6-4a87-908f-0c1dda11fc03",
   "metadata": {
    "tags": []
   },
   "outputs": [],
   "source": [
    "program_codes.head(2)"
   ]
  },
  {
   "cell_type": "code",
   "execution_count": null,
   "id": "8d741eda-e6a2-4681-9239-7260ecf84135",
   "metadata": {
    "tags": []
   },
   "outputs": [],
   "source": [
    "program_codes2 = pd.merge(\n",
    "    program_codes_jan_2025,\n",
    "    program_codes,\n",
    "    on=\"iija_program_code\",\n",
    "    how=\"outer\",\n",
    "    indicator=True,\n",
    ")"
   ]
  },
  {
   "cell_type": "code",
   "execution_count": null,
   "id": "1f04747f-cb6d-491e-8531-203ef5c5037a",
   "metadata": {
    "tags": []
   },
   "outputs": [],
   "source": [
    "program_codes2._merge.value_counts()"
   ]
  },
  {
   "cell_type": "code",
   "execution_count": null,
   "id": "2996f37d-4afe-4d1e-8445-3f1de00e76fd",
   "metadata": {
    "tags": []
   },
   "outputs": [],
   "source": [
    "program_codes2[\"2025_description\"] = (\n",
    "    program_codes2[\"program_code_description\"]\n",
    "    .str.strip()\n",
    "    .fillna(program_codes2.new_description)\n",
    ")"
   ]
  },
  {
   "cell_type": "code",
   "execution_count": null,
   "id": "3730d964-8232-42ab-ae19-4033ec53e757",
   "metadata": {
    "tags": []
   },
   "outputs": [],
   "source": [
    "program_codes2.head(2)"
   ]
  },
  {
   "cell_type": "code",
   "execution_count": null,
   "id": "491aeca1-53fd-4da1-8362-71af1409096b",
   "metadata": {
    "tags": []
   },
   "outputs": [],
   "source": [
    "program_codes2[\"2025_program_name\"] = program_codes2.program_name.fillna(\n",
    "    program_codes2.short_name\n",
    ")"
   ]
  },
  {
   "cell_type": "code",
   "execution_count": null,
   "id": "2a8c4e9e-fa42-48be-9340-1a08a0147032",
   "metadata": {
    "tags": []
   },
   "outputs": [],
   "source": [
    "program_codes2.columns"
   ]
  },
  {
   "cell_type": "code",
   "execution_count": null,
   "id": "698dff53-f47d-49d8-bfe7-85bf3558eb39",
   "metadata": {
    "scrolled": true,
    "tags": []
   },
   "outputs": [],
   "source": [
    "program_codes2.loc[program_codes2._merge == \"both\"][\n",
    "    [\n",
    "        \"iija_program_code\",\n",
    "        \"funding_type_code\",\n",
    "        \"short_name\",\n",
    "        \"program_name\",\n",
    "        \"2025_program_name\",\n",
    "        \"program_code_description\",\n",
    "        \"2025_description\",\n",
    "        \"new_description\",\n",
    "        \"_merge\",\n",
    "    ]\n",
    "]"
   ]
  },
  {
   "cell_type": "code",
   "execution_count": null,
   "id": "7352bd08-281b-48e7-8c28-4e99662c25e6",
   "metadata": {
    "tags": []
   },
   "outputs": [],
   "source": [
    "program_codes3 = program_codes2.drop(\n",
    "    columns=[\n",
    "        \"short_name\",\n",
    "        \"program_name\",\n",
    "        \"program_code_description\",\n",
    "        \"new_description\",\n",
    "        \"_merge\",\n",
    "    ]\n",
    ")"
   ]
  },
  {
   "cell_type": "code",
   "execution_count": null,
   "id": "154e7415-0c55-411e-8a27-ae97d1c577cb",
   "metadata": {
    "tags": []
   },
   "outputs": [],
   "source": [
    "program_codes3 = program_codes3.rename(\n",
    "    columns={\"2025_description\": \"new_description\", \"2025_program_name\": \"program_name\"}\n",
    ")"
   ]
  },
  {
   "cell_type": "code",
   "execution_count": null,
   "id": "c9d4ec09-0730-4602-91da-54d4c802669f",
   "metadata": {
    "scrolled": true,
    "tags": []
   },
   "outputs": [],
   "source": [
    "program_codes3.sort_values(by=[\"iija_program_code\"])"
   ]
  },
  {
   "cell_type": "code",
   "execution_count": null,
   "id": "5a1cf719-9097-4629-9e5f-836de1264baa",
   "metadata": {
    "tags": []
   },
   "outputs": [],
   "source": [
    "program_codes3[\"program_name\"] = program_codes3.apply(add_program_to_row, axis=1)"
   ]
  },
  {
   "cell_type": "markdown",
   "id": "35133427-9c1d-48bd-a448-356791dd108f",
   "metadata": {},
   "source": [
    "#### Turn this into a function"
   ]
  },
  {
   "cell_type": "code",
   "execution_count": null,
   "id": "aab0153a-4405-4ab9-b5d0-3a4d567f7efc",
   "metadata": {
    "tags": []
   },
   "outputs": [],
   "source": [
    "def update_program_code_list_2025():\n",
    "    \"\"\"\n",
    "    On January 2025, we received a new list of updated codes.\n",
    "    Merge this new list with codes received originally and in\n",
    "    September 2023.\n",
    "    \"\"\"\n",
    "    # Load original codes\n",
    "    original_codes_df = load_program_codes_og()\n",
    "\n",
    "    # Load September 2023 codes\n",
    "    program_codes_sept_2023 = load_program_codes_sept_2023()\n",
    "\n",
    "    # Merge original + September first\n",
    "    m1 = pd.merge(\n",
    "        program_codes_sept_2023,\n",
    "        original_codes_df,\n",
    "        on=\"iija_program_code\",\n",
    "        how=\"outer\",\n",
    "        indicator=True,\n",
    "    )\n",
    "\n",
    "    # Clean up description\n",
    "    m1[\"new_description\"] = m1[\"new_description\"].str.strip().fillna(m1.description)\n",
    "\n",
    "    # Delete unnecessary columns\n",
    "    m1 = m1.drop(columns={\"description\", \"_merge\"})\n",
    "\n",
    "    \"\"\"\n",
    "    # Load January 2025 code\n",
    "    program_codes_jan_2025 = load_program_codes_jan_2025()\n",
    "\n",
    "    # Merge m1 with program codes from January 2025.\n",
    "    m2 = pd.merge(\n",
    "        program_codes_jan_2025,\n",
    "        m1,\n",
    "        on=\"iija_program_code\",\n",
    "        how=\"outer\",\n",
    "        indicator=True,\n",
    "    )\n",
    "    # Update descriptions\n",
    "    m2[\"2025_description\"] = (\n",
    "        m2[\"program_code_description\"].str.strip().fillna(m2.new_description)\n",
    "    )\n",
    "\n",
    "    # Update program names\n",
    "    m2[\"2025_program_name\"] = m2.program_name.fillna(m2.short_name)\n",
    "\n",
    "    # Delete outdated columns\n",
    "    m2 = m2.drop(\n",
    "        columns=[\n",
    "            \"short_name\",\n",
    "            \"program_name\",\n",
    "            \"program_code_description\",\n",
    "            \"new_description\",\n",
    "            \"_merge\",\n",
    "        ]\n",
    "    )\n",
    "\n",
    "    # Rename to match original sheet\n",
    "    m2 = m2.rename(\n",
    "        columns={\n",
    "            \"2025_description\": \"new_description\",\n",
    "            \"2025_program_name\": \"program_name\",\n",
    "        }\n",
    "    )\n",
    "\n",
    "    # Add program to another program names without the string \"program\"\n",
    "    m2[\"program_name\"] = m2.apply(add_program_to_row, axis=1)\n",
    "    \"\"\"\n",
    "    return m1"
   ]
  },
  {
   "cell_type": "code",
   "execution_count": null,
   "id": "ad4ab9be-ab2d-499d-acc9-9e71ee0274fa",
   "metadata": {
    "tags": []
   },
   "outputs": [],
   "source": [
    "program_codes_jan_2025 = _data_utils.load_program_codes_jan_2025()"
   ]
  },
  {
   "cell_type": "code",
   "execution_count": null,
   "id": "219bc1e5-d17b-42d2-ba0d-7006c59d00fa",
   "metadata": {
    "tags": []
   },
   "outputs": [],
   "source": [
    "program_codes_jan_2025.loc[\n",
    "    program_codes_jan_2025.iija_program_code.str.contains(\"ER03\")\n",
    "]"
   ]
  },
  {
   "cell_type": "code",
   "execution_count": null,
   "id": "aac6b171-09b5-40e9-a7aa-3aca4f3ea54e",
   "metadata": {
    "tags": []
   },
   "outputs": [],
   "source": [
    "program_codes_jan_2025.loc[\n",
    "    program_codes_jan_2025.iija_program_code.str.contains(\"ER01\")\n",
    "]"
   ]
  },
  {
   "cell_type": "code",
   "execution_count": null,
   "id": "c41b1c44-ee24-48f5-99e7-5b82b5f8670c",
   "metadata": {
    "tags": []
   },
   "outputs": [],
   "source": [
    "og_code_list = update_program_code_list_2025()"
   ]
  },
  {
   "cell_type": "code",
   "execution_count": null,
   "id": "aaf0322f-be07-4fae-b52f-0a55aa1bb603",
   "metadata": {
    "tags": []
   },
   "outputs": [],
   "source": [
    "og_code_list.head(2)"
   ]
  },
  {
   "cell_type": "code",
   "execution_count": null,
   "id": "46949c73-5b25-4674-816d-b00067ef81d0",
   "metadata": {},
   "outputs": [],
   "source": []
  },
  {
   "cell_type": "code",
   "execution_count": null,
   "id": "6001fe39-2f3b-4691-b3b8-9390e51a2328",
   "metadata": {
    "tags": []
   },
   "outputs": [],
   "source": [
    "og_code_list.loc[og_code_list.iija_program_code.str.contains(\"ER03\")]"
   ]
  },
  {
   "cell_type": "markdown",
   "id": "f0e60263-5ab5-4473-8edd-25eb85420d5e",
   "metadata": {},
   "source": [
    "### Project\n",
    "`Use the “RK Locode” column K in the Project list as the Primary Locode, and if blank, use your current data source to populate the implementing agency.`"
   ]
  },
  {
   "cell_type": "code",
   "execution_count": null,
   "id": "93078987-e4f5-4439-85e4-9caf80490ad3",
   "metadata": {
    "tags": []
   },
   "outputs": [],
   "source": [
    "march_file = \"FMIS_Projects_Universe_IIJA_Reporting_03012024_ToDLA.xlsx\""
   ]
  },
  {
   "cell_type": "code",
   "execution_count": null,
   "id": "99fda520-70bb-4d31-9c67-b32a09f563b3",
   "metadata": {
    "tags": []
   },
   "outputs": [],
   "source": [
    "march_data = to_snakecase(pd.read_excel(f\"{GCS_FILE_PATH}/{march_file}\"))"
   ]
  },
  {
   "cell_type": "code",
   "execution_count": null,
   "id": "0027a6c8-3094-4d5e-b76f-682b911b06a4",
   "metadata": {
    "tags": []
   },
   "outputs": [],
   "source": [
    "march_data.info()"
   ]
  },
  {
   "cell_type": "code",
   "execution_count": null,
   "id": "479728b2-72aa-4c8f-8971-1b65b6943d71",
   "metadata": {
    "tags": []
   },
   "outputs": [],
   "source": [
    "project_df.head(1)"
   ]
  },
  {
   "cell_type": "code",
   "execution_count": null,
   "id": "2b30ebc9-b53e-4b38-ac27-e418cdf52241",
   "metadata": {
    "tags": []
   },
   "outputs": [],
   "source": [
    "project_df[\n",
    "    [\n",
    "        \"summary_recipient_defined_text_field_1_value\",\n",
    "        \"rk_locode\",\n",
    "    ]\n",
    "].head()"
   ]
  },
  {
   "cell_type": "markdown",
   "id": "37818caf-a806-4ed0-9ec9-5d65f507cda8",
   "metadata": {},
   "source": [
    "#### Filter out for rows with a locode first?"
   ]
  },
  {
   "cell_type": "code",
   "execution_count": null,
   "id": "ec37c7d6-369b-43bb-8046-505e4eb2ce56",
   "metadata": {
    "tags": []
   },
   "outputs": [],
   "source": [
    "def identify_agency2(df: pd.DataFrame) -> pd.DataFrame:\n",
    "    \"\"\"\n",
    "    Fill in locodes, using the column rk_locode first\n",
    "    then using the original function from Natalie.\n",
    "    \"\"\"\n",
    "    # Load dataframe with locodes\n",
    "    locodes_df = to_snakecase(\n",
    "        pd.read_excel(\n",
    "            f\"gs://calitp-analytics-data/data-analyses/dla/e-76Obligated/locodes_updated7122021.xlsx\"\n",
    "        )\n",
    "    )\n",
    "\n",
    "    # Filter out for rows in which rk_locode is filled\n",
    "    filled_locode_df = df.loc[df.rk_locode.notna()].reset_index(drop=True)\n",
    "\n",
    "    # Merge the two dataframes\n",
    "    filled_locode_df2 = pd.merge(\n",
    "        filled_locode_df,\n",
    "        locodes_df,\n",
    "        left_on=\"rk_locode\",\n",
    "        right_on=\"agency_locode\",\n",
    "        how=\"left\",\n",
    "        indicator=True,\n",
    "    )\n",
    "    display(\"Rows with locodes filled\")\n",
    "    display(filled_locode_df2._merge.value_counts())\n",
    "\n",
    "    # Clean\n",
    "    filled_locode_df2 = filled_locode_df2.rename(\n",
    "        columns={\n",
    "            \"agency_name\": \"implementing_agency\",\n",
    "            \"rk_locode\": \"implementing_agency_locode\",\n",
    "        }\n",
    "    ).drop(columns=[\"active_e76s______7_12_2021_\", \"mpo_locode_fads\", \"agency_locode\"])\n",
    "\n",
    "    # Create a crosswalk out of this dataframe so any rows without a rk_locode\n",
    "    # has summary_recipient_defined_text_field_1_value filled can be merged\n",
    "    crosswalk_cols = [\n",
    "        \"summary_recipient_defined_text_field_1_value\",\n",
    "        \"implementing_agency\",\n",
    "        \"implementing_agency_locode\",\n",
    "        \"district\",\n",
    "        \"county_name\",\n",
    "        \"rtpa_name\",\n",
    "        \"mpo_name\",\n",
    "    ]\n",
    "\n",
    "    # Crosswalk\n",
    "    crosswalk_df = filled_locode_df2[crosswalk_cols].drop_duplicates(\n",
    "        subset=[\"summary_recipient_defined_text_field_1_value\"]\n",
    "    )\n",
    "\n",
    "    # Filter out for rows with missing locodes\n",
    "    missing_locode_df = (\n",
    "        df.loc[(df.rk_locode.isna())].reset_index(drop=True).drop(columns=[\"rk_locode\"])\n",
    "    )\n",
    "\n",
    "    # Merge crosswalk and dataframe of rows with missing locodes\n",
    "    missing_locode_df1 = pd.merge(\n",
    "        missing_locode_df,\n",
    "        crosswalk_df,\n",
    "        on=\"summary_recipient_defined_text_field_1_value\",\n",
    "        how=\"left\",\n",
    "        indicator=True,\n",
    "    )\n",
    "    display(\"Rows with locodes filled with the crosswalk\")\n",
    "    display(m1._merge.value_counts())\n",
    "\n",
    "    # Fill out missing locodes with Natalie's function\n",
    "    missing_locode_df2 = missing_locode_df1.loc[\n",
    "        missing_locode_df1._merge == \"left_only\"\n",
    "    ].reset_index(drop=True)\n",
    "\n",
    "    # Drop columns that were combined from the crosswalk\n",
    "    crosswalk_cols.remove(\"summary_recipient_defined_text_field_1_value\")\n",
    "    crosswalk_cols.append(\"_merge\")\n",
    "\n",
    "    missing_locode_df2 = missing_locode_df2.drop(columns=crosswalk_cols)\n",
    "\n",
    "    # Fill in summary_recipient_defined_text_field_1_value\n",
    "    missing_locode_df2.summary_recipient_defined_text_field_1_value = (\n",
    "        missing_locode_df2.summary_recipient_defined_text_field_1_value.fillna(\"None\")\n",
    "    )\n",
    "\n",
    "    # Try add_name_from_locode from _data_utils\n",
    "    missing_locode_df2 = _data_utils.add_name_from_locode(\n",
    "        missing_locode_df2, \"summary_recipient_defined_text_field_1_value\"\n",
    "    )\n",
    "\n",
    "    # Concat all the dataframes\n",
    "    final_df = pd.concat([filled_locode_df2, missing_locode_df1, missing_locode_df2])\n",
    "\n",
    "    return final_df"
   ]
  },
  {
   "cell_type": "code",
   "execution_count": null,
   "id": "fc555d5d-1db7-43a0-8ca3-f0b055ca4914",
   "metadata": {
    "tags": []
   },
   "outputs": [],
   "source": [
    "project_df_test = identify_agency2(project_df)"
   ]
  },
  {
   "cell_type": "code",
   "execution_count": null,
   "id": "d35ce530-87ee-4fe1-b032-4688fca6a80b",
   "metadata": {
    "tags": []
   },
   "outputs": [],
   "source": [
    "len(project_df_test)"
   ]
  },
  {
   "cell_type": "code",
   "execution_count": null,
   "id": "e9a9ce0d-4a1e-4526-af4a-f79135ea5798",
   "metadata": {
    "tags": []
   },
   "outputs": [],
   "source": [
    "len(project_df)"
   ]
  },
  {
   "cell_type": "code",
   "execution_count": null,
   "id": "90c6abfa-04fc-413e-90a7-0e781049d397",
   "metadata": {
    "tags": []
   },
   "outputs": [],
   "source": [
    "filled_locode_df = project_df.loc[project_df.rk_locode.notna()].reset_index(drop=True)"
   ]
  },
  {
   "cell_type": "code",
   "execution_count": null,
   "id": "5cd40d11-d43e-45d1-8f0b-eb76ed95a411",
   "metadata": {
    "tags": []
   },
   "outputs": [],
   "source": [
    "# Merge the two dataframes\n",
    "filled_locode_df2 = pd.merge(\n",
    "    filled_locode_df,\n",
    "    locodes_df,\n",
    "    left_on=\"rk_locode\",\n",
    "    right_on=\"agency_locode\",\n",
    "    how=\"left\",\n",
    "    indicator=True,\n",
    ")"
   ]
  },
  {
   "cell_type": "code",
   "execution_count": null,
   "id": "fb1db840-a067-4498-9cfa-cca149302c7b",
   "metadata": {
    "tags": []
   },
   "outputs": [],
   "source": [
    "filled_locode_df2 = filled_locode_df2.rename(\n",
    "    columns={\n",
    "        \"agency_name\": \"implementing_agency\",\n",
    "        \"rk_locode\": \"implementing_agency_locode\",\n",
    "    }\n",
    ").drop(columns=[\"active_e76s______7_12_2021_\", \"mpo_locode_fads\", \"agency_locode\"])"
   ]
  },
  {
   "cell_type": "code",
   "execution_count": null,
   "id": "64ade30e-8acc-45db-97a3-918d4fb1c8ea",
   "metadata": {
    "tags": []
   },
   "outputs": [],
   "source": [
    "def identify_agency3(df: pd.DataFrame) -> pd.DataFrame:\n",
    "    \"\"\"\n",
    "    Fill in locodes, using the column rk_locode first\n",
    "    then using the original function from Natalie.\n",
    "    \"\"\"\n",
    "    # Load dataframe with locodes\n",
    "    locodes_df = to_snakecase(\n",
    "        pd.read_excel(\n",
    "            f\"gs://calitp-analytics-data/data-analyses/dla/e-76Obligated/locodes_updated7122021.xlsx\"\n",
    "        )\n",
    "    ).rename(\n",
    "        columns={\n",
    "            \"agency_name\": \"implementing_agency\",\n",
    "        }\n",
    "    )\n",
    "\n",
    "    # Filter out for rows in which rk_locode is filled\n",
    "    filled_locode_df = df.loc[df.rk_locode.notna()].reset_index(drop=True)\n",
    "\n",
    "    # Merge the two dataframes\n",
    "    filled_locode_df2 = pd.merge(\n",
    "        filled_locode_df,\n",
    "        locodes_df,\n",
    "        left_on=\"rk_locode\",\n",
    "        right_on=\"agency_locode\",\n",
    "        how=\"left\",\n",
    "        indicator=True,\n",
    "    )\n",
    "    display(\"Rows with locodes filled\")\n",
    "    display(filled_locode_df2._merge.value_counts())\n",
    "\n",
    "    # Clean\n",
    "    filled_locode_df2 = filled_locode_df2.rename(\n",
    "        columns={\n",
    "            \"agency_name\": \"implementing_agency\",\n",
    "            \"rk_locode\": \"implementing_agency_locode\",\n",
    "        }\n",
    "    ).drop(\n",
    "        columns=[\n",
    "            \"active_e76s______7_12_2021_\",\n",
    "            \"mpo_locode_fads\",\n",
    "            \"agency_locode\",\n",
    "            \"_merge\",\n",
    "        ]\n",
    "    )\n",
    "\n",
    "    # Filter out for rows with missing locodes\n",
    "    missing_locode_df = (df.loc[(df.rk_locode.isna())].reset_index(drop=True)).drop(\n",
    "        columns=[\"rk_locode\"]\n",
    "    )\n",
    "\n",
    "    # Fill in summary_recipient_defined_text_field_1_value\n",
    "    missing_locode_df.summary_recipient_defined_text_field_1_value = (\n",
    "        missing_locode_df.summary_recipient_defined_text_field_1_value.fillna(\"None\")\n",
    "    )\n",
    "\n",
    "    # Try add_name_from_locode from _data_utils\n",
    "    missing_locode_df2 = _data_utils.add_name_from_locode(\n",
    "        missing_locode_df, \"summary_recipient_defined_text_field_1_value\"\n",
    "    )\n",
    "\n",
    "    # Concat all the dataframes\n",
    "    final_df = pd.concat([filled_locode_df2, missing_locode_df2])\n",
    "    display(\"Do the # of rows match?\")\n",
    "    display(len(final_df) == len(df))\n",
    "\n",
    "    # More cleaning\n",
    "    county_district = (\n",
    "        locodes\n",
    "        >> group_by(_.district, _.county_name)\n",
    "        >> count(_.county_name)\n",
    "        >> select(_.district, _.county_name)\n",
    "        >> filter(_.county_name != \"Multi-County\", _.district != 53)\n",
    "    )\n",
    "    county_info = pd.merge(\n",
    "        county_base,\n",
    "        county_district,\n",
    "        how=\"left\",\n",
    "        left_on=\"county_description\",\n",
    "        right_on=\"county_name\",\n",
    "    ).drop(columns=[\"county_name\"])\n",
    "    mapping1 = dict(county_info[[\"county_code\", \"county_description\"]].values)\n",
    "    mapping2 = dict(county_info[[\"county_code\", \"recipient_name\"]].values)\n",
    "    mapping3 = dict(county_info[[\"county_code\", \"district\"]].values)\n",
    "\n",
    "    final_df[\"county_description\"] = final_df.county_code.map(mapping1)\n",
    "    final_df[\"recipient_name\"] = final_df.county_code.map(mapping2)\n",
    "    final_df[\"district\"] = final_df.county_code.map(mapping3)\n",
    "\n",
    "    final_df.loc[final_df.county_name == \"Statewide County\", \"county_name\"] = (\n",
    "        \"Statewide\"\n",
    "    )\n",
    "\n",
    "    final_df[\"implementing_agency\"] = final_df[\"implementing_agency\"].fillna(\n",
    "        value=\"Unknown\"\n",
    "    )\n",
    "    final_df[\"county_name\"] = final_df[\"county_name\"].fillna(value=\"Unknown\")\n",
    "    return final_df"
   ]
  },
  {
   "cell_type": "code",
   "execution_count": null,
   "id": "642957f2-7d32-442f-b85d-3b6fd86adac0",
   "metadata": {
    "tags": []
   },
   "outputs": [],
   "source": [
    "project_df_test2 = identify_agency3(project_df)"
   ]
  },
  {
   "cell_type": "code",
   "execution_count": null,
   "id": "8f54c76b-6e5f-4df7-9a97-16773c5e7084",
   "metadata": {
    "tags": []
   },
   "outputs": [],
   "source": [
    "project_df_test2.columns"
   ]
  },
  {
   "cell_type": "code",
   "execution_count": null,
   "id": "b9daa968-54e5-4f7d-aa6b-d7eaab585689",
   "metadata": {
    "tags": []
   },
   "outputs": [],
   "source": [
    "county_info = pd.merge(\n",
    "    county_base,\n",
    "    county_district,\n",
    "    how=\"left\",\n",
    "    left_on=\"county_description\",\n",
    "    right_on=\"county_name\",\n",
    ")\n",
    "county_info.drop(columns=[\"county_name\"], axis=1, inplace=True)"
   ]
  },
  {
   "cell_type": "code",
   "execution_count": null,
   "id": "cdc4b780-c8c2-4da5-b8e3-315917fa6030",
   "metadata": {
    "tags": []
   },
   "outputs": [],
   "source": [
    "mapping1 = dict(county_info[[\"county_code\", \"county_description\"]].values)\n",
    "mapping2 = dict(county_info[[\"county_code\", \"recipient_name\"]].values)\n",
    "mapping3 = dict(county_info[[\"county_code\", \"district\"]].values)"
   ]
  },
  {
   "cell_type": "code",
   "execution_count": null,
   "id": "e8907136-9dff-44d2-a533-e3bd4cbaa943",
   "metadata": {
    "scrolled": true,
    "tags": []
   },
   "outputs": [],
   "source": [
    "mapping1"
   ]
  },
  {
   "cell_type": "code",
   "execution_count": null,
   "id": "66083a12-9243-4510-8bf8-3a9d69faded8",
   "metadata": {
    "tags": []
   },
   "outputs": [],
   "source": [
    "project_df_test2[\"county_description\"] = project_df_test2.county_code.map(mapping1)\n",
    "project_df_test2[\"recipient_name\"] = project_df_test2.county_code.map(mapping2)\n",
    "project_df_test2[\"district\"] = project_df_test2.county_code.map(mapping3)"
   ]
  },
  {
   "cell_type": "code",
   "execution_count": null,
   "id": "ae8148ed-49ea-4512-85a1-1f3d227409d8",
   "metadata": {
    "tags": []
   },
   "outputs": [],
   "source": [
    "project_df_test2.loc[\n",
    "    project_df_test2.county_name == \"Statewide County\", \"county_name\"\n",
    "] = \"Statewide\"\n",
    "\n",
    "project_df_test2[\"implementing_agency\"] = project_df_test2[\n",
    "    \"implementing_agency\"\n",
    "].fillna(value=\"Unknown\")\n",
    "project_df_test2[\"county_name\"] = project_df_test2[\"county_name\"].fillna(\n",
    "    value=\"Unknown\"\n",
    ")"
   ]
  },
  {
   "cell_type": "code",
   "execution_count": null,
   "id": "48518441-00db-478c-8183-459efe1e839f",
   "metadata": {
    "tags": []
   },
   "outputs": [],
   "source": [
    "project_df_test2.info()"
   ]
  },
  {
   "cell_type": "markdown",
   "id": "d61af090-87dc-4a90-b85a-31a96688c97e",
   "metadata": {},
   "source": [
    "### To-Do\n",
    "* How to incorporate `Funding Type Code` from `Ycodes` file\n",
    "* Er03 is still \"Emergency Rel 2023 Supplement Program\" instead of Emergency Supplement Funding"
   ]
  }
 ],
 "metadata": {
  "kernelspec": {
   "display_name": "Python 3 (ipykernel)",
   "language": "python",
   "name": "python3"
  },
  "language_info": {
   "codemirror_mode": {
    "name": "ipython",
    "version": 3
   },
   "file_extension": ".py",
   "mimetype": "text/x-python",
   "name": "python",
   "nbconvert_exporter": "python",
   "pygments_lexer": "ipython3",
   "version": "3.11.6"
  }
 },
 "nbformat": 4,
 "nbformat_minor": 5
}
