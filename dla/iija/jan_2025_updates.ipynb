{
 "cells": [
  {
   "cell_type": "markdown",
   "id": "39fa43a3-fc6a-4347-8dce-fe3f239bcd7e",
   "metadata": {},
   "source": [
    "## Requested updates submitted January 2025\n",
    "* Using the additional lists provided, can you please update your script to include additional program codes\n",
    "* Updates to program descriptions as highlighted in column C \n",
    "* Adding the funding type from column F in the script output. \n",
    "* Use the “RK Locode” column K in the Project list as the Primary Locode, and if blank, use your current data source to populate the implementing agency."
   ]
  },
  {
   "cell_type": "code",
   "execution_count": 1,
   "id": "a4b399a9-eb35-4373-b4d6-3758577c1da3",
   "metadata": {
    "tags": []
   },
   "outputs": [],
   "source": [
    "import _data_utils\n",
    "import _script_utils\n",
    "import numpy as np\n",
    "import pandas as pd\n",
    "from calitp_data_analysis.sql import to_snakecase"
   ]
  },
  {
   "cell_type": "code",
   "execution_count": 2,
   "id": "66ca9f6d-c09b-4afc-a1a4-3b36026c9b50",
   "metadata": {
    "tags": []
   },
   "outputs": [],
   "source": [
    "pd.options.display.max_columns = 100\n",
    "pd.options.display.float_format = \"{:.2f}\".format\n",
    "pd.set_option(\"display.max_rows\", None)\n",
    "pd.set_option(\"display.max_colwidth\", None)"
   ]
  },
  {
   "cell_type": "code",
   "execution_count": 3,
   "id": "a8dd533a-4b2c-4b4e-abad-d48d888af034",
   "metadata": {
    "tags": []
   },
   "outputs": [],
   "source": [
    "GCS_FILE_PATH = \"gs://calitp-analytics-data/data-analyses/dla/dla-iija\""
   ]
  },
  {
   "cell_type": "code",
   "execution_count": 4,
   "id": "a34ba60d-9026-4195-90be-8f83be39a408",
   "metadata": {
    "tags": []
   },
   "outputs": [],
   "source": [
    "project_list = \"IIJA Project List 01_2025.xlsx\""
   ]
  },
  {
   "cell_type": "code",
   "execution_count": 5,
   "id": "7d3c150d-1fa2-4245-98c4-8decbbe3f8b5",
   "metadata": {
    "tags": []
   },
   "outputs": [],
   "source": [
    "project_df = to_snakecase(pd.read_excel(f\"{GCS_FILE_PATH}/{project_list}\"))"
   ]
  },
  {
   "cell_type": "code",
   "execution_count": 6,
   "id": "f017b0d9-a568-4ad4-847e-93b792c7f8cf",
   "metadata": {
    "tags": []
   },
   "outputs": [
    {
     "data": {
      "text/html": [
       "<div>\n",
       "<style scoped>\n",
       "    .dataframe tbody tr th:only-of-type {\n",
       "        vertical-align: middle;\n",
       "    }\n",
       "\n",
       "    .dataframe tbody tr th {\n",
       "        vertical-align: top;\n",
       "    }\n",
       "\n",
       "    .dataframe thead th {\n",
       "        text-align: right;\n",
       "    }\n",
       "</style>\n",
       "<table border=\"1\" class=\"dataframe\">\n",
       "  <thead>\n",
       "    <tr style=\"text-align: right;\">\n",
       "      <th></th>\n",
       "      <th>fmis_transaction_date</th>\n",
       "      <th>program_code</th>\n",
       "      <th>program_code_description</th>\n",
       "      <th>pid_district</th>\n",
       "      <th>project_number</th>\n",
       "      <th>recipient_project_number</th>\n",
       "      <th>pid_check1</th>\n",
       "      <th>efis_id</th>\n",
       "      <th>pid_check2</th>\n",
       "      <th>project_title</th>\n",
       "      <th>rk_locode</th>\n",
       "      <th>county_code</th>\n",
       "      <th>congressional_district</th>\n",
       "      <th>project_status_description</th>\n",
       "      <th>project_description</th>\n",
       "      <th>improvement_type</th>\n",
       "      <th>improvement_type_description</th>\n",
       "      <th>total_cost_amount</th>\n",
       "      <th>obligations_amount</th>\n",
       "      <th>summary_recipient_defined_text_field_1_value</th>\n",
       "      <th>comp</th>\n",
       "    </tr>\n",
       "  </thead>\n",
       "  <tbody>\n",
       "    <tr>\n",
       "      <th>0</th>\n",
       "      <td>2022-01-20</td>\n",
       "      <td>ER01</td>\n",
       "      <td>EMERGENCY REL 2022 SUPPLEMENT</td>\n",
       "      <td>5.00</td>\n",
       "      <td>31RA002</td>\n",
       "      <td>0518000118S</td>\n",
       "      <td>11</td>\n",
       "      <td>0518000118</td>\n",
       "      <td>10</td>\n",
       "      <td>MONTEREY COUNTY NEAR BIG SUR 2.3 MILES NORTH OF CASTRO CANYON BRIDGE TO 0.8 MILE SOUTH OF BIG SUR RIVER BRIDGE. EMERGENCY PROJECT - PERMANENT RESTORA</td>\n",
       "      <td>NaN</td>\n",
       "      <td>53</td>\n",
       "      <td>Cong Dist 20</td>\n",
       "      <td>Active</td>\n",
       "      <td>MONTEREY COUNTY NEAR BIG SUR 2.3 MILES NORTH OF CASTRO CANYON BRIDGE TO 0.8 MILE SOUTH OF BIG SUR RIVER BRIDGE. EMERGENCY PROJECT - PERMANENT RESTORATION. COMPLETE COASTAL DEVELOPMENT PERMIT REQUIREMENTS AT PFEIFFER CANYON BRIDGE.</td>\n",
       "      <td>16</td>\n",
       "      <td>Right of Way</td>\n",
       "      <td>600000.00</td>\n",
       "      <td>531100.00</td>\n",
       "      <td>S    AMBAG</td>\n",
       "      <td>IIJA-A</td>\n",
       "    </tr>\n",
       "    <tr>\n",
       "      <th>1</th>\n",
       "      <td>2022-01-20</td>\n",
       "      <td>ER01</td>\n",
       "      <td>EMERGENCY REL 2022 SUPPLEMENT</td>\n",
       "      <td>5.00</td>\n",
       "      <td>31RA002</td>\n",
       "      <td>0518000118S</td>\n",
       "      <td>11</td>\n",
       "      <td>0518000118</td>\n",
       "      <td>10</td>\n",
       "      <td>MONTEREY COUNTY NEAR BIG SUR 2.3 MILES NORTH OF CASTRO CANYON BRIDGE TO 0.8 MILE SOUTH OF BIG SUR RIVER BRIDGE. EMERGENCY PROJECT - PERMANENT RESTORA</td>\n",
       "      <td>NaN</td>\n",
       "      <td>53</td>\n",
       "      <td>Cong Dist 20</td>\n",
       "      <td>Active</td>\n",
       "      <td>MONTEREY COUNTY NEAR BIG SUR 2.3 MILES NORTH OF CASTRO CANYON BRIDGE TO 0.8 MILE SOUTH OF BIG SUR RIVER BRIDGE. EMERGENCY PROJECT - PERMANENT RESTORATION. COMPLETE COASTAL DEVELOPMENT PERMIT REQUIREMENTS AT PFEIFFER CANYON BRIDGE.</td>\n",
       "      <td>43</td>\n",
       "      <td>Utilities</td>\n",
       "      <td>2770100.00</td>\n",
       "      <td>2452300.00</td>\n",
       "      <td>S    AMBAG</td>\n",
       "      <td>IIJA-A</td>\n",
       "    </tr>\n",
       "  </tbody>\n",
       "</table>\n",
       "</div>"
      ],
      "text/plain": [
       "  fmis_transaction_date program_code       program_code_description  \\\n",
       "0            2022-01-20         ER01  EMERGENCY REL 2022 SUPPLEMENT   \n",
       "1            2022-01-20         ER01  EMERGENCY REL 2022 SUPPLEMENT   \n",
       "\n",
       "   pid_district project_number recipient_project_number  pid_check1  \\\n",
       "0          5.00        31RA002              0518000118S          11   \n",
       "1          5.00        31RA002              0518000118S          11   \n",
       "\n",
       "      efis_id  pid_check2  \\\n",
       "0  0518000118          10   \n",
       "1  0518000118          10   \n",
       "\n",
       "                                                                                                                                           project_title  \\\n",
       "0  MONTEREY COUNTY NEAR BIG SUR 2.3 MILES NORTH OF CASTRO CANYON BRIDGE TO 0.8 MILE SOUTH OF BIG SUR RIVER BRIDGE. EMERGENCY PROJECT - PERMANENT RESTORA   \n",
       "1  MONTEREY COUNTY NEAR BIG SUR 2.3 MILES NORTH OF CASTRO CANYON BRIDGE TO 0.8 MILE SOUTH OF BIG SUR RIVER BRIDGE. EMERGENCY PROJECT - PERMANENT RESTORA   \n",
       "\n",
       "   rk_locode  county_code congressional_district project_status_description  \\\n",
       "0        NaN           53           Cong Dist 20                     Active   \n",
       "1        NaN           53           Cong Dist 20                     Active   \n",
       "\n",
       "                                                                                                                                                                                                                      project_description  \\\n",
       "0  MONTEREY COUNTY NEAR BIG SUR 2.3 MILES NORTH OF CASTRO CANYON BRIDGE TO 0.8 MILE SOUTH OF BIG SUR RIVER BRIDGE. EMERGENCY PROJECT - PERMANENT RESTORATION. COMPLETE COASTAL DEVELOPMENT PERMIT REQUIREMENTS AT PFEIFFER CANYON BRIDGE.   \n",
       "1  MONTEREY COUNTY NEAR BIG SUR 2.3 MILES NORTH OF CASTRO CANYON BRIDGE TO 0.8 MILE SOUTH OF BIG SUR RIVER BRIDGE. EMERGENCY PROJECT - PERMANENT RESTORATION. COMPLETE COASTAL DEVELOPMENT PERMIT REQUIREMENTS AT PFEIFFER CANYON BRIDGE.   \n",
       "\n",
       "   improvement_type improvement_type_description  total_cost_amount  \\\n",
       "0                16                 Right of Way          600000.00   \n",
       "1                43                    Utilities         2770100.00   \n",
       "\n",
       "   obligations_amount summary_recipient_defined_text_field_1_value    comp  \n",
       "0           531100.00                                   S    AMBAG  IIJA-A  \n",
       "1          2452300.00                                   S    AMBAG  IIJA-A  "
      ]
     },
     "execution_count": 6,
     "metadata": {},
     "output_type": "execute_result"
    }
   ],
   "source": [
    "project_df.head(2)"
   ]
  },
  {
   "cell_type": "code",
   "execution_count": 7,
   "id": "faed3484-17db-44d9-813d-06d9d7484b72",
   "metadata": {
    "tags": []
   },
   "outputs": [],
   "source": [
    "program_codes = \"program_codes/Ycodes_01.2025.xlsx\""
   ]
  },
  {
   "cell_type": "code",
   "execution_count": 8,
   "id": "141e34bc-bf6e-4c33-8799-9d1fac407b6b",
   "metadata": {
    "tags": []
   },
   "outputs": [],
   "source": [
    "program_codes_df = to_snakecase(pd.read_excel(f\"{GCS_FILE_PATH}/{program_codes}\"))"
   ]
  },
  {
   "cell_type": "code",
   "execution_count": 9,
   "id": "ab7ef29c-9e39-48ae-b0bd-cb846af2373e",
   "metadata": {
    "tags": []
   },
   "outputs": [
    {
     "data": {
      "text/plain": [
       "Index(['program_code', 'short_name', 'program_code_description',\n",
       "       'funding_type', 'funding_type_code', 'iija_code', 'notes_resources'],\n",
       "      dtype='object')"
      ]
     },
     "execution_count": 9,
     "metadata": {},
     "output_type": "execute_result"
    }
   ],
   "source": [
    "program_codes_df.columns"
   ]
  },
  {
   "cell_type": "markdown",
   "id": "b2c5ce92-45b7-4139-8d62-dba939d14bc1",
   "metadata": {},
   "source": [
    "### Breakout `_data_utils.update_program_code_list2()`"
   ]
  },
  {
   "cell_type": "code",
   "execution_count": 10,
   "id": "e009810c-bc32-41bf-a824-8491dc85266f",
   "metadata": {
    "tags": []
   },
   "outputs": [],
   "source": [
    "def add_program_to_row(row):\n",
    "    if \"Program\" not in row[\"program_name\"]:\n",
    "        return row[\"program_name\"] + \" Program\"\n",
    "    else:\n",
    "        return row[\"program_name\"]"
   ]
  },
  {
   "cell_type": "code",
   "execution_count": 11,
   "id": "916c246a-77a2-44f0-a2b9-dddd526d033f",
   "metadata": {
    "tags": []
   },
   "outputs": [],
   "source": [
    "original_codes = to_snakecase(\n",
    "    pd.read_excel(f\"{GCS_FILE_PATH}/program_codes/Copy of lst_IIJA_Code_20230908.xlsx\")\n",
    ")[[\"iija_program_code\", \"description\", \"program_name\"]]"
   ]
  },
  {
   "cell_type": "code",
   "execution_count": 12,
   "id": "8b95ae8c-d6d0-412f-9abf-ad5fb8269eee",
   "metadata": {
    "tags": []
   },
   "outputs": [
    {
     "data": {
      "text/html": [
       "<div>\n",
       "<style scoped>\n",
       "    .dataframe tbody tr th:only-of-type {\n",
       "        vertical-align: middle;\n",
       "    }\n",
       "\n",
       "    .dataframe tbody tr th {\n",
       "        vertical-align: top;\n",
       "    }\n",
       "\n",
       "    .dataframe thead th {\n",
       "        text-align: right;\n",
       "    }\n",
       "</style>\n",
       "<table border=\"1\" class=\"dataframe\">\n",
       "  <thead>\n",
       "    <tr style=\"text-align: right;\">\n",
       "      <th></th>\n",
       "      <th>iija_program_code</th>\n",
       "      <th>description</th>\n",
       "      <th>program_name</th>\n",
       "    </tr>\n",
       "  </thead>\n",
       "  <tbody>\n",
       "    <tr>\n",
       "      <th>0</th>\n",
       "      <td>22MP</td>\n",
       "      <td>Metropolitan Transportation Planning (FY 22)</td>\n",
       "      <td>Metropolitan Transportation Planning (FY 22)</td>\n",
       "    </tr>\n",
       "    <tr>\n",
       "      <th>1</th>\n",
       "      <td>22SP</td>\n",
       "      <td>Statewide and Nonmetropolitan Transportation Planning (FY 22)</td>\n",
       "      <td>Statewide and Nonmetropolitan Transportation Planning (FY 22)</td>\n",
       "    </tr>\n",
       "    <tr>\n",
       "      <th>2</th>\n",
       "      <td>73AD</td>\n",
       "      <td>Military Construction (FMIS)</td>\n",
       "      <td>Military Construction</td>\n",
       "    </tr>\n",
       "    <tr>\n",
       "      <th>3</th>\n",
       "      <td>ER01</td>\n",
       "      <td>Emergency Suppliment Funding</td>\n",
       "      <td>Emergency Supplement Funding</td>\n",
       "    </tr>\n",
       "    <tr>\n",
       "      <th>4</th>\n",
       "      <td>N003</td>\n",
       "      <td>CMAQ - Projects to Reduce PM 2.5 Emissions</td>\n",
       "      <td>Congestion Mitigation &amp; Air Quality Improvement</td>\n",
       "    </tr>\n",
       "  </tbody>\n",
       "</table>\n",
       "</div>"
      ],
      "text/plain": [
       "  iija_program_code  \\\n",
       "0              22MP   \n",
       "1              22SP   \n",
       "2              73AD   \n",
       "3              ER01   \n",
       "4              N003   \n",
       "\n",
       "                                                     description  \\\n",
       "0                   Metropolitan Transportation Planning (FY 22)   \n",
       "1  Statewide and Nonmetropolitan Transportation Planning (FY 22)   \n",
       "2                                   Military Construction (FMIS)   \n",
       "3                                   Emergency Suppliment Funding   \n",
       "4                     CMAQ - Projects to Reduce PM 2.5 Emissions   \n",
       "\n",
       "                                                    program_name  \n",
       "0                   Metropolitan Transportation Planning (FY 22)  \n",
       "1  Statewide and Nonmetropolitan Transportation Planning (FY 22)  \n",
       "2                                          Military Construction  \n",
       "3                                   Emergency Supplement Funding  \n",
       "4                Congestion Mitigation & Air Quality Improvement  "
      ]
     },
     "execution_count": 12,
     "metadata": {},
     "output_type": "execute_result"
    }
   ],
   "source": [
    "original_codes.head()"
   ]
  },
  {
   "cell_type": "code",
   "execution_count": 13,
   "id": "4c0099e8-b84a-46d4-8b78-e94f0f1a8c2a",
   "metadata": {
    "tags": []
   },
   "outputs": [],
   "source": [
    "def update_program_code_list(new_codes: pd.DataFrame) -> pd.DataFrame:\n",
    "    original_codes = to_snakecase(\n",
    "        pd.read_excel(\n",
    "            f\"{GCS_FILE_PATH}/program_codes/Copy of lst_IIJA_Code_20230908.xlsx\"\n",
    "        )\n",
    "    )[[\"iija_program_code\", \"description\", \"program_name\"]]\n",
    "\n",
    "    program_codes = pd.merge(\n",
    "        original_codes,\n",
    "        new_codes,\n",
    "        on=\"iija_program_code\",\n",
    "        how=\"outer\",\n",
    "        indicator=True,\n",
    "    )\n",
    "\n",
    "    display(program_codes._merge.value_counts())\n",
    "\n",
    "    program_codes[\"new_description\"] = (\n",
    "        program_codes[\"new_description\"]\n",
    "        .str.strip()\n",
    "        .fillna(program_codes[\"description\"])\n",
    "    )\n",
    "\n",
    "    program_codes = program_codes.drop(columns={\"description\", \"_merge\"})\n",
    "\n",
    "    # program_codes[\"program_name\"] = program_codes.apply(add_program_to_row, axis=1)\n",
    "\n",
    "    return program_codes"
   ]
  },
  {
   "cell_type": "code",
   "execution_count": 14,
   "id": "5390e411-38cd-4843-bac8-8bb5ae894c77",
   "metadata": {
    "tags": []
   },
   "outputs": [],
   "source": [
    "def program_codes_sept_2023() -> pd.DataFrame:\n",
    "    df = to_snakecase(\n",
    "        pd.read_excel(\n",
    "            f\"{GCS_FILE_PATH}/program_codes/FY21-22ProgramCodesAsOf5-25-2022.v2_expanded090823.xlsx\"\n",
    "        )\n",
    "    )[[\"iija_program_code\", \"new_description\"]]\n",
    "    return df"
   ]
  },
  {
   "cell_type": "code",
   "execution_count": 15,
   "id": "71b03c78-195c-47cb-9437-d19101f0beaf",
   "metadata": {
    "tags": []
   },
   "outputs": [],
   "source": [
    "program_codes_sept_2023 = program_codes_sept_2023()"
   ]
  },
  {
   "cell_type": "code",
   "execution_count": 16,
   "id": "1815a20f-e378-40c6-a6ae-964a641183a3",
   "metadata": {
    "tags": []
   },
   "outputs": [
    {
     "data": {
      "text/html": [
       "<div>\n",
       "<style scoped>\n",
       "    .dataframe tbody tr th:only-of-type {\n",
       "        vertical-align: middle;\n",
       "    }\n",
       "\n",
       "    .dataframe tbody tr th {\n",
       "        vertical-align: top;\n",
       "    }\n",
       "\n",
       "    .dataframe thead th {\n",
       "        text-align: right;\n",
       "    }\n",
       "</style>\n",
       "<table border=\"1\" class=\"dataframe\">\n",
       "  <thead>\n",
       "    <tr style=\"text-align: right;\">\n",
       "      <th></th>\n",
       "      <th>iija_program_code</th>\n",
       "      <th>new_description</th>\n",
       "    </tr>\n",
       "  </thead>\n",
       "  <tbody>\n",
       "    <tr>\n",
       "      <th>0</th>\n",
       "      <td>Y001</td>\n",
       "      <td>National Highway Performance Program (NHPP)</td>\n",
       "    </tr>\n",
       "    <tr>\n",
       "      <th>1</th>\n",
       "      <td>Y002</td>\n",
       "      <td>National Highway Performance Program (NHPP)</td>\n",
       "    </tr>\n",
       "  </tbody>\n",
       "</table>\n",
       "</div>"
      ],
      "text/plain": [
       "  iija_program_code                              new_description\n",
       "0              Y001  National Highway Performance Program (NHPP)\n",
       "1              Y002  National Highway Performance Program (NHPP)"
      ]
     },
     "execution_count": 16,
     "metadata": {},
     "output_type": "execute_result"
    }
   ],
   "source": [
    "program_codes_sept_2023.head(2)"
   ]
  },
  {
   "cell_type": "code",
   "execution_count": 17,
   "id": "e4ffaef0-a621-43d2-b6d2-1ffbbff60ce1",
   "metadata": {
    "tags": []
   },
   "outputs": [
    {
     "data": {
      "text/plain": [
       "(132, 2)"
      ]
     },
     "execution_count": 17,
     "metadata": {},
     "output_type": "execute_result"
    }
   ],
   "source": [
    "program_codes_sept_2023.shape"
   ]
  },
  {
   "cell_type": "code",
   "execution_count": 18,
   "id": "c3666edd-8ebb-49a4-8871-a248e6723634",
   "metadata": {
    "tags": []
   },
   "outputs": [
    {
     "data": {
      "text/plain": [
       "both          133\n",
       "left_only       3\n",
       "right_only      0\n",
       "Name: _merge, dtype: int64"
      ]
     },
     "metadata": {},
     "output_type": "display_data"
    }
   ],
   "source": [
    "program_codes1 = update_program_code_list(\n",
    "    program_codes_sept_2023,\n",
    ")"
   ]
  },
  {
   "cell_type": "code",
   "execution_count": 19,
   "id": "d877246e-eef0-44fb-a845-18928b994e7c",
   "metadata": {
    "tags": []
   },
   "outputs": [
    {
     "data": {
      "text/html": [
       "<div>\n",
       "<style scoped>\n",
       "    .dataframe tbody tr th:only-of-type {\n",
       "        vertical-align: middle;\n",
       "    }\n",
       "\n",
       "    .dataframe tbody tr th {\n",
       "        vertical-align: top;\n",
       "    }\n",
       "\n",
       "    .dataframe thead th {\n",
       "        text-align: right;\n",
       "    }\n",
       "</style>\n",
       "<table border=\"1\" class=\"dataframe\">\n",
       "  <thead>\n",
       "    <tr style=\"text-align: right;\">\n",
       "      <th></th>\n",
       "      <th>iija_program_code</th>\n",
       "      <th>program_name</th>\n",
       "      <th>new_description</th>\n",
       "    </tr>\n",
       "  </thead>\n",
       "  <tbody>\n",
       "    <tr>\n",
       "      <th>0</th>\n",
       "      <td>22MP</td>\n",
       "      <td>Metropolitan Transportation Planning (FY 22)</td>\n",
       "      <td>Metropolitan Transportation Planning (FY 22)</td>\n",
       "    </tr>\n",
       "    <tr>\n",
       "      <th>1</th>\n",
       "      <td>22SP</td>\n",
       "      <td>Statewide and Nonmetropolitan Transportation Planning (FY 22)</td>\n",
       "      <td>Statewide and Nonmetropolitan Transportation Planning (FY 22)</td>\n",
       "    </tr>\n",
       "    <tr>\n",
       "      <th>2</th>\n",
       "      <td>73AD</td>\n",
       "      <td>Military Construction</td>\n",
       "      <td>Military Construction (FMIS)</td>\n",
       "    </tr>\n",
       "    <tr>\n",
       "      <th>3</th>\n",
       "      <td>ER01</td>\n",
       "      <td>Emergency Supplement Funding</td>\n",
       "      <td>Emergency Suppliment Funding</td>\n",
       "    </tr>\n",
       "    <tr>\n",
       "      <th>4</th>\n",
       "      <td>N003</td>\n",
       "      <td>Congestion Mitigation &amp; Air Quality Improvement</td>\n",
       "      <td>CMAQ - Projects to Reduce PM 2.5 Emissions</td>\n",
       "    </tr>\n",
       "  </tbody>\n",
       "</table>\n",
       "</div>"
      ],
      "text/plain": [
       "  iija_program_code  \\\n",
       "0              22MP   \n",
       "1              22SP   \n",
       "2              73AD   \n",
       "3              ER01   \n",
       "4              N003   \n",
       "\n",
       "                                                    program_name  \\\n",
       "0                   Metropolitan Transportation Planning (FY 22)   \n",
       "1  Statewide and Nonmetropolitan Transportation Planning (FY 22)   \n",
       "2                                          Military Construction   \n",
       "3                                   Emergency Supplement Funding   \n",
       "4                Congestion Mitigation & Air Quality Improvement   \n",
       "\n",
       "                                                 new_description  \n",
       "0                   Metropolitan Transportation Planning (FY 22)  \n",
       "1  Statewide and Nonmetropolitan Transportation Planning (FY 22)  \n",
       "2                                   Military Construction (FMIS)  \n",
       "3                                   Emergency Suppliment Funding  \n",
       "4                     CMAQ - Projects to Reduce PM 2.5 Emissions  "
      ]
     },
     "execution_count": 19,
     "metadata": {},
     "output_type": "execute_result"
    }
   ],
   "source": [
    "program_codes1.head()"
   ]
  },
  {
   "cell_type": "code",
   "execution_count": 20,
   "id": "3a2f0b60-fe3a-4d77-967e-b2f1b1c676c4",
   "metadata": {
    "tags": []
   },
   "outputs": [],
   "source": [
    "program_codes1 = program_codes1.rename(columns={\"new_description\": \"description\"})"
   ]
  },
  {
   "cell_type": "code",
   "execution_count": 21,
   "id": "974940da-d7de-4f71-905e-14e055f853cd",
   "metadata": {
    "tags": []
   },
   "outputs": [],
   "source": [
    "program_codes_jan_2025 = \"Ycodes_01.2025.xlsx\""
   ]
  },
  {
   "cell_type": "code",
   "execution_count": 22,
   "id": "3a28a482-7f97-4b60-b68d-5da002f26d2f",
   "metadata": {
    "tags": []
   },
   "outputs": [],
   "source": [
    "def program_codes_jan_2025() -> pd.DataFrame:\n",
    "    df = to_snakecase(\n",
    "        pd.read_excel(f\"{GCS_FILE_PATH}/program_codes/Ycodes_01.2025.xlsx\")\n",
    "    )[[\"program_code\", \"short_name\", \"program_code_description\", \"iija_code\"]]\n",
    "\n",
    "    df = df.rename(\n",
    "        columns={\n",
    "            \"program_code\": \"iija_program_code\",\n",
    "            \"program_code_description\": \"new_description\",\n",
    "            \"short_name\": \"program_name\",\n",
    "        }\n",
    "    )\n",
    "    df.program_name = df.program_name.str.title()\n",
    "    return df"
   ]
  },
  {
   "cell_type": "code",
   "execution_count": 23,
   "id": "191e5309-1f61-48e7-a2fb-7bf6ab786ab0",
   "metadata": {
    "tags": []
   },
   "outputs": [],
   "source": [
    "program_codes_jan_2025 = program_codes_jan_2025()"
   ]
  },
  {
   "cell_type": "code",
   "execution_count": 24,
   "id": "73ebfc4a-e788-41f2-906f-3e56970d45ee",
   "metadata": {
    "tags": []
   },
   "outputs": [
    {
     "data": {
      "text/html": [
       "<div>\n",
       "<style scoped>\n",
       "    .dataframe tbody tr th:only-of-type {\n",
       "        vertical-align: middle;\n",
       "    }\n",
       "\n",
       "    .dataframe tbody tr th {\n",
       "        vertical-align: top;\n",
       "    }\n",
       "\n",
       "    .dataframe thead th {\n",
       "        text-align: right;\n",
       "    }\n",
       "</style>\n",
       "<table border=\"1\" class=\"dataframe\">\n",
       "  <thead>\n",
       "    <tr style=\"text-align: right;\">\n",
       "      <th></th>\n",
       "      <th>iija_program_code</th>\n",
       "      <th>program_name</th>\n",
       "      <th>new_description</th>\n",
       "      <th>iija_code</th>\n",
       "    </tr>\n",
       "  </thead>\n",
       "  <tbody>\n",
       "    <tr>\n",
       "      <th>0</th>\n",
       "      <td>Y44A</td>\n",
       "      <td>Adv Tech Innv Mobility Deploy</td>\n",
       "      <td>Advanced Transportation Technologies Deployment Program</td>\n",
       "      <td>ATTD</td>\n",
       "    </tr>\n",
       "    <tr>\n",
       "      <th>1</th>\n",
       "      <td>Y110</td>\n",
       "      <td>Hip Bridge Formula Program</td>\n",
       "      <td>Bridge Formula Program</td>\n",
       "      <td>BFP</td>\n",
       "    </tr>\n",
       "    <tr>\n",
       "      <th>2</th>\n",
       "      <td>Y113</td>\n",
       "      <td>Hip Bridge Formula Program</td>\n",
       "      <td>Bridge Formula Program</td>\n",
       "      <td>BFP</td>\n",
       "    </tr>\n",
       "    <tr>\n",
       "      <th>3</th>\n",
       "      <td>Y114</td>\n",
       "      <td>Hip Bridge Formula Program-24</td>\n",
       "      <td>Bridge Formula Program</td>\n",
       "      <td>BFP</td>\n",
       "    </tr>\n",
       "    <tr>\n",
       "      <th>4</th>\n",
       "      <td>Y115</td>\n",
       "      <td>Hip Bridge Formula Program-25</td>\n",
       "      <td>Bridge Formula Program</td>\n",
       "      <td>BFP</td>\n",
       "    </tr>\n",
       "  </tbody>\n",
       "</table>\n",
       "</div>"
      ],
      "text/plain": [
       "  iija_program_code                   program_name  \\\n",
       "0              Y44A  Adv Tech Innv Mobility Deploy   \n",
       "1              Y110     Hip Bridge Formula Program   \n",
       "2              Y113     Hip Bridge Formula Program   \n",
       "3              Y114  Hip Bridge Formula Program-24   \n",
       "4              Y115  Hip Bridge Formula Program-25   \n",
       "\n",
       "                                           new_description iija_code  \n",
       "0  Advanced Transportation Technologies Deployment Program      ATTD  \n",
       "1                                   Bridge Formula Program       BFP  \n",
       "2                                   Bridge Formula Program       BFP  \n",
       "3                                   Bridge Formula Program       BFP  \n",
       "4                                   Bridge Formula Program       BFP  "
      ]
     },
     "execution_count": 24,
     "metadata": {},
     "output_type": "execute_result"
    }
   ],
   "source": [
    "program_codes_jan_2025.head()"
   ]
  },
  {
   "cell_type": "code",
   "execution_count": 25,
   "id": "4d9c9ac2-9080-45e4-9ece-69daaac25a6c",
   "metadata": {
    "tags": []
   },
   "outputs": [
    {
     "data": {
      "text/plain": [
       "left_only     86\n",
       "both          50\n",
       "right_only    22\n",
       "Name: _merge, dtype: int64"
      ]
     },
     "metadata": {},
     "output_type": "display_data"
    }
   ],
   "source": [
    "program_codes2 = update_program_code_list(\n",
    "    program_codes_jan_2025,\n",
    ")"
   ]
  },
  {
   "cell_type": "code",
   "execution_count": 26,
   "id": "8d741eda-e6a2-4681-9239-7260ecf84135",
   "metadata": {
    "tags": []
   },
   "outputs": [
    {
     "data": {
      "text/plain": [
       "Index(['iija_program_code', 'program_name_x', 'program_name_y',\n",
       "       'new_description', 'iija_code'],\n",
       "      dtype='object')"
      ]
     },
     "execution_count": 26,
     "metadata": {},
     "output_type": "execute_result"
    }
   ],
   "source": [
    "program_codes2.columns"
   ]
  },
  {
   "cell_type": "code",
   "execution_count": 27,
   "id": "2a8c4e9e-fa42-48be-9340-1a08a0147032",
   "metadata": {
    "tags": []
   },
   "outputs": [],
   "source": [
    "program_codes2.program_name_x = program_codes2.program_name_x.fillna(\n",
    "    program_codes2.program_name_y\n",
    ")"
   ]
  },
  {
   "cell_type": "code",
   "execution_count": 28,
   "id": "6f30cf8d-34aa-428b-b3e6-a62c85bc885d",
   "metadata": {
    "tags": []
   },
   "outputs": [],
   "source": [
    "program_codes2 = program_codes2.rename(columns={\"program_name_x\": \"program\"}).drop(\n",
    "    columns=[\"program_name_y\"]\n",
    ")"
   ]
  },
  {
   "cell_type": "code",
   "execution_count": 29,
   "id": "698dff53-f47d-49d8-bfe7-85bf3558eb39",
   "metadata": {
    "tags": []
   },
   "outputs": [
    {
     "data": {
      "text/html": [
       "<div>\n",
       "<style scoped>\n",
       "    .dataframe tbody tr th:only-of-type {\n",
       "        vertical-align: middle;\n",
       "    }\n",
       "\n",
       "    .dataframe tbody tr th {\n",
       "        vertical-align: top;\n",
       "    }\n",
       "\n",
       "    .dataframe thead th {\n",
       "        text-align: right;\n",
       "    }\n",
       "</style>\n",
       "<table border=\"1\" class=\"dataframe\">\n",
       "  <thead>\n",
       "    <tr style=\"text-align: right;\">\n",
       "      <th></th>\n",
       "      <th>iija_program_code</th>\n",
       "      <th>program</th>\n",
       "      <th>new_description</th>\n",
       "      <th>iija_code</th>\n",
       "    </tr>\n",
       "  </thead>\n",
       "  <tbody>\n",
       "    <tr>\n",
       "      <th>0</th>\n",
       "      <td>22MP</td>\n",
       "      <td>Metropolitan Transportation Planning (FY 22)</td>\n",
       "      <td>Metropolitan Transportation Planning (FY 22)</td>\n",
       "      <td>NaN</td>\n",
       "    </tr>\n",
       "    <tr>\n",
       "      <th>1</th>\n",
       "      <td>22SP</td>\n",
       "      <td>Statewide and Nonmetropolitan Transportation Planning (FY 22)</td>\n",
       "      <td>Statewide and Nonmetropolitan Transportation Planning (FY 22)</td>\n",
       "      <td>NaN</td>\n",
       "    </tr>\n",
       "    <tr>\n",
       "      <th>2</th>\n",
       "      <td>73AD</td>\n",
       "      <td>Military Construction</td>\n",
       "      <td>Military Construction (FMIS)</td>\n",
       "      <td>NaN</td>\n",
       "    </tr>\n",
       "    <tr>\n",
       "      <th>3</th>\n",
       "      <td>ER01</td>\n",
       "      <td>Emergency Supplement Funding</td>\n",
       "      <td>Emergency Supplement Funding</td>\n",
       "      <td>ER</td>\n",
       "    </tr>\n",
       "    <tr>\n",
       "      <th>4</th>\n",
       "      <td>N003</td>\n",
       "      <td>Congestion Mitigation &amp; Air Quality Improvement</td>\n",
       "      <td>CMAQ - Projects to Reduce PM 2.5 Emissions</td>\n",
       "      <td>NaN</td>\n",
       "    </tr>\n",
       "  </tbody>\n",
       "</table>\n",
       "</div>"
      ],
      "text/plain": [
       "  iija_program_code  \\\n",
       "0              22MP   \n",
       "1              22SP   \n",
       "2              73AD   \n",
       "3              ER01   \n",
       "4              N003   \n",
       "\n",
       "                                                         program  \\\n",
       "0                   Metropolitan Transportation Planning (FY 22)   \n",
       "1  Statewide and Nonmetropolitan Transportation Planning (FY 22)   \n",
       "2                                          Military Construction   \n",
       "3                                   Emergency Supplement Funding   \n",
       "4                Congestion Mitigation & Air Quality Improvement   \n",
       "\n",
       "                                                 new_description iija_code  \n",
       "0                   Metropolitan Transportation Planning (FY 22)       NaN  \n",
       "1  Statewide and Nonmetropolitan Transportation Planning (FY 22)       NaN  \n",
       "2                                   Military Construction (FMIS)       NaN  \n",
       "3                                   Emergency Supplement Funding        ER  \n",
       "4                     CMAQ - Projects to Reduce PM 2.5 Emissions       NaN  "
      ]
     },
     "execution_count": 29,
     "metadata": {},
     "output_type": "execute_result"
    }
   ],
   "source": [
    "program_codes2.head()"
   ]
  },
  {
   "cell_type": "markdown",
   "id": "6fe54343-fa83-4afb-8131-a45526a302d5",
   "metadata": {},
   "source": [
    "### Many program_name values are missing because the program code file that was emailed January 2025 contains new codes that didn't appear before. Which column in the January 2025 dfata now represents `program_name`?"
   ]
  },
  {
   "cell_type": "code",
   "execution_count": null,
   "id": "6419bfd9-b593-4bf3-a60f-daf4f48da5ff",
   "metadata": {
    "tags": []
   },
   "outputs": [],
   "source": [
    "program_codes2.loc[program_codes2.program_name.isna()]"
   ]
  },
  {
   "cell_type": "code",
   "execution_count": null,
   "id": "c6474e81-1953-4db6-8496-32a675122730",
   "metadata": {
    "tags": []
   },
   "outputs": [],
   "source": [
    "program_codes2.info()"
   ]
  }
 ],
 "metadata": {
  "kernelspec": {
   "display_name": "Python 3 (ipykernel)",
   "language": "python",
   "name": "python3"
  },
  "language_info": {
   "codemirror_mode": {
    "name": "ipython",
    "version": 3
   },
   "file_extension": ".py",
   "mimetype": "text/x-python",
   "name": "python",
   "nbconvert_exporter": "python",
   "pygments_lexer": "ipython3",
   "version": "3.11.6"
  }
 },
 "nbformat": 4,
 "nbformat_minor": 5
}
