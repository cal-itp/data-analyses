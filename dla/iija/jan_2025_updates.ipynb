{
 "cells": [
  {
   "cell_type": "markdown",
   "id": "39fa43a3-fc6a-4347-8dce-fe3f239bcd7e",
   "metadata": {},
   "source": [
    "## Requested updates submitted January 2025\n",
    "* Using the additional lists provided, can you please update your script to include additional program codes\n",
    "* Updates to program descriptions as highlighted in column C \n",
    "* Adding the funding type from column F in the script output. \n",
    "* Use the “RK Locode” column K in the Project list as the Primary Locode, and if blank, use your current data source to populate the implementing agency."
   ]
  },
  {
   "cell_type": "code",
   "execution_count": null,
   "id": "778d4940-b921-4572-9392-c2d13ecf616b",
   "metadata": {},
   "outputs": [],
   "source": []
  },
  {
   "cell_type": "code",
   "execution_count": null,
   "id": "b80bf0e2-ec31-424b-9649-9313d79c3fbe",
   "metadata": {},
   "outputs": [],
   "source": []
  },
  {
   "cell_type": "code",
   "execution_count": 1,
   "id": "a4b399a9-eb35-4373-b4d6-3758577c1da3",
   "metadata": {
    "tags": []
   },
   "outputs": [],
   "source": [
    "import _data_utils\n",
    "import _script_utils\n",
    "import numpy as np\n",
    "import pandas as pd\n",
    "from calitp_data_analysis.sql import to_snakecase"
   ]
  },
  {
   "cell_type": "code",
   "execution_count": 2,
   "id": "66ca9f6d-c09b-4afc-a1a4-3b36026c9b50",
   "metadata": {
    "tags": []
   },
   "outputs": [],
   "source": [
    "pd.options.display.max_columns = 100\n",
    "pd.options.display.float_format = \"{:.2f}\".format\n",
    "pd.set_option(\"display.max_rows\", None)\n",
    "pd.set_option(\"display.max_colwidth\", None)"
   ]
  },
  {
   "cell_type": "code",
   "execution_count": 3,
   "id": "a8dd533a-4b2c-4b4e-abad-d48d888af034",
   "metadata": {
    "tags": []
   },
   "outputs": [],
   "source": [
    "GCS_FILE_PATH = \"gs://calitp-analytics-data/data-analyses/dla/dla-iija\""
   ]
  },
  {
   "cell_type": "code",
   "execution_count": 4,
   "id": "a34ba60d-9026-4195-90be-8f83be39a408",
   "metadata": {
    "tags": []
   },
   "outputs": [],
   "source": [
    "project_list = \"IIJA Project List 01_2025.xlsx\""
   ]
  },
  {
   "cell_type": "code",
   "execution_count": 5,
   "id": "7d3c150d-1fa2-4245-98c4-8decbbe3f8b5",
   "metadata": {
    "tags": []
   },
   "outputs": [],
   "source": [
    "project_df = to_snakecase(pd.read_excel(f\"{GCS_FILE_PATH}/{project_list}\"))"
   ]
  },
  {
   "cell_type": "code",
   "execution_count": 6,
   "id": "faed3484-17db-44d9-813d-06d9d7484b72",
   "metadata": {
    "tags": []
   },
   "outputs": [],
   "source": [
    "program_codes = \"program_codes/Ycodes_01.2025.xlsx\""
   ]
  },
  {
   "cell_type": "code",
   "execution_count": 7,
   "id": "141e34bc-bf6e-4c33-8799-9d1fac407b6b",
   "metadata": {
    "tags": []
   },
   "outputs": [],
   "source": [
    "program_codes_df = to_snakecase(pd.read_excel(f\"{GCS_FILE_PATH}/{program_codes}\"))"
   ]
  },
  {
   "cell_type": "code",
   "execution_count": 8,
   "id": "ab7ef29c-9e39-48ae-b0bd-cb846af2373e",
   "metadata": {
    "tags": []
   },
   "outputs": [
    {
     "data": {
      "text/plain": [
       "Index(['program_code', 'short_name', 'program_code_description',\n",
       "       'funding_type', 'funding_type_code', 'iija_code', 'notes_resources'],\n",
       "      dtype='object')"
      ]
     },
     "execution_count": 8,
     "metadata": {},
     "output_type": "execute_result"
    }
   ],
   "source": [
    "program_codes_df.columns"
   ]
  },
  {
   "cell_type": "markdown",
   "id": "cec03946-0ab2-4116-877c-f7f74eb8e99f",
   "metadata": {},
   "source": [
    "### Testing"
   ]
  },
  {
   "cell_type": "code",
   "execution_count": 9,
   "id": "92170584-1c45-4000-93b3-4058b3023e52",
   "metadata": {
    "tags": []
   },
   "outputs": [],
   "source": [
    "new_codes = _data_utils.update_program_code_list_2025()"
   ]
  },
  {
   "cell_type": "code",
   "execution_count": 10,
   "id": "e80e5c6d-3dfd-4385-9360-7adc5f0cbb33",
   "metadata": {
    "tags": []
   },
   "outputs": [],
   "source": [
    "iija_code_map = dict(new_codes[['iija_program_code', 'program_name']].values)"
   ]
  },
  {
   "cell_type": "code",
   "execution_count": 11,
   "id": "a339a956-c1c9-46f8-9f1e-aa1e70ee0939",
   "metadata": {
    "scrolled": true,
    "tags": []
   },
   "outputs": [
    {
     "data": {
      "text/plain": [
       "{'Y44A': 'Advanced Transportation Technologies Deployment Program',\n",
       " 'Y110': 'Bridge Formula Program',\n",
       " 'Y113': 'Bridge Formula Program',\n",
       " 'Y114': 'Hip Bridge Formula Program-24',\n",
       " 'Y115': 'Hip Bridge Formula Program-25',\n",
       " 'Y120': 'Bridge Formula Program',\n",
       " 'Y123': 'Hip Bridge Formula Pgm Off-Sys Program',\n",
       " 'Y124': 'Hip Bridge Form Prm-Off Sys-24 Program',\n",
       " 'Y125': 'Hip Bridge Form Prm-Off Sys-25 Program',\n",
       " 'Y908': 'Bridge Replacement and Rehabilitation Program',\n",
       " 'Y909': 'Bridge Replacement and Rehabilitation Program',\n",
       " 'Y600': 'Carbon Reduction Program',\n",
       " 'Y601': 'Carbon Reduction Program',\n",
       " 'Y606': 'Carbon Reduction Program',\n",
       " 'Y607': 'Carbon Reduction Program',\n",
       " 'Y608': 'Carbon Reduction Program',\n",
       " 'Y407': 'Charging & Fueling Infra-Iija Program',\n",
       " 'Y603': 'Hip Comm Proj Cong-Dir 24 Hif Program',\n",
       " 'Y926': 'Community Project Funding Congressionally Directed Spending Program',\n",
       " 'Y928': 'Community Project Funding Congressionally Directed Spending Program',\n",
       " 'Y400': 'Congestion Mitigation & Air Quality Improvement Program',\n",
       " 'Y480': 'Disadvantaged Business Enterprises Program',\n",
       " 'ER01': 'Emergency Supplement Funding Program',\n",
       " 'ER03': 'Emergency Rel 2023 Supplement Program',\n",
       " 'Y520': 'Federal Lands Program',\n",
       " 'Y953': 'Hip Con Ferry Boats Fac Prp-22 Program',\n",
       " 'Y95A': 'Ferry Boats & Termnl Iija-Fy22 Program',\n",
       " 'Y95B': 'Ferry Boats & Termnl Iija-Fy23 Program',\n",
       " 'YS60': 'High Risk Rural Roads Special Rule Program',\n",
       " 'Y445': 'Hwy Rsch & Developmnt Iija Hep Program',\n",
       " 'Y448': 'Highway Research and Development Program',\n",
       " 'YS30': 'Highway Safety Improvement Program (HSIP)',\n",
       " 'Y441': 'Ltap Training & Education Iija Program',\n",
       " 'Y450': 'Metropolitan Planning Program',\n",
       " 'Y130': 'National Electrict Vehicle Formula Program',\n",
       " 'Y133': 'Hip Natl Electric Vhcle Infra-23 Program',\n",
       " 'Y134': 'Hip Natl Electric Vhcle Infra-24 Program',\n",
       " 'Y136': 'Hip Natl Electric Vhcle Infra-25 Program',\n",
       " 'Y131': 'Hip Ntl Elc Vhcl Tec Asst-Fy22 Program',\n",
       " 'Y460': 'National Highway Freight Program (NHFP)',\n",
       " 'Y001': 'National Highway Performance Program (NHPP)',\n",
       " 'Y49B': 'Natl Summer Trans Inst Sk Iija Program',\n",
       " 'Y49C': 'Natl Summer Trans Ins Had Iija Program',\n",
       " 'Y490': 'On the Job Skills Training Program',\n",
       " 'Y49D': 'Ojt Iija 2024 Ocr Program',\n",
       " 'Y003': 'Projects to Reduce PM 2.5 Emissions Program',\n",
       " 'Y800': 'PROTECT Program',\n",
       " 'Y810': 'PROTECT Program',\n",
       " 'YS40': 'Railway-Highway Crossings Program',\n",
       " 'Y390': 'Reconnecting Commty Pilot-Iija Program',\n",
       " 'Y940': 'Recreational Trails Program',\n",
       " 'YR10': 'Recreational Trails Program',\n",
       " 'Y030': 'Redistribution of Certain Authorized Funds Program',\n",
       " 'Y560': 'Research, Development, and Technology Transfer (RD&T) Program',\n",
       " 'Y410': 'Safe and Accessible Transportation Options - Metropolitan Planning Program',\n",
       " 'Y570': 'Safe and Accessible Transportation Options - SPR Program',\n",
       " 'YS32': 'Section 164 Penalties - Use for HSIP Activities Program',\n",
       " 'Y550': 'State Planning and Research Program',\n",
       " 'Y230': 'Surface Transportation Block Grant Program',\n",
       " 'Y233': 'Surface Transportation Block Grant Program',\n",
       " 'Y236': 'Surface Transportation Block Grant Program',\n",
       " 'Y237': 'Surface Transportation Block Grant Program',\n",
       " 'Y238': 'Surface Transportation Block Grant Program',\n",
       " 'Y240': 'Surface Transportation Block Grant Program',\n",
       " 'Y378': 'Technology and Innovation Deployment Program',\n",
       " 'Y37H': 'Technology and Innovation Deployment Program',\n",
       " 'Y300': 'Transportation Alternatives Program',\n",
       " 'Y301': 'Transportation Alternatives Program',\n",
       " 'Y306': 'Transportation Alternatives Program',\n",
       " 'YS70': 'Vulnerable Road User Safety Special Rule Program',\n",
       " 'Y340': 'Wildlife Crossing Pilot-Iija Program',\n",
       " 'Y002': 'NHPP Exempt Program',\n",
       " 'Y008': 'Protective Features Program',\n",
       " 'Y100': 'Improving Accessibility and Efficiency Program',\n",
       " 'Y101': 'Improving Accessibility and Efficiency Program',\n",
       " 'Y106': 'Improving Accessibility and Efficiency Program',\n",
       " 'Y107': 'Improving Accessibility and Efficiency Program',\n",
       " 'Y108': 'Improving Accessibility and Efficiency Program',\n",
       " 'Y140': 'Applalachian Developmen Highway System Program',\n",
       " 'Y210': 'Federal Lands Program',\n",
       " 'Y234': 'Special Rule Program',\n",
       " 'Y235': 'Special Rule Program',\n",
       " 'Y239': 'Projects in Rural Areas Program',\n",
       " 'Y251': 'Rural Barge Landing, Dock, and Waterfront Infrastructure Projects Program',\n",
       " 'Y290': 'On the Job Skills Training Program',\n",
       " 'Y304': 'Transportation Alternatives Program',\n",
       " 'Y307': 'Transportation Alternatives Program',\n",
       " 'Y308': 'Transportation Alternatives Program',\n",
       " 'Y370': 'Technology and Innovation Deployment Program',\n",
       " 'Y371': 'Technology and Innovation Deployment Program',\n",
       " 'Y376': 'Technology and Innovation Deployment Program',\n",
       " 'Y37P': 'Technology and Innovation Deployment Program',\n",
       " 'Y379': 'Technology and Innovation Deployment Program',\n",
       " 'Y37G': 'Technology and Innovation Deployment Program',\n",
       " 'Y37N': 'Technology and Innovation Deployment Program',\n",
       " 'Y401': 'Congestion Mitigation & Air Quality Improvement Program',\n",
       " 'Y402': 'Locks and Dams, Marine Highways Program',\n",
       " 'Y430': 'IIJA Nationally Significant Freight and Highway Projects Program',\n",
       " 'Y438': 'Training and Education Program',\n",
       " 'Y439': 'Training and Education Program',\n",
       " 'Y444': 'Highway Research and Development Program',\n",
       " 'Y446': 'Highway Research and Development Program',\n",
       " 'Y470': 'Freight Intermodal & Rail Projects Program',\n",
       " 'Y500': 'Border State Infrastructure Program',\n",
       " 'Y510': 'NHS Bridge Penalties Program',\n",
       " 'Y530': 'Interstate Pavement Condition Penalties Program',\n",
       " 'N916': 'Highway Infrastructure Program',\n",
       " 'N925': 'Highway Infrastructure Program',\n",
       " 'Z49F': 'On the Job Skills Training Program',\n",
       " '73AD': 'Military Construction Program',\n",
       " 'Z37N': 'Technology and Innovation Deployment Program',\n",
       " '22MP': 'Metropolitan Transportation Planning (FY 22) Program',\n",
       " '22SP': 'Statewide and Nonmetropolitan Transportation Planning (FY 22) Program',\n",
       " 'Z48F': 'Highway Research and Development Program',\n",
       " 'Y710': 'Federal Lands Program',\n",
       " 'Y820': 'Construction of New Capacity Program',\n",
       " 'Y830': 'Development Phase Activities and Other Preconstruction Activities Program',\n",
       " 'Z44F': 'Advanced Transportation Technologies Deployment Program',\n",
       " 'Y941': 'Recreational Trails Program',\n",
       " 'Y950': 'IIJA Construction of Ferry Boats Program',\n",
       " 'Y960': 'Highway Use Tax Evasion Projects Program',\n",
       " 'YP10': 'IIJA Puerto Rico Highway Program',\n",
       " 'YP11': 'IIJA Puerto Rico Highway Program',\n",
       " 'YP12': 'IIJA Puerto Rico Highway Program',\n",
       " 'YP13': 'IIJA Puerto Rico Highway Program',\n",
       " 'YP14': 'IIJA Puerto Rico Highway Program',\n",
       " 'YP15': 'IIJA Puerto Rico Highway Program',\n",
       " 'YP16': 'IIJA Puerto Rico Highway Program',\n",
       " 'YP17': 'IIJA Puerto Rico Highway Program',\n",
       " 'YP18': 'IIJA Puerto Rico Highway Program',\n",
       " 'YP19': 'IIJA Puerto Rico Highway Program',\n",
       " 'YP20': 'IIJA Puerto Rico Highway Program',\n",
       " 'YP21': 'IIJA Puerto Rico Highway Program',\n",
       " 'YP22': 'IIJA Puerto Rico Highway Program',\n",
       " 'YP23': 'IIJA Puerto Rico Highway Program',\n",
       " 'YP24': 'IIJA Puerto Rico Highway Program',\n",
       " 'YP25': 'IIJA Puerto Rico Highway Program',\n",
       " 'YP26': 'IIJA Puerto Rico Highway Program',\n",
       " 'YP27': 'IIJA Puerto Rico Highway Program',\n",
       " 'YP28': 'IIJA Puerto Rico Highway Program',\n",
       " 'YP29': 'IIJA Puerto Rico Highway Program',\n",
       " 'YP30': 'IIJA Puerto Rico Highway Program',\n",
       " 'YR20': 'Recreational Trails Program',\n",
       " 'Z934': 'Highway Infrastructure Program',\n",
       " 'Z928': 'Highway Infrastructure Program',\n",
       " 'Z929': 'Highway Infrastructure Program',\n",
       " 'Z930': 'Highway Infrastructure Program',\n",
       " 'Z931': 'Highway Infrastructure Program',\n",
       " 'Z95A': 'Redistribution - Construction of Ferry Boats and Terminals Program',\n",
       " 'YS31': 'Section 154 Penalties - Use for HSIP Activities Program',\n",
       " 'N003': 'Congestion Mitigation & Air Quality Improvement Program',\n",
       " 'RA01': 'National Infrastructure Investment (RAISE) Program',\n",
       " 'RA02': 'National Infrastructure Investment (RAISE) Program',\n",
       " 'RA03': 'National Infrastructure Investment (RAISE) Program',\n",
       " 'YS80': 'Flexible Funding for Specified Safety Projects Program',\n",
       " 'YT10': 'IIJA Territorial Highway Program',\n",
       " 'YT30': 'Highway Use Tax Evasion Projects Program'}"
      ]
     },
     "execution_count": 11,
     "metadata": {},
     "output_type": "execute_result"
    }
   ],
   "source": [
    "iija_code_map"
   ]
  },
  {
   "cell_type": "code",
   "execution_count": 12,
   "id": "cd3d05e7-ae2f-4e07-8e85-c23970a29a1e",
   "metadata": {
    "tags": []
   },
   "outputs": [
    {
     "data": {
      "text/plain": [
       "Index(['fmis_transaction_date', 'program_code', 'program_code_description',\n",
       "       'pid_district', 'project_number', 'recipient_project_number',\n",
       "       'pid_check1', 'efis_id', 'pid_check2', 'project_title', 'rk_locode',\n",
       "       'county_code', 'congressional_district', 'project_status_description',\n",
       "       'project_description', 'improvement_type',\n",
       "       'improvement_type_description', 'total_cost_amount',\n",
       "       'obligations_amount', 'summary_recipient_defined_text_field_1_value',\n",
       "       'comp'],\n",
       "      dtype='object')"
      ]
     },
     "execution_count": 12,
     "metadata": {},
     "output_type": "execute_result"
    }
   ],
   "source": [
    "project_df.columns"
   ]
  },
  {
   "cell_type": "code",
   "execution_count": 14,
   "id": "308665d2-0255-4e70-8598-49c7f143c3fa",
   "metadata": {
    "scrolled": true,
    "tags": []
   },
   "outputs": [],
   "source": [
    "test_df = _data_utils.add_new_codes(project_df)"
   ]
  },
  {
   "cell_type": "code",
   "execution_count": 15,
   "id": "9f3a7acc-3f88-41dc-a829-920c8b3dabef",
   "metadata": {
    "tags": []
   },
   "outputs": [
    {
     "data": {
      "text/plain": [
       "Index(['fmis_transaction_date', 'program_code', 'program_code_description',\n",
       "       'pid_district', 'project_number', 'recipient_project_number',\n",
       "       'pid_check1', 'efis_id', 'pid_check2', 'project_title', 'rk_locode',\n",
       "       'county_code', 'congressional_district', 'project_status_description',\n",
       "       'project_description', 'improvement_type',\n",
       "       'improvement_type_description', 'total_cost_amount',\n",
       "       'obligations_amount', 'summary_recipient_defined_text_field_1_value',\n",
       "       'comp', 'iija_program_code', 'funding_type_code'],\n",
       "      dtype='object')"
      ]
     },
     "execution_count": 15,
     "metadata": {},
     "output_type": "execute_result"
    }
   ],
   "source": [
    "test_df.columns"
   ]
  },
  {
   "cell_type": "code",
   "execution_count": null,
   "id": "ca0f0a33-acbe-4487-8917-95efb2f1318f",
   "metadata": {
    "tags": []
   },
   "outputs": [],
   "source": [
    "test_df.info()"
   ]
  },
  {
   "cell_type": "code",
   "execution_count": null,
   "id": "0eae8c74-87f0-418a-9026-3dcbb3f854ac",
   "metadata": {
    "tags": []
   },
   "outputs": [],
   "source": [
    "test_df[\n",
    "    [\"program_code_description\", \"program_code\", \"funding_type_code\"]\n",
    "].drop_duplicates().sample(10)"
   ]
  },
  {
   "cell_type": "markdown",
   "id": "b2c5ce92-45b7-4139-8d62-dba939d14bc1",
   "metadata": {},
   "source": [
    "### Breakout `_data_utils.update_program_code_list2()`"
   ]
  },
  {
   "cell_type": "code",
   "execution_count": null,
   "id": "e009810c-bc32-41bf-a824-8491dc85266f",
   "metadata": {
    "tags": []
   },
   "outputs": [],
   "source": [
    "def add_program_to_row(row):\n",
    "    if \"Program\" not in row[\"program_name\"]:\n",
    "        return row[\"program_name\"] + \" Program\"\n",
    "    else:\n",
    "        return row[\"program_name\"]"
   ]
  },
  {
   "cell_type": "code",
   "execution_count": null,
   "id": "3c9de009-57f1-47c6-affe-e5dcb80bbcc1",
   "metadata": {
    "tags": []
   },
   "outputs": [],
   "source": [
    "def load_program_codes_og() -> pd.DataFrame:\n",
    "    df = to_snakecase(\n",
    "        pd.read_excel(\n",
    "            f\"{GCS_FILE_PATH}/program_codes/Copy of lst_IIJA_Code_20230908.xlsx\"\n",
    "        )\n",
    "    )[[\"iija_program_code\", \"description\", \"program_name\"]]\n",
    "    return df"
   ]
  },
  {
   "cell_type": "code",
   "execution_count": null,
   "id": "916c246a-77a2-44f0-a2b9-dddd526d033f",
   "metadata": {
    "tags": []
   },
   "outputs": [],
   "source": [
    "original_codes_df = load_program_codes_og()"
   ]
  },
  {
   "cell_type": "code",
   "execution_count": null,
   "id": "8b95ae8c-d6d0-412f-9abf-ad5fb8269eee",
   "metadata": {
    "tags": []
   },
   "outputs": [],
   "source": [
    "original_codes_df.head()"
   ]
  },
  {
   "cell_type": "code",
   "execution_count": null,
   "id": "5390e411-38cd-4843-bac8-8bb5ae894c77",
   "metadata": {
    "tags": []
   },
   "outputs": [],
   "source": [
    "def load_program_codes_sept_2023() -> pd.DataFrame:\n",
    "    df = to_snakecase(\n",
    "        pd.read_excel(\n",
    "            f\"{GCS_FILE_PATH}/program_codes/FY21-22ProgramCodesAsOf5-25-2022.v2_expanded090823.xlsx\"\n",
    "        )\n",
    "    )[[\"iija_program_code\", \"new_description\"]]\n",
    "    return df"
   ]
  },
  {
   "cell_type": "code",
   "execution_count": null,
   "id": "71b03c78-195c-47cb-9437-d19101f0beaf",
   "metadata": {
    "tags": []
   },
   "outputs": [],
   "source": [
    "program_codes_sept_2023 = load_program_codes_sept_2023()"
   ]
  },
  {
   "cell_type": "code",
   "execution_count": null,
   "id": "1815a20f-e378-40c6-a6ae-964a641183a3",
   "metadata": {
    "tags": []
   },
   "outputs": [],
   "source": [
    "program_codes_sept_2023.head(2)"
   ]
  },
  {
   "cell_type": "code",
   "execution_count": null,
   "id": "e4ffaef0-a621-43d2-b6d2-1ffbbff60ce1",
   "metadata": {
    "tags": []
   },
   "outputs": [],
   "source": [
    "program_codes = pd.merge(\n",
    "    program_codes_sept_2023,\n",
    "    original_codes_df,\n",
    "    on=\"iija_program_code\",\n",
    "    how=\"outer\",\n",
    "    indicator=True,\n",
    ")"
   ]
  },
  {
   "cell_type": "code",
   "execution_count": null,
   "id": "e930f1ab-4d3c-4358-95a2-f9b93123ff3c",
   "metadata": {
    "tags": []
   },
   "outputs": [],
   "source": [
    "program_codes[\"new_description\"] = (\n",
    "    program_codes[\"new_description\"].str.strip().fillna(program_codes.description)\n",
    ")"
   ]
  },
  {
   "cell_type": "code",
   "execution_count": null,
   "id": "a9d21c6d-94ea-446b-9221-fb3e65e04339",
   "metadata": {
    "tags": []
   },
   "outputs": [],
   "source": [
    "program_codes._merge.value_counts()"
   ]
  },
  {
   "cell_type": "code",
   "execution_count": null,
   "id": "e903dfaf-e7e7-45d7-9e38-4c2d2a5fc976",
   "metadata": {
    "tags": []
   },
   "outputs": [],
   "source": [
    "program_codes = program_codes.drop(columns={\"description\", \"_merge\"})"
   ]
  },
  {
   "cell_type": "code",
   "execution_count": null,
   "id": "67dbf7fb-a842-4be5-a8d0-6d21b5ee39ce",
   "metadata": {
    "tags": []
   },
   "outputs": [],
   "source": [
    "program_codes[\"program_name\"] = program_codes.apply(add_program_to_row, axis=1)"
   ]
  },
  {
   "cell_type": "code",
   "execution_count": null,
   "id": "c953256e-1a92-4b9f-ba2e-447aa7d031d6",
   "metadata": {
    "tags": []
   },
   "outputs": [],
   "source": [
    "program_codes.head(2)"
   ]
  },
  {
   "cell_type": "code",
   "execution_count": null,
   "id": "3a28a482-7f97-4b60-b68d-5da002f26d2f",
   "metadata": {
    "tags": []
   },
   "outputs": [],
   "source": [
    "def load_program_codes_jan_2025() -> pd.DataFrame:\n",
    "    df = to_snakecase(\n",
    "        pd.read_excel(f\"{GCS_FILE_PATH}/program_codes/Ycodes_01.2025.xlsx\")\n",
    "    )[[\"program_code\", \"short_name\", \"program_code_description\", \"funding_type_code\"]]\n",
    "\n",
    "    df = df.rename(\n",
    "        columns={\n",
    "            \"program_code\": \"iija_program_code\",\n",
    "        }\n",
    "    )\n",
    "    df.short_name = df.short_name.str.title()\n",
    "    return df"
   ]
  },
  {
   "cell_type": "code",
   "execution_count": null,
   "id": "191e5309-1f61-48e7-a2fb-7bf6ab786ab0",
   "metadata": {
    "tags": []
   },
   "outputs": [],
   "source": [
    "program_codes_jan_2025 = load_program_codes_jan_2025()"
   ]
  },
  {
   "cell_type": "code",
   "execution_count": null,
   "id": "73ebfc4a-e788-41f2-906f-3e56970d45ee",
   "metadata": {
    "tags": []
   },
   "outputs": [],
   "source": [
    "program_codes_jan_2025.head(2)"
   ]
  },
  {
   "cell_type": "code",
   "execution_count": null,
   "id": "d14fb03b-ced6-4a87-908f-0c1dda11fc03",
   "metadata": {
    "tags": []
   },
   "outputs": [],
   "source": [
    "program_codes.head(2)"
   ]
  },
  {
   "cell_type": "code",
   "execution_count": null,
   "id": "8d741eda-e6a2-4681-9239-7260ecf84135",
   "metadata": {
    "tags": []
   },
   "outputs": [],
   "source": [
    "program_codes2 = pd.merge(\n",
    "    program_codes_jan_2025,\n",
    "    program_codes,\n",
    "    on=\"iija_program_code\",\n",
    "    how=\"outer\",\n",
    "    indicator=True,\n",
    ")"
   ]
  },
  {
   "cell_type": "code",
   "execution_count": null,
   "id": "1f04747f-cb6d-491e-8531-203ef5c5037a",
   "metadata": {
    "tags": []
   },
   "outputs": [],
   "source": [
    "program_codes2._merge.value_counts()"
   ]
  },
  {
   "cell_type": "code",
   "execution_count": null,
   "id": "2996f37d-4afe-4d1e-8445-3f1de00e76fd",
   "metadata": {
    "tags": []
   },
   "outputs": [],
   "source": [
    "program_codes2[\"2025_description\"] = (\n",
    "    program_codes2[\"program_code_description\"]\n",
    "    .str.strip()\n",
    "    .fillna(program_codes2.new_description)\n",
    ")"
   ]
  },
  {
   "cell_type": "code",
   "execution_count": null,
   "id": "3730d964-8232-42ab-ae19-4033ec53e757",
   "metadata": {
    "tags": []
   },
   "outputs": [],
   "source": [
    "program_codes2.head(2)"
   ]
  },
  {
   "cell_type": "code",
   "execution_count": null,
   "id": "491aeca1-53fd-4da1-8362-71af1409096b",
   "metadata": {
    "tags": []
   },
   "outputs": [],
   "source": [
    "program_codes2[\"2025_program_name\"] = program_codes2.program_name.fillna(\n",
    "    program_codes2.short_name\n",
    ")"
   ]
  },
  {
   "cell_type": "code",
   "execution_count": null,
   "id": "2a8c4e9e-fa42-48be-9340-1a08a0147032",
   "metadata": {
    "tags": []
   },
   "outputs": [],
   "source": [
    "program_codes2.columns"
   ]
  },
  {
   "cell_type": "code",
   "execution_count": null,
   "id": "698dff53-f47d-49d8-bfe7-85bf3558eb39",
   "metadata": {
    "scrolled": true,
    "tags": []
   },
   "outputs": [],
   "source": [
    "program_codes2.loc[program_codes2._merge == \"both\"][\n",
    "    [\n",
    "        \"iija_program_code\",\n",
    "        \"funding_type_code\",\n",
    "        \"short_name\",\n",
    "        \"program_name\",\n",
    "        \"2025_program_name\",\n",
    "        \"program_code_description\",\n",
    "        \"2025_description\",\n",
    "        \"new_description\",\n",
    "        \"_merge\",\n",
    "    ]\n",
    "]"
   ]
  },
  {
   "cell_type": "code",
   "execution_count": null,
   "id": "7352bd08-281b-48e7-8c28-4e99662c25e6",
   "metadata": {
    "tags": []
   },
   "outputs": [],
   "source": [
    "program_codes3 = program_codes2.drop(\n",
    "    columns=[\n",
    "        \"short_name\",\n",
    "        \"program_name\",\n",
    "        \"program_code_description\",\n",
    "        \"new_description\",\n",
    "        \"_merge\",\n",
    "    ]\n",
    ")"
   ]
  },
  {
   "cell_type": "code",
   "execution_count": null,
   "id": "154e7415-0c55-411e-8a27-ae97d1c577cb",
   "metadata": {
    "tags": []
   },
   "outputs": [],
   "source": [
    "program_codes3 = program_codes3.rename(\n",
    "    columns={\"2025_description\": \"new_description\", \"2025_program_name\": \"program_name\"}\n",
    ")"
   ]
  },
  {
   "cell_type": "code",
   "execution_count": null,
   "id": "c9d4ec09-0730-4602-91da-54d4c802669f",
   "metadata": {
    "scrolled": true,
    "tags": []
   },
   "outputs": [],
   "source": [
    "program_codes3.sort_values(by=[\"iija_program_code\"])"
   ]
  },
  {
   "cell_type": "code",
   "execution_count": null,
   "id": "5a1cf719-9097-4629-9e5f-836de1264baa",
   "metadata": {
    "tags": []
   },
   "outputs": [],
   "source": [
    "program_codes3[\"program_name\"] = program_codes3.apply(add_program_to_row, axis=1)"
   ]
  },
  {
   "cell_type": "markdown",
   "id": "35133427-9c1d-48bd-a448-356791dd108f",
   "metadata": {},
   "source": [
    "#### Turn this into a function"
   ]
  },
  {
   "cell_type": "code",
   "execution_count": null,
   "id": "aab0153a-4405-4ab9-b5d0-3a4d567f7efc",
   "metadata": {
    "tags": []
   },
   "outputs": [],
   "source": [
    "def update_program_code_list_2025():\n",
    "    \"\"\"\n",
    "    On January 2025, we received a new list of updated codes.\n",
    "    Merge this new list with codes received originally and in\n",
    "    September 2023.\n",
    "    \"\"\"\n",
    "    # Load original codes\n",
    "    original_codes_df = load_program_codes_og()\n",
    "\n",
    "    # Load September 2023 codes\n",
    "    program_codes_sept_2023 = load_program_codes_sept_2023()\n",
    "\n",
    "    # Merge original + September first\n",
    "    m1 = pd.merge(\n",
    "        program_codes_sept_2023,\n",
    "        original_codes_df,\n",
    "        on=\"iija_program_code\",\n",
    "        how=\"outer\",\n",
    "        indicator=True,\n",
    "    )\n",
    "\n",
    "    # Clean up description\n",
    "    m1[\"new_description\"] = m1[\"new_description\"].str.strip().fillna(m1.description)\n",
    "\n",
    "    # Delete unnecessary columns\n",
    "    m1 = m1.drop(columns={\"description\", \"_merge\"})\n",
    "\n",
    "    \"\"\"\n",
    "    # Load January 2025 code\n",
    "    program_codes_jan_2025 = load_program_codes_jan_2025()\n",
    "\n",
    "    # Merge m1 with program codes from January 2025.\n",
    "    m2 = pd.merge(\n",
    "        program_codes_jan_2025,\n",
    "        m1,\n",
    "        on=\"iija_program_code\",\n",
    "        how=\"outer\",\n",
    "        indicator=True,\n",
    "    )\n",
    "    # Update descriptions\n",
    "    m2[\"2025_description\"] = (\n",
    "        m2[\"program_code_description\"].str.strip().fillna(m2.new_description)\n",
    "    )\n",
    "\n",
    "    # Update program names\n",
    "    m2[\"2025_program_name\"] = m2.program_name.fillna(m2.short_name)\n",
    "\n",
    "    # Delete outdated columns\n",
    "    m2 = m2.drop(\n",
    "        columns=[\n",
    "            \"short_name\",\n",
    "            \"program_name\",\n",
    "            \"program_code_description\",\n",
    "            \"new_description\",\n",
    "            \"_merge\",\n",
    "        ]\n",
    "    )\n",
    "\n",
    "    # Rename to match original sheet\n",
    "    m2 = m2.rename(\n",
    "        columns={\n",
    "            \"2025_description\": \"new_description\",\n",
    "            \"2025_program_name\": \"program_name\",\n",
    "        }\n",
    "    )\n",
    "\n",
    "    # Add program to another program names without the string \"program\"\n",
    "    m2[\"program_name\"] = m2.apply(add_program_to_row, axis=1)\n",
    "    \"\"\"\n",
    "    return m1"
   ]
  },
  {
   "cell_type": "code",
   "execution_count": null,
   "id": "ad4ab9be-ab2d-499d-acc9-9e71ee0274fa",
   "metadata": {
    "tags": []
   },
   "outputs": [],
   "source": [
    "program_codes_jan_2025 = _data_utils.load_program_codes_jan_2025()"
   ]
  },
  {
   "cell_type": "code",
   "execution_count": null,
   "id": "219bc1e5-d17b-42d2-ba0d-7006c59d00fa",
   "metadata": {
    "tags": []
   },
   "outputs": [],
   "source": [
    "program_codes_jan_2025.loc[\n",
    "    program_codes_jan_2025.iija_program_code.str.contains(\"ER03\")\n",
    "]"
   ]
  },
  {
   "cell_type": "code",
   "execution_count": null,
   "id": "aac6b171-09b5-40e9-a7aa-3aca4f3ea54e",
   "metadata": {
    "tags": []
   },
   "outputs": [],
   "source": [
    "program_codes_jan_2025.loc[\n",
    "    program_codes_jan_2025.iija_program_code.str.contains(\"ER01\")\n",
    "]"
   ]
  },
  {
   "cell_type": "code",
   "execution_count": null,
   "id": "c41b1c44-ee24-48f5-99e7-5b82b5f8670c",
   "metadata": {
    "tags": []
   },
   "outputs": [],
   "source": [
    "og_code_list = update_program_code_list_2025()"
   ]
  },
  {
   "cell_type": "code",
   "execution_count": null,
   "id": "aaf0322f-be07-4fae-b52f-0a55aa1bb603",
   "metadata": {
    "tags": []
   },
   "outputs": [],
   "source": [
    "og_code_list.head(2)"
   ]
  },
  {
   "cell_type": "code",
   "execution_count": null,
   "id": "46949c73-5b25-4674-816d-b00067ef81d0",
   "metadata": {},
   "outputs": [],
   "source": []
  },
  {
   "cell_type": "code",
   "execution_count": null,
   "id": "6001fe39-2f3b-4691-b3b8-9390e51a2328",
   "metadata": {
    "tags": []
   },
   "outputs": [],
   "source": [
    "og_code_list.loc[og_code_list.iija_program_code.str.contains(\"ER03\")]"
   ]
  },
  {
   "cell_type": "markdown",
   "id": "f0e60263-5ab5-4473-8edd-25eb85420d5e",
   "metadata": {},
   "source": [
    "### Project\n",
    "`Use the “RK Locode” column K in the Project list as the Primary Locode, and if blank, use your current data source to populate the implementing agency.`"
   ]
  },
  {
   "cell_type": "code",
   "execution_count": null,
   "id": "93078987-e4f5-4439-85e4-9caf80490ad3",
   "metadata": {
    "tags": []
   },
   "outputs": [],
   "source": [
    "march_file = \"FMIS_Projects_Universe_IIJA_Reporting_03012024_ToDLA.xlsx\""
   ]
  },
  {
   "cell_type": "code",
   "execution_count": null,
   "id": "99fda520-70bb-4d31-9c67-b32a09f563b3",
   "metadata": {
    "tags": []
   },
   "outputs": [],
   "source": [
    "march_data = to_snakecase(pd.read_excel(f\"{GCS_FILE_PATH}/{march_file}\"))"
   ]
  },
  {
   "cell_type": "code",
   "execution_count": null,
   "id": "0027a6c8-3094-4d5e-b76f-682b911b06a4",
   "metadata": {
    "tags": []
   },
   "outputs": [],
   "source": [
    "march_data.info()"
   ]
  },
  {
   "cell_type": "code",
   "execution_count": null,
   "id": "479728b2-72aa-4c8f-8971-1b65b6943d71",
   "metadata": {
    "tags": []
   },
   "outputs": [],
   "source": [
    "project_df.head(1)"
   ]
  },
  {
   "cell_type": "code",
   "execution_count": null,
   "id": "2b30ebc9-b53e-4b38-ac27-e418cdf52241",
   "metadata": {
    "tags": []
   },
   "outputs": [],
   "source": [
    "project_df[\n",
    "    [\n",
    "        \"summary_recipient_defined_text_field_1_value\",\n",
    "        \"rk_locode\",\n",
    "    ]\n",
    "].head()"
   ]
  },
  {
   "cell_type": "markdown",
   "id": "37818caf-a806-4ed0-9ec9-5d65f507cda8",
   "metadata": {},
   "source": [
    "#### Filter out for rows with a locode first?"
   ]
  },
  {
   "cell_type": "code",
   "execution_count": null,
   "id": "ec37c7d6-369b-43bb-8046-505e4eb2ce56",
   "metadata": {
    "tags": []
   },
   "outputs": [],
   "source": [
    "def identify_agency2(df: pd.DataFrame) -> pd.DataFrame:\n",
    "    \"\"\"\n",
    "    Fill in locodes, using the column rk_locode first\n",
    "    then using the original function from Natalie.\n",
    "    \"\"\"\n",
    "    # Load dataframe with locodes\n",
    "    locodes_df = to_snakecase(\n",
    "        pd.read_excel(\n",
    "            f\"gs://calitp-analytics-data/data-analyses/dla/e-76Obligated/locodes_updated7122021.xlsx\"\n",
    "        )\n",
    "    )\n",
    "\n",
    "    # Filter out for rows in which rk_locode is filled\n",
    "    filled_locode_df = df.loc[df.rk_locode.notna()].reset_index(drop=True)\n",
    "\n",
    "    # Merge the two dataframes\n",
    "    filled_locode_df2 = pd.merge(\n",
    "        filled_locode_df,\n",
    "        locodes_df,\n",
    "        left_on=\"rk_locode\",\n",
    "        right_on=\"agency_locode\",\n",
    "        how=\"left\",\n",
    "        indicator=True,\n",
    "    )\n",
    "    display(\"Rows with locodes filled\")\n",
    "    display(filled_locode_df2._merge.value_counts())\n",
    "\n",
    "    # Clean\n",
    "    filled_locode_df2 = filled_locode_df2.rename(\n",
    "        columns={\n",
    "            \"agency_name\": \"implementing_agency\",\n",
    "            \"rk_locode\": \"implementing_agency_locode\",\n",
    "        }\n",
    "    ).drop(columns=[\"active_e76s______7_12_2021_\", \"mpo_locode_fads\", \"agency_locode\"])\n",
    "\n",
    "    # Create a crosswalk out of this dataframe so any rows without a rk_locode\n",
    "    # has summary_recipient_defined_text_field_1_value filled can be merged\n",
    "    crosswalk_cols = [\n",
    "        \"summary_recipient_defined_text_field_1_value\",\n",
    "        \"implementing_agency\",\n",
    "        \"implementing_agency_locode\",\n",
    "        \"district\",\n",
    "        \"county_name\",\n",
    "        \"rtpa_name\",\n",
    "        \"mpo_name\",\n",
    "    ]\n",
    "\n",
    "    # Crosswalk\n",
    "    crosswalk_df = filled_locode_df2[crosswalk_cols].drop_duplicates(\n",
    "        subset=[\"summary_recipient_defined_text_field_1_value\"]\n",
    "    )\n",
    "\n",
    "    # Filter out for rows with missing locodes\n",
    "    missing_locode_df = (\n",
    "        df.loc[(df.rk_locode.isna())].reset_index(drop=True).drop(columns=[\"rk_locode\"])\n",
    "    )\n",
    "\n",
    "    # Merge crosswalk and dataframe of rows with missing locodes\n",
    "    missing_locode_df1 = pd.merge(\n",
    "        missing_locode_df,\n",
    "        crosswalk_df,\n",
    "        on=\"summary_recipient_defined_text_field_1_value\",\n",
    "        how=\"left\",\n",
    "        indicator=True,\n",
    "    )\n",
    "    display(\"Rows with locodes filled with the crosswalk\")\n",
    "    display(m1._merge.value_counts())\n",
    "\n",
    "    # Fill out missing locodes with Natalie's function\n",
    "    missing_locode_df2 = missing_locode_df1.loc[\n",
    "        missing_locode_df1._merge == \"left_only\"\n",
    "    ].reset_index(drop=True)\n",
    "\n",
    "    # Drop columns that were combined from the crosswalk\n",
    "    crosswalk_cols.remove(\"summary_recipient_defined_text_field_1_value\")\n",
    "    crosswalk_cols.append(\"_merge\")\n",
    "\n",
    "    missing_locode_df2 = missing_locode_df2.drop(columns=crosswalk_cols)\n",
    "\n",
    "    # Fill in summary_recipient_defined_text_field_1_value\n",
    "    missing_locode_df2.summary_recipient_defined_text_field_1_value = (\n",
    "        missing_locode_df2.summary_recipient_defined_text_field_1_value.fillna(\"None\")\n",
    "    )\n",
    "\n",
    "    # Try add_name_from_locode from _data_utils\n",
    "    missing_locode_df2 = _data_utils.add_name_from_locode(\n",
    "        missing_locode_df2, \"summary_recipient_defined_text_field_1_value\"\n",
    "    )\n",
    "\n",
    "    # Concat all the dataframes\n",
    "    final_df = pd.concat([filled_locode_df2, missing_locode_df1, missing_locode_df2])\n",
    "\n",
    "    return final_df"
   ]
  },
  {
   "cell_type": "code",
   "execution_count": null,
   "id": "fc555d5d-1db7-43a0-8ca3-f0b055ca4914",
   "metadata": {
    "tags": []
   },
   "outputs": [],
   "source": [
    "project_df_test = identify_agency2(project_df)"
   ]
  },
  {
   "cell_type": "code",
   "execution_count": null,
   "id": "d35ce530-87ee-4fe1-b032-4688fca6a80b",
   "metadata": {
    "tags": []
   },
   "outputs": [],
   "source": [
    "len(project_df_test)"
   ]
  },
  {
   "cell_type": "code",
   "execution_count": null,
   "id": "e9a9ce0d-4a1e-4526-af4a-f79135ea5798",
   "metadata": {
    "tags": []
   },
   "outputs": [],
   "source": [
    "len(project_df)"
   ]
  },
  {
   "cell_type": "code",
   "execution_count": null,
   "id": "90c6abfa-04fc-413e-90a7-0e781049d397",
   "metadata": {
    "tags": []
   },
   "outputs": [],
   "source": [
    "filled_locode_df = project_df.loc[project_df.rk_locode.notna()].reset_index(drop=True)"
   ]
  },
  {
   "cell_type": "code",
   "execution_count": null,
   "id": "5cd40d11-d43e-45d1-8f0b-eb76ed95a411",
   "metadata": {
    "tags": []
   },
   "outputs": [],
   "source": [
    "# Merge the two dataframes\n",
    "filled_locode_df2 = pd.merge(\n",
    "    filled_locode_df,\n",
    "    locodes_df,\n",
    "    left_on=\"rk_locode\",\n",
    "    right_on=\"agency_locode\",\n",
    "    how=\"left\",\n",
    "    indicator=True,\n",
    ")"
   ]
  },
  {
   "cell_type": "code",
   "execution_count": null,
   "id": "fb1db840-a067-4498-9cfa-cca149302c7b",
   "metadata": {
    "tags": []
   },
   "outputs": [],
   "source": [
    "filled_locode_df2 = filled_locode_df2.rename(\n",
    "    columns={\n",
    "        \"agency_name\": \"implementing_agency\",\n",
    "        \"rk_locode\": \"implementing_agency_locode\",\n",
    "    }\n",
    ").drop(columns=[\"active_e76s______7_12_2021_\", \"mpo_locode_fads\", \"agency_locode\"])"
   ]
  },
  {
   "cell_type": "code",
   "execution_count": null,
   "id": "64ade30e-8acc-45db-97a3-918d4fb1c8ea",
   "metadata": {
    "tags": []
   },
   "outputs": [],
   "source": [
    "def identify_agency3(df: pd.DataFrame) -> pd.DataFrame:\n",
    "    \"\"\"\n",
    "    Fill in locodes, using the column rk_locode first\n",
    "    then using the original function from Natalie.\n",
    "    \"\"\"\n",
    "    # Load dataframe with locodes\n",
    "    locodes_df = to_snakecase(\n",
    "        pd.read_excel(\n",
    "            f\"gs://calitp-analytics-data/data-analyses/dla/e-76Obligated/locodes_updated7122021.xlsx\"\n",
    "        )\n",
    "    ).rename(\n",
    "        columns={\n",
    "            \"agency_name\": \"implementing_agency\",\n",
    "        }\n",
    "    )\n",
    "\n",
    "    # Filter out for rows in which rk_locode is filled\n",
    "    filled_locode_df = df.loc[df.rk_locode.notna()].reset_index(drop=True)\n",
    "\n",
    "    # Merge the two dataframes\n",
    "    filled_locode_df2 = pd.merge(\n",
    "        filled_locode_df,\n",
    "        locodes_df,\n",
    "        left_on=\"rk_locode\",\n",
    "        right_on=\"agency_locode\",\n",
    "        how=\"left\",\n",
    "        indicator=True,\n",
    "    )\n",
    "    display(\"Rows with locodes filled\")\n",
    "    display(filled_locode_df2._merge.value_counts())\n",
    "\n",
    "    # Clean\n",
    "    filled_locode_df2 = filled_locode_df2.rename(\n",
    "        columns={\n",
    "            \"agency_name\": \"implementing_agency\",\n",
    "            \"rk_locode\": \"implementing_agency_locode\",\n",
    "        }\n",
    "    ).drop(\n",
    "        columns=[\n",
    "            \"active_e76s______7_12_2021_\",\n",
    "            \"mpo_locode_fads\",\n",
    "            \"agency_locode\",\n",
    "            \"_merge\",\n",
    "        ]\n",
    "    )\n",
    "\n",
    "    # Filter out for rows with missing locodes\n",
    "    missing_locode_df = (df.loc[(df.rk_locode.isna())].reset_index(drop=True)).drop(\n",
    "        columns=[\"rk_locode\"]\n",
    "    )\n",
    "\n",
    "    # Fill in summary_recipient_defined_text_field_1_value\n",
    "    missing_locode_df.summary_recipient_defined_text_field_1_value = (\n",
    "        missing_locode_df.summary_recipient_defined_text_field_1_value.fillna(\"None\")\n",
    "    )\n",
    "\n",
    "    # Try add_name_from_locode from _data_utils\n",
    "    missing_locode_df2 = _data_utils.add_name_from_locode(\n",
    "        missing_locode_df, \"summary_recipient_defined_text_field_1_value\"\n",
    "    )\n",
    "\n",
    "    # Concat all the dataframes\n",
    "    final_df = pd.concat([filled_locode_df2, missing_locode_df2])\n",
    "    display(\"Do the # of rows match?\")\n",
    "    display(len(final_df) == len(df))\n",
    "\n",
    "    # More cleaning\n",
    "    county_district = (\n",
    "        locodes\n",
    "        >> group_by(_.district, _.county_name)\n",
    "        >> count(_.county_name)\n",
    "        >> select(_.district, _.county_name)\n",
    "        >> filter(_.county_name != \"Multi-County\", _.district != 53)\n",
    "    )\n",
    "    county_info = pd.merge(\n",
    "        county_base,\n",
    "        county_district,\n",
    "        how=\"left\",\n",
    "        left_on=\"county_description\",\n",
    "        right_on=\"county_name\",\n",
    "    ).drop(columns=[\"county_name\"])\n",
    "    mapping1 = dict(county_info[[\"county_code\", \"county_description\"]].values)\n",
    "    mapping2 = dict(county_info[[\"county_code\", \"recipient_name\"]].values)\n",
    "    mapping3 = dict(county_info[[\"county_code\", \"district\"]].values)\n",
    "\n",
    "    final_df[\"county_description\"] = final_df.county_code.map(mapping1)\n",
    "    final_df[\"recipient_name\"] = final_df.county_code.map(mapping2)\n",
    "    final_df[\"district\"] = final_df.county_code.map(mapping3)\n",
    "\n",
    "    final_df.loc[final_df.county_name == \"Statewide County\", \"county_name\"] = (\n",
    "        \"Statewide\"\n",
    "    )\n",
    "\n",
    "    final_df[\"implementing_agency\"] = final_df[\"implementing_agency\"].fillna(\n",
    "        value=\"Unknown\"\n",
    "    )\n",
    "    final_df[\"county_name\"] = final_df[\"county_name\"].fillna(value=\"Unknown\")\n",
    "    return final_df"
   ]
  },
  {
   "cell_type": "code",
   "execution_count": null,
   "id": "642957f2-7d32-442f-b85d-3b6fd86adac0",
   "metadata": {
    "tags": []
   },
   "outputs": [],
   "source": [
    "project_df_test2 = identify_agency3(project_df)"
   ]
  },
  {
   "cell_type": "code",
   "execution_count": null,
   "id": "8f54c76b-6e5f-4df7-9a97-16773c5e7084",
   "metadata": {
    "tags": []
   },
   "outputs": [],
   "source": [
    "project_df_test2.columns"
   ]
  },
  {
   "cell_type": "code",
   "execution_count": null,
   "id": "b9daa968-54e5-4f7d-aa6b-d7eaab585689",
   "metadata": {
    "tags": []
   },
   "outputs": [],
   "source": [
    "county_info = pd.merge(\n",
    "    county_base,\n",
    "    county_district,\n",
    "    how=\"left\",\n",
    "    left_on=\"county_description\",\n",
    "    right_on=\"county_name\",\n",
    ")\n",
    "county_info.drop(columns=[\"county_name\"], axis=1, inplace=True)"
   ]
  },
  {
   "cell_type": "code",
   "execution_count": null,
   "id": "cdc4b780-c8c2-4da5-b8e3-315917fa6030",
   "metadata": {
    "tags": []
   },
   "outputs": [],
   "source": [
    "mapping1 = dict(county_info[[\"county_code\", \"county_description\"]].values)\n",
    "mapping2 = dict(county_info[[\"county_code\", \"recipient_name\"]].values)\n",
    "mapping3 = dict(county_info[[\"county_code\", \"district\"]].values)"
   ]
  },
  {
   "cell_type": "code",
   "execution_count": null,
   "id": "e8907136-9dff-44d2-a533-e3bd4cbaa943",
   "metadata": {
    "scrolled": true,
    "tags": []
   },
   "outputs": [],
   "source": [
    "mapping1"
   ]
  },
  {
   "cell_type": "code",
   "execution_count": null,
   "id": "66083a12-9243-4510-8bf8-3a9d69faded8",
   "metadata": {
    "tags": []
   },
   "outputs": [],
   "source": [
    "project_df_test2[\"county_description\"] = project_df_test2.county_code.map(mapping1)\n",
    "project_df_test2[\"recipient_name\"] = project_df_test2.county_code.map(mapping2)\n",
    "project_df_test2[\"district\"] = project_df_test2.county_code.map(mapping3)"
   ]
  },
  {
   "cell_type": "code",
   "execution_count": null,
   "id": "ae8148ed-49ea-4512-85a1-1f3d227409d8",
   "metadata": {
    "tags": []
   },
   "outputs": [],
   "source": [
    "project_df_test2.loc[\n",
    "    project_df_test2.county_name == \"Statewide County\", \"county_name\"\n",
    "] = \"Statewide\"\n",
    "\n",
    "project_df_test2[\"implementing_agency\"] = project_df_test2[\n",
    "    \"implementing_agency\"\n",
    "].fillna(value=\"Unknown\")\n",
    "project_df_test2[\"county_name\"] = project_df_test2[\"county_name\"].fillna(\n",
    "    value=\"Unknown\"\n",
    ")"
   ]
  },
  {
   "cell_type": "code",
   "execution_count": null,
   "id": "48518441-00db-478c-8183-459efe1e839f",
   "metadata": {
    "tags": []
   },
   "outputs": [],
   "source": [
    "project_df_test2.info()"
   ]
  },
  {
   "cell_type": "markdown",
   "id": "d61af090-87dc-4a90-b85a-31a96688c97e",
   "metadata": {},
   "source": [
    "### To-Do\n",
    "* How to incorporate `Funding Type Code` from `Ycodes` file\n",
    "* Er03 is still \"Emergency Rel 2023 Supplement Program\" instead of Emergency Supplement Funding"
   ]
  }
 ],
 "metadata": {
  "kernelspec": {
   "display_name": "Python 3 (ipykernel)",
   "language": "python",
   "name": "python3"
  },
  "language_info": {
   "codemirror_mode": {
    "name": "ipython",
    "version": 3
   },
   "file_extension": ".py",
   "mimetype": "text/x-python",
   "name": "python",
   "nbconvert_exporter": "python",
   "pygments_lexer": "ipython3",
   "version": "3.11.6"
  }
 },
 "nbformat": 4,
 "nbformat_minor": 5
}
