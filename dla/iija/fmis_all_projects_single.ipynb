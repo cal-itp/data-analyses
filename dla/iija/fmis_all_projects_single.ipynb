{
 "cells": [
  {
   "cell_type": "markdown",
   "id": "6e816b2e-3dfb-429e-9fda-5a9d07c934fc",
   "metadata": {},
   "source": [
    "# IIJA All Projects "
   ]
  },
  {
   "cell_type": "code",
   "execution_count": 1,
   "id": "5dcfccd8-5107-41a3-bcf7-db0c9503b51d",
   "metadata": {},
   "outputs": [],
   "source": [
    "# ! pip install nltk\n",
    "# ! pip install textblob"
   ]
  },
  {
   "cell_type": "code",
   "execution_count": 2,
   "id": "f0d63a7a-1a82-4ff4-a8c2-23cf952c66ea",
   "metadata": {},
   "outputs": [
    {
     "name": "stderr",
     "output_type": "stream",
     "text": [
      "/opt/conda/lib/python3.10/site-packages/geopandas/_compat.py:112: UserWarning: The Shapely GEOS version (3.10.3-CAPI-1.16.1) is incompatible with the GEOS version PyGEOS was compiled with (3.10.1-CAPI-1.16.0). Conversions between both will be slow.\n"
     ]
    }
   ],
   "source": [
    "import numpy as np\n",
    "import pandas as pd\n",
    "from siuba import *\n",
    "\n",
    "from shared_utils import geography_utils\n",
    "from dla_utils import _dla_utils\n",
    "\n",
    "from calitp import to_snakecase\n",
    "\n",
    "import utils"
   ]
  },
  {
   "cell_type": "code",
   "execution_count": 3,
   "id": "5cf38c7a-a8f4-4c50-9219-71770b2ac0d6",
   "metadata": {},
   "outputs": [],
   "source": [
    "pd.set_option(\"display.max_columns\", 100)\n",
    "pd.set_option('display.max_colwidth', None)\n"
   ]
  },
  {
   "cell_type": "markdown",
   "id": "eeac35ea-48d1-4818-85e1-c5bbd173f4ec",
   "metadata": {},
   "source": [
    "## Read Data"
   ]
  },
  {
   "cell_type": "code",
   "execution_count": 4,
   "id": "f5feb5ee-1212-4909-864d-0a8c4a137f12",
   "metadata": {},
   "outputs": [],
   "source": [
    "proj = utils.read_data_all()"
   ]
  },
  {
   "cell_type": "code",
   "execution_count": 5,
   "id": "eafcf219-2e16-48a1-872c-9306c71329f4",
   "metadata": {},
   "outputs": [
    {
     "data": {
      "text/html": [
       "<div>\n",
       "<style scoped>\n",
       "    .dataframe tbody tr th:only-of-type {\n",
       "        vertical-align: middle;\n",
       "    }\n",
       "\n",
       "    .dataframe tbody tr th {\n",
       "        vertical-align: top;\n",
       "    }\n",
       "\n",
       "    .dataframe thead th {\n",
       "        text-align: right;\n",
       "    }\n",
       "</style>\n",
       "<table border=\"1\" class=\"dataframe\">\n",
       "  <thead>\n",
       "    <tr style=\"text-align: right;\">\n",
       "      <th></th>\n",
       "      <th>fmis_transaction_date</th>\n",
       "      <th>program_code</th>\n",
       "      <th>program_code_description</th>\n",
       "      <th>project_number</th>\n",
       "      <th>recipient_project_number</th>\n",
       "      <th>project_title</th>\n",
       "      <th>county_code</th>\n",
       "      <th>congressional_district</th>\n",
       "      <th>improvement_type</th>\n",
       "      <th>improvement_type_description</th>\n",
       "      <th>obligations_amount</th>\n",
       "      <th>summary_recipient_defined_text_field_1_value</th>\n",
       "    </tr>\n",
       "  </thead>\n",
       "  <tbody>\n",
       "    <tr>\n",
       "      <th>0</th>\n",
       "      <td>2022-03-03</td>\n",
       "      <td>Y230</td>\n",
       "      <td>STBG-URBANIZED &gt;200K IIJA</td>\n",
       "      <td>5002174</td>\n",
       "      <td>0314000222L</td>\n",
       "      <td>BELL AVE. FROM BOLLENBACHER AVE. TO ASTORIA ST ROAD REHABILITATION (TC)</td>\n",
       "      <td>67.00</td>\n",
       "      <td>Cong Dist 6</td>\n",
       "      <td>4.00</td>\n",
       "      <td>4R - No Added Capacity</td>\n",
       "      <td>2,841,397.00</td>\n",
       "      <td>L5002SACOG</td>\n",
       "    </tr>\n",
       "  </tbody>\n",
       "</table>\n",
       "</div>"
      ],
      "text/plain": [
       "  fmis_transaction_date program_code   program_code_description  \\\n",
       "0            2022-03-03         Y230  STBG-URBANIZED >200K IIJA   \n",
       "\n",
       "  project_number recipient_project_number  \\\n",
       "0        5002174              0314000222L   \n",
       "\n",
       "                                                             project_title  \\\n",
       "0  BELL AVE. FROM BOLLENBACHER AVE. TO ASTORIA ST ROAD REHABILITATION (TC)   \n",
       "\n",
       "   county_code congressional_district  improvement_type  \\\n",
       "0        67.00            Cong Dist 6              4.00   \n",
       "\n",
       "  improvement_type_description  obligations_amount  \\\n",
       "0       4R - No Added Capacity        2,841,397.00   \n",
       "\n",
       "  summary_recipient_defined_text_field_1_value  \n",
       "0                                   L5002SACOG  "
      ]
     },
     "execution_count": 5,
     "metadata": {},
     "output_type": "execute_result"
    }
   ],
   "source": [
    "proj.head(1)"
   ]
  },
  {
   "cell_type": "code",
   "execution_count": 6,
   "id": "d44e65a1-fbd6-4331-9346-5765fbe19716",
   "metadata": {},
   "outputs": [
    {
     "data": {
      "text/plain": [
       "1241"
      ]
     },
     "execution_count": 6,
     "metadata": {},
     "output_type": "execute_result"
    }
   ],
   "source": [
    "len(proj)"
   ]
  },
  {
   "cell_type": "code",
   "execution_count": 7,
   "id": "1515ce59-be30-44ce-8314-fae851cb30ab",
   "metadata": {},
   "outputs": [],
   "source": [
    "## agency identifier column doesnt always have locode"
   ]
  },
  {
   "cell_type": "code",
   "execution_count": 8,
   "id": "042942e7-ebd1-42d3-a13f-11b4dd019340",
   "metadata": {},
   "outputs": [],
   "source": [
    "df = utils.identify_agency(proj, 'summary_recipient_defined_text_field_1_value')"
   ]
  },
  {
   "cell_type": "code",
   "execution_count": null,
   "id": "d250e66f-a35c-46ff-8c7b-92ee2361e251",
   "metadata": {},
   "outputs": [],
   "source": []
  },
  {
   "cell_type": "code",
   "execution_count": 9,
   "id": "a657a912-57bf-44c3-be9e-dafa5f2f1619",
   "metadata": {},
   "outputs": [
    {
     "data": {
      "text/html": [
       "<div>\n",
       "<style scoped>\n",
       "    .dataframe tbody tr th:only-of-type {\n",
       "        vertical-align: middle;\n",
       "    }\n",
       "\n",
       "    .dataframe tbody tr th {\n",
       "        vertical-align: top;\n",
       "    }\n",
       "\n",
       "    .dataframe thead th {\n",
       "        text-align: right;\n",
       "    }\n",
       "</style>\n",
       "<table border=\"1\" class=\"dataframe\">\n",
       "  <thead>\n",
       "    <tr style=\"text-align: right;\">\n",
       "      <th></th>\n",
       "      <th>recipient_project_number</th>\n",
       "      <th>project_number</th>\n",
       "      <th>implementing_agency</th>\n",
       "      <th>project_title</th>\n",
       "      <th>n_descriptions</th>\n",
       "    </tr>\n",
       "  </thead>\n",
       "  <tbody>\n",
       "    <tr>\n",
       "      <th>23</th>\n",
       "      <td>0100020391L</td>\n",
       "      <td>5904112</td>\n",
       "      <td>Humboldt County</td>\n",
       "      <td>PINE HILL ROAD BRIDGE OVER SWAIN SLOUGH 04C0173 BRIDGE REPLACEMENT WITH TOLL CREDITS (TC)</td>\n",
       "      <td>2</td>\n",
       "    </tr>\n",
       "    <tr>\n",
       "      <th>26</th>\n",
       "      <td>0113000090S</td>\n",
       "      <td>P036118</td>\n",
       "      <td>California</td>\n",
       "      <td>IN HUMBOLDT COUNTY NEAR ALTON FROM 0.10 MILE EAST OF ROUTE 36/101 SEPARATION TO 1.65 MILE EAST OF ROUTE 36/101 SEPARATION SHOULDER WIDENING</td>\n",
       "      <td>2</td>\n",
       "    </tr>\n",
       "    <tr>\n",
       "      <th>27</th>\n",
       "      <td>0113000123S</td>\n",
       "      <td>P020198</td>\n",
       "      <td>California</td>\n",
       "      <td>IN MENDOCINO COUNTY NEAR UKIAH FROM 0.3 MILE WEST OF RUSSIAN RIVER BRIDGE AND OVERHEAD TO 0.4 MILE EAST OF COUNTY ROAD 144 REPLACE TWO BRIDGES</td>\n",
       "      <td>2</td>\n",
       "    </tr>\n",
       "    <tr>\n",
       "      <th>32</th>\n",
       "      <td>0116000098L</td>\n",
       "      <td>5904156</td>\n",
       "      <td>Humboldt County</td>\n",
       "      <td>VARIOUS LOCATIONS IN HUMBOLDT COUNTY BRIDGE PREVENTIVE MAINTENANCE: MINOR CONCRETE REPAIR ON 8 BRIDGES.</td>\n",
       "      <td>2</td>\n",
       "    </tr>\n",
       "    <tr>\n",
       "      <th>34</th>\n",
       "      <td>0117000018S</td>\n",
       "      <td>P020199</td>\n",
       "      <td>California</td>\n",
       "      <td>IN LAKE COUNTY NEAR CLEAR LAKE OAKS AT BERYL WAY THIS PROJECT PROPOSES TO INSTALL A COMBINATION OF TWO ALTERNATIVE IN-LINE TERMINAL SYSTEMS, A RAIL E</td>\n",
       "      <td>2</td>\n",
       "    </tr>\n",
       "    <tr>\n",
       "      <th>...</th>\n",
       "      <td>...</td>\n",
       "      <td>...</td>\n",
       "      <td>...</td>\n",
       "      <td>...</td>\n",
       "      <td>...</td>\n",
       "    </tr>\n",
       "    <tr>\n",
       "      <th>514</th>\n",
       "      <td>1121000195S</td>\n",
       "      <td>0051993</td>\n",
       "      <td>California</td>\n",
       "      <td>CONSTRUCT HOV LANES, AUXILARY LANES, AND ITS (CMGC) IN SAN DIEGO COUNTY AT VARIOUS LOCATIONS FROM LOMAS SANTA FE DRIVE UNDERCROSSING TO 0.2 MILES NOR</td>\n",
       "      <td>4</td>\n",
       "    </tr>\n",
       "    <tr>\n",
       "      <th>533</th>\n",
       "      <td>1218000034S</td>\n",
       "      <td>X059084</td>\n",
       "      <td>California</td>\n",
       "      <td>CONST BRIDGES, RW, SW, JPCP, HMA PVMT, DRAINAGE AND ELECT SYSTEMS. ORANGE COUNTY IN IRVINE, SANTA ANA, AND TUSTIN ON ROUTE 5 AT NEWPORT AVENUE UNDERC</td>\n",
       "      <td>4</td>\n",
       "    </tr>\n",
       "    <tr>\n",
       "      <th>254</th>\n",
       "      <td>0513000017S</td>\n",
       "      <td>Q101401</td>\n",
       "      <td>California</td>\n",
       "      <td>MONTEREY COUNTY NEAR SOLEDAD FROM 0.5 MILE SOUTH TO 0.2 MILE NORTH OF THE NORTH SOLEDAD OVERHEAD BRIDGE REHABILITATION</td>\n",
       "      <td>5</td>\n",
       "    </tr>\n",
       "    <tr>\n",
       "      <th>288</th>\n",
       "      <td>0616000207S</td>\n",
       "      <td>P099671</td>\n",
       "      <td>California</td>\n",
       "      <td>IN MADERA COUNTY NEAR MADERA FROM 0.4 MILE SOUTH OF COTTONWOOD CREEK BRIDGE TO 0.1 MILE NORTH OF AVENUE 12 OVERCROSSING. REPLACE BRIDGES AND CONSTRUC</td>\n",
       "      <td>5</td>\n",
       "    </tr>\n",
       "    <tr>\n",
       "      <th>404</th>\n",
       "      <td>0817000123L</td>\n",
       "      <td>6507003</td>\n",
       "      <td>San Bernardino County Transportation Authority</td>\n",
       "      <td>MOUNT VERNON AVENUE OVERHEAD AT THE BURLINGTON NORTHERN SANTA FE RAILROAD YARD FROM KING STREET TO 5TH STREET, BR. NO. 54C-0066 BRIDGE REPLACEMENT</td>\n",
       "      <td>5</td>\n",
       "    </tr>\n",
       "  </tbody>\n",
       "</table>\n",
       "<p>320 rows × 5 columns</p>\n",
       "</div>"
      ],
      "text/plain": [
       "    recipient_project_number project_number  \\\n",
       "23               0100020391L        5904112   \n",
       "26               0113000090S        P036118   \n",
       "27               0113000123S        P020198   \n",
       "32               0116000098L        5904156   \n",
       "34               0117000018S        P020199   \n",
       "..                       ...            ...   \n",
       "514              1121000195S        0051993   \n",
       "533              1218000034S        X059084   \n",
       "254              0513000017S        Q101401   \n",
       "288              0616000207S        P099671   \n",
       "404              0817000123L        6507003   \n",
       "\n",
       "                                implementing_agency  \\\n",
       "23                                  Humboldt County   \n",
       "26                                       California   \n",
       "27                                       California   \n",
       "32                                  Humboldt County   \n",
       "34                                       California   \n",
       "..                                              ...   \n",
       "514                                      California   \n",
       "533                                      California   \n",
       "254                                      California   \n",
       "288                                      California   \n",
       "404  San Bernardino County Transportation Authority   \n",
       "\n",
       "                                                                                                                                             project_title  \\\n",
       "23                                                               PINE HILL ROAD BRIDGE OVER SWAIN SLOUGH 04C0173 BRIDGE REPLACEMENT WITH TOLL CREDITS (TC)   \n",
       "26             IN HUMBOLDT COUNTY NEAR ALTON FROM 0.10 MILE EAST OF ROUTE 36/101 SEPARATION TO 1.65 MILE EAST OF ROUTE 36/101 SEPARATION SHOULDER WIDENING   \n",
       "27          IN MENDOCINO COUNTY NEAR UKIAH FROM 0.3 MILE WEST OF RUSSIAN RIVER BRIDGE AND OVERHEAD TO 0.4 MILE EAST OF COUNTY ROAD 144 REPLACE TWO BRIDGES   \n",
       "32                                                 VARIOUS LOCATIONS IN HUMBOLDT COUNTY BRIDGE PREVENTIVE MAINTENANCE: MINOR CONCRETE REPAIR ON 8 BRIDGES.   \n",
       "34   IN LAKE COUNTY NEAR CLEAR LAKE OAKS AT BERYL WAY THIS PROJECT PROPOSES TO INSTALL A COMBINATION OF TWO ALTERNATIVE IN-LINE TERMINAL SYSTEMS, A RAIL E   \n",
       "..                                                                                                                                                     ...   \n",
       "514  CONSTRUCT HOV LANES, AUXILARY LANES, AND ITS (CMGC) IN SAN DIEGO COUNTY AT VARIOUS LOCATIONS FROM LOMAS SANTA FE DRIVE UNDERCROSSING TO 0.2 MILES NOR   \n",
       "533  CONST BRIDGES, RW, SW, JPCP, HMA PVMT, DRAINAGE AND ELECT SYSTEMS. ORANGE COUNTY IN IRVINE, SANTA ANA, AND TUSTIN ON ROUTE 5 AT NEWPORT AVENUE UNDERC   \n",
       "254                                 MONTEREY COUNTY NEAR SOLEDAD FROM 0.5 MILE SOUTH TO 0.2 MILE NORTH OF THE NORTH SOLEDAD OVERHEAD BRIDGE REHABILITATION   \n",
       "288  IN MADERA COUNTY NEAR MADERA FROM 0.4 MILE SOUTH OF COTTONWOOD CREEK BRIDGE TO 0.1 MILE NORTH OF AVENUE 12 OVERCROSSING. REPLACE BRIDGES AND CONSTRUC   \n",
       "404     MOUNT VERNON AVENUE OVERHEAD AT THE BURLINGTON NORTHERN SANTA FE RAILROAD YARD FROM KING STREET TO 5TH STREET, BR. NO. 54C-0066 BRIDGE REPLACEMENT   \n",
       "\n",
       "     n_descriptions  \n",
       "23                2  \n",
       "26                2  \n",
       "27                2  \n",
       "32                2  \n",
       "34                2  \n",
       "..              ...  \n",
       "514               4  \n",
       "533               4  \n",
       "254               5  \n",
       "288               5  \n",
       "404               5  \n",
       "\n",
       "[320 rows x 5 columns]"
      ]
     },
     "execution_count": 9,
     "metadata": {},
     "output_type": "execute_result"
    }
   ],
   "source": [
    "(df\n",
    " >>group_by(_.recipient_project_number, _.project_number, _.implementing_agency, _.project_title)\n",
    " >>summarize(n_descriptions = _.improvement_type_description.nunique())\n",
    " >>filter(_.n_descriptions>1)\n",
    " >>arrange(_.n_descriptions, _.n_descriptions)\n",
    ")"
   ]
  },
  {
   "cell_type": "markdown",
   "id": "02e6a0f9-cf73-40df-b397-11ce66c59a08",
   "metadata": {},
   "source": [
    "#### Get one row for each project"
   ]
  },
  {
   "cell_type": "code",
   "execution_count": 10,
   "id": "2edeb432-f8bd-4880-ae60-2aecc3a07e49",
   "metadata": {},
   "outputs": [],
   "source": [
    "proj_unique = df.groupby(['fmis_transaction_date','program_code','project_number','recipient_project_number','project_title',\n",
    "                    'implementing_agency', 'district', 'county_name'])['obligations_amount'].max().reset_index()"
   ]
  },
  {
   "cell_type": "code",
   "execution_count": 11,
   "id": "6d4438c0-24fc-44a6-89c9-ff6b50fc84a9",
   "metadata": {},
   "outputs": [],
   "source": [
    "merge_cols = ['fmis_transaction_date', 'program_code','project_number','recipient_project_number','project_title',\n",
    "                    'implementing_agency', 'county_name', 'district', 'obligations_amount']"
   ]
  },
  {
   "cell_type": "code",
   "execution_count": 12,
   "id": "7b9c9c39-08c0-4726-b7cf-a3038cdf3f32",
   "metadata": {},
   "outputs": [],
   "source": [
    "proj_unique = (pd.merge(proj_unique, df, how='left', on=merge_cols))"
   ]
  },
  {
   "cell_type": "code",
   "execution_count": 13,
   "id": "43ef2cdf-de42-4b1a-8aac-d7ca6eeffc1e",
   "metadata": {},
   "outputs": [
    {
     "data": {
      "text/html": [
       "<div>\n",
       "<style scoped>\n",
       "    .dataframe tbody tr th:only-of-type {\n",
       "        vertical-align: middle;\n",
       "    }\n",
       "\n",
       "    .dataframe tbody tr th {\n",
       "        vertical-align: top;\n",
       "    }\n",
       "\n",
       "    .dataframe thead th {\n",
       "        text-align: right;\n",
       "    }\n",
       "</style>\n",
       "<table border=\"1\" class=\"dataframe\">\n",
       "  <thead>\n",
       "    <tr style=\"text-align: right;\">\n",
       "      <th></th>\n",
       "      <th>fmis_transaction_date</th>\n",
       "      <th>program_code</th>\n",
       "      <th>project_number</th>\n",
       "      <th>recipient_project_number</th>\n",
       "      <th>project_title</th>\n",
       "      <th>implementing_agency</th>\n",
       "      <th>district</th>\n",
       "      <th>county_name</th>\n",
       "      <th>obligations_amount</th>\n",
       "      <th>program_code_description</th>\n",
       "      <th>county_code</th>\n",
       "      <th>congressional_district</th>\n",
       "      <th>improvement_type</th>\n",
       "      <th>improvement_type_description</th>\n",
       "      <th>summary_recipient_defined_text_field_1_value</th>\n",
       "      <th>implementing_agency_locode</th>\n",
       "      <th>rtpa_name</th>\n",
       "      <th>mpo_name</th>\n",
       "    </tr>\n",
       "  </thead>\n",
       "  <tbody>\n",
       "    <tr>\n",
       "      <th>472</th>\n",
       "      <td>2022-09-09</td>\n",
       "      <td>Y001</td>\n",
       "      <td>Q101349</td>\n",
       "      <td>0518000131S</td>\n",
       "      <td>SANTA BARBARA COUNTY, IN AND NEAR THE CITIES OF MONTECITO AND SANTA BARBARA, FROM SHELFFIELD DRIVE TO SYCAMORE CREEK. CONSTRUCT HOV LANES</td>\n",
       "      <td>California</td>\n",
       "      <td>5.00</td>\n",
       "      <td>Santa Barbara County</td>\n",
       "      <td>642,000.00</td>\n",
       "      <td>NATIONAL HIGHWAY PERF IIJA</td>\n",
       "      <td>83.00</td>\n",
       "      <td>Cong Dist 24</td>\n",
       "      <td>15.00</td>\n",
       "      <td>Preliminary Engineering</td>\n",
       "      <td>S    SBCAG</td>\n",
       "      <td>NaN</td>\n",
       "      <td>NaN</td>\n",
       "      <td>NaN</td>\n",
       "    </tr>\n",
       "  </tbody>\n",
       "</table>\n",
       "</div>"
      ],
      "text/plain": [
       "    fmis_transaction_date program_code project_number  \\\n",
       "472            2022-09-09         Y001        Q101349   \n",
       "\n",
       "    recipient_project_number  \\\n",
       "472              0518000131S   \n",
       "\n",
       "                                                                                                                                 project_title  \\\n",
       "472  SANTA BARBARA COUNTY, IN AND NEAR THE CITIES OF MONTECITO AND SANTA BARBARA, FROM SHELFFIELD DRIVE TO SYCAMORE CREEK. CONSTRUCT HOV LANES   \n",
       "\n",
       "    implementing_agency  district           county_name  obligations_amount  \\\n",
       "472          California      5.00  Santa Barbara County          642,000.00   \n",
       "\n",
       "       program_code_description  county_code congressional_district  \\\n",
       "472  NATIONAL HIGHWAY PERF IIJA        83.00           Cong Dist 24   \n",
       "\n",
       "     improvement_type improvement_type_description  \\\n",
       "472             15.00      Preliminary Engineering   \n",
       "\n",
       "    summary_recipient_defined_text_field_1_value  implementing_agency_locode  \\\n",
       "472                                   S    SBCAG                         NaN   \n",
       "\n",
       "    rtpa_name mpo_name  \n",
       "472       NaN      NaN  "
      ]
     },
     "execution_count": 13,
     "metadata": {},
     "output_type": "execute_result"
    }
   ],
   "source": [
    "proj_unique.sample()"
   ]
  },
  {
   "cell_type": "code",
   "execution_count": 14,
   "id": "350f42e6-ce90-4ae0-be2a-9eb0ae1e21e4",
   "metadata": {},
   "outputs": [],
   "source": [
    "proj_unique_cat = utils.add_description(proj_unique, 'project_title')"
   ]
  },
  {
   "cell_type": "code",
   "execution_count": 15,
   "id": "0d5954a9-8a91-4e5c-ae48-cb6547695657",
   "metadata": {},
   "outputs": [
    {
     "data": {
      "text/html": [
       "<div>\n",
       "<style scoped>\n",
       "    .dataframe tbody tr th:only-of-type {\n",
       "        vertical-align: middle;\n",
       "    }\n",
       "\n",
       "    .dataframe tbody tr th {\n",
       "        vertical-align: top;\n",
       "    }\n",
       "\n",
       "    .dataframe thead th {\n",
       "        text-align: right;\n",
       "    }\n",
       "</style>\n",
       "<table border=\"1\" class=\"dataframe\">\n",
       "  <thead>\n",
       "    <tr style=\"text-align: right;\">\n",
       "      <th></th>\n",
       "      <th>fmis_transaction_date</th>\n",
       "      <th>program_code</th>\n",
       "      <th>project_number</th>\n",
       "      <th>recipient_project_number</th>\n",
       "      <th>project_title</th>\n",
       "      <th>implementing_agency</th>\n",
       "      <th>district</th>\n",
       "      <th>county_name</th>\n",
       "      <th>obligations_amount</th>\n",
       "      <th>program_code_description</th>\n",
       "      <th>county_code</th>\n",
       "      <th>congressional_district</th>\n",
       "      <th>improvement_type</th>\n",
       "      <th>improvement_type_description</th>\n",
       "      <th>summary_recipient_defined_text_field_1_value</th>\n",
       "      <th>implementing_agency_locode</th>\n",
       "      <th>rtpa_name</th>\n",
       "      <th>mpo_name</th>\n",
       "      <th>project_method</th>\n",
       "      <th>project_type</th>\n",
       "    </tr>\n",
       "  </thead>\n",
       "  <tbody>\n",
       "    <tr>\n",
       "      <th>169</th>\n",
       "      <td>2022-05-12</td>\n",
       "      <td>Y001</td>\n",
       "      <td>6507003</td>\n",
       "      <td>0817000123L</td>\n",
       "      <td>MOUNT VERNON AVENUE OVERHEAD AT THE BURLINGTON NORTHERN SANTA FE RAILROAD YARD FROM KING STREET TO 5TH STREET, BR. NO. 54C-0066 BRIDGE REPLACEMENT</td>\n",
       "      <td>San Bernardino County Transportation Authority</td>\n",
       "      <td>8.00</td>\n",
       "      <td>San Bernardino County</td>\n",
       "      <td>25,813,142.00</td>\n",
       "      <td>NATIONAL HIGHWAY PERF IIJA</td>\n",
       "      <td>71.00</td>\n",
       "      <td>Cong Dist 31</td>\n",
       "      <td>16.00</td>\n",
       "      <td>Right of Way</td>\n",
       "      <td>L6507SCAG</td>\n",
       "      <td>6,507.00</td>\n",
       "      <td>NON-RTPA</td>\n",
       "      <td>Southern California Association Of Governments</td>\n",
       "      <td>Replace</td>\n",
       "      <td>Bridge</td>\n",
       "    </tr>\n",
       "  </tbody>\n",
       "</table>\n",
       "</div>"
      ],
      "text/plain": [
       "    fmis_transaction_date program_code project_number  \\\n",
       "169            2022-05-12         Y001        6507003   \n",
       "\n",
       "    recipient_project_number  \\\n",
       "169              0817000123L   \n",
       "\n",
       "                                                                                                                                          project_title  \\\n",
       "169  MOUNT VERNON AVENUE OVERHEAD AT THE BURLINGTON NORTHERN SANTA FE RAILROAD YARD FROM KING STREET TO 5TH STREET, BR. NO. 54C-0066 BRIDGE REPLACEMENT   \n",
       "\n",
       "                                implementing_agency  district  \\\n",
       "169  San Bernardino County Transportation Authority      8.00   \n",
       "\n",
       "               county_name  obligations_amount    program_code_description  \\\n",
       "169  San Bernardino County       25,813,142.00  NATIONAL HIGHWAY PERF IIJA   \n",
       "\n",
       "     county_code congressional_district  improvement_type  \\\n",
       "169        71.00           Cong Dist 31             16.00   \n",
       "\n",
       "    improvement_type_description summary_recipient_defined_text_field_1_value  \\\n",
       "169                 Right of Way                                    L6507SCAG   \n",
       "\n",
       "     implementing_agency_locode rtpa_name  \\\n",
       "169                    6,507.00  NON-RTPA   \n",
       "\n",
       "                                           mpo_name project_method  \\\n",
       "169  Southern California Association Of Governments        Replace   \n",
       "\n",
       "    project_type  \n",
       "169       Bridge  "
      ]
     },
     "execution_count": 15,
     "metadata": {},
     "output_type": "execute_result"
    }
   ],
   "source": [
    "proj_unique_cat.sample()"
   ]
  },
  {
   "cell_type": "code",
   "execution_count": 16,
   "id": "3415c7ef-f8c4-4a1c-ac55-cc14d7ae9a88",
   "metadata": {},
   "outputs": [
    {
     "data": {
      "text/plain": [
       "222"
      ]
     },
     "execution_count": 16,
     "metadata": {},
     "output_type": "execute_result"
    }
   ],
   "source": [
    "len(proj_unique_cat>>filter(_.project_type==\"Project\"))"
   ]
  },
  {
   "cell_type": "code",
   "execution_count": 17,
   "id": "298559cc-75e5-4cfc-b7bf-1eef2b0ef4d9",
   "metadata": {},
   "outputs": [],
   "source": [
    "proj_unique_cat_title = utils.add_new_title(proj_unique_cat, \"project_method\", 'project_type', 'implementing_agency')"
   ]
  },
  {
   "cell_type": "code",
   "execution_count": 18,
   "id": "ba52de91-a4b8-425a-866b-57e3c52d34cd",
   "metadata": {},
   "outputs": [
    {
     "data": {
      "text/html": [
       "<div>\n",
       "<style scoped>\n",
       "    .dataframe tbody tr th:only-of-type {\n",
       "        vertical-align: middle;\n",
       "    }\n",
       "\n",
       "    .dataframe tbody tr th {\n",
       "        vertical-align: top;\n",
       "    }\n",
       "\n",
       "    .dataframe thead th {\n",
       "        text-align: right;\n",
       "    }\n",
       "</style>\n",
       "<table border=\"1\" class=\"dataframe\">\n",
       "  <thead>\n",
       "    <tr style=\"text-align: right;\">\n",
       "      <th></th>\n",
       "      <th>fmis_transaction_date</th>\n",
       "      <th>program_code</th>\n",
       "      <th>project_number</th>\n",
       "      <th>recipient_project_number</th>\n",
       "      <th>project_title</th>\n",
       "      <th>implementing_agency</th>\n",
       "      <th>district</th>\n",
       "      <th>county_name</th>\n",
       "      <th>obligations_amount</th>\n",
       "      <th>program_code_description</th>\n",
       "      <th>county_code</th>\n",
       "      <th>congressional_district</th>\n",
       "      <th>improvement_type</th>\n",
       "      <th>improvement_type_description</th>\n",
       "      <th>summary_recipient_defined_text_field_1_value</th>\n",
       "      <th>implementing_agency_locode</th>\n",
       "      <th>rtpa_name</th>\n",
       "      <th>mpo_name</th>\n",
       "      <th>project_method</th>\n",
       "      <th>project_type</th>\n",
       "      <th>project_name_new</th>\n",
       "    </tr>\n",
       "  </thead>\n",
       "  <tbody>\n",
       "    <tr>\n",
       "      <th>320</th>\n",
       "      <td>2022-07-20</td>\n",
       "      <td>Y233</td>\n",
       "      <td>5937205</td>\n",
       "      <td>0416000438L</td>\n",
       "      <td>ALDER CROFT HEIGHTS ROAD OVER HOOKER CREEK, 2.12 MILES SOUTH OF LOS GATOS SC ROAD.   BRIDGE NO. 37C0506 REPLACE EXISTING ONE LANE BRIDGE WITH A NEW T</td>\n",
       "      <td>Santa Clara County</td>\n",
       "      <td>4.00</td>\n",
       "      <td>Santa Clara County</td>\n",
       "      <td>300,000.00</td>\n",
       "      <td>STBG IIJA OFF-SYSTEM BRIDGE</td>\n",
       "      <td>85.00</td>\n",
       "      <td>Cong Dist 18</td>\n",
       "      <td>16.00</td>\n",
       "      <td>Right of Way</td>\n",
       "      <td>L5937MTC</td>\n",
       "      <td>5,937.00</td>\n",
       "      <td>Metropolitan Transportation Commission</td>\n",
       "      <td>Metropolitan Transportation Commission</td>\n",
       "      <td>Replace</td>\n",
       "      <td>Project</td>\n",
       "      <td>Replace Project in Santa Clara County</td>\n",
       "    </tr>\n",
       "  </tbody>\n",
       "</table>\n",
       "</div>"
      ],
      "text/plain": [
       "    fmis_transaction_date program_code project_number  \\\n",
       "320            2022-07-20         Y233        5937205   \n",
       "\n",
       "    recipient_project_number  \\\n",
       "320              0416000438L   \n",
       "\n",
       "                                                                                                                                             project_title  \\\n",
       "320  ALDER CROFT HEIGHTS ROAD OVER HOOKER CREEK, 2.12 MILES SOUTH OF LOS GATOS SC ROAD.   BRIDGE NO. 37C0506 REPLACE EXISTING ONE LANE BRIDGE WITH A NEW T   \n",
       "\n",
       "    implementing_agency  district         county_name  obligations_amount  \\\n",
       "320  Santa Clara County      4.00  Santa Clara County          300,000.00   \n",
       "\n",
       "        program_code_description  county_code congressional_district  \\\n",
       "320  STBG IIJA OFF-SYSTEM BRIDGE        85.00           Cong Dist 18   \n",
       "\n",
       "     improvement_type improvement_type_description  \\\n",
       "320             16.00                 Right of Way   \n",
       "\n",
       "    summary_recipient_defined_text_field_1_value  implementing_agency_locode  \\\n",
       "320                                     L5937MTC                    5,937.00   \n",
       "\n",
       "                                  rtpa_name  \\\n",
       "320  Metropolitan Transportation Commission   \n",
       "\n",
       "                                   mpo_name project_method project_type  \\\n",
       "320  Metropolitan Transportation Commission        Replace      Project   \n",
       "\n",
       "                          project_name_new  \n",
       "320  Replace Project in Santa Clara County  "
      ]
     },
     "execution_count": 18,
     "metadata": {},
     "output_type": "execute_result"
    }
   ],
   "source": [
    "proj_unique_cat_title.sample()"
   ]
  },
  {
   "cell_type": "code",
   "execution_count": null,
   "id": "9f863d38-74f4-47b6-be96-405339acd364",
   "metadata": {},
   "outputs": [],
   "source": []
  },
  {
   "cell_type": "markdown",
   "id": "9d90441e-d4b8-49a6-84d2-2c65eb5f7daf",
   "metadata": {
    "tags": []
   },
   "source": [
    "## Add New Title Function"
   ]
  },
  {
   "cell_type": "code",
   "execution_count": 19,
   "id": "38f4d111-f3b7-41cc-89e5-bc6aab625f90",
   "metadata": {
    "tags": []
   },
   "outputs": [],
   "source": [
    "#to run after first desc and title function\n",
    "\n",
    "def add_new_title(df, first_col_method, second_col_type, third_col_name, alt_col_name):\n",
    "    \"\"\"\n",
    "    Function to add new title. \n",
    "    Expected output example: \"New Bike Lane in Eureka\"\n",
    "    \"\"\"\n",
    "    def return_name(df):\n",
    "        \n",
    "        if (df[third_col_name] == \"California\") & (df[alt_col_name] == \"Statewide\"):\n",
    "            return (df[first_col_method] + \" \" + df[second_col_type] +\" \" + df[alt_col_name])\n",
    "        \n",
    "        elif (df[third_col_name] == \"California\"):\n",
    "            return (df[first_col_method] + \" \" + df[second_col_type] + \" in \" + df[alt_col_name])\n",
    "        \n",
    "        elif (df[third_col_name] != \"California\"):\n",
    "            return (df[first_col_method] + \" \" + df[second_col_type] + \" in \" + df[third_col_name])\n",
    "        \n",
    "        # elif (df[third_col_name] == \"Metropolitan Transportation Commission\"):\n",
    "        #     return (df[first_col_method] + \" \" + df[second_col_type] + \" in The \" + df[third_col_name])\n",
    "\n",
    "        return df\n",
    "\n",
    "    df['project_name_new'] = df.apply(return_name, axis = 1)\n",
    "    \n",
    "    return df"
   ]
  },
  {
   "cell_type": "code",
   "execution_count": 20,
   "id": "3e6d3a8f-94f2-4523-8a68-fe186f2a1887",
   "metadata": {},
   "outputs": [],
   "source": [
    "proj_unique_cat_title = add_new_title(proj_unique_cat_title, \"project_method\", \"project_type\", \"implementing_agency\", \"county_name\")"
   ]
  },
  {
   "cell_type": "code",
   "execution_count": 21,
   "id": "91806a7d-ff71-41ee-8929-cac81dd7af6b",
   "metadata": {},
   "outputs": [
    {
     "data": {
      "text/html": [
       "<div>\n",
       "<style scoped>\n",
       "    .dataframe tbody tr th:only-of-type {\n",
       "        vertical-align: middle;\n",
       "    }\n",
       "\n",
       "    .dataframe tbody tr th {\n",
       "        vertical-align: top;\n",
       "    }\n",
       "\n",
       "    .dataframe thead th {\n",
       "        text-align: right;\n",
       "    }\n",
       "</style>\n",
       "<table border=\"1\" class=\"dataframe\">\n",
       "  <thead>\n",
       "    <tr style=\"text-align: right;\">\n",
       "      <th></th>\n",
       "      <th>fmis_transaction_date</th>\n",
       "      <th>program_code</th>\n",
       "      <th>project_number</th>\n",
       "      <th>recipient_project_number</th>\n",
       "      <th>project_title</th>\n",
       "      <th>implementing_agency</th>\n",
       "      <th>district</th>\n",
       "      <th>county_name</th>\n",
       "      <th>obligations_amount</th>\n",
       "      <th>program_code_description</th>\n",
       "      <th>county_code</th>\n",
       "      <th>congressional_district</th>\n",
       "      <th>improvement_type</th>\n",
       "      <th>improvement_type_description</th>\n",
       "      <th>summary_recipient_defined_text_field_1_value</th>\n",
       "      <th>implementing_agency_locode</th>\n",
       "      <th>rtpa_name</th>\n",
       "      <th>mpo_name</th>\n",
       "      <th>project_method</th>\n",
       "      <th>project_type</th>\n",
       "      <th>project_name_new</th>\n",
       "    </tr>\n",
       "  </thead>\n",
       "  <tbody>\n",
       "    <tr>\n",
       "      <th>110</th>\n",
       "      <td>2022-05-02</td>\n",
       "      <td>Y001</td>\n",
       "      <td>P395348</td>\n",
       "      <td>0900000030S</td>\n",
       "      <td>IN INYO COUNTY NEAR OLANCHA AND CARTAGO FROM 1.4 MILES SOUTH OF LOS ANGELES AQUEDUCT BRIDGE TO 0.2 MILE SOUTH OF ASH CREEK BRIDGE. CONSTRUCT 4 LANE E</td>\n",
       "      <td>California</td>\n",
       "      <td>9.00</td>\n",
       "      <td>Inyo County</td>\n",
       "      <td>64,378,000.00</td>\n",
       "      <td>NATIONAL HIGHWAY PERF IIJA</td>\n",
       "      <td>27.00</td>\n",
       "      <td>Cong Dist 8</td>\n",
       "      <td>3.00</td>\n",
       "      <td>4R - Added Capacity</td>\n",
       "      <td>S    NON-MPO</td>\n",
       "      <td>NaN</td>\n",
       "      <td>NaN</td>\n",
       "      <td>NaN</td>\n",
       "      <td>Construct</td>\n",
       "      <td>Project</td>\n",
       "      <td>Construct Project in Inyo County</td>\n",
       "    </tr>\n",
       "    <tr>\n",
       "      <th>247</th>\n",
       "      <td>2022-06-16</td>\n",
       "      <td>Y001</td>\n",
       "      <td>Q101401</td>\n",
       "      <td>0513000017S</td>\n",
       "      <td>MONTEREY COUNTY NEAR SOLEDAD FROM 0.5 MILE SOUTH TO 0.2 MILE NORTH OF THE NORTH SOLEDAD OVERHEAD BRIDGE REHABILITATION</td>\n",
       "      <td>California</td>\n",
       "      <td>5.00</td>\n",
       "      <td>Monterey County</td>\n",
       "      <td>2,118,100.00</td>\n",
       "      <td>NATIONAL HIGHWAY PERF IIJA</td>\n",
       "      <td>53.00</td>\n",
       "      <td>Cong Dist 20</td>\n",
       "      <td>6.00</td>\n",
       "      <td>4R - Restoration &amp; Rehabilitation</td>\n",
       "      <td>S    AMBAG</td>\n",
       "      <td>NaN</td>\n",
       "      <td>NaN</td>\n",
       "      <td>NaN</td>\n",
       "      <td></td>\n",
       "      <td>Bridge Rehabilitation</td>\n",
       "      <td>Bridge Rehabilitation in Monterey County</td>\n",
       "    </tr>\n",
       "    <tr>\n",
       "      <th>392</th>\n",
       "      <td>2022-08-23</td>\n",
       "      <td>Y003</td>\n",
       "      <td>6211149</td>\n",
       "      <td>1119000022L</td>\n",
       "      <td>IN SAN DIEGO COUNTY IN SAN DIEGO FROM 0.6 MILE NORTH FROM DEL MAR HEIGHTS ROAD OVERCROSSING TO VILLA DE LA VALLE OVERCROSSING. RESTORE WETLANDS AT SA</td>\n",
       "      <td>Caltrans</td>\n",
       "      <td>11.00</td>\n",
       "      <td>Multi-County</td>\n",
       "      <td>33,824,168.00</td>\n",
       "      <td>PROJ TO REDUCE PM 2.5 EMI IIJA</td>\n",
       "      <td>73.00</td>\n",
       "      <td>Cong Dist 52</td>\n",
       "      <td>44.00</td>\n",
       "      <td>Other</td>\n",
       "      <td>S6211SANDAG</td>\n",
       "      <td>6,211.00</td>\n",
       "      <td>CT-ADMIN</td>\n",
       "      <td>CT-ADMIN</td>\n",
       "      <td></td>\n",
       "      <td>Restore Wetlands</td>\n",
       "      <td>Restore Wetlands in Caltrans</td>\n",
       "    </tr>\n",
       "  </tbody>\n",
       "</table>\n",
       "</div>"
      ],
      "text/plain": [
       "    fmis_transaction_date program_code project_number  \\\n",
       "110            2022-05-02         Y001        P395348   \n",
       "247            2022-06-16         Y001        Q101401   \n",
       "392            2022-08-23         Y003        6211149   \n",
       "\n",
       "    recipient_project_number  \\\n",
       "110              0900000030S   \n",
       "247              0513000017S   \n",
       "392              1119000022L   \n",
       "\n",
       "                                                                                                                                             project_title  \\\n",
       "110  IN INYO COUNTY NEAR OLANCHA AND CARTAGO FROM 1.4 MILES SOUTH OF LOS ANGELES AQUEDUCT BRIDGE TO 0.2 MILE SOUTH OF ASH CREEK BRIDGE. CONSTRUCT 4 LANE E   \n",
       "247                                 MONTEREY COUNTY NEAR SOLEDAD FROM 0.5 MILE SOUTH TO 0.2 MILE NORTH OF THE NORTH SOLEDAD OVERHEAD BRIDGE REHABILITATION   \n",
       "392  IN SAN DIEGO COUNTY IN SAN DIEGO FROM 0.6 MILE NORTH FROM DEL MAR HEIGHTS ROAD OVERCROSSING TO VILLA DE LA VALLE OVERCROSSING. RESTORE WETLANDS AT SA   \n",
       "\n",
       "    implementing_agency  district      county_name  obligations_amount  \\\n",
       "110          California      9.00      Inyo County       64,378,000.00   \n",
       "247          California      5.00  Monterey County        2,118,100.00   \n",
       "392            Caltrans     11.00     Multi-County       33,824,168.00   \n",
       "\n",
       "           program_code_description  county_code congressional_district  \\\n",
       "110      NATIONAL HIGHWAY PERF IIJA        27.00            Cong Dist 8   \n",
       "247      NATIONAL HIGHWAY PERF IIJA        53.00           Cong Dist 20   \n",
       "392  PROJ TO REDUCE PM 2.5 EMI IIJA        73.00           Cong Dist 52   \n",
       "\n",
       "     improvement_type       improvement_type_description  \\\n",
       "110              3.00                4R - Added Capacity   \n",
       "247              6.00  4R - Restoration & Rehabilitation   \n",
       "392             44.00                              Other   \n",
       "\n",
       "    summary_recipient_defined_text_field_1_value  implementing_agency_locode  \\\n",
       "110                                 S    NON-MPO                         NaN   \n",
       "247                                   S    AMBAG                         NaN   \n",
       "392                                  S6211SANDAG                    6,211.00   \n",
       "\n",
       "    rtpa_name  mpo_name project_method           project_type  \\\n",
       "110       NaN       NaN      Construct                Project   \n",
       "247       NaN       NaN                 Bridge Rehabilitation   \n",
       "392  CT-ADMIN  CT-ADMIN                      Restore Wetlands   \n",
       "\n",
       "                              project_name_new  \n",
       "110           Construct Project in Inyo County  \n",
       "247   Bridge Rehabilitation in Monterey County  \n",
       "392               Restore Wetlands in Caltrans  "
      ]
     },
     "execution_count": 21,
     "metadata": {},
     "output_type": "execute_result"
    }
   ],
   "source": [
    "proj_unique_cat_title.sample(3)"
   ]
  },
  {
   "cell_type": "code",
   "execution_count": null,
   "id": "808f9496-21e2-48df-a66a-3ff5c1153c86",
   "metadata": {},
   "outputs": [],
   "source": []
  },
  {
   "cell_type": "code",
   "execution_count": 30,
   "id": "ba02913a-0e14-4897-8133-fc4f488aafe8",
   "metadata": {},
   "outputs": [],
   "source": [
    "proj_unique_cat_title = utils.update_no_matched(proj_unique_cat_title, 'project_type', 'improvement_type_description', 'implementing_agency')"
   ]
  },
  {
   "cell_type": "code",
   "execution_count": 44,
   "id": "4794f0c1-55f2-4a21-bbd4-e6c2d5520933",
   "metadata": {},
   "outputs": [
    {
     "data": {
      "text/html": [
       "<div>\n",
       "<style scoped>\n",
       "    .dataframe tbody tr th:only-of-type {\n",
       "        vertical-align: middle;\n",
       "    }\n",
       "\n",
       "    .dataframe tbody tr th {\n",
       "        vertical-align: top;\n",
       "    }\n",
       "\n",
       "    .dataframe thead th {\n",
       "        text-align: right;\n",
       "    }\n",
       "</style>\n",
       "<table border=\"1\" class=\"dataframe\">\n",
       "  <thead>\n",
       "    <tr style=\"text-align: right;\">\n",
       "      <th></th>\n",
       "      <th>fmis_transaction_date</th>\n",
       "      <th>program_code</th>\n",
       "      <th>project_number</th>\n",
       "      <th>recipient_project_number</th>\n",
       "      <th>project_title</th>\n",
       "      <th>implementing_agency</th>\n",
       "      <th>district</th>\n",
       "      <th>county_name</th>\n",
       "      <th>obligations_amount</th>\n",
       "      <th>program_code_description</th>\n",
       "      <th>county_code</th>\n",
       "      <th>congressional_district</th>\n",
       "      <th>improvement_type</th>\n",
       "      <th>improvement_type_description</th>\n",
       "      <th>summary_recipient_defined_text_field_1_value</th>\n",
       "      <th>implementing_agency_locode</th>\n",
       "      <th>rtpa_name</th>\n",
       "      <th>mpo_name</th>\n",
       "      <th>project_method</th>\n",
       "      <th>project_type</th>\n",
       "      <th>project_name_new</th>\n",
       "      <th>project_name_new2</th>\n",
       "    </tr>\n",
       "  </thead>\n",
       "  <tbody>\n",
       "    <tr>\n",
       "      <th>230</th>\n",
       "      <td>2022-06-15</td>\n",
       "      <td>Y001</td>\n",
       "      <td>0804212</td>\n",
       "      <td>0321000109S</td>\n",
       "      <td>NEVADA AND SIERRA COUNTIES FROM 1.9 MILES EAST OF FARAD UNDERCROSSING TO THE SIERRACOUNTY LINE AND FROM 1.3 MILES EAST OF THE NEVADA COUNTY LINE TO T</td>\n",
       "      <td>California</td>\n",
       "      <td>3.00</td>\n",
       "      <td>Nevada County</td>\n",
       "      <td>3,749,733.07</td>\n",
       "      <td>NATIONAL HIGHWAY PERF IIJA</td>\n",
       "      <td>57.00</td>\n",
       "      <td>Cong Dist 1</td>\n",
       "      <td>6.00</td>\n",
       "      <td>4R - Restoration &amp; Rehabilitation</td>\n",
       "      <td>S    NON-MPO</td>\n",
       "      <td>NaN</td>\n",
       "      <td>NaN</td>\n",
       "      <td>NaN</td>\n",
       "      <td></td>\n",
       "      <td>Project</td>\n",
       "      <td>Project in Nevada County</td>\n",
       "      <td>Road Restoration &amp; Rehabilitation in California</td>\n",
       "    </tr>\n",
       "    <tr>\n",
       "      <th>268</th>\n",
       "      <td>2022-06-24</td>\n",
       "      <td>Y003</td>\n",
       "      <td>6084282</td>\n",
       "      <td>0422000469L</td>\n",
       "      <td>SF BAY AREA: VARIOUS BRIDGE CORRIDORS AND CORRIDOR APPROACHES CONDUCT PRELIMINARY ENGINEERING AND PLANNING STUDIES TO ADVANCE BAY BRIDGE FORWARD PROJ</td>\n",
       "      <td>Metropolitan Transportation Commission</td>\n",
       "      <td>4.00</td>\n",
       "      <td>Multi-County</td>\n",
       "      <td>6,000,000.00</td>\n",
       "      <td>PROJ TO REDUCE PM 2.5 EMI IIJA</td>\n",
       "      <td>1.00</td>\n",
       "      <td>Cong Dist 13</td>\n",
       "      <td>15.00</td>\n",
       "      <td>Preliminary Engineering</td>\n",
       "      <td>L6084MTC</td>\n",
       "      <td>6,084.00</td>\n",
       "      <td>NON-RTPA</td>\n",
       "      <td>Metropolitan Transportation Commission</td>\n",
       "      <td></td>\n",
       "      <td>Project</td>\n",
       "      <td>Project in Metropolitan Transportation Commission</td>\n",
       "      <td>Preliminary Engineering Projects in Metropolitan Transportation Commission</td>\n",
       "    </tr>\n",
       "    <tr>\n",
       "      <th>220</th>\n",
       "      <td>2022-06-13</td>\n",
       "      <td>Y001</td>\n",
       "      <td>0802374</td>\n",
       "      <td>0417000031S</td>\n",
       "      <td>SOLANO COUNTY IN VALLEJO ON ROUTE 80 FROM 0.2 MILE NORH OF CARQUINEZ BRIDGE TO PLAZA TO 0.3 MILES SOUTH OF MAGAZINE STREET OVERCROSSING AND AT ROUTE</td>\n",
       "      <td>California</td>\n",
       "      <td>4.00</td>\n",
       "      <td>Solano County</td>\n",
       "      <td>8,055,600.00</td>\n",
       "      <td>NATIONAL HIGHWAY PERF IIJA</td>\n",
       "      <td>95.00</td>\n",
       "      <td>Cong Dist 5</td>\n",
       "      <td>11.00</td>\n",
       "      <td>Bridge Replacement - No Added Capacity</td>\n",
       "      <td>S    MTC</td>\n",
       "      <td>NaN</td>\n",
       "      <td>NaN</td>\n",
       "      <td>NaN</td>\n",
       "      <td></td>\n",
       "      <td>Project</td>\n",
       "      <td>Project in Solano County</td>\n",
       "      <td>Bridge Replacement in California</td>\n",
       "    </tr>\n",
       "  </tbody>\n",
       "</table>\n",
       "</div>"
      ],
      "text/plain": [
       "    fmis_transaction_date program_code project_number  \\\n",
       "230            2022-06-15         Y001        0804212   \n",
       "268            2022-06-24         Y003        6084282   \n",
       "220            2022-06-13         Y001        0802374   \n",
       "\n",
       "    recipient_project_number  \\\n",
       "230              0321000109S   \n",
       "268              0422000469L   \n",
       "220              0417000031S   \n",
       "\n",
       "                                                                                                                                             project_title  \\\n",
       "230  NEVADA AND SIERRA COUNTIES FROM 1.9 MILES EAST OF FARAD UNDERCROSSING TO THE SIERRACOUNTY LINE AND FROM 1.3 MILES EAST OF THE NEVADA COUNTY LINE TO T   \n",
       "268  SF BAY AREA: VARIOUS BRIDGE CORRIDORS AND CORRIDOR APPROACHES CONDUCT PRELIMINARY ENGINEERING AND PLANNING STUDIES TO ADVANCE BAY BRIDGE FORWARD PROJ   \n",
       "220   SOLANO COUNTY IN VALLEJO ON ROUTE 80 FROM 0.2 MILE NORH OF CARQUINEZ BRIDGE TO PLAZA TO 0.3 MILES SOUTH OF MAGAZINE STREET OVERCROSSING AND AT ROUTE   \n",
       "\n",
       "                        implementing_agency  district    county_name  \\\n",
       "230                              California      3.00  Nevada County   \n",
       "268  Metropolitan Transportation Commission      4.00   Multi-County   \n",
       "220                              California      4.00  Solano County   \n",
       "\n",
       "     obligations_amount        program_code_description  county_code  \\\n",
       "230        3,749,733.07      NATIONAL HIGHWAY PERF IIJA        57.00   \n",
       "268        6,000,000.00  PROJ TO REDUCE PM 2.5 EMI IIJA         1.00   \n",
       "220        8,055,600.00      NATIONAL HIGHWAY PERF IIJA        95.00   \n",
       "\n",
       "    congressional_district  improvement_type  \\\n",
       "230            Cong Dist 1              6.00   \n",
       "268           Cong Dist 13             15.00   \n",
       "220            Cong Dist 5             11.00   \n",
       "\n",
       "               improvement_type_description  \\\n",
       "230       4R - Restoration & Rehabilitation   \n",
       "268                 Preliminary Engineering   \n",
       "220  Bridge Replacement - No Added Capacity   \n",
       "\n",
       "    summary_recipient_defined_text_field_1_value  implementing_agency_locode  \\\n",
       "230                                 S    NON-MPO                         NaN   \n",
       "268                                     L6084MTC                    6,084.00   \n",
       "220                                     S    MTC                         NaN   \n",
       "\n",
       "    rtpa_name                                mpo_name project_method  \\\n",
       "230       NaN                                     NaN                  \n",
       "268  NON-RTPA  Metropolitan Transportation Commission                  \n",
       "220       NaN                                     NaN                  \n",
       "\n",
       "    project_type                                    project_name_new  \\\n",
       "230      Project                            Project in Nevada County   \n",
       "268      Project   Project in Metropolitan Transportation Commission   \n",
       "220      Project                            Project in Solano County   \n",
       "\n",
       "                                                              project_name_new2  \n",
       "230                             Road Restoration & Rehabilitation in California  \n",
       "268  Preliminary Engineering Projects in Metropolitan Transportation Commission  \n",
       "220                                            Bridge Replacement in California  "
      ]
     },
     "execution_count": 44,
     "metadata": {},
     "output_type": "execute_result"
    }
   ],
   "source": [
    "(proj_unique_cat_title>>filter(_.project_type==\"Project\")).sample(3)"
   ]
  },
  {
   "cell_type": "code",
   "execution_count": 52,
   "id": "efc5e3f8-862b-4228-9d19-cf206d94bcd0",
   "metadata": {},
   "outputs": [
    {
     "data": {
      "text/plain": [
       "19"
      ]
     },
     "execution_count": 52,
     "metadata": {},
     "output_type": "execute_result"
    }
   ],
   "source": [
    "len(proj_unique_cat_title>>filter(_.project_type=='Project', _.project_name_new2==\"\"))"
   ]
  },
  {
   "cell_type": "markdown",
   "id": "180cc653-bb40-43eb-9ba9-1c47b13f29f3",
   "metadata": {},
   "source": [
    "### Attmept #2"
   ]
  },
  {
   "cell_type": "code",
   "execution_count": 49,
   "id": "8817b523-10bc-493a-8089-a078ceba6076",
   "metadata": {},
   "outputs": [],
   "source": [
    "no_match= proj_unique_cat_title>>filter(_.project_type=='Project', _.project_name_new2==\"\")"
   ]
  },
  {
   "cell_type": "code",
   "execution_count": 58,
   "id": "8610463a-a43d-470a-833b-84422cd13adf",
   "metadata": {},
   "outputs": [
    {
     "data": {
      "text/plain": [
       "Right of Way                                     10\n",
       "Other                                             6\n",
       "Safety and Education for Peds/Bicyclists          1\n",
       "Bridge Inspection and Bridge Related Training     1\n",
       "Landscaping and Other Scenic Beautification       1\n",
       "Name: improvement_type_description, dtype: int64"
      ]
     },
     "execution_count": 58,
     "metadata": {},
     "output_type": "execute_result"
    }
   ],
   "source": [
    "no_match.improvement_type_description.value_counts()"
   ]
  },
  {
   "cell_type": "code",
   "execution_count": null,
   "id": "d7026a26-c586-463b-a810-2b59cdc73703",
   "metadata": {},
   "outputs": [],
   "source": []
  },
  {
   "cell_type": "code",
   "execution_count": 57,
   "id": "dea177e7-6e3e-4ed7-ad20-37a35cc7a724",
   "metadata": {},
   "outputs": [
    {
     "data": {
      "text/html": [
       "<div>\n",
       "<style scoped>\n",
       "    .dataframe tbody tr th:only-of-type {\n",
       "        vertical-align: middle;\n",
       "    }\n",
       "\n",
       "    .dataframe tbody tr th {\n",
       "        vertical-align: top;\n",
       "    }\n",
       "\n",
       "    .dataframe thead th {\n",
       "        text-align: right;\n",
       "    }\n",
       "</style>\n",
       "<table border=\"1\" class=\"dataframe\">\n",
       "  <thead>\n",
       "    <tr style=\"text-align: right;\">\n",
       "      <th></th>\n",
       "      <th>fmis_transaction_date</th>\n",
       "      <th>program_code</th>\n",
       "      <th>project_number</th>\n",
       "      <th>recipient_project_number</th>\n",
       "      <th>project_title</th>\n",
       "      <th>implementing_agency</th>\n",
       "      <th>district</th>\n",
       "      <th>county_name</th>\n",
       "      <th>obligations_amount</th>\n",
       "      <th>program_code_description</th>\n",
       "      <th>county_code</th>\n",
       "      <th>congressional_district</th>\n",
       "      <th>improvement_type</th>\n",
       "      <th>improvement_type_description</th>\n",
       "      <th>summary_recipient_defined_text_field_1_value</th>\n",
       "      <th>implementing_agency_locode</th>\n",
       "      <th>rtpa_name</th>\n",
       "      <th>mpo_name</th>\n",
       "      <th>project_method</th>\n",
       "      <th>project_type</th>\n",
       "      <th>project_name_new</th>\n",
       "      <th>project_name_new2</th>\n",
       "    </tr>\n",
       "  </thead>\n",
       "  <tbody>\n",
       "    <tr>\n",
       "      <th>317</th>\n",
       "      <td>2022-07-18</td>\n",
       "      <td>Y233</td>\n",
       "      <td>5937207</td>\n",
       "      <td>0417000077L</td>\n",
       "      <td>ALDERCROFT HEIGHTS ROAD OVER LOS GATOS CREEK 2.38 MILES SOUTH OF LOS GATOS SC ROAD. BRIDGE 37C0508 REPLACE EXISTING ONE-LANE BRIDGE WITH A NEW 2-LANE</td>\n",
       "      <td>Santa Clara County</td>\n",
       "      <td>4.00</td>\n",
       "      <td>Santa Clara County</td>\n",
       "      <td>300,000.00</td>\n",
       "      <td>STBG IIJA OFF-SYSTEM BRIDGE</td>\n",
       "      <td>85.00</td>\n",
       "      <td>Cong Dist 18</td>\n",
       "      <td>16.00</td>\n",
       "      <td>Right of Way</td>\n",
       "      <td>L5937MTC</td>\n",
       "      <td>5,937.00</td>\n",
       "      <td>Metropolitan Transportation Commission</td>\n",
       "      <td>Metropolitan Transportation Commission</td>\n",
       "      <td>Replace</td>\n",
       "      <td>Project</td>\n",
       "      <td>Replace Project in Santa Clara County</td>\n",
       "      <td></td>\n",
       "    </tr>\n",
       "    <tr>\n",
       "      <th>284</th>\n",
       "      <td>2022-07-01</td>\n",
       "      <td>Y233</td>\n",
       "      <td>5946142</td>\n",
       "      <td>0614000082L</td>\n",
       "      <td>BRIDGE 46C0340 ON AVENUE 428 OVER SAND CREEK REPLACE 2 LANE BRIDGE WITH 2 LANE BRIDGE (TC)</td>\n",
       "      <td>Tulare County</td>\n",
       "      <td>6.00</td>\n",
       "      <td>Tulare County</td>\n",
       "      <td>5,206.00</td>\n",
       "      <td>STBG IIJA OFF-SYSTEM BRIDGE</td>\n",
       "      <td>107.00</td>\n",
       "      <td>Cong Dist 22</td>\n",
       "      <td>16.00</td>\n",
       "      <td>Right of Way</td>\n",
       "      <td>L5946TCAG</td>\n",
       "      <td>5,946.00</td>\n",
       "      <td>Tulare County Association of Governments</td>\n",
       "      <td>Tulare County Association Of Governments</td>\n",
       "      <td>Replace</td>\n",
       "      <td>Project</td>\n",
       "      <td>Replace Project in Tulare County</td>\n",
       "      <td></td>\n",
       "    </tr>\n",
       "    <tr>\n",
       "      <th>151</th>\n",
       "      <td>2022-05-09</td>\n",
       "      <td>Y001</td>\n",
       "      <td>P001676</td>\n",
       "      <td>0716000335S9</td>\n",
       "      <td>PROJECT ID 0716000335   (EA 07-4X970)  LA-001-42.5/42.5   (PPNO-5059)ROUTE 001: IN MALIBU, SOUTH OF BIG ROCK DRIVE. SHORELINE EMBANKMENT RESTORATION</td>\n",
       "      <td>California</td>\n",
       "      <td>7.00</td>\n",
       "      <td>Los Angeles County</td>\n",
       "      <td>500,000.00</td>\n",
       "      <td>NATIONAL HIGHWAY PERF IIJA</td>\n",
       "      <td>37.00</td>\n",
       "      <td>Cong Dist 33</td>\n",
       "      <td>16.00</td>\n",
       "      <td>Right of Way</td>\n",
       "      <td>S    SCAG</td>\n",
       "      <td>NaN</td>\n",
       "      <td>NaN</td>\n",
       "      <td>NaN</td>\n",
       "      <td></td>\n",
       "      <td>Project</td>\n",
       "      <td>Project in Los Angeles County</td>\n",
       "      <td></td>\n",
       "    </tr>\n",
       "  </tbody>\n",
       "</table>\n",
       "</div>"
      ],
      "text/plain": [
       "    fmis_transaction_date program_code project_number  \\\n",
       "317            2022-07-18         Y233        5937207   \n",
       "284            2022-07-01         Y233        5946142   \n",
       "151            2022-05-09         Y001        P001676   \n",
       "\n",
       "    recipient_project_number  \\\n",
       "317              0417000077L   \n",
       "284              0614000082L   \n",
       "151             0716000335S9   \n",
       "\n",
       "                                                                                                                                             project_title  \\\n",
       "317  ALDERCROFT HEIGHTS ROAD OVER LOS GATOS CREEK 2.38 MILES SOUTH OF LOS GATOS SC ROAD. BRIDGE 37C0508 REPLACE EXISTING ONE-LANE BRIDGE WITH A NEW 2-LANE   \n",
       "284                                                             BRIDGE 46C0340 ON AVENUE 428 OVER SAND CREEK REPLACE 2 LANE BRIDGE WITH 2 LANE BRIDGE (TC)   \n",
       "151   PROJECT ID 0716000335   (EA 07-4X970)  LA-001-42.5/42.5   (PPNO-5059)ROUTE 001: IN MALIBU, SOUTH OF BIG ROCK DRIVE. SHORELINE EMBANKMENT RESTORATION   \n",
       "\n",
       "    implementing_agency  district         county_name  obligations_amount  \\\n",
       "317  Santa Clara County      4.00  Santa Clara County          300,000.00   \n",
       "284       Tulare County      6.00       Tulare County            5,206.00   \n",
       "151          California      7.00  Los Angeles County          500,000.00   \n",
       "\n",
       "        program_code_description  county_code congressional_district  \\\n",
       "317  STBG IIJA OFF-SYSTEM BRIDGE        85.00           Cong Dist 18   \n",
       "284  STBG IIJA OFF-SYSTEM BRIDGE       107.00           Cong Dist 22   \n",
       "151   NATIONAL HIGHWAY PERF IIJA        37.00           Cong Dist 33   \n",
       "\n",
       "     improvement_type improvement_type_description  \\\n",
       "317             16.00                 Right of Way   \n",
       "284             16.00                 Right of Way   \n",
       "151             16.00                 Right of Way   \n",
       "\n",
       "    summary_recipient_defined_text_field_1_value  implementing_agency_locode  \\\n",
       "317                                     L5937MTC                    5,937.00   \n",
       "284                                    L5946TCAG                    5,946.00   \n",
       "151                                    S    SCAG                         NaN   \n",
       "\n",
       "                                    rtpa_name  \\\n",
       "317    Metropolitan Transportation Commission   \n",
       "284  Tulare County Association of Governments   \n",
       "151                                       NaN   \n",
       "\n",
       "                                     mpo_name project_method project_type  \\\n",
       "317    Metropolitan Transportation Commission        Replace      Project   \n",
       "284  Tulare County Association Of Governments        Replace      Project   \n",
       "151                                       NaN                     Project   \n",
       "\n",
       "                          project_name_new project_name_new2  \n",
       "317  Replace Project in Santa Clara County                    \n",
       "284       Replace Project in Tulare County                    \n",
       "151          Project in Los Angeles County                    "
      ]
     },
     "execution_count": 57,
     "metadata": {},
     "output_type": "execute_result"
    }
   ],
   "source": [
    "(no_match>>filter(_.improvement_type_description==\"Right of Way\")).sample(3)"
   ]
  },
  {
   "cell_type": "code",
   "execution_count": null,
   "id": "3b5439ea-a884-46d6-9c20-1254cfa69e98",
   "metadata": {},
   "outputs": [],
   "source": [
    "def update_no_matched(df, flag_col, desc_col, name_col):\n",
    "    \"\"\"\n",
    "    function to itreate over projects that did not match the first time\n",
    "    using an existing project's short description of project type. \n",
    "    \"\"\"\n",
    "    \n",
    "    def return_project_type(df):\n",
    "        \n",
    "        if (df[flag_col] == \"Project\") & (df[desc_col] == \"Bridge Rehabilitation\") | (df[desc_col] ==\"Bridge Rehabilitation - No Added Capacity\") | (df[desc_col] ==\"Bridge Rehabilitation - Added Capacity\"):\n",
    "            return (\"Bridge Rehabilitation in \" + df[name_col])\n",
    "        \n",
    "        elif (df[flag_col] == \"Project\") & (df[desc_col] == \"Facilities for Pedestrians and Bicycles\"):\n",
    "            return (df[desc_col] + \" in \" + df[name_col])\n",
    "        \n",
    "        elif (df[flag_col] == \"Project\") & (df[desc_col] == \"Safety\"):\n",
    "            return (df[desc_col] + \" Improvements in \" + df[name_col])\n",
    "        \n",
    "        # elif (df[flag_col] == \"Project\") & (df[flag_col] == \"Planning\") & (df[title_col].str.contains(\"REGION CONSOLIDATED PLANNING GRANT\")):\n",
    "        #     return (\"Regional Planning Grant in \" + df[name_col])\n",
    "            \n",
    "        elif (df[flag_col] == \"Project\") & (df[desc_col] == \"Planning \"):\n",
    "            return \"Project Planning in \" + df[name_col]\n",
    "            \n",
    "        elif (df[flag_col] == \"Project\") & (df[desc_col] == \"Preliminary Engineering\"):\n",
    "            return (df[desc_col] + \" Projects in \" + df[name_col])\n",
    "        \n",
    "        elif (df[flag_col] == \"Project\") & (df[desc_col] == \"Construction Engineering\"):\n",
    "            return (df[desc_col] + \" Projects in \" + df[name_col])\n",
    "        \n",
    "        elif (df[flag_col] == \"Project\") & (df[desc_col] == \"4R - Restoration & Rehabilitation\"):\n",
    "            return (\"Road Restoration & Rehabilitation in \" + df[name_col])\n",
    "        \n",
    "        elif (df[flag_col] == \"Project\") & (df[desc_col] == \"4R - Maintenance  Resurfacing\"):\n",
    "            return (\"Maintenance Resurfacing in \" + df[name_col])\n",
    "        \n",
    "        elif (df[flag_col] == \"Project\") & (df[desc_col] == \"Bridge Replacement - Added Capacity\") | (df[desc_col] == \"Bridge Replacement - No Added Capacity\") | (df[desc_col] == \"Bridge New Construction\") | (df[desc_col] == \"Special Bridge\"):\n",
    "            return (\"Bridge Replacement in \" + df[name_col])\n",
    "        \n",
    "        elif (df[flag_col] == \"Project\") & (df[desc_col] == \"Mitigation of Water Pollution due to Highway Runoff\"):\n",
    "            return (df[desc_col] + \" in \" + df[name_col])\n",
    "        \n",
    "        elif (df[flag_col] == \"Project\") & (df[desc_col] == \"4R - Added Capacity\"):\n",
    "            return (\"Added Roadway Capacity in \" + df[name_col])\n",
    "        \n",
    "        elif (df[flag_col] == \"Project\") & (df[desc_col] == \"4R - No Added Capacity\"):\n",
    "            return (\"Road Construction in \" + df[name_col])\n",
    "        \n",
    "        elif (df[flag_col] == \"Project\") & (df[desc_col] == \"New  Construction Roadway\"):\n",
    "            return (\"New Construction Roadway in \" + df[name_col])\n",
    "        \n",
    "        elif (df[flag_col] == \"Project\") & (df[desc_col] == \"Traffic Management/Engineering - HOV\"):\n",
    "            return (\"Traffic Management Project in \" + df[name_col])\n",
    "        \n",
    "        # elif (df[flag_col] == \"Project\") & (df[desc_col] != \"Other\") | (df[desc_col] != \"Right of Way\"):\n",
    "        #     return (df[desc_col] + \" in \" + df[name_col])\n",
    "        \n",
    "        else:\n",
    "            return \"\" #(df[desc_col] + \" in \" + df[name_col])\n",
    "\n",
    "        return df\n",
    "\n",
    "\n",
    "    df['project_name_new2'] = df.apply(return_project_type, axis = 1)\n",
    "    \n",
    "    #df.apply(func, axis=1)\n",
    "    \n",
    "    return df\n"
   ]
  },
  {
   "cell_type": "code",
   "execution_count": null,
   "id": "3a9f32dd-08b5-4075-a54e-215fa2096d05",
   "metadata": {},
   "outputs": [],
   "source": []
  },
  {
   "cell_type": "code",
   "execution_count": null,
   "id": "b3e2b973-6591-463a-a8ac-70f1554bc352",
   "metadata": {},
   "outputs": [],
   "source": []
  },
  {
   "cell_type": "code",
   "execution_count": null,
   "id": "22f6952e-6ba0-4bba-b9c6-289dcd363ba7",
   "metadata": {},
   "outputs": [],
   "source": []
  },
  {
   "cell_type": "code",
   "execution_count": null,
   "id": "0fa4712e-ae55-46f8-b355-d23e05d1ad28",
   "metadata": {},
   "outputs": [],
   "source": []
  },
  {
   "cell_type": "code",
   "execution_count": null,
   "id": "f2357e6f-7262-4ac2-af4a-84d6e41cc324",
   "metadata": {},
   "outputs": [],
   "source": []
  },
  {
   "cell_type": "code",
   "execution_count": null,
   "id": "6b50038c-159d-4227-aca4-76b2e5d1df32",
   "metadata": {},
   "outputs": [],
   "source": []
  },
  {
   "cell_type": "code",
   "execution_count": null,
   "id": "13c2fa89-a0b3-4a0e-96e3-3a32272402df",
   "metadata": {},
   "outputs": [],
   "source": []
  },
  {
   "cell_type": "code",
   "execution_count": null,
   "id": "39f79e9c-aebb-488e-8487-f02a3f8f2990",
   "metadata": {},
   "outputs": [],
   "source": []
  },
  {
   "cell_type": "code",
   "execution_count": null,
   "id": "db57b4b8-1546-44f2-b567-2a27243d77f0",
   "metadata": {},
   "outputs": [],
   "source": []
  },
  {
   "cell_type": "code",
   "execution_count": null,
   "id": "1951f498-31d3-4731-a878-10f2559ff624",
   "metadata": {},
   "outputs": [],
   "source": []
  },
  {
   "cell_type": "markdown",
   "id": "df6ec25d-0d94-4ebd-ade8-82a5d7f241f0",
   "metadata": {
    "tags": []
   },
   "source": [
    "### Try with one part of the project"
   ]
  },
  {
   "cell_type": "markdown",
   "id": "58f984e6-ae6e-4868-958a-838854ffebf2",
   "metadata": {},
   "source": [
    "- projects listed can have multiple entires bases on the phases they have. currently, if a project has multiple entries, the `improvement_type_description` has different description phrases, leading the title function to create a title that does not accuratley reflect the program\n",
    "- what we want to do is apply the function to one entry and the use that accross the multiple projects"
   ]
  },
  {
   "cell_type": "code",
   "execution_count": null,
   "id": "0d4b2a54-b37f-4b35-bfc0-be6018b0473a",
   "metadata": {},
   "outputs": [],
   "source": [
    "## How many projects have multiple funding componenets?\n",
    "## a sample of those under the no_match flag with at least two entires in system\n",
    "\n",
    "(no_match\n",
    " >>group_by(_.recipient_project_number, _.project_number, _.implementing_agency, _.project_title)\n",
    " >>summarize(n_descriptions = _.improvement_type_description.nunique())\n",
    " >>filter(_.n_descriptions>1)\n",
    " >>arrange(_.n_descriptions, _.n_descriptions)\n",
    ")"
   ]
  },
  {
   "cell_type": "markdown",
   "id": "dbafdd7b-b686-4e73-a040-707e68b2c31c",
   "metadata": {},
   "source": [
    "* of the 133 projects wiht unique project IDs, 60 have more than 1 entry\n",
    "* using all unique regardless of numbers "
   ]
  },
  {
   "cell_type": "code",
   "execution_count": null,
   "id": "07e63431-0b9d-4cd1-baa4-9ee6ca1708d6",
   "metadata": {},
   "outputs": [],
   "source": [
    "df_copy = (df>>filter(_.project_type==('Project')))"
   ]
  },
  {
   "cell_type": "code",
   "execution_count": null,
   "id": "31a02dfd-db04-48c0-984f-ac2b61716ca4",
   "metadata": {},
   "outputs": [],
   "source": [
    "len(df>>filter(_.project_type==('Project'))\n",
    " >>group_by(_.fmis_transaction_date, _.program_code, _.program_code_description, _.project_number,\n",
    "                                                   _.recipient_project_number, _.project_title, _.county_code, _.congressional_district,\n",
    "                                                   _.summary_recipient_defined_text_field_1_value, _.implementing_agency_locode,\n",
    "                                                   _.implementing_agency, _.district, _.county_name, _.rtpa_name, _.mpo_name)\n",
    " >>summarize(n_descriptions = _.improvement_type_description.nunique())>>filter(_.n_descriptions>1)>>arrange(_.n_descriptions, _.n_descriptions))"
   ]
  },
  {
   "cell_type": "code",
   "execution_count": null,
   "id": "766b754b-4e4f-4383-aa11-3cf93a360597",
   "metadata": {},
   "outputs": [],
   "source": [
    "len(df>>filter(_.project_type==('Project'))\n",
    " >>group_by(_.fmis_transaction_date, _.program_code, _.program_code_description, _.project_number,\n",
    "                                                   _.recipient_project_number, _.project_title, _.county_code, _.congressional_district,\n",
    "                                                   _.summary_recipient_defined_text_field_1_value, _.implementing_agency_locode,\n",
    "                                                   _.implementing_agency, _.district, _.county_name, _.rtpa_name, _.mpo_name)\n",
    " >>summarize(n_descriptions = _.improvement_type_description.nunique()))"
   ]
  },
  {
   "cell_type": "code",
   "execution_count": null,
   "id": "22b2da9f-eaba-4b0d-91bd-2cd752cbf16a",
   "metadata": {},
   "outputs": [],
   "source": [
    "proj_unique = (df>>filter(_.project_type==('Project'))\n",
    "#  >>group_by(_.fmis_transaction_date, _.program_code, _.program_code_description, _.project_number,\n",
    "#                                                    _.recipient_project_number, _.project_title, _.county_code, _.congressional_district,\n",
    "#                                                    _.summary_recipient_defined_text_field_1_value, _.implementing_agency_locode,\n",
    "#                                                    _.implementing_agency, _.district, _.county_name, _.rtpa_name, _.mpo_name)\n",
    "# >>arrange(_.project_number, _.obligations_amount)\n",
    "              )"
   ]
  },
  {
   "cell_type": "markdown",
   "id": "f1294221-aa8a-473b-8a40-39d7a7e29f14",
   "metadata": {
    "jp-MarkdownHeadingCollapsed": true,
    "tags": []
   },
   "source": [
    "#### Merge to get full details"
   ]
  },
  {
   "cell_type": "code",
   "execution_count": 40,
   "id": "6a0e99e5-8ce9-413d-ab0c-ebe058fa7665",
   "metadata": {},
   "outputs": [],
   "source": [
    "# proj_unique = (pd.merge(proj_unique, df_copy, how='left', on=merge_cols))"
   ]
  },
  {
   "cell_type": "code",
   "execution_count": 41,
   "id": "ee3dc712-c031-461b-acd3-f075074dce10",
   "metadata": {},
   "outputs": [],
   "source": [
    "# proj_unique.sample(4)"
   ]
  },
  {
   "cell_type": "markdown",
   "id": "2559597d-b965-4b82-a9a7-9b2cc715bbfa",
   "metadata": {
    "jp-MarkdownHeadingCollapsed": true,
    "tags": []
   },
   "source": [
    "#### run with update_no_matched function"
   ]
  },
  {
   "cell_type": "code",
   "execution_count": 34,
   "id": "66a80e10-ce53-4337-a44d-551e3543340b",
   "metadata": {},
   "outputs": [],
   "source": [
    "# proj_unique_new = utils.update_no_matched(proj_unique, 'project_type', 'improvement_type_description', 'implementing_agency')"
   ]
  },
  {
   "cell_type": "code",
   "execution_count": 35,
   "id": "98dcc4f1-f150-4d8f-b625-a27cf7375638",
   "metadata": {},
   "outputs": [],
   "source": [
    "# proj_unique_new.sample(5)"
   ]
  },
  {
   "cell_type": "code",
   "execution_count": 36,
   "id": "ec24ef76-385f-49db-9081-36bde3aa720d",
   "metadata": {},
   "outputs": [],
   "source": [
    "# len(proj_unique_new>>filter(_.project_name_new2==\"\"))"
   ]
  },
  {
   "cell_type": "code",
   "execution_count": 37,
   "id": "f17baf5b-5b91-4358-bfef-e9bf1f6f1da4",
   "metadata": {
    "scrolled": true,
    "tags": []
   },
   "outputs": [],
   "source": [
    "# (proj_unique_new>>filter(_.project_name_new2==\"\")>>select(_.project_number, _.recipient_project_number, _.project_title, _.improvement_type_description, _.implementing_agency, _.county_name,\n",
    "#                                                             _.project_method, _.project_type, _.project_name_new, _.project_name_new2))"
   ]
  },
  {
   "cell_type": "code",
   "execution_count": 38,
   "id": "3e37a0e5-c905-4306-812d-046b2b169e32",
   "metadata": {},
   "outputs": [],
   "source": [
    "# remaining = (proj_unique_new>>filter(_.project_name_new2=='')).improvement_type_description.value_counts()\n",
    "# remaining"
   ]
  },
  {
   "cell_type": "code",
   "execution_count": 39,
   "id": "c0246139-f9dd-4961-9f39-fa6cdcb11653",
   "metadata": {},
   "outputs": [],
   "source": [
    "# (proj_unique_new>>filter(_.improvement_type_description=='Other'))>>select(_.project_title, _.implementing_agency,\n",
    "#                                                                           _.project_method,_.project_type, _.project_name_new,_.project_name_new2)\n",
    "\n"
   ]
  },
  {
   "cell_type": "code",
   "execution_count": null,
   "id": "3cf04d5b-b8f1-4c67-86fb-f81912b054f1",
   "metadata": {},
   "outputs": [],
   "source": []
  },
  {
   "cell_type": "code",
   "execution_count": null,
   "id": "fa944448-b993-4ae1-a570-653c3f28c072",
   "metadata": {},
   "outputs": [],
   "source": []
  },
  {
   "cell_type": "code",
   "execution_count": null,
   "id": "c87099b0-5f96-4d49-9eb1-0685c92ef3d5",
   "metadata": {},
   "outputs": [],
   "source": []
  },
  {
   "cell_type": "code",
   "execution_count": null,
   "id": "3f794c88-abd3-4754-ae02-b199e8780c0a",
   "metadata": {},
   "outputs": [],
   "source": []
  },
  {
   "cell_type": "code",
   "execution_count": null,
   "id": "688992fd-afd5-48dc-bcba-65e20332ee3f",
   "metadata": {},
   "outputs": [],
   "source": []
  },
  {
   "cell_type": "code",
   "execution_count": null,
   "id": "67129bdb-4573-4158-bde9-4d24f897beb6",
   "metadata": {},
   "outputs": [],
   "source": []
  },
  {
   "cell_type": "code",
   "execution_count": null,
   "id": "e1c3c16e-9367-4d0e-9091-a1424bc59a12",
   "metadata": {},
   "outputs": [],
   "source": []
  },
  {
   "cell_type": "code",
   "execution_count": null,
   "id": "44e074a9-3cf1-4090-b5a4-f57f659d341a",
   "metadata": {},
   "outputs": [],
   "source": []
  },
  {
   "cell_type": "code",
   "execution_count": null,
   "id": "5c650244-cbc7-40c7-811e-0b0d3ab69c5a",
   "metadata": {},
   "outputs": [],
   "source": []
  },
  {
   "cell_type": "code",
   "execution_count": null,
   "id": "4e10467a-ea40-4576-a558-44c09e454012",
   "metadata": {},
   "outputs": [],
   "source": []
  },
  {
   "cell_type": "code",
   "execution_count": null,
   "id": "5fc1bc3a-de7d-41f6-b91f-544b8d6c2113",
   "metadata": {},
   "outputs": [],
   "source": []
  },
  {
   "cell_type": "code",
   "execution_count": null,
   "id": "c6a2c49a-b980-4659-8e19-ad312605e04f",
   "metadata": {},
   "outputs": [],
   "source": []
  },
  {
   "cell_type": "code",
   "execution_count": null,
   "id": "66186f34-e5f3-4067-8c6b-20e4ae6c4278",
   "metadata": {},
   "outputs": [],
   "source": []
  },
  {
   "cell_type": "code",
   "execution_count": null,
   "id": "de1ed847-3adb-4a22-8705-fb88d625c992",
   "metadata": {},
   "outputs": [],
   "source": []
  },
  {
   "cell_type": "code",
   "execution_count": null,
   "id": "8f9b9e13-aa53-475c-8e86-5691f29cbd32",
   "metadata": {},
   "outputs": [],
   "source": []
  },
  {
   "cell_type": "code",
   "execution_count": null,
   "id": "efdd1b49-83f2-4da7-8789-3c79de6838c0",
   "metadata": {},
   "outputs": [],
   "source": []
  },
  {
   "cell_type": "code",
   "execution_count": null,
   "id": "ca9abbf2-141e-43b3-8373-f69c5aa6ff66",
   "metadata": {},
   "outputs": [],
   "source": []
  },
  {
   "cell_type": "code",
   "execution_count": null,
   "id": "31d58f7c-20ba-437b-934c-b22bfec9ab37",
   "metadata": {},
   "outputs": [],
   "source": []
  },
  {
   "cell_type": "code",
   "execution_count": null,
   "id": "382f557a-8114-414e-be92-95c6e11a6e29",
   "metadata": {},
   "outputs": [],
   "source": []
  },
  {
   "cell_type": "code",
   "execution_count": null,
   "id": "0a58653a-bced-4c7f-b0b4-c0ecc02c46e9",
   "metadata": {},
   "outputs": [],
   "source": []
  },
  {
   "cell_type": "code",
   "execution_count": null,
   "id": "ecb28627-e8f5-41d2-a284-8ae110a21e6d",
   "metadata": {},
   "outputs": [],
   "source": []
  },
  {
   "cell_type": "code",
   "execution_count": null,
   "id": "5bdb48bc-6b9a-4703-9f59-0c51ba456a7c",
   "metadata": {},
   "outputs": [],
   "source": []
  },
  {
   "cell_type": "code",
   "execution_count": null,
   "id": "f9bcfd1a-8a37-421f-a0a7-d9a40bc993fb",
   "metadata": {},
   "outputs": [],
   "source": []
  },
  {
   "cell_type": "code",
   "execution_count": null,
   "id": "fd6e0985-6bb5-4577-8fcf-5aad393b2370",
   "metadata": {},
   "outputs": [],
   "source": []
  },
  {
   "cell_type": "code",
   "execution_count": null,
   "id": "6f43e64e-3532-49fb-b2bf-46b20d73fb13",
   "metadata": {},
   "outputs": [],
   "source": []
  },
  {
   "cell_type": "code",
   "execution_count": null,
   "id": "b2efaac4-9798-490a-a6dc-5b4c382cf797",
   "metadata": {},
   "outputs": [],
   "source": []
  },
  {
   "cell_type": "code",
   "execution_count": null,
   "id": "2e33bd53-b504-40e9-b2c4-f6dcd33ef67b",
   "metadata": {},
   "outputs": [],
   "source": []
  },
  {
   "cell_type": "code",
   "execution_count": null,
   "id": "17b6d5a6-a12f-43b9-8ad2-5aeee4de6492",
   "metadata": {},
   "outputs": [],
   "source": []
  },
  {
   "cell_type": "code",
   "execution_count": null,
   "id": "eea5d520-2f57-433d-9072-d6179301ff9e",
   "metadata": {},
   "outputs": [],
   "source": []
  },
  {
   "cell_type": "code",
   "execution_count": null,
   "id": "92833ad4-64a2-4dd7-9545-e5d112be2257",
   "metadata": {},
   "outputs": [],
   "source": []
  },
  {
   "cell_type": "markdown",
   "id": "06c562df-1c46-46a8-ae7c-ec8fca66765e",
   "metadata": {
    "jp-MarkdownHeadingCollapsed": true,
    "tags": []
   },
   "source": [
    "## Export progress"
   ]
  },
  {
   "cell_type": "code",
   "execution_count": null,
   "id": "e6a37a73-13a4-4268-a9c7-c63d5fd81986",
   "metadata": {},
   "outputs": [],
   "source": [
    "#test_df = utils.title_column_names(df)"
   ]
  },
  {
   "cell_type": "code",
   "execution_count": null,
   "id": "0d5c2dab-66fc-4c0e-b192-0c62c7221ceb",
   "metadata": {},
   "outputs": [],
   "source": [
    "#test_df.to_csv(f\"{GCS_FILE_PATH}/FMIS_projects_wip_all.csv\")"
   ]
  },
  {
   "cell_type": "code",
   "execution_count": null,
   "id": "e759cbe6-1806-4647-ab26-f788c1b3f6dc",
   "metadata": {},
   "outputs": [],
   "source": []
  }
 ],
 "metadata": {
  "kernelspec": {
   "display_name": "Python 3 (ipykernel)",
   "language": "python",
   "name": "python3"
  },
  "language_info": {
   "codemirror_mode": {
    "name": "ipython",
    "version": 3
   },
   "file_extension": ".py",
   "mimetype": "text/x-python",
   "name": "python",
   "nbconvert_exporter": "python",
   "pygments_lexer": "ipython3",
   "version": "3.10.6"
  },
  "widgets": {
   "application/vnd.jupyter.widget-state+json": {
    "state": {},
    "version_major": 2,
    "version_minor": 0
   }
  }
 },
 "nbformat": 4,
 "nbformat_minor": 5
}
