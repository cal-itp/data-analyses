{
 "cells": [
  {
   "cell_type": "markdown",
   "id": "3c31cd6d-91cd-4b4e-8fd0-9a6ed076e95b",
   "metadata": {},
   "source": [
    "# Run Functions to Add Information to Projects"
   ]
  },
  {
   "cell_type": "code",
   "execution_count": 1,
   "id": "4f7d6f92-bab6-4b65-a27f-0bf2ced226af",
   "metadata": {},
   "outputs": [],
   "source": [
    "# ! pip install nltk"
   ]
  },
  {
   "cell_type": "code",
   "execution_count": 2,
   "id": "427ef3d1-a937-483e-bcb5-68e377dd4f35",
   "metadata": {},
   "outputs": [
    {
     "name": "stderr",
     "output_type": "stream",
     "text": [
      "/opt/conda/lib/python3.9/site-packages/geopandas/_compat.py:123: UserWarning: The Shapely GEOS version (3.11.1-CAPI-1.17.1) is incompatible with the GEOS version PyGEOS was compiled with (3.10.1-CAPI-1.16.0). Conversions between both will be slow.\n",
      "  warnings.warn(\n",
      "/opt/conda/lib/python3.9/site-packages/dask_geopandas/backends.py:13: UserWarning: Shapely 2.0 is installed, but because PyGEOS is also installed, GeoPandas will still use PyGEOS by default for now. To force to use and test Shapely 2.0, you have to set the environment variable USE_PYGEOS=0. You can do this before starting the Python process, or in your code before importing geopandas:\n",
      "\n",
      "import os\n",
      "os.environ['USE_PYGEOS'] = '0'\n",
      "import geopandas\n",
      "\n",
      "In a future release, GeoPandas will switch to using Shapely by default. If you are using PyGEOS directly (calling PyGEOS functions on geometries from GeoPandas), this will then stop working and you are encouraged to migrate from PyGEOS to Shapely 2.0 (https://shapely.readthedocs.io/en/latest/migration_pygeos.html).\n",
      "  import geopandas\n"
     ]
    }
   ],
   "source": [
    "import numpy as np\n",
    "import pandas as pd\n",
    "from siuba import *\n",
    "\n",
    "from calitp_data_analysis.sql import to_snakecase\n",
    "\n",
    "from shared_utils import geography_utils\n",
    "\n",
    "import dla_utils\n",
    "\n",
    "import _script_utils\n",
    "import _data_utils"
   ]
  },
  {
   "cell_type": "code",
   "execution_count": 3,
   "id": "ce77f2af-baa1-4cc7-ad1a-64ec8d12e0e9",
   "metadata": {},
   "outputs": [],
   "source": [
    "pd.set_option(\"display.max_columns\", 100)\n",
    "pd.set_option('display.max_colwidth', None)"
   ]
  },
  {
   "cell_type": "markdown",
   "id": "899b931a-6a2c-479c-8db1-85f5e5e0eb27",
   "metadata": {
    "tags": []
   },
   "source": [
    "## Read in Data and function development"
   ]
  },
  {
   "cell_type": "code",
   "execution_count": 4,
   "id": "50c0f7c4-0c73-47d8-b56e-2ae9111e248f",
   "metadata": {},
   "outputs": [],
   "source": [
    "GCS_FILE_PATH  = 'gs://calitp-analytics-data/data-analyses/dla/dla-iija'"
   ]
  },
  {
   "cell_type": "code",
   "execution_count": 5,
   "id": "76dfb597-1b93-4c99-86f2-df613ed7cabb",
   "metadata": {
    "jupyter": {
     "source_hidden": true
    },
    "tags": []
   },
   "outputs": [],
   "source": [
    "### Read in data (First round)\n",
    "# proj = to_snakecase(pd.read_excel(f\"{GCS_FILE_PATH}/FMIS_Projects_Universe_(IIJA_Reporting)_ (3-9-23).xlsx\", header=[3], skiprows=range(4,1784)))\n",
    "# proj.drop(columns =['unnamed:_0'], axis=1, inplace=True)\n",
    "# proj['summary_recipient_defined_text_field_1_value'] = proj['summary_recipient_defined_text_field_1_value'].fillna(value='None')\n"
   ]
  },
  {
   "cell_type": "code",
   "execution_count": 6,
   "id": "b162a697-904a-4628-a335-d6f74beed233",
   "metadata": {},
   "outputs": [],
   "source": [
    "proj = to_snakecase(pd.read_excel(f\"{GCS_FILE_PATH}/IIJA_FMIS_AllProject_20230309_ToDLA.xlsx\",))\n"
   ]
  },
  {
   "cell_type": "code",
   "execution_count": 7,
   "id": "755c2f52-1bc6-4cae-9162-ae8b9d10d76a",
   "metadata": {},
   "outputs": [
    {
     "data": {
      "text/html": [
       "<div>\n",
       "<style scoped>\n",
       "    .dataframe tbody tr th:only-of-type {\n",
       "        vertical-align: middle;\n",
       "    }\n",
       "\n",
       "    .dataframe tbody tr th {\n",
       "        vertical-align: top;\n",
       "    }\n",
       "\n",
       "    .dataframe thead th {\n",
       "        text-align: right;\n",
       "    }\n",
       "</style>\n",
       "<table border=\"1\" class=\"dataframe\">\n",
       "  <thead>\n",
       "    <tr style=\"text-align: right;\">\n",
       "      <th></th>\n",
       "      <th>fmis_transaction_date</th>\n",
       "      <th>program_code</th>\n",
       "      <th>program_code_description</th>\n",
       "      <th>project_number</th>\n",
       "      <th>recipient_project_number</th>\n",
       "      <th>project_title</th>\n",
       "      <th>county_code</th>\n",
       "      <th>congressional_district</th>\n",
       "      <th>project_status_description</th>\n",
       "      <th>project_description</th>\n",
       "      <th>improvement_type</th>\n",
       "      <th>improvement_type_description</th>\n",
       "      <th>total_cost_amount</th>\n",
       "      <th>obligations_amount</th>\n",
       "      <th>summary_recipient_defined_text_field_1_value</th>\n",
       "    </tr>\n",
       "  </thead>\n",
       "  <tbody>\n",
       "    <tr>\n",
       "      <th>1059</th>\n",
       "      <td>44803</td>\n",
       "      <td>YS30</td>\n",
       "      <td>HIGHWAY SAFETY IMP PROG IIJA</td>\n",
       "      <td>P299211</td>\n",
       "      <td>0219000027S</td>\n",
       "      <td>IN SHASTA COUNTY NEAR INGOT FROM 2.7 MILES EAST OF SEAMANS GULCH ROAD TO 1.2 MILES WEST OF DU BOIS ROAD. CURVE IMPROVEMENT</td>\n",
       "      <td>89</td>\n",
       "      <td>Cong Dist 1</td>\n",
       "      <td>Active</td>\n",
       "      <td>ON STATE ROUTE: 299. IN SHASTA COUNTY NEAR INGOT FROM 2.7 MILES EAST OF SEAMANS GULCH ROAD TO 1.2 MILES WEST OF DU BOIS ROAD. CURVE IMPROVEMENT</td>\n",
       "      <td>42</td>\n",
       "      <td>Training</td>\n",
       "      <td>5900.0</td>\n",
       "      <td>5300.0</td>\n",
       "      <td>S    SHASTA</td>\n",
       "    </tr>\n",
       "  </tbody>\n",
       "</table>\n",
       "</div>"
      ],
      "text/plain": [
       "      fmis_transaction_date program_code      program_code_description  \\\n",
       "1059                  44803         YS30  HIGHWAY SAFETY IMP PROG IIJA   \n",
       "\n",
       "     project_number recipient_project_number  \\\n",
       "1059        P299211              0219000027S   \n",
       "\n",
       "                                                                                                                   project_title  \\\n",
       "1059  IN SHASTA COUNTY NEAR INGOT FROM 2.7 MILES EAST OF SEAMANS GULCH ROAD TO 1.2 MILES WEST OF DU BOIS ROAD. CURVE IMPROVEMENT   \n",
       "\n",
       "      county_code congressional_district project_status_description  \\\n",
       "1059           89            Cong Dist 1                     Active   \n",
       "\n",
       "                                                                                                                                  project_description  \\\n",
       "1059  ON STATE ROUTE: 299. IN SHASTA COUNTY NEAR INGOT FROM 2.7 MILES EAST OF SEAMANS GULCH ROAD TO 1.2 MILES WEST OF DU BOIS ROAD. CURVE IMPROVEMENT   \n",
       "\n",
       "      improvement_type improvement_type_description  total_cost_amount  \\\n",
       "1059                42                     Training             5900.0   \n",
       "\n",
       "      obligations_amount summary_recipient_defined_text_field_1_value  \n",
       "1059              5300.0                                  S    SHASTA  "
      ]
     },
     "execution_count": 7,
     "metadata": {},
     "output_type": "execute_result"
    }
   ],
   "source": [
    "proj.sample()"
   ]
  },
  {
   "cell_type": "code",
   "execution_count": 8,
   "id": "9db224c2-2428-47dc-b5e5-3dc995f07533",
   "metadata": {},
   "outputs": [],
   "source": [
    "# proj.congressional_district."
   ]
  },
  {
   "cell_type": "code",
   "execution_count": 9,
   "id": "19c74f67-6479-485e-b814-a8e0cc4b239f",
   "metadata": {},
   "outputs": [],
   "source": [
    "## move to _data_utils\n",
    "# def add_new_codes(df):\n",
    "#     new_codes = to_snakecase(pd.read_excel(f\"{GCS_FILE_PATH}/FY21-22ProgramCodesAsOf5-25-2022.v2.xlsx\"))\n",
    "#     code_map = dict(new_codes[['iija_program_code', 'new_description']].values)\n",
    "    \n",
    "#     df['program_code_description'] = df.program_code.map(code_map)\n",
    "#     proj['summary_recipient_defined_text_field_1_value'] = proj['summary_recipient_defined_text_field_1_value'].astype(str)\n",
    "    \n",
    "#     return df\n"
   ]
  },
  {
   "cell_type": "code",
   "execution_count": 10,
   "id": "283ad365-2a24-4ee6-b734-34cf44819b05",
   "metadata": {},
   "outputs": [],
   "source": [
    "proj2 = _data_utils.add_new_codes(proj)"
   ]
  },
  {
   "cell_type": "code",
   "execution_count": 11,
   "id": "88075960-a5f8-4214-abd3-5f626c12ef47",
   "metadata": {},
   "outputs": [],
   "source": [
    "\n",
    "# df = utils.read_data_all()\n",
    "    \n",
    "    ## function that adds known agency name to df \n",
    "df = _script_utils.identify_agency(proj2, 'summary_recipient_defined_text_field_1_value')"
   ]
  },
  {
   "cell_type": "code",
   "execution_count": 12,
   "id": "2680906d-2a02-4f51-bd13-1634e9c6346f",
   "metadata": {},
   "outputs": [
    {
     "data": {
      "text/html": [
       "<div>\n",
       "<style scoped>\n",
       "    .dataframe tbody tr th:only-of-type {\n",
       "        vertical-align: middle;\n",
       "    }\n",
       "\n",
       "    .dataframe tbody tr th {\n",
       "        vertical-align: top;\n",
       "    }\n",
       "\n",
       "    .dataframe thead th {\n",
       "        text-align: right;\n",
       "    }\n",
       "</style>\n",
       "<table border=\"1\" class=\"dataframe\">\n",
       "  <thead>\n",
       "    <tr style=\"text-align: right;\">\n",
       "      <th></th>\n",
       "      <th>fmis_transaction_date</th>\n",
       "      <th>program_code</th>\n",
       "      <th>program_code_description</th>\n",
       "      <th>project_number</th>\n",
       "      <th>recipient_project_number</th>\n",
       "      <th>project_title</th>\n",
       "      <th>county_code</th>\n",
       "      <th>congressional_district</th>\n",
       "      <th>project_status_description</th>\n",
       "      <th>project_description</th>\n",
       "      <th>improvement_type</th>\n",
       "      <th>improvement_type_description</th>\n",
       "      <th>total_cost_amount</th>\n",
       "      <th>obligations_amount</th>\n",
       "      <th>summary_recipient_defined_text_field_1_value</th>\n",
       "      <th>implementing_agency_locode</th>\n",
       "      <th>implementing_agency</th>\n",
       "      <th>district</th>\n",
       "      <th>county_name</th>\n",
       "      <th>rtpa_name</th>\n",
       "      <th>mpo_name</th>\n",
       "    </tr>\n",
       "  </thead>\n",
       "  <tbody>\n",
       "    <tr>\n",
       "      <th>416</th>\n",
       "      <td>44756</td>\n",
       "      <td>YS30</td>\n",
       "      <td>Highway Safety Improvement Program (HSIP)</td>\n",
       "      <td>5276033</td>\n",
       "      <td>0721000114L</td>\n",
       "      <td>CITY OF GARDENA, VERMONT AVENUE JUST NORTH OF 133RD STREET. INSTALL A PEDESTRIAN CROSSWALK WITH A PEDESTRIAN HYBRID BEACON (PHB) OR HIGH-INTENSITY AC</td>\n",
       "      <td>37</td>\n",
       "      <td>Cong Dist 43</td>\n",
       "      <td>Active</td>\n",
       "      <td>CITY OF GARDENA, VERMONT AVENUE JUST NORTH OF 133RD STREET. INSTALL A PEDESTRIAN CROSSWALK WITH A PEDESTRIAN HYBRID BEACON (PHB) OR HIGH-INTENSITY ACTIVATED CROSSWALK BEACON (HAWK) CROSSING SYSTEM.</td>\n",
       "      <td>17</td>\n",
       "      <td>Construction Engineering</td>\n",
       "      <td>30000.0</td>\n",
       "      <td>5000.0</td>\n",
       "      <td>L5276SCAG</td>\n",
       "      <td>5276.0</td>\n",
       "      <td>Gardena</td>\n",
       "      <td>7.0</td>\n",
       "      <td>Los Angeles County</td>\n",
       "      <td>Los Angeles County Metropolitan Transportation Auth.</td>\n",
       "      <td>Southern California Association Of Governments</td>\n",
       "    </tr>\n",
       "    <tr>\n",
       "      <th>510</th>\n",
       "      <td>44691</td>\n",
       "      <td>Y001</td>\n",
       "      <td>National Highway Performance Program (NHPP)</td>\n",
       "      <td>X073148</td>\n",
       "      <td>1112000155S</td>\n",
       "      <td>IN SAN DIEGO COUNTY AT VARIOUS LOCATIONS. CONSTRUCT MAINTENANCE VEHICLE PULLOUTS(MVPS), PAVE SLOPES UNDER BRIDGE STRUCTURES, NARROW AREAS AND BEYOND</td>\n",
       "      <td>73</td>\n",
       "      <td>Cong Dist 52</td>\n",
       "      <td>Active</td>\n",
       "      <td>ON STATE ROUTE: 52. IN SAN DIEGO COUNTY AT VARIOUS LOCATIONS. CONSTRUCT MAINTENANCE VEHICLE PULLOUTS(MVPS), PAVE SLOPES UNDER BRIDGE STRUCTURES, NARROW AREAS AND BEYOND GORES. PROJECT LOCATIONS AT SR-52 PM 0.4/5.5 AND I-805 PM 23.5/24.4</td>\n",
       "      <td>42</td>\n",
       "      <td>Training</td>\n",
       "      <td>900.0</td>\n",
       "      <td>700.0</td>\n",
       "      <td>S    SANDAG</td>\n",
       "      <td>NaN</td>\n",
       "      <td>California</td>\n",
       "      <td>11.0</td>\n",
       "      <td>San Diego County</td>\n",
       "      <td>NaN</td>\n",
       "      <td>NaN</td>\n",
       "    </tr>\n",
       "    <tr>\n",
       "      <th>537</th>\n",
       "      <td>44790</td>\n",
       "      <td>Y400</td>\n",
       "      <td>Congestion Mitigation &amp; Air Quality Improvement (CMAQ)</td>\n",
       "      <td>5301024</td>\n",
       "      <td>0621000089L</td>\n",
       "      <td>FOUR ALLEYS NORTH OF PARK BLVD. BETWEEN 8TH ST. AND CENTER ST., BETWEEN 6TH ST. AND 5TH ST., BETWEEN 5TH ST. AND 4TH ST., AND BETWEEN 4TH ST. AND 3RD</td>\n",
       "      <td>19</td>\n",
       "      <td>Cong Dist 22</td>\n",
       "      <td>Active</td>\n",
       "      <td>FOUR ALLEYS NORTH OF PARK BLVD. BETWEEN 8TH ST. AND CENTER ST., BETWEEN 6TH ST. AND 5TH ST., BETWEEN 5TH ST. AND 4TH ST., AND BETWEEN 4TH ST. AND 3RD ST. PAVE UNPAVED DIRT ALLEY WAYS</td>\n",
       "      <td>17</td>\n",
       "      <td>Construction Engineering</td>\n",
       "      <td>108690.0</td>\n",
       "      <td>96223.2</td>\n",
       "      <td>L5301COFCG</td>\n",
       "      <td>5301.0</td>\n",
       "      <td>Orange Cove</td>\n",
       "      <td>6.0</td>\n",
       "      <td>Fresno County</td>\n",
       "      <td>Council of Fresno County Governments</td>\n",
       "      <td>Council Of Fresno County Goverments</td>\n",
       "    </tr>\n",
       "  </tbody>\n",
       "</table>\n",
       "</div>"
      ],
      "text/plain": [
       "     fmis_transaction_date program_code  \\\n",
       "416                  44756         YS30   \n",
       "510                  44691         Y001   \n",
       "537                  44790         Y400   \n",
       "\n",
       "                                   program_code_description project_number  \\\n",
       "416               Highway Safety Improvement Program (HSIP)        5276033   \n",
       "510             National Highway Performance Program (NHPP)        X073148   \n",
       "537  Congestion Mitigation & Air Quality Improvement (CMAQ)        5301024   \n",
       "\n",
       "    recipient_project_number  \\\n",
       "416              0721000114L   \n",
       "510              1112000155S   \n",
       "537              0621000089L   \n",
       "\n",
       "                                                                                                                                             project_title  \\\n",
       "416  CITY OF GARDENA, VERMONT AVENUE JUST NORTH OF 133RD STREET. INSTALL A PEDESTRIAN CROSSWALK WITH A PEDESTRIAN HYBRID BEACON (PHB) OR HIGH-INTENSITY AC   \n",
       "510   IN SAN DIEGO COUNTY AT VARIOUS LOCATIONS. CONSTRUCT MAINTENANCE VEHICLE PULLOUTS(MVPS), PAVE SLOPES UNDER BRIDGE STRUCTURES, NARROW AREAS AND BEYOND   \n",
       "537  FOUR ALLEYS NORTH OF PARK BLVD. BETWEEN 8TH ST. AND CENTER ST., BETWEEN 6TH ST. AND 5TH ST., BETWEEN 5TH ST. AND 4TH ST., AND BETWEEN 4TH ST. AND 3RD   \n",
       "\n",
       "     county_code congressional_district project_status_description  \\\n",
       "416           37           Cong Dist 43                     Active   \n",
       "510           73           Cong Dist 52                     Active   \n",
       "537           19           Cong Dist 22                     Active   \n",
       "\n",
       "                                                                                                                                                                                                                              project_description  \\\n",
       "416                                         CITY OF GARDENA, VERMONT AVENUE JUST NORTH OF 133RD STREET. INSTALL A PEDESTRIAN CROSSWALK WITH A PEDESTRIAN HYBRID BEACON (PHB) OR HIGH-INTENSITY ACTIVATED CROSSWALK BEACON (HAWK) CROSSING SYSTEM.   \n",
       "510  ON STATE ROUTE: 52. IN SAN DIEGO COUNTY AT VARIOUS LOCATIONS. CONSTRUCT MAINTENANCE VEHICLE PULLOUTS(MVPS), PAVE SLOPES UNDER BRIDGE STRUCTURES, NARROW AREAS AND BEYOND GORES. PROJECT LOCATIONS AT SR-52 PM 0.4/5.5 AND I-805 PM 23.5/24.4   \n",
       "537                                                        FOUR ALLEYS NORTH OF PARK BLVD. BETWEEN 8TH ST. AND CENTER ST., BETWEEN 6TH ST. AND 5TH ST., BETWEEN 5TH ST. AND 4TH ST., AND BETWEEN 4TH ST. AND 3RD ST. PAVE UNPAVED DIRT ALLEY WAYS   \n",
       "\n",
       "     improvement_type improvement_type_description  total_cost_amount  \\\n",
       "416                17     Construction Engineering            30000.0   \n",
       "510                42                     Training              900.0   \n",
       "537                17     Construction Engineering           108690.0   \n",
       "\n",
       "     obligations_amount summary_recipient_defined_text_field_1_value  \\\n",
       "416              5000.0                                    L5276SCAG   \n",
       "510               700.0                                  S    SANDAG   \n",
       "537             96223.2                                   L5301COFCG   \n",
       "\n",
       "     implementing_agency_locode implementing_agency  district  \\\n",
       "416                      5276.0             Gardena       7.0   \n",
       "510                         NaN          California      11.0   \n",
       "537                      5301.0         Orange Cove       6.0   \n",
       "\n",
       "            county_name                                             rtpa_name  \\\n",
       "416  Los Angeles County  Los Angeles County Metropolitan Transportation Auth.   \n",
       "510    San Diego County                                                   NaN   \n",
       "537       Fresno County                  Council of Fresno County Governments   \n",
       "\n",
       "                                           mpo_name  \n",
       "416  Southern California Association Of Governments  \n",
       "510                                             NaN  \n",
       "537             Council Of Fresno County Goverments  "
      ]
     },
     "execution_count": 12,
     "metadata": {},
     "output_type": "execute_result"
    }
   ],
   "source": [
    "df.sample(3)"
   ]
  },
  {
   "cell_type": "markdown",
   "id": "88a22851-1e1a-43e7-b8f4-c422b5f3b26b",
   "metadata": {
    "jp-MarkdownHeadingCollapsed": true,
    "tags": []
   },
   "source": [
    "##### Check unknowns"
   ]
  },
  {
   "cell_type": "code",
   "execution_count": 13,
   "id": "84edc64a-a9c4-4270-9b4b-e57347bbec68",
   "metadata": {},
   "outputs": [
    {
     "data": {
      "text/plain": [
       "1"
      ]
     },
     "execution_count": 13,
     "metadata": {},
     "output_type": "execute_result"
    }
   ],
   "source": [
    "len(df>>filter(_.implementing_agency=='Unknown'))"
   ]
  },
  {
   "cell_type": "code",
   "execution_count": 14,
   "id": "b170cb24-ab29-4340-8e46-f8219f7e55b7",
   "metadata": {},
   "outputs": [
    {
     "data": {
      "text/plain": [
       "1"
      ]
     },
     "execution_count": 14,
     "metadata": {},
     "output_type": "execute_result"
    }
   ],
   "source": [
    "len(df>>filter(_.county_name=='Unknown'))"
   ]
  },
  {
   "cell_type": "code",
   "execution_count": 15,
   "id": "eb23236c-bc32-40ba-bcb6-334cbe193128",
   "metadata": {},
   "outputs": [
    {
     "data": {
      "text/html": [
       "<div>\n",
       "<style scoped>\n",
       "    .dataframe tbody tr th:only-of-type {\n",
       "        vertical-align: middle;\n",
       "    }\n",
       "\n",
       "    .dataframe tbody tr th {\n",
       "        vertical-align: top;\n",
       "    }\n",
       "\n",
       "    .dataframe thead th {\n",
       "        text-align: right;\n",
       "    }\n",
       "</style>\n",
       "<table border=\"1\" class=\"dataframe\">\n",
       "  <thead>\n",
       "    <tr style=\"text-align: right;\">\n",
       "      <th></th>\n",
       "      <th>fmis_transaction_date</th>\n",
       "      <th>program_code</th>\n",
       "      <th>program_code_description</th>\n",
       "      <th>project_number</th>\n",
       "      <th>recipient_project_number</th>\n",
       "      <th>project_title</th>\n",
       "      <th>county_code</th>\n",
       "      <th>congressional_district</th>\n",
       "      <th>project_status_description</th>\n",
       "      <th>project_description</th>\n",
       "      <th>improvement_type</th>\n",
       "      <th>improvement_type_description</th>\n",
       "      <th>total_cost_amount</th>\n",
       "      <th>obligations_amount</th>\n",
       "      <th>summary_recipient_defined_text_field_1_value</th>\n",
       "      <th>implementing_agency_locode</th>\n",
       "      <th>implementing_agency</th>\n",
       "      <th>district</th>\n",
       "      <th>county_name</th>\n",
       "      <th>rtpa_name</th>\n",
       "      <th>mpo_name</th>\n",
       "    </tr>\n",
       "  </thead>\n",
       "  <tbody>\n",
       "    <tr>\n",
       "      <th>706</th>\n",
       "      <td>44827</td>\n",
       "      <td>YR10</td>\n",
       "      <td>State RTP Administration</td>\n",
       "      <td>2023000</td>\n",
       "      <td>NaN</td>\n",
       "      <td>2023 Rec Trails Project: State Parks Incurred Administrative Expenses</td>\n",
       "      <td>999</td>\n",
       "      <td>Cong Dist 0</td>\n",
       "      <td>Active</td>\n",
       "      <td>2023 Rec Trails Project: State Parks Incurred Administrative Expenses. State costs incurred administering the RTP such as staff time, meeting and travel costs and attendance at trail-related training sessions and conferences, Trail Advisory committee costs including meeting and travel costs for committee members, trail conference support, etc.</td>\n",
       "      <td>44</td>\n",
       "      <td>Other</td>\n",
       "      <td>274727.3</td>\n",
       "      <td>241760.0</td>\n",
       "      <td>nan</td>\n",
       "      <td>NaN</td>\n",
       "      <td>Unknown</td>\n",
       "      <td>NaN</td>\n",
       "      <td>Unknown</td>\n",
       "      <td>NaN</td>\n",
       "      <td>NaN</td>\n",
       "    </tr>\n",
       "  </tbody>\n",
       "</table>\n",
       "</div>"
      ],
      "text/plain": [
       "     fmis_transaction_date program_code  program_code_description  \\\n",
       "706                  44827         YR10  State RTP Administration   \n",
       "\n",
       "    project_number recipient_project_number  \\\n",
       "706        2023000                      NaN   \n",
       "\n",
       "                                                             project_title  \\\n",
       "706  2023 Rec Trails Project: State Parks Incurred Administrative Expenses   \n",
       "\n",
       "     county_code congressional_district project_status_description  \\\n",
       "706          999            Cong Dist 0                     Active   \n",
       "\n",
       "                                                                                                                                                                                                                                                                                                                                           project_description  \\\n",
       "706  2023 Rec Trails Project: State Parks Incurred Administrative Expenses. State costs incurred administering the RTP such as staff time, meeting and travel costs and attendance at trail-related training sessions and conferences, Trail Advisory committee costs including meeting and travel costs for committee members, trail conference support, etc.   \n",
       "\n",
       "     improvement_type improvement_type_description  total_cost_amount  \\\n",
       "706                44                        Other           274727.3   \n",
       "\n",
       "     obligations_amount summary_recipient_defined_text_field_1_value  \\\n",
       "706            241760.0                                          nan   \n",
       "\n",
       "     implementing_agency_locode implementing_agency  district county_name  \\\n",
       "706                         NaN             Unknown       NaN     Unknown   \n",
       "\n",
       "    rtpa_name mpo_name  \n",
       "706       NaN      NaN  "
      ]
     },
     "execution_count": 15,
     "metadata": {},
     "output_type": "execute_result"
    }
   ],
   "source": [
    "df>>filter(_.implementing_agency==\"Unknown\")"
   ]
  },
  {
   "cell_type": "code",
   "execution_count": 16,
   "id": "eb442f9e-1fbb-40a3-b918-f2184abea5b0",
   "metadata": {
    "tags": []
   },
   "outputs": [
    {
     "data": {
      "text/html": [
       "<div>\n",
       "<style scoped>\n",
       "    .dataframe tbody tr th:only-of-type {\n",
       "        vertical-align: middle;\n",
       "    }\n",
       "\n",
       "    .dataframe tbody tr th {\n",
       "        vertical-align: top;\n",
       "    }\n",
       "\n",
       "    .dataframe thead th {\n",
       "        text-align: right;\n",
       "    }\n",
       "</style>\n",
       "<table border=\"1\" class=\"dataframe\">\n",
       "  <thead>\n",
       "    <tr style=\"text-align: right;\">\n",
       "      <th></th>\n",
       "      <th>fmis_transaction_date</th>\n",
       "      <th>program_code</th>\n",
       "      <th>program_code_description</th>\n",
       "      <th>project_number</th>\n",
       "      <th>recipient_project_number</th>\n",
       "      <th>project_title</th>\n",
       "      <th>county_code</th>\n",
       "      <th>congressional_district</th>\n",
       "      <th>project_status_description</th>\n",
       "      <th>project_description</th>\n",
       "      <th>improvement_type</th>\n",
       "      <th>improvement_type_description</th>\n",
       "      <th>total_cost_amount</th>\n",
       "      <th>obligations_amount</th>\n",
       "      <th>summary_recipient_defined_text_field_1_value</th>\n",
       "      <th>implementing_agency_locode</th>\n",
       "      <th>implementing_agency</th>\n",
       "      <th>district</th>\n",
       "      <th>county_name</th>\n",
       "      <th>rtpa_name</th>\n",
       "      <th>mpo_name</th>\n",
       "    </tr>\n",
       "  </thead>\n",
       "  <tbody>\n",
       "    <tr>\n",
       "      <th>706</th>\n",
       "      <td>44827</td>\n",
       "      <td>YR10</td>\n",
       "      <td>State RTP Administration</td>\n",
       "      <td>2023000</td>\n",
       "      <td>NaN</td>\n",
       "      <td>2023 Rec Trails Project: State Parks Incurred Administrative Expenses</td>\n",
       "      <td>999</td>\n",
       "      <td>Cong Dist 0</td>\n",
       "      <td>Active</td>\n",
       "      <td>2023 Rec Trails Project: State Parks Incurred Administrative Expenses. State costs incurred administering the RTP such as staff time, meeting and travel costs and attendance at trail-related training sessions and conferences, Trail Advisory committee costs including meeting and travel costs for committee members, trail conference support, etc.</td>\n",
       "      <td>44</td>\n",
       "      <td>Other</td>\n",
       "      <td>274727.3</td>\n",
       "      <td>241760.0</td>\n",
       "      <td>nan</td>\n",
       "      <td>NaN</td>\n",
       "      <td>Unknown</td>\n",
       "      <td>NaN</td>\n",
       "      <td>Unknown</td>\n",
       "      <td>NaN</td>\n",
       "      <td>NaN</td>\n",
       "    </tr>\n",
       "  </tbody>\n",
       "</table>\n",
       "</div>"
      ],
      "text/plain": [
       "     fmis_transaction_date program_code  program_code_description  \\\n",
       "706                  44827         YR10  State RTP Administration   \n",
       "\n",
       "    project_number recipient_project_number  \\\n",
       "706        2023000                      NaN   \n",
       "\n",
       "                                                             project_title  \\\n",
       "706  2023 Rec Trails Project: State Parks Incurred Administrative Expenses   \n",
       "\n",
       "     county_code congressional_district project_status_description  \\\n",
       "706          999            Cong Dist 0                     Active   \n",
       "\n",
       "                                                                                                                                                                                                                                                                                                                                           project_description  \\\n",
       "706  2023 Rec Trails Project: State Parks Incurred Administrative Expenses. State costs incurred administering the RTP such as staff time, meeting and travel costs and attendance at trail-related training sessions and conferences, Trail Advisory committee costs including meeting and travel costs for committee members, trail conference support, etc.   \n",
       "\n",
       "     improvement_type improvement_type_description  total_cost_amount  \\\n",
       "706                44                        Other           274727.3   \n",
       "\n",
       "     obligations_amount summary_recipient_defined_text_field_1_value  \\\n",
       "706            241760.0                                          nan   \n",
       "\n",
       "     implementing_agency_locode implementing_agency  district county_name  \\\n",
       "706                         NaN             Unknown       NaN     Unknown   \n",
       "\n",
       "    rtpa_name mpo_name  \n",
       "706       NaN      NaN  "
      ]
     },
     "execution_count": 16,
     "metadata": {},
     "output_type": "execute_result"
    }
   ],
   "source": [
    "df>>filter(_.project_title.str.contains(\"Administrative Expense\"))"
   ]
  },
  {
   "cell_type": "code",
   "execution_count": null,
   "id": "7a621e03-ac35-46ec-b020-3f7b5f6d30da",
   "metadata": {},
   "outputs": [],
   "source": []
  },
  {
   "cell_type": "markdown",
   "id": "9ccfa4dd-f94d-4449-bf98-86edbc0846cf",
   "metadata": {},
   "source": [
    "#### Reformat Columns"
   ]
  },
  {
   "cell_type": "markdown",
   "id": "497ba69d-a083-4b7a-9513-ab3dcb61b810",
   "metadata": {},
   "source": [
    "To change: \n",
    "* ~~District: 2 digit / integer~~\n",
    "* ~~Congressional District number~~\n",
    "* Add Progam Code Description and amount to a new project description"
   ]
  },
  {
   "cell_type": "code",
   "execution_count": 17,
   "id": "0df07612-cddc-4f8b-b313-10e4cf085969",
   "metadata": {},
   "outputs": [],
   "source": [
    "df = _data_utils.change_col_to_integer(df, \"congressional_district\")"
   ]
  },
  {
   "cell_type": "code",
   "execution_count": 18,
   "id": "5678fe12-8fc0-4004-bdd2-f7b977225015",
   "metadata": {},
   "outputs": [
    {
     "data": {
      "text/html": [
       "<div>\n",
       "<style scoped>\n",
       "    .dataframe tbody tr th:only-of-type {\n",
       "        vertical-align: middle;\n",
       "    }\n",
       "\n",
       "    .dataframe tbody tr th {\n",
       "        vertical-align: top;\n",
       "    }\n",
       "\n",
       "    .dataframe thead th {\n",
       "        text-align: right;\n",
       "    }\n",
       "</style>\n",
       "<table border=\"1\" class=\"dataframe\">\n",
       "  <thead>\n",
       "    <tr style=\"text-align: right;\">\n",
       "      <th></th>\n",
       "      <th>fmis_transaction_date</th>\n",
       "      <th>program_code</th>\n",
       "      <th>program_code_description</th>\n",
       "      <th>project_number</th>\n",
       "      <th>recipient_project_number</th>\n",
       "      <th>project_title</th>\n",
       "      <th>county_code</th>\n",
       "      <th>congressional_district</th>\n",
       "      <th>project_status_description</th>\n",
       "      <th>project_description</th>\n",
       "      <th>improvement_type</th>\n",
       "      <th>improvement_type_description</th>\n",
       "      <th>total_cost_amount</th>\n",
       "      <th>obligations_amount</th>\n",
       "      <th>summary_recipient_defined_text_field_1_value</th>\n",
       "      <th>implementing_agency_locode</th>\n",
       "      <th>implementing_agency</th>\n",
       "      <th>district</th>\n",
       "      <th>county_name</th>\n",
       "      <th>rtpa_name</th>\n",
       "      <th>mpo_name</th>\n",
       "    </tr>\n",
       "  </thead>\n",
       "  <tbody>\n",
       "    <tr>\n",
       "      <th>146</th>\n",
       "      <td>44627</td>\n",
       "      <td>Y001</td>\n",
       "      <td>National Highway Performance Program (NHPP)</td>\n",
       "      <td>5906119</td>\n",
       "      <td>0214000079L</td>\n",
       "      <td>GAS POINT ROAD BRIDGE (06C-0183) OVER  NO NAME DITCH, 1.9 MILES WEST OF I-5. BR.# 06C0183 BRIDGE REPLACEMENT</td>\n",
       "      <td>89</td>\n",
       "      <td>1</td>\n",
       "      <td>Active</td>\n",
       "      <td>GAS POINT ROAD BRIDGE (06C-0183) OVER  NO NAME DITCH, 1.9 MILES WEST OF I-5. BR.# 06C0183 BRIDGE REPLACEMENT</td>\n",
       "      <td>17</td>\n",
       "      <td>Construction Engineering</td>\n",
       "      <td>170756.29</td>\n",
       "      <td>105984.0</td>\n",
       "      <td>L5906SHASTA</td>\n",
       "      <td>5906.0</td>\n",
       "      <td>Shasta County</td>\n",
       "      <td>2.0</td>\n",
       "      <td>Shasta County</td>\n",
       "      <td>Shasta County Regional Transportation Planning Agency</td>\n",
       "      <td>Shasta County Regional Transportation Planning Age</td>\n",
       "    </tr>\n",
       "  </tbody>\n",
       "</table>\n",
       "</div>"
      ],
      "text/plain": [
       "     fmis_transaction_date program_code  \\\n",
       "146                  44627         Y001   \n",
       "\n",
       "                        program_code_description project_number  \\\n",
       "146  National Highway Performance Program (NHPP)        5906119   \n",
       "\n",
       "    recipient_project_number  \\\n",
       "146              0214000079L   \n",
       "\n",
       "                                                                                                    project_title  \\\n",
       "146  GAS POINT ROAD BRIDGE (06C-0183) OVER  NO NAME DITCH, 1.9 MILES WEST OF I-5. BR.# 06C0183 BRIDGE REPLACEMENT   \n",
       "\n",
       "     county_code congressional_district project_status_description  \\\n",
       "146           89                      1                     Active   \n",
       "\n",
       "                                                                                              project_description  \\\n",
       "146  GAS POINT ROAD BRIDGE (06C-0183) OVER  NO NAME DITCH, 1.9 MILES WEST OF I-5. BR.# 06C0183 BRIDGE REPLACEMENT   \n",
       "\n",
       "     improvement_type improvement_type_description  total_cost_amount  \\\n",
       "146                17     Construction Engineering          170756.29   \n",
       "\n",
       "     obligations_amount summary_recipient_defined_text_field_1_value  \\\n",
       "146            105984.0                                  L5906SHASTA   \n",
       "\n",
       "     implementing_agency_locode implementing_agency  district    county_name  \\\n",
       "146                      5906.0       Shasta County       2.0  Shasta County   \n",
       "\n",
       "                                                 rtpa_name  \\\n",
       "146  Shasta County Regional Transportation Planning Agency   \n",
       "\n",
       "                                               mpo_name  \n",
       "146  Shasta County Regional Transportation Planning Age  "
      ]
     },
     "execution_count": 18,
     "metadata": {},
     "output_type": "execute_result"
    }
   ],
   "source": [
    "df.sample()"
   ]
  },
  {
   "cell_type": "code",
   "execution_count": 19,
   "id": "3da5a55e-251b-4d06-9b2b-cde6fc70b69d",
   "metadata": {},
   "outputs": [],
   "source": [
    "## move to _data_utils\n",
    "# def change_col_to_integer(df, col):\n",
    "    \n",
    "#     df[col] = df[col].str.split(' ').str[-1]\n",
    "    \n",
    "#     return df"
   ]
  },
  {
   "cell_type": "code",
   "execution_count": 20,
   "id": "9253d734-a6ce-41b4-a53c-dababbda9ac0",
   "metadata": {},
   "outputs": [],
   "source": [
    "\n",
    "# (df>>select(_.congressional_district, _.congressional_district_2)).sample(20)"
   ]
  },
  {
   "cell_type": "code",
   "execution_count": 21,
   "id": "3af96c89-6d37-408f-aa5a-c3f6fef8558e",
   "metadata": {},
   "outputs": [
    {
     "data": {
      "text/html": [
       "<div>\n",
       "<style scoped>\n",
       "    .dataframe tbody tr th:only-of-type {\n",
       "        vertical-align: middle;\n",
       "    }\n",
       "\n",
       "    .dataframe tbody tr th {\n",
       "        vertical-align: top;\n",
       "    }\n",
       "\n",
       "    .dataframe thead th {\n",
       "        text-align: right;\n",
       "    }\n",
       "</style>\n",
       "<table border=\"1\" class=\"dataframe\">\n",
       "  <thead>\n",
       "    <tr style=\"text-align: right;\">\n",
       "      <th></th>\n",
       "      <th>fmis_transaction_date</th>\n",
       "      <th>program_code</th>\n",
       "      <th>program_code_description</th>\n",
       "      <th>project_number</th>\n",
       "      <th>recipient_project_number</th>\n",
       "      <th>project_title</th>\n",
       "      <th>county_code</th>\n",
       "      <th>congressional_district</th>\n",
       "      <th>project_status_description</th>\n",
       "      <th>project_description</th>\n",
       "      <th>improvement_type</th>\n",
       "      <th>improvement_type_description</th>\n",
       "      <th>total_cost_amount</th>\n",
       "      <th>obligations_amount</th>\n",
       "      <th>summary_recipient_defined_text_field_1_value</th>\n",
       "      <th>implementing_agency_locode</th>\n",
       "      <th>implementing_agency</th>\n",
       "      <th>district</th>\n",
       "      <th>county_name</th>\n",
       "      <th>rtpa_name</th>\n",
       "      <th>mpo_name</th>\n",
       "    </tr>\n",
       "  </thead>\n",
       "  <tbody>\n",
       "    <tr>\n",
       "      <th>139</th>\n",
       "      <td>44627</td>\n",
       "      <td>ER01</td>\n",
       "      <td>NaN</td>\n",
       "      <td>15A7001</td>\n",
       "      <td>0521000177L</td>\n",
       "      <td>RIVER ROAD AT FAIRVIEW PERMANENT RESTORATION</td>\n",
       "      <td>53</td>\n",
       "      <td>20</td>\n",
       "      <td>Active</td>\n",
       "      <td>RIVER ROAD AT FAIRVIEW PERMANENT RESTORATION</td>\n",
       "      <td>4</td>\n",
       "      <td>4R - No Added Capacity</td>\n",
       "      <td>1792800.0</td>\n",
       "      <td>1587165.0</td>\n",
       "      <td>L5944AMBAG</td>\n",
       "      <td>5944.0</td>\n",
       "      <td>Monterey County</td>\n",
       "      <td>5.0</td>\n",
       "      <td>Monterey County</td>\n",
       "      <td>Transportation Agency For Monterey County</td>\n",
       "      <td>Association of Monterey Bay Area Governments</td>\n",
       "    </tr>\n",
       "  </tbody>\n",
       "</table>\n",
       "</div>"
      ],
      "text/plain": [
       "     fmis_transaction_date program_code program_code_description  \\\n",
       "139                  44627         ER01                      NaN   \n",
       "\n",
       "    project_number recipient_project_number  \\\n",
       "139        15A7001              0521000177L   \n",
       "\n",
       "                                    project_title  county_code  \\\n",
       "139  RIVER ROAD AT FAIRVIEW PERMANENT RESTORATION           53   \n",
       "\n",
       "    congressional_district project_status_description  \\\n",
       "139                     20                     Active   \n",
       "\n",
       "                              project_description  improvement_type  \\\n",
       "139  RIVER ROAD AT FAIRVIEW PERMANENT RESTORATION                 4   \n",
       "\n",
       "    improvement_type_description  total_cost_amount  obligations_amount  \\\n",
       "139       4R - No Added Capacity          1792800.0           1587165.0   \n",
       "\n",
       "    summary_recipient_defined_text_field_1_value  implementing_agency_locode  \\\n",
       "139                                   L5944AMBAG                      5944.0   \n",
       "\n",
       "    implementing_agency  district      county_name  \\\n",
       "139     Monterey County       5.0  Monterey County   \n",
       "\n",
       "                                     rtpa_name  \\\n",
       "139  Transportation Agency For Monterey County   \n",
       "\n",
       "                                         mpo_name  \n",
       "139  Association of Monterey Bay Area Governments  "
      ]
     },
     "execution_count": 21,
     "metadata": {},
     "output_type": "execute_result"
    }
   ],
   "source": [
    "df.sample()"
   ]
  },
  {
   "cell_type": "code",
   "execution_count": 22,
   "id": "fee57892-8d13-4fde-b0a6-c34582e02cca",
   "metadata": {},
   "outputs": [],
   "source": [
    "## move to utils,\n",
    "# def add_new_description_col(df):\n",
    "#     df[\"obligations_amount_string\"] = df[\"obligations_amount\"].astype(str)\n",
    "    \n",
    "#     df[\"new_description_col\"] = df[\"program_code_description\"] + \" for $\" + df[\"obligations_amount_string\"]\n",
    "    \n",
    "#     df.drop(columns =['obligations_amount_string'], axis=1, inplace=True)\n",
    "    \n",
    "#     return df"
   ]
  },
  {
   "cell_type": "code",
   "execution_count": 23,
   "id": "0d319a4f-9232-4f07-aa7b-1987073d3d12",
   "metadata": {},
   "outputs": [],
   "source": [
    "# (add_new_description_col(df))>>filter(_.program_code_description.notnull())"
   ]
  },
  {
   "cell_type": "code",
   "execution_count": 24,
   "id": "7e65124d-c8b5-42d5-b7ed-91946ce2376c",
   "metadata": {},
   "outputs": [
    {
     "data": {
      "text/html": [
       "<div>\n",
       "<style scoped>\n",
       "    .dataframe tbody tr th:only-of-type {\n",
       "        vertical-align: middle;\n",
       "    }\n",
       "\n",
       "    .dataframe tbody tr th {\n",
       "        vertical-align: top;\n",
       "    }\n",
       "\n",
       "    .dataframe thead th {\n",
       "        text-align: right;\n",
       "    }\n",
       "</style>\n",
       "<table border=\"1\" class=\"dataframe\">\n",
       "  <thead>\n",
       "    <tr style=\"text-align: right;\">\n",
       "      <th></th>\n",
       "      <th>fmis_transaction_date</th>\n",
       "      <th>program_code</th>\n",
       "      <th>program_code_description</th>\n",
       "      <th>project_number</th>\n",
       "      <th>recipient_project_number</th>\n",
       "      <th>project_title</th>\n",
       "      <th>county_code</th>\n",
       "      <th>congressional_district</th>\n",
       "      <th>project_status_description</th>\n",
       "      <th>project_description</th>\n",
       "      <th>improvement_type</th>\n",
       "      <th>improvement_type_description</th>\n",
       "      <th>total_cost_amount</th>\n",
       "      <th>obligations_amount</th>\n",
       "      <th>summary_recipient_defined_text_field_1_value</th>\n",
       "      <th>implementing_agency_locode</th>\n",
       "      <th>implementing_agency</th>\n",
       "      <th>district</th>\n",
       "      <th>county_name</th>\n",
       "      <th>rtpa_name</th>\n",
       "      <th>mpo_name</th>\n",
       "    </tr>\n",
       "  </thead>\n",
       "  <tbody>\n",
       "    <tr>\n",
       "      <th>467</th>\n",
       "      <td>44690</td>\n",
       "      <td>Y001</td>\n",
       "      <td>National Highway Performance Program (NHPP)</td>\n",
       "      <td>4052999</td>\n",
       "      <td>0713000238S</td>\n",
       "      <td>I-405 AT CRENSHAW BLVD. RAMP IMPROVEMENT; IN LOS ANGELES COUNTY, IN THE CITY OF TORRANCE BETWEEN WESTERN AVENUE AND WEST 182ND STREET / CRENSHAW BLVD.</td>\n",
       "      <td>37</td>\n",
       "      <td>43</td>\n",
       "      <td>Active</td>\n",
       "      <td>ON STATE ROUTE: 405. I-405 AT CRENSHAW BLVD. RAMP IMPROVEMENT; IN LOS ANGELES COUNTY, IN THE CITY OF TORRANCE BETWEEN WESTERN AVENUE AND WEST 182ND STREET / CRENSHAW BLVD. ADD A NEW I-405 ON-RAMP AT CRENSHAW BLVD. INCREASE STORAGE CAPACITY ON THE EXISTING ON/OFF RAMPS AND ADD AUXILIARY LANES ON THE I-405 ON BOTH DIRECTION</td>\n",
       "      <td>17</td>\n",
       "      <td>Construction Engineering</td>\n",
       "      <td>12000000.0</td>\n",
       "      <td>10988400.0</td>\n",
       "      <td>S    SCAG</td>\n",
       "      <td>NaN</td>\n",
       "      <td>California</td>\n",
       "      <td>7.0</td>\n",
       "      <td>Los Angeles County</td>\n",
       "      <td>NaN</td>\n",
       "      <td>NaN</td>\n",
       "    </tr>\n",
       "  </tbody>\n",
       "</table>\n",
       "</div>"
      ],
      "text/plain": [
       "     fmis_transaction_date program_code  \\\n",
       "467                  44690         Y001   \n",
       "\n",
       "                        program_code_description project_number  \\\n",
       "467  National Highway Performance Program (NHPP)        4052999   \n",
       "\n",
       "    recipient_project_number  \\\n",
       "467              0713000238S   \n",
       "\n",
       "                                                                                                                                              project_title  \\\n",
       "467  I-405 AT CRENSHAW BLVD. RAMP IMPROVEMENT; IN LOS ANGELES COUNTY, IN THE CITY OF TORRANCE BETWEEN WESTERN AVENUE AND WEST 182ND STREET / CRENSHAW BLVD.   \n",
       "\n",
       "     county_code congressional_district project_status_description  \\\n",
       "467           37                     43                     Active   \n",
       "\n",
       "                                                                                                                                                                                                                                                                                                                     project_description  \\\n",
       "467  ON STATE ROUTE: 405. I-405 AT CRENSHAW BLVD. RAMP IMPROVEMENT; IN LOS ANGELES COUNTY, IN THE CITY OF TORRANCE BETWEEN WESTERN AVENUE AND WEST 182ND STREET / CRENSHAW BLVD. ADD A NEW I-405 ON-RAMP AT CRENSHAW BLVD. INCREASE STORAGE CAPACITY ON THE EXISTING ON/OFF RAMPS AND ADD AUXILIARY LANES ON THE I-405 ON BOTH DIRECTION   \n",
       "\n",
       "     improvement_type improvement_type_description  total_cost_amount  \\\n",
       "467                17     Construction Engineering         12000000.0   \n",
       "\n",
       "     obligations_amount summary_recipient_defined_text_field_1_value  \\\n",
       "467          10988400.0                                    S    SCAG   \n",
       "\n",
       "     implementing_agency_locode implementing_agency  district  \\\n",
       "467                         NaN          California       7.0   \n",
       "\n",
       "            county_name rtpa_name mpo_name  \n",
       "467  Los Angeles County       NaN      NaN  "
      ]
     },
     "execution_count": 24,
     "metadata": {},
     "output_type": "execute_result"
    }
   ],
   "source": [
    "df.sample()"
   ]
  },
  {
   "cell_type": "code",
   "execution_count": 25,
   "id": "bdf31e12-e2c5-4799-bfb2-6aff0f1064c4",
   "metadata": {},
   "outputs": [
    {
     "data": {
      "text/plain": [
       "National Highway Performance Program (NHPP)                           505\n",
       "Surface Transportation Block Grant (STBG) Program                     386\n",
       "Highway Safety Improvement Program (HSIP)                             377\n",
       "Congestion Mitigation & Air Quality Improvement (CMAQ)                104\n",
       "Transportation Alternatives (Section 133(h))                           48\n",
       "Projects to Reduce PM 2.5 Emissions                                    42\n",
       "Section 164 Penalties - Use for HSIP Activities                        37\n",
       "Bridge Formula Program                                                 33\n",
       "Metropolitan Planning Program                                          19\n",
       "Safe and Accessible Transportation Options - Metropolitan Planning     18\n",
       "Railway-Highway Crossings Program (RHCP)                                7\n",
       "National Highway Freight Program (NHFP)                                 6\n",
       "Vulnerable Road User Safety Special Rule                                5\n",
       "State Planning and Research (SPR)                                       4\n",
       "High Risk Rural Roads Special Rule                                      2\n",
       "Research, Development, and Technology Transfer (RD&T)                   1\n",
       "On the Job Skills Training                                              1\n",
       "State RTP Administration                                                1\n",
       "Safe and Accessible Transportation Options - SPR                        1\n",
       "Redistribution of Certain Authorized Funds                              1\n",
       "Name: program_code_description, dtype: int64"
      ]
     },
     "execution_count": 25,
     "metadata": {},
     "output_type": "execute_result"
    }
   ],
   "source": [
    "df.program_code_description.value_counts()"
   ]
  },
  {
   "cell_type": "markdown",
   "id": "8a985cbc-6602-4dbd-9fe0-a8327c7007cb",
   "metadata": {
    "tags": []
   },
   "source": [
    "## Test & Export"
   ]
  },
  {
   "cell_type": "code",
   "execution_count": 26,
   "id": "91b99a04-c940-4bfa-bbb3-a18dfd1bc4fa",
   "metadata": {},
   "outputs": [],
   "source": [
    "# GCS_FILE_PATH  = 'gs://calitp-analytics-data/data-analyses/dla/dla-iija'"
   ]
  },
  {
   "cell_type": "code",
   "execution_count": null,
   "id": "f25d9872-5c5e-43ef-a187-d93bd7e49d01",
   "metadata": {},
   "outputs": [],
   "source": []
  },
  {
   "cell_type": "code",
   "execution_count": 27,
   "id": "ff85167d-819b-4f2d-9c05-95b4bbb69212",
   "metadata": {},
   "outputs": [],
   "source": [
    "###test agg. PASS df with title column, concat and 552 rows\n",
    "##throwingerror\n",
    "agg = _script_utils.get_clean_data(df, full_or_agg = 'agg')"
   ]
  },
  {
   "cell_type": "code",
   "execution_count": 28,
   "id": "c3798594-1ffa-450e-9668-c2fa4fdc91bb",
   "metadata": {},
   "outputs": [
    {
     "data": {
      "text/html": [
       "<div>\n",
       "<style scoped>\n",
       "    .dataframe tbody tr th:only-of-type {\n",
       "        vertical-align: middle;\n",
       "    }\n",
       "\n",
       "    .dataframe tbody tr th {\n",
       "        vertical-align: top;\n",
       "    }\n",
       "\n",
       "    .dataframe thead th {\n",
       "        text-align: right;\n",
       "    }\n",
       "</style>\n",
       "<table border=\"1\" class=\"dataframe\">\n",
       "  <thead>\n",
       "    <tr style=\"text-align: right;\">\n",
       "      <th></th>\n",
       "      <th>fmis_transaction_date</th>\n",
       "      <th>project_number</th>\n",
       "      <th>implementing_agency</th>\n",
       "      <th>summary_recipient_defined_text_field_1_value</th>\n",
       "      <th>program_code</th>\n",
       "      <th>program_code_description</th>\n",
       "      <th>recipient_project_number</th>\n",
       "      <th>improvement_type</th>\n",
       "      <th>improvement_type_description</th>\n",
       "      <th>project_title</th>\n",
       "      <th>obligations_amount</th>\n",
       "      <th>congressional_district</th>\n",
       "      <th>district</th>\n",
       "      <th>county_code</th>\n",
       "      <th>county_name</th>\n",
       "      <th>county_name_title</th>\n",
       "      <th>implementing_agency_locode</th>\n",
       "      <th>rtpa_name</th>\n",
       "      <th>mpo_name</th>\n",
       "      <th>project_title_new</th>\n",
       "      <th>new_description_col</th>\n",
       "    </tr>\n",
       "  </thead>\n",
       "  <tbody>\n",
       "    <tr>\n",
       "      <th>865</th>\n",
       "      <td>44907</td>\n",
       "      <td>5060404</td>\n",
       "      <td>Fresno</td>\n",
       "      <td>L5060FCOG</td>\n",
       "      <td>Y400</td>\n",
       "      <td>Congestion Mitigation &amp; Air Quality Improvement (CMAQ)</td>\n",
       "      <td>0623000063L</td>\n",
       "      <td>15</td>\n",
       "      <td>Preliminary Engineering</td>\n",
       "      <td>CHESTNUT AVENUE NEIGHBORHOOD: AREA BOUNDED BY CHESTNUT AVENUE, TULARE STREET, WILLOW AVENUE, AND BELMONT AVENUE SIDEWALK GAP INFILL AND CURB RAMP REP</td>\n",
       "      <td>318900.0</td>\n",
       "      <td>16</td>\n",
       "      <td>6.0</td>\n",
       "      <td>19</td>\n",
       "      <td>Fresno County</td>\n",
       "      <td>Fresno County</td>\n",
       "      <td>5060.0</td>\n",
       "      <td>Council of Fresno County Governments</td>\n",
       "      <td>Council Of Fresno County Goverments</td>\n",
       "      <td>Sidewalk in Fresno</td>\n",
       "      <td>This project is part of the Congestion Mitigation &amp; Air Quality Improvement (CMAQ) Program, and recieved $ 318900.0. This project will  Sidewalk in Fresno</td>\n",
       "    </tr>\n",
       "    <tr>\n",
       "      <th>152</th>\n",
       "      <td>44666</td>\n",
       "      <td>5925190</td>\n",
       "      <td>El Dorado County</td>\n",
       "      <td>L5925SACOG</td>\n",
       "      <td>Y230</td>\n",
       "      <td>Surface Transportation Block Grant (STBG) Program</td>\n",
       "      <td>0322000170L</td>\n",
       "      <td>4|17</td>\n",
       "      <td>4R - No Added Capacity|Construction Engineering</td>\n",
       "      <td>AT MISSOURI FLAT RD 0.8 MILES SOUTH OF GOLDEN CENTER DRIVE CONSTRUCT BIKE TRAIL CONNECTION, EXTEND CURB, GUTTER, AND SIDEWALK. TC</td>\n",
       "      <td>356000.0</td>\n",
       "      <td>4</td>\n",
       "      <td>3.0</td>\n",
       "      <td>17</td>\n",
       "      <td>El Dorado County</td>\n",
       "      <td>El Dorado County</td>\n",
       "      <td>5925.0</td>\n",
       "      <td>El Dorado County Transportation Commission</td>\n",
       "      <td>Sacramento Area Council Of Governments</td>\n",
       "      <td>Construct Sidewalk in El Dorado County</td>\n",
       "      <td>This project is part of the Surface Transportation Block Grant (STBG) Program Program, and recieved $ 356000.0. This project will Construct Sidewalk in El Dorado County</td>\n",
       "    </tr>\n",
       "    <tr>\n",
       "      <th>287</th>\n",
       "      <td>44718</td>\n",
       "      <td>5942198</td>\n",
       "      <td>Fresno County</td>\n",
       "      <td>L5942FCOG</td>\n",
       "      <td>Y001</td>\n",
       "      <td>National Highway Performance Program (NHPP)</td>\n",
       "      <td>0600020576L</td>\n",
       "      <td>15</td>\n",
       "      <td>Preliminary Engineering</td>\n",
       "      <td>BRIDGE 42C0175 ON MANNING AVENUE OVER TRAVERS CREEK REPLACE 2 LANE BRIDGE WITH 4 LANE BRIDGE</td>\n",
       "      <td>398385.0</td>\n",
       "      <td>22</td>\n",
       "      <td>6.0</td>\n",
       "      <td>19</td>\n",
       "      <td>Fresno County</td>\n",
       "      <td>Fresno County</td>\n",
       "      <td>5942.0</td>\n",
       "      <td>Council of Fresno County Governments</td>\n",
       "      <td>Council Of Fresno County Goverments</td>\n",
       "      <td>Preliminary Engineering Projects in Fresno County</td>\n",
       "      <td>This project is part of the National Highway Performance Program (NHPP) Program, and recieved $ 398385.0. This project will  Preliminary Engineering Projects in Fresno County</td>\n",
       "    </tr>\n",
       "  </tbody>\n",
       "</table>\n",
       "</div>"
      ],
      "text/plain": [
       "     fmis_transaction_date project_number implementing_agency  \\\n",
       "865                  44907        5060404              Fresno   \n",
       "152                  44666        5925190    El Dorado County   \n",
       "287                  44718        5942198       Fresno County   \n",
       "\n",
       "    summary_recipient_defined_text_field_1_value program_code  \\\n",
       "865                                    L5060FCOG         Y400   \n",
       "152                                   L5925SACOG         Y230   \n",
       "287                                    L5942FCOG         Y001   \n",
       "\n",
       "                                   program_code_description  \\\n",
       "865  Congestion Mitigation & Air Quality Improvement (CMAQ)   \n",
       "152       Surface Transportation Block Grant (STBG) Program   \n",
       "287             National Highway Performance Program (NHPP)   \n",
       "\n",
       "    recipient_project_number improvement_type  \\\n",
       "865              0623000063L               15   \n",
       "152              0322000170L             4|17   \n",
       "287              0600020576L               15   \n",
       "\n",
       "                        improvement_type_description  \\\n",
       "865                          Preliminary Engineering   \n",
       "152  4R - No Added Capacity|Construction Engineering   \n",
       "287                          Preliminary Engineering   \n",
       "\n",
       "                                                                                                                                             project_title  \\\n",
       "865  CHESTNUT AVENUE NEIGHBORHOOD: AREA BOUNDED BY CHESTNUT AVENUE, TULARE STREET, WILLOW AVENUE, AND BELMONT AVENUE SIDEWALK GAP INFILL AND CURB RAMP REP   \n",
       "152                      AT MISSOURI FLAT RD 0.8 MILES SOUTH OF GOLDEN CENTER DRIVE CONSTRUCT BIKE TRAIL CONNECTION, EXTEND CURB, GUTTER, AND SIDEWALK. TC   \n",
       "287                                                           BRIDGE 42C0175 ON MANNING AVENUE OVER TRAVERS CREEK REPLACE 2 LANE BRIDGE WITH 4 LANE BRIDGE   \n",
       "\n",
       "     obligations_amount congressional_district district county_code  \\\n",
       "865            318900.0                     16      6.0          19   \n",
       "152            356000.0                      4      3.0          17   \n",
       "287            398385.0                     22      6.0          19   \n",
       "\n",
       "          county_name county_name_title implementing_agency_locode  \\\n",
       "865     Fresno County     Fresno County                     5060.0   \n",
       "152  El Dorado County  El Dorado County                     5925.0   \n",
       "287     Fresno County     Fresno County                     5942.0   \n",
       "\n",
       "                                      rtpa_name  \\\n",
       "865        Council of Fresno County Governments   \n",
       "152  El Dorado County Transportation Commission   \n",
       "287        Council of Fresno County Governments   \n",
       "\n",
       "                                   mpo_name  \\\n",
       "865     Council Of Fresno County Goverments   \n",
       "152  Sacramento Area Council Of Governments   \n",
       "287     Council Of Fresno County Goverments   \n",
       "\n",
       "                                      project_title_new  \\\n",
       "865                                  Sidewalk in Fresno   \n",
       "152              Construct Sidewalk in El Dorado County   \n",
       "287   Preliminary Engineering Projects in Fresno County   \n",
       "\n",
       "                                                                                                                                                                new_description_col  \n",
       "865                      This project is part of the Congestion Mitigation & Air Quality Improvement (CMAQ) Program, and recieved $ 318900.0. This project will  Sidewalk in Fresno  \n",
       "152        This project is part of the Surface Transportation Block Grant (STBG) Program Program, and recieved $ 356000.0. This project will Construct Sidewalk in El Dorado County  \n",
       "287  This project is part of the National Highway Performance Program (NHPP) Program, and recieved $ 398385.0. This project will  Preliminary Engineering Projects in Fresno County  "
      ]
     },
     "execution_count": 28,
     "metadata": {},
     "output_type": "execute_result"
    }
   ],
   "source": [
    "agg.sample(3)"
   ]
  },
  {
   "cell_type": "code",
   "execution_count": 29,
   "id": "42d061a3-b4b8-4b67-923e-f1053e584b3a",
   "metadata": {},
   "outputs": [
    {
     "data": {
      "text/html": [
       "<div>\n",
       "<style scoped>\n",
       "    .dataframe tbody tr th:only-of-type {\n",
       "        vertical-align: middle;\n",
       "    }\n",
       "\n",
       "    .dataframe tbody tr th {\n",
       "        vertical-align: top;\n",
       "    }\n",
       "\n",
       "    .dataframe thead th {\n",
       "        text-align: right;\n",
       "    }\n",
       "</style>\n",
       "<table border=\"1\" class=\"dataframe\">\n",
       "  <thead>\n",
       "    <tr style=\"text-align: right;\">\n",
       "      <th></th>\n",
       "      <th>fmis_transaction_date</th>\n",
       "      <th>project_number</th>\n",
       "      <th>implementing_agency</th>\n",
       "      <th>summary_recipient_defined_text_field_1_value</th>\n",
       "      <th>program_code</th>\n",
       "      <th>program_code_description</th>\n",
       "      <th>recipient_project_number</th>\n",
       "      <th>improvement_type</th>\n",
       "      <th>improvement_type_description</th>\n",
       "      <th>project_title</th>\n",
       "      <th>obligations_amount</th>\n",
       "      <th>congressional_district</th>\n",
       "      <th>district</th>\n",
       "      <th>county_code</th>\n",
       "      <th>county_name</th>\n",
       "      <th>county_name_title</th>\n",
       "      <th>implementing_agency_locode</th>\n",
       "      <th>rtpa_name</th>\n",
       "      <th>mpo_name</th>\n",
       "      <th>project_title_new</th>\n",
       "      <th>new_description_col</th>\n",
       "    </tr>\n",
       "  </thead>\n",
       "  <tbody>\n",
       "    <tr>\n",
       "      <th>691</th>\n",
       "      <td>44826</td>\n",
       "      <td>0010209</td>\n",
       "      <td>California</td>\n",
       "      <td>S    SANDAG</td>\n",
       "      <td>Y450</td>\n",
       "      <td>Metropolitan Planning Program</td>\n",
       "      <td>0022000354S</td>\n",
       "      <td>18</td>\n",
       "      <td>Planning</td>\n",
       "      <td>OWP 22/23 SAN DIEGO REGION CONSOLIDATED PLANNING GRANT (CPG) PROJECT FOR SAN DIEGO ASSOCIATION OF GOVERNMENTS (SANDAG) OVERALL WORK PROGRAM (OWP) FOR</td>\n",
       "      <td>4851322.0</td>\n",
       "      <td>0</td>\n",
       "      <td>nan</td>\n",
       "      <td>999</td>\n",
       "      <td>Statewide</td>\n",
       "      <td>Statewide</td>\n",
       "      <td>nan</td>\n",
       "      <td>None</td>\n",
       "      <td>None</td>\n",
       "      <td>Planning and Research Statewide</td>\n",
       "      <td>This project is part of the Metropolitan Planning Program Program, and recieved $ 4851322.0. This project will  Planning and Research Statewide</td>\n",
       "    </tr>\n",
       "  </tbody>\n",
       "</table>\n",
       "</div>"
      ],
      "text/plain": [
       "     fmis_transaction_date project_number implementing_agency  \\\n",
       "691                  44826        0010209          California   \n",
       "\n",
       "    summary_recipient_defined_text_field_1_value program_code  \\\n",
       "691                                  S    SANDAG         Y450   \n",
       "\n",
       "          program_code_description recipient_project_number improvement_type  \\\n",
       "691  Metropolitan Planning Program              0022000354S               18   \n",
       "\n",
       "    improvement_type_description  \\\n",
       "691                    Planning    \n",
       "\n",
       "                                                                                                                                             project_title  \\\n",
       "691  OWP 22/23 SAN DIEGO REGION CONSOLIDATED PLANNING GRANT (CPG) PROJECT FOR SAN DIEGO ASSOCIATION OF GOVERNMENTS (SANDAG) OVERALL WORK PROGRAM (OWP) FOR   \n",
       "\n",
       "     obligations_amount congressional_district district county_code  \\\n",
       "691           4851322.0                      0      nan         999   \n",
       "\n",
       "    county_name county_name_title implementing_agency_locode rtpa_name  \\\n",
       "691   Statewide         Statewide                        nan      None   \n",
       "\n",
       "    mpo_name                 project_title_new  \\\n",
       "691     None   Planning and Research Statewide   \n",
       "\n",
       "                                                                                                                                 new_description_col  \n",
       "691  This project is part of the Metropolitan Planning Program Program, and recieved $ 4851322.0. This project will  Planning and Research Statewide  "
      ]
     },
     "execution_count": 29,
     "metadata": {},
     "output_type": "execute_result"
    }
   ],
   "source": [
    "(agg>>filter(_.county_name_title==\"Statewide\")).sample()"
   ]
  },
  {
   "cell_type": "code",
   "execution_count": null,
   "id": "abc5de22-6b3e-4510-a8d6-8f809a0afdb7",
   "metadata": {},
   "outputs": [],
   "source": []
  },
  {
   "cell_type": "markdown",
   "id": "5bdadf7c-1e6f-4107-88a0-bbe0b3f9948f",
   "metadata": {},
   "source": [
    "## Program Code deep dive"
   ]
  },
  {
   "cell_type": "code",
   "execution_count": 30,
   "id": "a8b3333f-5580-4391-badd-049f0c3f0829",
   "metadata": {},
   "outputs": [
    {
     "data": {
      "text/plain": [
       "ER01    287\n",
       "Y928      2\n",
       "Y520      1\n",
       "Name: program_code, dtype: int64"
      ]
     },
     "execution_count": 30,
     "metadata": {},
     "output_type": "execute_result"
    }
   ],
   "source": [
    "(agg>>filter(_.program_code_description==(\"nan\"))).program_code.value_counts()"
   ]
  },
  {
   "cell_type": "code",
   "execution_count": 31,
   "id": "5fd48445-d127-4baa-92cd-8d8bdcba6843",
   "metadata": {},
   "outputs": [],
   "source": [
    "# (agg>>filter(_.program_code_description==(\"nan\")))"
   ]
  },
  {
   "cell_type": "markdown",
   "id": "99dd71f1-fdb3-4683-ba19-f247abbf83a1",
   "metadata": {
    "tags": []
   },
   "source": [
    "### Read in Old Codes\n"
   ]
  },
  {
   "cell_type": "markdown",
   "id": "6631c086-052b-4dd3-b41d-2a09def90015",
   "metadata": {},
   "source": [
    "(currently used in script)"
   ]
  },
  {
   "cell_type": "code",
   "execution_count": 32,
   "id": "ebf1f5dc-7909-41e5-8ed8-bc7d6fb303e6",
   "metadata": {},
   "outputs": [],
   "source": [
    "#check project codes list\n",
    "codes = to_snakecase(pd.read_excel(f\"{GCS_FILE_PATH}/FY21-22ProgramCodesAsOf5-25-2022.v2.xlsx\"))\n"
   ]
  },
  {
   "cell_type": "code",
   "execution_count": 33,
   "id": "3f3369d8-f3db-4edd-a6ac-8f7d3228ccbd",
   "metadata": {},
   "outputs": [
    {
     "data": {
      "text/html": [
       "<div>\n",
       "<style scoped>\n",
       "    .dataframe tbody tr th:only-of-type {\n",
       "        vertical-align: middle;\n",
       "    }\n",
       "\n",
       "    .dataframe tbody tr th {\n",
       "        vertical-align: top;\n",
       "    }\n",
       "\n",
       "    .dataframe thead th {\n",
       "        text-align: right;\n",
       "    }\n",
       "</style>\n",
       "<table border=\"1\" class=\"dataframe\">\n",
       "  <thead>\n",
       "    <tr style=\"text-align: right;\">\n",
       "      <th></th>\n",
       "      <th>description</th>\n",
       "      <th>iija_program_code</th>\n",
       "      <th>new_description</th>\n",
       "    </tr>\n",
       "  </thead>\n",
       "  <tbody>\n",
       "    <tr>\n",
       "      <th>0</th>\n",
       "      <td>Advanced Transportation Technologies and Innovative Mobility Deployment</td>\n",
       "      <td>Y44A</td>\n",
       "      <td>Advanced Transportation Technologies and Innovative Mobility Deployment</td>\n",
       "    </tr>\n",
       "    <tr>\n",
       "      <th>1</th>\n",
       "      <td>Applalachian Developmen Highway System</td>\n",
       "      <td>Y140</td>\n",
       "      <td>Applalachian Developmen Highway System</td>\n",
       "    </tr>\n",
       "    <tr>\n",
       "      <th>2</th>\n",
       "      <td>Border State Infrastructure</td>\n",
       "      <td>Y500</td>\n",
       "      <td>Border State Infrastructure</td>\n",
       "    </tr>\n",
       "    <tr>\n",
       "      <th>3</th>\n",
       "      <td>Bridge Formula Program</td>\n",
       "      <td>Y110</td>\n",
       "      <td>Bridge Formula Program</td>\n",
       "    </tr>\n",
       "    <tr>\n",
       "      <th>4</th>\n",
       "      <td>Bridge Formula Program Off-System Bridges</td>\n",
       "      <td>Y120</td>\n",
       "      <td>Bridge Formula Program</td>\n",
       "    </tr>\n",
       "  </tbody>\n",
       "</table>\n",
       "</div>"
      ],
      "text/plain": [
       "                                                               description  \\\n",
       "0  Advanced Transportation Technologies and Innovative Mobility Deployment   \n",
       "1                                   Applalachian Developmen Highway System   \n",
       "2                                              Border State Infrastructure   \n",
       "3                                                   Bridge Formula Program   \n",
       "4                                Bridge Formula Program Off-System Bridges   \n",
       "\n",
       "  iija_program_code  \\\n",
       "0              Y44A   \n",
       "1              Y140   \n",
       "2              Y500   \n",
       "3              Y110   \n",
       "4              Y120   \n",
       "\n",
       "                                                           new_description  \n",
       "0  Advanced Transportation Technologies and Innovative Mobility Deployment  \n",
       "1                                   Applalachian Developmen Highway System  \n",
       "2                                              Border State Infrastructure  \n",
       "3                                                   Bridge Formula Program  \n",
       "4                                                   Bridge Formula Program  "
      ]
     },
     "execution_count": 33,
     "metadata": {},
     "output_type": "execute_result"
    }
   ],
   "source": [
    "codes.head()"
   ]
  },
  {
   "cell_type": "markdown",
   "id": "7bd93dc4-417a-4956-a610-93caa16f1ce3",
   "metadata": {},
   "source": [
    "### New Codes"
   ]
  },
  {
   "cell_type": "code",
   "execution_count": 34,
   "id": "ae35f172-f84d-481e-9be1-01a23b1d1aab",
   "metadata": {},
   "outputs": [],
   "source": [
    "## read in new project codes:\n",
    "new_codes = to_snakecase(pd.read_excel(f\"{GCS_FILE_PATH}/lst_IIJA_Code_20230501.xlsx\"))"
   ]
  },
  {
   "cell_type": "code",
   "execution_count": 35,
   "id": "43243734-444a-40dd-97e9-ded24c0b64d2",
   "metadata": {},
   "outputs": [
    {
     "data": {
      "text/html": [
       "<div>\n",
       "<style scoped>\n",
       "    .dataframe tbody tr th:only-of-type {\n",
       "        vertical-align: middle;\n",
       "    }\n",
       "\n",
       "    .dataframe tbody tr th {\n",
       "        vertical-align: top;\n",
       "    }\n",
       "\n",
       "    .dataframe thead th {\n",
       "        text-align: right;\n",
       "    }\n",
       "</style>\n",
       "<table border=\"1\" class=\"dataframe\">\n",
       "  <thead>\n",
       "    <tr style=\"text-align: right;\">\n",
       "      <th></th>\n",
       "      <th>iija_code</th>\n",
       "      <th>description</th>\n",
       "      <th>program_name</th>\n",
       "      <th>iija_program_code</th>\n",
       "    </tr>\n",
       "  </thead>\n",
       "  <tbody>\n",
       "    <tr>\n",
       "      <th>0</th>\n",
       "      <td>|BFP|</td>\n",
       "      <td>Bridge Formula Program</td>\n",
       "      <td>Bridge Formula Program</td>\n",
       "      <td>Y120</td>\n",
       "    </tr>\n",
       "    <tr>\n",
       "      <th>1</th>\n",
       "      <td>|CPF|</td>\n",
       "      <td>Community Project Funding Congressionally Directed Spending</td>\n",
       "      <td>Community Project Funding Congressionally Directed Spending</td>\n",
       "      <td>Y928</td>\n",
       "    </tr>\n",
       "    <tr>\n",
       "      <th>2</th>\n",
       "      <td>|NHPP|</td>\n",
       "      <td>National Highway Performance Program (NHPP)</td>\n",
       "      <td>National Highway Performance Program (NHPP)</td>\n",
       "      <td>Y001</td>\n",
       "    </tr>\n",
       "    <tr>\n",
       "      <th>3</th>\n",
       "      <td>|NHPPE|</td>\n",
       "      <td>NHPP Exempt</td>\n",
       "      <td>NHPP Exempt</td>\n",
       "      <td>Y002</td>\n",
       "    </tr>\n",
       "    <tr>\n",
       "      <th>4</th>\n",
       "      <td>NaN</td>\n",
       "      <td>Protective Features [NEW]</td>\n",
       "      <td>Protective Features [NEW]</td>\n",
       "      <td>Y008</td>\n",
       "    </tr>\n",
       "    <tr>\n",
       "      <th>...</th>\n",
       "      <td>...</td>\n",
       "      <td>...</td>\n",
       "      <td>...</td>\n",
       "      <td>...</td>\n",
       "    </tr>\n",
       "    <tr>\n",
       "      <th>100</th>\n",
       "      <td>|HRDP|</td>\n",
       "      <td>Highway Research and Deveopment Program</td>\n",
       "      <td>Highway Research and Development Program</td>\n",
       "      <td>Y448</td>\n",
       "    </tr>\n",
       "    <tr>\n",
       "      <th>101</th>\n",
       "      <td>NaN</td>\n",
       "      <td>Bridge Replacement and Rehabilitation Program</td>\n",
       "      <td>NaN</td>\n",
       "      <td>Y908</td>\n",
       "    </tr>\n",
       "    <tr>\n",
       "      <th>102</th>\n",
       "      <td>NaN</td>\n",
       "      <td>Technology and Innovation Deployment - FMIS</td>\n",
       "      <td>NaN</td>\n",
       "      <td>Y37G, Y37H, Y379, Y37P</td>\n",
       "    </tr>\n",
       "    <tr>\n",
       "      <th>103</th>\n",
       "      <td>|ER|</td>\n",
       "      <td>Emergency Suppliment Funding</td>\n",
       "      <td>Emergency Supplement Funding</td>\n",
       "      <td>ER01</td>\n",
       "    </tr>\n",
       "    <tr>\n",
       "      <th>104</th>\n",
       "      <td>|FL|</td>\n",
       "      <td>Federal Lands Planning Program, Access Planning</td>\n",
       "      <td>Federal Lands Planning</td>\n",
       "      <td>Y520</td>\n",
       "    </tr>\n",
       "  </tbody>\n",
       "</table>\n",
       "<p>105 rows × 4 columns</p>\n",
       "</div>"
      ],
      "text/plain": [
       "    iija_code                                                  description  \\\n",
       "0       |BFP|                                       Bridge Formula Program   \n",
       "1       |CPF|  Community Project Funding Congressionally Directed Spending   \n",
       "2      |NHPP|                  National Highway Performance Program (NHPP)   \n",
       "3     |NHPPE|                                                  NHPP Exempt   \n",
       "4         NaN                                    Protective Features [NEW]   \n",
       "..        ...                                                          ...   \n",
       "100    |HRDP|                      Highway Research and Deveopment Program   \n",
       "101       NaN                Bridge Replacement and Rehabilitation Program   \n",
       "102       NaN                  Technology and Innovation Deployment - FMIS   \n",
       "103      |ER|                                 Emergency Suppliment Funding   \n",
       "104      |FL|              Federal Lands Planning Program, Access Planning   \n",
       "\n",
       "                                                    program_name  \\\n",
       "0                                         Bridge Formula Program   \n",
       "1    Community Project Funding Congressionally Directed Spending   \n",
       "2                    National Highway Performance Program (NHPP)   \n",
       "3                                                    NHPP Exempt   \n",
       "4                                      Protective Features [NEW]   \n",
       "..                                                           ...   \n",
       "100                     Highway Research and Development Program   \n",
       "101                                                          NaN   \n",
       "102                                                          NaN   \n",
       "103                                 Emergency Supplement Funding   \n",
       "104                                       Federal Lands Planning   \n",
       "\n",
       "          iija_program_code  \n",
       "0                      Y120  \n",
       "1                      Y928  \n",
       "2                      Y001  \n",
       "3                      Y002  \n",
       "4                      Y008  \n",
       "..                      ...  \n",
       "100                    Y448  \n",
       "101                    Y908  \n",
       "102  Y37G, Y37H, Y379, Y37P  \n",
       "103                    ER01  \n",
       "104                    Y520  \n",
       "\n",
       "[105 rows x 4 columns]"
      ]
     },
     "execution_count": 35,
     "metadata": {},
     "output_type": "execute_result"
    }
   ],
   "source": [
    "new_codes"
   ]
  },
  {
   "cell_type": "markdown",
   "id": "7836d8a6-8237-4d46-a3d6-e634ee51c062",
   "metadata": {
    "jp-MarkdownHeadingCollapsed": true,
    "tags": []
   },
   "source": [
    "#### Remove | from codes"
   ]
  },
  {
   "cell_type": "code",
   "execution_count": 36,
   "id": "4c1c65f5-5ab8-4038-8bfb-1ba4f088b9e7",
   "metadata": {},
   "outputs": [
    {
     "name": "stderr",
     "output_type": "stream",
     "text": [
      "/tmp/ipykernel_325/474405769.py:2: FutureWarning: The default value of regex will change from True to False in a future version. In addition, single character regular expressions will *not* be treated as literal strings when regex=True.\n"
     ]
    }
   ],
   "source": [
    "# new_codes['iija_code_2'] = new_codes['iija_code'].str.split(\"|\").str[0]\n",
    "new_codes['iija_code_2'] = new_codes['iija_code'].str.replace(\"|\",\"\")"
   ]
  },
  {
   "cell_type": "code",
   "execution_count": 37,
   "id": "448ff60c-ee00-44b8-a9ea-e09188ccd53b",
   "metadata": {},
   "outputs": [
    {
     "data": {
      "text/html": [
       "<div>\n",
       "<style scoped>\n",
       "    .dataframe tbody tr th:only-of-type {\n",
       "        vertical-align: middle;\n",
       "    }\n",
       "\n",
       "    .dataframe tbody tr th {\n",
       "        vertical-align: top;\n",
       "    }\n",
       "\n",
       "    .dataframe thead th {\n",
       "        text-align: right;\n",
       "    }\n",
       "</style>\n",
       "<table border=\"1\" class=\"dataframe\">\n",
       "  <thead>\n",
       "    <tr style=\"text-align: right;\">\n",
       "      <th></th>\n",
       "      <th>iija_code</th>\n",
       "      <th>description</th>\n",
       "      <th>program_name</th>\n",
       "      <th>iija_program_code</th>\n",
       "      <th>iija_code_2</th>\n",
       "    </tr>\n",
       "  </thead>\n",
       "  <tbody>\n",
       "    <tr>\n",
       "      <th>57</th>\n",
       "      <td>|SATOSPR|</td>\n",
       "      <td>Safe and Accessible Transportation Options - SPR</td>\n",
       "      <td>Safe and Accessible Transportation Options - SPR</td>\n",
       "      <td>Y570</td>\n",
       "      <td>SATOSPR</td>\n",
       "    </tr>\n",
       "    <tr>\n",
       "      <th>74</th>\n",
       "      <td>|HRDP|</td>\n",
       "      <td>Highway Research and Development</td>\n",
       "      <td>Highway Research and Development Program</td>\n",
       "      <td>Z48F</td>\n",
       "      <td>HRDP</td>\n",
       "    </tr>\n",
       "    <tr>\n",
       "      <th>101</th>\n",
       "      <td>NaN</td>\n",
       "      <td>Bridge Replacement and Rehabilitation Program</td>\n",
       "      <td>NaN</td>\n",
       "      <td>Y908</td>\n",
       "      <td>NaN</td>\n",
       "    </tr>\n",
       "    <tr>\n",
       "      <th>21</th>\n",
       "      <td>|IAE|</td>\n",
       "      <td>Improving Accessibility and Efficiency- Urbanized Areas With Population Over 200K [NEW]</td>\n",
       "      <td>Improving Accessibility and Efficiency</td>\n",
       "      <td>Y101</td>\n",
       "      <td>IAE</td>\n",
       "    </tr>\n",
       "    <tr>\n",
       "      <th>26</th>\n",
       "      <td>|RTP|</td>\n",
       "      <td>Recreational Trails Program (RTP)</td>\n",
       "      <td>Recreational Trails Program</td>\n",
       "      <td>Y940</td>\n",
       "      <td>RTP</td>\n",
       "    </tr>\n",
       "  </tbody>\n",
       "</table>\n",
       "</div>"
      ],
      "text/plain": [
       "     iija_code  \\\n",
       "57   |SATOSPR|   \n",
       "74      |HRDP|   \n",
       "101        NaN   \n",
       "21       |IAE|   \n",
       "26       |RTP|   \n",
       "\n",
       "                                                                                 description  \\\n",
       "57                                          Safe and Accessible Transportation Options - SPR   \n",
       "74                                                          Highway Research and Development   \n",
       "101                                            Bridge Replacement and Rehabilitation Program   \n",
       "21   Improving Accessibility and Efficiency- Urbanized Areas With Population Over 200K [NEW]   \n",
       "26                                                         Recreational Trails Program (RTP)   \n",
       "\n",
       "                                         program_name iija_program_code  \\\n",
       "57   Safe and Accessible Transportation Options - SPR              Y570   \n",
       "74           Highway Research and Development Program              Z48F   \n",
       "101                                               NaN              Y908   \n",
       "21             Improving Accessibility and Efficiency              Y101   \n",
       "26                        Recreational Trails Program              Y940   \n",
       "\n",
       "    iija_code_2  \n",
       "57      SATOSPR  \n",
       "74         HRDP  \n",
       "101         NaN  \n",
       "21          IAE  \n",
       "26          RTP  "
      ]
     },
     "execution_count": 37,
     "metadata": {},
     "output_type": "execute_result"
    }
   ],
   "source": [
    "new_codes.sample(5)"
   ]
  },
  {
   "cell_type": "markdown",
   "id": "b1b04782-030d-4ec9-b0cb-840244176c5a",
   "metadata": {},
   "source": [
    "#### Codes with ranges"
   ]
  },
  {
   "cell_type": "code",
   "execution_count": 38,
   "id": "d9ddd4bb-18c9-44ed-90f6-9d4204590594",
   "metadata": {},
   "outputs": [
    {
     "data": {
      "text/html": [
       "<div>\n",
       "<style scoped>\n",
       "    .dataframe tbody tr th:only-of-type {\n",
       "        vertical-align: middle;\n",
       "    }\n",
       "\n",
       "    .dataframe tbody tr th {\n",
       "        vertical-align: top;\n",
       "    }\n",
       "\n",
       "    .dataframe thead th {\n",
       "        text-align: right;\n",
       "    }\n",
       "</style>\n",
       "<table border=\"1\" class=\"dataframe\">\n",
       "  <thead>\n",
       "    <tr style=\"text-align: right;\">\n",
       "      <th></th>\n",
       "      <th>iija_code</th>\n",
       "      <th>description</th>\n",
       "      <th>program_name</th>\n",
       "      <th>iija_program_code</th>\n",
       "      <th>iija_code_2</th>\n",
       "    </tr>\n",
       "  </thead>\n",
       "  <tbody>\n",
       "    <tr>\n",
       "      <th>75</th>\n",
       "      <td>NaN</td>\n",
       "      <td>IIJA Puerto Rico Highway</td>\n",
       "      <td>NaN</td>\n",
       "      <td>YP10 -YP30</td>\n",
       "      <td>NaN</td>\n",
       "    </tr>\n",
       "    <tr>\n",
       "      <th>91</th>\n",
       "      <td>NaN</td>\n",
       "      <td>HIP - Flex &amp; Pulation based</td>\n",
       "      <td>NaN</td>\n",
       "      <td>Z928 - Z931</td>\n",
       "      <td>NaN</td>\n",
       "    </tr>\n",
       "    <tr>\n",
       "      <th>95</th>\n",
       "      <td>NaN</td>\n",
       "      <td>National Infrastractur Investment (RAISE)</td>\n",
       "      <td>NaN</td>\n",
       "      <td>RA01 - RA03</td>\n",
       "      <td>NaN</td>\n",
       "    </tr>\n",
       "  </tbody>\n",
       "</table>\n",
       "</div>"
      ],
      "text/plain": [
       "   iija_code                                description program_name  \\\n",
       "75       NaN                   IIJA Puerto Rico Highway          NaN   \n",
       "91       NaN                HIP - Flex & Pulation based          NaN   \n",
       "95       NaN  National Infrastractur Investment (RAISE)          NaN   \n",
       "\n",
       "   iija_program_code iija_code_2  \n",
       "75        YP10 -YP30         NaN  \n",
       "91       Z928 - Z931         NaN  \n",
       "95       RA01 - RA03         NaN  "
      ]
     },
     "execution_count": 38,
     "metadata": {},
     "output_type": "execute_result"
    }
   ],
   "source": [
    "new_codes>>filter(_.iija_program_code.str.contains(\"-\"))"
   ]
  },
  {
   "cell_type": "code",
   "execution_count": 39,
   "id": "45a28c64-47e6-4c19-8dab-21a44110c7cb",
   "metadata": {},
   "outputs": [
    {
     "data": {
      "text/html": [
       "<div>\n",
       "<style scoped>\n",
       "    .dataframe tbody tr th:only-of-type {\n",
       "        vertical-align: middle;\n",
       "    }\n",
       "\n",
       "    .dataframe tbody tr th {\n",
       "        vertical-align: top;\n",
       "    }\n",
       "\n",
       "    .dataframe thead th {\n",
       "        text-align: right;\n",
       "    }\n",
       "</style>\n",
       "<table border=\"1\" class=\"dataframe\">\n",
       "  <thead>\n",
       "    <tr style=\"text-align: right;\">\n",
       "      <th></th>\n",
       "      <th>fmis_transaction_date</th>\n",
       "      <th>program_code</th>\n",
       "      <th>program_code_description</th>\n",
       "      <th>project_number</th>\n",
       "      <th>recipient_project_number</th>\n",
       "      <th>project_title</th>\n",
       "      <th>county_code</th>\n",
       "      <th>congressional_district</th>\n",
       "      <th>project_status_description</th>\n",
       "      <th>project_description</th>\n",
       "      <th>improvement_type</th>\n",
       "      <th>improvement_type_description</th>\n",
       "      <th>total_cost_amount</th>\n",
       "      <th>obligations_amount</th>\n",
       "      <th>summary_recipient_defined_text_field_1_value</th>\n",
       "    </tr>\n",
       "  </thead>\n",
       "  <tbody>\n",
       "  </tbody>\n",
       "</table>\n",
       "</div>"
      ],
      "text/plain": [
       "Empty DataFrame\n",
       "Columns: [fmis_transaction_date, program_code, program_code_description, project_number, recipient_project_number, project_title, county_code, congressional_district, project_status_description, project_description, improvement_type, improvement_type_description, total_cost_amount, obligations_amount, summary_recipient_defined_text_field_1_value]\n",
       "Index: []"
      ]
     },
     "execution_count": 39,
     "metadata": {},
     "output_type": "execute_result"
    }
   ],
   "source": [
    "## checking with the proj\n",
    "proj>>filter(_.program_code.str.contains(\"Z\"))"
   ]
  },
  {
   "cell_type": "code",
   "execution_count": 40,
   "id": "a007ce00-b707-47a1-9932-8dba1b3abd56",
   "metadata": {},
   "outputs": [],
   "source": [
    "# proj"
   ]
  },
  {
   "cell_type": "code",
   "execution_count": null,
   "id": "7883f80c-dbdd-41d6-a37c-961c7de4fadd",
   "metadata": {},
   "outputs": [],
   "source": []
  },
  {
   "cell_type": "markdown",
   "id": "3b1f8a40-fada-42c5-a633-230fd3ba8ed0",
   "metadata": {
    "jp-MarkdownHeadingCollapsed": true,
    "tags": []
   },
   "source": [
    "#### Null codes"
   ]
  },
  {
   "cell_type": "code",
   "execution_count": 41,
   "id": "653a6879-885d-4966-8826-3d06b7bb8951",
   "metadata": {},
   "outputs": [
    {
     "data": {
      "text/plain": [
       "48"
      ]
     },
     "execution_count": 41,
     "metadata": {},
     "output_type": "execute_result"
    }
   ],
   "source": [
    "len(new_codes>>filter(_.iija_code.isna()))"
   ]
  },
  {
   "cell_type": "code",
   "execution_count": 42,
   "id": "b09b1aad-dcb1-4fb6-b251-f6d9e04f086e",
   "metadata": {},
   "outputs": [],
   "source": [
    "null_program_codes = new_codes>>filter(_.iija_code.isna())"
   ]
  },
  {
   "cell_type": "code",
   "execution_count": 43,
   "id": "7d604744-18d1-46bb-b6f6-917b2f65a6a5",
   "metadata": {},
   "outputs": [],
   "source": [
    "#download and send to contact! \n",
    "# null_program_codes.to_csv(\"lst_IIJA_Code_20230501_null.csv\")"
   ]
  },
  {
   "cell_type": "code",
   "execution_count": 44,
   "id": "c3b60d92-7ed0-4e7c-8420-f22d2d95e73e",
   "metadata": {},
   "outputs": [],
   "source": [
    "# null_program_codes"
   ]
  },
  {
   "cell_type": "code",
   "execution_count": null,
   "id": "d2f15cf6-e126-4cc3-8b65-e3b6fc20a6fe",
   "metadata": {},
   "outputs": [],
   "source": []
  },
  {
   "cell_type": "markdown",
   "id": "d1a81f85-f204-4751-9970-ca0e07b15760",
   "metadata": {},
   "source": [
    "### Add acronym code for IIJA programs\n",
    "https://stackoverflow.com/questions/4355201/creating-acronyms-in-python"
   ]
  },
  {
   "cell_type": "code",
   "execution_count": null,
   "id": "db6e8686-535f-40f1-844c-08b729cb5163",
   "metadata": {},
   "outputs": [],
   "source": []
  },
  {
   "cell_type": "code",
   "execution_count": null,
   "id": "6f4fd6a5-f782-4fed-806e-c30ee431140b",
   "metadata": {},
   "outputs": [],
   "source": []
  },
  {
   "cell_type": "code",
   "execution_count": 45,
   "id": "dfdf3ddf-50dd-4c22-b83a-b29045de1555",
   "metadata": {},
   "outputs": [],
   "source": [
    "# (proj>>filter(_.program_code==(\"ER01\"), _.program_code_description.notnull())).sample()"
   ]
  },
  {
   "cell_type": "code",
   "execution_count": 46,
   "id": "f0389ac9-2402-411d-b950-7850b4cf41ee",
   "metadata": {},
   "outputs": [],
   "source": [
    "# (proj>>filter(_.program_code==(\"ER01\"), _.program_code_description.notnull())).sample()"
   ]
  },
  {
   "cell_type": "code",
   "execution_count": null,
   "id": "2a2c6e8a-d43f-4260-950b-099cacef7a9e",
   "metadata": {},
   "outputs": [],
   "source": []
  },
  {
   "cell_type": "code",
   "execution_count": null,
   "id": "6aff643c-b25c-4f34-893d-cf759e80c215",
   "metadata": {},
   "outputs": [],
   "source": []
  },
  {
   "cell_type": "code",
   "execution_count": 47,
   "id": "1b3323b4-570c-4680-97e3-a7f380d69aff",
   "metadata": {},
   "outputs": [
    {
     "data": {
      "text/html": [
       "<div>\n",
       "<style scoped>\n",
       "    .dataframe tbody tr th:only-of-type {\n",
       "        vertical-align: middle;\n",
       "    }\n",
       "\n",
       "    .dataframe tbody tr th {\n",
       "        vertical-align: top;\n",
       "    }\n",
       "\n",
       "    .dataframe thead th {\n",
       "        text-align: right;\n",
       "    }\n",
       "</style>\n",
       "<table border=\"1\" class=\"dataframe\">\n",
       "  <thead>\n",
       "    <tr style=\"text-align: right;\">\n",
       "      <th></th>\n",
       "      <th>fmis_transaction_date</th>\n",
       "      <th>program_code</th>\n",
       "      <th>program_code_description</th>\n",
       "      <th>project_number</th>\n",
       "      <th>recipient_project_number</th>\n",
       "      <th>project_title</th>\n",
       "      <th>county_code</th>\n",
       "      <th>congressional_district</th>\n",
       "      <th>project_status_description</th>\n",
       "      <th>project_description</th>\n",
       "      <th>improvement_type</th>\n",
       "      <th>improvement_type_description</th>\n",
       "      <th>total_cost_amount</th>\n",
       "      <th>obligations_amount</th>\n",
       "      <th>summary_recipient_defined_text_field_1_value</th>\n",
       "      <th>implementing_agency_locode</th>\n",
       "      <th>implementing_agency</th>\n",
       "      <th>district</th>\n",
       "      <th>county_name</th>\n",
       "      <th>rtpa_name</th>\n",
       "      <th>mpo_name</th>\n",
       "      <th>county_name_title</th>\n",
       "    </tr>\n",
       "  </thead>\n",
       "  <tbody>\n",
       "    <tr>\n",
       "      <th>0</th>\n",
       "      <td>44594</td>\n",
       "      <td>ER01</td>\n",
       "      <td>nan</td>\n",
       "      <td>32L0118</td>\n",
       "      <td>0117000181L</td>\n",
       "      <td>MATTOLE ROAD PM 5.00 PERMANENT RESTORATION</td>\n",
       "      <td>23</td>\n",
       "      <td>2</td>\n",
       "      <td>Active</td>\n",
       "      <td>MATTOLE ROAD PM 5.00 PERMANENT RESTORATION</td>\n",
       "      <td>4</td>\n",
       "      <td>4R - No Added Capacity</td>\n",
       "      <td>68757.00</td>\n",
       "      <td>60870.23</td>\n",
       "      <td>L5904NON-MPO</td>\n",
       "      <td>5904.0</td>\n",
       "      <td>Humboldt County</td>\n",
       "      <td>1.0</td>\n",
       "      <td>Humboldt County</td>\n",
       "      <td>Humboldt County Association of Governments</td>\n",
       "      <td>NON-MPO</td>\n",
       "      <td>Humboldt County</td>\n",
       "    </tr>\n",
       "    <tr>\n",
       "      <th>1</th>\n",
       "      <td>44594</td>\n",
       "      <td>ER01</td>\n",
       "      <td>nan</td>\n",
       "      <td>32L0118</td>\n",
       "      <td>0117000181L</td>\n",
       "      <td>MATTOLE ROAD PM 5.00 PERMANENT RESTORATION</td>\n",
       "      <td>23</td>\n",
       "      <td>2</td>\n",
       "      <td>Active</td>\n",
       "      <td>MATTOLE ROAD PM 5.00 PERMANENT RESTORATION</td>\n",
       "      <td>15</td>\n",
       "      <td>Preliminary Engineering</td>\n",
       "      <td>207848.00</td>\n",
       "      <td>184008.19</td>\n",
       "      <td>L5904NON-MPO</td>\n",
       "      <td>5904.0</td>\n",
       "      <td>Humboldt County</td>\n",
       "      <td>1.0</td>\n",
       "      <td>Humboldt County</td>\n",
       "      <td>Humboldt County Association of Governments</td>\n",
       "      <td>NON-MPO</td>\n",
       "      <td>Humboldt County</td>\n",
       "    </tr>\n",
       "    <tr>\n",
       "      <th>2</th>\n",
       "      <td>44594</td>\n",
       "      <td>ER01</td>\n",
       "      <td>nan</td>\n",
       "      <td>32L0118</td>\n",
       "      <td>0117000181L</td>\n",
       "      <td>MATTOLE ROAD PM 5.00 PERMANENT RESTORATION</td>\n",
       "      <td>23</td>\n",
       "      <td>2</td>\n",
       "      <td>Active</td>\n",
       "      <td>MATTOLE ROAD PM 5.00 PERMANENT RESTORATION</td>\n",
       "      <td>17</td>\n",
       "      <td>Construction Engineering</td>\n",
       "      <td>139775.00</td>\n",
       "      <td>123742.50</td>\n",
       "      <td>L5904NON-MPO</td>\n",
       "      <td>5904.0</td>\n",
       "      <td>Humboldt County</td>\n",
       "      <td>1.0</td>\n",
       "      <td>Humboldt County</td>\n",
       "      <td>Humboldt County Association of Governments</td>\n",
       "      <td>NON-MPO</td>\n",
       "      <td>Humboldt County</td>\n",
       "    </tr>\n",
       "    <tr>\n",
       "      <th>3</th>\n",
       "      <td>44594</td>\n",
       "      <td>ER01</td>\n",
       "      <td>nan</td>\n",
       "      <td>4400046</td>\n",
       "      <td>01924731L</td>\n",
       "      <td>ALDERPOINT ROAD PM 40.21 TO 40.70 EMERGENCY RELIEF PR ONLY</td>\n",
       "      <td>23</td>\n",
       "      <td>2</td>\n",
       "      <td>Active</td>\n",
       "      <td>ALDERPOINT ROAD PM 40.21 TO 40.70 EMERGENCY RELIEF PR ONLY</td>\n",
       "      <td>4</td>\n",
       "      <td>4R - No Added Capacity</td>\n",
       "      <td>124980.90</td>\n",
       "      <td>110645.59</td>\n",
       "      <td>L5904NON-MPO</td>\n",
       "      <td>5904.0</td>\n",
       "      <td>Humboldt County</td>\n",
       "      <td>1.0</td>\n",
       "      <td>Humboldt County</td>\n",
       "      <td>Humboldt County Association of Governments</td>\n",
       "      <td>NON-MPO</td>\n",
       "      <td>Humboldt County</td>\n",
       "    </tr>\n",
       "    <tr>\n",
       "      <th>4</th>\n",
       "      <td>44594</td>\n",
       "      <td>ER01</td>\n",
       "      <td>nan</td>\n",
       "      <td>4400046</td>\n",
       "      <td>01924731L</td>\n",
       "      <td>ALDERPOINT ROAD PM 40.21 TO 40.70 EMERGENCY RELIEF PR ONLY</td>\n",
       "      <td>23</td>\n",
       "      <td>2</td>\n",
       "      <td>Active</td>\n",
       "      <td>ALDERPOINT ROAD PM 40.21 TO 40.70 EMERGENCY RELIEF PR ONLY</td>\n",
       "      <td>15</td>\n",
       "      <td>Preliminary Engineering</td>\n",
       "      <td>831.49</td>\n",
       "      <td>736.11</td>\n",
       "      <td>L5904NON-MPO</td>\n",
       "      <td>5904.0</td>\n",
       "      <td>Humboldt County</td>\n",
       "      <td>1.0</td>\n",
       "      <td>Humboldt County</td>\n",
       "      <td>Humboldt County Association of Governments</td>\n",
       "      <td>NON-MPO</td>\n",
       "      <td>Humboldt County</td>\n",
       "    </tr>\n",
       "  </tbody>\n",
       "</table>\n",
       "</div>"
      ],
      "text/plain": [
       "   fmis_transaction_date program_code program_code_description project_number  \\\n",
       "0                  44594         ER01                      nan        32L0118   \n",
       "1                  44594         ER01                      nan        32L0118   \n",
       "2                  44594         ER01                      nan        32L0118   \n",
       "3                  44594         ER01                      nan        4400046   \n",
       "4                  44594         ER01                      nan        4400046   \n",
       "\n",
       "  recipient_project_number  \\\n",
       "0              0117000181L   \n",
       "1              0117000181L   \n",
       "2              0117000181L   \n",
       "3                01924731L   \n",
       "4                01924731L   \n",
       "\n",
       "                                                project_title county_code  \\\n",
       "0                  MATTOLE ROAD PM 5.00 PERMANENT RESTORATION          23   \n",
       "1                  MATTOLE ROAD PM 5.00 PERMANENT RESTORATION          23   \n",
       "2                  MATTOLE ROAD PM 5.00 PERMANENT RESTORATION          23   \n",
       "3  ALDERPOINT ROAD PM 40.21 TO 40.70 EMERGENCY RELIEF PR ONLY          23   \n",
       "4  ALDERPOINT ROAD PM 40.21 TO 40.70 EMERGENCY RELIEF PR ONLY          23   \n",
       "\n",
       "  congressional_district project_status_description  \\\n",
       "0                      2                     Active   \n",
       "1                      2                     Active   \n",
       "2                      2                     Active   \n",
       "3                      2                     Active   \n",
       "4                      2                     Active   \n",
       "\n",
       "                                          project_description  \\\n",
       "0                  MATTOLE ROAD PM 5.00 PERMANENT RESTORATION   \n",
       "1                  MATTOLE ROAD PM 5.00 PERMANENT RESTORATION   \n",
       "2                  MATTOLE ROAD PM 5.00 PERMANENT RESTORATION   \n",
       "3  ALDERPOINT ROAD PM 40.21 TO 40.70 EMERGENCY RELIEF PR ONLY   \n",
       "4  ALDERPOINT ROAD PM 40.21 TO 40.70 EMERGENCY RELIEF PR ONLY   \n",
       "\n",
       "  improvement_type improvement_type_description  total_cost_amount  \\\n",
       "0                4       4R - No Added Capacity           68757.00   \n",
       "1               15      Preliminary Engineering          207848.00   \n",
       "2               17     Construction Engineering          139775.00   \n",
       "3                4       4R - No Added Capacity          124980.90   \n",
       "4               15      Preliminary Engineering             831.49   \n",
       "\n",
       "   obligations_amount summary_recipient_defined_text_field_1_value  \\\n",
       "0            60870.23                                 L5904NON-MPO   \n",
       "1           184008.19                                 L5904NON-MPO   \n",
       "2           123742.50                                 L5904NON-MPO   \n",
       "3           110645.59                                 L5904NON-MPO   \n",
       "4              736.11                                 L5904NON-MPO   \n",
       "\n",
       "  implementing_agency_locode implementing_agency district      county_name  \\\n",
       "0                     5904.0     Humboldt County      1.0  Humboldt County   \n",
       "1                     5904.0     Humboldt County      1.0  Humboldt County   \n",
       "2                     5904.0     Humboldt County      1.0  Humboldt County   \n",
       "3                     5904.0     Humboldt County      1.0  Humboldt County   \n",
       "4                     5904.0     Humboldt County      1.0  Humboldt County   \n",
       "\n",
       "                                    rtpa_name mpo_name county_name_title  \n",
       "0  Humboldt County Association of Governments  NON-MPO   Humboldt County  \n",
       "1  Humboldt County Association of Governments  NON-MPO   Humboldt County  \n",
       "2  Humboldt County Association of Governments  NON-MPO   Humboldt County  \n",
       "3  Humboldt County Association of Governments  NON-MPO   Humboldt County  \n",
       "4  Humboldt County Association of Governments  NON-MPO   Humboldt County  "
      ]
     },
     "execution_count": 47,
     "metadata": {},
     "output_type": "execute_result"
    }
   ],
   "source": [
    "df.head()"
   ]
  },
  {
   "cell_type": "markdown",
   "id": "c816f2c5-4559-4ee7-ab5e-5642d4f5d732",
   "metadata": {
    "jp-MarkdownHeadingCollapsed": true,
    "tags": []
   },
   "source": [
    "##### Check titles\n",
    "moved to `_script_utils`"
   ]
  },
  {
   "cell_type": "code",
   "execution_count": 48,
   "id": "0c8494a6-0e98-4a6d-978e-25b626b225d9",
   "metadata": {
    "scrolled": true,
    "tags": []
   },
   "outputs": [],
   "source": [
    "# sorted(list(agg.project_title_new.unique()))"
   ]
  },
  {
   "cell_type": "code",
   "execution_count": 49,
   "id": "747f8dea-7f25-4f3f-b041-7dcde65d02d3",
   "metadata": {},
   "outputs": [],
   "source": [
    "# agg>>filter(_.implementing_agency.str.contains(\"California\"))"
   ]
  },
  {
   "cell_type": "code",
   "execution_count": 50,
   "id": "7fb08db8-d87c-4cfc-b78b-756adb2a90dd",
   "metadata": {},
   "outputs": [],
   "source": [
    "# agg>>filter(_.project_title_new.str.contains(\"Caltrans\"))"
   ]
  },
  {
   "cell_type": "code",
   "execution_count": 51,
   "id": "439c7fec-b657-4abe-9339-7b4c266dc270",
   "metadata": {},
   "outputs": [],
   "source": [
    "# len(agg)"
   ]
  },
  {
   "cell_type": "code",
   "execution_count": 52,
   "id": "388a2112-cc55-46cd-8fa1-941fadb70f13",
   "metadata": {},
   "outputs": [],
   "source": [
    "# agg = utils.title_column_names(agg)"
   ]
  },
  {
   "cell_type": "code",
   "execution_count": 53,
   "id": "34a4b598-72fc-4f2c-b9bc-97e2d0beb640",
   "metadata": {},
   "outputs": [],
   "source": [
    "# agg.to_csv(f\"{GCS_FILE_PATH}/IIJA_FMIS_AllProject_20230315_ToDLA_agg.csv\")"
   ]
  },
  {
   "cell_type": "code",
   "execution_count": null,
   "id": "deaaca55-60b4-4e16-9ec1-ee32ec3a44da",
   "metadata": {},
   "outputs": [],
   "source": []
  },
  {
   "cell_type": "code",
   "execution_count": 54,
   "id": "3c0b9e81-97dc-4a86-bb83-511b71921a4a",
   "metadata": {},
   "outputs": [],
   "source": [
    "###test full. PASS title, no concat and 1241 rows\n",
    "# full = utils.get_clean_data(df, full_or_agg = 'full')"
   ]
  },
  {
   "cell_type": "code",
   "execution_count": 55,
   "id": "744f085e-5578-42c9-85f1-444f7b7a24f1",
   "metadata": {},
   "outputs": [],
   "source": [
    "# full = utils.title_column_names(full)"
   ]
  },
  {
   "cell_type": "code",
   "execution_count": 56,
   "id": "c5c6d5bb-7c60-4c70-ab20-8483d6bff093",
   "metadata": {},
   "outputs": [],
   "source": [
    "# full.to_csv(f\"{GCS_FILE_PATH}/FMIS_Projects_Universe_IIJA_Reporting_3-9-23_all.csv\")"
   ]
  },
  {
   "cell_type": "code",
   "execution_count": null,
   "id": "2e7e70af-7efb-4851-94ba-8292ff18cb6e",
   "metadata": {},
   "outputs": [],
   "source": []
  },
  {
   "cell_type": "code",
   "execution_count": 57,
   "id": "a7ec7b13-73a9-40b0-b8f6-cc40daffbf65",
   "metadata": {},
   "outputs": [],
   "source": [
    "# agg = to_snakecase(agg)"
   ]
  },
  {
   "cell_type": "code",
   "execution_count": 58,
   "id": "e8e6c0b3-2f6f-4b10-a59a-a6bb205418d7",
   "metadata": {},
   "outputs": [],
   "source": [
    "# test_df = agg>>filter(_.implementing_agency.str.contains('Unknown')\n",
    "                      # | _.implementing_agency.str.contains(\"Caltrans\")\n",
    "                     # )"
   ]
  },
  {
   "cell_type": "code",
   "execution_count": 59,
   "id": "e113ddeb-6d49-4a92-87f4-11f80917aac9",
   "metadata": {},
   "outputs": [],
   "source": [
    "# test_df.sample()"
   ]
  },
  {
   "cell_type": "code",
   "execution_count": null,
   "id": "51c338dd-5c03-4e8c-8d43-060cd47fa111",
   "metadata": {},
   "outputs": [],
   "source": []
  },
  {
   "cell_type": "code",
   "execution_count": 60,
   "id": "7b3c67e9-7ee8-4915-a775-7080f3a30b54",
   "metadata": {},
   "outputs": [],
   "source": [
    "# locodes = to_snakecase(pd.read_excel(f\"gs://calitp-analytics-data/data-analyses/dla/e-76Obligated/locodes_updated7122021.xlsx\"))"
   ]
  },
  {
   "cell_type": "code",
   "execution_count": 61,
   "id": "ee38eb8c-26e7-4df2-8b5f-7f2de4985c6f",
   "metadata": {},
   "outputs": [],
   "source": [
    "# locodes['agency_name'] = locodes['agency_name'].str.upper()"
   ]
  },
  {
   "cell_type": "code",
   "execution_count": 62,
   "id": "3ce7c27a-1279-4f93-9fbe-c7799352ffb8",
   "metadata": {},
   "outputs": [],
   "source": [
    "# locode_names = sorted(list(locodes['agency_name'].unique()), reverse=True)"
   ]
  },
  {
   "cell_type": "code",
   "execution_count": 63,
   "id": "baa02783-d514-4a12-bb54-722dd1706a0a",
   "metadata": {},
   "outputs": [],
   "source": [
    "# locode_names.remove('ROSS')"
   ]
  },
  {
   "cell_type": "code",
   "execution_count": 64,
   "id": "f2ed8ae3-5748-4a4f-a5e8-a7b1c061649f",
   "metadata": {},
   "outputs": [],
   "source": [
    "# locode_names.append(\"State Parks\")"
   ]
  },
  {
   "cell_type": "code",
   "execution_count": 65,
   "id": "76ee8b48-b84a-4dec-a21e-b05b6239cac5",
   "metadata": {
    "scrolled": true,
    "tags": []
   },
   "outputs": [],
   "source": [
    "# locode_names"
   ]
  },
  {
   "cell_type": "code",
   "execution_count": 66,
   "id": "8a03abbc-f421-4539-bce9-4d87243b0b05",
   "metadata": {},
   "outputs": [],
   "source": [
    "# pattern = '|'.join(locode_names)"
   ]
  },
  {
   "cell_type": "code",
   "execution_count": 67,
   "id": "d7124c59-145c-492f-b3bd-acb08ef9bf3e",
   "metadata": {},
   "outputs": [],
   "source": [
    "# test_df.project_title.str.contains(pattern)"
   ]
  },
  {
   "cell_type": "code",
   "execution_count": null,
   "id": "3f832934-f42e-46cc-8490-f105eabd9975",
   "metadata": {},
   "outputs": [],
   "source": []
  },
  {
   "cell_type": "code",
   "execution_count": null,
   "id": "1a481883-cda0-42fc-b87c-e3e2a247dc3e",
   "metadata": {},
   "outputs": [],
   "source": []
  },
  {
   "cell_type": "code",
   "execution_count": 68,
   "id": "c5199401-0f22-4f9c-b34f-36a3f4325f1a",
   "metadata": {},
   "outputs": [],
   "source": [
    "### https://stackoverflow.com/questions/68869434/create-an-pandas-column-if-a-string-from-a-list-matches-from-another-column\n",
    "#test_df[\"agencies_found\"] = test_df[\"project_title\"].apply(lambda x: next((a for a in locode_names if a in x), \"\"))\n",
    "# test_df[\"agencies_found2\"] = test_df[\"project_title\"].map(lambda s: next((name for name in locode_names if name in s), np.nan))"
   ]
  },
  {
   "cell_type": "code",
   "execution_count": 69,
   "id": "221ef1fc-2995-4beb-bac5-986154bf024e",
   "metadata": {},
   "outputs": [],
   "source": [
    "# test_df[\"agencies_found2\"] = test_df[\"agencies_found2\"].str.title()"
   ]
  },
  {
   "cell_type": "code",
   "execution_count": 70,
   "id": "16daf29e-95ed-4362-a1bb-70a820d53eca",
   "metadata": {},
   "outputs": [],
   "source": [
    "# test_df"
   ]
  },
  {
   "cell_type": "code",
   "execution_count": null,
   "id": "74a5f1e9-2a3f-4ff6-a3a1-f9837b2aa544",
   "metadata": {},
   "outputs": [],
   "source": []
  },
  {
   "cell_type": "code",
   "execution_count": null,
   "id": "bfafd705-be42-4d56-a0d7-4a2e6d01b414",
   "metadata": {},
   "outputs": [],
   "source": []
  },
  {
   "cell_type": "code",
   "execution_count": 71,
   "id": "02e0598b-fcf5-4702-b18b-4413f2866d14",
   "metadata": {},
   "outputs": [],
   "source": [
    "# agg>>filter(_[\"Project Title New\"].str.contains('Unknown'))"
   ]
  },
  {
   "cell_type": "code",
   "execution_count": 72,
   "id": "3a196eec-2810-4b83-8c39-c8040954b81f",
   "metadata": {},
   "outputs": [],
   "source": [
    "# agg>>filter(_[\"implementing_agency\"].str.contains('Unknown'))"
   ]
  },
  {
   "cell_type": "code",
   "execution_count": null,
   "id": "c69a7f55-d52c-457f-a497-8c91dedfae35",
   "metadata": {},
   "outputs": [],
   "source": []
  },
  {
   "cell_type": "markdown",
   "id": "38b3157d-2fa4-4924-893c-52e14c10d04b",
   "metadata": {},
   "source": [
    "### Next"
   ]
  },
  {
   "cell_type": "code",
   "execution_count": null,
   "id": "2da44efa-d20c-49ca-a15e-39317a835695",
   "metadata": {},
   "outputs": [],
   "source": []
  },
  {
   "cell_type": "code",
   "execution_count": null,
   "id": "8648d690-b83e-4de2-9c21-27f59f11dcb4",
   "metadata": {},
   "outputs": [],
   "source": []
  }
 ],
 "metadata": {
  "kernelspec": {
   "display_name": "Python 3 (ipykernel)",
   "language": "python",
   "name": "python3"
  },
  "language_info": {
   "codemirror_mode": {
    "name": "ipython",
    "version": 3
   },
   "file_extension": ".py",
   "mimetype": "text/x-python",
   "name": "python",
   "nbconvert_exporter": "python",
   "pygments_lexer": "ipython3",
   "version": "3.9.13"
  },
  "widgets": {
   "application/vnd.jupyter.widget-state+json": {
    "state": {},
    "version_major": 2,
    "version_minor": 0
   }
  }
 },
 "nbformat": 4,
 "nbformat_minor": 5
}
