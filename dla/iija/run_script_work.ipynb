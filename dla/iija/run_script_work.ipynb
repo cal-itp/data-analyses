{
 "cells": [
  {
   "cell_type": "markdown",
   "id": "3c31cd6d-91cd-4b4e-8fd0-9a6ed076e95b",
   "metadata": {},
   "source": [
    "# Run Functions to Add Information to Projects"
   ]
  },
  {
   "cell_type": "code",
   "execution_count": 1,
   "id": "4f7d6f92-bab6-4b65-a27f-0bf2ced226af",
   "metadata": {},
   "outputs": [],
   "source": [
    "# ! pip install nltk"
   ]
  },
  {
   "cell_type": "code",
   "execution_count": 1,
   "id": "427ef3d1-a937-483e-bcb5-68e377dd4f35",
   "metadata": {},
   "outputs": [
    {
     "name": "stderr",
     "output_type": "stream",
     "text": [
      "/opt/conda/lib/python3.9/site-packages/geopandas/_compat.py:123: UserWarning: The Shapely GEOS version (3.11.1-CAPI-1.17.1) is incompatible with the GEOS version PyGEOS was compiled with (3.10.1-CAPI-1.16.0). Conversions between both will be slow.\n",
      "  warnings.warn(\n",
      "/opt/conda/lib/python3.9/site-packages/dask_geopandas/backends.py:13: UserWarning: Shapely 2.0 is installed, but because PyGEOS is also installed, GeoPandas will still use PyGEOS by default for now. To force to use and test Shapely 2.0, you have to set the environment variable USE_PYGEOS=0. You can do this before starting the Python process, or in your code before importing geopandas:\n",
      "\n",
      "import os\n",
      "os.environ['USE_PYGEOS'] = '0'\n",
      "import geopandas\n",
      "\n",
      "In a future release, GeoPandas will switch to using Shapely by default. If you are using PyGEOS directly (calling PyGEOS functions on geometries from GeoPandas), this will then stop working and you are encouraged to migrate from PyGEOS to Shapely 2.0 (https://shapely.readthedocs.io/en/latest/migration_pygeos.html).\n",
      "  import geopandas\n"
     ]
    }
   ],
   "source": [
    "import numpy as np\n",
    "import pandas as pd\n",
    "from siuba import *\n",
    "\n",
    "from calitp_data_analysis.sql import to_snakecase\n",
    "\n",
    "from shared_utils import geography_utils\n",
    "\n",
    "import dla_utils\n",
    "\n",
    "import _script_utils\n",
    "import _data_utils"
   ]
  },
  {
   "cell_type": "code",
   "execution_count": 2,
   "id": "ce77f2af-baa1-4cc7-ad1a-64ec8d12e0e9",
   "metadata": {},
   "outputs": [],
   "source": [
    "pd.set_option(\"display.max_columns\", 100)\n",
    "pd.set_option('display.max_colwidth', None)"
   ]
  },
  {
   "cell_type": "markdown",
   "id": "899b931a-6a2c-479c-8db1-85f5e5e0eb27",
   "metadata": {
    "tags": []
   },
   "source": [
    "## Read in Data and function development"
   ]
  },
  {
   "cell_type": "code",
   "execution_count": 3,
   "id": "50c0f7c4-0c73-47d8-b56e-2ae9111e248f",
   "metadata": {},
   "outputs": [],
   "source": [
    "GCS_FILE_PATH  = 'gs://calitp-analytics-data/data-analyses/dla/dla-iija'"
   ]
  },
  {
   "cell_type": "code",
   "execution_count": 5,
   "id": "76dfb597-1b93-4c99-86f2-df613ed7cabb",
   "metadata": {
    "jupyter": {
     "source_hidden": true
    },
    "tags": []
   },
   "outputs": [],
   "source": [
    "### Read in data (First round)\n",
    "# proj = to_snakecase(pd.read_excel(f\"{GCS_FILE_PATH}/FMIS_Projects_Universe_(IIJA_Reporting)_ (3-9-23).xlsx\", header=[3], skiprows=range(4,1784)))\n",
    "# proj.drop(columns =['unnamed:_0'], axis=1, inplace=True)\n",
    "# proj['summary_recipient_defined_text_field_1_value'] = proj['summary_recipient_defined_text_field_1_value'].fillna(value='None')\n"
   ]
  },
  {
   "cell_type": "code",
   "execution_count": 4,
   "id": "b162a697-904a-4628-a335-d6f74beed233",
   "metadata": {},
   "outputs": [],
   "source": [
    "proj = to_snakecase(pd.read_excel(f\"{GCS_FILE_PATH}/IIJA_FMIS_AllProject_20230309_ToDLA.xlsx\",))\n"
   ]
  },
  {
   "cell_type": "code",
   "execution_count": 5,
   "id": "755c2f52-1bc6-4cae-9162-ae8b9d10d76a",
   "metadata": {},
   "outputs": [
    {
     "data": {
      "text/html": [
       "<div>\n",
       "<style scoped>\n",
       "    .dataframe tbody tr th:only-of-type {\n",
       "        vertical-align: middle;\n",
       "    }\n",
       "\n",
       "    .dataframe tbody tr th {\n",
       "        vertical-align: top;\n",
       "    }\n",
       "\n",
       "    .dataframe thead th {\n",
       "        text-align: right;\n",
       "    }\n",
       "</style>\n",
       "<table border=\"1\" class=\"dataframe\">\n",
       "  <thead>\n",
       "    <tr style=\"text-align: right;\">\n",
       "      <th></th>\n",
       "      <th>fmis_transaction_date</th>\n",
       "      <th>program_code</th>\n",
       "      <th>program_code_description</th>\n",
       "      <th>project_number</th>\n",
       "      <th>recipient_project_number</th>\n",
       "      <th>project_title</th>\n",
       "      <th>county_code</th>\n",
       "      <th>congressional_district</th>\n",
       "      <th>project_status_description</th>\n",
       "      <th>project_description</th>\n",
       "      <th>improvement_type</th>\n",
       "      <th>improvement_type_description</th>\n",
       "      <th>total_cost_amount</th>\n",
       "      <th>obligations_amount</th>\n",
       "      <th>summary_recipient_defined_text_field_1_value</th>\n",
       "    </tr>\n",
       "  </thead>\n",
       "  <tbody>\n",
       "    <tr>\n",
       "      <th>1103</th>\n",
       "      <td>44805</td>\n",
       "      <td>YS30</td>\n",
       "      <td>HIGHWAY SAFETY IMP PROG IIJA</td>\n",
       "      <td>X071074</td>\n",
       "      <td>0820000042S</td>\n",
       "      <td>IN SAN BERNARDINO COUNTY AT VARIOUS LOCATIONS THERMOPLASITC TRAFFIC STRIPING, PAVEMENT MARKINGS, AND ROADSIDE SIGNS AT 42 RAMPS</td>\n",
       "      <td>71</td>\n",
       "      <td>Cong Dist 39</td>\n",
       "      <td>Active</td>\n",
       "      <td>ON STATE ROUTE: 10. IN SAN BERNARDINO COUNTY AT VARIOUS LOCATIONS THERMOPLASITC TRAFFIC STRIPING, PAVEMENT MARKINGS, AND ROADSIDE SIGNS AT 42 RAMPS</td>\n",
       "      <td>17</td>\n",
       "      <td>Construction Engineering</td>\n",
       "      <td>397547.36</td>\n",
       "      <td>397547.36</td>\n",
       "      <td>S    SCAG</td>\n",
       "    </tr>\n",
       "  </tbody>\n",
       "</table>\n",
       "</div>"
      ],
      "text/plain": [
       "      fmis_transaction_date program_code      program_code_description  \\\n",
       "1103                  44805         YS30  HIGHWAY SAFETY IMP PROG IIJA   \n",
       "\n",
       "     project_number recipient_project_number  \\\n",
       "1103        X071074              0820000042S   \n",
       "\n",
       "                                                                                                                        project_title  \\\n",
       "1103  IN SAN BERNARDINO COUNTY AT VARIOUS LOCATIONS THERMOPLASITC TRAFFIC STRIPING, PAVEMENT MARKINGS, AND ROADSIDE SIGNS AT 42 RAMPS   \n",
       "\n",
       "      county_code congressional_district project_status_description  \\\n",
       "1103           71           Cong Dist 39                     Active   \n",
       "\n",
       "                                                                                                                                      project_description  \\\n",
       "1103  ON STATE ROUTE: 10. IN SAN BERNARDINO COUNTY AT VARIOUS LOCATIONS THERMOPLASITC TRAFFIC STRIPING, PAVEMENT MARKINGS, AND ROADSIDE SIGNS AT 42 RAMPS   \n",
       "\n",
       "      improvement_type improvement_type_description  total_cost_amount  \\\n",
       "1103                17     Construction Engineering          397547.36   \n",
       "\n",
       "      obligations_amount summary_recipient_defined_text_field_1_value  \n",
       "1103           397547.36                                    S    SCAG  "
      ]
     },
     "execution_count": 5,
     "metadata": {},
     "output_type": "execute_result"
    }
   ],
   "source": [
    "proj.sample()"
   ]
  },
  {
   "cell_type": "code",
   "execution_count": 6,
   "id": "9db224c2-2428-47dc-b5e5-3dc995f07533",
   "metadata": {},
   "outputs": [],
   "source": [
    "# proj.congressional_district."
   ]
  },
  {
   "cell_type": "code",
   "execution_count": 7,
   "id": "19c74f67-6479-485e-b814-a8e0cc4b239f",
   "metadata": {},
   "outputs": [],
   "source": [
    "## move to _data_utils\n",
    "# def add_new_codes(df):\n",
    "#     new_codes = to_snakecase(pd.read_excel(f\"{GCS_FILE_PATH}/FY21-22ProgramCodesAsOf5-25-2022.v2.xlsx\"))\n",
    "#     code_map = dict(new_codes[['iija_program_code', 'new_description']].values)\n",
    "    \n",
    "#     df['program_code_description'] = df.program_code.map(code_map)\n",
    "#     proj['summary_recipient_defined_text_field_1_value'] = proj['summary_recipient_defined_text_field_1_value'].astype(str)\n",
    "    \n",
    "#     return df\n"
   ]
  },
  {
   "cell_type": "code",
   "execution_count": 8,
   "id": "283ad365-2a24-4ee6-b734-34cf44819b05",
   "metadata": {},
   "outputs": [],
   "source": [
    "proj = _data_utils.add_new_codes(proj)"
   ]
  },
  {
   "cell_type": "code",
   "execution_count": 9,
   "id": "88075960-a5f8-4214-abd3-5f626c12ef47",
   "metadata": {},
   "outputs": [],
   "source": [
    "\n",
    "# df = utils.read_data_all()\n",
    "    \n",
    "    ## function that adds known agency name to df \n",
    "df = _script_utils.identify_agency(proj, 'summary_recipient_defined_text_field_1_value')"
   ]
  },
  {
   "cell_type": "code",
   "execution_count": 10,
   "id": "2680906d-2a02-4f51-bd13-1634e9c6346f",
   "metadata": {},
   "outputs": [
    {
     "data": {
      "text/html": [
       "<div>\n",
       "<style scoped>\n",
       "    .dataframe tbody tr th:only-of-type {\n",
       "        vertical-align: middle;\n",
       "    }\n",
       "\n",
       "    .dataframe tbody tr th {\n",
       "        vertical-align: top;\n",
       "    }\n",
       "\n",
       "    .dataframe thead th {\n",
       "        text-align: right;\n",
       "    }\n",
       "</style>\n",
       "<table border=\"1\" class=\"dataframe\">\n",
       "  <thead>\n",
       "    <tr style=\"text-align: right;\">\n",
       "      <th></th>\n",
       "      <th>fmis_transaction_date</th>\n",
       "      <th>program_code</th>\n",
       "      <th>program_code_description</th>\n",
       "      <th>project_number</th>\n",
       "      <th>recipient_project_number</th>\n",
       "      <th>project_title</th>\n",
       "      <th>county_code</th>\n",
       "      <th>congressional_district</th>\n",
       "      <th>project_status_description</th>\n",
       "      <th>project_description</th>\n",
       "      <th>improvement_type</th>\n",
       "      <th>improvement_type_description</th>\n",
       "      <th>total_cost_amount</th>\n",
       "      <th>obligations_amount</th>\n",
       "      <th>summary_recipient_defined_text_field_1_value</th>\n",
       "      <th>implementing_agency_locode</th>\n",
       "      <th>implementing_agency</th>\n",
       "      <th>district</th>\n",
       "      <th>county_name</th>\n",
       "      <th>rtpa_name</th>\n",
       "      <th>mpo_name</th>\n",
       "    </tr>\n",
       "  </thead>\n",
       "  <tbody>\n",
       "    <tr>\n",
       "      <th>45</th>\n",
       "      <td>44588</td>\n",
       "      <td>ER01</td>\n",
       "      <td>NaN</td>\n",
       "      <td>31SU004</td>\n",
       "      <td>0518000114S</td>\n",
       "      <td>MONTEREY COUNTY NEAR LITTLE SUR RIVER FROM 0.4 MILE SOUTH OF LITTLE SUR RIVER BRIDGE TO 0.2 MILE SOUTH OF LITTLE SUR RIVER BRIDGE PERMANENT RESTORATI</td>\n",
       "      <td>53</td>\n",
       "      <td>Cong Dist 20</td>\n",
       "      <td>Active</td>\n",
       "      <td>ON STATE ROUTE: 1. MONTEREY COUNTY NEAR LITTLE SUR RIVER FROM 0.4 MILE SOUTH OF LITTLE SUR RIVER BRIDGE TO 0.2 MILE SOUTH OF LITTLE SUR RIVER BRIDGE PERMANENT RESTORATION: CONSTRUCT EARTH RETAINING SYSTEM, RESTORE ROADWAY AND FACILITIES</td>\n",
       "      <td>6</td>\n",
       "      <td>4R - Restoration &amp; Rehabilitation</td>\n",
       "      <td>1865000.0</td>\n",
       "      <td>1578500.00</td>\n",
       "      <td>S    AMBAG</td>\n",
       "      <td>NaN</td>\n",
       "      <td>California</td>\n",
       "      <td>5.0</td>\n",
       "      <td>Monterey County</td>\n",
       "      <td>NaN</td>\n",
       "      <td>NaN</td>\n",
       "    </tr>\n",
       "    <tr>\n",
       "      <th>592</th>\n",
       "      <td>44812</td>\n",
       "      <td>YS30</td>\n",
       "      <td>Highway Safety Improvement Program (HSIP)</td>\n",
       "      <td>5953756</td>\n",
       "      <td>0717000287L</td>\n",
       "      <td>OLYMPIC BLVD / GARFIELD AVE &amp; WHITTIER BLVD / EASTERN AVE INTERSECTIONS IN EAST LOS ANGELES EAST LA TRAFFIC SIGNAL SAFETY PROJECT PHASE I:  TRAFFIC S</td>\n",
       "      <td>37</td>\n",
       "      <td>Cong Dist 40</td>\n",
       "      <td>Active</td>\n",
       "      <td>OLYMPIC BLVD / GARFIELD AVE &amp; WHITTIER BLVD / EASTERN AVE INTERSECTIONS IN EAST LOS ANGELES EAST LA TRAFFIC SIGNAL SAFETY PROJECT PHASE I:  TRAFFIC SIGNAL IMPROVEMENTS INCL. UPGRADING STANDARDS, MASTARMS, VEHICLE HEADS, PROTECTED LEFT TURN PHASING, ADA RAMPS, COMMUNICATION &amp; ASSOCIATED EQUIPMENTS.</td>\n",
       "      <td>21</td>\n",
       "      <td>Safety</td>\n",
       "      <td>1077104.6</td>\n",
       "      <td>545043.48</td>\n",
       "      <td>L5953SCAG</td>\n",
       "      <td>5953.0</td>\n",
       "      <td>Los Angeles County</td>\n",
       "      <td>7.0</td>\n",
       "      <td>Los Angeles County</td>\n",
       "      <td>Los Angeles County Metropolitan Transportation Auth.</td>\n",
       "      <td>Southern California Association Of Governments</td>\n",
       "    </tr>\n",
       "    <tr>\n",
       "      <th>1432</th>\n",
       "      <td>44826</td>\n",
       "      <td>Y450</td>\n",
       "      <td>Metropolitan Planning Program</td>\n",
       "      <td>0010200</td>\n",
       "      <td>0022000345S</td>\n",
       "      <td>OWP 22/23 -MERCED COUNTY REGION CONSOLIDATED PLANNING GRANT (CPG) PROJECT FOR MERCED COUNTY ASSOCIATION OF GOVERNMENTS (MCAG) OVERALL WORK PROGRAM (O</td>\n",
       "      <td>999</td>\n",
       "      <td>Cong Dist 0</td>\n",
       "      <td>Active</td>\n",
       "      <td>OWP 22/23 -MERCED COUNTY REGION CONSOLIDATED PLANNING GRANT (CPG) PROJECT FOR MERCED COUNTY ASSOCIATION OF GOVERNMENTS (MCAG) OVERALL WORK PROGRAM (OWP) FOR FISCAL YEAR 2022/2023 (TC)</td>\n",
       "      <td>18</td>\n",
       "      <td>Planning</td>\n",
       "      <td>956173.0</td>\n",
       "      <td>956173.00</td>\n",
       "      <td>S    MCAG</td>\n",
       "      <td>NaN</td>\n",
       "      <td>California</td>\n",
       "      <td>NaN</td>\n",
       "      <td>Statewide</td>\n",
       "      <td>NaN</td>\n",
       "      <td>NaN</td>\n",
       "    </tr>\n",
       "  </tbody>\n",
       "</table>\n",
       "</div>"
      ],
      "text/plain": [
       "      fmis_transaction_date program_code  \\\n",
       "45                    44588         ER01   \n",
       "592                   44812         YS30   \n",
       "1432                  44826         Y450   \n",
       "\n",
       "                       program_code_description project_number  \\\n",
       "45                                          NaN        31SU004   \n",
       "592   Highway Safety Improvement Program (HSIP)        5953756   \n",
       "1432              Metropolitan Planning Program        0010200   \n",
       "\n",
       "     recipient_project_number  \\\n",
       "45                0518000114S   \n",
       "592               0717000287L   \n",
       "1432              0022000345S   \n",
       "\n",
       "                                                                                                                                              project_title  \\\n",
       "45    MONTEREY COUNTY NEAR LITTLE SUR RIVER FROM 0.4 MILE SOUTH OF LITTLE SUR RIVER BRIDGE TO 0.2 MILE SOUTH OF LITTLE SUR RIVER BRIDGE PERMANENT RESTORATI   \n",
       "592   OLYMPIC BLVD / GARFIELD AVE & WHITTIER BLVD / EASTERN AVE INTERSECTIONS IN EAST LOS ANGELES EAST LA TRAFFIC SIGNAL SAFETY PROJECT PHASE I:  TRAFFIC S   \n",
       "1432  OWP 22/23 -MERCED COUNTY REGION CONSOLIDATED PLANNING GRANT (CPG) PROJECT FOR MERCED COUNTY ASSOCIATION OF GOVERNMENTS (MCAG) OVERALL WORK PROGRAM (O   \n",
       "\n",
       "      county_code congressional_district project_status_description  \\\n",
       "45             53           Cong Dist 20                     Active   \n",
       "592            37           Cong Dist 40                     Active   \n",
       "1432          999            Cong Dist 0                     Active   \n",
       "\n",
       "                                                                                                                                                                                                                                                                                             project_description  \\\n",
       "45                                                                  ON STATE ROUTE: 1. MONTEREY COUNTY NEAR LITTLE SUR RIVER FROM 0.4 MILE SOUTH OF LITTLE SUR RIVER BRIDGE TO 0.2 MILE SOUTH OF LITTLE SUR RIVER BRIDGE PERMANENT RESTORATION: CONSTRUCT EARTH RETAINING SYSTEM, RESTORE ROADWAY AND FACILITIES   \n",
       "592   OLYMPIC BLVD / GARFIELD AVE & WHITTIER BLVD / EASTERN AVE INTERSECTIONS IN EAST LOS ANGELES EAST LA TRAFFIC SIGNAL SAFETY PROJECT PHASE I:  TRAFFIC SIGNAL IMPROVEMENTS INCL. UPGRADING STANDARDS, MASTARMS, VEHICLE HEADS, PROTECTED LEFT TURN PHASING, ADA RAMPS, COMMUNICATION & ASSOCIATED EQUIPMENTS.   \n",
       "1432                                                                                                                     OWP 22/23 -MERCED COUNTY REGION CONSOLIDATED PLANNING GRANT (CPG) PROJECT FOR MERCED COUNTY ASSOCIATION OF GOVERNMENTS (MCAG) OVERALL WORK PROGRAM (OWP) FOR FISCAL YEAR 2022/2023 (TC)   \n",
       "\n",
       "      improvement_type       improvement_type_description  total_cost_amount  \\\n",
       "45                   6  4R - Restoration & Rehabilitation          1865000.0   \n",
       "592                 21                             Safety          1077104.6   \n",
       "1432                18                          Planning            956173.0   \n",
       "\n",
       "      obligations_amount summary_recipient_defined_text_field_1_value  \\\n",
       "45            1578500.00                                   S    AMBAG   \n",
       "592            545043.48                                    L5953SCAG   \n",
       "1432           956173.00                                    S    MCAG   \n",
       "\n",
       "      implementing_agency_locode implementing_agency  district  \\\n",
       "45                           NaN          California       5.0   \n",
       "592                       5953.0  Los Angeles County       7.0   \n",
       "1432                         NaN          California       NaN   \n",
       "\n",
       "             county_name  \\\n",
       "45       Monterey County   \n",
       "592   Los Angeles County   \n",
       "1432           Statewide   \n",
       "\n",
       "                                                 rtpa_name  \\\n",
       "45                                                     NaN   \n",
       "592   Los Angeles County Metropolitan Transportation Auth.   \n",
       "1432                                                   NaN   \n",
       "\n",
       "                                            mpo_name  \n",
       "45                                               NaN  \n",
       "592   Southern California Association Of Governments  \n",
       "1432                                             NaN  "
      ]
     },
     "execution_count": 10,
     "metadata": {},
     "output_type": "execute_result"
    }
   ],
   "source": [
    "df.sample(3)"
   ]
  },
  {
   "cell_type": "markdown",
   "id": "88a22851-1e1a-43e7-b8f4-c422b5f3b26b",
   "metadata": {
    "jp-MarkdownHeadingCollapsed": true,
    "tags": []
   },
   "source": [
    "##### Check unknowns"
   ]
  },
  {
   "cell_type": "code",
   "execution_count": null,
   "id": "84edc64a-a9c4-4270-9b4b-e57347bbec68",
   "metadata": {},
   "outputs": [],
   "source": [
    "len(df>>filter(_.implementing_agency=='Unknown'))"
   ]
  },
  {
   "cell_type": "code",
   "execution_count": null,
   "id": "b170cb24-ab29-4340-8e46-f8219f7e55b7",
   "metadata": {},
   "outputs": [],
   "source": [
    "len(df>>filter(_.county_name=='Unknown'))"
   ]
  },
  {
   "cell_type": "code",
   "execution_count": null,
   "id": "eb23236c-bc32-40ba-bcb6-334cbe193128",
   "metadata": {},
   "outputs": [],
   "source": [
    "df>>filter(_.implementing_agency==\"Unknown\")"
   ]
  },
  {
   "cell_type": "code",
   "execution_count": null,
   "id": "eb442f9e-1fbb-40a3-b918-f2184abea5b0",
   "metadata": {
    "tags": []
   },
   "outputs": [],
   "source": [
    "df>>filter(_.project_title.str.contains(\"Administrative Expense\"))"
   ]
  },
  {
   "cell_type": "code",
   "execution_count": null,
   "id": "7a621e03-ac35-46ec-b020-3f7b5f6d30da",
   "metadata": {},
   "outputs": [],
   "source": []
  },
  {
   "cell_type": "markdown",
   "id": "9ccfa4dd-f94d-4449-bf98-86edbc0846cf",
   "metadata": {},
   "source": [
    "#### Reformat Columns"
   ]
  },
  {
   "cell_type": "markdown",
   "id": "497ba69d-a083-4b7a-9513-ab3dcb61b810",
   "metadata": {},
   "source": [
    "To change: \n",
    "* ~~District: 2 digit / integer~~\n",
    "* ~~Congressional District number~~\n",
    "* Add Progam Code Description and amount to a new project description"
   ]
  },
  {
   "cell_type": "code",
   "execution_count": 11,
   "id": "0df07612-cddc-4f8b-b313-10e4cf085969",
   "metadata": {},
   "outputs": [],
   "source": [
    "df = _data_utils.change_col_to_integer(df, \"congressional_district\")"
   ]
  },
  {
   "cell_type": "code",
   "execution_count": 12,
   "id": "5678fe12-8fc0-4004-bdd2-f7b977225015",
   "metadata": {},
   "outputs": [
    {
     "data": {
      "text/html": [
       "<div>\n",
       "<style scoped>\n",
       "    .dataframe tbody tr th:only-of-type {\n",
       "        vertical-align: middle;\n",
       "    }\n",
       "\n",
       "    .dataframe tbody tr th {\n",
       "        vertical-align: top;\n",
       "    }\n",
       "\n",
       "    .dataframe thead th {\n",
       "        text-align: right;\n",
       "    }\n",
       "</style>\n",
       "<table border=\"1\" class=\"dataframe\">\n",
       "  <thead>\n",
       "    <tr style=\"text-align: right;\">\n",
       "      <th></th>\n",
       "      <th>fmis_transaction_date</th>\n",
       "      <th>program_code</th>\n",
       "      <th>program_code_description</th>\n",
       "      <th>project_number</th>\n",
       "      <th>recipient_project_number</th>\n",
       "      <th>project_title</th>\n",
       "      <th>county_code</th>\n",
       "      <th>congressional_district</th>\n",
       "      <th>project_status_description</th>\n",
       "      <th>project_description</th>\n",
       "      <th>improvement_type</th>\n",
       "      <th>improvement_type_description</th>\n",
       "      <th>total_cost_amount</th>\n",
       "      <th>obligations_amount</th>\n",
       "      <th>summary_recipient_defined_text_field_1_value</th>\n",
       "      <th>implementing_agency_locode</th>\n",
       "      <th>implementing_agency</th>\n",
       "      <th>district</th>\n",
       "      <th>county_name</th>\n",
       "      <th>rtpa_name</th>\n",
       "      <th>mpo_name</th>\n",
       "    </tr>\n",
       "  </thead>\n",
       "  <tbody>\n",
       "    <tr>\n",
       "      <th>996</th>\n",
       "      <td>44951</td>\n",
       "      <td>Y001</td>\n",
       "      <td>National Highway Performance Program (NHPP)</td>\n",
       "      <td>5904156</td>\n",
       "      <td>0116000098L</td>\n",
       "      <td>VARIOUS LOCATIONS IN HUMBOLDT COUNTY BRIDGE PREVENTIVE MAINTENANCE: MINOR CONCRETE REPAIR ON 8 BRIDGES.</td>\n",
       "      <td>23</td>\n",
       "      <td>2</td>\n",
       "      <td>Active</td>\n",
       "      <td>VARIOUS LOCATIONS IN HUMBOLDT COUNTY BRIDGE PREVENTIVE MAINTENANCE: MINOR CONCRETE REPAIR ON 8 BRIDGES.</td>\n",
       "      <td>47</td>\n",
       "      <td>Bridge Preventive Maintenance</td>\n",
       "      <td>367243.48</td>\n",
       "      <td>325120.66</td>\n",
       "      <td>L5904NON-MPO</td>\n",
       "      <td>5904.0</td>\n",
       "      <td>Humboldt County</td>\n",
       "      <td>1.0</td>\n",
       "      <td>Humboldt County</td>\n",
       "      <td>Humboldt County Association of Governments</td>\n",
       "      <td>NON-MPO</td>\n",
       "    </tr>\n",
       "  </tbody>\n",
       "</table>\n",
       "</div>"
      ],
      "text/plain": [
       "     fmis_transaction_date program_code  \\\n",
       "996                  44951         Y001   \n",
       "\n",
       "                        program_code_description project_number  \\\n",
       "996  National Highway Performance Program (NHPP)        5904156   \n",
       "\n",
       "    recipient_project_number  \\\n",
       "996              0116000098L   \n",
       "\n",
       "                                                                                               project_title  \\\n",
       "996  VARIOUS LOCATIONS IN HUMBOLDT COUNTY BRIDGE PREVENTIVE MAINTENANCE: MINOR CONCRETE REPAIR ON 8 BRIDGES.   \n",
       "\n",
       "     county_code congressional_district project_status_description  \\\n",
       "996           23                      2                     Active   \n",
       "\n",
       "                                                                                         project_description  \\\n",
       "996  VARIOUS LOCATIONS IN HUMBOLDT COUNTY BRIDGE PREVENTIVE MAINTENANCE: MINOR CONCRETE REPAIR ON 8 BRIDGES.   \n",
       "\n",
       "     improvement_type   improvement_type_description  total_cost_amount  \\\n",
       "996                47  Bridge Preventive Maintenance          367243.48   \n",
       "\n",
       "     obligations_amount summary_recipient_defined_text_field_1_value  \\\n",
       "996           325120.66                                 L5904NON-MPO   \n",
       "\n",
       "     implementing_agency_locode implementing_agency  district  \\\n",
       "996                      5904.0     Humboldt County       1.0   \n",
       "\n",
       "         county_name                                   rtpa_name mpo_name  \n",
       "996  Humboldt County  Humboldt County Association of Governments  NON-MPO  "
      ]
     },
     "execution_count": 12,
     "metadata": {},
     "output_type": "execute_result"
    }
   ],
   "source": [
    "df.sample()"
   ]
  },
  {
   "cell_type": "code",
   "execution_count": 13,
   "id": "3da5a55e-251b-4d06-9b2b-cde6fc70b69d",
   "metadata": {},
   "outputs": [],
   "source": [
    "## move to _data_utils\n",
    "# def change_col_to_integer(df, col):\n",
    "    \n",
    "#     df[col] = df[col].str.split(' ').str[-1]\n",
    "    \n",
    "#     return df"
   ]
  },
  {
   "cell_type": "code",
   "execution_count": 14,
   "id": "9253d734-a6ce-41b4-a53c-dababbda9ac0",
   "metadata": {},
   "outputs": [],
   "source": [
    "\n",
    "# (df>>select(_.congressional_district, _.congressional_district_2)).sample(20)"
   ]
  },
  {
   "cell_type": "code",
   "execution_count": 15,
   "id": "3af96c89-6d37-408f-aa5a-c3f6fef8558e",
   "metadata": {},
   "outputs": [
    {
     "data": {
      "text/html": [
       "<div>\n",
       "<style scoped>\n",
       "    .dataframe tbody tr th:only-of-type {\n",
       "        vertical-align: middle;\n",
       "    }\n",
       "\n",
       "    .dataframe tbody tr th {\n",
       "        vertical-align: top;\n",
       "    }\n",
       "\n",
       "    .dataframe thead th {\n",
       "        text-align: right;\n",
       "    }\n",
       "</style>\n",
       "<table border=\"1\" class=\"dataframe\">\n",
       "  <thead>\n",
       "    <tr style=\"text-align: right;\">\n",
       "      <th></th>\n",
       "      <th>fmis_transaction_date</th>\n",
       "      <th>program_code</th>\n",
       "      <th>program_code_description</th>\n",
       "      <th>project_number</th>\n",
       "      <th>recipient_project_number</th>\n",
       "      <th>project_title</th>\n",
       "      <th>county_code</th>\n",
       "      <th>congressional_district</th>\n",
       "      <th>project_status_description</th>\n",
       "      <th>project_description</th>\n",
       "      <th>improvement_type</th>\n",
       "      <th>improvement_type_description</th>\n",
       "      <th>total_cost_amount</th>\n",
       "      <th>obligations_amount</th>\n",
       "      <th>summary_recipient_defined_text_field_1_value</th>\n",
       "      <th>implementing_agency_locode</th>\n",
       "      <th>implementing_agency</th>\n",
       "      <th>district</th>\n",
       "      <th>county_name</th>\n",
       "      <th>rtpa_name</th>\n",
       "      <th>mpo_name</th>\n",
       "    </tr>\n",
       "  </thead>\n",
       "  <tbody>\n",
       "    <tr>\n",
       "      <th>1765</th>\n",
       "      <td>44915</td>\n",
       "      <td>YS30</td>\n",
       "      <td>Highway Safety Improvement Program (HSIP)</td>\n",
       "      <td>P055064</td>\n",
       "      <td>1219000083S</td>\n",
       "      <td>ORANGE AND ANAHEIM AT VARIOUS LOCATIONS FROM 0.1 MILE SOUTH OF KATELLA AVENUE UNDERCROSSING TO 0.5 MILE NORTH OF LINCOLN AVENUE UNDERCROSSING UPGRADE</td>\n",
       "      <td>59</td>\n",
       "      <td>46</td>\n",
       "      <td>Closed</td>\n",
       "      <td>ON STATE ROUTE: 55. ORANGE AND ANAHEIM AT VARIOUS LOCATIONS FROM 0.1 MILE SOUTH OF KATELLA AVENUE UNDERCROSSING TO 0.5 MILE NORTH OF LINCOLN AVENUE UNDERCROSSING UPGRADE TRAFFIC SAFETY DEVICES</td>\n",
       "      <td>17</td>\n",
       "      <td>Construction Engineering</td>\n",
       "      <td>292402.48</td>\n",
       "      <td>263162.54</td>\n",
       "      <td>S    SCAG</td>\n",
       "      <td>NaN</td>\n",
       "      <td>California</td>\n",
       "      <td>12.0</td>\n",
       "      <td>Orange County</td>\n",
       "      <td>NaN</td>\n",
       "      <td>NaN</td>\n",
       "    </tr>\n",
       "  </tbody>\n",
       "</table>\n",
       "</div>"
      ],
      "text/plain": [
       "      fmis_transaction_date program_code  \\\n",
       "1765                  44915         YS30   \n",
       "\n",
       "                       program_code_description project_number  \\\n",
       "1765  Highway Safety Improvement Program (HSIP)        P055064   \n",
       "\n",
       "     recipient_project_number  \\\n",
       "1765              1219000083S   \n",
       "\n",
       "                                                                                                                                              project_title  \\\n",
       "1765  ORANGE AND ANAHEIM AT VARIOUS LOCATIONS FROM 0.1 MILE SOUTH OF KATELLA AVENUE UNDERCROSSING TO 0.5 MILE NORTH OF LINCOLN AVENUE UNDERCROSSING UPGRADE   \n",
       "\n",
       "      county_code congressional_district project_status_description  \\\n",
       "1765           59                     46                     Closed   \n",
       "\n",
       "                                                                                                                                                                                   project_description  \\\n",
       "1765  ON STATE ROUTE: 55. ORANGE AND ANAHEIM AT VARIOUS LOCATIONS FROM 0.1 MILE SOUTH OF KATELLA AVENUE UNDERCROSSING TO 0.5 MILE NORTH OF LINCOLN AVENUE UNDERCROSSING UPGRADE TRAFFIC SAFETY DEVICES   \n",
       "\n",
       "      improvement_type improvement_type_description  total_cost_amount  \\\n",
       "1765                17     Construction Engineering          292402.48   \n",
       "\n",
       "      obligations_amount summary_recipient_defined_text_field_1_value  \\\n",
       "1765           263162.54                                    S    SCAG   \n",
       "\n",
       "      implementing_agency_locode implementing_agency  district    county_name  \\\n",
       "1765                         NaN          California      12.0  Orange County   \n",
       "\n",
       "     rtpa_name mpo_name  \n",
       "1765       NaN      NaN  "
      ]
     },
     "execution_count": 15,
     "metadata": {},
     "output_type": "execute_result"
    }
   ],
   "source": [
    "df.sample()"
   ]
  },
  {
   "cell_type": "code",
   "execution_count": 16,
   "id": "fee57892-8d13-4fde-b0a6-c34582e02cca",
   "metadata": {},
   "outputs": [],
   "source": [
    "## move to utils,\n",
    "# def add_new_description_col(df):\n",
    "#     df[\"obligations_amount_string\"] = df[\"obligations_amount\"].astype(str)\n",
    "    \n",
    "#     df[\"new_description_col\"] = df[\"program_code_description\"] + \" for $\" + df[\"obligations_amount_string\"]\n",
    "    \n",
    "#     df.drop(columns =['obligations_amount_string'], axis=1, inplace=True)\n",
    "    \n",
    "#     return df"
   ]
  },
  {
   "cell_type": "code",
   "execution_count": 18,
   "id": "0d319a4f-9232-4f07-aa7b-1987073d3d12",
   "metadata": {},
   "outputs": [],
   "source": [
    "# (add_new_description_col(df))>>filter(_.program_code_description.notnull())"
   ]
  },
  {
   "cell_type": "code",
   "execution_count": 19,
   "id": "7e65124d-c8b5-42d5-b7ed-91946ce2376c",
   "metadata": {},
   "outputs": [
    {
     "data": {
      "text/html": [
       "<div>\n",
       "<style scoped>\n",
       "    .dataframe tbody tr th:only-of-type {\n",
       "        vertical-align: middle;\n",
       "    }\n",
       "\n",
       "    .dataframe tbody tr th {\n",
       "        vertical-align: top;\n",
       "    }\n",
       "\n",
       "    .dataframe thead th {\n",
       "        text-align: right;\n",
       "    }\n",
       "</style>\n",
       "<table border=\"1\" class=\"dataframe\">\n",
       "  <thead>\n",
       "    <tr style=\"text-align: right;\">\n",
       "      <th></th>\n",
       "      <th>fmis_transaction_date</th>\n",
       "      <th>program_code</th>\n",
       "      <th>program_code_description</th>\n",
       "      <th>project_number</th>\n",
       "      <th>recipient_project_number</th>\n",
       "      <th>project_title</th>\n",
       "      <th>county_code</th>\n",
       "      <th>congressional_district</th>\n",
       "      <th>project_status_description</th>\n",
       "      <th>project_description</th>\n",
       "      <th>improvement_type</th>\n",
       "      <th>improvement_type_description</th>\n",
       "      <th>total_cost_amount</th>\n",
       "      <th>obligations_amount</th>\n",
       "      <th>summary_recipient_defined_text_field_1_value</th>\n",
       "      <th>implementing_agency_locode</th>\n",
       "      <th>implementing_agency</th>\n",
       "      <th>district</th>\n",
       "      <th>county_name</th>\n",
       "      <th>rtpa_name</th>\n",
       "      <th>mpo_name</th>\n",
       "    </tr>\n",
       "  </thead>\n",
       "  <tbody>\n",
       "    <tr>\n",
       "      <th>1045</th>\n",
       "      <td>44963</td>\n",
       "      <td>Y120</td>\n",
       "      <td>Bridge Formula Program</td>\n",
       "      <td>5930059</td>\n",
       "      <td>1000020522L</td>\n",
       "      <td>MONGE RANCH ROAD OVER COYOTE CREEK (BRIDGE 30C0021) BRIDGE REPLACEMENT (TC)</td>\n",
       "      <td>9</td>\n",
       "      <td>4</td>\n",
       "      <td>Active</td>\n",
       "      <td>MONGE RANCH ROAD OVER COYOTE CREEK (BRIDGE 30C0021) BRIDGE REPLACEMENT (TC)</td>\n",
       "      <td>11</td>\n",
       "      <td>Bridge Replacement - No Added Capacity</td>\n",
       "      <td>2365594.0</td>\n",
       "      <td>2365594.0</td>\n",
       "      <td>L5930NON-MPO</td>\n",
       "      <td>5930.0</td>\n",
       "      <td>Calaveras County</td>\n",
       "      <td>10.0</td>\n",
       "      <td>Calaveras County</td>\n",
       "      <td>Calaveras Council of Governments</td>\n",
       "      <td>NON-MPO</td>\n",
       "    </tr>\n",
       "  </tbody>\n",
       "</table>\n",
       "</div>"
      ],
      "text/plain": [
       "      fmis_transaction_date program_code program_code_description  \\\n",
       "1045                  44963         Y120   Bridge Formula Program   \n",
       "\n",
       "     project_number recipient_project_number  \\\n",
       "1045        5930059              1000020522L   \n",
       "\n",
       "                                                                    project_title  \\\n",
       "1045  MONGE RANCH ROAD OVER COYOTE CREEK (BRIDGE 30C0021) BRIDGE REPLACEMENT (TC)   \n",
       "\n",
       "      county_code congressional_district project_status_description  \\\n",
       "1045            9                      4                     Active   \n",
       "\n",
       "                                                              project_description  \\\n",
       "1045  MONGE RANCH ROAD OVER COYOTE CREEK (BRIDGE 30C0021) BRIDGE REPLACEMENT (TC)   \n",
       "\n",
       "      improvement_type            improvement_type_description  \\\n",
       "1045                11  Bridge Replacement - No Added Capacity   \n",
       "\n",
       "      total_cost_amount  obligations_amount  \\\n",
       "1045          2365594.0           2365594.0   \n",
       "\n",
       "     summary_recipient_defined_text_field_1_value  implementing_agency_locode  \\\n",
       "1045                                 L5930NON-MPO                      5930.0   \n",
       "\n",
       "     implementing_agency  district       county_name  \\\n",
       "1045    Calaveras County      10.0  Calaveras County   \n",
       "\n",
       "                             rtpa_name mpo_name  \n",
       "1045  Calaveras Council of Governments  NON-MPO  "
      ]
     },
     "execution_count": 19,
     "metadata": {},
     "output_type": "execute_result"
    }
   ],
   "source": [
    "df.sample()"
   ]
  },
  {
   "cell_type": "code",
   "execution_count": 20,
   "id": "bdf31e12-e2c5-4799-bfb2-6aff0f1064c4",
   "metadata": {},
   "outputs": [
    {
     "data": {
      "text/plain": [
       "National Highway Performance Program (NHPP)                           505\n",
       "Surface Transportation Block Grant (STBG) Program                     386\n",
       "Highway Safety Improvement Program (HSIP)                             377\n",
       "Congestion Mitigation & Air Quality Improvement (CMAQ)                104\n",
       "Transportation Alternatives (Section 133(h))                           48\n",
       "Projects to Reduce PM 2.5 Emissions                                    42\n",
       "Section 164 Penalties - Use for HSIP Activities                        37\n",
       "Bridge Formula Program                                                 33\n",
       "Metropolitan Planning Program                                          19\n",
       "Safe and Accessible Transportation Options - Metropolitan Planning     18\n",
       "Railway-Highway Crossings Program (RHCP)                                7\n",
       "National Highway Freight Program (NHFP)                                 6\n",
       "Vulnerable Road User Safety Special Rule                                5\n",
       "State Planning and Research (SPR)                                       4\n",
       "High Risk Rural Roads Special Rule                                      2\n",
       "Research, Development, and Technology Transfer (RD&T)                   1\n",
       "On the Job Skills Training                                              1\n",
       "State RTP Administration                                                1\n",
       "Safe and Accessible Transportation Options - SPR                        1\n",
       "Redistribution of Certain Authorized Funds                              1\n",
       "Name: program_code_description, dtype: int64"
      ]
     },
     "execution_count": 20,
     "metadata": {},
     "output_type": "execute_result"
    }
   ],
   "source": [
    "df.program_code_description.value_counts()"
   ]
  },
  {
   "cell_type": "markdown",
   "id": "8a985cbc-6602-4dbd-9fe0-a8327c7007cb",
   "metadata": {
    "tags": []
   },
   "source": [
    "## Test & Export"
   ]
  },
  {
   "cell_type": "code",
   "execution_count": null,
   "id": "91b99a04-c940-4bfa-bbb3-a18dfd1bc4fa",
   "metadata": {},
   "outputs": [],
   "source": [
    "# GCS_FILE_PATH  = 'gs://calitp-analytics-data/data-analyses/dla/dla-iija'"
   ]
  },
  {
   "cell_type": "code",
   "execution_count": null,
   "id": "f25d9872-5c5e-43ef-a187-d93bd7e49d01",
   "metadata": {},
   "outputs": [],
   "source": []
  },
  {
   "cell_type": "code",
   "execution_count": 21,
   "id": "ff85167d-819b-4f2d-9c05-95b4bbb69212",
   "metadata": {},
   "outputs": [],
   "source": [
    "###test agg. PASS df with title column, concat and 552 rows\n",
    "##throwingerror\n",
    "agg = _script_utils.get_clean_data(df, full_or_agg = 'agg')"
   ]
  },
  {
   "cell_type": "code",
   "execution_count": 22,
   "id": "42d061a3-b4b8-4b67-923e-f1053e584b3a",
   "metadata": {},
   "outputs": [
    {
     "data": {
      "text/html": [
       "<div>\n",
       "<style scoped>\n",
       "    .dataframe tbody tr th:only-of-type {\n",
       "        vertical-align: middle;\n",
       "    }\n",
       "\n",
       "    .dataframe tbody tr th {\n",
       "        vertical-align: top;\n",
       "    }\n",
       "\n",
       "    .dataframe thead th {\n",
       "        text-align: right;\n",
       "    }\n",
       "</style>\n",
       "<table border=\"1\" class=\"dataframe\">\n",
       "  <thead>\n",
       "    <tr style=\"text-align: right;\">\n",
       "      <th></th>\n",
       "      <th>fmis_transaction_date</th>\n",
       "      <th>project_number</th>\n",
       "      <th>implementing_agency</th>\n",
       "      <th>summary_recipient_defined_text_field_1_value</th>\n",
       "      <th>program_code</th>\n",
       "      <th>program_code_description</th>\n",
       "      <th>recipient_project_number</th>\n",
       "      <th>improvement_type</th>\n",
       "      <th>improvement_type_description</th>\n",
       "      <th>project_title</th>\n",
       "      <th>obligations_amount</th>\n",
       "      <th>congressional_district</th>\n",
       "      <th>district</th>\n",
       "      <th>county_code</th>\n",
       "      <th>county_name</th>\n",
       "      <th>county_name_title</th>\n",
       "      <th>implementing_agency_locode</th>\n",
       "      <th>rtpa_name</th>\n",
       "      <th>mpo_name</th>\n",
       "      <th>project_title_new</th>\n",
       "      <th>new_description_col</th>\n",
       "    </tr>\n",
       "  </thead>\n",
       "  <tbody>\n",
       "    <tr>\n",
       "      <th>832</th>\n",
       "      <td>44910</td>\n",
       "      <td>5060362</td>\n",
       "      <td>Fresno</td>\n",
       "      <td>L5060COFCG</td>\n",
       "      <td>Y230</td>\n",
       "      <td>Surface Transportation Block Grant (STBG) Program</td>\n",
       "      <td>0619000149L</td>\n",
       "      <td>5|17</td>\n",
       "      <td>4R - Maintenance  Resurfacing|Construction Engineering</td>\n",
       "      <td>CHESTNUT AVENUE FROM KINGS CANYON ROAD TO BUTLER AVENUE AC OVERLAY AND INSTALLATION OF CURB RAMPS, SIGNAL LOOP DETECTORS, CLASS II BIKE LANES, SIGNAG</td>\n",
       "      <td>1381666.0</td>\n",
       "      <td>16</td>\n",
       "      <td>6.0</td>\n",
       "      <td>19</td>\n",
       "      <td>Fresno County</td>\n",
       "      <td>Fresno County</td>\n",
       "      <td>5060.0</td>\n",
       "      <td>Council of Fresno County Governments</td>\n",
       "      <td>Council Of Fresno County Goverments</td>\n",
       "      <td>Install Bike Lanes in Fresno</td>\n",
       "      <td>Surface Transportation Block Grant (STBG) Program for $1381666.0</td>\n",
       "    </tr>\n",
       "  </tbody>\n",
       "</table>\n",
       "</div>"
      ],
      "text/plain": [
       "     fmis_transaction_date project_number implementing_agency  \\\n",
       "832                  44910        5060362              Fresno   \n",
       "\n",
       "    summary_recipient_defined_text_field_1_value program_code  \\\n",
       "832                                   L5060COFCG         Y230   \n",
       "\n",
       "                              program_code_description  \\\n",
       "832  Surface Transportation Block Grant (STBG) Program   \n",
       "\n",
       "    recipient_project_number improvement_type  \\\n",
       "832              0619000149L             5|17   \n",
       "\n",
       "                               improvement_type_description  \\\n",
       "832  4R - Maintenance  Resurfacing|Construction Engineering   \n",
       "\n",
       "                                                                                                                                             project_title  \\\n",
       "832  CHESTNUT AVENUE FROM KINGS CANYON ROAD TO BUTLER AVENUE AC OVERLAY AND INSTALLATION OF CURB RAMPS, SIGNAL LOOP DETECTORS, CLASS II BIKE LANES, SIGNAG   \n",
       "\n",
       "     obligations_amount congressional_district district county_code  \\\n",
       "832           1381666.0                     16      6.0          19   \n",
       "\n",
       "       county_name county_name_title implementing_agency_locode  \\\n",
       "832  Fresno County     Fresno County                     5060.0   \n",
       "\n",
       "                                rtpa_name  \\\n",
       "832  Council of Fresno County Governments   \n",
       "\n",
       "                                mpo_name             project_title_new  \\\n",
       "832  Council Of Fresno County Goverments  Install Bike Lanes in Fresno   \n",
       "\n",
       "                                                  new_description_col  \n",
       "832  Surface Transportation Block Grant (STBG) Program for $1381666.0  "
      ]
     },
     "execution_count": 22,
     "metadata": {},
     "output_type": "execute_result"
    }
   ],
   "source": [
    "agg.sample()"
   ]
  },
  {
   "cell_type": "code",
   "execution_count": null,
   "id": "dfdf3ddf-50dd-4c22-b83a-b29045de1555",
   "metadata": {},
   "outputs": [],
   "source": []
  },
  {
   "cell_type": "code",
   "execution_count": null,
   "id": "b7a1c210-5a26-4d1a-8b6c-0785a3f1f07d",
   "metadata": {},
   "outputs": [],
   "source": []
  },
  {
   "cell_type": "code",
   "execution_count": null,
   "id": "f0389ac9-2402-411d-b950-7850b4cf41ee",
   "metadata": {},
   "outputs": [],
   "source": []
  },
  {
   "cell_type": "code",
   "execution_count": null,
   "id": "1b3323b4-570c-4680-97e3-a7f380d69aff",
   "metadata": {},
   "outputs": [],
   "source": [
    "df.head()"
   ]
  },
  {
   "cell_type": "markdown",
   "id": "c816f2c5-4559-4ee7-ab5e-5642d4f5d732",
   "metadata": {
    "tags": []
   },
   "source": [
    "##### Check titles\n",
    "moved to `_script_utils`"
   ]
  },
  {
   "cell_type": "code",
   "execution_count": null,
   "id": "0c8494a6-0e98-4a6d-978e-25b626b225d9",
   "metadata": {
    "scrolled": true,
    "tags": []
   },
   "outputs": [],
   "source": [
    "# sorted(list(agg.project_title_new.unique()))"
   ]
  },
  {
   "cell_type": "code",
   "execution_count": 60,
   "id": "747f8dea-7f25-4f3f-b041-7dcde65d02d3",
   "metadata": {},
   "outputs": [],
   "source": [
    "# agg>>filter(_.implementing_agency.str.contains(\"California\"))"
   ]
  },
  {
   "cell_type": "code",
   "execution_count": 61,
   "id": "7fb08db8-d87c-4cfc-b78b-756adb2a90dd",
   "metadata": {},
   "outputs": [],
   "source": [
    "# agg>>filter(_.project_title_new.str.contains(\"Caltrans\"))"
   ]
  },
  {
   "cell_type": "code",
   "execution_count": 62,
   "id": "439c7fec-b657-4abe-9339-7b4c266dc270",
   "metadata": {},
   "outputs": [],
   "source": [
    "# len(agg)"
   ]
  },
  {
   "cell_type": "code",
   "execution_count": 29,
   "id": "388a2112-cc55-46cd-8fa1-941fadb70f13",
   "metadata": {},
   "outputs": [],
   "source": [
    "# agg = utils.title_column_names(agg)"
   ]
  },
  {
   "cell_type": "code",
   "execution_count": 30,
   "id": "34a4b598-72fc-4f2c-b9bc-97e2d0beb640",
   "metadata": {},
   "outputs": [],
   "source": [
    "# agg.to_csv(f\"{GCS_FILE_PATH}/IIJA_FMIS_AllProject_20230315_ToDLA_agg.csv\")"
   ]
  },
  {
   "cell_type": "code",
   "execution_count": null,
   "id": "deaaca55-60b4-4e16-9ec1-ee32ec3a44da",
   "metadata": {},
   "outputs": [],
   "source": []
  },
  {
   "cell_type": "code",
   "execution_count": 63,
   "id": "3c0b9e81-97dc-4a86-bb83-511b71921a4a",
   "metadata": {},
   "outputs": [],
   "source": [
    "###test full. PASS title, no concat and 1241 rows\n",
    "# full = utils.get_clean_data(df, full_or_agg = 'full')"
   ]
  },
  {
   "cell_type": "code",
   "execution_count": 32,
   "id": "744f085e-5578-42c9-85f1-444f7b7a24f1",
   "metadata": {},
   "outputs": [],
   "source": [
    "# full = utils.title_column_names(full)"
   ]
  },
  {
   "cell_type": "code",
   "execution_count": 33,
   "id": "c5c6d5bb-7c60-4c70-ab20-8483d6bff093",
   "metadata": {},
   "outputs": [],
   "source": [
    "# full.to_csv(f\"{GCS_FILE_PATH}/FMIS_Projects_Universe_IIJA_Reporting_3-9-23_all.csv\")"
   ]
  },
  {
   "cell_type": "code",
   "execution_count": null,
   "id": "2e7e70af-7efb-4851-94ba-8292ff18cb6e",
   "metadata": {},
   "outputs": [],
   "source": []
  },
  {
   "cell_type": "code",
   "execution_count": 34,
   "id": "a7ec7b13-73a9-40b0-b8f6-cc40daffbf65",
   "metadata": {},
   "outputs": [],
   "source": [
    "# agg = to_snakecase(agg)"
   ]
  },
  {
   "cell_type": "code",
   "execution_count": 66,
   "id": "e8e6c0b3-2f6f-4b10-a59a-a6bb205418d7",
   "metadata": {},
   "outputs": [],
   "source": [
    "# test_df = agg>>filter(_.implementing_agency.str.contains('Unknown')\n",
    "                      # | _.implementing_agency.str.contains(\"Caltrans\")\n",
    "                     # )"
   ]
  },
  {
   "cell_type": "code",
   "execution_count": 67,
   "id": "e113ddeb-6d49-4a92-87f4-11f80917aac9",
   "metadata": {},
   "outputs": [],
   "source": [
    "# test_df.sample()"
   ]
  },
  {
   "cell_type": "code",
   "execution_count": null,
   "id": "51c338dd-5c03-4e8c-8d43-060cd47fa111",
   "metadata": {},
   "outputs": [],
   "source": []
  },
  {
   "cell_type": "code",
   "execution_count": 68,
   "id": "7b3c67e9-7ee8-4915-a775-7080f3a30b54",
   "metadata": {},
   "outputs": [],
   "source": [
    "# locodes = to_snakecase(pd.read_excel(f\"gs://calitp-analytics-data/data-analyses/dla/e-76Obligated/locodes_updated7122021.xlsx\"))"
   ]
  },
  {
   "cell_type": "code",
   "execution_count": 69,
   "id": "ee38eb8c-26e7-4df2-8b5f-7f2de4985c6f",
   "metadata": {},
   "outputs": [],
   "source": [
    "# locodes['agency_name'] = locodes['agency_name'].str.upper()"
   ]
  },
  {
   "cell_type": "code",
   "execution_count": 70,
   "id": "3ce7c27a-1279-4f93-9fbe-c7799352ffb8",
   "metadata": {},
   "outputs": [],
   "source": [
    "# locode_names = sorted(list(locodes['agency_name'].unique()), reverse=True)"
   ]
  },
  {
   "cell_type": "code",
   "execution_count": 71,
   "id": "baa02783-d514-4a12-bb54-722dd1706a0a",
   "metadata": {},
   "outputs": [],
   "source": [
    "# locode_names.remove('ROSS')"
   ]
  },
  {
   "cell_type": "code",
   "execution_count": 72,
   "id": "f2ed8ae3-5748-4a4f-a5e8-a7b1c061649f",
   "metadata": {},
   "outputs": [],
   "source": [
    "# locode_names.append(\"State Parks\")"
   ]
  },
  {
   "cell_type": "code",
   "execution_count": 73,
   "id": "76ee8b48-b84a-4dec-a21e-b05b6239cac5",
   "metadata": {
    "scrolled": true,
    "tags": []
   },
   "outputs": [],
   "source": [
    "# locode_names"
   ]
  },
  {
   "cell_type": "code",
   "execution_count": 74,
   "id": "8a03abbc-f421-4539-bce9-4d87243b0b05",
   "metadata": {},
   "outputs": [],
   "source": [
    "# pattern = '|'.join(locode_names)"
   ]
  },
  {
   "cell_type": "code",
   "execution_count": 75,
   "id": "d7124c59-145c-492f-b3bd-acb08ef9bf3e",
   "metadata": {},
   "outputs": [],
   "source": [
    "# test_df.project_title.str.contains(pattern)"
   ]
  },
  {
   "cell_type": "code",
   "execution_count": null,
   "id": "3f832934-f42e-46cc-8490-f105eabd9975",
   "metadata": {},
   "outputs": [],
   "source": []
  },
  {
   "cell_type": "code",
   "execution_count": null,
   "id": "1a481883-cda0-42fc-b87c-e3e2a247dc3e",
   "metadata": {},
   "outputs": [],
   "source": []
  },
  {
   "cell_type": "code",
   "execution_count": 76,
   "id": "c5199401-0f22-4f9c-b34f-36a3f4325f1a",
   "metadata": {},
   "outputs": [],
   "source": [
    "### https://stackoverflow.com/questions/68869434/create-an-pandas-column-if-a-string-from-a-list-matches-from-another-column\n",
    "#test_df[\"agencies_found\"] = test_df[\"project_title\"].apply(lambda x: next((a for a in locode_names if a in x), \"\"))\n",
    "# test_df[\"agencies_found2\"] = test_df[\"project_title\"].map(lambda s: next((name for name in locode_names if name in s), np.nan))"
   ]
  },
  {
   "cell_type": "code",
   "execution_count": 77,
   "id": "221ef1fc-2995-4beb-bac5-986154bf024e",
   "metadata": {},
   "outputs": [],
   "source": [
    "# test_df[\"agencies_found2\"] = test_df[\"agencies_found2\"].str.title()"
   ]
  },
  {
   "cell_type": "code",
   "execution_count": 78,
   "id": "16daf29e-95ed-4362-a1bb-70a820d53eca",
   "metadata": {},
   "outputs": [],
   "source": [
    "# test_df"
   ]
  },
  {
   "cell_type": "code",
   "execution_count": null,
   "id": "74a5f1e9-2a3f-4ff6-a3a1-f9837b2aa544",
   "metadata": {},
   "outputs": [],
   "source": []
  },
  {
   "cell_type": "code",
   "execution_count": null,
   "id": "bfafd705-be42-4d56-a0d7-4a2e6d01b414",
   "metadata": {},
   "outputs": [],
   "source": []
  },
  {
   "cell_type": "code",
   "execution_count": 44,
   "id": "02e0598b-fcf5-4702-b18b-4413f2866d14",
   "metadata": {},
   "outputs": [],
   "source": [
    "# agg>>filter(_[\"Project Title New\"].str.contains('Unknown'))"
   ]
  },
  {
   "cell_type": "code",
   "execution_count": 79,
   "id": "3a196eec-2810-4b83-8c39-c8040954b81f",
   "metadata": {},
   "outputs": [],
   "source": [
    "# agg>>filter(_[\"implementing_agency\"].str.contains('Unknown'))"
   ]
  },
  {
   "cell_type": "code",
   "execution_count": null,
   "id": "c69a7f55-d52c-457f-a497-8c91dedfae35",
   "metadata": {},
   "outputs": [],
   "source": []
  },
  {
   "cell_type": "markdown",
   "id": "38b3157d-2fa4-4924-893c-52e14c10d04b",
   "metadata": {},
   "source": [
    "### Next"
   ]
  },
  {
   "cell_type": "code",
   "execution_count": null,
   "id": "2da44efa-d20c-49ca-a15e-39317a835695",
   "metadata": {},
   "outputs": [],
   "source": []
  },
  {
   "cell_type": "code",
   "execution_count": null,
   "id": "8648d690-b83e-4de2-9c21-27f59f11dcb4",
   "metadata": {},
   "outputs": [],
   "source": []
  }
 ],
 "metadata": {
  "kernelspec": {
   "display_name": "Python 3 (ipykernel)",
   "language": "python",
   "name": "python3"
  },
  "language_info": {
   "codemirror_mode": {
    "name": "ipython",
    "version": 3
   },
   "file_extension": ".py",
   "mimetype": "text/x-python",
   "name": "python",
   "nbconvert_exporter": "python",
   "pygments_lexer": "ipython3",
   "version": "3.9.13"
  },
  "widgets": {
   "application/vnd.jupyter.widget-state+json": {
    "state": {},
    "version_major": 2,
    "version_minor": 0
   }
  }
 },
 "nbformat": 4,
 "nbformat_minor": 5
}
