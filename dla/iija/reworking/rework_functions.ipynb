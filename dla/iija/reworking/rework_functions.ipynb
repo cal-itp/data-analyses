{
 "cells": [
  {
   "cell_type": "markdown",
   "id": "6e816b2e-3dfb-429e-9fda-5a9d07c934fc",
   "metadata": {},
   "source": [
    "# IIJA All Projects "
   ]
  },
  {
   "cell_type": "code",
   "execution_count": 1,
   "id": "5dcfccd8-5107-41a3-bcf7-db0c9503b51d",
   "metadata": {},
   "outputs": [],
   "source": [
    "# ! pip install nltk\n",
    "# ! pip install textblob"
   ]
  },
  {
   "cell_type": "code",
   "execution_count": 2,
   "id": "f0d63a7a-1a82-4ff4-a8c2-23cf952c66ea",
   "metadata": {},
   "outputs": [
    {
     "name": "stderr",
     "output_type": "stream",
     "text": [
      "/opt/conda/lib/python3.10/site-packages/geopandas/_compat.py:112: UserWarning: The Shapely GEOS version (3.10.3-CAPI-1.16.1) is incompatible with the GEOS version PyGEOS was compiled with (3.10.1-CAPI-1.16.0). Conversions between both will be slow.\n"
     ]
    }
   ],
   "source": [
    "import pandas as pd\n",
    "from siuba import *\n",
    "\n",
    "from dla_utils import _dla_utils\n",
    "\n",
    "from calitp import to_snakecase\n",
    "\n",
    "import utils"
   ]
  },
  {
   "cell_type": "code",
   "execution_count": 3,
   "id": "5cf38c7a-a8f4-4c50-9219-71770b2ac0d6",
   "metadata": {},
   "outputs": [],
   "source": [
    "pd.set_option(\"display.max_columns\", 100)\n",
    "pd.set_option('display.max_colwidth', None)\n"
   ]
  },
  {
   "cell_type": "markdown",
   "id": "eeac35ea-48d1-4818-85e1-c5bbd173f4ec",
   "metadata": {},
   "source": [
    "## Read Data"
   ]
  },
  {
   "cell_type": "code",
   "execution_count": null,
   "id": "2ecae3e8-1cc8-4079-8506-c45e845eac25",
   "metadata": {},
   "outputs": [],
   "source": []
  },
  {
   "cell_type": "code",
   "execution_count": 4,
   "id": "f5feb5ee-1212-4909-864d-0a8c4a137f12",
   "metadata": {},
   "outputs": [],
   "source": [
    "proj = utils.read_data_all()"
   ]
  },
  {
   "cell_type": "code",
   "execution_count": 5,
   "id": "eafcf219-2e16-48a1-872c-9306c71329f4",
   "metadata": {},
   "outputs": [
    {
     "data": {
      "text/html": [
       "<div>\n",
       "<style scoped>\n",
       "    .dataframe tbody tr th:only-of-type {\n",
       "        vertical-align: middle;\n",
       "    }\n",
       "\n",
       "    .dataframe tbody tr th {\n",
       "        vertical-align: top;\n",
       "    }\n",
       "\n",
       "    .dataframe thead th {\n",
       "        text-align: right;\n",
       "    }\n",
       "</style>\n",
       "<table border=\"1\" class=\"dataframe\">\n",
       "  <thead>\n",
       "    <tr style=\"text-align: right;\">\n",
       "      <th></th>\n",
       "      <th>fmis_transaction_date</th>\n",
       "      <th>program_code</th>\n",
       "      <th>program_code_description</th>\n",
       "      <th>project_number</th>\n",
       "      <th>recipient_project_number</th>\n",
       "      <th>project_title</th>\n",
       "      <th>county_code</th>\n",
       "      <th>congressional_district</th>\n",
       "      <th>improvement_type</th>\n",
       "      <th>improvement_type_description</th>\n",
       "      <th>obligations_amount</th>\n",
       "      <th>summary_recipient_defined_text_field_1_value</th>\n",
       "    </tr>\n",
       "  </thead>\n",
       "  <tbody>\n",
       "    <tr>\n",
       "      <th>0</th>\n",
       "      <td>2022-03-03</td>\n",
       "      <td>Y230</td>\n",
       "      <td>STBG-URBANIZED &gt;200K IIJA</td>\n",
       "      <td>5002174</td>\n",
       "      <td>0314000222L</td>\n",
       "      <td>BELL AVE. FROM BOLLENBACHER AVE. TO ASTORIA ST ROAD REHABILITATION (TC)</td>\n",
       "      <td>67.00</td>\n",
       "      <td>Cong Dist 6</td>\n",
       "      <td>4.00</td>\n",
       "      <td>4R - No Added Capacity</td>\n",
       "      <td>2,841,397.00</td>\n",
       "      <td>L5002SACOG</td>\n",
       "    </tr>\n",
       "  </tbody>\n",
       "</table>\n",
       "</div>"
      ],
      "text/plain": [
       "  fmis_transaction_date program_code   program_code_description  \\\n",
       "0            2022-03-03         Y230  STBG-URBANIZED >200K IIJA   \n",
       "\n",
       "  project_number recipient_project_number  \\\n",
       "0        5002174              0314000222L   \n",
       "\n",
       "                                                             project_title  \\\n",
       "0  BELL AVE. FROM BOLLENBACHER AVE. TO ASTORIA ST ROAD REHABILITATION (TC)   \n",
       "\n",
       "   county_code congressional_district  improvement_type  \\\n",
       "0        67.00            Cong Dist 6              4.00   \n",
       "\n",
       "  improvement_type_description  obligations_amount  \\\n",
       "0       4R - No Added Capacity        2,841,397.00   \n",
       "\n",
       "  summary_recipient_defined_text_field_1_value  \n",
       "0                                   L5002SACOG  "
      ]
     },
     "execution_count": 5,
     "metadata": {},
     "output_type": "execute_result"
    }
   ],
   "source": [
    "proj.head(1)"
   ]
  },
  {
   "cell_type": "code",
   "execution_count": 6,
   "id": "d44e65a1-fbd6-4331-9346-5765fbe19716",
   "metadata": {},
   "outputs": [
    {
     "data": {
      "text/plain": [
       "1241"
      ]
     },
     "execution_count": 6,
     "metadata": {},
     "output_type": "execute_result"
    }
   ],
   "source": [
    "len(proj)"
   ]
  },
  {
   "cell_type": "markdown",
   "id": "a8f5e8bc-3937-4b6e-8cb2-ad28445fee03",
   "metadata": {},
   "source": [
    "* need 1241 projects. "
   ]
  },
  {
   "cell_type": "code",
   "execution_count": null,
   "id": "44e952f0-431f-4ef2-a683-3ed17d87a825",
   "metadata": {},
   "outputs": [],
   "source": []
  },
  {
   "cell_type": "markdown",
   "id": "8b25e340-76ff-4469-854a-e1197ff16d48",
   "metadata": {},
   "source": [
    "## Use reworked `identify_agency` function\n",
    "* now uses mapping instead of merge"
   ]
  },
  {
   "cell_type": "code",
   "execution_count": 7,
   "id": "19611c98-5c26-4ae0-9e37-baec6b3cb440",
   "metadata": {},
   "outputs": [],
   "source": [
    "full_df = utils.identify_agency(proj, 'summary_recipient_defined_text_field_1_value')"
   ]
  },
  {
   "cell_type": "code",
   "execution_count": 8,
   "id": "46da1a8d-fb34-4ec0-8c27-cfc92e80ffcd",
   "metadata": {},
   "outputs": [
    {
     "data": {
      "text/plain": [
       "1241"
      ]
     },
     "execution_count": 8,
     "metadata": {},
     "output_type": "execute_result"
    }
   ],
   "source": [
    "len(full_df)"
   ]
  },
  {
   "cell_type": "markdown",
   "id": "caa47656-6d9c-4c1e-8eb7-aca5cb49d3a0",
   "metadata": {},
   "source": [
    "## Check `full_df`"
   ]
  },
  {
   "cell_type": "code",
   "execution_count": 9,
   "id": "a2e5e921-8445-47be-9884-45e6647defe7",
   "metadata": {},
   "outputs": [
    {
     "data": {
      "text/html": [
       "<div>\n",
       "<style scoped>\n",
       "    .dataframe tbody tr th:only-of-type {\n",
       "        vertical-align: middle;\n",
       "    }\n",
       "\n",
       "    .dataframe tbody tr th {\n",
       "        vertical-align: top;\n",
       "    }\n",
       "\n",
       "    .dataframe thead th {\n",
       "        text-align: right;\n",
       "    }\n",
       "</style>\n",
       "<table border=\"1\" class=\"dataframe\">\n",
       "  <thead>\n",
       "    <tr style=\"text-align: right;\">\n",
       "      <th></th>\n",
       "      <th>fmis_transaction_date</th>\n",
       "      <th>program_code</th>\n",
       "      <th>program_code_description</th>\n",
       "      <th>project_number</th>\n",
       "      <th>recipient_project_number</th>\n",
       "      <th>project_title</th>\n",
       "      <th>county_code</th>\n",
       "      <th>congressional_district</th>\n",
       "      <th>improvement_type</th>\n",
       "      <th>improvement_type_description</th>\n",
       "      <th>obligations_amount</th>\n",
       "      <th>summary_recipient_defined_text_field_1_value</th>\n",
       "      <th>implementing_agency_locode</th>\n",
       "      <th>implementing_agency</th>\n",
       "      <th>district</th>\n",
       "      <th>county_name</th>\n",
       "      <th>rtpa_name</th>\n",
       "      <th>mpo_name</th>\n",
       "    </tr>\n",
       "  </thead>\n",
       "  <tbody>\n",
       "    <tr>\n",
       "      <th>894</th>\n",
       "      <td>2022-09-01</td>\n",
       "      <td>YS30</td>\n",
       "      <td>HIGHWAY SAFETY IMP PROG IIJA</td>\n",
       "      <td>P259002</td>\n",
       "      <td>0819000102S</td>\n",
       "      <td>IN SAN BERNARDINO COUNTY IN SAN BERNARDINO AT 0.1 MILE NORTH OF H STREET UNDERCROSSING CONSTRUCT MEDIAN BARRIER</td>\n",
       "      <td>71.00</td>\n",
       "      <td>Cong Dist 31</td>\n",
       "      <td>21.00</td>\n",
       "      <td>Safety</td>\n",
       "      <td>561,200.00</td>\n",
       "      <td>S    SCAG</td>\n",
       "      <td>NaN</td>\n",
       "      <td>California</td>\n",
       "      <td>8.00</td>\n",
       "      <td>San Bernardino County</td>\n",
       "      <td>NaN</td>\n",
       "      <td>NaN</td>\n",
       "    </tr>\n",
       "  </tbody>\n",
       "</table>\n",
       "</div>"
      ],
      "text/plain": [
       "    fmis_transaction_date program_code      program_code_description  \\\n",
       "894            2022-09-01         YS30  HIGHWAY SAFETY IMP PROG IIJA   \n",
       "\n",
       "    project_number recipient_project_number  \\\n",
       "894        P259002              0819000102S   \n",
       "\n",
       "                                                                                                       project_title  \\\n",
       "894  IN SAN BERNARDINO COUNTY IN SAN BERNARDINO AT 0.1 MILE NORTH OF H STREET UNDERCROSSING CONSTRUCT MEDIAN BARRIER   \n",
       "\n",
       "     county_code congressional_district  improvement_type  \\\n",
       "894        71.00           Cong Dist 31             21.00   \n",
       "\n",
       "    improvement_type_description  obligations_amount  \\\n",
       "894                       Safety          561,200.00   \n",
       "\n",
       "    summary_recipient_defined_text_field_1_value  implementing_agency_locode  \\\n",
       "894                                    S    SCAG                         NaN   \n",
       "\n",
       "    implementing_agency  district            county_name rtpa_name mpo_name  \n",
       "894          California      8.00  San Bernardino County       NaN      NaN  "
      ]
     },
     "execution_count": 9,
     "metadata": {},
     "output_type": "execute_result"
    }
   ],
   "source": [
    "full_df.sample()"
   ]
  },
  {
   "cell_type": "markdown",
   "id": "32bebefd-a78f-4299-a0a1-7aa8f6d136d1",
   "metadata": {},
   "source": [
    "* using `project_number` as unique id"
   ]
  },
  {
   "cell_type": "code",
   "execution_count": null,
   "id": "241b9349-bf16-466c-975d-46de34037791",
   "metadata": {},
   "outputs": [],
   "source": []
  },
  {
   "cell_type": "code",
   "execution_count": null,
   "id": "9f863d38-74f4-47b6-be96-405339acd364",
   "metadata": {},
   "outputs": [],
   "source": []
  },
  {
   "cell_type": "code",
   "execution_count": null,
   "id": "ff66813c-21b3-401e-bfe8-75004fe45a2c",
   "metadata": {},
   "outputs": [],
   "source": []
  },
  {
   "cell_type": "markdown",
   "id": "207efcec-a9dd-4e31-b774-b0e3716fed30",
   "metadata": {
    "tags": []
   },
   "source": [
    "## Put into full function"
   ]
  },
  {
   "cell_type": "code",
   "execution_count": 10,
   "id": "ab065cfc-9c39-4084-9dfe-f1f5a3b4ed65",
   "metadata": {},
   "outputs": [],
   "source": [
    "full_df = utils.get_new_desc_title(full_df)"
   ]
  },
  {
   "cell_type": "code",
   "execution_count": null,
   "id": "4a9b553c-05b3-442f-818d-c56b0db66967",
   "metadata": {},
   "outputs": [],
   "source": []
  },
  {
   "cell_type": "code",
   "execution_count": null,
   "id": "76a4cb22-883c-43ce-a82a-60ed7d262c06",
   "metadata": {},
   "outputs": [],
   "source": []
  },
  {
   "cell_type": "markdown",
   "id": "d4ebcdde-49aa-48e9-b78e-4b5c28dd219c",
   "metadata": {},
   "source": [
    "## Check new Title"
   ]
  },
  {
   "cell_type": "code",
   "execution_count": 11,
   "id": "f21bea79-4e30-4040-8f0a-bc052bcc9e66",
   "metadata": {},
   "outputs": [
    {
     "data": {
      "text/html": [
       "<div>\n",
       "<style scoped>\n",
       "    .dataframe tbody tr th:only-of-type {\n",
       "        vertical-align: middle;\n",
       "    }\n",
       "\n",
       "    .dataframe tbody tr th {\n",
       "        vertical-align: top;\n",
       "    }\n",
       "\n",
       "    .dataframe thead th {\n",
       "        text-align: right;\n",
       "    }\n",
       "</style>\n",
       "<table border=\"1\" class=\"dataframe\">\n",
       "  <thead>\n",
       "    <tr style=\"text-align: right;\">\n",
       "      <th></th>\n",
       "      <th>fmis_transaction_date</th>\n",
       "      <th>program_code</th>\n",
       "      <th>program_code_description</th>\n",
       "      <th>project_number</th>\n",
       "      <th>recipient_project_number</th>\n",
       "      <th>project_title</th>\n",
       "      <th>county_code</th>\n",
       "      <th>congressional_district</th>\n",
       "      <th>improvement_type</th>\n",
       "      <th>improvement_type_description</th>\n",
       "      <th>obligations_amount</th>\n",
       "      <th>summary_recipient_defined_text_field_1_value</th>\n",
       "      <th>implementing_agency_locode</th>\n",
       "      <th>implementing_agency</th>\n",
       "      <th>district</th>\n",
       "      <th>county_name</th>\n",
       "      <th>rtpa_name</th>\n",
       "      <th>mpo_name</th>\n",
       "      <th>project_title_new</th>\n",
       "    </tr>\n",
       "  </thead>\n",
       "  <tbody>\n",
       "    <tr>\n",
       "      <th>465</th>\n",
       "      <td>2022-06-16</td>\n",
       "      <td>Y301</td>\n",
       "      <td>TRANS ALTERNATIVES &gt;200K IIJA</td>\n",
       "      <td>5942301</td>\n",
       "      <td>0620000186L</td>\n",
       "      <td>ALONG GROVE AVENUE FROM PROSPECT AVENUE TO VALENTINE AVENUE, AND ALONG VALENTINE AVENUE FROM GROVE AVENUE TO NORTH AVENUE INSTALL AN ASPHALT CONCRETE</td>\n",
       "      <td>19.00</td>\n",
       "      <td>Cong Dist 16</td>\n",
       "      <td>28.00</td>\n",
       "      <td>Facilities for Pedestrians and Bicycles</td>\n",
       "      <td>411,733.00</td>\n",
       "      <td>L5942FCOG</td>\n",
       "      <td>5,942.00</td>\n",
       "      <td>Fresno County</td>\n",
       "      <td>6.00</td>\n",
       "      <td>Fresno County</td>\n",
       "      <td>Council of Fresno County Governments</td>\n",
       "      <td>Council Of Fresno County Goverments</td>\n",
       "      <td>Facilities for Pedestrians and Bicycles in Fresno County</td>\n",
       "    </tr>\n",
       "    <tr>\n",
       "      <th>84</th>\n",
       "      <td>2022-09-12</td>\n",
       "      <td>Y240</td>\n",
       "      <td>SURFAC TRNSP BLK GRTS-FLX IIJA</td>\n",
       "      <td>5027023</td>\n",
       "      <td>0422000486L</td>\n",
       "      <td>HEALDSBURG AVENUE BETWEEN POWELL AVENUE AND PASSALAQUA ROAD COMPLETE STREET IMPROVEMENTS</td>\n",
       "      <td>97.00</td>\n",
       "      <td>Cong Dist 2</td>\n",
       "      <td>15.00</td>\n",
       "      <td>Preliminary Engineering</td>\n",
       "      <td>600,000.00</td>\n",
       "      <td>L5920MTC</td>\n",
       "      <td>5,920.00</td>\n",
       "      <td>Sonoma County</td>\n",
       "      <td>4.00</td>\n",
       "      <td>Sonoma County</td>\n",
       "      <td>Metropolitan Transportation Commission</td>\n",
       "      <td>Metropolitan Transportation Commission</td>\n",
       "      <td>Improve Complete Streets in Sonoma County</td>\n",
       "    </tr>\n",
       "    <tr>\n",
       "      <th>362</th>\n",
       "      <td>2022-07-21</td>\n",
       "      <td>Y233</td>\n",
       "      <td>STBG IIJA OFF-SYSTEM BRIDGE</td>\n",
       "      <td>5922117</td>\n",
       "      <td>0319000127L</td>\n",
       "      <td>CR 40 OVER CACHE CREEK, 0.12 MILES SOUTH OF SR 16 BRIDGE REPLACEMENT. REPLACE EXISTING 1 LANE BRIDGE WITH A NEW 1 LANE BRIDGE. BR#22C0091 (TC)</td>\n",
       "      <td>113.00</td>\n",
       "      <td>Cong Dist 3</td>\n",
       "      <td>17.00</td>\n",
       "      <td>Construction Engineering</td>\n",
       "      <td>769,250.00</td>\n",
       "      <td>L5922SACOG</td>\n",
       "      <td>5,922.00</td>\n",
       "      <td>Yolo County</td>\n",
       "      <td>3.00</td>\n",
       "      <td>Yolo County</td>\n",
       "      <td>Sacramento Area Council of Governments</td>\n",
       "      <td>Sacramento Area Council Of Governments</td>\n",
       "      <td>Replace Bridge Replacement in Yolo County</td>\n",
       "    </tr>\n",
       "    <tr>\n",
       "      <th>295</th>\n",
       "      <td>2022-08-04</td>\n",
       "      <td>YS30</td>\n",
       "      <td>HIGHWAY SAFETY IMP PROG IIJA</td>\n",
       "      <td>5448009</td>\n",
       "      <td>0819000099L</td>\n",
       "      <td>HIGH-SPEED RURAL RESIDENTIAL AREAS BORDERED BY TWO MILE ROAD ON THE NORTH, BASELINE ROAD ON THE SOUTH, ENCELIA DRIVE TO THE WEST, AND ELM AVENUE ON T</td>\n",
       "      <td>71.00</td>\n",
       "      <td>Cong Dist 8</td>\n",
       "      <td>21.00</td>\n",
       "      <td>Safety</td>\n",
       "      <td>1,040,000.00</td>\n",
       "      <td>L5448SCAG</td>\n",
       "      <td>5,448.00</td>\n",
       "      <td>Twentynine Palms</td>\n",
       "      <td>8.00</td>\n",
       "      <td>San Bernardino County</td>\n",
       "      <td>San Bernardino Associated Governments</td>\n",
       "      <td>Southern California Association Of Governments</td>\n",
       "      <td>Safety Improvements in Twentynine Palms</td>\n",
       "    </tr>\n",
       "    <tr>\n",
       "      <th>105</th>\n",
       "      <td>2022-09-09</td>\n",
       "      <td>YS30</td>\n",
       "      <td>HIGHWAY SAFETY IMP PROG IIJA</td>\n",
       "      <td>5051005</td>\n",
       "      <td>0420000045L</td>\n",
       "      <td>ON SILVERADO TRAIL, WITH THE PROJECT LIMITS BORDERING NAPA COUNTY, BEGINNING FROM APPROXIMATELY 175 FEET NORTH OF HOWELL MOUNTAIN ROAD AND ENDING AT</td>\n",
       "      <td>41.00</td>\n",
       "      <td>Cong Dist 2</td>\n",
       "      <td>21.00</td>\n",
       "      <td>Safety</td>\n",
       "      <td>66,500.00</td>\n",
       "      <td>L5051MTC</td>\n",
       "      <td>5,051.00</td>\n",
       "      <td>St Helena</td>\n",
       "      <td>4.00</td>\n",
       "      <td>Napa County</td>\n",
       "      <td>Metropolitan Transportation Commission</td>\n",
       "      <td>Metropolitan Transportation Commission</td>\n",
       "      <td>Safety Improvements in St Helena</td>\n",
       "    </tr>\n",
       "  </tbody>\n",
       "</table>\n",
       "</div>"
      ],
      "text/plain": [
       "    fmis_transaction_date program_code        program_code_description  \\\n",
       "465            2022-06-16         Y301   TRANS ALTERNATIVES >200K IIJA   \n",
       "84             2022-09-12         Y240  SURFAC TRNSP BLK GRTS-FLX IIJA   \n",
       "362            2022-07-21         Y233     STBG IIJA OFF-SYSTEM BRIDGE   \n",
       "295            2022-08-04         YS30    HIGHWAY SAFETY IMP PROG IIJA   \n",
       "105            2022-09-09         YS30    HIGHWAY SAFETY IMP PROG IIJA   \n",
       "\n",
       "    project_number recipient_project_number  \\\n",
       "465        5942301              0620000186L   \n",
       "84         5027023              0422000486L   \n",
       "362        5922117              0319000127L   \n",
       "295        5448009              0819000099L   \n",
       "105        5051005              0420000045L   \n",
       "\n",
       "                                                                                                                                             project_title  \\\n",
       "465  ALONG GROVE AVENUE FROM PROSPECT AVENUE TO VALENTINE AVENUE, AND ALONG VALENTINE AVENUE FROM GROVE AVENUE TO NORTH AVENUE INSTALL AN ASPHALT CONCRETE   \n",
       "84                                                                HEALDSBURG AVENUE BETWEEN POWELL AVENUE AND PASSALAQUA ROAD COMPLETE STREET IMPROVEMENTS   \n",
       "362         CR 40 OVER CACHE CREEK, 0.12 MILES SOUTH OF SR 16 BRIDGE REPLACEMENT. REPLACE EXISTING 1 LANE BRIDGE WITH A NEW 1 LANE BRIDGE. BR#22C0091 (TC)   \n",
       "295  HIGH-SPEED RURAL RESIDENTIAL AREAS BORDERED BY TWO MILE ROAD ON THE NORTH, BASELINE ROAD ON THE SOUTH, ENCELIA DRIVE TO THE WEST, AND ELM AVENUE ON T   \n",
       "105   ON SILVERADO TRAIL, WITH THE PROJECT LIMITS BORDERING NAPA COUNTY, BEGINNING FROM APPROXIMATELY 175 FEET NORTH OF HOWELL MOUNTAIN ROAD AND ENDING AT   \n",
       "\n",
       "     county_code congressional_district  improvement_type  \\\n",
       "465        19.00           Cong Dist 16             28.00   \n",
       "84         97.00            Cong Dist 2             15.00   \n",
       "362       113.00            Cong Dist 3             17.00   \n",
       "295        71.00            Cong Dist 8             21.00   \n",
       "105        41.00            Cong Dist 2             21.00   \n",
       "\n",
       "                improvement_type_description  obligations_amount  \\\n",
       "465  Facilities for Pedestrians and Bicycles          411,733.00   \n",
       "84                   Preliminary Engineering          600,000.00   \n",
       "362                 Construction Engineering          769,250.00   \n",
       "295                                   Safety        1,040,000.00   \n",
       "105                                   Safety           66,500.00   \n",
       "\n",
       "    summary_recipient_defined_text_field_1_value  implementing_agency_locode  \\\n",
       "465                                    L5942FCOG                    5,942.00   \n",
       "84                                      L5920MTC                    5,920.00   \n",
       "362                                   L5922SACOG                    5,922.00   \n",
       "295                                    L5448SCAG                    5,448.00   \n",
       "105                                     L5051MTC                    5,051.00   \n",
       "\n",
       "    implementing_agency  district            county_name  \\\n",
       "465       Fresno County      6.00          Fresno County   \n",
       "84        Sonoma County      4.00          Sonoma County   \n",
       "362         Yolo County      3.00            Yolo County   \n",
       "295    Twentynine Palms      8.00  San Bernardino County   \n",
       "105           St Helena      4.00            Napa County   \n",
       "\n",
       "                                  rtpa_name  \\\n",
       "465    Council of Fresno County Governments   \n",
       "84   Metropolitan Transportation Commission   \n",
       "362  Sacramento Area Council of Governments   \n",
       "295   San Bernardino Associated Governments   \n",
       "105  Metropolitan Transportation Commission   \n",
       "\n",
       "                                           mpo_name  \\\n",
       "465             Council Of Fresno County Goverments   \n",
       "84           Metropolitan Transportation Commission   \n",
       "362          Sacramento Area Council Of Governments   \n",
       "295  Southern California Association Of Governments   \n",
       "105          Metropolitan Transportation Commission   \n",
       "\n",
       "                                             project_title_new  \n",
       "465   Facilities for Pedestrians and Bicycles in Fresno County  \n",
       "84                   Improve Complete Streets in Sonoma County  \n",
       "362                  Replace Bridge Replacement in Yolo County  \n",
       "295                    Safety Improvements in Twentynine Palms  \n",
       "105                           Safety Improvements in St Helena  "
      ]
     },
     "execution_count": 11,
     "metadata": {},
     "output_type": "execute_result"
    }
   ],
   "source": [
    "full_df.sample(5)"
   ]
  },
  {
   "cell_type": "code",
   "execution_count": 12,
   "id": "438e5b98-fa3a-4755-b4c3-06df8b69b576",
   "metadata": {},
   "outputs": [
    {
     "data": {
      "text/plain": [
       "1241"
      ]
     },
     "execution_count": 12,
     "metadata": {},
     "output_type": "execute_result"
    }
   ],
   "source": [
    "#checking the length of entries here to make sure\n",
    "len(full_df)"
   ]
  },
  {
   "cell_type": "code",
   "execution_count": 13,
   "id": "1951f498-31d3-4731-a878-10f2559ff624",
   "metadata": {},
   "outputs": [
    {
     "data": {
      "text/html": [
       "<div>\n",
       "<style scoped>\n",
       "    .dataframe tbody tr th:only-of-type {\n",
       "        vertical-align: middle;\n",
       "    }\n",
       "\n",
       "    .dataframe tbody tr th {\n",
       "        vertical-align: top;\n",
       "    }\n",
       "\n",
       "    .dataframe thead th {\n",
       "        text-align: right;\n",
       "    }\n",
       "</style>\n",
       "<table border=\"1\" class=\"dataframe\">\n",
       "  <thead>\n",
       "    <tr style=\"text-align: right;\">\n",
       "      <th></th>\n",
       "      <th>project_title_new</th>\n",
       "      <th>n</th>\n",
       "    </tr>\n",
       "  </thead>\n",
       "  <tbody>\n",
       "    <tr>\n",
       "      <th>92</th>\n",
       "      <td>Planning Statewide</td>\n",
       "      <td>43</td>\n",
       "    </tr>\n",
       "    <tr>\n",
       "      <th>134</th>\n",
       "      <td>Road Restoration &amp; Rehabilitation in Los Angeles County</td>\n",
       "      <td>33</td>\n",
       "    </tr>\n",
       "    <tr>\n",
       "      <th>143</th>\n",
       "      <td>Road Restoration &amp; Rehabilitation in San Diego County</td>\n",
       "      <td>23</td>\n",
       "    </tr>\n",
       "    <tr>\n",
       "      <th>431</th>\n",
       "      <td>Replace Signage in Los Angeles County</td>\n",
       "      <td>21</td>\n",
       "    </tr>\n",
       "    <tr>\n",
       "      <th>165</th>\n",
       "      <td>Safety Improvements in Los Angeles County</td>\n",
       "      <td>19</td>\n",
       "    </tr>\n",
       "    <tr>\n",
       "      <th>...</th>\n",
       "      <td>...</td>\n",
       "      <td>...</td>\n",
       "    </tr>\n",
       "    <tr>\n",
       "      <th>436</th>\n",
       "      <td>Upgrade Bike Lanes in Galt</td>\n",
       "      <td>1</td>\n",
       "    </tr>\n",
       "    <tr>\n",
       "      <th>437</th>\n",
       "      <td>Upgrade Erosion Countermeasures in Ventura County</td>\n",
       "      <td>1</td>\n",
       "    </tr>\n",
       "    <tr>\n",
       "      <th>441</th>\n",
       "      <td>Upgrade Guardrails in Jurupa Valley</td>\n",
       "      <td>1</td>\n",
       "    </tr>\n",
       "    <tr>\n",
       "      <th>453</th>\n",
       "      <td>Upgrade Traffic Signals in San Bernardino</td>\n",
       "      <td>1</td>\n",
       "    </tr>\n",
       "    <tr>\n",
       "      <th>454</th>\n",
       "      <td>Upgrade Traffic Signals in Santa Rosa</td>\n",
       "      <td>1</td>\n",
       "    </tr>\n",
       "  </tbody>\n",
       "</table>\n",
       "<p>456 rows × 2 columns</p>\n",
       "</div>"
      ],
      "text/plain": [
       "                                            project_title_new   n\n",
       "92                                         Planning Statewide  43\n",
       "134   Road Restoration & Rehabilitation in Los Angeles County  33\n",
       "143     Road Restoration & Rehabilitation in San Diego County  23\n",
       "431                     Replace Signage in Los Angeles County  21\n",
       "165                 Safety Improvements in Los Angeles County  19\n",
       "..                                                        ...  ..\n",
       "436                                Upgrade Bike Lanes in Galt   1\n",
       "437         Upgrade Erosion Countermeasures in Ventura County   1\n",
       "441                       Upgrade Guardrails in Jurupa Valley   1\n",
       "453                 Upgrade Traffic Signals in San Bernardino   1\n",
       "454                     Upgrade Traffic Signals in Santa Rosa   1\n",
       "\n",
       "[456 rows x 2 columns]"
      ]
     },
     "execution_count": 13,
     "metadata": {},
     "output_type": "execute_result"
    }
   ],
   "source": [
    "full_df>>count(_.project_title_new)>>arrange(-_.n)"
   ]
  },
  {
   "cell_type": "code",
   "execution_count": 14,
   "id": "a6207a8c-b9e2-413d-b92d-d4d864d10cd5",
   "metadata": {},
   "outputs": [
    {
     "data": {
      "text/plain": [
       "0"
      ]
     },
     "execution_count": 14,
     "metadata": {},
     "output_type": "execute_result"
    }
   ],
   "source": [
    "len(full_df>>filter(_.project_title_new.str.contains(\"in California\")))"
   ]
  },
  {
   "cell_type": "code",
   "execution_count": 15,
   "id": "1115f8c9-ad45-4928-87e4-b9605bab9ded",
   "metadata": {},
   "outputs": [
    {
     "data": {
      "text/html": [
       "<div>\n",
       "<style scoped>\n",
       "    .dataframe tbody tr th:only-of-type {\n",
       "        vertical-align: middle;\n",
       "    }\n",
       "\n",
       "    .dataframe tbody tr th {\n",
       "        vertical-align: top;\n",
       "    }\n",
       "\n",
       "    .dataframe thead th {\n",
       "        text-align: right;\n",
       "    }\n",
       "</style>\n",
       "<table border=\"1\" class=\"dataframe\">\n",
       "  <thead>\n",
       "    <tr style=\"text-align: right;\">\n",
       "      <th></th>\n",
       "      <th>project_title_new</th>\n",
       "      <th>n</th>\n",
       "    </tr>\n",
       "  </thead>\n",
       "  <tbody>\n",
       "  </tbody>\n",
       "</table>\n",
       "</div>"
      ],
      "text/plain": [
       "Empty DataFrame\n",
       "Columns: [project_title_new, n]\n",
       "Index: []"
      ]
     },
     "execution_count": 15,
     "metadata": {},
     "output_type": "execute_result"
    }
   ],
   "source": [
    "full_df>>filter(_.project_title_new.str.contains(\"in California\"))>>count(_.project_title_new)"
   ]
  },
  {
   "cell_type": "code",
   "execution_count": 16,
   "id": "6f306c16-7e11-442d-aaf9-e525fa637daf",
   "metadata": {
    "tags": []
   },
   "outputs": [
    {
     "data": {
      "text/html": [
       "<div>\n",
       "<style scoped>\n",
       "    .dataframe tbody tr th:only-of-type {\n",
       "        vertical-align: middle;\n",
       "    }\n",
       "\n",
       "    .dataframe tbody tr th {\n",
       "        vertical-align: top;\n",
       "    }\n",
       "\n",
       "    .dataframe thead th {\n",
       "        text-align: right;\n",
       "    }\n",
       "</style>\n",
       "<table border=\"1\" class=\"dataframe\">\n",
       "  <thead>\n",
       "    <tr style=\"text-align: right;\">\n",
       "      <th></th>\n",
       "      <th>fmis_transaction_date</th>\n",
       "      <th>program_code</th>\n",
       "      <th>program_code_description</th>\n",
       "      <th>project_number</th>\n",
       "      <th>recipient_project_number</th>\n",
       "      <th>project_title</th>\n",
       "      <th>county_code</th>\n",
       "      <th>congressional_district</th>\n",
       "      <th>improvement_type</th>\n",
       "      <th>improvement_type_description</th>\n",
       "      <th>obligations_amount</th>\n",
       "      <th>summary_recipient_defined_text_field_1_value</th>\n",
       "      <th>implementing_agency_locode</th>\n",
       "      <th>implementing_agency</th>\n",
       "      <th>district</th>\n",
       "      <th>county_name</th>\n",
       "      <th>rtpa_name</th>\n",
       "      <th>mpo_name</th>\n",
       "      <th>project_title_new</th>\n",
       "    </tr>\n",
       "  </thead>\n",
       "  <tbody>\n",
       "  </tbody>\n",
       "</table>\n",
       "</div>"
      ],
      "text/plain": [
       "Empty DataFrame\n",
       "Columns: [fmis_transaction_date, program_code, program_code_description, project_number, recipient_project_number, project_title, county_code, congressional_district, improvement_type, improvement_type_description, obligations_amount, summary_recipient_defined_text_field_1_value, implementing_agency_locode, implementing_agency, district, county_name, rtpa_name, mpo_name, project_title_new]\n",
       "Index: []"
      ]
     },
     "execution_count": 16,
     "metadata": {},
     "output_type": "execute_result"
    }
   ],
   "source": [
    "full_df>>filter(_.project_title_new==\"Road Restoration & Rehabilitation in California\")"
   ]
  },
  {
   "cell_type": "code",
   "execution_count": null,
   "id": "3b4f599f-53ba-4a9d-b5cb-6d0017cfbd36",
   "metadata": {},
   "outputs": [],
   "source": []
  },
  {
   "cell_type": "markdown",
   "id": "1106a046-9c96-4547-a963-51700e91765c",
   "metadata": {},
   "source": [
    "## Rework "
   ]
  },
  {
   "cell_type": "markdown",
   "id": "66c099ed-ebad-45c4-b064-df280430329d",
   "metadata": {},
   "source": [
    "problem: \n",
    "* current title function `update_no_matched` overrides entries Statewide. \n",
    "* to do: change the output to be in the description column, not the title column\n",
    "* then the title will be formulated/corrected with the `add_new_title` for agency name"
   ]
  },
  {
   "cell_type": "code",
   "execution_count": 17,
   "id": "14dac782-37c1-4e10-b281-5aeb9863121d",
   "metadata": {},
   "outputs": [],
   "source": [
    "testdf = full_df.copy()"
   ]
  },
  {
   "cell_type": "code",
   "execution_count": 18,
   "id": "aaeefb1a-600c-4cee-8310-4a45e72284db",
   "metadata": {},
   "outputs": [
    {
     "data": {
      "text/html": [
       "<div>\n",
       "<style scoped>\n",
       "    .dataframe tbody tr th:only-of-type {\n",
       "        vertical-align: middle;\n",
       "    }\n",
       "\n",
       "    .dataframe tbody tr th {\n",
       "        vertical-align: top;\n",
       "    }\n",
       "\n",
       "    .dataframe thead th {\n",
       "        text-align: right;\n",
       "    }\n",
       "</style>\n",
       "<table border=\"1\" class=\"dataframe\">\n",
       "  <thead>\n",
       "    <tr style=\"text-align: right;\">\n",
       "      <th></th>\n",
       "      <th>fmis_transaction_date</th>\n",
       "      <th>program_code</th>\n",
       "      <th>program_code_description</th>\n",
       "      <th>project_number</th>\n",
       "      <th>recipient_project_number</th>\n",
       "      <th>project_title</th>\n",
       "      <th>county_code</th>\n",
       "      <th>congressional_district</th>\n",
       "      <th>improvement_type</th>\n",
       "      <th>improvement_type_description</th>\n",
       "      <th>obligations_amount</th>\n",
       "      <th>summary_recipient_defined_text_field_1_value</th>\n",
       "      <th>implementing_agency_locode</th>\n",
       "      <th>implementing_agency</th>\n",
       "      <th>district</th>\n",
       "      <th>county_name</th>\n",
       "      <th>rtpa_name</th>\n",
       "      <th>mpo_name</th>\n",
       "      <th>project_title_new</th>\n",
       "    </tr>\n",
       "  </thead>\n",
       "  <tbody>\n",
       "    <tr>\n",
       "      <th>110</th>\n",
       "      <td>2022-08-22</td>\n",
       "      <td>Y400</td>\n",
       "      <td>CONGESTION MITIGATION IIJA</td>\n",
       "      <td>5059236</td>\n",
       "      <td>1019000088L</td>\n",
       "      <td>FIVE INTERSECTIONS WITHIN THE CITY OF MODESTO AS FOLLOWS: 1.) BLUE GUM AVE/CARPENTER AVE, 2.) I ST/14TH ST, 3.) I ST./17TH ST, 4.) G ST/12TH ST, AND</td>\n",
       "      <td>99.00</td>\n",
       "      <td>Cong Dist 10</td>\n",
       "      <td>24.00</td>\n",
       "      <td>Traffic Management/Engineering - HOV</td>\n",
       "      <td>1,024,714.00</td>\n",
       "      <td>L5059STANCOG</td>\n",
       "      <td>5,059.00</td>\n",
       "      <td>Modesto</td>\n",
       "      <td>10.00</td>\n",
       "      <td>Stanislaus County</td>\n",
       "      <td>Stanislaus Council of Governments</td>\n",
       "      <td>Stanislaus Council Of Governments</td>\n",
       "      <td>Traffic Management Project in Modesto</td>\n",
       "    </tr>\n",
       "  </tbody>\n",
       "</table>\n",
       "</div>"
      ],
      "text/plain": [
       "    fmis_transaction_date program_code    program_code_description  \\\n",
       "110            2022-08-22         Y400  CONGESTION MITIGATION IIJA   \n",
       "\n",
       "    project_number recipient_project_number  \\\n",
       "110        5059236              1019000088L   \n",
       "\n",
       "                                                                                                                                            project_title  \\\n",
       "110  FIVE INTERSECTIONS WITHIN THE CITY OF MODESTO AS FOLLOWS: 1.) BLUE GUM AVE/CARPENTER AVE, 2.) I ST/14TH ST, 3.) I ST./17TH ST, 4.) G ST/12TH ST, AND   \n",
       "\n",
       "     county_code congressional_district  improvement_type  \\\n",
       "110        99.00           Cong Dist 10             24.00   \n",
       "\n",
       "             improvement_type_description  obligations_amount  \\\n",
       "110  Traffic Management/Engineering - HOV        1,024,714.00   \n",
       "\n",
       "    summary_recipient_defined_text_field_1_value  implementing_agency_locode  \\\n",
       "110                                 L5059STANCOG                    5,059.00   \n",
       "\n",
       "    implementing_agency  district        county_name  \\\n",
       "110             Modesto     10.00  Stanislaus County   \n",
       "\n",
       "                             rtpa_name                           mpo_name  \\\n",
       "110  Stanislaus Council of Governments  Stanislaus Council Of Governments   \n",
       "\n",
       "                          project_title_new  \n",
       "110   Traffic Management Project in Modesto  "
      ]
     },
     "execution_count": 18,
     "metadata": {},
     "output_type": "execute_result"
    }
   ],
   "source": [
    "testdf.sample()"
   ]
  },
  {
   "cell_type": "code",
   "execution_count": null,
   "id": "45d80a7b-88a5-4f01-ac14-c68ec9f5bfcd",
   "metadata": {},
   "outputs": [],
   "source": []
  },
  {
   "cell_type": "code",
   "execution_count": 19,
   "id": "1e444846-2fd9-4151-a100-cfd9b35e8ee8",
   "metadata": {},
   "outputs": [],
   "source": [
    "# def update_no_matched2(df, flag_col, desc_col, program_code_desc_col): \n",
    "#     \"\"\"\n",
    "#     function to itreate over projects that did not match the first time\n",
    "#     using an existing project's short description of project type. \n",
    "#     \"\"\"\n",
    "    \n",
    "#     def return_project_type(df):\n",
    "        \n",
    "#         if (df[flag_col] == \"Project\") & (df[desc_col] == \"Bridge Rehabilitation\") | (df[desc_col] ==\"Bridge Rehabilitation - No Added Capacity\") | (df[desc_col] ==\"Bridge Rehabilitation - Added Capacity\"):\n",
    "#             return (\"Bridge Rehabilitation\")\n",
    "        \n",
    "#         elif (df[flag_col] == \"Project\") & (df[desc_col] == \"Facilities for Pedestrians and Bicycles\"):\n",
    "#             return (df[desc_col])\n",
    "        \n",
    "#         elif (df[flag_col] == \"Project\") & (df[desc_col] == \"Safety\"):\n",
    "#             return (df[desc_col] + \" Improvements\")\n",
    "            \n",
    "#         elif (df[flag_col] == \"Project\") & (df[desc_col] == \"Planning \"):\n",
    "#             return \"Project Planning\" \n",
    "            \n",
    "#         elif (df[flag_col] == \"Project\") & (df[desc_col] == \"Preliminary Engineering\"):\n",
    "#             return (df[desc_col] + \" Projects \")\n",
    "        \n",
    "#         elif (df[flag_col] == \"Project\") & (df[desc_col] == \"Construction Engineering\"):\n",
    "#             return (df[desc_col] + \" Projects\")\n",
    "        \n",
    "#         elif (df[flag_col] == \"Project\") & (df[desc_col] == \"4R - Restoration & Rehabilitation\"):\n",
    "#             return (\"Road Restoration & Rehabilitation\")\n",
    "        \n",
    "#         elif (df[flag_col] == \"Project\") & (df[desc_col] == \"4R - Maintenance  Resurfacing\"):\n",
    "#             return (\"Maintenance Resurfacing\")\n",
    "        \n",
    "#         elif (df[flag_col] == \"Project\") & (df[desc_col] == \"Bridge Replacement - Added Capacity\") | (df[desc_col] == \"Bridge Replacement - No Added Capacity\") | (df[desc_col] == \"Bridge New Construction\") | (df[desc_col] == \"Special Bridge\"):\n",
    "#             return (\"Bridge Replacement\")\n",
    "        \n",
    "#         elif (df[flag_col] == \"Project\") & (df[desc_col] == \"Mitigation of Water Pollution due to Highway Runoff\"):\n",
    "#             return (df[desc_col])\n",
    "        \n",
    "#         elif (df[flag_col] == \"Project\") & (df[desc_col] == \"4R - Added Capacity\"):\n",
    "#             return (\"Added Roadway Capacity\")\n",
    "        \n",
    "#         elif (df[flag_col] == \"Project\") & (df[desc_col] == \"4R - No Added Capacity\"):\n",
    "#             return (\"Road Construction\")\n",
    "        \n",
    "#         elif (df[flag_col] == \"Project\") & (df[desc_col] == \"New  Construction Roadway\"):\n",
    "#             return (\"New Construction Roadway\")\n",
    "        \n",
    "#         elif (df[flag_col] == \"Project\") & (df[desc_col] == \"Traffic Management/Engineering - HOV\"):\n",
    "#             return (\"Traffic Management Project\")\n",
    "        \n",
    "#         elif (df[flag_col] == \"Project\") & (df[desc_col] == \"Right of Way\"):\n",
    "#             return (df[desc_col] + \" Project\")\n",
    "        \n",
    "#         elif (df[flag_col] == \"Project\") & (df[program_code_desc_col]== \"NATIONAL HIGHWAY PERF IIJA\"): \n",
    "#             return (\"National Highway System Support\") \n",
    "        \n",
    "#         elif (df[flag_col] == \"Project\") & (df[desc_col] != \"Other\"):\n",
    "#             return (df[desc_col])\n",
    "    \n",
    "#         else:\n",
    "#             return df[flag_col] \n",
    "\n",
    "#         return df\n",
    "\n",
    "#     df['project_type'] = df.apply(return_project_type, axis = 1)\n",
    "\n",
    "#     return df"
   ]
  },
  {
   "cell_type": "code",
   "execution_count": null,
   "id": "d8e89bf5-54be-4d73-aaec-68ad57866218",
   "metadata": {},
   "outputs": [],
   "source": []
  },
  {
   "cell_type": "code",
   "execution_count": 20,
   "id": "97dc4b9f-c859-45ff-bf04-4f48a468c95a",
   "metadata": {},
   "outputs": [],
   "source": [
    "## move off to utils\n",
    "# #deconstruct this function\n",
    "# def get_new_desc_title(df):\n",
    "#     '''\n",
    "#     function takes the unique project ids and uses the title functions above to create a\n",
    "#     unique title for each project (each project can have multiple phases).\n",
    "#     this function then maps back to the original df\n",
    "    \n",
    "#     note: we can only use this function once in the notebook. second time running will throw an error. \n",
    "#     '''\n",
    "    \n",
    "#     proj_one_row = df.groupby(['project_number', 'project_title'])['obligations_amount'].max().reset_index()\n",
    "#     merge_cols = ['project_number','project_title','obligations_amount']\n",
    "    \n",
    "#     proj_unique = (pd.merge(proj_one_row, df, how='left', on=merge_cols))\n",
    "    \n",
    "#     #add descriptions\n",
    "#     proj_unique_cat = utils.add_description(proj_unique, 'project_title')\n",
    "    \n",
    "#     #remove project method column values so that the title function wont double count\n",
    "#     proj_unique_cat.loc[proj_unique_cat['project_type'] == 'Project', 'project_method'] = \"\"\n",
    "    \n",
    "#      #update for the projects not in the first round of descriptions\n",
    "#     proj_unique_cat_title = utils.update_no_matched(proj_unique_cat, \"project_type\", 'improvement_type_description', 'program_code_description')\n",
    "    \n",
    "#     #add title - second round to account for statewide projects\n",
    "#     proj_unique_cat_title = utils.add_new_title(proj_unique_cat, \"project_method\", \"project_type\", \"implementing_agency\", \"county_name\")\n",
    "    \n",
    "#     # rename new title one\n",
    "#     proj_unique_cat_title = proj_unique_cat_title.rename(columns={'project_name_new':'project_title_new'})\n",
    "    \n",
    "#     #map the title back to df\n",
    "#     proj_title_mapping = (dict(proj_unique_cat_title[['project_number', 'project_title_new']].values))\n",
    "    \n",
    "#     df['project_title_new'] = df.project_number.map(proj_title_mapping)\n",
    "\n",
    "#     return df\n"
   ]
  },
  {
   "cell_type": "code",
   "execution_count": 21,
   "id": "931ed8c2-2679-49a7-bf42-0c76d4b2fa80",
   "metadata": {},
   "outputs": [],
   "source": [
    "# Testing reworked function"
   ]
  },
  {
   "cell_type": "code",
   "execution_count": 22,
   "id": "0e7cd189-2a82-4b31-a327-2d7623d903f0",
   "metadata": {},
   "outputs": [],
   "source": [
    "# testdf =.get_new_desc_title(testdf)"
   ]
  },
  {
   "cell_type": "code",
   "execution_count": 23,
   "id": "6299dffc-1a50-45bb-8857-eacd5257144f",
   "metadata": {},
   "outputs": [],
   "source": [
    "# testdf"
   ]
  },
  {
   "cell_type": "code",
   "execution_count": null,
   "id": "421fce1f-93b4-4e96-b4d5-62d57f1b787b",
   "metadata": {},
   "outputs": [],
   "source": []
  },
  {
   "cell_type": "markdown",
   "id": "c9483a31-76d2-4eaa-ae14-a50b4c58c055",
   "metadata": {},
   "source": [
    "### Deconstructing Function"
   ]
  },
  {
   "cell_type": "code",
   "execution_count": 24,
   "id": "b60d9f29-fb9d-4614-9868-64e989ed910c",
   "metadata": {},
   "outputs": [],
   "source": [
    "# proj_one_row = testdf.groupby(['project_number', 'project_title'])['obligations_amount'].max().reset_index()\n",
    "# merge_cols = ['project_number','project_title','obligations_amount']\n",
    "    \n",
    "# proj_unique = (pd.merge(proj_one_row, testdf, how='left', on=merge_cols))"
   ]
  },
  {
   "cell_type": "code",
   "execution_count": 25,
   "id": "cb81ea32-5e6d-4484-a478-909c0cbed038",
   "metadata": {},
   "outputs": [],
   "source": [
    "# proj_unique_cat = utils.add_description(proj_unique, 'project_title')"
   ]
  },
  {
   "cell_type": "code",
   "execution_count": 26,
   "id": "45533d6e-fe09-4a06-afb6-4dbdd843b1b3",
   "metadata": {},
   "outputs": [],
   "source": [
    "# proj_unique_cat.loc[proj_unique_cat['project_type'] == 'Project', 'project_method'] = \"\""
   ]
  },
  {
   "cell_type": "code",
   "execution_count": 27,
   "id": "e269c531-64fa-4039-8fd0-bb2770130d3c",
   "metadata": {},
   "outputs": [],
   "source": [
    "# proj_unique_cat = update_no_matched2(proj_unique_cat, \"project_type\", 'improvement_type_description', 'program_code_description')"
   ]
  },
  {
   "cell_type": "code",
   "execution_count": 28,
   "id": "26432499-18d1-43a5-99d4-aec8c8d83779",
   "metadata": {},
   "outputs": [],
   "source": [
    "# proj_unique_cat_title = utils.add_new_title(proj_unique_cat, \"project_method\", \"project_type\", \"implementing_agency\", \"county_name\")"
   ]
  },
  {
   "cell_type": "code",
   "execution_count": 29,
   "id": "68f8a30a-4943-4604-a9df-d6b249fd6dd3",
   "metadata": {},
   "outputs": [],
   "source": [
    "# proj_unique_cat_title"
   ]
  },
  {
   "cell_type": "code",
   "execution_count": null,
   "id": "2e9e2cc9-4195-42c3-8f71-9cae936a2b2d",
   "metadata": {},
   "outputs": [],
   "source": []
  },
  {
   "cell_type": "code",
   "execution_count": 30,
   "id": "eb01af8a-9bfe-45a8-976a-a0010c111377",
   "metadata": {},
   "outputs": [],
   "source": [
    "# checking to make sure the project names have changed\n",
    "# proj_unique_cat_title>>count(_.project_name_new)>>arrange(-_.n)"
   ]
  },
  {
   "cell_type": "code",
   "execution_count": 31,
   "id": "08cf82fe-2b96-4c98-ad2b-82fdcc6ce19d",
   "metadata": {},
   "outputs": [],
   "source": [
    "# worked! adjusting utils functions "
   ]
  },
  {
   "cell_type": "code",
   "execution_count": null,
   "id": "770080a7-e86f-43b2-b4db-f75eb42b90ed",
   "metadata": {},
   "outputs": [],
   "source": []
  },
  {
   "cell_type": "code",
   "execution_count": null,
   "id": "5e7d638d-5ab4-4670-b123-f2217cd5a9c5",
   "metadata": {},
   "outputs": [],
   "source": []
  },
  {
   "cell_type": "code",
   "execution_count": null,
   "id": "2771a496-9f7d-4549-8bb9-7a17fb7e96a9",
   "metadata": {},
   "outputs": [],
   "source": []
  },
  {
   "cell_type": "code",
   "execution_count": null,
   "id": "6a61a9f7-f541-4b9f-b780-2fc2269043a2",
   "metadata": {},
   "outputs": [],
   "source": []
  },
  {
   "cell_type": "code",
   "execution_count": null,
   "id": "5d43116c-dfd2-4d0d-bd31-5fc2cbfd2de9",
   "metadata": {},
   "outputs": [],
   "source": []
  },
  {
   "cell_type": "code",
   "execution_count": null,
   "id": "92833ad4-64a2-4dd7-9545-e5d112be2257",
   "metadata": {},
   "outputs": [],
   "source": []
  },
  {
   "cell_type": "markdown",
   "id": "06c562df-1c46-46a8-ae7c-ec8fca66765e",
   "metadata": {
    "tags": []
   },
   "source": [
    "## Export data frame with new titles"
   ]
  },
  {
   "cell_type": "code",
   "execution_count": 32,
   "id": "3db36a46-ef98-4afd-b050-1bdbd6fb9db2",
   "metadata": {},
   "outputs": [],
   "source": [
    "#GCS_FILE_PATH  = 'gs://calitp-analytics-data/data-analyses/dla/dla-iija'"
   ]
  },
  {
   "cell_type": "code",
   "execution_count": 33,
   "id": "e6a37a73-13a4-4268-a9c7-c63d5fd81986",
   "metadata": {},
   "outputs": [],
   "source": [
    "#test_df = utils.title_column_names(full_df)"
   ]
  },
  {
   "cell_type": "code",
   "execution_count": 34,
   "id": "0d5c2dab-66fc-4c0e-b192-0c62c7221ceb",
   "metadata": {},
   "outputs": [],
   "source": [
    "#test_df.to_csv(f\"{GCS_FILE_PATH}/FMIS_projects_all.csv\")"
   ]
  },
  {
   "cell_type": "code",
   "execution_count": null,
   "id": "6ac8e628-7f1e-4621-91a7-27c82b79ed89",
   "metadata": {},
   "outputs": [],
   "source": []
  },
  {
   "cell_type": "code",
   "execution_count": null,
   "id": "258b1be8-0ba4-4606-9dfc-5065d3cd344d",
   "metadata": {},
   "outputs": [],
   "source": []
  },
  {
   "cell_type": "code",
   "execution_count": 35,
   "id": "54b5614c-4df7-42f9-98db-ec8a1f1276b7",
   "metadata": {},
   "outputs": [
    {
     "data": {
      "text/html": [
       "<div>\n",
       "<style scoped>\n",
       "    .dataframe tbody tr th:only-of-type {\n",
       "        vertical-align: middle;\n",
       "    }\n",
       "\n",
       "    .dataframe tbody tr th {\n",
       "        vertical-align: top;\n",
       "    }\n",
       "\n",
       "    .dataframe thead th {\n",
       "        text-align: right;\n",
       "    }\n",
       "</style>\n",
       "<table border=\"1\" class=\"dataframe\">\n",
       "  <thead>\n",
       "    <tr style=\"text-align: right;\">\n",
       "      <th></th>\n",
       "      <th>fmis_transaction_date</th>\n",
       "      <th>program_code</th>\n",
       "      <th>program_code_description</th>\n",
       "      <th>project_number</th>\n",
       "      <th>recipient_project_number</th>\n",
       "      <th>project_title</th>\n",
       "      <th>county_code</th>\n",
       "      <th>congressional_district</th>\n",
       "      <th>improvement_type</th>\n",
       "      <th>improvement_type_description</th>\n",
       "      <th>obligations_amount</th>\n",
       "      <th>summary_recipient_defined_text_field_1_value</th>\n",
       "      <th>implementing_agency_locode</th>\n",
       "      <th>implementing_agency</th>\n",
       "      <th>district</th>\n",
       "      <th>county_name</th>\n",
       "      <th>rtpa_name</th>\n",
       "      <th>mpo_name</th>\n",
       "      <th>project_title_new</th>\n",
       "    </tr>\n",
       "  </thead>\n",
       "  <tbody>\n",
       "    <tr>\n",
       "      <th>29</th>\n",
       "      <td>2022-02-10</td>\n",
       "      <td>YS30</td>\n",
       "      <td>HIGHWAY SAFETY IMP PROG IIJA</td>\n",
       "      <td>5005165</td>\n",
       "      <td>0422000006L</td>\n",
       "      <td>MONTEREY ROAD FROM COTTLE ROAD TO METCALF ROAD UPGRADE GUARDRAILS TO CURRENT STANDARDS</td>\n",
       "      <td>85.00</td>\n",
       "      <td>Cong Dist 19</td>\n",
       "      <td>17.00</td>\n",
       "      <td>Construction Engineering</td>\n",
       "      <td>150,000.00</td>\n",
       "      <td>L5005MTC</td>\n",
       "      <td>5,005.00</td>\n",
       "      <td>San Jose</td>\n",
       "      <td>4.00</td>\n",
       "      <td>Santa Clara County</td>\n",
       "      <td>Metropolitan Transportation Commission</td>\n",
       "      <td>Metropolitan Transportation Commission</td>\n",
       "      <td>Upgrade Guardrails in San Jose</td>\n",
       "    </tr>\n",
       "    <tr>\n",
       "      <th>535</th>\n",
       "      <td>2022-07-18</td>\n",
       "      <td>Y230</td>\n",
       "      <td>STBG-URBANIZED &gt;200K IIJA</td>\n",
       "      <td>6084285</td>\n",
       "      <td>0422000500L</td>\n",
       "      <td>BAY AREA REGIONAL: REGIONAL PLANNING ACTIVITIES AND PLANNING, PROGRAMMING AND MONITORING (PPM). PRIOR YEAR FUNDING PROGRAMMED ON REG170001 (TC)</td>\n",
       "      <td>1.00</td>\n",
       "      <td>Cong Dist 17</td>\n",
       "      <td>44.00</td>\n",
       "      <td>Other</td>\n",
       "      <td>16,383,916.54</td>\n",
       "      <td>L6084MTC</td>\n",
       "      <td>6,084.00</td>\n",
       "      <td>Metropolitan Transportation Commission</td>\n",
       "      <td>4.00</td>\n",
       "      <td>Multi-County</td>\n",
       "      <td>NON-RTPA</td>\n",
       "      <td>Metropolitan Transportation Commission</td>\n",
       "      <td>Regional Planning Activities in Metropolitan Transportation Commission</td>\n",
       "    </tr>\n",
       "    <tr>\n",
       "      <th>755</th>\n",
       "      <td>2022-07-06</td>\n",
       "      <td>Y001</td>\n",
       "      <td>NATIONAL HIGHWAY PERF IIJA</td>\n",
       "      <td>P060161</td>\n",
       "      <td>0716000080S</td>\n",
       "      <td>IN AND NEAR DIAMOND BAR, FROM FULLERTON ROAD TO DIAMOND BAR BOULEVARD. CONSTRUCT AND INSTALL STORMWATER TREATMENT BEST MANAGEMENT PRACTICES (BMPS) IN</td>\n",
       "      <td>37.00</td>\n",
       "      <td>Cong Dist 39</td>\n",
       "      <td>17.00</td>\n",
       "      <td>Construction Engineering</td>\n",
       "      <td>1,697,780.50</td>\n",
       "      <td>S    SCAG</td>\n",
       "      <td>NaN</td>\n",
       "      <td>California</td>\n",
       "      <td>7.00</td>\n",
       "      <td>Los Angeles County</td>\n",
       "      <td>NaN</td>\n",
       "      <td>NaN</td>\n",
       "      <td>Install Storm Water Mitigation in Los Angeles County</td>\n",
       "    </tr>\n",
       "    <tr>\n",
       "      <th>829</th>\n",
       "      <td>2022-05-06</td>\n",
       "      <td>Y001</td>\n",
       "      <td>NATIONAL HIGHWAY PERF IIJA</td>\n",
       "      <td>P110023</td>\n",
       "      <td>0716000206S</td>\n",
       "      <td>IN VARIOUS CITIES, FROM 9TH STREET/GAFFEY STREET TO END OF FREEWAY. REPLACE SIGN PANELS WITH RETROREFLECTIVE SHEETING, REMOVE OVERHEAD LIGHTING AND C</td>\n",
       "      <td>37.00</td>\n",
       "      <td>Cong Dist 37</td>\n",
       "      <td>44.00</td>\n",
       "      <td>Other</td>\n",
       "      <td>551,419.28</td>\n",
       "      <td>S    SCAG</td>\n",
       "      <td>NaN</td>\n",
       "      <td>California</td>\n",
       "      <td>7.00</td>\n",
       "      <td>Los Angeles County</td>\n",
       "      <td>NaN</td>\n",
       "      <td>NaN</td>\n",
       "      <td>Replace Signage in Los Angeles County</td>\n",
       "    </tr>\n",
       "  </tbody>\n",
       "</table>\n",
       "</div>"
      ],
      "text/plain": [
       "    fmis_transaction_date program_code      program_code_description  \\\n",
       "29             2022-02-10         YS30  HIGHWAY SAFETY IMP PROG IIJA   \n",
       "535            2022-07-18         Y230     STBG-URBANIZED >200K IIJA   \n",
       "755            2022-07-06         Y001    NATIONAL HIGHWAY PERF IIJA   \n",
       "829            2022-05-06         Y001    NATIONAL HIGHWAY PERF IIJA   \n",
       "\n",
       "    project_number recipient_project_number  \\\n",
       "29         5005165              0422000006L   \n",
       "535        6084285              0422000500L   \n",
       "755        P060161              0716000080S   \n",
       "829        P110023              0716000206S   \n",
       "\n",
       "                                                                                                                                             project_title  \\\n",
       "29                                                                  MONTEREY ROAD FROM COTTLE ROAD TO METCALF ROAD UPGRADE GUARDRAILS TO CURRENT STANDARDS   \n",
       "535        BAY AREA REGIONAL: REGIONAL PLANNING ACTIVITIES AND PLANNING, PROGRAMMING AND MONITORING (PPM). PRIOR YEAR FUNDING PROGRAMMED ON REG170001 (TC)   \n",
       "755  IN AND NEAR DIAMOND BAR, FROM FULLERTON ROAD TO DIAMOND BAR BOULEVARD. CONSTRUCT AND INSTALL STORMWATER TREATMENT BEST MANAGEMENT PRACTICES (BMPS) IN   \n",
       "829  IN VARIOUS CITIES, FROM 9TH STREET/GAFFEY STREET TO END OF FREEWAY. REPLACE SIGN PANELS WITH RETROREFLECTIVE SHEETING, REMOVE OVERHEAD LIGHTING AND C   \n",
       "\n",
       "     county_code congressional_district  improvement_type  \\\n",
       "29         85.00           Cong Dist 19             17.00   \n",
       "535         1.00           Cong Dist 17             44.00   \n",
       "755        37.00           Cong Dist 39             17.00   \n",
       "829        37.00           Cong Dist 37             44.00   \n",
       "\n",
       "    improvement_type_description  obligations_amount  \\\n",
       "29      Construction Engineering          150,000.00   \n",
       "535                        Other       16,383,916.54   \n",
       "755     Construction Engineering        1,697,780.50   \n",
       "829                        Other          551,419.28   \n",
       "\n",
       "    summary_recipient_defined_text_field_1_value  implementing_agency_locode  \\\n",
       "29                                      L5005MTC                    5,005.00   \n",
       "535                                     L6084MTC                    6,084.00   \n",
       "755                                    S    SCAG                         NaN   \n",
       "829                                    S    SCAG                         NaN   \n",
       "\n",
       "                        implementing_agency  district         county_name  \\\n",
       "29                                 San Jose      4.00  Santa Clara County   \n",
       "535  Metropolitan Transportation Commission      4.00        Multi-County   \n",
       "755                              California      7.00  Los Angeles County   \n",
       "829                              California      7.00  Los Angeles County   \n",
       "\n",
       "                                  rtpa_name  \\\n",
       "29   Metropolitan Transportation Commission   \n",
       "535                                NON-RTPA   \n",
       "755                                     NaN   \n",
       "829                                     NaN   \n",
       "\n",
       "                                   mpo_name  \\\n",
       "29   Metropolitan Transportation Commission   \n",
       "535  Metropolitan Transportation Commission   \n",
       "755                                     NaN   \n",
       "829                                     NaN   \n",
       "\n",
       "                                                           project_title_new  \n",
       "29                                            Upgrade Guardrails in San Jose  \n",
       "535   Regional Planning Activities in Metropolitan Transportation Commission  \n",
       "755                     Install Storm Water Mitigation in Los Angeles County  \n",
       "829                                    Replace Signage in Los Angeles County  "
      ]
     },
     "execution_count": 35,
     "metadata": {},
     "output_type": "execute_result"
    }
   ],
   "source": [
    "full_df.sample(4)"
   ]
  },
  {
   "cell_type": "code",
   "execution_count": null,
   "id": "29184a4a-1652-46b8-82c1-9ba1eb927ba0",
   "metadata": {},
   "outputs": [],
   "source": []
  },
  {
   "cell_type": "code",
   "execution_count": null,
   "id": "4df160fd-0601-499e-ae32-3ab074d35ca3",
   "metadata": {},
   "outputs": [],
   "source": []
  },
  {
   "cell_type": "code",
   "execution_count": null,
   "id": "015887cd-2a9c-430a-9501-e1b20f04e4cf",
   "metadata": {},
   "outputs": [],
   "source": []
  },
  {
   "cell_type": "code",
   "execution_count": null,
   "id": "d0d1d22f-23df-4324-b5f6-9d1a1915c112",
   "metadata": {},
   "outputs": [],
   "source": []
  },
  {
   "cell_type": "code",
   "execution_count": null,
   "id": "cb43fe7e-b04b-4994-9a80-5a55743fb9b5",
   "metadata": {},
   "outputs": [],
   "source": []
  },
  {
   "cell_type": "code",
   "execution_count": null,
   "id": "7143d049-7a39-4706-966e-2b197a34e249",
   "metadata": {},
   "outputs": [],
   "source": []
  },
  {
   "cell_type": "code",
   "execution_count": null,
   "id": "d0c24d83-7f7a-4c71-b41b-f54b26445a3e",
   "metadata": {},
   "outputs": [],
   "source": []
  },
  {
   "cell_type": "code",
   "execution_count": null,
   "id": "39370baf-8904-4fe8-8249-c175e6198f62",
   "metadata": {},
   "outputs": [],
   "source": []
  },
  {
   "cell_type": "code",
   "execution_count": null,
   "id": "ec1fcaf0-2306-44a2-82b0-e414b59c070f",
   "metadata": {},
   "outputs": [],
   "source": []
  },
  {
   "cell_type": "code",
   "execution_count": null,
   "id": "3cc1332d-2bd8-443e-ac1f-14d9cfdd3885",
   "metadata": {},
   "outputs": [],
   "source": []
  },
  {
   "cell_type": "code",
   "execution_count": null,
   "id": "9800d0b7-42ba-424f-82e4-023ff33293c1",
   "metadata": {},
   "outputs": [],
   "source": []
  },
  {
   "cell_type": "code",
   "execution_count": null,
   "id": "ca349aef-79f5-4832-91bc-68d0c246cfd6",
   "metadata": {},
   "outputs": [],
   "source": []
  },
  {
   "cell_type": "code",
   "execution_count": null,
   "id": "0b05fa6d-16be-4202-9c14-f64316a8d1d9",
   "metadata": {},
   "outputs": [],
   "source": []
  },
  {
   "cell_type": "code",
   "execution_count": null,
   "id": "36c38347-c015-466c-9a7c-57f96358bbea",
   "metadata": {},
   "outputs": [],
   "source": []
  },
  {
   "cell_type": "code",
   "execution_count": null,
   "id": "d48b4ab4-f5d8-47eb-8285-09ae2469d988",
   "metadata": {},
   "outputs": [],
   "source": []
  },
  {
   "cell_type": "code",
   "execution_count": null,
   "id": "09145bb4-ddb8-44a9-a979-d82a73e88e86",
   "metadata": {},
   "outputs": [],
   "source": []
  },
  {
   "cell_type": "code",
   "execution_count": null,
   "id": "6f012cf5-9e7b-4939-b4d4-f8a5e6e38d41",
   "metadata": {},
   "outputs": [],
   "source": []
  },
  {
   "cell_type": "code",
   "execution_count": null,
   "id": "fcf03037-e668-4b1a-84e2-9a9aa99a2c93",
   "metadata": {},
   "outputs": [],
   "source": []
  },
  {
   "cell_type": "code",
   "execution_count": null,
   "id": "61ee46b7-1a33-4024-832a-7363bb5b210a",
   "metadata": {},
   "outputs": [],
   "source": []
  },
  {
   "cell_type": "code",
   "execution_count": null,
   "id": "e759cbe6-1806-4647-ab26-f788c1b3f6dc",
   "metadata": {},
   "outputs": [],
   "source": []
  }
 ],
 "metadata": {
  "kernelspec": {
   "display_name": "Python 3 (ipykernel)",
   "language": "python",
   "name": "python3"
  },
  "language_info": {
   "codemirror_mode": {
    "name": "ipython",
    "version": 3
   },
   "file_extension": ".py",
   "mimetype": "text/x-python",
   "name": "python",
   "nbconvert_exporter": "python",
   "pygments_lexer": "ipython3",
   "version": "3.9.13"
  },
  "widgets": {
   "application/vnd.jupyter.widget-state+json": {
    "state": {},
    "version_major": 2,
    "version_minor": 0
   }
  }
 },
 "nbformat": 4,
 "nbformat_minor": 5
}
