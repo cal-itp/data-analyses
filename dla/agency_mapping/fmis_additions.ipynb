{
 "cells": [
  {
   "cell_type": "markdown",
   "id": "a671c9ae-b565-4e29-9d3e-d1bc769cedeb",
   "metadata": {},
   "source": [
    "# Add Agency and Agency Information to FMIS IIJA"
   ]
  },
  {
   "cell_type": "code",
   "execution_count": 1,
   "id": "ab1e8554-ecec-4bd6-9364-1ed4b18f6d44",
   "metadata": {},
   "outputs": [
    {
     "name": "stderr",
     "output_type": "stream",
     "text": [
      "/opt/conda/lib/python3.10/site-packages/geopandas/_compat.py:112: UserWarning: The Shapely GEOS version (3.10.3-CAPI-1.16.1) is incompatible with the GEOS version PyGEOS was compiled with (3.10.1-CAPI-1.16.0). Conversions between both will be slow.\n"
     ]
    }
   ],
   "source": [
    "import numpy as np\n",
    "import pandas as pd\n",
    "from siuba import *\n",
    "\n",
    "from shared_utils import geography_utils\n",
    "from dla_utils import _dla_utils\n",
    "\n",
    "from calitp import to_snakecase"
   ]
  },
  {
   "cell_type": "code",
   "execution_count": 2,
   "id": "f437728a-d17e-4e60-982a-07f8da0909b7",
   "metadata": {},
   "outputs": [],
   "source": [
    "pd.set_option(\"display.max_columns\", 100)\n",
    "pd.set_option('display.max_colwidth', None)\n"
   ]
  },
  {
   "cell_type": "code",
   "execution_count": 3,
   "id": "08b43481-3f2d-4d3c-acc7-e64a7facf92c",
   "metadata": {
    "tags": []
   },
   "outputs": [],
   "source": [
    "GCS_FILE_PATH  = 'gs://calitp-analytics-data/data-analyses/dla/dla-iija'"
   ]
  },
  {
   "cell_type": "markdown",
   "id": "f6f5b9d4-1fa8-4205-ada8-d49bcd786996",
   "metadata": {},
   "source": [
    "## Read In Data"
   ]
  },
  {
   "cell_type": "code",
   "execution_count": 4,
   "id": "9e79367c-5f0e-4198-8cf4-630c0efb12aa",
   "metadata": {},
   "outputs": [],
   "source": [
    "locodes = to_snakecase(pd.read_excel(f\"gs://calitp-analytics-data/data-analyses/dla/e-76Obligated/locodes_updated7122021.xlsx\"))"
   ]
  },
  {
   "cell_type": "code",
   "execution_count": 5,
   "id": "a741a330-83fb-4e47-b4bb-69c3c4b1eb4b",
   "metadata": {},
   "outputs": [],
   "source": [
    "county = to_snakecase(pd.read_excel(f\"{GCS_FILE_PATH}/Copy of County.xlsx\",\n",
    "                                   sheet_name='locode1',\n",
    "                                   header=[0]))"
   ]
  },
  {
   "cell_type": "code",
   "execution_count": 6,
   "id": "029d5b81-6b80-4869-a3ea-6faf8b95592e",
   "metadata": {},
   "outputs": [],
   "source": [
    "proj = to_snakecase(pd.read_excel(f\"{GCS_FILE_PATH}/CopyofFMIS_Projects_Universe_IIJA_Reporting_4.xls\", \n",
    "                           # sheet_name='FMIS 5 Projects  ', header=[3]\n",
    "                           sheet_name='IIJA-combined',\n",
    "                           # sheet_name='FMIS 5 Projects  ',\n",
    "                           ))"
   ]
  },
  {
   "cell_type": "code",
   "execution_count": 7,
   "id": "c5beae99-2f25-45c5-8814-c2c656babfbc",
   "metadata": {},
   "outputs": [],
   "source": [
    "# proj2 = to_snakecase(pd.read_excel(f\"{GCS_FILE_PATH}/Copy of FMIS_Projects_Universe_(IIJA_Reporting)_ (5).xls\", \n",
    "#                            sheet_name='FMIS 5 Projects  ', header=[3]))"
   ]
  },
  {
   "cell_type": "code",
   "execution_count": 8,
   "id": "3fd86062-8f18-4f30-b417-a558846f64c1",
   "metadata": {},
   "outputs": [
    {
     "data": {
      "text/plain": [
       "1041"
      ]
     },
     "execution_count": 8,
     "metadata": {},
     "output_type": "execute_result"
    }
   ],
   "source": [
    "# number of entries in the locodes list\n",
    "len(locodes)"
   ]
  },
  {
   "cell_type": "code",
   "execution_count": 9,
   "id": "3123dd71-ec97-4c00-a0a3-6b19d9ff80b8",
   "metadata": {},
   "outputs": [
    {
     "data": {
      "text/plain": [
       "1072"
      ]
     },
     "execution_count": 9,
     "metadata": {},
     "output_type": "execute_result"
    }
   ],
   "source": [
    "# number of entries in the county locode list\n",
    "len(county)"
   ]
  },
  {
   "cell_type": "code",
   "execution_count": 10,
   "id": "56094af0-58a6-4ed3-9f73-cf05bb7edd0d",
   "metadata": {},
   "outputs": [
    {
     "data": {
      "text/html": [
       "<div>\n",
       "<style scoped>\n",
       "    .dataframe tbody tr th:only-of-type {\n",
       "        vertical-align: middle;\n",
       "    }\n",
       "\n",
       "    .dataframe tbody tr th {\n",
       "        vertical-align: top;\n",
       "    }\n",
       "\n",
       "    .dataframe thead th {\n",
       "        text-align: right;\n",
       "    }\n",
       "</style>\n",
       "<table border=\"1\" class=\"dataframe\">\n",
       "  <thead>\n",
       "    <tr style=\"text-align: right;\">\n",
       "      <th></th>\n",
       "      <th>agency_locode</th>\n",
       "      <th>agency_name</th>\n",
       "      <th>district</th>\n",
       "      <th>mpo</th>\n",
       "      <th>county</th>\n",
       "    </tr>\n",
       "  </thead>\n",
       "  <tbody>\n",
       "    <tr>\n",
       "      <th>204</th>\n",
       "      <td>5205</td>\n",
       "      <td>Rialto</td>\n",
       "      <td>8.00</td>\n",
       "      <td>SCAG</td>\n",
       "      <td>San Bernardino County</td>\n",
       "    </tr>\n",
       "    <tr>\n",
       "      <th>285</th>\n",
       "      <td>5287</td>\n",
       "      <td>Wasco</td>\n",
       "      <td>6.00</td>\n",
       "      <td>KCOG</td>\n",
       "      <td>Kern County</td>\n",
       "    </tr>\n",
       "    <tr>\n",
       "      <th>941</th>\n",
       "      <td>6394</td>\n",
       "      <td>Sacramento Valley Air Basin</td>\n",
       "      <td>NaN</td>\n",
       "      <td>NON-MPO</td>\n",
       "      <td>NaN</td>\n",
       "    </tr>\n",
       "    <tr>\n",
       "      <th>309</th>\n",
       "      <td>5311</td>\n",
       "      <td>Ione</td>\n",
       "      <td>10.00</td>\n",
       "      <td>NON-MPO</td>\n",
       "      <td>Amador County</td>\n",
       "    </tr>\n",
       "  </tbody>\n",
       "</table>\n",
       "</div>"
      ],
      "text/plain": [
       "     agency_locode                  agency_name  district      mpo  \\\n",
       "204           5205                       Rialto      8.00     SCAG   \n",
       "285           5287                        Wasco      6.00     KCOG   \n",
       "941           6394  Sacramento Valley Air Basin       NaN  NON-MPO   \n",
       "309           5311                         Ione     10.00  NON-MPO   \n",
       "\n",
       "                    county  \n",
       "204  San Bernardino County  \n",
       "285            Kern County  \n",
       "941                    NaN  \n",
       "309          Amador County  "
      ]
     },
     "execution_count": 10,
     "metadata": {},
     "output_type": "execute_result"
    }
   ],
   "source": [
    "county.sample(4)"
   ]
  },
  {
   "cell_type": "code",
   "execution_count": 11,
   "id": "ab75f72d-0939-4c08-b990-240364a5d609",
   "metadata": {},
   "outputs": [
    {
     "data": {
      "text/html": [
       "<div>\n",
       "<style scoped>\n",
       "    .dataframe tbody tr th:only-of-type {\n",
       "        vertical-align: middle;\n",
       "    }\n",
       "\n",
       "    .dataframe tbody tr th {\n",
       "        vertical-align: top;\n",
       "    }\n",
       "\n",
       "    .dataframe thead th {\n",
       "        text-align: right;\n",
       "    }\n",
       "</style>\n",
       "<table border=\"1\" class=\"dataframe\">\n",
       "  <thead>\n",
       "    <tr style=\"text-align: right;\">\n",
       "      <th></th>\n",
       "      <th>agency_locode</th>\n",
       "      <th>agency_name</th>\n",
       "      <th>district</th>\n",
       "      <th>county_name</th>\n",
       "      <th>rtpa_name</th>\n",
       "      <th>mpo_name</th>\n",
       "      <th>mpo_locode_fads</th>\n",
       "      <th>active_e76s______7_12_2021_</th>\n",
       "    </tr>\n",
       "  </thead>\n",
       "  <tbody>\n",
       "    <tr>\n",
       "      <th>0</th>\n",
       "      <td>6302</td>\n",
       "      <td>Humboldt Bay Harbor Recreation &amp; Conservation District</td>\n",
       "      <td>1</td>\n",
       "      <td>Humboldt County</td>\n",
       "      <td>Humboldt County Association of Governments</td>\n",
       "      <td>NON-MPO</td>\n",
       "      <td>NON-MPO</td>\n",
       "      <td>NaN</td>\n",
       "    </tr>\n",
       "    <tr>\n",
       "      <th>1</th>\n",
       "      <td>6330</td>\n",
       "      <td>Willow Creek Community Services District</td>\n",
       "      <td>1</td>\n",
       "      <td>Humboldt County</td>\n",
       "      <td>Humboldt County Association of Governments</td>\n",
       "      <td>NON-MPO</td>\n",
       "      <td>NON-MPO</td>\n",
       "      <td>NaN</td>\n",
       "    </tr>\n",
       "    <tr>\n",
       "      <th>2</th>\n",
       "      <td>5036</td>\n",
       "      <td>Trinidad</td>\n",
       "      <td>1</td>\n",
       "      <td>Humboldt County</td>\n",
       "      <td>Humboldt County Association of Governments</td>\n",
       "      <td>NON-MPO</td>\n",
       "      <td>NON-MPO</td>\n",
       "      <td>NaN</td>\n",
       "    </tr>\n",
       "    <tr>\n",
       "      <th>3</th>\n",
       "      <td>5049</td>\n",
       "      <td>Ukiah</td>\n",
       "      <td>1</td>\n",
       "      <td>Mendocino County</td>\n",
       "      <td>Mendocino Council of Governments</td>\n",
       "      <td>NON-MPO</td>\n",
       "      <td>NON-MPO</td>\n",
       "      <td>Yes</td>\n",
       "    </tr>\n",
       "    <tr>\n",
       "      <th>4</th>\n",
       "      <td>5082</td>\n",
       "      <td>Willits</td>\n",
       "      <td>1</td>\n",
       "      <td>Mendocino County</td>\n",
       "      <td>Mendocino Council of Governments</td>\n",
       "      <td>NON-MPO</td>\n",
       "      <td>NON-MPO</td>\n",
       "      <td>NaN</td>\n",
       "    </tr>\n",
       "  </tbody>\n",
       "</table>\n",
       "</div>"
      ],
      "text/plain": [
       "   agency_locode                                             agency_name  \\\n",
       "0           6302  Humboldt Bay Harbor Recreation & Conservation District   \n",
       "1           6330                Willow Creek Community Services District   \n",
       "2           5036                                                Trinidad   \n",
       "3           5049                                                   Ukiah   \n",
       "4           5082                                                 Willits   \n",
       "\n",
       "   district       county_name                                   rtpa_name  \\\n",
       "0         1   Humboldt County  Humboldt County Association of Governments   \n",
       "1         1   Humboldt County  Humboldt County Association of Governments   \n",
       "2         1   Humboldt County  Humboldt County Association of Governments   \n",
       "3         1  Mendocino County            Mendocino Council of Governments   \n",
       "4         1  Mendocino County            Mendocino Council of Governments   \n",
       "\n",
       "  mpo_name mpo_locode_fads active_e76s______7_12_2021_  \n",
       "0  NON-MPO         NON-MPO                         NaN  \n",
       "1  NON-MPO         NON-MPO                         NaN  \n",
       "2  NON-MPO         NON-MPO                         NaN  \n",
       "3  NON-MPO         NON-MPO                         Yes  \n",
       "4  NON-MPO         NON-MPO                         NaN  "
      ]
     },
     "execution_count": 11,
     "metadata": {},
     "output_type": "execute_result"
    }
   ],
   "source": [
    "locodes.head()"
   ]
  },
  {
   "cell_type": "code",
   "execution_count": 12,
   "id": "a1f25e7b-9699-432e-8c7b-f2e5afb4ed91",
   "metadata": {},
   "outputs": [],
   "source": [
    "proj.drop(columns =['unnamed:_0', 'unnamed:_13', 'total'], axis=1, inplace=True)"
   ]
  },
  {
   "cell_type": "code",
   "execution_count": 13,
   "id": "34f2aad5-b24b-4669-8f7d-95ed630b8877",
   "metadata": {},
   "outputs": [
    {
     "data": {
      "text/html": [
       "<div>\n",
       "<style scoped>\n",
       "    .dataframe tbody tr th:only-of-type {\n",
       "        vertical-align: middle;\n",
       "    }\n",
       "\n",
       "    .dataframe tbody tr th {\n",
       "        vertical-align: top;\n",
       "    }\n",
       "\n",
       "    .dataframe thead th {\n",
       "        text-align: right;\n",
       "    }\n",
       "</style>\n",
       "<table border=\"1\" class=\"dataframe\">\n",
       "  <thead>\n",
       "    <tr style=\"text-align: right;\">\n",
       "      <th></th>\n",
       "      <th>fmis_transaction_date</th>\n",
       "      <th>program_code</th>\n",
       "      <th>program_code_description</th>\n",
       "      <th>project_number</th>\n",
       "      <th>recipient_project_number</th>\n",
       "      <th>project_title</th>\n",
       "      <th>county_code</th>\n",
       "      <th>congressional_district</th>\n",
       "      <th>improvement_type</th>\n",
       "      <th>improvement_type_description</th>\n",
       "      <th>obligations_amount</th>\n",
       "      <th>summary_recipient_defined_text_field_1_value</th>\n",
       "    </tr>\n",
       "  </thead>\n",
       "  <tbody>\n",
       "    <tr>\n",
       "      <th>224</th>\n",
       "      <td>2022-06-16</td>\n",
       "      <td>YS30</td>\n",
       "      <td>HIGHWAY SAFETY IMP PROG IIJA</td>\n",
       "      <td>6205024</td>\n",
       "      <td>0517000039L</td>\n",
       "      <td>ON SR 135 (BROADWAY) IN SANTA MARIA FROM FOSTER RD. TO PREISKER LN. INCREASE VISIBILITY OF TRAFFIC SIGNAL INDICATIONS BY INSTALLING ADDITIONAL TRAFFI</td>\n",
       "      <td>83</td>\n",
       "      <td>Cong Dist 24</td>\n",
       "      <td>21</td>\n",
       "      <td>Safety</td>\n",
       "      <td>795,900.00</td>\n",
       "      <td>S6205SBCAG</td>\n",
       "    </tr>\n",
       "  </tbody>\n",
       "</table>\n",
       "</div>"
      ],
      "text/plain": [
       "    fmis_transaction_date program_code      program_code_description  \\\n",
       "224            2022-06-16         YS30  HIGHWAY SAFETY IMP PROG IIJA   \n",
       "\n",
       "    project_number recipient_project_number  \\\n",
       "224        6205024              0517000039L   \n",
       "\n",
       "                                                                                                                                             project_title  \\\n",
       "224  ON SR 135 (BROADWAY) IN SANTA MARIA FROM FOSTER RD. TO PREISKER LN. INCREASE VISIBILITY OF TRAFFIC SIGNAL INDICATIONS BY INSTALLING ADDITIONAL TRAFFI   \n",
       "\n",
       "     county_code congressional_district improvement_type  \\\n",
       "224           83           Cong Dist 24               21   \n",
       "\n",
       "    improvement_type_description  obligations_amount  \\\n",
       "224                       Safety          795,900.00   \n",
       "\n",
       "    summary_recipient_defined_text_field_1_value  \n",
       "224                                   S6205SBCAG  "
      ]
     },
     "execution_count": 13,
     "metadata": {},
     "output_type": "execute_result"
    }
   ],
   "source": [
    "proj.sample()"
   ]
  },
  {
   "cell_type": "markdown",
   "id": "fd53ca37-2318-4bfe-9e5d-2a29019ea5e4",
   "metadata": {},
   "source": [
    "## Get Locode Substring"
   ]
  },
  {
   "cell_type": "code",
   "execution_count": 14,
   "id": "fbf4ee23-d18e-431e-abbf-86b683a819ab",
   "metadata": {},
   "outputs": [],
   "source": [
    "string = proj['summary_recipient_defined_text_field_1_value'].iloc[0]"
   ]
  },
  {
   "cell_type": "code",
   "execution_count": 15,
   "id": "c43a4272-7045-4fa4-876f-2aa1fb0f61a5",
   "metadata": {},
   "outputs": [
    {
     "data": {
      "text/plain": [
       "'L5253SCAG'"
      ]
     },
     "execution_count": 15,
     "metadata": {},
     "output_type": "execute_result"
    }
   ],
   "source": [
    "string"
   ]
  },
  {
   "cell_type": "code",
   "execution_count": 16,
   "id": "b011c01f-cb56-4efd-b82c-ebaeb9618da0",
   "metadata": {},
   "outputs": [
    {
     "name": "stdout",
     "output_type": "stream",
     "text": [
      "1\n",
      "4\n"
     ]
    }
   ],
   "source": [
    "print(string.find('5'))\n",
    "print(string.find('3'))"
   ]
  },
  {
   "cell_type": "code",
   "execution_count": 17,
   "id": "afdd4671-9675-4934-8490-b3e90024eadd",
   "metadata": {},
   "outputs": [],
   "source": [
    "# need to extract string from position 1-4. "
   ]
  },
  {
   "cell_type": "code",
   "execution_count": 18,
   "id": "46eab3a5-d74b-47ff-9ca3-0adaaaf3ea9c",
   "metadata": {},
   "outputs": [],
   "source": [
    "proj['locode'] = proj.summary_recipient_defined_text_field_1_value.apply(lambda x: x[1:5])"
   ]
  },
  {
   "cell_type": "code",
   "execution_count": 19,
   "id": "125e2d67-26ab-4c67-8c61-4674e2aea5c4",
   "metadata": {},
   "outputs": [
    {
     "data": {
      "text/html": [
       "<div>\n",
       "<style scoped>\n",
       "    .dataframe tbody tr th:only-of-type {\n",
       "        vertical-align: middle;\n",
       "    }\n",
       "\n",
       "    .dataframe tbody tr th {\n",
       "        vertical-align: top;\n",
       "    }\n",
       "\n",
       "    .dataframe thead th {\n",
       "        text-align: right;\n",
       "    }\n",
       "</style>\n",
       "<table border=\"1\" class=\"dataframe\">\n",
       "  <thead>\n",
       "    <tr style=\"text-align: right;\">\n",
       "      <th></th>\n",
       "      <th>fmis_transaction_date</th>\n",
       "      <th>program_code</th>\n",
       "      <th>program_code_description</th>\n",
       "      <th>project_number</th>\n",
       "      <th>recipient_project_number</th>\n",
       "      <th>project_title</th>\n",
       "      <th>county_code</th>\n",
       "      <th>congressional_district</th>\n",
       "      <th>improvement_type</th>\n",
       "      <th>improvement_type_description</th>\n",
       "      <th>obligations_amount</th>\n",
       "      <th>summary_recipient_defined_text_field_1_value</th>\n",
       "      <th>locode</th>\n",
       "    </tr>\n",
       "  </thead>\n",
       "  <tbody>\n",
       "    <tr>\n",
       "      <th>0</th>\n",
       "      <td>2022-06-01</td>\n",
       "      <td>YS30//YS30</td>\n",
       "      <td>HIGHWAY SAFETY IMP PROG IIJA</td>\n",
       "      <td>5253021</td>\n",
       "      <td>0720000168L</td>\n",
       "      <td>120TH STREET FROM PRAIRIE AVENUE TO FELTON AVENUE. TRAFFIC SIGNAL UPGRADES AT NINE SIGNALIZED INTERSECTIONS AND IMPROVE CROSSINGS AND SIGNAGE.</td>\n",
       "      <td>37</td>\n",
       "      <td>Cong Dist 43</td>\n",
       "      <td>17//21</td>\n",
       "      <td>Construction Engineering//Safety</td>\n",
       "      <td>1,305,800.00</td>\n",
       "      <td>L5253SCAG</td>\n",
       "      <td>5253</td>\n",
       "    </tr>\n",
       "    <tr>\n",
       "      <th>1</th>\n",
       "      <td>2022-09-15</td>\n",
       "      <td>Y001</td>\n",
       "      <td>NATIONAL HIGHWAY PERF IIJA</td>\n",
       "      <td>NBIL539</td>\n",
       "      <td>0815000215L</td>\n",
       "      <td>13TH STREET OVER WILSON CREEK FROM OAK GLEN ROAD TO KENTUCKY STREET, LWC 00L0017 REPLACE LOW WATER CROSSING WITH 2-LANE BRIDGE</td>\n",
       "      <td>71</td>\n",
       "      <td>Cong Dist 8</td>\n",
       "      <td>44</td>\n",
       "      <td>Other</td>\n",
       "      <td>301,838.32</td>\n",
       "      <td>L5457SCAG</td>\n",
       "      <td>5457</td>\n",
       "    </tr>\n",
       "    <tr>\n",
       "      <th>2</th>\n",
       "      <td>2022-07-25</td>\n",
       "      <td>YS30//YS30</td>\n",
       "      <td>HIGHWAY SAFETY IMP PROG IIJA</td>\n",
       "      <td>5132050</td>\n",
       "      <td>0421000374L</td>\n",
       "      <td>16 LOCATIONS IN THE CITY OF FAIRFIELD INSTALL ADAPTIVE SIGNAL TIMING AND ADVANCED DILEMMA-ZONE DETECTION, AND ENHANCE THE VISIBILITY OF SIGNALS.</td>\n",
       "      <td>95</td>\n",
       "      <td>Cong Dist 3</td>\n",
       "      <td>17//21</td>\n",
       "      <td>Construction Engineering//Safety</td>\n",
       "      <td>935,150.00</td>\n",
       "      <td>L5132MTC</td>\n",
       "      <td>5132</td>\n",
       "    </tr>\n",
       "    <tr>\n",
       "      <th>3</th>\n",
       "      <td>2022-03-07</td>\n",
       "      <td>Y233//Y233//Y233//Y233</td>\n",
       "      <td>STBG IIJA OFF-SYSTEM BRIDGE</td>\n",
       "      <td>5914078</td>\n",
       "      <td>0100020461L</td>\n",
       "      <td>2.2 MILES NORTH OF STATE ROUTE 20 ON WITTER SPRINGS ROAD OVER COOPER CREEK. BR.# 14C0119 BRIDGE REPLACEMENT (TC)</td>\n",
       "      <td>33</td>\n",
       "      <td>Cong Dist 3</td>\n",
       "      <td>11//15//16//17</td>\n",
       "      <td>Bridge Replacement - No Added Capacity//Preliminary Engineering//Right of Way//Construction Engineering</td>\n",
       "      <td>1,615,000.00</td>\n",
       "      <td>L5914NON-MPO</td>\n",
       "      <td>5914</td>\n",
       "    </tr>\n",
       "    <tr>\n",
       "      <th>4</th>\n",
       "      <td>2022-07-18</td>\n",
       "      <td>YS30//YS30</td>\n",
       "      <td>HIGHWAY SAFETY IMP PROG IIJA</td>\n",
       "      <td>5094071</td>\n",
       "      <td>0419000558L</td>\n",
       "      <td>21 INTERSECTIONS; ON ALAMO DRIVE FROM MERCHANT STREET TO NUT TREE ROAD AND ON PEABODY ROAD FROM ELMIRA ROAD TO FOXBORO PARKWAY IMPROVE SIGNAL HARDWAR</td>\n",
       "      <td>95</td>\n",
       "      <td>Cong Dist 3</td>\n",
       "      <td>17//21</td>\n",
       "      <td>Construction Engineering//Safety</td>\n",
       "      <td>2,027,700.00</td>\n",
       "      <td>L5094MTC</td>\n",
       "      <td>5094</td>\n",
       "    </tr>\n",
       "  </tbody>\n",
       "</table>\n",
       "</div>"
      ],
      "text/plain": [
       "  fmis_transaction_date            program_code      program_code_description  \\\n",
       "0            2022-06-01              YS30//YS30  HIGHWAY SAFETY IMP PROG IIJA   \n",
       "1            2022-09-15                    Y001    NATIONAL HIGHWAY PERF IIJA   \n",
       "2            2022-07-25              YS30//YS30  HIGHWAY SAFETY IMP PROG IIJA   \n",
       "3            2022-03-07  Y233//Y233//Y233//Y233   STBG IIJA OFF-SYSTEM BRIDGE   \n",
       "4            2022-07-18              YS30//YS30  HIGHWAY SAFETY IMP PROG IIJA   \n",
       "\n",
       "  project_number recipient_project_number  \\\n",
       "0        5253021              0720000168L   \n",
       "1        NBIL539              0815000215L   \n",
       "2        5132050              0421000374L   \n",
       "3        5914078              0100020461L   \n",
       "4        5094071              0419000558L   \n",
       "\n",
       "                                                                                                                                           project_title  \\\n",
       "0         120TH STREET FROM PRAIRIE AVENUE TO FELTON AVENUE. TRAFFIC SIGNAL UPGRADES AT NINE SIGNALIZED INTERSECTIONS AND IMPROVE CROSSINGS AND SIGNAGE.   \n",
       "1                         13TH STREET OVER WILSON CREEK FROM OAK GLEN ROAD TO KENTUCKY STREET, LWC 00L0017 REPLACE LOW WATER CROSSING WITH 2-LANE BRIDGE   \n",
       "2       16 LOCATIONS IN THE CITY OF FAIRFIELD INSTALL ADAPTIVE SIGNAL TIMING AND ADVANCED DILEMMA-ZONE DETECTION, AND ENHANCE THE VISIBILITY OF SIGNALS.   \n",
       "3                                       2.2 MILES NORTH OF STATE ROUTE 20 ON WITTER SPRINGS ROAD OVER COOPER CREEK. BR.# 14C0119 BRIDGE REPLACEMENT (TC)   \n",
       "4  21 INTERSECTIONS; ON ALAMO DRIVE FROM MERCHANT STREET TO NUT TREE ROAD AND ON PEABODY ROAD FROM ELMIRA ROAD TO FOXBORO PARKWAY IMPROVE SIGNAL HARDWAR   \n",
       "\n",
       "   county_code congressional_district improvement_type  \\\n",
       "0           37           Cong Dist 43           17//21   \n",
       "1           71            Cong Dist 8               44   \n",
       "2           95            Cong Dist 3           17//21   \n",
       "3           33            Cong Dist 3   11//15//16//17   \n",
       "4           95            Cong Dist 3           17//21   \n",
       "\n",
       "                                                                              improvement_type_description  \\\n",
       "0                                                                         Construction Engineering//Safety   \n",
       "1                                                                                                    Other   \n",
       "2                                                                         Construction Engineering//Safety   \n",
       "3  Bridge Replacement - No Added Capacity//Preliminary Engineering//Right of Way//Construction Engineering   \n",
       "4                                                                         Construction Engineering//Safety   \n",
       "\n",
       "   obligations_amount summary_recipient_defined_text_field_1_value locode  \n",
       "0        1,305,800.00                                    L5253SCAG   5253  \n",
       "1          301,838.32                                    L5457SCAG   5457  \n",
       "2          935,150.00                                     L5132MTC   5132  \n",
       "3        1,615,000.00                                 L5914NON-MPO   5914  \n",
       "4        2,027,700.00                                     L5094MTC   5094  "
      ]
     },
     "execution_count": 19,
     "metadata": {},
     "output_type": "execute_result"
    }
   ],
   "source": [
    "proj.head()"
   ]
  },
  {
   "cell_type": "code",
   "execution_count": 20,
   "id": "db4c1df2-6ff0-4e21-a67f-88d724c23a8c",
   "metadata": {},
   "outputs": [
    {
     "data": {
      "text/html": [
       "<div>\n",
       "<style scoped>\n",
       "    .dataframe tbody tr th:only-of-type {\n",
       "        vertical-align: middle;\n",
       "    }\n",
       "\n",
       "    .dataframe tbody tr th {\n",
       "        vertical-align: top;\n",
       "    }\n",
       "\n",
       "    .dataframe thead th {\n",
       "        text-align: right;\n",
       "    }\n",
       "</style>\n",
       "<table border=\"1\" class=\"dataframe\">\n",
       "  <thead>\n",
       "    <tr style=\"text-align: right;\">\n",
       "      <th></th>\n",
       "      <th>agency_locode</th>\n",
       "      <th>agency_name</th>\n",
       "      <th>district</th>\n",
       "      <th>mpo</th>\n",
       "      <th>county</th>\n",
       "    </tr>\n",
       "  </thead>\n",
       "  <tbody>\n",
       "    <tr>\n",
       "      <th>851</th>\n",
       "      <td>6304</td>\n",
       "      <td>Arcade Creek Recreation and Park District</td>\n",
       "      <td>3.00</td>\n",
       "      <td>SACOG</td>\n",
       "      <td>Sacramento County</td>\n",
       "    </tr>\n",
       "  </tbody>\n",
       "</table>\n",
       "</div>"
      ],
      "text/plain": [
       "     agency_locode                                agency_name  district  \\\n",
       "851           6304  Arcade Creek Recreation and Park District      3.00   \n",
       "\n",
       "       mpo             county  \n",
       "851  SACOG  Sacramento County  "
      ]
     },
     "execution_count": 20,
     "metadata": {},
     "output_type": "execute_result"
    }
   ],
   "source": [
    "county.sample()"
   ]
  },
  {
   "cell_type": "code",
   "execution_count": null,
   "id": "96b23e8a-5faf-4e07-839a-fbcb962d834a",
   "metadata": {},
   "outputs": [],
   "source": []
  },
  {
   "cell_type": "markdown",
   "id": "219daa78-8f88-478b-b87d-8b1a5f935207",
   "metadata": {},
   "source": [
    "## Merge data on Locode"
   ]
  },
  {
   "cell_type": "code",
   "execution_count": 21,
   "id": "0c1189ce-870a-4997-b558-2555b6f94c43",
   "metadata": {},
   "outputs": [],
   "source": [
    "proj['locode'] = pd.to_numeric(proj['locode'], errors='coerce')"
   ]
  },
  {
   "cell_type": "code",
   "execution_count": 55,
   "id": "cfc762bb-aa3c-46de-9728-4632606a4777",
   "metadata": {},
   "outputs": [],
   "source": [
    "proj_all = (pd.merge(proj, locodes, left_on='locode', right_on='agency_locode', how='left'))"
   ]
  },
  {
   "cell_type": "code",
   "execution_count": 56,
   "id": "91219663-7f60-419f-a0d7-8402acb6f69d",
   "metadata": {},
   "outputs": [
    {
     "name": "stdout",
     "output_type": "stream",
     "text": [
      "<class 'pandas.core.frame.DataFrame'>\n",
      "Int64Index: 330 entries, 0 to 329\n",
      "Data columns (total 21 columns):\n",
      " #   Column                                        Non-Null Count  Dtype         \n",
      "---  ------                                        --------------  -----         \n",
      " 0   fmis_transaction_date                         330 non-null    datetime64[ns]\n",
      " 1   program_code                                  330 non-null    object        \n",
      " 2   program_code_description                      330 non-null    object        \n",
      " 3   project_number                                330 non-null    object        \n",
      " 4   recipient_project_number                      330 non-null    object        \n",
      " 5   project_title                                 330 non-null    object        \n",
      " 6   county_code                                   330 non-null    int64         \n",
      " 7   congressional_district                        330 non-null    object        \n",
      " 8   improvement_type                              330 non-null    object        \n",
      " 9   improvement_type_description                  330 non-null    object        \n",
      " 10  obligations_amount                            330 non-null    float64       \n",
      " 11  summary_recipient_defined_text_field_1_value  330 non-null    object        \n",
      " 12  locode                                        329 non-null    float64       \n",
      " 13  agency_locode                                 329 non-null    float64       \n",
      " 14  agency_name                                   329 non-null    object        \n",
      " 15  district                                      329 non-null    float64       \n",
      " 16  county_name                                   329 non-null    object        \n",
      " 17  rtpa_name                                     329 non-null    object        \n",
      " 18  mpo_name                                      329 non-null    object        \n",
      " 19  mpo_locode_fads                               329 non-null    object        \n",
      " 20  active_e76s______7_12_2021_                   318 non-null    object        \n",
      "dtypes: datetime64[ns](1), float64(4), int64(1), object(15)\n",
      "memory usage: 56.7+ KB\n"
     ]
    }
   ],
   "source": [
    "proj_all.info()"
   ]
  },
  {
   "cell_type": "code",
   "execution_count": 57,
   "id": "2f0e5137-5a5b-4c51-aa56-fabdef2ca75c",
   "metadata": {},
   "outputs": [],
   "source": [
    "proj_all = proj_all.rename(columns={'agency_name':'implementing_agency',\n",
    "                                   'locode':'implementing_agency_locode'})"
   ]
  },
  {
   "cell_type": "code",
   "execution_count": 58,
   "id": "4616d2b9-5010-4119-b0ea-2c9f3741b126",
   "metadata": {},
   "outputs": [],
   "source": [
    "#if we use other locode list then drop these columns\n",
    "proj_all.drop(columns =['active_e76s______7_12_2021_', 'mpo_locode_fads', 'agency_locode'], axis=1, inplace=True)"
   ]
  },
  {
   "cell_type": "code",
   "execution_count": 59,
   "id": "9cdd2f32-632d-4aa9-84d5-e9678f165565",
   "metadata": {},
   "outputs": [
    {
     "name": "stdout",
     "output_type": "stream",
     "text": [
      "<class 'pandas.core.frame.DataFrame'>\n",
      "Int64Index: 330 entries, 0 to 329\n",
      "Data columns (total 18 columns):\n",
      " #   Column                                        Non-Null Count  Dtype         \n",
      "---  ------                                        --------------  -----         \n",
      " 0   fmis_transaction_date                         330 non-null    datetime64[ns]\n",
      " 1   program_code                                  330 non-null    object        \n",
      " 2   program_code_description                      330 non-null    object        \n",
      " 3   project_number                                330 non-null    object        \n",
      " 4   recipient_project_number                      330 non-null    object        \n",
      " 5   project_title                                 330 non-null    object        \n",
      " 6   county_code                                   330 non-null    int64         \n",
      " 7   congressional_district                        330 non-null    object        \n",
      " 8   improvement_type                              330 non-null    object        \n",
      " 9   improvement_type_description                  330 non-null    object        \n",
      " 10  obligations_amount                            330 non-null    float64       \n",
      " 11  summary_recipient_defined_text_field_1_value  330 non-null    object        \n",
      " 12  implementing_agency_locode                    329 non-null    float64       \n",
      " 13  implementing_agency                           329 non-null    object        \n",
      " 14  district                                      329 non-null    float64       \n",
      " 15  county_name                                   329 non-null    object        \n",
      " 16  rtpa_name                                     329 non-null    object        \n",
      " 17  mpo_name                                      329 non-null    object        \n",
      "dtypes: datetime64[ns](1), float64(3), int64(1), object(13)\n",
      "memory usage: 49.0+ KB\n"
     ]
    }
   ],
   "source": [
    "proj_all.info()"
   ]
  },
  {
   "cell_type": "code",
   "execution_count": 62,
   "id": "dda865a7-e2aa-4df1-9d54-6a34a9c45369",
   "metadata": {},
   "outputs": [
    {
     "data": {
      "text/html": [
       "<div>\n",
       "<style scoped>\n",
       "    .dataframe tbody tr th:only-of-type {\n",
       "        vertical-align: middle;\n",
       "    }\n",
       "\n",
       "    .dataframe tbody tr th {\n",
       "        vertical-align: top;\n",
       "    }\n",
       "\n",
       "    .dataframe thead th {\n",
       "        text-align: right;\n",
       "    }\n",
       "</style>\n",
       "<table border=\"1\" class=\"dataframe\">\n",
       "  <thead>\n",
       "    <tr style=\"text-align: right;\">\n",
       "      <th></th>\n",
       "      <th>fmis_transaction_date</th>\n",
       "      <th>program_code</th>\n",
       "      <th>program_code_description</th>\n",
       "      <th>project_number</th>\n",
       "      <th>recipient_project_number</th>\n",
       "      <th>project_title</th>\n",
       "      <th>county_code</th>\n",
       "      <th>congressional_district</th>\n",
       "      <th>improvement_type</th>\n",
       "      <th>improvement_type_description</th>\n",
       "      <th>obligations_amount</th>\n",
       "      <th>summary_recipient_defined_text_field_1_value</th>\n",
       "      <th>implementing_agency_locode</th>\n",
       "      <th>implementing_agency</th>\n",
       "      <th>district</th>\n",
       "      <th>county_name</th>\n",
       "      <th>rtpa_name</th>\n",
       "      <th>mpo_name</th>\n",
       "    </tr>\n",
       "  </thead>\n",
       "  <tbody>\n",
       "    <tr>\n",
       "      <th>284</th>\n",
       "      <td>2022-04-26</td>\n",
       "      <td>Y001</td>\n",
       "      <td>NATIONAL HIGHWAY PERF IIJA</td>\n",
       "      <td>NBIS522</td>\n",
       "      <td>0000001453L5</td>\n",
       "      <td>STATEWIDE - IN SERVICE BRIDGES OWNED BY LOCAL AGENCIES FEDERALLY MANDATED BRIDGE INSPECTION PROGRAM</td>\n",
       "      <td>67</td>\n",
       "      <td>Cong Dist 3</td>\n",
       "      <td>49</td>\n",
       "      <td>Bridge Inspection and Bridge Related Training</td>\n",
       "      <td>14,164,800.00</td>\n",
       "      <td>S    NON-MPO</td>\n",
       "      <td>NaN</td>\n",
       "      <td>NaN</td>\n",
       "      <td>NaN</td>\n",
       "      <td>NaN</td>\n",
       "      <td>NaN</td>\n",
       "      <td>NaN</td>\n",
       "    </tr>\n",
       "  </tbody>\n",
       "</table>\n",
       "</div>"
      ],
      "text/plain": [
       "    fmis_transaction_date program_code    program_code_description  \\\n",
       "284            2022-04-26         Y001  NATIONAL HIGHWAY PERF IIJA   \n",
       "\n",
       "    project_number recipient_project_number  \\\n",
       "284        NBIS522             0000001453L5   \n",
       "\n",
       "                                                                                           project_title  \\\n",
       "284  STATEWIDE - IN SERVICE BRIDGES OWNED BY LOCAL AGENCIES FEDERALLY MANDATED BRIDGE INSPECTION PROGRAM   \n",
       "\n",
       "     county_code congressional_district improvement_type  \\\n",
       "284           67            Cong Dist 3               49   \n",
       "\n",
       "                      improvement_type_description  obligations_amount  \\\n",
       "284  Bridge Inspection and Bridge Related Training       14,164,800.00   \n",
       "\n",
       "    summary_recipient_defined_text_field_1_value  implementing_agency_locode  \\\n",
       "284                                 S    NON-MPO                         NaN   \n",
       "\n",
       "    implementing_agency  district county_name rtpa_name mpo_name  \n",
       "284                 NaN       NaN         NaN       NaN      NaN  "
      ]
     },
     "execution_count": 62,
     "metadata": {},
     "output_type": "execute_result"
    }
   ],
   "source": [
    "# one locode did not match\n",
    "proj_all>>filter(_.implementing_agency_locode.isnull())"
   ]
  },
  {
   "cell_type": "code",
   "execution_count": 63,
   "id": "c06dba2e-5776-438d-a129-5f6e6a508b6b",
   "metadata": {},
   "outputs": [
    {
     "data": {
      "text/html": [
       "<div>\n",
       "<style scoped>\n",
       "    .dataframe tbody tr th:only-of-type {\n",
       "        vertical-align: middle;\n",
       "    }\n",
       "\n",
       "    .dataframe tbody tr th {\n",
       "        vertical-align: top;\n",
       "    }\n",
       "\n",
       "    .dataframe thead th {\n",
       "        text-align: right;\n",
       "    }\n",
       "</style>\n",
       "<table border=\"1\" class=\"dataframe\">\n",
       "  <thead>\n",
       "    <tr style=\"text-align: right;\">\n",
       "      <th></th>\n",
       "      <th>fmis_transaction_date</th>\n",
       "      <th>program_code</th>\n",
       "      <th>program_code_description</th>\n",
       "      <th>project_number</th>\n",
       "      <th>recipient_project_number</th>\n",
       "      <th>project_title</th>\n",
       "      <th>county_code</th>\n",
       "      <th>congressional_district</th>\n",
       "      <th>improvement_type</th>\n",
       "      <th>improvement_type_description</th>\n",
       "      <th>obligations_amount</th>\n",
       "      <th>summary_recipient_defined_text_field_1_value</th>\n",
       "      <th>implementing_agency_locode</th>\n",
       "      <th>implementing_agency</th>\n",
       "      <th>district</th>\n",
       "      <th>county_name</th>\n",
       "      <th>rtpa_name</th>\n",
       "      <th>mpo_name</th>\n",
       "    </tr>\n",
       "  </thead>\n",
       "  <tbody>\n",
       "    <tr>\n",
       "      <th>0</th>\n",
       "      <td>2022-06-01</td>\n",
       "      <td>YS30//YS30</td>\n",
       "      <td>HIGHWAY SAFETY IMP PROG IIJA</td>\n",
       "      <td>5253021</td>\n",
       "      <td>0720000168L</td>\n",
       "      <td>120TH STREET FROM PRAIRIE AVENUE TO FELTON AVENUE. TRAFFIC SIGNAL UPGRADES AT NINE SIGNALIZED INTERSECTIONS AND IMPROVE CROSSINGS AND SIGNAGE.</td>\n",
       "      <td>37</td>\n",
       "      <td>Cong Dist 43</td>\n",
       "      <td>17//21</td>\n",
       "      <td>Construction Engineering//Safety</td>\n",
       "      <td>1,305,800.00</td>\n",
       "      <td>L5253SCAG</td>\n",
       "      <td>5,253.00</td>\n",
       "      <td>Hawthorne</td>\n",
       "      <td>7.00</td>\n",
       "      <td>Los Angeles County</td>\n",
       "      <td>Los Angeles County Metropolitan Transportation Auth.</td>\n",
       "      <td>Southern California Association Of Governments</td>\n",
       "    </tr>\n",
       "    <tr>\n",
       "      <th>1</th>\n",
       "      <td>2022-09-15</td>\n",
       "      <td>Y001</td>\n",
       "      <td>NATIONAL HIGHWAY PERF IIJA</td>\n",
       "      <td>NBIL539</td>\n",
       "      <td>0815000215L</td>\n",
       "      <td>13TH STREET OVER WILSON CREEK FROM OAK GLEN ROAD TO KENTUCKY STREET, LWC 00L0017 REPLACE LOW WATER CROSSING WITH 2-LANE BRIDGE</td>\n",
       "      <td>71</td>\n",
       "      <td>Cong Dist 8</td>\n",
       "      <td>44</td>\n",
       "      <td>Other</td>\n",
       "      <td>301,838.32</td>\n",
       "      <td>L5457SCAG</td>\n",
       "      <td>5,457.00</td>\n",
       "      <td>Yucaipa</td>\n",
       "      <td>8.00</td>\n",
       "      <td>San Bernardino County</td>\n",
       "      <td>San Bernardino Associated Governments</td>\n",
       "      <td>Southern California Association Of Governments</td>\n",
       "    </tr>\n",
       "    <tr>\n",
       "      <th>2</th>\n",
       "      <td>2022-07-25</td>\n",
       "      <td>YS30//YS30</td>\n",
       "      <td>HIGHWAY SAFETY IMP PROG IIJA</td>\n",
       "      <td>5132050</td>\n",
       "      <td>0421000374L</td>\n",
       "      <td>16 LOCATIONS IN THE CITY OF FAIRFIELD INSTALL ADAPTIVE SIGNAL TIMING AND ADVANCED DILEMMA-ZONE DETECTION, AND ENHANCE THE VISIBILITY OF SIGNALS.</td>\n",
       "      <td>95</td>\n",
       "      <td>Cong Dist 3</td>\n",
       "      <td>17//21</td>\n",
       "      <td>Construction Engineering//Safety</td>\n",
       "      <td>935,150.00</td>\n",
       "      <td>L5132MTC</td>\n",
       "      <td>5,132.00</td>\n",
       "      <td>Fairfield</td>\n",
       "      <td>4.00</td>\n",
       "      <td>Solano County</td>\n",
       "      <td>Metropolitan Transportation Commission</td>\n",
       "      <td>Metropolitan Transportation Commission</td>\n",
       "    </tr>\n",
       "    <tr>\n",
       "      <th>3</th>\n",
       "      <td>2022-03-07</td>\n",
       "      <td>Y233//Y233//Y233//Y233</td>\n",
       "      <td>STBG IIJA OFF-SYSTEM BRIDGE</td>\n",
       "      <td>5914078</td>\n",
       "      <td>0100020461L</td>\n",
       "      <td>2.2 MILES NORTH OF STATE ROUTE 20 ON WITTER SPRINGS ROAD OVER COOPER CREEK. BR.# 14C0119 BRIDGE REPLACEMENT (TC)</td>\n",
       "      <td>33</td>\n",
       "      <td>Cong Dist 3</td>\n",
       "      <td>11//15//16//17</td>\n",
       "      <td>Bridge Replacement - No Added Capacity//Preliminary Engineering//Right of Way//Construction Engineering</td>\n",
       "      <td>1,615,000.00</td>\n",
       "      <td>L5914NON-MPO</td>\n",
       "      <td>5,914.00</td>\n",
       "      <td>Lake County</td>\n",
       "      <td>1.00</td>\n",
       "      <td>Lake County</td>\n",
       "      <td>Lake County/City Area Planning Council</td>\n",
       "      <td>NON-MPO</td>\n",
       "    </tr>\n",
       "    <tr>\n",
       "      <th>4</th>\n",
       "      <td>2022-07-18</td>\n",
       "      <td>YS30//YS30</td>\n",
       "      <td>HIGHWAY SAFETY IMP PROG IIJA</td>\n",
       "      <td>5094071</td>\n",
       "      <td>0419000558L</td>\n",
       "      <td>21 INTERSECTIONS; ON ALAMO DRIVE FROM MERCHANT STREET TO NUT TREE ROAD AND ON PEABODY ROAD FROM ELMIRA ROAD TO FOXBORO PARKWAY IMPROVE SIGNAL HARDWAR</td>\n",
       "      <td>95</td>\n",
       "      <td>Cong Dist 3</td>\n",
       "      <td>17//21</td>\n",
       "      <td>Construction Engineering//Safety</td>\n",
       "      <td>2,027,700.00</td>\n",
       "      <td>L5094MTC</td>\n",
       "      <td>5,094.00</td>\n",
       "      <td>Vacaville</td>\n",
       "      <td>4.00</td>\n",
       "      <td>Solano County</td>\n",
       "      <td>Metropolitan Transportation Commission</td>\n",
       "      <td>Metropolitan Transportation Commission</td>\n",
       "    </tr>\n",
       "  </tbody>\n",
       "</table>\n",
       "</div>"
      ],
      "text/plain": [
       "  fmis_transaction_date            program_code      program_code_description  \\\n",
       "0            2022-06-01              YS30//YS30  HIGHWAY SAFETY IMP PROG IIJA   \n",
       "1            2022-09-15                    Y001    NATIONAL HIGHWAY PERF IIJA   \n",
       "2            2022-07-25              YS30//YS30  HIGHWAY SAFETY IMP PROG IIJA   \n",
       "3            2022-03-07  Y233//Y233//Y233//Y233   STBG IIJA OFF-SYSTEM BRIDGE   \n",
       "4            2022-07-18              YS30//YS30  HIGHWAY SAFETY IMP PROG IIJA   \n",
       "\n",
       "  project_number recipient_project_number  \\\n",
       "0        5253021              0720000168L   \n",
       "1        NBIL539              0815000215L   \n",
       "2        5132050              0421000374L   \n",
       "3        5914078              0100020461L   \n",
       "4        5094071              0419000558L   \n",
       "\n",
       "                                                                                                                                           project_title  \\\n",
       "0         120TH STREET FROM PRAIRIE AVENUE TO FELTON AVENUE. TRAFFIC SIGNAL UPGRADES AT NINE SIGNALIZED INTERSECTIONS AND IMPROVE CROSSINGS AND SIGNAGE.   \n",
       "1                         13TH STREET OVER WILSON CREEK FROM OAK GLEN ROAD TO KENTUCKY STREET, LWC 00L0017 REPLACE LOW WATER CROSSING WITH 2-LANE BRIDGE   \n",
       "2       16 LOCATIONS IN THE CITY OF FAIRFIELD INSTALL ADAPTIVE SIGNAL TIMING AND ADVANCED DILEMMA-ZONE DETECTION, AND ENHANCE THE VISIBILITY OF SIGNALS.   \n",
       "3                                       2.2 MILES NORTH OF STATE ROUTE 20 ON WITTER SPRINGS ROAD OVER COOPER CREEK. BR.# 14C0119 BRIDGE REPLACEMENT (TC)   \n",
       "4  21 INTERSECTIONS; ON ALAMO DRIVE FROM MERCHANT STREET TO NUT TREE ROAD AND ON PEABODY ROAD FROM ELMIRA ROAD TO FOXBORO PARKWAY IMPROVE SIGNAL HARDWAR   \n",
       "\n",
       "   county_code congressional_district improvement_type  \\\n",
       "0           37           Cong Dist 43           17//21   \n",
       "1           71            Cong Dist 8               44   \n",
       "2           95            Cong Dist 3           17//21   \n",
       "3           33            Cong Dist 3   11//15//16//17   \n",
       "4           95            Cong Dist 3           17//21   \n",
       "\n",
       "                                                                              improvement_type_description  \\\n",
       "0                                                                         Construction Engineering//Safety   \n",
       "1                                                                                                    Other   \n",
       "2                                                                         Construction Engineering//Safety   \n",
       "3  Bridge Replacement - No Added Capacity//Preliminary Engineering//Right of Way//Construction Engineering   \n",
       "4                                                                         Construction Engineering//Safety   \n",
       "\n",
       "   obligations_amount summary_recipient_defined_text_field_1_value  \\\n",
       "0        1,305,800.00                                    L5253SCAG   \n",
       "1          301,838.32                                    L5457SCAG   \n",
       "2          935,150.00                                     L5132MTC   \n",
       "3        1,615,000.00                                 L5914NON-MPO   \n",
       "4        2,027,700.00                                     L5094MTC   \n",
       "\n",
       "   implementing_agency_locode implementing_agency  district  \\\n",
       "0                    5,253.00           Hawthorne      7.00   \n",
       "1                    5,457.00             Yucaipa      8.00   \n",
       "2                    5,132.00           Fairfield      4.00   \n",
       "3                    5,914.00         Lake County      1.00   \n",
       "4                    5,094.00           Vacaville      4.00   \n",
       "\n",
       "             county_name  \\\n",
       "0     Los Angeles County   \n",
       "1  San Bernardino County   \n",
       "2          Solano County   \n",
       "3            Lake County   \n",
       "4          Solano County   \n",
       "\n",
       "                                              rtpa_name  \\\n",
       "0  Los Angeles County Metropolitan Transportation Auth.   \n",
       "1                 San Bernardino Associated Governments   \n",
       "2                Metropolitan Transportation Commission   \n",
       "3                Lake County/City Area Planning Council   \n",
       "4                Metropolitan Transportation Commission   \n",
       "\n",
       "                                         mpo_name  \n",
       "0  Southern California Association Of Governments  \n",
       "1  Southern California Association Of Governments  \n",
       "2          Metropolitan Transportation Commission  \n",
       "3                                         NON-MPO  \n",
       "4          Metropolitan Transportation Commission  "
      ]
     },
     "execution_count": 63,
     "metadata": {},
     "output_type": "execute_result"
    }
   ],
   "source": [
    "proj_all.head()"
   ]
  },
  {
   "cell_type": "code",
   "execution_count": 65,
   "id": "1652aee4-95ec-49dd-b221-873805c36e86",
   "metadata": {
    "scrolled": true,
    "tags": []
   },
   "outputs": [
    {
     "data": {
      "text/plain": [
       "['Hawthorne',\n",
       " 'Yucaipa',\n",
       " 'Fairfield',\n",
       " 'Lake County',\n",
       " 'Vacaville',\n",
       " 'Benicia',\n",
       " 'Pico Rivera',\n",
       " 'Marin County',\n",
       " 'Los Banos',\n",
       " 'Santa Clara County',\n",
       " 'Santa Barbara County',\n",
       " 'Fresno County',\n",
       " 'Santa Ana',\n",
       " 'Stockton',\n",
       " 'Caltrans',\n",
       " 'Sacramento',\n",
       " 'San Benito County',\n",
       " 'Pinole',\n",
       " 'Sacramento County',\n",
       " 'Merced County',\n",
       " 'Shasta County',\n",
       " 'Livingston',\n",
       " 'El Dorado County',\n",
       " 'Sanger',\n",
       " 'Palmdale',\n",
       " 'Tulare County',\n",
       " 'Coachella',\n",
       " 'Bakersfield',\n",
       " 'Colton',\n",
       " 'Visalia',\n",
       " 'Rialto',\n",
       " 'Metropolitan Transportation Commission',\n",
       " 'Bellflower',\n",
       " 'Belmont',\n",
       " 'Larkspur',\n",
       " 'Monterey County',\n",
       " 'Madera County',\n",
       " 'Moraga',\n",
       " 'Orinda',\n",
       " 'Redding',\n",
       " 'Cathedral City',\n",
       " 'Alameda',\n",
       " 'Clovis',\n",
       " 'Gardena',\n",
       " 'Mission Viejo',\n",
       " 'Pleasanton',\n",
       " 'Fresno',\n",
       " 'Butte County',\n",
       " 'Rohnert Park',\n",
       " 'Alameda County Transportation Commission',\n",
       " 'Yolo County',\n",
       " 'Stanislaus County',\n",
       " 'Placer County',\n",
       " 'Contra Costa County',\n",
       " 'Mariposa County',\n",
       " 'Santa Barbara',\n",
       " 'Nevada County',\n",
       " 'Calaveras County',\n",
       " 'Long Beach',\n",
       " 'Los Angeles',\n",
       " 'Dublin',\n",
       " 'Chico',\n",
       " 'Rancho Santa Margarita',\n",
       " 'Morgan Hill',\n",
       " 'Hanford',\n",
       " 'Kingsburg',\n",
       " 'Coachella Valley Association of Governments',\n",
       " 'La Puente',\n",
       " 'San Joaquin County',\n",
       " 'Fullerton',\n",
       " 'South San Francisco',\n",
       " 'Sunnyvale',\n",
       " 'Indio',\n",
       " 'Modesto',\n",
       " 'Vallejo',\n",
       " 'San Bernardino',\n",
       " 'Santa Cruz County',\n",
       " 'Orange Cove',\n",
       " 'Fremont',\n",
       " 'Jackson',\n",
       " 'San Luis Obispo County',\n",
       " 'San Diego',\n",
       " 'Lathrop',\n",
       " 'Riverside County',\n",
       " 'Sonoma County',\n",
       " 'Santa Rosa',\n",
       " 'Hercules',\n",
       " 'Twentynine Palms',\n",
       " 'San Mateo',\n",
       " 'San Bernardino County Transportation Authority',\n",
       " 'Elk Grove',\n",
       " 'Alameda County',\n",
       " 'Citrus Heights',\n",
       " 'Humboldt County',\n",
       " 'Mendocino County',\n",
       " 'Merced',\n",
       " 'Placerville',\n",
       " 'Sacramento Metropolitan Air Quality Management District',\n",
       " 'San Diego Association of Governments',\n",
       " 'Folsom',\n",
       " 'Galt',\n",
       " 'Roseville',\n",
       " 'Los Angeles County',\n",
       " 'Newman',\n",
       " 'Yuba County',\n",
       " 'El Cajon',\n",
       " 'Oakland',\n",
       " 'Brentwood',\n",
       " 'South Gate',\n",
       " 'Santa Monica',\n",
       " 'Orange County',\n",
       " 'San Jose',\n",
       " 'Shasta Lake',\n",
       " 'San Bernardino County',\n",
       " 'Barstow',\n",
       " 'Lassen County',\n",
       " 'St Helena',\n",
       " 'Ukiah',\n",
       " 'San Francisco County Transportation Authority',\n",
       " 'Sierra County',\n",
       " 'Hemet',\n",
       " 'Live Oak',\n",
       " 'Tehachapi',\n",
       " 'Corona',\n",
       " 'Kern County',\n",
       " 'Woodside',\n",
       " 'Napa Valley Transportation Authority',\n",
       " 'West Sacramento',\n",
       " 'Palm Springs',\n",
       " 'Del Norte County',\n",
       " 'Redwood City',\n",
       " 'Sacramento Area Council of Governments',\n",
       " 'San Mateo County',\n",
       " 'San Diego County',\n",
       " 'Napa County',\n",
       " 'Solano Transportation Authority',\n",
       " 'Patterson',\n",
       " 'Lodi',\n",
       " 'Sebastopol',\n",
       " 'Orange County Transportation Authority',\n",
       " 'Riverside County Transportation Commission',\n",
       " nan,\n",
       " 'Lake Elsinore',\n",
       " 'Encinitas',\n",
       " 'San Leandro',\n",
       " 'Vista',\n",
       " 'San Rafael',\n",
       " 'Los Angeles County Metropolitan Transportation Authority',\n",
       " 'Tahoe Transportation District',\n",
       " 'Huntington Beach',\n",
       " 'Fountain Valley',\n",
       " 'Concord',\n",
       " 'Victorville',\n",
       " 'Angels',\n",
       " 'Jurupa Valley',\n",
       " 'Redlands',\n",
       " 'Riverside',\n",
       " 'Anaheim',\n",
       " 'Pasadena',\n",
       " 'Trinity County',\n",
       " 'Windsor',\n",
       " 'Inglewood',\n",
       " 'San Marcos',\n",
       " 'Tuolumne County',\n",
       " 'Woodlake']"
      ]
     },
     "execution_count": 65,
     "metadata": {},
     "output_type": "execute_result"
    }
   ],
   "source": [
    "list(proj_all.implementing_agency.unique())"
   ]
  },
  {
   "cell_type": "code",
   "execution_count": null,
   "id": "d4dfc4fc-a01b-49b2-9614-c50064f816e0",
   "metadata": {},
   "outputs": [],
   "source": []
  },
  {
   "cell_type": "markdown",
   "id": "00234a35-98d5-4622-b248-62b6a00d7337",
   "metadata": {
    "jp-MarkdownHeadingCollapsed": true,
    "tags": []
   },
   "source": [
    "## Writing to GCS"
   ]
  },
  {
   "cell_type": "code",
   "execution_count": 29,
   "id": "2f690ffc-6a55-4743-8acd-16508aca80d1",
   "metadata": {},
   "outputs": [],
   "source": [
    "#proj_all.to_csv(f\"{GCS_FILE_PATH}/FMIS_projects_wip.csv\")"
   ]
  },
  {
   "cell_type": "code",
   "execution_count": null,
   "id": "eb5f3014-c25d-4381-987d-ff620f04a279",
   "metadata": {},
   "outputs": [],
   "source": []
  },
  {
   "cell_type": "markdown",
   "id": "3fbc1343-699a-4381-913b-0c66cae1c7e1",
   "metadata": {
    "jp-MarkdownHeadingCollapsed": true,
    "tags": []
   },
   "source": [
    "## Adding Place Names (can do)\n",
    "* we have a list of city names to county from [Caltrans PlaceNames](https://dot.ca.gov/-/media/dot-media/programs/research-innovation-system-information/documents/place-names/2019-place-names-in-california-a11y.pdf)\n"
   ]
  },
  {
   "cell_type": "code",
   "execution_count": 30,
   "id": "bb82f3f2-d0ff-4139-8420-f0f72cfa6e4b",
   "metadata": {},
   "outputs": [],
   "source": [
    "# city_place_names = (to_snakecase(pd.read_excel('gs://calitp-analytics-data/data-analyses/dla/e-76Obligated/2020-place-names-locode.xlsx', sheet_name=0)))"
   ]
  },
  {
   "cell_type": "code",
   "execution_count": 31,
   "id": "6f0caf9b-3d0c-4be1-a8ef-206b059daed1",
   "metadata": {},
   "outputs": [],
   "source": [
    "# city_place_names.sample()"
   ]
  },
  {
   "cell_type": "code",
   "execution_count": 32,
   "id": "bf9de490-95db-4eb3-947e-d73c14af57c6",
   "metadata": {},
   "outputs": [],
   "source": [
    "# city_place_names.drop(columns =['unnamed:_1', 'unnamed:_3', 'unnamed:_4','unnamed:_6','unnamed:_7', 'date_of_incorporation',\n",
    "#                                'city_name_abbr_','name','dist_', 'co_'], axis=1, inplace=True)"
   ]
  },
  {
   "cell_type": "code",
   "execution_count": 33,
   "id": "1fb19d79-d127-46b4-9085-a1e1168ce1ba",
   "metadata": {},
   "outputs": [],
   "source": [
    "# (pd.merge(proj_all, city_place_names, left_on='agency_locode', right_on='ct_city_code', how='left', indicator=True))._merge.value_counts()"
   ]
  },
  {
   "cell_type": "code",
   "execution_count": 34,
   "id": "8d817db3-c703-4b34-af3e-4cd66225b4fd",
   "metadata": {},
   "outputs": [],
   "source": [
    "# proj_all1 = (pd.merge(proj_all, city_place_names, left_on='agency_locode', right_on='ct_city_code', how='left', indicator='City'))"
   ]
  },
  {
   "cell_type": "code",
   "execution_count": 35,
   "id": "5a2e9dae-4485-41ed-93a4-101c548dbe4f",
   "metadata": {},
   "outputs": [],
   "source": [
    "# proj_all1.sample(2)"
   ]
  },
  {
   "cell_type": "code",
   "execution_count": 36,
   "id": "bb606cfd-5505-4580-bd96-a44cbe251f39",
   "metadata": {},
   "outputs": [],
   "source": [
    "# proj_all1>>filter(_.City!='both')"
   ]
  },
  {
   "cell_type": "code",
   "execution_count": 37,
   "id": "edb18611-ea3e-4df0-8262-bd7d03242f9e",
   "metadata": {},
   "outputs": [],
   "source": [
    "# county_place_names = (to_snakecase(pd.read_excel('gs://calitp-analytics-data/data-analyses/dla/e-76Obligated/2020-place-names-locode.xlsx', sheet_name=1)))"
   ]
  },
  {
   "cell_type": "code",
   "execution_count": 38,
   "id": "711ebb00-4833-4314-abe3-7e66adb5f1e8",
   "metadata": {},
   "outputs": [],
   "source": [
    "# county_place_names"
   ]
  },
  {
   "cell_type": "code",
   "execution_count": null,
   "id": "41f24aee-c3e6-4bea-b10d-b4febf9704f6",
   "metadata": {},
   "outputs": [],
   "source": []
  },
  {
   "cell_type": "markdown",
   "id": "8dfa52cb-98c8-49ce-9d16-5a9a1fb97aba",
   "metadata": {},
   "source": [
    "## Project Location"
   ]
  },
  {
   "cell_type": "code",
   "execution_count": 67,
   "id": "70e588f2-42b8-448f-9adb-6668e2e3b7e2",
   "metadata": {},
   "outputs": [],
   "source": [
    "location = (proj_all>>select(_.implementing_agency, _.county_name, _.project_title))"
   ]
  },
  {
   "cell_type": "code",
   "execution_count": 68,
   "id": "f3a8c197-240f-47e7-9ffa-dd00792f435e",
   "metadata": {},
   "outputs": [
    {
     "data": {
      "text/html": [
       "<div>\n",
       "<style scoped>\n",
       "    .dataframe tbody tr th:only-of-type {\n",
       "        vertical-align: middle;\n",
       "    }\n",
       "\n",
       "    .dataframe tbody tr th {\n",
       "        vertical-align: top;\n",
       "    }\n",
       "\n",
       "    .dataframe thead th {\n",
       "        text-align: right;\n",
       "    }\n",
       "</style>\n",
       "<table border=\"1\" class=\"dataframe\">\n",
       "  <thead>\n",
       "    <tr style=\"text-align: right;\">\n",
       "      <th></th>\n",
       "      <th>implementing_agency</th>\n",
       "      <th>county_name</th>\n",
       "      <th>project_title</th>\n",
       "    </tr>\n",
       "  </thead>\n",
       "  <tbody>\n",
       "    <tr>\n",
       "      <th>115</th>\n",
       "      <td>Fullerton</td>\n",
       "      <td>Orange County</td>\n",
       "      <td>FOURTEEN (14) SELECT INTERSECTIONS CITYWIDE INSTALL FOURTEEN (14) PEDESTRIAN WARNING FLASHING BEACONS CITYWIDE</td>\n",
       "    </tr>\n",
       "  </tbody>\n",
       "</table>\n",
       "</div>"
      ],
      "text/plain": [
       "    implementing_agency    county_name  \\\n",
       "115           Fullerton  Orange County   \n",
       "\n",
       "                                                                                                      project_title  \n",
       "115  FOURTEEN (14) SELECT INTERSECTIONS CITYWIDE INSTALL FOURTEEN (14) PEDESTRIAN WARNING FLASHING BEACONS CITYWIDE  "
      ]
     },
     "execution_count": 68,
     "metadata": {},
     "output_type": "execute_result"
    }
   ],
   "source": [
    "location.sample()"
   ]
  },
  {
   "cell_type": "code",
   "execution_count": null,
   "id": "6d5da5f9-6bb7-4848-b509-f84eb6fe8737",
   "metadata": {},
   "outputs": [],
   "source": []
  },
  {
   "cell_type": "code",
   "execution_count": null,
   "id": "a3f5f010-ca00-40bd-9b14-0643ec0366cd",
   "metadata": {},
   "outputs": [],
   "source": []
  },
  {
   "cell_type": "code",
   "execution_count": null,
   "id": "15d6cbfd-9994-4eed-b4b0-029b646dc962",
   "metadata": {},
   "outputs": [],
   "source": []
  },
  {
   "cell_type": "code",
   "execution_count": null,
   "id": "9085cb67-714c-4047-8664-6138b9a1f56a",
   "metadata": {},
   "outputs": [],
   "source": []
  },
  {
   "cell_type": "code",
   "execution_count": null,
   "id": "16c97de6-cc9c-4a57-aa5b-9bd8a8a76771",
   "metadata": {},
   "outputs": [],
   "source": []
  },
  {
   "cell_type": "code",
   "execution_count": null,
   "id": "adf7c3ca-c72d-4466-8f94-ed15a83002ed",
   "metadata": {},
   "outputs": [],
   "source": []
  },
  {
   "cell_type": "markdown",
   "id": "05485901-99ba-412a-b886-db67ea3fc317",
   "metadata": {},
   "source": [
    "## Project Title"
   ]
  },
  {
   "cell_type": "code",
   "execution_count": 73,
   "id": "c8bfeea9-2235-425f-9336-1302f43a9e79",
   "metadata": {},
   "outputs": [],
   "source": [
    "#subset df to work on title\n",
    "title = proj_all>>select(_.implementing_agency, _.program_code_description, _.project_title, _.program_code)"
   ]
  },
  {
   "cell_type": "code",
   "execution_count": 72,
   "id": "9afd7d19-1e04-4a4c-9256-5c490efd00e9",
   "metadata": {},
   "outputs": [
    {
     "data": {
      "text/html": [
       "<div>\n",
       "<style scoped>\n",
       "    .dataframe tbody tr th:only-of-type {\n",
       "        vertical-align: middle;\n",
       "    }\n",
       "\n",
       "    .dataframe tbody tr th {\n",
       "        vertical-align: top;\n",
       "    }\n",
       "\n",
       "    .dataframe thead th {\n",
       "        text-align: right;\n",
       "    }\n",
       "</style>\n",
       "<table border=\"1\" class=\"dataframe\">\n",
       "  <thead>\n",
       "    <tr style=\"text-align: right;\">\n",
       "      <th></th>\n",
       "      <th>implementing_agency</th>\n",
       "      <th>program_code_description</th>\n",
       "      <th>project_title</th>\n",
       "      <th>program_code</th>\n",
       "    </tr>\n",
       "  </thead>\n",
       "  <tbody>\n",
       "    <tr>\n",
       "      <th>0</th>\n",
       "      <td>Hawthorne</td>\n",
       "      <td>HIGHWAY SAFETY IMP PROG IIJA</td>\n",
       "      <td>120TH STREET FROM PRAIRIE AVENUE TO FELTON AVENUE. TRAFFIC SIGNAL UPGRADES AT NINE SIGNALIZED INTERSECTIONS AND IMPROVE CROSSINGS AND SIGNAGE.</td>\n",
       "      <td>YS30//YS30</td>\n",
       "    </tr>\n",
       "    <tr>\n",
       "      <th>1</th>\n",
       "      <td>Yucaipa</td>\n",
       "      <td>NATIONAL HIGHWAY PERF IIJA</td>\n",
       "      <td>13TH STREET OVER WILSON CREEK FROM OAK GLEN ROAD TO KENTUCKY STREET, LWC 00L0017 REPLACE LOW WATER CROSSING WITH 2-LANE BRIDGE</td>\n",
       "      <td>Y001</td>\n",
       "    </tr>\n",
       "    <tr>\n",
       "      <th>2</th>\n",
       "      <td>Fairfield</td>\n",
       "      <td>HIGHWAY SAFETY IMP PROG IIJA</td>\n",
       "      <td>16 LOCATIONS IN THE CITY OF FAIRFIELD INSTALL ADAPTIVE SIGNAL TIMING AND ADVANCED DILEMMA-ZONE DETECTION, AND ENHANCE THE VISIBILITY OF SIGNALS.</td>\n",
       "      <td>YS30//YS30</td>\n",
       "    </tr>\n",
       "    <tr>\n",
       "      <th>3</th>\n",
       "      <td>Lake County</td>\n",
       "      <td>STBG IIJA OFF-SYSTEM BRIDGE</td>\n",
       "      <td>2.2 MILES NORTH OF STATE ROUTE 20 ON WITTER SPRINGS ROAD OVER COOPER CREEK. BR.# 14C0119 BRIDGE REPLACEMENT (TC)</td>\n",
       "      <td>Y233//Y233//Y233//Y233</td>\n",
       "    </tr>\n",
       "    <tr>\n",
       "      <th>4</th>\n",
       "      <td>Vacaville</td>\n",
       "      <td>HIGHWAY SAFETY IMP PROG IIJA</td>\n",
       "      <td>21 INTERSECTIONS; ON ALAMO DRIVE FROM MERCHANT STREET TO NUT TREE ROAD AND ON PEABODY ROAD FROM ELMIRA ROAD TO FOXBORO PARKWAY IMPROVE SIGNAL HARDWAR</td>\n",
       "      <td>YS30//YS30</td>\n",
       "    </tr>\n",
       "    <tr>\n",
       "      <th>...</th>\n",
       "      <td>...</td>\n",
       "      <td>...</td>\n",
       "      <td>...</td>\n",
       "      <td>...</td>\n",
       "    </tr>\n",
       "    <tr>\n",
       "      <th>325</th>\n",
       "      <td>Indio</td>\n",
       "      <td>NATIONAL HIGHWAY PERF IIJA</td>\n",
       "      <td>WESTBOUND INDIO BOULEVARD OVER WHITEWATER RIVER, BR. NO. 56C-0292 SEISMIC RETROFIT AND SCOUR COUNTERMEASURES</td>\n",
       "      <td>Y001//Y001</td>\n",
       "    </tr>\n",
       "    <tr>\n",
       "      <th>326</th>\n",
       "      <td>Kingsburg</td>\n",
       "      <td>CONGESTION MITIGATION IIJA</td>\n",
       "      <td>WESTSIDE OF 18TH AVE FROM STROUD AVE TO KLEPPER ST CONSTRUCT NEW SIDEWALKS</td>\n",
       "      <td>Y400//Y400</td>\n",
       "    </tr>\n",
       "    <tr>\n",
       "      <th>327</th>\n",
       "      <td>Santa Ana</td>\n",
       "      <td>TRANS ALTERNATIVES &gt;200K IIJA</td>\n",
       "      <td>WILLITS STREET FROM FAIRVIEW STREET TO E/S OF RAITT STREET INSTALL MEDIAN, PARKING-PROTECTED BICYCLE LANES, AND DEDICATED BICYCLE SIGNAL HEADS (TC)</td>\n",
       "      <td>Y301//Y301</td>\n",
       "    </tr>\n",
       "    <tr>\n",
       "      <th>328</th>\n",
       "      <td>San Joaquin County</td>\n",
       "      <td>STBG IIJA OFF-SYSTEM BRIDGE</td>\n",
       "      <td>WIMER ROAD OVER INDIAN CREEK NORTH BRANCH (BRIDGE 29C0303) BRIDGE REPLACEMENT (TC)</td>\n",
       "      <td>Y233//Y233</td>\n",
       "    </tr>\n",
       "    <tr>\n",
       "      <th>329</th>\n",
       "      <td>Woodlake</td>\n",
       "      <td>CONGESTION MITIGATION IIJA</td>\n",
       "      <td>WOODLAKE AT THE INTERSECTION OF SIERRA AVE AND CASTLE ROCK STREET NEW ROUNDABOUT (TC)</td>\n",
       "      <td>Y400</td>\n",
       "    </tr>\n",
       "  </tbody>\n",
       "</table>\n",
       "<p>330 rows × 4 columns</p>\n",
       "</div>"
      ],
      "text/plain": [
       "    implementing_agency       program_code_description  \\\n",
       "0             Hawthorne   HIGHWAY SAFETY IMP PROG IIJA   \n",
       "1               Yucaipa     NATIONAL HIGHWAY PERF IIJA   \n",
       "2             Fairfield   HIGHWAY SAFETY IMP PROG IIJA   \n",
       "3           Lake County    STBG IIJA OFF-SYSTEM BRIDGE   \n",
       "4             Vacaville   HIGHWAY SAFETY IMP PROG IIJA   \n",
       "..                  ...                            ...   \n",
       "325               Indio     NATIONAL HIGHWAY PERF IIJA   \n",
       "326           Kingsburg     CONGESTION MITIGATION IIJA   \n",
       "327           Santa Ana  TRANS ALTERNATIVES >200K IIJA   \n",
       "328  San Joaquin County    STBG IIJA OFF-SYSTEM BRIDGE   \n",
       "329            Woodlake     CONGESTION MITIGATION IIJA   \n",
       "\n",
       "                                                                                                                                             project_title  \\\n",
       "0           120TH STREET FROM PRAIRIE AVENUE TO FELTON AVENUE. TRAFFIC SIGNAL UPGRADES AT NINE SIGNALIZED INTERSECTIONS AND IMPROVE CROSSINGS AND SIGNAGE.   \n",
       "1                           13TH STREET OVER WILSON CREEK FROM OAK GLEN ROAD TO KENTUCKY STREET, LWC 00L0017 REPLACE LOW WATER CROSSING WITH 2-LANE BRIDGE   \n",
       "2         16 LOCATIONS IN THE CITY OF FAIRFIELD INSTALL ADAPTIVE SIGNAL TIMING AND ADVANCED DILEMMA-ZONE DETECTION, AND ENHANCE THE VISIBILITY OF SIGNALS.   \n",
       "3                                         2.2 MILES NORTH OF STATE ROUTE 20 ON WITTER SPRINGS ROAD OVER COOPER CREEK. BR.# 14C0119 BRIDGE REPLACEMENT (TC)   \n",
       "4    21 INTERSECTIONS; ON ALAMO DRIVE FROM MERCHANT STREET TO NUT TREE ROAD AND ON PEABODY ROAD FROM ELMIRA ROAD TO FOXBORO PARKWAY IMPROVE SIGNAL HARDWAR   \n",
       "..                                                                                                                                                     ...   \n",
       "325                                           WESTBOUND INDIO BOULEVARD OVER WHITEWATER RIVER, BR. NO. 56C-0292 SEISMIC RETROFIT AND SCOUR COUNTERMEASURES   \n",
       "326                                                                             WESTSIDE OF 18TH AVE FROM STROUD AVE TO KLEPPER ST CONSTRUCT NEW SIDEWALKS   \n",
       "327    WILLITS STREET FROM FAIRVIEW STREET TO E/S OF RAITT STREET INSTALL MEDIAN, PARKING-PROTECTED BICYCLE LANES, AND DEDICATED BICYCLE SIGNAL HEADS (TC)   \n",
       "328                                                                     WIMER ROAD OVER INDIAN CREEK NORTH BRANCH (BRIDGE 29C0303) BRIDGE REPLACEMENT (TC)   \n",
       "329                                                                  WOODLAKE AT THE INTERSECTION OF SIERRA AVE AND CASTLE ROCK STREET NEW ROUNDABOUT (TC)   \n",
       "\n",
       "               program_code  \n",
       "0                YS30//YS30  \n",
       "1                      Y001  \n",
       "2                YS30//YS30  \n",
       "3    Y233//Y233//Y233//Y233  \n",
       "4                YS30//YS30  \n",
       "..                      ...  \n",
       "325              Y001//Y001  \n",
       "326              Y400//Y400  \n",
       "327              Y301//Y301  \n",
       "328              Y233//Y233  \n",
       "329                    Y400  \n",
       "\n",
       "[330 rows x 4 columns]"
      ]
     },
     "execution_count": 72,
     "metadata": {},
     "output_type": "execute_result"
    }
   ],
   "source": [
    "title"
   ]
  },
  {
   "cell_type": "code",
   "execution_count": null,
   "id": "b6a99213-e8cd-48bf-b2ed-1bd8d90f461d",
   "metadata": {},
   "outputs": [],
   "source": []
  },
  {
   "cell_type": "code",
   "execution_count": null,
   "id": "a08ae574-82e4-42d3-b1b7-ffff1bc50ec1",
   "metadata": {},
   "outputs": [],
   "source": []
  },
  {
   "cell_type": "code",
   "execution_count": null,
   "id": "860d5b3b-e6b6-481d-8d2f-56cdc3b8d657",
   "metadata": {
    "tags": []
   },
   "outputs": [],
   "source": []
  }
 ],
 "metadata": {
  "kernelspec": {
   "display_name": "Python 3 (ipykernel)",
   "language": "python",
   "name": "python3"
  },
  "language_info": {
   "codemirror_mode": {
    "name": "ipython",
    "version": 3
   },
   "file_extension": ".py",
   "mimetype": "text/x-python",
   "name": "python",
   "nbconvert_exporter": "python",
   "pygments_lexer": "ipython3",
   "version": "3.10.5"
  },
  "widgets": {
   "application/vnd.jupyter.widget-state+json": {
    "state": {},
    "version_major": 2,
    "version_minor": 0
   }
  }
 },
 "nbformat": 4,
 "nbformat_minor": 5
}
