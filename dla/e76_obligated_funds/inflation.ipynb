{
 "cells": [
  {
   "cell_type": "code",
   "execution_count": null,
   "id": "8777e982-7728-456f-87b3-441d1f106029",
   "metadata": {},
   "outputs": [],
   "source": [
    "!pip install cpi"
   ]
  },
  {
   "cell_type": "code",
   "execution_count": null,
   "id": "549fc345-e6e1-4e9f-931e-81d3d23ba5bc",
   "metadata": {},
   "outputs": [],
   "source": [
    "import cpi\n",
    "\n",
    "# Inflation table\n",
    "def inflation_table(base_year):\n",
    "    cpi.update()\n",
    "    series_df = cpi.series.get(area=\"U.S. city average\").to_dataframe()\n",
    "    inflation_df = (series_df[series_df.year >= 2008]\n",
    "           .pivot_table(index='year', values='value', aggfunc='mean')\n",
    "           .reset_index()\n",
    "          )\n",
    "    denominator = inflation_df.value.loc[inflation_df.year==base_year].iloc[0]\n",
    "\n",
    "    inflation_df = inflation_df.assign(\n",
    "        inflation = inflation_df.value.divide(denominator)\n",
    "    )\n",
    "    \n",
    "    return inflation_df"
   ]
  }
 ],
 "metadata": {
  "kernelspec": {
   "display_name": "Python 3 (ipykernel)",
   "language": "python",
   "name": "python3"
  },
  "language_info": {
   "codemirror_mode": {
    "name": "ipython",
    "version": 3
   },
   "file_extension": ".py",
   "mimetype": "text/x-python",
   "name": "python",
   "nbconvert_exporter": "python",
   "pygments_lexer": "ipython3",
   "version": "3.9.7"
  }
 },
 "nbformat": 4,
 "nbformat_minor": 5
}
