{
 "cells": [
  {
   "cell_type": "markdown",
   "id": "c5e93f25-9e95-4c5a-a088-8a517607537c",
   "metadata": {},
   "source": [
    "# Script work for Generating Charting Outputs"
   ]
  },
  {
   "cell_type": "code",
   "execution_count": 1,
   "id": "309c8aed-2642-4d35-8349-7d25c94ab809",
   "metadata": {},
   "outputs": [
    {
     "name": "stderr",
     "output_type": "stream",
     "text": [
      "/opt/conda/lib/python3.9/site-packages/geopandas/_compat.py:111: UserWarning: The Shapely GEOS version (3.9.1-CAPI-1.14.2) is incompatible with the GEOS version PyGEOS was compiled with (3.10.1-CAPI-1.16.0). Conversions between both will be slow.\n",
      "/opt/conda/lib/python3.9/site-packages/google/auth/_default.py:73: UserWarning: Your application has authenticated using end user credentials from Google Cloud SDK without a quota project. You might receive a \"quota exceeded\" or \"API not enabled\" error. We recommend you rerun `gcloud auth application-default login` and make sure a quota project is added. Or you can use service accounts instead. For more information about service accounts, see https://cloud.google.com/docs/authentication/\n",
      "/opt/conda/lib/python3.9/site-packages/google/auth/_default.py:73: UserWarning: Your application has authenticated using end user credentials from Google Cloud SDK without a quota project. You might receive a \"quota exceeded\" or \"API not enabled\" error. We recommend you rerun `gcloud auth application-default login` and make sure a quota project is added. Or you can use service accounts instead. For more information about service accounts, see https://cloud.google.com/docs/authentication/\n"
     ]
    }
   ],
   "source": [
    "import numpy as np\n",
    "import pandas as pd\n",
    "from siuba import *\n",
    "\n",
    "import altair as alt\n",
    "import altair_saver\n",
    "from plotnine import *\n",
    "\n",
    "from IPython.display import Markdown\n",
    "\n",
    "from shared_utils import altair_utils\n",
    "from shared_utils import geography_utils\n",
    "from shared_utils import calitp_color_palette as cp\n",
    "from shared_utils import styleguide\n",
    "\n",
    "from calitp import to_snakecase\n",
    "import intake\n",
    "\n",
    "import clean_data\n",
    "import _dla_utils"
   ]
  },
  {
   "cell_type": "code",
   "execution_count": 2,
   "id": "09b8cdb0-bc6d-4ddd-96f4-55cefb5c6ca0",
   "metadata": {},
   "outputs": [],
   "source": [
    "pd.set_option('display.max_columns', None)\n",
    "pd.options.display.float_format = '{:,.2f}'.format"
   ]
  },
  {
   "cell_type": "code",
   "execution_count": 24,
   "id": "6c15b87b-478d-4ac2-9e22-b2fa59824c38",
   "metadata": {},
   "outputs": [],
   "source": [
    "df= pd.read_parquet(\"dla_df.parquet\")"
   ]
  },
  {
   "cell_type": "code",
   "execution_count": 25,
   "id": "be8a0fa5-21c2-41b0-ab1f-786162dae9ef",
   "metadata": {},
   "outputs": [
    {
     "data": {
      "text/plain": [
       "20117"
      ]
     },
     "execution_count": 25,
     "metadata": {},
     "output_type": "execute_result"
    }
   ],
   "source": [
    "len(df)"
   ]
  },
  {
   "cell_type": "code",
   "execution_count": 26,
   "id": "56fa1bed-c8aa-4b1a-9edf-426fecfb802b",
   "metadata": {
    "tags": [
     "parameter"
    ]
   },
   "outputs": [],
   "source": [
    "subset= 11"
   ]
  },
  {
   "cell_type": "code",
   "execution_count": 27,
   "id": "f7ded6ab-4481-44d6-82f0-947376ff6238",
   "metadata": {},
   "outputs": [],
   "source": [
    "df = df>>filter(_.dist==subset)"
   ]
  },
  {
   "cell_type": "code",
   "execution_count": 7,
   "id": "3294c177-15e2-4baf-a1fa-98390610429a",
   "metadata": {
    "tags": []
   },
   "outputs": [],
   "source": [
    "def labeling(word):\n",
    "    # Add specific use cases where it's not just first letter capitalized\n",
    "    LABEL_DICT = { \"prepared_y\": \"Year\",\n",
    "              \"dist\": \"District\",\n",
    "              \"total_requested\": \"Total Requested\",\n",
    "              \"fed_requested\":\"Fed Requested\",\n",
    "              \"ac_requested\": \"Advance Construction Requested\",\n",
    "              \"nunique\":\"Number of Unique\",\n",
    "              \"project_no\": \"Project Number\"}\n",
    "    \n",
    "    if (word == \"mpo\") or (word == \"rtpa\"):\n",
    "        word = word.upper()\n",
    "    elif word in LABEL_DICT.keys():\n",
    "        word = LABEL_DICT[word]\n",
    "    else:\n",
    "        word = word.replace('n_', 'Number of ').title()\n",
    "        word = word.replace('unique_', \"Number of Unique \").title()\n",
    "        word = word.replace('_', ' ').title()\n",
    "    \n",
    "    return word\n"
   ]
  },
  {
   "cell_type": "code",
   "execution_count": 8,
   "id": "7cb8e1dc-232f-4d7b-b8ab-5cb4c94237e0",
   "metadata": {
    "tags": []
   },
   "outputs": [],
   "source": [
    "def basic_bar_chart_test(df, x_col, y_col, color_col, subset, chart_title=''):\n",
    "\n",
    "    if chart_title == \"\":\n",
    "        chart_title = (f\"{labeling(x_col)} by {labeling(y_col)}\")\n",
    "\n",
    "    \n",
    "    chart = (alt.Chart(df)\n",
    "             .mark_bar()\n",
    "             .encode(\n",
    "                 x=alt.X(x_col, title=labeling(x_col), sort=('-y')),\n",
    "                 y=alt.Y(y_col, title=labeling(y_col)),\n",
    "                 color = alt.Color(color_col,\n",
    "                                  scale=alt.Scale(\n",
    "                                      range=altair_utils.CALITP_SEQUENTIAL_COLORS),\n",
    "                                      legend=alt.Legend(title=(labeling(color_col)))\n",
    "                                  ))\n",
    "             .properties( \n",
    "                          title=chart_title)\n",
    "    )\n",
    "\n",
    "    chart=styleguide.preset_chart_config(chart)\n",
    "   # chart.save(f\"./chart_outputs/d{subset}_outputs/bar_{x_col}_by_{y_col}.png\")\n",
    "    \n",
    "    return chart\n",
    "\n",
    "\n",
    "def basic_line_chart_test(df, x_col, y_col, subset, chart_title=''):\n",
    "    \n",
    "    if chart_title == \"\":\n",
    "        chart_title = (f\"{labeling(x_col)} by {labeling(y_col)}\")\n",
    "    \n",
    "    \n",
    "    chart = (alt.Chart(df)\n",
    "             .mark_line()\n",
    "             .encode(\n",
    "                 x=alt.X(x_col, title=labeling(x_col)),\n",
    "                 y=alt.Y(y_col, title=labeling(y_col))\n",
    "                                   )\n",
    "              ).properties( \n",
    "                          title=chart_title)\n",
    "\n",
    "    chart=styleguide.preset_chart_config(chart)\n",
    "    #chart.save(f\"./chart_outputs/d{subset}_outputs/line_{x_col}_by_{y_col}.png\")\n",
    "    \n",
    "    return chart\n"
   ]
  },
  {
   "cell_type": "code",
   "execution_count": 9,
   "id": "9f581c3b-7226-4b7e-acb9-8c9666ffdd42",
   "metadata": {},
   "outputs": [],
   "source": [
    "df_years= _dla_utils.count_all_years(df)"
   ]
  },
  {
   "cell_type": "code",
   "execution_count": 10,
   "id": "19f864d2-2df3-4d3f-b61c-1d82fc6acd05",
   "metadata": {},
   "outputs": [
    {
     "data": {
      "text/html": [
       "\n",
       "<div id=\"altair-viz-f4c963901bf14cad878eb9ada3e65b2a\"></div>\n",
       "<script type=\"text/javascript\">\n",
       "  var VEGA_DEBUG = (typeof VEGA_DEBUG == \"undefined\") ? {} : VEGA_DEBUG;\n",
       "  (function(spec, embedOpt){\n",
       "    let outputDiv = document.currentScript.previousElementSibling;\n",
       "    if (outputDiv.id !== \"altair-viz-f4c963901bf14cad878eb9ada3e65b2a\") {\n",
       "      outputDiv = document.getElementById(\"altair-viz-f4c963901bf14cad878eb9ada3e65b2a\");\n",
       "    }\n",
       "    const paths = {\n",
       "      \"vega\": \"https://cdn.jsdelivr.net/npm//vega@5?noext\",\n",
       "      \"vega-lib\": \"https://cdn.jsdelivr.net/npm//vega-lib?noext\",\n",
       "      \"vega-lite\": \"https://cdn.jsdelivr.net/npm//vega-lite@4.17.0?noext\",\n",
       "      \"vega-embed\": \"https://cdn.jsdelivr.net/npm//vega-embed@6?noext\",\n",
       "    };\n",
       "\n",
       "    function maybeLoadScript(lib, version) {\n",
       "      var key = `${lib.replace(\"-\", \"\")}_version`;\n",
       "      return (VEGA_DEBUG[key] == version) ?\n",
       "        Promise.resolve(paths[lib]) :\n",
       "        new Promise(function(resolve, reject) {\n",
       "          var s = document.createElement('script');\n",
       "          document.getElementsByTagName(\"head\")[0].appendChild(s);\n",
       "          s.async = true;\n",
       "          s.onload = () => {\n",
       "            VEGA_DEBUG[key] = version;\n",
       "            return resolve(paths[lib]);\n",
       "          };\n",
       "          s.onerror = () => reject(`Error loading script: ${paths[lib]}`);\n",
       "          s.src = paths[lib];\n",
       "        });\n",
       "    }\n",
       "\n",
       "    function showError(err) {\n",
       "      outputDiv.innerHTML = `<div class=\"error\" style=\"color:red;\">${err}</div>`;\n",
       "      throw err;\n",
       "    }\n",
       "\n",
       "    function displayChart(vegaEmbed) {\n",
       "      vegaEmbed(outputDiv, spec, embedOpt)\n",
       "        .catch(err => showError(`Javascript Error: ${err.message}<br>This usually means there's a typo in your chart specification. See the javascript console for the full traceback.`));\n",
       "    }\n",
       "\n",
       "    if(typeof define === \"function\" && define.amd) {\n",
       "      requirejs.config({paths});\n",
       "      require([\"vega-embed\"], displayChart, err => showError(`Error loading script: ${err.message}`));\n",
       "    } else {\n",
       "      maybeLoadScript(\"vega\", \"5\")\n",
       "        .then(() => maybeLoadScript(\"vega-lite\", \"4.17.0\"))\n",
       "        .then(() => maybeLoadScript(\"vega-embed\", \"6\"))\n",
       "        .catch(showError)\n",
       "        .then(() => displayChart(vegaEmbed));\n",
       "    }\n",
       "  })({\"config\": {\"view\": {\"continuousWidth\": 400, \"continuousHeight\": 300}, \"axis\": {\"domainColor\": \"#cbcbcb\", \"grid\": true, \"gridColor\": \"#cbcbcb\", \"gridWidth\": 1, \"labelColor\": \"#474747\", \"labelFont\": \"Nunito Sans\", \"labelFontSize\": 10, \"labelPadding\": 4, \"tickColor\": \"#cbcbcb\", \"tickSize\": 10, \"titleColor\": \"#333\", \"titleFont\": \"Raleway\", \"titleFontSize\": 12, \"titlePadding\": 10}, \"axisBand\": {\"grid\": false}, \"background\": \"white\", \"font\": \"Raleway\", \"header\": {\"labelFont\": \"Nunito Sans\", \"titleFont\": \"Raleway\"}, \"legend\": {\"labelColor\": \"#333\", \"labelFont\": \"Nunito Sans\", \"labelFontSize\": 11, \"labelLimit\": 0, \"padding\": 1, \"symbolSize\": 30, \"symbolType\": \"square\", \"titleColor\": \"#333\", \"titleFont\": \"Raleway\", \"titleFontSize\": 14, \"titlePadding\": 10}, \"title\": {\"anchor\": \"middle\", \"font\": \"Raleway\", \"fontSize\": 18, \"fontWeight\": 300, \"offset\": 20}}, \"data\": {\"name\": \"data-b359b26a727758728cf84ff33450ee08\"}, \"mark\": \"bar\", \"encoding\": {\"color\": {\"field\": \"prepared_y\", \"legend\": {\"title\": \"Year\"}, \"scale\": {\"range\": [\"#B9D6DF\", \"#8CBCCB\", \"#2EA8CE\", \"#136C97\", \"#0B405B\"]}, \"type\": \"quantitative\"}, \"x\": {\"field\": \"prepared_y\", \"sort\": \"-y\", \"title\": \"Year\", \"type\": \"quantitative\"}, \"y\": {\"field\": \"total_requested_sum\", \"title\": \"Total Requested Sum\", \"type\": \"quantitative\"}}, \"height\": 250, \"title\": \"Total Requested Funds by Year\", \"width\": 400, \"$schema\": \"https://vega.github.io/schema/vega-lite/v4.17.0.json\", \"datasets\": {\"data-b359b26a727758728cf84ff33450ee08\": [{\"prepared_y\": 2021, \"dist\": 7, \"ac_requested_sum\": -19826821.22, \"fed_requested_sum\": 444283866.99, \"total_requested_sum\": 633692575.55, \"ac_requested_mean\": -82268.96771784232, \"fed_requested_mean\": 1843501.5227800831, \"total_requested_mean\": 2629429.77406639, \"unique_mpo\": 2.0, \"unique_prefix\": 41.0, \"unique_primary_agency_name\": 62.0, \"unique_project_location\": 203.0, \"unique_project_no\": 210.0, \"unique_type_of_work\": 196.0}, {\"prepared_y\": 2020, \"dist\": 7, \"ac_requested_sum\": -27852114.040000003, \"fed_requested_sum\": 418932795.85, \"total_requested_sum\": 958805173.73, \"ac_requested_mean\": -87037.856375, \"fed_requested_mean\": 1309164.98703125, \"total_requested_mean\": 2996266.16790625, \"unique_mpo\": 1.0, \"unique_prefix\": 44.0, \"unique_primary_agency_name\": 60.0, \"unique_project_location\": 277.0, \"unique_project_no\": 283.0, \"unique_type_of_work\": 268.0}, {\"prepared_y\": 2019, \"dist\": 7, \"ac_requested_sum\": -12994940.999999998, \"fed_requested_sum\": 363282690.29, \"total_requested_sum\": 398693493.87, \"ac_requested_mean\": -37449.39769452449, \"fed_requested_mean\": 1046924.1795100865, \"total_requested_mean\": 1148972.60481268, \"unique_mpo\": 2.0, \"unique_prefix\": 37.0, \"unique_primary_agency_name\": 67.0, \"unique_project_location\": 293.0, \"unique_project_no\": 304.0, \"unique_type_of_work\": 285.0}, {\"prepared_y\": 2018, \"dist\": 7, \"ac_requested_sum\": -59154978.39, \"fed_requested_sum\": 333529825.48, \"total_requested_sum\": 334612369.11, \"ac_requested_mean\": -176056.48330357144, \"fed_requested_mean\": 992648.2901190476, \"total_requested_mean\": 995870.1461607143, \"unique_mpo\": 1.0, \"unique_prefix\": 39.0, \"unique_primary_agency_name\": 63.0, \"unique_project_location\": 280.0, \"unique_project_no\": 294.0, \"unique_type_of_work\": 267.0}, {\"prepared_y\": 2017, \"dist\": 7, \"ac_requested_sum\": -60396680.120000005, \"fed_requested_sum\": 311587728.98, \"total_requested_sum\": 299707091.05, \"ac_requested_mean\": -184136.21987804878, \"fed_requested_mean\": 949962.5883536586, \"total_requested_mean\": 913741.1312500001, \"unique_mpo\": 2.0, \"unique_prefix\": 39.0, \"unique_primary_agency_name\": 73.0, \"unique_project_location\": 282.0, \"unique_project_no\": 296.0, \"unique_type_of_work\": 266.0}, {\"prepared_y\": 2016, \"dist\": 7, \"ac_requested_sum\": -93842132.66, \"fed_requested_sum\": 430301340.34000003, \"total_requested_sum\": 490366212.28999996, \"ac_requested_mean\": -248918.12376657824, \"fed_requested_mean\": 1144418.458351064, \"total_requested_mean\": 1300706.1333952253, \"unique_mpo\": 2.0, \"unique_prefix\": 43.0, \"unique_primary_agency_name\": 76.0, \"unique_project_location\": 308.0, \"unique_project_no\": 323.0, \"unique_type_of_work\": 304.0}, {\"prepared_y\": 2015, \"dist\": 7, \"ac_requested_sum\": 134831454.0, \"fed_requested_sum\": 259044968.13, \"total_requested_sum\": 585936360.08, \"ac_requested_mean\": 364409.33513513516, \"fed_requested_mean\": 700121.5354864865, \"total_requested_mean\": 1583611.7840000002, \"unique_mpo\": 8.0, \"unique_prefix\": 41.0, \"unique_primary_agency_name\": 85.0, \"unique_project_location\": 299.0, \"unique_project_no\": 312.0, \"unique_type_of_work\": 269.0}, {\"prepared_y\": 2014, \"dist\": 7, \"ac_requested_sum\": 234962242.0, \"fed_requested_sum\": 291500812.09000003, \"total_requested_sum\": 585146074.79, \"ac_requested_mean\": 546423.8186046511, \"fed_requested_mean\": 677908.8653255815, \"total_requested_mean\": 1360804.8250930232, \"unique_mpo\": 10.0, \"unique_prefix\": 42.0, \"unique_primary_agency_name\": 77.0, \"unique_project_location\": 362.0, \"unique_project_no\": 375.0, \"unique_type_of_work\": 323.0}, {\"prepared_y\": 2013, \"dist\": 7, \"ac_requested_sum\": 28551374.0, \"fed_requested_sum\": 14647597.53, \"total_requested_sum\": -23007554.770000003, \"ac_requested_mean\": 892230.4375, \"fed_requested_mean\": 457737.4228125, \"total_requested_mean\": -718986.0865625001, \"unique_mpo\": 4.0, \"unique_prefix\": 20.0, \"unique_primary_agency_name\": 18.0, \"unique_project_location\": 30.0, \"unique_project_no\": 32.0, \"unique_type_of_work\": 31.0}, {\"prepared_y\": 2012, \"dist\": 7, \"ac_requested_sum\": 0.0, \"fed_requested_sum\": -109457.0, \"total_requested_sum\": -123505.0, \"ac_requested_mean\": 0.0, \"fed_requested_mean\": -109457.0, \"total_requested_mean\": -123505.0, \"unique_mpo\": 1.0, \"unique_prefix\": 1.0, \"unique_primary_agency_name\": 1.0, \"unique_project_location\": 1.0, \"unique_project_no\": 1.0, \"unique_type_of_work\": 1.0}]}}, {\"mode\": \"vega-lite\"});\n",
       "</script>"
      ],
      "text/plain": [
       "alt.Chart(...)"
      ]
     },
     "execution_count": 10,
     "metadata": {},
     "output_type": "execute_result"
    }
   ],
   "source": [
    "basic_bar_chart_test(df_years, 'prepared_y', 'total_requested_sum', 'prepared_y', subset, 'Total Requested Funds by Year')\n"
   ]
  },
  {
   "cell_type": "code",
   "execution_count": 11,
   "id": "e04e9aa3-00b6-409a-b741-bc2eba72cdcb",
   "metadata": {},
   "outputs": [
    {
     "data": {
      "text/html": [
       "\n",
       "<div id=\"altair-viz-1396079dbdf94b8bb16eac0062636aa8\"></div>\n",
       "<script type=\"text/javascript\">\n",
       "  var VEGA_DEBUG = (typeof VEGA_DEBUG == \"undefined\") ? {} : VEGA_DEBUG;\n",
       "  (function(spec, embedOpt){\n",
       "    let outputDiv = document.currentScript.previousElementSibling;\n",
       "    if (outputDiv.id !== \"altair-viz-1396079dbdf94b8bb16eac0062636aa8\") {\n",
       "      outputDiv = document.getElementById(\"altair-viz-1396079dbdf94b8bb16eac0062636aa8\");\n",
       "    }\n",
       "    const paths = {\n",
       "      \"vega\": \"https://cdn.jsdelivr.net/npm//vega@5?noext\",\n",
       "      \"vega-lib\": \"https://cdn.jsdelivr.net/npm//vega-lib?noext\",\n",
       "      \"vega-lite\": \"https://cdn.jsdelivr.net/npm//vega-lite@4.17.0?noext\",\n",
       "      \"vega-embed\": \"https://cdn.jsdelivr.net/npm//vega-embed@6?noext\",\n",
       "    };\n",
       "\n",
       "    function maybeLoadScript(lib, version) {\n",
       "      var key = `${lib.replace(\"-\", \"\")}_version`;\n",
       "      return (VEGA_DEBUG[key] == version) ?\n",
       "        Promise.resolve(paths[lib]) :\n",
       "        new Promise(function(resolve, reject) {\n",
       "          var s = document.createElement('script');\n",
       "          document.getElementsByTagName(\"head\")[0].appendChild(s);\n",
       "          s.async = true;\n",
       "          s.onload = () => {\n",
       "            VEGA_DEBUG[key] = version;\n",
       "            return resolve(paths[lib]);\n",
       "          };\n",
       "          s.onerror = () => reject(`Error loading script: ${paths[lib]}`);\n",
       "          s.src = paths[lib];\n",
       "        });\n",
       "    }\n",
       "\n",
       "    function showError(err) {\n",
       "      outputDiv.innerHTML = `<div class=\"error\" style=\"color:red;\">${err}</div>`;\n",
       "      throw err;\n",
       "    }\n",
       "\n",
       "    function displayChart(vegaEmbed) {\n",
       "      vegaEmbed(outputDiv, spec, embedOpt)\n",
       "        .catch(err => showError(`Javascript Error: ${err.message}<br>This usually means there's a typo in your chart specification. See the javascript console for the full traceback.`));\n",
       "    }\n",
       "\n",
       "    if(typeof define === \"function\" && define.amd) {\n",
       "      requirejs.config({paths});\n",
       "      require([\"vega-embed\"], displayChart, err => showError(`Error loading script: ${err.message}`));\n",
       "    } else {\n",
       "      maybeLoadScript(\"vega\", \"5\")\n",
       "        .then(() => maybeLoadScript(\"vega-lite\", \"4.17.0\"))\n",
       "        .then(() => maybeLoadScript(\"vega-embed\", \"6\"))\n",
       "        .catch(showError)\n",
       "        .then(() => displayChart(vegaEmbed));\n",
       "    }\n",
       "  })({\"config\": {\"view\": {\"continuousWidth\": 400, \"continuousHeight\": 300}, \"axis\": {\"domainColor\": \"#cbcbcb\", \"grid\": true, \"gridColor\": \"#cbcbcb\", \"gridWidth\": 1, \"labelColor\": \"#474747\", \"labelFont\": \"Nunito Sans\", \"labelFontSize\": 10, \"labelPadding\": 4, \"tickColor\": \"#cbcbcb\", \"tickSize\": 10, \"titleColor\": \"#333\", \"titleFont\": \"Raleway\", \"titleFontSize\": 12, \"titlePadding\": 10}, \"axisBand\": {\"grid\": false}, \"background\": \"white\", \"font\": \"Raleway\", \"header\": {\"labelFont\": \"Nunito Sans\", \"titleFont\": \"Raleway\"}, \"legend\": {\"labelColor\": \"#333\", \"labelFont\": \"Nunito Sans\", \"labelFontSize\": 11, \"labelLimit\": 0, \"padding\": 1, \"symbolSize\": 30, \"symbolType\": \"square\", \"titleColor\": \"#333\", \"titleFont\": \"Raleway\", \"titleFontSize\": 14, \"titlePadding\": 10}, \"title\": {\"anchor\": \"middle\", \"font\": \"Raleway\", \"fontSize\": 18, \"fontWeight\": 300, \"offset\": 20}}, \"data\": {\"name\": \"data-b07b1b365bb6479bd30d3f85f62c8618\"}, \"mark\": \"bar\", \"encoding\": {\"color\": {\"field\": \"count\", \"legend\": {\"title\": \"Count\"}, \"scale\": {\"range\": [\"#B9D6DF\", \"#8CBCCB\", \"#2EA8CE\", \"#136C97\", \"#0B405B\"]}, \"type\": \"quantitative\"}, \"x\": {\"field\": \"value\", \"sort\": \"-y\", \"title\": \"Value\", \"type\": \"nominal\"}, \"y\": {\"field\": \"count\", \"title\": \"Count\", \"type\": \"quantitative\"}}, \"height\": 250, \"title\": \"Primary Agency name\", \"width\": 400, \"$schema\": \"https://vega.github.io/schema/vega-lite/v4.17.0.json\", \"datasets\": {\"data-b07b1b365bb6479bd30d3f85f62c8618\": [{\"value\": \"Los Angeles\", \"count\": 490, \"variable\": \"primary_agency_name\"}, {\"value\": \"Los Angeles County\", \"count\": 451, \"variable\": \"primary_agency_name\"}, {\"value\": \"Ventura County\", \"count\": 115, \"variable\": \"primary_agency_name\"}, {\"value\": \"Los Angeles County Metropolitan Transportation Authority\", \"count\": 85, \"variable\": \"primary_agency_name\"}, {\"value\": \"Santa Clarita\", \"count\": 85, \"variable\": \"primary_agency_name\"}, {\"value\": \"Long Beach\", \"count\": 81, \"variable\": \"primary_agency_name\"}, {\"value\": \"Oxnard\", \"count\": 74, \"variable\": \"primary_agency_name\"}, {\"value\": \"Pasadena\", \"count\": 71, \"variable\": \"primary_agency_name\"}, {\"value\": \"Downey\", \"count\": 63, \"variable\": \"primary_agency_name\"}, {\"value\": \"Simi Valley\", \"count\": 61, \"variable\": \"primary_agency_name\"}, {\"value\": \"Lancaster\", \"count\": 57, \"variable\": \"primary_agency_name\"}, {\"value\": \"Palmdale\", \"count\": 46, \"variable\": \"primary_agency_name\"}, {\"value\": \"Pico Rivera\", \"count\": 40, \"variable\": \"primary_agency_name\"}, {\"value\": \"Thousand Oaks\", \"count\": 39, \"variable\": \"primary_agency_name\"}, {\"value\": \"San Buenaventura\", \"count\": 35, \"variable\": \"primary_agency_name\"}, {\"value\": \"Camarillo\", \"count\": 33, \"variable\": \"primary_agency_name\"}, {\"value\": \"Culver City\", \"count\": 32, \"variable\": \"primary_agency_name\"}, {\"value\": \"Burbank\", \"count\": 30, \"variable\": \"primary_agency_name\"}, {\"value\": \"Glendale\", \"count\": 30, \"variable\": \"primary_agency_name\"}, {\"value\": \"Ventura County Transportation Commission\", \"count\": 29, \"variable\": \"primary_agency_name\"}]}}, {\"mode\": \"vega-lite\"});\n",
       "</script>"
      ],
      "text/plain": [
       "alt.Chart(...)"
      ]
     },
     "execution_count": 11,
     "metadata": {},
     "output_type": "execute_result"
    }
   ],
   "source": [
    "#df = (df>>filter(_.dist==subset))\n",
    "df_top = _dla_utils.find_top(df)\n",
    "\n",
    "basic_bar_chart_test((df_top>>filter(_.variable=='primary_agency_name')), 'value', 'count', 'count', subset, chart_title='Primary Agency name')"
   ]
  },
  {
   "cell_type": "code",
   "execution_count": 12,
   "id": "05992e7b-a9cf-44ca-9707-f13d3c212165",
   "metadata": {},
   "outputs": [],
   "source": [
    "df_top = _dla_utils.find_top(df)"
   ]
  },
  {
   "cell_type": "code",
   "execution_count": 13,
   "id": "dd7315da-e137-4673-8b5f-48c283163ae6",
   "metadata": {},
   "outputs": [
    {
     "data": {
      "text/html": [
       "<div>\n",
       "<style scoped>\n",
       "    .dataframe tbody tr th:only-of-type {\n",
       "        vertical-align: middle;\n",
       "    }\n",
       "\n",
       "    .dataframe tbody tr th {\n",
       "        vertical-align: top;\n",
       "    }\n",
       "\n",
       "    .dataframe thead th {\n",
       "        text-align: right;\n",
       "    }\n",
       "</style>\n",
       "<table border=\"1\" class=\"dataframe\">\n",
       "  <thead>\n",
       "    <tr style=\"text-align: right;\">\n",
       "      <th></th>\n",
       "      <th>value</th>\n",
       "      <th>count</th>\n",
       "      <th>variable</th>\n",
       "    </tr>\n",
       "  </thead>\n",
       "  <tbody>\n",
       "    <tr>\n",
       "      <th>0</th>\n",
       "      <td>HSIPL</td>\n",
       "      <td>705</td>\n",
       "      <td>prefix</td>\n",
       "    </tr>\n",
       "    <tr>\n",
       "      <th>1</th>\n",
       "      <td>STPL</td>\n",
       "      <td>441</td>\n",
       "      <td>prefix</td>\n",
       "    </tr>\n",
       "    <tr>\n",
       "      <th>2</th>\n",
       "      <td>CML</td>\n",
       "      <td>275</td>\n",
       "      <td>prefix</td>\n",
       "    </tr>\n",
       "    <tr>\n",
       "      <th>3</th>\n",
       "      <td>ER</td>\n",
       "      <td>175</td>\n",
       "      <td>prefix</td>\n",
       "    </tr>\n",
       "    <tr>\n",
       "      <th>4</th>\n",
       "      <td>HPLUL</td>\n",
       "      <td>143</td>\n",
       "      <td>prefix</td>\n",
       "    </tr>\n",
       "    <tr>\n",
       "      <th>5</th>\n",
       "      <td>ATPL</td>\n",
       "      <td>135</td>\n",
       "      <td>prefix</td>\n",
       "    </tr>\n",
       "    <tr>\n",
       "      <th>6</th>\n",
       "      <td>BHLS</td>\n",
       "      <td>101</td>\n",
       "      <td>prefix</td>\n",
       "    </tr>\n",
       "    <tr>\n",
       "      <th>7</th>\n",
       "      <td>FTACML</td>\n",
       "      <td>94</td>\n",
       "      <td>prefix</td>\n",
       "    </tr>\n",
       "    <tr>\n",
       "      <th>8</th>\n",
       "      <td>SRTSL</td>\n",
       "      <td>72</td>\n",
       "      <td>prefix</td>\n",
       "    </tr>\n",
       "    <tr>\n",
       "      <th>9</th>\n",
       "      <td>RPSTPL</td>\n",
       "      <td>63</td>\n",
       "      <td>prefix</td>\n",
       "    </tr>\n",
       "    <tr>\n",
       "      <th>10</th>\n",
       "      <td>BRLSZD</td>\n",
       "      <td>45</td>\n",
       "      <td>prefix</td>\n",
       "    </tr>\n",
       "    <tr>\n",
       "      <th>11</th>\n",
       "      <td>BPMPL</td>\n",
       "      <td>43</td>\n",
       "      <td>prefix</td>\n",
       "    </tr>\n",
       "    <tr>\n",
       "      <th>12</th>\n",
       "      <td>ACSTP</td>\n",
       "      <td>37</td>\n",
       "      <td>prefix</td>\n",
       "    </tr>\n",
       "    <tr>\n",
       "      <th>13</th>\n",
       "      <td>BRLS</td>\n",
       "      <td>36</td>\n",
       "      <td>prefix</td>\n",
       "    </tr>\n",
       "    <tr>\n",
       "      <th>14</th>\n",
       "      <td>HP21L</td>\n",
       "      <td>33</td>\n",
       "      <td>prefix</td>\n",
       "    </tr>\n",
       "    <tr>\n",
       "      <th>15</th>\n",
       "      <td>BHLO</td>\n",
       "      <td>20</td>\n",
       "      <td>prefix</td>\n",
       "    </tr>\n",
       "    <tr>\n",
       "      <th>16</th>\n",
       "      <td>SRTSLNI</td>\n",
       "      <td>20</td>\n",
       "      <td>prefix</td>\n",
       "    </tr>\n",
       "    <tr>\n",
       "      <th>17</th>\n",
       "      <td>ESPL</td>\n",
       "      <td>19</td>\n",
       "      <td>prefix</td>\n",
       "    </tr>\n",
       "    <tr>\n",
       "      <th>18</th>\n",
       "      <td>BRLO</td>\n",
       "      <td>18</td>\n",
       "      <td>prefix</td>\n",
       "    </tr>\n",
       "    <tr>\n",
       "      <th>19</th>\n",
       "      <td>FTASTPL</td>\n",
       "      <td>17</td>\n",
       "      <td>prefix</td>\n",
       "    </tr>\n",
       "  </tbody>\n",
       "</table>\n",
       "</div>"
      ],
      "text/plain": [
       "      value  count variable\n",
       "0     HSIPL    705   prefix\n",
       "1      STPL    441   prefix\n",
       "2       CML    275   prefix\n",
       "3        ER    175   prefix\n",
       "4     HPLUL    143   prefix\n",
       "5      ATPL    135   prefix\n",
       "6      BHLS    101   prefix\n",
       "7    FTACML     94   prefix\n",
       "8     SRTSL     72   prefix\n",
       "9    RPSTPL     63   prefix\n",
       "10   BRLSZD     45   prefix\n",
       "11    BPMPL     43   prefix\n",
       "12    ACSTP     37   prefix\n",
       "13     BRLS     36   prefix\n",
       "14    HP21L     33   prefix\n",
       "15     BHLO     20   prefix\n",
       "16  SRTSLNI     20   prefix\n",
       "17     ESPL     19   prefix\n",
       "18     BRLO     18   prefix\n",
       "19  FTASTPL     17   prefix"
      ]
     },
     "execution_count": 13,
     "metadata": {},
     "output_type": "execute_result"
    }
   ],
   "source": [
    "df_top>>filter(_.variable=='prefix')\n"
   ]
  },
  {
   "cell_type": "markdown",
   "id": "5d768d2a-10a9-456c-bd69-83cb01ef818d",
   "metadata": {},
   "source": [
    "## Transit Agencies"
   ]
  },
  {
   "cell_type": "code",
   "execution_count": 14,
   "id": "635d4e5d-c73e-42b3-ab97-5f710d96b3fa",
   "metadata": {},
   "outputs": [],
   "source": [
    "from calitp.tables import tbl\n",
    "from siuba import *\n"
   ]
  },
  {
   "cell_type": "code",
   "execution_count": 15,
   "id": "f9a65e41-91d5-49a2-9cb6-c40760f91c75",
   "metadata": {},
   "outputs": [
    {
     "name": "stderr",
     "output_type": "stream",
     "text": [
      "/opt/conda/lib/python3.9/site-packages/siuba/sql/utils.py:52: SAWarning: Dialect bigquery:bigquery will not make use of SQL compilation caching as it does not set the 'supports_statement_cache' attribute to ``True``.  This can have significant performance implications including some performance degradations in comparison to prior SQLAlchemy versions.  Dialect maintainers should seek to set this attribute to True after appropriate development and testing for SQLAlchemy 1.4 caching support.   Alternatively, this attribute may be set to False which will disable this warning. (Background on this error at: https://sqlalche.me/e/14/cprf)\n"
     ]
    }
   ],
   "source": [
    "ta = (tbl.views.transitstacks())>>select(_.itp_id, _.transit_provider) >> collect()\n",
    "#ta = ta.rename({'transit_provider': 'primary_agency_name'}, axis=1)"
   ]
  },
  {
   "cell_type": "code",
   "execution_count": 16,
   "id": "f3f3c1dd-99cf-4db5-b5df-36b75e7c9aec",
   "metadata": {},
   "outputs": [],
   "source": [
    "test = df.merge(ta, left_on='primary_agency_name', right_on='transit_provider', how='left')\n",
    "#test"
   ]
  },
  {
   "cell_type": "code",
   "execution_count": 17,
   "id": "31a4b10c-f109-41d7-a921-91af51040b11",
   "metadata": {},
   "outputs": [
    {
     "data": {
      "text/html": [
       "<div>\n",
       "<style scoped>\n",
       "    .dataframe tbody tr th:only-of-type {\n",
       "        vertical-align: middle;\n",
       "    }\n",
       "\n",
       "    .dataframe tbody tr th {\n",
       "        vertical-align: top;\n",
       "    }\n",
       "\n",
       "    .dataframe thead th {\n",
       "        text-align: right;\n",
       "    }\n",
       "</style>\n",
       "<table border=\"1\" class=\"dataframe\">\n",
       "  <thead>\n",
       "    <tr style=\"text-align: right;\">\n",
       "      <th></th>\n",
       "      <th>primary_agency_name</th>\n",
       "      <th>n</th>\n",
       "    </tr>\n",
       "  </thead>\n",
       "  <tbody>\n",
       "    <tr>\n",
       "      <th>0</th>\n",
       "      <td>Antelope Valley Transit Authority</td>\n",
       "      <td>1</td>\n",
       "    </tr>\n",
       "    <tr>\n",
       "      <th>1</th>\n",
       "      <td>Bell Gardens</td>\n",
       "      <td>25</td>\n",
       "    </tr>\n",
       "    <tr>\n",
       "      <th>2</th>\n",
       "      <td>Inglewood</td>\n",
       "      <td>23</td>\n",
       "    </tr>\n",
       "    <tr>\n",
       "      <th>3</th>\n",
       "      <td>Ventura County Transportation Commission</td>\n",
       "      <td>29</td>\n",
       "    </tr>\n",
       "  </tbody>\n",
       "</table>\n",
       "</div>"
      ],
      "text/plain": [
       "                        primary_agency_name   n\n",
       "0         Antelope Valley Transit Authority   1\n",
       "1                              Bell Gardens  25\n",
       "2                                 Inglewood  23\n",
       "3  Ventura County Transportation Commission  29"
      ]
     },
     "execution_count": 17,
     "metadata": {},
     "output_type": "execute_result"
    }
   ],
   "source": [
    "test>>filter(_.transit_provider.notnull())>>count(_.primary_agency_name)"
   ]
  },
  {
   "cell_type": "code",
   "execution_count": 18,
   "id": "1d770fb9-e690-4d2f-9eda-99fffc6124f8",
   "metadata": {},
   "outputs": [],
   "source": [
    "transit_agencies = df[df['primary_agency_name'].str.contains(\n",
    "              'Transit|tranist|Rail',\n",
    "              case=False, na=False)]"
   ]
  },
  {
   "cell_type": "code",
   "execution_count": 19,
   "id": "0f01e1b3-73bf-4818-9475-fada14aa8e33",
   "metadata": {},
   "outputs": [
    {
     "data": {
      "text/html": [
       "<div>\n",
       "<style scoped>\n",
       "    .dataframe tbody tr th:only-of-type {\n",
       "        vertical-align: middle;\n",
       "    }\n",
       "\n",
       "    .dataframe tbody tr th {\n",
       "        vertical-align: top;\n",
       "    }\n",
       "\n",
       "    .dataframe thead th {\n",
       "        text-align: right;\n",
       "    }\n",
       "</style>\n",
       "<table border=\"1\" class=\"dataframe\">\n",
       "  <thead>\n",
       "    <tr style=\"text-align: right;\">\n",
       "      <th></th>\n",
       "      <th>primary_agency_name</th>\n",
       "      <th>n</th>\n",
       "    </tr>\n",
       "  </thead>\n",
       "  <tbody>\n",
       "    <tr>\n",
       "      <th>0</th>\n",
       "      <td>Antelope Valley Transit Authority</td>\n",
       "      <td>1</td>\n",
       "    </tr>\n",
       "    <tr>\n",
       "      <th>1</th>\n",
       "      <td>South Coast Area Transit</td>\n",
       "      <td>7</td>\n",
       "    </tr>\n",
       "    <tr>\n",
       "      <th>2</th>\n",
       "      <td>Southern California Regional Rail Authority</td>\n",
       "      <td>3</td>\n",
       "    </tr>\n",
       "    <tr>\n",
       "      <th>3</th>\n",
       "      <td>Sunline Transit Agency</td>\n",
       "      <td>7</td>\n",
       "    </tr>\n",
       "  </tbody>\n",
       "</table>\n",
       "</div>"
      ],
      "text/plain": [
       "                           primary_agency_name  n\n",
       "0            Antelope Valley Transit Authority  1\n",
       "1                     South Coast Area Transit  7\n",
       "2  Southern California Regional Rail Authority  3\n",
       "3                       Sunline Transit Agency  7"
      ]
     },
     "execution_count": 19,
     "metadata": {},
     "output_type": "execute_result"
    }
   ],
   "source": [
    "transit_agencies>>count(_.primary_agency_name)"
   ]
  },
  {
   "cell_type": "code",
   "execution_count": 29,
   "id": "5ce4da95-08f8-41a8-b6a5-572d16c89a10",
   "metadata": {},
   "outputs": [
    {
     "data": {
      "text/plain": [
       "'Obligations_by_Year'"
      ]
     },
     "execution_count": 29,
     "metadata": {},
     "output_type": "execute_result"
    }
   ],
   "source": [
    "#Add to chart function\n",
    "chart_title='Obligations by Year'\n",
    "chart_title.replace(\" \", \"_\")"
   ]
  },
  {
   "cell_type": "code",
   "execution_count": null,
   "id": "0f43afe9-4e36-4bab-bac1-4ad2e8363c6d",
   "metadata": {},
   "outputs": [],
   "source": []
  },
  {
   "cell_type": "code",
   "execution_count": null,
   "id": "fa287ae8-c82e-457f-820c-03ff6f2ed138",
   "metadata": {},
   "outputs": [],
   "source": []
  },
  {
   "cell_type": "markdown",
   "id": "fe65f4d0-3015-49cc-abbd-22eb87b417ab",
   "metadata": {},
   "source": [
    "## Charts"
   ]
  },
  {
   "cell_type": "code",
   "execution_count": 30,
   "id": "1d1dfdca-bb15-49d7-9b0f-67bc3723b8cc",
   "metadata": {},
   "outputs": [],
   "source": [
    "def make_charts(df):     \n",
    "    df= pd.read_parquet(\"dla_df.parquet\")\n",
    "    \n",
    "    df = (df>>filter(_.dist==subset))\n",
    "    \n",
    "    #subsetting the data\n",
    "    df_years = _dla_utils.count_all_years(df)\n",
    "    df_top = _dla_utils.find_top(df)\n",
    "    \n",
    "    transit = df[df['type_of_work'].str.contains(\n",
    "              'Transit|tranist|bus|Bus|Rideshare',\n",
    "              case=False, na=False)]\n",
    "    \n",
    "    transit_agencies = df[df['primary_agency_name'].str.contains(\n",
    "              'Transit|tranist|Rail',\n",
    "              case=False, na=False)]\n",
    "    \n",
    "    \n",
    "    ##print statements\n",
    "    display(Markdown(f\"# **District {subset} Analysis**\"))\n",
    "    \n",
    "    \n",
    "    \n",
    "    display(Markdown(f\"**Unique Agencies Funding**\"))\n",
    "    display(Markdown(f'There are {(df.primary_agency_name.nunique())} Unique Agencies'))\n",
    "    \n",
    "    \n",
    "    display(Markdown(f\"**Transit Funding**\"))\n",
    "    display(Markdown(f\"Out of {len(df)} obligations, {len(transit)} are transit related\"))\n",
    "    \n",
    "    display(Markdown(f\"**Transit Agencies**\"))\n",
    "    display(Markdown(f'There are {(len(transit_agencies>>count(_.primary_agency_name)))} Transit Agencies'))\n",
    "    \n",
    "    \n",
    "    ##tables\n",
    "    \n",
    "    display(Markdown(f\"**Number of Unique Prefix Codes by Agency**\"))\n",
    "    display((_dla_utils.get_nunique(df, 'prefix', 'primary_agency_name')).head(5))\n",
    "    \n",
    "    display(Markdown(f\"**Number of Unique Agencies by Prefix Codes**\"))\n",
    "    display((_dla_utils.get_nunique(df, 'primary_agency_name', 'prefix')).head(5))\n",
    "    \n",
    "    display(Markdown(f\"**Top 5 Types of Work**\"))\n",
    "    display((transit>>count(_.type_of_work)>>arrange(-_.n)>>select(_.type_of_work)).head(5))\n",
    "    \n",
    "    \n",
    "#     ###charting df_years\n",
    "    \n",
    "#     column_names = list(df_years)\n",
    "\n",
    "#     for column in column_names:\n",
    "    \n",
    "#         display(Markdown(f\"**{labeling(column)} Over Prepared Year**\"))\n",
    "#         display(basic_bar_chart_test(df_years, \"prepared_y\", column, \"prepared_y\", subset))\n",
    "    \n",
    "    \n",
    "#     ###charting df_tops \n",
    "    \n",
    "#     values = sorted(df_top['variable'].unique())\n",
    "\n",
    "#     for value in values:\n",
    "#         display(Markdown(f\"**Top Values in {labeling(value)}**\"))\n",
    "#         display(basic_bar_chart_test((df_top>>filter(_.variable==value)), 'value', 'count', 'count', subset,\n",
    "#                                     chart_title=f'Top 20 {labeling(value)}'))\n",
    "        \n",
    "        \n",
    "       \n",
    "   #Other Charting\n",
    "    \n",
    "    #Line chart for Obligations by Year\n",
    "    chart1= (basic_line_chart_test((df_top>>filter(_.variable=='prepared_y')), 'value', 'count', subset, 'Obligations by Year'))\n",
    "    display(chart1)\n",
    "    \n",
    "    \n",
    "    #Bar chart Agencies With The Most Obligations\n",
    "    chart2= (basic_bar_chart_test((df_top>>filter(_.variable=='primary_agency_name')), 'value', 'count', 'value', subset, 'Agencies With The Most Obligations'))\n",
    "    display(chart2)\n",
    "    \n",
    "    \n",
    "    #Bar chart Agencies With The Most Unique Prefix Codes\n",
    "    chart3 = (basic_bar_chart_test(((_dla_utils.get_nunique(df, 'prefix', 'primary_agency_name')).head(30)),\n",
    "                            'primary_agency_name', 'n', 'primary_agency_name', subset, 'Agencies With The Most Unique Prefix Codes'))\n",
    "    display(chart3)\n",
    "    \n",
    "    \n",
    "    #Bar chart Average Total Requested Funds by Agency\n",
    "    chart4=(basic_bar_chart_test((((_dla_utils.calculate_data_all(df, 'total_requested', 'primary_agency_name', aggfunc=\"mean\"))\n",
    "                          >>arrange(-_.total_requested)).head(30)\n",
    "                        ), 'primary_agency_name','total_requested', 'primary_agency_name', subset,\n",
    "                           'Average Total Requested Funds by Agency'\n",
    "                       ))\n",
    "    display(chart4)\n",
    "    \n",
    "    \n",
    "    #Bar chart Bottom Average Total Requested Funds by Agency\n",
    "    avg_funds_bottom = (df>>group_by(_.primary_agency_name)>>summarize(avg_funds=_.total_requested.mean())>>arrange(-_.avg_funds)).tail(50)\n",
    "\n",
    "    chart5=( basic_bar_chart_test((avg_funds_bottom.tail(40)), 'primary_agency_name','avg_funds', 'primary_agency_name', subset, \n",
    "                          'Lowest Average Total Funds by Agency'))\n",
    "    display(chart5)\n",
    "   \n",
    "\n",
    "    \n",
    "    #Bar chart Average Total Requested Funds by Agency: Transit Related Funding\n",
    "    chart6 = (basic_bar_chart_test((((_dla_utils.calculate_data_all(transit, 'total_requested', 'primary_agency_name', aggfunc=\"mean\"))\n",
    "                          >>arrange(-_.total_requested)).head(30)\n",
    "                        ), 'primary_agency_name','total_requested', 'primary_agency_name', subset,\n",
    "                           'Average Total Requested Funds by Agency: Transit Related Funding'\n",
    "                       ))\n",
    "    display(chart6)\n",
    "    \n",
    "    #Bar chart Transit Agencies Average Funding\n",
    "    chart7 = ( basic_bar_chart_test((_dla_utils.calculate_data_all(transit_agencies, 'total_requested', aggregate_by='primary_agency_name', aggfunc=\"mean\")),\n",
    "                           'primary_agency_name', 'total_requested', 'primary_agency_name', subset,\n",
    "                           'Transit Agencies Average Funding'))\n",
    "    display(chart7)\n",
    "    \n",
    "    # Bar chart Average Total Requested Funds by Prefix\n",
    "    chart8 = (basic_bar_chart_test((((_dla_utils.calculate_data_all(df, 'total_requested', 'prefix', aggfunc=\"mean\"))\n",
    "                          >>arrange(-_.total_requested)).head(30)\n",
    "                        ), 'prefix','total_requested', 'prefix', subset,\n",
    "                           'Average Total Requested Funds by Prefix'\n",
    "                       ))\n",
    "    display(chart8)\n",
    "    "
   ]
  },
  {
   "cell_type": "code",
   "execution_count": 33,
   "id": "1ed31f63-ec22-4f02-b37d-0f6cf6cdb23d",
   "metadata": {
    "tags": [
     "parameter"
    ]
   },
   "outputs": [],
   "source": [
    "#parameters cell\n",
    "subset = 7"
   ]
  },
  {
   "cell_type": "code",
   "execution_count": 34,
   "id": "bf957840-296b-4ebf-99c8-8bc8ebae269a",
   "metadata": {
    "scrolled": true,
    "tags": []
   },
   "outputs": [
    {
     "data": {
      "text/markdown": [
       "# **District 7 Analysis**"
      ],
      "text/plain": [
       "<IPython.core.display.Markdown object>"
      ]
     },
     "metadata": {},
     "output_type": "display_data"
    },
    {
     "data": {
      "text/markdown": [
       "**Unique Agencies Funding**"
      ],
      "text/plain": [
       "<IPython.core.display.Markdown object>"
      ]
     },
     "metadata": {},
     "output_type": "display_data"
    },
    {
     "data": {
      "text/markdown": [
       "There are 108 Unique Agencies"
      ],
      "text/plain": [
       "<IPython.core.display.Markdown object>"
      ]
     },
     "metadata": {},
     "output_type": "display_data"
    },
    {
     "data": {
      "text/markdown": [
       "**Transit Funding**"
      ],
      "text/plain": [
       "<IPython.core.display.Markdown object>"
      ]
     },
     "metadata": {},
     "output_type": "display_data"
    },
    {
     "data": {
      "text/markdown": [
       "Out of 2787 obligations, 68 are transit related"
      ],
      "text/plain": [
       "<IPython.core.display.Markdown object>"
      ]
     },
     "metadata": {},
     "output_type": "display_data"
    },
    {
     "data": {
      "text/markdown": [
       "**Transit Agencies**"
      ],
      "text/plain": [
       "<IPython.core.display.Markdown object>"
      ]
     },
     "metadata": {},
     "output_type": "display_data"
    },
    {
     "data": {
      "text/markdown": [
       "There are 4 Transit Agencies"
      ],
      "text/plain": [
       "<IPython.core.display.Markdown object>"
      ]
     },
     "metadata": {},
     "output_type": "display_data"
    },
    {
     "data": {
      "text/markdown": [
       "**Number of Unique Prefix Codes by Agency**"
      ],
      "text/plain": [
       "<IPython.core.display.Markdown object>"
      ]
     },
     "metadata": {},
     "output_type": "display_data"
    },
    {
     "data": {
      "text/html": [
       "<div>\n",
       "<style scoped>\n",
       "    .dataframe tbody tr th:only-of-type {\n",
       "        vertical-align: middle;\n",
       "    }\n",
       "\n",
       "    .dataframe tbody tr th {\n",
       "        vertical-align: top;\n",
       "    }\n",
       "\n",
       "    .dataframe thead th {\n",
       "        text-align: right;\n",
       "    }\n",
       "</style>\n",
       "<table border=\"1\" class=\"dataframe\">\n",
       "  <thead>\n",
       "    <tr style=\"text-align: right;\">\n",
       "      <th></th>\n",
       "      <th>primary_agency_name</th>\n",
       "      <th>n</th>\n",
       "    </tr>\n",
       "  </thead>\n",
       "  <tbody>\n",
       "    <tr>\n",
       "      <th>49</th>\n",
       "      <td>Los Angeles</td>\n",
       "      <td>34</td>\n",
       "    </tr>\n",
       "    <tr>\n",
       "      <th>50</th>\n",
       "      <td>Los Angeles County</td>\n",
       "      <td>31</td>\n",
       "    </tr>\n",
       "    <tr>\n",
       "      <th>47</th>\n",
       "      <td>Long Beach</td>\n",
       "      <td>18</td>\n",
       "    </tr>\n",
       "    <tr>\n",
       "      <th>51</th>\n",
       "      <td>Los Angeles County Metropolitan Transportation...</td>\n",
       "      <td>18</td>\n",
       "    </tr>\n",
       "    <tr>\n",
       "      <th>63</th>\n",
       "      <td>Oxnard</td>\n",
       "      <td>14</td>\n",
       "    </tr>\n",
       "  </tbody>\n",
       "</table>\n",
       "</div>"
      ],
      "text/plain": [
       "                                  primary_agency_name   n\n",
       "49                                        Los Angeles  34\n",
       "50                                 Los Angeles County  31\n",
       "47                                         Long Beach  18\n",
       "51  Los Angeles County Metropolitan Transportation...  18\n",
       "63                                             Oxnard  14"
      ]
     },
     "metadata": {},
     "output_type": "display_data"
    },
    {
     "data": {
      "text/markdown": [
       "**Number of Unique Agencies by Prefix Codes**"
      ],
      "text/plain": [
       "<IPython.core.display.Markdown object>"
      ]
     },
     "metadata": {},
     "output_type": "display_data"
    },
    {
     "data": {
      "text/html": [
       "<div>\n",
       "<style scoped>\n",
       "    .dataframe tbody tr th:only-of-type {\n",
       "        vertical-align: middle;\n",
       "    }\n",
       "\n",
       "    .dataframe tbody tr th {\n",
       "        vertical-align: top;\n",
       "    }\n",
       "\n",
       "    .dataframe thead th {\n",
       "        text-align: right;\n",
       "    }\n",
       "</style>\n",
       "<table border=\"1\" class=\"dataframe\">\n",
       "  <thead>\n",
       "    <tr style=\"text-align: right;\">\n",
       "      <th></th>\n",
       "      <th>prefix</th>\n",
       "      <th>n</th>\n",
       "    </tr>\n",
       "  </thead>\n",
       "  <tbody>\n",
       "    <tr>\n",
       "      <th>65</th>\n",
       "      <td>HSIPL</td>\n",
       "      <td>60</td>\n",
       "    </tr>\n",
       "    <tr>\n",
       "      <th>87</th>\n",
       "      <td>STPL</td>\n",
       "      <td>59</td>\n",
       "    </tr>\n",
       "    <tr>\n",
       "      <th>60</th>\n",
       "      <td>HPLUL</td>\n",
       "      <td>34</td>\n",
       "    </tr>\n",
       "    <tr>\n",
       "      <th>22</th>\n",
       "      <td>CML</td>\n",
       "      <td>27</td>\n",
       "    </tr>\n",
       "    <tr>\n",
       "      <th>81</th>\n",
       "      <td>SRTSL</td>\n",
       "      <td>27</td>\n",
       "    </tr>\n",
       "  </tbody>\n",
       "</table>\n",
       "</div>"
      ],
      "text/plain": [
       "   prefix   n\n",
       "65  HSIPL  60\n",
       "87   STPL  59\n",
       "60  HPLUL  34\n",
       "22    CML  27\n",
       "81  SRTSL  27"
      ]
     },
     "metadata": {},
     "output_type": "display_data"
    },
    {
     "data": {
      "text/markdown": [
       "**Top 5 Types of Work**"
      ],
      "text/plain": [
       "<IPython.core.display.Markdown object>"
      ]
     },
     "metadata": {},
     "output_type": "display_data"
    },
    {
     "data": {
      "text/html": [
       "<div>\n",
       "<style scoped>\n",
       "    .dataframe tbody tr th:only-of-type {\n",
       "        vertical-align: middle;\n",
       "    }\n",
       "\n",
       "    .dataframe tbody tr th {\n",
       "        vertical-align: top;\n",
       "    }\n",
       "\n",
       "    .dataframe thead th {\n",
       "        text-align: right;\n",
       "    }\n",
       "</style>\n",
       "<table border=\"1\" class=\"dataframe\">\n",
       "  <thead>\n",
       "    <tr style=\"text-align: right;\">\n",
       "      <th></th>\n",
       "      <th>type_of_work</th>\n",
       "    </tr>\n",
       "  </thead>\n",
       "  <tbody>\n",
       "    <tr>\n",
       "      <th>9</th>\n",
       "      <td>Construct Improvement To The Wells Center Bus ...</td>\n",
       "    </tr>\n",
       "    <tr>\n",
       "      <th>13</th>\n",
       "      <td>Create A Multi-modal Transit Plaza To Integrat...</td>\n",
       "    </tr>\n",
       "    <tr>\n",
       "      <th>17</th>\n",
       "      <td>Install Bus Shelters At Existing Bus Stops</td>\n",
       "    </tr>\n",
       "    <tr>\n",
       "      <th>18</th>\n",
       "      <td>Install Ped-scale Street Lights,trees,bus Benc...</td>\n",
       "    </tr>\n",
       "    <tr>\n",
       "      <th>1</th>\n",
       "      <td>: Transit/pedestrian Linkages,ped Improv,etc(tc)</td>\n",
       "    </tr>\n",
       "  </tbody>\n",
       "</table>\n",
       "</div>"
      ],
      "text/plain": [
       "                                         type_of_work\n",
       "9   Construct Improvement To The Wells Center Bus ...\n",
       "13  Create A Multi-modal Transit Plaza To Integrat...\n",
       "17         Install Bus Shelters At Existing Bus Stops\n",
       "18  Install Ped-scale Street Lights,trees,bus Benc...\n",
       "1    : Transit/pedestrian Linkages,ped Improv,etc(tc)"
      ]
     },
     "metadata": {},
     "output_type": "display_data"
    },
    {
     "data": {
      "text/html": [
       "\n",
       "<div id=\"altair-viz-046d845e01ef4e50b3491fd2c2997955\"></div>\n",
       "<script type=\"text/javascript\">\n",
       "  var VEGA_DEBUG = (typeof VEGA_DEBUG == \"undefined\") ? {} : VEGA_DEBUG;\n",
       "  (function(spec, embedOpt){\n",
       "    let outputDiv = document.currentScript.previousElementSibling;\n",
       "    if (outputDiv.id !== \"altair-viz-046d845e01ef4e50b3491fd2c2997955\") {\n",
       "      outputDiv = document.getElementById(\"altair-viz-046d845e01ef4e50b3491fd2c2997955\");\n",
       "    }\n",
       "    const paths = {\n",
       "      \"vega\": \"https://cdn.jsdelivr.net/npm//vega@5?noext\",\n",
       "      \"vega-lib\": \"https://cdn.jsdelivr.net/npm//vega-lib?noext\",\n",
       "      \"vega-lite\": \"https://cdn.jsdelivr.net/npm//vega-lite@4.17.0?noext\",\n",
       "      \"vega-embed\": \"https://cdn.jsdelivr.net/npm//vega-embed@6?noext\",\n",
       "    };\n",
       "\n",
       "    function maybeLoadScript(lib, version) {\n",
       "      var key = `${lib.replace(\"-\", \"\")}_version`;\n",
       "      return (VEGA_DEBUG[key] == version) ?\n",
       "        Promise.resolve(paths[lib]) :\n",
       "        new Promise(function(resolve, reject) {\n",
       "          var s = document.createElement('script');\n",
       "          document.getElementsByTagName(\"head\")[0].appendChild(s);\n",
       "          s.async = true;\n",
       "          s.onload = () => {\n",
       "            VEGA_DEBUG[key] = version;\n",
       "            return resolve(paths[lib]);\n",
       "          };\n",
       "          s.onerror = () => reject(`Error loading script: ${paths[lib]}`);\n",
       "          s.src = paths[lib];\n",
       "        });\n",
       "    }\n",
       "\n",
       "    function showError(err) {\n",
       "      outputDiv.innerHTML = `<div class=\"error\" style=\"color:red;\">${err}</div>`;\n",
       "      throw err;\n",
       "    }\n",
       "\n",
       "    function displayChart(vegaEmbed) {\n",
       "      vegaEmbed(outputDiv, spec, embedOpt)\n",
       "        .catch(err => showError(`Javascript Error: ${err.message}<br>This usually means there's a typo in your chart specification. See the javascript console for the full traceback.`));\n",
       "    }\n",
       "\n",
       "    if(typeof define === \"function\" && define.amd) {\n",
       "      requirejs.config({paths});\n",
       "      require([\"vega-embed\"], displayChart, err => showError(`Error loading script: ${err.message}`));\n",
       "    } else {\n",
       "      maybeLoadScript(\"vega\", \"5\")\n",
       "        .then(() => maybeLoadScript(\"vega-lite\", \"4.17.0\"))\n",
       "        .then(() => maybeLoadScript(\"vega-embed\", \"6\"))\n",
       "        .catch(showError)\n",
       "        .then(() => displayChart(vegaEmbed));\n",
       "    }\n",
       "  })({\"config\": {\"view\": {\"continuousWidth\": 400, \"continuousHeight\": 300}, \"axis\": {\"domainColor\": \"#cbcbcb\", \"grid\": true, \"gridColor\": \"#cbcbcb\", \"gridWidth\": 1, \"labelColor\": \"#474747\", \"labelFont\": \"Nunito Sans\", \"labelFontSize\": 10, \"labelPadding\": 4, \"tickColor\": \"#cbcbcb\", \"tickSize\": 10, \"titleColor\": \"#333\", \"titleFont\": \"Raleway\", \"titleFontSize\": 12, \"titlePadding\": 10}, \"axisBand\": {\"grid\": false}, \"background\": \"white\", \"font\": \"Raleway\", \"header\": {\"labelFont\": \"Nunito Sans\", \"titleFont\": \"Raleway\"}, \"legend\": {\"labelColor\": \"#333\", \"labelFont\": \"Nunito Sans\", \"labelFontSize\": 11, \"labelLimit\": 0, \"padding\": 1, \"symbolSize\": 30, \"symbolType\": \"square\", \"titleColor\": \"#333\", \"titleFont\": \"Raleway\", \"titleFontSize\": 14, \"titlePadding\": 10}, \"title\": {\"anchor\": \"middle\", \"font\": \"Raleway\", \"fontSize\": 18, \"fontWeight\": 300, \"offset\": 20}}, \"data\": {\"name\": \"data-dad6b1358cd0ba6d8dc1773ca26a8973\"}, \"mark\": \"line\", \"encoding\": {\"x\": {\"field\": \"value\", \"title\": \"Value\", \"type\": \"quantitative\"}, \"y\": {\"field\": \"count\", \"title\": \"Count\", \"type\": \"quantitative\"}}, \"height\": 250, \"title\": \"Obligations by Year\", \"width\": 400, \"$schema\": \"https://vega.github.io/schema/vega-lite/v4.17.0.json\", \"datasets\": {\"data-dad6b1358cd0ba6d8dc1773ca26a8973\": [{\"value\": 2014.0, \"count\": 430, \"variable\": \"prepared_y\"}, {\"value\": 2016.0, \"count\": 377, \"variable\": \"prepared_y\"}, {\"value\": 2015.0, \"count\": 370, \"variable\": \"prepared_y\"}, {\"value\": 2019.0, \"count\": 347, \"variable\": \"prepared_y\"}, {\"value\": 2018.0, \"count\": 336, \"variable\": \"prepared_y\"}, {\"value\": 2017.0, \"count\": 328, \"variable\": \"prepared_y\"}, {\"value\": 2020.0, \"count\": 320, \"variable\": \"prepared_y\"}, {\"value\": 2021.0, \"count\": 241, \"variable\": \"prepared_y\"}, {\"value\": 2013.0, \"count\": 32, \"variable\": \"prepared_y\"}, {\"value\": 2012.0, \"count\": 1, \"variable\": \"prepared_y\"}]}}, {\"mode\": \"vega-lite\"});\n",
       "</script>"
      ],
      "text/plain": [
       "alt.Chart(...)"
      ]
     },
     "metadata": {},
     "output_type": "display_data"
    },
    {
     "data": {
      "text/html": [
       "\n",
       "<div id=\"altair-viz-978e264e05df42288a37de627c3516ae\"></div>\n",
       "<script type=\"text/javascript\">\n",
       "  var VEGA_DEBUG = (typeof VEGA_DEBUG == \"undefined\") ? {} : VEGA_DEBUG;\n",
       "  (function(spec, embedOpt){\n",
       "    let outputDiv = document.currentScript.previousElementSibling;\n",
       "    if (outputDiv.id !== \"altair-viz-978e264e05df42288a37de627c3516ae\") {\n",
       "      outputDiv = document.getElementById(\"altair-viz-978e264e05df42288a37de627c3516ae\");\n",
       "    }\n",
       "    const paths = {\n",
       "      \"vega\": \"https://cdn.jsdelivr.net/npm//vega@5?noext\",\n",
       "      \"vega-lib\": \"https://cdn.jsdelivr.net/npm//vega-lib?noext\",\n",
       "      \"vega-lite\": \"https://cdn.jsdelivr.net/npm//vega-lite@4.17.0?noext\",\n",
       "      \"vega-embed\": \"https://cdn.jsdelivr.net/npm//vega-embed@6?noext\",\n",
       "    };\n",
       "\n",
       "    function maybeLoadScript(lib, version) {\n",
       "      var key = `${lib.replace(\"-\", \"\")}_version`;\n",
       "      return (VEGA_DEBUG[key] == version) ?\n",
       "        Promise.resolve(paths[lib]) :\n",
       "        new Promise(function(resolve, reject) {\n",
       "          var s = document.createElement('script');\n",
       "          document.getElementsByTagName(\"head\")[0].appendChild(s);\n",
       "          s.async = true;\n",
       "          s.onload = () => {\n",
       "            VEGA_DEBUG[key] = version;\n",
       "            return resolve(paths[lib]);\n",
       "          };\n",
       "          s.onerror = () => reject(`Error loading script: ${paths[lib]}`);\n",
       "          s.src = paths[lib];\n",
       "        });\n",
       "    }\n",
       "\n",
       "    function showError(err) {\n",
       "      outputDiv.innerHTML = `<div class=\"error\" style=\"color:red;\">${err}</div>`;\n",
       "      throw err;\n",
       "    }\n",
       "\n",
       "    function displayChart(vegaEmbed) {\n",
       "      vegaEmbed(outputDiv, spec, embedOpt)\n",
       "        .catch(err => showError(`Javascript Error: ${err.message}<br>This usually means there's a typo in your chart specification. See the javascript console for the full traceback.`));\n",
       "    }\n",
       "\n",
       "    if(typeof define === \"function\" && define.amd) {\n",
       "      requirejs.config({paths});\n",
       "      require([\"vega-embed\"], displayChart, err => showError(`Error loading script: ${err.message}`));\n",
       "    } else {\n",
       "      maybeLoadScript(\"vega\", \"5\")\n",
       "        .then(() => maybeLoadScript(\"vega-lite\", \"4.17.0\"))\n",
       "        .then(() => maybeLoadScript(\"vega-embed\", \"6\"))\n",
       "        .catch(showError)\n",
       "        .then(() => displayChart(vegaEmbed));\n",
       "    }\n",
       "  })({\"config\": {\"view\": {\"continuousWidth\": 400, \"continuousHeight\": 300}, \"axis\": {\"domainColor\": \"#cbcbcb\", \"grid\": true, \"gridColor\": \"#cbcbcb\", \"gridWidth\": 1, \"labelColor\": \"#474747\", \"labelFont\": \"Nunito Sans\", \"labelFontSize\": 10, \"labelPadding\": 4, \"tickColor\": \"#cbcbcb\", \"tickSize\": 10, \"titleColor\": \"#333\", \"titleFont\": \"Raleway\", \"titleFontSize\": 12, \"titlePadding\": 10}, \"axisBand\": {\"grid\": false}, \"background\": \"white\", \"font\": \"Raleway\", \"header\": {\"labelFont\": \"Nunito Sans\", \"titleFont\": \"Raleway\"}, \"legend\": {\"labelColor\": \"#333\", \"labelFont\": \"Nunito Sans\", \"labelFontSize\": 11, \"labelLimit\": 0, \"padding\": 1, \"symbolSize\": 30, \"symbolType\": \"square\", \"titleColor\": \"#333\", \"titleFont\": \"Raleway\", \"titleFontSize\": 14, \"titlePadding\": 10}, \"title\": {\"anchor\": \"middle\", \"font\": \"Raleway\", \"fontSize\": 18, \"fontWeight\": 300, \"offset\": 20}}, \"data\": {\"name\": \"data-b07b1b365bb6479bd30d3f85f62c8618\"}, \"mark\": \"bar\", \"encoding\": {\"color\": {\"field\": \"value\", \"legend\": {\"title\": \"Value\"}, \"scale\": {\"range\": [\"#B9D6DF\", \"#8CBCCB\", \"#2EA8CE\", \"#136C97\", \"#0B405B\"]}, \"type\": \"nominal\"}, \"x\": {\"field\": \"value\", \"sort\": \"-y\", \"title\": \"Value\", \"type\": \"nominal\"}, \"y\": {\"field\": \"count\", \"title\": \"Count\", \"type\": \"quantitative\"}}, \"height\": 250, \"title\": \"Agencies With The Most Obligations\", \"width\": 400, \"$schema\": \"https://vega.github.io/schema/vega-lite/v4.17.0.json\", \"datasets\": {\"data-b07b1b365bb6479bd30d3f85f62c8618\": [{\"value\": \"Los Angeles\", \"count\": 490, \"variable\": \"primary_agency_name\"}, {\"value\": \"Los Angeles County\", \"count\": 451, \"variable\": \"primary_agency_name\"}, {\"value\": \"Ventura County\", \"count\": 115, \"variable\": \"primary_agency_name\"}, {\"value\": \"Los Angeles County Metropolitan Transportation Authority\", \"count\": 85, \"variable\": \"primary_agency_name\"}, {\"value\": \"Santa Clarita\", \"count\": 85, \"variable\": \"primary_agency_name\"}, {\"value\": \"Long Beach\", \"count\": 81, \"variable\": \"primary_agency_name\"}, {\"value\": \"Oxnard\", \"count\": 74, \"variable\": \"primary_agency_name\"}, {\"value\": \"Pasadena\", \"count\": 71, \"variable\": \"primary_agency_name\"}, {\"value\": \"Downey\", \"count\": 63, \"variable\": \"primary_agency_name\"}, {\"value\": \"Simi Valley\", \"count\": 61, \"variable\": \"primary_agency_name\"}, {\"value\": \"Lancaster\", \"count\": 57, \"variable\": \"primary_agency_name\"}, {\"value\": \"Palmdale\", \"count\": 46, \"variable\": \"primary_agency_name\"}, {\"value\": \"Pico Rivera\", \"count\": 40, \"variable\": \"primary_agency_name\"}, {\"value\": \"Thousand Oaks\", \"count\": 39, \"variable\": \"primary_agency_name\"}, {\"value\": \"San Buenaventura\", \"count\": 35, \"variable\": \"primary_agency_name\"}, {\"value\": \"Camarillo\", \"count\": 33, \"variable\": \"primary_agency_name\"}, {\"value\": \"Culver City\", \"count\": 32, \"variable\": \"primary_agency_name\"}, {\"value\": \"Burbank\", \"count\": 30, \"variable\": \"primary_agency_name\"}, {\"value\": \"Glendale\", \"count\": 30, \"variable\": \"primary_agency_name\"}, {\"value\": \"Ventura County Transportation Commission\", \"count\": 29, \"variable\": \"primary_agency_name\"}]}}, {\"mode\": \"vega-lite\"});\n",
       "</script>"
      ],
      "text/plain": [
       "alt.Chart(...)"
      ]
     },
     "metadata": {},
     "output_type": "display_data"
    },
    {
     "data": {
      "text/html": [
       "\n",
       "<div id=\"altair-viz-94293c2326d54b83ab4f42a5eab94c9d\"></div>\n",
       "<script type=\"text/javascript\">\n",
       "  var VEGA_DEBUG = (typeof VEGA_DEBUG == \"undefined\") ? {} : VEGA_DEBUG;\n",
       "  (function(spec, embedOpt){\n",
       "    let outputDiv = document.currentScript.previousElementSibling;\n",
       "    if (outputDiv.id !== \"altair-viz-94293c2326d54b83ab4f42a5eab94c9d\") {\n",
       "      outputDiv = document.getElementById(\"altair-viz-94293c2326d54b83ab4f42a5eab94c9d\");\n",
       "    }\n",
       "    const paths = {\n",
       "      \"vega\": \"https://cdn.jsdelivr.net/npm//vega@5?noext\",\n",
       "      \"vega-lib\": \"https://cdn.jsdelivr.net/npm//vega-lib?noext\",\n",
       "      \"vega-lite\": \"https://cdn.jsdelivr.net/npm//vega-lite@4.17.0?noext\",\n",
       "      \"vega-embed\": \"https://cdn.jsdelivr.net/npm//vega-embed@6?noext\",\n",
       "    };\n",
       "\n",
       "    function maybeLoadScript(lib, version) {\n",
       "      var key = `${lib.replace(\"-\", \"\")}_version`;\n",
       "      return (VEGA_DEBUG[key] == version) ?\n",
       "        Promise.resolve(paths[lib]) :\n",
       "        new Promise(function(resolve, reject) {\n",
       "          var s = document.createElement('script');\n",
       "          document.getElementsByTagName(\"head\")[0].appendChild(s);\n",
       "          s.async = true;\n",
       "          s.onload = () => {\n",
       "            VEGA_DEBUG[key] = version;\n",
       "            return resolve(paths[lib]);\n",
       "          };\n",
       "          s.onerror = () => reject(`Error loading script: ${paths[lib]}`);\n",
       "          s.src = paths[lib];\n",
       "        });\n",
       "    }\n",
       "\n",
       "    function showError(err) {\n",
       "      outputDiv.innerHTML = `<div class=\"error\" style=\"color:red;\">${err}</div>`;\n",
       "      throw err;\n",
       "    }\n",
       "\n",
       "    function displayChart(vegaEmbed) {\n",
       "      vegaEmbed(outputDiv, spec, embedOpt)\n",
       "        .catch(err => showError(`Javascript Error: ${err.message}<br>This usually means there's a typo in your chart specification. See the javascript console for the full traceback.`));\n",
       "    }\n",
       "\n",
       "    if(typeof define === \"function\" && define.amd) {\n",
       "      requirejs.config({paths});\n",
       "      require([\"vega-embed\"], displayChart, err => showError(`Error loading script: ${err.message}`));\n",
       "    } else {\n",
       "      maybeLoadScript(\"vega\", \"5\")\n",
       "        .then(() => maybeLoadScript(\"vega-lite\", \"4.17.0\"))\n",
       "        .then(() => maybeLoadScript(\"vega-embed\", \"6\"))\n",
       "        .catch(showError)\n",
       "        .then(() => displayChart(vegaEmbed));\n",
       "    }\n",
       "  })({\"config\": {\"view\": {\"continuousWidth\": 400, \"continuousHeight\": 300}, \"axis\": {\"domainColor\": \"#cbcbcb\", \"grid\": true, \"gridColor\": \"#cbcbcb\", \"gridWidth\": 1, \"labelColor\": \"#474747\", \"labelFont\": \"Nunito Sans\", \"labelFontSize\": 10, \"labelPadding\": 4, \"tickColor\": \"#cbcbcb\", \"tickSize\": 10, \"titleColor\": \"#333\", \"titleFont\": \"Raleway\", \"titleFontSize\": 12, \"titlePadding\": 10}, \"axisBand\": {\"grid\": false}, \"background\": \"white\", \"font\": \"Raleway\", \"header\": {\"labelFont\": \"Nunito Sans\", \"titleFont\": \"Raleway\"}, \"legend\": {\"labelColor\": \"#333\", \"labelFont\": \"Nunito Sans\", \"labelFontSize\": 11, \"labelLimit\": 0, \"padding\": 1, \"symbolSize\": 30, \"symbolType\": \"square\", \"titleColor\": \"#333\", \"titleFont\": \"Raleway\", \"titleFontSize\": 14, \"titlePadding\": 10}, \"title\": {\"anchor\": \"middle\", \"font\": \"Raleway\", \"fontSize\": 18, \"fontWeight\": 300, \"offset\": 20}}, \"data\": {\"name\": \"data-27b319172de14407a2962fd80a6aa7f4\"}, \"mark\": \"bar\", \"encoding\": {\"color\": {\"field\": \"primary_agency_name\", \"legend\": {\"title\": \"Primary Agency Name\"}, \"scale\": {\"range\": [\"#B9D6DF\", \"#8CBCCB\", \"#2EA8CE\", \"#136C97\", \"#0B405B\"]}, \"type\": \"nominal\"}, \"x\": {\"field\": \"primary_agency_name\", \"sort\": \"-y\", \"title\": \"Primary Agency Name\", \"type\": \"nominal\"}, \"y\": {\"field\": \"n\", \"title\": \"N\", \"type\": \"quantitative\"}}, \"height\": 250, \"title\": \"Agencies With The Most Unique Prefix Codes\", \"width\": 400, \"$schema\": \"https://vega.github.io/schema/vega-lite/v4.17.0.json\", \"datasets\": {\"data-27b319172de14407a2962fd80a6aa7f4\": [{\"primary_agency_name\": \"Los Angeles\", \"n\": 34}, {\"primary_agency_name\": \"Los Angeles County\", \"n\": 31}, {\"primary_agency_name\": \"Long Beach\", \"n\": 18}, {\"primary_agency_name\": \"Los Angeles County Metropolitan Transportation Authority\", \"n\": 18}, {\"primary_agency_name\": \"Oxnard\", \"n\": 14}, {\"primary_agency_name\": \"Santa Clarita\", \"n\": 14}, {\"primary_agency_name\": \"Pasadena\", \"n\": 12}, {\"primary_agency_name\": \"Ventura County\", \"n\": 12}, {\"primary_agency_name\": \"Pico Rivera\", \"n\": 9}, {\"primary_agency_name\": \"San Buenaventura\", \"n\": 9}, {\"primary_agency_name\": \"Santa Monica\", \"n\": 9}, {\"primary_agency_name\": \"Burbank\", \"n\": 8}, {\"primary_agency_name\": \"Caltrans\", \"n\": 8}, {\"primary_agency_name\": \"Culver City\", \"n\": 8}, {\"primary_agency_name\": \"Simi Valley\", \"n\": 8}, {\"primary_agency_name\": \"Glendale\", \"n\": 7}, {\"primary_agency_name\": \"San Gabriel Valley Council of Governments\", \"n\": 7}, {\"primary_agency_name\": \"South Gate\", \"n\": 7}, {\"primary_agency_name\": \"Thousand Oaks\", \"n\": 7}, {\"primary_agency_name\": \"Carson\", \"n\": 6}, {\"primary_agency_name\": \"El Monte\", \"n\": 6}, {\"primary_agency_name\": \"Palmdale\", \"n\": 6}, {\"primary_agency_name\": \"Pomona\", \"n\": 6}, {\"primary_agency_name\": \"Ventura County Transportation Commission\", \"n\": 6}, {\"primary_agency_name\": \"Whittier\", \"n\": 6}, {\"primary_agency_name\": \"Arcadia\", \"n\": 5}, {\"primary_agency_name\": \"Azusa\", \"n\": 5}, {\"primary_agency_name\": \"Bell Gardens\", \"n\": 5}, {\"primary_agency_name\": \"Downey\", \"n\": 5}, {\"primary_agency_name\": \"Inglewood\", \"n\": 5}]}}, {\"mode\": \"vega-lite\"});\n",
       "</script>"
      ],
      "text/plain": [
       "alt.Chart(...)"
      ]
     },
     "metadata": {},
     "output_type": "display_data"
    },
    {
     "data": {
      "text/html": [
       "\n",
       "<div id=\"altair-viz-4ecc130186e742d6a903e1eb695997f7\"></div>\n",
       "<script type=\"text/javascript\">\n",
       "  var VEGA_DEBUG = (typeof VEGA_DEBUG == \"undefined\") ? {} : VEGA_DEBUG;\n",
       "  (function(spec, embedOpt){\n",
       "    let outputDiv = document.currentScript.previousElementSibling;\n",
       "    if (outputDiv.id !== \"altair-viz-4ecc130186e742d6a903e1eb695997f7\") {\n",
       "      outputDiv = document.getElementById(\"altair-viz-4ecc130186e742d6a903e1eb695997f7\");\n",
       "    }\n",
       "    const paths = {\n",
       "      \"vega\": \"https://cdn.jsdelivr.net/npm//vega@5?noext\",\n",
       "      \"vega-lib\": \"https://cdn.jsdelivr.net/npm//vega-lib?noext\",\n",
       "      \"vega-lite\": \"https://cdn.jsdelivr.net/npm//vega-lite@4.17.0?noext\",\n",
       "      \"vega-embed\": \"https://cdn.jsdelivr.net/npm//vega-embed@6?noext\",\n",
       "    };\n",
       "\n",
       "    function maybeLoadScript(lib, version) {\n",
       "      var key = `${lib.replace(\"-\", \"\")}_version`;\n",
       "      return (VEGA_DEBUG[key] == version) ?\n",
       "        Promise.resolve(paths[lib]) :\n",
       "        new Promise(function(resolve, reject) {\n",
       "          var s = document.createElement('script');\n",
       "          document.getElementsByTagName(\"head\")[0].appendChild(s);\n",
       "          s.async = true;\n",
       "          s.onload = () => {\n",
       "            VEGA_DEBUG[key] = version;\n",
       "            return resolve(paths[lib]);\n",
       "          };\n",
       "          s.onerror = () => reject(`Error loading script: ${paths[lib]}`);\n",
       "          s.src = paths[lib];\n",
       "        });\n",
       "    }\n",
       "\n",
       "    function showError(err) {\n",
       "      outputDiv.innerHTML = `<div class=\"error\" style=\"color:red;\">${err}</div>`;\n",
       "      throw err;\n",
       "    }\n",
       "\n",
       "    function displayChart(vegaEmbed) {\n",
       "      vegaEmbed(outputDiv, spec, embedOpt)\n",
       "        .catch(err => showError(`Javascript Error: ${err.message}<br>This usually means there's a typo in your chart specification. See the javascript console for the full traceback.`));\n",
       "    }\n",
       "\n",
       "    if(typeof define === \"function\" && define.amd) {\n",
       "      requirejs.config({paths});\n",
       "      require([\"vega-embed\"], displayChart, err => showError(`Error loading script: ${err.message}`));\n",
       "    } else {\n",
       "      maybeLoadScript(\"vega\", \"5\")\n",
       "        .then(() => maybeLoadScript(\"vega-lite\", \"4.17.0\"))\n",
       "        .then(() => maybeLoadScript(\"vega-embed\", \"6\"))\n",
       "        .catch(showError)\n",
       "        .then(() => displayChart(vegaEmbed));\n",
       "    }\n",
       "  })({\"config\": {\"view\": {\"continuousWidth\": 400, \"continuousHeight\": 300}, \"axis\": {\"domainColor\": \"#cbcbcb\", \"grid\": true, \"gridColor\": \"#cbcbcb\", \"gridWidth\": 1, \"labelColor\": \"#474747\", \"labelFont\": \"Nunito Sans\", \"labelFontSize\": 10, \"labelPadding\": 4, \"tickColor\": \"#cbcbcb\", \"tickSize\": 10, \"titleColor\": \"#333\", \"titleFont\": \"Raleway\", \"titleFontSize\": 12, \"titlePadding\": 10}, \"axisBand\": {\"grid\": false}, \"background\": \"white\", \"font\": \"Raleway\", \"header\": {\"labelFont\": \"Nunito Sans\", \"titleFont\": \"Raleway\"}, \"legend\": {\"labelColor\": \"#333\", \"labelFont\": \"Nunito Sans\", \"labelFontSize\": 11, \"labelLimit\": 0, \"padding\": 1, \"symbolSize\": 30, \"symbolType\": \"square\", \"titleColor\": \"#333\", \"titleFont\": \"Raleway\", \"titleFontSize\": 14, \"titlePadding\": 10}, \"title\": {\"anchor\": \"middle\", \"font\": \"Raleway\", \"fontSize\": 18, \"fontWeight\": 300, \"offset\": 20}}, \"data\": {\"name\": \"data-4dc9685e3afbf0ed414cc6758d007a8c\"}, \"mark\": \"bar\", \"encoding\": {\"color\": {\"field\": \"primary_agency_name\", \"legend\": {\"title\": \"Primary Agency Name\"}, \"scale\": {\"range\": [\"#B9D6DF\", \"#8CBCCB\", \"#2EA8CE\", \"#136C97\", \"#0B405B\"]}, \"type\": \"nominal\"}, \"x\": {\"field\": \"primary_agency_name\", \"sort\": \"-y\", \"title\": \"Primary Agency Name\", \"type\": \"nominal\"}, \"y\": {\"field\": \"total_requested\", \"title\": \"Total Requested\", \"type\": \"quantitative\"}}, \"height\": 250, \"title\": \"Average Total Requested Funds by Agency\", \"width\": 400, \"$schema\": \"https://vega.github.io/schema/vega-lite/v4.17.0.json\", \"datasets\": {\"data-4dc9685e3afbf0ed414cc6758d007a8c\": [{\"primary_agency_name\": \"Access Services\", \"total_requested\": 33010742.17647059}, {\"primary_agency_name\": \"Los Angeles County Metropolitan Transportation Authority\", \"total_requested\": 16962661.68164706}, {\"primary_agency_name\": \"Caltrans\", \"total_requested\": 15525372.588333335}, {\"primary_agency_name\": \"Southern California Regional Rail Authority\", \"total_requested\": 8633433.333333334}, {\"primary_agency_name\": \"Industry\", \"total_requested\": 6324183.0}, {\"primary_agency_name\": \"Long Beach\", \"total_requested\": 4771285.156049383}, {\"primary_agency_name\": \"Sunline Transit Agency\", \"total_requested\": 4622594.065714286}, {\"primary_agency_name\": \"San Gabriel Valley Council of Governments\", \"total_requested\": 2697375.325}, {\"primary_agency_name\": \"Antelope Valley Transit Authority\", \"total_requested\": 2475103.0}, {\"primary_agency_name\": \"South Coast Area Transit\", \"total_requested\": 2109462.5714285714}, {\"primary_agency_name\": \"Huntington Park\", \"total_requested\": 1790354.0}, {\"primary_agency_name\": \"Long Beach Transportation Company\", \"total_requested\": 1764100.5}, {\"primary_agency_name\": \"Santa Monica\", \"total_requested\": 1630348.382142857}, {\"primary_agency_name\": \"Los Angeles\", \"total_requested\": 1587264.0013265305}, {\"primary_agency_name\": \"Manhattan Beach\", \"total_requested\": 1121749.9686666664}, {\"primary_agency_name\": \"Calaveras County\", \"total_requested\": 968400.0}, {\"primary_agency_name\": \"Agoura Hills\", \"total_requested\": 932480.07}, {\"primary_agency_name\": \"Torrance\", \"total_requested\": 823852.9919047619}, {\"primary_agency_name\": \"San Dimas\", \"total_requested\": 800539.46}, {\"primary_agency_name\": \"Vernon\", \"total_requested\": 793274.24}, {\"primary_agency_name\": \"Gardena\", \"total_requested\": 747921.7988888889}, {\"primary_agency_name\": \"Los Angeles Unified School District\", \"total_requested\": 679500.0}, {\"primary_agency_name\": \"Monrovia\", \"total_requested\": 593249.8}, {\"primary_agency_name\": \"Pasadena\", \"total_requested\": 585811.1147887324}, {\"primary_agency_name\": \"Lancaster\", \"total_requested\": 580616.8114035088}, {\"primary_agency_name\": \"South Gate\", \"total_requested\": 558516.3284}, {\"primary_agency_name\": \"Arcadia\", \"total_requested\": 552943.4922222222}, {\"primary_agency_name\": \"Whittier\", \"total_requested\": 549930.9289655172}, {\"primary_agency_name\": \"South Coast Air Quality Management District\", \"total_requested\": 546778.0}, {\"primary_agency_name\": \"Santa Paula\", \"total_requested\": 546177.1671428571}]}}, {\"mode\": \"vega-lite\"});\n",
       "</script>"
      ],
      "text/plain": [
       "alt.Chart(...)"
      ]
     },
     "metadata": {},
     "output_type": "display_data"
    },
    {
     "data": {
      "text/html": [
       "\n",
       "<div id=\"altair-viz-308890ec5aeb4de084f7d1608fed10e0\"></div>\n",
       "<script type=\"text/javascript\">\n",
       "  var VEGA_DEBUG = (typeof VEGA_DEBUG == \"undefined\") ? {} : VEGA_DEBUG;\n",
       "  (function(spec, embedOpt){\n",
       "    let outputDiv = document.currentScript.previousElementSibling;\n",
       "    if (outputDiv.id !== \"altair-viz-308890ec5aeb4de084f7d1608fed10e0\") {\n",
       "      outputDiv = document.getElementById(\"altair-viz-308890ec5aeb4de084f7d1608fed10e0\");\n",
       "    }\n",
       "    const paths = {\n",
       "      \"vega\": \"https://cdn.jsdelivr.net/npm//vega@5?noext\",\n",
       "      \"vega-lib\": \"https://cdn.jsdelivr.net/npm//vega-lib?noext\",\n",
       "      \"vega-lite\": \"https://cdn.jsdelivr.net/npm//vega-lite@4.17.0?noext\",\n",
       "      \"vega-embed\": \"https://cdn.jsdelivr.net/npm//vega-embed@6?noext\",\n",
       "    };\n",
       "\n",
       "    function maybeLoadScript(lib, version) {\n",
       "      var key = `${lib.replace(\"-\", \"\")}_version`;\n",
       "      return (VEGA_DEBUG[key] == version) ?\n",
       "        Promise.resolve(paths[lib]) :\n",
       "        new Promise(function(resolve, reject) {\n",
       "          var s = document.createElement('script');\n",
       "          document.getElementsByTagName(\"head\")[0].appendChild(s);\n",
       "          s.async = true;\n",
       "          s.onload = () => {\n",
       "            VEGA_DEBUG[key] = version;\n",
       "            return resolve(paths[lib]);\n",
       "          };\n",
       "          s.onerror = () => reject(`Error loading script: ${paths[lib]}`);\n",
       "          s.src = paths[lib];\n",
       "        });\n",
       "    }\n",
       "\n",
       "    function showError(err) {\n",
       "      outputDiv.innerHTML = `<div class=\"error\" style=\"color:red;\">${err}</div>`;\n",
       "      throw err;\n",
       "    }\n",
       "\n",
       "    function displayChart(vegaEmbed) {\n",
       "      vegaEmbed(outputDiv, spec, embedOpt)\n",
       "        .catch(err => showError(`Javascript Error: ${err.message}<br>This usually means there's a typo in your chart specification. See the javascript console for the full traceback.`));\n",
       "    }\n",
       "\n",
       "    if(typeof define === \"function\" && define.amd) {\n",
       "      requirejs.config({paths});\n",
       "      require([\"vega-embed\"], displayChart, err => showError(`Error loading script: ${err.message}`));\n",
       "    } else {\n",
       "      maybeLoadScript(\"vega\", \"5\")\n",
       "        .then(() => maybeLoadScript(\"vega-lite\", \"4.17.0\"))\n",
       "        .then(() => maybeLoadScript(\"vega-embed\", \"6\"))\n",
       "        .catch(showError)\n",
       "        .then(() => displayChart(vegaEmbed));\n",
       "    }\n",
       "  })({\"config\": {\"view\": {\"continuousWidth\": 400, \"continuousHeight\": 300}, \"axis\": {\"domainColor\": \"#cbcbcb\", \"grid\": true, \"gridColor\": \"#cbcbcb\", \"gridWidth\": 1, \"labelColor\": \"#474747\", \"labelFont\": \"Nunito Sans\", \"labelFontSize\": 10, \"labelPadding\": 4, \"tickColor\": \"#cbcbcb\", \"tickSize\": 10, \"titleColor\": \"#333\", \"titleFont\": \"Raleway\", \"titleFontSize\": 12, \"titlePadding\": 10}, \"axisBand\": {\"grid\": false}, \"background\": \"white\", \"font\": \"Raleway\", \"header\": {\"labelFont\": \"Nunito Sans\", \"titleFont\": \"Raleway\"}, \"legend\": {\"labelColor\": \"#333\", \"labelFont\": \"Nunito Sans\", \"labelFontSize\": 11, \"labelLimit\": 0, \"padding\": 1, \"symbolSize\": 30, \"symbolType\": \"square\", \"titleColor\": \"#333\", \"titleFont\": \"Raleway\", \"titleFontSize\": 14, \"titlePadding\": 10}, \"title\": {\"anchor\": \"middle\", \"font\": \"Raleway\", \"fontSize\": 18, \"fontWeight\": 300, \"offset\": 20}}, \"data\": {\"name\": \"data-a02fa6cbfec93632ac93061039411ca9\"}, \"mark\": \"bar\", \"encoding\": {\"color\": {\"field\": \"primary_agency_name\", \"legend\": {\"title\": \"Primary Agency Name\"}, \"scale\": {\"range\": [\"#B9D6DF\", \"#8CBCCB\", \"#2EA8CE\", \"#136C97\", \"#0B405B\"]}, \"type\": \"nominal\"}, \"x\": {\"field\": \"primary_agency_name\", \"sort\": \"-y\", \"title\": \"Primary Agency Name\", \"type\": \"nominal\"}, \"y\": {\"field\": \"avg_funds\", \"title\": \"Avg Funds\", \"type\": \"quantitative\"}}, \"height\": 250, \"title\": \"Lowest Average Total Funds by Agency\", \"width\": 400, \"$schema\": \"https://vega.github.io/schema/vega-lite/v4.17.0.json\", \"datasets\": {\"data-a02fa6cbfec93632ac93061039411ca9\": [{\"primary_agency_name\": \"Rosemead\", \"avg_funds\": 181069.70454545456}, {\"primary_agency_name\": \"Sierra Madre\", \"avg_funds\": 176777.5}, {\"primary_agency_name\": \"Bell\", \"avg_funds\": 176115.12833333333}, {\"primary_agency_name\": \"El Monte\", \"avg_funds\": 167894.79470588238}, {\"primary_agency_name\": \"Cudahy\", \"avg_funds\": 138067.33333333334}, {\"primary_agency_name\": \"South El Monte\", \"avg_funds\": 129390.43761904762}, {\"primary_agency_name\": \"La Mirada\", \"avg_funds\": 129313.88}, {\"primary_agency_name\": \"Bell Gardens\", \"avg_funds\": 122111.6852}, {\"primary_agency_name\": \"Ojai\", \"avg_funds\": 117831.38777777778}, {\"primary_agency_name\": \"Carson\", \"avg_funds\": 116617.88090909092}, {\"primary_agency_name\": \"Rancho Palos Verdes\", \"avg_funds\": 115079.69190476192}, {\"primary_agency_name\": \"Glendora\", \"avg_funds\": 113914.93125}, {\"primary_agency_name\": \"West Covina\", \"avg_funds\": 108632.72466666666}, {\"primary_agency_name\": \"Hawaiian Gardens\", \"avg_funds\": 105908.80666666666}, {\"primary_agency_name\": \"Claremont\", \"avg_funds\": 94291.955}, {\"primary_agency_name\": \"Artesia\", \"avg_funds\": 81446.685}, {\"primary_agency_name\": \"Azusa\", \"avg_funds\": 81247.22882352943}, {\"primary_agency_name\": \"South Pasadena\", \"avg_funds\": 70747.65749999997}, {\"primary_agency_name\": \"San Marino\", \"avg_funds\": 66720.17}, {\"primary_agency_name\": \"Temple City\", \"avg_funds\": 64995.65777777777}, {\"primary_agency_name\": \"Fillmore\", \"avg_funds\": 45707.176666666666}, {\"primary_agency_name\": \"Hermosa Beach\", \"avg_funds\": 33179.73}, {\"primary_agency_name\": \"Compton\", \"avg_funds\": 19496.231250000008}, {\"primary_agency_name\": \"Calabasas\", \"avg_funds\": 7658.333333333333}, {\"primary_agency_name\": \"Port Hueneme\", \"avg_funds\": 6841.71}, {\"primary_agency_name\": \"Westlake Village\", \"avg_funds\": 6042.5133333333315}, {\"primary_agency_name\": \"Moorpark\", \"avg_funds\": 5751.582222222229}, {\"primary_agency_name\": \"Maywood\", \"avg_funds\": 105.88}, {\"primary_agency_name\": \"El Segundo\", \"avg_funds\": 0.0}, {\"primary_agency_name\": \"Port Of Long Beach\", \"avg_funds\": 0.0}, {\"primary_agency_name\": \"U.S. Forest Service, Pacific Southwest Region\", \"avg_funds\": 0.0}, {\"primary_agency_name\": \"Malibu\", \"avg_funds\": -6975.843333333333}, {\"primary_agency_name\": \"Lawndale\", \"avg_funds\": -19799.88}, {\"primary_agency_name\": \"Oxnard\", \"avg_funds\": -25367.9586486487}, {\"primary_agency_name\": \"Signal Hill\", \"avg_funds\": -82046.51833333336}, {\"primary_agency_name\": \"Walnut\", \"avg_funds\": -128530.46750000003}, {\"primary_agency_name\": \"Rolling Hills Estates\", \"avg_funds\": -191821.33}, {\"primary_agency_name\": \"Pomona\", \"avg_funds\": -2755194.8339130436}, {\"primary_agency_name\": \"Santa Fe Springs\", \"avg_funds\": -9764168.393333333}, {\"primary_agency_name\": \"Alameda Corridor Transportation Authority\", \"avg_funds\": -15818321.18}]}}, {\"mode\": \"vega-lite\"});\n",
       "</script>"
      ],
      "text/plain": [
       "alt.Chart(...)"
      ]
     },
     "metadata": {},
     "output_type": "display_data"
    },
    {
     "data": {
      "text/html": [
       "\n",
       "<div id=\"altair-viz-427732614d064997af17a0181b1675b6\"></div>\n",
       "<script type=\"text/javascript\">\n",
       "  var VEGA_DEBUG = (typeof VEGA_DEBUG == \"undefined\") ? {} : VEGA_DEBUG;\n",
       "  (function(spec, embedOpt){\n",
       "    let outputDiv = document.currentScript.previousElementSibling;\n",
       "    if (outputDiv.id !== \"altair-viz-427732614d064997af17a0181b1675b6\") {\n",
       "      outputDiv = document.getElementById(\"altair-viz-427732614d064997af17a0181b1675b6\");\n",
       "    }\n",
       "    const paths = {\n",
       "      \"vega\": \"https://cdn.jsdelivr.net/npm//vega@5?noext\",\n",
       "      \"vega-lib\": \"https://cdn.jsdelivr.net/npm//vega-lib?noext\",\n",
       "      \"vega-lite\": \"https://cdn.jsdelivr.net/npm//vega-lite@4.17.0?noext\",\n",
       "      \"vega-embed\": \"https://cdn.jsdelivr.net/npm//vega-embed@6?noext\",\n",
       "    };\n",
       "\n",
       "    function maybeLoadScript(lib, version) {\n",
       "      var key = `${lib.replace(\"-\", \"\")}_version`;\n",
       "      return (VEGA_DEBUG[key] == version) ?\n",
       "        Promise.resolve(paths[lib]) :\n",
       "        new Promise(function(resolve, reject) {\n",
       "          var s = document.createElement('script');\n",
       "          document.getElementsByTagName(\"head\")[0].appendChild(s);\n",
       "          s.async = true;\n",
       "          s.onload = () => {\n",
       "            VEGA_DEBUG[key] = version;\n",
       "            return resolve(paths[lib]);\n",
       "          };\n",
       "          s.onerror = () => reject(`Error loading script: ${paths[lib]}`);\n",
       "          s.src = paths[lib];\n",
       "        });\n",
       "    }\n",
       "\n",
       "    function showError(err) {\n",
       "      outputDiv.innerHTML = `<div class=\"error\" style=\"color:red;\">${err}</div>`;\n",
       "      throw err;\n",
       "    }\n",
       "\n",
       "    function displayChart(vegaEmbed) {\n",
       "      vegaEmbed(outputDiv, spec, embedOpt)\n",
       "        .catch(err => showError(`Javascript Error: ${err.message}<br>This usually means there's a typo in your chart specification. See the javascript console for the full traceback.`));\n",
       "    }\n",
       "\n",
       "    if(typeof define === \"function\" && define.amd) {\n",
       "      requirejs.config({paths});\n",
       "      require([\"vega-embed\"], displayChart, err => showError(`Error loading script: ${err.message}`));\n",
       "    } else {\n",
       "      maybeLoadScript(\"vega\", \"5\")\n",
       "        .then(() => maybeLoadScript(\"vega-lite\", \"4.17.0\"))\n",
       "        .then(() => maybeLoadScript(\"vega-embed\", \"6\"))\n",
       "        .catch(showError)\n",
       "        .then(() => displayChart(vegaEmbed));\n",
       "    }\n",
       "  })({\"config\": {\"view\": {\"continuousWidth\": 400, \"continuousHeight\": 300}, \"axis\": {\"domainColor\": \"#cbcbcb\", \"grid\": true, \"gridColor\": \"#cbcbcb\", \"gridWidth\": 1, \"labelColor\": \"#474747\", \"labelFont\": \"Nunito Sans\", \"labelFontSize\": 10, \"labelPadding\": 4, \"tickColor\": \"#cbcbcb\", \"tickSize\": 10, \"titleColor\": \"#333\", \"titleFont\": \"Raleway\", \"titleFontSize\": 12, \"titlePadding\": 10}, \"axisBand\": {\"grid\": false}, \"background\": \"white\", \"font\": \"Raleway\", \"header\": {\"labelFont\": \"Nunito Sans\", \"titleFont\": \"Raleway\"}, \"legend\": {\"labelColor\": \"#333\", \"labelFont\": \"Nunito Sans\", \"labelFontSize\": 11, \"labelLimit\": 0, \"padding\": 1, \"symbolSize\": 30, \"symbolType\": \"square\", \"titleColor\": \"#333\", \"titleFont\": \"Raleway\", \"titleFontSize\": 14, \"titlePadding\": 10}, \"title\": {\"anchor\": \"middle\", \"font\": \"Raleway\", \"fontSize\": 18, \"fontWeight\": 300, \"offset\": 20}}, \"data\": {\"name\": \"data-57bd9547fdc600adaa3a959dada319db\"}, \"mark\": \"bar\", \"encoding\": {\"color\": {\"field\": \"primary_agency_name\", \"legend\": {\"title\": \"Primary Agency Name\"}, \"scale\": {\"range\": [\"#B9D6DF\", \"#8CBCCB\", \"#2EA8CE\", \"#136C97\", \"#0B405B\"]}, \"type\": \"nominal\"}, \"x\": {\"field\": \"primary_agency_name\", \"sort\": \"-y\", \"title\": \"Primary Agency Name\", \"type\": \"nominal\"}, \"y\": {\"field\": \"total_requested\", \"title\": \"Total Requested\", \"type\": \"quantitative\"}}, \"height\": 250, \"title\": \"Average Total Requested Funds by Agency: Transit Related Funding\", \"width\": 400, \"$schema\": \"https://vega.github.io/schema/vega-lite/v4.17.0.json\", \"datasets\": {\"data-57bd9547fdc600adaa3a959dada319db\": [{\"primary_agency_name\": \"La Canada Flintridge\", \"total_requested\": 887421.37}, {\"primary_agency_name\": \"Los Angeles\", \"total_requested\": 379563.02866666665}, {\"primary_agency_name\": \"Ventura County Transportation Commission\", \"total_requested\": 278873.77777777775}, {\"primary_agency_name\": \"Hawaiian Gardens\", \"total_requested\": 187511.29499999998}, {\"primary_agency_name\": \"San Gabriel\", \"total_requested\": 139669.6}, {\"primary_agency_name\": \"Pasadena\", \"total_requested\": 105866.66666666667}, {\"primary_agency_name\": \"San Buenaventura\", \"total_requested\": 70501.182}, {\"primary_agency_name\": \"Artesia\", \"total_requested\": 14776.145}]}}, {\"mode\": \"vega-lite\"});\n",
       "</script>"
      ],
      "text/plain": [
       "alt.Chart(...)"
      ]
     },
     "metadata": {},
     "output_type": "display_data"
    },
    {
     "data": {
      "text/html": [
       "\n",
       "<div id=\"altair-viz-ec3203d4e3804739af5b443ecc97f42c\"></div>\n",
       "<script type=\"text/javascript\">\n",
       "  var VEGA_DEBUG = (typeof VEGA_DEBUG == \"undefined\") ? {} : VEGA_DEBUG;\n",
       "  (function(spec, embedOpt){\n",
       "    let outputDiv = document.currentScript.previousElementSibling;\n",
       "    if (outputDiv.id !== \"altair-viz-ec3203d4e3804739af5b443ecc97f42c\") {\n",
       "      outputDiv = document.getElementById(\"altair-viz-ec3203d4e3804739af5b443ecc97f42c\");\n",
       "    }\n",
       "    const paths = {\n",
       "      \"vega\": \"https://cdn.jsdelivr.net/npm//vega@5?noext\",\n",
       "      \"vega-lib\": \"https://cdn.jsdelivr.net/npm//vega-lib?noext\",\n",
       "      \"vega-lite\": \"https://cdn.jsdelivr.net/npm//vega-lite@4.17.0?noext\",\n",
       "      \"vega-embed\": \"https://cdn.jsdelivr.net/npm//vega-embed@6?noext\",\n",
       "    };\n",
       "\n",
       "    function maybeLoadScript(lib, version) {\n",
       "      var key = `${lib.replace(\"-\", \"\")}_version`;\n",
       "      return (VEGA_DEBUG[key] == version) ?\n",
       "        Promise.resolve(paths[lib]) :\n",
       "        new Promise(function(resolve, reject) {\n",
       "          var s = document.createElement('script');\n",
       "          document.getElementsByTagName(\"head\")[0].appendChild(s);\n",
       "          s.async = true;\n",
       "          s.onload = () => {\n",
       "            VEGA_DEBUG[key] = version;\n",
       "            return resolve(paths[lib]);\n",
       "          };\n",
       "          s.onerror = () => reject(`Error loading script: ${paths[lib]}`);\n",
       "          s.src = paths[lib];\n",
       "        });\n",
       "    }\n",
       "\n",
       "    function showError(err) {\n",
       "      outputDiv.innerHTML = `<div class=\"error\" style=\"color:red;\">${err}</div>`;\n",
       "      throw err;\n",
       "    }\n",
       "\n",
       "    function displayChart(vegaEmbed) {\n",
       "      vegaEmbed(outputDiv, spec, embedOpt)\n",
       "        .catch(err => showError(`Javascript Error: ${err.message}<br>This usually means there's a typo in your chart specification. See the javascript console for the full traceback.`));\n",
       "    }\n",
       "\n",
       "    if(typeof define === \"function\" && define.amd) {\n",
       "      requirejs.config({paths});\n",
       "      require([\"vega-embed\"], displayChart, err => showError(`Error loading script: ${err.message}`));\n",
       "    } else {\n",
       "      maybeLoadScript(\"vega\", \"5\")\n",
       "        .then(() => maybeLoadScript(\"vega-lite\", \"4.17.0\"))\n",
       "        .then(() => maybeLoadScript(\"vega-embed\", \"6\"))\n",
       "        .catch(showError)\n",
       "        .then(() => displayChart(vegaEmbed));\n",
       "    }\n",
       "  })({\"config\": {\"view\": {\"continuousWidth\": 400, \"continuousHeight\": 300}, \"axis\": {\"domainColor\": \"#cbcbcb\", \"grid\": true, \"gridColor\": \"#cbcbcb\", \"gridWidth\": 1, \"labelColor\": \"#474747\", \"labelFont\": \"Nunito Sans\", \"labelFontSize\": 10, \"labelPadding\": 4, \"tickColor\": \"#cbcbcb\", \"tickSize\": 10, \"titleColor\": \"#333\", \"titleFont\": \"Raleway\", \"titleFontSize\": 12, \"titlePadding\": 10}, \"axisBand\": {\"grid\": false}, \"background\": \"white\", \"font\": \"Raleway\", \"header\": {\"labelFont\": \"Nunito Sans\", \"titleFont\": \"Raleway\"}, \"legend\": {\"labelColor\": \"#333\", \"labelFont\": \"Nunito Sans\", \"labelFontSize\": 11, \"labelLimit\": 0, \"padding\": 1, \"symbolSize\": 30, \"symbolType\": \"square\", \"titleColor\": \"#333\", \"titleFont\": \"Raleway\", \"titleFontSize\": 14, \"titlePadding\": 10}, \"title\": {\"anchor\": \"middle\", \"font\": \"Raleway\", \"fontSize\": 18, \"fontWeight\": 300, \"offset\": 20}}, \"data\": {\"name\": \"data-5fe56a9343e5446ce9dd7947cb89cfac\"}, \"mark\": \"bar\", \"encoding\": {\"color\": {\"field\": \"primary_agency_name\", \"legend\": {\"title\": \"Primary Agency Name\"}, \"scale\": {\"range\": [\"#B9D6DF\", \"#8CBCCB\", \"#2EA8CE\", \"#136C97\", \"#0B405B\"]}, \"type\": \"nominal\"}, \"x\": {\"field\": \"primary_agency_name\", \"sort\": \"-y\", \"title\": \"Primary Agency Name\", \"type\": \"nominal\"}, \"y\": {\"field\": \"total_requested\", \"title\": \"Total Requested\", \"type\": \"quantitative\"}}, \"height\": 250, \"title\": \"Transit Agencies Average Funding\", \"width\": 400, \"$schema\": \"https://vega.github.io/schema/vega-lite/v4.17.0.json\", \"datasets\": {\"data-5fe56a9343e5446ce9dd7947cb89cfac\": [{\"primary_agency_name\": \"Southern California Regional Rail Authority\", \"total_requested\": 8633433.333333334}, {\"primary_agency_name\": \"Sunline Transit Agency\", \"total_requested\": 4622594.065714286}, {\"primary_agency_name\": \"Antelope Valley Transit Authority\", \"total_requested\": 2475103.0}, {\"primary_agency_name\": \"South Coast Area Transit\", \"total_requested\": 2109462.5714285714}]}}, {\"mode\": \"vega-lite\"});\n",
       "</script>"
      ],
      "text/plain": [
       "alt.Chart(...)"
      ]
     },
     "metadata": {},
     "output_type": "display_data"
    },
    {
     "data": {
      "text/html": [
       "\n",
       "<div id=\"altair-viz-24d9ac808f5549bf8f6cb465fb14077c\"></div>\n",
       "<script type=\"text/javascript\">\n",
       "  var VEGA_DEBUG = (typeof VEGA_DEBUG == \"undefined\") ? {} : VEGA_DEBUG;\n",
       "  (function(spec, embedOpt){\n",
       "    let outputDiv = document.currentScript.previousElementSibling;\n",
       "    if (outputDiv.id !== \"altair-viz-24d9ac808f5549bf8f6cb465fb14077c\") {\n",
       "      outputDiv = document.getElementById(\"altair-viz-24d9ac808f5549bf8f6cb465fb14077c\");\n",
       "    }\n",
       "    const paths = {\n",
       "      \"vega\": \"https://cdn.jsdelivr.net/npm//vega@5?noext\",\n",
       "      \"vega-lib\": \"https://cdn.jsdelivr.net/npm//vega-lib?noext\",\n",
       "      \"vega-lite\": \"https://cdn.jsdelivr.net/npm//vega-lite@4.17.0?noext\",\n",
       "      \"vega-embed\": \"https://cdn.jsdelivr.net/npm//vega-embed@6?noext\",\n",
       "    };\n",
       "\n",
       "    function maybeLoadScript(lib, version) {\n",
       "      var key = `${lib.replace(\"-\", \"\")}_version`;\n",
       "      return (VEGA_DEBUG[key] == version) ?\n",
       "        Promise.resolve(paths[lib]) :\n",
       "        new Promise(function(resolve, reject) {\n",
       "          var s = document.createElement('script');\n",
       "          document.getElementsByTagName(\"head\")[0].appendChild(s);\n",
       "          s.async = true;\n",
       "          s.onload = () => {\n",
       "            VEGA_DEBUG[key] = version;\n",
       "            return resolve(paths[lib]);\n",
       "          };\n",
       "          s.onerror = () => reject(`Error loading script: ${paths[lib]}`);\n",
       "          s.src = paths[lib];\n",
       "        });\n",
       "    }\n",
       "\n",
       "    function showError(err) {\n",
       "      outputDiv.innerHTML = `<div class=\"error\" style=\"color:red;\">${err}</div>`;\n",
       "      throw err;\n",
       "    }\n",
       "\n",
       "    function displayChart(vegaEmbed) {\n",
       "      vegaEmbed(outputDiv, spec, embedOpt)\n",
       "        .catch(err => showError(`Javascript Error: ${err.message}<br>This usually means there's a typo in your chart specification. See the javascript console for the full traceback.`));\n",
       "    }\n",
       "\n",
       "    if(typeof define === \"function\" && define.amd) {\n",
       "      requirejs.config({paths});\n",
       "      require([\"vega-embed\"], displayChart, err => showError(`Error loading script: ${err.message}`));\n",
       "    } else {\n",
       "      maybeLoadScript(\"vega\", \"5\")\n",
       "        .then(() => maybeLoadScript(\"vega-lite\", \"4.17.0\"))\n",
       "        .then(() => maybeLoadScript(\"vega-embed\", \"6\"))\n",
       "        .catch(showError)\n",
       "        .then(() => displayChart(vegaEmbed));\n",
       "    }\n",
       "  })({\"config\": {\"view\": {\"continuousWidth\": 400, \"continuousHeight\": 300}, \"axis\": {\"domainColor\": \"#cbcbcb\", \"grid\": true, \"gridColor\": \"#cbcbcb\", \"gridWidth\": 1, \"labelColor\": \"#474747\", \"labelFont\": \"Nunito Sans\", \"labelFontSize\": 10, \"labelPadding\": 4, \"tickColor\": \"#cbcbcb\", \"tickSize\": 10, \"titleColor\": \"#333\", \"titleFont\": \"Raleway\", \"titleFontSize\": 12, \"titlePadding\": 10}, \"axisBand\": {\"grid\": false}, \"background\": \"white\", \"font\": \"Raleway\", \"header\": {\"labelFont\": \"Nunito Sans\", \"titleFont\": \"Raleway\"}, \"legend\": {\"labelColor\": \"#333\", \"labelFont\": \"Nunito Sans\", \"labelFontSize\": 11, \"labelLimit\": 0, \"padding\": 1, \"symbolSize\": 30, \"symbolType\": \"square\", \"titleColor\": \"#333\", \"titleFont\": \"Raleway\", \"titleFontSize\": 14, \"titlePadding\": 10}, \"title\": {\"anchor\": \"middle\", \"font\": \"Raleway\", \"fontSize\": 18, \"fontWeight\": 300, \"offset\": 20}}, \"data\": {\"name\": \"data-8de71e23f193632f041b183257124c2e\"}, \"mark\": \"bar\", \"encoding\": {\"color\": {\"field\": \"prefix\", \"legend\": {\"title\": \"Prefix\"}, \"scale\": {\"range\": [\"#B9D6DF\", \"#8CBCCB\", \"#2EA8CE\", \"#136C97\", \"#0B405B\"]}, \"type\": \"nominal\"}, \"x\": {\"field\": \"prefix\", \"sort\": \"-y\", \"title\": \"Prefix\", \"type\": \"nominal\"}, \"y\": {\"field\": \"total_requested\", \"title\": \"Total Requested\", \"type\": \"quantitative\"}}, \"height\": 250, \"title\": \"Average Total Requested Funds by Prefix\", \"width\": 400, \"$schema\": \"https://vega.github.io/schema/vega-lite/v4.17.0.json\", \"datasets\": {\"data-8de71e23f193632f041b183257124c2e\": [{\"prefix\": \"INFRAL\", \"total_requested\": 266798275.0}, {\"prefix\": \"PNRSLN\", \"total_requested\": 79226840.0}, {\"prefix\": \"FTASTPLR\", \"total_requested\": 64600000.0}, {\"prefix\": \"FTACMSTPL\", \"total_requested\": 53100000.0}, {\"prefix\": \"STIPL\", \"total_requested\": 43326000.0}, {\"prefix\": \"FTASTPL\", \"total_requested\": 29354846.76470588}, {\"prefix\": \"ACNHPI\", \"total_requested\": 28898350.0}, {\"prefix\": \"PNRS\", \"total_requested\": 19620410.0}, {\"prefix\": \"TTDG\", \"total_requested\": 17454274.5}, {\"prefix\": \"TCEPSB1L\", \"total_requested\": 15702914.166666666}, {\"prefix\": \"HIPL\", \"total_requested\": 9886114.476}, {\"prefix\": \"STPLR\", \"total_requested\": 7593448.415882353}, {\"prefix\": \"BRLSZD\", \"total_requested\": 7225973.4955555545}, {\"prefix\": \"FTACML\", \"total_requested\": 6179337.654574468}, {\"prefix\": \"CMLN\", \"total_requested\": 4495640.0}, {\"prefix\": \"STPLN\", \"total_requested\": 4272382.890000001}, {\"prefix\": \"STP\", \"total_requested\": 3717967.4575}, {\"prefix\": \"BRLS\", \"total_requested\": 3716831.8044444444}, {\"prefix\": \"BRHIPL\", \"total_requested\": 3276678.0}, {\"prefix\": \"DPC\", \"total_requested\": 3174337.9899999998}, {\"prefix\": \"FTAATPL\", \"total_requested\": 2702500.0}, {\"prefix\": \"FERSTP\", \"total_requested\": 2614072.0}, {\"prefix\": \"NHPI\", \"total_requested\": 2455977.0}, {\"prefix\": \"FTAFBDL\", \"total_requested\": 2400000.0}, {\"prefix\": \"TILUL\", \"total_requested\": 2211236.165}, {\"prefix\": \"ATCMTD\", \"total_requested\": 1800000.0}, {\"prefix\": \"ATPSB1L\", \"total_requested\": 1575591.6666666667}, {\"prefix\": \"STPLNZ\", \"total_requested\": 1574583.14}, {\"prefix\": \"RSTPL\", \"total_requested\": 1451638.3333333333}, {\"prefix\": \"ATPLNI\", \"total_requested\": 1385044.08125}]}}, {\"mode\": \"vega-lite\"});\n",
       "</script>"
      ],
      "text/plain": [
       "alt.Chart(...)"
      ]
     },
     "metadata": {},
     "output_type": "display_data"
    }
   ],
   "source": [
    "make_charts(df)"
   ]
  },
  {
   "cell_type": "code",
   "execution_count": null,
   "id": "de4a8672-a7b6-4183-988f-6a0849ec5a25",
   "metadata": {},
   "outputs": [],
   "source": []
  },
  {
   "cell_type": "code",
   "execution_count": null,
   "id": "71004878-84d3-4af7-af82-6d56edb8680b",
   "metadata": {},
   "outputs": [],
   "source": []
  }
 ],
 "metadata": {
  "kernelspec": {
   "display_name": "Python 3 (ipykernel)",
   "language": "python",
   "name": "python3"
  },
  "language_info": {
   "codemirror_mode": {
    "name": "ipython",
    "version": 3
   },
   "file_extension": ".py",
   "mimetype": "text/x-python",
   "name": "python",
   "nbconvert_exporter": "python",
   "pygments_lexer": "ipython3",
   "version": "3.9.7"
  },
  "widgets": {
   "application/vnd.jupyter.widget-state+json": {
    "state": {},
    "version_major": 2,
    "version_minor": 0
   }
  }
 },
 "nbformat": 4,
 "nbformat_minor": 5
}
