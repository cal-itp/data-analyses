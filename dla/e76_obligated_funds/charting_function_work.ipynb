{
 "cells": [
  {
   "cell_type": "markdown",
   "id": "c5e93f25-9e95-4c5a-a088-8a517607537c",
   "metadata": {},
   "source": [
    "# Script work for Generating Charting Outputs"
   ]
  },
  {
   "cell_type": "code",
   "execution_count": 13,
   "id": "309c8aed-2642-4d35-8349-7d25c94ab809",
   "metadata": {},
   "outputs": [],
   "source": [
    "import numpy as np\n",
    "import pandas as pd\n",
    "from siuba import *\n",
    "\n",
    "import altair as alt\n",
    "import altair_saver\n",
    "from plotnine import *\n",
    "\n",
    "from IPython.display import Markdown\n",
    "\n",
    "from shared_utils import altair_utils\n",
    "from shared_utils import geography_utils\n",
    "from shared_utils import calitp_color_palette as cp\n",
    "from shared_utils import styleguide\n",
    "\n",
    "from calitp import to_snakecase\n",
    "import intake\n",
    "\n",
    "import clean_data\n",
    "import _dla_utils"
   ]
  },
  {
   "cell_type": "code",
   "execution_count": 14,
   "id": "09b8cdb0-bc6d-4ddd-96f4-55cefb5c6ca0",
   "metadata": {},
   "outputs": [],
   "source": [
    "pd.set_option('display.max_columns', None)"
   ]
  },
  {
   "cell_type": "code",
   "execution_count": 15,
   "id": "6c15b87b-478d-4ac2-9e22-b2fa59824c38",
   "metadata": {},
   "outputs": [],
   "source": [
    "df= pd.read_parquet(\"dla_df.parquet\")"
   ]
  },
  {
   "cell_type": "code",
   "execution_count": 16,
   "id": "3294c177-15e2-4baf-a1fa-98390610429a",
   "metadata": {
    "tags": []
   },
   "outputs": [],
   "source": [
    "def labeling(word):\n",
    "    # Add specific use cases where it's not just first letter capitalized\n",
    "    LABEL_DICT = { \"prepared_y\": \"Year\",\n",
    "              \"dist\": \"District\",\n",
    "              \"total_requested\": \"Total Requested\",\n",
    "              \"fed_requested\":\"Fed Requested\",\n",
    "              \"ac_requested\": \"Advance Construction Requested\",\n",
    "              \"nunique\":\"Number of Unique\",\n",
    "              \"project_no\": \"Project Number\"}\n",
    "    \n",
    "    if (word == \"mpo\") or (word == \"rtpa\"):\n",
    "        word = word.upper()\n",
    "    elif word in LABEL_DICT.keys():\n",
    "        word = LABEL_DICT[word]\n",
    "    else:\n",
    "        word = word.replace('n_', 'Number of ').title()\n",
    "        word = word.replace('unique_', \"Number of Unique \").title()\n",
    "        word = word.replace('_', ' ').title()\n",
    "    \n",
    "    return word\n"
   ]
  },
  {
   "cell_type": "code",
   "execution_count": 34,
   "id": "7cb8e1dc-232f-4d7b-b8ab-5cb4c94237e0",
   "metadata": {
    "tags": []
   },
   "outputs": [],
   "source": [
    "def basic_bar_chart_test(df, x_col, y_col, color_col):\n",
    "\n",
    "    if chart_title != [\"\"]:\n",
    "        chart_title= (f\"Highest {labeling(col)} by {labeling(aggregate_by)}\")\n",
    "        save= [\"\"]     \n",
    "        \n",
    "    elif chart_title == [\"\"]:\n",
    "        chart_title == [\"\"]\n",
    "        save = \"_top_20\"\n",
    "    \n",
    "    chart = (alt.Chart(df)\n",
    "             .mark_bar()\n",
    "             .encode(\n",
    "                 x=alt.X(x_col, title=labeling(x_col), sort=('-y')),\n",
    "                 y=alt.Y(y_col, title=labeling(y_col)),\n",
    "                 color = alt.Color(color_col,\n",
    "                                  scale=alt.Scale(\n",
    "                                      range=altair_utils.CALITP_SEQUENTIAL_COLORS),\n",
    "                                      legend=alt.Legend(title=(labeling(color_col)))\n",
    "                                  ))\n",
    "             .properties( \n",
    "                          title=f\"Highest {labeling(x_col)} by {labeling(y_col)}\")\n",
    "    )\n",
    "\n",
    "    chart=styleguide.preset_chart_config(chart)\n",
    "    chart.save(f\"./chart_outputs/d{subset}_outputs/bar_{x_col}_by_{y_col}.png\")\n",
    "    \n",
    "    return chart"
   ]
  },
  {
   "cell_type": "code",
   "execution_count": 33,
   "id": "e04e9aa3-00b6-409a-b741-bc2eba72cdcb",
   "metadata": {},
   "outputs": [
    {
     "data": {
      "text/html": [
       "\n",
       "<div id=\"altair-viz-d1d95b6703bd454ba51c28783a7b1f4e\"></div>\n",
       "<script type=\"text/javascript\">\n",
       "  var VEGA_DEBUG = (typeof VEGA_DEBUG == \"undefined\") ? {} : VEGA_DEBUG;\n",
       "  (function(spec, embedOpt){\n",
       "    let outputDiv = document.currentScript.previousElementSibling;\n",
       "    if (outputDiv.id !== \"altair-viz-d1d95b6703bd454ba51c28783a7b1f4e\") {\n",
       "      outputDiv = document.getElementById(\"altair-viz-d1d95b6703bd454ba51c28783a7b1f4e\");\n",
       "    }\n",
       "    const paths = {\n",
       "      \"vega\": \"https://cdn.jsdelivr.net/npm//vega@5?noext\",\n",
       "      \"vega-lib\": \"https://cdn.jsdelivr.net/npm//vega-lib?noext\",\n",
       "      \"vega-lite\": \"https://cdn.jsdelivr.net/npm//vega-lite@4.17.0?noext\",\n",
       "      \"vega-embed\": \"https://cdn.jsdelivr.net/npm//vega-embed@6?noext\",\n",
       "    };\n",
       "\n",
       "    function maybeLoadScript(lib, version) {\n",
       "      var key = `${lib.replace(\"-\", \"\")}_version`;\n",
       "      return (VEGA_DEBUG[key] == version) ?\n",
       "        Promise.resolve(paths[lib]) :\n",
       "        new Promise(function(resolve, reject) {\n",
       "          var s = document.createElement('script');\n",
       "          document.getElementsByTagName(\"head\")[0].appendChild(s);\n",
       "          s.async = true;\n",
       "          s.onload = () => {\n",
       "            VEGA_DEBUG[key] = version;\n",
       "            return resolve(paths[lib]);\n",
       "          };\n",
       "          s.onerror = () => reject(`Error loading script: ${paths[lib]}`);\n",
       "          s.src = paths[lib];\n",
       "        });\n",
       "    }\n",
       "\n",
       "    function showError(err) {\n",
       "      outputDiv.innerHTML = `<div class=\"error\" style=\"color:red;\">${err}</div>`;\n",
       "      throw err;\n",
       "    }\n",
       "\n",
       "    function displayChart(vegaEmbed) {\n",
       "      vegaEmbed(outputDiv, spec, embedOpt)\n",
       "        .catch(err => showError(`Javascript Error: ${err.message}<br>This usually means there's a typo in your chart specification. See the javascript console for the full traceback.`));\n",
       "    }\n",
       "\n",
       "    if(typeof define === \"function\" && define.amd) {\n",
       "      requirejs.config({paths});\n",
       "      require([\"vega-embed\"], displayChart, err => showError(`Error loading script: ${err.message}`));\n",
       "    } else {\n",
       "      maybeLoadScript(\"vega\", \"5\")\n",
       "        .then(() => maybeLoadScript(\"vega-lite\", \"4.17.0\"))\n",
       "        .then(() => maybeLoadScript(\"vega-embed\", \"6\"))\n",
       "        .catch(showError)\n",
       "        .then(() => displayChart(vegaEmbed));\n",
       "    }\n",
       "  })({\"usermeta\": {\"embedOptions\": {\"theme\": \"fivethirtyeight\"}}, \"config\": {\"view\": {\"continuousWidth\": 400, \"continuousHeight\": 300}, \"axis\": {\"domainColor\": \"#cbcbcb\", \"grid\": true, \"gridColor\": \"#cbcbcb\", \"gridWidth\": 1, \"labelColor\": \"#474747\", \"labelFont\": \"Nunito Sans\", \"labelFontSize\": 10, \"labelPadding\": 4, \"tickColor\": \"#cbcbcb\", \"tickSize\": 10, \"titleColor\": \"#333\", \"titleFont\": \"Raleway\", \"titleFontSize\": 12, \"titlePadding\": 10}, \"axisBand\": {\"grid\": false}, \"background\": \"white\", \"font\": \"Raleway\", \"header\": {\"labelFont\": \"Nunito Sans\", \"titleFont\": \"Raleway\"}, \"legend\": {\"labelColor\": \"#333\", \"labelFont\": \"Nunito Sans\", \"labelFontSize\": 11, \"labelLimit\": 0, \"padding\": 1, \"symbolSize\": 30, \"symbolType\": \"square\", \"titleColor\": \"#333\", \"titleFont\": \"Raleway\", \"titleFontSize\": 14, \"titlePadding\": 10}, \"title\": {\"anchor\": \"middle\", \"font\": \"Raleway\", \"fontSize\": 18, \"fontWeight\": 300, \"offset\": 20}}, \"data\": {\"name\": \"data-b974aa249c960694bc1b2535663fbe5e\"}, \"mark\": \"bar\", \"encoding\": {\"color\": {\"field\": \"count\", \"legend\": {\"title\": \"Count\"}, \"scale\": {\"range\": [\"#B9D6DF\", \"#8CBCCB\", \"#2EA8CE\", \"#136C97\", \"#0B405B\"]}, \"type\": \"quantitative\"}, \"x\": {\"field\": \"value\", \"sort\": \"-y\", \"title\": \"Value\", \"type\": \"nominal\"}, \"y\": {\"field\": \"count\", \"title\": \"Count\", \"type\": \"quantitative\"}}, \"height\": 250, \"title\": \"Highest Value by Count\", \"width\": 400, \"$schema\": \"https://vega.github.io/schema/vega-lite/v4.17.0.json\", \"datasets\": {\"data-b974aa249c960694bc1b2535663fbe5e\": [{\"value\": \"San Diego Association of Governments\", \"count\": 97, \"variable\": \"primary_agency_name\"}, {\"value\": \"San Diego County\", \"count\": 97, \"variable\": \"primary_agency_name\"}, {\"value\": \"Imperial County\", \"count\": 79, \"variable\": \"primary_agency_name\"}, {\"value\": \"San Diego\", \"count\": 75, \"variable\": \"primary_agency_name\"}, {\"value\": \"Chula Vista\", \"count\": 62, \"variable\": \"primary_agency_name\"}, {\"value\": \"El Cajon\", \"count\": 40, \"variable\": \"primary_agency_name\"}, {\"value\": \"National City\", \"count\": 40, \"variable\": \"primary_agency_name\"}, {\"value\": \"San Marcos\", \"count\": 40, \"variable\": \"primary_agency_name\"}, {\"value\": \"Encinitas\", \"count\": 35, \"variable\": \"primary_agency_name\"}, {\"value\": \"La Mesa\", \"count\": 35, \"variable\": \"primary_agency_name\"}, {\"value\": \"Brawley\", \"count\": 34, \"variable\": \"primary_agency_name\"}, {\"value\": \"Caltrans\", \"count\": 34, \"variable\": \"primary_agency_name\"}, {\"value\": \"El Centro\", \"count\": 32, \"variable\": \"primary_agency_name\"}, {\"value\": \"Holtville\", \"count\": 32, \"variable\": \"primary_agency_name\"}, {\"value\": \"Santee\", \"count\": 28, \"variable\": \"primary_agency_name\"}, {\"value\": \"Imperial\", \"count\": 25, \"variable\": \"primary_agency_name\"}, {\"value\": \"Calipatria\", \"count\": 22, \"variable\": \"primary_agency_name\"}, {\"value\": \"Vista\", \"count\": 21, \"variable\": \"primary_agency_name\"}, {\"value\": \"Carlsbad\", \"count\": 14, \"variable\": \"primary_agency_name\"}, {\"value\": \"Oceanside\", \"count\": 14, \"variable\": \"primary_agency_name\"}]}}, {\"mode\": \"vega-lite\"});\n",
       "</script>"
      ],
      "text/plain": [
       "alt.Chart(...)"
      ]
     },
     "execution_count": 33,
     "metadata": {},
     "output_type": "execute_result"
    }
   ],
   "source": [
    "df = (df>>filter(_.dist==subset))\n",
    "df_top = _dla_utils.find_top(df)\n",
    "\n",
    "basic_bar_chart_test((df_top>>filter(_.variable=='primary_agency_name')), 'value', 'count', 'count')"
   ]
  },
  {
   "cell_type": "code",
   "execution_count": 18,
   "id": "1d1dfdca-bb15-49d7-9b0f-67bc3723b8cc",
   "metadata": {},
   "outputs": [],
   "source": [
    "def make_charts(df):     \n",
    "    df= pd.read_parquet(\"dla_df.parquet\")\n",
    "    \n",
    "    df = (df>>filter(_.dist==subset))\n",
    "    \n",
    "    #subsetting the data\n",
    "    df_years = _dla_utils.count_all_years(df)\n",
    "    df_top = _dla_utils.find_top(df)\n",
    "    \n",
    "    ##print statements\n",
    "    \n",
    "    display(Markdown(f'There are {(df.primary_agency_name.nunique())} Unique Agencies'))\n",
    "    \n",
    "    \n",
    "    \n",
    "    \n",
    "    ##tables\n",
    "    \n",
    "    \n",
    "    ##charting df_years\n",
    "    \n",
    "    column_names = list(df_years)\n",
    "\n",
    "    for column in column_names:\n",
    "    \n",
    "        display(Markdown(f\"**{labeling(column)} Over Prepared Year**\"))\n",
    "        display(basic_bar_chart(df_years, \"prepared_y\", column, \"prepared_y\"))\n",
    "    \n",
    "    \n",
    "    ##charting df_tops \n",
    "    \n",
    "    values = sorted(df_top['variable'].unique())\n",
    "\n",
    "    for value in values:\n",
    "        display(Markdown(f\"**Top Values in {labeling(value)}**\"))\n",
    "        display(basic_bar_chart_test((df_top>>filter(_.variable==value)), 'value', 'count', 'count'))"
   ]
  },
  {
   "cell_type": "code",
   "execution_count": 31,
   "id": "1ed31f63-ec22-4f02-b37d-0f6cf6cdb23d",
   "metadata": {
    "tags": [
     "parameter"
    ]
   },
   "outputs": [],
   "source": [
    "#parameters cell\n",
    "subset = 11"
   ]
  },
  {
   "cell_type": "code",
   "execution_count": 106,
   "id": "bf957840-296b-4ebf-99c8-8bc8ebae269a",
   "metadata": {},
   "outputs": [
    {
     "data": {
      "text/markdown": [
       "There are 31 Unique Agencies"
      ],
      "text/plain": [
       "<IPython.core.display.Markdown object>"
      ]
     },
     "metadata": {},
     "output_type": "display_data"
    },
    {
     "data": {
      "text/markdown": [
       "**Year Over Prepared Year**"
      ],
      "text/plain": [
       "<IPython.core.display.Markdown object>"
      ]
     },
     "metadata": {},
     "output_type": "display_data"
    },
    {
     "data": {
      "text/html": [
       "\n",
       "<div id=\"altair-viz-1adaf57c21e24b4f90f6984ab1105aa1\"></div>\n",
       "<script type=\"text/javascript\">\n",
       "  var VEGA_DEBUG = (typeof VEGA_DEBUG == \"undefined\") ? {} : VEGA_DEBUG;\n",
       "  (function(spec, embedOpt){\n",
       "    let outputDiv = document.currentScript.previousElementSibling;\n",
       "    if (outputDiv.id !== \"altair-viz-1adaf57c21e24b4f90f6984ab1105aa1\") {\n",
       "      outputDiv = document.getElementById(\"altair-viz-1adaf57c21e24b4f90f6984ab1105aa1\");\n",
       "    }\n",
       "    const paths = {\n",
       "      \"vega\": \"https://cdn.jsdelivr.net/npm//vega@5?noext\",\n",
       "      \"vega-lib\": \"https://cdn.jsdelivr.net/npm//vega-lib?noext\",\n",
       "      \"vega-lite\": \"https://cdn.jsdelivr.net/npm//vega-lite@4.17.0?noext\",\n",
       "      \"vega-embed\": \"https://cdn.jsdelivr.net/npm//vega-embed@6?noext\",\n",
       "    };\n",
       "\n",
       "    function maybeLoadScript(lib, version) {\n",
       "      var key = `${lib.replace(\"-\", \"\")}_version`;\n",
       "      return (VEGA_DEBUG[key] == version) ?\n",
       "        Promise.resolve(paths[lib]) :\n",
       "        new Promise(function(resolve, reject) {\n",
       "          var s = document.createElement('script');\n",
       "          document.getElementsByTagName(\"head\")[0].appendChild(s);\n",
       "          s.async = true;\n",
       "          s.onload = () => {\n",
       "            VEGA_DEBUG[key] = version;\n",
       "            return resolve(paths[lib]);\n",
       "          };\n",
       "          s.onerror = () => reject(`Error loading script: ${paths[lib]}`);\n",
       "          s.src = paths[lib];\n",
       "        });\n",
       "    }\n",
       "\n",
       "    function showError(err) {\n",
       "      outputDiv.innerHTML = `<div class=\"error\" style=\"color:red;\">${err}</div>`;\n",
       "      throw err;\n",
       "    }\n",
       "\n",
       "    function displayChart(vegaEmbed) {\n",
       "      vegaEmbed(outputDiv, spec, embedOpt)\n",
       "        .catch(err => showError(`Javascript Error: ${err.message}<br>This usually means there's a typo in your chart specification. See the javascript console for the full traceback.`));\n",
       "    }\n",
       "\n",
       "    if(typeof define === \"function\" && define.amd) {\n",
       "      requirejs.config({paths});\n",
       "      require([\"vega-embed\"], displayChart, err => showError(`Error loading script: ${err.message}`));\n",
       "    } else {\n",
       "      maybeLoadScript(\"vega\", \"5\")\n",
       "        .then(() => maybeLoadScript(\"vega-lite\", \"4.17.0\"))\n",
       "        .then(() => maybeLoadScript(\"vega-embed\", \"6\"))\n",
       "        .catch(showError)\n",
       "        .then(() => displayChart(vegaEmbed));\n",
       "    }\n",
       "  })({\"usermeta\": {\"embedOptions\": {\"theme\": \"fivethirtyeight\"}}, \"config\": {\"view\": {\"continuousWidth\": 400, \"continuousHeight\": 300}, \"axis\": {\"domainColor\": \"#cbcbcb\", \"grid\": true, \"gridColor\": \"#cbcbcb\", \"gridWidth\": 1, \"labelColor\": \"#474747\", \"labelFont\": \"Nunito Sans\", \"labelFontSize\": 10, \"labelPadding\": 4, \"tickColor\": \"#cbcbcb\", \"tickSize\": 10, \"titleColor\": \"#333\", \"titleFont\": \"Raleway\", \"titleFontSize\": 12, \"titlePadding\": 10}, \"axisBand\": {\"grid\": false}, \"background\": \"white\", \"font\": \"Raleway\", \"header\": {\"labelFont\": \"Nunito Sans\", \"titleFont\": \"Raleway\"}, \"legend\": {\"labelColor\": \"#333\", \"labelFont\": \"Nunito Sans\", \"labelFontSize\": 11, \"labelLimit\": 0, \"padding\": 1, \"symbolSize\": 30, \"symbolType\": \"square\", \"titleColor\": \"#333\", \"titleFont\": \"Raleway\", \"titleFontSize\": 14, \"titlePadding\": 10}, \"title\": {\"anchor\": \"middle\", \"font\": \"Raleway\", \"fontSize\": 18, \"fontWeight\": 300, \"offset\": 20}}, \"data\": {\"name\": \"data-62416e93d39436f7fb5f29a421ba03dc\"}, \"mark\": \"bar\", \"encoding\": {\"color\": {\"field\": \"prepared_y\", \"legend\": {\"title\": \"Year\"}, \"scale\": {\"range\": [\"#B9D6DF\", \"#8CBCCB\", \"#2EA8CE\", \"#136C97\", \"#0B405B\"]}, \"type\": \"quantitative\"}, \"x\": {\"field\": \"prepared_y\", \"sort\": \"-y\", \"title\": \"Year\", \"type\": \"quantitative\"}, \"y\": {\"field\": \"prepared_y\", \"title\": \"Year\", \"type\": \"quantitative\"}}, \"height\": 250, \"title\": \"Year by Year\", \"width\": 400, \"$schema\": \"https://vega.github.io/schema/vega-lite/v4.17.0.json\", \"datasets\": {\"data-62416e93d39436f7fb5f29a421ba03dc\": [{\"prepared_y\": 2021, \"dist\": 11, \"ac_requested_sum\": 54141019.0, \"fed_requested_sum\": 47449681.58, \"total_requested_sum\": 50960061.87000001, \"ac_requested_mean\": 594956.2527472527, \"fed_requested_mean\": 521425.0723076923, \"total_requested_mean\": 560000.67989011, \"unique_mpo\": 3.0, \"unique_prefix\": 27.0, \"unique_primary_agency_name\": 20.0, \"unique_project_location\": 73.0, \"unique_project_no\": 76.0, \"unique_type_of_work\": 75.0}, {\"prepared_y\": 2020, \"dist\": 11, \"ac_requested_sum\": 5286649.0, \"fed_requested_sum\": 119424707.24, \"total_requested_sum\": 151733018.07999998, \"ac_requested_mean\": 40356.099236641225, \"fed_requested_mean\": 911638.9865648855, \"total_requested_mean\": 1158267.3135877862, \"unique_mpo\": 3.0, \"unique_prefix\": 28.0, \"unique_primary_agency_name\": 23.0, \"unique_project_location\": 104.0, \"unique_project_no\": 111.0, \"unique_type_of_work\": 93.0}, {\"prepared_y\": 2019, \"dist\": 11, \"ac_requested_sum\": -19971304.0, \"fed_requested_sum\": 62159902.64, \"total_requested_sum\": 69392790.82000001, \"ac_requested_mean\": -183222.9724770642, \"fed_requested_mean\": 570274.336146789, \"total_requested_mean\": 636631.108440367, \"unique_mpo\": 2.0, \"unique_prefix\": 22.0, \"unique_primary_agency_name\": 22.0, \"unique_project_location\": 90.0, \"unique_project_no\": 90.0, \"unique_type_of_work\": 80.0}, {\"prepared_y\": 2018, \"dist\": 11, \"ac_requested_sum\": 39547944.0, \"fed_requested_sum\": 56736895.519999996, \"total_requested_sum\": 109554198.54, \"ac_requested_mean\": 380268.6923076923, \"fed_requested_mean\": 545547.0723076923, \"total_requested_mean\": 1053405.7551923078, \"unique_mpo\": 2.0, \"unique_prefix\": 29.0, \"unique_primary_agency_name\": 21.0, \"unique_project_location\": 81.0, \"unique_project_no\": 85.0, \"unique_type_of_work\": 84.0}, {\"prepared_y\": 2017, \"dist\": 11, \"ac_requested_sum\": 79668325.0, \"fed_requested_sum\": 52728400.99, \"total_requested_sum\": 153790118.85999998, \"ac_requested_mean\": 781062.0098039216, \"fed_requested_mean\": 516945.10774509807, \"total_requested_mean\": 1507746.2633333332, \"unique_mpo\": 3.0, \"unique_prefix\": 22.0, \"unique_primary_agency_name\": 25.0, \"unique_project_location\": 90.0, \"unique_project_no\": 91.0, \"unique_type_of_work\": 88.0}, {\"prepared_y\": 2016, \"dist\": 11, \"ac_requested_sum\": 165393693.0, \"fed_requested_sum\": 103380124.7, \"total_requested_sum\": 359905282.95, \"ac_requested_mean\": 1355686.0081967213, \"fed_requested_mean\": 847378.0713114755, \"total_requested_mean\": 2950043.3028688524, \"unique_mpo\": 3.0, \"unique_prefix\": 29.0, \"unique_primary_agency_name\": 23.0, \"unique_project_location\": 101.0, \"unique_project_no\": 105.0, \"unique_type_of_work\": 98.0}, {\"prepared_y\": 2015, \"dist\": 11, \"ac_requested_sum\": 45445388.0, \"fed_requested_sum\": 46553372.18, \"total_requested_sum\": 196077466.16, \"ac_requested_mean\": 363563.104, \"fed_requested_mean\": 372426.97744, \"total_requested_mean\": 1568619.72928, \"unique_mpo\": 6.0, \"unique_prefix\": 28.0, \"unique_primary_agency_name\": 21.0, \"unique_project_location\": 100.0, \"unique_project_no\": 102.0, \"unique_type_of_work\": 96.0}, {\"prepared_y\": 2014, \"dist\": 11, \"ac_requested_sum\": 0.0, \"fed_requested_sum\": 47694110.84, \"total_requested_sum\": 61749532.44, \"ac_requested_mean\": 0.0, \"fed_requested_mean\": 381552.88672, \"total_requested_mean\": 493996.25951999996, \"unique_mpo\": 10.0, \"unique_prefix\": 29.0, \"unique_primary_agency_name\": 25.0, \"unique_project_location\": 102.0, \"unique_project_no\": 109.0, \"unique_type_of_work\": 97.0}, {\"prepared_y\": 2013, \"dist\": 11, \"ac_requested_sum\": 0.0, \"fed_requested_sum\": 3890130.7, \"total_requested_sum\": 4317169.63, \"ac_requested_mean\": 0.0, \"fed_requested_mean\": 432236.7444444445, \"total_requested_mean\": 479685.51444444444, \"unique_mpo\": 4.0, \"unique_prefix\": 7.0, \"unique_primary_agency_name\": 8.0, \"unique_project_location\": 9.0, \"unique_project_no\": 9.0, \"unique_type_of_work\": 9.0}, {\"prepared_y\": 2011, \"dist\": 11, \"ac_requested_sum\": 0.0, \"fed_requested_sum\": 900000.0, \"total_requested_sum\": 1224000.0, \"ac_requested_mean\": 0.0, \"fed_requested_mean\": 900000.0, \"total_requested_mean\": 1224000.0, \"unique_mpo\": 1.0, \"unique_prefix\": 1.0, \"unique_primary_agency_name\": 1.0, \"unique_project_location\": 1.0, \"unique_project_no\": 1.0, \"unique_type_of_work\": 1.0}]}}, {\"mode\": \"vega-lite\"});\n",
       "</script>"
      ],
      "text/plain": [
       "alt.Chart(...)"
      ]
     },
     "metadata": {},
     "output_type": "display_data"
    },
    {
     "data": {
      "text/markdown": [
       "**District Over Prepared Year**"
      ],
      "text/plain": [
       "<IPython.core.display.Markdown object>"
      ]
     },
     "metadata": {},
     "output_type": "display_data"
    },
    {
     "data": {
      "text/html": [
       "\n",
       "<div id=\"altair-viz-d28d6e5a58464c99b9dbd1833e3a49d4\"></div>\n",
       "<script type=\"text/javascript\">\n",
       "  var VEGA_DEBUG = (typeof VEGA_DEBUG == \"undefined\") ? {} : VEGA_DEBUG;\n",
       "  (function(spec, embedOpt){\n",
       "    let outputDiv = document.currentScript.previousElementSibling;\n",
       "    if (outputDiv.id !== \"altair-viz-d28d6e5a58464c99b9dbd1833e3a49d4\") {\n",
       "      outputDiv = document.getElementById(\"altair-viz-d28d6e5a58464c99b9dbd1833e3a49d4\");\n",
       "    }\n",
       "    const paths = {\n",
       "      \"vega\": \"https://cdn.jsdelivr.net/npm//vega@5?noext\",\n",
       "      \"vega-lib\": \"https://cdn.jsdelivr.net/npm//vega-lib?noext\",\n",
       "      \"vega-lite\": \"https://cdn.jsdelivr.net/npm//vega-lite@4.17.0?noext\",\n",
       "      \"vega-embed\": \"https://cdn.jsdelivr.net/npm//vega-embed@6?noext\",\n",
       "    };\n",
       "\n",
       "    function maybeLoadScript(lib, version) {\n",
       "      var key = `${lib.replace(\"-\", \"\")}_version`;\n",
       "      return (VEGA_DEBUG[key] == version) ?\n",
       "        Promise.resolve(paths[lib]) :\n",
       "        new Promise(function(resolve, reject) {\n",
       "          var s = document.createElement('script');\n",
       "          document.getElementsByTagName(\"head\")[0].appendChild(s);\n",
       "          s.async = true;\n",
       "          s.onload = () => {\n",
       "            VEGA_DEBUG[key] = version;\n",
       "            return resolve(paths[lib]);\n",
       "          };\n",
       "          s.onerror = () => reject(`Error loading script: ${paths[lib]}`);\n",
       "          s.src = paths[lib];\n",
       "        });\n",
       "    }\n",
       "\n",
       "    function showError(err) {\n",
       "      outputDiv.innerHTML = `<div class=\"error\" style=\"color:red;\">${err}</div>`;\n",
       "      throw err;\n",
       "    }\n",
       "\n",
       "    function displayChart(vegaEmbed) {\n",
       "      vegaEmbed(outputDiv, spec, embedOpt)\n",
       "        .catch(err => showError(`Javascript Error: ${err.message}<br>This usually means there's a typo in your chart specification. See the javascript console for the full traceback.`));\n",
       "    }\n",
       "\n",
       "    if(typeof define === \"function\" && define.amd) {\n",
       "      requirejs.config({paths});\n",
       "      require([\"vega-embed\"], displayChart, err => showError(`Error loading script: ${err.message}`));\n",
       "    } else {\n",
       "      maybeLoadScript(\"vega\", \"5\")\n",
       "        .then(() => maybeLoadScript(\"vega-lite\", \"4.17.0\"))\n",
       "        .then(() => maybeLoadScript(\"vega-embed\", \"6\"))\n",
       "        .catch(showError)\n",
       "        .then(() => displayChart(vegaEmbed));\n",
       "    }\n",
       "  })({\"usermeta\": {\"embedOptions\": {\"theme\": \"fivethirtyeight\"}}, \"config\": {\"view\": {\"continuousWidth\": 400, \"continuousHeight\": 300}, \"axis\": {\"domainColor\": \"#cbcbcb\", \"grid\": true, \"gridColor\": \"#cbcbcb\", \"gridWidth\": 1, \"labelColor\": \"#474747\", \"labelFont\": \"Nunito Sans\", \"labelFontSize\": 10, \"labelPadding\": 4, \"tickColor\": \"#cbcbcb\", \"tickSize\": 10, \"titleColor\": \"#333\", \"titleFont\": \"Raleway\", \"titleFontSize\": 12, \"titlePadding\": 10}, \"axisBand\": {\"grid\": false}, \"background\": \"white\", \"font\": \"Raleway\", \"header\": {\"labelFont\": \"Nunito Sans\", \"titleFont\": \"Raleway\"}, \"legend\": {\"labelColor\": \"#333\", \"labelFont\": \"Nunito Sans\", \"labelFontSize\": 11, \"labelLimit\": 0, \"padding\": 1, \"symbolSize\": 30, \"symbolType\": \"square\", \"titleColor\": \"#333\", \"titleFont\": \"Raleway\", \"titleFontSize\": 14, \"titlePadding\": 10}, \"title\": {\"anchor\": \"middle\", \"font\": \"Raleway\", \"fontSize\": 18, \"fontWeight\": 300, \"offset\": 20}}, \"data\": {\"name\": \"data-62416e93d39436f7fb5f29a421ba03dc\"}, \"mark\": \"bar\", \"encoding\": {\"color\": {\"field\": \"prepared_y\", \"legend\": {\"title\": \"Year\"}, \"scale\": {\"range\": [\"#B9D6DF\", \"#8CBCCB\", \"#2EA8CE\", \"#136C97\", \"#0B405B\"]}, \"type\": \"quantitative\"}, \"x\": {\"field\": \"prepared_y\", \"sort\": \"-y\", \"title\": \"Year\", \"type\": \"quantitative\"}, \"y\": {\"field\": \"dist\", \"title\": \"District\", \"type\": \"quantitative\"}}, \"height\": 250, \"title\": \"Year by District\", \"width\": 400, \"$schema\": \"https://vega.github.io/schema/vega-lite/v4.17.0.json\", \"datasets\": {\"data-62416e93d39436f7fb5f29a421ba03dc\": [{\"prepared_y\": 2021, \"dist\": 11, \"ac_requested_sum\": 54141019.0, \"fed_requested_sum\": 47449681.58, \"total_requested_sum\": 50960061.87000001, \"ac_requested_mean\": 594956.2527472527, \"fed_requested_mean\": 521425.0723076923, \"total_requested_mean\": 560000.67989011, \"unique_mpo\": 3.0, \"unique_prefix\": 27.0, \"unique_primary_agency_name\": 20.0, \"unique_project_location\": 73.0, \"unique_project_no\": 76.0, \"unique_type_of_work\": 75.0}, {\"prepared_y\": 2020, \"dist\": 11, \"ac_requested_sum\": 5286649.0, \"fed_requested_sum\": 119424707.24, \"total_requested_sum\": 151733018.07999998, \"ac_requested_mean\": 40356.099236641225, \"fed_requested_mean\": 911638.9865648855, \"total_requested_mean\": 1158267.3135877862, \"unique_mpo\": 3.0, \"unique_prefix\": 28.0, \"unique_primary_agency_name\": 23.0, \"unique_project_location\": 104.0, \"unique_project_no\": 111.0, \"unique_type_of_work\": 93.0}, {\"prepared_y\": 2019, \"dist\": 11, \"ac_requested_sum\": -19971304.0, \"fed_requested_sum\": 62159902.64, \"total_requested_sum\": 69392790.82000001, \"ac_requested_mean\": -183222.9724770642, \"fed_requested_mean\": 570274.336146789, \"total_requested_mean\": 636631.108440367, \"unique_mpo\": 2.0, \"unique_prefix\": 22.0, \"unique_primary_agency_name\": 22.0, \"unique_project_location\": 90.0, \"unique_project_no\": 90.0, \"unique_type_of_work\": 80.0}, {\"prepared_y\": 2018, \"dist\": 11, \"ac_requested_sum\": 39547944.0, \"fed_requested_sum\": 56736895.519999996, \"total_requested_sum\": 109554198.54, \"ac_requested_mean\": 380268.6923076923, \"fed_requested_mean\": 545547.0723076923, \"total_requested_mean\": 1053405.7551923078, \"unique_mpo\": 2.0, \"unique_prefix\": 29.0, \"unique_primary_agency_name\": 21.0, \"unique_project_location\": 81.0, \"unique_project_no\": 85.0, \"unique_type_of_work\": 84.0}, {\"prepared_y\": 2017, \"dist\": 11, \"ac_requested_sum\": 79668325.0, \"fed_requested_sum\": 52728400.99, \"total_requested_sum\": 153790118.85999998, \"ac_requested_mean\": 781062.0098039216, \"fed_requested_mean\": 516945.10774509807, \"total_requested_mean\": 1507746.2633333332, \"unique_mpo\": 3.0, \"unique_prefix\": 22.0, \"unique_primary_agency_name\": 25.0, \"unique_project_location\": 90.0, \"unique_project_no\": 91.0, \"unique_type_of_work\": 88.0}, {\"prepared_y\": 2016, \"dist\": 11, \"ac_requested_sum\": 165393693.0, \"fed_requested_sum\": 103380124.7, \"total_requested_sum\": 359905282.95, \"ac_requested_mean\": 1355686.0081967213, \"fed_requested_mean\": 847378.0713114755, \"total_requested_mean\": 2950043.3028688524, \"unique_mpo\": 3.0, \"unique_prefix\": 29.0, \"unique_primary_agency_name\": 23.0, \"unique_project_location\": 101.0, \"unique_project_no\": 105.0, \"unique_type_of_work\": 98.0}, {\"prepared_y\": 2015, \"dist\": 11, \"ac_requested_sum\": 45445388.0, \"fed_requested_sum\": 46553372.18, \"total_requested_sum\": 196077466.16, \"ac_requested_mean\": 363563.104, \"fed_requested_mean\": 372426.97744, \"total_requested_mean\": 1568619.72928, \"unique_mpo\": 6.0, \"unique_prefix\": 28.0, \"unique_primary_agency_name\": 21.0, \"unique_project_location\": 100.0, \"unique_project_no\": 102.0, \"unique_type_of_work\": 96.0}, {\"prepared_y\": 2014, \"dist\": 11, \"ac_requested_sum\": 0.0, \"fed_requested_sum\": 47694110.84, \"total_requested_sum\": 61749532.44, \"ac_requested_mean\": 0.0, \"fed_requested_mean\": 381552.88672, \"total_requested_mean\": 493996.25951999996, \"unique_mpo\": 10.0, \"unique_prefix\": 29.0, \"unique_primary_agency_name\": 25.0, \"unique_project_location\": 102.0, \"unique_project_no\": 109.0, \"unique_type_of_work\": 97.0}, {\"prepared_y\": 2013, \"dist\": 11, \"ac_requested_sum\": 0.0, \"fed_requested_sum\": 3890130.7, \"total_requested_sum\": 4317169.63, \"ac_requested_mean\": 0.0, \"fed_requested_mean\": 432236.7444444445, \"total_requested_mean\": 479685.51444444444, \"unique_mpo\": 4.0, \"unique_prefix\": 7.0, \"unique_primary_agency_name\": 8.0, \"unique_project_location\": 9.0, \"unique_project_no\": 9.0, \"unique_type_of_work\": 9.0}, {\"prepared_y\": 2011, \"dist\": 11, \"ac_requested_sum\": 0.0, \"fed_requested_sum\": 900000.0, \"total_requested_sum\": 1224000.0, \"ac_requested_mean\": 0.0, \"fed_requested_mean\": 900000.0, \"total_requested_mean\": 1224000.0, \"unique_mpo\": 1.0, \"unique_prefix\": 1.0, \"unique_primary_agency_name\": 1.0, \"unique_project_location\": 1.0, \"unique_project_no\": 1.0, \"unique_type_of_work\": 1.0}]}}, {\"mode\": \"vega-lite\"});\n",
       "</script>"
      ],
      "text/plain": [
       "alt.Chart(...)"
      ]
     },
     "metadata": {},
     "output_type": "display_data"
    },
    {
     "data": {
      "text/markdown": [
       "**Ac Requested Sum Over Prepared Year**"
      ],
      "text/plain": [
       "<IPython.core.display.Markdown object>"
      ]
     },
     "metadata": {},
     "output_type": "display_data"
    },
    {
     "data": {
      "text/html": [
       "\n",
       "<div id=\"altair-viz-a4a0ed8a0ae341d9a74d8d580dee8c58\"></div>\n",
       "<script type=\"text/javascript\">\n",
       "  var VEGA_DEBUG = (typeof VEGA_DEBUG == \"undefined\") ? {} : VEGA_DEBUG;\n",
       "  (function(spec, embedOpt){\n",
       "    let outputDiv = document.currentScript.previousElementSibling;\n",
       "    if (outputDiv.id !== \"altair-viz-a4a0ed8a0ae341d9a74d8d580dee8c58\") {\n",
       "      outputDiv = document.getElementById(\"altair-viz-a4a0ed8a0ae341d9a74d8d580dee8c58\");\n",
       "    }\n",
       "    const paths = {\n",
       "      \"vega\": \"https://cdn.jsdelivr.net/npm//vega@5?noext\",\n",
       "      \"vega-lib\": \"https://cdn.jsdelivr.net/npm//vega-lib?noext\",\n",
       "      \"vega-lite\": \"https://cdn.jsdelivr.net/npm//vega-lite@4.17.0?noext\",\n",
       "      \"vega-embed\": \"https://cdn.jsdelivr.net/npm//vega-embed@6?noext\",\n",
       "    };\n",
       "\n",
       "    function maybeLoadScript(lib, version) {\n",
       "      var key = `${lib.replace(\"-\", \"\")}_version`;\n",
       "      return (VEGA_DEBUG[key] == version) ?\n",
       "        Promise.resolve(paths[lib]) :\n",
       "        new Promise(function(resolve, reject) {\n",
       "          var s = document.createElement('script');\n",
       "          document.getElementsByTagName(\"head\")[0].appendChild(s);\n",
       "          s.async = true;\n",
       "          s.onload = () => {\n",
       "            VEGA_DEBUG[key] = version;\n",
       "            return resolve(paths[lib]);\n",
       "          };\n",
       "          s.onerror = () => reject(`Error loading script: ${paths[lib]}`);\n",
       "          s.src = paths[lib];\n",
       "        });\n",
       "    }\n",
       "\n",
       "    function showError(err) {\n",
       "      outputDiv.innerHTML = `<div class=\"error\" style=\"color:red;\">${err}</div>`;\n",
       "      throw err;\n",
       "    }\n",
       "\n",
       "    function displayChart(vegaEmbed) {\n",
       "      vegaEmbed(outputDiv, spec, embedOpt)\n",
       "        .catch(err => showError(`Javascript Error: ${err.message}<br>This usually means there's a typo in your chart specification. See the javascript console for the full traceback.`));\n",
       "    }\n",
       "\n",
       "    if(typeof define === \"function\" && define.amd) {\n",
       "      requirejs.config({paths});\n",
       "      require([\"vega-embed\"], displayChart, err => showError(`Error loading script: ${err.message}`));\n",
       "    } else {\n",
       "      maybeLoadScript(\"vega\", \"5\")\n",
       "        .then(() => maybeLoadScript(\"vega-lite\", \"4.17.0\"))\n",
       "        .then(() => maybeLoadScript(\"vega-embed\", \"6\"))\n",
       "        .catch(showError)\n",
       "        .then(() => displayChart(vegaEmbed));\n",
       "    }\n",
       "  })({\"usermeta\": {\"embedOptions\": {\"theme\": \"fivethirtyeight\"}}, \"config\": {\"view\": {\"continuousWidth\": 400, \"continuousHeight\": 300}, \"axis\": {\"domainColor\": \"#cbcbcb\", \"grid\": true, \"gridColor\": \"#cbcbcb\", \"gridWidth\": 1, \"labelColor\": \"#474747\", \"labelFont\": \"Nunito Sans\", \"labelFontSize\": 10, \"labelPadding\": 4, \"tickColor\": \"#cbcbcb\", \"tickSize\": 10, \"titleColor\": \"#333\", \"titleFont\": \"Raleway\", \"titleFontSize\": 12, \"titlePadding\": 10}, \"axisBand\": {\"grid\": false}, \"background\": \"white\", \"font\": \"Raleway\", \"header\": {\"labelFont\": \"Nunito Sans\", \"titleFont\": \"Raleway\"}, \"legend\": {\"labelColor\": \"#333\", \"labelFont\": \"Nunito Sans\", \"labelFontSize\": 11, \"labelLimit\": 0, \"padding\": 1, \"symbolSize\": 30, \"symbolType\": \"square\", \"titleColor\": \"#333\", \"titleFont\": \"Raleway\", \"titleFontSize\": 14, \"titlePadding\": 10}, \"title\": {\"anchor\": \"middle\", \"font\": \"Raleway\", \"fontSize\": 18, \"fontWeight\": 300, \"offset\": 20}}, \"data\": {\"name\": \"data-62416e93d39436f7fb5f29a421ba03dc\"}, \"mark\": \"bar\", \"encoding\": {\"color\": {\"field\": \"prepared_y\", \"legend\": {\"title\": \"Year\"}, \"scale\": {\"range\": [\"#B9D6DF\", \"#8CBCCB\", \"#2EA8CE\", \"#136C97\", \"#0B405B\"]}, \"type\": \"quantitative\"}, \"x\": {\"field\": \"prepared_y\", \"sort\": \"-y\", \"title\": \"Year\", \"type\": \"quantitative\"}, \"y\": {\"field\": \"ac_requested_sum\", \"title\": \"Ac Requested Sum\", \"type\": \"quantitative\"}}, \"height\": 250, \"title\": \"Year by Ac Requested Sum\", \"width\": 400, \"$schema\": \"https://vega.github.io/schema/vega-lite/v4.17.0.json\", \"datasets\": {\"data-62416e93d39436f7fb5f29a421ba03dc\": [{\"prepared_y\": 2021, \"dist\": 11, \"ac_requested_sum\": 54141019.0, \"fed_requested_sum\": 47449681.58, \"total_requested_sum\": 50960061.87000001, \"ac_requested_mean\": 594956.2527472527, \"fed_requested_mean\": 521425.0723076923, \"total_requested_mean\": 560000.67989011, \"unique_mpo\": 3.0, \"unique_prefix\": 27.0, \"unique_primary_agency_name\": 20.0, \"unique_project_location\": 73.0, \"unique_project_no\": 76.0, \"unique_type_of_work\": 75.0}, {\"prepared_y\": 2020, \"dist\": 11, \"ac_requested_sum\": 5286649.0, \"fed_requested_sum\": 119424707.24, \"total_requested_sum\": 151733018.07999998, \"ac_requested_mean\": 40356.099236641225, \"fed_requested_mean\": 911638.9865648855, \"total_requested_mean\": 1158267.3135877862, \"unique_mpo\": 3.0, \"unique_prefix\": 28.0, \"unique_primary_agency_name\": 23.0, \"unique_project_location\": 104.0, \"unique_project_no\": 111.0, \"unique_type_of_work\": 93.0}, {\"prepared_y\": 2019, \"dist\": 11, \"ac_requested_sum\": -19971304.0, \"fed_requested_sum\": 62159902.64, \"total_requested_sum\": 69392790.82000001, \"ac_requested_mean\": -183222.9724770642, \"fed_requested_mean\": 570274.336146789, \"total_requested_mean\": 636631.108440367, \"unique_mpo\": 2.0, \"unique_prefix\": 22.0, \"unique_primary_agency_name\": 22.0, \"unique_project_location\": 90.0, \"unique_project_no\": 90.0, \"unique_type_of_work\": 80.0}, {\"prepared_y\": 2018, \"dist\": 11, \"ac_requested_sum\": 39547944.0, \"fed_requested_sum\": 56736895.519999996, \"total_requested_sum\": 109554198.54, \"ac_requested_mean\": 380268.6923076923, \"fed_requested_mean\": 545547.0723076923, \"total_requested_mean\": 1053405.7551923078, \"unique_mpo\": 2.0, \"unique_prefix\": 29.0, \"unique_primary_agency_name\": 21.0, \"unique_project_location\": 81.0, \"unique_project_no\": 85.0, \"unique_type_of_work\": 84.0}, {\"prepared_y\": 2017, \"dist\": 11, \"ac_requested_sum\": 79668325.0, \"fed_requested_sum\": 52728400.99, \"total_requested_sum\": 153790118.85999998, \"ac_requested_mean\": 781062.0098039216, \"fed_requested_mean\": 516945.10774509807, \"total_requested_mean\": 1507746.2633333332, \"unique_mpo\": 3.0, \"unique_prefix\": 22.0, \"unique_primary_agency_name\": 25.0, \"unique_project_location\": 90.0, \"unique_project_no\": 91.0, \"unique_type_of_work\": 88.0}, {\"prepared_y\": 2016, \"dist\": 11, \"ac_requested_sum\": 165393693.0, \"fed_requested_sum\": 103380124.7, \"total_requested_sum\": 359905282.95, \"ac_requested_mean\": 1355686.0081967213, \"fed_requested_mean\": 847378.0713114755, \"total_requested_mean\": 2950043.3028688524, \"unique_mpo\": 3.0, \"unique_prefix\": 29.0, \"unique_primary_agency_name\": 23.0, \"unique_project_location\": 101.0, \"unique_project_no\": 105.0, \"unique_type_of_work\": 98.0}, {\"prepared_y\": 2015, \"dist\": 11, \"ac_requested_sum\": 45445388.0, \"fed_requested_sum\": 46553372.18, \"total_requested_sum\": 196077466.16, \"ac_requested_mean\": 363563.104, \"fed_requested_mean\": 372426.97744, \"total_requested_mean\": 1568619.72928, \"unique_mpo\": 6.0, \"unique_prefix\": 28.0, \"unique_primary_agency_name\": 21.0, \"unique_project_location\": 100.0, \"unique_project_no\": 102.0, \"unique_type_of_work\": 96.0}, {\"prepared_y\": 2014, \"dist\": 11, \"ac_requested_sum\": 0.0, \"fed_requested_sum\": 47694110.84, \"total_requested_sum\": 61749532.44, \"ac_requested_mean\": 0.0, \"fed_requested_mean\": 381552.88672, \"total_requested_mean\": 493996.25951999996, \"unique_mpo\": 10.0, \"unique_prefix\": 29.0, \"unique_primary_agency_name\": 25.0, \"unique_project_location\": 102.0, \"unique_project_no\": 109.0, \"unique_type_of_work\": 97.0}, {\"prepared_y\": 2013, \"dist\": 11, \"ac_requested_sum\": 0.0, \"fed_requested_sum\": 3890130.7, \"total_requested_sum\": 4317169.63, \"ac_requested_mean\": 0.0, \"fed_requested_mean\": 432236.7444444445, \"total_requested_mean\": 479685.51444444444, \"unique_mpo\": 4.0, \"unique_prefix\": 7.0, \"unique_primary_agency_name\": 8.0, \"unique_project_location\": 9.0, \"unique_project_no\": 9.0, \"unique_type_of_work\": 9.0}, {\"prepared_y\": 2011, \"dist\": 11, \"ac_requested_sum\": 0.0, \"fed_requested_sum\": 900000.0, \"total_requested_sum\": 1224000.0, \"ac_requested_mean\": 0.0, \"fed_requested_mean\": 900000.0, \"total_requested_mean\": 1224000.0, \"unique_mpo\": 1.0, \"unique_prefix\": 1.0, \"unique_primary_agency_name\": 1.0, \"unique_project_location\": 1.0, \"unique_project_no\": 1.0, \"unique_type_of_work\": 1.0}]}}, {\"mode\": \"vega-lite\"});\n",
       "</script>"
      ],
      "text/plain": [
       "alt.Chart(...)"
      ]
     },
     "metadata": {},
     "output_type": "display_data"
    },
    {
     "data": {
      "text/markdown": [
       "**Fed Requested Sum Over Prepared Year**"
      ],
      "text/plain": [
       "<IPython.core.display.Markdown object>"
      ]
     },
     "metadata": {},
     "output_type": "display_data"
    },
    {
     "data": {
      "text/html": [
       "\n",
       "<div id=\"altair-viz-14fa60510c4e42d18f8dccd91b44aee0\"></div>\n",
       "<script type=\"text/javascript\">\n",
       "  var VEGA_DEBUG = (typeof VEGA_DEBUG == \"undefined\") ? {} : VEGA_DEBUG;\n",
       "  (function(spec, embedOpt){\n",
       "    let outputDiv = document.currentScript.previousElementSibling;\n",
       "    if (outputDiv.id !== \"altair-viz-14fa60510c4e42d18f8dccd91b44aee0\") {\n",
       "      outputDiv = document.getElementById(\"altair-viz-14fa60510c4e42d18f8dccd91b44aee0\");\n",
       "    }\n",
       "    const paths = {\n",
       "      \"vega\": \"https://cdn.jsdelivr.net/npm//vega@5?noext\",\n",
       "      \"vega-lib\": \"https://cdn.jsdelivr.net/npm//vega-lib?noext\",\n",
       "      \"vega-lite\": \"https://cdn.jsdelivr.net/npm//vega-lite@4.17.0?noext\",\n",
       "      \"vega-embed\": \"https://cdn.jsdelivr.net/npm//vega-embed@6?noext\",\n",
       "    };\n",
       "\n",
       "    function maybeLoadScript(lib, version) {\n",
       "      var key = `${lib.replace(\"-\", \"\")}_version`;\n",
       "      return (VEGA_DEBUG[key] == version) ?\n",
       "        Promise.resolve(paths[lib]) :\n",
       "        new Promise(function(resolve, reject) {\n",
       "          var s = document.createElement('script');\n",
       "          document.getElementsByTagName(\"head\")[0].appendChild(s);\n",
       "          s.async = true;\n",
       "          s.onload = () => {\n",
       "            VEGA_DEBUG[key] = version;\n",
       "            return resolve(paths[lib]);\n",
       "          };\n",
       "          s.onerror = () => reject(`Error loading script: ${paths[lib]}`);\n",
       "          s.src = paths[lib];\n",
       "        });\n",
       "    }\n",
       "\n",
       "    function showError(err) {\n",
       "      outputDiv.innerHTML = `<div class=\"error\" style=\"color:red;\">${err}</div>`;\n",
       "      throw err;\n",
       "    }\n",
       "\n",
       "    function displayChart(vegaEmbed) {\n",
       "      vegaEmbed(outputDiv, spec, embedOpt)\n",
       "        .catch(err => showError(`Javascript Error: ${err.message}<br>This usually means there's a typo in your chart specification. See the javascript console for the full traceback.`));\n",
       "    }\n",
       "\n",
       "    if(typeof define === \"function\" && define.amd) {\n",
       "      requirejs.config({paths});\n",
       "      require([\"vega-embed\"], displayChart, err => showError(`Error loading script: ${err.message}`));\n",
       "    } else {\n",
       "      maybeLoadScript(\"vega\", \"5\")\n",
       "        .then(() => maybeLoadScript(\"vega-lite\", \"4.17.0\"))\n",
       "        .then(() => maybeLoadScript(\"vega-embed\", \"6\"))\n",
       "        .catch(showError)\n",
       "        .then(() => displayChart(vegaEmbed));\n",
       "    }\n",
       "  })({\"usermeta\": {\"embedOptions\": {\"theme\": \"fivethirtyeight\"}}, \"config\": {\"view\": {\"continuousWidth\": 400, \"continuousHeight\": 300}, \"axis\": {\"domainColor\": \"#cbcbcb\", \"grid\": true, \"gridColor\": \"#cbcbcb\", \"gridWidth\": 1, \"labelColor\": \"#474747\", \"labelFont\": \"Nunito Sans\", \"labelFontSize\": 10, \"labelPadding\": 4, \"tickColor\": \"#cbcbcb\", \"tickSize\": 10, \"titleColor\": \"#333\", \"titleFont\": \"Raleway\", \"titleFontSize\": 12, \"titlePadding\": 10}, \"axisBand\": {\"grid\": false}, \"background\": \"white\", \"font\": \"Raleway\", \"header\": {\"labelFont\": \"Nunito Sans\", \"titleFont\": \"Raleway\"}, \"legend\": {\"labelColor\": \"#333\", \"labelFont\": \"Nunito Sans\", \"labelFontSize\": 11, \"labelLimit\": 0, \"padding\": 1, \"symbolSize\": 30, \"symbolType\": \"square\", \"titleColor\": \"#333\", \"titleFont\": \"Raleway\", \"titleFontSize\": 14, \"titlePadding\": 10}, \"title\": {\"anchor\": \"middle\", \"font\": \"Raleway\", \"fontSize\": 18, \"fontWeight\": 300, \"offset\": 20}}, \"data\": {\"name\": \"data-62416e93d39436f7fb5f29a421ba03dc\"}, \"mark\": \"bar\", \"encoding\": {\"color\": {\"field\": \"prepared_y\", \"legend\": {\"title\": \"Year\"}, \"scale\": {\"range\": [\"#B9D6DF\", \"#8CBCCB\", \"#2EA8CE\", \"#136C97\", \"#0B405B\"]}, \"type\": \"quantitative\"}, \"x\": {\"field\": \"prepared_y\", \"sort\": \"-y\", \"title\": \"Year\", \"type\": \"quantitative\"}, \"y\": {\"field\": \"fed_requested_sum\", \"title\": \"Fed Requested Sum\", \"type\": \"quantitative\"}}, \"height\": 250, \"title\": \"Year by Fed Requested Sum\", \"width\": 400, \"$schema\": \"https://vega.github.io/schema/vega-lite/v4.17.0.json\", \"datasets\": {\"data-62416e93d39436f7fb5f29a421ba03dc\": [{\"prepared_y\": 2021, \"dist\": 11, \"ac_requested_sum\": 54141019.0, \"fed_requested_sum\": 47449681.58, \"total_requested_sum\": 50960061.87000001, \"ac_requested_mean\": 594956.2527472527, \"fed_requested_mean\": 521425.0723076923, \"total_requested_mean\": 560000.67989011, \"unique_mpo\": 3.0, \"unique_prefix\": 27.0, \"unique_primary_agency_name\": 20.0, \"unique_project_location\": 73.0, \"unique_project_no\": 76.0, \"unique_type_of_work\": 75.0}, {\"prepared_y\": 2020, \"dist\": 11, \"ac_requested_sum\": 5286649.0, \"fed_requested_sum\": 119424707.24, \"total_requested_sum\": 151733018.07999998, \"ac_requested_mean\": 40356.099236641225, \"fed_requested_mean\": 911638.9865648855, \"total_requested_mean\": 1158267.3135877862, \"unique_mpo\": 3.0, \"unique_prefix\": 28.0, \"unique_primary_agency_name\": 23.0, \"unique_project_location\": 104.0, \"unique_project_no\": 111.0, \"unique_type_of_work\": 93.0}, {\"prepared_y\": 2019, \"dist\": 11, \"ac_requested_sum\": -19971304.0, \"fed_requested_sum\": 62159902.64, \"total_requested_sum\": 69392790.82000001, \"ac_requested_mean\": -183222.9724770642, \"fed_requested_mean\": 570274.336146789, \"total_requested_mean\": 636631.108440367, \"unique_mpo\": 2.0, \"unique_prefix\": 22.0, \"unique_primary_agency_name\": 22.0, \"unique_project_location\": 90.0, \"unique_project_no\": 90.0, \"unique_type_of_work\": 80.0}, {\"prepared_y\": 2018, \"dist\": 11, \"ac_requested_sum\": 39547944.0, \"fed_requested_sum\": 56736895.519999996, \"total_requested_sum\": 109554198.54, \"ac_requested_mean\": 380268.6923076923, \"fed_requested_mean\": 545547.0723076923, \"total_requested_mean\": 1053405.7551923078, \"unique_mpo\": 2.0, \"unique_prefix\": 29.0, \"unique_primary_agency_name\": 21.0, \"unique_project_location\": 81.0, \"unique_project_no\": 85.0, \"unique_type_of_work\": 84.0}, {\"prepared_y\": 2017, \"dist\": 11, \"ac_requested_sum\": 79668325.0, \"fed_requested_sum\": 52728400.99, \"total_requested_sum\": 153790118.85999998, \"ac_requested_mean\": 781062.0098039216, \"fed_requested_mean\": 516945.10774509807, \"total_requested_mean\": 1507746.2633333332, \"unique_mpo\": 3.0, \"unique_prefix\": 22.0, \"unique_primary_agency_name\": 25.0, \"unique_project_location\": 90.0, \"unique_project_no\": 91.0, \"unique_type_of_work\": 88.0}, {\"prepared_y\": 2016, \"dist\": 11, \"ac_requested_sum\": 165393693.0, \"fed_requested_sum\": 103380124.7, \"total_requested_sum\": 359905282.95, \"ac_requested_mean\": 1355686.0081967213, \"fed_requested_mean\": 847378.0713114755, \"total_requested_mean\": 2950043.3028688524, \"unique_mpo\": 3.0, \"unique_prefix\": 29.0, \"unique_primary_agency_name\": 23.0, \"unique_project_location\": 101.0, \"unique_project_no\": 105.0, \"unique_type_of_work\": 98.0}, {\"prepared_y\": 2015, \"dist\": 11, \"ac_requested_sum\": 45445388.0, \"fed_requested_sum\": 46553372.18, \"total_requested_sum\": 196077466.16, \"ac_requested_mean\": 363563.104, \"fed_requested_mean\": 372426.97744, \"total_requested_mean\": 1568619.72928, \"unique_mpo\": 6.0, \"unique_prefix\": 28.0, \"unique_primary_agency_name\": 21.0, \"unique_project_location\": 100.0, \"unique_project_no\": 102.0, \"unique_type_of_work\": 96.0}, {\"prepared_y\": 2014, \"dist\": 11, \"ac_requested_sum\": 0.0, \"fed_requested_sum\": 47694110.84, \"total_requested_sum\": 61749532.44, \"ac_requested_mean\": 0.0, \"fed_requested_mean\": 381552.88672, \"total_requested_mean\": 493996.25951999996, \"unique_mpo\": 10.0, \"unique_prefix\": 29.0, \"unique_primary_agency_name\": 25.0, \"unique_project_location\": 102.0, \"unique_project_no\": 109.0, \"unique_type_of_work\": 97.0}, {\"prepared_y\": 2013, \"dist\": 11, \"ac_requested_sum\": 0.0, \"fed_requested_sum\": 3890130.7, \"total_requested_sum\": 4317169.63, \"ac_requested_mean\": 0.0, \"fed_requested_mean\": 432236.7444444445, \"total_requested_mean\": 479685.51444444444, \"unique_mpo\": 4.0, \"unique_prefix\": 7.0, \"unique_primary_agency_name\": 8.0, \"unique_project_location\": 9.0, \"unique_project_no\": 9.0, \"unique_type_of_work\": 9.0}, {\"prepared_y\": 2011, \"dist\": 11, \"ac_requested_sum\": 0.0, \"fed_requested_sum\": 900000.0, \"total_requested_sum\": 1224000.0, \"ac_requested_mean\": 0.0, \"fed_requested_mean\": 900000.0, \"total_requested_mean\": 1224000.0, \"unique_mpo\": 1.0, \"unique_prefix\": 1.0, \"unique_primary_agency_name\": 1.0, \"unique_project_location\": 1.0, \"unique_project_no\": 1.0, \"unique_type_of_work\": 1.0}]}}, {\"mode\": \"vega-lite\"});\n",
       "</script>"
      ],
      "text/plain": [
       "alt.Chart(...)"
      ]
     },
     "metadata": {},
     "output_type": "display_data"
    },
    {
     "data": {
      "text/markdown": [
       "**Total Requested Sum Over Prepared Year**"
      ],
      "text/plain": [
       "<IPython.core.display.Markdown object>"
      ]
     },
     "metadata": {},
     "output_type": "display_data"
    },
    {
     "data": {
      "text/html": [
       "\n",
       "<div id=\"altair-viz-57f5fdac797b4d029e921afac32d433d\"></div>\n",
       "<script type=\"text/javascript\">\n",
       "  var VEGA_DEBUG = (typeof VEGA_DEBUG == \"undefined\") ? {} : VEGA_DEBUG;\n",
       "  (function(spec, embedOpt){\n",
       "    let outputDiv = document.currentScript.previousElementSibling;\n",
       "    if (outputDiv.id !== \"altair-viz-57f5fdac797b4d029e921afac32d433d\") {\n",
       "      outputDiv = document.getElementById(\"altair-viz-57f5fdac797b4d029e921afac32d433d\");\n",
       "    }\n",
       "    const paths = {\n",
       "      \"vega\": \"https://cdn.jsdelivr.net/npm//vega@5?noext\",\n",
       "      \"vega-lib\": \"https://cdn.jsdelivr.net/npm//vega-lib?noext\",\n",
       "      \"vega-lite\": \"https://cdn.jsdelivr.net/npm//vega-lite@4.17.0?noext\",\n",
       "      \"vega-embed\": \"https://cdn.jsdelivr.net/npm//vega-embed@6?noext\",\n",
       "    };\n",
       "\n",
       "    function maybeLoadScript(lib, version) {\n",
       "      var key = `${lib.replace(\"-\", \"\")}_version`;\n",
       "      return (VEGA_DEBUG[key] == version) ?\n",
       "        Promise.resolve(paths[lib]) :\n",
       "        new Promise(function(resolve, reject) {\n",
       "          var s = document.createElement('script');\n",
       "          document.getElementsByTagName(\"head\")[0].appendChild(s);\n",
       "          s.async = true;\n",
       "          s.onload = () => {\n",
       "            VEGA_DEBUG[key] = version;\n",
       "            return resolve(paths[lib]);\n",
       "          };\n",
       "          s.onerror = () => reject(`Error loading script: ${paths[lib]}`);\n",
       "          s.src = paths[lib];\n",
       "        });\n",
       "    }\n",
       "\n",
       "    function showError(err) {\n",
       "      outputDiv.innerHTML = `<div class=\"error\" style=\"color:red;\">${err}</div>`;\n",
       "      throw err;\n",
       "    }\n",
       "\n",
       "    function displayChart(vegaEmbed) {\n",
       "      vegaEmbed(outputDiv, spec, embedOpt)\n",
       "        .catch(err => showError(`Javascript Error: ${err.message}<br>This usually means there's a typo in your chart specification. See the javascript console for the full traceback.`));\n",
       "    }\n",
       "\n",
       "    if(typeof define === \"function\" && define.amd) {\n",
       "      requirejs.config({paths});\n",
       "      require([\"vega-embed\"], displayChart, err => showError(`Error loading script: ${err.message}`));\n",
       "    } else {\n",
       "      maybeLoadScript(\"vega\", \"5\")\n",
       "        .then(() => maybeLoadScript(\"vega-lite\", \"4.17.0\"))\n",
       "        .then(() => maybeLoadScript(\"vega-embed\", \"6\"))\n",
       "        .catch(showError)\n",
       "        .then(() => displayChart(vegaEmbed));\n",
       "    }\n",
       "  })({\"usermeta\": {\"embedOptions\": {\"theme\": \"fivethirtyeight\"}}, \"config\": {\"view\": {\"continuousWidth\": 400, \"continuousHeight\": 300}, \"axis\": {\"domainColor\": \"#cbcbcb\", \"grid\": true, \"gridColor\": \"#cbcbcb\", \"gridWidth\": 1, \"labelColor\": \"#474747\", \"labelFont\": \"Nunito Sans\", \"labelFontSize\": 10, \"labelPadding\": 4, \"tickColor\": \"#cbcbcb\", \"tickSize\": 10, \"titleColor\": \"#333\", \"titleFont\": \"Raleway\", \"titleFontSize\": 12, \"titlePadding\": 10}, \"axisBand\": {\"grid\": false}, \"background\": \"white\", \"font\": \"Raleway\", \"header\": {\"labelFont\": \"Nunito Sans\", \"titleFont\": \"Raleway\"}, \"legend\": {\"labelColor\": \"#333\", \"labelFont\": \"Nunito Sans\", \"labelFontSize\": 11, \"labelLimit\": 0, \"padding\": 1, \"symbolSize\": 30, \"symbolType\": \"square\", \"titleColor\": \"#333\", \"titleFont\": \"Raleway\", \"titleFontSize\": 14, \"titlePadding\": 10}, \"title\": {\"anchor\": \"middle\", \"font\": \"Raleway\", \"fontSize\": 18, \"fontWeight\": 300, \"offset\": 20}}, \"data\": {\"name\": \"data-62416e93d39436f7fb5f29a421ba03dc\"}, \"mark\": \"bar\", \"encoding\": {\"color\": {\"field\": \"prepared_y\", \"legend\": {\"title\": \"Year\"}, \"scale\": {\"range\": [\"#B9D6DF\", \"#8CBCCB\", \"#2EA8CE\", \"#136C97\", \"#0B405B\"]}, \"type\": \"quantitative\"}, \"x\": {\"field\": \"prepared_y\", \"sort\": \"-y\", \"title\": \"Year\", \"type\": \"quantitative\"}, \"y\": {\"field\": \"total_requested_sum\", \"title\": \"Total Requested Sum\", \"type\": \"quantitative\"}}, \"height\": 250, \"title\": \"Year by Total Requested Sum\", \"width\": 400, \"$schema\": \"https://vega.github.io/schema/vega-lite/v4.17.0.json\", \"datasets\": {\"data-62416e93d39436f7fb5f29a421ba03dc\": [{\"prepared_y\": 2021, \"dist\": 11, \"ac_requested_sum\": 54141019.0, \"fed_requested_sum\": 47449681.58, \"total_requested_sum\": 50960061.87000001, \"ac_requested_mean\": 594956.2527472527, \"fed_requested_mean\": 521425.0723076923, \"total_requested_mean\": 560000.67989011, \"unique_mpo\": 3.0, \"unique_prefix\": 27.0, \"unique_primary_agency_name\": 20.0, \"unique_project_location\": 73.0, \"unique_project_no\": 76.0, \"unique_type_of_work\": 75.0}, {\"prepared_y\": 2020, \"dist\": 11, \"ac_requested_sum\": 5286649.0, \"fed_requested_sum\": 119424707.24, \"total_requested_sum\": 151733018.07999998, \"ac_requested_mean\": 40356.099236641225, \"fed_requested_mean\": 911638.9865648855, \"total_requested_mean\": 1158267.3135877862, \"unique_mpo\": 3.0, \"unique_prefix\": 28.0, \"unique_primary_agency_name\": 23.0, \"unique_project_location\": 104.0, \"unique_project_no\": 111.0, \"unique_type_of_work\": 93.0}, {\"prepared_y\": 2019, \"dist\": 11, \"ac_requested_sum\": -19971304.0, \"fed_requested_sum\": 62159902.64, \"total_requested_sum\": 69392790.82000001, \"ac_requested_mean\": -183222.9724770642, \"fed_requested_mean\": 570274.336146789, \"total_requested_mean\": 636631.108440367, \"unique_mpo\": 2.0, \"unique_prefix\": 22.0, \"unique_primary_agency_name\": 22.0, \"unique_project_location\": 90.0, \"unique_project_no\": 90.0, \"unique_type_of_work\": 80.0}, {\"prepared_y\": 2018, \"dist\": 11, \"ac_requested_sum\": 39547944.0, \"fed_requested_sum\": 56736895.519999996, \"total_requested_sum\": 109554198.54, \"ac_requested_mean\": 380268.6923076923, \"fed_requested_mean\": 545547.0723076923, \"total_requested_mean\": 1053405.7551923078, \"unique_mpo\": 2.0, \"unique_prefix\": 29.0, \"unique_primary_agency_name\": 21.0, \"unique_project_location\": 81.0, \"unique_project_no\": 85.0, \"unique_type_of_work\": 84.0}, {\"prepared_y\": 2017, \"dist\": 11, \"ac_requested_sum\": 79668325.0, \"fed_requested_sum\": 52728400.99, \"total_requested_sum\": 153790118.85999998, \"ac_requested_mean\": 781062.0098039216, \"fed_requested_mean\": 516945.10774509807, \"total_requested_mean\": 1507746.2633333332, \"unique_mpo\": 3.0, \"unique_prefix\": 22.0, \"unique_primary_agency_name\": 25.0, \"unique_project_location\": 90.0, \"unique_project_no\": 91.0, \"unique_type_of_work\": 88.0}, {\"prepared_y\": 2016, \"dist\": 11, \"ac_requested_sum\": 165393693.0, \"fed_requested_sum\": 103380124.7, \"total_requested_sum\": 359905282.95, \"ac_requested_mean\": 1355686.0081967213, \"fed_requested_mean\": 847378.0713114755, \"total_requested_mean\": 2950043.3028688524, \"unique_mpo\": 3.0, \"unique_prefix\": 29.0, \"unique_primary_agency_name\": 23.0, \"unique_project_location\": 101.0, \"unique_project_no\": 105.0, \"unique_type_of_work\": 98.0}, {\"prepared_y\": 2015, \"dist\": 11, \"ac_requested_sum\": 45445388.0, \"fed_requested_sum\": 46553372.18, \"total_requested_sum\": 196077466.16, \"ac_requested_mean\": 363563.104, \"fed_requested_mean\": 372426.97744, \"total_requested_mean\": 1568619.72928, \"unique_mpo\": 6.0, \"unique_prefix\": 28.0, \"unique_primary_agency_name\": 21.0, \"unique_project_location\": 100.0, \"unique_project_no\": 102.0, \"unique_type_of_work\": 96.0}, {\"prepared_y\": 2014, \"dist\": 11, \"ac_requested_sum\": 0.0, \"fed_requested_sum\": 47694110.84, \"total_requested_sum\": 61749532.44, \"ac_requested_mean\": 0.0, \"fed_requested_mean\": 381552.88672, \"total_requested_mean\": 493996.25951999996, \"unique_mpo\": 10.0, \"unique_prefix\": 29.0, \"unique_primary_agency_name\": 25.0, \"unique_project_location\": 102.0, \"unique_project_no\": 109.0, \"unique_type_of_work\": 97.0}, {\"prepared_y\": 2013, \"dist\": 11, \"ac_requested_sum\": 0.0, \"fed_requested_sum\": 3890130.7, \"total_requested_sum\": 4317169.63, \"ac_requested_mean\": 0.0, \"fed_requested_mean\": 432236.7444444445, \"total_requested_mean\": 479685.51444444444, \"unique_mpo\": 4.0, \"unique_prefix\": 7.0, \"unique_primary_agency_name\": 8.0, \"unique_project_location\": 9.0, \"unique_project_no\": 9.0, \"unique_type_of_work\": 9.0}, {\"prepared_y\": 2011, \"dist\": 11, \"ac_requested_sum\": 0.0, \"fed_requested_sum\": 900000.0, \"total_requested_sum\": 1224000.0, \"ac_requested_mean\": 0.0, \"fed_requested_mean\": 900000.0, \"total_requested_mean\": 1224000.0, \"unique_mpo\": 1.0, \"unique_prefix\": 1.0, \"unique_primary_agency_name\": 1.0, \"unique_project_location\": 1.0, \"unique_project_no\": 1.0, \"unique_type_of_work\": 1.0}]}}, {\"mode\": \"vega-lite\"});\n",
       "</script>"
      ],
      "text/plain": [
       "alt.Chart(...)"
      ]
     },
     "metadata": {},
     "output_type": "display_data"
    },
    {
     "data": {
      "text/markdown": [
       "**Ac Requested Mean Over Prepared Year**"
      ],
      "text/plain": [
       "<IPython.core.display.Markdown object>"
      ]
     },
     "metadata": {},
     "output_type": "display_data"
    },
    {
     "data": {
      "text/html": [
       "\n",
       "<div id=\"altair-viz-c8c9f7110d2c460d9de5e361cac80b98\"></div>\n",
       "<script type=\"text/javascript\">\n",
       "  var VEGA_DEBUG = (typeof VEGA_DEBUG == \"undefined\") ? {} : VEGA_DEBUG;\n",
       "  (function(spec, embedOpt){\n",
       "    let outputDiv = document.currentScript.previousElementSibling;\n",
       "    if (outputDiv.id !== \"altair-viz-c8c9f7110d2c460d9de5e361cac80b98\") {\n",
       "      outputDiv = document.getElementById(\"altair-viz-c8c9f7110d2c460d9de5e361cac80b98\");\n",
       "    }\n",
       "    const paths = {\n",
       "      \"vega\": \"https://cdn.jsdelivr.net/npm//vega@5?noext\",\n",
       "      \"vega-lib\": \"https://cdn.jsdelivr.net/npm//vega-lib?noext\",\n",
       "      \"vega-lite\": \"https://cdn.jsdelivr.net/npm//vega-lite@4.17.0?noext\",\n",
       "      \"vega-embed\": \"https://cdn.jsdelivr.net/npm//vega-embed@6?noext\",\n",
       "    };\n",
       "\n",
       "    function maybeLoadScript(lib, version) {\n",
       "      var key = `${lib.replace(\"-\", \"\")}_version`;\n",
       "      return (VEGA_DEBUG[key] == version) ?\n",
       "        Promise.resolve(paths[lib]) :\n",
       "        new Promise(function(resolve, reject) {\n",
       "          var s = document.createElement('script');\n",
       "          document.getElementsByTagName(\"head\")[0].appendChild(s);\n",
       "          s.async = true;\n",
       "          s.onload = () => {\n",
       "            VEGA_DEBUG[key] = version;\n",
       "            return resolve(paths[lib]);\n",
       "          };\n",
       "          s.onerror = () => reject(`Error loading script: ${paths[lib]}`);\n",
       "          s.src = paths[lib];\n",
       "        });\n",
       "    }\n",
       "\n",
       "    function showError(err) {\n",
       "      outputDiv.innerHTML = `<div class=\"error\" style=\"color:red;\">${err}</div>`;\n",
       "      throw err;\n",
       "    }\n",
       "\n",
       "    function displayChart(vegaEmbed) {\n",
       "      vegaEmbed(outputDiv, spec, embedOpt)\n",
       "        .catch(err => showError(`Javascript Error: ${err.message}<br>This usually means there's a typo in your chart specification. See the javascript console for the full traceback.`));\n",
       "    }\n",
       "\n",
       "    if(typeof define === \"function\" && define.amd) {\n",
       "      requirejs.config({paths});\n",
       "      require([\"vega-embed\"], displayChart, err => showError(`Error loading script: ${err.message}`));\n",
       "    } else {\n",
       "      maybeLoadScript(\"vega\", \"5\")\n",
       "        .then(() => maybeLoadScript(\"vega-lite\", \"4.17.0\"))\n",
       "        .then(() => maybeLoadScript(\"vega-embed\", \"6\"))\n",
       "        .catch(showError)\n",
       "        .then(() => displayChart(vegaEmbed));\n",
       "    }\n",
       "  })({\"usermeta\": {\"embedOptions\": {\"theme\": \"fivethirtyeight\"}}, \"config\": {\"view\": {\"continuousWidth\": 400, \"continuousHeight\": 300}, \"axis\": {\"domainColor\": \"#cbcbcb\", \"grid\": true, \"gridColor\": \"#cbcbcb\", \"gridWidth\": 1, \"labelColor\": \"#474747\", \"labelFont\": \"Nunito Sans\", \"labelFontSize\": 10, \"labelPadding\": 4, \"tickColor\": \"#cbcbcb\", \"tickSize\": 10, \"titleColor\": \"#333\", \"titleFont\": \"Raleway\", \"titleFontSize\": 12, \"titlePadding\": 10}, \"axisBand\": {\"grid\": false}, \"background\": \"white\", \"font\": \"Raleway\", \"header\": {\"labelFont\": \"Nunito Sans\", \"titleFont\": \"Raleway\"}, \"legend\": {\"labelColor\": \"#333\", \"labelFont\": \"Nunito Sans\", \"labelFontSize\": 11, \"labelLimit\": 0, \"padding\": 1, \"symbolSize\": 30, \"symbolType\": \"square\", \"titleColor\": \"#333\", \"titleFont\": \"Raleway\", \"titleFontSize\": 14, \"titlePadding\": 10}, \"title\": {\"anchor\": \"middle\", \"font\": \"Raleway\", \"fontSize\": 18, \"fontWeight\": 300, \"offset\": 20}}, \"data\": {\"name\": \"data-62416e93d39436f7fb5f29a421ba03dc\"}, \"mark\": \"bar\", \"encoding\": {\"color\": {\"field\": \"prepared_y\", \"legend\": {\"title\": \"Year\"}, \"scale\": {\"range\": [\"#B9D6DF\", \"#8CBCCB\", \"#2EA8CE\", \"#136C97\", \"#0B405B\"]}, \"type\": \"quantitative\"}, \"x\": {\"field\": \"prepared_y\", \"sort\": \"-y\", \"title\": \"Year\", \"type\": \"quantitative\"}, \"y\": {\"field\": \"ac_requested_mean\", \"title\": \"Ac Requested Mean\", \"type\": \"quantitative\"}}, \"height\": 250, \"title\": \"Year by Ac Requested Mean\", \"width\": 400, \"$schema\": \"https://vega.github.io/schema/vega-lite/v4.17.0.json\", \"datasets\": {\"data-62416e93d39436f7fb5f29a421ba03dc\": [{\"prepared_y\": 2021, \"dist\": 11, \"ac_requested_sum\": 54141019.0, \"fed_requested_sum\": 47449681.58, \"total_requested_sum\": 50960061.87000001, \"ac_requested_mean\": 594956.2527472527, \"fed_requested_mean\": 521425.0723076923, \"total_requested_mean\": 560000.67989011, \"unique_mpo\": 3.0, \"unique_prefix\": 27.0, \"unique_primary_agency_name\": 20.0, \"unique_project_location\": 73.0, \"unique_project_no\": 76.0, \"unique_type_of_work\": 75.0}, {\"prepared_y\": 2020, \"dist\": 11, \"ac_requested_sum\": 5286649.0, \"fed_requested_sum\": 119424707.24, \"total_requested_sum\": 151733018.07999998, \"ac_requested_mean\": 40356.099236641225, \"fed_requested_mean\": 911638.9865648855, \"total_requested_mean\": 1158267.3135877862, \"unique_mpo\": 3.0, \"unique_prefix\": 28.0, \"unique_primary_agency_name\": 23.0, \"unique_project_location\": 104.0, \"unique_project_no\": 111.0, \"unique_type_of_work\": 93.0}, {\"prepared_y\": 2019, \"dist\": 11, \"ac_requested_sum\": -19971304.0, \"fed_requested_sum\": 62159902.64, \"total_requested_sum\": 69392790.82000001, \"ac_requested_mean\": -183222.9724770642, \"fed_requested_mean\": 570274.336146789, \"total_requested_mean\": 636631.108440367, \"unique_mpo\": 2.0, \"unique_prefix\": 22.0, \"unique_primary_agency_name\": 22.0, \"unique_project_location\": 90.0, \"unique_project_no\": 90.0, \"unique_type_of_work\": 80.0}, {\"prepared_y\": 2018, \"dist\": 11, \"ac_requested_sum\": 39547944.0, \"fed_requested_sum\": 56736895.519999996, \"total_requested_sum\": 109554198.54, \"ac_requested_mean\": 380268.6923076923, \"fed_requested_mean\": 545547.0723076923, \"total_requested_mean\": 1053405.7551923078, \"unique_mpo\": 2.0, \"unique_prefix\": 29.0, \"unique_primary_agency_name\": 21.0, \"unique_project_location\": 81.0, \"unique_project_no\": 85.0, \"unique_type_of_work\": 84.0}, {\"prepared_y\": 2017, \"dist\": 11, \"ac_requested_sum\": 79668325.0, \"fed_requested_sum\": 52728400.99, \"total_requested_sum\": 153790118.85999998, \"ac_requested_mean\": 781062.0098039216, \"fed_requested_mean\": 516945.10774509807, \"total_requested_mean\": 1507746.2633333332, \"unique_mpo\": 3.0, \"unique_prefix\": 22.0, \"unique_primary_agency_name\": 25.0, \"unique_project_location\": 90.0, \"unique_project_no\": 91.0, \"unique_type_of_work\": 88.0}, {\"prepared_y\": 2016, \"dist\": 11, \"ac_requested_sum\": 165393693.0, \"fed_requested_sum\": 103380124.7, \"total_requested_sum\": 359905282.95, \"ac_requested_mean\": 1355686.0081967213, \"fed_requested_mean\": 847378.0713114755, \"total_requested_mean\": 2950043.3028688524, \"unique_mpo\": 3.0, \"unique_prefix\": 29.0, \"unique_primary_agency_name\": 23.0, \"unique_project_location\": 101.0, \"unique_project_no\": 105.0, \"unique_type_of_work\": 98.0}, {\"prepared_y\": 2015, \"dist\": 11, \"ac_requested_sum\": 45445388.0, \"fed_requested_sum\": 46553372.18, \"total_requested_sum\": 196077466.16, \"ac_requested_mean\": 363563.104, \"fed_requested_mean\": 372426.97744, \"total_requested_mean\": 1568619.72928, \"unique_mpo\": 6.0, \"unique_prefix\": 28.0, \"unique_primary_agency_name\": 21.0, \"unique_project_location\": 100.0, \"unique_project_no\": 102.0, \"unique_type_of_work\": 96.0}, {\"prepared_y\": 2014, \"dist\": 11, \"ac_requested_sum\": 0.0, \"fed_requested_sum\": 47694110.84, \"total_requested_sum\": 61749532.44, \"ac_requested_mean\": 0.0, \"fed_requested_mean\": 381552.88672, \"total_requested_mean\": 493996.25951999996, \"unique_mpo\": 10.0, \"unique_prefix\": 29.0, \"unique_primary_agency_name\": 25.0, \"unique_project_location\": 102.0, \"unique_project_no\": 109.0, \"unique_type_of_work\": 97.0}, {\"prepared_y\": 2013, \"dist\": 11, \"ac_requested_sum\": 0.0, \"fed_requested_sum\": 3890130.7, \"total_requested_sum\": 4317169.63, \"ac_requested_mean\": 0.0, \"fed_requested_mean\": 432236.7444444445, \"total_requested_mean\": 479685.51444444444, \"unique_mpo\": 4.0, \"unique_prefix\": 7.0, \"unique_primary_agency_name\": 8.0, \"unique_project_location\": 9.0, \"unique_project_no\": 9.0, \"unique_type_of_work\": 9.0}, {\"prepared_y\": 2011, \"dist\": 11, \"ac_requested_sum\": 0.0, \"fed_requested_sum\": 900000.0, \"total_requested_sum\": 1224000.0, \"ac_requested_mean\": 0.0, \"fed_requested_mean\": 900000.0, \"total_requested_mean\": 1224000.0, \"unique_mpo\": 1.0, \"unique_prefix\": 1.0, \"unique_primary_agency_name\": 1.0, \"unique_project_location\": 1.0, \"unique_project_no\": 1.0, \"unique_type_of_work\": 1.0}]}}, {\"mode\": \"vega-lite\"});\n",
       "</script>"
      ],
      "text/plain": [
       "alt.Chart(...)"
      ]
     },
     "metadata": {},
     "output_type": "display_data"
    },
    {
     "data": {
      "text/markdown": [
       "**Fed Requested Mean Over Prepared Year**"
      ],
      "text/plain": [
       "<IPython.core.display.Markdown object>"
      ]
     },
     "metadata": {},
     "output_type": "display_data"
    },
    {
     "data": {
      "text/html": [
       "\n",
       "<div id=\"altair-viz-44a236f4024f4b1597cbe218779116ed\"></div>\n",
       "<script type=\"text/javascript\">\n",
       "  var VEGA_DEBUG = (typeof VEGA_DEBUG == \"undefined\") ? {} : VEGA_DEBUG;\n",
       "  (function(spec, embedOpt){\n",
       "    let outputDiv = document.currentScript.previousElementSibling;\n",
       "    if (outputDiv.id !== \"altair-viz-44a236f4024f4b1597cbe218779116ed\") {\n",
       "      outputDiv = document.getElementById(\"altair-viz-44a236f4024f4b1597cbe218779116ed\");\n",
       "    }\n",
       "    const paths = {\n",
       "      \"vega\": \"https://cdn.jsdelivr.net/npm//vega@5?noext\",\n",
       "      \"vega-lib\": \"https://cdn.jsdelivr.net/npm//vega-lib?noext\",\n",
       "      \"vega-lite\": \"https://cdn.jsdelivr.net/npm//vega-lite@4.17.0?noext\",\n",
       "      \"vega-embed\": \"https://cdn.jsdelivr.net/npm//vega-embed@6?noext\",\n",
       "    };\n",
       "\n",
       "    function maybeLoadScript(lib, version) {\n",
       "      var key = `${lib.replace(\"-\", \"\")}_version`;\n",
       "      return (VEGA_DEBUG[key] == version) ?\n",
       "        Promise.resolve(paths[lib]) :\n",
       "        new Promise(function(resolve, reject) {\n",
       "          var s = document.createElement('script');\n",
       "          document.getElementsByTagName(\"head\")[0].appendChild(s);\n",
       "          s.async = true;\n",
       "          s.onload = () => {\n",
       "            VEGA_DEBUG[key] = version;\n",
       "            return resolve(paths[lib]);\n",
       "          };\n",
       "          s.onerror = () => reject(`Error loading script: ${paths[lib]}`);\n",
       "          s.src = paths[lib];\n",
       "        });\n",
       "    }\n",
       "\n",
       "    function showError(err) {\n",
       "      outputDiv.innerHTML = `<div class=\"error\" style=\"color:red;\">${err}</div>`;\n",
       "      throw err;\n",
       "    }\n",
       "\n",
       "    function displayChart(vegaEmbed) {\n",
       "      vegaEmbed(outputDiv, spec, embedOpt)\n",
       "        .catch(err => showError(`Javascript Error: ${err.message}<br>This usually means there's a typo in your chart specification. See the javascript console for the full traceback.`));\n",
       "    }\n",
       "\n",
       "    if(typeof define === \"function\" && define.amd) {\n",
       "      requirejs.config({paths});\n",
       "      require([\"vega-embed\"], displayChart, err => showError(`Error loading script: ${err.message}`));\n",
       "    } else {\n",
       "      maybeLoadScript(\"vega\", \"5\")\n",
       "        .then(() => maybeLoadScript(\"vega-lite\", \"4.17.0\"))\n",
       "        .then(() => maybeLoadScript(\"vega-embed\", \"6\"))\n",
       "        .catch(showError)\n",
       "        .then(() => displayChart(vegaEmbed));\n",
       "    }\n",
       "  })({\"usermeta\": {\"embedOptions\": {\"theme\": \"fivethirtyeight\"}}, \"config\": {\"view\": {\"continuousWidth\": 400, \"continuousHeight\": 300}, \"axis\": {\"domainColor\": \"#cbcbcb\", \"grid\": true, \"gridColor\": \"#cbcbcb\", \"gridWidth\": 1, \"labelColor\": \"#474747\", \"labelFont\": \"Nunito Sans\", \"labelFontSize\": 10, \"labelPadding\": 4, \"tickColor\": \"#cbcbcb\", \"tickSize\": 10, \"titleColor\": \"#333\", \"titleFont\": \"Raleway\", \"titleFontSize\": 12, \"titlePadding\": 10}, \"axisBand\": {\"grid\": false}, \"background\": \"white\", \"font\": \"Raleway\", \"header\": {\"labelFont\": \"Nunito Sans\", \"titleFont\": \"Raleway\"}, \"legend\": {\"labelColor\": \"#333\", \"labelFont\": \"Nunito Sans\", \"labelFontSize\": 11, \"labelLimit\": 0, \"padding\": 1, \"symbolSize\": 30, \"symbolType\": \"square\", \"titleColor\": \"#333\", \"titleFont\": \"Raleway\", \"titleFontSize\": 14, \"titlePadding\": 10}, \"title\": {\"anchor\": \"middle\", \"font\": \"Raleway\", \"fontSize\": 18, \"fontWeight\": 300, \"offset\": 20}}, \"data\": {\"name\": \"data-62416e93d39436f7fb5f29a421ba03dc\"}, \"mark\": \"bar\", \"encoding\": {\"color\": {\"field\": \"prepared_y\", \"legend\": {\"title\": \"Year\"}, \"scale\": {\"range\": [\"#B9D6DF\", \"#8CBCCB\", \"#2EA8CE\", \"#136C97\", \"#0B405B\"]}, \"type\": \"quantitative\"}, \"x\": {\"field\": \"prepared_y\", \"sort\": \"-y\", \"title\": \"Year\", \"type\": \"quantitative\"}, \"y\": {\"field\": \"fed_requested_mean\", \"title\": \"Fed Requested Mean\", \"type\": \"quantitative\"}}, \"height\": 250, \"title\": \"Year by Fed Requested Mean\", \"width\": 400, \"$schema\": \"https://vega.github.io/schema/vega-lite/v4.17.0.json\", \"datasets\": {\"data-62416e93d39436f7fb5f29a421ba03dc\": [{\"prepared_y\": 2021, \"dist\": 11, \"ac_requested_sum\": 54141019.0, \"fed_requested_sum\": 47449681.58, \"total_requested_sum\": 50960061.87000001, \"ac_requested_mean\": 594956.2527472527, \"fed_requested_mean\": 521425.0723076923, \"total_requested_mean\": 560000.67989011, \"unique_mpo\": 3.0, \"unique_prefix\": 27.0, \"unique_primary_agency_name\": 20.0, \"unique_project_location\": 73.0, \"unique_project_no\": 76.0, \"unique_type_of_work\": 75.0}, {\"prepared_y\": 2020, \"dist\": 11, \"ac_requested_sum\": 5286649.0, \"fed_requested_sum\": 119424707.24, \"total_requested_sum\": 151733018.07999998, \"ac_requested_mean\": 40356.099236641225, \"fed_requested_mean\": 911638.9865648855, \"total_requested_mean\": 1158267.3135877862, \"unique_mpo\": 3.0, \"unique_prefix\": 28.0, \"unique_primary_agency_name\": 23.0, \"unique_project_location\": 104.0, \"unique_project_no\": 111.0, \"unique_type_of_work\": 93.0}, {\"prepared_y\": 2019, \"dist\": 11, \"ac_requested_sum\": -19971304.0, \"fed_requested_sum\": 62159902.64, \"total_requested_sum\": 69392790.82000001, \"ac_requested_mean\": -183222.9724770642, \"fed_requested_mean\": 570274.336146789, \"total_requested_mean\": 636631.108440367, \"unique_mpo\": 2.0, \"unique_prefix\": 22.0, \"unique_primary_agency_name\": 22.0, \"unique_project_location\": 90.0, \"unique_project_no\": 90.0, \"unique_type_of_work\": 80.0}, {\"prepared_y\": 2018, \"dist\": 11, \"ac_requested_sum\": 39547944.0, \"fed_requested_sum\": 56736895.519999996, \"total_requested_sum\": 109554198.54, \"ac_requested_mean\": 380268.6923076923, \"fed_requested_mean\": 545547.0723076923, \"total_requested_mean\": 1053405.7551923078, \"unique_mpo\": 2.0, \"unique_prefix\": 29.0, \"unique_primary_agency_name\": 21.0, \"unique_project_location\": 81.0, \"unique_project_no\": 85.0, \"unique_type_of_work\": 84.0}, {\"prepared_y\": 2017, \"dist\": 11, \"ac_requested_sum\": 79668325.0, \"fed_requested_sum\": 52728400.99, \"total_requested_sum\": 153790118.85999998, \"ac_requested_mean\": 781062.0098039216, \"fed_requested_mean\": 516945.10774509807, \"total_requested_mean\": 1507746.2633333332, \"unique_mpo\": 3.0, \"unique_prefix\": 22.0, \"unique_primary_agency_name\": 25.0, \"unique_project_location\": 90.0, \"unique_project_no\": 91.0, \"unique_type_of_work\": 88.0}, {\"prepared_y\": 2016, \"dist\": 11, \"ac_requested_sum\": 165393693.0, \"fed_requested_sum\": 103380124.7, \"total_requested_sum\": 359905282.95, \"ac_requested_mean\": 1355686.0081967213, \"fed_requested_mean\": 847378.0713114755, \"total_requested_mean\": 2950043.3028688524, \"unique_mpo\": 3.0, \"unique_prefix\": 29.0, \"unique_primary_agency_name\": 23.0, \"unique_project_location\": 101.0, \"unique_project_no\": 105.0, \"unique_type_of_work\": 98.0}, {\"prepared_y\": 2015, \"dist\": 11, \"ac_requested_sum\": 45445388.0, \"fed_requested_sum\": 46553372.18, \"total_requested_sum\": 196077466.16, \"ac_requested_mean\": 363563.104, \"fed_requested_mean\": 372426.97744, \"total_requested_mean\": 1568619.72928, \"unique_mpo\": 6.0, \"unique_prefix\": 28.0, \"unique_primary_agency_name\": 21.0, \"unique_project_location\": 100.0, \"unique_project_no\": 102.0, \"unique_type_of_work\": 96.0}, {\"prepared_y\": 2014, \"dist\": 11, \"ac_requested_sum\": 0.0, \"fed_requested_sum\": 47694110.84, \"total_requested_sum\": 61749532.44, \"ac_requested_mean\": 0.0, \"fed_requested_mean\": 381552.88672, \"total_requested_mean\": 493996.25951999996, \"unique_mpo\": 10.0, \"unique_prefix\": 29.0, \"unique_primary_agency_name\": 25.0, \"unique_project_location\": 102.0, \"unique_project_no\": 109.0, \"unique_type_of_work\": 97.0}, {\"prepared_y\": 2013, \"dist\": 11, \"ac_requested_sum\": 0.0, \"fed_requested_sum\": 3890130.7, \"total_requested_sum\": 4317169.63, \"ac_requested_mean\": 0.0, \"fed_requested_mean\": 432236.7444444445, \"total_requested_mean\": 479685.51444444444, \"unique_mpo\": 4.0, \"unique_prefix\": 7.0, \"unique_primary_agency_name\": 8.0, \"unique_project_location\": 9.0, \"unique_project_no\": 9.0, \"unique_type_of_work\": 9.0}, {\"prepared_y\": 2011, \"dist\": 11, \"ac_requested_sum\": 0.0, \"fed_requested_sum\": 900000.0, \"total_requested_sum\": 1224000.0, \"ac_requested_mean\": 0.0, \"fed_requested_mean\": 900000.0, \"total_requested_mean\": 1224000.0, \"unique_mpo\": 1.0, \"unique_prefix\": 1.0, \"unique_primary_agency_name\": 1.0, \"unique_project_location\": 1.0, \"unique_project_no\": 1.0, \"unique_type_of_work\": 1.0}]}}, {\"mode\": \"vega-lite\"});\n",
       "</script>"
      ],
      "text/plain": [
       "alt.Chart(...)"
      ]
     },
     "metadata": {},
     "output_type": "display_data"
    },
    {
     "data": {
      "text/markdown": [
       "**Total Requested Mean Over Prepared Year**"
      ],
      "text/plain": [
       "<IPython.core.display.Markdown object>"
      ]
     },
     "metadata": {},
     "output_type": "display_data"
    },
    {
     "data": {
      "text/html": [
       "\n",
       "<div id=\"altair-viz-964992e32c2e499b848baa3c87a0e630\"></div>\n",
       "<script type=\"text/javascript\">\n",
       "  var VEGA_DEBUG = (typeof VEGA_DEBUG == \"undefined\") ? {} : VEGA_DEBUG;\n",
       "  (function(spec, embedOpt){\n",
       "    let outputDiv = document.currentScript.previousElementSibling;\n",
       "    if (outputDiv.id !== \"altair-viz-964992e32c2e499b848baa3c87a0e630\") {\n",
       "      outputDiv = document.getElementById(\"altair-viz-964992e32c2e499b848baa3c87a0e630\");\n",
       "    }\n",
       "    const paths = {\n",
       "      \"vega\": \"https://cdn.jsdelivr.net/npm//vega@5?noext\",\n",
       "      \"vega-lib\": \"https://cdn.jsdelivr.net/npm//vega-lib?noext\",\n",
       "      \"vega-lite\": \"https://cdn.jsdelivr.net/npm//vega-lite@4.17.0?noext\",\n",
       "      \"vega-embed\": \"https://cdn.jsdelivr.net/npm//vega-embed@6?noext\",\n",
       "    };\n",
       "\n",
       "    function maybeLoadScript(lib, version) {\n",
       "      var key = `${lib.replace(\"-\", \"\")}_version`;\n",
       "      return (VEGA_DEBUG[key] == version) ?\n",
       "        Promise.resolve(paths[lib]) :\n",
       "        new Promise(function(resolve, reject) {\n",
       "          var s = document.createElement('script');\n",
       "          document.getElementsByTagName(\"head\")[0].appendChild(s);\n",
       "          s.async = true;\n",
       "          s.onload = () => {\n",
       "            VEGA_DEBUG[key] = version;\n",
       "            return resolve(paths[lib]);\n",
       "          };\n",
       "          s.onerror = () => reject(`Error loading script: ${paths[lib]}`);\n",
       "          s.src = paths[lib];\n",
       "        });\n",
       "    }\n",
       "\n",
       "    function showError(err) {\n",
       "      outputDiv.innerHTML = `<div class=\"error\" style=\"color:red;\">${err}</div>`;\n",
       "      throw err;\n",
       "    }\n",
       "\n",
       "    function displayChart(vegaEmbed) {\n",
       "      vegaEmbed(outputDiv, spec, embedOpt)\n",
       "        .catch(err => showError(`Javascript Error: ${err.message}<br>This usually means there's a typo in your chart specification. See the javascript console for the full traceback.`));\n",
       "    }\n",
       "\n",
       "    if(typeof define === \"function\" && define.amd) {\n",
       "      requirejs.config({paths});\n",
       "      require([\"vega-embed\"], displayChart, err => showError(`Error loading script: ${err.message}`));\n",
       "    } else {\n",
       "      maybeLoadScript(\"vega\", \"5\")\n",
       "        .then(() => maybeLoadScript(\"vega-lite\", \"4.17.0\"))\n",
       "        .then(() => maybeLoadScript(\"vega-embed\", \"6\"))\n",
       "        .catch(showError)\n",
       "        .then(() => displayChart(vegaEmbed));\n",
       "    }\n",
       "  })({\"usermeta\": {\"embedOptions\": {\"theme\": \"fivethirtyeight\"}}, \"config\": {\"view\": {\"continuousWidth\": 400, \"continuousHeight\": 300}, \"axis\": {\"domainColor\": \"#cbcbcb\", \"grid\": true, \"gridColor\": \"#cbcbcb\", \"gridWidth\": 1, \"labelColor\": \"#474747\", \"labelFont\": \"Nunito Sans\", \"labelFontSize\": 10, \"labelPadding\": 4, \"tickColor\": \"#cbcbcb\", \"tickSize\": 10, \"titleColor\": \"#333\", \"titleFont\": \"Raleway\", \"titleFontSize\": 12, \"titlePadding\": 10}, \"axisBand\": {\"grid\": false}, \"background\": \"white\", \"font\": \"Raleway\", \"header\": {\"labelFont\": \"Nunito Sans\", \"titleFont\": \"Raleway\"}, \"legend\": {\"labelColor\": \"#333\", \"labelFont\": \"Nunito Sans\", \"labelFontSize\": 11, \"labelLimit\": 0, \"padding\": 1, \"symbolSize\": 30, \"symbolType\": \"square\", \"titleColor\": \"#333\", \"titleFont\": \"Raleway\", \"titleFontSize\": 14, \"titlePadding\": 10}, \"title\": {\"anchor\": \"middle\", \"font\": \"Raleway\", \"fontSize\": 18, \"fontWeight\": 300, \"offset\": 20}}, \"data\": {\"name\": \"data-62416e93d39436f7fb5f29a421ba03dc\"}, \"mark\": \"bar\", \"encoding\": {\"color\": {\"field\": \"prepared_y\", \"legend\": {\"title\": \"Year\"}, \"scale\": {\"range\": [\"#B9D6DF\", \"#8CBCCB\", \"#2EA8CE\", \"#136C97\", \"#0B405B\"]}, \"type\": \"quantitative\"}, \"x\": {\"field\": \"prepared_y\", \"sort\": \"-y\", \"title\": \"Year\", \"type\": \"quantitative\"}, \"y\": {\"field\": \"total_requested_mean\", \"title\": \"Total Requested Mean\", \"type\": \"quantitative\"}}, \"height\": 250, \"title\": \"Year by Total Requested Mean\", \"width\": 400, \"$schema\": \"https://vega.github.io/schema/vega-lite/v4.17.0.json\", \"datasets\": {\"data-62416e93d39436f7fb5f29a421ba03dc\": [{\"prepared_y\": 2021, \"dist\": 11, \"ac_requested_sum\": 54141019.0, \"fed_requested_sum\": 47449681.58, \"total_requested_sum\": 50960061.87000001, \"ac_requested_mean\": 594956.2527472527, \"fed_requested_mean\": 521425.0723076923, \"total_requested_mean\": 560000.67989011, \"unique_mpo\": 3.0, \"unique_prefix\": 27.0, \"unique_primary_agency_name\": 20.0, \"unique_project_location\": 73.0, \"unique_project_no\": 76.0, \"unique_type_of_work\": 75.0}, {\"prepared_y\": 2020, \"dist\": 11, \"ac_requested_sum\": 5286649.0, \"fed_requested_sum\": 119424707.24, \"total_requested_sum\": 151733018.07999998, \"ac_requested_mean\": 40356.099236641225, \"fed_requested_mean\": 911638.9865648855, \"total_requested_mean\": 1158267.3135877862, \"unique_mpo\": 3.0, \"unique_prefix\": 28.0, \"unique_primary_agency_name\": 23.0, \"unique_project_location\": 104.0, \"unique_project_no\": 111.0, \"unique_type_of_work\": 93.0}, {\"prepared_y\": 2019, \"dist\": 11, \"ac_requested_sum\": -19971304.0, \"fed_requested_sum\": 62159902.64, \"total_requested_sum\": 69392790.82000001, \"ac_requested_mean\": -183222.9724770642, \"fed_requested_mean\": 570274.336146789, \"total_requested_mean\": 636631.108440367, \"unique_mpo\": 2.0, \"unique_prefix\": 22.0, \"unique_primary_agency_name\": 22.0, \"unique_project_location\": 90.0, \"unique_project_no\": 90.0, \"unique_type_of_work\": 80.0}, {\"prepared_y\": 2018, \"dist\": 11, \"ac_requested_sum\": 39547944.0, \"fed_requested_sum\": 56736895.519999996, \"total_requested_sum\": 109554198.54, \"ac_requested_mean\": 380268.6923076923, \"fed_requested_mean\": 545547.0723076923, \"total_requested_mean\": 1053405.7551923078, \"unique_mpo\": 2.0, \"unique_prefix\": 29.0, \"unique_primary_agency_name\": 21.0, \"unique_project_location\": 81.0, \"unique_project_no\": 85.0, \"unique_type_of_work\": 84.0}, {\"prepared_y\": 2017, \"dist\": 11, \"ac_requested_sum\": 79668325.0, \"fed_requested_sum\": 52728400.99, \"total_requested_sum\": 153790118.85999998, \"ac_requested_mean\": 781062.0098039216, \"fed_requested_mean\": 516945.10774509807, \"total_requested_mean\": 1507746.2633333332, \"unique_mpo\": 3.0, \"unique_prefix\": 22.0, \"unique_primary_agency_name\": 25.0, \"unique_project_location\": 90.0, \"unique_project_no\": 91.0, \"unique_type_of_work\": 88.0}, {\"prepared_y\": 2016, \"dist\": 11, \"ac_requested_sum\": 165393693.0, \"fed_requested_sum\": 103380124.7, \"total_requested_sum\": 359905282.95, \"ac_requested_mean\": 1355686.0081967213, \"fed_requested_mean\": 847378.0713114755, \"total_requested_mean\": 2950043.3028688524, \"unique_mpo\": 3.0, \"unique_prefix\": 29.0, \"unique_primary_agency_name\": 23.0, \"unique_project_location\": 101.0, \"unique_project_no\": 105.0, \"unique_type_of_work\": 98.0}, {\"prepared_y\": 2015, \"dist\": 11, \"ac_requested_sum\": 45445388.0, \"fed_requested_sum\": 46553372.18, \"total_requested_sum\": 196077466.16, \"ac_requested_mean\": 363563.104, \"fed_requested_mean\": 372426.97744, \"total_requested_mean\": 1568619.72928, \"unique_mpo\": 6.0, \"unique_prefix\": 28.0, \"unique_primary_agency_name\": 21.0, \"unique_project_location\": 100.0, \"unique_project_no\": 102.0, \"unique_type_of_work\": 96.0}, {\"prepared_y\": 2014, \"dist\": 11, \"ac_requested_sum\": 0.0, \"fed_requested_sum\": 47694110.84, \"total_requested_sum\": 61749532.44, \"ac_requested_mean\": 0.0, \"fed_requested_mean\": 381552.88672, \"total_requested_mean\": 493996.25951999996, \"unique_mpo\": 10.0, \"unique_prefix\": 29.0, \"unique_primary_agency_name\": 25.0, \"unique_project_location\": 102.0, \"unique_project_no\": 109.0, \"unique_type_of_work\": 97.0}, {\"prepared_y\": 2013, \"dist\": 11, \"ac_requested_sum\": 0.0, \"fed_requested_sum\": 3890130.7, \"total_requested_sum\": 4317169.63, \"ac_requested_mean\": 0.0, \"fed_requested_mean\": 432236.7444444445, \"total_requested_mean\": 479685.51444444444, \"unique_mpo\": 4.0, \"unique_prefix\": 7.0, \"unique_primary_agency_name\": 8.0, \"unique_project_location\": 9.0, \"unique_project_no\": 9.0, \"unique_type_of_work\": 9.0}, {\"prepared_y\": 2011, \"dist\": 11, \"ac_requested_sum\": 0.0, \"fed_requested_sum\": 900000.0, \"total_requested_sum\": 1224000.0, \"ac_requested_mean\": 0.0, \"fed_requested_mean\": 900000.0, \"total_requested_mean\": 1224000.0, \"unique_mpo\": 1.0, \"unique_prefix\": 1.0, \"unique_primary_agency_name\": 1.0, \"unique_project_location\": 1.0, \"unique_project_no\": 1.0, \"unique_type_of_work\": 1.0}]}}, {\"mode\": \"vega-lite\"});\n",
       "</script>"
      ],
      "text/plain": [
       "alt.Chart(...)"
      ]
     },
     "metadata": {},
     "output_type": "display_data"
    },
    {
     "data": {
      "text/markdown": [
       "**Unique Mpo Over Prepared Year**"
      ],
      "text/plain": [
       "<IPython.core.display.Markdown object>"
      ]
     },
     "metadata": {},
     "output_type": "display_data"
    },
    {
     "data": {
      "text/html": [
       "\n",
       "<div id=\"altair-viz-a1c70a7347ec4555a81d449bc12e0191\"></div>\n",
       "<script type=\"text/javascript\">\n",
       "  var VEGA_DEBUG = (typeof VEGA_DEBUG == \"undefined\") ? {} : VEGA_DEBUG;\n",
       "  (function(spec, embedOpt){\n",
       "    let outputDiv = document.currentScript.previousElementSibling;\n",
       "    if (outputDiv.id !== \"altair-viz-a1c70a7347ec4555a81d449bc12e0191\") {\n",
       "      outputDiv = document.getElementById(\"altair-viz-a1c70a7347ec4555a81d449bc12e0191\");\n",
       "    }\n",
       "    const paths = {\n",
       "      \"vega\": \"https://cdn.jsdelivr.net/npm//vega@5?noext\",\n",
       "      \"vega-lib\": \"https://cdn.jsdelivr.net/npm//vega-lib?noext\",\n",
       "      \"vega-lite\": \"https://cdn.jsdelivr.net/npm//vega-lite@4.17.0?noext\",\n",
       "      \"vega-embed\": \"https://cdn.jsdelivr.net/npm//vega-embed@6?noext\",\n",
       "    };\n",
       "\n",
       "    function maybeLoadScript(lib, version) {\n",
       "      var key = `${lib.replace(\"-\", \"\")}_version`;\n",
       "      return (VEGA_DEBUG[key] == version) ?\n",
       "        Promise.resolve(paths[lib]) :\n",
       "        new Promise(function(resolve, reject) {\n",
       "          var s = document.createElement('script');\n",
       "          document.getElementsByTagName(\"head\")[0].appendChild(s);\n",
       "          s.async = true;\n",
       "          s.onload = () => {\n",
       "            VEGA_DEBUG[key] = version;\n",
       "            return resolve(paths[lib]);\n",
       "          };\n",
       "          s.onerror = () => reject(`Error loading script: ${paths[lib]}`);\n",
       "          s.src = paths[lib];\n",
       "        });\n",
       "    }\n",
       "\n",
       "    function showError(err) {\n",
       "      outputDiv.innerHTML = `<div class=\"error\" style=\"color:red;\">${err}</div>`;\n",
       "      throw err;\n",
       "    }\n",
       "\n",
       "    function displayChart(vegaEmbed) {\n",
       "      vegaEmbed(outputDiv, spec, embedOpt)\n",
       "        .catch(err => showError(`Javascript Error: ${err.message}<br>This usually means there's a typo in your chart specification. See the javascript console for the full traceback.`));\n",
       "    }\n",
       "\n",
       "    if(typeof define === \"function\" && define.amd) {\n",
       "      requirejs.config({paths});\n",
       "      require([\"vega-embed\"], displayChart, err => showError(`Error loading script: ${err.message}`));\n",
       "    } else {\n",
       "      maybeLoadScript(\"vega\", \"5\")\n",
       "        .then(() => maybeLoadScript(\"vega-lite\", \"4.17.0\"))\n",
       "        .then(() => maybeLoadScript(\"vega-embed\", \"6\"))\n",
       "        .catch(showError)\n",
       "        .then(() => displayChart(vegaEmbed));\n",
       "    }\n",
       "  })({\"usermeta\": {\"embedOptions\": {\"theme\": \"fivethirtyeight\"}}, \"config\": {\"view\": {\"continuousWidth\": 400, \"continuousHeight\": 300}, \"axis\": {\"domainColor\": \"#cbcbcb\", \"grid\": true, \"gridColor\": \"#cbcbcb\", \"gridWidth\": 1, \"labelColor\": \"#474747\", \"labelFont\": \"Nunito Sans\", \"labelFontSize\": 10, \"labelPadding\": 4, \"tickColor\": \"#cbcbcb\", \"tickSize\": 10, \"titleColor\": \"#333\", \"titleFont\": \"Raleway\", \"titleFontSize\": 12, \"titlePadding\": 10}, \"axisBand\": {\"grid\": false}, \"background\": \"white\", \"font\": \"Raleway\", \"header\": {\"labelFont\": \"Nunito Sans\", \"titleFont\": \"Raleway\"}, \"legend\": {\"labelColor\": \"#333\", \"labelFont\": \"Nunito Sans\", \"labelFontSize\": 11, \"labelLimit\": 0, \"padding\": 1, \"symbolSize\": 30, \"symbolType\": \"square\", \"titleColor\": \"#333\", \"titleFont\": \"Raleway\", \"titleFontSize\": 14, \"titlePadding\": 10}, \"title\": {\"anchor\": \"middle\", \"font\": \"Raleway\", \"fontSize\": 18, \"fontWeight\": 300, \"offset\": 20}}, \"data\": {\"name\": \"data-62416e93d39436f7fb5f29a421ba03dc\"}, \"mark\": \"bar\", \"encoding\": {\"color\": {\"field\": \"prepared_y\", \"legend\": {\"title\": \"Year\"}, \"scale\": {\"range\": [\"#B9D6DF\", \"#8CBCCB\", \"#2EA8CE\", \"#136C97\", \"#0B405B\"]}, \"type\": \"quantitative\"}, \"x\": {\"field\": \"prepared_y\", \"sort\": \"-y\", \"title\": \"Year\", \"type\": \"quantitative\"}, \"y\": {\"field\": \"unique_mpo\", \"title\": \"Unique Mpo\", \"type\": \"quantitative\"}}, \"height\": 250, \"title\": \"Year by Unique Mpo\", \"width\": 400, \"$schema\": \"https://vega.github.io/schema/vega-lite/v4.17.0.json\", \"datasets\": {\"data-62416e93d39436f7fb5f29a421ba03dc\": [{\"prepared_y\": 2021, \"dist\": 11, \"ac_requested_sum\": 54141019.0, \"fed_requested_sum\": 47449681.58, \"total_requested_sum\": 50960061.87000001, \"ac_requested_mean\": 594956.2527472527, \"fed_requested_mean\": 521425.0723076923, \"total_requested_mean\": 560000.67989011, \"unique_mpo\": 3.0, \"unique_prefix\": 27.0, \"unique_primary_agency_name\": 20.0, \"unique_project_location\": 73.0, \"unique_project_no\": 76.0, \"unique_type_of_work\": 75.0}, {\"prepared_y\": 2020, \"dist\": 11, \"ac_requested_sum\": 5286649.0, \"fed_requested_sum\": 119424707.24, \"total_requested_sum\": 151733018.07999998, \"ac_requested_mean\": 40356.099236641225, \"fed_requested_mean\": 911638.9865648855, \"total_requested_mean\": 1158267.3135877862, \"unique_mpo\": 3.0, \"unique_prefix\": 28.0, \"unique_primary_agency_name\": 23.0, \"unique_project_location\": 104.0, \"unique_project_no\": 111.0, \"unique_type_of_work\": 93.0}, {\"prepared_y\": 2019, \"dist\": 11, \"ac_requested_sum\": -19971304.0, \"fed_requested_sum\": 62159902.64, \"total_requested_sum\": 69392790.82000001, \"ac_requested_mean\": -183222.9724770642, \"fed_requested_mean\": 570274.336146789, \"total_requested_mean\": 636631.108440367, \"unique_mpo\": 2.0, \"unique_prefix\": 22.0, \"unique_primary_agency_name\": 22.0, \"unique_project_location\": 90.0, \"unique_project_no\": 90.0, \"unique_type_of_work\": 80.0}, {\"prepared_y\": 2018, \"dist\": 11, \"ac_requested_sum\": 39547944.0, \"fed_requested_sum\": 56736895.519999996, \"total_requested_sum\": 109554198.54, \"ac_requested_mean\": 380268.6923076923, \"fed_requested_mean\": 545547.0723076923, \"total_requested_mean\": 1053405.7551923078, \"unique_mpo\": 2.0, \"unique_prefix\": 29.0, \"unique_primary_agency_name\": 21.0, \"unique_project_location\": 81.0, \"unique_project_no\": 85.0, \"unique_type_of_work\": 84.0}, {\"prepared_y\": 2017, \"dist\": 11, \"ac_requested_sum\": 79668325.0, \"fed_requested_sum\": 52728400.99, \"total_requested_sum\": 153790118.85999998, \"ac_requested_mean\": 781062.0098039216, \"fed_requested_mean\": 516945.10774509807, \"total_requested_mean\": 1507746.2633333332, \"unique_mpo\": 3.0, \"unique_prefix\": 22.0, \"unique_primary_agency_name\": 25.0, \"unique_project_location\": 90.0, \"unique_project_no\": 91.0, \"unique_type_of_work\": 88.0}, {\"prepared_y\": 2016, \"dist\": 11, \"ac_requested_sum\": 165393693.0, \"fed_requested_sum\": 103380124.7, \"total_requested_sum\": 359905282.95, \"ac_requested_mean\": 1355686.0081967213, \"fed_requested_mean\": 847378.0713114755, \"total_requested_mean\": 2950043.3028688524, \"unique_mpo\": 3.0, \"unique_prefix\": 29.0, \"unique_primary_agency_name\": 23.0, \"unique_project_location\": 101.0, \"unique_project_no\": 105.0, \"unique_type_of_work\": 98.0}, {\"prepared_y\": 2015, \"dist\": 11, \"ac_requested_sum\": 45445388.0, \"fed_requested_sum\": 46553372.18, \"total_requested_sum\": 196077466.16, \"ac_requested_mean\": 363563.104, \"fed_requested_mean\": 372426.97744, \"total_requested_mean\": 1568619.72928, \"unique_mpo\": 6.0, \"unique_prefix\": 28.0, \"unique_primary_agency_name\": 21.0, \"unique_project_location\": 100.0, \"unique_project_no\": 102.0, \"unique_type_of_work\": 96.0}, {\"prepared_y\": 2014, \"dist\": 11, \"ac_requested_sum\": 0.0, \"fed_requested_sum\": 47694110.84, \"total_requested_sum\": 61749532.44, \"ac_requested_mean\": 0.0, \"fed_requested_mean\": 381552.88672, \"total_requested_mean\": 493996.25951999996, \"unique_mpo\": 10.0, \"unique_prefix\": 29.0, \"unique_primary_agency_name\": 25.0, \"unique_project_location\": 102.0, \"unique_project_no\": 109.0, \"unique_type_of_work\": 97.0}, {\"prepared_y\": 2013, \"dist\": 11, \"ac_requested_sum\": 0.0, \"fed_requested_sum\": 3890130.7, \"total_requested_sum\": 4317169.63, \"ac_requested_mean\": 0.0, \"fed_requested_mean\": 432236.7444444445, \"total_requested_mean\": 479685.51444444444, \"unique_mpo\": 4.0, \"unique_prefix\": 7.0, \"unique_primary_agency_name\": 8.0, \"unique_project_location\": 9.0, \"unique_project_no\": 9.0, \"unique_type_of_work\": 9.0}, {\"prepared_y\": 2011, \"dist\": 11, \"ac_requested_sum\": 0.0, \"fed_requested_sum\": 900000.0, \"total_requested_sum\": 1224000.0, \"ac_requested_mean\": 0.0, \"fed_requested_mean\": 900000.0, \"total_requested_mean\": 1224000.0, \"unique_mpo\": 1.0, \"unique_prefix\": 1.0, \"unique_primary_agency_name\": 1.0, \"unique_project_location\": 1.0, \"unique_project_no\": 1.0, \"unique_type_of_work\": 1.0}]}}, {\"mode\": \"vega-lite\"});\n",
       "</script>"
      ],
      "text/plain": [
       "alt.Chart(...)"
      ]
     },
     "metadata": {},
     "output_type": "display_data"
    },
    {
     "data": {
      "text/markdown": [
       "**Unique Prefix Over Prepared Year**"
      ],
      "text/plain": [
       "<IPython.core.display.Markdown object>"
      ]
     },
     "metadata": {},
     "output_type": "display_data"
    },
    {
     "data": {
      "text/html": [
       "\n",
       "<div id=\"altair-viz-88c1aa191cd74ff4976d34dfafb789e2\"></div>\n",
       "<script type=\"text/javascript\">\n",
       "  var VEGA_DEBUG = (typeof VEGA_DEBUG == \"undefined\") ? {} : VEGA_DEBUG;\n",
       "  (function(spec, embedOpt){\n",
       "    let outputDiv = document.currentScript.previousElementSibling;\n",
       "    if (outputDiv.id !== \"altair-viz-88c1aa191cd74ff4976d34dfafb789e2\") {\n",
       "      outputDiv = document.getElementById(\"altair-viz-88c1aa191cd74ff4976d34dfafb789e2\");\n",
       "    }\n",
       "    const paths = {\n",
       "      \"vega\": \"https://cdn.jsdelivr.net/npm//vega@5?noext\",\n",
       "      \"vega-lib\": \"https://cdn.jsdelivr.net/npm//vega-lib?noext\",\n",
       "      \"vega-lite\": \"https://cdn.jsdelivr.net/npm//vega-lite@4.17.0?noext\",\n",
       "      \"vega-embed\": \"https://cdn.jsdelivr.net/npm//vega-embed@6?noext\",\n",
       "    };\n",
       "\n",
       "    function maybeLoadScript(lib, version) {\n",
       "      var key = `${lib.replace(\"-\", \"\")}_version`;\n",
       "      return (VEGA_DEBUG[key] == version) ?\n",
       "        Promise.resolve(paths[lib]) :\n",
       "        new Promise(function(resolve, reject) {\n",
       "          var s = document.createElement('script');\n",
       "          document.getElementsByTagName(\"head\")[0].appendChild(s);\n",
       "          s.async = true;\n",
       "          s.onload = () => {\n",
       "            VEGA_DEBUG[key] = version;\n",
       "            return resolve(paths[lib]);\n",
       "          };\n",
       "          s.onerror = () => reject(`Error loading script: ${paths[lib]}`);\n",
       "          s.src = paths[lib];\n",
       "        });\n",
       "    }\n",
       "\n",
       "    function showError(err) {\n",
       "      outputDiv.innerHTML = `<div class=\"error\" style=\"color:red;\">${err}</div>`;\n",
       "      throw err;\n",
       "    }\n",
       "\n",
       "    function displayChart(vegaEmbed) {\n",
       "      vegaEmbed(outputDiv, spec, embedOpt)\n",
       "        .catch(err => showError(`Javascript Error: ${err.message}<br>This usually means there's a typo in your chart specification. See the javascript console for the full traceback.`));\n",
       "    }\n",
       "\n",
       "    if(typeof define === \"function\" && define.amd) {\n",
       "      requirejs.config({paths});\n",
       "      require([\"vega-embed\"], displayChart, err => showError(`Error loading script: ${err.message}`));\n",
       "    } else {\n",
       "      maybeLoadScript(\"vega\", \"5\")\n",
       "        .then(() => maybeLoadScript(\"vega-lite\", \"4.17.0\"))\n",
       "        .then(() => maybeLoadScript(\"vega-embed\", \"6\"))\n",
       "        .catch(showError)\n",
       "        .then(() => displayChart(vegaEmbed));\n",
       "    }\n",
       "  })({\"usermeta\": {\"embedOptions\": {\"theme\": \"fivethirtyeight\"}}, \"config\": {\"view\": {\"continuousWidth\": 400, \"continuousHeight\": 300}, \"axis\": {\"domainColor\": \"#cbcbcb\", \"grid\": true, \"gridColor\": \"#cbcbcb\", \"gridWidth\": 1, \"labelColor\": \"#474747\", \"labelFont\": \"Nunito Sans\", \"labelFontSize\": 10, \"labelPadding\": 4, \"tickColor\": \"#cbcbcb\", \"tickSize\": 10, \"titleColor\": \"#333\", \"titleFont\": \"Raleway\", \"titleFontSize\": 12, \"titlePadding\": 10}, \"axisBand\": {\"grid\": false}, \"background\": \"white\", \"font\": \"Raleway\", \"header\": {\"labelFont\": \"Nunito Sans\", \"titleFont\": \"Raleway\"}, \"legend\": {\"labelColor\": \"#333\", \"labelFont\": \"Nunito Sans\", \"labelFontSize\": 11, \"labelLimit\": 0, \"padding\": 1, \"symbolSize\": 30, \"symbolType\": \"square\", \"titleColor\": \"#333\", \"titleFont\": \"Raleway\", \"titleFontSize\": 14, \"titlePadding\": 10}, \"title\": {\"anchor\": \"middle\", \"font\": \"Raleway\", \"fontSize\": 18, \"fontWeight\": 300, \"offset\": 20}}, \"data\": {\"name\": \"data-62416e93d39436f7fb5f29a421ba03dc\"}, \"mark\": \"bar\", \"encoding\": {\"color\": {\"field\": \"prepared_y\", \"legend\": {\"title\": \"Year\"}, \"scale\": {\"range\": [\"#B9D6DF\", \"#8CBCCB\", \"#2EA8CE\", \"#136C97\", \"#0B405B\"]}, \"type\": \"quantitative\"}, \"x\": {\"field\": \"prepared_y\", \"sort\": \"-y\", \"title\": \"Year\", \"type\": \"quantitative\"}, \"y\": {\"field\": \"unique_prefix\", \"title\": \"Unique Prefix\", \"type\": \"quantitative\"}}, \"height\": 250, \"title\": \"Year by Unique Prefix\", \"width\": 400, \"$schema\": \"https://vega.github.io/schema/vega-lite/v4.17.0.json\", \"datasets\": {\"data-62416e93d39436f7fb5f29a421ba03dc\": [{\"prepared_y\": 2021, \"dist\": 11, \"ac_requested_sum\": 54141019.0, \"fed_requested_sum\": 47449681.58, \"total_requested_sum\": 50960061.87000001, \"ac_requested_mean\": 594956.2527472527, \"fed_requested_mean\": 521425.0723076923, \"total_requested_mean\": 560000.67989011, \"unique_mpo\": 3.0, \"unique_prefix\": 27.0, \"unique_primary_agency_name\": 20.0, \"unique_project_location\": 73.0, \"unique_project_no\": 76.0, \"unique_type_of_work\": 75.0}, {\"prepared_y\": 2020, \"dist\": 11, \"ac_requested_sum\": 5286649.0, \"fed_requested_sum\": 119424707.24, \"total_requested_sum\": 151733018.07999998, \"ac_requested_mean\": 40356.099236641225, \"fed_requested_mean\": 911638.9865648855, \"total_requested_mean\": 1158267.3135877862, \"unique_mpo\": 3.0, \"unique_prefix\": 28.0, \"unique_primary_agency_name\": 23.0, \"unique_project_location\": 104.0, \"unique_project_no\": 111.0, \"unique_type_of_work\": 93.0}, {\"prepared_y\": 2019, \"dist\": 11, \"ac_requested_sum\": -19971304.0, \"fed_requested_sum\": 62159902.64, \"total_requested_sum\": 69392790.82000001, \"ac_requested_mean\": -183222.9724770642, \"fed_requested_mean\": 570274.336146789, \"total_requested_mean\": 636631.108440367, \"unique_mpo\": 2.0, \"unique_prefix\": 22.0, \"unique_primary_agency_name\": 22.0, \"unique_project_location\": 90.0, \"unique_project_no\": 90.0, \"unique_type_of_work\": 80.0}, {\"prepared_y\": 2018, \"dist\": 11, \"ac_requested_sum\": 39547944.0, \"fed_requested_sum\": 56736895.519999996, \"total_requested_sum\": 109554198.54, \"ac_requested_mean\": 380268.6923076923, \"fed_requested_mean\": 545547.0723076923, \"total_requested_mean\": 1053405.7551923078, \"unique_mpo\": 2.0, \"unique_prefix\": 29.0, \"unique_primary_agency_name\": 21.0, \"unique_project_location\": 81.0, \"unique_project_no\": 85.0, \"unique_type_of_work\": 84.0}, {\"prepared_y\": 2017, \"dist\": 11, \"ac_requested_sum\": 79668325.0, \"fed_requested_sum\": 52728400.99, \"total_requested_sum\": 153790118.85999998, \"ac_requested_mean\": 781062.0098039216, \"fed_requested_mean\": 516945.10774509807, \"total_requested_mean\": 1507746.2633333332, \"unique_mpo\": 3.0, \"unique_prefix\": 22.0, \"unique_primary_agency_name\": 25.0, \"unique_project_location\": 90.0, \"unique_project_no\": 91.0, \"unique_type_of_work\": 88.0}, {\"prepared_y\": 2016, \"dist\": 11, \"ac_requested_sum\": 165393693.0, \"fed_requested_sum\": 103380124.7, \"total_requested_sum\": 359905282.95, \"ac_requested_mean\": 1355686.0081967213, \"fed_requested_mean\": 847378.0713114755, \"total_requested_mean\": 2950043.3028688524, \"unique_mpo\": 3.0, \"unique_prefix\": 29.0, \"unique_primary_agency_name\": 23.0, \"unique_project_location\": 101.0, \"unique_project_no\": 105.0, \"unique_type_of_work\": 98.0}, {\"prepared_y\": 2015, \"dist\": 11, \"ac_requested_sum\": 45445388.0, \"fed_requested_sum\": 46553372.18, \"total_requested_sum\": 196077466.16, \"ac_requested_mean\": 363563.104, \"fed_requested_mean\": 372426.97744, \"total_requested_mean\": 1568619.72928, \"unique_mpo\": 6.0, \"unique_prefix\": 28.0, \"unique_primary_agency_name\": 21.0, \"unique_project_location\": 100.0, \"unique_project_no\": 102.0, \"unique_type_of_work\": 96.0}, {\"prepared_y\": 2014, \"dist\": 11, \"ac_requested_sum\": 0.0, \"fed_requested_sum\": 47694110.84, \"total_requested_sum\": 61749532.44, \"ac_requested_mean\": 0.0, \"fed_requested_mean\": 381552.88672, \"total_requested_mean\": 493996.25951999996, \"unique_mpo\": 10.0, \"unique_prefix\": 29.0, \"unique_primary_agency_name\": 25.0, \"unique_project_location\": 102.0, \"unique_project_no\": 109.0, \"unique_type_of_work\": 97.0}, {\"prepared_y\": 2013, \"dist\": 11, \"ac_requested_sum\": 0.0, \"fed_requested_sum\": 3890130.7, \"total_requested_sum\": 4317169.63, \"ac_requested_mean\": 0.0, \"fed_requested_mean\": 432236.7444444445, \"total_requested_mean\": 479685.51444444444, \"unique_mpo\": 4.0, \"unique_prefix\": 7.0, \"unique_primary_agency_name\": 8.0, \"unique_project_location\": 9.0, \"unique_project_no\": 9.0, \"unique_type_of_work\": 9.0}, {\"prepared_y\": 2011, \"dist\": 11, \"ac_requested_sum\": 0.0, \"fed_requested_sum\": 900000.0, \"total_requested_sum\": 1224000.0, \"ac_requested_mean\": 0.0, \"fed_requested_mean\": 900000.0, \"total_requested_mean\": 1224000.0, \"unique_mpo\": 1.0, \"unique_prefix\": 1.0, \"unique_primary_agency_name\": 1.0, \"unique_project_location\": 1.0, \"unique_project_no\": 1.0, \"unique_type_of_work\": 1.0}]}}, {\"mode\": \"vega-lite\"});\n",
       "</script>"
      ],
      "text/plain": [
       "alt.Chart(...)"
      ]
     },
     "metadata": {},
     "output_type": "display_data"
    },
    {
     "data": {
      "text/markdown": [
       "**Unique Primary Agency Name Over Prepared Year**"
      ],
      "text/plain": [
       "<IPython.core.display.Markdown object>"
      ]
     },
     "metadata": {},
     "output_type": "display_data"
    },
    {
     "data": {
      "text/html": [
       "\n",
       "<div id=\"altair-viz-3abbaf6fc376419ebbbf01d31598b4c3\"></div>\n",
       "<script type=\"text/javascript\">\n",
       "  var VEGA_DEBUG = (typeof VEGA_DEBUG == \"undefined\") ? {} : VEGA_DEBUG;\n",
       "  (function(spec, embedOpt){\n",
       "    let outputDiv = document.currentScript.previousElementSibling;\n",
       "    if (outputDiv.id !== \"altair-viz-3abbaf6fc376419ebbbf01d31598b4c3\") {\n",
       "      outputDiv = document.getElementById(\"altair-viz-3abbaf6fc376419ebbbf01d31598b4c3\");\n",
       "    }\n",
       "    const paths = {\n",
       "      \"vega\": \"https://cdn.jsdelivr.net/npm//vega@5?noext\",\n",
       "      \"vega-lib\": \"https://cdn.jsdelivr.net/npm//vega-lib?noext\",\n",
       "      \"vega-lite\": \"https://cdn.jsdelivr.net/npm//vega-lite@4.17.0?noext\",\n",
       "      \"vega-embed\": \"https://cdn.jsdelivr.net/npm//vega-embed@6?noext\",\n",
       "    };\n",
       "\n",
       "    function maybeLoadScript(lib, version) {\n",
       "      var key = `${lib.replace(\"-\", \"\")}_version`;\n",
       "      return (VEGA_DEBUG[key] == version) ?\n",
       "        Promise.resolve(paths[lib]) :\n",
       "        new Promise(function(resolve, reject) {\n",
       "          var s = document.createElement('script');\n",
       "          document.getElementsByTagName(\"head\")[0].appendChild(s);\n",
       "          s.async = true;\n",
       "          s.onload = () => {\n",
       "            VEGA_DEBUG[key] = version;\n",
       "            return resolve(paths[lib]);\n",
       "          };\n",
       "          s.onerror = () => reject(`Error loading script: ${paths[lib]}`);\n",
       "          s.src = paths[lib];\n",
       "        });\n",
       "    }\n",
       "\n",
       "    function showError(err) {\n",
       "      outputDiv.innerHTML = `<div class=\"error\" style=\"color:red;\">${err}</div>`;\n",
       "      throw err;\n",
       "    }\n",
       "\n",
       "    function displayChart(vegaEmbed) {\n",
       "      vegaEmbed(outputDiv, spec, embedOpt)\n",
       "        .catch(err => showError(`Javascript Error: ${err.message}<br>This usually means there's a typo in your chart specification. See the javascript console for the full traceback.`));\n",
       "    }\n",
       "\n",
       "    if(typeof define === \"function\" && define.amd) {\n",
       "      requirejs.config({paths});\n",
       "      require([\"vega-embed\"], displayChart, err => showError(`Error loading script: ${err.message}`));\n",
       "    } else {\n",
       "      maybeLoadScript(\"vega\", \"5\")\n",
       "        .then(() => maybeLoadScript(\"vega-lite\", \"4.17.0\"))\n",
       "        .then(() => maybeLoadScript(\"vega-embed\", \"6\"))\n",
       "        .catch(showError)\n",
       "        .then(() => displayChart(vegaEmbed));\n",
       "    }\n",
       "  })({\"usermeta\": {\"embedOptions\": {\"theme\": \"fivethirtyeight\"}}, \"config\": {\"view\": {\"continuousWidth\": 400, \"continuousHeight\": 300}, \"axis\": {\"domainColor\": \"#cbcbcb\", \"grid\": true, \"gridColor\": \"#cbcbcb\", \"gridWidth\": 1, \"labelColor\": \"#474747\", \"labelFont\": \"Nunito Sans\", \"labelFontSize\": 10, \"labelPadding\": 4, \"tickColor\": \"#cbcbcb\", \"tickSize\": 10, \"titleColor\": \"#333\", \"titleFont\": \"Raleway\", \"titleFontSize\": 12, \"titlePadding\": 10}, \"axisBand\": {\"grid\": false}, \"background\": \"white\", \"font\": \"Raleway\", \"header\": {\"labelFont\": \"Nunito Sans\", \"titleFont\": \"Raleway\"}, \"legend\": {\"labelColor\": \"#333\", \"labelFont\": \"Nunito Sans\", \"labelFontSize\": 11, \"labelLimit\": 0, \"padding\": 1, \"symbolSize\": 30, \"symbolType\": \"square\", \"titleColor\": \"#333\", \"titleFont\": \"Raleway\", \"titleFontSize\": 14, \"titlePadding\": 10}, \"title\": {\"anchor\": \"middle\", \"font\": \"Raleway\", \"fontSize\": 18, \"fontWeight\": 300, \"offset\": 20}}, \"data\": {\"name\": \"data-62416e93d39436f7fb5f29a421ba03dc\"}, \"mark\": \"bar\", \"encoding\": {\"color\": {\"field\": \"prepared_y\", \"legend\": {\"title\": \"Year\"}, \"scale\": {\"range\": [\"#B9D6DF\", \"#8CBCCB\", \"#2EA8CE\", \"#136C97\", \"#0B405B\"]}, \"type\": \"quantitative\"}, \"x\": {\"field\": \"prepared_y\", \"sort\": \"-y\", \"title\": \"Year\", \"type\": \"quantitative\"}, \"y\": {\"field\": \"unique_primary_agency_name\", \"title\": \"Unique Primary Agency Name\", \"type\": \"quantitative\"}}, \"height\": 250, \"title\": \"Year by Unique Primary Agency Name\", \"width\": 400, \"$schema\": \"https://vega.github.io/schema/vega-lite/v4.17.0.json\", \"datasets\": {\"data-62416e93d39436f7fb5f29a421ba03dc\": [{\"prepared_y\": 2021, \"dist\": 11, \"ac_requested_sum\": 54141019.0, \"fed_requested_sum\": 47449681.58, \"total_requested_sum\": 50960061.87000001, \"ac_requested_mean\": 594956.2527472527, \"fed_requested_mean\": 521425.0723076923, \"total_requested_mean\": 560000.67989011, \"unique_mpo\": 3.0, \"unique_prefix\": 27.0, \"unique_primary_agency_name\": 20.0, \"unique_project_location\": 73.0, \"unique_project_no\": 76.0, \"unique_type_of_work\": 75.0}, {\"prepared_y\": 2020, \"dist\": 11, \"ac_requested_sum\": 5286649.0, \"fed_requested_sum\": 119424707.24, \"total_requested_sum\": 151733018.07999998, \"ac_requested_mean\": 40356.099236641225, \"fed_requested_mean\": 911638.9865648855, \"total_requested_mean\": 1158267.3135877862, \"unique_mpo\": 3.0, \"unique_prefix\": 28.0, \"unique_primary_agency_name\": 23.0, \"unique_project_location\": 104.0, \"unique_project_no\": 111.0, \"unique_type_of_work\": 93.0}, {\"prepared_y\": 2019, \"dist\": 11, \"ac_requested_sum\": -19971304.0, \"fed_requested_sum\": 62159902.64, \"total_requested_sum\": 69392790.82000001, \"ac_requested_mean\": -183222.9724770642, \"fed_requested_mean\": 570274.336146789, \"total_requested_mean\": 636631.108440367, \"unique_mpo\": 2.0, \"unique_prefix\": 22.0, \"unique_primary_agency_name\": 22.0, \"unique_project_location\": 90.0, \"unique_project_no\": 90.0, \"unique_type_of_work\": 80.0}, {\"prepared_y\": 2018, \"dist\": 11, \"ac_requested_sum\": 39547944.0, \"fed_requested_sum\": 56736895.519999996, \"total_requested_sum\": 109554198.54, \"ac_requested_mean\": 380268.6923076923, \"fed_requested_mean\": 545547.0723076923, \"total_requested_mean\": 1053405.7551923078, \"unique_mpo\": 2.0, \"unique_prefix\": 29.0, \"unique_primary_agency_name\": 21.0, \"unique_project_location\": 81.0, \"unique_project_no\": 85.0, \"unique_type_of_work\": 84.0}, {\"prepared_y\": 2017, \"dist\": 11, \"ac_requested_sum\": 79668325.0, \"fed_requested_sum\": 52728400.99, \"total_requested_sum\": 153790118.85999998, \"ac_requested_mean\": 781062.0098039216, \"fed_requested_mean\": 516945.10774509807, \"total_requested_mean\": 1507746.2633333332, \"unique_mpo\": 3.0, \"unique_prefix\": 22.0, \"unique_primary_agency_name\": 25.0, \"unique_project_location\": 90.0, \"unique_project_no\": 91.0, \"unique_type_of_work\": 88.0}, {\"prepared_y\": 2016, \"dist\": 11, \"ac_requested_sum\": 165393693.0, \"fed_requested_sum\": 103380124.7, \"total_requested_sum\": 359905282.95, \"ac_requested_mean\": 1355686.0081967213, \"fed_requested_mean\": 847378.0713114755, \"total_requested_mean\": 2950043.3028688524, \"unique_mpo\": 3.0, \"unique_prefix\": 29.0, \"unique_primary_agency_name\": 23.0, \"unique_project_location\": 101.0, \"unique_project_no\": 105.0, \"unique_type_of_work\": 98.0}, {\"prepared_y\": 2015, \"dist\": 11, \"ac_requested_sum\": 45445388.0, \"fed_requested_sum\": 46553372.18, \"total_requested_sum\": 196077466.16, \"ac_requested_mean\": 363563.104, \"fed_requested_mean\": 372426.97744, \"total_requested_mean\": 1568619.72928, \"unique_mpo\": 6.0, \"unique_prefix\": 28.0, \"unique_primary_agency_name\": 21.0, \"unique_project_location\": 100.0, \"unique_project_no\": 102.0, \"unique_type_of_work\": 96.0}, {\"prepared_y\": 2014, \"dist\": 11, \"ac_requested_sum\": 0.0, \"fed_requested_sum\": 47694110.84, \"total_requested_sum\": 61749532.44, \"ac_requested_mean\": 0.0, \"fed_requested_mean\": 381552.88672, \"total_requested_mean\": 493996.25951999996, \"unique_mpo\": 10.0, \"unique_prefix\": 29.0, \"unique_primary_agency_name\": 25.0, \"unique_project_location\": 102.0, \"unique_project_no\": 109.0, \"unique_type_of_work\": 97.0}, {\"prepared_y\": 2013, \"dist\": 11, \"ac_requested_sum\": 0.0, \"fed_requested_sum\": 3890130.7, \"total_requested_sum\": 4317169.63, \"ac_requested_mean\": 0.0, \"fed_requested_mean\": 432236.7444444445, \"total_requested_mean\": 479685.51444444444, \"unique_mpo\": 4.0, \"unique_prefix\": 7.0, \"unique_primary_agency_name\": 8.0, \"unique_project_location\": 9.0, \"unique_project_no\": 9.0, \"unique_type_of_work\": 9.0}, {\"prepared_y\": 2011, \"dist\": 11, \"ac_requested_sum\": 0.0, \"fed_requested_sum\": 900000.0, \"total_requested_sum\": 1224000.0, \"ac_requested_mean\": 0.0, \"fed_requested_mean\": 900000.0, \"total_requested_mean\": 1224000.0, \"unique_mpo\": 1.0, \"unique_prefix\": 1.0, \"unique_primary_agency_name\": 1.0, \"unique_project_location\": 1.0, \"unique_project_no\": 1.0, \"unique_type_of_work\": 1.0}]}}, {\"mode\": \"vega-lite\"});\n",
       "</script>"
      ],
      "text/plain": [
       "alt.Chart(...)"
      ]
     },
     "metadata": {},
     "output_type": "display_data"
    },
    {
     "data": {
      "text/markdown": [
       "**Unique Project Location Over Prepared Year**"
      ],
      "text/plain": [
       "<IPython.core.display.Markdown object>"
      ]
     },
     "metadata": {},
     "output_type": "display_data"
    },
    {
     "data": {
      "text/html": [
       "\n",
       "<div id=\"altair-viz-f9d383d5a7b545559550a2c824039753\"></div>\n",
       "<script type=\"text/javascript\">\n",
       "  var VEGA_DEBUG = (typeof VEGA_DEBUG == \"undefined\") ? {} : VEGA_DEBUG;\n",
       "  (function(spec, embedOpt){\n",
       "    let outputDiv = document.currentScript.previousElementSibling;\n",
       "    if (outputDiv.id !== \"altair-viz-f9d383d5a7b545559550a2c824039753\") {\n",
       "      outputDiv = document.getElementById(\"altair-viz-f9d383d5a7b545559550a2c824039753\");\n",
       "    }\n",
       "    const paths = {\n",
       "      \"vega\": \"https://cdn.jsdelivr.net/npm//vega@5?noext\",\n",
       "      \"vega-lib\": \"https://cdn.jsdelivr.net/npm//vega-lib?noext\",\n",
       "      \"vega-lite\": \"https://cdn.jsdelivr.net/npm//vega-lite@4.17.0?noext\",\n",
       "      \"vega-embed\": \"https://cdn.jsdelivr.net/npm//vega-embed@6?noext\",\n",
       "    };\n",
       "\n",
       "    function maybeLoadScript(lib, version) {\n",
       "      var key = `${lib.replace(\"-\", \"\")}_version`;\n",
       "      return (VEGA_DEBUG[key] == version) ?\n",
       "        Promise.resolve(paths[lib]) :\n",
       "        new Promise(function(resolve, reject) {\n",
       "          var s = document.createElement('script');\n",
       "          document.getElementsByTagName(\"head\")[0].appendChild(s);\n",
       "          s.async = true;\n",
       "          s.onload = () => {\n",
       "            VEGA_DEBUG[key] = version;\n",
       "            return resolve(paths[lib]);\n",
       "          };\n",
       "          s.onerror = () => reject(`Error loading script: ${paths[lib]}`);\n",
       "          s.src = paths[lib];\n",
       "        });\n",
       "    }\n",
       "\n",
       "    function showError(err) {\n",
       "      outputDiv.innerHTML = `<div class=\"error\" style=\"color:red;\">${err}</div>`;\n",
       "      throw err;\n",
       "    }\n",
       "\n",
       "    function displayChart(vegaEmbed) {\n",
       "      vegaEmbed(outputDiv, spec, embedOpt)\n",
       "        .catch(err => showError(`Javascript Error: ${err.message}<br>This usually means there's a typo in your chart specification. See the javascript console for the full traceback.`));\n",
       "    }\n",
       "\n",
       "    if(typeof define === \"function\" && define.amd) {\n",
       "      requirejs.config({paths});\n",
       "      require([\"vega-embed\"], displayChart, err => showError(`Error loading script: ${err.message}`));\n",
       "    } else {\n",
       "      maybeLoadScript(\"vega\", \"5\")\n",
       "        .then(() => maybeLoadScript(\"vega-lite\", \"4.17.0\"))\n",
       "        .then(() => maybeLoadScript(\"vega-embed\", \"6\"))\n",
       "        .catch(showError)\n",
       "        .then(() => displayChart(vegaEmbed));\n",
       "    }\n",
       "  })({\"usermeta\": {\"embedOptions\": {\"theme\": \"fivethirtyeight\"}}, \"config\": {\"view\": {\"continuousWidth\": 400, \"continuousHeight\": 300}, \"axis\": {\"domainColor\": \"#cbcbcb\", \"grid\": true, \"gridColor\": \"#cbcbcb\", \"gridWidth\": 1, \"labelColor\": \"#474747\", \"labelFont\": \"Nunito Sans\", \"labelFontSize\": 10, \"labelPadding\": 4, \"tickColor\": \"#cbcbcb\", \"tickSize\": 10, \"titleColor\": \"#333\", \"titleFont\": \"Raleway\", \"titleFontSize\": 12, \"titlePadding\": 10}, \"axisBand\": {\"grid\": false}, \"background\": \"white\", \"font\": \"Raleway\", \"header\": {\"labelFont\": \"Nunito Sans\", \"titleFont\": \"Raleway\"}, \"legend\": {\"labelColor\": \"#333\", \"labelFont\": \"Nunito Sans\", \"labelFontSize\": 11, \"labelLimit\": 0, \"padding\": 1, \"symbolSize\": 30, \"symbolType\": \"square\", \"titleColor\": \"#333\", \"titleFont\": \"Raleway\", \"titleFontSize\": 14, \"titlePadding\": 10}, \"title\": {\"anchor\": \"middle\", \"font\": \"Raleway\", \"fontSize\": 18, \"fontWeight\": 300, \"offset\": 20}}, \"data\": {\"name\": \"data-62416e93d39436f7fb5f29a421ba03dc\"}, \"mark\": \"bar\", \"encoding\": {\"color\": {\"field\": \"prepared_y\", \"legend\": {\"title\": \"Year\"}, \"scale\": {\"range\": [\"#B9D6DF\", \"#8CBCCB\", \"#2EA8CE\", \"#136C97\", \"#0B405B\"]}, \"type\": \"quantitative\"}, \"x\": {\"field\": \"prepared_y\", \"sort\": \"-y\", \"title\": \"Year\", \"type\": \"quantitative\"}, \"y\": {\"field\": \"unique_project_location\", \"title\": \"Unique Project Location\", \"type\": \"quantitative\"}}, \"height\": 250, \"title\": \"Year by Unique Project Location\", \"width\": 400, \"$schema\": \"https://vega.github.io/schema/vega-lite/v4.17.0.json\", \"datasets\": {\"data-62416e93d39436f7fb5f29a421ba03dc\": [{\"prepared_y\": 2021, \"dist\": 11, \"ac_requested_sum\": 54141019.0, \"fed_requested_sum\": 47449681.58, \"total_requested_sum\": 50960061.87000001, \"ac_requested_mean\": 594956.2527472527, \"fed_requested_mean\": 521425.0723076923, \"total_requested_mean\": 560000.67989011, \"unique_mpo\": 3.0, \"unique_prefix\": 27.0, \"unique_primary_agency_name\": 20.0, \"unique_project_location\": 73.0, \"unique_project_no\": 76.0, \"unique_type_of_work\": 75.0}, {\"prepared_y\": 2020, \"dist\": 11, \"ac_requested_sum\": 5286649.0, \"fed_requested_sum\": 119424707.24, \"total_requested_sum\": 151733018.07999998, \"ac_requested_mean\": 40356.099236641225, \"fed_requested_mean\": 911638.9865648855, \"total_requested_mean\": 1158267.3135877862, \"unique_mpo\": 3.0, \"unique_prefix\": 28.0, \"unique_primary_agency_name\": 23.0, \"unique_project_location\": 104.0, \"unique_project_no\": 111.0, \"unique_type_of_work\": 93.0}, {\"prepared_y\": 2019, \"dist\": 11, \"ac_requested_sum\": -19971304.0, \"fed_requested_sum\": 62159902.64, \"total_requested_sum\": 69392790.82000001, \"ac_requested_mean\": -183222.9724770642, \"fed_requested_mean\": 570274.336146789, \"total_requested_mean\": 636631.108440367, \"unique_mpo\": 2.0, \"unique_prefix\": 22.0, \"unique_primary_agency_name\": 22.0, \"unique_project_location\": 90.0, \"unique_project_no\": 90.0, \"unique_type_of_work\": 80.0}, {\"prepared_y\": 2018, \"dist\": 11, \"ac_requested_sum\": 39547944.0, \"fed_requested_sum\": 56736895.519999996, \"total_requested_sum\": 109554198.54, \"ac_requested_mean\": 380268.6923076923, \"fed_requested_mean\": 545547.0723076923, \"total_requested_mean\": 1053405.7551923078, \"unique_mpo\": 2.0, \"unique_prefix\": 29.0, \"unique_primary_agency_name\": 21.0, \"unique_project_location\": 81.0, \"unique_project_no\": 85.0, \"unique_type_of_work\": 84.0}, {\"prepared_y\": 2017, \"dist\": 11, \"ac_requested_sum\": 79668325.0, \"fed_requested_sum\": 52728400.99, \"total_requested_sum\": 153790118.85999998, \"ac_requested_mean\": 781062.0098039216, \"fed_requested_mean\": 516945.10774509807, \"total_requested_mean\": 1507746.2633333332, \"unique_mpo\": 3.0, \"unique_prefix\": 22.0, \"unique_primary_agency_name\": 25.0, \"unique_project_location\": 90.0, \"unique_project_no\": 91.0, \"unique_type_of_work\": 88.0}, {\"prepared_y\": 2016, \"dist\": 11, \"ac_requested_sum\": 165393693.0, \"fed_requested_sum\": 103380124.7, \"total_requested_sum\": 359905282.95, \"ac_requested_mean\": 1355686.0081967213, \"fed_requested_mean\": 847378.0713114755, \"total_requested_mean\": 2950043.3028688524, \"unique_mpo\": 3.0, \"unique_prefix\": 29.0, \"unique_primary_agency_name\": 23.0, \"unique_project_location\": 101.0, \"unique_project_no\": 105.0, \"unique_type_of_work\": 98.0}, {\"prepared_y\": 2015, \"dist\": 11, \"ac_requested_sum\": 45445388.0, \"fed_requested_sum\": 46553372.18, \"total_requested_sum\": 196077466.16, \"ac_requested_mean\": 363563.104, \"fed_requested_mean\": 372426.97744, \"total_requested_mean\": 1568619.72928, \"unique_mpo\": 6.0, \"unique_prefix\": 28.0, \"unique_primary_agency_name\": 21.0, \"unique_project_location\": 100.0, \"unique_project_no\": 102.0, \"unique_type_of_work\": 96.0}, {\"prepared_y\": 2014, \"dist\": 11, \"ac_requested_sum\": 0.0, \"fed_requested_sum\": 47694110.84, \"total_requested_sum\": 61749532.44, \"ac_requested_mean\": 0.0, \"fed_requested_mean\": 381552.88672, \"total_requested_mean\": 493996.25951999996, \"unique_mpo\": 10.0, \"unique_prefix\": 29.0, \"unique_primary_agency_name\": 25.0, \"unique_project_location\": 102.0, \"unique_project_no\": 109.0, \"unique_type_of_work\": 97.0}, {\"prepared_y\": 2013, \"dist\": 11, \"ac_requested_sum\": 0.0, \"fed_requested_sum\": 3890130.7, \"total_requested_sum\": 4317169.63, \"ac_requested_mean\": 0.0, \"fed_requested_mean\": 432236.7444444445, \"total_requested_mean\": 479685.51444444444, \"unique_mpo\": 4.0, \"unique_prefix\": 7.0, \"unique_primary_agency_name\": 8.0, \"unique_project_location\": 9.0, \"unique_project_no\": 9.0, \"unique_type_of_work\": 9.0}, {\"prepared_y\": 2011, \"dist\": 11, \"ac_requested_sum\": 0.0, \"fed_requested_sum\": 900000.0, \"total_requested_sum\": 1224000.0, \"ac_requested_mean\": 0.0, \"fed_requested_mean\": 900000.0, \"total_requested_mean\": 1224000.0, \"unique_mpo\": 1.0, \"unique_prefix\": 1.0, \"unique_primary_agency_name\": 1.0, \"unique_project_location\": 1.0, \"unique_project_no\": 1.0, \"unique_type_of_work\": 1.0}]}}, {\"mode\": \"vega-lite\"});\n",
       "</script>"
      ],
      "text/plain": [
       "alt.Chart(...)"
      ]
     },
     "metadata": {},
     "output_type": "display_data"
    },
    {
     "data": {
      "text/markdown": [
       "**Unique Project No Over Prepared Year**"
      ],
      "text/plain": [
       "<IPython.core.display.Markdown object>"
      ]
     },
     "metadata": {},
     "output_type": "display_data"
    },
    {
     "data": {
      "text/html": [
       "\n",
       "<div id=\"altair-viz-afe576870a8848d1a953d5d97a759fa4\"></div>\n",
       "<script type=\"text/javascript\">\n",
       "  var VEGA_DEBUG = (typeof VEGA_DEBUG == \"undefined\") ? {} : VEGA_DEBUG;\n",
       "  (function(spec, embedOpt){\n",
       "    let outputDiv = document.currentScript.previousElementSibling;\n",
       "    if (outputDiv.id !== \"altair-viz-afe576870a8848d1a953d5d97a759fa4\") {\n",
       "      outputDiv = document.getElementById(\"altair-viz-afe576870a8848d1a953d5d97a759fa4\");\n",
       "    }\n",
       "    const paths = {\n",
       "      \"vega\": \"https://cdn.jsdelivr.net/npm//vega@5?noext\",\n",
       "      \"vega-lib\": \"https://cdn.jsdelivr.net/npm//vega-lib?noext\",\n",
       "      \"vega-lite\": \"https://cdn.jsdelivr.net/npm//vega-lite@4.17.0?noext\",\n",
       "      \"vega-embed\": \"https://cdn.jsdelivr.net/npm//vega-embed@6?noext\",\n",
       "    };\n",
       "\n",
       "    function maybeLoadScript(lib, version) {\n",
       "      var key = `${lib.replace(\"-\", \"\")}_version`;\n",
       "      return (VEGA_DEBUG[key] == version) ?\n",
       "        Promise.resolve(paths[lib]) :\n",
       "        new Promise(function(resolve, reject) {\n",
       "          var s = document.createElement('script');\n",
       "          document.getElementsByTagName(\"head\")[0].appendChild(s);\n",
       "          s.async = true;\n",
       "          s.onload = () => {\n",
       "            VEGA_DEBUG[key] = version;\n",
       "            return resolve(paths[lib]);\n",
       "          };\n",
       "          s.onerror = () => reject(`Error loading script: ${paths[lib]}`);\n",
       "          s.src = paths[lib];\n",
       "        });\n",
       "    }\n",
       "\n",
       "    function showError(err) {\n",
       "      outputDiv.innerHTML = `<div class=\"error\" style=\"color:red;\">${err}</div>`;\n",
       "      throw err;\n",
       "    }\n",
       "\n",
       "    function displayChart(vegaEmbed) {\n",
       "      vegaEmbed(outputDiv, spec, embedOpt)\n",
       "        .catch(err => showError(`Javascript Error: ${err.message}<br>This usually means there's a typo in your chart specification. See the javascript console for the full traceback.`));\n",
       "    }\n",
       "\n",
       "    if(typeof define === \"function\" && define.amd) {\n",
       "      requirejs.config({paths});\n",
       "      require([\"vega-embed\"], displayChart, err => showError(`Error loading script: ${err.message}`));\n",
       "    } else {\n",
       "      maybeLoadScript(\"vega\", \"5\")\n",
       "        .then(() => maybeLoadScript(\"vega-lite\", \"4.17.0\"))\n",
       "        .then(() => maybeLoadScript(\"vega-embed\", \"6\"))\n",
       "        .catch(showError)\n",
       "        .then(() => displayChart(vegaEmbed));\n",
       "    }\n",
       "  })({\"usermeta\": {\"embedOptions\": {\"theme\": \"fivethirtyeight\"}}, \"config\": {\"view\": {\"continuousWidth\": 400, \"continuousHeight\": 300}, \"axis\": {\"domainColor\": \"#cbcbcb\", \"grid\": true, \"gridColor\": \"#cbcbcb\", \"gridWidth\": 1, \"labelColor\": \"#474747\", \"labelFont\": \"Nunito Sans\", \"labelFontSize\": 10, \"labelPadding\": 4, \"tickColor\": \"#cbcbcb\", \"tickSize\": 10, \"titleColor\": \"#333\", \"titleFont\": \"Raleway\", \"titleFontSize\": 12, \"titlePadding\": 10}, \"axisBand\": {\"grid\": false}, \"background\": \"white\", \"font\": \"Raleway\", \"header\": {\"labelFont\": \"Nunito Sans\", \"titleFont\": \"Raleway\"}, \"legend\": {\"labelColor\": \"#333\", \"labelFont\": \"Nunito Sans\", \"labelFontSize\": 11, \"labelLimit\": 0, \"padding\": 1, \"symbolSize\": 30, \"symbolType\": \"square\", \"titleColor\": \"#333\", \"titleFont\": \"Raleway\", \"titleFontSize\": 14, \"titlePadding\": 10}, \"title\": {\"anchor\": \"middle\", \"font\": \"Raleway\", \"fontSize\": 18, \"fontWeight\": 300, \"offset\": 20}}, \"data\": {\"name\": \"data-62416e93d39436f7fb5f29a421ba03dc\"}, \"mark\": \"bar\", \"encoding\": {\"color\": {\"field\": \"prepared_y\", \"legend\": {\"title\": \"Year\"}, \"scale\": {\"range\": [\"#B9D6DF\", \"#8CBCCB\", \"#2EA8CE\", \"#136C97\", \"#0B405B\"]}, \"type\": \"quantitative\"}, \"x\": {\"field\": \"prepared_y\", \"sort\": \"-y\", \"title\": \"Year\", \"type\": \"quantitative\"}, \"y\": {\"field\": \"unique_project_no\", \"title\": \"Unique Project No\", \"type\": \"quantitative\"}}, \"height\": 250, \"title\": \"Year by Unique Project No\", \"width\": 400, \"$schema\": \"https://vega.github.io/schema/vega-lite/v4.17.0.json\", \"datasets\": {\"data-62416e93d39436f7fb5f29a421ba03dc\": [{\"prepared_y\": 2021, \"dist\": 11, \"ac_requested_sum\": 54141019.0, \"fed_requested_sum\": 47449681.58, \"total_requested_sum\": 50960061.87000001, \"ac_requested_mean\": 594956.2527472527, \"fed_requested_mean\": 521425.0723076923, \"total_requested_mean\": 560000.67989011, \"unique_mpo\": 3.0, \"unique_prefix\": 27.0, \"unique_primary_agency_name\": 20.0, \"unique_project_location\": 73.0, \"unique_project_no\": 76.0, \"unique_type_of_work\": 75.0}, {\"prepared_y\": 2020, \"dist\": 11, \"ac_requested_sum\": 5286649.0, \"fed_requested_sum\": 119424707.24, \"total_requested_sum\": 151733018.07999998, \"ac_requested_mean\": 40356.099236641225, \"fed_requested_mean\": 911638.9865648855, \"total_requested_mean\": 1158267.3135877862, \"unique_mpo\": 3.0, \"unique_prefix\": 28.0, \"unique_primary_agency_name\": 23.0, \"unique_project_location\": 104.0, \"unique_project_no\": 111.0, \"unique_type_of_work\": 93.0}, {\"prepared_y\": 2019, \"dist\": 11, \"ac_requested_sum\": -19971304.0, \"fed_requested_sum\": 62159902.64, \"total_requested_sum\": 69392790.82000001, \"ac_requested_mean\": -183222.9724770642, \"fed_requested_mean\": 570274.336146789, \"total_requested_mean\": 636631.108440367, \"unique_mpo\": 2.0, \"unique_prefix\": 22.0, \"unique_primary_agency_name\": 22.0, \"unique_project_location\": 90.0, \"unique_project_no\": 90.0, \"unique_type_of_work\": 80.0}, {\"prepared_y\": 2018, \"dist\": 11, \"ac_requested_sum\": 39547944.0, \"fed_requested_sum\": 56736895.519999996, \"total_requested_sum\": 109554198.54, \"ac_requested_mean\": 380268.6923076923, \"fed_requested_mean\": 545547.0723076923, \"total_requested_mean\": 1053405.7551923078, \"unique_mpo\": 2.0, \"unique_prefix\": 29.0, \"unique_primary_agency_name\": 21.0, \"unique_project_location\": 81.0, \"unique_project_no\": 85.0, \"unique_type_of_work\": 84.0}, {\"prepared_y\": 2017, \"dist\": 11, \"ac_requested_sum\": 79668325.0, \"fed_requested_sum\": 52728400.99, \"total_requested_sum\": 153790118.85999998, \"ac_requested_mean\": 781062.0098039216, \"fed_requested_mean\": 516945.10774509807, \"total_requested_mean\": 1507746.2633333332, \"unique_mpo\": 3.0, \"unique_prefix\": 22.0, \"unique_primary_agency_name\": 25.0, \"unique_project_location\": 90.0, \"unique_project_no\": 91.0, \"unique_type_of_work\": 88.0}, {\"prepared_y\": 2016, \"dist\": 11, \"ac_requested_sum\": 165393693.0, \"fed_requested_sum\": 103380124.7, \"total_requested_sum\": 359905282.95, \"ac_requested_mean\": 1355686.0081967213, \"fed_requested_mean\": 847378.0713114755, \"total_requested_mean\": 2950043.3028688524, \"unique_mpo\": 3.0, \"unique_prefix\": 29.0, \"unique_primary_agency_name\": 23.0, \"unique_project_location\": 101.0, \"unique_project_no\": 105.0, \"unique_type_of_work\": 98.0}, {\"prepared_y\": 2015, \"dist\": 11, \"ac_requested_sum\": 45445388.0, \"fed_requested_sum\": 46553372.18, \"total_requested_sum\": 196077466.16, \"ac_requested_mean\": 363563.104, \"fed_requested_mean\": 372426.97744, \"total_requested_mean\": 1568619.72928, \"unique_mpo\": 6.0, \"unique_prefix\": 28.0, \"unique_primary_agency_name\": 21.0, \"unique_project_location\": 100.0, \"unique_project_no\": 102.0, \"unique_type_of_work\": 96.0}, {\"prepared_y\": 2014, \"dist\": 11, \"ac_requested_sum\": 0.0, \"fed_requested_sum\": 47694110.84, \"total_requested_sum\": 61749532.44, \"ac_requested_mean\": 0.0, \"fed_requested_mean\": 381552.88672, \"total_requested_mean\": 493996.25951999996, \"unique_mpo\": 10.0, \"unique_prefix\": 29.0, \"unique_primary_agency_name\": 25.0, \"unique_project_location\": 102.0, \"unique_project_no\": 109.0, \"unique_type_of_work\": 97.0}, {\"prepared_y\": 2013, \"dist\": 11, \"ac_requested_sum\": 0.0, \"fed_requested_sum\": 3890130.7, \"total_requested_sum\": 4317169.63, \"ac_requested_mean\": 0.0, \"fed_requested_mean\": 432236.7444444445, \"total_requested_mean\": 479685.51444444444, \"unique_mpo\": 4.0, \"unique_prefix\": 7.0, \"unique_primary_agency_name\": 8.0, \"unique_project_location\": 9.0, \"unique_project_no\": 9.0, \"unique_type_of_work\": 9.0}, {\"prepared_y\": 2011, \"dist\": 11, \"ac_requested_sum\": 0.0, \"fed_requested_sum\": 900000.0, \"total_requested_sum\": 1224000.0, \"ac_requested_mean\": 0.0, \"fed_requested_mean\": 900000.0, \"total_requested_mean\": 1224000.0, \"unique_mpo\": 1.0, \"unique_prefix\": 1.0, \"unique_primary_agency_name\": 1.0, \"unique_project_location\": 1.0, \"unique_project_no\": 1.0, \"unique_type_of_work\": 1.0}]}}, {\"mode\": \"vega-lite\"});\n",
       "</script>"
      ],
      "text/plain": [
       "alt.Chart(...)"
      ]
     },
     "metadata": {},
     "output_type": "display_data"
    },
    {
     "data": {
      "text/markdown": [
       "**Unique Type Of Work Over Prepared Year**"
      ],
      "text/plain": [
       "<IPython.core.display.Markdown object>"
      ]
     },
     "metadata": {},
     "output_type": "display_data"
    },
    {
     "data": {
      "text/html": [
       "\n",
       "<div id=\"altair-viz-8f347a29c06747dfbe87d507652fe500\"></div>\n",
       "<script type=\"text/javascript\">\n",
       "  var VEGA_DEBUG = (typeof VEGA_DEBUG == \"undefined\") ? {} : VEGA_DEBUG;\n",
       "  (function(spec, embedOpt){\n",
       "    let outputDiv = document.currentScript.previousElementSibling;\n",
       "    if (outputDiv.id !== \"altair-viz-8f347a29c06747dfbe87d507652fe500\") {\n",
       "      outputDiv = document.getElementById(\"altair-viz-8f347a29c06747dfbe87d507652fe500\");\n",
       "    }\n",
       "    const paths = {\n",
       "      \"vega\": \"https://cdn.jsdelivr.net/npm//vega@5?noext\",\n",
       "      \"vega-lib\": \"https://cdn.jsdelivr.net/npm//vega-lib?noext\",\n",
       "      \"vega-lite\": \"https://cdn.jsdelivr.net/npm//vega-lite@4.17.0?noext\",\n",
       "      \"vega-embed\": \"https://cdn.jsdelivr.net/npm//vega-embed@6?noext\",\n",
       "    };\n",
       "\n",
       "    function maybeLoadScript(lib, version) {\n",
       "      var key = `${lib.replace(\"-\", \"\")}_version`;\n",
       "      return (VEGA_DEBUG[key] == version) ?\n",
       "        Promise.resolve(paths[lib]) :\n",
       "        new Promise(function(resolve, reject) {\n",
       "          var s = document.createElement('script');\n",
       "          document.getElementsByTagName(\"head\")[0].appendChild(s);\n",
       "          s.async = true;\n",
       "          s.onload = () => {\n",
       "            VEGA_DEBUG[key] = version;\n",
       "            return resolve(paths[lib]);\n",
       "          };\n",
       "          s.onerror = () => reject(`Error loading script: ${paths[lib]}`);\n",
       "          s.src = paths[lib];\n",
       "        });\n",
       "    }\n",
       "\n",
       "    function showError(err) {\n",
       "      outputDiv.innerHTML = `<div class=\"error\" style=\"color:red;\">${err}</div>`;\n",
       "      throw err;\n",
       "    }\n",
       "\n",
       "    function displayChart(vegaEmbed) {\n",
       "      vegaEmbed(outputDiv, spec, embedOpt)\n",
       "        .catch(err => showError(`Javascript Error: ${err.message}<br>This usually means there's a typo in your chart specification. See the javascript console for the full traceback.`));\n",
       "    }\n",
       "\n",
       "    if(typeof define === \"function\" && define.amd) {\n",
       "      requirejs.config({paths});\n",
       "      require([\"vega-embed\"], displayChart, err => showError(`Error loading script: ${err.message}`));\n",
       "    } else {\n",
       "      maybeLoadScript(\"vega\", \"5\")\n",
       "        .then(() => maybeLoadScript(\"vega-lite\", \"4.17.0\"))\n",
       "        .then(() => maybeLoadScript(\"vega-embed\", \"6\"))\n",
       "        .catch(showError)\n",
       "        .then(() => displayChart(vegaEmbed));\n",
       "    }\n",
       "  })({\"usermeta\": {\"embedOptions\": {\"theme\": \"fivethirtyeight\"}}, \"config\": {\"view\": {\"continuousWidth\": 400, \"continuousHeight\": 300}, \"axis\": {\"domainColor\": \"#cbcbcb\", \"grid\": true, \"gridColor\": \"#cbcbcb\", \"gridWidth\": 1, \"labelColor\": \"#474747\", \"labelFont\": \"Nunito Sans\", \"labelFontSize\": 10, \"labelPadding\": 4, \"tickColor\": \"#cbcbcb\", \"tickSize\": 10, \"titleColor\": \"#333\", \"titleFont\": \"Raleway\", \"titleFontSize\": 12, \"titlePadding\": 10}, \"axisBand\": {\"grid\": false}, \"background\": \"white\", \"font\": \"Raleway\", \"header\": {\"labelFont\": \"Nunito Sans\", \"titleFont\": \"Raleway\"}, \"legend\": {\"labelColor\": \"#333\", \"labelFont\": \"Nunito Sans\", \"labelFontSize\": 11, \"labelLimit\": 0, \"padding\": 1, \"symbolSize\": 30, \"symbolType\": \"square\", \"titleColor\": \"#333\", \"titleFont\": \"Raleway\", \"titleFontSize\": 14, \"titlePadding\": 10}, \"title\": {\"anchor\": \"middle\", \"font\": \"Raleway\", \"fontSize\": 18, \"fontWeight\": 300, \"offset\": 20}}, \"data\": {\"name\": \"data-62416e93d39436f7fb5f29a421ba03dc\"}, \"mark\": \"bar\", \"encoding\": {\"color\": {\"field\": \"prepared_y\", \"legend\": {\"title\": \"Year\"}, \"scale\": {\"range\": [\"#B9D6DF\", \"#8CBCCB\", \"#2EA8CE\", \"#136C97\", \"#0B405B\"]}, \"type\": \"quantitative\"}, \"x\": {\"field\": \"prepared_y\", \"sort\": \"-y\", \"title\": \"Year\", \"type\": \"quantitative\"}, \"y\": {\"field\": \"unique_type_of_work\", \"title\": \"Unique Type Of Work\", \"type\": \"quantitative\"}}, \"height\": 250, \"title\": \"Year by Unique Type Of Work\", \"width\": 400, \"$schema\": \"https://vega.github.io/schema/vega-lite/v4.17.0.json\", \"datasets\": {\"data-62416e93d39436f7fb5f29a421ba03dc\": [{\"prepared_y\": 2021, \"dist\": 11, \"ac_requested_sum\": 54141019.0, \"fed_requested_sum\": 47449681.58, \"total_requested_sum\": 50960061.87000001, \"ac_requested_mean\": 594956.2527472527, \"fed_requested_mean\": 521425.0723076923, \"total_requested_mean\": 560000.67989011, \"unique_mpo\": 3.0, \"unique_prefix\": 27.0, \"unique_primary_agency_name\": 20.0, \"unique_project_location\": 73.0, \"unique_project_no\": 76.0, \"unique_type_of_work\": 75.0}, {\"prepared_y\": 2020, \"dist\": 11, \"ac_requested_sum\": 5286649.0, \"fed_requested_sum\": 119424707.24, \"total_requested_sum\": 151733018.07999998, \"ac_requested_mean\": 40356.099236641225, \"fed_requested_mean\": 911638.9865648855, \"total_requested_mean\": 1158267.3135877862, \"unique_mpo\": 3.0, \"unique_prefix\": 28.0, \"unique_primary_agency_name\": 23.0, \"unique_project_location\": 104.0, \"unique_project_no\": 111.0, \"unique_type_of_work\": 93.0}, {\"prepared_y\": 2019, \"dist\": 11, \"ac_requested_sum\": -19971304.0, \"fed_requested_sum\": 62159902.64, \"total_requested_sum\": 69392790.82000001, \"ac_requested_mean\": -183222.9724770642, \"fed_requested_mean\": 570274.336146789, \"total_requested_mean\": 636631.108440367, \"unique_mpo\": 2.0, \"unique_prefix\": 22.0, \"unique_primary_agency_name\": 22.0, \"unique_project_location\": 90.0, \"unique_project_no\": 90.0, \"unique_type_of_work\": 80.0}, {\"prepared_y\": 2018, \"dist\": 11, \"ac_requested_sum\": 39547944.0, \"fed_requested_sum\": 56736895.519999996, \"total_requested_sum\": 109554198.54, \"ac_requested_mean\": 380268.6923076923, \"fed_requested_mean\": 545547.0723076923, \"total_requested_mean\": 1053405.7551923078, \"unique_mpo\": 2.0, \"unique_prefix\": 29.0, \"unique_primary_agency_name\": 21.0, \"unique_project_location\": 81.0, \"unique_project_no\": 85.0, \"unique_type_of_work\": 84.0}, {\"prepared_y\": 2017, \"dist\": 11, \"ac_requested_sum\": 79668325.0, \"fed_requested_sum\": 52728400.99, \"total_requested_sum\": 153790118.85999998, \"ac_requested_mean\": 781062.0098039216, \"fed_requested_mean\": 516945.10774509807, \"total_requested_mean\": 1507746.2633333332, \"unique_mpo\": 3.0, \"unique_prefix\": 22.0, \"unique_primary_agency_name\": 25.0, \"unique_project_location\": 90.0, \"unique_project_no\": 91.0, \"unique_type_of_work\": 88.0}, {\"prepared_y\": 2016, \"dist\": 11, \"ac_requested_sum\": 165393693.0, \"fed_requested_sum\": 103380124.7, \"total_requested_sum\": 359905282.95, \"ac_requested_mean\": 1355686.0081967213, \"fed_requested_mean\": 847378.0713114755, \"total_requested_mean\": 2950043.3028688524, \"unique_mpo\": 3.0, \"unique_prefix\": 29.0, \"unique_primary_agency_name\": 23.0, \"unique_project_location\": 101.0, \"unique_project_no\": 105.0, \"unique_type_of_work\": 98.0}, {\"prepared_y\": 2015, \"dist\": 11, \"ac_requested_sum\": 45445388.0, \"fed_requested_sum\": 46553372.18, \"total_requested_sum\": 196077466.16, \"ac_requested_mean\": 363563.104, \"fed_requested_mean\": 372426.97744, \"total_requested_mean\": 1568619.72928, \"unique_mpo\": 6.0, \"unique_prefix\": 28.0, \"unique_primary_agency_name\": 21.0, \"unique_project_location\": 100.0, \"unique_project_no\": 102.0, \"unique_type_of_work\": 96.0}, {\"prepared_y\": 2014, \"dist\": 11, \"ac_requested_sum\": 0.0, \"fed_requested_sum\": 47694110.84, \"total_requested_sum\": 61749532.44, \"ac_requested_mean\": 0.0, \"fed_requested_mean\": 381552.88672, \"total_requested_mean\": 493996.25951999996, \"unique_mpo\": 10.0, \"unique_prefix\": 29.0, \"unique_primary_agency_name\": 25.0, \"unique_project_location\": 102.0, \"unique_project_no\": 109.0, \"unique_type_of_work\": 97.0}, {\"prepared_y\": 2013, \"dist\": 11, \"ac_requested_sum\": 0.0, \"fed_requested_sum\": 3890130.7, \"total_requested_sum\": 4317169.63, \"ac_requested_mean\": 0.0, \"fed_requested_mean\": 432236.7444444445, \"total_requested_mean\": 479685.51444444444, \"unique_mpo\": 4.0, \"unique_prefix\": 7.0, \"unique_primary_agency_name\": 8.0, \"unique_project_location\": 9.0, \"unique_project_no\": 9.0, \"unique_type_of_work\": 9.0}, {\"prepared_y\": 2011, \"dist\": 11, \"ac_requested_sum\": 0.0, \"fed_requested_sum\": 900000.0, \"total_requested_sum\": 1224000.0, \"ac_requested_mean\": 0.0, \"fed_requested_mean\": 900000.0, \"total_requested_mean\": 1224000.0, \"unique_mpo\": 1.0, \"unique_prefix\": 1.0, \"unique_primary_agency_name\": 1.0, \"unique_project_location\": 1.0, \"unique_project_no\": 1.0, \"unique_type_of_work\": 1.0}]}}, {\"mode\": \"vega-lite\"});\n",
       "</script>"
      ],
      "text/plain": [
       "alt.Chart(...)"
      ]
     },
     "metadata": {},
     "output_type": "display_data"
    },
    {
     "data": {
      "text/markdown": [
       "**Top Values in District**"
      ],
      "text/plain": [
       "<IPython.core.display.Markdown object>"
      ]
     },
     "metadata": {},
     "output_type": "display_data"
    },
    {
     "ename": "FileNotFoundError",
     "evalue": "[Errno 2] No such file or directory: './chart_outputs/d11_outputs/bar_value_by_count.png'",
     "output_type": "error",
     "traceback": [
      "\u001b[0;31m---------------------------------------------------------------------------\u001b[0m",
      "\u001b[0;31mFileNotFoundError\u001b[0m                         Traceback (most recent call last)",
      "\u001b[0;32m/tmp/ipykernel_1125/4006834440.py\u001b[0m in \u001b[0;36m<module>\u001b[0;34m\u001b[0m\n\u001b[0;32m----> 1\u001b[0;31m \u001b[0mmake_charts\u001b[0m\u001b[0;34m(\u001b[0m\u001b[0mdf\u001b[0m\u001b[0;34m)\u001b[0m\u001b[0;34m\u001b[0m\u001b[0;34m\u001b[0m\u001b[0m\n\u001b[0m",
      "\u001b[0;32m/tmp/ipykernel_1125/3787262101.py\u001b[0m in \u001b[0;36mmake_charts\u001b[0;34m(df)\u001b[0m\n\u001b[1;32m     34\u001b[0m     \u001b[0;32mfor\u001b[0m \u001b[0mvalue\u001b[0m \u001b[0;32min\u001b[0m \u001b[0mvalues\u001b[0m\u001b[0;34m:\u001b[0m\u001b[0;34m\u001b[0m\u001b[0;34m\u001b[0m\u001b[0m\n\u001b[1;32m     35\u001b[0m         \u001b[0mdisplay\u001b[0m\u001b[0;34m(\u001b[0m\u001b[0mMarkdown\u001b[0m\u001b[0;34m(\u001b[0m\u001b[0;34mf\"**Top Values in {labeling(value)}**\"\u001b[0m\u001b[0;34m)\u001b[0m\u001b[0;34m)\u001b[0m\u001b[0;34m\u001b[0m\u001b[0;34m\u001b[0m\u001b[0m\n\u001b[0;32m---> 36\u001b[0;31m         \u001b[0mdisplay\u001b[0m\u001b[0;34m(\u001b[0m\u001b[0mbasic_bar_chart_test\u001b[0m\u001b[0;34m(\u001b[0m\u001b[0;34m(\u001b[0m\u001b[0mdf_top\u001b[0m\u001b[0;34m>>\u001b[0m\u001b[0mfilter\u001b[0m\u001b[0;34m(\u001b[0m\u001b[0m_\u001b[0m\u001b[0;34m.\u001b[0m\u001b[0mvariable\u001b[0m\u001b[0;34m==\u001b[0m\u001b[0mvalue\u001b[0m\u001b[0;34m)\u001b[0m\u001b[0;34m)\u001b[0m\u001b[0;34m,\u001b[0m \u001b[0;34m'value'\u001b[0m\u001b[0;34m,\u001b[0m \u001b[0;34m'count'\u001b[0m\u001b[0;34m,\u001b[0m \u001b[0;34m'count'\u001b[0m\u001b[0;34m)\u001b[0m\u001b[0;34m)\u001b[0m\u001b[0;34m\u001b[0m\u001b[0;34m\u001b[0m\u001b[0m\n\u001b[0m",
      "\u001b[0;32m/tmp/ipykernel_1125/2054351027.py\u001b[0m in \u001b[0;36mbasic_bar_chart_test\u001b[0;34m(df, x_col, y_col, color_col)\u001b[0m\n\u001b[1;32m     16\u001b[0m \u001b[0;34m\u001b[0m\u001b[0m\n\u001b[1;32m     17\u001b[0m     \u001b[0mchart\u001b[0m\u001b[0;34m=\u001b[0m\u001b[0mstyleguide\u001b[0m\u001b[0;34m.\u001b[0m\u001b[0mpreset_chart_config\u001b[0m\u001b[0;34m(\u001b[0m\u001b[0mchart\u001b[0m\u001b[0;34m)\u001b[0m\u001b[0;34m\u001b[0m\u001b[0;34m\u001b[0m\u001b[0m\n\u001b[0;32m---> 18\u001b[0;31m     \u001b[0mchart\u001b[0m\u001b[0;34m.\u001b[0m\u001b[0msave\u001b[0m\u001b[0;34m(\u001b[0m\u001b[0;34mf\"./chart_outputs/d{subset}_outputs/bar_{x_col}_by_{y_col}.png\"\u001b[0m\u001b[0;34m)\u001b[0m\u001b[0;34m\u001b[0m\u001b[0;34m\u001b[0m\u001b[0m\n\u001b[0m\u001b[1;32m     19\u001b[0m \u001b[0;34m\u001b[0m\u001b[0m\n\u001b[1;32m     20\u001b[0m     \u001b[0;32mreturn\u001b[0m \u001b[0mchart\u001b[0m\u001b[0;34m\u001b[0m\u001b[0;34m\u001b[0m\u001b[0m\n",
      "\u001b[0;32m/opt/conda/lib/python3.9/site-packages/altair/vegalite/v4/api.py\u001b[0m in \u001b[0;36msave\u001b[0;34m(self, fp, format, override_data_transformer, scale_factor, vegalite_version, vega_version, vegaembed_version, **kwargs)\u001b[0m\n\u001b[1;32m    486\u001b[0m         \u001b[0;32mif\u001b[0m \u001b[0moverride_data_transformer\u001b[0m\u001b[0;34m:\u001b[0m\u001b[0;34m\u001b[0m\u001b[0;34m\u001b[0m\u001b[0m\n\u001b[1;32m    487\u001b[0m             \u001b[0;32mwith\u001b[0m \u001b[0mdata_transformers\u001b[0m\u001b[0;34m.\u001b[0m\u001b[0mdisable_max_rows\u001b[0m\u001b[0;34m(\u001b[0m\u001b[0;34m)\u001b[0m\u001b[0;34m:\u001b[0m\u001b[0;34m\u001b[0m\u001b[0;34m\u001b[0m\u001b[0m\n\u001b[0;32m--> 488\u001b[0;31m                 \u001b[0mresult\u001b[0m \u001b[0;34m=\u001b[0m \u001b[0msave\u001b[0m\u001b[0;34m(\u001b[0m\u001b[0;34m**\u001b[0m\u001b[0mkwds\u001b[0m\u001b[0;34m)\u001b[0m\u001b[0;34m\u001b[0m\u001b[0;34m\u001b[0m\u001b[0m\n\u001b[0m\u001b[1;32m    489\u001b[0m         \u001b[0;32melse\u001b[0m\u001b[0;34m:\u001b[0m\u001b[0;34m\u001b[0m\u001b[0;34m\u001b[0m\u001b[0m\n\u001b[1;32m    490\u001b[0m             \u001b[0mresult\u001b[0m \u001b[0;34m=\u001b[0m \u001b[0msave\u001b[0m\u001b[0;34m(\u001b[0m\u001b[0;34m**\u001b[0m\u001b[0mkwds\u001b[0m\u001b[0;34m)\u001b[0m\u001b[0;34m\u001b[0m\u001b[0;34m\u001b[0m\u001b[0m\n",
      "\u001b[0;32m/opt/conda/lib/python3.9/site-packages/altair/utils/save.py\u001b[0m in \u001b[0;36msave\u001b[0;34m(chart, fp, vega_version, vegaembed_version, format, mode, vegalite_version, embed_options, json_kwds, webdriver, scale_factor, **kwargs)\u001b[0m\n\u001b[1;32m    126\u001b[0m         )\n\u001b[1;32m    127\u001b[0m         \u001b[0;32mif\u001b[0m \u001b[0mformat\u001b[0m \u001b[0;34m==\u001b[0m \u001b[0;34m\"png\"\u001b[0m\u001b[0;34m:\u001b[0m\u001b[0;34m\u001b[0m\u001b[0;34m\u001b[0m\u001b[0m\n\u001b[0;32m--> 128\u001b[0;31m             \u001b[0mwrite_file_or_filename\u001b[0m\u001b[0;34m(\u001b[0m\u001b[0mfp\u001b[0m\u001b[0;34m,\u001b[0m \u001b[0mmimebundle\u001b[0m\u001b[0;34m[\u001b[0m\u001b[0;34m\"image/png\"\u001b[0m\u001b[0;34m]\u001b[0m\u001b[0;34m,\u001b[0m \u001b[0mmode\u001b[0m\u001b[0;34m=\u001b[0m\u001b[0;34m\"wb\"\u001b[0m\u001b[0;34m)\u001b[0m\u001b[0;34m\u001b[0m\u001b[0;34m\u001b[0m\u001b[0m\n\u001b[0m\u001b[1;32m    129\u001b[0m         \u001b[0;32melif\u001b[0m \u001b[0mformat\u001b[0m \u001b[0;34m==\u001b[0m \u001b[0;34m\"pdf\"\u001b[0m\u001b[0;34m:\u001b[0m\u001b[0;34m\u001b[0m\u001b[0;34m\u001b[0m\u001b[0m\n\u001b[1;32m    130\u001b[0m             \u001b[0mwrite_file_or_filename\u001b[0m\u001b[0;34m(\u001b[0m\u001b[0mfp\u001b[0m\u001b[0;34m,\u001b[0m \u001b[0mmimebundle\u001b[0m\u001b[0;34m[\u001b[0m\u001b[0;34m\"application/pdf\"\u001b[0m\u001b[0;34m]\u001b[0m\u001b[0;34m,\u001b[0m \u001b[0mmode\u001b[0m\u001b[0;34m=\u001b[0m\u001b[0;34m\"wb\"\u001b[0m\u001b[0;34m)\u001b[0m\u001b[0;34m\u001b[0m\u001b[0;34m\u001b[0m\u001b[0m\n",
      "\u001b[0;32m/opt/conda/lib/python3.9/site-packages/altair/utils/save.py\u001b[0m in \u001b[0;36mwrite_file_or_filename\u001b[0;34m(fp, content, mode)\u001b[0m\n\u001b[1;32m      9\u001b[0m     file-like object\"\"\"\n\u001b[1;32m     10\u001b[0m     \u001b[0;32mif\u001b[0m \u001b[0misinstance\u001b[0m\u001b[0;34m(\u001b[0m\u001b[0mfp\u001b[0m\u001b[0;34m,\u001b[0m \u001b[0mstr\u001b[0m\u001b[0;34m)\u001b[0m \u001b[0;32mor\u001b[0m \u001b[0misinstance\u001b[0m\u001b[0;34m(\u001b[0m\u001b[0mfp\u001b[0m\u001b[0;34m,\u001b[0m \u001b[0mpathlib\u001b[0m\u001b[0;34m.\u001b[0m\u001b[0mPurePath\u001b[0m\u001b[0;34m)\u001b[0m\u001b[0;34m:\u001b[0m\u001b[0;34m\u001b[0m\u001b[0;34m\u001b[0m\u001b[0m\n\u001b[0;32m---> 11\u001b[0;31m         \u001b[0;32mwith\u001b[0m \u001b[0mopen\u001b[0m\u001b[0;34m(\u001b[0m\u001b[0mfp\u001b[0m\u001b[0;34m,\u001b[0m \u001b[0mmode\u001b[0m\u001b[0;34m)\u001b[0m \u001b[0;32mas\u001b[0m \u001b[0mf\u001b[0m\u001b[0;34m:\u001b[0m\u001b[0;34m\u001b[0m\u001b[0;34m\u001b[0m\u001b[0m\n\u001b[0m\u001b[1;32m     12\u001b[0m             \u001b[0mf\u001b[0m\u001b[0;34m.\u001b[0m\u001b[0mwrite\u001b[0m\u001b[0;34m(\u001b[0m\u001b[0mcontent\u001b[0m\u001b[0;34m)\u001b[0m\u001b[0;34m\u001b[0m\u001b[0;34m\u001b[0m\u001b[0m\n\u001b[1;32m     13\u001b[0m     \u001b[0;32melse\u001b[0m\u001b[0;34m:\u001b[0m\u001b[0;34m\u001b[0m\u001b[0;34m\u001b[0m\u001b[0m\n",
      "\u001b[0;31mFileNotFoundError\u001b[0m: [Errno 2] No such file or directory: './chart_outputs/d11_outputs/bar_value_by_count.png'"
     ]
    }
   ],
   "source": [
    "make_charts(df)"
   ]
  },
  {
   "cell_type": "code",
   "execution_count": 93,
   "id": "6ef20faf-de3b-4211-8502-a531a5b6e7ed",
   "metadata": {},
   "outputs": [],
   "source": [
    "unqiue_agencies = (df.primary_agency_name.nunique())"
   ]
  },
  {
   "cell_type": "code",
   "execution_count": 94,
   "id": "53d0589b-4d75-4e77-bbd5-991f27658266",
   "metadata": {
    "tags": []
   },
   "outputs": [
    {
     "data": {
      "text/plain": [
       "31"
      ]
     },
     "execution_count": 94,
     "metadata": {},
     "output_type": "execute_result"
    }
   ],
   "source": [
    "unqiue_agencies"
   ]
  },
  {
   "cell_type": "code",
   "execution_count": null,
   "id": "71004878-84d3-4af7-af82-6d56edb8680b",
   "metadata": {},
   "outputs": [],
   "source": []
  }
 ],
 "metadata": {
  "kernelspec": {
   "display_name": "Python 3 (ipykernel)",
   "language": "python",
   "name": "python3"
  },
  "language_info": {
   "codemirror_mode": {
    "name": "ipython",
    "version": 3
   },
   "file_extension": ".py",
   "mimetype": "text/x-python",
   "name": "python",
   "nbconvert_exporter": "python",
   "pygments_lexer": "ipython3",
   "version": "3.9.7"
  },
  "widgets": {
   "application/vnd.jupyter.widget-state+json": {
    "state": {},
    "version_major": 2,
    "version_minor": 0
   }
  }
 },
 "nbformat": 4,
 "nbformat_minor": 5
}
