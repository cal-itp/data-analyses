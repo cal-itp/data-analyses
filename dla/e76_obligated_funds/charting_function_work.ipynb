{
 "cells": [
  {
   "cell_type": "markdown",
   "id": "c5e93f25-9e95-4c5a-a088-8a517607537c",
   "metadata": {},
   "source": [
    "# Script work for Generating Charting Outputs"
   ]
  },
  {
   "cell_type": "code",
   "execution_count": 3,
   "id": "8897166d-b159-4b32-aa51-f5603677e576",
   "metadata": {},
   "outputs": [],
   "source": [
    "#! pip install cpi"
   ]
  },
  {
   "cell_type": "code",
   "execution_count": 2,
   "id": "309c8aed-2642-4d35-8349-7d25c94ab809",
   "metadata": {},
   "outputs": [],
   "source": [
    "import numpy as np\n",
    "import pandas as pd\n",
    "from siuba import *\n",
    "\n",
    "import altair as alt\n",
    "import altair_saver\n",
    "from plotnine import *\n",
    "\n",
    "from IPython.display import Markdown\n",
    "\n",
    "from shared_utils import altair_utils\n",
    "from shared_utils import geography_utils\n",
    "from shared_utils import calitp_color_palette as cp\n",
    "from shared_utils import styleguide\n",
    "\n",
    "from calitp import to_snakecase\n",
    "import intake\n",
    "\n",
    "import _clean_data\n",
    "import _dla_utils"
   ]
  },
  {
   "cell_type": "code",
   "execution_count": 3,
   "id": "09b8cdb0-bc6d-4ddd-96f4-55cefb5c6ca0",
   "metadata": {},
   "outputs": [],
   "source": [
    "pd.set_option('display.max_columns', None)\n",
    "pd.options.display.float_format = '{:,.2f}'.format"
   ]
  },
  {
   "cell_type": "code",
   "execution_count": 4,
   "id": "6c15b87b-478d-4ac2-9e22-b2fa59824c38",
   "metadata": {},
   "outputs": [],
   "source": [
    "df= pd.read_parquet(\"dla_df.parquet\")"
   ]
  },
  {
   "cell_type": "code",
   "execution_count": 5,
   "id": "be8a0fa5-21c2-41b0-ab1f-786162dae9ef",
   "metadata": {},
   "outputs": [
    {
     "data": {
      "text/plain": [
       "21059"
      ]
     },
     "execution_count": 5,
     "metadata": {},
     "output_type": "execute_result"
    }
   ],
   "source": [
    "len(df)"
   ]
  },
  {
   "cell_type": "code",
   "execution_count": 8,
   "id": "56fa1bed-c8aa-4b1a-9edf-426fecfb802b",
   "metadata": {
    "tags": [
     "parameter"
    ]
   },
   "outputs": [],
   "source": [
    "#subset= 11"
   ]
  },
  {
   "cell_type": "code",
   "execution_count": 9,
   "id": "f7ded6ab-4481-44d6-82f0-947376ff6238",
   "metadata": {},
   "outputs": [],
   "source": [
    "#df = df>>filter(_.dist==subset)"
   ]
  },
  {
   "cell_type": "code",
   "execution_count": 6,
   "id": "3294c177-15e2-4baf-a1fa-98390610429a",
   "metadata": {
    "tags": []
   },
   "outputs": [],
   "source": [
    "def labeling(word):\n",
    "    # Add specific use cases where it's not just first letter capitalized\n",
    "    LABEL_DICT = { \"prepared_y\": \"Year\",\n",
    "              \"dist\": \"District\",\n",
    "              \"total_requested\": \"Total Requested\",\n",
    "              \"fed_requested\":\"Fed Requested\",\n",
    "              \"ac_requested\": \"Advance Construction Requested\",\n",
    "              \"nunique\":\"Number of Unique\",\n",
    "              \"project_no\": \"Project Number\"}\n",
    "    \n",
    "    if (word == \"mpo\") or (word == \"rtpa\"):\n",
    "        word = word.upper()\n",
    "    elif word in LABEL_DICT.keys():\n",
    "        word = LABEL_DICT[word]\n",
    "    else:\n",
    "        word = word.replace('n_', 'Number of ').title()\n",
    "        word = word.replace('unique_', \"Number of Unique \").title()\n",
    "        word = word.replace('_', ' ').title()\n",
    "    \n",
    "    return word\n"
   ]
  },
  {
   "cell_type": "code",
   "execution_count": 166,
   "id": "7cb8e1dc-232f-4d7b-b8ab-5cb4c94237e0",
   "metadata": {
    "tags": []
   },
   "outputs": [],
   "source": [
    "def basic_bar_chart_test(df, x_col, y_col, color_col, subset, chart_title=''):\n",
    "\n",
    "    if chart_title == \"\":\n",
    "        chart_title = (f\"{labeling(x_col)} by {labeling(y_col)}\")\n",
    "\n",
    "    \n",
    "    chart = (alt.Chart(df)\n",
    "             .mark_bar()\n",
    "             .encode(\n",
    "                 x=alt.X(x_col, title=labeling(x_col), sort=('-y')),\n",
    "                 y=alt.Y(y_col, title=labeling(y_col)),\n",
    "                 color = alt.Color(color_col,\n",
    "                                  scale=alt.Scale(\n",
    "                                      range=altair_utils.CALITP_CATEGORY_BRIGHT_COLORS),\n",
    "                                      legend=alt.Legend(title=(labeling(color_col)))\n",
    "                                  ))\n",
    "             .properties( \n",
    "                          title=chart_title)\n",
    "    )\n",
    "\n",
    "    chart=styleguide.preset_chart_config(chart)\n",
    "   # chart.save(f\"./chart_outputs/d{subset}_outputs/bar_{x_col}_by_{y_col}.png\")\n",
    "    \n",
    "    return chart\n",
    "\n",
    "\n",
    "def basic_line_chart_test(df, x_col, y_col, subset, chart_title=''):\n",
    "    \n",
    "    if chart_title == \"\":\n",
    "        chart_title = (f\"{labeling(x_col)} by {labeling(y_col)}\")\n",
    "    \n",
    "    \n",
    "    chart = (alt.Chart(df)\n",
    "             .mark_line()\n",
    "             .encode(\n",
    "                 x=alt.X(x_col, title=labeling(x_col)),\n",
    "                 y=alt.Y(y_col, title=labeling(y_col))\n",
    "                                   )\n",
    "              ).properties( \n",
    "                          title=chart_title)\n",
    "\n",
    "    chart=styleguide.preset_chart_config(chart)\n",
    "    #chart.save(f\"./chart_outputs/d{subset}_outputs/line_{x_col}_by_{y_col}.png\")\n",
    "    \n",
    "    return chart\n"
   ]
  },
  {
   "cell_type": "code",
   "execution_count": 167,
   "id": "9f581c3b-7226-4b7e-acb9-8c9666ffdd42",
   "metadata": {},
   "outputs": [],
   "source": [
    "#df_years= _dla_utils.count_all_years(df)"
   ]
  },
  {
   "cell_type": "code",
   "execution_count": 168,
   "id": "19f864d2-2df3-4d3f-b61c-1d82fc6acd05",
   "metadata": {},
   "outputs": [],
   "source": [
    "#basic_bar_chart_test(df_years, 'prepared_y', 'total_requested_sum', 'prepared_y', subset, 'Total Requested Funds by Year')\n"
   ]
  },
  {
   "cell_type": "code",
   "execution_count": 169,
   "id": "e04e9aa3-00b6-409a-b741-bc2eba72cdcb",
   "metadata": {},
   "outputs": [],
   "source": [
    "#df = (df>>filter(_.dist==subset))\n",
    "#df_top = _dla_utils.find_top(df)\n",
    "\n",
    "#basic_bar_chart_test((df_top>>filter(_.variable=='primary_agency_name')), 'value', 'count', 'count', subset, chart_title='Primary Agency name')"
   ]
  },
  {
   "cell_type": "code",
   "execution_count": 170,
   "id": "05992e7b-a9cf-44ca-9707-f13d3c212165",
   "metadata": {},
   "outputs": [],
   "source": [
    "df_top = _dla_utils.find_top(df)"
   ]
  },
  {
   "cell_type": "code",
   "execution_count": 171,
   "id": "dd7315da-e137-4673-8b5f-48c283163ae6",
   "metadata": {},
   "outputs": [],
   "source": [
    "#df_top>>filter(_.variable=='prefix')\n"
   ]
  },
  {
   "cell_type": "markdown",
   "id": "5d768d2a-10a9-456c-bd69-83cb01ef818d",
   "metadata": {
    "tags": []
   },
   "source": [
    "## Transit Agencies"
   ]
  },
  {
   "cell_type": "code",
   "execution_count": null,
   "id": "31a4b10c-f109-41d7-a921-91af51040b11",
   "metadata": {},
   "outputs": [],
   "source": []
  },
  {
   "cell_type": "code",
   "execution_count": 172,
   "id": "1d770fb9-e690-4d2f-9eda-99fffc6124f8",
   "metadata": {},
   "outputs": [],
   "source": [
    "# transit_agencies = df[df['primary_agency_name'].str.contains(\n",
    "#               'Transit|tranist|Rail',\n",
    "#               case=False, na=False)]"
   ]
  },
  {
   "cell_type": "code",
   "execution_count": 173,
   "id": "0f01e1b3-73bf-4818-9475-fada14aa8e33",
   "metadata": {},
   "outputs": [],
   "source": [
    "#transit_agencies>>count(_.primary_agency_name)"
   ]
  },
  {
   "cell_type": "code",
   "execution_count": 174,
   "id": "5ce4da95-08f8-41a8-b6a5-572d16c89a10",
   "metadata": {},
   "outputs": [],
   "source": [
    "##Add to chart function\n",
    "# chart_title='Obligations by Year'\n",
    "# chart_title.replace(\" \", \"_\")"
   ]
  },
  {
   "cell_type": "code",
   "execution_count": null,
   "id": "0f43afe9-4e36-4bab-bac1-4ad2e8363c6d",
   "metadata": {},
   "outputs": [],
   "source": []
  },
  {
   "cell_type": "code",
   "execution_count": null,
   "id": "fa287ae8-c82e-457f-820c-03ff6f2ed138",
   "metadata": {},
   "outputs": [],
   "source": []
  },
  {
   "cell_type": "markdown",
   "id": "fe65f4d0-3015-49cc-abbd-22eb87b417ab",
   "metadata": {},
   "source": [
    "## Charts"
   ]
  },
  {
   "cell_type": "code",
   "execution_count": 187,
   "id": "1d1dfdca-bb15-49d7-9b0f-67bc3723b8cc",
   "metadata": {
    "tags": []
   },
   "outputs": [],
   "source": [
    "def make_charts(df, subset):     \n",
    "    df= pd.read_parquet(\"dla_df.parquet\")\n",
    "    \n",
    "    df = (df>>filter(_.dist==subset))\n",
    "    \n",
    "    #subsetting the data\n",
    "    df_years = _dla_utils.count_all_years(df)\n",
    "    df_top = _dla_utils.find_top(df)\n",
    "    \n",
    "    \n",
    "    ##print statements\n",
    "    display(Markdown(f\"# **District {subset} Analysis**\"))\n",
    "    \n",
    "    display(Markdown(f\"**Unique Agencies Funding**\"))\n",
    "    display(Markdown(f'There are {(df.primary_agency_name.nunique())} Unique Agencies'))\n",
    "    \n",
    "    \n",
    "    display(Markdown(f\"Out of {len(df)} obligations, {len(transit)} are transit-related.\"))\n",
    "    display(Markdown(f\"{(transit>>count(_.primary_agency_name)>>arrange(-_.n)).iloc[0, 0]} has the highest Transit obligations\"))\n",
    "    \n",
    "    q = df>>count(_.primary_agency_name)>>arrange(_.n)\n",
    "    \n",
    "    q2 = q.n.quantile(.95)\n",
    "    display(Markdown(f\"There are {len(q>>filter(_.n> (q2)))} agencies have over {q2} obligations (95th percentile) since {(df.prepared_y.min())}\")\n",
    "           )   \n",
    "    \n",
    "    q3 = q.n.quantile(.1)\n",
    "    display(Markdown((f\"There are {len(q>>filter(_.n< (q3)))} agencies have less than {q3} obligations since {(df.prepared_y.min())}\")))\n",
    "\n",
    "\n",
    "    ##tables\n",
    "    \n",
    "    display(Markdown(f\"**Number of Unique Prefix Codes by Agency**\"))\n",
    "    display((_dla_utils.get_nunique(df, 'prefix', 'primary_agency_name')).head(5))\n",
    "    \n",
    "    display(Markdown(f\"**Number of Unique Agencies by Prefix Codes**\"))\n",
    "    display((_dla_utils.get_nunique(df, 'primary_agency_name', 'prefix')).head(5))\n",
    "    \n",
    "    display(Markdown(f\"**Top 5 Types of Work**\"))\n",
    "    display((transit>>count(_.type_of_work)>>arrange(-_.n)>>select(_.type_of_work)).head(5))\n",
    "    \n",
    "    \n",
    "#     ###charting df_years\n",
    "    \n",
    "#     column_names = list(df_years)\n",
    "\n",
    "#     for column in column_names:\n",
    "    \n",
    "#         display(Markdown(f\"**{labeling(column)} Over Prepared Year**\"))\n",
    "#         display(basic_bar_chart_test(df_years, \"prepared_y\", column, \"prepared_y\", subset))\n",
    "    \n",
    "    \n",
    "#     ###charting df_tops \n",
    "    \n",
    "#     values = sorted(df_top['variable'].unique())\n",
    "\n",
    "#     for value in values:\n",
    "#         display(Markdown(f\"**Top Values in {labeling(value)}**\"))\n",
    "#         display(basic_bar_chart_test((df_top>>filter(_.variable==value)), 'value', 'count', 'count', subset,\n",
    "#                                     chart_title=f'Top 20 {labeling(value)}'))\n",
    "        \n",
    "        \n",
    "       \n",
    "   #Other Charting\n",
    "    display(Markdown(f\"**Number of Obligations**\"))\n",
    "    \n",
    "    #Line chart for Obligations by Year\n",
    "    chart1= (basic_line_chart_test((df_top>>filter(_.variable=='prepared_y')), 'value', 'count', subset, 'Obligations by Year'))\n",
    "    display(chart1)\n",
    "    \n",
    "    \n",
    "    #Bar chart Agencies With The Most Obligations\n",
    "    chart2= (basic_bar_chart_test((df_top>>filter(_.variable=='primary_agency_name')), 'value', 'count', 'value', subset, 'Agencies With The Most Obligations'))\n",
    "    display(chart2)\n",
    "    \n",
    "    \n",
    "    display(Markdown(f\"**Prefix Codes**\"))\n",
    "    \n",
    "    #Bar chart Agencies With The Most Unique Prefix Codes\n",
    "    chart3 = (basic_bar_chart_test(((_dla_utils.get_nunique(df, 'prefix', 'primary_agency_name')).head(30)),\n",
    "                            'primary_agency_name', 'n', 'primary_agency_name', subset, 'Agencies With The Most Unique Prefix Codes'))\n",
    "    display(chart3)\n",
    "    \n",
    "    # Bar chart Average Total Requested Funds by Prefix\n",
    "    chart8 = (basic_bar_chart_test((((_dla_utils.calculate_data_all(df, 'total_requested', 'prefix', aggfunc=\"mean\"))\n",
    "                          >>arrange(-_.total_requested)).head(30)), 'prefix','total_requested', 'prefix', subset,\n",
    "                           'Average Total Requested Funds by Prefix'\n",
    "                       ))\n",
    "    display(chart8)\n",
    "    \n",
    "    #Bar chart with the Most Used Prefix Counts\n",
    "    chart9= (basic_bar_chart_test((df_top>>filter(_.variable=='prefix')), 'value', 'count', 'value', subset, 'Most Used Prefix Codes'))\n",
    "    display(chart9)\n",
    "    \n",
    "    \n",
    "    display(Markdown(f\"**Funding Amounts**\"))\n",
    "    \n",
    "    #Bar chart Average Total Requested Funds by Agency\n",
    "    chart4=(basic_bar_chart_test((((_dla_utils.calculate_data_all(df, 'total_requested', 'primary_agency_name', aggfunc=\"mean\"))\n",
    "                          >>arrange(-_.total_requested)).head(30)\n",
    "                        ), 'primary_agency_name','total_requested', 'primary_agency_name', subset,\n",
    "                           'Average Total Requested Funds by Agency'\n",
    "                       ))\n",
    "    display(chart4)\n",
    "    \n",
    "    \n",
    "    #Bar chart Bottom Average Total Requested Funds by Agency\n",
    "    avg_funds_bottom = (df>>group_by(_.primary_agency_name)>>summarize(avg_funds=_.total_requested.mean())>>arrange(-_.avg_funds)).tail(50)\n",
    "\n",
    "    chart5=( basic_bar_chart_test((avg_funds_bottom.tail(40)), 'primary_agency_name','avg_funds', 'primary_agency_name', subset, \n",
    "                          'Lowest Average Total Funds by Agency'))\n",
    "    display(chart5)\n",
    "   \n",
    "\n",
    "    \n",
    "    #Bar chart Average Total Requested Funds by Agency: Transit Related Funding\n",
    "#     chart6 = (basic_bar_chart_test((((_dla_utils.calculate_data_all(transit, 'total_requested', 'primary_agency_name', aggfunc=\"mean\"))\n",
    "#                           >>arrange(-_.total_requested)).head(30)\n",
    "#                         ), 'primary_agency_name','total_requested', 'primary_agency_name', subset,\n",
    "#                            'Average Total Requested Funds by Agency: Transit Related Funding'\n",
    "#                        ))\n",
    "#     display(chart6)\n",
    "    \n",
    "    # #Bar chart Transit Agencies Average Funding\n",
    "    # chart7 = ( basic_bar_chart_test((_dla_utils.calculate_data_all(transit_agencies, 'total_requested', aggregate_by='primary_agency_name', aggfunc=\"mean\")),\n",
    "    #                        'primary_agency_name', 'total_requested', 'primary_agency_name', subset,\n",
    "    #                        'Transit Agencies Average Funding'))\n",
    "    # display(chart7)\n",
    "    \n",
    "    \n",
    "    \n",
    "    #work categories info and charts\n",
    "    display(Markdown(f\"**Work Categories**\"))\n",
    "    \n",
    "    work_cat = ['active_transp', 'transit', 'bridge', 'street','freeway', 'infra_resiliency_er',\n",
    "       'congestion_relief']\n",
    "    \n",
    "    for i in work_cat:\n",
    "        subset = (df>>filter(_[i]==1))\n",
    "        subset_2 = ((_dla_utils.find_top(subset))>>filter(_.variable=='primary_agency_name')\n",
    "                >>select(_.value,_.count)).head(5)\n",
    "        subset_2['Percent of Category'] = (((subset_2['count'])/(len(subset)))*100)\n",
    "        subset_2 =subset_2.rename(columns = {'value':'Agency', 'count':f'{_dla_utils.labeling(i)} Obligations'})\n",
    "    \n",
    "    \n",
    "        #generate chart:\n",
    "    \n",
    "        subset_3= ((subset.groupby(['primary_agency_name']).agg({i:'sum',\n",
    "                                                    'process_days':'mean',\n",
    "                                                    'adjusted_total_requested':'mean',\n",
    "                                                    'adjusted_fed_requested':'mean',\n",
    "                                                    'adjusted_ac_requested':'mean'}).reset_index())>>arrange(-_[i])).head(5)\n",
    "    \n",
    "        subset_3 =subset_3.rename(columns = {'primary_agency_name':'Agency',\n",
    "                                         'adjusted_total_requested':'Total Requested',\n",
    "                                         'adjusted_fed_requested':'Fed Requested',\n",
    "                                         'adjusted_ac_requested':'AC Requested'})\n",
    "    \n",
    "        subset_4 = pd.melt(subset_3, id_vars=['Agency'],\n",
    "            value_vars=['Total Requested','Fed Requested','AC Requested'],\n",
    "            var_name='Categories', value_name='value'\n",
    "           )\n",
    "\n",
    "        ## following cell block makes it hard to change name\n",
    "        # subset_4 = (subset_3 >> gather('category', 'value', _.adjusted_total_requested,\n",
    "        #                 _.adjusted_fed_requested,\n",
    "        #                 _.adjusted_ac_requested,\n",
    "        #                 ))\n",
    "    \n",
    "        chart = (alt.Chart(subset_4).mark_bar().encode(\n",
    "            x=alt.X('value', axis=alt.Axis(format='$', title='Obligated Funding ($2021)')),\n",
    "            y=alt.Y(\"Agency\"),\n",
    "            color='Categories:N',\n",
    "            row='Categories:N'\n",
    "        ))\n",
    "    \n",
    "        display(Markdown(f'**Top Agencies using {_dla_utils.labeling(i)} Projects**'))\n",
    "        display(subset_2.style.format(formatter={('Percent of Category'): \"{:.2f}%\"}))\n",
    "        display(chart)\n",
    "    \n",
    "    "
   ]
  },
  {
   "cell_type": "code",
   "execution_count": 188,
   "id": "1ed31f63-ec22-4f02-b37d-0f6cf6cdb23d",
   "metadata": {
    "tags": [
     "parameter"
    ]
   },
   "outputs": [],
   "source": [
    "#parameters cell\n",
    "subset = 4"
   ]
  },
  {
   "cell_type": "code",
   "execution_count": 189,
   "id": "bf957840-296b-4ebf-99c8-8bc8ebae269a",
   "metadata": {
    "tags": []
   },
   "outputs": [
    {
     "data": {
      "text/markdown": [
       "# **District 4 Analysis**"
      ],
      "text/plain": [
       "<IPython.core.display.Markdown object>"
      ]
     },
     "metadata": {},
     "output_type": "display_data"
    },
    {
     "data": {
      "text/markdown": [
       "**Unique Agencies Funding**"
      ],
      "text/plain": [
       "<IPython.core.display.Markdown object>"
      ]
     },
     "metadata": {},
     "output_type": "display_data"
    },
    {
     "data": {
      "text/markdown": [
       "There are 151 Unique Agencies"
      ],
      "text/plain": [
       "<IPython.core.display.Markdown object>"
      ]
     },
     "metadata": {},
     "output_type": "display_data"
    },
    {
     "data": {
      "text/markdown": [
       "Out of 3404 obligations, 432 are transit-related."
      ],
      "text/plain": [
       "<IPython.core.display.Markdown object>"
      ]
     },
     "metadata": {},
     "output_type": "display_data"
    },
    {
     "data": {
      "text/markdown": [
       "Los Angeles has the highest Transit obligations"
      ],
      "text/plain": [
       "<IPython.core.display.Markdown object>"
      ]
     },
     "metadata": {},
     "output_type": "display_data"
    },
    {
     "data": {
      "text/markdown": [
       "There are 8 agencies have over 92.5 obligations (95th percentile) since 2011.0"
      ],
      "text/plain": [
       "<IPython.core.display.Markdown object>"
      ]
     },
     "metadata": {},
     "output_type": "display_data"
    },
    {
     "data": {
      "text/markdown": [
       "There are 9 agencies have less than 2.0 obligations since 2011.0"
      ],
      "text/plain": [
       "<IPython.core.display.Markdown object>"
      ]
     },
     "metadata": {},
     "output_type": "display_data"
    },
    {
     "data": {
      "text/markdown": [
       "**Number of Unique Prefix Codes by Agency**"
      ],
      "text/plain": [
       "<IPython.core.display.Markdown object>"
      ]
     },
     "metadata": {},
     "output_type": "display_data"
    },
    {
     "data": {
      "text/html": [
       "<div>\n",
       "<style scoped>\n",
       "    .dataframe tbody tr th:only-of-type {\n",
       "        vertical-align: middle;\n",
       "    }\n",
       "\n",
       "    .dataframe tbody tr th {\n",
       "        vertical-align: top;\n",
       "    }\n",
       "\n",
       "    .dataframe thead th {\n",
       "        text-align: right;\n",
       "    }\n",
       "</style>\n",
       "<table border=\"1\" class=\"dataframe\">\n",
       "  <thead>\n",
       "    <tr style=\"text-align: right;\">\n",
       "      <th></th>\n",
       "      <th>primary_agency_name</th>\n",
       "      <th>n</th>\n",
       "    </tr>\n",
       "  </thead>\n",
       "  <tbody>\n",
       "    <tr>\n",
       "      <th>28</th>\n",
       "      <td>Contra Costa County</td>\n",
       "      <td>18</td>\n",
       "    </tr>\n",
       "    <tr>\n",
       "      <th>107</th>\n",
       "      <td>San Francisco County</td>\n",
       "      <td>17</td>\n",
       "    </tr>\n",
       "    <tr>\n",
       "      <th>110</th>\n",
       "      <td>San Jose</td>\n",
       "      <td>17</td>\n",
       "    </tr>\n",
       "    <tr>\n",
       "      <th>119</th>\n",
       "      <td>Santa Clara County</td>\n",
       "      <td>17</td>\n",
       "    </tr>\n",
       "    <tr>\n",
       "      <th>2</th>\n",
       "      <td>Alameda County</td>\n",
       "      <td>16</td>\n",
       "    </tr>\n",
       "  </tbody>\n",
       "</table>\n",
       "</div>"
      ],
      "text/plain": [
       "      primary_agency_name   n\n",
       "28    Contra Costa County  18\n",
       "107  San Francisco County  17\n",
       "110              San Jose  17\n",
       "119    Santa Clara County  17\n",
       "2          Alameda County  16"
      ]
     },
     "metadata": {},
     "output_type": "display_data"
    },
    {
     "data": {
      "text/markdown": [
       "**Number of Unique Agencies by Prefix Codes**"
      ],
      "text/plain": [
       "<IPython.core.display.Markdown object>"
      ]
     },
     "metadata": {},
     "output_type": "display_data"
    },
    {
     "data": {
      "text/html": [
       "<div>\n",
       "<style scoped>\n",
       "    .dataframe tbody tr th:only-of-type {\n",
       "        vertical-align: middle;\n",
       "    }\n",
       "\n",
       "    .dataframe tbody tr th {\n",
       "        vertical-align: top;\n",
       "    }\n",
       "\n",
       "    .dataframe thead th {\n",
       "        text-align: right;\n",
       "    }\n",
       "</style>\n",
       "<table border=\"1\" class=\"dataframe\">\n",
       "  <thead>\n",
       "    <tr style=\"text-align: right;\">\n",
       "      <th></th>\n",
       "      <th>prefix</th>\n",
       "      <th>n</th>\n",
       "    </tr>\n",
       "  </thead>\n",
       "  <tbody>\n",
       "    <tr>\n",
       "      <th>91</th>\n",
       "      <td>STPL</td>\n",
       "      <td>112</td>\n",
       "    </tr>\n",
       "    <tr>\n",
       "      <th>19</th>\n",
       "      <td>CML</td>\n",
       "      <td>90</td>\n",
       "    </tr>\n",
       "    <tr>\n",
       "      <th>62</th>\n",
       "      <td>HSIPL</td>\n",
       "      <td>52</td>\n",
       "    </tr>\n",
       "    <tr>\n",
       "      <th>16</th>\n",
       "      <td>BRLS</td>\n",
       "      <td>32</td>\n",
       "    </tr>\n",
       "    <tr>\n",
       "      <th>75</th>\n",
       "      <td>RPSTPL</td>\n",
       "      <td>30</td>\n",
       "    </tr>\n",
       "  </tbody>\n",
       "</table>\n",
       "</div>"
      ],
      "text/plain": [
       "    prefix    n\n",
       "91    STPL  112\n",
       "19     CML   90\n",
       "62   HSIPL   52\n",
       "16    BRLS   32\n",
       "75  RPSTPL   30"
      ]
     },
     "metadata": {},
     "output_type": "display_data"
    },
    {
     "data": {
      "text/markdown": [
       "**Top 5 Types of Work**"
      ],
      "text/plain": [
       "<IPython.core.display.Markdown object>"
      ]
     },
     "metadata": {},
     "output_type": "display_data"
    },
    {
     "data": {
      "text/html": [
       "<div>\n",
       "<style scoped>\n",
       "    .dataframe tbody tr th:only-of-type {\n",
       "        vertical-align: middle;\n",
       "    }\n",
       "\n",
       "    .dataframe tbody tr th {\n",
       "        vertical-align: top;\n",
       "    }\n",
       "\n",
       "    .dataframe thead th {\n",
       "        text-align: right;\n",
       "    }\n",
       "</style>\n",
       "<table border=\"1\" class=\"dataframe\">\n",
       "  <thead>\n",
       "    <tr style=\"text-align: right;\">\n",
       "      <th></th>\n",
       "      <th>type_of_work</th>\n",
       "    </tr>\n",
       "  </thead>\n",
       "  <tbody>\n",
       "    <tr>\n",
       "      <th>137</th>\n",
       "      <td>Public Outreach And Marketing For \"the Bus\" (tc)</td>\n",
       "    </tr>\n",
       "    <tr>\n",
       "      <th>12</th>\n",
       "      <td>Bridge Rail Replacement</td>\n",
       "    </tr>\n",
       "    <tr>\n",
       "      <th>13</th>\n",
       "      <td>Bridge Rail Replacement (tc)</td>\n",
       "    </tr>\n",
       "    <tr>\n",
       "      <th>208</th>\n",
       "      <td>Upgrade Traffic System Controller; Brt Phase( Tc)</td>\n",
       "    </tr>\n",
       "    <tr>\n",
       "      <th>212</th>\n",
       "      <td>Yarts Public Outreach And Marketing (tc)</td>\n",
       "    </tr>\n",
       "  </tbody>\n",
       "</table>\n",
       "</div>"
      ],
      "text/plain": [
       "                                          type_of_work\n",
       "137   Public Outreach And Marketing For \"the Bus\" (tc)\n",
       "12                             Bridge Rail Replacement\n",
       "13                        Bridge Rail Replacement (tc)\n",
       "208  Upgrade Traffic System Controller; Brt Phase( Tc)\n",
       "212           Yarts Public Outreach And Marketing (tc)"
      ]
     },
     "metadata": {},
     "output_type": "display_data"
    },
    {
     "data": {
      "text/markdown": [
       "**Number of Obligations**"
      ],
      "text/plain": [
       "<IPython.core.display.Markdown object>"
      ]
     },
     "metadata": {},
     "output_type": "display_data"
    },
    {
     "data": {
      "text/html": [
       "\n",
       "<div id=\"altair-viz-5b070da8d887439ea387017f7741d2a9\"></div>\n",
       "<script type=\"text/javascript\">\n",
       "  var VEGA_DEBUG = (typeof VEGA_DEBUG == \"undefined\") ? {} : VEGA_DEBUG;\n",
       "  (function(spec, embedOpt){\n",
       "    let outputDiv = document.currentScript.previousElementSibling;\n",
       "    if (outputDiv.id !== \"altair-viz-5b070da8d887439ea387017f7741d2a9\") {\n",
       "      outputDiv = document.getElementById(\"altair-viz-5b070da8d887439ea387017f7741d2a9\");\n",
       "    }\n",
       "    const paths = {\n",
       "      \"vega\": \"https://cdn.jsdelivr.net/npm//vega@5?noext\",\n",
       "      \"vega-lib\": \"https://cdn.jsdelivr.net/npm//vega-lib?noext\",\n",
       "      \"vega-lite\": \"https://cdn.jsdelivr.net/npm//vega-lite@4.17.0?noext\",\n",
       "      \"vega-embed\": \"https://cdn.jsdelivr.net/npm//vega-embed@6?noext\",\n",
       "    };\n",
       "\n",
       "    function maybeLoadScript(lib, version) {\n",
       "      var key = `${lib.replace(\"-\", \"\")}_version`;\n",
       "      return (VEGA_DEBUG[key] == version) ?\n",
       "        Promise.resolve(paths[lib]) :\n",
       "        new Promise(function(resolve, reject) {\n",
       "          var s = document.createElement('script');\n",
       "          document.getElementsByTagName(\"head\")[0].appendChild(s);\n",
       "          s.async = true;\n",
       "          s.onload = () => {\n",
       "            VEGA_DEBUG[key] = version;\n",
       "            return resolve(paths[lib]);\n",
       "          };\n",
       "          s.onerror = () => reject(`Error loading script: ${paths[lib]}`);\n",
       "          s.src = paths[lib];\n",
       "        });\n",
       "    }\n",
       "\n",
       "    function showError(err) {\n",
       "      outputDiv.innerHTML = `<div class=\"error\" style=\"color:red;\">${err}</div>`;\n",
       "      throw err;\n",
       "    }\n",
       "\n",
       "    function displayChart(vegaEmbed) {\n",
       "      vegaEmbed(outputDiv, spec, embedOpt)\n",
       "        .catch(err => showError(`Javascript Error: ${err.message}<br>This usually means there's a typo in your chart specification. See the javascript console for the full traceback.`));\n",
       "    }\n",
       "\n",
       "    if(typeof define === \"function\" && define.amd) {\n",
       "      requirejs.config({paths});\n",
       "      require([\"vega-embed\"], displayChart, err => showError(`Error loading script: ${err.message}`));\n",
       "    } else {\n",
       "      maybeLoadScript(\"vega\", \"5\")\n",
       "        .then(() => maybeLoadScript(\"vega-lite\", \"4.17.0\"))\n",
       "        .then(() => maybeLoadScript(\"vega-embed\", \"6\"))\n",
       "        .catch(showError)\n",
       "        .then(() => displayChart(vegaEmbed));\n",
       "    }\n",
       "  })({\"config\": {\"view\": {\"continuousWidth\": 400, \"continuousHeight\": 300}, \"axis\": {\"domainColor\": \"#cbcbcb\", \"grid\": true, \"gridColor\": \"#cbcbcb\", \"gridWidth\": 1, \"labelColor\": \"#474747\", \"labelFont\": \"Nunito Sans\", \"labelFontSize\": 10, \"labelPadding\": 4, \"tickColor\": \"#cbcbcb\", \"tickSize\": 10, \"titleColor\": \"#333\", \"titleFont\": \"Raleway\", \"titleFontSize\": 12, \"titlePadding\": 10}, \"axisBand\": {\"grid\": false}, \"background\": \"white\", \"font\": \"Raleway\", \"header\": {\"labelFont\": \"Nunito Sans\", \"titleFont\": \"Raleway\"}, \"legend\": {\"labelColor\": \"#333\", \"labelFont\": \"Nunito Sans\", \"labelFontSize\": 11, \"labelLimit\": 0, \"padding\": 1, \"symbolSize\": 30, \"symbolType\": \"square\", \"titleColor\": \"#333\", \"titleFont\": \"Raleway\", \"titleFontSize\": 14, \"titlePadding\": 10}, \"title\": {\"anchor\": \"middle\", \"font\": \"Raleway\", \"fontSize\": 18, \"fontWeight\": 300, \"offset\": 20}}, \"data\": {\"name\": \"data-a2a81d70d047e4ec8b1366f4b9ecd574\"}, \"mark\": \"line\", \"encoding\": {\"x\": {\"field\": \"value\", \"title\": \"Value\", \"type\": \"quantitative\"}, \"y\": {\"field\": \"count\", \"title\": \"Count\", \"type\": \"quantitative\"}}, \"height\": 250, \"title\": \"Obligations by Year\", \"width\": 400, \"$schema\": \"https://vega.github.io/schema/vega-lite/v4.17.0.json\", \"datasets\": {\"data-a2a81d70d047e4ec8b1366f4b9ecd574\": [{\"value\": 2014.0, \"count\": 487, \"variable\": \"prepared_y\"}, {\"value\": 2018.0, \"count\": 454, \"variable\": \"prepared_y\"}, {\"value\": 2015.0, \"count\": 449, \"variable\": \"prepared_y\"}, {\"value\": 2016.0, \"count\": 414, \"variable\": \"prepared_y\"}, {\"value\": 2021.0, \"count\": 409, \"variable\": \"prepared_y\"}, {\"value\": 2019.0, \"count\": 400, \"variable\": \"prepared_y\"}, {\"value\": 2017.0, \"count\": 367, \"variable\": \"prepared_y\"}, {\"value\": 2020.0, \"count\": 286, \"variable\": \"prepared_y\"}, {\"value\": 2022.0, \"count\": 90, \"variable\": \"prepared_y\"}, {\"value\": 2013.0, \"count\": 38, \"variable\": \"prepared_y\"}, {\"value\": 2012.0, \"count\": 4, \"variable\": \"prepared_y\"}, {\"value\": 2011.0, \"count\": 1, \"variable\": \"prepared_y\"}]}}, {\"mode\": \"vega-lite\"});\n",
       "</script>"
      ],
      "text/plain": [
       "alt.Chart(...)"
      ]
     },
     "metadata": {},
     "output_type": "display_data"
    },
    {
     "data": {
      "text/html": [
       "\n",
       "<div id=\"altair-viz-269a9b323c1e43e4a10cb99d3fa13327\"></div>\n",
       "<script type=\"text/javascript\">\n",
       "  var VEGA_DEBUG = (typeof VEGA_DEBUG == \"undefined\") ? {} : VEGA_DEBUG;\n",
       "  (function(spec, embedOpt){\n",
       "    let outputDiv = document.currentScript.previousElementSibling;\n",
       "    if (outputDiv.id !== \"altair-viz-269a9b323c1e43e4a10cb99d3fa13327\") {\n",
       "      outputDiv = document.getElementById(\"altair-viz-269a9b323c1e43e4a10cb99d3fa13327\");\n",
       "    }\n",
       "    const paths = {\n",
       "      \"vega\": \"https://cdn.jsdelivr.net/npm//vega@5?noext\",\n",
       "      \"vega-lib\": \"https://cdn.jsdelivr.net/npm//vega-lib?noext\",\n",
       "      \"vega-lite\": \"https://cdn.jsdelivr.net/npm//vega-lite@4.17.0?noext\",\n",
       "      \"vega-embed\": \"https://cdn.jsdelivr.net/npm//vega-embed@6?noext\",\n",
       "    };\n",
       "\n",
       "    function maybeLoadScript(lib, version) {\n",
       "      var key = `${lib.replace(\"-\", \"\")}_version`;\n",
       "      return (VEGA_DEBUG[key] == version) ?\n",
       "        Promise.resolve(paths[lib]) :\n",
       "        new Promise(function(resolve, reject) {\n",
       "          var s = document.createElement('script');\n",
       "          document.getElementsByTagName(\"head\")[0].appendChild(s);\n",
       "          s.async = true;\n",
       "          s.onload = () => {\n",
       "            VEGA_DEBUG[key] = version;\n",
       "            return resolve(paths[lib]);\n",
       "          };\n",
       "          s.onerror = () => reject(`Error loading script: ${paths[lib]}`);\n",
       "          s.src = paths[lib];\n",
       "        });\n",
       "    }\n",
       "\n",
       "    function showError(err) {\n",
       "      outputDiv.innerHTML = `<div class=\"error\" style=\"color:red;\">${err}</div>`;\n",
       "      throw err;\n",
       "    }\n",
       "\n",
       "    function displayChart(vegaEmbed) {\n",
       "      vegaEmbed(outputDiv, spec, embedOpt)\n",
       "        .catch(err => showError(`Javascript Error: ${err.message}<br>This usually means there's a typo in your chart specification. See the javascript console for the full traceback.`));\n",
       "    }\n",
       "\n",
       "    if(typeof define === \"function\" && define.amd) {\n",
       "      requirejs.config({paths});\n",
       "      require([\"vega-embed\"], displayChart, err => showError(`Error loading script: ${err.message}`));\n",
       "    } else {\n",
       "      maybeLoadScript(\"vega\", \"5\")\n",
       "        .then(() => maybeLoadScript(\"vega-lite\", \"4.17.0\"))\n",
       "        .then(() => maybeLoadScript(\"vega-embed\", \"6\"))\n",
       "        .catch(showError)\n",
       "        .then(() => displayChart(vegaEmbed));\n",
       "    }\n",
       "  })({\"config\": {\"view\": {\"continuousWidth\": 400, \"continuousHeight\": 300}, \"axis\": {\"domainColor\": \"#cbcbcb\", \"grid\": true, \"gridColor\": \"#cbcbcb\", \"gridWidth\": 1, \"labelColor\": \"#474747\", \"labelFont\": \"Nunito Sans\", \"labelFontSize\": 10, \"labelPadding\": 4, \"tickColor\": \"#cbcbcb\", \"tickSize\": 10, \"titleColor\": \"#333\", \"titleFont\": \"Raleway\", \"titleFontSize\": 12, \"titlePadding\": 10}, \"axisBand\": {\"grid\": false}, \"background\": \"white\", \"font\": \"Raleway\", \"header\": {\"labelFont\": \"Nunito Sans\", \"titleFont\": \"Raleway\"}, \"legend\": {\"labelColor\": \"#333\", \"labelFont\": \"Nunito Sans\", \"labelFontSize\": 11, \"labelLimit\": 0, \"padding\": 1, \"symbolSize\": 30, \"symbolType\": \"square\", \"titleColor\": \"#333\", \"titleFont\": \"Raleway\", \"titleFontSize\": 14, \"titlePadding\": 10}, \"title\": {\"anchor\": \"middle\", \"font\": \"Raleway\", \"fontSize\": 18, \"fontWeight\": 300, \"offset\": 20}}, \"data\": {\"name\": \"data-975ed13a6d290bc24252b7c06dc8b20c\"}, \"mark\": \"bar\", \"encoding\": {\"color\": {\"field\": \"value\", \"legend\": {\"title\": \"Value\"}, \"scale\": {\"range\": [\"#2EA8CE\", \"#EB9F3C\", \"#F4D837\", \"#51BF9D\", \"#8CBCCB\", \"#9487C0\"]}, \"type\": \"nominal\"}, \"x\": {\"field\": \"value\", \"sort\": \"-y\", \"title\": \"Value\", \"type\": \"nominal\"}, \"y\": {\"field\": \"count\", \"title\": \"Count\", \"type\": \"quantitative\"}}, \"height\": 250, \"title\": \"Agencies With The Most Obligations\", \"width\": 400, \"$schema\": \"https://vega.github.io/schema/vega-lite/v4.17.0.json\", \"datasets\": {\"data-975ed13a6d290bc24252b7c06dc8b20c\": [{\"value\": \"Contra Costa County\", \"count\": 154, \"variable\": \"primary_agency_name\"}, {\"value\": \"Oakland\", \"count\": 145, \"variable\": \"primary_agency_name\"}, {\"value\": \"Metropolitan Transportation Commission\", \"count\": 144, \"variable\": \"primary_agency_name\"}, {\"value\": \"San Jose\", \"count\": 137, \"variable\": \"primary_agency_name\"}, {\"value\": \"Santa Clara County\", \"count\": 133, \"variable\": \"primary_agency_name\"}, {\"value\": \"Napa County\", \"count\": 115, \"variable\": \"primary_agency_name\"}, {\"value\": \"Sonoma County\", \"count\": 97, \"variable\": \"primary_agency_name\"}, {\"value\": \"City & County of San Francisco, MTA/Parking & Traffic\", \"count\": 96, \"variable\": \"primary_agency_name\"}, {\"value\": \"Marin County\", \"count\": 89, \"variable\": \"primary_agency_name\"}, {\"value\": \"Sunnyvale\", \"count\": 87, \"variable\": \"primary_agency_name\"}, {\"value\": \"Alameda County\", \"count\": 84, \"variable\": \"primary_agency_name\"}, {\"value\": \"San Francisco County\", \"count\": 79, \"variable\": \"primary_agency_name\"}, {\"value\": \"Solano County\", \"count\": 70, \"variable\": \"primary_agency_name\"}, {\"value\": \"Santa Clara Valley Transportation Authority\", \"count\": 56, \"variable\": \"primary_agency_name\"}, {\"value\": \"Vacaville\", \"count\": 47, \"variable\": \"primary_agency_name\"}, {\"value\": \"Fremont\", \"count\": 44, \"variable\": \"primary_agency_name\"}, {\"value\": \"Golden Gate Bridge, Highway And Transportation Distri\", \"count\": 44, \"variable\": \"primary_agency_name\"}, {\"value\": \"San Francisco Bay Area Rapid Transit District\", \"count\": 41, \"variable\": \"primary_agency_name\"}, {\"value\": \"Concord\", \"count\": 39, \"variable\": \"primary_agency_name\"}, {\"value\": \"Vallejo\", \"count\": 37, \"variable\": \"primary_agency_name\"}]}}, {\"mode\": \"vega-lite\"});\n",
       "</script>"
      ],
      "text/plain": [
       "alt.Chart(...)"
      ]
     },
     "metadata": {},
     "output_type": "display_data"
    },
    {
     "data": {
      "text/markdown": [
       "**Prefix Codes**"
      ],
      "text/plain": [
       "<IPython.core.display.Markdown object>"
      ]
     },
     "metadata": {},
     "output_type": "display_data"
    },
    {
     "data": {
      "text/html": [
       "\n",
       "<div id=\"altair-viz-ba71fa6f63024affbff12c35919872e4\"></div>\n",
       "<script type=\"text/javascript\">\n",
       "  var VEGA_DEBUG = (typeof VEGA_DEBUG == \"undefined\") ? {} : VEGA_DEBUG;\n",
       "  (function(spec, embedOpt){\n",
       "    let outputDiv = document.currentScript.previousElementSibling;\n",
       "    if (outputDiv.id !== \"altair-viz-ba71fa6f63024affbff12c35919872e4\") {\n",
       "      outputDiv = document.getElementById(\"altair-viz-ba71fa6f63024affbff12c35919872e4\");\n",
       "    }\n",
       "    const paths = {\n",
       "      \"vega\": \"https://cdn.jsdelivr.net/npm//vega@5?noext\",\n",
       "      \"vega-lib\": \"https://cdn.jsdelivr.net/npm//vega-lib?noext\",\n",
       "      \"vega-lite\": \"https://cdn.jsdelivr.net/npm//vega-lite@4.17.0?noext\",\n",
       "      \"vega-embed\": \"https://cdn.jsdelivr.net/npm//vega-embed@6?noext\",\n",
       "    };\n",
       "\n",
       "    function maybeLoadScript(lib, version) {\n",
       "      var key = `${lib.replace(\"-\", \"\")}_version`;\n",
       "      return (VEGA_DEBUG[key] == version) ?\n",
       "        Promise.resolve(paths[lib]) :\n",
       "        new Promise(function(resolve, reject) {\n",
       "          var s = document.createElement('script');\n",
       "          document.getElementsByTagName(\"head\")[0].appendChild(s);\n",
       "          s.async = true;\n",
       "          s.onload = () => {\n",
       "            VEGA_DEBUG[key] = version;\n",
       "            return resolve(paths[lib]);\n",
       "          };\n",
       "          s.onerror = () => reject(`Error loading script: ${paths[lib]}`);\n",
       "          s.src = paths[lib];\n",
       "        });\n",
       "    }\n",
       "\n",
       "    function showError(err) {\n",
       "      outputDiv.innerHTML = `<div class=\"error\" style=\"color:red;\">${err}</div>`;\n",
       "      throw err;\n",
       "    }\n",
       "\n",
       "    function displayChart(vegaEmbed) {\n",
       "      vegaEmbed(outputDiv, spec, embedOpt)\n",
       "        .catch(err => showError(`Javascript Error: ${err.message}<br>This usually means there's a typo in your chart specification. See the javascript console for the full traceback.`));\n",
       "    }\n",
       "\n",
       "    if(typeof define === \"function\" && define.amd) {\n",
       "      requirejs.config({paths});\n",
       "      require([\"vega-embed\"], displayChart, err => showError(`Error loading script: ${err.message}`));\n",
       "    } else {\n",
       "      maybeLoadScript(\"vega\", \"5\")\n",
       "        .then(() => maybeLoadScript(\"vega-lite\", \"4.17.0\"))\n",
       "        .then(() => maybeLoadScript(\"vega-embed\", \"6\"))\n",
       "        .catch(showError)\n",
       "        .then(() => displayChart(vegaEmbed));\n",
       "    }\n",
       "  })({\"config\": {\"view\": {\"continuousWidth\": 400, \"continuousHeight\": 300}, \"axis\": {\"domainColor\": \"#cbcbcb\", \"grid\": true, \"gridColor\": \"#cbcbcb\", \"gridWidth\": 1, \"labelColor\": \"#474747\", \"labelFont\": \"Nunito Sans\", \"labelFontSize\": 10, \"labelPadding\": 4, \"tickColor\": \"#cbcbcb\", \"tickSize\": 10, \"titleColor\": \"#333\", \"titleFont\": \"Raleway\", \"titleFontSize\": 12, \"titlePadding\": 10}, \"axisBand\": {\"grid\": false}, \"background\": \"white\", \"font\": \"Raleway\", \"header\": {\"labelFont\": \"Nunito Sans\", \"titleFont\": \"Raleway\"}, \"legend\": {\"labelColor\": \"#333\", \"labelFont\": \"Nunito Sans\", \"labelFontSize\": 11, \"labelLimit\": 0, \"padding\": 1, \"symbolSize\": 30, \"symbolType\": \"square\", \"titleColor\": \"#333\", \"titleFont\": \"Raleway\", \"titleFontSize\": 14, \"titlePadding\": 10}, \"title\": {\"anchor\": \"middle\", \"font\": \"Raleway\", \"fontSize\": 18, \"fontWeight\": 300, \"offset\": 20}}, \"data\": {\"name\": \"data-349d380901e5c625b780dae31a2f39c5\"}, \"mark\": \"bar\", \"encoding\": {\"color\": {\"field\": \"primary_agency_name\", \"legend\": {\"title\": \"Primary Agency Name\"}, \"scale\": {\"range\": [\"#2EA8CE\", \"#EB9F3C\", \"#F4D837\", \"#51BF9D\", \"#8CBCCB\", \"#9487C0\"]}, \"type\": \"nominal\"}, \"x\": {\"field\": \"primary_agency_name\", \"sort\": \"-y\", \"title\": \"Primary Agency Name\", \"type\": \"nominal\"}, \"y\": {\"field\": \"n\", \"title\": \"N\", \"type\": \"quantitative\"}}, \"height\": 250, \"title\": \"Agencies With The Most Unique Prefix Codes\", \"width\": 400, \"$schema\": \"https://vega.github.io/schema/vega-lite/v4.17.0.json\", \"datasets\": {\"data-349d380901e5c625b780dae31a2f39c5\": [{\"primary_agency_name\": \"Contra Costa County\", \"n\": 18}, {\"primary_agency_name\": \"San Francisco County\", \"n\": 17}, {\"primary_agency_name\": \"San Jose\", \"n\": 17}, {\"primary_agency_name\": \"Santa Clara County\", \"n\": 17}, {\"primary_agency_name\": \"Alameda County\", \"n\": 16}, {\"primary_agency_name\": \"Sonoma County\", \"n\": 16}, {\"primary_agency_name\": \"Metropolitan Transportation Commission\", \"n\": 15}, {\"primary_agency_name\": \"Oakland\", \"n\": 15}, {\"primary_agency_name\": \"City & County of San Francisco, MTA/Parking & Traffic\", \"n\": 14}, {\"primary_agency_name\": \"Marin County\", \"n\": 13}, {\"primary_agency_name\": \"Santa Clara Valley Transportation Authority\", \"n\": 13}, {\"primary_agency_name\": \"Vallejo\", \"n\": 11}, {\"primary_agency_name\": \"Alameda County Transportation Commission\", \"n\": 10}, {\"primary_agency_name\": \"Solano County\", \"n\": 10}, {\"primary_agency_name\": \"Pleasant Hill\", \"n\": 9}, {\"primary_agency_name\": \"Sunnyvale\", \"n\": 9}, {\"primary_agency_name\": \"Alameda\", \"n\": 8}, {\"primary_agency_name\": \"Alameda County Congestion Management Agency\", \"n\": 8}, {\"primary_agency_name\": \"Fairfield\", \"n\": 8}, {\"primary_agency_name\": \"Golden Gate Bridge, Highway And Transportation Distri\", \"n\": 8}, {\"primary_agency_name\": \"Napa\", \"n\": 8}, {\"primary_agency_name\": \"Napa County\", \"n\": 8}, {\"primary_agency_name\": \"Richmond\", \"n\": 8}, {\"primary_agency_name\": \"San Francisco Bay Area Rapid Transit District\", \"n\": 8}, {\"primary_agency_name\": \"San Rafael\", \"n\": 8}, {\"primary_agency_name\": \"Santa Rosa\", \"n\": 8}, {\"primary_agency_name\": \"El Cerrito\", \"n\": 7}, {\"primary_agency_name\": \"San Mateo\", \"n\": 7}, {\"primary_agency_name\": \"Sonoma Marin Area Rail Transit District\", \"n\": 7}, {\"primary_agency_name\": \"South San Francisco\", \"n\": 7}]}}, {\"mode\": \"vega-lite\"});\n",
       "</script>"
      ],
      "text/plain": [
       "alt.Chart(...)"
      ]
     },
     "metadata": {},
     "output_type": "display_data"
    },
    {
     "data": {
      "text/html": [
       "\n",
       "<div id=\"altair-viz-571d265685824c0da31d2497fef5a49e\"></div>\n",
       "<script type=\"text/javascript\">\n",
       "  var VEGA_DEBUG = (typeof VEGA_DEBUG == \"undefined\") ? {} : VEGA_DEBUG;\n",
       "  (function(spec, embedOpt){\n",
       "    let outputDiv = document.currentScript.previousElementSibling;\n",
       "    if (outputDiv.id !== \"altair-viz-571d265685824c0da31d2497fef5a49e\") {\n",
       "      outputDiv = document.getElementById(\"altair-viz-571d265685824c0da31d2497fef5a49e\");\n",
       "    }\n",
       "    const paths = {\n",
       "      \"vega\": \"https://cdn.jsdelivr.net/npm//vega@5?noext\",\n",
       "      \"vega-lib\": \"https://cdn.jsdelivr.net/npm//vega-lib?noext\",\n",
       "      \"vega-lite\": \"https://cdn.jsdelivr.net/npm//vega-lite@4.17.0?noext\",\n",
       "      \"vega-embed\": \"https://cdn.jsdelivr.net/npm//vega-embed@6?noext\",\n",
       "    };\n",
       "\n",
       "    function maybeLoadScript(lib, version) {\n",
       "      var key = `${lib.replace(\"-\", \"\")}_version`;\n",
       "      return (VEGA_DEBUG[key] == version) ?\n",
       "        Promise.resolve(paths[lib]) :\n",
       "        new Promise(function(resolve, reject) {\n",
       "          var s = document.createElement('script');\n",
       "          document.getElementsByTagName(\"head\")[0].appendChild(s);\n",
       "          s.async = true;\n",
       "          s.onload = () => {\n",
       "            VEGA_DEBUG[key] = version;\n",
       "            return resolve(paths[lib]);\n",
       "          };\n",
       "          s.onerror = () => reject(`Error loading script: ${paths[lib]}`);\n",
       "          s.src = paths[lib];\n",
       "        });\n",
       "    }\n",
       "\n",
       "    function showError(err) {\n",
       "      outputDiv.innerHTML = `<div class=\"error\" style=\"color:red;\">${err}</div>`;\n",
       "      throw err;\n",
       "    }\n",
       "\n",
       "    function displayChart(vegaEmbed) {\n",
       "      vegaEmbed(outputDiv, spec, embedOpt)\n",
       "        .catch(err => showError(`Javascript Error: ${err.message}<br>This usually means there's a typo in your chart specification. See the javascript console for the full traceback.`));\n",
       "    }\n",
       "\n",
       "    if(typeof define === \"function\" && define.amd) {\n",
       "      requirejs.config({paths});\n",
       "      require([\"vega-embed\"], displayChart, err => showError(`Error loading script: ${err.message}`));\n",
       "    } else {\n",
       "      maybeLoadScript(\"vega\", \"5\")\n",
       "        .then(() => maybeLoadScript(\"vega-lite\", \"4.17.0\"))\n",
       "        .then(() => maybeLoadScript(\"vega-embed\", \"6\"))\n",
       "        .catch(showError)\n",
       "        .then(() => displayChart(vegaEmbed));\n",
       "    }\n",
       "  })({\"config\": {\"view\": {\"continuousWidth\": 400, \"continuousHeight\": 300}, \"axis\": {\"domainColor\": \"#cbcbcb\", \"grid\": true, \"gridColor\": \"#cbcbcb\", \"gridWidth\": 1, \"labelColor\": \"#474747\", \"labelFont\": \"Nunito Sans\", \"labelFontSize\": 10, \"labelPadding\": 4, \"tickColor\": \"#cbcbcb\", \"tickSize\": 10, \"titleColor\": \"#333\", \"titleFont\": \"Raleway\", \"titleFontSize\": 12, \"titlePadding\": 10}, \"axisBand\": {\"grid\": false}, \"background\": \"white\", \"font\": \"Raleway\", \"header\": {\"labelFont\": \"Nunito Sans\", \"titleFont\": \"Raleway\"}, \"legend\": {\"labelColor\": \"#333\", \"labelFont\": \"Nunito Sans\", \"labelFontSize\": 11, \"labelLimit\": 0, \"padding\": 1, \"symbolSize\": 30, \"symbolType\": \"square\", \"titleColor\": \"#333\", \"titleFont\": \"Raleway\", \"titleFontSize\": 14, \"titlePadding\": 10}, \"title\": {\"anchor\": \"middle\", \"font\": \"Raleway\", \"fontSize\": 18, \"fontWeight\": 300, \"offset\": 20}}, \"data\": {\"name\": \"data-d52dcfb0a68a75608955a05487528f03\"}, \"mark\": \"bar\", \"encoding\": {\"color\": {\"field\": \"prefix\", \"legend\": {\"title\": \"Prefix\"}, \"scale\": {\"range\": [\"#2EA8CE\", \"#EB9F3C\", \"#F4D837\", \"#51BF9D\", \"#8CBCCB\", \"#9487C0\"]}, \"type\": \"nominal\"}, \"x\": {\"field\": \"prefix\", \"sort\": \"-y\", \"title\": \"Prefix\", \"type\": \"nominal\"}, \"y\": {\"field\": \"total_requested\", \"title\": \"Total Requested\", \"type\": \"quantitative\"}}, \"height\": 250, \"title\": \"Average Total Requested Funds by Prefix\", \"width\": 400, \"$schema\": \"https://vega.github.io/schema/vega-lite/v4.17.0.json\", \"datasets\": {\"data-d52dcfb0a68a75608955a05487528f03\": [{\"prefix\": \"BUILDL\", \"total_requested\": 95554443.0}, {\"prefix\": \"NCIIPL\", \"total_requested\": 27485032.67}, {\"prefix\": \"ATCMTD\", \"total_requested\": 21568000.0}, {\"prefix\": \"ESPLEH\", \"total_requested\": 19913984.8}, {\"prefix\": \"FTASTPCM\", \"total_requested\": 8186270.5}, {\"prefix\": \"FERPL\", \"total_requested\": 8086960.140000001}, {\"prefix\": \"HPLUN\", \"total_requested\": 7991501.19}, {\"prefix\": \"ESPSEH\", \"total_requested\": 6097686.933333334}, {\"prefix\": \"FTACML\", \"total_requested\": 5801950.878787879}, {\"prefix\": \"BHLS\", \"total_requested\": 4402759.307999999}, {\"prefix\": \"FTACRRSA\", \"total_requested\": 4335000.0}, {\"prefix\": \"FTAFERPL\", \"total_requested\": 3205079.0}, {\"prefix\": \"STPLNI\", \"total_requested\": 2713776.1057142857}, {\"prefix\": \"STP\", \"total_requested\": 2433333.3333333335}, {\"prefix\": \"TCESB1L\", \"total_requested\": 2331616.37}, {\"prefix\": \"LPPSTPL\", \"total_requested\": 2192606.3}, {\"prefix\": \"FTACMSPL\", \"total_requested\": 2131063.0}, {\"prefix\": \"ATPSB1L\", \"total_requested\": 2075675.0}, {\"prefix\": \"BRLZ\", \"total_requested\": 1629672.295}, {\"prefix\": \"ATPL\", \"total_requested\": 1595514.9114772729}, {\"prefix\": \"FTASTPL\", \"total_requested\": 1568382.3333333333}, {\"prefix\": \"FTAFBP\", \"total_requested\": 1510635.5}, {\"prefix\": \"HP21L\", \"total_requested\": 1334504.3499999999}, {\"prefix\": \"FTAATP\", \"total_requested\": 1299036.6666666667}, {\"prefix\": \"STPLR\", \"total_requested\": 1295625.1675}, {\"prefix\": \"STPLZ\", \"total_requested\": 1189717.68775}, {\"prefix\": \"FTASTPCML\", \"total_requested\": 1150000.0}, {\"prefix\": \"BRLS\", \"total_requested\": 1110787.816117647}, {\"prefix\": \"ATPHSIP\", \"total_requested\": 1066397.2233333334}, {\"prefix\": \"TCSPCM\", \"total_requested\": 1055427.6666666667}]}}, {\"mode\": \"vega-lite\"});\n",
       "</script>"
      ],
      "text/plain": [
       "alt.Chart(...)"
      ]
     },
     "metadata": {},
     "output_type": "display_data"
    },
    {
     "data": {
      "text/html": [
       "\n",
       "<div id=\"altair-viz-4208e7fa138c4ea3b617c325b3963208\"></div>\n",
       "<script type=\"text/javascript\">\n",
       "  var VEGA_DEBUG = (typeof VEGA_DEBUG == \"undefined\") ? {} : VEGA_DEBUG;\n",
       "  (function(spec, embedOpt){\n",
       "    let outputDiv = document.currentScript.previousElementSibling;\n",
       "    if (outputDiv.id !== \"altair-viz-4208e7fa138c4ea3b617c325b3963208\") {\n",
       "      outputDiv = document.getElementById(\"altair-viz-4208e7fa138c4ea3b617c325b3963208\");\n",
       "    }\n",
       "    const paths = {\n",
       "      \"vega\": \"https://cdn.jsdelivr.net/npm//vega@5?noext\",\n",
       "      \"vega-lib\": \"https://cdn.jsdelivr.net/npm//vega-lib?noext\",\n",
       "      \"vega-lite\": \"https://cdn.jsdelivr.net/npm//vega-lite@4.17.0?noext\",\n",
       "      \"vega-embed\": \"https://cdn.jsdelivr.net/npm//vega-embed@6?noext\",\n",
       "    };\n",
       "\n",
       "    function maybeLoadScript(lib, version) {\n",
       "      var key = `${lib.replace(\"-\", \"\")}_version`;\n",
       "      return (VEGA_DEBUG[key] == version) ?\n",
       "        Promise.resolve(paths[lib]) :\n",
       "        new Promise(function(resolve, reject) {\n",
       "          var s = document.createElement('script');\n",
       "          document.getElementsByTagName(\"head\")[0].appendChild(s);\n",
       "          s.async = true;\n",
       "          s.onload = () => {\n",
       "            VEGA_DEBUG[key] = version;\n",
       "            return resolve(paths[lib]);\n",
       "          };\n",
       "          s.onerror = () => reject(`Error loading script: ${paths[lib]}`);\n",
       "          s.src = paths[lib];\n",
       "        });\n",
       "    }\n",
       "\n",
       "    function showError(err) {\n",
       "      outputDiv.innerHTML = `<div class=\"error\" style=\"color:red;\">${err}</div>`;\n",
       "      throw err;\n",
       "    }\n",
       "\n",
       "    function displayChart(vegaEmbed) {\n",
       "      vegaEmbed(outputDiv, spec, embedOpt)\n",
       "        .catch(err => showError(`Javascript Error: ${err.message}<br>This usually means there's a typo in your chart specification. See the javascript console for the full traceback.`));\n",
       "    }\n",
       "\n",
       "    if(typeof define === \"function\" && define.amd) {\n",
       "      requirejs.config({paths});\n",
       "      require([\"vega-embed\"], displayChart, err => showError(`Error loading script: ${err.message}`));\n",
       "    } else {\n",
       "      maybeLoadScript(\"vega\", \"5\")\n",
       "        .then(() => maybeLoadScript(\"vega-lite\", \"4.17.0\"))\n",
       "        .then(() => maybeLoadScript(\"vega-embed\", \"6\"))\n",
       "        .catch(showError)\n",
       "        .then(() => displayChart(vegaEmbed));\n",
       "    }\n",
       "  })({\"config\": {\"view\": {\"continuousWidth\": 400, \"continuousHeight\": 300}, \"axis\": {\"domainColor\": \"#cbcbcb\", \"grid\": true, \"gridColor\": \"#cbcbcb\", \"gridWidth\": 1, \"labelColor\": \"#474747\", \"labelFont\": \"Nunito Sans\", \"labelFontSize\": 10, \"labelPadding\": 4, \"tickColor\": \"#cbcbcb\", \"tickSize\": 10, \"titleColor\": \"#333\", \"titleFont\": \"Raleway\", \"titleFontSize\": 12, \"titlePadding\": 10}, \"axisBand\": {\"grid\": false}, \"background\": \"white\", \"font\": \"Raleway\", \"header\": {\"labelFont\": \"Nunito Sans\", \"titleFont\": \"Raleway\"}, \"legend\": {\"labelColor\": \"#333\", \"labelFont\": \"Nunito Sans\", \"labelFontSize\": 11, \"labelLimit\": 0, \"padding\": 1, \"symbolSize\": 30, \"symbolType\": \"square\", \"titleColor\": \"#333\", \"titleFont\": \"Raleway\", \"titleFontSize\": 14, \"titlePadding\": 10}, \"title\": {\"anchor\": \"middle\", \"font\": \"Raleway\", \"fontSize\": 18, \"fontWeight\": 300, \"offset\": 20}}, \"data\": {\"name\": \"data-048671b45f7681ede53ef19859f9b0cc\"}, \"mark\": \"bar\", \"encoding\": {\"color\": {\"field\": \"value\", \"legend\": {\"title\": \"Value\"}, \"scale\": {\"range\": [\"#2EA8CE\", \"#EB9F3C\", \"#F4D837\", \"#51BF9D\", \"#8CBCCB\", \"#9487C0\"]}, \"type\": \"nominal\"}, \"x\": {\"field\": \"value\", \"sort\": \"-y\", \"title\": \"Value\", \"type\": \"nominal\"}, \"y\": {\"field\": \"count\", \"title\": \"Count\", \"type\": \"quantitative\"}}, \"height\": 250, \"title\": \"Most Used Prefix Codes\", \"width\": 400, \"$schema\": \"https://vega.github.io/schema/vega-lite/v4.17.0.json\", \"datasets\": {\"data-048671b45f7681ede53ef19859f9b0cc\": [{\"value\": \"STPL\", \"count\": 665, \"variable\": \"prefix\"}, {\"value\": \"CML\", \"count\": 552, \"variable\": \"prefix\"}, {\"value\": \"HSIPL\", \"count\": 456, \"variable\": \"prefix\"}, {\"value\": \"BRLS\", \"count\": 170, \"variable\": \"prefix\"}, {\"value\": \"ER\", \"count\": 146, \"variable\": \"prefix\"}, {\"value\": \"BRLO\", \"count\": 127, \"variable\": \"prefix\"}, {\"value\": \"STPLZ\", \"count\": 120, \"variable\": \"prefix\"}, {\"value\": \"RPSTPL\", \"count\": 95, \"variable\": \"prefix\"}, {\"value\": \"BPMP\", \"count\": 94, \"variable\": \"prefix\"}, {\"value\": \"ATPL\", \"count\": 88, \"variable\": \"prefix\"}, {\"value\": \"HPLUL\", \"count\": 83, \"variable\": \"prefix\"}, {\"value\": \"BHLS\", \"count\": 65, \"variable\": \"prefix\"}, {\"value\": \"SRTSL\", \"count\": 62, \"variable\": \"prefix\"}, {\"value\": \"CMLNI\", \"count\": 52, \"variable\": \"prefix\"}, {\"value\": \"FTASTPL\", \"count\": 48, \"variable\": \"prefix\"}, {\"value\": \"STPLNI\", \"count\": 42, \"variable\": \"prefix\"}, {\"value\": \"HRRRL\", \"count\": 38, \"variable\": \"prefix\"}, {\"value\": \"ACSTP\", \"count\": 36, \"variable\": \"prefix\"}, {\"value\": \"FTACML\", \"count\": 33, \"variable\": \"prefix\"}, {\"value\": \"BHLO\", \"count\": 31, \"variable\": \"prefix\"}]}}, {\"mode\": \"vega-lite\"});\n",
       "</script>"
      ],
      "text/plain": [
       "alt.Chart(...)"
      ]
     },
     "metadata": {},
     "output_type": "display_data"
    },
    {
     "data": {
      "text/markdown": [
       "**Funding Amounts**"
      ],
      "text/plain": [
       "<IPython.core.display.Markdown object>"
      ]
     },
     "metadata": {},
     "output_type": "display_data"
    },
    {
     "data": {
      "text/html": [
       "\n",
       "<div id=\"altair-viz-9cd872f71bd349a787a6c1761122c411\"></div>\n",
       "<script type=\"text/javascript\">\n",
       "  var VEGA_DEBUG = (typeof VEGA_DEBUG == \"undefined\") ? {} : VEGA_DEBUG;\n",
       "  (function(spec, embedOpt){\n",
       "    let outputDiv = document.currentScript.previousElementSibling;\n",
       "    if (outputDiv.id !== \"altair-viz-9cd872f71bd349a787a6c1761122c411\") {\n",
       "      outputDiv = document.getElementById(\"altair-viz-9cd872f71bd349a787a6c1761122c411\");\n",
       "    }\n",
       "    const paths = {\n",
       "      \"vega\": \"https://cdn.jsdelivr.net/npm//vega@5?noext\",\n",
       "      \"vega-lib\": \"https://cdn.jsdelivr.net/npm//vega-lib?noext\",\n",
       "      \"vega-lite\": \"https://cdn.jsdelivr.net/npm//vega-lite@4.17.0?noext\",\n",
       "      \"vega-embed\": \"https://cdn.jsdelivr.net/npm//vega-embed@6?noext\",\n",
       "    };\n",
       "\n",
       "    function maybeLoadScript(lib, version) {\n",
       "      var key = `${lib.replace(\"-\", \"\")}_version`;\n",
       "      return (VEGA_DEBUG[key] == version) ?\n",
       "        Promise.resolve(paths[lib]) :\n",
       "        new Promise(function(resolve, reject) {\n",
       "          var s = document.createElement('script');\n",
       "          document.getElementsByTagName(\"head\")[0].appendChild(s);\n",
       "          s.async = true;\n",
       "          s.onload = () => {\n",
       "            VEGA_DEBUG[key] = version;\n",
       "            return resolve(paths[lib]);\n",
       "          };\n",
       "          s.onerror = () => reject(`Error loading script: ${paths[lib]}`);\n",
       "          s.src = paths[lib];\n",
       "        });\n",
       "    }\n",
       "\n",
       "    function showError(err) {\n",
       "      outputDiv.innerHTML = `<div class=\"error\" style=\"color:red;\">${err}</div>`;\n",
       "      throw err;\n",
       "    }\n",
       "\n",
       "    function displayChart(vegaEmbed) {\n",
       "      vegaEmbed(outputDiv, spec, embedOpt)\n",
       "        .catch(err => showError(`Javascript Error: ${err.message}<br>This usually means there's a typo in your chart specification. See the javascript console for the full traceback.`));\n",
       "    }\n",
       "\n",
       "    if(typeof define === \"function\" && define.amd) {\n",
       "      requirejs.config({paths});\n",
       "      require([\"vega-embed\"], displayChart, err => showError(`Error loading script: ${err.message}`));\n",
       "    } else {\n",
       "      maybeLoadScript(\"vega\", \"5\")\n",
       "        .then(() => maybeLoadScript(\"vega-lite\", \"4.17.0\"))\n",
       "        .then(() => maybeLoadScript(\"vega-embed\", \"6\"))\n",
       "        .catch(showError)\n",
       "        .then(() => displayChart(vegaEmbed));\n",
       "    }\n",
       "  })({\"config\": {\"view\": {\"continuousWidth\": 400, \"continuousHeight\": 300}, \"axis\": {\"domainColor\": \"#cbcbcb\", \"grid\": true, \"gridColor\": \"#cbcbcb\", \"gridWidth\": 1, \"labelColor\": \"#474747\", \"labelFont\": \"Nunito Sans\", \"labelFontSize\": 10, \"labelPadding\": 4, \"tickColor\": \"#cbcbcb\", \"tickSize\": 10, \"titleColor\": \"#333\", \"titleFont\": \"Raleway\", \"titleFontSize\": 12, \"titlePadding\": 10}, \"axisBand\": {\"grid\": false}, \"background\": \"white\", \"font\": \"Raleway\", \"header\": {\"labelFont\": \"Nunito Sans\", \"titleFont\": \"Raleway\"}, \"legend\": {\"labelColor\": \"#333\", \"labelFont\": \"Nunito Sans\", \"labelFontSize\": 11, \"labelLimit\": 0, \"padding\": 1, \"symbolSize\": 30, \"symbolType\": \"square\", \"titleColor\": \"#333\", \"titleFont\": \"Raleway\", \"titleFontSize\": 14, \"titlePadding\": 10}, \"title\": {\"anchor\": \"middle\", \"font\": \"Raleway\", \"fontSize\": 18, \"fontWeight\": 300, \"offset\": 20}}, \"data\": {\"name\": \"data-368bc0f9620fa42954b2d11f7d171a0a\"}, \"mark\": \"bar\", \"encoding\": {\"color\": {\"field\": \"primary_agency_name\", \"legend\": {\"title\": \"Primary Agency Name\"}, \"scale\": {\"range\": [\"#2EA8CE\", \"#EB9F3C\", \"#F4D837\", \"#51BF9D\", \"#8CBCCB\", \"#9487C0\"]}, \"type\": \"nominal\"}, \"x\": {\"field\": \"primary_agency_name\", \"sort\": \"-y\", \"title\": \"Primary Agency Name\", \"type\": \"nominal\"}, \"y\": {\"field\": \"total_requested\", \"title\": \"Total Requested\", \"type\": \"quantitative\"}}, \"height\": 250, \"title\": \"Average Total Requested Funds by Agency\", \"width\": 400, \"$schema\": \"https://vega.github.io/schema/vega-lite/v4.17.0.json\", \"datasets\": {\"data-368bc0f9620fa42954b2d11f7d171a0a\": [{\"primary_agency_name\": \"La Jolla Band of Luiseno Indians\", \"total_requested\": 7300000.0}, {\"primary_agency_name\": \"Caltrans\", \"total_requested\": 6426475.507777778}, {\"primary_agency_name\": \"Golden Gate Bridge, Highway And Transportation Distri\", \"total_requested\": 4699960.758863636}, {\"primary_agency_name\": \"San Francisco Bay Area Rapid Transit District\", \"total_requested\": 4279477.973414634}, {\"primary_agency_name\": \"Alameda - Contra Costa Transit District\", \"total_requested\": 3668946.285714286}, {\"primary_agency_name\": \"San Francisco County\", \"total_requested\": 3445174.289113924}, {\"primary_agency_name\": \"Belmont\", \"total_requested\": 2653650.3129411764}, {\"primary_agency_name\": \"Napa Valley Transportation Authority\", \"total_requested\": 2623550.1666666665}, {\"primary_agency_name\": \"Metropolitan Transportation Commission\", \"total_requested\": 2452116.134513889}, {\"primary_agency_name\": \"Alameda County Transportation Commission\", \"total_requested\": 2300662.2695652177}, {\"primary_agency_name\": \"Larkspur\", \"total_requested\": 1837295.0923809523}, {\"primary_agency_name\": \"San Francisco County Transportation Authority\", \"total_requested\": 1811473.8235294118}, {\"primary_agency_name\": \"Contra Costa Transportation Authority\", \"total_requested\": 1709936.5686363636}, {\"primary_agency_name\": \"Port of San Francisco\", \"total_requested\": 1545101.5}, {\"primary_agency_name\": \"East Palo Alto\", \"total_requested\": 1503442.704117647}, {\"primary_agency_name\": \"Sonoma Marin Area Rail Transit District\", \"total_requested\": 1458560.1228571427}, {\"primary_agency_name\": \"San Francisco Bay Area Water Transit Authority\", \"total_requested\": 1448912.3333333333}, {\"primary_agency_name\": \"Healdsburg\", \"total_requested\": 1368571.0007692305}, {\"primary_agency_name\": \"San Pablo\", \"total_requested\": 1347521.6705555555}, {\"primary_agency_name\": \"Metropolitan Transportation Commission - SAFE\", \"total_requested\": 1282333.2566666668}, {\"primary_agency_name\": \"Morgan Hill\", \"total_requested\": 1199615.8275000001}, {\"primary_agency_name\": \"Fairfield\", \"total_requested\": 1174748.5433333335}, {\"primary_agency_name\": \"Western Contra Costa Transit Authority\", \"total_requested\": 1172256.5}, {\"primary_agency_name\": \"Calistoga\", \"total_requested\": 1163433.142}, {\"primary_agency_name\": \"Colma\", \"total_requested\": 1100466.515}, {\"primary_agency_name\": \"Richmond\", \"total_requested\": 1092489.6186666666}, {\"primary_agency_name\": \"Bay Area Air Quality Management District\", \"total_requested\": 1058213.9241666666}, {\"primary_agency_name\": \"Corte Madera\", \"total_requested\": 1036255.0}, {\"primary_agency_name\": \"Peninsula Joint Powers Board\", \"total_requested\": 1003747.788125}, {\"primary_agency_name\": \"Palo Alto\", \"total_requested\": 997050.2133333333}]}}, {\"mode\": \"vega-lite\"});\n",
       "</script>"
      ],
      "text/plain": [
       "alt.Chart(...)"
      ]
     },
     "metadata": {},
     "output_type": "display_data"
    },
    {
     "data": {
      "text/html": [
       "\n",
       "<div id=\"altair-viz-2d4010fe971a48ad88d147d35017a986\"></div>\n",
       "<script type=\"text/javascript\">\n",
       "  var VEGA_DEBUG = (typeof VEGA_DEBUG == \"undefined\") ? {} : VEGA_DEBUG;\n",
       "  (function(spec, embedOpt){\n",
       "    let outputDiv = document.currentScript.previousElementSibling;\n",
       "    if (outputDiv.id !== \"altair-viz-2d4010fe971a48ad88d147d35017a986\") {\n",
       "      outputDiv = document.getElementById(\"altair-viz-2d4010fe971a48ad88d147d35017a986\");\n",
       "    }\n",
       "    const paths = {\n",
       "      \"vega\": \"https://cdn.jsdelivr.net/npm//vega@5?noext\",\n",
       "      \"vega-lib\": \"https://cdn.jsdelivr.net/npm//vega-lib?noext\",\n",
       "      \"vega-lite\": \"https://cdn.jsdelivr.net/npm//vega-lite@4.17.0?noext\",\n",
       "      \"vega-embed\": \"https://cdn.jsdelivr.net/npm//vega-embed@6?noext\",\n",
       "    };\n",
       "\n",
       "    function maybeLoadScript(lib, version) {\n",
       "      var key = `${lib.replace(\"-\", \"\")}_version`;\n",
       "      return (VEGA_DEBUG[key] == version) ?\n",
       "        Promise.resolve(paths[lib]) :\n",
       "        new Promise(function(resolve, reject) {\n",
       "          var s = document.createElement('script');\n",
       "          document.getElementsByTagName(\"head\")[0].appendChild(s);\n",
       "          s.async = true;\n",
       "          s.onload = () => {\n",
       "            VEGA_DEBUG[key] = version;\n",
       "            return resolve(paths[lib]);\n",
       "          };\n",
       "          s.onerror = () => reject(`Error loading script: ${paths[lib]}`);\n",
       "          s.src = paths[lib];\n",
       "        });\n",
       "    }\n",
       "\n",
       "    function showError(err) {\n",
       "      outputDiv.innerHTML = `<div class=\"error\" style=\"color:red;\">${err}</div>`;\n",
       "      throw err;\n",
       "    }\n",
       "\n",
       "    function displayChart(vegaEmbed) {\n",
       "      vegaEmbed(outputDiv, spec, embedOpt)\n",
       "        .catch(err => showError(`Javascript Error: ${err.message}<br>This usually means there's a typo in your chart specification. See the javascript console for the full traceback.`));\n",
       "    }\n",
       "\n",
       "    if(typeof define === \"function\" && define.amd) {\n",
       "      requirejs.config({paths});\n",
       "      require([\"vega-embed\"], displayChart, err => showError(`Error loading script: ${err.message}`));\n",
       "    } else {\n",
       "      maybeLoadScript(\"vega\", \"5\")\n",
       "        .then(() => maybeLoadScript(\"vega-lite\", \"4.17.0\"))\n",
       "        .then(() => maybeLoadScript(\"vega-embed\", \"6\"))\n",
       "        .catch(showError)\n",
       "        .then(() => displayChart(vegaEmbed));\n",
       "    }\n",
       "  })({\"config\": {\"view\": {\"continuousWidth\": 400, \"continuousHeight\": 300}, \"axis\": {\"domainColor\": \"#cbcbcb\", \"grid\": true, \"gridColor\": \"#cbcbcb\", \"gridWidth\": 1, \"labelColor\": \"#474747\", \"labelFont\": \"Nunito Sans\", \"labelFontSize\": 10, \"labelPadding\": 4, \"tickColor\": \"#cbcbcb\", \"tickSize\": 10, \"titleColor\": \"#333\", \"titleFont\": \"Raleway\", \"titleFontSize\": 12, \"titlePadding\": 10}, \"axisBand\": {\"grid\": false}, \"background\": \"white\", \"font\": \"Raleway\", \"header\": {\"labelFont\": \"Nunito Sans\", \"titleFont\": \"Raleway\"}, \"legend\": {\"labelColor\": \"#333\", \"labelFont\": \"Nunito Sans\", \"labelFontSize\": 11, \"labelLimit\": 0, \"padding\": 1, \"symbolSize\": 30, \"symbolType\": \"square\", \"titleColor\": \"#333\", \"titleFont\": \"Raleway\", \"titleFontSize\": 14, \"titlePadding\": 10}, \"title\": {\"anchor\": \"middle\", \"font\": \"Raleway\", \"fontSize\": 18, \"fontWeight\": 300, \"offset\": 20}}, \"data\": {\"name\": \"data-cf4eb14970a862ce3d7f2a024060cf6b\"}, \"mark\": \"bar\", \"encoding\": {\"color\": {\"field\": \"primary_agency_name\", \"legend\": {\"title\": \"Primary Agency Name\"}, \"scale\": {\"range\": [\"#2EA8CE\", \"#EB9F3C\", \"#F4D837\", \"#51BF9D\", \"#8CBCCB\", \"#9487C0\"]}, \"type\": \"nominal\"}, \"x\": {\"field\": \"primary_agency_name\", \"sort\": \"-y\", \"title\": \"Primary Agency Name\", \"type\": \"nominal\"}, \"y\": {\"field\": \"avg_funds\", \"title\": \"Avg Funds\", \"type\": \"quantitative\"}}, \"height\": 250, \"title\": \"Lowest Average Total Funds by Agency\", \"width\": 400, \"$schema\": \"https://vega.github.io/schema/vega-lite/v4.17.0.json\", \"datasets\": {\"data-cf4eb14970a862ce3d7f2a024060cf6b\": [{\"primary_agency_name\": \"Piedmont\", \"avg_funds\": 178687.666}, {\"primary_agency_name\": \"Hayward\", \"avg_funds\": 177983.31235294117}, {\"primary_agency_name\": \"Half Moon Bay\", \"avg_funds\": 176091.4675}, {\"primary_agency_name\": \"San Carlos\", \"avg_funds\": 168084.11681818185}, {\"primary_agency_name\": \"Atherton\", \"avg_funds\": 166193.85}, {\"primary_agency_name\": \"American Canyon\", \"avg_funds\": 158530.88400000002}, {\"primary_agency_name\": \"Sausalito\", \"avg_funds\": 153497.926}, {\"primary_agency_name\": \"Los Gatos\", \"avg_funds\": 151430.135}, {\"primary_agency_name\": \"Union City\", \"avg_funds\": 144535.40037037036}, {\"primary_agency_name\": \"Dixon\", \"avg_funds\": 140803.59}, {\"primary_agency_name\": \"San Bruno\", \"avg_funds\": 140646.36466666666}, {\"primary_agency_name\": \"Martinez\", \"avg_funds\": 140525.197}, {\"primary_agency_name\": \"Suisun City\", \"avg_funds\": 138254.5912}, {\"primary_agency_name\": \"Central Contra Costa Transit Authority\", \"avg_funds\": 136774.5}, {\"primary_agency_name\": \"Benicia\", \"avg_funds\": 136311.9725}, {\"primary_agency_name\": \"San Leandro\", \"avg_funds\": 125750.04423076923}, {\"primary_agency_name\": \"Marin County Transit District\", \"avg_funds\": 116728.0}, {\"primary_agency_name\": \"Los Altos Hills\", \"avg_funds\": 110126.29000000001}, {\"primary_agency_name\": \"Brisbane\", \"avg_funds\": 106947.86399999999}, {\"primary_agency_name\": \"Lafayette\", \"avg_funds\": 103621.57818181817}, {\"primary_agency_name\": \"Mill Valley\", \"avg_funds\": 98543.76812499999}, {\"primary_agency_name\": \"Yountville\", \"avg_funds\": 73981.53333333334}, {\"primary_agency_name\": \"Ross\", \"avg_funds\": 59062.409999999996}, {\"primary_agency_name\": \"Portola Valley\", \"avg_funds\": 58859.612727272724}, {\"primary_agency_name\": \"Cloverdale\", \"avg_funds\": 58678.1675}, {\"primary_agency_name\": \"Monte Sereno\", \"avg_funds\": 58347.055}, {\"primary_agency_name\": \"San Anselmo\", \"avg_funds\": 51952.38944444444}, {\"primary_agency_name\": \"Rio Vista\", \"avg_funds\": 51722.42857142857}, {\"primary_agency_name\": \"University Of California\", \"avg_funds\": 46719.0975}, {\"primary_agency_name\": \"Sebastopol\", \"avg_funds\": 36947.202000000005}, {\"primary_agency_name\": \"St Helena\", \"avg_funds\": 35000.0}, {\"primary_agency_name\": \"Albany\", \"avg_funds\": 33627.26333333333}, {\"primary_agency_name\": \"Napa County Office of Education\", \"avg_funds\": 1999.99}, {\"primary_agency_name\": \"Alameda County Transportation Improvement Authority\", \"avg_funds\": 0.0}, {\"primary_agency_name\": \"Alameda County Waste Management Authority\", \"avg_funds\": 0.0}, {\"primary_agency_name\": \"Department of Parks and Recreation\", \"avg_funds\": 0.0}, {\"primary_agency_name\": \"Santa Cruz\", \"avg_funds\": -1353.0}, {\"primary_agency_name\": \"University of California at San Francisco\", \"avg_funds\": -5900.74}, {\"primary_agency_name\": \"Santa Clara Valley Transportation Authority\", \"avg_funds\": -258808.47946428575}, {\"primary_agency_name\": \"Port Of Oakland\", \"avg_funds\": -287556.59750000003}]}}, {\"mode\": \"vega-lite\"});\n",
       "</script>"
      ],
      "text/plain": [
       "alt.Chart(...)"
      ]
     },
     "metadata": {},
     "output_type": "display_data"
    },
    {
     "data": {
      "text/markdown": [
       "**Work Categories**"
      ],
      "text/plain": [
       "<IPython.core.display.Markdown object>"
      ]
     },
     "metadata": {},
     "output_type": "display_data"
    },
    {
     "data": {
      "text/markdown": [
       "**Top Agencies using Active Transp Projects**"
      ],
      "text/plain": [
       "<IPython.core.display.Markdown object>"
      ]
     },
     "metadata": {},
     "output_type": "display_data"
    },
    {
     "data": {
      "text/html": [
       "<style type=\"text/css\">\n",
       "</style>\n",
       "<table id=\"T_d5362\">\n",
       "  <thead>\n",
       "    <tr>\n",
       "      <th class=\"blank level0\" >&nbsp;</th>\n",
       "      <th id=\"T_d5362_level0_col0\" class=\"col_heading level0 col0\" >Agency</th>\n",
       "      <th id=\"T_d5362_level0_col1\" class=\"col_heading level0 col1\" >Active Transp Obligations</th>\n",
       "      <th id=\"T_d5362_level0_col2\" class=\"col_heading level0 col2\" >Percent of Category</th>\n",
       "    </tr>\n",
       "  </thead>\n",
       "  <tbody>\n",
       "    <tr>\n",
       "      <th id=\"T_d5362_level0_row0\" class=\"row_heading level0 row0\" >0</th>\n",
       "      <td id=\"T_d5362_row0_col0\" class=\"data row0 col0\" >San Jose</td>\n",
       "      <td id=\"T_d5362_row0_col1\" class=\"data row0 col1\" >79</td>\n",
       "      <td id=\"T_d5362_row0_col2\" class=\"data row0 col2\" >7.41%</td>\n",
       "    </tr>\n",
       "    <tr>\n",
       "      <th id=\"T_d5362_level0_row1\" class=\"row_heading level0 row1\" >1</th>\n",
       "      <td id=\"T_d5362_row1_col0\" class=\"data row1 col0\" >Oakland</td>\n",
       "      <td id=\"T_d5362_row1_col1\" class=\"data row1 col1\" >65</td>\n",
       "      <td id=\"T_d5362_row1_col2\" class=\"data row1 col2\" >6.10%</td>\n",
       "    </tr>\n",
       "    <tr>\n",
       "      <th id=\"T_d5362_level0_row2\" class=\"row_heading level0 row2\" >2</th>\n",
       "      <td id=\"T_d5362_row2_col0\" class=\"data row2 col0\" >City & County of San Francisco, MTA/Parking & Traffic</td>\n",
       "      <td id=\"T_d5362_row2_col1\" class=\"data row2 col1\" >46</td>\n",
       "      <td id=\"T_d5362_row2_col2\" class=\"data row2 col2\" >4.32%</td>\n",
       "    </tr>\n",
       "    <tr>\n",
       "      <th id=\"T_d5362_level0_row3\" class=\"row_heading level0 row3\" >3</th>\n",
       "      <td id=\"T_d5362_row3_col0\" class=\"data row3 col0\" >Sunnyvale</td>\n",
       "      <td id=\"T_d5362_row3_col1\" class=\"data row3 col1\" >45</td>\n",
       "      <td id=\"T_d5362_row3_col2\" class=\"data row3 col2\" >4.22%</td>\n",
       "    </tr>\n",
       "    <tr>\n",
       "      <th id=\"T_d5362_level0_row4\" class=\"row_heading level0 row4\" >4</th>\n",
       "      <td id=\"T_d5362_row4_col0\" class=\"data row4 col0\" >Contra Costa County</td>\n",
       "      <td id=\"T_d5362_row4_col1\" class=\"data row4 col1\" >39</td>\n",
       "      <td id=\"T_d5362_row4_col2\" class=\"data row4 col2\" >3.66%</td>\n",
       "    </tr>\n",
       "  </tbody>\n",
       "</table>\n"
      ],
      "text/plain": [
       "<pandas.io.formats.style.Styler at 0x7f393fe9f6d0>"
      ]
     },
     "metadata": {},
     "output_type": "display_data"
    },
    {
     "data": {
      "text/html": [
       "\n",
       "<div id=\"altair-viz-4a91895c648148b59c4ae093d97264d4\"></div>\n",
       "<script type=\"text/javascript\">\n",
       "  var VEGA_DEBUG = (typeof VEGA_DEBUG == \"undefined\") ? {} : VEGA_DEBUG;\n",
       "  (function(spec, embedOpt){\n",
       "    let outputDiv = document.currentScript.previousElementSibling;\n",
       "    if (outputDiv.id !== \"altair-viz-4a91895c648148b59c4ae093d97264d4\") {\n",
       "      outputDiv = document.getElementById(\"altair-viz-4a91895c648148b59c4ae093d97264d4\");\n",
       "    }\n",
       "    const paths = {\n",
       "      \"vega\": \"https://cdn.jsdelivr.net/npm//vega@5?noext\",\n",
       "      \"vega-lib\": \"https://cdn.jsdelivr.net/npm//vega-lib?noext\",\n",
       "      \"vega-lite\": \"https://cdn.jsdelivr.net/npm//vega-lite@4.17.0?noext\",\n",
       "      \"vega-embed\": \"https://cdn.jsdelivr.net/npm//vega-embed@6?noext\",\n",
       "    };\n",
       "\n",
       "    function maybeLoadScript(lib, version) {\n",
       "      var key = `${lib.replace(\"-\", \"\")}_version`;\n",
       "      return (VEGA_DEBUG[key] == version) ?\n",
       "        Promise.resolve(paths[lib]) :\n",
       "        new Promise(function(resolve, reject) {\n",
       "          var s = document.createElement('script');\n",
       "          document.getElementsByTagName(\"head\")[0].appendChild(s);\n",
       "          s.async = true;\n",
       "          s.onload = () => {\n",
       "            VEGA_DEBUG[key] = version;\n",
       "            return resolve(paths[lib]);\n",
       "          };\n",
       "          s.onerror = () => reject(`Error loading script: ${paths[lib]}`);\n",
       "          s.src = paths[lib];\n",
       "        });\n",
       "    }\n",
       "\n",
       "    function showError(err) {\n",
       "      outputDiv.innerHTML = `<div class=\"error\" style=\"color:red;\">${err}</div>`;\n",
       "      throw err;\n",
       "    }\n",
       "\n",
       "    function displayChart(vegaEmbed) {\n",
       "      vegaEmbed(outputDiv, spec, embedOpt)\n",
       "        .catch(err => showError(`Javascript Error: ${err.message}<br>This usually means there's a typo in your chart specification. See the javascript console for the full traceback.`));\n",
       "    }\n",
       "\n",
       "    if(typeof define === \"function\" && define.amd) {\n",
       "      requirejs.config({paths});\n",
       "      require([\"vega-embed\"], displayChart, err => showError(`Error loading script: ${err.message}`));\n",
       "    } else {\n",
       "      maybeLoadScript(\"vega\", \"5\")\n",
       "        .then(() => maybeLoadScript(\"vega-lite\", \"4.17.0\"))\n",
       "        .then(() => maybeLoadScript(\"vega-embed\", \"6\"))\n",
       "        .catch(showError)\n",
       "        .then(() => displayChart(vegaEmbed));\n",
       "    }\n",
       "  })({\"config\": {\"view\": {\"continuousWidth\": 400, \"continuousHeight\": 300}}, \"data\": {\"name\": \"data-615e63ed68c382cfd7c1e37ea07e4fca\"}, \"mark\": \"bar\", \"encoding\": {\"color\": {\"field\": \"Categories\", \"type\": \"nominal\"}, \"row\": {\"field\": \"Categories\", \"type\": \"nominal\"}, \"x\": {\"axis\": {\"format\": \"$\", \"title\": \"Obligated Funding ($2021)\"}, \"field\": \"value\", \"type\": \"quantitative\"}, \"y\": {\"field\": \"Agency\", \"type\": \"nominal\"}}, \"$schema\": \"https://vega.github.io/schema/vega-lite/v4.17.0.json\", \"datasets\": {\"data-615e63ed68c382cfd7c1e37ea07e4fca\": [{\"Agency\": \"San Jose\", \"Categories\": \"Total Requested\", \"value\": 814137.7836283975}, {\"Agency\": \"Oakland\", \"Categories\": \"Total Requested\", \"value\": 1190695.923476186}, {\"Agency\": \"City & County of San Francisco, MTA/Parking & Traffic\", \"Categories\": \"Total Requested\", \"value\": 399422.13886393333}, {\"Agency\": \"Sunnyvale\", \"Categories\": \"Total Requested\", \"value\": 317878.7361475288}, {\"Agency\": \"Contra Costa County\", \"Categories\": \"Total Requested\", \"value\": 898237.4996996525}, {\"Agency\": \"San Jose\", \"Categories\": \"Fed Requested\", \"value\": 608959.3462479156}, {\"Agency\": \"Oakland\", \"Categories\": \"Fed Requested\", \"value\": 768046.0772685818}, {\"Agency\": \"City & County of San Francisco, MTA/Parking & Traffic\", \"Categories\": \"Fed Requested\", \"value\": 275973.90511533467}, {\"Agency\": \"Sunnyvale\", \"Categories\": \"Fed Requested\", \"value\": 253658.05270616466}, {\"Agency\": \"Contra Costa County\", \"Categories\": \"Fed Requested\", \"value\": 421337.56935516215}, {\"Agency\": \"San Jose\", \"Categories\": \"AC Requested\", \"value\": 1556.8402544351802}, {\"Agency\": \"Oakland\", \"Categories\": \"AC Requested\", \"value\": 0.0}, {\"Agency\": \"City & County of San Francisco, MTA/Parking & Traffic\", \"Categories\": \"AC Requested\", \"value\": 0.0}, {\"Agency\": \"Sunnyvale\", \"Categories\": \"AC Requested\", \"value\": 0.0}, {\"Agency\": \"Contra Costa County\", \"Categories\": \"AC Requested\", \"value\": 0.0}]}}, {\"mode\": \"vega-lite\"});\n",
       "</script>"
      ],
      "text/plain": [
       "alt.Chart(...)"
      ]
     },
     "metadata": {},
     "output_type": "display_data"
    },
    {
     "data": {
      "text/markdown": [
       "**Top Agencies using Transit Projects**"
      ],
      "text/plain": [
       "<IPython.core.display.Markdown object>"
      ]
     },
     "metadata": {},
     "output_type": "display_data"
    },
    {
     "data": {
      "text/html": [
       "<style type=\"text/css\">\n",
       "</style>\n",
       "<table id=\"T_bc8e1\">\n",
       "  <thead>\n",
       "    <tr>\n",
       "      <th class=\"blank level0\" >&nbsp;</th>\n",
       "      <th id=\"T_bc8e1_level0_col0\" class=\"col_heading level0 col0\" >Agency</th>\n",
       "      <th id=\"T_bc8e1_level0_col1\" class=\"col_heading level0 col1\" >Transit Obligations</th>\n",
       "      <th id=\"T_bc8e1_level0_col2\" class=\"col_heading level0 col2\" >Percent of Category</th>\n",
       "    </tr>\n",
       "  </thead>\n",
       "  <tbody>\n",
       "    <tr>\n",
       "      <th id=\"T_bc8e1_level0_row0\" class=\"row_heading level0 row0\" >0</th>\n",
       "      <td id=\"T_bc8e1_row0_col0\" class=\"data row0 col0\" >Metropolitan Transportation Commission</td>\n",
       "      <td id=\"T_bc8e1_row0_col1\" class=\"data row0 col1\" >18</td>\n",
       "      <td id=\"T_bc8e1_row0_col2\" class=\"data row0 col2\" >23.08%</td>\n",
       "    </tr>\n",
       "    <tr>\n",
       "      <th id=\"T_bc8e1_level0_row1\" class=\"row_heading level0 row1\" >1</th>\n",
       "      <td id=\"T_bc8e1_row1_col0\" class=\"data row1 col0\" >Contra Costa County</td>\n",
       "      <td id=\"T_bc8e1_row1_col1\" class=\"data row1 col1\" >6</td>\n",
       "      <td id=\"T_bc8e1_row1_col2\" class=\"data row1 col2\" >7.69%</td>\n",
       "    </tr>\n",
       "    <tr>\n",
       "      <th id=\"T_bc8e1_level0_row2\" class=\"row_heading level0 row2\" >2</th>\n",
       "      <td id=\"T_bc8e1_row2_col0\" class=\"data row2 col0\" >Sunnyvale</td>\n",
       "      <td id=\"T_bc8e1_row2_col1\" class=\"data row2 col1\" >6</td>\n",
       "      <td id=\"T_bc8e1_row2_col2\" class=\"data row2 col2\" >7.69%</td>\n",
       "    </tr>\n",
       "    <tr>\n",
       "      <th id=\"T_bc8e1_level0_row3\" class=\"row_heading level0 row3\" >3</th>\n",
       "      <td id=\"T_bc8e1_row3_col0\" class=\"data row3 col0\" >Marin County</td>\n",
       "      <td id=\"T_bc8e1_row3_col1\" class=\"data row3 col1\" >4</td>\n",
       "      <td id=\"T_bc8e1_row3_col2\" class=\"data row3 col2\" >5.13%</td>\n",
       "    </tr>\n",
       "    <tr>\n",
       "      <th id=\"T_bc8e1_level0_row4\" class=\"row_heading level0 row4\" >4</th>\n",
       "      <td id=\"T_bc8e1_row4_col0\" class=\"data row4 col0\" >Oakland</td>\n",
       "      <td id=\"T_bc8e1_row4_col1\" class=\"data row4 col1\" >4</td>\n",
       "      <td id=\"T_bc8e1_row4_col2\" class=\"data row4 col2\" >5.13%</td>\n",
       "    </tr>\n",
       "  </tbody>\n",
       "</table>\n"
      ],
      "text/plain": [
       "<pandas.io.formats.style.Styler at 0x7f393fe9f040>"
      ]
     },
     "metadata": {},
     "output_type": "display_data"
    },
    {
     "data": {
      "text/html": [
       "\n",
       "<div id=\"altair-viz-1eaca063c7ea4425beac1560dd02b96e\"></div>\n",
       "<script type=\"text/javascript\">\n",
       "  var VEGA_DEBUG = (typeof VEGA_DEBUG == \"undefined\") ? {} : VEGA_DEBUG;\n",
       "  (function(spec, embedOpt){\n",
       "    let outputDiv = document.currentScript.previousElementSibling;\n",
       "    if (outputDiv.id !== \"altair-viz-1eaca063c7ea4425beac1560dd02b96e\") {\n",
       "      outputDiv = document.getElementById(\"altair-viz-1eaca063c7ea4425beac1560dd02b96e\");\n",
       "    }\n",
       "    const paths = {\n",
       "      \"vega\": \"https://cdn.jsdelivr.net/npm//vega@5?noext\",\n",
       "      \"vega-lib\": \"https://cdn.jsdelivr.net/npm//vega-lib?noext\",\n",
       "      \"vega-lite\": \"https://cdn.jsdelivr.net/npm//vega-lite@4.17.0?noext\",\n",
       "      \"vega-embed\": \"https://cdn.jsdelivr.net/npm//vega-embed@6?noext\",\n",
       "    };\n",
       "\n",
       "    function maybeLoadScript(lib, version) {\n",
       "      var key = `${lib.replace(\"-\", \"\")}_version`;\n",
       "      return (VEGA_DEBUG[key] == version) ?\n",
       "        Promise.resolve(paths[lib]) :\n",
       "        new Promise(function(resolve, reject) {\n",
       "          var s = document.createElement('script');\n",
       "          document.getElementsByTagName(\"head\")[0].appendChild(s);\n",
       "          s.async = true;\n",
       "          s.onload = () => {\n",
       "            VEGA_DEBUG[key] = version;\n",
       "            return resolve(paths[lib]);\n",
       "          };\n",
       "          s.onerror = () => reject(`Error loading script: ${paths[lib]}`);\n",
       "          s.src = paths[lib];\n",
       "        });\n",
       "    }\n",
       "\n",
       "    function showError(err) {\n",
       "      outputDiv.innerHTML = `<div class=\"error\" style=\"color:red;\">${err}</div>`;\n",
       "      throw err;\n",
       "    }\n",
       "\n",
       "    function displayChart(vegaEmbed) {\n",
       "      vegaEmbed(outputDiv, spec, embedOpt)\n",
       "        .catch(err => showError(`Javascript Error: ${err.message}<br>This usually means there's a typo in your chart specification. See the javascript console for the full traceback.`));\n",
       "    }\n",
       "\n",
       "    if(typeof define === \"function\" && define.amd) {\n",
       "      requirejs.config({paths});\n",
       "      require([\"vega-embed\"], displayChart, err => showError(`Error loading script: ${err.message}`));\n",
       "    } else {\n",
       "      maybeLoadScript(\"vega\", \"5\")\n",
       "        .then(() => maybeLoadScript(\"vega-lite\", \"4.17.0\"))\n",
       "        .then(() => maybeLoadScript(\"vega-embed\", \"6\"))\n",
       "        .catch(showError)\n",
       "        .then(() => displayChart(vegaEmbed));\n",
       "    }\n",
       "  })({\"config\": {\"view\": {\"continuousWidth\": 400, \"continuousHeight\": 300}}, \"data\": {\"name\": \"data-d9a29df4748791ae24afecc5c0283eb7\"}, \"mark\": \"bar\", \"encoding\": {\"color\": {\"field\": \"Categories\", \"type\": \"nominal\"}, \"row\": {\"field\": \"Categories\", \"type\": \"nominal\"}, \"x\": {\"axis\": {\"format\": \"$\", \"title\": \"Obligated Funding ($2021)\"}, \"field\": \"value\", \"type\": \"quantitative\"}, \"y\": {\"field\": \"Agency\", \"type\": \"nominal\"}}, \"$schema\": \"https://vega.github.io/schema/vega-lite/v4.17.0.json\", \"datasets\": {\"data-d9a29df4748791ae24afecc5c0283eb7\": [{\"Agency\": \"Metropolitan Transportation Commission\", \"Categories\": \"Total Requested\", \"value\": 1891120.7657899645}, {\"Agency\": \"Contra Costa County\", \"Categories\": \"Total Requested\", \"value\": 404987.6050383288}, {\"Agency\": \"Sunnyvale\", \"Categories\": \"Total Requested\", \"value\": 926428.2307726461}, {\"Agency\": \"Marin County\", \"Categories\": \"Total Requested\", \"value\": -7408.519322812451}, {\"Agency\": \"Oakland\", \"Categories\": \"Total Requested\", \"value\": 1799536.078974054}, {\"Agency\": \"Metropolitan Transportation Commission\", \"Categories\": \"Fed Requested\", \"value\": 1879749.0219219865}, {\"Agency\": \"Contra Costa County\", \"Categories\": \"Fed Requested\", \"value\": 175096.97475341568}, {\"Agency\": \"Sunnyvale\", \"Categories\": \"Fed Requested\", \"value\": 720283.2012312901}, {\"Agency\": \"Marin County\", \"Categories\": \"Fed Requested\", \"value\": -6253.208967680917}, {\"Agency\": \"Oakland\", \"Categories\": \"Fed Requested\", \"value\": 1204808.1708253678}, {\"Agency\": \"Metropolitan Transportation Commission\", \"Categories\": \"AC Requested\", \"value\": 0.0}, {\"Agency\": \"Contra Costa County\", \"Categories\": \"AC Requested\", \"value\": 0.0}, {\"Agency\": \"Sunnyvale\", \"Categories\": \"AC Requested\", \"value\": 0.0}, {\"Agency\": \"Marin County\", \"Categories\": \"AC Requested\", \"value\": 0.0}, {\"Agency\": \"Oakland\", \"Categories\": \"AC Requested\", \"value\": 0.0}]}}, {\"mode\": \"vega-lite\"});\n",
       "</script>"
      ],
      "text/plain": [
       "alt.Chart(...)"
      ]
     },
     "metadata": {},
     "output_type": "display_data"
    },
    {
     "data": {
      "text/markdown": [
       "**Top Agencies using Bridge Projects**"
      ],
      "text/plain": [
       "<IPython.core.display.Markdown object>"
      ]
     },
     "metadata": {},
     "output_type": "display_data"
    },
    {
     "data": {
      "text/html": [
       "<style type=\"text/css\">\n",
       "</style>\n",
       "<table id=\"T_13753\">\n",
       "  <thead>\n",
       "    <tr>\n",
       "      <th class=\"blank level0\" >&nbsp;</th>\n",
       "      <th id=\"T_13753_level0_col0\" class=\"col_heading level0 col0\" >Agency</th>\n",
       "      <th id=\"T_13753_level0_col1\" class=\"col_heading level0 col1\" >Bridge Obligations</th>\n",
       "      <th id=\"T_13753_level0_col2\" class=\"col_heading level0 col2\" >Percent of Category</th>\n",
       "    </tr>\n",
       "  </thead>\n",
       "  <tbody>\n",
       "    <tr>\n",
       "      <th id=\"T_13753_level0_row0\" class=\"row_heading level0 row0\" >0</th>\n",
       "      <td id=\"T_13753_row0_col0\" class=\"data row0 col0\" >Santa Clara County</td>\n",
       "      <td id=\"T_13753_row0_col1\" class=\"data row0 col1\" >68</td>\n",
       "      <td id=\"T_13753_row0_col2\" class=\"data row0 col2\" >14.23%</td>\n",
       "    </tr>\n",
       "    <tr>\n",
       "      <th id=\"T_13753_level0_row1\" class=\"row_heading level0 row1\" >1</th>\n",
       "      <td id=\"T_13753_row1_col0\" class=\"data row1 col0\" >Contra Costa County</td>\n",
       "      <td id=\"T_13753_row1_col1\" class=\"data row1 col1\" >44</td>\n",
       "      <td id=\"T_13753_row1_col2\" class=\"data row1 col2\" >9.21%</td>\n",
       "    </tr>\n",
       "    <tr>\n",
       "      <th id=\"T_13753_level0_row2\" class=\"row_heading level0 row2\" >2</th>\n",
       "      <td id=\"T_13753_row2_col0\" class=\"data row2 col0\" >Sonoma County</td>\n",
       "      <td id=\"T_13753_row2_col1\" class=\"data row2 col1\" >33</td>\n",
       "      <td id=\"T_13753_row2_col2\" class=\"data row2 col2\" >6.90%</td>\n",
       "    </tr>\n",
       "    <tr>\n",
       "      <th id=\"T_13753_level0_row3\" class=\"row_heading level0 row3\" >3</th>\n",
       "      <td id=\"T_13753_row3_col0\" class=\"data row3 col0\" >Napa County</td>\n",
       "      <td id=\"T_13753_row3_col1\" class=\"data row3 col1\" >25</td>\n",
       "      <td id=\"T_13753_row3_col2\" class=\"data row3 col2\" >5.23%</td>\n",
       "    </tr>\n",
       "    <tr>\n",
       "      <th id=\"T_13753_level0_row4\" class=\"row_heading level0 row4\" >4</th>\n",
       "      <td id=\"T_13753_row4_col0\" class=\"data row4 col0\" >Oakland</td>\n",
       "      <td id=\"T_13753_row4_col1\" class=\"data row4 col1\" >22</td>\n",
       "      <td id=\"T_13753_row4_col2\" class=\"data row4 col2\" >4.60%</td>\n",
       "    </tr>\n",
       "  </tbody>\n",
       "</table>\n"
      ],
      "text/plain": [
       "<pandas.io.formats.style.Styler at 0x7f393fe9f6d0>"
      ]
     },
     "metadata": {},
     "output_type": "display_data"
    },
    {
     "data": {
      "text/html": [
       "\n",
       "<div id=\"altair-viz-3d808e22bf8b4c188f62bfbbe08a2f44\"></div>\n",
       "<script type=\"text/javascript\">\n",
       "  var VEGA_DEBUG = (typeof VEGA_DEBUG == \"undefined\") ? {} : VEGA_DEBUG;\n",
       "  (function(spec, embedOpt){\n",
       "    let outputDiv = document.currentScript.previousElementSibling;\n",
       "    if (outputDiv.id !== \"altair-viz-3d808e22bf8b4c188f62bfbbe08a2f44\") {\n",
       "      outputDiv = document.getElementById(\"altair-viz-3d808e22bf8b4c188f62bfbbe08a2f44\");\n",
       "    }\n",
       "    const paths = {\n",
       "      \"vega\": \"https://cdn.jsdelivr.net/npm//vega@5?noext\",\n",
       "      \"vega-lib\": \"https://cdn.jsdelivr.net/npm//vega-lib?noext\",\n",
       "      \"vega-lite\": \"https://cdn.jsdelivr.net/npm//vega-lite@4.17.0?noext\",\n",
       "      \"vega-embed\": \"https://cdn.jsdelivr.net/npm//vega-embed@6?noext\",\n",
       "    };\n",
       "\n",
       "    function maybeLoadScript(lib, version) {\n",
       "      var key = `${lib.replace(\"-\", \"\")}_version`;\n",
       "      return (VEGA_DEBUG[key] == version) ?\n",
       "        Promise.resolve(paths[lib]) :\n",
       "        new Promise(function(resolve, reject) {\n",
       "          var s = document.createElement('script');\n",
       "          document.getElementsByTagName(\"head\")[0].appendChild(s);\n",
       "          s.async = true;\n",
       "          s.onload = () => {\n",
       "            VEGA_DEBUG[key] = version;\n",
       "            return resolve(paths[lib]);\n",
       "          };\n",
       "          s.onerror = () => reject(`Error loading script: ${paths[lib]}`);\n",
       "          s.src = paths[lib];\n",
       "        });\n",
       "    }\n",
       "\n",
       "    function showError(err) {\n",
       "      outputDiv.innerHTML = `<div class=\"error\" style=\"color:red;\">${err}</div>`;\n",
       "      throw err;\n",
       "    }\n",
       "\n",
       "    function displayChart(vegaEmbed) {\n",
       "      vegaEmbed(outputDiv, spec, embedOpt)\n",
       "        .catch(err => showError(`Javascript Error: ${err.message}<br>This usually means there's a typo in your chart specification. See the javascript console for the full traceback.`));\n",
       "    }\n",
       "\n",
       "    if(typeof define === \"function\" && define.amd) {\n",
       "      requirejs.config({paths});\n",
       "      require([\"vega-embed\"], displayChart, err => showError(`Error loading script: ${err.message}`));\n",
       "    } else {\n",
       "      maybeLoadScript(\"vega\", \"5\")\n",
       "        .then(() => maybeLoadScript(\"vega-lite\", \"4.17.0\"))\n",
       "        .then(() => maybeLoadScript(\"vega-embed\", \"6\"))\n",
       "        .catch(showError)\n",
       "        .then(() => displayChart(vegaEmbed));\n",
       "    }\n",
       "  })({\"config\": {\"view\": {\"continuousWidth\": 400, \"continuousHeight\": 300}}, \"data\": {\"name\": \"data-2304308a9df18363a515ebdd7b5086ac\"}, \"mark\": \"bar\", \"encoding\": {\"color\": {\"field\": \"Categories\", \"type\": \"nominal\"}, \"row\": {\"field\": \"Categories\", \"type\": \"nominal\"}, \"x\": {\"axis\": {\"format\": \"$\", \"title\": \"Obligated Funding ($2021)\"}, \"field\": \"value\", \"type\": \"quantitative\"}, \"y\": {\"field\": \"Agency\", \"type\": \"nominal\"}}, \"$schema\": \"https://vega.github.io/schema/vega-lite/v4.17.0.json\", \"datasets\": {\"data-2304308a9df18363a515ebdd7b5086ac\": [{\"Agency\": \"Santa Clara County\", \"Categories\": \"Total Requested\", \"value\": 625958.9843240244}, {\"Agency\": \"Contra Costa County\", \"Categories\": \"Total Requested\", \"value\": 1317235.5704050076}, {\"Agency\": \"Sonoma County\", \"Categories\": \"Total Requested\", \"value\": 821851.2705232998}, {\"Agency\": \"Napa County\", \"Categories\": \"Total Requested\", \"value\": 403289.3793109502}, {\"Agency\": \"Oakland\", \"Categories\": \"Total Requested\", \"value\": 1567186.3367742712}, {\"Agency\": \"Santa Clara County\", \"Categories\": \"Fed Requested\", \"value\": 550778.6947057685}, {\"Agency\": \"Contra Costa County\", \"Categories\": \"Fed Requested\", \"value\": 1044117.3624252696}, {\"Agency\": \"Sonoma County\", \"Categories\": \"Fed Requested\", \"value\": 605493.3689150345}, {\"Agency\": \"Napa County\", \"Categories\": \"Fed Requested\", \"value\": 409960.4929304969}, {\"Agency\": \"Oakland\", \"Categories\": \"Fed Requested\", \"value\": 1259324.924989911}, {\"Agency\": \"Santa Clara County\", \"Categories\": \"AC Requested\", \"value\": 5572.874143770622}, {\"Agency\": \"Contra Costa County\", \"Categories\": \"AC Requested\", \"value\": 106533.47492573563}, {\"Agency\": \"Sonoma County\", \"Categories\": \"AC Requested\", \"value\": 125961.78035739178}, {\"Agency\": \"Napa County\", \"Categories\": \"AC Requested\", \"value\": 222.60068153467608}, {\"Agency\": \"Oakland\", \"Categories\": \"AC Requested\", \"value\": 0.0}]}}, {\"mode\": \"vega-lite\"});\n",
       "</script>"
      ],
      "text/plain": [
       "alt.Chart(...)"
      ]
     },
     "metadata": {},
     "output_type": "display_data"
    },
    {
     "data": {
      "text/markdown": [
       "**Top Agencies using Street Projects**"
      ],
      "text/plain": [
       "<IPython.core.display.Markdown object>"
      ]
     },
     "metadata": {},
     "output_type": "display_data"
    },
    {
     "data": {
      "text/html": [
       "<style type=\"text/css\">\n",
       "</style>\n",
       "<table id=\"T_6f854\">\n",
       "  <thead>\n",
       "    <tr>\n",
       "      <th class=\"blank level0\" >&nbsp;</th>\n",
       "      <th id=\"T_6f854_level0_col0\" class=\"col_heading level0 col0\" >Agency</th>\n",
       "      <th id=\"T_6f854_level0_col1\" class=\"col_heading level0 col1\" >Street Obligations</th>\n",
       "      <th id=\"T_6f854_level0_col2\" class=\"col_heading level0 col2\" >Percent of Category</th>\n",
       "    </tr>\n",
       "  </thead>\n",
       "  <tbody>\n",
       "    <tr>\n",
       "      <th id=\"T_6f854_level0_row0\" class=\"row_heading level0 row0\" >0</th>\n",
       "      <td id=\"T_6f854_row0_col0\" class=\"data row0 col0\" >Oakland</td>\n",
       "      <td id=\"T_6f854_row0_col1\" class=\"data row0 col1\" >82</td>\n",
       "      <td id=\"T_6f854_row0_col2\" class=\"data row0 col2\" >6.25%</td>\n",
       "    </tr>\n",
       "    <tr>\n",
       "      <th id=\"T_6f854_level0_row1\" class=\"row_heading level0 row1\" >1</th>\n",
       "      <td id=\"T_6f854_row1_col0\" class=\"data row1 col0\" >Contra Costa County</td>\n",
       "      <td id=\"T_6f854_row1_col1\" class=\"data row1 col1\" >81</td>\n",
       "      <td id=\"T_6f854_row1_col2\" class=\"data row1 col2\" >6.17%</td>\n",
       "    </tr>\n",
       "    <tr>\n",
       "      <th id=\"T_6f854_level0_row2\" class=\"row_heading level0 row2\" >2</th>\n",
       "      <td id=\"T_6f854_row2_col0\" class=\"data row2 col0\" >San Jose</td>\n",
       "      <td id=\"T_6f854_row2_col1\" class=\"data row2 col1\" >66</td>\n",
       "      <td id=\"T_6f854_row2_col2\" class=\"data row2 col2\" >5.03%</td>\n",
       "    </tr>\n",
       "    <tr>\n",
       "      <th id=\"T_6f854_level0_row3\" class=\"row_heading level0 row3\" >3</th>\n",
       "      <td id=\"T_6f854_row3_col0\" class=\"data row3 col0\" >San Francisco County</td>\n",
       "      <td id=\"T_6f854_row3_col1\" class=\"data row3 col1\" >45</td>\n",
       "      <td id=\"T_6f854_row3_col2\" class=\"data row3 col2\" >3.43%</td>\n",
       "    </tr>\n",
       "    <tr>\n",
       "      <th id=\"T_6f854_level0_row4\" class=\"row_heading level0 row4\" >4</th>\n",
       "      <td id=\"T_6f854_row4_col0\" class=\"data row4 col0\" >Sunnyvale</td>\n",
       "      <td id=\"T_6f854_row4_col1\" class=\"data row4 col1\" >45</td>\n",
       "      <td id=\"T_6f854_row4_col2\" class=\"data row4 col2\" >3.43%</td>\n",
       "    </tr>\n",
       "  </tbody>\n",
       "</table>\n"
      ],
      "text/plain": [
       "<pandas.io.formats.style.Styler at 0x7f393febd460>"
      ]
     },
     "metadata": {},
     "output_type": "display_data"
    },
    {
     "data": {
      "text/html": [
       "\n",
       "<div id=\"altair-viz-2cf3295e92c3460b80b36073aa3979a2\"></div>\n",
       "<script type=\"text/javascript\">\n",
       "  var VEGA_DEBUG = (typeof VEGA_DEBUG == \"undefined\") ? {} : VEGA_DEBUG;\n",
       "  (function(spec, embedOpt){\n",
       "    let outputDiv = document.currentScript.previousElementSibling;\n",
       "    if (outputDiv.id !== \"altair-viz-2cf3295e92c3460b80b36073aa3979a2\") {\n",
       "      outputDiv = document.getElementById(\"altair-viz-2cf3295e92c3460b80b36073aa3979a2\");\n",
       "    }\n",
       "    const paths = {\n",
       "      \"vega\": \"https://cdn.jsdelivr.net/npm//vega@5?noext\",\n",
       "      \"vega-lib\": \"https://cdn.jsdelivr.net/npm//vega-lib?noext\",\n",
       "      \"vega-lite\": \"https://cdn.jsdelivr.net/npm//vega-lite@4.17.0?noext\",\n",
       "      \"vega-embed\": \"https://cdn.jsdelivr.net/npm//vega-embed@6?noext\",\n",
       "    };\n",
       "\n",
       "    function maybeLoadScript(lib, version) {\n",
       "      var key = `${lib.replace(\"-\", \"\")}_version`;\n",
       "      return (VEGA_DEBUG[key] == version) ?\n",
       "        Promise.resolve(paths[lib]) :\n",
       "        new Promise(function(resolve, reject) {\n",
       "          var s = document.createElement('script');\n",
       "          document.getElementsByTagName(\"head\")[0].appendChild(s);\n",
       "          s.async = true;\n",
       "          s.onload = () => {\n",
       "            VEGA_DEBUG[key] = version;\n",
       "            return resolve(paths[lib]);\n",
       "          };\n",
       "          s.onerror = () => reject(`Error loading script: ${paths[lib]}`);\n",
       "          s.src = paths[lib];\n",
       "        });\n",
       "    }\n",
       "\n",
       "    function showError(err) {\n",
       "      outputDiv.innerHTML = `<div class=\"error\" style=\"color:red;\">${err}</div>`;\n",
       "      throw err;\n",
       "    }\n",
       "\n",
       "    function displayChart(vegaEmbed) {\n",
       "      vegaEmbed(outputDiv, spec, embedOpt)\n",
       "        .catch(err => showError(`Javascript Error: ${err.message}<br>This usually means there's a typo in your chart specification. See the javascript console for the full traceback.`));\n",
       "    }\n",
       "\n",
       "    if(typeof define === \"function\" && define.amd) {\n",
       "      requirejs.config({paths});\n",
       "      require([\"vega-embed\"], displayChart, err => showError(`Error loading script: ${err.message}`));\n",
       "    } else {\n",
       "      maybeLoadScript(\"vega\", \"5\")\n",
       "        .then(() => maybeLoadScript(\"vega-lite\", \"4.17.0\"))\n",
       "        .then(() => maybeLoadScript(\"vega-embed\", \"6\"))\n",
       "        .catch(showError)\n",
       "        .then(() => displayChart(vegaEmbed));\n",
       "    }\n",
       "  })({\"config\": {\"view\": {\"continuousWidth\": 400, \"continuousHeight\": 300}}, \"data\": {\"name\": \"data-dd7e05f42eaaa99ac01fa755a8b09c8a\"}, \"mark\": \"bar\", \"encoding\": {\"color\": {\"field\": \"Categories\", \"type\": \"nominal\"}, \"row\": {\"field\": \"Categories\", \"type\": \"nominal\"}, \"x\": {\"axis\": {\"format\": \"$\", \"title\": \"Obligated Funding ($2021)\"}, \"field\": \"value\", \"type\": \"quantitative\"}, \"y\": {\"field\": \"Agency\", \"type\": \"nominal\"}}, \"$schema\": \"https://vega.github.io/schema/vega-lite/v4.17.0.json\", \"datasets\": {\"data-dd7e05f42eaaa99ac01fa755a8b09c8a\": [{\"Agency\": \"Oakland\", \"Categories\": \"Total Requested\", \"value\": 956205.3516625259}, {\"Agency\": \"Contra Costa County\", \"Categories\": \"Total Requested\", \"value\": 623288.0224066745}, {\"Agency\": \"San Jose\", \"Categories\": \"Total Requested\", \"value\": 1164382.3305085415}, {\"Agency\": \"San Francisco County\", \"Categories\": \"Total Requested\", \"value\": 4830260.311519132}, {\"Agency\": \"Sunnyvale\", \"Categories\": \"Total Requested\", \"value\": 263230.4439052576}, {\"Agency\": \"Oakland\", \"Categories\": \"Fed Requested\", \"value\": 666323.0618760224}, {\"Agency\": \"Contra Costa County\", \"Categories\": \"Fed Requested\", \"value\": 425613.1784105133}, {\"Agency\": \"San Jose\", \"Categories\": \"Fed Requested\", \"value\": 949038.2804306695}, {\"Agency\": \"San Francisco County\", \"Categories\": \"Fed Requested\", \"value\": 596351.3825193458}, {\"Agency\": \"Sunnyvale\", \"Categories\": \"Fed Requested\", \"value\": 218961.48645088891}, {\"Agency\": \"Oakland\", \"Categories\": \"AC Requested\", \"value\": 0.0}, {\"Agency\": \"Contra Costa County\", \"Categories\": \"AC Requested\", \"value\": 229.00333419290047}, {\"Agency\": \"San Jose\", \"Categories\": \"AC Requested\", \"value\": 0.0}, {\"Agency\": \"San Francisco County\", \"Categories\": \"AC Requested\", \"value\": 3762.4890021642877}, {\"Agency\": \"Sunnyvale\", \"Categories\": \"AC Requested\", \"value\": 0.0}]}}, {\"mode\": \"vega-lite\"});\n",
       "</script>"
      ],
      "text/plain": [
       "alt.Chart(...)"
      ]
     },
     "metadata": {},
     "output_type": "display_data"
    },
    {
     "data": {
      "text/markdown": [
       "**Top Agencies using Freeway Projects**"
      ],
      "text/plain": [
       "<IPython.core.display.Markdown object>"
      ]
     },
     "metadata": {},
     "output_type": "display_data"
    },
    {
     "data": {
      "text/html": [
       "<style type=\"text/css\">\n",
       "</style>\n",
       "<table id=\"T_47950\">\n",
       "  <thead>\n",
       "    <tr>\n",
       "      <th class=\"blank level0\" >&nbsp;</th>\n",
       "      <th id=\"T_47950_level0_col0\" class=\"col_heading level0 col0\" >Agency</th>\n",
       "      <th id=\"T_47950_level0_col1\" class=\"col_heading level0 col1\" >Freeway Obligations</th>\n",
       "      <th id=\"T_47950_level0_col2\" class=\"col_heading level0 col2\" >Percent of Category</th>\n",
       "    </tr>\n",
       "  </thead>\n",
       "  <tbody>\n",
       "    <tr>\n",
       "      <th id=\"T_47950_level0_row0\" class=\"row_heading level0 row0\" >0</th>\n",
       "      <td id=\"T_47950_row0_col0\" class=\"data row0 col0\" >Metropolitan Transportation Commission</td>\n",
       "      <td id=\"T_47950_row0_col1\" class=\"data row0 col1\" >11</td>\n",
       "      <td id=\"T_47950_row0_col2\" class=\"data row0 col2\" >28.21%</td>\n",
       "    </tr>\n",
       "    <tr>\n",
       "      <th id=\"T_47950_level0_row1\" class=\"row_heading level0 row1\" >1</th>\n",
       "      <td id=\"T_47950_row1_col0\" class=\"data row1 col0\" >Contra Costa County</td>\n",
       "      <td id=\"T_47950_row1_col1\" class=\"data row1 col1\" >7</td>\n",
       "      <td id=\"T_47950_row1_col2\" class=\"data row1 col2\" >17.95%</td>\n",
       "    </tr>\n",
       "    <tr>\n",
       "      <th id=\"T_47950_level0_row2\" class=\"row_heading level0 row2\" >2</th>\n",
       "      <td id=\"T_47950_row2_col0\" class=\"data row2 col0\" >Caltrans</td>\n",
       "      <td id=\"T_47950_row2_col1\" class=\"data row2 col1\" >4</td>\n",
       "      <td id=\"T_47950_row2_col2\" class=\"data row2 col2\" >10.26%</td>\n",
       "    </tr>\n",
       "    <tr>\n",
       "      <th id=\"T_47950_level0_row3\" class=\"row_heading level0 row3\" >3</th>\n",
       "      <td id=\"T_47950_row3_col0\" class=\"data row3 col0\" >Metropolitan Transportation Commission - SAFE</td>\n",
       "      <td id=\"T_47950_row3_col1\" class=\"data row3 col1\" >3</td>\n",
       "      <td id=\"T_47950_row3_col2\" class=\"data row3 col2\" >7.69%</td>\n",
       "    </tr>\n",
       "    <tr>\n",
       "      <th id=\"T_47950_level0_row4\" class=\"row_heading level0 row4\" >4</th>\n",
       "      <td id=\"T_47950_row4_col0\" class=\"data row4 col0\" >Alameda County Congestion Management Agency</td>\n",
       "      <td id=\"T_47950_row4_col1\" class=\"data row4 col1\" >2</td>\n",
       "      <td id=\"T_47950_row4_col2\" class=\"data row4 col2\" >5.13%</td>\n",
       "    </tr>\n",
       "  </tbody>\n",
       "</table>\n"
      ],
      "text/plain": [
       "<pandas.io.formats.style.Styler at 0x7f393ff72d60>"
      ]
     },
     "metadata": {},
     "output_type": "display_data"
    },
    {
     "data": {
      "text/html": [
       "\n",
       "<div id=\"altair-viz-f596010354dc450989569f86eb0cfdd3\"></div>\n",
       "<script type=\"text/javascript\">\n",
       "  var VEGA_DEBUG = (typeof VEGA_DEBUG == \"undefined\") ? {} : VEGA_DEBUG;\n",
       "  (function(spec, embedOpt){\n",
       "    let outputDiv = document.currentScript.previousElementSibling;\n",
       "    if (outputDiv.id !== \"altair-viz-f596010354dc450989569f86eb0cfdd3\") {\n",
       "      outputDiv = document.getElementById(\"altair-viz-f596010354dc450989569f86eb0cfdd3\");\n",
       "    }\n",
       "    const paths = {\n",
       "      \"vega\": \"https://cdn.jsdelivr.net/npm//vega@5?noext\",\n",
       "      \"vega-lib\": \"https://cdn.jsdelivr.net/npm//vega-lib?noext\",\n",
       "      \"vega-lite\": \"https://cdn.jsdelivr.net/npm//vega-lite@4.17.0?noext\",\n",
       "      \"vega-embed\": \"https://cdn.jsdelivr.net/npm//vega-embed@6?noext\",\n",
       "    };\n",
       "\n",
       "    function maybeLoadScript(lib, version) {\n",
       "      var key = `${lib.replace(\"-\", \"\")}_version`;\n",
       "      return (VEGA_DEBUG[key] == version) ?\n",
       "        Promise.resolve(paths[lib]) :\n",
       "        new Promise(function(resolve, reject) {\n",
       "          var s = document.createElement('script');\n",
       "          document.getElementsByTagName(\"head\")[0].appendChild(s);\n",
       "          s.async = true;\n",
       "          s.onload = () => {\n",
       "            VEGA_DEBUG[key] = version;\n",
       "            return resolve(paths[lib]);\n",
       "          };\n",
       "          s.onerror = () => reject(`Error loading script: ${paths[lib]}`);\n",
       "          s.src = paths[lib];\n",
       "        });\n",
       "    }\n",
       "\n",
       "    function showError(err) {\n",
       "      outputDiv.innerHTML = `<div class=\"error\" style=\"color:red;\">${err}</div>`;\n",
       "      throw err;\n",
       "    }\n",
       "\n",
       "    function displayChart(vegaEmbed) {\n",
       "      vegaEmbed(outputDiv, spec, embedOpt)\n",
       "        .catch(err => showError(`Javascript Error: ${err.message}<br>This usually means there's a typo in your chart specification. See the javascript console for the full traceback.`));\n",
       "    }\n",
       "\n",
       "    if(typeof define === \"function\" && define.amd) {\n",
       "      requirejs.config({paths});\n",
       "      require([\"vega-embed\"], displayChart, err => showError(`Error loading script: ${err.message}`));\n",
       "    } else {\n",
       "      maybeLoadScript(\"vega\", \"5\")\n",
       "        .then(() => maybeLoadScript(\"vega-lite\", \"4.17.0\"))\n",
       "        .then(() => maybeLoadScript(\"vega-embed\", \"6\"))\n",
       "        .catch(showError)\n",
       "        .then(() => displayChart(vegaEmbed));\n",
       "    }\n",
       "  })({\"config\": {\"view\": {\"continuousWidth\": 400, \"continuousHeight\": 300}}, \"data\": {\"name\": \"data-c19bc76039f0e8d4da3994fcab279064\"}, \"mark\": \"bar\", \"encoding\": {\"color\": {\"field\": \"Categories\", \"type\": \"nominal\"}, \"row\": {\"field\": \"Categories\", \"type\": \"nominal\"}, \"x\": {\"axis\": {\"format\": \"$\", \"title\": \"Obligated Funding ($2021)\"}, \"field\": \"value\", \"type\": \"quantitative\"}, \"y\": {\"field\": \"Agency\", \"type\": \"nominal\"}}, \"$schema\": \"https://vega.github.io/schema/vega-lite/v4.17.0.json\", \"datasets\": {\"data-c19bc76039f0e8d4da3994fcab279064\": [{\"Agency\": \"Metropolitan Transportation Commission\", \"Categories\": \"Total Requested\", \"value\": 1909540.8928010145}, {\"Agency\": \"Contra Costa County\", \"Categories\": \"Total Requested\", \"value\": 1041396.7377879982}, {\"Agency\": \"Caltrans\", \"Categories\": \"Total Requested\", \"value\": 7155873.948324381}, {\"Agency\": \"Metropolitan Transportation Commission - SAFE\", \"Categories\": \"Total Requested\", \"value\": 5607282.0964267}, {\"Agency\": \"Alameda County Congestion Management Agency\", \"Categories\": \"Total Requested\", \"value\": 771698.7792291272}, {\"Agency\": \"Metropolitan Transportation Commission\", \"Categories\": \"Fed Requested\", \"value\": 1890540.1407647512}, {\"Agency\": \"Contra Costa County\", \"Categories\": \"Fed Requested\", \"value\": 690949.2652206112}, {\"Agency\": \"Caltrans\", \"Categories\": \"Fed Requested\", \"value\": 3977675.6275673257}, {\"Agency\": \"Metropolitan Transportation Commission - SAFE\", \"Categories\": \"Fed Requested\", \"value\": 5607282.0964267}, {\"Agency\": \"Alameda County Congestion Management Agency\", \"Categories\": \"Fed Requested\", \"value\": 571275.1031109582}, {\"Agency\": \"Metropolitan Transportation Commission\", \"Categories\": \"AC Requested\", \"value\": 0.0}, {\"Agency\": \"Contra Costa County\", \"Categories\": \"AC Requested\", \"value\": 26482.60130270215}, {\"Agency\": \"Caltrans\", \"Categories\": \"AC Requested\", \"value\": 0.0}, {\"Agency\": \"Metropolitan Transportation Commission - SAFE\", \"Categories\": \"AC Requested\", \"value\": 0.0}, {\"Agency\": \"Alameda County Congestion Management Agency\", \"Categories\": \"AC Requested\", \"value\": 0.0}]}}, {\"mode\": \"vega-lite\"});\n",
       "</script>"
      ],
      "text/plain": [
       "alt.Chart(...)"
      ]
     },
     "metadata": {},
     "output_type": "display_data"
    },
    {
     "data": {
      "text/markdown": [
       "**Top Agencies using Infra Resiliency Er Projects**"
      ],
      "text/plain": [
       "<IPython.core.display.Markdown object>"
      ]
     },
     "metadata": {},
     "output_type": "display_data"
    },
    {
     "data": {
      "text/html": [
       "<style type=\"text/css\">\n",
       "</style>\n",
       "<table id=\"T_61615\">\n",
       "  <thead>\n",
       "    <tr>\n",
       "      <th class=\"blank level0\" >&nbsp;</th>\n",
       "      <th id=\"T_61615_level0_col0\" class=\"col_heading level0 col0\" >Agency</th>\n",
       "      <th id=\"T_61615_level0_col1\" class=\"col_heading level0 col1\" >Infra Resiliency Er Obligations</th>\n",
       "      <th id=\"T_61615_level0_col2\" class=\"col_heading level0 col2\" >Percent of Category</th>\n",
       "    </tr>\n",
       "  </thead>\n",
       "  <tbody>\n",
       "    <tr>\n",
       "      <th id=\"T_61615_level0_row0\" class=\"row_heading level0 row0\" >0</th>\n",
       "      <td id=\"T_61615_row0_col0\" class=\"data row0 col0\" >Contra Costa County</td>\n",
       "      <td id=\"T_61615_row0_col1\" class=\"data row0 col1\" >102</td>\n",
       "      <td id=\"T_61615_row0_col2\" class=\"data row0 col2\" >5.24%</td>\n",
       "    </tr>\n",
       "    <tr>\n",
       "      <th id=\"T_61615_level0_row1\" class=\"row_heading level0 row1\" >1</th>\n",
       "      <td id=\"T_61615_row1_col0\" class=\"data row1 col0\" >Napa County</td>\n",
       "      <td id=\"T_61615_row1_col1\" class=\"data row1 col1\" >88</td>\n",
       "      <td id=\"T_61615_row1_col2\" class=\"data row1 col2\" >4.52%</td>\n",
       "    </tr>\n",
       "    <tr>\n",
       "      <th id=\"T_61615_level0_row2\" class=\"row_heading level0 row2\" >2</th>\n",
       "      <td id=\"T_61615_row2_col0\" class=\"data row2 col0\" >Santa Clara County</td>\n",
       "      <td id=\"T_61615_row2_col1\" class=\"data row2 col1\" >82</td>\n",
       "      <td id=\"T_61615_row2_col2\" class=\"data row2 col2\" >4.21%</td>\n",
       "    </tr>\n",
       "    <tr>\n",
       "      <th id=\"T_61615_level0_row3\" class=\"row_heading level0 row3\" >3</th>\n",
       "      <td id=\"T_61615_row3_col0\" class=\"data row3 col0\" >Oakland</td>\n",
       "      <td id=\"T_61615_row3_col1\" class=\"data row3 col1\" >70</td>\n",
       "      <td id=\"T_61615_row3_col2\" class=\"data row3 col2\" >3.60%</td>\n",
       "    </tr>\n",
       "    <tr>\n",
       "      <th id=\"T_61615_level0_row4\" class=\"row_heading level0 row4\" >4</th>\n",
       "      <td id=\"T_61615_row4_col0\" class=\"data row4 col0\" >Sonoma County</td>\n",
       "      <td id=\"T_61615_row4_col1\" class=\"data row4 col1\" >69</td>\n",
       "      <td id=\"T_61615_row4_col2\" class=\"data row4 col2\" >3.55%</td>\n",
       "    </tr>\n",
       "  </tbody>\n",
       "</table>\n"
      ],
      "text/plain": [
       "<pandas.io.formats.style.Styler at 0x7f393ff5f580>"
      ]
     },
     "metadata": {},
     "output_type": "display_data"
    },
    {
     "data": {
      "text/html": [
       "\n",
       "<div id=\"altair-viz-1cbf4d7e41004207a5c4ff023c249b7c\"></div>\n",
       "<script type=\"text/javascript\">\n",
       "  var VEGA_DEBUG = (typeof VEGA_DEBUG == \"undefined\") ? {} : VEGA_DEBUG;\n",
       "  (function(spec, embedOpt){\n",
       "    let outputDiv = document.currentScript.previousElementSibling;\n",
       "    if (outputDiv.id !== \"altair-viz-1cbf4d7e41004207a5c4ff023c249b7c\") {\n",
       "      outputDiv = document.getElementById(\"altair-viz-1cbf4d7e41004207a5c4ff023c249b7c\");\n",
       "    }\n",
       "    const paths = {\n",
       "      \"vega\": \"https://cdn.jsdelivr.net/npm//vega@5?noext\",\n",
       "      \"vega-lib\": \"https://cdn.jsdelivr.net/npm//vega-lib?noext\",\n",
       "      \"vega-lite\": \"https://cdn.jsdelivr.net/npm//vega-lite@4.17.0?noext\",\n",
       "      \"vega-embed\": \"https://cdn.jsdelivr.net/npm//vega-embed@6?noext\",\n",
       "    };\n",
       "\n",
       "    function maybeLoadScript(lib, version) {\n",
       "      var key = `${lib.replace(\"-\", \"\")}_version`;\n",
       "      return (VEGA_DEBUG[key] == version) ?\n",
       "        Promise.resolve(paths[lib]) :\n",
       "        new Promise(function(resolve, reject) {\n",
       "          var s = document.createElement('script');\n",
       "          document.getElementsByTagName(\"head\")[0].appendChild(s);\n",
       "          s.async = true;\n",
       "          s.onload = () => {\n",
       "            VEGA_DEBUG[key] = version;\n",
       "            return resolve(paths[lib]);\n",
       "          };\n",
       "          s.onerror = () => reject(`Error loading script: ${paths[lib]}`);\n",
       "          s.src = paths[lib];\n",
       "        });\n",
       "    }\n",
       "\n",
       "    function showError(err) {\n",
       "      outputDiv.innerHTML = `<div class=\"error\" style=\"color:red;\">${err}</div>`;\n",
       "      throw err;\n",
       "    }\n",
       "\n",
       "    function displayChart(vegaEmbed) {\n",
       "      vegaEmbed(outputDiv, spec, embedOpt)\n",
       "        .catch(err => showError(`Javascript Error: ${err.message}<br>This usually means there's a typo in your chart specification. See the javascript console for the full traceback.`));\n",
       "    }\n",
       "\n",
       "    if(typeof define === \"function\" && define.amd) {\n",
       "      requirejs.config({paths});\n",
       "      require([\"vega-embed\"], displayChart, err => showError(`Error loading script: ${err.message}`));\n",
       "    } else {\n",
       "      maybeLoadScript(\"vega\", \"5\")\n",
       "        .then(() => maybeLoadScript(\"vega-lite\", \"4.17.0\"))\n",
       "        .then(() => maybeLoadScript(\"vega-embed\", \"6\"))\n",
       "        .catch(showError)\n",
       "        .then(() => displayChart(vegaEmbed));\n",
       "    }\n",
       "  })({\"config\": {\"view\": {\"continuousWidth\": 400, \"continuousHeight\": 300}}, \"data\": {\"name\": \"data-0516383e30e86a732e66bc5cc0281aec\"}, \"mark\": \"bar\", \"encoding\": {\"color\": {\"field\": \"Categories\", \"type\": \"nominal\"}, \"row\": {\"field\": \"Categories\", \"type\": \"nominal\"}, \"x\": {\"axis\": {\"format\": \"$\", \"title\": \"Obligated Funding ($2021)\"}, \"field\": \"value\", \"type\": \"quantitative\"}, \"y\": {\"field\": \"Agency\", \"type\": \"nominal\"}}, \"$schema\": \"https://vega.github.io/schema/vega-lite/v4.17.0.json\", \"datasets\": {\"data-0516383e30e86a732e66bc5cc0281aec\": [{\"Agency\": \"Contra Costa County\", \"Categories\": \"Total Requested\", \"value\": 852397.8058617185}, {\"Agency\": \"Napa County\", \"Categories\": \"Total Requested\", \"value\": 290114.9408425048}, {\"Agency\": \"Santa Clara County\", \"Categories\": \"Total Requested\", \"value\": 672610.9185867498}, {\"Agency\": \"Oakland\", \"Categories\": \"Total Requested\", \"value\": 1543506.8046760657}, {\"Agency\": \"Sonoma County\", \"Categories\": \"Total Requested\", \"value\": 664086.7895619893}, {\"Agency\": \"Contra Costa County\", \"Categories\": \"Fed Requested\", \"value\": 637058.5617262849}, {\"Agency\": \"Napa County\", \"Categories\": \"Fed Requested\", \"value\": 254135.47897546637}, {\"Agency\": \"Santa Clara County\", \"Categories\": \"Fed Requested\", \"value\": 568481.0766782115}, {\"Agency\": \"Oakland\", \"Categories\": \"Fed Requested\", \"value\": 1123037.9640812392}, {\"Agency\": \"Sonoma County\", \"Categories\": \"Fed Requested\", \"value\": 497415.0711010798}, {\"Agency\": \"Contra Costa County\", \"Categories\": \"AC Requested\", \"value\": 46458.721347828745}, {\"Agency\": \"Napa County\", \"Categories\": \"AC Requested\", \"value\": 5162.497348459848}, {\"Agency\": \"Santa Clara County\", \"Categories\": \"AC Requested\", \"value\": 4621.407826541491}, {\"Agency\": \"Oakland\", \"Categories\": \"AC Requested\", \"value\": 0.0}, {\"Agency\": \"Sonoma County\", \"Categories\": \"AC Requested\", \"value\": 66281.28247246725}]}}, {\"mode\": \"vega-lite\"});\n",
       "</script>"
      ],
      "text/plain": [
       "alt.Chart(...)"
      ]
     },
     "metadata": {},
     "output_type": "display_data"
    },
    {
     "data": {
      "text/markdown": [
       "**Top Agencies using Congestionumber Of Relief Projects**"
      ],
      "text/plain": [
       "<IPython.core.display.Markdown object>"
      ]
     },
     "metadata": {},
     "output_type": "display_data"
    },
    {
     "data": {
      "text/html": [
       "<style type=\"text/css\">\n",
       "</style>\n",
       "<table id=\"T_47b1d\">\n",
       "  <thead>\n",
       "    <tr>\n",
       "      <th class=\"blank level0\" >&nbsp;</th>\n",
       "      <th id=\"T_47b1d_level0_col0\" class=\"col_heading level0 col0\" >Agency</th>\n",
       "      <th id=\"T_47b1d_level0_col1\" class=\"col_heading level0 col1\" >Congestionumber Of Relief Obligations</th>\n",
       "      <th id=\"T_47b1d_level0_col2\" class=\"col_heading level0 col2\" >Percent of Category</th>\n",
       "    </tr>\n",
       "  </thead>\n",
       "  <tbody>\n",
       "    <tr>\n",
       "      <th id=\"T_47b1d_level0_row0\" class=\"row_heading level0 row0\" >0</th>\n",
       "      <td id=\"T_47b1d_row0_col0\" class=\"data row0 col0\" >Contra Costa Transportation Authority</td>\n",
       "      <td id=\"T_47b1d_row0_col1\" class=\"data row0 col1\" >6</td>\n",
       "      <td id=\"T_47b1d_row0_col2\" class=\"data row0 col2\" >22.22%</td>\n",
       "    </tr>\n",
       "    <tr>\n",
       "      <th id=\"T_47b1d_level0_row1\" class=\"row_heading level0 row1\" >1</th>\n",
       "      <td id=\"T_47b1d_row1_col0\" class=\"data row1 col0\" >Metropolitan Transportation Commission</td>\n",
       "      <td id=\"T_47b1d_row1_col1\" class=\"data row1 col1\" >5</td>\n",
       "      <td id=\"T_47b1d_row1_col2\" class=\"data row1 col2\" >18.52%</td>\n",
       "    </tr>\n",
       "    <tr>\n",
       "      <th id=\"T_47b1d_level0_row2\" class=\"row_heading level0 row2\" >2</th>\n",
       "      <td id=\"T_47b1d_row2_col0\" class=\"data row2 col0\" >Sonoma County Transportation Authority</td>\n",
       "      <td id=\"T_47b1d_row2_col1\" class=\"data row2 col1\" >4</td>\n",
       "      <td id=\"T_47b1d_row2_col2\" class=\"data row2 col2\" >14.81%</td>\n",
       "    </tr>\n",
       "    <tr>\n",
       "      <th id=\"T_47b1d_level0_row3\" class=\"row_heading level0 row3\" >3</th>\n",
       "      <td id=\"T_47b1d_row3_col0\" class=\"data row3 col0\" >San Mateo</td>\n",
       "      <td id=\"T_47b1d_row3_col1\" class=\"data row3 col1\" >3</td>\n",
       "      <td id=\"T_47b1d_row3_col2\" class=\"data row3 col2\" >11.11%</td>\n",
       "    </tr>\n",
       "    <tr>\n",
       "      <th id=\"T_47b1d_level0_row4\" class=\"row_heading level0 row4\" >4</th>\n",
       "      <td id=\"T_47b1d_row4_col0\" class=\"data row4 col0\" >Solano Transportation Authority</td>\n",
       "      <td id=\"T_47b1d_row4_col1\" class=\"data row4 col1\" >3</td>\n",
       "      <td id=\"T_47b1d_row4_col2\" class=\"data row4 col2\" >11.11%</td>\n",
       "    </tr>\n",
       "  </tbody>\n",
       "</table>\n"
      ],
      "text/plain": [
       "<pandas.io.formats.style.Styler at 0x7f393ff53cd0>"
      ]
     },
     "metadata": {},
     "output_type": "display_data"
    },
    {
     "data": {
      "text/html": [
       "\n",
       "<div id=\"altair-viz-5e71fe0591584c6086c6a4088e4073ab\"></div>\n",
       "<script type=\"text/javascript\">\n",
       "  var VEGA_DEBUG = (typeof VEGA_DEBUG == \"undefined\") ? {} : VEGA_DEBUG;\n",
       "  (function(spec, embedOpt){\n",
       "    let outputDiv = document.currentScript.previousElementSibling;\n",
       "    if (outputDiv.id !== \"altair-viz-5e71fe0591584c6086c6a4088e4073ab\") {\n",
       "      outputDiv = document.getElementById(\"altair-viz-5e71fe0591584c6086c6a4088e4073ab\");\n",
       "    }\n",
       "    const paths = {\n",
       "      \"vega\": \"https://cdn.jsdelivr.net/npm//vega@5?noext\",\n",
       "      \"vega-lib\": \"https://cdn.jsdelivr.net/npm//vega-lib?noext\",\n",
       "      \"vega-lite\": \"https://cdn.jsdelivr.net/npm//vega-lite@4.17.0?noext\",\n",
       "      \"vega-embed\": \"https://cdn.jsdelivr.net/npm//vega-embed@6?noext\",\n",
       "    };\n",
       "\n",
       "    function maybeLoadScript(lib, version) {\n",
       "      var key = `${lib.replace(\"-\", \"\")}_version`;\n",
       "      return (VEGA_DEBUG[key] == version) ?\n",
       "        Promise.resolve(paths[lib]) :\n",
       "        new Promise(function(resolve, reject) {\n",
       "          var s = document.createElement('script');\n",
       "          document.getElementsByTagName(\"head\")[0].appendChild(s);\n",
       "          s.async = true;\n",
       "          s.onload = () => {\n",
       "            VEGA_DEBUG[key] = version;\n",
       "            return resolve(paths[lib]);\n",
       "          };\n",
       "          s.onerror = () => reject(`Error loading script: ${paths[lib]}`);\n",
       "          s.src = paths[lib];\n",
       "        });\n",
       "    }\n",
       "\n",
       "    function showError(err) {\n",
       "      outputDiv.innerHTML = `<div class=\"error\" style=\"color:red;\">${err}</div>`;\n",
       "      throw err;\n",
       "    }\n",
       "\n",
       "    function displayChart(vegaEmbed) {\n",
       "      vegaEmbed(outputDiv, spec, embedOpt)\n",
       "        .catch(err => showError(`Javascript Error: ${err.message}<br>This usually means there's a typo in your chart specification. See the javascript console for the full traceback.`));\n",
       "    }\n",
       "\n",
       "    if(typeof define === \"function\" && define.amd) {\n",
       "      requirejs.config({paths});\n",
       "      require([\"vega-embed\"], displayChart, err => showError(`Error loading script: ${err.message}`));\n",
       "    } else {\n",
       "      maybeLoadScript(\"vega\", \"5\")\n",
       "        .then(() => maybeLoadScript(\"vega-lite\", \"4.17.0\"))\n",
       "        .then(() => maybeLoadScript(\"vega-embed\", \"6\"))\n",
       "        .catch(showError)\n",
       "        .then(() => displayChart(vegaEmbed));\n",
       "    }\n",
       "  })({\"config\": {\"view\": {\"continuousWidth\": 400, \"continuousHeight\": 300}}, \"data\": {\"name\": \"data-f9c4d3a14c2d4f33e51ca154f75bac5d\"}, \"mark\": \"bar\", \"encoding\": {\"color\": {\"field\": \"Categories\", \"type\": \"nominal\"}, \"row\": {\"field\": \"Categories\", \"type\": \"nominal\"}, \"x\": {\"axis\": {\"format\": \"$\", \"title\": \"Obligated Funding ($2021)\"}, \"field\": \"value\", \"type\": \"quantitative\"}, \"y\": {\"field\": \"Agency\", \"type\": \"nominal\"}}, \"$schema\": \"https://vega.github.io/schema/vega-lite/v4.17.0.json\", \"datasets\": {\"data-f9c4d3a14c2d4f33e51ca154f75bac5d\": [{\"Agency\": \"Contra Costa Transportation Authority\", \"Categories\": \"Total Requested\", \"value\": 197250.95617523268}, {\"Agency\": \"Metropolitan Transportation Commission\", \"Categories\": \"Total Requested\", \"value\": 2873575.211728853}, {\"Agency\": \"Sonoma County Transportation Authority\", \"Categories\": \"Total Requested\", \"value\": 24784.0927036328}, {\"Agency\": \"San Mateo\", \"Categories\": \"Total Requested\", \"value\": 50566.77608965471}, {\"Agency\": \"Solano Transportation Authority\", \"Categories\": \"Total Requested\", \"value\": 156006.74522970387}, {\"Agency\": \"Contra Costa Transportation Authority\", \"Categories\": \"Fed Requested\", \"value\": 158480.104075906}, {\"Agency\": \"Metropolitan Transportation Commission\", \"Categories\": \"Fed Requested\", \"value\": 2873576.667669716}, {\"Agency\": \"Sonoma County Transportation Authority\", \"Categories\": \"Fed Requested\", \"value\": 24773.560430762882}, {\"Agency\": \"San Mateo\", \"Categories\": \"Fed Requested\", \"value\": 42627.45791136464}, {\"Agency\": \"Solano Transportation Authority\", \"Categories\": \"Fed Requested\", \"value\": 203358.6054765724}, {\"Agency\": \"Contra Costa Transportation Authority\", \"Categories\": \"AC Requested\", \"value\": 0.0}, {\"Agency\": \"Metropolitan Transportation Commission\", \"Categories\": \"AC Requested\", \"value\": 0.0}, {\"Agency\": \"Sonoma County Transportation Authority\", \"Categories\": \"AC Requested\", \"value\": 0.0}, {\"Agency\": \"San Mateo\", \"Categories\": \"AC Requested\", \"value\": 0.0}, {\"Agency\": \"Solano Transportation Authority\", \"Categories\": \"AC Requested\", \"value\": 0.0}]}}, {\"mode\": \"vega-lite\"});\n",
       "</script>"
      ],
      "text/plain": [
       "alt.Chart(...)"
      ]
     },
     "metadata": {},
     "output_type": "display_data"
    }
   ],
   "source": [
    "make_charts(df, subset)"
   ]
  },
  {
   "cell_type": "code",
   "execution_count": 165,
   "id": "d3390456-502e-495c-90fe-8da698425d59",
   "metadata": {},
   "outputs": [],
   "source": [
    "transit = (df>>filter(_.transit==1))"
   ]
  },
  {
   "cell_type": "code",
   "execution_count": 13,
   "id": "e1e9bdb6-b7f0-4433-a832-26522506bedf",
   "metadata": {},
   "outputs": [
    {
     "data": {
      "text/plain": [
       "432"
      ]
     },
     "execution_count": 13,
     "metadata": {},
     "output_type": "execute_result"
    }
   ],
   "source": [
    "len(transit)"
   ]
  },
  {
   "cell_type": "code",
   "execution_count": 15,
   "id": "2b51eacd-198d-4cdf-bd52-6a17e399a45a",
   "metadata": {},
   "outputs": [
    {
     "name": "stdout",
     "output_type": "stream",
     "text": [
      "Out of 21059 obligations, 432 are transit-related.\n"
     ]
    }
   ],
   "source": [
    "print(f\"Out of {len(df)} obligations, {len(transit)} are transit-related.\")"
   ]
  },
  {
   "cell_type": "code",
   "execution_count": 16,
   "id": "0bb59dc9-e7cb-44f3-aeba-b40e98acac23",
   "metadata": {},
   "outputs": [
    {
     "name": "stdout",
     "output_type": "stream",
     "text": [
      "\n"
     ]
    }
   ],
   "source": [
    "print(f\"\")"
   ]
  },
  {
   "cell_type": "code",
   "execution_count": 19,
   "id": "bb946c1a-7c0d-4f87-9a82-d0eb5355fa3d",
   "metadata": {},
   "outputs": [],
   "source": [
    "q = df>>count(_.primary_agency_name)"
   ]
  },
  {
   "cell_type": "code",
   "execution_count": 52,
   "id": "365f0645-afd0-4d57-9a05-df73469358de",
   "metadata": {},
   "outputs": [],
   "source": [
    "q2 = q.n.quantile(.95)"
   ]
  },
  {
   "cell_type": "code",
   "execution_count": 54,
   "id": "88483df7-40f0-4228-890b-6bd4a4051af0",
   "metadata": {},
   "outputs": [
    {
     "data": {
      "text/plain": [
       "30"
      ]
     },
     "execution_count": 54,
     "metadata": {},
     "output_type": "execute_result"
    }
   ],
   "source": [
    "len(q>>filter(_.n> (q2)))"
   ]
  },
  {
   "cell_type": "code",
   "execution_count": 60,
   "id": "71004878-84d3-4af7-af82-6d56edb8680b",
   "metadata": {},
   "outputs": [
    {
     "name": "stdout",
     "output_type": "stream",
     "text": [
      "There are 30 agencies have over 133.0 obligations (95th percentile) since 2010.0 \n"
     ]
    }
   ],
   "source": [
    "print(f\"There are {len(q>>filter(_.n> (q2)))} agencies have over {q2} obligations (95th percentile) since {(df.prepared_y.min())} \")"
   ]
  },
  {
   "cell_type": "code",
   "execution_count": 108,
   "id": "34470e0a-8bfd-4e50-bd9d-a59f10a985fc",
   "metadata": {},
   "outputs": [],
   "source": [
    "q3 = q.n.quantile(.05)"
   ]
  },
  {
   "cell_type": "code",
   "execution_count": 109,
   "id": "02b905c8-060a-4463-88a0-c0ce76cd4f9f",
   "metadata": {},
   "outputs": [
    {
     "data": {
      "text/plain": [
       "31"
      ]
     },
     "execution_count": 109,
     "metadata": {},
     "output_type": "execute_result"
    }
   ],
   "source": [
    "len(q>>filter(_.n< (q3)))"
   ]
  },
  {
   "cell_type": "code",
   "execution_count": 113,
   "id": "a4213500-03ec-4ea0-80bf-1bf3060f5c87",
   "metadata": {},
   "outputs": [
    {
     "name": "stdout",
     "output_type": "stream",
     "text": [
      "There are 31 agencies have less than 1.9000000000000021 obligations since 2010.0 \n"
     ]
    }
   ],
   "source": [
    "print(f\"There are {len(q>>filter(_.n< (q3)))} agencies have less than {q3} obligations since {(df.prepared_y.min())} \")\n"
   ]
  },
  {
   "cell_type": "code",
   "execution_count": null,
   "id": "ca02e7ed-be6c-4762-a3b9-c71624b7dd84",
   "metadata": {},
   "outputs": [],
   "source": []
  },
  {
   "cell_type": "code",
   "execution_count": 95,
   "id": "a11697c2-ffb6-4772-95d8-18903bc9ee98",
   "metadata": {},
   "outputs": [
    {
     "data": {
      "text/plain": [
       "'Los Angeles'"
      ]
     },
     "execution_count": 95,
     "metadata": {},
     "output_type": "execute_result"
    }
   ],
   "source": [
    "((transit>>count(_.primary_agency_name)>>arrange(-_.n)).iloc[0, 0])"
   ]
  },
  {
   "cell_type": "code",
   "execution_count": 98,
   "id": "7cf7aa55-a23a-4090-82cd-b6095c7a4812",
   "metadata": {},
   "outputs": [
    {
     "name": "stdout",
     "output_type": "stream",
     "text": [
      "Los Angeles had the highest Transit obligations\n"
     ]
    }
   ],
   "source": [
    "print(f\"{((transit>>count(_.primary_agency_name)>>arrange(-_.n)).iloc[0, 0])} had the highest Transit obligations\")"
   ]
  },
  {
   "cell_type": "code",
   "execution_count": null,
   "id": "d0801065-6b85-4fdc-a3bb-b32040f12bb2",
   "metadata": {},
   "outputs": [],
   "source": []
  },
  {
   "cell_type": "code",
   "execution_count": null,
   "id": "343d2f04-5efe-4715-80da-37d08adf8a45",
   "metadata": {},
   "outputs": [],
   "source": []
  },
  {
   "cell_type": "code",
   "execution_count": null,
   "id": "6aae01c1-4676-4b6c-a9bd-dcf22cf96804",
   "metadata": {},
   "outputs": [],
   "source": []
  },
  {
   "cell_type": "code",
   "execution_count": null,
   "id": "5031320e-e29b-403d-9075-cb353a491556",
   "metadata": {},
   "outputs": [],
   "source": []
  },
  {
   "cell_type": "markdown",
   "id": "b1c45603-a296-4cda-884e-03d88c0697a6",
   "metadata": {},
   "source": [
    "## To add\n",
    "* most agencies use # of prefix codes\n",
    "* fix chart output labels"
   ]
  },
  {
   "cell_type": "code",
   "execution_count": null,
   "id": "37d987d1-f8d6-4595-a42d-b7ebebaabc46",
   "metadata": {},
   "outputs": [],
   "source": []
  }
 ],
 "metadata": {
  "kernelspec": {
   "display_name": "Python 3 (ipykernel)",
   "language": "python",
   "name": "python3"
  },
  "language_info": {
   "codemirror_mode": {
    "name": "ipython",
    "version": 3
   },
   "file_extension": ".py",
   "mimetype": "text/x-python",
   "name": "python",
   "nbconvert_exporter": "python",
   "pygments_lexer": "ipython3",
   "version": "3.9.10"
  },
  "widgets": {
   "application/vnd.jupyter.widget-state+json": {
    "state": {},
    "version_major": 2,
    "version_minor": 0
   }
  }
 },
 "nbformat": 4,
 "nbformat_minor": 5
}
