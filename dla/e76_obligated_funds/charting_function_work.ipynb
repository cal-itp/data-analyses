{
 "cells": [
  {
   "cell_type": "markdown",
   "id": "c5e93f25-9e95-4c5a-a088-8a517607537c",
   "metadata": {},
   "source": [
    "# Script work for Generating Charting Outputs"
   ]
  },
  {
   "cell_type": "code",
   "execution_count": 111,
   "id": "309c8aed-2642-4d35-8349-7d25c94ab809",
   "metadata": {},
   "outputs": [],
   "source": [
    "import numpy as np\n",
    "import pandas as pd\n",
    "from siuba import *\n",
    "\n",
    "import altair as alt\n",
    "import altair_saver\n",
    "from plotnine import *\n",
    "\n",
    "from IPython.display import Markdown\n",
    "\n",
    "from shared_utils import altair_utils\n",
    "from shared_utils import geography_utils\n",
    "from shared_utils import calitp_color_palette as cp\n",
    "from shared_utils import styleguide\n",
    "\n",
    "from calitp import to_snakecase\n",
    "import intake\n",
    "\n",
    "import clean_data\n",
    "import _dla_utils"
   ]
  },
  {
   "cell_type": "code",
   "execution_count": null,
   "id": "09b8cdb0-bc6d-4ddd-96f4-55cefb5c6ca0",
   "metadata": {},
   "outputs": [],
   "source": [
    "pd.set_option('display.max_columns', None)"
   ]
  },
  {
   "cell_type": "code",
   "execution_count": 29,
   "id": "6c15b87b-478d-4ac2-9e22-b2fa59824c38",
   "metadata": {},
   "outputs": [],
   "source": [
    "df= pd.read_parquet(\"dla_df.parquet\")"
   ]
  },
  {
   "cell_type": "code",
   "execution_count": 30,
   "id": "56fa1bed-c8aa-4b1a-9edf-426fecfb802b",
   "metadata": {
    "tags": [
     "parameter"
    ]
   },
   "outputs": [],
   "source": [
    "subset= 7"
   ]
  },
  {
   "cell_type": "code",
   "execution_count": 31,
   "id": "f7ded6ab-4481-44d6-82f0-947376ff6238",
   "metadata": {},
   "outputs": [],
   "source": [
    "df = df>>filter(_.dist==subset)"
   ]
  },
  {
   "cell_type": "code",
   "execution_count": 32,
   "id": "3294c177-15e2-4baf-a1fa-98390610429a",
   "metadata": {
    "tags": []
   },
   "outputs": [],
   "source": [
    "def labeling(word):\n",
    "    # Add specific use cases where it's not just first letter capitalized\n",
    "    LABEL_DICT = { \"prepared_y\": \"Year\",\n",
    "              \"dist\": \"District\",\n",
    "              \"total_requested\": \"Total Requested\",\n",
    "              \"fed_requested\":\"Fed Requested\",\n",
    "              \"ac_requested\": \"Advance Construction Requested\",\n",
    "              \"nunique\":\"Number of Unique\",\n",
    "              \"project_no\": \"Project Number\"}\n",
    "    \n",
    "    if (word == \"mpo\") or (word == \"rtpa\"):\n",
    "        word = word.upper()\n",
    "    elif word in LABEL_DICT.keys():\n",
    "        word = LABEL_DICT[word]\n",
    "    else:\n",
    "        word = word.replace('n_', 'Number of ').title()\n",
    "        word = word.replace('unique_', \"Number of Unique \").title()\n",
    "        word = word.replace('_', ' ').title()\n",
    "    \n",
    "    return word\n"
   ]
  },
  {
   "cell_type": "code",
   "execution_count": 112,
   "id": "7cb8e1dc-232f-4d7b-b8ab-5cb4c94237e0",
   "metadata": {
    "tags": []
   },
   "outputs": [],
   "source": [
    "def basic_bar_chart_test(df, x_col, y_col, color_col, chart_title=''):\n",
    "\n",
    "    if chart_title == \"\":\n",
    "        chart_title = (f\"{labeling(x_col)} by {labeling(y_col)}\")\n",
    "\n",
    "    \n",
    "    chart = (alt.Chart(df)\n",
    "             .mark_bar()\n",
    "             .encode(\n",
    "                 x=alt.X(x_col, title=labeling(x_col), sort=('-y')),\n",
    "                 y=alt.Y(y_col, title=labeling(y_col)),\n",
    "                 color = alt.Color(color_col,\n",
    "                                  scale=alt.Scale(\n",
    "                                      range=altair_utils.CALITP_SEQUENTIAL_COLORS),\n",
    "                                      legend=alt.Legend(title=(labeling(color_col)))\n",
    "                                  ))\n",
    "             .properties( \n",
    "                          title=chart_title)\n",
    "    )\n",
    "\n",
    "    chart=styleguide.preset_chart_config(chart)\n",
    "   # chart.save(f\"./chart_outputs/d{subset}_outputs/bar_{x_col}_by_{y_col}.png\")\n",
    "    \n",
    "    return chart"
   ]
  },
  {
   "cell_type": "code",
   "execution_count": 113,
   "id": "9f581c3b-7226-4b7e-acb9-8c9666ffdd42",
   "metadata": {},
   "outputs": [],
   "source": [
    "df_years= _dla_utils.count_all_years(df)"
   ]
  },
  {
   "cell_type": "code",
   "execution_count": 114,
   "id": "19f864d2-2df3-4d3f-b61c-1d82fc6acd05",
   "metadata": {},
   "outputs": [
    {
     "data": {
      "text/html": [
       "\n",
       "<div id=\"altair-viz-a0535228c717426f98d975d808c953dc\"></div>\n",
       "<script type=\"text/javascript\">\n",
       "  var VEGA_DEBUG = (typeof VEGA_DEBUG == \"undefined\") ? {} : VEGA_DEBUG;\n",
       "  (function(spec, embedOpt){\n",
       "    let outputDiv = document.currentScript.previousElementSibling;\n",
       "    if (outputDiv.id !== \"altair-viz-a0535228c717426f98d975d808c953dc\") {\n",
       "      outputDiv = document.getElementById(\"altair-viz-a0535228c717426f98d975d808c953dc\");\n",
       "    }\n",
       "    const paths = {\n",
       "      \"vega\": \"https://cdn.jsdelivr.net/npm//vega@5?noext\",\n",
       "      \"vega-lib\": \"https://cdn.jsdelivr.net/npm//vega-lib?noext\",\n",
       "      \"vega-lite\": \"https://cdn.jsdelivr.net/npm//vega-lite@4.17.0?noext\",\n",
       "      \"vega-embed\": \"https://cdn.jsdelivr.net/npm//vega-embed@6?noext\",\n",
       "    };\n",
       "\n",
       "    function maybeLoadScript(lib, version) {\n",
       "      var key = `${lib.replace(\"-\", \"\")}_version`;\n",
       "      return (VEGA_DEBUG[key] == version) ?\n",
       "        Promise.resolve(paths[lib]) :\n",
       "        new Promise(function(resolve, reject) {\n",
       "          var s = document.createElement('script');\n",
       "          document.getElementsByTagName(\"head\")[0].appendChild(s);\n",
       "          s.async = true;\n",
       "          s.onload = () => {\n",
       "            VEGA_DEBUG[key] = version;\n",
       "            return resolve(paths[lib]);\n",
       "          };\n",
       "          s.onerror = () => reject(`Error loading script: ${paths[lib]}`);\n",
       "          s.src = paths[lib];\n",
       "        });\n",
       "    }\n",
       "\n",
       "    function showError(err) {\n",
       "      outputDiv.innerHTML = `<div class=\"error\" style=\"color:red;\">${err}</div>`;\n",
       "      throw err;\n",
       "    }\n",
       "\n",
       "    function displayChart(vegaEmbed) {\n",
       "      vegaEmbed(outputDiv, spec, embedOpt)\n",
       "        .catch(err => showError(`Javascript Error: ${err.message}<br>This usually means there's a typo in your chart specification. See the javascript console for the full traceback.`));\n",
       "    }\n",
       "\n",
       "    if(typeof define === \"function\" && define.amd) {\n",
       "      requirejs.config({paths});\n",
       "      require([\"vega-embed\"], displayChart, err => showError(`Error loading script: ${err.message}`));\n",
       "    } else {\n",
       "      maybeLoadScript(\"vega\", \"5\")\n",
       "        .then(() => maybeLoadScript(\"vega-lite\", \"4.17.0\"))\n",
       "        .then(() => maybeLoadScript(\"vega-embed\", \"6\"))\n",
       "        .catch(showError)\n",
       "        .then(() => displayChart(vegaEmbed));\n",
       "    }\n",
       "  })({\"config\": {\"view\": {\"continuousWidth\": 400, \"continuousHeight\": 300}, \"axis\": {\"domainColor\": \"#cbcbcb\", \"grid\": true, \"gridColor\": \"#cbcbcb\", \"gridWidth\": 1, \"labelColor\": \"#474747\", \"labelFont\": \"Nunito Sans\", \"labelFontSize\": 10, \"labelPadding\": 4, \"tickColor\": \"#cbcbcb\", \"tickSize\": 10, \"titleColor\": \"#333\", \"titleFont\": \"Raleway\", \"titleFontSize\": 12, \"titlePadding\": 10}, \"axisBand\": {\"grid\": false}, \"background\": \"white\", \"font\": \"Raleway\", \"header\": {\"labelFont\": \"Nunito Sans\", \"titleFont\": \"Raleway\"}, \"legend\": {\"labelColor\": \"#333\", \"labelFont\": \"Nunito Sans\", \"labelFontSize\": 11, \"labelLimit\": 0, \"padding\": 1, \"symbolSize\": 30, \"symbolType\": \"square\", \"titleColor\": \"#333\", \"titleFont\": \"Raleway\", \"titleFontSize\": 14, \"titlePadding\": 10}, \"title\": {\"anchor\": \"middle\", \"font\": \"Raleway\", \"fontSize\": 18, \"fontWeight\": 300, \"offset\": 20}}, \"data\": {\"name\": \"data-b359b26a727758728cf84ff33450ee08\"}, \"mark\": \"bar\", \"encoding\": {\"color\": {\"field\": \"prepared_y\", \"legend\": {\"title\": \"Year\"}, \"scale\": {\"range\": [\"#B9D6DF\", \"#8CBCCB\", \"#2EA8CE\", \"#136C97\", \"#0B405B\"]}, \"type\": \"quantitative\"}, \"x\": {\"field\": \"prepared_y\", \"sort\": \"-y\", \"title\": \"Year\", \"type\": \"quantitative\"}, \"y\": {\"field\": \"total_requested_sum\", \"title\": \"Total Requested Sum\", \"type\": \"quantitative\"}}, \"height\": 250, \"title\": \"Year by Total Requested Sum\", \"width\": 400, \"$schema\": \"https://vega.github.io/schema/vega-lite/v4.17.0.json\", \"datasets\": {\"data-b359b26a727758728cf84ff33450ee08\": [{\"prepared_y\": 2021, \"dist\": 7, \"ac_requested_sum\": -19826821.22, \"fed_requested_sum\": 444283866.99, \"total_requested_sum\": 633692575.55, \"ac_requested_mean\": -82268.96771784232, \"fed_requested_mean\": 1843501.5227800831, \"total_requested_mean\": 2629429.77406639, \"unique_mpo\": 2.0, \"unique_prefix\": 41.0, \"unique_primary_agency_name\": 62.0, \"unique_project_location\": 203.0, \"unique_project_no\": 210.0, \"unique_type_of_work\": 196.0}, {\"prepared_y\": 2020, \"dist\": 7, \"ac_requested_sum\": -27852114.040000003, \"fed_requested_sum\": 418932795.85, \"total_requested_sum\": 958805173.73, \"ac_requested_mean\": -87037.856375, \"fed_requested_mean\": 1309164.98703125, \"total_requested_mean\": 2996266.16790625, \"unique_mpo\": 1.0, \"unique_prefix\": 44.0, \"unique_primary_agency_name\": 60.0, \"unique_project_location\": 277.0, \"unique_project_no\": 283.0, \"unique_type_of_work\": 268.0}, {\"prepared_y\": 2019, \"dist\": 7, \"ac_requested_sum\": -12994940.999999998, \"fed_requested_sum\": 363282690.29, \"total_requested_sum\": 398693493.87, \"ac_requested_mean\": -37449.39769452449, \"fed_requested_mean\": 1046924.1795100865, \"total_requested_mean\": 1148972.60481268, \"unique_mpo\": 2.0, \"unique_prefix\": 37.0, \"unique_primary_agency_name\": 67.0, \"unique_project_location\": 293.0, \"unique_project_no\": 304.0, \"unique_type_of_work\": 285.0}, {\"prepared_y\": 2018, \"dist\": 7, \"ac_requested_sum\": -59154978.39, \"fed_requested_sum\": 333529825.48, \"total_requested_sum\": 334612369.11, \"ac_requested_mean\": -176056.48330357144, \"fed_requested_mean\": 992648.2901190476, \"total_requested_mean\": 995870.1461607143, \"unique_mpo\": 1.0, \"unique_prefix\": 39.0, \"unique_primary_agency_name\": 63.0, \"unique_project_location\": 280.0, \"unique_project_no\": 294.0, \"unique_type_of_work\": 267.0}, {\"prepared_y\": 2017, \"dist\": 7, \"ac_requested_sum\": -60396680.120000005, \"fed_requested_sum\": 311587728.98, \"total_requested_sum\": 299707091.05, \"ac_requested_mean\": -184136.21987804878, \"fed_requested_mean\": 949962.5883536586, \"total_requested_mean\": 913741.1312500001, \"unique_mpo\": 2.0, \"unique_prefix\": 39.0, \"unique_primary_agency_name\": 73.0, \"unique_project_location\": 282.0, \"unique_project_no\": 296.0, \"unique_type_of_work\": 266.0}, {\"prepared_y\": 2016, \"dist\": 7, \"ac_requested_sum\": -93842132.66, \"fed_requested_sum\": 430301340.34000003, \"total_requested_sum\": 490366212.28999996, \"ac_requested_mean\": -248918.12376657824, \"fed_requested_mean\": 1144418.458351064, \"total_requested_mean\": 1300706.1333952253, \"unique_mpo\": 2.0, \"unique_prefix\": 43.0, \"unique_primary_agency_name\": 76.0, \"unique_project_location\": 308.0, \"unique_project_no\": 323.0, \"unique_type_of_work\": 304.0}, {\"prepared_y\": 2015, \"dist\": 7, \"ac_requested_sum\": 134831454.0, \"fed_requested_sum\": 259044968.13, \"total_requested_sum\": 585936360.08, \"ac_requested_mean\": 364409.33513513516, \"fed_requested_mean\": 700121.5354864865, \"total_requested_mean\": 1583611.7840000002, \"unique_mpo\": 8.0, \"unique_prefix\": 41.0, \"unique_primary_agency_name\": 85.0, \"unique_project_location\": 299.0, \"unique_project_no\": 312.0, \"unique_type_of_work\": 269.0}, {\"prepared_y\": 2014, \"dist\": 7, \"ac_requested_sum\": 234962242.0, \"fed_requested_sum\": 291500812.09000003, \"total_requested_sum\": 585146074.79, \"ac_requested_mean\": 546423.8186046511, \"fed_requested_mean\": 677908.8653255815, \"total_requested_mean\": 1360804.8250930232, \"unique_mpo\": 10.0, \"unique_prefix\": 42.0, \"unique_primary_agency_name\": 77.0, \"unique_project_location\": 362.0, \"unique_project_no\": 375.0, \"unique_type_of_work\": 323.0}, {\"prepared_y\": 2013, \"dist\": 7, \"ac_requested_sum\": 28551374.0, \"fed_requested_sum\": 14647597.53, \"total_requested_sum\": -23007554.770000003, \"ac_requested_mean\": 892230.4375, \"fed_requested_mean\": 457737.4228125, \"total_requested_mean\": -718986.0865625001, \"unique_mpo\": 4.0, \"unique_prefix\": 20.0, \"unique_primary_agency_name\": 18.0, \"unique_project_location\": 30.0, \"unique_project_no\": 32.0, \"unique_type_of_work\": 31.0}, {\"prepared_y\": 2012, \"dist\": 7, \"ac_requested_sum\": 0.0, \"fed_requested_sum\": -109457.0, \"total_requested_sum\": -123505.0, \"ac_requested_mean\": 0.0, \"fed_requested_mean\": -109457.0, \"total_requested_mean\": -123505.0, \"unique_mpo\": 1.0, \"unique_prefix\": 1.0, \"unique_primary_agency_name\": 1.0, \"unique_project_location\": 1.0, \"unique_project_no\": 1.0, \"unique_type_of_work\": 1.0}]}}, {\"mode\": \"vega-lite\"});\n",
       "</script>"
      ],
      "text/plain": [
       "alt.Chart(...)"
      ]
     },
     "execution_count": 114,
     "metadata": {},
     "output_type": "execute_result"
    }
   ],
   "source": [
    "basic_bar_chart_test(df_years, 'prepared_y', 'total_requested_sum', 'prepared_y')"
   ]
  },
  {
   "cell_type": "code",
   "execution_count": 110,
   "id": "e04e9aa3-00b6-409a-b741-bc2eba72cdcb",
   "metadata": {},
   "outputs": [
    {
     "data": {
      "text/html": [
       "\n",
       "<div id=\"altair-viz-d8f5f3130d014b5c9b73701edcb1bf15\"></div>\n",
       "<script type=\"text/javascript\">\n",
       "  var VEGA_DEBUG = (typeof VEGA_DEBUG == \"undefined\") ? {} : VEGA_DEBUG;\n",
       "  (function(spec, embedOpt){\n",
       "    let outputDiv = document.currentScript.previousElementSibling;\n",
       "    if (outputDiv.id !== \"altair-viz-d8f5f3130d014b5c9b73701edcb1bf15\") {\n",
       "      outputDiv = document.getElementById(\"altair-viz-d8f5f3130d014b5c9b73701edcb1bf15\");\n",
       "    }\n",
       "    const paths = {\n",
       "      \"vega\": \"https://cdn.jsdelivr.net/npm//vega@5?noext\",\n",
       "      \"vega-lib\": \"https://cdn.jsdelivr.net/npm//vega-lib?noext\",\n",
       "      \"vega-lite\": \"https://cdn.jsdelivr.net/npm//vega-lite@4.17.0?noext\",\n",
       "      \"vega-embed\": \"https://cdn.jsdelivr.net/npm//vega-embed@6?noext\",\n",
       "    };\n",
       "\n",
       "    function maybeLoadScript(lib, version) {\n",
       "      var key = `${lib.replace(\"-\", \"\")}_version`;\n",
       "      return (VEGA_DEBUG[key] == version) ?\n",
       "        Promise.resolve(paths[lib]) :\n",
       "        new Promise(function(resolve, reject) {\n",
       "          var s = document.createElement('script');\n",
       "          document.getElementsByTagName(\"head\")[0].appendChild(s);\n",
       "          s.async = true;\n",
       "          s.onload = () => {\n",
       "            VEGA_DEBUG[key] = version;\n",
       "            return resolve(paths[lib]);\n",
       "          };\n",
       "          s.onerror = () => reject(`Error loading script: ${paths[lib]}`);\n",
       "          s.src = paths[lib];\n",
       "        });\n",
       "    }\n",
       "\n",
       "    function showError(err) {\n",
       "      outputDiv.innerHTML = `<div class=\"error\" style=\"color:red;\">${err}</div>`;\n",
       "      throw err;\n",
       "    }\n",
       "\n",
       "    function displayChart(vegaEmbed) {\n",
       "      vegaEmbed(outputDiv, spec, embedOpt)\n",
       "        .catch(err => showError(`Javascript Error: ${err.message}<br>This usually means there's a typo in your chart specification. See the javascript console for the full traceback.`));\n",
       "    }\n",
       "\n",
       "    if(typeof define === \"function\" && define.amd) {\n",
       "      requirejs.config({paths});\n",
       "      require([\"vega-embed\"], displayChart, err => showError(`Error loading script: ${err.message}`));\n",
       "    } else {\n",
       "      maybeLoadScript(\"vega\", \"5\")\n",
       "        .then(() => maybeLoadScript(\"vega-lite\", \"4.17.0\"))\n",
       "        .then(() => maybeLoadScript(\"vega-embed\", \"6\"))\n",
       "        .catch(showError)\n",
       "        .then(() => displayChart(vegaEmbed));\n",
       "    }\n",
       "  })({\"config\": {\"view\": {\"continuousWidth\": 400, \"continuousHeight\": 300}, \"axis\": {\"domainColor\": \"#cbcbcb\", \"grid\": true, \"gridColor\": \"#cbcbcb\", \"gridWidth\": 1, \"labelColor\": \"#474747\", \"labelFont\": \"Nunito Sans\", \"labelFontSize\": 10, \"labelPadding\": 4, \"tickColor\": \"#cbcbcb\", \"tickSize\": 10, \"titleColor\": \"#333\", \"titleFont\": \"Raleway\", \"titleFontSize\": 12, \"titlePadding\": 10}, \"axisBand\": {\"grid\": false}, \"background\": \"white\", \"font\": \"Raleway\", \"header\": {\"labelFont\": \"Nunito Sans\", \"titleFont\": \"Raleway\"}, \"legend\": {\"labelColor\": \"#333\", \"labelFont\": \"Nunito Sans\", \"labelFontSize\": 11, \"labelLimit\": 0, \"padding\": 1, \"symbolSize\": 30, \"symbolType\": \"square\", \"titleColor\": \"#333\", \"titleFont\": \"Raleway\", \"titleFontSize\": 14, \"titlePadding\": 10}, \"title\": {\"anchor\": \"middle\", \"font\": \"Raleway\", \"fontSize\": 18, \"fontWeight\": 300, \"offset\": 20}}, \"data\": {\"name\": \"data-b07b1b365bb6479bd30d3f85f62c8618\"}, \"mark\": \"bar\", \"encoding\": {\"color\": {\"field\": \"count\", \"legend\": {\"title\": \"Count\"}, \"scale\": {\"range\": [\"#B9D6DF\", \"#8CBCCB\", \"#2EA8CE\", \"#136C97\", \"#0B405B\"]}, \"type\": \"quantitative\"}, \"x\": {\"field\": \"value\", \"sort\": \"-y\", \"title\": \"Value\", \"type\": \"nominal\"}, \"y\": {\"field\": \"count\", \"title\": \"Count\", \"type\": \"quantitative\"}}, \"height\": 250, \"title\": \"Primary Agency name\", \"width\": 400, \"$schema\": \"https://vega.github.io/schema/vega-lite/v4.17.0.json\", \"datasets\": {\"data-b07b1b365bb6479bd30d3f85f62c8618\": [{\"value\": \"Los Angeles\", \"count\": 490, \"variable\": \"primary_agency_name\"}, {\"value\": \"Los Angeles County\", \"count\": 451, \"variable\": \"primary_agency_name\"}, {\"value\": \"Ventura County\", \"count\": 115, \"variable\": \"primary_agency_name\"}, {\"value\": \"Los Angeles County Metropolitan Transportation Authority\", \"count\": 85, \"variable\": \"primary_agency_name\"}, {\"value\": \"Santa Clarita\", \"count\": 85, \"variable\": \"primary_agency_name\"}, {\"value\": \"Long Beach\", \"count\": 81, \"variable\": \"primary_agency_name\"}, {\"value\": \"Oxnard\", \"count\": 74, \"variable\": \"primary_agency_name\"}, {\"value\": \"Pasadena\", \"count\": 71, \"variable\": \"primary_agency_name\"}, {\"value\": \"Downey\", \"count\": 63, \"variable\": \"primary_agency_name\"}, {\"value\": \"Simi Valley\", \"count\": 61, \"variable\": \"primary_agency_name\"}, {\"value\": \"Lancaster\", \"count\": 57, \"variable\": \"primary_agency_name\"}, {\"value\": \"Palmdale\", \"count\": 46, \"variable\": \"primary_agency_name\"}, {\"value\": \"Pico Rivera\", \"count\": 40, \"variable\": \"primary_agency_name\"}, {\"value\": \"Thousand Oaks\", \"count\": 39, \"variable\": \"primary_agency_name\"}, {\"value\": \"San Buenaventura\", \"count\": 35, \"variable\": \"primary_agency_name\"}, {\"value\": \"Camarillo\", \"count\": 33, \"variable\": \"primary_agency_name\"}, {\"value\": \"Culver City\", \"count\": 32, \"variable\": \"primary_agency_name\"}, {\"value\": \"Burbank\", \"count\": 30, \"variable\": \"primary_agency_name\"}, {\"value\": \"Glendale\", \"count\": 30, \"variable\": \"primary_agency_name\"}, {\"value\": \"Ventura County Transportation Commission\", \"count\": 29, \"variable\": \"primary_agency_name\"}]}}, {\"mode\": \"vega-lite\"});\n",
       "</script>"
      ],
      "text/plain": [
       "alt.Chart(...)"
      ]
     },
     "execution_count": 110,
     "metadata": {},
     "output_type": "execute_result"
    }
   ],
   "source": [
    "#df = (df>>filter(_.dist==subset))\n",
    "df_top = _dla_utils.find_top(df)\n",
    "\n",
    "basic_bar_chart_test((df_top>>filter(_.variable=='primary_agency_name')), 'value', 'count', 'count', chart_title='Primary Agency name')"
   ]
  },
  {
   "cell_type": "code",
   "execution_count": 92,
   "id": "05992e7b-a9cf-44ca-9707-f13d3c212165",
   "metadata": {},
   "outputs": [],
   "source": [
    "df_top = _dla_utils.find_top(df)"
   ]
  },
  {
   "cell_type": "code",
   "execution_count": 93,
   "id": "dd7315da-e137-4673-8b5f-48c283163ae6",
   "metadata": {},
   "outputs": [
    {
     "data": {
      "text/html": [
       "<div>\n",
       "<style scoped>\n",
       "    .dataframe tbody tr th:only-of-type {\n",
       "        vertical-align: middle;\n",
       "    }\n",
       "\n",
       "    .dataframe tbody tr th {\n",
       "        vertical-align: top;\n",
       "    }\n",
       "\n",
       "    .dataframe thead th {\n",
       "        text-align: right;\n",
       "    }\n",
       "</style>\n",
       "<table border=\"1\" class=\"dataframe\">\n",
       "  <thead>\n",
       "    <tr style=\"text-align: right;\">\n",
       "      <th></th>\n",
       "      <th>value</th>\n",
       "      <th>count</th>\n",
       "      <th>variable</th>\n",
       "    </tr>\n",
       "  </thead>\n",
       "  <tbody>\n",
       "    <tr>\n",
       "      <th>0</th>\n",
       "      <td>HSIPL</td>\n",
       "      <td>705</td>\n",
       "      <td>prefix</td>\n",
       "    </tr>\n",
       "    <tr>\n",
       "      <th>1</th>\n",
       "      <td>STPL</td>\n",
       "      <td>441</td>\n",
       "      <td>prefix</td>\n",
       "    </tr>\n",
       "    <tr>\n",
       "      <th>2</th>\n",
       "      <td>CML</td>\n",
       "      <td>275</td>\n",
       "      <td>prefix</td>\n",
       "    </tr>\n",
       "    <tr>\n",
       "      <th>3</th>\n",
       "      <td>ER</td>\n",
       "      <td>175</td>\n",
       "      <td>prefix</td>\n",
       "    </tr>\n",
       "    <tr>\n",
       "      <th>4</th>\n",
       "      <td>HPLUL</td>\n",
       "      <td>143</td>\n",
       "      <td>prefix</td>\n",
       "    </tr>\n",
       "    <tr>\n",
       "      <th>5</th>\n",
       "      <td>ATPL</td>\n",
       "      <td>135</td>\n",
       "      <td>prefix</td>\n",
       "    </tr>\n",
       "    <tr>\n",
       "      <th>6</th>\n",
       "      <td>BHLS</td>\n",
       "      <td>101</td>\n",
       "      <td>prefix</td>\n",
       "    </tr>\n",
       "    <tr>\n",
       "      <th>7</th>\n",
       "      <td>FTACML</td>\n",
       "      <td>94</td>\n",
       "      <td>prefix</td>\n",
       "    </tr>\n",
       "    <tr>\n",
       "      <th>8</th>\n",
       "      <td>SRTSL</td>\n",
       "      <td>72</td>\n",
       "      <td>prefix</td>\n",
       "    </tr>\n",
       "    <tr>\n",
       "      <th>9</th>\n",
       "      <td>RPSTPL</td>\n",
       "      <td>63</td>\n",
       "      <td>prefix</td>\n",
       "    </tr>\n",
       "    <tr>\n",
       "      <th>10</th>\n",
       "      <td>BRLSZD</td>\n",
       "      <td>45</td>\n",
       "      <td>prefix</td>\n",
       "    </tr>\n",
       "    <tr>\n",
       "      <th>11</th>\n",
       "      <td>BPMPL</td>\n",
       "      <td>43</td>\n",
       "      <td>prefix</td>\n",
       "    </tr>\n",
       "    <tr>\n",
       "      <th>12</th>\n",
       "      <td>ACSTP</td>\n",
       "      <td>37</td>\n",
       "      <td>prefix</td>\n",
       "    </tr>\n",
       "    <tr>\n",
       "      <th>13</th>\n",
       "      <td>BRLS</td>\n",
       "      <td>36</td>\n",
       "      <td>prefix</td>\n",
       "    </tr>\n",
       "    <tr>\n",
       "      <th>14</th>\n",
       "      <td>HP21L</td>\n",
       "      <td>33</td>\n",
       "      <td>prefix</td>\n",
       "    </tr>\n",
       "    <tr>\n",
       "      <th>15</th>\n",
       "      <td>BHLO</td>\n",
       "      <td>20</td>\n",
       "      <td>prefix</td>\n",
       "    </tr>\n",
       "    <tr>\n",
       "      <th>16</th>\n",
       "      <td>SRTSLNI</td>\n",
       "      <td>20</td>\n",
       "      <td>prefix</td>\n",
       "    </tr>\n",
       "    <tr>\n",
       "      <th>17</th>\n",
       "      <td>ESPL</td>\n",
       "      <td>19</td>\n",
       "      <td>prefix</td>\n",
       "    </tr>\n",
       "    <tr>\n",
       "      <th>18</th>\n",
       "      <td>BRLO</td>\n",
       "      <td>18</td>\n",
       "      <td>prefix</td>\n",
       "    </tr>\n",
       "    <tr>\n",
       "      <th>19</th>\n",
       "      <td>FTASTPL</td>\n",
       "      <td>17</td>\n",
       "      <td>prefix</td>\n",
       "    </tr>\n",
       "  </tbody>\n",
       "</table>\n",
       "</div>"
      ],
      "text/plain": [
       "      value  count variable\n",
       "0     HSIPL    705   prefix\n",
       "1      STPL    441   prefix\n",
       "2       CML    275   prefix\n",
       "3        ER    175   prefix\n",
       "4     HPLUL    143   prefix\n",
       "5      ATPL    135   prefix\n",
       "6      BHLS    101   prefix\n",
       "7    FTACML     94   prefix\n",
       "8     SRTSL     72   prefix\n",
       "9    RPSTPL     63   prefix\n",
       "10   BRLSZD     45   prefix\n",
       "11    BPMPL     43   prefix\n",
       "12    ACSTP     37   prefix\n",
       "13     BRLS     36   prefix\n",
       "14    HP21L     33   prefix\n",
       "15     BHLO     20   prefix\n",
       "16  SRTSLNI     20   prefix\n",
       "17     ESPL     19   prefix\n",
       "18     BRLO     18   prefix\n",
       "19  FTASTPL     17   prefix"
      ]
     },
     "execution_count": 93,
     "metadata": {},
     "output_type": "execute_result"
    }
   ],
   "source": [
    "df_top>>filter(_.variable=='prefix')\n"
   ]
  },
  {
   "cell_type": "code",
   "execution_count": 103,
   "id": "1d1dfdca-bb15-49d7-9b0f-67bc3723b8cc",
   "metadata": {},
   "outputs": [],
   "source": [
    "def make_charts(df):     \n",
    "    df= pd.read_parquet(\"dla_df.parquet\")\n",
    "    \n",
    "    df = (df>>filter(_.dist==subset))\n",
    "    \n",
    "    #subsetting the data\n",
    "    df_years = _dla_utils.count_all_years(df)\n",
    "    df_top = _dla_utils.find_top(df)\n",
    "    \n",
    "    ##print statements\n",
    "    \n",
    "    display(Markdown(f'There are {(df.primary_agency_name.nunique())} Unique Agencies'))\n",
    "    \n",
    "    \n",
    "    \n",
    "    \n",
    "    ##tables\n",
    "    \n",
    "    \n",
    "    ##charting df_years\n",
    "    \n",
    "    column_names = list(df_years)\n",
    "\n",
    "    for column in column_names:\n",
    "    \n",
    "        display(Markdown(f\"**{labeling(column)} Over Prepared Year**\"))\n",
    "        display(basic_bar_chart_test(df_years, \"prepared_y\", column, \"prepared_y\"))\n",
    "    \n",
    "    \n",
    "    ##charting df_tops \n",
    "    \n",
    "    values = sorted(df_top['variable'].unique())\n",
    "\n",
    "    for value in values:\n",
    "        display(Markdown(f\"**Top Values in {labeling(value)}**\"))\n",
    "        display(basic_bar_chart_test((df_top>>filter(_.variable==value)), 'value', 'count', 'count',\n",
    "                                     chart_title=f'Top 20 {labeling(value)}'))"
   ]
  },
  {
   "cell_type": "code",
   "execution_count": 104,
   "id": "1ed31f63-ec22-4f02-b37d-0f6cf6cdb23d",
   "metadata": {
    "tags": [
     "parameter"
    ]
   },
   "outputs": [],
   "source": [
    "#parameters cell\n",
    "#subset = 11"
   ]
  },
  {
   "cell_type": "code",
   "execution_count": 105,
   "id": "bf957840-296b-4ebf-99c8-8bc8ebae269a",
   "metadata": {
    "scrolled": true,
    "tags": []
   },
   "outputs": [
    {
     "data": {
      "text/markdown": [
       "There are 108 Unique Agencies"
      ],
      "text/plain": [
       "<IPython.core.display.Markdown object>"
      ]
     },
     "metadata": {},
     "output_type": "display_data"
    },
    {
     "data": {
      "text/markdown": [
       "**Year Over Prepared Year**"
      ],
      "text/plain": [
       "<IPython.core.display.Markdown object>"
      ]
     },
     "metadata": {},
     "output_type": "display_data"
    },
    {
     "data": {
      "text/html": [
       "\n",
       "<div id=\"altair-viz-40391205226b47f39a964a09f782f557\"></div>\n",
       "<script type=\"text/javascript\">\n",
       "  var VEGA_DEBUG = (typeof VEGA_DEBUG == \"undefined\") ? {} : VEGA_DEBUG;\n",
       "  (function(spec, embedOpt){\n",
       "    let outputDiv = document.currentScript.previousElementSibling;\n",
       "    if (outputDiv.id !== \"altair-viz-40391205226b47f39a964a09f782f557\") {\n",
       "      outputDiv = document.getElementById(\"altair-viz-40391205226b47f39a964a09f782f557\");\n",
       "    }\n",
       "    const paths = {\n",
       "      \"vega\": \"https://cdn.jsdelivr.net/npm//vega@5?noext\",\n",
       "      \"vega-lib\": \"https://cdn.jsdelivr.net/npm//vega-lib?noext\",\n",
       "      \"vega-lite\": \"https://cdn.jsdelivr.net/npm//vega-lite@4.17.0?noext\",\n",
       "      \"vega-embed\": \"https://cdn.jsdelivr.net/npm//vega-embed@6?noext\",\n",
       "    };\n",
       "\n",
       "    function maybeLoadScript(lib, version) {\n",
       "      var key = `${lib.replace(\"-\", \"\")}_version`;\n",
       "      return (VEGA_DEBUG[key] == version) ?\n",
       "        Promise.resolve(paths[lib]) :\n",
       "        new Promise(function(resolve, reject) {\n",
       "          var s = document.createElement('script');\n",
       "          document.getElementsByTagName(\"head\")[0].appendChild(s);\n",
       "          s.async = true;\n",
       "          s.onload = () => {\n",
       "            VEGA_DEBUG[key] = version;\n",
       "            return resolve(paths[lib]);\n",
       "          };\n",
       "          s.onerror = () => reject(`Error loading script: ${paths[lib]}`);\n",
       "          s.src = paths[lib];\n",
       "        });\n",
       "    }\n",
       "\n",
       "    function showError(err) {\n",
       "      outputDiv.innerHTML = `<div class=\"error\" style=\"color:red;\">${err}</div>`;\n",
       "      throw err;\n",
       "    }\n",
       "\n",
       "    function displayChart(vegaEmbed) {\n",
       "      vegaEmbed(outputDiv, spec, embedOpt)\n",
       "        .catch(err => showError(`Javascript Error: ${err.message}<br>This usually means there's a typo in your chart specification. See the javascript console for the full traceback.`));\n",
       "    }\n",
       "\n",
       "    if(typeof define === \"function\" && define.amd) {\n",
       "      requirejs.config({paths});\n",
       "      require([\"vega-embed\"], displayChart, err => showError(`Error loading script: ${err.message}`));\n",
       "    } else {\n",
       "      maybeLoadScript(\"vega\", \"5\")\n",
       "        .then(() => maybeLoadScript(\"vega-lite\", \"4.17.0\"))\n",
       "        .then(() => maybeLoadScript(\"vega-embed\", \"6\"))\n",
       "        .catch(showError)\n",
       "        .then(() => displayChart(vegaEmbed));\n",
       "    }\n",
       "  })({\"config\": {\"view\": {\"continuousWidth\": 400, \"continuousHeight\": 300}, \"axis\": {\"domainColor\": \"#cbcbcb\", \"grid\": true, \"gridColor\": \"#cbcbcb\", \"gridWidth\": 1, \"labelColor\": \"#474747\", \"labelFont\": \"Nunito Sans\", \"labelFontSize\": 10, \"labelPadding\": 4, \"tickColor\": \"#cbcbcb\", \"tickSize\": 10, \"titleColor\": \"#333\", \"titleFont\": \"Raleway\", \"titleFontSize\": 12, \"titlePadding\": 10}, \"axisBand\": {\"grid\": false}, \"background\": \"white\", \"font\": \"Raleway\", \"header\": {\"labelFont\": \"Nunito Sans\", \"titleFont\": \"Raleway\"}, \"legend\": {\"labelColor\": \"#333\", \"labelFont\": \"Nunito Sans\", \"labelFontSize\": 11, \"labelLimit\": 0, \"padding\": 1, \"symbolSize\": 30, \"symbolType\": \"square\", \"titleColor\": \"#333\", \"titleFont\": \"Raleway\", \"titleFontSize\": 14, \"titlePadding\": 10}, \"title\": {\"anchor\": \"middle\", \"font\": \"Raleway\", \"fontSize\": 18, \"fontWeight\": 300, \"offset\": 20}}, \"data\": {\"name\": \"data-b359b26a727758728cf84ff33450ee08\"}, \"mark\": \"bar\", \"encoding\": {\"color\": {\"field\": \"prepared_y\", \"legend\": {\"title\": \"Year\"}, \"scale\": {\"range\": [\"#B9D6DF\", \"#8CBCCB\", \"#2EA8CE\", \"#136C97\", \"#0B405B\"]}, \"type\": \"quantitative\"}, \"x\": {\"field\": \"prepared_y\", \"sort\": \"-y\", \"title\": \"Year\", \"type\": \"quantitative\"}, \"y\": {\"field\": \"prepared_y\", \"title\": \"Year\", \"type\": \"quantitative\"}}, \"height\": 250, \"title\": \"Year by Year\", \"width\": 400, \"$schema\": \"https://vega.github.io/schema/vega-lite/v4.17.0.json\", \"datasets\": {\"data-b359b26a727758728cf84ff33450ee08\": [{\"prepared_y\": 2021, \"dist\": 7, \"ac_requested_sum\": -19826821.22, \"fed_requested_sum\": 444283866.99, \"total_requested_sum\": 633692575.55, \"ac_requested_mean\": -82268.96771784232, \"fed_requested_mean\": 1843501.5227800831, \"total_requested_mean\": 2629429.77406639, \"unique_mpo\": 2.0, \"unique_prefix\": 41.0, \"unique_primary_agency_name\": 62.0, \"unique_project_location\": 203.0, \"unique_project_no\": 210.0, \"unique_type_of_work\": 196.0}, {\"prepared_y\": 2020, \"dist\": 7, \"ac_requested_sum\": -27852114.040000003, \"fed_requested_sum\": 418932795.85, \"total_requested_sum\": 958805173.73, \"ac_requested_mean\": -87037.856375, \"fed_requested_mean\": 1309164.98703125, \"total_requested_mean\": 2996266.16790625, \"unique_mpo\": 1.0, \"unique_prefix\": 44.0, \"unique_primary_agency_name\": 60.0, \"unique_project_location\": 277.0, \"unique_project_no\": 283.0, \"unique_type_of_work\": 268.0}, {\"prepared_y\": 2019, \"dist\": 7, \"ac_requested_sum\": -12994940.999999998, \"fed_requested_sum\": 363282690.29, \"total_requested_sum\": 398693493.87, \"ac_requested_mean\": -37449.39769452449, \"fed_requested_mean\": 1046924.1795100865, \"total_requested_mean\": 1148972.60481268, \"unique_mpo\": 2.0, \"unique_prefix\": 37.0, \"unique_primary_agency_name\": 67.0, \"unique_project_location\": 293.0, \"unique_project_no\": 304.0, \"unique_type_of_work\": 285.0}, {\"prepared_y\": 2018, \"dist\": 7, \"ac_requested_sum\": -59154978.39, \"fed_requested_sum\": 333529825.48, \"total_requested_sum\": 334612369.11, \"ac_requested_mean\": -176056.48330357144, \"fed_requested_mean\": 992648.2901190476, \"total_requested_mean\": 995870.1461607143, \"unique_mpo\": 1.0, \"unique_prefix\": 39.0, \"unique_primary_agency_name\": 63.0, \"unique_project_location\": 280.0, \"unique_project_no\": 294.0, \"unique_type_of_work\": 267.0}, {\"prepared_y\": 2017, \"dist\": 7, \"ac_requested_sum\": -60396680.120000005, \"fed_requested_sum\": 311587728.98, \"total_requested_sum\": 299707091.05, \"ac_requested_mean\": -184136.21987804878, \"fed_requested_mean\": 949962.5883536586, \"total_requested_mean\": 913741.1312500001, \"unique_mpo\": 2.0, \"unique_prefix\": 39.0, \"unique_primary_agency_name\": 73.0, \"unique_project_location\": 282.0, \"unique_project_no\": 296.0, \"unique_type_of_work\": 266.0}, {\"prepared_y\": 2016, \"dist\": 7, \"ac_requested_sum\": -93842132.66, \"fed_requested_sum\": 430301340.34000003, \"total_requested_sum\": 490366212.28999996, \"ac_requested_mean\": -248918.12376657824, \"fed_requested_mean\": 1144418.458351064, \"total_requested_mean\": 1300706.1333952253, \"unique_mpo\": 2.0, \"unique_prefix\": 43.0, \"unique_primary_agency_name\": 76.0, \"unique_project_location\": 308.0, \"unique_project_no\": 323.0, \"unique_type_of_work\": 304.0}, {\"prepared_y\": 2015, \"dist\": 7, \"ac_requested_sum\": 134831454.0, \"fed_requested_sum\": 259044968.13, \"total_requested_sum\": 585936360.08, \"ac_requested_mean\": 364409.33513513516, \"fed_requested_mean\": 700121.5354864865, \"total_requested_mean\": 1583611.7840000002, \"unique_mpo\": 8.0, \"unique_prefix\": 41.0, \"unique_primary_agency_name\": 85.0, \"unique_project_location\": 299.0, \"unique_project_no\": 312.0, \"unique_type_of_work\": 269.0}, {\"prepared_y\": 2014, \"dist\": 7, \"ac_requested_sum\": 234962242.0, \"fed_requested_sum\": 291500812.09000003, \"total_requested_sum\": 585146074.79, \"ac_requested_mean\": 546423.8186046511, \"fed_requested_mean\": 677908.8653255815, \"total_requested_mean\": 1360804.8250930232, \"unique_mpo\": 10.0, \"unique_prefix\": 42.0, \"unique_primary_agency_name\": 77.0, \"unique_project_location\": 362.0, \"unique_project_no\": 375.0, \"unique_type_of_work\": 323.0}, {\"prepared_y\": 2013, \"dist\": 7, \"ac_requested_sum\": 28551374.0, \"fed_requested_sum\": 14647597.53, \"total_requested_sum\": -23007554.770000003, \"ac_requested_mean\": 892230.4375, \"fed_requested_mean\": 457737.4228125, \"total_requested_mean\": -718986.0865625001, \"unique_mpo\": 4.0, \"unique_prefix\": 20.0, \"unique_primary_agency_name\": 18.0, \"unique_project_location\": 30.0, \"unique_project_no\": 32.0, \"unique_type_of_work\": 31.0}, {\"prepared_y\": 2012, \"dist\": 7, \"ac_requested_sum\": 0.0, \"fed_requested_sum\": -109457.0, \"total_requested_sum\": -123505.0, \"ac_requested_mean\": 0.0, \"fed_requested_mean\": -109457.0, \"total_requested_mean\": -123505.0, \"unique_mpo\": 1.0, \"unique_prefix\": 1.0, \"unique_primary_agency_name\": 1.0, \"unique_project_location\": 1.0, \"unique_project_no\": 1.0, \"unique_type_of_work\": 1.0}]}}, {\"mode\": \"vega-lite\"});\n",
       "</script>"
      ],
      "text/plain": [
       "alt.Chart(...)"
      ]
     },
     "metadata": {},
     "output_type": "display_data"
    },
    {
     "data": {
      "text/markdown": [
       "**District Over Prepared Year**"
      ],
      "text/plain": [
       "<IPython.core.display.Markdown object>"
      ]
     },
     "metadata": {},
     "output_type": "display_data"
    },
    {
     "data": {
      "text/html": [
       "\n",
       "<div id=\"altair-viz-044d8e4617594a6a8f7308626345b165\"></div>\n",
       "<script type=\"text/javascript\">\n",
       "  var VEGA_DEBUG = (typeof VEGA_DEBUG == \"undefined\") ? {} : VEGA_DEBUG;\n",
       "  (function(spec, embedOpt){\n",
       "    let outputDiv = document.currentScript.previousElementSibling;\n",
       "    if (outputDiv.id !== \"altair-viz-044d8e4617594a6a8f7308626345b165\") {\n",
       "      outputDiv = document.getElementById(\"altair-viz-044d8e4617594a6a8f7308626345b165\");\n",
       "    }\n",
       "    const paths = {\n",
       "      \"vega\": \"https://cdn.jsdelivr.net/npm//vega@5?noext\",\n",
       "      \"vega-lib\": \"https://cdn.jsdelivr.net/npm//vega-lib?noext\",\n",
       "      \"vega-lite\": \"https://cdn.jsdelivr.net/npm//vega-lite@4.17.0?noext\",\n",
       "      \"vega-embed\": \"https://cdn.jsdelivr.net/npm//vega-embed@6?noext\",\n",
       "    };\n",
       "\n",
       "    function maybeLoadScript(lib, version) {\n",
       "      var key = `${lib.replace(\"-\", \"\")}_version`;\n",
       "      return (VEGA_DEBUG[key] == version) ?\n",
       "        Promise.resolve(paths[lib]) :\n",
       "        new Promise(function(resolve, reject) {\n",
       "          var s = document.createElement('script');\n",
       "          document.getElementsByTagName(\"head\")[0].appendChild(s);\n",
       "          s.async = true;\n",
       "          s.onload = () => {\n",
       "            VEGA_DEBUG[key] = version;\n",
       "            return resolve(paths[lib]);\n",
       "          };\n",
       "          s.onerror = () => reject(`Error loading script: ${paths[lib]}`);\n",
       "          s.src = paths[lib];\n",
       "        });\n",
       "    }\n",
       "\n",
       "    function showError(err) {\n",
       "      outputDiv.innerHTML = `<div class=\"error\" style=\"color:red;\">${err}</div>`;\n",
       "      throw err;\n",
       "    }\n",
       "\n",
       "    function displayChart(vegaEmbed) {\n",
       "      vegaEmbed(outputDiv, spec, embedOpt)\n",
       "        .catch(err => showError(`Javascript Error: ${err.message}<br>This usually means there's a typo in your chart specification. See the javascript console for the full traceback.`));\n",
       "    }\n",
       "\n",
       "    if(typeof define === \"function\" && define.amd) {\n",
       "      requirejs.config({paths});\n",
       "      require([\"vega-embed\"], displayChart, err => showError(`Error loading script: ${err.message}`));\n",
       "    } else {\n",
       "      maybeLoadScript(\"vega\", \"5\")\n",
       "        .then(() => maybeLoadScript(\"vega-lite\", \"4.17.0\"))\n",
       "        .then(() => maybeLoadScript(\"vega-embed\", \"6\"))\n",
       "        .catch(showError)\n",
       "        .then(() => displayChart(vegaEmbed));\n",
       "    }\n",
       "  })({\"config\": {\"view\": {\"continuousWidth\": 400, \"continuousHeight\": 300}, \"axis\": {\"domainColor\": \"#cbcbcb\", \"grid\": true, \"gridColor\": \"#cbcbcb\", \"gridWidth\": 1, \"labelColor\": \"#474747\", \"labelFont\": \"Nunito Sans\", \"labelFontSize\": 10, \"labelPadding\": 4, \"tickColor\": \"#cbcbcb\", \"tickSize\": 10, \"titleColor\": \"#333\", \"titleFont\": \"Raleway\", \"titleFontSize\": 12, \"titlePadding\": 10}, \"axisBand\": {\"grid\": false}, \"background\": \"white\", \"font\": \"Raleway\", \"header\": {\"labelFont\": \"Nunito Sans\", \"titleFont\": \"Raleway\"}, \"legend\": {\"labelColor\": \"#333\", \"labelFont\": \"Nunito Sans\", \"labelFontSize\": 11, \"labelLimit\": 0, \"padding\": 1, \"symbolSize\": 30, \"symbolType\": \"square\", \"titleColor\": \"#333\", \"titleFont\": \"Raleway\", \"titleFontSize\": 14, \"titlePadding\": 10}, \"title\": {\"anchor\": \"middle\", \"font\": \"Raleway\", \"fontSize\": 18, \"fontWeight\": 300, \"offset\": 20}}, \"data\": {\"name\": \"data-b359b26a727758728cf84ff33450ee08\"}, \"mark\": \"bar\", \"encoding\": {\"color\": {\"field\": \"prepared_y\", \"legend\": {\"title\": \"Year\"}, \"scale\": {\"range\": [\"#B9D6DF\", \"#8CBCCB\", \"#2EA8CE\", \"#136C97\", \"#0B405B\"]}, \"type\": \"quantitative\"}, \"x\": {\"field\": \"prepared_y\", \"sort\": \"-y\", \"title\": \"Year\", \"type\": \"quantitative\"}, \"y\": {\"field\": \"dist\", \"title\": \"District\", \"type\": \"quantitative\"}}, \"height\": 250, \"title\": \"Year by District\", \"width\": 400, \"$schema\": \"https://vega.github.io/schema/vega-lite/v4.17.0.json\", \"datasets\": {\"data-b359b26a727758728cf84ff33450ee08\": [{\"prepared_y\": 2021, \"dist\": 7, \"ac_requested_sum\": -19826821.22, \"fed_requested_sum\": 444283866.99, \"total_requested_sum\": 633692575.55, \"ac_requested_mean\": -82268.96771784232, \"fed_requested_mean\": 1843501.5227800831, \"total_requested_mean\": 2629429.77406639, \"unique_mpo\": 2.0, \"unique_prefix\": 41.0, \"unique_primary_agency_name\": 62.0, \"unique_project_location\": 203.0, \"unique_project_no\": 210.0, \"unique_type_of_work\": 196.0}, {\"prepared_y\": 2020, \"dist\": 7, \"ac_requested_sum\": -27852114.040000003, \"fed_requested_sum\": 418932795.85, \"total_requested_sum\": 958805173.73, \"ac_requested_mean\": -87037.856375, \"fed_requested_mean\": 1309164.98703125, \"total_requested_mean\": 2996266.16790625, \"unique_mpo\": 1.0, \"unique_prefix\": 44.0, \"unique_primary_agency_name\": 60.0, \"unique_project_location\": 277.0, \"unique_project_no\": 283.0, \"unique_type_of_work\": 268.0}, {\"prepared_y\": 2019, \"dist\": 7, \"ac_requested_sum\": -12994940.999999998, \"fed_requested_sum\": 363282690.29, \"total_requested_sum\": 398693493.87, \"ac_requested_mean\": -37449.39769452449, \"fed_requested_mean\": 1046924.1795100865, \"total_requested_mean\": 1148972.60481268, \"unique_mpo\": 2.0, \"unique_prefix\": 37.0, \"unique_primary_agency_name\": 67.0, \"unique_project_location\": 293.0, \"unique_project_no\": 304.0, \"unique_type_of_work\": 285.0}, {\"prepared_y\": 2018, \"dist\": 7, \"ac_requested_sum\": -59154978.39, \"fed_requested_sum\": 333529825.48, \"total_requested_sum\": 334612369.11, \"ac_requested_mean\": -176056.48330357144, \"fed_requested_mean\": 992648.2901190476, \"total_requested_mean\": 995870.1461607143, \"unique_mpo\": 1.0, \"unique_prefix\": 39.0, \"unique_primary_agency_name\": 63.0, \"unique_project_location\": 280.0, \"unique_project_no\": 294.0, \"unique_type_of_work\": 267.0}, {\"prepared_y\": 2017, \"dist\": 7, \"ac_requested_sum\": -60396680.120000005, \"fed_requested_sum\": 311587728.98, \"total_requested_sum\": 299707091.05, \"ac_requested_mean\": -184136.21987804878, \"fed_requested_mean\": 949962.5883536586, \"total_requested_mean\": 913741.1312500001, \"unique_mpo\": 2.0, \"unique_prefix\": 39.0, \"unique_primary_agency_name\": 73.0, \"unique_project_location\": 282.0, \"unique_project_no\": 296.0, \"unique_type_of_work\": 266.0}, {\"prepared_y\": 2016, \"dist\": 7, \"ac_requested_sum\": -93842132.66, \"fed_requested_sum\": 430301340.34000003, \"total_requested_sum\": 490366212.28999996, \"ac_requested_mean\": -248918.12376657824, \"fed_requested_mean\": 1144418.458351064, \"total_requested_mean\": 1300706.1333952253, \"unique_mpo\": 2.0, \"unique_prefix\": 43.0, \"unique_primary_agency_name\": 76.0, \"unique_project_location\": 308.0, \"unique_project_no\": 323.0, \"unique_type_of_work\": 304.0}, {\"prepared_y\": 2015, \"dist\": 7, \"ac_requested_sum\": 134831454.0, \"fed_requested_sum\": 259044968.13, \"total_requested_sum\": 585936360.08, \"ac_requested_mean\": 364409.33513513516, \"fed_requested_mean\": 700121.5354864865, \"total_requested_mean\": 1583611.7840000002, \"unique_mpo\": 8.0, \"unique_prefix\": 41.0, \"unique_primary_agency_name\": 85.0, \"unique_project_location\": 299.0, \"unique_project_no\": 312.0, \"unique_type_of_work\": 269.0}, {\"prepared_y\": 2014, \"dist\": 7, \"ac_requested_sum\": 234962242.0, \"fed_requested_sum\": 291500812.09000003, \"total_requested_sum\": 585146074.79, \"ac_requested_mean\": 546423.8186046511, \"fed_requested_mean\": 677908.8653255815, \"total_requested_mean\": 1360804.8250930232, \"unique_mpo\": 10.0, \"unique_prefix\": 42.0, \"unique_primary_agency_name\": 77.0, \"unique_project_location\": 362.0, \"unique_project_no\": 375.0, \"unique_type_of_work\": 323.0}, {\"prepared_y\": 2013, \"dist\": 7, \"ac_requested_sum\": 28551374.0, \"fed_requested_sum\": 14647597.53, \"total_requested_sum\": -23007554.770000003, \"ac_requested_mean\": 892230.4375, \"fed_requested_mean\": 457737.4228125, \"total_requested_mean\": -718986.0865625001, \"unique_mpo\": 4.0, \"unique_prefix\": 20.0, \"unique_primary_agency_name\": 18.0, \"unique_project_location\": 30.0, \"unique_project_no\": 32.0, \"unique_type_of_work\": 31.0}, {\"prepared_y\": 2012, \"dist\": 7, \"ac_requested_sum\": 0.0, \"fed_requested_sum\": -109457.0, \"total_requested_sum\": -123505.0, \"ac_requested_mean\": 0.0, \"fed_requested_mean\": -109457.0, \"total_requested_mean\": -123505.0, \"unique_mpo\": 1.0, \"unique_prefix\": 1.0, \"unique_primary_agency_name\": 1.0, \"unique_project_location\": 1.0, \"unique_project_no\": 1.0, \"unique_type_of_work\": 1.0}]}}, {\"mode\": \"vega-lite\"});\n",
       "</script>"
      ],
      "text/plain": [
       "alt.Chart(...)"
      ]
     },
     "metadata": {},
     "output_type": "display_data"
    },
    {
     "data": {
      "text/markdown": [
       "**Ac Requested Sum Over Prepared Year**"
      ],
      "text/plain": [
       "<IPython.core.display.Markdown object>"
      ]
     },
     "metadata": {},
     "output_type": "display_data"
    },
    {
     "data": {
      "text/html": [
       "\n",
       "<div id=\"altair-viz-34c93fcea85b4c5980db28572c53fd4f\"></div>\n",
       "<script type=\"text/javascript\">\n",
       "  var VEGA_DEBUG = (typeof VEGA_DEBUG == \"undefined\") ? {} : VEGA_DEBUG;\n",
       "  (function(spec, embedOpt){\n",
       "    let outputDiv = document.currentScript.previousElementSibling;\n",
       "    if (outputDiv.id !== \"altair-viz-34c93fcea85b4c5980db28572c53fd4f\") {\n",
       "      outputDiv = document.getElementById(\"altair-viz-34c93fcea85b4c5980db28572c53fd4f\");\n",
       "    }\n",
       "    const paths = {\n",
       "      \"vega\": \"https://cdn.jsdelivr.net/npm//vega@5?noext\",\n",
       "      \"vega-lib\": \"https://cdn.jsdelivr.net/npm//vega-lib?noext\",\n",
       "      \"vega-lite\": \"https://cdn.jsdelivr.net/npm//vega-lite@4.17.0?noext\",\n",
       "      \"vega-embed\": \"https://cdn.jsdelivr.net/npm//vega-embed@6?noext\",\n",
       "    };\n",
       "\n",
       "    function maybeLoadScript(lib, version) {\n",
       "      var key = `${lib.replace(\"-\", \"\")}_version`;\n",
       "      return (VEGA_DEBUG[key] == version) ?\n",
       "        Promise.resolve(paths[lib]) :\n",
       "        new Promise(function(resolve, reject) {\n",
       "          var s = document.createElement('script');\n",
       "          document.getElementsByTagName(\"head\")[0].appendChild(s);\n",
       "          s.async = true;\n",
       "          s.onload = () => {\n",
       "            VEGA_DEBUG[key] = version;\n",
       "            return resolve(paths[lib]);\n",
       "          };\n",
       "          s.onerror = () => reject(`Error loading script: ${paths[lib]}`);\n",
       "          s.src = paths[lib];\n",
       "        });\n",
       "    }\n",
       "\n",
       "    function showError(err) {\n",
       "      outputDiv.innerHTML = `<div class=\"error\" style=\"color:red;\">${err}</div>`;\n",
       "      throw err;\n",
       "    }\n",
       "\n",
       "    function displayChart(vegaEmbed) {\n",
       "      vegaEmbed(outputDiv, spec, embedOpt)\n",
       "        .catch(err => showError(`Javascript Error: ${err.message}<br>This usually means there's a typo in your chart specification. See the javascript console for the full traceback.`));\n",
       "    }\n",
       "\n",
       "    if(typeof define === \"function\" && define.amd) {\n",
       "      requirejs.config({paths});\n",
       "      require([\"vega-embed\"], displayChart, err => showError(`Error loading script: ${err.message}`));\n",
       "    } else {\n",
       "      maybeLoadScript(\"vega\", \"5\")\n",
       "        .then(() => maybeLoadScript(\"vega-lite\", \"4.17.0\"))\n",
       "        .then(() => maybeLoadScript(\"vega-embed\", \"6\"))\n",
       "        .catch(showError)\n",
       "        .then(() => displayChart(vegaEmbed));\n",
       "    }\n",
       "  })({\"config\": {\"view\": {\"continuousWidth\": 400, \"continuousHeight\": 300}, \"axis\": {\"domainColor\": \"#cbcbcb\", \"grid\": true, \"gridColor\": \"#cbcbcb\", \"gridWidth\": 1, \"labelColor\": \"#474747\", \"labelFont\": \"Nunito Sans\", \"labelFontSize\": 10, \"labelPadding\": 4, \"tickColor\": \"#cbcbcb\", \"tickSize\": 10, \"titleColor\": \"#333\", \"titleFont\": \"Raleway\", \"titleFontSize\": 12, \"titlePadding\": 10}, \"axisBand\": {\"grid\": false}, \"background\": \"white\", \"font\": \"Raleway\", \"header\": {\"labelFont\": \"Nunito Sans\", \"titleFont\": \"Raleway\"}, \"legend\": {\"labelColor\": \"#333\", \"labelFont\": \"Nunito Sans\", \"labelFontSize\": 11, \"labelLimit\": 0, \"padding\": 1, \"symbolSize\": 30, \"symbolType\": \"square\", \"titleColor\": \"#333\", \"titleFont\": \"Raleway\", \"titleFontSize\": 14, \"titlePadding\": 10}, \"title\": {\"anchor\": \"middle\", \"font\": \"Raleway\", \"fontSize\": 18, \"fontWeight\": 300, \"offset\": 20}}, \"data\": {\"name\": \"data-b359b26a727758728cf84ff33450ee08\"}, \"mark\": \"bar\", \"encoding\": {\"color\": {\"field\": \"prepared_y\", \"legend\": {\"title\": \"Year\"}, \"scale\": {\"range\": [\"#B9D6DF\", \"#8CBCCB\", \"#2EA8CE\", \"#136C97\", \"#0B405B\"]}, \"type\": \"quantitative\"}, \"x\": {\"field\": \"prepared_y\", \"sort\": \"-y\", \"title\": \"Year\", \"type\": \"quantitative\"}, \"y\": {\"field\": \"ac_requested_sum\", \"title\": \"Ac Requested Sum\", \"type\": \"quantitative\"}}, \"height\": 250, \"title\": \"Year by Ac Requested Sum\", \"width\": 400, \"$schema\": \"https://vega.github.io/schema/vega-lite/v4.17.0.json\", \"datasets\": {\"data-b359b26a727758728cf84ff33450ee08\": [{\"prepared_y\": 2021, \"dist\": 7, \"ac_requested_sum\": -19826821.22, \"fed_requested_sum\": 444283866.99, \"total_requested_sum\": 633692575.55, \"ac_requested_mean\": -82268.96771784232, \"fed_requested_mean\": 1843501.5227800831, \"total_requested_mean\": 2629429.77406639, \"unique_mpo\": 2.0, \"unique_prefix\": 41.0, \"unique_primary_agency_name\": 62.0, \"unique_project_location\": 203.0, \"unique_project_no\": 210.0, \"unique_type_of_work\": 196.0}, {\"prepared_y\": 2020, \"dist\": 7, \"ac_requested_sum\": -27852114.040000003, \"fed_requested_sum\": 418932795.85, \"total_requested_sum\": 958805173.73, \"ac_requested_mean\": -87037.856375, \"fed_requested_mean\": 1309164.98703125, \"total_requested_mean\": 2996266.16790625, \"unique_mpo\": 1.0, \"unique_prefix\": 44.0, \"unique_primary_agency_name\": 60.0, \"unique_project_location\": 277.0, \"unique_project_no\": 283.0, \"unique_type_of_work\": 268.0}, {\"prepared_y\": 2019, \"dist\": 7, \"ac_requested_sum\": -12994940.999999998, \"fed_requested_sum\": 363282690.29, \"total_requested_sum\": 398693493.87, \"ac_requested_mean\": -37449.39769452449, \"fed_requested_mean\": 1046924.1795100865, \"total_requested_mean\": 1148972.60481268, \"unique_mpo\": 2.0, \"unique_prefix\": 37.0, \"unique_primary_agency_name\": 67.0, \"unique_project_location\": 293.0, \"unique_project_no\": 304.0, \"unique_type_of_work\": 285.0}, {\"prepared_y\": 2018, \"dist\": 7, \"ac_requested_sum\": -59154978.39, \"fed_requested_sum\": 333529825.48, \"total_requested_sum\": 334612369.11, \"ac_requested_mean\": -176056.48330357144, \"fed_requested_mean\": 992648.2901190476, \"total_requested_mean\": 995870.1461607143, \"unique_mpo\": 1.0, \"unique_prefix\": 39.0, \"unique_primary_agency_name\": 63.0, \"unique_project_location\": 280.0, \"unique_project_no\": 294.0, \"unique_type_of_work\": 267.0}, {\"prepared_y\": 2017, \"dist\": 7, \"ac_requested_sum\": -60396680.120000005, \"fed_requested_sum\": 311587728.98, \"total_requested_sum\": 299707091.05, \"ac_requested_mean\": -184136.21987804878, \"fed_requested_mean\": 949962.5883536586, \"total_requested_mean\": 913741.1312500001, \"unique_mpo\": 2.0, \"unique_prefix\": 39.0, \"unique_primary_agency_name\": 73.0, \"unique_project_location\": 282.0, \"unique_project_no\": 296.0, \"unique_type_of_work\": 266.0}, {\"prepared_y\": 2016, \"dist\": 7, \"ac_requested_sum\": -93842132.66, \"fed_requested_sum\": 430301340.34000003, \"total_requested_sum\": 490366212.28999996, \"ac_requested_mean\": -248918.12376657824, \"fed_requested_mean\": 1144418.458351064, \"total_requested_mean\": 1300706.1333952253, \"unique_mpo\": 2.0, \"unique_prefix\": 43.0, \"unique_primary_agency_name\": 76.0, \"unique_project_location\": 308.0, \"unique_project_no\": 323.0, \"unique_type_of_work\": 304.0}, {\"prepared_y\": 2015, \"dist\": 7, \"ac_requested_sum\": 134831454.0, \"fed_requested_sum\": 259044968.13, \"total_requested_sum\": 585936360.08, \"ac_requested_mean\": 364409.33513513516, \"fed_requested_mean\": 700121.5354864865, \"total_requested_mean\": 1583611.7840000002, \"unique_mpo\": 8.0, \"unique_prefix\": 41.0, \"unique_primary_agency_name\": 85.0, \"unique_project_location\": 299.0, \"unique_project_no\": 312.0, \"unique_type_of_work\": 269.0}, {\"prepared_y\": 2014, \"dist\": 7, \"ac_requested_sum\": 234962242.0, \"fed_requested_sum\": 291500812.09000003, \"total_requested_sum\": 585146074.79, \"ac_requested_mean\": 546423.8186046511, \"fed_requested_mean\": 677908.8653255815, \"total_requested_mean\": 1360804.8250930232, \"unique_mpo\": 10.0, \"unique_prefix\": 42.0, \"unique_primary_agency_name\": 77.0, \"unique_project_location\": 362.0, \"unique_project_no\": 375.0, \"unique_type_of_work\": 323.0}, {\"prepared_y\": 2013, \"dist\": 7, \"ac_requested_sum\": 28551374.0, \"fed_requested_sum\": 14647597.53, \"total_requested_sum\": -23007554.770000003, \"ac_requested_mean\": 892230.4375, \"fed_requested_mean\": 457737.4228125, \"total_requested_mean\": -718986.0865625001, \"unique_mpo\": 4.0, \"unique_prefix\": 20.0, \"unique_primary_agency_name\": 18.0, \"unique_project_location\": 30.0, \"unique_project_no\": 32.0, \"unique_type_of_work\": 31.0}, {\"prepared_y\": 2012, \"dist\": 7, \"ac_requested_sum\": 0.0, \"fed_requested_sum\": -109457.0, \"total_requested_sum\": -123505.0, \"ac_requested_mean\": 0.0, \"fed_requested_mean\": -109457.0, \"total_requested_mean\": -123505.0, \"unique_mpo\": 1.0, \"unique_prefix\": 1.0, \"unique_primary_agency_name\": 1.0, \"unique_project_location\": 1.0, \"unique_project_no\": 1.0, \"unique_type_of_work\": 1.0}]}}, {\"mode\": \"vega-lite\"});\n",
       "</script>"
      ],
      "text/plain": [
       "alt.Chart(...)"
      ]
     },
     "metadata": {},
     "output_type": "display_data"
    },
    {
     "data": {
      "text/markdown": [
       "**Fed Requested Sum Over Prepared Year**"
      ],
      "text/plain": [
       "<IPython.core.display.Markdown object>"
      ]
     },
     "metadata": {},
     "output_type": "display_data"
    },
    {
     "data": {
      "text/html": [
       "\n",
       "<div id=\"altair-viz-d7ea9fbf493740b4849e47781b3ca286\"></div>\n",
       "<script type=\"text/javascript\">\n",
       "  var VEGA_DEBUG = (typeof VEGA_DEBUG == \"undefined\") ? {} : VEGA_DEBUG;\n",
       "  (function(spec, embedOpt){\n",
       "    let outputDiv = document.currentScript.previousElementSibling;\n",
       "    if (outputDiv.id !== \"altair-viz-d7ea9fbf493740b4849e47781b3ca286\") {\n",
       "      outputDiv = document.getElementById(\"altair-viz-d7ea9fbf493740b4849e47781b3ca286\");\n",
       "    }\n",
       "    const paths = {\n",
       "      \"vega\": \"https://cdn.jsdelivr.net/npm//vega@5?noext\",\n",
       "      \"vega-lib\": \"https://cdn.jsdelivr.net/npm//vega-lib?noext\",\n",
       "      \"vega-lite\": \"https://cdn.jsdelivr.net/npm//vega-lite@4.17.0?noext\",\n",
       "      \"vega-embed\": \"https://cdn.jsdelivr.net/npm//vega-embed@6?noext\",\n",
       "    };\n",
       "\n",
       "    function maybeLoadScript(lib, version) {\n",
       "      var key = `${lib.replace(\"-\", \"\")}_version`;\n",
       "      return (VEGA_DEBUG[key] == version) ?\n",
       "        Promise.resolve(paths[lib]) :\n",
       "        new Promise(function(resolve, reject) {\n",
       "          var s = document.createElement('script');\n",
       "          document.getElementsByTagName(\"head\")[0].appendChild(s);\n",
       "          s.async = true;\n",
       "          s.onload = () => {\n",
       "            VEGA_DEBUG[key] = version;\n",
       "            return resolve(paths[lib]);\n",
       "          };\n",
       "          s.onerror = () => reject(`Error loading script: ${paths[lib]}`);\n",
       "          s.src = paths[lib];\n",
       "        });\n",
       "    }\n",
       "\n",
       "    function showError(err) {\n",
       "      outputDiv.innerHTML = `<div class=\"error\" style=\"color:red;\">${err}</div>`;\n",
       "      throw err;\n",
       "    }\n",
       "\n",
       "    function displayChart(vegaEmbed) {\n",
       "      vegaEmbed(outputDiv, spec, embedOpt)\n",
       "        .catch(err => showError(`Javascript Error: ${err.message}<br>This usually means there's a typo in your chart specification. See the javascript console for the full traceback.`));\n",
       "    }\n",
       "\n",
       "    if(typeof define === \"function\" && define.amd) {\n",
       "      requirejs.config({paths});\n",
       "      require([\"vega-embed\"], displayChart, err => showError(`Error loading script: ${err.message}`));\n",
       "    } else {\n",
       "      maybeLoadScript(\"vega\", \"5\")\n",
       "        .then(() => maybeLoadScript(\"vega-lite\", \"4.17.0\"))\n",
       "        .then(() => maybeLoadScript(\"vega-embed\", \"6\"))\n",
       "        .catch(showError)\n",
       "        .then(() => displayChart(vegaEmbed));\n",
       "    }\n",
       "  })({\"config\": {\"view\": {\"continuousWidth\": 400, \"continuousHeight\": 300}, \"axis\": {\"domainColor\": \"#cbcbcb\", \"grid\": true, \"gridColor\": \"#cbcbcb\", \"gridWidth\": 1, \"labelColor\": \"#474747\", \"labelFont\": \"Nunito Sans\", \"labelFontSize\": 10, \"labelPadding\": 4, \"tickColor\": \"#cbcbcb\", \"tickSize\": 10, \"titleColor\": \"#333\", \"titleFont\": \"Raleway\", \"titleFontSize\": 12, \"titlePadding\": 10}, \"axisBand\": {\"grid\": false}, \"background\": \"white\", \"font\": \"Raleway\", \"header\": {\"labelFont\": \"Nunito Sans\", \"titleFont\": \"Raleway\"}, \"legend\": {\"labelColor\": \"#333\", \"labelFont\": \"Nunito Sans\", \"labelFontSize\": 11, \"labelLimit\": 0, \"padding\": 1, \"symbolSize\": 30, \"symbolType\": \"square\", \"titleColor\": \"#333\", \"titleFont\": \"Raleway\", \"titleFontSize\": 14, \"titlePadding\": 10}, \"title\": {\"anchor\": \"middle\", \"font\": \"Raleway\", \"fontSize\": 18, \"fontWeight\": 300, \"offset\": 20}}, \"data\": {\"name\": \"data-b359b26a727758728cf84ff33450ee08\"}, \"mark\": \"bar\", \"encoding\": {\"color\": {\"field\": \"prepared_y\", \"legend\": {\"title\": \"Year\"}, \"scale\": {\"range\": [\"#B9D6DF\", \"#8CBCCB\", \"#2EA8CE\", \"#136C97\", \"#0B405B\"]}, \"type\": \"quantitative\"}, \"x\": {\"field\": \"prepared_y\", \"sort\": \"-y\", \"title\": \"Year\", \"type\": \"quantitative\"}, \"y\": {\"field\": \"fed_requested_sum\", \"title\": \"Fed Requested Sum\", \"type\": \"quantitative\"}}, \"height\": 250, \"title\": \"Year by Fed Requested Sum\", \"width\": 400, \"$schema\": \"https://vega.github.io/schema/vega-lite/v4.17.0.json\", \"datasets\": {\"data-b359b26a727758728cf84ff33450ee08\": [{\"prepared_y\": 2021, \"dist\": 7, \"ac_requested_sum\": -19826821.22, \"fed_requested_sum\": 444283866.99, \"total_requested_sum\": 633692575.55, \"ac_requested_mean\": -82268.96771784232, \"fed_requested_mean\": 1843501.5227800831, \"total_requested_mean\": 2629429.77406639, \"unique_mpo\": 2.0, \"unique_prefix\": 41.0, \"unique_primary_agency_name\": 62.0, \"unique_project_location\": 203.0, \"unique_project_no\": 210.0, \"unique_type_of_work\": 196.0}, {\"prepared_y\": 2020, \"dist\": 7, \"ac_requested_sum\": -27852114.040000003, \"fed_requested_sum\": 418932795.85, \"total_requested_sum\": 958805173.73, \"ac_requested_mean\": -87037.856375, \"fed_requested_mean\": 1309164.98703125, \"total_requested_mean\": 2996266.16790625, \"unique_mpo\": 1.0, \"unique_prefix\": 44.0, \"unique_primary_agency_name\": 60.0, \"unique_project_location\": 277.0, \"unique_project_no\": 283.0, \"unique_type_of_work\": 268.0}, {\"prepared_y\": 2019, \"dist\": 7, \"ac_requested_sum\": -12994940.999999998, \"fed_requested_sum\": 363282690.29, \"total_requested_sum\": 398693493.87, \"ac_requested_mean\": -37449.39769452449, \"fed_requested_mean\": 1046924.1795100865, \"total_requested_mean\": 1148972.60481268, \"unique_mpo\": 2.0, \"unique_prefix\": 37.0, \"unique_primary_agency_name\": 67.0, \"unique_project_location\": 293.0, \"unique_project_no\": 304.0, \"unique_type_of_work\": 285.0}, {\"prepared_y\": 2018, \"dist\": 7, \"ac_requested_sum\": -59154978.39, \"fed_requested_sum\": 333529825.48, \"total_requested_sum\": 334612369.11, \"ac_requested_mean\": -176056.48330357144, \"fed_requested_mean\": 992648.2901190476, \"total_requested_mean\": 995870.1461607143, \"unique_mpo\": 1.0, \"unique_prefix\": 39.0, \"unique_primary_agency_name\": 63.0, \"unique_project_location\": 280.0, \"unique_project_no\": 294.0, \"unique_type_of_work\": 267.0}, {\"prepared_y\": 2017, \"dist\": 7, \"ac_requested_sum\": -60396680.120000005, \"fed_requested_sum\": 311587728.98, \"total_requested_sum\": 299707091.05, \"ac_requested_mean\": -184136.21987804878, \"fed_requested_mean\": 949962.5883536586, \"total_requested_mean\": 913741.1312500001, \"unique_mpo\": 2.0, \"unique_prefix\": 39.0, \"unique_primary_agency_name\": 73.0, \"unique_project_location\": 282.0, \"unique_project_no\": 296.0, \"unique_type_of_work\": 266.0}, {\"prepared_y\": 2016, \"dist\": 7, \"ac_requested_sum\": -93842132.66, \"fed_requested_sum\": 430301340.34000003, \"total_requested_sum\": 490366212.28999996, \"ac_requested_mean\": -248918.12376657824, \"fed_requested_mean\": 1144418.458351064, \"total_requested_mean\": 1300706.1333952253, \"unique_mpo\": 2.0, \"unique_prefix\": 43.0, \"unique_primary_agency_name\": 76.0, \"unique_project_location\": 308.0, \"unique_project_no\": 323.0, \"unique_type_of_work\": 304.0}, {\"prepared_y\": 2015, \"dist\": 7, \"ac_requested_sum\": 134831454.0, \"fed_requested_sum\": 259044968.13, \"total_requested_sum\": 585936360.08, \"ac_requested_mean\": 364409.33513513516, \"fed_requested_mean\": 700121.5354864865, \"total_requested_mean\": 1583611.7840000002, \"unique_mpo\": 8.0, \"unique_prefix\": 41.0, \"unique_primary_agency_name\": 85.0, \"unique_project_location\": 299.0, \"unique_project_no\": 312.0, \"unique_type_of_work\": 269.0}, {\"prepared_y\": 2014, \"dist\": 7, \"ac_requested_sum\": 234962242.0, \"fed_requested_sum\": 291500812.09000003, \"total_requested_sum\": 585146074.79, \"ac_requested_mean\": 546423.8186046511, \"fed_requested_mean\": 677908.8653255815, \"total_requested_mean\": 1360804.8250930232, \"unique_mpo\": 10.0, \"unique_prefix\": 42.0, \"unique_primary_agency_name\": 77.0, \"unique_project_location\": 362.0, \"unique_project_no\": 375.0, \"unique_type_of_work\": 323.0}, {\"prepared_y\": 2013, \"dist\": 7, \"ac_requested_sum\": 28551374.0, \"fed_requested_sum\": 14647597.53, \"total_requested_sum\": -23007554.770000003, \"ac_requested_mean\": 892230.4375, \"fed_requested_mean\": 457737.4228125, \"total_requested_mean\": -718986.0865625001, \"unique_mpo\": 4.0, \"unique_prefix\": 20.0, \"unique_primary_agency_name\": 18.0, \"unique_project_location\": 30.0, \"unique_project_no\": 32.0, \"unique_type_of_work\": 31.0}, {\"prepared_y\": 2012, \"dist\": 7, \"ac_requested_sum\": 0.0, \"fed_requested_sum\": -109457.0, \"total_requested_sum\": -123505.0, \"ac_requested_mean\": 0.0, \"fed_requested_mean\": -109457.0, \"total_requested_mean\": -123505.0, \"unique_mpo\": 1.0, \"unique_prefix\": 1.0, \"unique_primary_agency_name\": 1.0, \"unique_project_location\": 1.0, \"unique_project_no\": 1.0, \"unique_type_of_work\": 1.0}]}}, {\"mode\": \"vega-lite\"});\n",
       "</script>"
      ],
      "text/plain": [
       "alt.Chart(...)"
      ]
     },
     "metadata": {},
     "output_type": "display_data"
    },
    {
     "data": {
      "text/markdown": [
       "**Total Requested Sum Over Prepared Year**"
      ],
      "text/plain": [
       "<IPython.core.display.Markdown object>"
      ]
     },
     "metadata": {},
     "output_type": "display_data"
    },
    {
     "data": {
      "text/html": [
       "\n",
       "<div id=\"altair-viz-0a88af14141e41b98be9d5ca91e2efef\"></div>\n",
       "<script type=\"text/javascript\">\n",
       "  var VEGA_DEBUG = (typeof VEGA_DEBUG == \"undefined\") ? {} : VEGA_DEBUG;\n",
       "  (function(spec, embedOpt){\n",
       "    let outputDiv = document.currentScript.previousElementSibling;\n",
       "    if (outputDiv.id !== \"altair-viz-0a88af14141e41b98be9d5ca91e2efef\") {\n",
       "      outputDiv = document.getElementById(\"altair-viz-0a88af14141e41b98be9d5ca91e2efef\");\n",
       "    }\n",
       "    const paths = {\n",
       "      \"vega\": \"https://cdn.jsdelivr.net/npm//vega@5?noext\",\n",
       "      \"vega-lib\": \"https://cdn.jsdelivr.net/npm//vega-lib?noext\",\n",
       "      \"vega-lite\": \"https://cdn.jsdelivr.net/npm//vega-lite@4.17.0?noext\",\n",
       "      \"vega-embed\": \"https://cdn.jsdelivr.net/npm//vega-embed@6?noext\",\n",
       "    };\n",
       "\n",
       "    function maybeLoadScript(lib, version) {\n",
       "      var key = `${lib.replace(\"-\", \"\")}_version`;\n",
       "      return (VEGA_DEBUG[key] == version) ?\n",
       "        Promise.resolve(paths[lib]) :\n",
       "        new Promise(function(resolve, reject) {\n",
       "          var s = document.createElement('script');\n",
       "          document.getElementsByTagName(\"head\")[0].appendChild(s);\n",
       "          s.async = true;\n",
       "          s.onload = () => {\n",
       "            VEGA_DEBUG[key] = version;\n",
       "            return resolve(paths[lib]);\n",
       "          };\n",
       "          s.onerror = () => reject(`Error loading script: ${paths[lib]}`);\n",
       "          s.src = paths[lib];\n",
       "        });\n",
       "    }\n",
       "\n",
       "    function showError(err) {\n",
       "      outputDiv.innerHTML = `<div class=\"error\" style=\"color:red;\">${err}</div>`;\n",
       "      throw err;\n",
       "    }\n",
       "\n",
       "    function displayChart(vegaEmbed) {\n",
       "      vegaEmbed(outputDiv, spec, embedOpt)\n",
       "        .catch(err => showError(`Javascript Error: ${err.message}<br>This usually means there's a typo in your chart specification. See the javascript console for the full traceback.`));\n",
       "    }\n",
       "\n",
       "    if(typeof define === \"function\" && define.amd) {\n",
       "      requirejs.config({paths});\n",
       "      require([\"vega-embed\"], displayChart, err => showError(`Error loading script: ${err.message}`));\n",
       "    } else {\n",
       "      maybeLoadScript(\"vega\", \"5\")\n",
       "        .then(() => maybeLoadScript(\"vega-lite\", \"4.17.0\"))\n",
       "        .then(() => maybeLoadScript(\"vega-embed\", \"6\"))\n",
       "        .catch(showError)\n",
       "        .then(() => displayChart(vegaEmbed));\n",
       "    }\n",
       "  })({\"config\": {\"view\": {\"continuousWidth\": 400, \"continuousHeight\": 300}, \"axis\": {\"domainColor\": \"#cbcbcb\", \"grid\": true, \"gridColor\": \"#cbcbcb\", \"gridWidth\": 1, \"labelColor\": \"#474747\", \"labelFont\": \"Nunito Sans\", \"labelFontSize\": 10, \"labelPadding\": 4, \"tickColor\": \"#cbcbcb\", \"tickSize\": 10, \"titleColor\": \"#333\", \"titleFont\": \"Raleway\", \"titleFontSize\": 12, \"titlePadding\": 10}, \"axisBand\": {\"grid\": false}, \"background\": \"white\", \"font\": \"Raleway\", \"header\": {\"labelFont\": \"Nunito Sans\", \"titleFont\": \"Raleway\"}, \"legend\": {\"labelColor\": \"#333\", \"labelFont\": \"Nunito Sans\", \"labelFontSize\": 11, \"labelLimit\": 0, \"padding\": 1, \"symbolSize\": 30, \"symbolType\": \"square\", \"titleColor\": \"#333\", \"titleFont\": \"Raleway\", \"titleFontSize\": 14, \"titlePadding\": 10}, \"title\": {\"anchor\": \"middle\", \"font\": \"Raleway\", \"fontSize\": 18, \"fontWeight\": 300, \"offset\": 20}}, \"data\": {\"name\": \"data-b359b26a727758728cf84ff33450ee08\"}, \"mark\": \"bar\", \"encoding\": {\"color\": {\"field\": \"prepared_y\", \"legend\": {\"title\": \"Year\"}, \"scale\": {\"range\": [\"#B9D6DF\", \"#8CBCCB\", \"#2EA8CE\", \"#136C97\", \"#0B405B\"]}, \"type\": \"quantitative\"}, \"x\": {\"field\": \"prepared_y\", \"sort\": \"-y\", \"title\": \"Year\", \"type\": \"quantitative\"}, \"y\": {\"field\": \"total_requested_sum\", \"title\": \"Total Requested Sum\", \"type\": \"quantitative\"}}, \"height\": 250, \"title\": \"Year by Total Requested Sum\", \"width\": 400, \"$schema\": \"https://vega.github.io/schema/vega-lite/v4.17.0.json\", \"datasets\": {\"data-b359b26a727758728cf84ff33450ee08\": [{\"prepared_y\": 2021, \"dist\": 7, \"ac_requested_sum\": -19826821.22, \"fed_requested_sum\": 444283866.99, \"total_requested_sum\": 633692575.55, \"ac_requested_mean\": -82268.96771784232, \"fed_requested_mean\": 1843501.5227800831, \"total_requested_mean\": 2629429.77406639, \"unique_mpo\": 2.0, \"unique_prefix\": 41.0, \"unique_primary_agency_name\": 62.0, \"unique_project_location\": 203.0, \"unique_project_no\": 210.0, \"unique_type_of_work\": 196.0}, {\"prepared_y\": 2020, \"dist\": 7, \"ac_requested_sum\": -27852114.040000003, \"fed_requested_sum\": 418932795.85, \"total_requested_sum\": 958805173.73, \"ac_requested_mean\": -87037.856375, \"fed_requested_mean\": 1309164.98703125, \"total_requested_mean\": 2996266.16790625, \"unique_mpo\": 1.0, \"unique_prefix\": 44.0, \"unique_primary_agency_name\": 60.0, \"unique_project_location\": 277.0, \"unique_project_no\": 283.0, \"unique_type_of_work\": 268.0}, {\"prepared_y\": 2019, \"dist\": 7, \"ac_requested_sum\": -12994940.999999998, \"fed_requested_sum\": 363282690.29, \"total_requested_sum\": 398693493.87, \"ac_requested_mean\": -37449.39769452449, \"fed_requested_mean\": 1046924.1795100865, \"total_requested_mean\": 1148972.60481268, \"unique_mpo\": 2.0, \"unique_prefix\": 37.0, \"unique_primary_agency_name\": 67.0, \"unique_project_location\": 293.0, \"unique_project_no\": 304.0, \"unique_type_of_work\": 285.0}, {\"prepared_y\": 2018, \"dist\": 7, \"ac_requested_sum\": -59154978.39, \"fed_requested_sum\": 333529825.48, \"total_requested_sum\": 334612369.11, \"ac_requested_mean\": -176056.48330357144, \"fed_requested_mean\": 992648.2901190476, \"total_requested_mean\": 995870.1461607143, \"unique_mpo\": 1.0, \"unique_prefix\": 39.0, \"unique_primary_agency_name\": 63.0, \"unique_project_location\": 280.0, \"unique_project_no\": 294.0, \"unique_type_of_work\": 267.0}, {\"prepared_y\": 2017, \"dist\": 7, \"ac_requested_sum\": -60396680.120000005, \"fed_requested_sum\": 311587728.98, \"total_requested_sum\": 299707091.05, \"ac_requested_mean\": -184136.21987804878, \"fed_requested_mean\": 949962.5883536586, \"total_requested_mean\": 913741.1312500001, \"unique_mpo\": 2.0, \"unique_prefix\": 39.0, \"unique_primary_agency_name\": 73.0, \"unique_project_location\": 282.0, \"unique_project_no\": 296.0, \"unique_type_of_work\": 266.0}, {\"prepared_y\": 2016, \"dist\": 7, \"ac_requested_sum\": -93842132.66, \"fed_requested_sum\": 430301340.34000003, \"total_requested_sum\": 490366212.28999996, \"ac_requested_mean\": -248918.12376657824, \"fed_requested_mean\": 1144418.458351064, \"total_requested_mean\": 1300706.1333952253, \"unique_mpo\": 2.0, \"unique_prefix\": 43.0, \"unique_primary_agency_name\": 76.0, \"unique_project_location\": 308.0, \"unique_project_no\": 323.0, \"unique_type_of_work\": 304.0}, {\"prepared_y\": 2015, \"dist\": 7, \"ac_requested_sum\": 134831454.0, \"fed_requested_sum\": 259044968.13, \"total_requested_sum\": 585936360.08, \"ac_requested_mean\": 364409.33513513516, \"fed_requested_mean\": 700121.5354864865, \"total_requested_mean\": 1583611.7840000002, \"unique_mpo\": 8.0, \"unique_prefix\": 41.0, \"unique_primary_agency_name\": 85.0, \"unique_project_location\": 299.0, \"unique_project_no\": 312.0, \"unique_type_of_work\": 269.0}, {\"prepared_y\": 2014, \"dist\": 7, \"ac_requested_sum\": 234962242.0, \"fed_requested_sum\": 291500812.09000003, \"total_requested_sum\": 585146074.79, \"ac_requested_mean\": 546423.8186046511, \"fed_requested_mean\": 677908.8653255815, \"total_requested_mean\": 1360804.8250930232, \"unique_mpo\": 10.0, \"unique_prefix\": 42.0, \"unique_primary_agency_name\": 77.0, \"unique_project_location\": 362.0, \"unique_project_no\": 375.0, \"unique_type_of_work\": 323.0}, {\"prepared_y\": 2013, \"dist\": 7, \"ac_requested_sum\": 28551374.0, \"fed_requested_sum\": 14647597.53, \"total_requested_sum\": -23007554.770000003, \"ac_requested_mean\": 892230.4375, \"fed_requested_mean\": 457737.4228125, \"total_requested_mean\": -718986.0865625001, \"unique_mpo\": 4.0, \"unique_prefix\": 20.0, \"unique_primary_agency_name\": 18.0, \"unique_project_location\": 30.0, \"unique_project_no\": 32.0, \"unique_type_of_work\": 31.0}, {\"prepared_y\": 2012, \"dist\": 7, \"ac_requested_sum\": 0.0, \"fed_requested_sum\": -109457.0, \"total_requested_sum\": -123505.0, \"ac_requested_mean\": 0.0, \"fed_requested_mean\": -109457.0, \"total_requested_mean\": -123505.0, \"unique_mpo\": 1.0, \"unique_prefix\": 1.0, \"unique_primary_agency_name\": 1.0, \"unique_project_location\": 1.0, \"unique_project_no\": 1.0, \"unique_type_of_work\": 1.0}]}}, {\"mode\": \"vega-lite\"});\n",
       "</script>"
      ],
      "text/plain": [
       "alt.Chart(...)"
      ]
     },
     "metadata": {},
     "output_type": "display_data"
    },
    {
     "data": {
      "text/markdown": [
       "**Ac Requested Mean Over Prepared Year**"
      ],
      "text/plain": [
       "<IPython.core.display.Markdown object>"
      ]
     },
     "metadata": {},
     "output_type": "display_data"
    },
    {
     "data": {
      "text/html": [
       "\n",
       "<div id=\"altair-viz-c813cde0f97245a8926fd42bfe5473c9\"></div>\n",
       "<script type=\"text/javascript\">\n",
       "  var VEGA_DEBUG = (typeof VEGA_DEBUG == \"undefined\") ? {} : VEGA_DEBUG;\n",
       "  (function(spec, embedOpt){\n",
       "    let outputDiv = document.currentScript.previousElementSibling;\n",
       "    if (outputDiv.id !== \"altair-viz-c813cde0f97245a8926fd42bfe5473c9\") {\n",
       "      outputDiv = document.getElementById(\"altair-viz-c813cde0f97245a8926fd42bfe5473c9\");\n",
       "    }\n",
       "    const paths = {\n",
       "      \"vega\": \"https://cdn.jsdelivr.net/npm//vega@5?noext\",\n",
       "      \"vega-lib\": \"https://cdn.jsdelivr.net/npm//vega-lib?noext\",\n",
       "      \"vega-lite\": \"https://cdn.jsdelivr.net/npm//vega-lite@4.17.0?noext\",\n",
       "      \"vega-embed\": \"https://cdn.jsdelivr.net/npm//vega-embed@6?noext\",\n",
       "    };\n",
       "\n",
       "    function maybeLoadScript(lib, version) {\n",
       "      var key = `${lib.replace(\"-\", \"\")}_version`;\n",
       "      return (VEGA_DEBUG[key] == version) ?\n",
       "        Promise.resolve(paths[lib]) :\n",
       "        new Promise(function(resolve, reject) {\n",
       "          var s = document.createElement('script');\n",
       "          document.getElementsByTagName(\"head\")[0].appendChild(s);\n",
       "          s.async = true;\n",
       "          s.onload = () => {\n",
       "            VEGA_DEBUG[key] = version;\n",
       "            return resolve(paths[lib]);\n",
       "          };\n",
       "          s.onerror = () => reject(`Error loading script: ${paths[lib]}`);\n",
       "          s.src = paths[lib];\n",
       "        });\n",
       "    }\n",
       "\n",
       "    function showError(err) {\n",
       "      outputDiv.innerHTML = `<div class=\"error\" style=\"color:red;\">${err}</div>`;\n",
       "      throw err;\n",
       "    }\n",
       "\n",
       "    function displayChart(vegaEmbed) {\n",
       "      vegaEmbed(outputDiv, spec, embedOpt)\n",
       "        .catch(err => showError(`Javascript Error: ${err.message}<br>This usually means there's a typo in your chart specification. See the javascript console for the full traceback.`));\n",
       "    }\n",
       "\n",
       "    if(typeof define === \"function\" && define.amd) {\n",
       "      requirejs.config({paths});\n",
       "      require([\"vega-embed\"], displayChart, err => showError(`Error loading script: ${err.message}`));\n",
       "    } else {\n",
       "      maybeLoadScript(\"vega\", \"5\")\n",
       "        .then(() => maybeLoadScript(\"vega-lite\", \"4.17.0\"))\n",
       "        .then(() => maybeLoadScript(\"vega-embed\", \"6\"))\n",
       "        .catch(showError)\n",
       "        .then(() => displayChart(vegaEmbed));\n",
       "    }\n",
       "  })({\"config\": {\"view\": {\"continuousWidth\": 400, \"continuousHeight\": 300}, \"axis\": {\"domainColor\": \"#cbcbcb\", \"grid\": true, \"gridColor\": \"#cbcbcb\", \"gridWidth\": 1, \"labelColor\": \"#474747\", \"labelFont\": \"Nunito Sans\", \"labelFontSize\": 10, \"labelPadding\": 4, \"tickColor\": \"#cbcbcb\", \"tickSize\": 10, \"titleColor\": \"#333\", \"titleFont\": \"Raleway\", \"titleFontSize\": 12, \"titlePadding\": 10}, \"axisBand\": {\"grid\": false}, \"background\": \"white\", \"font\": \"Raleway\", \"header\": {\"labelFont\": \"Nunito Sans\", \"titleFont\": \"Raleway\"}, \"legend\": {\"labelColor\": \"#333\", \"labelFont\": \"Nunito Sans\", \"labelFontSize\": 11, \"labelLimit\": 0, \"padding\": 1, \"symbolSize\": 30, \"symbolType\": \"square\", \"titleColor\": \"#333\", \"titleFont\": \"Raleway\", \"titleFontSize\": 14, \"titlePadding\": 10}, \"title\": {\"anchor\": \"middle\", \"font\": \"Raleway\", \"fontSize\": 18, \"fontWeight\": 300, \"offset\": 20}}, \"data\": {\"name\": \"data-b359b26a727758728cf84ff33450ee08\"}, \"mark\": \"bar\", \"encoding\": {\"color\": {\"field\": \"prepared_y\", \"legend\": {\"title\": \"Year\"}, \"scale\": {\"range\": [\"#B9D6DF\", \"#8CBCCB\", \"#2EA8CE\", \"#136C97\", \"#0B405B\"]}, \"type\": \"quantitative\"}, \"x\": {\"field\": \"prepared_y\", \"sort\": \"-y\", \"title\": \"Year\", \"type\": \"quantitative\"}, \"y\": {\"field\": \"ac_requested_mean\", \"title\": \"Ac Requested Mean\", \"type\": \"quantitative\"}}, \"height\": 250, \"title\": \"Year by Ac Requested Mean\", \"width\": 400, \"$schema\": \"https://vega.github.io/schema/vega-lite/v4.17.0.json\", \"datasets\": {\"data-b359b26a727758728cf84ff33450ee08\": [{\"prepared_y\": 2021, \"dist\": 7, \"ac_requested_sum\": -19826821.22, \"fed_requested_sum\": 444283866.99, \"total_requested_sum\": 633692575.55, \"ac_requested_mean\": -82268.96771784232, \"fed_requested_mean\": 1843501.5227800831, \"total_requested_mean\": 2629429.77406639, \"unique_mpo\": 2.0, \"unique_prefix\": 41.0, \"unique_primary_agency_name\": 62.0, \"unique_project_location\": 203.0, \"unique_project_no\": 210.0, \"unique_type_of_work\": 196.0}, {\"prepared_y\": 2020, \"dist\": 7, \"ac_requested_sum\": -27852114.040000003, \"fed_requested_sum\": 418932795.85, \"total_requested_sum\": 958805173.73, \"ac_requested_mean\": -87037.856375, \"fed_requested_mean\": 1309164.98703125, \"total_requested_mean\": 2996266.16790625, \"unique_mpo\": 1.0, \"unique_prefix\": 44.0, \"unique_primary_agency_name\": 60.0, \"unique_project_location\": 277.0, \"unique_project_no\": 283.0, \"unique_type_of_work\": 268.0}, {\"prepared_y\": 2019, \"dist\": 7, \"ac_requested_sum\": -12994940.999999998, \"fed_requested_sum\": 363282690.29, \"total_requested_sum\": 398693493.87, \"ac_requested_mean\": -37449.39769452449, \"fed_requested_mean\": 1046924.1795100865, \"total_requested_mean\": 1148972.60481268, \"unique_mpo\": 2.0, \"unique_prefix\": 37.0, \"unique_primary_agency_name\": 67.0, \"unique_project_location\": 293.0, \"unique_project_no\": 304.0, \"unique_type_of_work\": 285.0}, {\"prepared_y\": 2018, \"dist\": 7, \"ac_requested_sum\": -59154978.39, \"fed_requested_sum\": 333529825.48, \"total_requested_sum\": 334612369.11, \"ac_requested_mean\": -176056.48330357144, \"fed_requested_mean\": 992648.2901190476, \"total_requested_mean\": 995870.1461607143, \"unique_mpo\": 1.0, \"unique_prefix\": 39.0, \"unique_primary_agency_name\": 63.0, \"unique_project_location\": 280.0, \"unique_project_no\": 294.0, \"unique_type_of_work\": 267.0}, {\"prepared_y\": 2017, \"dist\": 7, \"ac_requested_sum\": -60396680.120000005, \"fed_requested_sum\": 311587728.98, \"total_requested_sum\": 299707091.05, \"ac_requested_mean\": -184136.21987804878, \"fed_requested_mean\": 949962.5883536586, \"total_requested_mean\": 913741.1312500001, \"unique_mpo\": 2.0, \"unique_prefix\": 39.0, \"unique_primary_agency_name\": 73.0, \"unique_project_location\": 282.0, \"unique_project_no\": 296.0, \"unique_type_of_work\": 266.0}, {\"prepared_y\": 2016, \"dist\": 7, \"ac_requested_sum\": -93842132.66, \"fed_requested_sum\": 430301340.34000003, \"total_requested_sum\": 490366212.28999996, \"ac_requested_mean\": -248918.12376657824, \"fed_requested_mean\": 1144418.458351064, \"total_requested_mean\": 1300706.1333952253, \"unique_mpo\": 2.0, \"unique_prefix\": 43.0, \"unique_primary_agency_name\": 76.0, \"unique_project_location\": 308.0, \"unique_project_no\": 323.0, \"unique_type_of_work\": 304.0}, {\"prepared_y\": 2015, \"dist\": 7, \"ac_requested_sum\": 134831454.0, \"fed_requested_sum\": 259044968.13, \"total_requested_sum\": 585936360.08, \"ac_requested_mean\": 364409.33513513516, \"fed_requested_mean\": 700121.5354864865, \"total_requested_mean\": 1583611.7840000002, \"unique_mpo\": 8.0, \"unique_prefix\": 41.0, \"unique_primary_agency_name\": 85.0, \"unique_project_location\": 299.0, \"unique_project_no\": 312.0, \"unique_type_of_work\": 269.0}, {\"prepared_y\": 2014, \"dist\": 7, \"ac_requested_sum\": 234962242.0, \"fed_requested_sum\": 291500812.09000003, \"total_requested_sum\": 585146074.79, \"ac_requested_mean\": 546423.8186046511, \"fed_requested_mean\": 677908.8653255815, \"total_requested_mean\": 1360804.8250930232, \"unique_mpo\": 10.0, \"unique_prefix\": 42.0, \"unique_primary_agency_name\": 77.0, \"unique_project_location\": 362.0, \"unique_project_no\": 375.0, \"unique_type_of_work\": 323.0}, {\"prepared_y\": 2013, \"dist\": 7, \"ac_requested_sum\": 28551374.0, \"fed_requested_sum\": 14647597.53, \"total_requested_sum\": -23007554.770000003, \"ac_requested_mean\": 892230.4375, \"fed_requested_mean\": 457737.4228125, \"total_requested_mean\": -718986.0865625001, \"unique_mpo\": 4.0, \"unique_prefix\": 20.0, \"unique_primary_agency_name\": 18.0, \"unique_project_location\": 30.0, \"unique_project_no\": 32.0, \"unique_type_of_work\": 31.0}, {\"prepared_y\": 2012, \"dist\": 7, \"ac_requested_sum\": 0.0, \"fed_requested_sum\": -109457.0, \"total_requested_sum\": -123505.0, \"ac_requested_mean\": 0.0, \"fed_requested_mean\": -109457.0, \"total_requested_mean\": -123505.0, \"unique_mpo\": 1.0, \"unique_prefix\": 1.0, \"unique_primary_agency_name\": 1.0, \"unique_project_location\": 1.0, \"unique_project_no\": 1.0, \"unique_type_of_work\": 1.0}]}}, {\"mode\": \"vega-lite\"});\n",
       "</script>"
      ],
      "text/plain": [
       "alt.Chart(...)"
      ]
     },
     "metadata": {},
     "output_type": "display_data"
    },
    {
     "data": {
      "text/markdown": [
       "**Fed Requested Mean Over Prepared Year**"
      ],
      "text/plain": [
       "<IPython.core.display.Markdown object>"
      ]
     },
     "metadata": {},
     "output_type": "display_data"
    },
    {
     "data": {
      "text/html": [
       "\n",
       "<div id=\"altair-viz-baf6252717c349ed852641275b1dd032\"></div>\n",
       "<script type=\"text/javascript\">\n",
       "  var VEGA_DEBUG = (typeof VEGA_DEBUG == \"undefined\") ? {} : VEGA_DEBUG;\n",
       "  (function(spec, embedOpt){\n",
       "    let outputDiv = document.currentScript.previousElementSibling;\n",
       "    if (outputDiv.id !== \"altair-viz-baf6252717c349ed852641275b1dd032\") {\n",
       "      outputDiv = document.getElementById(\"altair-viz-baf6252717c349ed852641275b1dd032\");\n",
       "    }\n",
       "    const paths = {\n",
       "      \"vega\": \"https://cdn.jsdelivr.net/npm//vega@5?noext\",\n",
       "      \"vega-lib\": \"https://cdn.jsdelivr.net/npm//vega-lib?noext\",\n",
       "      \"vega-lite\": \"https://cdn.jsdelivr.net/npm//vega-lite@4.17.0?noext\",\n",
       "      \"vega-embed\": \"https://cdn.jsdelivr.net/npm//vega-embed@6?noext\",\n",
       "    };\n",
       "\n",
       "    function maybeLoadScript(lib, version) {\n",
       "      var key = `${lib.replace(\"-\", \"\")}_version`;\n",
       "      return (VEGA_DEBUG[key] == version) ?\n",
       "        Promise.resolve(paths[lib]) :\n",
       "        new Promise(function(resolve, reject) {\n",
       "          var s = document.createElement('script');\n",
       "          document.getElementsByTagName(\"head\")[0].appendChild(s);\n",
       "          s.async = true;\n",
       "          s.onload = () => {\n",
       "            VEGA_DEBUG[key] = version;\n",
       "            return resolve(paths[lib]);\n",
       "          };\n",
       "          s.onerror = () => reject(`Error loading script: ${paths[lib]}`);\n",
       "          s.src = paths[lib];\n",
       "        });\n",
       "    }\n",
       "\n",
       "    function showError(err) {\n",
       "      outputDiv.innerHTML = `<div class=\"error\" style=\"color:red;\">${err}</div>`;\n",
       "      throw err;\n",
       "    }\n",
       "\n",
       "    function displayChart(vegaEmbed) {\n",
       "      vegaEmbed(outputDiv, spec, embedOpt)\n",
       "        .catch(err => showError(`Javascript Error: ${err.message}<br>This usually means there's a typo in your chart specification. See the javascript console for the full traceback.`));\n",
       "    }\n",
       "\n",
       "    if(typeof define === \"function\" && define.amd) {\n",
       "      requirejs.config({paths});\n",
       "      require([\"vega-embed\"], displayChart, err => showError(`Error loading script: ${err.message}`));\n",
       "    } else {\n",
       "      maybeLoadScript(\"vega\", \"5\")\n",
       "        .then(() => maybeLoadScript(\"vega-lite\", \"4.17.0\"))\n",
       "        .then(() => maybeLoadScript(\"vega-embed\", \"6\"))\n",
       "        .catch(showError)\n",
       "        .then(() => displayChart(vegaEmbed));\n",
       "    }\n",
       "  })({\"config\": {\"view\": {\"continuousWidth\": 400, \"continuousHeight\": 300}, \"axis\": {\"domainColor\": \"#cbcbcb\", \"grid\": true, \"gridColor\": \"#cbcbcb\", \"gridWidth\": 1, \"labelColor\": \"#474747\", \"labelFont\": \"Nunito Sans\", \"labelFontSize\": 10, \"labelPadding\": 4, \"tickColor\": \"#cbcbcb\", \"tickSize\": 10, \"titleColor\": \"#333\", \"titleFont\": \"Raleway\", \"titleFontSize\": 12, \"titlePadding\": 10}, \"axisBand\": {\"grid\": false}, \"background\": \"white\", \"font\": \"Raleway\", \"header\": {\"labelFont\": \"Nunito Sans\", \"titleFont\": \"Raleway\"}, \"legend\": {\"labelColor\": \"#333\", \"labelFont\": \"Nunito Sans\", \"labelFontSize\": 11, \"labelLimit\": 0, \"padding\": 1, \"symbolSize\": 30, \"symbolType\": \"square\", \"titleColor\": \"#333\", \"titleFont\": \"Raleway\", \"titleFontSize\": 14, \"titlePadding\": 10}, \"title\": {\"anchor\": \"middle\", \"font\": \"Raleway\", \"fontSize\": 18, \"fontWeight\": 300, \"offset\": 20}}, \"data\": {\"name\": \"data-b359b26a727758728cf84ff33450ee08\"}, \"mark\": \"bar\", \"encoding\": {\"color\": {\"field\": \"prepared_y\", \"legend\": {\"title\": \"Year\"}, \"scale\": {\"range\": [\"#B9D6DF\", \"#8CBCCB\", \"#2EA8CE\", \"#136C97\", \"#0B405B\"]}, \"type\": \"quantitative\"}, \"x\": {\"field\": \"prepared_y\", \"sort\": \"-y\", \"title\": \"Year\", \"type\": \"quantitative\"}, \"y\": {\"field\": \"fed_requested_mean\", \"title\": \"Fed Requested Mean\", \"type\": \"quantitative\"}}, \"height\": 250, \"title\": \"Year by Fed Requested Mean\", \"width\": 400, \"$schema\": \"https://vega.github.io/schema/vega-lite/v4.17.0.json\", \"datasets\": {\"data-b359b26a727758728cf84ff33450ee08\": [{\"prepared_y\": 2021, \"dist\": 7, \"ac_requested_sum\": -19826821.22, \"fed_requested_sum\": 444283866.99, \"total_requested_sum\": 633692575.55, \"ac_requested_mean\": -82268.96771784232, \"fed_requested_mean\": 1843501.5227800831, \"total_requested_mean\": 2629429.77406639, \"unique_mpo\": 2.0, \"unique_prefix\": 41.0, \"unique_primary_agency_name\": 62.0, \"unique_project_location\": 203.0, \"unique_project_no\": 210.0, \"unique_type_of_work\": 196.0}, {\"prepared_y\": 2020, \"dist\": 7, \"ac_requested_sum\": -27852114.040000003, \"fed_requested_sum\": 418932795.85, \"total_requested_sum\": 958805173.73, \"ac_requested_mean\": -87037.856375, \"fed_requested_mean\": 1309164.98703125, \"total_requested_mean\": 2996266.16790625, \"unique_mpo\": 1.0, \"unique_prefix\": 44.0, \"unique_primary_agency_name\": 60.0, \"unique_project_location\": 277.0, \"unique_project_no\": 283.0, \"unique_type_of_work\": 268.0}, {\"prepared_y\": 2019, \"dist\": 7, \"ac_requested_sum\": -12994940.999999998, \"fed_requested_sum\": 363282690.29, \"total_requested_sum\": 398693493.87, \"ac_requested_mean\": -37449.39769452449, \"fed_requested_mean\": 1046924.1795100865, \"total_requested_mean\": 1148972.60481268, \"unique_mpo\": 2.0, \"unique_prefix\": 37.0, \"unique_primary_agency_name\": 67.0, \"unique_project_location\": 293.0, \"unique_project_no\": 304.0, \"unique_type_of_work\": 285.0}, {\"prepared_y\": 2018, \"dist\": 7, \"ac_requested_sum\": -59154978.39, \"fed_requested_sum\": 333529825.48, \"total_requested_sum\": 334612369.11, \"ac_requested_mean\": -176056.48330357144, \"fed_requested_mean\": 992648.2901190476, \"total_requested_mean\": 995870.1461607143, \"unique_mpo\": 1.0, \"unique_prefix\": 39.0, \"unique_primary_agency_name\": 63.0, \"unique_project_location\": 280.0, \"unique_project_no\": 294.0, \"unique_type_of_work\": 267.0}, {\"prepared_y\": 2017, \"dist\": 7, \"ac_requested_sum\": -60396680.120000005, \"fed_requested_sum\": 311587728.98, \"total_requested_sum\": 299707091.05, \"ac_requested_mean\": -184136.21987804878, \"fed_requested_mean\": 949962.5883536586, \"total_requested_mean\": 913741.1312500001, \"unique_mpo\": 2.0, \"unique_prefix\": 39.0, \"unique_primary_agency_name\": 73.0, \"unique_project_location\": 282.0, \"unique_project_no\": 296.0, \"unique_type_of_work\": 266.0}, {\"prepared_y\": 2016, \"dist\": 7, \"ac_requested_sum\": -93842132.66, \"fed_requested_sum\": 430301340.34000003, \"total_requested_sum\": 490366212.28999996, \"ac_requested_mean\": -248918.12376657824, \"fed_requested_mean\": 1144418.458351064, \"total_requested_mean\": 1300706.1333952253, \"unique_mpo\": 2.0, \"unique_prefix\": 43.0, \"unique_primary_agency_name\": 76.0, \"unique_project_location\": 308.0, \"unique_project_no\": 323.0, \"unique_type_of_work\": 304.0}, {\"prepared_y\": 2015, \"dist\": 7, \"ac_requested_sum\": 134831454.0, \"fed_requested_sum\": 259044968.13, \"total_requested_sum\": 585936360.08, \"ac_requested_mean\": 364409.33513513516, \"fed_requested_mean\": 700121.5354864865, \"total_requested_mean\": 1583611.7840000002, \"unique_mpo\": 8.0, \"unique_prefix\": 41.0, \"unique_primary_agency_name\": 85.0, \"unique_project_location\": 299.0, \"unique_project_no\": 312.0, \"unique_type_of_work\": 269.0}, {\"prepared_y\": 2014, \"dist\": 7, \"ac_requested_sum\": 234962242.0, \"fed_requested_sum\": 291500812.09000003, \"total_requested_sum\": 585146074.79, \"ac_requested_mean\": 546423.8186046511, \"fed_requested_mean\": 677908.8653255815, \"total_requested_mean\": 1360804.8250930232, \"unique_mpo\": 10.0, \"unique_prefix\": 42.0, \"unique_primary_agency_name\": 77.0, \"unique_project_location\": 362.0, \"unique_project_no\": 375.0, \"unique_type_of_work\": 323.0}, {\"prepared_y\": 2013, \"dist\": 7, \"ac_requested_sum\": 28551374.0, \"fed_requested_sum\": 14647597.53, \"total_requested_sum\": -23007554.770000003, \"ac_requested_mean\": 892230.4375, \"fed_requested_mean\": 457737.4228125, \"total_requested_mean\": -718986.0865625001, \"unique_mpo\": 4.0, \"unique_prefix\": 20.0, \"unique_primary_agency_name\": 18.0, \"unique_project_location\": 30.0, \"unique_project_no\": 32.0, \"unique_type_of_work\": 31.0}, {\"prepared_y\": 2012, \"dist\": 7, \"ac_requested_sum\": 0.0, \"fed_requested_sum\": -109457.0, \"total_requested_sum\": -123505.0, \"ac_requested_mean\": 0.0, \"fed_requested_mean\": -109457.0, \"total_requested_mean\": -123505.0, \"unique_mpo\": 1.0, \"unique_prefix\": 1.0, \"unique_primary_agency_name\": 1.0, \"unique_project_location\": 1.0, \"unique_project_no\": 1.0, \"unique_type_of_work\": 1.0}]}}, {\"mode\": \"vega-lite\"});\n",
       "</script>"
      ],
      "text/plain": [
       "alt.Chart(...)"
      ]
     },
     "metadata": {},
     "output_type": "display_data"
    },
    {
     "data": {
      "text/markdown": [
       "**Total Requested Mean Over Prepared Year**"
      ],
      "text/plain": [
       "<IPython.core.display.Markdown object>"
      ]
     },
     "metadata": {},
     "output_type": "display_data"
    },
    {
     "data": {
      "text/html": [
       "\n",
       "<div id=\"altair-viz-4b1ddae5c1f54dcea9d5ceb6b15b4762\"></div>\n",
       "<script type=\"text/javascript\">\n",
       "  var VEGA_DEBUG = (typeof VEGA_DEBUG == \"undefined\") ? {} : VEGA_DEBUG;\n",
       "  (function(spec, embedOpt){\n",
       "    let outputDiv = document.currentScript.previousElementSibling;\n",
       "    if (outputDiv.id !== \"altair-viz-4b1ddae5c1f54dcea9d5ceb6b15b4762\") {\n",
       "      outputDiv = document.getElementById(\"altair-viz-4b1ddae5c1f54dcea9d5ceb6b15b4762\");\n",
       "    }\n",
       "    const paths = {\n",
       "      \"vega\": \"https://cdn.jsdelivr.net/npm//vega@5?noext\",\n",
       "      \"vega-lib\": \"https://cdn.jsdelivr.net/npm//vega-lib?noext\",\n",
       "      \"vega-lite\": \"https://cdn.jsdelivr.net/npm//vega-lite@4.17.0?noext\",\n",
       "      \"vega-embed\": \"https://cdn.jsdelivr.net/npm//vega-embed@6?noext\",\n",
       "    };\n",
       "\n",
       "    function maybeLoadScript(lib, version) {\n",
       "      var key = `${lib.replace(\"-\", \"\")}_version`;\n",
       "      return (VEGA_DEBUG[key] == version) ?\n",
       "        Promise.resolve(paths[lib]) :\n",
       "        new Promise(function(resolve, reject) {\n",
       "          var s = document.createElement('script');\n",
       "          document.getElementsByTagName(\"head\")[0].appendChild(s);\n",
       "          s.async = true;\n",
       "          s.onload = () => {\n",
       "            VEGA_DEBUG[key] = version;\n",
       "            return resolve(paths[lib]);\n",
       "          };\n",
       "          s.onerror = () => reject(`Error loading script: ${paths[lib]}`);\n",
       "          s.src = paths[lib];\n",
       "        });\n",
       "    }\n",
       "\n",
       "    function showError(err) {\n",
       "      outputDiv.innerHTML = `<div class=\"error\" style=\"color:red;\">${err}</div>`;\n",
       "      throw err;\n",
       "    }\n",
       "\n",
       "    function displayChart(vegaEmbed) {\n",
       "      vegaEmbed(outputDiv, spec, embedOpt)\n",
       "        .catch(err => showError(`Javascript Error: ${err.message}<br>This usually means there's a typo in your chart specification. See the javascript console for the full traceback.`));\n",
       "    }\n",
       "\n",
       "    if(typeof define === \"function\" && define.amd) {\n",
       "      requirejs.config({paths});\n",
       "      require([\"vega-embed\"], displayChart, err => showError(`Error loading script: ${err.message}`));\n",
       "    } else {\n",
       "      maybeLoadScript(\"vega\", \"5\")\n",
       "        .then(() => maybeLoadScript(\"vega-lite\", \"4.17.0\"))\n",
       "        .then(() => maybeLoadScript(\"vega-embed\", \"6\"))\n",
       "        .catch(showError)\n",
       "        .then(() => displayChart(vegaEmbed));\n",
       "    }\n",
       "  })({\"config\": {\"view\": {\"continuousWidth\": 400, \"continuousHeight\": 300}, \"axis\": {\"domainColor\": \"#cbcbcb\", \"grid\": true, \"gridColor\": \"#cbcbcb\", \"gridWidth\": 1, \"labelColor\": \"#474747\", \"labelFont\": \"Nunito Sans\", \"labelFontSize\": 10, \"labelPadding\": 4, \"tickColor\": \"#cbcbcb\", \"tickSize\": 10, \"titleColor\": \"#333\", \"titleFont\": \"Raleway\", \"titleFontSize\": 12, \"titlePadding\": 10}, \"axisBand\": {\"grid\": false}, \"background\": \"white\", \"font\": \"Raleway\", \"header\": {\"labelFont\": \"Nunito Sans\", \"titleFont\": \"Raleway\"}, \"legend\": {\"labelColor\": \"#333\", \"labelFont\": \"Nunito Sans\", \"labelFontSize\": 11, \"labelLimit\": 0, \"padding\": 1, \"symbolSize\": 30, \"symbolType\": \"square\", \"titleColor\": \"#333\", \"titleFont\": \"Raleway\", \"titleFontSize\": 14, \"titlePadding\": 10}, \"title\": {\"anchor\": \"middle\", \"font\": \"Raleway\", \"fontSize\": 18, \"fontWeight\": 300, \"offset\": 20}}, \"data\": {\"name\": \"data-b359b26a727758728cf84ff33450ee08\"}, \"mark\": \"bar\", \"encoding\": {\"color\": {\"field\": \"prepared_y\", \"legend\": {\"title\": \"Year\"}, \"scale\": {\"range\": [\"#B9D6DF\", \"#8CBCCB\", \"#2EA8CE\", \"#136C97\", \"#0B405B\"]}, \"type\": \"quantitative\"}, \"x\": {\"field\": \"prepared_y\", \"sort\": \"-y\", \"title\": \"Year\", \"type\": \"quantitative\"}, \"y\": {\"field\": \"total_requested_mean\", \"title\": \"Total Requested Mean\", \"type\": \"quantitative\"}}, \"height\": 250, \"title\": \"Year by Total Requested Mean\", \"width\": 400, \"$schema\": \"https://vega.github.io/schema/vega-lite/v4.17.0.json\", \"datasets\": {\"data-b359b26a727758728cf84ff33450ee08\": [{\"prepared_y\": 2021, \"dist\": 7, \"ac_requested_sum\": -19826821.22, \"fed_requested_sum\": 444283866.99, \"total_requested_sum\": 633692575.55, \"ac_requested_mean\": -82268.96771784232, \"fed_requested_mean\": 1843501.5227800831, \"total_requested_mean\": 2629429.77406639, \"unique_mpo\": 2.0, \"unique_prefix\": 41.0, \"unique_primary_agency_name\": 62.0, \"unique_project_location\": 203.0, \"unique_project_no\": 210.0, \"unique_type_of_work\": 196.0}, {\"prepared_y\": 2020, \"dist\": 7, \"ac_requested_sum\": -27852114.040000003, \"fed_requested_sum\": 418932795.85, \"total_requested_sum\": 958805173.73, \"ac_requested_mean\": -87037.856375, \"fed_requested_mean\": 1309164.98703125, \"total_requested_mean\": 2996266.16790625, \"unique_mpo\": 1.0, \"unique_prefix\": 44.0, \"unique_primary_agency_name\": 60.0, \"unique_project_location\": 277.0, \"unique_project_no\": 283.0, \"unique_type_of_work\": 268.0}, {\"prepared_y\": 2019, \"dist\": 7, \"ac_requested_sum\": -12994940.999999998, \"fed_requested_sum\": 363282690.29, \"total_requested_sum\": 398693493.87, \"ac_requested_mean\": -37449.39769452449, \"fed_requested_mean\": 1046924.1795100865, \"total_requested_mean\": 1148972.60481268, \"unique_mpo\": 2.0, \"unique_prefix\": 37.0, \"unique_primary_agency_name\": 67.0, \"unique_project_location\": 293.0, \"unique_project_no\": 304.0, \"unique_type_of_work\": 285.0}, {\"prepared_y\": 2018, \"dist\": 7, \"ac_requested_sum\": -59154978.39, \"fed_requested_sum\": 333529825.48, \"total_requested_sum\": 334612369.11, \"ac_requested_mean\": -176056.48330357144, \"fed_requested_mean\": 992648.2901190476, \"total_requested_mean\": 995870.1461607143, \"unique_mpo\": 1.0, \"unique_prefix\": 39.0, \"unique_primary_agency_name\": 63.0, \"unique_project_location\": 280.0, \"unique_project_no\": 294.0, \"unique_type_of_work\": 267.0}, {\"prepared_y\": 2017, \"dist\": 7, \"ac_requested_sum\": -60396680.120000005, \"fed_requested_sum\": 311587728.98, \"total_requested_sum\": 299707091.05, \"ac_requested_mean\": -184136.21987804878, \"fed_requested_mean\": 949962.5883536586, \"total_requested_mean\": 913741.1312500001, \"unique_mpo\": 2.0, \"unique_prefix\": 39.0, \"unique_primary_agency_name\": 73.0, \"unique_project_location\": 282.0, \"unique_project_no\": 296.0, \"unique_type_of_work\": 266.0}, {\"prepared_y\": 2016, \"dist\": 7, \"ac_requested_sum\": -93842132.66, \"fed_requested_sum\": 430301340.34000003, \"total_requested_sum\": 490366212.28999996, \"ac_requested_mean\": -248918.12376657824, \"fed_requested_mean\": 1144418.458351064, \"total_requested_mean\": 1300706.1333952253, \"unique_mpo\": 2.0, \"unique_prefix\": 43.0, \"unique_primary_agency_name\": 76.0, \"unique_project_location\": 308.0, \"unique_project_no\": 323.0, \"unique_type_of_work\": 304.0}, {\"prepared_y\": 2015, \"dist\": 7, \"ac_requested_sum\": 134831454.0, \"fed_requested_sum\": 259044968.13, \"total_requested_sum\": 585936360.08, \"ac_requested_mean\": 364409.33513513516, \"fed_requested_mean\": 700121.5354864865, \"total_requested_mean\": 1583611.7840000002, \"unique_mpo\": 8.0, \"unique_prefix\": 41.0, \"unique_primary_agency_name\": 85.0, \"unique_project_location\": 299.0, \"unique_project_no\": 312.0, \"unique_type_of_work\": 269.0}, {\"prepared_y\": 2014, \"dist\": 7, \"ac_requested_sum\": 234962242.0, \"fed_requested_sum\": 291500812.09000003, \"total_requested_sum\": 585146074.79, \"ac_requested_mean\": 546423.8186046511, \"fed_requested_mean\": 677908.8653255815, \"total_requested_mean\": 1360804.8250930232, \"unique_mpo\": 10.0, \"unique_prefix\": 42.0, \"unique_primary_agency_name\": 77.0, \"unique_project_location\": 362.0, \"unique_project_no\": 375.0, \"unique_type_of_work\": 323.0}, {\"prepared_y\": 2013, \"dist\": 7, \"ac_requested_sum\": 28551374.0, \"fed_requested_sum\": 14647597.53, \"total_requested_sum\": -23007554.770000003, \"ac_requested_mean\": 892230.4375, \"fed_requested_mean\": 457737.4228125, \"total_requested_mean\": -718986.0865625001, \"unique_mpo\": 4.0, \"unique_prefix\": 20.0, \"unique_primary_agency_name\": 18.0, \"unique_project_location\": 30.0, \"unique_project_no\": 32.0, \"unique_type_of_work\": 31.0}, {\"prepared_y\": 2012, \"dist\": 7, \"ac_requested_sum\": 0.0, \"fed_requested_sum\": -109457.0, \"total_requested_sum\": -123505.0, \"ac_requested_mean\": 0.0, \"fed_requested_mean\": -109457.0, \"total_requested_mean\": -123505.0, \"unique_mpo\": 1.0, \"unique_prefix\": 1.0, \"unique_primary_agency_name\": 1.0, \"unique_project_location\": 1.0, \"unique_project_no\": 1.0, \"unique_type_of_work\": 1.0}]}}, {\"mode\": \"vega-lite\"});\n",
       "</script>"
      ],
      "text/plain": [
       "alt.Chart(...)"
      ]
     },
     "metadata": {},
     "output_type": "display_data"
    },
    {
     "data": {
      "text/markdown": [
       "**Unique Mpo Over Prepared Year**"
      ],
      "text/plain": [
       "<IPython.core.display.Markdown object>"
      ]
     },
     "metadata": {},
     "output_type": "display_data"
    },
    {
     "data": {
      "text/html": [
       "\n",
       "<div id=\"altair-viz-503117486ebf4a41bf5dc521377c0675\"></div>\n",
       "<script type=\"text/javascript\">\n",
       "  var VEGA_DEBUG = (typeof VEGA_DEBUG == \"undefined\") ? {} : VEGA_DEBUG;\n",
       "  (function(spec, embedOpt){\n",
       "    let outputDiv = document.currentScript.previousElementSibling;\n",
       "    if (outputDiv.id !== \"altair-viz-503117486ebf4a41bf5dc521377c0675\") {\n",
       "      outputDiv = document.getElementById(\"altair-viz-503117486ebf4a41bf5dc521377c0675\");\n",
       "    }\n",
       "    const paths = {\n",
       "      \"vega\": \"https://cdn.jsdelivr.net/npm//vega@5?noext\",\n",
       "      \"vega-lib\": \"https://cdn.jsdelivr.net/npm//vega-lib?noext\",\n",
       "      \"vega-lite\": \"https://cdn.jsdelivr.net/npm//vega-lite@4.17.0?noext\",\n",
       "      \"vega-embed\": \"https://cdn.jsdelivr.net/npm//vega-embed@6?noext\",\n",
       "    };\n",
       "\n",
       "    function maybeLoadScript(lib, version) {\n",
       "      var key = `${lib.replace(\"-\", \"\")}_version`;\n",
       "      return (VEGA_DEBUG[key] == version) ?\n",
       "        Promise.resolve(paths[lib]) :\n",
       "        new Promise(function(resolve, reject) {\n",
       "          var s = document.createElement('script');\n",
       "          document.getElementsByTagName(\"head\")[0].appendChild(s);\n",
       "          s.async = true;\n",
       "          s.onload = () => {\n",
       "            VEGA_DEBUG[key] = version;\n",
       "            return resolve(paths[lib]);\n",
       "          };\n",
       "          s.onerror = () => reject(`Error loading script: ${paths[lib]}`);\n",
       "          s.src = paths[lib];\n",
       "        });\n",
       "    }\n",
       "\n",
       "    function showError(err) {\n",
       "      outputDiv.innerHTML = `<div class=\"error\" style=\"color:red;\">${err}</div>`;\n",
       "      throw err;\n",
       "    }\n",
       "\n",
       "    function displayChart(vegaEmbed) {\n",
       "      vegaEmbed(outputDiv, spec, embedOpt)\n",
       "        .catch(err => showError(`Javascript Error: ${err.message}<br>This usually means there's a typo in your chart specification. See the javascript console for the full traceback.`));\n",
       "    }\n",
       "\n",
       "    if(typeof define === \"function\" && define.amd) {\n",
       "      requirejs.config({paths});\n",
       "      require([\"vega-embed\"], displayChart, err => showError(`Error loading script: ${err.message}`));\n",
       "    } else {\n",
       "      maybeLoadScript(\"vega\", \"5\")\n",
       "        .then(() => maybeLoadScript(\"vega-lite\", \"4.17.0\"))\n",
       "        .then(() => maybeLoadScript(\"vega-embed\", \"6\"))\n",
       "        .catch(showError)\n",
       "        .then(() => displayChart(vegaEmbed));\n",
       "    }\n",
       "  })({\"config\": {\"view\": {\"continuousWidth\": 400, \"continuousHeight\": 300}, \"axis\": {\"domainColor\": \"#cbcbcb\", \"grid\": true, \"gridColor\": \"#cbcbcb\", \"gridWidth\": 1, \"labelColor\": \"#474747\", \"labelFont\": \"Nunito Sans\", \"labelFontSize\": 10, \"labelPadding\": 4, \"tickColor\": \"#cbcbcb\", \"tickSize\": 10, \"titleColor\": \"#333\", \"titleFont\": \"Raleway\", \"titleFontSize\": 12, \"titlePadding\": 10}, \"axisBand\": {\"grid\": false}, \"background\": \"white\", \"font\": \"Raleway\", \"header\": {\"labelFont\": \"Nunito Sans\", \"titleFont\": \"Raleway\"}, \"legend\": {\"labelColor\": \"#333\", \"labelFont\": \"Nunito Sans\", \"labelFontSize\": 11, \"labelLimit\": 0, \"padding\": 1, \"symbolSize\": 30, \"symbolType\": \"square\", \"titleColor\": \"#333\", \"titleFont\": \"Raleway\", \"titleFontSize\": 14, \"titlePadding\": 10}, \"title\": {\"anchor\": \"middle\", \"font\": \"Raleway\", \"fontSize\": 18, \"fontWeight\": 300, \"offset\": 20}}, \"data\": {\"name\": \"data-b359b26a727758728cf84ff33450ee08\"}, \"mark\": \"bar\", \"encoding\": {\"color\": {\"field\": \"prepared_y\", \"legend\": {\"title\": \"Year\"}, \"scale\": {\"range\": [\"#B9D6DF\", \"#8CBCCB\", \"#2EA8CE\", \"#136C97\", \"#0B405B\"]}, \"type\": \"quantitative\"}, \"x\": {\"field\": \"prepared_y\", \"sort\": \"-y\", \"title\": \"Year\", \"type\": \"quantitative\"}, \"y\": {\"field\": \"unique_mpo\", \"title\": \"Unique Mpo\", \"type\": \"quantitative\"}}, \"height\": 250, \"title\": \"Year by Unique Mpo\", \"width\": 400, \"$schema\": \"https://vega.github.io/schema/vega-lite/v4.17.0.json\", \"datasets\": {\"data-b359b26a727758728cf84ff33450ee08\": [{\"prepared_y\": 2021, \"dist\": 7, \"ac_requested_sum\": -19826821.22, \"fed_requested_sum\": 444283866.99, \"total_requested_sum\": 633692575.55, \"ac_requested_mean\": -82268.96771784232, \"fed_requested_mean\": 1843501.5227800831, \"total_requested_mean\": 2629429.77406639, \"unique_mpo\": 2.0, \"unique_prefix\": 41.0, \"unique_primary_agency_name\": 62.0, \"unique_project_location\": 203.0, \"unique_project_no\": 210.0, \"unique_type_of_work\": 196.0}, {\"prepared_y\": 2020, \"dist\": 7, \"ac_requested_sum\": -27852114.040000003, \"fed_requested_sum\": 418932795.85, \"total_requested_sum\": 958805173.73, \"ac_requested_mean\": -87037.856375, \"fed_requested_mean\": 1309164.98703125, \"total_requested_mean\": 2996266.16790625, \"unique_mpo\": 1.0, \"unique_prefix\": 44.0, \"unique_primary_agency_name\": 60.0, \"unique_project_location\": 277.0, \"unique_project_no\": 283.0, \"unique_type_of_work\": 268.0}, {\"prepared_y\": 2019, \"dist\": 7, \"ac_requested_sum\": -12994940.999999998, \"fed_requested_sum\": 363282690.29, \"total_requested_sum\": 398693493.87, \"ac_requested_mean\": -37449.39769452449, \"fed_requested_mean\": 1046924.1795100865, \"total_requested_mean\": 1148972.60481268, \"unique_mpo\": 2.0, \"unique_prefix\": 37.0, \"unique_primary_agency_name\": 67.0, \"unique_project_location\": 293.0, \"unique_project_no\": 304.0, \"unique_type_of_work\": 285.0}, {\"prepared_y\": 2018, \"dist\": 7, \"ac_requested_sum\": -59154978.39, \"fed_requested_sum\": 333529825.48, \"total_requested_sum\": 334612369.11, \"ac_requested_mean\": -176056.48330357144, \"fed_requested_mean\": 992648.2901190476, \"total_requested_mean\": 995870.1461607143, \"unique_mpo\": 1.0, \"unique_prefix\": 39.0, \"unique_primary_agency_name\": 63.0, \"unique_project_location\": 280.0, \"unique_project_no\": 294.0, \"unique_type_of_work\": 267.0}, {\"prepared_y\": 2017, \"dist\": 7, \"ac_requested_sum\": -60396680.120000005, \"fed_requested_sum\": 311587728.98, \"total_requested_sum\": 299707091.05, \"ac_requested_mean\": -184136.21987804878, \"fed_requested_mean\": 949962.5883536586, \"total_requested_mean\": 913741.1312500001, \"unique_mpo\": 2.0, \"unique_prefix\": 39.0, \"unique_primary_agency_name\": 73.0, \"unique_project_location\": 282.0, \"unique_project_no\": 296.0, \"unique_type_of_work\": 266.0}, {\"prepared_y\": 2016, \"dist\": 7, \"ac_requested_sum\": -93842132.66, \"fed_requested_sum\": 430301340.34000003, \"total_requested_sum\": 490366212.28999996, \"ac_requested_mean\": -248918.12376657824, \"fed_requested_mean\": 1144418.458351064, \"total_requested_mean\": 1300706.1333952253, \"unique_mpo\": 2.0, \"unique_prefix\": 43.0, \"unique_primary_agency_name\": 76.0, \"unique_project_location\": 308.0, \"unique_project_no\": 323.0, \"unique_type_of_work\": 304.0}, {\"prepared_y\": 2015, \"dist\": 7, \"ac_requested_sum\": 134831454.0, \"fed_requested_sum\": 259044968.13, \"total_requested_sum\": 585936360.08, \"ac_requested_mean\": 364409.33513513516, \"fed_requested_mean\": 700121.5354864865, \"total_requested_mean\": 1583611.7840000002, \"unique_mpo\": 8.0, \"unique_prefix\": 41.0, \"unique_primary_agency_name\": 85.0, \"unique_project_location\": 299.0, \"unique_project_no\": 312.0, \"unique_type_of_work\": 269.0}, {\"prepared_y\": 2014, \"dist\": 7, \"ac_requested_sum\": 234962242.0, \"fed_requested_sum\": 291500812.09000003, \"total_requested_sum\": 585146074.79, \"ac_requested_mean\": 546423.8186046511, \"fed_requested_mean\": 677908.8653255815, \"total_requested_mean\": 1360804.8250930232, \"unique_mpo\": 10.0, \"unique_prefix\": 42.0, \"unique_primary_agency_name\": 77.0, \"unique_project_location\": 362.0, \"unique_project_no\": 375.0, \"unique_type_of_work\": 323.0}, {\"prepared_y\": 2013, \"dist\": 7, \"ac_requested_sum\": 28551374.0, \"fed_requested_sum\": 14647597.53, \"total_requested_sum\": -23007554.770000003, \"ac_requested_mean\": 892230.4375, \"fed_requested_mean\": 457737.4228125, \"total_requested_mean\": -718986.0865625001, \"unique_mpo\": 4.0, \"unique_prefix\": 20.0, \"unique_primary_agency_name\": 18.0, \"unique_project_location\": 30.0, \"unique_project_no\": 32.0, \"unique_type_of_work\": 31.0}, {\"prepared_y\": 2012, \"dist\": 7, \"ac_requested_sum\": 0.0, \"fed_requested_sum\": -109457.0, \"total_requested_sum\": -123505.0, \"ac_requested_mean\": 0.0, \"fed_requested_mean\": -109457.0, \"total_requested_mean\": -123505.0, \"unique_mpo\": 1.0, \"unique_prefix\": 1.0, \"unique_primary_agency_name\": 1.0, \"unique_project_location\": 1.0, \"unique_project_no\": 1.0, \"unique_type_of_work\": 1.0}]}}, {\"mode\": \"vega-lite\"});\n",
       "</script>"
      ],
      "text/plain": [
       "alt.Chart(...)"
      ]
     },
     "metadata": {},
     "output_type": "display_data"
    },
    {
     "data": {
      "text/markdown": [
       "**Unique Prefix Over Prepared Year**"
      ],
      "text/plain": [
       "<IPython.core.display.Markdown object>"
      ]
     },
     "metadata": {},
     "output_type": "display_data"
    },
    {
     "data": {
      "text/html": [
       "\n",
       "<div id=\"altair-viz-835a28e4bb8a4c629807b3e3038090fc\"></div>\n",
       "<script type=\"text/javascript\">\n",
       "  var VEGA_DEBUG = (typeof VEGA_DEBUG == \"undefined\") ? {} : VEGA_DEBUG;\n",
       "  (function(spec, embedOpt){\n",
       "    let outputDiv = document.currentScript.previousElementSibling;\n",
       "    if (outputDiv.id !== \"altair-viz-835a28e4bb8a4c629807b3e3038090fc\") {\n",
       "      outputDiv = document.getElementById(\"altair-viz-835a28e4bb8a4c629807b3e3038090fc\");\n",
       "    }\n",
       "    const paths = {\n",
       "      \"vega\": \"https://cdn.jsdelivr.net/npm//vega@5?noext\",\n",
       "      \"vega-lib\": \"https://cdn.jsdelivr.net/npm//vega-lib?noext\",\n",
       "      \"vega-lite\": \"https://cdn.jsdelivr.net/npm//vega-lite@4.17.0?noext\",\n",
       "      \"vega-embed\": \"https://cdn.jsdelivr.net/npm//vega-embed@6?noext\",\n",
       "    };\n",
       "\n",
       "    function maybeLoadScript(lib, version) {\n",
       "      var key = `${lib.replace(\"-\", \"\")}_version`;\n",
       "      return (VEGA_DEBUG[key] == version) ?\n",
       "        Promise.resolve(paths[lib]) :\n",
       "        new Promise(function(resolve, reject) {\n",
       "          var s = document.createElement('script');\n",
       "          document.getElementsByTagName(\"head\")[0].appendChild(s);\n",
       "          s.async = true;\n",
       "          s.onload = () => {\n",
       "            VEGA_DEBUG[key] = version;\n",
       "            return resolve(paths[lib]);\n",
       "          };\n",
       "          s.onerror = () => reject(`Error loading script: ${paths[lib]}`);\n",
       "          s.src = paths[lib];\n",
       "        });\n",
       "    }\n",
       "\n",
       "    function showError(err) {\n",
       "      outputDiv.innerHTML = `<div class=\"error\" style=\"color:red;\">${err}</div>`;\n",
       "      throw err;\n",
       "    }\n",
       "\n",
       "    function displayChart(vegaEmbed) {\n",
       "      vegaEmbed(outputDiv, spec, embedOpt)\n",
       "        .catch(err => showError(`Javascript Error: ${err.message}<br>This usually means there's a typo in your chart specification. See the javascript console for the full traceback.`));\n",
       "    }\n",
       "\n",
       "    if(typeof define === \"function\" && define.amd) {\n",
       "      requirejs.config({paths});\n",
       "      require([\"vega-embed\"], displayChart, err => showError(`Error loading script: ${err.message}`));\n",
       "    } else {\n",
       "      maybeLoadScript(\"vega\", \"5\")\n",
       "        .then(() => maybeLoadScript(\"vega-lite\", \"4.17.0\"))\n",
       "        .then(() => maybeLoadScript(\"vega-embed\", \"6\"))\n",
       "        .catch(showError)\n",
       "        .then(() => displayChart(vegaEmbed));\n",
       "    }\n",
       "  })({\"config\": {\"view\": {\"continuousWidth\": 400, \"continuousHeight\": 300}, \"axis\": {\"domainColor\": \"#cbcbcb\", \"grid\": true, \"gridColor\": \"#cbcbcb\", \"gridWidth\": 1, \"labelColor\": \"#474747\", \"labelFont\": \"Nunito Sans\", \"labelFontSize\": 10, \"labelPadding\": 4, \"tickColor\": \"#cbcbcb\", \"tickSize\": 10, \"titleColor\": \"#333\", \"titleFont\": \"Raleway\", \"titleFontSize\": 12, \"titlePadding\": 10}, \"axisBand\": {\"grid\": false}, \"background\": \"white\", \"font\": \"Raleway\", \"header\": {\"labelFont\": \"Nunito Sans\", \"titleFont\": \"Raleway\"}, \"legend\": {\"labelColor\": \"#333\", \"labelFont\": \"Nunito Sans\", \"labelFontSize\": 11, \"labelLimit\": 0, \"padding\": 1, \"symbolSize\": 30, \"symbolType\": \"square\", \"titleColor\": \"#333\", \"titleFont\": \"Raleway\", \"titleFontSize\": 14, \"titlePadding\": 10}, \"title\": {\"anchor\": \"middle\", \"font\": \"Raleway\", \"fontSize\": 18, \"fontWeight\": 300, \"offset\": 20}}, \"data\": {\"name\": \"data-b359b26a727758728cf84ff33450ee08\"}, \"mark\": \"bar\", \"encoding\": {\"color\": {\"field\": \"prepared_y\", \"legend\": {\"title\": \"Year\"}, \"scale\": {\"range\": [\"#B9D6DF\", \"#8CBCCB\", \"#2EA8CE\", \"#136C97\", \"#0B405B\"]}, \"type\": \"quantitative\"}, \"x\": {\"field\": \"prepared_y\", \"sort\": \"-y\", \"title\": \"Year\", \"type\": \"quantitative\"}, \"y\": {\"field\": \"unique_prefix\", \"title\": \"Unique Prefix\", \"type\": \"quantitative\"}}, \"height\": 250, \"title\": \"Year by Unique Prefix\", \"width\": 400, \"$schema\": \"https://vega.github.io/schema/vega-lite/v4.17.0.json\", \"datasets\": {\"data-b359b26a727758728cf84ff33450ee08\": [{\"prepared_y\": 2021, \"dist\": 7, \"ac_requested_sum\": -19826821.22, \"fed_requested_sum\": 444283866.99, \"total_requested_sum\": 633692575.55, \"ac_requested_mean\": -82268.96771784232, \"fed_requested_mean\": 1843501.5227800831, \"total_requested_mean\": 2629429.77406639, \"unique_mpo\": 2.0, \"unique_prefix\": 41.0, \"unique_primary_agency_name\": 62.0, \"unique_project_location\": 203.0, \"unique_project_no\": 210.0, \"unique_type_of_work\": 196.0}, {\"prepared_y\": 2020, \"dist\": 7, \"ac_requested_sum\": -27852114.040000003, \"fed_requested_sum\": 418932795.85, \"total_requested_sum\": 958805173.73, \"ac_requested_mean\": -87037.856375, \"fed_requested_mean\": 1309164.98703125, \"total_requested_mean\": 2996266.16790625, \"unique_mpo\": 1.0, \"unique_prefix\": 44.0, \"unique_primary_agency_name\": 60.0, \"unique_project_location\": 277.0, \"unique_project_no\": 283.0, \"unique_type_of_work\": 268.0}, {\"prepared_y\": 2019, \"dist\": 7, \"ac_requested_sum\": -12994940.999999998, \"fed_requested_sum\": 363282690.29, \"total_requested_sum\": 398693493.87, \"ac_requested_mean\": -37449.39769452449, \"fed_requested_mean\": 1046924.1795100865, \"total_requested_mean\": 1148972.60481268, \"unique_mpo\": 2.0, \"unique_prefix\": 37.0, \"unique_primary_agency_name\": 67.0, \"unique_project_location\": 293.0, \"unique_project_no\": 304.0, \"unique_type_of_work\": 285.0}, {\"prepared_y\": 2018, \"dist\": 7, \"ac_requested_sum\": -59154978.39, \"fed_requested_sum\": 333529825.48, \"total_requested_sum\": 334612369.11, \"ac_requested_mean\": -176056.48330357144, \"fed_requested_mean\": 992648.2901190476, \"total_requested_mean\": 995870.1461607143, \"unique_mpo\": 1.0, \"unique_prefix\": 39.0, \"unique_primary_agency_name\": 63.0, \"unique_project_location\": 280.0, \"unique_project_no\": 294.0, \"unique_type_of_work\": 267.0}, {\"prepared_y\": 2017, \"dist\": 7, \"ac_requested_sum\": -60396680.120000005, \"fed_requested_sum\": 311587728.98, \"total_requested_sum\": 299707091.05, \"ac_requested_mean\": -184136.21987804878, \"fed_requested_mean\": 949962.5883536586, \"total_requested_mean\": 913741.1312500001, \"unique_mpo\": 2.0, \"unique_prefix\": 39.0, \"unique_primary_agency_name\": 73.0, \"unique_project_location\": 282.0, \"unique_project_no\": 296.0, \"unique_type_of_work\": 266.0}, {\"prepared_y\": 2016, \"dist\": 7, \"ac_requested_sum\": -93842132.66, \"fed_requested_sum\": 430301340.34000003, \"total_requested_sum\": 490366212.28999996, \"ac_requested_mean\": -248918.12376657824, \"fed_requested_mean\": 1144418.458351064, \"total_requested_mean\": 1300706.1333952253, \"unique_mpo\": 2.0, \"unique_prefix\": 43.0, \"unique_primary_agency_name\": 76.0, \"unique_project_location\": 308.0, \"unique_project_no\": 323.0, \"unique_type_of_work\": 304.0}, {\"prepared_y\": 2015, \"dist\": 7, \"ac_requested_sum\": 134831454.0, \"fed_requested_sum\": 259044968.13, \"total_requested_sum\": 585936360.08, \"ac_requested_mean\": 364409.33513513516, \"fed_requested_mean\": 700121.5354864865, \"total_requested_mean\": 1583611.7840000002, \"unique_mpo\": 8.0, \"unique_prefix\": 41.0, \"unique_primary_agency_name\": 85.0, \"unique_project_location\": 299.0, \"unique_project_no\": 312.0, \"unique_type_of_work\": 269.0}, {\"prepared_y\": 2014, \"dist\": 7, \"ac_requested_sum\": 234962242.0, \"fed_requested_sum\": 291500812.09000003, \"total_requested_sum\": 585146074.79, \"ac_requested_mean\": 546423.8186046511, \"fed_requested_mean\": 677908.8653255815, \"total_requested_mean\": 1360804.8250930232, \"unique_mpo\": 10.0, \"unique_prefix\": 42.0, \"unique_primary_agency_name\": 77.0, \"unique_project_location\": 362.0, \"unique_project_no\": 375.0, \"unique_type_of_work\": 323.0}, {\"prepared_y\": 2013, \"dist\": 7, \"ac_requested_sum\": 28551374.0, \"fed_requested_sum\": 14647597.53, \"total_requested_sum\": -23007554.770000003, \"ac_requested_mean\": 892230.4375, \"fed_requested_mean\": 457737.4228125, \"total_requested_mean\": -718986.0865625001, \"unique_mpo\": 4.0, \"unique_prefix\": 20.0, \"unique_primary_agency_name\": 18.0, \"unique_project_location\": 30.0, \"unique_project_no\": 32.0, \"unique_type_of_work\": 31.0}, {\"prepared_y\": 2012, \"dist\": 7, \"ac_requested_sum\": 0.0, \"fed_requested_sum\": -109457.0, \"total_requested_sum\": -123505.0, \"ac_requested_mean\": 0.0, \"fed_requested_mean\": -109457.0, \"total_requested_mean\": -123505.0, \"unique_mpo\": 1.0, \"unique_prefix\": 1.0, \"unique_primary_agency_name\": 1.0, \"unique_project_location\": 1.0, \"unique_project_no\": 1.0, \"unique_type_of_work\": 1.0}]}}, {\"mode\": \"vega-lite\"});\n",
       "</script>"
      ],
      "text/plain": [
       "alt.Chart(...)"
      ]
     },
     "metadata": {},
     "output_type": "display_data"
    },
    {
     "data": {
      "text/markdown": [
       "**Unique Primary Agency Name Over Prepared Year**"
      ],
      "text/plain": [
       "<IPython.core.display.Markdown object>"
      ]
     },
     "metadata": {},
     "output_type": "display_data"
    },
    {
     "data": {
      "text/html": [
       "\n",
       "<div id=\"altair-viz-e44e370cefe34eb88f1a4005c37fc294\"></div>\n",
       "<script type=\"text/javascript\">\n",
       "  var VEGA_DEBUG = (typeof VEGA_DEBUG == \"undefined\") ? {} : VEGA_DEBUG;\n",
       "  (function(spec, embedOpt){\n",
       "    let outputDiv = document.currentScript.previousElementSibling;\n",
       "    if (outputDiv.id !== \"altair-viz-e44e370cefe34eb88f1a4005c37fc294\") {\n",
       "      outputDiv = document.getElementById(\"altair-viz-e44e370cefe34eb88f1a4005c37fc294\");\n",
       "    }\n",
       "    const paths = {\n",
       "      \"vega\": \"https://cdn.jsdelivr.net/npm//vega@5?noext\",\n",
       "      \"vega-lib\": \"https://cdn.jsdelivr.net/npm//vega-lib?noext\",\n",
       "      \"vega-lite\": \"https://cdn.jsdelivr.net/npm//vega-lite@4.17.0?noext\",\n",
       "      \"vega-embed\": \"https://cdn.jsdelivr.net/npm//vega-embed@6?noext\",\n",
       "    };\n",
       "\n",
       "    function maybeLoadScript(lib, version) {\n",
       "      var key = `${lib.replace(\"-\", \"\")}_version`;\n",
       "      return (VEGA_DEBUG[key] == version) ?\n",
       "        Promise.resolve(paths[lib]) :\n",
       "        new Promise(function(resolve, reject) {\n",
       "          var s = document.createElement('script');\n",
       "          document.getElementsByTagName(\"head\")[0].appendChild(s);\n",
       "          s.async = true;\n",
       "          s.onload = () => {\n",
       "            VEGA_DEBUG[key] = version;\n",
       "            return resolve(paths[lib]);\n",
       "          };\n",
       "          s.onerror = () => reject(`Error loading script: ${paths[lib]}`);\n",
       "          s.src = paths[lib];\n",
       "        });\n",
       "    }\n",
       "\n",
       "    function showError(err) {\n",
       "      outputDiv.innerHTML = `<div class=\"error\" style=\"color:red;\">${err}</div>`;\n",
       "      throw err;\n",
       "    }\n",
       "\n",
       "    function displayChart(vegaEmbed) {\n",
       "      vegaEmbed(outputDiv, spec, embedOpt)\n",
       "        .catch(err => showError(`Javascript Error: ${err.message}<br>This usually means there's a typo in your chart specification. See the javascript console for the full traceback.`));\n",
       "    }\n",
       "\n",
       "    if(typeof define === \"function\" && define.amd) {\n",
       "      requirejs.config({paths});\n",
       "      require([\"vega-embed\"], displayChart, err => showError(`Error loading script: ${err.message}`));\n",
       "    } else {\n",
       "      maybeLoadScript(\"vega\", \"5\")\n",
       "        .then(() => maybeLoadScript(\"vega-lite\", \"4.17.0\"))\n",
       "        .then(() => maybeLoadScript(\"vega-embed\", \"6\"))\n",
       "        .catch(showError)\n",
       "        .then(() => displayChart(vegaEmbed));\n",
       "    }\n",
       "  })({\"config\": {\"view\": {\"continuousWidth\": 400, \"continuousHeight\": 300}, \"axis\": {\"domainColor\": \"#cbcbcb\", \"grid\": true, \"gridColor\": \"#cbcbcb\", \"gridWidth\": 1, \"labelColor\": \"#474747\", \"labelFont\": \"Nunito Sans\", \"labelFontSize\": 10, \"labelPadding\": 4, \"tickColor\": \"#cbcbcb\", \"tickSize\": 10, \"titleColor\": \"#333\", \"titleFont\": \"Raleway\", \"titleFontSize\": 12, \"titlePadding\": 10}, \"axisBand\": {\"grid\": false}, \"background\": \"white\", \"font\": \"Raleway\", \"header\": {\"labelFont\": \"Nunito Sans\", \"titleFont\": \"Raleway\"}, \"legend\": {\"labelColor\": \"#333\", \"labelFont\": \"Nunito Sans\", \"labelFontSize\": 11, \"labelLimit\": 0, \"padding\": 1, \"symbolSize\": 30, \"symbolType\": \"square\", \"titleColor\": \"#333\", \"titleFont\": \"Raleway\", \"titleFontSize\": 14, \"titlePadding\": 10}, \"title\": {\"anchor\": \"middle\", \"font\": \"Raleway\", \"fontSize\": 18, \"fontWeight\": 300, \"offset\": 20}}, \"data\": {\"name\": \"data-b359b26a727758728cf84ff33450ee08\"}, \"mark\": \"bar\", \"encoding\": {\"color\": {\"field\": \"prepared_y\", \"legend\": {\"title\": \"Year\"}, \"scale\": {\"range\": [\"#B9D6DF\", \"#8CBCCB\", \"#2EA8CE\", \"#136C97\", \"#0B405B\"]}, \"type\": \"quantitative\"}, \"x\": {\"field\": \"prepared_y\", \"sort\": \"-y\", \"title\": \"Year\", \"type\": \"quantitative\"}, \"y\": {\"field\": \"unique_primary_agency_name\", \"title\": \"Unique Primary Agency Name\", \"type\": \"quantitative\"}}, \"height\": 250, \"title\": \"Year by Unique Primary Agency Name\", \"width\": 400, \"$schema\": \"https://vega.github.io/schema/vega-lite/v4.17.0.json\", \"datasets\": {\"data-b359b26a727758728cf84ff33450ee08\": [{\"prepared_y\": 2021, \"dist\": 7, \"ac_requested_sum\": -19826821.22, \"fed_requested_sum\": 444283866.99, \"total_requested_sum\": 633692575.55, \"ac_requested_mean\": -82268.96771784232, \"fed_requested_mean\": 1843501.5227800831, \"total_requested_mean\": 2629429.77406639, \"unique_mpo\": 2.0, \"unique_prefix\": 41.0, \"unique_primary_agency_name\": 62.0, \"unique_project_location\": 203.0, \"unique_project_no\": 210.0, \"unique_type_of_work\": 196.0}, {\"prepared_y\": 2020, \"dist\": 7, \"ac_requested_sum\": -27852114.040000003, \"fed_requested_sum\": 418932795.85, \"total_requested_sum\": 958805173.73, \"ac_requested_mean\": -87037.856375, \"fed_requested_mean\": 1309164.98703125, \"total_requested_mean\": 2996266.16790625, \"unique_mpo\": 1.0, \"unique_prefix\": 44.0, \"unique_primary_agency_name\": 60.0, \"unique_project_location\": 277.0, \"unique_project_no\": 283.0, \"unique_type_of_work\": 268.0}, {\"prepared_y\": 2019, \"dist\": 7, \"ac_requested_sum\": -12994940.999999998, \"fed_requested_sum\": 363282690.29, \"total_requested_sum\": 398693493.87, \"ac_requested_mean\": -37449.39769452449, \"fed_requested_mean\": 1046924.1795100865, \"total_requested_mean\": 1148972.60481268, \"unique_mpo\": 2.0, \"unique_prefix\": 37.0, \"unique_primary_agency_name\": 67.0, \"unique_project_location\": 293.0, \"unique_project_no\": 304.0, \"unique_type_of_work\": 285.0}, {\"prepared_y\": 2018, \"dist\": 7, \"ac_requested_sum\": -59154978.39, \"fed_requested_sum\": 333529825.48, \"total_requested_sum\": 334612369.11, \"ac_requested_mean\": -176056.48330357144, \"fed_requested_mean\": 992648.2901190476, \"total_requested_mean\": 995870.1461607143, \"unique_mpo\": 1.0, \"unique_prefix\": 39.0, \"unique_primary_agency_name\": 63.0, \"unique_project_location\": 280.0, \"unique_project_no\": 294.0, \"unique_type_of_work\": 267.0}, {\"prepared_y\": 2017, \"dist\": 7, \"ac_requested_sum\": -60396680.120000005, \"fed_requested_sum\": 311587728.98, \"total_requested_sum\": 299707091.05, \"ac_requested_mean\": -184136.21987804878, \"fed_requested_mean\": 949962.5883536586, \"total_requested_mean\": 913741.1312500001, \"unique_mpo\": 2.0, \"unique_prefix\": 39.0, \"unique_primary_agency_name\": 73.0, \"unique_project_location\": 282.0, \"unique_project_no\": 296.0, \"unique_type_of_work\": 266.0}, {\"prepared_y\": 2016, \"dist\": 7, \"ac_requested_sum\": -93842132.66, \"fed_requested_sum\": 430301340.34000003, \"total_requested_sum\": 490366212.28999996, \"ac_requested_mean\": -248918.12376657824, \"fed_requested_mean\": 1144418.458351064, \"total_requested_mean\": 1300706.1333952253, \"unique_mpo\": 2.0, \"unique_prefix\": 43.0, \"unique_primary_agency_name\": 76.0, \"unique_project_location\": 308.0, \"unique_project_no\": 323.0, \"unique_type_of_work\": 304.0}, {\"prepared_y\": 2015, \"dist\": 7, \"ac_requested_sum\": 134831454.0, \"fed_requested_sum\": 259044968.13, \"total_requested_sum\": 585936360.08, \"ac_requested_mean\": 364409.33513513516, \"fed_requested_mean\": 700121.5354864865, \"total_requested_mean\": 1583611.7840000002, \"unique_mpo\": 8.0, \"unique_prefix\": 41.0, \"unique_primary_agency_name\": 85.0, \"unique_project_location\": 299.0, \"unique_project_no\": 312.0, \"unique_type_of_work\": 269.0}, {\"prepared_y\": 2014, \"dist\": 7, \"ac_requested_sum\": 234962242.0, \"fed_requested_sum\": 291500812.09000003, \"total_requested_sum\": 585146074.79, \"ac_requested_mean\": 546423.8186046511, \"fed_requested_mean\": 677908.8653255815, \"total_requested_mean\": 1360804.8250930232, \"unique_mpo\": 10.0, \"unique_prefix\": 42.0, \"unique_primary_agency_name\": 77.0, \"unique_project_location\": 362.0, \"unique_project_no\": 375.0, \"unique_type_of_work\": 323.0}, {\"prepared_y\": 2013, \"dist\": 7, \"ac_requested_sum\": 28551374.0, \"fed_requested_sum\": 14647597.53, \"total_requested_sum\": -23007554.770000003, \"ac_requested_mean\": 892230.4375, \"fed_requested_mean\": 457737.4228125, \"total_requested_mean\": -718986.0865625001, \"unique_mpo\": 4.0, \"unique_prefix\": 20.0, \"unique_primary_agency_name\": 18.0, \"unique_project_location\": 30.0, \"unique_project_no\": 32.0, \"unique_type_of_work\": 31.0}, {\"prepared_y\": 2012, \"dist\": 7, \"ac_requested_sum\": 0.0, \"fed_requested_sum\": -109457.0, \"total_requested_sum\": -123505.0, \"ac_requested_mean\": 0.0, \"fed_requested_mean\": -109457.0, \"total_requested_mean\": -123505.0, \"unique_mpo\": 1.0, \"unique_prefix\": 1.0, \"unique_primary_agency_name\": 1.0, \"unique_project_location\": 1.0, \"unique_project_no\": 1.0, \"unique_type_of_work\": 1.0}]}}, {\"mode\": \"vega-lite\"});\n",
       "</script>"
      ],
      "text/plain": [
       "alt.Chart(...)"
      ]
     },
     "metadata": {},
     "output_type": "display_data"
    },
    {
     "data": {
      "text/markdown": [
       "**Unique Project Location Over Prepared Year**"
      ],
      "text/plain": [
       "<IPython.core.display.Markdown object>"
      ]
     },
     "metadata": {},
     "output_type": "display_data"
    },
    {
     "data": {
      "text/html": [
       "\n",
       "<div id=\"altair-viz-0a495b25218047caa1acc4bd3b7ed373\"></div>\n",
       "<script type=\"text/javascript\">\n",
       "  var VEGA_DEBUG = (typeof VEGA_DEBUG == \"undefined\") ? {} : VEGA_DEBUG;\n",
       "  (function(spec, embedOpt){\n",
       "    let outputDiv = document.currentScript.previousElementSibling;\n",
       "    if (outputDiv.id !== \"altair-viz-0a495b25218047caa1acc4bd3b7ed373\") {\n",
       "      outputDiv = document.getElementById(\"altair-viz-0a495b25218047caa1acc4bd3b7ed373\");\n",
       "    }\n",
       "    const paths = {\n",
       "      \"vega\": \"https://cdn.jsdelivr.net/npm//vega@5?noext\",\n",
       "      \"vega-lib\": \"https://cdn.jsdelivr.net/npm//vega-lib?noext\",\n",
       "      \"vega-lite\": \"https://cdn.jsdelivr.net/npm//vega-lite@4.17.0?noext\",\n",
       "      \"vega-embed\": \"https://cdn.jsdelivr.net/npm//vega-embed@6?noext\",\n",
       "    };\n",
       "\n",
       "    function maybeLoadScript(lib, version) {\n",
       "      var key = `${lib.replace(\"-\", \"\")}_version`;\n",
       "      return (VEGA_DEBUG[key] == version) ?\n",
       "        Promise.resolve(paths[lib]) :\n",
       "        new Promise(function(resolve, reject) {\n",
       "          var s = document.createElement('script');\n",
       "          document.getElementsByTagName(\"head\")[0].appendChild(s);\n",
       "          s.async = true;\n",
       "          s.onload = () => {\n",
       "            VEGA_DEBUG[key] = version;\n",
       "            return resolve(paths[lib]);\n",
       "          };\n",
       "          s.onerror = () => reject(`Error loading script: ${paths[lib]}`);\n",
       "          s.src = paths[lib];\n",
       "        });\n",
       "    }\n",
       "\n",
       "    function showError(err) {\n",
       "      outputDiv.innerHTML = `<div class=\"error\" style=\"color:red;\">${err}</div>`;\n",
       "      throw err;\n",
       "    }\n",
       "\n",
       "    function displayChart(vegaEmbed) {\n",
       "      vegaEmbed(outputDiv, spec, embedOpt)\n",
       "        .catch(err => showError(`Javascript Error: ${err.message}<br>This usually means there's a typo in your chart specification. See the javascript console for the full traceback.`));\n",
       "    }\n",
       "\n",
       "    if(typeof define === \"function\" && define.amd) {\n",
       "      requirejs.config({paths});\n",
       "      require([\"vega-embed\"], displayChart, err => showError(`Error loading script: ${err.message}`));\n",
       "    } else {\n",
       "      maybeLoadScript(\"vega\", \"5\")\n",
       "        .then(() => maybeLoadScript(\"vega-lite\", \"4.17.0\"))\n",
       "        .then(() => maybeLoadScript(\"vega-embed\", \"6\"))\n",
       "        .catch(showError)\n",
       "        .then(() => displayChart(vegaEmbed));\n",
       "    }\n",
       "  })({\"config\": {\"view\": {\"continuousWidth\": 400, \"continuousHeight\": 300}, \"axis\": {\"domainColor\": \"#cbcbcb\", \"grid\": true, \"gridColor\": \"#cbcbcb\", \"gridWidth\": 1, \"labelColor\": \"#474747\", \"labelFont\": \"Nunito Sans\", \"labelFontSize\": 10, \"labelPadding\": 4, \"tickColor\": \"#cbcbcb\", \"tickSize\": 10, \"titleColor\": \"#333\", \"titleFont\": \"Raleway\", \"titleFontSize\": 12, \"titlePadding\": 10}, \"axisBand\": {\"grid\": false}, \"background\": \"white\", \"font\": \"Raleway\", \"header\": {\"labelFont\": \"Nunito Sans\", \"titleFont\": \"Raleway\"}, \"legend\": {\"labelColor\": \"#333\", \"labelFont\": \"Nunito Sans\", \"labelFontSize\": 11, \"labelLimit\": 0, \"padding\": 1, \"symbolSize\": 30, \"symbolType\": \"square\", \"titleColor\": \"#333\", \"titleFont\": \"Raleway\", \"titleFontSize\": 14, \"titlePadding\": 10}, \"title\": {\"anchor\": \"middle\", \"font\": \"Raleway\", \"fontSize\": 18, \"fontWeight\": 300, \"offset\": 20}}, \"data\": {\"name\": \"data-b359b26a727758728cf84ff33450ee08\"}, \"mark\": \"bar\", \"encoding\": {\"color\": {\"field\": \"prepared_y\", \"legend\": {\"title\": \"Year\"}, \"scale\": {\"range\": [\"#B9D6DF\", \"#8CBCCB\", \"#2EA8CE\", \"#136C97\", \"#0B405B\"]}, \"type\": \"quantitative\"}, \"x\": {\"field\": \"prepared_y\", \"sort\": \"-y\", \"title\": \"Year\", \"type\": \"quantitative\"}, \"y\": {\"field\": \"unique_project_location\", \"title\": \"Unique Project Location\", \"type\": \"quantitative\"}}, \"height\": 250, \"title\": \"Year by Unique Project Location\", \"width\": 400, \"$schema\": \"https://vega.github.io/schema/vega-lite/v4.17.0.json\", \"datasets\": {\"data-b359b26a727758728cf84ff33450ee08\": [{\"prepared_y\": 2021, \"dist\": 7, \"ac_requested_sum\": -19826821.22, \"fed_requested_sum\": 444283866.99, \"total_requested_sum\": 633692575.55, \"ac_requested_mean\": -82268.96771784232, \"fed_requested_mean\": 1843501.5227800831, \"total_requested_mean\": 2629429.77406639, \"unique_mpo\": 2.0, \"unique_prefix\": 41.0, \"unique_primary_agency_name\": 62.0, \"unique_project_location\": 203.0, \"unique_project_no\": 210.0, \"unique_type_of_work\": 196.0}, {\"prepared_y\": 2020, \"dist\": 7, \"ac_requested_sum\": -27852114.040000003, \"fed_requested_sum\": 418932795.85, \"total_requested_sum\": 958805173.73, \"ac_requested_mean\": -87037.856375, \"fed_requested_mean\": 1309164.98703125, \"total_requested_mean\": 2996266.16790625, \"unique_mpo\": 1.0, \"unique_prefix\": 44.0, \"unique_primary_agency_name\": 60.0, \"unique_project_location\": 277.0, \"unique_project_no\": 283.0, \"unique_type_of_work\": 268.0}, {\"prepared_y\": 2019, \"dist\": 7, \"ac_requested_sum\": -12994940.999999998, \"fed_requested_sum\": 363282690.29, \"total_requested_sum\": 398693493.87, \"ac_requested_mean\": -37449.39769452449, \"fed_requested_mean\": 1046924.1795100865, \"total_requested_mean\": 1148972.60481268, \"unique_mpo\": 2.0, \"unique_prefix\": 37.0, \"unique_primary_agency_name\": 67.0, \"unique_project_location\": 293.0, \"unique_project_no\": 304.0, \"unique_type_of_work\": 285.0}, {\"prepared_y\": 2018, \"dist\": 7, \"ac_requested_sum\": -59154978.39, \"fed_requested_sum\": 333529825.48, \"total_requested_sum\": 334612369.11, \"ac_requested_mean\": -176056.48330357144, \"fed_requested_mean\": 992648.2901190476, \"total_requested_mean\": 995870.1461607143, \"unique_mpo\": 1.0, \"unique_prefix\": 39.0, \"unique_primary_agency_name\": 63.0, \"unique_project_location\": 280.0, \"unique_project_no\": 294.0, \"unique_type_of_work\": 267.0}, {\"prepared_y\": 2017, \"dist\": 7, \"ac_requested_sum\": -60396680.120000005, \"fed_requested_sum\": 311587728.98, \"total_requested_sum\": 299707091.05, \"ac_requested_mean\": -184136.21987804878, \"fed_requested_mean\": 949962.5883536586, \"total_requested_mean\": 913741.1312500001, \"unique_mpo\": 2.0, \"unique_prefix\": 39.0, \"unique_primary_agency_name\": 73.0, \"unique_project_location\": 282.0, \"unique_project_no\": 296.0, \"unique_type_of_work\": 266.0}, {\"prepared_y\": 2016, \"dist\": 7, \"ac_requested_sum\": -93842132.66, \"fed_requested_sum\": 430301340.34000003, \"total_requested_sum\": 490366212.28999996, \"ac_requested_mean\": -248918.12376657824, \"fed_requested_mean\": 1144418.458351064, \"total_requested_mean\": 1300706.1333952253, \"unique_mpo\": 2.0, \"unique_prefix\": 43.0, \"unique_primary_agency_name\": 76.0, \"unique_project_location\": 308.0, \"unique_project_no\": 323.0, \"unique_type_of_work\": 304.0}, {\"prepared_y\": 2015, \"dist\": 7, \"ac_requested_sum\": 134831454.0, \"fed_requested_sum\": 259044968.13, \"total_requested_sum\": 585936360.08, \"ac_requested_mean\": 364409.33513513516, \"fed_requested_mean\": 700121.5354864865, \"total_requested_mean\": 1583611.7840000002, \"unique_mpo\": 8.0, \"unique_prefix\": 41.0, \"unique_primary_agency_name\": 85.0, \"unique_project_location\": 299.0, \"unique_project_no\": 312.0, \"unique_type_of_work\": 269.0}, {\"prepared_y\": 2014, \"dist\": 7, \"ac_requested_sum\": 234962242.0, \"fed_requested_sum\": 291500812.09000003, \"total_requested_sum\": 585146074.79, \"ac_requested_mean\": 546423.8186046511, \"fed_requested_mean\": 677908.8653255815, \"total_requested_mean\": 1360804.8250930232, \"unique_mpo\": 10.0, \"unique_prefix\": 42.0, \"unique_primary_agency_name\": 77.0, \"unique_project_location\": 362.0, \"unique_project_no\": 375.0, \"unique_type_of_work\": 323.0}, {\"prepared_y\": 2013, \"dist\": 7, \"ac_requested_sum\": 28551374.0, \"fed_requested_sum\": 14647597.53, \"total_requested_sum\": -23007554.770000003, \"ac_requested_mean\": 892230.4375, \"fed_requested_mean\": 457737.4228125, \"total_requested_mean\": -718986.0865625001, \"unique_mpo\": 4.0, \"unique_prefix\": 20.0, \"unique_primary_agency_name\": 18.0, \"unique_project_location\": 30.0, \"unique_project_no\": 32.0, \"unique_type_of_work\": 31.0}, {\"prepared_y\": 2012, \"dist\": 7, \"ac_requested_sum\": 0.0, \"fed_requested_sum\": -109457.0, \"total_requested_sum\": -123505.0, \"ac_requested_mean\": 0.0, \"fed_requested_mean\": -109457.0, \"total_requested_mean\": -123505.0, \"unique_mpo\": 1.0, \"unique_prefix\": 1.0, \"unique_primary_agency_name\": 1.0, \"unique_project_location\": 1.0, \"unique_project_no\": 1.0, \"unique_type_of_work\": 1.0}]}}, {\"mode\": \"vega-lite\"});\n",
       "</script>"
      ],
      "text/plain": [
       "alt.Chart(...)"
      ]
     },
     "metadata": {},
     "output_type": "display_data"
    },
    {
     "data": {
      "text/markdown": [
       "**Unique Project No Over Prepared Year**"
      ],
      "text/plain": [
       "<IPython.core.display.Markdown object>"
      ]
     },
     "metadata": {},
     "output_type": "display_data"
    },
    {
     "data": {
      "text/html": [
       "\n",
       "<div id=\"altair-viz-721138954e224fbd917a65dfe21e9b57\"></div>\n",
       "<script type=\"text/javascript\">\n",
       "  var VEGA_DEBUG = (typeof VEGA_DEBUG == \"undefined\") ? {} : VEGA_DEBUG;\n",
       "  (function(spec, embedOpt){\n",
       "    let outputDiv = document.currentScript.previousElementSibling;\n",
       "    if (outputDiv.id !== \"altair-viz-721138954e224fbd917a65dfe21e9b57\") {\n",
       "      outputDiv = document.getElementById(\"altair-viz-721138954e224fbd917a65dfe21e9b57\");\n",
       "    }\n",
       "    const paths = {\n",
       "      \"vega\": \"https://cdn.jsdelivr.net/npm//vega@5?noext\",\n",
       "      \"vega-lib\": \"https://cdn.jsdelivr.net/npm//vega-lib?noext\",\n",
       "      \"vega-lite\": \"https://cdn.jsdelivr.net/npm//vega-lite@4.17.0?noext\",\n",
       "      \"vega-embed\": \"https://cdn.jsdelivr.net/npm//vega-embed@6?noext\",\n",
       "    };\n",
       "\n",
       "    function maybeLoadScript(lib, version) {\n",
       "      var key = `${lib.replace(\"-\", \"\")}_version`;\n",
       "      return (VEGA_DEBUG[key] == version) ?\n",
       "        Promise.resolve(paths[lib]) :\n",
       "        new Promise(function(resolve, reject) {\n",
       "          var s = document.createElement('script');\n",
       "          document.getElementsByTagName(\"head\")[0].appendChild(s);\n",
       "          s.async = true;\n",
       "          s.onload = () => {\n",
       "            VEGA_DEBUG[key] = version;\n",
       "            return resolve(paths[lib]);\n",
       "          };\n",
       "          s.onerror = () => reject(`Error loading script: ${paths[lib]}`);\n",
       "          s.src = paths[lib];\n",
       "        });\n",
       "    }\n",
       "\n",
       "    function showError(err) {\n",
       "      outputDiv.innerHTML = `<div class=\"error\" style=\"color:red;\">${err}</div>`;\n",
       "      throw err;\n",
       "    }\n",
       "\n",
       "    function displayChart(vegaEmbed) {\n",
       "      vegaEmbed(outputDiv, spec, embedOpt)\n",
       "        .catch(err => showError(`Javascript Error: ${err.message}<br>This usually means there's a typo in your chart specification. See the javascript console for the full traceback.`));\n",
       "    }\n",
       "\n",
       "    if(typeof define === \"function\" && define.amd) {\n",
       "      requirejs.config({paths});\n",
       "      require([\"vega-embed\"], displayChart, err => showError(`Error loading script: ${err.message}`));\n",
       "    } else {\n",
       "      maybeLoadScript(\"vega\", \"5\")\n",
       "        .then(() => maybeLoadScript(\"vega-lite\", \"4.17.0\"))\n",
       "        .then(() => maybeLoadScript(\"vega-embed\", \"6\"))\n",
       "        .catch(showError)\n",
       "        .then(() => displayChart(vegaEmbed));\n",
       "    }\n",
       "  })({\"config\": {\"view\": {\"continuousWidth\": 400, \"continuousHeight\": 300}, \"axis\": {\"domainColor\": \"#cbcbcb\", \"grid\": true, \"gridColor\": \"#cbcbcb\", \"gridWidth\": 1, \"labelColor\": \"#474747\", \"labelFont\": \"Nunito Sans\", \"labelFontSize\": 10, \"labelPadding\": 4, \"tickColor\": \"#cbcbcb\", \"tickSize\": 10, \"titleColor\": \"#333\", \"titleFont\": \"Raleway\", \"titleFontSize\": 12, \"titlePadding\": 10}, \"axisBand\": {\"grid\": false}, \"background\": \"white\", \"font\": \"Raleway\", \"header\": {\"labelFont\": \"Nunito Sans\", \"titleFont\": \"Raleway\"}, \"legend\": {\"labelColor\": \"#333\", \"labelFont\": \"Nunito Sans\", \"labelFontSize\": 11, \"labelLimit\": 0, \"padding\": 1, \"symbolSize\": 30, \"symbolType\": \"square\", \"titleColor\": \"#333\", \"titleFont\": \"Raleway\", \"titleFontSize\": 14, \"titlePadding\": 10}, \"title\": {\"anchor\": \"middle\", \"font\": \"Raleway\", \"fontSize\": 18, \"fontWeight\": 300, \"offset\": 20}}, \"data\": {\"name\": \"data-b359b26a727758728cf84ff33450ee08\"}, \"mark\": \"bar\", \"encoding\": {\"color\": {\"field\": \"prepared_y\", \"legend\": {\"title\": \"Year\"}, \"scale\": {\"range\": [\"#B9D6DF\", \"#8CBCCB\", \"#2EA8CE\", \"#136C97\", \"#0B405B\"]}, \"type\": \"quantitative\"}, \"x\": {\"field\": \"prepared_y\", \"sort\": \"-y\", \"title\": \"Year\", \"type\": \"quantitative\"}, \"y\": {\"field\": \"unique_project_no\", \"title\": \"Unique Project No\", \"type\": \"quantitative\"}}, \"height\": 250, \"title\": \"Year by Unique Project No\", \"width\": 400, \"$schema\": \"https://vega.github.io/schema/vega-lite/v4.17.0.json\", \"datasets\": {\"data-b359b26a727758728cf84ff33450ee08\": [{\"prepared_y\": 2021, \"dist\": 7, \"ac_requested_sum\": -19826821.22, \"fed_requested_sum\": 444283866.99, \"total_requested_sum\": 633692575.55, \"ac_requested_mean\": -82268.96771784232, \"fed_requested_mean\": 1843501.5227800831, \"total_requested_mean\": 2629429.77406639, \"unique_mpo\": 2.0, \"unique_prefix\": 41.0, \"unique_primary_agency_name\": 62.0, \"unique_project_location\": 203.0, \"unique_project_no\": 210.0, \"unique_type_of_work\": 196.0}, {\"prepared_y\": 2020, \"dist\": 7, \"ac_requested_sum\": -27852114.040000003, \"fed_requested_sum\": 418932795.85, \"total_requested_sum\": 958805173.73, \"ac_requested_mean\": -87037.856375, \"fed_requested_mean\": 1309164.98703125, \"total_requested_mean\": 2996266.16790625, \"unique_mpo\": 1.0, \"unique_prefix\": 44.0, \"unique_primary_agency_name\": 60.0, \"unique_project_location\": 277.0, \"unique_project_no\": 283.0, \"unique_type_of_work\": 268.0}, {\"prepared_y\": 2019, \"dist\": 7, \"ac_requested_sum\": -12994940.999999998, \"fed_requested_sum\": 363282690.29, \"total_requested_sum\": 398693493.87, \"ac_requested_mean\": -37449.39769452449, \"fed_requested_mean\": 1046924.1795100865, \"total_requested_mean\": 1148972.60481268, \"unique_mpo\": 2.0, \"unique_prefix\": 37.0, \"unique_primary_agency_name\": 67.0, \"unique_project_location\": 293.0, \"unique_project_no\": 304.0, \"unique_type_of_work\": 285.0}, {\"prepared_y\": 2018, \"dist\": 7, \"ac_requested_sum\": -59154978.39, \"fed_requested_sum\": 333529825.48, \"total_requested_sum\": 334612369.11, \"ac_requested_mean\": -176056.48330357144, \"fed_requested_mean\": 992648.2901190476, \"total_requested_mean\": 995870.1461607143, \"unique_mpo\": 1.0, \"unique_prefix\": 39.0, \"unique_primary_agency_name\": 63.0, \"unique_project_location\": 280.0, \"unique_project_no\": 294.0, \"unique_type_of_work\": 267.0}, {\"prepared_y\": 2017, \"dist\": 7, \"ac_requested_sum\": -60396680.120000005, \"fed_requested_sum\": 311587728.98, \"total_requested_sum\": 299707091.05, \"ac_requested_mean\": -184136.21987804878, \"fed_requested_mean\": 949962.5883536586, \"total_requested_mean\": 913741.1312500001, \"unique_mpo\": 2.0, \"unique_prefix\": 39.0, \"unique_primary_agency_name\": 73.0, \"unique_project_location\": 282.0, \"unique_project_no\": 296.0, \"unique_type_of_work\": 266.0}, {\"prepared_y\": 2016, \"dist\": 7, \"ac_requested_sum\": -93842132.66, \"fed_requested_sum\": 430301340.34000003, \"total_requested_sum\": 490366212.28999996, \"ac_requested_mean\": -248918.12376657824, \"fed_requested_mean\": 1144418.458351064, \"total_requested_mean\": 1300706.1333952253, \"unique_mpo\": 2.0, \"unique_prefix\": 43.0, \"unique_primary_agency_name\": 76.0, \"unique_project_location\": 308.0, \"unique_project_no\": 323.0, \"unique_type_of_work\": 304.0}, {\"prepared_y\": 2015, \"dist\": 7, \"ac_requested_sum\": 134831454.0, \"fed_requested_sum\": 259044968.13, \"total_requested_sum\": 585936360.08, \"ac_requested_mean\": 364409.33513513516, \"fed_requested_mean\": 700121.5354864865, \"total_requested_mean\": 1583611.7840000002, \"unique_mpo\": 8.0, \"unique_prefix\": 41.0, \"unique_primary_agency_name\": 85.0, \"unique_project_location\": 299.0, \"unique_project_no\": 312.0, \"unique_type_of_work\": 269.0}, {\"prepared_y\": 2014, \"dist\": 7, \"ac_requested_sum\": 234962242.0, \"fed_requested_sum\": 291500812.09000003, \"total_requested_sum\": 585146074.79, \"ac_requested_mean\": 546423.8186046511, \"fed_requested_mean\": 677908.8653255815, \"total_requested_mean\": 1360804.8250930232, \"unique_mpo\": 10.0, \"unique_prefix\": 42.0, \"unique_primary_agency_name\": 77.0, \"unique_project_location\": 362.0, \"unique_project_no\": 375.0, \"unique_type_of_work\": 323.0}, {\"prepared_y\": 2013, \"dist\": 7, \"ac_requested_sum\": 28551374.0, \"fed_requested_sum\": 14647597.53, \"total_requested_sum\": -23007554.770000003, \"ac_requested_mean\": 892230.4375, \"fed_requested_mean\": 457737.4228125, \"total_requested_mean\": -718986.0865625001, \"unique_mpo\": 4.0, \"unique_prefix\": 20.0, \"unique_primary_agency_name\": 18.0, \"unique_project_location\": 30.0, \"unique_project_no\": 32.0, \"unique_type_of_work\": 31.0}, {\"prepared_y\": 2012, \"dist\": 7, \"ac_requested_sum\": 0.0, \"fed_requested_sum\": -109457.0, \"total_requested_sum\": -123505.0, \"ac_requested_mean\": 0.0, \"fed_requested_mean\": -109457.0, \"total_requested_mean\": -123505.0, \"unique_mpo\": 1.0, \"unique_prefix\": 1.0, \"unique_primary_agency_name\": 1.0, \"unique_project_location\": 1.0, \"unique_project_no\": 1.0, \"unique_type_of_work\": 1.0}]}}, {\"mode\": \"vega-lite\"});\n",
       "</script>"
      ],
      "text/plain": [
       "alt.Chart(...)"
      ]
     },
     "metadata": {},
     "output_type": "display_data"
    },
    {
     "data": {
      "text/markdown": [
       "**Unique Type Of Work Over Prepared Year**"
      ],
      "text/plain": [
       "<IPython.core.display.Markdown object>"
      ]
     },
     "metadata": {},
     "output_type": "display_data"
    },
    {
     "data": {
      "text/html": [
       "\n",
       "<div id=\"altair-viz-408f177f3cf247eaa4d72e18cd47cdf6\"></div>\n",
       "<script type=\"text/javascript\">\n",
       "  var VEGA_DEBUG = (typeof VEGA_DEBUG == \"undefined\") ? {} : VEGA_DEBUG;\n",
       "  (function(spec, embedOpt){\n",
       "    let outputDiv = document.currentScript.previousElementSibling;\n",
       "    if (outputDiv.id !== \"altair-viz-408f177f3cf247eaa4d72e18cd47cdf6\") {\n",
       "      outputDiv = document.getElementById(\"altair-viz-408f177f3cf247eaa4d72e18cd47cdf6\");\n",
       "    }\n",
       "    const paths = {\n",
       "      \"vega\": \"https://cdn.jsdelivr.net/npm//vega@5?noext\",\n",
       "      \"vega-lib\": \"https://cdn.jsdelivr.net/npm//vega-lib?noext\",\n",
       "      \"vega-lite\": \"https://cdn.jsdelivr.net/npm//vega-lite@4.17.0?noext\",\n",
       "      \"vega-embed\": \"https://cdn.jsdelivr.net/npm//vega-embed@6?noext\",\n",
       "    };\n",
       "\n",
       "    function maybeLoadScript(lib, version) {\n",
       "      var key = `${lib.replace(\"-\", \"\")}_version`;\n",
       "      return (VEGA_DEBUG[key] == version) ?\n",
       "        Promise.resolve(paths[lib]) :\n",
       "        new Promise(function(resolve, reject) {\n",
       "          var s = document.createElement('script');\n",
       "          document.getElementsByTagName(\"head\")[0].appendChild(s);\n",
       "          s.async = true;\n",
       "          s.onload = () => {\n",
       "            VEGA_DEBUG[key] = version;\n",
       "            return resolve(paths[lib]);\n",
       "          };\n",
       "          s.onerror = () => reject(`Error loading script: ${paths[lib]}`);\n",
       "          s.src = paths[lib];\n",
       "        });\n",
       "    }\n",
       "\n",
       "    function showError(err) {\n",
       "      outputDiv.innerHTML = `<div class=\"error\" style=\"color:red;\">${err}</div>`;\n",
       "      throw err;\n",
       "    }\n",
       "\n",
       "    function displayChart(vegaEmbed) {\n",
       "      vegaEmbed(outputDiv, spec, embedOpt)\n",
       "        .catch(err => showError(`Javascript Error: ${err.message}<br>This usually means there's a typo in your chart specification. See the javascript console for the full traceback.`));\n",
       "    }\n",
       "\n",
       "    if(typeof define === \"function\" && define.amd) {\n",
       "      requirejs.config({paths});\n",
       "      require([\"vega-embed\"], displayChart, err => showError(`Error loading script: ${err.message}`));\n",
       "    } else {\n",
       "      maybeLoadScript(\"vega\", \"5\")\n",
       "        .then(() => maybeLoadScript(\"vega-lite\", \"4.17.0\"))\n",
       "        .then(() => maybeLoadScript(\"vega-embed\", \"6\"))\n",
       "        .catch(showError)\n",
       "        .then(() => displayChart(vegaEmbed));\n",
       "    }\n",
       "  })({\"config\": {\"view\": {\"continuousWidth\": 400, \"continuousHeight\": 300}, \"axis\": {\"domainColor\": \"#cbcbcb\", \"grid\": true, \"gridColor\": \"#cbcbcb\", \"gridWidth\": 1, \"labelColor\": \"#474747\", \"labelFont\": \"Nunito Sans\", \"labelFontSize\": 10, \"labelPadding\": 4, \"tickColor\": \"#cbcbcb\", \"tickSize\": 10, \"titleColor\": \"#333\", \"titleFont\": \"Raleway\", \"titleFontSize\": 12, \"titlePadding\": 10}, \"axisBand\": {\"grid\": false}, \"background\": \"white\", \"font\": \"Raleway\", \"header\": {\"labelFont\": \"Nunito Sans\", \"titleFont\": \"Raleway\"}, \"legend\": {\"labelColor\": \"#333\", \"labelFont\": \"Nunito Sans\", \"labelFontSize\": 11, \"labelLimit\": 0, \"padding\": 1, \"symbolSize\": 30, \"symbolType\": \"square\", \"titleColor\": \"#333\", \"titleFont\": \"Raleway\", \"titleFontSize\": 14, \"titlePadding\": 10}, \"title\": {\"anchor\": \"middle\", \"font\": \"Raleway\", \"fontSize\": 18, \"fontWeight\": 300, \"offset\": 20}}, \"data\": {\"name\": \"data-b359b26a727758728cf84ff33450ee08\"}, \"mark\": \"bar\", \"encoding\": {\"color\": {\"field\": \"prepared_y\", \"legend\": {\"title\": \"Year\"}, \"scale\": {\"range\": [\"#B9D6DF\", \"#8CBCCB\", \"#2EA8CE\", \"#136C97\", \"#0B405B\"]}, \"type\": \"quantitative\"}, \"x\": {\"field\": \"prepared_y\", \"sort\": \"-y\", \"title\": \"Year\", \"type\": \"quantitative\"}, \"y\": {\"field\": \"unique_type_of_work\", \"title\": \"Unique Type Of Work\", \"type\": \"quantitative\"}}, \"height\": 250, \"title\": \"Year by Unique Type Of Work\", \"width\": 400, \"$schema\": \"https://vega.github.io/schema/vega-lite/v4.17.0.json\", \"datasets\": {\"data-b359b26a727758728cf84ff33450ee08\": [{\"prepared_y\": 2021, \"dist\": 7, \"ac_requested_sum\": -19826821.22, \"fed_requested_sum\": 444283866.99, \"total_requested_sum\": 633692575.55, \"ac_requested_mean\": -82268.96771784232, \"fed_requested_mean\": 1843501.5227800831, \"total_requested_mean\": 2629429.77406639, \"unique_mpo\": 2.0, \"unique_prefix\": 41.0, \"unique_primary_agency_name\": 62.0, \"unique_project_location\": 203.0, \"unique_project_no\": 210.0, \"unique_type_of_work\": 196.0}, {\"prepared_y\": 2020, \"dist\": 7, \"ac_requested_sum\": -27852114.040000003, \"fed_requested_sum\": 418932795.85, \"total_requested_sum\": 958805173.73, \"ac_requested_mean\": -87037.856375, \"fed_requested_mean\": 1309164.98703125, \"total_requested_mean\": 2996266.16790625, \"unique_mpo\": 1.0, \"unique_prefix\": 44.0, \"unique_primary_agency_name\": 60.0, \"unique_project_location\": 277.0, \"unique_project_no\": 283.0, \"unique_type_of_work\": 268.0}, {\"prepared_y\": 2019, \"dist\": 7, \"ac_requested_sum\": -12994940.999999998, \"fed_requested_sum\": 363282690.29, \"total_requested_sum\": 398693493.87, \"ac_requested_mean\": -37449.39769452449, \"fed_requested_mean\": 1046924.1795100865, \"total_requested_mean\": 1148972.60481268, \"unique_mpo\": 2.0, \"unique_prefix\": 37.0, \"unique_primary_agency_name\": 67.0, \"unique_project_location\": 293.0, \"unique_project_no\": 304.0, \"unique_type_of_work\": 285.0}, {\"prepared_y\": 2018, \"dist\": 7, \"ac_requested_sum\": -59154978.39, \"fed_requested_sum\": 333529825.48, \"total_requested_sum\": 334612369.11, \"ac_requested_mean\": -176056.48330357144, \"fed_requested_mean\": 992648.2901190476, \"total_requested_mean\": 995870.1461607143, \"unique_mpo\": 1.0, \"unique_prefix\": 39.0, \"unique_primary_agency_name\": 63.0, \"unique_project_location\": 280.0, \"unique_project_no\": 294.0, \"unique_type_of_work\": 267.0}, {\"prepared_y\": 2017, \"dist\": 7, \"ac_requested_sum\": -60396680.120000005, \"fed_requested_sum\": 311587728.98, \"total_requested_sum\": 299707091.05, \"ac_requested_mean\": -184136.21987804878, \"fed_requested_mean\": 949962.5883536586, \"total_requested_mean\": 913741.1312500001, \"unique_mpo\": 2.0, \"unique_prefix\": 39.0, \"unique_primary_agency_name\": 73.0, \"unique_project_location\": 282.0, \"unique_project_no\": 296.0, \"unique_type_of_work\": 266.0}, {\"prepared_y\": 2016, \"dist\": 7, \"ac_requested_sum\": -93842132.66, \"fed_requested_sum\": 430301340.34000003, \"total_requested_sum\": 490366212.28999996, \"ac_requested_mean\": -248918.12376657824, \"fed_requested_mean\": 1144418.458351064, \"total_requested_mean\": 1300706.1333952253, \"unique_mpo\": 2.0, \"unique_prefix\": 43.0, \"unique_primary_agency_name\": 76.0, \"unique_project_location\": 308.0, \"unique_project_no\": 323.0, \"unique_type_of_work\": 304.0}, {\"prepared_y\": 2015, \"dist\": 7, \"ac_requested_sum\": 134831454.0, \"fed_requested_sum\": 259044968.13, \"total_requested_sum\": 585936360.08, \"ac_requested_mean\": 364409.33513513516, \"fed_requested_mean\": 700121.5354864865, \"total_requested_mean\": 1583611.7840000002, \"unique_mpo\": 8.0, \"unique_prefix\": 41.0, \"unique_primary_agency_name\": 85.0, \"unique_project_location\": 299.0, \"unique_project_no\": 312.0, \"unique_type_of_work\": 269.0}, {\"prepared_y\": 2014, \"dist\": 7, \"ac_requested_sum\": 234962242.0, \"fed_requested_sum\": 291500812.09000003, \"total_requested_sum\": 585146074.79, \"ac_requested_mean\": 546423.8186046511, \"fed_requested_mean\": 677908.8653255815, \"total_requested_mean\": 1360804.8250930232, \"unique_mpo\": 10.0, \"unique_prefix\": 42.0, \"unique_primary_agency_name\": 77.0, \"unique_project_location\": 362.0, \"unique_project_no\": 375.0, \"unique_type_of_work\": 323.0}, {\"prepared_y\": 2013, \"dist\": 7, \"ac_requested_sum\": 28551374.0, \"fed_requested_sum\": 14647597.53, \"total_requested_sum\": -23007554.770000003, \"ac_requested_mean\": 892230.4375, \"fed_requested_mean\": 457737.4228125, \"total_requested_mean\": -718986.0865625001, \"unique_mpo\": 4.0, \"unique_prefix\": 20.0, \"unique_primary_agency_name\": 18.0, \"unique_project_location\": 30.0, \"unique_project_no\": 32.0, \"unique_type_of_work\": 31.0}, {\"prepared_y\": 2012, \"dist\": 7, \"ac_requested_sum\": 0.0, \"fed_requested_sum\": -109457.0, \"total_requested_sum\": -123505.0, \"ac_requested_mean\": 0.0, \"fed_requested_mean\": -109457.0, \"total_requested_mean\": -123505.0, \"unique_mpo\": 1.0, \"unique_prefix\": 1.0, \"unique_primary_agency_name\": 1.0, \"unique_project_location\": 1.0, \"unique_project_no\": 1.0, \"unique_type_of_work\": 1.0}]}}, {\"mode\": \"vega-lite\"});\n",
       "</script>"
      ],
      "text/plain": [
       "alt.Chart(...)"
      ]
     },
     "metadata": {},
     "output_type": "display_data"
    },
    {
     "data": {
      "text/markdown": [
       "**Top Values in District**"
      ],
      "text/plain": [
       "<IPython.core.display.Markdown object>"
      ]
     },
     "metadata": {},
     "output_type": "display_data"
    },
    {
     "data": {
      "text/html": [
       "\n",
       "<div id=\"altair-viz-77a911ae7e1e4f92a5df033bd251ad39\"></div>\n",
       "<script type=\"text/javascript\">\n",
       "  var VEGA_DEBUG = (typeof VEGA_DEBUG == \"undefined\") ? {} : VEGA_DEBUG;\n",
       "  (function(spec, embedOpt){\n",
       "    let outputDiv = document.currentScript.previousElementSibling;\n",
       "    if (outputDiv.id !== \"altair-viz-77a911ae7e1e4f92a5df033bd251ad39\") {\n",
       "      outputDiv = document.getElementById(\"altair-viz-77a911ae7e1e4f92a5df033bd251ad39\");\n",
       "    }\n",
       "    const paths = {\n",
       "      \"vega\": \"https://cdn.jsdelivr.net/npm//vega@5?noext\",\n",
       "      \"vega-lib\": \"https://cdn.jsdelivr.net/npm//vega-lib?noext\",\n",
       "      \"vega-lite\": \"https://cdn.jsdelivr.net/npm//vega-lite@4.17.0?noext\",\n",
       "      \"vega-embed\": \"https://cdn.jsdelivr.net/npm//vega-embed@6?noext\",\n",
       "    };\n",
       "\n",
       "    function maybeLoadScript(lib, version) {\n",
       "      var key = `${lib.replace(\"-\", \"\")}_version`;\n",
       "      return (VEGA_DEBUG[key] == version) ?\n",
       "        Promise.resolve(paths[lib]) :\n",
       "        new Promise(function(resolve, reject) {\n",
       "          var s = document.createElement('script');\n",
       "          document.getElementsByTagName(\"head\")[0].appendChild(s);\n",
       "          s.async = true;\n",
       "          s.onload = () => {\n",
       "            VEGA_DEBUG[key] = version;\n",
       "            return resolve(paths[lib]);\n",
       "          };\n",
       "          s.onerror = () => reject(`Error loading script: ${paths[lib]}`);\n",
       "          s.src = paths[lib];\n",
       "        });\n",
       "    }\n",
       "\n",
       "    function showError(err) {\n",
       "      outputDiv.innerHTML = `<div class=\"error\" style=\"color:red;\">${err}</div>`;\n",
       "      throw err;\n",
       "    }\n",
       "\n",
       "    function displayChart(vegaEmbed) {\n",
       "      vegaEmbed(outputDiv, spec, embedOpt)\n",
       "        .catch(err => showError(`Javascript Error: ${err.message}<br>This usually means there's a typo in your chart specification. See the javascript console for the full traceback.`));\n",
       "    }\n",
       "\n",
       "    if(typeof define === \"function\" && define.amd) {\n",
       "      requirejs.config({paths});\n",
       "      require([\"vega-embed\"], displayChart, err => showError(`Error loading script: ${err.message}`));\n",
       "    } else {\n",
       "      maybeLoadScript(\"vega\", \"5\")\n",
       "        .then(() => maybeLoadScript(\"vega-lite\", \"4.17.0\"))\n",
       "        .then(() => maybeLoadScript(\"vega-embed\", \"6\"))\n",
       "        .catch(showError)\n",
       "        .then(() => displayChart(vegaEmbed));\n",
       "    }\n",
       "  })({\"config\": {\"view\": {\"continuousWidth\": 400, \"continuousHeight\": 300}, \"axis\": {\"domainColor\": \"#cbcbcb\", \"grid\": true, \"gridColor\": \"#cbcbcb\", \"gridWidth\": 1, \"labelColor\": \"#474747\", \"labelFont\": \"Nunito Sans\", \"labelFontSize\": 10, \"labelPadding\": 4, \"tickColor\": \"#cbcbcb\", \"tickSize\": 10, \"titleColor\": \"#333\", \"titleFont\": \"Raleway\", \"titleFontSize\": 12, \"titlePadding\": 10}, \"axisBand\": {\"grid\": false}, \"background\": \"white\", \"font\": \"Raleway\", \"header\": {\"labelFont\": \"Nunito Sans\", \"titleFont\": \"Raleway\"}, \"legend\": {\"labelColor\": \"#333\", \"labelFont\": \"Nunito Sans\", \"labelFontSize\": 11, \"labelLimit\": 0, \"padding\": 1, \"symbolSize\": 30, \"symbolType\": \"square\", \"titleColor\": \"#333\", \"titleFont\": \"Raleway\", \"titleFontSize\": 14, \"titlePadding\": 10}, \"title\": {\"anchor\": \"middle\", \"font\": \"Raleway\", \"fontSize\": 18, \"fontWeight\": 300, \"offset\": 20}}, \"data\": {\"name\": \"data-f16cbdfadc744054f4b543ff62e99f73\"}, \"mark\": \"bar\", \"encoding\": {\"color\": {\"field\": \"count\", \"legend\": {\"title\": \"Count\"}, \"scale\": {\"range\": [\"#B9D6DF\", \"#8CBCCB\", \"#2EA8CE\", \"#136C97\", \"#0B405B\"]}, \"type\": \"quantitative\"}, \"x\": {\"field\": \"value\", \"sort\": \"-y\", \"title\": \"Value\", \"type\": \"quantitative\"}, \"y\": {\"field\": \"count\", \"title\": \"Count\", \"type\": \"quantitative\"}}, \"height\": 250, \"title\": \"Top 20 District\", \"width\": 400, \"$schema\": \"https://vega.github.io/schema/vega-lite/v4.17.0.json\", \"datasets\": {\"data-f16cbdfadc744054f4b543ff62e99f73\": [{\"value\": 7, \"count\": 2787, \"variable\": \"dist\"}]}}, {\"mode\": \"vega-lite\"});\n",
       "</script>"
      ],
      "text/plain": [
       "alt.Chart(...)"
      ]
     },
     "metadata": {},
     "output_type": "display_data"
    },
    {
     "data": {
      "text/markdown": [
       "**Top Values in MPO**"
      ],
      "text/plain": [
       "<IPython.core.display.Markdown object>"
      ]
     },
     "metadata": {},
     "output_type": "display_data"
    },
    {
     "data": {
      "text/html": [
       "\n",
       "<div id=\"altair-viz-0618066af7a64bac96c8e05e5ab458f2\"></div>\n",
       "<script type=\"text/javascript\">\n",
       "  var VEGA_DEBUG = (typeof VEGA_DEBUG == \"undefined\") ? {} : VEGA_DEBUG;\n",
       "  (function(spec, embedOpt){\n",
       "    let outputDiv = document.currentScript.previousElementSibling;\n",
       "    if (outputDiv.id !== \"altair-viz-0618066af7a64bac96c8e05e5ab458f2\") {\n",
       "      outputDiv = document.getElementById(\"altair-viz-0618066af7a64bac96c8e05e5ab458f2\");\n",
       "    }\n",
       "    const paths = {\n",
       "      \"vega\": \"https://cdn.jsdelivr.net/npm//vega@5?noext\",\n",
       "      \"vega-lib\": \"https://cdn.jsdelivr.net/npm//vega-lib?noext\",\n",
       "      \"vega-lite\": \"https://cdn.jsdelivr.net/npm//vega-lite@4.17.0?noext\",\n",
       "      \"vega-embed\": \"https://cdn.jsdelivr.net/npm//vega-embed@6?noext\",\n",
       "    };\n",
       "\n",
       "    function maybeLoadScript(lib, version) {\n",
       "      var key = `${lib.replace(\"-\", \"\")}_version`;\n",
       "      return (VEGA_DEBUG[key] == version) ?\n",
       "        Promise.resolve(paths[lib]) :\n",
       "        new Promise(function(resolve, reject) {\n",
       "          var s = document.createElement('script');\n",
       "          document.getElementsByTagName(\"head\")[0].appendChild(s);\n",
       "          s.async = true;\n",
       "          s.onload = () => {\n",
       "            VEGA_DEBUG[key] = version;\n",
       "            return resolve(paths[lib]);\n",
       "          };\n",
       "          s.onerror = () => reject(`Error loading script: ${paths[lib]}`);\n",
       "          s.src = paths[lib];\n",
       "        });\n",
       "    }\n",
       "\n",
       "    function showError(err) {\n",
       "      outputDiv.innerHTML = `<div class=\"error\" style=\"color:red;\">${err}</div>`;\n",
       "      throw err;\n",
       "    }\n",
       "\n",
       "    function displayChart(vegaEmbed) {\n",
       "      vegaEmbed(outputDiv, spec, embedOpt)\n",
       "        .catch(err => showError(`Javascript Error: ${err.message}<br>This usually means there's a typo in your chart specification. See the javascript console for the full traceback.`));\n",
       "    }\n",
       "\n",
       "    if(typeof define === \"function\" && define.amd) {\n",
       "      requirejs.config({paths});\n",
       "      require([\"vega-embed\"], displayChart, err => showError(`Error loading script: ${err.message}`));\n",
       "    } else {\n",
       "      maybeLoadScript(\"vega\", \"5\")\n",
       "        .then(() => maybeLoadScript(\"vega-lite\", \"4.17.0\"))\n",
       "        .then(() => maybeLoadScript(\"vega-embed\", \"6\"))\n",
       "        .catch(showError)\n",
       "        .then(() => displayChart(vegaEmbed));\n",
       "    }\n",
       "  })({\"config\": {\"view\": {\"continuousWidth\": 400, \"continuousHeight\": 300}, \"axis\": {\"domainColor\": \"#cbcbcb\", \"grid\": true, \"gridColor\": \"#cbcbcb\", \"gridWidth\": 1, \"labelColor\": \"#474747\", \"labelFont\": \"Nunito Sans\", \"labelFontSize\": 10, \"labelPadding\": 4, \"tickColor\": \"#cbcbcb\", \"tickSize\": 10, \"titleColor\": \"#333\", \"titleFont\": \"Raleway\", \"titleFontSize\": 12, \"titlePadding\": 10}, \"axisBand\": {\"grid\": false}, \"background\": \"white\", \"font\": \"Raleway\", \"header\": {\"labelFont\": \"Nunito Sans\", \"titleFont\": \"Raleway\"}, \"legend\": {\"labelColor\": \"#333\", \"labelFont\": \"Nunito Sans\", \"labelFontSize\": 11, \"labelLimit\": 0, \"padding\": 1, \"symbolSize\": 30, \"symbolType\": \"square\", \"titleColor\": \"#333\", \"titleFont\": \"Raleway\", \"titleFontSize\": 14, \"titlePadding\": 10}, \"title\": {\"anchor\": \"middle\", \"font\": \"Raleway\", \"fontSize\": 18, \"fontWeight\": 300, \"offset\": 20}}, \"data\": {\"name\": \"data-a2e51c9d63c8382e7891cf1fafc359c5\"}, \"mark\": \"bar\", \"encoding\": {\"color\": {\"field\": \"count\", \"legend\": {\"title\": \"Count\"}, \"scale\": {\"range\": [\"#B9D6DF\", \"#8CBCCB\", \"#2EA8CE\", \"#136C97\", \"#0B405B\"]}, \"type\": \"quantitative\"}, \"x\": {\"field\": \"value\", \"sort\": \"-y\", \"title\": \"Value\", \"type\": \"nominal\"}, \"y\": {\"field\": \"count\", \"title\": \"Count\", \"type\": \"quantitative\"}}, \"height\": 250, \"title\": \"Top 20 MPO\", \"width\": 400, \"$schema\": \"https://vega.github.io/schema/vega-lite/v4.17.0.json\", \"datasets\": {\"data-a2e51c9d63c8382e7891cf1fafc359c5\": [{\"value\": \"SCAG\", \"count\": 2626, \"variable\": \"mpo\"}, {\"value\": \"NON-MPO\", \"count\": 50, \"variable\": \"mpo\"}, {\"value\": \"SANDAG\", \"count\": 38, \"variable\": \"mpo\"}, {\"value\": \"STANCOG\", \"count\": 20, \"variable\": \"mpo\"}, {\"value\": \"SJCOG\", \"count\": 18, \"variable\": \"mpo\"}, {\"value\": \"MCAG\", \"count\": 12, \"variable\": \"mpo\"}, {\"value\": \"KCOG\", \"count\": 7, \"variable\": \"mpo\"}, {\"value\": \"ER NONE\", \"count\": 5, \"variable\": \"mpo\"}, {\"value\": \"COFCG\", \"count\": 3, \"variable\": \"mpo\"}, {\"value\": \"STACOG\", \"count\": 3, \"variable\": \"mpo\"}, {\"value\": \"MCTC\", \"count\": 2, \"variable\": \"mpo\"}, {\"value\": \"FCOG\", \"count\": 1, \"variable\": \"mpo\"}, {\"value\": \"STNCOG\", \"count\": 1, \"variable\": \"mpo\"}, {\"value\": \"TCAG\", \"count\": 1, \"variable\": \"mpo\"}]}}, {\"mode\": \"vega-lite\"});\n",
       "</script>"
      ],
      "text/plain": [
       "alt.Chart(...)"
      ]
     },
     "metadata": {},
     "output_type": "display_data"
    },
    {
     "data": {
      "text/markdown": [
       "**Top Values in Prefix**"
      ],
      "text/plain": [
       "<IPython.core.display.Markdown object>"
      ]
     },
     "metadata": {},
     "output_type": "display_data"
    },
    {
     "data": {
      "text/html": [
       "\n",
       "<div id=\"altair-viz-93e28f0f54d548eda08927c62b55707f\"></div>\n",
       "<script type=\"text/javascript\">\n",
       "  var VEGA_DEBUG = (typeof VEGA_DEBUG == \"undefined\") ? {} : VEGA_DEBUG;\n",
       "  (function(spec, embedOpt){\n",
       "    let outputDiv = document.currentScript.previousElementSibling;\n",
       "    if (outputDiv.id !== \"altair-viz-93e28f0f54d548eda08927c62b55707f\") {\n",
       "      outputDiv = document.getElementById(\"altair-viz-93e28f0f54d548eda08927c62b55707f\");\n",
       "    }\n",
       "    const paths = {\n",
       "      \"vega\": \"https://cdn.jsdelivr.net/npm//vega@5?noext\",\n",
       "      \"vega-lib\": \"https://cdn.jsdelivr.net/npm//vega-lib?noext\",\n",
       "      \"vega-lite\": \"https://cdn.jsdelivr.net/npm//vega-lite@4.17.0?noext\",\n",
       "      \"vega-embed\": \"https://cdn.jsdelivr.net/npm//vega-embed@6?noext\",\n",
       "    };\n",
       "\n",
       "    function maybeLoadScript(lib, version) {\n",
       "      var key = `${lib.replace(\"-\", \"\")}_version`;\n",
       "      return (VEGA_DEBUG[key] == version) ?\n",
       "        Promise.resolve(paths[lib]) :\n",
       "        new Promise(function(resolve, reject) {\n",
       "          var s = document.createElement('script');\n",
       "          document.getElementsByTagName(\"head\")[0].appendChild(s);\n",
       "          s.async = true;\n",
       "          s.onload = () => {\n",
       "            VEGA_DEBUG[key] = version;\n",
       "            return resolve(paths[lib]);\n",
       "          };\n",
       "          s.onerror = () => reject(`Error loading script: ${paths[lib]}`);\n",
       "          s.src = paths[lib];\n",
       "        });\n",
       "    }\n",
       "\n",
       "    function showError(err) {\n",
       "      outputDiv.innerHTML = `<div class=\"error\" style=\"color:red;\">${err}</div>`;\n",
       "      throw err;\n",
       "    }\n",
       "\n",
       "    function displayChart(vegaEmbed) {\n",
       "      vegaEmbed(outputDiv, spec, embedOpt)\n",
       "        .catch(err => showError(`Javascript Error: ${err.message}<br>This usually means there's a typo in your chart specification. See the javascript console for the full traceback.`));\n",
       "    }\n",
       "\n",
       "    if(typeof define === \"function\" && define.amd) {\n",
       "      requirejs.config({paths});\n",
       "      require([\"vega-embed\"], displayChart, err => showError(`Error loading script: ${err.message}`));\n",
       "    } else {\n",
       "      maybeLoadScript(\"vega\", \"5\")\n",
       "        .then(() => maybeLoadScript(\"vega-lite\", \"4.17.0\"))\n",
       "        .then(() => maybeLoadScript(\"vega-embed\", \"6\"))\n",
       "        .catch(showError)\n",
       "        .then(() => displayChart(vegaEmbed));\n",
       "    }\n",
       "  })({\"config\": {\"view\": {\"continuousWidth\": 400, \"continuousHeight\": 300}, \"axis\": {\"domainColor\": \"#cbcbcb\", \"grid\": true, \"gridColor\": \"#cbcbcb\", \"gridWidth\": 1, \"labelColor\": \"#474747\", \"labelFont\": \"Nunito Sans\", \"labelFontSize\": 10, \"labelPadding\": 4, \"tickColor\": \"#cbcbcb\", \"tickSize\": 10, \"titleColor\": \"#333\", \"titleFont\": \"Raleway\", \"titleFontSize\": 12, \"titlePadding\": 10}, \"axisBand\": {\"grid\": false}, \"background\": \"white\", \"font\": \"Raleway\", \"header\": {\"labelFont\": \"Nunito Sans\", \"titleFont\": \"Raleway\"}, \"legend\": {\"labelColor\": \"#333\", \"labelFont\": \"Nunito Sans\", \"labelFontSize\": 11, \"labelLimit\": 0, \"padding\": 1, \"symbolSize\": 30, \"symbolType\": \"square\", \"titleColor\": \"#333\", \"titleFont\": \"Raleway\", \"titleFontSize\": 14, \"titlePadding\": 10}, \"title\": {\"anchor\": \"middle\", \"font\": \"Raleway\", \"fontSize\": 18, \"fontWeight\": 300, \"offset\": 20}}, \"data\": {\"name\": \"data-9353d97bdc79dac67554d8484acc3f36\"}, \"mark\": \"bar\", \"encoding\": {\"color\": {\"field\": \"count\", \"legend\": {\"title\": \"Count\"}, \"scale\": {\"range\": [\"#B9D6DF\", \"#8CBCCB\", \"#2EA8CE\", \"#136C97\", \"#0B405B\"]}, \"type\": \"quantitative\"}, \"x\": {\"field\": \"value\", \"sort\": \"-y\", \"title\": \"Value\", \"type\": \"nominal\"}, \"y\": {\"field\": \"count\", \"title\": \"Count\", \"type\": \"quantitative\"}}, \"height\": 250, \"title\": \"Top 20 Prefix\", \"width\": 400, \"$schema\": \"https://vega.github.io/schema/vega-lite/v4.17.0.json\", \"datasets\": {\"data-9353d97bdc79dac67554d8484acc3f36\": [{\"value\": \"HSIPL\", \"count\": 705, \"variable\": \"prefix\"}, {\"value\": \"STPL\", \"count\": 441, \"variable\": \"prefix\"}, {\"value\": \"CML\", \"count\": 275, \"variable\": \"prefix\"}, {\"value\": \"ER\", \"count\": 175, \"variable\": \"prefix\"}, {\"value\": \"HPLUL\", \"count\": 143, \"variable\": \"prefix\"}, {\"value\": \"ATPL\", \"count\": 135, \"variable\": \"prefix\"}, {\"value\": \"BHLS\", \"count\": 101, \"variable\": \"prefix\"}, {\"value\": \"FTACML\", \"count\": 94, \"variable\": \"prefix\"}, {\"value\": \"SRTSL\", \"count\": 72, \"variable\": \"prefix\"}, {\"value\": \"RPSTPL\", \"count\": 63, \"variable\": \"prefix\"}, {\"value\": \"BRLSZD\", \"count\": 45, \"variable\": \"prefix\"}, {\"value\": \"BPMPL\", \"count\": 43, \"variable\": \"prefix\"}, {\"value\": \"ACSTP\", \"count\": 37, \"variable\": \"prefix\"}, {\"value\": \"BRLS\", \"count\": 36, \"variable\": \"prefix\"}, {\"value\": \"HP21L\", \"count\": 33, \"variable\": \"prefix\"}, {\"value\": \"BHLO\", \"count\": 20, \"variable\": \"prefix\"}, {\"value\": \"SRTSLNI\", \"count\": 20, \"variable\": \"prefix\"}, {\"value\": \"ESPL\", \"count\": 19, \"variable\": \"prefix\"}, {\"value\": \"BRLO\", \"count\": 18, \"variable\": \"prefix\"}, {\"value\": \"FTASTPL\", \"count\": 17, \"variable\": \"prefix\"}]}}, {\"mode\": \"vega-lite\"});\n",
       "</script>"
      ],
      "text/plain": [
       "alt.Chart(...)"
      ]
     },
     "metadata": {},
     "output_type": "display_data"
    },
    {
     "data": {
      "text/markdown": [
       "**Top Values in Year**"
      ],
      "text/plain": [
       "<IPython.core.display.Markdown object>"
      ]
     },
     "metadata": {},
     "output_type": "display_data"
    },
    {
     "data": {
      "text/html": [
       "\n",
       "<div id=\"altair-viz-2bdef7a96f7f4384ba7ff66e217be5aa\"></div>\n",
       "<script type=\"text/javascript\">\n",
       "  var VEGA_DEBUG = (typeof VEGA_DEBUG == \"undefined\") ? {} : VEGA_DEBUG;\n",
       "  (function(spec, embedOpt){\n",
       "    let outputDiv = document.currentScript.previousElementSibling;\n",
       "    if (outputDiv.id !== \"altair-viz-2bdef7a96f7f4384ba7ff66e217be5aa\") {\n",
       "      outputDiv = document.getElementById(\"altair-viz-2bdef7a96f7f4384ba7ff66e217be5aa\");\n",
       "    }\n",
       "    const paths = {\n",
       "      \"vega\": \"https://cdn.jsdelivr.net/npm//vega@5?noext\",\n",
       "      \"vega-lib\": \"https://cdn.jsdelivr.net/npm//vega-lib?noext\",\n",
       "      \"vega-lite\": \"https://cdn.jsdelivr.net/npm//vega-lite@4.17.0?noext\",\n",
       "      \"vega-embed\": \"https://cdn.jsdelivr.net/npm//vega-embed@6?noext\",\n",
       "    };\n",
       "\n",
       "    function maybeLoadScript(lib, version) {\n",
       "      var key = `${lib.replace(\"-\", \"\")}_version`;\n",
       "      return (VEGA_DEBUG[key] == version) ?\n",
       "        Promise.resolve(paths[lib]) :\n",
       "        new Promise(function(resolve, reject) {\n",
       "          var s = document.createElement('script');\n",
       "          document.getElementsByTagName(\"head\")[0].appendChild(s);\n",
       "          s.async = true;\n",
       "          s.onload = () => {\n",
       "            VEGA_DEBUG[key] = version;\n",
       "            return resolve(paths[lib]);\n",
       "          };\n",
       "          s.onerror = () => reject(`Error loading script: ${paths[lib]}`);\n",
       "          s.src = paths[lib];\n",
       "        });\n",
       "    }\n",
       "\n",
       "    function showError(err) {\n",
       "      outputDiv.innerHTML = `<div class=\"error\" style=\"color:red;\">${err}</div>`;\n",
       "      throw err;\n",
       "    }\n",
       "\n",
       "    function displayChart(vegaEmbed) {\n",
       "      vegaEmbed(outputDiv, spec, embedOpt)\n",
       "        .catch(err => showError(`Javascript Error: ${err.message}<br>This usually means there's a typo in your chart specification. See the javascript console for the full traceback.`));\n",
       "    }\n",
       "\n",
       "    if(typeof define === \"function\" && define.amd) {\n",
       "      requirejs.config({paths});\n",
       "      require([\"vega-embed\"], displayChart, err => showError(`Error loading script: ${err.message}`));\n",
       "    } else {\n",
       "      maybeLoadScript(\"vega\", \"5\")\n",
       "        .then(() => maybeLoadScript(\"vega-lite\", \"4.17.0\"))\n",
       "        .then(() => maybeLoadScript(\"vega-embed\", \"6\"))\n",
       "        .catch(showError)\n",
       "        .then(() => displayChart(vegaEmbed));\n",
       "    }\n",
       "  })({\"config\": {\"view\": {\"continuousWidth\": 400, \"continuousHeight\": 300}, \"axis\": {\"domainColor\": \"#cbcbcb\", \"grid\": true, \"gridColor\": \"#cbcbcb\", \"gridWidth\": 1, \"labelColor\": \"#474747\", \"labelFont\": \"Nunito Sans\", \"labelFontSize\": 10, \"labelPadding\": 4, \"tickColor\": \"#cbcbcb\", \"tickSize\": 10, \"titleColor\": \"#333\", \"titleFont\": \"Raleway\", \"titleFontSize\": 12, \"titlePadding\": 10}, \"axisBand\": {\"grid\": false}, \"background\": \"white\", \"font\": \"Raleway\", \"header\": {\"labelFont\": \"Nunito Sans\", \"titleFont\": \"Raleway\"}, \"legend\": {\"labelColor\": \"#333\", \"labelFont\": \"Nunito Sans\", \"labelFontSize\": 11, \"labelLimit\": 0, \"padding\": 1, \"symbolSize\": 30, \"symbolType\": \"square\", \"titleColor\": \"#333\", \"titleFont\": \"Raleway\", \"titleFontSize\": 14, \"titlePadding\": 10}, \"title\": {\"anchor\": \"middle\", \"font\": \"Raleway\", \"fontSize\": 18, \"fontWeight\": 300, \"offset\": 20}}, \"data\": {\"name\": \"data-dad6b1358cd0ba6d8dc1773ca26a8973\"}, \"mark\": \"bar\", \"encoding\": {\"color\": {\"field\": \"count\", \"legend\": {\"title\": \"Count\"}, \"scale\": {\"range\": [\"#B9D6DF\", \"#8CBCCB\", \"#2EA8CE\", \"#136C97\", \"#0B405B\"]}, \"type\": \"quantitative\"}, \"x\": {\"field\": \"value\", \"sort\": \"-y\", \"title\": \"Value\", \"type\": \"quantitative\"}, \"y\": {\"field\": \"count\", \"title\": \"Count\", \"type\": \"quantitative\"}}, \"height\": 250, \"title\": \"Top 20 Year\", \"width\": 400, \"$schema\": \"https://vega.github.io/schema/vega-lite/v4.17.0.json\", \"datasets\": {\"data-dad6b1358cd0ba6d8dc1773ca26a8973\": [{\"value\": 2014.0, \"count\": 430, \"variable\": \"prepared_y\"}, {\"value\": 2016.0, \"count\": 377, \"variable\": \"prepared_y\"}, {\"value\": 2015.0, \"count\": 370, \"variable\": \"prepared_y\"}, {\"value\": 2019.0, \"count\": 347, \"variable\": \"prepared_y\"}, {\"value\": 2018.0, \"count\": 336, \"variable\": \"prepared_y\"}, {\"value\": 2017.0, \"count\": 328, \"variable\": \"prepared_y\"}, {\"value\": 2020.0, \"count\": 320, \"variable\": \"prepared_y\"}, {\"value\": 2021.0, \"count\": 241, \"variable\": \"prepared_y\"}, {\"value\": 2013.0, \"count\": 32, \"variable\": \"prepared_y\"}, {\"value\": 2012.0, \"count\": 1, \"variable\": \"prepared_y\"}]}}, {\"mode\": \"vega-lite\"});\n",
       "</script>"
      ],
      "text/plain": [
       "alt.Chart(...)"
      ]
     },
     "metadata": {},
     "output_type": "display_data"
    },
    {
     "data": {
      "text/markdown": [
       "**Top Values in Primary Agency Name**"
      ],
      "text/plain": [
       "<IPython.core.display.Markdown object>"
      ]
     },
     "metadata": {},
     "output_type": "display_data"
    },
    {
     "data": {
      "text/html": [
       "\n",
       "<div id=\"altair-viz-0b482311506847eeaab35bbda606c74a\"></div>\n",
       "<script type=\"text/javascript\">\n",
       "  var VEGA_DEBUG = (typeof VEGA_DEBUG == \"undefined\") ? {} : VEGA_DEBUG;\n",
       "  (function(spec, embedOpt){\n",
       "    let outputDiv = document.currentScript.previousElementSibling;\n",
       "    if (outputDiv.id !== \"altair-viz-0b482311506847eeaab35bbda606c74a\") {\n",
       "      outputDiv = document.getElementById(\"altair-viz-0b482311506847eeaab35bbda606c74a\");\n",
       "    }\n",
       "    const paths = {\n",
       "      \"vega\": \"https://cdn.jsdelivr.net/npm//vega@5?noext\",\n",
       "      \"vega-lib\": \"https://cdn.jsdelivr.net/npm//vega-lib?noext\",\n",
       "      \"vega-lite\": \"https://cdn.jsdelivr.net/npm//vega-lite@4.17.0?noext\",\n",
       "      \"vega-embed\": \"https://cdn.jsdelivr.net/npm//vega-embed@6?noext\",\n",
       "    };\n",
       "\n",
       "    function maybeLoadScript(lib, version) {\n",
       "      var key = `${lib.replace(\"-\", \"\")}_version`;\n",
       "      return (VEGA_DEBUG[key] == version) ?\n",
       "        Promise.resolve(paths[lib]) :\n",
       "        new Promise(function(resolve, reject) {\n",
       "          var s = document.createElement('script');\n",
       "          document.getElementsByTagName(\"head\")[0].appendChild(s);\n",
       "          s.async = true;\n",
       "          s.onload = () => {\n",
       "            VEGA_DEBUG[key] = version;\n",
       "            return resolve(paths[lib]);\n",
       "          };\n",
       "          s.onerror = () => reject(`Error loading script: ${paths[lib]}`);\n",
       "          s.src = paths[lib];\n",
       "        });\n",
       "    }\n",
       "\n",
       "    function showError(err) {\n",
       "      outputDiv.innerHTML = `<div class=\"error\" style=\"color:red;\">${err}</div>`;\n",
       "      throw err;\n",
       "    }\n",
       "\n",
       "    function displayChart(vegaEmbed) {\n",
       "      vegaEmbed(outputDiv, spec, embedOpt)\n",
       "        .catch(err => showError(`Javascript Error: ${err.message}<br>This usually means there's a typo in your chart specification. See the javascript console for the full traceback.`));\n",
       "    }\n",
       "\n",
       "    if(typeof define === \"function\" && define.amd) {\n",
       "      requirejs.config({paths});\n",
       "      require([\"vega-embed\"], displayChart, err => showError(`Error loading script: ${err.message}`));\n",
       "    } else {\n",
       "      maybeLoadScript(\"vega\", \"5\")\n",
       "        .then(() => maybeLoadScript(\"vega-lite\", \"4.17.0\"))\n",
       "        .then(() => maybeLoadScript(\"vega-embed\", \"6\"))\n",
       "        .catch(showError)\n",
       "        .then(() => displayChart(vegaEmbed));\n",
       "    }\n",
       "  })({\"config\": {\"view\": {\"continuousWidth\": 400, \"continuousHeight\": 300}, \"axis\": {\"domainColor\": \"#cbcbcb\", \"grid\": true, \"gridColor\": \"#cbcbcb\", \"gridWidth\": 1, \"labelColor\": \"#474747\", \"labelFont\": \"Nunito Sans\", \"labelFontSize\": 10, \"labelPadding\": 4, \"tickColor\": \"#cbcbcb\", \"tickSize\": 10, \"titleColor\": \"#333\", \"titleFont\": \"Raleway\", \"titleFontSize\": 12, \"titlePadding\": 10}, \"axisBand\": {\"grid\": false}, \"background\": \"white\", \"font\": \"Raleway\", \"header\": {\"labelFont\": \"Nunito Sans\", \"titleFont\": \"Raleway\"}, \"legend\": {\"labelColor\": \"#333\", \"labelFont\": \"Nunito Sans\", \"labelFontSize\": 11, \"labelLimit\": 0, \"padding\": 1, \"symbolSize\": 30, \"symbolType\": \"square\", \"titleColor\": \"#333\", \"titleFont\": \"Raleway\", \"titleFontSize\": 14, \"titlePadding\": 10}, \"title\": {\"anchor\": \"middle\", \"font\": \"Raleway\", \"fontSize\": 18, \"fontWeight\": 300, \"offset\": 20}}, \"data\": {\"name\": \"data-b07b1b365bb6479bd30d3f85f62c8618\"}, \"mark\": \"bar\", \"encoding\": {\"color\": {\"field\": \"count\", \"legend\": {\"title\": \"Count\"}, \"scale\": {\"range\": [\"#B9D6DF\", \"#8CBCCB\", \"#2EA8CE\", \"#136C97\", \"#0B405B\"]}, \"type\": \"quantitative\"}, \"x\": {\"field\": \"value\", \"sort\": \"-y\", \"title\": \"Value\", \"type\": \"nominal\"}, \"y\": {\"field\": \"count\", \"title\": \"Count\", \"type\": \"quantitative\"}}, \"height\": 250, \"title\": \"Top 20 Primary Agency Name\", \"width\": 400, \"$schema\": \"https://vega.github.io/schema/vega-lite/v4.17.0.json\", \"datasets\": {\"data-b07b1b365bb6479bd30d3f85f62c8618\": [{\"value\": \"Los Angeles\", \"count\": 490, \"variable\": \"primary_agency_name\"}, {\"value\": \"Los Angeles County\", \"count\": 451, \"variable\": \"primary_agency_name\"}, {\"value\": \"Ventura County\", \"count\": 115, \"variable\": \"primary_agency_name\"}, {\"value\": \"Los Angeles County Metropolitan Transportation Authority\", \"count\": 85, \"variable\": \"primary_agency_name\"}, {\"value\": \"Santa Clarita\", \"count\": 85, \"variable\": \"primary_agency_name\"}, {\"value\": \"Long Beach\", \"count\": 81, \"variable\": \"primary_agency_name\"}, {\"value\": \"Oxnard\", \"count\": 74, \"variable\": \"primary_agency_name\"}, {\"value\": \"Pasadena\", \"count\": 71, \"variable\": \"primary_agency_name\"}, {\"value\": \"Downey\", \"count\": 63, \"variable\": \"primary_agency_name\"}, {\"value\": \"Simi Valley\", \"count\": 61, \"variable\": \"primary_agency_name\"}, {\"value\": \"Lancaster\", \"count\": 57, \"variable\": \"primary_agency_name\"}, {\"value\": \"Palmdale\", \"count\": 46, \"variable\": \"primary_agency_name\"}, {\"value\": \"Pico Rivera\", \"count\": 40, \"variable\": \"primary_agency_name\"}, {\"value\": \"Thousand Oaks\", \"count\": 39, \"variable\": \"primary_agency_name\"}, {\"value\": \"San Buenaventura\", \"count\": 35, \"variable\": \"primary_agency_name\"}, {\"value\": \"Camarillo\", \"count\": 33, \"variable\": \"primary_agency_name\"}, {\"value\": \"Culver City\", \"count\": 32, \"variable\": \"primary_agency_name\"}, {\"value\": \"Burbank\", \"count\": 30, \"variable\": \"primary_agency_name\"}, {\"value\": \"Glendale\", \"count\": 30, \"variable\": \"primary_agency_name\"}, {\"value\": \"Ventura County Transportation Commission\", \"count\": 29, \"variable\": \"primary_agency_name\"}]}}, {\"mode\": \"vega-lite\"});\n",
       "</script>"
      ],
      "text/plain": [
       "alt.Chart(...)"
      ]
     },
     "metadata": {},
     "output_type": "display_data"
    },
    {
     "data": {
      "text/markdown": [
       "**Top Values in Project Location**"
      ],
      "text/plain": [
       "<IPython.core.display.Markdown object>"
      ]
     },
     "metadata": {},
     "output_type": "display_data"
    },
    {
     "data": {
      "text/html": [
       "\n",
       "<div id=\"altair-viz-823e18ef3ed7442d939f8ea292d5349f\"></div>\n",
       "<script type=\"text/javascript\">\n",
       "  var VEGA_DEBUG = (typeof VEGA_DEBUG == \"undefined\") ? {} : VEGA_DEBUG;\n",
       "  (function(spec, embedOpt){\n",
       "    let outputDiv = document.currentScript.previousElementSibling;\n",
       "    if (outputDiv.id !== \"altair-viz-823e18ef3ed7442d939f8ea292d5349f\") {\n",
       "      outputDiv = document.getElementById(\"altair-viz-823e18ef3ed7442d939f8ea292d5349f\");\n",
       "    }\n",
       "    const paths = {\n",
       "      \"vega\": \"https://cdn.jsdelivr.net/npm//vega@5?noext\",\n",
       "      \"vega-lib\": \"https://cdn.jsdelivr.net/npm//vega-lib?noext\",\n",
       "      \"vega-lite\": \"https://cdn.jsdelivr.net/npm//vega-lite@4.17.0?noext\",\n",
       "      \"vega-embed\": \"https://cdn.jsdelivr.net/npm//vega-embed@6?noext\",\n",
       "    };\n",
       "\n",
       "    function maybeLoadScript(lib, version) {\n",
       "      var key = `${lib.replace(\"-\", \"\")}_version`;\n",
       "      return (VEGA_DEBUG[key] == version) ?\n",
       "        Promise.resolve(paths[lib]) :\n",
       "        new Promise(function(resolve, reject) {\n",
       "          var s = document.createElement('script');\n",
       "          document.getElementsByTagName(\"head\")[0].appendChild(s);\n",
       "          s.async = true;\n",
       "          s.onload = () => {\n",
       "            VEGA_DEBUG[key] = version;\n",
       "            return resolve(paths[lib]);\n",
       "          };\n",
       "          s.onerror = () => reject(`Error loading script: ${paths[lib]}`);\n",
       "          s.src = paths[lib];\n",
       "        });\n",
       "    }\n",
       "\n",
       "    function showError(err) {\n",
       "      outputDiv.innerHTML = `<div class=\"error\" style=\"color:red;\">${err}</div>`;\n",
       "      throw err;\n",
       "    }\n",
       "\n",
       "    function displayChart(vegaEmbed) {\n",
       "      vegaEmbed(outputDiv, spec, embedOpt)\n",
       "        .catch(err => showError(`Javascript Error: ${err.message}<br>This usually means there's a typo in your chart specification. See the javascript console for the full traceback.`));\n",
       "    }\n",
       "\n",
       "    if(typeof define === \"function\" && define.amd) {\n",
       "      requirejs.config({paths});\n",
       "      require([\"vega-embed\"], displayChart, err => showError(`Error loading script: ${err.message}`));\n",
       "    } else {\n",
       "      maybeLoadScript(\"vega\", \"5\")\n",
       "        .then(() => maybeLoadScript(\"vega-lite\", \"4.17.0\"))\n",
       "        .then(() => maybeLoadScript(\"vega-embed\", \"6\"))\n",
       "        .catch(showError)\n",
       "        .then(() => displayChart(vegaEmbed));\n",
       "    }\n",
       "  })({\"config\": {\"view\": {\"continuousWidth\": 400, \"continuousHeight\": 300}, \"axis\": {\"domainColor\": \"#cbcbcb\", \"grid\": true, \"gridColor\": \"#cbcbcb\", \"gridWidth\": 1, \"labelColor\": \"#474747\", \"labelFont\": \"Nunito Sans\", \"labelFontSize\": 10, \"labelPadding\": 4, \"tickColor\": \"#cbcbcb\", \"tickSize\": 10, \"titleColor\": \"#333\", \"titleFont\": \"Raleway\", \"titleFontSize\": 12, \"titlePadding\": 10}, \"axisBand\": {\"grid\": false}, \"background\": \"white\", \"font\": \"Raleway\", \"header\": {\"labelFont\": \"Nunito Sans\", \"titleFont\": \"Raleway\"}, \"legend\": {\"labelColor\": \"#333\", \"labelFont\": \"Nunito Sans\", \"labelFontSize\": 11, \"labelLimit\": 0, \"padding\": 1, \"symbolSize\": 30, \"symbolType\": \"square\", \"titleColor\": \"#333\", \"titleFont\": \"Raleway\", \"titleFontSize\": 14, \"titlePadding\": 10}, \"title\": {\"anchor\": \"middle\", \"font\": \"Raleway\", \"fontSize\": 18, \"fontWeight\": 300, \"offset\": 20}}, \"data\": {\"name\": \"data-28f4e9684f87de7c949a278b0d2de059\"}, \"mark\": \"bar\", \"encoding\": {\"color\": {\"field\": \"count\", \"legend\": {\"title\": \"Count\"}, \"scale\": {\"range\": [\"#B9D6DF\", \"#8CBCCB\", \"#2EA8CE\", \"#136C97\", \"#0B405B\"]}, \"type\": \"quantitative\"}, \"x\": {\"field\": \"value\", \"sort\": \"-y\", \"title\": \"Value\", \"type\": \"nominal\"}, \"y\": {\"field\": \"count\", \"title\": \"Count\", \"type\": \"quantitative\"}}, \"height\": 250, \"title\": \"Top 20 Project Location\", \"width\": 400, \"$schema\": \"https://vega.github.io/schema/vega-lite/v4.17.0.json\", \"datasets\": {\"data-28f4e9684f87de7c949a278b0d2de059\": [{\"value\": \"Sixth Street Viaduct Over La River, Us 101, And Uprr, Bnsf, Amtrack, Lacmta And\", \"count\": 13, \"variable\": \"project_location\"}, {\"value\": \"Within The County Of Ventura\", \"count\": 9, \"variable\": \"project_location\"}, {\"value\": \"Citywide\", \"count\": 8, \"variable\": \"project_location\"}, {\"value\": \"Sixth Street Viaduct Over La River And East Santa Anna Freeway, 53c1880\", \"count\": 8, \"variable\": \"project_location\"}, {\"value\": \"Down Town Area Of City Of Culver City\", \"count\": 7, \"variable\": \"project_location\"}, {\"value\": \"Various Locations In Los Angeles County\", \"count\": 7, \"variable\": \"project_location\"}, {\"value\": \"Amar Road Street Improvements: Officer Chiles Way/nogales\", \"count\": 6, \"variable\": \"project_location\"}, {\"value\": \"Community Of Florence-firestone In Los Angeles County\", \"count\": 6, \"variable\": \"project_location\"}, {\"value\": \"Intersection Of Avalon Blvd And Carson St. In The City Of Carson.\", \"count\": 6, \"variable\": \"project_location\"}, {\"value\": \"Pasadena Ave./sr 210 Wb On-ramp At Walnut St.\", \"count\": 6, \"variable\": \"project_location\"}, {\"value\": \"1st St Br Over Glendale/beverly Blvd, Br# 53c0045\", \"count\": 5, \"variable\": \"project_location\"}, {\"value\": \"524 Various Locations Within Unincorporated Areas Of Los Angeles\", \"count\": 5, \"variable\": \"project_location\"}, {\"value\": \"Along Hollywood And Sunset Blbd. Bet'n Gower & La Brea\", \"count\": 5, \"variable\": \"project_location\"}, {\"value\": \"Atlantic Bl Br Over La River, Br#53c0252\", \"count\": 5, \"variable\": \"project_location\"}, {\"value\": \"Ave. L And Challenger Way (10th St. E.) Intersection\", \"count\": 5, \"variable\": \"project_location\"}, {\"value\": \"Dolores Huerta Es, 28th Street Es And Quincy Jones Es In South La Communities\", \"count\": 5, \"variable\": \"project_location\"}, {\"value\": \"Five Bridges In The City Of Santa Clarita (see Comments)\", \"count\": 5, \"variable\": \"project_location\"}, {\"value\": \"Hyperion Viaduct Over La River Bridge # 53c-1881\", \"count\": 5, \"variable\": \"project_location\"}, {\"value\": \"In Ventura County, On Central Ave. From Joan Way To Rio Mesa High School\", \"count\": 5, \"variable\": \"project_location\"}, {\"value\": \"Inglewood Ave At: Imperial Hwy, 118th St, 120th St, Broadway, And El Segundo Bl.\", \"count\": 5, \"variable\": \"project_location\"}]}}, {\"mode\": \"vega-lite\"});\n",
       "</script>"
      ],
      "text/plain": [
       "alt.Chart(...)"
      ]
     },
     "metadata": {},
     "output_type": "display_data"
    },
    {
     "data": {
      "text/markdown": [
       "**Top Values in Seq**"
      ],
      "text/plain": [
       "<IPython.core.display.Markdown object>"
      ]
     },
     "metadata": {},
     "output_type": "display_data"
    },
    {
     "data": {
      "text/html": [
       "\n",
       "<div id=\"altair-viz-bc0bd322466647b9a9bfb10f97e8b544\"></div>\n",
       "<script type=\"text/javascript\">\n",
       "  var VEGA_DEBUG = (typeof VEGA_DEBUG == \"undefined\") ? {} : VEGA_DEBUG;\n",
       "  (function(spec, embedOpt){\n",
       "    let outputDiv = document.currentScript.previousElementSibling;\n",
       "    if (outputDiv.id !== \"altair-viz-bc0bd322466647b9a9bfb10f97e8b544\") {\n",
       "      outputDiv = document.getElementById(\"altair-viz-bc0bd322466647b9a9bfb10f97e8b544\");\n",
       "    }\n",
       "    const paths = {\n",
       "      \"vega\": \"https://cdn.jsdelivr.net/npm//vega@5?noext\",\n",
       "      \"vega-lib\": \"https://cdn.jsdelivr.net/npm//vega-lib?noext\",\n",
       "      \"vega-lite\": \"https://cdn.jsdelivr.net/npm//vega-lite@4.17.0?noext\",\n",
       "      \"vega-embed\": \"https://cdn.jsdelivr.net/npm//vega-embed@6?noext\",\n",
       "    };\n",
       "\n",
       "    function maybeLoadScript(lib, version) {\n",
       "      var key = `${lib.replace(\"-\", \"\")}_version`;\n",
       "      return (VEGA_DEBUG[key] == version) ?\n",
       "        Promise.resolve(paths[lib]) :\n",
       "        new Promise(function(resolve, reject) {\n",
       "          var s = document.createElement('script');\n",
       "          document.getElementsByTagName(\"head\")[0].appendChild(s);\n",
       "          s.async = true;\n",
       "          s.onload = () => {\n",
       "            VEGA_DEBUG[key] = version;\n",
       "            return resolve(paths[lib]);\n",
       "          };\n",
       "          s.onerror = () => reject(`Error loading script: ${paths[lib]}`);\n",
       "          s.src = paths[lib];\n",
       "        });\n",
       "    }\n",
       "\n",
       "    function showError(err) {\n",
       "      outputDiv.innerHTML = `<div class=\"error\" style=\"color:red;\">${err}</div>`;\n",
       "      throw err;\n",
       "    }\n",
       "\n",
       "    function displayChart(vegaEmbed) {\n",
       "      vegaEmbed(outputDiv, spec, embedOpt)\n",
       "        .catch(err => showError(`Javascript Error: ${err.message}<br>This usually means there's a typo in your chart specification. See the javascript console for the full traceback.`));\n",
       "    }\n",
       "\n",
       "    if(typeof define === \"function\" && define.amd) {\n",
       "      requirejs.config({paths});\n",
       "      require([\"vega-embed\"], displayChart, err => showError(`Error loading script: ${err.message}`));\n",
       "    } else {\n",
       "      maybeLoadScript(\"vega\", \"5\")\n",
       "        .then(() => maybeLoadScript(\"vega-lite\", \"4.17.0\"))\n",
       "        .then(() => maybeLoadScript(\"vega-embed\", \"6\"))\n",
       "        .catch(showError)\n",
       "        .then(() => displayChart(vegaEmbed));\n",
       "    }\n",
       "  })({\"config\": {\"view\": {\"continuousWidth\": 400, \"continuousHeight\": 300}, \"axis\": {\"domainColor\": \"#cbcbcb\", \"grid\": true, \"gridColor\": \"#cbcbcb\", \"gridWidth\": 1, \"labelColor\": \"#474747\", \"labelFont\": \"Nunito Sans\", \"labelFontSize\": 10, \"labelPadding\": 4, \"tickColor\": \"#cbcbcb\", \"tickSize\": 10, \"titleColor\": \"#333\", \"titleFont\": \"Raleway\", \"titleFontSize\": 12, \"titlePadding\": 10}, \"axisBand\": {\"grid\": false}, \"background\": \"white\", \"font\": \"Raleway\", \"header\": {\"labelFont\": \"Nunito Sans\", \"titleFont\": \"Raleway\"}, \"legend\": {\"labelColor\": \"#333\", \"labelFont\": \"Nunito Sans\", \"labelFontSize\": 11, \"labelLimit\": 0, \"padding\": 1, \"symbolSize\": 30, \"symbolType\": \"square\", \"titleColor\": \"#333\", \"titleFont\": \"Raleway\", \"titleFontSize\": 14, \"titlePadding\": 10}, \"title\": {\"anchor\": \"middle\", \"font\": \"Raleway\", \"fontSize\": 18, \"fontWeight\": 300, \"offset\": 20}}, \"data\": {\"name\": \"data-adb5694c249c91f651d4db4a9101a0f9\"}, \"mark\": \"bar\", \"encoding\": {\"color\": {\"field\": \"count\", \"legend\": {\"title\": \"Count\"}, \"scale\": {\"range\": [\"#B9D6DF\", \"#8CBCCB\", \"#2EA8CE\", \"#136C97\", \"#0B405B\"]}, \"type\": \"quantitative\"}, \"x\": {\"field\": \"value\", \"sort\": \"-y\", \"title\": \"Value\", \"type\": \"quantitative\"}, \"y\": {\"field\": \"count\", \"title\": \"Count\", \"type\": \"quantitative\"}}, \"height\": 250, \"title\": \"Top 20 Seq\", \"width\": 400, \"$schema\": \"https://vega.github.io/schema/vega-lite/v4.17.0.json\", \"datasets\": {\"data-adb5694c249c91f651d4db4a9101a0f9\": [{\"value\": 1, \"count\": 752, \"variable\": \"seq\"}, {\"value\": 2, \"count\": 729, \"variable\": \"seq\"}, {\"value\": 3, \"count\": 605, \"variable\": \"seq\"}, {\"value\": 4, \"count\": 346, \"variable\": \"seq\"}, {\"value\": 5, \"count\": 171, \"variable\": \"seq\"}, {\"value\": 6, \"count\": 77, \"variable\": \"seq\"}, {\"value\": 7, \"count\": 33, \"variable\": \"seq\"}, {\"value\": 8, \"count\": 22, \"variable\": \"seq\"}, {\"value\": 9, \"count\": 19, \"variable\": \"seq\"}, {\"value\": 10, \"count\": 12, \"variable\": \"seq\"}, {\"value\": 11, \"count\": 12, \"variable\": \"seq\"}, {\"value\": 12, \"count\": 5, \"variable\": \"seq\"}, {\"value\": 13, \"count\": 2, \"variable\": \"seq\"}, {\"value\": 14, \"count\": 1, \"variable\": \"seq\"}, {\"value\": 16, \"count\": 1, \"variable\": \"seq\"}]}}, {\"mode\": \"vega-lite\"});\n",
       "</script>"
      ],
      "text/plain": [
       "alt.Chart(...)"
      ]
     },
     "metadata": {},
     "output_type": "display_data"
    },
    {
     "data": {
      "text/markdown": [
       "**Top Values in Status Comment**"
      ],
      "text/plain": [
       "<IPython.core.display.Markdown object>"
      ]
     },
     "metadata": {},
     "output_type": "display_data"
    },
    {
     "data": {
      "text/html": [
       "\n",
       "<div id=\"altair-viz-700b0852af3643238827ea075b27e379\"></div>\n",
       "<script type=\"text/javascript\">\n",
       "  var VEGA_DEBUG = (typeof VEGA_DEBUG == \"undefined\") ? {} : VEGA_DEBUG;\n",
       "  (function(spec, embedOpt){\n",
       "    let outputDiv = document.currentScript.previousElementSibling;\n",
       "    if (outputDiv.id !== \"altair-viz-700b0852af3643238827ea075b27e379\") {\n",
       "      outputDiv = document.getElementById(\"altair-viz-700b0852af3643238827ea075b27e379\");\n",
       "    }\n",
       "    const paths = {\n",
       "      \"vega\": \"https://cdn.jsdelivr.net/npm//vega@5?noext\",\n",
       "      \"vega-lib\": \"https://cdn.jsdelivr.net/npm//vega-lib?noext\",\n",
       "      \"vega-lite\": \"https://cdn.jsdelivr.net/npm//vega-lite@4.17.0?noext\",\n",
       "      \"vega-embed\": \"https://cdn.jsdelivr.net/npm//vega-embed@6?noext\",\n",
       "    };\n",
       "\n",
       "    function maybeLoadScript(lib, version) {\n",
       "      var key = `${lib.replace(\"-\", \"\")}_version`;\n",
       "      return (VEGA_DEBUG[key] == version) ?\n",
       "        Promise.resolve(paths[lib]) :\n",
       "        new Promise(function(resolve, reject) {\n",
       "          var s = document.createElement('script');\n",
       "          document.getElementsByTagName(\"head\")[0].appendChild(s);\n",
       "          s.async = true;\n",
       "          s.onload = () => {\n",
       "            VEGA_DEBUG[key] = version;\n",
       "            return resolve(paths[lib]);\n",
       "          };\n",
       "          s.onerror = () => reject(`Error loading script: ${paths[lib]}`);\n",
       "          s.src = paths[lib];\n",
       "        });\n",
       "    }\n",
       "\n",
       "    function showError(err) {\n",
       "      outputDiv.innerHTML = `<div class=\"error\" style=\"color:red;\">${err}</div>`;\n",
       "      throw err;\n",
       "    }\n",
       "\n",
       "    function displayChart(vegaEmbed) {\n",
       "      vegaEmbed(outputDiv, spec, embedOpt)\n",
       "        .catch(err => showError(`Javascript Error: ${err.message}<br>This usually means there's a typo in your chart specification. See the javascript console for the full traceback.`));\n",
       "    }\n",
       "\n",
       "    if(typeof define === \"function\" && define.amd) {\n",
       "      requirejs.config({paths});\n",
       "      require([\"vega-embed\"], displayChart, err => showError(`Error loading script: ${err.message}`));\n",
       "    } else {\n",
       "      maybeLoadScript(\"vega\", \"5\")\n",
       "        .then(() => maybeLoadScript(\"vega-lite\", \"4.17.0\"))\n",
       "        .then(() => maybeLoadScript(\"vega-embed\", \"6\"))\n",
       "        .catch(showError)\n",
       "        .then(() => displayChart(vegaEmbed));\n",
       "    }\n",
       "  })({\"config\": {\"view\": {\"continuousWidth\": 400, \"continuousHeight\": 300}, \"axis\": {\"domainColor\": \"#cbcbcb\", \"grid\": true, \"gridColor\": \"#cbcbcb\", \"gridWidth\": 1, \"labelColor\": \"#474747\", \"labelFont\": \"Nunito Sans\", \"labelFontSize\": 10, \"labelPadding\": 4, \"tickColor\": \"#cbcbcb\", \"tickSize\": 10, \"titleColor\": \"#333\", \"titleFont\": \"Raleway\", \"titleFontSize\": 12, \"titlePadding\": 10}, \"axisBand\": {\"grid\": false}, \"background\": \"white\", \"font\": \"Raleway\", \"header\": {\"labelFont\": \"Nunito Sans\", \"titleFont\": \"Raleway\"}, \"legend\": {\"labelColor\": \"#333\", \"labelFont\": \"Nunito Sans\", \"labelFontSize\": 11, \"labelLimit\": 0, \"padding\": 1, \"symbolSize\": 30, \"symbolType\": \"square\", \"titleColor\": \"#333\", \"titleFont\": \"Raleway\", \"titleFontSize\": 14, \"titlePadding\": 10}, \"title\": {\"anchor\": \"middle\", \"font\": \"Raleway\", \"fontSize\": 18, \"fontWeight\": 300, \"offset\": 20}}, \"data\": {\"name\": \"data-73953abc2d7c114704a1a523862e3163\"}, \"mark\": \"bar\", \"encoding\": {\"color\": {\"field\": \"count\", \"legend\": {\"title\": \"Count\"}, \"scale\": {\"range\": [\"#B9D6DF\", \"#8CBCCB\", \"#2EA8CE\", \"#136C97\", \"#0B405B\"]}, \"type\": \"quantitative\"}, \"x\": {\"field\": \"value\", \"sort\": \"-y\", \"title\": \"Value\", \"type\": \"nominal\"}, \"y\": {\"field\": \"count\", \"title\": \"Count\", \"type\": \"quantitative\"}}, \"height\": 250, \"title\": \"Top 20 Status Comment\", \"width\": 400, \"$schema\": \"https://vega.github.io/schema/vega-lite/v4.17.0.json\", \"datasets\": {\"data-73953abc2d7c114704a1a523862e3163\": [{\"value\": \"Authorized\", \"count\": 2612, \"variable\": \"status_comment\"}, {\"value\": \"Prog Code Z400\", \"count\": 39, \"variable\": \"status_comment\"}, {\"value\": \"..\", \"count\": 33, \"variable\": \"status_comment\"}, {\"value\": \"Prog Code M400\", \"count\": 25, \"variable\": \"status_comment\"}, {\"value\": \"Prog Code M0E3\", \"count\": 12, \"variable\": \"status_comment\"}, {\"value\": \"Prog Code Z230\", \"count\": 11, \"variable\": \"status_comment\"}, {\"value\": \"Prog Code Z301\", \"count\": 10, \"variable\": \"status_comment\"}, {\"value\": \"Prog Code M003\", \"count\": 5, \"variable\": \"status_comment\"}, {\"value\": \"Prog Code M230\", \"count\": 5, \"variable\": \"status_comment\"}, {\"value\": \"Prog Code Z40E\", \"count\": 5, \"variable\": \"status_comment\"}, {\"value\": \"Prog Code M40E\", \"count\": 4, \"variable\": \"status_comment\"}, {\"value\": \"Hold for FTIP amendment.\", \"count\": 3, \"variable\": \"status_comment\"}, {\"value\": \"Prog Code Z003\", \"count\": 3, \"variable\": \"status_comment\"}, {\"value\": \"Prog Code L40E\", \"count\": 2, \"variable\": \"status_comment\"}, {\"value\": \"Prog Code M23E\", \"count\": 2, \"variable\": \"status_comment\"}, {\"value\": \"Prog Code RPS9\", \"count\": 2, \"variable\": \"status_comment\"}, {\"value\": \"Prog Code Z23E\", \"count\": 2, \"variable\": \"status_comment\"}, {\"value\": \"Prog Code Z300\", \"count\": 2, \"variable\": \"status_comment\"}, {\"value\": \"Hold for right of way certification.\", \"count\": 1, \"variable\": \"status_comment\"}, {\"value\": \"NEED UPDATES OF QAP, RW, AND APPROVAL OF FUNDING UNDER CURRENT FY 19/20.\", \"count\": 1, \"variable\": \"status_comment\"}]}}, {\"mode\": \"vega-lite\"});\n",
       "</script>"
      ],
      "text/plain": [
       "alt.Chart(...)"
      ]
     },
     "metadata": {},
     "output_type": "display_data"
    },
    {
     "data": {
      "text/markdown": [
       "**Top Values in Type Of Work**"
      ],
      "text/plain": [
       "<IPython.core.display.Markdown object>"
      ]
     },
     "metadata": {},
     "output_type": "display_data"
    },
    {
     "data": {
      "text/html": [
       "\n",
       "<div id=\"altair-viz-9c29c21b33ab4d7bb5216dcf5e9c9e62\"></div>\n",
       "<script type=\"text/javascript\">\n",
       "  var VEGA_DEBUG = (typeof VEGA_DEBUG == \"undefined\") ? {} : VEGA_DEBUG;\n",
       "  (function(spec, embedOpt){\n",
       "    let outputDiv = document.currentScript.previousElementSibling;\n",
       "    if (outputDiv.id !== \"altair-viz-9c29c21b33ab4d7bb5216dcf5e9c9e62\") {\n",
       "      outputDiv = document.getElementById(\"altair-viz-9c29c21b33ab4d7bb5216dcf5e9c9e62\");\n",
       "    }\n",
       "    const paths = {\n",
       "      \"vega\": \"https://cdn.jsdelivr.net/npm//vega@5?noext\",\n",
       "      \"vega-lib\": \"https://cdn.jsdelivr.net/npm//vega-lib?noext\",\n",
       "      \"vega-lite\": \"https://cdn.jsdelivr.net/npm//vega-lite@4.17.0?noext\",\n",
       "      \"vega-embed\": \"https://cdn.jsdelivr.net/npm//vega-embed@6?noext\",\n",
       "    };\n",
       "\n",
       "    function maybeLoadScript(lib, version) {\n",
       "      var key = `${lib.replace(\"-\", \"\")}_version`;\n",
       "      return (VEGA_DEBUG[key] == version) ?\n",
       "        Promise.resolve(paths[lib]) :\n",
       "        new Promise(function(resolve, reject) {\n",
       "          var s = document.createElement('script');\n",
       "          document.getElementsByTagName(\"head\")[0].appendChild(s);\n",
       "          s.async = true;\n",
       "          s.onload = () => {\n",
       "            VEGA_DEBUG[key] = version;\n",
       "            return resolve(paths[lib]);\n",
       "          };\n",
       "          s.onerror = () => reject(`Error loading script: ${paths[lib]}`);\n",
       "          s.src = paths[lib];\n",
       "        });\n",
       "    }\n",
       "\n",
       "    function showError(err) {\n",
       "      outputDiv.innerHTML = `<div class=\"error\" style=\"color:red;\">${err}</div>`;\n",
       "      throw err;\n",
       "    }\n",
       "\n",
       "    function displayChart(vegaEmbed) {\n",
       "      vegaEmbed(outputDiv, spec, embedOpt)\n",
       "        .catch(err => showError(`Javascript Error: ${err.message}<br>This usually means there's a typo in your chart specification. See the javascript console for the full traceback.`));\n",
       "    }\n",
       "\n",
       "    if(typeof define === \"function\" && define.amd) {\n",
       "      requirejs.config({paths});\n",
       "      require([\"vega-embed\"], displayChart, err => showError(`Error loading script: ${err.message}`));\n",
       "    } else {\n",
       "      maybeLoadScript(\"vega\", \"5\")\n",
       "        .then(() => maybeLoadScript(\"vega-lite\", \"4.17.0\"))\n",
       "        .then(() => maybeLoadScript(\"vega-embed\", \"6\"))\n",
       "        .catch(showError)\n",
       "        .then(() => displayChart(vegaEmbed));\n",
       "    }\n",
       "  })({\"config\": {\"view\": {\"continuousWidth\": 400, \"continuousHeight\": 300}, \"axis\": {\"domainColor\": \"#cbcbcb\", \"grid\": true, \"gridColor\": \"#cbcbcb\", \"gridWidth\": 1, \"labelColor\": \"#474747\", \"labelFont\": \"Nunito Sans\", \"labelFontSize\": 10, \"labelPadding\": 4, \"tickColor\": \"#cbcbcb\", \"tickSize\": 10, \"titleColor\": \"#333\", \"titleFont\": \"Raleway\", \"titleFontSize\": 12, \"titlePadding\": 10}, \"axisBand\": {\"grid\": false}, \"background\": \"white\", \"font\": \"Raleway\", \"header\": {\"labelFont\": \"Nunito Sans\", \"titleFont\": \"Raleway\"}, \"legend\": {\"labelColor\": \"#333\", \"labelFont\": \"Nunito Sans\", \"labelFontSize\": 11, \"labelLimit\": 0, \"padding\": 1, \"symbolSize\": 30, \"symbolType\": \"square\", \"titleColor\": \"#333\", \"titleFont\": \"Raleway\", \"titleFontSize\": 14, \"titlePadding\": 10}, \"title\": {\"anchor\": \"middle\", \"font\": \"Raleway\", \"fontSize\": 18, \"fontWeight\": 300, \"offset\": 20}}, \"data\": {\"name\": \"data-6e03b9a5b3789a9a055e75a69d10f323\"}, \"mark\": \"bar\", \"encoding\": {\"color\": {\"field\": \"count\", \"legend\": {\"title\": \"Count\"}, \"scale\": {\"range\": [\"#B9D6DF\", \"#8CBCCB\", \"#2EA8CE\", \"#136C97\", \"#0B405B\"]}, \"type\": \"quantitative\"}, \"x\": {\"field\": \"value\", \"sort\": \"-y\", \"title\": \"Value\", \"type\": \"nominal\"}, \"y\": {\"field\": \"count\", \"title\": \"Count\", \"type\": \"quantitative\"}}, \"height\": 250, \"title\": \"Top 20 Type Of Work\", \"width\": 400, \"$schema\": \"https://vega.github.io/schema/vega-lite/v4.17.0.json\", \"datasets\": {\"data-6e03b9a5b3789a9a055e75a69d10f323\": [{\"value\": \"FTA Transfer\", \"count\": 132, \"variable\": \"type_of_work\"}, {\"value\": \"Emergency Opening\", \"count\": 34, \"variable\": \"type_of_work\"}, {\"value\": \"Road Rehabilitation (tc)\", \"count\": 20, \"variable\": \"type_of_work\"}, {\"value\": \"Bridge Replacement\", \"count\": 19, \"variable\": \"type_of_work\"}, {\"value\": \"Bridge Rehabilitation\", \"count\": 18, \"variable\": \"type_of_work\"}, {\"value\": \"Pedestrian Improvements\", \"count\": 13, \"variable\": \"type_of_work\"}, {\"value\": \"Traffic Signal Improvements\", \"count\": 13, \"variable\": \"type_of_work\"}, {\"value\": \"Bridge Replacement (tc)\", \"count\": 12, \"variable\": \"type_of_work\"}, {\"value\": \"Upgrade Signals\", \"count\": 12, \"variable\": \"type_of_work\"}, {\"value\": \"Bikeway Access Improvements\", \"count\": 11, \"variable\": \"type_of_work\"}, {\"value\": \"Road Rehabilitation\", \"count\": 10, \"variable\": \"type_of_work\"}, {\"value\": \"Bridge Rehabilitation/widening\", \"count\": 9, \"variable\": \"type_of_work\"}, {\"value\": \"Construct Roundabout Within Existing R/w\", \"count\": 9, \"variable\": \"type_of_work\"}, {\"value\": \"Pedestrian Walkway\", \"count\": 9, \"variable\": \"type_of_work\"}, {\"value\": \"Seismic Retrofit\", \"count\": 9, \"variable\": \"type_of_work\"}, {\"value\": \"Upgrade Traffic Signals; Install Left-turn Phasing\", \"count\": 9, \"variable\": \"type_of_work\"}, {\"value\": \"Bridge Preventative Maintenance Program (tc)\", \"count\": 8, \"variable\": \"type_of_work\"}, {\"value\": \"Eo: Debris Removal\", \"count\": 8, \"variable\": \"type_of_work\"}, {\"value\": \"Replace Struct Deficient Viaduct With New (tc)\", \"count\": 8, \"variable\": \"type_of_work\"}, {\"value\": \"Bridge Rehabilitation (tc)\", \"count\": 7, \"variable\": \"type_of_work\"}]}}, {\"mode\": \"vega-lite\"});\n",
       "</script>"
      ],
      "text/plain": [
       "alt.Chart(...)"
      ]
     },
     "metadata": {},
     "output_type": "display_data"
    }
   ],
   "source": [
    "make_charts(df)"
   ]
  },
  {
   "cell_type": "code",
   "execution_count": 93,
   "id": "6ef20faf-de3b-4211-8502-a531a5b6e7ed",
   "metadata": {},
   "outputs": [],
   "source": [
    "unqiue_agencies = (df.primary_agency_name.nunique())"
   ]
  },
  {
   "cell_type": "code",
   "execution_count": 94,
   "id": "53d0589b-4d75-4e77-bbd5-991f27658266",
   "metadata": {
    "tags": []
   },
   "outputs": [
    {
     "data": {
      "text/plain": [
       "31"
      ]
     },
     "execution_count": 94,
     "metadata": {},
     "output_type": "execute_result"
    }
   ],
   "source": [
    "unqiue_agencies"
   ]
  },
  {
   "cell_type": "code",
   "execution_count": null,
   "id": "71004878-84d3-4af7-af82-6d56edb8680b",
   "metadata": {},
   "outputs": [],
   "source": []
  }
 ],
 "metadata": {
  "kernelspec": {
   "display_name": "Python 3 (ipykernel)",
   "language": "python",
   "name": "python3"
  },
  "language_info": {
   "codemirror_mode": {
    "name": "ipython",
    "version": 3
   },
   "file_extension": ".py",
   "mimetype": "text/x-python",
   "name": "python",
   "nbconvert_exporter": "python",
   "pygments_lexer": "ipython3",
   "version": "3.9.7"
  },
  "widgets": {
   "application/vnd.jupyter.widget-state+json": {
    "state": {},
    "version_major": 2,
    "version_minor": 0
   }
  }
 },
 "nbformat": 4,
 "nbformat_minor": 5
}
