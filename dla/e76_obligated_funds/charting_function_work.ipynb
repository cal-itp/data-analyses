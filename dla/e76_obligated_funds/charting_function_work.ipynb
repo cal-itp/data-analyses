{
 "cells": [
  {
   "cell_type": "markdown",
   "id": "c5e93f25-9e95-4c5a-a088-8a517607537c",
   "metadata": {},
   "source": [
    "# Script work for Generating Charting Outputs"
   ]
  },
  {
   "cell_type": "code",
   "execution_count": 1,
   "id": "8897166d-b159-4b32-aa51-f5603677e576",
   "metadata": {},
   "outputs": [],
   "source": [
    "#! pip install cpi"
   ]
  },
  {
   "cell_type": "code",
   "execution_count": 1,
   "id": "309c8aed-2642-4d35-8349-7d25c94ab809",
   "metadata": {},
   "outputs": [
    {
     "name": "stderr",
     "output_type": "stream",
     "text": [
      "/opt/conda/lib/python3.9/site-packages/geopandas/_compat.py:111: UserWarning: The Shapely GEOS version (3.10.2-CAPI-1.16.0) is incompatible with the GEOS version PyGEOS was compiled with (3.10.1-CAPI-1.16.0). Conversions between both will be slow.\n",
      "/opt/conda/lib/python3.9/site-packages/google/auth/_default.py:79: UserWarning: Your application has authenticated using end user credentials from Google Cloud SDK without a quota project. You might receive a \"quota exceeded\" or \"API not enabled\" error. We recommend you rerun `gcloud auth application-default login` and make sure a quota project is added. Or you can use service accounts instead. For more information about service accounts, see https://cloud.google.com/docs/authentication/\n",
      "E0405 22:17:59.246621172    1133 fork_posix.cc:70]           Fork support is only compatible with the epoll1 and poll polling strategies\n",
      "/opt/conda/lib/python3.9/site-packages/google/auth/_default.py:79: UserWarning: Your application has authenticated using end user credentials from Google Cloud SDK without a quota project. You might receive a \"quota exceeded\" or \"API not enabled\" error. We recommend you rerun `gcloud auth application-default login` and make sure a quota project is added. Or you can use service accounts instead. For more information about service accounts, see https://cloud.google.com/docs/authentication/\n",
      "E0405 22:18:00.084037221    1133 fork_posix.cc:70]           Fork support is only compatible with the epoll1 and poll polling strategies\n"
     ]
    }
   ],
   "source": [
    "import numpy as np\n",
    "import pandas as pd\n",
    "from siuba import *\n",
    "\n",
    "import altair as alt\n",
    "import altair_saver\n",
    "from plotnine import *\n",
    "\n",
    "from IPython.display import Markdown, HTML\n",
    "\n",
    "from shared_utils import altair_utils\n",
    "from shared_utils import geography_utils\n",
    "from shared_utils import calitp_color_palette as cp\n",
    "from shared_utils import styleguide\n",
    "\n",
    "from calitp import to_snakecase\n",
    "import intake\n",
    "\n",
    "import _dla_utils"
   ]
  },
  {
   "cell_type": "code",
   "execution_count": 44,
   "id": "de5b1351-88a2-4e0b-a33e-1203eb7478df",
   "metadata": {},
   "outputs": [],
   "source": [
    "import ipywidgets as widgets"
   ]
  },
  {
   "cell_type": "code",
   "execution_count": 3,
   "id": "09b8cdb0-bc6d-4ddd-96f4-55cefb5c6ca0",
   "metadata": {},
   "outputs": [],
   "source": [
    "pd.set_option('display.max_columns', None)\n",
    "pd.options.display.float_format = '{:,.2f}'.format"
   ]
  },
  {
   "cell_type": "code",
   "execution_count": 4,
   "id": "6c15b87b-478d-4ac2-9e22-b2fa59824c38",
   "metadata": {},
   "outputs": [],
   "source": [
    "df= pd.read_parquet(\"dla_df.parquet\")"
   ]
  },
  {
   "cell_type": "code",
   "execution_count": 5,
   "id": "be8a0fa5-21c2-41b0-ab1f-786162dae9ef",
   "metadata": {},
   "outputs": [
    {
     "data": {
      "text/plain": [
       "21144"
      ]
     },
     "execution_count": 5,
     "metadata": {},
     "output_type": "execute_result"
    }
   ],
   "source": [
    "len(df)"
   ]
  },
  {
   "cell_type": "markdown",
   "id": "fe65f4d0-3015-49cc-abbd-22eb87b417ab",
   "metadata": {},
   "source": [
    "## Charts"
   ]
  },
  {
   "cell_type": "code",
   "execution_count": 37,
   "id": "1d1dfdca-bb15-49d7-9b0f-67bc3723b8cc",
   "metadata": {
    "tags": []
   },
   "outputs": [],
   "source": [
    "def make_charts(df, subset):     \n",
    "    df= pd.read_parquet(\"dla_df.parquet\")\n",
    "    \n",
    "    df = (df>>filter(_.dist==subset))\n",
    "    \n",
    "    #subsetting the data\n",
    "    df_years = _dla_utils.count_all_years(df)\n",
    "    df_top = _dla_utils.find_top(df)\n",
    "    \n",
    "    \n",
    "    ##print statements\n",
    "    display(HTML(f\"<h1><strong>District {subset} Analysis</strong></h1>\"))\n",
    "    \n",
    "    display(HTML(\"<h2>Quick Stats</h2>\"))\n",
    "    \n",
    "    display(HTML(f\"There are <strong>{(df.primary_agency_name.nunique())} Unique Agencies</strong>\"))\n",
    "    \n",
    "    transit = (df>>filter(_.transit==1))\n",
    "    \n",
    "    display(HTML(f\"Out of <strong>{len(df)}</strong> obligations, <strong>{len(transit)} are transit-related</strong>.\"))\n",
    "    display(HTML(f\"<strong>{(transit>>count(_.primary_agency_name)>>arrange(-_.n)).iloc[0, 0]}</strong> has the <strong>highest transit</strong> obligations\"))\n",
    "    \n",
    "    q = df>>count(_.primary_agency_name)>>arrange(_.n)\n",
    "    \n",
    "    q2 = q.n.quantile(.95)\n",
    "    # formatting decimals from: https://stackoverflow.com/questions/2389846/python-decimals-format\n",
    "    display(HTML(f\"There are <strong>{len(q>>filter(_.n> (q2)))} agencies have over {('%.2f'%(q2))}</strong> obligations (95th percentile) since {(df.prepared_y.min())}\")\n",
    "           )   \n",
    "    \n",
    "    q3 = q.n.quantile(.1)\n",
    "    display(HTML((f\"There are <strong>{len(q>>filter(_.n< (q3)))} agencies have less than {('%.2f'%(q3))}</strong> obligations (5th percentile) since {(df.prepared_y.min())}\")))\n",
    "\n",
    "\n",
    "    ##tables\n",
    "    \n",
    "    display(HTML(\"<strong>Number of Unique Prefix Codes by Agency</stromg>\"))\n",
    "    display((_dla_utils.get_nunique(df, 'prefix', 'primary_agency_name'))\n",
    "            .rename(columns={'primary_agency_name':'Agency',\n",
    "                            'n':'Number of Unqiue Prefix Codes'})\n",
    "            .head(5))\n",
    "    \n",
    "    display(HTML(\"<strong>Number of Unique Agencies by Prefix Codes</strong>\"))\n",
    "    display((_dla_utils.get_nunique(df, 'primary_agency_name', 'prefix'))\n",
    "            .rename(columns={'prefix':'Prefix',\n",
    "                            'n':'Number of Unqiue Agencies'})\n",
    "            .head(5))\n",
    "    \n",
    "    display(HTML(\"<strong>Top 5 Types of Work</strong>\"))\n",
    "    display((transit>>count(_.type_of_work)>>arrange(-_.n)>>select(_.type_of_work))\n",
    "            .rename(columns={'type_of_work':'Type of Work'})\n",
    "            .head(5))\n",
    "\n",
    "       \n",
    "    #Visual Charts\n",
    "\n",
    "    display(HTML(\"<h2>Number of Obligations</h2\"))\n",
    "    \n",
    "    #Line chart for Obligations by Year\n",
    "    chart_df = (df_top>>filter(_.variable=='prepared_y')).rename(columns= {\"value\":\"Year\"})\n",
    "    \n",
    "    chart1= (_dla_utils.basic_line_chart_test_no_save(chart_df, 'Year', 'count', subset, 'Obligations by Year')).encode(x=alt.X('Year:O', title='Prepared Year'))\n",
    "    \n",
    "    display(chart1)\n",
    "    \n",
    "    # Unique Agencies by Dist\n",
    "    dist_years_agency = ((\n",
    "        df\n",
    "        >> group_by(_.prepared_y, _.dist)\n",
    "        >> summarize(n=_.primary_agency_name.nunique())\n",
    "        >> arrange(-_.prepared_y)\n",
    "    )\n",
    "        .rename(columns={'dist':'District', 'n':'Count'})\n",
    "    )\n",
    "    \n",
    "\n",
    "    chart10 = (alt.Chart(dist_years_agency).mark_bar().encode(\n",
    "        column='District:N',\n",
    "        x=alt.X('prepared_y:O', title='Prepared Year'),\n",
    "        y=alt.Y('Count:Q', title='Number of Unique Agencies'),\n",
    "        color = alt.Color(\"District:N\", \n",
    "                              scale=alt.Scale(\n",
    "                                  range=altair_utils.CALITP_SEQUENTIAL_COLORS),  \n",
    "                               legend=alt.Legend(title=\"Prepared Year\")\n",
    "                              )\n",
    "                              ).properties( \n",
    "                       title=\"Number of Unique Agencies by District\"))\n",
    "    chart10 = styleguide.preset_chart_config(chart10)\n",
    "    chart10 = _dla_utils.add_tooltip(chart10, 'prepared_y', 'Count')\n",
    "    display(chart10)\n",
    "    \n",
    "  \n",
    "    #Bar chart Agencies With The Most Obligations\n",
    "    chart_df = (df_top>>filter(_.variable=='primary_agency_name')).rename(columns={\"value\":\"Agency\",\n",
    "                                 \"count\":\"Number of Obligations\"})\n",
    "    chart2= (_dla_utils.basic_bar_chart_no_save(chart_df, 'Agency', 'Number of Obligations', 'Agency', subset, 'Agencies With The Most Obligations'))\n",
    "    display(chart2)\n",
    "    \n",
    "    \n",
    "    display(HTML(\"<h2>Prefix Codes</h2>\"))\n",
    "    \n",
    "    # Unique Prefixes by Dist\n",
    "    dist_years_prefix = ((\n",
    "        df\n",
    "        >> group_by(_.prepared_y, _.dist)\n",
    "        >> summarize(n=_.prefix.nunique())\n",
    "        >> arrange(-_.prepared_y)\n",
    "    ).rename(columns={'dist':'District', 'n':'Count'}))\n",
    "\n",
    "    chart11 = (alt.Chart(dist_years_prefix).mark_bar().encode(\n",
    "        column='District:N',\n",
    "        x=alt.X('prepared_y:O', title='Prepared Year'),\n",
    "        y=alt.Y('Count:Q', title='Number of Unique Agencies'),\n",
    "        color = alt.Color(\"District:N\", \n",
    "                              scale=alt.Scale(\n",
    "                                  range=altair_utils.CALITP_SEQUENTIAL_COLORS),  \n",
    "                               legend=alt.Legend(title=\"District\")\n",
    "                              )\n",
    "                              ).properties( \n",
    "                       title=\"Number of Unique Prefix Codes by District\"))\n",
    "    chart11 = styleguide.preset_chart_config(chart11)\n",
    "    chart11 = _dla_utils.add_tooltip(chart11, 'prepared_y','Count')\n",
    "    display(chart11)\n",
    "\n",
    "    #Bar chart with the Most Used Prefix Counts\n",
    "    chart_df = (df_top>>filter(_.variable=='prefix')).rename(columns={\"value\":\"Prefix\",\n",
    "                                 \"count\":\"Number of Obligations\"})\n",
    "    chart9= (_dla_utils.basic_bar_chart_no_save(chart_df, 'Prefix', 'Number of Obligations', 'Prefix', subset, 'Most Used Prefix Codes'))\n",
    "    display(chart9)\n",
    "    \n",
    "    \n",
    "    #Bar chart Agencies With The Most Unique Prefix Codes\n",
    "    \n",
    "    chart3 = (_dla_utils.basic_bar_chart_no_save(((_dla_utils.get_nunique(df, 'prefix', 'primary_agency_name')).head(30)),\n",
    "                            'primary_agency_name', 'n', 'primary_agency_name', subset, 'Agencies With The Most Unique Prefix Codes'))\n",
    "    display(chart3)\n",
    "    \n",
    "    \n",
    "    display(HTML(\"<h2>Funding Distribution</h2>\"))\n",
    "    \n",
    "    #Bar chart Average Total Requested Funds by Agency\n",
    "    chart4=(_dla_utils.basic_bar_chart_no_save((((_dla_utils.calculate_data_all(df, 'adjusted_total_requested', 'primary_agency_name', aggfunc=\"mean\"))\n",
    "                          >>arrange(-_.adjusted_total_requested)).head(30)\n",
    "                        ), 'primary_agency_name','adjusted_total_requested', 'primary_agency_name', subset,\n",
    "                           'Average Total Requested Funds by Agency ($2021)'\n",
    "                       ))\n",
    "    display(chart4)\n",
    "    \n",
    "\n",
    "    \n",
    "    #Bar chart Bottom Average Total Requested Funds by Agency\n",
    "    avg_funds_bottom = (df>>group_by(_.primary_agency_name)>>summarize(avg_funds=_.adjusted_total_requested.mean())>>arrange(-_.avg_funds)).tail(50)\n",
    "\n",
    "    chart5=( _dla_utils.basic_bar_chart_no_save((avg_funds_bottom.tail(40)), 'primary_agency_name','avg_funds', 'primary_agency_name', subset, \n",
    "                          'Lowest Average Total Funds by Agency ($2021'))\n",
    "    display(chart5)\n",
    "    \n",
    "    # Bar chart Average Total Requested Funds by Prefix\n",
    "    chart8 = (_dla_utils.basic_bar_chart_no_save((((_dla_utils.calculate_data_all(df, 'adjusted_total_requested', 'prefix', aggfunc=\"mean\"))\n",
    "                          >>arrange(-_.adjusted_total_requested)).head(30)), 'prefix','adjusted_total_requested', 'prefix', subset,\n",
    "                           'Average Total Requested Funds by Prefix ($2021)'\n",
    "                       ))\n",
    "    display(chart8)\n",
    "    \n",
    "    \n",
    "    #work categories info and charts\n",
    "    display(HTML(\"<h2>Work Categories</h2>\"))\n",
    "\n",
    "    \n",
    "    # code help: https://stackoverflow.com/questions/50842160/how-to-display-matplotlib-plots-in-a-jupyter-tab-widget\n",
    "\n",
    "    out1 = widgets.Output()\n",
    "    out2 = widgets.Output()\n",
    "    out3 = widgets.Output()\n",
    "    out4 = widgets.Output()\n",
    "    out5 = widgets.Output()\n",
    "    out6 = widgets.Output()\n",
    "    out7 = widgets.Output()\n",
    "\n",
    "    # children2 = [widgets.Text(description=name) for name in work_cat]\n",
    "    # tab2 = widgets.Tab(children2)\n",
    "    tab2 = widgets.Tab(children = [out1, out2, out3, out4, out5, out6, out7])\n",
    "\n",
    "    tab2.set_title(0, \"Active Transportation\")\n",
    "    tab2.set_title(1, \"Transit\")\n",
    "    tab2.set_title(2, \"Bridge\")\n",
    "    tab2.set_title(3, \"Street\")\n",
    "    tab2.set_title(4, \"Freeway\")\n",
    "    tab2.set_title(5, \"Infrastructure & Emergency Relief\")\n",
    "    tab2.set_title(6, \"Congestion Relief\")\n",
    "\n",
    "    with out1:\n",
    "        _dla_utils.project_cat(df, 'active_transp') \n",
    "    with out2:\n",
    "        _dla_utils.project_cat(df, 'transit')\n",
    "    with out3: \n",
    "        _dla_utils.project_cat(df, 'bridge')\n",
    "    with out4:\n",
    "        _dla_utils.project_cat(df, 'street')\n",
    "    with out5:\n",
    "        _dla_utils.project_cat(df, 'freeway')\n",
    "    with out6:\n",
    "        _dla_utils.project_cat(df, 'infra_resiliency_er')\n",
    "    with out7:\n",
    "        _dla_utils.project_cat(df, 'congestion_relief')\n",
    "\n",
    "    display(tab2)\n",
    "    \n",
    "    "
   ]
  },
  {
   "cell_type": "code",
   "execution_count": 42,
   "id": "1ed31f63-ec22-4f02-b37d-0f6cf6cdb23d",
   "metadata": {
    "tags": [
     "parameter"
    ]
   },
   "outputs": [],
   "source": [
    "#parameters cell\n",
    "subset = 4"
   ]
  },
  {
   "cell_type": "code",
   "execution_count": 43,
   "id": "bf957840-296b-4ebf-99c8-8bc8ebae269a",
   "metadata": {
    "tags": []
   },
   "outputs": [
    {
     "data": {
      "text/html": [
       "<h1><strong>District 4 Analysis</strong></h1>"
      ],
      "text/plain": [
       "<IPython.core.display.HTML object>"
      ]
     },
     "metadata": {},
     "output_type": "display_data"
    },
    {
     "data": {
      "text/html": [
       "<h2>Quick Stats</h2>"
      ],
      "text/plain": [
       "<IPython.core.display.HTML object>"
      ]
     },
     "metadata": {},
     "output_type": "display_data"
    },
    {
     "data": {
      "text/html": [
       "There are <strong>151 Unique Agencies</strong>"
      ],
      "text/plain": [
       "<IPython.core.display.HTML object>"
      ]
     },
     "metadata": {},
     "output_type": "display_data"
    },
    {
     "data": {
      "text/html": [
       "Out of <strong>3420</strong> obligations, <strong>63 are transit-related</strong>."
      ],
      "text/plain": [
       "<IPython.core.display.HTML object>"
      ]
     },
     "metadata": {},
     "output_type": "display_data"
    },
    {
     "data": {
      "text/html": [
       "<strong>Metropolitan Transportation Commission</strong> has the <strong>highest transit</strong> obligations"
      ],
      "text/plain": [
       "<IPython.core.display.HTML object>"
      ]
     },
     "metadata": {},
     "output_type": "display_data"
    },
    {
     "data": {
      "text/html": [
       "There are <strong>8 agencies have over 93.00</strong> obligations (95th percentile) since 2011.0"
      ],
      "text/plain": [
       "<IPython.core.display.HTML object>"
      ]
     },
     "metadata": {},
     "output_type": "display_data"
    },
    {
     "data": {
      "text/html": [
       "There are <strong>9 agencies have less than 2.00</strong> obligations (5th percentile) since 2011.0"
      ],
      "text/plain": [
       "<IPython.core.display.HTML object>"
      ]
     },
     "metadata": {},
     "output_type": "display_data"
    },
    {
     "data": {
      "text/html": [
       "<strong>Number of Unique Prefix Codes by Agency</stromg>"
      ],
      "text/plain": [
       "<IPython.core.display.HTML object>"
      ]
     },
     "metadata": {},
     "output_type": "display_data"
    },
    {
     "data": {
      "text/html": [
       "<div>\n",
       "<style scoped>\n",
       "    .dataframe tbody tr th:only-of-type {\n",
       "        vertical-align: middle;\n",
       "    }\n",
       "\n",
       "    .dataframe tbody tr th {\n",
       "        vertical-align: top;\n",
       "    }\n",
       "\n",
       "    .dataframe thead th {\n",
       "        text-align: right;\n",
       "    }\n",
       "</style>\n",
       "<table border=\"1\" class=\"dataframe\">\n",
       "  <thead>\n",
       "    <tr style=\"text-align: right;\">\n",
       "      <th></th>\n",
       "      <th>Agency</th>\n",
       "      <th>Number of Unqiue Prefix Codes</th>\n",
       "    </tr>\n",
       "  </thead>\n",
       "  <tbody>\n",
       "    <tr>\n",
       "      <th>28</th>\n",
       "      <td>Contra Costa County</td>\n",
       "      <td>18</td>\n",
       "    </tr>\n",
       "    <tr>\n",
       "      <th>107</th>\n",
       "      <td>San Francisco County</td>\n",
       "      <td>17</td>\n",
       "    </tr>\n",
       "    <tr>\n",
       "      <th>110</th>\n",
       "      <td>San Jose</td>\n",
       "      <td>17</td>\n",
       "    </tr>\n",
       "    <tr>\n",
       "      <th>119</th>\n",
       "      <td>Santa Clara County</td>\n",
       "      <td>17</td>\n",
       "    </tr>\n",
       "    <tr>\n",
       "      <th>2</th>\n",
       "      <td>Alameda County</td>\n",
       "      <td>16</td>\n",
       "    </tr>\n",
       "  </tbody>\n",
       "</table>\n",
       "</div>"
      ],
      "text/plain": [
       "                   Agency  Number of Unqiue Prefix Codes\n",
       "28    Contra Costa County                             18\n",
       "107  San Francisco County                             17\n",
       "110              San Jose                             17\n",
       "119    Santa Clara County                             17\n",
       "2          Alameda County                             16"
      ]
     },
     "metadata": {},
     "output_type": "display_data"
    },
    {
     "data": {
      "text/html": [
       "<strong>Number of Unique Agencies by Prefix Codes</strong>"
      ],
      "text/plain": [
       "<IPython.core.display.HTML object>"
      ]
     },
     "metadata": {},
     "output_type": "display_data"
    },
    {
     "data": {
      "text/html": [
       "<div>\n",
       "<style scoped>\n",
       "    .dataframe tbody tr th:only-of-type {\n",
       "        vertical-align: middle;\n",
       "    }\n",
       "\n",
       "    .dataframe tbody tr th {\n",
       "        vertical-align: top;\n",
       "    }\n",
       "\n",
       "    .dataframe thead th {\n",
       "        text-align: right;\n",
       "    }\n",
       "</style>\n",
       "<table border=\"1\" class=\"dataframe\">\n",
       "  <thead>\n",
       "    <tr style=\"text-align: right;\">\n",
       "      <th></th>\n",
       "      <th>Prefix</th>\n",
       "      <th>Number of Unqiue Agencies</th>\n",
       "    </tr>\n",
       "  </thead>\n",
       "  <tbody>\n",
       "    <tr>\n",
       "      <th>91</th>\n",
       "      <td>STPL</td>\n",
       "      <td>112</td>\n",
       "    </tr>\n",
       "    <tr>\n",
       "      <th>19</th>\n",
       "      <td>CML</td>\n",
       "      <td>90</td>\n",
       "    </tr>\n",
       "    <tr>\n",
       "      <th>62</th>\n",
       "      <td>HSIPL</td>\n",
       "      <td>52</td>\n",
       "    </tr>\n",
       "    <tr>\n",
       "      <th>16</th>\n",
       "      <td>BRLS</td>\n",
       "      <td>32</td>\n",
       "    </tr>\n",
       "    <tr>\n",
       "      <th>75</th>\n",
       "      <td>RPSTPL</td>\n",
       "      <td>30</td>\n",
       "    </tr>\n",
       "  </tbody>\n",
       "</table>\n",
       "</div>"
      ],
      "text/plain": [
       "    Prefix  Number of Unqiue Agencies\n",
       "91    STPL                        112\n",
       "19     CML                         90\n",
       "62   HSIPL                         52\n",
       "16    BRLS                         32\n",
       "75  RPSTPL                         30"
      ]
     },
     "metadata": {},
     "output_type": "display_data"
    },
    {
     "data": {
      "text/html": [
       "<strong>Top 5 Types of Work</strong>"
      ],
      "text/plain": [
       "<IPython.core.display.HTML object>"
      ]
     },
     "metadata": {},
     "output_type": "display_data"
    },
    {
     "data": {
      "text/html": [
       "<div>\n",
       "<style scoped>\n",
       "    .dataframe tbody tr th:only-of-type {\n",
       "        vertical-align: middle;\n",
       "    }\n",
       "\n",
       "    .dataframe tbody tr th {\n",
       "        vertical-align: top;\n",
       "    }\n",
       "\n",
       "    .dataframe thead th {\n",
       "        text-align: right;\n",
       "    }\n",
       "</style>\n",
       "<table border=\"1\" class=\"dataframe\">\n",
       "  <thead>\n",
       "    <tr style=\"text-align: right;\">\n",
       "      <th></th>\n",
       "      <th>Type of Work</th>\n",
       "    </tr>\n",
       "  </thead>\n",
       "  <tbody>\n",
       "    <tr>\n",
       "      <th>6</th>\n",
       "      <td>Construct Pedestrian Safety And Transit Access</td>\n",
       "    </tr>\n",
       "    <tr>\n",
       "      <th>14</th>\n",
       "      <td>Implement Bike, Pedestrian, And Transit Access...</td>\n",
       "    </tr>\n",
       "    <tr>\n",
       "      <th>28</th>\n",
       "      <td>Ped. Crossing, Bike Racks, Bus Shelter</td>\n",
       "    </tr>\n",
       "    <tr>\n",
       "      <th>4</th>\n",
       "      <td>Clipper Fare Collection System Phase 3 (tc)</td>\n",
       "    </tr>\n",
       "    <tr>\n",
       "      <th>7</th>\n",
       "      <td>Construction Of Transit Center Depot Building</td>\n",
       "    </tr>\n",
       "  </tbody>\n",
       "</table>\n",
       "</div>"
      ],
      "text/plain": [
       "                                         Type of Work\n",
       "6      Construct Pedestrian Safety And Transit Access\n",
       "14  Implement Bike, Pedestrian, And Transit Access...\n",
       "28             Ped. Crossing, Bike Racks, Bus Shelter\n",
       "4         Clipper Fare Collection System Phase 3 (tc)\n",
       "7       Construction Of Transit Center Depot Building"
      ]
     },
     "metadata": {},
     "output_type": "display_data"
    },
    {
     "data": {
      "text/html": [
       "<h2>Number of Obligations</h2"
      ],
      "text/plain": [
       "<IPython.core.display.HTML object>"
      ]
     },
     "metadata": {},
     "output_type": "display_data"
    },
    {
     "data": {
      "text/html": [
       "\n",
       "<div id=\"altair-viz-f4252c0e57b0441baf864fef1f9c7d17\"></div>\n",
       "<script type=\"text/javascript\">\n",
       "  var VEGA_DEBUG = (typeof VEGA_DEBUG == \"undefined\") ? {} : VEGA_DEBUG;\n",
       "  (function(spec, embedOpt){\n",
       "    let outputDiv = document.currentScript.previousElementSibling;\n",
       "    if (outputDiv.id !== \"altair-viz-f4252c0e57b0441baf864fef1f9c7d17\") {\n",
       "      outputDiv = document.getElementById(\"altair-viz-f4252c0e57b0441baf864fef1f9c7d17\");\n",
       "    }\n",
       "    const paths = {\n",
       "      \"vega\": \"https://cdn.jsdelivr.net/npm//vega@5?noext\",\n",
       "      \"vega-lib\": \"https://cdn.jsdelivr.net/npm//vega-lib?noext\",\n",
       "      \"vega-lite\": \"https://cdn.jsdelivr.net/npm//vega-lite@4.17.0?noext\",\n",
       "      \"vega-embed\": \"https://cdn.jsdelivr.net/npm//vega-embed@6?noext\",\n",
       "    };\n",
       "\n",
       "    function maybeLoadScript(lib, version) {\n",
       "      var key = `${lib.replace(\"-\", \"\")}_version`;\n",
       "      return (VEGA_DEBUG[key] == version) ?\n",
       "        Promise.resolve(paths[lib]) :\n",
       "        new Promise(function(resolve, reject) {\n",
       "          var s = document.createElement('script');\n",
       "          document.getElementsByTagName(\"head\")[0].appendChild(s);\n",
       "          s.async = true;\n",
       "          s.onload = () => {\n",
       "            VEGA_DEBUG[key] = version;\n",
       "            return resolve(paths[lib]);\n",
       "          };\n",
       "          s.onerror = () => reject(`Error loading script: ${paths[lib]}`);\n",
       "          s.src = paths[lib];\n",
       "        });\n",
       "    }\n",
       "\n",
       "    function showError(err) {\n",
       "      outputDiv.innerHTML = `<div class=\"error\" style=\"color:red;\">${err}</div>`;\n",
       "      throw err;\n",
       "    }\n",
       "\n",
       "    function displayChart(vegaEmbed) {\n",
       "      vegaEmbed(outputDiv, spec, embedOpt)\n",
       "        .catch(err => showError(`Javascript Error: ${err.message}<br>This usually means there's a typo in your chart specification. See the javascript console for the full traceback.`));\n",
       "    }\n",
       "\n",
       "    if(typeof define === \"function\" && define.amd) {\n",
       "      requirejs.config({paths});\n",
       "      require([\"vega-embed\"], displayChart, err => showError(`Error loading script: ${err.message}`));\n",
       "    } else {\n",
       "      maybeLoadScript(\"vega\", \"5\")\n",
       "        .then(() => maybeLoadScript(\"vega-lite\", \"4.17.0\"))\n",
       "        .then(() => maybeLoadScript(\"vega-embed\", \"6\"))\n",
       "        .catch(showError)\n",
       "        .then(() => displayChart(vegaEmbed));\n",
       "    }\n",
       "  })({\"config\": {\"view\": {\"continuousWidth\": 400, \"continuousHeight\": 300}, \"axis\": {\"domainColor\": \"#cbcbcb\", \"grid\": true, \"gridColor\": \"#cbcbcb\", \"gridWidth\": 1, \"labelColor\": \"#474747\", \"labelFont\": \"Nunito Sans\", \"labelFontSize\": 10, \"labelPadding\": 4, \"tickColor\": \"#cbcbcb\", \"tickSize\": 10, \"titleColor\": \"#333\", \"titleFont\": \"Raleway\", \"titleFontSize\": 12, \"titlePadding\": 10}, \"axisBand\": {\"grid\": false}, \"background\": \"white\", \"font\": \"Raleway\", \"header\": {\"labelFont\": \"Nunito Sans\", \"titleFont\": \"Raleway\"}, \"legend\": {\"labelColor\": \"#333\", \"labelFont\": \"Nunito Sans\", \"labelFontSize\": 11, \"labelLimit\": 0, \"padding\": 1, \"symbolSize\": 30, \"symbolType\": \"square\", \"titleColor\": \"#333\", \"titleFont\": \"Raleway\", \"titleFontSize\": 14, \"titlePadding\": 10}, \"title\": {\"anchor\": \"middle\", \"font\": \"Raleway\", \"fontSize\": 18, \"fontWeight\": 300, \"offset\": 20}}, \"data\": {\"name\": \"data-f239b6d3d87ad97816b8cc314f960e9d\"}, \"mark\": \"line\", \"encoding\": {\"tooltip\": [{\"field\": \"Year\", \"type\": \"quantitative\"}, {\"field\": \"count\", \"type\": \"quantitative\"}], \"x\": {\"field\": \"Year\", \"title\": \"Prepared Year\", \"type\": \"ordinal\"}, \"y\": {\"field\": \"count\", \"title\": \"Count\", \"type\": \"quantitative\"}}, \"height\": 250, \"title\": \"Obligations by Year\", \"width\": 400, \"$schema\": \"https://vega.github.io/schema/vega-lite/v4.17.0.json\", \"datasets\": {\"data-f239b6d3d87ad97816b8cc314f960e9d\": [{\"Year\": 2014.0, \"count\": 487, \"variable\": \"prepared_y\"}, {\"Year\": 2018.0, \"count\": 454, \"variable\": \"prepared_y\"}, {\"Year\": 2015.0, \"count\": 449, \"variable\": \"prepared_y\"}, {\"Year\": 2016.0, \"count\": 414, \"variable\": \"prepared_y\"}, {\"Year\": 2021.0, \"count\": 409, \"variable\": \"prepared_y\"}, {\"Year\": 2019.0, \"count\": 400, \"variable\": \"prepared_y\"}, {\"Year\": 2017.0, \"count\": 367, \"variable\": \"prepared_y\"}, {\"Year\": 2020.0, \"count\": 286, \"variable\": \"prepared_y\"}, {\"Year\": 2022.0, \"count\": 109, \"variable\": \"prepared_y\"}, {\"Year\": 2013.0, \"count\": 38, \"variable\": \"prepared_y\"}, {\"Year\": 2012.0, \"count\": 4, \"variable\": \"prepared_y\"}, {\"Year\": 2011.0, \"count\": 1, \"variable\": \"prepared_y\"}]}}, {\"mode\": \"vega-lite\"});\n",
       "</script>"
      ],
      "text/plain": [
       "alt.Chart(...)"
      ]
     },
     "metadata": {},
     "output_type": "display_data"
    },
    {
     "data": {
      "text/html": [
       "\n",
       "<div id=\"altair-viz-537c84cea42340f6a06b4de0c21b796c\"></div>\n",
       "<script type=\"text/javascript\">\n",
       "  var VEGA_DEBUG = (typeof VEGA_DEBUG == \"undefined\") ? {} : VEGA_DEBUG;\n",
       "  (function(spec, embedOpt){\n",
       "    let outputDiv = document.currentScript.previousElementSibling;\n",
       "    if (outputDiv.id !== \"altair-viz-537c84cea42340f6a06b4de0c21b796c\") {\n",
       "      outputDiv = document.getElementById(\"altair-viz-537c84cea42340f6a06b4de0c21b796c\");\n",
       "    }\n",
       "    const paths = {\n",
       "      \"vega\": \"https://cdn.jsdelivr.net/npm//vega@5?noext\",\n",
       "      \"vega-lib\": \"https://cdn.jsdelivr.net/npm//vega-lib?noext\",\n",
       "      \"vega-lite\": \"https://cdn.jsdelivr.net/npm//vega-lite@4.17.0?noext\",\n",
       "      \"vega-embed\": \"https://cdn.jsdelivr.net/npm//vega-embed@6?noext\",\n",
       "    };\n",
       "\n",
       "    function maybeLoadScript(lib, version) {\n",
       "      var key = `${lib.replace(\"-\", \"\")}_version`;\n",
       "      return (VEGA_DEBUG[key] == version) ?\n",
       "        Promise.resolve(paths[lib]) :\n",
       "        new Promise(function(resolve, reject) {\n",
       "          var s = document.createElement('script');\n",
       "          document.getElementsByTagName(\"head\")[0].appendChild(s);\n",
       "          s.async = true;\n",
       "          s.onload = () => {\n",
       "            VEGA_DEBUG[key] = version;\n",
       "            return resolve(paths[lib]);\n",
       "          };\n",
       "          s.onerror = () => reject(`Error loading script: ${paths[lib]}`);\n",
       "          s.src = paths[lib];\n",
       "        });\n",
       "    }\n",
       "\n",
       "    function showError(err) {\n",
       "      outputDiv.innerHTML = `<div class=\"error\" style=\"color:red;\">${err}</div>`;\n",
       "      throw err;\n",
       "    }\n",
       "\n",
       "    function displayChart(vegaEmbed) {\n",
       "      vegaEmbed(outputDiv, spec, embedOpt)\n",
       "        .catch(err => showError(`Javascript Error: ${err.message}<br>This usually means there's a typo in your chart specification. See the javascript console for the full traceback.`));\n",
       "    }\n",
       "\n",
       "    if(typeof define === \"function\" && define.amd) {\n",
       "      requirejs.config({paths});\n",
       "      require([\"vega-embed\"], displayChart, err => showError(`Error loading script: ${err.message}`));\n",
       "    } else {\n",
       "      maybeLoadScript(\"vega\", \"5\")\n",
       "        .then(() => maybeLoadScript(\"vega-lite\", \"4.17.0\"))\n",
       "        .then(() => maybeLoadScript(\"vega-embed\", \"6\"))\n",
       "        .catch(showError)\n",
       "        .then(() => displayChart(vegaEmbed));\n",
       "    }\n",
       "  })({\"config\": {\"view\": {\"continuousWidth\": 400, \"continuousHeight\": 300}, \"axis\": {\"domainColor\": \"#cbcbcb\", \"grid\": true, \"gridColor\": \"#cbcbcb\", \"gridWidth\": 1, \"labelColor\": \"#474747\", \"labelFont\": \"Nunito Sans\", \"labelFontSize\": 10, \"labelPadding\": 4, \"tickColor\": \"#cbcbcb\", \"tickSize\": 10, \"titleColor\": \"#333\", \"titleFont\": \"Raleway\", \"titleFontSize\": 12, \"titlePadding\": 10}, \"axisBand\": {\"grid\": false}, \"background\": \"white\", \"font\": \"Raleway\", \"header\": {\"labelFont\": \"Nunito Sans\", \"titleFont\": \"Raleway\"}, \"legend\": {\"labelColor\": \"#333\", \"labelFont\": \"Nunito Sans\", \"labelFontSize\": 11, \"labelLimit\": 0, \"padding\": 1, \"symbolSize\": 30, \"symbolType\": \"square\", \"titleColor\": \"#333\", \"titleFont\": \"Raleway\", \"titleFontSize\": 14, \"titlePadding\": 10}, \"title\": {\"anchor\": \"middle\", \"font\": \"Raleway\", \"fontSize\": 18, \"fontWeight\": 300, \"offset\": 20}}, \"data\": {\"name\": \"data-810c0b657e06f60c92c15ef9d6c93f36\"}, \"mark\": \"bar\", \"encoding\": {\"color\": {\"field\": \"District\", \"legend\": {\"title\": \"Prepared Year\"}, \"scale\": {\"range\": [\"#B9D6DF\", \"#8CBCCB\", \"#2EA8CE\", \"#136C97\", \"#0B405B\"]}, \"type\": \"nominal\"}, \"column\": {\"field\": \"District\", \"type\": \"nominal\"}, \"tooltip\": [{\"field\": \"prepared_y\", \"type\": \"quantitative\"}, {\"field\": \"Count\", \"type\": \"quantitative\"}], \"x\": {\"field\": \"prepared_y\", \"title\": \"Prepared Year\", \"type\": \"ordinal\"}, \"y\": {\"field\": \"Count\", \"title\": \"Number of Unique Agencies\", \"type\": \"quantitative\"}}, \"height\": 250, \"title\": \"Number of Unique Agencies by District\", \"width\": 400, \"$schema\": \"https://vega.github.io/schema/vega-lite/v4.17.0.json\", \"datasets\": {\"data-810c0b657e06f60c92c15ef9d6c93f36\": [{\"prepared_y\": 2022.0, \"District\": 4, \"Count\": 54}, {\"prepared_y\": 2021.0, \"District\": 4, \"Count\": 102}, {\"prepared_y\": 2020.0, \"District\": 4, \"Count\": 89}, {\"prepared_y\": 2019.0, \"District\": 4, \"Count\": 93}, {\"prepared_y\": 2018.0, \"District\": 4, \"Count\": 97}, {\"prepared_y\": 2017.0, \"District\": 4, \"Count\": 97}, {\"prepared_y\": 2016.0, \"District\": 4, \"Count\": 113}, {\"prepared_y\": 2015.0, \"District\": 4, \"Count\": 109}, {\"prepared_y\": 2014.0, \"District\": 4, \"Count\": 108}, {\"prepared_y\": 2013.0, \"District\": 4, \"Count\": 28}, {\"prepared_y\": 2012.0, \"District\": 4, \"Count\": 3}, {\"prepared_y\": 2011.0, \"District\": 4, \"Count\": 1}]}}, {\"mode\": \"vega-lite\"});\n",
       "</script>"
      ],
      "text/plain": [
       "alt.Chart(...)"
      ]
     },
     "metadata": {},
     "output_type": "display_data"
    },
    {
     "data": {
      "text/html": [
       "\n",
       "<div id=\"altair-viz-12ae33878083467aa363f09673ec4373\"></div>\n",
       "<script type=\"text/javascript\">\n",
       "  var VEGA_DEBUG = (typeof VEGA_DEBUG == \"undefined\") ? {} : VEGA_DEBUG;\n",
       "  (function(spec, embedOpt){\n",
       "    let outputDiv = document.currentScript.previousElementSibling;\n",
       "    if (outputDiv.id !== \"altair-viz-12ae33878083467aa363f09673ec4373\") {\n",
       "      outputDiv = document.getElementById(\"altair-viz-12ae33878083467aa363f09673ec4373\");\n",
       "    }\n",
       "    const paths = {\n",
       "      \"vega\": \"https://cdn.jsdelivr.net/npm//vega@5?noext\",\n",
       "      \"vega-lib\": \"https://cdn.jsdelivr.net/npm//vega-lib?noext\",\n",
       "      \"vega-lite\": \"https://cdn.jsdelivr.net/npm//vega-lite@4.17.0?noext\",\n",
       "      \"vega-embed\": \"https://cdn.jsdelivr.net/npm//vega-embed@6?noext\",\n",
       "    };\n",
       "\n",
       "    function maybeLoadScript(lib, version) {\n",
       "      var key = `${lib.replace(\"-\", \"\")}_version`;\n",
       "      return (VEGA_DEBUG[key] == version) ?\n",
       "        Promise.resolve(paths[lib]) :\n",
       "        new Promise(function(resolve, reject) {\n",
       "          var s = document.createElement('script');\n",
       "          document.getElementsByTagName(\"head\")[0].appendChild(s);\n",
       "          s.async = true;\n",
       "          s.onload = () => {\n",
       "            VEGA_DEBUG[key] = version;\n",
       "            return resolve(paths[lib]);\n",
       "          };\n",
       "          s.onerror = () => reject(`Error loading script: ${paths[lib]}`);\n",
       "          s.src = paths[lib];\n",
       "        });\n",
       "    }\n",
       "\n",
       "    function showError(err) {\n",
       "      outputDiv.innerHTML = `<div class=\"error\" style=\"color:red;\">${err}</div>`;\n",
       "      throw err;\n",
       "    }\n",
       "\n",
       "    function displayChart(vegaEmbed) {\n",
       "      vegaEmbed(outputDiv, spec, embedOpt)\n",
       "        .catch(err => showError(`Javascript Error: ${err.message}<br>This usually means there's a typo in your chart specification. See the javascript console for the full traceback.`));\n",
       "    }\n",
       "\n",
       "    if(typeof define === \"function\" && define.amd) {\n",
       "      requirejs.config({paths});\n",
       "      require([\"vega-embed\"], displayChart, err => showError(`Error loading script: ${err.message}`));\n",
       "    } else {\n",
       "      maybeLoadScript(\"vega\", \"5\")\n",
       "        .then(() => maybeLoadScript(\"vega-lite\", \"4.17.0\"))\n",
       "        .then(() => maybeLoadScript(\"vega-embed\", \"6\"))\n",
       "        .catch(showError)\n",
       "        .then(() => displayChart(vegaEmbed));\n",
       "    }\n",
       "  })({\"config\": {\"view\": {\"continuousWidth\": 400, \"continuousHeight\": 300}, \"axis\": {\"domainColor\": \"#cbcbcb\", \"grid\": true, \"gridColor\": \"#cbcbcb\", \"gridWidth\": 1, \"labelColor\": \"#474747\", \"labelFont\": \"Nunito Sans\", \"labelFontSize\": 10, \"labelPadding\": 4, \"tickColor\": \"#cbcbcb\", \"tickSize\": 10, \"titleColor\": \"#333\", \"titleFont\": \"Raleway\", \"titleFontSize\": 12, \"titlePadding\": 10}, \"axisBand\": {\"grid\": false}, \"background\": \"white\", \"font\": \"Raleway\", \"header\": {\"labelFont\": \"Nunito Sans\", \"titleFont\": \"Raleway\"}, \"legend\": {\"labelColor\": \"#333\", \"labelFont\": \"Nunito Sans\", \"labelFontSize\": 11, \"labelLimit\": 0, \"padding\": 1, \"symbolSize\": 30, \"symbolType\": \"square\", \"titleColor\": \"#333\", \"titleFont\": \"Raleway\", \"titleFontSize\": 14, \"titlePadding\": 10}, \"title\": {\"anchor\": \"middle\", \"font\": \"Raleway\", \"fontSize\": 18, \"fontWeight\": 300, \"offset\": 20}}, \"data\": {\"name\": \"data-055116b2fdc0ef05abef41e5342646b4\"}, \"mark\": \"bar\", \"encoding\": {\"color\": {\"field\": \"Agency\", \"legend\": {\"symbolLimit\": 10, \"title\": \"Agency\"}, \"scale\": {\"range\": [\"#2EA8CE\", \"#EB9F3C\", \"#F4D837\", \"#51BF9D\", \"#8CBCCB\", \"#9487C0\"]}, \"type\": \"nominal\"}, \"tooltip\": [{\"field\": \"Agency\", \"type\": \"nominal\"}, {\"field\": \"Number of Obligations\", \"type\": \"quantitative\"}], \"x\": {\"field\": \"Agency\", \"sort\": \"-y\", \"title\": \"Agency\", \"type\": \"nominal\"}, \"y\": {\"field\": \"Number of Obligations\", \"title\": \"Number Of Obligations\", \"type\": \"quantitative\"}}, \"height\": 250, \"title\": \"Agencies With The Most Obligations\", \"width\": 400, \"$schema\": \"https://vega.github.io/schema/vega-lite/v4.17.0.json\", \"datasets\": {\"data-055116b2fdc0ef05abef41e5342646b4\": [{\"Agency\": \"Contra Costa County\", \"Number of Obligations\": 154, \"variable\": \"primary_agency_name\"}, {\"Agency\": \"Oakland\", \"Number of Obligations\": 145, \"variable\": \"primary_agency_name\"}, {\"Agency\": \"Metropolitan Transportation Commission\", \"Number of Obligations\": 144, \"variable\": \"primary_agency_name\"}, {\"Agency\": \"San Jose\", \"Number of Obligations\": 137, \"variable\": \"primary_agency_name\"}, {\"Agency\": \"Santa Clara County\", \"Number of Obligations\": 133, \"variable\": \"primary_agency_name\"}, {\"Agency\": \"Napa County\", \"Number of Obligations\": 115, \"variable\": \"primary_agency_name\"}, {\"Agency\": \"Sonoma County\", \"Number of Obligations\": 99, \"variable\": \"primary_agency_name\"}, {\"Agency\": \"City & County of San Francisco, MTA/Parking & Traffic\", \"Number of Obligations\": 96, \"variable\": \"primary_agency_name\"}, {\"Agency\": \"Marin County\", \"Number of Obligations\": 90, \"variable\": \"primary_agency_name\"}, {\"Agency\": \"Sunnyvale\", \"Number of Obligations\": 88, \"variable\": \"primary_agency_name\"}, {\"Agency\": \"Alameda County\", \"Number of Obligations\": 85, \"variable\": \"primary_agency_name\"}, {\"Agency\": \"San Francisco County\", \"Number of Obligations\": 79, \"variable\": \"primary_agency_name\"}, {\"Agency\": \"Solano County\", \"Number of Obligations\": 70, \"variable\": \"primary_agency_name\"}, {\"Agency\": \"Santa Clara Valley Transportation Authority\", \"Number of Obligations\": 56, \"variable\": \"primary_agency_name\"}, {\"Agency\": \"Vacaville\", \"Number of Obligations\": 48, \"variable\": \"primary_agency_name\"}, {\"Agency\": \"Fremont\", \"Number of Obligations\": 46, \"variable\": \"primary_agency_name\"}, {\"Agency\": \"Golden Gate Bridge, Highway And Transportation Distri\", \"Number of Obligations\": 44, \"variable\": \"primary_agency_name\"}, {\"Agency\": \"San Francisco Bay Area Rapid Transit District\", \"Number of Obligations\": 41, \"variable\": \"primary_agency_name\"}, {\"Agency\": \"Concord\", \"Number of Obligations\": 39, \"variable\": \"primary_agency_name\"}, {\"Agency\": \"Vallejo\", \"Number of Obligations\": 37, \"variable\": \"primary_agency_name\"}]}}, {\"mode\": \"vega-lite\"});\n",
       "</script>"
      ],
      "text/plain": [
       "alt.Chart(...)"
      ]
     },
     "metadata": {},
     "output_type": "display_data"
    },
    {
     "data": {
      "text/html": [
       "<h2>Prefix Codes</h2>"
      ],
      "text/plain": [
       "<IPython.core.display.HTML object>"
      ]
     },
     "metadata": {},
     "output_type": "display_data"
    },
    {
     "data": {
      "text/html": [
       "\n",
       "<div id=\"altair-viz-3cbb316426b84d9890bdcd62208b444d\"></div>\n",
       "<script type=\"text/javascript\">\n",
       "  var VEGA_DEBUG = (typeof VEGA_DEBUG == \"undefined\") ? {} : VEGA_DEBUG;\n",
       "  (function(spec, embedOpt){\n",
       "    let outputDiv = document.currentScript.previousElementSibling;\n",
       "    if (outputDiv.id !== \"altair-viz-3cbb316426b84d9890bdcd62208b444d\") {\n",
       "      outputDiv = document.getElementById(\"altair-viz-3cbb316426b84d9890bdcd62208b444d\");\n",
       "    }\n",
       "    const paths = {\n",
       "      \"vega\": \"https://cdn.jsdelivr.net/npm//vega@5?noext\",\n",
       "      \"vega-lib\": \"https://cdn.jsdelivr.net/npm//vega-lib?noext\",\n",
       "      \"vega-lite\": \"https://cdn.jsdelivr.net/npm//vega-lite@4.17.0?noext\",\n",
       "      \"vega-embed\": \"https://cdn.jsdelivr.net/npm//vega-embed@6?noext\",\n",
       "    };\n",
       "\n",
       "    function maybeLoadScript(lib, version) {\n",
       "      var key = `${lib.replace(\"-\", \"\")}_version`;\n",
       "      return (VEGA_DEBUG[key] == version) ?\n",
       "        Promise.resolve(paths[lib]) :\n",
       "        new Promise(function(resolve, reject) {\n",
       "          var s = document.createElement('script');\n",
       "          document.getElementsByTagName(\"head\")[0].appendChild(s);\n",
       "          s.async = true;\n",
       "          s.onload = () => {\n",
       "            VEGA_DEBUG[key] = version;\n",
       "            return resolve(paths[lib]);\n",
       "          };\n",
       "          s.onerror = () => reject(`Error loading script: ${paths[lib]}`);\n",
       "          s.src = paths[lib];\n",
       "        });\n",
       "    }\n",
       "\n",
       "    function showError(err) {\n",
       "      outputDiv.innerHTML = `<div class=\"error\" style=\"color:red;\">${err}</div>`;\n",
       "      throw err;\n",
       "    }\n",
       "\n",
       "    function displayChart(vegaEmbed) {\n",
       "      vegaEmbed(outputDiv, spec, embedOpt)\n",
       "        .catch(err => showError(`Javascript Error: ${err.message}<br>This usually means there's a typo in your chart specification. See the javascript console for the full traceback.`));\n",
       "    }\n",
       "\n",
       "    if(typeof define === \"function\" && define.amd) {\n",
       "      requirejs.config({paths});\n",
       "      require([\"vega-embed\"], displayChart, err => showError(`Error loading script: ${err.message}`));\n",
       "    } else {\n",
       "      maybeLoadScript(\"vega\", \"5\")\n",
       "        .then(() => maybeLoadScript(\"vega-lite\", \"4.17.0\"))\n",
       "        .then(() => maybeLoadScript(\"vega-embed\", \"6\"))\n",
       "        .catch(showError)\n",
       "        .then(() => displayChart(vegaEmbed));\n",
       "    }\n",
       "  })({\"config\": {\"view\": {\"continuousWidth\": 400, \"continuousHeight\": 300}, \"axis\": {\"domainColor\": \"#cbcbcb\", \"grid\": true, \"gridColor\": \"#cbcbcb\", \"gridWidth\": 1, \"labelColor\": \"#474747\", \"labelFont\": \"Nunito Sans\", \"labelFontSize\": 10, \"labelPadding\": 4, \"tickColor\": \"#cbcbcb\", \"tickSize\": 10, \"titleColor\": \"#333\", \"titleFont\": \"Raleway\", \"titleFontSize\": 12, \"titlePadding\": 10}, \"axisBand\": {\"grid\": false}, \"background\": \"white\", \"font\": \"Raleway\", \"header\": {\"labelFont\": \"Nunito Sans\", \"titleFont\": \"Raleway\"}, \"legend\": {\"labelColor\": \"#333\", \"labelFont\": \"Nunito Sans\", \"labelFontSize\": 11, \"labelLimit\": 0, \"padding\": 1, \"symbolSize\": 30, \"symbolType\": \"square\", \"titleColor\": \"#333\", \"titleFont\": \"Raleway\", \"titleFontSize\": 14, \"titlePadding\": 10}, \"title\": {\"anchor\": \"middle\", \"font\": \"Raleway\", \"fontSize\": 18, \"fontWeight\": 300, \"offset\": 20}}, \"data\": {\"name\": \"data-989356d9094a6c6cdacdf80dea19492c\"}, \"mark\": \"bar\", \"encoding\": {\"color\": {\"field\": \"District\", \"legend\": {\"title\": \"District\"}, \"scale\": {\"range\": [\"#B9D6DF\", \"#8CBCCB\", \"#2EA8CE\", \"#136C97\", \"#0B405B\"]}, \"type\": \"nominal\"}, \"column\": {\"field\": \"District\", \"type\": \"nominal\"}, \"tooltip\": [{\"field\": \"prepared_y\", \"type\": \"quantitative\"}, {\"field\": \"Count\", \"type\": \"quantitative\"}], \"x\": {\"field\": \"prepared_y\", \"title\": \"Prepared Year\", \"type\": \"ordinal\"}, \"y\": {\"field\": \"Count\", \"title\": \"Number of Unique Agencies\", \"type\": \"quantitative\"}}, \"height\": 250, \"title\": \"Number of Unique Prefix Codes by District\", \"width\": 400, \"$schema\": \"https://vega.github.io/schema/vega-lite/v4.17.0.json\", \"datasets\": {\"data-989356d9094a6c6cdacdf80dea19492c\": [{\"prepared_y\": 2022.0, \"District\": 4, \"Count\": 21}, {\"prepared_y\": 2021.0, \"District\": 4, \"Count\": 42}, {\"prepared_y\": 2020.0, \"District\": 4, \"Count\": 34}, {\"prepared_y\": 2019.0, \"District\": 4, \"Count\": 41}, {\"prepared_y\": 2018.0, \"District\": 4, \"Count\": 51}, {\"prepared_y\": 2017.0, \"District\": 4, \"Count\": 43}, {\"prepared_y\": 2016.0, \"District\": 4, \"Count\": 50}, {\"prepared_y\": 2015.0, \"District\": 4, \"Count\": 48}, {\"prepared_y\": 2014.0, \"District\": 4, \"Count\": 52}, {\"prepared_y\": 2013.0, \"District\": 4, \"Count\": 15}, {\"prepared_y\": 2012.0, \"District\": 4, \"Count\": 2}, {\"prepared_y\": 2011.0, \"District\": 4, \"Count\": 1}]}}, {\"mode\": \"vega-lite\"});\n",
       "</script>"
      ],
      "text/plain": [
       "alt.Chart(...)"
      ]
     },
     "metadata": {},
     "output_type": "display_data"
    },
    {
     "data": {
      "text/html": [
       "\n",
       "<div id=\"altair-viz-3916bff16d92461dac5d2020191e1e7f\"></div>\n",
       "<script type=\"text/javascript\">\n",
       "  var VEGA_DEBUG = (typeof VEGA_DEBUG == \"undefined\") ? {} : VEGA_DEBUG;\n",
       "  (function(spec, embedOpt){\n",
       "    let outputDiv = document.currentScript.previousElementSibling;\n",
       "    if (outputDiv.id !== \"altair-viz-3916bff16d92461dac5d2020191e1e7f\") {\n",
       "      outputDiv = document.getElementById(\"altair-viz-3916bff16d92461dac5d2020191e1e7f\");\n",
       "    }\n",
       "    const paths = {\n",
       "      \"vega\": \"https://cdn.jsdelivr.net/npm//vega@5?noext\",\n",
       "      \"vega-lib\": \"https://cdn.jsdelivr.net/npm//vega-lib?noext\",\n",
       "      \"vega-lite\": \"https://cdn.jsdelivr.net/npm//vega-lite@4.17.0?noext\",\n",
       "      \"vega-embed\": \"https://cdn.jsdelivr.net/npm//vega-embed@6?noext\",\n",
       "    };\n",
       "\n",
       "    function maybeLoadScript(lib, version) {\n",
       "      var key = `${lib.replace(\"-\", \"\")}_version`;\n",
       "      return (VEGA_DEBUG[key] == version) ?\n",
       "        Promise.resolve(paths[lib]) :\n",
       "        new Promise(function(resolve, reject) {\n",
       "          var s = document.createElement('script');\n",
       "          document.getElementsByTagName(\"head\")[0].appendChild(s);\n",
       "          s.async = true;\n",
       "          s.onload = () => {\n",
       "            VEGA_DEBUG[key] = version;\n",
       "            return resolve(paths[lib]);\n",
       "          };\n",
       "          s.onerror = () => reject(`Error loading script: ${paths[lib]}`);\n",
       "          s.src = paths[lib];\n",
       "        });\n",
       "    }\n",
       "\n",
       "    function showError(err) {\n",
       "      outputDiv.innerHTML = `<div class=\"error\" style=\"color:red;\">${err}</div>`;\n",
       "      throw err;\n",
       "    }\n",
       "\n",
       "    function displayChart(vegaEmbed) {\n",
       "      vegaEmbed(outputDiv, spec, embedOpt)\n",
       "        .catch(err => showError(`Javascript Error: ${err.message}<br>This usually means there's a typo in your chart specification. See the javascript console for the full traceback.`));\n",
       "    }\n",
       "\n",
       "    if(typeof define === \"function\" && define.amd) {\n",
       "      requirejs.config({paths});\n",
       "      require([\"vega-embed\"], displayChart, err => showError(`Error loading script: ${err.message}`));\n",
       "    } else {\n",
       "      maybeLoadScript(\"vega\", \"5\")\n",
       "        .then(() => maybeLoadScript(\"vega-lite\", \"4.17.0\"))\n",
       "        .then(() => maybeLoadScript(\"vega-embed\", \"6\"))\n",
       "        .catch(showError)\n",
       "        .then(() => displayChart(vegaEmbed));\n",
       "    }\n",
       "  })({\"config\": {\"view\": {\"continuousWidth\": 400, \"continuousHeight\": 300}, \"axis\": {\"domainColor\": \"#cbcbcb\", \"grid\": true, \"gridColor\": \"#cbcbcb\", \"gridWidth\": 1, \"labelColor\": \"#474747\", \"labelFont\": \"Nunito Sans\", \"labelFontSize\": 10, \"labelPadding\": 4, \"tickColor\": \"#cbcbcb\", \"tickSize\": 10, \"titleColor\": \"#333\", \"titleFont\": \"Raleway\", \"titleFontSize\": 12, \"titlePadding\": 10}, \"axisBand\": {\"grid\": false}, \"background\": \"white\", \"font\": \"Raleway\", \"header\": {\"labelFont\": \"Nunito Sans\", \"titleFont\": \"Raleway\"}, \"legend\": {\"labelColor\": \"#333\", \"labelFont\": \"Nunito Sans\", \"labelFontSize\": 11, \"labelLimit\": 0, \"padding\": 1, \"symbolSize\": 30, \"symbolType\": \"square\", \"titleColor\": \"#333\", \"titleFont\": \"Raleway\", \"titleFontSize\": 14, \"titlePadding\": 10}, \"title\": {\"anchor\": \"middle\", \"font\": \"Raleway\", \"fontSize\": 18, \"fontWeight\": 300, \"offset\": 20}}, \"data\": {\"name\": \"data-6c42defd59770eae27557206359e814c\"}, \"mark\": \"bar\", \"encoding\": {\"color\": {\"field\": \"Prefix\", \"legend\": {\"symbolLimit\": 10, \"title\": \"Prefix\"}, \"scale\": {\"range\": [\"#2EA8CE\", \"#EB9F3C\", \"#F4D837\", \"#51BF9D\", \"#8CBCCB\", \"#9487C0\"]}, \"type\": \"nominal\"}, \"tooltip\": [{\"field\": \"Prefix\", \"type\": \"nominal\"}, {\"field\": \"Number of Obligations\", \"type\": \"quantitative\"}], \"x\": {\"field\": \"Prefix\", \"sort\": \"-y\", \"title\": \"Prefix\", \"type\": \"nominal\"}, \"y\": {\"field\": \"Number of Obligations\", \"title\": \"Number Of Obligations\", \"type\": \"quantitative\"}}, \"height\": 250, \"title\": \"Most Used Prefix Codes\", \"width\": 400, \"$schema\": \"https://vega.github.io/schema/vega-lite/v4.17.0.json\", \"datasets\": {\"data-6c42defd59770eae27557206359e814c\": [{\"Prefix\": \"STPL\", \"Number of Obligations\": 672, \"variable\": \"prefix\"}, {\"Prefix\": \"CML\", \"Number of Obligations\": 552, \"variable\": \"prefix\"}, {\"Prefix\": \"HSIPL\", \"Number of Obligations\": 458, \"variable\": \"prefix\"}, {\"Prefix\": \"BRLS\", \"Number of Obligations\": 170, \"variable\": \"prefix\"}, {\"Prefix\": \"ER\", \"Number of Obligations\": 146, \"variable\": \"prefix\"}, {\"Prefix\": \"BRLO\", \"Number of Obligations\": 129, \"variable\": \"prefix\"}, {\"Prefix\": \"STPLZ\", \"Number of Obligations\": 123, \"variable\": \"prefix\"}, {\"Prefix\": \"RPSTPL\", \"Number of Obligations\": 95, \"variable\": \"prefix\"}, {\"Prefix\": \"BPMP\", \"Number of Obligations\": 94, \"variable\": \"prefix\"}, {\"Prefix\": \"ATPL\", \"Number of Obligations\": 89, \"variable\": \"prefix\"}, {\"Prefix\": \"HPLUL\", \"Number of Obligations\": 83, \"variable\": \"prefix\"}, {\"Prefix\": \"BHLS\", \"Number of Obligations\": 65, \"variable\": \"prefix\"}, {\"Prefix\": \"SRTSL\", \"Number of Obligations\": 63, \"variable\": \"prefix\"}, {\"Prefix\": \"CMLNI\", \"Number of Obligations\": 52, \"variable\": \"prefix\"}, {\"Prefix\": \"FTASTPL\", \"Number of Obligations\": 48, \"variable\": \"prefix\"}, {\"Prefix\": \"STPLNI\", \"Number of Obligations\": 42, \"variable\": \"prefix\"}, {\"Prefix\": \"HRRRL\", \"Number of Obligations\": 38, \"variable\": \"prefix\"}, {\"Prefix\": \"ACSTP\", \"Number of Obligations\": 36, \"variable\": \"prefix\"}, {\"Prefix\": \"FTACML\", \"Number of Obligations\": 33, \"variable\": \"prefix\"}, {\"Prefix\": \"BHLO\", \"Number of Obligations\": 31, \"variable\": \"prefix\"}]}}, {\"mode\": \"vega-lite\"});\n",
       "</script>"
      ],
      "text/plain": [
       "alt.Chart(...)"
      ]
     },
     "metadata": {},
     "output_type": "display_data"
    },
    {
     "data": {
      "text/html": [
       "\n",
       "<div id=\"altair-viz-de06be1b7aa942abbeb2ef3252771b41\"></div>\n",
       "<script type=\"text/javascript\">\n",
       "  var VEGA_DEBUG = (typeof VEGA_DEBUG == \"undefined\") ? {} : VEGA_DEBUG;\n",
       "  (function(spec, embedOpt){\n",
       "    let outputDiv = document.currentScript.previousElementSibling;\n",
       "    if (outputDiv.id !== \"altair-viz-de06be1b7aa942abbeb2ef3252771b41\") {\n",
       "      outputDiv = document.getElementById(\"altair-viz-de06be1b7aa942abbeb2ef3252771b41\");\n",
       "    }\n",
       "    const paths = {\n",
       "      \"vega\": \"https://cdn.jsdelivr.net/npm//vega@5?noext\",\n",
       "      \"vega-lib\": \"https://cdn.jsdelivr.net/npm//vega-lib?noext\",\n",
       "      \"vega-lite\": \"https://cdn.jsdelivr.net/npm//vega-lite@4.17.0?noext\",\n",
       "      \"vega-embed\": \"https://cdn.jsdelivr.net/npm//vega-embed@6?noext\",\n",
       "    };\n",
       "\n",
       "    function maybeLoadScript(lib, version) {\n",
       "      var key = `${lib.replace(\"-\", \"\")}_version`;\n",
       "      return (VEGA_DEBUG[key] == version) ?\n",
       "        Promise.resolve(paths[lib]) :\n",
       "        new Promise(function(resolve, reject) {\n",
       "          var s = document.createElement('script');\n",
       "          document.getElementsByTagName(\"head\")[0].appendChild(s);\n",
       "          s.async = true;\n",
       "          s.onload = () => {\n",
       "            VEGA_DEBUG[key] = version;\n",
       "            return resolve(paths[lib]);\n",
       "          };\n",
       "          s.onerror = () => reject(`Error loading script: ${paths[lib]}`);\n",
       "          s.src = paths[lib];\n",
       "        });\n",
       "    }\n",
       "\n",
       "    function showError(err) {\n",
       "      outputDiv.innerHTML = `<div class=\"error\" style=\"color:red;\">${err}</div>`;\n",
       "      throw err;\n",
       "    }\n",
       "\n",
       "    function displayChart(vegaEmbed) {\n",
       "      vegaEmbed(outputDiv, spec, embedOpt)\n",
       "        .catch(err => showError(`Javascript Error: ${err.message}<br>This usually means there's a typo in your chart specification. See the javascript console for the full traceback.`));\n",
       "    }\n",
       "\n",
       "    if(typeof define === \"function\" && define.amd) {\n",
       "      requirejs.config({paths});\n",
       "      require([\"vega-embed\"], displayChart, err => showError(`Error loading script: ${err.message}`));\n",
       "    } else {\n",
       "      maybeLoadScript(\"vega\", \"5\")\n",
       "        .then(() => maybeLoadScript(\"vega-lite\", \"4.17.0\"))\n",
       "        .then(() => maybeLoadScript(\"vega-embed\", \"6\"))\n",
       "        .catch(showError)\n",
       "        .then(() => displayChart(vegaEmbed));\n",
       "    }\n",
       "  })({\"config\": {\"view\": {\"continuousWidth\": 400, \"continuousHeight\": 300}, \"axis\": {\"domainColor\": \"#cbcbcb\", \"grid\": true, \"gridColor\": \"#cbcbcb\", \"gridWidth\": 1, \"labelColor\": \"#474747\", \"labelFont\": \"Nunito Sans\", \"labelFontSize\": 10, \"labelPadding\": 4, \"tickColor\": \"#cbcbcb\", \"tickSize\": 10, \"titleColor\": \"#333\", \"titleFont\": \"Raleway\", \"titleFontSize\": 12, \"titlePadding\": 10}, \"axisBand\": {\"grid\": false}, \"background\": \"white\", \"font\": \"Raleway\", \"header\": {\"labelFont\": \"Nunito Sans\", \"titleFont\": \"Raleway\"}, \"legend\": {\"labelColor\": \"#333\", \"labelFont\": \"Nunito Sans\", \"labelFontSize\": 11, \"labelLimit\": 0, \"padding\": 1, \"symbolSize\": 30, \"symbolType\": \"square\", \"titleColor\": \"#333\", \"titleFont\": \"Raleway\", \"titleFontSize\": 14, \"titlePadding\": 10}, \"title\": {\"anchor\": \"middle\", \"font\": \"Raleway\", \"fontSize\": 18, \"fontWeight\": 300, \"offset\": 20}}, \"data\": {\"name\": \"data-349d380901e5c625b780dae31a2f39c5\"}, \"mark\": \"bar\", \"encoding\": {\"color\": {\"field\": \"primary_agency_name\", \"legend\": {\"symbolLimit\": 10, \"title\": \"Agency\"}, \"scale\": {\"range\": [\"#2EA8CE\", \"#EB9F3C\", \"#F4D837\", \"#51BF9D\", \"#8CBCCB\", \"#9487C0\"]}, \"type\": \"nominal\"}, \"tooltip\": [{\"field\": \"primary_agency_name\", \"type\": \"nominal\"}, {\"field\": \"n\", \"type\": \"quantitative\"}], \"x\": {\"field\": \"primary_agency_name\", \"sort\": \"-y\", \"title\": \"Agency\", \"type\": \"nominal\"}, \"y\": {\"field\": \"n\", \"title\": \"Count\", \"type\": \"quantitative\"}}, \"height\": 250, \"title\": \"Agencies With The Most Unique Prefix Codes\", \"width\": 400, \"$schema\": \"https://vega.github.io/schema/vega-lite/v4.17.0.json\", \"datasets\": {\"data-349d380901e5c625b780dae31a2f39c5\": [{\"primary_agency_name\": \"Contra Costa County\", \"n\": 18}, {\"primary_agency_name\": \"San Francisco County\", \"n\": 17}, {\"primary_agency_name\": \"San Jose\", \"n\": 17}, {\"primary_agency_name\": \"Santa Clara County\", \"n\": 17}, {\"primary_agency_name\": \"Alameda County\", \"n\": 16}, {\"primary_agency_name\": \"Sonoma County\", \"n\": 16}, {\"primary_agency_name\": \"Metropolitan Transportation Commission\", \"n\": 15}, {\"primary_agency_name\": \"Oakland\", \"n\": 15}, {\"primary_agency_name\": \"City & County of San Francisco, MTA/Parking & Traffic\", \"n\": 14}, {\"primary_agency_name\": \"Marin County\", \"n\": 13}, {\"primary_agency_name\": \"Santa Clara Valley Transportation Authority\", \"n\": 13}, {\"primary_agency_name\": \"Vallejo\", \"n\": 11}, {\"primary_agency_name\": \"Alameda County Transportation Commission\", \"n\": 10}, {\"primary_agency_name\": \"Solano County\", \"n\": 10}, {\"primary_agency_name\": \"Pleasant Hill\", \"n\": 9}, {\"primary_agency_name\": \"Sunnyvale\", \"n\": 9}, {\"primary_agency_name\": \"Alameda\", \"n\": 8}, {\"primary_agency_name\": \"Alameda County Congestion Management Agency\", \"n\": 8}, {\"primary_agency_name\": \"Fairfield\", \"n\": 8}, {\"primary_agency_name\": \"Golden Gate Bridge, Highway And Transportation Distri\", \"n\": 8}, {\"primary_agency_name\": \"Napa\", \"n\": 8}, {\"primary_agency_name\": \"Napa County\", \"n\": 8}, {\"primary_agency_name\": \"Richmond\", \"n\": 8}, {\"primary_agency_name\": \"San Francisco Bay Area Rapid Transit District\", \"n\": 8}, {\"primary_agency_name\": \"San Rafael\", \"n\": 8}, {\"primary_agency_name\": \"Santa Rosa\", \"n\": 8}, {\"primary_agency_name\": \"El Cerrito\", \"n\": 7}, {\"primary_agency_name\": \"San Mateo\", \"n\": 7}, {\"primary_agency_name\": \"Sonoma Marin Area Rail Transit District\", \"n\": 7}, {\"primary_agency_name\": \"South San Francisco\", \"n\": 7}]}}, {\"mode\": \"vega-lite\"});\n",
       "</script>"
      ],
      "text/plain": [
       "alt.Chart(...)"
      ]
     },
     "metadata": {},
     "output_type": "display_data"
    },
    {
     "data": {
      "text/html": [
       "<h2>Funding Distribution</h2>"
      ],
      "text/plain": [
       "<IPython.core.display.HTML object>"
      ]
     },
     "metadata": {},
     "output_type": "display_data"
    },
    {
     "data": {
      "text/html": [
       "\n",
       "<div id=\"altair-viz-9baaa526e609428bb4b9b95a526dd3ef\"></div>\n",
       "<script type=\"text/javascript\">\n",
       "  var VEGA_DEBUG = (typeof VEGA_DEBUG == \"undefined\") ? {} : VEGA_DEBUG;\n",
       "  (function(spec, embedOpt){\n",
       "    let outputDiv = document.currentScript.previousElementSibling;\n",
       "    if (outputDiv.id !== \"altair-viz-9baaa526e609428bb4b9b95a526dd3ef\") {\n",
       "      outputDiv = document.getElementById(\"altair-viz-9baaa526e609428bb4b9b95a526dd3ef\");\n",
       "    }\n",
       "    const paths = {\n",
       "      \"vega\": \"https://cdn.jsdelivr.net/npm//vega@5?noext\",\n",
       "      \"vega-lib\": \"https://cdn.jsdelivr.net/npm//vega-lib?noext\",\n",
       "      \"vega-lite\": \"https://cdn.jsdelivr.net/npm//vega-lite@4.17.0?noext\",\n",
       "      \"vega-embed\": \"https://cdn.jsdelivr.net/npm//vega-embed@6?noext\",\n",
       "    };\n",
       "\n",
       "    function maybeLoadScript(lib, version) {\n",
       "      var key = `${lib.replace(\"-\", \"\")}_version`;\n",
       "      return (VEGA_DEBUG[key] == version) ?\n",
       "        Promise.resolve(paths[lib]) :\n",
       "        new Promise(function(resolve, reject) {\n",
       "          var s = document.createElement('script');\n",
       "          document.getElementsByTagName(\"head\")[0].appendChild(s);\n",
       "          s.async = true;\n",
       "          s.onload = () => {\n",
       "            VEGA_DEBUG[key] = version;\n",
       "            return resolve(paths[lib]);\n",
       "          };\n",
       "          s.onerror = () => reject(`Error loading script: ${paths[lib]}`);\n",
       "          s.src = paths[lib];\n",
       "        });\n",
       "    }\n",
       "\n",
       "    function showError(err) {\n",
       "      outputDiv.innerHTML = `<div class=\"error\" style=\"color:red;\">${err}</div>`;\n",
       "      throw err;\n",
       "    }\n",
       "\n",
       "    function displayChart(vegaEmbed) {\n",
       "      vegaEmbed(outputDiv, spec, embedOpt)\n",
       "        .catch(err => showError(`Javascript Error: ${err.message}<br>This usually means there's a typo in your chart specification. See the javascript console for the full traceback.`));\n",
       "    }\n",
       "\n",
       "    if(typeof define === \"function\" && define.amd) {\n",
       "      requirejs.config({paths});\n",
       "      require([\"vega-embed\"], displayChart, err => showError(`Error loading script: ${err.message}`));\n",
       "    } else {\n",
       "      maybeLoadScript(\"vega\", \"5\")\n",
       "        .then(() => maybeLoadScript(\"vega-lite\", \"4.17.0\"))\n",
       "        .then(() => maybeLoadScript(\"vega-embed\", \"6\"))\n",
       "        .catch(showError)\n",
       "        .then(() => displayChart(vegaEmbed));\n",
       "    }\n",
       "  })({\"config\": {\"view\": {\"continuousWidth\": 400, \"continuousHeight\": 300}, \"axis\": {\"domainColor\": \"#cbcbcb\", \"grid\": true, \"gridColor\": \"#cbcbcb\", \"gridWidth\": 1, \"labelColor\": \"#474747\", \"labelFont\": \"Nunito Sans\", \"labelFontSize\": 10, \"labelPadding\": 4, \"tickColor\": \"#cbcbcb\", \"tickSize\": 10, \"titleColor\": \"#333\", \"titleFont\": \"Raleway\", \"titleFontSize\": 12, \"titlePadding\": 10}, \"axisBand\": {\"grid\": false}, \"background\": \"white\", \"font\": \"Raleway\", \"header\": {\"labelFont\": \"Nunito Sans\", \"titleFont\": \"Raleway\"}, \"legend\": {\"labelColor\": \"#333\", \"labelFont\": \"Nunito Sans\", \"labelFontSize\": 11, \"labelLimit\": 0, \"padding\": 1, \"symbolSize\": 30, \"symbolType\": \"square\", \"titleColor\": \"#333\", \"titleFont\": \"Raleway\", \"titleFontSize\": 14, \"titlePadding\": 10}, \"title\": {\"anchor\": \"middle\", \"font\": \"Raleway\", \"fontSize\": 18, \"fontWeight\": 300, \"offset\": 20}}, \"data\": {\"name\": \"data-4605e68463c9bf3f57869a37e2c7eb6d\"}, \"mark\": \"bar\", \"encoding\": {\"color\": {\"field\": \"primary_agency_name\", \"legend\": {\"symbolLimit\": 10, \"title\": \"Agency\"}, \"scale\": {\"range\": [\"#2EA8CE\", \"#EB9F3C\", \"#F4D837\", \"#51BF9D\", \"#8CBCCB\", \"#9487C0\"]}, \"type\": \"nominal\"}, \"tooltip\": [{\"field\": \"primary_agency_name\", \"type\": \"nominal\"}, {\"field\": \"adjusted_total_requested\", \"type\": \"quantitative\"}], \"x\": {\"field\": \"primary_agency_name\", \"sort\": \"-y\", \"title\": \"Agency\", \"type\": \"nominal\"}, \"y\": {\"field\": \"adjusted_total_requested\", \"title\": \"Adjusted Total Requested\", \"type\": \"quantitative\"}}, \"height\": 250, \"title\": \"Average Total Requested Funds by Agency ($2021)\", \"width\": 400, \"$schema\": \"https://vega.github.io/schema/vega-lite/v4.17.0.json\", \"datasets\": {\"data-4605e68463c9bf3f57869a37e2c7eb6d\": [{\"primary_agency_name\": \"La Jolla Band of Luiseno Indians\", \"adjusted_total_requested\": 7877447.510085349}, {\"primary_agency_name\": \"Caltrans\", \"adjusted_total_requested\": 7200866.508663196}, {\"primary_agency_name\": \"Golden Gate Bridge, Highway And Transportation Distri\", \"adjusted_total_requested\": 5312348.215439361}, {\"primary_agency_name\": \"San Francisco Bay Area Rapid Transit District\", \"adjusted_total_requested\": 4728710.344235635}, {\"primary_agency_name\": \"Alameda - Contra Costa Transit District\", \"adjusted_total_requested\": 4071873.1967900246}, {\"primary_agency_name\": \"San Francisco County\", \"adjusted_total_requested\": 3671402.126303573}, {\"primary_agency_name\": \"Belmont\", \"adjusted_total_requested\": 3013267.069260622}, {\"primary_agency_name\": \"Metropolitan Transportation Commission\", \"adjusted_total_requested\": 2656521.8392282897}, {\"primary_agency_name\": \"Napa Valley Transportation Authority\", \"adjusted_total_requested\": 2634244.293428272}, {\"primary_agency_name\": \"Alameda County Transportation Commission\", \"adjusted_total_requested\": 2480429.7119186674}, {\"primary_agency_name\": \"Larkspur\", \"adjusted_total_requested\": 2010825.69152631}, {\"primary_agency_name\": \"San Francisco County Transportation Authority\", \"adjusted_total_requested\": 1964340.4822520118}, {\"primary_agency_name\": \"Contra Costa Transportation Authority\", \"adjusted_total_requested\": 1846718.0845602741}, {\"primary_agency_name\": \"East Palo Alto\", \"adjusted_total_requested\": 1649833.6643088532}, {\"primary_agency_name\": \"Sonoma Marin Area Rail Transit District\", \"adjusted_total_requested\": 1620767.3394540895}, {\"primary_agency_name\": \"Port of San Francisco\", \"adjusted_total_requested\": 1617689.7604029668}, {\"primary_agency_name\": \"Healdsburg\", \"adjusted_total_requested\": 1561188.8819585806}, {\"primary_agency_name\": \"Metropolitan Transportation Commission - SAFE\", \"adjusted_total_requested\": 1511663.353550646}, {\"primary_agency_name\": \"San Francisco Bay Area Water Transit Authority\", \"adjusted_total_requested\": 1496461.7356790327}, {\"primary_agency_name\": \"San Pablo\", \"adjusted_total_requested\": 1399532.943630013}, {\"primary_agency_name\": \"Fairfield\", \"adjusted_total_requested\": 1302277.447243492}, {\"primary_agency_name\": \"Western Contra Costa Transit Authority\", \"adjusted_total_requested\": 1295883.005146624}, {\"primary_agency_name\": \"Calistoga\", \"adjusted_total_requested\": 1285845.194684056}, {\"primary_agency_name\": \"Morgan Hill\", \"adjusted_total_requested\": 1264783.0232990193}, {\"primary_agency_name\": \"Richmond\", \"adjusted_total_requested\": 1217021.8014740373}, {\"primary_agency_name\": \"Bay Area Air Quality Management District\", \"adjusted_total_requested\": 1156260.885675769}, {\"primary_agency_name\": \"Colma\", \"adjusted_total_requested\": 1146915.3705764515}, {\"primary_agency_name\": \"Peninsula Joint Powers Board\", \"adjusted_total_requested\": 1096244.0408426924}, {\"primary_agency_name\": \"Corte Madera\", \"adjusted_total_requested\": 1084937.8520869836}, {\"primary_agency_name\": \"Palo Alto\", \"adjusted_total_requested\": 1070667.5322808262}]}}, {\"mode\": \"vega-lite\"});\n",
       "</script>"
      ],
      "text/plain": [
       "alt.Chart(...)"
      ]
     },
     "metadata": {},
     "output_type": "display_data"
    },
    {
     "data": {
      "text/html": [
       "\n",
       "<div id=\"altair-viz-f5c851ea0395480c9fb58a353bd5dcce\"></div>\n",
       "<script type=\"text/javascript\">\n",
       "  var VEGA_DEBUG = (typeof VEGA_DEBUG == \"undefined\") ? {} : VEGA_DEBUG;\n",
       "  (function(spec, embedOpt){\n",
       "    let outputDiv = document.currentScript.previousElementSibling;\n",
       "    if (outputDiv.id !== \"altair-viz-f5c851ea0395480c9fb58a353bd5dcce\") {\n",
       "      outputDiv = document.getElementById(\"altair-viz-f5c851ea0395480c9fb58a353bd5dcce\");\n",
       "    }\n",
       "    const paths = {\n",
       "      \"vega\": \"https://cdn.jsdelivr.net/npm//vega@5?noext\",\n",
       "      \"vega-lib\": \"https://cdn.jsdelivr.net/npm//vega-lib?noext\",\n",
       "      \"vega-lite\": \"https://cdn.jsdelivr.net/npm//vega-lite@4.17.0?noext\",\n",
       "      \"vega-embed\": \"https://cdn.jsdelivr.net/npm//vega-embed@6?noext\",\n",
       "    };\n",
       "\n",
       "    function maybeLoadScript(lib, version) {\n",
       "      var key = `${lib.replace(\"-\", \"\")}_version`;\n",
       "      return (VEGA_DEBUG[key] == version) ?\n",
       "        Promise.resolve(paths[lib]) :\n",
       "        new Promise(function(resolve, reject) {\n",
       "          var s = document.createElement('script');\n",
       "          document.getElementsByTagName(\"head\")[0].appendChild(s);\n",
       "          s.async = true;\n",
       "          s.onload = () => {\n",
       "            VEGA_DEBUG[key] = version;\n",
       "            return resolve(paths[lib]);\n",
       "          };\n",
       "          s.onerror = () => reject(`Error loading script: ${paths[lib]}`);\n",
       "          s.src = paths[lib];\n",
       "        });\n",
       "    }\n",
       "\n",
       "    function showError(err) {\n",
       "      outputDiv.innerHTML = `<div class=\"error\" style=\"color:red;\">${err}</div>`;\n",
       "      throw err;\n",
       "    }\n",
       "\n",
       "    function displayChart(vegaEmbed) {\n",
       "      vegaEmbed(outputDiv, spec, embedOpt)\n",
       "        .catch(err => showError(`Javascript Error: ${err.message}<br>This usually means there's a typo in your chart specification. See the javascript console for the full traceback.`));\n",
       "    }\n",
       "\n",
       "    if(typeof define === \"function\" && define.amd) {\n",
       "      requirejs.config({paths});\n",
       "      require([\"vega-embed\"], displayChart, err => showError(`Error loading script: ${err.message}`));\n",
       "    } else {\n",
       "      maybeLoadScript(\"vega\", \"5\")\n",
       "        .then(() => maybeLoadScript(\"vega-lite\", \"4.17.0\"))\n",
       "        .then(() => maybeLoadScript(\"vega-embed\", \"6\"))\n",
       "        .catch(showError)\n",
       "        .then(() => displayChart(vegaEmbed));\n",
       "    }\n",
       "  })({\"config\": {\"view\": {\"continuousWidth\": 400, \"continuousHeight\": 300}, \"axis\": {\"domainColor\": \"#cbcbcb\", \"grid\": true, \"gridColor\": \"#cbcbcb\", \"gridWidth\": 1, \"labelColor\": \"#474747\", \"labelFont\": \"Nunito Sans\", \"labelFontSize\": 10, \"labelPadding\": 4, \"tickColor\": \"#cbcbcb\", \"tickSize\": 10, \"titleColor\": \"#333\", \"titleFont\": \"Raleway\", \"titleFontSize\": 12, \"titlePadding\": 10}, \"axisBand\": {\"grid\": false}, \"background\": \"white\", \"font\": \"Raleway\", \"header\": {\"labelFont\": \"Nunito Sans\", \"titleFont\": \"Raleway\"}, \"legend\": {\"labelColor\": \"#333\", \"labelFont\": \"Nunito Sans\", \"labelFontSize\": 11, \"labelLimit\": 0, \"padding\": 1, \"symbolSize\": 30, \"symbolType\": \"square\", \"titleColor\": \"#333\", \"titleFont\": \"Raleway\", \"titleFontSize\": 14, \"titlePadding\": 10}, \"title\": {\"anchor\": \"middle\", \"font\": \"Raleway\", \"fontSize\": 18, \"fontWeight\": 300, \"offset\": 20}}, \"data\": {\"name\": \"data-6ee773ece2784664aec02a5889ca3716\"}, \"mark\": \"bar\", \"encoding\": {\"color\": {\"field\": \"primary_agency_name\", \"legend\": {\"symbolLimit\": 10, \"title\": \"Agency\"}, \"scale\": {\"range\": [\"#2EA8CE\", \"#EB9F3C\", \"#F4D837\", \"#51BF9D\", \"#8CBCCB\", \"#9487C0\"]}, \"type\": \"nominal\"}, \"tooltip\": [{\"field\": \"primary_agency_name\", \"type\": \"nominal\"}, {\"field\": \"avg_funds\", \"type\": \"quantitative\"}], \"x\": {\"field\": \"primary_agency_name\", \"sort\": \"-y\", \"title\": \"Agency\", \"type\": \"nominal\"}, \"y\": {\"field\": \"avg_funds\", \"title\": \"Avg Funds\", \"type\": \"quantitative\"}}, \"height\": 250, \"title\": \"Lowest Average Total Funds by Agency ($2021\", \"width\": 400, \"$schema\": \"https://vega.github.io/schema/vega-lite/v4.17.0.json\", \"datasets\": {\"data-6ee773ece2784664aec02a5889ca3716\": [{\"primary_agency_name\": \"Sonoma County Transit\", \"avg_funds\": 209400.28628391636}, {\"primary_agency_name\": \"San Carlos\", \"avg_funds\": 195352.6449073997}, {\"primary_agency_name\": \"Piedmont\", \"avg_funds\": 190760.41726856382}, {\"primary_agency_name\": \"Atherton\", \"avg_funds\": 189021.4817482291}, {\"primary_agency_name\": \"Half Moon Bay\", \"avg_funds\": 183097.36457084562}, {\"primary_agency_name\": \"American Canyon\", \"avg_funds\": 181783.35619090492}, {\"primary_agency_name\": \"Dixon\", \"avg_funds\": 159895.18332872592}, {\"primary_agency_name\": \"Sausalito\", \"avg_funds\": 157473.10502418404}, {\"primary_agency_name\": \"Martinez\", \"avg_funds\": 156009.86914391367}, {\"primary_agency_name\": \"Union City\", \"avg_funds\": 155611.1086336373}, {\"primary_agency_name\": \"Los Gatos\", \"avg_funds\": 155434.17508708214}, {\"primary_agency_name\": \"Central Contra Costa Transit Authority\", \"avg_funds\": 154217.75605234606}, {\"primary_agency_name\": \"San Bruno\", \"avg_funds\": 152407.82923896099}, {\"primary_agency_name\": \"Suisun City\", \"avg_funds\": 151418.50574405276}, {\"primary_agency_name\": \"Benicia\", \"avg_funds\": 147780.2993583272}, {\"primary_agency_name\": \"San Leandro\", \"avg_funds\": 141063.9265435573}, {\"primary_agency_name\": \"Marin County Transit District\", \"avg_funds\": 133607.7554954071}, {\"primary_agency_name\": \"Los Altos Hills\", \"avg_funds\": 126359.46557868482}, {\"primary_agency_name\": \"Lafayette\", \"avg_funds\": 113795.81923695427}, {\"primary_agency_name\": \"Brisbane\", \"avg_funds\": 112588.71503767227}, {\"primary_agency_name\": \"Mill Valley\", \"avg_funds\": 109664.46894297254}, {\"primary_agency_name\": \"Yountville\", \"avg_funds\": 84679.82503576957}, {\"primary_agency_name\": \"Portola Valley\", \"avg_funds\": 67766.31412368998}, {\"primary_agency_name\": \"Ross\", \"avg_funds\": 67288.6177957387}, {\"primary_agency_name\": \"Monte Sereno\", \"avg_funds\": 67187.74602751632}, {\"primary_agency_name\": \"Cloverdale\", \"avg_funds\": 58604.39471393052}, {\"primary_agency_name\": \"University Of California\", \"avg_funds\": 57010.98024172055}, {\"primary_agency_name\": \"Rio Vista\", \"avg_funds\": 54416.69340448155}, {\"primary_agency_name\": \"San Anselmo\", \"avg_funds\": 45621.3531559128}, {\"primary_agency_name\": \"Sebastopol\", \"avg_funds\": 43484.853863406526}, {\"primary_agency_name\": \"St Helena\", \"avg_funds\": 37096.32723603044}, {\"primary_agency_name\": \"Albany\", \"avg_funds\": 36486.32899944957}, {\"primary_agency_name\": \"Department of Parks and Recreation\", \"avg_funds\": 5390.479102014346}, {\"primary_agency_name\": \"Napa County Office of Education\", \"avg_funds\": 2289.2037464298137}, {\"primary_agency_name\": \"Alameda County Transportation Improvement Authority\", \"avg_funds\": 0.0}, {\"primary_agency_name\": \"Alameda County Waste Management Authority\", \"avg_funds\": 0.0}, {\"primary_agency_name\": \"Santa Cruz\", \"avg_funds\": -1527.5478423239308}, {\"primary_agency_name\": \"University of California at San Francisco\", \"avg_funds\": -6367.502687761783}, {\"primary_agency_name\": \"Santa Clara Valley Transportation Authority\", \"avg_funds\": -227992.34193115283}, {\"primary_agency_name\": \"Port Of Oakland\", \"avg_funds\": -325706.2192806022}]}}, {\"mode\": \"vega-lite\"});\n",
       "</script>"
      ],
      "text/plain": [
       "alt.Chart(...)"
      ]
     },
     "metadata": {},
     "output_type": "display_data"
    },
    {
     "data": {
      "text/html": [
       "\n",
       "<div id=\"altair-viz-59b7b3abd04a499481fb4d0676813ddd\"></div>\n",
       "<script type=\"text/javascript\">\n",
       "  var VEGA_DEBUG = (typeof VEGA_DEBUG == \"undefined\") ? {} : VEGA_DEBUG;\n",
       "  (function(spec, embedOpt){\n",
       "    let outputDiv = document.currentScript.previousElementSibling;\n",
       "    if (outputDiv.id !== \"altair-viz-59b7b3abd04a499481fb4d0676813ddd\") {\n",
       "      outputDiv = document.getElementById(\"altair-viz-59b7b3abd04a499481fb4d0676813ddd\");\n",
       "    }\n",
       "    const paths = {\n",
       "      \"vega\": \"https://cdn.jsdelivr.net/npm//vega@5?noext\",\n",
       "      \"vega-lib\": \"https://cdn.jsdelivr.net/npm//vega-lib?noext\",\n",
       "      \"vega-lite\": \"https://cdn.jsdelivr.net/npm//vega-lite@4.17.0?noext\",\n",
       "      \"vega-embed\": \"https://cdn.jsdelivr.net/npm//vega-embed@6?noext\",\n",
       "    };\n",
       "\n",
       "    function maybeLoadScript(lib, version) {\n",
       "      var key = `${lib.replace(\"-\", \"\")}_version`;\n",
       "      return (VEGA_DEBUG[key] == version) ?\n",
       "        Promise.resolve(paths[lib]) :\n",
       "        new Promise(function(resolve, reject) {\n",
       "          var s = document.createElement('script');\n",
       "          document.getElementsByTagName(\"head\")[0].appendChild(s);\n",
       "          s.async = true;\n",
       "          s.onload = () => {\n",
       "            VEGA_DEBUG[key] = version;\n",
       "            return resolve(paths[lib]);\n",
       "          };\n",
       "          s.onerror = () => reject(`Error loading script: ${paths[lib]}`);\n",
       "          s.src = paths[lib];\n",
       "        });\n",
       "    }\n",
       "\n",
       "    function showError(err) {\n",
       "      outputDiv.innerHTML = `<div class=\"error\" style=\"color:red;\">${err}</div>`;\n",
       "      throw err;\n",
       "    }\n",
       "\n",
       "    function displayChart(vegaEmbed) {\n",
       "      vegaEmbed(outputDiv, spec, embedOpt)\n",
       "        .catch(err => showError(`Javascript Error: ${err.message}<br>This usually means there's a typo in your chart specification. See the javascript console for the full traceback.`));\n",
       "    }\n",
       "\n",
       "    if(typeof define === \"function\" && define.amd) {\n",
       "      requirejs.config({paths});\n",
       "      require([\"vega-embed\"], displayChart, err => showError(`Error loading script: ${err.message}`));\n",
       "    } else {\n",
       "      maybeLoadScript(\"vega\", \"5\")\n",
       "        .then(() => maybeLoadScript(\"vega-lite\", \"4.17.0\"))\n",
       "        .then(() => maybeLoadScript(\"vega-embed\", \"6\"))\n",
       "        .catch(showError)\n",
       "        .then(() => displayChart(vegaEmbed));\n",
       "    }\n",
       "  })({\"config\": {\"view\": {\"continuousWidth\": 400, \"continuousHeight\": 300}, \"axis\": {\"domainColor\": \"#cbcbcb\", \"grid\": true, \"gridColor\": \"#cbcbcb\", \"gridWidth\": 1, \"labelColor\": \"#474747\", \"labelFont\": \"Nunito Sans\", \"labelFontSize\": 10, \"labelPadding\": 4, \"tickColor\": \"#cbcbcb\", \"tickSize\": 10, \"titleColor\": \"#333\", \"titleFont\": \"Raleway\", \"titleFontSize\": 12, \"titlePadding\": 10}, \"axisBand\": {\"grid\": false}, \"background\": \"white\", \"font\": \"Raleway\", \"header\": {\"labelFont\": \"Nunito Sans\", \"titleFont\": \"Raleway\"}, \"legend\": {\"labelColor\": \"#333\", \"labelFont\": \"Nunito Sans\", \"labelFontSize\": 11, \"labelLimit\": 0, \"padding\": 1, \"symbolSize\": 30, \"symbolType\": \"square\", \"titleColor\": \"#333\", \"titleFont\": \"Raleway\", \"titleFontSize\": 14, \"titlePadding\": 10}, \"title\": {\"anchor\": \"middle\", \"font\": \"Raleway\", \"fontSize\": 18, \"fontWeight\": 300, \"offset\": 20}}, \"data\": {\"name\": \"data-99bf62fdadebd8d65ff9e5f36850bcee\"}, \"mark\": \"bar\", \"encoding\": {\"color\": {\"field\": \"prefix\", \"legend\": {\"symbolLimit\": 10, \"title\": \"Prefix\"}, \"scale\": {\"range\": [\"#2EA8CE\", \"#EB9F3C\", \"#F4D837\", \"#51BF9D\", \"#8CBCCB\", \"#9487C0\"]}, \"type\": \"nominal\"}, \"tooltip\": [{\"field\": \"prefix\", \"type\": \"nominal\"}, {\"field\": \"adjusted_total_requested\", \"type\": \"quantitative\"}], \"x\": {\"field\": \"prefix\", \"sort\": \"-y\", \"title\": \"Prefix\", \"type\": \"nominal\"}, \"y\": {\"field\": \"adjusted_total_requested\", \"title\": \"Adjusted Total Requested\", \"type\": \"quantitative\"}}, \"height\": 250, \"title\": \"Average Total Requested Funds by Prefix ($2021)\", \"width\": 400, \"$schema\": \"https://vega.github.io/schema/vega-lite/v4.17.0.json\", \"datasets\": {\"data-99bf62fdadebd8d65ff9e5f36850bcee\": [{\"prefix\": \"BUILDL\", \"adjusted_total_requested\": 100043553.12716283}, {\"prefix\": \"NCIIPL\", \"adjusted_total_requested\": 31030822.136926275}, {\"prefix\": \"ATCMTD\", \"adjusted_total_requested\": 23274080.53390696}, {\"prefix\": \"ESPLEH\", \"adjusted_total_requested\": 22793698.273744546}, {\"prefix\": \"FTASTPCM\", \"adjusted_total_requested\": 9244428.96573825}, {\"prefix\": \"HPLUN\", \"adjusted_total_requested\": 9022468.88374991}, {\"prefix\": \"FERPL\", \"adjusted_total_requested\": 8784520.256495953}, {\"prefix\": \"ESPSEH\", \"adjusted_total_requested\": 6979458.783465311}, {\"prefix\": \"FTACML\", \"adjusted_total_requested\": 6330609.048928619}, {\"prefix\": \"BHLS\", \"adjusted_total_requested\": 4917558.097209132}, {\"prefix\": \"FTACRRSA\", \"adjusted_total_requested\": 4335003.691867984}, {\"prefix\": \"FTAFERPL\", \"adjusted_total_requested\": 3543087.546328245}, {\"prefix\": \"STPLNI\", \"adjusted_total_requested\": 2888447.7670971584}, {\"prefix\": \"STP\", \"adjusted_total_requested\": 2625815.8366951165}, {\"prefix\": \"TCESB1L\", \"adjusted_total_requested\": 2451624.9202911104}, {\"prefix\": \"FTACMSPL\", \"adjusted_total_requested\": 2439230.897893468}, {\"prefix\": \"ATPSB1L\", \"adjusted_total_requested\": 2239865.8713008775}, {\"prefix\": \"LPPSTPL\", \"adjusted_total_requested\": 2212779.799503621}, {\"prefix\": \"BRLZ\", \"adjusted_total_requested\": 1850302.659280733}, {\"prefix\": \"FTASTPL\", \"adjusted_total_requested\": 1686785.0827721134}, {\"prefix\": \"ATPL\", \"adjusted_total_requested\": 1678747.922242578}, {\"prefix\": \"HP21L\", \"adjusted_total_requested\": 1442323.3873705992}, {\"prefix\": \"FTAATP\", \"adjusted_total_requested\": 1436033.4443832503}, {\"prefix\": \"STPLR\", \"adjusted_total_requested\": 1346890.1934756166}, {\"prefix\": \"STPLZ\", \"adjusted_total_requested\": 1308474.2295569642}, {\"prefix\": \"TCSPCM\", \"adjusted_total_requested\": 1207841.576513245}, {\"prefix\": \"ATPHSIP\", \"adjusted_total_requested\": 1205629.5794587855}, {\"prefix\": \"BRLS\", \"adjusted_total_requested\": 1201146.0527447409}, {\"prefix\": \"CMSTPL\", \"adjusted_total_requested\": 1178893.2241298074}, {\"prefix\": \"FTASTPCML\", \"adjusted_total_requested\": 1150000.979388277}]}}, {\"mode\": \"vega-lite\"});\n",
       "</script>"
      ],
      "text/plain": [
       "alt.Chart(...)"
      ]
     },
     "metadata": {},
     "output_type": "display_data"
    },
    {
     "data": {
      "text/html": [
       "<h2>Work Categories</h2>"
      ],
      "text/plain": [
       "<IPython.core.display.HTML object>"
      ]
     },
     "metadata": {},
     "output_type": "display_data"
    },
    {
     "data": {
      "application/vnd.jupyter.widget-view+json": {
       "model_id": "348dcf6ed4c847c8a8f3f83a839e2f5d",
       "version_major": 2,
       "version_minor": 0
      },
      "text/plain": [
       "Tab(children=(Output(), Output(), Output(), Output(), Output(), Output(), Output()), _titles={'0': 'Active Tra…"
      ]
     },
     "metadata": {},
     "output_type": "display_data"
    }
   ],
   "source": [
    "make_charts(df, subset)"
   ]
  },
  {
   "cell_type": "code",
   "execution_count": null,
   "id": "249395e5-4e59-4cb6-956f-c4db0a672c18",
   "metadata": {},
   "outputs": [],
   "source": []
  },
  {
   "cell_type": "code",
   "execution_count": null,
   "id": "53ffb48f-b153-4c8e-a44c-755af8cde9ee",
   "metadata": {},
   "outputs": [],
   "source": []
  }
 ],
 "metadata": {
  "kernelspec": {
   "display_name": "Python 3 (ipykernel)",
   "language": "python",
   "name": "python3"
  },
  "language_info": {
   "codemirror_mode": {
    "name": "ipython",
    "version": 3
   },
   "file_extension": ".py",
   "mimetype": "text/x-python",
   "name": "python",
   "nbconvert_exporter": "python",
   "pygments_lexer": "ipython3",
   "version": "3.9.10"
  },
  "widgets": {
   "application/vnd.jupyter.widget-state+json": {
    "state": {
     "00313cc619d8479b832f967affb00002": {
      "model_module": "@jupyter-widgets/base",
      "model_module_version": "1.2.0",
      "model_name": "LayoutModel",
      "state": {}
     },
     "01a4e8c667754dc39a6c8b9338ae30cf": {
      "model_module": "@jupyter-widgets/base",
      "model_module_version": "1.2.0",
      "model_name": "LayoutModel",
      "state": {}
     },
     "02510f4ef151443d876628b237416bec": {
      "model_module": "@jupyter-widgets/base",
      "model_module_version": "1.2.0",
      "model_name": "LayoutModel",
      "state": {}
     },
     "025e34c2c45749d3bef2c2370bdd9ff5": {
      "model_module": "@jupyter-widgets/base",
      "model_module_version": "1.2.0",
      "model_name": "LayoutModel",
      "state": {}
     },
     "02a5d2d3470e4f1dad3c5b28a559b414": {
      "model_module": "@jupyter-widgets/output",
      "model_module_version": "1.0.0",
      "model_name": "OutputModel",
      "state": {
       "layout": "IPY_MODEL_08a6ea34f173496fa0a719c2253e1df3",
       "outputs": [
        {
         "data": {
          "application/vnd.jupyter.widget-view+json": {
           "model_id": "",
           "version_major": 2,
           "version_minor": 0
          },
          "text/plain": "HTML(value='<strong>Top Agencies using Transit Projects</strong>')"
         },
         "metadata": {},
         "output_type": "display_data"
        },
        {
         "data": {
          "text/html": "<style type=\"text/css\">\n</style>\n<table id=\"T_6a708\">\n  <thead>\n    <tr>\n      <th class=\"blank level0\" >&nbsp;</th>\n      <th id=\"T_6a708_level0_col0\" class=\"col_heading level0 col0\" >Agency</th>\n      <th id=\"T_6a708_level0_col1\" class=\"col_heading level0 col1\" >Transit Obligations</th>\n      <th id=\"T_6a708_level0_col2\" class=\"col_heading level0 col2\" >Percent of Category</th>\n    </tr>\n  </thead>\n  <tbody>\n    <tr>\n      <th id=\"T_6a708_level0_row0\" class=\"row_heading level0 row0\" >0</th>\n      <td id=\"T_6a708_row0_col0\" class=\"data row0 col0\" >Los Angeles</td>\n      <td id=\"T_6a708_row0_col1\" class=\"data row0 col1\" >35</td>\n      <td id=\"T_6a708_row0_col2\" class=\"data row0 col2\" >39.33%</td>\n    </tr>\n    <tr>\n      <th id=\"T_6a708_level0_row1\" class=\"row_heading level0 row1\" >1</th>\n      <td id=\"T_6a708_row1_col0\" class=\"data row1 col0\" >Lancaster</td>\n      <td id=\"T_6a708_row1_col1\" class=\"data row1 col1\" >6</td>\n      <td id=\"T_6a708_row1_col2\" class=\"data row1 col2\" >6.74%</td>\n    </tr>\n    <tr>\n      <th id=\"T_6a708_level0_row2\" class=\"row_heading level0 row2\" >2</th>\n      <td id=\"T_6a708_row2_col0\" class=\"data row2 col0\" >Los Angeles County</td>\n      <td id=\"T_6a708_row2_col1\" class=\"data row2 col1\" >6</td>\n      <td id=\"T_6a708_row2_col2\" class=\"data row2 col2\" >6.74%</td>\n    </tr>\n    <tr>\n      <th id=\"T_6a708_level0_row3\" class=\"row_heading level0 row3\" >3</th>\n      <td id=\"T_6a708_row3_col0\" class=\"data row3 col0\" >Los Angeles County Metropolitan Transportation Authority</td>\n      <td id=\"T_6a708_row3_col1\" class=\"data row3 col1\" >6</td>\n      <td id=\"T_6a708_row3_col2\" class=\"data row3 col2\" >6.74%</td>\n    </tr>\n    <tr>\n      <th id=\"T_6a708_level0_row4\" class=\"row_heading level0 row4\" >4</th>\n      <td id=\"T_6a708_row4_col0\" class=\"data row4 col0\" >San Buenaventura</td>\n      <td id=\"T_6a708_row4_col1\" class=\"data row4 col1\" >5</td>\n      <td id=\"T_6a708_row4_col2\" class=\"data row4 col2\" >5.62%</td>\n    </tr>\n  </tbody>\n</table>\n",
          "text/plain": "<pandas.io.formats.style.Styler at 0x7f605ddcc6d0>"
         },
         "metadata": {},
         "output_type": "display_data"
        },
        {
         "data": {
          "text/html": "\n<div id=\"altair-viz-2bae0704b4554c839b522c34827bc7f0\"></div>\n<script type=\"text/javascript\">\n  var VEGA_DEBUG = (typeof VEGA_DEBUG == \"undefined\") ? {} : VEGA_DEBUG;\n  (function(spec, embedOpt){\n    let outputDiv = document.currentScript.previousElementSibling;\n    if (outputDiv.id !== \"altair-viz-2bae0704b4554c839b522c34827bc7f0\") {\n      outputDiv = document.getElementById(\"altair-viz-2bae0704b4554c839b522c34827bc7f0\");\n    }\n    const paths = {\n      \"vega\": \"https://cdn.jsdelivr.net/npm//vega@5?noext\",\n      \"vega-lib\": \"https://cdn.jsdelivr.net/npm//vega-lib?noext\",\n      \"vega-lite\": \"https://cdn.jsdelivr.net/npm//vega-lite@4.17.0?noext\",\n      \"vega-embed\": \"https://cdn.jsdelivr.net/npm//vega-embed@6?noext\",\n    };\n\n    function maybeLoadScript(lib, version) {\n      var key = `${lib.replace(\"-\", \"\")}_version`;\n      return (VEGA_DEBUG[key] == version) ?\n        Promise.resolve(paths[lib]) :\n        new Promise(function(resolve, reject) {\n          var s = document.createElement('script');\n          document.getElementsByTagName(\"head\")[0].appendChild(s);\n          s.async = true;\n          s.onload = () => {\n            VEGA_DEBUG[key] = version;\n            return resolve(paths[lib]);\n          };\n          s.onerror = () => reject(`Error loading script: ${paths[lib]}`);\n          s.src = paths[lib];\n        });\n    }\n\n    function showError(err) {\n      outputDiv.innerHTML = `<div class=\"error\" style=\"color:red;\">${err}</div>`;\n      throw err;\n    }\n\n    function displayChart(vegaEmbed) {\n      vegaEmbed(outputDiv, spec, embedOpt)\n        .catch(err => showError(`Javascript Error: ${err.message}<br>This usually means there's a typo in your chart specification. See the javascript console for the full traceback.`));\n    }\n\n    if(typeof define === \"function\" && define.amd) {\n      requirejs.config({paths});\n      require([\"vega-embed\"], displayChart, err => showError(`Error loading script: ${err.message}`));\n    } else {\n      maybeLoadScript(\"vega\", \"5\")\n        .then(() => maybeLoadScript(\"vega-lite\", \"4.17.0\"))\n        .then(() => maybeLoadScript(\"vega-embed\", \"6\"))\n        .catch(showError)\n        .then(() => displayChart(vegaEmbed));\n    }\n  })({\"config\": {\"view\": {\"continuousWidth\": 400, \"continuousHeight\": 300}}, \"data\": {\"name\": \"data-125ae33b0af16d4ee802489eeb8e0587\"}, \"mark\": \"bar\", \"encoding\": {\"color\": {\"field\": \"Categories\", \"scale\": {\"range\": [\"#2EA8CE\", \"#EB9F3C\", \"#F4D837\", \"#51BF9D\", \"#8CBCCB\", \"#9487C0\"]}, \"type\": \"nominal\"}, \"row\": {\"field\": \"Categories\", \"type\": \"nominal\"}, \"tooltip\": [{\"field\": \"Agency\", \"type\": \"nominal\"}, {\"field\": \"Funding Amount\", \"type\": \"quantitative\"}], \"x\": {\"axis\": {\"format\": \"$.2s\", \"title\": \"Obligated Funding ($2021)\"}, \"field\": \"Funding Amount\", \"type\": \"quantitative\"}, \"y\": {\"field\": \"Agency\", \"type\": \"nominal\"}}, \"$schema\": \"https://vega.github.io/schema/vega-lite/v4.17.0.json\", \"datasets\": {\"data-125ae33b0af16d4ee802489eeb8e0587\": [{\"Agency\": \"Los Angeles\", \"Categories\": \"Total Requested\", \"Funding Amount\": 355615.2802215591}, {\"Agency\": \"Lancaster\", \"Categories\": \"Total Requested\", \"Funding Amount\": 1949102.933649522}, {\"Agency\": \"Los Angeles County\", \"Categories\": \"Total Requested\", \"Funding Amount\": 165880.04962165208}, {\"Agency\": \"Los Angeles County Metropolitan Transportation Authority\", \"Categories\": \"Total Requested\", \"Funding Amount\": 2103575.5912852692}, {\"Agency\": \"San Buenaventura\", \"Categories\": \"Total Requested\", \"Funding Amount\": 75005.53048188676}, {\"Agency\": \"Los Angeles\", \"Categories\": \"Fed Requested\", \"Funding Amount\": 250782.7923294444}, {\"Agency\": \"Lancaster\", \"Categories\": \"Fed Requested\", \"Funding Amount\": 1949102.933649522}, {\"Agency\": \"Los Angeles County\", \"Categories\": \"Fed Requested\", \"Funding Amount\": 71933.7358316173}, {\"Agency\": \"Los Angeles County Metropolitan Transportation Authority\", \"Categories\": \"Fed Requested\", \"Funding Amount\": 2041412.199109855}, {\"Agency\": \"San Buenaventura\", \"Categories\": \"Fed Requested\", \"Funding Amount\": 65841.15195865728}, {\"Agency\": \"Los Angeles\", \"Categories\": \"AC Requested\", \"Funding Amount\": 0.0}, {\"Agency\": \"Lancaster\", \"Categories\": \"AC Requested\", \"Funding Amount\": 0.0}, {\"Agency\": \"Los Angeles County\", \"Categories\": \"AC Requested\", \"Funding Amount\": 0.0}, {\"Agency\": \"Los Angeles County Metropolitan Transportation Authority\", \"Categories\": \"AC Requested\", \"Funding Amount\": 0.0}, {\"Agency\": \"San Buenaventura\", \"Categories\": \"AC Requested\", \"Funding Amount\": 0.0}]}}, {\"mode\": \"vega-lite\"});\n</script>",
          "text/plain": "alt.Chart(...)"
         },
         "metadata": {},
         "output_type": "display_data"
        }
       ]
      }
     },
     "02a88f2bad604bb6aa6b5675762f8862": {
      "model_module": "@jupyter-widgets/controls",
      "model_module_version": "1.5.0",
      "model_name": "HTMLModel",
      "state": {
       "layout": "IPY_MODEL_6afe9b66f986437da84df8bf6934e0ba",
       "style": "IPY_MODEL_c90b33adad444cb9b0207bf017fbbd0c",
       "value": "<strong>Top Agencies using Freeway Projects</strong>"
      }
     },
     "02cc1e83bd374eb185ef1474efd1bf0d": {
      "model_module": "@jupyter-widgets/base",
      "model_module_version": "1.2.0",
      "model_name": "LayoutModel",
      "state": {}
     },
     "040997aa82a240f896dcc1cf0395e4f5": {
      "model_module": "@jupyter-widgets/base",
      "model_module_version": "1.2.0",
      "model_name": "LayoutModel",
      "state": {}
     },
     "06859c648642423489a0f764d3bb5bf2": {
      "model_module": "@jupyter-widgets/controls",
      "model_module_version": "1.5.0",
      "model_name": "DescriptionStyleModel",
      "state": {
       "description_width": ""
      }
     },
     "06e41f1849404eb8a595e449020a12f1": {
      "model_module": "@jupyter-widgets/controls",
      "model_module_version": "1.5.0",
      "model_name": "DescriptionStyleModel",
      "state": {
       "description_width": ""
      }
     },
     "086713a965f145dd9fa073db4880c7a6": {
      "model_module": "@jupyter-widgets/output",
      "model_module_version": "1.0.0",
      "model_name": "OutputModel",
      "state": {
       "layout": "IPY_MODEL_552c0cbd0bcd4ecbb1cf778914d09fcc",
       "outputs": [
        {
         "data": {
          "application/vnd.jupyter.widget-view+json": {
           "model_id": "",
           "version_major": 2,
           "version_minor": 0
          },
          "text/plain": "HTML(value='<strong>Top Agencies using Congestion Relief Projects</strong>')"
         },
         "metadata": {},
         "output_type": "display_data"
        },
        {
         "data": {
          "text/html": "<style type=\"text/css\">\n</style>\n<table id=\"T_b359f\">\n  <thead>\n    <tr>\n      <th class=\"blank level0\" >&nbsp;</th>\n      <th id=\"T_b359f_level0_col0\" class=\"col_heading level0 col0\" >Agency</th>\n      <th id=\"T_b359f_level0_col1\" class=\"col_heading level0 col1\" >Congestion Relief Obligations</th>\n      <th id=\"T_b359f_level0_col2\" class=\"col_heading level0 col2\" >Percent of Category</th>\n    </tr>\n  </thead>\n  <tbody>\n    <tr>\n      <th id=\"T_b359f_level0_row0\" class=\"row_heading level0 row0\" >0</th>\n      <td id=\"T_b359f_row0_col0\" class=\"data row0 col0\" >Contra Costa Transportation Authority</td>\n      <td id=\"T_b359f_row0_col1\" class=\"data row0 col1\" >6</td>\n      <td id=\"T_b359f_row0_col2\" class=\"data row0 col2\" >22.22%</td>\n    </tr>\n    <tr>\n      <th id=\"T_b359f_level0_row1\" class=\"row_heading level0 row1\" >1</th>\n      <td id=\"T_b359f_row1_col0\" class=\"data row1 col0\" >Metropolitan Transportation Commission</td>\n      <td id=\"T_b359f_row1_col1\" class=\"data row1 col1\" >5</td>\n      <td id=\"T_b359f_row1_col2\" class=\"data row1 col2\" >18.52%</td>\n    </tr>\n    <tr>\n      <th id=\"T_b359f_level0_row2\" class=\"row_heading level0 row2\" >2</th>\n      <td id=\"T_b359f_row2_col0\" class=\"data row2 col0\" >Sonoma County Transportation Authority</td>\n      <td id=\"T_b359f_row2_col1\" class=\"data row2 col1\" >4</td>\n      <td id=\"T_b359f_row2_col2\" class=\"data row2 col2\" >14.81%</td>\n    </tr>\n    <tr>\n      <th id=\"T_b359f_level0_row3\" class=\"row_heading level0 row3\" >3</th>\n      <td id=\"T_b359f_row3_col0\" class=\"data row3 col0\" >San Mateo</td>\n      <td id=\"T_b359f_row3_col1\" class=\"data row3 col1\" >3</td>\n      <td id=\"T_b359f_row3_col2\" class=\"data row3 col2\" >11.11%</td>\n    </tr>\n    <tr>\n      <th id=\"T_b359f_level0_row4\" class=\"row_heading level0 row4\" >4</th>\n      <td id=\"T_b359f_row4_col0\" class=\"data row4 col0\" >Solano Transportation Authority</td>\n      <td id=\"T_b359f_row4_col1\" class=\"data row4 col1\" >3</td>\n      <td id=\"T_b359f_row4_col2\" class=\"data row4 col2\" >11.11%</td>\n    </tr>\n  </tbody>\n</table>\n",
          "text/plain": "<pandas.io.formats.style.Styler at 0x7f605d2c5880>"
         },
         "metadata": {},
         "output_type": "display_data"
        },
        {
         "data": {
          "text/html": "\n<div id=\"altair-viz-ae51de2c0d79418f831bf567fd8e62ba\"></div>\n<script type=\"text/javascript\">\n  var VEGA_DEBUG = (typeof VEGA_DEBUG == \"undefined\") ? {} : VEGA_DEBUG;\n  (function(spec, embedOpt){\n    let outputDiv = document.currentScript.previousElementSibling;\n    if (outputDiv.id !== \"altair-viz-ae51de2c0d79418f831bf567fd8e62ba\") {\n      outputDiv = document.getElementById(\"altair-viz-ae51de2c0d79418f831bf567fd8e62ba\");\n    }\n    const paths = {\n      \"vega\": \"https://cdn.jsdelivr.net/npm//vega@5?noext\",\n      \"vega-lib\": \"https://cdn.jsdelivr.net/npm//vega-lib?noext\",\n      \"vega-lite\": \"https://cdn.jsdelivr.net/npm//vega-lite@4.17.0?noext\",\n      \"vega-embed\": \"https://cdn.jsdelivr.net/npm//vega-embed@6?noext\",\n    };\n\n    function maybeLoadScript(lib, version) {\n      var key = `${lib.replace(\"-\", \"\")}_version`;\n      return (VEGA_DEBUG[key] == version) ?\n        Promise.resolve(paths[lib]) :\n        new Promise(function(resolve, reject) {\n          var s = document.createElement('script');\n          document.getElementsByTagName(\"head\")[0].appendChild(s);\n          s.async = true;\n          s.onload = () => {\n            VEGA_DEBUG[key] = version;\n            return resolve(paths[lib]);\n          };\n          s.onerror = () => reject(`Error loading script: ${paths[lib]}`);\n          s.src = paths[lib];\n        });\n    }\n\n    function showError(err) {\n      outputDiv.innerHTML = `<div class=\"error\" style=\"color:red;\">${err}</div>`;\n      throw err;\n    }\n\n    function displayChart(vegaEmbed) {\n      vegaEmbed(outputDiv, spec, embedOpt)\n        .catch(err => showError(`Javascript Error: ${err.message}<br>This usually means there's a typo in your chart specification. See the javascript console for the full traceback.`));\n    }\n\n    if(typeof define === \"function\" && define.amd) {\n      requirejs.config({paths});\n      require([\"vega-embed\"], displayChart, err => showError(`Error loading script: ${err.message}`));\n    } else {\n      maybeLoadScript(\"vega\", \"5\")\n        .then(() => maybeLoadScript(\"vega-lite\", \"4.17.0\"))\n        .then(() => maybeLoadScript(\"vega-embed\", \"6\"))\n        .catch(showError)\n        .then(() => displayChart(vegaEmbed));\n    }\n  })({\"config\": {\"view\": {\"continuousWidth\": 400, \"continuousHeight\": 300}}, \"data\": {\"name\": \"data-288e035acb4bd3ef567cff5d4068697a\"}, \"mark\": \"bar\", \"encoding\": {\"color\": {\"field\": \"Categories\", \"scale\": {\"range\": [\"#2EA8CE\", \"#EB9F3C\", \"#F4D837\", \"#51BF9D\", \"#8CBCCB\", \"#9487C0\"]}, \"type\": \"nominal\"}, \"row\": {\"field\": \"Categories\", \"type\": \"nominal\"}, \"tooltip\": [{\"field\": \"Agency\", \"type\": \"nominal\"}, {\"field\": \"Funding Amount\", \"type\": \"quantitative\"}], \"x\": {\"axis\": {\"format\": \"$.2s\", \"title\": \"Obligated Funding ($2021)\"}, \"field\": \"Funding Amount\", \"type\": \"quantitative\"}, \"y\": {\"field\": \"Agency\", \"type\": \"nominal\"}}, \"$schema\": \"https://vega.github.io/schema/vega-lite/v4.17.0.json\", \"datasets\": {\"data-288e035acb4bd3ef567cff5d4068697a\": [{\"Agency\": \"Contra Costa Transportation Authority\", \"Categories\": \"Total Requested\", \"Funding Amount\": 197250.95617523268}, {\"Agency\": \"Metropolitan Transportation Commission\", \"Categories\": \"Total Requested\", \"Funding Amount\": 2873575.211728853}, {\"Agency\": \"Sonoma County Transportation Authority\", \"Categories\": \"Total Requested\", \"Funding Amount\": 24784.0927036328}, {\"Agency\": \"San Mateo\", \"Categories\": \"Total Requested\", \"Funding Amount\": 50566.77608965471}, {\"Agency\": \"Solano Transportation Authority\", \"Categories\": \"Total Requested\", \"Funding Amount\": 156006.74522970387}, {\"Agency\": \"Contra Costa Transportation Authority\", \"Categories\": \"Fed Requested\", \"Funding Amount\": 158480.104075906}, {\"Agency\": \"Metropolitan Transportation Commission\", \"Categories\": \"Fed Requested\", \"Funding Amount\": 2873576.667669716}, {\"Agency\": \"Sonoma County Transportation Authority\", \"Categories\": \"Fed Requested\", \"Funding Amount\": 24773.560430762882}, {\"Agency\": \"San Mateo\", \"Categories\": \"Fed Requested\", \"Funding Amount\": 42627.45791136464}, {\"Agency\": \"Solano Transportation Authority\", \"Categories\": \"Fed Requested\", \"Funding Amount\": 203358.6054765724}, {\"Agency\": \"Contra Costa Transportation Authority\", \"Categories\": \"AC Requested\", \"Funding Amount\": 0.0}, {\"Agency\": \"Metropolitan Transportation Commission\", \"Categories\": \"AC Requested\", \"Funding Amount\": 0.0}, {\"Agency\": \"Sonoma County Transportation Authority\", \"Categories\": \"AC Requested\", \"Funding Amount\": 0.0}, {\"Agency\": \"San Mateo\", \"Categories\": \"AC Requested\", \"Funding Amount\": 0.0}, {\"Agency\": \"Solano Transportation Authority\", \"Categories\": \"AC Requested\", \"Funding Amount\": 0.0}]}}, {\"mode\": \"vega-lite\"});\n</script>",
          "text/plain": "alt.Chart(...)"
         },
         "metadata": {},
         "output_type": "display_data"
        }
       ]
      }
     },
     "08a6ea34f173496fa0a719c2253e1df3": {
      "model_module": "@jupyter-widgets/base",
      "model_module_version": "1.2.0",
      "model_name": "LayoutModel",
      "state": {}
     },
     "08cdbdc453114125b57773be52078e96": {
      "model_module": "@jupyter-widgets/output",
      "model_module_version": "1.0.0",
      "model_name": "OutputModel",
      "state": {
       "layout": "IPY_MODEL_87c7d348a7254143b1f044184a74a4d7",
       "outputs": [
        {
         "data": {
          "application/vnd.jupyter.widget-view+json": {
           "model_id": "",
           "version_major": 2,
           "version_minor": 0
          },
          "text/plain": "HTML(value='<strong>Top Agencies using Bridge Projects</strong>')"
         },
         "metadata": {},
         "output_type": "display_data"
        },
        {
         "data": {
          "text/html": "<style type=\"text/css\">\n</style>\n<table id=\"T_1b45b\">\n  <thead>\n    <tr>\n      <th class=\"blank level0\" >&nbsp;</th>\n      <th id=\"T_1b45b_level0_col0\" class=\"col_heading level0 col0\" >Agency</th>\n      <th id=\"T_1b45b_level0_col1\" class=\"col_heading level0 col1\" >Bridge Obligations</th>\n      <th id=\"T_1b45b_level0_col2\" class=\"col_heading level0 col2\" >Percent of Category</th>\n    </tr>\n  </thead>\n  <tbody>\n    <tr>\n      <th id=\"T_1b45b_level0_row0\" class=\"row_heading level0 row0\" >0</th>\n      <td id=\"T_1b45b_row0_col0\" class=\"data row0 col0\" >San Bernardino County</td>\n      <td id=\"T_1b45b_row0_col1\" class=\"data row0 col1\" >54</td>\n      <td id=\"T_1b45b_row0_col2\" class=\"data row0 col2\" >21.51%</td>\n    </tr>\n    <tr>\n      <th id=\"T_1b45b_level0_row1\" class=\"row_heading level0 row1\" >1</th>\n      <td id=\"T_1b45b_row1_col0\" class=\"data row1 col0\" >Riverside County</td>\n      <td id=\"T_1b45b_row1_col1\" class=\"data row1 col1\" >34</td>\n      <td id=\"T_1b45b_row1_col2\" class=\"data row1 col2\" >13.55%</td>\n    </tr>\n    <tr>\n      <th id=\"T_1b45b_level0_row2\" class=\"row_heading level0 row2\" >2</th>\n      <td id=\"T_1b45b_row2_col0\" class=\"data row2 col0\" >Palm Springs</td>\n      <td id=\"T_1b45b_row2_col1\" class=\"data row2 col1\" >25</td>\n      <td id=\"T_1b45b_row2_col2\" class=\"data row2 col2\" >9.96%</td>\n    </tr>\n    <tr>\n      <th id=\"T_1b45b_level0_row3\" class=\"row_heading level0 row3\" >3</th>\n      <td id=\"T_1b45b_row3_col0\" class=\"data row3 col0\" >Highland</td>\n      <td id=\"T_1b45b_row3_col1\" class=\"data row3 col1\" >16</td>\n      <td id=\"T_1b45b_row3_col2\" class=\"data row3 col2\" >6.37%</td>\n    </tr>\n    <tr>\n      <th id=\"T_1b45b_level0_row4\" class=\"row_heading level0 row4\" >4</th>\n      <td id=\"T_1b45b_row4_col0\" class=\"data row4 col0\" >Ontario</td>\n      <td id=\"T_1b45b_row4_col1\" class=\"data row4 col1\" >13</td>\n      <td id=\"T_1b45b_row4_col2\" class=\"data row4 col2\" >5.18%</td>\n    </tr>\n  </tbody>\n</table>\n",
          "text/plain": "<pandas.io.formats.style.Styler at 0x7f605cedae50>"
         },
         "metadata": {},
         "output_type": "display_data"
        },
        {
         "data": {
          "text/html": "\n<div id=\"altair-viz-55ecf3f8a01b43309e1e1319bd26a160\"></div>\n<script type=\"text/javascript\">\n  var VEGA_DEBUG = (typeof VEGA_DEBUG == \"undefined\") ? {} : VEGA_DEBUG;\n  (function(spec, embedOpt){\n    let outputDiv = document.currentScript.previousElementSibling;\n    if (outputDiv.id !== \"altair-viz-55ecf3f8a01b43309e1e1319bd26a160\") {\n      outputDiv = document.getElementById(\"altair-viz-55ecf3f8a01b43309e1e1319bd26a160\");\n    }\n    const paths = {\n      \"vega\": \"https://cdn.jsdelivr.net/npm//vega@5?noext\",\n      \"vega-lib\": \"https://cdn.jsdelivr.net/npm//vega-lib?noext\",\n      \"vega-lite\": \"https://cdn.jsdelivr.net/npm//vega-lite@4.17.0?noext\",\n      \"vega-embed\": \"https://cdn.jsdelivr.net/npm//vega-embed@6?noext\",\n    };\n\n    function maybeLoadScript(lib, version) {\n      var key = `${lib.replace(\"-\", \"\")}_version`;\n      return (VEGA_DEBUG[key] == version) ?\n        Promise.resolve(paths[lib]) :\n        new Promise(function(resolve, reject) {\n          var s = document.createElement('script');\n          document.getElementsByTagName(\"head\")[0].appendChild(s);\n          s.async = true;\n          s.onload = () => {\n            VEGA_DEBUG[key] = version;\n            return resolve(paths[lib]);\n          };\n          s.onerror = () => reject(`Error loading script: ${paths[lib]}`);\n          s.src = paths[lib];\n        });\n    }\n\n    function showError(err) {\n      outputDiv.innerHTML = `<div class=\"error\" style=\"color:red;\">${err}</div>`;\n      throw err;\n    }\n\n    function displayChart(vegaEmbed) {\n      vegaEmbed(outputDiv, spec, embedOpt)\n        .catch(err => showError(`Javascript Error: ${err.message}<br>This usually means there's a typo in your chart specification. See the javascript console for the full traceback.`));\n    }\n\n    if(typeof define === \"function\" && define.amd) {\n      requirejs.config({paths});\n      require([\"vega-embed\"], displayChart, err => showError(`Error loading script: ${err.message}`));\n    } else {\n      maybeLoadScript(\"vega\", \"5\")\n        .then(() => maybeLoadScript(\"vega-lite\", \"4.17.0\"))\n        .then(() => maybeLoadScript(\"vega-embed\", \"6\"))\n        .catch(showError)\n        .then(() => displayChart(vegaEmbed));\n    }\n  })({\"config\": {\"view\": {\"continuousWidth\": 400, \"continuousHeight\": 300}}, \"data\": {\"name\": \"data-622742712700d9fbbbdceb0ec4b104f9\"}, \"mark\": \"bar\", \"encoding\": {\"color\": {\"field\": \"Categories\", \"scale\": {\"range\": [\"#2EA8CE\", \"#EB9F3C\", \"#F4D837\", \"#51BF9D\", \"#8CBCCB\", \"#9487C0\"]}, \"type\": \"nominal\"}, \"row\": {\"field\": \"Categories\", \"type\": \"nominal\"}, \"tooltip\": [{\"field\": \"Agency\", \"type\": \"nominal\"}, {\"field\": \"Funding Amount\", \"type\": \"quantitative\"}], \"x\": {\"axis\": {\"format\": \"$.2s\", \"title\": \"Obligated Funding ($2021)\"}, \"field\": \"Funding Amount\", \"type\": \"quantitative\"}, \"y\": {\"field\": \"Agency\", \"type\": \"nominal\"}}, \"$schema\": \"https://vega.github.io/schema/vega-lite/v4.17.0.json\", \"datasets\": {\"data-622742712700d9fbbbdceb0ec4b104f9\": [{\"Agency\": \"San Bernardino County\", \"Categories\": \"Total Requested\", \"Funding Amount\": 477679.1930067752}, {\"Agency\": \"Riverside County\", \"Categories\": \"Total Requested\", \"Funding Amount\": 2890343.5279289903}, {\"Agency\": \"Palm Springs\", \"Categories\": \"Total Requested\", \"Funding Amount\": 1985197.368356461}, {\"Agency\": \"Highland\", \"Categories\": \"Total Requested\", \"Funding Amount\": 67962.13556776676}, {\"Agency\": \"Ontario\", \"Categories\": \"Total Requested\", \"Funding Amount\": 124545.8878162681}, {\"Agency\": \"San Bernardino County\", \"Categories\": \"Fed Requested\", \"Funding Amount\": 291988.2795493971}, {\"Agency\": \"Riverside County\", \"Categories\": \"Fed Requested\", \"Funding Amount\": 983096.6445905826}, {\"Agency\": \"Palm Springs\", \"Categories\": \"Fed Requested\", \"Funding Amount\": 429323.7946090978}, {\"Agency\": \"Highland\", \"Categories\": \"Fed Requested\", \"Funding Amount\": 2700478.563750399}, {\"Agency\": \"Ontario\", \"Categories\": \"Fed Requested\", \"Funding Amount\": 110169.11997965454}, {\"Agency\": \"San Bernardino County\", \"Categories\": \"AC Requested\", \"Funding Amount\": 117056.34901136793}, {\"Agency\": \"Riverside County\", \"Categories\": \"AC Requested\", \"Funding Amount\": 1016950.2327427502}, {\"Agency\": \"Palm Springs\", \"Categories\": \"AC Requested\", \"Funding Amount\": 1132458.5141129338}, {\"Agency\": \"Highland\", \"Categories\": \"AC Requested\", \"Funding Amount\": -599246.3186869291}, {\"Agency\": \"Ontario\", \"Categories\": \"AC Requested\", \"Funding Amount\": 0.0}]}}, {\"mode\": \"vega-lite\"});\n</script>",
          "text/plain": "alt.Chart(...)"
         },
         "metadata": {},
         "output_type": "display_data"
        }
       ]
      }
     },
     "0902c465a053456da54232106cbe04d4": {
      "model_module": "@jupyter-widgets/output",
      "model_module_version": "1.0.0",
      "model_name": "OutputModel",
      "state": {
       "layout": "IPY_MODEL_3c371a4a1afa4fb29a31e639488dea90",
       "outputs": [
        {
         "data": {
          "application/vnd.jupyter.widget-view+json": {
           "model_id": "",
           "version_major": 2,
           "version_minor": 0
          },
          "text/plain": "HTML(value='<strong>Top Agencies using Bridge Projects</strong>')"
         },
         "metadata": {},
         "output_type": "display_data"
        },
        {
         "data": {
          "text/html": "<style type=\"text/css\">\n</style>\n<table id=\"T_e526b\">\n  <thead>\n    <tr>\n      <th class=\"blank level0\" >&nbsp;</th>\n      <th id=\"T_e526b_level0_col0\" class=\"col_heading level0 col0\" >Agency</th>\n      <th id=\"T_e526b_level0_col1\" class=\"col_heading level0 col1\" >Bridge Obligations</th>\n      <th id=\"T_e526b_level0_col2\" class=\"col_heading level0 col2\" >Percent of Category</th>\n    </tr>\n  </thead>\n  <tbody>\n    <tr>\n      <th id=\"T_e526b_level0_row0\" class=\"row_heading level0 row0\" >0</th>\n      <td id=\"T_e526b_row0_col0\" class=\"data row0 col0\" >Santa Barbara County</td>\n      <td id=\"T_e526b_row0_col1\" class=\"data row0 col1\" >73</td>\n      <td id=\"T_e526b_row0_col2\" class=\"data row0 col2\" >20.86%</td>\n    </tr>\n    <tr>\n      <th id=\"T_e526b_level0_row1\" class=\"row_heading level0 row1\" >1</th>\n      <td id=\"T_e526b_row1_col0\" class=\"data row1 col0\" >Santa Barbara</td>\n      <td id=\"T_e526b_row1_col1\" class=\"data row1 col1\" >65</td>\n      <td id=\"T_e526b_row1_col2\" class=\"data row1 col2\" >18.57%</td>\n    </tr>\n    <tr>\n      <th id=\"T_e526b_level0_row2\" class=\"row_heading level0 row2\" >2</th>\n      <td id=\"T_e526b_row2_col0\" class=\"data row2 col0\" >San Luis Obispo County</td>\n      <td id=\"T_e526b_row2_col1\" class=\"data row2 col1\" >58</td>\n      <td id=\"T_e526b_row2_col2\" class=\"data row2 col2\" >16.57%</td>\n    </tr>\n    <tr>\n      <th id=\"T_e526b_level0_row3\" class=\"row_heading level0 row3\" >3</th>\n      <td id=\"T_e526b_row3_col0\" class=\"data row3 col0\" >San Benito County</td>\n      <td id=\"T_e526b_row3_col1\" class=\"data row3 col1\" >36</td>\n      <td id=\"T_e526b_row3_col2\" class=\"data row3 col2\" >10.29%</td>\n    </tr>\n    <tr>\n      <th id=\"T_e526b_level0_row4\" class=\"row_heading level0 row4\" >4</th>\n      <td id=\"T_e526b_row4_col0\" class=\"data row4 col0\" >Monterey County</td>\n      <td id=\"T_e526b_row4_col1\" class=\"data row4 col1\" >32</td>\n      <td id=\"T_e526b_row4_col2\" class=\"data row4 col2\" >9.14%</td>\n    </tr>\n  </tbody>\n</table>\n",
          "text/plain": "<pandas.io.formats.style.Styler at 0x7f605dfd9880>"
         },
         "metadata": {},
         "output_type": "display_data"
        },
        {
         "data": {
          "text/html": "\n<div id=\"altair-viz-b3e54acfdae5449fad24d3d4b49ab7c2\"></div>\n<script type=\"text/javascript\">\n  var VEGA_DEBUG = (typeof VEGA_DEBUG == \"undefined\") ? {} : VEGA_DEBUG;\n  (function(spec, embedOpt){\n    let outputDiv = document.currentScript.previousElementSibling;\n    if (outputDiv.id !== \"altair-viz-b3e54acfdae5449fad24d3d4b49ab7c2\") {\n      outputDiv = document.getElementById(\"altair-viz-b3e54acfdae5449fad24d3d4b49ab7c2\");\n    }\n    const paths = {\n      \"vega\": \"https://cdn.jsdelivr.net/npm//vega@5?noext\",\n      \"vega-lib\": \"https://cdn.jsdelivr.net/npm//vega-lib?noext\",\n      \"vega-lite\": \"https://cdn.jsdelivr.net/npm//vega-lite@4.17.0?noext\",\n      \"vega-embed\": \"https://cdn.jsdelivr.net/npm//vega-embed@6?noext\",\n    };\n\n    function maybeLoadScript(lib, version) {\n      var key = `${lib.replace(\"-\", \"\")}_version`;\n      return (VEGA_DEBUG[key] == version) ?\n        Promise.resolve(paths[lib]) :\n        new Promise(function(resolve, reject) {\n          var s = document.createElement('script');\n          document.getElementsByTagName(\"head\")[0].appendChild(s);\n          s.async = true;\n          s.onload = () => {\n            VEGA_DEBUG[key] = version;\n            return resolve(paths[lib]);\n          };\n          s.onerror = () => reject(`Error loading script: ${paths[lib]}`);\n          s.src = paths[lib];\n        });\n    }\n\n    function showError(err) {\n      outputDiv.innerHTML = `<div class=\"error\" style=\"color:red;\">${err}</div>`;\n      throw err;\n    }\n\n    function displayChart(vegaEmbed) {\n      vegaEmbed(outputDiv, spec, embedOpt)\n        .catch(err => showError(`Javascript Error: ${err.message}<br>This usually means there's a typo in your chart specification. See the javascript console for the full traceback.`));\n    }\n\n    if(typeof define === \"function\" && define.amd) {\n      requirejs.config({paths});\n      require([\"vega-embed\"], displayChart, err => showError(`Error loading script: ${err.message}`));\n    } else {\n      maybeLoadScript(\"vega\", \"5\")\n        .then(() => maybeLoadScript(\"vega-lite\", \"4.17.0\"))\n        .then(() => maybeLoadScript(\"vega-embed\", \"6\"))\n        .catch(showError)\n        .then(() => displayChart(vegaEmbed));\n    }\n  })({\"config\": {\"view\": {\"continuousWidth\": 400, \"continuousHeight\": 300}}, \"data\": {\"name\": \"data-570c950b8bcd918a627dd7b9893a06f7\"}, \"mark\": \"bar\", \"encoding\": {\"color\": {\"field\": \"Categories\", \"scale\": {\"range\": [\"#2EA8CE\", \"#EB9F3C\", \"#F4D837\", \"#51BF9D\", \"#8CBCCB\", \"#9487C0\"]}, \"type\": \"nominal\"}, \"row\": {\"field\": \"Categories\", \"type\": \"nominal\"}, \"tooltip\": [{\"field\": \"Agency\", \"type\": \"nominal\"}, {\"field\": \"Funding Amount\", \"type\": \"quantitative\"}], \"x\": {\"axis\": {\"format\": \"$.2s\", \"title\": \"Obligated Funding ($2021)\"}, \"field\": \"Funding Amount\", \"type\": \"quantitative\"}, \"y\": {\"field\": \"Agency\", \"type\": \"nominal\"}}, \"$schema\": \"https://vega.github.io/schema/vega-lite/v4.17.0.json\", \"datasets\": {\"data-570c950b8bcd918a627dd7b9893a06f7\": [{\"Agency\": \"Santa Barbara County\", \"Categories\": \"Total Requested\", \"Funding Amount\": 728472.2162135628}, {\"Agency\": \"Santa Barbara\", \"Categories\": \"Total Requested\", \"Funding Amount\": 1085808.8096322615}, {\"Agency\": \"San Luis Obispo County\", \"Categories\": \"Total Requested\", \"Funding Amount\": 375669.77182033146}, {\"Agency\": \"San Benito County\", \"Categories\": \"Total Requested\", \"Funding Amount\": 495501.70052415493}, {\"Agency\": \"Monterey County\", \"Categories\": \"Total Requested\", \"Funding Amount\": 1216308.0915427997}, {\"Agency\": \"Santa Barbara County\", \"Categories\": \"Fed Requested\", \"Funding Amount\": 502934.16459414555}, {\"Agency\": \"Santa Barbara\", \"Categories\": \"Fed Requested\", \"Funding Amount\": 959392.1784411557}, {\"Agency\": \"San Luis Obispo County\", \"Categories\": \"Fed Requested\", \"Funding Amount\": 356061.7216745905}, {\"Agency\": \"San Benito County\", \"Categories\": \"Fed Requested\", \"Funding Amount\": 470424.97263045446}, {\"Agency\": \"Monterey County\", \"Categories\": \"Fed Requested\", \"Funding Amount\": 870284.589229819}, {\"Agency\": \"Santa Barbara County\", \"Categories\": \"AC Requested\", \"Funding Amount\": 166698.90416809556}, {\"Agency\": \"Santa Barbara\", \"Categories\": \"AC Requested\", \"Funding Amount\": 0.0}, {\"Agency\": \"San Luis Obispo County\", \"Categories\": \"AC Requested\", \"Funding Amount\": 8008.128525459213}, {\"Agency\": \"San Benito County\", \"Categories\": \"AC Requested\", \"Funding Amount\": 10947.109498012062}, {\"Agency\": \"Monterey County\", \"Categories\": \"AC Requested\", \"Funding Amount\": 126.48470710030415}]}}, {\"mode\": \"vega-lite\"});\n</script>",
          "text/plain": "alt.Chart(...)"
         },
         "metadata": {},
         "output_type": "display_data"
        }
       ]
      }
     },
     "094730d47cc847d5b44a9f2de4dc2d25": {
      "model_module": "@jupyter-widgets/base",
      "model_module_version": "1.2.0",
      "model_name": "LayoutModel",
      "state": {}
     },
     "09bedd20d8bf4ed28e13504255afaee6": {
      "model_module": "@jupyter-widgets/base",
      "model_module_version": "1.2.0",
      "model_name": "LayoutModel",
      "state": {}
     },
     "0a3d3f7d4c124009a12c1ad425236ecf": {
      "model_module": "@jupyter-widgets/base",
      "model_module_version": "1.2.0",
      "model_name": "LayoutModel",
      "state": {}
     },
     "0a4d32c7e78b4776b1eb6b729bb872f9": {
      "model_module": "@jupyter-widgets/base",
      "model_module_version": "1.2.0",
      "model_name": "LayoutModel",
      "state": {}
     },
     "0a92bc7d586842268f12c4a49b976340": {
      "model_module": "@jupyter-widgets/controls",
      "model_module_version": "1.5.0",
      "model_name": "DescriptionStyleModel",
      "state": {
       "description_width": ""
      }
     },
     "0ae6247bf48446fd9a01d96613aebbc8": {
      "model_module": "@jupyter-widgets/controls",
      "model_module_version": "1.5.0",
      "model_name": "TabModel",
      "state": {
       "_titles": {
        "0": "Active Transportation",
        "1": "Transit",
        "2": "Bridge",
        "3": "Street",
        "4": "Freeway",
        "5": "Infrastructure & Emergency Relief",
        "6": "Congestion Relief"
       },
       "children": [
        "IPY_MODEL_e84e283e92fa4a47981023124a537c92",
        "IPY_MODEL_246ff07f3acf44edaa8835d529936633",
        "IPY_MODEL_c543b3fc1ee24fd394eca35c4cc2387b",
        "IPY_MODEL_56b874a8028547f9b88b5398ddb2bac9",
        "IPY_MODEL_ddf3bd7150eb4fdcb85cc1583604a60b",
        "IPY_MODEL_34f9bb20ac494700966ea26a84c42de3",
        "IPY_MODEL_f0c81bb1d8bc447594117a51bc1a320f"
       ],
       "layout": "IPY_MODEL_19f50f256cc84379bef70d17e641fca9",
       "selected_index": 2
      }
     },
     "0b09775e8f7741da8fd40b3e33797e4e": {
      "model_module": "@jupyter-widgets/controls",
      "model_module_version": "1.5.0",
      "model_name": "HTMLModel",
      "state": {
       "layout": "IPY_MODEL_2694865c023c45a783350b2a87c8dfc5",
       "style": "IPY_MODEL_c3e42c02e24042a093a3cdcdde40177e",
       "value": "<strong>Top Agencies using Transit Projects</strong>"
      }
     },
     "0bf0b694a44a42148bfc78bc95699139": {
      "model_module": "@jupyter-widgets/base",
      "model_module_version": "1.2.0",
      "model_name": "LayoutModel",
      "state": {}
     },
     "0bf6ec7477be42b1a7ab0ce9e229e16c": {
      "model_module": "@jupyter-widgets/base",
      "model_module_version": "1.2.0",
      "model_name": "LayoutModel",
      "state": {}
     },
     "0c3fc2c8c94544af8d00e9f6b7dd7d73": {
      "model_module": "@jupyter-widgets/controls",
      "model_module_version": "1.5.0",
      "model_name": "DescriptionStyleModel",
      "state": {
       "description_width": ""
      }
     },
     "0d50be383b8845b1aea71255ac4e3eef": {
      "model_module": "@jupyter-widgets/controls",
      "model_module_version": "1.5.0",
      "model_name": "DescriptionStyleModel",
      "state": {
       "description_width": ""
      }
     },
     "0e8d8dc4dbb1472cae50c269b37739e5": {
      "model_module": "@jupyter-widgets/base",
      "model_module_version": "1.2.0",
      "model_name": "LayoutModel",
      "state": {}
     },
     "0eba3f0194804f03ac5a0b62d968c61c": {
      "model_module": "@jupyter-widgets/base",
      "model_module_version": "1.2.0",
      "model_name": "LayoutModel",
      "state": {}
     },
     "0ebbf665c1e24f97b5cc391f2dc8ef8d": {
      "model_module": "@jupyter-widgets/base",
      "model_module_version": "1.2.0",
      "model_name": "LayoutModel",
      "state": {}
     },
     "0f251787350745ffb1ce1c6943f17644": {
      "model_module": "@jupyter-widgets/base",
      "model_module_version": "1.2.0",
      "model_name": "LayoutModel",
      "state": {}
     },
     "0f54de967d9a42568c21e3ae77da9f28": {
      "model_module": "@jupyter-widgets/controls",
      "model_module_version": "1.5.0",
      "model_name": "HTMLModel",
      "state": {
       "layout": "IPY_MODEL_b2e546062aa041c2add153e91eca9576",
       "style": "IPY_MODEL_a7b0e83dfab5461ca8cd5b14a07546e9",
       "value": "<strong>Top Agencies using Freeway Projects</strong>"
      }
     },
     "0f592724094f4c5d9dd089d470767c62": {
      "model_module": "@jupyter-widgets/base",
      "model_module_version": "1.2.0",
      "model_name": "LayoutModel",
      "state": {}
     },
     "0ffe99ebbca049f5b33cccc529a46305": {
      "model_module": "@jupyter-widgets/output",
      "model_module_version": "1.0.0",
      "model_name": "OutputModel",
      "state": {
       "layout": "IPY_MODEL_92b6bb8799244baf873796f8f59af7ee",
       "outputs": [
        {
         "data": {
          "application/vnd.jupyter.widget-view+json": {
           "model_id": "",
           "version_major": 2,
           "version_minor": 0
          },
          "text/plain": "HTML(value='<strong>Top Agencies using Infrastructure & Emergency Relief Projects</strong>')"
         },
         "metadata": {},
         "output_type": "display_data"
        },
        {
         "data": {
          "text/html": "<style type=\"text/css\">\n</style>\n<table id=\"T_464c8\">\n  <thead>\n    <tr>\n      <th class=\"blank level0\" >&nbsp;</th>\n      <th id=\"T_464c8_level0_col0\" class=\"col_heading level0 col0\" >Agency</th>\n      <th id=\"T_464c8_level0_col1\" class=\"col_heading level0 col1\" >Infrastructure & Emergency Relief Obligations</th>\n      <th id=\"T_464c8_level0_col2\" class=\"col_heading level0 col2\" >Percent of Category</th>\n    </tr>\n  </thead>\n  <tbody>\n    <tr>\n      <th id=\"T_464c8_level0_row0\" class=\"row_heading level0 row0\" >0</th>\n      <td id=\"T_464c8_row0_col0\" class=\"data row0 col0\" >Humboldt County</td>\n      <td id=\"T_464c8_row0_col1\" class=\"data row0 col1\" >597</td>\n      <td id=\"T_464c8_row0_col2\" class=\"data row0 col2\" >4.77%</td>\n    </tr>\n    <tr>\n      <th id=\"T_464c8_level0_row1\" class=\"row_heading level0 row1\" >1</th>\n      <td id=\"T_464c8_row1_col0\" class=\"data row1 col0\" >Santa Cruz County</td>\n      <td id=\"T_464c8_row1_col1\" class=\"data row1 col1\" >416</td>\n      <td id=\"T_464c8_row1_col2\" class=\"data row1 col2\" >3.32%</td>\n    </tr>\n    <tr>\n      <th id=\"T_464c8_level0_row2\" class=\"row_heading level0 row2\" >2</th>\n      <td id=\"T_464c8_row2_col0\" class=\"data row2 col0\" >Los Angeles County</td>\n      <td id=\"T_464c8_row2_col1\" class=\"data row2 col1\" >319</td>\n      <td id=\"T_464c8_row2_col2\" class=\"data row2 col2\" >2.55%</td>\n    </tr>\n    <tr>\n      <th id=\"T_464c8_level0_row3\" class=\"row_heading level0 row3\" >3</th>\n      <td id=\"T_464c8_row3_col0\" class=\"data row3 col0\" >Los Angeles</td>\n      <td id=\"T_464c8_row3_col1\" class=\"data row3 col1\" >219</td>\n      <td id=\"T_464c8_row3_col2\" class=\"data row3 col2\" >1.75%</td>\n    </tr>\n    <tr>\n      <th id=\"T_464c8_level0_row4\" class=\"row_heading level0 row4\" >4</th>\n      <td id=\"T_464c8_row4_col0\" class=\"data row4 col0\" >Mendocino County</td>\n      <td id=\"T_464c8_row4_col1\" class=\"data row4 col1\" >215</td>\n      <td id=\"T_464c8_row4_col2\" class=\"data row4 col2\" >1.72%</td>\n    </tr>\n  </tbody>\n</table>\n",
          "text/plain": "<pandas.io.formats.style.Styler at 0x7f605e89a070>"
         },
         "metadata": {},
         "output_type": "display_data"
        },
        {
         "data": {
          "text/html": "\n<div id=\"altair-viz-60cdd66c639e4d139127f1aff4251766\"></div>\n<script type=\"text/javascript\">\n  var VEGA_DEBUG = (typeof VEGA_DEBUG == \"undefined\") ? {} : VEGA_DEBUG;\n  (function(spec, embedOpt){\n    let outputDiv = document.currentScript.previousElementSibling;\n    if (outputDiv.id !== \"altair-viz-60cdd66c639e4d139127f1aff4251766\") {\n      outputDiv = document.getElementById(\"altair-viz-60cdd66c639e4d139127f1aff4251766\");\n    }\n    const paths = {\n      \"vega\": \"https://cdn.jsdelivr.net/npm//vega@5?noext\",\n      \"vega-lib\": \"https://cdn.jsdelivr.net/npm//vega-lib?noext\",\n      \"vega-lite\": \"https://cdn.jsdelivr.net/npm//vega-lite@4.17.0?noext\",\n      \"vega-embed\": \"https://cdn.jsdelivr.net/npm//vega-embed@6?noext\",\n    };\n\n    function maybeLoadScript(lib, version) {\n      var key = `${lib.replace(\"-\", \"\")}_version`;\n      return (VEGA_DEBUG[key] == version) ?\n        Promise.resolve(paths[lib]) :\n        new Promise(function(resolve, reject) {\n          var s = document.createElement('script');\n          document.getElementsByTagName(\"head\")[0].appendChild(s);\n          s.async = true;\n          s.onload = () => {\n            VEGA_DEBUG[key] = version;\n            return resolve(paths[lib]);\n          };\n          s.onerror = () => reject(`Error loading script: ${paths[lib]}`);\n          s.src = paths[lib];\n        });\n    }\n\n    function showError(err) {\n      outputDiv.innerHTML = `<div class=\"error\" style=\"color:red;\">${err}</div>`;\n      throw err;\n    }\n\n    function displayChart(vegaEmbed) {\n      vegaEmbed(outputDiv, spec, embedOpt)\n        .catch(err => showError(`Javascript Error: ${err.message}<br>This usually means there's a typo in your chart specification. See the javascript console for the full traceback.`));\n    }\n\n    if(typeof define === \"function\" && define.amd) {\n      requirejs.config({paths});\n      require([\"vega-embed\"], displayChart, err => showError(`Error loading script: ${err.message}`));\n    } else {\n      maybeLoadScript(\"vega\", \"5\")\n        .then(() => maybeLoadScript(\"vega-lite\", \"4.17.0\"))\n        .then(() => maybeLoadScript(\"vega-embed\", \"6\"))\n        .catch(showError)\n        .then(() => displayChart(vegaEmbed));\n    }\n  })({\"config\": {\"view\": {\"continuousWidth\": 400, \"continuousHeight\": 300}}, \"data\": {\"name\": \"data-1d42f71da1f719a1727ab54c0d7fa72b\"}, \"mark\": \"bar\", \"encoding\": {\"color\": {\"field\": \"Categories\", \"scale\": {\"range\": [\"#2EA8CE\", \"#EB9F3C\", \"#F4D837\", \"#51BF9D\", \"#8CBCCB\", \"#9487C0\"]}, \"type\": \"nominal\"}, \"row\": {\"field\": \"Categories\", \"type\": \"nominal\"}, \"tooltip\": [{\"field\": \"Agency\", \"type\": \"nominal\"}, {\"field\": \"Funding Amount\", \"type\": \"quantitative\"}], \"x\": {\"axis\": {\"format\": \"$.2s\", \"title\": \"Obligated Funding ($2021)\"}, \"field\": \"Funding Amount\", \"type\": \"quantitative\"}, \"y\": {\"field\": \"Agency\", \"type\": \"nominal\"}}, \"$schema\": \"https://vega.github.io/schema/vega-lite/v4.17.0.json\", \"datasets\": {\"data-1d42f71da1f719a1727ab54c0d7fa72b\": [{\"Agency\": \"Humboldt County\", \"Categories\": \"Total Requested\", \"Funding Amount\": 112669.18747100169}, {\"Agency\": \"Santa Cruz County\", \"Categories\": \"Total Requested\", \"Funding Amount\": 147857.64101167236}, {\"Agency\": \"Los Angeles County\", \"Categories\": \"Total Requested\", \"Funding Amount\": 458978.3342168657}, {\"Agency\": \"Los Angeles\", \"Categories\": \"Total Requested\", \"Funding Amount\": 1592515.5363597213}, {\"Agency\": \"Mendocino County\", \"Categories\": \"Total Requested\", \"Funding Amount\": 202450.71377547842}, {\"Agency\": \"Humboldt County\", \"Categories\": \"Fed Requested\", \"Funding Amount\": 88051.80334980703}, {\"Agency\": \"Santa Cruz County\", \"Categories\": \"Fed Requested\", \"Funding Amount\": 148275.4389586794}, {\"Agency\": \"Los Angeles County\", \"Categories\": \"Fed Requested\", \"Funding Amount\": 331507.17978188396}, {\"Agency\": \"Los Angeles\", \"Categories\": \"Fed Requested\", \"Funding Amount\": 1078997.7005355777}, {\"Agency\": \"Mendocino County\", \"Categories\": \"Fed Requested\", \"Funding Amount\": 186900.05095104763}, {\"Agency\": \"Humboldt County\", \"Categories\": \"AC Requested\", \"Funding Amount\": 12771.873503774495}, {\"Agency\": \"Santa Cruz County\", \"Categories\": \"AC Requested\", \"Funding Amount\": -18388.66952638947}, {\"Agency\": \"Los Angeles County\", \"Categories\": \"AC Requested\", \"Funding Amount\": 16235.397448937147}, {\"Agency\": \"Los Angeles\", \"Categories\": \"AC Requested\", \"Funding Amount\": 155602.3652872967}, {\"Agency\": \"Mendocino County\", \"Categories\": \"AC Requested\", \"Funding Amount\": 284.49184504807965}]}}, {\"mode\": \"vega-lite\"});\n</script>",
          "text/plain": "alt.Chart(...)"
         },
         "metadata": {},
         "output_type": "display_data"
        }
       ]
      }
     },
     "112dde11c69e4e0da612caaf5e2aea98": {
      "model_module": "@jupyter-widgets/controls",
      "model_module_version": "1.5.0",
      "model_name": "HTMLModel",
      "state": {
       "layout": "IPY_MODEL_f158cb7bced6438c94786aa8cc222c88",
       "style": "IPY_MODEL_12656ffc8cde46cfbadf740a68a000ad",
       "value": "<strong>Top Agencies using Congestion Relief Projects</strong>"
      }
     },
     "113dc2c5438e4ea3853bcc771a2abe0c": {
      "model_module": "@jupyter-widgets/output",
      "model_module_version": "1.0.0",
      "model_name": "OutputModel",
      "state": {
       "layout": "IPY_MODEL_461b5dbd4d9747b4bd43ea40c1666652",
       "outputs": [
        {
         "data": {
          "application/vnd.jupyter.widget-view+json": {
           "model_id": "",
           "version_major": 2,
           "version_minor": 0
          },
          "text/plain": "HTML(value='<strong>Top Agencies using Infrastructure & Emergency Relief Projects</strong>')"
         },
         "metadata": {},
         "output_type": "display_data"
        },
        {
         "data": {
          "text/html": "<style type=\"text/css\">\n</style>\n<table id=\"T_c9742\">\n  <thead>\n    <tr>\n      <th class=\"blank level0\" >&nbsp;</th>\n      <th id=\"T_c9742_level0_col0\" class=\"col_heading level0 col0\" >Agency</th>\n      <th id=\"T_c9742_level0_col1\" class=\"col_heading level0 col1\" >Infrastructure & Emergency Relief Obligations</th>\n      <th id=\"T_c9742_level0_col2\" class=\"col_heading level0 col2\" >Percent of Category</th>\n    </tr>\n  </thead>\n  <tbody>\n    <tr>\n      <th id=\"T_c9742_level0_row0\" class=\"row_heading level0 row0\" >0</th>\n      <td id=\"T_c9742_row0_col0\" class=\"data row0 col0\" >Contra Costa County</td>\n      <td id=\"T_c9742_row0_col1\" class=\"data row0 col1\" >102</td>\n      <td id=\"T_c9742_row0_col2\" class=\"data row0 col2\" >5.21%</td>\n    </tr>\n    <tr>\n      <th id=\"T_c9742_level0_row1\" class=\"row_heading level0 row1\" >1</th>\n      <td id=\"T_c9742_row1_col0\" class=\"data row1 col0\" >Napa County</td>\n      <td id=\"T_c9742_row1_col1\" class=\"data row1 col1\" >88</td>\n      <td id=\"T_c9742_row1_col2\" class=\"data row1 col2\" >4.50%</td>\n    </tr>\n    <tr>\n      <th id=\"T_c9742_level0_row2\" class=\"row_heading level0 row2\" >2</th>\n      <td id=\"T_c9742_row2_col0\" class=\"data row2 col0\" >Santa Clara County</td>\n      <td id=\"T_c9742_row2_col1\" class=\"data row2 col1\" >82</td>\n      <td id=\"T_c9742_row2_col2\" class=\"data row2 col2\" >4.19%</td>\n    </tr>\n    <tr>\n      <th id=\"T_c9742_level0_row3\" class=\"row_heading level0 row3\" >3</th>\n      <td id=\"T_c9742_row3_col0\" class=\"data row3 col0\" >Sonoma County</td>\n      <td id=\"T_c9742_row3_col1\" class=\"data row3 col1\" >71</td>\n      <td id=\"T_c9742_row3_col2\" class=\"data row3 col2\" >3.63%</td>\n    </tr>\n    <tr>\n      <th id=\"T_c9742_level0_row4\" class=\"row_heading level0 row4\" >4</th>\n      <td id=\"T_c9742_row4_col0\" class=\"data row4 col0\" >Oakland</td>\n      <td id=\"T_c9742_row4_col1\" class=\"data row4 col1\" >70</td>\n      <td id=\"T_c9742_row4_col2\" class=\"data row4 col2\" >3.58%</td>\n    </tr>\n  </tbody>\n</table>\n",
          "text/plain": "<pandas.io.formats.style.Styler at 0x7f605e8f7bb0>"
         },
         "metadata": {},
         "output_type": "display_data"
        },
        {
         "data": {
          "text/html": "\n<div id=\"altair-viz-4fbe703d11484677a7ca53ed26990ba1\"></div>\n<script type=\"text/javascript\">\n  var VEGA_DEBUG = (typeof VEGA_DEBUG == \"undefined\") ? {} : VEGA_DEBUG;\n  (function(spec, embedOpt){\n    let outputDiv = document.currentScript.previousElementSibling;\n    if (outputDiv.id !== \"altair-viz-4fbe703d11484677a7ca53ed26990ba1\") {\n      outputDiv = document.getElementById(\"altair-viz-4fbe703d11484677a7ca53ed26990ba1\");\n    }\n    const paths = {\n      \"vega\": \"https://cdn.jsdelivr.net/npm//vega@5?noext\",\n      \"vega-lib\": \"https://cdn.jsdelivr.net/npm//vega-lib?noext\",\n      \"vega-lite\": \"https://cdn.jsdelivr.net/npm//vega-lite@4.17.0?noext\",\n      \"vega-embed\": \"https://cdn.jsdelivr.net/npm//vega-embed@6?noext\",\n    };\n\n    function maybeLoadScript(lib, version) {\n      var key = `${lib.replace(\"-\", \"\")}_version`;\n      return (VEGA_DEBUG[key] == version) ?\n        Promise.resolve(paths[lib]) :\n        new Promise(function(resolve, reject) {\n          var s = document.createElement('script');\n          document.getElementsByTagName(\"head\")[0].appendChild(s);\n          s.async = true;\n          s.onload = () => {\n            VEGA_DEBUG[key] = version;\n            return resolve(paths[lib]);\n          };\n          s.onerror = () => reject(`Error loading script: ${paths[lib]}`);\n          s.src = paths[lib];\n        });\n    }\n\n    function showError(err) {\n      outputDiv.innerHTML = `<div class=\"error\" style=\"color:red;\">${err}</div>`;\n      throw err;\n    }\n\n    function displayChart(vegaEmbed) {\n      vegaEmbed(outputDiv, spec, embedOpt)\n        .catch(err => showError(`Javascript Error: ${err.message}<br>This usually means there's a typo in your chart specification. See the javascript console for the full traceback.`));\n    }\n\n    if(typeof define === \"function\" && define.amd) {\n      requirejs.config({paths});\n      require([\"vega-embed\"], displayChart, err => showError(`Error loading script: ${err.message}`));\n    } else {\n      maybeLoadScript(\"vega\", \"5\")\n        .then(() => maybeLoadScript(\"vega-lite\", \"4.17.0\"))\n        .then(() => maybeLoadScript(\"vega-embed\", \"6\"))\n        .catch(showError)\n        .then(() => displayChart(vegaEmbed));\n    }\n  })({\"config\": {\"view\": {\"continuousWidth\": 400, \"continuousHeight\": 300}}, \"data\": {\"name\": \"data-f0cad226c95a51748334db9fe2ae4c0a\"}, \"mark\": \"bar\", \"encoding\": {\"color\": {\"field\": \"Categories\", \"scale\": {\"range\": [\"#2EA8CE\", \"#EB9F3C\", \"#F4D837\", \"#51BF9D\", \"#8CBCCB\", \"#9487C0\"]}, \"type\": \"nominal\"}, \"row\": {\"field\": \"Categories\", \"type\": \"nominal\"}, \"tooltip\": [{\"field\": \"Agency\", \"type\": \"nominal\"}, {\"field\": \"Funding Amount\", \"type\": \"quantitative\"}], \"x\": {\"axis\": {\"format\": \"$.2s\", \"title\": \"Obligated Funding ($2021)\"}, \"field\": \"Funding Amount\", \"type\": \"quantitative\"}, \"y\": {\"field\": \"Agency\", \"type\": \"nominal\"}}, \"$schema\": \"https://vega.github.io/schema/vega-lite/v4.17.0.json\", \"datasets\": {\"data-f0cad226c95a51748334db9fe2ae4c0a\": [{\"Agency\": \"Contra Costa County\", \"Categories\": \"Total Requested\", \"Funding Amount\": 852412.8986917532}, {\"Agency\": \"Napa County\", \"Categories\": \"Total Requested\", \"Funding Amount\": 290127.23106307245}, {\"Agency\": \"Santa Clara County\", \"Categories\": \"Total Requested\", \"Funding Amount\": 672624.8283425933}, {\"Agency\": \"Sonoma County\", \"Categories\": \"Total Requested\", \"Funding Amount\": 648775.690347322}, {\"Agency\": \"Oakland\", \"Categories\": \"Total Requested\", \"Funding Amount\": 1543864.847788699}, {\"Agency\": \"Contra Costa County\", \"Categories\": \"Fed Requested\", \"Funding Amount\": 637082.1190394674}, {\"Agency\": \"Napa County\", \"Categories\": \"Fed Requested\", \"Funding Amount\": 254382.40987557478}, {\"Agency\": \"Santa Clara County\", \"Categories\": \"Fed Requested\", \"Funding Amount\": 568961.2217746255}, {\"Agency\": \"Sonoma County\", \"Categories\": \"Fed Requested\", \"Funding Amount\": 488154.49796102184}, {\"Agency\": \"Oakland\", \"Categories\": \"Fed Requested\", \"Funding Amount\": 1123344.3663603195}, {\"Agency\": \"Contra Costa County\", \"Categories\": \"AC Requested\", \"Funding Amount\": 46442.64603194262}, {\"Agency\": \"Napa County\", \"Categories\": \"AC Requested\", \"Funding Amount\": 4926.44569571146}, {\"Agency\": \"Santa Clara County\", \"Categories\": \"AC Requested\", \"Funding Amount\": 4141.262730127382}, {\"Agency\": \"Sonoma County\", \"Categories\": \"AC Requested\", \"Funding Amount\": 63056.74152049417}, {\"Agency\": \"Oakland\", \"Categories\": \"AC Requested\", \"Funding Amount\": 0.0}]}}, {\"mode\": \"vega-lite\"});\n</script>",
          "text/plain": "alt.Chart(...)"
         },
         "metadata": {},
         "output_type": "display_data"
        }
       ]
      }
     },
     "11b0db704da741aca365ee7c0acdd814": {
      "model_module": "@jupyter-widgets/controls",
      "model_module_version": "1.5.0",
      "model_name": "HTMLModel",
      "state": {
       "layout": "IPY_MODEL_cdae03e891224757b7203e3081d9b83e",
       "style": "IPY_MODEL_6c44c2e4db1042dd86e482a23527f2a0",
       "value": "<strong>Top Agencies using Infrastructure & Emergency Relief Projects</strong>"
      }
     },
     "11c4faf97f644b5dbc79e65f157f675b": {
      "model_module": "@jupyter-widgets/base",
      "model_module_version": "1.2.0",
      "model_name": "LayoutModel",
      "state": {}
     },
     "12656ffc8cde46cfbadf740a68a000ad": {
      "model_module": "@jupyter-widgets/controls",
      "model_module_version": "1.5.0",
      "model_name": "DescriptionStyleModel",
      "state": {
       "description_width": ""
      }
     },
     "127af52fcddd44a68a9120aa877de31d": {
      "model_module": "@jupyter-widgets/controls",
      "model_module_version": "1.5.0",
      "model_name": "DescriptionStyleModel",
      "state": {
       "description_width": ""
      }
     },
     "139e9e7e9bd5450794070641a4f8ec90": {
      "model_module": "@jupyter-widgets/base",
      "model_module_version": "1.2.0",
      "model_name": "LayoutModel",
      "state": {}
     },
     "13cc868ee741433caa8d657a796de390": {
      "model_module": "@jupyter-widgets/controls",
      "model_module_version": "1.5.0",
      "model_name": "DescriptionStyleModel",
      "state": {
       "description_width": ""
      }
     },
     "144063a4764c4211aa9f727ed043a7f4": {
      "model_module": "@jupyter-widgets/base",
      "model_module_version": "1.2.0",
      "model_name": "LayoutModel",
      "state": {}
     },
     "14a410c324d048d18bf06c26bbeb7565": {
      "model_module": "@jupyter-widgets/base",
      "model_module_version": "1.2.0",
      "model_name": "LayoutModel",
      "state": {}
     },
     "151dab0badbb47f89b8d7edf9ac5c35e": {
      "model_module": "@jupyter-widgets/base",
      "model_module_version": "1.2.0",
      "model_name": "LayoutModel",
      "state": {}
     },
     "159a94f1442241c693d3cdc6cd6568c8": {
      "model_module": "@jupyter-widgets/controls",
      "model_module_version": "1.5.0",
      "model_name": "TabModel",
      "state": {
       "_titles": {
        "0": "Active Transportation",
        "1": "Transit",
        "2": "Bridge",
        "3": "Street",
        "4": "Freeway",
        "5": "Infrastructure & Emergency Relief",
        "6": "Congestion Relief"
       },
       "children": [
        "IPY_MODEL_cf65b886c80f4cfc971cb39369f3b946",
        "IPY_MODEL_adff002bdd96433c88ffb8ae8d0ac070",
        "IPY_MODEL_c2927d842ee34ca68c7b79cc859b6360",
        "IPY_MODEL_37796be8b19343d5901a7f7c96f8e70c",
        "IPY_MODEL_c52ec1a409774c27b8617d55810d3fb1",
        "IPY_MODEL_b806a44538d44b51aa5c17a1918e0f32",
        "IPY_MODEL_24f596147eb34f1fba9c380afe82b527"
       ],
       "layout": "IPY_MODEL_9ad10d41c01849be8048079683672be9"
      }
     },
     "163840063fac490a9c7e606a22a49754": {
      "model_module": "@jupyter-widgets/base",
      "model_module_version": "1.2.0",
      "model_name": "LayoutModel",
      "state": {}
     },
     "16598e4971204af09ccb56ee7211616d": {
      "model_module": "@jupyter-widgets/base",
      "model_module_version": "1.2.0",
      "model_name": "LayoutModel",
      "state": {}
     },
     "166b287c2d4f4509b858fd33e4694b9a": {
      "model_module": "@jupyter-widgets/controls",
      "model_module_version": "1.5.0",
      "model_name": "HTMLModel",
      "state": {
       "layout": "IPY_MODEL_7c7c6b4a3bb546a8bf333ccd4f7df4dd",
       "style": "IPY_MODEL_b45770ca61264759bb1198b67c6b3d02",
       "value": "<strong>Top Agencies using Active Transportation Projects</strong>"
      }
     },
     "167ffbb83db94f848e6e4539edf35d2e": {
      "model_module": "@jupyter-widgets/base",
      "model_module_version": "1.2.0",
      "model_name": "LayoutModel",
      "state": {}
     },
     "190498db4cbd4683ae8884f5a0c81335": {
      "model_module": "@jupyter-widgets/base",
      "model_module_version": "1.2.0",
      "model_name": "LayoutModel",
      "state": {}
     },
     "19f50f256cc84379bef70d17e641fca9": {
      "model_module": "@jupyter-widgets/base",
      "model_module_version": "1.2.0",
      "model_name": "LayoutModel",
      "state": {}
     },
     "1a2e2624e1eb4d0487db2943b525da32": {
      "model_module": "@jupyter-widgets/controls",
      "model_module_version": "1.5.0",
      "model_name": "HTMLModel",
      "state": {
       "layout": "IPY_MODEL_02510f4ef151443d876628b237416bec",
       "style": "IPY_MODEL_a10646e353e84a1bbba764a31cb0426e",
       "value": "<strong>Top Agencies using Congestion Relief Projects</strong>"
      }
     },
     "1b1bac8afd74455592c7ddb0819c7067": {
      "model_module": "@jupyter-widgets/controls",
      "model_module_version": "1.5.0",
      "model_name": "DescriptionStyleModel",
      "state": {
       "description_width": ""
      }
     },
     "1bb0432fd2634225bce0402db2c1a805": {
      "model_module": "@jupyter-widgets/base",
      "model_module_version": "1.2.0",
      "model_name": "LayoutModel",
      "state": {}
     },
     "1c6541e4b21f4f9cb96cc1437af4bfb0": {
      "model_module": "@jupyter-widgets/output",
      "model_module_version": "1.0.0",
      "model_name": "OutputModel",
      "state": {
       "layout": "IPY_MODEL_01a4e8c667754dc39a6c8b9338ae30cf",
       "outputs": [
        {
         "data": {
          "application/vnd.jupyter.widget-view+json": {
           "model_id": "",
           "version_major": 2,
           "version_minor": 0
          },
          "text/plain": "HTML(value='<strong>Top Agencies using Transit Projects</strong>')"
         },
         "metadata": {},
         "output_type": "display_data"
        },
        {
         "data": {
          "text/html": "<style type=\"text/css\">\n</style>\n<table id=\"T_77ce3\">\n  <thead>\n    <tr>\n      <th class=\"blank level0\" >&nbsp;</th>\n      <th id=\"T_77ce3_level0_col0\" class=\"col_heading level0 col0\" >Agency</th>\n      <th id=\"T_77ce3_level0_col1\" class=\"col_heading level0 col1\" >Transit Obligations</th>\n      <th id=\"T_77ce3_level0_col2\" class=\"col_heading level0 col2\" >Percent of Category</th>\n    </tr>\n  </thead>\n  <tbody>\n    <tr>\n      <th id=\"T_77ce3_level0_row0\" class=\"row_heading level0 row0\" >0</th>\n      <td id=\"T_77ce3_row0_col0\" class=\"data row0 col0\" >Metropolitan Transportation Commission</td>\n      <td id=\"T_77ce3_row0_col1\" class=\"data row0 col1\" >18</td>\n      <td id=\"T_77ce3_row0_col2\" class=\"data row0 col2\" >28.57%</td>\n    </tr>\n    <tr>\n      <th id=\"T_77ce3_level0_row1\" class=\"row_heading level0 row1\" >1</th>\n      <td id=\"T_77ce3_row1_col0\" class=\"data row1 col0\" >Sunnyvale</td>\n      <td id=\"T_77ce3_row1_col1\" class=\"data row1 col1\" >6</td>\n      <td id=\"T_77ce3_row1_col2\" class=\"data row1 col2\" >9.52%</td>\n    </tr>\n    <tr>\n      <th id=\"T_77ce3_level0_row2\" class=\"row_heading level0 row2\" >2</th>\n      <td id=\"T_77ce3_row2_col0\" class=\"data row2 col0\" >Oakland</td>\n      <td id=\"T_77ce3_row2_col1\" class=\"data row2 col1\" >4</td>\n      <td id=\"T_77ce3_row2_col2\" class=\"data row2 col2\" >6.35%</td>\n    </tr>\n    <tr>\n      <th id=\"T_77ce3_level0_row3\" class=\"row_heading level0 row3\" >3</th>\n      <td id=\"T_77ce3_row3_col0\" class=\"data row3 col0\" >San Jose</td>\n      <td id=\"T_77ce3_row3_col1\" class=\"data row3 col1\" >4</td>\n      <td id=\"T_77ce3_row3_col2\" class=\"data row3 col2\" >6.35%</td>\n    </tr>\n    <tr>\n      <th id=\"T_77ce3_level0_row4\" class=\"row_heading level0 row4\" >4</th>\n      <td id=\"T_77ce3_row4_col0\" class=\"data row4 col0\" >San Leandro</td>\n      <td id=\"T_77ce3_row4_col1\" class=\"data row4 col1\" >4</td>\n      <td id=\"T_77ce3_row4_col2\" class=\"data row4 col2\" >6.35%</td>\n    </tr>\n  </tbody>\n</table>\n",
          "text/plain": "<pandas.io.formats.style.Styler at 0x7f605d2eaf70>"
         },
         "metadata": {},
         "output_type": "display_data"
        },
        {
         "data": {
          "text/html": "\n<div id=\"altair-viz-6d2eccb794bd4b7e99e399a3b6a901db\"></div>\n<script type=\"text/javascript\">\n  var VEGA_DEBUG = (typeof VEGA_DEBUG == \"undefined\") ? {} : VEGA_DEBUG;\n  (function(spec, embedOpt){\n    let outputDiv = document.currentScript.previousElementSibling;\n    if (outputDiv.id !== \"altair-viz-6d2eccb794bd4b7e99e399a3b6a901db\") {\n      outputDiv = document.getElementById(\"altair-viz-6d2eccb794bd4b7e99e399a3b6a901db\");\n    }\n    const paths = {\n      \"vega\": \"https://cdn.jsdelivr.net/npm//vega@5?noext\",\n      \"vega-lib\": \"https://cdn.jsdelivr.net/npm//vega-lib?noext\",\n      \"vega-lite\": \"https://cdn.jsdelivr.net/npm//vega-lite@4.17.0?noext\",\n      \"vega-embed\": \"https://cdn.jsdelivr.net/npm//vega-embed@6?noext\",\n    };\n\n    function maybeLoadScript(lib, version) {\n      var key = `${lib.replace(\"-\", \"\")}_version`;\n      return (VEGA_DEBUG[key] == version) ?\n        Promise.resolve(paths[lib]) :\n        new Promise(function(resolve, reject) {\n          var s = document.createElement('script');\n          document.getElementsByTagName(\"head\")[0].appendChild(s);\n          s.async = true;\n          s.onload = () => {\n            VEGA_DEBUG[key] = version;\n            return resolve(paths[lib]);\n          };\n          s.onerror = () => reject(`Error loading script: ${paths[lib]}`);\n          s.src = paths[lib];\n        });\n    }\n\n    function showError(err) {\n      outputDiv.innerHTML = `<div class=\"error\" style=\"color:red;\">${err}</div>`;\n      throw err;\n    }\n\n    function displayChart(vegaEmbed) {\n      vegaEmbed(outputDiv, spec, embedOpt)\n        .catch(err => showError(`Javascript Error: ${err.message}<br>This usually means there's a typo in your chart specification. See the javascript console for the full traceback.`));\n    }\n\n    if(typeof define === \"function\" && define.amd) {\n      requirejs.config({paths});\n      require([\"vega-embed\"], displayChart, err => showError(`Error loading script: ${err.message}`));\n    } else {\n      maybeLoadScript(\"vega\", \"5\")\n        .then(() => maybeLoadScript(\"vega-lite\", \"4.17.0\"))\n        .then(() => maybeLoadScript(\"vega-embed\", \"6\"))\n        .catch(showError)\n        .then(() => displayChart(vegaEmbed));\n    }\n  })({\"config\": {\"view\": {\"continuousWidth\": 400, \"continuousHeight\": 300}}, \"data\": {\"name\": \"data-5d5f97471ecf66635b3fb2d263bac6ba\"}, \"mark\": \"bar\", \"encoding\": {\"color\": {\"field\": \"Categories\", \"scale\": {\"range\": [\"#2EA8CE\", \"#EB9F3C\", \"#F4D837\", \"#51BF9D\", \"#8CBCCB\", \"#9487C0\"]}, \"type\": \"nominal\"}, \"row\": {\"field\": \"Categories\", \"type\": \"nominal\"}, \"tooltip\": [{\"field\": \"Agency\", \"type\": \"nominal\"}, {\"field\": \"Funding Amount\", \"type\": \"quantitative\"}], \"x\": {\"axis\": {\"format\": \"$.2s\", \"title\": \"Obligated Funding ($2021)\"}, \"field\": \"Funding Amount\", \"type\": \"quantitative\"}, \"y\": {\"field\": \"Agency\", \"type\": \"nominal\"}}, \"$schema\": \"https://vega.github.io/schema/vega-lite/v4.17.0.json\", \"datasets\": {\"data-5d5f97471ecf66635b3fb2d263bac6ba\": [{\"Agency\": \"Metropolitan Transportation Commission\", \"Categories\": \"Total Requested\", \"Funding Amount\": 1891120.7657899645}, {\"Agency\": \"Sunnyvale\", \"Categories\": \"Total Requested\", \"Funding Amount\": 928104.7429225458}, {\"Agency\": \"Oakland\", \"Categories\": \"Total Requested\", \"Funding Amount\": 1799536.078974054}, {\"Agency\": \"San Jose\", \"Categories\": \"Total Requested\", \"Funding Amount\": 295984.4092976527}, {\"Agency\": \"San Leandro\", \"Categories\": \"Total Requested\", \"Funding Amount\": 143582.35902528386}, {\"Agency\": \"Metropolitan Transportation Commission\", \"Categories\": \"Fed Requested\", \"Funding Amount\": 1879749.0219219865}, {\"Agency\": \"Sunnyvale\", \"Categories\": \"Fed Requested\", \"Funding Amount\": 721554.6089858533}, {\"Agency\": \"Oakland\", \"Categories\": \"Fed Requested\", \"Funding Amount\": 1204808.1708253678}, {\"Agency\": \"San Jose\", \"Categories\": \"Fed Requested\", \"Funding Amount\": 270786.4812614909}, {\"Agency\": \"San Leandro\", \"Categories\": \"Fed Requested\", \"Funding Amount\": -328.53984403832146}, {\"Agency\": \"Metropolitan Transportation Commission\", \"Categories\": \"AC Requested\", \"Funding Amount\": 0.0}, {\"Agency\": \"Sunnyvale\", \"Categories\": \"AC Requested\", \"Funding Amount\": 0.0}, {\"Agency\": \"Oakland\", \"Categories\": \"AC Requested\", \"Funding Amount\": 0.0}, {\"Agency\": \"San Jose\", \"Categories\": \"AC Requested\", \"Funding Amount\": 0.0}, {\"Agency\": \"San Leandro\", \"Categories\": \"AC Requested\", \"Funding Amount\": 0.0}]}}, {\"mode\": \"vega-lite\"});\n</script>",
          "text/plain": "alt.Chart(...)"
         },
         "metadata": {},
         "output_type": "display_data"
        }
       ]
      }
     },
     "1cad452629bc4b94a00a8c801b2b920d": {
      "model_module": "@jupyter-widgets/base",
      "model_module_version": "1.2.0",
      "model_name": "LayoutModel",
      "state": {}
     },
     "1ce4bff342b4469d8547ac564f3bfa31": {
      "model_module": "@jupyter-widgets/controls",
      "model_module_version": "1.5.0",
      "model_name": "TabModel",
      "state": {
       "_titles": {
        "0": "Active Transportation",
        "1": "Transit",
        "2": "Bridge",
        "3": "Street",
        "4": "Freeway",
        "5": "Infrastructure & Emergency Relief",
        "6": "Congestion Relief"
       },
       "children": [
        "IPY_MODEL_387e6dab11064cf283bfef3f43a6e4c2",
        "IPY_MODEL_d6ab9a8af016431c852a131e62be66ce",
        "IPY_MODEL_a3e181ddb31e43538b892e74e21f61e1",
        "IPY_MODEL_31802fe6650f4d699b7fc3f3a372fa00",
        "IPY_MODEL_c5e67b423cbf4a25b45eef2f12004135",
        "IPY_MODEL_72dd767ac8f14762b48281de0ace032f",
        "IPY_MODEL_fa1fba356ba54df0a17a2f6dc8fb8b86"
       ],
       "layout": "IPY_MODEL_33684e4d8c214e8385007ecf915db4cf"
      }
     },
     "1cfd270e811542f79924b4a8ecd0b19c": {
      "model_module": "@jupyter-widgets/controls",
      "model_module_version": "1.5.0",
      "model_name": "DescriptionStyleModel",
      "state": {
       "description_width": ""
      }
     },
     "20816181e96242c995f954f11a66804a": {
      "model_module": "@jupyter-widgets/base",
      "model_module_version": "1.2.0",
      "model_name": "LayoutModel",
      "state": {}
     },
     "22a1d1803f934966bcbd74d93f5571f4": {
      "model_module": "@jupyter-widgets/base",
      "model_module_version": "1.2.0",
      "model_name": "LayoutModel",
      "state": {}
     },
     "22dbaef11eae44f7b883b0ac6ad49dbe": {
      "model_module": "@jupyter-widgets/controls",
      "model_module_version": "1.5.0",
      "model_name": "HTMLModel",
      "state": {
       "layout": "IPY_MODEL_6201e1026c3a4cf880a25826b33f8eb7",
       "style": "IPY_MODEL_06e41f1849404eb8a595e449020a12f1",
       "value": "<strong>Top Agencies using Infrastructure & Emergency Relief Projects</strong>"
      }
     },
     "232cbedc24d649fca61fa686fae5b57d": {
      "model_module": "@jupyter-widgets/base",
      "model_module_version": "1.2.0",
      "model_name": "LayoutModel",
      "state": {}
     },
     "23e6688e0722449195b49fc62d639f0e": {
      "model_module": "@jupyter-widgets/controls",
      "model_module_version": "1.5.0",
      "model_name": "HTMLModel",
      "state": {
       "layout": "IPY_MODEL_14a410c324d048d18bf06c26bbeb7565",
       "style": "IPY_MODEL_5ad338cad78a4124b0ff841dc2e3e16d",
       "value": "<strong>Top Agencies using Infrastructure & Emergency Relief Projects</strong>"
      }
     },
     "24426c4be1f746d5aa8a3c0408ca591f": {
      "model_module": "@jupyter-widgets/base",
      "model_module_version": "1.2.0",
      "model_name": "LayoutModel",
      "state": {}
     },
     "246ff07f3acf44edaa8835d529936633": {
      "model_module": "@jupyter-widgets/output",
      "model_module_version": "1.0.0",
      "model_name": "OutputModel",
      "state": {
       "layout": "IPY_MODEL_c5bc01fb52ec47e6a136257d740ffd64",
       "outputs": [
        {
         "data": {
          "application/vnd.jupyter.widget-view+json": {
           "model_id": "",
           "version_major": 2,
           "version_minor": 0
          },
          "text/plain": "HTML(value='<strong>Top Agencies using Transit Projects</strong>')"
         },
         "metadata": {},
         "output_type": "display_data"
        },
        {
         "data": {
          "text/html": "<style type=\"text/css\">\n</style>\n<table id=\"T_d80d1\">\n  <thead>\n    <tr>\n      <th class=\"blank level0\" >&nbsp;</th>\n      <th id=\"T_d80d1_level0_col0\" class=\"col_heading level0 col0\" >Agency</th>\n      <th id=\"T_d80d1_level0_col1\" class=\"col_heading level0 col1\" >Transit Obligations</th>\n      <th id=\"T_d80d1_level0_col2\" class=\"col_heading level0 col2\" >Percent of Category</th>\n    </tr>\n  </thead>\n  <tbody>\n    <tr>\n      <th id=\"T_d80d1_level0_row0\" class=\"row_heading level0 row0\" >0</th>\n      <td id=\"T_d80d1_row0_col0\" class=\"data row0 col0\" >Metropolitan Transportation Commission</td>\n      <td id=\"T_d80d1_row0_col1\" class=\"data row0 col1\" >18</td>\n      <td id=\"T_d80d1_row0_col2\" class=\"data row0 col2\" >28.57%</td>\n    </tr>\n    <tr>\n      <th id=\"T_d80d1_level0_row1\" class=\"row_heading level0 row1\" >1</th>\n      <td id=\"T_d80d1_row1_col0\" class=\"data row1 col0\" >Sunnyvale</td>\n      <td id=\"T_d80d1_row1_col1\" class=\"data row1 col1\" >6</td>\n      <td id=\"T_d80d1_row1_col2\" class=\"data row1 col2\" >9.52%</td>\n    </tr>\n    <tr>\n      <th id=\"T_d80d1_level0_row2\" class=\"row_heading level0 row2\" >2</th>\n      <td id=\"T_d80d1_row2_col0\" class=\"data row2 col0\" >Oakland</td>\n      <td id=\"T_d80d1_row2_col1\" class=\"data row2 col1\" >4</td>\n      <td id=\"T_d80d1_row2_col2\" class=\"data row2 col2\" >6.35%</td>\n    </tr>\n    <tr>\n      <th id=\"T_d80d1_level0_row3\" class=\"row_heading level0 row3\" >3</th>\n      <td id=\"T_d80d1_row3_col0\" class=\"data row3 col0\" >San Jose</td>\n      <td id=\"T_d80d1_row3_col1\" class=\"data row3 col1\" >4</td>\n      <td id=\"T_d80d1_row3_col2\" class=\"data row3 col2\" >6.35%</td>\n    </tr>\n    <tr>\n      <th id=\"T_d80d1_level0_row4\" class=\"row_heading level0 row4\" >4</th>\n      <td id=\"T_d80d1_row4_col0\" class=\"data row4 col0\" >San Leandro</td>\n      <td id=\"T_d80d1_row4_col1\" class=\"data row4 col1\" >4</td>\n      <td id=\"T_d80d1_row4_col2\" class=\"data row4 col2\" >6.35%</td>\n    </tr>\n  </tbody>\n</table>\n",
          "text/plain": "<pandas.io.formats.style.Styler at 0x7f605d031d90>"
         },
         "metadata": {},
         "output_type": "display_data"
        },
        {
         "data": {
          "text/html": "\n<div id=\"altair-viz-0b798d9be06949ae974d6b9fe981742c\"></div>\n<script type=\"text/javascript\">\n  var VEGA_DEBUG = (typeof VEGA_DEBUG == \"undefined\") ? {} : VEGA_DEBUG;\n  (function(spec, embedOpt){\n    let outputDiv = document.currentScript.previousElementSibling;\n    if (outputDiv.id !== \"altair-viz-0b798d9be06949ae974d6b9fe981742c\") {\n      outputDiv = document.getElementById(\"altair-viz-0b798d9be06949ae974d6b9fe981742c\");\n    }\n    const paths = {\n      \"vega\": \"https://cdn.jsdelivr.net/npm//vega@5?noext\",\n      \"vega-lib\": \"https://cdn.jsdelivr.net/npm//vega-lib?noext\",\n      \"vega-lite\": \"https://cdn.jsdelivr.net/npm//vega-lite@4.17.0?noext\",\n      \"vega-embed\": \"https://cdn.jsdelivr.net/npm//vega-embed@6?noext\",\n    };\n\n    function maybeLoadScript(lib, version) {\n      var key = `${lib.replace(\"-\", \"\")}_version`;\n      return (VEGA_DEBUG[key] == version) ?\n        Promise.resolve(paths[lib]) :\n        new Promise(function(resolve, reject) {\n          var s = document.createElement('script');\n          document.getElementsByTagName(\"head\")[0].appendChild(s);\n          s.async = true;\n          s.onload = () => {\n            VEGA_DEBUG[key] = version;\n            return resolve(paths[lib]);\n          };\n          s.onerror = () => reject(`Error loading script: ${paths[lib]}`);\n          s.src = paths[lib];\n        });\n    }\n\n    function showError(err) {\n      outputDiv.innerHTML = `<div class=\"error\" style=\"color:red;\">${err}</div>`;\n      throw err;\n    }\n\n    function displayChart(vegaEmbed) {\n      vegaEmbed(outputDiv, spec, embedOpt)\n        .catch(err => showError(`Javascript Error: ${err.message}<br>This usually means there's a typo in your chart specification. See the javascript console for the full traceback.`));\n    }\n\n    if(typeof define === \"function\" && define.amd) {\n      requirejs.config({paths});\n      require([\"vega-embed\"], displayChart, err => showError(`Error loading script: ${err.message}`));\n    } else {\n      maybeLoadScript(\"vega\", \"5\")\n        .then(() => maybeLoadScript(\"vega-lite\", \"4.17.0\"))\n        .then(() => maybeLoadScript(\"vega-embed\", \"6\"))\n        .catch(showError)\n        .then(() => displayChart(vegaEmbed));\n    }\n  })({\"config\": {\"view\": {\"continuousWidth\": 400, \"continuousHeight\": 300}}, \"data\": {\"name\": \"data-5d5f97471ecf66635b3fb2d263bac6ba\"}, \"mark\": \"bar\", \"encoding\": {\"color\": {\"field\": \"Categories\", \"scale\": {\"range\": [\"#2EA8CE\", \"#EB9F3C\", \"#F4D837\", \"#51BF9D\", \"#8CBCCB\", \"#9487C0\"]}, \"type\": \"nominal\"}, \"row\": {\"field\": \"Categories\", \"type\": \"nominal\"}, \"tooltip\": [{\"field\": \"Agency\", \"type\": \"nominal\"}, {\"field\": \"Funding Amount\", \"type\": \"quantitative\"}], \"x\": {\"axis\": {\"format\": \"$.2s\", \"title\": \"Obligated Funding ($2021)\"}, \"field\": \"Funding Amount\", \"type\": \"quantitative\"}, \"y\": {\"field\": \"Agency\", \"type\": \"nominal\"}}, \"$schema\": \"https://vega.github.io/schema/vega-lite/v4.17.0.json\", \"datasets\": {\"data-5d5f97471ecf66635b3fb2d263bac6ba\": [{\"Agency\": \"Metropolitan Transportation Commission\", \"Categories\": \"Total Requested\", \"Funding Amount\": 1891120.7657899645}, {\"Agency\": \"Sunnyvale\", \"Categories\": \"Total Requested\", \"Funding Amount\": 928104.7429225458}, {\"Agency\": \"Oakland\", \"Categories\": \"Total Requested\", \"Funding Amount\": 1799536.078974054}, {\"Agency\": \"San Jose\", \"Categories\": \"Total Requested\", \"Funding Amount\": 295984.4092976527}, {\"Agency\": \"San Leandro\", \"Categories\": \"Total Requested\", \"Funding Amount\": 143582.35902528386}, {\"Agency\": \"Metropolitan Transportation Commission\", \"Categories\": \"Fed Requested\", \"Funding Amount\": 1879749.0219219865}, {\"Agency\": \"Sunnyvale\", \"Categories\": \"Fed Requested\", \"Funding Amount\": 721554.6089858533}, {\"Agency\": \"Oakland\", \"Categories\": \"Fed Requested\", \"Funding Amount\": 1204808.1708253678}, {\"Agency\": \"San Jose\", \"Categories\": \"Fed Requested\", \"Funding Amount\": 270786.4812614909}, {\"Agency\": \"San Leandro\", \"Categories\": \"Fed Requested\", \"Funding Amount\": -328.53984403832146}, {\"Agency\": \"Metropolitan Transportation Commission\", \"Categories\": \"AC Requested\", \"Funding Amount\": 0.0}, {\"Agency\": \"Sunnyvale\", \"Categories\": \"AC Requested\", \"Funding Amount\": 0.0}, {\"Agency\": \"Oakland\", \"Categories\": \"AC Requested\", \"Funding Amount\": 0.0}, {\"Agency\": \"San Jose\", \"Categories\": \"AC Requested\", \"Funding Amount\": 0.0}, {\"Agency\": \"San Leandro\", \"Categories\": \"AC Requested\", \"Funding Amount\": 0.0}]}}, {\"mode\": \"vega-lite\"});\n</script>",
          "text/plain": "alt.Chart(...)"
         },
         "metadata": {},
         "output_type": "display_data"
        }
       ]
      }
     },
     "24f596147eb34f1fba9c380afe82b527": {
      "model_module": "@jupyter-widgets/controls",
      "model_module_version": "1.5.0",
      "model_name": "TextModel",
      "state": {
       "description": "congestion_relief",
       "layout": "IPY_MODEL_e257f12084424f5b9df5922c970a085f",
       "style": "IPY_MODEL_de44e8a35865472282d200a3df0e5ff6"
      }
     },
     "257d5034880041659d8ae5740e58e9b4": {
      "model_module": "@jupyter-widgets/base",
      "model_module_version": "1.2.0",
      "model_name": "LayoutModel",
      "state": {}
     },
     "25c6ccbe129c46888342a98a7da61070": {
      "model_module": "@jupyter-widgets/base",
      "model_module_version": "1.2.0",
      "model_name": "LayoutModel",
      "state": {}
     },
     "261c6f68334345899523afec2e61a101": {
      "model_module": "@jupyter-widgets/base",
      "model_module_version": "1.2.0",
      "model_name": "LayoutModel",
      "state": {}
     },
     "266dfdac1d9c4fe186b2aa26a4429042": {
      "model_module": "@jupyter-widgets/controls",
      "model_module_version": "1.5.0",
      "model_name": "HTMLModel",
      "state": {
       "layout": "IPY_MODEL_292230804b8b4e829f4ee2a8b374d143",
       "style": "IPY_MODEL_ad7ba6c9004d456aa631abf58d742aba",
       "value": "<strong>Top Agencies using Street Projects</strong>"
      }
     },
     "2694865c023c45a783350b2a87c8dfc5": {
      "model_module": "@jupyter-widgets/base",
      "model_module_version": "1.2.0",
      "model_name": "LayoutModel",
      "state": {}
     },
     "26c00f6fef734ccfb91c829fcde3b295": {
      "model_module": "@jupyter-widgets/output",
      "model_module_version": "1.0.0",
      "model_name": "OutputModel",
      "state": {
       "layout": "IPY_MODEL_955d0e9ecc99444aa87f73a5fa32e79d",
       "outputs": [
        {
         "data": {
          "application/vnd.jupyter.widget-view+json": {
           "model_id": "",
           "version_major": 2,
           "version_minor": 0
          },
          "text/plain": "HTML(value='<strong>Top Agencies using Freeway Projects</strong>')"
         },
         "metadata": {},
         "output_type": "display_data"
        },
        {
         "data": {
          "text/html": "<style type=\"text/css\">\n</style>\n<table id=\"T_63d7f\">\n  <thead>\n    <tr>\n      <th class=\"blank level0\" >&nbsp;</th>\n      <th id=\"T_63d7f_level0_col0\" class=\"col_heading level0 col0\" >Agency</th>\n      <th id=\"T_63d7f_level0_col1\" class=\"col_heading level0 col1\" >Freeway Obligations</th>\n      <th id=\"T_63d7f_level0_col2\" class=\"col_heading level0 col2\" >Percent of Category</th>\n    </tr>\n  </thead>\n  <tbody>\n    <tr>\n      <th id=\"T_63d7f_level0_row0\" class=\"row_heading level0 row0\" >0</th>\n      <td id=\"T_63d7f_row0_col0\" class=\"data row0 col0\" >San Luis Obispo</td>\n      <td id=\"T_63d7f_row0_col1\" class=\"data row0 col1\" >2</td>\n      <td id=\"T_63d7f_row0_col2\" class=\"data row0 col2\" >50.00%</td>\n    </tr>\n    <tr>\n      <th id=\"T_63d7f_level0_row1\" class=\"row_heading level0 row1\" >1</th>\n      <td id=\"T_63d7f_row1_col0\" class=\"data row1 col0\" >Santa Cruz County Regional Transportation Commission</td>\n      <td id=\"T_63d7f_row1_col1\" class=\"data row1 col1\" >2</td>\n      <td id=\"T_63d7f_row1_col2\" class=\"data row1 col2\" >50.00%</td>\n    </tr>\n  </tbody>\n</table>\n",
          "text/plain": "<pandas.io.formats.style.Styler at 0x7f605e16bdf0>"
         },
         "metadata": {},
         "output_type": "display_data"
        },
        {
         "data": {
          "text/html": "\n<div id=\"altair-viz-96376863a8af4e8a9e175d9019a6f64d\"></div>\n<script type=\"text/javascript\">\n  var VEGA_DEBUG = (typeof VEGA_DEBUG == \"undefined\") ? {} : VEGA_DEBUG;\n  (function(spec, embedOpt){\n    let outputDiv = document.currentScript.previousElementSibling;\n    if (outputDiv.id !== \"altair-viz-96376863a8af4e8a9e175d9019a6f64d\") {\n      outputDiv = document.getElementById(\"altair-viz-96376863a8af4e8a9e175d9019a6f64d\");\n    }\n    const paths = {\n      \"vega\": \"https://cdn.jsdelivr.net/npm//vega@5?noext\",\n      \"vega-lib\": \"https://cdn.jsdelivr.net/npm//vega-lib?noext\",\n      \"vega-lite\": \"https://cdn.jsdelivr.net/npm//vega-lite@4.17.0?noext\",\n      \"vega-embed\": \"https://cdn.jsdelivr.net/npm//vega-embed@6?noext\",\n    };\n\n    function maybeLoadScript(lib, version) {\n      var key = `${lib.replace(\"-\", \"\")}_version`;\n      return (VEGA_DEBUG[key] == version) ?\n        Promise.resolve(paths[lib]) :\n        new Promise(function(resolve, reject) {\n          var s = document.createElement('script');\n          document.getElementsByTagName(\"head\")[0].appendChild(s);\n          s.async = true;\n          s.onload = () => {\n            VEGA_DEBUG[key] = version;\n            return resolve(paths[lib]);\n          };\n          s.onerror = () => reject(`Error loading script: ${paths[lib]}`);\n          s.src = paths[lib];\n        });\n    }\n\n    function showError(err) {\n      outputDiv.innerHTML = `<div class=\"error\" style=\"color:red;\">${err}</div>`;\n      throw err;\n    }\n\n    function displayChart(vegaEmbed) {\n      vegaEmbed(outputDiv, spec, embedOpt)\n        .catch(err => showError(`Javascript Error: ${err.message}<br>This usually means there's a typo in your chart specification. See the javascript console for the full traceback.`));\n    }\n\n    if(typeof define === \"function\" && define.amd) {\n      requirejs.config({paths});\n      require([\"vega-embed\"], displayChart, err => showError(`Error loading script: ${err.message}`));\n    } else {\n      maybeLoadScript(\"vega\", \"5\")\n        .then(() => maybeLoadScript(\"vega-lite\", \"4.17.0\"))\n        .then(() => maybeLoadScript(\"vega-embed\", \"6\"))\n        .catch(showError)\n        .then(() => displayChart(vegaEmbed));\n    }\n  })({\"config\": {\"view\": {\"continuousWidth\": 400, \"continuousHeight\": 300}}, \"data\": {\"name\": \"data-9d9ac114736d3d6e5f0d4399930089d6\"}, \"mark\": \"bar\", \"encoding\": {\"color\": {\"field\": \"Categories\", \"scale\": {\"range\": [\"#2EA8CE\", \"#EB9F3C\", \"#F4D837\", \"#51BF9D\", \"#8CBCCB\", \"#9487C0\"]}, \"type\": \"nominal\"}, \"row\": {\"field\": \"Categories\", \"type\": \"nominal\"}, \"tooltip\": [{\"field\": \"Agency\", \"type\": \"nominal\"}, {\"field\": \"Funding Amount\", \"type\": \"quantitative\"}], \"x\": {\"axis\": {\"format\": \"$.2s\", \"title\": \"Obligated Funding ($2021)\"}, \"field\": \"Funding Amount\", \"type\": \"quantitative\"}, \"y\": {\"field\": \"Agency\", \"type\": \"nominal\"}}, \"$schema\": \"https://vega.github.io/schema/vega-lite/v4.17.0.json\", \"datasets\": {\"data-9d9ac114736d3d6e5f0d4399930089d6\": [{\"Agency\": \"San Luis Obispo\", \"Categories\": \"Total Requested\", \"Funding Amount\": 1832980.2758455556}, {\"Agency\": \"Santa Cruz County Regional Transportation Commission\", \"Categories\": \"Total Requested\", \"Funding Amount\": 197480.95603259266}, {\"Agency\": \"San Luis Obispo\", \"Categories\": \"Fed Requested\", \"Funding Amount\": 1832980.2758455556}, {\"Agency\": \"Santa Cruz County Regional Transportation Commission\", \"Categories\": \"Fed Requested\", \"Funding Amount\": -5.728761019245704}, {\"Agency\": \"San Luis Obispo\", \"Categories\": \"AC Requested\", \"Funding Amount\": 0.0}, {\"Agency\": \"Santa Cruz County Regional Transportation Commission\", \"Categories\": \"AC Requested\", \"Funding Amount\": 0.0}]}}, {\"mode\": \"vega-lite\"});\n</script>",
          "text/plain": "alt.Chart(...)"
         },
         "metadata": {},
         "output_type": "display_data"
        }
       ]
      }
     },
     "26ee374844d648528f3f65ef282c6df4": {
      "model_module": "@jupyter-widgets/controls",
      "model_module_version": "1.5.0",
      "model_name": "HTMLModel",
      "state": {
       "layout": "IPY_MODEL_3ed82a99078b4b58847a687e705be528",
       "style": "IPY_MODEL_94b6a0b456cb413faa2599fbfa7fa6a5",
       "value": "<strong>Top Agencies using Congestion Relief Projects</strong>"
      }
     },
     "27cab22acfe448d5ba65ca039e10ed72": {
      "model_module": "@jupyter-widgets/controls",
      "model_module_version": "1.5.0",
      "model_name": "HTMLModel",
      "state": {
       "layout": "IPY_MODEL_6f4daa32b18642cb8dfd56b42f9a2a19",
       "style": "IPY_MODEL_1b1bac8afd74455592c7ddb0819c7067",
       "value": "<strong>Top Agencies using Bridge Projects</strong>"
      }
     },
     "27f822e054f642d7b26aaad66082d10c": {
      "model_module": "@jupyter-widgets/output",
      "model_module_version": "1.0.0",
      "model_name": "OutputModel",
      "state": {
       "layout": "IPY_MODEL_139e9e7e9bd5450794070641a4f8ec90",
       "outputs": [
        {
         "data": {
          "application/vnd.jupyter.widget-view+json": {
           "model_id": "",
           "version_major": 2,
           "version_minor": 0
          },
          "text/plain": "HTML(value='<strong>Top Agencies using Freeway Projects</strong>')"
         },
         "metadata": {},
         "output_type": "display_data"
        },
        {
         "data": {
          "text/html": "<style type=\"text/css\">\n</style>\n<table id=\"T_272b7\">\n  <thead>\n    <tr>\n      <th class=\"blank level0\" >&nbsp;</th>\n      <th id=\"T_272b7_level0_col0\" class=\"col_heading level0 col0\" >Agency</th>\n      <th id=\"T_272b7_level0_col1\" class=\"col_heading level0 col1\" >Freeway Obligations</th>\n      <th id=\"T_272b7_level0_col2\" class=\"col_heading level0 col2\" >Percent of Category</th>\n    </tr>\n  </thead>\n  <tbody>\n    <tr>\n      <th id=\"T_272b7_level0_row0\" class=\"row_heading level0 row0\" >0</th>\n      <td id=\"T_272b7_row0_col0\" class=\"data row0 col0\" >Metropolitan Transportation Commission</td>\n      <td id=\"T_272b7_row0_col1\" class=\"data row0 col1\" >11</td>\n      <td id=\"T_272b7_row0_col2\" class=\"data row0 col2\" >28.21%</td>\n    </tr>\n    <tr>\n      <th id=\"T_272b7_level0_row1\" class=\"row_heading level0 row1\" >1</th>\n      <td id=\"T_272b7_row1_col0\" class=\"data row1 col0\" >Contra Costa County</td>\n      <td id=\"T_272b7_row1_col1\" class=\"data row1 col1\" >7</td>\n      <td id=\"T_272b7_row1_col2\" class=\"data row1 col2\" >17.95%</td>\n    </tr>\n    <tr>\n      <th id=\"T_272b7_level0_row2\" class=\"row_heading level0 row2\" >2</th>\n      <td id=\"T_272b7_row2_col0\" class=\"data row2 col0\" >Caltrans</td>\n      <td id=\"T_272b7_row2_col1\" class=\"data row2 col1\" >4</td>\n      <td id=\"T_272b7_row2_col2\" class=\"data row2 col2\" >10.26%</td>\n    </tr>\n    <tr>\n      <th id=\"T_272b7_level0_row3\" class=\"row_heading level0 row3\" >3</th>\n      <td id=\"T_272b7_row3_col0\" class=\"data row3 col0\" >Metropolitan Transportation Commission - SAFE</td>\n      <td id=\"T_272b7_row3_col1\" class=\"data row3 col1\" >3</td>\n      <td id=\"T_272b7_row3_col2\" class=\"data row3 col2\" >7.69%</td>\n    </tr>\n    <tr>\n      <th id=\"T_272b7_level0_row4\" class=\"row_heading level0 row4\" >4</th>\n      <td id=\"T_272b7_row4_col0\" class=\"data row4 col0\" >Alameda County Congestion Management Agency</td>\n      <td id=\"T_272b7_row4_col1\" class=\"data row4 col1\" >2</td>\n      <td id=\"T_272b7_row4_col2\" class=\"data row4 col2\" >5.13%</td>\n    </tr>\n  </tbody>\n</table>\n",
          "text/plain": "<pandas.io.formats.style.Styler at 0x7f605e97d490>"
         },
         "metadata": {},
         "output_type": "display_data"
        },
        {
         "data": {
          "text/html": "\n<div id=\"altair-viz-1ca03ef0f38b49bbabf1ad944add03dd\"></div>\n<script type=\"text/javascript\">\n  var VEGA_DEBUG = (typeof VEGA_DEBUG == \"undefined\") ? {} : VEGA_DEBUG;\n  (function(spec, embedOpt){\n    let outputDiv = document.currentScript.previousElementSibling;\n    if (outputDiv.id !== \"altair-viz-1ca03ef0f38b49bbabf1ad944add03dd\") {\n      outputDiv = document.getElementById(\"altair-viz-1ca03ef0f38b49bbabf1ad944add03dd\");\n    }\n    const paths = {\n      \"vega\": \"https://cdn.jsdelivr.net/npm//vega@5?noext\",\n      \"vega-lib\": \"https://cdn.jsdelivr.net/npm//vega-lib?noext\",\n      \"vega-lite\": \"https://cdn.jsdelivr.net/npm//vega-lite@4.17.0?noext\",\n      \"vega-embed\": \"https://cdn.jsdelivr.net/npm//vega-embed@6?noext\",\n    };\n\n    function maybeLoadScript(lib, version) {\n      var key = `${lib.replace(\"-\", \"\")}_version`;\n      return (VEGA_DEBUG[key] == version) ?\n        Promise.resolve(paths[lib]) :\n        new Promise(function(resolve, reject) {\n          var s = document.createElement('script');\n          document.getElementsByTagName(\"head\")[0].appendChild(s);\n          s.async = true;\n          s.onload = () => {\n            VEGA_DEBUG[key] = version;\n            return resolve(paths[lib]);\n          };\n          s.onerror = () => reject(`Error loading script: ${paths[lib]}`);\n          s.src = paths[lib];\n        });\n    }\n\n    function showError(err) {\n      outputDiv.innerHTML = `<div class=\"error\" style=\"color:red;\">${err}</div>`;\n      throw err;\n    }\n\n    function displayChart(vegaEmbed) {\n      vegaEmbed(outputDiv, spec, embedOpt)\n        .catch(err => showError(`Javascript Error: ${err.message}<br>This usually means there's a typo in your chart specification. See the javascript console for the full traceback.`));\n    }\n\n    if(typeof define === \"function\" && define.amd) {\n      requirejs.config({paths});\n      require([\"vega-embed\"], displayChart, err => showError(`Error loading script: ${err.message}`));\n    } else {\n      maybeLoadScript(\"vega\", \"5\")\n        .then(() => maybeLoadScript(\"vega-lite\", \"4.17.0\"))\n        .then(() => maybeLoadScript(\"vega-embed\", \"6\"))\n        .catch(showError)\n        .then(() => displayChart(vegaEmbed));\n    }\n  })({\"config\": {\"view\": {\"continuousWidth\": 400, \"continuousHeight\": 300}}, \"data\": {\"name\": \"data-aeb8dec487be436236d0c63cc42eb978\"}, \"mark\": \"bar\", \"encoding\": {\"color\": {\"field\": \"Categories\", \"scale\": {\"range\": [\"#2EA8CE\", \"#EB9F3C\", \"#F4D837\", \"#51BF9D\", \"#8CBCCB\", \"#9487C0\"]}, \"type\": \"nominal\"}, \"row\": {\"field\": \"Categories\", \"type\": \"nominal\"}, \"tooltip\": [{\"field\": \"Agency\", \"type\": \"nominal\"}, {\"field\": \"Funding Amount\", \"type\": \"quantitative\"}], \"x\": {\"axis\": {\"format\": \"$.2s\", \"title\": \"Obligated Funding ($2021)\"}, \"field\": \"Funding Amount\", \"type\": \"quantitative\"}, \"y\": {\"field\": \"Agency\", \"type\": \"nominal\"}}, \"$schema\": \"https://vega.github.io/schema/vega-lite/v4.17.0.json\", \"datasets\": {\"data-aeb8dec487be436236d0c63cc42eb978\": [{\"Agency\": \"Metropolitan Transportation Commission\", \"Categories\": \"Total Requested\", \"Funding Amount\": 1909627.6993880032}, {\"Agency\": \"Contra Costa County\", \"Categories\": \"Total Requested\", \"Funding Amount\": 1041396.7377879982}, {\"Agency\": \"Caltrans\", \"Categories\": \"Total Requested\", \"Funding Amount\": 7155873.948324381}, {\"Agency\": \"Metropolitan Transportation Commission - SAFE\", \"Categories\": \"Total Requested\", \"Funding Amount\": 5607282.0964267}, {\"Agency\": \"Alameda County Congestion Management Agency\", \"Categories\": \"Total Requested\", \"Funding Amount\": 771698.7792291272}, {\"Agency\": \"Metropolitan Transportation Commission\", \"Categories\": \"Fed Requested\", \"Funding Amount\": 1890540.1407647512}, {\"Agency\": \"Contra Costa County\", \"Categories\": \"Fed Requested\", \"Funding Amount\": 690949.2652206112}, {\"Agency\": \"Caltrans\", \"Categories\": \"Fed Requested\", \"Funding Amount\": 3977675.6275673257}, {\"Agency\": \"Metropolitan Transportation Commission - SAFE\", \"Categories\": \"Fed Requested\", \"Funding Amount\": 5607282.0964267}, {\"Agency\": \"Alameda County Congestion Management Agency\", \"Categories\": \"Fed Requested\", \"Funding Amount\": 571275.1031109582}, {\"Agency\": \"Metropolitan Transportation Commission\", \"Categories\": \"AC Requested\", \"Funding Amount\": 0.0}, {\"Agency\": \"Contra Costa County\", \"Categories\": \"AC Requested\", \"Funding Amount\": 26482.60130270215}, {\"Agency\": \"Caltrans\", \"Categories\": \"AC Requested\", \"Funding Amount\": 0.0}, {\"Agency\": \"Metropolitan Transportation Commission - SAFE\", \"Categories\": \"AC Requested\", \"Funding Amount\": 0.0}, {\"Agency\": \"Alameda County Congestion Management Agency\", \"Categories\": \"AC Requested\", \"Funding Amount\": 0.0}]}}, {\"mode\": \"vega-lite\"});\n</script>",
          "text/plain": "alt.Chart(...)"
         },
         "metadata": {},
         "output_type": "display_data"
        }
       ]
      }
     },
     "2865dc779f57434396519c1728de032e": {
      "model_module": "@jupyter-widgets/base",
      "model_module_version": "1.2.0",
      "model_name": "LayoutModel",
      "state": {}
     },
     "292230804b8b4e829f4ee2a8b374d143": {
      "model_module": "@jupyter-widgets/base",
      "model_module_version": "1.2.0",
      "model_name": "LayoutModel",
      "state": {}
     },
     "29a8bc20f96749d3a36c3e6edc4f217e": {
      "model_module": "@jupyter-widgets/output",
      "model_module_version": "1.0.0",
      "model_name": "OutputModel",
      "state": {
       "layout": "IPY_MODEL_bea2360198994af9a2d2cdbd292fce99",
       "outputs": [
        {
         "data": {
          "application/vnd.jupyter.widget-view+json": {
           "model_id": "b5098deace3e410aa3942ba9a4ee8c32",
           "version_major": 2,
           "version_minor": 0
          },
          "text/plain": "HTML(value='<strong>Top Agencies using Street Projects</strong>')"
         },
         "metadata": {},
         "output_type": "display_data"
        },
        {
         "data": {
          "text/html": "<style type=\"text/css\">\n</style>\n<table id=\"T_f9d57\">\n  <thead>\n    <tr>\n      <th class=\"blank level0\" >&nbsp;</th>\n      <th id=\"T_f9d57_level0_col0\" class=\"col_heading level0 col0\" >Agency</th>\n      <th id=\"T_f9d57_level0_col1\" class=\"col_heading level0 col1\" >Street Obligations</th>\n      <th id=\"T_f9d57_level0_col2\" class=\"col_heading level0 col2\" >Percent of Category</th>\n    </tr>\n  </thead>\n  <tbody>\n    <tr>\n      <th id=\"T_f9d57_level0_row0\" class=\"row_heading level0 row0\" >0</th>\n      <td id=\"T_f9d57_row0_col0\" class=\"data row0 col0\" >Oakland</td>\n      <td id=\"T_f9d57_row0_col1\" class=\"data row0 col1\" >82</td>\n      <td id=\"T_f9d57_row0_col2\" class=\"data row0 col2\" >6.23%</td>\n    </tr>\n    <tr>\n      <th id=\"T_f9d57_level0_row1\" class=\"row_heading level0 row1\" >1</th>\n      <td id=\"T_f9d57_row1_col0\" class=\"data row1 col0\" >Contra Costa County</td>\n      <td id=\"T_f9d57_row1_col1\" class=\"data row1 col1\" >81</td>\n      <td id=\"T_f9d57_row1_col2\" class=\"data row1 col2\" >6.15%</td>\n    </tr>\n    <tr>\n      <th id=\"T_f9d57_level0_row2\" class=\"row_heading level0 row2\" >2</th>\n      <td id=\"T_f9d57_row2_col0\" class=\"data row2 col0\" >San Jose</td>\n      <td id=\"T_f9d57_row2_col1\" class=\"data row2 col1\" >66</td>\n      <td id=\"T_f9d57_row2_col2\" class=\"data row2 col2\" >5.01%</td>\n    </tr>\n    <tr>\n      <th id=\"T_f9d57_level0_row3\" class=\"row_heading level0 row3\" >3</th>\n      <td id=\"T_f9d57_row3_col0\" class=\"data row3 col0\" >San Francisco County</td>\n      <td id=\"T_f9d57_row3_col1\" class=\"data row3 col1\" >45</td>\n      <td id=\"T_f9d57_row3_col2\" class=\"data row3 col2\" >3.42%</td>\n    </tr>\n    <tr>\n      <th id=\"T_f9d57_level0_row4\" class=\"row_heading level0 row4\" >4</th>\n      <td id=\"T_f9d57_row4_col0\" class=\"data row4 col0\" >Sunnyvale</td>\n      <td id=\"T_f9d57_row4_col1\" class=\"data row4 col1\" >45</td>\n      <td id=\"T_f9d57_row4_col2\" class=\"data row4 col2\" >3.42%</td>\n    </tr>\n  </tbody>\n</table>\n",
          "text/plain": "<pandas.io.formats.style.Styler at 0x7f605cee6100>"
         },
         "metadata": {},
         "output_type": "display_data"
        },
        {
         "data": {
          "text/html": "\n<div id=\"altair-viz-00927f5bb9234df9a1d6dc090009a836\"></div>\n<script type=\"text/javascript\">\n  var VEGA_DEBUG = (typeof VEGA_DEBUG == \"undefined\") ? {} : VEGA_DEBUG;\n  (function(spec, embedOpt){\n    let outputDiv = document.currentScript.previousElementSibling;\n    if (outputDiv.id !== \"altair-viz-00927f5bb9234df9a1d6dc090009a836\") {\n      outputDiv = document.getElementById(\"altair-viz-00927f5bb9234df9a1d6dc090009a836\");\n    }\n    const paths = {\n      \"vega\": \"https://cdn.jsdelivr.net/npm//vega@5?noext\",\n      \"vega-lib\": \"https://cdn.jsdelivr.net/npm//vega-lib?noext\",\n      \"vega-lite\": \"https://cdn.jsdelivr.net/npm//vega-lite@4.17.0?noext\",\n      \"vega-embed\": \"https://cdn.jsdelivr.net/npm//vega-embed@6?noext\",\n    };\n\n    function maybeLoadScript(lib, version) {\n      var key = `${lib.replace(\"-\", \"\")}_version`;\n      return (VEGA_DEBUG[key] == version) ?\n        Promise.resolve(paths[lib]) :\n        new Promise(function(resolve, reject) {\n          var s = document.createElement('script');\n          document.getElementsByTagName(\"head\")[0].appendChild(s);\n          s.async = true;\n          s.onload = () => {\n            VEGA_DEBUG[key] = version;\n            return resolve(paths[lib]);\n          };\n          s.onerror = () => reject(`Error loading script: ${paths[lib]}`);\n          s.src = paths[lib];\n        });\n    }\n\n    function showError(err) {\n      outputDiv.innerHTML = `<div class=\"error\" style=\"color:red;\">${err}</div>`;\n      throw err;\n    }\n\n    function displayChart(vegaEmbed) {\n      vegaEmbed(outputDiv, spec, embedOpt)\n        .catch(err => showError(`Javascript Error: ${err.message}<br>This usually means there's a typo in your chart specification. See the javascript console for the full traceback.`));\n    }\n\n    if(typeof define === \"function\" && define.amd) {\n      requirejs.config({paths});\n      require([\"vega-embed\"], displayChart, err => showError(`Error loading script: ${err.message}`));\n    } else {\n      maybeLoadScript(\"vega\", \"5\")\n        .then(() => maybeLoadScript(\"vega-lite\", \"4.17.0\"))\n        .then(() => maybeLoadScript(\"vega-embed\", \"6\"))\n        .catch(showError)\n        .then(() => displayChart(vegaEmbed));\n    }\n  })({\"config\": {\"view\": {\"continuousWidth\": 400, \"continuousHeight\": 300}}, \"data\": {\"name\": \"data-2d34081fc3d7ba7c3cd8f495e86d10d3\"}, \"mark\": \"bar\", \"encoding\": {\"color\": {\"field\": \"Categories\", \"scale\": {\"range\": [\"#2EA8CE\", \"#EB9F3C\", \"#F4D837\", \"#51BF9D\", \"#8CBCCB\", \"#9487C0\"]}, \"type\": \"nominal\"}, \"row\": {\"field\": \"Categories\", \"type\": \"nominal\"}, \"tooltip\": [{\"field\": \"Agency\", \"type\": \"nominal\"}, {\"field\": \"Funding Amount\", \"type\": \"quantitative\"}], \"x\": {\"axis\": {\"format\": \"$.2s\", \"title\": \"Obligated Funding ($2021)\"}, \"field\": \"Funding Amount\", \"type\": \"quantitative\"}, \"y\": {\"field\": \"Agency\", \"type\": \"nominal\"}}, \"$schema\": \"https://vega.github.io/schema/vega-lite/v4.17.0.json\", \"datasets\": {\"data-2d34081fc3d7ba7c3cd8f495e86d10d3\": [{\"Agency\": \"Oakland\", \"Categories\": \"Total Requested\", \"Funding Amount\": 956510.9982220907}, {\"Agency\": \"Contra Costa County\", \"Categories\": \"Total Requested\", \"Funding Amount\": 623295.6954156285}, {\"Agency\": \"San Jose\", \"Categories\": \"Total Requested\", \"Funding Amount\": 1164523.0377909504}, {\"Agency\": \"San Francisco County\", \"Categories\": \"Total Requested\", \"Funding Amount\": 4830086.66271812}, {\"Agency\": \"Sunnyvale\", \"Categories\": \"Total Requested\", \"Funding Amount\": 263230.4439052576}, {\"Agency\": \"Oakland\", \"Categories\": \"Fed Requested\", \"Funding Amount\": 666584.6247971884}, {\"Agency\": \"Contra Costa County\", \"Categories\": \"Fed Requested\", \"Funding Amount\": 425612.567296328}, {\"Agency\": \"San Jose\", \"Categories\": \"Fed Requested\", \"Funding Amount\": 949104.6690137495}, {\"Agency\": \"San Francisco County\", \"Categories\": \"Fed Requested\", \"Funding Amount\": 596351.3825193458}, {\"Agency\": \"Sunnyvale\", \"Categories\": \"Fed Requested\", \"Funding Amount\": 218961.48645088891}, {\"Agency\": \"Oakland\", \"Categories\": \"AC Requested\", \"Funding Amount\": 0.0}, {\"Agency\": \"Contra Costa County\", \"Categories\": \"AC Requested\", \"Funding Amount\": 229.00333419290047}, {\"Agency\": \"San Jose\", \"Categories\": \"AC Requested\", \"Funding Amount\": 0.0}, {\"Agency\": \"San Francisco County\", \"Categories\": \"AC Requested\", \"Funding Amount\": 3762.4890021642877}, {\"Agency\": \"Sunnyvale\", \"Categories\": \"AC Requested\", \"Funding Amount\": 0.0}]}}, {\"mode\": \"vega-lite\"});\n</script>",
          "text/plain": "alt.Chart(...)"
         },
         "metadata": {},
         "output_type": "display_data"
        }
       ]
      }
     },
     "29e4f43cb00248aa89de1845550dbbb4": {
      "model_module": "@jupyter-widgets/output",
      "model_module_version": "1.0.0",
      "model_name": "OutputModel",
      "state": {
       "layout": "IPY_MODEL_b310f651fdd64817ba6ea6cbc4ea35cd",
       "outputs": [
        {
         "data": {
          "application/vnd.jupyter.widget-view+json": {
           "model_id": "",
           "version_major": 2,
           "version_minor": 0
          },
          "text/plain": "HTML(value='<strong>Top Agencies using Bridge Projects</strong>')"
         },
         "metadata": {},
         "output_type": "display_data"
        },
        {
         "data": {
          "text/html": "<style type=\"text/css\">\n</style>\n<table id=\"T_9f178\">\n  <thead>\n    <tr>\n      <th class=\"blank level0\" >&nbsp;</th>\n      <th id=\"T_9f178_level0_col0\" class=\"col_heading level0 col0\" >Agency</th>\n      <th id=\"T_9f178_level0_col1\" class=\"col_heading level0 col1\" >Bridge Obligations</th>\n      <th id=\"T_9f178_level0_col2\" class=\"col_heading level0 col2\" >Percent of Category</th>\n    </tr>\n  </thead>\n  <tbody>\n    <tr>\n      <th id=\"T_9f178_level0_row0\" class=\"row_heading level0 row0\" >0</th>\n      <td id=\"T_9f178_row0_col0\" class=\"data row0 col0\" >Santa Clara County</td>\n      <td id=\"T_9f178_row0_col1\" class=\"data row0 col1\" >68</td>\n      <td id=\"T_9f178_row0_col2\" class=\"data row0 col2\" >14.17%</td>\n    </tr>\n    <tr>\n      <th id=\"T_9f178_level0_row1\" class=\"row_heading level0 row1\" >1</th>\n      <td id=\"T_9f178_row1_col0\" class=\"data row1 col0\" >Contra Costa County</td>\n      <td id=\"T_9f178_row1_col1\" class=\"data row1 col1\" >44</td>\n      <td id=\"T_9f178_row1_col2\" class=\"data row1 col2\" >9.17%</td>\n    </tr>\n    <tr>\n      <th id=\"T_9f178_level0_row2\" class=\"row_heading level0 row2\" >2</th>\n      <td id=\"T_9f178_row2_col0\" class=\"data row2 col0\" >Sonoma County</td>\n      <td id=\"T_9f178_row2_col1\" class=\"data row2 col1\" >34</td>\n      <td id=\"T_9f178_row2_col2\" class=\"data row2 col2\" >7.08%</td>\n    </tr>\n    <tr>\n      <th id=\"T_9f178_level0_row3\" class=\"row_heading level0 row3\" >3</th>\n      <td id=\"T_9f178_row3_col0\" class=\"data row3 col0\" >Napa County</td>\n      <td id=\"T_9f178_row3_col1\" class=\"data row3 col1\" >25</td>\n      <td id=\"T_9f178_row3_col2\" class=\"data row3 col2\" >5.21%</td>\n    </tr>\n    <tr>\n      <th id=\"T_9f178_level0_row4\" class=\"row_heading level0 row4\" >4</th>\n      <td id=\"T_9f178_row4_col0\" class=\"data row4 col0\" >Oakland</td>\n      <td id=\"T_9f178_row4_col1\" class=\"data row4 col1\" >22</td>\n      <td id=\"T_9f178_row4_col2\" class=\"data row4 col2\" >4.58%</td>\n    </tr>\n  </tbody>\n</table>\n",
          "text/plain": "<pandas.io.formats.style.Styler at 0x7f605d2f8e80>"
         },
         "metadata": {},
         "output_type": "display_data"
        },
        {
         "data": {
          "text/html": "\n<div id=\"altair-viz-591a10954e334dbf8707f8dde7314b0e\"></div>\n<script type=\"text/javascript\">\n  var VEGA_DEBUG = (typeof VEGA_DEBUG == \"undefined\") ? {} : VEGA_DEBUG;\n  (function(spec, embedOpt){\n    let outputDiv = document.currentScript.previousElementSibling;\n    if (outputDiv.id !== \"altair-viz-591a10954e334dbf8707f8dde7314b0e\") {\n      outputDiv = document.getElementById(\"altair-viz-591a10954e334dbf8707f8dde7314b0e\");\n    }\n    const paths = {\n      \"vega\": \"https://cdn.jsdelivr.net/npm//vega@5?noext\",\n      \"vega-lib\": \"https://cdn.jsdelivr.net/npm//vega-lib?noext\",\n      \"vega-lite\": \"https://cdn.jsdelivr.net/npm//vega-lite@4.17.0?noext\",\n      \"vega-embed\": \"https://cdn.jsdelivr.net/npm//vega-embed@6?noext\",\n    };\n\n    function maybeLoadScript(lib, version) {\n      var key = `${lib.replace(\"-\", \"\")}_version`;\n      return (VEGA_DEBUG[key] == version) ?\n        Promise.resolve(paths[lib]) :\n        new Promise(function(resolve, reject) {\n          var s = document.createElement('script');\n          document.getElementsByTagName(\"head\")[0].appendChild(s);\n          s.async = true;\n          s.onload = () => {\n            VEGA_DEBUG[key] = version;\n            return resolve(paths[lib]);\n          };\n          s.onerror = () => reject(`Error loading script: ${paths[lib]}`);\n          s.src = paths[lib];\n        });\n    }\n\n    function showError(err) {\n      outputDiv.innerHTML = `<div class=\"error\" style=\"color:red;\">${err}</div>`;\n      throw err;\n    }\n\n    function displayChart(vegaEmbed) {\n      vegaEmbed(outputDiv, spec, embedOpt)\n        .catch(err => showError(`Javascript Error: ${err.message}<br>This usually means there's a typo in your chart specification. See the javascript console for the full traceback.`));\n    }\n\n    if(typeof define === \"function\" && define.amd) {\n      requirejs.config({paths});\n      require([\"vega-embed\"], displayChart, err => showError(`Error loading script: ${err.message}`));\n    } else {\n      maybeLoadScript(\"vega\", \"5\")\n        .then(() => maybeLoadScript(\"vega-lite\", \"4.17.0\"))\n        .then(() => maybeLoadScript(\"vega-embed\", \"6\"))\n        .catch(showError)\n        .then(() => displayChart(vegaEmbed));\n    }\n  })({\"config\": {\"view\": {\"continuousWidth\": 400, \"continuousHeight\": 300}}, \"data\": {\"name\": \"data-4ca6a40ed7566d9b16a25b6db2a09b51\"}, \"mark\": \"bar\", \"encoding\": {\"color\": {\"field\": \"Categories\", \"scale\": {\"range\": [\"#2EA8CE\", \"#EB9F3C\", \"#F4D837\", \"#51BF9D\", \"#8CBCCB\", \"#9487C0\"]}, \"type\": \"nominal\"}, \"row\": {\"field\": \"Categories\", \"type\": \"nominal\"}, \"tooltip\": [{\"field\": \"Agency\", \"type\": \"nominal\"}, {\"field\": \"Funding Amount\", \"type\": \"quantitative\"}], \"x\": {\"axis\": {\"format\": \"$.2s\", \"title\": \"Obligated Funding ($2021)\"}, \"field\": \"Funding Amount\", \"type\": \"quantitative\"}, \"y\": {\"field\": \"Agency\", \"type\": \"nominal\"}}, \"$schema\": \"https://vega.github.io/schema/vega-lite/v4.17.0.json\", \"datasets\": {\"data-4ca6a40ed7566d9b16a25b6db2a09b51\": [{\"Agency\": \"Santa Clara County\", \"Categories\": \"Total Requested\", \"Funding Amount\": 625948.8921137636}, {\"Agency\": \"Contra Costa County\", \"Categories\": \"Total Requested\", \"Funding Amount\": 1317256.4330172406}, {\"Agency\": \"Sonoma County\", \"Categories\": \"Total Requested\", \"Funding Amount\": 797679.174331438}, {\"Agency\": \"Napa County\", \"Categories\": \"Total Requested\", \"Funding Amount\": 403289.3793109502}, {\"Agency\": \"Oakland\", \"Categories\": \"Total Requested\", \"Funding Amount\": 1567186.3367742712}, {\"Agency\": \"Santa Clara County\", \"Categories\": \"Fed Requested\", \"Funding Amount\": 551357.6932043855}, {\"Agency\": \"Contra Costa County\", \"Categories\": \"Fed Requested\", \"Funding Amount\": 1044135.8320610252}, {\"Agency\": \"Sonoma County\", \"Categories\": \"Fed Requested\", \"Funding Amount\": 587684.7404175334}, {\"Agency\": \"Napa County\", \"Categories\": \"Fed Requested\", \"Funding Amount\": 409960.4929304969}, {\"Agency\": \"Oakland\", \"Categories\": \"Fed Requested\", \"Funding Amount\": 1259324.924989911}, {\"Agency\": \"Santa Clara County\", \"Categories\": \"AC Requested\", \"Funding Amount\": 4993.875645153608}, {\"Agency\": \"Contra Costa County\", \"Categories\": \"AC Requested\", \"Funding Amount\": 106533.47492573563}, {\"Agency\": \"Sonoma County\", \"Categories\": \"AC Requested\", \"Funding Amount\": 122257.02211158613}, {\"Agency\": \"Napa County\", \"Categories\": \"AC Requested\", \"Funding Amount\": 222.60068153467608}, {\"Agency\": \"Oakland\", \"Categories\": \"AC Requested\", \"Funding Amount\": 0.0}]}}, {\"mode\": \"vega-lite\"});\n</script>",
          "text/plain": "alt.Chart(...)"
         },
         "metadata": {},
         "output_type": "display_data"
        }
       ]
      }
     },
     "2a71f2cb0eb7460287636e714b49e4f5": {
      "model_module": "@jupyter-widgets/base",
      "model_module_version": "1.2.0",
      "model_name": "LayoutModel",
      "state": {}
     },
     "2ab4a2793dd24751bb014f24ed423ef7": {
      "model_module": "@jupyter-widgets/output",
      "model_module_version": "1.0.0",
      "model_name": "OutputModel",
      "state": {
       "layout": "IPY_MODEL_f55f543bdcac45e6ac559f6a19e5e475",
       "outputs": [
        {
         "data": {
          "application/vnd.jupyter.widget-view+json": {
           "model_id": "",
           "version_major": 2,
           "version_minor": 0
          },
          "text/plain": "HTML(value='<strong>Top Agencies using Bridge Projects</strong>')"
         },
         "metadata": {},
         "output_type": "display_data"
        },
        {
         "data": {
          "text/html": "<style type=\"text/css\">\n</style>\n<table id=\"T_51c22\">\n  <thead>\n    <tr>\n      <th class=\"blank level0\" >&nbsp;</th>\n      <th id=\"T_51c22_level0_col0\" class=\"col_heading level0 col0\" >Agency</th>\n      <th id=\"T_51c22_level0_col1\" class=\"col_heading level0 col1\" >Bridge Obligations</th>\n      <th id=\"T_51c22_level0_col2\" class=\"col_heading level0 col2\" >Percent of Category</th>\n    </tr>\n  </thead>\n  <tbody>\n    <tr>\n      <th id=\"T_51c22_level0_row0\" class=\"row_heading level0 row0\" >0</th>\n      <td id=\"T_51c22_row0_col0\" class=\"data row0 col0\" >Santa Clara County</td>\n      <td id=\"T_51c22_row0_col1\" class=\"data row0 col1\" >68</td>\n      <td id=\"T_51c22_row0_col2\" class=\"data row0 col2\" >14.17%</td>\n    </tr>\n    <tr>\n      <th id=\"T_51c22_level0_row1\" class=\"row_heading level0 row1\" >1</th>\n      <td id=\"T_51c22_row1_col0\" class=\"data row1 col0\" >Contra Costa County</td>\n      <td id=\"T_51c22_row1_col1\" class=\"data row1 col1\" >44</td>\n      <td id=\"T_51c22_row1_col2\" class=\"data row1 col2\" >9.17%</td>\n    </tr>\n    <tr>\n      <th id=\"T_51c22_level0_row2\" class=\"row_heading level0 row2\" >2</th>\n      <td id=\"T_51c22_row2_col0\" class=\"data row2 col0\" >Sonoma County</td>\n      <td id=\"T_51c22_row2_col1\" class=\"data row2 col1\" >34</td>\n      <td id=\"T_51c22_row2_col2\" class=\"data row2 col2\" >7.08%</td>\n    </tr>\n    <tr>\n      <th id=\"T_51c22_level0_row3\" class=\"row_heading level0 row3\" >3</th>\n      <td id=\"T_51c22_row3_col0\" class=\"data row3 col0\" >Napa County</td>\n      <td id=\"T_51c22_row3_col1\" class=\"data row3 col1\" >25</td>\n      <td id=\"T_51c22_row3_col2\" class=\"data row3 col2\" >5.21%</td>\n    </tr>\n    <tr>\n      <th id=\"T_51c22_level0_row4\" class=\"row_heading level0 row4\" >4</th>\n      <td id=\"T_51c22_row4_col0\" class=\"data row4 col0\" >Oakland</td>\n      <td id=\"T_51c22_row4_col1\" class=\"data row4 col1\" >22</td>\n      <td id=\"T_51c22_row4_col2\" class=\"data row4 col2\" >4.58%</td>\n    </tr>\n  </tbody>\n</table>\n",
          "text/plain": "<pandas.io.formats.style.Styler at 0x7f605d1a08b0>"
         },
         "metadata": {},
         "output_type": "display_data"
        },
        {
         "data": {
          "text/html": "\n<div id=\"altair-viz-0a83abb51a6644e2bf98d5d055fc0a66\"></div>\n<script type=\"text/javascript\">\n  var VEGA_DEBUG = (typeof VEGA_DEBUG == \"undefined\") ? {} : VEGA_DEBUG;\n  (function(spec, embedOpt){\n    let outputDiv = document.currentScript.previousElementSibling;\n    if (outputDiv.id !== \"altair-viz-0a83abb51a6644e2bf98d5d055fc0a66\") {\n      outputDiv = document.getElementById(\"altair-viz-0a83abb51a6644e2bf98d5d055fc0a66\");\n    }\n    const paths = {\n      \"vega\": \"https://cdn.jsdelivr.net/npm//vega@5?noext\",\n      \"vega-lib\": \"https://cdn.jsdelivr.net/npm//vega-lib?noext\",\n      \"vega-lite\": \"https://cdn.jsdelivr.net/npm//vega-lite@4.17.0?noext\",\n      \"vega-embed\": \"https://cdn.jsdelivr.net/npm//vega-embed@6?noext\",\n    };\n\n    function maybeLoadScript(lib, version) {\n      var key = `${lib.replace(\"-\", \"\")}_version`;\n      return (VEGA_DEBUG[key] == version) ?\n        Promise.resolve(paths[lib]) :\n        new Promise(function(resolve, reject) {\n          var s = document.createElement('script');\n          document.getElementsByTagName(\"head\")[0].appendChild(s);\n          s.async = true;\n          s.onload = () => {\n            VEGA_DEBUG[key] = version;\n            return resolve(paths[lib]);\n          };\n          s.onerror = () => reject(`Error loading script: ${paths[lib]}`);\n          s.src = paths[lib];\n        });\n    }\n\n    function showError(err) {\n      outputDiv.innerHTML = `<div class=\"error\" style=\"color:red;\">${err}</div>`;\n      throw err;\n    }\n\n    function displayChart(vegaEmbed) {\n      vegaEmbed(outputDiv, spec, embedOpt)\n        .catch(err => showError(`Javascript Error: ${err.message}<br>This usually means there's a typo in your chart specification. See the javascript console for the full traceback.`));\n    }\n\n    if(typeof define === \"function\" && define.amd) {\n      requirejs.config({paths});\n      require([\"vega-embed\"], displayChart, err => showError(`Error loading script: ${err.message}`));\n    } else {\n      maybeLoadScript(\"vega\", \"5\")\n        .then(() => maybeLoadScript(\"vega-lite\", \"4.17.0\"))\n        .then(() => maybeLoadScript(\"vega-embed\", \"6\"))\n        .catch(showError)\n        .then(() => displayChart(vegaEmbed));\n    }\n  })({\"config\": {\"view\": {\"continuousWidth\": 400, \"continuousHeight\": 300}}, \"data\": {\"name\": \"data-4ca6a40ed7566d9b16a25b6db2a09b51\"}, \"mark\": \"bar\", \"encoding\": {\"color\": {\"field\": \"Categories\", \"scale\": {\"range\": [\"#2EA8CE\", \"#EB9F3C\", \"#F4D837\", \"#51BF9D\", \"#8CBCCB\", \"#9487C0\"]}, \"type\": \"nominal\"}, \"row\": {\"field\": \"Categories\", \"type\": \"nominal\"}, \"tooltip\": [{\"field\": \"Agency\", \"type\": \"nominal\"}, {\"field\": \"Funding Amount\", \"type\": \"quantitative\"}], \"x\": {\"axis\": {\"format\": \"$.2s\", \"title\": \"Obligated Funding ($2021)\"}, \"field\": \"Funding Amount\", \"type\": \"quantitative\"}, \"y\": {\"field\": \"Agency\", \"type\": \"nominal\"}}, \"$schema\": \"https://vega.github.io/schema/vega-lite/v4.17.0.json\", \"datasets\": {\"data-4ca6a40ed7566d9b16a25b6db2a09b51\": [{\"Agency\": \"Santa Clara County\", \"Categories\": \"Total Requested\", \"Funding Amount\": 625948.8921137636}, {\"Agency\": \"Contra Costa County\", \"Categories\": \"Total Requested\", \"Funding Amount\": 1317256.4330172406}, {\"Agency\": \"Sonoma County\", \"Categories\": \"Total Requested\", \"Funding Amount\": 797679.174331438}, {\"Agency\": \"Napa County\", \"Categories\": \"Total Requested\", \"Funding Amount\": 403289.3793109502}, {\"Agency\": \"Oakland\", \"Categories\": \"Total Requested\", \"Funding Amount\": 1567186.3367742712}, {\"Agency\": \"Santa Clara County\", \"Categories\": \"Fed Requested\", \"Funding Amount\": 551357.6932043855}, {\"Agency\": \"Contra Costa County\", \"Categories\": \"Fed Requested\", \"Funding Amount\": 1044135.8320610252}, {\"Agency\": \"Sonoma County\", \"Categories\": \"Fed Requested\", \"Funding Amount\": 587684.7404175334}, {\"Agency\": \"Napa County\", \"Categories\": \"Fed Requested\", \"Funding Amount\": 409960.4929304969}, {\"Agency\": \"Oakland\", \"Categories\": \"Fed Requested\", \"Funding Amount\": 1259324.924989911}, {\"Agency\": \"Santa Clara County\", \"Categories\": \"AC Requested\", \"Funding Amount\": 4993.875645153608}, {\"Agency\": \"Contra Costa County\", \"Categories\": \"AC Requested\", \"Funding Amount\": 106533.47492573563}, {\"Agency\": \"Sonoma County\", \"Categories\": \"AC Requested\", \"Funding Amount\": 122257.02211158613}, {\"Agency\": \"Napa County\", \"Categories\": \"AC Requested\", \"Funding Amount\": 222.60068153467608}, {\"Agency\": \"Oakland\", \"Categories\": \"AC Requested\", \"Funding Amount\": 0.0}]}}, {\"mode\": \"vega-lite\"});\n</script>",
          "text/plain": "alt.Chart(...)"
         },
         "metadata": {},
         "output_type": "display_data"
        }
       ]
      }
     },
     "2b2d348a9fff41ff88a8ba4ebcf90d8a": {
      "model_module": "@jupyter-widgets/controls",
      "model_module_version": "1.5.0",
      "model_name": "DescriptionStyleModel",
      "state": {
       "description_width": ""
      }
     },
     "2b50609acdd94252b4edf0c3d7924463": {
      "model_module": "@jupyter-widgets/base",
      "model_module_version": "1.2.0",
      "model_name": "LayoutModel",
      "state": {}
     },
     "2bb9376b34f94dd4a41639dbcca9f385": {
      "model_module": "@jupyter-widgets/controls",
      "model_module_version": "1.5.0",
      "model_name": "DescriptionStyleModel",
      "state": {
       "description_width": ""
      }
     },
     "2c17ee9ac0cd485bb0f007bb2a8a1462": {
      "model_module": "@jupyter-widgets/controls",
      "model_module_version": "1.5.0",
      "model_name": "HTMLModel",
      "state": {
       "layout": "IPY_MODEL_257d5034880041659d8ae5740e58e9b4",
       "style": "IPY_MODEL_8555d470b7d94ec49b6f9883259e7eea",
       "value": "<strong>Top Agencies using Active Transportation Projects</strong>"
      }
     },
     "2cbee16ee5e548e1a0d832cd57d67c80": {
      "model_module": "@jupyter-widgets/controls",
      "model_module_version": "1.5.0",
      "model_name": "HTMLModel",
      "state": {
       "layout": "IPY_MODEL_2e2139092f5347a7b62d85d62b4e621d",
       "style": "IPY_MODEL_9bcd9860c4274a4da8eaf58c7c3d541d",
       "value": "<strong>Top Agencies using Infrastructure & Emergency Relief Projects</strong>"
      }
     },
     "2e2139092f5347a7b62d85d62b4e621d": {
      "model_module": "@jupyter-widgets/base",
      "model_module_version": "1.2.0",
      "model_name": "LayoutModel",
      "state": {}
     },
     "2e5d182ef93945eda29631edf4896a31": {
      "model_module": "@jupyter-widgets/controls",
      "model_module_version": "1.5.0",
      "model_name": "DescriptionStyleModel",
      "state": {
       "description_width": ""
      }
     },
     "2f881e9db76b4543b267ded31e79c624": {
      "model_module": "@jupyter-widgets/controls",
      "model_module_version": "1.5.0",
      "model_name": "DescriptionStyleModel",
      "state": {
       "description_width": ""
      }
     },
     "30d6454ed39e4dc58e08a37138f2ffc8": {
      "model_module": "@jupyter-widgets/output",
      "model_module_version": "1.0.0",
      "model_name": "OutputModel",
      "state": {
       "layout": "IPY_MODEL_cc1598f40c44498dbb38f2c252501d30",
       "outputs": [
        {
         "data": {
          "application/vnd.jupyter.widget-view+json": {
           "model_id": "",
           "version_major": 2,
           "version_minor": 0
          },
          "text/plain": "HTML(value='<strong>Top Agencies using Bridge Projects</strong>')"
         },
         "metadata": {},
         "output_type": "display_data"
        },
        {
         "data": {
          "text/html": "<style type=\"text/css\">\n</style>\n<table id=\"T_4d861\">\n  <thead>\n    <tr>\n      <th class=\"blank level0\" >&nbsp;</th>\n      <th id=\"T_4d861_level0_col0\" class=\"col_heading level0 col0\" >Agency</th>\n      <th id=\"T_4d861_level0_col1\" class=\"col_heading level0 col1\" >Bridge Obligations</th>\n      <th id=\"T_4d861_level0_col2\" class=\"col_heading level0 col2\" >Percent of Category</th>\n    </tr>\n  </thead>\n  <tbody>\n    <tr>\n      <th id=\"T_4d861_level0_row0\" class=\"row_heading level0 row0\" >0</th>\n      <td id=\"T_4d861_row0_col0\" class=\"data row0 col0\" >Los Angeles County</td>\n      <td id=\"T_4d861_row0_col1\" class=\"data row0 col1\" >85</td>\n      <td id=\"T_4d861_row0_col2\" class=\"data row0 col2\" >28.15%</td>\n    </tr>\n    <tr>\n      <th id=\"T_4d861_level0_row1\" class=\"row_heading level0 row1\" >1</th>\n      <td id=\"T_4d861_row1_col0\" class=\"data row1 col0\" >Los Angeles</td>\n      <td id=\"T_4d861_row1_col1\" class=\"data row1 col1\" >74</td>\n      <td id=\"T_4d861_row1_col2\" class=\"data row1 col2\" >24.50%</td>\n    </tr>\n    <tr>\n      <th id=\"T_4d861_level0_row2\" class=\"row_heading level0 row2\" >2</th>\n      <td id=\"T_4d861_row2_col0\" class=\"data row2 col0\" >Santa Clarita</td>\n      <td id=\"T_4d861_row2_col1\" class=\"data row2 col1\" >23</td>\n      <td id=\"T_4d861_row2_col2\" class=\"data row2 col2\" >7.62%</td>\n    </tr>\n    <tr>\n      <th id=\"T_4d861_level0_row3\" class=\"row_heading level0 row3\" >3</th>\n      <td id=\"T_4d861_row3_col0\" class=\"data row3 col0\" >Ventura County</td>\n      <td id=\"T_4d861_row3_col1\" class=\"data row3 col1\" >17</td>\n      <td id=\"T_4d861_row3_col2\" class=\"data row3 col2\" >5.63%</td>\n    </tr>\n    <tr>\n      <th id=\"T_4d861_level0_row4\" class=\"row_heading level0 row4\" >4</th>\n      <td id=\"T_4d861_row4_col0\" class=\"data row4 col0\" >Long Beach</td>\n      <td id=\"T_4d861_row4_col1\" class=\"data row4 col1\" >11</td>\n      <td id=\"T_4d861_row4_col2\" class=\"data row4 col2\" >3.64%</td>\n    </tr>\n  </tbody>\n</table>\n",
          "text/plain": "<pandas.io.formats.style.Styler at 0x7f605de66af0>"
         },
         "metadata": {},
         "output_type": "display_data"
        },
        {
         "data": {
          "text/html": "\n<div id=\"altair-viz-eea80e55c9e74d0b8630e53e107f4b18\"></div>\n<script type=\"text/javascript\">\n  var VEGA_DEBUG = (typeof VEGA_DEBUG == \"undefined\") ? {} : VEGA_DEBUG;\n  (function(spec, embedOpt){\n    let outputDiv = document.currentScript.previousElementSibling;\n    if (outputDiv.id !== \"altair-viz-eea80e55c9e74d0b8630e53e107f4b18\") {\n      outputDiv = document.getElementById(\"altair-viz-eea80e55c9e74d0b8630e53e107f4b18\");\n    }\n    const paths = {\n      \"vega\": \"https://cdn.jsdelivr.net/npm//vega@5?noext\",\n      \"vega-lib\": \"https://cdn.jsdelivr.net/npm//vega-lib?noext\",\n      \"vega-lite\": \"https://cdn.jsdelivr.net/npm//vega-lite@4.17.0?noext\",\n      \"vega-embed\": \"https://cdn.jsdelivr.net/npm//vega-embed@6?noext\",\n    };\n\n    function maybeLoadScript(lib, version) {\n      var key = `${lib.replace(\"-\", \"\")}_version`;\n      return (VEGA_DEBUG[key] == version) ?\n        Promise.resolve(paths[lib]) :\n        new Promise(function(resolve, reject) {\n          var s = document.createElement('script');\n          document.getElementsByTagName(\"head\")[0].appendChild(s);\n          s.async = true;\n          s.onload = () => {\n            VEGA_DEBUG[key] = version;\n            return resolve(paths[lib]);\n          };\n          s.onerror = () => reject(`Error loading script: ${paths[lib]}`);\n          s.src = paths[lib];\n        });\n    }\n\n    function showError(err) {\n      outputDiv.innerHTML = `<div class=\"error\" style=\"color:red;\">${err}</div>`;\n      throw err;\n    }\n\n    function displayChart(vegaEmbed) {\n      vegaEmbed(outputDiv, spec, embedOpt)\n        .catch(err => showError(`Javascript Error: ${err.message}<br>This usually means there's a typo in your chart specification. See the javascript console for the full traceback.`));\n    }\n\n    if(typeof define === \"function\" && define.amd) {\n      requirejs.config({paths});\n      require([\"vega-embed\"], displayChart, err => showError(`Error loading script: ${err.message}`));\n    } else {\n      maybeLoadScript(\"vega\", \"5\")\n        .then(() => maybeLoadScript(\"vega-lite\", \"4.17.0\"))\n        .then(() => maybeLoadScript(\"vega-embed\", \"6\"))\n        .catch(showError)\n        .then(() => displayChart(vegaEmbed));\n    }\n  })({\"config\": {\"view\": {\"continuousWidth\": 400, \"continuousHeight\": 300}}, \"data\": {\"name\": \"data-1c9f5560cd0157f367049c436bd76489\"}, \"mark\": \"bar\", \"encoding\": {\"color\": {\"field\": \"Categories\", \"scale\": {\"range\": [\"#2EA8CE\", \"#EB9F3C\", \"#F4D837\", \"#51BF9D\", \"#8CBCCB\", \"#9487C0\"]}, \"type\": \"nominal\"}, \"row\": {\"field\": \"Categories\", \"type\": \"nominal\"}, \"tooltip\": [{\"field\": \"Agency\", \"type\": \"nominal\"}, {\"field\": \"Funding Amount\", \"type\": \"quantitative\"}], \"x\": {\"axis\": {\"format\": \"$.2s\", \"title\": \"Obligated Funding ($2021)\"}, \"field\": \"Funding Amount\", \"type\": \"quantitative\"}, \"y\": {\"field\": \"Agency\", \"type\": \"nominal\"}}, \"$schema\": \"https://vega.github.io/schema/vega-lite/v4.17.0.json\", \"datasets\": {\"data-1c9f5560cd0157f367049c436bd76489\": [{\"Agency\": \"Los Angeles County\", \"Categories\": \"Total Requested\", \"Funding Amount\": 687337.0482736377}, {\"Agency\": \"Los Angeles\", \"Categories\": \"Total Requested\", \"Funding Amount\": 5453815.632681923}, {\"Agency\": \"Santa Clarita\", \"Categories\": \"Total Requested\", \"Funding Amount\": 1038755.8281014625}, {\"Agency\": \"Ventura County\", \"Categories\": \"Total Requested\", \"Funding Amount\": 178391.17023692132}, {\"Agency\": \"Long Beach\", \"Categories\": \"Total Requested\", \"Funding Amount\": 30629092.289853737}, {\"Agency\": \"Los Angeles County\", \"Categories\": \"Fed Requested\", \"Funding Amount\": 554481.4838894097}, {\"Agency\": \"Los Angeles\", \"Categories\": \"Fed Requested\", \"Funding Amount\": 2849673.751056456}, {\"Agency\": \"Santa Clarita\", \"Categories\": \"Fed Requested\", \"Funding Amount\": 793111.3915336704}, {\"Agency\": \"Ventura County\", \"Categories\": \"Fed Requested\", \"Funding Amount\": 84128.48036887348}, {\"Agency\": \"Long Beach\", \"Categories\": \"Fed Requested\", \"Funding Amount\": 3397401.505399536}, {\"Agency\": \"Los Angeles County\", \"Categories\": \"AC Requested\", \"Funding Amount\": 73337.38880108036}, {\"Agency\": \"Los Angeles\", \"Categories\": \"AC Requested\", \"Funding Amount\": 1520878.1900657492}, {\"Agency\": \"Santa Clarita\", \"Categories\": \"AC Requested\", \"Funding Amount\": 10098.878300652717}, {\"Agency\": \"Ventura County\", \"Categories\": \"AC Requested\", \"Funding Amount\": 0.0}, {\"Agency\": \"Long Beach\", \"Categories\": \"AC Requested\", \"Funding Amount\": 0.0}]}}, {\"mode\": \"vega-lite\"});\n</script>",
          "text/plain": "alt.Chart(...)"
         },
         "metadata": {},
         "output_type": "display_data"
        }
       ]
      }
     },
     "315bcfa0eee44751982e9b26f68b6b17": {
      "model_module": "@jupyter-widgets/base",
      "model_module_version": "1.2.0",
      "model_name": "LayoutModel",
      "state": {}
     },
     "3166ca84d2cf4ebb99323dc4cc811295": {
      "model_module": "@jupyter-widgets/base",
      "model_module_version": "1.2.0",
      "model_name": "LayoutModel",
      "state": {}
     },
     "317f328c9fb14be8b4f59affe1b29d2e": {
      "model_module": "@jupyter-widgets/base",
      "model_module_version": "1.2.0",
      "model_name": "LayoutModel",
      "state": {}
     },
     "31802fe6650f4d699b7fc3f3a372fa00": {
      "model_module": "@jupyter-widgets/output",
      "model_module_version": "1.0.0",
      "model_name": "OutputModel",
      "state": {
       "layout": "IPY_MODEL_dde35da6bd90424fbed1478957438b2a",
       "outputs": [
        {
         "data": {
          "application/vnd.jupyter.widget-view+json": {
           "model_id": "",
           "version_major": 2,
           "version_minor": 0
          },
          "text/plain": "HTML(value='<strong>Top Agencies using Street Projects</strong>')"
         },
         "metadata": {},
         "output_type": "display_data"
        },
        {
         "data": {
          "text/html": "<style type=\"text/css\">\n</style>\n<table id=\"T_3024f\">\n  <thead>\n    <tr>\n      <th class=\"blank level0\" >&nbsp;</th>\n      <th id=\"T_3024f_level0_col0\" class=\"col_heading level0 col0\" >Agency</th>\n      <th id=\"T_3024f_level0_col1\" class=\"col_heading level0 col1\" >Street Obligations</th>\n      <th id=\"T_3024f_level0_col2\" class=\"col_heading level0 col2\" >Percent of Category</th>\n    </tr>\n  </thead>\n  <tbody>\n    <tr>\n      <th id=\"T_3024f_level0_row0\" class=\"row_heading level0 row0\" >0</th>\n      <td id=\"T_3024f_row0_col0\" class=\"data row0 col0\" >Santa Cruz County</td>\n      <td id=\"T_3024f_row0_col1\" class=\"data row0 col1\" >303</td>\n      <td id=\"T_3024f_row0_col2\" class=\"data row0 col2\" >3.50%</td>\n    </tr>\n    <tr>\n      <th id=\"T_3024f_level0_row1\" class=\"row_heading level0 row1\" >1</th>\n      <td id=\"T_3024f_row1_col0\" class=\"data row1 col0\" >Los Angeles</td>\n      <td id=\"T_3024f_row1_col1\" class=\"data row1 col1\" >214</td>\n      <td id=\"T_3024f_row1_col2\" class=\"data row1 col2\" >2.47%</td>\n    </tr>\n    <tr>\n      <th id=\"T_3024f_level0_row2\" class=\"row_heading level0 row2\" >2</th>\n      <td id=\"T_3024f_row2_col0\" class=\"data row2 col0\" >Los Angeles County</td>\n      <td id=\"T_3024f_row2_col1\" class=\"data row2 col1\" >195</td>\n      <td id=\"T_3024f_row2_col2\" class=\"data row2 col2\" >2.25%</td>\n    </tr>\n    <tr>\n      <th id=\"T_3024f_level0_row3\" class=\"row_heading level0 row3\" >3</th>\n      <td id=\"T_3024f_row3_col0\" class=\"data row3 col0\" >Fresno</td>\n      <td id=\"T_3024f_row3_col1\" class=\"data row3 col1\" >194</td>\n      <td id=\"T_3024f_row3_col2\" class=\"data row3 col2\" >2.24%</td>\n    </tr>\n    <tr>\n      <th id=\"T_3024f_level0_row4\" class=\"row_heading level0 row4\" >4</th>\n      <td id=\"T_3024f_row4_col0\" class=\"data row4 col0\" >Stockton</td>\n      <td id=\"T_3024f_row4_col1\" class=\"data row4 col1\" >181</td>\n      <td id=\"T_3024f_row4_col2\" class=\"data row4 col2\" >2.09%</td>\n    </tr>\n  </tbody>\n</table>\n",
          "text/plain": "<pandas.io.formats.style.Styler at 0x7f605e8ba760>"
         },
         "metadata": {},
         "output_type": "display_data"
        },
        {
         "data": {
          "text/html": "\n<div id=\"altair-viz-9261a625da384f349e19d6275223beb1\"></div>\n<script type=\"text/javascript\">\n  var VEGA_DEBUG = (typeof VEGA_DEBUG == \"undefined\") ? {} : VEGA_DEBUG;\n  (function(spec, embedOpt){\n    let outputDiv = document.currentScript.previousElementSibling;\n    if (outputDiv.id !== \"altair-viz-9261a625da384f349e19d6275223beb1\") {\n      outputDiv = document.getElementById(\"altair-viz-9261a625da384f349e19d6275223beb1\");\n    }\n    const paths = {\n      \"vega\": \"https://cdn.jsdelivr.net/npm//vega@5?noext\",\n      \"vega-lib\": \"https://cdn.jsdelivr.net/npm//vega-lib?noext\",\n      \"vega-lite\": \"https://cdn.jsdelivr.net/npm//vega-lite@4.17.0?noext\",\n      \"vega-embed\": \"https://cdn.jsdelivr.net/npm//vega-embed@6?noext\",\n    };\n\n    function maybeLoadScript(lib, version) {\n      var key = `${lib.replace(\"-\", \"\")}_version`;\n      return (VEGA_DEBUG[key] == version) ?\n        Promise.resolve(paths[lib]) :\n        new Promise(function(resolve, reject) {\n          var s = document.createElement('script');\n          document.getElementsByTagName(\"head\")[0].appendChild(s);\n          s.async = true;\n          s.onload = () => {\n            VEGA_DEBUG[key] = version;\n            return resolve(paths[lib]);\n          };\n          s.onerror = () => reject(`Error loading script: ${paths[lib]}`);\n          s.src = paths[lib];\n        });\n    }\n\n    function showError(err) {\n      outputDiv.innerHTML = `<div class=\"error\" style=\"color:red;\">${err}</div>`;\n      throw err;\n    }\n\n    function displayChart(vegaEmbed) {\n      vegaEmbed(outputDiv, spec, embedOpt)\n        .catch(err => showError(`Javascript Error: ${err.message}<br>This usually means there's a typo in your chart specification. See the javascript console for the full traceback.`));\n    }\n\n    if(typeof define === \"function\" && define.amd) {\n      requirejs.config({paths});\n      require([\"vega-embed\"], displayChart, err => showError(`Error loading script: ${err.message}`));\n    } else {\n      maybeLoadScript(\"vega\", \"5\")\n        .then(() => maybeLoadScript(\"vega-lite\", \"4.17.0\"))\n        .then(() => maybeLoadScript(\"vega-embed\", \"6\"))\n        .catch(showError)\n        .then(() => displayChart(vegaEmbed));\n    }\n  })({\"config\": {\"view\": {\"continuousWidth\": 400, \"continuousHeight\": 300}}, \"data\": {\"name\": \"data-83d0325d2334ae2470ea6536fec35399\"}, \"mark\": \"bar\", \"encoding\": {\"color\": {\"field\": \"Categories\", \"scale\": {\"range\": [\"#2EA8CE\", \"#EB9F3C\", \"#F4D837\", \"#51BF9D\", \"#8CBCCB\", \"#9487C0\"]}, \"type\": \"nominal\"}, \"row\": {\"field\": \"Categories\", \"type\": \"nominal\"}, \"tooltip\": [{\"field\": \"Agency\", \"type\": \"nominal\"}, {\"field\": \"Funding Amount\", \"type\": \"quantitative\"}], \"x\": {\"axis\": {\"format\": \"$.2s\", \"title\": \"Obligated Funding ($2021)\"}, \"field\": \"Funding Amount\", \"type\": \"quantitative\"}, \"y\": {\"field\": \"Agency\", \"type\": \"nominal\"}}, \"$schema\": \"https://vega.github.io/schema/vega-lite/v4.17.0.json\", \"datasets\": {\"data-83d0325d2334ae2470ea6536fec35399\": [{\"Agency\": \"Santa Cruz County\", \"Categories\": \"Total Requested\", \"Funding Amount\": 148572.7311544984}, {\"Agency\": \"Los Angeles\", \"Categories\": \"Total Requested\", \"Funding Amount\": 818150.0513615018}, {\"Agency\": \"Los Angeles County\", \"Categories\": \"Total Requested\", \"Funding Amount\": 382918.64084763266}, {\"Agency\": \"Fresno\", \"Categories\": \"Total Requested\", \"Funding Amount\": 366949.02695706155}, {\"Agency\": \"Stockton\", \"Categories\": \"Total Requested\", \"Funding Amount\": 348403.7227268286}, {\"Agency\": \"Santa Cruz County\", \"Categories\": \"Fed Requested\", \"Funding Amount\": 157435.28622496795}, {\"Agency\": \"Los Angeles\", \"Categories\": \"Fed Requested\", \"Funding Amount\": 742825.9307634895}, {\"Agency\": \"Los Angeles County\", \"Categories\": \"Fed Requested\", \"Funding Amount\": 275458.8800840027}, {\"Agency\": \"Fresno\", \"Categories\": \"Fed Requested\", \"Funding Amount\": 288385.93556578556}, {\"Agency\": \"Stockton\", \"Categories\": \"Fed Requested\", \"Funding Amount\": 286570.8388280882}, {\"Agency\": \"Santa Cruz County\", \"Categories\": \"AC Requested\", \"Funding Amount\": -24794.85554384955}, {\"Agency\": \"Los Angeles\", \"Categories\": \"AC Requested\", \"Funding Amount\": -5017.018342454247}, {\"Agency\": \"Los Angeles County\", \"Categories\": \"AC Requested\", \"Funding Amount\": 14254.817693142844}, {\"Agency\": \"Fresno\", \"Categories\": \"AC Requested\", \"Funding Amount\": 0.0}, {\"Agency\": \"Stockton\", \"Categories\": \"AC Requested\", \"Funding Amount\": 0.0}]}}, {\"mode\": \"vega-lite\"});\n</script>",
          "text/plain": "alt.Chart(...)"
         },
         "metadata": {},
         "output_type": "display_data"
        }
       ]
      }
     },
     "32bd721e831c4649af2c9798e3891b43": {
      "model_module": "@jupyter-widgets/base",
      "model_module_version": "1.2.0",
      "model_name": "LayoutModel",
      "state": {}
     },
     "33684e4d8c214e8385007ecf915db4cf": {
      "model_module": "@jupyter-widgets/base",
      "model_module_version": "1.2.0",
      "model_name": "LayoutModel",
      "state": {}
     },
     "3441bf77ce694362bc6c2c911330595c": {
      "model_module": "@jupyter-widgets/base",
      "model_module_version": "1.2.0",
      "model_name": "LayoutModel",
      "state": {}
     },
     "348dcf6ed4c847c8a8f3f83a839e2f5d": {
      "model_module": "@jupyter-widgets/controls",
      "model_module_version": "1.5.0",
      "model_name": "TabModel",
      "state": {
       "_titles": {
        "0": "Active Transportation",
        "1": "Transit",
        "2": "Bridge",
        "3": "Street",
        "4": "Freeway",
        "5": "Infrastructure & Emergency Relief",
        "6": "Congestion Relief"
       },
       "children": [
        "IPY_MODEL_3b52202673fb435ba34b6c1b215736f9",
        "IPY_MODEL_3ccda5afa54b4a7c83029b7430852df8",
        "IPY_MODEL_e1e5e95f4b494d42b2b28e1f2b31dc6f",
        "IPY_MODEL_29a8bc20f96749d3a36c3e6edc4f217e",
        "IPY_MODEL_582fd6cdefa44a68a6c70ea159fc1f37",
        "IPY_MODEL_bbe883d84fe34b378fdb4bb6ad787ed8",
        "IPY_MODEL_6f4149efa58f40d3a9b7ef1472dc803c"
       ],
       "layout": "IPY_MODEL_aae8cab37fb847cdb579912613ce447d",
       "selected_index": 1
      }
     },
     "34f9bb20ac494700966ea26a84c42de3": {
      "model_module": "@jupyter-widgets/output",
      "model_module_version": "1.0.0",
      "model_name": "OutputModel",
      "state": {
       "layout": "IPY_MODEL_839fa195d04247da866e35ba84a5b09d",
       "outputs": [
        {
         "data": {
          "application/vnd.jupyter.widget-view+json": {
           "model_id": "",
           "version_major": 2,
           "version_minor": 0
          },
          "text/plain": "HTML(value='<strong>Top Agencies using Infrastructure & Emergency Relief Projects</strong>')"
         },
         "metadata": {},
         "output_type": "display_data"
        },
        {
         "data": {
          "text/html": "<style type=\"text/css\">\n</style>\n<table id=\"T_1d50c\">\n  <thead>\n    <tr>\n      <th class=\"blank level0\" >&nbsp;</th>\n      <th id=\"T_1d50c_level0_col0\" class=\"col_heading level0 col0\" >Agency</th>\n      <th id=\"T_1d50c_level0_col1\" class=\"col_heading level0 col1\" >Infrastructure & Emergency Relief Obligations</th>\n      <th id=\"T_1d50c_level0_col2\" class=\"col_heading level0 col2\" >Percent of Category</th>\n    </tr>\n  </thead>\n  <tbody>\n    <tr>\n      <th id=\"T_1d50c_level0_row0\" class=\"row_heading level0 row0\" >0</th>\n      <td id=\"T_1d50c_row0_col0\" class=\"data row0 col0\" >Contra Costa County</td>\n      <td id=\"T_1d50c_row0_col1\" class=\"data row0 col1\" >102</td>\n      <td id=\"T_1d50c_row0_col2\" class=\"data row0 col2\" >5.21%</td>\n    </tr>\n    <tr>\n      <th id=\"T_1d50c_level0_row1\" class=\"row_heading level0 row1\" >1</th>\n      <td id=\"T_1d50c_row1_col0\" class=\"data row1 col0\" >Napa County</td>\n      <td id=\"T_1d50c_row1_col1\" class=\"data row1 col1\" >88</td>\n      <td id=\"T_1d50c_row1_col2\" class=\"data row1 col2\" >4.50%</td>\n    </tr>\n    <tr>\n      <th id=\"T_1d50c_level0_row2\" class=\"row_heading level0 row2\" >2</th>\n      <td id=\"T_1d50c_row2_col0\" class=\"data row2 col0\" >Santa Clara County</td>\n      <td id=\"T_1d50c_row2_col1\" class=\"data row2 col1\" >82</td>\n      <td id=\"T_1d50c_row2_col2\" class=\"data row2 col2\" >4.19%</td>\n    </tr>\n    <tr>\n      <th id=\"T_1d50c_level0_row3\" class=\"row_heading level0 row3\" >3</th>\n      <td id=\"T_1d50c_row3_col0\" class=\"data row3 col0\" >Sonoma County</td>\n      <td id=\"T_1d50c_row3_col1\" class=\"data row3 col1\" >71</td>\n      <td id=\"T_1d50c_row3_col2\" class=\"data row3 col2\" >3.63%</td>\n    </tr>\n    <tr>\n      <th id=\"T_1d50c_level0_row4\" class=\"row_heading level0 row4\" >4</th>\n      <td id=\"T_1d50c_row4_col0\" class=\"data row4 col0\" >Oakland</td>\n      <td id=\"T_1d50c_row4_col1\" class=\"data row4 col1\" >70</td>\n      <td id=\"T_1d50c_row4_col2\" class=\"data row4 col2\" >3.58%</td>\n    </tr>\n  </tbody>\n</table>\n",
          "text/plain": "<pandas.io.formats.style.Styler at 0x7f605d1951f0>"
         },
         "metadata": {},
         "output_type": "display_data"
        },
        {
         "data": {
          "text/html": "\n<div id=\"altair-viz-c12978024df3455f9aa7c34389375ff5\"></div>\n<script type=\"text/javascript\">\n  var VEGA_DEBUG = (typeof VEGA_DEBUG == \"undefined\") ? {} : VEGA_DEBUG;\n  (function(spec, embedOpt){\n    let outputDiv = document.currentScript.previousElementSibling;\n    if (outputDiv.id !== \"altair-viz-c12978024df3455f9aa7c34389375ff5\") {\n      outputDiv = document.getElementById(\"altair-viz-c12978024df3455f9aa7c34389375ff5\");\n    }\n    const paths = {\n      \"vega\": \"https://cdn.jsdelivr.net/npm//vega@5?noext\",\n      \"vega-lib\": \"https://cdn.jsdelivr.net/npm//vega-lib?noext\",\n      \"vega-lite\": \"https://cdn.jsdelivr.net/npm//vega-lite@4.17.0?noext\",\n      \"vega-embed\": \"https://cdn.jsdelivr.net/npm//vega-embed@6?noext\",\n    };\n\n    function maybeLoadScript(lib, version) {\n      var key = `${lib.replace(\"-\", \"\")}_version`;\n      return (VEGA_DEBUG[key] == version) ?\n        Promise.resolve(paths[lib]) :\n        new Promise(function(resolve, reject) {\n          var s = document.createElement('script');\n          document.getElementsByTagName(\"head\")[0].appendChild(s);\n          s.async = true;\n          s.onload = () => {\n            VEGA_DEBUG[key] = version;\n            return resolve(paths[lib]);\n          };\n          s.onerror = () => reject(`Error loading script: ${paths[lib]}`);\n          s.src = paths[lib];\n        });\n    }\n\n    function showError(err) {\n      outputDiv.innerHTML = `<div class=\"error\" style=\"color:red;\">${err}</div>`;\n      throw err;\n    }\n\n    function displayChart(vegaEmbed) {\n      vegaEmbed(outputDiv, spec, embedOpt)\n        .catch(err => showError(`Javascript Error: ${err.message}<br>This usually means there's a typo in your chart specification. See the javascript console for the full traceback.`));\n    }\n\n    if(typeof define === \"function\" && define.amd) {\n      requirejs.config({paths});\n      require([\"vega-embed\"], displayChart, err => showError(`Error loading script: ${err.message}`));\n    } else {\n      maybeLoadScript(\"vega\", \"5\")\n        .then(() => maybeLoadScript(\"vega-lite\", \"4.17.0\"))\n        .then(() => maybeLoadScript(\"vega-embed\", \"6\"))\n        .catch(showError)\n        .then(() => displayChart(vegaEmbed));\n    }\n  })({\"config\": {\"view\": {\"continuousWidth\": 400, \"continuousHeight\": 300}}, \"data\": {\"name\": \"data-f0cad226c95a51748334db9fe2ae4c0a\"}, \"mark\": \"bar\", \"encoding\": {\"color\": {\"field\": \"Categories\", \"scale\": {\"range\": [\"#2EA8CE\", \"#EB9F3C\", \"#F4D837\", \"#51BF9D\", \"#8CBCCB\", \"#9487C0\"]}, \"type\": \"nominal\"}, \"row\": {\"field\": \"Categories\", \"type\": \"nominal\"}, \"tooltip\": [{\"field\": \"Agency\", \"type\": \"nominal\"}, {\"field\": \"Funding Amount\", \"type\": \"quantitative\"}], \"x\": {\"axis\": {\"format\": \"$.2s\", \"title\": \"Obligated Funding ($2021)\"}, \"field\": \"Funding Amount\", \"type\": \"quantitative\"}, \"y\": {\"field\": \"Agency\", \"type\": \"nominal\"}}, \"$schema\": \"https://vega.github.io/schema/vega-lite/v4.17.0.json\", \"datasets\": {\"data-f0cad226c95a51748334db9fe2ae4c0a\": [{\"Agency\": \"Contra Costa County\", \"Categories\": \"Total Requested\", \"Funding Amount\": 852412.8986917532}, {\"Agency\": \"Napa County\", \"Categories\": \"Total Requested\", \"Funding Amount\": 290127.23106307245}, {\"Agency\": \"Santa Clara County\", \"Categories\": \"Total Requested\", \"Funding Amount\": 672624.8283425933}, {\"Agency\": \"Sonoma County\", \"Categories\": \"Total Requested\", \"Funding Amount\": 648775.690347322}, {\"Agency\": \"Oakland\", \"Categories\": \"Total Requested\", \"Funding Amount\": 1543864.847788699}, {\"Agency\": \"Contra Costa County\", \"Categories\": \"Fed Requested\", \"Funding Amount\": 637082.1190394674}, {\"Agency\": \"Napa County\", \"Categories\": \"Fed Requested\", \"Funding Amount\": 254382.40987557478}, {\"Agency\": \"Santa Clara County\", \"Categories\": \"Fed Requested\", \"Funding Amount\": 568961.2217746255}, {\"Agency\": \"Sonoma County\", \"Categories\": \"Fed Requested\", \"Funding Amount\": 488154.49796102184}, {\"Agency\": \"Oakland\", \"Categories\": \"Fed Requested\", \"Funding Amount\": 1123344.3663603195}, {\"Agency\": \"Contra Costa County\", \"Categories\": \"AC Requested\", \"Funding Amount\": 46442.64603194262}, {\"Agency\": \"Napa County\", \"Categories\": \"AC Requested\", \"Funding Amount\": 4926.44569571146}, {\"Agency\": \"Santa Clara County\", \"Categories\": \"AC Requested\", \"Funding Amount\": 4141.262730127382}, {\"Agency\": \"Sonoma County\", \"Categories\": \"AC Requested\", \"Funding Amount\": 63056.74152049417}, {\"Agency\": \"Oakland\", \"Categories\": \"AC Requested\", \"Funding Amount\": 0.0}]}}, {\"mode\": \"vega-lite\"});\n</script>",
          "text/plain": "alt.Chart(...)"
         },
         "metadata": {},
         "output_type": "display_data"
        }
       ]
      }
     },
     "3511a86460084062b68f70df066eccd6": {
      "model_module": "@jupyter-widgets/base",
      "model_module_version": "1.2.0",
      "model_name": "LayoutModel",
      "state": {}
     },
     "36d784788aee4a749d44e800cc8dac77": {
      "model_module": "@jupyter-widgets/base",
      "model_module_version": "1.2.0",
      "model_name": "LayoutModel",
      "state": {}
     },
     "37796be8b19343d5901a7f7c96f8e70c": {
      "model_module": "@jupyter-widgets/controls",
      "model_module_version": "1.5.0",
      "model_name": "TextModel",
      "state": {
       "description": "street",
       "layout": "IPY_MODEL_f89e491b3bb64701a9d783b7668a81da",
       "style": "IPY_MODEL_ace833c4f48b47ecad73b0d4fa4417e6"
      }
     },
     "3823ab949a06414db363dd9f9dcddf19": {
      "model_module": "@jupyter-widgets/base",
      "model_module_version": "1.2.0",
      "model_name": "LayoutModel",
      "state": {}
     },
     "387e6dab11064cf283bfef3f43a6e4c2": {
      "model_module": "@jupyter-widgets/output",
      "model_module_version": "1.0.0",
      "model_name": "OutputModel",
      "state": {
       "layout": "IPY_MODEL_0bf6ec7477be42b1a7ab0ce9e229e16c",
       "outputs": [
        {
         "data": {
          "application/vnd.jupyter.widget-view+json": {
           "model_id": "",
           "version_major": 2,
           "version_minor": 0
          },
          "text/plain": "HTML(value='<strong>Top Agencies using Active Transportation Projects</strong>')"
         },
         "metadata": {},
         "output_type": "display_data"
        },
        {
         "data": {
          "text/html": "<style type=\"text/css\">\n</style>\n<table id=\"T_17c42\">\n  <thead>\n    <tr>\n      <th class=\"blank level0\" >&nbsp;</th>\n      <th id=\"T_17c42_level0_col0\" class=\"col_heading level0 col0\" >Agency</th>\n      <th id=\"T_17c42_level0_col1\" class=\"col_heading level0 col1\" >Active Transportation Obligations</th>\n      <th id=\"T_17c42_level0_col2\" class=\"col_heading level0 col2\" >Percent of Category</th>\n    </tr>\n  </thead>\n  <tbody>\n    <tr>\n      <th id=\"T_17c42_level0_row0\" class=\"row_heading level0 row0\" >0</th>\n      <td id=\"T_17c42_row0_col0\" class=\"data row0 col0\" >Los Angeles</td>\n      <td id=\"T_17c42_row0_col1\" class=\"data row0 col1\" >153</td>\n      <td id=\"T_17c42_row0_col2\" class=\"data row0 col2\" >3.11%</td>\n    </tr>\n    <tr>\n      <th id=\"T_17c42_level0_row1\" class=\"row_heading level0 row1\" >1</th>\n      <td id=\"T_17c42_row1_col0\" class=\"data row1 col0\" >Sacramento County</td>\n      <td id=\"T_17c42_row1_col1\" class=\"data row1 col1\" >112</td>\n      <td id=\"T_17c42_row1_col2\" class=\"data row1 col2\" >2.28%</td>\n    </tr>\n    <tr>\n      <th id=\"T_17c42_level0_row2\" class=\"row_heading level0 row2\" >2</th>\n      <td id=\"T_17c42_row2_col0\" class=\"data row2 col0\" >Los Angeles County</td>\n      <td id=\"T_17c42_row2_col1\" class=\"data row2 col1\" >96</td>\n      <td id=\"T_17c42_row2_col2\" class=\"data row2 col2\" >1.95%</td>\n    </tr>\n    <tr>\n      <th id=\"T_17c42_level0_row3\" class=\"row_heading level0 row3\" >3</th>\n      <td id=\"T_17c42_row3_col0\" class=\"data row3 col0\" >Fresno</td>\n      <td id=\"T_17c42_row3_col1\" class=\"data row3 col1\" >94</td>\n      <td id=\"T_17c42_row3_col2\" class=\"data row3 col2\" >1.91%</td>\n    </tr>\n    <tr>\n      <th id=\"T_17c42_level0_row4\" class=\"row_heading level0 row4\" >4</th>\n      <td id=\"T_17c42_row4_col0\" class=\"data row4 col0\" >El Dorado County</td>\n      <td id=\"T_17c42_row4_col1\" class=\"data row4 col1\" >92</td>\n      <td id=\"T_17c42_row4_col2\" class=\"data row4 col2\" >1.87%</td>\n    </tr>\n  </tbody>\n</table>\n",
          "text/plain": "<pandas.io.formats.style.Styler at 0x7f605e8c5fa0>"
         },
         "metadata": {},
         "output_type": "display_data"
        },
        {
         "data": {
          "text/html": "\n<div id=\"altair-viz-c15169026ca94098ac55d718a050f177\"></div>\n<script type=\"text/javascript\">\n  var VEGA_DEBUG = (typeof VEGA_DEBUG == \"undefined\") ? {} : VEGA_DEBUG;\n  (function(spec, embedOpt){\n    let outputDiv = document.currentScript.previousElementSibling;\n    if (outputDiv.id !== \"altair-viz-c15169026ca94098ac55d718a050f177\") {\n      outputDiv = document.getElementById(\"altair-viz-c15169026ca94098ac55d718a050f177\");\n    }\n    const paths = {\n      \"vega\": \"https://cdn.jsdelivr.net/npm//vega@5?noext\",\n      \"vega-lib\": \"https://cdn.jsdelivr.net/npm//vega-lib?noext\",\n      \"vega-lite\": \"https://cdn.jsdelivr.net/npm//vega-lite@4.17.0?noext\",\n      \"vega-embed\": \"https://cdn.jsdelivr.net/npm//vega-embed@6?noext\",\n    };\n\n    function maybeLoadScript(lib, version) {\n      var key = `${lib.replace(\"-\", \"\")}_version`;\n      return (VEGA_DEBUG[key] == version) ?\n        Promise.resolve(paths[lib]) :\n        new Promise(function(resolve, reject) {\n          var s = document.createElement('script');\n          document.getElementsByTagName(\"head\")[0].appendChild(s);\n          s.async = true;\n          s.onload = () => {\n            VEGA_DEBUG[key] = version;\n            return resolve(paths[lib]);\n          };\n          s.onerror = () => reject(`Error loading script: ${paths[lib]}`);\n          s.src = paths[lib];\n        });\n    }\n\n    function showError(err) {\n      outputDiv.innerHTML = `<div class=\"error\" style=\"color:red;\">${err}</div>`;\n      throw err;\n    }\n\n    function displayChart(vegaEmbed) {\n      vegaEmbed(outputDiv, spec, embedOpt)\n        .catch(err => showError(`Javascript Error: ${err.message}<br>This usually means there's a typo in your chart specification. See the javascript console for the full traceback.`));\n    }\n\n    if(typeof define === \"function\" && define.amd) {\n      requirejs.config({paths});\n      require([\"vega-embed\"], displayChart, err => showError(`Error loading script: ${err.message}`));\n    } else {\n      maybeLoadScript(\"vega\", \"5\")\n        .then(() => maybeLoadScript(\"vega-lite\", \"4.17.0\"))\n        .then(() => maybeLoadScript(\"vega-embed\", \"6\"))\n        .catch(showError)\n        .then(() => displayChart(vegaEmbed));\n    }\n  })({\"config\": {\"view\": {\"continuousWidth\": 400, \"continuousHeight\": 300}}, \"data\": {\"name\": \"data-414176c797040db0af2c6dbd395ff43d\"}, \"mark\": \"bar\", \"encoding\": {\"color\": {\"field\": \"Categories\", \"scale\": {\"range\": [\"#2EA8CE\", \"#EB9F3C\", \"#F4D837\", \"#51BF9D\", \"#8CBCCB\", \"#9487C0\"]}, \"type\": \"nominal\"}, \"row\": {\"field\": \"Categories\", \"type\": \"nominal\"}, \"tooltip\": [{\"field\": \"Agency\", \"type\": \"nominal\"}, {\"field\": \"Funding Amount\", \"type\": \"quantitative\"}], \"x\": {\"axis\": {\"format\": \"$.2s\", \"title\": \"Obligated Funding ($2021)\"}, \"field\": \"Funding Amount\", \"type\": \"quantitative\"}, \"y\": {\"field\": \"Agency\", \"type\": \"nominal\"}}, \"$schema\": \"https://vega.github.io/schema/vega-lite/v4.17.0.json\", \"datasets\": {\"data-414176c797040db0af2c6dbd395ff43d\": [{\"Agency\": \"Los Angeles\", \"Categories\": \"Total Requested\", \"Funding Amount\": 917283.1377095487}, {\"Agency\": \"Sacramento County\", \"Categories\": \"Total Requested\", \"Funding Amount\": 1006850.678353117}, {\"Agency\": \"Los Angeles County\", \"Categories\": \"Total Requested\", \"Funding Amount\": 404924.74302722217}, {\"Agency\": \"Fresno\", \"Categories\": \"Total Requested\", \"Funding Amount\": 171243.34544623905}, {\"Agency\": \"El Dorado County\", \"Categories\": \"Total Requested\", \"Funding Amount\": 402686.7205836727}, {\"Agency\": \"Los Angeles\", \"Categories\": \"Fed Requested\", \"Funding Amount\": 664969.1029667306}, {\"Agency\": \"Sacramento County\", \"Categories\": \"Fed Requested\", \"Funding Amount\": 544973.070164466}, {\"Agency\": \"Los Angeles County\", \"Categories\": \"Fed Requested\", \"Funding Amount\": 268968.0688735619}, {\"Agency\": \"Fresno\", \"Categories\": \"Fed Requested\", \"Funding Amount\": 109030.47137264804}, {\"Agency\": \"El Dorado County\", \"Categories\": \"Fed Requested\", \"Funding Amount\": 207663.61929225436}, {\"Agency\": \"Los Angeles\", \"Categories\": \"AC Requested\", \"Funding Amount\": -1211.9374548559986}, {\"Agency\": \"Sacramento County\", \"Categories\": \"AC Requested\", \"Funding Amount\": 36458.54169718384}, {\"Agency\": \"Los Angeles County\", \"Categories\": \"AC Requested\", \"Funding Amount\": 368.15701469117147}, {\"Agency\": \"Fresno\", \"Categories\": \"AC Requested\", \"Funding Amount\": 0.0}, {\"Agency\": \"El Dorado County\", \"Categories\": \"AC Requested\", \"Funding Amount\": 2716.5010563039277}]}}, {\"mode\": \"vega-lite\"});\n</script>",
          "text/plain": "alt.Chart(...)"
         },
         "metadata": {},
         "output_type": "display_data"
        }
       ]
      }
     },
     "38c01d0a93824f2f86fec01b50ee578a": {
      "model_module": "@jupyter-widgets/controls",
      "model_module_version": "1.5.0",
      "model_name": "HTMLModel",
      "state": {
       "layout": "IPY_MODEL_e59971883e684687bf969cf973fb1483",
       "style": "IPY_MODEL_47f8c60082b34b8bb5b21501eef6e548",
       "value": "<strong>Top Agencies using Active Transportation Projects</strong>"
      }
     },
     "393602b7fff344e1a7780462f5fba7c5": {
      "model_module": "@jupyter-widgets/controls",
      "model_module_version": "1.5.0",
      "model_name": "DescriptionStyleModel",
      "state": {
       "description_width": ""
      }
     },
     "394e778251b9419c9e289c12c7406de6": {
      "model_module": "@jupyter-widgets/base",
      "model_module_version": "1.2.0",
      "model_name": "LayoutModel",
      "state": {}
     },
     "39c3b1be32d3435c93f6000be9e3acea": {
      "model_module": "@jupyter-widgets/base",
      "model_module_version": "1.2.0",
      "model_name": "LayoutModel",
      "state": {}
     },
     "39e4a5006f364bc8b65034f6f9c7d4f5": {
      "model_module": "@jupyter-widgets/base",
      "model_module_version": "1.2.0",
      "model_name": "LayoutModel",
      "state": {}
     },
     "3a172305a8a14c6590a9cde8d33db9b5": {
      "model_module": "@jupyter-widgets/controls",
      "model_module_version": "1.5.0",
      "model_name": "HTMLModel",
      "state": {
       "layout": "IPY_MODEL_8423f36c1fcb4d1da022ea73ec8080cb",
       "style": "IPY_MODEL_7d0f7071e42b45bba83df4780b399906",
       "value": "<strong>Top Agencies using Transit Projects</strong>"
      }
     },
     "3a2ff7898b764fd69e41ebfed63dae2b": {
      "model_module": "@jupyter-widgets/output",
      "model_module_version": "1.0.0",
      "model_name": "OutputModel",
      "state": {
       "layout": "IPY_MODEL_59b13e8d82d24e228e076b9f352b9160",
       "outputs": [
        {
         "data": {
          "application/vnd.jupyter.widget-view+json": {
           "model_id": "",
           "version_major": 2,
           "version_minor": 0
          },
          "text/plain": "HTML(value='<strong>Top Agencies using Congestion Relief Projects</strong>')"
         },
         "metadata": {},
         "output_type": "display_data"
        },
        {
         "data": {
          "text/html": "<style type=\"text/css\">\n</style>\n<table id=\"T_647d7\">\n  <thead>\n    <tr>\n      <th class=\"blank level0\" >&nbsp;</th>\n      <th id=\"T_647d7_level0_col0\" class=\"col_heading level0 col0\" >Agency</th>\n      <th id=\"T_647d7_level0_col1\" class=\"col_heading level0 col1\" >Congestion Relief Obligations</th>\n      <th id=\"T_647d7_level0_col2\" class=\"col_heading level0 col2\" >Percent of Category</th>\n    </tr>\n  </thead>\n  <tbody>\n    <tr>\n      <th id=\"T_647d7_level0_row0\" class=\"row_heading level0 row0\" >0</th>\n      <td id=\"T_647d7_row0_col0\" class=\"data row0 col0\" >San Bernardino Associated Governments</td>\n      <td id=\"T_647d7_row0_col1\" class=\"data row0 col1\" >7</td>\n      <td id=\"T_647d7_row0_col2\" class=\"data row0 col2\" >46.67%</td>\n    </tr>\n    <tr>\n      <th id=\"T_647d7_level0_row1\" class=\"row_heading level0 row1\" >1</th>\n      <td id=\"T_647d7_row1_col0\" class=\"data row1 col0\" >San Bernardino County Transportation Authority</td>\n      <td id=\"T_647d7_row1_col1\" class=\"data row1 col1\" >7</td>\n      <td id=\"T_647d7_row1_col2\" class=\"data row1 col2\" >46.67%</td>\n    </tr>\n    <tr>\n      <th id=\"T_647d7_level0_row2\" class=\"row_heading level0 row2\" >2</th>\n      <td id=\"T_647d7_row2_col0\" class=\"data row2 col0\" >Riverside County Transportation Commission</td>\n      <td id=\"T_647d7_row2_col1\" class=\"data row2 col1\" >1</td>\n      <td id=\"T_647d7_row2_col2\" class=\"data row2 col2\" >6.67%</td>\n    </tr>\n  </tbody>\n</table>\n",
          "text/plain": "<pandas.io.formats.style.Styler at 0x7f605d10b310>"
         },
         "metadata": {},
         "output_type": "display_data"
        },
        {
         "data": {
          "text/html": "\n<div id=\"altair-viz-a8d728ba70294e3ca39b433894b50a96\"></div>\n<script type=\"text/javascript\">\n  var VEGA_DEBUG = (typeof VEGA_DEBUG == \"undefined\") ? {} : VEGA_DEBUG;\n  (function(spec, embedOpt){\n    let outputDiv = document.currentScript.previousElementSibling;\n    if (outputDiv.id !== \"altair-viz-a8d728ba70294e3ca39b433894b50a96\") {\n      outputDiv = document.getElementById(\"altair-viz-a8d728ba70294e3ca39b433894b50a96\");\n    }\n    const paths = {\n      \"vega\": \"https://cdn.jsdelivr.net/npm//vega@5?noext\",\n      \"vega-lib\": \"https://cdn.jsdelivr.net/npm//vega-lib?noext\",\n      \"vega-lite\": \"https://cdn.jsdelivr.net/npm//vega-lite@4.17.0?noext\",\n      \"vega-embed\": \"https://cdn.jsdelivr.net/npm//vega-embed@6?noext\",\n    };\n\n    function maybeLoadScript(lib, version) {\n      var key = `${lib.replace(\"-\", \"\")}_version`;\n      return (VEGA_DEBUG[key] == version) ?\n        Promise.resolve(paths[lib]) :\n        new Promise(function(resolve, reject) {\n          var s = document.createElement('script');\n          document.getElementsByTagName(\"head\")[0].appendChild(s);\n          s.async = true;\n          s.onload = () => {\n            VEGA_DEBUG[key] = version;\n            return resolve(paths[lib]);\n          };\n          s.onerror = () => reject(`Error loading script: ${paths[lib]}`);\n          s.src = paths[lib];\n        });\n    }\n\n    function showError(err) {\n      outputDiv.innerHTML = `<div class=\"error\" style=\"color:red;\">${err}</div>`;\n      throw err;\n    }\n\n    function displayChart(vegaEmbed) {\n      vegaEmbed(outputDiv, spec, embedOpt)\n        .catch(err => showError(`Javascript Error: ${err.message}<br>This usually means there's a typo in your chart specification. See the javascript console for the full traceback.`));\n    }\n\n    if(typeof define === \"function\" && define.amd) {\n      requirejs.config({paths});\n      require([\"vega-embed\"], displayChart, err => showError(`Error loading script: ${err.message}`));\n    } else {\n      maybeLoadScript(\"vega\", \"5\")\n        .then(() => maybeLoadScript(\"vega-lite\", \"4.17.0\"))\n        .then(() => maybeLoadScript(\"vega-embed\", \"6\"))\n        .catch(showError)\n        .then(() => displayChart(vegaEmbed));\n    }\n  })({\"config\": {\"view\": {\"continuousWidth\": 400, \"continuousHeight\": 300}}, \"data\": {\"name\": \"data-c8cdb002258c29556dde1f4b617e2ebb\"}, \"mark\": \"bar\", \"encoding\": {\"color\": {\"field\": \"Categories\", \"scale\": {\"range\": [\"#2EA8CE\", \"#EB9F3C\", \"#F4D837\", \"#51BF9D\", \"#8CBCCB\", \"#9487C0\"]}, \"type\": \"nominal\"}, \"row\": {\"field\": \"Categories\", \"type\": \"nominal\"}, \"tooltip\": [{\"field\": \"Agency\", \"type\": \"nominal\"}, {\"field\": \"Funding Amount\", \"type\": \"quantitative\"}], \"x\": {\"axis\": {\"format\": \"$.2s\", \"title\": \"Obligated Funding ($2021)\"}, \"field\": \"Funding Amount\", \"type\": \"quantitative\"}, \"y\": {\"field\": \"Agency\", \"type\": \"nominal\"}}, \"$schema\": \"https://vega.github.io/schema/vega-lite/v4.17.0.json\", \"datasets\": {\"data-c8cdb002258c29556dde1f4b617e2ebb\": [{\"Agency\": \"San Bernardino Associated Governments\", \"Categories\": \"Total Requested\", \"Funding Amount\": 504654.6782345673}, {\"Agency\": \"San Bernardino County Transportation Authority\", \"Categories\": \"Total Requested\", \"Funding Amount\": 1099699.3521928808}, {\"Agency\": \"Riverside County Transportation Commission\", \"Categories\": \"Total Requested\", \"Funding Amount\": 2762861.384502613}, {\"Agency\": \"San Bernardino Associated Governments\", \"Categories\": \"Fed Requested\", \"Funding Amount\": 495824.3661986454}, {\"Agency\": \"San Bernardino County Transportation Authority\", \"Categories\": \"Fed Requested\", \"Funding Amount\": 1081647.217389469}, {\"Agency\": \"Riverside County Transportation Commission\", \"Categories\": \"Fed Requested\", \"Funding Amount\": -49915.02529772034}, {\"Agency\": \"San Bernardino Associated Governments\", \"Categories\": \"AC Requested\", \"Funding Amount\": 0.0}, {\"Agency\": \"San Bernardino County Transportation Authority\", \"Categories\": \"AC Requested\", \"Funding Amount\": 0.0}, {\"Agency\": \"Riverside County Transportation Commission\", \"Categories\": \"AC Requested\", \"Funding Amount\": 0.0}]}}, {\"mode\": \"vega-lite\"});\n</script>",
          "text/plain": "alt.Chart(...)"
         },
         "metadata": {},
         "output_type": "display_data"
        }
       ]
      }
     },
     "3aae35f85f5343039faeb23e7b64c6bb": {
      "model_module": "@jupyter-widgets/output",
      "model_module_version": "1.0.0",
      "model_name": "OutputModel",
      "state": {
       "layout": "IPY_MODEL_83f64a9f198f4c13868511e2336abf33",
       "outputs": [
        {
         "data": {
          "application/vnd.jupyter.widget-view+json": {
           "model_id": "",
           "version_major": 2,
           "version_minor": 0
          },
          "text/plain": "HTML(value='<strong>Top Agencies using Street Projects</strong>')"
         },
         "metadata": {},
         "output_type": "display_data"
        },
        {
         "data": {
          "text/html": "<style type=\"text/css\">\n</style>\n<table id=\"T_48f90\">\n  <thead>\n    <tr>\n      <th class=\"blank level0\" >&nbsp;</th>\n      <th id=\"T_48f90_level0_col0\" class=\"col_heading level0 col0\" >Agency</th>\n      <th id=\"T_48f90_level0_col1\" class=\"col_heading level0 col1\" >Street Obligations</th>\n      <th id=\"T_48f90_level0_col2\" class=\"col_heading level0 col2\" >Percent of Category</th>\n    </tr>\n  </thead>\n  <tbody>\n    <tr>\n      <th id=\"T_48f90_level0_row0\" class=\"row_heading level0 row0\" >0</th>\n      <td id=\"T_48f90_row0_col0\" class=\"data row0 col0\" >Los Angeles</td>\n      <td id=\"T_48f90_row0_col1\" class=\"data row0 col1\" >214</td>\n      <td id=\"T_48f90_row0_col2\" class=\"data row0 col2\" >14.82%</td>\n    </tr>\n    <tr>\n      <th id=\"T_48f90_level0_row1\" class=\"row_heading level0 row1\" >1</th>\n      <td id=\"T_48f90_row1_col0\" class=\"data row1 col0\" >Los Angeles County</td>\n      <td id=\"T_48f90_row1_col1\" class=\"data row1 col1\" >188</td>\n      <td id=\"T_48f90_row1_col2\" class=\"data row1 col2\" >13.02%</td>\n    </tr>\n    <tr>\n      <th id=\"T_48f90_level0_row2\" class=\"row_heading level0 row2\" >2</th>\n      <td id=\"T_48f90_row2_col0\" class=\"data row2 col0\" >Ventura County</td>\n      <td id=\"T_48f90_row2_col1\" class=\"data row2 col1\" >65</td>\n      <td id=\"T_48f90_row2_col2\" class=\"data row2 col2\" >4.50%</td>\n    </tr>\n    <tr>\n      <th id=\"T_48f90_level0_row3\" class=\"row_heading level0 row3\" >3</th>\n      <td id=\"T_48f90_row3_col0\" class=\"data row3 col0\" >Downey</td>\n      <td id=\"T_48f90_row3_col1\" class=\"data row3 col1\" >55</td>\n      <td id=\"T_48f90_row3_col2\" class=\"data row3 col2\" >3.81%</td>\n    </tr>\n    <tr>\n      <th id=\"T_48f90_level0_row4\" class=\"row_heading level0 row4\" >4</th>\n      <td id=\"T_48f90_row4_col0\" class=\"data row4 col0\" >Lancaster</td>\n      <td id=\"T_48f90_row4_col1\" class=\"data row4 col1\" >54</td>\n      <td id=\"T_48f90_row4_col2\" class=\"data row4 col2\" >3.74%</td>\n    </tr>\n  </tbody>\n</table>\n",
          "text/plain": "<pandas.io.formats.style.Styler at 0x7f605df040d0>"
         },
         "metadata": {},
         "output_type": "display_data"
        },
        {
         "data": {
          "text/html": "\n<div id=\"altair-viz-09efb12f7e5b429c9e1cc980b46f989f\"></div>\n<script type=\"text/javascript\">\n  var VEGA_DEBUG = (typeof VEGA_DEBUG == \"undefined\") ? {} : VEGA_DEBUG;\n  (function(spec, embedOpt){\n    let outputDiv = document.currentScript.previousElementSibling;\n    if (outputDiv.id !== \"altair-viz-09efb12f7e5b429c9e1cc980b46f989f\") {\n      outputDiv = document.getElementById(\"altair-viz-09efb12f7e5b429c9e1cc980b46f989f\");\n    }\n    const paths = {\n      \"vega\": \"https://cdn.jsdelivr.net/npm//vega@5?noext\",\n      \"vega-lib\": \"https://cdn.jsdelivr.net/npm//vega-lib?noext\",\n      \"vega-lite\": \"https://cdn.jsdelivr.net/npm//vega-lite@4.17.0?noext\",\n      \"vega-embed\": \"https://cdn.jsdelivr.net/npm//vega-embed@6?noext\",\n    };\n\n    function maybeLoadScript(lib, version) {\n      var key = `${lib.replace(\"-\", \"\")}_version`;\n      return (VEGA_DEBUG[key] == version) ?\n        Promise.resolve(paths[lib]) :\n        new Promise(function(resolve, reject) {\n          var s = document.createElement('script');\n          document.getElementsByTagName(\"head\")[0].appendChild(s);\n          s.async = true;\n          s.onload = () => {\n            VEGA_DEBUG[key] = version;\n            return resolve(paths[lib]);\n          };\n          s.onerror = () => reject(`Error loading script: ${paths[lib]}`);\n          s.src = paths[lib];\n        });\n    }\n\n    function showError(err) {\n      outputDiv.innerHTML = `<div class=\"error\" style=\"color:red;\">${err}</div>`;\n      throw err;\n    }\n\n    function displayChart(vegaEmbed) {\n      vegaEmbed(outputDiv, spec, embedOpt)\n        .catch(err => showError(`Javascript Error: ${err.message}<br>This usually means there's a typo in your chart specification. See the javascript console for the full traceback.`));\n    }\n\n    if(typeof define === \"function\" && define.amd) {\n      requirejs.config({paths});\n      require([\"vega-embed\"], displayChart, err => showError(`Error loading script: ${err.message}`));\n    } else {\n      maybeLoadScript(\"vega\", \"5\")\n        .then(() => maybeLoadScript(\"vega-lite\", \"4.17.0\"))\n        .then(() => maybeLoadScript(\"vega-embed\", \"6\"))\n        .catch(showError)\n        .then(() => displayChart(vegaEmbed));\n    }\n  })({\"config\": {\"view\": {\"continuousWidth\": 400, \"continuousHeight\": 300}}, \"data\": {\"name\": \"data-ff0edbe89febbf9640ea1a2198ed178e\"}, \"mark\": \"bar\", \"encoding\": {\"color\": {\"field\": \"Categories\", \"scale\": {\"range\": [\"#2EA8CE\", \"#EB9F3C\", \"#F4D837\", \"#51BF9D\", \"#8CBCCB\", \"#9487C0\"]}, \"type\": \"nominal\"}, \"row\": {\"field\": \"Categories\", \"type\": \"nominal\"}, \"tooltip\": [{\"field\": \"Agency\", \"type\": \"nominal\"}, {\"field\": \"Funding Amount\", \"type\": \"quantitative\"}], \"x\": {\"axis\": {\"format\": \"$.2s\", \"title\": \"Obligated Funding ($2021)\"}, \"field\": \"Funding Amount\", \"type\": \"quantitative\"}, \"y\": {\"field\": \"Agency\", \"type\": \"nominal\"}}, \"$schema\": \"https://vega.github.io/schema/vega-lite/v4.17.0.json\", \"datasets\": {\"data-ff0edbe89febbf9640ea1a2198ed178e\": [{\"Agency\": \"Los Angeles\", \"Categories\": \"Total Requested\", \"Funding Amount\": 818150.0513615018}, {\"Agency\": \"Los Angeles County\", \"Categories\": \"Total Requested\", \"Funding Amount\": 383624.7626645465}, {\"Agency\": \"Ventura County\", \"Categories\": \"Total Requested\", \"Funding Amount\": 269675.7524887545}, {\"Agency\": \"Downey\", \"Categories\": \"Total Requested\", \"Funding Amount\": 531690.2353442151}, {\"Agency\": \"Lancaster\", \"Categories\": \"Total Requested\", \"Funding Amount\": 666801.2361648552}, {\"Agency\": \"Los Angeles\", \"Categories\": \"Fed Requested\", \"Funding Amount\": 742825.9307634895}, {\"Agency\": \"Los Angeles County\", \"Categories\": \"Fed Requested\", \"Funding Amount\": 281248.1700892737}, {\"Agency\": \"Ventura County\", \"Categories\": \"Fed Requested\", \"Funding Amount\": 233914.59874558344}, {\"Agency\": \"Downey\", \"Categories\": \"Fed Requested\", \"Funding Amount\": 284102.8163892079}, {\"Agency\": \"Lancaster\", \"Categories\": \"Fed Requested\", \"Funding Amount\": 498863.7746475762}, {\"Agency\": \"Los Angeles\", \"Categories\": \"AC Requested\", \"Funding Amount\": -5017.018342454247}, {\"Agency\": \"Los Angeles County\", \"Categories\": \"AC Requested\", \"Funding Amount\": 8998.580264273907}, {\"Agency\": \"Ventura County\", \"Categories\": \"AC Requested\", \"Funding Amount\": 0.0}, {\"Agency\": \"Downey\", \"Categories\": \"AC Requested\", \"Funding Amount\": 0.0}, {\"Agency\": \"Lancaster\", \"Categories\": \"AC Requested\", \"Funding Amount\": 0.0}]}}, {\"mode\": \"vega-lite\"});\n</script>",
          "text/plain": "alt.Chart(...)"
         },
         "metadata": {},
         "output_type": "display_data"
        }
       ]
      }
     },
     "3b52202673fb435ba34b6c1b215736f9": {
      "model_module": "@jupyter-widgets/output",
      "model_module_version": "1.0.0",
      "model_name": "OutputModel",
      "state": {
       "layout": "IPY_MODEL_cbdbeb071e7f4fe1b79bde70197873a5",
       "outputs": [
        {
         "data": {
          "application/vnd.jupyter.widget-view+json": {
           "model_id": "166b287c2d4f4509b858fd33e4694b9a",
           "version_major": 2,
           "version_minor": 0
          },
          "text/plain": "HTML(value='<strong>Top Agencies using Active Transportation Projects</strong>')"
         },
         "metadata": {},
         "output_type": "display_data"
        },
        {
         "data": {
          "text/html": "<style type=\"text/css\">\n</style>\n<table id=\"T_ad33f\">\n  <thead>\n    <tr>\n      <th class=\"blank level0\" >&nbsp;</th>\n      <th id=\"T_ad33f_level0_col0\" class=\"col_heading level0 col0\" >Agency</th>\n      <th id=\"T_ad33f_level0_col1\" class=\"col_heading level0 col1\" >Active Transportation Obligations</th>\n      <th id=\"T_ad33f_level0_col2\" class=\"col_heading level0 col2\" >Percent of Category</th>\n    </tr>\n  </thead>\n  <tbody>\n    <tr>\n      <th id=\"T_ad33f_level0_row0\" class=\"row_heading level0 row0\" >0</th>\n      <td id=\"T_ad33f_row0_col0\" class=\"data row0 col0\" >San Jose</td>\n      <td id=\"T_ad33f_row0_col1\" class=\"data row0 col1\" >79</td>\n      <td id=\"T_ad33f_row0_col2\" class=\"data row0 col2\" >7.38%</td>\n    </tr>\n    <tr>\n      <th id=\"T_ad33f_level0_row1\" class=\"row_heading level0 row1\" >1</th>\n      <td id=\"T_ad33f_row1_col0\" class=\"data row1 col0\" >Oakland</td>\n      <td id=\"T_ad33f_row1_col1\" class=\"data row1 col1\" >65</td>\n      <td id=\"T_ad33f_row1_col2\" class=\"data row1 col2\" >6.07%</td>\n    </tr>\n    <tr>\n      <th id=\"T_ad33f_level0_row2\" class=\"row_heading level0 row2\" >2</th>\n      <td id=\"T_ad33f_row2_col0\" class=\"data row2 col0\" >City & County of San Francisco, MTA/Parking & Traffic</td>\n      <td id=\"T_ad33f_row2_col1\" class=\"data row2 col1\" >46</td>\n      <td id=\"T_ad33f_row2_col2\" class=\"data row2 col2\" >4.30%</td>\n    </tr>\n    <tr>\n      <th id=\"T_ad33f_level0_row3\" class=\"row_heading level0 row3\" >3</th>\n      <td id=\"T_ad33f_row3_col0\" class=\"data row3 col0\" >Sunnyvale</td>\n      <td id=\"T_ad33f_row3_col1\" class=\"data row3 col1\" >45</td>\n      <td id=\"T_ad33f_row3_col2\" class=\"data row3 col2\" >4.21%</td>\n    </tr>\n    <tr>\n      <th id=\"T_ad33f_level0_row4\" class=\"row_heading level0 row4\" >4</th>\n      <td id=\"T_ad33f_row4_col0\" class=\"data row4 col0\" >Contra Costa County</td>\n      <td id=\"T_ad33f_row4_col1\" class=\"data row4 col1\" >39</td>\n      <td id=\"T_ad33f_row4_col2\" class=\"data row4 col2\" >3.64%</td>\n    </tr>\n  </tbody>\n</table>\n",
          "text/plain": "<pandas.io.formats.style.Styler at 0x7f605cee9f70>"
         },
         "metadata": {},
         "output_type": "display_data"
        },
        {
         "data": {
          "text/html": "\n<div id=\"altair-viz-66f83cb91ed740fa94419abb97fff017\"></div>\n<script type=\"text/javascript\">\n  var VEGA_DEBUG = (typeof VEGA_DEBUG == \"undefined\") ? {} : VEGA_DEBUG;\n  (function(spec, embedOpt){\n    let outputDiv = document.currentScript.previousElementSibling;\n    if (outputDiv.id !== \"altair-viz-66f83cb91ed740fa94419abb97fff017\") {\n      outputDiv = document.getElementById(\"altair-viz-66f83cb91ed740fa94419abb97fff017\");\n    }\n    const paths = {\n      \"vega\": \"https://cdn.jsdelivr.net/npm//vega@5?noext\",\n      \"vega-lib\": \"https://cdn.jsdelivr.net/npm//vega-lib?noext\",\n      \"vega-lite\": \"https://cdn.jsdelivr.net/npm//vega-lite@4.17.0?noext\",\n      \"vega-embed\": \"https://cdn.jsdelivr.net/npm//vega-embed@6?noext\",\n    };\n\n    function maybeLoadScript(lib, version) {\n      var key = `${lib.replace(\"-\", \"\")}_version`;\n      return (VEGA_DEBUG[key] == version) ?\n        Promise.resolve(paths[lib]) :\n        new Promise(function(resolve, reject) {\n          var s = document.createElement('script');\n          document.getElementsByTagName(\"head\")[0].appendChild(s);\n          s.async = true;\n          s.onload = () => {\n            VEGA_DEBUG[key] = version;\n            return resolve(paths[lib]);\n          };\n          s.onerror = () => reject(`Error loading script: ${paths[lib]}`);\n          s.src = paths[lib];\n        });\n    }\n\n    function showError(err) {\n      outputDiv.innerHTML = `<div class=\"error\" style=\"color:red;\">${err}</div>`;\n      throw err;\n    }\n\n    function displayChart(vegaEmbed) {\n      vegaEmbed(outputDiv, spec, embedOpt)\n        .catch(err => showError(`Javascript Error: ${err.message}<br>This usually means there's a typo in your chart specification. See the javascript console for the full traceback.`));\n    }\n\n    if(typeof define === \"function\" && define.amd) {\n      requirejs.config({paths});\n      require([\"vega-embed\"], displayChart, err => showError(`Error loading script: ${err.message}`));\n    } else {\n      maybeLoadScript(\"vega\", \"5\")\n        .then(() => maybeLoadScript(\"vega-lite\", \"4.17.0\"))\n        .then(() => maybeLoadScript(\"vega-embed\", \"6\"))\n        .catch(showError)\n        .then(() => displayChart(vegaEmbed));\n    }\n  })({\"config\": {\"view\": {\"continuousWidth\": 400, \"continuousHeight\": 300}}, \"data\": {\"name\": \"data-f2b192092ab40256b133e03678fdbbef\"}, \"mark\": \"bar\", \"encoding\": {\"color\": {\"field\": \"Categories\", \"scale\": {\"range\": [\"#2EA8CE\", \"#EB9F3C\", \"#F4D837\", \"#51BF9D\", \"#8CBCCB\", \"#9487C0\"]}, \"type\": \"nominal\"}, \"row\": {\"field\": \"Categories\", \"type\": \"nominal\"}, \"tooltip\": [{\"field\": \"Agency\", \"type\": \"nominal\"}, {\"field\": \"Funding Amount\", \"type\": \"quantitative\"}], \"x\": {\"axis\": {\"format\": \"$.2s\", \"title\": \"Obligated Funding ($2021)\"}, \"field\": \"Funding Amount\", \"type\": \"quantitative\"}, \"y\": {\"field\": \"Agency\", \"type\": \"nominal\"}}, \"$schema\": \"https://vega.github.io/schema/vega-lite/v4.17.0.json\", \"datasets\": {\"data-f2b192092ab40256b133e03678fdbbef\": [{\"Agency\": \"San Jose\", \"Categories\": \"Total Requested\", \"Funding Amount\": 814137.7836283975}, {\"Agency\": \"Oakland\", \"Categories\": \"Total Requested\", \"Funding Amount\": 1190695.923476186}, {\"Agency\": \"City & County of San Francisco, MTA/Parking & Traffic\", \"Categories\": \"Total Requested\", \"Funding Amount\": 399422.13886393333}, {\"Agency\": \"Sunnyvale\", \"Categories\": \"Total Requested\", \"Funding Amount\": 318241.7714299652}, {\"Agency\": \"Contra Costa County\", \"Categories\": \"Total Requested\", \"Funding Amount\": 898253.4359490186}, {\"Agency\": \"San Jose\", \"Categories\": \"Fed Requested\", \"Funding Amount\": 608959.3462479156}, {\"Agency\": \"Oakland\", \"Categories\": \"Fed Requested\", \"Funding Amount\": 768046.0772685818}, {\"Agency\": \"City & County of San Francisco, MTA/Parking & Traffic\", \"Categories\": \"Fed Requested\", \"Funding Amount\": 275973.90511533467}, {\"Agency\": \"Sunnyvale\", \"Categories\": \"Fed Requested\", \"Funding Amount\": 253929.59677578227}, {\"Agency\": \"Contra Costa County\", \"Categories\": \"Fed Requested\", \"Funding Amount\": 421336.3001180079}, {\"Agency\": \"San Jose\", \"Categories\": \"AC Requested\", \"Funding Amount\": 1556.8402544351802}, {\"Agency\": \"Oakland\", \"Categories\": \"AC Requested\", \"Funding Amount\": 0.0}, {\"Agency\": \"City & County of San Francisco, MTA/Parking & Traffic\", \"Categories\": \"AC Requested\", \"Funding Amount\": 0.0}, {\"Agency\": \"Sunnyvale\", \"Categories\": \"AC Requested\", \"Funding Amount\": 0.0}, {\"Agency\": \"Contra Costa County\", \"Categories\": \"AC Requested\", \"Funding Amount\": 0.0}]}}, {\"mode\": \"vega-lite\"});\n</script>",
          "text/plain": "alt.Chart(...)"
         },
         "metadata": {},
         "output_type": "display_data"
        }
       ]
      }
     },
     "3b595776382b4ff9bf0f60c176039cfe": {
      "model_module": "@jupyter-widgets/output",
      "model_module_version": "1.0.0",
      "model_name": "OutputModel",
      "state": {
       "layout": "IPY_MODEL_f302f178c78445e8b36aaf8cc9339bef",
       "outputs": [
        {
         "data": {
          "application/vnd.jupyter.widget-view+json": {
           "model_id": "",
           "version_major": 2,
           "version_minor": 0
          },
          "text/plain": "HTML(value='<strong>Top Agencies using Bridge Projects</strong>')"
         },
         "metadata": {},
         "output_type": "display_data"
        },
        {
         "data": {
          "text/html": "<style type=\"text/css\">\n</style>\n<table id=\"T_3745a\">\n  <thead>\n    <tr>\n      <th class=\"blank level0\" >&nbsp;</th>\n      <th id=\"T_3745a_level0_col0\" class=\"col_heading level0 col0\" >Agency</th>\n      <th id=\"T_3745a_level0_col1\" class=\"col_heading level0 col1\" >Bridge Obligations</th>\n      <th id=\"T_3745a_level0_col2\" class=\"col_heading level0 col2\" >Percent of Category</th>\n    </tr>\n  </thead>\n  <tbody>\n    <tr>\n      <th id=\"T_3745a_level0_row0\" class=\"row_heading level0 row0\" >0</th>\n      <td id=\"T_3745a_row0_col0\" class=\"data row0 col0\" >Santa Clara County</td>\n      <td id=\"T_3745a_row0_col1\" class=\"data row0 col1\" >68</td>\n      <td id=\"T_3745a_row0_col2\" class=\"data row0 col2\" >14.17%</td>\n    </tr>\n    <tr>\n      <th id=\"T_3745a_level0_row1\" class=\"row_heading level0 row1\" >1</th>\n      <td id=\"T_3745a_row1_col0\" class=\"data row1 col0\" >Contra Costa County</td>\n      <td id=\"T_3745a_row1_col1\" class=\"data row1 col1\" >44</td>\n      <td id=\"T_3745a_row1_col2\" class=\"data row1 col2\" >9.17%</td>\n    </tr>\n    <tr>\n      <th id=\"T_3745a_level0_row2\" class=\"row_heading level0 row2\" >2</th>\n      <td id=\"T_3745a_row2_col0\" class=\"data row2 col0\" >Sonoma County</td>\n      <td id=\"T_3745a_row2_col1\" class=\"data row2 col1\" >34</td>\n      <td id=\"T_3745a_row2_col2\" class=\"data row2 col2\" >7.08%</td>\n    </tr>\n    <tr>\n      <th id=\"T_3745a_level0_row3\" class=\"row_heading level0 row3\" >3</th>\n      <td id=\"T_3745a_row3_col0\" class=\"data row3 col0\" >Napa County</td>\n      <td id=\"T_3745a_row3_col1\" class=\"data row3 col1\" >25</td>\n      <td id=\"T_3745a_row3_col2\" class=\"data row3 col2\" >5.21%</td>\n    </tr>\n    <tr>\n      <th id=\"T_3745a_level0_row4\" class=\"row_heading level0 row4\" >4</th>\n      <td id=\"T_3745a_row4_col0\" class=\"data row4 col0\" >Oakland</td>\n      <td id=\"T_3745a_row4_col1\" class=\"data row4 col1\" >22</td>\n      <td id=\"T_3745a_row4_col2\" class=\"data row4 col2\" >4.58%</td>\n    </tr>\n  </tbody>\n</table>\n",
          "text/plain": "<pandas.io.formats.style.Styler at 0x7f605dff9e20>"
         },
         "metadata": {},
         "output_type": "display_data"
        },
        {
         "data": {
          "text/html": "\n<div id=\"altair-viz-6c4402e60c9947ac9ce34b76a65d1aef\"></div>\n<script type=\"text/javascript\">\n  var VEGA_DEBUG = (typeof VEGA_DEBUG == \"undefined\") ? {} : VEGA_DEBUG;\n  (function(spec, embedOpt){\n    let outputDiv = document.currentScript.previousElementSibling;\n    if (outputDiv.id !== \"altair-viz-6c4402e60c9947ac9ce34b76a65d1aef\") {\n      outputDiv = document.getElementById(\"altair-viz-6c4402e60c9947ac9ce34b76a65d1aef\");\n    }\n    const paths = {\n      \"vega\": \"https://cdn.jsdelivr.net/npm//vega@5?noext\",\n      \"vega-lib\": \"https://cdn.jsdelivr.net/npm//vega-lib?noext\",\n      \"vega-lite\": \"https://cdn.jsdelivr.net/npm//vega-lite@4.17.0?noext\",\n      \"vega-embed\": \"https://cdn.jsdelivr.net/npm//vega-embed@6?noext\",\n    };\n\n    function maybeLoadScript(lib, version) {\n      var key = `${lib.replace(\"-\", \"\")}_version`;\n      return (VEGA_DEBUG[key] == version) ?\n        Promise.resolve(paths[lib]) :\n        new Promise(function(resolve, reject) {\n          var s = document.createElement('script');\n          document.getElementsByTagName(\"head\")[0].appendChild(s);\n          s.async = true;\n          s.onload = () => {\n            VEGA_DEBUG[key] = version;\n            return resolve(paths[lib]);\n          };\n          s.onerror = () => reject(`Error loading script: ${paths[lib]}`);\n          s.src = paths[lib];\n        });\n    }\n\n    function showError(err) {\n      outputDiv.innerHTML = `<div class=\"error\" style=\"color:red;\">${err}</div>`;\n      throw err;\n    }\n\n    function displayChart(vegaEmbed) {\n      vegaEmbed(outputDiv, spec, embedOpt)\n        .catch(err => showError(`Javascript Error: ${err.message}<br>This usually means there's a typo in your chart specification. See the javascript console for the full traceback.`));\n    }\n\n    if(typeof define === \"function\" && define.amd) {\n      requirejs.config({paths});\n      require([\"vega-embed\"], displayChart, err => showError(`Error loading script: ${err.message}`));\n    } else {\n      maybeLoadScript(\"vega\", \"5\")\n        .then(() => maybeLoadScript(\"vega-lite\", \"4.17.0\"))\n        .then(() => maybeLoadScript(\"vega-embed\", \"6\"))\n        .catch(showError)\n        .then(() => displayChart(vegaEmbed));\n    }\n  })({\"config\": {\"view\": {\"continuousWidth\": 400, \"continuousHeight\": 300}}, \"data\": {\"name\": \"data-4ca6a40ed7566d9b16a25b6db2a09b51\"}, \"mark\": \"bar\", \"encoding\": {\"color\": {\"field\": \"Categories\", \"scale\": {\"range\": [\"#2EA8CE\", \"#EB9F3C\", \"#F4D837\", \"#51BF9D\", \"#8CBCCB\", \"#9487C0\"]}, \"type\": \"nominal\"}, \"row\": {\"field\": \"Categories\", \"type\": \"nominal\"}, \"tooltip\": [{\"field\": \"Agency\", \"type\": \"nominal\"}, {\"field\": \"Funding Amount\", \"type\": \"quantitative\"}], \"x\": {\"axis\": {\"format\": \"$.2s\", \"title\": \"Obligated Funding ($2021)\"}, \"field\": \"Funding Amount\", \"type\": \"quantitative\"}, \"y\": {\"field\": \"Agency\", \"type\": \"nominal\"}}, \"$schema\": \"https://vega.github.io/schema/vega-lite/v4.17.0.json\", \"datasets\": {\"data-4ca6a40ed7566d9b16a25b6db2a09b51\": [{\"Agency\": \"Santa Clara County\", \"Categories\": \"Total Requested\", \"Funding Amount\": 625948.8921137636}, {\"Agency\": \"Contra Costa County\", \"Categories\": \"Total Requested\", \"Funding Amount\": 1317256.4330172406}, {\"Agency\": \"Sonoma County\", \"Categories\": \"Total Requested\", \"Funding Amount\": 797679.174331438}, {\"Agency\": \"Napa County\", \"Categories\": \"Total Requested\", \"Funding Amount\": 403289.3793109502}, {\"Agency\": \"Oakland\", \"Categories\": \"Total Requested\", \"Funding Amount\": 1567186.3367742712}, {\"Agency\": \"Santa Clara County\", \"Categories\": \"Fed Requested\", \"Funding Amount\": 551357.6932043855}, {\"Agency\": \"Contra Costa County\", \"Categories\": \"Fed Requested\", \"Funding Amount\": 1044135.8320610252}, {\"Agency\": \"Sonoma County\", \"Categories\": \"Fed Requested\", \"Funding Amount\": 587684.7404175334}, {\"Agency\": \"Napa County\", \"Categories\": \"Fed Requested\", \"Funding Amount\": 409960.4929304969}, {\"Agency\": \"Oakland\", \"Categories\": \"Fed Requested\", \"Funding Amount\": 1259324.924989911}, {\"Agency\": \"Santa Clara County\", \"Categories\": \"AC Requested\", \"Funding Amount\": 4993.875645153608}, {\"Agency\": \"Contra Costa County\", \"Categories\": \"AC Requested\", \"Funding Amount\": 106533.47492573563}, {\"Agency\": \"Sonoma County\", \"Categories\": \"AC Requested\", \"Funding Amount\": 122257.02211158613}, {\"Agency\": \"Napa County\", \"Categories\": \"AC Requested\", \"Funding Amount\": 222.60068153467608}, {\"Agency\": \"Oakland\", \"Categories\": \"AC Requested\", \"Funding Amount\": 0.0}]}}, {\"mode\": \"vega-lite\"});\n</script>",
          "text/plain": "alt.Chart(...)"
         },
         "metadata": {},
         "output_type": "display_data"
        }
       ]
      }
     },
     "3b68d57d0a554d1b83c2d4dab3ac990c": {
      "model_module": "@jupyter-widgets/base",
      "model_module_version": "1.2.0",
      "model_name": "LayoutModel",
      "state": {}
     },
     "3c371a4a1afa4fb29a31e639488dea90": {
      "model_module": "@jupyter-widgets/base",
      "model_module_version": "1.2.0",
      "model_name": "LayoutModel",
      "state": {}
     },
     "3c3fdcf5c81842f3a5317a5598530dbb": {
      "model_module": "@jupyter-widgets/base",
      "model_module_version": "1.2.0",
      "model_name": "LayoutModel",
      "state": {}
     },
     "3c832ec3b13146d9b34886e98fc46f78": {
      "model_module": "@jupyter-widgets/output",
      "model_module_version": "1.0.0",
      "model_name": "OutputModel",
      "state": {
       "layout": "IPY_MODEL_1bb0432fd2634225bce0402db2c1a805",
       "outputs": [
        {
         "data": {
          "application/vnd.jupyter.widget-view+json": {
           "model_id": "",
           "version_major": 2,
           "version_minor": 0
          },
          "text/plain": "HTML(value='<strong>Top Agencies using Active Transportation Projects</strong>')"
         },
         "metadata": {},
         "output_type": "display_data"
        },
        {
         "data": {
          "text/html": "<style type=\"text/css\">\n</style>\n<table id=\"T_3a49f\">\n  <thead>\n    <tr>\n      <th class=\"blank level0\" >&nbsp;</th>\n      <th id=\"T_3a49f_level0_col0\" class=\"col_heading level0 col0\" >Agency</th>\n      <th id=\"T_3a49f_level0_col1\" class=\"col_heading level0 col1\" >Active Transportation Obligations</th>\n      <th id=\"T_3a49f_level0_col2\" class=\"col_heading level0 col2\" >Percent of Category</th>\n    </tr>\n  </thead>\n  <tbody>\n    <tr>\n      <th id=\"T_3a49f_level0_row0\" class=\"row_heading level0 row0\" >0</th>\n      <td id=\"T_3a49f_row0_col0\" class=\"data row0 col0\" >San Jose</td>\n      <td id=\"T_3a49f_row0_col1\" class=\"data row0 col1\" >79</td>\n      <td id=\"T_3a49f_row0_col2\" class=\"data row0 col2\" >7.38%</td>\n    </tr>\n    <tr>\n      <th id=\"T_3a49f_level0_row1\" class=\"row_heading level0 row1\" >1</th>\n      <td id=\"T_3a49f_row1_col0\" class=\"data row1 col0\" >Oakland</td>\n      <td id=\"T_3a49f_row1_col1\" class=\"data row1 col1\" >65</td>\n      <td id=\"T_3a49f_row1_col2\" class=\"data row1 col2\" >6.07%</td>\n    </tr>\n    <tr>\n      <th id=\"T_3a49f_level0_row2\" class=\"row_heading level0 row2\" >2</th>\n      <td id=\"T_3a49f_row2_col0\" class=\"data row2 col0\" >City & County of San Francisco, MTA/Parking & Traffic</td>\n      <td id=\"T_3a49f_row2_col1\" class=\"data row2 col1\" >46</td>\n      <td id=\"T_3a49f_row2_col2\" class=\"data row2 col2\" >4.30%</td>\n    </tr>\n    <tr>\n      <th id=\"T_3a49f_level0_row3\" class=\"row_heading level0 row3\" >3</th>\n      <td id=\"T_3a49f_row3_col0\" class=\"data row3 col0\" >Sunnyvale</td>\n      <td id=\"T_3a49f_row3_col1\" class=\"data row3 col1\" >45</td>\n      <td id=\"T_3a49f_row3_col2\" class=\"data row3 col2\" >4.21%</td>\n    </tr>\n    <tr>\n      <th id=\"T_3a49f_level0_row4\" class=\"row_heading level0 row4\" >4</th>\n      <td id=\"T_3a49f_row4_col0\" class=\"data row4 col0\" >Contra Costa County</td>\n      <td id=\"T_3a49f_row4_col1\" class=\"data row4 col1\" >39</td>\n      <td id=\"T_3a49f_row4_col2\" class=\"data row4 col2\" >3.64%</td>\n    </tr>\n  </tbody>\n</table>\n",
          "text/plain": "<pandas.io.formats.style.Styler at 0x7f605e928190>"
         },
         "metadata": {},
         "output_type": "display_data"
        },
        {
         "data": {
          "text/html": "\n<div id=\"altair-viz-a163e505391d409e8be3cef7bd7e389f\"></div>\n<script type=\"text/javascript\">\n  var VEGA_DEBUG = (typeof VEGA_DEBUG == \"undefined\") ? {} : VEGA_DEBUG;\n  (function(spec, embedOpt){\n    let outputDiv = document.currentScript.previousElementSibling;\n    if (outputDiv.id !== \"altair-viz-a163e505391d409e8be3cef7bd7e389f\") {\n      outputDiv = document.getElementById(\"altair-viz-a163e505391d409e8be3cef7bd7e389f\");\n    }\n    const paths = {\n      \"vega\": \"https://cdn.jsdelivr.net/npm//vega@5?noext\",\n      \"vega-lib\": \"https://cdn.jsdelivr.net/npm//vega-lib?noext\",\n      \"vega-lite\": \"https://cdn.jsdelivr.net/npm//vega-lite@4.17.0?noext\",\n      \"vega-embed\": \"https://cdn.jsdelivr.net/npm//vega-embed@6?noext\",\n    };\n\n    function maybeLoadScript(lib, version) {\n      var key = `${lib.replace(\"-\", \"\")}_version`;\n      return (VEGA_DEBUG[key] == version) ?\n        Promise.resolve(paths[lib]) :\n        new Promise(function(resolve, reject) {\n          var s = document.createElement('script');\n          document.getElementsByTagName(\"head\")[0].appendChild(s);\n          s.async = true;\n          s.onload = () => {\n            VEGA_DEBUG[key] = version;\n            return resolve(paths[lib]);\n          };\n          s.onerror = () => reject(`Error loading script: ${paths[lib]}`);\n          s.src = paths[lib];\n        });\n    }\n\n    function showError(err) {\n      outputDiv.innerHTML = `<div class=\"error\" style=\"color:red;\">${err}</div>`;\n      throw err;\n    }\n\n    function displayChart(vegaEmbed) {\n      vegaEmbed(outputDiv, spec, embedOpt)\n        .catch(err => showError(`Javascript Error: ${err.message}<br>This usually means there's a typo in your chart specification. See the javascript console for the full traceback.`));\n    }\n\n    if(typeof define === \"function\" && define.amd) {\n      requirejs.config({paths});\n      require([\"vega-embed\"], displayChart, err => showError(`Error loading script: ${err.message}`));\n    } else {\n      maybeLoadScript(\"vega\", \"5\")\n        .then(() => maybeLoadScript(\"vega-lite\", \"4.17.0\"))\n        .then(() => maybeLoadScript(\"vega-embed\", \"6\"))\n        .catch(showError)\n        .then(() => displayChart(vegaEmbed));\n    }\n  })({\"config\": {\"view\": {\"continuousWidth\": 400, \"continuousHeight\": 300}}, \"data\": {\"name\": \"data-f2b192092ab40256b133e03678fdbbef\"}, \"mark\": \"bar\", \"encoding\": {\"color\": {\"field\": \"Categories\", \"scale\": {\"range\": [\"#2EA8CE\", \"#EB9F3C\", \"#F4D837\", \"#51BF9D\", \"#8CBCCB\", \"#9487C0\"]}, \"type\": \"nominal\"}, \"row\": {\"field\": \"Categories\", \"type\": \"nominal\"}, \"tooltip\": [{\"field\": \"Agency\", \"type\": \"nominal\"}, {\"field\": \"Funding Amount\", \"type\": \"quantitative\"}], \"x\": {\"axis\": {\"format\": \"$.2s\", \"title\": \"Obligated Funding ($2021)\"}, \"field\": \"Funding Amount\", \"type\": \"quantitative\"}, \"y\": {\"field\": \"Agency\", \"type\": \"nominal\"}}, \"$schema\": \"https://vega.github.io/schema/vega-lite/v4.17.0.json\", \"datasets\": {\"data-f2b192092ab40256b133e03678fdbbef\": [{\"Agency\": \"San Jose\", \"Categories\": \"Total Requested\", \"Funding Amount\": 814137.7836283975}, {\"Agency\": \"Oakland\", \"Categories\": \"Total Requested\", \"Funding Amount\": 1190695.923476186}, {\"Agency\": \"City & County of San Francisco, MTA/Parking & Traffic\", \"Categories\": \"Total Requested\", \"Funding Amount\": 399422.13886393333}, {\"Agency\": \"Sunnyvale\", \"Categories\": \"Total Requested\", \"Funding Amount\": 318241.7714299652}, {\"Agency\": \"Contra Costa County\", \"Categories\": \"Total Requested\", \"Funding Amount\": 898253.4359490186}, {\"Agency\": \"San Jose\", \"Categories\": \"Fed Requested\", \"Funding Amount\": 608959.3462479156}, {\"Agency\": \"Oakland\", \"Categories\": \"Fed Requested\", \"Funding Amount\": 768046.0772685818}, {\"Agency\": \"City & County of San Francisco, MTA/Parking & Traffic\", \"Categories\": \"Fed Requested\", \"Funding Amount\": 275973.90511533467}, {\"Agency\": \"Sunnyvale\", \"Categories\": \"Fed Requested\", \"Funding Amount\": 253929.59677578227}, {\"Agency\": \"Contra Costa County\", \"Categories\": \"Fed Requested\", \"Funding Amount\": 421336.3001180079}, {\"Agency\": \"San Jose\", \"Categories\": \"AC Requested\", \"Funding Amount\": 1556.8402544351802}, {\"Agency\": \"Oakland\", \"Categories\": \"AC Requested\", \"Funding Amount\": 0.0}, {\"Agency\": \"City & County of San Francisco, MTA/Parking & Traffic\", \"Categories\": \"AC Requested\", \"Funding Amount\": 0.0}, {\"Agency\": \"Sunnyvale\", \"Categories\": \"AC Requested\", \"Funding Amount\": 0.0}, {\"Agency\": \"Contra Costa County\", \"Categories\": \"AC Requested\", \"Funding Amount\": 0.0}]}}, {\"mode\": \"vega-lite\"});\n</script>",
          "text/plain": "alt.Chart(...)"
         },
         "metadata": {},
         "output_type": "display_data"
        }
       ]
      }
     },
     "3ccda5afa54b4a7c83029b7430852df8": {
      "model_module": "@jupyter-widgets/output",
      "model_module_version": "1.0.0",
      "model_name": "OutputModel",
      "state": {
       "layout": "IPY_MODEL_c9e3de68cf154ff9803a9714d396b7e2",
       "outputs": [
        {
         "data": {
          "application/vnd.jupyter.widget-view+json": {
           "model_id": "f0954383978e40a79ea0d3977d88522b",
           "version_major": 2,
           "version_minor": 0
          },
          "text/plain": "HTML(value='<strong>Top Agencies using Transit Projects</strong>')"
         },
         "metadata": {},
         "output_type": "display_data"
        },
        {
         "data": {
          "text/html": "<style type=\"text/css\">\n</style>\n<table id=\"T_071e9\">\n  <thead>\n    <tr>\n      <th class=\"blank level0\" >&nbsp;</th>\n      <th id=\"T_071e9_level0_col0\" class=\"col_heading level0 col0\" >Agency</th>\n      <th id=\"T_071e9_level0_col1\" class=\"col_heading level0 col1\" >Transit Obligations</th>\n      <th id=\"T_071e9_level0_col2\" class=\"col_heading level0 col2\" >Percent of Category</th>\n    </tr>\n  </thead>\n  <tbody>\n    <tr>\n      <th id=\"T_071e9_level0_row0\" class=\"row_heading level0 row0\" >0</th>\n      <td id=\"T_071e9_row0_col0\" class=\"data row0 col0\" >Metropolitan Transportation Commission</td>\n      <td id=\"T_071e9_row0_col1\" class=\"data row0 col1\" >18</td>\n      <td id=\"T_071e9_row0_col2\" class=\"data row0 col2\" >28.57%</td>\n    </tr>\n    <tr>\n      <th id=\"T_071e9_level0_row1\" class=\"row_heading level0 row1\" >1</th>\n      <td id=\"T_071e9_row1_col0\" class=\"data row1 col0\" >Sunnyvale</td>\n      <td id=\"T_071e9_row1_col1\" class=\"data row1 col1\" >6</td>\n      <td id=\"T_071e9_row1_col2\" class=\"data row1 col2\" >9.52%</td>\n    </tr>\n    <tr>\n      <th id=\"T_071e9_level0_row2\" class=\"row_heading level0 row2\" >2</th>\n      <td id=\"T_071e9_row2_col0\" class=\"data row2 col0\" >Oakland</td>\n      <td id=\"T_071e9_row2_col1\" class=\"data row2 col1\" >4</td>\n      <td id=\"T_071e9_row2_col2\" class=\"data row2 col2\" >6.35%</td>\n    </tr>\n    <tr>\n      <th id=\"T_071e9_level0_row3\" class=\"row_heading level0 row3\" >3</th>\n      <td id=\"T_071e9_row3_col0\" class=\"data row3 col0\" >San Jose</td>\n      <td id=\"T_071e9_row3_col1\" class=\"data row3 col1\" >4</td>\n      <td id=\"T_071e9_row3_col2\" class=\"data row3 col2\" >6.35%</td>\n    </tr>\n    <tr>\n      <th id=\"T_071e9_level0_row4\" class=\"row_heading level0 row4\" >4</th>\n      <td id=\"T_071e9_row4_col0\" class=\"data row4 col0\" >San Leandro</td>\n      <td id=\"T_071e9_row4_col1\" class=\"data row4 col1\" >4</td>\n      <td id=\"T_071e9_row4_col2\" class=\"data row4 col2\" >6.35%</td>\n    </tr>\n  </tbody>\n</table>\n",
          "text/plain": "<pandas.io.formats.style.Styler at 0x7f605cee3820>"
         },
         "metadata": {},
         "output_type": "display_data"
        },
        {
         "data": {
          "text/html": "\n<div id=\"altair-viz-f8f017a63a9e4effa80a93271c6b3481\"></div>\n<script type=\"text/javascript\">\n  var VEGA_DEBUG = (typeof VEGA_DEBUG == \"undefined\") ? {} : VEGA_DEBUG;\n  (function(spec, embedOpt){\n    let outputDiv = document.currentScript.previousElementSibling;\n    if (outputDiv.id !== \"altair-viz-f8f017a63a9e4effa80a93271c6b3481\") {\n      outputDiv = document.getElementById(\"altair-viz-f8f017a63a9e4effa80a93271c6b3481\");\n    }\n    const paths = {\n      \"vega\": \"https://cdn.jsdelivr.net/npm//vega@5?noext\",\n      \"vega-lib\": \"https://cdn.jsdelivr.net/npm//vega-lib?noext\",\n      \"vega-lite\": \"https://cdn.jsdelivr.net/npm//vega-lite@4.17.0?noext\",\n      \"vega-embed\": \"https://cdn.jsdelivr.net/npm//vega-embed@6?noext\",\n    };\n\n    function maybeLoadScript(lib, version) {\n      var key = `${lib.replace(\"-\", \"\")}_version`;\n      return (VEGA_DEBUG[key] == version) ?\n        Promise.resolve(paths[lib]) :\n        new Promise(function(resolve, reject) {\n          var s = document.createElement('script');\n          document.getElementsByTagName(\"head\")[0].appendChild(s);\n          s.async = true;\n          s.onload = () => {\n            VEGA_DEBUG[key] = version;\n            return resolve(paths[lib]);\n          };\n          s.onerror = () => reject(`Error loading script: ${paths[lib]}`);\n          s.src = paths[lib];\n        });\n    }\n\n    function showError(err) {\n      outputDiv.innerHTML = `<div class=\"error\" style=\"color:red;\">${err}</div>`;\n      throw err;\n    }\n\n    function displayChart(vegaEmbed) {\n      vegaEmbed(outputDiv, spec, embedOpt)\n        .catch(err => showError(`Javascript Error: ${err.message}<br>This usually means there's a typo in your chart specification. See the javascript console for the full traceback.`));\n    }\n\n    if(typeof define === \"function\" && define.amd) {\n      requirejs.config({paths});\n      require([\"vega-embed\"], displayChart, err => showError(`Error loading script: ${err.message}`));\n    } else {\n      maybeLoadScript(\"vega\", \"5\")\n        .then(() => maybeLoadScript(\"vega-lite\", \"4.17.0\"))\n        .then(() => maybeLoadScript(\"vega-embed\", \"6\"))\n        .catch(showError)\n        .then(() => displayChart(vegaEmbed));\n    }\n  })({\"config\": {\"view\": {\"continuousWidth\": 400, \"continuousHeight\": 300}}, \"data\": {\"name\": \"data-5d5f97471ecf66635b3fb2d263bac6ba\"}, \"mark\": \"bar\", \"encoding\": {\"color\": {\"field\": \"Categories\", \"scale\": {\"range\": [\"#2EA8CE\", \"#EB9F3C\", \"#F4D837\", \"#51BF9D\", \"#8CBCCB\", \"#9487C0\"]}, \"type\": \"nominal\"}, \"row\": {\"field\": \"Categories\", \"type\": \"nominal\"}, \"tooltip\": [{\"field\": \"Agency\", \"type\": \"nominal\"}, {\"field\": \"Funding Amount\", \"type\": \"quantitative\"}], \"x\": {\"axis\": {\"format\": \"$.2s\", \"title\": \"Obligated Funding ($2021)\"}, \"field\": \"Funding Amount\", \"type\": \"quantitative\"}, \"y\": {\"field\": \"Agency\", \"type\": \"nominal\"}}, \"$schema\": \"https://vega.github.io/schema/vega-lite/v4.17.0.json\", \"datasets\": {\"data-5d5f97471ecf66635b3fb2d263bac6ba\": [{\"Agency\": \"Metropolitan Transportation Commission\", \"Categories\": \"Total Requested\", \"Funding Amount\": 1891120.7657899645}, {\"Agency\": \"Sunnyvale\", \"Categories\": \"Total Requested\", \"Funding Amount\": 928104.7429225458}, {\"Agency\": \"Oakland\", \"Categories\": \"Total Requested\", \"Funding Amount\": 1799536.078974054}, {\"Agency\": \"San Jose\", \"Categories\": \"Total Requested\", \"Funding Amount\": 295984.4092976527}, {\"Agency\": \"San Leandro\", \"Categories\": \"Total Requested\", \"Funding Amount\": 143582.35902528386}, {\"Agency\": \"Metropolitan Transportation Commission\", \"Categories\": \"Fed Requested\", \"Funding Amount\": 1879749.0219219865}, {\"Agency\": \"Sunnyvale\", \"Categories\": \"Fed Requested\", \"Funding Amount\": 721554.6089858533}, {\"Agency\": \"Oakland\", \"Categories\": \"Fed Requested\", \"Funding Amount\": 1204808.1708253678}, {\"Agency\": \"San Jose\", \"Categories\": \"Fed Requested\", \"Funding Amount\": 270786.4812614909}, {\"Agency\": \"San Leandro\", \"Categories\": \"Fed Requested\", \"Funding Amount\": -328.53984403832146}, {\"Agency\": \"Metropolitan Transportation Commission\", \"Categories\": \"AC Requested\", \"Funding Amount\": 0.0}, {\"Agency\": \"Sunnyvale\", \"Categories\": \"AC Requested\", \"Funding Amount\": 0.0}, {\"Agency\": \"Oakland\", \"Categories\": \"AC Requested\", \"Funding Amount\": 0.0}, {\"Agency\": \"San Jose\", \"Categories\": \"AC Requested\", \"Funding Amount\": 0.0}, {\"Agency\": \"San Leandro\", \"Categories\": \"AC Requested\", \"Funding Amount\": 0.0}]}}, {\"mode\": \"vega-lite\"});\n</script>",
          "text/plain": "alt.Chart(...)"
         },
         "metadata": {},
         "output_type": "display_data"
        }
       ]
      }
     },
     "3ce5f15e0f254661af799b28e3a0f7ca": {
      "model_module": "@jupyter-widgets/controls",
      "model_module_version": "1.5.0",
      "model_name": "HTMLModel",
      "state": {
       "layout": "IPY_MODEL_e9f5d6f5e34e40fbb6d2299620a2dd04",
       "style": "IPY_MODEL_e193f1e011754cec80611b4c95a1af07",
       "value": "<strong>Top Agencies using Street Projects</strong>"
      }
     },
     "3d0f064ea4bb4da8af2641f859e32555": {
      "model_module": "@jupyter-widgets/base",
      "model_module_version": "1.2.0",
      "model_name": "LayoutModel",
      "state": {}
     },
     "3d30c2b907eb488280fc6f98fb563b8c": {
      "model_module": "@jupyter-widgets/base",
      "model_module_version": "1.2.0",
      "model_name": "LayoutModel",
      "state": {}
     },
     "3ed82a99078b4b58847a687e705be528": {
      "model_module": "@jupyter-widgets/base",
      "model_module_version": "1.2.0",
      "model_name": "LayoutModel",
      "state": {}
     },
     "414f2a50cb6948dea667bba47ef48001": {
      "model_module": "@jupyter-widgets/controls",
      "model_module_version": "1.5.0",
      "model_name": "DescriptionStyleModel",
      "state": {
       "description_width": ""
      }
     },
     "42e791ecd52f44dd89871c6c9f6b8d1e": {
      "model_module": "@jupyter-widgets/controls",
      "model_module_version": "1.5.0",
      "model_name": "HTMLModel",
      "state": {
       "layout": "IPY_MODEL_6d539fb2b62448f1b64eaaff7d3c7b88",
       "style": "IPY_MODEL_5294e81f46084e4e8d2dffc5ad9fadc6",
       "value": "<strong>Top Agencies using Street Projects</strong>"
      }
     },
     "43054d9799e740aab97319fc33eac30f": {
      "model_module": "@jupyter-widgets/controls",
      "model_module_version": "1.5.0",
      "model_name": "DescriptionStyleModel",
      "state": {
       "description_width": ""
      }
     },
     "440b740c0c584592b91fe02aeb11cee7": {
      "model_module": "@jupyter-widgets/controls",
      "model_module_version": "1.5.0",
      "model_name": "HTMLModel",
      "state": {
       "layout": "IPY_MODEL_9bac4d76e2004542852239438895cbf7",
       "style": "IPY_MODEL_76a7f1564bbe43848928bc6a170c0aa6",
       "value": "<strong>Top Agencies using Bridge Projects</strong>"
      }
     },
     "451fe73895b24a0cba5595c3f73efcdd": {
      "model_module": "@jupyter-widgets/output",
      "model_module_version": "1.0.0",
      "model_name": "OutputModel",
      "state": {
       "layout": "IPY_MODEL_22a1d1803f934966bcbd74d93f5571f4",
       "outputs": [
        {
         "data": {
          "application/vnd.jupyter.widget-view+json": {
           "model_id": "",
           "version_major": 2,
           "version_minor": 0
          },
          "text/plain": "HTML(value='<strong>Top Agencies using Congestion Relief Projects</strong>')"
         },
         "metadata": {},
         "output_type": "display_data"
        },
        {
         "data": {
          "text/html": "<style type=\"text/css\">\n</style>\n<table id=\"T_c0e73\">\n  <thead>\n    <tr>\n      <th class=\"blank level0\" >&nbsp;</th>\n      <th id=\"T_c0e73_level0_col0\" class=\"col_heading level0 col0\" >Agency</th>\n      <th id=\"T_c0e73_level0_col1\" class=\"col_heading level0 col1\" >Congestion Relief Obligations</th>\n      <th id=\"T_c0e73_level0_col2\" class=\"col_heading level0 col2\" >Percent of Category</th>\n    </tr>\n  </thead>\n  <tbody>\n    <tr>\n      <th id=\"T_c0e73_level0_row0\" class=\"row_heading level0 row0\" >0</th>\n      <td id=\"T_c0e73_row0_col0\" class=\"data row0 col0\" >Contra Costa Transportation Authority</td>\n      <td id=\"T_c0e73_row0_col1\" class=\"data row0 col1\" >6</td>\n      <td id=\"T_c0e73_row0_col2\" class=\"data row0 col2\" >22.22%</td>\n    </tr>\n    <tr>\n      <th id=\"T_c0e73_level0_row1\" class=\"row_heading level0 row1\" >1</th>\n      <td id=\"T_c0e73_row1_col0\" class=\"data row1 col0\" >Metropolitan Transportation Commission</td>\n      <td id=\"T_c0e73_row1_col1\" class=\"data row1 col1\" >5</td>\n      <td id=\"T_c0e73_row1_col2\" class=\"data row1 col2\" >18.52%</td>\n    </tr>\n    <tr>\n      <th id=\"T_c0e73_level0_row2\" class=\"row_heading level0 row2\" >2</th>\n      <td id=\"T_c0e73_row2_col0\" class=\"data row2 col0\" >Sonoma County Transportation Authority</td>\n      <td id=\"T_c0e73_row2_col1\" class=\"data row2 col1\" >4</td>\n      <td id=\"T_c0e73_row2_col2\" class=\"data row2 col2\" >14.81%</td>\n    </tr>\n    <tr>\n      <th id=\"T_c0e73_level0_row3\" class=\"row_heading level0 row3\" >3</th>\n      <td id=\"T_c0e73_row3_col0\" class=\"data row3 col0\" >San Mateo</td>\n      <td id=\"T_c0e73_row3_col1\" class=\"data row3 col1\" >3</td>\n      <td id=\"T_c0e73_row3_col2\" class=\"data row3 col2\" >11.11%</td>\n    </tr>\n    <tr>\n      <th id=\"T_c0e73_level0_row4\" class=\"row_heading level0 row4\" >4</th>\n      <td id=\"T_c0e73_row4_col0\" class=\"data row4 col0\" >Solano Transportation Authority</td>\n      <td id=\"T_c0e73_row4_col1\" class=\"data row4 col1\" >3</td>\n      <td id=\"T_c0e73_row4_col2\" class=\"data row4 col2\" >11.11%</td>\n    </tr>\n  </tbody>\n</table>\n",
          "text/plain": "<pandas.io.formats.style.Styler at 0x7f605e88bf40>"
         },
         "metadata": {},
         "output_type": "display_data"
        },
        {
         "data": {
          "text/html": "\n<div id=\"altair-viz-93a8a95720a84ce3b1d28041ca178582\"></div>\n<script type=\"text/javascript\">\n  var VEGA_DEBUG = (typeof VEGA_DEBUG == \"undefined\") ? {} : VEGA_DEBUG;\n  (function(spec, embedOpt){\n    let outputDiv = document.currentScript.previousElementSibling;\n    if (outputDiv.id !== \"altair-viz-93a8a95720a84ce3b1d28041ca178582\") {\n      outputDiv = document.getElementById(\"altair-viz-93a8a95720a84ce3b1d28041ca178582\");\n    }\n    const paths = {\n      \"vega\": \"https://cdn.jsdelivr.net/npm//vega@5?noext\",\n      \"vega-lib\": \"https://cdn.jsdelivr.net/npm//vega-lib?noext\",\n      \"vega-lite\": \"https://cdn.jsdelivr.net/npm//vega-lite@4.17.0?noext\",\n      \"vega-embed\": \"https://cdn.jsdelivr.net/npm//vega-embed@6?noext\",\n    };\n\n    function maybeLoadScript(lib, version) {\n      var key = `${lib.replace(\"-\", \"\")}_version`;\n      return (VEGA_DEBUG[key] == version) ?\n        Promise.resolve(paths[lib]) :\n        new Promise(function(resolve, reject) {\n          var s = document.createElement('script');\n          document.getElementsByTagName(\"head\")[0].appendChild(s);\n          s.async = true;\n          s.onload = () => {\n            VEGA_DEBUG[key] = version;\n            return resolve(paths[lib]);\n          };\n          s.onerror = () => reject(`Error loading script: ${paths[lib]}`);\n          s.src = paths[lib];\n        });\n    }\n\n    function showError(err) {\n      outputDiv.innerHTML = `<div class=\"error\" style=\"color:red;\">${err}</div>`;\n      throw err;\n    }\n\n    function displayChart(vegaEmbed) {\n      vegaEmbed(outputDiv, spec, embedOpt)\n        .catch(err => showError(`Javascript Error: ${err.message}<br>This usually means there's a typo in your chart specification. See the javascript console for the full traceback.`));\n    }\n\n    if(typeof define === \"function\" && define.amd) {\n      requirejs.config({paths});\n      require([\"vega-embed\"], displayChart, err => showError(`Error loading script: ${err.message}`));\n    } else {\n      maybeLoadScript(\"vega\", \"5\")\n        .then(() => maybeLoadScript(\"vega-lite\", \"4.17.0\"))\n        .then(() => maybeLoadScript(\"vega-embed\", \"6\"))\n        .catch(showError)\n        .then(() => displayChart(vegaEmbed));\n    }\n  })({\"config\": {\"view\": {\"continuousWidth\": 400, \"continuousHeight\": 300}}, \"data\": {\"name\": \"data-288e035acb4bd3ef567cff5d4068697a\"}, \"mark\": \"bar\", \"encoding\": {\"color\": {\"field\": \"Categories\", \"scale\": {\"range\": [\"#2EA8CE\", \"#EB9F3C\", \"#F4D837\", \"#51BF9D\", \"#8CBCCB\", \"#9487C0\"]}, \"type\": \"nominal\"}, \"row\": {\"field\": \"Categories\", \"type\": \"nominal\"}, \"tooltip\": [{\"field\": \"Agency\", \"type\": \"nominal\"}, {\"field\": \"Funding Amount\", \"type\": \"quantitative\"}], \"x\": {\"axis\": {\"format\": \"$.2s\", \"title\": \"Obligated Funding ($2021)\"}, \"field\": \"Funding Amount\", \"type\": \"quantitative\"}, \"y\": {\"field\": \"Agency\", \"type\": \"nominal\"}}, \"$schema\": \"https://vega.github.io/schema/vega-lite/v4.17.0.json\", \"datasets\": {\"data-288e035acb4bd3ef567cff5d4068697a\": [{\"Agency\": \"Contra Costa Transportation Authority\", \"Categories\": \"Total Requested\", \"Funding Amount\": 197250.95617523268}, {\"Agency\": \"Metropolitan Transportation Commission\", \"Categories\": \"Total Requested\", \"Funding Amount\": 2873575.211728853}, {\"Agency\": \"Sonoma County Transportation Authority\", \"Categories\": \"Total Requested\", \"Funding Amount\": 24784.0927036328}, {\"Agency\": \"San Mateo\", \"Categories\": \"Total Requested\", \"Funding Amount\": 50566.77608965471}, {\"Agency\": \"Solano Transportation Authority\", \"Categories\": \"Total Requested\", \"Funding Amount\": 156006.74522970387}, {\"Agency\": \"Contra Costa Transportation Authority\", \"Categories\": \"Fed Requested\", \"Funding Amount\": 158480.104075906}, {\"Agency\": \"Metropolitan Transportation Commission\", \"Categories\": \"Fed Requested\", \"Funding Amount\": 2873576.667669716}, {\"Agency\": \"Sonoma County Transportation Authority\", \"Categories\": \"Fed Requested\", \"Funding Amount\": 24773.560430762882}, {\"Agency\": \"San Mateo\", \"Categories\": \"Fed Requested\", \"Funding Amount\": 42627.45791136464}, {\"Agency\": \"Solano Transportation Authority\", \"Categories\": \"Fed Requested\", \"Funding Amount\": 203358.6054765724}, {\"Agency\": \"Contra Costa Transportation Authority\", \"Categories\": \"AC Requested\", \"Funding Amount\": 0.0}, {\"Agency\": \"Metropolitan Transportation Commission\", \"Categories\": \"AC Requested\", \"Funding Amount\": 0.0}, {\"Agency\": \"Sonoma County Transportation Authority\", \"Categories\": \"AC Requested\", \"Funding Amount\": 0.0}, {\"Agency\": \"San Mateo\", \"Categories\": \"AC Requested\", \"Funding Amount\": 0.0}, {\"Agency\": \"Solano Transportation Authority\", \"Categories\": \"AC Requested\", \"Funding Amount\": 0.0}]}}, {\"mode\": \"vega-lite\"});\n</script>",
          "text/plain": "alt.Chart(...)"
         },
         "metadata": {},
         "output_type": "display_data"
        }
       ]
      }
     },
     "452d6b4617794962b43f79932908d43c": {
      "model_module": "@jupyter-widgets/base",
      "model_module_version": "1.2.0",
      "model_name": "LayoutModel",
      "state": {}
     },
     "4549de5f30f34966804f20988cac457d": {
      "model_module": "@jupyter-widgets/base",
      "model_module_version": "1.2.0",
      "model_name": "LayoutModel",
      "state": {}
     },
     "46121e63522642b284fc9ed9b386cc7a": {
      "model_module": "@jupyter-widgets/controls",
      "model_module_version": "1.5.0",
      "model_name": "HTMLModel",
      "state": {
       "layout": "IPY_MODEL_ce0c27121fa34247a1dc580115a26347",
       "style": "IPY_MODEL_2b2d348a9fff41ff88a8ba4ebcf90d8a",
       "value": "<strong>Top Agencies using Infrastructure & Emergency Relief Projects</strong>"
      }
     },
     "461b5dbd4d9747b4bd43ea40c1666652": {
      "model_module": "@jupyter-widgets/base",
      "model_module_version": "1.2.0",
      "model_name": "LayoutModel",
      "state": {}
     },
     "475f72d7e33f42fab651ca10ae4752f9": {
      "model_module": "@jupyter-widgets/output",
      "model_module_version": "1.0.0",
      "model_name": "OutputModel",
      "state": {
       "layout": "IPY_MODEL_74511ebf47c14ea980806a803a497c2c",
       "outputs": [
        {
         "data": {
          "application/vnd.jupyter.widget-view+json": {
           "model_id": "",
           "version_major": 2,
           "version_minor": 0
          },
          "text/plain": "HTML(value='<strong>Top Agencies using Active Transportation Projects</strong>')"
         },
         "metadata": {},
         "output_type": "display_data"
        },
        {
         "data": {
          "text/html": "<style type=\"text/css\">\n</style>\n<table id=\"T_dfdc4\">\n  <thead>\n    <tr>\n      <th class=\"blank level0\" >&nbsp;</th>\n      <th id=\"T_dfdc4_level0_col0\" class=\"col_heading level0 col0\" >Agency</th>\n      <th id=\"T_dfdc4_level0_col1\" class=\"col_heading level0 col1\" >Active Transportation Obligations</th>\n      <th id=\"T_dfdc4_level0_col2\" class=\"col_heading level0 col2\" >Percent of Category</th>\n    </tr>\n  </thead>\n  <tbody>\n    <tr>\n      <th id=\"T_dfdc4_level0_row0\" class=\"row_heading level0 row0\" >0</th>\n      <td id=\"T_dfdc4_row0_col0\" class=\"data row0 col0\" >San Jose</td>\n      <td id=\"T_dfdc4_row0_col1\" class=\"data row0 col1\" >79</td>\n      <td id=\"T_dfdc4_row0_col2\" class=\"data row0 col2\" >7.38%</td>\n    </tr>\n    <tr>\n      <th id=\"T_dfdc4_level0_row1\" class=\"row_heading level0 row1\" >1</th>\n      <td id=\"T_dfdc4_row1_col0\" class=\"data row1 col0\" >Oakland</td>\n      <td id=\"T_dfdc4_row1_col1\" class=\"data row1 col1\" >65</td>\n      <td id=\"T_dfdc4_row1_col2\" class=\"data row1 col2\" >6.07%</td>\n    </tr>\n    <tr>\n      <th id=\"T_dfdc4_level0_row2\" class=\"row_heading level0 row2\" >2</th>\n      <td id=\"T_dfdc4_row2_col0\" class=\"data row2 col0\" >City & County of San Francisco, MTA/Parking & Traffic</td>\n      <td id=\"T_dfdc4_row2_col1\" class=\"data row2 col1\" >46</td>\n      <td id=\"T_dfdc4_row2_col2\" class=\"data row2 col2\" >4.30%</td>\n    </tr>\n    <tr>\n      <th id=\"T_dfdc4_level0_row3\" class=\"row_heading level0 row3\" >3</th>\n      <td id=\"T_dfdc4_row3_col0\" class=\"data row3 col0\" >Sunnyvale</td>\n      <td id=\"T_dfdc4_row3_col1\" class=\"data row3 col1\" >45</td>\n      <td id=\"T_dfdc4_row3_col2\" class=\"data row3 col2\" >4.21%</td>\n    </tr>\n    <tr>\n      <th id=\"T_dfdc4_level0_row4\" class=\"row_heading level0 row4\" >4</th>\n      <td id=\"T_dfdc4_row4_col0\" class=\"data row4 col0\" >Contra Costa County</td>\n      <td id=\"T_dfdc4_row4_col1\" class=\"data row4 col1\" >39</td>\n      <td id=\"T_dfdc4_row4_col2\" class=\"data row4 col2\" >3.64%</td>\n    </tr>\n  </tbody>\n</table>\n",
          "text/plain": "<pandas.io.formats.style.Styler at 0x7f605e0bceb0>"
         },
         "metadata": {},
         "output_type": "display_data"
        },
        {
         "data": {
          "text/html": "\n<div id=\"altair-viz-12f61e88e37d4336a7f3a3081b80b0b7\"></div>\n<script type=\"text/javascript\">\n  var VEGA_DEBUG = (typeof VEGA_DEBUG == \"undefined\") ? {} : VEGA_DEBUG;\n  (function(spec, embedOpt){\n    let outputDiv = document.currentScript.previousElementSibling;\n    if (outputDiv.id !== \"altair-viz-12f61e88e37d4336a7f3a3081b80b0b7\") {\n      outputDiv = document.getElementById(\"altair-viz-12f61e88e37d4336a7f3a3081b80b0b7\");\n    }\n    const paths = {\n      \"vega\": \"https://cdn.jsdelivr.net/npm//vega@5?noext\",\n      \"vega-lib\": \"https://cdn.jsdelivr.net/npm//vega-lib?noext\",\n      \"vega-lite\": \"https://cdn.jsdelivr.net/npm//vega-lite@4.17.0?noext\",\n      \"vega-embed\": \"https://cdn.jsdelivr.net/npm//vega-embed@6?noext\",\n    };\n\n    function maybeLoadScript(lib, version) {\n      var key = `${lib.replace(\"-\", \"\")}_version`;\n      return (VEGA_DEBUG[key] == version) ?\n        Promise.resolve(paths[lib]) :\n        new Promise(function(resolve, reject) {\n          var s = document.createElement('script');\n          document.getElementsByTagName(\"head\")[0].appendChild(s);\n          s.async = true;\n          s.onload = () => {\n            VEGA_DEBUG[key] = version;\n            return resolve(paths[lib]);\n          };\n          s.onerror = () => reject(`Error loading script: ${paths[lib]}`);\n          s.src = paths[lib];\n        });\n    }\n\n    function showError(err) {\n      outputDiv.innerHTML = `<div class=\"error\" style=\"color:red;\">${err}</div>`;\n      throw err;\n    }\n\n    function displayChart(vegaEmbed) {\n      vegaEmbed(outputDiv, spec, embedOpt)\n        .catch(err => showError(`Javascript Error: ${err.message}<br>This usually means there's a typo in your chart specification. See the javascript console for the full traceback.`));\n    }\n\n    if(typeof define === \"function\" && define.amd) {\n      requirejs.config({paths});\n      require([\"vega-embed\"], displayChart, err => showError(`Error loading script: ${err.message}`));\n    } else {\n      maybeLoadScript(\"vega\", \"5\")\n        .then(() => maybeLoadScript(\"vega-lite\", \"4.17.0\"))\n        .then(() => maybeLoadScript(\"vega-embed\", \"6\"))\n        .catch(showError)\n        .then(() => displayChart(vegaEmbed));\n    }\n  })({\"config\": {\"view\": {\"continuousWidth\": 400, \"continuousHeight\": 300}}, \"data\": {\"name\": \"data-f2b192092ab40256b133e03678fdbbef\"}, \"mark\": \"bar\", \"encoding\": {\"color\": {\"field\": \"Categories\", \"scale\": {\"range\": [\"#2EA8CE\", \"#EB9F3C\", \"#F4D837\", \"#51BF9D\", \"#8CBCCB\", \"#9487C0\"]}, \"type\": \"nominal\"}, \"row\": {\"field\": \"Categories\", \"type\": \"nominal\"}, \"tooltip\": [{\"field\": \"Agency\", \"type\": \"nominal\"}, {\"field\": \"Funding Amount\", \"type\": \"quantitative\"}], \"x\": {\"axis\": {\"format\": \"$.2s\", \"title\": \"Obligated Funding ($2021)\"}, \"field\": \"Funding Amount\", \"type\": \"quantitative\"}, \"y\": {\"field\": \"Agency\", \"type\": \"nominal\"}}, \"$schema\": \"https://vega.github.io/schema/vega-lite/v4.17.0.json\", \"datasets\": {\"data-f2b192092ab40256b133e03678fdbbef\": [{\"Agency\": \"San Jose\", \"Categories\": \"Total Requested\", \"Funding Amount\": 814137.7836283975}, {\"Agency\": \"Oakland\", \"Categories\": \"Total Requested\", \"Funding Amount\": 1190695.923476186}, {\"Agency\": \"City & County of San Francisco, MTA/Parking & Traffic\", \"Categories\": \"Total Requested\", \"Funding Amount\": 399422.13886393333}, {\"Agency\": \"Sunnyvale\", \"Categories\": \"Total Requested\", \"Funding Amount\": 318241.7714299652}, {\"Agency\": \"Contra Costa County\", \"Categories\": \"Total Requested\", \"Funding Amount\": 898253.4359490186}, {\"Agency\": \"San Jose\", \"Categories\": \"Fed Requested\", \"Funding Amount\": 608959.3462479156}, {\"Agency\": \"Oakland\", \"Categories\": \"Fed Requested\", \"Funding Amount\": 768046.0772685818}, {\"Agency\": \"City & County of San Francisco, MTA/Parking & Traffic\", \"Categories\": \"Fed Requested\", \"Funding Amount\": 275973.90511533467}, {\"Agency\": \"Sunnyvale\", \"Categories\": \"Fed Requested\", \"Funding Amount\": 253929.59677578227}, {\"Agency\": \"Contra Costa County\", \"Categories\": \"Fed Requested\", \"Funding Amount\": 421336.3001180079}, {\"Agency\": \"San Jose\", \"Categories\": \"AC Requested\", \"Funding Amount\": 1556.8402544351802}, {\"Agency\": \"Oakland\", \"Categories\": \"AC Requested\", \"Funding Amount\": 0.0}, {\"Agency\": \"City & County of San Francisco, MTA/Parking & Traffic\", \"Categories\": \"AC Requested\", \"Funding Amount\": 0.0}, {\"Agency\": \"Sunnyvale\", \"Categories\": \"AC Requested\", \"Funding Amount\": 0.0}, {\"Agency\": \"Contra Costa County\", \"Categories\": \"AC Requested\", \"Funding Amount\": 0.0}]}}, {\"mode\": \"vega-lite\"});\n</script>",
          "text/plain": "alt.Chart(...)"
         },
         "metadata": {},
         "output_type": "display_data"
        }
       ]
      }
     },
     "477286252da44ba09c58b37a17d4c9a9": {
      "model_module": "@jupyter-widgets/controls",
      "model_module_version": "1.5.0",
      "model_name": "DescriptionStyleModel",
      "state": {
       "description_width": ""
      }
     },
     "47f2433f8ca94279b927f84356e96632": {
      "model_module": "@jupyter-widgets/base",
      "model_module_version": "1.2.0",
      "model_name": "LayoutModel",
      "state": {}
     },
     "47f8c60082b34b8bb5b21501eef6e548": {
      "model_module": "@jupyter-widgets/controls",
      "model_module_version": "1.5.0",
      "model_name": "DescriptionStyleModel",
      "state": {
       "description_width": ""
      }
     },
     "488eac23d904407ea009e85f7886adfd": {
      "model_module": "@jupyter-widgets/controls",
      "model_module_version": "1.5.0",
      "model_name": "DescriptionStyleModel",
      "state": {
       "description_width": ""
      }
     },
     "488eb500977344bd83d9a73e7df0f5cb": {
      "model_module": "@jupyter-widgets/controls",
      "model_module_version": "1.5.0",
      "model_name": "HTMLModel",
      "state": {
       "layout": "IPY_MODEL_dcc63ec926e14824980cdfe9e74bb716",
       "style": "IPY_MODEL_b3ac86f5fb7842b18a8311038230f841",
       "value": "<strong>Top Agencies using Street Projects</strong>"
      }
     },
     "48ed5c0c2d41409a89bc8182349352cb": {
      "model_module": "@jupyter-widgets/output",
      "model_module_version": "1.0.0",
      "model_name": "OutputModel",
      "state": {
       "layout": "IPY_MODEL_2a71f2cb0eb7460287636e714b49e4f5",
       "outputs": [
        {
         "data": {
          "application/vnd.jupyter.widget-view+json": {
           "model_id": "",
           "version_major": 2,
           "version_minor": 0
          },
          "text/plain": "HTML(value='<strong>Top Agencies using Transit Projects</strong>')"
         },
         "metadata": {},
         "output_type": "display_data"
        },
        {
         "data": {
          "text/html": "<style type=\"text/css\">\n</style>\n<table id=\"T_3c158\">\n  <thead>\n    <tr>\n      <th class=\"blank level0\" >&nbsp;</th>\n      <th id=\"T_3c158_level0_col0\" class=\"col_heading level0 col0\" >Agency</th>\n      <th id=\"T_3c158_level0_col1\" class=\"col_heading level0 col1\" >Transit Obligations</th>\n      <th id=\"T_3c158_level0_col2\" class=\"col_heading level0 col2\" >Percent of Category</th>\n    </tr>\n  </thead>\n  <tbody>\n    <tr>\n      <th id=\"T_3c158_level0_row0\" class=\"row_heading level0 row0\" >0</th>\n      <td id=\"T_3c158_row0_col0\" class=\"data row0 col0\" >Riverside</td>\n      <td id=\"T_3c158_row0_col1\" class=\"data row0 col1\" >5</td>\n      <td id=\"T_3c158_row0_col2\" class=\"data row0 col2\" >50.00%</td>\n    </tr>\n    <tr>\n      <th id=\"T_3c158_level0_row1\" class=\"row_heading level0 row1\" >1</th>\n      <td id=\"T_3c158_row1_col0\" class=\"data row1 col0\" >Colton</td>\n      <td id=\"T_3c158_row1_col1\" class=\"data row1 col1\" >3</td>\n      <td id=\"T_3c158_row1_col2\" class=\"data row1 col2\" >30.00%</td>\n    </tr>\n    <tr>\n      <th id=\"T_3c158_level0_row2\" class=\"row_heading level0 row2\" >2</th>\n      <td id=\"T_3c158_row2_col0\" class=\"data row2 col0\" >Riverside County Transportation Commission</td>\n      <td id=\"T_3c158_row2_col1\" class=\"data row2 col1\" >2</td>\n      <td id=\"T_3c158_row2_col2\" class=\"data row2 col2\" >20.00%</td>\n    </tr>\n  </tbody>\n</table>\n",
          "text/plain": "<pandas.io.formats.style.Styler at 0x7f605cedc7f0>"
         },
         "metadata": {},
         "output_type": "display_data"
        },
        {
         "data": {
          "text/html": "\n<div id=\"altair-viz-e6647d0ce2f448c7b5a2694d7b567eea\"></div>\n<script type=\"text/javascript\">\n  var VEGA_DEBUG = (typeof VEGA_DEBUG == \"undefined\") ? {} : VEGA_DEBUG;\n  (function(spec, embedOpt){\n    let outputDiv = document.currentScript.previousElementSibling;\n    if (outputDiv.id !== \"altair-viz-e6647d0ce2f448c7b5a2694d7b567eea\") {\n      outputDiv = document.getElementById(\"altair-viz-e6647d0ce2f448c7b5a2694d7b567eea\");\n    }\n    const paths = {\n      \"vega\": \"https://cdn.jsdelivr.net/npm//vega@5?noext\",\n      \"vega-lib\": \"https://cdn.jsdelivr.net/npm//vega-lib?noext\",\n      \"vega-lite\": \"https://cdn.jsdelivr.net/npm//vega-lite@4.17.0?noext\",\n      \"vega-embed\": \"https://cdn.jsdelivr.net/npm//vega-embed@6?noext\",\n    };\n\n    function maybeLoadScript(lib, version) {\n      var key = `${lib.replace(\"-\", \"\")}_version`;\n      return (VEGA_DEBUG[key] == version) ?\n        Promise.resolve(paths[lib]) :\n        new Promise(function(resolve, reject) {\n          var s = document.createElement('script');\n          document.getElementsByTagName(\"head\")[0].appendChild(s);\n          s.async = true;\n          s.onload = () => {\n            VEGA_DEBUG[key] = version;\n            return resolve(paths[lib]);\n          };\n          s.onerror = () => reject(`Error loading script: ${paths[lib]}`);\n          s.src = paths[lib];\n        });\n    }\n\n    function showError(err) {\n      outputDiv.innerHTML = `<div class=\"error\" style=\"color:red;\">${err}</div>`;\n      throw err;\n    }\n\n    function displayChart(vegaEmbed) {\n      vegaEmbed(outputDiv, spec, embedOpt)\n        .catch(err => showError(`Javascript Error: ${err.message}<br>This usually means there's a typo in your chart specification. See the javascript console for the full traceback.`));\n    }\n\n    if(typeof define === \"function\" && define.amd) {\n      requirejs.config({paths});\n      require([\"vega-embed\"], displayChart, err => showError(`Error loading script: ${err.message}`));\n    } else {\n      maybeLoadScript(\"vega\", \"5\")\n        .then(() => maybeLoadScript(\"vega-lite\", \"4.17.0\"))\n        .then(() => maybeLoadScript(\"vega-embed\", \"6\"))\n        .catch(showError)\n        .then(() => displayChart(vegaEmbed));\n    }\n  })({\"config\": {\"view\": {\"continuousWidth\": 400, \"continuousHeight\": 300}}, \"data\": {\"name\": \"data-5ae70f1f3fdc2a455597c67652eb52b3\"}, \"mark\": \"bar\", \"encoding\": {\"color\": {\"field\": \"Categories\", \"scale\": {\"range\": [\"#2EA8CE\", \"#EB9F3C\", \"#F4D837\", \"#51BF9D\", \"#8CBCCB\", \"#9487C0\"]}, \"type\": \"nominal\"}, \"row\": {\"field\": \"Categories\", \"type\": \"nominal\"}, \"tooltip\": [{\"field\": \"Agency\", \"type\": \"nominal\"}, {\"field\": \"Funding Amount\", \"type\": \"quantitative\"}], \"x\": {\"axis\": {\"format\": \"$.2s\", \"title\": \"Obligated Funding ($2021)\"}, \"field\": \"Funding Amount\", \"type\": \"quantitative\"}, \"y\": {\"field\": \"Agency\", \"type\": \"nominal\"}}, \"$schema\": \"https://vega.github.io/schema/vega-lite/v4.17.0.json\", \"datasets\": {\"data-5ae70f1f3fdc2a455597c67652eb52b3\": [{\"Agency\": \"Riverside\", \"Categories\": \"Total Requested\", \"Funding Amount\": 7090038.296307963}, {\"Agency\": \"Colton\", \"Categories\": \"Total Requested\", \"Funding Amount\": 370567.9020501667}, {\"Agency\": \"Riverside County Transportation Commission\", \"Categories\": \"Total Requested\", \"Funding Amount\": 726839.3092741878}, {\"Agency\": \"Riverside\", \"Categories\": \"Fed Requested\", \"Funding Amount\": 3653605.9685691157}, {\"Agency\": \"Colton\", \"Categories\": \"Fed Requested\", \"Funding Amount\": 328063.8148678238}, {\"Agency\": \"Riverside County Transportation Commission\", \"Categories\": \"Fed Requested\", \"Funding Amount\": 689657.6607652511}, {\"Agency\": \"Riverside\", \"Categories\": \"AC Requested\", \"Funding Amount\": 0.0}, {\"Agency\": \"Colton\", \"Categories\": \"AC Requested\", \"Funding Amount\": 0.0}, {\"Agency\": \"Riverside County Transportation Commission\", \"Categories\": \"AC Requested\", \"Funding Amount\": 0.0}]}}, {\"mode\": \"vega-lite\"});\n</script>",
          "text/plain": "alt.Chart(...)"
         },
         "metadata": {},
         "output_type": "display_data"
        }
       ]
      }
     },
     "4921733e94a44bc6bcbd52c3247926e9": {
      "model_module": "@jupyter-widgets/controls",
      "model_module_version": "1.5.0",
      "model_name": "HTMLModel",
      "state": {
       "layout": "IPY_MODEL_625c13eaeb1d4fd79ddb20cdde665948",
       "style": "IPY_MODEL_43054d9799e740aab97319fc33eac30f",
       "value": "<strong>Top Agencies using Congestion Relief Projects</strong>"
      }
     },
     "4bdf1295124940b0a39914369b25da29": {
      "model_module": "@jupyter-widgets/controls",
      "model_module_version": "1.5.0",
      "model_name": "HTMLModel",
      "state": {
       "layout": "IPY_MODEL_f5f04f862c8d4facb22e6396315f5758",
       "style": "IPY_MODEL_e06b92c4dd4b492b94b1ae8ef82b048e",
       "value": "<strong>Top Agencies using Active Transportation Projects</strong>"
      }
     },
     "4bf93007263a423682a57f5bd4c5e3c9": {
      "model_module": "@jupyter-widgets/base",
      "model_module_version": "1.2.0",
      "model_name": "LayoutModel",
      "state": {}
     },
     "4c1aafb59df0450ba271651f2914ebe3": {
      "model_module": "@jupyter-widgets/controls",
      "model_module_version": "1.5.0",
      "model_name": "HTMLModel",
      "state": {
       "layout": "IPY_MODEL_e26243e3124c46fbaefe6e200098e422",
       "style": "IPY_MODEL_b24fbc20800a49be8ffa8370d8b7963e",
       "value": "<strong>Top Agencies using Street Projects</strong>"
      }
     },
     "4c47a76d7a1b4bd5b303aea85018496e": {
      "model_module": "@jupyter-widgets/controls",
      "model_module_version": "1.5.0",
      "model_name": "HTMLModel",
      "state": {
       "layout": "IPY_MODEL_b65e88fbb6d34a8daab6a790a02ea15b",
       "style": "IPY_MODEL_ff37077423334c43aa56d0eef691f81a",
       "value": "<strong>Top Agencies using Transit Projects</strong>"
      }
     },
     "4c6d27fb59e9477a81b833daedb4862f": {
      "model_module": "@jupyter-widgets/controls",
      "model_module_version": "1.5.0",
      "model_name": "DescriptionStyleModel",
      "state": {
       "description_width": ""
      }
     },
     "4cdd6c6e95d4475484357c9dccd4c6b7": {
      "model_module": "@jupyter-widgets/controls",
      "model_module_version": "1.5.0",
      "model_name": "DescriptionStyleModel",
      "state": {
       "description_width": ""
      }
     },
     "4cfb7da7bc9045988268b0b098029165": {
      "model_module": "@jupyter-widgets/base",
      "model_module_version": "1.2.0",
      "model_name": "LayoutModel",
      "state": {}
     },
     "4dc6876963ab46768da30edcdfb856be": {
      "model_module": "@jupyter-widgets/output",
      "model_module_version": "1.0.0",
      "model_name": "OutputModel",
      "state": {
       "layout": "IPY_MODEL_cffd2984c2ac4713a50d477ad328afed",
       "outputs": [
        {
         "data": {
          "application/vnd.jupyter.widget-view+json": {
           "model_id": "",
           "version_major": 2,
           "version_minor": 0
          },
          "text/plain": "HTML(value='<strong>Top Agencies using Transit Projects</strong>')"
         },
         "metadata": {},
         "output_type": "display_data"
        },
        {
         "data": {
          "text/html": "<style type=\"text/css\">\n</style>\n<table id=\"T_eaead\">\n  <thead>\n    <tr>\n      <th class=\"blank level0\" >&nbsp;</th>\n      <th id=\"T_eaead_level0_col0\" class=\"col_heading level0 col0\" >Agency</th>\n      <th id=\"T_eaead_level0_col1\" class=\"col_heading level0 col1\" >Transit Obligations</th>\n      <th id=\"T_eaead_level0_col2\" class=\"col_heading level0 col2\" >Percent of Category</th>\n    </tr>\n  </thead>\n  <tbody>\n    <tr>\n      <th id=\"T_eaead_level0_row0\" class=\"row_heading level0 row0\" >0</th>\n      <td id=\"T_eaead_row0_col0\" class=\"data row0 col0\" >Metropolitan Transportation Commission</td>\n      <td id=\"T_eaead_row0_col1\" class=\"data row0 col1\" >18</td>\n      <td id=\"T_eaead_row0_col2\" class=\"data row0 col2\" >28.57%</td>\n    </tr>\n    <tr>\n      <th id=\"T_eaead_level0_row1\" class=\"row_heading level0 row1\" >1</th>\n      <td id=\"T_eaead_row1_col0\" class=\"data row1 col0\" >Sunnyvale</td>\n      <td id=\"T_eaead_row1_col1\" class=\"data row1 col1\" >6</td>\n      <td id=\"T_eaead_row1_col2\" class=\"data row1 col2\" >9.52%</td>\n    </tr>\n    <tr>\n      <th id=\"T_eaead_level0_row2\" class=\"row_heading level0 row2\" >2</th>\n      <td id=\"T_eaead_row2_col0\" class=\"data row2 col0\" >Oakland</td>\n      <td id=\"T_eaead_row2_col1\" class=\"data row2 col1\" >4</td>\n      <td id=\"T_eaead_row2_col2\" class=\"data row2 col2\" >6.35%</td>\n    </tr>\n    <tr>\n      <th id=\"T_eaead_level0_row3\" class=\"row_heading level0 row3\" >3</th>\n      <td id=\"T_eaead_row3_col0\" class=\"data row3 col0\" >San Jose</td>\n      <td id=\"T_eaead_row3_col1\" class=\"data row3 col1\" >4</td>\n      <td id=\"T_eaead_row3_col2\" class=\"data row3 col2\" >6.35%</td>\n    </tr>\n    <tr>\n      <th id=\"T_eaead_level0_row4\" class=\"row_heading level0 row4\" >4</th>\n      <td id=\"T_eaead_row4_col0\" class=\"data row4 col0\" >San Leandro</td>\n      <td id=\"T_eaead_row4_col1\" class=\"data row4 col1\" >4</td>\n      <td id=\"T_eaead_row4_col2\" class=\"data row4 col2\" >6.35%</td>\n    </tr>\n  </tbody>\n</table>\n",
          "text/plain": "<pandas.io.formats.style.Styler at 0x7f605e8c3ac0>"
         },
         "metadata": {},
         "output_type": "display_data"
        },
        {
         "data": {
          "text/html": "\n<div id=\"altair-viz-d9878489b5d345c58f8b3564dc6bd782\"></div>\n<script type=\"text/javascript\">\n  var VEGA_DEBUG = (typeof VEGA_DEBUG == \"undefined\") ? {} : VEGA_DEBUG;\n  (function(spec, embedOpt){\n    let outputDiv = document.currentScript.previousElementSibling;\n    if (outputDiv.id !== \"altair-viz-d9878489b5d345c58f8b3564dc6bd782\") {\n      outputDiv = document.getElementById(\"altair-viz-d9878489b5d345c58f8b3564dc6bd782\");\n    }\n    const paths = {\n      \"vega\": \"https://cdn.jsdelivr.net/npm//vega@5?noext\",\n      \"vega-lib\": \"https://cdn.jsdelivr.net/npm//vega-lib?noext\",\n      \"vega-lite\": \"https://cdn.jsdelivr.net/npm//vega-lite@4.17.0?noext\",\n      \"vega-embed\": \"https://cdn.jsdelivr.net/npm//vega-embed@6?noext\",\n    };\n\n    function maybeLoadScript(lib, version) {\n      var key = `${lib.replace(\"-\", \"\")}_version`;\n      return (VEGA_DEBUG[key] == version) ?\n        Promise.resolve(paths[lib]) :\n        new Promise(function(resolve, reject) {\n          var s = document.createElement('script');\n          document.getElementsByTagName(\"head\")[0].appendChild(s);\n          s.async = true;\n          s.onload = () => {\n            VEGA_DEBUG[key] = version;\n            return resolve(paths[lib]);\n          };\n          s.onerror = () => reject(`Error loading script: ${paths[lib]}`);\n          s.src = paths[lib];\n        });\n    }\n\n    function showError(err) {\n      outputDiv.innerHTML = `<div class=\"error\" style=\"color:red;\">${err}</div>`;\n      throw err;\n    }\n\n    function displayChart(vegaEmbed) {\n      vegaEmbed(outputDiv, spec, embedOpt)\n        .catch(err => showError(`Javascript Error: ${err.message}<br>This usually means there's a typo in your chart specification. See the javascript console for the full traceback.`));\n    }\n\n    if(typeof define === \"function\" && define.amd) {\n      requirejs.config({paths});\n      require([\"vega-embed\"], displayChart, err => showError(`Error loading script: ${err.message}`));\n    } else {\n      maybeLoadScript(\"vega\", \"5\")\n        .then(() => maybeLoadScript(\"vega-lite\", \"4.17.0\"))\n        .then(() => maybeLoadScript(\"vega-embed\", \"6\"))\n        .catch(showError)\n        .then(() => displayChart(vegaEmbed));\n    }\n  })({\"config\": {\"view\": {\"continuousWidth\": 400, \"continuousHeight\": 300}}, \"data\": {\"name\": \"data-5d5f97471ecf66635b3fb2d263bac6ba\"}, \"mark\": \"bar\", \"encoding\": {\"color\": {\"field\": \"Categories\", \"scale\": {\"range\": [\"#2EA8CE\", \"#EB9F3C\", \"#F4D837\", \"#51BF9D\", \"#8CBCCB\", \"#9487C0\"]}, \"type\": \"nominal\"}, \"row\": {\"field\": \"Categories\", \"type\": \"nominal\"}, \"tooltip\": [{\"field\": \"Agency\", \"type\": \"nominal\"}, {\"field\": \"Funding Amount\", \"type\": \"quantitative\"}], \"x\": {\"axis\": {\"format\": \"$.2s\", \"title\": \"Obligated Funding ($2021)\"}, \"field\": \"Funding Amount\", \"type\": \"quantitative\"}, \"y\": {\"field\": \"Agency\", \"type\": \"nominal\"}}, \"$schema\": \"https://vega.github.io/schema/vega-lite/v4.17.0.json\", \"datasets\": {\"data-5d5f97471ecf66635b3fb2d263bac6ba\": [{\"Agency\": \"Metropolitan Transportation Commission\", \"Categories\": \"Total Requested\", \"Funding Amount\": 1891120.7657899645}, {\"Agency\": \"Sunnyvale\", \"Categories\": \"Total Requested\", \"Funding Amount\": 928104.7429225458}, {\"Agency\": \"Oakland\", \"Categories\": \"Total Requested\", \"Funding Amount\": 1799536.078974054}, {\"Agency\": \"San Jose\", \"Categories\": \"Total Requested\", \"Funding Amount\": 295984.4092976527}, {\"Agency\": \"San Leandro\", \"Categories\": \"Total Requested\", \"Funding Amount\": 143582.35902528386}, {\"Agency\": \"Metropolitan Transportation Commission\", \"Categories\": \"Fed Requested\", \"Funding Amount\": 1879749.0219219865}, {\"Agency\": \"Sunnyvale\", \"Categories\": \"Fed Requested\", \"Funding Amount\": 721554.6089858533}, {\"Agency\": \"Oakland\", \"Categories\": \"Fed Requested\", \"Funding Amount\": 1204808.1708253678}, {\"Agency\": \"San Jose\", \"Categories\": \"Fed Requested\", \"Funding Amount\": 270786.4812614909}, {\"Agency\": \"San Leandro\", \"Categories\": \"Fed Requested\", \"Funding Amount\": -328.53984403832146}, {\"Agency\": \"Metropolitan Transportation Commission\", \"Categories\": \"AC Requested\", \"Funding Amount\": 0.0}, {\"Agency\": \"Sunnyvale\", \"Categories\": \"AC Requested\", \"Funding Amount\": 0.0}, {\"Agency\": \"Oakland\", \"Categories\": \"AC Requested\", \"Funding Amount\": 0.0}, {\"Agency\": \"San Jose\", \"Categories\": \"AC Requested\", \"Funding Amount\": 0.0}, {\"Agency\": \"San Leandro\", \"Categories\": \"AC Requested\", \"Funding Amount\": 0.0}]}}, {\"mode\": \"vega-lite\"});\n</script>",
          "text/plain": "alt.Chart(...)"
         },
         "metadata": {},
         "output_type": "display_data"
        }
       ]
      }
     },
     "4e71d573a87242338fcf27e48168e9f1": {
      "model_module": "@jupyter-widgets/controls",
      "model_module_version": "1.5.0",
      "model_name": "HTMLModel",
      "state": {
       "layout": "IPY_MODEL_32bd721e831c4649af2c9798e3891b43",
       "style": "IPY_MODEL_89d5b4680db1411ab9beb5c33fadb979",
       "value": "<strong>Top Agencies using Bridge Projects</strong>"
      }
     },
     "4ef79c65e3054e14b1758329153a72cc": {
      "model_module": "@jupyter-widgets/base",
      "model_module_version": "1.2.0",
      "model_name": "LayoutModel",
      "state": {}
     },
     "4f296cfc1b344248aeea40fa916370b6": {
      "model_module": "@jupyter-widgets/output",
      "model_module_version": "1.0.0",
      "model_name": "OutputModel",
      "state": {
       "layout": "IPY_MODEL_70b293aa2d6c4ab9a74d4e50df162907",
       "outputs": [
        {
         "data": {
          "application/vnd.jupyter.widget-view+json": {
           "model_id": "",
           "version_major": 2,
           "version_minor": 0
          },
          "text/plain": "HTML(value='<strong>Top Agencies using Transit Projects</strong>')"
         },
         "metadata": {},
         "output_type": "display_data"
        },
        {
         "data": {
          "text/html": "<style type=\"text/css\">\n</style>\n<table id=\"T_4f575\">\n  <thead>\n    <tr>\n      <th class=\"blank level0\" >&nbsp;</th>\n      <th id=\"T_4f575_level0_col0\" class=\"col_heading level0 col0\" >Agency</th>\n      <th id=\"T_4f575_level0_col1\" class=\"col_heading level0 col1\" >Transit Obligations</th>\n      <th id=\"T_4f575_level0_col2\" class=\"col_heading level0 col2\" >Percent of Category</th>\n    </tr>\n  </thead>\n  <tbody>\n    <tr>\n      <th id=\"T_4f575_level0_row0\" class=\"row_heading level0 row0\" >0</th>\n      <td id=\"T_4f575_row0_col0\" class=\"data row0 col0\" >Metropolitan Transportation Commission</td>\n      <td id=\"T_4f575_row0_col1\" class=\"data row0 col1\" >18</td>\n      <td id=\"T_4f575_row0_col2\" class=\"data row0 col2\" >28.57%</td>\n    </tr>\n    <tr>\n      <th id=\"T_4f575_level0_row1\" class=\"row_heading level0 row1\" >1</th>\n      <td id=\"T_4f575_row1_col0\" class=\"data row1 col0\" >Sunnyvale</td>\n      <td id=\"T_4f575_row1_col1\" class=\"data row1 col1\" >6</td>\n      <td id=\"T_4f575_row1_col2\" class=\"data row1 col2\" >9.52%</td>\n    </tr>\n    <tr>\n      <th id=\"T_4f575_level0_row2\" class=\"row_heading level0 row2\" >2</th>\n      <td id=\"T_4f575_row2_col0\" class=\"data row2 col0\" >Oakland</td>\n      <td id=\"T_4f575_row2_col1\" class=\"data row2 col1\" >4</td>\n      <td id=\"T_4f575_row2_col2\" class=\"data row2 col2\" >6.35%</td>\n    </tr>\n    <tr>\n      <th id=\"T_4f575_level0_row3\" class=\"row_heading level0 row3\" >3</th>\n      <td id=\"T_4f575_row3_col0\" class=\"data row3 col0\" >San Jose</td>\n      <td id=\"T_4f575_row3_col1\" class=\"data row3 col1\" >4</td>\n      <td id=\"T_4f575_row3_col2\" class=\"data row3 col2\" >6.35%</td>\n    </tr>\n    <tr>\n      <th id=\"T_4f575_level0_row4\" class=\"row_heading level0 row4\" >4</th>\n      <td id=\"T_4f575_row4_col0\" class=\"data row4 col0\" >San Leandro</td>\n      <td id=\"T_4f575_row4_col1\" class=\"data row4 col1\" >4</td>\n      <td id=\"T_4f575_row4_col2\" class=\"data row4 col2\" >6.35%</td>\n    </tr>\n  </tbody>\n</table>\n",
          "text/plain": "<pandas.io.formats.style.Styler at 0x7f605e90ecd0>"
         },
         "metadata": {},
         "output_type": "display_data"
        },
        {
         "data": {
          "text/html": "\n<div id=\"altair-viz-707c5827948f413d9fe85626fa6a4ea6\"></div>\n<script type=\"text/javascript\">\n  var VEGA_DEBUG = (typeof VEGA_DEBUG == \"undefined\") ? {} : VEGA_DEBUG;\n  (function(spec, embedOpt){\n    let outputDiv = document.currentScript.previousElementSibling;\n    if (outputDiv.id !== \"altair-viz-707c5827948f413d9fe85626fa6a4ea6\") {\n      outputDiv = document.getElementById(\"altair-viz-707c5827948f413d9fe85626fa6a4ea6\");\n    }\n    const paths = {\n      \"vega\": \"https://cdn.jsdelivr.net/npm//vega@5?noext\",\n      \"vega-lib\": \"https://cdn.jsdelivr.net/npm//vega-lib?noext\",\n      \"vega-lite\": \"https://cdn.jsdelivr.net/npm//vega-lite@4.17.0?noext\",\n      \"vega-embed\": \"https://cdn.jsdelivr.net/npm//vega-embed@6?noext\",\n    };\n\n    function maybeLoadScript(lib, version) {\n      var key = `${lib.replace(\"-\", \"\")}_version`;\n      return (VEGA_DEBUG[key] == version) ?\n        Promise.resolve(paths[lib]) :\n        new Promise(function(resolve, reject) {\n          var s = document.createElement('script');\n          document.getElementsByTagName(\"head\")[0].appendChild(s);\n          s.async = true;\n          s.onload = () => {\n            VEGA_DEBUG[key] = version;\n            return resolve(paths[lib]);\n          };\n          s.onerror = () => reject(`Error loading script: ${paths[lib]}`);\n          s.src = paths[lib];\n        });\n    }\n\n    function showError(err) {\n      outputDiv.innerHTML = `<div class=\"error\" style=\"color:red;\">${err}</div>`;\n      throw err;\n    }\n\n    function displayChart(vegaEmbed) {\n      vegaEmbed(outputDiv, spec, embedOpt)\n        .catch(err => showError(`Javascript Error: ${err.message}<br>This usually means there's a typo in your chart specification. See the javascript console for the full traceback.`));\n    }\n\n    if(typeof define === \"function\" && define.amd) {\n      requirejs.config({paths});\n      require([\"vega-embed\"], displayChart, err => showError(`Error loading script: ${err.message}`));\n    } else {\n      maybeLoadScript(\"vega\", \"5\")\n        .then(() => maybeLoadScript(\"vega-lite\", \"4.17.0\"))\n        .then(() => maybeLoadScript(\"vega-embed\", \"6\"))\n        .catch(showError)\n        .then(() => displayChart(vegaEmbed));\n    }\n  })({\"config\": {\"view\": {\"continuousWidth\": 400, \"continuousHeight\": 300}}, \"data\": {\"name\": \"data-5d5f97471ecf66635b3fb2d263bac6ba\"}, \"mark\": \"bar\", \"encoding\": {\"color\": {\"field\": \"Categories\", \"scale\": {\"range\": [\"#2EA8CE\", \"#EB9F3C\", \"#F4D837\", \"#51BF9D\", \"#8CBCCB\", \"#9487C0\"]}, \"type\": \"nominal\"}, \"row\": {\"field\": \"Categories\", \"type\": \"nominal\"}, \"tooltip\": [{\"field\": \"Agency\", \"type\": \"nominal\"}, {\"field\": \"Funding Amount\", \"type\": \"quantitative\"}], \"x\": {\"axis\": {\"format\": \"$.2s\", \"title\": \"Obligated Funding ($2021)\"}, \"field\": \"Funding Amount\", \"type\": \"quantitative\"}, \"y\": {\"field\": \"Agency\", \"type\": \"nominal\"}}, \"$schema\": \"https://vega.github.io/schema/vega-lite/v4.17.0.json\", \"datasets\": {\"data-5d5f97471ecf66635b3fb2d263bac6ba\": [{\"Agency\": \"Metropolitan Transportation Commission\", \"Categories\": \"Total Requested\", \"Funding Amount\": 1891120.7657899645}, {\"Agency\": \"Sunnyvale\", \"Categories\": \"Total Requested\", \"Funding Amount\": 928104.7429225458}, {\"Agency\": \"Oakland\", \"Categories\": \"Total Requested\", \"Funding Amount\": 1799536.078974054}, {\"Agency\": \"San Jose\", \"Categories\": \"Total Requested\", \"Funding Amount\": 295984.4092976527}, {\"Agency\": \"San Leandro\", \"Categories\": \"Total Requested\", \"Funding Amount\": 143582.35902528386}, {\"Agency\": \"Metropolitan Transportation Commission\", \"Categories\": \"Fed Requested\", \"Funding Amount\": 1879749.0219219865}, {\"Agency\": \"Sunnyvale\", \"Categories\": \"Fed Requested\", \"Funding Amount\": 721554.6089858533}, {\"Agency\": \"Oakland\", \"Categories\": \"Fed Requested\", \"Funding Amount\": 1204808.1708253678}, {\"Agency\": \"San Jose\", \"Categories\": \"Fed Requested\", \"Funding Amount\": 270786.4812614909}, {\"Agency\": \"San Leandro\", \"Categories\": \"Fed Requested\", \"Funding Amount\": -328.53984403832146}, {\"Agency\": \"Metropolitan Transportation Commission\", \"Categories\": \"AC Requested\", \"Funding Amount\": 0.0}, {\"Agency\": \"Sunnyvale\", \"Categories\": \"AC Requested\", \"Funding Amount\": 0.0}, {\"Agency\": \"Oakland\", \"Categories\": \"AC Requested\", \"Funding Amount\": 0.0}, {\"Agency\": \"San Jose\", \"Categories\": \"AC Requested\", \"Funding Amount\": 0.0}, {\"Agency\": \"San Leandro\", \"Categories\": \"AC Requested\", \"Funding Amount\": 0.0}]}}, {\"mode\": \"vega-lite\"});\n</script>",
          "text/plain": "alt.Chart(...)"
         },
         "metadata": {},
         "output_type": "display_data"
        }
       ]
      }
     },
     "4f56b377ff9a47b5b0a14ae891806d65": {
      "model_module": "@jupyter-widgets/output",
      "model_module_version": "1.0.0",
      "model_name": "OutputModel",
      "state": {
       "layout": "IPY_MODEL_ea1d565cd0cd4ec7a3c3a95474babd64",
       "outputs": [
        {
         "data": {
          "application/vnd.jupyter.widget-view+json": {
           "model_id": "",
           "version_major": 2,
           "version_minor": 0
          },
          "text/plain": "HTML(value='<strong>Top Agencies using Street Projects</strong>')"
         },
         "metadata": {},
         "output_type": "display_data"
        },
        {
         "data": {
          "text/html": "<style type=\"text/css\">\n</style>\n<table id=\"T_5b488\">\n  <thead>\n    <tr>\n      <th class=\"blank level0\" >&nbsp;</th>\n      <th id=\"T_5b488_level0_col0\" class=\"col_heading level0 col0\" >Agency</th>\n      <th id=\"T_5b488_level0_col1\" class=\"col_heading level0 col1\" >Street Obligations</th>\n      <th id=\"T_5b488_level0_col2\" class=\"col_heading level0 col2\" >Percent of Category</th>\n    </tr>\n  </thead>\n  <tbody>\n    <tr>\n      <th id=\"T_5b488_level0_row0\" class=\"row_heading level0 row0\" >0</th>\n      <td id=\"T_5b488_row0_col0\" class=\"data row0 col0\" >Oakland</td>\n      <td id=\"T_5b488_row0_col1\" class=\"data row0 col1\" >82</td>\n      <td id=\"T_5b488_row0_col2\" class=\"data row0 col2\" >6.23%</td>\n    </tr>\n    <tr>\n      <th id=\"T_5b488_level0_row1\" class=\"row_heading level0 row1\" >1</th>\n      <td id=\"T_5b488_row1_col0\" class=\"data row1 col0\" >Contra Costa County</td>\n      <td id=\"T_5b488_row1_col1\" class=\"data row1 col1\" >81</td>\n      <td id=\"T_5b488_row1_col2\" class=\"data row1 col2\" >6.15%</td>\n    </tr>\n    <tr>\n      <th id=\"T_5b488_level0_row2\" class=\"row_heading level0 row2\" >2</th>\n      <td id=\"T_5b488_row2_col0\" class=\"data row2 col0\" >San Jose</td>\n      <td id=\"T_5b488_row2_col1\" class=\"data row2 col1\" >66</td>\n      <td id=\"T_5b488_row2_col2\" class=\"data row2 col2\" >5.01%</td>\n    </tr>\n    <tr>\n      <th id=\"T_5b488_level0_row3\" class=\"row_heading level0 row3\" >3</th>\n      <td id=\"T_5b488_row3_col0\" class=\"data row3 col0\" >San Francisco County</td>\n      <td id=\"T_5b488_row3_col1\" class=\"data row3 col1\" >45</td>\n      <td id=\"T_5b488_row3_col2\" class=\"data row3 col2\" >3.42%</td>\n    </tr>\n    <tr>\n      <th id=\"T_5b488_level0_row4\" class=\"row_heading level0 row4\" >4</th>\n      <td id=\"T_5b488_row4_col0\" class=\"data row4 col0\" >Sunnyvale</td>\n      <td id=\"T_5b488_row4_col1\" class=\"data row4 col1\" >45</td>\n      <td id=\"T_5b488_row4_col2\" class=\"data row4 col2\" >3.42%</td>\n    </tr>\n  </tbody>\n</table>\n",
          "text/plain": "<pandas.io.formats.style.Styler at 0x7f605e091c10>"
         },
         "metadata": {},
         "output_type": "display_data"
        },
        {
         "data": {
          "text/html": "\n<div id=\"altair-viz-51c825facc4c432aba35beb92625c6b3\"></div>\n<script type=\"text/javascript\">\n  var VEGA_DEBUG = (typeof VEGA_DEBUG == \"undefined\") ? {} : VEGA_DEBUG;\n  (function(spec, embedOpt){\n    let outputDiv = document.currentScript.previousElementSibling;\n    if (outputDiv.id !== \"altair-viz-51c825facc4c432aba35beb92625c6b3\") {\n      outputDiv = document.getElementById(\"altair-viz-51c825facc4c432aba35beb92625c6b3\");\n    }\n    const paths = {\n      \"vega\": \"https://cdn.jsdelivr.net/npm//vega@5?noext\",\n      \"vega-lib\": \"https://cdn.jsdelivr.net/npm//vega-lib?noext\",\n      \"vega-lite\": \"https://cdn.jsdelivr.net/npm//vega-lite@4.17.0?noext\",\n      \"vega-embed\": \"https://cdn.jsdelivr.net/npm//vega-embed@6?noext\",\n    };\n\n    function maybeLoadScript(lib, version) {\n      var key = `${lib.replace(\"-\", \"\")}_version`;\n      return (VEGA_DEBUG[key] == version) ?\n        Promise.resolve(paths[lib]) :\n        new Promise(function(resolve, reject) {\n          var s = document.createElement('script');\n          document.getElementsByTagName(\"head\")[0].appendChild(s);\n          s.async = true;\n          s.onload = () => {\n            VEGA_DEBUG[key] = version;\n            return resolve(paths[lib]);\n          };\n          s.onerror = () => reject(`Error loading script: ${paths[lib]}`);\n          s.src = paths[lib];\n        });\n    }\n\n    function showError(err) {\n      outputDiv.innerHTML = `<div class=\"error\" style=\"color:red;\">${err}</div>`;\n      throw err;\n    }\n\n    function displayChart(vegaEmbed) {\n      vegaEmbed(outputDiv, spec, embedOpt)\n        .catch(err => showError(`Javascript Error: ${err.message}<br>This usually means there's a typo in your chart specification. See the javascript console for the full traceback.`));\n    }\n\n    if(typeof define === \"function\" && define.amd) {\n      requirejs.config({paths});\n      require([\"vega-embed\"], displayChart, err => showError(`Error loading script: ${err.message}`));\n    } else {\n      maybeLoadScript(\"vega\", \"5\")\n        .then(() => maybeLoadScript(\"vega-lite\", \"4.17.0\"))\n        .then(() => maybeLoadScript(\"vega-embed\", \"6\"))\n        .catch(showError)\n        .then(() => displayChart(vegaEmbed));\n    }\n  })({\"config\": {\"view\": {\"continuousWidth\": 400, \"continuousHeight\": 300}}, \"data\": {\"name\": \"data-2d34081fc3d7ba7c3cd8f495e86d10d3\"}, \"mark\": \"bar\", \"encoding\": {\"color\": {\"field\": \"Categories\", \"scale\": {\"range\": [\"#2EA8CE\", \"#EB9F3C\", \"#F4D837\", \"#51BF9D\", \"#8CBCCB\", \"#9487C0\"]}, \"type\": \"nominal\"}, \"row\": {\"field\": \"Categories\", \"type\": \"nominal\"}, \"tooltip\": [{\"field\": \"Agency\", \"type\": \"nominal\"}, {\"field\": \"Funding Amount\", \"type\": \"quantitative\"}], \"x\": {\"axis\": {\"format\": \"$.2s\", \"title\": \"Obligated Funding ($2021)\"}, \"field\": \"Funding Amount\", \"type\": \"quantitative\"}, \"y\": {\"field\": \"Agency\", \"type\": \"nominal\"}}, \"$schema\": \"https://vega.github.io/schema/vega-lite/v4.17.0.json\", \"datasets\": {\"data-2d34081fc3d7ba7c3cd8f495e86d10d3\": [{\"Agency\": \"Oakland\", \"Categories\": \"Total Requested\", \"Funding Amount\": 956510.9982220907}, {\"Agency\": \"Contra Costa County\", \"Categories\": \"Total Requested\", \"Funding Amount\": 623295.6954156285}, {\"Agency\": \"San Jose\", \"Categories\": \"Total Requested\", \"Funding Amount\": 1164523.0377909504}, {\"Agency\": \"San Francisco County\", \"Categories\": \"Total Requested\", \"Funding Amount\": 4830086.66271812}, {\"Agency\": \"Sunnyvale\", \"Categories\": \"Total Requested\", \"Funding Amount\": 263230.4439052576}, {\"Agency\": \"Oakland\", \"Categories\": \"Fed Requested\", \"Funding Amount\": 666584.6247971884}, {\"Agency\": \"Contra Costa County\", \"Categories\": \"Fed Requested\", \"Funding Amount\": 425612.567296328}, {\"Agency\": \"San Jose\", \"Categories\": \"Fed Requested\", \"Funding Amount\": 949104.6690137495}, {\"Agency\": \"San Francisco County\", \"Categories\": \"Fed Requested\", \"Funding Amount\": 596351.3825193458}, {\"Agency\": \"Sunnyvale\", \"Categories\": \"Fed Requested\", \"Funding Amount\": 218961.48645088891}, {\"Agency\": \"Oakland\", \"Categories\": \"AC Requested\", \"Funding Amount\": 0.0}, {\"Agency\": \"Contra Costa County\", \"Categories\": \"AC Requested\", \"Funding Amount\": 229.00333419290047}, {\"Agency\": \"San Jose\", \"Categories\": \"AC Requested\", \"Funding Amount\": 0.0}, {\"Agency\": \"San Francisco County\", \"Categories\": \"AC Requested\", \"Funding Amount\": 3762.4890021642877}, {\"Agency\": \"Sunnyvale\", \"Categories\": \"AC Requested\", \"Funding Amount\": 0.0}]}}, {\"mode\": \"vega-lite\"});\n</script>",
          "text/plain": "alt.Chart(...)"
         },
         "metadata": {},
         "output_type": "display_data"
        }
       ]
      }
     },
     "4f6653b014c44513aeb830675d847399": {
      "model_module": "@jupyter-widgets/controls",
      "model_module_version": "1.5.0",
      "model_name": "DescriptionStyleModel",
      "state": {
       "description_width": ""
      }
     },
     "50266bb2aed5407786baf4dc24eed7eb": {
      "model_module": "@jupyter-widgets/output",
      "model_module_version": "1.0.0",
      "model_name": "OutputModel",
      "state": {
       "layout": "IPY_MODEL_b15094168a834d53aa033b8a8d96f7de",
       "outputs": [
        {
         "data": {
          "application/vnd.jupyter.widget-view+json": {
           "model_id": "",
           "version_major": 2,
           "version_minor": 0
          },
          "text/plain": "HTML(value='<strong>Top Agencies using Infrastructure & Emergency Relief Projects</strong>')"
         },
         "metadata": {},
         "output_type": "display_data"
        },
        {
         "data": {
          "text/html": "<style type=\"text/css\">\n</style>\n<table id=\"T_133df\">\n  <thead>\n    <tr>\n      <th class=\"blank level0\" >&nbsp;</th>\n      <th id=\"T_133df_level0_col0\" class=\"col_heading level0 col0\" >Agency</th>\n      <th id=\"T_133df_level0_col1\" class=\"col_heading level0 col1\" >Infrastructure & Emergency Relief Obligations</th>\n      <th id=\"T_133df_level0_col2\" class=\"col_heading level0 col2\" >Percent of Category</th>\n    </tr>\n  </thead>\n  <tbody>\n    <tr>\n      <th id=\"T_133df_level0_row0\" class=\"row_heading level0 row0\" >0</th>\n      <td id=\"T_133df_row0_col0\" class=\"data row0 col0\" >Contra Costa County</td>\n      <td id=\"T_133df_row0_col1\" class=\"data row0 col1\" >102</td>\n      <td id=\"T_133df_row0_col2\" class=\"data row0 col2\" >5.21%</td>\n    </tr>\n    <tr>\n      <th id=\"T_133df_level0_row1\" class=\"row_heading level0 row1\" >1</th>\n      <td id=\"T_133df_row1_col0\" class=\"data row1 col0\" >Napa County</td>\n      <td id=\"T_133df_row1_col1\" class=\"data row1 col1\" >88</td>\n      <td id=\"T_133df_row1_col2\" class=\"data row1 col2\" >4.50%</td>\n    </tr>\n    <tr>\n      <th id=\"T_133df_level0_row2\" class=\"row_heading level0 row2\" >2</th>\n      <td id=\"T_133df_row2_col0\" class=\"data row2 col0\" >Santa Clara County</td>\n      <td id=\"T_133df_row2_col1\" class=\"data row2 col1\" >82</td>\n      <td id=\"T_133df_row2_col2\" class=\"data row2 col2\" >4.19%</td>\n    </tr>\n    <tr>\n      <th id=\"T_133df_level0_row3\" class=\"row_heading level0 row3\" >3</th>\n      <td id=\"T_133df_row3_col0\" class=\"data row3 col0\" >Sonoma County</td>\n      <td id=\"T_133df_row3_col1\" class=\"data row3 col1\" >71</td>\n      <td id=\"T_133df_row3_col2\" class=\"data row3 col2\" >3.63%</td>\n    </tr>\n    <tr>\n      <th id=\"T_133df_level0_row4\" class=\"row_heading level0 row4\" >4</th>\n      <td id=\"T_133df_row4_col0\" class=\"data row4 col0\" >Oakland</td>\n      <td id=\"T_133df_row4_col1\" class=\"data row4 col1\" >70</td>\n      <td id=\"T_133df_row4_col2\" class=\"data row4 col2\" >3.58%</td>\n    </tr>\n  </tbody>\n</table>\n",
          "text/plain": "<pandas.io.formats.style.Styler at 0x7f605e22a0a0>"
         },
         "metadata": {},
         "output_type": "display_data"
        },
        {
         "data": {
          "text/html": "\n<div id=\"altair-viz-be2ce3aeb4184cbd823697eb83bc8b34\"></div>\n<script type=\"text/javascript\">\n  var VEGA_DEBUG = (typeof VEGA_DEBUG == \"undefined\") ? {} : VEGA_DEBUG;\n  (function(spec, embedOpt){\n    let outputDiv = document.currentScript.previousElementSibling;\n    if (outputDiv.id !== \"altair-viz-be2ce3aeb4184cbd823697eb83bc8b34\") {\n      outputDiv = document.getElementById(\"altair-viz-be2ce3aeb4184cbd823697eb83bc8b34\");\n    }\n    const paths = {\n      \"vega\": \"https://cdn.jsdelivr.net/npm//vega@5?noext\",\n      \"vega-lib\": \"https://cdn.jsdelivr.net/npm//vega-lib?noext\",\n      \"vega-lite\": \"https://cdn.jsdelivr.net/npm//vega-lite@4.17.0?noext\",\n      \"vega-embed\": \"https://cdn.jsdelivr.net/npm//vega-embed@6?noext\",\n    };\n\n    function maybeLoadScript(lib, version) {\n      var key = `${lib.replace(\"-\", \"\")}_version`;\n      return (VEGA_DEBUG[key] == version) ?\n        Promise.resolve(paths[lib]) :\n        new Promise(function(resolve, reject) {\n          var s = document.createElement('script');\n          document.getElementsByTagName(\"head\")[0].appendChild(s);\n          s.async = true;\n          s.onload = () => {\n            VEGA_DEBUG[key] = version;\n            return resolve(paths[lib]);\n          };\n          s.onerror = () => reject(`Error loading script: ${paths[lib]}`);\n          s.src = paths[lib];\n        });\n    }\n\n    function showError(err) {\n      outputDiv.innerHTML = `<div class=\"error\" style=\"color:red;\">${err}</div>`;\n      throw err;\n    }\n\n    function displayChart(vegaEmbed) {\n      vegaEmbed(outputDiv, spec, embedOpt)\n        .catch(err => showError(`Javascript Error: ${err.message}<br>This usually means there's a typo in your chart specification. See the javascript console for the full traceback.`));\n    }\n\n    if(typeof define === \"function\" && define.amd) {\n      requirejs.config({paths});\n      require([\"vega-embed\"], displayChart, err => showError(`Error loading script: ${err.message}`));\n    } else {\n      maybeLoadScript(\"vega\", \"5\")\n        .then(() => maybeLoadScript(\"vega-lite\", \"4.17.0\"))\n        .then(() => maybeLoadScript(\"vega-embed\", \"6\"))\n        .catch(showError)\n        .then(() => displayChart(vegaEmbed));\n    }\n  })({\"config\": {\"view\": {\"continuousWidth\": 400, \"continuousHeight\": 300}}, \"data\": {\"name\": \"data-f0cad226c95a51748334db9fe2ae4c0a\"}, \"mark\": \"bar\", \"encoding\": {\"color\": {\"field\": \"Categories\", \"scale\": {\"range\": [\"#2EA8CE\", \"#EB9F3C\", \"#F4D837\", \"#51BF9D\", \"#8CBCCB\", \"#9487C0\"]}, \"type\": \"nominal\"}, \"row\": {\"field\": \"Categories\", \"type\": \"nominal\"}, \"tooltip\": [{\"field\": \"Agency\", \"type\": \"nominal\"}, {\"field\": \"Funding Amount\", \"type\": \"quantitative\"}], \"x\": {\"axis\": {\"format\": \"$.2s\", \"title\": \"Obligated Funding ($2021)\"}, \"field\": \"Funding Amount\", \"type\": \"quantitative\"}, \"y\": {\"field\": \"Agency\", \"type\": \"nominal\"}}, \"$schema\": \"https://vega.github.io/schema/vega-lite/v4.17.0.json\", \"datasets\": {\"data-f0cad226c95a51748334db9fe2ae4c0a\": [{\"Agency\": \"Contra Costa County\", \"Categories\": \"Total Requested\", \"Funding Amount\": 852412.8986917532}, {\"Agency\": \"Napa County\", \"Categories\": \"Total Requested\", \"Funding Amount\": 290127.23106307245}, {\"Agency\": \"Santa Clara County\", \"Categories\": \"Total Requested\", \"Funding Amount\": 672624.8283425933}, {\"Agency\": \"Sonoma County\", \"Categories\": \"Total Requested\", \"Funding Amount\": 648775.690347322}, {\"Agency\": \"Oakland\", \"Categories\": \"Total Requested\", \"Funding Amount\": 1543864.847788699}, {\"Agency\": \"Contra Costa County\", \"Categories\": \"Fed Requested\", \"Funding Amount\": 637082.1190394674}, {\"Agency\": \"Napa County\", \"Categories\": \"Fed Requested\", \"Funding Amount\": 254382.40987557478}, {\"Agency\": \"Santa Clara County\", \"Categories\": \"Fed Requested\", \"Funding Amount\": 568961.2217746255}, {\"Agency\": \"Sonoma County\", \"Categories\": \"Fed Requested\", \"Funding Amount\": 488154.49796102184}, {\"Agency\": \"Oakland\", \"Categories\": \"Fed Requested\", \"Funding Amount\": 1123344.3663603195}, {\"Agency\": \"Contra Costa County\", \"Categories\": \"AC Requested\", \"Funding Amount\": 46442.64603194262}, {\"Agency\": \"Napa County\", \"Categories\": \"AC Requested\", \"Funding Amount\": 4926.44569571146}, {\"Agency\": \"Santa Clara County\", \"Categories\": \"AC Requested\", \"Funding Amount\": 4141.262730127382}, {\"Agency\": \"Sonoma County\", \"Categories\": \"AC Requested\", \"Funding Amount\": 63056.74152049417}, {\"Agency\": \"Oakland\", \"Categories\": \"AC Requested\", \"Funding Amount\": 0.0}]}}, {\"mode\": \"vega-lite\"});\n</script>",
          "text/plain": "alt.Chart(...)"
         },
         "metadata": {},
         "output_type": "display_data"
        }
       ]
      }
     },
     "503092c141f44bb6bd033dbfcca21df1": {
      "model_module": "@jupyter-widgets/controls",
      "model_module_version": "1.5.0",
      "model_name": "DescriptionStyleModel",
      "state": {
       "description_width": ""
      }
     },
     "5124ad116aa849e8a19ffd19a314cef6": {
      "model_module": "@jupyter-widgets/base",
      "model_module_version": "1.2.0",
      "model_name": "LayoutModel",
      "state": {}
     },
     "5294e81f46084e4e8d2dffc5ad9fadc6": {
      "model_module": "@jupyter-widgets/controls",
      "model_module_version": "1.5.0",
      "model_name": "DescriptionStyleModel",
      "state": {
       "description_width": ""
      }
     },
     "52e911edb515446784f1f20f9a663dfd": {
      "model_module": "@jupyter-widgets/base",
      "model_module_version": "1.2.0",
      "model_name": "LayoutModel",
      "state": {}
     },
     "53da1e5fc6a24203a80963bd2ff436ee": {
      "model_module": "@jupyter-widgets/base",
      "model_module_version": "1.2.0",
      "model_name": "LayoutModel",
      "state": {}
     },
     "5400204a02224054bc29df8b2d496a9f": {
      "model_module": "@jupyter-widgets/base",
      "model_module_version": "1.2.0",
      "model_name": "LayoutModel",
      "state": {}
     },
     "541c75de70a3441c94da9893c122c5c1": {
      "model_module": "@jupyter-widgets/base",
      "model_module_version": "1.2.0",
      "model_name": "LayoutModel",
      "state": {}
     },
     "54337928678a44118990b8a04babdbd0": {
      "model_module": "@jupyter-widgets/base",
      "model_module_version": "1.2.0",
      "model_name": "LayoutModel",
      "state": {}
     },
     "54f25cad5a7640c58e3c17d515f0ac5a": {
      "model_module": "@jupyter-widgets/output",
      "model_module_version": "1.0.0",
      "model_name": "OutputModel",
      "state": {
       "layout": "IPY_MODEL_094730d47cc847d5b44a9f2de4dc2d25",
       "outputs": [
        {
         "data": {
          "application/vnd.jupyter.widget-view+json": {
           "model_id": "",
           "version_major": 2,
           "version_minor": 0
          },
          "text/plain": "HTML(value='<strong>Top Agencies using Infrastructure & Emergency Relief Projects</strong>')"
         },
         "metadata": {},
         "output_type": "display_data"
        },
        {
         "data": {
          "text/html": "<style type=\"text/css\">\n</style>\n<table id=\"T_912d6\">\n  <thead>\n    <tr>\n      <th class=\"blank level0\" >&nbsp;</th>\n      <th id=\"T_912d6_level0_col0\" class=\"col_heading level0 col0\" >Agency</th>\n      <th id=\"T_912d6_level0_col1\" class=\"col_heading level0 col1\" >Infrastructure & Emergency Relief Obligations</th>\n      <th id=\"T_912d6_level0_col2\" class=\"col_heading level0 col2\" >Percent of Category</th>\n    </tr>\n  </thead>\n  <tbody>\n    <tr>\n      <th id=\"T_912d6_level0_row0\" class=\"row_heading level0 row0\" >0</th>\n      <td id=\"T_912d6_row0_col0\" class=\"data row0 col0\" >Los Angeles County</td>\n      <td id=\"T_912d6_row0_col1\" class=\"data row0 col1\" >314</td>\n      <td id=\"T_912d6_row0_col2\" class=\"data row0 col2\" >20.84%</td>\n    </tr>\n    <tr>\n      <th id=\"T_912d6_level0_row1\" class=\"row_heading level0 row1\" >1</th>\n      <td id=\"T_912d6_row1_col0\" class=\"data row1 col0\" >Los Angeles</td>\n      <td id=\"T_912d6_row1_col1\" class=\"data row1 col1\" >219</td>\n      <td id=\"T_912d6_row1_col2\" class=\"data row1 col2\" >14.53%</td>\n    </tr>\n    <tr>\n      <th id=\"T_912d6_level0_row2\" class=\"row_heading level0 row2\" >2</th>\n      <td id=\"T_912d6_row2_col0\" class=\"data row2 col0\" >Los Angeles County Metropolitan Transportation Authority</td>\n      <td id=\"T_912d6_row2_col1\" class=\"data row2 col1\" >71</td>\n      <td id=\"T_912d6_row2_col2\" class=\"data row2 col2\" >4.71%</td>\n    </tr>\n    <tr>\n      <th id=\"T_912d6_level0_row3\" class=\"row_heading level0 row3\" >3</th>\n      <td id=\"T_912d6_row3_col0\" class=\"data row3 col0\" >Ventura County</td>\n      <td id=\"T_912d6_row3_col1\" class=\"data row3 col1\" >55</td>\n      <td id=\"T_912d6_row3_col2\" class=\"data row3 col2\" >3.65%</td>\n    </tr>\n    <tr>\n      <th id=\"T_912d6_level0_row4\" class=\"row_heading level0 row4\" >4</th>\n      <td id=\"T_912d6_row4_col0\" class=\"data row4 col0\" >Long Beach</td>\n      <td id=\"T_912d6_row4_col1\" class=\"data row4 col1\" >54</td>\n      <td id=\"T_912d6_row4_col2\" class=\"data row4 col2\" >3.58%</td>\n    </tr>\n  </tbody>\n</table>\n",
          "text/plain": "<pandas.io.formats.style.Styler at 0x7f605e8f7400>"
         },
         "metadata": {},
         "output_type": "display_data"
        },
        {
         "data": {
          "text/html": "\n<div id=\"altair-viz-37cce7dfefbf4b149b8e87416fbbc657\"></div>\n<script type=\"text/javascript\">\n  var VEGA_DEBUG = (typeof VEGA_DEBUG == \"undefined\") ? {} : VEGA_DEBUG;\n  (function(spec, embedOpt){\n    let outputDiv = document.currentScript.previousElementSibling;\n    if (outputDiv.id !== \"altair-viz-37cce7dfefbf4b149b8e87416fbbc657\") {\n      outputDiv = document.getElementById(\"altair-viz-37cce7dfefbf4b149b8e87416fbbc657\");\n    }\n    const paths = {\n      \"vega\": \"https://cdn.jsdelivr.net/npm//vega@5?noext\",\n      \"vega-lib\": \"https://cdn.jsdelivr.net/npm//vega-lib?noext\",\n      \"vega-lite\": \"https://cdn.jsdelivr.net/npm//vega-lite@4.17.0?noext\",\n      \"vega-embed\": \"https://cdn.jsdelivr.net/npm//vega-embed@6?noext\",\n    };\n\n    function maybeLoadScript(lib, version) {\n      var key = `${lib.replace(\"-\", \"\")}_version`;\n      return (VEGA_DEBUG[key] == version) ?\n        Promise.resolve(paths[lib]) :\n        new Promise(function(resolve, reject) {\n          var s = document.createElement('script');\n          document.getElementsByTagName(\"head\")[0].appendChild(s);\n          s.async = true;\n          s.onload = () => {\n            VEGA_DEBUG[key] = version;\n            return resolve(paths[lib]);\n          };\n          s.onerror = () => reject(`Error loading script: ${paths[lib]}`);\n          s.src = paths[lib];\n        });\n    }\n\n    function showError(err) {\n      outputDiv.innerHTML = `<div class=\"error\" style=\"color:red;\">${err}</div>`;\n      throw err;\n    }\n\n    function displayChart(vegaEmbed) {\n      vegaEmbed(outputDiv, spec, embedOpt)\n        .catch(err => showError(`Javascript Error: ${err.message}<br>This usually means there's a typo in your chart specification. See the javascript console for the full traceback.`));\n    }\n\n    if(typeof define === \"function\" && define.amd) {\n      requirejs.config({paths});\n      require([\"vega-embed\"], displayChart, err => showError(`Error loading script: ${err.message}`));\n    } else {\n      maybeLoadScript(\"vega\", \"5\")\n        .then(() => maybeLoadScript(\"vega-lite\", \"4.17.0\"))\n        .then(() => maybeLoadScript(\"vega-embed\", \"6\"))\n        .catch(showError)\n        .then(() => displayChart(vegaEmbed));\n    }\n  })({\"config\": {\"view\": {\"continuousWidth\": 400, \"continuousHeight\": 300}}, \"data\": {\"name\": \"data-dfbfb96e17672e7698711d2acce5a0fe\"}, \"mark\": \"bar\", \"encoding\": {\"color\": {\"field\": \"Categories\", \"scale\": {\"range\": [\"#2EA8CE\", \"#EB9F3C\", \"#F4D837\", \"#51BF9D\", \"#8CBCCB\", \"#9487C0\"]}, \"type\": \"nominal\"}, \"row\": {\"field\": \"Categories\", \"type\": \"nominal\"}, \"tooltip\": [{\"field\": \"Agency\", \"type\": \"nominal\"}, {\"field\": \"Funding Amount\", \"type\": \"quantitative\"}], \"x\": {\"axis\": {\"format\": \"$.2s\", \"title\": \"Obligated Funding ($2021)\"}, \"field\": \"Funding Amount\", \"type\": \"quantitative\"}, \"y\": {\"field\": \"Agency\", \"type\": \"nominal\"}}, \"$schema\": \"https://vega.github.io/schema/vega-lite/v4.17.0.json\", \"datasets\": {\"data-dfbfb96e17672e7698711d2acce5a0fe\": [{\"Agency\": \"Los Angeles County\", \"Categories\": \"Total Requested\", \"Funding Amount\": 460606.74290309753}, {\"Agency\": \"Los Angeles\", \"Categories\": \"Total Requested\", \"Funding Amount\": 1592515.5363597213}, {\"Agency\": \"Los Angeles County Metropolitan Transportation Authority\", \"Categories\": \"Total Requested\", \"Funding Amount\": 18947715.22699036}, {\"Agency\": \"Ventura County\", \"Categories\": \"Total Requested\", \"Funding Amount\": 303662.8475177181}, {\"Agency\": \"Long Beach\", \"Categories\": \"Total Requested\", \"Funding Amount\": 7204965.341115841}, {\"Agency\": \"Los Angeles County\", \"Categories\": \"Fed Requested\", \"Funding Amount\": 336427.15761917}, {\"Agency\": \"Los Angeles\", \"Categories\": \"Fed Requested\", \"Funding Amount\": 1078997.7005355777}, {\"Agency\": \"Los Angeles County Metropolitan Transportation Authority\", \"Categories\": \"Fed Requested\", \"Funding Amount\": 11719603.50224579}, {\"Agency\": \"Ventura County\", \"Categories\": \"Fed Requested\", \"Funding Amount\": 218806.18149303418}, {\"Agency\": \"Long Beach\", \"Categories\": \"Fed Requested\", \"Funding Amount\": 1220045.9874689574}, {\"Agency\": \"Los Angeles County\", \"Categories\": \"AC Requested\", \"Funding Amount\": 12867.63130649818}, {\"Agency\": \"Los Angeles\", \"Categories\": \"AC Requested\", \"Funding Amount\": 155602.3652872967}, {\"Agency\": \"Los Angeles County Metropolitan Transportation Authority\", \"Categories\": \"AC Requested\", \"Funding Amount\": 0.0}, {\"Agency\": \"Ventura County\", \"Categories\": \"AC Requested\", \"Funding Amount\": 0.0}, {\"Agency\": \"Long Beach\", \"Categories\": \"AC Requested\", \"Funding Amount\": 0.0}]}}, {\"mode\": \"vega-lite\"});\n</script>",
          "text/plain": "alt.Chart(...)"
         },
         "metadata": {},
         "output_type": "display_data"
        }
       ]
      }
     },
     "550b3550d5264fe2a543c78dfd495982": {
      "model_module": "@jupyter-widgets/controls",
      "model_module_version": "1.5.0",
      "model_name": "DescriptionStyleModel",
      "state": {
       "description_width": ""
      }
     },
     "552c0cbd0bcd4ecbb1cf778914d09fcc": {
      "model_module": "@jupyter-widgets/base",
      "model_module_version": "1.2.0",
      "model_name": "LayoutModel",
      "state": {}
     },
     "5559998af2a34c068be6af4c51e4e598": {
      "model_module": "@jupyter-widgets/base",
      "model_module_version": "1.2.0",
      "model_name": "LayoutModel",
      "state": {}
     },
     "55b49dff282a40b881d1bd06db01fe53": {
      "model_module": "@jupyter-widgets/base",
      "model_module_version": "1.2.0",
      "model_name": "LayoutModel",
      "state": {}
     },
     "56305d7b2a0b4026b4b6bb1ae4bd74fd": {
      "model_module": "@jupyter-widgets/base",
      "model_module_version": "1.2.0",
      "model_name": "LayoutModel",
      "state": {}
     },
     "56b874a8028547f9b88b5398ddb2bac9": {
      "model_module": "@jupyter-widgets/output",
      "model_module_version": "1.0.0",
      "model_name": "OutputModel",
      "state": {
       "layout": "IPY_MODEL_5124ad116aa849e8a19ffd19a314cef6",
       "outputs": [
        {
         "data": {
          "application/vnd.jupyter.widget-view+json": {
           "model_id": "",
           "version_major": 2,
           "version_minor": 0
          },
          "text/plain": "HTML(value='<strong>Top Agencies using Street Projects</strong>')"
         },
         "metadata": {},
         "output_type": "display_data"
        },
        {
         "data": {
          "text/html": "<style type=\"text/css\">\n</style>\n<table id=\"T_964c7\">\n  <thead>\n    <tr>\n      <th class=\"blank level0\" >&nbsp;</th>\n      <th id=\"T_964c7_level0_col0\" class=\"col_heading level0 col0\" >Agency</th>\n      <th id=\"T_964c7_level0_col1\" class=\"col_heading level0 col1\" >Street Obligations</th>\n      <th id=\"T_964c7_level0_col2\" class=\"col_heading level0 col2\" >Percent of Category</th>\n    </tr>\n  </thead>\n  <tbody>\n    <tr>\n      <th id=\"T_964c7_level0_row0\" class=\"row_heading level0 row0\" >0</th>\n      <td id=\"T_964c7_row0_col0\" class=\"data row0 col0\" >Oakland</td>\n      <td id=\"T_964c7_row0_col1\" class=\"data row0 col1\" >82</td>\n      <td id=\"T_964c7_row0_col2\" class=\"data row0 col2\" >6.23%</td>\n    </tr>\n    <tr>\n      <th id=\"T_964c7_level0_row1\" class=\"row_heading level0 row1\" >1</th>\n      <td id=\"T_964c7_row1_col0\" class=\"data row1 col0\" >Contra Costa County</td>\n      <td id=\"T_964c7_row1_col1\" class=\"data row1 col1\" >81</td>\n      <td id=\"T_964c7_row1_col2\" class=\"data row1 col2\" >6.15%</td>\n    </tr>\n    <tr>\n      <th id=\"T_964c7_level0_row2\" class=\"row_heading level0 row2\" >2</th>\n      <td id=\"T_964c7_row2_col0\" class=\"data row2 col0\" >San Jose</td>\n      <td id=\"T_964c7_row2_col1\" class=\"data row2 col1\" >66</td>\n      <td id=\"T_964c7_row2_col2\" class=\"data row2 col2\" >5.01%</td>\n    </tr>\n    <tr>\n      <th id=\"T_964c7_level0_row3\" class=\"row_heading level0 row3\" >3</th>\n      <td id=\"T_964c7_row3_col0\" class=\"data row3 col0\" >San Francisco County</td>\n      <td id=\"T_964c7_row3_col1\" class=\"data row3 col1\" >45</td>\n      <td id=\"T_964c7_row3_col2\" class=\"data row3 col2\" >3.42%</td>\n    </tr>\n    <tr>\n      <th id=\"T_964c7_level0_row4\" class=\"row_heading level0 row4\" >4</th>\n      <td id=\"T_964c7_row4_col0\" class=\"data row4 col0\" >Sunnyvale</td>\n      <td id=\"T_964c7_row4_col1\" class=\"data row4 col1\" >45</td>\n      <td id=\"T_964c7_row4_col2\" class=\"data row4 col2\" >3.42%</td>\n    </tr>\n  </tbody>\n</table>\n",
          "text/plain": "<pandas.io.formats.style.Styler at 0x7f605d034d00>"
         },
         "metadata": {},
         "output_type": "display_data"
        },
        {
         "data": {
          "text/html": "\n<div id=\"altair-viz-a334c1f089aa4cc798ca524225b6e070\"></div>\n<script type=\"text/javascript\">\n  var VEGA_DEBUG = (typeof VEGA_DEBUG == \"undefined\") ? {} : VEGA_DEBUG;\n  (function(spec, embedOpt){\n    let outputDiv = document.currentScript.previousElementSibling;\n    if (outputDiv.id !== \"altair-viz-a334c1f089aa4cc798ca524225b6e070\") {\n      outputDiv = document.getElementById(\"altair-viz-a334c1f089aa4cc798ca524225b6e070\");\n    }\n    const paths = {\n      \"vega\": \"https://cdn.jsdelivr.net/npm//vega@5?noext\",\n      \"vega-lib\": \"https://cdn.jsdelivr.net/npm//vega-lib?noext\",\n      \"vega-lite\": \"https://cdn.jsdelivr.net/npm//vega-lite@4.17.0?noext\",\n      \"vega-embed\": \"https://cdn.jsdelivr.net/npm//vega-embed@6?noext\",\n    };\n\n    function maybeLoadScript(lib, version) {\n      var key = `${lib.replace(\"-\", \"\")}_version`;\n      return (VEGA_DEBUG[key] == version) ?\n        Promise.resolve(paths[lib]) :\n        new Promise(function(resolve, reject) {\n          var s = document.createElement('script');\n          document.getElementsByTagName(\"head\")[0].appendChild(s);\n          s.async = true;\n          s.onload = () => {\n            VEGA_DEBUG[key] = version;\n            return resolve(paths[lib]);\n          };\n          s.onerror = () => reject(`Error loading script: ${paths[lib]}`);\n          s.src = paths[lib];\n        });\n    }\n\n    function showError(err) {\n      outputDiv.innerHTML = `<div class=\"error\" style=\"color:red;\">${err}</div>`;\n      throw err;\n    }\n\n    function displayChart(vegaEmbed) {\n      vegaEmbed(outputDiv, spec, embedOpt)\n        .catch(err => showError(`Javascript Error: ${err.message}<br>This usually means there's a typo in your chart specification. See the javascript console for the full traceback.`));\n    }\n\n    if(typeof define === \"function\" && define.amd) {\n      requirejs.config({paths});\n      require([\"vega-embed\"], displayChart, err => showError(`Error loading script: ${err.message}`));\n    } else {\n      maybeLoadScript(\"vega\", \"5\")\n        .then(() => maybeLoadScript(\"vega-lite\", \"4.17.0\"))\n        .then(() => maybeLoadScript(\"vega-embed\", \"6\"))\n        .catch(showError)\n        .then(() => displayChart(vegaEmbed));\n    }\n  })({\"config\": {\"view\": {\"continuousWidth\": 400, \"continuousHeight\": 300}}, \"data\": {\"name\": \"data-2d34081fc3d7ba7c3cd8f495e86d10d3\"}, \"mark\": \"bar\", \"encoding\": {\"color\": {\"field\": \"Categories\", \"scale\": {\"range\": [\"#2EA8CE\", \"#EB9F3C\", \"#F4D837\", \"#51BF9D\", \"#8CBCCB\", \"#9487C0\"]}, \"type\": \"nominal\"}, \"row\": {\"field\": \"Categories\", \"type\": \"nominal\"}, \"tooltip\": [{\"field\": \"Agency\", \"type\": \"nominal\"}, {\"field\": \"Funding Amount\", \"type\": \"quantitative\"}], \"x\": {\"axis\": {\"format\": \"$.2s\", \"title\": \"Obligated Funding ($2021)\"}, \"field\": \"Funding Amount\", \"type\": \"quantitative\"}, \"y\": {\"field\": \"Agency\", \"type\": \"nominal\"}}, \"$schema\": \"https://vega.github.io/schema/vega-lite/v4.17.0.json\", \"datasets\": {\"data-2d34081fc3d7ba7c3cd8f495e86d10d3\": [{\"Agency\": \"Oakland\", \"Categories\": \"Total Requested\", \"Funding Amount\": 956510.9982220907}, {\"Agency\": \"Contra Costa County\", \"Categories\": \"Total Requested\", \"Funding Amount\": 623295.6954156285}, {\"Agency\": \"San Jose\", \"Categories\": \"Total Requested\", \"Funding Amount\": 1164523.0377909504}, {\"Agency\": \"San Francisco County\", \"Categories\": \"Total Requested\", \"Funding Amount\": 4830086.66271812}, {\"Agency\": \"Sunnyvale\", \"Categories\": \"Total Requested\", \"Funding Amount\": 263230.4439052576}, {\"Agency\": \"Oakland\", \"Categories\": \"Fed Requested\", \"Funding Amount\": 666584.6247971884}, {\"Agency\": \"Contra Costa County\", \"Categories\": \"Fed Requested\", \"Funding Amount\": 425612.567296328}, {\"Agency\": \"San Jose\", \"Categories\": \"Fed Requested\", \"Funding Amount\": 949104.6690137495}, {\"Agency\": \"San Francisco County\", \"Categories\": \"Fed Requested\", \"Funding Amount\": 596351.3825193458}, {\"Agency\": \"Sunnyvale\", \"Categories\": \"Fed Requested\", \"Funding Amount\": 218961.48645088891}, {\"Agency\": \"Oakland\", \"Categories\": \"AC Requested\", \"Funding Amount\": 0.0}, {\"Agency\": \"Contra Costa County\", \"Categories\": \"AC Requested\", \"Funding Amount\": 229.00333419290047}, {\"Agency\": \"San Jose\", \"Categories\": \"AC Requested\", \"Funding Amount\": 0.0}, {\"Agency\": \"San Francisco County\", \"Categories\": \"AC Requested\", \"Funding Amount\": 3762.4890021642877}, {\"Agency\": \"Sunnyvale\", \"Categories\": \"AC Requested\", \"Funding Amount\": 0.0}]}}, {\"mode\": \"vega-lite\"});\n</script>",
          "text/plain": "alt.Chart(...)"
         },
         "metadata": {},
         "output_type": "display_data"
        }
       ]
      }
     },
     "56c918d88dcd4ed0aa98c96c2e2ec100": {
      "model_module": "@jupyter-widgets/output",
      "model_module_version": "1.0.0",
      "model_name": "OutputModel",
      "state": {
       "layout": "IPY_MODEL_c8e75df87b604db6a4f3c76e1c908a20",
       "outputs": [
        {
         "data": {
          "application/vnd.jupyter.widget-view+json": {
           "model_id": "",
           "version_major": 2,
           "version_minor": 0
          },
          "text/plain": "HTML(value='<strong>Top Agencies using Bridge Projects</strong>')"
         },
         "metadata": {},
         "output_type": "display_data"
        },
        {
         "data": {
          "text/html": "<style type=\"text/css\">\n</style>\n<table id=\"T_95e21\">\n  <thead>\n    <tr>\n      <th class=\"blank level0\" >&nbsp;</th>\n      <th id=\"T_95e21_level0_col0\" class=\"col_heading level0 col0\" >Agency</th>\n      <th id=\"T_95e21_level0_col1\" class=\"col_heading level0 col1\" >Bridge Obligations</th>\n      <th id=\"T_95e21_level0_col2\" class=\"col_heading level0 col2\" >Percent of Category</th>\n    </tr>\n  </thead>\n  <tbody>\n    <tr>\n      <th id=\"T_95e21_level0_row0\" class=\"row_heading level0 row0\" >0</th>\n      <td id=\"T_95e21_row0_col0\" class=\"data row0 col0\" >Santa Clara County</td>\n      <td id=\"T_95e21_row0_col1\" class=\"data row0 col1\" >68</td>\n      <td id=\"T_95e21_row0_col2\" class=\"data row0 col2\" >14.17%</td>\n    </tr>\n    <tr>\n      <th id=\"T_95e21_level0_row1\" class=\"row_heading level0 row1\" >1</th>\n      <td id=\"T_95e21_row1_col0\" class=\"data row1 col0\" >Contra Costa County</td>\n      <td id=\"T_95e21_row1_col1\" class=\"data row1 col1\" >44</td>\n      <td id=\"T_95e21_row1_col2\" class=\"data row1 col2\" >9.17%</td>\n    </tr>\n    <tr>\n      <th id=\"T_95e21_level0_row2\" class=\"row_heading level0 row2\" >2</th>\n      <td id=\"T_95e21_row2_col0\" class=\"data row2 col0\" >Sonoma County</td>\n      <td id=\"T_95e21_row2_col1\" class=\"data row2 col1\" >34</td>\n      <td id=\"T_95e21_row2_col2\" class=\"data row2 col2\" >7.08%</td>\n    </tr>\n    <tr>\n      <th id=\"T_95e21_level0_row3\" class=\"row_heading level0 row3\" >3</th>\n      <td id=\"T_95e21_row3_col0\" class=\"data row3 col0\" >Napa County</td>\n      <td id=\"T_95e21_row3_col1\" class=\"data row3 col1\" >25</td>\n      <td id=\"T_95e21_row3_col2\" class=\"data row3 col2\" >5.21%</td>\n    </tr>\n    <tr>\n      <th id=\"T_95e21_level0_row4\" class=\"row_heading level0 row4\" >4</th>\n      <td id=\"T_95e21_row4_col0\" class=\"data row4 col0\" >Oakland</td>\n      <td id=\"T_95e21_row4_col1\" class=\"data row4 col1\" >22</td>\n      <td id=\"T_95e21_row4_col2\" class=\"data row4 col2\" >4.58%</td>\n    </tr>\n  </tbody>\n</table>\n",
          "text/plain": "<pandas.io.formats.style.Styler at 0x7f605e0b7b20>"
         },
         "metadata": {},
         "output_type": "display_data"
        },
        {
         "data": {
          "text/html": "\n<div id=\"altair-viz-c391552b2d6447d484b6b93a2d44455c\"></div>\n<script type=\"text/javascript\">\n  var VEGA_DEBUG = (typeof VEGA_DEBUG == \"undefined\") ? {} : VEGA_DEBUG;\n  (function(spec, embedOpt){\n    let outputDiv = document.currentScript.previousElementSibling;\n    if (outputDiv.id !== \"altair-viz-c391552b2d6447d484b6b93a2d44455c\") {\n      outputDiv = document.getElementById(\"altair-viz-c391552b2d6447d484b6b93a2d44455c\");\n    }\n    const paths = {\n      \"vega\": \"https://cdn.jsdelivr.net/npm//vega@5?noext\",\n      \"vega-lib\": \"https://cdn.jsdelivr.net/npm//vega-lib?noext\",\n      \"vega-lite\": \"https://cdn.jsdelivr.net/npm//vega-lite@4.17.0?noext\",\n      \"vega-embed\": \"https://cdn.jsdelivr.net/npm//vega-embed@6?noext\",\n    };\n\n    function maybeLoadScript(lib, version) {\n      var key = `${lib.replace(\"-\", \"\")}_version`;\n      return (VEGA_DEBUG[key] == version) ?\n        Promise.resolve(paths[lib]) :\n        new Promise(function(resolve, reject) {\n          var s = document.createElement('script');\n          document.getElementsByTagName(\"head\")[0].appendChild(s);\n          s.async = true;\n          s.onload = () => {\n            VEGA_DEBUG[key] = version;\n            return resolve(paths[lib]);\n          };\n          s.onerror = () => reject(`Error loading script: ${paths[lib]}`);\n          s.src = paths[lib];\n        });\n    }\n\n    function showError(err) {\n      outputDiv.innerHTML = `<div class=\"error\" style=\"color:red;\">${err}</div>`;\n      throw err;\n    }\n\n    function displayChart(vegaEmbed) {\n      vegaEmbed(outputDiv, spec, embedOpt)\n        .catch(err => showError(`Javascript Error: ${err.message}<br>This usually means there's a typo in your chart specification. See the javascript console for the full traceback.`));\n    }\n\n    if(typeof define === \"function\" && define.amd) {\n      requirejs.config({paths});\n      require([\"vega-embed\"], displayChart, err => showError(`Error loading script: ${err.message}`));\n    } else {\n      maybeLoadScript(\"vega\", \"5\")\n        .then(() => maybeLoadScript(\"vega-lite\", \"4.17.0\"))\n        .then(() => maybeLoadScript(\"vega-embed\", \"6\"))\n        .catch(showError)\n        .then(() => displayChart(vegaEmbed));\n    }\n  })({\"config\": {\"view\": {\"continuousWidth\": 400, \"continuousHeight\": 300}}, \"data\": {\"name\": \"data-4ca6a40ed7566d9b16a25b6db2a09b51\"}, \"mark\": \"bar\", \"encoding\": {\"color\": {\"field\": \"Categories\", \"scale\": {\"range\": [\"#2EA8CE\", \"#EB9F3C\", \"#F4D837\", \"#51BF9D\", \"#8CBCCB\", \"#9487C0\"]}, \"type\": \"nominal\"}, \"row\": {\"field\": \"Categories\", \"type\": \"nominal\"}, \"tooltip\": [{\"field\": \"Agency\", \"type\": \"nominal\"}, {\"field\": \"Funding Amount\", \"type\": \"quantitative\"}], \"x\": {\"axis\": {\"format\": \"$.2s\", \"title\": \"Obligated Funding ($2021)\"}, \"field\": \"Funding Amount\", \"type\": \"quantitative\"}, \"y\": {\"field\": \"Agency\", \"type\": \"nominal\"}}, \"$schema\": \"https://vega.github.io/schema/vega-lite/v4.17.0.json\", \"datasets\": {\"data-4ca6a40ed7566d9b16a25b6db2a09b51\": [{\"Agency\": \"Santa Clara County\", \"Categories\": \"Total Requested\", \"Funding Amount\": 625948.8921137636}, {\"Agency\": \"Contra Costa County\", \"Categories\": \"Total Requested\", \"Funding Amount\": 1317256.4330172406}, {\"Agency\": \"Sonoma County\", \"Categories\": \"Total Requested\", \"Funding Amount\": 797679.174331438}, {\"Agency\": \"Napa County\", \"Categories\": \"Total Requested\", \"Funding Amount\": 403289.3793109502}, {\"Agency\": \"Oakland\", \"Categories\": \"Total Requested\", \"Funding Amount\": 1567186.3367742712}, {\"Agency\": \"Santa Clara County\", \"Categories\": \"Fed Requested\", \"Funding Amount\": 551357.6932043855}, {\"Agency\": \"Contra Costa County\", \"Categories\": \"Fed Requested\", \"Funding Amount\": 1044135.8320610252}, {\"Agency\": \"Sonoma County\", \"Categories\": \"Fed Requested\", \"Funding Amount\": 587684.7404175334}, {\"Agency\": \"Napa County\", \"Categories\": \"Fed Requested\", \"Funding Amount\": 409960.4929304969}, {\"Agency\": \"Oakland\", \"Categories\": \"Fed Requested\", \"Funding Amount\": 1259324.924989911}, {\"Agency\": \"Santa Clara County\", \"Categories\": \"AC Requested\", \"Funding Amount\": 4993.875645153608}, {\"Agency\": \"Contra Costa County\", \"Categories\": \"AC Requested\", \"Funding Amount\": 106533.47492573563}, {\"Agency\": \"Sonoma County\", \"Categories\": \"AC Requested\", \"Funding Amount\": 122257.02211158613}, {\"Agency\": \"Napa County\", \"Categories\": \"AC Requested\", \"Funding Amount\": 222.60068153467608}, {\"Agency\": \"Oakland\", \"Categories\": \"AC Requested\", \"Funding Amount\": 0.0}]}}, {\"mode\": \"vega-lite\"});\n</script>",
          "text/plain": "alt.Chart(...)"
         },
         "metadata": {},
         "output_type": "display_data"
        }
       ]
      }
     },
     "57ae555b951341739c11f3a0d7023f72": {
      "model_module": "@jupyter-widgets/controls",
      "model_module_version": "1.5.0",
      "model_name": "DescriptionStyleModel",
      "state": {
       "description_width": ""
      }
     },
     "582fd6cdefa44a68a6c70ea159fc1f37": {
      "model_module": "@jupyter-widgets/output",
      "model_module_version": "1.0.0",
      "model_name": "OutputModel",
      "state": {
       "layout": "IPY_MODEL_c7b4329b5baf403facaa7ef43506e165",
       "outputs": [
        {
         "data": {
          "application/vnd.jupyter.widget-view+json": {
           "model_id": "bfd9d0a3008c4284807a5cd3e473dee2",
           "version_major": 2,
           "version_minor": 0
          },
          "text/plain": "HTML(value='<strong>Top Agencies using Freeway Projects</strong>')"
         },
         "metadata": {},
         "output_type": "display_data"
        },
        {
         "data": {
          "text/html": "<style type=\"text/css\">\n</style>\n<table id=\"T_5be19\">\n  <thead>\n    <tr>\n      <th class=\"blank level0\" >&nbsp;</th>\n      <th id=\"T_5be19_level0_col0\" class=\"col_heading level0 col0\" >Agency</th>\n      <th id=\"T_5be19_level0_col1\" class=\"col_heading level0 col1\" >Freeway Obligations</th>\n      <th id=\"T_5be19_level0_col2\" class=\"col_heading level0 col2\" >Percent of Category</th>\n    </tr>\n  </thead>\n  <tbody>\n    <tr>\n      <th id=\"T_5be19_level0_row0\" class=\"row_heading level0 row0\" >0</th>\n      <td id=\"T_5be19_row0_col0\" class=\"data row0 col0\" >Metropolitan Transportation Commission</td>\n      <td id=\"T_5be19_row0_col1\" class=\"data row0 col1\" >11</td>\n      <td id=\"T_5be19_row0_col2\" class=\"data row0 col2\" >28.21%</td>\n    </tr>\n    <tr>\n      <th id=\"T_5be19_level0_row1\" class=\"row_heading level0 row1\" >1</th>\n      <td id=\"T_5be19_row1_col0\" class=\"data row1 col0\" >Contra Costa County</td>\n      <td id=\"T_5be19_row1_col1\" class=\"data row1 col1\" >7</td>\n      <td id=\"T_5be19_row1_col2\" class=\"data row1 col2\" >17.95%</td>\n    </tr>\n    <tr>\n      <th id=\"T_5be19_level0_row2\" class=\"row_heading level0 row2\" >2</th>\n      <td id=\"T_5be19_row2_col0\" class=\"data row2 col0\" >Caltrans</td>\n      <td id=\"T_5be19_row2_col1\" class=\"data row2 col1\" >4</td>\n      <td id=\"T_5be19_row2_col2\" class=\"data row2 col2\" >10.26%</td>\n    </tr>\n    <tr>\n      <th id=\"T_5be19_level0_row3\" class=\"row_heading level0 row3\" >3</th>\n      <td id=\"T_5be19_row3_col0\" class=\"data row3 col0\" >Metropolitan Transportation Commission - SAFE</td>\n      <td id=\"T_5be19_row3_col1\" class=\"data row3 col1\" >3</td>\n      <td id=\"T_5be19_row3_col2\" class=\"data row3 col2\" >7.69%</td>\n    </tr>\n    <tr>\n      <th id=\"T_5be19_level0_row4\" class=\"row_heading level0 row4\" >4</th>\n      <td id=\"T_5be19_row4_col0\" class=\"data row4 col0\" >Alameda County Congestion Management Agency</td>\n      <td id=\"T_5be19_row4_col1\" class=\"data row4 col1\" >2</td>\n      <td id=\"T_5be19_row4_col2\" class=\"data row4 col2\" >5.13%</td>\n    </tr>\n  </tbody>\n</table>\n",
          "text/plain": "<pandas.io.formats.style.Styler at 0x7f605d264fa0>"
         },
         "metadata": {},
         "output_type": "display_data"
        },
        {
         "data": {
          "text/html": "\n<div id=\"altair-viz-ac8b5f3d88384e6dadff8ba5ff34bc15\"></div>\n<script type=\"text/javascript\">\n  var VEGA_DEBUG = (typeof VEGA_DEBUG == \"undefined\") ? {} : VEGA_DEBUG;\n  (function(spec, embedOpt){\n    let outputDiv = document.currentScript.previousElementSibling;\n    if (outputDiv.id !== \"altair-viz-ac8b5f3d88384e6dadff8ba5ff34bc15\") {\n      outputDiv = document.getElementById(\"altair-viz-ac8b5f3d88384e6dadff8ba5ff34bc15\");\n    }\n    const paths = {\n      \"vega\": \"https://cdn.jsdelivr.net/npm//vega@5?noext\",\n      \"vega-lib\": \"https://cdn.jsdelivr.net/npm//vega-lib?noext\",\n      \"vega-lite\": \"https://cdn.jsdelivr.net/npm//vega-lite@4.17.0?noext\",\n      \"vega-embed\": \"https://cdn.jsdelivr.net/npm//vega-embed@6?noext\",\n    };\n\n    function maybeLoadScript(lib, version) {\n      var key = `${lib.replace(\"-\", \"\")}_version`;\n      return (VEGA_DEBUG[key] == version) ?\n        Promise.resolve(paths[lib]) :\n        new Promise(function(resolve, reject) {\n          var s = document.createElement('script');\n          document.getElementsByTagName(\"head\")[0].appendChild(s);\n          s.async = true;\n          s.onload = () => {\n            VEGA_DEBUG[key] = version;\n            return resolve(paths[lib]);\n          };\n          s.onerror = () => reject(`Error loading script: ${paths[lib]}`);\n          s.src = paths[lib];\n        });\n    }\n\n    function showError(err) {\n      outputDiv.innerHTML = `<div class=\"error\" style=\"color:red;\">${err}</div>`;\n      throw err;\n    }\n\n    function displayChart(vegaEmbed) {\n      vegaEmbed(outputDiv, spec, embedOpt)\n        .catch(err => showError(`Javascript Error: ${err.message}<br>This usually means there's a typo in your chart specification. See the javascript console for the full traceback.`));\n    }\n\n    if(typeof define === \"function\" && define.amd) {\n      requirejs.config({paths});\n      require([\"vega-embed\"], displayChart, err => showError(`Error loading script: ${err.message}`));\n    } else {\n      maybeLoadScript(\"vega\", \"5\")\n        .then(() => maybeLoadScript(\"vega-lite\", \"4.17.0\"))\n        .then(() => maybeLoadScript(\"vega-embed\", \"6\"))\n        .catch(showError)\n        .then(() => displayChart(vegaEmbed));\n    }\n  })({\"config\": {\"view\": {\"continuousWidth\": 400, \"continuousHeight\": 300}}, \"data\": {\"name\": \"data-aeb8dec487be436236d0c63cc42eb978\"}, \"mark\": \"bar\", \"encoding\": {\"color\": {\"field\": \"Categories\", \"scale\": {\"range\": [\"#2EA8CE\", \"#EB9F3C\", \"#F4D837\", \"#51BF9D\", \"#8CBCCB\", \"#9487C0\"]}, \"type\": \"nominal\"}, \"row\": {\"field\": \"Categories\", \"type\": \"nominal\"}, \"tooltip\": [{\"field\": \"Agency\", \"type\": \"nominal\"}, {\"field\": \"Funding Amount\", \"type\": \"quantitative\"}], \"x\": {\"axis\": {\"format\": \"$.2s\", \"title\": \"Obligated Funding ($2021)\"}, \"field\": \"Funding Amount\", \"type\": \"quantitative\"}, \"y\": {\"field\": \"Agency\", \"type\": \"nominal\"}}, \"$schema\": \"https://vega.github.io/schema/vega-lite/v4.17.0.json\", \"datasets\": {\"data-aeb8dec487be436236d0c63cc42eb978\": [{\"Agency\": \"Metropolitan Transportation Commission\", \"Categories\": \"Total Requested\", \"Funding Amount\": 1909627.6993880032}, {\"Agency\": \"Contra Costa County\", \"Categories\": \"Total Requested\", \"Funding Amount\": 1041396.7377879982}, {\"Agency\": \"Caltrans\", \"Categories\": \"Total Requested\", \"Funding Amount\": 7155873.948324381}, {\"Agency\": \"Metropolitan Transportation Commission - SAFE\", \"Categories\": \"Total Requested\", \"Funding Amount\": 5607282.0964267}, {\"Agency\": \"Alameda County Congestion Management Agency\", \"Categories\": \"Total Requested\", \"Funding Amount\": 771698.7792291272}, {\"Agency\": \"Metropolitan Transportation Commission\", \"Categories\": \"Fed Requested\", \"Funding Amount\": 1890540.1407647512}, {\"Agency\": \"Contra Costa County\", \"Categories\": \"Fed Requested\", \"Funding Amount\": 690949.2652206112}, {\"Agency\": \"Caltrans\", \"Categories\": \"Fed Requested\", \"Funding Amount\": 3977675.6275673257}, {\"Agency\": \"Metropolitan Transportation Commission - SAFE\", \"Categories\": \"Fed Requested\", \"Funding Amount\": 5607282.0964267}, {\"Agency\": \"Alameda County Congestion Management Agency\", \"Categories\": \"Fed Requested\", \"Funding Amount\": 571275.1031109582}, {\"Agency\": \"Metropolitan Transportation Commission\", \"Categories\": \"AC Requested\", \"Funding Amount\": 0.0}, {\"Agency\": \"Contra Costa County\", \"Categories\": \"AC Requested\", \"Funding Amount\": 26482.60130270215}, {\"Agency\": \"Caltrans\", \"Categories\": \"AC Requested\", \"Funding Amount\": 0.0}, {\"Agency\": \"Metropolitan Transportation Commission - SAFE\", \"Categories\": \"AC Requested\", \"Funding Amount\": 0.0}, {\"Agency\": \"Alameda County Congestion Management Agency\", \"Categories\": \"AC Requested\", \"Funding Amount\": 0.0}]}}, {\"mode\": \"vega-lite\"});\n</script>",
          "text/plain": "alt.Chart(...)"
         },
         "metadata": {},
         "output_type": "display_data"
        }
       ]
      }
     },
     "5882d633ff394b7599eadc04ef145141": {
      "model_module": "@jupyter-widgets/base",
      "model_module_version": "1.2.0",
      "model_name": "LayoutModel",
      "state": {}
     },
     "590a1ac287f14868a5900afa056ea8a9": {
      "model_module": "@jupyter-widgets/base",
      "model_module_version": "1.2.0",
      "model_name": "LayoutModel",
      "state": {}
     },
     "5956fe3de0384f89ac7f65249653e995": {
      "model_module": "@jupyter-widgets/base",
      "model_module_version": "1.2.0",
      "model_name": "LayoutModel",
      "state": {}
     },
     "59b13e8d82d24e228e076b9f352b9160": {
      "model_module": "@jupyter-widgets/base",
      "model_module_version": "1.2.0",
      "model_name": "LayoutModel",
      "state": {}
     },
     "59f16e2291ee47eab01056ccdb893d35": {
      "model_module": "@jupyter-widgets/controls",
      "model_module_version": "1.5.0",
      "model_name": "HTMLModel",
      "state": {
       "layout": "IPY_MODEL_d5adea48977e4ff7b73bf2e95dbc0bfc",
       "style": "IPY_MODEL_57ae555b951341739c11f3a0d7023f72",
       "value": "<strong>Top Agencies using Congestion Relief Projects</strong>"
      }
     },
     "5ad338cad78a4124b0ff841dc2e3e16d": {
      "model_module": "@jupyter-widgets/controls",
      "model_module_version": "1.5.0",
      "model_name": "DescriptionStyleModel",
      "state": {
       "description_width": ""
      }
     },
     "5b0179aad9384459bddbcc4835dde6ab": {
      "model_module": "@jupyter-widgets/base",
      "model_module_version": "1.2.0",
      "model_name": "LayoutModel",
      "state": {}
     },
     "5b062afdeaf246f0a4bbed84ae1cf161": {
      "model_module": "@jupyter-widgets/controls",
      "model_module_version": "1.5.0",
      "model_name": "HTMLModel",
      "state": {
       "layout": "IPY_MODEL_f9fee71c1f854032b535f2205945434d",
       "style": "IPY_MODEL_503092c141f44bb6bd033dbfcca21df1",
       "value": "<strong>Top Agencies using Congestion Relief Projects</strong>"
      }
     },
     "5bff6134be4b490a87cf9f35d61f1ba3": {
      "model_module": "@jupyter-widgets/output",
      "model_module_version": "1.0.0",
      "model_name": "OutputModel",
      "state": {
       "layout": "IPY_MODEL_7c9a65048ca8442f8a2d49e0993de7bd",
       "outputs": [
        {
         "data": {
          "application/vnd.jupyter.widget-view+json": {
           "model_id": "",
           "version_major": 2,
           "version_minor": 0
          },
          "text/plain": "HTML(value='<strong>Top Agencies using Infrastructure & Emergency Relief Projects</strong>')"
         },
         "metadata": {},
         "output_type": "display_data"
        },
        {
         "data": {
          "text/html": "<style type=\"text/css\">\n</style>\n<table id=\"T_bbb63\">\n  <thead>\n    <tr>\n      <th class=\"blank level0\" >&nbsp;</th>\n      <th id=\"T_bbb63_level0_col0\" class=\"col_heading level0 col0\" >Agency</th>\n      <th id=\"T_bbb63_level0_col1\" class=\"col_heading level0 col1\" >Infrastructure & Emergency Relief Obligations</th>\n      <th id=\"T_bbb63_level0_col2\" class=\"col_heading level0 col2\" >Percent of Category</th>\n    </tr>\n  </thead>\n  <tbody>\n    <tr>\n      <th id=\"T_bbb63_level0_row0\" class=\"row_heading level0 row0\" >0</th>\n      <td id=\"T_bbb63_row0_col0\" class=\"data row0 col0\" >Contra Costa County</td>\n      <td id=\"T_bbb63_row0_col1\" class=\"data row0 col1\" >102</td>\n      <td id=\"T_bbb63_row0_col2\" class=\"data row0 col2\" >5.21%</td>\n    </tr>\n    <tr>\n      <th id=\"T_bbb63_level0_row1\" class=\"row_heading level0 row1\" >1</th>\n      <td id=\"T_bbb63_row1_col0\" class=\"data row1 col0\" >Napa County</td>\n      <td id=\"T_bbb63_row1_col1\" class=\"data row1 col1\" >88</td>\n      <td id=\"T_bbb63_row1_col2\" class=\"data row1 col2\" >4.50%</td>\n    </tr>\n    <tr>\n      <th id=\"T_bbb63_level0_row2\" class=\"row_heading level0 row2\" >2</th>\n      <td id=\"T_bbb63_row2_col0\" class=\"data row2 col0\" >Santa Clara County</td>\n      <td id=\"T_bbb63_row2_col1\" class=\"data row2 col1\" >82</td>\n      <td id=\"T_bbb63_row2_col2\" class=\"data row2 col2\" >4.19%</td>\n    </tr>\n    <tr>\n      <th id=\"T_bbb63_level0_row3\" class=\"row_heading level0 row3\" >3</th>\n      <td id=\"T_bbb63_row3_col0\" class=\"data row3 col0\" >Sonoma County</td>\n      <td id=\"T_bbb63_row3_col1\" class=\"data row3 col1\" >71</td>\n      <td id=\"T_bbb63_row3_col2\" class=\"data row3 col2\" >3.63%</td>\n    </tr>\n    <tr>\n      <th id=\"T_bbb63_level0_row4\" class=\"row_heading level0 row4\" >4</th>\n      <td id=\"T_bbb63_row4_col0\" class=\"data row4 col0\" >Oakland</td>\n      <td id=\"T_bbb63_row4_col1\" class=\"data row4 col1\" >70</td>\n      <td id=\"T_bbb63_row4_col2\" class=\"data row4 col2\" >3.58%</td>\n    </tr>\n  </tbody>\n</table>\n",
          "text/plain": "<pandas.io.formats.style.Styler at 0x7f605ddabd00>"
         },
         "metadata": {},
         "output_type": "display_data"
        },
        {
         "data": {
          "text/html": "\n<div id=\"altair-viz-e564e12f06c74008bd7584375393d7a3\"></div>\n<script type=\"text/javascript\">\n  var VEGA_DEBUG = (typeof VEGA_DEBUG == \"undefined\") ? {} : VEGA_DEBUG;\n  (function(spec, embedOpt){\n    let outputDiv = document.currentScript.previousElementSibling;\n    if (outputDiv.id !== \"altair-viz-e564e12f06c74008bd7584375393d7a3\") {\n      outputDiv = document.getElementById(\"altair-viz-e564e12f06c74008bd7584375393d7a3\");\n    }\n    const paths = {\n      \"vega\": \"https://cdn.jsdelivr.net/npm//vega@5?noext\",\n      \"vega-lib\": \"https://cdn.jsdelivr.net/npm//vega-lib?noext\",\n      \"vega-lite\": \"https://cdn.jsdelivr.net/npm//vega-lite@4.17.0?noext\",\n      \"vega-embed\": \"https://cdn.jsdelivr.net/npm//vega-embed@6?noext\",\n    };\n\n    function maybeLoadScript(lib, version) {\n      var key = `${lib.replace(\"-\", \"\")}_version`;\n      return (VEGA_DEBUG[key] == version) ?\n        Promise.resolve(paths[lib]) :\n        new Promise(function(resolve, reject) {\n          var s = document.createElement('script');\n          document.getElementsByTagName(\"head\")[0].appendChild(s);\n          s.async = true;\n          s.onload = () => {\n            VEGA_DEBUG[key] = version;\n            return resolve(paths[lib]);\n          };\n          s.onerror = () => reject(`Error loading script: ${paths[lib]}`);\n          s.src = paths[lib];\n        });\n    }\n\n    function showError(err) {\n      outputDiv.innerHTML = `<div class=\"error\" style=\"color:red;\">${err}</div>`;\n      throw err;\n    }\n\n    function displayChart(vegaEmbed) {\n      vegaEmbed(outputDiv, spec, embedOpt)\n        .catch(err => showError(`Javascript Error: ${err.message}<br>This usually means there's a typo in your chart specification. See the javascript console for the full traceback.`));\n    }\n\n    if(typeof define === \"function\" && define.amd) {\n      requirejs.config({paths});\n      require([\"vega-embed\"], displayChart, err => showError(`Error loading script: ${err.message}`));\n    } else {\n      maybeLoadScript(\"vega\", \"5\")\n        .then(() => maybeLoadScript(\"vega-lite\", \"4.17.0\"))\n        .then(() => maybeLoadScript(\"vega-embed\", \"6\"))\n        .catch(showError)\n        .then(() => displayChart(vegaEmbed));\n    }\n  })({\"config\": {\"view\": {\"continuousWidth\": 400, \"continuousHeight\": 300}}, \"data\": {\"name\": \"data-f0cad226c95a51748334db9fe2ae4c0a\"}, \"mark\": \"bar\", \"encoding\": {\"color\": {\"field\": \"Categories\", \"scale\": {\"range\": [\"#2EA8CE\", \"#EB9F3C\", \"#F4D837\", \"#51BF9D\", \"#8CBCCB\", \"#9487C0\"]}, \"type\": \"nominal\"}, \"row\": {\"field\": \"Categories\", \"type\": \"nominal\"}, \"tooltip\": [{\"field\": \"Agency\", \"type\": \"nominal\"}, {\"field\": \"Funding Amount\", \"type\": \"quantitative\"}], \"x\": {\"axis\": {\"format\": \"$.2s\", \"title\": \"Obligated Funding ($2021)\"}, \"field\": \"Funding Amount\", \"type\": \"quantitative\"}, \"y\": {\"field\": \"Agency\", \"type\": \"nominal\"}}, \"$schema\": \"https://vega.github.io/schema/vega-lite/v4.17.0.json\", \"datasets\": {\"data-f0cad226c95a51748334db9fe2ae4c0a\": [{\"Agency\": \"Contra Costa County\", \"Categories\": \"Total Requested\", \"Funding Amount\": 852412.8986917532}, {\"Agency\": \"Napa County\", \"Categories\": \"Total Requested\", \"Funding Amount\": 290127.23106307245}, {\"Agency\": \"Santa Clara County\", \"Categories\": \"Total Requested\", \"Funding Amount\": 672624.8283425933}, {\"Agency\": \"Sonoma County\", \"Categories\": \"Total Requested\", \"Funding Amount\": 648775.690347322}, {\"Agency\": \"Oakland\", \"Categories\": \"Total Requested\", \"Funding Amount\": 1543864.847788699}, {\"Agency\": \"Contra Costa County\", \"Categories\": \"Fed Requested\", \"Funding Amount\": 637082.1190394674}, {\"Agency\": \"Napa County\", \"Categories\": \"Fed Requested\", \"Funding Amount\": 254382.40987557478}, {\"Agency\": \"Santa Clara County\", \"Categories\": \"Fed Requested\", \"Funding Amount\": 568961.2217746255}, {\"Agency\": \"Sonoma County\", \"Categories\": \"Fed Requested\", \"Funding Amount\": 488154.49796102184}, {\"Agency\": \"Oakland\", \"Categories\": \"Fed Requested\", \"Funding Amount\": 1123344.3663603195}, {\"Agency\": \"Contra Costa County\", \"Categories\": \"AC Requested\", \"Funding Amount\": 46442.64603194262}, {\"Agency\": \"Napa County\", \"Categories\": \"AC Requested\", \"Funding Amount\": 4926.44569571146}, {\"Agency\": \"Santa Clara County\", \"Categories\": \"AC Requested\", \"Funding Amount\": 4141.262730127382}, {\"Agency\": \"Sonoma County\", \"Categories\": \"AC Requested\", \"Funding Amount\": 63056.74152049417}, {\"Agency\": \"Oakland\", \"Categories\": \"AC Requested\", \"Funding Amount\": 0.0}]}}, {\"mode\": \"vega-lite\"});\n</script>",
          "text/plain": "alt.Chart(...)"
         },
         "metadata": {},
         "output_type": "display_data"
        }
       ]
      }
     },
     "5c216c817a3047faa635cab99e2116a5": {
      "model_module": "@jupyter-widgets/base",
      "model_module_version": "1.2.0",
      "model_name": "LayoutModel",
      "state": {}
     },
     "5c4d0386531340ddbaacb3941885042c": {
      "model_module": "@jupyter-widgets/controls",
      "model_module_version": "1.5.0",
      "model_name": "TabModel",
      "state": {
       "_titles": {
        "0": "Active Transportation",
        "1": "Transit",
        "2": "Bridge",
        "3": "Street",
        "4": "Freeway",
        "5": "Infrastructure & Emergency Relief",
        "6": "Congestion Relief"
       },
       "children": [
        "IPY_MODEL_475f72d7e33f42fab651ca10ae4752f9",
        "IPY_MODEL_4f296cfc1b344248aeea40fa916370b6",
        "IPY_MODEL_56c918d88dcd4ed0aa98c96c2e2ec100",
        "IPY_MODEL_8792419a16824bb98e4ebf805c22efb4",
        "IPY_MODEL_fc2ef1090ec5485599094fd5ebcb5270",
        "IPY_MODEL_b7aac4eb5ed742c4ab3d6087175f3d89",
        "IPY_MODEL_92e92a3cdab34dda93b1de1880345457"
       ],
       "layout": "IPY_MODEL_f7c1475d657247f28affae2dcae27c91"
      }
     },
     "5c88bc26a4d34574bc6d84e641107963": {
      "model_module": "@jupyter-widgets/controls",
      "model_module_version": "1.5.0",
      "model_name": "HTMLModel",
      "state": {
       "layout": "IPY_MODEL_6ebced4d84404c76a17873254156de78",
       "style": "IPY_MODEL_f36f9dfa23eb4bb390adc889da4a44f4",
       "value": "<strong>Top Agencies using Street Projects</strong>"
      }
     },
     "5c9215de853b46eeb07faeed635524d9": {
      "model_module": "@jupyter-widgets/controls",
      "model_module_version": "1.5.0",
      "model_name": "HTMLModel",
      "state": {
       "layout": "IPY_MODEL_d0414eab45dc434f98c7766009b41ece",
       "style": "IPY_MODEL_987e30445b6444b38fe2c88ab8627a12",
       "value": "<strong>Top Agencies using Transit Projects</strong>"
      }
     },
     "5ca97231cdcd443f820abe254c99fab1": {
      "model_module": "@jupyter-widgets/base",
      "model_module_version": "1.2.0",
      "model_name": "LayoutModel",
      "state": {}
     },
     "6028df8567634cc6aacab2215d2bfafe": {
      "model_module": "@jupyter-widgets/output",
      "model_module_version": "1.0.0",
      "model_name": "OutputModel",
      "state": {
       "layout": "IPY_MODEL_151dab0badbb47f89b8d7edf9ac5c35e",
       "outputs": [
        {
         "data": {
          "application/vnd.jupyter.widget-view+json": {
           "model_id": "",
           "version_major": 2,
           "version_minor": 0
          },
          "text/plain": "HTML(value='<strong>Top Agencies using Street Projects</strong>')"
         },
         "metadata": {},
         "output_type": "display_data"
        },
        {
         "data": {
          "text/html": "<style type=\"text/css\">\n</style>\n<table id=\"T_3e32a\">\n  <thead>\n    <tr>\n      <th class=\"blank level0\" >&nbsp;</th>\n      <th id=\"T_3e32a_level0_col0\" class=\"col_heading level0 col0\" >Agency</th>\n      <th id=\"T_3e32a_level0_col1\" class=\"col_heading level0 col1\" >Street Obligations</th>\n      <th id=\"T_3e32a_level0_col2\" class=\"col_heading level0 col2\" >Percent of Category</th>\n    </tr>\n  </thead>\n  <tbody>\n    <tr>\n      <th id=\"T_3e32a_level0_row0\" class=\"row_heading level0 row0\" >0</th>\n      <td id=\"T_3e32a_row0_col0\" class=\"data row0 col0\" >Riverside County</td>\n      <td id=\"T_3e32a_row0_col1\" class=\"data row0 col1\" >52</td>\n      <td id=\"T_3e32a_row0_col2\" class=\"data row0 col2\" >9.00%</td>\n    </tr>\n    <tr>\n      <th id=\"T_3e32a_level0_row1\" class=\"row_heading level0 row1\" >1</th>\n      <td id=\"T_3e32a_row1_col0\" class=\"data row1 col0\" >San Bernardino County</td>\n      <td id=\"T_3e32a_row1_col1\" class=\"data row1 col1\" >44</td>\n      <td id=\"T_3e32a_row1_col2\" class=\"data row1 col2\" >7.61%</td>\n    </tr>\n    <tr>\n      <th id=\"T_3e32a_level0_row2\" class=\"row_heading level0 row2\" >2</th>\n      <td id=\"T_3e32a_row2_col0\" class=\"data row2 col0\" >Indio</td>\n      <td id=\"T_3e32a_row2_col1\" class=\"data row2 col1\" >25</td>\n      <td id=\"T_3e32a_row2_col2\" class=\"data row2 col2\" >4.33%</td>\n    </tr>\n    <tr>\n      <th id=\"T_3e32a_level0_row3\" class=\"row_heading level0 row3\" >3</th>\n      <td id=\"T_3e32a_row3_col0\" class=\"data row3 col0\" >Moreno Valley</td>\n      <td id=\"T_3e32a_row3_col1\" class=\"data row3 col1\" >25</td>\n      <td id=\"T_3e32a_row3_col2\" class=\"data row3 col2\" >4.33%</td>\n    </tr>\n    <tr>\n      <th id=\"T_3e32a_level0_row4\" class=\"row_heading level0 row4\" >4</th>\n      <td id=\"T_3e32a_row4_col0\" class=\"data row4 col0\" >Palm Springs</td>\n      <td id=\"T_3e32a_row4_col1\" class=\"data row4 col1\" >25</td>\n      <td id=\"T_3e32a_row4_col2\" class=\"data row4 col2\" >4.33%</td>\n    </tr>\n  </tbody>\n</table>\n",
          "text/plain": "<pandas.io.formats.style.Styler at 0x7f605cee6f70>"
         },
         "metadata": {},
         "output_type": "display_data"
        },
        {
         "data": {
          "text/html": "\n<div id=\"altair-viz-8e2e93dfb775488e97e901f6d0114b0c\"></div>\n<script type=\"text/javascript\">\n  var VEGA_DEBUG = (typeof VEGA_DEBUG == \"undefined\") ? {} : VEGA_DEBUG;\n  (function(spec, embedOpt){\n    let outputDiv = document.currentScript.previousElementSibling;\n    if (outputDiv.id !== \"altair-viz-8e2e93dfb775488e97e901f6d0114b0c\") {\n      outputDiv = document.getElementById(\"altair-viz-8e2e93dfb775488e97e901f6d0114b0c\");\n    }\n    const paths = {\n      \"vega\": \"https://cdn.jsdelivr.net/npm//vega@5?noext\",\n      \"vega-lib\": \"https://cdn.jsdelivr.net/npm//vega-lib?noext\",\n      \"vega-lite\": \"https://cdn.jsdelivr.net/npm//vega-lite@4.17.0?noext\",\n      \"vega-embed\": \"https://cdn.jsdelivr.net/npm//vega-embed@6?noext\",\n    };\n\n    function maybeLoadScript(lib, version) {\n      var key = `${lib.replace(\"-\", \"\")}_version`;\n      return (VEGA_DEBUG[key] == version) ?\n        Promise.resolve(paths[lib]) :\n        new Promise(function(resolve, reject) {\n          var s = document.createElement('script');\n          document.getElementsByTagName(\"head\")[0].appendChild(s);\n          s.async = true;\n          s.onload = () => {\n            VEGA_DEBUG[key] = version;\n            return resolve(paths[lib]);\n          };\n          s.onerror = () => reject(`Error loading script: ${paths[lib]}`);\n          s.src = paths[lib];\n        });\n    }\n\n    function showError(err) {\n      outputDiv.innerHTML = `<div class=\"error\" style=\"color:red;\">${err}</div>`;\n      throw err;\n    }\n\n    function displayChart(vegaEmbed) {\n      vegaEmbed(outputDiv, spec, embedOpt)\n        .catch(err => showError(`Javascript Error: ${err.message}<br>This usually means there's a typo in your chart specification. See the javascript console for the full traceback.`));\n    }\n\n    if(typeof define === \"function\" && define.amd) {\n      requirejs.config({paths});\n      require([\"vega-embed\"], displayChart, err => showError(`Error loading script: ${err.message}`));\n    } else {\n      maybeLoadScript(\"vega\", \"5\")\n        .then(() => maybeLoadScript(\"vega-lite\", \"4.17.0\"))\n        .then(() => maybeLoadScript(\"vega-embed\", \"6\"))\n        .catch(showError)\n        .then(() => displayChart(vegaEmbed));\n    }\n  })({\"config\": {\"view\": {\"continuousWidth\": 400, \"continuousHeight\": 300}}, \"data\": {\"name\": \"data-cb8a936544190ab4483fbb1f63783082\"}, \"mark\": \"bar\", \"encoding\": {\"color\": {\"field\": \"Categories\", \"scale\": {\"range\": [\"#2EA8CE\", \"#EB9F3C\", \"#F4D837\", \"#51BF9D\", \"#8CBCCB\", \"#9487C0\"]}, \"type\": \"nominal\"}, \"row\": {\"field\": \"Categories\", \"type\": \"nominal\"}, \"tooltip\": [{\"field\": \"Agency\", \"type\": \"nominal\"}, {\"field\": \"Funding Amount\", \"type\": \"quantitative\"}], \"x\": {\"axis\": {\"format\": \"$.2s\", \"title\": \"Obligated Funding ($2021)\"}, \"field\": \"Funding Amount\", \"type\": \"quantitative\"}, \"y\": {\"field\": \"Agency\", \"type\": \"nominal\"}}, \"$schema\": \"https://vega.github.io/schema/vega-lite/v4.17.0.json\", \"datasets\": {\"data-cb8a936544190ab4483fbb1f63783082\": [{\"Agency\": \"Riverside County\", \"Categories\": \"Total Requested\", \"Funding Amount\": 699922.717645544}, {\"Agency\": \"San Bernardino County\", \"Categories\": \"Total Requested\", \"Funding Amount\": 235974.79923662925}, {\"Agency\": \"Indio\", \"Categories\": \"Total Requested\", \"Funding Amount\": 1078763.359412526}, {\"Agency\": \"Moreno Valley\", \"Categories\": \"Total Requested\", \"Funding Amount\": 647522.318709792}, {\"Agency\": \"Palm Springs\", \"Categories\": \"Total Requested\", \"Funding Amount\": 548865.0362650896}, {\"Agency\": \"Riverside County\", \"Categories\": \"Fed Requested\", \"Funding Amount\": 451580.2027375606}, {\"Agency\": \"San Bernardino County\", \"Categories\": \"Fed Requested\", \"Funding Amount\": 238830.36700221885}, {\"Agency\": \"Indio\", \"Categories\": \"Fed Requested\", \"Funding Amount\": 553046.0481887806}, {\"Agency\": \"Moreno Valley\", \"Categories\": \"Fed Requested\", \"Funding Amount\": 190450.49687019706}, {\"Agency\": \"Palm Springs\", \"Categories\": \"Fed Requested\", \"Funding Amount\": 432414.38406431046}, {\"Agency\": \"Riverside County\", \"Categories\": \"AC Requested\", \"Funding Amount\": 0.0}, {\"Agency\": \"San Bernardino County\", \"Categories\": \"AC Requested\", \"Funding Amount\": -16412.130971758517}, {\"Agency\": \"Indio\", \"Categories\": \"AC Requested\", \"Funding Amount\": 1679.771531642758}, {\"Agency\": \"Moreno Valley\", \"Categories\": \"AC Requested\", \"Funding Amount\": 0.0}, {\"Agency\": \"Palm Springs\", \"Categories\": \"AC Requested\", \"Funding Amount\": 46.805391480204996}]}}, {\"mode\": \"vega-lite\"});\n</script>",
          "text/plain": "alt.Chart(...)"
         },
         "metadata": {},
         "output_type": "display_data"
        }
       ]
      }
     },
     "6201e1026c3a4cf880a25826b33f8eb7": {
      "model_module": "@jupyter-widgets/base",
      "model_module_version": "1.2.0",
      "model_name": "LayoutModel",
      "state": {}
     },
     "6230482255c542bfb93643883f9fa5fa": {
      "model_module": "@jupyter-widgets/controls",
      "model_module_version": "1.5.0",
      "model_name": "DescriptionStyleModel",
      "state": {
       "description_width": ""
      }
     },
     "625c13eaeb1d4fd79ddb20cdde665948": {
      "model_module": "@jupyter-widgets/base",
      "model_module_version": "1.2.0",
      "model_name": "LayoutModel",
      "state": {}
     },
     "627c00dd98c3418294d23f738fbbabc6": {
      "model_module": "@jupyter-widgets/base",
      "model_module_version": "1.2.0",
      "model_name": "LayoutModel",
      "state": {}
     },
     "6281419deb9147d19c644d70ec8f64f9": {
      "model_module": "@jupyter-widgets/base",
      "model_module_version": "1.2.0",
      "model_name": "LayoutModel",
      "state": {}
     },
     "62a4df9584d340e6b5987f68a43f130c": {
      "model_module": "@jupyter-widgets/output",
      "model_module_version": "1.0.0",
      "model_name": "OutputModel",
      "state": {
       "layout": "IPY_MODEL_0bf0b694a44a42148bfc78bc95699139",
       "outputs": [
        {
         "data": {
          "application/vnd.jupyter.widget-view+json": {
           "model_id": "",
           "version_major": 2,
           "version_minor": 0
          },
          "text/plain": "HTML(value='<strong>Top Agencies using Street Projects</strong>')"
         },
         "metadata": {},
         "output_type": "display_data"
        },
        {
         "data": {
          "text/html": "<style type=\"text/css\">\n</style>\n<table id=\"T_69d0e\">\n  <thead>\n    <tr>\n      <th class=\"blank level0\" >&nbsp;</th>\n      <th id=\"T_69d0e_level0_col0\" class=\"col_heading level0 col0\" >Agency</th>\n      <th id=\"T_69d0e_level0_col1\" class=\"col_heading level0 col1\" >Street Obligations</th>\n      <th id=\"T_69d0e_level0_col2\" class=\"col_heading level0 col2\" >Percent of Category</th>\n    </tr>\n  </thead>\n  <tbody>\n    <tr>\n      <th id=\"T_69d0e_level0_row0\" class=\"row_heading level0 row0\" >0</th>\n      <td id=\"T_69d0e_row0_col0\" class=\"data row0 col0\" >Oakland</td>\n      <td id=\"T_69d0e_row0_col1\" class=\"data row0 col1\" >82</td>\n      <td id=\"T_69d0e_row0_col2\" class=\"data row0 col2\" >6.23%</td>\n    </tr>\n    <tr>\n      <th id=\"T_69d0e_level0_row1\" class=\"row_heading level0 row1\" >1</th>\n      <td id=\"T_69d0e_row1_col0\" class=\"data row1 col0\" >Contra Costa County</td>\n      <td id=\"T_69d0e_row1_col1\" class=\"data row1 col1\" >81</td>\n      <td id=\"T_69d0e_row1_col2\" class=\"data row1 col2\" >6.15%</td>\n    </tr>\n    <tr>\n      <th id=\"T_69d0e_level0_row2\" class=\"row_heading level0 row2\" >2</th>\n      <td id=\"T_69d0e_row2_col0\" class=\"data row2 col0\" >San Jose</td>\n      <td id=\"T_69d0e_row2_col1\" class=\"data row2 col1\" >66</td>\n      <td id=\"T_69d0e_row2_col2\" class=\"data row2 col2\" >5.01%</td>\n    </tr>\n    <tr>\n      <th id=\"T_69d0e_level0_row3\" class=\"row_heading level0 row3\" >3</th>\n      <td id=\"T_69d0e_row3_col0\" class=\"data row3 col0\" >San Francisco County</td>\n      <td id=\"T_69d0e_row3_col1\" class=\"data row3 col1\" >45</td>\n      <td id=\"T_69d0e_row3_col2\" class=\"data row3 col2\" >3.42%</td>\n    </tr>\n    <tr>\n      <th id=\"T_69d0e_level0_row4\" class=\"row_heading level0 row4\" >4</th>\n      <td id=\"T_69d0e_row4_col0\" class=\"data row4 col0\" >Sunnyvale</td>\n      <td id=\"T_69d0e_row4_col1\" class=\"data row4 col1\" >45</td>\n      <td id=\"T_69d0e_row4_col2\" class=\"data row4 col2\" >3.42%</td>\n    </tr>\n  </tbody>\n</table>\n",
          "text/plain": "<pandas.io.formats.style.Styler at 0x7f605d2e5bb0>"
         },
         "metadata": {},
         "output_type": "display_data"
        },
        {
         "data": {
          "text/html": "\n<div id=\"altair-viz-3d2ffb7055794945813abdc923e68214\"></div>\n<script type=\"text/javascript\">\n  var VEGA_DEBUG = (typeof VEGA_DEBUG == \"undefined\") ? {} : VEGA_DEBUG;\n  (function(spec, embedOpt){\n    let outputDiv = document.currentScript.previousElementSibling;\n    if (outputDiv.id !== \"altair-viz-3d2ffb7055794945813abdc923e68214\") {\n      outputDiv = document.getElementById(\"altair-viz-3d2ffb7055794945813abdc923e68214\");\n    }\n    const paths = {\n      \"vega\": \"https://cdn.jsdelivr.net/npm//vega@5?noext\",\n      \"vega-lib\": \"https://cdn.jsdelivr.net/npm//vega-lib?noext\",\n      \"vega-lite\": \"https://cdn.jsdelivr.net/npm//vega-lite@4.17.0?noext\",\n      \"vega-embed\": \"https://cdn.jsdelivr.net/npm//vega-embed@6?noext\",\n    };\n\n    function maybeLoadScript(lib, version) {\n      var key = `${lib.replace(\"-\", \"\")}_version`;\n      return (VEGA_DEBUG[key] == version) ?\n        Promise.resolve(paths[lib]) :\n        new Promise(function(resolve, reject) {\n          var s = document.createElement('script');\n          document.getElementsByTagName(\"head\")[0].appendChild(s);\n          s.async = true;\n          s.onload = () => {\n            VEGA_DEBUG[key] = version;\n            return resolve(paths[lib]);\n          };\n          s.onerror = () => reject(`Error loading script: ${paths[lib]}`);\n          s.src = paths[lib];\n        });\n    }\n\n    function showError(err) {\n      outputDiv.innerHTML = `<div class=\"error\" style=\"color:red;\">${err}</div>`;\n      throw err;\n    }\n\n    function displayChart(vegaEmbed) {\n      vegaEmbed(outputDiv, spec, embedOpt)\n        .catch(err => showError(`Javascript Error: ${err.message}<br>This usually means there's a typo in your chart specification. See the javascript console for the full traceback.`));\n    }\n\n    if(typeof define === \"function\" && define.amd) {\n      requirejs.config({paths});\n      require([\"vega-embed\"], displayChart, err => showError(`Error loading script: ${err.message}`));\n    } else {\n      maybeLoadScript(\"vega\", \"5\")\n        .then(() => maybeLoadScript(\"vega-lite\", \"4.17.0\"))\n        .then(() => maybeLoadScript(\"vega-embed\", \"6\"))\n        .catch(showError)\n        .then(() => displayChart(vegaEmbed));\n    }\n  })({\"config\": {\"view\": {\"continuousWidth\": 400, \"continuousHeight\": 300}}, \"data\": {\"name\": \"data-2d34081fc3d7ba7c3cd8f495e86d10d3\"}, \"mark\": \"bar\", \"encoding\": {\"color\": {\"field\": \"Categories\", \"scale\": {\"range\": [\"#2EA8CE\", \"#EB9F3C\", \"#F4D837\", \"#51BF9D\", \"#8CBCCB\", \"#9487C0\"]}, \"type\": \"nominal\"}, \"row\": {\"field\": \"Categories\", \"type\": \"nominal\"}, \"tooltip\": [{\"field\": \"Agency\", \"type\": \"nominal\"}, {\"field\": \"Funding Amount\", \"type\": \"quantitative\"}], \"x\": {\"axis\": {\"format\": \"$.2s\", \"title\": \"Obligated Funding ($2021)\"}, \"field\": \"Funding Amount\", \"type\": \"quantitative\"}, \"y\": {\"field\": \"Agency\", \"type\": \"nominal\"}}, \"$schema\": \"https://vega.github.io/schema/vega-lite/v4.17.0.json\", \"datasets\": {\"data-2d34081fc3d7ba7c3cd8f495e86d10d3\": [{\"Agency\": \"Oakland\", \"Categories\": \"Total Requested\", \"Funding Amount\": 956510.9982220907}, {\"Agency\": \"Contra Costa County\", \"Categories\": \"Total Requested\", \"Funding Amount\": 623295.6954156285}, {\"Agency\": \"San Jose\", \"Categories\": \"Total Requested\", \"Funding Amount\": 1164523.0377909504}, {\"Agency\": \"San Francisco County\", \"Categories\": \"Total Requested\", \"Funding Amount\": 4830086.66271812}, {\"Agency\": \"Sunnyvale\", \"Categories\": \"Total Requested\", \"Funding Amount\": 263230.4439052576}, {\"Agency\": \"Oakland\", \"Categories\": \"Fed Requested\", \"Funding Amount\": 666584.6247971884}, {\"Agency\": \"Contra Costa County\", \"Categories\": \"Fed Requested\", \"Funding Amount\": 425612.567296328}, {\"Agency\": \"San Jose\", \"Categories\": \"Fed Requested\", \"Funding Amount\": 949104.6690137495}, {\"Agency\": \"San Francisco County\", \"Categories\": \"Fed Requested\", \"Funding Amount\": 596351.3825193458}, {\"Agency\": \"Sunnyvale\", \"Categories\": \"Fed Requested\", \"Funding Amount\": 218961.48645088891}, {\"Agency\": \"Oakland\", \"Categories\": \"AC Requested\", \"Funding Amount\": 0.0}, {\"Agency\": \"Contra Costa County\", \"Categories\": \"AC Requested\", \"Funding Amount\": 229.00333419290047}, {\"Agency\": \"San Jose\", \"Categories\": \"AC Requested\", \"Funding Amount\": 0.0}, {\"Agency\": \"San Francisco County\", \"Categories\": \"AC Requested\", \"Funding Amount\": 3762.4890021642877}, {\"Agency\": \"Sunnyvale\", \"Categories\": \"AC Requested\", \"Funding Amount\": 0.0}]}}, {\"mode\": \"vega-lite\"});\n</script>",
          "text/plain": "alt.Chart(...)"
         },
         "metadata": {},
         "output_type": "display_data"
        }
       ]
      }
     },
     "65eb805946bf4d15bbc56a1c309f7916": {
      "model_module": "@jupyter-widgets/controls",
      "model_module_version": "1.5.0",
      "model_name": "DescriptionStyleModel",
      "state": {
       "description_width": ""
      }
     },
     "67e3517cb31c4861bc27b96891fa84f4": {
      "model_module": "@jupyter-widgets/controls",
      "model_module_version": "1.5.0",
      "model_name": "HTMLModel",
      "state": {
       "layout": "IPY_MODEL_0f592724094f4c5d9dd089d470767c62",
       "style": "IPY_MODEL_842d080aa8a44ffeacbfe286dcc312ea",
       "value": "<strong>Top Agencies using Freeway Projects</strong>"
      }
     },
     "685db9e4a7274409a814cdcaa8bce71a": {
      "model_module": "@jupyter-widgets/controls",
      "model_module_version": "1.5.0",
      "model_name": "DescriptionStyleModel",
      "state": {
       "description_width": ""
      }
     },
     "68b4fb6c87ba4ab49fd1e5066bd0fc1f": {
      "model_module": "@jupyter-widgets/controls",
      "model_module_version": "1.5.0",
      "model_name": "DescriptionStyleModel",
      "state": {
       "description_width": ""
      }
     },
     "68ec5546300d418eb206a32193278cf3": {
      "model_module": "@jupyter-widgets/base",
      "model_module_version": "1.2.0",
      "model_name": "LayoutModel",
      "state": {}
     },
     "698edf4b22ab470b93dd4de977599d28": {
      "model_module": "@jupyter-widgets/controls",
      "model_module_version": "1.5.0",
      "model_name": "HTMLModel",
      "state": {
       "layout": "IPY_MODEL_eefe77510059432689f28859dc98d493",
       "style": "IPY_MODEL_ce2b816b3af84e95b4667cdad2e48c86",
       "value": "<strong>Top Agencies using Infrastructure & Emergency Relief Projects</strong>"
      }
     },
     "6a753b563a024cbd93ef11ddb8835817": {
      "model_module": "@jupyter-widgets/controls",
      "model_module_version": "1.5.0",
      "model_name": "HTMLModel",
      "state": {
       "layout": "IPY_MODEL_25c6ccbe129c46888342a98a7da61070",
       "style": "IPY_MODEL_8841573f84254acab4556026637180dd",
       "value": "<strong>Top Agencies using Infrastructure & Emergency Relief Projects</strong>"
      }
     },
     "6aeddfe2b344462d8a97e9391fbd68a4": {
      "model_module": "@jupyter-widgets/output",
      "model_module_version": "1.0.0",
      "model_name": "OutputModel",
      "state": {
       "layout": "IPY_MODEL_7c415cff8471434ba83a931152c9e806",
       "outputs": [
        {
         "data": {
          "application/vnd.jupyter.widget-view+json": {
           "model_id": "",
           "version_major": 2,
           "version_minor": 0
          },
          "text/plain": "HTML(value='<strong>Top Agencies using Freeway Projects</strong>')"
         },
         "metadata": {},
         "output_type": "display_data"
        },
        {
         "data": {
          "text/html": "<style type=\"text/css\">\n</style>\n<table id=\"T_9ae19\">\n  <thead>\n    <tr>\n      <th class=\"blank level0\" >&nbsp;</th>\n      <th id=\"T_9ae19_level0_col0\" class=\"col_heading level0 col0\" >Agency</th>\n      <th id=\"T_9ae19_level0_col1\" class=\"col_heading level0 col1\" >Freeway Obligations</th>\n      <th id=\"T_9ae19_level0_col2\" class=\"col_heading level0 col2\" >Percent of Category</th>\n    </tr>\n  </thead>\n  <tbody>\n    <tr>\n      <th id=\"T_9ae19_level0_row0\" class=\"row_heading level0 row0\" >0</th>\n      <td id=\"T_9ae19_row0_col0\" class=\"data row0 col0\" >Metropolitan Transportation Commission</td>\n      <td id=\"T_9ae19_row0_col1\" class=\"data row0 col1\" >11</td>\n      <td id=\"T_9ae19_row0_col2\" class=\"data row0 col2\" >28.21%</td>\n    </tr>\n    <tr>\n      <th id=\"T_9ae19_level0_row1\" class=\"row_heading level0 row1\" >1</th>\n      <td id=\"T_9ae19_row1_col0\" class=\"data row1 col0\" >Contra Costa County</td>\n      <td id=\"T_9ae19_row1_col1\" class=\"data row1 col1\" >7</td>\n      <td id=\"T_9ae19_row1_col2\" class=\"data row1 col2\" >17.95%</td>\n    </tr>\n    <tr>\n      <th id=\"T_9ae19_level0_row2\" class=\"row_heading level0 row2\" >2</th>\n      <td id=\"T_9ae19_row2_col0\" class=\"data row2 col0\" >Caltrans</td>\n      <td id=\"T_9ae19_row2_col1\" class=\"data row2 col1\" >4</td>\n      <td id=\"T_9ae19_row2_col2\" class=\"data row2 col2\" >10.26%</td>\n    </tr>\n    <tr>\n      <th id=\"T_9ae19_level0_row3\" class=\"row_heading level0 row3\" >3</th>\n      <td id=\"T_9ae19_row3_col0\" class=\"data row3 col0\" >Metropolitan Transportation Commission - SAFE</td>\n      <td id=\"T_9ae19_row3_col1\" class=\"data row3 col1\" >3</td>\n      <td id=\"T_9ae19_row3_col2\" class=\"data row3 col2\" >7.69%</td>\n    </tr>\n    <tr>\n      <th id=\"T_9ae19_level0_row4\" class=\"row_heading level0 row4\" >4</th>\n      <td id=\"T_9ae19_row4_col0\" class=\"data row4 col0\" >Alameda County Congestion Management Agency</td>\n      <td id=\"T_9ae19_row4_col1\" class=\"data row4 col1\" >2</td>\n      <td id=\"T_9ae19_row4_col2\" class=\"data row4 col2\" >5.13%</td>\n    </tr>\n  </tbody>\n</table>\n",
          "text/plain": "<pandas.io.formats.style.Styler at 0x7f605d15ef10>"
         },
         "metadata": {},
         "output_type": "display_data"
        },
        {
         "data": {
          "text/html": "\n<div id=\"altair-viz-084061133b1441bba9ef6b5c7149d8ae\"></div>\n<script type=\"text/javascript\">\n  var VEGA_DEBUG = (typeof VEGA_DEBUG == \"undefined\") ? {} : VEGA_DEBUG;\n  (function(spec, embedOpt){\n    let outputDiv = document.currentScript.previousElementSibling;\n    if (outputDiv.id !== \"altair-viz-084061133b1441bba9ef6b5c7149d8ae\") {\n      outputDiv = document.getElementById(\"altair-viz-084061133b1441bba9ef6b5c7149d8ae\");\n    }\n    const paths = {\n      \"vega\": \"https://cdn.jsdelivr.net/npm//vega@5?noext\",\n      \"vega-lib\": \"https://cdn.jsdelivr.net/npm//vega-lib?noext\",\n      \"vega-lite\": \"https://cdn.jsdelivr.net/npm//vega-lite@4.17.0?noext\",\n      \"vega-embed\": \"https://cdn.jsdelivr.net/npm//vega-embed@6?noext\",\n    };\n\n    function maybeLoadScript(lib, version) {\n      var key = `${lib.replace(\"-\", \"\")}_version`;\n      return (VEGA_DEBUG[key] == version) ?\n        Promise.resolve(paths[lib]) :\n        new Promise(function(resolve, reject) {\n          var s = document.createElement('script');\n          document.getElementsByTagName(\"head\")[0].appendChild(s);\n          s.async = true;\n          s.onload = () => {\n            VEGA_DEBUG[key] = version;\n            return resolve(paths[lib]);\n          };\n          s.onerror = () => reject(`Error loading script: ${paths[lib]}`);\n          s.src = paths[lib];\n        });\n    }\n\n    function showError(err) {\n      outputDiv.innerHTML = `<div class=\"error\" style=\"color:red;\">${err}</div>`;\n      throw err;\n    }\n\n    function displayChart(vegaEmbed) {\n      vegaEmbed(outputDiv, spec, embedOpt)\n        .catch(err => showError(`Javascript Error: ${err.message}<br>This usually means there's a typo in your chart specification. See the javascript console for the full traceback.`));\n    }\n\n    if(typeof define === \"function\" && define.amd) {\n      requirejs.config({paths});\n      require([\"vega-embed\"], displayChart, err => showError(`Error loading script: ${err.message}`));\n    } else {\n      maybeLoadScript(\"vega\", \"5\")\n        .then(() => maybeLoadScript(\"vega-lite\", \"4.17.0\"))\n        .then(() => maybeLoadScript(\"vega-embed\", \"6\"))\n        .catch(showError)\n        .then(() => displayChart(vegaEmbed));\n    }\n  })({\"config\": {\"view\": {\"continuousWidth\": 400, \"continuousHeight\": 300}}, \"data\": {\"name\": \"data-aeb8dec487be436236d0c63cc42eb978\"}, \"mark\": \"bar\", \"encoding\": {\"color\": {\"field\": \"Categories\", \"scale\": {\"range\": [\"#2EA8CE\", \"#EB9F3C\", \"#F4D837\", \"#51BF9D\", \"#8CBCCB\", \"#9487C0\"]}, \"type\": \"nominal\"}, \"row\": {\"field\": \"Categories\", \"type\": \"nominal\"}, \"tooltip\": [{\"field\": \"Agency\", \"type\": \"nominal\"}, {\"field\": \"Funding Amount\", \"type\": \"quantitative\"}], \"x\": {\"axis\": {\"format\": \"$.2s\", \"title\": \"Obligated Funding ($2021)\"}, \"field\": \"Funding Amount\", \"type\": \"quantitative\"}, \"y\": {\"field\": \"Agency\", \"type\": \"nominal\"}}, \"$schema\": \"https://vega.github.io/schema/vega-lite/v4.17.0.json\", \"datasets\": {\"data-aeb8dec487be436236d0c63cc42eb978\": [{\"Agency\": \"Metropolitan Transportation Commission\", \"Categories\": \"Total Requested\", \"Funding Amount\": 1909627.6993880032}, {\"Agency\": \"Contra Costa County\", \"Categories\": \"Total Requested\", \"Funding Amount\": 1041396.7377879982}, {\"Agency\": \"Caltrans\", \"Categories\": \"Total Requested\", \"Funding Amount\": 7155873.948324381}, {\"Agency\": \"Metropolitan Transportation Commission - SAFE\", \"Categories\": \"Total Requested\", \"Funding Amount\": 5607282.0964267}, {\"Agency\": \"Alameda County Congestion Management Agency\", \"Categories\": \"Total Requested\", \"Funding Amount\": 771698.7792291272}, {\"Agency\": \"Metropolitan Transportation Commission\", \"Categories\": \"Fed Requested\", \"Funding Amount\": 1890540.1407647512}, {\"Agency\": \"Contra Costa County\", \"Categories\": \"Fed Requested\", \"Funding Amount\": 690949.2652206112}, {\"Agency\": \"Caltrans\", \"Categories\": \"Fed Requested\", \"Funding Amount\": 3977675.6275673257}, {\"Agency\": \"Metropolitan Transportation Commission - SAFE\", \"Categories\": \"Fed Requested\", \"Funding Amount\": 5607282.0964267}, {\"Agency\": \"Alameda County Congestion Management Agency\", \"Categories\": \"Fed Requested\", \"Funding Amount\": 571275.1031109582}, {\"Agency\": \"Metropolitan Transportation Commission\", \"Categories\": \"AC Requested\", \"Funding Amount\": 0.0}, {\"Agency\": \"Contra Costa County\", \"Categories\": \"AC Requested\", \"Funding Amount\": 26482.60130270215}, {\"Agency\": \"Caltrans\", \"Categories\": \"AC Requested\", \"Funding Amount\": 0.0}, {\"Agency\": \"Metropolitan Transportation Commission - SAFE\", \"Categories\": \"AC Requested\", \"Funding Amount\": 0.0}, {\"Agency\": \"Alameda County Congestion Management Agency\", \"Categories\": \"AC Requested\", \"Funding Amount\": 0.0}]}}, {\"mode\": \"vega-lite\"});\n</script>",
          "text/plain": "alt.Chart(...)"
         },
         "metadata": {},
         "output_type": "display_data"
        }
       ]
      }
     },
     "6afe9b66f986437da84df8bf6934e0ba": {
      "model_module": "@jupyter-widgets/base",
      "model_module_version": "1.2.0",
      "model_name": "LayoutModel",
      "state": {}
     },
     "6c1f2a019bdb4f9e8816e8aee9d55652": {
      "model_module": "@jupyter-widgets/controls",
      "model_module_version": "1.5.0",
      "model_name": "HTMLModel",
      "state": {
       "layout": "IPY_MODEL_4549de5f30f34966804f20988cac457d",
       "style": "IPY_MODEL_c65a5ca787df4cd9a69d552cfb111b79",
       "value": "<strong>Top Agencies using Active Transportation Projects</strong>"
      }
     },
     "6c44c2e4db1042dd86e482a23527f2a0": {
      "model_module": "@jupyter-widgets/controls",
      "model_module_version": "1.5.0",
      "model_name": "DescriptionStyleModel",
      "state": {
       "description_width": ""
      }
     },
     "6d0269cdd24346098c8cbf3e6f120ea9": {
      "model_module": "@jupyter-widgets/base",
      "model_module_version": "1.2.0",
      "model_name": "LayoutModel",
      "state": {}
     },
     "6d539fb2b62448f1b64eaaff7d3c7b88": {
      "model_module": "@jupyter-widgets/base",
      "model_module_version": "1.2.0",
      "model_name": "LayoutModel",
      "state": {}
     },
     "6de69c8b5199447e81832ee82a7716ee": {
      "model_module": "@jupyter-widgets/output",
      "model_module_version": "1.0.0",
      "model_name": "OutputModel",
      "state": {
       "layout": "IPY_MODEL_24426c4be1f746d5aa8a3c0408ca591f",
       "outputs": [
        {
         "data": {
          "application/vnd.jupyter.widget-view+json": {
           "model_id": "",
           "version_major": 2,
           "version_minor": 0
          },
          "text/plain": "HTML(value='<strong>Top Agencies using Bridge Projects</strong>')"
         },
         "metadata": {},
         "output_type": "display_data"
        },
        {
         "data": {
          "text/html": "<style type=\"text/css\">\n</style>\n<table id=\"T_ab913\">\n  <thead>\n    <tr>\n      <th class=\"blank level0\" >&nbsp;</th>\n      <th id=\"T_ab913_level0_col0\" class=\"col_heading level0 col0\" >Agency</th>\n      <th id=\"T_ab913_level0_col1\" class=\"col_heading level0 col1\" >Bridge Obligations</th>\n      <th id=\"T_ab913_level0_col2\" class=\"col_heading level0 col2\" >Percent of Category</th>\n    </tr>\n  </thead>\n  <tbody>\n    <tr>\n      <th id=\"T_ab913_level0_row0\" class=\"row_heading level0 row0\" >0</th>\n      <td id=\"T_ab913_row0_col0\" class=\"data row0 col0\" >Santa Clara County</td>\n      <td id=\"T_ab913_row0_col1\" class=\"data row0 col1\" >68</td>\n      <td id=\"T_ab913_row0_col2\" class=\"data row0 col2\" >14.17%</td>\n    </tr>\n    <tr>\n      <th id=\"T_ab913_level0_row1\" class=\"row_heading level0 row1\" >1</th>\n      <td id=\"T_ab913_row1_col0\" class=\"data row1 col0\" >Contra Costa County</td>\n      <td id=\"T_ab913_row1_col1\" class=\"data row1 col1\" >44</td>\n      <td id=\"T_ab913_row1_col2\" class=\"data row1 col2\" >9.17%</td>\n    </tr>\n    <tr>\n      <th id=\"T_ab913_level0_row2\" class=\"row_heading level0 row2\" >2</th>\n      <td id=\"T_ab913_row2_col0\" class=\"data row2 col0\" >Sonoma County</td>\n      <td id=\"T_ab913_row2_col1\" class=\"data row2 col1\" >34</td>\n      <td id=\"T_ab913_row2_col2\" class=\"data row2 col2\" >7.08%</td>\n    </tr>\n    <tr>\n      <th id=\"T_ab913_level0_row3\" class=\"row_heading level0 row3\" >3</th>\n      <td id=\"T_ab913_row3_col0\" class=\"data row3 col0\" >Napa County</td>\n      <td id=\"T_ab913_row3_col1\" class=\"data row3 col1\" >25</td>\n      <td id=\"T_ab913_row3_col2\" class=\"data row3 col2\" >5.21%</td>\n    </tr>\n    <tr>\n      <th id=\"T_ab913_level0_row4\" class=\"row_heading level0 row4\" >4</th>\n      <td id=\"T_ab913_row4_col0\" class=\"data row4 col0\" >Oakland</td>\n      <td id=\"T_ab913_row4_col1\" class=\"data row4 col1\" >22</td>\n      <td id=\"T_ab913_row4_col2\" class=\"data row4 col2\" >4.58%</td>\n    </tr>\n  </tbody>\n</table>\n",
          "text/plain": "<pandas.io.formats.style.Styler at 0x7f605e91b640>"
         },
         "metadata": {},
         "output_type": "display_data"
        },
        {
         "data": {
          "text/html": "\n<div id=\"altair-viz-e78c75b0ccb44f0190c045aceb5254da\"></div>\n<script type=\"text/javascript\">\n  var VEGA_DEBUG = (typeof VEGA_DEBUG == \"undefined\") ? {} : VEGA_DEBUG;\n  (function(spec, embedOpt){\n    let outputDiv = document.currentScript.previousElementSibling;\n    if (outputDiv.id !== \"altair-viz-e78c75b0ccb44f0190c045aceb5254da\") {\n      outputDiv = document.getElementById(\"altair-viz-e78c75b0ccb44f0190c045aceb5254da\");\n    }\n    const paths = {\n      \"vega\": \"https://cdn.jsdelivr.net/npm//vega@5?noext\",\n      \"vega-lib\": \"https://cdn.jsdelivr.net/npm//vega-lib?noext\",\n      \"vega-lite\": \"https://cdn.jsdelivr.net/npm//vega-lite@4.17.0?noext\",\n      \"vega-embed\": \"https://cdn.jsdelivr.net/npm//vega-embed@6?noext\",\n    };\n\n    function maybeLoadScript(lib, version) {\n      var key = `${lib.replace(\"-\", \"\")}_version`;\n      return (VEGA_DEBUG[key] == version) ?\n        Promise.resolve(paths[lib]) :\n        new Promise(function(resolve, reject) {\n          var s = document.createElement('script');\n          document.getElementsByTagName(\"head\")[0].appendChild(s);\n          s.async = true;\n          s.onload = () => {\n            VEGA_DEBUG[key] = version;\n            return resolve(paths[lib]);\n          };\n          s.onerror = () => reject(`Error loading script: ${paths[lib]}`);\n          s.src = paths[lib];\n        });\n    }\n\n    function showError(err) {\n      outputDiv.innerHTML = `<div class=\"error\" style=\"color:red;\">${err}</div>`;\n      throw err;\n    }\n\n    function displayChart(vegaEmbed) {\n      vegaEmbed(outputDiv, spec, embedOpt)\n        .catch(err => showError(`Javascript Error: ${err.message}<br>This usually means there's a typo in your chart specification. See the javascript console for the full traceback.`));\n    }\n\n    if(typeof define === \"function\" && define.amd) {\n      requirejs.config({paths});\n      require([\"vega-embed\"], displayChart, err => showError(`Error loading script: ${err.message}`));\n    } else {\n      maybeLoadScript(\"vega\", \"5\")\n        .then(() => maybeLoadScript(\"vega-lite\", \"4.17.0\"))\n        .then(() => maybeLoadScript(\"vega-embed\", \"6\"))\n        .catch(showError)\n        .then(() => displayChart(vegaEmbed));\n    }\n  })({\"config\": {\"view\": {\"continuousWidth\": 400, \"continuousHeight\": 300}}, \"data\": {\"name\": \"data-4ca6a40ed7566d9b16a25b6db2a09b51\"}, \"mark\": \"bar\", \"encoding\": {\"color\": {\"field\": \"Categories\", \"scale\": {\"range\": [\"#2EA8CE\", \"#EB9F3C\", \"#F4D837\", \"#51BF9D\", \"#8CBCCB\", \"#9487C0\"]}, \"type\": \"nominal\"}, \"row\": {\"field\": \"Categories\", \"type\": \"nominal\"}, \"tooltip\": [{\"field\": \"Agency\", \"type\": \"nominal\"}, {\"field\": \"Funding Amount\", \"type\": \"quantitative\"}], \"x\": {\"axis\": {\"format\": \"$.2s\", \"title\": \"Obligated Funding ($2021)\"}, \"field\": \"Funding Amount\", \"type\": \"quantitative\"}, \"y\": {\"field\": \"Agency\", \"type\": \"nominal\"}}, \"$schema\": \"https://vega.github.io/schema/vega-lite/v4.17.0.json\", \"datasets\": {\"data-4ca6a40ed7566d9b16a25b6db2a09b51\": [{\"Agency\": \"Santa Clara County\", \"Categories\": \"Total Requested\", \"Funding Amount\": 625948.8921137636}, {\"Agency\": \"Contra Costa County\", \"Categories\": \"Total Requested\", \"Funding Amount\": 1317256.4330172406}, {\"Agency\": \"Sonoma County\", \"Categories\": \"Total Requested\", \"Funding Amount\": 797679.174331438}, {\"Agency\": \"Napa County\", \"Categories\": \"Total Requested\", \"Funding Amount\": 403289.3793109502}, {\"Agency\": \"Oakland\", \"Categories\": \"Total Requested\", \"Funding Amount\": 1567186.3367742712}, {\"Agency\": \"Santa Clara County\", \"Categories\": \"Fed Requested\", \"Funding Amount\": 551357.6932043855}, {\"Agency\": \"Contra Costa County\", \"Categories\": \"Fed Requested\", \"Funding Amount\": 1044135.8320610252}, {\"Agency\": \"Sonoma County\", \"Categories\": \"Fed Requested\", \"Funding Amount\": 587684.7404175334}, {\"Agency\": \"Napa County\", \"Categories\": \"Fed Requested\", \"Funding Amount\": 409960.4929304969}, {\"Agency\": \"Oakland\", \"Categories\": \"Fed Requested\", \"Funding Amount\": 1259324.924989911}, {\"Agency\": \"Santa Clara County\", \"Categories\": \"AC Requested\", \"Funding Amount\": 4993.875645153608}, {\"Agency\": \"Contra Costa County\", \"Categories\": \"AC Requested\", \"Funding Amount\": 106533.47492573563}, {\"Agency\": \"Sonoma County\", \"Categories\": \"AC Requested\", \"Funding Amount\": 122257.02211158613}, {\"Agency\": \"Napa County\", \"Categories\": \"AC Requested\", \"Funding Amount\": 222.60068153467608}, {\"Agency\": \"Oakland\", \"Categories\": \"AC Requested\", \"Funding Amount\": 0.0}]}}, {\"mode\": \"vega-lite\"});\n</script>",
          "text/plain": "alt.Chart(...)"
         },
         "metadata": {},
         "output_type": "display_data"
        }
       ]
      }
     },
     "6e77b38fb2e44bc388970f8d92d51d14": {
      "model_module": "@jupyter-widgets/controls",
      "model_module_version": "1.5.0",
      "model_name": "HTMLModel",
      "state": {
       "layout": "IPY_MODEL_fbfd4bbb623044ceb7f2b2c467b70443",
       "style": "IPY_MODEL_b46ca9f548ac40dbbc1438ebd4459aa1",
       "value": "<strong>Top Agencies using Congestion Relief Projects</strong>"
      }
     },
     "6ebced4d84404c76a17873254156de78": {
      "model_module": "@jupyter-widgets/base",
      "model_module_version": "1.2.0",
      "model_name": "LayoutModel",
      "state": {}
     },
     "6ed208b345d8428f9672bab1c9c63c2c": {
      "model_module": "@jupyter-widgets/base",
      "model_module_version": "1.2.0",
      "model_name": "LayoutModel",
      "state": {}
     },
     "6f4149efa58f40d3a9b7ef1472dc803c": {
      "model_module": "@jupyter-widgets/output",
      "model_module_version": "1.0.0",
      "model_name": "OutputModel",
      "state": {
       "layout": "IPY_MODEL_b53de4213bab477caba8883365e0d968",
       "outputs": [
        {
         "data": {
          "application/vnd.jupyter.widget-view+json": {
           "model_id": "4921733e94a44bc6bcbd52c3247926e9",
           "version_major": 2,
           "version_minor": 0
          },
          "text/plain": "HTML(value='<strong>Top Agencies using Congestion Relief Projects</strong>')"
         },
         "metadata": {},
         "output_type": "display_data"
        },
        {
         "data": {
          "text/html": "<style type=\"text/css\">\n</style>\n<table id=\"T_bed65\">\n  <thead>\n    <tr>\n      <th class=\"blank level0\" >&nbsp;</th>\n      <th id=\"T_bed65_level0_col0\" class=\"col_heading level0 col0\" >Agency</th>\n      <th id=\"T_bed65_level0_col1\" class=\"col_heading level0 col1\" >Congestion Relief Obligations</th>\n      <th id=\"T_bed65_level0_col2\" class=\"col_heading level0 col2\" >Percent of Category</th>\n    </tr>\n  </thead>\n  <tbody>\n    <tr>\n      <th id=\"T_bed65_level0_row0\" class=\"row_heading level0 row0\" >0</th>\n      <td id=\"T_bed65_row0_col0\" class=\"data row0 col0\" >Contra Costa Transportation Authority</td>\n      <td id=\"T_bed65_row0_col1\" class=\"data row0 col1\" >6</td>\n      <td id=\"T_bed65_row0_col2\" class=\"data row0 col2\" >22.22%</td>\n    </tr>\n    <tr>\n      <th id=\"T_bed65_level0_row1\" class=\"row_heading level0 row1\" >1</th>\n      <td id=\"T_bed65_row1_col0\" class=\"data row1 col0\" >Metropolitan Transportation Commission</td>\n      <td id=\"T_bed65_row1_col1\" class=\"data row1 col1\" >5</td>\n      <td id=\"T_bed65_row1_col2\" class=\"data row1 col2\" >18.52%</td>\n    </tr>\n    <tr>\n      <th id=\"T_bed65_level0_row2\" class=\"row_heading level0 row2\" >2</th>\n      <td id=\"T_bed65_row2_col0\" class=\"data row2 col0\" >Sonoma County Transportation Authority</td>\n      <td id=\"T_bed65_row2_col1\" class=\"data row2 col1\" >4</td>\n      <td id=\"T_bed65_row2_col2\" class=\"data row2 col2\" >14.81%</td>\n    </tr>\n    <tr>\n      <th id=\"T_bed65_level0_row3\" class=\"row_heading level0 row3\" >3</th>\n      <td id=\"T_bed65_row3_col0\" class=\"data row3 col0\" >San Mateo</td>\n      <td id=\"T_bed65_row3_col1\" class=\"data row3 col1\" >3</td>\n      <td id=\"T_bed65_row3_col2\" class=\"data row3 col2\" >11.11%</td>\n    </tr>\n    <tr>\n      <th id=\"T_bed65_level0_row4\" class=\"row_heading level0 row4\" >4</th>\n      <td id=\"T_bed65_row4_col0\" class=\"data row4 col0\" >Solano Transportation Authority</td>\n      <td id=\"T_bed65_row4_col1\" class=\"data row4 col1\" >3</td>\n      <td id=\"T_bed65_row4_col2\" class=\"data row4 col2\" >11.11%</td>\n    </tr>\n  </tbody>\n</table>\n",
          "text/plain": "<pandas.io.formats.style.Styler at 0x7f605d6c4f70>"
         },
         "metadata": {},
         "output_type": "display_data"
        },
        {
         "data": {
          "text/html": "\n<div id=\"altair-viz-130d171070b14838b7f0d97ea589f928\"></div>\n<script type=\"text/javascript\">\n  var VEGA_DEBUG = (typeof VEGA_DEBUG == \"undefined\") ? {} : VEGA_DEBUG;\n  (function(spec, embedOpt){\n    let outputDiv = document.currentScript.previousElementSibling;\n    if (outputDiv.id !== \"altair-viz-130d171070b14838b7f0d97ea589f928\") {\n      outputDiv = document.getElementById(\"altair-viz-130d171070b14838b7f0d97ea589f928\");\n    }\n    const paths = {\n      \"vega\": \"https://cdn.jsdelivr.net/npm//vega@5?noext\",\n      \"vega-lib\": \"https://cdn.jsdelivr.net/npm//vega-lib?noext\",\n      \"vega-lite\": \"https://cdn.jsdelivr.net/npm//vega-lite@4.17.0?noext\",\n      \"vega-embed\": \"https://cdn.jsdelivr.net/npm//vega-embed@6?noext\",\n    };\n\n    function maybeLoadScript(lib, version) {\n      var key = `${lib.replace(\"-\", \"\")}_version`;\n      return (VEGA_DEBUG[key] == version) ?\n        Promise.resolve(paths[lib]) :\n        new Promise(function(resolve, reject) {\n          var s = document.createElement('script');\n          document.getElementsByTagName(\"head\")[0].appendChild(s);\n          s.async = true;\n          s.onload = () => {\n            VEGA_DEBUG[key] = version;\n            return resolve(paths[lib]);\n          };\n          s.onerror = () => reject(`Error loading script: ${paths[lib]}`);\n          s.src = paths[lib];\n        });\n    }\n\n    function showError(err) {\n      outputDiv.innerHTML = `<div class=\"error\" style=\"color:red;\">${err}</div>`;\n      throw err;\n    }\n\n    function displayChart(vegaEmbed) {\n      vegaEmbed(outputDiv, spec, embedOpt)\n        .catch(err => showError(`Javascript Error: ${err.message}<br>This usually means there's a typo in your chart specification. See the javascript console for the full traceback.`));\n    }\n\n    if(typeof define === \"function\" && define.amd) {\n      requirejs.config({paths});\n      require([\"vega-embed\"], displayChart, err => showError(`Error loading script: ${err.message}`));\n    } else {\n      maybeLoadScript(\"vega\", \"5\")\n        .then(() => maybeLoadScript(\"vega-lite\", \"4.17.0\"))\n        .then(() => maybeLoadScript(\"vega-embed\", \"6\"))\n        .catch(showError)\n        .then(() => displayChart(vegaEmbed));\n    }\n  })({\"config\": {\"view\": {\"continuousWidth\": 400, \"continuousHeight\": 300}}, \"data\": {\"name\": \"data-288e035acb4bd3ef567cff5d4068697a\"}, \"mark\": \"bar\", \"encoding\": {\"color\": {\"field\": \"Categories\", \"scale\": {\"range\": [\"#2EA8CE\", \"#EB9F3C\", \"#F4D837\", \"#51BF9D\", \"#8CBCCB\", \"#9487C0\"]}, \"type\": \"nominal\"}, \"row\": {\"field\": \"Categories\", \"type\": \"nominal\"}, \"tooltip\": [{\"field\": \"Agency\", \"type\": \"nominal\"}, {\"field\": \"Funding Amount\", \"type\": \"quantitative\"}], \"x\": {\"axis\": {\"format\": \"$.2s\", \"title\": \"Obligated Funding ($2021)\"}, \"field\": \"Funding Amount\", \"type\": \"quantitative\"}, \"y\": {\"field\": \"Agency\", \"type\": \"nominal\"}}, \"$schema\": \"https://vega.github.io/schema/vega-lite/v4.17.0.json\", \"datasets\": {\"data-288e035acb4bd3ef567cff5d4068697a\": [{\"Agency\": \"Contra Costa Transportation Authority\", \"Categories\": \"Total Requested\", \"Funding Amount\": 197250.95617523268}, {\"Agency\": \"Metropolitan Transportation Commission\", \"Categories\": \"Total Requested\", \"Funding Amount\": 2873575.211728853}, {\"Agency\": \"Sonoma County Transportation Authority\", \"Categories\": \"Total Requested\", \"Funding Amount\": 24784.0927036328}, {\"Agency\": \"San Mateo\", \"Categories\": \"Total Requested\", \"Funding Amount\": 50566.77608965471}, {\"Agency\": \"Solano Transportation Authority\", \"Categories\": \"Total Requested\", \"Funding Amount\": 156006.74522970387}, {\"Agency\": \"Contra Costa Transportation Authority\", \"Categories\": \"Fed Requested\", \"Funding Amount\": 158480.104075906}, {\"Agency\": \"Metropolitan Transportation Commission\", \"Categories\": \"Fed Requested\", \"Funding Amount\": 2873576.667669716}, {\"Agency\": \"Sonoma County Transportation Authority\", \"Categories\": \"Fed Requested\", \"Funding Amount\": 24773.560430762882}, {\"Agency\": \"San Mateo\", \"Categories\": \"Fed Requested\", \"Funding Amount\": 42627.45791136464}, {\"Agency\": \"Solano Transportation Authority\", \"Categories\": \"Fed Requested\", \"Funding Amount\": 203358.6054765724}, {\"Agency\": \"Contra Costa Transportation Authority\", \"Categories\": \"AC Requested\", \"Funding Amount\": 0.0}, {\"Agency\": \"Metropolitan Transportation Commission\", \"Categories\": \"AC Requested\", \"Funding Amount\": 0.0}, {\"Agency\": \"Sonoma County Transportation Authority\", \"Categories\": \"AC Requested\", \"Funding Amount\": 0.0}, {\"Agency\": \"San Mateo\", \"Categories\": \"AC Requested\", \"Funding Amount\": 0.0}, {\"Agency\": \"Solano Transportation Authority\", \"Categories\": \"AC Requested\", \"Funding Amount\": 0.0}]}}, {\"mode\": \"vega-lite\"});\n</script>",
          "text/plain": "alt.Chart(...)"
         },
         "metadata": {},
         "output_type": "display_data"
        }
       ]
      }
     },
     "6f4daa32b18642cb8dfd56b42f9a2a19": {
      "model_module": "@jupyter-widgets/base",
      "model_module_version": "1.2.0",
      "model_name": "LayoutModel",
      "state": {}
     },
     "6fb86f27128e403d8b0a7722d7f4aca0": {
      "model_module": "@jupyter-widgets/controls",
      "model_module_version": "1.5.0",
      "model_name": "TabModel",
      "state": {
       "_titles": {
        "0": "Active Transportation",
        "1": "Transit",
        "2": "Bridge",
        "3": "Street",
        "4": "Freeway",
        "5": "Infrastructure & Emergency Relief",
        "6": "Congestion Relief"
       },
       "children": [
        "IPY_MODEL_773cf033a64a4a46807fd96523888c89",
        "IPY_MODEL_48ed5c0c2d41409a89bc8182349352cb",
        "IPY_MODEL_08cdbdc453114125b57773be52078e96",
        "IPY_MODEL_6028df8567634cc6aacab2215d2bfafe",
        "IPY_MODEL_800458846735413887be561376d14a6a",
        "IPY_MODEL_85f0b527db1b49ce9d513518932a9ddc",
        "IPY_MODEL_3a2ff7898b764fd69e41ebfed63dae2b"
       ],
       "layout": "IPY_MODEL_eae6ca3c5a6b475bb966df561c444c5c",
       "selected_index": 4
      }
     },
     "70b293aa2d6c4ab9a74d4e50df162907": {
      "model_module": "@jupyter-widgets/base",
      "model_module_version": "1.2.0",
      "model_name": "LayoutModel",
      "state": {}
     },
     "7222656d1d6f43ab801d0d91465d563b": {
      "model_module": "@jupyter-widgets/base",
      "model_module_version": "1.2.0",
      "model_name": "LayoutModel",
      "state": {}
     },
     "727c4df698754751aae89b4298a3b043": {
      "model_module": "@jupyter-widgets/controls",
      "model_module_version": "1.5.0",
      "model_name": "HTMLModel",
      "state": {
       "layout": "IPY_MODEL_7bbabedd0a274f77b49b4e663f90305b",
       "style": "IPY_MODEL_0d50be383b8845b1aea71255ac4e3eef",
       "value": "<strong>Top Agencies using Transit Projects</strong>"
      }
     },
     "72dd767ac8f14762b48281de0ace032f": {
      "model_module": "@jupyter-widgets/output",
      "model_module_version": "1.0.0",
      "model_name": "OutputModel",
      "state": {
       "layout": "IPY_MODEL_261c6f68334345899523afec2e61a101",
       "outputs": [
        {
         "data": {
          "application/vnd.jupyter.widget-view+json": {
           "model_id": "",
           "version_major": 2,
           "version_minor": 0
          },
          "text/plain": "HTML(value='<strong>Top Agencies using Infrastructure & Emergency Relief Projects</strong>')"
         },
         "metadata": {},
         "output_type": "display_data"
        },
        {
         "data": {
          "text/html": "<style type=\"text/css\">\n</style>\n<table id=\"T_3c69b\">\n  <thead>\n    <tr>\n      <th class=\"blank level0\" >&nbsp;</th>\n      <th id=\"T_3c69b_level0_col0\" class=\"col_heading level0 col0\" >Agency</th>\n      <th id=\"T_3c69b_level0_col1\" class=\"col_heading level0 col1\" >Infrastructure & Emergency Relief Obligations</th>\n      <th id=\"T_3c69b_level0_col2\" class=\"col_heading level0 col2\" >Percent of Category</th>\n    </tr>\n  </thead>\n  <tbody>\n    <tr>\n      <th id=\"T_3c69b_level0_row0\" class=\"row_heading level0 row0\" >0</th>\n      <td id=\"T_3c69b_row0_col0\" class=\"data row0 col0\" >Humboldt County</td>\n      <td id=\"T_3c69b_row0_col1\" class=\"data row0 col1\" >597</td>\n      <td id=\"T_3c69b_row0_col2\" class=\"data row0 col2\" >4.77%</td>\n    </tr>\n    <tr>\n      <th id=\"T_3c69b_level0_row1\" class=\"row_heading level0 row1\" >1</th>\n      <td id=\"T_3c69b_row1_col0\" class=\"data row1 col0\" >Santa Cruz County</td>\n      <td id=\"T_3c69b_row1_col1\" class=\"data row1 col1\" >416</td>\n      <td id=\"T_3c69b_row1_col2\" class=\"data row1 col2\" >3.32%</td>\n    </tr>\n    <tr>\n      <th id=\"T_3c69b_level0_row2\" class=\"row_heading level0 row2\" >2</th>\n      <td id=\"T_3c69b_row2_col0\" class=\"data row2 col0\" >Los Angeles County</td>\n      <td id=\"T_3c69b_row2_col1\" class=\"data row2 col1\" >319</td>\n      <td id=\"T_3c69b_row2_col2\" class=\"data row2 col2\" >2.55%</td>\n    </tr>\n    <tr>\n      <th id=\"T_3c69b_level0_row3\" class=\"row_heading level0 row3\" >3</th>\n      <td id=\"T_3c69b_row3_col0\" class=\"data row3 col0\" >Los Angeles</td>\n      <td id=\"T_3c69b_row3_col1\" class=\"data row3 col1\" >219</td>\n      <td id=\"T_3c69b_row3_col2\" class=\"data row3 col2\" >1.75%</td>\n    </tr>\n    <tr>\n      <th id=\"T_3c69b_level0_row4\" class=\"row_heading level0 row4\" >4</th>\n      <td id=\"T_3c69b_row4_col0\" class=\"data row4 col0\" >Mendocino County</td>\n      <td id=\"T_3c69b_row4_col1\" class=\"data row4 col1\" >215</td>\n      <td id=\"T_3c69b_row4_col2\" class=\"data row4 col2\" >1.72%</td>\n    </tr>\n  </tbody>\n</table>\n",
          "text/plain": "<pandas.io.formats.style.Styler at 0x7f605e8959d0>"
         },
         "metadata": {},
         "output_type": "display_data"
        },
        {
         "data": {
          "text/html": "\n<div id=\"altair-viz-8ad262a13d624482a36f0d357406baac\"></div>\n<script type=\"text/javascript\">\n  var VEGA_DEBUG = (typeof VEGA_DEBUG == \"undefined\") ? {} : VEGA_DEBUG;\n  (function(spec, embedOpt){\n    let outputDiv = document.currentScript.previousElementSibling;\n    if (outputDiv.id !== \"altair-viz-8ad262a13d624482a36f0d357406baac\") {\n      outputDiv = document.getElementById(\"altair-viz-8ad262a13d624482a36f0d357406baac\");\n    }\n    const paths = {\n      \"vega\": \"https://cdn.jsdelivr.net/npm//vega@5?noext\",\n      \"vega-lib\": \"https://cdn.jsdelivr.net/npm//vega-lib?noext\",\n      \"vega-lite\": \"https://cdn.jsdelivr.net/npm//vega-lite@4.17.0?noext\",\n      \"vega-embed\": \"https://cdn.jsdelivr.net/npm//vega-embed@6?noext\",\n    };\n\n    function maybeLoadScript(lib, version) {\n      var key = `${lib.replace(\"-\", \"\")}_version`;\n      return (VEGA_DEBUG[key] == version) ?\n        Promise.resolve(paths[lib]) :\n        new Promise(function(resolve, reject) {\n          var s = document.createElement('script');\n          document.getElementsByTagName(\"head\")[0].appendChild(s);\n          s.async = true;\n          s.onload = () => {\n            VEGA_DEBUG[key] = version;\n            return resolve(paths[lib]);\n          };\n          s.onerror = () => reject(`Error loading script: ${paths[lib]}`);\n          s.src = paths[lib];\n        });\n    }\n\n    function showError(err) {\n      outputDiv.innerHTML = `<div class=\"error\" style=\"color:red;\">${err}</div>`;\n      throw err;\n    }\n\n    function displayChart(vegaEmbed) {\n      vegaEmbed(outputDiv, spec, embedOpt)\n        .catch(err => showError(`Javascript Error: ${err.message}<br>This usually means there's a typo in your chart specification. See the javascript console for the full traceback.`));\n    }\n\n    if(typeof define === \"function\" && define.amd) {\n      requirejs.config({paths});\n      require([\"vega-embed\"], displayChart, err => showError(`Error loading script: ${err.message}`));\n    } else {\n      maybeLoadScript(\"vega\", \"5\")\n        .then(() => maybeLoadScript(\"vega-lite\", \"4.17.0\"))\n        .then(() => maybeLoadScript(\"vega-embed\", \"6\"))\n        .catch(showError)\n        .then(() => displayChart(vegaEmbed));\n    }\n  })({\"config\": {\"view\": {\"continuousWidth\": 400, \"continuousHeight\": 300}}, \"data\": {\"name\": \"data-1d42f71da1f719a1727ab54c0d7fa72b\"}, \"mark\": \"bar\", \"encoding\": {\"color\": {\"field\": \"Categories\", \"scale\": {\"range\": [\"#2EA8CE\", \"#EB9F3C\", \"#F4D837\", \"#51BF9D\", \"#8CBCCB\", \"#9487C0\"]}, \"type\": \"nominal\"}, \"row\": {\"field\": \"Categories\", \"type\": \"nominal\"}, \"tooltip\": [{\"field\": \"Agency\", \"type\": \"nominal\"}, {\"field\": \"Funding Amount\", \"type\": \"quantitative\"}], \"x\": {\"axis\": {\"format\": \"$.2s\", \"title\": \"Obligated Funding ($2021)\"}, \"field\": \"Funding Amount\", \"type\": \"quantitative\"}, \"y\": {\"field\": \"Agency\", \"type\": \"nominal\"}}, \"$schema\": \"https://vega.github.io/schema/vega-lite/v4.17.0.json\", \"datasets\": {\"data-1d42f71da1f719a1727ab54c0d7fa72b\": [{\"Agency\": \"Humboldt County\", \"Categories\": \"Total Requested\", \"Funding Amount\": 112669.18747100169}, {\"Agency\": \"Santa Cruz County\", \"Categories\": \"Total Requested\", \"Funding Amount\": 147857.64101167236}, {\"Agency\": \"Los Angeles County\", \"Categories\": \"Total Requested\", \"Funding Amount\": 458978.3342168657}, {\"Agency\": \"Los Angeles\", \"Categories\": \"Total Requested\", \"Funding Amount\": 1592515.5363597213}, {\"Agency\": \"Mendocino County\", \"Categories\": \"Total Requested\", \"Funding Amount\": 202450.71377547842}, {\"Agency\": \"Humboldt County\", \"Categories\": \"Fed Requested\", \"Funding Amount\": 88051.80334980703}, {\"Agency\": \"Santa Cruz County\", \"Categories\": \"Fed Requested\", \"Funding Amount\": 148275.4389586794}, {\"Agency\": \"Los Angeles County\", \"Categories\": \"Fed Requested\", \"Funding Amount\": 331507.17978188396}, {\"Agency\": \"Los Angeles\", \"Categories\": \"Fed Requested\", \"Funding Amount\": 1078997.7005355777}, {\"Agency\": \"Mendocino County\", \"Categories\": \"Fed Requested\", \"Funding Amount\": 186900.05095104763}, {\"Agency\": \"Humboldt County\", \"Categories\": \"AC Requested\", \"Funding Amount\": 12771.873503774495}, {\"Agency\": \"Santa Cruz County\", \"Categories\": \"AC Requested\", \"Funding Amount\": -18388.66952638947}, {\"Agency\": \"Los Angeles County\", \"Categories\": \"AC Requested\", \"Funding Amount\": 16235.397448937147}, {\"Agency\": \"Los Angeles\", \"Categories\": \"AC Requested\", \"Funding Amount\": 155602.3652872967}, {\"Agency\": \"Mendocino County\", \"Categories\": \"AC Requested\", \"Funding Amount\": 284.49184504807965}]}}, {\"mode\": \"vega-lite\"});\n</script>",
          "text/plain": "alt.Chart(...)"
         },
         "metadata": {},
         "output_type": "display_data"
        }
       ]
      }
     },
     "72f3b72742f44444b94fe8c7454aebe4": {
      "model_module": "@jupyter-widgets/output",
      "model_module_version": "1.0.0",
      "model_name": "OutputModel",
      "state": {
       "layout": "IPY_MODEL_c25b25eb950341f1a09a1b9bb06ac31d",
       "outputs": [
        {
         "data": {
          "application/vnd.jupyter.widget-view+json": {
           "model_id": "",
           "version_major": 2,
           "version_minor": 0
          },
          "text/plain": "HTML(value='<strong>Top Agencies using Active Transportation Projects</strong>')"
         },
         "metadata": {},
         "output_type": "display_data"
        },
        {
         "data": {
          "text/html": "<style type=\"text/css\">\n</style>\n<table id=\"T_a5429\">\n  <thead>\n    <tr>\n      <th class=\"blank level0\" >&nbsp;</th>\n      <th id=\"T_a5429_level0_col0\" class=\"col_heading level0 col0\" >Agency</th>\n      <th id=\"T_a5429_level0_col1\" class=\"col_heading level0 col1\" >Active Transportation Obligations</th>\n      <th id=\"T_a5429_level0_col2\" class=\"col_heading level0 col2\" >Percent of Category</th>\n    </tr>\n  </thead>\n  <tbody>\n    <tr>\n      <th id=\"T_a5429_level0_row0\" class=\"row_heading level0 row0\" >0</th>\n      <td id=\"T_a5429_row0_col0\" class=\"data row0 col0\" >San Jose</td>\n      <td id=\"T_a5429_row0_col1\" class=\"data row0 col1\" >79</td>\n      <td id=\"T_a5429_row0_col2\" class=\"data row0 col2\" >7.38%</td>\n    </tr>\n    <tr>\n      <th id=\"T_a5429_level0_row1\" class=\"row_heading level0 row1\" >1</th>\n      <td id=\"T_a5429_row1_col0\" class=\"data row1 col0\" >Oakland</td>\n      <td id=\"T_a5429_row1_col1\" class=\"data row1 col1\" >65</td>\n      <td id=\"T_a5429_row1_col2\" class=\"data row1 col2\" >6.07%</td>\n    </tr>\n    <tr>\n      <th id=\"T_a5429_level0_row2\" class=\"row_heading level0 row2\" >2</th>\n      <td id=\"T_a5429_row2_col0\" class=\"data row2 col0\" >City & County of San Francisco, MTA/Parking & Traffic</td>\n      <td id=\"T_a5429_row2_col1\" class=\"data row2 col1\" >46</td>\n      <td id=\"T_a5429_row2_col2\" class=\"data row2 col2\" >4.30%</td>\n    </tr>\n    <tr>\n      <th id=\"T_a5429_level0_row3\" class=\"row_heading level0 row3\" >3</th>\n      <td id=\"T_a5429_row3_col0\" class=\"data row3 col0\" >Sunnyvale</td>\n      <td id=\"T_a5429_row3_col1\" class=\"data row3 col1\" >45</td>\n      <td id=\"T_a5429_row3_col2\" class=\"data row3 col2\" >4.21%</td>\n    </tr>\n    <tr>\n      <th id=\"T_a5429_level0_row4\" class=\"row_heading level0 row4\" >4</th>\n      <td id=\"T_a5429_row4_col0\" class=\"data row4 col0\" >Contra Costa County</td>\n      <td id=\"T_a5429_row4_col1\" class=\"data row4 col1\" >39</td>\n      <td id=\"T_a5429_row4_col2\" class=\"data row4 col2\" >3.64%</td>\n    </tr>\n  </tbody>\n</table>\n",
          "text/plain": "<pandas.io.formats.style.Styler at 0x7f605e0c10d0>"
         },
         "metadata": {},
         "output_type": "display_data"
        },
        {
         "data": {
          "text/html": "\n<div id=\"altair-viz-19c4e0efef7348499226bd712144e42d\"></div>\n<script type=\"text/javascript\">\n  var VEGA_DEBUG = (typeof VEGA_DEBUG == \"undefined\") ? {} : VEGA_DEBUG;\n  (function(spec, embedOpt){\n    let outputDiv = document.currentScript.previousElementSibling;\n    if (outputDiv.id !== \"altair-viz-19c4e0efef7348499226bd712144e42d\") {\n      outputDiv = document.getElementById(\"altair-viz-19c4e0efef7348499226bd712144e42d\");\n    }\n    const paths = {\n      \"vega\": \"https://cdn.jsdelivr.net/npm//vega@5?noext\",\n      \"vega-lib\": \"https://cdn.jsdelivr.net/npm//vega-lib?noext\",\n      \"vega-lite\": \"https://cdn.jsdelivr.net/npm//vega-lite@4.17.0?noext\",\n      \"vega-embed\": \"https://cdn.jsdelivr.net/npm//vega-embed@6?noext\",\n    };\n\n    function maybeLoadScript(lib, version) {\n      var key = `${lib.replace(\"-\", \"\")}_version`;\n      return (VEGA_DEBUG[key] == version) ?\n        Promise.resolve(paths[lib]) :\n        new Promise(function(resolve, reject) {\n          var s = document.createElement('script');\n          document.getElementsByTagName(\"head\")[0].appendChild(s);\n          s.async = true;\n          s.onload = () => {\n            VEGA_DEBUG[key] = version;\n            return resolve(paths[lib]);\n          };\n          s.onerror = () => reject(`Error loading script: ${paths[lib]}`);\n          s.src = paths[lib];\n        });\n    }\n\n    function showError(err) {\n      outputDiv.innerHTML = `<div class=\"error\" style=\"color:red;\">${err}</div>`;\n      throw err;\n    }\n\n    function displayChart(vegaEmbed) {\n      vegaEmbed(outputDiv, spec, embedOpt)\n        .catch(err => showError(`Javascript Error: ${err.message}<br>This usually means there's a typo in your chart specification. See the javascript console for the full traceback.`));\n    }\n\n    if(typeof define === \"function\" && define.amd) {\n      requirejs.config({paths});\n      require([\"vega-embed\"], displayChart, err => showError(`Error loading script: ${err.message}`));\n    } else {\n      maybeLoadScript(\"vega\", \"5\")\n        .then(() => maybeLoadScript(\"vega-lite\", \"4.17.0\"))\n        .then(() => maybeLoadScript(\"vega-embed\", \"6\"))\n        .catch(showError)\n        .then(() => displayChart(vegaEmbed));\n    }\n  })({\"config\": {\"view\": {\"continuousWidth\": 400, \"continuousHeight\": 300}}, \"data\": {\"name\": \"data-f2b192092ab40256b133e03678fdbbef\"}, \"mark\": \"bar\", \"encoding\": {\"color\": {\"field\": \"Categories\", \"scale\": {\"range\": [\"#2EA8CE\", \"#EB9F3C\", \"#F4D837\", \"#51BF9D\", \"#8CBCCB\", \"#9487C0\"]}, \"type\": \"nominal\"}, \"row\": {\"field\": \"Categories\", \"type\": \"nominal\"}, \"tooltip\": [{\"field\": \"Agency\", \"type\": \"nominal\"}, {\"field\": \"Funding Amount\", \"type\": \"quantitative\"}], \"x\": {\"axis\": {\"format\": \"$.2s\", \"title\": \"Obligated Funding ($2021)\"}, \"field\": \"Funding Amount\", \"type\": \"quantitative\"}, \"y\": {\"field\": \"Agency\", \"type\": \"nominal\"}}, \"$schema\": \"https://vega.github.io/schema/vega-lite/v4.17.0.json\", \"datasets\": {\"data-f2b192092ab40256b133e03678fdbbef\": [{\"Agency\": \"San Jose\", \"Categories\": \"Total Requested\", \"Funding Amount\": 814137.7836283975}, {\"Agency\": \"Oakland\", \"Categories\": \"Total Requested\", \"Funding Amount\": 1190695.923476186}, {\"Agency\": \"City & County of San Francisco, MTA/Parking & Traffic\", \"Categories\": \"Total Requested\", \"Funding Amount\": 399422.13886393333}, {\"Agency\": \"Sunnyvale\", \"Categories\": \"Total Requested\", \"Funding Amount\": 318241.7714299652}, {\"Agency\": \"Contra Costa County\", \"Categories\": \"Total Requested\", \"Funding Amount\": 898253.4359490186}, {\"Agency\": \"San Jose\", \"Categories\": \"Fed Requested\", \"Funding Amount\": 608959.3462479156}, {\"Agency\": \"Oakland\", \"Categories\": \"Fed Requested\", \"Funding Amount\": 768046.0772685818}, {\"Agency\": \"City & County of San Francisco, MTA/Parking & Traffic\", \"Categories\": \"Fed Requested\", \"Funding Amount\": 275973.90511533467}, {\"Agency\": \"Sunnyvale\", \"Categories\": \"Fed Requested\", \"Funding Amount\": 253929.59677578227}, {\"Agency\": \"Contra Costa County\", \"Categories\": \"Fed Requested\", \"Funding Amount\": 421336.3001180079}, {\"Agency\": \"San Jose\", \"Categories\": \"AC Requested\", \"Funding Amount\": 1556.8402544351802}, {\"Agency\": \"Oakland\", \"Categories\": \"AC Requested\", \"Funding Amount\": 0.0}, {\"Agency\": \"City & County of San Francisco, MTA/Parking & Traffic\", \"Categories\": \"AC Requested\", \"Funding Amount\": 0.0}, {\"Agency\": \"Sunnyvale\", \"Categories\": \"AC Requested\", \"Funding Amount\": 0.0}, {\"Agency\": \"Contra Costa County\", \"Categories\": \"AC Requested\", \"Funding Amount\": 0.0}]}}, {\"mode\": \"vega-lite\"});\n</script>",
          "text/plain": "alt.Chart(...)"
         },
         "metadata": {},
         "output_type": "display_data"
        }
       ]
      }
     },
     "7330e48e5e3e4d888b42ebf52cca2be7": {
      "model_module": "@jupyter-widgets/controls",
      "model_module_version": "1.5.0",
      "model_name": "HTMLModel",
      "state": {
       "layout": "IPY_MODEL_ba8be4796c844d1aa3c53e93441b20b0",
       "style": "IPY_MODEL_a50a343fc5544a79b793837668295f7c",
       "value": "<strong>Top Agencies using Congestion Relief Projects</strong>"
      }
     },
     "742f5d7b5416416dad8031df6d5e1498": {
      "model_module": "@jupyter-widgets/controls",
      "model_module_version": "1.5.0",
      "model_name": "HTMLModel",
      "state": {
       "layout": "IPY_MODEL_1cad452629bc4b94a00a8c801b2b920d",
       "style": "IPY_MODEL_2e5d182ef93945eda29631edf4896a31",
       "value": "<strong>Top Agencies using Freeway Projects</strong>"
      }
     },
     "74511ebf47c14ea980806a803a497c2c": {
      "model_module": "@jupyter-widgets/base",
      "model_module_version": "1.2.0",
      "model_name": "LayoutModel",
      "state": {}
     },
     "747c9eeec39041bca36a7e512c5fdaaf": {
      "model_module": "@jupyter-widgets/controls",
      "model_module_version": "1.5.0",
      "model_name": "TabModel",
      "state": {
       "_titles": {
        "0": "Active Transportation",
        "1": "Transit",
        "2": "Bridge",
        "3": "Street",
        "4": "Freeway",
        "5": "Infrastructure & Emergency Relief",
        "6": "Congestion Relief"
       },
       "children": [
        "IPY_MODEL_72f3b72742f44444b94fe8c7454aebe4",
        "IPY_MODEL_a9825114e9784f0faea0e5c12346684d",
        "IPY_MODEL_3b595776382b4ff9bf0f60c176039cfe",
        "IPY_MODEL_4f56b377ff9a47b5b0a14ae891806d65",
        "IPY_MODEL_a9f59f194b684fda97cb3f2b61af0388",
        "IPY_MODEL_50266bb2aed5407786baf4dc24eed7eb",
        "IPY_MODEL_864adba4032041488d6457e21497d636"
       ],
       "layout": "IPY_MODEL_55b49dff282a40b881d1bd06db01fe53"
      }
     },
     "7585a6042d3a4360bcc0d53bbf007f98": {
      "model_module": "@jupyter-widgets/controls",
      "model_module_version": "1.5.0",
      "model_name": "TabModel",
      "state": {
       "_titles": {
        "0": "Active Transportation",
        "1": "Transit",
        "2": "Bridge",
        "3": "Street",
        "4": "Freeway",
        "5": "Infrastructure & Emergency Relief",
        "6": "Congestion Relief"
       },
       "children": [
        "IPY_MODEL_c2e29d4344f04aba93e1bdc0412771af",
        "IPY_MODEL_c41ecf0328e8498f8a799f77fb5c4e71",
        "IPY_MODEL_ec03af1a4b944aecaa864f7436cdef12",
        "IPY_MODEL_f9ed23d4348c47688dfa1fe9594daa18",
        "IPY_MODEL_75d93f0e94594696bced002da35db03c",
        "IPY_MODEL_0ffe99ebbca049f5b33cccc529a46305",
        "IPY_MODEL_e91ecdd2691c4625982aeb6b8259a393"
       ],
       "layout": "IPY_MODEL_edadc0e3fde846fd9de031fb4e8b3b73"
      }
     },
     "75d93f0e94594696bced002da35db03c": {
      "model_module": "@jupyter-widgets/output",
      "model_module_version": "1.0.0",
      "model_name": "OutputModel",
      "state": {
       "layout": "IPY_MODEL_a49e9024ddad4dc19e7c65000092cb34",
       "outputs": [
        {
         "data": {
          "application/vnd.jupyter.widget-view+json": {
           "model_id": "",
           "version_major": 2,
           "version_minor": 0
          },
          "text/plain": "HTML(value='<strong>Top Agencies using Freeway Projects</strong>')"
         },
         "metadata": {},
         "output_type": "display_data"
        },
        {
         "data": {
          "text/html": "<style type=\"text/css\">\n</style>\n<table id=\"T_6e362\">\n  <thead>\n    <tr>\n      <th class=\"blank level0\" >&nbsp;</th>\n      <th id=\"T_6e362_level0_col0\" class=\"col_heading level0 col0\" >Agency</th>\n      <th id=\"T_6e362_level0_col1\" class=\"col_heading level0 col1\" >Freeway Obligations</th>\n      <th id=\"T_6e362_level0_col2\" class=\"col_heading level0 col2\" >Percent of Category</th>\n    </tr>\n  </thead>\n  <tbody>\n    <tr>\n      <th id=\"T_6e362_level0_row0\" class=\"row_heading level0 row0\" >0</th>\n      <td id=\"T_6e362_row0_col0\" class=\"data row0 col0\" >Caltrans</td>\n      <td id=\"T_6e362_row0_col1\" class=\"data row0 col1\" >38</td>\n      <td id=\"T_6e362_row0_col2\" class=\"data row0 col2\" >16.38%</td>\n    </tr>\n    <tr>\n      <th id=\"T_6e362_level0_row1\" class=\"row_heading level0 row1\" >1</th>\n      <td id=\"T_6e362_row1_col0\" class=\"data row1 col0\" >San Bernardino Associated Governments</td>\n      <td id=\"T_6e362_row1_col1\" class=\"data row1 col1\" >19</td>\n      <td id=\"T_6e362_row1_col2\" class=\"data row1 col2\" >8.19%</td>\n    </tr>\n    <tr>\n      <th id=\"T_6e362_level0_row2\" class=\"row_heading level0 row2\" >2</th>\n      <td id=\"T_6e362_row2_col0\" class=\"data row2 col0\" >Placer County Transportation Planning Agency</td>\n      <td id=\"T_6e362_row2_col1\" class=\"data row2 col1\" >15</td>\n      <td id=\"T_6e362_row2_col2\" class=\"data row2 col2\" >6.47%</td>\n    </tr>\n    <tr>\n      <th id=\"T_6e362_level0_row3\" class=\"row_heading level0 row3\" >3</th>\n      <td id=\"T_6e362_row3_col0\" class=\"data row3 col0\" >Orange County Transportation Authority</td>\n      <td id=\"T_6e362_row3_col1\" class=\"data row3 col1\" >14</td>\n      <td id=\"T_6e362_row3_col2\" class=\"data row3 col2\" >6.03%</td>\n    </tr>\n    <tr>\n      <th id=\"T_6e362_level0_row4\" class=\"row_heading level0 row4\" >4</th>\n      <td id=\"T_6e362_row4_col0\" class=\"data row4 col0\" >Bakersfield</td>\n      <td id=\"T_6e362_row4_col1\" class=\"data row4 col1\" >13</td>\n      <td id=\"T_6e362_row4_col2\" class=\"data row4 col2\" >5.60%</td>\n    </tr>\n  </tbody>\n</table>\n",
          "text/plain": "<pandas.io.formats.style.Styler at 0x7f605e04c490>"
         },
         "metadata": {},
         "output_type": "display_data"
        },
        {
         "data": {
          "text/html": "\n<div id=\"altair-viz-db54e620e34a4b7d9bad6393c3ef91b3\"></div>\n<script type=\"text/javascript\">\n  var VEGA_DEBUG = (typeof VEGA_DEBUG == \"undefined\") ? {} : VEGA_DEBUG;\n  (function(spec, embedOpt){\n    let outputDiv = document.currentScript.previousElementSibling;\n    if (outputDiv.id !== \"altair-viz-db54e620e34a4b7d9bad6393c3ef91b3\") {\n      outputDiv = document.getElementById(\"altair-viz-db54e620e34a4b7d9bad6393c3ef91b3\");\n    }\n    const paths = {\n      \"vega\": \"https://cdn.jsdelivr.net/npm//vega@5?noext\",\n      \"vega-lib\": \"https://cdn.jsdelivr.net/npm//vega-lib?noext\",\n      \"vega-lite\": \"https://cdn.jsdelivr.net/npm//vega-lite@4.17.0?noext\",\n      \"vega-embed\": \"https://cdn.jsdelivr.net/npm//vega-embed@6?noext\",\n    };\n\n    function maybeLoadScript(lib, version) {\n      var key = `${lib.replace(\"-\", \"\")}_version`;\n      return (VEGA_DEBUG[key] == version) ?\n        Promise.resolve(paths[lib]) :\n        new Promise(function(resolve, reject) {\n          var s = document.createElement('script');\n          document.getElementsByTagName(\"head\")[0].appendChild(s);\n          s.async = true;\n          s.onload = () => {\n            VEGA_DEBUG[key] = version;\n            return resolve(paths[lib]);\n          };\n          s.onerror = () => reject(`Error loading script: ${paths[lib]}`);\n          s.src = paths[lib];\n        });\n    }\n\n    function showError(err) {\n      outputDiv.innerHTML = `<div class=\"error\" style=\"color:red;\">${err}</div>`;\n      throw err;\n    }\n\n    function displayChart(vegaEmbed) {\n      vegaEmbed(outputDiv, spec, embedOpt)\n        .catch(err => showError(`Javascript Error: ${err.message}<br>This usually means there's a typo in your chart specification. See the javascript console for the full traceback.`));\n    }\n\n    if(typeof define === \"function\" && define.amd) {\n      requirejs.config({paths});\n      require([\"vega-embed\"], displayChart, err => showError(`Error loading script: ${err.message}`));\n    } else {\n      maybeLoadScript(\"vega\", \"5\")\n        .then(() => maybeLoadScript(\"vega-lite\", \"4.17.0\"))\n        .then(() => maybeLoadScript(\"vega-embed\", \"6\"))\n        .catch(showError)\n        .then(() => displayChart(vegaEmbed));\n    }\n  })({\"config\": {\"view\": {\"continuousWidth\": 400, \"continuousHeight\": 300}}, \"data\": {\"name\": \"data-ab6b10d70c675a881ae353996260e247\"}, \"mark\": \"bar\", \"encoding\": {\"color\": {\"field\": \"Categories\", \"scale\": {\"range\": [\"#2EA8CE\", \"#EB9F3C\", \"#F4D837\", \"#51BF9D\", \"#8CBCCB\", \"#9487C0\"]}, \"type\": \"nominal\"}, \"row\": {\"field\": \"Categories\", \"type\": \"nominal\"}, \"tooltip\": [{\"field\": \"Agency\", \"type\": \"nominal\"}, {\"field\": \"Funding Amount\", \"type\": \"quantitative\"}], \"x\": {\"axis\": {\"format\": \"$.2s\", \"title\": \"Obligated Funding ($2021)\"}, \"field\": \"Funding Amount\", \"type\": \"quantitative\"}, \"y\": {\"field\": \"Agency\", \"type\": \"nominal\"}}, \"$schema\": \"https://vega.github.io/schema/vega-lite/v4.17.0.json\", \"datasets\": {\"data-ab6b10d70c675a881ae353996260e247\": [{\"Agency\": \"Caltrans\", \"Categories\": \"Total Requested\", \"Funding Amount\": 12519807.128780885}, {\"Agency\": \"San Bernardino Associated Governments\", \"Categories\": \"Total Requested\", \"Funding Amount\": 47431743.18522959}, {\"Agency\": \"Placer County Transportation Planning Agency\", \"Categories\": \"Total Requested\", \"Funding Amount\": 237094.8753356244}, {\"Agency\": \"Orange County Transportation Authority\", \"Categories\": \"Total Requested\", \"Funding Amount\": -15203685.128665438}, {\"Agency\": \"Bakersfield\", \"Categories\": \"Total Requested\", \"Funding Amount\": 9091334.582296444}, {\"Agency\": \"Caltrans\", \"Categories\": \"Fed Requested\", \"Funding Amount\": 2059775.4938274168}, {\"Agency\": \"San Bernardino Associated Governments\", \"Categories\": \"Fed Requested\", \"Funding Amount\": 12219928.220537668}, {\"Agency\": \"Placer County Transportation Planning Agency\", \"Categories\": \"Fed Requested\", \"Funding Amount\": 52213.419553959095}, {\"Agency\": \"Orange County Transportation Authority\", \"Categories\": \"Fed Requested\", \"Funding Amount\": 21944394.24301589}, {\"Agency\": \"Bakersfield\", \"Categories\": \"Fed Requested\", \"Funding Amount\": 4817598.376437968}, {\"Agency\": \"Caltrans\", \"Categories\": \"AC Requested\", \"Funding Amount\": 6034343.271956215}, {\"Agency\": \"San Bernardino Associated Governments\", \"Categories\": \"AC Requested\", \"Funding Amount\": 856633.5199718946}, {\"Agency\": \"Placer County Transportation Planning Agency\", \"Categories\": \"AC Requested\", \"Funding Amount\": 0.0}, {\"Agency\": \"Orange County Transportation Authority\", \"Categories\": \"AC Requested\", \"Funding Amount\": 0.0}, {\"Agency\": \"Bakersfield\", \"Categories\": \"AC Requested\", \"Funding Amount\": 0.0}]}}, {\"mode\": \"vega-lite\"});\n</script>",
          "text/plain": "alt.Chart(...)"
         },
         "metadata": {},
         "output_type": "display_data"
        }
       ]
      }
     },
     "76a7f1564bbe43848928bc6a170c0aa6": {
      "model_module": "@jupyter-widgets/controls",
      "model_module_version": "1.5.0",
      "model_name": "DescriptionStyleModel",
      "state": {
       "description_width": ""
      }
     },
     "770202259b3749e780868a39880483ef": {
      "model_module": "@jupyter-widgets/base",
      "model_module_version": "1.2.0",
      "model_name": "LayoutModel",
      "state": {}
     },
     "773cf033a64a4a46807fd96523888c89": {
      "model_module": "@jupyter-widgets/output",
      "model_module_version": "1.0.0",
      "model_name": "OutputModel",
      "state": {
       "layout": "IPY_MODEL_232cbedc24d649fca61fa686fae5b57d",
       "outputs": [
        {
         "data": {
          "application/vnd.jupyter.widget-view+json": {
           "model_id": "",
           "version_major": 2,
           "version_minor": 0
          },
          "text/plain": "HTML(value='<strong>Top Agencies using Active Transportation Projects</strong>')"
         },
         "metadata": {},
         "output_type": "display_data"
        },
        {
         "data": {
          "text/html": "<style type=\"text/css\">\n</style>\n<table id=\"T_ccd5f\">\n  <thead>\n    <tr>\n      <th class=\"blank level0\" >&nbsp;</th>\n      <th id=\"T_ccd5f_level0_col0\" class=\"col_heading level0 col0\" >Agency</th>\n      <th id=\"T_ccd5f_level0_col1\" class=\"col_heading level0 col1\" >Active Transportation Obligations</th>\n      <th id=\"T_ccd5f_level0_col2\" class=\"col_heading level0 col2\" >Percent of Category</th>\n    </tr>\n  </thead>\n  <tbody>\n    <tr>\n      <th id=\"T_ccd5f_level0_row0\" class=\"row_heading level0 row0\" >0</th>\n      <td id=\"T_ccd5f_row0_col0\" class=\"data row0 col0\" >Moreno Valley</td>\n      <td id=\"T_ccd5f_row0_col1\" class=\"data row0 col1\" >18</td>\n      <td id=\"T_ccd5f_row0_col2\" class=\"data row0 col2\" >7.09%</td>\n    </tr>\n    <tr>\n      <th id=\"T_ccd5f_level0_row1\" class=\"row_heading level0 row1\" >1</th>\n      <td id=\"T_ccd5f_row1_col0\" class=\"data row1 col0\" >Redlands</td>\n      <td id=\"T_ccd5f_row1_col1\" class=\"data row1 col1\" >15</td>\n      <td id=\"T_ccd5f_row1_col2\" class=\"data row1 col2\" >5.91%</td>\n    </tr>\n    <tr>\n      <th id=\"T_ccd5f_level0_row2\" class=\"row_heading level0 row2\" >2</th>\n      <td id=\"T_ccd5f_row2_col0\" class=\"data row2 col0\" >Wildomar</td>\n      <td id=\"T_ccd5f_row2_col1\" class=\"data row2 col1\" >14</td>\n      <td id=\"T_ccd5f_row2_col2\" class=\"data row2 col2\" >5.51%</td>\n    </tr>\n    <tr>\n      <th id=\"T_ccd5f_level0_row3\" class=\"row_heading level0 row3\" >3</th>\n      <td id=\"T_ccd5f_row3_col0\" class=\"data row3 col0\" >Highland</td>\n      <td id=\"T_ccd5f_row3_col1\" class=\"data row3 col1\" >12</td>\n      <td id=\"T_ccd5f_row3_col2\" class=\"data row3 col2\" >4.72%</td>\n    </tr>\n    <tr>\n      <th id=\"T_ccd5f_level0_row4\" class=\"row_heading level0 row4\" >4</th>\n      <td id=\"T_ccd5f_row4_col0\" class=\"data row4 col0\" >Riverside County</td>\n      <td id=\"T_ccd5f_row4_col1\" class=\"data row4 col1\" >12</td>\n      <td id=\"T_ccd5f_row4_col2\" class=\"data row4 col2\" >4.72%</td>\n    </tr>\n  </tbody>\n</table>\n",
          "text/plain": "<pandas.io.formats.style.Styler at 0x7f605ceeaeb0>"
         },
         "metadata": {},
         "output_type": "display_data"
        },
        {
         "data": {
          "text/html": "\n<div id=\"altair-viz-2dce318703924586b13d40b80976f2e0\"></div>\n<script type=\"text/javascript\">\n  var VEGA_DEBUG = (typeof VEGA_DEBUG == \"undefined\") ? {} : VEGA_DEBUG;\n  (function(spec, embedOpt){\n    let outputDiv = document.currentScript.previousElementSibling;\n    if (outputDiv.id !== \"altair-viz-2dce318703924586b13d40b80976f2e0\") {\n      outputDiv = document.getElementById(\"altair-viz-2dce318703924586b13d40b80976f2e0\");\n    }\n    const paths = {\n      \"vega\": \"https://cdn.jsdelivr.net/npm//vega@5?noext\",\n      \"vega-lib\": \"https://cdn.jsdelivr.net/npm//vega-lib?noext\",\n      \"vega-lite\": \"https://cdn.jsdelivr.net/npm//vega-lite@4.17.0?noext\",\n      \"vega-embed\": \"https://cdn.jsdelivr.net/npm//vega-embed@6?noext\",\n    };\n\n    function maybeLoadScript(lib, version) {\n      var key = `${lib.replace(\"-\", \"\")}_version`;\n      return (VEGA_DEBUG[key] == version) ?\n        Promise.resolve(paths[lib]) :\n        new Promise(function(resolve, reject) {\n          var s = document.createElement('script');\n          document.getElementsByTagName(\"head\")[0].appendChild(s);\n          s.async = true;\n          s.onload = () => {\n            VEGA_DEBUG[key] = version;\n            return resolve(paths[lib]);\n          };\n          s.onerror = () => reject(`Error loading script: ${paths[lib]}`);\n          s.src = paths[lib];\n        });\n    }\n\n    function showError(err) {\n      outputDiv.innerHTML = `<div class=\"error\" style=\"color:red;\">${err}</div>`;\n      throw err;\n    }\n\n    function displayChart(vegaEmbed) {\n      vegaEmbed(outputDiv, spec, embedOpt)\n        .catch(err => showError(`Javascript Error: ${err.message}<br>This usually means there's a typo in your chart specification. See the javascript console for the full traceback.`));\n    }\n\n    if(typeof define === \"function\" && define.amd) {\n      requirejs.config({paths});\n      require([\"vega-embed\"], displayChart, err => showError(`Error loading script: ${err.message}`));\n    } else {\n      maybeLoadScript(\"vega\", \"5\")\n        .then(() => maybeLoadScript(\"vega-lite\", \"4.17.0\"))\n        .then(() => maybeLoadScript(\"vega-embed\", \"6\"))\n        .catch(showError)\n        .then(() => displayChart(vegaEmbed));\n    }\n  })({\"config\": {\"view\": {\"continuousWidth\": 400, \"continuousHeight\": 300}}, \"data\": {\"name\": \"data-7da93e59b29e41e00ed25ef0b3dd5ac5\"}, \"mark\": \"bar\", \"encoding\": {\"color\": {\"field\": \"Categories\", \"scale\": {\"range\": [\"#2EA8CE\", \"#EB9F3C\", \"#F4D837\", \"#51BF9D\", \"#8CBCCB\", \"#9487C0\"]}, \"type\": \"nominal\"}, \"row\": {\"field\": \"Categories\", \"type\": \"nominal\"}, \"tooltip\": [{\"field\": \"Agency\", \"type\": \"nominal\"}, {\"field\": \"Funding Amount\", \"type\": \"quantitative\"}], \"x\": {\"axis\": {\"format\": \"$.2s\", \"title\": \"Obligated Funding ($2021)\"}, \"field\": \"Funding Amount\", \"type\": \"quantitative\"}, \"y\": {\"field\": \"Agency\", \"type\": \"nominal\"}}, \"$schema\": \"https://vega.github.io/schema/vega-lite/v4.17.0.json\", \"datasets\": {\"data-7da93e59b29e41e00ed25ef0b3dd5ac5\": [{\"Agency\": \"Moreno Valley\", \"Categories\": \"Total Requested\", \"Funding Amount\": 275454.6805482823}, {\"Agency\": \"Redlands\", \"Categories\": \"Total Requested\", \"Funding Amount\": 87825.61680593499}, {\"Agency\": \"Wildomar\", \"Categories\": \"Total Requested\", \"Funding Amount\": 225613.8059344427}, {\"Agency\": \"Highland\", \"Categories\": \"Total Requested\", \"Funding Amount\": 321198.4362395287}, {\"Agency\": \"Riverside County\", \"Categories\": \"Total Requested\", \"Funding Amount\": 1007476.0757992497}, {\"Agency\": \"Moreno Valley\", \"Categories\": \"Fed Requested\", \"Funding Amount\": 262316.57455458597}, {\"Agency\": \"Redlands\", \"Categories\": \"Fed Requested\", \"Funding Amount\": 81978.64805405466}, {\"Agency\": \"Wildomar\", \"Categories\": \"Fed Requested\", \"Funding Amount\": 136145.6382628168}, {\"Agency\": \"Highland\", \"Categories\": \"Fed Requested\", \"Funding Amount\": 214336.23350558864}, {\"Agency\": \"Riverside County\", \"Categories\": \"Fed Requested\", \"Funding Amount\": 723090.3911907993}, {\"Agency\": \"Moreno Valley\", \"Categories\": \"AC Requested\", \"Funding Amount\": 0.0}, {\"Agency\": \"Redlands\", \"Categories\": \"AC Requested\", \"Funding Amount\": 0.0}, {\"Agency\": \"Wildomar\", \"Categories\": \"AC Requested\", \"Funding Amount\": 0.0}, {\"Agency\": \"Highland\", \"Categories\": \"AC Requested\", \"Funding Amount\": 0.0}, {\"Agency\": \"Riverside County\", \"Categories\": \"AC Requested\", \"Funding Amount\": 0.0}]}}, {\"mode\": \"vega-lite\"});\n</script>",
          "text/plain": "alt.Chart(...)"
         },
         "metadata": {},
         "output_type": "display_data"
        }
       ]
      }
     },
     "77a1d700628e42c5a0f4abadc3128d3a": {
      "model_module": "@jupyter-widgets/controls",
      "model_module_version": "1.5.0",
      "model_name": "DescriptionStyleModel",
      "state": {
       "description_width": ""
      }
     },
     "77c2417f8439436594891722a3a28635": {
      "model_module": "@jupyter-widgets/base",
      "model_module_version": "1.2.0",
      "model_name": "LayoutModel",
      "state": {}
     },
     "785a2489161a499f98c701ab45306838": {
      "model_module": "@jupyter-widgets/controls",
      "model_module_version": "1.5.0",
      "model_name": "DescriptionStyleModel",
      "state": {
       "description_width": ""
      }
     },
     "787f854a1905494091f55b4b73114ec3": {
      "model_module": "@jupyter-widgets/base",
      "model_module_version": "1.2.0",
      "model_name": "LayoutModel",
      "state": {}
     },
     "796c634ddc0e45fc9551f7f990af4fc9": {
      "model_module": "@jupyter-widgets/controls",
      "model_module_version": "1.5.0",
      "model_name": "HTMLModel",
      "state": {
       "layout": "IPY_MODEL_cde0a12c418547b4ae6c24c5ade195e0",
       "style": "IPY_MODEL_68b4fb6c87ba4ab49fd1e5066bd0fc1f",
       "value": "<strong>Top Agencies using Freeway Projects</strong>"
      }
     },
     "799cff16d0464c7785c74d60863a6165": {
      "model_module": "@jupyter-widgets/base",
      "model_module_version": "1.2.0",
      "model_name": "LayoutModel",
      "state": {}
     },
     "7bbabedd0a274f77b49b4e663f90305b": {
      "model_module": "@jupyter-widgets/base",
      "model_module_version": "1.2.0",
      "model_name": "LayoutModel",
      "state": {}
     },
     "7c415cff8471434ba83a931152c9e806": {
      "model_module": "@jupyter-widgets/base",
      "model_module_version": "1.2.0",
      "model_name": "LayoutModel",
      "state": {}
     },
     "7c7c6b4a3bb546a8bf333ccd4f7df4dd": {
      "model_module": "@jupyter-widgets/base",
      "model_module_version": "1.2.0",
      "model_name": "LayoutModel",
      "state": {}
     },
     "7c8331fe6ef048aca89f640b71d92798": {
      "model_module": "@jupyter-widgets/controls",
      "model_module_version": "1.5.0",
      "model_name": "HTMLModel",
      "state": {
       "layout": "IPY_MODEL_541c75de70a3441c94da9893c122c5c1",
       "style": "IPY_MODEL_2bb9376b34f94dd4a41639dbcca9f385",
       "value": "<strong>Top Agencies using Street Projects</strong>"
      }
     },
     "7c9a65048ca8442f8a2d49e0993de7bd": {
      "model_module": "@jupyter-widgets/base",
      "model_module_version": "1.2.0",
      "model_name": "LayoutModel",
      "state": {}
     },
     "7d0f7071e42b45bba83df4780b399906": {
      "model_module": "@jupyter-widgets/controls",
      "model_module_version": "1.5.0",
      "model_name": "DescriptionStyleModel",
      "state": {
       "description_width": ""
      }
     },
     "7eb0578503e841e7ac4d7e0860bb5064": {
      "model_module": "@jupyter-widgets/controls",
      "model_module_version": "1.5.0",
      "model_name": "HTMLModel",
      "state": {
       "layout": "IPY_MODEL_0e8d8dc4dbb1472cae50c269b37739e5",
       "style": "IPY_MODEL_ff3849fd14084892a29823a5f03530b2",
       "value": "<strong>Top Agencies using Bridge Projects</strong>"
      }
     },
     "7ef0d8fc876b4df09c70b1218710032e": {
      "model_module": "@jupyter-widgets/output",
      "model_module_version": "1.0.0",
      "model_name": "OutputModel",
      "state": {
       "layout": "IPY_MODEL_025e34c2c45749d3bef2c2370bdd9ff5",
       "outputs": [
        {
         "data": {
          "application/vnd.jupyter.widget-view+json": {
           "model_id": "",
           "version_major": 2,
           "version_minor": 0
          },
          "text/plain": "HTML(value='<strong>Top Agencies using Infrastructure & Emergency Relief Projects</strong>')"
         },
         "metadata": {},
         "output_type": "display_data"
        },
        {
         "data": {
          "text/html": "<style type=\"text/css\">\n</style>\n<table id=\"T_b8eb3\">\n  <thead>\n    <tr>\n      <th class=\"blank level0\" >&nbsp;</th>\n      <th id=\"T_b8eb3_level0_col0\" class=\"col_heading level0 col0\" >Agency</th>\n      <th id=\"T_b8eb3_level0_col1\" class=\"col_heading level0 col1\" >Infrastructure & Emergency Relief Obligations</th>\n      <th id=\"T_b8eb3_level0_col2\" class=\"col_heading level0 col2\" >Percent of Category</th>\n    </tr>\n  </thead>\n  <tbody>\n    <tr>\n      <th id=\"T_b8eb3_level0_row0\" class=\"row_heading level0 row0\" >0</th>\n      <td id=\"T_b8eb3_row0_col0\" class=\"data row0 col0\" >Contra Costa County</td>\n      <td id=\"T_b8eb3_row0_col1\" class=\"data row0 col1\" >102</td>\n      <td id=\"T_b8eb3_row0_col2\" class=\"data row0 col2\" >5.21%</td>\n    </tr>\n    <tr>\n      <th id=\"T_b8eb3_level0_row1\" class=\"row_heading level0 row1\" >1</th>\n      <td id=\"T_b8eb3_row1_col0\" class=\"data row1 col0\" >Napa County</td>\n      <td id=\"T_b8eb3_row1_col1\" class=\"data row1 col1\" >88</td>\n      <td id=\"T_b8eb3_row1_col2\" class=\"data row1 col2\" >4.50%</td>\n    </tr>\n    <tr>\n      <th id=\"T_b8eb3_level0_row2\" class=\"row_heading level0 row2\" >2</th>\n      <td id=\"T_b8eb3_row2_col0\" class=\"data row2 col0\" >Santa Clara County</td>\n      <td id=\"T_b8eb3_row2_col1\" class=\"data row2 col1\" >82</td>\n      <td id=\"T_b8eb3_row2_col2\" class=\"data row2 col2\" >4.19%</td>\n    </tr>\n    <tr>\n      <th id=\"T_b8eb3_level0_row3\" class=\"row_heading level0 row3\" >3</th>\n      <td id=\"T_b8eb3_row3_col0\" class=\"data row3 col0\" >Sonoma County</td>\n      <td id=\"T_b8eb3_row3_col1\" class=\"data row3 col1\" >71</td>\n      <td id=\"T_b8eb3_row3_col2\" class=\"data row3 col2\" >3.63%</td>\n    </tr>\n    <tr>\n      <th id=\"T_b8eb3_level0_row4\" class=\"row_heading level0 row4\" >4</th>\n      <td id=\"T_b8eb3_row4_col0\" class=\"data row4 col0\" >Oakland</td>\n      <td id=\"T_b8eb3_row4_col1\" class=\"data row4 col1\" >70</td>\n      <td id=\"T_b8eb3_row4_col2\" class=\"data row4 col2\" >3.58%</td>\n    </tr>\n  </tbody>\n</table>\n",
          "text/plain": "<pandas.io.formats.style.Styler at 0x7f605d2e4f40>"
         },
         "metadata": {},
         "output_type": "display_data"
        },
        {
         "data": {
          "text/html": "\n<div id=\"altair-viz-882cae27fda74aaabfc9a95c6b68b408\"></div>\n<script type=\"text/javascript\">\n  var VEGA_DEBUG = (typeof VEGA_DEBUG == \"undefined\") ? {} : VEGA_DEBUG;\n  (function(spec, embedOpt){\n    let outputDiv = document.currentScript.previousElementSibling;\n    if (outputDiv.id !== \"altair-viz-882cae27fda74aaabfc9a95c6b68b408\") {\n      outputDiv = document.getElementById(\"altair-viz-882cae27fda74aaabfc9a95c6b68b408\");\n    }\n    const paths = {\n      \"vega\": \"https://cdn.jsdelivr.net/npm//vega@5?noext\",\n      \"vega-lib\": \"https://cdn.jsdelivr.net/npm//vega-lib?noext\",\n      \"vega-lite\": \"https://cdn.jsdelivr.net/npm//vega-lite@4.17.0?noext\",\n      \"vega-embed\": \"https://cdn.jsdelivr.net/npm//vega-embed@6?noext\",\n    };\n\n    function maybeLoadScript(lib, version) {\n      var key = `${lib.replace(\"-\", \"\")}_version`;\n      return (VEGA_DEBUG[key] == version) ?\n        Promise.resolve(paths[lib]) :\n        new Promise(function(resolve, reject) {\n          var s = document.createElement('script');\n          document.getElementsByTagName(\"head\")[0].appendChild(s);\n          s.async = true;\n          s.onload = () => {\n            VEGA_DEBUG[key] = version;\n            return resolve(paths[lib]);\n          };\n          s.onerror = () => reject(`Error loading script: ${paths[lib]}`);\n          s.src = paths[lib];\n        });\n    }\n\n    function showError(err) {\n      outputDiv.innerHTML = `<div class=\"error\" style=\"color:red;\">${err}</div>`;\n      throw err;\n    }\n\n    function displayChart(vegaEmbed) {\n      vegaEmbed(outputDiv, spec, embedOpt)\n        .catch(err => showError(`Javascript Error: ${err.message}<br>This usually means there's a typo in your chart specification. See the javascript console for the full traceback.`));\n    }\n\n    if(typeof define === \"function\" && define.amd) {\n      requirejs.config({paths});\n      require([\"vega-embed\"], displayChart, err => showError(`Error loading script: ${err.message}`));\n    } else {\n      maybeLoadScript(\"vega\", \"5\")\n        .then(() => maybeLoadScript(\"vega-lite\", \"4.17.0\"))\n        .then(() => maybeLoadScript(\"vega-embed\", \"6\"))\n        .catch(showError)\n        .then(() => displayChart(vegaEmbed));\n    }\n  })({\"config\": {\"view\": {\"continuousWidth\": 400, \"continuousHeight\": 300}}, \"data\": {\"name\": \"data-f0cad226c95a51748334db9fe2ae4c0a\"}, \"mark\": \"bar\", \"encoding\": {\"color\": {\"field\": \"Categories\", \"scale\": {\"range\": [\"#2EA8CE\", \"#EB9F3C\", \"#F4D837\", \"#51BF9D\", \"#8CBCCB\", \"#9487C0\"]}, \"type\": \"nominal\"}, \"row\": {\"field\": \"Categories\", \"type\": \"nominal\"}, \"tooltip\": [{\"field\": \"Agency\", \"type\": \"nominal\"}, {\"field\": \"Funding Amount\", \"type\": \"quantitative\"}], \"x\": {\"axis\": {\"format\": \"$.2s\", \"title\": \"Obligated Funding ($2021)\"}, \"field\": \"Funding Amount\", \"type\": \"quantitative\"}, \"y\": {\"field\": \"Agency\", \"type\": \"nominal\"}}, \"$schema\": \"https://vega.github.io/schema/vega-lite/v4.17.0.json\", \"datasets\": {\"data-f0cad226c95a51748334db9fe2ae4c0a\": [{\"Agency\": \"Contra Costa County\", \"Categories\": \"Total Requested\", \"Funding Amount\": 852412.8986917532}, {\"Agency\": \"Napa County\", \"Categories\": \"Total Requested\", \"Funding Amount\": 290127.23106307245}, {\"Agency\": \"Santa Clara County\", \"Categories\": \"Total Requested\", \"Funding Amount\": 672624.8283425933}, {\"Agency\": \"Sonoma County\", \"Categories\": \"Total Requested\", \"Funding Amount\": 648775.690347322}, {\"Agency\": \"Oakland\", \"Categories\": \"Total Requested\", \"Funding Amount\": 1543864.847788699}, {\"Agency\": \"Contra Costa County\", \"Categories\": \"Fed Requested\", \"Funding Amount\": 637082.1190394674}, {\"Agency\": \"Napa County\", \"Categories\": \"Fed Requested\", \"Funding Amount\": 254382.40987557478}, {\"Agency\": \"Santa Clara County\", \"Categories\": \"Fed Requested\", \"Funding Amount\": 568961.2217746255}, {\"Agency\": \"Sonoma County\", \"Categories\": \"Fed Requested\", \"Funding Amount\": 488154.49796102184}, {\"Agency\": \"Oakland\", \"Categories\": \"Fed Requested\", \"Funding Amount\": 1123344.3663603195}, {\"Agency\": \"Contra Costa County\", \"Categories\": \"AC Requested\", \"Funding Amount\": 46442.64603194262}, {\"Agency\": \"Napa County\", \"Categories\": \"AC Requested\", \"Funding Amount\": 4926.44569571146}, {\"Agency\": \"Santa Clara County\", \"Categories\": \"AC Requested\", \"Funding Amount\": 4141.262730127382}, {\"Agency\": \"Sonoma County\", \"Categories\": \"AC Requested\", \"Funding Amount\": 63056.74152049417}, {\"Agency\": \"Oakland\", \"Categories\": \"AC Requested\", \"Funding Amount\": 0.0}]}}, {\"mode\": \"vega-lite\"});\n</script>",
          "text/plain": "alt.Chart(...)"
         },
         "metadata": {},
         "output_type": "display_data"
        }
       ]
      }
     },
     "800458846735413887be561376d14a6a": {
      "model_module": "@jupyter-widgets/output",
      "model_module_version": "1.0.0",
      "model_name": "OutputModel",
      "state": {
       "layout": "IPY_MODEL_0a4d32c7e78b4776b1eb6b729bb872f9",
       "outputs": [
        {
         "data": {
          "application/vnd.jupyter.widget-view+json": {
           "model_id": "",
           "version_major": 2,
           "version_minor": 0
          },
          "text/plain": "HTML(value='<strong>Top Agencies using Freeway Projects</strong>')"
         },
         "metadata": {},
         "output_type": "display_data"
        },
        {
         "data": {
          "text/html": "<style type=\"text/css\">\n</style>\n<table id=\"T_4ef8a\">\n  <thead>\n    <tr>\n      <th class=\"blank level0\" >&nbsp;</th>\n      <th id=\"T_4ef8a_level0_col0\" class=\"col_heading level0 col0\" >Agency</th>\n      <th id=\"T_4ef8a_level0_col1\" class=\"col_heading level0 col1\" >Freeway Obligations</th>\n      <th id=\"T_4ef8a_level0_col2\" class=\"col_heading level0 col2\" >Percent of Category</th>\n    </tr>\n  </thead>\n  <tbody>\n    <tr>\n      <th id=\"T_4ef8a_level0_row0\" class=\"row_heading level0 row0\" >0</th>\n      <td id=\"T_4ef8a_row0_col0\" class=\"data row0 col0\" >San Bernardino Associated Governments</td>\n      <td id=\"T_4ef8a_row0_col1\" class=\"data row0 col1\" >19</td>\n      <td id=\"T_4ef8a_row0_col2\" class=\"data row0 col2\" >55.88%</td>\n    </tr>\n    <tr>\n      <th id=\"T_4ef8a_level0_row1\" class=\"row_heading level0 row1\" >1</th>\n      <td id=\"T_4ef8a_row1_col0\" class=\"data row1 col0\" >Riverside County Transportation Commission</td>\n      <td id=\"T_4ef8a_row1_col1\" class=\"data row1 col1\" >13</td>\n      <td id=\"T_4ef8a_row1_col2\" class=\"data row1 col2\" >38.24%</td>\n    </tr>\n    <tr>\n      <th id=\"T_4ef8a_level0_row2\" class=\"row_heading level0 row2\" >2</th>\n      <td id=\"T_4ef8a_row2_col0\" class=\"data row2 col0\" >Caltrans</td>\n      <td id=\"T_4ef8a_row2_col1\" class=\"data row2 col1\" >1</td>\n      <td id=\"T_4ef8a_row2_col2\" class=\"data row2 col2\" >2.94%</td>\n    </tr>\n    <tr>\n      <th id=\"T_4ef8a_level0_row3\" class=\"row_heading level0 row3\" >3</th>\n      <td id=\"T_4ef8a_row3_col0\" class=\"data row3 col0\" >Riverside County</td>\n      <td id=\"T_4ef8a_row3_col1\" class=\"data row3 col1\" >1</td>\n      <td id=\"T_4ef8a_row3_col2\" class=\"data row3 col2\" >2.94%</td>\n    </tr>\n  </tbody>\n</table>\n",
          "text/plain": "<pandas.io.formats.style.Styler at 0x7f605cee3be0>"
         },
         "metadata": {},
         "output_type": "display_data"
        },
        {
         "data": {
          "text/html": "\n<div id=\"altair-viz-8191b6864d2641b19704a5a890fce3a1\"></div>\n<script type=\"text/javascript\">\n  var VEGA_DEBUG = (typeof VEGA_DEBUG == \"undefined\") ? {} : VEGA_DEBUG;\n  (function(spec, embedOpt){\n    let outputDiv = document.currentScript.previousElementSibling;\n    if (outputDiv.id !== \"altair-viz-8191b6864d2641b19704a5a890fce3a1\") {\n      outputDiv = document.getElementById(\"altair-viz-8191b6864d2641b19704a5a890fce3a1\");\n    }\n    const paths = {\n      \"vega\": \"https://cdn.jsdelivr.net/npm//vega@5?noext\",\n      \"vega-lib\": \"https://cdn.jsdelivr.net/npm//vega-lib?noext\",\n      \"vega-lite\": \"https://cdn.jsdelivr.net/npm//vega-lite@4.17.0?noext\",\n      \"vega-embed\": \"https://cdn.jsdelivr.net/npm//vega-embed@6?noext\",\n    };\n\n    function maybeLoadScript(lib, version) {\n      var key = `${lib.replace(\"-\", \"\")}_version`;\n      return (VEGA_DEBUG[key] == version) ?\n        Promise.resolve(paths[lib]) :\n        new Promise(function(resolve, reject) {\n          var s = document.createElement('script');\n          document.getElementsByTagName(\"head\")[0].appendChild(s);\n          s.async = true;\n          s.onload = () => {\n            VEGA_DEBUG[key] = version;\n            return resolve(paths[lib]);\n          };\n          s.onerror = () => reject(`Error loading script: ${paths[lib]}`);\n          s.src = paths[lib];\n        });\n    }\n\n    function showError(err) {\n      outputDiv.innerHTML = `<div class=\"error\" style=\"color:red;\">${err}</div>`;\n      throw err;\n    }\n\n    function displayChart(vegaEmbed) {\n      vegaEmbed(outputDiv, spec, embedOpt)\n        .catch(err => showError(`Javascript Error: ${err.message}<br>This usually means there's a typo in your chart specification. See the javascript console for the full traceback.`));\n    }\n\n    if(typeof define === \"function\" && define.amd) {\n      requirejs.config({paths});\n      require([\"vega-embed\"], displayChart, err => showError(`Error loading script: ${err.message}`));\n    } else {\n      maybeLoadScript(\"vega\", \"5\")\n        .then(() => maybeLoadScript(\"vega-lite\", \"4.17.0\"))\n        .then(() => maybeLoadScript(\"vega-embed\", \"6\"))\n        .catch(showError)\n        .then(() => displayChart(vegaEmbed));\n    }\n  })({\"config\": {\"view\": {\"continuousWidth\": 400, \"continuousHeight\": 300}}, \"data\": {\"name\": \"data-48224769bc31425e6a2984841dfefde1\"}, \"mark\": \"bar\", \"encoding\": {\"color\": {\"field\": \"Categories\", \"scale\": {\"range\": [\"#2EA8CE\", \"#EB9F3C\", \"#F4D837\", \"#51BF9D\", \"#8CBCCB\", \"#9487C0\"]}, \"type\": \"nominal\"}, \"row\": {\"field\": \"Categories\", \"type\": \"nominal\"}, \"tooltip\": [{\"field\": \"Agency\", \"type\": \"nominal\"}, {\"field\": \"Funding Amount\", \"type\": \"quantitative\"}], \"x\": {\"axis\": {\"format\": \"$.2s\", \"title\": \"Obligated Funding ($2021)\"}, \"field\": \"Funding Amount\", \"type\": \"quantitative\"}, \"y\": {\"field\": \"Agency\", \"type\": \"nominal\"}}, \"$schema\": \"https://vega.github.io/schema/vega-lite/v4.17.0.json\", \"datasets\": {\"data-48224769bc31425e6a2984841dfefde1\": [{\"Agency\": \"San Bernardino Associated Governments\", \"Categories\": \"Total Requested\", \"Funding Amount\": 47431743.18522959}, {\"Agency\": \"Riverside County Transportation Commission\", \"Categories\": \"Total Requested\", \"Funding Amount\": 36056000.28439366}, {\"Agency\": \"Caltrans\", \"Categories\": \"Total Requested\", \"Funding Amount\": 1408992.9688377879}, {\"Agency\": \"Riverside County\", \"Categories\": \"Total Requested\", \"Funding Amount\": 1065496.5143352305}, {\"Agency\": \"San Bernardino Associated Governments\", \"Categories\": \"Fed Requested\", \"Funding Amount\": 12219928.220537668}, {\"Agency\": \"Riverside County Transportation Commission\", \"Categories\": \"Fed Requested\", \"Funding Amount\": 11928469.815483997}, {\"Agency\": \"Caltrans\", \"Categories\": \"Fed Requested\", \"Funding Amount\": 1247381.1167391487}, {\"Agency\": \"Riverside County\", \"Categories\": \"Fed Requested\", \"Funding Amount\": 0.0}, {\"Agency\": \"San Bernardino Associated Governments\", \"Categories\": \"AC Requested\", \"Funding Amount\": 856633.5199718946}, {\"Agency\": \"Riverside County Transportation Commission\", \"Categories\": \"AC Requested\", \"Funding Amount\": 313456.4621296981}, {\"Agency\": \"Caltrans\", \"Categories\": \"AC Requested\", \"Funding Amount\": 0.0}, {\"Agency\": \"Riverside County\", \"Categories\": \"AC Requested\", \"Funding Amount\": 0.0}]}}, {\"mode\": \"vega-lite\"});\n</script>",
          "text/plain": "alt.Chart(...)"
         },
         "metadata": {},
         "output_type": "display_data"
        }
       ]
      }
     },
     "81ade505f2504c1083324179c7d6e881": {
      "model_module": "@jupyter-widgets/controls",
      "model_module_version": "1.5.0",
      "model_name": "DescriptionStyleModel",
      "state": {
       "description_width": ""
      }
     },
     "81f7fac802d94467a673ab15ea374d9d": {
      "model_module": "@jupyter-widgets/controls",
      "model_module_version": "1.5.0",
      "model_name": "HTMLModel",
      "state": {
       "layout": "IPY_MODEL_6d0269cdd24346098c8cbf3e6f120ea9",
       "style": "IPY_MODEL_dc7da3312b48471eaacb59357e1301f5",
       "value": "<strong>Top Agencies using Transit Projects</strong>"
      }
     },
     "82633ba9123d4b65b7b5f6c14a82368d": {
      "model_module": "@jupyter-widgets/base",
      "model_module_version": "1.2.0",
      "model_name": "LayoutModel",
      "state": {}
     },
     "8352846662e84746aaf54faadee4d65a": {
      "model_module": "@jupyter-widgets/controls",
      "model_module_version": "1.5.0",
      "model_name": "HTMLModel",
      "state": {
       "layout": "IPY_MODEL_770202259b3749e780868a39880483ef",
       "style": "IPY_MODEL_de5f15114a7a499f98540b02991ebe70",
       "value": "<strong>Top Agencies using Bridge Projects</strong>"
      }
     },
     "83844767da2347f6afa4cddee820b066": {
      "model_module": "@jupyter-widgets/controls",
      "model_module_version": "1.5.0",
      "model_name": "DescriptionStyleModel",
      "state": {
       "description_width": ""
      }
     },
     "839fa195d04247da866e35ba84a5b09d": {
      "model_module": "@jupyter-widgets/base",
      "model_module_version": "1.2.0",
      "model_name": "LayoutModel",
      "state": {}
     },
     "83f64a9f198f4c13868511e2336abf33": {
      "model_module": "@jupyter-widgets/base",
      "model_module_version": "1.2.0",
      "model_name": "LayoutModel",
      "state": {}
     },
     "8423f36c1fcb4d1da022ea73ec8080cb": {
      "model_module": "@jupyter-widgets/base",
      "model_module_version": "1.2.0",
      "model_name": "LayoutModel",
      "state": {}
     },
     "842d080aa8a44ffeacbfe286dcc312ea": {
      "model_module": "@jupyter-widgets/controls",
      "model_module_version": "1.5.0",
      "model_name": "DescriptionStyleModel",
      "state": {
       "description_width": ""
      }
     },
     "8555d470b7d94ec49b6f9883259e7eea": {
      "model_module": "@jupyter-widgets/controls",
      "model_module_version": "1.5.0",
      "model_name": "DescriptionStyleModel",
      "state": {
       "description_width": ""
      }
     },
     "85f0b527db1b49ce9d513518932a9ddc": {
      "model_module": "@jupyter-widgets/output",
      "model_module_version": "1.0.0",
      "model_name": "OutputModel",
      "state": {
       "layout": "IPY_MODEL_3c3fdcf5c81842f3a5317a5598530dbb",
       "outputs": [
        {
         "data": {
          "application/vnd.jupyter.widget-view+json": {
           "model_id": "",
           "version_major": 2,
           "version_minor": 0
          },
          "text/plain": "HTML(value='<strong>Top Agencies using Infrastructure & Emergency Relief Projects</strong>')"
         },
         "metadata": {},
         "output_type": "display_data"
        },
        {
         "data": {
          "text/html": "<style type=\"text/css\">\n</style>\n<table id=\"T_bd27d\">\n  <thead>\n    <tr>\n      <th class=\"blank level0\" >&nbsp;</th>\n      <th id=\"T_bd27d_level0_col0\" class=\"col_heading level0 col0\" >Agency</th>\n      <th id=\"T_bd27d_level0_col1\" class=\"col_heading level0 col1\" >Infrastructure & Emergency Relief Obligations</th>\n      <th id=\"T_bd27d_level0_col2\" class=\"col_heading level0 col2\" >Percent of Category</th>\n    </tr>\n  </thead>\n  <tbody>\n    <tr>\n      <th id=\"T_bd27d_level0_row0\" class=\"row_heading level0 row0\" >0</th>\n      <td id=\"T_bd27d_row0_col0\" class=\"data row0 col0\" >San Bernardino County</td>\n      <td id=\"T_bd27d_row0_col1\" class=\"data row0 col1\" >101</td>\n      <td id=\"T_bd27d_row0_col2\" class=\"data row0 col2\" >12.32%</td>\n    </tr>\n    <tr>\n      <th id=\"T_bd27d_level0_row1\" class=\"row_heading level0 row1\" >1</th>\n      <td id=\"T_bd27d_row1_col0\" class=\"data row1 col0\" >Riverside County</td>\n      <td id=\"T_bd27d_row1_col1\" class=\"data row1 col1\" >94</td>\n      <td id=\"T_bd27d_row1_col2\" class=\"data row1 col2\" >11.46%</td>\n    </tr>\n    <tr>\n      <th id=\"T_bd27d_level0_row2\" class=\"row_heading level0 row2\" >2</th>\n      <td id=\"T_bd27d_row2_col0\" class=\"data row2 col0\" >San Bernardino Associated Governments</td>\n      <td id=\"T_bd27d_row2_col1\" class=\"data row2 col1\" >40</td>\n      <td id=\"T_bd27d_row2_col2\" class=\"data row2 col2\" >4.88%</td>\n    </tr>\n    <tr>\n      <th id=\"T_bd27d_level0_row3\" class=\"row_heading level0 row3\" >3</th>\n      <td id=\"T_bd27d_row3_col0\" class=\"data row3 col0\" >Indio</td>\n      <td id=\"T_bd27d_row3_col1\" class=\"data row3 col1\" >37</td>\n      <td id=\"T_bd27d_row3_col2\" class=\"data row3 col2\" >4.51%</td>\n    </tr>\n    <tr>\n      <th id=\"T_bd27d_level0_row4\" class=\"row_heading level0 row4\" >4</th>\n      <td id=\"T_bd27d_row4_col0\" class=\"data row4 col0\" >Palm Springs</td>\n      <td id=\"T_bd27d_row4_col1\" class=\"data row4 col1\" >37</td>\n      <td id=\"T_bd27d_row4_col2\" class=\"data row4 col2\" >4.51%</td>\n    </tr>\n  </tbody>\n</table>\n",
          "text/plain": "<pandas.io.formats.style.Styler at 0x7f605ceea4f0>"
         },
         "metadata": {},
         "output_type": "display_data"
        },
        {
         "data": {
          "text/html": "\n<div id=\"altair-viz-df4c7b483d834a1690bb46f11161ebf8\"></div>\n<script type=\"text/javascript\">\n  var VEGA_DEBUG = (typeof VEGA_DEBUG == \"undefined\") ? {} : VEGA_DEBUG;\n  (function(spec, embedOpt){\n    let outputDiv = document.currentScript.previousElementSibling;\n    if (outputDiv.id !== \"altair-viz-df4c7b483d834a1690bb46f11161ebf8\") {\n      outputDiv = document.getElementById(\"altair-viz-df4c7b483d834a1690bb46f11161ebf8\");\n    }\n    const paths = {\n      \"vega\": \"https://cdn.jsdelivr.net/npm//vega@5?noext\",\n      \"vega-lib\": \"https://cdn.jsdelivr.net/npm//vega-lib?noext\",\n      \"vega-lite\": \"https://cdn.jsdelivr.net/npm//vega-lite@4.17.0?noext\",\n      \"vega-embed\": \"https://cdn.jsdelivr.net/npm//vega-embed@6?noext\",\n    };\n\n    function maybeLoadScript(lib, version) {\n      var key = `${lib.replace(\"-\", \"\")}_version`;\n      return (VEGA_DEBUG[key] == version) ?\n        Promise.resolve(paths[lib]) :\n        new Promise(function(resolve, reject) {\n          var s = document.createElement('script');\n          document.getElementsByTagName(\"head\")[0].appendChild(s);\n          s.async = true;\n          s.onload = () => {\n            VEGA_DEBUG[key] = version;\n            return resolve(paths[lib]);\n          };\n          s.onerror = () => reject(`Error loading script: ${paths[lib]}`);\n          s.src = paths[lib];\n        });\n    }\n\n    function showError(err) {\n      outputDiv.innerHTML = `<div class=\"error\" style=\"color:red;\">${err}</div>`;\n      throw err;\n    }\n\n    function displayChart(vegaEmbed) {\n      vegaEmbed(outputDiv, spec, embedOpt)\n        .catch(err => showError(`Javascript Error: ${err.message}<br>This usually means there's a typo in your chart specification. See the javascript console for the full traceback.`));\n    }\n\n    if(typeof define === \"function\" && define.amd) {\n      requirejs.config({paths});\n      require([\"vega-embed\"], displayChart, err => showError(`Error loading script: ${err.message}`));\n    } else {\n      maybeLoadScript(\"vega\", \"5\")\n        .then(() => maybeLoadScript(\"vega-lite\", \"4.17.0\"))\n        .then(() => maybeLoadScript(\"vega-embed\", \"6\"))\n        .catch(showError)\n        .then(() => displayChart(vegaEmbed));\n    }\n  })({\"config\": {\"view\": {\"continuousWidth\": 400, \"continuousHeight\": 300}}, \"data\": {\"name\": \"data-60244a6f557e67cc25511dcd5cee9bc5\"}, \"mark\": \"bar\", \"encoding\": {\"color\": {\"field\": \"Categories\", \"scale\": {\"range\": [\"#2EA8CE\", \"#EB9F3C\", \"#F4D837\", \"#51BF9D\", \"#8CBCCB\", \"#9487C0\"]}, \"type\": \"nominal\"}, \"row\": {\"field\": \"Categories\", \"type\": \"nominal\"}, \"tooltip\": [{\"field\": \"Agency\", \"type\": \"nominal\"}, {\"field\": \"Funding Amount\", \"type\": \"quantitative\"}], \"x\": {\"axis\": {\"format\": \"$.2s\", \"title\": \"Obligated Funding ($2021)\"}, \"field\": \"Funding Amount\", \"type\": \"quantitative\"}, \"y\": {\"field\": \"Agency\", \"type\": \"nominal\"}}, \"$schema\": \"https://vega.github.io/schema/vega-lite/v4.17.0.json\", \"datasets\": {\"data-60244a6f557e67cc25511dcd5cee9bc5\": [{\"Agency\": \"San Bernardino County\", \"Categories\": \"Total Requested\", \"Funding Amount\": 287370.04045569024}, {\"Agency\": \"Riverside County\", \"Categories\": \"Total Requested\", \"Funding Amount\": 3147708.227012151}, {\"Agency\": \"San Bernardino Associated Governments\", \"Categories\": \"Total Requested\", \"Funding Amount\": 445433.5352351448}, {\"Agency\": \"Indio\", \"Categories\": \"Total Requested\", \"Funding Amount\": 390532.960868663}, {\"Agency\": \"Palm Springs\", \"Categories\": \"Total Requested\", \"Funding Amount\": 707327.8953864716}, {\"Agency\": \"San Bernardino County\", \"Categories\": \"Fed Requested\", \"Funding Amount\": 201124.6785017576}, {\"Agency\": \"Riverside County\", \"Categories\": \"Fed Requested\", \"Funding Amount\": 1199735.046053751}, {\"Agency\": \"San Bernardino Associated Governments\", \"Categories\": \"Fed Requested\", \"Funding Amount\": 1122243.6049878672}, {\"Agency\": \"Indio\", \"Categories\": \"Fed Requested\", \"Funding Amount\": 336170.60427373473}, {\"Agency\": \"Palm Springs\", \"Categories\": \"Fed Requested\", \"Funding Amount\": 342163.32915959717}, {\"Agency\": \"San Bernardino County\", \"Categories\": \"AC Requested\", \"Funding Amount\": 56001.16037006359}, {\"Agency\": \"Riverside County\", \"Categories\": \"AC Requested\", \"Funding Amount\": 367833.0629069522}, {\"Agency\": \"San Bernardino Associated Governments\", \"Categories\": \"AC Requested\", \"Funding Amount\": -286068.8897155344}, {\"Agency\": \"Indio\", \"Categories\": \"AC Requested\", \"Funding Amount\": 1301.3773844599114}, {\"Agency\": \"Palm Springs\", \"Categories\": \"AC Requested\", \"Funding Amount\": 203184.67305907723}]}}, {\"mode\": \"vega-lite\"});\n</script>",
          "text/plain": "alt.Chart(...)"
         },
         "metadata": {},
         "output_type": "display_data"
        }
       ]
      }
     },
     "864adba4032041488d6457e21497d636": {
      "model_module": "@jupyter-widgets/output",
      "model_module_version": "1.0.0",
      "model_name": "OutputModel",
      "state": {
       "layout": "IPY_MODEL_167ffbb83db94f848e6e4539edf35d2e",
       "outputs": [
        {
         "data": {
          "application/vnd.jupyter.widget-view+json": {
           "model_id": "",
           "version_major": 2,
           "version_minor": 0
          },
          "text/plain": "HTML(value='<strong>Top Agencies using Congestion Relief Projects</strong>')"
         },
         "metadata": {},
         "output_type": "display_data"
        },
        {
         "data": {
          "text/html": "<style type=\"text/css\">\n</style>\n<table id=\"T_d4165\">\n  <thead>\n    <tr>\n      <th class=\"blank level0\" >&nbsp;</th>\n      <th id=\"T_d4165_level0_col0\" class=\"col_heading level0 col0\" >Agency</th>\n      <th id=\"T_d4165_level0_col1\" class=\"col_heading level0 col1\" >Congestion Relief Obligations</th>\n      <th id=\"T_d4165_level0_col2\" class=\"col_heading level0 col2\" >Percent of Category</th>\n    </tr>\n  </thead>\n  <tbody>\n    <tr>\n      <th id=\"T_d4165_level0_row0\" class=\"row_heading level0 row0\" >0</th>\n      <td id=\"T_d4165_row0_col0\" class=\"data row0 col0\" >Contra Costa Transportation Authority</td>\n      <td id=\"T_d4165_row0_col1\" class=\"data row0 col1\" >6</td>\n      <td id=\"T_d4165_row0_col2\" class=\"data row0 col2\" >22.22%</td>\n    </tr>\n    <tr>\n      <th id=\"T_d4165_level0_row1\" class=\"row_heading level0 row1\" >1</th>\n      <td id=\"T_d4165_row1_col0\" class=\"data row1 col0\" >Metropolitan Transportation Commission</td>\n      <td id=\"T_d4165_row1_col1\" class=\"data row1 col1\" >5</td>\n      <td id=\"T_d4165_row1_col2\" class=\"data row1 col2\" >18.52%</td>\n    </tr>\n    <tr>\n      <th id=\"T_d4165_level0_row2\" class=\"row_heading level0 row2\" >2</th>\n      <td id=\"T_d4165_row2_col0\" class=\"data row2 col0\" >Sonoma County Transportation Authority</td>\n      <td id=\"T_d4165_row2_col1\" class=\"data row2 col1\" >4</td>\n      <td id=\"T_d4165_row2_col2\" class=\"data row2 col2\" >14.81%</td>\n    </tr>\n    <tr>\n      <th id=\"T_d4165_level0_row3\" class=\"row_heading level0 row3\" >3</th>\n      <td id=\"T_d4165_row3_col0\" class=\"data row3 col0\" >San Mateo</td>\n      <td id=\"T_d4165_row3_col1\" class=\"data row3 col1\" >3</td>\n      <td id=\"T_d4165_row3_col2\" class=\"data row3 col2\" >11.11%</td>\n    </tr>\n    <tr>\n      <th id=\"T_d4165_level0_row4\" class=\"row_heading level0 row4\" >4</th>\n      <td id=\"T_d4165_row4_col0\" class=\"data row4 col0\" >Solano Transportation Authority</td>\n      <td id=\"T_d4165_row4_col1\" class=\"data row4 col1\" >3</td>\n      <td id=\"T_d4165_row4_col2\" class=\"data row4 col2\" >11.11%</td>\n    </tr>\n  </tbody>\n</table>\n",
          "text/plain": "<pandas.io.formats.style.Styler at 0x7f605e16ba00>"
         },
         "metadata": {},
         "output_type": "display_data"
        },
        {
         "data": {
          "text/html": "\n<div id=\"altair-viz-2767c63ef71d4c3682fd1082b55869f1\"></div>\n<script type=\"text/javascript\">\n  var VEGA_DEBUG = (typeof VEGA_DEBUG == \"undefined\") ? {} : VEGA_DEBUG;\n  (function(spec, embedOpt){\n    let outputDiv = document.currentScript.previousElementSibling;\n    if (outputDiv.id !== \"altair-viz-2767c63ef71d4c3682fd1082b55869f1\") {\n      outputDiv = document.getElementById(\"altair-viz-2767c63ef71d4c3682fd1082b55869f1\");\n    }\n    const paths = {\n      \"vega\": \"https://cdn.jsdelivr.net/npm//vega@5?noext\",\n      \"vega-lib\": \"https://cdn.jsdelivr.net/npm//vega-lib?noext\",\n      \"vega-lite\": \"https://cdn.jsdelivr.net/npm//vega-lite@4.17.0?noext\",\n      \"vega-embed\": \"https://cdn.jsdelivr.net/npm//vega-embed@6?noext\",\n    };\n\n    function maybeLoadScript(lib, version) {\n      var key = `${lib.replace(\"-\", \"\")}_version`;\n      return (VEGA_DEBUG[key] == version) ?\n        Promise.resolve(paths[lib]) :\n        new Promise(function(resolve, reject) {\n          var s = document.createElement('script');\n          document.getElementsByTagName(\"head\")[0].appendChild(s);\n          s.async = true;\n          s.onload = () => {\n            VEGA_DEBUG[key] = version;\n            return resolve(paths[lib]);\n          };\n          s.onerror = () => reject(`Error loading script: ${paths[lib]}`);\n          s.src = paths[lib];\n        });\n    }\n\n    function showError(err) {\n      outputDiv.innerHTML = `<div class=\"error\" style=\"color:red;\">${err}</div>`;\n      throw err;\n    }\n\n    function displayChart(vegaEmbed) {\n      vegaEmbed(outputDiv, spec, embedOpt)\n        .catch(err => showError(`Javascript Error: ${err.message}<br>This usually means there's a typo in your chart specification. See the javascript console for the full traceback.`));\n    }\n\n    if(typeof define === \"function\" && define.amd) {\n      requirejs.config({paths});\n      require([\"vega-embed\"], displayChart, err => showError(`Error loading script: ${err.message}`));\n    } else {\n      maybeLoadScript(\"vega\", \"5\")\n        .then(() => maybeLoadScript(\"vega-lite\", \"4.17.0\"))\n        .then(() => maybeLoadScript(\"vega-embed\", \"6\"))\n        .catch(showError)\n        .then(() => displayChart(vegaEmbed));\n    }\n  })({\"config\": {\"view\": {\"continuousWidth\": 400, \"continuousHeight\": 300}}, \"data\": {\"name\": \"data-288e035acb4bd3ef567cff5d4068697a\"}, \"mark\": \"bar\", \"encoding\": {\"color\": {\"field\": \"Categories\", \"scale\": {\"range\": [\"#2EA8CE\", \"#EB9F3C\", \"#F4D837\", \"#51BF9D\", \"#8CBCCB\", \"#9487C0\"]}, \"type\": \"nominal\"}, \"row\": {\"field\": \"Categories\", \"type\": \"nominal\"}, \"tooltip\": [{\"field\": \"Agency\", \"type\": \"nominal\"}, {\"field\": \"Funding Amount\", \"type\": \"quantitative\"}], \"x\": {\"axis\": {\"format\": \"$.2s\", \"title\": \"Obligated Funding ($2021)\"}, \"field\": \"Funding Amount\", \"type\": \"quantitative\"}, \"y\": {\"field\": \"Agency\", \"type\": \"nominal\"}}, \"$schema\": \"https://vega.github.io/schema/vega-lite/v4.17.0.json\", \"datasets\": {\"data-288e035acb4bd3ef567cff5d4068697a\": [{\"Agency\": \"Contra Costa Transportation Authority\", \"Categories\": \"Total Requested\", \"Funding Amount\": 197250.95617523268}, {\"Agency\": \"Metropolitan Transportation Commission\", \"Categories\": \"Total Requested\", \"Funding Amount\": 2873575.211728853}, {\"Agency\": \"Sonoma County Transportation Authority\", \"Categories\": \"Total Requested\", \"Funding Amount\": 24784.0927036328}, {\"Agency\": \"San Mateo\", \"Categories\": \"Total Requested\", \"Funding Amount\": 50566.77608965471}, {\"Agency\": \"Solano Transportation Authority\", \"Categories\": \"Total Requested\", \"Funding Amount\": 156006.74522970387}, {\"Agency\": \"Contra Costa Transportation Authority\", \"Categories\": \"Fed Requested\", \"Funding Amount\": 158480.104075906}, {\"Agency\": \"Metropolitan Transportation Commission\", \"Categories\": \"Fed Requested\", \"Funding Amount\": 2873576.667669716}, {\"Agency\": \"Sonoma County Transportation Authority\", \"Categories\": \"Fed Requested\", \"Funding Amount\": 24773.560430762882}, {\"Agency\": \"San Mateo\", \"Categories\": \"Fed Requested\", \"Funding Amount\": 42627.45791136464}, {\"Agency\": \"Solano Transportation Authority\", \"Categories\": \"Fed Requested\", \"Funding Amount\": 203358.6054765724}, {\"Agency\": \"Contra Costa Transportation Authority\", \"Categories\": \"AC Requested\", \"Funding Amount\": 0.0}, {\"Agency\": \"Metropolitan Transportation Commission\", \"Categories\": \"AC Requested\", \"Funding Amount\": 0.0}, {\"Agency\": \"Sonoma County Transportation Authority\", \"Categories\": \"AC Requested\", \"Funding Amount\": 0.0}, {\"Agency\": \"San Mateo\", \"Categories\": \"AC Requested\", \"Funding Amount\": 0.0}, {\"Agency\": \"Solano Transportation Authority\", \"Categories\": \"AC Requested\", \"Funding Amount\": 0.0}]}}, {\"mode\": \"vega-lite\"});\n</script>",
          "text/plain": "alt.Chart(...)"
         },
         "metadata": {},
         "output_type": "display_data"
        }
       ]
      }
     },
     "867ffb4cc45c41fbba7a82cac497361f": {
      "model_module": "@jupyter-widgets/base",
      "model_module_version": "1.2.0",
      "model_name": "LayoutModel",
      "state": {}
     },
     "8792419a16824bb98e4ebf805c22efb4": {
      "model_module": "@jupyter-widgets/output",
      "model_module_version": "1.0.0",
      "model_name": "OutputModel",
      "state": {
       "layout": "IPY_MODEL_3511a86460084062b68f70df066eccd6",
       "outputs": [
        {
         "data": {
          "application/vnd.jupyter.widget-view+json": {
           "model_id": "",
           "version_major": 2,
           "version_minor": 0
          },
          "text/plain": "HTML(value='<strong>Top Agencies using Street Projects</strong>')"
         },
         "metadata": {},
         "output_type": "display_data"
        },
        {
         "data": {
          "text/html": "<style type=\"text/css\">\n</style>\n<table id=\"T_5458e\">\n  <thead>\n    <tr>\n      <th class=\"blank level0\" >&nbsp;</th>\n      <th id=\"T_5458e_level0_col0\" class=\"col_heading level0 col0\" >Agency</th>\n      <th id=\"T_5458e_level0_col1\" class=\"col_heading level0 col1\" >Street Obligations</th>\n      <th id=\"T_5458e_level0_col2\" class=\"col_heading level0 col2\" >Percent of Category</th>\n    </tr>\n  </thead>\n  <tbody>\n    <tr>\n      <th id=\"T_5458e_level0_row0\" class=\"row_heading level0 row0\" >0</th>\n      <td id=\"T_5458e_row0_col0\" class=\"data row0 col0\" >Oakland</td>\n      <td id=\"T_5458e_row0_col1\" class=\"data row0 col1\" >82</td>\n      <td id=\"T_5458e_row0_col2\" class=\"data row0 col2\" >6.23%</td>\n    </tr>\n    <tr>\n      <th id=\"T_5458e_level0_row1\" class=\"row_heading level0 row1\" >1</th>\n      <td id=\"T_5458e_row1_col0\" class=\"data row1 col0\" >Contra Costa County</td>\n      <td id=\"T_5458e_row1_col1\" class=\"data row1 col1\" >81</td>\n      <td id=\"T_5458e_row1_col2\" class=\"data row1 col2\" >6.15%</td>\n    </tr>\n    <tr>\n      <th id=\"T_5458e_level0_row2\" class=\"row_heading level0 row2\" >2</th>\n      <td id=\"T_5458e_row2_col0\" class=\"data row2 col0\" >San Jose</td>\n      <td id=\"T_5458e_row2_col1\" class=\"data row2 col1\" >66</td>\n      <td id=\"T_5458e_row2_col2\" class=\"data row2 col2\" >5.01%</td>\n    </tr>\n    <tr>\n      <th id=\"T_5458e_level0_row3\" class=\"row_heading level0 row3\" >3</th>\n      <td id=\"T_5458e_row3_col0\" class=\"data row3 col0\" >San Francisco County</td>\n      <td id=\"T_5458e_row3_col1\" class=\"data row3 col1\" >45</td>\n      <td id=\"T_5458e_row3_col2\" class=\"data row3 col2\" >3.42%</td>\n    </tr>\n    <tr>\n      <th id=\"T_5458e_level0_row4\" class=\"row_heading level0 row4\" >4</th>\n      <td id=\"T_5458e_row4_col0\" class=\"data row4 col0\" >Sunnyvale</td>\n      <td id=\"T_5458e_row4_col1\" class=\"data row4 col1\" >45</td>\n      <td id=\"T_5458e_row4_col2\" class=\"data row4 col2\" >3.42%</td>\n    </tr>\n  </tbody>\n</table>\n",
          "text/plain": "<pandas.io.formats.style.Styler at 0x7f605e0bc3d0>"
         },
         "metadata": {},
         "output_type": "display_data"
        },
        {
         "data": {
          "text/html": "\n<div id=\"altair-viz-d6f04330a7684d289f20b20e5def5568\"></div>\n<script type=\"text/javascript\">\n  var VEGA_DEBUG = (typeof VEGA_DEBUG == \"undefined\") ? {} : VEGA_DEBUG;\n  (function(spec, embedOpt){\n    let outputDiv = document.currentScript.previousElementSibling;\n    if (outputDiv.id !== \"altair-viz-d6f04330a7684d289f20b20e5def5568\") {\n      outputDiv = document.getElementById(\"altair-viz-d6f04330a7684d289f20b20e5def5568\");\n    }\n    const paths = {\n      \"vega\": \"https://cdn.jsdelivr.net/npm//vega@5?noext\",\n      \"vega-lib\": \"https://cdn.jsdelivr.net/npm//vega-lib?noext\",\n      \"vega-lite\": \"https://cdn.jsdelivr.net/npm//vega-lite@4.17.0?noext\",\n      \"vega-embed\": \"https://cdn.jsdelivr.net/npm//vega-embed@6?noext\",\n    };\n\n    function maybeLoadScript(lib, version) {\n      var key = `${lib.replace(\"-\", \"\")}_version`;\n      return (VEGA_DEBUG[key] == version) ?\n        Promise.resolve(paths[lib]) :\n        new Promise(function(resolve, reject) {\n          var s = document.createElement('script');\n          document.getElementsByTagName(\"head\")[0].appendChild(s);\n          s.async = true;\n          s.onload = () => {\n            VEGA_DEBUG[key] = version;\n            return resolve(paths[lib]);\n          };\n          s.onerror = () => reject(`Error loading script: ${paths[lib]}`);\n          s.src = paths[lib];\n        });\n    }\n\n    function showError(err) {\n      outputDiv.innerHTML = `<div class=\"error\" style=\"color:red;\">${err}</div>`;\n      throw err;\n    }\n\n    function displayChart(vegaEmbed) {\n      vegaEmbed(outputDiv, spec, embedOpt)\n        .catch(err => showError(`Javascript Error: ${err.message}<br>This usually means there's a typo in your chart specification. See the javascript console for the full traceback.`));\n    }\n\n    if(typeof define === \"function\" && define.amd) {\n      requirejs.config({paths});\n      require([\"vega-embed\"], displayChart, err => showError(`Error loading script: ${err.message}`));\n    } else {\n      maybeLoadScript(\"vega\", \"5\")\n        .then(() => maybeLoadScript(\"vega-lite\", \"4.17.0\"))\n        .then(() => maybeLoadScript(\"vega-embed\", \"6\"))\n        .catch(showError)\n        .then(() => displayChart(vegaEmbed));\n    }\n  })({\"config\": {\"view\": {\"continuousWidth\": 400, \"continuousHeight\": 300}}, \"data\": {\"name\": \"data-2d34081fc3d7ba7c3cd8f495e86d10d3\"}, \"mark\": \"bar\", \"encoding\": {\"color\": {\"field\": \"Categories\", \"scale\": {\"range\": [\"#2EA8CE\", \"#EB9F3C\", \"#F4D837\", \"#51BF9D\", \"#8CBCCB\", \"#9487C0\"]}, \"type\": \"nominal\"}, \"row\": {\"field\": \"Categories\", \"type\": \"nominal\"}, \"tooltip\": [{\"field\": \"Agency\", \"type\": \"nominal\"}, {\"field\": \"Funding Amount\", \"type\": \"quantitative\"}], \"x\": {\"axis\": {\"format\": \"$.2s\", \"title\": \"Obligated Funding ($2021)\"}, \"field\": \"Funding Amount\", \"type\": \"quantitative\"}, \"y\": {\"field\": \"Agency\", \"type\": \"nominal\"}}, \"$schema\": \"https://vega.github.io/schema/vega-lite/v4.17.0.json\", \"datasets\": {\"data-2d34081fc3d7ba7c3cd8f495e86d10d3\": [{\"Agency\": \"Oakland\", \"Categories\": \"Total Requested\", \"Funding Amount\": 956510.9982220907}, {\"Agency\": \"Contra Costa County\", \"Categories\": \"Total Requested\", \"Funding Amount\": 623295.6954156285}, {\"Agency\": \"San Jose\", \"Categories\": \"Total Requested\", \"Funding Amount\": 1164523.0377909504}, {\"Agency\": \"San Francisco County\", \"Categories\": \"Total Requested\", \"Funding Amount\": 4830086.66271812}, {\"Agency\": \"Sunnyvale\", \"Categories\": \"Total Requested\", \"Funding Amount\": 263230.4439052576}, {\"Agency\": \"Oakland\", \"Categories\": \"Fed Requested\", \"Funding Amount\": 666584.6247971884}, {\"Agency\": \"Contra Costa County\", \"Categories\": \"Fed Requested\", \"Funding Amount\": 425612.567296328}, {\"Agency\": \"San Jose\", \"Categories\": \"Fed Requested\", \"Funding Amount\": 949104.6690137495}, {\"Agency\": \"San Francisco County\", \"Categories\": \"Fed Requested\", \"Funding Amount\": 596351.3825193458}, {\"Agency\": \"Sunnyvale\", \"Categories\": \"Fed Requested\", \"Funding Amount\": 218961.48645088891}, {\"Agency\": \"Oakland\", \"Categories\": \"AC Requested\", \"Funding Amount\": 0.0}, {\"Agency\": \"Contra Costa County\", \"Categories\": \"AC Requested\", \"Funding Amount\": 229.00333419290047}, {\"Agency\": \"San Jose\", \"Categories\": \"AC Requested\", \"Funding Amount\": 0.0}, {\"Agency\": \"San Francisco County\", \"Categories\": \"AC Requested\", \"Funding Amount\": 3762.4890021642877}, {\"Agency\": \"Sunnyvale\", \"Categories\": \"AC Requested\", \"Funding Amount\": 0.0}]}}, {\"mode\": \"vega-lite\"});\n</script>",
          "text/plain": "alt.Chart(...)"
         },
         "metadata": {},
         "output_type": "display_data"
        }
       ]
      }
     },
     "87c7d348a7254143b1f044184a74a4d7": {
      "model_module": "@jupyter-widgets/base",
      "model_module_version": "1.2.0",
      "model_name": "LayoutModel",
      "state": {}
     },
     "8841573f84254acab4556026637180dd": {
      "model_module": "@jupyter-widgets/controls",
      "model_module_version": "1.5.0",
      "model_name": "DescriptionStyleModel",
      "state": {
       "description_width": ""
      }
     },
     "896a95198757419b9cd71841656d79c6": {
      "model_module": "@jupyter-widgets/base",
      "model_module_version": "1.2.0",
      "model_name": "LayoutModel",
      "state": {}
     },
     "897a4c429a004d56be36c423d19f946e": {
      "model_module": "@jupyter-widgets/controls",
      "model_module_version": "1.5.0",
      "model_name": "DescriptionStyleModel",
      "state": {
       "description_width": ""
      }
     },
     "89d5b4680db1411ab9beb5c33fadb979": {
      "model_module": "@jupyter-widgets/controls",
      "model_module_version": "1.5.0",
      "model_name": "DescriptionStyleModel",
      "state": {
       "description_width": ""
      }
     },
     "8aa8e7962b5b4d70a030265154a0dea0": {
      "model_module": "@jupyter-widgets/controls",
      "model_module_version": "1.5.0",
      "model_name": "DescriptionStyleModel",
      "state": {
       "description_width": ""
      }
     },
     "8b5a0871f03840768951c3d5a79ffab5": {
      "model_module": "@jupyter-widgets/controls",
      "model_module_version": "1.5.0",
      "model_name": "DescriptionStyleModel",
      "state": {
       "description_width": ""
      }
     },
     "8d10baafd902472a9714a859431d8881": {
      "model_module": "@jupyter-widgets/output",
      "model_module_version": "1.0.0",
      "model_name": "OutputModel",
      "state": {
       "layout": "IPY_MODEL_c1869d6370134804963e49afff00bcbb",
       "outputs": [
        {
         "data": {
          "application/vnd.jupyter.widget-view+json": {
           "model_id": "",
           "version_major": 2,
           "version_minor": 0
          },
          "text/plain": "HTML(value='<strong>Top Agencies using Transit Projects</strong>')"
         },
         "metadata": {},
         "output_type": "display_data"
        },
        {
         "data": {
          "text/html": "<style type=\"text/css\">\n</style>\n<table id=\"T_436ab\">\n  <thead>\n    <tr>\n      <th class=\"blank level0\" >&nbsp;</th>\n      <th id=\"T_436ab_level0_col0\" class=\"col_heading level0 col0\" >Agency</th>\n      <th id=\"T_436ab_level0_col1\" class=\"col_heading level0 col1\" >Transit Obligations</th>\n      <th id=\"T_436ab_level0_col2\" class=\"col_heading level0 col2\" >Percent of Category</th>\n    </tr>\n  </thead>\n  <tbody>\n    <tr>\n      <th id=\"T_436ab_level0_row0\" class=\"row_heading level0 row0\" >0</th>\n      <td id=\"T_436ab_row0_col0\" class=\"data row0 col0\" >Grover Beach</td>\n      <td id=\"T_436ab_row0_col1\" class=\"data row0 col1\" >3</td>\n      <td id=\"T_436ab_row0_col2\" class=\"data row0 col2\" >50.00%</td>\n    </tr>\n    <tr>\n      <th id=\"T_436ab_level0_row1\" class=\"row_heading level0 row1\" >1</th>\n      <td id=\"T_436ab_row1_col0\" class=\"data row1 col0\" >San Luis Obispo</td>\n      <td id=\"T_436ab_row1_col1\" class=\"data row1 col1\" >2</td>\n      <td id=\"T_436ab_row1_col2\" class=\"data row1 col2\" >33.33%</td>\n    </tr>\n    <tr>\n      <th id=\"T_436ab_level0_row2\" class=\"row_heading level0 row2\" >2</th>\n      <td id=\"T_436ab_row2_col0\" class=\"data row2 col0\" >San Luis Obispo County</td>\n      <td id=\"T_436ab_row2_col1\" class=\"data row2 col1\" >1</td>\n      <td id=\"T_436ab_row2_col2\" class=\"data row2 col2\" >16.67%</td>\n    </tr>\n  </tbody>\n</table>\n",
          "text/plain": "<pandas.io.formats.style.Styler at 0x7f605dfd1f70>"
         },
         "metadata": {},
         "output_type": "display_data"
        },
        {
         "data": {
          "text/html": "\n<div id=\"altair-viz-8a53eb2b148c41f1be7e603ebc1b9f18\"></div>\n<script type=\"text/javascript\">\n  var VEGA_DEBUG = (typeof VEGA_DEBUG == \"undefined\") ? {} : VEGA_DEBUG;\n  (function(spec, embedOpt){\n    let outputDiv = document.currentScript.previousElementSibling;\n    if (outputDiv.id !== \"altair-viz-8a53eb2b148c41f1be7e603ebc1b9f18\") {\n      outputDiv = document.getElementById(\"altair-viz-8a53eb2b148c41f1be7e603ebc1b9f18\");\n    }\n    const paths = {\n      \"vega\": \"https://cdn.jsdelivr.net/npm//vega@5?noext\",\n      \"vega-lib\": \"https://cdn.jsdelivr.net/npm//vega-lib?noext\",\n      \"vega-lite\": \"https://cdn.jsdelivr.net/npm//vega-lite@4.17.0?noext\",\n      \"vega-embed\": \"https://cdn.jsdelivr.net/npm//vega-embed@6?noext\",\n    };\n\n    function maybeLoadScript(lib, version) {\n      var key = `${lib.replace(\"-\", \"\")}_version`;\n      return (VEGA_DEBUG[key] == version) ?\n        Promise.resolve(paths[lib]) :\n        new Promise(function(resolve, reject) {\n          var s = document.createElement('script');\n          document.getElementsByTagName(\"head\")[0].appendChild(s);\n          s.async = true;\n          s.onload = () => {\n            VEGA_DEBUG[key] = version;\n            return resolve(paths[lib]);\n          };\n          s.onerror = () => reject(`Error loading script: ${paths[lib]}`);\n          s.src = paths[lib];\n        });\n    }\n\n    function showError(err) {\n      outputDiv.innerHTML = `<div class=\"error\" style=\"color:red;\">${err}</div>`;\n      throw err;\n    }\n\n    function displayChart(vegaEmbed) {\n      vegaEmbed(outputDiv, spec, embedOpt)\n        .catch(err => showError(`Javascript Error: ${err.message}<br>This usually means there's a typo in your chart specification. See the javascript console for the full traceback.`));\n    }\n\n    if(typeof define === \"function\" && define.amd) {\n      requirejs.config({paths});\n      require([\"vega-embed\"], displayChart, err => showError(`Error loading script: ${err.message}`));\n    } else {\n      maybeLoadScript(\"vega\", \"5\")\n        .then(() => maybeLoadScript(\"vega-lite\", \"4.17.0\"))\n        .then(() => maybeLoadScript(\"vega-embed\", \"6\"))\n        .catch(showError)\n        .then(() => displayChart(vegaEmbed));\n    }\n  })({\"config\": {\"view\": {\"continuousWidth\": 400, \"continuousHeight\": 300}}, \"data\": {\"name\": \"data-a7e5221eaf1959d67738d59495364120\"}, \"mark\": \"bar\", \"encoding\": {\"color\": {\"field\": \"Categories\", \"scale\": {\"range\": [\"#2EA8CE\", \"#EB9F3C\", \"#F4D837\", \"#51BF9D\", \"#8CBCCB\", \"#9487C0\"]}, \"type\": \"nominal\"}, \"row\": {\"field\": \"Categories\", \"type\": \"nominal\"}, \"tooltip\": [{\"field\": \"Agency\", \"type\": \"nominal\"}, {\"field\": \"Funding Amount\", \"type\": \"quantitative\"}], \"x\": {\"axis\": {\"format\": \"$.2s\", \"title\": \"Obligated Funding ($2021)\"}, \"field\": \"Funding Amount\", \"type\": \"quantitative\"}, \"y\": {\"field\": \"Agency\", \"type\": \"nominal\"}}, \"$schema\": \"https://vega.github.io/schema/vega-lite/v4.17.0.json\", \"datasets\": {\"data-a7e5221eaf1959d67738d59495364120\": [{\"Agency\": \"Grover Beach\", \"Categories\": \"Total Requested\", \"Funding Amount\": 1005409.0439352273}, {\"Agency\": \"San Luis Obispo\", \"Categories\": \"Total Requested\", \"Funding Amount\": 1832980.2758455556}, {\"Agency\": \"San Luis Obispo County\", \"Categories\": \"Total Requested\", \"Funding Amount\": -185584.51396397728}, {\"Agency\": \"Grover Beach\", \"Categories\": \"Fed Requested\", \"Funding Amount\": 679504.0188098672}, {\"Agency\": \"San Luis Obispo\", \"Categories\": \"Fed Requested\", \"Funding Amount\": 1832980.2758455556}, {\"Agency\": \"San Luis Obispo County\", \"Categories\": \"Fed Requested\", \"Funding Amount\": -121388.66539615304}, {\"Agency\": \"Grover Beach\", \"Categories\": \"AC Requested\", \"Funding Amount\": 0.0}, {\"Agency\": \"San Luis Obispo\", \"Categories\": \"AC Requested\", \"Funding Amount\": 0.0}, {\"Agency\": \"San Luis Obispo County\", \"Categories\": \"AC Requested\", \"Funding Amount\": 0.0}]}}, {\"mode\": \"vega-lite\"});\n</script>",
          "text/plain": "alt.Chart(...)"
         },
         "metadata": {},
         "output_type": "display_data"
        }
       ]
      }
     },
     "900def7daadf480e8fd7d0e9e14328bc": {
      "model_module": "@jupyter-widgets/controls",
      "model_module_version": "1.5.0",
      "model_name": "HTMLModel",
      "state": {
       "layout": "IPY_MODEL_9e2471e3537f48ee9efacbaa7ca5a9a5",
       "style": "IPY_MODEL_916a669e8dcb4b00a4b5e4526d05c961",
       "value": "<strong>Top Agencies using Transit Projects</strong>"
      }
     },
     "9043acac9f7e41d28acdaf331db64ecd": {
      "model_module": "@jupyter-widgets/controls",
      "model_module_version": "1.5.0",
      "model_name": "DescriptionStyleModel",
      "state": {
       "description_width": ""
      }
     },
     "90caff761a4342ada90781987216ce01": {
      "model_module": "@jupyter-widgets/controls",
      "model_module_version": "1.5.0",
      "model_name": "DescriptionStyleModel",
      "state": {
       "description_width": ""
      }
     },
     "916a669e8dcb4b00a4b5e4526d05c961": {
      "model_module": "@jupyter-widgets/controls",
      "model_module_version": "1.5.0",
      "model_name": "DescriptionStyleModel",
      "state": {
       "description_width": ""
      }
     },
     "923061397e45438387daf603b2fd57b5": {
      "model_module": "@jupyter-widgets/controls",
      "model_module_version": "1.5.0",
      "model_name": "TabModel",
      "state": {
       "_titles": {
        "0": "Active Transportation",
        "1": "Transit",
        "2": "Bridge",
        "3": "Street",
        "4": "Freeway",
        "5": "Infrastructure & Emergency Relief",
        "6": "Congestion Relief"
       },
       "children": [
        "IPY_MODEL_9723677891584ca79c94c2f731507efd",
        "IPY_MODEL_1c6541e4b21f4f9cb96cc1437af4bfb0",
        "IPY_MODEL_29e4f43cb00248aa89de1845550dbbb4",
        "IPY_MODEL_62a4df9584d340e6b5987f68a43f130c",
        "IPY_MODEL_df7a542c1294409aa448eb4a21d0ec74",
        "IPY_MODEL_7ef0d8fc876b4df09c70b1218710032e",
        "IPY_MODEL_086713a965f145dd9fa073db4880c7a6"
       ],
       "layout": "IPY_MODEL_cb31282196304dfbb634227e32abe08f"
      }
     },
     "92b6bb8799244baf873796f8f59af7ee": {
      "model_module": "@jupyter-widgets/base",
      "model_module_version": "1.2.0",
      "model_name": "LayoutModel",
      "state": {}
     },
     "92e92a3cdab34dda93b1de1880345457": {
      "model_module": "@jupyter-widgets/output",
      "model_module_version": "1.0.0",
      "model_name": "OutputModel",
      "state": {
       "layout": "IPY_MODEL_36d784788aee4a749d44e800cc8dac77",
       "outputs": [
        {
         "data": {
          "application/vnd.jupyter.widget-view+json": {
           "model_id": "",
           "version_major": 2,
           "version_minor": 0
          },
          "text/plain": "HTML(value='<strong>Top Agencies using Congestion Relief Projects</strong>')"
         },
         "metadata": {},
         "output_type": "display_data"
        },
        {
         "data": {
          "text/html": "<style type=\"text/css\">\n</style>\n<table id=\"T_a02b4\">\n  <thead>\n    <tr>\n      <th class=\"blank level0\" >&nbsp;</th>\n      <th id=\"T_a02b4_level0_col0\" class=\"col_heading level0 col0\" >Agency</th>\n      <th id=\"T_a02b4_level0_col1\" class=\"col_heading level0 col1\" >Congestion Relief Obligations</th>\n      <th id=\"T_a02b4_level0_col2\" class=\"col_heading level0 col2\" >Percent of Category</th>\n    </tr>\n  </thead>\n  <tbody>\n    <tr>\n      <th id=\"T_a02b4_level0_row0\" class=\"row_heading level0 row0\" >0</th>\n      <td id=\"T_a02b4_row0_col0\" class=\"data row0 col0\" >Contra Costa Transportation Authority</td>\n      <td id=\"T_a02b4_row0_col1\" class=\"data row0 col1\" >6</td>\n      <td id=\"T_a02b4_row0_col2\" class=\"data row0 col2\" >22.22%</td>\n    </tr>\n    <tr>\n      <th id=\"T_a02b4_level0_row1\" class=\"row_heading level0 row1\" >1</th>\n      <td id=\"T_a02b4_row1_col0\" class=\"data row1 col0\" >Metropolitan Transportation Commission</td>\n      <td id=\"T_a02b4_row1_col1\" class=\"data row1 col1\" >5</td>\n      <td id=\"T_a02b4_row1_col2\" class=\"data row1 col2\" >18.52%</td>\n    </tr>\n    <tr>\n      <th id=\"T_a02b4_level0_row2\" class=\"row_heading level0 row2\" >2</th>\n      <td id=\"T_a02b4_row2_col0\" class=\"data row2 col0\" >Sonoma County Transportation Authority</td>\n      <td id=\"T_a02b4_row2_col1\" class=\"data row2 col1\" >4</td>\n      <td id=\"T_a02b4_row2_col2\" class=\"data row2 col2\" >14.81%</td>\n    </tr>\n    <tr>\n      <th id=\"T_a02b4_level0_row3\" class=\"row_heading level0 row3\" >3</th>\n      <td id=\"T_a02b4_row3_col0\" class=\"data row3 col0\" >San Mateo</td>\n      <td id=\"T_a02b4_row3_col1\" class=\"data row3 col1\" >3</td>\n      <td id=\"T_a02b4_row3_col2\" class=\"data row3 col2\" >11.11%</td>\n    </tr>\n    <tr>\n      <th id=\"T_a02b4_level0_row4\" class=\"row_heading level0 row4\" >4</th>\n      <td id=\"T_a02b4_row4_col0\" class=\"data row4 col0\" >Solano Transportation Authority</td>\n      <td id=\"T_a02b4_row4_col1\" class=\"data row4 col1\" >3</td>\n      <td id=\"T_a02b4_row4_col2\" class=\"data row4 col2\" >11.11%</td>\n    </tr>\n  </tbody>\n</table>\n",
          "text/plain": "<pandas.io.formats.style.Styler at 0x7f605e05ebe0>"
         },
         "metadata": {},
         "output_type": "display_data"
        },
        {
         "data": {
          "text/html": "\n<div id=\"altair-viz-036ca82796504d3088c9d3378a658b48\"></div>\n<script type=\"text/javascript\">\n  var VEGA_DEBUG = (typeof VEGA_DEBUG == \"undefined\") ? {} : VEGA_DEBUG;\n  (function(spec, embedOpt){\n    let outputDiv = document.currentScript.previousElementSibling;\n    if (outputDiv.id !== \"altair-viz-036ca82796504d3088c9d3378a658b48\") {\n      outputDiv = document.getElementById(\"altair-viz-036ca82796504d3088c9d3378a658b48\");\n    }\n    const paths = {\n      \"vega\": \"https://cdn.jsdelivr.net/npm//vega@5?noext\",\n      \"vega-lib\": \"https://cdn.jsdelivr.net/npm//vega-lib?noext\",\n      \"vega-lite\": \"https://cdn.jsdelivr.net/npm//vega-lite@4.17.0?noext\",\n      \"vega-embed\": \"https://cdn.jsdelivr.net/npm//vega-embed@6?noext\",\n    };\n\n    function maybeLoadScript(lib, version) {\n      var key = `${lib.replace(\"-\", \"\")}_version`;\n      return (VEGA_DEBUG[key] == version) ?\n        Promise.resolve(paths[lib]) :\n        new Promise(function(resolve, reject) {\n          var s = document.createElement('script');\n          document.getElementsByTagName(\"head\")[0].appendChild(s);\n          s.async = true;\n          s.onload = () => {\n            VEGA_DEBUG[key] = version;\n            return resolve(paths[lib]);\n          };\n          s.onerror = () => reject(`Error loading script: ${paths[lib]}`);\n          s.src = paths[lib];\n        });\n    }\n\n    function showError(err) {\n      outputDiv.innerHTML = `<div class=\"error\" style=\"color:red;\">${err}</div>`;\n      throw err;\n    }\n\n    function displayChart(vegaEmbed) {\n      vegaEmbed(outputDiv, spec, embedOpt)\n        .catch(err => showError(`Javascript Error: ${err.message}<br>This usually means there's a typo in your chart specification. See the javascript console for the full traceback.`));\n    }\n\n    if(typeof define === \"function\" && define.amd) {\n      requirejs.config({paths});\n      require([\"vega-embed\"], displayChart, err => showError(`Error loading script: ${err.message}`));\n    } else {\n      maybeLoadScript(\"vega\", \"5\")\n        .then(() => maybeLoadScript(\"vega-lite\", \"4.17.0\"))\n        .then(() => maybeLoadScript(\"vega-embed\", \"6\"))\n        .catch(showError)\n        .then(() => displayChart(vegaEmbed));\n    }\n  })({\"config\": {\"view\": {\"continuousWidth\": 400, \"continuousHeight\": 300}}, \"data\": {\"name\": \"data-288e035acb4bd3ef567cff5d4068697a\"}, \"mark\": \"bar\", \"encoding\": {\"color\": {\"field\": \"Categories\", \"scale\": {\"range\": [\"#2EA8CE\", \"#EB9F3C\", \"#F4D837\", \"#51BF9D\", \"#8CBCCB\", \"#9487C0\"]}, \"type\": \"nominal\"}, \"row\": {\"field\": \"Categories\", \"type\": \"nominal\"}, \"tooltip\": [{\"field\": \"Agency\", \"type\": \"nominal\"}, {\"field\": \"Funding Amount\", \"type\": \"quantitative\"}], \"x\": {\"axis\": {\"format\": \"$.2s\", \"title\": \"Obligated Funding ($2021)\"}, \"field\": \"Funding Amount\", \"type\": \"quantitative\"}, \"y\": {\"field\": \"Agency\", \"type\": \"nominal\"}}, \"$schema\": \"https://vega.github.io/schema/vega-lite/v4.17.0.json\", \"datasets\": {\"data-288e035acb4bd3ef567cff5d4068697a\": [{\"Agency\": \"Contra Costa Transportation Authority\", \"Categories\": \"Total Requested\", \"Funding Amount\": 197250.95617523268}, {\"Agency\": \"Metropolitan Transportation Commission\", \"Categories\": \"Total Requested\", \"Funding Amount\": 2873575.211728853}, {\"Agency\": \"Sonoma County Transportation Authority\", \"Categories\": \"Total Requested\", \"Funding Amount\": 24784.0927036328}, {\"Agency\": \"San Mateo\", \"Categories\": \"Total Requested\", \"Funding Amount\": 50566.77608965471}, {\"Agency\": \"Solano Transportation Authority\", \"Categories\": \"Total Requested\", \"Funding Amount\": 156006.74522970387}, {\"Agency\": \"Contra Costa Transportation Authority\", \"Categories\": \"Fed Requested\", \"Funding Amount\": 158480.104075906}, {\"Agency\": \"Metropolitan Transportation Commission\", \"Categories\": \"Fed Requested\", \"Funding Amount\": 2873576.667669716}, {\"Agency\": \"Sonoma County Transportation Authority\", \"Categories\": \"Fed Requested\", \"Funding Amount\": 24773.560430762882}, {\"Agency\": \"San Mateo\", \"Categories\": \"Fed Requested\", \"Funding Amount\": 42627.45791136464}, {\"Agency\": \"Solano Transportation Authority\", \"Categories\": \"Fed Requested\", \"Funding Amount\": 203358.6054765724}, {\"Agency\": \"Contra Costa Transportation Authority\", \"Categories\": \"AC Requested\", \"Funding Amount\": 0.0}, {\"Agency\": \"Metropolitan Transportation Commission\", \"Categories\": \"AC Requested\", \"Funding Amount\": 0.0}, {\"Agency\": \"Sonoma County Transportation Authority\", \"Categories\": \"AC Requested\", \"Funding Amount\": 0.0}, {\"Agency\": \"San Mateo\", \"Categories\": \"AC Requested\", \"Funding Amount\": 0.0}, {\"Agency\": \"Solano Transportation Authority\", \"Categories\": \"AC Requested\", \"Funding Amount\": 0.0}]}}, {\"mode\": \"vega-lite\"});\n</script>",
          "text/plain": "alt.Chart(...)"
         },
         "metadata": {},
         "output_type": "display_data"
        }
       ]
      }
     },
     "93bd2b2ff95942858a0cb8d280cc3c0a": {
      "model_module": "@jupyter-widgets/output",
      "model_module_version": "1.0.0",
      "model_name": "OutputModel",
      "state": {
       "layout": "IPY_MODEL_627c00dd98c3418294d23f738fbbabc6",
       "outputs": [
        {
         "data": {
          "application/vnd.jupyter.widget-view+json": {
           "model_id": "",
           "version_major": 2,
           "version_minor": 0
          },
          "text/plain": "HTML(value='<strong>Top Agencies using Active Transportation Projects</strong>')"
         },
         "metadata": {},
         "output_type": "display_data"
        },
        {
         "data": {
          "text/html": "<style type=\"text/css\">\n</style>\n<table id=\"T_924d5\">\n  <thead>\n    <tr>\n      <th class=\"blank level0\" >&nbsp;</th>\n      <th id=\"T_924d5_level0_col0\" class=\"col_heading level0 col0\" >Agency</th>\n      <th id=\"T_924d5_level0_col1\" class=\"col_heading level0 col1\" >Active Transportation Obligations</th>\n      <th id=\"T_924d5_level0_col2\" class=\"col_heading level0 col2\" >Percent of Category</th>\n    </tr>\n  </thead>\n  <tbody>\n    <tr>\n      <th id=\"T_924d5_level0_row0\" class=\"row_heading level0 row0\" >0</th>\n      <td id=\"T_924d5_row0_col0\" class=\"data row0 col0\" >Santa Barbara</td>\n      <td id=\"T_924d5_row0_col1\" class=\"data row0 col1\" >30</td>\n      <td id=\"T_924d5_row0_col2\" class=\"data row0 col2\" >17.96%</td>\n    </tr>\n    <tr>\n      <th id=\"T_924d5_level0_row1\" class=\"row_heading level0 row1\" >1</th>\n      <td id=\"T_924d5_row1_col0\" class=\"data row1 col0\" >Santa Cruz</td>\n      <td id=\"T_924d5_row1_col1\" class=\"data row1 col1\" >18</td>\n      <td id=\"T_924d5_row1_col2\" class=\"data row1 col2\" >10.78%</td>\n    </tr>\n    <tr>\n      <th id=\"T_924d5_level0_row2\" class=\"row_heading level0 row2\" >2</th>\n      <td id=\"T_924d5_row2_col0\" class=\"data row2 col0\" >San Luis Obispo County</td>\n      <td id=\"T_924d5_row2_col1\" class=\"data row2 col1\" >16</td>\n      <td id=\"T_924d5_row2_col2\" class=\"data row2 col2\" >9.58%</td>\n    </tr>\n    <tr>\n      <th id=\"T_924d5_level0_row3\" class=\"row_heading level0 row3\" >3</th>\n      <td id=\"T_924d5_row3_col0\" class=\"data row3 col0\" >Monterey County</td>\n      <td id=\"T_924d5_row3_col1\" class=\"data row3 col1\" >14</td>\n      <td id=\"T_924d5_row3_col2\" class=\"data row3 col2\" >8.38%</td>\n    </tr>\n    <tr>\n      <th id=\"T_924d5_level0_row4\" class=\"row_heading level0 row4\" >4</th>\n      <td id=\"T_924d5_row4_col0\" class=\"data row4 col0\" >Santa Cruz County</td>\n      <td id=\"T_924d5_row4_col1\" class=\"data row4 col1\" >12</td>\n      <td id=\"T_924d5_row4_col2\" class=\"data row4 col2\" >7.19%</td>\n    </tr>\n  </tbody>\n</table>\n",
          "text/plain": "<pandas.io.formats.style.Styler at 0x7f605e0a6550>"
         },
         "metadata": {},
         "output_type": "display_data"
        },
        {
         "data": {
          "text/html": "\n<div id=\"altair-viz-4c9be786e0434b4e99e78a26915c2c8a\"></div>\n<script type=\"text/javascript\">\n  var VEGA_DEBUG = (typeof VEGA_DEBUG == \"undefined\") ? {} : VEGA_DEBUG;\n  (function(spec, embedOpt){\n    let outputDiv = document.currentScript.previousElementSibling;\n    if (outputDiv.id !== \"altair-viz-4c9be786e0434b4e99e78a26915c2c8a\") {\n      outputDiv = document.getElementById(\"altair-viz-4c9be786e0434b4e99e78a26915c2c8a\");\n    }\n    const paths = {\n      \"vega\": \"https://cdn.jsdelivr.net/npm//vega@5?noext\",\n      \"vega-lib\": \"https://cdn.jsdelivr.net/npm//vega-lib?noext\",\n      \"vega-lite\": \"https://cdn.jsdelivr.net/npm//vega-lite@4.17.0?noext\",\n      \"vega-embed\": \"https://cdn.jsdelivr.net/npm//vega-embed@6?noext\",\n    };\n\n    function maybeLoadScript(lib, version) {\n      var key = `${lib.replace(\"-\", \"\")}_version`;\n      return (VEGA_DEBUG[key] == version) ?\n        Promise.resolve(paths[lib]) :\n        new Promise(function(resolve, reject) {\n          var s = document.createElement('script');\n          document.getElementsByTagName(\"head\")[0].appendChild(s);\n          s.async = true;\n          s.onload = () => {\n            VEGA_DEBUG[key] = version;\n            return resolve(paths[lib]);\n          };\n          s.onerror = () => reject(`Error loading script: ${paths[lib]}`);\n          s.src = paths[lib];\n        });\n    }\n\n    function showError(err) {\n      outputDiv.innerHTML = `<div class=\"error\" style=\"color:red;\">${err}</div>`;\n      throw err;\n    }\n\n    function displayChart(vegaEmbed) {\n      vegaEmbed(outputDiv, spec, embedOpt)\n        .catch(err => showError(`Javascript Error: ${err.message}<br>This usually means there's a typo in your chart specification. See the javascript console for the full traceback.`));\n    }\n\n    if(typeof define === \"function\" && define.amd) {\n      requirejs.config({paths});\n      require([\"vega-embed\"], displayChart, err => showError(`Error loading script: ${err.message}`));\n    } else {\n      maybeLoadScript(\"vega\", \"5\")\n        .then(() => maybeLoadScript(\"vega-lite\", \"4.17.0\"))\n        .then(() => maybeLoadScript(\"vega-embed\", \"6\"))\n        .catch(showError)\n        .then(() => displayChart(vegaEmbed));\n    }\n  })({\"config\": {\"view\": {\"continuousWidth\": 400, \"continuousHeight\": 300}}, \"data\": {\"name\": \"data-04e4d9936906a8299586b7057db3c54b\"}, \"mark\": \"bar\", \"encoding\": {\"color\": {\"field\": \"Categories\", \"scale\": {\"range\": [\"#2EA8CE\", \"#EB9F3C\", \"#F4D837\", \"#51BF9D\", \"#8CBCCB\", \"#9487C0\"]}, \"type\": \"nominal\"}, \"row\": {\"field\": \"Categories\", \"type\": \"nominal\"}, \"tooltip\": [{\"field\": \"Agency\", \"type\": \"nominal\"}, {\"field\": \"Funding Amount\", \"type\": \"quantitative\"}], \"x\": {\"axis\": {\"format\": \"$.2s\", \"title\": \"Obligated Funding ($2021)\"}, \"field\": \"Funding Amount\", \"type\": \"quantitative\"}, \"y\": {\"field\": \"Agency\", \"type\": \"nominal\"}}, \"$schema\": \"https://vega.github.io/schema/vega-lite/v4.17.0.json\", \"datasets\": {\"data-04e4d9936906a8299586b7057db3c54b\": [{\"Agency\": \"Santa Barbara\", \"Categories\": \"Total Requested\", \"Funding Amount\": 855446.1402999059}, {\"Agency\": \"Santa Cruz\", \"Categories\": \"Total Requested\", \"Funding Amount\": 229500.24411091828}, {\"Agency\": \"San Luis Obispo County\", \"Categories\": \"Total Requested\", \"Funding Amount\": 865392.8224253361}, {\"Agency\": \"Monterey County\", \"Categories\": \"Total Requested\", \"Funding Amount\": 1424172.1375025187}, {\"Agency\": \"Santa Cruz County\", \"Categories\": \"Total Requested\", \"Funding Amount\": 72084.95374426687}, {\"Agency\": \"Santa Barbara\", \"Categories\": \"Fed Requested\", \"Funding Amount\": 837359.2097809091}, {\"Agency\": \"Santa Cruz\", \"Categories\": \"Fed Requested\", \"Funding Amount\": 190853.78165741725}, {\"Agency\": \"San Luis Obispo County\", \"Categories\": \"Fed Requested\", \"Funding Amount\": 633957.619955866}, {\"Agency\": \"Monterey County\", \"Categories\": \"Fed Requested\", \"Funding Amount\": 809838.3540935019}, {\"Agency\": \"Santa Cruz County\", \"Categories\": \"Fed Requested\", \"Funding Amount\": 51285.23266898959}, {\"Agency\": \"Santa Barbara\", \"Categories\": \"AC Requested\", \"Funding Amount\": 0.0}, {\"Agency\": \"Santa Cruz\", \"Categories\": \"AC Requested\", \"Funding Amount\": 0.0}, {\"Agency\": \"San Luis Obispo County\", \"Categories\": \"AC Requested\", \"Funding Amount\": 0.0}, {\"Agency\": \"Monterey County\", \"Categories\": \"AC Requested\", \"Funding Amount\": 0.0}, {\"Agency\": \"Santa Cruz County\", \"Categories\": \"AC Requested\", \"Funding Amount\": 0.0}]}}, {\"mode\": \"vega-lite\"});\n</script>",
          "text/plain": "alt.Chart(...)"
         },
         "metadata": {},
         "output_type": "display_data"
        }
       ]
      }
     },
     "9443d0cc5a674aa886687c9d34677d20": {
      "model_module": "@jupyter-widgets/output",
      "model_module_version": "1.0.0",
      "model_name": "OutputModel",
      "state": {
       "layout": "IPY_MODEL_ed23c5865c244f9ea5167af016501d15",
       "outputs": [
        {
         "data": {
          "application/vnd.jupyter.widget-view+json": {
           "model_id": "",
           "version_major": 2,
           "version_minor": 0
          },
          "text/plain": "HTML(value='<strong>Top Agencies using Street Projects</strong>')"
         },
         "metadata": {},
         "output_type": "display_data"
        },
        {
         "data": {
          "text/html": "<style type=\"text/css\">\n</style>\n<table id=\"T_013f8\">\n  <thead>\n    <tr>\n      <th class=\"blank level0\" >&nbsp;</th>\n      <th id=\"T_013f8_level0_col0\" class=\"col_heading level0 col0\" >Agency</th>\n      <th id=\"T_013f8_level0_col1\" class=\"col_heading level0 col1\" >Street Obligations</th>\n      <th id=\"T_013f8_level0_col2\" class=\"col_heading level0 col2\" >Percent of Category</th>\n    </tr>\n  </thead>\n  <tbody>\n    <tr>\n      <th id=\"T_013f8_level0_row0\" class=\"row_heading level0 row0\" >0</th>\n      <td id=\"T_013f8_row0_col0\" class=\"data row0 col0\" >Oakland</td>\n      <td id=\"T_013f8_row0_col1\" class=\"data row0 col1\" >82</td>\n      <td id=\"T_013f8_row0_col2\" class=\"data row0 col2\" >6.23%</td>\n    </tr>\n    <tr>\n      <th id=\"T_013f8_level0_row1\" class=\"row_heading level0 row1\" >1</th>\n      <td id=\"T_013f8_row1_col0\" class=\"data row1 col0\" >Contra Costa County</td>\n      <td id=\"T_013f8_row1_col1\" class=\"data row1 col1\" >81</td>\n      <td id=\"T_013f8_row1_col2\" class=\"data row1 col2\" >6.15%</td>\n    </tr>\n    <tr>\n      <th id=\"T_013f8_level0_row2\" class=\"row_heading level0 row2\" >2</th>\n      <td id=\"T_013f8_row2_col0\" class=\"data row2 col0\" >San Jose</td>\n      <td id=\"T_013f8_row2_col1\" class=\"data row2 col1\" >66</td>\n      <td id=\"T_013f8_row2_col2\" class=\"data row2 col2\" >5.01%</td>\n    </tr>\n    <tr>\n      <th id=\"T_013f8_level0_row3\" class=\"row_heading level0 row3\" >3</th>\n      <td id=\"T_013f8_row3_col0\" class=\"data row3 col0\" >San Francisco County</td>\n      <td id=\"T_013f8_row3_col1\" class=\"data row3 col1\" >45</td>\n      <td id=\"T_013f8_row3_col2\" class=\"data row3 col2\" >3.42%</td>\n    </tr>\n    <tr>\n      <th id=\"T_013f8_level0_row4\" class=\"row_heading level0 row4\" >4</th>\n      <td id=\"T_013f8_row4_col0\" class=\"data row4 col0\" >Sunnyvale</td>\n      <td id=\"T_013f8_row4_col1\" class=\"data row4 col1\" >45</td>\n      <td id=\"T_013f8_row4_col2\" class=\"data row4 col2\" >3.42%</td>\n    </tr>\n  </tbody>\n</table>\n",
          "text/plain": "<pandas.io.formats.style.Styler at 0x7f605d19c070>"
         },
         "metadata": {},
         "output_type": "display_data"
        },
        {
         "data": {
          "text/html": "\n<div id=\"altair-viz-bc83478e04884b3ebe5e9e9dc678fd83\"></div>\n<script type=\"text/javascript\">\n  var VEGA_DEBUG = (typeof VEGA_DEBUG == \"undefined\") ? {} : VEGA_DEBUG;\n  (function(spec, embedOpt){\n    let outputDiv = document.currentScript.previousElementSibling;\n    if (outputDiv.id !== \"altair-viz-bc83478e04884b3ebe5e9e9dc678fd83\") {\n      outputDiv = document.getElementById(\"altair-viz-bc83478e04884b3ebe5e9e9dc678fd83\");\n    }\n    const paths = {\n      \"vega\": \"https://cdn.jsdelivr.net/npm//vega@5?noext\",\n      \"vega-lib\": \"https://cdn.jsdelivr.net/npm//vega-lib?noext\",\n      \"vega-lite\": \"https://cdn.jsdelivr.net/npm//vega-lite@4.17.0?noext\",\n      \"vega-embed\": \"https://cdn.jsdelivr.net/npm//vega-embed@6?noext\",\n    };\n\n    function maybeLoadScript(lib, version) {\n      var key = `${lib.replace(\"-\", \"\")}_version`;\n      return (VEGA_DEBUG[key] == version) ?\n        Promise.resolve(paths[lib]) :\n        new Promise(function(resolve, reject) {\n          var s = document.createElement('script');\n          document.getElementsByTagName(\"head\")[0].appendChild(s);\n          s.async = true;\n          s.onload = () => {\n            VEGA_DEBUG[key] = version;\n            return resolve(paths[lib]);\n          };\n          s.onerror = () => reject(`Error loading script: ${paths[lib]}`);\n          s.src = paths[lib];\n        });\n    }\n\n    function showError(err) {\n      outputDiv.innerHTML = `<div class=\"error\" style=\"color:red;\">${err}</div>`;\n      throw err;\n    }\n\n    function displayChart(vegaEmbed) {\n      vegaEmbed(outputDiv, spec, embedOpt)\n        .catch(err => showError(`Javascript Error: ${err.message}<br>This usually means there's a typo in your chart specification. See the javascript console for the full traceback.`));\n    }\n\n    if(typeof define === \"function\" && define.amd) {\n      requirejs.config({paths});\n      require([\"vega-embed\"], displayChart, err => showError(`Error loading script: ${err.message}`));\n    } else {\n      maybeLoadScript(\"vega\", \"5\")\n        .then(() => maybeLoadScript(\"vega-lite\", \"4.17.0\"))\n        .then(() => maybeLoadScript(\"vega-embed\", \"6\"))\n        .catch(showError)\n        .then(() => displayChart(vegaEmbed));\n    }\n  })({\"config\": {\"view\": {\"continuousWidth\": 400, \"continuousHeight\": 300}}, \"data\": {\"name\": \"data-2d34081fc3d7ba7c3cd8f495e86d10d3\"}, \"mark\": \"bar\", \"encoding\": {\"color\": {\"field\": \"Categories\", \"scale\": {\"range\": [\"#2EA8CE\", \"#EB9F3C\", \"#F4D837\", \"#51BF9D\", \"#8CBCCB\", \"#9487C0\"]}, \"type\": \"nominal\"}, \"row\": {\"field\": \"Categories\", \"type\": \"nominal\"}, \"tooltip\": [{\"field\": \"Agency\", \"type\": \"nominal\"}, {\"field\": \"Funding Amount\", \"type\": \"quantitative\"}], \"x\": {\"axis\": {\"format\": \"$.2s\", \"title\": \"Obligated Funding ($2021)\"}, \"field\": \"Funding Amount\", \"type\": \"quantitative\"}, \"y\": {\"field\": \"Agency\", \"type\": \"nominal\"}}, \"$schema\": \"https://vega.github.io/schema/vega-lite/v4.17.0.json\", \"datasets\": {\"data-2d34081fc3d7ba7c3cd8f495e86d10d3\": [{\"Agency\": \"Oakland\", \"Categories\": \"Total Requested\", \"Funding Amount\": 956510.9982220907}, {\"Agency\": \"Contra Costa County\", \"Categories\": \"Total Requested\", \"Funding Amount\": 623295.6954156285}, {\"Agency\": \"San Jose\", \"Categories\": \"Total Requested\", \"Funding Amount\": 1164523.0377909504}, {\"Agency\": \"San Francisco County\", \"Categories\": \"Total Requested\", \"Funding Amount\": 4830086.66271812}, {\"Agency\": \"Sunnyvale\", \"Categories\": \"Total Requested\", \"Funding Amount\": 263230.4439052576}, {\"Agency\": \"Oakland\", \"Categories\": \"Fed Requested\", \"Funding Amount\": 666584.6247971884}, {\"Agency\": \"Contra Costa County\", \"Categories\": \"Fed Requested\", \"Funding Amount\": 425612.567296328}, {\"Agency\": \"San Jose\", \"Categories\": \"Fed Requested\", \"Funding Amount\": 949104.6690137495}, {\"Agency\": \"San Francisco County\", \"Categories\": \"Fed Requested\", \"Funding Amount\": 596351.3825193458}, {\"Agency\": \"Sunnyvale\", \"Categories\": \"Fed Requested\", \"Funding Amount\": 218961.48645088891}, {\"Agency\": \"Oakland\", \"Categories\": \"AC Requested\", \"Funding Amount\": 0.0}, {\"Agency\": \"Contra Costa County\", \"Categories\": \"AC Requested\", \"Funding Amount\": 229.00333419290047}, {\"Agency\": \"San Jose\", \"Categories\": \"AC Requested\", \"Funding Amount\": 0.0}, {\"Agency\": \"San Francisco County\", \"Categories\": \"AC Requested\", \"Funding Amount\": 3762.4890021642877}, {\"Agency\": \"Sunnyvale\", \"Categories\": \"AC Requested\", \"Funding Amount\": 0.0}]}}, {\"mode\": \"vega-lite\"});\n</script>",
          "text/plain": "alt.Chart(...)"
         },
         "metadata": {},
         "output_type": "display_data"
        }
       ]
      }
     },
     "94b6a0b456cb413faa2599fbfa7fa6a5": {
      "model_module": "@jupyter-widgets/controls",
      "model_module_version": "1.5.0",
      "model_name": "DescriptionStyleModel",
      "state": {
       "description_width": ""
      }
     },
     "9518c379c7ca416a994f77a517003586": {
      "model_module": "@jupyter-widgets/controls",
      "model_module_version": "1.5.0",
      "model_name": "HTMLModel",
      "state": {
       "layout": "IPY_MODEL_2b50609acdd94252b4edf0c3d7924463",
       "style": "IPY_MODEL_13cc868ee741433caa8d657a796de390",
       "value": "<strong>Top Agencies using Active Transportation Projects</strong>"
      }
     },
     "953bdc464816466fade8adbb6f984a22": {
      "model_module": "@jupyter-widgets/controls",
      "model_module_version": "1.5.0",
      "model_name": "HTMLModel",
      "state": {
       "layout": "IPY_MODEL_5b0179aad9384459bddbcc4835dde6ab",
       "style": "IPY_MODEL_127af52fcddd44a68a9120aa877de31d",
       "value": "<strong>Top Agencies using Bridge Projects</strong>"
      }
     },
     "955d0e9ecc99444aa87f73a5fa32e79d": {
      "model_module": "@jupyter-widgets/base",
      "model_module_version": "1.2.0",
      "model_name": "LayoutModel",
      "state": {}
     },
     "95619ff8d9e94f57a0b7339a7d2b7fc8": {
      "model_module": "@jupyter-widgets/controls",
      "model_module_version": "1.5.0",
      "model_name": "TabModel",
      "state": {
       "children": [
        "IPY_MODEL_387e6dab11064cf283bfef3f43a6e4c2",
        "IPY_MODEL_d6ab9a8af016431c852a131e62be66ce",
        "IPY_MODEL_a3e181ddb31e43538b892e74e21f61e1",
        "IPY_MODEL_31802fe6650f4d699b7fc3f3a372fa00",
        "IPY_MODEL_c5e67b423cbf4a25b45eef2f12004135",
        "IPY_MODEL_72dd767ac8f14762b48281de0ace032f",
        "IPY_MODEL_fa1fba356ba54df0a17a2f6dc8fb8b86"
       ],
       "layout": "IPY_MODEL_0a3d3f7d4c124009a12c1ad425236ecf"
      }
     },
     "96a5a901fd5f4e878408c6b15a1bdf05": {
      "model_module": "@jupyter-widgets/controls",
      "model_module_version": "1.5.0",
      "model_name": "TabModel",
      "state": {
       "_titles": {
        "0": "Active Transportation",
        "1": "Transit",
        "2": "Bridge",
        "3": "Street",
        "4": "Freeway",
        "5": "Infrastructure & Emergency Relief",
        "6": "Congestion Relief"
       },
       "children": [
        "IPY_MODEL_c2e29d4344f04aba93e1bdc0412771af",
        "IPY_MODEL_c41ecf0328e8498f8a799f77fb5c4e71",
        "IPY_MODEL_ec03af1a4b944aecaa864f7436cdef12",
        "IPY_MODEL_f9ed23d4348c47688dfa1fe9594daa18",
        "IPY_MODEL_75d93f0e94594696bced002da35db03c",
        "IPY_MODEL_0ffe99ebbca049f5b33cccc529a46305",
        "IPY_MODEL_e91ecdd2691c4625982aeb6b8259a393"
       ],
       "layout": "IPY_MODEL_ca38f58f34fe40a98b70ac29025f7f92"
      }
     },
     "9723677891584ca79c94c2f731507efd": {
      "model_module": "@jupyter-widgets/output",
      "model_module_version": "1.0.0",
      "model_name": "OutputModel",
      "state": {
       "layout": "IPY_MODEL_ce3ab46874694c529eac566ab35777ce",
       "outputs": [
        {
         "data": {
          "application/vnd.jupyter.widget-view+json": {
           "model_id": "",
           "version_major": 2,
           "version_minor": 0
          },
          "text/plain": "HTML(value='<strong>Top Agencies using Active Transportation Projects</strong>')"
         },
         "metadata": {},
         "output_type": "display_data"
        },
        {
         "data": {
          "text/html": "<style type=\"text/css\">\n</style>\n<table id=\"T_1b81d\">\n  <thead>\n    <tr>\n      <th class=\"blank level0\" >&nbsp;</th>\n      <th id=\"T_1b81d_level0_col0\" class=\"col_heading level0 col0\" >Agency</th>\n      <th id=\"T_1b81d_level0_col1\" class=\"col_heading level0 col1\" >Active Transportation Obligations</th>\n      <th id=\"T_1b81d_level0_col2\" class=\"col_heading level0 col2\" >Percent of Category</th>\n    </tr>\n  </thead>\n  <tbody>\n    <tr>\n      <th id=\"T_1b81d_level0_row0\" class=\"row_heading level0 row0\" >0</th>\n      <td id=\"T_1b81d_row0_col0\" class=\"data row0 col0\" >San Jose</td>\n      <td id=\"T_1b81d_row0_col1\" class=\"data row0 col1\" >79</td>\n      <td id=\"T_1b81d_row0_col2\" class=\"data row0 col2\" >7.38%</td>\n    </tr>\n    <tr>\n      <th id=\"T_1b81d_level0_row1\" class=\"row_heading level0 row1\" >1</th>\n      <td id=\"T_1b81d_row1_col0\" class=\"data row1 col0\" >Oakland</td>\n      <td id=\"T_1b81d_row1_col1\" class=\"data row1 col1\" >65</td>\n      <td id=\"T_1b81d_row1_col2\" class=\"data row1 col2\" >6.07%</td>\n    </tr>\n    <tr>\n      <th id=\"T_1b81d_level0_row2\" class=\"row_heading level0 row2\" >2</th>\n      <td id=\"T_1b81d_row2_col0\" class=\"data row2 col0\" >City & County of San Francisco, MTA/Parking & Traffic</td>\n      <td id=\"T_1b81d_row2_col1\" class=\"data row2 col1\" >46</td>\n      <td id=\"T_1b81d_row2_col2\" class=\"data row2 col2\" >4.30%</td>\n    </tr>\n    <tr>\n      <th id=\"T_1b81d_level0_row3\" class=\"row_heading level0 row3\" >3</th>\n      <td id=\"T_1b81d_row3_col0\" class=\"data row3 col0\" >Sunnyvale</td>\n      <td id=\"T_1b81d_row3_col1\" class=\"data row3 col1\" >45</td>\n      <td id=\"T_1b81d_row3_col2\" class=\"data row3 col2\" >4.21%</td>\n    </tr>\n    <tr>\n      <th id=\"T_1b81d_level0_row4\" class=\"row_heading level0 row4\" >4</th>\n      <td id=\"T_1b81d_row4_col0\" class=\"data row4 col0\" >Contra Costa County</td>\n      <td id=\"T_1b81d_row4_col1\" class=\"data row4 col1\" >39</td>\n      <td id=\"T_1b81d_row4_col2\" class=\"data row4 col2\" >3.64%</td>\n    </tr>\n  </tbody>\n</table>\n",
          "text/plain": "<pandas.io.formats.style.Styler at 0x7f605d2d64f0>"
         },
         "metadata": {},
         "output_type": "display_data"
        },
        {
         "data": {
          "text/html": "\n<div id=\"altair-viz-1a145133e17d4126958b36d08c0d9a09\"></div>\n<script type=\"text/javascript\">\n  var VEGA_DEBUG = (typeof VEGA_DEBUG == \"undefined\") ? {} : VEGA_DEBUG;\n  (function(spec, embedOpt){\n    let outputDiv = document.currentScript.previousElementSibling;\n    if (outputDiv.id !== \"altair-viz-1a145133e17d4126958b36d08c0d9a09\") {\n      outputDiv = document.getElementById(\"altair-viz-1a145133e17d4126958b36d08c0d9a09\");\n    }\n    const paths = {\n      \"vega\": \"https://cdn.jsdelivr.net/npm//vega@5?noext\",\n      \"vega-lib\": \"https://cdn.jsdelivr.net/npm//vega-lib?noext\",\n      \"vega-lite\": \"https://cdn.jsdelivr.net/npm//vega-lite@4.17.0?noext\",\n      \"vega-embed\": \"https://cdn.jsdelivr.net/npm//vega-embed@6?noext\",\n    };\n\n    function maybeLoadScript(lib, version) {\n      var key = `${lib.replace(\"-\", \"\")}_version`;\n      return (VEGA_DEBUG[key] == version) ?\n        Promise.resolve(paths[lib]) :\n        new Promise(function(resolve, reject) {\n          var s = document.createElement('script');\n          document.getElementsByTagName(\"head\")[0].appendChild(s);\n          s.async = true;\n          s.onload = () => {\n            VEGA_DEBUG[key] = version;\n            return resolve(paths[lib]);\n          };\n          s.onerror = () => reject(`Error loading script: ${paths[lib]}`);\n          s.src = paths[lib];\n        });\n    }\n\n    function showError(err) {\n      outputDiv.innerHTML = `<div class=\"error\" style=\"color:red;\">${err}</div>`;\n      throw err;\n    }\n\n    function displayChart(vegaEmbed) {\n      vegaEmbed(outputDiv, spec, embedOpt)\n        .catch(err => showError(`Javascript Error: ${err.message}<br>This usually means there's a typo in your chart specification. See the javascript console for the full traceback.`));\n    }\n\n    if(typeof define === \"function\" && define.amd) {\n      requirejs.config({paths});\n      require([\"vega-embed\"], displayChart, err => showError(`Error loading script: ${err.message}`));\n    } else {\n      maybeLoadScript(\"vega\", \"5\")\n        .then(() => maybeLoadScript(\"vega-lite\", \"4.17.0\"))\n        .then(() => maybeLoadScript(\"vega-embed\", \"6\"))\n        .catch(showError)\n        .then(() => displayChart(vegaEmbed));\n    }\n  })({\"config\": {\"view\": {\"continuousWidth\": 400, \"continuousHeight\": 300}}, \"data\": {\"name\": \"data-f2b192092ab40256b133e03678fdbbef\"}, \"mark\": \"bar\", \"encoding\": {\"color\": {\"field\": \"Categories\", \"scale\": {\"range\": [\"#2EA8CE\", \"#EB9F3C\", \"#F4D837\", \"#51BF9D\", \"#8CBCCB\", \"#9487C0\"]}, \"type\": \"nominal\"}, \"row\": {\"field\": \"Categories\", \"type\": \"nominal\"}, \"tooltip\": [{\"field\": \"Agency\", \"type\": \"nominal\"}, {\"field\": \"Funding Amount\", \"type\": \"quantitative\"}], \"x\": {\"axis\": {\"format\": \"$.2s\", \"title\": \"Obligated Funding ($2021)\"}, \"field\": \"Funding Amount\", \"type\": \"quantitative\"}, \"y\": {\"field\": \"Agency\", \"type\": \"nominal\"}}, \"$schema\": \"https://vega.github.io/schema/vega-lite/v4.17.0.json\", \"datasets\": {\"data-f2b192092ab40256b133e03678fdbbef\": [{\"Agency\": \"San Jose\", \"Categories\": \"Total Requested\", \"Funding Amount\": 814137.7836283975}, {\"Agency\": \"Oakland\", \"Categories\": \"Total Requested\", \"Funding Amount\": 1190695.923476186}, {\"Agency\": \"City & County of San Francisco, MTA/Parking & Traffic\", \"Categories\": \"Total Requested\", \"Funding Amount\": 399422.13886393333}, {\"Agency\": \"Sunnyvale\", \"Categories\": \"Total Requested\", \"Funding Amount\": 318241.7714299652}, {\"Agency\": \"Contra Costa County\", \"Categories\": \"Total Requested\", \"Funding Amount\": 898253.4359490186}, {\"Agency\": \"San Jose\", \"Categories\": \"Fed Requested\", \"Funding Amount\": 608959.3462479156}, {\"Agency\": \"Oakland\", \"Categories\": \"Fed Requested\", \"Funding Amount\": 768046.0772685818}, {\"Agency\": \"City & County of San Francisco, MTA/Parking & Traffic\", \"Categories\": \"Fed Requested\", \"Funding Amount\": 275973.90511533467}, {\"Agency\": \"Sunnyvale\", \"Categories\": \"Fed Requested\", \"Funding Amount\": 253929.59677578227}, {\"Agency\": \"Contra Costa County\", \"Categories\": \"Fed Requested\", \"Funding Amount\": 421336.3001180079}, {\"Agency\": \"San Jose\", \"Categories\": \"AC Requested\", \"Funding Amount\": 1556.8402544351802}, {\"Agency\": \"Oakland\", \"Categories\": \"AC Requested\", \"Funding Amount\": 0.0}, {\"Agency\": \"City & County of San Francisco, MTA/Parking & Traffic\", \"Categories\": \"AC Requested\", \"Funding Amount\": 0.0}, {\"Agency\": \"Sunnyvale\", \"Categories\": \"AC Requested\", \"Funding Amount\": 0.0}, {\"Agency\": \"Contra Costa County\", \"Categories\": \"AC Requested\", \"Funding Amount\": 0.0}]}}, {\"mode\": \"vega-lite\"});\n</script>",
          "text/plain": "alt.Chart(...)"
         },
         "metadata": {},
         "output_type": "display_data"
        }
       ]
      }
     },
     "9761f06bd71544478be867480277625b": {
      "model_module": "@jupyter-widgets/base",
      "model_module_version": "1.2.0",
      "model_name": "LayoutModel",
      "state": {}
     },
     "97c79e242de443518eb542474e12a29a": {
      "model_module": "@jupyter-widgets/controls",
      "model_module_version": "1.5.0",
      "model_name": "HTMLModel",
      "state": {
       "layout": "IPY_MODEL_315bcfa0eee44751982e9b26f68b6b17",
       "style": "IPY_MODEL_dab895ece7084564a53dcbb4b25f8bb7",
       "value": "<strong>Top Agencies using Bridge Projects</strong>"
      }
     },
     "98173e04cda541648fa3b90e0dea2105": {
      "model_module": "@jupyter-widgets/controls",
      "model_module_version": "1.5.0",
      "model_name": "HTMLModel",
      "state": {
       "layout": "IPY_MODEL_5956fe3de0384f89ac7f65249653e995",
       "style": "IPY_MODEL_da8c07b26fe84e92ab6784907a390a01",
       "value": "<strong>Top Agencies using Active Transportation Projects</strong>"
      }
     },
     "9844d3d8d3e64a6dae31236b9f60db14": {
      "model_module": "@jupyter-widgets/controls",
      "model_module_version": "1.5.0",
      "model_name": "HTMLModel",
      "state": {
       "layout": "IPY_MODEL_a27e33e861404ec6a85da76d3b822813",
       "style": "IPY_MODEL_477286252da44ba09c58b37a17d4c9a9",
       "value": "<strong>Top Agencies using Infrastructure & Emergency Relief Projects</strong>"
      }
     },
     "987e30445b6444b38fe2c88ab8627a12": {
      "model_module": "@jupyter-widgets/controls",
      "model_module_version": "1.5.0",
      "model_name": "DescriptionStyleModel",
      "state": {
       "description_width": ""
      }
     },
     "9a451c3004d040b2bf5c17f7406d4d17": {
      "model_module": "@jupyter-widgets/controls",
      "model_module_version": "1.5.0",
      "model_name": "HTMLModel",
      "state": {
       "layout": "IPY_MODEL_dcd5b20db81f43228c0d75e823f73dfa",
       "style": "IPY_MODEL_1cfd270e811542f79924b4a8ecd0b19c",
       "value": "<strong>Top Agencies using Street Projects</strong>"
      }
     },
     "9ad10d41c01849be8048079683672be9": {
      "model_module": "@jupyter-widgets/base",
      "model_module_version": "1.2.0",
      "model_name": "LayoutModel",
      "state": {}
     },
     "9bac4d76e2004542852239438895cbf7": {
      "model_module": "@jupyter-widgets/base",
      "model_module_version": "1.2.0",
      "model_name": "LayoutModel",
      "state": {}
     },
     "9bb04e06614c4a07af2be841ca1428b7": {
      "model_module": "@jupyter-widgets/base",
      "model_module_version": "1.2.0",
      "model_name": "LayoutModel",
      "state": {}
     },
     "9bcd9860c4274a4da8eaf58c7c3d541d": {
      "model_module": "@jupyter-widgets/controls",
      "model_module_version": "1.5.0",
      "model_name": "DescriptionStyleModel",
      "state": {
       "description_width": ""
      }
     },
     "9c917966ffa443d68beee82e0bdbc89a": {
      "model_module": "@jupyter-widgets/controls",
      "model_module_version": "1.5.0",
      "model_name": "DescriptionStyleModel",
      "state": {
       "description_width": ""
      }
     },
     "9e0dcab55254424ba77cdf6ba12ef504": {
      "model_module": "@jupyter-widgets/base",
      "model_module_version": "1.2.0",
      "model_name": "LayoutModel",
      "state": {}
     },
     "9e2471e3537f48ee9efacbaa7ca5a9a5": {
      "model_module": "@jupyter-widgets/base",
      "model_module_version": "1.2.0",
      "model_name": "LayoutModel",
      "state": {}
     },
     "9fc0897c714444c3938d006f9dd84f14": {
      "model_module": "@jupyter-widgets/controls",
      "model_module_version": "1.5.0",
      "model_name": "TabModel",
      "state": {
       "_titles": {
        "0": "Active Transportation",
        "1": "Transit",
        "2": "Bridge",
        "3": "Street",
        "4": "Freeway",
        "5": "Infrastructure & Emergency Relief",
        "6": "Congestion Relief"
       },
       "children": [
        "IPY_MODEL_ae078d7474fe474e8e421f000a818873",
        "IPY_MODEL_02a5d2d3470e4f1dad3c5b28a559b414",
        "IPY_MODEL_30d6454ed39e4dc58e08a37138f2ffc8",
        "IPY_MODEL_3aae35f85f5343039faeb23e7b64c6bb",
        "IPY_MODEL_a74346c0e3de4001981a182da2b41587",
        "IPY_MODEL_54f25cad5a7640c58e3c17d515f0ac5a",
        "IPY_MODEL_a3325a1d16ce424689b0477e951fb39b"
       ],
       "layout": "IPY_MODEL_4cfb7da7bc9045988268b0b098029165"
      }
     },
     "a10646e353e84a1bbba764a31cb0426e": {
      "model_module": "@jupyter-widgets/controls",
      "model_module_version": "1.5.0",
      "model_name": "DescriptionStyleModel",
      "state": {
       "description_width": ""
      }
     },
     "a27e33e861404ec6a85da76d3b822813": {
      "model_module": "@jupyter-widgets/base",
      "model_module_version": "1.2.0",
      "model_name": "LayoutModel",
      "state": {}
     },
     "a3325a1d16ce424689b0477e951fb39b": {
      "model_module": "@jupyter-widgets/output",
      "model_module_version": "1.0.0",
      "model_name": "OutputModel",
      "state": {
       "layout": "IPY_MODEL_11c4faf97f644b5dbc79e65f157f675b",
       "outputs": [
        {
         "data": {
          "application/vnd.jupyter.widget-view+json": {
           "model_id": "",
           "version_major": 2,
           "version_minor": 0
          },
          "text/plain": "HTML(value='<strong>Top Agencies using Congestion Relief Projects</strong>')"
         },
         "metadata": {},
         "output_type": "display_data"
        },
        {
         "data": {
          "text/html": "<style type=\"text/css\">\n</style>\n<table id=\"T_6aef5\">\n  <thead>\n    <tr>\n      <th class=\"blank level0\" >&nbsp;</th>\n      <th id=\"T_6aef5_level0_col0\" class=\"col_heading level0 col0\" >Agency</th>\n      <th id=\"T_6aef5_level0_col1\" class=\"col_heading level0 col1\" >Congestion Relief Obligations</th>\n      <th id=\"T_6aef5_level0_col2\" class=\"col_heading level0 col2\" >Percent of Category</th>\n    </tr>\n  </thead>\n  <tbody>\n    <tr>\n      <th id=\"T_6aef5_level0_row0\" class=\"row_heading level0 row0\" >0</th>\n      <td id=\"T_6aef5_row0_col0\" class=\"data row0 col0\" >Ventura County Transportation Commission</td>\n      <td id=\"T_6aef5_row0_col1\" class=\"data row0 col1\" >10</td>\n      <td id=\"T_6aef5_row0_col2\" class=\"data row0 col2\" >100.00%</td>\n    </tr>\n  </tbody>\n</table>\n",
          "text/plain": "<pandas.io.formats.style.Styler at 0x7f605e091c10>"
         },
         "metadata": {},
         "output_type": "display_data"
        },
        {
         "data": {
          "text/html": "\n<div id=\"altair-viz-b99cd6e9ad67440cb0461e6ee01a23cc\"></div>\n<script type=\"text/javascript\">\n  var VEGA_DEBUG = (typeof VEGA_DEBUG == \"undefined\") ? {} : VEGA_DEBUG;\n  (function(spec, embedOpt){\n    let outputDiv = document.currentScript.previousElementSibling;\n    if (outputDiv.id !== \"altair-viz-b99cd6e9ad67440cb0461e6ee01a23cc\") {\n      outputDiv = document.getElementById(\"altair-viz-b99cd6e9ad67440cb0461e6ee01a23cc\");\n    }\n    const paths = {\n      \"vega\": \"https://cdn.jsdelivr.net/npm//vega@5?noext\",\n      \"vega-lib\": \"https://cdn.jsdelivr.net/npm//vega-lib?noext\",\n      \"vega-lite\": \"https://cdn.jsdelivr.net/npm//vega-lite@4.17.0?noext\",\n      \"vega-embed\": \"https://cdn.jsdelivr.net/npm//vega-embed@6?noext\",\n    };\n\n    function maybeLoadScript(lib, version) {\n      var key = `${lib.replace(\"-\", \"\")}_version`;\n      return (VEGA_DEBUG[key] == version) ?\n        Promise.resolve(paths[lib]) :\n        new Promise(function(resolve, reject) {\n          var s = document.createElement('script');\n          document.getElementsByTagName(\"head\")[0].appendChild(s);\n          s.async = true;\n          s.onload = () => {\n            VEGA_DEBUG[key] = version;\n            return resolve(paths[lib]);\n          };\n          s.onerror = () => reject(`Error loading script: ${paths[lib]}`);\n          s.src = paths[lib];\n        });\n    }\n\n    function showError(err) {\n      outputDiv.innerHTML = `<div class=\"error\" style=\"color:red;\">${err}</div>`;\n      throw err;\n    }\n\n    function displayChart(vegaEmbed) {\n      vegaEmbed(outputDiv, spec, embedOpt)\n        .catch(err => showError(`Javascript Error: ${err.message}<br>This usually means there's a typo in your chart specification. See the javascript console for the full traceback.`));\n    }\n\n    if(typeof define === \"function\" && define.amd) {\n      requirejs.config({paths});\n      require([\"vega-embed\"], displayChart, err => showError(`Error loading script: ${err.message}`));\n    } else {\n      maybeLoadScript(\"vega\", \"5\")\n        .then(() => maybeLoadScript(\"vega-lite\", \"4.17.0\"))\n        .then(() => maybeLoadScript(\"vega-embed\", \"6\"))\n        .catch(showError)\n        .then(() => displayChart(vegaEmbed));\n    }\n  })({\"config\": {\"view\": {\"continuousWidth\": 400, \"continuousHeight\": 300}}, \"data\": {\"name\": \"data-4922caaab0e50414b992dacfd2156b40\"}, \"mark\": \"bar\", \"encoding\": {\"color\": {\"field\": \"Categories\", \"scale\": {\"range\": [\"#2EA8CE\", \"#EB9F3C\", \"#F4D837\", \"#51BF9D\", \"#8CBCCB\", \"#9487C0\"]}, \"type\": \"nominal\"}, \"row\": {\"field\": \"Categories\", \"type\": \"nominal\"}, \"tooltip\": [{\"field\": \"Agency\", \"type\": \"nominal\"}, {\"field\": \"Funding Amount\", \"type\": \"quantitative\"}], \"x\": {\"axis\": {\"format\": \"$.2s\", \"title\": \"Obligated Funding ($2021)\"}, \"field\": \"Funding Amount\", \"type\": \"quantitative\"}, \"y\": {\"field\": \"Agency\", \"type\": \"nominal\"}}, \"$schema\": \"https://vega.github.io/schema/vega-lite/v4.17.0.json\", \"datasets\": {\"data-4922caaab0e50414b992dacfd2156b40\": [{\"Agency\": \"Ventura County Transportation Commission\", \"Categories\": \"Total Requested\", \"Funding Amount\": 281102.8874310915}, {\"Agency\": \"Ventura County Transportation Commission\", \"Categories\": \"Fed Requested\", \"Funding Amount\": 281102.8874310915}, {\"Agency\": \"Ventura County Transportation Commission\", \"Categories\": \"AC Requested\", \"Funding Amount\": 0.0}]}}, {\"mode\": \"vega-lite\"});\n</script>",
          "text/plain": "alt.Chart(...)"
         },
         "metadata": {},
         "output_type": "display_data"
        }
       ]
      }
     },
     "a3e181ddb31e43538b892e74e21f61e1": {
      "model_module": "@jupyter-widgets/output",
      "model_module_version": "1.0.0",
      "model_name": "OutputModel",
      "state": {
       "layout": "IPY_MODEL_f424abffaca84e35849eba7babca0e77",
       "outputs": [
        {
         "data": {
          "application/vnd.jupyter.widget-view+json": {
           "model_id": "",
           "version_major": 2,
           "version_minor": 0
          },
          "text/plain": "HTML(value='<strong>Top Agencies using Bridge Projects</strong>')"
         },
         "metadata": {},
         "output_type": "display_data"
        },
        {
         "data": {
          "text/html": "<style type=\"text/css\">\n</style>\n<table id=\"T_e5c04\">\n  <thead>\n    <tr>\n      <th class=\"blank level0\" >&nbsp;</th>\n      <th id=\"T_e5c04_level0_col0\" class=\"col_heading level0 col0\" >Agency</th>\n      <th id=\"T_e5c04_level0_col1\" class=\"col_heading level0 col1\" >Bridge Obligations</th>\n      <th id=\"T_e5c04_level0_col2\" class=\"col_heading level0 col2\" >Percent of Category</th>\n    </tr>\n  </thead>\n  <tbody>\n    <tr>\n      <th id=\"T_e5c04_level0_row0\" class=\"row_heading level0 row0\" >0</th>\n      <td id=\"T_e5c04_row0_col0\" class=\"data row0 col0\" >Tulare County</td>\n      <td id=\"T_e5c04_row0_col1\" class=\"data row0 col1\" >110</td>\n      <td id=\"T_e5c04_row0_col2\" class=\"data row0 col2\" >3.13%</td>\n    </tr>\n    <tr>\n      <th id=\"T_e5c04_level0_row1\" class=\"row_heading level0 row1\" >1</th>\n      <td id=\"T_e5c04_row1_col0\" class=\"data row1 col0\" >Fresno County</td>\n      <td id=\"T_e5c04_row1_col1\" class=\"data row1 col1\" >108</td>\n      <td id=\"T_e5c04_row1_col2\" class=\"data row1 col2\" >3.07%</td>\n    </tr>\n    <tr>\n      <th id=\"T_e5c04_level0_row2\" class=\"row_heading level0 row2\" >2</th>\n      <td id=\"T_e5c04_row2_col0\" class=\"data row2 col0\" >Humboldt County</td>\n      <td id=\"T_e5c04_row2_col1\" class=\"data row2 col1\" >104</td>\n      <td id=\"T_e5c04_row2_col2\" class=\"data row2 col2\" >2.96%</td>\n    </tr>\n    <tr>\n      <th id=\"T_e5c04_level0_row3\" class=\"row_heading level0 row3\" >3</th>\n      <td id=\"T_e5c04_row3_col0\" class=\"data row3 col0\" >El Dorado County</td>\n      <td id=\"T_e5c04_row3_col1\" class=\"data row3 col1\" >94</td>\n      <td id=\"T_e5c04_row3_col2\" class=\"data row3 col2\" >2.67%</td>\n    </tr>\n    <tr>\n      <th id=\"T_e5c04_level0_row4\" class=\"row_heading level0 row4\" >4</th>\n      <td id=\"T_e5c04_row4_col0\" class=\"data row4 col0\" >Lake County</td>\n      <td id=\"T_e5c04_row4_col1\" class=\"data row4 col1\" >94</td>\n      <td id=\"T_e5c04_row4_col2\" class=\"data row4 col2\" >2.67%</td>\n    </tr>\n  </tbody>\n</table>\n",
          "text/plain": "<pandas.io.formats.style.Styler at 0x7f605e92a9a0>"
         },
         "metadata": {},
         "output_type": "display_data"
        },
        {
         "data": {
          "text/html": "\n<div id=\"altair-viz-8234c48afb014550a90f29659c12e95c\"></div>\n<script type=\"text/javascript\">\n  var VEGA_DEBUG = (typeof VEGA_DEBUG == \"undefined\") ? {} : VEGA_DEBUG;\n  (function(spec, embedOpt){\n    let outputDiv = document.currentScript.previousElementSibling;\n    if (outputDiv.id !== \"altair-viz-8234c48afb014550a90f29659c12e95c\") {\n      outputDiv = document.getElementById(\"altair-viz-8234c48afb014550a90f29659c12e95c\");\n    }\n    const paths = {\n      \"vega\": \"https://cdn.jsdelivr.net/npm//vega@5?noext\",\n      \"vega-lib\": \"https://cdn.jsdelivr.net/npm//vega-lib?noext\",\n      \"vega-lite\": \"https://cdn.jsdelivr.net/npm//vega-lite@4.17.0?noext\",\n      \"vega-embed\": \"https://cdn.jsdelivr.net/npm//vega-embed@6?noext\",\n    };\n\n    function maybeLoadScript(lib, version) {\n      var key = `${lib.replace(\"-\", \"\")}_version`;\n      return (VEGA_DEBUG[key] == version) ?\n        Promise.resolve(paths[lib]) :\n        new Promise(function(resolve, reject) {\n          var s = document.createElement('script');\n          document.getElementsByTagName(\"head\")[0].appendChild(s);\n          s.async = true;\n          s.onload = () => {\n            VEGA_DEBUG[key] = version;\n            return resolve(paths[lib]);\n          };\n          s.onerror = () => reject(`Error loading script: ${paths[lib]}`);\n          s.src = paths[lib];\n        });\n    }\n\n    function showError(err) {\n      outputDiv.innerHTML = `<div class=\"error\" style=\"color:red;\">${err}</div>`;\n      throw err;\n    }\n\n    function displayChart(vegaEmbed) {\n      vegaEmbed(outputDiv, spec, embedOpt)\n        .catch(err => showError(`Javascript Error: ${err.message}<br>This usually means there's a typo in your chart specification. See the javascript console for the full traceback.`));\n    }\n\n    if(typeof define === \"function\" && define.amd) {\n      requirejs.config({paths});\n      require([\"vega-embed\"], displayChart, err => showError(`Error loading script: ${err.message}`));\n    } else {\n      maybeLoadScript(\"vega\", \"5\")\n        .then(() => maybeLoadScript(\"vega-lite\", \"4.17.0\"))\n        .then(() => maybeLoadScript(\"vega-embed\", \"6\"))\n        .catch(showError)\n        .then(() => displayChart(vegaEmbed));\n    }\n  })({\"config\": {\"view\": {\"continuousWidth\": 400, \"continuousHeight\": 300}}, \"data\": {\"name\": \"data-bbeddef611236c61db38fbe4bf2b5a7b\"}, \"mark\": \"bar\", \"encoding\": {\"color\": {\"field\": \"Categories\", \"scale\": {\"range\": [\"#2EA8CE\", \"#EB9F3C\", \"#F4D837\", \"#51BF9D\", \"#8CBCCB\", \"#9487C0\"]}, \"type\": \"nominal\"}, \"row\": {\"field\": \"Categories\", \"type\": \"nominal\"}, \"tooltip\": [{\"field\": \"Agency\", \"type\": \"nominal\"}, {\"field\": \"Funding Amount\", \"type\": \"quantitative\"}], \"x\": {\"axis\": {\"format\": \"$.2s\", \"title\": \"Obligated Funding ($2021)\"}, \"field\": \"Funding Amount\", \"type\": \"quantitative\"}, \"y\": {\"field\": \"Agency\", \"type\": \"nominal\"}}, \"$schema\": \"https://vega.github.io/schema/vega-lite/v4.17.0.json\", \"datasets\": {\"data-bbeddef611236c61db38fbe4bf2b5a7b\": [{\"Agency\": \"Tulare County\", \"Categories\": \"Total Requested\", \"Funding Amount\": 350102.12774168997}, {\"Agency\": \"Fresno County\", \"Categories\": \"Total Requested\", \"Funding Amount\": 464876.6787461888}, {\"Agency\": \"Humboldt County\", \"Categories\": \"Total Requested\", \"Funding Amount\": 191567.20175444707}, {\"Agency\": \"El Dorado County\", \"Categories\": \"Total Requested\", \"Funding Amount\": 1320886.9617813618}, {\"Agency\": \"Lake County\", \"Categories\": \"Total Requested\", \"Funding Amount\": 262860.1546629166}, {\"Agency\": \"Tulare County\", \"Categories\": \"Fed Requested\", \"Funding Amount\": 340603.51006132265}, {\"Agency\": \"Fresno County\", \"Categories\": \"Fed Requested\", \"Funding Amount\": 410531.25251010834}, {\"Agency\": \"Humboldt County\", \"Categories\": \"Fed Requested\", \"Funding Amount\": 178894.51149098342}, {\"Agency\": \"El Dorado County\", \"Categories\": \"Fed Requested\", \"Funding Amount\": 700713.1932399541}, {\"Agency\": \"Lake County\", \"Categories\": \"Fed Requested\", \"Funding Amount\": 257456.7981703208}, {\"Agency\": \"Tulare County\", \"Categories\": \"AC Requested\", \"Funding Amount\": 3142.3022370064664}, {\"Agency\": \"Fresno County\", \"Categories\": \"AC Requested\", \"Funding Amount\": 23363.187655061465}, {\"Agency\": \"Humboldt County\", \"Categories\": \"AC Requested\", \"Funding Amount\": 75.2102761428018}, {\"Agency\": \"El Dorado County\", \"Categories\": \"AC Requested\", \"Funding Amount\": 587061.5223979005}, {\"Agency\": \"Lake County\", \"Categories\": \"AC Requested\", \"Funding Amount\": 0.0}]}}, {\"mode\": \"vega-lite\"});\n</script>",
          "text/plain": "alt.Chart(...)"
         },
         "metadata": {},
         "output_type": "display_data"
        }
       ]
      }
     },
     "a49e9024ddad4dc19e7c65000092cb34": {
      "model_module": "@jupyter-widgets/base",
      "model_module_version": "1.2.0",
      "model_name": "LayoutModel",
      "state": {}
     },
     "a504b142ddbe41288ece326ec5f64bd9": {
      "model_module": "@jupyter-widgets/controls",
      "model_module_version": "1.5.0",
      "model_name": "TabModel",
      "state": {
       "_titles": {
        "0": "Active Transportation",
        "1": "Transit",
        "2": "Bridge",
        "3": "Street",
        "4": "Freeway",
        "5": "Infrastructure & Emergency Relief",
        "6": "Congestion Relief"
       },
       "children": [
        "IPY_MODEL_bac4f1a0759c45b78ae07be493b920ee",
        "IPY_MODEL_eb975168779e4cae8fae16605080b213",
        "IPY_MODEL_2ab4a2793dd24751bb014f24ed423ef7",
        "IPY_MODEL_9443d0cc5a674aa886687c9d34677d20",
        "IPY_MODEL_6aeddfe2b344462d8a97e9391fbd68a4",
        "IPY_MODEL_5bff6134be4b490a87cf9f35d61f1ba3",
        "IPY_MODEL_c09f4b1c967e46618a57aa340c0007a3"
       ],
       "layout": "IPY_MODEL_5ca97231cdcd443f820abe254c99fab1"
      }
     },
     "a50a343fc5544a79b793837668295f7c": {
      "model_module": "@jupyter-widgets/controls",
      "model_module_version": "1.5.0",
      "model_name": "DescriptionStyleModel",
      "state": {
       "description_width": ""
      }
     },
     "a590fe6b3a28426fb14b53416e0f7c29": {
      "model_module": "@jupyter-widgets/controls",
      "model_module_version": "1.5.0",
      "model_name": "HTMLModel",
      "state": {
       "layout": "IPY_MODEL_0f251787350745ffb1ce1c6943f17644",
       "style": "IPY_MODEL_ec407d4c9c7a424a89ec857fc18ece80",
       "value": "<strong>Top Agencies using Transit Projects</strong>"
      }
     },
     "a74346c0e3de4001981a182da2b41587": {
      "model_module": "@jupyter-widgets/output",
      "model_module_version": "1.0.0",
      "model_name": "OutputModel",
      "state": {
       "layout": "IPY_MODEL_3823ab949a06414db363dd9f9dcddf19",
       "outputs": [
        {
         "data": {
          "application/vnd.jupyter.widget-view+json": {
           "model_id": "",
           "version_major": 2,
           "version_minor": 0
          },
          "text/plain": "HTML(value='<strong>Top Agencies using Freeway Projects</strong>')"
         },
         "metadata": {},
         "output_type": "display_data"
        },
        {
         "data": {
          "text/html": "<style type=\"text/css\">\n</style>\n<table id=\"T_409a6\">\n  <thead>\n    <tr>\n      <th class=\"blank level0\" >&nbsp;</th>\n      <th id=\"T_409a6_level0_col0\" class=\"col_heading level0 col0\" >Agency</th>\n      <th id=\"T_409a6_level0_col1\" class=\"col_heading level0 col1\" >Freeway Obligations</th>\n      <th id=\"T_409a6_level0_col2\" class=\"col_heading level0 col2\" >Percent of Category</th>\n    </tr>\n  </thead>\n  <tbody>\n    <tr>\n      <th id=\"T_409a6_level0_row0\" class=\"row_heading level0 row0\" >0</th>\n      <td id=\"T_409a6_row0_col0\" class=\"data row0 col0\" >Oxnard</td>\n      <td id=\"T_409a6_row0_col1\" class=\"data row0 col1\" >8</td>\n      <td id=\"T_409a6_row0_col2\" class=\"data row0 col2\" >19.51%</td>\n    </tr>\n    <tr>\n      <th id=\"T_409a6_level0_row1\" class=\"row_heading level0 row1\" >1</th>\n      <td id=\"T_409a6_row1_col0\" class=\"data row1 col0\" >Lancaster</td>\n      <td id=\"T_409a6_row1_col1\" class=\"data row1 col1\" >6</td>\n      <td id=\"T_409a6_row1_col2\" class=\"data row1 col2\" >14.63%</td>\n    </tr>\n    <tr>\n      <th id=\"T_409a6_level0_row2\" class=\"row_heading level0 row2\" >2</th>\n      <td id=\"T_409a6_row2_col0\" class=\"data row2 col0\" >Caltrans</td>\n      <td id=\"T_409a6_row2_col1\" class=\"data row2 col1\" >5</td>\n      <td id=\"T_409a6_row2_col2\" class=\"data row2 col2\" >12.20%</td>\n    </tr>\n    <tr>\n      <th id=\"T_409a6_level0_row3\" class=\"row_heading level0 row3\" >3</th>\n      <td id=\"T_409a6_row3_col0\" class=\"data row3 col0\" >Los Angeles County Metropolitan Transportation Authority</td>\n      <td id=\"T_409a6_row3_col1\" class=\"data row3 col1\" >5</td>\n      <td id=\"T_409a6_row3_col2\" class=\"data row3 col2\" >12.20%</td>\n    </tr>\n    <tr>\n      <th id=\"T_409a6_level0_row4\" class=\"row_heading level0 row4\" >4</th>\n      <td id=\"T_409a6_row4_col0\" class=\"data row4 col0\" >Los Angeles</td>\n      <td id=\"T_409a6_row4_col1\" class=\"data row4 col1\" >4</td>\n      <td id=\"T_409a6_row4_col2\" class=\"data row4 col2\" >9.76%</td>\n    </tr>\n  </tbody>\n</table>\n",
          "text/plain": "<pandas.io.formats.style.Styler at 0x7f605e082f70>"
         },
         "metadata": {},
         "output_type": "display_data"
        },
        {
         "data": {
          "text/html": "\n<div id=\"altair-viz-140ea9f370cc45189183342d166de41b\"></div>\n<script type=\"text/javascript\">\n  var VEGA_DEBUG = (typeof VEGA_DEBUG == \"undefined\") ? {} : VEGA_DEBUG;\n  (function(spec, embedOpt){\n    let outputDiv = document.currentScript.previousElementSibling;\n    if (outputDiv.id !== \"altair-viz-140ea9f370cc45189183342d166de41b\") {\n      outputDiv = document.getElementById(\"altair-viz-140ea9f370cc45189183342d166de41b\");\n    }\n    const paths = {\n      \"vega\": \"https://cdn.jsdelivr.net/npm//vega@5?noext\",\n      \"vega-lib\": \"https://cdn.jsdelivr.net/npm//vega-lib?noext\",\n      \"vega-lite\": \"https://cdn.jsdelivr.net/npm//vega-lite@4.17.0?noext\",\n      \"vega-embed\": \"https://cdn.jsdelivr.net/npm//vega-embed@6?noext\",\n    };\n\n    function maybeLoadScript(lib, version) {\n      var key = `${lib.replace(\"-\", \"\")}_version`;\n      return (VEGA_DEBUG[key] == version) ?\n        Promise.resolve(paths[lib]) :\n        new Promise(function(resolve, reject) {\n          var s = document.createElement('script');\n          document.getElementsByTagName(\"head\")[0].appendChild(s);\n          s.async = true;\n          s.onload = () => {\n            VEGA_DEBUG[key] = version;\n            return resolve(paths[lib]);\n          };\n          s.onerror = () => reject(`Error loading script: ${paths[lib]}`);\n          s.src = paths[lib];\n        });\n    }\n\n    function showError(err) {\n      outputDiv.innerHTML = `<div class=\"error\" style=\"color:red;\">${err}</div>`;\n      throw err;\n    }\n\n    function displayChart(vegaEmbed) {\n      vegaEmbed(outputDiv, spec, embedOpt)\n        .catch(err => showError(`Javascript Error: ${err.message}<br>This usually means there's a typo in your chart specification. See the javascript console for the full traceback.`));\n    }\n\n    if(typeof define === \"function\" && define.amd) {\n      requirejs.config({paths});\n      require([\"vega-embed\"], displayChart, err => showError(`Error loading script: ${err.message}`));\n    } else {\n      maybeLoadScript(\"vega\", \"5\")\n        .then(() => maybeLoadScript(\"vega-lite\", \"4.17.0\"))\n        .then(() => maybeLoadScript(\"vega-embed\", \"6\"))\n        .catch(showError)\n        .then(() => displayChart(vegaEmbed));\n    }\n  })({\"config\": {\"view\": {\"continuousWidth\": 400, \"continuousHeight\": 300}}, \"data\": {\"name\": \"data-cd09aa0af1347f5754ab80e8b307c5af\"}, \"mark\": \"bar\", \"encoding\": {\"color\": {\"field\": \"Categories\", \"scale\": {\"range\": [\"#2EA8CE\", \"#EB9F3C\", \"#F4D837\", \"#51BF9D\", \"#8CBCCB\", \"#9487C0\"]}, \"type\": \"nominal\"}, \"row\": {\"field\": \"Categories\", \"type\": \"nominal\"}, \"tooltip\": [{\"field\": \"Agency\", \"type\": \"nominal\"}, {\"field\": \"Funding Amount\", \"type\": \"quantitative\"}], \"x\": {\"axis\": {\"format\": \"$.2s\", \"title\": \"Obligated Funding ($2021)\"}, \"field\": \"Funding Amount\", \"type\": \"quantitative\"}, \"y\": {\"field\": \"Agency\", \"type\": \"nominal\"}}, \"$schema\": \"https://vega.github.io/schema/vega-lite/v4.17.0.json\", \"datasets\": {\"data-cd09aa0af1347f5754ab80e8b307c5af\": [{\"Agency\": \"Oxnard\", \"Categories\": \"Total Requested\", \"Funding Amount\": -2502311.324883248}, {\"Agency\": \"Lancaster\", \"Categories\": \"Total Requested\", \"Funding Amount\": 1949102.933649522}, {\"Agency\": \"Caltrans\", \"Categories\": \"Total Requested\", \"Funding Amount\": 7046157.10913465}, {\"Agency\": \"Los Angeles County Metropolitan Transportation Authority\", \"Categories\": \"Total Requested\", \"Funding Amount\": 24085841.279153053}, {\"Agency\": \"Los Angeles\", \"Categories\": \"Total Requested\", \"Funding Amount\": 2938883.6831237683}, {\"Agency\": \"Oxnard\", \"Categories\": \"Fed Requested\", \"Funding Amount\": -119629.18434851067}, {\"Agency\": \"Lancaster\", \"Categories\": \"Fed Requested\", \"Funding Amount\": 1949102.933649522}, {\"Agency\": \"Caltrans\", \"Categories\": \"Fed Requested\", \"Funding Amount\": 2958973.185613061}, {\"Agency\": \"Los Angeles County Metropolitan Transportation Authority\", \"Categories\": \"Fed Requested\", \"Funding Amount\": 20566330.4035986}, {\"Agency\": \"Los Angeles\", \"Categories\": \"Fed Requested\", \"Funding Amount\": 2920071.9657107443}, {\"Agency\": \"Oxnard\", \"Categories\": \"AC Requested\", \"Funding Amount\": 0.0}, {\"Agency\": \"Lancaster\", \"Categories\": \"AC Requested\", \"Funding Amount\": 0.0}, {\"Agency\": \"Caltrans\", \"Categories\": \"AC Requested\", \"Funding Amount\": 0.0}, {\"Agency\": \"Los Angeles County Metropolitan Transportation Authority\", \"Categories\": \"AC Requested\", \"Funding Amount\": 606684.1902912945}, {\"Agency\": \"Los Angeles\", \"Categories\": \"AC Requested\", \"Funding Amount\": 0.0}]}}, {\"mode\": \"vega-lite\"});\n</script>",
          "text/plain": "alt.Chart(...)"
         },
         "metadata": {},
         "output_type": "display_data"
        }
       ]
      }
     },
     "a7b0e83dfab5461ca8cd5b14a07546e9": {
      "model_module": "@jupyter-widgets/controls",
      "model_module_version": "1.5.0",
      "model_name": "DescriptionStyleModel",
      "state": {
       "description_width": ""
      }
     },
     "a80a6b49f8434266812a348b20b264b7": {
      "model_module": "@jupyter-widgets/base",
      "model_module_version": "1.2.0",
      "model_name": "LayoutModel",
      "state": {}
     },
     "a8c2828c3aa949da87cea32b5113c297": {
      "model_module": "@jupyter-widgets/output",
      "model_module_version": "1.0.0",
      "model_name": "OutputModel",
      "state": {
       "layout": "IPY_MODEL_5c216c817a3047faa635cab99e2116a5",
       "outputs": [
        {
         "data": {
          "application/vnd.jupyter.widget-view+json": {
           "model_id": "",
           "version_major": 2,
           "version_minor": 0
          },
          "text/plain": "HTML(value='<strong>Top Agencies using Congestion Relief Projects</strong>')"
         },
         "metadata": {},
         "output_type": "display_data"
        },
        {
         "data": {
          "text/html": "<style type=\"text/css\">\n</style>\n<table id=\"T_eeaa2\">\n  <thead>\n    <tr>\n      <th class=\"blank level0\" >&nbsp;</th>\n      <th id=\"T_eeaa2_level0_col0\" class=\"col_heading level0 col0\" >Agency</th>\n      <th id=\"T_eeaa2_level0_col1\" class=\"col_heading level0 col1\" >Congestion Relief Obligations</th>\n      <th id=\"T_eeaa2_level0_col2\" class=\"col_heading level0 col2\" >Percent of Category</th>\n    </tr>\n  </thead>\n  <tbody>\n    <tr>\n      <th id=\"T_eeaa2_level0_row0\" class=\"row_heading level0 row0\" >0</th>\n      <td id=\"T_eeaa2_row0_col0\" class=\"data row0 col0\" >Association Of Monterey Bay Area Governments</td>\n      <td id=\"T_eeaa2_row0_col1\" class=\"data row0 col1\" >1</td>\n      <td id=\"T_eeaa2_row0_col2\" class=\"data row0 col2\" >25.00%</td>\n    </tr>\n    <tr>\n      <th id=\"T_eeaa2_level0_row1\" class=\"row_heading level0 row1\" >1</th>\n      <td id=\"T_eeaa2_row1_col0\" class=\"data row1 col0\" >Council of San Benito County Governments</td>\n      <td id=\"T_eeaa2_row1_col1\" class=\"data row1 col1\" >1</td>\n      <td id=\"T_eeaa2_row1_col2\" class=\"data row1 col2\" >25.00%</td>\n    </tr>\n    <tr>\n      <th id=\"T_eeaa2_level0_row2\" class=\"row_heading level0 row2\" >2</th>\n      <td id=\"T_eeaa2_row2_col0\" class=\"data row2 col0\" >San Luis Obispo Council of Governments</td>\n      <td id=\"T_eeaa2_row2_col1\" class=\"data row2 col1\" >1</td>\n      <td id=\"T_eeaa2_row2_col2\" class=\"data row2 col2\" >25.00%</td>\n    </tr>\n    <tr>\n      <th id=\"T_eeaa2_level0_row3\" class=\"row_heading level0 row3\" >3</th>\n      <td id=\"T_eeaa2_row3_col0\" class=\"data row3 col0\" >Santa Barbara County Association of Governments</td>\n      <td id=\"T_eeaa2_row3_col1\" class=\"data row3 col1\" >1</td>\n      <td id=\"T_eeaa2_row3_col2\" class=\"data row3 col2\" >25.00%</td>\n    </tr>\n  </tbody>\n</table>\n",
          "text/plain": "<pandas.io.formats.style.Styler at 0x7f605dfd9df0>"
         },
         "metadata": {},
         "output_type": "display_data"
        },
        {
         "data": {
          "text/html": "\n<div id=\"altair-viz-18920f52c01a423f87a387ffa5e107a4\"></div>\n<script type=\"text/javascript\">\n  var VEGA_DEBUG = (typeof VEGA_DEBUG == \"undefined\") ? {} : VEGA_DEBUG;\n  (function(spec, embedOpt){\n    let outputDiv = document.currentScript.previousElementSibling;\n    if (outputDiv.id !== \"altair-viz-18920f52c01a423f87a387ffa5e107a4\") {\n      outputDiv = document.getElementById(\"altair-viz-18920f52c01a423f87a387ffa5e107a4\");\n    }\n    const paths = {\n      \"vega\": \"https://cdn.jsdelivr.net/npm//vega@5?noext\",\n      \"vega-lib\": \"https://cdn.jsdelivr.net/npm//vega-lib?noext\",\n      \"vega-lite\": \"https://cdn.jsdelivr.net/npm//vega-lite@4.17.0?noext\",\n      \"vega-embed\": \"https://cdn.jsdelivr.net/npm//vega-embed@6?noext\",\n    };\n\n    function maybeLoadScript(lib, version) {\n      var key = `${lib.replace(\"-\", \"\")}_version`;\n      return (VEGA_DEBUG[key] == version) ?\n        Promise.resolve(paths[lib]) :\n        new Promise(function(resolve, reject) {\n          var s = document.createElement('script');\n          document.getElementsByTagName(\"head\")[0].appendChild(s);\n          s.async = true;\n          s.onload = () => {\n            VEGA_DEBUG[key] = version;\n            return resolve(paths[lib]);\n          };\n          s.onerror = () => reject(`Error loading script: ${paths[lib]}`);\n          s.src = paths[lib];\n        });\n    }\n\n    function showError(err) {\n      outputDiv.innerHTML = `<div class=\"error\" style=\"color:red;\">${err}</div>`;\n      throw err;\n    }\n\n    function displayChart(vegaEmbed) {\n      vegaEmbed(outputDiv, spec, embedOpt)\n        .catch(err => showError(`Javascript Error: ${err.message}<br>This usually means there's a typo in your chart specification. See the javascript console for the full traceback.`));\n    }\n\n    if(typeof define === \"function\" && define.amd) {\n      requirejs.config({paths});\n      require([\"vega-embed\"], displayChart, err => showError(`Error loading script: ${err.message}`));\n    } else {\n      maybeLoadScript(\"vega\", \"5\")\n        .then(() => maybeLoadScript(\"vega-lite\", \"4.17.0\"))\n        .then(() => maybeLoadScript(\"vega-embed\", \"6\"))\n        .catch(showError)\n        .then(() => displayChart(vegaEmbed));\n    }\n  })({\"config\": {\"view\": {\"continuousWidth\": 400, \"continuousHeight\": 300}}, \"data\": {\"name\": \"data-fee87c5925db1a75cd609036f9f81972\"}, \"mark\": \"bar\", \"encoding\": {\"color\": {\"field\": \"Categories\", \"scale\": {\"range\": [\"#2EA8CE\", \"#EB9F3C\", \"#F4D837\", \"#51BF9D\", \"#8CBCCB\", \"#9487C0\"]}, \"type\": \"nominal\"}, \"row\": {\"field\": \"Categories\", \"type\": \"nominal\"}, \"tooltip\": [{\"field\": \"Agency\", \"type\": \"nominal\"}, {\"field\": \"Funding Amount\", \"type\": \"quantitative\"}], \"x\": {\"axis\": {\"format\": \"$.2s\", \"title\": \"Obligated Funding ($2021)\"}, \"field\": \"Funding Amount\", \"type\": \"quantitative\"}, \"y\": {\"field\": \"Agency\", \"type\": \"nominal\"}}, \"$schema\": \"https://vega.github.io/schema/vega-lite/v4.17.0.json\", \"datasets\": {\"data-fee87c5925db1a75cd609036f9f81972\": [{\"Agency\": \"Association Of Monterey Bay Area Governments\", \"Categories\": \"Total Requested\", \"Funding Amount\": -1.2461439474805607}, {\"Agency\": \"Council of San Benito County Governments\", \"Categories\": \"Total Requested\", \"Funding Amount\": 39066.08679428901}, {\"Agency\": \"San Luis Obispo Council of Governments\", \"Categories\": \"Total Requested\", \"Funding Amount\": 4329.960243460692}, {\"Agency\": \"Santa Barbara County Association of Governments\", \"Categories\": \"Total Requested\", \"Funding Amount\": 100.82333461312902}, {\"Agency\": \"Association Of Monterey Bay Area Governments\", \"Categories\": \"Fed Requested\", \"Funding Amount\": -1.0975212748452645}, {\"Agency\": \"Council of San Benito County Governments\", \"Categories\": \"Fed Requested\", \"Funding Amount\": 0.0}, {\"Agency\": \"San Luis Obispo Council of Governments\", \"Categories\": \"Fed Requested\", \"Funding Amount\": 0.0}, {\"Agency\": \"Santa Barbara County Association of Governments\", \"Categories\": \"Fed Requested\", \"Funding Amount\": -0.05716256639819086}, {\"Agency\": \"Association Of Monterey Bay Area Governments\", \"Categories\": \"AC Requested\", \"Funding Amount\": 0.0}, {\"Agency\": \"Council of San Benito County Governments\", \"Categories\": \"AC Requested\", \"Funding Amount\": 0.0}, {\"Agency\": \"San Luis Obispo Council of Governments\", \"Categories\": \"AC Requested\", \"Funding Amount\": 0.0}, {\"Agency\": \"Santa Barbara County Association of Governments\", \"Categories\": \"AC Requested\", \"Funding Amount\": 0.0}]}}, {\"mode\": \"vega-lite\"});\n</script>",
          "text/plain": "alt.Chart(...)"
         },
         "metadata": {},
         "output_type": "display_data"
        }
       ]
      }
     },
     "a95591b4af724db7a7ff697fc5bd4839": {
      "model_module": "@jupyter-widgets/controls",
      "model_module_version": "1.5.0",
      "model_name": "HTMLModel",
      "state": {
       "layout": "IPY_MODEL_f7786120599c402ba186334b7538b6a8",
       "style": "IPY_MODEL_afcd3f1b1d9a4601a5556b7191311da6",
       "value": "<strong>Top Agencies using Active Transportation Projects</strong>"
      }
     },
     "a9825114e9784f0faea0e5c12346684d": {
      "model_module": "@jupyter-widgets/output",
      "model_module_version": "1.0.0",
      "model_name": "OutputModel",
      "state": {
       "layout": "IPY_MODEL_f9741932a47444159ad9b006b1f3d0d2",
       "outputs": [
        {
         "data": {
          "application/vnd.jupyter.widget-view+json": {
           "model_id": "",
           "version_major": 2,
           "version_minor": 0
          },
          "text/plain": "HTML(value='<strong>Top Agencies using Transit Projects</strong>')"
         },
         "metadata": {},
         "output_type": "display_data"
        },
        {
         "data": {
          "text/html": "<style type=\"text/css\">\n</style>\n<table id=\"T_9c2e7\">\n  <thead>\n    <tr>\n      <th class=\"blank level0\" >&nbsp;</th>\n      <th id=\"T_9c2e7_level0_col0\" class=\"col_heading level0 col0\" >Agency</th>\n      <th id=\"T_9c2e7_level0_col1\" class=\"col_heading level0 col1\" >Transit Obligations</th>\n      <th id=\"T_9c2e7_level0_col2\" class=\"col_heading level0 col2\" >Percent of Category</th>\n    </tr>\n  </thead>\n  <tbody>\n    <tr>\n      <th id=\"T_9c2e7_level0_row0\" class=\"row_heading level0 row0\" >0</th>\n      <td id=\"T_9c2e7_row0_col0\" class=\"data row0 col0\" >Metropolitan Transportation Commission</td>\n      <td id=\"T_9c2e7_row0_col1\" class=\"data row0 col1\" >18</td>\n      <td id=\"T_9c2e7_row0_col2\" class=\"data row0 col2\" >28.57%</td>\n    </tr>\n    <tr>\n      <th id=\"T_9c2e7_level0_row1\" class=\"row_heading level0 row1\" >1</th>\n      <td id=\"T_9c2e7_row1_col0\" class=\"data row1 col0\" >Sunnyvale</td>\n      <td id=\"T_9c2e7_row1_col1\" class=\"data row1 col1\" >6</td>\n      <td id=\"T_9c2e7_row1_col2\" class=\"data row1 col2\" >9.52%</td>\n    </tr>\n    <tr>\n      <th id=\"T_9c2e7_level0_row2\" class=\"row_heading level0 row2\" >2</th>\n      <td id=\"T_9c2e7_row2_col0\" class=\"data row2 col0\" >Oakland</td>\n      <td id=\"T_9c2e7_row2_col1\" class=\"data row2 col1\" >4</td>\n      <td id=\"T_9c2e7_row2_col2\" class=\"data row2 col2\" >6.35%</td>\n    </tr>\n    <tr>\n      <th id=\"T_9c2e7_level0_row3\" class=\"row_heading level0 row3\" >3</th>\n      <td id=\"T_9c2e7_row3_col0\" class=\"data row3 col0\" >San Jose</td>\n      <td id=\"T_9c2e7_row3_col1\" class=\"data row3 col1\" >4</td>\n      <td id=\"T_9c2e7_row3_col2\" class=\"data row3 col2\" >6.35%</td>\n    </tr>\n    <tr>\n      <th id=\"T_9c2e7_level0_row4\" class=\"row_heading level0 row4\" >4</th>\n      <td id=\"T_9c2e7_row4_col0\" class=\"data row4 col0\" >San Leandro</td>\n      <td id=\"T_9c2e7_row4_col1\" class=\"data row4 col1\" >4</td>\n      <td id=\"T_9c2e7_row4_col2\" class=\"data row4 col2\" >6.35%</td>\n    </tr>\n  </tbody>\n</table>\n",
          "text/plain": "<pandas.io.formats.style.Styler at 0x7f605eb394f0>"
         },
         "metadata": {},
         "output_type": "display_data"
        },
        {
         "data": {
          "text/html": "\n<div id=\"altair-viz-88a210195045411b8ba985933d270d3e\"></div>\n<script type=\"text/javascript\">\n  var VEGA_DEBUG = (typeof VEGA_DEBUG == \"undefined\") ? {} : VEGA_DEBUG;\n  (function(spec, embedOpt){\n    let outputDiv = document.currentScript.previousElementSibling;\n    if (outputDiv.id !== \"altair-viz-88a210195045411b8ba985933d270d3e\") {\n      outputDiv = document.getElementById(\"altair-viz-88a210195045411b8ba985933d270d3e\");\n    }\n    const paths = {\n      \"vega\": \"https://cdn.jsdelivr.net/npm//vega@5?noext\",\n      \"vega-lib\": \"https://cdn.jsdelivr.net/npm//vega-lib?noext\",\n      \"vega-lite\": \"https://cdn.jsdelivr.net/npm//vega-lite@4.17.0?noext\",\n      \"vega-embed\": \"https://cdn.jsdelivr.net/npm//vega-embed@6?noext\",\n    };\n\n    function maybeLoadScript(lib, version) {\n      var key = `${lib.replace(\"-\", \"\")}_version`;\n      return (VEGA_DEBUG[key] == version) ?\n        Promise.resolve(paths[lib]) :\n        new Promise(function(resolve, reject) {\n          var s = document.createElement('script');\n          document.getElementsByTagName(\"head\")[0].appendChild(s);\n          s.async = true;\n          s.onload = () => {\n            VEGA_DEBUG[key] = version;\n            return resolve(paths[lib]);\n          };\n          s.onerror = () => reject(`Error loading script: ${paths[lib]}`);\n          s.src = paths[lib];\n        });\n    }\n\n    function showError(err) {\n      outputDiv.innerHTML = `<div class=\"error\" style=\"color:red;\">${err}</div>`;\n      throw err;\n    }\n\n    function displayChart(vegaEmbed) {\n      vegaEmbed(outputDiv, spec, embedOpt)\n        .catch(err => showError(`Javascript Error: ${err.message}<br>This usually means there's a typo in your chart specification. See the javascript console for the full traceback.`));\n    }\n\n    if(typeof define === \"function\" && define.amd) {\n      requirejs.config({paths});\n      require([\"vega-embed\"], displayChart, err => showError(`Error loading script: ${err.message}`));\n    } else {\n      maybeLoadScript(\"vega\", \"5\")\n        .then(() => maybeLoadScript(\"vega-lite\", \"4.17.0\"))\n        .then(() => maybeLoadScript(\"vega-embed\", \"6\"))\n        .catch(showError)\n        .then(() => displayChart(vegaEmbed));\n    }\n  })({\"config\": {\"view\": {\"continuousWidth\": 400, \"continuousHeight\": 300}}, \"data\": {\"name\": \"data-5d5f97471ecf66635b3fb2d263bac6ba\"}, \"mark\": \"bar\", \"encoding\": {\"color\": {\"field\": \"Categories\", \"scale\": {\"range\": [\"#2EA8CE\", \"#EB9F3C\", \"#F4D837\", \"#51BF9D\", \"#8CBCCB\", \"#9487C0\"]}, \"type\": \"nominal\"}, \"row\": {\"field\": \"Categories\", \"type\": \"nominal\"}, \"tooltip\": [{\"field\": \"Agency\", \"type\": \"nominal\"}, {\"field\": \"Funding Amount\", \"type\": \"quantitative\"}], \"x\": {\"axis\": {\"format\": \"$.2s\", \"title\": \"Obligated Funding ($2021)\"}, \"field\": \"Funding Amount\", \"type\": \"quantitative\"}, \"y\": {\"field\": \"Agency\", \"type\": \"nominal\"}}, \"$schema\": \"https://vega.github.io/schema/vega-lite/v4.17.0.json\", \"datasets\": {\"data-5d5f97471ecf66635b3fb2d263bac6ba\": [{\"Agency\": \"Metropolitan Transportation Commission\", \"Categories\": \"Total Requested\", \"Funding Amount\": 1891120.7657899645}, {\"Agency\": \"Sunnyvale\", \"Categories\": \"Total Requested\", \"Funding Amount\": 928104.7429225458}, {\"Agency\": \"Oakland\", \"Categories\": \"Total Requested\", \"Funding Amount\": 1799536.078974054}, {\"Agency\": \"San Jose\", \"Categories\": \"Total Requested\", \"Funding Amount\": 295984.4092976527}, {\"Agency\": \"San Leandro\", \"Categories\": \"Total Requested\", \"Funding Amount\": 143582.35902528386}, {\"Agency\": \"Metropolitan Transportation Commission\", \"Categories\": \"Fed Requested\", \"Funding Amount\": 1879749.0219219865}, {\"Agency\": \"Sunnyvale\", \"Categories\": \"Fed Requested\", \"Funding Amount\": 721554.6089858533}, {\"Agency\": \"Oakland\", \"Categories\": \"Fed Requested\", \"Funding Amount\": 1204808.1708253678}, {\"Agency\": \"San Jose\", \"Categories\": \"Fed Requested\", \"Funding Amount\": 270786.4812614909}, {\"Agency\": \"San Leandro\", \"Categories\": \"Fed Requested\", \"Funding Amount\": -328.53984403832146}, {\"Agency\": \"Metropolitan Transportation Commission\", \"Categories\": \"AC Requested\", \"Funding Amount\": 0.0}, {\"Agency\": \"Sunnyvale\", \"Categories\": \"AC Requested\", \"Funding Amount\": 0.0}, {\"Agency\": \"Oakland\", \"Categories\": \"AC Requested\", \"Funding Amount\": 0.0}, {\"Agency\": \"San Jose\", \"Categories\": \"AC Requested\", \"Funding Amount\": 0.0}, {\"Agency\": \"San Leandro\", \"Categories\": \"AC Requested\", \"Funding Amount\": 0.0}]}}, {\"mode\": \"vega-lite\"});\n</script>",
          "text/plain": "alt.Chart(...)"
         },
         "metadata": {},
         "output_type": "display_data"
        }
       ]
      }
     },
     "a9b9c33eb901431299e5e5a6a52ecc7d": {
      "model_module": "@jupyter-widgets/controls",
      "model_module_version": "1.5.0",
      "model_name": "DescriptionStyleModel",
      "state": {
       "description_width": ""
      }
     },
     "a9f59f194b684fda97cb3f2b61af0388": {
      "model_module": "@jupyter-widgets/output",
      "model_module_version": "1.0.0",
      "model_name": "OutputModel",
      "state": {
       "layout": "IPY_MODEL_54337928678a44118990b8a04babdbd0",
       "outputs": [
        {
         "data": {
          "application/vnd.jupyter.widget-view+json": {
           "model_id": "",
           "version_major": 2,
           "version_minor": 0
          },
          "text/plain": "HTML(value='<strong>Top Agencies using Freeway Projects</strong>')"
         },
         "metadata": {},
         "output_type": "display_data"
        },
        {
         "data": {
          "text/html": "<style type=\"text/css\">\n</style>\n<table id=\"T_3ddef\">\n  <thead>\n    <tr>\n      <th class=\"blank level0\" >&nbsp;</th>\n      <th id=\"T_3ddef_level0_col0\" class=\"col_heading level0 col0\" >Agency</th>\n      <th id=\"T_3ddef_level0_col1\" class=\"col_heading level0 col1\" >Freeway Obligations</th>\n      <th id=\"T_3ddef_level0_col2\" class=\"col_heading level0 col2\" >Percent of Category</th>\n    </tr>\n  </thead>\n  <tbody>\n    <tr>\n      <th id=\"T_3ddef_level0_row0\" class=\"row_heading level0 row0\" >0</th>\n      <td id=\"T_3ddef_row0_col0\" class=\"data row0 col0\" >Metropolitan Transportation Commission</td>\n      <td id=\"T_3ddef_row0_col1\" class=\"data row0 col1\" >11</td>\n      <td id=\"T_3ddef_row0_col2\" class=\"data row0 col2\" >28.21%</td>\n    </tr>\n    <tr>\n      <th id=\"T_3ddef_level0_row1\" class=\"row_heading level0 row1\" >1</th>\n      <td id=\"T_3ddef_row1_col0\" class=\"data row1 col0\" >Contra Costa County</td>\n      <td id=\"T_3ddef_row1_col1\" class=\"data row1 col1\" >7</td>\n      <td id=\"T_3ddef_row1_col2\" class=\"data row1 col2\" >17.95%</td>\n    </tr>\n    <tr>\n      <th id=\"T_3ddef_level0_row2\" class=\"row_heading level0 row2\" >2</th>\n      <td id=\"T_3ddef_row2_col0\" class=\"data row2 col0\" >Caltrans</td>\n      <td id=\"T_3ddef_row2_col1\" class=\"data row2 col1\" >4</td>\n      <td id=\"T_3ddef_row2_col2\" class=\"data row2 col2\" >10.26%</td>\n    </tr>\n    <tr>\n      <th id=\"T_3ddef_level0_row3\" class=\"row_heading level0 row3\" >3</th>\n      <td id=\"T_3ddef_row3_col0\" class=\"data row3 col0\" >Metropolitan Transportation Commission - SAFE</td>\n      <td id=\"T_3ddef_row3_col1\" class=\"data row3 col1\" >3</td>\n      <td id=\"T_3ddef_row3_col2\" class=\"data row3 col2\" >7.69%</td>\n    </tr>\n    <tr>\n      <th id=\"T_3ddef_level0_row4\" class=\"row_heading level0 row4\" >4</th>\n      <td id=\"T_3ddef_row4_col0\" class=\"data row4 col0\" >Alameda County Congestion Management Agency</td>\n      <td id=\"T_3ddef_row4_col1\" class=\"data row4 col1\" >2</td>\n      <td id=\"T_3ddef_row4_col2\" class=\"data row4 col2\" >5.13%</td>\n    </tr>\n  </tbody>\n</table>\n",
          "text/plain": "<pandas.io.formats.style.Styler at 0x7f605e0c10d0>"
         },
         "metadata": {},
         "output_type": "display_data"
        },
        {
         "data": {
          "text/html": "\n<div id=\"altair-viz-7fde2c39553b4bb4b7a2e65167035225\"></div>\n<script type=\"text/javascript\">\n  var VEGA_DEBUG = (typeof VEGA_DEBUG == \"undefined\") ? {} : VEGA_DEBUG;\n  (function(spec, embedOpt){\n    let outputDiv = document.currentScript.previousElementSibling;\n    if (outputDiv.id !== \"altair-viz-7fde2c39553b4bb4b7a2e65167035225\") {\n      outputDiv = document.getElementById(\"altair-viz-7fde2c39553b4bb4b7a2e65167035225\");\n    }\n    const paths = {\n      \"vega\": \"https://cdn.jsdelivr.net/npm//vega@5?noext\",\n      \"vega-lib\": \"https://cdn.jsdelivr.net/npm//vega-lib?noext\",\n      \"vega-lite\": \"https://cdn.jsdelivr.net/npm//vega-lite@4.17.0?noext\",\n      \"vega-embed\": \"https://cdn.jsdelivr.net/npm//vega-embed@6?noext\",\n    };\n\n    function maybeLoadScript(lib, version) {\n      var key = `${lib.replace(\"-\", \"\")}_version`;\n      return (VEGA_DEBUG[key] == version) ?\n        Promise.resolve(paths[lib]) :\n        new Promise(function(resolve, reject) {\n          var s = document.createElement('script');\n          document.getElementsByTagName(\"head\")[0].appendChild(s);\n          s.async = true;\n          s.onload = () => {\n            VEGA_DEBUG[key] = version;\n            return resolve(paths[lib]);\n          };\n          s.onerror = () => reject(`Error loading script: ${paths[lib]}`);\n          s.src = paths[lib];\n        });\n    }\n\n    function showError(err) {\n      outputDiv.innerHTML = `<div class=\"error\" style=\"color:red;\">${err}</div>`;\n      throw err;\n    }\n\n    function displayChart(vegaEmbed) {\n      vegaEmbed(outputDiv, spec, embedOpt)\n        .catch(err => showError(`Javascript Error: ${err.message}<br>This usually means there's a typo in your chart specification. See the javascript console for the full traceback.`));\n    }\n\n    if(typeof define === \"function\" && define.amd) {\n      requirejs.config({paths});\n      require([\"vega-embed\"], displayChart, err => showError(`Error loading script: ${err.message}`));\n    } else {\n      maybeLoadScript(\"vega\", \"5\")\n        .then(() => maybeLoadScript(\"vega-lite\", \"4.17.0\"))\n        .then(() => maybeLoadScript(\"vega-embed\", \"6\"))\n        .catch(showError)\n        .then(() => displayChart(vegaEmbed));\n    }\n  })({\"config\": {\"view\": {\"continuousWidth\": 400, \"continuousHeight\": 300}}, \"data\": {\"name\": \"data-aeb8dec487be436236d0c63cc42eb978\"}, \"mark\": \"bar\", \"encoding\": {\"color\": {\"field\": \"Categories\", \"scale\": {\"range\": [\"#2EA8CE\", \"#EB9F3C\", \"#F4D837\", \"#51BF9D\", \"#8CBCCB\", \"#9487C0\"]}, \"type\": \"nominal\"}, \"row\": {\"field\": \"Categories\", \"type\": \"nominal\"}, \"tooltip\": [{\"field\": \"Agency\", \"type\": \"nominal\"}, {\"field\": \"Funding Amount\", \"type\": \"quantitative\"}], \"x\": {\"axis\": {\"format\": \"$.2s\", \"title\": \"Obligated Funding ($2021)\"}, \"field\": \"Funding Amount\", \"type\": \"quantitative\"}, \"y\": {\"field\": \"Agency\", \"type\": \"nominal\"}}, \"$schema\": \"https://vega.github.io/schema/vega-lite/v4.17.0.json\", \"datasets\": {\"data-aeb8dec487be436236d0c63cc42eb978\": [{\"Agency\": \"Metropolitan Transportation Commission\", \"Categories\": \"Total Requested\", \"Funding Amount\": 1909627.6993880032}, {\"Agency\": \"Contra Costa County\", \"Categories\": \"Total Requested\", \"Funding Amount\": 1041396.7377879982}, {\"Agency\": \"Caltrans\", \"Categories\": \"Total Requested\", \"Funding Amount\": 7155873.948324381}, {\"Agency\": \"Metropolitan Transportation Commission - SAFE\", \"Categories\": \"Total Requested\", \"Funding Amount\": 5607282.0964267}, {\"Agency\": \"Alameda County Congestion Management Agency\", \"Categories\": \"Total Requested\", \"Funding Amount\": 771698.7792291272}, {\"Agency\": \"Metropolitan Transportation Commission\", \"Categories\": \"Fed Requested\", \"Funding Amount\": 1890540.1407647512}, {\"Agency\": \"Contra Costa County\", \"Categories\": \"Fed Requested\", \"Funding Amount\": 690949.2652206112}, {\"Agency\": \"Caltrans\", \"Categories\": \"Fed Requested\", \"Funding Amount\": 3977675.6275673257}, {\"Agency\": \"Metropolitan Transportation Commission - SAFE\", \"Categories\": \"Fed Requested\", \"Funding Amount\": 5607282.0964267}, {\"Agency\": \"Alameda County Congestion Management Agency\", \"Categories\": \"Fed Requested\", \"Funding Amount\": 571275.1031109582}, {\"Agency\": \"Metropolitan Transportation Commission\", \"Categories\": \"AC Requested\", \"Funding Amount\": 0.0}, {\"Agency\": \"Contra Costa County\", \"Categories\": \"AC Requested\", \"Funding Amount\": 26482.60130270215}, {\"Agency\": \"Caltrans\", \"Categories\": \"AC Requested\", \"Funding Amount\": 0.0}, {\"Agency\": \"Metropolitan Transportation Commission - SAFE\", \"Categories\": \"AC Requested\", \"Funding Amount\": 0.0}, {\"Agency\": \"Alameda County Congestion Management Agency\", \"Categories\": \"AC Requested\", \"Funding Amount\": 0.0}]}}, {\"mode\": \"vega-lite\"});\n</script>",
          "text/plain": "alt.Chart(...)"
         },
         "metadata": {},
         "output_type": "display_data"
        }
       ]
      }
     },
     "aa77858fd5754111b1beaafe66686997": {
      "model_module": "@jupyter-widgets/base",
      "model_module_version": "1.2.0",
      "model_name": "LayoutModel",
      "state": {}
     },
     "aae8cab37fb847cdb579912613ce447d": {
      "model_module": "@jupyter-widgets/base",
      "model_module_version": "1.2.0",
      "model_name": "LayoutModel",
      "state": {}
     },
     "abead31e1d3a4738ad94049070172f90": {
      "model_module": "@jupyter-widgets/controls",
      "model_module_version": "1.5.0",
      "model_name": "HTMLModel",
      "state": {
       "layout": "IPY_MODEL_e3c80b86417b4284bef091e5e5f25e91",
       "style": "IPY_MODEL_785a2489161a499f98c701ab45306838",
       "value": "<strong>Top Agencies using Active Transportation Projects</strong>"
      }
     },
     "ac04d8c3d60f4233bb16d5165e7a0f93": {
      "model_module": "@jupyter-widgets/controls",
      "model_module_version": "1.5.0",
      "model_name": "HTMLModel",
      "state": {
       "layout": "IPY_MODEL_fbbd5b0b35ee448da1ff81e40991cb62",
       "style": "IPY_MODEL_cf0d42e3be3f4b87bffeeb461aaa690c",
       "value": "<strong>Top Agencies using Street Projects</strong>"
      }
     },
     "acda7e91ccc4487cb84f97252dd7a625": {
      "model_module": "@jupyter-widgets/controls",
      "model_module_version": "1.5.0",
      "model_name": "DescriptionStyleModel",
      "state": {
       "description_width": ""
      }
     },
     "ace833c4f48b47ecad73b0d4fa4417e6": {
      "model_module": "@jupyter-widgets/controls",
      "model_module_version": "1.5.0",
      "model_name": "DescriptionStyleModel",
      "state": {
       "description_width": ""
      }
     },
     "acf74aaf3bc74f71b4bf8cf4fcb43532": {
      "model_module": "@jupyter-widgets/controls",
      "model_module_version": "1.5.0",
      "model_name": "DescriptionStyleModel",
      "state": {
       "description_width": ""
      }
     },
     "ad7ba6c9004d456aa631abf58d742aba": {
      "model_module": "@jupyter-widgets/controls",
      "model_module_version": "1.5.0",
      "model_name": "DescriptionStyleModel",
      "state": {
       "description_width": ""
      }
     },
     "adbf42503b5e4fc6bc91e390b1661a4f": {
      "model_module": "@jupyter-widgets/controls",
      "model_module_version": "1.5.0",
      "model_name": "HTMLModel",
      "state": {
       "layout": "IPY_MODEL_3441bf77ce694362bc6c2c911330595c",
       "style": "IPY_MODEL_6230482255c542bfb93643883f9fa5fa",
       "value": "<strong>Top Agencies using Street Projects</strong>"
      }
     },
     "adff002bdd96433c88ffb8ae8d0ac070": {
      "model_module": "@jupyter-widgets/controls",
      "model_module_version": "1.5.0",
      "model_name": "TextModel",
      "state": {
       "description": "transit",
       "layout": "IPY_MODEL_f6cf7ea0582a42d6a1664fc4adf854ec",
       "style": "IPY_MODEL_de8eb825d63d4f2f8fa53a37065bd765"
      }
     },
     "ae078d7474fe474e8e421f000a818873": {
      "model_module": "@jupyter-widgets/output",
      "model_module_version": "1.0.0",
      "model_name": "OutputModel",
      "state": {
       "layout": "IPY_MODEL_5400204a02224054bc29df8b2d496a9f",
       "outputs": [
        {
         "data": {
          "application/vnd.jupyter.widget-view+json": {
           "model_id": "",
           "version_major": 2,
           "version_minor": 0
          },
          "text/plain": "HTML(value='<strong>Top Agencies using Active Transportation Projects</strong>')"
         },
         "metadata": {},
         "output_type": "display_data"
        },
        {
         "data": {
          "text/html": "<style type=\"text/css\">\n</style>\n<table id=\"T_4e562\">\n  <thead>\n    <tr>\n      <th class=\"blank level0\" >&nbsp;</th>\n      <th id=\"T_4e562_level0_col0\" class=\"col_heading level0 col0\" >Agency</th>\n      <th id=\"T_4e562_level0_col1\" class=\"col_heading level0 col1\" >Active Transportation Obligations</th>\n      <th id=\"T_4e562_level0_col2\" class=\"col_heading level0 col2\" >Percent of Category</th>\n    </tr>\n  </thead>\n  <tbody>\n    <tr>\n      <th id=\"T_4e562_level0_row0\" class=\"row_heading level0 row0\" >0</th>\n      <td id=\"T_4e562_row0_col0\" class=\"data row0 col0\" >Los Angeles</td>\n      <td id=\"T_4e562_row0_col1\" class=\"data row0 col1\" >153</td>\n      <td id=\"T_4e562_row0_col2\" class=\"data row0 col2\" >18.50%</td>\n    </tr>\n    <tr>\n      <th id=\"T_4e562_level0_row1\" class=\"row_heading level0 row1\" >1</th>\n      <td id=\"T_4e562_row1_col0\" class=\"data row1 col0\" >Los Angeles County</td>\n      <td id=\"T_4e562_row1_col1\" class=\"data row1 col1\" >96</td>\n      <td id=\"T_4e562_row1_col2\" class=\"data row1 col2\" >11.61%</td>\n    </tr>\n    <tr>\n      <th id=\"T_4e562_level0_row2\" class=\"row_heading level0 row2\" >2</th>\n      <td id=\"T_4e562_row2_col0\" class=\"data row2 col0\" >Ventura County</td>\n      <td id=\"T_4e562_row2_col1\" class=\"data row2 col1\" >54</td>\n      <td id=\"T_4e562_row2_col2\" class=\"data row2 col2\" >6.53%</td>\n    </tr>\n    <tr>\n      <th id=\"T_4e562_level0_row3\" class=\"row_heading level0 row3\" >3</th>\n      <td id=\"T_4e562_row3_col0\" class=\"data row3 col0\" >Long Beach</td>\n      <td id=\"T_4e562_row3_col1\" class=\"data row3 col1\" >40</td>\n      <td id=\"T_4e562_row3_col2\" class=\"data row3 col2\" >4.84%</td>\n    </tr>\n    <tr>\n      <th id=\"T_4e562_level0_row4\" class=\"row_heading level0 row4\" >4</th>\n      <td id=\"T_4e562_row4_col0\" class=\"data row4 col0\" >Oxnard</td>\n      <td id=\"T_4e562_row4_col1\" class=\"data row4 col1\" >31</td>\n      <td id=\"T_4e562_row4_col2\" class=\"data row4 col2\" >3.75%</td>\n    </tr>\n  </tbody>\n</table>\n",
          "text/plain": "<pandas.io.formats.style.Styler at 0x7f605dec53d0>"
         },
         "metadata": {},
         "output_type": "display_data"
        },
        {
         "data": {
          "text/html": "\n<div id=\"altair-viz-fa06212475f542d1bbaeb5c5b9dfe40e\"></div>\n<script type=\"text/javascript\">\n  var VEGA_DEBUG = (typeof VEGA_DEBUG == \"undefined\") ? {} : VEGA_DEBUG;\n  (function(spec, embedOpt){\n    let outputDiv = document.currentScript.previousElementSibling;\n    if (outputDiv.id !== \"altair-viz-fa06212475f542d1bbaeb5c5b9dfe40e\") {\n      outputDiv = document.getElementById(\"altair-viz-fa06212475f542d1bbaeb5c5b9dfe40e\");\n    }\n    const paths = {\n      \"vega\": \"https://cdn.jsdelivr.net/npm//vega@5?noext\",\n      \"vega-lib\": \"https://cdn.jsdelivr.net/npm//vega-lib?noext\",\n      \"vega-lite\": \"https://cdn.jsdelivr.net/npm//vega-lite@4.17.0?noext\",\n      \"vega-embed\": \"https://cdn.jsdelivr.net/npm//vega-embed@6?noext\",\n    };\n\n    function maybeLoadScript(lib, version) {\n      var key = `${lib.replace(\"-\", \"\")}_version`;\n      return (VEGA_DEBUG[key] == version) ?\n        Promise.resolve(paths[lib]) :\n        new Promise(function(resolve, reject) {\n          var s = document.createElement('script');\n          document.getElementsByTagName(\"head\")[0].appendChild(s);\n          s.async = true;\n          s.onload = () => {\n            VEGA_DEBUG[key] = version;\n            return resolve(paths[lib]);\n          };\n          s.onerror = () => reject(`Error loading script: ${paths[lib]}`);\n          s.src = paths[lib];\n        });\n    }\n\n    function showError(err) {\n      outputDiv.innerHTML = `<div class=\"error\" style=\"color:red;\">${err}</div>`;\n      throw err;\n    }\n\n    function displayChart(vegaEmbed) {\n      vegaEmbed(outputDiv, spec, embedOpt)\n        .catch(err => showError(`Javascript Error: ${err.message}<br>This usually means there's a typo in your chart specification. See the javascript console for the full traceback.`));\n    }\n\n    if(typeof define === \"function\" && define.amd) {\n      requirejs.config({paths});\n      require([\"vega-embed\"], displayChart, err => showError(`Error loading script: ${err.message}`));\n    } else {\n      maybeLoadScript(\"vega\", \"5\")\n        .then(() => maybeLoadScript(\"vega-lite\", \"4.17.0\"))\n        .then(() => maybeLoadScript(\"vega-embed\", \"6\"))\n        .catch(showError)\n        .then(() => displayChart(vegaEmbed));\n    }\n  })({\"config\": {\"view\": {\"continuousWidth\": 400, \"continuousHeight\": 300}}, \"data\": {\"name\": \"data-0fd59fadae8643ebf0129d462efbd66a\"}, \"mark\": \"bar\", \"encoding\": {\"color\": {\"field\": \"Categories\", \"scale\": {\"range\": [\"#2EA8CE\", \"#EB9F3C\", \"#F4D837\", \"#51BF9D\", \"#8CBCCB\", \"#9487C0\"]}, \"type\": \"nominal\"}, \"row\": {\"field\": \"Categories\", \"type\": \"nominal\"}, \"tooltip\": [{\"field\": \"Agency\", \"type\": \"nominal\"}, {\"field\": \"Funding Amount\", \"type\": \"quantitative\"}], \"x\": {\"axis\": {\"format\": \"$.2s\", \"title\": \"Obligated Funding ($2021)\"}, \"field\": \"Funding Amount\", \"type\": \"quantitative\"}, \"y\": {\"field\": \"Agency\", \"type\": \"nominal\"}}, \"$schema\": \"https://vega.github.io/schema/vega-lite/v4.17.0.json\", \"datasets\": {\"data-0fd59fadae8643ebf0129d462efbd66a\": [{\"Agency\": \"Los Angeles\", \"Categories\": \"Total Requested\", \"Funding Amount\": 917283.1377095487}, {\"Agency\": \"Los Angeles County\", \"Categories\": \"Total Requested\", \"Funding Amount\": 404924.74302722217}, {\"Agency\": \"Ventura County\", \"Categories\": \"Total Requested\", \"Funding Amount\": 172998.43116784695}, {\"Agency\": \"Long Beach\", \"Categories\": \"Total Requested\", \"Funding Amount\": 1352292.4861726398}, {\"Agency\": \"Oxnard\", \"Categories\": \"Total Requested\", \"Funding Amount\": 116388.23779995118}, {\"Agency\": \"Los Angeles\", \"Categories\": \"Fed Requested\", \"Funding Amount\": 664969.1029667306}, {\"Agency\": \"Los Angeles County\", \"Categories\": \"Fed Requested\", \"Funding Amount\": 268968.0688735619}, {\"Agency\": \"Ventura County\", \"Categories\": \"Fed Requested\", \"Funding Amount\": 131142.29454467268}, {\"Agency\": \"Long Beach\", \"Categories\": \"Fed Requested\", \"Funding Amount\": 727367.9983507192}, {\"Agency\": \"Oxnard\", \"Categories\": \"Fed Requested\", \"Funding Amount\": 87577.26030146328}, {\"Agency\": \"Los Angeles\", \"Categories\": \"AC Requested\", \"Funding Amount\": -1211.9374548559986}, {\"Agency\": \"Los Angeles County\", \"Categories\": \"AC Requested\", \"Funding Amount\": 368.15701469117147}, {\"Agency\": \"Ventura County\", \"Categories\": \"AC Requested\", \"Funding Amount\": 0.0}, {\"Agency\": \"Long Beach\", \"Categories\": \"AC Requested\", \"Funding Amount\": 0.0}, {\"Agency\": \"Oxnard\", \"Categories\": \"AC Requested\", \"Funding Amount\": 0.0}]}}, {\"mode\": \"vega-lite\"});\n</script>",
          "text/plain": "alt.Chart(...)"
         },
         "metadata": {},
         "output_type": "display_data"
        }
       ]
      }
     },
     "ae3ba22fa57c451c9ef8bea0e450b5b8": {
      "model_module": "@jupyter-widgets/controls",
      "model_module_version": "1.5.0",
      "model_name": "HTMLModel",
      "state": {
       "layout": "IPY_MODEL_02cc1e83bd374eb185ef1474efd1bf0d",
       "style": "IPY_MODEL_d5a0bbda74934246b15cc0817aa04174",
       "value": "<strong>Top Agencies using Freeway Projects</strong>"
      }
     },
     "afcd3f1b1d9a4601a5556b7191311da6": {
      "model_module": "@jupyter-widgets/controls",
      "model_module_version": "1.5.0",
      "model_name": "DescriptionStyleModel",
      "state": {
       "description_width": ""
      }
     },
     "b105c14218ed454fb7cac6d0430c050f": {
      "model_module": "@jupyter-widgets/controls",
      "model_module_version": "1.5.0",
      "model_name": "HTMLModel",
      "state": {
       "layout": "IPY_MODEL_5882d633ff394b7599eadc04ef145141",
       "style": "IPY_MODEL_0a92bc7d586842268f12c4a49b976340",
       "value": "<strong>Top Agencies using Bridge Projects</strong>"
      }
     },
     "b15094168a834d53aa033b8a8d96f7de": {
      "model_module": "@jupyter-widgets/base",
      "model_module_version": "1.2.0",
      "model_name": "LayoutModel",
      "state": {}
     },
     "b24fbc20800a49be8ffa8370d8b7963e": {
      "model_module": "@jupyter-widgets/controls",
      "model_module_version": "1.5.0",
      "model_name": "DescriptionStyleModel",
      "state": {
       "description_width": ""
      }
     },
     "b2ae3844cf6b4f90a090841a2671cb1c": {
      "model_module": "@jupyter-widgets/output",
      "model_module_version": "1.0.0",
      "model_name": "OutputModel",
      "state": {
       "layout": "IPY_MODEL_9e0dcab55254424ba77cdf6ba12ef504",
       "outputs": [
        {
         "data": {
          "application/vnd.jupyter.widget-view+json": {
           "model_id": "",
           "version_major": 2,
           "version_minor": 0
          },
          "text/plain": "HTML(value='<strong>Top Agencies using Infrastructure & Emergency Relief Projects</strong>')"
         },
         "metadata": {},
         "output_type": "display_data"
        },
        {
         "data": {
          "text/html": "<style type=\"text/css\">\n</style>\n<table id=\"T_31e95\">\n  <thead>\n    <tr>\n      <th class=\"blank level0\" >&nbsp;</th>\n      <th id=\"T_31e95_level0_col0\" class=\"col_heading level0 col0\" >Agency</th>\n      <th id=\"T_31e95_level0_col1\" class=\"col_heading level0 col1\" >Infrastructure & Emergency Relief Obligations</th>\n      <th id=\"T_31e95_level0_col2\" class=\"col_heading level0 col2\" >Percent of Category</th>\n    </tr>\n  </thead>\n  <tbody>\n    <tr>\n      <th id=\"T_31e95_level0_row0\" class=\"row_heading level0 row0\" >0</th>\n      <td id=\"T_31e95_row0_col0\" class=\"data row0 col0\" >Santa Cruz County</td>\n      <td id=\"T_31e95_row0_col1\" class=\"data row0 col1\" >416</td>\n      <td id=\"T_31e95_row0_col2\" class=\"data row0 col2\" >41.52%</td>\n    </tr>\n    <tr>\n      <th id=\"T_31e95_level0_row1\" class=\"row_heading level0 row1\" >1</th>\n      <td id=\"T_31e95_row1_col0\" class=\"data row1 col0\" >Santa Barbara County</td>\n      <td id=\"T_31e95_row1_col1\" class=\"data row1 col1\" >142</td>\n      <td id=\"T_31e95_row1_col2\" class=\"data row1 col2\" >14.17%</td>\n    </tr>\n    <tr>\n      <th id=\"T_31e95_level0_row2\" class=\"row_heading level0 row2\" >2</th>\n      <td id=\"T_31e95_row2_col0\" class=\"data row2 col0\" >San Luis Obispo County</td>\n      <td id=\"T_31e95_row2_col1\" class=\"data row2 col1\" >103</td>\n      <td id=\"T_31e95_row2_col2\" class=\"data row2 col2\" >10.28%</td>\n    </tr>\n    <tr>\n      <th id=\"T_31e95_level0_row3\" class=\"row_heading level0 row3\" >3</th>\n      <td id=\"T_31e95_row3_col0\" class=\"data row3 col0\" >Monterey County</td>\n      <td id=\"T_31e95_row3_col1\" class=\"data row3 col1\" >69</td>\n      <td id=\"T_31e95_row3_col2\" class=\"data row3 col2\" >6.89%</td>\n    </tr>\n    <tr>\n      <th id=\"T_31e95_level0_row4\" class=\"row_heading level0 row4\" >4</th>\n      <td id=\"T_31e95_row4_col0\" class=\"data row4 col0\" >Santa Barbara</td>\n      <td id=\"T_31e95_row4_col1\" class=\"data row4 col1\" >66</td>\n      <td id=\"T_31e95_row4_col2\" class=\"data row4 col2\" >6.59%</td>\n    </tr>\n  </tbody>\n</table>\n",
          "text/plain": "<pandas.io.formats.style.Styler at 0x7f605dfd2400>"
         },
         "metadata": {},
         "output_type": "display_data"
        },
        {
         "data": {
          "text/html": "\n<div id=\"altair-viz-8b98cae7d37c4b4290c6dc09da77f4a5\"></div>\n<script type=\"text/javascript\">\n  var VEGA_DEBUG = (typeof VEGA_DEBUG == \"undefined\") ? {} : VEGA_DEBUG;\n  (function(spec, embedOpt){\n    let outputDiv = document.currentScript.previousElementSibling;\n    if (outputDiv.id !== \"altair-viz-8b98cae7d37c4b4290c6dc09da77f4a5\") {\n      outputDiv = document.getElementById(\"altair-viz-8b98cae7d37c4b4290c6dc09da77f4a5\");\n    }\n    const paths = {\n      \"vega\": \"https://cdn.jsdelivr.net/npm//vega@5?noext\",\n      \"vega-lib\": \"https://cdn.jsdelivr.net/npm//vega-lib?noext\",\n      \"vega-lite\": \"https://cdn.jsdelivr.net/npm//vega-lite@4.17.0?noext\",\n      \"vega-embed\": \"https://cdn.jsdelivr.net/npm//vega-embed@6?noext\",\n    };\n\n    function maybeLoadScript(lib, version) {\n      var key = `${lib.replace(\"-\", \"\")}_version`;\n      return (VEGA_DEBUG[key] == version) ?\n        Promise.resolve(paths[lib]) :\n        new Promise(function(resolve, reject) {\n          var s = document.createElement('script');\n          document.getElementsByTagName(\"head\")[0].appendChild(s);\n          s.async = true;\n          s.onload = () => {\n            VEGA_DEBUG[key] = version;\n            return resolve(paths[lib]);\n          };\n          s.onerror = () => reject(`Error loading script: ${paths[lib]}`);\n          s.src = paths[lib];\n        });\n    }\n\n    function showError(err) {\n      outputDiv.innerHTML = `<div class=\"error\" style=\"color:red;\">${err}</div>`;\n      throw err;\n    }\n\n    function displayChart(vegaEmbed) {\n      vegaEmbed(outputDiv, spec, embedOpt)\n        .catch(err => showError(`Javascript Error: ${err.message}<br>This usually means there's a typo in your chart specification. See the javascript console for the full traceback.`));\n    }\n\n    if(typeof define === \"function\" && define.amd) {\n      requirejs.config({paths});\n      require([\"vega-embed\"], displayChart, err => showError(`Error loading script: ${err.message}`));\n    } else {\n      maybeLoadScript(\"vega\", \"5\")\n        .then(() => maybeLoadScript(\"vega-lite\", \"4.17.0\"))\n        .then(() => maybeLoadScript(\"vega-embed\", \"6\"))\n        .catch(showError)\n        .then(() => displayChart(vegaEmbed));\n    }\n  })({\"config\": {\"view\": {\"continuousWidth\": 400, \"continuousHeight\": 300}}, \"data\": {\"name\": \"data-0cddc6d288d711f1e3032287dff450e4\"}, \"mark\": \"bar\", \"encoding\": {\"color\": {\"field\": \"Categories\", \"scale\": {\"range\": [\"#2EA8CE\", \"#EB9F3C\", \"#F4D837\", \"#51BF9D\", \"#8CBCCB\", \"#9487C0\"]}, \"type\": \"nominal\"}, \"row\": {\"field\": \"Categories\", \"type\": \"nominal\"}, \"tooltip\": [{\"field\": \"Agency\", \"type\": \"nominal\"}, {\"field\": \"Funding Amount\", \"type\": \"quantitative\"}], \"x\": {\"axis\": {\"format\": \"$.2s\", \"title\": \"Obligated Funding ($2021)\"}, \"field\": \"Funding Amount\", \"type\": \"quantitative\"}, \"y\": {\"field\": \"Agency\", \"type\": \"nominal\"}}, \"$schema\": \"https://vega.github.io/schema/vega-lite/v4.17.0.json\", \"datasets\": {\"data-0cddc6d288d711f1e3032287dff450e4\": [{\"Agency\": \"Santa Cruz County\", \"Categories\": \"Total Requested\", \"Funding Amount\": 147857.64101167236}, {\"Agency\": \"Santa Barbara County\", \"Categories\": \"Total Requested\", \"Funding Amount\": 588679.2038054344}, {\"Agency\": \"San Luis Obispo County\", \"Categories\": \"Total Requested\", \"Funding Amount\": 401790.5694495031}, {\"Agency\": \"Monterey County\", \"Categories\": \"Total Requested\", \"Funding Amount\": 624181.2507411913}, {\"Agency\": \"Santa Barbara\", \"Categories\": \"Total Requested\", \"Funding Amount\": 1342132.789361857}, {\"Agency\": \"Santa Cruz County\", \"Categories\": \"Fed Requested\", \"Funding Amount\": 148275.4389586794}, {\"Agency\": \"Santa Barbara County\", \"Categories\": \"Fed Requested\", \"Funding Amount\": 369795.8198908547}, {\"Agency\": \"San Luis Obispo County\", \"Categories\": \"Fed Requested\", \"Funding Amount\": 350938.3139510358}, {\"Agency\": \"Monterey County\", \"Categories\": \"Fed Requested\", \"Funding Amount\": 443560.5098511096}, {\"Agency\": \"Santa Barbara\", \"Categories\": \"Fed Requested\", \"Funding Amount\": 1215440.1635671686}, {\"Agency\": \"Santa Cruz County\", \"Categories\": \"AC Requested\", \"Funding Amount\": -18388.66952638947}, {\"Agency\": \"Santa Barbara County\", \"Categories\": \"AC Requested\", \"Funding Amount\": 150573.06105363223}, {\"Agency\": \"San Luis Obispo County\", \"Categories\": \"AC Requested\", \"Funding Amount\": 4516.358603062875}, {\"Agency\": \"Monterey County\", \"Categories\": \"AC Requested\", \"Funding Amount\": 1264.1556848201908}, {\"Agency\": \"Santa Barbara\", \"Categories\": \"AC Requested\", \"Funding Amount\": 0.0}]}}, {\"mode\": \"vega-lite\"});\n</script>",
          "text/plain": "alt.Chart(...)"
         },
         "metadata": {},
         "output_type": "display_data"
        }
       ]
      }
     },
     "b2e546062aa041c2add153e91eca9576": {
      "model_module": "@jupyter-widgets/base",
      "model_module_version": "1.2.0",
      "model_name": "LayoutModel",
      "state": {}
     },
     "b310f651fdd64817ba6ea6cbc4ea35cd": {
      "model_module": "@jupyter-widgets/base",
      "model_module_version": "1.2.0",
      "model_name": "LayoutModel",
      "state": {}
     },
     "b325b83bd6ee4e6ab51530bfb45297b6": {
      "model_module": "@jupyter-widgets/controls",
      "model_module_version": "1.5.0",
      "model_name": "DescriptionStyleModel",
      "state": {
       "description_width": ""
      }
     },
     "b36b9244e77346f1bede85591e4ffbda": {
      "model_module": "@jupyter-widgets/controls",
      "model_module_version": "1.5.0",
      "model_name": "HTMLModel",
      "state": {
       "layout": "IPY_MODEL_040997aa82a240f896dcc1cf0395e4f5",
       "style": "IPY_MODEL_90caff761a4342ada90781987216ce01",
       "value": "<strong>Top Agencies using Freeway Projects</strong>"
      }
     },
     "b3ac86f5fb7842b18a8311038230f841": {
      "model_module": "@jupyter-widgets/controls",
      "model_module_version": "1.5.0",
      "model_name": "DescriptionStyleModel",
      "state": {
       "description_width": ""
      }
     },
     "b45770ca61264759bb1198b67c6b3d02": {
      "model_module": "@jupyter-widgets/controls",
      "model_module_version": "1.5.0",
      "model_name": "DescriptionStyleModel",
      "state": {
       "description_width": ""
      }
     },
     "b46ca9f548ac40dbbc1438ebd4459aa1": {
      "model_module": "@jupyter-widgets/controls",
      "model_module_version": "1.5.0",
      "model_name": "DescriptionStyleModel",
      "state": {
       "description_width": ""
      }
     },
     "b5098deace3e410aa3942ba9a4ee8c32": {
      "model_module": "@jupyter-widgets/controls",
      "model_module_version": "1.5.0",
      "model_name": "HTMLModel",
      "state": {
       "layout": "IPY_MODEL_867ffb4cc45c41fbba7a82cac497361f",
       "style": "IPY_MODEL_acda7e91ccc4487cb84f97252dd7a625",
       "value": "<strong>Top Agencies using Street Projects</strong>"
      }
     },
     "b53de4213bab477caba8883365e0d968": {
      "model_module": "@jupyter-widgets/base",
      "model_module_version": "1.2.0",
      "model_name": "LayoutModel",
      "state": {}
     },
     "b5c0e61cb33747bd8b4b6f6344a14150": {
      "model_module": "@jupyter-widgets/base",
      "model_module_version": "1.2.0",
      "model_name": "LayoutModel",
      "state": {}
     },
     "b65e88fbb6d34a8daab6a790a02ea15b": {
      "model_module": "@jupyter-widgets/base",
      "model_module_version": "1.2.0",
      "model_name": "LayoutModel",
      "state": {}
     },
     "b7aac4eb5ed742c4ab3d6087175f3d89": {
      "model_module": "@jupyter-widgets/output",
      "model_module_version": "1.0.0",
      "model_name": "OutputModel",
      "state": {
       "layout": "IPY_MODEL_0ebbf665c1e24f97b5cc391f2dc8ef8d",
       "outputs": [
        {
         "data": {
          "application/vnd.jupyter.widget-view+json": {
           "model_id": "",
           "version_major": 2,
           "version_minor": 0
          },
          "text/plain": "HTML(value='<strong>Top Agencies using Infrastructure & Emergency Relief Projects</strong>')"
         },
         "metadata": {},
         "output_type": "display_data"
        },
        {
         "data": {
          "text/html": "<style type=\"text/css\">\n</style>\n<table id=\"T_64fc2\">\n  <thead>\n    <tr>\n      <th class=\"blank level0\" >&nbsp;</th>\n      <th id=\"T_64fc2_level0_col0\" class=\"col_heading level0 col0\" >Agency</th>\n      <th id=\"T_64fc2_level0_col1\" class=\"col_heading level0 col1\" >Infrastructure & Emergency Relief Obligations</th>\n      <th id=\"T_64fc2_level0_col2\" class=\"col_heading level0 col2\" >Percent of Category</th>\n    </tr>\n  </thead>\n  <tbody>\n    <tr>\n      <th id=\"T_64fc2_level0_row0\" class=\"row_heading level0 row0\" >0</th>\n      <td id=\"T_64fc2_row0_col0\" class=\"data row0 col0\" >Contra Costa County</td>\n      <td id=\"T_64fc2_row0_col1\" class=\"data row0 col1\" >102</td>\n      <td id=\"T_64fc2_row0_col2\" class=\"data row0 col2\" >5.21%</td>\n    </tr>\n    <tr>\n      <th id=\"T_64fc2_level0_row1\" class=\"row_heading level0 row1\" >1</th>\n      <td id=\"T_64fc2_row1_col0\" class=\"data row1 col0\" >Napa County</td>\n      <td id=\"T_64fc2_row1_col1\" class=\"data row1 col1\" >88</td>\n      <td id=\"T_64fc2_row1_col2\" class=\"data row1 col2\" >4.50%</td>\n    </tr>\n    <tr>\n      <th id=\"T_64fc2_level0_row2\" class=\"row_heading level0 row2\" >2</th>\n      <td id=\"T_64fc2_row2_col0\" class=\"data row2 col0\" >Santa Clara County</td>\n      <td id=\"T_64fc2_row2_col1\" class=\"data row2 col1\" >82</td>\n      <td id=\"T_64fc2_row2_col2\" class=\"data row2 col2\" >4.19%</td>\n    </tr>\n    <tr>\n      <th id=\"T_64fc2_level0_row3\" class=\"row_heading level0 row3\" >3</th>\n      <td id=\"T_64fc2_row3_col0\" class=\"data row3 col0\" >Sonoma County</td>\n      <td id=\"T_64fc2_row3_col1\" class=\"data row3 col1\" >71</td>\n      <td id=\"T_64fc2_row3_col2\" class=\"data row3 col2\" >3.63%</td>\n    </tr>\n    <tr>\n      <th id=\"T_64fc2_level0_row4\" class=\"row_heading level0 row4\" >4</th>\n      <td id=\"T_64fc2_row4_col0\" class=\"data row4 col0\" >Oakland</td>\n      <td id=\"T_64fc2_row4_col1\" class=\"data row4 col1\" >70</td>\n      <td id=\"T_64fc2_row4_col2\" class=\"data row4 col2\" >3.58%</td>\n    </tr>\n  </tbody>\n</table>\n",
          "text/plain": "<pandas.io.formats.style.Styler at 0x7f605e05df10>"
         },
         "metadata": {},
         "output_type": "display_data"
        },
        {
         "data": {
          "text/html": "\n<div id=\"altair-viz-1ba31191e1be46008d211a338ff61b8c\"></div>\n<script type=\"text/javascript\">\n  var VEGA_DEBUG = (typeof VEGA_DEBUG == \"undefined\") ? {} : VEGA_DEBUG;\n  (function(spec, embedOpt){\n    let outputDiv = document.currentScript.previousElementSibling;\n    if (outputDiv.id !== \"altair-viz-1ba31191e1be46008d211a338ff61b8c\") {\n      outputDiv = document.getElementById(\"altair-viz-1ba31191e1be46008d211a338ff61b8c\");\n    }\n    const paths = {\n      \"vega\": \"https://cdn.jsdelivr.net/npm//vega@5?noext\",\n      \"vega-lib\": \"https://cdn.jsdelivr.net/npm//vega-lib?noext\",\n      \"vega-lite\": \"https://cdn.jsdelivr.net/npm//vega-lite@4.17.0?noext\",\n      \"vega-embed\": \"https://cdn.jsdelivr.net/npm//vega-embed@6?noext\",\n    };\n\n    function maybeLoadScript(lib, version) {\n      var key = `${lib.replace(\"-\", \"\")}_version`;\n      return (VEGA_DEBUG[key] == version) ?\n        Promise.resolve(paths[lib]) :\n        new Promise(function(resolve, reject) {\n          var s = document.createElement('script');\n          document.getElementsByTagName(\"head\")[0].appendChild(s);\n          s.async = true;\n          s.onload = () => {\n            VEGA_DEBUG[key] = version;\n            return resolve(paths[lib]);\n          };\n          s.onerror = () => reject(`Error loading script: ${paths[lib]}`);\n          s.src = paths[lib];\n        });\n    }\n\n    function showError(err) {\n      outputDiv.innerHTML = `<div class=\"error\" style=\"color:red;\">${err}</div>`;\n      throw err;\n    }\n\n    function displayChart(vegaEmbed) {\n      vegaEmbed(outputDiv, spec, embedOpt)\n        .catch(err => showError(`Javascript Error: ${err.message}<br>This usually means there's a typo in your chart specification. See the javascript console for the full traceback.`));\n    }\n\n    if(typeof define === \"function\" && define.amd) {\n      requirejs.config({paths});\n      require([\"vega-embed\"], displayChart, err => showError(`Error loading script: ${err.message}`));\n    } else {\n      maybeLoadScript(\"vega\", \"5\")\n        .then(() => maybeLoadScript(\"vega-lite\", \"4.17.0\"))\n        .then(() => maybeLoadScript(\"vega-embed\", \"6\"))\n        .catch(showError)\n        .then(() => displayChart(vegaEmbed));\n    }\n  })({\"config\": {\"view\": {\"continuousWidth\": 400, \"continuousHeight\": 300}}, \"data\": {\"name\": \"data-f0cad226c95a51748334db9fe2ae4c0a\"}, \"mark\": \"bar\", \"encoding\": {\"color\": {\"field\": \"Categories\", \"scale\": {\"range\": [\"#2EA8CE\", \"#EB9F3C\", \"#F4D837\", \"#51BF9D\", \"#8CBCCB\", \"#9487C0\"]}, \"type\": \"nominal\"}, \"row\": {\"field\": \"Categories\", \"type\": \"nominal\"}, \"tooltip\": [{\"field\": \"Agency\", \"type\": \"nominal\"}, {\"field\": \"Funding Amount\", \"type\": \"quantitative\"}], \"x\": {\"axis\": {\"format\": \"$.2s\", \"title\": \"Obligated Funding ($2021)\"}, \"field\": \"Funding Amount\", \"type\": \"quantitative\"}, \"y\": {\"field\": \"Agency\", \"type\": \"nominal\"}}, \"$schema\": \"https://vega.github.io/schema/vega-lite/v4.17.0.json\", \"datasets\": {\"data-f0cad226c95a51748334db9fe2ae4c0a\": [{\"Agency\": \"Contra Costa County\", \"Categories\": \"Total Requested\", \"Funding Amount\": 852412.8986917532}, {\"Agency\": \"Napa County\", \"Categories\": \"Total Requested\", \"Funding Amount\": 290127.23106307245}, {\"Agency\": \"Santa Clara County\", \"Categories\": \"Total Requested\", \"Funding Amount\": 672624.8283425933}, {\"Agency\": \"Sonoma County\", \"Categories\": \"Total Requested\", \"Funding Amount\": 648775.690347322}, {\"Agency\": \"Oakland\", \"Categories\": \"Total Requested\", \"Funding Amount\": 1543864.847788699}, {\"Agency\": \"Contra Costa County\", \"Categories\": \"Fed Requested\", \"Funding Amount\": 637082.1190394674}, {\"Agency\": \"Napa County\", \"Categories\": \"Fed Requested\", \"Funding Amount\": 254382.40987557478}, {\"Agency\": \"Santa Clara County\", \"Categories\": \"Fed Requested\", \"Funding Amount\": 568961.2217746255}, {\"Agency\": \"Sonoma County\", \"Categories\": \"Fed Requested\", \"Funding Amount\": 488154.49796102184}, {\"Agency\": \"Oakland\", \"Categories\": \"Fed Requested\", \"Funding Amount\": 1123344.3663603195}, {\"Agency\": \"Contra Costa County\", \"Categories\": \"AC Requested\", \"Funding Amount\": 46442.64603194262}, {\"Agency\": \"Napa County\", \"Categories\": \"AC Requested\", \"Funding Amount\": 4926.44569571146}, {\"Agency\": \"Santa Clara County\", \"Categories\": \"AC Requested\", \"Funding Amount\": 4141.262730127382}, {\"Agency\": \"Sonoma County\", \"Categories\": \"AC Requested\", \"Funding Amount\": 63056.74152049417}, {\"Agency\": \"Oakland\", \"Categories\": \"AC Requested\", \"Funding Amount\": 0.0}]}}, {\"mode\": \"vega-lite\"});\n</script>",
          "text/plain": "alt.Chart(...)"
         },
         "metadata": {},
         "output_type": "display_data"
        }
       ]
      }
     },
     "b806a44538d44b51aa5c17a1918e0f32": {
      "model_module": "@jupyter-widgets/controls",
      "model_module_version": "1.5.0",
      "model_name": "TextModel",
      "state": {
       "description": "infra_resiliency_er",
       "layout": "IPY_MODEL_787f854a1905494091f55b4b73114ec3",
       "style": "IPY_MODEL_897a4c429a004d56be36c423d19f946e"
      }
     },
     "b83908d1796c46eb89f44a34dd94792b": {
      "model_module": "@jupyter-widgets/controls",
      "model_module_version": "1.5.0",
      "model_name": "HTMLModel",
      "state": {
       "layout": "IPY_MODEL_09bedd20d8bf4ed28e13504255afaee6",
       "style": "IPY_MODEL_2f881e9db76b4543b267ded31e79c624",
       "value": "<strong>Top Agencies using Street Projects</strong>"
      }
     },
     "b9663696eca145929a2cd89209be235a": {
      "model_module": "@jupyter-widgets/base",
      "model_module_version": "1.2.0",
      "model_name": "LayoutModel",
      "state": {}
     },
     "ba26183ef38f4ef2abc6e49783c1afb9": {
      "model_module": "@jupyter-widgets/controls",
      "model_module_version": "1.5.0",
      "model_name": "DescriptionStyleModel",
      "state": {
       "description_width": ""
      }
     },
     "ba8be4796c844d1aa3c53e93441b20b0": {
      "model_module": "@jupyter-widgets/base",
      "model_module_version": "1.2.0",
      "model_name": "LayoutModel",
      "state": {}
     },
     "bac4f1a0759c45b78ae07be493b920ee": {
      "model_module": "@jupyter-widgets/output",
      "model_module_version": "1.0.0",
      "model_name": "OutputModel",
      "state": {
       "layout": "IPY_MODEL_e884776e0dae4e41931e150557a6011e",
       "outputs": [
        {
         "data": {
          "application/vnd.jupyter.widget-view+json": {
           "model_id": "",
           "version_major": 2,
           "version_minor": 0
          },
          "text/plain": "HTML(value='<strong>Top Agencies using Active Transportation Projects</strong>')"
         },
         "metadata": {},
         "output_type": "display_data"
        },
        {
         "data": {
          "text/html": "<style type=\"text/css\">\n</style>\n<table id=\"T_b1456\">\n  <thead>\n    <tr>\n      <th class=\"blank level0\" >&nbsp;</th>\n      <th id=\"T_b1456_level0_col0\" class=\"col_heading level0 col0\" >Agency</th>\n      <th id=\"T_b1456_level0_col1\" class=\"col_heading level0 col1\" >Active Transportation Obligations</th>\n      <th id=\"T_b1456_level0_col2\" class=\"col_heading level0 col2\" >Percent of Category</th>\n    </tr>\n  </thead>\n  <tbody>\n    <tr>\n      <th id=\"T_b1456_level0_row0\" class=\"row_heading level0 row0\" >0</th>\n      <td id=\"T_b1456_row0_col0\" class=\"data row0 col0\" >San Jose</td>\n      <td id=\"T_b1456_row0_col1\" class=\"data row0 col1\" >79</td>\n      <td id=\"T_b1456_row0_col2\" class=\"data row0 col2\" >7.38%</td>\n    </tr>\n    <tr>\n      <th id=\"T_b1456_level0_row1\" class=\"row_heading level0 row1\" >1</th>\n      <td id=\"T_b1456_row1_col0\" class=\"data row1 col0\" >Oakland</td>\n      <td id=\"T_b1456_row1_col1\" class=\"data row1 col1\" >65</td>\n      <td id=\"T_b1456_row1_col2\" class=\"data row1 col2\" >6.07%</td>\n    </tr>\n    <tr>\n      <th id=\"T_b1456_level0_row2\" class=\"row_heading level0 row2\" >2</th>\n      <td id=\"T_b1456_row2_col0\" class=\"data row2 col0\" >City & County of San Francisco, MTA/Parking & Traffic</td>\n      <td id=\"T_b1456_row2_col1\" class=\"data row2 col1\" >46</td>\n      <td id=\"T_b1456_row2_col2\" class=\"data row2 col2\" >4.30%</td>\n    </tr>\n    <tr>\n      <th id=\"T_b1456_level0_row3\" class=\"row_heading level0 row3\" >3</th>\n      <td id=\"T_b1456_row3_col0\" class=\"data row3 col0\" >Sunnyvale</td>\n      <td id=\"T_b1456_row3_col1\" class=\"data row3 col1\" >45</td>\n      <td id=\"T_b1456_row3_col2\" class=\"data row3 col2\" >4.21%</td>\n    </tr>\n    <tr>\n      <th id=\"T_b1456_level0_row4\" class=\"row_heading level0 row4\" >4</th>\n      <td id=\"T_b1456_row4_col0\" class=\"data row4 col0\" >Contra Costa County</td>\n      <td id=\"T_b1456_row4_col1\" class=\"data row4 col1\" >39</td>\n      <td id=\"T_b1456_row4_col2\" class=\"data row4 col2\" >3.64%</td>\n    </tr>\n  </tbody>\n</table>\n",
          "text/plain": "<pandas.io.formats.style.Styler at 0x7f605d1aaeb0>"
         },
         "metadata": {},
         "output_type": "display_data"
        },
        {
         "data": {
          "text/html": "\n<div id=\"altair-viz-616e70b5546c41c58680b1611d67b84b\"></div>\n<script type=\"text/javascript\">\n  var VEGA_DEBUG = (typeof VEGA_DEBUG == \"undefined\") ? {} : VEGA_DEBUG;\n  (function(spec, embedOpt){\n    let outputDiv = document.currentScript.previousElementSibling;\n    if (outputDiv.id !== \"altair-viz-616e70b5546c41c58680b1611d67b84b\") {\n      outputDiv = document.getElementById(\"altair-viz-616e70b5546c41c58680b1611d67b84b\");\n    }\n    const paths = {\n      \"vega\": \"https://cdn.jsdelivr.net/npm//vega@5?noext\",\n      \"vega-lib\": \"https://cdn.jsdelivr.net/npm//vega-lib?noext\",\n      \"vega-lite\": \"https://cdn.jsdelivr.net/npm//vega-lite@4.17.0?noext\",\n      \"vega-embed\": \"https://cdn.jsdelivr.net/npm//vega-embed@6?noext\",\n    };\n\n    function maybeLoadScript(lib, version) {\n      var key = `${lib.replace(\"-\", \"\")}_version`;\n      return (VEGA_DEBUG[key] == version) ?\n        Promise.resolve(paths[lib]) :\n        new Promise(function(resolve, reject) {\n          var s = document.createElement('script');\n          document.getElementsByTagName(\"head\")[0].appendChild(s);\n          s.async = true;\n          s.onload = () => {\n            VEGA_DEBUG[key] = version;\n            return resolve(paths[lib]);\n          };\n          s.onerror = () => reject(`Error loading script: ${paths[lib]}`);\n          s.src = paths[lib];\n        });\n    }\n\n    function showError(err) {\n      outputDiv.innerHTML = `<div class=\"error\" style=\"color:red;\">${err}</div>`;\n      throw err;\n    }\n\n    function displayChart(vegaEmbed) {\n      vegaEmbed(outputDiv, spec, embedOpt)\n        .catch(err => showError(`Javascript Error: ${err.message}<br>This usually means there's a typo in your chart specification. See the javascript console for the full traceback.`));\n    }\n\n    if(typeof define === \"function\" && define.amd) {\n      requirejs.config({paths});\n      require([\"vega-embed\"], displayChart, err => showError(`Error loading script: ${err.message}`));\n    } else {\n      maybeLoadScript(\"vega\", \"5\")\n        .then(() => maybeLoadScript(\"vega-lite\", \"4.17.0\"))\n        .then(() => maybeLoadScript(\"vega-embed\", \"6\"))\n        .catch(showError)\n        .then(() => displayChart(vegaEmbed));\n    }\n  })({\"config\": {\"view\": {\"continuousWidth\": 400, \"continuousHeight\": 300}}, \"data\": {\"name\": \"data-f2b192092ab40256b133e03678fdbbef\"}, \"mark\": \"bar\", \"encoding\": {\"color\": {\"field\": \"Categories\", \"scale\": {\"range\": [\"#2EA8CE\", \"#EB9F3C\", \"#F4D837\", \"#51BF9D\", \"#8CBCCB\", \"#9487C0\"]}, \"type\": \"nominal\"}, \"row\": {\"field\": \"Categories\", \"type\": \"nominal\"}, \"tooltip\": [{\"field\": \"Agency\", \"type\": \"nominal\"}, {\"field\": \"Funding Amount\", \"type\": \"quantitative\"}], \"x\": {\"axis\": {\"format\": \"$.2s\", \"title\": \"Obligated Funding ($2021)\"}, \"field\": \"Funding Amount\", \"type\": \"quantitative\"}, \"y\": {\"field\": \"Agency\", \"type\": \"nominal\"}}, \"$schema\": \"https://vega.github.io/schema/vega-lite/v4.17.0.json\", \"datasets\": {\"data-f2b192092ab40256b133e03678fdbbef\": [{\"Agency\": \"San Jose\", \"Categories\": \"Total Requested\", \"Funding Amount\": 814137.7836283975}, {\"Agency\": \"Oakland\", \"Categories\": \"Total Requested\", \"Funding Amount\": 1190695.923476186}, {\"Agency\": \"City & County of San Francisco, MTA/Parking & Traffic\", \"Categories\": \"Total Requested\", \"Funding Amount\": 399422.13886393333}, {\"Agency\": \"Sunnyvale\", \"Categories\": \"Total Requested\", \"Funding Amount\": 318241.7714299652}, {\"Agency\": \"Contra Costa County\", \"Categories\": \"Total Requested\", \"Funding Amount\": 898253.4359490186}, {\"Agency\": \"San Jose\", \"Categories\": \"Fed Requested\", \"Funding Amount\": 608959.3462479156}, {\"Agency\": \"Oakland\", \"Categories\": \"Fed Requested\", \"Funding Amount\": 768046.0772685818}, {\"Agency\": \"City & County of San Francisco, MTA/Parking & Traffic\", \"Categories\": \"Fed Requested\", \"Funding Amount\": 275973.90511533467}, {\"Agency\": \"Sunnyvale\", \"Categories\": \"Fed Requested\", \"Funding Amount\": 253929.59677578227}, {\"Agency\": \"Contra Costa County\", \"Categories\": \"Fed Requested\", \"Funding Amount\": 421336.3001180079}, {\"Agency\": \"San Jose\", \"Categories\": \"AC Requested\", \"Funding Amount\": 1556.8402544351802}, {\"Agency\": \"Oakland\", \"Categories\": \"AC Requested\", \"Funding Amount\": 0.0}, {\"Agency\": \"City & County of San Francisco, MTA/Parking & Traffic\", \"Categories\": \"AC Requested\", \"Funding Amount\": 0.0}, {\"Agency\": \"Sunnyvale\", \"Categories\": \"AC Requested\", \"Funding Amount\": 0.0}, {\"Agency\": \"Contra Costa County\", \"Categories\": \"AC Requested\", \"Funding Amount\": 0.0}]}}, {\"mode\": \"vega-lite\"});\n</script>",
          "text/plain": "alt.Chart(...)"
         },
         "metadata": {},
         "output_type": "display_data"
        }
       ]
      }
     },
     "bb8159991cc649478af2b073f5c73bc5": {
      "model_module": "@jupyter-widgets/controls",
      "model_module_version": "1.5.0",
      "model_name": "HTMLModel",
      "state": {
       "layout": "IPY_MODEL_9761f06bd71544478be867480277625b",
       "style": "IPY_MODEL_0c3fc2c8c94544af8d00e9f6b7dd7d73",
       "value": "<strong>Top Agencies using Infrastructure & Emergency Relief Projects</strong>"
      }
     },
     "bbe883d84fe34b378fdb4bb6ad787ed8": {
      "model_module": "@jupyter-widgets/output",
      "model_module_version": "1.0.0",
      "model_name": "OutputModel",
      "state": {
       "layout": "IPY_MODEL_fd5ba6ccf7ed4d1b8c336a58ce3a16ab",
       "outputs": [
        {
         "data": {
          "application/vnd.jupyter.widget-view+json": {
           "model_id": "bb8159991cc649478af2b073f5c73bc5",
           "version_major": 2,
           "version_minor": 0
          },
          "text/plain": "HTML(value='<strong>Top Agencies using Infrastructure & Emergency Relief Projects</strong>')"
         },
         "metadata": {},
         "output_type": "display_data"
        },
        {
         "data": {
          "text/html": "<style type=\"text/css\">\n</style>\n<table id=\"T_22fa1\">\n  <thead>\n    <tr>\n      <th class=\"blank level0\" >&nbsp;</th>\n      <th id=\"T_22fa1_level0_col0\" class=\"col_heading level0 col0\" >Agency</th>\n      <th id=\"T_22fa1_level0_col1\" class=\"col_heading level0 col1\" >Infrastructure & Emergency Relief Obligations</th>\n      <th id=\"T_22fa1_level0_col2\" class=\"col_heading level0 col2\" >Percent of Category</th>\n    </tr>\n  </thead>\n  <tbody>\n    <tr>\n      <th id=\"T_22fa1_level0_row0\" class=\"row_heading level0 row0\" >0</th>\n      <td id=\"T_22fa1_row0_col0\" class=\"data row0 col0\" >Contra Costa County</td>\n      <td id=\"T_22fa1_row0_col1\" class=\"data row0 col1\" >102</td>\n      <td id=\"T_22fa1_row0_col2\" class=\"data row0 col2\" >5.21%</td>\n    </tr>\n    <tr>\n      <th id=\"T_22fa1_level0_row1\" class=\"row_heading level0 row1\" >1</th>\n      <td id=\"T_22fa1_row1_col0\" class=\"data row1 col0\" >Napa County</td>\n      <td id=\"T_22fa1_row1_col1\" class=\"data row1 col1\" >88</td>\n      <td id=\"T_22fa1_row1_col2\" class=\"data row1 col2\" >4.50%</td>\n    </tr>\n    <tr>\n      <th id=\"T_22fa1_level0_row2\" class=\"row_heading level0 row2\" >2</th>\n      <td id=\"T_22fa1_row2_col0\" class=\"data row2 col0\" >Santa Clara County</td>\n      <td id=\"T_22fa1_row2_col1\" class=\"data row2 col1\" >82</td>\n      <td id=\"T_22fa1_row2_col2\" class=\"data row2 col2\" >4.19%</td>\n    </tr>\n    <tr>\n      <th id=\"T_22fa1_level0_row3\" class=\"row_heading level0 row3\" >3</th>\n      <td id=\"T_22fa1_row3_col0\" class=\"data row3 col0\" >Sonoma County</td>\n      <td id=\"T_22fa1_row3_col1\" class=\"data row3 col1\" >71</td>\n      <td id=\"T_22fa1_row3_col2\" class=\"data row3 col2\" >3.63%</td>\n    </tr>\n    <tr>\n      <th id=\"T_22fa1_level0_row4\" class=\"row_heading level0 row4\" >4</th>\n      <td id=\"T_22fa1_row4_col0\" class=\"data row4 col0\" >Oakland</td>\n      <td id=\"T_22fa1_row4_col1\" class=\"data row4 col1\" >70</td>\n      <td id=\"T_22fa1_row4_col2\" class=\"data row4 col2\" >3.58%</td>\n    </tr>\n  </tbody>\n</table>\n",
          "text/plain": "<pandas.io.formats.style.Styler at 0x7f605ceffe80>"
         },
         "metadata": {},
         "output_type": "display_data"
        },
        {
         "data": {
          "text/html": "\n<div id=\"altair-viz-cb13fa31e46241cca2f48405ba5de443\"></div>\n<script type=\"text/javascript\">\n  var VEGA_DEBUG = (typeof VEGA_DEBUG == \"undefined\") ? {} : VEGA_DEBUG;\n  (function(spec, embedOpt){\n    let outputDiv = document.currentScript.previousElementSibling;\n    if (outputDiv.id !== \"altair-viz-cb13fa31e46241cca2f48405ba5de443\") {\n      outputDiv = document.getElementById(\"altair-viz-cb13fa31e46241cca2f48405ba5de443\");\n    }\n    const paths = {\n      \"vega\": \"https://cdn.jsdelivr.net/npm//vega@5?noext\",\n      \"vega-lib\": \"https://cdn.jsdelivr.net/npm//vega-lib?noext\",\n      \"vega-lite\": \"https://cdn.jsdelivr.net/npm//vega-lite@4.17.0?noext\",\n      \"vega-embed\": \"https://cdn.jsdelivr.net/npm//vega-embed@6?noext\",\n    };\n\n    function maybeLoadScript(lib, version) {\n      var key = `${lib.replace(\"-\", \"\")}_version`;\n      return (VEGA_DEBUG[key] == version) ?\n        Promise.resolve(paths[lib]) :\n        new Promise(function(resolve, reject) {\n          var s = document.createElement('script');\n          document.getElementsByTagName(\"head\")[0].appendChild(s);\n          s.async = true;\n          s.onload = () => {\n            VEGA_DEBUG[key] = version;\n            return resolve(paths[lib]);\n          };\n          s.onerror = () => reject(`Error loading script: ${paths[lib]}`);\n          s.src = paths[lib];\n        });\n    }\n\n    function showError(err) {\n      outputDiv.innerHTML = `<div class=\"error\" style=\"color:red;\">${err}</div>`;\n      throw err;\n    }\n\n    function displayChart(vegaEmbed) {\n      vegaEmbed(outputDiv, spec, embedOpt)\n        .catch(err => showError(`Javascript Error: ${err.message}<br>This usually means there's a typo in your chart specification. See the javascript console for the full traceback.`));\n    }\n\n    if(typeof define === \"function\" && define.amd) {\n      requirejs.config({paths});\n      require([\"vega-embed\"], displayChart, err => showError(`Error loading script: ${err.message}`));\n    } else {\n      maybeLoadScript(\"vega\", \"5\")\n        .then(() => maybeLoadScript(\"vega-lite\", \"4.17.0\"))\n        .then(() => maybeLoadScript(\"vega-embed\", \"6\"))\n        .catch(showError)\n        .then(() => displayChart(vegaEmbed));\n    }\n  })({\"config\": {\"view\": {\"continuousWidth\": 400, \"continuousHeight\": 300}}, \"data\": {\"name\": \"data-f0cad226c95a51748334db9fe2ae4c0a\"}, \"mark\": \"bar\", \"encoding\": {\"color\": {\"field\": \"Categories\", \"scale\": {\"range\": [\"#2EA8CE\", \"#EB9F3C\", \"#F4D837\", \"#51BF9D\", \"#8CBCCB\", \"#9487C0\"]}, \"type\": \"nominal\"}, \"row\": {\"field\": \"Categories\", \"type\": \"nominal\"}, \"tooltip\": [{\"field\": \"Agency\", \"type\": \"nominal\"}, {\"field\": \"Funding Amount\", \"type\": \"quantitative\"}], \"x\": {\"axis\": {\"format\": \"$.2s\", \"title\": \"Obligated Funding ($2021)\"}, \"field\": \"Funding Amount\", \"type\": \"quantitative\"}, \"y\": {\"field\": \"Agency\", \"type\": \"nominal\"}}, \"$schema\": \"https://vega.github.io/schema/vega-lite/v4.17.0.json\", \"datasets\": {\"data-f0cad226c95a51748334db9fe2ae4c0a\": [{\"Agency\": \"Contra Costa County\", \"Categories\": \"Total Requested\", \"Funding Amount\": 852412.8986917532}, {\"Agency\": \"Napa County\", \"Categories\": \"Total Requested\", \"Funding Amount\": 290127.23106307245}, {\"Agency\": \"Santa Clara County\", \"Categories\": \"Total Requested\", \"Funding Amount\": 672624.8283425933}, {\"Agency\": \"Sonoma County\", \"Categories\": \"Total Requested\", \"Funding Amount\": 648775.690347322}, {\"Agency\": \"Oakland\", \"Categories\": \"Total Requested\", \"Funding Amount\": 1543864.847788699}, {\"Agency\": \"Contra Costa County\", \"Categories\": \"Fed Requested\", \"Funding Amount\": 637082.1190394674}, {\"Agency\": \"Napa County\", \"Categories\": \"Fed Requested\", \"Funding Amount\": 254382.40987557478}, {\"Agency\": \"Santa Clara County\", \"Categories\": \"Fed Requested\", \"Funding Amount\": 568961.2217746255}, {\"Agency\": \"Sonoma County\", \"Categories\": \"Fed Requested\", \"Funding Amount\": 488154.49796102184}, {\"Agency\": \"Oakland\", \"Categories\": \"Fed Requested\", \"Funding Amount\": 1123344.3663603195}, {\"Agency\": \"Contra Costa County\", \"Categories\": \"AC Requested\", \"Funding Amount\": 46442.64603194262}, {\"Agency\": \"Napa County\", \"Categories\": \"AC Requested\", \"Funding Amount\": 4926.44569571146}, {\"Agency\": \"Santa Clara County\", \"Categories\": \"AC Requested\", \"Funding Amount\": 4141.262730127382}, {\"Agency\": \"Sonoma County\", \"Categories\": \"AC Requested\", \"Funding Amount\": 63056.74152049417}, {\"Agency\": \"Oakland\", \"Categories\": \"AC Requested\", \"Funding Amount\": 0.0}]}}, {\"mode\": \"vega-lite\"});\n</script>",
          "text/plain": "alt.Chart(...)"
         },
         "metadata": {},
         "output_type": "display_data"
        }
       ]
      }
     },
     "bc694032f9604d358d2005c8cd8d53d8": {
      "model_module": "@jupyter-widgets/controls",
      "model_module_version": "1.5.0",
      "model_name": "DescriptionStyleModel",
      "state": {
       "description_width": ""
      }
     },
     "bd51d0de8ab149dbbeebd3f052a66e78": {
      "model_module": "@jupyter-widgets/base",
      "model_module_version": "1.2.0",
      "model_name": "LayoutModel",
      "state": {}
     },
     "bdf816532c41461e83d364b6533549ae": {
      "model_module": "@jupyter-widgets/base",
      "model_module_version": "1.2.0",
      "model_name": "LayoutModel",
      "state": {}
     },
     "bea2360198994af9a2d2cdbd292fce99": {
      "model_module": "@jupyter-widgets/base",
      "model_module_version": "1.2.0",
      "model_name": "LayoutModel",
      "state": {}
     },
     "bfd9d0a3008c4284807a5cd3e473dee2": {
      "model_module": "@jupyter-widgets/controls",
      "model_module_version": "1.5.0",
      "model_name": "HTMLModel",
      "state": {
       "layout": "IPY_MODEL_cdfd590bfb3c4f3aaa510de3893910b2",
       "style": "IPY_MODEL_65eb805946bf4d15bbc56a1c309f7916",
       "value": "<strong>Top Agencies using Freeway Projects</strong>"
      }
     },
     "c08f3bd021dd4a9ebfb08b782ff45887": {
      "model_module": "@jupyter-widgets/controls",
      "model_module_version": "1.5.0",
      "model_name": "HTMLModel",
      "state": {
       "layout": "IPY_MODEL_52e911edb515446784f1f20f9a663dfd",
       "style": "IPY_MODEL_83844767da2347f6afa4cddee820b066",
       "value": "<strong>Top Agencies using Freeway Projects</strong>"
      }
     },
     "c09f4b1c967e46618a57aa340c0007a3": {
      "model_module": "@jupyter-widgets/output",
      "model_module_version": "1.0.0",
      "model_name": "OutputModel",
      "state": {
       "layout": "IPY_MODEL_39c3b1be32d3435c93f6000be9e3acea",
       "outputs": [
        {
         "data": {
          "application/vnd.jupyter.widget-view+json": {
           "model_id": "",
           "version_major": 2,
           "version_minor": 0
          },
          "text/plain": "HTML(value='<strong>Top Agencies using Congestion Relief Projects</strong>')"
         },
         "metadata": {},
         "output_type": "display_data"
        },
        {
         "data": {
          "text/html": "<style type=\"text/css\">\n</style>\n<table id=\"T_e8264\">\n  <thead>\n    <tr>\n      <th class=\"blank level0\" >&nbsp;</th>\n      <th id=\"T_e8264_level0_col0\" class=\"col_heading level0 col0\" >Agency</th>\n      <th id=\"T_e8264_level0_col1\" class=\"col_heading level0 col1\" >Congestion Relief Obligations</th>\n      <th id=\"T_e8264_level0_col2\" class=\"col_heading level0 col2\" >Percent of Category</th>\n    </tr>\n  </thead>\n  <tbody>\n    <tr>\n      <th id=\"T_e8264_level0_row0\" class=\"row_heading level0 row0\" >0</th>\n      <td id=\"T_e8264_row0_col0\" class=\"data row0 col0\" >Contra Costa Transportation Authority</td>\n      <td id=\"T_e8264_row0_col1\" class=\"data row0 col1\" >6</td>\n      <td id=\"T_e8264_row0_col2\" class=\"data row0 col2\" >22.22%</td>\n    </tr>\n    <tr>\n      <th id=\"T_e8264_level0_row1\" class=\"row_heading level0 row1\" >1</th>\n      <td id=\"T_e8264_row1_col0\" class=\"data row1 col0\" >Metropolitan Transportation Commission</td>\n      <td id=\"T_e8264_row1_col1\" class=\"data row1 col1\" >5</td>\n      <td id=\"T_e8264_row1_col2\" class=\"data row1 col2\" >18.52%</td>\n    </tr>\n    <tr>\n      <th id=\"T_e8264_level0_row2\" class=\"row_heading level0 row2\" >2</th>\n      <td id=\"T_e8264_row2_col0\" class=\"data row2 col0\" >Sonoma County Transportation Authority</td>\n      <td id=\"T_e8264_row2_col1\" class=\"data row2 col1\" >4</td>\n      <td id=\"T_e8264_row2_col2\" class=\"data row2 col2\" >14.81%</td>\n    </tr>\n    <tr>\n      <th id=\"T_e8264_level0_row3\" class=\"row_heading level0 row3\" >3</th>\n      <td id=\"T_e8264_row3_col0\" class=\"data row3 col0\" >San Mateo</td>\n      <td id=\"T_e8264_row3_col1\" class=\"data row3 col1\" >3</td>\n      <td id=\"T_e8264_row3_col2\" class=\"data row3 col2\" >11.11%</td>\n    </tr>\n    <tr>\n      <th id=\"T_e8264_level0_row4\" class=\"row_heading level0 row4\" >4</th>\n      <td id=\"T_e8264_row4_col0\" class=\"data row4 col0\" >Solano Transportation Authority</td>\n      <td id=\"T_e8264_row4_col1\" class=\"data row4 col1\" >3</td>\n      <td id=\"T_e8264_row4_col2\" class=\"data row4 col2\" >11.11%</td>\n    </tr>\n  </tbody>\n</table>\n",
          "text/plain": "<pandas.io.formats.style.Styler at 0x7f605e083520>"
         },
         "metadata": {},
         "output_type": "display_data"
        },
        {
         "data": {
          "text/html": "\n<div id=\"altair-viz-30981509158a4413af6a8402c5f75b1f\"></div>\n<script type=\"text/javascript\">\n  var VEGA_DEBUG = (typeof VEGA_DEBUG == \"undefined\") ? {} : VEGA_DEBUG;\n  (function(spec, embedOpt){\n    let outputDiv = document.currentScript.previousElementSibling;\n    if (outputDiv.id !== \"altair-viz-30981509158a4413af6a8402c5f75b1f\") {\n      outputDiv = document.getElementById(\"altair-viz-30981509158a4413af6a8402c5f75b1f\");\n    }\n    const paths = {\n      \"vega\": \"https://cdn.jsdelivr.net/npm//vega@5?noext\",\n      \"vega-lib\": \"https://cdn.jsdelivr.net/npm//vega-lib?noext\",\n      \"vega-lite\": \"https://cdn.jsdelivr.net/npm//vega-lite@4.17.0?noext\",\n      \"vega-embed\": \"https://cdn.jsdelivr.net/npm//vega-embed@6?noext\",\n    };\n\n    function maybeLoadScript(lib, version) {\n      var key = `${lib.replace(\"-\", \"\")}_version`;\n      return (VEGA_DEBUG[key] == version) ?\n        Promise.resolve(paths[lib]) :\n        new Promise(function(resolve, reject) {\n          var s = document.createElement('script');\n          document.getElementsByTagName(\"head\")[0].appendChild(s);\n          s.async = true;\n          s.onload = () => {\n            VEGA_DEBUG[key] = version;\n            return resolve(paths[lib]);\n          };\n          s.onerror = () => reject(`Error loading script: ${paths[lib]}`);\n          s.src = paths[lib];\n        });\n    }\n\n    function showError(err) {\n      outputDiv.innerHTML = `<div class=\"error\" style=\"color:red;\">${err}</div>`;\n      throw err;\n    }\n\n    function displayChart(vegaEmbed) {\n      vegaEmbed(outputDiv, spec, embedOpt)\n        .catch(err => showError(`Javascript Error: ${err.message}<br>This usually means there's a typo in your chart specification. See the javascript console for the full traceback.`));\n    }\n\n    if(typeof define === \"function\" && define.amd) {\n      requirejs.config({paths});\n      require([\"vega-embed\"], displayChart, err => showError(`Error loading script: ${err.message}`));\n    } else {\n      maybeLoadScript(\"vega\", \"5\")\n        .then(() => maybeLoadScript(\"vega-lite\", \"4.17.0\"))\n        .then(() => maybeLoadScript(\"vega-embed\", \"6\"))\n        .catch(showError)\n        .then(() => displayChart(vegaEmbed));\n    }\n  })({\"config\": {\"view\": {\"continuousWidth\": 400, \"continuousHeight\": 300}}, \"data\": {\"name\": \"data-288e035acb4bd3ef567cff5d4068697a\"}, \"mark\": \"bar\", \"encoding\": {\"color\": {\"field\": \"Categories\", \"scale\": {\"range\": [\"#2EA8CE\", \"#EB9F3C\", \"#F4D837\", \"#51BF9D\", \"#8CBCCB\", \"#9487C0\"]}, \"type\": \"nominal\"}, \"row\": {\"field\": \"Categories\", \"type\": \"nominal\"}, \"tooltip\": [{\"field\": \"Agency\", \"type\": \"nominal\"}, {\"field\": \"Funding Amount\", \"type\": \"quantitative\"}], \"x\": {\"axis\": {\"format\": \"$.2s\", \"title\": \"Obligated Funding ($2021)\"}, \"field\": \"Funding Amount\", \"type\": \"quantitative\"}, \"y\": {\"field\": \"Agency\", \"type\": \"nominal\"}}, \"$schema\": \"https://vega.github.io/schema/vega-lite/v4.17.0.json\", \"datasets\": {\"data-288e035acb4bd3ef567cff5d4068697a\": [{\"Agency\": \"Contra Costa Transportation Authority\", \"Categories\": \"Total Requested\", \"Funding Amount\": 197250.95617523268}, {\"Agency\": \"Metropolitan Transportation Commission\", \"Categories\": \"Total Requested\", \"Funding Amount\": 2873575.211728853}, {\"Agency\": \"Sonoma County Transportation Authority\", \"Categories\": \"Total Requested\", \"Funding Amount\": 24784.0927036328}, {\"Agency\": \"San Mateo\", \"Categories\": \"Total Requested\", \"Funding Amount\": 50566.77608965471}, {\"Agency\": \"Solano Transportation Authority\", \"Categories\": \"Total Requested\", \"Funding Amount\": 156006.74522970387}, {\"Agency\": \"Contra Costa Transportation Authority\", \"Categories\": \"Fed Requested\", \"Funding Amount\": 158480.104075906}, {\"Agency\": \"Metropolitan Transportation Commission\", \"Categories\": \"Fed Requested\", \"Funding Amount\": 2873576.667669716}, {\"Agency\": \"Sonoma County Transportation Authority\", \"Categories\": \"Fed Requested\", \"Funding Amount\": 24773.560430762882}, {\"Agency\": \"San Mateo\", \"Categories\": \"Fed Requested\", \"Funding Amount\": 42627.45791136464}, {\"Agency\": \"Solano Transportation Authority\", \"Categories\": \"Fed Requested\", \"Funding Amount\": 203358.6054765724}, {\"Agency\": \"Contra Costa Transportation Authority\", \"Categories\": \"AC Requested\", \"Funding Amount\": 0.0}, {\"Agency\": \"Metropolitan Transportation Commission\", \"Categories\": \"AC Requested\", \"Funding Amount\": 0.0}, {\"Agency\": \"Sonoma County Transportation Authority\", \"Categories\": \"AC Requested\", \"Funding Amount\": 0.0}, {\"Agency\": \"San Mateo\", \"Categories\": \"AC Requested\", \"Funding Amount\": 0.0}, {\"Agency\": \"Solano Transportation Authority\", \"Categories\": \"AC Requested\", \"Funding Amount\": 0.0}]}}, {\"mode\": \"vega-lite\"});\n</script>",
          "text/plain": "alt.Chart(...)"
         },
         "metadata": {},
         "output_type": "display_data"
        }
       ]
      }
     },
     "c0ad2d231e7a4b9486b1accffb40756a": {
      "model_module": "@jupyter-widgets/controls",
      "model_module_version": "1.5.0",
      "model_name": "HTMLModel",
      "state": {
       "layout": "IPY_MODEL_16598e4971204af09ccb56ee7211616d",
       "style": "IPY_MODEL_393602b7fff344e1a7780462f5fba7c5",
       "value": "<strong>Top Agencies using Bridge Projects</strong>"
      }
     },
     "c1869d6370134804963e49afff00bcbb": {
      "model_module": "@jupyter-widgets/base",
      "model_module_version": "1.2.0",
      "model_name": "LayoutModel",
      "state": {}
     },
     "c25b25eb950341f1a09a1b9bb06ac31d": {
      "model_module": "@jupyter-widgets/base",
      "model_module_version": "1.2.0",
      "model_name": "LayoutModel",
      "state": {}
     },
     "c287625105a14e8aa5e0668221ae6558": {
      "model_module": "@jupyter-widgets/controls",
      "model_module_version": "1.5.0",
      "model_name": "HTMLModel",
      "state": {
       "layout": "IPY_MODEL_77c2417f8439436594891722a3a28635",
       "style": "IPY_MODEL_81ade505f2504c1083324179c7d6e881",
       "value": "<strong>Top Agencies using Freeway Projects</strong>"
      }
     },
     "c2927d842ee34ca68c7b79cc859b6360": {
      "model_module": "@jupyter-widgets/controls",
      "model_module_version": "1.5.0",
      "model_name": "TextModel",
      "state": {
       "description": "bridge",
       "layout": "IPY_MODEL_b9663696eca145929a2cd89209be235a",
       "style": "IPY_MODEL_acf74aaf3bc74f71b4bf8cf4fcb43532"
      }
     },
     "c2e29d4344f04aba93e1bdc0412771af": {
      "model_module": "@jupyter-widgets/output",
      "model_module_version": "1.0.0",
      "model_name": "OutputModel",
      "state": {
       "layout": "IPY_MODEL_a80a6b49f8434266812a348b20b264b7",
       "outputs": [
        {
         "data": {
          "application/vnd.jupyter.widget-view+json": {
           "model_id": "",
           "version_major": 2,
           "version_minor": 0
          },
          "text/plain": "HTML(value='<strong>Top Agencies using Active Transportation Projects</strong>')"
         },
         "metadata": {},
         "output_type": "display_data"
        },
        {
         "data": {
          "text/html": "<style type=\"text/css\">\n</style>\n<table id=\"T_4ee10\">\n  <thead>\n    <tr>\n      <th class=\"blank level0\" >&nbsp;</th>\n      <th id=\"T_4ee10_level0_col0\" class=\"col_heading level0 col0\" >Agency</th>\n      <th id=\"T_4ee10_level0_col1\" class=\"col_heading level0 col1\" >Active Transportation Obligations</th>\n      <th id=\"T_4ee10_level0_col2\" class=\"col_heading level0 col2\" >Percent of Category</th>\n    </tr>\n  </thead>\n  <tbody>\n    <tr>\n      <th id=\"T_4ee10_level0_row0\" class=\"row_heading level0 row0\" >0</th>\n      <td id=\"T_4ee10_row0_col0\" class=\"data row0 col0\" >Los Angeles</td>\n      <td id=\"T_4ee10_row0_col1\" class=\"data row0 col1\" >153</td>\n      <td id=\"T_4ee10_row0_col2\" class=\"data row0 col2\" >3.11%</td>\n    </tr>\n    <tr>\n      <th id=\"T_4ee10_level0_row1\" class=\"row_heading level0 row1\" >1</th>\n      <td id=\"T_4ee10_row1_col0\" class=\"data row1 col0\" >Sacramento County</td>\n      <td id=\"T_4ee10_row1_col1\" class=\"data row1 col1\" >112</td>\n      <td id=\"T_4ee10_row1_col2\" class=\"data row1 col2\" >2.28%</td>\n    </tr>\n    <tr>\n      <th id=\"T_4ee10_level0_row2\" class=\"row_heading level0 row2\" >2</th>\n      <td id=\"T_4ee10_row2_col0\" class=\"data row2 col0\" >Los Angeles County</td>\n      <td id=\"T_4ee10_row2_col1\" class=\"data row2 col1\" >96</td>\n      <td id=\"T_4ee10_row2_col2\" class=\"data row2 col2\" >1.95%</td>\n    </tr>\n    <tr>\n      <th id=\"T_4ee10_level0_row3\" class=\"row_heading level0 row3\" >3</th>\n      <td id=\"T_4ee10_row3_col0\" class=\"data row3 col0\" >Fresno</td>\n      <td id=\"T_4ee10_row3_col1\" class=\"data row3 col1\" >94</td>\n      <td id=\"T_4ee10_row3_col2\" class=\"data row3 col2\" >1.91%</td>\n    </tr>\n    <tr>\n      <th id=\"T_4ee10_level0_row4\" class=\"row_heading level0 row4\" >4</th>\n      <td id=\"T_4ee10_row4_col0\" class=\"data row4 col0\" >El Dorado County</td>\n      <td id=\"T_4ee10_row4_col1\" class=\"data row4 col1\" >92</td>\n      <td id=\"T_4ee10_row4_col2\" class=\"data row4 col2\" >1.87%</td>\n    </tr>\n  </tbody>\n</table>\n",
          "text/plain": "<pandas.io.formats.style.Styler at 0x7f605ea9b190>"
         },
         "metadata": {},
         "output_type": "display_data"
        },
        {
         "data": {
          "text/html": "\n<div id=\"altair-viz-da1314652ade4e5f97be0fdcda47399b\"></div>\n<script type=\"text/javascript\">\n  var VEGA_DEBUG = (typeof VEGA_DEBUG == \"undefined\") ? {} : VEGA_DEBUG;\n  (function(spec, embedOpt){\n    let outputDiv = document.currentScript.previousElementSibling;\n    if (outputDiv.id !== \"altair-viz-da1314652ade4e5f97be0fdcda47399b\") {\n      outputDiv = document.getElementById(\"altair-viz-da1314652ade4e5f97be0fdcda47399b\");\n    }\n    const paths = {\n      \"vega\": \"https://cdn.jsdelivr.net/npm//vega@5?noext\",\n      \"vega-lib\": \"https://cdn.jsdelivr.net/npm//vega-lib?noext\",\n      \"vega-lite\": \"https://cdn.jsdelivr.net/npm//vega-lite@4.17.0?noext\",\n      \"vega-embed\": \"https://cdn.jsdelivr.net/npm//vega-embed@6?noext\",\n    };\n\n    function maybeLoadScript(lib, version) {\n      var key = `${lib.replace(\"-\", \"\")}_version`;\n      return (VEGA_DEBUG[key] == version) ?\n        Promise.resolve(paths[lib]) :\n        new Promise(function(resolve, reject) {\n          var s = document.createElement('script');\n          document.getElementsByTagName(\"head\")[0].appendChild(s);\n          s.async = true;\n          s.onload = () => {\n            VEGA_DEBUG[key] = version;\n            return resolve(paths[lib]);\n          };\n          s.onerror = () => reject(`Error loading script: ${paths[lib]}`);\n          s.src = paths[lib];\n        });\n    }\n\n    function showError(err) {\n      outputDiv.innerHTML = `<div class=\"error\" style=\"color:red;\">${err}</div>`;\n      throw err;\n    }\n\n    function displayChart(vegaEmbed) {\n      vegaEmbed(outputDiv, spec, embedOpt)\n        .catch(err => showError(`Javascript Error: ${err.message}<br>This usually means there's a typo in your chart specification. See the javascript console for the full traceback.`));\n    }\n\n    if(typeof define === \"function\" && define.amd) {\n      requirejs.config({paths});\n      require([\"vega-embed\"], displayChart, err => showError(`Error loading script: ${err.message}`));\n    } else {\n      maybeLoadScript(\"vega\", \"5\")\n        .then(() => maybeLoadScript(\"vega-lite\", \"4.17.0\"))\n        .then(() => maybeLoadScript(\"vega-embed\", \"6\"))\n        .catch(showError)\n        .then(() => displayChart(vegaEmbed));\n    }\n  })({\"config\": {\"view\": {\"continuousWidth\": 400, \"continuousHeight\": 300}}, \"data\": {\"name\": \"data-414176c797040db0af2c6dbd395ff43d\"}, \"mark\": \"bar\", \"encoding\": {\"color\": {\"field\": \"Categories\", \"scale\": {\"range\": [\"#2EA8CE\", \"#EB9F3C\", \"#F4D837\", \"#51BF9D\", \"#8CBCCB\", \"#9487C0\"]}, \"type\": \"nominal\"}, \"row\": {\"field\": \"Categories\", \"type\": \"nominal\"}, \"tooltip\": [{\"field\": \"Agency\", \"type\": \"nominal\"}, {\"field\": \"Funding Amount\", \"type\": \"quantitative\"}], \"x\": {\"axis\": {\"format\": \"$.2s\", \"title\": \"Obligated Funding ($2021)\"}, \"field\": \"Funding Amount\", \"type\": \"quantitative\"}, \"y\": {\"field\": \"Agency\", \"type\": \"nominal\"}}, \"$schema\": \"https://vega.github.io/schema/vega-lite/v4.17.0.json\", \"datasets\": {\"data-414176c797040db0af2c6dbd395ff43d\": [{\"Agency\": \"Los Angeles\", \"Categories\": \"Total Requested\", \"Funding Amount\": 917283.1377095487}, {\"Agency\": \"Sacramento County\", \"Categories\": \"Total Requested\", \"Funding Amount\": 1006850.678353117}, {\"Agency\": \"Los Angeles County\", \"Categories\": \"Total Requested\", \"Funding Amount\": 404924.74302722217}, {\"Agency\": \"Fresno\", \"Categories\": \"Total Requested\", \"Funding Amount\": 171243.34544623905}, {\"Agency\": \"El Dorado County\", \"Categories\": \"Total Requested\", \"Funding Amount\": 402686.7205836727}, {\"Agency\": \"Los Angeles\", \"Categories\": \"Fed Requested\", \"Funding Amount\": 664969.1029667306}, {\"Agency\": \"Sacramento County\", \"Categories\": \"Fed Requested\", \"Funding Amount\": 544973.070164466}, {\"Agency\": \"Los Angeles County\", \"Categories\": \"Fed Requested\", \"Funding Amount\": 268968.0688735619}, {\"Agency\": \"Fresno\", \"Categories\": \"Fed Requested\", \"Funding Amount\": 109030.47137264804}, {\"Agency\": \"El Dorado County\", \"Categories\": \"Fed Requested\", \"Funding Amount\": 207663.61929225436}, {\"Agency\": \"Los Angeles\", \"Categories\": \"AC Requested\", \"Funding Amount\": -1211.9374548559986}, {\"Agency\": \"Sacramento County\", \"Categories\": \"AC Requested\", \"Funding Amount\": 36458.54169718384}, {\"Agency\": \"Los Angeles County\", \"Categories\": \"AC Requested\", \"Funding Amount\": 368.15701469117147}, {\"Agency\": \"Fresno\", \"Categories\": \"AC Requested\", \"Funding Amount\": 0.0}, {\"Agency\": \"El Dorado County\", \"Categories\": \"AC Requested\", \"Funding Amount\": 2716.5010563039277}]}}, {\"mode\": \"vega-lite\"});\n</script>",
          "text/plain": "alt.Chart(...)"
         },
         "metadata": {},
         "output_type": "display_data"
        }
       ]
      }
     },
     "c3e42c02e24042a093a3cdcdde40177e": {
      "model_module": "@jupyter-widgets/controls",
      "model_module_version": "1.5.0",
      "model_name": "DescriptionStyleModel",
      "state": {
       "description_width": ""
      }
     },
     "c3fda5661bf94b109d7364ca47ee6903": {
      "model_module": "@jupyter-widgets/controls",
      "model_module_version": "1.5.0",
      "model_name": "DescriptionStyleModel",
      "state": {
       "description_width": ""
      }
     },
     "c41ecf0328e8498f8a799f77fb5c4e71": {
      "model_module": "@jupyter-widgets/output",
      "model_module_version": "1.0.0",
      "model_name": "OutputModel",
      "state": {
       "layout": "IPY_MODEL_7222656d1d6f43ab801d0d91465d563b",
       "outputs": [
        {
         "data": {
          "application/vnd.jupyter.widget-view+json": {
           "model_id": "",
           "version_major": 2,
           "version_minor": 0
          },
          "text/plain": "HTML(value='<strong>Top Agencies using Transit Projects</strong>')"
         },
         "metadata": {},
         "output_type": "display_data"
        },
        {
         "data": {
          "text/html": "<style type=\"text/css\">\n</style>\n<table id=\"T_e15e4\">\n  <thead>\n    <tr>\n      <th class=\"blank level0\" >&nbsp;</th>\n      <th id=\"T_e15e4_level0_col0\" class=\"col_heading level0 col0\" >Agency</th>\n      <th id=\"T_e15e4_level0_col1\" class=\"col_heading level0 col1\" >Transit Obligations</th>\n      <th id=\"T_e15e4_level0_col2\" class=\"col_heading level0 col2\" >Percent of Category</th>\n    </tr>\n  </thead>\n  <tbody>\n    <tr>\n      <th id=\"T_e15e4_level0_row0\" class=\"row_heading level0 row0\" >0</th>\n      <td id=\"T_e15e4_row0_col0\" class=\"data row0 col0\" >Los Angeles</td>\n      <td id=\"T_e15e4_row0_col1\" class=\"data row0 col1\" >35</td>\n      <td id=\"T_e15e4_row0_col2\" class=\"data row0 col2\" >11.08%</td>\n    </tr>\n    <tr>\n      <th id=\"T_e15e4_level0_row1\" class=\"row_heading level0 row1\" >1</th>\n      <td id=\"T_e15e4_row1_col0\" class=\"data row1 col0\" >Metropolitan Transportation Commission</td>\n      <td id=\"T_e15e4_row1_col1\" class=\"data row1 col1\" >18</td>\n      <td id=\"T_e15e4_row1_col2\" class=\"data row1 col2\" >5.70%</td>\n    </tr>\n    <tr>\n      <th id=\"T_e15e4_level0_row2\" class=\"row_heading level0 row2\" >2</th>\n      <td id=\"T_e15e4_row2_col0\" class=\"data row2 col0\" >Stanislaus County</td>\n      <td id=\"T_e15e4_row2_col1\" class=\"data row2 col1\" >17</td>\n      <td id=\"T_e15e4_row2_col2\" class=\"data row2 col2\" >5.38%</td>\n    </tr>\n    <tr>\n      <th id=\"T_e15e4_level0_row3\" class=\"row_heading level0 row3\" >3</th>\n      <td id=\"T_e15e4_row3_col0\" class=\"data row3 col0\" >Stockton</td>\n      <td id=\"T_e15e4_row3_col1\" class=\"data row3 col1\" >14</td>\n      <td id=\"T_e15e4_row3_col2\" class=\"data row3 col2\" >4.43%</td>\n    </tr>\n    <tr>\n      <th id=\"T_e15e4_level0_row4\" class=\"row_heading level0 row4\" >4</th>\n      <td id=\"T_e15e4_row4_col0\" class=\"data row4 col0\" >Yosemite Area Regional Transportation System JPA</td>\n      <td id=\"T_e15e4_row4_col1\" class=\"data row4 col1\" >14</td>\n      <td id=\"T_e15e4_row4_col2\" class=\"data row4 col2\" >4.43%</td>\n    </tr>\n  </tbody>\n</table>\n",
          "text/plain": "<pandas.io.formats.style.Styler at 0x7f605ea321f0>"
         },
         "metadata": {},
         "output_type": "display_data"
        },
        {
         "data": {
          "text/html": "\n<div id=\"altair-viz-64e43fe2fd9948c18908106dc154d1bf\"></div>\n<script type=\"text/javascript\">\n  var VEGA_DEBUG = (typeof VEGA_DEBUG == \"undefined\") ? {} : VEGA_DEBUG;\n  (function(spec, embedOpt){\n    let outputDiv = document.currentScript.previousElementSibling;\n    if (outputDiv.id !== \"altair-viz-64e43fe2fd9948c18908106dc154d1bf\") {\n      outputDiv = document.getElementById(\"altair-viz-64e43fe2fd9948c18908106dc154d1bf\");\n    }\n    const paths = {\n      \"vega\": \"https://cdn.jsdelivr.net/npm//vega@5?noext\",\n      \"vega-lib\": \"https://cdn.jsdelivr.net/npm//vega-lib?noext\",\n      \"vega-lite\": \"https://cdn.jsdelivr.net/npm//vega-lite@4.17.0?noext\",\n      \"vega-embed\": \"https://cdn.jsdelivr.net/npm//vega-embed@6?noext\",\n    };\n\n    function maybeLoadScript(lib, version) {\n      var key = `${lib.replace(\"-\", \"\")}_version`;\n      return (VEGA_DEBUG[key] == version) ?\n        Promise.resolve(paths[lib]) :\n        new Promise(function(resolve, reject) {\n          var s = document.createElement('script');\n          document.getElementsByTagName(\"head\")[0].appendChild(s);\n          s.async = true;\n          s.onload = () => {\n            VEGA_DEBUG[key] = version;\n            return resolve(paths[lib]);\n          };\n          s.onerror = () => reject(`Error loading script: ${paths[lib]}`);\n          s.src = paths[lib];\n        });\n    }\n\n    function showError(err) {\n      outputDiv.innerHTML = `<div class=\"error\" style=\"color:red;\">${err}</div>`;\n      throw err;\n    }\n\n    function displayChart(vegaEmbed) {\n      vegaEmbed(outputDiv, spec, embedOpt)\n        .catch(err => showError(`Javascript Error: ${err.message}<br>This usually means there's a typo in your chart specification. See the javascript console for the full traceback.`));\n    }\n\n    if(typeof define === \"function\" && define.amd) {\n      requirejs.config({paths});\n      require([\"vega-embed\"], displayChart, err => showError(`Error loading script: ${err.message}`));\n    } else {\n      maybeLoadScript(\"vega\", \"5\")\n        .then(() => maybeLoadScript(\"vega-lite\", \"4.17.0\"))\n        .then(() => maybeLoadScript(\"vega-embed\", \"6\"))\n        .catch(showError)\n        .then(() => displayChart(vegaEmbed));\n    }\n  })({\"config\": {\"view\": {\"continuousWidth\": 400, \"continuousHeight\": 300}}, \"data\": {\"name\": \"data-fccd94bd8da9edd1aa36ff8f58d8fdbc\"}, \"mark\": \"bar\", \"encoding\": {\"color\": {\"field\": \"Categories\", \"scale\": {\"range\": [\"#2EA8CE\", \"#EB9F3C\", \"#F4D837\", \"#51BF9D\", \"#8CBCCB\", \"#9487C0\"]}, \"type\": \"nominal\"}, \"row\": {\"field\": \"Categories\", \"type\": \"nominal\"}, \"tooltip\": [{\"field\": \"Agency\", \"type\": \"nominal\"}, {\"field\": \"Funding Amount\", \"type\": \"quantitative\"}], \"x\": {\"axis\": {\"format\": \"$.2s\", \"title\": \"Obligated Funding ($2021)\"}, \"field\": \"Funding Amount\", \"type\": \"quantitative\"}, \"y\": {\"field\": \"Agency\", \"type\": \"nominal\"}}, \"$schema\": \"https://vega.github.io/schema/vega-lite/v4.17.0.json\", \"datasets\": {\"data-fccd94bd8da9edd1aa36ff8f58d8fdbc\": [{\"Agency\": \"Los Angeles\", \"Categories\": \"Total Requested\", \"Funding Amount\": 355615.2802215591}, {\"Agency\": \"Metropolitan Transportation Commission\", \"Categories\": \"Total Requested\", \"Funding Amount\": 1891120.7657899645}, {\"Agency\": \"Stanislaus County\", \"Categories\": \"Total Requested\", \"Funding Amount\": 114830.49199421205}, {\"Agency\": \"Stockton\", \"Categories\": \"Total Requested\", \"Funding Amount\": 569718.0125282741}, {\"Agency\": \"Yosemite Area Regional Transportation System JPA\", \"Categories\": \"Total Requested\", \"Funding Amount\": 52833.955958112674}, {\"Agency\": \"Los Angeles\", \"Categories\": \"Fed Requested\", \"Funding Amount\": 250782.7923294444}, {\"Agency\": \"Metropolitan Transportation Commission\", \"Categories\": \"Fed Requested\", \"Funding Amount\": 1879749.0219219865}, {\"Agency\": \"Stanislaus County\", \"Categories\": \"Fed Requested\", \"Funding Amount\": 102104.27924110125}, {\"Agency\": \"Stockton\", \"Categories\": \"Fed Requested\", \"Funding Amount\": 487210.1448278926}, {\"Agency\": \"Yosemite Area Regional Transportation System JPA\", \"Categories\": \"Fed Requested\", \"Funding Amount\": 52833.955958112674}, {\"Agency\": \"Los Angeles\", \"Categories\": \"AC Requested\", \"Funding Amount\": 0.0}, {\"Agency\": \"Metropolitan Transportation Commission\", \"Categories\": \"AC Requested\", \"Funding Amount\": 0.0}, {\"Agency\": \"Stanislaus County\", \"Categories\": \"AC Requested\", \"Funding Amount\": 0.0}, {\"Agency\": \"Stockton\", \"Categories\": \"AC Requested\", \"Funding Amount\": 0.0}, {\"Agency\": \"Yosemite Area Regional Transportation System JPA\", \"Categories\": \"AC Requested\", \"Funding Amount\": 0.0}]}}, {\"mode\": \"vega-lite\"});\n</script>",
          "text/plain": "alt.Chart(...)"
         },
         "metadata": {},
         "output_type": "display_data"
        }
       ]
      }
     },
     "c52ec1a409774c27b8617d55810d3fb1": {
      "model_module": "@jupyter-widgets/controls",
      "model_module_version": "1.5.0",
      "model_name": "TextModel",
      "state": {
       "description": "freeway",
       "layout": "IPY_MODEL_f3b484c196194a35abae4ac772887c3d",
       "style": "IPY_MODEL_a9b9c33eb901431299e5e5a6a52ecc7d"
      }
     },
     "c543b3fc1ee24fd394eca35c4cc2387b": {
      "model_module": "@jupyter-widgets/output",
      "model_module_version": "1.0.0",
      "model_name": "OutputModel",
      "state": {
       "layout": "IPY_MODEL_6ed208b345d8428f9672bab1c9c63c2c",
       "outputs": [
        {
         "data": {
          "application/vnd.jupyter.widget-view+json": {
           "model_id": "",
           "version_major": 2,
           "version_minor": 0
          },
          "text/plain": "HTML(value='<strong>Top Agencies using Bridge Projects</strong>')"
         },
         "metadata": {},
         "output_type": "display_data"
        },
        {
         "data": {
          "text/html": "<style type=\"text/css\">\n</style>\n<table id=\"T_d76cf\">\n  <thead>\n    <tr>\n      <th class=\"blank level0\" >&nbsp;</th>\n      <th id=\"T_d76cf_level0_col0\" class=\"col_heading level0 col0\" >Agency</th>\n      <th id=\"T_d76cf_level0_col1\" class=\"col_heading level0 col1\" >Bridge Obligations</th>\n      <th id=\"T_d76cf_level0_col2\" class=\"col_heading level0 col2\" >Percent of Category</th>\n    </tr>\n  </thead>\n  <tbody>\n    <tr>\n      <th id=\"T_d76cf_level0_row0\" class=\"row_heading level0 row0\" >0</th>\n      <td id=\"T_d76cf_row0_col0\" class=\"data row0 col0\" >Santa Clara County</td>\n      <td id=\"T_d76cf_row0_col1\" class=\"data row0 col1\" >68</td>\n      <td id=\"T_d76cf_row0_col2\" class=\"data row0 col2\" >14.17%</td>\n    </tr>\n    <tr>\n      <th id=\"T_d76cf_level0_row1\" class=\"row_heading level0 row1\" >1</th>\n      <td id=\"T_d76cf_row1_col0\" class=\"data row1 col0\" >Contra Costa County</td>\n      <td id=\"T_d76cf_row1_col1\" class=\"data row1 col1\" >44</td>\n      <td id=\"T_d76cf_row1_col2\" class=\"data row1 col2\" >9.17%</td>\n    </tr>\n    <tr>\n      <th id=\"T_d76cf_level0_row2\" class=\"row_heading level0 row2\" >2</th>\n      <td id=\"T_d76cf_row2_col0\" class=\"data row2 col0\" >Sonoma County</td>\n      <td id=\"T_d76cf_row2_col1\" class=\"data row2 col1\" >34</td>\n      <td id=\"T_d76cf_row2_col2\" class=\"data row2 col2\" >7.08%</td>\n    </tr>\n    <tr>\n      <th id=\"T_d76cf_level0_row3\" class=\"row_heading level0 row3\" >3</th>\n      <td id=\"T_d76cf_row3_col0\" class=\"data row3 col0\" >Napa County</td>\n      <td id=\"T_d76cf_row3_col1\" class=\"data row3 col1\" >25</td>\n      <td id=\"T_d76cf_row3_col2\" class=\"data row3 col2\" >5.21%</td>\n    </tr>\n    <tr>\n      <th id=\"T_d76cf_level0_row4\" class=\"row_heading level0 row4\" >4</th>\n      <td id=\"T_d76cf_row4_col0\" class=\"data row4 col0\" >Oakland</td>\n      <td id=\"T_d76cf_row4_col1\" class=\"data row4 col1\" >22</td>\n      <td id=\"T_d76cf_row4_col2\" class=\"data row4 col2\" >4.58%</td>\n    </tr>\n  </tbody>\n</table>\n",
          "text/plain": "<pandas.io.formats.style.Styler at 0x7f605d034f70>"
         },
         "metadata": {},
         "output_type": "display_data"
        },
        {
         "data": {
          "text/html": "\n<div id=\"altair-viz-786b14d7d1934b5cb7a89549ddcff3b7\"></div>\n<script type=\"text/javascript\">\n  var VEGA_DEBUG = (typeof VEGA_DEBUG == \"undefined\") ? {} : VEGA_DEBUG;\n  (function(spec, embedOpt){\n    let outputDiv = document.currentScript.previousElementSibling;\n    if (outputDiv.id !== \"altair-viz-786b14d7d1934b5cb7a89549ddcff3b7\") {\n      outputDiv = document.getElementById(\"altair-viz-786b14d7d1934b5cb7a89549ddcff3b7\");\n    }\n    const paths = {\n      \"vega\": \"https://cdn.jsdelivr.net/npm//vega@5?noext\",\n      \"vega-lib\": \"https://cdn.jsdelivr.net/npm//vega-lib?noext\",\n      \"vega-lite\": \"https://cdn.jsdelivr.net/npm//vega-lite@4.17.0?noext\",\n      \"vega-embed\": \"https://cdn.jsdelivr.net/npm//vega-embed@6?noext\",\n    };\n\n    function maybeLoadScript(lib, version) {\n      var key = `${lib.replace(\"-\", \"\")}_version`;\n      return (VEGA_DEBUG[key] == version) ?\n        Promise.resolve(paths[lib]) :\n        new Promise(function(resolve, reject) {\n          var s = document.createElement('script');\n          document.getElementsByTagName(\"head\")[0].appendChild(s);\n          s.async = true;\n          s.onload = () => {\n            VEGA_DEBUG[key] = version;\n            return resolve(paths[lib]);\n          };\n          s.onerror = () => reject(`Error loading script: ${paths[lib]}`);\n          s.src = paths[lib];\n        });\n    }\n\n    function showError(err) {\n      outputDiv.innerHTML = `<div class=\"error\" style=\"color:red;\">${err}</div>`;\n      throw err;\n    }\n\n    function displayChart(vegaEmbed) {\n      vegaEmbed(outputDiv, spec, embedOpt)\n        .catch(err => showError(`Javascript Error: ${err.message}<br>This usually means there's a typo in your chart specification. See the javascript console for the full traceback.`));\n    }\n\n    if(typeof define === \"function\" && define.amd) {\n      requirejs.config({paths});\n      require([\"vega-embed\"], displayChart, err => showError(`Error loading script: ${err.message}`));\n    } else {\n      maybeLoadScript(\"vega\", \"5\")\n        .then(() => maybeLoadScript(\"vega-lite\", \"4.17.0\"))\n        .then(() => maybeLoadScript(\"vega-embed\", \"6\"))\n        .catch(showError)\n        .then(() => displayChart(vegaEmbed));\n    }\n  })({\"config\": {\"view\": {\"continuousWidth\": 400, \"continuousHeight\": 300}}, \"data\": {\"name\": \"data-4ca6a40ed7566d9b16a25b6db2a09b51\"}, \"mark\": \"bar\", \"encoding\": {\"color\": {\"field\": \"Categories\", \"scale\": {\"range\": [\"#2EA8CE\", \"#EB9F3C\", \"#F4D837\", \"#51BF9D\", \"#8CBCCB\", \"#9487C0\"]}, \"type\": \"nominal\"}, \"row\": {\"field\": \"Categories\", \"type\": \"nominal\"}, \"tooltip\": [{\"field\": \"Agency\", \"type\": \"nominal\"}, {\"field\": \"Funding Amount\", \"type\": \"quantitative\"}], \"x\": {\"axis\": {\"format\": \"$.2s\", \"title\": \"Obligated Funding ($2021)\"}, \"field\": \"Funding Amount\", \"type\": \"quantitative\"}, \"y\": {\"field\": \"Agency\", \"type\": \"nominal\"}}, \"$schema\": \"https://vega.github.io/schema/vega-lite/v4.17.0.json\", \"datasets\": {\"data-4ca6a40ed7566d9b16a25b6db2a09b51\": [{\"Agency\": \"Santa Clara County\", \"Categories\": \"Total Requested\", \"Funding Amount\": 625948.8921137636}, {\"Agency\": \"Contra Costa County\", \"Categories\": \"Total Requested\", \"Funding Amount\": 1317256.4330172406}, {\"Agency\": \"Sonoma County\", \"Categories\": \"Total Requested\", \"Funding Amount\": 797679.174331438}, {\"Agency\": \"Napa County\", \"Categories\": \"Total Requested\", \"Funding Amount\": 403289.3793109502}, {\"Agency\": \"Oakland\", \"Categories\": \"Total Requested\", \"Funding Amount\": 1567186.3367742712}, {\"Agency\": \"Santa Clara County\", \"Categories\": \"Fed Requested\", \"Funding Amount\": 551357.6932043855}, {\"Agency\": \"Contra Costa County\", \"Categories\": \"Fed Requested\", \"Funding Amount\": 1044135.8320610252}, {\"Agency\": \"Sonoma County\", \"Categories\": \"Fed Requested\", \"Funding Amount\": 587684.7404175334}, {\"Agency\": \"Napa County\", \"Categories\": \"Fed Requested\", \"Funding Amount\": 409960.4929304969}, {\"Agency\": \"Oakland\", \"Categories\": \"Fed Requested\", \"Funding Amount\": 1259324.924989911}, {\"Agency\": \"Santa Clara County\", \"Categories\": \"AC Requested\", \"Funding Amount\": 4993.875645153608}, {\"Agency\": \"Contra Costa County\", \"Categories\": \"AC Requested\", \"Funding Amount\": 106533.47492573563}, {\"Agency\": \"Sonoma County\", \"Categories\": \"AC Requested\", \"Funding Amount\": 122257.02211158613}, {\"Agency\": \"Napa County\", \"Categories\": \"AC Requested\", \"Funding Amount\": 222.60068153467608}, {\"Agency\": \"Oakland\", \"Categories\": \"AC Requested\", \"Funding Amount\": 0.0}]}}, {\"mode\": \"vega-lite\"});\n</script>",
          "text/plain": "alt.Chart(...)"
         },
         "metadata": {},
         "output_type": "display_data"
        }
       ]
      }
     },
     "c5bc01fb52ec47e6a136257d740ffd64": {
      "model_module": "@jupyter-widgets/base",
      "model_module_version": "1.2.0",
      "model_name": "LayoutModel",
      "state": {}
     },
     "c5e67b423cbf4a25b45eef2f12004135": {
      "model_module": "@jupyter-widgets/output",
      "model_module_version": "1.0.0",
      "model_name": "OutputModel",
      "state": {
       "layout": "IPY_MODEL_9bb04e06614c4a07af2be841ca1428b7",
       "outputs": [
        {
         "data": {
          "application/vnd.jupyter.widget-view+json": {
           "model_id": "",
           "version_major": 2,
           "version_minor": 0
          },
          "text/plain": "HTML(value='<strong>Top Agencies using Freeway Projects</strong>')"
         },
         "metadata": {},
         "output_type": "display_data"
        },
        {
         "data": {
          "text/html": "<style type=\"text/css\">\n</style>\n<table id=\"T_d53a8\">\n  <thead>\n    <tr>\n      <th class=\"blank level0\" >&nbsp;</th>\n      <th id=\"T_d53a8_level0_col0\" class=\"col_heading level0 col0\" >Agency</th>\n      <th id=\"T_d53a8_level0_col1\" class=\"col_heading level0 col1\" >Freeway Obligations</th>\n      <th id=\"T_d53a8_level0_col2\" class=\"col_heading level0 col2\" >Percent of Category</th>\n    </tr>\n  </thead>\n  <tbody>\n    <tr>\n      <th id=\"T_d53a8_level0_row0\" class=\"row_heading level0 row0\" >0</th>\n      <td id=\"T_d53a8_row0_col0\" class=\"data row0 col0\" >Caltrans</td>\n      <td id=\"T_d53a8_row0_col1\" class=\"data row0 col1\" >38</td>\n      <td id=\"T_d53a8_row0_col2\" class=\"data row0 col2\" >16.38%</td>\n    </tr>\n    <tr>\n      <th id=\"T_d53a8_level0_row1\" class=\"row_heading level0 row1\" >1</th>\n      <td id=\"T_d53a8_row1_col0\" class=\"data row1 col0\" >San Bernardino Associated Governments</td>\n      <td id=\"T_d53a8_row1_col1\" class=\"data row1 col1\" >19</td>\n      <td id=\"T_d53a8_row1_col2\" class=\"data row1 col2\" >8.19%</td>\n    </tr>\n    <tr>\n      <th id=\"T_d53a8_level0_row2\" class=\"row_heading level0 row2\" >2</th>\n      <td id=\"T_d53a8_row2_col0\" class=\"data row2 col0\" >Placer County Transportation Planning Agency</td>\n      <td id=\"T_d53a8_row2_col1\" class=\"data row2 col1\" >15</td>\n      <td id=\"T_d53a8_row2_col2\" class=\"data row2 col2\" >6.47%</td>\n    </tr>\n    <tr>\n      <th id=\"T_d53a8_level0_row3\" class=\"row_heading level0 row3\" >3</th>\n      <td id=\"T_d53a8_row3_col0\" class=\"data row3 col0\" >Orange County Transportation Authority</td>\n      <td id=\"T_d53a8_row3_col1\" class=\"data row3 col1\" >14</td>\n      <td id=\"T_d53a8_row3_col2\" class=\"data row3 col2\" >6.03%</td>\n    </tr>\n    <tr>\n      <th id=\"T_d53a8_level0_row4\" class=\"row_heading level0 row4\" >4</th>\n      <td id=\"T_d53a8_row4_col0\" class=\"data row4 col0\" >Bakersfield</td>\n      <td id=\"T_d53a8_row4_col1\" class=\"data row4 col1\" >13</td>\n      <td id=\"T_d53a8_row4_col2\" class=\"data row4 col2\" >5.60%</td>\n    </tr>\n  </tbody>\n</table>\n",
          "text/plain": "<pandas.io.formats.style.Styler at 0x7f605ea32f40>"
         },
         "metadata": {},
         "output_type": "display_data"
        },
        {
         "data": {
          "text/html": "\n<div id=\"altair-viz-d75e2c42133c4eb296ab32ecd986cdaa\"></div>\n<script type=\"text/javascript\">\n  var VEGA_DEBUG = (typeof VEGA_DEBUG == \"undefined\") ? {} : VEGA_DEBUG;\n  (function(spec, embedOpt){\n    let outputDiv = document.currentScript.previousElementSibling;\n    if (outputDiv.id !== \"altair-viz-d75e2c42133c4eb296ab32ecd986cdaa\") {\n      outputDiv = document.getElementById(\"altair-viz-d75e2c42133c4eb296ab32ecd986cdaa\");\n    }\n    const paths = {\n      \"vega\": \"https://cdn.jsdelivr.net/npm//vega@5?noext\",\n      \"vega-lib\": \"https://cdn.jsdelivr.net/npm//vega-lib?noext\",\n      \"vega-lite\": \"https://cdn.jsdelivr.net/npm//vega-lite@4.17.0?noext\",\n      \"vega-embed\": \"https://cdn.jsdelivr.net/npm//vega-embed@6?noext\",\n    };\n\n    function maybeLoadScript(lib, version) {\n      var key = `${lib.replace(\"-\", \"\")}_version`;\n      return (VEGA_DEBUG[key] == version) ?\n        Promise.resolve(paths[lib]) :\n        new Promise(function(resolve, reject) {\n          var s = document.createElement('script');\n          document.getElementsByTagName(\"head\")[0].appendChild(s);\n          s.async = true;\n          s.onload = () => {\n            VEGA_DEBUG[key] = version;\n            return resolve(paths[lib]);\n          };\n          s.onerror = () => reject(`Error loading script: ${paths[lib]}`);\n          s.src = paths[lib];\n        });\n    }\n\n    function showError(err) {\n      outputDiv.innerHTML = `<div class=\"error\" style=\"color:red;\">${err}</div>`;\n      throw err;\n    }\n\n    function displayChart(vegaEmbed) {\n      vegaEmbed(outputDiv, spec, embedOpt)\n        .catch(err => showError(`Javascript Error: ${err.message}<br>This usually means there's a typo in your chart specification. See the javascript console for the full traceback.`));\n    }\n\n    if(typeof define === \"function\" && define.amd) {\n      requirejs.config({paths});\n      require([\"vega-embed\"], displayChart, err => showError(`Error loading script: ${err.message}`));\n    } else {\n      maybeLoadScript(\"vega\", \"5\")\n        .then(() => maybeLoadScript(\"vega-lite\", \"4.17.0\"))\n        .then(() => maybeLoadScript(\"vega-embed\", \"6\"))\n        .catch(showError)\n        .then(() => displayChart(vegaEmbed));\n    }\n  })({\"config\": {\"view\": {\"continuousWidth\": 400, \"continuousHeight\": 300}}, \"data\": {\"name\": \"data-ab6b10d70c675a881ae353996260e247\"}, \"mark\": \"bar\", \"encoding\": {\"color\": {\"field\": \"Categories\", \"scale\": {\"range\": [\"#2EA8CE\", \"#EB9F3C\", \"#F4D837\", \"#51BF9D\", \"#8CBCCB\", \"#9487C0\"]}, \"type\": \"nominal\"}, \"row\": {\"field\": \"Categories\", \"type\": \"nominal\"}, \"tooltip\": [{\"field\": \"Agency\", \"type\": \"nominal\"}, {\"field\": \"Funding Amount\", \"type\": \"quantitative\"}], \"x\": {\"axis\": {\"format\": \"$.2s\", \"title\": \"Obligated Funding ($2021)\"}, \"field\": \"Funding Amount\", \"type\": \"quantitative\"}, \"y\": {\"field\": \"Agency\", \"type\": \"nominal\"}}, \"$schema\": \"https://vega.github.io/schema/vega-lite/v4.17.0.json\", \"datasets\": {\"data-ab6b10d70c675a881ae353996260e247\": [{\"Agency\": \"Caltrans\", \"Categories\": \"Total Requested\", \"Funding Amount\": 12519807.128780885}, {\"Agency\": \"San Bernardino Associated Governments\", \"Categories\": \"Total Requested\", \"Funding Amount\": 47431743.18522959}, {\"Agency\": \"Placer County Transportation Planning Agency\", \"Categories\": \"Total Requested\", \"Funding Amount\": 237094.8753356244}, {\"Agency\": \"Orange County Transportation Authority\", \"Categories\": \"Total Requested\", \"Funding Amount\": -15203685.128665438}, {\"Agency\": \"Bakersfield\", \"Categories\": \"Total Requested\", \"Funding Amount\": 9091334.582296444}, {\"Agency\": \"Caltrans\", \"Categories\": \"Fed Requested\", \"Funding Amount\": 2059775.4938274168}, {\"Agency\": \"San Bernardino Associated Governments\", \"Categories\": \"Fed Requested\", \"Funding Amount\": 12219928.220537668}, {\"Agency\": \"Placer County Transportation Planning Agency\", \"Categories\": \"Fed Requested\", \"Funding Amount\": 52213.419553959095}, {\"Agency\": \"Orange County Transportation Authority\", \"Categories\": \"Fed Requested\", \"Funding Amount\": 21944394.24301589}, {\"Agency\": \"Bakersfield\", \"Categories\": \"Fed Requested\", \"Funding Amount\": 4817598.376437968}, {\"Agency\": \"Caltrans\", \"Categories\": \"AC Requested\", \"Funding Amount\": 6034343.271956215}, {\"Agency\": \"San Bernardino Associated Governments\", \"Categories\": \"AC Requested\", \"Funding Amount\": 856633.5199718946}, {\"Agency\": \"Placer County Transportation Planning Agency\", \"Categories\": \"AC Requested\", \"Funding Amount\": 0.0}, {\"Agency\": \"Orange County Transportation Authority\", \"Categories\": \"AC Requested\", \"Funding Amount\": 0.0}, {\"Agency\": \"Bakersfield\", \"Categories\": \"AC Requested\", \"Funding Amount\": 0.0}]}}, {\"mode\": \"vega-lite\"});\n</script>",
          "text/plain": "alt.Chart(...)"
         },
         "metadata": {},
         "output_type": "display_data"
        }
       ]
      }
     },
     "c65a5ca787df4cd9a69d552cfb111b79": {
      "model_module": "@jupyter-widgets/controls",
      "model_module_version": "1.5.0",
      "model_name": "DescriptionStyleModel",
      "state": {
       "description_width": ""
      }
     },
     "c6eeb5238efb4efeb3dba0d6eb09305c": {
      "model_module": "@jupyter-widgets/controls",
      "model_module_version": "1.5.0",
      "model_name": "TabModel",
      "state": {
       "_titles": {
        "0": "Active Transportation",
        "1": "Transit",
        "2": "Bridge",
        "3": "Street",
        "4": "Freeway",
        "5": "Infrastructure & Emergency Relief",
        "6": "Congestion Relief"
       },
       "children": [
        "IPY_MODEL_3c832ec3b13146d9b34886e98fc46f78",
        "IPY_MODEL_4dc6876963ab46768da30edcdfb856be",
        "IPY_MODEL_6de69c8b5199447e81832ee82a7716ee",
        "IPY_MODEL_f2a7628c09874b1ba7311ff220e96117",
        "IPY_MODEL_27f822e054f642d7b26aaad66082d10c",
        "IPY_MODEL_113dc2c5438e4ea3853bcc771a2abe0c",
        "IPY_MODEL_451fe73895b24a0cba5595c3f73efcdd"
       ],
       "layout": "IPY_MODEL_56305d7b2a0b4026b4b6bb1ae4bd74fd",
       "selected_index": 2
      }
     },
     "c7a8ce478f474ccda41c558ceebf87de": {
      "model_module": "@jupyter-widgets/controls",
      "model_module_version": "1.5.0",
      "model_name": "HTMLModel",
      "state": {
       "layout": "IPY_MODEL_f237fb9bd7c2475d8abfc899e189e8de",
       "style": "IPY_MODEL_bc694032f9604d358d2005c8cd8d53d8",
       "value": "<strong>Top Agencies using Bridge Projects</strong>"
      }
     },
     "c7b4329b5baf403facaa7ef43506e165": {
      "model_module": "@jupyter-widgets/base",
      "model_module_version": "1.2.0",
      "model_name": "LayoutModel",
      "state": {}
     },
     "c846a33c200e43d1ace4a20e9cf635aa": {
      "model_module": "@jupyter-widgets/controls",
      "model_module_version": "1.5.0",
      "model_name": "HTMLModel",
      "state": {
       "layout": "IPY_MODEL_ddd8b117fc7f46d0bbfbf823cfd753ef",
       "style": "IPY_MODEL_06859c648642423489a0f764d3bb5bf2",
       "value": "<strong>Top Agencies using Active Transportation Projects</strong>"
      }
     },
     "c8aea11527424469b7b62f5cba671eaf": {
      "model_module": "@jupyter-widgets/controls",
      "model_module_version": "1.5.0",
      "model_name": "HTMLModel",
      "state": {
       "layout": "IPY_MODEL_190498db4cbd4683ae8884f5a0c81335",
       "style": "IPY_MODEL_488eac23d904407ea009e85f7886adfd",
       "value": "<strong>Top Agencies using Infrastructure & Emergency Relief Projects</strong>"
      }
     },
     "c8c6cb16a28a48f5928d799d80e91896": {
      "model_module": "@jupyter-widgets/controls",
      "model_module_version": "1.5.0",
      "model_name": "HTMLModel",
      "state": {
       "layout": "IPY_MODEL_4bf93007263a423682a57f5bd4c5e3c9",
       "style": "IPY_MODEL_8b5a0871f03840768951c3d5a79ffab5",
       "value": "<strong>Top Agencies using Active Transportation Projects</strong>"
      }
     },
     "c8e75df87b604db6a4f3c76e1c908a20": {
      "model_module": "@jupyter-widgets/base",
      "model_module_version": "1.2.0",
      "model_name": "LayoutModel",
      "state": {}
     },
     "c90b33adad444cb9b0207bf017fbbd0c": {
      "model_module": "@jupyter-widgets/controls",
      "model_module_version": "1.5.0",
      "model_name": "DescriptionStyleModel",
      "state": {
       "description_width": ""
      }
     },
     "c984660641a54f0398a8bf200b561ffa": {
      "model_module": "@jupyter-widgets/base",
      "model_module_version": "1.2.0",
      "model_name": "LayoutModel",
      "state": {}
     },
     "c9e3de68cf154ff9803a9714d396b7e2": {
      "model_module": "@jupyter-widgets/base",
      "model_module_version": "1.2.0",
      "model_name": "LayoutModel",
      "state": {}
     },
     "ca38f58f34fe40a98b70ac29025f7f92": {
      "model_module": "@jupyter-widgets/base",
      "model_module_version": "1.2.0",
      "model_name": "LayoutModel",
      "state": {}
     },
     "ca487009ddb54e9b937bc725cca55c56": {
      "model_module": "@jupyter-widgets/controls",
      "model_module_version": "1.5.0",
      "model_name": "HTMLModel",
      "state": {
       "layout": "IPY_MODEL_b5c0e61cb33747bd8b4b6f6344a14150",
       "style": "IPY_MODEL_ba26183ef38f4ef2abc6e49783c1afb9",
       "value": "<strong>Top Agencies using Transit Projects</strong>"
      }
     },
     "cb31282196304dfbb634227e32abe08f": {
      "model_module": "@jupyter-widgets/base",
      "model_module_version": "1.2.0",
      "model_name": "LayoutModel",
      "state": {}
     },
     "cbdbeb071e7f4fe1b79bde70197873a5": {
      "model_module": "@jupyter-widgets/base",
      "model_module_version": "1.2.0",
      "model_name": "LayoutModel",
      "state": {}
     },
     "cc1598f40c44498dbb38f2c252501d30": {
      "model_module": "@jupyter-widgets/base",
      "model_module_version": "1.2.0",
      "model_name": "LayoutModel",
      "state": {}
     },
     "cc6e913396d441688aae9988e2d3fb25": {
      "model_module": "@jupyter-widgets/controls",
      "model_module_version": "1.5.0",
      "model_name": "HTMLModel",
      "state": {
       "layout": "IPY_MODEL_0eba3f0194804f03ac5a0b62d968c61c",
       "style": "IPY_MODEL_dd7ffd31de5b4e478f6c7399ff7788e2",
       "value": "<strong>Top Agencies using Freeway Projects</strong>"
      }
     },
     "cdae03e891224757b7203e3081d9b83e": {
      "model_module": "@jupyter-widgets/base",
      "model_module_version": "1.2.0",
      "model_name": "LayoutModel",
      "state": {}
     },
     "cde0a12c418547b4ae6c24c5ade195e0": {
      "model_module": "@jupyter-widgets/base",
      "model_module_version": "1.2.0",
      "model_name": "LayoutModel",
      "state": {}
     },
     "cdfd590bfb3c4f3aaa510de3893910b2": {
      "model_module": "@jupyter-widgets/base",
      "model_module_version": "1.2.0",
      "model_name": "LayoutModel",
      "state": {}
     },
     "ce0c27121fa34247a1dc580115a26347": {
      "model_module": "@jupyter-widgets/base",
      "model_module_version": "1.2.0",
      "model_name": "LayoutModel",
      "state": {}
     },
     "ce2b816b3af84e95b4667cdad2e48c86": {
      "model_module": "@jupyter-widgets/controls",
      "model_module_version": "1.5.0",
      "model_name": "DescriptionStyleModel",
      "state": {
       "description_width": ""
      }
     },
     "ce3ab46874694c529eac566ab35777ce": {
      "model_module": "@jupyter-widgets/base",
      "model_module_version": "1.2.0",
      "model_name": "LayoutModel",
      "state": {}
     },
     "ce83dd3fa08f4867808e0ee9c94bb89e": {
      "model_module": "@jupyter-widgets/controls",
      "model_module_version": "1.5.0",
      "model_name": "DescriptionStyleModel",
      "state": {
       "description_width": ""
      }
     },
     "cf0d42e3be3f4b87bffeeb461aaa690c": {
      "model_module": "@jupyter-widgets/controls",
      "model_module_version": "1.5.0",
      "model_name": "DescriptionStyleModel",
      "state": {
       "description_width": ""
      }
     },
     "cf65b886c80f4cfc971cb39369f3b946": {
      "model_module": "@jupyter-widgets/controls",
      "model_module_version": "1.5.0",
      "model_name": "TextModel",
      "state": {
       "description": "active_transp",
       "layout": "IPY_MODEL_00313cc619d8479b832f967affb00002",
       "style": "IPY_MODEL_c3fda5661bf94b109d7364ca47ee6903"
      }
     },
     "cf908dd62016444ab840399256fe81c2": {
      "model_module": "@jupyter-widgets/controls",
      "model_module_version": "1.5.0",
      "model_name": "DescriptionStyleModel",
      "state": {
       "description_width": ""
      }
     },
     "cffd2984c2ac4713a50d477ad328afed": {
      "model_module": "@jupyter-widgets/base",
      "model_module_version": "1.2.0",
      "model_name": "LayoutModel",
      "state": {}
     },
     "d0414eab45dc434f98c7766009b41ece": {
      "model_module": "@jupyter-widgets/base",
      "model_module_version": "1.2.0",
      "model_name": "LayoutModel",
      "state": {}
     },
     "d138ad835d7941188da63df4b75300d6": {
      "model_module": "@jupyter-widgets/controls",
      "model_module_version": "1.5.0",
      "model_name": "HTMLModel",
      "state": {
       "layout": "IPY_MODEL_aa77858fd5754111b1beaafe66686997",
       "style": "IPY_MODEL_cf908dd62016444ab840399256fe81c2",
       "value": "<strong>Top Agencies using Transit Projects</strong>"
      }
     },
     "d2cd171f57744cdea95fda8fc6914021": {
      "model_module": "@jupyter-widgets/base",
      "model_module_version": "1.2.0",
      "model_name": "LayoutModel",
      "state": {}
     },
     "d52a779f01f64d20b720176bd9a0037c": {
      "model_module": "@jupyter-widgets/output",
      "model_module_version": "1.0.0",
      "model_name": "OutputModel",
      "state": {
       "layout": "IPY_MODEL_d2cd171f57744cdea95fda8fc6914021",
       "outputs": [
        {
         "data": {
          "application/vnd.jupyter.widget-view+json": {
           "model_id": "",
           "version_major": 2,
           "version_minor": 0
          },
          "text/plain": "HTML(value='<strong>Top Agencies using Street Projects</strong>')"
         },
         "metadata": {},
         "output_type": "display_data"
        },
        {
         "data": {
          "text/html": "<style type=\"text/css\">\n</style>\n<table id=\"T_b56da\">\n  <thead>\n    <tr>\n      <th class=\"blank level0\" >&nbsp;</th>\n      <th id=\"T_b56da_level0_col0\" class=\"col_heading level0 col0\" >Agency</th>\n      <th id=\"T_b56da_level0_col1\" class=\"col_heading level0 col1\" >Street Obligations</th>\n      <th id=\"T_b56da_level0_col2\" class=\"col_heading level0 col2\" >Percent of Category</th>\n    </tr>\n  </thead>\n  <tbody>\n    <tr>\n      <th id=\"T_b56da_level0_row0\" class=\"row_heading level0 row0\" >0</th>\n      <td id=\"T_b56da_row0_col0\" class=\"data row0 col0\" >Santa Cruz County</td>\n      <td id=\"T_b56da_row0_col1\" class=\"data row0 col1\" >303</td>\n      <td id=\"T_b56da_row0_col2\" class=\"data row0 col2\" >54.89%</td>\n    </tr>\n    <tr>\n      <th id=\"T_b56da_level0_row1\" class=\"row_heading level0 row1\" >1</th>\n      <td id=\"T_b56da_row1_col0\" class=\"data row1 col0\" >Santa Barbara County</td>\n      <td id=\"T_b56da_row1_col1\" class=\"data row1 col1\" >39</td>\n      <td id=\"T_b56da_row1_col2\" class=\"data row1 col2\" >7.07%</td>\n    </tr>\n    <tr>\n      <th id=\"T_b56da_level0_row2\" class=\"row_heading level0 row2\" >2</th>\n      <td id=\"T_b56da_row2_col0\" class=\"data row2 col0\" >San Luis Obispo County</td>\n      <td id=\"T_b56da_row2_col1\" class=\"data row2 col1\" >32</td>\n      <td id=\"T_b56da_row2_col2\" class=\"data row2 col2\" >5.80%</td>\n    </tr>\n    <tr>\n      <th id=\"T_b56da_level0_row3\" class=\"row_heading level0 row3\" >3</th>\n      <td id=\"T_b56da_row3_col0\" class=\"data row3 col0\" >Santa Barbara</td>\n      <td id=\"T_b56da_row3_col1\" class=\"data row3 col1\" >27</td>\n      <td id=\"T_b56da_row3_col2\" class=\"data row3 col2\" >4.89%</td>\n    </tr>\n    <tr>\n      <th id=\"T_b56da_level0_row4\" class=\"row_heading level0 row4\" >4</th>\n      <td id=\"T_b56da_row4_col0\" class=\"data row4 col0\" >Salinas</td>\n      <td id=\"T_b56da_row4_col1\" class=\"data row4 col1\" >22</td>\n      <td id=\"T_b56da_row4_col2\" class=\"data row4 col2\" >3.99%</td>\n    </tr>\n  </tbody>\n</table>\n",
          "text/plain": "<pandas.io.formats.style.Styler at 0x7f605dfe47f0>"
         },
         "metadata": {},
         "output_type": "display_data"
        },
        {
         "data": {
          "text/html": "\n<div id=\"altair-viz-4027ea7be87a4947a747ea80faf25e52\"></div>\n<script type=\"text/javascript\">\n  var VEGA_DEBUG = (typeof VEGA_DEBUG == \"undefined\") ? {} : VEGA_DEBUG;\n  (function(spec, embedOpt){\n    let outputDiv = document.currentScript.previousElementSibling;\n    if (outputDiv.id !== \"altair-viz-4027ea7be87a4947a747ea80faf25e52\") {\n      outputDiv = document.getElementById(\"altair-viz-4027ea7be87a4947a747ea80faf25e52\");\n    }\n    const paths = {\n      \"vega\": \"https://cdn.jsdelivr.net/npm//vega@5?noext\",\n      \"vega-lib\": \"https://cdn.jsdelivr.net/npm//vega-lib?noext\",\n      \"vega-lite\": \"https://cdn.jsdelivr.net/npm//vega-lite@4.17.0?noext\",\n      \"vega-embed\": \"https://cdn.jsdelivr.net/npm//vega-embed@6?noext\",\n    };\n\n    function maybeLoadScript(lib, version) {\n      var key = `${lib.replace(\"-\", \"\")}_version`;\n      return (VEGA_DEBUG[key] == version) ?\n        Promise.resolve(paths[lib]) :\n        new Promise(function(resolve, reject) {\n          var s = document.createElement('script');\n          document.getElementsByTagName(\"head\")[0].appendChild(s);\n          s.async = true;\n          s.onload = () => {\n            VEGA_DEBUG[key] = version;\n            return resolve(paths[lib]);\n          };\n          s.onerror = () => reject(`Error loading script: ${paths[lib]}`);\n          s.src = paths[lib];\n        });\n    }\n\n    function showError(err) {\n      outputDiv.innerHTML = `<div class=\"error\" style=\"color:red;\">${err}</div>`;\n      throw err;\n    }\n\n    function displayChart(vegaEmbed) {\n      vegaEmbed(outputDiv, spec, embedOpt)\n        .catch(err => showError(`Javascript Error: ${err.message}<br>This usually means there's a typo in your chart specification. See the javascript console for the full traceback.`));\n    }\n\n    if(typeof define === \"function\" && define.amd) {\n      requirejs.config({paths});\n      require([\"vega-embed\"], displayChart, err => showError(`Error loading script: ${err.message}`));\n    } else {\n      maybeLoadScript(\"vega\", \"5\")\n        .then(() => maybeLoadScript(\"vega-lite\", \"4.17.0\"))\n        .then(() => maybeLoadScript(\"vega-embed\", \"6\"))\n        .catch(showError)\n        .then(() => displayChart(vegaEmbed));\n    }\n  })({\"config\": {\"view\": {\"continuousWidth\": 400, \"continuousHeight\": 300}}, \"data\": {\"name\": \"data-1c2452cd2c2af017bf8b129ee2f5f432\"}, \"mark\": \"bar\", \"encoding\": {\"color\": {\"field\": \"Categories\", \"scale\": {\"range\": [\"#2EA8CE\", \"#EB9F3C\", \"#F4D837\", \"#51BF9D\", \"#8CBCCB\", \"#9487C0\"]}, \"type\": \"nominal\"}, \"row\": {\"field\": \"Categories\", \"type\": \"nominal\"}, \"tooltip\": [{\"field\": \"Agency\", \"type\": \"nominal\"}, {\"field\": \"Funding Amount\", \"type\": \"quantitative\"}], \"x\": {\"axis\": {\"format\": \"$.2s\", \"title\": \"Obligated Funding ($2021)\"}, \"field\": \"Funding Amount\", \"type\": \"quantitative\"}, \"y\": {\"field\": \"Agency\", \"type\": \"nominal\"}}, \"$schema\": \"https://vega.github.io/schema/vega-lite/v4.17.0.json\", \"datasets\": {\"data-1c2452cd2c2af017bf8b129ee2f5f432\": [{\"Agency\": \"Santa Cruz County\", \"Categories\": \"Total Requested\", \"Funding Amount\": 148572.7311544984}, {\"Agency\": \"Santa Barbara County\", \"Categories\": \"Total Requested\", \"Funding Amount\": 99909.10674032}, {\"Agency\": \"San Luis Obispo County\", \"Categories\": \"Total Requested\", \"Funding Amount\": 197303.89623887447}, {\"Agency\": \"Santa Barbara\", \"Categories\": \"Total Requested\", \"Funding Amount\": 329769.5870761395}, {\"Agency\": \"Salinas\", \"Categories\": \"Total Requested\", \"Funding Amount\": 1132329.3481254166}, {\"Agency\": \"Santa Cruz County\", \"Categories\": \"Fed Requested\", \"Funding Amount\": 157435.28622496795}, {\"Agency\": \"Santa Barbara County\", \"Categories\": \"Fed Requested\", \"Funding Amount\": 59199.81527727103}, {\"Agency\": \"San Luis Obispo County\", \"Categories\": \"Fed Requested\", \"Funding Amount\": 171934.53931965973}, {\"Agency\": \"Santa Barbara\", \"Categories\": \"Fed Requested\", \"Funding Amount\": 257756.69028281898}, {\"Agency\": \"Salinas\", \"Categories\": \"Fed Requested\", \"Funding Amount\": 583243.1685700641}, {\"Agency\": \"Santa Cruz County\", \"Categories\": \"AC Requested\", \"Funding Amount\": -24794.85554384955}, {\"Agency\": \"Santa Barbara County\", \"Categories\": \"AC Requested\", \"Funding Amount\": -307.69138037936256}, {\"Agency\": \"San Luis Obispo County\", \"Categories\": \"AC Requested\", \"Funding Amount\": 22.296301213806146}, {\"Agency\": \"Santa Barbara\", \"Categories\": \"AC Requested\", \"Funding Amount\": 0.0}, {\"Agency\": \"Salinas\", \"Categories\": \"AC Requested\", \"Funding Amount\": 0.0}]}}, {\"mode\": \"vega-lite\"});\n</script>",
          "text/plain": "alt.Chart(...)"
         },
         "metadata": {},
         "output_type": "display_data"
        }
       ]
      }
     },
     "d5a0bbda74934246b15cc0817aa04174": {
      "model_module": "@jupyter-widgets/controls",
      "model_module_version": "1.5.0",
      "model_name": "DescriptionStyleModel",
      "state": {
       "description_width": ""
      }
     },
     "d5adea48977e4ff7b73bf2e95dbc0bfc": {
      "model_module": "@jupyter-widgets/base",
      "model_module_version": "1.2.0",
      "model_name": "LayoutModel",
      "state": {}
     },
     "d6ab9a8af016431c852a131e62be66ce": {
      "model_module": "@jupyter-widgets/output",
      "model_module_version": "1.0.0",
      "model_name": "OutputModel",
      "state": {
       "layout": "IPY_MODEL_bdf816532c41461e83d364b6533549ae",
       "outputs": [
        {
         "data": {
          "application/vnd.jupyter.widget-view+json": {
           "model_id": "",
           "version_major": 2,
           "version_minor": 0
          },
          "text/plain": "HTML(value='<strong>Top Agencies using Transit Projects</strong>')"
         },
         "metadata": {},
         "output_type": "display_data"
        },
        {
         "data": {
          "text/html": "<style type=\"text/css\">\n</style>\n<table id=\"T_c80f7\">\n  <thead>\n    <tr>\n      <th class=\"blank level0\" >&nbsp;</th>\n      <th id=\"T_c80f7_level0_col0\" class=\"col_heading level0 col0\" >Agency</th>\n      <th id=\"T_c80f7_level0_col1\" class=\"col_heading level0 col1\" >Transit Obligations</th>\n      <th id=\"T_c80f7_level0_col2\" class=\"col_heading level0 col2\" >Percent of Category</th>\n    </tr>\n  </thead>\n  <tbody>\n    <tr>\n      <th id=\"T_c80f7_level0_row0\" class=\"row_heading level0 row0\" >0</th>\n      <td id=\"T_c80f7_row0_col0\" class=\"data row0 col0\" >Los Angeles</td>\n      <td id=\"T_c80f7_row0_col1\" class=\"data row0 col1\" >35</td>\n      <td id=\"T_c80f7_row0_col2\" class=\"data row0 col2\" >11.08%</td>\n    </tr>\n    <tr>\n      <th id=\"T_c80f7_level0_row1\" class=\"row_heading level0 row1\" >1</th>\n      <td id=\"T_c80f7_row1_col0\" class=\"data row1 col0\" >Metropolitan Transportation Commission</td>\n      <td id=\"T_c80f7_row1_col1\" class=\"data row1 col1\" >18</td>\n      <td id=\"T_c80f7_row1_col2\" class=\"data row1 col2\" >5.70%</td>\n    </tr>\n    <tr>\n      <th id=\"T_c80f7_level0_row2\" class=\"row_heading level0 row2\" >2</th>\n      <td id=\"T_c80f7_row2_col0\" class=\"data row2 col0\" >Stanislaus County</td>\n      <td id=\"T_c80f7_row2_col1\" class=\"data row2 col1\" >17</td>\n      <td id=\"T_c80f7_row2_col2\" class=\"data row2 col2\" >5.38%</td>\n    </tr>\n    <tr>\n      <th id=\"T_c80f7_level0_row3\" class=\"row_heading level0 row3\" >3</th>\n      <td id=\"T_c80f7_row3_col0\" class=\"data row3 col0\" >Stockton</td>\n      <td id=\"T_c80f7_row3_col1\" class=\"data row3 col1\" >14</td>\n      <td id=\"T_c80f7_row3_col2\" class=\"data row3 col2\" >4.43%</td>\n    </tr>\n    <tr>\n      <th id=\"T_c80f7_level0_row4\" class=\"row_heading level0 row4\" >4</th>\n      <td id=\"T_c80f7_row4_col0\" class=\"data row4 col0\" >Yosemite Area Regional Transportation System JPA</td>\n      <td id=\"T_c80f7_row4_col1\" class=\"data row4 col1\" >14</td>\n      <td id=\"T_c80f7_row4_col2\" class=\"data row4 col2\" >4.43%</td>\n    </tr>\n  </tbody>\n</table>\n",
          "text/plain": "<pandas.io.formats.style.Styler at 0x7f605e890760>"
         },
         "metadata": {},
         "output_type": "display_data"
        },
        {
         "data": {
          "text/html": "\n<div id=\"altair-viz-79d6205951974de9950c84b2c051401d\"></div>\n<script type=\"text/javascript\">\n  var VEGA_DEBUG = (typeof VEGA_DEBUG == \"undefined\") ? {} : VEGA_DEBUG;\n  (function(spec, embedOpt){\n    let outputDiv = document.currentScript.previousElementSibling;\n    if (outputDiv.id !== \"altair-viz-79d6205951974de9950c84b2c051401d\") {\n      outputDiv = document.getElementById(\"altair-viz-79d6205951974de9950c84b2c051401d\");\n    }\n    const paths = {\n      \"vega\": \"https://cdn.jsdelivr.net/npm//vega@5?noext\",\n      \"vega-lib\": \"https://cdn.jsdelivr.net/npm//vega-lib?noext\",\n      \"vega-lite\": \"https://cdn.jsdelivr.net/npm//vega-lite@4.17.0?noext\",\n      \"vega-embed\": \"https://cdn.jsdelivr.net/npm//vega-embed@6?noext\",\n    };\n\n    function maybeLoadScript(lib, version) {\n      var key = `${lib.replace(\"-\", \"\")}_version`;\n      return (VEGA_DEBUG[key] == version) ?\n        Promise.resolve(paths[lib]) :\n        new Promise(function(resolve, reject) {\n          var s = document.createElement('script');\n          document.getElementsByTagName(\"head\")[0].appendChild(s);\n          s.async = true;\n          s.onload = () => {\n            VEGA_DEBUG[key] = version;\n            return resolve(paths[lib]);\n          };\n          s.onerror = () => reject(`Error loading script: ${paths[lib]}`);\n          s.src = paths[lib];\n        });\n    }\n\n    function showError(err) {\n      outputDiv.innerHTML = `<div class=\"error\" style=\"color:red;\">${err}</div>`;\n      throw err;\n    }\n\n    function displayChart(vegaEmbed) {\n      vegaEmbed(outputDiv, spec, embedOpt)\n        .catch(err => showError(`Javascript Error: ${err.message}<br>This usually means there's a typo in your chart specification. See the javascript console for the full traceback.`));\n    }\n\n    if(typeof define === \"function\" && define.amd) {\n      requirejs.config({paths});\n      require([\"vega-embed\"], displayChart, err => showError(`Error loading script: ${err.message}`));\n    } else {\n      maybeLoadScript(\"vega\", \"5\")\n        .then(() => maybeLoadScript(\"vega-lite\", \"4.17.0\"))\n        .then(() => maybeLoadScript(\"vega-embed\", \"6\"))\n        .catch(showError)\n        .then(() => displayChart(vegaEmbed));\n    }\n  })({\"config\": {\"view\": {\"continuousWidth\": 400, \"continuousHeight\": 300}}, \"data\": {\"name\": \"data-fccd94bd8da9edd1aa36ff8f58d8fdbc\"}, \"mark\": \"bar\", \"encoding\": {\"color\": {\"field\": \"Categories\", \"scale\": {\"range\": [\"#2EA8CE\", \"#EB9F3C\", \"#F4D837\", \"#51BF9D\", \"#8CBCCB\", \"#9487C0\"]}, \"type\": \"nominal\"}, \"row\": {\"field\": \"Categories\", \"type\": \"nominal\"}, \"tooltip\": [{\"field\": \"Agency\", \"type\": \"nominal\"}, {\"field\": \"Funding Amount\", \"type\": \"quantitative\"}], \"x\": {\"axis\": {\"format\": \"$.2s\", \"title\": \"Obligated Funding ($2021)\"}, \"field\": \"Funding Amount\", \"type\": \"quantitative\"}, \"y\": {\"field\": \"Agency\", \"type\": \"nominal\"}}, \"$schema\": \"https://vega.github.io/schema/vega-lite/v4.17.0.json\", \"datasets\": {\"data-fccd94bd8da9edd1aa36ff8f58d8fdbc\": [{\"Agency\": \"Los Angeles\", \"Categories\": \"Total Requested\", \"Funding Amount\": 355615.2802215591}, {\"Agency\": \"Metropolitan Transportation Commission\", \"Categories\": \"Total Requested\", \"Funding Amount\": 1891120.7657899645}, {\"Agency\": \"Stanislaus County\", \"Categories\": \"Total Requested\", \"Funding Amount\": 114830.49199421205}, {\"Agency\": \"Stockton\", \"Categories\": \"Total Requested\", \"Funding Amount\": 569718.0125282741}, {\"Agency\": \"Yosemite Area Regional Transportation System JPA\", \"Categories\": \"Total Requested\", \"Funding Amount\": 52833.955958112674}, {\"Agency\": \"Los Angeles\", \"Categories\": \"Fed Requested\", \"Funding Amount\": 250782.7923294444}, {\"Agency\": \"Metropolitan Transportation Commission\", \"Categories\": \"Fed Requested\", \"Funding Amount\": 1879749.0219219865}, {\"Agency\": \"Stanislaus County\", \"Categories\": \"Fed Requested\", \"Funding Amount\": 102104.27924110125}, {\"Agency\": \"Stockton\", \"Categories\": \"Fed Requested\", \"Funding Amount\": 487210.1448278926}, {\"Agency\": \"Yosemite Area Regional Transportation System JPA\", \"Categories\": \"Fed Requested\", \"Funding Amount\": 52833.955958112674}, {\"Agency\": \"Los Angeles\", \"Categories\": \"AC Requested\", \"Funding Amount\": 0.0}, {\"Agency\": \"Metropolitan Transportation Commission\", \"Categories\": \"AC Requested\", \"Funding Amount\": 0.0}, {\"Agency\": \"Stanislaus County\", \"Categories\": \"AC Requested\", \"Funding Amount\": 0.0}, {\"Agency\": \"Stockton\", \"Categories\": \"AC Requested\", \"Funding Amount\": 0.0}, {\"Agency\": \"Yosemite Area Regional Transportation System JPA\", \"Categories\": \"AC Requested\", \"Funding Amount\": 0.0}]}}, {\"mode\": \"vega-lite\"});\n</script>",
          "text/plain": "alt.Chart(...)"
         },
         "metadata": {},
         "output_type": "display_data"
        }
       ]
      }
     },
     "d8d5737966464b4baf5f0a0b413a21a0": {
      "model_module": "@jupyter-widgets/controls",
      "model_module_version": "1.5.0",
      "model_name": "HTMLModel",
      "state": {
       "layout": "IPY_MODEL_163840063fac490a9c7e606a22a49754",
       "style": "IPY_MODEL_fd01e2b4796d4fde9e893c57a82bcc4c",
       "value": "<strong>Top Agencies using Freeway Projects</strong>"
      }
     },
     "da8c07b26fe84e92ab6784907a390a01": {
      "model_module": "@jupyter-widgets/controls",
      "model_module_version": "1.5.0",
      "model_name": "DescriptionStyleModel",
      "state": {
       "description_width": ""
      }
     },
     "dab895ece7084564a53dcbb4b25f8bb7": {
      "model_module": "@jupyter-widgets/controls",
      "model_module_version": "1.5.0",
      "model_name": "DescriptionStyleModel",
      "state": {
       "description_width": ""
      }
     },
     "dc7da3312b48471eaacb59357e1301f5": {
      "model_module": "@jupyter-widgets/controls",
      "model_module_version": "1.5.0",
      "model_name": "DescriptionStyleModel",
      "state": {
       "description_width": ""
      }
     },
     "dcc63ec926e14824980cdfe9e74bb716": {
      "model_module": "@jupyter-widgets/base",
      "model_module_version": "1.2.0",
      "model_name": "LayoutModel",
      "state": {}
     },
     "dcd5b20db81f43228c0d75e823f73dfa": {
      "model_module": "@jupyter-widgets/base",
      "model_module_version": "1.2.0",
      "model_name": "LayoutModel",
      "state": {}
     },
     "dd7ffd31de5b4e478f6c7399ff7788e2": {
      "model_module": "@jupyter-widgets/controls",
      "model_module_version": "1.5.0",
      "model_name": "DescriptionStyleModel",
      "state": {
       "description_width": ""
      }
     },
     "ddd8b117fc7f46d0bbfbf823cfd753ef": {
      "model_module": "@jupyter-widgets/base",
      "model_module_version": "1.2.0",
      "model_name": "LayoutModel",
      "state": {}
     },
     "dde35da6bd90424fbed1478957438b2a": {
      "model_module": "@jupyter-widgets/base",
      "model_module_version": "1.2.0",
      "model_name": "LayoutModel",
      "state": {}
     },
     "ddf3bd7150eb4fdcb85cc1583604a60b": {
      "model_module": "@jupyter-widgets/output",
      "model_module_version": "1.0.0",
      "model_name": "OutputModel",
      "state": {
       "layout": "IPY_MODEL_47f2433f8ca94279b927f84356e96632",
       "outputs": [
        {
         "data": {
          "application/vnd.jupyter.widget-view+json": {
           "model_id": "",
           "version_major": 2,
           "version_minor": 0
          },
          "text/plain": "HTML(value='<strong>Top Agencies using Freeway Projects</strong>')"
         },
         "metadata": {},
         "output_type": "display_data"
        },
        {
         "data": {
          "text/html": "<style type=\"text/css\">\n</style>\n<table id=\"T_f13b9\">\n  <thead>\n    <tr>\n      <th class=\"blank level0\" >&nbsp;</th>\n      <th id=\"T_f13b9_level0_col0\" class=\"col_heading level0 col0\" >Agency</th>\n      <th id=\"T_f13b9_level0_col1\" class=\"col_heading level0 col1\" >Freeway Obligations</th>\n      <th id=\"T_f13b9_level0_col2\" class=\"col_heading level0 col2\" >Percent of Category</th>\n    </tr>\n  </thead>\n  <tbody>\n    <tr>\n      <th id=\"T_f13b9_level0_row0\" class=\"row_heading level0 row0\" >0</th>\n      <td id=\"T_f13b9_row0_col0\" class=\"data row0 col0\" >Metropolitan Transportation Commission</td>\n      <td id=\"T_f13b9_row0_col1\" class=\"data row0 col1\" >11</td>\n      <td id=\"T_f13b9_row0_col2\" class=\"data row0 col2\" >28.21%</td>\n    </tr>\n    <tr>\n      <th id=\"T_f13b9_level0_row1\" class=\"row_heading level0 row1\" >1</th>\n      <td id=\"T_f13b9_row1_col0\" class=\"data row1 col0\" >Contra Costa County</td>\n      <td id=\"T_f13b9_row1_col1\" class=\"data row1 col1\" >7</td>\n      <td id=\"T_f13b9_row1_col2\" class=\"data row1 col2\" >17.95%</td>\n    </tr>\n    <tr>\n      <th id=\"T_f13b9_level0_row2\" class=\"row_heading level0 row2\" >2</th>\n      <td id=\"T_f13b9_row2_col0\" class=\"data row2 col0\" >Caltrans</td>\n      <td id=\"T_f13b9_row2_col1\" class=\"data row2 col1\" >4</td>\n      <td id=\"T_f13b9_row2_col2\" class=\"data row2 col2\" >10.26%</td>\n    </tr>\n    <tr>\n      <th id=\"T_f13b9_level0_row3\" class=\"row_heading level0 row3\" >3</th>\n      <td id=\"T_f13b9_row3_col0\" class=\"data row3 col0\" >Metropolitan Transportation Commission - SAFE</td>\n      <td id=\"T_f13b9_row3_col1\" class=\"data row3 col1\" >3</td>\n      <td id=\"T_f13b9_row3_col2\" class=\"data row3 col2\" >7.69%</td>\n    </tr>\n    <tr>\n      <th id=\"T_f13b9_level0_row4\" class=\"row_heading level0 row4\" >4</th>\n      <td id=\"T_f13b9_row4_col0\" class=\"data row4 col0\" >Alameda County Congestion Management Agency</td>\n      <td id=\"T_f13b9_row4_col1\" class=\"data row4 col1\" >2</td>\n      <td id=\"T_f13b9_row4_col2\" class=\"data row4 col2\" >5.13%</td>\n    </tr>\n  </tbody>\n</table>\n",
          "text/plain": "<pandas.io.formats.style.Styler at 0x7f605d039ee0>"
         },
         "metadata": {},
         "output_type": "display_data"
        },
        {
         "data": {
          "text/html": "\n<div id=\"altair-viz-c669ee23006747aa968666524da9f0d6\"></div>\n<script type=\"text/javascript\">\n  var VEGA_DEBUG = (typeof VEGA_DEBUG == \"undefined\") ? {} : VEGA_DEBUG;\n  (function(spec, embedOpt){\n    let outputDiv = document.currentScript.previousElementSibling;\n    if (outputDiv.id !== \"altair-viz-c669ee23006747aa968666524da9f0d6\") {\n      outputDiv = document.getElementById(\"altair-viz-c669ee23006747aa968666524da9f0d6\");\n    }\n    const paths = {\n      \"vega\": \"https://cdn.jsdelivr.net/npm//vega@5?noext\",\n      \"vega-lib\": \"https://cdn.jsdelivr.net/npm//vega-lib?noext\",\n      \"vega-lite\": \"https://cdn.jsdelivr.net/npm//vega-lite@4.17.0?noext\",\n      \"vega-embed\": \"https://cdn.jsdelivr.net/npm//vega-embed@6?noext\",\n    };\n\n    function maybeLoadScript(lib, version) {\n      var key = `${lib.replace(\"-\", \"\")}_version`;\n      return (VEGA_DEBUG[key] == version) ?\n        Promise.resolve(paths[lib]) :\n        new Promise(function(resolve, reject) {\n          var s = document.createElement('script');\n          document.getElementsByTagName(\"head\")[0].appendChild(s);\n          s.async = true;\n          s.onload = () => {\n            VEGA_DEBUG[key] = version;\n            return resolve(paths[lib]);\n          };\n          s.onerror = () => reject(`Error loading script: ${paths[lib]}`);\n          s.src = paths[lib];\n        });\n    }\n\n    function showError(err) {\n      outputDiv.innerHTML = `<div class=\"error\" style=\"color:red;\">${err}</div>`;\n      throw err;\n    }\n\n    function displayChart(vegaEmbed) {\n      vegaEmbed(outputDiv, spec, embedOpt)\n        .catch(err => showError(`Javascript Error: ${err.message}<br>This usually means there's a typo in your chart specification. See the javascript console for the full traceback.`));\n    }\n\n    if(typeof define === \"function\" && define.amd) {\n      requirejs.config({paths});\n      require([\"vega-embed\"], displayChart, err => showError(`Error loading script: ${err.message}`));\n    } else {\n      maybeLoadScript(\"vega\", \"5\")\n        .then(() => maybeLoadScript(\"vega-lite\", \"4.17.0\"))\n        .then(() => maybeLoadScript(\"vega-embed\", \"6\"))\n        .catch(showError)\n        .then(() => displayChart(vegaEmbed));\n    }\n  })({\"config\": {\"view\": {\"continuousWidth\": 400, \"continuousHeight\": 300}}, \"data\": {\"name\": \"data-aeb8dec487be436236d0c63cc42eb978\"}, \"mark\": \"bar\", \"encoding\": {\"color\": {\"field\": \"Categories\", \"scale\": {\"range\": [\"#2EA8CE\", \"#EB9F3C\", \"#F4D837\", \"#51BF9D\", \"#8CBCCB\", \"#9487C0\"]}, \"type\": \"nominal\"}, \"row\": {\"field\": \"Categories\", \"type\": \"nominal\"}, \"tooltip\": [{\"field\": \"Agency\", \"type\": \"nominal\"}, {\"field\": \"Funding Amount\", \"type\": \"quantitative\"}], \"x\": {\"axis\": {\"format\": \"$.2s\", \"title\": \"Obligated Funding ($2021)\"}, \"field\": \"Funding Amount\", \"type\": \"quantitative\"}, \"y\": {\"field\": \"Agency\", \"type\": \"nominal\"}}, \"$schema\": \"https://vega.github.io/schema/vega-lite/v4.17.0.json\", \"datasets\": {\"data-aeb8dec487be436236d0c63cc42eb978\": [{\"Agency\": \"Metropolitan Transportation Commission\", \"Categories\": \"Total Requested\", \"Funding Amount\": 1909627.6993880032}, {\"Agency\": \"Contra Costa County\", \"Categories\": \"Total Requested\", \"Funding Amount\": 1041396.7377879982}, {\"Agency\": \"Caltrans\", \"Categories\": \"Total Requested\", \"Funding Amount\": 7155873.948324381}, {\"Agency\": \"Metropolitan Transportation Commission - SAFE\", \"Categories\": \"Total Requested\", \"Funding Amount\": 5607282.0964267}, {\"Agency\": \"Alameda County Congestion Management Agency\", \"Categories\": \"Total Requested\", \"Funding Amount\": 771698.7792291272}, {\"Agency\": \"Metropolitan Transportation Commission\", \"Categories\": \"Fed Requested\", \"Funding Amount\": 1890540.1407647512}, {\"Agency\": \"Contra Costa County\", \"Categories\": \"Fed Requested\", \"Funding Amount\": 690949.2652206112}, {\"Agency\": \"Caltrans\", \"Categories\": \"Fed Requested\", \"Funding Amount\": 3977675.6275673257}, {\"Agency\": \"Metropolitan Transportation Commission - SAFE\", \"Categories\": \"Fed Requested\", \"Funding Amount\": 5607282.0964267}, {\"Agency\": \"Alameda County Congestion Management Agency\", \"Categories\": \"Fed Requested\", \"Funding Amount\": 571275.1031109582}, {\"Agency\": \"Metropolitan Transportation Commission\", \"Categories\": \"AC Requested\", \"Funding Amount\": 0.0}, {\"Agency\": \"Contra Costa County\", \"Categories\": \"AC Requested\", \"Funding Amount\": 26482.60130270215}, {\"Agency\": \"Caltrans\", \"Categories\": \"AC Requested\", \"Funding Amount\": 0.0}, {\"Agency\": \"Metropolitan Transportation Commission - SAFE\", \"Categories\": \"AC Requested\", \"Funding Amount\": 0.0}, {\"Agency\": \"Alameda County Congestion Management Agency\", \"Categories\": \"AC Requested\", \"Funding Amount\": 0.0}]}}, {\"mode\": \"vega-lite\"});\n</script>",
          "text/plain": "alt.Chart(...)"
         },
         "metadata": {},
         "output_type": "display_data"
        }
       ]
      }
     },
     "de44e8a35865472282d200a3df0e5ff6": {
      "model_module": "@jupyter-widgets/controls",
      "model_module_version": "1.5.0",
      "model_name": "DescriptionStyleModel",
      "state": {
       "description_width": ""
      }
     },
     "de5f15114a7a499f98540b02991ebe70": {
      "model_module": "@jupyter-widgets/controls",
      "model_module_version": "1.5.0",
      "model_name": "DescriptionStyleModel",
      "state": {
       "description_width": ""
      }
     },
     "de8eb825d63d4f2f8fa53a37065bd765": {
      "model_module": "@jupyter-widgets/controls",
      "model_module_version": "1.5.0",
      "model_name": "DescriptionStyleModel",
      "state": {
       "description_width": ""
      }
     },
     "df7a542c1294409aa448eb4a21d0ec74": {
      "model_module": "@jupyter-widgets/output",
      "model_module_version": "1.0.0",
      "model_name": "OutputModel",
      "state": {
       "layout": "IPY_MODEL_20816181e96242c995f954f11a66804a",
       "outputs": [
        {
         "data": {
          "application/vnd.jupyter.widget-view+json": {
           "model_id": "",
           "version_major": 2,
           "version_minor": 0
          },
          "text/plain": "HTML(value='<strong>Top Agencies using Freeway Projects</strong>')"
         },
         "metadata": {},
         "output_type": "display_data"
        },
        {
         "data": {
          "text/html": "<style type=\"text/css\">\n</style>\n<table id=\"T_28619\">\n  <thead>\n    <tr>\n      <th class=\"blank level0\" >&nbsp;</th>\n      <th id=\"T_28619_level0_col0\" class=\"col_heading level0 col0\" >Agency</th>\n      <th id=\"T_28619_level0_col1\" class=\"col_heading level0 col1\" >Freeway Obligations</th>\n      <th id=\"T_28619_level0_col2\" class=\"col_heading level0 col2\" >Percent of Category</th>\n    </tr>\n  </thead>\n  <tbody>\n    <tr>\n      <th id=\"T_28619_level0_row0\" class=\"row_heading level0 row0\" >0</th>\n      <td id=\"T_28619_row0_col0\" class=\"data row0 col0\" >Metropolitan Transportation Commission</td>\n      <td id=\"T_28619_row0_col1\" class=\"data row0 col1\" >11</td>\n      <td id=\"T_28619_row0_col2\" class=\"data row0 col2\" >28.21%</td>\n    </tr>\n    <tr>\n      <th id=\"T_28619_level0_row1\" class=\"row_heading level0 row1\" >1</th>\n      <td id=\"T_28619_row1_col0\" class=\"data row1 col0\" >Contra Costa County</td>\n      <td id=\"T_28619_row1_col1\" class=\"data row1 col1\" >7</td>\n      <td id=\"T_28619_row1_col2\" class=\"data row1 col2\" >17.95%</td>\n    </tr>\n    <tr>\n      <th id=\"T_28619_level0_row2\" class=\"row_heading level0 row2\" >2</th>\n      <td id=\"T_28619_row2_col0\" class=\"data row2 col0\" >Caltrans</td>\n      <td id=\"T_28619_row2_col1\" class=\"data row2 col1\" >4</td>\n      <td id=\"T_28619_row2_col2\" class=\"data row2 col2\" >10.26%</td>\n    </tr>\n    <tr>\n      <th id=\"T_28619_level0_row3\" class=\"row_heading level0 row3\" >3</th>\n      <td id=\"T_28619_row3_col0\" class=\"data row3 col0\" >Metropolitan Transportation Commission - SAFE</td>\n      <td id=\"T_28619_row3_col1\" class=\"data row3 col1\" >3</td>\n      <td id=\"T_28619_row3_col2\" class=\"data row3 col2\" >7.69%</td>\n    </tr>\n    <tr>\n      <th id=\"T_28619_level0_row4\" class=\"row_heading level0 row4\" >4</th>\n      <td id=\"T_28619_row4_col0\" class=\"data row4 col0\" >Alameda County Congestion Management Agency</td>\n      <td id=\"T_28619_row4_col1\" class=\"data row4 col1\" >2</td>\n      <td id=\"T_28619_row4_col2\" class=\"data row4 col2\" >5.13%</td>\n    </tr>\n  </tbody>\n</table>\n",
          "text/plain": "<pandas.io.formats.style.Styler at 0x7f605d2dc850>"
         },
         "metadata": {},
         "output_type": "display_data"
        },
        {
         "data": {
          "text/html": "\n<div id=\"altair-viz-4d3d2b84b9a54e30bae5120f3c5f81c8\"></div>\n<script type=\"text/javascript\">\n  var VEGA_DEBUG = (typeof VEGA_DEBUG == \"undefined\") ? {} : VEGA_DEBUG;\n  (function(spec, embedOpt){\n    let outputDiv = document.currentScript.previousElementSibling;\n    if (outputDiv.id !== \"altair-viz-4d3d2b84b9a54e30bae5120f3c5f81c8\") {\n      outputDiv = document.getElementById(\"altair-viz-4d3d2b84b9a54e30bae5120f3c5f81c8\");\n    }\n    const paths = {\n      \"vega\": \"https://cdn.jsdelivr.net/npm//vega@5?noext\",\n      \"vega-lib\": \"https://cdn.jsdelivr.net/npm//vega-lib?noext\",\n      \"vega-lite\": \"https://cdn.jsdelivr.net/npm//vega-lite@4.17.0?noext\",\n      \"vega-embed\": \"https://cdn.jsdelivr.net/npm//vega-embed@6?noext\",\n    };\n\n    function maybeLoadScript(lib, version) {\n      var key = `${lib.replace(\"-\", \"\")}_version`;\n      return (VEGA_DEBUG[key] == version) ?\n        Promise.resolve(paths[lib]) :\n        new Promise(function(resolve, reject) {\n          var s = document.createElement('script');\n          document.getElementsByTagName(\"head\")[0].appendChild(s);\n          s.async = true;\n          s.onload = () => {\n            VEGA_DEBUG[key] = version;\n            return resolve(paths[lib]);\n          };\n          s.onerror = () => reject(`Error loading script: ${paths[lib]}`);\n          s.src = paths[lib];\n        });\n    }\n\n    function showError(err) {\n      outputDiv.innerHTML = `<div class=\"error\" style=\"color:red;\">${err}</div>`;\n      throw err;\n    }\n\n    function displayChart(vegaEmbed) {\n      vegaEmbed(outputDiv, spec, embedOpt)\n        .catch(err => showError(`Javascript Error: ${err.message}<br>This usually means there's a typo in your chart specification. See the javascript console for the full traceback.`));\n    }\n\n    if(typeof define === \"function\" && define.amd) {\n      requirejs.config({paths});\n      require([\"vega-embed\"], displayChart, err => showError(`Error loading script: ${err.message}`));\n    } else {\n      maybeLoadScript(\"vega\", \"5\")\n        .then(() => maybeLoadScript(\"vega-lite\", \"4.17.0\"))\n        .then(() => maybeLoadScript(\"vega-embed\", \"6\"))\n        .catch(showError)\n        .then(() => displayChart(vegaEmbed));\n    }\n  })({\"config\": {\"view\": {\"continuousWidth\": 400, \"continuousHeight\": 300}}, \"data\": {\"name\": \"data-aeb8dec487be436236d0c63cc42eb978\"}, \"mark\": \"bar\", \"encoding\": {\"color\": {\"field\": \"Categories\", \"scale\": {\"range\": [\"#2EA8CE\", \"#EB9F3C\", \"#F4D837\", \"#51BF9D\", \"#8CBCCB\", \"#9487C0\"]}, \"type\": \"nominal\"}, \"row\": {\"field\": \"Categories\", \"type\": \"nominal\"}, \"tooltip\": [{\"field\": \"Agency\", \"type\": \"nominal\"}, {\"field\": \"Funding Amount\", \"type\": \"quantitative\"}], \"x\": {\"axis\": {\"format\": \"$.2s\", \"title\": \"Obligated Funding ($2021)\"}, \"field\": \"Funding Amount\", \"type\": \"quantitative\"}, \"y\": {\"field\": \"Agency\", \"type\": \"nominal\"}}, \"$schema\": \"https://vega.github.io/schema/vega-lite/v4.17.0.json\", \"datasets\": {\"data-aeb8dec487be436236d0c63cc42eb978\": [{\"Agency\": \"Metropolitan Transportation Commission\", \"Categories\": \"Total Requested\", \"Funding Amount\": 1909627.6993880032}, {\"Agency\": \"Contra Costa County\", \"Categories\": \"Total Requested\", \"Funding Amount\": 1041396.7377879982}, {\"Agency\": \"Caltrans\", \"Categories\": \"Total Requested\", \"Funding Amount\": 7155873.948324381}, {\"Agency\": \"Metropolitan Transportation Commission - SAFE\", \"Categories\": \"Total Requested\", \"Funding Amount\": 5607282.0964267}, {\"Agency\": \"Alameda County Congestion Management Agency\", \"Categories\": \"Total Requested\", \"Funding Amount\": 771698.7792291272}, {\"Agency\": \"Metropolitan Transportation Commission\", \"Categories\": \"Fed Requested\", \"Funding Amount\": 1890540.1407647512}, {\"Agency\": \"Contra Costa County\", \"Categories\": \"Fed Requested\", \"Funding Amount\": 690949.2652206112}, {\"Agency\": \"Caltrans\", \"Categories\": \"Fed Requested\", \"Funding Amount\": 3977675.6275673257}, {\"Agency\": \"Metropolitan Transportation Commission - SAFE\", \"Categories\": \"Fed Requested\", \"Funding Amount\": 5607282.0964267}, {\"Agency\": \"Alameda County Congestion Management Agency\", \"Categories\": \"Fed Requested\", \"Funding Amount\": 571275.1031109582}, {\"Agency\": \"Metropolitan Transportation Commission\", \"Categories\": \"AC Requested\", \"Funding Amount\": 0.0}, {\"Agency\": \"Contra Costa County\", \"Categories\": \"AC Requested\", \"Funding Amount\": 26482.60130270215}, {\"Agency\": \"Caltrans\", \"Categories\": \"AC Requested\", \"Funding Amount\": 0.0}, {\"Agency\": \"Metropolitan Transportation Commission - SAFE\", \"Categories\": \"AC Requested\", \"Funding Amount\": 0.0}, {\"Agency\": \"Alameda County Congestion Management Agency\", \"Categories\": \"AC Requested\", \"Funding Amount\": 0.0}]}}, {\"mode\": \"vega-lite\"});\n</script>",
          "text/plain": "alt.Chart(...)"
         },
         "metadata": {},
         "output_type": "display_data"
        }
       ]
      }
     },
     "dfc47a89055f463e8bce0244671f3dce": {
      "model_module": "@jupyter-widgets/controls",
      "model_module_version": "1.5.0",
      "model_name": "HTMLModel",
      "state": {
       "layout": "IPY_MODEL_5559998af2a34c068be6af4c51e4e598",
       "style": "IPY_MODEL_8aa8e7962b5b4d70a030265154a0dea0",
       "value": "<strong>Top Agencies using Congestion Relief Projects</strong>"
      }
     },
     "e06b92c4dd4b492b94b1ae8ef82b048e": {
      "model_module": "@jupyter-widgets/controls",
      "model_module_version": "1.5.0",
      "model_name": "DescriptionStyleModel",
      "state": {
       "description_width": ""
      }
     },
     "e128d2c397624bd9bf65853f702db017": {
      "model_module": "@jupyter-widgets/base",
      "model_module_version": "1.2.0",
      "model_name": "LayoutModel",
      "state": {}
     },
     "e193f1e011754cec80611b4c95a1af07": {
      "model_module": "@jupyter-widgets/controls",
      "model_module_version": "1.5.0",
      "model_name": "DescriptionStyleModel",
      "state": {
       "description_width": ""
      }
     },
     "e1e5e95f4b494d42b2b28e1f2b31dc6f": {
      "model_module": "@jupyter-widgets/output",
      "model_module_version": "1.0.0",
      "model_name": "OutputModel",
      "state": {
       "layout": "IPY_MODEL_2865dc779f57434396519c1728de032e",
       "outputs": [
        {
         "data": {
          "application/vnd.jupyter.widget-view+json": {
           "model_id": "440b740c0c584592b91fe02aeb11cee7",
           "version_major": 2,
           "version_minor": 0
          },
          "text/plain": "HTML(value='<strong>Top Agencies using Bridge Projects</strong>')"
         },
         "metadata": {},
         "output_type": "display_data"
        },
        {
         "data": {
          "text/html": "<style type=\"text/css\">\n</style>\n<table id=\"T_63bb7\">\n  <thead>\n    <tr>\n      <th class=\"blank level0\" >&nbsp;</th>\n      <th id=\"T_63bb7_level0_col0\" class=\"col_heading level0 col0\" >Agency</th>\n      <th id=\"T_63bb7_level0_col1\" class=\"col_heading level0 col1\" >Bridge Obligations</th>\n      <th id=\"T_63bb7_level0_col2\" class=\"col_heading level0 col2\" >Percent of Category</th>\n    </tr>\n  </thead>\n  <tbody>\n    <tr>\n      <th id=\"T_63bb7_level0_row0\" class=\"row_heading level0 row0\" >0</th>\n      <td id=\"T_63bb7_row0_col0\" class=\"data row0 col0\" >Santa Clara County</td>\n      <td id=\"T_63bb7_row0_col1\" class=\"data row0 col1\" >68</td>\n      <td id=\"T_63bb7_row0_col2\" class=\"data row0 col2\" >14.17%</td>\n    </tr>\n    <tr>\n      <th id=\"T_63bb7_level0_row1\" class=\"row_heading level0 row1\" >1</th>\n      <td id=\"T_63bb7_row1_col0\" class=\"data row1 col0\" >Contra Costa County</td>\n      <td id=\"T_63bb7_row1_col1\" class=\"data row1 col1\" >44</td>\n      <td id=\"T_63bb7_row1_col2\" class=\"data row1 col2\" >9.17%</td>\n    </tr>\n    <tr>\n      <th id=\"T_63bb7_level0_row2\" class=\"row_heading level0 row2\" >2</th>\n      <td id=\"T_63bb7_row2_col0\" class=\"data row2 col0\" >Sonoma County</td>\n      <td id=\"T_63bb7_row2_col1\" class=\"data row2 col1\" >34</td>\n      <td id=\"T_63bb7_row2_col2\" class=\"data row2 col2\" >7.08%</td>\n    </tr>\n    <tr>\n      <th id=\"T_63bb7_level0_row3\" class=\"row_heading level0 row3\" >3</th>\n      <td id=\"T_63bb7_row3_col0\" class=\"data row3 col0\" >Napa County</td>\n      <td id=\"T_63bb7_row3_col1\" class=\"data row3 col1\" >25</td>\n      <td id=\"T_63bb7_row3_col2\" class=\"data row3 col2\" >5.21%</td>\n    </tr>\n    <tr>\n      <th id=\"T_63bb7_level0_row4\" class=\"row_heading level0 row4\" >4</th>\n      <td id=\"T_63bb7_row4_col0\" class=\"data row4 col0\" >Oakland</td>\n      <td id=\"T_63bb7_row4_col1\" class=\"data row4 col1\" >22</td>\n      <td id=\"T_63bb7_row4_col2\" class=\"data row4 col2\" >4.58%</td>\n    </tr>\n  </tbody>\n</table>\n",
          "text/plain": "<pandas.io.formats.style.Styler at 0x7f605cedcd30>"
         },
         "metadata": {},
         "output_type": "display_data"
        },
        {
         "data": {
          "text/html": "\n<div id=\"altair-viz-f117bc8f84ef40bb93f0abfb50da44ef\"></div>\n<script type=\"text/javascript\">\n  var VEGA_DEBUG = (typeof VEGA_DEBUG == \"undefined\") ? {} : VEGA_DEBUG;\n  (function(spec, embedOpt){\n    let outputDiv = document.currentScript.previousElementSibling;\n    if (outputDiv.id !== \"altair-viz-f117bc8f84ef40bb93f0abfb50da44ef\") {\n      outputDiv = document.getElementById(\"altair-viz-f117bc8f84ef40bb93f0abfb50da44ef\");\n    }\n    const paths = {\n      \"vega\": \"https://cdn.jsdelivr.net/npm//vega@5?noext\",\n      \"vega-lib\": \"https://cdn.jsdelivr.net/npm//vega-lib?noext\",\n      \"vega-lite\": \"https://cdn.jsdelivr.net/npm//vega-lite@4.17.0?noext\",\n      \"vega-embed\": \"https://cdn.jsdelivr.net/npm//vega-embed@6?noext\",\n    };\n\n    function maybeLoadScript(lib, version) {\n      var key = `${lib.replace(\"-\", \"\")}_version`;\n      return (VEGA_DEBUG[key] == version) ?\n        Promise.resolve(paths[lib]) :\n        new Promise(function(resolve, reject) {\n          var s = document.createElement('script');\n          document.getElementsByTagName(\"head\")[0].appendChild(s);\n          s.async = true;\n          s.onload = () => {\n            VEGA_DEBUG[key] = version;\n            return resolve(paths[lib]);\n          };\n          s.onerror = () => reject(`Error loading script: ${paths[lib]}`);\n          s.src = paths[lib];\n        });\n    }\n\n    function showError(err) {\n      outputDiv.innerHTML = `<div class=\"error\" style=\"color:red;\">${err}</div>`;\n      throw err;\n    }\n\n    function displayChart(vegaEmbed) {\n      vegaEmbed(outputDiv, spec, embedOpt)\n        .catch(err => showError(`Javascript Error: ${err.message}<br>This usually means there's a typo in your chart specification. See the javascript console for the full traceback.`));\n    }\n\n    if(typeof define === \"function\" && define.amd) {\n      requirejs.config({paths});\n      require([\"vega-embed\"], displayChart, err => showError(`Error loading script: ${err.message}`));\n    } else {\n      maybeLoadScript(\"vega\", \"5\")\n        .then(() => maybeLoadScript(\"vega-lite\", \"4.17.0\"))\n        .then(() => maybeLoadScript(\"vega-embed\", \"6\"))\n        .catch(showError)\n        .then(() => displayChart(vegaEmbed));\n    }\n  })({\"config\": {\"view\": {\"continuousWidth\": 400, \"continuousHeight\": 300}}, \"data\": {\"name\": \"data-4ca6a40ed7566d9b16a25b6db2a09b51\"}, \"mark\": \"bar\", \"encoding\": {\"color\": {\"field\": \"Categories\", \"scale\": {\"range\": [\"#2EA8CE\", \"#EB9F3C\", \"#F4D837\", \"#51BF9D\", \"#8CBCCB\", \"#9487C0\"]}, \"type\": \"nominal\"}, \"row\": {\"field\": \"Categories\", \"type\": \"nominal\"}, \"tooltip\": [{\"field\": \"Agency\", \"type\": \"nominal\"}, {\"field\": \"Funding Amount\", \"type\": \"quantitative\"}], \"x\": {\"axis\": {\"format\": \"$.2s\", \"title\": \"Obligated Funding ($2021)\"}, \"field\": \"Funding Amount\", \"type\": \"quantitative\"}, \"y\": {\"field\": \"Agency\", \"type\": \"nominal\"}}, \"$schema\": \"https://vega.github.io/schema/vega-lite/v4.17.0.json\", \"datasets\": {\"data-4ca6a40ed7566d9b16a25b6db2a09b51\": [{\"Agency\": \"Santa Clara County\", \"Categories\": \"Total Requested\", \"Funding Amount\": 625948.8921137636}, {\"Agency\": \"Contra Costa County\", \"Categories\": \"Total Requested\", \"Funding Amount\": 1317256.4330172406}, {\"Agency\": \"Sonoma County\", \"Categories\": \"Total Requested\", \"Funding Amount\": 797679.174331438}, {\"Agency\": \"Napa County\", \"Categories\": \"Total Requested\", \"Funding Amount\": 403289.3793109502}, {\"Agency\": \"Oakland\", \"Categories\": \"Total Requested\", \"Funding Amount\": 1567186.3367742712}, {\"Agency\": \"Santa Clara County\", \"Categories\": \"Fed Requested\", \"Funding Amount\": 551357.6932043855}, {\"Agency\": \"Contra Costa County\", \"Categories\": \"Fed Requested\", \"Funding Amount\": 1044135.8320610252}, {\"Agency\": \"Sonoma County\", \"Categories\": \"Fed Requested\", \"Funding Amount\": 587684.7404175334}, {\"Agency\": \"Napa County\", \"Categories\": \"Fed Requested\", \"Funding Amount\": 409960.4929304969}, {\"Agency\": \"Oakland\", \"Categories\": \"Fed Requested\", \"Funding Amount\": 1259324.924989911}, {\"Agency\": \"Santa Clara County\", \"Categories\": \"AC Requested\", \"Funding Amount\": 4993.875645153608}, {\"Agency\": \"Contra Costa County\", \"Categories\": \"AC Requested\", \"Funding Amount\": 106533.47492573563}, {\"Agency\": \"Sonoma County\", \"Categories\": \"AC Requested\", \"Funding Amount\": 122257.02211158613}, {\"Agency\": \"Napa County\", \"Categories\": \"AC Requested\", \"Funding Amount\": 222.60068153467608}, {\"Agency\": \"Oakland\", \"Categories\": \"AC Requested\", \"Funding Amount\": 0.0}]}}, {\"mode\": \"vega-lite\"});\n</script>",
          "text/plain": "alt.Chart(...)"
         },
         "metadata": {},
         "output_type": "display_data"
        }
       ]
      }
     },
     "e253096ae6444efc875d71b1d4c659b3": {
      "model_module": "@jupyter-widgets/controls",
      "model_module_version": "1.5.0",
      "model_name": "TabModel",
      "state": {
       "_titles": {
        "0": "Active Transportation",
        "1": "Transit",
        "2": "Bridge",
        "3": "Street",
        "4": "Freeway",
        "5": "Infrastructure & Emergency Relief",
        "6": "Congestion Relief"
       },
       "children": [
        "IPY_MODEL_93bd2b2ff95942858a0cb8d280cc3c0a",
        "IPY_MODEL_8d10baafd902472a9714a859431d8881",
        "IPY_MODEL_0902c465a053456da54232106cbe04d4",
        "IPY_MODEL_d52a779f01f64d20b720176bd9a0037c",
        "IPY_MODEL_26c00f6fef734ccfb91c829fcde3b295",
        "IPY_MODEL_b2ae3844cf6b4f90a090841a2671cb1c",
        "IPY_MODEL_a8c2828c3aa949da87cea32b5113c297"
       ],
       "layout": "IPY_MODEL_6281419deb9147d19c644d70ec8f64f9",
       "selected_index": 3
      }
     },
     "e257f12084424f5b9df5922c970a085f": {
      "model_module": "@jupyter-widgets/base",
      "model_module_version": "1.2.0",
      "model_name": "LayoutModel",
      "state": {}
     },
     "e26243e3124c46fbaefe6e200098e422": {
      "model_module": "@jupyter-widgets/base",
      "model_module_version": "1.2.0",
      "model_name": "LayoutModel",
      "state": {}
     },
     "e351b77cab644ed4a1a716929f6d912f": {
      "model_module": "@jupyter-widgets/controls",
      "model_module_version": "1.5.0",
      "model_name": "HTMLModel",
      "state": {
       "layout": "IPY_MODEL_452d6b4617794962b43f79932908d43c",
       "style": "IPY_MODEL_9043acac9f7e41d28acdaf331db64ecd",
       "value": "<strong>Top Agencies using Congestion Relief Projects</strong>"
      }
     },
     "e3c80b86417b4284bef091e5e5f25e91": {
      "model_module": "@jupyter-widgets/base",
      "model_module_version": "1.2.0",
      "model_name": "LayoutModel",
      "state": {}
     },
     "e59971883e684687bf969cf973fb1483": {
      "model_module": "@jupyter-widgets/base",
      "model_module_version": "1.2.0",
      "model_name": "LayoutModel",
      "state": {}
     },
     "e792f9e059db41ecbcd72a024ab8b1b3": {
      "model_module": "@jupyter-widgets/controls",
      "model_module_version": "1.5.0",
      "model_name": "HTMLModel",
      "state": {
       "layout": "IPY_MODEL_144063a4764c4211aa9f727ed043a7f4",
       "style": "IPY_MODEL_b325b83bd6ee4e6ab51530bfb45297b6",
       "value": "<strong>Top Agencies using Bridge Projects</strong>"
      }
     },
     "e84e283e92fa4a47981023124a537c92": {
      "model_module": "@jupyter-widgets/output",
      "model_module_version": "1.0.0",
      "model_name": "OutputModel",
      "state": {
       "layout": "IPY_MODEL_53da1e5fc6a24203a80963bd2ff436ee",
       "outputs": [
        {
         "data": {
          "application/vnd.jupyter.widget-view+json": {
           "model_id": "",
           "version_major": 2,
           "version_minor": 0
          },
          "text/plain": "HTML(value='<strong>Top Agencies using Active Transportation Projects</strong>')"
         },
         "metadata": {},
         "output_type": "display_data"
        },
        {
         "data": {
          "text/html": "<style type=\"text/css\">\n</style>\n<table id=\"T_58410\">\n  <thead>\n    <tr>\n      <th class=\"blank level0\" >&nbsp;</th>\n      <th id=\"T_58410_level0_col0\" class=\"col_heading level0 col0\" >Agency</th>\n      <th id=\"T_58410_level0_col1\" class=\"col_heading level0 col1\" >Active Transportation Obligations</th>\n      <th id=\"T_58410_level0_col2\" class=\"col_heading level0 col2\" >Percent of Category</th>\n    </tr>\n  </thead>\n  <tbody>\n    <tr>\n      <th id=\"T_58410_level0_row0\" class=\"row_heading level0 row0\" >0</th>\n      <td id=\"T_58410_row0_col0\" class=\"data row0 col0\" >San Jose</td>\n      <td id=\"T_58410_row0_col1\" class=\"data row0 col1\" >79</td>\n      <td id=\"T_58410_row0_col2\" class=\"data row0 col2\" >7.38%</td>\n    </tr>\n    <tr>\n      <th id=\"T_58410_level0_row1\" class=\"row_heading level0 row1\" >1</th>\n      <td id=\"T_58410_row1_col0\" class=\"data row1 col0\" >Oakland</td>\n      <td id=\"T_58410_row1_col1\" class=\"data row1 col1\" >65</td>\n      <td id=\"T_58410_row1_col2\" class=\"data row1 col2\" >6.07%</td>\n    </tr>\n    <tr>\n      <th id=\"T_58410_level0_row2\" class=\"row_heading level0 row2\" >2</th>\n      <td id=\"T_58410_row2_col0\" class=\"data row2 col0\" >City & County of San Francisco, MTA/Parking & Traffic</td>\n      <td id=\"T_58410_row2_col1\" class=\"data row2 col1\" >46</td>\n      <td id=\"T_58410_row2_col2\" class=\"data row2 col2\" >4.30%</td>\n    </tr>\n    <tr>\n      <th id=\"T_58410_level0_row3\" class=\"row_heading level0 row3\" >3</th>\n      <td id=\"T_58410_row3_col0\" class=\"data row3 col0\" >Sunnyvale</td>\n      <td id=\"T_58410_row3_col1\" class=\"data row3 col1\" >45</td>\n      <td id=\"T_58410_row3_col2\" class=\"data row3 col2\" >4.21%</td>\n    </tr>\n    <tr>\n      <th id=\"T_58410_level0_row4\" class=\"row_heading level0 row4\" >4</th>\n      <td id=\"T_58410_row4_col0\" class=\"data row4 col0\" >Contra Costa County</td>\n      <td id=\"T_58410_row4_col1\" class=\"data row4 col1\" >39</td>\n      <td id=\"T_58410_row4_col2\" class=\"data row4 col2\" >3.64%</td>\n    </tr>\n  </tbody>\n</table>\n",
          "text/plain": "<pandas.io.formats.style.Styler at 0x7f605d023c10>"
         },
         "metadata": {},
         "output_type": "display_data"
        },
        {
         "data": {
          "text/html": "\n<div id=\"altair-viz-e1e80c4a83464b1f815c50362adcfa2c\"></div>\n<script type=\"text/javascript\">\n  var VEGA_DEBUG = (typeof VEGA_DEBUG == \"undefined\") ? {} : VEGA_DEBUG;\n  (function(spec, embedOpt){\n    let outputDiv = document.currentScript.previousElementSibling;\n    if (outputDiv.id !== \"altair-viz-e1e80c4a83464b1f815c50362adcfa2c\") {\n      outputDiv = document.getElementById(\"altair-viz-e1e80c4a83464b1f815c50362adcfa2c\");\n    }\n    const paths = {\n      \"vega\": \"https://cdn.jsdelivr.net/npm//vega@5?noext\",\n      \"vega-lib\": \"https://cdn.jsdelivr.net/npm//vega-lib?noext\",\n      \"vega-lite\": \"https://cdn.jsdelivr.net/npm//vega-lite@4.17.0?noext\",\n      \"vega-embed\": \"https://cdn.jsdelivr.net/npm//vega-embed@6?noext\",\n    };\n\n    function maybeLoadScript(lib, version) {\n      var key = `${lib.replace(\"-\", \"\")}_version`;\n      return (VEGA_DEBUG[key] == version) ?\n        Promise.resolve(paths[lib]) :\n        new Promise(function(resolve, reject) {\n          var s = document.createElement('script');\n          document.getElementsByTagName(\"head\")[0].appendChild(s);\n          s.async = true;\n          s.onload = () => {\n            VEGA_DEBUG[key] = version;\n            return resolve(paths[lib]);\n          };\n          s.onerror = () => reject(`Error loading script: ${paths[lib]}`);\n          s.src = paths[lib];\n        });\n    }\n\n    function showError(err) {\n      outputDiv.innerHTML = `<div class=\"error\" style=\"color:red;\">${err}</div>`;\n      throw err;\n    }\n\n    function displayChart(vegaEmbed) {\n      vegaEmbed(outputDiv, spec, embedOpt)\n        .catch(err => showError(`Javascript Error: ${err.message}<br>This usually means there's a typo in your chart specification. See the javascript console for the full traceback.`));\n    }\n\n    if(typeof define === \"function\" && define.amd) {\n      requirejs.config({paths});\n      require([\"vega-embed\"], displayChart, err => showError(`Error loading script: ${err.message}`));\n    } else {\n      maybeLoadScript(\"vega\", \"5\")\n        .then(() => maybeLoadScript(\"vega-lite\", \"4.17.0\"))\n        .then(() => maybeLoadScript(\"vega-embed\", \"6\"))\n        .catch(showError)\n        .then(() => displayChart(vegaEmbed));\n    }\n  })({\"config\": {\"view\": {\"continuousWidth\": 400, \"continuousHeight\": 300}}, \"data\": {\"name\": \"data-f2b192092ab40256b133e03678fdbbef\"}, \"mark\": \"bar\", \"encoding\": {\"color\": {\"field\": \"Categories\", \"scale\": {\"range\": [\"#2EA8CE\", \"#EB9F3C\", \"#F4D837\", \"#51BF9D\", \"#8CBCCB\", \"#9487C0\"]}, \"type\": \"nominal\"}, \"row\": {\"field\": \"Categories\", \"type\": \"nominal\"}, \"tooltip\": [{\"field\": \"Agency\", \"type\": \"nominal\"}, {\"field\": \"Funding Amount\", \"type\": \"quantitative\"}], \"x\": {\"axis\": {\"format\": \"$.2s\", \"title\": \"Obligated Funding ($2021)\"}, \"field\": \"Funding Amount\", \"type\": \"quantitative\"}, \"y\": {\"field\": \"Agency\", \"type\": \"nominal\"}}, \"$schema\": \"https://vega.github.io/schema/vega-lite/v4.17.0.json\", \"datasets\": {\"data-f2b192092ab40256b133e03678fdbbef\": [{\"Agency\": \"San Jose\", \"Categories\": \"Total Requested\", \"Funding Amount\": 814137.7836283975}, {\"Agency\": \"Oakland\", \"Categories\": \"Total Requested\", \"Funding Amount\": 1190695.923476186}, {\"Agency\": \"City & County of San Francisco, MTA/Parking & Traffic\", \"Categories\": \"Total Requested\", \"Funding Amount\": 399422.13886393333}, {\"Agency\": \"Sunnyvale\", \"Categories\": \"Total Requested\", \"Funding Amount\": 318241.7714299652}, {\"Agency\": \"Contra Costa County\", \"Categories\": \"Total Requested\", \"Funding Amount\": 898253.4359490186}, {\"Agency\": \"San Jose\", \"Categories\": \"Fed Requested\", \"Funding Amount\": 608959.3462479156}, {\"Agency\": \"Oakland\", \"Categories\": \"Fed Requested\", \"Funding Amount\": 768046.0772685818}, {\"Agency\": \"City & County of San Francisco, MTA/Parking & Traffic\", \"Categories\": \"Fed Requested\", \"Funding Amount\": 275973.90511533467}, {\"Agency\": \"Sunnyvale\", \"Categories\": \"Fed Requested\", \"Funding Amount\": 253929.59677578227}, {\"Agency\": \"Contra Costa County\", \"Categories\": \"Fed Requested\", \"Funding Amount\": 421336.3001180079}, {\"Agency\": \"San Jose\", \"Categories\": \"AC Requested\", \"Funding Amount\": 1556.8402544351802}, {\"Agency\": \"Oakland\", \"Categories\": \"AC Requested\", \"Funding Amount\": 0.0}, {\"Agency\": \"City & County of San Francisco, MTA/Parking & Traffic\", \"Categories\": \"AC Requested\", \"Funding Amount\": 0.0}, {\"Agency\": \"Sunnyvale\", \"Categories\": \"AC Requested\", \"Funding Amount\": 0.0}, {\"Agency\": \"Contra Costa County\", \"Categories\": \"AC Requested\", \"Funding Amount\": 0.0}]}}, {\"mode\": \"vega-lite\"});\n</script>",
          "text/plain": "alt.Chart(...)"
         },
         "metadata": {},
         "output_type": "display_data"
        }
       ]
      }
     },
     "e884776e0dae4e41931e150557a6011e": {
      "model_module": "@jupyter-widgets/base",
      "model_module_version": "1.2.0",
      "model_name": "LayoutModel",
      "state": {}
     },
     "e91ecdd2691c4625982aeb6b8259a393": {
      "model_module": "@jupyter-widgets/output",
      "model_module_version": "1.0.0",
      "model_name": "OutputModel",
      "state": {
       "layout": "IPY_MODEL_39e4a5006f364bc8b65034f6f9c7d4f5",
       "outputs": [
        {
         "data": {
          "application/vnd.jupyter.widget-view+json": {
           "model_id": "",
           "version_major": 2,
           "version_minor": 0
          },
          "text/plain": "HTML(value='<strong>Top Agencies using Congestion Relief Projects</strong>')"
         },
         "metadata": {},
         "output_type": "display_data"
        },
        {
         "data": {
          "text/html": "<style type=\"text/css\">\n</style>\n<table id=\"T_797d5\">\n  <thead>\n    <tr>\n      <th class=\"blank level0\" >&nbsp;</th>\n      <th id=\"T_797d5_level0_col0\" class=\"col_heading level0 col0\" >Agency</th>\n      <th id=\"T_797d5_level0_col1\" class=\"col_heading level0 col1\" >Congestion Relief Obligations</th>\n      <th id=\"T_797d5_level0_col2\" class=\"col_heading level0 col2\" >Percent of Category</th>\n    </tr>\n  </thead>\n  <tbody>\n    <tr>\n      <th id=\"T_797d5_level0_row0\" class=\"row_heading level0 row0\" >0</th>\n      <td id=\"T_797d5_row0_col0\" class=\"data row0 col0\" >Kern County Council of Governments</td>\n      <td id=\"T_797d5_row0_col1\" class=\"data row0 col1\" >20</td>\n      <td id=\"T_797d5_row0_col2\" class=\"data row0 col2\" >12.66%</td>\n    </tr>\n    <tr>\n      <th id=\"T_797d5_level0_row1\" class=\"row_heading level0 row1\" >1</th>\n      <td id=\"T_797d5_row1_col0\" class=\"data row1 col0\" >Stanislaus Council of Governments</td>\n      <td id=\"T_797d5_row1_col1\" class=\"data row1 col1\" >18</td>\n      <td id=\"T_797d5_row1_col2\" class=\"data row1 col2\" >11.39%</td>\n    </tr>\n    <tr>\n      <th id=\"T_797d5_level0_row2\" class=\"row_heading level0 row2\" >2</th>\n      <td id=\"T_797d5_row2_col0\" class=\"data row2 col0\" >Modesto</td>\n      <td id=\"T_797d5_row2_col1\" class=\"data row2 col1\" >17</td>\n      <td id=\"T_797d5_row2_col2\" class=\"data row2 col2\" >10.76%</td>\n    </tr>\n    <tr>\n      <th id=\"T_797d5_level0_row3\" class=\"row_heading level0 row3\" >3</th>\n      <td id=\"T_797d5_row3_col0\" class=\"data row3 col0\" >San Diego Association of Governments</td>\n      <td id=\"T_797d5_row3_col1\" class=\"data row3 col1\" >12</td>\n      <td id=\"T_797d5_row3_col2\" class=\"data row3 col2\" >7.59%</td>\n    </tr>\n    <tr>\n      <th id=\"T_797d5_level0_row4\" class=\"row_heading level0 row4\" >4</th>\n      <td id=\"T_797d5_row4_col0\" class=\"data row4 col0\" >Ventura County Transportation Commission</td>\n      <td id=\"T_797d5_row4_col1\" class=\"data row4 col1\" >10</td>\n      <td id=\"T_797d5_row4_col2\" class=\"data row4 col2\" >6.33%</td>\n    </tr>\n  </tbody>\n</table>\n",
          "text/plain": "<pandas.io.formats.style.Styler at 0x7f605e895b20>"
         },
         "metadata": {},
         "output_type": "display_data"
        },
        {
         "data": {
          "text/html": "\n<div id=\"altair-viz-0f16df4d96c04d73ae84a7bce9ae0740\"></div>\n<script type=\"text/javascript\">\n  var VEGA_DEBUG = (typeof VEGA_DEBUG == \"undefined\") ? {} : VEGA_DEBUG;\n  (function(spec, embedOpt){\n    let outputDiv = document.currentScript.previousElementSibling;\n    if (outputDiv.id !== \"altair-viz-0f16df4d96c04d73ae84a7bce9ae0740\") {\n      outputDiv = document.getElementById(\"altair-viz-0f16df4d96c04d73ae84a7bce9ae0740\");\n    }\n    const paths = {\n      \"vega\": \"https://cdn.jsdelivr.net/npm//vega@5?noext\",\n      \"vega-lib\": \"https://cdn.jsdelivr.net/npm//vega-lib?noext\",\n      \"vega-lite\": \"https://cdn.jsdelivr.net/npm//vega-lite@4.17.0?noext\",\n      \"vega-embed\": \"https://cdn.jsdelivr.net/npm//vega-embed@6?noext\",\n    };\n\n    function maybeLoadScript(lib, version) {\n      var key = `${lib.replace(\"-\", \"\")}_version`;\n      return (VEGA_DEBUG[key] == version) ?\n        Promise.resolve(paths[lib]) :\n        new Promise(function(resolve, reject) {\n          var s = document.createElement('script');\n          document.getElementsByTagName(\"head\")[0].appendChild(s);\n          s.async = true;\n          s.onload = () => {\n            VEGA_DEBUG[key] = version;\n            return resolve(paths[lib]);\n          };\n          s.onerror = () => reject(`Error loading script: ${paths[lib]}`);\n          s.src = paths[lib];\n        });\n    }\n\n    function showError(err) {\n      outputDiv.innerHTML = `<div class=\"error\" style=\"color:red;\">${err}</div>`;\n      throw err;\n    }\n\n    function displayChart(vegaEmbed) {\n      vegaEmbed(outputDiv, spec, embedOpt)\n        .catch(err => showError(`Javascript Error: ${err.message}<br>This usually means there's a typo in your chart specification. See the javascript console for the full traceback.`));\n    }\n\n    if(typeof define === \"function\" && define.amd) {\n      requirejs.config({paths});\n      require([\"vega-embed\"], displayChart, err => showError(`Error loading script: ${err.message}`));\n    } else {\n      maybeLoadScript(\"vega\", \"5\")\n        .then(() => maybeLoadScript(\"vega-lite\", \"4.17.0\"))\n        .then(() => maybeLoadScript(\"vega-embed\", \"6\"))\n        .catch(showError)\n        .then(() => displayChart(vegaEmbed));\n    }\n  })({\"config\": {\"view\": {\"continuousWidth\": 400, \"continuousHeight\": 300}}, \"data\": {\"name\": \"data-292a0cde6f026779bbf25b2788853efa\"}, \"mark\": \"bar\", \"encoding\": {\"color\": {\"field\": \"Categories\", \"scale\": {\"range\": [\"#2EA8CE\", \"#EB9F3C\", \"#F4D837\", \"#51BF9D\", \"#8CBCCB\", \"#9487C0\"]}, \"type\": \"nominal\"}, \"row\": {\"field\": \"Categories\", \"type\": \"nominal\"}, \"tooltip\": [{\"field\": \"Agency\", \"type\": \"nominal\"}, {\"field\": \"Funding Amount\", \"type\": \"quantitative\"}], \"x\": {\"axis\": {\"format\": \"$.2s\", \"title\": \"Obligated Funding ($2021)\"}, \"field\": \"Funding Amount\", \"type\": \"quantitative\"}, \"y\": {\"field\": \"Agency\", \"type\": \"nominal\"}}, \"$schema\": \"https://vega.github.io/schema/vega-lite/v4.17.0.json\", \"datasets\": {\"data-292a0cde6f026779bbf25b2788853efa\": [{\"Agency\": \"Kern County Council of Governments\", \"Categories\": \"Total Requested\", \"Funding Amount\": 106713.26431775067}, {\"Agency\": \"Stanislaus Council of Governments\", \"Categories\": \"Total Requested\", \"Funding Amount\": 132441.14390518022}, {\"Agency\": \"Modesto\", \"Categories\": \"Total Requested\", \"Funding Amount\": 35763.664240797494}, {\"Agency\": \"San Diego Association of Governments\", \"Categories\": \"Total Requested\", \"Funding Amount\": 5100742.356804292}, {\"Agency\": \"Ventura County Transportation Commission\", \"Categories\": \"Total Requested\", \"Funding Amount\": 281102.8874310915}, {\"Agency\": \"Kern County Council of Governments\", \"Categories\": \"Fed Requested\", \"Funding Amount\": 88109.98406027674}, {\"Agency\": \"Stanislaus Council of Governments\", \"Categories\": \"Fed Requested\", \"Funding Amount\": 122145.54438367426}, {\"Agency\": \"Modesto\", \"Categories\": \"Fed Requested\", \"Funding Amount\": 35261.771786810976}, {\"Agency\": \"San Diego Association of Governments\", \"Categories\": \"Fed Requested\", \"Funding Amount\": 5090659.523936891}, {\"Agency\": \"Ventura County Transportation Commission\", \"Categories\": \"Fed Requested\", \"Funding Amount\": 281102.8874310915}, {\"Agency\": \"Kern County Council of Governments\", \"Categories\": \"AC Requested\", \"Funding Amount\": 0.0}, {\"Agency\": \"Stanislaus Council of Governments\", \"Categories\": \"AC Requested\", \"Funding Amount\": 0.0}, {\"Agency\": \"Modesto\", \"Categories\": \"AC Requested\", \"Funding Amount\": 0.0}, {\"Agency\": \"San Diego Association of Governments\", \"Categories\": \"AC Requested\", \"Funding Amount\": 0.0}, {\"Agency\": \"Ventura County Transportation Commission\", \"Categories\": \"AC Requested\", \"Funding Amount\": 0.0}]}}, {\"mode\": \"vega-lite\"});\n</script>",
          "text/plain": "alt.Chart(...)"
         },
         "metadata": {},
         "output_type": "display_data"
        }
       ]
      }
     },
     "e9e581fe3a304d01a73100636b33ab45": {
      "model_module": "@jupyter-widgets/controls",
      "model_module_version": "1.5.0",
      "model_name": "HTMLModel",
      "state": {
       "layout": "IPY_MODEL_68ec5546300d418eb206a32193278cf3",
       "style": "IPY_MODEL_9c917966ffa443d68beee82e0bdbc89a",
       "value": "<strong>Top Agencies using Transit Projects</strong>"
      }
     },
     "e9f5d6f5e34e40fbb6d2299620a2dd04": {
      "model_module": "@jupyter-widgets/base",
      "model_module_version": "1.2.0",
      "model_name": "LayoutModel",
      "state": {}
     },
     "ea1d565cd0cd4ec7a3c3a95474babd64": {
      "model_module": "@jupyter-widgets/base",
      "model_module_version": "1.2.0",
      "model_name": "LayoutModel",
      "state": {}
     },
     "eae6ca3c5a6b475bb966df561c444c5c": {
      "model_module": "@jupyter-widgets/base",
      "model_module_version": "1.2.0",
      "model_name": "LayoutModel",
      "state": {}
     },
     "eb975168779e4cae8fae16605080b213": {
      "model_module": "@jupyter-widgets/output",
      "model_module_version": "1.0.0",
      "model_name": "OutputModel",
      "state": {
       "layout": "IPY_MODEL_394e778251b9419c9e289c12c7406de6",
       "outputs": [
        {
         "data": {
          "application/vnd.jupyter.widget-view+json": {
           "model_id": "",
           "version_major": 2,
           "version_minor": 0
          },
          "text/plain": "HTML(value='<strong>Top Agencies using Transit Projects</strong>')"
         },
         "metadata": {},
         "output_type": "display_data"
        },
        {
         "data": {
          "text/html": "<style type=\"text/css\">\n</style>\n<table id=\"T_dd62e\">\n  <thead>\n    <tr>\n      <th class=\"blank level0\" >&nbsp;</th>\n      <th id=\"T_dd62e_level0_col0\" class=\"col_heading level0 col0\" >Agency</th>\n      <th id=\"T_dd62e_level0_col1\" class=\"col_heading level0 col1\" >Transit Obligations</th>\n      <th id=\"T_dd62e_level0_col2\" class=\"col_heading level0 col2\" >Percent of Category</th>\n    </tr>\n  </thead>\n  <tbody>\n    <tr>\n      <th id=\"T_dd62e_level0_row0\" class=\"row_heading level0 row0\" >0</th>\n      <td id=\"T_dd62e_row0_col0\" class=\"data row0 col0\" >Metropolitan Transportation Commission</td>\n      <td id=\"T_dd62e_row0_col1\" class=\"data row0 col1\" >18</td>\n      <td id=\"T_dd62e_row0_col2\" class=\"data row0 col2\" >28.57%</td>\n    </tr>\n    <tr>\n      <th id=\"T_dd62e_level0_row1\" class=\"row_heading level0 row1\" >1</th>\n      <td id=\"T_dd62e_row1_col0\" class=\"data row1 col0\" >Sunnyvale</td>\n      <td id=\"T_dd62e_row1_col1\" class=\"data row1 col1\" >6</td>\n      <td id=\"T_dd62e_row1_col2\" class=\"data row1 col2\" >9.52%</td>\n    </tr>\n    <tr>\n      <th id=\"T_dd62e_level0_row2\" class=\"row_heading level0 row2\" >2</th>\n      <td id=\"T_dd62e_row2_col0\" class=\"data row2 col0\" >Oakland</td>\n      <td id=\"T_dd62e_row2_col1\" class=\"data row2 col1\" >4</td>\n      <td id=\"T_dd62e_row2_col2\" class=\"data row2 col2\" >6.35%</td>\n    </tr>\n    <tr>\n      <th id=\"T_dd62e_level0_row3\" class=\"row_heading level0 row3\" >3</th>\n      <td id=\"T_dd62e_row3_col0\" class=\"data row3 col0\" >San Jose</td>\n      <td id=\"T_dd62e_row3_col1\" class=\"data row3 col1\" >4</td>\n      <td id=\"T_dd62e_row3_col2\" class=\"data row3 col2\" >6.35%</td>\n    </tr>\n    <tr>\n      <th id=\"T_dd62e_level0_row4\" class=\"row_heading level0 row4\" >4</th>\n      <td id=\"T_dd62e_row4_col0\" class=\"data row4 col0\" >San Leandro</td>\n      <td id=\"T_dd62e_row4_col1\" class=\"data row4 col1\" >4</td>\n      <td id=\"T_dd62e_row4_col2\" class=\"data row4 col2\" >6.35%</td>\n    </tr>\n  </tbody>\n</table>\n",
          "text/plain": "<pandas.io.formats.style.Styler at 0x7f605d1b1f10>"
         },
         "metadata": {},
         "output_type": "display_data"
        },
        {
         "data": {
          "text/html": "\n<div id=\"altair-viz-0f7cd277637743df8f08c3bbb5aada9f\"></div>\n<script type=\"text/javascript\">\n  var VEGA_DEBUG = (typeof VEGA_DEBUG == \"undefined\") ? {} : VEGA_DEBUG;\n  (function(spec, embedOpt){\n    let outputDiv = document.currentScript.previousElementSibling;\n    if (outputDiv.id !== \"altair-viz-0f7cd277637743df8f08c3bbb5aada9f\") {\n      outputDiv = document.getElementById(\"altair-viz-0f7cd277637743df8f08c3bbb5aada9f\");\n    }\n    const paths = {\n      \"vega\": \"https://cdn.jsdelivr.net/npm//vega@5?noext\",\n      \"vega-lib\": \"https://cdn.jsdelivr.net/npm//vega-lib?noext\",\n      \"vega-lite\": \"https://cdn.jsdelivr.net/npm//vega-lite@4.17.0?noext\",\n      \"vega-embed\": \"https://cdn.jsdelivr.net/npm//vega-embed@6?noext\",\n    };\n\n    function maybeLoadScript(lib, version) {\n      var key = `${lib.replace(\"-\", \"\")}_version`;\n      return (VEGA_DEBUG[key] == version) ?\n        Promise.resolve(paths[lib]) :\n        new Promise(function(resolve, reject) {\n          var s = document.createElement('script');\n          document.getElementsByTagName(\"head\")[0].appendChild(s);\n          s.async = true;\n          s.onload = () => {\n            VEGA_DEBUG[key] = version;\n            return resolve(paths[lib]);\n          };\n          s.onerror = () => reject(`Error loading script: ${paths[lib]}`);\n          s.src = paths[lib];\n        });\n    }\n\n    function showError(err) {\n      outputDiv.innerHTML = `<div class=\"error\" style=\"color:red;\">${err}</div>`;\n      throw err;\n    }\n\n    function displayChart(vegaEmbed) {\n      vegaEmbed(outputDiv, spec, embedOpt)\n        .catch(err => showError(`Javascript Error: ${err.message}<br>This usually means there's a typo in your chart specification. See the javascript console for the full traceback.`));\n    }\n\n    if(typeof define === \"function\" && define.amd) {\n      requirejs.config({paths});\n      require([\"vega-embed\"], displayChart, err => showError(`Error loading script: ${err.message}`));\n    } else {\n      maybeLoadScript(\"vega\", \"5\")\n        .then(() => maybeLoadScript(\"vega-lite\", \"4.17.0\"))\n        .then(() => maybeLoadScript(\"vega-embed\", \"6\"))\n        .catch(showError)\n        .then(() => displayChart(vegaEmbed));\n    }\n  })({\"config\": {\"view\": {\"continuousWidth\": 400, \"continuousHeight\": 300}}, \"data\": {\"name\": \"data-5d5f97471ecf66635b3fb2d263bac6ba\"}, \"mark\": \"bar\", \"encoding\": {\"color\": {\"field\": \"Categories\", \"scale\": {\"range\": [\"#2EA8CE\", \"#EB9F3C\", \"#F4D837\", \"#51BF9D\", \"#8CBCCB\", \"#9487C0\"]}, \"type\": \"nominal\"}, \"row\": {\"field\": \"Categories\", \"type\": \"nominal\"}, \"tooltip\": [{\"field\": \"Agency\", \"type\": \"nominal\"}, {\"field\": \"Funding Amount\", \"type\": \"quantitative\"}], \"x\": {\"axis\": {\"format\": \"$.2s\", \"title\": \"Obligated Funding ($2021)\"}, \"field\": \"Funding Amount\", \"type\": \"quantitative\"}, \"y\": {\"field\": \"Agency\", \"type\": \"nominal\"}}, \"$schema\": \"https://vega.github.io/schema/vega-lite/v4.17.0.json\", \"datasets\": {\"data-5d5f97471ecf66635b3fb2d263bac6ba\": [{\"Agency\": \"Metropolitan Transportation Commission\", \"Categories\": \"Total Requested\", \"Funding Amount\": 1891120.7657899645}, {\"Agency\": \"Sunnyvale\", \"Categories\": \"Total Requested\", \"Funding Amount\": 928104.7429225458}, {\"Agency\": \"Oakland\", \"Categories\": \"Total Requested\", \"Funding Amount\": 1799536.078974054}, {\"Agency\": \"San Jose\", \"Categories\": \"Total Requested\", \"Funding Amount\": 295984.4092976527}, {\"Agency\": \"San Leandro\", \"Categories\": \"Total Requested\", \"Funding Amount\": 143582.35902528386}, {\"Agency\": \"Metropolitan Transportation Commission\", \"Categories\": \"Fed Requested\", \"Funding Amount\": 1879749.0219219865}, {\"Agency\": \"Sunnyvale\", \"Categories\": \"Fed Requested\", \"Funding Amount\": 721554.6089858533}, {\"Agency\": \"Oakland\", \"Categories\": \"Fed Requested\", \"Funding Amount\": 1204808.1708253678}, {\"Agency\": \"San Jose\", \"Categories\": \"Fed Requested\", \"Funding Amount\": 270786.4812614909}, {\"Agency\": \"San Leandro\", \"Categories\": \"Fed Requested\", \"Funding Amount\": -328.53984403832146}, {\"Agency\": \"Metropolitan Transportation Commission\", \"Categories\": \"AC Requested\", \"Funding Amount\": 0.0}, {\"Agency\": \"Sunnyvale\", \"Categories\": \"AC Requested\", \"Funding Amount\": 0.0}, {\"Agency\": \"Oakland\", \"Categories\": \"AC Requested\", \"Funding Amount\": 0.0}, {\"Agency\": \"San Jose\", \"Categories\": \"AC Requested\", \"Funding Amount\": 0.0}, {\"Agency\": \"San Leandro\", \"Categories\": \"AC Requested\", \"Funding Amount\": 0.0}]}}, {\"mode\": \"vega-lite\"});\n</script>",
          "text/plain": "alt.Chart(...)"
         },
         "metadata": {},
         "output_type": "display_data"
        }
       ]
      }
     },
     "ec03af1a4b944aecaa864f7436cdef12": {
      "model_module": "@jupyter-widgets/output",
      "model_module_version": "1.0.0",
      "model_name": "OutputModel",
      "state": {
       "layout": "IPY_MODEL_590a1ac287f14868a5900afa056ea8a9",
       "outputs": [
        {
         "data": {
          "application/vnd.jupyter.widget-view+json": {
           "model_id": "",
           "version_major": 2,
           "version_minor": 0
          },
          "text/plain": "HTML(value='<strong>Top Agencies using Bridge Projects</strong>')"
         },
         "metadata": {},
         "output_type": "display_data"
        },
        {
         "data": {
          "text/html": "<style type=\"text/css\">\n</style>\n<table id=\"T_d969c\">\n  <thead>\n    <tr>\n      <th class=\"blank level0\" >&nbsp;</th>\n      <th id=\"T_d969c_level0_col0\" class=\"col_heading level0 col0\" >Agency</th>\n      <th id=\"T_d969c_level0_col1\" class=\"col_heading level0 col1\" >Bridge Obligations</th>\n      <th id=\"T_d969c_level0_col2\" class=\"col_heading level0 col2\" >Percent of Category</th>\n    </tr>\n  </thead>\n  <tbody>\n    <tr>\n      <th id=\"T_d969c_level0_row0\" class=\"row_heading level0 row0\" >0</th>\n      <td id=\"T_d969c_row0_col0\" class=\"data row0 col0\" >Tulare County</td>\n      <td id=\"T_d969c_row0_col1\" class=\"data row0 col1\" >110</td>\n      <td id=\"T_d969c_row0_col2\" class=\"data row0 col2\" >3.13%</td>\n    </tr>\n    <tr>\n      <th id=\"T_d969c_level0_row1\" class=\"row_heading level0 row1\" >1</th>\n      <td id=\"T_d969c_row1_col0\" class=\"data row1 col0\" >Fresno County</td>\n      <td id=\"T_d969c_row1_col1\" class=\"data row1 col1\" >108</td>\n      <td id=\"T_d969c_row1_col2\" class=\"data row1 col2\" >3.07%</td>\n    </tr>\n    <tr>\n      <th id=\"T_d969c_level0_row2\" class=\"row_heading level0 row2\" >2</th>\n      <td id=\"T_d969c_row2_col0\" class=\"data row2 col0\" >Humboldt County</td>\n      <td id=\"T_d969c_row2_col1\" class=\"data row2 col1\" >104</td>\n      <td id=\"T_d969c_row2_col2\" class=\"data row2 col2\" >2.96%</td>\n    </tr>\n    <tr>\n      <th id=\"T_d969c_level0_row3\" class=\"row_heading level0 row3\" >3</th>\n      <td id=\"T_d969c_row3_col0\" class=\"data row3 col0\" >El Dorado County</td>\n      <td id=\"T_d969c_row3_col1\" class=\"data row3 col1\" >94</td>\n      <td id=\"T_d969c_row3_col2\" class=\"data row3 col2\" >2.67%</td>\n    </tr>\n    <tr>\n      <th id=\"T_d969c_level0_row4\" class=\"row_heading level0 row4\" >4</th>\n      <td id=\"T_d969c_row4_col0\" class=\"data row4 col0\" >Lake County</td>\n      <td id=\"T_d969c_row4_col1\" class=\"data row4 col1\" >94</td>\n      <td id=\"T_d969c_row4_col2\" class=\"data row4 col2\" >2.67%</td>\n    </tr>\n  </tbody>\n</table>\n",
          "text/plain": "<pandas.io.formats.style.Styler at 0x7f60798d7e20>"
         },
         "metadata": {},
         "output_type": "display_data"
        },
        {
         "data": {
          "text/html": "\n<div id=\"altair-viz-5e7a2a3ed3994750a4fae9c3244ad9d9\"></div>\n<script type=\"text/javascript\">\n  var VEGA_DEBUG = (typeof VEGA_DEBUG == \"undefined\") ? {} : VEGA_DEBUG;\n  (function(spec, embedOpt){\n    let outputDiv = document.currentScript.previousElementSibling;\n    if (outputDiv.id !== \"altair-viz-5e7a2a3ed3994750a4fae9c3244ad9d9\") {\n      outputDiv = document.getElementById(\"altair-viz-5e7a2a3ed3994750a4fae9c3244ad9d9\");\n    }\n    const paths = {\n      \"vega\": \"https://cdn.jsdelivr.net/npm//vega@5?noext\",\n      \"vega-lib\": \"https://cdn.jsdelivr.net/npm//vega-lib?noext\",\n      \"vega-lite\": \"https://cdn.jsdelivr.net/npm//vega-lite@4.17.0?noext\",\n      \"vega-embed\": \"https://cdn.jsdelivr.net/npm//vega-embed@6?noext\",\n    };\n\n    function maybeLoadScript(lib, version) {\n      var key = `${lib.replace(\"-\", \"\")}_version`;\n      return (VEGA_DEBUG[key] == version) ?\n        Promise.resolve(paths[lib]) :\n        new Promise(function(resolve, reject) {\n          var s = document.createElement('script');\n          document.getElementsByTagName(\"head\")[0].appendChild(s);\n          s.async = true;\n          s.onload = () => {\n            VEGA_DEBUG[key] = version;\n            return resolve(paths[lib]);\n          };\n          s.onerror = () => reject(`Error loading script: ${paths[lib]}`);\n          s.src = paths[lib];\n        });\n    }\n\n    function showError(err) {\n      outputDiv.innerHTML = `<div class=\"error\" style=\"color:red;\">${err}</div>`;\n      throw err;\n    }\n\n    function displayChart(vegaEmbed) {\n      vegaEmbed(outputDiv, spec, embedOpt)\n        .catch(err => showError(`Javascript Error: ${err.message}<br>This usually means there's a typo in your chart specification. See the javascript console for the full traceback.`));\n    }\n\n    if(typeof define === \"function\" && define.amd) {\n      requirejs.config({paths});\n      require([\"vega-embed\"], displayChart, err => showError(`Error loading script: ${err.message}`));\n    } else {\n      maybeLoadScript(\"vega\", \"5\")\n        .then(() => maybeLoadScript(\"vega-lite\", \"4.17.0\"))\n        .then(() => maybeLoadScript(\"vega-embed\", \"6\"))\n        .catch(showError)\n        .then(() => displayChart(vegaEmbed));\n    }\n  })({\"config\": {\"view\": {\"continuousWidth\": 400, \"continuousHeight\": 300}}, \"data\": {\"name\": \"data-bbeddef611236c61db38fbe4bf2b5a7b\"}, \"mark\": \"bar\", \"encoding\": {\"color\": {\"field\": \"Categories\", \"scale\": {\"range\": [\"#2EA8CE\", \"#EB9F3C\", \"#F4D837\", \"#51BF9D\", \"#8CBCCB\", \"#9487C0\"]}, \"type\": \"nominal\"}, \"row\": {\"field\": \"Categories\", \"type\": \"nominal\"}, \"tooltip\": [{\"field\": \"Agency\", \"type\": \"nominal\"}, {\"field\": \"Funding Amount\", \"type\": \"quantitative\"}], \"x\": {\"axis\": {\"format\": \"$.2s\", \"title\": \"Obligated Funding ($2021)\"}, \"field\": \"Funding Amount\", \"type\": \"quantitative\"}, \"y\": {\"field\": \"Agency\", \"type\": \"nominal\"}}, \"$schema\": \"https://vega.github.io/schema/vega-lite/v4.17.0.json\", \"datasets\": {\"data-bbeddef611236c61db38fbe4bf2b5a7b\": [{\"Agency\": \"Tulare County\", \"Categories\": \"Total Requested\", \"Funding Amount\": 350102.12774168997}, {\"Agency\": \"Fresno County\", \"Categories\": \"Total Requested\", \"Funding Amount\": 464876.6787461888}, {\"Agency\": \"Humboldt County\", \"Categories\": \"Total Requested\", \"Funding Amount\": 191567.20175444707}, {\"Agency\": \"El Dorado County\", \"Categories\": \"Total Requested\", \"Funding Amount\": 1320886.9617813618}, {\"Agency\": \"Lake County\", \"Categories\": \"Total Requested\", \"Funding Amount\": 262860.1546629166}, {\"Agency\": \"Tulare County\", \"Categories\": \"Fed Requested\", \"Funding Amount\": 340603.51006132265}, {\"Agency\": \"Fresno County\", \"Categories\": \"Fed Requested\", \"Funding Amount\": 410531.25251010834}, {\"Agency\": \"Humboldt County\", \"Categories\": \"Fed Requested\", \"Funding Amount\": 178894.51149098342}, {\"Agency\": \"El Dorado County\", \"Categories\": \"Fed Requested\", \"Funding Amount\": 700713.1932399541}, {\"Agency\": \"Lake County\", \"Categories\": \"Fed Requested\", \"Funding Amount\": 257456.7981703208}, {\"Agency\": \"Tulare County\", \"Categories\": \"AC Requested\", \"Funding Amount\": 3142.3022370064664}, {\"Agency\": \"Fresno County\", \"Categories\": \"AC Requested\", \"Funding Amount\": 23363.187655061465}, {\"Agency\": \"Humboldt County\", \"Categories\": \"AC Requested\", \"Funding Amount\": 75.2102761428018}, {\"Agency\": \"El Dorado County\", \"Categories\": \"AC Requested\", \"Funding Amount\": 587061.5223979005}, {\"Agency\": \"Lake County\", \"Categories\": \"AC Requested\", \"Funding Amount\": 0.0}]}}, {\"mode\": \"vega-lite\"});\n</script>",
          "text/plain": "alt.Chart(...)"
         },
         "metadata": {},
         "output_type": "display_data"
        }
       ]
      }
     },
     "ec407d4c9c7a424a89ec857fc18ece80": {
      "model_module": "@jupyter-widgets/controls",
      "model_module_version": "1.5.0",
      "model_name": "DescriptionStyleModel",
      "state": {
       "description_width": ""
      }
     },
     "ed23c5865c244f9ea5167af016501d15": {
      "model_module": "@jupyter-widgets/base",
      "model_module_version": "1.2.0",
      "model_name": "LayoutModel",
      "state": {}
     },
     "edadc0e3fde846fd9de031fb4e8b3b73": {
      "model_module": "@jupyter-widgets/base",
      "model_module_version": "1.2.0",
      "model_name": "LayoutModel",
      "state": {}
     },
     "eefe77510059432689f28859dc98d493": {
      "model_module": "@jupyter-widgets/base",
      "model_module_version": "1.2.0",
      "model_name": "LayoutModel",
      "state": {}
     },
     "ef59467d51394cd6ad1d7b1dd4b59288": {
      "model_module": "@jupyter-widgets/controls",
      "model_module_version": "1.5.0",
      "model_name": "HTMLModel",
      "state": {
       "layout": "IPY_MODEL_896a95198757419b9cd71841656d79c6",
       "style": "IPY_MODEL_4c6d27fb59e9477a81b833daedb4862f",
       "value": "<strong>Top Agencies using Infrastructure & Emergency Relief Projects</strong>"
      }
     },
     "ef7abd1d66c548dcb311bb966c1cb99d": {
      "model_module": "@jupyter-widgets/controls",
      "model_module_version": "1.5.0",
      "model_name": "HTMLModel",
      "state": {
       "layout": "IPY_MODEL_bd51d0de8ab149dbbeebd3f052a66e78",
       "style": "IPY_MODEL_685db9e4a7274409a814cdcaa8bce71a",
       "value": "<strong>Top Agencies using Infrastructure & Emergency Relief Projects</strong>"
      }
     },
     "f0954383978e40a79ea0d3977d88522b": {
      "model_module": "@jupyter-widgets/controls",
      "model_module_version": "1.5.0",
      "model_name": "HTMLModel",
      "state": {
       "layout": "IPY_MODEL_799cff16d0464c7785c74d60863a6165",
       "style": "IPY_MODEL_414f2a50cb6948dea667bba47ef48001",
       "value": "<strong>Top Agencies using Transit Projects</strong>"
      }
     },
     "f0c81bb1d8bc447594117a51bc1a320f": {
      "model_module": "@jupyter-widgets/output",
      "model_module_version": "1.0.0",
      "model_name": "OutputModel",
      "state": {
       "layout": "IPY_MODEL_317f328c9fb14be8b4f59affe1b29d2e",
       "outputs": [
        {
         "data": {
          "application/vnd.jupyter.widget-view+json": {
           "model_id": "",
           "version_major": 2,
           "version_minor": 0
          },
          "text/plain": "HTML(value='<strong>Top Agencies using Congestion Relief Projects</strong>')"
         },
         "metadata": {},
         "output_type": "display_data"
        },
        {
         "data": {
          "text/html": "<style type=\"text/css\">\n</style>\n<table id=\"T_2d3f1\">\n  <thead>\n    <tr>\n      <th class=\"blank level0\" >&nbsp;</th>\n      <th id=\"T_2d3f1_level0_col0\" class=\"col_heading level0 col0\" >Agency</th>\n      <th id=\"T_2d3f1_level0_col1\" class=\"col_heading level0 col1\" >Congestion Relief Obligations</th>\n      <th id=\"T_2d3f1_level0_col2\" class=\"col_heading level0 col2\" >Percent of Category</th>\n    </tr>\n  </thead>\n  <tbody>\n    <tr>\n      <th id=\"T_2d3f1_level0_row0\" class=\"row_heading level0 row0\" >0</th>\n      <td id=\"T_2d3f1_row0_col0\" class=\"data row0 col0\" >Contra Costa Transportation Authority</td>\n      <td id=\"T_2d3f1_row0_col1\" class=\"data row0 col1\" >6</td>\n      <td id=\"T_2d3f1_row0_col2\" class=\"data row0 col2\" >22.22%</td>\n    </tr>\n    <tr>\n      <th id=\"T_2d3f1_level0_row1\" class=\"row_heading level0 row1\" >1</th>\n      <td id=\"T_2d3f1_row1_col0\" class=\"data row1 col0\" >Metropolitan Transportation Commission</td>\n      <td id=\"T_2d3f1_row1_col1\" class=\"data row1 col1\" >5</td>\n      <td id=\"T_2d3f1_row1_col2\" class=\"data row1 col2\" >18.52%</td>\n    </tr>\n    <tr>\n      <th id=\"T_2d3f1_level0_row2\" class=\"row_heading level0 row2\" >2</th>\n      <td id=\"T_2d3f1_row2_col0\" class=\"data row2 col0\" >Sonoma County Transportation Authority</td>\n      <td id=\"T_2d3f1_row2_col1\" class=\"data row2 col1\" >4</td>\n      <td id=\"T_2d3f1_row2_col2\" class=\"data row2 col2\" >14.81%</td>\n    </tr>\n    <tr>\n      <th id=\"T_2d3f1_level0_row3\" class=\"row_heading level0 row3\" >3</th>\n      <td id=\"T_2d3f1_row3_col0\" class=\"data row3 col0\" >San Mateo</td>\n      <td id=\"T_2d3f1_row3_col1\" class=\"data row3 col1\" >3</td>\n      <td id=\"T_2d3f1_row3_col2\" class=\"data row3 col2\" >11.11%</td>\n    </tr>\n    <tr>\n      <th id=\"T_2d3f1_level0_row4\" class=\"row_heading level0 row4\" >4</th>\n      <td id=\"T_2d3f1_row4_col0\" class=\"data row4 col0\" >Solano Transportation Authority</td>\n      <td id=\"T_2d3f1_row4_col1\" class=\"data row4 col1\" >3</td>\n      <td id=\"T_2d3f1_row4_col2\" class=\"data row4 col2\" >11.11%</td>\n    </tr>\n  </tbody>\n</table>\n",
          "text/plain": "<pandas.io.formats.style.Styler at 0x7f605cfd6f70>"
         },
         "metadata": {},
         "output_type": "display_data"
        },
        {
         "data": {
          "text/html": "\n<div id=\"altair-viz-9b5ec45eb0194ac599114e2dabb5d73a\"></div>\n<script type=\"text/javascript\">\n  var VEGA_DEBUG = (typeof VEGA_DEBUG == \"undefined\") ? {} : VEGA_DEBUG;\n  (function(spec, embedOpt){\n    let outputDiv = document.currentScript.previousElementSibling;\n    if (outputDiv.id !== \"altair-viz-9b5ec45eb0194ac599114e2dabb5d73a\") {\n      outputDiv = document.getElementById(\"altair-viz-9b5ec45eb0194ac599114e2dabb5d73a\");\n    }\n    const paths = {\n      \"vega\": \"https://cdn.jsdelivr.net/npm//vega@5?noext\",\n      \"vega-lib\": \"https://cdn.jsdelivr.net/npm//vega-lib?noext\",\n      \"vega-lite\": \"https://cdn.jsdelivr.net/npm//vega-lite@4.17.0?noext\",\n      \"vega-embed\": \"https://cdn.jsdelivr.net/npm//vega-embed@6?noext\",\n    };\n\n    function maybeLoadScript(lib, version) {\n      var key = `${lib.replace(\"-\", \"\")}_version`;\n      return (VEGA_DEBUG[key] == version) ?\n        Promise.resolve(paths[lib]) :\n        new Promise(function(resolve, reject) {\n          var s = document.createElement('script');\n          document.getElementsByTagName(\"head\")[0].appendChild(s);\n          s.async = true;\n          s.onload = () => {\n            VEGA_DEBUG[key] = version;\n            return resolve(paths[lib]);\n          };\n          s.onerror = () => reject(`Error loading script: ${paths[lib]}`);\n          s.src = paths[lib];\n        });\n    }\n\n    function showError(err) {\n      outputDiv.innerHTML = `<div class=\"error\" style=\"color:red;\">${err}</div>`;\n      throw err;\n    }\n\n    function displayChart(vegaEmbed) {\n      vegaEmbed(outputDiv, spec, embedOpt)\n        .catch(err => showError(`Javascript Error: ${err.message}<br>This usually means there's a typo in your chart specification. See the javascript console for the full traceback.`));\n    }\n\n    if(typeof define === \"function\" && define.amd) {\n      requirejs.config({paths});\n      require([\"vega-embed\"], displayChart, err => showError(`Error loading script: ${err.message}`));\n    } else {\n      maybeLoadScript(\"vega\", \"5\")\n        .then(() => maybeLoadScript(\"vega-lite\", \"4.17.0\"))\n        .then(() => maybeLoadScript(\"vega-embed\", \"6\"))\n        .catch(showError)\n        .then(() => displayChart(vegaEmbed));\n    }\n  })({\"config\": {\"view\": {\"continuousWidth\": 400, \"continuousHeight\": 300}}, \"data\": {\"name\": \"data-288e035acb4bd3ef567cff5d4068697a\"}, \"mark\": \"bar\", \"encoding\": {\"color\": {\"field\": \"Categories\", \"scale\": {\"range\": [\"#2EA8CE\", \"#EB9F3C\", \"#F4D837\", \"#51BF9D\", \"#8CBCCB\", \"#9487C0\"]}, \"type\": \"nominal\"}, \"row\": {\"field\": \"Categories\", \"type\": \"nominal\"}, \"tooltip\": [{\"field\": \"Agency\", \"type\": \"nominal\"}, {\"field\": \"Funding Amount\", \"type\": \"quantitative\"}], \"x\": {\"axis\": {\"format\": \"$.2s\", \"title\": \"Obligated Funding ($2021)\"}, \"field\": \"Funding Amount\", \"type\": \"quantitative\"}, \"y\": {\"field\": \"Agency\", \"type\": \"nominal\"}}, \"$schema\": \"https://vega.github.io/schema/vega-lite/v4.17.0.json\", \"datasets\": {\"data-288e035acb4bd3ef567cff5d4068697a\": [{\"Agency\": \"Contra Costa Transportation Authority\", \"Categories\": \"Total Requested\", \"Funding Amount\": 197250.95617523268}, {\"Agency\": \"Metropolitan Transportation Commission\", \"Categories\": \"Total Requested\", \"Funding Amount\": 2873575.211728853}, {\"Agency\": \"Sonoma County Transportation Authority\", \"Categories\": \"Total Requested\", \"Funding Amount\": 24784.0927036328}, {\"Agency\": \"San Mateo\", \"Categories\": \"Total Requested\", \"Funding Amount\": 50566.77608965471}, {\"Agency\": \"Solano Transportation Authority\", \"Categories\": \"Total Requested\", \"Funding Amount\": 156006.74522970387}, {\"Agency\": \"Contra Costa Transportation Authority\", \"Categories\": \"Fed Requested\", \"Funding Amount\": 158480.104075906}, {\"Agency\": \"Metropolitan Transportation Commission\", \"Categories\": \"Fed Requested\", \"Funding Amount\": 2873576.667669716}, {\"Agency\": \"Sonoma County Transportation Authority\", \"Categories\": \"Fed Requested\", \"Funding Amount\": 24773.560430762882}, {\"Agency\": \"San Mateo\", \"Categories\": \"Fed Requested\", \"Funding Amount\": 42627.45791136464}, {\"Agency\": \"Solano Transportation Authority\", \"Categories\": \"Fed Requested\", \"Funding Amount\": 203358.6054765724}, {\"Agency\": \"Contra Costa Transportation Authority\", \"Categories\": \"AC Requested\", \"Funding Amount\": 0.0}, {\"Agency\": \"Metropolitan Transportation Commission\", \"Categories\": \"AC Requested\", \"Funding Amount\": 0.0}, {\"Agency\": \"Sonoma County Transportation Authority\", \"Categories\": \"AC Requested\", \"Funding Amount\": 0.0}, {\"Agency\": \"San Mateo\", \"Categories\": \"AC Requested\", \"Funding Amount\": 0.0}, {\"Agency\": \"Solano Transportation Authority\", \"Categories\": \"AC Requested\", \"Funding Amount\": 0.0}]}}, {\"mode\": \"vega-lite\"});\n</script>",
          "text/plain": "alt.Chart(...)"
         },
         "metadata": {},
         "output_type": "display_data"
        }
       ]
      }
     },
     "f158cb7bced6438c94786aa8cc222c88": {
      "model_module": "@jupyter-widgets/base",
      "model_module_version": "1.2.0",
      "model_name": "LayoutModel",
      "state": {}
     },
     "f1bc69adfaa843f3b91249255840b335": {
      "model_module": "@jupyter-widgets/controls",
      "model_module_version": "1.5.0",
      "model_name": "HTMLModel",
      "state": {
       "layout": "IPY_MODEL_3b68d57d0a554d1b83c2d4dab3ac990c",
       "style": "IPY_MODEL_4cdd6c6e95d4475484357c9dccd4c6b7",
       "value": "<strong>Top Agencies using Congestion Relief Projects</strong>"
      }
     },
     "f2316f13567a4841ae7f363cd70a5c77": {
      "model_module": "@jupyter-widgets/controls",
      "model_module_version": "1.5.0",
      "model_name": "HTMLModel",
      "state": {
       "layout": "IPY_MODEL_c984660641a54f0398a8bf200b561ffa",
       "style": "IPY_MODEL_4f6653b014c44513aeb830675d847399",
       "value": "<strong>Top Agencies using Congestion Relief Projects</strong>"
      }
     },
     "f237fb9bd7c2475d8abfc899e189e8de": {
      "model_module": "@jupyter-widgets/base",
      "model_module_version": "1.2.0",
      "model_name": "LayoutModel",
      "state": {}
     },
     "f2a7628c09874b1ba7311ff220e96117": {
      "model_module": "@jupyter-widgets/output",
      "model_module_version": "1.0.0",
      "model_name": "OutputModel",
      "state": {
       "layout": "IPY_MODEL_3166ca84d2cf4ebb99323dc4cc811295",
       "outputs": [
        {
         "data": {
          "application/vnd.jupyter.widget-view+json": {
           "model_id": "",
           "version_major": 2,
           "version_minor": 0
          },
          "text/plain": "HTML(value='<strong>Top Agencies using Street Projects</strong>')"
         },
         "metadata": {},
         "output_type": "display_data"
        },
        {
         "data": {
          "text/html": "<style type=\"text/css\">\n</style>\n<table id=\"T_c6343\">\n  <thead>\n    <tr>\n      <th class=\"blank level0\" >&nbsp;</th>\n      <th id=\"T_c6343_level0_col0\" class=\"col_heading level0 col0\" >Agency</th>\n      <th id=\"T_c6343_level0_col1\" class=\"col_heading level0 col1\" >Street Obligations</th>\n      <th id=\"T_c6343_level0_col2\" class=\"col_heading level0 col2\" >Percent of Category</th>\n    </tr>\n  </thead>\n  <tbody>\n    <tr>\n      <th id=\"T_c6343_level0_row0\" class=\"row_heading level0 row0\" >0</th>\n      <td id=\"T_c6343_row0_col0\" class=\"data row0 col0\" >Oakland</td>\n      <td id=\"T_c6343_row0_col1\" class=\"data row0 col1\" >82</td>\n      <td id=\"T_c6343_row0_col2\" class=\"data row0 col2\" >6.23%</td>\n    </tr>\n    <tr>\n      <th id=\"T_c6343_level0_row1\" class=\"row_heading level0 row1\" >1</th>\n      <td id=\"T_c6343_row1_col0\" class=\"data row1 col0\" >Contra Costa County</td>\n      <td id=\"T_c6343_row1_col1\" class=\"data row1 col1\" >81</td>\n      <td id=\"T_c6343_row1_col2\" class=\"data row1 col2\" >6.15%</td>\n    </tr>\n    <tr>\n      <th id=\"T_c6343_level0_row2\" class=\"row_heading level0 row2\" >2</th>\n      <td id=\"T_c6343_row2_col0\" class=\"data row2 col0\" >San Jose</td>\n      <td id=\"T_c6343_row2_col1\" class=\"data row2 col1\" >66</td>\n      <td id=\"T_c6343_row2_col2\" class=\"data row2 col2\" >5.01%</td>\n    </tr>\n    <tr>\n      <th id=\"T_c6343_level0_row3\" class=\"row_heading level0 row3\" >3</th>\n      <td id=\"T_c6343_row3_col0\" class=\"data row3 col0\" >San Francisco County</td>\n      <td id=\"T_c6343_row3_col1\" class=\"data row3 col1\" >45</td>\n      <td id=\"T_c6343_row3_col2\" class=\"data row3 col2\" >3.42%</td>\n    </tr>\n    <tr>\n      <th id=\"T_c6343_level0_row4\" class=\"row_heading level0 row4\" >4</th>\n      <td id=\"T_c6343_row4_col0\" class=\"data row4 col0\" >Sunnyvale</td>\n      <td id=\"T_c6343_row4_col1\" class=\"data row4 col1\" >45</td>\n      <td id=\"T_c6343_row4_col2\" class=\"data row4 col2\" >3.42%</td>\n    </tr>\n  </tbody>\n</table>\n",
          "text/plain": "<pandas.io.formats.style.Styler at 0x7f605e8b0b50>"
         },
         "metadata": {},
         "output_type": "display_data"
        },
        {
         "data": {
          "text/html": "\n<div id=\"altair-viz-079aea2882ee458db93c3418cfa62fd9\"></div>\n<script type=\"text/javascript\">\n  var VEGA_DEBUG = (typeof VEGA_DEBUG == \"undefined\") ? {} : VEGA_DEBUG;\n  (function(spec, embedOpt){\n    let outputDiv = document.currentScript.previousElementSibling;\n    if (outputDiv.id !== \"altair-viz-079aea2882ee458db93c3418cfa62fd9\") {\n      outputDiv = document.getElementById(\"altair-viz-079aea2882ee458db93c3418cfa62fd9\");\n    }\n    const paths = {\n      \"vega\": \"https://cdn.jsdelivr.net/npm//vega@5?noext\",\n      \"vega-lib\": \"https://cdn.jsdelivr.net/npm//vega-lib?noext\",\n      \"vega-lite\": \"https://cdn.jsdelivr.net/npm//vega-lite@4.17.0?noext\",\n      \"vega-embed\": \"https://cdn.jsdelivr.net/npm//vega-embed@6?noext\",\n    };\n\n    function maybeLoadScript(lib, version) {\n      var key = `${lib.replace(\"-\", \"\")}_version`;\n      return (VEGA_DEBUG[key] == version) ?\n        Promise.resolve(paths[lib]) :\n        new Promise(function(resolve, reject) {\n          var s = document.createElement('script');\n          document.getElementsByTagName(\"head\")[0].appendChild(s);\n          s.async = true;\n          s.onload = () => {\n            VEGA_DEBUG[key] = version;\n            return resolve(paths[lib]);\n          };\n          s.onerror = () => reject(`Error loading script: ${paths[lib]}`);\n          s.src = paths[lib];\n        });\n    }\n\n    function showError(err) {\n      outputDiv.innerHTML = `<div class=\"error\" style=\"color:red;\">${err}</div>`;\n      throw err;\n    }\n\n    function displayChart(vegaEmbed) {\n      vegaEmbed(outputDiv, spec, embedOpt)\n        .catch(err => showError(`Javascript Error: ${err.message}<br>This usually means there's a typo in your chart specification. See the javascript console for the full traceback.`));\n    }\n\n    if(typeof define === \"function\" && define.amd) {\n      requirejs.config({paths});\n      require([\"vega-embed\"], displayChart, err => showError(`Error loading script: ${err.message}`));\n    } else {\n      maybeLoadScript(\"vega\", \"5\")\n        .then(() => maybeLoadScript(\"vega-lite\", \"4.17.0\"))\n        .then(() => maybeLoadScript(\"vega-embed\", \"6\"))\n        .catch(showError)\n        .then(() => displayChart(vegaEmbed));\n    }\n  })({\"config\": {\"view\": {\"continuousWidth\": 400, \"continuousHeight\": 300}}, \"data\": {\"name\": \"data-2d34081fc3d7ba7c3cd8f495e86d10d3\"}, \"mark\": \"bar\", \"encoding\": {\"color\": {\"field\": \"Categories\", \"scale\": {\"range\": [\"#2EA8CE\", \"#EB9F3C\", \"#F4D837\", \"#51BF9D\", \"#8CBCCB\", \"#9487C0\"]}, \"type\": \"nominal\"}, \"row\": {\"field\": \"Categories\", \"type\": \"nominal\"}, \"tooltip\": [{\"field\": \"Agency\", \"type\": \"nominal\"}, {\"field\": \"Funding Amount\", \"type\": \"quantitative\"}], \"x\": {\"axis\": {\"format\": \"$.2s\", \"title\": \"Obligated Funding ($2021)\"}, \"field\": \"Funding Amount\", \"type\": \"quantitative\"}, \"y\": {\"field\": \"Agency\", \"type\": \"nominal\"}}, \"$schema\": \"https://vega.github.io/schema/vega-lite/v4.17.0.json\", \"datasets\": {\"data-2d34081fc3d7ba7c3cd8f495e86d10d3\": [{\"Agency\": \"Oakland\", \"Categories\": \"Total Requested\", \"Funding Amount\": 956510.9982220907}, {\"Agency\": \"Contra Costa County\", \"Categories\": \"Total Requested\", \"Funding Amount\": 623295.6954156285}, {\"Agency\": \"San Jose\", \"Categories\": \"Total Requested\", \"Funding Amount\": 1164523.0377909504}, {\"Agency\": \"San Francisco County\", \"Categories\": \"Total Requested\", \"Funding Amount\": 4830086.66271812}, {\"Agency\": \"Sunnyvale\", \"Categories\": \"Total Requested\", \"Funding Amount\": 263230.4439052576}, {\"Agency\": \"Oakland\", \"Categories\": \"Fed Requested\", \"Funding Amount\": 666584.6247971884}, {\"Agency\": \"Contra Costa County\", \"Categories\": \"Fed Requested\", \"Funding Amount\": 425612.567296328}, {\"Agency\": \"San Jose\", \"Categories\": \"Fed Requested\", \"Funding Amount\": 949104.6690137495}, {\"Agency\": \"San Francisco County\", \"Categories\": \"Fed Requested\", \"Funding Amount\": 596351.3825193458}, {\"Agency\": \"Sunnyvale\", \"Categories\": \"Fed Requested\", \"Funding Amount\": 218961.48645088891}, {\"Agency\": \"Oakland\", \"Categories\": \"AC Requested\", \"Funding Amount\": 0.0}, {\"Agency\": \"Contra Costa County\", \"Categories\": \"AC Requested\", \"Funding Amount\": 229.00333419290047}, {\"Agency\": \"San Jose\", \"Categories\": \"AC Requested\", \"Funding Amount\": 0.0}, {\"Agency\": \"San Francisco County\", \"Categories\": \"AC Requested\", \"Funding Amount\": 3762.4890021642877}, {\"Agency\": \"Sunnyvale\", \"Categories\": \"AC Requested\", \"Funding Amount\": 0.0}]}}, {\"mode\": \"vega-lite\"});\n</script>",
          "text/plain": "alt.Chart(...)"
         },
         "metadata": {},
         "output_type": "display_data"
        }
       ]
      }
     },
     "f302f178c78445e8b36aaf8cc9339bef": {
      "model_module": "@jupyter-widgets/base",
      "model_module_version": "1.2.0",
      "model_name": "LayoutModel",
      "state": {}
     },
     "f355ecb530ed465483aec4999950770b": {
      "model_module": "@jupyter-widgets/controls",
      "model_module_version": "1.5.0",
      "model_name": "HTMLModel",
      "state": {
       "layout": "IPY_MODEL_e128d2c397624bd9bf65853f702db017",
       "style": "IPY_MODEL_ce83dd3fa08f4867808e0ee9c94bb89e",
       "value": "<strong>Top Agencies using Bridge Projects</strong>"
      }
     },
     "f36f9dfa23eb4bb390adc889da4a44f4": {
      "model_module": "@jupyter-widgets/controls",
      "model_module_version": "1.5.0",
      "model_name": "DescriptionStyleModel",
      "state": {
       "description_width": ""
      }
     },
     "f3b484c196194a35abae4ac772887c3d": {
      "model_module": "@jupyter-widgets/base",
      "model_module_version": "1.2.0",
      "model_name": "LayoutModel",
      "state": {}
     },
     "f424abffaca84e35849eba7babca0e77": {
      "model_module": "@jupyter-widgets/base",
      "model_module_version": "1.2.0",
      "model_name": "LayoutModel",
      "state": {}
     },
     "f55f543bdcac45e6ac559f6a19e5e475": {
      "model_module": "@jupyter-widgets/base",
      "model_module_version": "1.2.0",
      "model_name": "LayoutModel",
      "state": {}
     },
     "f5f04f862c8d4facb22e6396315f5758": {
      "model_module": "@jupyter-widgets/base",
      "model_module_version": "1.2.0",
      "model_name": "LayoutModel",
      "state": {}
     },
     "f6cf7ea0582a42d6a1664fc4adf854ec": {
      "model_module": "@jupyter-widgets/base",
      "model_module_version": "1.2.0",
      "model_name": "LayoutModel",
      "state": {}
     },
     "f7786120599c402ba186334b7538b6a8": {
      "model_module": "@jupyter-widgets/base",
      "model_module_version": "1.2.0",
      "model_name": "LayoutModel",
      "state": {}
     },
     "f7c1475d657247f28affae2dcae27c91": {
      "model_module": "@jupyter-widgets/base",
      "model_module_version": "1.2.0",
      "model_name": "LayoutModel",
      "state": {}
     },
     "f874ea7715f5479b83b3ec879b6eac37": {
      "model_module": "@jupyter-widgets/controls",
      "model_module_version": "1.5.0",
      "model_name": "HTMLModel",
      "state": {
       "layout": "IPY_MODEL_3d30c2b907eb488280fc6f98fb563b8c",
       "style": "IPY_MODEL_550b3550d5264fe2a543c78dfd495982",
       "value": "<strong>Top Agencies using Active Transportation Projects</strong>"
      }
     },
     "f89e491b3bb64701a9d783b7668a81da": {
      "model_module": "@jupyter-widgets/base",
      "model_module_version": "1.2.0",
      "model_name": "LayoutModel",
      "state": {}
     },
     "f8b84fa3f3ac41b09c8f625a2b1a4d0a": {
      "model_module": "@jupyter-widgets/base",
      "model_module_version": "1.2.0",
      "model_name": "LayoutModel",
      "state": {}
     },
     "f9741932a47444159ad9b006b1f3d0d2": {
      "model_module": "@jupyter-widgets/base",
      "model_module_version": "1.2.0",
      "model_name": "LayoutModel",
      "state": {}
     },
     "f9ed23d4348c47688dfa1fe9594daa18": {
      "model_module": "@jupyter-widgets/output",
      "model_module_version": "1.0.0",
      "model_name": "OutputModel",
      "state": {
       "layout": "IPY_MODEL_f8b84fa3f3ac41b09c8f625a2b1a4d0a",
       "outputs": [
        {
         "data": {
          "application/vnd.jupyter.widget-view+json": {
           "model_id": "",
           "version_major": 2,
           "version_minor": 0
          },
          "text/plain": "HTML(value='<strong>Top Agencies using Street Projects</strong>')"
         },
         "metadata": {},
         "output_type": "display_data"
        },
        {
         "data": {
          "text/html": "<style type=\"text/css\">\n</style>\n<table id=\"T_c92cd\">\n  <thead>\n    <tr>\n      <th class=\"blank level0\" >&nbsp;</th>\n      <th id=\"T_c92cd_level0_col0\" class=\"col_heading level0 col0\" >Agency</th>\n      <th id=\"T_c92cd_level0_col1\" class=\"col_heading level0 col1\" >Street Obligations</th>\n      <th id=\"T_c92cd_level0_col2\" class=\"col_heading level0 col2\" >Percent of Category</th>\n    </tr>\n  </thead>\n  <tbody>\n    <tr>\n      <th id=\"T_c92cd_level0_row0\" class=\"row_heading level0 row0\" >0</th>\n      <td id=\"T_c92cd_row0_col0\" class=\"data row0 col0\" >Santa Cruz County</td>\n      <td id=\"T_c92cd_row0_col1\" class=\"data row0 col1\" >303</td>\n      <td id=\"T_c92cd_row0_col2\" class=\"data row0 col2\" >3.50%</td>\n    </tr>\n    <tr>\n      <th id=\"T_c92cd_level0_row1\" class=\"row_heading level0 row1\" >1</th>\n      <td id=\"T_c92cd_row1_col0\" class=\"data row1 col0\" >Los Angeles</td>\n      <td id=\"T_c92cd_row1_col1\" class=\"data row1 col1\" >214</td>\n      <td id=\"T_c92cd_row1_col2\" class=\"data row1 col2\" >2.47%</td>\n    </tr>\n    <tr>\n      <th id=\"T_c92cd_level0_row2\" class=\"row_heading level0 row2\" >2</th>\n      <td id=\"T_c92cd_row2_col0\" class=\"data row2 col0\" >Los Angeles County</td>\n      <td id=\"T_c92cd_row2_col1\" class=\"data row2 col1\" >195</td>\n      <td id=\"T_c92cd_row2_col2\" class=\"data row2 col2\" >2.25%</td>\n    </tr>\n    <tr>\n      <th id=\"T_c92cd_level0_row3\" class=\"row_heading level0 row3\" >3</th>\n      <td id=\"T_c92cd_row3_col0\" class=\"data row3 col0\" >Fresno</td>\n      <td id=\"T_c92cd_row3_col1\" class=\"data row3 col1\" >194</td>\n      <td id=\"T_c92cd_row3_col2\" class=\"data row3 col2\" >2.24%</td>\n    </tr>\n    <tr>\n      <th id=\"T_c92cd_level0_row4\" class=\"row_heading level0 row4\" >4</th>\n      <td id=\"T_c92cd_row4_col0\" class=\"data row4 col0\" >Stockton</td>\n      <td id=\"T_c92cd_row4_col1\" class=\"data row4 col1\" >181</td>\n      <td id=\"T_c92cd_row4_col2\" class=\"data row4 col2\" >2.09%</td>\n    </tr>\n  </tbody>\n</table>\n",
          "text/plain": "<pandas.io.formats.style.Styler at 0x7f605e8ba850>"
         },
         "metadata": {},
         "output_type": "display_data"
        },
        {
         "data": {
          "text/html": "\n<div id=\"altair-viz-2281bac5ece44891b92fef6fb9829272\"></div>\n<script type=\"text/javascript\">\n  var VEGA_DEBUG = (typeof VEGA_DEBUG == \"undefined\") ? {} : VEGA_DEBUG;\n  (function(spec, embedOpt){\n    let outputDiv = document.currentScript.previousElementSibling;\n    if (outputDiv.id !== \"altair-viz-2281bac5ece44891b92fef6fb9829272\") {\n      outputDiv = document.getElementById(\"altair-viz-2281bac5ece44891b92fef6fb9829272\");\n    }\n    const paths = {\n      \"vega\": \"https://cdn.jsdelivr.net/npm//vega@5?noext\",\n      \"vega-lib\": \"https://cdn.jsdelivr.net/npm//vega-lib?noext\",\n      \"vega-lite\": \"https://cdn.jsdelivr.net/npm//vega-lite@4.17.0?noext\",\n      \"vega-embed\": \"https://cdn.jsdelivr.net/npm//vega-embed@6?noext\",\n    };\n\n    function maybeLoadScript(lib, version) {\n      var key = `${lib.replace(\"-\", \"\")}_version`;\n      return (VEGA_DEBUG[key] == version) ?\n        Promise.resolve(paths[lib]) :\n        new Promise(function(resolve, reject) {\n          var s = document.createElement('script');\n          document.getElementsByTagName(\"head\")[0].appendChild(s);\n          s.async = true;\n          s.onload = () => {\n            VEGA_DEBUG[key] = version;\n            return resolve(paths[lib]);\n          };\n          s.onerror = () => reject(`Error loading script: ${paths[lib]}`);\n          s.src = paths[lib];\n        });\n    }\n\n    function showError(err) {\n      outputDiv.innerHTML = `<div class=\"error\" style=\"color:red;\">${err}</div>`;\n      throw err;\n    }\n\n    function displayChart(vegaEmbed) {\n      vegaEmbed(outputDiv, spec, embedOpt)\n        .catch(err => showError(`Javascript Error: ${err.message}<br>This usually means there's a typo in your chart specification. See the javascript console for the full traceback.`));\n    }\n\n    if(typeof define === \"function\" && define.amd) {\n      requirejs.config({paths});\n      require([\"vega-embed\"], displayChart, err => showError(`Error loading script: ${err.message}`));\n    } else {\n      maybeLoadScript(\"vega\", \"5\")\n        .then(() => maybeLoadScript(\"vega-lite\", \"4.17.0\"))\n        .then(() => maybeLoadScript(\"vega-embed\", \"6\"))\n        .catch(showError)\n        .then(() => displayChart(vegaEmbed));\n    }\n  })({\"config\": {\"view\": {\"continuousWidth\": 400, \"continuousHeight\": 300}}, \"data\": {\"name\": \"data-83d0325d2334ae2470ea6536fec35399\"}, \"mark\": \"bar\", \"encoding\": {\"color\": {\"field\": \"Categories\", \"scale\": {\"range\": [\"#2EA8CE\", \"#EB9F3C\", \"#F4D837\", \"#51BF9D\", \"#8CBCCB\", \"#9487C0\"]}, \"type\": \"nominal\"}, \"row\": {\"field\": \"Categories\", \"type\": \"nominal\"}, \"tooltip\": [{\"field\": \"Agency\", \"type\": \"nominal\"}, {\"field\": \"Funding Amount\", \"type\": \"quantitative\"}], \"x\": {\"axis\": {\"format\": \"$.2s\", \"title\": \"Obligated Funding ($2021)\"}, \"field\": \"Funding Amount\", \"type\": \"quantitative\"}, \"y\": {\"field\": \"Agency\", \"type\": \"nominal\"}}, \"$schema\": \"https://vega.github.io/schema/vega-lite/v4.17.0.json\", \"datasets\": {\"data-83d0325d2334ae2470ea6536fec35399\": [{\"Agency\": \"Santa Cruz County\", \"Categories\": \"Total Requested\", \"Funding Amount\": 148572.7311544984}, {\"Agency\": \"Los Angeles\", \"Categories\": \"Total Requested\", \"Funding Amount\": 818150.0513615018}, {\"Agency\": \"Los Angeles County\", \"Categories\": \"Total Requested\", \"Funding Amount\": 382918.64084763266}, {\"Agency\": \"Fresno\", \"Categories\": \"Total Requested\", \"Funding Amount\": 366949.02695706155}, {\"Agency\": \"Stockton\", \"Categories\": \"Total Requested\", \"Funding Amount\": 348403.7227268286}, {\"Agency\": \"Santa Cruz County\", \"Categories\": \"Fed Requested\", \"Funding Amount\": 157435.28622496795}, {\"Agency\": \"Los Angeles\", \"Categories\": \"Fed Requested\", \"Funding Amount\": 742825.9307634895}, {\"Agency\": \"Los Angeles County\", \"Categories\": \"Fed Requested\", \"Funding Amount\": 275458.8800840027}, {\"Agency\": \"Fresno\", \"Categories\": \"Fed Requested\", \"Funding Amount\": 288385.93556578556}, {\"Agency\": \"Stockton\", \"Categories\": \"Fed Requested\", \"Funding Amount\": 286570.8388280882}, {\"Agency\": \"Santa Cruz County\", \"Categories\": \"AC Requested\", \"Funding Amount\": -24794.85554384955}, {\"Agency\": \"Los Angeles\", \"Categories\": \"AC Requested\", \"Funding Amount\": -5017.018342454247}, {\"Agency\": \"Los Angeles County\", \"Categories\": \"AC Requested\", \"Funding Amount\": 14254.817693142844}, {\"Agency\": \"Fresno\", \"Categories\": \"AC Requested\", \"Funding Amount\": 0.0}, {\"Agency\": \"Stockton\", \"Categories\": \"AC Requested\", \"Funding Amount\": 0.0}]}}, {\"mode\": \"vega-lite\"});\n</script>",
          "text/plain": "alt.Chart(...)"
         },
         "metadata": {},
         "output_type": "display_data"
        }
       ]
      }
     },
     "f9fee71c1f854032b535f2205945434d": {
      "model_module": "@jupyter-widgets/base",
      "model_module_version": "1.2.0",
      "model_name": "LayoutModel",
      "state": {}
     },
     "fa1fba356ba54df0a17a2f6dc8fb8b86": {
      "model_module": "@jupyter-widgets/output",
      "model_module_version": "1.0.0",
      "model_name": "OutputModel",
      "state": {
       "layout": "IPY_MODEL_4ef79c65e3054e14b1758329153a72cc",
       "outputs": [
        {
         "data": {
          "application/vnd.jupyter.widget-view+json": {
           "model_id": "",
           "version_major": 2,
           "version_minor": 0
          },
          "text/plain": "HTML(value='<strong>Top Agencies using Congestion Relief Projects</strong>')"
         },
         "metadata": {},
         "output_type": "display_data"
        },
        {
         "data": {
          "text/html": "<style type=\"text/css\">\n</style>\n<table id=\"T_35fa3\">\n  <thead>\n    <tr>\n      <th class=\"blank level0\" >&nbsp;</th>\n      <th id=\"T_35fa3_level0_col0\" class=\"col_heading level0 col0\" >Agency</th>\n      <th id=\"T_35fa3_level0_col1\" class=\"col_heading level0 col1\" >Congestion Relief Obligations</th>\n      <th id=\"T_35fa3_level0_col2\" class=\"col_heading level0 col2\" >Percent of Category</th>\n    </tr>\n  </thead>\n  <tbody>\n    <tr>\n      <th id=\"T_35fa3_level0_row0\" class=\"row_heading level0 row0\" >0</th>\n      <td id=\"T_35fa3_row0_col0\" class=\"data row0 col0\" >Kern County Council of Governments</td>\n      <td id=\"T_35fa3_row0_col1\" class=\"data row0 col1\" >20</td>\n      <td id=\"T_35fa3_row0_col2\" class=\"data row0 col2\" >12.66%</td>\n    </tr>\n    <tr>\n      <th id=\"T_35fa3_level0_row1\" class=\"row_heading level0 row1\" >1</th>\n      <td id=\"T_35fa3_row1_col0\" class=\"data row1 col0\" >Stanislaus Council of Governments</td>\n      <td id=\"T_35fa3_row1_col1\" class=\"data row1 col1\" >18</td>\n      <td id=\"T_35fa3_row1_col2\" class=\"data row1 col2\" >11.39%</td>\n    </tr>\n    <tr>\n      <th id=\"T_35fa3_level0_row2\" class=\"row_heading level0 row2\" >2</th>\n      <td id=\"T_35fa3_row2_col0\" class=\"data row2 col0\" >Modesto</td>\n      <td id=\"T_35fa3_row2_col1\" class=\"data row2 col1\" >17</td>\n      <td id=\"T_35fa3_row2_col2\" class=\"data row2 col2\" >10.76%</td>\n    </tr>\n    <tr>\n      <th id=\"T_35fa3_level0_row3\" class=\"row_heading level0 row3\" >3</th>\n      <td id=\"T_35fa3_row3_col0\" class=\"data row3 col0\" >San Diego Association of Governments</td>\n      <td id=\"T_35fa3_row3_col1\" class=\"data row3 col1\" >12</td>\n      <td id=\"T_35fa3_row3_col2\" class=\"data row3 col2\" >7.59%</td>\n    </tr>\n    <tr>\n      <th id=\"T_35fa3_level0_row4\" class=\"row_heading level0 row4\" >4</th>\n      <td id=\"T_35fa3_row4_col0\" class=\"data row4 col0\" >Ventura County Transportation Commission</td>\n      <td id=\"T_35fa3_row4_col1\" class=\"data row4 col1\" >10</td>\n      <td id=\"T_35fa3_row4_col2\" class=\"data row4 col2\" >6.33%</td>\n    </tr>\n  </tbody>\n</table>\n",
          "text/plain": "<pandas.io.formats.style.Styler at 0x7f605ea9bf40>"
         },
         "metadata": {},
         "output_type": "display_data"
        },
        {
         "data": {
          "text/html": "\n<div id=\"altair-viz-1968d5abacfd485eae2c0e098090e2f1\"></div>\n<script type=\"text/javascript\">\n  var VEGA_DEBUG = (typeof VEGA_DEBUG == \"undefined\") ? {} : VEGA_DEBUG;\n  (function(spec, embedOpt){\n    let outputDiv = document.currentScript.previousElementSibling;\n    if (outputDiv.id !== \"altair-viz-1968d5abacfd485eae2c0e098090e2f1\") {\n      outputDiv = document.getElementById(\"altair-viz-1968d5abacfd485eae2c0e098090e2f1\");\n    }\n    const paths = {\n      \"vega\": \"https://cdn.jsdelivr.net/npm//vega@5?noext\",\n      \"vega-lib\": \"https://cdn.jsdelivr.net/npm//vega-lib?noext\",\n      \"vega-lite\": \"https://cdn.jsdelivr.net/npm//vega-lite@4.17.0?noext\",\n      \"vega-embed\": \"https://cdn.jsdelivr.net/npm//vega-embed@6?noext\",\n    };\n\n    function maybeLoadScript(lib, version) {\n      var key = `${lib.replace(\"-\", \"\")}_version`;\n      return (VEGA_DEBUG[key] == version) ?\n        Promise.resolve(paths[lib]) :\n        new Promise(function(resolve, reject) {\n          var s = document.createElement('script');\n          document.getElementsByTagName(\"head\")[0].appendChild(s);\n          s.async = true;\n          s.onload = () => {\n            VEGA_DEBUG[key] = version;\n            return resolve(paths[lib]);\n          };\n          s.onerror = () => reject(`Error loading script: ${paths[lib]}`);\n          s.src = paths[lib];\n        });\n    }\n\n    function showError(err) {\n      outputDiv.innerHTML = `<div class=\"error\" style=\"color:red;\">${err}</div>`;\n      throw err;\n    }\n\n    function displayChart(vegaEmbed) {\n      vegaEmbed(outputDiv, spec, embedOpt)\n        .catch(err => showError(`Javascript Error: ${err.message}<br>This usually means there's a typo in your chart specification. See the javascript console for the full traceback.`));\n    }\n\n    if(typeof define === \"function\" && define.amd) {\n      requirejs.config({paths});\n      require([\"vega-embed\"], displayChart, err => showError(`Error loading script: ${err.message}`));\n    } else {\n      maybeLoadScript(\"vega\", \"5\")\n        .then(() => maybeLoadScript(\"vega-lite\", \"4.17.0\"))\n        .then(() => maybeLoadScript(\"vega-embed\", \"6\"))\n        .catch(showError)\n        .then(() => displayChart(vegaEmbed));\n    }\n  })({\"config\": {\"view\": {\"continuousWidth\": 400, \"continuousHeight\": 300}}, \"data\": {\"name\": \"data-292a0cde6f026779bbf25b2788853efa\"}, \"mark\": \"bar\", \"encoding\": {\"color\": {\"field\": \"Categories\", \"scale\": {\"range\": [\"#2EA8CE\", \"#EB9F3C\", \"#F4D837\", \"#51BF9D\", \"#8CBCCB\", \"#9487C0\"]}, \"type\": \"nominal\"}, \"row\": {\"field\": \"Categories\", \"type\": \"nominal\"}, \"tooltip\": [{\"field\": \"Agency\", \"type\": \"nominal\"}, {\"field\": \"Funding Amount\", \"type\": \"quantitative\"}], \"x\": {\"axis\": {\"format\": \"$.2s\", \"title\": \"Obligated Funding ($2021)\"}, \"field\": \"Funding Amount\", \"type\": \"quantitative\"}, \"y\": {\"field\": \"Agency\", \"type\": \"nominal\"}}, \"$schema\": \"https://vega.github.io/schema/vega-lite/v4.17.0.json\", \"datasets\": {\"data-292a0cde6f026779bbf25b2788853efa\": [{\"Agency\": \"Kern County Council of Governments\", \"Categories\": \"Total Requested\", \"Funding Amount\": 106713.26431775067}, {\"Agency\": \"Stanislaus Council of Governments\", \"Categories\": \"Total Requested\", \"Funding Amount\": 132441.14390518022}, {\"Agency\": \"Modesto\", \"Categories\": \"Total Requested\", \"Funding Amount\": 35763.664240797494}, {\"Agency\": \"San Diego Association of Governments\", \"Categories\": \"Total Requested\", \"Funding Amount\": 5100742.356804292}, {\"Agency\": \"Ventura County Transportation Commission\", \"Categories\": \"Total Requested\", \"Funding Amount\": 281102.8874310915}, {\"Agency\": \"Kern County Council of Governments\", \"Categories\": \"Fed Requested\", \"Funding Amount\": 88109.98406027674}, {\"Agency\": \"Stanislaus Council of Governments\", \"Categories\": \"Fed Requested\", \"Funding Amount\": 122145.54438367426}, {\"Agency\": \"Modesto\", \"Categories\": \"Fed Requested\", \"Funding Amount\": 35261.771786810976}, {\"Agency\": \"San Diego Association of Governments\", \"Categories\": \"Fed Requested\", \"Funding Amount\": 5090659.523936891}, {\"Agency\": \"Ventura County Transportation Commission\", \"Categories\": \"Fed Requested\", \"Funding Amount\": 281102.8874310915}, {\"Agency\": \"Kern County Council of Governments\", \"Categories\": \"AC Requested\", \"Funding Amount\": 0.0}, {\"Agency\": \"Stanislaus Council of Governments\", \"Categories\": \"AC Requested\", \"Funding Amount\": 0.0}, {\"Agency\": \"Modesto\", \"Categories\": \"AC Requested\", \"Funding Amount\": 0.0}, {\"Agency\": \"San Diego Association of Governments\", \"Categories\": \"AC Requested\", \"Funding Amount\": 0.0}, {\"Agency\": \"Ventura County Transportation Commission\", \"Categories\": \"AC Requested\", \"Funding Amount\": 0.0}]}}, {\"mode\": \"vega-lite\"});\n</script>",
          "text/plain": "alt.Chart(...)"
         },
         "metadata": {},
         "output_type": "display_data"
        }
       ]
      }
     },
     "fb4e56fdfb5b4e7f885218001584e464": {
      "model_module": "@jupyter-widgets/controls",
      "model_module_version": "1.5.0",
      "model_name": "HTMLModel",
      "state": {
       "layout": "IPY_MODEL_3d0f064ea4bb4da8af2641f859e32555",
       "style": "IPY_MODEL_77a1d700628e42c5a0f4abadc3128d3a",
       "value": "<strong>Top Agencies using Transit Projects</strong>"
      }
     },
     "fbbd5b0b35ee448da1ff81e40991cb62": {
      "model_module": "@jupyter-widgets/base",
      "model_module_version": "1.2.0",
      "model_name": "LayoutModel",
      "state": {}
     },
     "fbfd4bbb623044ceb7f2b2c467b70443": {
      "model_module": "@jupyter-widgets/base",
      "model_module_version": "1.2.0",
      "model_name": "LayoutModel",
      "state": {}
     },
     "fc2ef1090ec5485599094fd5ebcb5270": {
      "model_module": "@jupyter-widgets/output",
      "model_module_version": "1.0.0",
      "model_name": "OutputModel",
      "state": {
       "layout": "IPY_MODEL_82633ba9123d4b65b7b5f6c14a82368d",
       "outputs": [
        {
         "data": {
          "application/vnd.jupyter.widget-view+json": {
           "model_id": "",
           "version_major": 2,
           "version_minor": 0
          },
          "text/plain": "HTML(value='<strong>Top Agencies using Freeway Projects</strong>')"
         },
         "metadata": {},
         "output_type": "display_data"
        },
        {
         "data": {
          "text/html": "<style type=\"text/css\">\n</style>\n<table id=\"T_e9403\">\n  <thead>\n    <tr>\n      <th class=\"blank level0\" >&nbsp;</th>\n      <th id=\"T_e9403_level0_col0\" class=\"col_heading level0 col0\" >Agency</th>\n      <th id=\"T_e9403_level0_col1\" class=\"col_heading level0 col1\" >Freeway Obligations</th>\n      <th id=\"T_e9403_level0_col2\" class=\"col_heading level0 col2\" >Percent of Category</th>\n    </tr>\n  </thead>\n  <tbody>\n    <tr>\n      <th id=\"T_e9403_level0_row0\" class=\"row_heading level0 row0\" >0</th>\n      <td id=\"T_e9403_row0_col0\" class=\"data row0 col0\" >Metropolitan Transportation Commission</td>\n      <td id=\"T_e9403_row0_col1\" class=\"data row0 col1\" >11</td>\n      <td id=\"T_e9403_row0_col2\" class=\"data row0 col2\" >28.21%</td>\n    </tr>\n    <tr>\n      <th id=\"T_e9403_level0_row1\" class=\"row_heading level0 row1\" >1</th>\n      <td id=\"T_e9403_row1_col0\" class=\"data row1 col0\" >Contra Costa County</td>\n      <td id=\"T_e9403_row1_col1\" class=\"data row1 col1\" >7</td>\n      <td id=\"T_e9403_row1_col2\" class=\"data row1 col2\" >17.95%</td>\n    </tr>\n    <tr>\n      <th id=\"T_e9403_level0_row2\" class=\"row_heading level0 row2\" >2</th>\n      <td id=\"T_e9403_row2_col0\" class=\"data row2 col0\" >Caltrans</td>\n      <td id=\"T_e9403_row2_col1\" class=\"data row2 col1\" >4</td>\n      <td id=\"T_e9403_row2_col2\" class=\"data row2 col2\" >10.26%</td>\n    </tr>\n    <tr>\n      <th id=\"T_e9403_level0_row3\" class=\"row_heading level0 row3\" >3</th>\n      <td id=\"T_e9403_row3_col0\" class=\"data row3 col0\" >Metropolitan Transportation Commission - SAFE</td>\n      <td id=\"T_e9403_row3_col1\" class=\"data row3 col1\" >3</td>\n      <td id=\"T_e9403_row3_col2\" class=\"data row3 col2\" >7.69%</td>\n    </tr>\n    <tr>\n      <th id=\"T_e9403_level0_row4\" class=\"row_heading level0 row4\" >4</th>\n      <td id=\"T_e9403_row4_col0\" class=\"data row4 col0\" >Alameda County Congestion Management Agency</td>\n      <td id=\"T_e9403_row4_col1\" class=\"data row4 col1\" >2</td>\n      <td id=\"T_e9403_row4_col2\" class=\"data row4 col2\" >5.13%</td>\n    </tr>\n  </tbody>\n</table>\n",
          "text/plain": "<pandas.io.formats.style.Styler at 0x7f605e0bbbe0>"
         },
         "metadata": {},
         "output_type": "display_data"
        },
        {
         "data": {
          "text/html": "\n<div id=\"altair-viz-1cb3e9415e354d68a7854a5737249142\"></div>\n<script type=\"text/javascript\">\n  var VEGA_DEBUG = (typeof VEGA_DEBUG == \"undefined\") ? {} : VEGA_DEBUG;\n  (function(spec, embedOpt){\n    let outputDiv = document.currentScript.previousElementSibling;\n    if (outputDiv.id !== \"altair-viz-1cb3e9415e354d68a7854a5737249142\") {\n      outputDiv = document.getElementById(\"altair-viz-1cb3e9415e354d68a7854a5737249142\");\n    }\n    const paths = {\n      \"vega\": \"https://cdn.jsdelivr.net/npm//vega@5?noext\",\n      \"vega-lib\": \"https://cdn.jsdelivr.net/npm//vega-lib?noext\",\n      \"vega-lite\": \"https://cdn.jsdelivr.net/npm//vega-lite@4.17.0?noext\",\n      \"vega-embed\": \"https://cdn.jsdelivr.net/npm//vega-embed@6?noext\",\n    };\n\n    function maybeLoadScript(lib, version) {\n      var key = `${lib.replace(\"-\", \"\")}_version`;\n      return (VEGA_DEBUG[key] == version) ?\n        Promise.resolve(paths[lib]) :\n        new Promise(function(resolve, reject) {\n          var s = document.createElement('script');\n          document.getElementsByTagName(\"head\")[0].appendChild(s);\n          s.async = true;\n          s.onload = () => {\n            VEGA_DEBUG[key] = version;\n            return resolve(paths[lib]);\n          };\n          s.onerror = () => reject(`Error loading script: ${paths[lib]}`);\n          s.src = paths[lib];\n        });\n    }\n\n    function showError(err) {\n      outputDiv.innerHTML = `<div class=\"error\" style=\"color:red;\">${err}</div>`;\n      throw err;\n    }\n\n    function displayChart(vegaEmbed) {\n      vegaEmbed(outputDiv, spec, embedOpt)\n        .catch(err => showError(`Javascript Error: ${err.message}<br>This usually means there's a typo in your chart specification. See the javascript console for the full traceback.`));\n    }\n\n    if(typeof define === \"function\" && define.amd) {\n      requirejs.config({paths});\n      require([\"vega-embed\"], displayChart, err => showError(`Error loading script: ${err.message}`));\n    } else {\n      maybeLoadScript(\"vega\", \"5\")\n        .then(() => maybeLoadScript(\"vega-lite\", \"4.17.0\"))\n        .then(() => maybeLoadScript(\"vega-embed\", \"6\"))\n        .catch(showError)\n        .then(() => displayChart(vegaEmbed));\n    }\n  })({\"config\": {\"view\": {\"continuousWidth\": 400, \"continuousHeight\": 300}}, \"data\": {\"name\": \"data-aeb8dec487be436236d0c63cc42eb978\"}, \"mark\": \"bar\", \"encoding\": {\"color\": {\"field\": \"Categories\", \"scale\": {\"range\": [\"#2EA8CE\", \"#EB9F3C\", \"#F4D837\", \"#51BF9D\", \"#8CBCCB\", \"#9487C0\"]}, \"type\": \"nominal\"}, \"row\": {\"field\": \"Categories\", \"type\": \"nominal\"}, \"tooltip\": [{\"field\": \"Agency\", \"type\": \"nominal\"}, {\"field\": \"Funding Amount\", \"type\": \"quantitative\"}], \"x\": {\"axis\": {\"format\": \"$.2s\", \"title\": \"Obligated Funding ($2021)\"}, \"field\": \"Funding Amount\", \"type\": \"quantitative\"}, \"y\": {\"field\": \"Agency\", \"type\": \"nominal\"}}, \"$schema\": \"https://vega.github.io/schema/vega-lite/v4.17.0.json\", \"datasets\": {\"data-aeb8dec487be436236d0c63cc42eb978\": [{\"Agency\": \"Metropolitan Transportation Commission\", \"Categories\": \"Total Requested\", \"Funding Amount\": 1909627.6993880032}, {\"Agency\": \"Contra Costa County\", \"Categories\": \"Total Requested\", \"Funding Amount\": 1041396.7377879982}, {\"Agency\": \"Caltrans\", \"Categories\": \"Total Requested\", \"Funding Amount\": 7155873.948324381}, {\"Agency\": \"Metropolitan Transportation Commission - SAFE\", \"Categories\": \"Total Requested\", \"Funding Amount\": 5607282.0964267}, {\"Agency\": \"Alameda County Congestion Management Agency\", \"Categories\": \"Total Requested\", \"Funding Amount\": 771698.7792291272}, {\"Agency\": \"Metropolitan Transportation Commission\", \"Categories\": \"Fed Requested\", \"Funding Amount\": 1890540.1407647512}, {\"Agency\": \"Contra Costa County\", \"Categories\": \"Fed Requested\", \"Funding Amount\": 690949.2652206112}, {\"Agency\": \"Caltrans\", \"Categories\": \"Fed Requested\", \"Funding Amount\": 3977675.6275673257}, {\"Agency\": \"Metropolitan Transportation Commission - SAFE\", \"Categories\": \"Fed Requested\", \"Funding Amount\": 5607282.0964267}, {\"Agency\": \"Alameda County Congestion Management Agency\", \"Categories\": \"Fed Requested\", \"Funding Amount\": 571275.1031109582}, {\"Agency\": \"Metropolitan Transportation Commission\", \"Categories\": \"AC Requested\", \"Funding Amount\": 0.0}, {\"Agency\": \"Contra Costa County\", \"Categories\": \"AC Requested\", \"Funding Amount\": 26482.60130270215}, {\"Agency\": \"Caltrans\", \"Categories\": \"AC Requested\", \"Funding Amount\": 0.0}, {\"Agency\": \"Metropolitan Transportation Commission - SAFE\", \"Categories\": \"AC Requested\", \"Funding Amount\": 0.0}, {\"Agency\": \"Alameda County Congestion Management Agency\", \"Categories\": \"AC Requested\", \"Funding Amount\": 0.0}]}}, {\"mode\": \"vega-lite\"});\n</script>",
          "text/plain": "alt.Chart(...)"
         },
         "metadata": {},
         "output_type": "display_data"
        }
       ]
      }
     },
     "fd01e2b4796d4fde9e893c57a82bcc4c": {
      "model_module": "@jupyter-widgets/controls",
      "model_module_version": "1.5.0",
      "model_name": "DescriptionStyleModel",
      "state": {
       "description_width": ""
      }
     },
     "fd5ba6ccf7ed4d1b8c336a58ce3a16ab": {
      "model_module": "@jupyter-widgets/base",
      "model_module_version": "1.2.0",
      "model_name": "LayoutModel",
      "state": {}
     },
     "ff37077423334c43aa56d0eef691f81a": {
      "model_module": "@jupyter-widgets/controls",
      "model_module_version": "1.5.0",
      "model_name": "DescriptionStyleModel",
      "state": {
       "description_width": ""
      }
     },
     "ff3849fd14084892a29823a5f03530b2": {
      "model_module": "@jupyter-widgets/controls",
      "model_module_version": "1.5.0",
      "model_name": "DescriptionStyleModel",
      "state": {
       "description_width": ""
      }
     }
    },
    "version_major": 2,
    "version_minor": 0
   }
  }
 },
 "nbformat": 4,
 "nbformat_minor": 5
}
