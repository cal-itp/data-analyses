{
 "cells": [
  {
   "cell_type": "markdown",
   "id": "368ecc8c-aed0-4503-9bc6-95c180ae5d69",
   "metadata": {},
   "source": [
    "# Cleaning CSV Agency names to match Official Locode List\n",
    "\n",
    "Using data from obtained from the Division of Local Assistance Website, E-76 Obligated List, and the Official Locode List obtained from DLA. \n",
    "\n",
    "In this notebook we will change the names of certain agencies to match the offical name in the Locode List starting with the agencies below. \n"
   ]
  },
  {
   "cell_type": "markdown",
   "id": "ee3f8e3b-0b46-4231-a71a-5ead2b331617",
   "metadata": {},
   "source": [
    "| Locode | Agency Official Name | Agency name in Obligated List | \n",
    "| ------------- | ------------- | ------------- |\n",
    "| 5940 | Mariposa County | Humboldt, Mariposa| \n",
    "| 5953 | Los Angeles County | Los Angeles, Marin County, Paradise, Trinity County  |\n",
    "| 5957 | San Diego County | San Diego, Cathedral City|\n",
    "| 6190 | U.S. Forest Service, Pacific Southwest Region | Usda Forest Ser, United States Forest Service|\n",
    "| 5939 | Merced County | Merced | \n",
    "| 5956 | Riverside County | Riverside |\n",
    "| 5958 | Imperial County | Imperial | \n",
    "| 5961 | Kern County (District 9) | Kern |\n",
    "| 6000 | San Francisco Bay Area Rapid Transit District | Bay Area Rt | \n",
    "| 6002 | Alameda - Contra Costa Transit District | Ala-Con Costa T | \n",
    "| 6065 | Los Angeles County Metropolitan Transportation... | La Co M T A |\n",
    "| 6081 | Department of Parks and Recreation | Parks And Rec | \n",
    "| 6264 | Santa Clara Valley Transportation Authority | Vta |\n",
    "| 6343 | Marin County Transit District | Mctd | \n",
    "| 6365 | San Francisco Bay Area Water Transit Authority | Wta |"
   ]
  },
  {
   "cell_type": "code",
   "execution_count": 1,
   "id": "b7e338a8-1150-4fec-a5aa-2dedf31ac875",
   "metadata": {},
   "outputs": [],
   "source": [
    "import pandas as pd\n",
    "from siuba import *\n",
    "\n",
    "import numpy as np\n",
    "\n",
    "from datetime import date\n",
    "from IPython.display import Markdown, HTML, display_html\n",
    "\n",
    "from calitp import *\n",
    "\n",
    "import ipywidgets as widgets\n",
    "from ipywidgets import *\n",
    "from IPython.display import Markdown\n",
    "from IPython.core.display import display"
   ]
  },
  {
   "cell_type": "code",
   "execution_count": 2,
   "id": "aba221b1-9ee0-46dd-ace1-170091d68291",
   "metadata": {},
   "outputs": [
    {
     "name": "stderr",
     "output_type": "stream",
     "text": [
      "/opt/conda/lib/python3.9/site-packages/google/auth/_default.py:73: UserWarning: Your application has authenticated using end user credentials from Google Cloud SDK without a quota project. You might receive a \"quota exceeded\" or \"API not enabled\" error. We recommend you rerun `gcloud auth application-default login` and make sure a quota project is added. Or you can use service accounts instead. For more information about service accounts, see https://cloud.google.com/docs/authentication/\n",
      "  warnings.warn(_CLOUD_SDK_CREDENTIALS_WARNING)\n"
     ]
    }
   ],
   "source": [
    "df = pd.read_csv('gs://calitp-analytics-data/data-analyses/dla/e-76Obligated/clean_obligated_waiting.csv', low_memory=False).drop('Unnamed: 0', axis=1)"
   ]
  },
  {
   "cell_type": "code",
   "execution_count": 3,
   "id": "40e82e79-dc89-4474-9668-27b150c27340",
   "metadata": {},
   "outputs": [
    {
     "data": {
      "text/html": [
       "<div>\n",
       "<style scoped>\n",
       "    .dataframe tbody tr th:only-of-type {\n",
       "        vertical-align: middle;\n",
       "    }\n",
       "\n",
       "    .dataframe tbody tr th {\n",
       "        vertical-align: top;\n",
       "    }\n",
       "\n",
       "    .dataframe thead th {\n",
       "        text-align: right;\n",
       "    }\n",
       "</style>\n",
       "<table border=\"1\" class=\"dataframe\">\n",
       "  <thead>\n",
       "    <tr style=\"text-align: right;\">\n",
       "      <th></th>\n",
       "      <th>location</th>\n",
       "      <th>prefix</th>\n",
       "      <th>project_no</th>\n",
       "      <th>agency</th>\n",
       "      <th>prepared_date</th>\n",
       "      <th>submit__to_hq_date</th>\n",
       "      <th>hq_review_date</th>\n",
       "      <th>submit_to_fhwa_date</th>\n",
       "      <th>to_fmis_date</th>\n",
       "      <th>fed_requested</th>\n",
       "      <th>...</th>\n",
       "      <th>project_location</th>\n",
       "      <th>type_of_work</th>\n",
       "      <th>seq</th>\n",
       "      <th>date_request_initiated</th>\n",
       "      <th>date_completed_request</th>\n",
       "      <th>mpo</th>\n",
       "      <th>warning</th>\n",
       "      <th>projectID</th>\n",
       "      <th>projectNO</th>\n",
       "      <th>compare_id_locode</th>\n",
       "    </tr>\n",
       "  </thead>\n",
       "  <tbody>\n",
       "    <tr>\n",
       "      <th>0</th>\n",
       "      <td>Obligated</td>\n",
       "      <td>BPMPL</td>\n",
       "      <td>5904(121)</td>\n",
       "      <td>Humboldt County</td>\n",
       "      <td>2018-12-18</td>\n",
       "      <td>2018-12-18</td>\n",
       "      <td>2018-12-18</td>\n",
       "      <td>2018-12-18</td>\n",
       "      <td>2018-12-27</td>\n",
       "      <td>0.00</td>\n",
       "      <td>...</td>\n",
       "      <td>14 Bridges In Humboldt County</td>\n",
       "      <td>Bridge Preventive Maintenance - Deck Joints</td>\n",
       "      <td>3</td>\n",
       "      <td>NaN</td>\n",
       "      <td>NaN</td>\n",
       "      <td>NON-MPO</td>\n",
       "      <td>NaN</td>\n",
       "      <td>5904</td>\n",
       "      <td>121</td>\n",
       "      <td>True</td>\n",
       "    </tr>\n",
       "    <tr>\n",
       "      <th>1</th>\n",
       "      <td>Obligated</td>\n",
       "      <td>ER</td>\n",
       "      <td>32D0(008)</td>\n",
       "      <td>Mendocino County</td>\n",
       "      <td>2018-12-17</td>\n",
       "      <td>2018-12-19</td>\n",
       "      <td>2018-12-20</td>\n",
       "      <td>2018-12-20</td>\n",
       "      <td>2018-12-27</td>\n",
       "      <td>11508.00</td>\n",
       "      <td>...</td>\n",
       "      <td>Comptche Ukiah Road, Cr 223 Pm 17.25</td>\n",
       "      <td>Permanent Restoration</td>\n",
       "      <td>3</td>\n",
       "      <td>2018-12-17</td>\n",
       "      <td>2018-12-18</td>\n",
       "      <td>NON-MPO</td>\n",
       "      <td>NaN</td>\n",
       "      <td>32D0</td>\n",
       "      <td>8</td>\n",
       "      <td>False</td>\n",
       "    </tr>\n",
       "    <tr>\n",
       "      <th>2</th>\n",
       "      <td>Obligated</td>\n",
       "      <td>ER</td>\n",
       "      <td>4820(004)</td>\n",
       "      <td>Humboldt County</td>\n",
       "      <td>2018-12-07</td>\n",
       "      <td>2018-12-21</td>\n",
       "      <td>2018-12-21</td>\n",
       "      <td>2018-12-21</td>\n",
       "      <td>2018-12-27</td>\n",
       "      <td>45499.64</td>\n",
       "      <td>...</td>\n",
       "      <td>Mattole Rd Pm 43.17</td>\n",
       "      <td>Permanent Restoration</td>\n",
       "      <td>5</td>\n",
       "      <td>2018-12-06</td>\n",
       "      <td>2018-12-07</td>\n",
       "      <td>NON-MPO</td>\n",
       "      <td>NaN</td>\n",
       "      <td>4820</td>\n",
       "      <td>4</td>\n",
       "      <td>False</td>\n",
       "    </tr>\n",
       "    <tr>\n",
       "      <th>3</th>\n",
       "      <td>Obligated</td>\n",
       "      <td>CML</td>\n",
       "      <td>5924(244)</td>\n",
       "      <td>Sacramento County</td>\n",
       "      <td>2018-12-11</td>\n",
       "      <td>2018-12-11</td>\n",
       "      <td>2018-12-21</td>\n",
       "      <td>2018-12-27</td>\n",
       "      <td>2018-12-27</td>\n",
       "      <td>207002.00</td>\n",
       "      <td>...</td>\n",
       "      <td>Fair Oaks Blvd. Between Howe Ave And Munroe St</td>\n",
       "      <td>Create A Smart Growth Corridor With Barrier Se...</td>\n",
       "      <td>1</td>\n",
       "      <td>2018-12-07</td>\n",
       "      <td>2018-12-07</td>\n",
       "      <td>SACOG</td>\n",
       "      <td>NaN</td>\n",
       "      <td>5924</td>\n",
       "      <td>244</td>\n",
       "      <td>True</td>\n",
       "    </tr>\n",
       "    <tr>\n",
       "      <th>4</th>\n",
       "      <td>Obligated</td>\n",
       "      <td>CML</td>\n",
       "      <td>5924(214)</td>\n",
       "      <td>Sacramento County</td>\n",
       "      <td>2018-12-05</td>\n",
       "      <td>2018-12-11</td>\n",
       "      <td>2018-12-21</td>\n",
       "      <td>2018-12-27</td>\n",
       "      <td>2018-12-27</td>\n",
       "      <td>0.00</td>\n",
       "      <td>...</td>\n",
       "      <td>Florin Rd Between Power Inn Rd. And Florin Per...</td>\n",
       "      <td>Streetscape (tc)</td>\n",
       "      <td>3</td>\n",
       "      <td>2018-11-28</td>\n",
       "      <td>2018-12-04</td>\n",
       "      <td>SACOG</td>\n",
       "      <td>NaN</td>\n",
       "      <td>5924</td>\n",
       "      <td>214</td>\n",
       "      <td>True</td>\n",
       "    </tr>\n",
       "  </tbody>\n",
       "</table>\n",
       "<p>5 rows × 30 columns</p>\n",
       "</div>"
      ],
      "text/plain": [
       "    location prefix project_no             agency prepared_date  \\\n",
       "0  Obligated  BPMPL  5904(121)    Humboldt County    2018-12-18   \n",
       "1  Obligated     ER  32D0(008)   Mendocino County    2018-12-17   \n",
       "2  Obligated     ER  4820(004)    Humboldt County    2018-12-07   \n",
       "3  Obligated    CML  5924(244)  Sacramento County    2018-12-11   \n",
       "4  Obligated    CML  5924(214)  Sacramento County    2018-12-05   \n",
       "\n",
       "  submit__to_hq_date hq_review_date submit_to_fhwa_date to_fmis_date  \\\n",
       "0         2018-12-18     2018-12-18          2018-12-18   2018-12-27   \n",
       "1         2018-12-19     2018-12-20          2018-12-20   2018-12-27   \n",
       "2         2018-12-21     2018-12-21          2018-12-21   2018-12-27   \n",
       "3         2018-12-11     2018-12-21          2018-12-27   2018-12-27   \n",
       "4         2018-12-11     2018-12-21          2018-12-27   2018-12-27   \n",
       "\n",
       "   fed_requested  ...                                   project_location  \\\n",
       "0           0.00  ...                      14 Bridges In Humboldt County   \n",
       "1       11508.00  ...               Comptche Ukiah Road, Cr 223 Pm 17.25   \n",
       "2       45499.64  ...                                Mattole Rd Pm 43.17   \n",
       "3      207002.00  ...     Fair Oaks Blvd. Between Howe Ave And Munroe St   \n",
       "4           0.00  ...  Florin Rd Between Power Inn Rd. And Florin Per...   \n",
       "\n",
       "                                        type_of_work seq  \\\n",
       "0        Bridge Preventive Maintenance - Deck Joints   3   \n",
       "1                              Permanent Restoration   3   \n",
       "2                              Permanent Restoration   5   \n",
       "3  Create A Smart Growth Corridor With Barrier Se...   1   \n",
       "4                                   Streetscape (tc)   3   \n",
       "\n",
       "  date_request_initiated  date_completed_request      mpo  warning  projectID  \\\n",
       "0                    NaN                     NaN  NON-MPO      NaN       5904   \n",
       "1             2018-12-17              2018-12-18  NON-MPO      NaN       32D0   \n",
       "2             2018-12-06              2018-12-07  NON-MPO      NaN       4820   \n",
       "3             2018-12-07              2018-12-07    SACOG      NaN       5924   \n",
       "4             2018-11-28              2018-12-04    SACOG      NaN       5924   \n",
       "\n",
       "   projectNO compare_id_locode  \n",
       "0        121              True  \n",
       "1          8             False  \n",
       "2          4             False  \n",
       "3        244              True  \n",
       "4        214              True  \n",
       "\n",
       "[5 rows x 30 columns]"
      ]
     },
     "execution_count": 3,
     "metadata": {},
     "output_type": "execute_result"
    }
   ],
   "source": [
    "df.head()"
   ]
  },
  {
   "cell_type": "code",
   "execution_count": 4,
   "id": "252dbf51-9ca5-4599-a1c8-2eb8ce7a8f6a",
   "metadata": {},
   "outputs": [
    {
     "data": {
      "text/plain": [
       "671"
      ]
     },
     "execution_count": 4,
     "metadata": {},
     "output_type": "execute_result"
    }
   ],
   "source": [
    "#number of unique values pre changing names\n",
    "\n",
    "df.agency.nunique()"
   ]
  },
  {
   "cell_type": "markdown",
   "id": "b11a31ad-dfd6-4397-927e-cb5898baea56",
   "metadata": {},
   "source": [
    "## Replace the Agency Names\n",
    "code help: https://stackoverflow.com/questions/53410748/change-column-value-based-on-multiple-conditions"
   ]
  },
  {
   "cell_type": "markdown",
   "id": "b611e385-64ce-4c9b-8d93-36239d91fc11",
   "metadata": {
    "tags": []
   },
   "source": [
    "### Mariposa County 5940"
   ]
  },
  {
   "cell_type": "code",
   "execution_count": 5,
   "id": "f50f0bb5-3435-4ab6-aac2-88582d1fad91",
   "metadata": {},
   "outputs": [
    {
     "data": {
      "text/html": [
       "<div>\n",
       "<style scoped>\n",
       "    .dataframe tbody tr th:only-of-type {\n",
       "        vertical-align: middle;\n",
       "    }\n",
       "\n",
       "    .dataframe tbody tr th {\n",
       "        vertical-align: top;\n",
       "    }\n",
       "\n",
       "    .dataframe thead th {\n",
       "        text-align: right;\n",
       "    }\n",
       "</style>\n",
       "<table border=\"1\" class=\"dataframe\">\n",
       "  <thead>\n",
       "    <tr style=\"text-align: right;\">\n",
       "      <th></th>\n",
       "      <th>agency</th>\n",
       "      <th>n</th>\n",
       "    </tr>\n",
       "  </thead>\n",
       "  <tbody>\n",
       "    <tr>\n",
       "      <th>0</th>\n",
       "      <td>Humboldt</td>\n",
       "      <td>1</td>\n",
       "    </tr>\n",
       "    <tr>\n",
       "      <th>1</th>\n",
       "      <td>Mariposa</td>\n",
       "      <td>4</td>\n",
       "    </tr>\n",
       "    <tr>\n",
       "      <th>2</th>\n",
       "      <td>Mariposa County</td>\n",
       "      <td>37</td>\n",
       "    </tr>\n",
       "  </tbody>\n",
       "</table>\n",
       "</div>"
      ],
      "text/plain": [
       "            agency   n\n",
       "0         Humboldt   1\n",
       "1         Mariposa   4\n",
       "2  Mariposa County  37"
      ]
     },
     "execution_count": 5,
     "metadata": {},
     "output_type": "execute_result"
    }
   ],
   "source": [
    "df>>filter(_.locode=='5940')>>count(_.agency)"
   ]
  },
  {
   "cell_type": "code",
   "execution_count": 6,
   "id": "28ff6a06-dc6d-4c7a-a99c-a4f7b24d4c35",
   "metadata": {},
   "outputs": [],
   "source": [
    "df.loc[(df['locode']=='5940') & (df['agency']=='Mariposa'),'agency'] = 'Mariposa County'"
   ]
  },
  {
   "cell_type": "code",
   "execution_count": 7,
   "id": "f832e628-5a61-4e84-a40a-e786838f3c63",
   "metadata": {},
   "outputs": [
    {
     "data": {
      "text/html": [
       "<div>\n",
       "<style scoped>\n",
       "    .dataframe tbody tr th:only-of-type {\n",
       "        vertical-align: middle;\n",
       "    }\n",
       "\n",
       "    .dataframe tbody tr th {\n",
       "        vertical-align: top;\n",
       "    }\n",
       "\n",
       "    .dataframe thead th {\n",
       "        text-align: right;\n",
       "    }\n",
       "</style>\n",
       "<table border=\"1\" class=\"dataframe\">\n",
       "  <thead>\n",
       "    <tr style=\"text-align: right;\">\n",
       "      <th></th>\n",
       "      <th>agency</th>\n",
       "      <th>n</th>\n",
       "    </tr>\n",
       "  </thead>\n",
       "  <tbody>\n",
       "    <tr>\n",
       "      <th>0</th>\n",
       "      <td>Humboldt</td>\n",
       "      <td>1</td>\n",
       "    </tr>\n",
       "    <tr>\n",
       "      <th>1</th>\n",
       "      <td>Mariposa County</td>\n",
       "      <td>41</td>\n",
       "    </tr>\n",
       "  </tbody>\n",
       "</table>\n",
       "</div>"
      ],
      "text/plain": [
       "            agency   n\n",
       "0         Humboldt   1\n",
       "1  Mariposa County  41"
      ]
     },
     "execution_count": 7,
     "metadata": {},
     "output_type": "execute_result"
    }
   ],
   "source": [
    "df>>filter(_.locode=='5940')>>count(_.agency)"
   ]
  },
  {
   "cell_type": "markdown",
   "id": "cd4e0801-b323-4622-a525-08cb6f35abcd",
   "metadata": {},
   "source": [
    "### Los Angeles County 5953"
   ]
  },
  {
   "cell_type": "code",
   "execution_count": 8,
   "id": "98810bc4-42d7-4f67-91a5-b3b73d2c9ed0",
   "metadata": {},
   "outputs": [
    {
     "data": {
      "text/html": [
       "<div>\n",
       "<style scoped>\n",
       "    .dataframe tbody tr th:only-of-type {\n",
       "        vertical-align: middle;\n",
       "    }\n",
       "\n",
       "    .dataframe tbody tr th {\n",
       "        vertical-align: top;\n",
       "    }\n",
       "\n",
       "    .dataframe thead th {\n",
       "        text-align: right;\n",
       "    }\n",
       "</style>\n",
       "<table border=\"1\" class=\"dataframe\">\n",
       "  <thead>\n",
       "    <tr style=\"text-align: right;\">\n",
       "      <th></th>\n",
       "      <th>agency</th>\n",
       "      <th>n</th>\n",
       "    </tr>\n",
       "  </thead>\n",
       "  <tbody>\n",
       "    <tr>\n",
       "      <th>0</th>\n",
       "      <td>Los Angeles</td>\n",
       "      <td>12</td>\n",
       "    </tr>\n",
       "    <tr>\n",
       "      <th>1</th>\n",
       "      <td>Los Angeles County</td>\n",
       "      <td>404</td>\n",
       "    </tr>\n",
       "    <tr>\n",
       "      <th>2</th>\n",
       "      <td>Marin County</td>\n",
       "      <td>1</td>\n",
       "    </tr>\n",
       "    <tr>\n",
       "      <th>3</th>\n",
       "      <td>Paradise</td>\n",
       "      <td>4</td>\n",
       "    </tr>\n",
       "    <tr>\n",
       "      <th>4</th>\n",
       "      <td>Trinity County</td>\n",
       "      <td>3</td>\n",
       "    </tr>\n",
       "  </tbody>\n",
       "</table>\n",
       "</div>"
      ],
      "text/plain": [
       "               agency    n\n",
       "0         Los Angeles   12\n",
       "1  Los Angeles County  404\n",
       "2        Marin County    1\n",
       "3            Paradise    4\n",
       "4      Trinity County    3"
      ]
     },
     "execution_count": 8,
     "metadata": {},
     "output_type": "execute_result"
    }
   ],
   "source": [
    "df>>filter(_.locode=='5953')>>count(_.agency)"
   ]
  },
  {
   "cell_type": "code",
   "execution_count": 9,
   "id": "f8b16ecf-0b14-411a-a921-fbda95bc5429",
   "metadata": {},
   "outputs": [],
   "source": [
    "df.loc[(df['locode']=='5953') & (df['agency']=='Los Angeles'),'agency'] = 'Los Angeles County'"
   ]
  },
  {
   "cell_type": "code",
   "execution_count": 10,
   "id": "df714083-cd58-421c-a5c6-bf144965be79",
   "metadata": {},
   "outputs": [
    {
     "data": {
      "text/html": [
       "<div>\n",
       "<style scoped>\n",
       "    .dataframe tbody tr th:only-of-type {\n",
       "        vertical-align: middle;\n",
       "    }\n",
       "\n",
       "    .dataframe tbody tr th {\n",
       "        vertical-align: top;\n",
       "    }\n",
       "\n",
       "    .dataframe thead th {\n",
       "        text-align: right;\n",
       "    }\n",
       "</style>\n",
       "<table border=\"1\" class=\"dataframe\">\n",
       "  <thead>\n",
       "    <tr style=\"text-align: right;\">\n",
       "      <th></th>\n",
       "      <th>agency</th>\n",
       "      <th>n</th>\n",
       "    </tr>\n",
       "  </thead>\n",
       "  <tbody>\n",
       "    <tr>\n",
       "      <th>0</th>\n",
       "      <td>Los Angeles County</td>\n",
       "      <td>416</td>\n",
       "    </tr>\n",
       "    <tr>\n",
       "      <th>1</th>\n",
       "      <td>Marin County</td>\n",
       "      <td>1</td>\n",
       "    </tr>\n",
       "    <tr>\n",
       "      <th>2</th>\n",
       "      <td>Paradise</td>\n",
       "      <td>4</td>\n",
       "    </tr>\n",
       "    <tr>\n",
       "      <th>3</th>\n",
       "      <td>Trinity County</td>\n",
       "      <td>3</td>\n",
       "    </tr>\n",
       "  </tbody>\n",
       "</table>\n",
       "</div>"
      ],
      "text/plain": [
       "               agency    n\n",
       "0  Los Angeles County  416\n",
       "1        Marin County    1\n",
       "2            Paradise    4\n",
       "3      Trinity County    3"
      ]
     },
     "execution_count": 10,
     "metadata": {},
     "output_type": "execute_result"
    }
   ],
   "source": [
    "df>>filter(_.locode=='5953')>>count(_.agency)"
   ]
  },
  {
   "cell_type": "markdown",
   "id": "25246dbe-d772-41b0-b2a5-794ed869bc40",
   "metadata": {},
   "source": [
    "### San Diego County 5957"
   ]
  },
  {
   "cell_type": "code",
   "execution_count": 11,
   "id": "928101af-9009-4ee9-aeac-e6dfe1f1581b",
   "metadata": {},
   "outputs": [
    {
     "data": {
      "text/html": [
       "<div>\n",
       "<style scoped>\n",
       "    .dataframe tbody tr th:only-of-type {\n",
       "        vertical-align: middle;\n",
       "    }\n",
       "\n",
       "    .dataframe tbody tr th {\n",
       "        vertical-align: top;\n",
       "    }\n",
       "\n",
       "    .dataframe thead th {\n",
       "        text-align: right;\n",
       "    }\n",
       "</style>\n",
       "<table border=\"1\" class=\"dataframe\">\n",
       "  <thead>\n",
       "    <tr style=\"text-align: right;\">\n",
       "      <th></th>\n",
       "      <th>agency</th>\n",
       "      <th>n</th>\n",
       "    </tr>\n",
       "  </thead>\n",
       "  <tbody>\n",
       "    <tr>\n",
       "      <th>0</th>\n",
       "      <td>Cathedral City</td>\n",
       "      <td>1</td>\n",
       "    </tr>\n",
       "    <tr>\n",
       "      <th>1</th>\n",
       "      <td>San Diego</td>\n",
       "      <td>6</td>\n",
       "    </tr>\n",
       "    <tr>\n",
       "      <th>2</th>\n",
       "      <td>San Diego County</td>\n",
       "      <td>75</td>\n",
       "    </tr>\n",
       "  </tbody>\n",
       "</table>\n",
       "</div>"
      ],
      "text/plain": [
       "             agency   n\n",
       "0    Cathedral City   1\n",
       "1         San Diego   6\n",
       "2  San Diego County  75"
      ]
     },
     "execution_count": 11,
     "metadata": {},
     "output_type": "execute_result"
    }
   ],
   "source": [
    "df>>filter(_.locode=='5957')>>count(_.agency)"
   ]
  },
  {
   "cell_type": "code",
   "execution_count": 12,
   "id": "87c0cfc0-5400-48f9-99ce-88c568f5997b",
   "metadata": {},
   "outputs": [],
   "source": [
    "df.loc[(df['locode']=='5957') & (df['agency']=='San Diego'),'agency'] = 'San Diego County'"
   ]
  },
  {
   "cell_type": "markdown",
   "id": "3e88dffd-595f-466c-911e-f9a43bb12d94",
   "metadata": {},
   "source": [
    "### U.S. Forest Service, Pacific Southwest Region 6190"
   ]
  },
  {
   "cell_type": "code",
   "execution_count": 13,
   "id": "b2080619-e9f1-49a4-8d88-40b9b41e64cb",
   "metadata": {},
   "outputs": [
    {
     "data": {
      "text/html": [
       "<div>\n",
       "<style scoped>\n",
       "    .dataframe tbody tr th:only-of-type {\n",
       "        vertical-align: middle;\n",
       "    }\n",
       "\n",
       "    .dataframe tbody tr th {\n",
       "        vertical-align: top;\n",
       "    }\n",
       "\n",
       "    .dataframe thead th {\n",
       "        text-align: right;\n",
       "    }\n",
       "</style>\n",
       "<table border=\"1\" class=\"dataframe\">\n",
       "  <thead>\n",
       "    <tr style=\"text-align: right;\">\n",
       "      <th></th>\n",
       "      <th>agency</th>\n",
       "      <th>n</th>\n",
       "    </tr>\n",
       "  </thead>\n",
       "  <tbody>\n",
       "    <tr>\n",
       "      <th>0</th>\n",
       "      <td>U.S. Forest Service, Pacific Southwest Region</td>\n",
       "      <td>2</td>\n",
       "    </tr>\n",
       "    <tr>\n",
       "      <th>1</th>\n",
       "      <td>United States Forest Service</td>\n",
       "      <td>1</td>\n",
       "    </tr>\n",
       "    <tr>\n",
       "      <th>2</th>\n",
       "      <td>Usda Forest Ser</td>\n",
       "      <td>4</td>\n",
       "    </tr>\n",
       "  </tbody>\n",
       "</table>\n",
       "</div>"
      ],
      "text/plain": [
       "                                          agency  n\n",
       "0  U.S. Forest Service, Pacific Southwest Region  2\n",
       "1                   United States Forest Service  1\n",
       "2                                Usda Forest Ser  4"
      ]
     },
     "execution_count": 13,
     "metadata": {},
     "output_type": "execute_result"
    }
   ],
   "source": [
    "df>>filter(_.locode=='6190')>>count(_.agency)"
   ]
  },
  {
   "cell_type": "code",
   "execution_count": 14,
   "id": "664df3fe-b326-4f00-8238-af895a5f4c5b",
   "metadata": {},
   "outputs": [],
   "source": [
    "df.loc[(df['locode']=='6190') & (df['agency']=='United States Forest Service'),'agency'] = 'U.S. Forest Service, Pacific Southwest Region'\n",
    "df.loc[(df['locode']=='6190') & (df['agency']=='Usda Forest Ser'),'agency'] = 'U.S. Forest Service, Pacific Southwest Region'\n"
   ]
  },
  {
   "cell_type": "markdown",
   "id": "e6b65b7e-f67b-4446-b235-0247f1dc2e85",
   "metadata": {},
   "source": [
    "### Merced County 5939"
   ]
  },
  {
   "cell_type": "code",
   "execution_count": 15,
   "id": "f1b6b5a7-ba40-4d15-bfd3-a5b2de572e97",
   "metadata": {},
   "outputs": [
    {
     "data": {
      "text/html": [
       "<div>\n",
       "<style scoped>\n",
       "    .dataframe tbody tr th:only-of-type {\n",
       "        vertical-align: middle;\n",
       "    }\n",
       "\n",
       "    .dataframe tbody tr th {\n",
       "        vertical-align: top;\n",
       "    }\n",
       "\n",
       "    .dataframe thead th {\n",
       "        text-align: right;\n",
       "    }\n",
       "</style>\n",
       "<table border=\"1\" class=\"dataframe\">\n",
       "  <thead>\n",
       "    <tr style=\"text-align: right;\">\n",
       "      <th></th>\n",
       "      <th>agency</th>\n",
       "      <th>n</th>\n",
       "    </tr>\n",
       "  </thead>\n",
       "  <tbody>\n",
       "    <tr>\n",
       "      <th>0</th>\n",
       "      <td>Merced</td>\n",
       "      <td>4</td>\n",
       "    </tr>\n",
       "    <tr>\n",
       "      <th>1</th>\n",
       "      <td>Merced County</td>\n",
       "      <td>88</td>\n",
       "    </tr>\n",
       "  </tbody>\n",
       "</table>\n",
       "</div>"
      ],
      "text/plain": [
       "          agency   n\n",
       "0         Merced   4\n",
       "1  Merced County  88"
      ]
     },
     "execution_count": 15,
     "metadata": {},
     "output_type": "execute_result"
    }
   ],
   "source": [
    "df>>filter(_.locode=='5939')>>count(_.agency)"
   ]
  },
  {
   "cell_type": "code",
   "execution_count": 16,
   "id": "ca56d55a-2601-4b5a-9515-fb0e7db46df6",
   "metadata": {},
   "outputs": [],
   "source": [
    "df.loc[(df['locode']=='5939') & (df['agency']=='Merced'),'agency'] = 'Merced County'"
   ]
  },
  {
   "cell_type": "markdown",
   "id": "e58f00f7-b082-4186-8576-27f7666233ea",
   "metadata": {},
   "source": [
    "### Riverside County 5956\n"
   ]
  },
  {
   "cell_type": "code",
   "execution_count": 17,
   "id": "f7313e9a-82a3-4aaf-a7b9-9b4625294c10",
   "metadata": {},
   "outputs": [
    {
     "data": {
      "text/html": [
       "<div>\n",
       "<style scoped>\n",
       "    .dataframe tbody tr th:only-of-type {\n",
       "        vertical-align: middle;\n",
       "    }\n",
       "\n",
       "    .dataframe tbody tr th {\n",
       "        vertical-align: top;\n",
       "    }\n",
       "\n",
       "    .dataframe thead th {\n",
       "        text-align: right;\n",
       "    }\n",
       "</style>\n",
       "<table border=\"1\" class=\"dataframe\">\n",
       "  <thead>\n",
       "    <tr style=\"text-align: right;\">\n",
       "      <th></th>\n",
       "      <th>agency</th>\n",
       "      <th>n</th>\n",
       "    </tr>\n",
       "  </thead>\n",
       "  <tbody>\n",
       "    <tr>\n",
       "      <th>0</th>\n",
       "      <td>Riverside</td>\n",
       "      <td>1</td>\n",
       "    </tr>\n",
       "    <tr>\n",
       "      <th>1</th>\n",
       "      <td>Riverside County</td>\n",
       "      <td>103</td>\n",
       "    </tr>\n",
       "  </tbody>\n",
       "</table>\n",
       "</div>"
      ],
      "text/plain": [
       "             agency    n\n",
       "0         Riverside    1\n",
       "1  Riverside County  103"
      ]
     },
     "execution_count": 17,
     "metadata": {},
     "output_type": "execute_result"
    }
   ],
   "source": [
    "df>>filter(_.locode=='5956')>>count(_.agency)"
   ]
  },
  {
   "cell_type": "code",
   "execution_count": 18,
   "id": "cb5b8ab4-58e6-4f5d-9e35-7a39303c0efb",
   "metadata": {},
   "outputs": [],
   "source": [
    "df.loc[(df['locode']=='5956') & (df['agency']=='Riverside'),'agency'] = 'Riverside County'"
   ]
  },
  {
   "cell_type": "markdown",
   "id": "7ad0c99c-84c3-46e1-a29e-08d5bce956aa",
   "metadata": {},
   "source": [
    "### Imperial County 5958"
   ]
  },
  {
   "cell_type": "code",
   "execution_count": 19,
   "id": "f0803a13-d132-40a8-b0f0-59a6c8f4c789",
   "metadata": {},
   "outputs": [
    {
     "data": {
      "text/html": [
       "<div>\n",
       "<style scoped>\n",
       "    .dataframe tbody tr th:only-of-type {\n",
       "        vertical-align: middle;\n",
       "    }\n",
       "\n",
       "    .dataframe tbody tr th {\n",
       "        vertical-align: top;\n",
       "    }\n",
       "\n",
       "    .dataframe thead th {\n",
       "        text-align: right;\n",
       "    }\n",
       "</style>\n",
       "<table border=\"1\" class=\"dataframe\">\n",
       "  <thead>\n",
       "    <tr style=\"text-align: right;\">\n",
       "      <th></th>\n",
       "      <th>agency</th>\n",
       "      <th>n</th>\n",
       "    </tr>\n",
       "  </thead>\n",
       "  <tbody>\n",
       "    <tr>\n",
       "      <th>0</th>\n",
       "      <td>Imperial</td>\n",
       "      <td>4</td>\n",
       "    </tr>\n",
       "    <tr>\n",
       "      <th>1</th>\n",
       "      <td>Imperial County</td>\n",
       "      <td>59</td>\n",
       "    </tr>\n",
       "  </tbody>\n",
       "</table>\n",
       "</div>"
      ],
      "text/plain": [
       "            agency   n\n",
       "0         Imperial   4\n",
       "1  Imperial County  59"
      ]
     },
     "execution_count": 19,
     "metadata": {},
     "output_type": "execute_result"
    }
   ],
   "source": [
    "df>>filter(_.locode=='5958')>>count(_.agency)"
   ]
  },
  {
   "cell_type": "code",
   "execution_count": 20,
   "id": "97df95c4-e2ab-4f9e-8a46-2ce7e6999f66",
   "metadata": {},
   "outputs": [],
   "source": [
    "df.loc[(df['locode']=='5958') & (df['agency']=='Imperial'),'agency'] = 'Imperial County'"
   ]
  },
  {
   "cell_type": "markdown",
   "id": "8bfb07b5-7223-4a67-8d72-56ff3357ab88",
   "metadata": {},
   "source": [
    "### Kern County (District 9) 5961"
   ]
  },
  {
   "cell_type": "code",
   "execution_count": 21,
   "id": "c4932945-cc8a-448b-adbb-cc62da1aceef",
   "metadata": {},
   "outputs": [
    {
     "data": {
      "text/html": [
       "<div>\n",
       "<style scoped>\n",
       "    .dataframe tbody tr th:only-of-type {\n",
       "        vertical-align: middle;\n",
       "    }\n",
       "\n",
       "    .dataframe tbody tr th {\n",
       "        vertical-align: top;\n",
       "    }\n",
       "\n",
       "    .dataframe thead th {\n",
       "        text-align: right;\n",
       "    }\n",
       "</style>\n",
       "<table border=\"1\" class=\"dataframe\">\n",
       "  <thead>\n",
       "    <tr style=\"text-align: right;\">\n",
       "      <th></th>\n",
       "      <th>agency</th>\n",
       "      <th>n</th>\n",
       "    </tr>\n",
       "  </thead>\n",
       "  <tbody>\n",
       "    <tr>\n",
       "      <th>0</th>\n",
       "      <td>Kern</td>\n",
       "      <td>2</td>\n",
       "    </tr>\n",
       "    <tr>\n",
       "      <th>1</th>\n",
       "      <td>Kern County (District 9)</td>\n",
       "      <td>17</td>\n",
       "    </tr>\n",
       "  </tbody>\n",
       "</table>\n",
       "</div>"
      ],
      "text/plain": [
       "                     agency   n\n",
       "0                      Kern   2\n",
       "1  Kern County (District 9)  17"
      ]
     },
     "execution_count": 21,
     "metadata": {},
     "output_type": "execute_result"
    }
   ],
   "source": [
    "df>>filter(_.locode=='5961')>>count(_.agency)"
   ]
  },
  {
   "cell_type": "code",
   "execution_count": 22,
   "id": "bda07b45-1bbf-464a-9d39-c0c88ae00320",
   "metadata": {},
   "outputs": [],
   "source": [
    "df.loc[(df['locode']=='5961') & (df['agency']=='Kern'),'agency'] = 'Kern County (District 9)'"
   ]
  },
  {
   "cell_type": "markdown",
   "id": "1c9d5acb-605d-49ab-90d2-9340d29c84bc",
   "metadata": {},
   "source": [
    "### San Francisco Bay Area Rapid Transit District 6000"
   ]
  },
  {
   "cell_type": "code",
   "execution_count": 23,
   "id": "3860a7f2-6266-427c-9363-ddec6a281c5d",
   "metadata": {},
   "outputs": [
    {
     "data": {
      "text/html": [
       "<div>\n",
       "<style scoped>\n",
       "    .dataframe tbody tr th:only-of-type {\n",
       "        vertical-align: middle;\n",
       "    }\n",
       "\n",
       "    .dataframe tbody tr th {\n",
       "        vertical-align: top;\n",
       "    }\n",
       "\n",
       "    .dataframe thead th {\n",
       "        text-align: right;\n",
       "    }\n",
       "</style>\n",
       "<table border=\"1\" class=\"dataframe\">\n",
       "  <thead>\n",
       "    <tr style=\"text-align: right;\">\n",
       "      <th></th>\n",
       "      <th>agency</th>\n",
       "      <th>n</th>\n",
       "    </tr>\n",
       "  </thead>\n",
       "  <tbody>\n",
       "    <tr>\n",
       "      <th>0</th>\n",
       "      <td>Bay Area Rt</td>\n",
       "      <td>1</td>\n",
       "    </tr>\n",
       "    <tr>\n",
       "      <th>1</th>\n",
       "      <td>San Francisco Bay Area Rapid Transit District</td>\n",
       "      <td>40</td>\n",
       "    </tr>\n",
       "  </tbody>\n",
       "</table>\n",
       "</div>"
      ],
      "text/plain": [
       "                                          agency   n\n",
       "0                                    Bay Area Rt   1\n",
       "1  San Francisco Bay Area Rapid Transit District  40"
      ]
     },
     "execution_count": 23,
     "metadata": {},
     "output_type": "execute_result"
    }
   ],
   "source": [
    "df>>filter(_.locode=='6000')>>count(_.agency)"
   ]
  },
  {
   "cell_type": "code",
   "execution_count": 24,
   "id": "5ccd4df5-cbd8-48ea-98f2-4ff97e784c00",
   "metadata": {},
   "outputs": [],
   "source": [
    "df.loc[(df['locode']=='6000') & (df['agency']=='Bay Area Rt'),'agency'] = 'San Francisco Bay Area Rapid Transit District'"
   ]
  },
  {
   "cell_type": "markdown",
   "id": "8f1841e4-80a2-4869-92d1-7e981a233f22",
   "metadata": {},
   "source": [
    "### Alameda - Contra Costa Transit District 6002"
   ]
  },
  {
   "cell_type": "code",
   "execution_count": 25,
   "id": "400a6b06-eda9-4d62-9110-05c9804c06be",
   "metadata": {},
   "outputs": [
    {
     "data": {
      "text/html": [
       "<div>\n",
       "<style scoped>\n",
       "    .dataframe tbody tr th:only-of-type {\n",
       "        vertical-align: middle;\n",
       "    }\n",
       "\n",
       "    .dataframe tbody tr th {\n",
       "        vertical-align: top;\n",
       "    }\n",
       "\n",
       "    .dataframe thead th {\n",
       "        text-align: right;\n",
       "    }\n",
       "</style>\n",
       "<table border=\"1\" class=\"dataframe\">\n",
       "  <thead>\n",
       "    <tr style=\"text-align: right;\">\n",
       "      <th></th>\n",
       "      <th>agency</th>\n",
       "      <th>n</th>\n",
       "    </tr>\n",
       "  </thead>\n",
       "  <tbody>\n",
       "    <tr>\n",
       "      <th>0</th>\n",
       "      <td>Ala-Con Costa T</td>\n",
       "      <td>1</td>\n",
       "    </tr>\n",
       "    <tr>\n",
       "      <th>1</th>\n",
       "      <td>Alameda - Contra Costa Transit District</td>\n",
       "      <td>6</td>\n",
       "    </tr>\n",
       "  </tbody>\n",
       "</table>\n",
       "</div>"
      ],
      "text/plain": [
       "                                    agency  n\n",
       "0                          Ala-Con Costa T  1\n",
       "1  Alameda - Contra Costa Transit District  6"
      ]
     },
     "execution_count": 25,
     "metadata": {},
     "output_type": "execute_result"
    }
   ],
   "source": [
    "df>>filter(_.locode=='6002')>>count(_.agency)"
   ]
  },
  {
   "cell_type": "code",
   "execution_count": 26,
   "id": "f5109c58-0994-4af6-8eb7-dcdf22981e91",
   "metadata": {},
   "outputs": [],
   "source": [
    "df.loc[(df['locode']=='6002') & (df['agency']=='Ala-Con Costa T'),'agency'] = 'Alameda - Contra Costa Transit District'"
   ]
  },
  {
   "cell_type": "markdown",
   "id": "edd16da5-54c3-4b2e-822a-9962e08690b1",
   "metadata": {},
   "source": [
    "### Los Angeles County Metropolitan Transportation 6065"
   ]
  },
  {
   "cell_type": "code",
   "execution_count": 27,
   "id": "594f9f65-ef42-41a3-8dfc-3627f62a14ae",
   "metadata": {},
   "outputs": [
    {
     "data": {
      "text/html": [
       "<div>\n",
       "<style scoped>\n",
       "    .dataframe tbody tr th:only-of-type {\n",
       "        vertical-align: middle;\n",
       "    }\n",
       "\n",
       "    .dataframe tbody tr th {\n",
       "        vertical-align: top;\n",
       "    }\n",
       "\n",
       "    .dataframe thead th {\n",
       "        text-align: right;\n",
       "    }\n",
       "</style>\n",
       "<table border=\"1\" class=\"dataframe\">\n",
       "  <thead>\n",
       "    <tr style=\"text-align: right;\">\n",
       "      <th></th>\n",
       "      <th>agency</th>\n",
       "      <th>n</th>\n",
       "    </tr>\n",
       "  </thead>\n",
       "  <tbody>\n",
       "    <tr>\n",
       "      <th>0</th>\n",
       "      <td>La Co M T A</td>\n",
       "      <td>1</td>\n",
       "    </tr>\n",
       "    <tr>\n",
       "      <th>1</th>\n",
       "      <td>Los Angeles County Metropolitan Transportation...</td>\n",
       "      <td>84</td>\n",
       "    </tr>\n",
       "  </tbody>\n",
       "</table>\n",
       "</div>"
      ],
      "text/plain": [
       "                                              agency   n\n",
       "0                                        La Co M T A   1\n",
       "1  Los Angeles County Metropolitan Transportation...  84"
      ]
     },
     "execution_count": 27,
     "metadata": {},
     "output_type": "execute_result"
    }
   ],
   "source": [
    "df>>filter(_.locode=='6065')>>count(_.agency)"
   ]
  },
  {
   "cell_type": "code",
   "execution_count": 28,
   "id": "e9a2b76c-9a2c-475c-a86b-0ffa19cbd092",
   "metadata": {
    "tags": []
   },
   "outputs": [],
   "source": [
    "df.loc[(df['locode']=='6065') & (df['agency']=='La Co M T A'),'agency'] = 'Los Angeles County Metropolitan Transportation Authority'\n"
   ]
  },
  {
   "cell_type": "markdown",
   "id": "c0eee1b2-8883-4bac-a436-cac8d1780586",
   "metadata": {},
   "source": [
    "### Department of Parks and Recreation 6081"
   ]
  },
  {
   "cell_type": "code",
   "execution_count": 29,
   "id": "e8f426e7-839b-436a-b2e1-b7db0a035865",
   "metadata": {},
   "outputs": [
    {
     "data": {
      "text/html": [
       "<div>\n",
       "<style scoped>\n",
       "    .dataframe tbody tr th:only-of-type {\n",
       "        vertical-align: middle;\n",
       "    }\n",
       "\n",
       "    .dataframe tbody tr th {\n",
       "        vertical-align: top;\n",
       "    }\n",
       "\n",
       "    .dataframe thead th {\n",
       "        text-align: right;\n",
       "    }\n",
       "</style>\n",
       "<table border=\"1\" class=\"dataframe\">\n",
       "  <thead>\n",
       "    <tr style=\"text-align: right;\">\n",
       "      <th></th>\n",
       "      <th>agency</th>\n",
       "      <th>n</th>\n",
       "    </tr>\n",
       "  </thead>\n",
       "  <tbody>\n",
       "    <tr>\n",
       "      <th>0</th>\n",
       "      <td>Department Of Parks And Recreation</td>\n",
       "      <td>10</td>\n",
       "    </tr>\n",
       "    <tr>\n",
       "      <th>1</th>\n",
       "      <td>Parks And Rec</td>\n",
       "      <td>1</td>\n",
       "    </tr>\n",
       "  </tbody>\n",
       "</table>\n",
       "</div>"
      ],
      "text/plain": [
       "                               agency   n\n",
       "0  Department Of Parks And Recreation  10\n",
       "1                       Parks And Rec   1"
      ]
     },
     "execution_count": 29,
     "metadata": {},
     "output_type": "execute_result"
    }
   ],
   "source": [
    "df>>filter(_.locode=='6081')>>count(_.agency)"
   ]
  },
  {
   "cell_type": "code",
   "execution_count": 30,
   "id": "af2c7c95-07fb-4cd5-8057-f78bfb1f0fcd",
   "metadata": {},
   "outputs": [],
   "source": [
    "df.loc[(df['locode']=='6081') & (df['agency']=='Parks And Rec'),'agency'] = 'Department Of Parks And Recreation'"
   ]
  },
  {
   "cell_type": "markdown",
   "id": "6a1770f4-2ccd-4887-93cb-ab7200a56716",
   "metadata": {},
   "source": [
    "### Santa Clara Valley Transportation Authority 6264"
   ]
  },
  {
   "cell_type": "code",
   "execution_count": 31,
   "id": "a613a655-3829-4709-9385-9260e2c9b324",
   "metadata": {},
   "outputs": [
    {
     "data": {
      "text/html": [
       "<div>\n",
       "<style scoped>\n",
       "    .dataframe tbody tr th:only-of-type {\n",
       "        vertical-align: middle;\n",
       "    }\n",
       "\n",
       "    .dataframe tbody tr th {\n",
       "        vertical-align: top;\n",
       "    }\n",
       "\n",
       "    .dataframe thead th {\n",
       "        text-align: right;\n",
       "    }\n",
       "</style>\n",
       "<table border=\"1\" class=\"dataframe\">\n",
       "  <thead>\n",
       "    <tr style=\"text-align: right;\">\n",
       "      <th></th>\n",
       "      <th>agency</th>\n",
       "      <th>n</th>\n",
       "    </tr>\n",
       "  </thead>\n",
       "  <tbody>\n",
       "    <tr>\n",
       "      <th>0</th>\n",
       "      <td>Santa Clara Valley Transportation Authority</td>\n",
       "      <td>50</td>\n",
       "    </tr>\n",
       "    <tr>\n",
       "      <th>1</th>\n",
       "      <td>Vta</td>\n",
       "      <td>1</td>\n",
       "    </tr>\n",
       "  </tbody>\n",
       "</table>\n",
       "</div>"
      ],
      "text/plain": [
       "                                        agency   n\n",
       "0  Santa Clara Valley Transportation Authority  50\n",
       "1                                          Vta   1"
      ]
     },
     "execution_count": 31,
     "metadata": {},
     "output_type": "execute_result"
    }
   ],
   "source": [
    "df>>filter(_.locode=='6264')>>count(_.agency)"
   ]
  },
  {
   "cell_type": "code",
   "execution_count": 32,
   "id": "ee8be00e-bc5d-463c-8137-e1232f2dfd29",
   "metadata": {},
   "outputs": [],
   "source": [
    "df.loc[(df['locode']=='6264') & (df['agency']=='Vta'),'agency'] = 'Santa Clara Valley Transportation Authority'"
   ]
  },
  {
   "cell_type": "markdown",
   "id": "9b49c23e-77c4-4c84-8632-73fa2f49f34c",
   "metadata": {},
   "source": [
    "###  Marin County Transit District 6343\n"
   ]
  },
  {
   "cell_type": "code",
   "execution_count": 33,
   "id": "95b705e4-6fda-412f-95d9-bd98cffdfb0a",
   "metadata": {},
   "outputs": [
    {
     "data": {
      "text/html": [
       "<div>\n",
       "<style scoped>\n",
       "    .dataframe tbody tr th:only-of-type {\n",
       "        vertical-align: middle;\n",
       "    }\n",
       "\n",
       "    .dataframe tbody tr th {\n",
       "        vertical-align: top;\n",
       "    }\n",
       "\n",
       "    .dataframe thead th {\n",
       "        text-align: right;\n",
       "    }\n",
       "</style>\n",
       "<table border=\"1\" class=\"dataframe\">\n",
       "  <thead>\n",
       "    <tr style=\"text-align: right;\">\n",
       "      <th></th>\n",
       "      <th>agency</th>\n",
       "      <th>n</th>\n",
       "    </tr>\n",
       "  </thead>\n",
       "  <tbody>\n",
       "    <tr>\n",
       "      <th>0</th>\n",
       "      <td>Marin County Transit District</td>\n",
       "      <td>1</td>\n",
       "    </tr>\n",
       "    <tr>\n",
       "      <th>1</th>\n",
       "      <td>Mctd</td>\n",
       "      <td>1</td>\n",
       "    </tr>\n",
       "  </tbody>\n",
       "</table>\n",
       "</div>"
      ],
      "text/plain": [
       "                          agency  n\n",
       "0  Marin County Transit District  1\n",
       "1                           Mctd  1"
      ]
     },
     "execution_count": 33,
     "metadata": {},
     "output_type": "execute_result"
    }
   ],
   "source": [
    "df>>filter(_.locode=='6343')>>count(_.agency)"
   ]
  },
  {
   "cell_type": "code",
   "execution_count": 34,
   "id": "71d183b2-5884-46b0-a7d9-b5f35d1498dc",
   "metadata": {},
   "outputs": [],
   "source": [
    "df.loc[(df['locode']=='6343') & (df['agency']=='Mctd'),'agency'] = 'Marin County Transit District'"
   ]
  },
  {
   "cell_type": "markdown",
   "id": "444c29de-1b3e-42e1-8e72-de1e1139511c",
   "metadata": {},
   "source": [
    "### San Francisco Bay Area Water Transit Authority 6365"
   ]
  },
  {
   "cell_type": "code",
   "execution_count": 35,
   "id": "b272017d-57ae-4436-9bc7-944b5888a7c2",
   "metadata": {},
   "outputs": [
    {
     "data": {
      "text/html": [
       "<div>\n",
       "<style scoped>\n",
       "    .dataframe tbody tr th:only-of-type {\n",
       "        vertical-align: middle;\n",
       "    }\n",
       "\n",
       "    .dataframe tbody tr th {\n",
       "        vertical-align: top;\n",
       "    }\n",
       "\n",
       "    .dataframe thead th {\n",
       "        text-align: right;\n",
       "    }\n",
       "</style>\n",
       "<table border=\"1\" class=\"dataframe\">\n",
       "  <thead>\n",
       "    <tr style=\"text-align: right;\">\n",
       "      <th></th>\n",
       "      <th>agency</th>\n",
       "      <th>n</th>\n",
       "    </tr>\n",
       "  </thead>\n",
       "  <tbody>\n",
       "    <tr>\n",
       "      <th>0</th>\n",
       "      <td>San Francisco Bay Area Water Transit Authority</td>\n",
       "      <td>1</td>\n",
       "    </tr>\n",
       "    <tr>\n",
       "      <th>1</th>\n",
       "      <td>Wta</td>\n",
       "      <td>2</td>\n",
       "    </tr>\n",
       "  </tbody>\n",
       "</table>\n",
       "</div>"
      ],
      "text/plain": [
       "                                           agency  n\n",
       "0  San Francisco Bay Area Water Transit Authority  1\n",
       "1                                             Wta  2"
      ]
     },
     "execution_count": 35,
     "metadata": {},
     "output_type": "execute_result"
    }
   ],
   "source": [
    "df>>filter(_.locode=='6365')>>count(_.agency)"
   ]
  },
  {
   "cell_type": "code",
   "execution_count": 36,
   "id": "83f61f0a-30ec-4452-adf0-64d5a1d5b161",
   "metadata": {},
   "outputs": [],
   "source": [
    "df.loc[(df['locode']=='6365') & (df['agency']=='Wta'),'agency'] = 'San Francisco Bay Area Water Transit Authority'"
   ]
  },
  {
   "cell_type": "markdown",
   "id": "762795c5-f201-4118-8545-fc7ebe074d2f",
   "metadata": {},
   "source": [
    "# Count Agencies"
   ]
  },
  {
   "cell_type": "code",
   "execution_count": 37,
   "id": "52069740-89cb-4a62-b9e4-217d481b5080",
   "metadata": {},
   "outputs": [
    {
     "data": {
      "text/plain": [
       "662"
      ]
     },
     "execution_count": 37,
     "metadata": {},
     "output_type": "execute_result"
    }
   ],
   "source": [
    "df.agency.nunique()"
   ]
  },
  {
   "cell_type": "markdown",
   "id": "900001a6-42d4-45ad-bf2f-adb03f330db5",
   "metadata": {},
   "source": [
    "## To CSV"
   ]
  },
  {
   "cell_type": "code",
   "execution_count": 38,
   "id": "f087acf0-23cb-4359-9ff3-3f0ca4fd8f02",
   "metadata": {},
   "outputs": [],
   "source": [
    "#df.to_csv('obligated_list_1202.csv',index=False)"
   ]
  },
  {
   "cell_type": "markdown",
   "id": "56c96807-59f1-4a81-bbc7-0871e02a2e5f",
   "metadata": {},
   "source": [
    "# Agencies/Locodes Remaining "
   ]
  },
  {
   "cell_type": "markdown",
   "id": "dc9a67ac-d023-41b0-bd1b-16ef01b2f399",
   "metadata": {},
   "source": [
    "| Locodes  |Agency in Locode List | Agencies to Change |\n",
    "| ------------- | ------------- | ------------- |\n",
    "| 5953 | Los Angeles County | Marin County, Paradise, Trinity County  |\n",
    "| 5903 |Modoc County | Alpine County, Monterey County, Nevada County  |\n",
    "| 5954 |San Bernardino County | Tehama County, Yucaipa    |\n",
    "| 5916 |Yuba County | Shasta County, Tuolumne County|\n",
    "| 5940 | Mariposa County | Humboldt| \n",
    "| 5957 | San Diego County | Cathedral City|\n",
    "| 5020 |Yreka City | Sonoma County|\n",
    "| 5275 | Indio | Palm Springs | \n",
    "| 5351 | Pico Rivera | Los Angeles County |\n",
    "| 5391 | Morro Bay | Ora Co Trans Au | \n",
    "| 5463 | Calabasas | Calaveras |\n",
    "| 5912 | Butte County | Santa Barbara County | \n",
    "| 5921 | Napa County | Shasta County |\n",
    "| 5930 | Calaveras County | Los Angeles County | \n",
    "| 5936 | Santa Cruz County | Monterey County |\n",
    "| 7500  | NaN | Banning, Fowler, Lancaster, Los Angeles, Palmdale, Richmond, San Luis Obispo, San Mateo, Sgvc, Stockton, Sutter, Ventura  |\n",
    "| 40A0  | NaN | Mendocino, San Bernardino, Santa Cruz  |\n",
    "| NBIL  | NaN | La Quinta, Yucaipa                     |\n"
   ]
  },
  {
   "cell_type": "code",
   "execution_count": null,
   "id": "1d2a6bd7-5a25-4658-8b3f-26c2450572eb",
   "metadata": {},
   "outputs": [],
   "source": []
  }
 ],
 "metadata": {
  "kernelspec": {
   "display_name": "Python 3 (ipykernel)",
   "language": "python",
   "name": "python3"
  },
  "language_info": {
   "codemirror_mode": {
    "name": "ipython",
    "version": 3
   },
   "file_extension": ".py",
   "mimetype": "text/x-python",
   "name": "python",
   "nbconvert_exporter": "python",
   "pygments_lexer": "ipython3",
   "version": "3.9.7"
  },
  "widgets": {
   "application/vnd.jupyter.widget-state+json": {
    "state": {},
    "version_major": 2,
    "version_minor": 0
   }
  }
 },
 "nbformat": 4,
 "nbformat_minor": 5
}
