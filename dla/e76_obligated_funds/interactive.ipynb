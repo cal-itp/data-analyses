{
 "cells": [
  {
   "cell_type": "markdown",
   "id": "dc2c3da2-5825-4db7-85a2-bfa4366d0ebe",
   "metadata": {},
   "source": [
    "# Interactive Functions "
   ]
  },
  {
   "cell_type": "code",
   "execution_count": 1,
   "id": "6305e725-0066-4cd6-9f56-4c4afffbb13a",
   "metadata": {},
   "outputs": [],
   "source": [
    "import pandas as pd\n",
    "from siuba import _, mutate, count, filter, group_by, ungroup, summarize, show_query, arrange, collect\n",
    "\n",
    "import numpy as np\n",
    "from sqlalchemy import create_engine\n",
    "from siuba.sql import LazyTbl"
   ]
  },
  {
   "cell_type": "code",
   "execution_count": 5,
   "id": "0e38dd54-4944-469b-b7a5-ba9db691a0fb",
   "metadata": {},
   "outputs": [],
   "source": [
    "#! pip install plotnine"
   ]
  },
  {
   "cell_type": "code",
   "execution_count": 2,
   "id": "f23a3a2b-8b07-4430-bd20-30945356f81d",
   "metadata": {},
   "outputs": [],
   "source": [
    "from plotnine import *"
   ]
  },
  {
   "cell_type": "code",
   "execution_count": 3,
   "id": "6cb6e6a1-8972-4d5d-a5a9-4e85d11ca5e2",
   "metadata": {},
   "outputs": [],
   "source": [
    "pd.set_option('display.max_columns', None)\n",
    "pd.options.display.float_format = \"{:.2f}\".format"
   ]
  },
  {
   "cell_type": "code",
   "execution_count": 4,
   "id": "9be02bd4-56c2-4b30-a08a-346efe4c93a1",
   "metadata": {},
   "outputs": [
    {
     "name": "stderr",
     "output_type": "stream",
     "text": [
      "/opt/conda/lib/python3.9/site-packages/google/auth/_default.py:73: UserWarning: Your application has authenticated using end user credentials from Google Cloud SDK without a quota project. You might receive a \"quota exceeded\" or \"API not enabled\" error. We recommend you rerun `gcloud auth application-default login` and make sure a quota project is added. Or you can use service accounts instead. For more information about service accounts, see https://cloud.google.com/docs/authentication/\n"
     ]
    }
   ],
   "source": [
    "df = pd.read_csv('gs://calitp-analytics-data/data-analyses/dla/e-76Obligated/clean_obligated_waiting.csv', low_memory=False)"
   ]
  },
  {
   "cell_type": "markdown",
   "id": "69d47474-4a12-48d7-9929-2b0482031434",
   "metadata": {},
   "source": [
    "#### Dropping the duplicates"
   ]
  },
  {
   "cell_type": "code",
   "execution_count": 5,
   "id": "1c791c7b-326d-4a03-ae74-95379596604c",
   "metadata": {},
   "outputs": [
    {
     "data": {
      "text/plain": [
       "0"
      ]
     },
     "execution_count": 5,
     "metadata": {},
     "output_type": "execute_result"
    }
   ],
   "source": [
    "df.duplicated().sum()"
   ]
  },
  {
   "cell_type": "code",
   "execution_count": 6,
   "id": "ea7ff63f-ae15-40a6-87ba-18cff7bbd324",
   "metadata": {},
   "outputs": [],
   "source": [
    "df.drop_duplicates(inplace=True)"
   ]
  },
  {
   "cell_type": "code",
   "execution_count": 7,
   "id": "202c8639-2e5c-4221-af2a-40a7ab0de874",
   "metadata": {},
   "outputs": [
    {
     "data": {
      "text/plain": [
       "0"
      ]
     },
     "execution_count": 7,
     "metadata": {},
     "output_type": "execute_result"
    }
   ],
   "source": [
    "df.duplicated().sum()"
   ]
  },
  {
   "cell_type": "markdown",
   "id": "626f40c1-bd3c-4260-bb5c-aab0a3cfd0c5",
   "metadata": {},
   "source": [
    "Dropping some columns to have the basic information in the function table"
   ]
  },
  {
   "cell_type": "code",
   "execution_count": 8,
   "id": "ded686f0-8803-4493-b057-2e604562afba",
   "metadata": {},
   "outputs": [],
   "source": [
    "df = df.drop(['Unnamed: 0',\n",
    "              'submit__to_hq_date',\n",
    "              'hq_review_date',\n",
    "              'submit_to_fhwa_date',\n",
    "              'to_fmis_date',\n",
    "              'status',\n",
    "              'dist_processing_days',\n",
    "              'hq_processing_days',\n",
    "              'fhwa_processing_days',\n",
    "              'date_request_initiated',\n",
    "              'date_completed_request',\n",
    "              'warning'], axis=1)\n"
   ]
  },
  {
   "cell_type": "code",
   "execution_count": 9,
   "id": "325e825d-7e18-461a-a4aa-d5363ad51703",
   "metadata": {},
   "outputs": [],
   "source": [
    "df = df.drop(['location',\n",
    "              'projectID',\n",
    "              'projectNO',\n",
    "              'compare_id_locode'], axis=1)"
   ]
  },
  {
   "cell_type": "code",
   "execution_count": 10,
   "id": "e9fb1833-0319-41a6-88f7-fe16110a2636",
   "metadata": {},
   "outputs": [],
   "source": [
    "cols = ['prepared_date']\n",
    "df[cols] = df[cols].applymap(lambda x : pd.to_datetime(x, format = '%Y-%m-%d'))"
   ]
  },
  {
   "cell_type": "code",
   "execution_count": 11,
   "id": "20ba0273-a53a-4249-bdfa-052c76f2a046",
   "metadata": {},
   "outputs": [
    {
     "data": {
      "text/html": [
       "<div>\n",
       "<style scoped>\n",
       "    .dataframe tbody tr th:only-of-type {\n",
       "        vertical-align: middle;\n",
       "    }\n",
       "\n",
       "    .dataframe tbody tr th {\n",
       "        vertical-align: top;\n",
       "    }\n",
       "\n",
       "    .dataframe thead th {\n",
       "        text-align: right;\n",
       "    }\n",
       "</style>\n",
       "<table border=\"1\" class=\"dataframe\">\n",
       "  <thead>\n",
       "    <tr style=\"text-align: right;\">\n",
       "      <th></th>\n",
       "      <th>prefix</th>\n",
       "      <th>project_no</th>\n",
       "      <th>agency</th>\n",
       "      <th>prepared_date</th>\n",
       "      <th>fed_requested</th>\n",
       "      <th>ac_requested</th>\n",
       "      <th>total_requested</th>\n",
       "      <th>status_comment</th>\n",
       "      <th>locode</th>\n",
       "      <th>dist</th>\n",
       "      <th>ftip_no</th>\n",
       "      <th>project_location</th>\n",
       "      <th>type_of_work</th>\n",
       "      <th>seq</th>\n",
       "      <th>mpo</th>\n",
       "    </tr>\n",
       "  </thead>\n",
       "  <tbody>\n",
       "    <tr>\n",
       "      <th>8138</th>\n",
       "      <td>RPSTP</td>\n",
       "      <td>5933(112)</td>\n",
       "      <td>Alameda County</td>\n",
       "      <td>2015-10-07</td>\n",
       "      <td>0.00</td>\n",
       "      <td>0.00</td>\n",
       "      <td>3333.33</td>\n",
       "      <td>Authorized</td>\n",
       "      <td>5933</td>\n",
       "      <td>4</td>\n",
       "      <td>ALA050035</td>\n",
       "      <td>Grove Way Between Meekland And Western Blvd. ,...</td>\n",
       "      <td>Sidewalk Improvements</td>\n",
       "      <td>4</td>\n",
       "      <td>MTC</td>\n",
       "    </tr>\n",
       "    <tr>\n",
       "      <th>14995</th>\n",
       "      <td>HSIP</td>\n",
       "      <td>5416(010)</td>\n",
       "      <td>Marina</td>\n",
       "      <td>2019-10-08</td>\n",
       "      <td>-19.60</td>\n",
       "      <td>0.00</td>\n",
       "      <td>0.00</td>\n",
       "      <td>Authorized</td>\n",
       "      <td>5416</td>\n",
       "      <td>5</td>\n",
       "      <td>HSIP08</td>\n",
       "      <td>Del Monte And Beach Road Roundabout</td>\n",
       "      <td>Construct Roundabout</td>\n",
       "      <td>3</td>\n",
       "      <td>AMBAG</td>\n",
       "    </tr>\n",
       "    <tr>\n",
       "      <th>5648</th>\n",
       "      <td>CMLNI</td>\n",
       "      <td>5287(037)</td>\n",
       "      <td>Wasco</td>\n",
       "      <td>2016-10-13</td>\n",
       "      <td>-22106.05</td>\n",
       "      <td>0.00</td>\n",
       "      <td>-24970.77</td>\n",
       "      <td>Authorized</td>\n",
       "      <td>5287</td>\n",
       "      <td>6</td>\n",
       "      <td>KER140523</td>\n",
       "      <td>City Of Wasco</td>\n",
       "      <td>Purchase Cng Refuse Truck</td>\n",
       "      <td>2</td>\n",
       "      <td>KCOG</td>\n",
       "    </tr>\n",
       "    <tr>\n",
       "      <th>12007</th>\n",
       "      <td>BPMPL</td>\n",
       "      <td>5940(111)</td>\n",
       "      <td>Mariposa</td>\n",
       "      <td>2014-04-10</td>\n",
       "      <td>60000.00</td>\n",
       "      <td>0.00</td>\n",
       "      <td>60000.00</td>\n",
       "      <td>Authorized</td>\n",
       "      <td>NaN</td>\n",
       "      <td>10</td>\n",
       "      <td>HBP-STWD</td>\n",
       "      <td>Multiple Locations (county Bridges)</td>\n",
       "      <td>Preventive Maintenance (tc)</td>\n",
       "      <td>1</td>\n",
       "      <td>STANCOG</td>\n",
       "    </tr>\n",
       "    <tr>\n",
       "      <th>5552</th>\n",
       "      <td>HSIP</td>\n",
       "      <td>5928(118)</td>\n",
       "      <td>Contra Costa County</td>\n",
       "      <td>2016-10-27</td>\n",
       "      <td>510000.00</td>\n",
       "      <td>0.00</td>\n",
       "      <td>730821.00</td>\n",
       "      <td>Authorized</td>\n",
       "      <td>5928</td>\n",
       "      <td>4</td>\n",
       "      <td>VAR110007</td>\n",
       "      <td>Alhambra Valley Road Between Rancho La Boca Rd...</td>\n",
       "      <td>Shoulder Widening / Roadway Reconstruction</td>\n",
       "      <td>2</td>\n",
       "      <td>MTC</td>\n",
       "    </tr>\n",
       "  </tbody>\n",
       "</table>\n",
       "</div>"
      ],
      "text/plain": [
       "      prefix project_no               agency prepared_date  fed_requested  \\\n",
       "8138   RPSTP  5933(112)       Alameda County    2015-10-07           0.00   \n",
       "14995   HSIP  5416(010)               Marina    2019-10-08         -19.60   \n",
       "5648   CMLNI  5287(037)                Wasco    2016-10-13      -22106.05   \n",
       "12007  BPMPL  5940(111)             Mariposa    2014-04-10       60000.00   \n",
       "5552    HSIP  5928(118)  Contra Costa County    2016-10-27      510000.00   \n",
       "\n",
       "       ac_requested  total_requested status_comment locode  dist    ftip_no  \\\n",
       "8138           0.00          3333.33     Authorized   5933     4  ALA050035   \n",
       "14995          0.00             0.00     Authorized   5416     5     HSIP08   \n",
       "5648           0.00        -24970.77     Authorized   5287     6  KER140523   \n",
       "12007          0.00         60000.00     Authorized    NaN    10   HBP-STWD   \n",
       "5552           0.00        730821.00     Authorized   5928     4  VAR110007   \n",
       "\n",
       "                                        project_location  \\\n",
       "8138   Grove Way Between Meekland And Western Blvd. ,...   \n",
       "14995                Del Monte And Beach Road Roundabout   \n",
       "5648                                       City Of Wasco   \n",
       "12007                Multiple Locations (county Bridges)   \n",
       "5552   Alhambra Valley Road Between Rancho La Boca Rd...   \n",
       "\n",
       "                                     type_of_work  seq      mpo  \n",
       "8138                        Sidewalk Improvements    4      MTC  \n",
       "14995                        Construct Roundabout    3    AMBAG  \n",
       "5648                    Purchase Cng Refuse Truck    2     KCOG  \n",
       "12007                 Preventive Maintenance (tc)    1  STANCOG  \n",
       "5552   Shoulder Widening / Roadway Reconstruction    2      MTC  "
      ]
     },
     "execution_count": 11,
     "metadata": {},
     "output_type": "execute_result"
    }
   ],
   "source": [
    "df.sample(5)"
   ]
  },
  {
   "cell_type": "code",
   "execution_count": 12,
   "id": "8a4c7d45-8334-43c5-bf86-a9616af8a425",
   "metadata": {},
   "outputs": [],
   "source": [
    "df['prepared_y'] = pd.to_datetime(df[\"prepared_date\"].dt.strftime('%Y'))"
   ]
  },
  {
   "cell_type": "code",
   "execution_count": 13,
   "id": "41f59bb5-9d98-4bda-b63f-61a77d774004",
   "metadata": {},
   "outputs": [
    {
     "data": {
      "text/html": [
       "<div>\n",
       "<style scoped>\n",
       "    .dataframe tbody tr th:only-of-type {\n",
       "        vertical-align: middle;\n",
       "    }\n",
       "\n",
       "    .dataframe tbody tr th {\n",
       "        vertical-align: top;\n",
       "    }\n",
       "\n",
       "    .dataframe thead th {\n",
       "        text-align: right;\n",
       "    }\n",
       "</style>\n",
       "<table border=\"1\" class=\"dataframe\">\n",
       "  <thead>\n",
       "    <tr style=\"text-align: right;\">\n",
       "      <th></th>\n",
       "      <th>prefix</th>\n",
       "      <th>project_no</th>\n",
       "      <th>agency</th>\n",
       "      <th>prepared_date</th>\n",
       "      <th>fed_requested</th>\n",
       "      <th>ac_requested</th>\n",
       "      <th>total_requested</th>\n",
       "      <th>status_comment</th>\n",
       "      <th>locode</th>\n",
       "      <th>dist</th>\n",
       "      <th>ftip_no</th>\n",
       "      <th>project_location</th>\n",
       "      <th>type_of_work</th>\n",
       "      <th>seq</th>\n",
       "      <th>mpo</th>\n",
       "      <th>prepared_y</th>\n",
       "    </tr>\n",
       "  </thead>\n",
       "  <tbody>\n",
       "    <tr>\n",
       "      <th>4116</th>\n",
       "      <td>CML</td>\n",
       "      <td>5942(254)</td>\n",
       "      <td>Fresno County</td>\n",
       "      <td>2017-04-04</td>\n",
       "      <td>2580541.00</td>\n",
       "      <td>0.00</td>\n",
       "      <td>3258026.00</td>\n",
       "      <td>Authorized</td>\n",
       "      <td>5942</td>\n",
       "      <td>6</td>\n",
       "      <td>FRE150026</td>\n",
       "      <td>Kamm Avenue From State Route 145 To Jansen Avenue</td>\n",
       "      <td>Shoulder Improvements</td>\n",
       "      <td>2</td>\n",
       "      <td>CFCG</td>\n",
       "      <td>2017-01-01</td>\n",
       "    </tr>\n",
       "    <tr>\n",
       "      <th>13744</th>\n",
       "      <td>PRNSL</td>\n",
       "      <td>5109(242)</td>\n",
       "      <td>Bakersfield</td>\n",
       "      <td>2019-04-29</td>\n",
       "      <td>0.00</td>\n",
       "      <td>0.00</td>\n",
       "      <td>239100.00</td>\n",
       "      <td>Authorized</td>\n",
       "      <td>5109</td>\n",
       "      <td>6</td>\n",
       "      <td>KER050104</td>\n",
       "      <td>Kern County In The City Of Bakersfield On Rte ...</td>\n",
       "      <td>Construct Auxiliary Lane, Reconstruct Overcros...</td>\n",
       "      <td>2</td>\n",
       "      <td>KCOG</td>\n",
       "      <td>2019-01-01</td>\n",
       "    </tr>\n",
       "    <tr>\n",
       "      <th>6865</th>\n",
       "      <td>CML</td>\n",
       "      <td>5925(130)</td>\n",
       "      <td>El Dorado County</td>\n",
       "      <td>2016-03-29</td>\n",
       "      <td>230952.00</td>\n",
       "      <td>0.00</td>\n",
       "      <td>819819.00</td>\n",
       "      <td>Authorized</td>\n",
       "      <td>5925</td>\n",
       "      <td>3</td>\n",
       "      <td>ELD19364</td>\n",
       "      <td>El Dorado Trail From Los Trampas Dr To Halcon Rd</td>\n",
       "      <td>Ped/bike Path (tc)</td>\n",
       "      <td>4</td>\n",
       "      <td>SACOG</td>\n",
       "      <td>2016-01-01</td>\n",
       "    </tr>\n",
       "    <tr>\n",
       "      <th>17949</th>\n",
       "      <td>ACST-ER</td>\n",
       "      <td>32L0(015)</td>\n",
       "      <td>Santa Cruz County</td>\n",
       "      <td>2020-09-28</td>\n",
       "      <td>0.00</td>\n",
       "      <td>514785.00</td>\n",
       "      <td>581482.00</td>\n",
       "      <td>Authorized</td>\n",
       "      <td>5936</td>\n",
       "      <td>5</td>\n",
       "      <td>NaN</td>\n",
       "      <td>In The County Of Santa Cruz On North Rodeo Gul...</td>\n",
       "      <td>Stabilize Slope And Reconstruct Roadway</td>\n",
       "      <td>4</td>\n",
       "      <td>AMBAG</td>\n",
       "      <td>2020-01-01</td>\n",
       "    </tr>\n",
       "    <tr>\n",
       "      <th>7093</th>\n",
       "      <td>BRLS</td>\n",
       "      <td>5937(123)</td>\n",
       "      <td>Santa Clara County</td>\n",
       "      <td>2016-03-28</td>\n",
       "      <td>309855.00</td>\n",
       "      <td>0.00</td>\n",
       "      <td>350000.00</td>\n",
       "      <td>Authorized</td>\n",
       "      <td>5937</td>\n",
       "      <td>4</td>\n",
       "      <td>VAR110045</td>\n",
       "      <td>Uvas Rd Over Uvas Creek, Bridge 37c0094</td>\n",
       "      <td>Bridge Replacement</td>\n",
       "      <td>5</td>\n",
       "      <td>MTC</td>\n",
       "      <td>2016-01-01</td>\n",
       "    </tr>\n",
       "  </tbody>\n",
       "</table>\n",
       "</div>"
      ],
      "text/plain": [
       "        prefix project_no              agency prepared_date  fed_requested  \\\n",
       "4116       CML  5942(254)       Fresno County    2017-04-04     2580541.00   \n",
       "13744    PRNSL  5109(242)         Bakersfield    2019-04-29           0.00   \n",
       "6865       CML  5925(130)    El Dorado County    2016-03-29      230952.00   \n",
       "17949  ACST-ER  32L0(015)   Santa Cruz County    2020-09-28           0.00   \n",
       "7093      BRLS  5937(123)  Santa Clara County    2016-03-28      309855.00   \n",
       "\n",
       "       ac_requested  total_requested status_comment locode  dist    ftip_no  \\\n",
       "4116           0.00       3258026.00     Authorized   5942     6  FRE150026   \n",
       "13744          0.00        239100.00     Authorized   5109     6  KER050104   \n",
       "6865           0.00        819819.00     Authorized   5925     3   ELD19364   \n",
       "17949     514785.00        581482.00     Authorized   5936     5        NaN   \n",
       "7093           0.00        350000.00     Authorized   5937     4  VAR110045   \n",
       "\n",
       "                                        project_location  \\\n",
       "4116   Kamm Avenue From State Route 145 To Jansen Avenue   \n",
       "13744  Kern County In The City Of Bakersfield On Rte ...   \n",
       "6865    El Dorado Trail From Los Trampas Dr To Halcon Rd   \n",
       "17949  In The County Of Santa Cruz On North Rodeo Gul...   \n",
       "7093             Uvas Rd Over Uvas Creek, Bridge 37c0094   \n",
       "\n",
       "                                            type_of_work  seq    mpo  \\\n",
       "4116                               Shoulder Improvements    2   CFCG   \n",
       "13744  Construct Auxiliary Lane, Reconstruct Overcros...    2   KCOG   \n",
       "6865                                  Ped/bike Path (tc)    4  SACOG   \n",
       "17949            Stabilize Slope And Reconstruct Roadway    4  AMBAG   \n",
       "7093                                  Bridge Replacement    5    MTC   \n",
       "\n",
       "      prepared_y  \n",
       "4116  2017-01-01  \n",
       "13744 2019-01-01  \n",
       "6865  2016-01-01  \n",
       "17949 2020-01-01  \n",
       "7093  2016-01-01  "
      ]
     },
     "execution_count": 13,
     "metadata": {},
     "output_type": "execute_result"
    }
   ],
   "source": [
    "df.sample(5)"
   ]
  },
  {
   "cell_type": "code",
   "execution_count": 68,
   "id": "ffd6609a-46fa-413e-9ac0-dd06530b6ae4",
   "metadata": {},
   "outputs": [],
   "source": [
    "df.to_csv('function_data.csv')"
   ]
  },
  {
   "cell_type": "code",
   "execution_count": null,
   "id": "1fc97118-79a9-4b8a-bd56-362b4944e257",
   "metadata": {},
   "outputs": [],
   "source": []
  },
  {
   "cell_type": "code",
   "execution_count": 14,
   "id": "fd5c56c5-4491-4b37-aea3-77136494afc6",
   "metadata": {
    "tags": []
   },
   "outputs": [],
   "source": [
    "#importing inerctive functions"
   ]
  },
  {
   "cell_type": "code",
   "execution_count": 15,
   "id": "425ea83c-666f-48bf-be8e-e80cca244453",
   "metadata": {},
   "outputs": [],
   "source": [
    "import ipywidgets as widgets\n",
    "from ipywidgets import interact, interact_manual"
   ]
  },
  {
   "cell_type": "code",
   "execution_count": null,
   "id": "1dcd799b-068a-4d01-bd01-75323d2f514e",
   "metadata": {},
   "outputs": [],
   "source": []
  },
  {
   "cell_type": "markdown",
   "id": "faf193c3-eb5f-4a97-a892-07a6bd51ab38",
   "metadata": {},
   "source": [
    "## Parts of the Function"
   ]
  },
  {
   "cell_type": "markdown",
   "id": "17c30985-a291-4436-a17c-6e126a812297",
   "metadata": {},
   "source": [
    "creating a test function for the creation of the table. Want to be able to filter using the agency and the prefix "
   ]
  },
  {
   "cell_type": "code",
   "execution_count": 16,
   "id": "e586ea2f-5f6b-48f8-83e5-06af10609711",
   "metadata": {},
   "outputs": [],
   "source": [
    "def table_dla(agency=df.agency.unique().tolist(),\n",
    "             prefix=df.prefix.unique().tolist()):\n",
    "    display(df[(df.agency == agency)&(df.prefix == prefix)].sample(10))"
   ]
  },
  {
   "cell_type": "code",
   "execution_count": 17,
   "id": "effc14f0-9c47-4270-9b2a-6408d3a9e119",
   "metadata": {},
   "outputs": [
    {
     "data": {
      "text/html": [
       "<div>\n",
       "<style scoped>\n",
       "    .dataframe tbody tr th:only-of-type {\n",
       "        vertical-align: middle;\n",
       "    }\n",
       "\n",
       "    .dataframe tbody tr th {\n",
       "        vertical-align: top;\n",
       "    }\n",
       "\n",
       "    .dataframe thead th {\n",
       "        text-align: right;\n",
       "    }\n",
       "</style>\n",
       "<table border=\"1\" class=\"dataframe\">\n",
       "  <thead>\n",
       "    <tr style=\"text-align: right;\">\n",
       "      <th></th>\n",
       "      <th>prefix</th>\n",
       "      <th>project_no</th>\n",
       "      <th>agency</th>\n",
       "      <th>prepared_date</th>\n",
       "      <th>fed_requested</th>\n",
       "      <th>ac_requested</th>\n",
       "      <th>total_requested</th>\n",
       "      <th>status_comment</th>\n",
       "      <th>locode</th>\n",
       "      <th>dist</th>\n",
       "      <th>ftip_no</th>\n",
       "      <th>project_location</th>\n",
       "      <th>type_of_work</th>\n",
       "      <th>seq</th>\n",
       "      <th>mpo</th>\n",
       "      <th>prepared_y</th>\n",
       "    </tr>\n",
       "  </thead>\n",
       "  <tbody>\n",
       "    <tr>\n",
       "      <th>1262</th>\n",
       "      <td>ER</td>\n",
       "      <td>20A0(008)</td>\n",
       "      <td>Humboldt County</td>\n",
       "      <td>2018-06-14</td>\n",
       "      <td>0.00</td>\n",
       "      <td>0.00</td>\n",
       "      <td>0.00</td>\n",
       "      <td>Authorized</td>\n",
       "      <td>5904</td>\n",
       "      <td>1</td>\n",
       "      <td>NaN</td>\n",
       "      <td>Alderpoint Road, Pm 14.10</td>\n",
       "      <td>Storm Damage Restoration</td>\n",
       "      <td>5</td>\n",
       "      <td>NON-MPO</td>\n",
       "      <td>2018-01-01</td>\n",
       "    </tr>\n",
       "    <tr>\n",
       "      <th>263</th>\n",
       "      <td>ER</td>\n",
       "      <td>32L0(130)</td>\n",
       "      <td>Humboldt County</td>\n",
       "      <td>2018-10-30</td>\n",
       "      <td>36313.21</td>\n",
       "      <td>0.00</td>\n",
       "      <td>40799.95</td>\n",
       "      <td>Authorized</td>\n",
       "      <td>5904</td>\n",
       "      <td>1</td>\n",
       "      <td>NaN</td>\n",
       "      <td>Mattole Rd Pm 11.13</td>\n",
       "      <td>Permanent Restoration</td>\n",
       "      <td>1</td>\n",
       "      <td>NON-MPO</td>\n",
       "      <td>2018-01-01</td>\n",
       "    </tr>\n",
       "    <tr>\n",
       "      <th>17509</th>\n",
       "      <td>ER</td>\n",
       "      <td>32L0(114)</td>\n",
       "      <td>Humboldt County</td>\n",
       "      <td>2020-09-16</td>\n",
       "      <td>1212129.73</td>\n",
       "      <td>0.00</td>\n",
       "      <td>1369174.00</td>\n",
       "      <td>Authorized</td>\n",
       "      <td>5904</td>\n",
       "      <td>1</td>\n",
       "      <td>NaN</td>\n",
       "      <td>Mattole Road Pm 36.06-36.10</td>\n",
       "      <td>Permanent Restoration</td>\n",
       "      <td>4</td>\n",
       "      <td>NON-MPO</td>\n",
       "      <td>2020-01-01</td>\n",
       "    </tr>\n",
       "    <tr>\n",
       "      <th>16327</th>\n",
       "      <td>ER</td>\n",
       "      <td>4400(029)</td>\n",
       "      <td>Humboldt County</td>\n",
       "      <td>2020-04-14</td>\n",
       "      <td>-1.04</td>\n",
       "      <td>0.00</td>\n",
       "      <td>0.00</td>\n",
       "      <td>Authorized</td>\n",
       "      <td>5904</td>\n",
       "      <td>1</td>\n",
       "      <td>NaN</td>\n",
       "      <td>Alderpoint Road Pm 22.45/22.45</td>\n",
       "      <td>Storm Damage</td>\n",
       "      <td>6</td>\n",
       "      <td>NON-MPO</td>\n",
       "      <td>2020-01-01</td>\n",
       "    </tr>\n",
       "    <tr>\n",
       "      <th>14412</th>\n",
       "      <td>ER</td>\n",
       "      <td>32L0(224)</td>\n",
       "      <td>Humboldt County</td>\n",
       "      <td>2019-08-21</td>\n",
       "      <td>-663.98</td>\n",
       "      <td>0.00</td>\n",
       "      <td>-750.00</td>\n",
       "      <td>Authorized</td>\n",
       "      <td>5904</td>\n",
       "      <td>1</td>\n",
       "      <td>NaN</td>\n",
       "      <td>Mattole Road Pm 35.65</td>\n",
       "      <td>Permanent Restoration</td>\n",
       "      <td>2</td>\n",
       "      <td>NON-MPO</td>\n",
       "      <td>2019-01-01</td>\n",
       "    </tr>\n",
       "    <tr>\n",
       "      <th>14882</th>\n",
       "      <td>ER</td>\n",
       "      <td>32L0(270)</td>\n",
       "      <td>Humboldt County</td>\n",
       "      <td>2019-10-07</td>\n",
       "      <td>39838.50</td>\n",
       "      <td>-39838.50</td>\n",
       "      <td>0.00</td>\n",
       "      <td>Authorized</td>\n",
       "      <td>5904</td>\n",
       "      <td>1</td>\n",
       "      <td>NaN</td>\n",
       "      <td>Alderpoint Road 2.70</td>\n",
       "      <td>Permanent Restoration</td>\n",
       "      <td>3</td>\n",
       "      <td>NON-MPO</td>\n",
       "      <td>2019-01-01</td>\n",
       "    </tr>\n",
       "    <tr>\n",
       "      <th>1197</th>\n",
       "      <td>ER</td>\n",
       "      <td>20A0(017)</td>\n",
       "      <td>Humboldt County</td>\n",
       "      <td>2018-06-25</td>\n",
       "      <td>0.00</td>\n",
       "      <td>0.00</td>\n",
       "      <td>0.00</td>\n",
       "      <td>Authorized</td>\n",
       "      <td>5904</td>\n",
       "      <td>1</td>\n",
       "      <td>NaN</td>\n",
       "      <td>Alderpoint Road, Pm 36.98</td>\n",
       "      <td>Permanent Restoration</td>\n",
       "      <td>5</td>\n",
       "      <td>NON-MPO</td>\n",
       "      <td>2018-01-01</td>\n",
       "    </tr>\n",
       "    <tr>\n",
       "      <th>2023</th>\n",
       "      <td>ER</td>\n",
       "      <td>20A0(054)</td>\n",
       "      <td>Humboldt County</td>\n",
       "      <td>2018-03-29</td>\n",
       "      <td>13732.05</td>\n",
       "      <td>0.00</td>\n",
       "      <td>15511.11</td>\n",
       "      <td>Authorized</td>\n",
       "      <td>5904</td>\n",
       "      <td>1</td>\n",
       "      <td>NaN</td>\n",
       "      <td>Mattole Road, Pm 14.60</td>\n",
       "      <td>Storm Damage Restoration</td>\n",
       "      <td>2</td>\n",
       "      <td>NON-MPO</td>\n",
       "      <td>2018-01-01</td>\n",
       "    </tr>\n",
       "    <tr>\n",
       "      <th>19021</th>\n",
       "      <td>ER</td>\n",
       "      <td>32L0(253)</td>\n",
       "      <td>Humboldt County</td>\n",
       "      <td>2021-04-27</td>\n",
       "      <td>0.00</td>\n",
       "      <td>0.00</td>\n",
       "      <td>0.00</td>\n",
       "      <td>Authorized</td>\n",
       "      <td>5904</td>\n",
       "      <td>1</td>\n",
       "      <td>NaN</td>\n",
       "      <td>In Humboldt County On Mattole Road Pm 16.15 Pr</td>\n",
       "      <td>Permanent Restoration</td>\n",
       "      <td>2</td>\n",
       "      <td>NON-MPO</td>\n",
       "      <td>2021-01-01</td>\n",
       "    </tr>\n",
       "    <tr>\n",
       "      <th>16320</th>\n",
       "      <td>ER</td>\n",
       "      <td>32L0(160)</td>\n",
       "      <td>Humboldt County</td>\n",
       "      <td>2020-02-28</td>\n",
       "      <td>-42357.63</td>\n",
       "      <td>0.00</td>\n",
       "      <td>-24148.61</td>\n",
       "      <td>Authorized</td>\n",
       "      <td>5904</td>\n",
       "      <td>1</td>\n",
       "      <td>NaN</td>\n",
       "      <td>Shelter Cove Rd Pm 7.60, Humboldt County</td>\n",
       "      <td>Emergency Opening, Disaster 17-2</td>\n",
       "      <td>3</td>\n",
       "      <td>NON-MPO</td>\n",
       "      <td>2020-01-01</td>\n",
       "    </tr>\n",
       "  </tbody>\n",
       "</table>\n",
       "</div>"
      ],
      "text/plain": [
       "      prefix project_no           agency prepared_date  fed_requested  \\\n",
       "1262      ER  20A0(008)  Humboldt County    2018-06-14           0.00   \n",
       "263       ER  32L0(130)  Humboldt County    2018-10-30       36313.21   \n",
       "17509     ER  32L0(114)  Humboldt County    2020-09-16     1212129.73   \n",
       "16327     ER  4400(029)  Humboldt County    2020-04-14          -1.04   \n",
       "14412     ER  32L0(224)  Humboldt County    2019-08-21        -663.98   \n",
       "14882     ER  32L0(270)  Humboldt County    2019-10-07       39838.50   \n",
       "1197      ER  20A0(017)  Humboldt County    2018-06-25           0.00   \n",
       "2023      ER  20A0(054)  Humboldt County    2018-03-29       13732.05   \n",
       "19021     ER  32L0(253)  Humboldt County    2021-04-27           0.00   \n",
       "16320     ER  32L0(160)  Humboldt County    2020-02-28      -42357.63   \n",
       "\n",
       "       ac_requested  total_requested status_comment locode  dist ftip_no  \\\n",
       "1262           0.00             0.00     Authorized   5904     1     NaN   \n",
       "263            0.00         40799.95     Authorized   5904     1     NaN   \n",
       "17509          0.00       1369174.00     Authorized   5904     1     NaN   \n",
       "16327          0.00             0.00     Authorized   5904     1     NaN   \n",
       "14412          0.00          -750.00     Authorized   5904     1     NaN   \n",
       "14882     -39838.50             0.00     Authorized   5904     1     NaN   \n",
       "1197           0.00             0.00     Authorized   5904     1     NaN   \n",
       "2023           0.00         15511.11     Authorized   5904     1     NaN   \n",
       "19021          0.00             0.00     Authorized   5904     1     NaN   \n",
       "16320          0.00        -24148.61     Authorized   5904     1     NaN   \n",
       "\n",
       "                                     project_location  \\\n",
       "1262                        Alderpoint Road, Pm 14.10   \n",
       "263                               Mattole Rd Pm 11.13   \n",
       "17509                     Mattole Road Pm 36.06-36.10   \n",
       "16327                  Alderpoint Road Pm 22.45/22.45   \n",
       "14412                           Mattole Road Pm 35.65   \n",
       "14882                            Alderpoint Road 2.70   \n",
       "1197                        Alderpoint Road, Pm 36.98   \n",
       "2023                           Mattole Road, Pm 14.60   \n",
       "19021  In Humboldt County On Mattole Road Pm 16.15 Pr   \n",
       "16320        Shelter Cove Rd Pm 7.60, Humboldt County   \n",
       "\n",
       "                           type_of_work  seq      mpo prepared_y  \n",
       "1262           Storm Damage Restoration    5  NON-MPO 2018-01-01  \n",
       "263               Permanent Restoration    1  NON-MPO 2018-01-01  \n",
       "17509             Permanent Restoration    4  NON-MPO 2020-01-01  \n",
       "16327                      Storm Damage    6  NON-MPO 2020-01-01  \n",
       "14412             Permanent Restoration    2  NON-MPO 2019-01-01  \n",
       "14882             Permanent Restoration    3  NON-MPO 2019-01-01  \n",
       "1197              Permanent Restoration    5  NON-MPO 2018-01-01  \n",
       "2023           Storm Damage Restoration    2  NON-MPO 2018-01-01  \n",
       "19021             Permanent Restoration    2  NON-MPO 2021-01-01  \n",
       "16320  Emergency Opening, Disaster 17-2    3  NON-MPO 2020-01-01  "
      ]
     },
     "metadata": {},
     "output_type": "display_data"
    }
   ],
   "source": [
    "# we know Humboldt County has many ER obligations, so we will use that to test the function\n",
    "table_dla(agency='Humboldt County', prefix='ER')"
   ]
  },
  {
   "cell_type": "code",
   "execution_count": 18,
   "id": "703b7599-5807-41d5-a959-1cf4fd1e7fc3",
   "metadata": {},
   "outputs": [
    {
     "data": {
      "application/vnd.jupyter.widget-view+json": {
       "model_id": "42e1d823b87d4108b92ab1a2d214caec",
       "version_major": 2,
       "version_minor": 0
      },
      "text/plain": [
       "interactive(children=(Dropdown(description='agency', options=('Humboldt County', 'Mendocino County', 'Sacramen…"
      ]
     },
     "metadata": {},
     "output_type": "display_data"
    }
   ],
   "source": [
    "#making the function interactive\n",
    "\n",
    "@interact\n",
    "\n",
    "def table_dla(agency=df.agency.unique().tolist(),\n",
    "             prefix=df.prefix.unique().tolist()):\n",
    "    display(df[(df.agency == agency)&(df.prefix == prefix)].sample(10))\n",
    "    \n",
    "    "
   ]
  },
  {
   "cell_type": "markdown",
   "id": "bfb9d28f-b09f-4c2d-8013-cb424f6beaa7",
   "metadata": {},
   "source": [
    "### Making the graph part of the function"
   ]
  },
  {
   "cell_type": "code",
   "execution_count": 19,
   "id": "9f0625cf-5a0f-4873-a75c-7c297af075a9",
   "metadata": {},
   "outputs": [
    {
     "data": {
      "image/png": "[encoded data removed]",
      "text/plain": [
       "<Figure size 640x480 with 1 Axes>"
      ]
     },
     "metadata": {},
     "output_type": "display_data"
    },
    {
     "data": {
      "text/plain": [
       "<ggplot: (8737596592987)>"
      ]
     },
     "execution_count": 19,
     "metadata": {},
     "output_type": "execute_result"
    }
   ],
   "source": [
    "#what we are trying to get using ggplot and Siuba filtering\n",
    "(df\n",
    "    >> filter(_.agency.str.contains('Humboldt County'))\n",
    "    >> count(_.prefix) \n",
    "    >> arrange(-_.n)\n",
    "    >> ggplot(aes(\"prefix\", \"n\", fill=\"prefix\")) + geom_col() + theme(axis_text_x = element_text(angle = 45 , hjust=1))\n",
    ")"
   ]
  },
  {
   "cell_type": "markdown",
   "id": "408f1dc1-2aa3-4ab7-8bef-f5b646bd8727",
   "metadata": {},
   "source": [
    "#### Subsetting a prefix count\n",
    "\n",
    "using a mix of siuba and pandas for a subset df of our example Humboldt County"
   ]
  },
  {
   "cell_type": "code",
   "execution_count": null,
   "id": "d5f1b77d-8009-4886-abe6-cf5c460b819e",
   "metadata": {},
   "outputs": [],
   "source": []
  },
  {
   "cell_type": "code",
   "execution_count": 20,
   "id": "61f1e6ac-5309-432c-99b9-4ecee56b874c",
   "metadata": {
    "tags": []
   },
   "outputs": [],
   "source": [
    "agencies = df[df.agency=='Humboldt County']"
   ]
  },
  {
   "cell_type": "code",
   "execution_count": 21,
   "id": "dae98856-ab10-4f53-be9a-f285bafc83fa",
   "metadata": {},
   "outputs": [],
   "source": [
    "prefix_count_n = agencies >> count(_.prefix) "
   ]
  },
  {
   "cell_type": "code",
   "execution_count": 22,
   "id": "910121e2-f2a0-49a7-a3ef-5c231790849a",
   "metadata": {},
   "outputs": [
    {
     "data": {
      "text/html": [
       "<div>\n",
       "<style scoped>\n",
       "    .dataframe tbody tr th:only-of-type {\n",
       "        vertical-align: middle;\n",
       "    }\n",
       "\n",
       "    .dataframe tbody tr th {\n",
       "        vertical-align: top;\n",
       "    }\n",
       "\n",
       "    .dataframe thead th {\n",
       "        text-align: right;\n",
       "    }\n",
       "</style>\n",
       "<table border=\"1\" class=\"dataframe\">\n",
       "  <thead>\n",
       "    <tr style=\"text-align: right;\">\n",
       "      <th></th>\n",
       "      <th>prefix</th>\n",
       "      <th>n</th>\n",
       "    </tr>\n",
       "  </thead>\n",
       "  <tbody>\n",
       "    <tr>\n",
       "      <th>0</th>\n",
       "      <td>ACST-ER</td>\n",
       "      <td>65</td>\n",
       "    </tr>\n",
       "    <tr>\n",
       "      <th>1</th>\n",
       "      <td>ACSTP</td>\n",
       "      <td>31</td>\n",
       "    </tr>\n",
       "    <tr>\n",
       "      <th>2</th>\n",
       "      <td>ATP</td>\n",
       "      <td>5</td>\n",
       "    </tr>\n",
       "    <tr>\n",
       "      <th>3</th>\n",
       "      <td>ATPLNI</td>\n",
       "      <td>1</td>\n",
       "    </tr>\n",
       "    <tr>\n",
       "      <th>4</th>\n",
       "      <td>BPMPL</td>\n",
       "      <td>50</td>\n",
       "    </tr>\n",
       "    <tr>\n",
       "      <th>5</th>\n",
       "      <td>BRLO</td>\n",
       "      <td>22</td>\n",
       "    </tr>\n",
       "    <tr>\n",
       "      <th>6</th>\n",
       "      <td>BRLOZB</td>\n",
       "      <td>9</td>\n",
       "    </tr>\n",
       "    <tr>\n",
       "      <th>7</th>\n",
       "      <td>BRLS</td>\n",
       "      <td>20</td>\n",
       "    </tr>\n",
       "    <tr>\n",
       "      <th>8</th>\n",
       "      <td>BRLSZD</td>\n",
       "      <td>2</td>\n",
       "    </tr>\n",
       "    <tr>\n",
       "      <th>9</th>\n",
       "      <td>ER</td>\n",
       "      <td>381</td>\n",
       "    </tr>\n",
       "    <tr>\n",
       "      <th>10</th>\n",
       "      <td>FBDLNI</td>\n",
       "      <td>1</td>\n",
       "    </tr>\n",
       "    <tr>\n",
       "      <th>11</th>\n",
       "      <td>HRRR</td>\n",
       "      <td>5</td>\n",
       "    </tr>\n",
       "    <tr>\n",
       "      <th>12</th>\n",
       "      <td>HSIP</td>\n",
       "      <td>20</td>\n",
       "    </tr>\n",
       "    <tr>\n",
       "      <th>13</th>\n",
       "      <td>RPSTP</td>\n",
       "      <td>18</td>\n",
       "    </tr>\n",
       "    <tr>\n",
       "      <th>14</th>\n",
       "      <td>SRTSLNI</td>\n",
       "      <td>1</td>\n",
       "    </tr>\n",
       "  </tbody>\n",
       "</table>\n",
       "</div>"
      ],
      "text/plain": [
       "     prefix    n\n",
       "0   ACST-ER   65\n",
       "1     ACSTP   31\n",
       "2       ATP    5\n",
       "3    ATPLNI    1\n",
       "4     BPMPL   50\n",
       "5      BRLO   22\n",
       "6    BRLOZB    9\n",
       "7      BRLS   20\n",
       "8    BRLSZD    2\n",
       "9        ER  381\n",
       "10   FBDLNI    1\n",
       "11     HRRR    5\n",
       "12     HSIP   20\n",
       "13    RPSTP   18\n",
       "14  SRTSLNI    1"
      ]
     },
     "execution_count": 22,
     "metadata": {},
     "output_type": "execute_result"
    }
   ],
   "source": [
    "prefix_count_n"
   ]
  },
  {
   "cell_type": "code",
   "execution_count": 23,
   "id": "60136517-611b-4da0-ad36-5fd8d685c90c",
   "metadata": {},
   "outputs": [
    {
     "data": {
      "image/png": "[encoded data removed]",
      "text/plain": [
       "<Figure size 640x480 with 1 Axes>"
      ]
     },
     "metadata": {},
     "output_type": "display_data"
    },
    {
     "data": {
      "text/plain": [
       "<ggplot: (8737596593038)>"
      ]
     },
     "execution_count": 23,
     "metadata": {},
     "output_type": "execute_result"
    }
   ],
   "source": [
    "\n",
    "ax1 = (prefix_count_n\n",
    "        >> ggplot(aes(\"prefix\", \"n\", fill=\"prefix\")) + geom_col() + theme(axis_text_x = element_text(angle = 45 , hjust=1))\n",
    "    )\n",
    "ax1"
   ]
  },
  {
   "cell_type": "markdown",
   "id": "ec45b884-4fe3-405e-9eac-d5575e20f45c",
   "metadata": {},
   "source": [
    "* great! got the ggplot working with the sub dataframe"
   ]
  },
  {
   "cell_type": "markdown",
   "id": "b411f4d2-5984-4238-ba3f-34170a58170d",
   "metadata": {},
   "source": [
    "### Trying the function now"
   ]
  },
  {
   "cell_type": "code",
   "execution_count": 24,
   "id": "e4bfaa41-cb25-4359-8409-7632e3004781",
   "metadata": {},
   "outputs": [
    {
     "data": {
      "image/png": "[encoded data removed]",
      "text/plain": [
       "<Figure size 640x480 with 1 Axes>"
      ]
     },
     "metadata": {},
     "output_type": "display_data"
    },
    {
     "data": {
      "text/plain": [
       "<ggplot: (8737596406489)>"
      ]
     },
     "execution_count": 24,
     "metadata": {},
     "output_type": "execute_result"
    }
   ],
   "source": [
    "# essentially what we want the function to do in one cell block: \n",
    "\n",
    "agencies = df[df.agency=='Humboldt County']\n",
    "    \n",
    "prefix_count_n = agencies >> count(_.prefix) \n",
    "    \n",
    "ax1 = (prefix_count_n\n",
    "        >> ggplot(aes(\"prefix\", \"n\", fill=\"prefix\")) + geom_col() + theme(axis_text_x = element_text(angle = 45 , hjust=1))\n",
    ")\n",
    "ax1\n"
   ]
  },
  {
   "cell_type": "code",
   "execution_count": 25,
   "id": "16f17ac3-abc7-4024-89a8-f8ca3d0fba38",
   "metadata": {},
   "outputs": [],
   "source": [
    "def dla_graphs(place='Humboldt County'):\n",
    "    \n",
    "    agencies = df[df.agency==place]\n",
    "    \n",
    "    prefix_count_n = agencies >> count(_.prefix) \n",
    "    \n",
    "    ax1 = (prefix_count_n\n",
    "        >> ggplot(aes(\"prefix\", \"n\", fill=\"prefix\")) + geom_col() + theme(axis_text_x = element_text(angle = 45 , hjust=1))\n",
    "    )\n",
    "    return ax1\n",
    "\n",
    "                                    \n",
    "                "
   ]
  },
  {
   "cell_type": "code",
   "execution_count": 26,
   "id": "f9d72ecc-343b-4390-ab5c-26b2059a4347",
   "metadata": {},
   "outputs": [
    {
     "data": {
      "image/png": "[encoded data removed]",
      "text/plain": [
       "<Figure size 640x480 with 1 Axes>"
      ]
     },
     "metadata": {},
     "output_type": "display_data"
    },
    {
     "data": {
      "text/plain": [
       "<ggplot: (8737596331255)>"
      ]
     },
     "execution_count": 26,
     "metadata": {},
     "output_type": "execute_result"
    }
   ],
   "source": [
    "dla_graphs(place='Access Services')"
   ]
  },
  {
   "cell_type": "code",
   "execution_count": 27,
   "id": "6f573016-1c78-4d12-915d-28fb0cfd87c8",
   "metadata": {
    "tags": []
   },
   "outputs": [
    {
     "data": {
      "image/png": "[encoded data removed]",
      "text/plain": [
       "<Figure size 640x480 with 1 Axes>"
      ]
     },
     "metadata": {},
     "output_type": "display_data"
    },
    {
     "data": {
      "text/plain": [
       "<ggplot: (8737596343661)>"
      ]
     },
     "execution_count": 27,
     "metadata": {},
     "output_type": "execute_result"
    }
   ],
   "source": [
    "dla_graphs(place='Humboldt County')"
   ]
  },
  {
   "cell_type": "code",
   "execution_count": 28,
   "id": "c2581490-e5ad-493d-82ee-ca1327092d75",
   "metadata": {},
   "outputs": [
    {
     "data": {
      "application/vnd.jupyter.widget-view+json": {
       "model_id": "884fc94d7ea146a3a3f7c9d54ac1d508",
       "version_major": 2,
       "version_minor": 0
      },
      "text/plain": [
       "interactive(children=(Dropdown(description='place', options=('Humboldt County', 'Mendocino County', 'Sacrament…"
      ]
     },
     "metadata": {},
     "output_type": "display_data"
    }
   ],
   "source": [
    "#add interact \n",
    "\n",
    "@interact\n",
    "def dla_graphs_prefix(place=df.agency.unique().tolist()):\n",
    "    \n",
    "    agencies = df[df.agency==place]\n",
    "    \n",
    "    prefix_count_n = agencies >> count(_.prefix) \n",
    "    \n",
    "    ax1 = (prefix_count_n\n",
    "        >> ggplot(aes(\"prefix\", \"n\", fill=\"prefix\")) + geom_col() + theme(axis_text_x = element_text(angle = 45 , hjust=1))\n",
    "    )\n",
    "    return ax1\n",
    "\n",
    "                 "
   ]
  },
  {
   "cell_type": "markdown",
   "id": "1f340838-d04b-4d40-baee-a78a23a93b71",
   "metadata": {},
   "source": [
    "* GOT IT. now adding a sample table of some of the data"
   ]
  },
  {
   "cell_type": "markdown",
   "id": "ee23122e-f3d9-4a5e-b1b7-38cebbe41ff7",
   "metadata": {},
   "source": [
    "## Full Function for Prefix"
   ]
  },
  {
   "cell_type": "code",
   "execution_count": null,
   "id": "7cffda4e-d885-4a3d-b505-6c0c7e4ef9cb",
   "metadata": {},
   "outputs": [],
   "source": []
  },
  {
   "cell_type": "code",
   "execution_count": 29,
   "id": "01f57f33-9a69-4c6a-ae32-b0d2568d8c86",
   "metadata": {},
   "outputs": [
    {
     "data": {
      "application/vnd.jupyter.widget-view+json": {
       "model_id": "0df630b64ac74f9ea2fc75e635378372",
       "version_major": 2,
       "version_minor": 0
      },
      "text/plain": [
       "interactive(children=(Dropdown(description='place', options=('Access Services', 'Agoura Hills', 'Ala-Con Costa…"
      ]
     },
     "metadata": {},
     "output_type": "display_data"
    }
   ],
   "source": [
    "    @interact\n",
    "    \n",
    "    def dla_get_prefix(place=df.agency.sort_values().unique().tolist()):\n",
    "        # for the table- using one as some agencies only have one entry\n",
    "        display(df[df.agency == place].sample()) \n",
    "    \n",
    "        # graphs \n",
    "    \n",
    "        agencies = df[df.agency==place]\n",
    "    \n",
    "        prefix_count_n = agencies >> count(_.prefix) \n",
    "    \n",
    "        ax1 = (prefix_count_n\n",
    "            >> ggplot(aes(\"prefix\", \"n\", fill=\"prefix\")) \n",
    "               + geom_col() \n",
    "               + theme(axis_text_x = element_text(angle = 45 , hjust=1))\n",
    "               + labs(title='Agency Program Codes', x='Program Codes', y='Number of Obligations', fill=\"Program Type\")\n",
    "        )\n",
    "        return ax1\n",
    "\n",
    "        "
   ]
  },
  {
   "cell_type": "markdown",
   "id": "3ab2f261-af00-4b00-93c1-fd1f677424f1",
   "metadata": {
    "tags": []
   },
   "source": [
    "##### Exporting to HTML"
   ]
  },
  {
   "cell_type": "code",
   "execution_count": 30,
   "id": "9e2033c1-0a46-42b1-918b-773cb26be5ab",
   "metadata": {},
   "outputs": [],
   "source": [
    "\n",
    "from ipywidgets.embed import embed_minimal_html "
   ]
  },
  {
   "cell_type": "code",
   "execution_count": null,
   "id": "c0a61a0d-01db-4ec2-b0b3-d3ad24e33287",
   "metadata": {},
   "outputs": [],
   "source": []
  },
  {
   "cell_type": "code",
   "execution_count": 31,
   "id": "a34ec112-595a-4446-9b39-7d9dbbaed470",
   "metadata": {},
   "outputs": [
    {
     "data": {
      "application/vnd.jupyter.widget-view+json": {
       "model_id": "af3f4e0e7aff4477b069ea69e16c9564",
       "version_major": 2,
       "version_minor": 0
      },
      "text/plain": [
       "interactive(children=(Dropdown(description='place', options=('Access Services', 'Agoura Hills', 'Ala-Con Costa…"
      ]
     },
     "metadata": {},
     "output_type": "display_data"
    }
   ],
   "source": [
    "dla_agency_prefix_link = interact(dla_get_prefix)"
   ]
  },
  {
   "cell_type": "markdown",
   "id": "0bbd8d29-17e8-40cc-995e-6fe4215256cf",
   "metadata": {},
   "source": [
    "* might consider using dash https://towardsdatascience.com/dash-for-beginners-create-interactive-python-dashboards-338bfcb6ffa4"
   ]
  },
  {
   "cell_type": "code",
   "execution_count": null,
   "id": "8c1d276d-6c8b-4d94-829c-c58f5d1e2c6d",
   "metadata": {},
   "outputs": [],
   "source": []
  },
  {
   "cell_type": "code",
   "execution_count": null,
   "id": "6318098e-9cd5-448f-a5c8-0661d02edf06",
   "metadata": {},
   "outputs": [],
   "source": []
  },
  {
   "cell_type": "markdown",
   "id": "0f1d4c05-8a9c-42e6-9415-5f8010c32617",
   "metadata": {},
   "source": [
    "## Function for results by Prefix"
   ]
  },
  {
   "cell_type": "markdown",
   "id": "b9f61d79-903b-45b2-84e9-00577795b5d1",
   "metadata": {},
   "source": [
    "#### getting the table "
   ]
  },
  {
   "cell_type": "code",
   "execution_count": 32,
   "id": "78e80783-523b-4776-ad49-8d2de331a127",
   "metadata": {
    "scrolled": true,
    "tags": []
   },
   "outputs": [
    {
     "data": {
      "text/plain": [
       "['6140000',\n",
       " 'ACNHPI',\n",
       " 'ACST-ER',\n",
       " 'ACSTP',\n",
       " 'ASCTP',\n",
       " 'ATCMTD',\n",
       " 'ATF5512',\n",
       " 'ATP',\n",
       " 'ATPCML',\n",
       " 'ATPHIPL',\n",
       " 'ATPHSIP',\n",
       " 'ATPLN',\n",
       " 'ATPLNI',\n",
       " 'ATPLSB1',\n",
       " 'ATPNIL',\n",
       " 'ATPSB1',\n",
       " 'ATPSB1L',\n",
       " 'ATPSTC',\n",
       " 'ATPSTCML',\n",
       " 'ATPSTPL',\n",
       " 'BDGL',\n",
       " 'BGFL',\n",
       " 'BHL',\n",
       " 'BHLO',\n",
       " 'BHLOZ',\n",
       " 'BHLOZD',\n",
       " 'BHLS',\n",
       " 'BHLSCR',\n",
       " 'BHLSP',\n",
       " 'BHLSZ',\n",
       " 'BHLSZD',\n",
       " 'BPMPL',\n",
       " 'BR',\n",
       " 'BR-NBISL',\n",
       " 'BRCMLO',\n",
       " 'BRHIPL',\n",
       " 'BRIM',\n",
       " 'BRL',\n",
       " 'BRLKS',\n",
       " 'BRLNS',\n",
       " 'BRLO',\n",
       " 'BRLOZ',\n",
       " 'BRLOZA',\n",
       " 'BRLOZB',\n",
       " 'BRLOZE',\n",
       " 'BRLRT',\n",
       " 'BRLS',\n",
       " 'BRLSN',\n",
       " 'BRLSZ',\n",
       " 'BRLSZA',\n",
       " 'BRLSZD',\n",
       " 'BRLZ',\n",
       " 'BRNBIF',\n",
       " 'BRNBISL',\n",
       " 'BROS',\n",
       " 'BUILDL',\n",
       " 'CASB',\n",
       " 'CFLBRLO',\n",
       " 'CMAQL',\n",
       " 'CMESPL',\n",
       " 'CMFERP',\n",
       " 'CMFERP16',\n",
       " 'CMHIPL',\n",
       " 'CMHPLU',\n",
       " 'CMHPLULN',\n",
       " 'CMHRL',\n",
       " 'CMHSIPL',\n",
       " 'CML',\n",
       " 'CMLFSP',\n",
       " 'CMLFSP18',\n",
       " 'CMLFTA',\n",
       " 'CMLG',\n",
       " 'CMLGNI',\n",
       " 'CMLHPL',\n",
       " 'CMLN',\n",
       " 'CMLNGI',\n",
       " 'CMLNI',\n",
       " 'CMLSBCG',\n",
       " 'CMLSTBGL',\n",
       " 'CMRPSTPL',\n",
       " 'CMSTPL',\n",
       " 'CMSTPLN',\n",
       " 'CMSTPLNI',\n",
       " 'CMTCIFL',\n",
       " 'CMTCIFLN',\n",
       " 'CMTLSP',\n",
       " 'CRDL',\n",
       " 'CRP',\n",
       " 'CRRSAA',\n",
       " 'DBF',\n",
       " 'DBPL02',\n",
       " 'DE',\n",
       " 'DEM',\n",
       " 'DEM04L',\n",
       " 'DEM05',\n",
       " 'DEM05L',\n",
       " 'DEM05LN',\n",
       " 'DEM05U',\n",
       " 'DEM05UBL',\n",
       " 'DEM06',\n",
       " 'DEM06L',\n",
       " 'DEM06U',\n",
       " 'DEM06UBL',\n",
       " 'DEM08L',\n",
       " 'DEM08S',\n",
       " 'DEM08STP',\n",
       " 'DEM09',\n",
       " 'DEM09L',\n",
       " 'DEM10A',\n",
       " 'DEM10L',\n",
       " 'DEM112L',\n",
       " 'DEM115L',\n",
       " 'DEM117',\n",
       " 'DEM117L',\n",
       " 'DEML02',\n",
       " 'DEMO05',\n",
       " 'DEMO06',\n",
       " 'DEMO10',\n",
       " 'DEMO10L',\n",
       " 'DEMO11',\n",
       " 'DEMO17',\n",
       " 'DEMO17L',\n",
       " 'DEMO5L',\n",
       " 'DEMO6L',\n",
       " 'DPC',\n",
       " 'DPIL',\n",
       " 'DPSLN',\n",
       " 'ER',\n",
       " 'ESPL',\n",
       " 'ESPLCM',\n",
       " 'ESPLE',\n",
       " 'ESPLEH',\n",
       " 'ESPLER',\n",
       " 'ESPLERP',\n",
       " 'ESPLHP',\n",
       " 'ESPLN',\n",
       " 'ESPLSE',\n",
       " 'ESPLT21',\n",
       " 'ESPSEH',\n",
       " 'FBD',\n",
       " 'FBDLNI',\n",
       " 'FBP',\n",
       " 'FERPL',\n",
       " 'FERSTP',\n",
       " 'FERSTPL',\n",
       " 'FSHRP2',\n",
       " 'FSHRP2L',\n",
       " 'FSP',\n",
       " 'FSPCML',\n",
       " 'FSPCMLNI',\n",
       " 'FTA',\n",
       " 'FTAATP',\n",
       " 'FTAATPL',\n",
       " 'FTACML',\n",
       " 'FTACML14',\n",
       " 'FTACMLNI',\n",
       " 'FTACMLST',\n",
       " 'FTACMSPL',\n",
       " 'FTACMSTPL',\n",
       " 'FTACRRS',\n",
       " 'FTAFBDL',\n",
       " 'FTAFBP',\n",
       " 'FTAFBPL',\n",
       " 'FTAFER16',\n",
       " 'FTAFERPL',\n",
       " 'FTAMCL',\n",
       " 'FTASTCML',\n",
       " 'FTASTP',\n",
       " 'FTASTPCM',\n",
       " 'FTASTPCML',\n",
       " 'FTASTPL',\n",
       " 'FTASTPLR',\n",
       " 'FTCMLNI',\n",
       " 'FTFERPL16',\n",
       " 'GRNHSE',\n",
       " 'HICMSTPL',\n",
       " 'HIP',\n",
       " 'HIPCML',\n",
       " 'HIPL',\n",
       " 'HIPL5',\n",
       " 'HIPLPPSB',\n",
       " 'HIPSTPL',\n",
       " 'HISPL',\n",
       " 'HP21CM',\n",
       " 'HP21IMD',\n",
       " 'HP21IMDL',\n",
       " 'HP21L',\n",
       " 'HP21LN',\n",
       " 'HP21STP',\n",
       " 'HPBRLS',\n",
       " 'HPLU',\n",
       " 'HPLU21LN',\n",
       " 'HPLUES',\n",
       " 'HPLUL',\n",
       " 'HPLULN',\n",
       " 'HPLUN',\n",
       " 'HPLUNCI',\n",
       " 'HPLUSTPL',\n",
       " 'HPPLU',\n",
       " 'HRRR',\n",
       " 'HRRRCML',\n",
       " 'HSIMG',\n",
       " 'HSIP',\n",
       " 'HSIPCML',\n",
       " 'HSIPHR3',\n",
       " 'HSIPLN',\n",
       " 'HSIPRPL',\n",
       " 'HSIPSTP',\n",
       " 'HSPIL',\n",
       " 'IM',\n",
       " 'IMD',\n",
       " 'IMDLN',\n",
       " 'IMDTCIF',\n",
       " 'INFRAL',\n",
       " 'INFRALUL',\n",
       " 'INVEST',\n",
       " 'ISTDEM',\n",
       " 'ISTDEML',\n",
       " 'ITS01',\n",
       " 'ITS03',\n",
       " 'ITS04',\n",
       " 'ITS10',\n",
       " 'ITS13',\n",
       " 'ITS99',\n",
       " 'ITSL',\n",
       " 'LPPRPSB1',\n",
       " 'LPPSB1L',\n",
       " 'LPPSTPL',\n",
       " 'LTAP',\n",
       " 'NCBLN0',\n",
       " 'NCIIPL',\n",
       " 'NCIIPLN',\n",
       " 'NCPD',\n",
       " 'NCPDLN',\n",
       " 'NHCBPL',\n",
       " 'NHCBPP',\n",
       " 'NHPI',\n",
       " 'NMPTL',\n",
       " 'NMTPL',\n",
       " 'OJTSS',\n",
       " 'PBICLNI',\n",
       " 'PLDHL',\n",
       " 'PLHL',\n",
       " 'PNRS',\n",
       " 'PNRSCM',\n",
       " 'PNRSCML',\n",
       " 'PNRSHP',\n",
       " 'PNRSL',\n",
       " 'PNRSLN',\n",
       " 'PNRSTCI',\n",
       " 'PRNSL',\n",
       " 'PRST-ER',\n",
       " 'RABA01',\n",
       " 'RPCML',\n",
       " 'RPHP21L',\n",
       " 'RPL',\n",
       " 'RPLCML',\n",
       " 'RPMSTP',\n",
       " 'RPMSTPL',\n",
       " 'RPSTCML',\n",
       " 'RPSTP',\n",
       " 'RPSTPLE',\n",
       " 'RPTECM',\n",
       " 'RSTP',\n",
       " 'SHRP2L',\n",
       " 'SNPLMA',\n",
       " 'SPOA',\n",
       " 'SPTCSP',\n",
       " 'SPTL',\n",
       " 'SR2SCM',\n",
       " 'SR2SCML',\n",
       " 'SR2SF',\n",
       " 'SR2SL',\n",
       " 'SRTS',\n",
       " 'SRTSLN',\n",
       " 'SRTSLNI',\n",
       " 'SRTSNI',\n",
       " 'STBGL',\n",
       " 'STBGSB1L',\n",
       " 'STEAPC',\n",
       " 'STEPCR',\n",
       " 'STHIPCML',\n",
       " 'STIPL',\n",
       " 'STP',\n",
       " 'STPBIPL',\n",
       " 'STPCML',\n",
       " 'STPCMLN',\n",
       " 'STPCMLNI',\n",
       " 'STPE',\n",
       " 'STPESP',\n",
       " 'STPHIPL',\n",
       " 'STPHPL',\n",
       " 'STPHSIP',\n",
       " 'STPHSIPL',\n",
       " 'STPIMDL',\n",
       " 'STPLCML',\n",
       " 'STPLE',\n",
       " 'STPLEE',\n",
       " 'STPLEH',\n",
       " 'STPLER',\n",
       " 'STPLG',\n",
       " 'STPLH',\n",
       " 'STPLHS',\n",
       " 'STPLHSR',\n",
       " 'STPLN',\n",
       " 'STPLNI',\n",
       " 'STPLNZ',\n",
       " 'STPLP',\n",
       " 'STPLR',\n",
       " 'STPLUL',\n",
       " 'STPLV',\n",
       " 'STPLX',\n",
       " 'STPLZ',\n",
       " 'STPTCIF',\n",
       " 'STPTCIFL',\n",
       " 'TCEPSB1L',\n",
       " 'TCESB1L',\n",
       " 'TCIFCML',\n",
       " 'TCIFESP',\n",
       " 'TCSEL08',\n",
       " 'TCSP',\n",
       " 'TCSPCM',\n",
       " 'TCSPCML',\n",
       " 'TCSPDE',\n",
       " 'TGHPLUL',\n",
       " 'TGR2',\n",
       " 'TGR2DG',\n",
       " 'TILU',\n",
       " 'TIPL',\n",
       " 'TTDG',\n",
       " 'USFSSTPL',\n",
       " 'VPPL',\n",
       " 'VPPP',\n",
       " 'VPPTCS',\n",
       " 'WZDXL20']"
      ]
     },
     "execution_count": 32,
     "metadata": {},
     "output_type": "execute_result"
    }
   ],
   "source": [
    "df.prefix.sort_values().unique().tolist()"
   ]
  },
  {
   "cell_type": "code",
   "execution_count": 33,
   "id": "8c8ff37a-756a-4b26-8e31-0220631a1c23",
   "metadata": {},
   "outputs": [
    {
     "data": {
      "text/html": [
       "<div>\n",
       "<style scoped>\n",
       "    .dataframe tbody tr th:only-of-type {\n",
       "        vertical-align: middle;\n",
       "    }\n",
       "\n",
       "    .dataframe tbody tr th {\n",
       "        vertical-align: top;\n",
       "    }\n",
       "\n",
       "    .dataframe thead th {\n",
       "        text-align: right;\n",
       "    }\n",
       "</style>\n",
       "<table border=\"1\" class=\"dataframe\">\n",
       "  <thead>\n",
       "    <tr style=\"text-align: right;\">\n",
       "      <th></th>\n",
       "      <th>prefix</th>\n",
       "      <th>project_no</th>\n",
       "      <th>agency</th>\n",
       "      <th>prepared_date</th>\n",
       "      <th>fed_requested</th>\n",
       "      <th>ac_requested</th>\n",
       "      <th>total_requested</th>\n",
       "      <th>status_comment</th>\n",
       "      <th>locode</th>\n",
       "      <th>dist</th>\n",
       "      <th>ftip_no</th>\n",
       "      <th>project_location</th>\n",
       "      <th>type_of_work</th>\n",
       "      <th>seq</th>\n",
       "      <th>mpo</th>\n",
       "      <th>prepared_y</th>\n",
       "    </tr>\n",
       "  </thead>\n",
       "  <tbody>\n",
       "    <tr>\n",
       "      <th>1790</th>\n",
       "      <td>CML</td>\n",
       "      <td>5059(176)</td>\n",
       "      <td>Modesto</td>\n",
       "      <td>2018-04-27</td>\n",
       "      <td>0.00</td>\n",
       "      <td>0.00</td>\n",
       "      <td>0.00</td>\n",
       "      <td>Authorized</td>\n",
       "      <td>5059</td>\n",
       "      <td>10</td>\n",
       "      <td>VA01</td>\n",
       "      <td>Eb Bangs Ave. To Sb Prescott Road</td>\n",
       "      <td>Construct A Right Turn Lane</td>\n",
       "      <td>6</td>\n",
       "      <td>STANCOG</td>\n",
       "      <td>2018-01-01</td>\n",
       "    </tr>\n",
       "    <tr>\n",
       "      <th>8086</th>\n",
       "      <td>CML</td>\n",
       "      <td>5196(030)</td>\n",
       "      <td>Daly City</td>\n",
       "      <td>2015-10-07</td>\n",
       "      <td>0.00</td>\n",
       "      <td>0.00</td>\n",
       "      <td>700224.96</td>\n",
       "      <td>Authorized</td>\n",
       "      <td>5196</td>\n",
       "      <td>4</td>\n",
       "      <td>SM-050046</td>\n",
       "      <td>Mission Street</td>\n",
       "      <td>Pedestrian Improvements</td>\n",
       "      <td>7</td>\n",
       "      <td>MTC</td>\n",
       "      <td>2015-01-01</td>\n",
       "    </tr>\n",
       "    <tr>\n",
       "      <th>6323</th>\n",
       "      <td>CML</td>\n",
       "      <td>5208(147)</td>\n",
       "      <td>Clovis</td>\n",
       "      <td>2016-06-22</td>\n",
       "      <td>207700.00</td>\n",
       "      <td>0.00</td>\n",
       "      <td>207700.00</td>\n",
       "      <td>Authorized</td>\n",
       "      <td>5208</td>\n",
       "      <td>6</td>\n",
       "      <td>FRE130027</td>\n",
       "      <td>Shaw Ave, From Temperance Ave To Sunnyside Ave</td>\n",
       "      <td>Sidewalks &amp; Ada Ramps (tc)</td>\n",
       "      <td>2</td>\n",
       "      <td>CFCG</td>\n",
       "      <td>2016-01-01</td>\n",
       "    </tr>\n",
       "    <tr>\n",
       "      <th>7178</th>\n",
       "      <td>CML</td>\n",
       "      <td>5227(051)</td>\n",
       "      <td>Delano</td>\n",
       "      <td>2016-03-08</td>\n",
       "      <td>746816.00</td>\n",
       "      <td>0.00</td>\n",
       "      <td>844652.00</td>\n",
       "      <td>Authorized</td>\n",
       "      <td>5227</td>\n",
       "      <td>6</td>\n",
       "      <td>KER140521</td>\n",
       "      <td>Ellington St. Between Cecil Ave. And 9th Ave. ...</td>\n",
       "      <td>Construction Of Shoulders, Curb, And Gutter</td>\n",
       "      <td>1</td>\n",
       "      <td>KCOG</td>\n",
       "      <td>2016-01-01</td>\n",
       "    </tr>\n",
       "    <tr>\n",
       "      <th>17272</th>\n",
       "      <td>CML</td>\n",
       "      <td>6164(021)</td>\n",
       "      <td>Coachella Valley Association Of Governments</td>\n",
       "      <td>2020-07-23</td>\n",
       "      <td>13315000.00</td>\n",
       "      <td>0.00</td>\n",
       "      <td>20663839.00</td>\n",
       "      <td>Authorized</td>\n",
       "      <td>6164</td>\n",
       "      <td>8</td>\n",
       "      <td>RIV140820</td>\n",
       "      <td>Throughout The Coachella Valley</td>\n",
       "      <td>Signal Synchronization</td>\n",
       "      <td>2</td>\n",
       "      <td>SCAG</td>\n",
       "      <td>2020-01-01</td>\n",
       "    </tr>\n",
       "    <tr>\n",
       "      <th>14987</th>\n",
       "      <td>CML</td>\n",
       "      <td>6084(164)</td>\n",
       "      <td>Metropolitan Transportation Commission</td>\n",
       "      <td>2019-07-02</td>\n",
       "      <td>-235005.84</td>\n",
       "      <td>0.00</td>\n",
       "      <td>-235005.84</td>\n",
       "      <td>Authorized</td>\n",
       "      <td>6084</td>\n",
       "      <td>4</td>\n",
       "      <td>REG090065</td>\n",
       "      <td>San Francisco Bay Area</td>\n",
       "      <td>Climate Initiatives Program Public Education (tc)</td>\n",
       "      <td>7</td>\n",
       "      <td>MTC</td>\n",
       "      <td>2019-01-01</td>\n",
       "    </tr>\n",
       "    <tr>\n",
       "      <th>9308</th>\n",
       "      <td>CML</td>\n",
       "      <td>5942(255)</td>\n",
       "      <td>Fresno County</td>\n",
       "      <td>2015-04-28</td>\n",
       "      <td>0.00</td>\n",
       "      <td>0.00</td>\n",
       "      <td>0.00</td>\n",
       "      <td>Authorized</td>\n",
       "      <td>5942</td>\n",
       "      <td>6</td>\n",
       "      <td>FRE150025</td>\n",
       "      <td>Panoche Road From Sr 33 To San Benito Avenue</td>\n",
       "      <td>Shoulder Improvements</td>\n",
       "      <td>2</td>\n",
       "      <td>CFCG</td>\n",
       "      <td>2015-01-01</td>\n",
       "    </tr>\n",
       "    <tr>\n",
       "      <th>18040</th>\n",
       "      <td>CML</td>\n",
       "      <td>5961(004)</td>\n",
       "      <td>Kern County (District 9)</td>\n",
       "      <td>2020-12-18</td>\n",
       "      <td>0.00</td>\n",
       "      <td>0.00</td>\n",
       "      <td>0.00</td>\n",
       "      <td>Authorized</td>\n",
       "      <td>5961</td>\n",
       "      <td>9</td>\n",
       "      <td>NaN</td>\n",
       "      <td>In Kern County, Community Of Mojave, On A Parc...</td>\n",
       "      <td>Construct A Transit Center With Asphalt And Co...</td>\n",
       "      <td>3</td>\n",
       "      <td>KCOG</td>\n",
       "      <td>2020-01-01</td>\n",
       "    </tr>\n",
       "    <tr>\n",
       "      <th>19963</th>\n",
       "      <td>CML</td>\n",
       "      <td>5452(017)</td>\n",
       "      <td>Hesperia</td>\n",
       "      <td>2021-08-17</td>\n",
       "      <td>274000.00</td>\n",
       "      <td>0.00</td>\n",
       "      <td>585357.83</td>\n",
       "      <td>Authorized</td>\n",
       "      <td>5452</td>\n",
       "      <td>8</td>\n",
       "      <td>20084104</td>\n",
       "      <td>Southwest Corner Of The Intersection Of Joshua...</td>\n",
       "      <td>Park And Ride Lot Expansion (tc)</td>\n",
       "      <td>3</td>\n",
       "      <td>SCAG</td>\n",
       "      <td>2021-01-01</td>\n",
       "    </tr>\n",
       "    <tr>\n",
       "      <th>18059</th>\n",
       "      <td>CML</td>\n",
       "      <td>5169(050)</td>\n",
       "      <td>El Centro</td>\n",
       "      <td>2021-01-19</td>\n",
       "      <td>-37281.86</td>\n",
       "      <td>0.00</td>\n",
       "      <td>45406.91</td>\n",
       "      <td>Authorized</td>\n",
       "      <td>5169</td>\n",
       "      <td>11</td>\n",
       "      <td>IMP160409</td>\n",
       "      <td>Dogwood Road And Danenberg Avenue</td>\n",
       "      <td>Traffic Signal Synchronization</td>\n",
       "      <td>5</td>\n",
       "      <td>SCAG</td>\n",
       "      <td>2021-01-01</td>\n",
       "    </tr>\n",
       "  </tbody>\n",
       "</table>\n",
       "</div>"
      ],
      "text/plain": [
       "      prefix project_no                                       agency  \\\n",
       "1790     CML  5059(176)                                      Modesto   \n",
       "8086     CML  5196(030)                                    Daly City   \n",
       "6323     CML  5208(147)                                       Clovis   \n",
       "7178     CML  5227(051)                                       Delano   \n",
       "17272    CML  6164(021)  Coachella Valley Association Of Governments   \n",
       "14987    CML  6084(164)       Metropolitan Transportation Commission   \n",
       "9308     CML  5942(255)                                Fresno County   \n",
       "18040    CML  5961(004)                     Kern County (District 9)   \n",
       "19963    CML  5452(017)                                     Hesperia   \n",
       "18059    CML  5169(050)                                    El Centro   \n",
       "\n",
       "      prepared_date  fed_requested  ac_requested  total_requested  \\\n",
       "1790     2018-04-27           0.00          0.00             0.00   \n",
       "8086     2015-10-07           0.00          0.00        700224.96   \n",
       "6323     2016-06-22      207700.00          0.00        207700.00   \n",
       "7178     2016-03-08      746816.00          0.00        844652.00   \n",
       "17272    2020-07-23    13315000.00          0.00      20663839.00   \n",
       "14987    2019-07-02     -235005.84          0.00       -235005.84   \n",
       "9308     2015-04-28           0.00          0.00             0.00   \n",
       "18040    2020-12-18           0.00          0.00             0.00   \n",
       "19963    2021-08-17      274000.00          0.00        585357.83   \n",
       "18059    2021-01-19      -37281.86          0.00         45406.91   \n",
       "\n",
       "      status_comment locode  dist    ftip_no  \\\n",
       "1790      Authorized   5059    10       VA01   \n",
       "8086      Authorized   5196     4  SM-050046   \n",
       "6323      Authorized   5208     6  FRE130027   \n",
       "7178      Authorized   5227     6  KER140521   \n",
       "17272     Authorized   6164     8  RIV140820   \n",
       "14987     Authorized   6084     4  REG090065   \n",
       "9308      Authorized   5942     6  FRE150025   \n",
       "18040     Authorized   5961     9        NaN   \n",
       "19963     Authorized   5452     8   20084104   \n",
       "18059     Authorized   5169    11  IMP160409   \n",
       "\n",
       "                                        project_location  \\\n",
       "1790                   Eb Bangs Ave. To Sb Prescott Road   \n",
       "8086                                      Mission Street   \n",
       "6323      Shaw Ave, From Temperance Ave To Sunnyside Ave   \n",
       "7178   Ellington St. Between Cecil Ave. And 9th Ave. ...   \n",
       "17272                    Throughout The Coachella Valley   \n",
       "14987                             San Francisco Bay Area   \n",
       "9308        Panoche Road From Sr 33 To San Benito Avenue   \n",
       "18040  In Kern County, Community Of Mojave, On A Parc...   \n",
       "19963  Southwest Corner Of The Intersection Of Joshua...   \n",
       "18059                  Dogwood Road And Danenberg Avenue   \n",
       "\n",
       "                                            type_of_work  seq      mpo  \\\n",
       "1790                         Construct A Right Turn Lane    6  STANCOG   \n",
       "8086                             Pedestrian Improvements    7      MTC   \n",
       "6323                          Sidewalks & Ada Ramps (tc)    2     CFCG   \n",
       "7178         Construction Of Shoulders, Curb, And Gutter    1     KCOG   \n",
       "17272                             Signal Synchronization    2     SCAG   \n",
       "14987  Climate Initiatives Program Public Education (tc)    7      MTC   \n",
       "9308                               Shoulder Improvements    2     CFCG   \n",
       "18040  Construct A Transit Center With Asphalt And Co...    3     KCOG   \n",
       "19963                   Park And Ride Lot Expansion (tc)    3     SCAG   \n",
       "18059                     Traffic Signal Synchronization    5     SCAG   \n",
       "\n",
       "      prepared_y  \n",
       "1790  2018-01-01  \n",
       "8086  2015-01-01  \n",
       "6323  2016-01-01  \n",
       "7178  2016-01-01  \n",
       "17272 2020-01-01  \n",
       "14987 2019-01-01  \n",
       "9308  2015-01-01  \n",
       "18040 2020-01-01  \n",
       "19963 2021-01-01  \n",
       "18059 2021-01-01  "
      ]
     },
     "metadata": {},
     "output_type": "display_data"
    }
   ],
   "source": [
    "display(df[(df.prefix == 'CML')].sample(10))"
   ]
  },
  {
   "cell_type": "code",
   "execution_count": 34,
   "id": "e7359be4-8528-4f9d-a43d-88b95ca2c9fb",
   "metadata": {},
   "outputs": [],
   "source": [
    "def prefix_table_dla(prefix=df.prefix.sort_values().unique().tolist()):\n",
    "    display(df[(df.prefix == 'CML')].sample(1))\n"
   ]
  },
  {
   "cell_type": "code",
   "execution_count": 35,
   "id": "cb3655e3-a5aa-4caa-aaf4-278d1b4eea45",
   "metadata": {},
   "outputs": [
    {
     "data": {
      "text/html": [
       "<div>\n",
       "<style scoped>\n",
       "    .dataframe tbody tr th:only-of-type {\n",
       "        vertical-align: middle;\n",
       "    }\n",
       "\n",
       "    .dataframe tbody tr th {\n",
       "        vertical-align: top;\n",
       "    }\n",
       "\n",
       "    .dataframe thead th {\n",
       "        text-align: right;\n",
       "    }\n",
       "</style>\n",
       "<table border=\"1\" class=\"dataframe\">\n",
       "  <thead>\n",
       "    <tr style=\"text-align: right;\">\n",
       "      <th></th>\n",
       "      <th>prefix</th>\n",
       "      <th>project_no</th>\n",
       "      <th>agency</th>\n",
       "      <th>prepared_date</th>\n",
       "      <th>fed_requested</th>\n",
       "      <th>ac_requested</th>\n",
       "      <th>total_requested</th>\n",
       "      <th>status_comment</th>\n",
       "      <th>locode</th>\n",
       "      <th>dist</th>\n",
       "      <th>ftip_no</th>\n",
       "      <th>project_location</th>\n",
       "      <th>type_of_work</th>\n",
       "      <th>seq</th>\n",
       "      <th>mpo</th>\n",
       "      <th>prepared_y</th>\n",
       "    </tr>\n",
       "  </thead>\n",
       "  <tbody>\n",
       "    <tr>\n",
       "      <th>12015</th>\n",
       "      <td>CML</td>\n",
       "      <td>5168(026)</td>\n",
       "      <td>Calexico</td>\n",
       "      <td>2013-07-02</td>\n",
       "      <td>261000.00</td>\n",
       "      <td>0.00</td>\n",
       "      <td>294816.00</td>\n",
       "      <td>Authorized</td>\n",
       "      <td>NaN</td>\n",
       "      <td>11</td>\n",
       "      <td>IMP120617</td>\n",
       "      <td>Purchasing Vehicle</td>\n",
       "      <td>Purchase Of One Cng Street Sweeper</td>\n",
       "      <td>1</td>\n",
       "      <td>SJCOG</td>\n",
       "      <td>2013-01-01</td>\n",
       "    </tr>\n",
       "  </tbody>\n",
       "</table>\n",
       "</div>"
      ],
      "text/plain": [
       "      prefix project_no    agency prepared_date  fed_requested  ac_requested  \\\n",
       "12015    CML  5168(026)  Calexico    2013-07-02      261000.00          0.00   \n",
       "\n",
       "       total_requested status_comment locode  dist    ftip_no  \\\n",
       "12015        294816.00     Authorized    NaN    11  IMP120617   \n",
       "\n",
       "         project_location                        type_of_work  seq    mpo  \\\n",
       "12015  Purchasing Vehicle  Purchase Of One Cng Street Sweeper    1  SJCOG   \n",
       "\n",
       "      prepared_y  \n",
       "12015 2013-01-01  "
      ]
     },
     "metadata": {},
     "output_type": "display_data"
    }
   ],
   "source": [
    "prefix_table_dla(prefix = 'CML')"
   ]
  },
  {
   "cell_type": "markdown",
   "id": "3a5c61e6-c021-4ff7-997f-84d9558c5542",
   "metadata": {},
   "source": [
    "#### getting the graph "
   ]
  },
  {
   "cell_type": "code",
   "execution_count": 36,
   "id": "38401837-8e4f-44fc-a165-69a231b1a659",
   "metadata": {},
   "outputs": [],
   "source": [
    "prefixes = df[df.prefix== 'CML']"
   ]
  },
  {
   "cell_type": "code",
   "execution_count": 37,
   "id": "434fd347-771a-4324-a17d-8c295b18e564",
   "metadata": {},
   "outputs": [],
   "source": [
    "\n",
    "prefix_count = prefixes >> count(_.agency)\n",
    "    "
   ]
  },
  {
   "cell_type": "code",
   "execution_count": 38,
   "id": "da828686-e456-4a26-95e8-535c6a5ca124",
   "metadata": {},
   "outputs": [],
   "source": [
    "prefix_count_subset = prefixes.agency.value_counts().iloc[:20].index"
   ]
  },
  {
   "cell_type": "code",
   "execution_count": null,
   "id": "dc1f9853-3af8-4fdc-8707-388fccbd3025",
   "metadata": {},
   "outputs": [],
   "source": []
  },
  {
   "cell_type": "code",
   "execution_count": 39,
   "id": "b37f3493-5bf0-4c99-bd88-63c434e93b6d",
   "metadata": {},
   "outputs": [
    {
     "data": {
      "image/png": "[encoded data removed]",
      "text/plain": [
       "<Figure size 640x480 with 1 Axes>"
      ]
     },
     "metadata": {},
     "output_type": "display_data"
    },
    {
     "data": {
      "text/plain": [
       "<ggplot: (8737596193094)>"
      ]
     },
     "execution_count": 39,
     "metadata": {},
     "output_type": "execute_result"
    }
   ],
   "source": [
    "(prefix_count\n",
    "    >> filter(_.n > 40)\n",
    "    >> ggplot(aes(\"agency\", \"n\", fill=\"agency\")) \n",
    "        + geom_col() \n",
    "        + theme(axis_text_x = element_text(angle = 45 , hjust=1))\n",
    "        + labs(title='Program Codes', x='Agnecy', y='Number of Obligations', fill=\"Agency\")\n",
    ")"
   ]
  },
  {
   "cell_type": "code",
   "execution_count": 40,
   "id": "be3d0ead-4338-433b-a588-8a4905973290",
   "metadata": {},
   "outputs": [
    {
     "data": {
      "image/png": "[encoded data removed]",
      "text/plain": [
       "<Figure size 640x480 with 1 Axes>"
      ]
     },
     "metadata": {},
     "output_type": "display_data"
    },
    {
     "data": {
      "text/plain": [
       "<ggplot: (8737596103223)>"
      ]
     },
     "execution_count": 40,
     "metadata": {},
     "output_type": "execute_result"
    }
   ],
   "source": [
    "(prefix_count\n",
    "    >> filter(_.n > 30)\n",
    "    >> ggplot(aes(\"agency\", \"n\", fill=\"agency\")) \n",
    "        + geom_col() \n",
    "        + theme(axis_text_x = element_text(angle = 45 , hjust=1))\n",
    "        + labs(title='Program Codes', x='Agency', y='Number of Obligations', fill=\"Agency\")\n",
    ")"
   ]
  },
  {
   "cell_type": "code",
   "execution_count": null,
   "id": "10c05364-302d-4b49-9132-00e20fa51a28",
   "metadata": {},
   "outputs": [],
   "source": []
  },
  {
   "cell_type": "code",
   "execution_count": null,
   "id": "b2f2538f-757c-4011-a65b-4ac3ba23c483",
   "metadata": {},
   "outputs": [],
   "source": []
  },
  {
   "cell_type": "code",
   "execution_count": 41,
   "id": "6cc46aa6-9691-4abb-a6fd-c8ef6f2dc56c",
   "metadata": {},
   "outputs": [
    {
     "data": {
      "text/html": [
       "<div>\n",
       "<style scoped>\n",
       "    .dataframe tbody tr th:only-of-type {\n",
       "        vertical-align: middle;\n",
       "    }\n",
       "\n",
       "    .dataframe tbody tr th {\n",
       "        vertical-align: top;\n",
       "    }\n",
       "\n",
       "    .dataframe thead th {\n",
       "        text-align: right;\n",
       "    }\n",
       "</style>\n",
       "<table border=\"1\" class=\"dataframe\">\n",
       "  <thead>\n",
       "    <tr style=\"text-align: right;\">\n",
       "      <th></th>\n",
       "      <th>prefix</th>\n",
       "      <th>project_no</th>\n",
       "      <th>agency</th>\n",
       "      <th>prepared_date</th>\n",
       "      <th>fed_requested</th>\n",
       "      <th>ac_requested</th>\n",
       "      <th>total_requested</th>\n",
       "      <th>status_comment</th>\n",
       "      <th>locode</th>\n",
       "      <th>dist</th>\n",
       "      <th>ftip_no</th>\n",
       "      <th>project_location</th>\n",
       "      <th>type_of_work</th>\n",
       "      <th>seq</th>\n",
       "      <th>mpo</th>\n",
       "      <th>prepared_y</th>\n",
       "    </tr>\n",
       "  </thead>\n",
       "  <tbody>\n",
       "    <tr>\n",
       "      <th>11735</th>\n",
       "      <td>CML</td>\n",
       "      <td>5042(054)</td>\n",
       "      <td>Napa</td>\n",
       "      <td>2014-05-13</td>\n",
       "      <td>0.00</td>\n",
       "      <td>0.00</td>\n",
       "      <td>0.00</td>\n",
       "      <td>Authorized</td>\n",
       "      <td>5042</td>\n",
       "      <td>4</td>\n",
       "      <td>NAP110013</td>\n",
       "      <td>Napa City North/south Bike Location</td>\n",
       "      <td>Class Ii Bike Lanes</td>\n",
       "      <td>3</td>\n",
       "      <td>MTC</td>\n",
       "      <td>2014-01-01</td>\n",
       "    </tr>\n",
       "  </tbody>\n",
       "</table>\n",
       "</div>"
      ],
      "text/plain": [
       "      prefix project_no agency prepared_date  fed_requested  ac_requested  \\\n",
       "11735    CML  5042(054)   Napa    2014-05-13           0.00          0.00   \n",
       "\n",
       "       total_requested status_comment locode  dist    ftip_no  \\\n",
       "11735             0.00     Authorized   5042     4  NAP110013   \n",
       "\n",
       "                          project_location         type_of_work  seq  mpo  \\\n",
       "11735  Napa City North/south Bike Location  Class Ii Bike Lanes    3  MTC   \n",
       "\n",
       "      prepared_y  \n",
       "11735 2014-01-01  "
      ]
     },
     "metadata": {},
     "output_type": "display_data"
    },
    {
     "data": {
      "image/png": "[encoded data removed]",
      "text/plain": [
       "<Figure size 640x480 with 1 Axes>"
      ]
     },
     "metadata": {},
     "output_type": "display_data"
    },
    {
     "data": {
      "text/plain": [
       "<ggplot: (8737596008578)>"
      ]
     },
     "execution_count": 41,
     "metadata": {},
     "output_type": "execute_result"
    }
   ],
   "source": [
    "    \n",
    "display(df[(df.prefix == 'CML')].sample(1))\n",
    "    \n",
    "    # graphs \n",
    "prefixes = df[df.prefix== 'CML']\n",
    "    #prefixes = df[df.prefix==prefix]\n",
    "    \n",
    "prefix_count = prefixes >> count(_.agency)\n",
    "    \n",
    "ax1 = (prefix_count\n",
    "        >> filter(_.n > 30)\n",
    "        >> ggplot(aes(\"agency\", \"n\", fill=\"agency\")) \n",
    "            + geom_col() \n",
    "            + theme(axis_text_x = element_text(angle = 45 , hjust=1))\n",
    "            + labs(title='Program Codes', x='Agency', y='Number of Obligations', fill=\"Agency\")\n",
    "        )    \n",
    "ax1"
   ]
  },
  {
   "cell_type": "markdown",
   "id": "8ad3a9e4-8170-4e28-a8f9-2b80f36db366",
   "metadata": {},
   "source": [
    "### Prefix Function"
   ]
  },
  {
   "cell_type": "markdown",
   "id": "98f72c96-1bca-484b-bada-9457dd5e1212",
   "metadata": {},
   "source": [
    "* Still getting an error on the function for programs that do not have more than 20 entries. If we do not limit the number of entries, the chart becomes unreadable"
   ]
  },
  {
   "cell_type": "code",
   "execution_count": 42,
   "id": "da230597-e588-4787-b2cd-823cf6aeb160",
   "metadata": {},
   "outputs": [],
   "source": [
    "df2 = df.loc[df.prefix.isin(['ATP','CML','STP','HSIP','BRLO','ER','BRLS'])]"
   ]
  },
  {
   "cell_type": "code",
   "execution_count": 43,
   "id": "f1620c6a-24ac-4e36-84d7-86871ed19251",
   "metadata": {},
   "outputs": [
    {
     "data": {
      "application/vnd.jupyter.widget-view+json": {
       "model_id": "fc33b7fbbe8f47a5b1b37c085aa284cf",
       "version_major": 2,
       "version_minor": 0
      },
      "text/plain": [
       "interactive(children=(Dropdown(description='prefix', options=('ATP', 'BRLO', 'BRLS', 'CML', 'ER', 'HSIP', 'STP…"
      ]
     },
     "metadata": {},
     "output_type": "display_data"
    }
   ],
   "source": [
    "@interact\n",
    "def prefix_agencies(prefix=df2.prefix.sort_values().unique().tolist()):\n",
    "    # for the table- using one as some agencies only have one entry\n",
    "    display(df[(df.prefix == prefix)].sample(1))\n",
    "    \n",
    "    # graphs \n",
    "    prefixes = df[df.prefix== prefix]\n",
    "    #prefixes = df[df.prefix==prefix]\n",
    "    \n",
    "    prefix_count = prefixes >> count(_.agency) >> filter(_.n > 20)\n",
    "    \n",
    "    ax1 = (prefix_count\n",
    "            >> ggplot(aes(\"agency\", \"n\", fill=\"agency\")) \n",
    "                + geom_col() \n",
    "                + theme(axis_text_x = element_text(angle = 45 , hjust=1))\n",
    "                + labs(title='Agencies using Prefix', x='Agency', y='Number of Obligations', fill=\"Agency\")\n",
    "            )    \n",
    "    return ax1\n",
    "              "
   ]
  },
  {
   "cell_type": "markdown",
   "id": "26436ad9-5947-4373-b3ee-59b66c94e09e",
   "metadata": {},
   "source": [
    "* Works with prefixes over many agencies. does not work with prefixes that do not have more than 30 agencies"
   ]
  },
  {
   "cell_type": "code",
   "execution_count": 44,
   "id": "9a5da646-605e-43d2-a2a1-deedef1e8133",
   "metadata": {
    "tags": []
   },
   "outputs": [
    {
     "data": {
      "application/vnd.jupyter.widget-view+json": {
       "model_id": "d0dd3a13ba604fceb13a8eb335979b5a",
       "version_major": 2,
       "version_minor": 0
      },
      "text/plain": [
       "interactive(children=(Dropdown(description='prefix', options=('ATP', 'BRLO', 'BRLS', 'CML', 'ER', 'HSIP', 'STP…"
      ]
     },
     "metadata": {},
     "output_type": "display_data"
    },
    {
     "data": {
      "text/plain": [
       "<function __main__.prefix_agencies(prefix=['ATP', 'BRLO', 'BRLS', 'CML', 'ER', 'HSIP', 'STP'])>"
      ]
     },
     "execution_count": 44,
     "metadata": {},
     "output_type": "execute_result"
    }
   ],
   "source": [
    "interact(prefix_agencies)"
   ]
  },
  {
   "cell_type": "markdown",
   "id": "4e457666-e20d-4966-bde7-5917013454a1",
   "metadata": {},
   "source": [
    "* The following function works for all agencies, although it becomes unreadable for the most used prefixes (in the function above)."
   ]
  },
  {
   "cell_type": "code",
   "execution_count": 45,
   "id": "7560126f-48d7-4afa-85be-f4aa5bd54767",
   "metadata": {},
   "outputs": [
    {
     "data": {
      "application/vnd.jupyter.widget-view+json": {
       "model_id": "5ec84d3341b04ac5ad3425c11a1cc3c9",
       "version_major": 2,
       "version_minor": 0
      },
      "text/plain": [
       "interactive(children=(Dropdown(description='prefix', options=('6140000', 'ACNHPI', 'ACST-ER', 'ACSTP', 'ASCTP'…"
      ]
     },
     "metadata": {},
     "output_type": "display_data"
    }
   ],
   "source": [
    "#function for all agencies\n",
    "@interact\n",
    "def prefix_all_agencies(prefix=df.prefix.sort_values().unique().tolist()):\n",
    "    # for the table- using one as some agencies only have one entry\n",
    "    display(df[(df.prefix == prefix)].sample(1))\n",
    "    \n",
    "    # graphs \n",
    "    prefixes = df[df.prefix== prefix]\n",
    "    #prefixes = df[df.prefix==prefix]\n",
    "    \n",
    "    prefix_count = prefixes >> count(_.agency) \n",
    "    \n",
    "    ax1 = (prefix_count\n",
    "            >> ggplot(aes(\"agency\", \"n\", fill=\"agency\")) \n",
    "                + geom_col() \n",
    "                + theme(axis_text_x = element_text(angle = 45 , hjust=1))\n",
    "                + labs(title='Agencies using Prefix', x='Agency', y='Number of Obligations', fill=\"Agency\")\n",
    "            )    \n",
    "    return ax1\n",
    "              "
   ]
  },
  {
   "cell_type": "markdown",
   "id": "96a1557f-fa9f-4395-9188-5b698cf386c4",
   "metadata": {
    "tags": []
   },
   "source": [
    "#### Fixing function \n",
    "trying to get the top 10 prefix values for each agency if they have more than 30 prefixes\n",
    "\n",
    "------------------ OR -----------------------\n",
    "\n",
    "get a list of just the agencies that have more than 10"
   ]
  },
  {
   "cell_type": "code",
   "execution_count": 46,
   "id": "24e6c9bd-4c1c-47fe-9bfb-453c71377725",
   "metadata": {},
   "outputs": [],
   "source": [
    "agency_prefix_count = df['agency'].groupby(df['prefix']).value_counts()"
   ]
  },
  {
   "cell_type": "code",
   "execution_count": 47,
   "id": "d0d8a249-cc84-4814-923f-d0f9f6831590",
   "metadata": {},
   "outputs": [
    {
     "data": {
      "text/plain": [
       "prefix   agency                \n",
       "6140000  Kern County                2\n",
       "ACNHPI   Ora Co Trans Au            1\n",
       "         Sunline Transit Agency     1\n",
       "ACST-ER  Santa Cruz County         74\n",
       "         Humboldt County           65\n",
       "Name: agency, dtype: int64"
      ]
     },
     "execution_count": 47,
     "metadata": {},
     "output_type": "execute_result"
    }
   ],
   "source": [
    "agency_prefix_count.head()\n"
   ]
  },
  {
   "cell_type": "code",
   "execution_count": 48,
   "id": "a7906df3-d238-40d8-b1a6-a4df7fc47492",
   "metadata": {},
   "outputs": [
    {
     "data": {
      "text/html": [
       "<div>\n",
       "<style scoped>\n",
       "    .dataframe tbody tr th:only-of-type {\n",
       "        vertical-align: middle;\n",
       "    }\n",
       "\n",
       "    .dataframe tbody tr th {\n",
       "        vertical-align: top;\n",
       "    }\n",
       "\n",
       "    .dataframe thead th {\n",
       "        text-align: right;\n",
       "    }\n",
       "</style>\n",
       "<table border=\"1\" class=\"dataframe\">\n",
       "  <thead>\n",
       "    <tr style=\"text-align: right;\">\n",
       "      <th></th>\n",
       "      <th>prefix</th>\n",
       "      <th>agency</th>\n",
       "      <th>n</th>\n",
       "    </tr>\n",
       "  </thead>\n",
       "  <tbody>\n",
       "    <tr>\n",
       "      <th>0</th>\n",
       "      <td>6140000</td>\n",
       "      <td>Kern County</td>\n",
       "      <td>2</td>\n",
       "    </tr>\n",
       "    <tr>\n",
       "      <th>1</th>\n",
       "      <td>ACNHPI</td>\n",
       "      <td>Ora Co Trans Au</td>\n",
       "      <td>1</td>\n",
       "    </tr>\n",
       "    <tr>\n",
       "      <th>2</th>\n",
       "      <td>ACNHPI</td>\n",
       "      <td>Sunline Transit Agency</td>\n",
       "      <td>1</td>\n",
       "    </tr>\n",
       "    <tr>\n",
       "      <th>3</th>\n",
       "      <td>ACST-ER</td>\n",
       "      <td>Alameda County</td>\n",
       "      <td>2</td>\n",
       "    </tr>\n",
       "    <tr>\n",
       "      <th>4</th>\n",
       "      <td>ACST-ER</td>\n",
       "      <td>Benicia</td>\n",
       "      <td>3</td>\n",
       "    </tr>\n",
       "    <tr>\n",
       "      <th>...</th>\n",
       "      <td>...</td>\n",
       "      <td>...</td>\n",
       "      <td>...</td>\n",
       "    </tr>\n",
       "    <tr>\n",
       "      <th>3189</th>\n",
       "      <td>VPPP</td>\n",
       "      <td>Santa Clara County</td>\n",
       "      <td>1</td>\n",
       "    </tr>\n",
       "    <tr>\n",
       "      <th>3190</th>\n",
       "      <td>VPPP</td>\n",
       "      <td>Santa Clara Valley Transportation Authority</td>\n",
       "      <td>2</td>\n",
       "    </tr>\n",
       "    <tr>\n",
       "      <th>3191</th>\n",
       "      <td>VPPP</td>\n",
       "      <td>Southern California Association Of Governments</td>\n",
       "      <td>3</td>\n",
       "    </tr>\n",
       "    <tr>\n",
       "      <th>3192</th>\n",
       "      <td>VPPTCS</td>\n",
       "      <td>City &amp; County Of San Francisco, Mta/Parking &amp; ...</td>\n",
       "      <td>1</td>\n",
       "    </tr>\n",
       "    <tr>\n",
       "      <th>3193</th>\n",
       "      <td>WZDXL20</td>\n",
       "      <td>Metropolitan Transportation Commission</td>\n",
       "      <td>1</td>\n",
       "    </tr>\n",
       "  </tbody>\n",
       "</table>\n",
       "<p>3194 rows × 3 columns</p>\n",
       "</div>"
      ],
      "text/plain": [
       "       prefix                                             agency  n\n",
       "0     6140000                                        Kern County  2\n",
       "1      ACNHPI                                    Ora Co Trans Au  1\n",
       "2      ACNHPI                             Sunline Transit Agency  1\n",
       "3     ACST-ER                                     Alameda County  2\n",
       "4     ACST-ER                                            Benicia  3\n",
       "...       ...                                                ... ..\n",
       "3189     VPPP                                 Santa Clara County  1\n",
       "3190     VPPP        Santa Clara Valley Transportation Authority  2\n",
       "3191     VPPP     Southern California Association Of Governments  3\n",
       "3192   VPPTCS  City & County Of San Francisco, Mta/Parking & ...  1\n",
       "3193  WZDXL20             Metropolitan Transportation Commission  1\n",
       "\n",
       "[3194 rows x 3 columns]"
      ]
     },
     "execution_count": 48,
     "metadata": {},
     "output_type": "execute_result"
    }
   ],
   "source": [
    "df >> group_by(_.prefix) >> count (_.agency) "
   ]
  },
  {
   "cell_type": "code",
   "execution_count": null,
   "id": "c24d2143-3f02-4da0-b9d5-9d2b76c41597",
   "metadata": {},
   "outputs": [],
   "source": []
  },
  {
   "cell_type": "code",
   "execution_count": 49,
   "id": "14143727-ae60-48f0-93ac-908554950feb",
   "metadata": {},
   "outputs": [
    {
     "data": {
      "text/plain": [
       "['HSIP',\n",
       " 'CML',\n",
       " 'STP',\n",
       " 'ER',\n",
       " 'BRLO',\n",
       " 'BRLS',\n",
       " 'ATP',\n",
       " 'BPMPL',\n",
       " 'RPSTP',\n",
       " 'SRTS',\n",
       " 'HPLUL',\n",
       " 'FTACML',\n",
       " 'ACSTP',\n",
       " 'HRRR',\n",
       " 'BHLS',\n",
       " 'CMLNI',\n",
       " 'ACST-ER',\n",
       " 'STPLZ',\n",
       " 'FTASTPL',\n",
       " 'STPLN',\n",
       " 'STPCML',\n",
       " 'BHLO',\n",
       " 'BRLSZD',\n",
       " 'HP21L',\n",
       " 'SRTSLNI',\n",
       " 'CMLN',\n",
       " 'STPLNI',\n",
       " 'ATPCML',\n",
       " 'BR',\n",
       " 'FERPL']"
      ]
     },
     "execution_count": 49,
     "metadata": {},
     "output_type": "execute_result"
    }
   ],
   "source": [
    "#https://stackoverflow.com/questions/48590268/pandas-get-the-most-frequent-values-of-a-column/48590361\n",
    "n = 30\n",
    "df['prefix'].value_counts()[:n].index.tolist()"
   ]
  },
  {
   "cell_type": "code",
   "execution_count": null,
   "id": "1711d84f-60e4-48b9-a3ec-04be2335e71f",
   "metadata": {
    "tags": []
   },
   "outputs": [],
   "source": []
  },
  {
   "cell_type": "markdown",
   "id": "697c2c3e-d3c9-40bf-bf45-ac52e7d43878",
   "metadata": {},
   "source": [
    "Adding the `[:n]` does not limit the number of entries. "
   ]
  },
  {
   "cell_type": "code",
   "execution_count": null,
   "id": "aeb7f45d-0b0c-46e3-a258-5a45454cb48f",
   "metadata": {},
   "outputs": [],
   "source": []
  },
  {
   "cell_type": "markdown",
   "id": "5a268706-d030-421e-9d4e-da822616c31b",
   "metadata": {},
   "source": [
    "##### attempt 3"
   ]
  },
  {
   "cell_type": "code",
   "execution_count": 50,
   "id": "0c7811ea-d2d4-493d-b035-02baa14474f2",
   "metadata": {},
   "outputs": [
    {
     "data": {
      "application/vnd.jupyter.widget-view+json": {
       "model_id": "cecc32310b2b42c79da8fd21f9052b27",
       "version_major": 2,
       "version_minor": 0
      },
      "text/plain": [
       "interactive(children=(Dropdown(description='prefix', options=(19, 21, 22, 23, 24, 25, 29, 31, 32, 38, 39, 40, …"
      ]
     },
     "metadata": {},
     "output_type": "display_data"
    }
   ],
   "source": [
    "@interact\n",
    "def prefix_agencies_3(prefix=df.prefix.value_counts()[:50].sort_values().unique().tolist()):\n",
    "    # for the table- using one as some agencies only have one entry\n",
    "    display(df[(df.prefix == prefix)].sample(1))\n",
    "    \n",
    "    # graphs \n",
    "    prefixes = df[df.prefix== prefix]\n",
    "    #prefixes = df[df.prefix==prefix]\n",
    "    \n",
    "    prefix_count = prefixes >> count(_.agency) >> filter(_.n > 20)\n",
    "    \n",
    "    ax1 = (prefix_count\n",
    "            >> ggplot(aes(\"agency\", \"n\", fill=\"agency\")) \n",
    "                + geom_col() \n",
    "                + theme(axis_text_x = element_text(angle = 45 , hjust=1))\n",
    "                + labs(title='Agencies using Prefix', x='Agency', y='Number of Obligations', fill=\"Agency\")\n",
    "            )    \n",
    "    return ax1\n",
    "              "
   ]
  },
  {
   "cell_type": "markdown",
   "id": "44a3525f-baeb-47a5-a452-a951adbcf5cf",
   "metadata": {},
   "source": [
    "##### attempt 4"
   ]
  },
  {
   "cell_type": "code",
   "execution_count": 59,
   "id": "c0b305b3-359d-4086-b60f-21950fad58cc",
   "metadata": {},
   "outputs": [],
   "source": [
    "prefixes = df[df.prefix== 'HSIP']"
   ]
  },
  {
   "cell_type": "code",
   "execution_count": 64,
   "id": "f50461b4-1fe9-40b2-80ba-1a6ef85976c7",
   "metadata": {},
   "outputs": [],
   "source": [
    "prefix_count = (prefixes >> count(_.agency) >> arrange(-_.n)).head(5)"
   ]
  },
  {
   "cell_type": "code",
   "execution_count": 65,
   "id": "6f888230-c0f2-4f48-989b-8da37b7a7c41",
   "metadata": {},
   "outputs": [
    {
     "data": {
      "text/html": [
       "<div>\n",
       "<style scoped>\n",
       "    .dataframe tbody tr th:only-of-type {\n",
       "        vertical-align: middle;\n",
       "    }\n",
       "\n",
       "    .dataframe tbody tr th {\n",
       "        vertical-align: top;\n",
       "    }\n",
       "\n",
       "    .dataframe thead th {\n",
       "        text-align: right;\n",
       "    }\n",
       "</style>\n",
       "<table border=\"1\" class=\"dataframe\">\n",
       "  <thead>\n",
       "    <tr style=\"text-align: right;\">\n",
       "      <th></th>\n",
       "      <th>agency</th>\n",
       "      <th>n</th>\n",
       "    </tr>\n",
       "  </thead>\n",
       "  <tbody>\n",
       "    <tr>\n",
       "      <th>251</th>\n",
       "      <td>Stockton</td>\n",
       "      <td>92</td>\n",
       "    </tr>\n",
       "    <tr>\n",
       "      <th>120</th>\n",
       "      <td>Los Angeles</td>\n",
       "      <td>77</td>\n",
       "    </tr>\n",
       "    <tr>\n",
       "      <th>121</th>\n",
       "      <td>Los Angeles County</td>\n",
       "      <td>77</td>\n",
       "    </tr>\n",
       "    <tr>\n",
       "      <th>74</th>\n",
       "      <td>Fresno</td>\n",
       "      <td>64</td>\n",
       "    </tr>\n",
       "    <tr>\n",
       "      <th>157</th>\n",
       "      <td>Orange</td>\n",
       "      <td>57</td>\n",
       "    </tr>\n",
       "  </tbody>\n",
       "</table>\n",
       "</div>"
      ],
      "text/plain": [
       "                 agency   n\n",
       "251            Stockton  92\n",
       "120         Los Angeles  77\n",
       "121  Los Angeles County  77\n",
       "74               Fresno  64\n",
       "157              Orange  57"
      ]
     },
     "execution_count": 65,
     "metadata": {},
     "output_type": "execute_result"
    }
   ],
   "source": [
    "prefix_count"
   ]
  },
  {
   "cell_type": "code",
   "execution_count": null,
   "id": "468b88d7-6b75-4173-839a-76beec40347a",
   "metadata": {},
   "outputs": [],
   "source": []
  },
  {
   "cell_type": "code",
   "execution_count": 70,
   "id": "c34faf52-42c8-45c8-8f05-5d0a40e16084",
   "metadata": {},
   "outputs": [
    {
     "data": {
      "application/vnd.jupyter.widget-view+json": {
       "model_id": "f5d36cf2eff145e8953a67a22a56d2c0",
       "version_major": 2,
       "version_minor": 0
      },
      "text/plain": [
       "interactive(children=(Dropdown(description='prefix', options=('6140000', 'ACNHPI', 'ACST-ER', 'ACSTP', 'ASCTP'…"
      ]
     },
     "metadata": {},
     "output_type": "display_data"
    }
   ],
   "source": [
    "@interact\n",
    "def prefix_all_agencies_4(prefix=df.prefix.sort_values().unique().tolist()):\n",
    "    # for the table- using one as some agencies only have one entry\n",
    "    display(df[(df.prefix == prefix)].sample(1))\n",
    "    \n",
    "    # graphs \n",
    "    prefixes = df[df.prefix== prefix]\n",
    "    #prefixes = df[df.prefix==prefix]\n",
    "    \n",
    "    prefix_count = (prefixes >> count(_.agency) >> arrange(-_.n)).head(5)\n",
    "    display(prefix_count)\n",
    "    \n",
    "    ax1 = (prefix_count\n",
    "            >> ggplot(aes(\"agency\", \"n\", fill=\"agency\")) \n",
    "                + geom_col() \n",
    "                + theme(axis_text_x = element_text(angle = 45 , hjust=1))\n",
    "                + labs(title='Top 5 Agencies using Prefix', x='Agency', y='Number of Obligations', fill=\"Agency\")\n",
    "            )    \n",
    "    return ax1\n",
    "              "
   ]
  },
  {
   "cell_type": "code",
   "execution_count": null,
   "id": "6dd43ba5-4e5a-48c3-a489-49fe952df502",
   "metadata": {},
   "outputs": [],
   "source": []
  }
 ],
 "metadata": {
  "kernelspec": {
   "display_name": "Python 3 (ipykernel)",
   "language": "python",
   "name": "python3"
  },
  "language_info": {
   "codemirror_mode": {
    "name": "ipython",
    "version": 3
   },
   "file_extension": ".py",
   "mimetype": "text/x-python",
   "name": "python",
   "nbconvert_exporter": "python",
   "pygments_lexer": "ipython3",
   "version": "3.9.7"
  }
 },
 "nbformat": 4,
 "nbformat_minor": 5
}
