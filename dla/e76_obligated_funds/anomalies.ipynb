{
 "cells": [
  {
   "cell_type": "markdown",
   "id": "444e0617-f961-4b35-a1d9-3112f34abaab",
   "metadata": {},
   "source": [
    "# Anomalies in Data"
   ]
  },
  {
   "cell_type": "code",
   "execution_count": null,
   "id": "7e6937ab-36f7-46e9-90b9-c35c3d4e72ea",
   "metadata": {},
   "outputs": [],
   "source": []
  },
  {
   "cell_type": "code",
   "execution_count": 1,
   "id": "bc3f1363-5486-4e07-ba54-ac1e40eed2fa",
   "metadata": {},
   "outputs": [],
   "source": [
    "import pandas as pd\n",
    "from siuba import *\n",
    "\n",
    "import numpy as np\n",
    "\n",
    "import ipywidgets as widgets\n",
    "from ipywidgets import *\n",
    "from IPython.display import Markdown\n",
    "from IPython.core.display import display"
   ]
  },
  {
   "cell_type": "code",
   "execution_count": 2,
   "id": "f609bffa-ce01-4bd8-9292-d9985f1f4462",
   "metadata": {},
   "outputs": [
    {
     "name": "stderr",
     "output_type": "stream",
     "text": [
      "/opt/conda/lib/python3.9/site-packages/google/auth/_default.py:73: UserWarning: Your application has authenticated using end user credentials from Google Cloud SDK without a quota project. You might receive a \"quota exceeded\" or \"API not enabled\" error. We recommend you rerun `gcloud auth application-default login` and make sure a quota project is added. Or you can use service accounts instead. For more information about service accounts, see https://cloud.google.com/docs/authentication/\n",
      "  warnings.warn(_CLOUD_SDK_CREDENTIALS_WARNING)\n"
     ]
    }
   ],
   "source": [
    "df = pd.read_csv('gs://calitp-analytics-data/data-analyses/dla/e-76Obligated/function_data.csv', low_memory=False).drop('Unnamed: 0', axis=1)"
   ]
  },
  {
   "cell_type": "markdown",
   "id": "fbafc7f4-9b96-4a10-9496-547d3c94cb44",
   "metadata": {},
   "source": [
    "## Looking into MPOs\n",
    "\n",
    "using this map to see where the agency is in realtion to nearest mpo https://gisdata-caltrans.opendata.arcgis.com/datasets/b3e0ef95520843ba8c1d3b9c0fa9a607_0/explore"
   ]
  },
  {
   "cell_type": "code",
   "execution_count": 3,
   "id": "cb6b5444-8335-4282-9637-d7e34f4c93a5",
   "metadata": {},
   "outputs": [
    {
     "name": "stdout",
     "output_type": "stream",
     "text": [
      "31\n"
     ]
    }
   ],
   "source": [
    "print(len(df>>count(_.mpo)>>arrange(-_.n)))"
   ]
  },
  {
   "cell_type": "markdown",
   "id": "c5e6e68e-085e-4636-b662-e389eaef37ae",
   "metadata": {},
   "source": [
    "* Accoring to the Caltrans GIS data, there are 18 mpos"
   ]
  },
  {
   "cell_type": "code",
   "execution_count": 4,
   "id": "7b603492-d437-49a4-8a50-404f03282cee",
   "metadata": {},
   "outputs": [
    {
     "data": {
      "text/html": [
       "<div>\n",
       "<style scoped>\n",
       "    .dataframe tbody tr th:only-of-type {\n",
       "        vertical-align: middle;\n",
       "    }\n",
       "\n",
       "    .dataframe tbody tr th {\n",
       "        vertical-align: top;\n",
       "    }\n",
       "\n",
       "    .dataframe thead th {\n",
       "        text-align: right;\n",
       "    }\n",
       "</style>\n",
       "<table border=\"1\" class=\"dataframe\">\n",
       "  <thead>\n",
       "    <tr style=\"text-align: right;\">\n",
       "      <th></th>\n",
       "      <th>mpo</th>\n",
       "      <th>n</th>\n",
       "    </tr>\n",
       "  </thead>\n",
       "  <tbody>\n",
       "    <tr>\n",
       "      <th>18</th>\n",
       "      <td>SCAG</td>\n",
       "      <td>4988</td>\n",
       "    </tr>\n",
       "    <tr>\n",
       "      <th>12</th>\n",
       "      <td>MTC</td>\n",
       "      <td>3236</td>\n",
       "    </tr>\n",
       "    <tr>\n",
       "      <th>13</th>\n",
       "      <td>NON-MPO</td>\n",
       "      <td>2592</td>\n",
       "    </tr>\n",
       "    <tr>\n",
       "      <th>14</th>\n",
       "      <td>SACOG</td>\n",
       "      <td>1865</td>\n",
       "    </tr>\n",
       "    <tr>\n",
       "      <th>2</th>\n",
       "      <td>CFCG</td>\n",
       "      <td>1404</td>\n",
       "    </tr>\n",
       "    <tr>\n",
       "      <th>8</th>\n",
       "      <td>KCOG</td>\n",
       "      <td>998</td>\n",
       "    </tr>\n",
       "    <tr>\n",
       "      <th>26</th>\n",
       "      <td>STANCOG</td>\n",
       "      <td>759</td>\n",
       "    </tr>\n",
       "    <tr>\n",
       "      <th>0</th>\n",
       "      <td>AMBAG</td>\n",
       "      <td>745</td>\n",
       "    </tr>\n",
       "    <tr>\n",
       "      <th>21</th>\n",
       "      <td>SJCG</td>\n",
       "      <td>515</td>\n",
       "    </tr>\n",
       "    <tr>\n",
       "      <th>29</th>\n",
       "      <td>TCAG</td>\n",
       "      <td>489</td>\n",
       "    </tr>\n",
       "    <tr>\n",
       "      <th>19</th>\n",
       "      <td>SDAG</td>\n",
       "      <td>487</td>\n",
       "    </tr>\n",
       "    <tr>\n",
       "      <th>17</th>\n",
       "      <td>SBCG</td>\n",
       "      <td>340</td>\n",
       "    </tr>\n",
       "    <tr>\n",
       "      <th>9</th>\n",
       "      <td>MCAG</td>\n",
       "      <td>279</td>\n",
       "    </tr>\n",
       "    <tr>\n",
       "      <th>1</th>\n",
       "      <td>BCAG</td>\n",
       "      <td>255</td>\n",
       "    </tr>\n",
       "    <tr>\n",
       "      <th>23</th>\n",
       "      <td>SLAC</td>\n",
       "      <td>240</td>\n",
       "    </tr>\n",
       "    <tr>\n",
       "      <th>28</th>\n",
       "      <td>STPA</td>\n",
       "      <td>207</td>\n",
       "    </tr>\n",
       "    <tr>\n",
       "      <th>10</th>\n",
       "      <td>MCTC</td>\n",
       "      <td>194</td>\n",
       "    </tr>\n",
       "    <tr>\n",
       "      <th>7</th>\n",
       "      <td>KCAG</td>\n",
       "      <td>141</td>\n",
       "    </tr>\n",
       "    <tr>\n",
       "      <th>16</th>\n",
       "      <td>SANDAG</td>\n",
       "      <td>137</td>\n",
       "    </tr>\n",
       "    <tr>\n",
       "      <th>22</th>\n",
       "      <td>SJCOG</td>\n",
       "      <td>134</td>\n",
       "    </tr>\n",
       "    <tr>\n",
       "      <th>30</th>\n",
       "      <td>TMPO</td>\n",
       "      <td>47</td>\n",
       "    </tr>\n",
       "    <tr>\n",
       "      <th>3</th>\n",
       "      <td>COFCG</td>\n",
       "      <td>26</td>\n",
       "    </tr>\n",
       "    <tr>\n",
       "      <th>4</th>\n",
       "      <td>ER NONE</td>\n",
       "      <td>16</td>\n",
       "    </tr>\n",
       "    <tr>\n",
       "      <th>25</th>\n",
       "      <td>STACOG</td>\n",
       "      <td>10</td>\n",
       "    </tr>\n",
       "    <tr>\n",
       "      <th>5</th>\n",
       "      <td>FCOG</td>\n",
       "      <td>3</td>\n",
       "    </tr>\n",
       "    <tr>\n",
       "      <th>27</th>\n",
       "      <td>STNCOG</td>\n",
       "      <td>3</td>\n",
       "    </tr>\n",
       "    <tr>\n",
       "      <th>24</th>\n",
       "      <td>SLOCOG</td>\n",
       "      <td>2</td>\n",
       "    </tr>\n",
       "    <tr>\n",
       "      <th>6</th>\n",
       "      <td>FSTIP</td>\n",
       "      <td>1</td>\n",
       "    </tr>\n",
       "    <tr>\n",
       "      <th>11</th>\n",
       "      <td>MNOLTC</td>\n",
       "      <td>1</td>\n",
       "    </tr>\n",
       "    <tr>\n",
       "      <th>15</th>\n",
       "      <td>SANDA</td>\n",
       "      <td>1</td>\n",
       "    </tr>\n",
       "    <tr>\n",
       "      <th>20</th>\n",
       "      <td>SHASTA</td>\n",
       "      <td>1</td>\n",
       "    </tr>\n",
       "  </tbody>\n",
       "</table>\n",
       "</div>"
      ],
      "text/plain": [
       "        mpo     n\n",
       "18     SCAG  4988\n",
       "12      MTC  3236\n",
       "13  NON-MPO  2592\n",
       "14    SACOG  1865\n",
       "2      CFCG  1404\n",
       "8      KCOG   998\n",
       "26  STANCOG   759\n",
       "0     AMBAG   745\n",
       "21     SJCG   515\n",
       "29     TCAG   489\n",
       "19     SDAG   487\n",
       "17     SBCG   340\n",
       "9      MCAG   279\n",
       "1      BCAG   255\n",
       "23     SLAC   240\n",
       "28     STPA   207\n",
       "10     MCTC   194\n",
       "7      KCAG   141\n",
       "16   SANDAG   137\n",
       "22    SJCOG   134\n",
       "30     TMPO    47\n",
       "3     COFCG    26\n",
       "4   ER NONE    16\n",
       "25   STACOG    10\n",
       "5      FCOG     3\n",
       "27   STNCOG     3\n",
       "24   SLOCOG     2\n",
       "6     FSTIP     1\n",
       "11   MNOLTC     1\n",
       "15    SANDA     1\n",
       "20   SHASTA     1"
      ]
     },
     "execution_count": 4,
     "metadata": {},
     "output_type": "execute_result"
    }
   ],
   "source": [
    "#number of obligations under MPO\n",
    "df>>count(_.mpo)>>arrange(-_.n)"
   ]
  },
  {
   "cell_type": "markdown",
   "id": "db0a8cbc-de28-462b-8f1d-73cb86a1f05f",
   "metadata": {},
   "source": [
    "### Which MPOs have the least amount of obligations? What Agencies do they include?"
   ]
  },
  {
   "cell_type": "code",
   "execution_count": null,
   "id": "d1398f3c-e63b-46ca-94ca-0164e878277b",
   "metadata": {},
   "outputs": [],
   "source": [
    "df >> count(_.mpo)>>arrange(-_.n)>> filter(_.n==1)"
   ]
  },
  {
   "cell_type": "markdown",
   "id": "92e0fb48-1217-4fd3-8317-88861b69fee7",
   "metadata": {},
   "source": [
    "#### MPO SANDA"
   ]
  },
  {
   "cell_type": "code",
   "execution_count": null,
   "id": "59a0fb6a-ddc4-4812-b45b-524178224ff5",
   "metadata": {},
   "outputs": [],
   "source": [
    "df>>filter(_.mpo =='SANDA')"
   ]
  },
  {
   "cell_type": "markdown",
   "id": "15c93746-03cd-4f2e-a3a7-b754bfb78e36",
   "metadata": {},
   "source": [
    "* maybe meant \"SANDAG\" but Big Bear Lake is in \"SCAG\" jurisdiction\n",
    "* looked to excel download file and this there is anothe Big Bear Lake and SANDAG instance"
   ]
  },
  {
   "cell_type": "code",
   "execution_count": null,
   "id": "aab9bba3-9741-4637-8aa4-45d2d36f1069",
   "metadata": {},
   "outputs": [],
   "source": [
    "df>>filter(_.agency.str.contains('Big Bear')) >> filter(_.mpo.str.contains(\"SANDA\"))"
   ]
  },
  {
   "cell_type": "markdown",
   "id": "9a3d0ab9-ac3c-4ac0-b23c-f687581e5515",
   "metadata": {},
   "source": [
    "google maps show the `project_location` intersections in the jurisdiction of Big Bear and not in SANDAG"
   ]
  },
  {
   "cell_type": "markdown",
   "id": "303bc772-426d-412e-93b8-f3e0463c69a3",
   "metadata": {},
   "source": [
    "#### MPO SHASTA"
   ]
  },
  {
   "cell_type": "code",
   "execution_count": null,
   "id": "1f47f726-c403-4a69-87ed-094850a3471f",
   "metadata": {},
   "outputs": [],
   "source": [
    "df >>filter(_.mpo=='SHASTA')"
   ]
  },
  {
   "cell_type": "code",
   "execution_count": null,
   "id": "29c28e49-1bf6-4ef3-a945-9a9d0b2c25a6",
   "metadata": {},
   "outputs": [],
   "source": [
    "df>> filter(_.agency.str.contains('Shasta')) >> count(_.mpo)"
   ]
  },
  {
   "cell_type": "code",
   "execution_count": null,
   "id": "729aaceb-6802-48df-a9d9-3835a5c2aca0",
   "metadata": {},
   "outputs": [],
   "source": [
    "df>>filter(_.agency.str.contains('Shasta')) >> filter(_.mpo==\"MTC\")"
   ]
  },
  {
   "cell_type": "markdown",
   "id": "1b5a774b-a9af-413f-b16f-0a1c8ccb7c5d",
   "metadata": {},
   "source": [
    "* in the project location column, the intersection is Tustin and Mayfair which is in Orange Couny, or SCAG. Agency is also Orange, yet the mpo is Shasta"
   ]
  },
  {
   "cell_type": "markdown",
   "id": "44e32fc1-9f58-4149-b71a-546ffcfc81aa",
   "metadata": {},
   "source": [
    "#### MPO MNOLTC and Agencies under"
   ]
  },
  {
   "cell_type": "code",
   "execution_count": null,
   "id": "9a70b307-c74b-4228-a6c9-b6c339ac517c",
   "metadata": {},
   "outputs": [],
   "source": [
    "df>> filter(_.mpo=='MNOLTC')"
   ]
  },
  {
   "cell_type": "code",
   "execution_count": null,
   "id": "8c41e760-c451-45d6-9194-4dc71c36311c",
   "metadata": {},
   "outputs": [],
   "source": [
    "#looking to see if what other MPOs Rialto is in, should be in SCAG\n",
    "df>> filter(_.agency=='Rialto') >> count(_.mpo)"
   ]
  },
  {
   "cell_type": "code",
   "execution_count": null,
   "id": "ca67e440-8c07-4802-b759-7d0f2c532055",
   "metadata": {},
   "outputs": [],
   "source": [
    "df>> filter(_.agency=='Rialto') >> filter(_.mpo=='KCOG')"
   ]
  },
  {
   "cell_type": "code",
   "execution_count": null,
   "id": "f6118399-4cb9-4d01-a7bd-7bb3b9268c11",
   "metadata": {},
   "outputs": [],
   "source": [
    "df>> filter(_.agency=='Rialto') >> filter(_.mpo=='SANDAG')"
   ]
  },
  {
   "cell_type": "markdown",
   "id": "189ec76e-f200-4d93-9b7c-bcca391c260e",
   "metadata": {
    "tags": []
   },
   "source": [
    "#### FSTIP"
   ]
  },
  {
   "cell_type": "code",
   "execution_count": null,
   "id": "db728664-1b7c-412d-a817-aef24ec86e92",
   "metadata": {},
   "outputs": [],
   "source": [
    "df>>filter(_.mpo=='FSTIP')"
   ]
  },
  {
   "cell_type": "markdown",
   "id": "689959fb-4ba7-40fb-b2f7-803ea1a40803",
   "metadata": {},
   "source": [
    "* FSTIP is the Federal Statewide Transportation Improvement Program. "
   ]
  },
  {
   "cell_type": "code",
   "execution_count": null,
   "id": "2a6bbf5f-f6e8-4915-a4eb-1002e79b06d9",
   "metadata": {},
   "outputs": [],
   "source": []
  },
  {
   "cell_type": "markdown",
   "id": "efcdfc92-3942-4c65-a177-78c7693ebef0",
   "metadata": {},
   "source": [
    "### Number of Unique Agencies in Each MPO"
   ]
  },
  {
   "cell_type": "code",
   "execution_count": null,
   "id": "af2806e1-bc85-4cc4-bc0e-f11d0c8a443c",
   "metadata": {},
   "outputs": [],
   "source": [
    "\n",
    "df >> group_by(_.mpo) >> summarize(n=_.agency.nunique()) >> arrange(-_.n) "
   ]
  },
  {
   "cell_type": "code",
   "execution_count": null,
   "id": "6cf51aa3-cbab-40a0-9eb9-862427dc3de9",
   "metadata": {},
   "outputs": [],
   "source": [
    "df >> filter(_.mpo==\"SCAG\") >> count(_.agency) >> arrange(-_.n)"
   ]
  },
  {
   "cell_type": "markdown",
   "id": "08810d21-bd62-4696-8ae1-38ca62ecb015",
   "metadata": {},
   "source": [
    "## Function for Agencies in each MPO\n",
    "\n",
    "creating a function to look into each MPO. What agencies are listed under the MPO name? Are the projects located in that jurisdiction? "
   ]
  },
  {
   "cell_type": "code",
   "execution_count": null,
   "id": "7d21cf58-63fc-4229-b8f4-9083291360cd",
   "metadata": {},
   "outputs": [],
   "source": [
    "@interact\n",
    "def find_agencies(place=df.mpo.sort_values().unique().tolist()):\n",
    "    mpos = df[df.mpo==place]\n",
    "    display(Markdown(f\"**Agencies in {place}**\"))\n",
    "    display(mpos >> count(_.agency) >> arrange(-_.n))\n",
    "    pd.set_option('display.max_rows', 500)"
   ]
  },
  {
   "cell_type": "code",
   "execution_count": null,
   "id": "70b4428a-26da-40d9-840f-6232d60042b2",
   "metadata": {},
   "outputs": [],
   "source": [
    "#using Siuba filter, we can start to look at the agenies under different MPOs"
   ]
  },
  {
   "cell_type": "code",
   "execution_count": null,
   "id": "c882b105-6f69-4626-8ad2-a7310270a369",
   "metadata": {},
   "outputs": [],
   "source": [
    "df>>filter(_.agency=='Marin County')>> filter(_.mpo=='SCAG')"
   ]
  },
  {
   "cell_type": "markdown",
   "id": "7fef7ba5-5fce-4251-8856-13862ca8e473",
   "metadata": {},
   "source": [
    "* projet located in Lucas Valley, which is not in SCAG"
   ]
  },
  {
   "cell_type": "code",
   "execution_count": null,
   "id": "79eec70c-d1c7-4554-807b-393aaf5e8373",
   "metadata": {},
   "outputs": [],
   "source": [
    "df>>filter(_.agency=='Sonora')>> count(_.mpo)"
   ]
  },
  {
   "cell_type": "code",
   "execution_count": null,
   "id": "d0d3d3a3-092a-41bb-a32d-d78fc7ab080d",
   "metadata": {},
   "outputs": [],
   "source": [
    "df>>filter(_.agency=='Sonora')>> filter(_.mpo=='SCAG')"
   ]
  },
  {
   "cell_type": "code",
   "execution_count": null,
   "id": "2c797396-d191-4057-b975-8ae1a9c7bc7b",
   "metadata": {},
   "outputs": [],
   "source": [
    "df>>filter(_.agency=='Shasta County')>> filter(_.mpo=='MTC')"
   ]
  },
  {
   "cell_type": "code",
   "execution_count": null,
   "id": "6618b005-2526-4042-9209-f54aa9285616",
   "metadata": {},
   "outputs": [],
   "source": [
    "df>>filter(_.agency=='Marina')>> filter(_.mpo=='AMBAG')"
   ]
  },
  {
   "cell_type": "code",
   "execution_count": null,
   "id": "1d34d343-69bf-4b45-bcb8-4df006675348",
   "metadata": {},
   "outputs": [],
   "source": [
    "df>>filter(_.agency=='Kern County (District 9)')>> filter(_.mpo=='BCAG')"
   ]
  },
  {
   "cell_type": "code",
   "execution_count": null,
   "id": "9f9820bf-03d2-4228-a57d-f48788ff595b",
   "metadata": {},
   "outputs": [],
   "source": [
    "df>>filter(_.agency=='Santa Barbara County')>> filter(_.mpo=='BCAG')"
   ]
  },
  {
   "cell_type": "code",
   "execution_count": null,
   "id": "60647f33-c5f0-4b3b-b7dc-f12b149392e5",
   "metadata": {},
   "outputs": [],
   "source": [
    "df>>filter(_.agency=='Bishop')>> filter(_.mpo=='KCOG')"
   ]
  },
  {
   "cell_type": "code",
   "execution_count": null,
   "id": "7f3755be-1eb2-4c67-91b8-e0746bd08bce",
   "metadata": {},
   "outputs": [],
   "source": [
    "df>>filter(_.agency=='Los Angeles')>> filter(_.mpo=='MCAG')"
   ]
  },
  {
   "cell_type": "code",
   "execution_count": null,
   "id": "51797129-fc85-49ec-845b-c54692bb4efa",
   "metadata": {},
   "outputs": [],
   "source": [
    "df>>filter(_.agency=='Los Angeles')>> count(_.mpo)"
   ]
  },
  {
   "cell_type": "code",
   "execution_count": null,
   "id": "fde4aae3-65f9-4db5-96f8-2a3e4510a64e",
   "metadata": {},
   "outputs": [],
   "source": [
    "df>>filter(_.agency=='Indio')>> filter(_.mpo=='MCTC')"
   ]
  },
  {
   "cell_type": "code",
   "execution_count": null,
   "id": "37676438-b029-4d5d-baa7-427541b66fed",
   "metadata": {},
   "outputs": [],
   "source": [
    "df>>filter(_.agency=='Los Angeles')>> filter(_.mpo=='SJCOG')"
   ]
  },
  {
   "cell_type": "code",
   "execution_count": null,
   "id": "45571bd5-b85c-4da7-bcc6-508d8ce45fda",
   "metadata": {},
   "outputs": [],
   "source": []
  },
  {
   "cell_type": "code",
   "execution_count": null,
   "id": "2df12491-554f-4045-a3de-972b3d23c598",
   "metadata": {},
   "outputs": [],
   "source": []
  },
  {
   "cell_type": "code",
   "execution_count": null,
   "id": "89020ce5-66e2-4e6f-8a35-f1b690ada64e",
   "metadata": {},
   "outputs": [],
   "source": []
  },
  {
   "cell_type": "code",
   "execution_count": null,
   "id": "5541482c-27cc-4709-8cdb-9f9439fb8b11",
   "metadata": {},
   "outputs": [],
   "source": []
  },
  {
   "cell_type": "code",
   "execution_count": null,
   "id": "0f2f3fbe-cfbf-4b91-a6f6-d0130c455438",
   "metadata": {},
   "outputs": [],
   "source": []
  },
  {
   "cell_type": "markdown",
   "id": "b4be7d77-b37a-4b3f-8b9c-92ff6f9500bb",
   "metadata": {},
   "source": [
    "### MPOs with all correct agencies\n",
    "\n",
    "* AMBAG\n",
    "* KCAG\n",
    "* SBCG\n",
    "* TMPO"
   ]
  },
  {
   "cell_type": "markdown",
   "id": "766c5f46-22b4-4098-8400-b5b61503f9b2",
   "metadata": {},
   "source": [
    "### MPOs with some misplaced agencies\n",
    "\n",
    "* BCAG\n",
    "* MTC\n",
    "* SCAG\n",
    "* KGOC\n",
    "* MNOLTC\n",
    "* FCOG \n",
    "* KCOG\n",
    "* MCAG\n",
    "* SJCOG\n",
    "* STANCOG\n",
    "* MCTC\n",
    "* SACOG\n",
    "* SJCOG\n",
    "* STANCOG \n",
    "* TCAG\n"
   ]
  },
  {
   "cell_type": "markdown",
   "id": "a844db75-480c-4851-8025-dd1587fac225",
   "metadata": {},
   "source": [
    "### MPOs not defined / all incorrect  \n",
    "* CFCG - has Fresno Counties. Fresno is part of FCOG\n",
    "* COFCG - combination of multiple MPOs\n",
    "* FCOG - includes Ventura and Fresno\n",
    "* FSTIP - a Prefix rather than a MPO\n",
    "* MNOLTC - one entry\n",
    "* SANDA - one entry\n",
    "* SDAG - maybe SANDAG\n",
    "* SANDAG - mostly SCAG Agencies\n",
    "* SHASTA - one agency not in Shasta County\n",
    "* SJCG - most likely SJCOG\n",
    "* SLAC - maybe SLOCOG\n",
    "* STACOG - STANCOG\n",
    "* STNCOG - STANCOG\n",
    "* STPA - maybe SRTA\n"
   ]
  },
  {
   "cell_type": "code",
   "execution_count": null,
   "id": "3c74f287-6b67-4f23-be28-2ee6b48ec8ac",
   "metadata": {},
   "outputs": [],
   "source": []
  },
  {
   "cell_type": "markdown",
   "id": "a23b23a6-b4a1-448d-8e75-0c02ad47e9c8",
   "metadata": {},
   "source": [
    "## Other"
   ]
  },
  {
   "cell_type": "markdown",
   "id": "12683c94-109b-4f39-9b31-bcf24a961b81",
   "metadata": {},
   "source": [
    "### Agnecy Name 'YRTS'"
   ]
  },
  {
   "cell_type": "code",
   "execution_count": null,
   "id": "01ed77a5-8b30-4d44-8d2f-1575c5c975c2",
   "metadata": {},
   "outputs": [],
   "source": [
    "df>>"
   ]
  },
  {
   "cell_type": "code",
   "execution_count": null,
   "id": "ed24cf9c-45b5-419e-99f9-daddbccf5fff",
   "metadata": {},
   "outputs": [],
   "source": [
    "df>>filter(_.agency=='Yrts')"
   ]
  },
  {
   "cell_type": "markdown",
   "id": "db3d95b4-3ffd-427e-8aa8-99a9c34e0a87",
   "metadata": {},
   "source": [
    "* 'Yrts' is actually ['Yarts'](https://yarts.com/), or Yosemite Area Regional Transportation System "
   ]
  },
  {
   "cell_type": "markdown",
   "id": "e051018c-eca3-4c7e-9874-f06d79a39de3",
   "metadata": {},
   "source": [
    "## Non-MPO Agencies\n",
    "Looking at 'Non-MPO', 'ER NONE' and 'NaN' (or null)"
   ]
  },
  {
   "cell_type": "markdown",
   "id": "e5af99c8-4700-458c-b5f1-4454b1335fc4",
   "metadata": {},
   "source": [
    "#### Is Null"
   ]
  },
  {
   "cell_type": "code",
   "execution_count": null,
   "id": "87ea169d-9fea-4a16-89d0-a2c8a8b0d859",
   "metadata": {},
   "outputs": [],
   "source": [
    "df>>filter(_.mpo.isnull())"
   ]
  },
  {
   "cell_type": "markdown",
   "id": "6df2d012-4064-4587-8c56-e4abbcfc6da3",
   "metadata": {},
   "source": [
    "### is ER NONE"
   ]
  },
  {
   "cell_type": "code",
   "execution_count": null,
   "id": "22860194-345e-4715-976d-faea0c74b087",
   "metadata": {},
   "outputs": [],
   "source": [
    "df>>filter(_.mpo=='ER NONE')>>count(_.agency)"
   ]
  },
  {
   "cell_type": "code",
   "execution_count": null,
   "id": "772de20a-76e2-46da-925b-72fdec3c1bc0",
   "metadata": {},
   "outputs": [],
   "source": [
    "df>>filter(_.mpo=='ER NONE')>>filter(_.agency=='Ridgecrest')"
   ]
  },
  {
   "cell_type": "code",
   "execution_count": null,
   "id": "268af8bc-32d1-4e57-a9c1-dca3242f7581",
   "metadata": {},
   "outputs": [],
   "source": [
    "df>>filter(_.mpo=='ER NONE')>>count(_.dist)"
   ]
  },
  {
   "cell_type": "code",
   "execution_count": null,
   "id": "6048eeba-1959-4107-8d69-ec46096a2143",
   "metadata": {},
   "outputs": [],
   "source": [
    "df>>filter(_.mpo=='ER NONE')>>filter(_.dist==8)"
   ]
  },
  {
   "cell_type": "code",
   "execution_count": null,
   "id": "88d12c9b-1b77-4bf1-addf-93348a6001c4",
   "metadata": {},
   "outputs": [],
   "source": []
  },
  {
   "cell_type": "markdown",
   "id": "b3ea163d-4b1c-4122-ba08-0cadd3dfb9d0",
   "metadata": {},
   "source": [
    "#### Is Non-MPO"
   ]
  },
  {
   "cell_type": "code",
   "execution_count": null,
   "id": "795b4fdc-39c8-401c-b46b-43be7f7218fb",
   "metadata": {},
   "outputs": [],
   "source": [
    "df>>filter(_.mpo =='NON-MPO') >> count(_.agency)>>arrange(-_.n)"
   ]
  },
  {
   "cell_type": "code",
   "execution_count": null,
   "id": "6f19881e-6d52-4a1c-8c05-83707e81d867",
   "metadata": {},
   "outputs": [],
   "source": []
  },
  {
   "cell_type": "code",
   "execution_count": null,
   "id": "5bbe1b70-0a8e-4373-ae83-645ea9ab4d79",
   "metadata": {},
   "outputs": [],
   "source": []
  },
  {
   "cell_type": "markdown",
   "id": "eb22b29d-73c9-4c8e-86ee-6b033aa4d977",
   "metadata": {},
   "source": [
    "* "
   ]
  },
  {
   "cell_type": "code",
   "execution_count": null,
   "id": "6d250f9e-194d-4af2-9184-7f52c8201dfd",
   "metadata": {},
   "outputs": [],
   "source": []
  },
  {
   "cell_type": "code",
   "execution_count": null,
   "id": "f6709f0d-8bb9-4e6a-b6ed-cf0e75aae86f",
   "metadata": {},
   "outputs": [],
   "source": []
  },
  {
   "cell_type": "code",
   "execution_count": null,
   "id": "60db2642-7721-4149-bc72-7ae39f7f04b4",
   "metadata": {},
   "outputs": [],
   "source": []
  },
  {
   "cell_type": "code",
   "execution_count": null,
   "id": "e719cb6b-476c-4cee-8af3-a2d1030813c5",
   "metadata": {},
   "outputs": [],
   "source": []
  },
  {
   "cell_type": "code",
   "execution_count": null,
   "id": "5d85e600-096c-4387-ad77-7cfaafb7a2fd",
   "metadata": {},
   "outputs": [],
   "source": []
  }
 ],
 "metadata": {
  "kernelspec": {
   "display_name": "Python 3 (ipykernel)",
   "language": "python",
   "name": "python3"
  },
  "language_info": {
   "codemirror_mode": {
    "name": "ipython",
    "version": 3
   },
   "file_extension": ".py",
   "mimetype": "text/x-python",
   "name": "python",
   "nbconvert_exporter": "python",
   "pygments_lexer": "ipython3",
   "version": "3.9.7"
  },
  "widgets": {
   "application/vnd.jupyter.widget-state+json": {
    "state": {},
    "version_major": 2,
    "version_minor": 0
   }
  }
 },
 "nbformat": 4,
 "nbformat_minor": 5
}
