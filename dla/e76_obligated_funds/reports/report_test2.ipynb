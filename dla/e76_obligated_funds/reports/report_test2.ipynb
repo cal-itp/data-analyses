{
 "cells": [
  {
   "cell_type": "markdown",
   "id": "c7187b74-f258-4b0d-a03f-65ca4eea6cdc",
   "metadata": {},
   "source": [
    "# District {}"
   ]
  },
  {
   "cell_type": "code",
   "execution_count": 1,
   "id": "e983f1ab-ed21-4604-88a2-598cffea4ef1",
   "metadata": {},
   "outputs": [
    {
     "name": "stderr",
     "output_type": "stream",
     "text": [
      "E0420 21:35:04.184271668    4600 fork_posix.cc:70]           Fork support is only compatible with the epoll1 and poll polling strategies\n",
      "E0420 21:35:04.666932757    4600 fork_posix.cc:70]           Fork support is only compatible with the epoll1 and poll polling strategies\n"
     ]
    }
   ],
   "source": [
    "%%capture\n",
    "\n",
    "import numpy as np\n",
    "import pandas as pd\n",
    "from siuba import *\n",
    "\n",
    "import altair as alt\n",
    "import altair_saver\n",
    "from plotnine import *\n",
    "\n",
    "from IPython.display import Markdown, HTML, Image\n",
    "import ipywidgets as widgets\n",
    "from ipywidgets import interact, interactive\n",
    "\n",
    "from shared_utils import altair_utils\n",
    "from shared_utils import geography_utils\n",
    "from shared_utils import calitp_color_palette as cp\n",
    "from shared_utils import styleguide\n",
    "\n",
    "from calitp import to_snakecase\n",
    "import intake\n",
    "\n",
    "import _dla_utils\n",
    "\n",
    "\n"
   ]
  },
  {
   "cell_type": "code",
   "execution_count": 2,
   "id": "82cf8245-73d2-4ed3-93cf-7ee01661b024",
   "metadata": {
    "tags": [
     "Parameters"
    ]
   },
   "outputs": [],
   "source": [
    "#Parameter Cell\n",
    "\n",
    "district = 4"
   ]
  },
  {
   "cell_type": "code",
   "execution_count": 3,
   "id": "948b2b4f-ef9b-48ff-b109-e7b76361066c",
   "metadata": {},
   "outputs": [],
   "source": [
    "df= pd.read_parquet(\"dla_df.parquet\")\n"
   ]
  },
  {
   "cell_type": "code",
   "execution_count": 4,
   "id": "be910f27-7608-4522-8d8d-ef93611cb748",
   "metadata": {},
   "outputs": [],
   "source": [
    "df = (df>>filter(_.dist==district))\n",
    "    \n",
    "    \n",
    "#subsetting the data\n",
    "df_years = _dla_utils.count_all_years(df)\n",
    "df_top = _dla_utils.find_top(df)\n",
    "    "
   ]
  },
  {
   "cell_type": "code",
   "execution_count": 5,
   "id": "7f5ac0a1-a951-4072-8f85-d2c90290907f",
   "metadata": {},
   "outputs": [
    {
     "data": {
      "text/html": [
       "<h2>Quick Stats</h2>"
      ],
      "text/plain": [
       "<IPython.core.display.HTML object>"
      ]
     },
     "metadata": {},
     "output_type": "display_data"
    },
    {
     "data": {
      "text/html": [
       "There are <strong>151 Unique Agencies</strong>"
      ],
      "text/plain": [
       "<IPython.core.display.HTML object>"
      ]
     },
     "metadata": {},
     "output_type": "display_data"
    },
    {
     "data": {
      "text/html": [
       "Out of <strong>3433</strong> obligations, <strong>63 are transit-related</strong>."
      ],
      "text/plain": [
       "<IPython.core.display.HTML object>"
      ]
     },
     "metadata": {},
     "output_type": "display_data"
    },
    {
     "data": {
      "text/html": [
       "<strong>Metropolitan Transportation Commission</strong> has the <strong>highest transit</strong> obligations"
      ],
      "text/plain": [
       "<IPython.core.display.HTML object>"
      ]
     },
     "metadata": {},
     "output_type": "display_data"
    },
    {
     "data": {
      "text/html": [
       "There are <strong>8 agencies have over 93.00</strong> obligations (95th percentile) since 2011.0"
      ],
      "text/plain": [
       "<IPython.core.display.HTML object>"
      ]
     },
     "metadata": {},
     "output_type": "display_data"
    },
    {
     "data": {
      "text/html": [
       "There are <strong>9 agencies have less than 2.00</strong> obligations (5th percentile) since 2011.0"
      ],
      "text/plain": [
       "<IPython.core.display.HTML object>"
      ]
     },
     "metadata": {},
     "output_type": "display_data"
    },
    {
     "data": {
      "text/html": [
       "<h4><strong>Number of Unique Prefix Codes by Agency</strong></h4>"
      ],
      "text/plain": [
       "<IPython.core.display.HTML object>"
      ]
     },
     "metadata": {},
     "output_type": "display_data"
    },
    {
     "data": {
      "text/html": [
       "<div>\n",
       "<style scoped>\n",
       "    .dataframe tbody tr th:only-of-type {\n",
       "        vertical-align: middle;\n",
       "    }\n",
       "\n",
       "    .dataframe tbody tr th {\n",
       "        vertical-align: top;\n",
       "    }\n",
       "\n",
       "    .dataframe thead th {\n",
       "        text-align: right;\n",
       "    }\n",
       "</style>\n",
       "<table border=\"1\" class=\"dataframe\">\n",
       "  <thead>\n",
       "    <tr style=\"text-align: right;\">\n",
       "      <th></th>\n",
       "      <th>Agency</th>\n",
       "      <th>Number of Unqiue Prefix Codes</th>\n",
       "    </tr>\n",
       "  </thead>\n",
       "  <tbody>\n",
       "    <tr>\n",
       "      <th>28</th>\n",
       "      <td>Contra Costa County</td>\n",
       "      <td>18</td>\n",
       "    </tr>\n",
       "    <tr>\n",
       "      <th>107</th>\n",
       "      <td>San Francisco County</td>\n",
       "      <td>17</td>\n",
       "    </tr>\n",
       "    <tr>\n",
       "      <th>110</th>\n",
       "      <td>San Jose</td>\n",
       "      <td>17</td>\n",
       "    </tr>\n",
       "    <tr>\n",
       "      <th>119</th>\n",
       "      <td>Santa Clara County</td>\n",
       "      <td>17</td>\n",
       "    </tr>\n",
       "    <tr>\n",
       "      <th>2</th>\n",
       "      <td>Alameda County</td>\n",
       "      <td>16</td>\n",
       "    </tr>\n",
       "  </tbody>\n",
       "</table>\n",
       "</div>"
      ],
      "text/plain": [
       "                   Agency  Number of Unqiue Prefix Codes\n",
       "28    Contra Costa County                             18\n",
       "107  San Francisco County                             17\n",
       "110              San Jose                             17\n",
       "119    Santa Clara County                             17\n",
       "2          Alameda County                             16"
      ]
     },
     "metadata": {},
     "output_type": "display_data"
    },
    {
     "data": {
      "text/html": [
       "<h4><strong>Number of Unique Agencies by Prefix Codes</strong></h4>"
      ],
      "text/plain": [
       "<IPython.core.display.HTML object>"
      ]
     },
     "metadata": {},
     "output_type": "display_data"
    },
    {
     "data": {
      "text/html": [
       "<div>\n",
       "<style scoped>\n",
       "    .dataframe tbody tr th:only-of-type {\n",
       "        vertical-align: middle;\n",
       "    }\n",
       "\n",
       "    .dataframe tbody tr th {\n",
       "        vertical-align: top;\n",
       "    }\n",
       "\n",
       "    .dataframe thead th {\n",
       "        text-align: right;\n",
       "    }\n",
       "</style>\n",
       "<table border=\"1\" class=\"dataframe\">\n",
       "  <thead>\n",
       "    <tr style=\"text-align: right;\">\n",
       "      <th></th>\n",
       "      <th>Prefix</th>\n",
       "      <th>Number of Unqiue Agencies</th>\n",
       "    </tr>\n",
       "  </thead>\n",
       "  <tbody>\n",
       "    <tr>\n",
       "      <th>91</th>\n",
       "      <td>STPL</td>\n",
       "      <td>112</td>\n",
       "    </tr>\n",
       "    <tr>\n",
       "      <th>19</th>\n",
       "      <td>CML</td>\n",
       "      <td>90</td>\n",
       "    </tr>\n",
       "    <tr>\n",
       "      <th>62</th>\n",
       "      <td>HSIPL</td>\n",
       "      <td>52</td>\n",
       "    </tr>\n",
       "    <tr>\n",
       "      <th>16</th>\n",
       "      <td>BRLS</td>\n",
       "      <td>32</td>\n",
       "    </tr>\n",
       "    <tr>\n",
       "      <th>75</th>\n",
       "      <td>RPSTPL</td>\n",
       "      <td>30</td>\n",
       "    </tr>\n",
       "  </tbody>\n",
       "</table>\n",
       "</div>"
      ],
      "text/plain": [
       "    Prefix  Number of Unqiue Agencies\n",
       "91    STPL                        112\n",
       "19     CML                         90\n",
       "62   HSIPL                         52\n",
       "16    BRLS                         32\n",
       "75  RPSTPL                         30"
      ]
     },
     "metadata": {},
     "output_type": "display_data"
    },
    {
     "data": {
      "text/html": [
       "<h4><strong>Top 5 Types of Work</strong></h4>"
      ],
      "text/plain": [
       "<IPython.core.display.HTML object>"
      ]
     },
     "metadata": {},
     "output_type": "display_data"
    },
    {
     "data": {
      "text/html": [
       "<style type=\"text/css\">\n",
       "</style>\n",
       "<table id=\"T_e299a\">\n",
       "  <thead>\n",
       "    <tr>\n",
       "      <th class=\"blank level0\" >&nbsp;</th>\n",
       "      <th id=\"T_e299a_level0_col0\" class=\"col_heading level0 col0\" >Type of Work</th>\n",
       "    </tr>\n",
       "  </thead>\n",
       "  <tbody>\n",
       "    <tr>\n",
       "      <th id=\"T_e299a_level0_row0\" class=\"row_heading level0 row0\" >378</th>\n",
       "      <td id=\"T_e299a_row0_col0\" class=\"data row0 col0\" >FTA Transfer</td>\n",
       "    </tr>\n",
       "    <tr>\n",
       "      <th id=\"T_e299a_level0_row1\" class=\"row_heading level0 row1\" >109</th>\n",
       "      <td id=\"T_e299a_row1_col0\" class=\"data row1 col0\" >Bridge Replacement</td>\n",
       "    </tr>\n",
       "    <tr>\n",
       "      <th id=\"T_e299a_level0_row2\" class=\"row_heading level0 row2\" >990</th>\n",
       "      <td id=\"T_e299a_row2_col0\" class=\"data row2 col0\" >Road Rehabilitation</td>\n",
       "    </tr>\n",
       "    <tr>\n",
       "      <th id=\"T_e299a_level0_row3\" class=\"row_heading level0 row3\" >695</th>\n",
       "      <td id=\"T_e299a_row3_col0\" class=\"data row3 col0\" >Pavement Rehabilitation</td>\n",
       "    </tr>\n",
       "    <tr>\n",
       "      <th id=\"T_e299a_level0_row4\" class=\"row_heading level0 row4\" >1062</th>\n",
       "      <td id=\"T_e299a_row4_col0\" class=\"data row4 col0\" >Seismic Retrofit</td>\n",
       "    </tr>\n",
       "  </tbody>\n",
       "</table>\n"
      ],
      "text/plain": [
       "<pandas.io.formats.style.Styler at 0x7ff9f02fed60>"
      ]
     },
     "metadata": {},
     "output_type": "display_data"
    }
   ],
   "source": [
    "display(HTML(\"<h2>Quick Stats</h2>\"))\n",
    "\n",
    "display(\n",
    "    HTML(\n",
    "        f\"There are <strong>{(df.primary_agency_name.nunique())} Unique Agencies</strong>\"\n",
    "    )\n",
    ")\n",
    "\n",
    "transit = df >> filter(_.transit == 1)\n",
    "\n",
    "display(\n",
    "    HTML(\n",
    "        f\"Out of <strong>{len(df)}</strong> obligations, <strong>{len(transit)} are transit-related</strong>.\"\n",
    "    )\n",
    ")\n",
    "display(\n",
    "    HTML(\n",
    "        f\"<strong>{(transit>>count(_.primary_agency_name)>>arrange(-_.n)).iloc[0, 0]}</strong> has the <strong>highest transit</strong> obligations\"\n",
    "    )\n",
    ")\n",
    "\n",
    "q = df >> count(_.primary_agency_name) >> arrange(_.n)\n",
    "\n",
    "q2 = q.n.quantile(0.95)\n",
    "\n",
    "display(\n",
    "    HTML(\n",
    "        f\"There are <strong>{len(q>>filter(_.n> (q2)))} agencies have over {('%.2f'%(q2))}</strong> obligations (95th percentile) since {(df.prepared_y.min())}\"\n",
    "    )\n",
    ")\n",
    "\n",
    "q3 = q.n.quantile(0.1)\n",
    "display(\n",
    "    HTML(\n",
    "        (\n",
    "            f\"There are <strong>{len(q>>filter(_.n< (q3)))} agencies have less than {('%.2f'%(q3))}</strong> obligations (5th percentile) since {(df.prepared_y.min())}\"\n",
    "        )\n",
    "    )\n",
    ")\n",
    "\n",
    "## tables\n",
    "display(HTML(\"<h4><strong>Number of Unique Prefix Codes by Agency</strong></h4>\"))\n",
    "display(\n",
    "    (_dla_utils.get_nunique(df, \"prefix\", \"primary_agency_name\"))\n",
    "    .rename(\n",
    "        columns={\"primary_agency_name\": \"Agency\", \"n\": \"Number of Unqiue Prefix Codes\"}\n",
    "    )\n",
    "    .head(5)\n",
    ")\n",
    "\n",
    "display(HTML(\"<h4><strong>Number of Unique Agencies by Prefix Codes</strong></h4>\"))\n",
    "display(\n",
    "    (_dla_utils.get_nunique(df, \"primary_agency_name\", \"prefix\"))\n",
    "    .rename(columns={\"prefix\": \"Prefix\", \"n\": \"Number of Unqiue Agencies\"})\n",
    "    .head(5)\n",
    ")\n",
    "\n",
    "display(HTML(\"<h4><strong>Top 5 Types of Work</strong></h4>\"))\n",
    "work_types = (\n",
    "    (df >> count(_.type_of_work) >> arrange(-_.n) >> select(_.type_of_work))\n",
    "    .rename(columns={\"type_of_work\": \"Type of Work\"})\n",
    "    .head(5)\n",
    ")\n",
    "display(work_types.style)"
   ]
  },
  {
   "cell_type": "code",
   "execution_count": 6,
   "id": "88ad1708-b3c0-40b1-859c-67e50724b983",
   "metadata": {},
   "outputs": [
    {
     "data": {
      "text/markdown": [
       "<h2> Number of Obligations </h2>"
      ],
      "text/plain": [
       "<IPython.core.display.Markdown object>"
      ]
     },
     "metadata": {},
     "output_type": "display_data"
    }
   ],
   "source": [
    " #Visual Charts\n",
    "\n",
    "display(Markdown(\"<h2> Number of Obligations </h2>\"))"
   ]
  },
  {
   "cell_type": "code",
   "execution_count": 7,
   "id": "ae85287b-0772-4595-8ea2-ccba83dd22cf",
   "metadata": {},
   "outputs": [
    {
     "data": {
      "text/html": [
       "<h4><strong>Obligations by Year</strong></h4>"
      ],
      "text/plain": [
       "<IPython.core.display.HTML object>"
      ]
     },
     "metadata": {},
     "output_type": "display_data"
    },
    {
     "data": {
      "text/html": [
       "\n",
       "<div id=\"altair-viz-0af872c9d405407b8dc41f3be0f98d0d\"></div>\n",
       "<script type=\"text/javascript\">\n",
       "  var VEGA_DEBUG = (typeof VEGA_DEBUG == \"undefined\") ? {} : VEGA_DEBUG;\n",
       "  (function(spec, embedOpt){\n",
       "    let outputDiv = document.currentScript.previousElementSibling;\n",
       "    if (outputDiv.id !== \"altair-viz-0af872c9d405407b8dc41f3be0f98d0d\") {\n",
       "      outputDiv = document.getElementById(\"altair-viz-0af872c9d405407b8dc41f3be0f98d0d\");\n",
       "    }\n",
       "    const paths = {\n",
       "      \"vega\": \"https://cdn.jsdelivr.net/npm//vega@5?noext\",\n",
       "      \"vega-lib\": \"https://cdn.jsdelivr.net/npm//vega-lib?noext\",\n",
       "      \"vega-lite\": \"https://cdn.jsdelivr.net/npm//vega-lite@4.17.0?noext\",\n",
       "      \"vega-embed\": \"https://cdn.jsdelivr.net/npm//vega-embed@6?noext\",\n",
       "    };\n",
       "\n",
       "    function maybeLoadScript(lib, version) {\n",
       "      var key = `${lib.replace(\"-\", \"\")}_version`;\n",
       "      return (VEGA_DEBUG[key] == version) ?\n",
       "        Promise.resolve(paths[lib]) :\n",
       "        new Promise(function(resolve, reject) {\n",
       "          var s = document.createElement('script');\n",
       "          document.getElementsByTagName(\"head\")[0].appendChild(s);\n",
       "          s.async = true;\n",
       "          s.onload = () => {\n",
       "            VEGA_DEBUG[key] = version;\n",
       "            return resolve(paths[lib]);\n",
       "          };\n",
       "          s.onerror = () => reject(`Error loading script: ${paths[lib]}`);\n",
       "          s.src = paths[lib];\n",
       "        });\n",
       "    }\n",
       "\n",
       "    function showError(err) {\n",
       "      outputDiv.innerHTML = `<div class=\"error\" style=\"color:red;\">${err}</div>`;\n",
       "      throw err;\n",
       "    }\n",
       "\n",
       "    function displayChart(vegaEmbed) {\n",
       "      vegaEmbed(outputDiv, spec, embedOpt)\n",
       "        .catch(err => showError(`Javascript Error: ${err.message}<br>This usually means there's a typo in your chart specification. See the javascript console for the full traceback.`));\n",
       "    }\n",
       "\n",
       "    if(typeof define === \"function\" && define.amd) {\n",
       "      requirejs.config({paths});\n",
       "      require([\"vega-embed\"], displayChart, err => showError(`Error loading script: ${err.message}`));\n",
       "    } else {\n",
       "      maybeLoadScript(\"vega\", \"5\")\n",
       "        .then(() => maybeLoadScript(\"vega-lite\", \"4.17.0\"))\n",
       "        .then(() => maybeLoadScript(\"vega-embed\", \"6\"))\n",
       "        .catch(showError)\n",
       "        .then(() => displayChart(vegaEmbed));\n",
       "    }\n",
       "  })({\"config\": {\"view\": {\"continuousWidth\": 400, \"continuousHeight\": 300}, \"axis\": {\"domainColor\": \"#cbcbcb\", \"grid\": true, \"gridColor\": \"#cbcbcb\", \"gridWidth\": 1, \"labelColor\": \"#474747\", \"labelFont\": \"Nunito Sans\", \"labelFontSize\": 10, \"labelPadding\": 4, \"tickColor\": \"#cbcbcb\", \"tickSize\": 10, \"titleColor\": \"#333\", \"titleFont\": \"Raleway\", \"titleFontSize\": 12, \"titlePadding\": 10}, \"axisBand\": {\"grid\": false}, \"background\": \"white\", \"font\": \"Raleway\", \"header\": {\"labelFont\": \"Nunito Sans\", \"titleFont\": \"Raleway\"}, \"legend\": {\"labelColor\": \"#333\", \"labelFont\": \"Nunito Sans\", \"labelFontSize\": 11, \"labelLimit\": 0, \"padding\": 1, \"symbolSize\": 30, \"symbolType\": \"square\", \"titleColor\": \"#333\", \"titleFont\": \"Raleway\", \"titleFontSize\": 14, \"titlePadding\": 10}, \"title\": {\"anchor\": \"middle\", \"font\": \"Raleway\", \"fontSize\": 18, \"fontWeight\": 300, \"offset\": 20}}, \"data\": {\"name\": \"data-e87bb1d73ce26169b957c6cd5e1f7083\"}, \"mark\": \"line\", \"encoding\": {\"tooltip\": [{\"field\": \"Year\", \"type\": \"quantitative\"}, {\"field\": \"count\", \"type\": \"quantitative\"}], \"x\": {\"field\": \"Year\", \"title\": \"Prepared Year\", \"type\": \"ordinal\"}, \"y\": {\"field\": \"count\", \"title\": \"Count\", \"type\": \"quantitative\"}}, \"height\": 250, \"width\": 400, \"$schema\": \"https://vega.github.io/schema/vega-lite/v4.17.0.json\", \"datasets\": {\"data-e87bb1d73ce26169b957c6cd5e1f7083\": [{\"Year\": 2014.0, \"count\": 487, \"variable\": \"prepared_y\"}, {\"Year\": 2018.0, \"count\": 454, \"variable\": \"prepared_y\"}, {\"Year\": 2015.0, \"count\": 449, \"variable\": \"prepared_y\"}, {\"Year\": 2016.0, \"count\": 414, \"variable\": \"prepared_y\"}, {\"Year\": 2021.0, \"count\": 409, \"variable\": \"prepared_y\"}, {\"Year\": 2019.0, \"count\": 400, \"variable\": \"prepared_y\"}, {\"Year\": 2017.0, \"count\": 367, \"variable\": \"prepared_y\"}, {\"Year\": 2020.0, \"count\": 286, \"variable\": \"prepared_y\"}, {\"Year\": 2022.0, \"count\": 122, \"variable\": \"prepared_y\"}, {\"Year\": 2013.0, \"count\": 38, \"variable\": \"prepared_y\"}, {\"Year\": 2012.0, \"count\": 4, \"variable\": \"prepared_y\"}, {\"Year\": 2011.0, \"count\": 1, \"variable\": \"prepared_y\"}]}}, {\"mode\": \"vega-lite\"});\n",
       "</script>"
      ],
      "text/plain": [
       "alt.Chart(...)"
      ]
     },
     "metadata": {},
     "output_type": "display_data"
    }
   ],
   "source": [
    " #Line chart for Obligations by Year\n",
    "chart_df = (df_top>>filter(_.variable=='prepared_y')).rename(columns= {\"value\":\"Year\"})\n",
    "    \n",
    "chart1= (_dla_utils.basic_line_chart_test_no_save(chart_df, 'Year', 'count', district)).encode(x=alt.X('Year:O', title='Prepared Year'))\n",
    "    \n",
    "display(HTML(\"<h4><strong>Obligations by Year</strong></h4>\"))\n",
    "display(chart1)"
   ]
  },
  {
   "cell_type": "code",
   "execution_count": 8,
   "id": "0bc7e34d-545e-4afd-92e9-a17630d0ae89",
   "metadata": {},
   "outputs": [
    {
     "data": {
      "text/html": [
       "<h4><strong>Number of Unique Agencies by District</strong></h4>"
      ],
      "text/plain": [
       "<IPython.core.display.HTML object>"
      ]
     },
     "metadata": {},
     "output_type": "display_data"
    },
    {
     "data": {
      "text/html": [
       "\n",
       "<div id=\"altair-viz-62f82f8ce2f940e792b056711a775e1e\"></div>\n",
       "<script type=\"text/javascript\">\n",
       "  var VEGA_DEBUG = (typeof VEGA_DEBUG == \"undefined\") ? {} : VEGA_DEBUG;\n",
       "  (function(spec, embedOpt){\n",
       "    let outputDiv = document.currentScript.previousElementSibling;\n",
       "    if (outputDiv.id !== \"altair-viz-62f82f8ce2f940e792b056711a775e1e\") {\n",
       "      outputDiv = document.getElementById(\"altair-viz-62f82f8ce2f940e792b056711a775e1e\");\n",
       "    }\n",
       "    const paths = {\n",
       "      \"vega\": \"https://cdn.jsdelivr.net/npm//vega@5?noext\",\n",
       "      \"vega-lib\": \"https://cdn.jsdelivr.net/npm//vega-lib?noext\",\n",
       "      \"vega-lite\": \"https://cdn.jsdelivr.net/npm//vega-lite@4.17.0?noext\",\n",
       "      \"vega-embed\": \"https://cdn.jsdelivr.net/npm//vega-embed@6?noext\",\n",
       "    };\n",
       "\n",
       "    function maybeLoadScript(lib, version) {\n",
       "      var key = `${lib.replace(\"-\", \"\")}_version`;\n",
       "      return (VEGA_DEBUG[key] == version) ?\n",
       "        Promise.resolve(paths[lib]) :\n",
       "        new Promise(function(resolve, reject) {\n",
       "          var s = document.createElement('script');\n",
       "          document.getElementsByTagName(\"head\")[0].appendChild(s);\n",
       "          s.async = true;\n",
       "          s.onload = () => {\n",
       "            VEGA_DEBUG[key] = version;\n",
       "            return resolve(paths[lib]);\n",
       "          };\n",
       "          s.onerror = () => reject(`Error loading script: ${paths[lib]}`);\n",
       "          s.src = paths[lib];\n",
       "        });\n",
       "    }\n",
       "\n",
       "    function showError(err) {\n",
       "      outputDiv.innerHTML = `<div class=\"error\" style=\"color:red;\">${err}</div>`;\n",
       "      throw err;\n",
       "    }\n",
       "\n",
       "    function displayChart(vegaEmbed) {\n",
       "      vegaEmbed(outputDiv, spec, embedOpt)\n",
       "        .catch(err => showError(`Javascript Error: ${err.message}<br>This usually means there's a typo in your chart specification. See the javascript console for the full traceback.`));\n",
       "    }\n",
       "\n",
       "    if(typeof define === \"function\" && define.amd) {\n",
       "      requirejs.config({paths});\n",
       "      require([\"vega-embed\"], displayChart, err => showError(`Error loading script: ${err.message}`));\n",
       "    } else {\n",
       "      maybeLoadScript(\"vega\", \"5\")\n",
       "        .then(() => maybeLoadScript(\"vega-lite\", \"4.17.0\"))\n",
       "        .then(() => maybeLoadScript(\"vega-embed\", \"6\"))\n",
       "        .catch(showError)\n",
       "        .then(() => displayChart(vegaEmbed));\n",
       "    }\n",
       "  })({\"config\": {\"view\": {\"continuousWidth\": 400, \"continuousHeight\": 300}, \"axis\": {\"domainColor\": \"#cbcbcb\", \"grid\": true, \"gridColor\": \"#cbcbcb\", \"gridWidth\": 1, \"labelColor\": \"#474747\", \"labelFont\": \"Nunito Sans\", \"labelFontSize\": 10, \"labelPadding\": 4, \"tickColor\": \"#cbcbcb\", \"tickSize\": 10, \"titleColor\": \"#333\", \"titleFont\": \"Raleway\", \"titleFontSize\": 12, \"titlePadding\": 10}, \"axisBand\": {\"grid\": false}, \"background\": \"white\", \"font\": \"Raleway\", \"header\": {\"labelFont\": \"Nunito Sans\", \"titleFont\": \"Raleway\"}, \"legend\": {\"labelColor\": \"#333\", \"labelFont\": \"Nunito Sans\", \"labelFontSize\": 11, \"labelLimit\": 0, \"padding\": 1, \"symbolSize\": 30, \"symbolType\": \"square\", \"titleColor\": \"#333\", \"titleFont\": \"Raleway\", \"titleFontSize\": 14, \"titlePadding\": 10}, \"title\": {\"anchor\": \"middle\", \"font\": \"Raleway\", \"fontSize\": 18, \"fontWeight\": 300, \"offset\": 20}}, \"data\": {\"name\": \"data-278d91c974d248e5fe23049a4f501dee\"}, \"mark\": \"bar\", \"encoding\": {\"color\": {\"field\": \"District\", \"legend\": {\"title\": \"Prepared Year\"}, \"scale\": {\"range\": [\"#B9D6DF\", \"#8CBCCB\", \"#2EA8CE\", \"#136C97\", \"#0B405B\"]}, \"type\": \"nominal\"}, \"column\": {\"field\": \"District\", \"type\": \"nominal\"}, \"tooltip\": [{\"field\": \"prepared_y\", \"type\": \"quantitative\"}, {\"field\": \"Count\", \"type\": \"quantitative\"}], \"x\": {\"field\": \"prepared_y\", \"title\": \"Prepared Year\", \"type\": \"ordinal\"}, \"y\": {\"field\": \"Count\", \"title\": \"Number of Unique Agencies\", \"type\": \"quantitative\"}}, \"height\": 250, \"width\": 400, \"$schema\": \"https://vega.github.io/schema/vega-lite/v4.17.0.json\", \"datasets\": {\"data-278d91c974d248e5fe23049a4f501dee\": [{\"prepared_y\": 2022.0, \"District\": 4, \"Count\": 58}, {\"prepared_y\": 2021.0, \"District\": 4, \"Count\": 102}, {\"prepared_y\": 2020.0, \"District\": 4, \"Count\": 89}, {\"prepared_y\": 2019.0, \"District\": 4, \"Count\": 93}, {\"prepared_y\": 2018.0, \"District\": 4, \"Count\": 97}, {\"prepared_y\": 2017.0, \"District\": 4, \"Count\": 97}, {\"prepared_y\": 2016.0, \"District\": 4, \"Count\": 113}, {\"prepared_y\": 2015.0, \"District\": 4, \"Count\": 109}, {\"prepared_y\": 2014.0, \"District\": 4, \"Count\": 108}, {\"prepared_y\": 2013.0, \"District\": 4, \"Count\": 28}, {\"prepared_y\": 2012.0, \"District\": 4, \"Count\": 3}, {\"prepared_y\": 2011.0, \"District\": 4, \"Count\": 1}]}}, {\"mode\": \"vega-lite\"});\n",
       "</script>"
      ],
      "text/plain": [
       "alt.Chart(...)"
      ]
     },
     "metadata": {},
     "output_type": "display_data"
    }
   ],
   "source": [
    "# Unique Agencies by Dist\n",
    "dist_years_agency = ((\n",
    "        df\n",
    "        >> group_by(_.prepared_y, _.dist)\n",
    "        >> summarize(n=_.primary_agency_name.nunique())\n",
    "        >> arrange(-_.prepared_y)\n",
    "    )\n",
    "        .rename(columns={'dist':'District', 'n':'Count'})\n",
    "    )\n",
    "chart10 = (alt.Chart(dist_years_agency).mark_bar().encode(\n",
    "        column='District:N',\n",
    "        x=alt.X('prepared_y:O', title='Prepared Year'),\n",
    "        y=alt.Y('Count:Q', title='Number of Unique Agencies'),\n",
    "        color = alt.Color(\"District:N\", \n",
    "                              scale=alt.Scale(\n",
    "                                  range=altair_utils.CALITP_SEQUENTIAL_COLORS),  \n",
    "                               legend=alt.Legend(title=\"Prepared Year\")\n",
    "                              )))\n",
    "                              \n",
    "chart10 = styleguide.preset_chart_config(chart10)\n",
    "chart10 = _dla_utils.add_tooltip(chart10, 'prepared_y', 'Count')\n",
    "    \n",
    "display(HTML(\"<h4><strong>Number of Unique Agencies by District</strong></h4>\"))\n",
    "display(chart10)"
   ]
  },
  {
   "cell_type": "code",
   "execution_count": 9,
   "id": "faa4758e-8a41-44f8-aec4-b8cc4d75d906",
   "metadata": {},
   "outputs": [
    {
     "data": {
      "text/html": [
       "<h4><strong>Agencies With The Most Obligations</strong></h4>"
      ],
      "text/plain": [
       "<IPython.core.display.HTML object>"
      ]
     },
     "metadata": {},
     "output_type": "display_data"
    },
    {
     "data": {
      "text/html": [
       "\n",
       "<div id=\"altair-viz-a592ed894569496ba8ffb1407151fd88\"></div>\n",
       "<script type=\"text/javascript\">\n",
       "  var VEGA_DEBUG = (typeof VEGA_DEBUG == \"undefined\") ? {} : VEGA_DEBUG;\n",
       "  (function(spec, embedOpt){\n",
       "    let outputDiv = document.currentScript.previousElementSibling;\n",
       "    if (outputDiv.id !== \"altair-viz-a592ed894569496ba8ffb1407151fd88\") {\n",
       "      outputDiv = document.getElementById(\"altair-viz-a592ed894569496ba8ffb1407151fd88\");\n",
       "    }\n",
       "    const paths = {\n",
       "      \"vega\": \"https://cdn.jsdelivr.net/npm//vega@5?noext\",\n",
       "      \"vega-lib\": \"https://cdn.jsdelivr.net/npm//vega-lib?noext\",\n",
       "      \"vega-lite\": \"https://cdn.jsdelivr.net/npm//vega-lite@4.17.0?noext\",\n",
       "      \"vega-embed\": \"https://cdn.jsdelivr.net/npm//vega-embed@6?noext\",\n",
       "    };\n",
       "\n",
       "    function maybeLoadScript(lib, version) {\n",
       "      var key = `${lib.replace(\"-\", \"\")}_version`;\n",
       "      return (VEGA_DEBUG[key] == version) ?\n",
       "        Promise.resolve(paths[lib]) :\n",
       "        new Promise(function(resolve, reject) {\n",
       "          var s = document.createElement('script');\n",
       "          document.getElementsByTagName(\"head\")[0].appendChild(s);\n",
       "          s.async = true;\n",
       "          s.onload = () => {\n",
       "            VEGA_DEBUG[key] = version;\n",
       "            return resolve(paths[lib]);\n",
       "          };\n",
       "          s.onerror = () => reject(`Error loading script: ${paths[lib]}`);\n",
       "          s.src = paths[lib];\n",
       "        });\n",
       "    }\n",
       "\n",
       "    function showError(err) {\n",
       "      outputDiv.innerHTML = `<div class=\"error\" style=\"color:red;\">${err}</div>`;\n",
       "      throw err;\n",
       "    }\n",
       "\n",
       "    function displayChart(vegaEmbed) {\n",
       "      vegaEmbed(outputDiv, spec, embedOpt)\n",
       "        .catch(err => showError(`Javascript Error: ${err.message}<br>This usually means there's a typo in your chart specification. See the javascript console for the full traceback.`));\n",
       "    }\n",
       "\n",
       "    if(typeof define === \"function\" && define.amd) {\n",
       "      requirejs.config({paths});\n",
       "      require([\"vega-embed\"], displayChart, err => showError(`Error loading script: ${err.message}`));\n",
       "    } else {\n",
       "      maybeLoadScript(\"vega\", \"5\")\n",
       "        .then(() => maybeLoadScript(\"vega-lite\", \"4.17.0\"))\n",
       "        .then(() => maybeLoadScript(\"vega-embed\", \"6\"))\n",
       "        .catch(showError)\n",
       "        .then(() => displayChart(vegaEmbed));\n",
       "    }\n",
       "  })({\"config\": {\"view\": {\"continuousWidth\": 400, \"continuousHeight\": 300}, \"axis\": {\"domainColor\": \"#cbcbcb\", \"grid\": true, \"gridColor\": \"#cbcbcb\", \"gridWidth\": 1, \"labelColor\": \"#474747\", \"labelFont\": \"Nunito Sans\", \"labelFontSize\": 10, \"labelPadding\": 4, \"tickColor\": \"#cbcbcb\", \"tickSize\": 10, \"titleColor\": \"#333\", \"titleFont\": \"Raleway\", \"titleFontSize\": 12, \"titlePadding\": 10}, \"axisBand\": {\"grid\": false}, \"background\": \"white\", \"font\": \"Raleway\", \"header\": {\"labelFont\": \"Nunito Sans\", \"titleFont\": \"Raleway\"}, \"legend\": {\"labelColor\": \"#333\", \"labelFont\": \"Nunito Sans\", \"labelFontSize\": 11, \"labelLimit\": 0, \"padding\": 1, \"symbolSize\": 30, \"symbolType\": \"square\", \"titleColor\": \"#333\", \"titleFont\": \"Raleway\", \"titleFontSize\": 14, \"titlePadding\": 10}, \"title\": {\"anchor\": \"middle\", \"font\": \"Raleway\", \"fontSize\": 18, \"fontWeight\": 300, \"offset\": 20}}, \"data\": {\"name\": \"data-ae6246f9f437e4491e3bcb3223e68c20\"}, \"mark\": \"bar\", \"encoding\": {\"color\": {\"field\": \"Agency\", \"legend\": {\"symbolLimit\": 10, \"title\": \"Agency\"}, \"scale\": {\"range\": [\"#2EA8CE\", \"#EB9F3C\", \"#F4D837\", \"#51BF9D\", \"#8CBCCB\", \"#9487C0\"]}, \"type\": \"nominal\"}, \"tooltip\": [{\"field\": \"Agency\", \"type\": \"nominal\"}, {\"field\": \"Number of Obligations\", \"type\": \"quantitative\"}], \"x\": {\"field\": \"Agency\", \"sort\": \"-y\", \"title\": \"Agency\", \"type\": \"nominal\"}, \"y\": {\"field\": \"Number of Obligations\", \"title\": \"Number Of Obligations\", \"type\": \"quantitative\"}}, \"height\": 250, \"width\": 400, \"$schema\": \"https://vega.github.io/schema/vega-lite/v4.17.0.json\", \"datasets\": {\"data-ae6246f9f437e4491e3bcb3223e68c20\": [{\"Agency\": \"Contra Costa County\", \"Number of Obligations\": 155, \"variable\": \"primary_agency_name\"}, {\"Agency\": \"Oakland\", \"Number of Obligations\": 145, \"variable\": \"primary_agency_name\"}, {\"Agency\": \"Metropolitan Transportation Commission\", \"Number of Obligations\": 144, \"variable\": \"primary_agency_name\"}, {\"Agency\": \"San Jose\", \"Number of Obligations\": 137, \"variable\": \"primary_agency_name\"}, {\"Agency\": \"Santa Clara County\", \"Number of Obligations\": 133, \"variable\": \"primary_agency_name\"}, {\"Agency\": \"Napa County\", \"Number of Obligations\": 115, \"variable\": \"primary_agency_name\"}, {\"Agency\": \"Sonoma County\", \"Number of Obligations\": 99, \"variable\": \"primary_agency_name\"}, {\"Agency\": \"City & County of San Francisco, MTA/Parking & Traffic\", \"Number of Obligations\": 96, \"variable\": \"primary_agency_name\"}, {\"Agency\": \"Marin County\", \"Number of Obligations\": 90, \"variable\": \"primary_agency_name\"}, {\"Agency\": \"Sunnyvale\", \"Number of Obligations\": 88, \"variable\": \"primary_agency_name\"}, {\"Agency\": \"Alameda County\", \"Number of Obligations\": 85, \"variable\": \"primary_agency_name\"}, {\"Agency\": \"San Francisco County\", \"Number of Obligations\": 79, \"variable\": \"primary_agency_name\"}, {\"Agency\": \"Solano County\", \"Number of Obligations\": 72, \"variable\": \"primary_agency_name\"}, {\"Agency\": \"Santa Clara Valley Transportation Authority\", \"Number of Obligations\": 56, \"variable\": \"primary_agency_name\"}, {\"Agency\": \"Vacaville\", \"Number of Obligations\": 48, \"variable\": \"primary_agency_name\"}, {\"Agency\": \"Fremont\", \"Number of Obligations\": 46, \"variable\": \"primary_agency_name\"}, {\"Agency\": \"Golden Gate Bridge, Highway And Transportation Distri\", \"Number of Obligations\": 44, \"variable\": \"primary_agency_name\"}, {\"Agency\": \"San Francisco Bay Area Rapid Transit District\", \"Number of Obligations\": 41, \"variable\": \"primary_agency_name\"}, {\"Agency\": \"Concord\", \"Number of Obligations\": 39, \"variable\": \"primary_agency_name\"}, {\"Agency\": \"Vallejo\", \"Number of Obligations\": 37, \"variable\": \"primary_agency_name\"}]}}, {\"mode\": \"vega-lite\"});\n",
       "</script>"
      ],
      "text/plain": [
       "alt.Chart(...)"
      ]
     },
     "metadata": {},
     "output_type": "display_data"
    }
   ],
   "source": [
    "#Bar chart Agencies With The Most Obligations\n",
    "chart_df = (df_top>>filter(_.variable=='primary_agency_name')).rename(columns={\"value\":\"Agency\",\n",
    "                                 \"count\":\"Number of Obligations\"})\n",
    "chart2 = (_dla_utils.basic_bar_chart_no_save(chart_df, 'Agency', 'Number of Obligations', 'Agency', district))\n",
    "    \n",
    "display(HTML(\"<h4><strong>Agencies With The Most Obligations</strong></h4>\"))\n",
    "display(chart2)\n"
   ]
  },
  {
   "cell_type": "code",
   "execution_count": 10,
   "id": "7e78de32-e647-4823-905f-da3ad190a248",
   "metadata": {},
   "outputs": [
    {
     "data": {
      "text/html": [
       "<h2>Prefix Codes</h2>"
      ],
      "text/plain": [
       "<IPython.core.display.HTML object>"
      ]
     },
     "metadata": {},
     "output_type": "display_data"
    }
   ],
   "source": [
    "display(HTML(\"<h2>Prefix Codes</h2>\"))"
   ]
  },
  {
   "cell_type": "code",
   "execution_count": 11,
   "id": "f661bd63-f8aa-4048-b035-03d5bf1b7e95",
   "metadata": {},
   "outputs": [
    {
     "data": {
      "text/html": [
       "<h4><strong>Number of Unique Prefix Codes by District</strong></h4>"
      ],
      "text/plain": [
       "<IPython.core.display.HTML object>"
      ]
     },
     "metadata": {},
     "output_type": "display_data"
    },
    {
     "data": {
      "text/html": [
       "\n",
       "<div id=\"altair-viz-4b8ee8bfe7394913a821c80d8fce5056\"></div>\n",
       "<script type=\"text/javascript\">\n",
       "  var VEGA_DEBUG = (typeof VEGA_DEBUG == \"undefined\") ? {} : VEGA_DEBUG;\n",
       "  (function(spec, embedOpt){\n",
       "    let outputDiv = document.currentScript.previousElementSibling;\n",
       "    if (outputDiv.id !== \"altair-viz-4b8ee8bfe7394913a821c80d8fce5056\") {\n",
       "      outputDiv = document.getElementById(\"altair-viz-4b8ee8bfe7394913a821c80d8fce5056\");\n",
       "    }\n",
       "    const paths = {\n",
       "      \"vega\": \"https://cdn.jsdelivr.net/npm//vega@5?noext\",\n",
       "      \"vega-lib\": \"https://cdn.jsdelivr.net/npm//vega-lib?noext\",\n",
       "      \"vega-lite\": \"https://cdn.jsdelivr.net/npm//vega-lite@4.17.0?noext\",\n",
       "      \"vega-embed\": \"https://cdn.jsdelivr.net/npm//vega-embed@6?noext\",\n",
       "    };\n",
       "\n",
       "    function maybeLoadScript(lib, version) {\n",
       "      var key = `${lib.replace(\"-\", \"\")}_version`;\n",
       "      return (VEGA_DEBUG[key] == version) ?\n",
       "        Promise.resolve(paths[lib]) :\n",
       "        new Promise(function(resolve, reject) {\n",
       "          var s = document.createElement('script');\n",
       "          document.getElementsByTagName(\"head\")[0].appendChild(s);\n",
       "          s.async = true;\n",
       "          s.onload = () => {\n",
       "            VEGA_DEBUG[key] = version;\n",
       "            return resolve(paths[lib]);\n",
       "          };\n",
       "          s.onerror = () => reject(`Error loading script: ${paths[lib]}`);\n",
       "          s.src = paths[lib];\n",
       "        });\n",
       "    }\n",
       "\n",
       "    function showError(err) {\n",
       "      outputDiv.innerHTML = `<div class=\"error\" style=\"color:red;\">${err}</div>`;\n",
       "      throw err;\n",
       "    }\n",
       "\n",
       "    function displayChart(vegaEmbed) {\n",
       "      vegaEmbed(outputDiv, spec, embedOpt)\n",
       "        .catch(err => showError(`Javascript Error: ${err.message}<br>This usually means there's a typo in your chart specification. See the javascript console for the full traceback.`));\n",
       "    }\n",
       "\n",
       "    if(typeof define === \"function\" && define.amd) {\n",
       "      requirejs.config({paths});\n",
       "      require([\"vega-embed\"], displayChart, err => showError(`Error loading script: ${err.message}`));\n",
       "    } else {\n",
       "      maybeLoadScript(\"vega\", \"5\")\n",
       "        .then(() => maybeLoadScript(\"vega-lite\", \"4.17.0\"))\n",
       "        .then(() => maybeLoadScript(\"vega-embed\", \"6\"))\n",
       "        .catch(showError)\n",
       "        .then(() => displayChart(vegaEmbed));\n",
       "    }\n",
       "  })({\"config\": {\"view\": {\"continuousWidth\": 400, \"continuousHeight\": 300}, \"axis\": {\"domainColor\": \"#cbcbcb\", \"grid\": true, \"gridColor\": \"#cbcbcb\", \"gridWidth\": 1, \"labelColor\": \"#474747\", \"labelFont\": \"Nunito Sans\", \"labelFontSize\": 10, \"labelPadding\": 4, \"tickColor\": \"#cbcbcb\", \"tickSize\": 10, \"titleColor\": \"#333\", \"titleFont\": \"Raleway\", \"titleFontSize\": 12, \"titlePadding\": 10}, \"axisBand\": {\"grid\": false}, \"background\": \"white\", \"font\": \"Raleway\", \"header\": {\"labelFont\": \"Nunito Sans\", \"titleFont\": \"Raleway\"}, \"legend\": {\"labelColor\": \"#333\", \"labelFont\": \"Nunito Sans\", \"labelFontSize\": 11, \"labelLimit\": 0, \"padding\": 1, \"symbolSize\": 30, \"symbolType\": \"square\", \"titleColor\": \"#333\", \"titleFont\": \"Raleway\", \"titleFontSize\": 14, \"titlePadding\": 10}, \"title\": {\"anchor\": \"middle\", \"font\": \"Raleway\", \"fontSize\": 18, \"fontWeight\": 300, \"offset\": 20}}, \"data\": {\"name\": \"data-989356d9094a6c6cdacdf80dea19492c\"}, \"mark\": \"bar\", \"encoding\": {\"color\": {\"field\": \"District\", \"legend\": {\"title\": \"District\"}, \"scale\": {\"range\": [\"#B9D6DF\", \"#8CBCCB\", \"#2EA8CE\", \"#136C97\", \"#0B405B\"]}, \"type\": \"nominal\"}, \"column\": {\"field\": \"District\", \"type\": \"nominal\"}, \"tooltip\": [{\"field\": \"prepared_y\", \"type\": \"quantitative\"}, {\"field\": \"Count\", \"type\": \"quantitative\"}], \"x\": {\"field\": \"prepared_y\", \"title\": \"Prepared Year\", \"type\": \"ordinal\"}, \"y\": {\"field\": \"Count\", \"title\": \"Number of Unique Agencies\", \"type\": \"quantitative\"}}, \"height\": 250, \"width\": 400, \"$schema\": \"https://vega.github.io/schema/vega-lite/v4.17.0.json\", \"datasets\": {\"data-989356d9094a6c6cdacdf80dea19492c\": [{\"prepared_y\": 2022.0, \"District\": 4, \"Count\": 21}, {\"prepared_y\": 2021.0, \"District\": 4, \"Count\": 42}, {\"prepared_y\": 2020.0, \"District\": 4, \"Count\": 34}, {\"prepared_y\": 2019.0, \"District\": 4, \"Count\": 41}, {\"prepared_y\": 2018.0, \"District\": 4, \"Count\": 51}, {\"prepared_y\": 2017.0, \"District\": 4, \"Count\": 43}, {\"prepared_y\": 2016.0, \"District\": 4, \"Count\": 50}, {\"prepared_y\": 2015.0, \"District\": 4, \"Count\": 48}, {\"prepared_y\": 2014.0, \"District\": 4, \"Count\": 52}, {\"prepared_y\": 2013.0, \"District\": 4, \"Count\": 15}, {\"prepared_y\": 2012.0, \"District\": 4, \"Count\": 2}, {\"prepared_y\": 2011.0, \"District\": 4, \"Count\": 1}]}}, {\"mode\": \"vega-lite\"});\n",
       "</script>"
      ],
      "text/plain": [
       "alt.Chart(...)"
      ]
     },
     "metadata": {},
     "output_type": "display_data"
    }
   ],
   "source": [
    "#Unique Prefixes by Dist\n",
    "dist_years_prefix = ((\n",
    "        df\n",
    "        >> group_by(_.prepared_y, _.dist)\n",
    "        >> summarize(n=_.prefix.nunique())\n",
    "        >> arrange(-_.prepared_y)\n",
    "    ).rename(columns={'dist':'District', 'n':'Count'}))\n",
    "\n",
    "chart11 = (alt.Chart(dist_years_prefix).mark_bar().encode(\n",
    "        column='District:N',\n",
    "        x=alt.X('prepared_y:O', title='Prepared Year'),\n",
    "        y=alt.Y('Count:Q', title='Number of Unique Agencies'),\n",
    "        color = alt.Color(\"District:N\", \n",
    "                              scale=alt.Scale(\n",
    "                                  range=altair_utils.CALITP_SEQUENTIAL_COLORS),  \n",
    "                               legend=alt.Legend(title=\"District\")\n",
    "                              )\n",
    "                              ))\n",
    "chart11 = styleguide.preset_chart_config(chart11)\n",
    "chart11 = _dla_utils.add_tooltip(chart11, 'prepared_y','Count')\n",
    "    \n",
    "display(HTML(\"<h4><strong>Number of Unique Prefix Codes by District</strong></h4>\"))\n",
    "display(chart11)"
   ]
  },
  {
   "cell_type": "code",
   "execution_count": 12,
   "id": "0aca2d9a-062a-4c12-9489-5f9de10f3462",
   "metadata": {},
   "outputs": [
    {
     "data": {
      "text/html": [
       "<h4><strong>Most Used Prefix Codes</strong></h4>"
      ],
      "text/plain": [
       "<IPython.core.display.HTML object>"
      ]
     },
     "metadata": {},
     "output_type": "display_data"
    },
    {
     "data": {
      "text/html": [
       "\n",
       "<div id=\"altair-viz-18f8e97506204fc29bca4641ea631566\"></div>\n",
       "<script type=\"text/javascript\">\n",
       "  var VEGA_DEBUG = (typeof VEGA_DEBUG == \"undefined\") ? {} : VEGA_DEBUG;\n",
       "  (function(spec, embedOpt){\n",
       "    let outputDiv = document.currentScript.previousElementSibling;\n",
       "    if (outputDiv.id !== \"altair-viz-18f8e97506204fc29bca4641ea631566\") {\n",
       "      outputDiv = document.getElementById(\"altair-viz-18f8e97506204fc29bca4641ea631566\");\n",
       "    }\n",
       "    const paths = {\n",
       "      \"vega\": \"https://cdn.jsdelivr.net/npm//vega@5?noext\",\n",
       "      \"vega-lib\": \"https://cdn.jsdelivr.net/npm//vega-lib?noext\",\n",
       "      \"vega-lite\": \"https://cdn.jsdelivr.net/npm//vega-lite@4.17.0?noext\",\n",
       "      \"vega-embed\": \"https://cdn.jsdelivr.net/npm//vega-embed@6?noext\",\n",
       "    };\n",
       "\n",
       "    function maybeLoadScript(lib, version) {\n",
       "      var key = `${lib.replace(\"-\", \"\")}_version`;\n",
       "      return (VEGA_DEBUG[key] == version) ?\n",
       "        Promise.resolve(paths[lib]) :\n",
       "        new Promise(function(resolve, reject) {\n",
       "          var s = document.createElement('script');\n",
       "          document.getElementsByTagName(\"head\")[0].appendChild(s);\n",
       "          s.async = true;\n",
       "          s.onload = () => {\n",
       "            VEGA_DEBUG[key] = version;\n",
       "            return resolve(paths[lib]);\n",
       "          };\n",
       "          s.onerror = () => reject(`Error loading script: ${paths[lib]}`);\n",
       "          s.src = paths[lib];\n",
       "        });\n",
       "    }\n",
       "\n",
       "    function showError(err) {\n",
       "      outputDiv.innerHTML = `<div class=\"error\" style=\"color:red;\">${err}</div>`;\n",
       "      throw err;\n",
       "    }\n",
       "\n",
       "    function displayChart(vegaEmbed) {\n",
       "      vegaEmbed(outputDiv, spec, embedOpt)\n",
       "        .catch(err => showError(`Javascript Error: ${err.message}<br>This usually means there's a typo in your chart specification. See the javascript console for the full traceback.`));\n",
       "    }\n",
       "\n",
       "    if(typeof define === \"function\" && define.amd) {\n",
       "      requirejs.config({paths});\n",
       "      require([\"vega-embed\"], displayChart, err => showError(`Error loading script: ${err.message}`));\n",
       "    } else {\n",
       "      maybeLoadScript(\"vega\", \"5\")\n",
       "        .then(() => maybeLoadScript(\"vega-lite\", \"4.17.0\"))\n",
       "        .then(() => maybeLoadScript(\"vega-embed\", \"6\"))\n",
       "        .catch(showError)\n",
       "        .then(() => displayChart(vegaEmbed));\n",
       "    }\n",
       "  })({\"config\": {\"view\": {\"continuousWidth\": 400, \"continuousHeight\": 300}, \"axis\": {\"domainColor\": \"#cbcbcb\", \"grid\": true, \"gridColor\": \"#cbcbcb\", \"gridWidth\": 1, \"labelColor\": \"#474747\", \"labelFont\": \"Nunito Sans\", \"labelFontSize\": 10, \"labelPadding\": 4, \"tickColor\": \"#cbcbcb\", \"tickSize\": 10, \"titleColor\": \"#333\", \"titleFont\": \"Raleway\", \"titleFontSize\": 12, \"titlePadding\": 10}, \"axisBand\": {\"grid\": false}, \"background\": \"white\", \"font\": \"Raleway\", \"header\": {\"labelFont\": \"Nunito Sans\", \"titleFont\": \"Raleway\"}, \"legend\": {\"labelColor\": \"#333\", \"labelFont\": \"Nunito Sans\", \"labelFontSize\": 11, \"labelLimit\": 0, \"padding\": 1, \"symbolSize\": 30, \"symbolType\": \"square\", \"titleColor\": \"#333\", \"titleFont\": \"Raleway\", \"titleFontSize\": 14, \"titlePadding\": 10}, \"title\": {\"anchor\": \"middle\", \"font\": \"Raleway\", \"fontSize\": 18, \"fontWeight\": 300, \"offset\": 20}}, \"data\": {\"name\": \"data-a5abee76ffa0287b905e6f42d28779a8\"}, \"mark\": \"bar\", \"encoding\": {\"color\": {\"field\": \"Prefix\", \"legend\": {\"symbolLimit\": 10, \"title\": \"Prefix\"}, \"scale\": {\"range\": [\"#2EA8CE\", \"#EB9F3C\", \"#F4D837\", \"#51BF9D\", \"#8CBCCB\", \"#9487C0\"]}, \"type\": \"nominal\"}, \"tooltip\": [{\"field\": \"Prefix\", \"type\": \"nominal\"}, {\"field\": \"Number of Obligations\", \"type\": \"quantitative\"}], \"x\": {\"field\": \"Prefix\", \"sort\": \"-y\", \"title\": \"Prefix\", \"type\": \"nominal\"}, \"y\": {\"field\": \"Number of Obligations\", \"title\": \"Number Of Obligations\", \"type\": \"quantitative\"}}, \"height\": 250, \"width\": 400, \"$schema\": \"https://vega.github.io/schema/vega-lite/v4.17.0.json\", \"datasets\": {\"data-a5abee76ffa0287b905e6f42d28779a8\": [{\"Prefix\": \"STPL\", \"Number of Obligations\": 677, \"variable\": \"prefix\"}, {\"Prefix\": \"CML\", \"Number of Obligations\": 552, \"variable\": \"prefix\"}, {\"Prefix\": \"HSIPL\", \"Number of Obligations\": 462, \"variable\": \"prefix\"}, {\"Prefix\": \"BRLS\", \"Number of Obligations\": 170, \"variable\": \"prefix\"}, {\"Prefix\": \"ER\", \"Number of Obligations\": 146, \"variable\": \"prefix\"}, {\"Prefix\": \"BRLO\", \"Number of Obligations\": 129, \"variable\": \"prefix\"}, {\"Prefix\": \"STPLZ\", \"Number of Obligations\": 124, \"variable\": \"prefix\"}, {\"Prefix\": \"RPSTPL\", \"Number of Obligations\": 95, \"variable\": \"prefix\"}, {\"Prefix\": \"BPMP\", \"Number of Obligations\": 94, \"variable\": \"prefix\"}, {\"Prefix\": \"ATPL\", \"Number of Obligations\": 90, \"variable\": \"prefix\"}, {\"Prefix\": \"HPLUL\", \"Number of Obligations\": 83, \"variable\": \"prefix\"}, {\"Prefix\": \"BHLS\", \"Number of Obligations\": 66, \"variable\": \"prefix\"}, {\"Prefix\": \"SRTSL\", \"Number of Obligations\": 63, \"variable\": \"prefix\"}, {\"Prefix\": \"CMLNI\", \"Number of Obligations\": 52, \"variable\": \"prefix\"}, {\"Prefix\": \"FTASTPL\", \"Number of Obligations\": 49, \"variable\": \"prefix\"}, {\"Prefix\": \"STPLNI\", \"Number of Obligations\": 42, \"variable\": \"prefix\"}, {\"Prefix\": \"HRRRL\", \"Number of Obligations\": 38, \"variable\": \"prefix\"}, {\"Prefix\": \"ACSTP\", \"Number of Obligations\": 36, \"variable\": \"prefix\"}, {\"Prefix\": \"FTACML\", \"Number of Obligations\": 33, \"variable\": \"prefix\"}, {\"Prefix\": \"BHLO\", \"Number of Obligations\": 31, \"variable\": \"prefix\"}]}}, {\"mode\": \"vega-lite\"});\n",
       "</script>"
      ],
      "text/plain": [
       "alt.Chart(...)"
      ]
     },
     "metadata": {},
     "output_type": "display_data"
    }
   ],
   "source": [
    "#Bar chart with the Most Used Prefix Counts\n",
    "chart_df = (df_top>>filter(_.variable=='prefix')).rename(columns={\"value\":\"Prefix\",\n",
    "                                 \"count\":\"Number of Obligations\"})\n",
    "chart9= (_dla_utils.basic_bar_chart_no_save(chart_df, 'Prefix', 'Number of Obligations', 'Prefix', district))\n",
    "    \n",
    "display(HTML(\"<h4><strong>Most Used Prefix Codes</strong></h4>\"))\n",
    "display(chart9)\n",
    "    "
   ]
  },
  {
   "cell_type": "code",
   "execution_count": 13,
   "id": "3d21c9b2-833b-463a-9a03-a9c83d727d2e",
   "metadata": {},
   "outputs": [
    {
     "data": {
      "text/html": [
       "<h4><strong>Agencies With The Most Unique Prefix Codes</strong></h4>"
      ],
      "text/plain": [
       "<IPython.core.display.HTML object>"
      ]
     },
     "metadata": {},
     "output_type": "display_data"
    },
    {
     "data": {
      "text/html": [
       "\n",
       "<div id=\"altair-viz-a4e2a0737d454f15aafae2d6c3f6a642\"></div>\n",
       "<script type=\"text/javascript\">\n",
       "  var VEGA_DEBUG = (typeof VEGA_DEBUG == \"undefined\") ? {} : VEGA_DEBUG;\n",
       "  (function(spec, embedOpt){\n",
       "    let outputDiv = document.currentScript.previousElementSibling;\n",
       "    if (outputDiv.id !== \"altair-viz-a4e2a0737d454f15aafae2d6c3f6a642\") {\n",
       "      outputDiv = document.getElementById(\"altair-viz-a4e2a0737d454f15aafae2d6c3f6a642\");\n",
       "    }\n",
       "    const paths = {\n",
       "      \"vega\": \"https://cdn.jsdelivr.net/npm//vega@5?noext\",\n",
       "      \"vega-lib\": \"https://cdn.jsdelivr.net/npm//vega-lib?noext\",\n",
       "      \"vega-lite\": \"https://cdn.jsdelivr.net/npm//vega-lite@4.17.0?noext\",\n",
       "      \"vega-embed\": \"https://cdn.jsdelivr.net/npm//vega-embed@6?noext\",\n",
       "    };\n",
       "\n",
       "    function maybeLoadScript(lib, version) {\n",
       "      var key = `${lib.replace(\"-\", \"\")}_version`;\n",
       "      return (VEGA_DEBUG[key] == version) ?\n",
       "        Promise.resolve(paths[lib]) :\n",
       "        new Promise(function(resolve, reject) {\n",
       "          var s = document.createElement('script');\n",
       "          document.getElementsByTagName(\"head\")[0].appendChild(s);\n",
       "          s.async = true;\n",
       "          s.onload = () => {\n",
       "            VEGA_DEBUG[key] = version;\n",
       "            return resolve(paths[lib]);\n",
       "          };\n",
       "          s.onerror = () => reject(`Error loading script: ${paths[lib]}`);\n",
       "          s.src = paths[lib];\n",
       "        });\n",
       "    }\n",
       "\n",
       "    function showError(err) {\n",
       "      outputDiv.innerHTML = `<div class=\"error\" style=\"color:red;\">${err}</div>`;\n",
       "      throw err;\n",
       "    }\n",
       "\n",
       "    function displayChart(vegaEmbed) {\n",
       "      vegaEmbed(outputDiv, spec, embedOpt)\n",
       "        .catch(err => showError(`Javascript Error: ${err.message}<br>This usually means there's a typo in your chart specification. See the javascript console for the full traceback.`));\n",
       "    }\n",
       "\n",
       "    if(typeof define === \"function\" && define.amd) {\n",
       "      requirejs.config({paths});\n",
       "      require([\"vega-embed\"], displayChart, err => showError(`Error loading script: ${err.message}`));\n",
       "    } else {\n",
       "      maybeLoadScript(\"vega\", \"5\")\n",
       "        .then(() => maybeLoadScript(\"vega-lite\", \"4.17.0\"))\n",
       "        .then(() => maybeLoadScript(\"vega-embed\", \"6\"))\n",
       "        .catch(showError)\n",
       "        .then(() => displayChart(vegaEmbed));\n",
       "    }\n",
       "  })({\"config\": {\"view\": {\"continuousWidth\": 400, \"continuousHeight\": 300}, \"axis\": {\"domainColor\": \"#cbcbcb\", \"grid\": true, \"gridColor\": \"#cbcbcb\", \"gridWidth\": 1, \"labelColor\": \"#474747\", \"labelFont\": \"Nunito Sans\", \"labelFontSize\": 10, \"labelPadding\": 4, \"tickColor\": \"#cbcbcb\", \"tickSize\": 10, \"titleColor\": \"#333\", \"titleFont\": \"Raleway\", \"titleFontSize\": 12, \"titlePadding\": 10}, \"axisBand\": {\"grid\": false}, \"background\": \"white\", \"font\": \"Raleway\", \"header\": {\"labelFont\": \"Nunito Sans\", \"titleFont\": \"Raleway\"}, \"legend\": {\"labelColor\": \"#333\", \"labelFont\": \"Nunito Sans\", \"labelFontSize\": 11, \"labelLimit\": 0, \"padding\": 1, \"symbolSize\": 30, \"symbolType\": \"square\", \"titleColor\": \"#333\", \"titleFont\": \"Raleway\", \"titleFontSize\": 14, \"titlePadding\": 10}, \"title\": {\"anchor\": \"middle\", \"font\": \"Raleway\", \"fontSize\": 18, \"fontWeight\": 300, \"offset\": 20}}, \"data\": {\"name\": \"data-349d380901e5c625b780dae31a2f39c5\"}, \"mark\": \"bar\", \"encoding\": {\"color\": {\"field\": \"primary_agency_name\", \"legend\": {\"symbolLimit\": 10, \"title\": \"Agency\"}, \"scale\": {\"range\": [\"#2EA8CE\", \"#EB9F3C\", \"#F4D837\", \"#51BF9D\", \"#8CBCCB\", \"#9487C0\"]}, \"type\": \"nominal\"}, \"tooltip\": [{\"field\": \"primary_agency_name\", \"type\": \"nominal\"}, {\"field\": \"n\", \"type\": \"quantitative\"}], \"x\": {\"field\": \"primary_agency_name\", \"sort\": \"-y\", \"title\": \"Agency\", \"type\": \"nominal\"}, \"y\": {\"field\": \"n\", \"title\": \"Count\", \"type\": \"quantitative\"}}, \"height\": 250, \"width\": 400, \"$schema\": \"https://vega.github.io/schema/vega-lite/v4.17.0.json\", \"datasets\": {\"data-349d380901e5c625b780dae31a2f39c5\": [{\"primary_agency_name\": \"Contra Costa County\", \"n\": 18}, {\"primary_agency_name\": \"San Francisco County\", \"n\": 17}, {\"primary_agency_name\": \"San Jose\", \"n\": 17}, {\"primary_agency_name\": \"Santa Clara County\", \"n\": 17}, {\"primary_agency_name\": \"Alameda County\", \"n\": 16}, {\"primary_agency_name\": \"Sonoma County\", \"n\": 16}, {\"primary_agency_name\": \"Metropolitan Transportation Commission\", \"n\": 15}, {\"primary_agency_name\": \"Oakland\", \"n\": 15}, {\"primary_agency_name\": \"City & County of San Francisco, MTA/Parking & Traffic\", \"n\": 14}, {\"primary_agency_name\": \"Marin County\", \"n\": 13}, {\"primary_agency_name\": \"Santa Clara Valley Transportation Authority\", \"n\": 13}, {\"primary_agency_name\": \"Vallejo\", \"n\": 11}, {\"primary_agency_name\": \"Alameda County Transportation Commission\", \"n\": 10}, {\"primary_agency_name\": \"Solano County\", \"n\": 10}, {\"primary_agency_name\": \"Pleasant Hill\", \"n\": 9}, {\"primary_agency_name\": \"Sunnyvale\", \"n\": 9}, {\"primary_agency_name\": \"Alameda\", \"n\": 8}, {\"primary_agency_name\": \"Alameda County Congestion Management Agency\", \"n\": 8}, {\"primary_agency_name\": \"Fairfield\", \"n\": 8}, {\"primary_agency_name\": \"Golden Gate Bridge, Highway And Transportation Distri\", \"n\": 8}, {\"primary_agency_name\": \"Napa\", \"n\": 8}, {\"primary_agency_name\": \"Napa County\", \"n\": 8}, {\"primary_agency_name\": \"Richmond\", \"n\": 8}, {\"primary_agency_name\": \"San Francisco Bay Area Rapid Transit District\", \"n\": 8}, {\"primary_agency_name\": \"San Rafael\", \"n\": 8}, {\"primary_agency_name\": \"Santa Rosa\", \"n\": 8}, {\"primary_agency_name\": \"El Cerrito\", \"n\": 7}, {\"primary_agency_name\": \"San Mateo\", \"n\": 7}, {\"primary_agency_name\": \"Sonoma Marin Area Rail Transit District\", \"n\": 7}, {\"primary_agency_name\": \"South San Francisco\", \"n\": 7}]}}, {\"mode\": \"vega-lite\"});\n",
       "</script>"
      ],
      "text/plain": [
       "alt.Chart(...)"
      ]
     },
     "metadata": {},
     "output_type": "display_data"
    }
   ],
   "source": [
    "#Bar chart Agencies With The Most Unique Prefix Codes\n",
    "    \n",
    "chart3 = (_dla_utils.basic_bar_chart_no_save(((_dla_utils.get_nunique(df, 'prefix', 'primary_agency_name')).head(30)),\n",
    "                            'primary_agency_name', 'n', 'primary_agency_name', district))\n",
    "    \n",
    "display(HTML(\"<h4><strong>Agencies With The Most Unique Prefix Codes</strong></h4>\"))\n",
    "display(chart3)"
   ]
  },
  {
   "cell_type": "code",
   "execution_count": 14,
   "id": "8c744cb5-e4f5-4e8e-8cd8-c59641845299",
   "metadata": {},
   "outputs": [
    {
     "data": {
      "text/html": [
       "<h2>Funding Distribution</h2>"
      ],
      "text/plain": [
       "<IPython.core.display.HTML object>"
      ]
     },
     "metadata": {},
     "output_type": "display_data"
    }
   ],
   "source": [
    "display(HTML(\"<h2>Funding Distribution</h2>\"))"
   ]
  },
  {
   "cell_type": "code",
   "execution_count": 15,
   "id": "3745ca4d-8dd4-4c09-b46b-a2f6db6358ad",
   "metadata": {},
   "outputs": [
    {
     "data": {
      "text/html": [
       "<h4><strong>Average Total Requested Funds by Agency ($2021)</strong></h4>"
      ],
      "text/plain": [
       "<IPython.core.display.HTML object>"
      ]
     },
     "metadata": {},
     "output_type": "display_data"
    },
    {
     "data": {
      "text/html": [
       "\n",
       "<div id=\"altair-viz-0e8296be1dc34a1fa915e23cda3e9b5f\"></div>\n",
       "<script type=\"text/javascript\">\n",
       "  var VEGA_DEBUG = (typeof VEGA_DEBUG == \"undefined\") ? {} : VEGA_DEBUG;\n",
       "  (function(spec, embedOpt){\n",
       "    let outputDiv = document.currentScript.previousElementSibling;\n",
       "    if (outputDiv.id !== \"altair-viz-0e8296be1dc34a1fa915e23cda3e9b5f\") {\n",
       "      outputDiv = document.getElementById(\"altair-viz-0e8296be1dc34a1fa915e23cda3e9b5f\");\n",
       "    }\n",
       "    const paths = {\n",
       "      \"vega\": \"https://cdn.jsdelivr.net/npm//vega@5?noext\",\n",
       "      \"vega-lib\": \"https://cdn.jsdelivr.net/npm//vega-lib?noext\",\n",
       "      \"vega-lite\": \"https://cdn.jsdelivr.net/npm//vega-lite@4.17.0?noext\",\n",
       "      \"vega-embed\": \"https://cdn.jsdelivr.net/npm//vega-embed@6?noext\",\n",
       "    };\n",
       "\n",
       "    function maybeLoadScript(lib, version) {\n",
       "      var key = `${lib.replace(\"-\", \"\")}_version`;\n",
       "      return (VEGA_DEBUG[key] == version) ?\n",
       "        Promise.resolve(paths[lib]) :\n",
       "        new Promise(function(resolve, reject) {\n",
       "          var s = document.createElement('script');\n",
       "          document.getElementsByTagName(\"head\")[0].appendChild(s);\n",
       "          s.async = true;\n",
       "          s.onload = () => {\n",
       "            VEGA_DEBUG[key] = version;\n",
       "            return resolve(paths[lib]);\n",
       "          };\n",
       "          s.onerror = () => reject(`Error loading script: ${paths[lib]}`);\n",
       "          s.src = paths[lib];\n",
       "        });\n",
       "    }\n",
       "\n",
       "    function showError(err) {\n",
       "      outputDiv.innerHTML = `<div class=\"error\" style=\"color:red;\">${err}</div>`;\n",
       "      throw err;\n",
       "    }\n",
       "\n",
       "    function displayChart(vegaEmbed) {\n",
       "      vegaEmbed(outputDiv, spec, embedOpt)\n",
       "        .catch(err => showError(`Javascript Error: ${err.message}<br>This usually means there's a typo in your chart specification. See the javascript console for the full traceback.`));\n",
       "    }\n",
       "\n",
       "    if(typeof define === \"function\" && define.amd) {\n",
       "      requirejs.config({paths});\n",
       "      require([\"vega-embed\"], displayChart, err => showError(`Error loading script: ${err.message}`));\n",
       "    } else {\n",
       "      maybeLoadScript(\"vega\", \"5\")\n",
       "        .then(() => maybeLoadScript(\"vega-lite\", \"4.17.0\"))\n",
       "        .then(() => maybeLoadScript(\"vega-embed\", \"6\"))\n",
       "        .catch(showError)\n",
       "        .then(() => displayChart(vegaEmbed));\n",
       "    }\n",
       "  })({\"config\": {\"view\": {\"continuousWidth\": 400, \"continuousHeight\": 300}, \"axis\": {\"domainColor\": \"#cbcbcb\", \"grid\": true, \"gridColor\": \"#cbcbcb\", \"gridWidth\": 1, \"labelColor\": \"#474747\", \"labelFont\": \"Nunito Sans\", \"labelFontSize\": 10, \"labelPadding\": 4, \"tickColor\": \"#cbcbcb\", \"tickSize\": 10, \"titleColor\": \"#333\", \"titleFont\": \"Raleway\", \"titleFontSize\": 12, \"titlePadding\": 10}, \"axisBand\": {\"grid\": false}, \"background\": \"white\", \"font\": \"Raleway\", \"header\": {\"labelFont\": \"Nunito Sans\", \"titleFont\": \"Raleway\"}, \"legend\": {\"labelColor\": \"#333\", \"labelFont\": \"Nunito Sans\", \"labelFontSize\": 11, \"labelLimit\": 0, \"padding\": 1, \"symbolSize\": 30, \"symbolType\": \"square\", \"titleColor\": \"#333\", \"titleFont\": \"Raleway\", \"titleFontSize\": 14, \"titlePadding\": 10}, \"title\": {\"anchor\": \"middle\", \"font\": \"Raleway\", \"fontSize\": 18, \"fontWeight\": 300, \"offset\": 20}}, \"data\": {\"name\": \"data-5d070602646dbdfd7dbad70e92686ccd\"}, \"mark\": \"bar\", \"encoding\": {\"color\": {\"field\": \"primary_agency_name\", \"legend\": {\"symbolLimit\": 10, \"title\": \"Agency\"}, \"scale\": {\"range\": [\"#2EA8CE\", \"#EB9F3C\", \"#F4D837\", \"#51BF9D\", \"#8CBCCB\", \"#9487C0\"]}, \"type\": \"nominal\"}, \"tooltip\": [{\"field\": \"primary_agency_name\", \"type\": \"nominal\"}, {\"field\": \"adjusted_total_requested\", \"type\": \"quantitative\"}], \"x\": {\"field\": \"primary_agency_name\", \"sort\": \"-y\", \"title\": \"Agency\", \"type\": \"nominal\"}, \"y\": {\"field\": \"adjusted_total_requested\", \"title\": \"Adjusted Total Requested\", \"type\": \"quantitative\"}}, \"height\": 250, \"width\": 400, \"$schema\": \"https://vega.github.io/schema/vega-lite/v4.17.0.json\", \"datasets\": {\"data-5d070602646dbdfd7dbad70e92686ccd\": [{\"primary_agency_name\": \"La Jolla Band of Luiseno Indians\", \"adjusted_total_requested\": 7877447.510085349}, {\"primary_agency_name\": \"Caltrans\", \"adjusted_total_requested\": 7200866.508663196}, {\"primary_agency_name\": \"Golden Gate Bridge, Highway And Transportation Distri\", \"adjusted_total_requested\": 5312348.215439361}, {\"primary_agency_name\": \"San Francisco Bay Area Rapid Transit District\", \"adjusted_total_requested\": 4728710.344235635}, {\"primary_agency_name\": \"Alameda - Contra Costa Transit District\", \"adjusted_total_requested\": 4071873.1967900246}, {\"primary_agency_name\": \"San Francisco County\", \"adjusted_total_requested\": 3671402.126303573}, {\"primary_agency_name\": \"Belmont\", \"adjusted_total_requested\": 3013267.069260622}, {\"primary_agency_name\": \"Metropolitan Transportation Commission\", \"adjusted_total_requested\": 2656521.8392282897}, {\"primary_agency_name\": \"Napa Valley Transportation Authority\", \"adjusted_total_requested\": 2634244.293428272}, {\"primary_agency_name\": \"Alameda County Transportation Commission\", \"adjusted_total_requested\": 2480429.7119186674}, {\"primary_agency_name\": \"Larkspur\", \"adjusted_total_requested\": 2008763.4740926034}, {\"primary_agency_name\": \"San Francisco County Transportation Authority\", \"adjusted_total_requested\": 1908216.468473383}, {\"primary_agency_name\": \"Contra Costa Transportation Authority\", \"adjusted_total_requested\": 1846718.0845602741}, {\"primary_agency_name\": \"East Palo Alto\", \"adjusted_total_requested\": 1649833.6643088532}, {\"primary_agency_name\": \"Port of San Francisco\", \"adjusted_total_requested\": 1617689.7604029668}, {\"primary_agency_name\": \"Healdsburg\", \"adjusted_total_requested\": 1561188.8819585806}, {\"primary_agency_name\": \"Sonoma Marin Area Rail Transit District\", \"adjusted_total_requested\": 1512716.1834904836}, {\"primary_agency_name\": \"Metropolitan Transportation Commission - SAFE\", \"adjusted_total_requested\": 1511663.353550646}, {\"primary_agency_name\": \"San Francisco Bay Area Water Transit Authority\", \"adjusted_total_requested\": 1496461.7356790327}, {\"primary_agency_name\": \"San Pablo\", \"adjusted_total_requested\": 1399532.943630013}, {\"primary_agency_name\": \"Fairfield\", \"adjusted_total_requested\": 1302277.447243492}, {\"primary_agency_name\": \"Western Contra Costa Transit Authority\", \"adjusted_total_requested\": 1295883.005146624}, {\"primary_agency_name\": \"Calistoga\", \"adjusted_total_requested\": 1285845.194684056}, {\"primary_agency_name\": \"Morgan Hill\", \"adjusted_total_requested\": 1264783.0232990193}, {\"primary_agency_name\": \"Richmond\", \"adjusted_total_requested\": 1188334.969714571}, {\"primary_agency_name\": \"Bay Area Air Quality Management District\", \"adjusted_total_requested\": 1156260.885675769}, {\"primary_agency_name\": \"Colma\", \"adjusted_total_requested\": 1146915.3705764515}, {\"primary_agency_name\": \"Peninsula Joint Powers Board\", \"adjusted_total_requested\": 1096244.0408426924}, {\"primary_agency_name\": \"Corte Madera\", \"adjusted_total_requested\": 1084937.8520869836}, {\"primary_agency_name\": \"City & County of San Francisco, MTA/Parking & Traffic\", \"adjusted_total_requested\": 1058727.8748600346}]}}, {\"mode\": \"vega-lite\"});\n",
       "</script>"
      ],
      "text/plain": [
       "alt.Chart(...)"
      ]
     },
     "metadata": {},
     "output_type": "display_data"
    }
   ],
   "source": [
    "#Bar chart Average Total Requested Funds by Agency\n",
    "chart4=(_dla_utils.basic_bar_chart_no_save((((_dla_utils.calculate_data_all(df, 'adjusted_total_requested', 'primary_agency_name', aggfunc=\"mean\"))\n",
    "                          >>arrange(-_.adjusted_total_requested)).head(30)\n",
    "                        ), 'primary_agency_name','adjusted_total_requested', 'primary_agency_name', district\n",
    "                          \n",
    "                       ))\n",
    "    \n",
    "display(HTML(\"<h4><strong>Average Total Requested Funds by Agency ($2021)</strong></h4>\"))\n",
    "display(chart4)"
   ]
  },
  {
   "cell_type": "code",
   "execution_count": 16,
   "id": "ce18a74b-9908-40f8-84f1-806552936465",
   "metadata": {},
   "outputs": [
    {
     "data": {
      "text/html": [
       "<h4><strong>Lowest Average Total Funds by Agency ($2021)</strong></h4>"
      ],
      "text/plain": [
       "<IPython.core.display.HTML object>"
      ]
     },
     "metadata": {},
     "output_type": "display_data"
    },
    {
     "data": {
      "text/html": [
       "\n",
       "<div id=\"altair-viz-fb0ff76f30414d16acf24f43f45f35a5\"></div>\n",
       "<script type=\"text/javascript\">\n",
       "  var VEGA_DEBUG = (typeof VEGA_DEBUG == \"undefined\") ? {} : VEGA_DEBUG;\n",
       "  (function(spec, embedOpt){\n",
       "    let outputDiv = document.currentScript.previousElementSibling;\n",
       "    if (outputDiv.id !== \"altair-viz-fb0ff76f30414d16acf24f43f45f35a5\") {\n",
       "      outputDiv = document.getElementById(\"altair-viz-fb0ff76f30414d16acf24f43f45f35a5\");\n",
       "    }\n",
       "    const paths = {\n",
       "      \"vega\": \"https://cdn.jsdelivr.net/npm//vega@5?noext\",\n",
       "      \"vega-lib\": \"https://cdn.jsdelivr.net/npm//vega-lib?noext\",\n",
       "      \"vega-lite\": \"https://cdn.jsdelivr.net/npm//vega-lite@4.17.0?noext\",\n",
       "      \"vega-embed\": \"https://cdn.jsdelivr.net/npm//vega-embed@6?noext\",\n",
       "    };\n",
       "\n",
       "    function maybeLoadScript(lib, version) {\n",
       "      var key = `${lib.replace(\"-\", \"\")}_version`;\n",
       "      return (VEGA_DEBUG[key] == version) ?\n",
       "        Promise.resolve(paths[lib]) :\n",
       "        new Promise(function(resolve, reject) {\n",
       "          var s = document.createElement('script');\n",
       "          document.getElementsByTagName(\"head\")[0].appendChild(s);\n",
       "          s.async = true;\n",
       "          s.onload = () => {\n",
       "            VEGA_DEBUG[key] = version;\n",
       "            return resolve(paths[lib]);\n",
       "          };\n",
       "          s.onerror = () => reject(`Error loading script: ${paths[lib]}`);\n",
       "          s.src = paths[lib];\n",
       "        });\n",
       "    }\n",
       "\n",
       "    function showError(err) {\n",
       "      outputDiv.innerHTML = `<div class=\"error\" style=\"color:red;\">${err}</div>`;\n",
       "      throw err;\n",
       "    }\n",
       "\n",
       "    function displayChart(vegaEmbed) {\n",
       "      vegaEmbed(outputDiv, spec, embedOpt)\n",
       "        .catch(err => showError(`Javascript Error: ${err.message}<br>This usually means there's a typo in your chart specification. See the javascript console for the full traceback.`));\n",
       "    }\n",
       "\n",
       "    if(typeof define === \"function\" && define.amd) {\n",
       "      requirejs.config({paths});\n",
       "      require([\"vega-embed\"], displayChart, err => showError(`Error loading script: ${err.message}`));\n",
       "    } else {\n",
       "      maybeLoadScript(\"vega\", \"5\")\n",
       "        .then(() => maybeLoadScript(\"vega-lite\", \"4.17.0\"))\n",
       "        .then(() => maybeLoadScript(\"vega-embed\", \"6\"))\n",
       "        .catch(showError)\n",
       "        .then(() => displayChart(vegaEmbed));\n",
       "    }\n",
       "  })({\"config\": {\"view\": {\"continuousWidth\": 400, \"continuousHeight\": 300}, \"axis\": {\"domainColor\": \"#cbcbcb\", \"grid\": true, \"gridColor\": \"#cbcbcb\", \"gridWidth\": 1, \"labelColor\": \"#474747\", \"labelFont\": \"Nunito Sans\", \"labelFontSize\": 10, \"labelPadding\": 4, \"tickColor\": \"#cbcbcb\", \"tickSize\": 10, \"titleColor\": \"#333\", \"titleFont\": \"Raleway\", \"titleFontSize\": 12, \"titlePadding\": 10}, \"axisBand\": {\"grid\": false}, \"background\": \"white\", \"font\": \"Raleway\", \"header\": {\"labelFont\": \"Nunito Sans\", \"titleFont\": \"Raleway\"}, \"legend\": {\"labelColor\": \"#333\", \"labelFont\": \"Nunito Sans\", \"labelFontSize\": 11, \"labelLimit\": 0, \"padding\": 1, \"symbolSize\": 30, \"symbolType\": \"square\", \"titleColor\": \"#333\", \"titleFont\": \"Raleway\", \"titleFontSize\": 14, \"titlePadding\": 10}, \"title\": {\"anchor\": \"middle\", \"font\": \"Raleway\", \"fontSize\": 18, \"fontWeight\": 300, \"offset\": 20}}, \"data\": {\"name\": \"data-91f5bdadb4533104dec3e0d02558c3de\"}, \"mark\": \"bar\", \"encoding\": {\"color\": {\"field\": \"primary_agency_name\", \"legend\": {\"symbolLimit\": 10, \"title\": \"Agency\"}, \"scale\": {\"range\": [\"#2EA8CE\", \"#EB9F3C\", \"#F4D837\", \"#51BF9D\", \"#8CBCCB\", \"#9487C0\"]}, \"type\": \"nominal\"}, \"tooltip\": [{\"field\": \"primary_agency_name\", \"type\": \"nominal\"}, {\"field\": \"avg_funds\", \"type\": \"quantitative\"}], \"x\": {\"field\": \"primary_agency_name\", \"sort\": \"-y\", \"title\": \"Agency\", \"type\": \"nominal\"}, \"y\": {\"field\": \"avg_funds\", \"title\": \"Avg Funds\", \"type\": \"quantitative\"}}, \"height\": 250, \"width\": 400, \"$schema\": \"https://vega.github.io/schema/vega-lite/v4.17.0.json\", \"datasets\": {\"data-91f5bdadb4533104dec3e0d02558c3de\": [{\"primary_agency_name\": \"San Carlos\", \"avg_funds\": 195352.6449073997}, {\"primary_agency_name\": \"Piedmont\", \"avg_funds\": 190760.41726856382}, {\"primary_agency_name\": \"Atherton\", \"avg_funds\": 189021.4817482291}, {\"primary_agency_name\": \"Half Moon Bay\", \"avg_funds\": 183097.36457084562}, {\"primary_agency_name\": \"American Canyon\", \"avg_funds\": 181783.35619090492}, {\"primary_agency_name\": \"Newark\", \"avg_funds\": 168067.58473936436}, {\"primary_agency_name\": \"Dixon\", \"avg_funds\": 159895.18332872592}, {\"primary_agency_name\": \"Sausalito\", \"avg_funds\": 157473.10502418404}, {\"primary_agency_name\": \"Martinez\", \"avg_funds\": 156009.86914391367}, {\"primary_agency_name\": \"Union City\", \"avg_funds\": 155611.1086336373}, {\"primary_agency_name\": \"Los Gatos\", \"avg_funds\": 155434.17508708214}, {\"primary_agency_name\": \"Central Contra Costa Transit Authority\", \"avg_funds\": 154217.75605234606}, {\"primary_agency_name\": \"San Bruno\", \"avg_funds\": 152407.82923896099}, {\"primary_agency_name\": \"Suisun City\", \"avg_funds\": 151418.50574405276}, {\"primary_agency_name\": \"Benicia\", \"avg_funds\": 147780.2993583272}, {\"primary_agency_name\": \"San Leandro\", \"avg_funds\": 141063.9265435573}, {\"primary_agency_name\": \"Marin County Transit District\", \"avg_funds\": 133607.7554954071}, {\"primary_agency_name\": \"Los Altos Hills\", \"avg_funds\": 126359.46557868482}, {\"primary_agency_name\": \"Lafayette\", \"avg_funds\": 113795.81923695427}, {\"primary_agency_name\": \"Brisbane\", \"avg_funds\": 112588.71503767227}, {\"primary_agency_name\": \"Mill Valley\", \"avg_funds\": 109664.46894297254}, {\"primary_agency_name\": \"Yountville\", \"avg_funds\": 84679.82503576957}, {\"primary_agency_name\": \"Portola Valley\", \"avg_funds\": 67766.31412368998}, {\"primary_agency_name\": \"Ross\", \"avg_funds\": 67288.6177957387}, {\"primary_agency_name\": \"Monte Sereno\", \"avg_funds\": 67187.74602751632}, {\"primary_agency_name\": \"University Of California\", \"avg_funds\": 57010.98024172055}, {\"primary_agency_name\": \"Rio Vista\", \"avg_funds\": 54416.69340448155}, {\"primary_agency_name\": \"San Anselmo\", \"avg_funds\": 45621.3531559128}, {\"primary_agency_name\": \"Sebastopol\", \"avg_funds\": 43484.853863406526}, {\"primary_agency_name\": \"Cloverdale\", \"avg_funds\": 39069.59647595368}, {\"primary_agency_name\": \"St Helena\", \"avg_funds\": 37096.32723603044}, {\"primary_agency_name\": \"Albany\", \"avg_funds\": 36486.32899944957}, {\"primary_agency_name\": \"Department of Parks and Recreation\", \"avg_funds\": 5390.479102014346}, {\"primary_agency_name\": \"Napa County Office of Education\", \"avg_funds\": 2289.2037464298137}, {\"primary_agency_name\": \"Alameda County Transportation Improvement Authority\", \"avg_funds\": 0.0}, {\"primary_agency_name\": \"Alameda County Waste Management Authority\", \"avg_funds\": 0.0}, {\"primary_agency_name\": \"Santa Cruz\", \"avg_funds\": -1527.5478423239308}, {\"primary_agency_name\": \"University of California at San Francisco\", \"avg_funds\": -6367.502687761783}, {\"primary_agency_name\": \"Santa Clara Valley Transportation Authority\", \"avg_funds\": -227992.34193115283}, {\"primary_agency_name\": \"Port Of Oakland\", \"avg_funds\": -325706.2192806022}]}}, {\"mode\": \"vega-lite\"});\n",
       "</script>"
      ],
      "text/plain": [
       "alt.Chart(...)"
      ]
     },
     "metadata": {},
     "output_type": "display_data"
    }
   ],
   "source": [
    "#Bar chart Bottom Average Total Requested Funds by Agency\n",
    "avg_funds_bottom = (df>>group_by(_.primary_agency_name)>>summarize(avg_funds=_.adjusted_total_requested.mean())>>arrange(-_.avg_funds)).tail(50)\n",
    "\n",
    "chart5=( _dla_utils.basic_bar_chart_no_save((avg_funds_bottom.tail(40)), 'primary_agency_name','avg_funds', 'primary_agency_name', district))\n",
    "    \n",
    "display(HTML(\"<h4><strong>Lowest Average Total Funds by Agency ($2021)</strong></h4>\"))\n",
    "display(chart5)"
   ]
  },
  {
   "cell_type": "code",
   "execution_count": 17,
   "id": "d18938e5-6fc5-4e53-87b2-7140df57e5a0",
   "metadata": {},
   "outputs": [
    {
     "data": {
      "text/html": [
       "<h4><strong>Average Total Requested Funds by Prefix ($2021)</strong></h4>"
      ],
      "text/plain": [
       "<IPython.core.display.HTML object>"
      ]
     },
     "metadata": {},
     "output_type": "display_data"
    },
    {
     "data": {
      "text/html": [
       "\n",
       "<div id=\"altair-viz-56c6f9a2c9f44cdfad8153b4d927c2cb\"></div>\n",
       "<script type=\"text/javascript\">\n",
       "  var VEGA_DEBUG = (typeof VEGA_DEBUG == \"undefined\") ? {} : VEGA_DEBUG;\n",
       "  (function(spec, embedOpt){\n",
       "    let outputDiv = document.currentScript.previousElementSibling;\n",
       "    if (outputDiv.id !== \"altair-viz-56c6f9a2c9f44cdfad8153b4d927c2cb\") {\n",
       "      outputDiv = document.getElementById(\"altair-viz-56c6f9a2c9f44cdfad8153b4d927c2cb\");\n",
       "    }\n",
       "    const paths = {\n",
       "      \"vega\": \"https://cdn.jsdelivr.net/npm//vega@5?noext\",\n",
       "      \"vega-lib\": \"https://cdn.jsdelivr.net/npm//vega-lib?noext\",\n",
       "      \"vega-lite\": \"https://cdn.jsdelivr.net/npm//vega-lite@4.17.0?noext\",\n",
       "      \"vega-embed\": \"https://cdn.jsdelivr.net/npm//vega-embed@6?noext\",\n",
       "    };\n",
       "\n",
       "    function maybeLoadScript(lib, version) {\n",
       "      var key = `${lib.replace(\"-\", \"\")}_version`;\n",
       "      return (VEGA_DEBUG[key] == version) ?\n",
       "        Promise.resolve(paths[lib]) :\n",
       "        new Promise(function(resolve, reject) {\n",
       "          var s = document.createElement('script');\n",
       "          document.getElementsByTagName(\"head\")[0].appendChild(s);\n",
       "          s.async = true;\n",
       "          s.onload = () => {\n",
       "            VEGA_DEBUG[key] = version;\n",
       "            return resolve(paths[lib]);\n",
       "          };\n",
       "          s.onerror = () => reject(`Error loading script: ${paths[lib]}`);\n",
       "          s.src = paths[lib];\n",
       "        });\n",
       "    }\n",
       "\n",
       "    function showError(err) {\n",
       "      outputDiv.innerHTML = `<div class=\"error\" style=\"color:red;\">${err}</div>`;\n",
       "      throw err;\n",
       "    }\n",
       "\n",
       "    function displayChart(vegaEmbed) {\n",
       "      vegaEmbed(outputDiv, spec, embedOpt)\n",
       "        .catch(err => showError(`Javascript Error: ${err.message}<br>This usually means there's a typo in your chart specification. See the javascript console for the full traceback.`));\n",
       "    }\n",
       "\n",
       "    if(typeof define === \"function\" && define.amd) {\n",
       "      requirejs.config({paths});\n",
       "      require([\"vega-embed\"], displayChart, err => showError(`Error loading script: ${err.message}`));\n",
       "    } else {\n",
       "      maybeLoadScript(\"vega\", \"5\")\n",
       "        .then(() => maybeLoadScript(\"vega-lite\", \"4.17.0\"))\n",
       "        .then(() => maybeLoadScript(\"vega-embed\", \"6\"))\n",
       "        .catch(showError)\n",
       "        .then(() => displayChart(vegaEmbed));\n",
       "    }\n",
       "  })({\"config\": {\"view\": {\"continuousWidth\": 400, \"continuousHeight\": 300}, \"axis\": {\"domainColor\": \"#cbcbcb\", \"grid\": true, \"gridColor\": \"#cbcbcb\", \"gridWidth\": 1, \"labelColor\": \"#474747\", \"labelFont\": \"Nunito Sans\", \"labelFontSize\": 10, \"labelPadding\": 4, \"tickColor\": \"#cbcbcb\", \"tickSize\": 10, \"titleColor\": \"#333\", \"titleFont\": \"Raleway\", \"titleFontSize\": 12, \"titlePadding\": 10}, \"axisBand\": {\"grid\": false}, \"background\": \"white\", \"font\": \"Raleway\", \"header\": {\"labelFont\": \"Nunito Sans\", \"titleFont\": \"Raleway\"}, \"legend\": {\"labelColor\": \"#333\", \"labelFont\": \"Nunito Sans\", \"labelFontSize\": 11, \"labelLimit\": 0, \"padding\": 1, \"symbolSize\": 30, \"symbolType\": \"square\", \"titleColor\": \"#333\", \"titleFont\": \"Raleway\", \"titleFontSize\": 14, \"titlePadding\": 10}, \"title\": {\"anchor\": \"middle\", \"font\": \"Raleway\", \"fontSize\": 18, \"fontWeight\": 300, \"offset\": 20}}, \"data\": {\"name\": \"data-32168dff16e007a6cfedb5959c36442f\"}, \"mark\": \"bar\", \"encoding\": {\"color\": {\"field\": \"prefix\", \"legend\": {\"symbolLimit\": 10, \"title\": \"Prefix\"}, \"scale\": {\"range\": [\"#2EA8CE\", \"#EB9F3C\", \"#F4D837\", \"#51BF9D\", \"#8CBCCB\", \"#9487C0\"]}, \"type\": \"nominal\"}, \"tooltip\": [{\"field\": \"prefix\", \"type\": \"nominal\"}, {\"field\": \"adjusted_total_requested\", \"type\": \"quantitative\"}], \"x\": {\"field\": \"prefix\", \"sort\": \"-y\", \"title\": \"Prefix\", \"type\": \"nominal\"}, \"y\": {\"field\": \"adjusted_total_requested\", \"title\": \"Adjusted Total Requested\", \"type\": \"quantitative\"}}, \"height\": 250, \"width\": 400, \"$schema\": \"https://vega.github.io/schema/vega-lite/v4.17.0.json\", \"datasets\": {\"data-32168dff16e007a6cfedb5959c36442f\": [{\"prefix\": \"BUILDL\", \"adjusted_total_requested\": 100043553.12716283}, {\"prefix\": \"NCIIPL\", \"adjusted_total_requested\": 31030822.136926275}, {\"prefix\": \"ATCMTD\", \"adjusted_total_requested\": 23274080.53390696}, {\"prefix\": \"ESPLEH\", \"adjusted_total_requested\": 22793698.273744546}, {\"prefix\": \"FTASTPCM\", \"adjusted_total_requested\": 9244428.96573825}, {\"prefix\": \"HPLUN\", \"adjusted_total_requested\": 9022468.88374991}, {\"prefix\": \"FERPL\", \"adjusted_total_requested\": 8784520.256495953}, {\"prefix\": \"ESPSEH\", \"adjusted_total_requested\": 6979458.783465311}, {\"prefix\": \"FTACML\", \"adjusted_total_requested\": 6330609.048928619}, {\"prefix\": \"BHLS\", \"adjusted_total_requested\": 4872829.291311794}, {\"prefix\": \"FTACRRSA\", \"adjusted_total_requested\": 4335003.691867984}, {\"prefix\": \"FTAFERPL\", \"adjusted_total_requested\": 3543087.546328245}, {\"prefix\": \"STPLNI\", \"adjusted_total_requested\": 2888447.7670971584}, {\"prefix\": \"STP\", \"adjusted_total_requested\": 2625815.8366951165}, {\"prefix\": \"TCESB1L\", \"adjusted_total_requested\": 2451624.9202911104}, {\"prefix\": \"FTACMSPL\", \"adjusted_total_requested\": 2439230.897893468}, {\"prefix\": \"ATPSB1L\", \"adjusted_total_requested\": 2239865.8713008775}, {\"prefix\": \"LPPSTPL\", \"adjusted_total_requested\": 2212779.799503621}, {\"prefix\": \"BRLZ\", \"adjusted_total_requested\": 1850302.659280733}, {\"prefix\": \"ATPL\", \"adjusted_total_requested\": 1663736.6121835557}, {\"prefix\": \"FTASTPL\", \"adjusted_total_requested\": 1652360.8974094172}, {\"prefix\": \"HP21L\", \"adjusted_total_requested\": 1442323.3873705992}, {\"prefix\": \"FTAATP\", \"adjusted_total_requested\": 1436033.4443832503}, {\"prefix\": \"STPLR\", \"adjusted_total_requested\": 1346890.1934756166}, {\"prefix\": \"STPLZ\", \"adjusted_total_requested\": 1297543.3696077708}, {\"prefix\": \"TCSPCM\", \"adjusted_total_requested\": 1207841.576513245}, {\"prefix\": \"ATPHSIP\", \"adjusted_total_requested\": 1205629.5794587855}, {\"prefix\": \"BRLS\", \"adjusted_total_requested\": 1201146.0527447409}, {\"prefix\": \"CMSTPL\", \"adjusted_total_requested\": 1178893.2241298074}, {\"prefix\": \"FTASTPCML\", \"adjusted_total_requested\": 1150000.979388277}]}}, {\"mode\": \"vega-lite\"});\n",
       "</script>"
      ],
      "text/plain": [
       "alt.Chart(...)"
      ]
     },
     "metadata": {},
     "output_type": "display_data"
    }
   ],
   "source": [
    "# Bar chart Average Total Requested Funds by Prefix\n",
    "chart8 = (_dla_utils.basic_bar_chart_no_save((((_dla_utils.calculate_data_all(df, 'adjusted_total_requested', 'prefix', aggfunc=\"mean\"))\n",
    "                          >>arrange(-_.adjusted_total_requested)).head(30)), 'prefix','adjusted_total_requested', 'prefix', district\n",
    "                       ))\n",
    "    \n",
    "display(HTML(\"<h4><strong>Average Total Requested Funds by Prefix ($2021)</strong></h4>\"))\n",
    "display(chart8)\n",
    "    "
   ]
  },
  {
   "cell_type": "code",
   "execution_count": 18,
   "id": "fba57d98-39a1-4a63-bc94-cecf0841aa75",
   "metadata": {},
   "outputs": [
    {
     "data": {
      "text/html": [
       "<h2>Work Categories</h2>"
      ],
      "text/plain": [
       "<IPython.core.display.HTML object>"
      ]
     },
     "metadata": {},
     "output_type": "display_data"
    }
   ],
   "source": [
    "#work categories info and charts\n",
    "display(HTML(\"<h2>Work Categories</h2>\"))"
   ]
  },
  {
   "cell_type": "code",
   "execution_count": 23,
   "id": "cb2f6ba9-df0b-495e-82c5-54743d879743",
   "metadata": {},
   "outputs": [
    {
     "data": {
      "application/vnd.jupyter.widget-view+json": {
       "model_id": "f65196e027b54b2aadf54d6b318570a6",
       "version_major": 2,
       "version_minor": 0
      },
      "text/plain": [
       "Tab(children=(Output(), Output(), Output(), Output(), Output(), Output(), Output()), _titles={'0': 'Active Tra…"
      ]
     },
     "metadata": {},
     "output_type": "display_data"
    },
    {
     "name": "stderr",
     "output_type": "stream",
     "text": [
      "E0420 21:37:30.780389686    4600 fork_posix.cc:70]           Fork support is only compatible with the epoll1 and poll polling strategies\n",
      "E0420 21:37:30.804653516    4600 fork_posix.cc:70]           Fork support is only compatible with the epoll1 and poll polling strategies\n",
      "E0420 21:37:30.829419762    4600 fork_posix.cc:70]           Fork support is only compatible with the epoll1 and poll polling strategies\n",
      "E0420 21:37:31.170382813    4600 fork_posix.cc:70]           Fork support is only compatible with the epoll1 and poll polling strategies\n"
     ]
    },
    {
     "data": {
      "application/vnd.jupyter.widget-view+json": {
       "model_id": "aab40721c38e4d59831ee933f20b8c1a",
       "version_major": 2,
       "version_minor": 0
      },
      "text/plain": [
       "HTML(value='<h3> Top Agencies using Active Transportation Projects </h3>')"
      ]
     },
     "metadata": {},
     "output_type": "display_data"
    },
    {
     "data": {
      "text/html": [
       "<style type=\"text/css\">\n",
       "</style>\n",
       "<table id=\"T_9f99b\">\n",
       "  <thead>\n",
       "    <tr>\n",
       "      <th class=\"blank level0\" >&nbsp;</th>\n",
       "      <th id=\"T_9f99b_level0_col0\" class=\"col_heading level0 col0\" >Agency</th>\n",
       "      <th id=\"T_9f99b_level0_col1\" class=\"col_heading level0 col1\" >Active Transportation Obligations</th>\n",
       "      <th id=\"T_9f99b_level0_col2\" class=\"col_heading level0 col2\" >Percent of Category</th>\n",
       "    </tr>\n",
       "  </thead>\n",
       "  <tbody>\n",
       "    <tr>\n",
       "      <th id=\"T_9f99b_level0_row0\" class=\"row_heading level0 row0\" >0</th>\n",
       "      <td id=\"T_9f99b_row0_col0\" class=\"data row0 col0\" >San Jose</td>\n",
       "      <td id=\"T_9f99b_row0_col1\" class=\"data row0 col1\" >79</td>\n",
       "      <td id=\"T_9f99b_row0_col2\" class=\"data row0 col2\" >7.35%</td>\n",
       "    </tr>\n",
       "    <tr>\n",
       "      <th id=\"T_9f99b_level0_row1\" class=\"row_heading level0 row1\" >1</th>\n",
       "      <td id=\"T_9f99b_row1_col0\" class=\"data row1 col0\" >Oakland</td>\n",
       "      <td id=\"T_9f99b_row1_col1\" class=\"data row1 col1\" >65</td>\n",
       "      <td id=\"T_9f99b_row1_col2\" class=\"data row1 col2\" >6.05%</td>\n",
       "    </tr>\n",
       "    <tr>\n",
       "      <th id=\"T_9f99b_level0_row2\" class=\"row_heading level0 row2\" >2</th>\n",
       "      <td id=\"T_9f99b_row2_col0\" class=\"data row2 col0\" >City & County of San Francisco, MTA/Parking & Traffic</td>\n",
       "      <td id=\"T_9f99b_row2_col1\" class=\"data row2 col1\" >46</td>\n",
       "      <td id=\"T_9f99b_row2_col2\" class=\"data row2 col2\" >4.28%</td>\n",
       "    </tr>\n",
       "    <tr>\n",
       "      <th id=\"T_9f99b_level0_row3\" class=\"row_heading level0 row3\" >3</th>\n",
       "      <td id=\"T_9f99b_row3_col0\" class=\"data row3 col0\" >Sunnyvale</td>\n",
       "      <td id=\"T_9f99b_row3_col1\" class=\"data row3 col1\" >45</td>\n",
       "      <td id=\"T_9f99b_row3_col2\" class=\"data row3 col2\" >4.19%</td>\n",
       "    </tr>\n",
       "    <tr>\n",
       "      <th id=\"T_9f99b_level0_row4\" class=\"row_heading level0 row4\" >4</th>\n",
       "      <td id=\"T_9f99b_row4_col0\" class=\"data row4 col0\" >Contra Costa County</td>\n",
       "      <td id=\"T_9f99b_row4_col1\" class=\"data row4 col1\" >39</td>\n",
       "      <td id=\"T_9f99b_row4_col2\" class=\"data row4 col2\" >3.63%</td>\n",
       "    </tr>\n",
       "  </tbody>\n",
       "</table>\n"
      ],
      "text/plain": [
       "<pandas.io.formats.style.Styler at 0x7ff9f02aadc0>"
      ]
     },
     "metadata": {},
     "output_type": "display_data"
    }
   ],
   "source": [
    " # code help: https://stackoverflow.com/questions/50842160/how-to-display-matplotlib-plots-in-a-jupyter-tab-widget\n",
    "    \n",
    "work_cat = ['active_transp', 'transit', 'bridge', 'street','freeway', 'infra_resiliency_er','congestion_relief']\n",
    "\n",
    "out1 = widgets.Output()\n",
    "out2 = widgets.Output()\n",
    "out3 = widgets.Output()\n",
    "out4 = widgets.Output()\n",
    "out5 = widgets.Output()\n",
    "out6 = widgets.Output()\n",
    "out7 = widgets.Output()\n",
    "\n",
    "    # children2 = [widgets.Text(description=name) for name in work_cat]\n",
    "    # tab2 = widgets.Tab(children2)\n",
    "tab2 = widgets.Tab(children = [out1, out2, out3, out4, out5, out6, out7])\n",
    "\n",
    "for ii in enumerate(work_cat): \n",
    "    tab2.set_title(ii[0], f\"{_dla_utils.labeling(ii[1])}\")\n",
    "\n",
    "display(tab2)\n",
    "    \n",
    "    \n",
    "# with out1:\n",
    "#     _dla_utils.project_cat(df, 'active_transp', district) \n",
    "\n",
    "out1.append_display_data(_dla_utils.project_cat(df, 'active_transp', district))\n",
    "out1.append_display_data(Image(filename=(f'./chart_outputs/project_cat/bar_{district}_active_transp.png')))\n",
    "\n",
    "with out2:\n",
    "     _dla_utils.project_cat(df, 'transit', district)\n",
    "with out3: \n",
    "     _dla_utils.project_cat(df, 'bridge', district)\n",
    "with out4:\n",
    "    _dla_utils.project_cat(df, 'street', district)\n",
    "with out5:\n",
    "     _dla_utils.project_cat(df, 'freeway', district)\n",
    "with out6:\n",
    "    _dla_utils.project_cat(df, 'infra_resiliency_er', district)\n",
    "with out7:\n",
    "    _dla_utils.project_cat(df, 'congestion_relief', district)\n",
    "    "
   ]
  },
  {
   "cell_type": "code",
   "execution_count": null,
   "id": "d0a253bb-00a4-45d7-875b-7a39bb794219",
   "metadata": {},
   "outputs": [],
   "source": []
  },
  {
   "cell_type": "code",
   "execution_count": 20,
   "id": "b4562eb7-a3e1-4829-a23c-058f2f0e30d9",
   "metadata": {},
   "outputs": [
    {
     "data": {
      "application/vnd.jupyter.widget-view+json": {
       "model_id": "4e493c66ae2a42bb82acaac3c7b9c511",
       "version_major": 2,
       "version_minor": 0
      },
      "text/plain": [
       "Tab(children=(VBox(children=(Output(),)),))"
      ]
     },
     "metadata": {},
     "output_type": "display_data"
    }
   ],
   "source": [
    "# work_cat = ['active_transp', 'transit', 'bridge', 'street','freeway', 'infra_resiliency_er','congestion_relief']\n",
    "\n",
    "# out1 = widgets.Output()\n",
    "# out2 = widgets.Output()\n",
    "# out3 = widgets.Output()\n",
    "# out4 = widgets.Output()\n",
    "# out5 = widgets.Output()\n",
    "# out6 = widgets.Output()\n",
    "# out7 = widgets.Output()\n",
    "\n",
    "# tab2 = widgets.Tab(children = [out1, out2, out3, out4, out5, out6, out7])\n",
    "\n",
    "# for ii in enumerate(work_cat): \n",
    "#     tab2.set_title(ii[0], f\"{_dla_utils.labeling(ii[1])}\")\n",
    "\n",
    "# display(tab2)\n",
    "    \n",
    "# with out1:\n",
    "#     _dla_utils.project_cat(df, 'active_transp', district) \n",
    "# with out2:\n",
    "#      _dla_utils.project_cat(df, 'transit', district)\n",
    "# with out3: \n",
    "#      _dla_utils.project_cat(df, 'bridge', district)\n",
    "# with out4:\n",
    "#     _dla_utils.project_cat(df, 'street', district)\n",
    "# with out5:\n",
    "#      _dla_utils.project_cat(df, 'freeway', district)\n",
    "# with out6:\n",
    "#     _dla_utils.project_cat(df, 'infra_resiliency_er', district)\n",
    "# with out7:\n",
    "#     _dla_utils.project_cat(df, 'congestion_relief', district)\n",
    "    \n",
    "    \n",
    "## https://medium.com/analytics-vidhya/how-to-use-python-to-build-an-image-display-app-in-jupyter-notebook-337c4fd3775f\n",
    "def show_im():\n",
    "    CSS = \"\"\"\n",
    "    .output {\n",
    "        flex-direction: row;\n",
    "    }\n",
    "    \"\"\"\n",
    "    HTML('<style>{}</style>'.format(CSS))\n",
    "\n",
    "def image_viewer(district, i): \n",
    "    image_grid = Image(filename=(f'./chart_outputs/project_cat/bar_{district}_{i}.png'))\n",
    "    #image_grid_html = HTML(image_grid.to_html(escape=False ,formatters=dict(a=path_to_image_html, \n",
    "    #b=path_to_image_html)))\n",
    "    #display(image_grid_html)\n",
    "    show_im()    \n",
    "    \n",
    "\n",
    "tab_nest = widgets.Tab()\n",
    "\n",
    "\n",
    "#interact function in isolation\n",
    "\n",
    "image = (image_viewer(district, 'active_transp'))\n",
    "f1 = interactive(image);\n",
    "tab_nest.children = [widgets.VBox(children = f1.children)]\n",
    "display(tab_nest)"
   ]
  },
  {
   "cell_type": "code",
   "execution_count": 21,
   "id": "8b015c8d-378b-456e-b486-f8b1f5446a21",
   "metadata": {},
   "outputs": [
    {
     "data": {
      "image/png": "[encoded data removed]",
      "text/plain": [
       "<IPython.core.display.Image object>"
      ]
     },
     "execution_count": 21,
     "metadata": {},
     "output_type": "execute_result"
    }
   ],
   "source": [
    "Image(filename=('./chart_outputs/project_cat/bar_4_active_transp.png'))"
   ]
  },
  {
   "cell_type": "code",
   "execution_count": null,
   "id": "47213b64-555f-4e09-9b1d-fae403f8f595",
   "metadata": {},
   "outputs": [],
   "source": []
  },
  {
   "cell_type": "code",
   "execution_count": null,
   "id": "3925b8ed-1cd0-4479-9f6d-4f461ffd70ae",
   "metadata": {},
   "outputs": [],
   "source": []
  },
  {
   "cell_type": "markdown",
   "id": "ef843f4c-9e23-4f17-9e63-28f98442d579",
   "metadata": {},
   "source": [
    "![pic](./chart_outputs/project_cat/bar_4_active_transp.png)"
   ]
  },
  {
   "cell_type": "code",
   "execution_count": null,
   "id": "10e45722-6789-4357-8d9d-a2f424ba7655",
   "metadata": {},
   "outputs": [],
   "source": []
  }
 ],
 "metadata": {
  "kernelspec": {
   "display_name": "Python 3 (ipykernel)",
   "language": "python",
   "name": "python3"
  },
  "language_info": {
   "codemirror_mode": {
    "name": "ipython",
    "version": 3
   },
   "file_extension": ".py",
   "mimetype": "text/x-python",
   "name": "python",
   "nbconvert_exporter": "python",
   "pygments_lexer": "ipython3",
   "version": "3.9.10"
  },
  "widgets": {
   "application/vnd.jupyter.widget-state+json": {
    "state": {
     "04965fa7b9244977ae26aa50016a8022": {
      "model_module": "@jupyter-widgets/output",
      "model_module_version": "1.0.0",
      "model_name": "OutputModel",
      "state": {
       "layout": "IPY_MODEL_efd6f80565614ef6a65fa5ef0cd54c44",
       "outputs": [
        {
         "name": "stderr",
         "output_type": "stream",
         "text": "E0420 21:35:12.835878040    4600 fork_posix.cc:70]           Fork support is only compatible with the epoll1 and poll polling strategies\nE0420 21:35:12.856459689    4600 fork_posix.cc:70]           Fork support is only compatible with the epoll1 and poll polling strategies\nE0420 21:35:12.873291122    4600 fork_posix.cc:70]           Fork support is only compatible with the epoll1 and poll polling strategies\nE0420 21:35:13.173917000    4600 fork_posix.cc:70]           Fork support is only compatible with the epoll1 and poll polling strategies\n"
        },
        {
         "data": {
          "application/vnd.jupyter.widget-view+json": {
           "model_id": "",
           "version_major": 2,
           "version_minor": 0
          },
          "text/plain": "HTML(value='<h3> Top Agencies using Freeway Projects </h3>')"
         },
         "metadata": {},
         "output_type": "display_data"
        },
        {
         "data": {
          "text/html": "<style type=\"text/css\">\n</style>\n<table id=\"T_a302f\">\n  <thead>\n    <tr>\n      <th class=\"blank level0\" >&nbsp;</th>\n      <th id=\"T_a302f_level0_col0\" class=\"col_heading level0 col0\" >Agency</th>\n      <th id=\"T_a302f_level0_col1\" class=\"col_heading level0 col1\" >Freeway Obligations</th>\n      <th id=\"T_a302f_level0_col2\" class=\"col_heading level0 col2\" >Percent of Category</th>\n    </tr>\n  </thead>\n  <tbody>\n    <tr>\n      <th id=\"T_a302f_level0_row0\" class=\"row_heading level0 row0\" >0</th>\n      <td id=\"T_a302f_row0_col0\" class=\"data row0 col0\" >Metropolitan Transportation Commission</td>\n      <td id=\"T_a302f_row0_col1\" class=\"data row0 col1\" >11</td>\n      <td id=\"T_a302f_row0_col2\" class=\"data row0 col2\" >28.21%</td>\n    </tr>\n    <tr>\n      <th id=\"T_a302f_level0_row1\" class=\"row_heading level0 row1\" >1</th>\n      <td id=\"T_a302f_row1_col0\" class=\"data row1 col0\" >Contra Costa County</td>\n      <td id=\"T_a302f_row1_col1\" class=\"data row1 col1\" >7</td>\n      <td id=\"T_a302f_row1_col2\" class=\"data row1 col2\" >17.95%</td>\n    </tr>\n    <tr>\n      <th id=\"T_a302f_level0_row2\" class=\"row_heading level0 row2\" >2</th>\n      <td id=\"T_a302f_row2_col0\" class=\"data row2 col0\" >Caltrans</td>\n      <td id=\"T_a302f_row2_col1\" class=\"data row2 col1\" >4</td>\n      <td id=\"T_a302f_row2_col2\" class=\"data row2 col2\" >10.26%</td>\n    </tr>\n    <tr>\n      <th id=\"T_a302f_level0_row3\" class=\"row_heading level0 row3\" >3</th>\n      <td id=\"T_a302f_row3_col0\" class=\"data row3 col0\" >Metropolitan Transportation Commission - SAFE</td>\n      <td id=\"T_a302f_row3_col1\" class=\"data row3 col1\" >3</td>\n      <td id=\"T_a302f_row3_col2\" class=\"data row3 col2\" >7.69%</td>\n    </tr>\n    <tr>\n      <th id=\"T_a302f_level0_row4\" class=\"row_heading level0 row4\" >4</th>\n      <td id=\"T_a302f_row4_col0\" class=\"data row4 col0\" >Alameda County Congestion Management Agency</td>\n      <td id=\"T_a302f_row4_col1\" class=\"data row4 col1\" >2</td>\n      <td id=\"T_a302f_row4_col2\" class=\"data row4 col2\" >5.13%</td>\n    </tr>\n  </tbody>\n</table>\n",
          "text/plain": "<pandas.io.formats.style.Styler at 0x7ff9dcc6bdc0>"
         },
         "metadata": {},
         "output_type": "display_data"
        }
       ]
      }
     },
     "0931bb94788e461781baefc949dabec8": {
      "model_module": "@jupyter-widgets/base",
      "model_module_version": "1.2.0",
      "model_name": "LayoutModel",
      "state": {}
     },
     "0a59afd011a44ae996eb58090f257384": {
      "model_module": "@jupyter-widgets/controls",
      "model_module_version": "1.5.0",
      "model_name": "VBoxModel",
      "state": {
       "children": [
        "IPY_MODEL_56a740c918434d1ca47b82d3ea7d87a0"
       ],
       "layout": "IPY_MODEL_1f35098813bd423fae02756307b7c025"
      }
     },
     "0a8531f088244a6b89c4410a2c5adfba": {
      "model_module": "@jupyter-widgets/output",
      "model_module_version": "1.0.0",
      "model_name": "OutputModel",
      "state": {
       "layout": "IPY_MODEL_ffb506dc944e4d15841634cca5462c4d",
       "outputs": [
        {
         "name": "stderr",
         "output_type": "stream",
         "text": "E0420 21:37:22.599532395    4600 fork_posix.cc:70]           Fork support is only compatible with the epoll1 and poll polling strategies\nE0420 21:37:22.619820075    4600 fork_posix.cc:70]           Fork support is only compatible with the epoll1 and poll polling strategies\nE0420 21:37:22.639022017    4600 fork_posix.cc:70]           Fork support is only compatible with the epoll1 and poll polling strategies\nE0420 21:37:22.990609912    4600 fork_posix.cc:70]           Fork support is only compatible with the epoll1 and poll polling strategies\n"
        },
        {
         "data": {
          "application/vnd.jupyter.widget-view+json": {
           "model_id": "",
           "version_major": 2,
           "version_minor": 0
          },
          "text/plain": "HTML(value='<h3> Top Agencies using Freeway Projects </h3>')"
         },
         "metadata": {},
         "output_type": "display_data"
        },
        {
         "data": {
          "text/html": "<style type=\"text/css\">\n</style>\n<table id=\"T_94233\">\n  <thead>\n    <tr>\n      <th class=\"blank level0\" >&nbsp;</th>\n      <th id=\"T_94233_level0_col0\" class=\"col_heading level0 col0\" >Agency</th>\n      <th id=\"T_94233_level0_col1\" class=\"col_heading level0 col1\" >Freeway Obligations</th>\n      <th id=\"T_94233_level0_col2\" class=\"col_heading level0 col2\" >Percent of Category</th>\n    </tr>\n  </thead>\n  <tbody>\n    <tr>\n      <th id=\"T_94233_level0_row0\" class=\"row_heading level0 row0\" >0</th>\n      <td id=\"T_94233_row0_col0\" class=\"data row0 col0\" >Metropolitan Transportation Commission</td>\n      <td id=\"T_94233_row0_col1\" class=\"data row0 col1\" >11</td>\n      <td id=\"T_94233_row0_col2\" class=\"data row0 col2\" >28.21%</td>\n    </tr>\n    <tr>\n      <th id=\"T_94233_level0_row1\" class=\"row_heading level0 row1\" >1</th>\n      <td id=\"T_94233_row1_col0\" class=\"data row1 col0\" >Contra Costa County</td>\n      <td id=\"T_94233_row1_col1\" class=\"data row1 col1\" >7</td>\n      <td id=\"T_94233_row1_col2\" class=\"data row1 col2\" >17.95%</td>\n    </tr>\n    <tr>\n      <th id=\"T_94233_level0_row2\" class=\"row_heading level0 row2\" >2</th>\n      <td id=\"T_94233_row2_col0\" class=\"data row2 col0\" >Caltrans</td>\n      <td id=\"T_94233_row2_col1\" class=\"data row2 col1\" >4</td>\n      <td id=\"T_94233_row2_col2\" class=\"data row2 col2\" >10.26%</td>\n    </tr>\n    <tr>\n      <th id=\"T_94233_level0_row3\" class=\"row_heading level0 row3\" >3</th>\n      <td id=\"T_94233_row3_col0\" class=\"data row3 col0\" >Metropolitan Transportation Commission - SAFE</td>\n      <td id=\"T_94233_row3_col1\" class=\"data row3 col1\" >3</td>\n      <td id=\"T_94233_row3_col2\" class=\"data row3 col2\" >7.69%</td>\n    </tr>\n    <tr>\n      <th id=\"T_94233_level0_row4\" class=\"row_heading level0 row4\" >4</th>\n      <td id=\"T_94233_row4_col0\" class=\"data row4 col0\" >Alameda County Congestion Management Agency</td>\n      <td id=\"T_94233_row4_col1\" class=\"data row4 col1\" >2</td>\n      <td id=\"T_94233_row4_col2\" class=\"data row4 col2\" >5.13%</td>\n    </tr>\n  </tbody>\n</table>\n",
          "text/plain": "<pandas.io.formats.style.Styler at 0x7ff9dcc8d040>"
         },
         "metadata": {},
         "output_type": "display_data"
        }
       ]
      }
     },
     "0b937ef9102a4aafbd1e88128044887e": {
      "model_module": "@jupyter-widgets/output",
      "model_module_version": "1.0.0",
      "model_name": "OutputModel",
      "state": {
       "layout": "IPY_MODEL_4a1d625492d347b5ac7255f76f935e5e",
       "outputs": [
        {
         "name": "stderr",
         "output_type": "stream",
         "text": "E0420 21:37:35.409331633    4600 fork_posix.cc:70]           Fork support is only compatible with the epoll1 and poll polling strategies\nE0420 21:37:35.435836810    4600 fork_posix.cc:70]           Fork support is only compatible with the epoll1 and poll polling strategies\nE0420 21:37:35.458015019    4600 fork_posix.cc:70]           Fork support is only compatible with the epoll1 and poll polling strategies\nE0420 21:37:35.774139725    4600 fork_posix.cc:70]           Fork support is only compatible with the epoll1 and poll polling strategies\n"
        },
        {
         "data": {
          "application/vnd.jupyter.widget-view+json": {
           "model_id": "2d3fd2898f9648aaac11ddca3ee6392e",
           "version_major": 2,
           "version_minor": 0
          },
          "text/plain": "HTML(value='<h3> Top Agencies using Freeway Projects </h3>')"
         },
         "metadata": {},
         "output_type": "display_data"
        },
        {
         "data": {
          "text/html": "<style type=\"text/css\">\n</style>\n<table id=\"T_b2bae\">\n  <thead>\n    <tr>\n      <th class=\"blank level0\" >&nbsp;</th>\n      <th id=\"T_b2bae_level0_col0\" class=\"col_heading level0 col0\" >Agency</th>\n      <th id=\"T_b2bae_level0_col1\" class=\"col_heading level0 col1\" >Freeway Obligations</th>\n      <th id=\"T_b2bae_level0_col2\" class=\"col_heading level0 col2\" >Percent of Category</th>\n    </tr>\n  </thead>\n  <tbody>\n    <tr>\n      <th id=\"T_b2bae_level0_row0\" class=\"row_heading level0 row0\" >0</th>\n      <td id=\"T_b2bae_row0_col0\" class=\"data row0 col0\" >Metropolitan Transportation Commission</td>\n      <td id=\"T_b2bae_row0_col1\" class=\"data row0 col1\" >11</td>\n      <td id=\"T_b2bae_row0_col2\" class=\"data row0 col2\" >28.21%</td>\n    </tr>\n    <tr>\n      <th id=\"T_b2bae_level0_row1\" class=\"row_heading level0 row1\" >1</th>\n      <td id=\"T_b2bae_row1_col0\" class=\"data row1 col0\" >Contra Costa County</td>\n      <td id=\"T_b2bae_row1_col1\" class=\"data row1 col1\" >7</td>\n      <td id=\"T_b2bae_row1_col2\" class=\"data row1 col2\" >17.95%</td>\n    </tr>\n    <tr>\n      <th id=\"T_b2bae_level0_row2\" class=\"row_heading level0 row2\" >2</th>\n      <td id=\"T_b2bae_row2_col0\" class=\"data row2 col0\" >Caltrans</td>\n      <td id=\"T_b2bae_row2_col1\" class=\"data row2 col1\" >4</td>\n      <td id=\"T_b2bae_row2_col2\" class=\"data row2 col2\" >10.26%</td>\n    </tr>\n    <tr>\n      <th id=\"T_b2bae_level0_row3\" class=\"row_heading level0 row3\" >3</th>\n      <td id=\"T_b2bae_row3_col0\" class=\"data row3 col0\" >Metropolitan Transportation Commission - SAFE</td>\n      <td id=\"T_b2bae_row3_col1\" class=\"data row3 col1\" >3</td>\n      <td id=\"T_b2bae_row3_col2\" class=\"data row3 col2\" >7.69%</td>\n    </tr>\n    <tr>\n      <th id=\"T_b2bae_level0_row4\" class=\"row_heading level0 row4\" >4</th>\n      <td id=\"T_b2bae_row4_col0\" class=\"data row4 col0\" >Alameda County Congestion Management Agency</td>\n      <td id=\"T_b2bae_row4_col1\" class=\"data row4 col1\" >2</td>\n      <td id=\"T_b2bae_row4_col2\" class=\"data row4 col2\" >5.13%</td>\n    </tr>\n  </tbody>\n</table>\n",
          "text/plain": "<pandas.io.formats.style.Styler at 0x7ff9dcc8aa00>"
         },
         "metadata": {},
         "output_type": "display_data"
        }
       ]
      }
     },
     "1131074107ba45d7af93124f2237844c": {
      "model_module": "@jupyter-widgets/base",
      "model_module_version": "1.2.0",
      "model_name": "LayoutModel",
      "state": {}
     },
     "120d7854001546b28e63858a291e374a": {
      "model_module": "@jupyter-widgets/controls",
      "model_module_version": "1.5.0",
      "model_name": "DescriptionStyleModel",
      "state": {
       "description_width": ""
      }
     },
     "1485c69272894083be26818ee99cf003": {
      "model_module": "@jupyter-widgets/base",
      "model_module_version": "1.2.0",
      "model_name": "LayoutModel",
      "state": {}
     },
     "17fce4934695458d8cd8c300b69e16c6": {
      "model_module": "@jupyter-widgets/controls",
      "model_module_version": "1.5.0",
      "model_name": "HTMLModel",
      "state": {
       "layout": "IPY_MODEL_75121eb48c25434faebc9eb225929cb9",
       "style": "IPY_MODEL_7455ff68b9814d7c9db4ff527cf66587",
       "value": "<h3> Top Agencies using Street Projects </h3>"
      }
     },
     "1b19f25215bf48f19a826de98bfdab78": {
      "model_module": "@jupyter-widgets/output",
      "model_module_version": "1.0.0",
      "model_name": "OutputModel",
      "state": {
       "layout": "IPY_MODEL_c1808e45b4414fa29b98a66c248ff3ce",
       "outputs": [
        {
         "name": "stderr",
         "output_type": "stream",
         "text": "E0420 21:35:10.565563912    4600 fork_posix.cc:70]           Fork support is only compatible with the epoll1 and poll polling strategies\nE0420 21:35:10.587801505    4600 fork_posix.cc:70]           Fork support is only compatible with the epoll1 and poll polling strategies\nE0420 21:35:10.605154617    4600 fork_posix.cc:70]           Fork support is only compatible with the epoll1 and poll polling strategies\nE0420 21:35:10.912248153    4600 fork_posix.cc:70]           Fork support is only compatible with the epoll1 and poll polling strategies\n"
        },
        {
         "data": {
          "application/vnd.jupyter.widget-view+json": {
           "model_id": "",
           "version_major": 2,
           "version_minor": 0
          },
          "text/plain": "HTML(value='<h3> Top Agencies using Bridge Projects </h3>')"
         },
         "metadata": {},
         "output_type": "display_data"
        },
        {
         "data": {
          "text/html": "<style type=\"text/css\">\n</style>\n<table id=\"T_e6d97\">\n  <thead>\n    <tr>\n      <th class=\"blank level0\" >&nbsp;</th>\n      <th id=\"T_e6d97_level0_col0\" class=\"col_heading level0 col0\" >Agency</th>\n      <th id=\"T_e6d97_level0_col1\" class=\"col_heading level0 col1\" >Bridge Obligations</th>\n      <th id=\"T_e6d97_level0_col2\" class=\"col_heading level0 col2\" >Percent of Category</th>\n    </tr>\n  </thead>\n  <tbody>\n    <tr>\n      <th id=\"T_e6d97_level0_row0\" class=\"row_heading level0 row0\" >0</th>\n      <td id=\"T_e6d97_row0_col0\" class=\"data row0 col0\" >Santa Clara County</td>\n      <td id=\"T_e6d97_row0_col1\" class=\"data row0 col1\" >68</td>\n      <td id=\"T_e6d97_row0_col2\" class=\"data row0 col2\" >14.11%</td>\n    </tr>\n    <tr>\n      <th id=\"T_e6d97_level0_row1\" class=\"row_heading level0 row1\" >1</th>\n      <td id=\"T_e6d97_row1_col0\" class=\"data row1 col0\" >Contra Costa County</td>\n      <td id=\"T_e6d97_row1_col1\" class=\"data row1 col1\" >44</td>\n      <td id=\"T_e6d97_row1_col2\" class=\"data row1 col2\" >9.13%</td>\n    </tr>\n    <tr>\n      <th id=\"T_e6d97_level0_row2\" class=\"row_heading level0 row2\" >2</th>\n      <td id=\"T_e6d97_row2_col0\" class=\"data row2 col0\" >Sonoma County</td>\n      <td id=\"T_e6d97_row2_col1\" class=\"data row2 col1\" >34</td>\n      <td id=\"T_e6d97_row2_col2\" class=\"data row2 col2\" >7.05%</td>\n    </tr>\n    <tr>\n      <th id=\"T_e6d97_level0_row3\" class=\"row_heading level0 row3\" >3</th>\n      <td id=\"T_e6d97_row3_col0\" class=\"data row3 col0\" >Napa County</td>\n      <td id=\"T_e6d97_row3_col1\" class=\"data row3 col1\" >25</td>\n      <td id=\"T_e6d97_row3_col2\" class=\"data row3 col2\" >5.19%</td>\n    </tr>\n    <tr>\n      <th id=\"T_e6d97_level0_row4\" class=\"row_heading level0 row4\" >4</th>\n      <td id=\"T_e6d97_row4_col0\" class=\"data row4 col0\" >Oakland</td>\n      <td id=\"T_e6d97_row4_col1\" class=\"data row4 col1\" >22</td>\n      <td id=\"T_e6d97_row4_col2\" class=\"data row4 col2\" >4.56%</td>\n    </tr>\n  </tbody>\n</table>\n",
          "text/plain": "<pandas.io.formats.style.Styler at 0x7ff9f02aa3d0>"
         },
         "metadata": {},
         "output_type": "display_data"
        }
       ]
      }
     },
     "1c1ee36b8282400e86b555a77bbe8c43": {
      "model_module": "@jupyter-widgets/controls",
      "model_module_version": "1.5.0",
      "model_name": "DescriptionStyleModel",
      "state": {
       "description_width": ""
      }
     },
     "1ee7bd143d4c4425afb9296f8b897a78": {
      "model_module": "@jupyter-widgets/controls",
      "model_module_version": "1.5.0",
      "model_name": "HTMLModel",
      "state": {
       "layout": "IPY_MODEL_96ed32c428284f4e86cdb2b157232106",
       "style": "IPY_MODEL_b8dbe8e3a2164df785f20508cc38f033",
       "value": "<h3> Top Agencies using Congestion Relief Projects </h3>"
      }
     },
     "1f35098813bd423fae02756307b7c025": {
      "model_module": "@jupyter-widgets/base",
      "model_module_version": "1.2.0",
      "model_name": "LayoutModel",
      "state": {}
     },
     "1f89f6c9e1cd4ac6b24200ffda7ccd12": {
      "model_module": "@jupyter-widgets/base",
      "model_module_version": "1.2.0",
      "model_name": "LayoutModel",
      "state": {}
     },
     "2286829d70ef4c37ade1cf1e30d6d6f8": {
      "model_module": "@jupyter-widgets/controls",
      "model_module_version": "1.5.0",
      "model_name": "HTMLModel",
      "state": {
       "layout": "IPY_MODEL_5ca62ab385e743c19d636a52bf62a792",
       "style": "IPY_MODEL_d12b0357cebd47b6b3fc6a42dbc6efa0",
       "value": "<h3> Top Agencies using Active Transportation Projects </h3>"
      }
     },
     "25fe9e9a1a6d4859b65d1cc13eba87c0": {
      "model_module": "@jupyter-widgets/controls",
      "model_module_version": "1.5.0",
      "model_name": "HTMLModel",
      "state": {
       "layout": "IPY_MODEL_b13a340c3e444430bbcbe0fa28eb057f",
       "style": "IPY_MODEL_a6e8151792644121bf1a0cee2c51dba6",
       "value": "<h3> Top Agencies using Street Projects </h3>"
      }
     },
     "2a72de32f0a04756b534eb49b13e46fa": {
      "model_module": "@jupyter-widgets/base",
      "model_module_version": "1.2.0",
      "model_name": "LayoutModel",
      "state": {}
     },
     "2acfa128190545029b3c8de174dfa80f": {
      "model_module": "@jupyter-widgets/output",
      "model_module_version": "1.0.0",
      "model_name": "OutputModel",
      "state": {
       "layout": "IPY_MODEL_deb5f56a57af4ce68bbb6955c79dd713",
       "outputs": [
        {
         "name": "stderr",
         "output_type": "stream",
         "text": "E0420 21:37:21.449302830    4600 fork_posix.cc:70]           Fork support is only compatible with the epoll1 and poll polling strategies\nE0420 21:37:21.473888905    4600 fork_posix.cc:70]           Fork support is only compatible with the epoll1 and poll polling strategies\nE0420 21:37:21.493310069    4600 fork_posix.cc:70]           Fork support is only compatible with the epoll1 and poll polling strategies\nE0420 21:37:21.823963255    4600 fork_posix.cc:70]           Fork support is only compatible with the epoll1 and poll polling strategies\n"
        },
        {
         "data": {
          "application/vnd.jupyter.widget-view+json": {
           "model_id": "",
           "version_major": 2,
           "version_minor": 0
          },
          "text/plain": "HTML(value='<h3> Top Agencies using Street Projects </h3>')"
         },
         "metadata": {},
         "output_type": "display_data"
        },
        {
         "data": {
          "text/html": "<style type=\"text/css\">\n</style>\n<table id=\"T_2638e\">\n  <thead>\n    <tr>\n      <th class=\"blank level0\" >&nbsp;</th>\n      <th id=\"T_2638e_level0_col0\" class=\"col_heading level0 col0\" >Agency</th>\n      <th id=\"T_2638e_level0_col1\" class=\"col_heading level0 col1\" >Street Obligations</th>\n      <th id=\"T_2638e_level0_col2\" class=\"col_heading level0 col2\" >Percent of Category</th>\n    </tr>\n  </thead>\n  <tbody>\n    <tr>\n      <th id=\"T_2638e_level0_row0\" class=\"row_heading level0 row0\" >0</th>\n      <td id=\"T_2638e_row0_col0\" class=\"data row0 col0\" >Contra Costa County</td>\n      <td id=\"T_2638e_row0_col1\" class=\"data row0 col1\" >82</td>\n      <td id=\"T_2638e_row0_col2\" class=\"data row0 col2\" >6.20%</td>\n    </tr>\n    <tr>\n      <th id=\"T_2638e_level0_row1\" class=\"row_heading level0 row1\" >1</th>\n      <td id=\"T_2638e_row1_col0\" class=\"data row1 col0\" >Oakland</td>\n      <td id=\"T_2638e_row1_col1\" class=\"data row1 col1\" >82</td>\n      <td id=\"T_2638e_row1_col2\" class=\"data row1 col2\" >6.20%</td>\n    </tr>\n    <tr>\n      <th id=\"T_2638e_level0_row2\" class=\"row_heading level0 row2\" >2</th>\n      <td id=\"T_2638e_row2_col0\" class=\"data row2 col0\" >San Jose</td>\n      <td id=\"T_2638e_row2_col1\" class=\"data row2 col1\" >66</td>\n      <td id=\"T_2638e_row2_col2\" class=\"data row2 col2\" >4.99%</td>\n    </tr>\n    <tr>\n      <th id=\"T_2638e_level0_row3\" class=\"row_heading level0 row3\" >3</th>\n      <td id=\"T_2638e_row3_col0\" class=\"data row3 col0\" >San Francisco County</td>\n      <td id=\"T_2638e_row3_col1\" class=\"data row3 col1\" >45</td>\n      <td id=\"T_2638e_row3_col2\" class=\"data row3 col2\" >3.40%</td>\n    </tr>\n    <tr>\n      <th id=\"T_2638e_level0_row4\" class=\"row_heading level0 row4\" >4</th>\n      <td id=\"T_2638e_row4_col0\" class=\"data row4 col0\" >Sunnyvale</td>\n      <td id=\"T_2638e_row4_col1\" class=\"data row4 col1\" >45</td>\n      <td id=\"T_2638e_row4_col2\" class=\"data row4 col2\" >3.40%</td>\n    </tr>\n  </tbody>\n</table>\n",
          "text/plain": "<pandas.io.formats.style.Styler at 0x7ff9dcc88ca0>"
         },
         "metadata": {},
         "output_type": "display_data"
        }
       ]
      }
     },
     "2c149c8493f44beab2fdb06c1bd1de36": {
      "model_module": "@jupyter-widgets/controls",
      "model_module_version": "1.5.0",
      "model_name": "DescriptionStyleModel",
      "state": {
       "description_width": ""
      }
     },
     "2c64b7f51d544468a782b9b18393c7e7": {
      "model_module": "@jupyter-widgets/base",
      "model_module_version": "1.2.0",
      "model_name": "LayoutModel",
      "state": {}
     },
     "2d3fd2898f9648aaac11ddca3ee6392e": {
      "model_module": "@jupyter-widgets/controls",
      "model_module_version": "1.5.0",
      "model_name": "HTMLModel",
      "state": {
       "layout": "IPY_MODEL_2c64b7f51d544468a782b9b18393c7e7",
       "style": "IPY_MODEL_9d84195eaf2c4670850300e00179b7eb",
       "value": "<h3> Top Agencies using Freeway Projects </h3>"
      }
     },
     "3271f12d0d8448698cf88a24e70f664d": {
      "model_module": "@jupyter-widgets/output",
      "model_module_version": "1.0.0",
      "model_name": "OutputModel",
      "state": {
       "layout": "IPY_MODEL_863521309b25411faf245abe3d21f821",
       "outputs": [
        {
         "name": "stderr",
         "output_type": "stream",
         "text": "E0420 21:37:31.999527777    4600 fork_posix.cc:70]           Fork support is only compatible with the epoll1 and poll polling strategies\nE0420 21:37:32.021593643    4600 fork_posix.cc:70]           Fork support is only compatible with the epoll1 and poll polling strategies\nE0420 21:37:32.046514296    4600 fork_posix.cc:70]           Fork support is only compatible with the epoll1 and poll polling strategies\nE0420 21:37:32.357903248    4600 fork_posix.cc:70]           Fork support is only compatible with the epoll1 and poll polling strategies\n"
        },
        {
         "data": {
          "application/vnd.jupyter.widget-view+json": {
           "model_id": "f6926901f24143a2a61f91a4b2c8ced4",
           "version_major": 2,
           "version_minor": 0
          },
          "text/plain": "HTML(value='<h3> Top Agencies using Transit Projects </h3>')"
         },
         "metadata": {},
         "output_type": "display_data"
        },
        {
         "data": {
          "text/html": "<style type=\"text/css\">\n</style>\n<table id=\"T_d8149\">\n  <thead>\n    <tr>\n      <th class=\"blank level0\" >&nbsp;</th>\n      <th id=\"T_d8149_level0_col0\" class=\"col_heading level0 col0\" >Agency</th>\n      <th id=\"T_d8149_level0_col1\" class=\"col_heading level0 col1\" >Transit Obligations</th>\n      <th id=\"T_d8149_level0_col2\" class=\"col_heading level0 col2\" >Percent of Category</th>\n    </tr>\n  </thead>\n  <tbody>\n    <tr>\n      <th id=\"T_d8149_level0_row0\" class=\"row_heading level0 row0\" >0</th>\n      <td id=\"T_d8149_row0_col0\" class=\"data row0 col0\" >Metropolitan Transportation Commission</td>\n      <td id=\"T_d8149_row0_col1\" class=\"data row0 col1\" >18</td>\n      <td id=\"T_d8149_row0_col2\" class=\"data row0 col2\" >28.57%</td>\n    </tr>\n    <tr>\n      <th id=\"T_d8149_level0_row1\" class=\"row_heading level0 row1\" >1</th>\n      <td id=\"T_d8149_row1_col0\" class=\"data row1 col0\" >Sunnyvale</td>\n      <td id=\"T_d8149_row1_col1\" class=\"data row1 col1\" >6</td>\n      <td id=\"T_d8149_row1_col2\" class=\"data row1 col2\" >9.52%</td>\n    </tr>\n    <tr>\n      <th id=\"T_d8149_level0_row2\" class=\"row_heading level0 row2\" >2</th>\n      <td id=\"T_d8149_row2_col0\" class=\"data row2 col0\" >Oakland</td>\n      <td id=\"T_d8149_row2_col1\" class=\"data row2 col1\" >4</td>\n      <td id=\"T_d8149_row2_col2\" class=\"data row2 col2\" >6.35%</td>\n    </tr>\n    <tr>\n      <th id=\"T_d8149_level0_row3\" class=\"row_heading level0 row3\" >3</th>\n      <td id=\"T_d8149_row3_col0\" class=\"data row3 col0\" >San Jose</td>\n      <td id=\"T_d8149_row3_col1\" class=\"data row3 col1\" >4</td>\n      <td id=\"T_d8149_row3_col2\" class=\"data row3 col2\" >6.35%</td>\n    </tr>\n    <tr>\n      <th id=\"T_d8149_level0_row4\" class=\"row_heading level0 row4\" >4</th>\n      <td id=\"T_d8149_row4_col0\" class=\"data row4 col0\" >San Leandro</td>\n      <td id=\"T_d8149_row4_col1\" class=\"data row4 col1\" >4</td>\n      <td id=\"T_d8149_row4_col2\" class=\"data row4 col2\" >6.35%</td>\n    </tr>\n  </tbody>\n</table>\n",
          "text/plain": "<pandas.io.formats.style.Styler at 0x7ff9dcc81490>"
         },
         "metadata": {},
         "output_type": "display_data"
        }
       ]
      }
     },
     "32b93ee3e203404495cc814f96c098fb": {
      "model_module": "@jupyter-widgets/controls",
      "model_module_version": "1.5.0",
      "model_name": "DescriptionStyleModel",
      "state": {
       "description_width": ""
      }
     },
     "35953925c052445583cc5c6fa6c9920d": {
      "model_module": "@jupyter-widgets/base",
      "model_module_version": "1.2.0",
      "model_name": "LayoutModel",
      "state": {}
     },
     "3a2de012b04c4df68f6fe93dd1b6f8e1": {
      "model_module": "@jupyter-widgets/base",
      "model_module_version": "1.2.0",
      "model_name": "LayoutModel",
      "state": {}
     },
     "41c2de2eadf24eed84ca2b43656232ee": {
      "model_module": "@jupyter-widgets/controls",
      "model_module_version": "1.5.0",
      "model_name": "HTMLModel",
      "state": {
       "layout": "IPY_MODEL_86e37da1ded94accbbc8059cfdf473cc",
       "style": "IPY_MODEL_b7eaf5115a2444668a4ef6aa19f571b7",
       "value": "<h3> Top Agencies using Transit Projects </h3>"
      }
     },
     "44c13105dbd84d53a7b8de086e2c7ccd": {
      "model_module": "@jupyter-widgets/output",
      "model_module_version": "1.0.0",
      "model_name": "OutputModel",
      "state": {
       "layout": "IPY_MODEL_8bd525760a3348ccba6d7b43bc96f9a7",
       "outputs": [
        {
         "name": "stderr",
         "output_type": "stream",
         "text": "E0420 21:37:36.573310696    4600 fork_posix.cc:70]           Fork support is only compatible with the epoll1 and poll polling strategies\nE0420 21:37:36.592738481    4600 fork_posix.cc:70]           Fork support is only compatible with the epoll1 and poll polling strategies\nE0420 21:37:36.609794316    4600 fork_posix.cc:70]           Fork support is only compatible with the epoll1 and poll polling strategies\nE0420 21:37:36.913205196    4600 fork_posix.cc:70]           Fork support is only compatible with the epoll1 and poll polling strategies\n"
        },
        {
         "data": {
          "application/vnd.jupyter.widget-view+json": {
           "model_id": "59786914fa284654bc7fbcb09aa73fdf",
           "version_major": 2,
           "version_minor": 0
          },
          "text/plain": "HTML(value='<h3> Top Agencies using Infrastructure & Emergency Relief Projects </h3>')"
         },
         "metadata": {},
         "output_type": "display_data"
        },
        {
         "data": {
          "text/html": "<style type=\"text/css\">\n</style>\n<table id=\"T_5f20c\">\n  <thead>\n    <tr>\n      <th class=\"blank level0\" >&nbsp;</th>\n      <th id=\"T_5f20c_level0_col0\" class=\"col_heading level0 col0\" >Agency</th>\n      <th id=\"T_5f20c_level0_col1\" class=\"col_heading level0 col1\" >Infrastructure & Emergency Relief Obligations</th>\n      <th id=\"T_5f20c_level0_col2\" class=\"col_heading level0 col2\" >Percent of Category</th>\n    </tr>\n  </thead>\n  <tbody>\n    <tr>\n      <th id=\"T_5f20c_level0_row0\" class=\"row_heading level0 row0\" >0</th>\n      <td id=\"T_5f20c_row0_col0\" class=\"data row0 col0\" >Contra Costa County</td>\n      <td id=\"T_5f20c_row0_col1\" class=\"data row0 col1\" >103</td>\n      <td id=\"T_5f20c_row0_col2\" class=\"data row0 col2\" >5.24%</td>\n    </tr>\n    <tr>\n      <th id=\"T_5f20c_level0_row1\" class=\"row_heading level0 row1\" >1</th>\n      <td id=\"T_5f20c_row1_col0\" class=\"data row1 col0\" >Napa County</td>\n      <td id=\"T_5f20c_row1_col1\" class=\"data row1 col1\" >88</td>\n      <td id=\"T_5f20c_row1_col2\" class=\"data row1 col2\" >4.48%</td>\n    </tr>\n    <tr>\n      <th id=\"T_5f20c_level0_row2\" class=\"row_heading level0 row2\" >2</th>\n      <td id=\"T_5f20c_row2_col0\" class=\"data row2 col0\" >Santa Clara County</td>\n      <td id=\"T_5f20c_row2_col1\" class=\"data row2 col1\" >82</td>\n      <td id=\"T_5f20c_row2_col2\" class=\"data row2 col2\" >4.17%</td>\n    </tr>\n    <tr>\n      <th id=\"T_5f20c_level0_row3\" class=\"row_heading level0 row3\" >3</th>\n      <td id=\"T_5f20c_row3_col0\" class=\"data row3 col0\" >Sonoma County</td>\n      <td id=\"T_5f20c_row3_col1\" class=\"data row3 col1\" >71</td>\n      <td id=\"T_5f20c_row3_col2\" class=\"data row3 col2\" >3.61%</td>\n    </tr>\n    <tr>\n      <th id=\"T_5f20c_level0_row4\" class=\"row_heading level0 row4\" >4</th>\n      <td id=\"T_5f20c_row4_col0\" class=\"data row4 col0\" >Oakland</td>\n      <td id=\"T_5f20c_row4_col1\" class=\"data row4 col1\" >70</td>\n      <td id=\"T_5f20c_row4_col2\" class=\"data row4 col2\" >3.56%</td>\n    </tr>\n  </tbody>\n</table>\n",
          "text/plain": "<pandas.io.formats.style.Styler at 0x7ff9dcc7a160>"
         },
         "metadata": {},
         "output_type": "display_data"
        }
       ]
      }
     },
     "4a1d625492d347b5ac7255f76f935e5e": {
      "model_module": "@jupyter-widgets/base",
      "model_module_version": "1.2.0",
      "model_name": "LayoutModel",
      "state": {}
     },
     "4d48ed47b2b247d8bafa43e5fe675dc7": {
      "model_module": "@jupyter-widgets/base",
      "model_module_version": "1.2.0",
      "model_name": "LayoutModel",
      "state": {}
     },
     "4e493c66ae2a42bb82acaac3c7b9c511": {
      "model_module": "@jupyter-widgets/controls",
      "model_module_version": "1.5.0",
      "model_name": "TabModel",
      "state": {
       "children": [
        "IPY_MODEL_0a59afd011a44ae996eb58090f257384"
       ],
       "layout": "IPY_MODEL_4d48ed47b2b247d8bafa43e5fe675dc7"
      }
     },
     "503485e9231d4a168092b5c58f1d86c5": {
      "model_module": "@jupyter-widgets/controls",
      "model_module_version": "1.5.0",
      "model_name": "VBoxModel",
      "state": {
       "_dom_classes": [
        "widget-interact"
       ],
       "children": [
        "IPY_MODEL_56a740c918434d1ca47b82d3ea7d87a0"
       ],
       "layout": "IPY_MODEL_aa11d17182d64f79a5f1ed0fe80582d6"
      }
     },
     "55ab58d0973a4b198255f64713d5f286": {
      "model_module": "@jupyter-widgets/controls",
      "model_module_version": "1.5.0",
      "model_name": "HTMLModel",
      "state": {
       "layout": "IPY_MODEL_c154561483fc4bbb95cfaebdbe9fa15f",
       "style": "IPY_MODEL_c8be9fafc98d4c7a8499fe47b6644ce6",
       "value": "<h3> Top Agencies using Bridge Projects </h3>"
      }
     },
     "56a740c918434d1ca47b82d3ea7d87a0": {
      "model_module": "@jupyter-widgets/output",
      "model_module_version": "1.0.0",
      "model_name": "OutputModel",
      "state": {
       "layout": "IPY_MODEL_35953925c052445583cc5c6fa6c9920d"
      }
     },
     "59786914fa284654bc7fbcb09aa73fdf": {
      "model_module": "@jupyter-widgets/controls",
      "model_module_version": "1.5.0",
      "model_name": "HTMLModel",
      "state": {
       "layout": "IPY_MODEL_3a2de012b04c4df68f6fe93dd1b6f8e1",
       "style": "IPY_MODEL_997c836062fd456297cc1ba6a3263543",
       "value": "<h3> Top Agencies using Infrastructure & Emergency Relief Projects </h3>"
      }
     },
     "59906b06bab04978a3ae0b2eba3ddc33": {
      "model_module": "@jupyter-widgets/output",
      "model_module_version": "1.0.0",
      "model_name": "OutputModel",
      "state": {
       "layout": "IPY_MODEL_d2ea51064c714d2fa721af9b3137edae",
       "outputs": [
        {
         "data": {
          "text/plain": "None"
         },
         "metadata": {},
         "output_type": "display_data"
        },
        {
         "data": {
          "image/png": "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\n",
          "text/plain": "<IPython.core.display.Image object>"
         },
         "metadata": {},
         "output_type": "display_data"
        }
       ]
      }
     },
     "5ca62ab385e743c19d636a52bf62a792": {
      "model_module": "@jupyter-widgets/base",
      "model_module_version": "1.2.0",
      "model_name": "LayoutModel",
      "state": {}
     },
     "65872775897a4edbbdae57fa34e5827c": {
      "model_module": "@jupyter-widgets/controls",
      "model_module_version": "1.5.0",
      "model_name": "HTMLModel",
      "state": {
       "layout": "IPY_MODEL_72cb6bb29fd142c6af833cd5a796be03",
       "style": "IPY_MODEL_c21ffa772e1c45d795446cff9a627ec7",
       "value": "<h3> Top Agencies using Infrastructure & Emergency Relief Projects </h3>"
      }
     },
     "6b6d7ebf741747178eb28f2f73ee4c34": {
      "model_module": "@jupyter-widgets/base",
      "model_module_version": "1.2.0",
      "model_name": "LayoutModel",
      "state": {}
     },
     "6f12eba975d74e5db07624e75aa79463": {
      "model_module": "@jupyter-widgets/base",
      "model_module_version": "1.2.0",
      "model_name": "LayoutModel",
      "state": {}
     },
     "710a1e8175cb4ca497b8e94ddbf0876e": {
      "model_module": "@jupyter-widgets/output",
      "model_module_version": "1.0.0",
      "model_name": "OutputModel",
      "state": {
       "layout": "IPY_MODEL_c5270ea5b8e2451b8fdf8b0c79529665",
       "outputs": [
        {
         "name": "stderr",
         "output_type": "stream",
         "text": "E0420 21:37:24.983514478    4600 fork_posix.cc:70]           Fork support is only compatible with the epoll1 and poll polling strategies\nE0420 21:37:25.003255346    4600 fork_posix.cc:70]           Fork support is only compatible with the epoll1 and poll polling strategies\nE0420 21:37:25.021809925    4600 fork_posix.cc:70]           Fork support is only compatible with the epoll1 and poll polling strategies\nE0420 21:37:25.319966110    4600 fork_posix.cc:70]           Fork support is only compatible with the epoll1 and poll polling strategies\n"
        },
        {
         "data": {
          "application/vnd.jupyter.widget-view+json": {
           "model_id": "",
           "version_major": 2,
           "version_minor": 0
          },
          "text/plain": "HTML(value='<h3> Top Agencies using Congestion Relief Projects </h3>')"
         },
         "metadata": {},
         "output_type": "display_data"
        },
        {
         "data": {
          "text/html": "<style type=\"text/css\">\n</style>\n<table id=\"T_8a3e2\">\n  <thead>\n    <tr>\n      <th class=\"blank level0\" >&nbsp;</th>\n      <th id=\"T_8a3e2_level0_col0\" class=\"col_heading level0 col0\" >Agency</th>\n      <th id=\"T_8a3e2_level0_col1\" class=\"col_heading level0 col1\" >Congestion Relief Obligations</th>\n      <th id=\"T_8a3e2_level0_col2\" class=\"col_heading level0 col2\" >Percent of Category</th>\n    </tr>\n  </thead>\n  <tbody>\n    <tr>\n      <th id=\"T_8a3e2_level0_row0\" class=\"row_heading level0 row0\" >0</th>\n      <td id=\"T_8a3e2_row0_col0\" class=\"data row0 col0\" >Contra Costa Transportation Authority</td>\n      <td id=\"T_8a3e2_row0_col1\" class=\"data row0 col1\" >6</td>\n      <td id=\"T_8a3e2_row0_col2\" class=\"data row0 col2\" >22.22%</td>\n    </tr>\n    <tr>\n      <th id=\"T_8a3e2_level0_row1\" class=\"row_heading level0 row1\" >1</th>\n      <td id=\"T_8a3e2_row1_col0\" class=\"data row1 col0\" >Metropolitan Transportation Commission</td>\n      <td id=\"T_8a3e2_row1_col1\" class=\"data row1 col1\" >5</td>\n      <td id=\"T_8a3e2_row1_col2\" class=\"data row1 col2\" >18.52%</td>\n    </tr>\n    <tr>\n      <th id=\"T_8a3e2_level0_row2\" class=\"row_heading level0 row2\" >2</th>\n      <td id=\"T_8a3e2_row2_col0\" class=\"data row2 col0\" >Sonoma County Transportation Authority</td>\n      <td id=\"T_8a3e2_row2_col1\" class=\"data row2 col1\" >4</td>\n      <td id=\"T_8a3e2_row2_col2\" class=\"data row2 col2\" >14.81%</td>\n    </tr>\n    <tr>\n      <th id=\"T_8a3e2_level0_row3\" class=\"row_heading level0 row3\" >3</th>\n      <td id=\"T_8a3e2_row3_col0\" class=\"data row3 col0\" >San Mateo</td>\n      <td id=\"T_8a3e2_row3_col1\" class=\"data row3 col1\" >3</td>\n      <td id=\"T_8a3e2_row3_col2\" class=\"data row3 col2\" >11.11%</td>\n    </tr>\n    <tr>\n      <th id=\"T_8a3e2_level0_row4\" class=\"row_heading level0 row4\" >4</th>\n      <td id=\"T_8a3e2_row4_col0\" class=\"data row4 col0\" >Solano Transportation Authority</td>\n      <td id=\"T_8a3e2_row4_col1\" class=\"data row4 col1\" >3</td>\n      <td id=\"T_8a3e2_row4_col2\" class=\"data row4 col2\" >11.11%</td>\n    </tr>\n  </tbody>\n</table>\n",
          "text/plain": "<pandas.io.formats.style.Styler at 0x7ff9dcc8d1c0>"
         },
         "metadata": {},
         "output_type": "display_data"
        }
       ]
      }
     },
     "72cb6bb29fd142c6af833cd5a796be03": {
      "model_module": "@jupyter-widgets/base",
      "model_module_version": "1.2.0",
      "model_name": "LayoutModel",
      "state": {}
     },
     "7455ff68b9814d7c9db4ff527cf66587": {
      "model_module": "@jupyter-widgets/controls",
      "model_module_version": "1.5.0",
      "model_name": "DescriptionStyleModel",
      "state": {
       "description_width": ""
      }
     },
     "75121eb48c25434faebc9eb225929cb9": {
      "model_module": "@jupyter-widgets/base",
      "model_module_version": "1.2.0",
      "model_name": "LayoutModel",
      "state": {}
     },
     "76a33612c7a148b4a4f4166a6beee8f2": {
      "model_module": "@jupyter-widgets/base",
      "model_module_version": "1.2.0",
      "model_name": "LayoutModel",
      "state": {}
     },
     "7829781143ea4b3e9624bf62fe4a3888": {
      "model_module": "@jupyter-widgets/base",
      "model_module_version": "1.2.0",
      "model_name": "LayoutModel",
      "state": {}
     },
     "78deb97cf4f34a3480ea484c1c1ec312": {
      "model_module": "@jupyter-widgets/base",
      "model_module_version": "1.2.0",
      "model_name": "LayoutModel",
      "state": {}
     },
     "7c111f9e1d824d5eb71a282b37fcd802": {
      "model_module": "@jupyter-widgets/base",
      "model_module_version": "1.2.0",
      "model_name": "LayoutModel",
      "state": {}
     },
     "7df61d569f5c40459254e90cf82d7de9": {
      "model_module": "@jupyter-widgets/base",
      "model_module_version": "1.2.0",
      "model_name": "LayoutModel",
      "state": {}
     },
     "863521309b25411faf245abe3d21f821": {
      "model_module": "@jupyter-widgets/base",
      "model_module_version": "1.2.0",
      "model_name": "LayoutModel",
      "state": {}
     },
     "86e37da1ded94accbbc8059cfdf473cc": {
      "model_module": "@jupyter-widgets/base",
      "model_module_version": "1.2.0",
      "model_name": "LayoutModel",
      "state": {}
     },
     "8975a55f2a244a20b6edb6b708f9a6fd": {
      "model_module": "@jupyter-widgets/controls",
      "model_module_version": "1.5.0",
      "model_name": "HTMLModel",
      "state": {
       "layout": "IPY_MODEL_dffa1fdb41094654b13fd4e3b1f74fdd",
       "style": "IPY_MODEL_9144e81fd03e42d792f38ff68bef1d27",
       "value": "<h3> Top Agencies using Bridge Projects </h3>"
      }
     },
     "8acb6381dc8743a78b77d6d28558e004": {
      "model_module": "@jupyter-widgets/controls",
      "model_module_version": "1.5.0",
      "model_name": "DescriptionStyleModel",
      "state": {
       "description_width": ""
      }
     },
     "8bd525760a3348ccba6d7b43bc96f9a7": {
      "model_module": "@jupyter-widgets/base",
      "model_module_version": "1.2.0",
      "model_name": "LayoutModel",
      "state": {}
     },
     "9144e81fd03e42d792f38ff68bef1d27": {
      "model_module": "@jupyter-widgets/controls",
      "model_module_version": "1.5.0",
      "model_name": "DescriptionStyleModel",
      "state": {
       "description_width": ""
      }
     },
     "934fa255316349deb9cb1c3e0c91e1fe": {
      "model_module": "@jupyter-widgets/base",
      "model_module_version": "1.2.0",
      "model_name": "LayoutModel",
      "state": {}
     },
     "93b09cb4eee94e609bceb3fabcd1c119": {
      "model_module": "@jupyter-widgets/output",
      "model_module_version": "1.0.0",
      "model_name": "OutputModel",
      "state": {
       "layout": "IPY_MODEL_6f12eba975d74e5db07624e75aa79463",
       "outputs": [
        {
         "data": {
          "text/plain": "None"
         },
         "metadata": {},
         "output_type": "display_data"
        },
        {
         "data": {
          "image/png": "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\n",
          "text/plain": "<IPython.core.display.Image object>"
         },
         "metadata": {},
         "output_type": "display_data"
        }
       ]
      }
     },
     "94dba0da469e41bfa2f9fec37646a9c8": {
      "model_module": "@jupyter-widgets/controls",
      "model_module_version": "1.5.0",
      "model_name": "HTMLModel",
      "state": {
       "layout": "IPY_MODEL_9f46472fee1b43e0a957c2cdc4624625",
       "style": "IPY_MODEL_32b93ee3e203404495cc814f96c098fb",
       "value": "<h3> Top Agencies using Bridge Projects </h3>"
      }
     },
     "95076ba67e49463d8f5acad9179843bf": {
      "model_module": "@jupyter-widgets/base",
      "model_module_version": "1.2.0",
      "model_name": "LayoutModel",
      "state": {}
     },
     "95758a3748f54651838c0bfc2793ac3b": {
      "model_module": "@jupyter-widgets/controls",
      "model_module_version": "1.5.0",
      "model_name": "DescriptionStyleModel",
      "state": {
       "description_width": ""
      }
     },
     "96ed32c428284f4e86cdb2b157232106": {
      "model_module": "@jupyter-widgets/base",
      "model_module_version": "1.2.0",
      "model_name": "LayoutModel",
      "state": {}
     },
     "97920fe4455a4f8eb23ed89d686e2dc8": {
      "model_module": "@jupyter-widgets/base",
      "model_module_version": "1.2.0",
      "model_name": "LayoutModel",
      "state": {}
     },
     "997c836062fd456297cc1ba6a3263543": {
      "model_module": "@jupyter-widgets/controls",
      "model_module_version": "1.5.0",
      "model_name": "DescriptionStyleModel",
      "state": {
       "description_width": ""
      }
     },
     "998684f97e104d7c9862a56d7164aa08": {
      "model_module": "@jupyter-widgets/output",
      "model_module_version": "1.0.0",
      "model_name": "OutputModel",
      "state": {
       "layout": "IPY_MODEL_1131074107ba45d7af93124f2237844c",
       "outputs": [
        {
         "name": "stderr",
         "output_type": "stream",
         "text": "E0420 21:37:18.968387994    4600 fork_posix.cc:70]           Fork support is only compatible with the epoll1 and poll polling strategies\nE0420 21:37:18.994000450    4600 fork_posix.cc:70]           Fork support is only compatible with the epoll1 and poll polling strategies\nE0420 21:37:19.016008067    4600 fork_posix.cc:70]           Fork support is only compatible with the epoll1 and poll polling strategies\nE0420 21:37:19.415100743    4600 fork_posix.cc:70]           Fork support is only compatible with the epoll1 and poll polling strategies\n"
        },
        {
         "data": {
          "application/vnd.jupyter.widget-view+json": {
           "model_id": "",
           "version_major": 2,
           "version_minor": 0
          },
          "text/plain": "HTML(value='<h3> Top Agencies using Transit Projects </h3>')"
         },
         "metadata": {},
         "output_type": "display_data"
        },
        {
         "data": {
          "text/html": "<style type=\"text/css\">\n</style>\n<table id=\"T_5e68f\">\n  <thead>\n    <tr>\n      <th class=\"blank level0\" >&nbsp;</th>\n      <th id=\"T_5e68f_level0_col0\" class=\"col_heading level0 col0\" >Agency</th>\n      <th id=\"T_5e68f_level0_col1\" class=\"col_heading level0 col1\" >Transit Obligations</th>\n      <th id=\"T_5e68f_level0_col2\" class=\"col_heading level0 col2\" >Percent of Category</th>\n    </tr>\n  </thead>\n  <tbody>\n    <tr>\n      <th id=\"T_5e68f_level0_row0\" class=\"row_heading level0 row0\" >0</th>\n      <td id=\"T_5e68f_row0_col0\" class=\"data row0 col0\" >Metropolitan Transportation Commission</td>\n      <td id=\"T_5e68f_row0_col1\" class=\"data row0 col1\" >18</td>\n      <td id=\"T_5e68f_row0_col2\" class=\"data row0 col2\" >28.57%</td>\n    </tr>\n    <tr>\n      <th id=\"T_5e68f_level0_row1\" class=\"row_heading level0 row1\" >1</th>\n      <td id=\"T_5e68f_row1_col0\" class=\"data row1 col0\" >Sunnyvale</td>\n      <td id=\"T_5e68f_row1_col1\" class=\"data row1 col1\" >6</td>\n      <td id=\"T_5e68f_row1_col2\" class=\"data row1 col2\" >9.52%</td>\n    </tr>\n    <tr>\n      <th id=\"T_5e68f_level0_row2\" class=\"row_heading level0 row2\" >2</th>\n      <td id=\"T_5e68f_row2_col0\" class=\"data row2 col0\" >Oakland</td>\n      <td id=\"T_5e68f_row2_col1\" class=\"data row2 col1\" >4</td>\n      <td id=\"T_5e68f_row2_col2\" class=\"data row2 col2\" >6.35%</td>\n    </tr>\n    <tr>\n      <th id=\"T_5e68f_level0_row3\" class=\"row_heading level0 row3\" >3</th>\n      <td id=\"T_5e68f_row3_col0\" class=\"data row3 col0\" >San Jose</td>\n      <td id=\"T_5e68f_row3_col1\" class=\"data row3 col1\" >4</td>\n      <td id=\"T_5e68f_row3_col2\" class=\"data row3 col2\" >6.35%</td>\n    </tr>\n    <tr>\n      <th id=\"T_5e68f_level0_row4\" class=\"row_heading level0 row4\" >4</th>\n      <td id=\"T_5e68f_row4_col0\" class=\"data row4 col0\" >San Leandro</td>\n      <td id=\"T_5e68f_row4_col1\" class=\"data row4 col1\" >4</td>\n      <td id=\"T_5e68f_row4_col2\" class=\"data row4 col2\" >6.35%</td>\n    </tr>\n  </tbody>\n</table>\n",
          "text/plain": "<pandas.io.formats.style.Styler at 0x7ff9dcc4fdc0>"
         },
         "metadata": {},
         "output_type": "display_data"
        }
       ]
      }
     },
     "9c13c7fe8b994706a4c0700508ee6b8c": {
      "model_module": "@jupyter-widgets/output",
      "model_module_version": "1.0.0",
      "model_name": "OutputModel",
      "state": {
       "layout": "IPY_MODEL_ca325c1053b745af8a69d9067d68c651",
       "outputs": [
        {
         "name": "stderr",
         "output_type": "stream",
         "text": "E0420 21:37:23.846092867    4600 fork_posix.cc:70]           Fork support is only compatible with the epoll1 and poll polling strategies\nE0420 21:37:23.868528754    4600 fork_posix.cc:70]           Fork support is only compatible with the epoll1 and poll polling strategies\nE0420 21:37:23.887643124    4600 fork_posix.cc:70]           Fork support is only compatible with the epoll1 and poll polling strategies\nE0420 21:37:24.201723197    4600 fork_posix.cc:70]           Fork support is only compatible with the epoll1 and poll polling strategies\n"
        },
        {
         "data": {
          "application/vnd.jupyter.widget-view+json": {
           "model_id": "",
           "version_major": 2,
           "version_minor": 0
          },
          "text/plain": "HTML(value='<h3> Top Agencies using Infrastructure & Emergency Relief Projects </h3>')"
         },
         "metadata": {},
         "output_type": "display_data"
        },
        {
         "data": {
          "text/html": "<style type=\"text/css\">\n</style>\n<table id=\"T_9c311\">\n  <thead>\n    <tr>\n      <th class=\"blank level0\" >&nbsp;</th>\n      <th id=\"T_9c311_level0_col0\" class=\"col_heading level0 col0\" >Agency</th>\n      <th id=\"T_9c311_level0_col1\" class=\"col_heading level0 col1\" >Infrastructure & Emergency Relief Obligations</th>\n      <th id=\"T_9c311_level0_col2\" class=\"col_heading level0 col2\" >Percent of Category</th>\n    </tr>\n  </thead>\n  <tbody>\n    <tr>\n      <th id=\"T_9c311_level0_row0\" class=\"row_heading level0 row0\" >0</th>\n      <td id=\"T_9c311_row0_col0\" class=\"data row0 col0\" >Contra Costa County</td>\n      <td id=\"T_9c311_row0_col1\" class=\"data row0 col1\" >103</td>\n      <td id=\"T_9c311_row0_col2\" class=\"data row0 col2\" >5.24%</td>\n    </tr>\n    <tr>\n      <th id=\"T_9c311_level0_row1\" class=\"row_heading level0 row1\" >1</th>\n      <td id=\"T_9c311_row1_col0\" class=\"data row1 col0\" >Napa County</td>\n      <td id=\"T_9c311_row1_col1\" class=\"data row1 col1\" >88</td>\n      <td id=\"T_9c311_row1_col2\" class=\"data row1 col2\" >4.48%</td>\n    </tr>\n    <tr>\n      <th id=\"T_9c311_level0_row2\" class=\"row_heading level0 row2\" >2</th>\n      <td id=\"T_9c311_row2_col0\" class=\"data row2 col0\" >Santa Clara County</td>\n      <td id=\"T_9c311_row2_col1\" class=\"data row2 col1\" >82</td>\n      <td id=\"T_9c311_row2_col2\" class=\"data row2 col2\" >4.17%</td>\n    </tr>\n    <tr>\n      <th id=\"T_9c311_level0_row3\" class=\"row_heading level0 row3\" >3</th>\n      <td id=\"T_9c311_row3_col0\" class=\"data row3 col0\" >Sonoma County</td>\n      <td id=\"T_9c311_row3_col1\" class=\"data row3 col1\" >71</td>\n      <td id=\"T_9c311_row3_col2\" class=\"data row3 col2\" >3.61%</td>\n    </tr>\n    <tr>\n      <th id=\"T_9c311_level0_row4\" class=\"row_heading level0 row4\" >4</th>\n      <td id=\"T_9c311_row4_col0\" class=\"data row4 col0\" >Oakland</td>\n      <td id=\"T_9c311_row4_col1\" class=\"data row4 col1\" >70</td>\n      <td id=\"T_9c311_row4_col2\" class=\"data row4 col2\" >3.56%</td>\n    </tr>\n  </tbody>\n</table>\n",
          "text/plain": "<pandas.io.formats.style.Styler at 0x7ff9dcc86370>"
         },
         "metadata": {},
         "output_type": "display_data"
        }
       ]
      }
     },
     "9d7529743d5c4e17b810d809f01e5287": {
      "model_module": "@jupyter-widgets/base",
      "model_module_version": "1.2.0",
      "model_name": "LayoutModel",
      "state": {}
     },
     "9d84195eaf2c4670850300e00179b7eb": {
      "model_module": "@jupyter-widgets/controls",
      "model_module_version": "1.5.0",
      "model_name": "DescriptionStyleModel",
      "state": {
       "description_width": ""
      }
     },
     "9f46472fee1b43e0a957c2cdc4624625": {
      "model_module": "@jupyter-widgets/base",
      "model_module_version": "1.2.0",
      "model_name": "LayoutModel",
      "state": {}
     },
     "a0c8df0c3e5740858d8f32292778a605": {
      "model_module": "@jupyter-widgets/base",
      "model_module_version": "1.2.0",
      "model_name": "LayoutModel",
      "state": {}
     },
     "a6e8151792644121bf1a0cee2c51dba6": {
      "model_module": "@jupyter-widgets/controls",
      "model_module_version": "1.5.0",
      "model_name": "DescriptionStyleModel",
      "state": {
       "description_width": ""
      }
     },
     "a9fc8d83bc1b496da9451e91b87f632b": {
      "model_module": "@jupyter-widgets/output",
      "model_module_version": "1.0.0",
      "model_name": "OutputModel",
      "state": {
       "layout": "IPY_MODEL_2a72de32f0a04756b534eb49b13e46fa",
       "outputs": [
        {
         "name": "stderr",
         "output_type": "stream",
         "text": "E0420 21:37:37.743113835    4600 fork_posix.cc:70]           Fork support is only compatible with the epoll1 and poll polling strategies\nE0420 21:37:37.768110741    4600 fork_posix.cc:70]           Fork support is only compatible with the epoll1 and poll polling strategies\nE0420 21:37:37.791338592    4600 fork_posix.cc:70]           Fork support is only compatible with the epoll1 and poll polling strategies\nE0420 21:37:38.116226267    4600 fork_posix.cc:70]           Fork support is only compatible with the epoll1 and poll polling strategies\n"
        },
        {
         "data": {
          "application/vnd.jupyter.widget-view+json": {
           "model_id": "e474c077c6c54da69b700a059906b3e1",
           "version_major": 2,
           "version_minor": 0
          },
          "text/plain": "HTML(value='<h3> Top Agencies using Congestion Relief Projects </h3>')"
         },
         "metadata": {},
         "output_type": "display_data"
        },
        {
         "data": {
          "text/html": "<style type=\"text/css\">\n</style>\n<table id=\"T_9e2f8\">\n  <thead>\n    <tr>\n      <th class=\"blank level0\" >&nbsp;</th>\n      <th id=\"T_9e2f8_level0_col0\" class=\"col_heading level0 col0\" >Agency</th>\n      <th id=\"T_9e2f8_level0_col1\" class=\"col_heading level0 col1\" >Congestion Relief Obligations</th>\n      <th id=\"T_9e2f8_level0_col2\" class=\"col_heading level0 col2\" >Percent of Category</th>\n    </tr>\n  </thead>\n  <tbody>\n    <tr>\n      <th id=\"T_9e2f8_level0_row0\" class=\"row_heading level0 row0\" >0</th>\n      <td id=\"T_9e2f8_row0_col0\" class=\"data row0 col0\" >Contra Costa Transportation Authority</td>\n      <td id=\"T_9e2f8_row0_col1\" class=\"data row0 col1\" >6</td>\n      <td id=\"T_9e2f8_row0_col2\" class=\"data row0 col2\" >22.22%</td>\n    </tr>\n    <tr>\n      <th id=\"T_9e2f8_level0_row1\" class=\"row_heading level0 row1\" >1</th>\n      <td id=\"T_9e2f8_row1_col0\" class=\"data row1 col0\" >Metropolitan Transportation Commission</td>\n      <td id=\"T_9e2f8_row1_col1\" class=\"data row1 col1\" >5</td>\n      <td id=\"T_9e2f8_row1_col2\" class=\"data row1 col2\" >18.52%</td>\n    </tr>\n    <tr>\n      <th id=\"T_9e2f8_level0_row2\" class=\"row_heading level0 row2\" >2</th>\n      <td id=\"T_9e2f8_row2_col0\" class=\"data row2 col0\" >Sonoma County Transportation Authority</td>\n      <td id=\"T_9e2f8_row2_col1\" class=\"data row2 col1\" >4</td>\n      <td id=\"T_9e2f8_row2_col2\" class=\"data row2 col2\" >14.81%</td>\n    </tr>\n    <tr>\n      <th id=\"T_9e2f8_level0_row3\" class=\"row_heading level0 row3\" >3</th>\n      <td id=\"T_9e2f8_row3_col0\" class=\"data row3 col0\" >San Mateo</td>\n      <td id=\"T_9e2f8_row3_col1\" class=\"data row3 col1\" >3</td>\n      <td id=\"T_9e2f8_row3_col2\" class=\"data row3 col2\" >11.11%</td>\n    </tr>\n    <tr>\n      <th id=\"T_9e2f8_level0_row4\" class=\"row_heading level0 row4\" >4</th>\n      <td id=\"T_9e2f8_row4_col0\" class=\"data row4 col0\" >Solano Transportation Authority</td>\n      <td id=\"T_9e2f8_row4_col1\" class=\"data row4 col1\" >3</td>\n      <td id=\"T_9e2f8_row4_col2\" class=\"data row4 col2\" >11.11%</td>\n    </tr>\n  </tbody>\n</table>\n",
          "text/plain": "<pandas.io.formats.style.Styler at 0x7ff9dcc6d580>"
         },
         "metadata": {},
         "output_type": "display_data"
        }
       ]
      }
     },
     "aa11d17182d64f79a5f1ed0fe80582d6": {
      "model_module": "@jupyter-widgets/base",
      "model_module_version": "1.2.0",
      "model_name": "LayoutModel",
      "state": {}
     },
     "aa45f957856240ff978a47edb2173309": {
      "model_module": "@jupyter-widgets/base",
      "model_module_version": "1.2.0",
      "model_name": "LayoutModel",
      "state": {}
     },
     "aab40721c38e4d59831ee933f20b8c1a": {
      "model_module": "@jupyter-widgets/controls",
      "model_module_version": "1.5.0",
      "model_name": "HTMLModel",
      "state": {
       "layout": "IPY_MODEL_97920fe4455a4f8eb23ed89d686e2dc8",
       "style": "IPY_MODEL_8acb6381dc8743a78b77d6d28558e004",
       "value": "<h3> Top Agencies using Active Transportation Projects </h3>"
      }
     },
     "b13a340c3e444430bbcbe0fa28eb057f": {
      "model_module": "@jupyter-widgets/base",
      "model_module_version": "1.2.0",
      "model_name": "LayoutModel",
      "state": {}
     },
     "b1a933cd2cd74feca29ac32bcc18fcbb": {
      "model_module": "@jupyter-widgets/output",
      "model_module_version": "1.0.0",
      "model_name": "OutputModel",
      "state": {
       "layout": "IPY_MODEL_1f89f6c9e1cd4ac6b24200ffda7ccd12",
       "outputs": [
        {
         "name": "stderr",
         "output_type": "stream",
         "text": "E0420 21:37:34.269337904    4600 fork_posix.cc:70]           Fork support is only compatible with the epoll1 and poll polling strategies\nE0420 21:37:34.289461577    4600 fork_posix.cc:70]           Fork support is only compatible with the epoll1 and poll polling strategies\nE0420 21:37:34.305185663    4600 fork_posix.cc:70]           Fork support is only compatible with the epoll1 and poll polling strategies\nE0420 21:37:34.598785911    4600 fork_posix.cc:70]           Fork support is only compatible with the epoll1 and poll polling strategies\n"
        },
        {
         "data": {
          "application/vnd.jupyter.widget-view+json": {
           "model_id": "17fce4934695458d8cd8c300b69e16c6",
           "version_major": 2,
           "version_minor": 0
          },
          "text/plain": "HTML(value='<h3> Top Agencies using Street Projects </h3>')"
         },
         "metadata": {},
         "output_type": "display_data"
        },
        {
         "data": {
          "text/html": "<style type=\"text/css\">\n</style>\n<table id=\"T_c6277\">\n  <thead>\n    <tr>\n      <th class=\"blank level0\" >&nbsp;</th>\n      <th id=\"T_c6277_level0_col0\" class=\"col_heading level0 col0\" >Agency</th>\n      <th id=\"T_c6277_level0_col1\" class=\"col_heading level0 col1\" >Street Obligations</th>\n      <th id=\"T_c6277_level0_col2\" class=\"col_heading level0 col2\" >Percent of Category</th>\n    </tr>\n  </thead>\n  <tbody>\n    <tr>\n      <th id=\"T_c6277_level0_row0\" class=\"row_heading level0 row0\" >0</th>\n      <td id=\"T_c6277_row0_col0\" class=\"data row0 col0\" >Contra Costa County</td>\n      <td id=\"T_c6277_row0_col1\" class=\"data row0 col1\" >82</td>\n      <td id=\"T_c6277_row0_col2\" class=\"data row0 col2\" >6.20%</td>\n    </tr>\n    <tr>\n      <th id=\"T_c6277_level0_row1\" class=\"row_heading level0 row1\" >1</th>\n      <td id=\"T_c6277_row1_col0\" class=\"data row1 col0\" >Oakland</td>\n      <td id=\"T_c6277_row1_col1\" class=\"data row1 col1\" >82</td>\n      <td id=\"T_c6277_row1_col2\" class=\"data row1 col2\" >6.20%</td>\n    </tr>\n    <tr>\n      <th id=\"T_c6277_level0_row2\" class=\"row_heading level0 row2\" >2</th>\n      <td id=\"T_c6277_row2_col0\" class=\"data row2 col0\" >San Jose</td>\n      <td id=\"T_c6277_row2_col1\" class=\"data row2 col1\" >66</td>\n      <td id=\"T_c6277_row2_col2\" class=\"data row2 col2\" >4.99%</td>\n    </tr>\n    <tr>\n      <th id=\"T_c6277_level0_row3\" class=\"row_heading level0 row3\" >3</th>\n      <td id=\"T_c6277_row3_col0\" class=\"data row3 col0\" >San Francisco County</td>\n      <td id=\"T_c6277_row3_col1\" class=\"data row3 col1\" >45</td>\n      <td id=\"T_c6277_row3_col2\" class=\"data row3 col2\" >3.40%</td>\n    </tr>\n    <tr>\n      <th id=\"T_c6277_level0_row4\" class=\"row_heading level0 row4\" >4</th>\n      <td id=\"T_c6277_row4_col0\" class=\"data row4 col0\" >Sunnyvale</td>\n      <td id=\"T_c6277_row4_col1\" class=\"data row4 col1\" >45</td>\n      <td id=\"T_c6277_row4_col2\" class=\"data row4 col2\" >3.40%</td>\n    </tr>\n  </tbody>\n</table>\n",
          "text/plain": "<pandas.io.formats.style.Styler at 0x7ff9dcc4ffa0>"
         },
         "metadata": {},
         "output_type": "display_data"
        }
       ]
      }
     },
     "b7eaf5115a2444668a4ef6aa19f571b7": {
      "model_module": "@jupyter-widgets/controls",
      "model_module_version": "1.5.0",
      "model_name": "DescriptionStyleModel",
      "state": {
       "description_width": ""
      }
     },
     "b80b0c3706f544b08b3ad5e6dc44b609": {
      "model_module": "@jupyter-widgets/base",
      "model_module_version": "1.2.0",
      "model_name": "LayoutModel",
      "state": {}
     },
     "b8dbe8e3a2164df785f20508cc38f033": {
      "model_module": "@jupyter-widgets/controls",
      "model_module_version": "1.5.0",
      "model_name": "DescriptionStyleModel",
      "state": {
       "description_width": ""
      }
     },
     "ba788d8e4ec944e0b8e9c00704293c7f": {
      "model_module": "@jupyter-widgets/output",
      "model_module_version": "1.0.0",
      "model_name": "OutputModel",
      "state": {
       "layout": "IPY_MODEL_cd19bb1c934b4f51904649bf7741f20f",
       "outputs": [
        {
         "name": "stderr",
         "output_type": "stream",
         "text": "E0420 21:35:09.374668638    4600 fork_posix.cc:70]           Fork support is only compatible with the epoll1 and poll polling strategies\nE0420 21:35:09.413514260    4600 fork_posix.cc:70]           Fork support is only compatible with the epoll1 and poll polling strategies\nE0420 21:35:09.443588248    4600 fork_posix.cc:70]           Fork support is only compatible with the epoll1 and poll polling strategies\nE0420 21:35:09.778979848    4600 fork_posix.cc:70]           Fork support is only compatible with the epoll1 and poll polling strategies\n"
        },
        {
         "data": {
          "application/vnd.jupyter.widget-view+json": {
           "model_id": "",
           "version_major": 2,
           "version_minor": 0
          },
          "text/plain": "HTML(value='<h3> Top Agencies using Transit Projects </h3>')"
         },
         "metadata": {},
         "output_type": "display_data"
        },
        {
         "data": {
          "text/html": "<style type=\"text/css\">\n</style>\n<table id=\"T_c6d77\">\n  <thead>\n    <tr>\n      <th class=\"blank level0\" >&nbsp;</th>\n      <th id=\"T_c6d77_level0_col0\" class=\"col_heading level0 col0\" >Agency</th>\n      <th id=\"T_c6d77_level0_col1\" class=\"col_heading level0 col1\" >Transit Obligations</th>\n      <th id=\"T_c6d77_level0_col2\" class=\"col_heading level0 col2\" >Percent of Category</th>\n    </tr>\n  </thead>\n  <tbody>\n    <tr>\n      <th id=\"T_c6d77_level0_row0\" class=\"row_heading level0 row0\" >0</th>\n      <td id=\"T_c6d77_row0_col0\" class=\"data row0 col0\" >Metropolitan Transportation Commission</td>\n      <td id=\"T_c6d77_row0_col1\" class=\"data row0 col1\" >18</td>\n      <td id=\"T_c6d77_row0_col2\" class=\"data row0 col2\" >28.57%</td>\n    </tr>\n    <tr>\n      <th id=\"T_c6d77_level0_row1\" class=\"row_heading level0 row1\" >1</th>\n      <td id=\"T_c6d77_row1_col0\" class=\"data row1 col0\" >Sunnyvale</td>\n      <td id=\"T_c6d77_row1_col1\" class=\"data row1 col1\" >6</td>\n      <td id=\"T_c6d77_row1_col2\" class=\"data row1 col2\" >9.52%</td>\n    </tr>\n    <tr>\n      <th id=\"T_c6d77_level0_row2\" class=\"row_heading level0 row2\" >2</th>\n      <td id=\"T_c6d77_row2_col0\" class=\"data row2 col0\" >Oakland</td>\n      <td id=\"T_c6d77_row2_col1\" class=\"data row2 col1\" >4</td>\n      <td id=\"T_c6d77_row2_col2\" class=\"data row2 col2\" >6.35%</td>\n    </tr>\n    <tr>\n      <th id=\"T_c6d77_level0_row3\" class=\"row_heading level0 row3\" >3</th>\n      <td id=\"T_c6d77_row3_col0\" class=\"data row3 col0\" >San Jose</td>\n      <td id=\"T_c6d77_row3_col1\" class=\"data row3 col1\" >4</td>\n      <td id=\"T_c6d77_row3_col2\" class=\"data row3 col2\" >6.35%</td>\n    </tr>\n    <tr>\n      <th id=\"T_c6d77_level0_row4\" class=\"row_heading level0 row4\" >4</th>\n      <td id=\"T_c6d77_row4_col0\" class=\"data row4 col0\" >San Leandro</td>\n      <td id=\"T_c6d77_row4_col1\" class=\"data row4 col1\" >4</td>\n      <td id=\"T_c6d77_row4_col2\" class=\"data row4 col2\" >6.35%</td>\n    </tr>\n  </tbody>\n</table>\n",
          "text/plain": "<pandas.io.formats.style.Styler at 0x7ff9dccd0b50>"
         },
         "metadata": {},
         "output_type": "display_data"
        }
       ]
      }
     },
     "bb740fff7c014aae8d7cec299392c847": {
      "model_module": "@jupyter-widgets/output",
      "model_module_version": "1.0.0",
      "model_name": "OutputModel",
      "state": {
       "layout": "IPY_MODEL_9d7529743d5c4e17b810d809f01e5287",
       "outputs": [
        {
         "name": "stderr",
         "output_type": "stream",
         "text": "E0420 21:35:13.978025759    4600 fork_posix.cc:70]           Fork support is only compatible with the epoll1 and poll polling strategies\nE0420 21:35:13.997434914    4600 fork_posix.cc:70]           Fork support is only compatible with the epoll1 and poll polling strategies\nE0420 21:35:14.014994627    4600 fork_posix.cc:70]           Fork support is only compatible with the epoll1 and poll polling strategies\nE0420 21:35:14.315522166    4600 fork_posix.cc:70]           Fork support is only compatible with the epoll1 and poll polling strategies\n"
        },
        {
         "data": {
          "application/vnd.jupyter.widget-view+json": {
           "model_id": "",
           "version_major": 2,
           "version_minor": 0
          },
          "text/plain": "HTML(value='<h3> Top Agencies using Infrastructure & Emergency Relief Projects </h3>')"
         },
         "metadata": {},
         "output_type": "display_data"
        },
        {
         "data": {
          "text/html": "<style type=\"text/css\">\n</style>\n<table id=\"T_84373\">\n  <thead>\n    <tr>\n      <th class=\"blank level0\" >&nbsp;</th>\n      <th id=\"T_84373_level0_col0\" class=\"col_heading level0 col0\" >Agency</th>\n      <th id=\"T_84373_level0_col1\" class=\"col_heading level0 col1\" >Infrastructure & Emergency Relief Obligations</th>\n      <th id=\"T_84373_level0_col2\" class=\"col_heading level0 col2\" >Percent of Category</th>\n    </tr>\n  </thead>\n  <tbody>\n    <tr>\n      <th id=\"T_84373_level0_row0\" class=\"row_heading level0 row0\" >0</th>\n      <td id=\"T_84373_row0_col0\" class=\"data row0 col0\" >Contra Costa County</td>\n      <td id=\"T_84373_row0_col1\" class=\"data row0 col1\" >103</td>\n      <td id=\"T_84373_row0_col2\" class=\"data row0 col2\" >5.24%</td>\n    </tr>\n    <tr>\n      <th id=\"T_84373_level0_row1\" class=\"row_heading level0 row1\" >1</th>\n      <td id=\"T_84373_row1_col0\" class=\"data row1 col0\" >Napa County</td>\n      <td id=\"T_84373_row1_col1\" class=\"data row1 col1\" >88</td>\n      <td id=\"T_84373_row1_col2\" class=\"data row1 col2\" >4.48%</td>\n    </tr>\n    <tr>\n      <th id=\"T_84373_level0_row2\" class=\"row_heading level0 row2\" >2</th>\n      <td id=\"T_84373_row2_col0\" class=\"data row2 col0\" >Santa Clara County</td>\n      <td id=\"T_84373_row2_col1\" class=\"data row2 col1\" >82</td>\n      <td id=\"T_84373_row2_col2\" class=\"data row2 col2\" >4.17%</td>\n    </tr>\n    <tr>\n      <th id=\"T_84373_level0_row3\" class=\"row_heading level0 row3\" >3</th>\n      <td id=\"T_84373_row3_col0\" class=\"data row3 col0\" >Sonoma County</td>\n      <td id=\"T_84373_row3_col1\" class=\"data row3 col1\" >71</td>\n      <td id=\"T_84373_row3_col2\" class=\"data row3 col2\" >3.61%</td>\n    </tr>\n    <tr>\n      <th id=\"T_84373_level0_row4\" class=\"row_heading level0 row4\" >4</th>\n      <td id=\"T_84373_row4_col0\" class=\"data row4 col0\" >Oakland</td>\n      <td id=\"T_84373_row4_col1\" class=\"data row4 col1\" >70</td>\n      <td id=\"T_84373_row4_col2\" class=\"data row4 col2\" >3.56%</td>\n    </tr>\n  </tbody>\n</table>\n",
          "text/plain": "<pandas.io.formats.style.Styler at 0x7ff9dcc86580>"
         },
         "metadata": {},
         "output_type": "display_data"
        }
       ]
      }
     },
     "bdf8493626a040adab643af769425932": {
      "model_module": "@jupyter-widgets/base",
      "model_module_version": "1.2.0",
      "model_name": "LayoutModel",
      "state": {}
     },
     "c154561483fc4bbb95cfaebdbe9fa15f": {
      "model_module": "@jupyter-widgets/base",
      "model_module_version": "1.2.0",
      "model_name": "LayoutModel",
      "state": {}
     },
     "c1808e45b4414fa29b98a66c248ff3ce": {
      "model_module": "@jupyter-widgets/base",
      "model_module_version": "1.2.0",
      "model_name": "LayoutModel",
      "state": {}
     },
     "c21ffa772e1c45d795446cff9a627ec7": {
      "model_module": "@jupyter-widgets/controls",
      "model_module_version": "1.5.0",
      "model_name": "DescriptionStyleModel",
      "state": {
       "description_width": ""
      }
     },
     "c5270ea5b8e2451b8fdf8b0c79529665": {
      "model_module": "@jupyter-widgets/base",
      "model_module_version": "1.2.0",
      "model_name": "LayoutModel",
      "state": {}
     },
     "c8be9fafc98d4c7a8499fe47b6644ce6": {
      "model_module": "@jupyter-widgets/controls",
      "model_module_version": "1.5.0",
      "model_name": "DescriptionStyleModel",
      "state": {
       "description_width": ""
      }
     },
     "ca325c1053b745af8a69d9067d68c651": {
      "model_module": "@jupyter-widgets/base",
      "model_module_version": "1.2.0",
      "model_name": "LayoutModel",
      "state": {}
     },
     "cc45260ec93d44db9fbac89399539db0": {
      "model_module": "@jupyter-widgets/base",
      "model_module_version": "1.2.0",
      "model_name": "LayoutModel",
      "state": {}
     },
     "cd19bb1c934b4f51904649bf7741f20f": {
      "model_module": "@jupyter-widgets/base",
      "model_module_version": "1.2.0",
      "model_name": "LayoutModel",
      "state": {}
     },
     "d12b0357cebd47b6b3fc6a42dbc6efa0": {
      "model_module": "@jupyter-widgets/controls",
      "model_module_version": "1.5.0",
      "model_name": "DescriptionStyleModel",
      "state": {
       "description_width": ""
      }
     },
     "d1782061fe4148f6aeeee02bf7e7f53a": {
      "model_module": "@jupyter-widgets/controls",
      "model_module_version": "1.5.0",
      "model_name": "HTMLModel",
      "state": {
       "layout": "IPY_MODEL_1485c69272894083be26818ee99cf003",
       "style": "IPY_MODEL_1c1ee36b8282400e86b555a77bbe8c43",
       "value": "<h3> Top Agencies using Freeway Projects </h3>"
      }
     },
     "d1bd1cb6a2c5477cb50611373799012b": {
      "model_module": "@jupyter-widgets/controls",
      "model_module_version": "1.5.0",
      "model_name": "HTMLModel",
      "state": {
       "layout": "IPY_MODEL_934fa255316349deb9cb1c3e0c91e1fe",
       "style": "IPY_MODEL_df8b3456fd6a40869f7812b190a01411",
       "value": "<h3> Top Agencies using Transit Projects </h3>"
      }
     },
     "d2ea51064c714d2fa721af9b3137edae": {
      "model_module": "@jupyter-widgets/base",
      "model_module_version": "1.2.0",
      "model_name": "LayoutModel",
      "state": {}
     },
     "d6b53808c0a3455782127fe6d37baca9": {
      "model_module": "@jupyter-widgets/controls",
      "model_module_version": "1.5.0",
      "model_name": "HTMLModel",
      "state": {
       "layout": "IPY_MODEL_7df61d569f5c40459254e90cf82d7de9",
       "style": "IPY_MODEL_eb67334803bd404b93aedb308df18961",
       "value": "<h3> Top Agencies using Infrastructure & Emergency Relief Projects </h3>"
      }
     },
     "d774571b043f408c923317c15e1faa14": {
      "model_module": "@jupyter-widgets/controls",
      "model_module_version": "1.5.0",
      "model_name": "DescriptionStyleModel",
      "state": {
       "description_width": ""
      }
     },
     "d937fb13d67948c7bf0a72f4ed3c191a": {
      "model_module": "@jupyter-widgets/output",
      "model_module_version": "1.0.0",
      "model_name": "OutputModel",
      "state": {
       "layout": "IPY_MODEL_0931bb94788e461781baefc949dabec8",
       "outputs": [
        {
         "name": "stderr",
         "output_type": "stream",
         "text": "E0420 21:35:11.716958912    4600 fork_posix.cc:70]           Fork support is only compatible with the epoll1 and poll polling strategies\nE0420 21:35:11.742150815    4600 fork_posix.cc:70]           Fork support is only compatible with the epoll1 and poll polling strategies\nE0420 21:35:11.759057861    4600 fork_posix.cc:70]           Fork support is only compatible with the epoll1 and poll polling strategies\nE0420 21:35:12.059916837    4600 fork_posix.cc:70]           Fork support is only compatible with the epoll1 and poll polling strategies\n"
        },
        {
         "data": {
          "application/vnd.jupyter.widget-view+json": {
           "model_id": "",
           "version_major": 2,
           "version_minor": 0
          },
          "text/plain": "HTML(value='<h3> Top Agencies using Street Projects </h3>')"
         },
         "metadata": {},
         "output_type": "display_data"
        },
        {
         "data": {
          "text/html": "<style type=\"text/css\">\n</style>\n<table id=\"T_f8229\">\n  <thead>\n    <tr>\n      <th class=\"blank level0\" >&nbsp;</th>\n      <th id=\"T_f8229_level0_col0\" class=\"col_heading level0 col0\" >Agency</th>\n      <th id=\"T_f8229_level0_col1\" class=\"col_heading level0 col1\" >Street Obligations</th>\n      <th id=\"T_f8229_level0_col2\" class=\"col_heading level0 col2\" >Percent of Category</th>\n    </tr>\n  </thead>\n  <tbody>\n    <tr>\n      <th id=\"T_f8229_level0_row0\" class=\"row_heading level0 row0\" >0</th>\n      <td id=\"T_f8229_row0_col0\" class=\"data row0 col0\" >Contra Costa County</td>\n      <td id=\"T_f8229_row0_col1\" class=\"data row0 col1\" >82</td>\n      <td id=\"T_f8229_row0_col2\" class=\"data row0 col2\" >6.20%</td>\n    </tr>\n    <tr>\n      <th id=\"T_f8229_level0_row1\" class=\"row_heading level0 row1\" >1</th>\n      <td id=\"T_f8229_row1_col0\" class=\"data row1 col0\" >Oakland</td>\n      <td id=\"T_f8229_row1_col1\" class=\"data row1 col1\" >82</td>\n      <td id=\"T_f8229_row1_col2\" class=\"data row1 col2\" >6.20%</td>\n    </tr>\n    <tr>\n      <th id=\"T_f8229_level0_row2\" class=\"row_heading level0 row2\" >2</th>\n      <td id=\"T_f8229_row2_col0\" class=\"data row2 col0\" >San Jose</td>\n      <td id=\"T_f8229_row2_col1\" class=\"data row2 col1\" >66</td>\n      <td id=\"T_f8229_row2_col2\" class=\"data row2 col2\" >4.99%</td>\n    </tr>\n    <tr>\n      <th id=\"T_f8229_level0_row3\" class=\"row_heading level0 row3\" >3</th>\n      <td id=\"T_f8229_row3_col0\" class=\"data row3 col0\" >San Francisco County</td>\n      <td id=\"T_f8229_row3_col1\" class=\"data row3 col1\" >45</td>\n      <td id=\"T_f8229_row3_col2\" class=\"data row3 col2\" >3.40%</td>\n    </tr>\n    <tr>\n      <th id=\"T_f8229_level0_row4\" class=\"row_heading level0 row4\" >4</th>\n      <td id=\"T_f8229_row4_col0\" class=\"data row4 col0\" >Sunnyvale</td>\n      <td id=\"T_f8229_row4_col1\" class=\"data row4 col1\" >45</td>\n      <td id=\"T_f8229_row4_col2\" class=\"data row4 col2\" >3.40%</td>\n    </tr>\n  </tbody>\n</table>\n",
          "text/plain": "<pandas.io.formats.style.Styler at 0x7ff9dcc85af0>"
         },
         "metadata": {},
         "output_type": "display_data"
        }
       ]
      }
     },
     "d9521a18d7de4e768e3f406068d47c4d": {
      "model_module": "@jupyter-widgets/controls",
      "model_module_version": "1.5.0",
      "model_name": "HTMLModel",
      "state": {
       "layout": "IPY_MODEL_cc45260ec93d44db9fbac89399539db0",
       "style": "IPY_MODEL_2c149c8493f44beab2fdb06c1bd1de36",
       "value": "<h3> Top Agencies using Freeway Projects </h3>"
      }
     },
     "deb5f56a57af4ce68bbb6955c79dd713": {
      "model_module": "@jupyter-widgets/base",
      "model_module_version": "1.2.0",
      "model_name": "LayoutModel",
      "state": {}
     },
     "df8b3456fd6a40869f7812b190a01411": {
      "model_module": "@jupyter-widgets/controls",
      "model_module_version": "1.5.0",
      "model_name": "DescriptionStyleModel",
      "state": {
       "description_width": ""
      }
     },
     "dfb47dc5296a4cc986d8975da6cd6817": {
      "model_module": "@jupyter-widgets/output",
      "model_module_version": "1.0.0",
      "model_name": "OutputModel",
      "state": {
       "layout": "IPY_MODEL_7829781143ea4b3e9624bf62fe4a3888",
       "outputs": [
        {
         "name": "stderr",
         "output_type": "stream",
         "text": "E0420 21:35:15.102792420    4600 fork_posix.cc:70]           Fork support is only compatible with the epoll1 and poll polling strategies\nE0420 21:35:15.121089974    4600 fork_posix.cc:70]           Fork support is only compatible with the epoll1 and poll polling strategies\nE0420 21:35:15.144902074    4600 fork_posix.cc:70]           Fork support is only compatible with the epoll1 and poll polling strategies\nE0420 21:35:15.444830236    4600 fork_posix.cc:70]           Fork support is only compatible with the epoll1 and poll polling strategies\n"
        },
        {
         "data": {
          "application/vnd.jupyter.widget-view+json": {
           "model_id": "",
           "version_major": 2,
           "version_minor": 0
          },
          "text/plain": "HTML(value='<h3> Top Agencies using Congestion Relief Projects </h3>')"
         },
         "metadata": {},
         "output_type": "display_data"
        },
        {
         "data": {
          "text/html": "<style type=\"text/css\">\n</style>\n<table id=\"T_79eae\">\n  <thead>\n    <tr>\n      <th class=\"blank level0\" >&nbsp;</th>\n      <th id=\"T_79eae_level0_col0\" class=\"col_heading level0 col0\" >Agency</th>\n      <th id=\"T_79eae_level0_col1\" class=\"col_heading level0 col1\" >Congestion Relief Obligations</th>\n      <th id=\"T_79eae_level0_col2\" class=\"col_heading level0 col2\" >Percent of Category</th>\n    </tr>\n  </thead>\n  <tbody>\n    <tr>\n      <th id=\"T_79eae_level0_row0\" class=\"row_heading level0 row0\" >0</th>\n      <td id=\"T_79eae_row0_col0\" class=\"data row0 col0\" >Contra Costa Transportation Authority</td>\n      <td id=\"T_79eae_row0_col1\" class=\"data row0 col1\" >6</td>\n      <td id=\"T_79eae_row0_col2\" class=\"data row0 col2\" >22.22%</td>\n    </tr>\n    <tr>\n      <th id=\"T_79eae_level0_row1\" class=\"row_heading level0 row1\" >1</th>\n      <td id=\"T_79eae_row1_col0\" class=\"data row1 col0\" >Metropolitan Transportation Commission</td>\n      <td id=\"T_79eae_row1_col1\" class=\"data row1 col1\" >5</td>\n      <td id=\"T_79eae_row1_col2\" class=\"data row1 col2\" >18.52%</td>\n    </tr>\n    <tr>\n      <th id=\"T_79eae_level0_row2\" class=\"row_heading level0 row2\" >2</th>\n      <td id=\"T_79eae_row2_col0\" class=\"data row2 col0\" >Sonoma County Transportation Authority</td>\n      <td id=\"T_79eae_row2_col1\" class=\"data row2 col1\" >4</td>\n      <td id=\"T_79eae_row2_col2\" class=\"data row2 col2\" >14.81%</td>\n    </tr>\n    <tr>\n      <th id=\"T_79eae_level0_row3\" class=\"row_heading level0 row3\" >3</th>\n      <td id=\"T_79eae_row3_col0\" class=\"data row3 col0\" >San Mateo</td>\n      <td id=\"T_79eae_row3_col1\" class=\"data row3 col1\" >3</td>\n      <td id=\"T_79eae_row3_col2\" class=\"data row3 col2\" >11.11%</td>\n    </tr>\n    <tr>\n      <th id=\"T_79eae_level0_row4\" class=\"row_heading level0 row4\" >4</th>\n      <td id=\"T_79eae_row4_col0\" class=\"data row4 col0\" >Solano Transportation Authority</td>\n      <td id=\"T_79eae_row4_col1\" class=\"data row4 col1\" >3</td>\n      <td id=\"T_79eae_row4_col2\" class=\"data row4 col2\" >11.11%</td>\n    </tr>\n  </tbody>\n</table>\n",
          "text/plain": "<pandas.io.formats.style.Styler at 0x7ff9dcc8d5b0>"
         },
         "metadata": {},
         "output_type": "display_data"
        }
       ]
      }
     },
     "dfc353523b8c40bea3ee374a095b8a7a": {
      "model_module": "@jupyter-widgets/controls",
      "model_module_version": "1.5.0",
      "model_name": "DescriptionStyleModel",
      "state": {
       "description_width": ""
      }
     },
     "dffa1fdb41094654b13fd4e3b1f74fdd": {
      "model_module": "@jupyter-widgets/base",
      "model_module_version": "1.2.0",
      "model_name": "LayoutModel",
      "state": {}
     },
     "e2905fec08bc406d915197bcbef5a36a": {
      "model_module": "@jupyter-widgets/controls",
      "model_module_version": "1.5.0",
      "model_name": "HTMLModel",
      "state": {
       "layout": "IPY_MODEL_b80b0c3706f544b08b3ad5e6dc44b609",
       "style": "IPY_MODEL_dfc353523b8c40bea3ee374a095b8a7a",
       "value": "<h3> Top Agencies using Street Projects </h3>"
      }
     },
     "e30c58a2b6434471b3337773833d6a0a": {
      "model_module": "@jupyter-widgets/output",
      "model_module_version": "1.0.0",
      "model_name": "OutputModel",
      "state": {
       "layout": "IPY_MODEL_bdf8493626a040adab643af769425932",
       "outputs": [
        {
         "name": "stderr",
         "output_type": "stream",
         "text": "E0420 21:37:33.159427495    4600 fork_posix.cc:70]           Fork support is only compatible with the epoll1 and poll polling strategies\nE0420 21:37:33.183749284    4600 fork_posix.cc:70]           Fork support is only compatible with the epoll1 and poll polling strategies\nE0420 21:37:33.204296104    4600 fork_posix.cc:70]           Fork support is only compatible with the epoll1 and poll polling strategies\nE0420 21:37:33.501503157    4600 fork_posix.cc:70]           Fork support is only compatible with the epoll1 and poll polling strategies\n"
        },
        {
         "data": {
          "application/vnd.jupyter.widget-view+json": {
           "model_id": "55ab58d0973a4b198255f64713d5f286",
           "version_major": 2,
           "version_minor": 0
          },
          "text/plain": "HTML(value='<h3> Top Agencies using Bridge Projects </h3>')"
         },
         "metadata": {},
         "output_type": "display_data"
        },
        {
         "data": {
          "text/html": "<style type=\"text/css\">\n</style>\n<table id=\"T_6fa26\">\n  <thead>\n    <tr>\n      <th class=\"blank level0\" >&nbsp;</th>\n      <th id=\"T_6fa26_level0_col0\" class=\"col_heading level0 col0\" >Agency</th>\n      <th id=\"T_6fa26_level0_col1\" class=\"col_heading level0 col1\" >Bridge Obligations</th>\n      <th id=\"T_6fa26_level0_col2\" class=\"col_heading level0 col2\" >Percent of Category</th>\n    </tr>\n  </thead>\n  <tbody>\n    <tr>\n      <th id=\"T_6fa26_level0_row0\" class=\"row_heading level0 row0\" >0</th>\n      <td id=\"T_6fa26_row0_col0\" class=\"data row0 col0\" >Santa Clara County</td>\n      <td id=\"T_6fa26_row0_col1\" class=\"data row0 col1\" >68</td>\n      <td id=\"T_6fa26_row0_col2\" class=\"data row0 col2\" >14.11%</td>\n    </tr>\n    <tr>\n      <th id=\"T_6fa26_level0_row1\" class=\"row_heading level0 row1\" >1</th>\n      <td id=\"T_6fa26_row1_col0\" class=\"data row1 col0\" >Contra Costa County</td>\n      <td id=\"T_6fa26_row1_col1\" class=\"data row1 col1\" >44</td>\n      <td id=\"T_6fa26_row1_col2\" class=\"data row1 col2\" >9.13%</td>\n    </tr>\n    <tr>\n      <th id=\"T_6fa26_level0_row2\" class=\"row_heading level0 row2\" >2</th>\n      <td id=\"T_6fa26_row2_col0\" class=\"data row2 col0\" >Sonoma County</td>\n      <td id=\"T_6fa26_row2_col1\" class=\"data row2 col1\" >34</td>\n      <td id=\"T_6fa26_row2_col2\" class=\"data row2 col2\" >7.05%</td>\n    </tr>\n    <tr>\n      <th id=\"T_6fa26_level0_row3\" class=\"row_heading level0 row3\" >3</th>\n      <td id=\"T_6fa26_row3_col0\" class=\"data row3 col0\" >Napa County</td>\n      <td id=\"T_6fa26_row3_col1\" class=\"data row3 col1\" >25</td>\n      <td id=\"T_6fa26_row3_col2\" class=\"data row3 col2\" >5.19%</td>\n    </tr>\n    <tr>\n      <th id=\"T_6fa26_level0_row4\" class=\"row_heading level0 row4\" >4</th>\n      <td id=\"T_6fa26_row4_col0\" class=\"data row4 col0\" >Oakland</td>\n      <td id=\"T_6fa26_row4_col1\" class=\"data row4 col1\" >22</td>\n      <td id=\"T_6fa26_row4_col2\" class=\"data row4 col2\" >4.56%</td>\n    </tr>\n  </tbody>\n</table>\n",
          "text/plain": "<pandas.io.formats.style.Styler at 0x7ff9dcc81790>"
         },
         "metadata": {},
         "output_type": "display_data"
        }
       ]
      }
     },
     "e33c16742a5c4488b6f9e23b1e377e12": {
      "model_module": "@jupyter-widgets/controls",
      "model_module_version": "1.5.0",
      "model_name": "TabModel",
      "state": {
       "_titles": {
        "0": "Active Transportation",
        "1": "Transit",
        "2": "Bridge",
        "3": "Street",
        "4": "Freeway",
        "5": "Infrastructure & Emergency Relief",
        "6": "Congestion Relief"
       },
       "children": [
        "IPY_MODEL_59906b06bab04978a3ae0b2eba3ddc33",
        "IPY_MODEL_ba788d8e4ec944e0b8e9c00704293c7f",
        "IPY_MODEL_1b19f25215bf48f19a826de98bfdab78",
        "IPY_MODEL_d937fb13d67948c7bf0a72f4ed3c191a",
        "IPY_MODEL_04965fa7b9244977ae26aa50016a8022",
        "IPY_MODEL_bb740fff7c014aae8d7cec299392c847",
        "IPY_MODEL_dfb47dc5296a4cc986d8975da6cd6817"
       ],
       "layout": "IPY_MODEL_95076ba67e49463d8f5acad9179843bf"
      }
     },
     "e474c077c6c54da69b700a059906b3e1": {
      "model_module": "@jupyter-widgets/controls",
      "model_module_version": "1.5.0",
      "model_name": "HTMLModel",
      "state": {
       "layout": "IPY_MODEL_7c111f9e1d824d5eb71a282b37fcd802",
       "style": "IPY_MODEL_95758a3748f54651838c0bfc2793ac3b",
       "value": "<h3> Top Agencies using Congestion Relief Projects </h3>"
      }
     },
     "eb67334803bd404b93aedb308df18961": {
      "model_module": "@jupyter-widgets/controls",
      "model_module_version": "1.5.0",
      "model_name": "DescriptionStyleModel",
      "state": {
       "description_width": ""
      }
     },
     "efd6f80565614ef6a65fa5ef0cd54c44": {
      "model_module": "@jupyter-widgets/base",
      "model_module_version": "1.2.0",
      "model_name": "LayoutModel",
      "state": {}
     },
     "eff5bd9269f34d81a580f21bc90edcfd": {
      "model_module": "@jupyter-widgets/base",
      "model_module_version": "1.2.0",
      "model_name": "LayoutModel",
      "state": {}
     },
     "f65196e027b54b2aadf54d6b318570a6": {
      "model_module": "@jupyter-widgets/controls",
      "model_module_version": "1.5.0",
      "model_name": "TabModel",
      "state": {
       "_titles": {
        "0": "Active Transportation",
        "1": "Transit",
        "2": "Bridge",
        "3": "Street",
        "4": "Freeway",
        "5": "Infrastructure & Emergency Relief",
        "6": "Congestion Relief"
       },
       "children": [
        "IPY_MODEL_93b09cb4eee94e609bceb3fabcd1c119",
        "IPY_MODEL_3271f12d0d8448698cf88a24e70f664d",
        "IPY_MODEL_e30c58a2b6434471b3337773833d6a0a",
        "IPY_MODEL_b1a933cd2cd74feca29ac32bcc18fcbb",
        "IPY_MODEL_0b937ef9102a4aafbd1e88128044887e",
        "IPY_MODEL_44c13105dbd84d53a7b8de086e2c7ccd",
        "IPY_MODEL_a9fc8d83bc1b496da9451e91b87f632b"
       ],
       "layout": "IPY_MODEL_76a33612c7a148b4a4f4166a6beee8f2"
      }
     },
     "f6926901f24143a2a61f91a4b2c8ced4": {
      "model_module": "@jupyter-widgets/controls",
      "model_module_version": "1.5.0",
      "model_name": "HTMLModel",
      "state": {
       "layout": "IPY_MODEL_6b6d7ebf741747178eb28f2f73ee4c34",
       "style": "IPY_MODEL_120d7854001546b28e63858a291e374a",
       "value": "<h3> Top Agencies using Transit Projects </h3>"
      }
     },
     "fb2237f25e5240298df45c5cab793569": {
      "model_module": "@jupyter-widgets/output",
      "model_module_version": "1.0.0",
      "model_name": "OutputModel",
      "state": {
       "layout": "IPY_MODEL_eff5bd9269f34d81a580f21bc90edcfd",
       "outputs": [
        {
         "name": "stderr",
         "output_type": "stream",
         "text": "E0420 21:37:20.248916190    4600 fork_posix.cc:70]           Fork support is only compatible with the epoll1 and poll polling strategies\nE0420 21:37:20.269723155    4600 fork_posix.cc:70]           Fork support is only compatible with the epoll1 and poll polling strategies\nE0420 21:37:20.287132334    4600 fork_posix.cc:70]           Fork support is only compatible with the epoll1 and poll polling strategies\nE0420 21:37:20.583462378    4600 fork_posix.cc:70]           Fork support is only compatible with the epoll1 and poll polling strategies\n"
        },
        {
         "data": {
          "application/vnd.jupyter.widget-view+json": {
           "model_id": "",
           "version_major": 2,
           "version_minor": 0
          },
          "text/plain": "HTML(value='<h3> Top Agencies using Bridge Projects </h3>')"
         },
         "metadata": {},
         "output_type": "display_data"
        },
        {
         "data": {
          "text/html": "<style type=\"text/css\">\n</style>\n<table id=\"T_d6a11\">\n  <thead>\n    <tr>\n      <th class=\"blank level0\" >&nbsp;</th>\n      <th id=\"T_d6a11_level0_col0\" class=\"col_heading level0 col0\" >Agency</th>\n      <th id=\"T_d6a11_level0_col1\" class=\"col_heading level0 col1\" >Bridge Obligations</th>\n      <th id=\"T_d6a11_level0_col2\" class=\"col_heading level0 col2\" >Percent of Category</th>\n    </tr>\n  </thead>\n  <tbody>\n    <tr>\n      <th id=\"T_d6a11_level0_row0\" class=\"row_heading level0 row0\" >0</th>\n      <td id=\"T_d6a11_row0_col0\" class=\"data row0 col0\" >Santa Clara County</td>\n      <td id=\"T_d6a11_row0_col1\" class=\"data row0 col1\" >68</td>\n      <td id=\"T_d6a11_row0_col2\" class=\"data row0 col2\" >14.11%</td>\n    </tr>\n    <tr>\n      <th id=\"T_d6a11_level0_row1\" class=\"row_heading level0 row1\" >1</th>\n      <td id=\"T_d6a11_row1_col0\" class=\"data row1 col0\" >Contra Costa County</td>\n      <td id=\"T_d6a11_row1_col1\" class=\"data row1 col1\" >44</td>\n      <td id=\"T_d6a11_row1_col2\" class=\"data row1 col2\" >9.13%</td>\n    </tr>\n    <tr>\n      <th id=\"T_d6a11_level0_row2\" class=\"row_heading level0 row2\" >2</th>\n      <td id=\"T_d6a11_row2_col0\" class=\"data row2 col0\" >Sonoma County</td>\n      <td id=\"T_d6a11_row2_col1\" class=\"data row2 col1\" >34</td>\n      <td id=\"T_d6a11_row2_col2\" class=\"data row2 col2\" >7.05%</td>\n    </tr>\n    <tr>\n      <th id=\"T_d6a11_level0_row3\" class=\"row_heading level0 row3\" >3</th>\n      <td id=\"T_d6a11_row3_col0\" class=\"data row3 col0\" >Napa County</td>\n      <td id=\"T_d6a11_row3_col1\" class=\"data row3 col1\" >25</td>\n      <td id=\"T_d6a11_row3_col2\" class=\"data row3 col2\" >5.19%</td>\n    </tr>\n    <tr>\n      <th id=\"T_d6a11_level0_row4\" class=\"row_heading level0 row4\" >4</th>\n      <td id=\"T_d6a11_row4_col0\" class=\"data row4 col0\" >Oakland</td>\n      <td id=\"T_d6a11_row4_col1\" class=\"data row4 col1\" >22</td>\n      <td id=\"T_d6a11_row4_col2\" class=\"data row4 col2\" >4.56%</td>\n    </tr>\n  </tbody>\n</table>\n",
          "text/plain": "<pandas.io.formats.style.Styler at 0x7ff9dcc8d190>"
         },
         "metadata": {},
         "output_type": "display_data"
        }
       ]
      }
     },
     "fd1e83bd536f4d4e9210fd291d936d44": {
      "model_module": "@jupyter-widgets/controls",
      "model_module_version": "1.5.0",
      "model_name": "TabModel",
      "state": {
       "_titles": {
        "0": "Active Transportation",
        "1": "Transit",
        "2": "Bridge",
        "3": "Street",
        "4": "Freeway",
        "5": "Infrastructure & Emergency Relief",
        "6": "Congestion Relief"
       },
       "children": [
        "IPY_MODEL_fe6b8fc1b75e4e23aefaf51c2b0eecc4",
        "IPY_MODEL_998684f97e104d7c9862a56d7164aa08",
        "IPY_MODEL_fb2237f25e5240298df45c5cab793569",
        "IPY_MODEL_2acfa128190545029b3c8de174dfa80f",
        "IPY_MODEL_0a8531f088244a6b89c4410a2c5adfba",
        "IPY_MODEL_9c13c7fe8b994706a4c0700508ee6b8c",
        "IPY_MODEL_710a1e8175cb4ca497b8e94ddbf0876e"
       ],
       "layout": "IPY_MODEL_aa45f957856240ff978a47edb2173309"
      }
     },
     "fe1da5f1afdb490f975028f2aacfcf15": {
      "model_module": "@jupyter-widgets/controls",
      "model_module_version": "1.5.0",
      "model_name": "HTMLModel",
      "state": {
       "layout": "IPY_MODEL_a0c8df0c3e5740858d8f32292778a605",
       "style": "IPY_MODEL_d774571b043f408c923317c15e1faa14",
       "value": "<h3> Top Agencies using Congestion Relief Projects </h3>"
      }
     },
     "fe6b8fc1b75e4e23aefaf51c2b0eecc4": {
      "model_module": "@jupyter-widgets/output",
      "model_module_version": "1.0.0",
      "model_name": "OutputModel",
      "state": {
       "layout": "IPY_MODEL_78deb97cf4f34a3480ea484c1c1ec312"
      }
     },
     "ffb506dc944e4d15841634cca5462c4d": {
      "model_module": "@jupyter-widgets/base",
      "model_module_version": "1.2.0",
      "model_name": "LayoutModel",
      "state": {}
     }
    },
    "version_major": 2,
    "version_minor": 0
   }
  }
 },
 "nbformat": 4,
 "nbformat_minor": 5
}
