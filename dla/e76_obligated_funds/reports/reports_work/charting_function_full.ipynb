{
 "cells": [
  {
   "cell_type": "markdown",
   "id": "c5e93f25-9e95-4c5a-a088-8a517607537c",
   "metadata": {},
   "source": [
    "# Script work for Generating Charting Outputs"
   ]
  },
  {
   "cell_type": "code",
   "execution_count": 3,
   "id": "309c8aed-2642-4d35-8349-7d25c94ab809",
   "metadata": {},
   "outputs": [],
   "source": [
    "import pandas as pd\n",
    "from siuba import *\n",
    "\n",
    "import altair as alt\n",
    "\n",
    "from IPython.display import HTML\n",
    "\n",
    "from shared_utils import calitp_color_palette as cp\n",
    "import _dla_utils"
   ]
  },
  {
   "cell_type": "code",
   "execution_count": 4,
   "id": "de5b1351-88a2-4e0b-a33e-1203eb7478df",
   "metadata": {},
   "outputs": [],
   "source": [
    "import ipywidgets as widgets"
   ]
  },
  {
   "cell_type": "code",
   "execution_count": 5,
   "id": "09b8cdb0-bc6d-4ddd-96f4-55cefb5c6ca0",
   "metadata": {},
   "outputs": [],
   "source": [
    "pd.set_option('display.max_columns', None)\n",
    "pd.options.display.float_format = '{:,.2f}'.format"
   ]
  },
  {
   "cell_type": "code",
   "execution_count": 6,
   "id": "6c15b87b-478d-4ac2-9e22-b2fa59824c38",
   "metadata": {},
   "outputs": [],
   "source": [
    "df= pd.read_parquet(\"dla_df.parquet\")"
   ]
  },
  {
   "cell_type": "code",
   "execution_count": 7,
   "id": "be8a0fa5-21c2-41b0-ab1f-786162dae9ef",
   "metadata": {},
   "outputs": [
    {
     "data": {
      "text/plain": [
       "21206"
      ]
     },
     "execution_count": 7,
     "metadata": {},
     "output_type": "execute_result"
    }
   ],
   "source": [
    "len(df)"
   ]
  },
  {
   "cell_type": "markdown",
   "id": "fe65f4d0-3015-49cc-abbd-22eb87b417ab",
   "metadata": {},
   "source": [
    "## Charts"
   ]
  },
  {
   "cell_type": "code",
   "execution_count": 8,
   "id": "1d1dfdca-bb15-49d7-9b0f-67bc3723b8cc",
   "metadata": {
    "tags": []
   },
   "outputs": [],
   "source": [
    "def make_charts(df, subset):     \n",
    "    df= pd.read_parquet(\"dla_df.parquet\")\n",
    "    \n",
    "    df = (df>>filter(_.dist==subset))\n",
    "    \n",
    "    #subsetting the data\n",
    "    df_years = _dla_utils.count_all_years(df)\n",
    "    df_top = _dla_utils.find_top(df)\n",
    "    \n",
    "    \n",
    "    ##print statements\n",
    "    display(HTML(f\"<h1><strong>District {subset} Analysis</strong></h1>\"))\n",
    "    \n",
    "    display(HTML(\"<h2>Quick Stats</h2>\"))\n",
    "    \n",
    "    display(HTML(f\"There are <strong>{(df.primary_agency_name.nunique())} Unique Agencies</strong>\"))\n",
    "    \n",
    "    transit = (df>>filter(_.transit==1))\n",
    "    \n",
    "    display(HTML(f\"Out of <strong>{len(df)}</strong> obligations, <strong>{len(transit)} are transit-related</strong>.\"))\n",
    "    display(HTML(f\"<strong>{(transit>>count(_.primary_agency_name)>>arrange(-_.n)).iloc[0, 0]}</strong> has the <strong>highest transit</strong> obligations\"))\n",
    "    \n",
    "    q = df>>count(_.primary_agency_name)>>arrange(_.n)\n",
    "    \n",
    "    q2 = q.n.quantile(.95)\n",
    "    # formatting decimals from: https://stackoverflow.com/questions/2389846/python-decimals-format\n",
    "    display(HTML(f\"There are <strong>{len(q>>filter(_.n> (q2)))} agencies have over {('%.2f'%(q2))}</strong> obligations (95th percentile) since {(df.prepared_y.min())}\")\n",
    "           )   \n",
    "    \n",
    "    q3 = q.n.quantile(.1)\n",
    "    display(HTML((f\"There are <strong>{len(q>>filter(_.n< (q3)))} agencies have less than {('%.2f'%(q3))}</strong> obligations (5th percentile) since {(df.prepared_y.min())}\")))\n",
    "\n",
    "\n",
    "    ##tables\n",
    "    \n",
    "    display(HTML(\"<strong>Number of Unique Prefix Codes by Agency</stromg>\"))\n",
    "    display((_dla_utils.get_nunique(df, 'prefix', 'primary_agency_name'))\n",
    "            .rename(columns={'primary_agency_name':'Agency',\n",
    "                            'n':'Number of Unqiue Prefix Codes'})\n",
    "            .head(5))\n",
    "    \n",
    "    display(HTML(\"<strong>Number of Unique Agencies by Prefix Codes</strong>\"))\n",
    "    display((_dla_utils.get_nunique(df, 'primary_agency_name', 'prefix'))\n",
    "            .rename(columns={'prefix':'Prefix',\n",
    "                            'n':'Number of Unqiue Agencies'})\n",
    "            .head(5))\n",
    "    \n",
    "    display(HTML(\"<strong>Top 5 Types of Work</strong>\"))\n",
    "    display((transit>>count(_.type_of_work)>>arrange(-_.n)>>select(_.type_of_work))\n",
    "            .rename(columns={'type_of_work':'Type of Work'})\n",
    "            .head(5))\n",
    "\n",
    "       \n",
    "    #Visual Charts\n",
    "\n",
    "    display(HTML(\"<h2>Number of Obligations</h2\"))\n",
    "    \n",
    "    #Line chart for Obligations by Year\n",
    "    chart_df = (df_top>>filter(_.variable=='prepared_y')).rename(columns= {\"value\":\"Year\"})\n",
    "    \n",
    "    chart1= (_dla_utils.basic_line_chart_test_no_save(chart_df, 'Year', 'count', subset, 'Obligations by Year')).encode(x=alt.X('Year:O', title='Prepared Year'))\n",
    "    \n",
    "    display(chart1)\n",
    "    \n",
    "    # Unique Agencies by Dist\n",
    "    dist_years_agency = ((\n",
    "        df\n",
    "        >> group_by(_.prepared_y, _.dist)\n",
    "        >> summarize(n=_.primary_agency_name.nunique())\n",
    "        >> arrange(-_.prepared_y)\n",
    "    )\n",
    "        .rename(columns={'dist':'District', 'n':'Count'})\n",
    "    )\n",
    "    \n",
    "\n",
    "    chart10 = (alt.Chart(dist_years_agency).mark_bar().encode(\n",
    "        column='District:N',\n",
    "        x=alt.X('prepared_y:O', title='Prepared Year'),\n",
    "        y=alt.Y('Count:Q', title='Number of Unique Agencies'),\n",
    "        color = alt.Color(\"District:N\", \n",
    "                              scale=alt.Scale(\n",
    "                                  range=altair_utils.CALITP_SEQUENTIAL_COLORS),  \n",
    "                               legend=alt.Legend(title=\"Prepared Year\")\n",
    "                              )\n",
    "                              ).properties( \n",
    "                       title=\"Number of Unique Agencies by District\"))\n",
    "    chart10 = styleguide.preset_chart_config(chart10)\n",
    "    chart10 = _dla_utils.add_tooltip(chart10, 'prepared_y', 'Count')\n",
    "    display(chart10)\n",
    "    \n",
    "  \n",
    "    #Bar chart Agencies With The Most Obligations\n",
    "    chart_df = (df_top>>filter(_.variable=='primary_agency_name')).rename(columns={\"value\":\"Agency\",\n",
    "                                 \"count\":\"Number of Obligations\"})\n",
    "    chart2= (_dla_utils.basic_bar_chart_no_save(chart_df, 'Agency', 'Number of Obligations', 'Agency', subset, 'Agencies With The Most Obligations'))\n",
    "    display(chart2)\n",
    "    \n",
    "    \n",
    "    display(HTML(\"<h2>Prefix Codes</h2>\"))\n",
    "    \n",
    "    # Unique Prefixes by Dist\n",
    "    dist_years_prefix = ((\n",
    "        df\n",
    "        >> group_by(_.prepared_y, _.dist)\n",
    "        >> summarize(n=_.prefix.nunique())\n",
    "        >> arrange(-_.prepared_y)\n",
    "    ).rename(columns={'dist':'District', 'n':'Count'}))\n",
    "\n",
    "    chart11 = (alt.Chart(dist_years_prefix).mark_bar().encode(\n",
    "        column='District:N',\n",
    "        x=alt.X('prepared_y:O', title='Prepared Year'),\n",
    "        y=alt.Y('Count:Q', title='Number of Unique Agencies'),\n",
    "        color = alt.Color(\"District:N\", \n",
    "                              scale=alt.Scale(\n",
    "                                  range=altair_utils.CALITP_SEQUENTIAL_COLORS),  \n",
    "                               legend=alt.Legend(title=\"District\")\n",
    "                              )\n",
    "                              ).properties( \n",
    "                       title=\"Number of Unique Prefix Codes by District\"))\n",
    "    chart11 = styleguide.preset_chart_config(chart11)\n",
    "    chart11 = _dla_utils.add_tooltip(chart11, 'prepared_y','Count')\n",
    "    display(chart11)\n",
    "\n",
    "    #Bar chart with the Most Used Prefix Counts\n",
    "    chart_df = (df_top>>filter(_.variable=='prefix')).rename(columns={\"value\":\"Prefix\",\n",
    "                                 \"count\":\"Number of Obligations\"})\n",
    "    chart9= (_dla_utils.basic_bar_chart_no_save(chart_df, 'Prefix', 'Number of Obligations', 'Prefix', subset, 'Most Used Prefix Codes'))\n",
    "    display(chart9)\n",
    "    \n",
    "    \n",
    "    #Bar chart Agencies With The Most Unique Prefix Codes\n",
    "    \n",
    "    chart3 = (_dla_utils.basic_bar_chart_no_save(((_dla_utils.get_nunique(df, 'prefix', 'primary_agency_name')).head(30)),\n",
    "                            'primary_agency_name', 'n', 'primary_agency_name', subset, 'Agencies With The Most Unique Prefix Codes'))\n",
    "    display(chart3)\n",
    "    \n",
    "    \n",
    "    display(HTML(\"<h2>Funding Distribution</h2>\"))\n",
    "    \n",
    "    #Bar chart Average Total Requested Funds by Agency\n",
    "    chart4=(_dla_utils.basic_bar_chart_no_save((((_dla_utils.calculate_data_all(df, 'adjusted_total_requested', 'primary_agency_name', aggfunc=\"mean\"))\n",
    "                          >>arrange(-_.adjusted_total_requested)).head(30)\n",
    "                        ), 'primary_agency_name','adjusted_total_requested', 'primary_agency_name', subset,\n",
    "                           'Average Total Requested Funds by Agency ($2021)'\n",
    "                       ))\n",
    "    display(chart4)\n",
    "    \n",
    "\n",
    "    \n",
    "    #Bar chart Bottom Average Total Requested Funds by Agency\n",
    "    avg_funds_bottom = (df>>group_by(_.primary_agency_name)>>summarize(avg_funds=_.adjusted_total_requested.mean())>>arrange(-_.avg_funds)).tail(50)\n",
    "\n",
    "    chart5=( _dla_utils.basic_bar_chart_no_save((avg_funds_bottom.tail(40)), 'primary_agency_name','avg_funds', 'primary_agency_name', subset, \n",
    "                          'Lowest Average Total Funds by Agency ($2021'))\n",
    "    display(chart5)\n",
    "    \n",
    "    # Bar chart Average Total Requested Funds by Prefix\n",
    "    chart8 = (_dla_utils.basic_bar_chart_no_save((((_dla_utils.calculate_data_all(df, 'adjusted_total_requested', 'prefix', aggfunc=\"mean\"))\n",
    "                          >>arrange(-_.adjusted_total_requested)).head(30)), 'prefix','adjusted_total_requested', 'prefix', subset,\n",
    "                           'Average Total Requested Funds by Prefix ($2021)'\n",
    "                       ))\n",
    "    display(chart8)\n",
    "    \n",
    "    \n",
    "    #work categories info and charts\n",
    "    display(HTML(\"<h2>Work Categories</h2>\"))\n",
    "\n",
    "    \n",
    "    # code help: https://stackoverflow.com/questions/50842160/how-to-display-matplotlib-plots-in-a-jupyter-tab-widget\n",
    "    \n",
    "    work_cat = ['active_transp', 'transit', 'bridge', 'street','freeway', 'infra_resiliency_er','congestion_relief']\n",
    "\n",
    "    out1 = widgets.Output()\n",
    "    out2 = widgets.Output()\n",
    "    out3 = widgets.Output()\n",
    "    out4 = widgets.Output()\n",
    "    out5 = widgets.Output()\n",
    "    out6 = widgets.Output()\n",
    "    out7 = widgets.Output()\n",
    "\n",
    "    # children2 = [widgets.Text(description=name) for name in work_cat]\n",
    "    # tab2 = widgets.Tab(children2)\n",
    "    tab2 = widgets.Tab(children = [out1, out2, out3, out4, out5, out6, out7])\n",
    "\n",
    "    for ii in enumerate(work_cat): \n",
    "        tab2.set_title(ii[0], f\"{_dla_utils.labeling(ii[1])}\")\n",
    "\n",
    "    with out1:\n",
    "        _dla_utils.project_cat(df, 'active_transp') \n",
    "    with out2:\n",
    "        _dla_utils.project_cat(df, 'transit')\n",
    "    with out3: \n",
    "        _dla_utils.project_cat(df, 'bridge')\n",
    "    with out4:\n",
    "        _dla_utils.project_cat(df, 'street')\n",
    "    with out5:\n",
    "        _dla_utils.project_cat(df, 'freeway')\n",
    "    with out6:\n",
    "        _dla_utils.project_cat(df, 'infra_resiliency_er')\n",
    "    with out7:\n",
    "        _dla_utils.project_cat(df, 'congestion_relief')\n",
    "\n",
    "    display(tab2)\n",
    "    \n",
    "    "
   ]
  },
  {
   "cell_type": "code",
   "execution_count": 9,
   "id": "1ed31f63-ec22-4f02-b37d-0f6cf6cdb23d",
   "metadata": {
    "tags": [
     "parameter"
    ]
   },
   "outputs": [],
   "source": [
    "#parameters cell\n",
    "subset = 7"
   ]
  },
  {
   "cell_type": "code",
   "execution_count": 10,
   "id": "bf957840-296b-4ebf-99c8-8bc8ebae269a",
   "metadata": {
    "scrolled": true,
    "tags": []
   },
   "outputs": [
    {
     "data": {
      "text/html": [
       "<h1><strong>District 7 Analysis</strong></h1>"
      ],
      "text/plain": [
       "<IPython.core.display.HTML object>"
      ]
     },
     "metadata": {},
     "output_type": "display_data"
    },
    {
     "data": {
      "text/html": [
       "<h2>Quick Stats</h2>"
      ],
      "text/plain": [
       "<IPython.core.display.HTML object>"
      ]
     },
     "metadata": {},
     "output_type": "display_data"
    },
    {
     "data": {
      "text/html": [
       "There are <strong>108 Unique Agencies</strong>"
      ],
      "text/plain": [
       "<IPython.core.display.HTML object>"
      ]
     },
     "metadata": {},
     "output_type": "display_data"
    },
    {
     "data": {
      "text/html": [
       "Out of <strong>2912</strong> obligations, <strong>89 are transit-related</strong>."
      ],
      "text/plain": [
       "<IPython.core.display.HTML object>"
      ]
     },
     "metadata": {},
     "output_type": "display_data"
    },
    {
     "data": {
      "text/html": [
       "<strong>Los Angeles</strong> has the <strong>highest transit</strong> obligations"
      ],
      "text/plain": [
       "<IPython.core.display.HTML object>"
      ]
     },
     "metadata": {},
     "output_type": "display_data"
    },
    {
     "data": {
      "text/html": [
       "There are <strong>6 agencies have over 81.20</strong> obligations (95th percentile) since 2012.0"
      ],
      "text/plain": [
       "<IPython.core.display.HTML object>"
      ]
     },
     "metadata": {},
     "output_type": "display_data"
    },
    {
     "data": {
      "text/html": [
       "There are <strong>6 agencies have less than 2.00</strong> obligations (5th percentile) since 2012.0"
      ],
      "text/plain": [
       "<IPython.core.display.HTML object>"
      ]
     },
     "metadata": {},
     "output_type": "display_data"
    },
    {
     "data": {
      "text/html": [
       "<strong>Number of Unique Prefix Codes by Agency</stromg>"
      ],
      "text/plain": [
       "<IPython.core.display.HTML object>"
      ]
     },
     "metadata": {},
     "output_type": "display_data"
    },
    {
     "data": {
      "text/html": [
       "<div>\n",
       "<style scoped>\n",
       "    .dataframe tbody tr th:only-of-type {\n",
       "        vertical-align: middle;\n",
       "    }\n",
       "\n",
       "    .dataframe tbody tr th {\n",
       "        vertical-align: top;\n",
       "    }\n",
       "\n",
       "    .dataframe thead th {\n",
       "        text-align: right;\n",
       "    }\n",
       "</style>\n",
       "<table border=\"1\" class=\"dataframe\">\n",
       "  <thead>\n",
       "    <tr style=\"text-align: right;\">\n",
       "      <th></th>\n",
       "      <th>Agency</th>\n",
       "      <th>Number of Unqiue Prefix Codes</th>\n",
       "    </tr>\n",
       "  </thead>\n",
       "  <tbody>\n",
       "    <tr>\n",
       "      <th>49</th>\n",
       "      <td>Los Angeles</td>\n",
       "      <td>35</td>\n",
       "    </tr>\n",
       "    <tr>\n",
       "      <th>50</th>\n",
       "      <td>Los Angeles County</td>\n",
       "      <td>31</td>\n",
       "    </tr>\n",
       "    <tr>\n",
       "      <th>47</th>\n",
       "      <td>Long Beach</td>\n",
       "      <td>19</td>\n",
       "    </tr>\n",
       "    <tr>\n",
       "      <th>51</th>\n",
       "      <td>Los Angeles County Metropolitan Transportation...</td>\n",
       "      <td>18</td>\n",
       "    </tr>\n",
       "    <tr>\n",
       "      <th>63</th>\n",
       "      <td>Oxnard</td>\n",
       "      <td>14</td>\n",
       "    </tr>\n",
       "  </tbody>\n",
       "</table>\n",
       "</div>"
      ],
      "text/plain": [
       "                                               Agency  \\\n",
       "49                                        Los Angeles   \n",
       "50                                 Los Angeles County   \n",
       "47                                         Long Beach   \n",
       "51  Los Angeles County Metropolitan Transportation...   \n",
       "63                                             Oxnard   \n",
       "\n",
       "    Number of Unqiue Prefix Codes  \n",
       "49                             35  \n",
       "50                             31  \n",
       "47                             19  \n",
       "51                             18  \n",
       "63                             14  "
      ]
     },
     "metadata": {},
     "output_type": "display_data"
    },
    {
     "data": {
      "text/html": [
       "<strong>Number of Unique Agencies by Prefix Codes</strong>"
      ],
      "text/plain": [
       "<IPython.core.display.HTML object>"
      ]
     },
     "metadata": {},
     "output_type": "display_data"
    },
    {
     "data": {
      "text/html": [
       "<div>\n",
       "<style scoped>\n",
       "    .dataframe tbody tr th:only-of-type {\n",
       "        vertical-align: middle;\n",
       "    }\n",
       "\n",
       "    .dataframe tbody tr th {\n",
       "        vertical-align: top;\n",
       "    }\n",
       "\n",
       "    .dataframe thead th {\n",
       "        text-align: right;\n",
       "    }\n",
       "</style>\n",
       "<table border=\"1\" class=\"dataframe\">\n",
       "  <thead>\n",
       "    <tr style=\"text-align: right;\">\n",
       "      <th></th>\n",
       "      <th>Prefix</th>\n",
       "      <th>Number of Unqiue Agencies</th>\n",
       "    </tr>\n",
       "  </thead>\n",
       "  <tbody>\n",
       "    <tr>\n",
       "      <th>67</th>\n",
       "      <td>HSIPL</td>\n",
       "      <td>62</td>\n",
       "    </tr>\n",
       "    <tr>\n",
       "      <th>90</th>\n",
       "      <td>STPL</td>\n",
       "      <td>58</td>\n",
       "    </tr>\n",
       "    <tr>\n",
       "      <th>62</th>\n",
       "      <td>HPLUL</td>\n",
       "      <td>34</td>\n",
       "    </tr>\n",
       "    <tr>\n",
       "      <th>22</th>\n",
       "      <td>CML</td>\n",
       "      <td>27</td>\n",
       "    </tr>\n",
       "    <tr>\n",
       "      <th>84</th>\n",
       "      <td>SRTSL</td>\n",
       "      <td>27</td>\n",
       "    </tr>\n",
       "  </tbody>\n",
       "</table>\n",
       "</div>"
      ],
      "text/plain": [
       "   Prefix  Number of Unqiue Agencies\n",
       "67  HSIPL                         62\n",
       "90   STPL                         58\n",
       "62  HPLUL                         34\n",
       "22    CML                         27\n",
       "84  SRTSL                         27"
      ]
     },
     "metadata": {},
     "output_type": "display_data"
    },
    {
     "data": {
      "text/html": [
       "<strong>Top 5 Types of Work</strong>"
      ],
      "text/plain": [
       "<IPython.core.display.HTML object>"
      ]
     },
     "metadata": {},
     "output_type": "display_data"
    },
    {
     "data": {
      "text/html": [
       "<div>\n",
       "<style scoped>\n",
       "    .dataframe tbody tr th:only-of-type {\n",
       "        vertical-align: middle;\n",
       "    }\n",
       "\n",
       "    .dataframe tbody tr th {\n",
       "        vertical-align: top;\n",
       "    }\n",
       "\n",
       "    .dataframe thead th {\n",
       "        text-align: right;\n",
       "    }\n",
       "</style>\n",
       "<table border=\"1\" class=\"dataframe\">\n",
       "  <thead>\n",
       "    <tr style=\"text-align: right;\">\n",
       "      <th></th>\n",
       "      <th>Type of Work</th>\n",
       "    </tr>\n",
       "  </thead>\n",
       "  <tbody>\n",
       "    <tr>\n",
       "      <th>11</th>\n",
       "      <td>Construct Improvement To The Wells Center Bus ...</td>\n",
       "    </tr>\n",
       "    <tr>\n",
       "      <th>15</th>\n",
       "      <td>Create A Multi-modal Transit Plaza To Integrat...</td>\n",
       "    </tr>\n",
       "    <tr>\n",
       "      <th>23</th>\n",
       "      <td>Install Bus Shelters At Existing Bus Stops</td>\n",
       "    </tr>\n",
       "    <tr>\n",
       "      <th>24</th>\n",
       "      <td>Install Ped-scale Street Lights,trees,bus Benc...</td>\n",
       "    </tr>\n",
       "    <tr>\n",
       "      <th>31</th>\n",
       "      <td>Metro Green Line Vermont Station Wayfinding Si...</td>\n",
       "    </tr>\n",
       "  </tbody>\n",
       "</table>\n",
       "</div>"
      ],
      "text/plain": [
       "                                         Type of Work\n",
       "11  Construct Improvement To The Wells Center Bus ...\n",
       "15  Create A Multi-modal Transit Plaza To Integrat...\n",
       "23         Install Bus Shelters At Existing Bus Stops\n",
       "24  Install Ped-scale Street Lights,trees,bus Benc...\n",
       "31  Metro Green Line Vermont Station Wayfinding Si..."
      ]
     },
     "metadata": {},
     "output_type": "display_data"
    },
    {
     "data": {
      "text/html": [
       "<h2>Number of Obligations</h2"
      ],
      "text/plain": [
       "<IPython.core.display.HTML object>"
      ]
     },
     "metadata": {},
     "output_type": "display_data"
    },
    {
     "data": {
      "text/html": [
       "\n",
       "<div id=\"altair-viz-3f7cbb76c8eb4286a07256e8fc9e85ae\"></div>\n",
       "<script type=\"text/javascript\">\n",
       "  var VEGA_DEBUG = (typeof VEGA_DEBUG == \"undefined\") ? {} : VEGA_DEBUG;\n",
       "  (function(spec, embedOpt){\n",
       "    let outputDiv = document.currentScript.previousElementSibling;\n",
       "    if (outputDiv.id !== \"altair-viz-3f7cbb76c8eb4286a07256e8fc9e85ae\") {\n",
       "      outputDiv = document.getElementById(\"altair-viz-3f7cbb76c8eb4286a07256e8fc9e85ae\");\n",
       "    }\n",
       "    const paths = {\n",
       "      \"vega\": \"https://cdn.jsdelivr.net/npm//vega@5?noext\",\n",
       "      \"vega-lib\": \"https://cdn.jsdelivr.net/npm//vega-lib?noext\",\n",
       "      \"vega-lite\": \"https://cdn.jsdelivr.net/npm//vega-lite@4.17.0?noext\",\n",
       "      \"vega-embed\": \"https://cdn.jsdelivr.net/npm//vega-embed@6?noext\",\n",
       "    };\n",
       "\n",
       "    function maybeLoadScript(lib, version) {\n",
       "      var key = `${lib.replace(\"-\", \"\")}_version`;\n",
       "      return (VEGA_DEBUG[key] == version) ?\n",
       "        Promise.resolve(paths[lib]) :\n",
       "        new Promise(function(resolve, reject) {\n",
       "          var s = document.createElement('script');\n",
       "          document.getElementsByTagName(\"head\")[0].appendChild(s);\n",
       "          s.async = true;\n",
       "          s.onload = () => {\n",
       "            VEGA_DEBUG[key] = version;\n",
       "            return resolve(paths[lib]);\n",
       "          };\n",
       "          s.onerror = () => reject(`Error loading script: ${paths[lib]}`);\n",
       "          s.src = paths[lib];\n",
       "        });\n",
       "    }\n",
       "\n",
       "    function showError(err) {\n",
       "      outputDiv.innerHTML = `<div class=\"error\" style=\"color:red;\">${err}</div>`;\n",
       "      throw err;\n",
       "    }\n",
       "\n",
       "    function displayChart(vegaEmbed) {\n",
       "      vegaEmbed(outputDiv, spec, embedOpt)\n",
       "        .catch(err => showError(`Javascript Error: ${err.message}<br>This usually means there's a typo in your chart specification. See the javascript console for the full traceback.`));\n",
       "    }\n",
       "\n",
       "    if(typeof define === \"function\" && define.amd) {\n",
       "      requirejs.config({paths});\n",
       "      require([\"vega-embed\"], displayChart, err => showError(`Error loading script: ${err.message}`));\n",
       "    } else {\n",
       "      maybeLoadScript(\"vega\", \"5\")\n",
       "        .then(() => maybeLoadScript(\"vega-lite\", \"4.17.0\"))\n",
       "        .then(() => maybeLoadScript(\"vega-embed\", \"6\"))\n",
       "        .catch(showError)\n",
       "        .then(() => displayChart(vegaEmbed));\n",
       "    }\n",
       "  })({\"config\": {\"view\": {\"continuousWidth\": 400, \"continuousHeight\": 300}, \"axis\": {\"domainColor\": \"#cbcbcb\", \"grid\": true, \"gridColor\": \"#cbcbcb\", \"gridWidth\": 1, \"labelColor\": \"#474747\", \"labelFont\": \"Nunito Sans\", \"labelFontSize\": 10, \"labelPadding\": 4, \"tickColor\": \"#cbcbcb\", \"tickSize\": 10, \"titleColor\": \"#333\", \"titleFont\": \"Raleway\", \"titleFontSize\": 12, \"titlePadding\": 10}, \"axisBand\": {\"grid\": false}, \"background\": \"white\", \"font\": \"Raleway\", \"header\": {\"labelFont\": \"Nunito Sans\", \"titleFont\": \"Raleway\"}, \"legend\": {\"labelColor\": \"#333\", \"labelFont\": \"Nunito Sans\", \"labelFontSize\": 11, \"labelLimit\": 0, \"padding\": 1, \"symbolSize\": 30, \"symbolType\": \"square\", \"titleColor\": \"#333\", \"titleFont\": \"Raleway\", \"titleFontSize\": 14, \"titlePadding\": 10}, \"title\": {\"anchor\": \"middle\", \"font\": \"Raleway\", \"fontSize\": 18, \"fontWeight\": 300, \"offset\": 20}}, \"data\": {\"name\": \"data-e8ecb2f2937089f9efc041b18ebd8b85\"}, \"mark\": \"line\", \"encoding\": {\"tooltip\": [{\"field\": \"Year\", \"type\": \"quantitative\"}, {\"field\": \"count\", \"type\": \"quantitative\"}], \"x\": {\"field\": \"Year\", \"title\": \"Prepared Year\", \"type\": \"ordinal\"}, \"y\": {\"field\": \"count\", \"title\": \"Count\", \"type\": \"quantitative\"}}, \"height\": 250, \"title\": \"Obligations by Year\", \"width\": 400, \"$schema\": \"https://vega.github.io/schema/vega-lite/v4.17.0.json\", \"datasets\": {\"data-e8ecb2f2937089f9efc041b18ebd8b85\": [{\"Year\": 2014.0, \"count\": 430, \"variable\": \"prepared_y\"}, {\"Year\": 2016.0, \"count\": 376, \"variable\": \"prepared_y\"}, {\"Year\": 2015.0, \"count\": 370, \"variable\": \"prepared_y\"}, {\"Year\": 2019.0, \"count\": 341, \"variable\": \"prepared_y\"}, {\"Year\": 2018.0, \"count\": 333, \"variable\": \"prepared_y\"}, {\"Year\": 2017.0, \"count\": 326, \"variable\": \"prepared_y\"}, {\"Year\": 2020.0, \"count\": 319, \"variable\": \"prepared_y\"}, {\"Year\": 2021.0, \"count\": 287, \"variable\": \"prepared_y\"}, {\"Year\": 2022.0, \"count\": 92, \"variable\": \"prepared_y\"}, {\"Year\": 2013.0, \"count\": 32, \"variable\": \"prepared_y\"}, {\"Year\": 2012.0, \"count\": 1, \"variable\": \"prepared_y\"}]}}, {\"mode\": \"vega-lite\"});\n",
       "</script>"
      ],
      "text/plain": [
       "alt.Chart(...)"
      ]
     },
     "metadata": {},
     "output_type": "display_data"
    },
    {
     "data": {
      "text/html": [
       "\n",
       "<div id=\"altair-viz-aa1da07d5c564ce89300dd60efd7712e\"></div>\n",
       "<script type=\"text/javascript\">\n",
       "  var VEGA_DEBUG = (typeof VEGA_DEBUG == \"undefined\") ? {} : VEGA_DEBUG;\n",
       "  (function(spec, embedOpt){\n",
       "    let outputDiv = document.currentScript.previousElementSibling;\n",
       "    if (outputDiv.id !== \"altair-viz-aa1da07d5c564ce89300dd60efd7712e\") {\n",
       "      outputDiv = document.getElementById(\"altair-viz-aa1da07d5c564ce89300dd60efd7712e\");\n",
       "    }\n",
       "    const paths = {\n",
       "      \"vega\": \"https://cdn.jsdelivr.net/npm//vega@5?noext\",\n",
       "      \"vega-lib\": \"https://cdn.jsdelivr.net/npm//vega-lib?noext\",\n",
       "      \"vega-lite\": \"https://cdn.jsdelivr.net/npm//vega-lite@4.17.0?noext\",\n",
       "      \"vega-embed\": \"https://cdn.jsdelivr.net/npm//vega-embed@6?noext\",\n",
       "    };\n",
       "\n",
       "    function maybeLoadScript(lib, version) {\n",
       "      var key = `${lib.replace(\"-\", \"\")}_version`;\n",
       "      return (VEGA_DEBUG[key] == version) ?\n",
       "        Promise.resolve(paths[lib]) :\n",
       "        new Promise(function(resolve, reject) {\n",
       "          var s = document.createElement('script');\n",
       "          document.getElementsByTagName(\"head\")[0].appendChild(s);\n",
       "          s.async = true;\n",
       "          s.onload = () => {\n",
       "            VEGA_DEBUG[key] = version;\n",
       "            return resolve(paths[lib]);\n",
       "          };\n",
       "          s.onerror = () => reject(`Error loading script: ${paths[lib]}`);\n",
       "          s.src = paths[lib];\n",
       "        });\n",
       "    }\n",
       "\n",
       "    function showError(err) {\n",
       "      outputDiv.innerHTML = `<div class=\"error\" style=\"color:red;\">${err}</div>`;\n",
       "      throw err;\n",
       "    }\n",
       "\n",
       "    function displayChart(vegaEmbed) {\n",
       "      vegaEmbed(outputDiv, spec, embedOpt)\n",
       "        .catch(err => showError(`Javascript Error: ${err.message}<br>This usually means there's a typo in your chart specification. See the javascript console for the full traceback.`));\n",
       "    }\n",
       "\n",
       "    if(typeof define === \"function\" && define.amd) {\n",
       "      requirejs.config({paths});\n",
       "      require([\"vega-embed\"], displayChart, err => showError(`Error loading script: ${err.message}`));\n",
       "    } else {\n",
       "      maybeLoadScript(\"vega\", \"5\")\n",
       "        .then(() => maybeLoadScript(\"vega-lite\", \"4.17.0\"))\n",
       "        .then(() => maybeLoadScript(\"vega-embed\", \"6\"))\n",
       "        .catch(showError)\n",
       "        .then(() => displayChart(vegaEmbed));\n",
       "    }\n",
       "  })({\"config\": {\"view\": {\"continuousWidth\": 400, \"continuousHeight\": 300}, \"axis\": {\"domainColor\": \"#cbcbcb\", \"grid\": true, \"gridColor\": \"#cbcbcb\", \"gridWidth\": 1, \"labelColor\": \"#474747\", \"labelFont\": \"Nunito Sans\", \"labelFontSize\": 10, \"labelPadding\": 4, \"tickColor\": \"#cbcbcb\", \"tickSize\": 10, \"titleColor\": \"#333\", \"titleFont\": \"Raleway\", \"titleFontSize\": 12, \"titlePadding\": 10}, \"axisBand\": {\"grid\": false}, \"background\": \"white\", \"font\": \"Raleway\", \"header\": {\"labelFont\": \"Nunito Sans\", \"titleFont\": \"Raleway\"}, \"legend\": {\"labelColor\": \"#333\", \"labelFont\": \"Nunito Sans\", \"labelFontSize\": 11, \"labelLimit\": 0, \"padding\": 1, \"symbolSize\": 30, \"symbolType\": \"square\", \"titleColor\": \"#333\", \"titleFont\": \"Raleway\", \"titleFontSize\": 14, \"titlePadding\": 10}, \"title\": {\"anchor\": \"middle\", \"font\": \"Raleway\", \"fontSize\": 18, \"fontWeight\": 300, \"offset\": 20}}, \"data\": {\"name\": \"data-e02297b194a58367aeb3cc793529ddd1\"}, \"mark\": \"bar\", \"encoding\": {\"color\": {\"field\": \"District\", \"legend\": {\"title\": \"Prepared Year\"}, \"scale\": {\"range\": [\"#B9D6DF\", \"#8CBCCB\", \"#2EA8CE\", \"#136C97\", \"#0B405B\"]}, \"type\": \"nominal\"}, \"column\": {\"field\": \"District\", \"type\": \"nominal\"}, \"tooltip\": [{\"field\": \"prepared_y\", \"type\": \"quantitative\"}, {\"field\": \"Count\", \"type\": \"quantitative\"}], \"x\": {\"field\": \"prepared_y\", \"title\": \"Prepared Year\", \"type\": \"ordinal\"}, \"y\": {\"field\": \"Count\", \"title\": \"Number of Unique Agencies\", \"type\": \"quantitative\"}}, \"height\": 250, \"title\": \"Number of Unique Agencies by District\", \"width\": 400, \"$schema\": \"https://vega.github.io/schema/vega-lite/v4.17.0.json\", \"datasets\": {\"data-e02297b194a58367aeb3cc793529ddd1\": [{\"prepared_y\": 2022.0, \"District\": 7, \"Count\": 39}, {\"prepared_y\": 2021.0, \"District\": 7, \"Count\": 63}, {\"prepared_y\": 2020.0, \"District\": 7, \"Count\": 60}, {\"prepared_y\": 2019.0, \"District\": 7, \"Count\": 65}, {\"prepared_y\": 2018.0, \"District\": 7, \"Count\": 63}, {\"prepared_y\": 2017.0, \"District\": 7, \"Count\": 73}, {\"prepared_y\": 2016.0, \"District\": 7, \"Count\": 75}, {\"prepared_y\": 2015.0, \"District\": 7, \"Count\": 85}, {\"prepared_y\": 2014.0, \"District\": 7, \"Count\": 77}, {\"prepared_y\": 2013.0, \"District\": 7, \"Count\": 18}, {\"prepared_y\": 2012.0, \"District\": 7, \"Count\": 1}]}}, {\"mode\": \"vega-lite\"});\n",
       "</script>"
      ],
      "text/plain": [
       "alt.Chart(...)"
      ]
     },
     "metadata": {},
     "output_type": "display_data"
    },
    {
     "data": {
      "text/html": [
       "\n",
       "<div id=\"altair-viz-e6e1fbfdba4248868169ef97e9299737\"></div>\n",
       "<script type=\"text/javascript\">\n",
       "  var VEGA_DEBUG = (typeof VEGA_DEBUG == \"undefined\") ? {} : VEGA_DEBUG;\n",
       "  (function(spec, embedOpt){\n",
       "    let outputDiv = document.currentScript.previousElementSibling;\n",
       "    if (outputDiv.id !== \"altair-viz-e6e1fbfdba4248868169ef97e9299737\") {\n",
       "      outputDiv = document.getElementById(\"altair-viz-e6e1fbfdba4248868169ef97e9299737\");\n",
       "    }\n",
       "    const paths = {\n",
       "      \"vega\": \"https://cdn.jsdelivr.net/npm//vega@5?noext\",\n",
       "      \"vega-lib\": \"https://cdn.jsdelivr.net/npm//vega-lib?noext\",\n",
       "      \"vega-lite\": \"https://cdn.jsdelivr.net/npm//vega-lite@4.17.0?noext\",\n",
       "      \"vega-embed\": \"https://cdn.jsdelivr.net/npm//vega-embed@6?noext\",\n",
       "    };\n",
       "\n",
       "    function maybeLoadScript(lib, version) {\n",
       "      var key = `${lib.replace(\"-\", \"\")}_version`;\n",
       "      return (VEGA_DEBUG[key] == version) ?\n",
       "        Promise.resolve(paths[lib]) :\n",
       "        new Promise(function(resolve, reject) {\n",
       "          var s = document.createElement('script');\n",
       "          document.getElementsByTagName(\"head\")[0].appendChild(s);\n",
       "          s.async = true;\n",
       "          s.onload = () => {\n",
       "            VEGA_DEBUG[key] = version;\n",
       "            return resolve(paths[lib]);\n",
       "          };\n",
       "          s.onerror = () => reject(`Error loading script: ${paths[lib]}`);\n",
       "          s.src = paths[lib];\n",
       "        });\n",
       "    }\n",
       "\n",
       "    function showError(err) {\n",
       "      outputDiv.innerHTML = `<div class=\"error\" style=\"color:red;\">${err}</div>`;\n",
       "      throw err;\n",
       "    }\n",
       "\n",
       "    function displayChart(vegaEmbed) {\n",
       "      vegaEmbed(outputDiv, spec, embedOpt)\n",
       "        .catch(err => showError(`Javascript Error: ${err.message}<br>This usually means there's a typo in your chart specification. See the javascript console for the full traceback.`));\n",
       "    }\n",
       "\n",
       "    if(typeof define === \"function\" && define.amd) {\n",
       "      requirejs.config({paths});\n",
       "      require([\"vega-embed\"], displayChart, err => showError(`Error loading script: ${err.message}`));\n",
       "    } else {\n",
       "      maybeLoadScript(\"vega\", \"5\")\n",
       "        .then(() => maybeLoadScript(\"vega-lite\", \"4.17.0\"))\n",
       "        .then(() => maybeLoadScript(\"vega-embed\", \"6\"))\n",
       "        .catch(showError)\n",
       "        .then(() => displayChart(vegaEmbed));\n",
       "    }\n",
       "  })({\"config\": {\"view\": {\"continuousWidth\": 400, \"continuousHeight\": 300}, \"axis\": {\"domainColor\": \"#cbcbcb\", \"grid\": true, \"gridColor\": \"#cbcbcb\", \"gridWidth\": 1, \"labelColor\": \"#474747\", \"labelFont\": \"Nunito Sans\", \"labelFontSize\": 10, \"labelPadding\": 4, \"tickColor\": \"#cbcbcb\", \"tickSize\": 10, \"titleColor\": \"#333\", \"titleFont\": \"Raleway\", \"titleFontSize\": 12, \"titlePadding\": 10}, \"axisBand\": {\"grid\": false}, \"background\": \"white\", \"font\": \"Raleway\", \"header\": {\"labelFont\": \"Nunito Sans\", \"titleFont\": \"Raleway\"}, \"legend\": {\"labelColor\": \"#333\", \"labelFont\": \"Nunito Sans\", \"labelFontSize\": 11, \"labelLimit\": 0, \"padding\": 1, \"symbolSize\": 30, \"symbolType\": \"square\", \"titleColor\": \"#333\", \"titleFont\": \"Raleway\", \"titleFontSize\": 14, \"titlePadding\": 10}, \"title\": {\"anchor\": \"middle\", \"font\": \"Raleway\", \"fontSize\": 18, \"fontWeight\": 300, \"offset\": 20}}, \"data\": {\"name\": \"data-533c77f866123cf8e0e4c731a6edce06\"}, \"mark\": \"bar\", \"encoding\": {\"color\": {\"field\": \"Agency\", \"legend\": {\"symbolLimit\": 10, \"title\": \"Agency\"}, \"scale\": {\"range\": [\"#2EA8CE\", \"#EB9F3C\", \"#F4D837\", \"#51BF9D\", \"#8CBCCB\", \"#9487C0\"]}, \"type\": \"nominal\"}, \"tooltip\": [{\"field\": \"Agency\", \"type\": \"nominal\"}, {\"field\": \"Number of Obligations\", \"type\": \"quantitative\"}], \"x\": {\"field\": \"Agency\", \"sort\": \"-y\", \"title\": \"Agency\", \"type\": \"nominal\"}, \"y\": {\"field\": \"Number of Obligations\", \"title\": \"Number Of Obligations\", \"type\": \"quantitative\"}}, \"height\": 250, \"title\": \"Agencies With The Most Obligations\", \"width\": 400, \"$schema\": \"https://vega.github.io/schema/vega-lite/v4.17.0.json\", \"datasets\": {\"data-533c77f866123cf8e0e4c731a6edce06\": [{\"Agency\": \"Los Angeles\", \"Number of Obligations\": 508, \"variable\": \"primary_agency_name\"}, {\"Agency\": \"Los Angeles County\", \"Number of Obligations\": 481, \"variable\": \"primary_agency_name\"}, {\"Agency\": \"Ventura County\", \"Number of Obligations\": 120, \"variable\": \"primary_agency_name\"}, {\"Agency\": \"Los Angeles County Metropolitan Transportation Authority\", \"Number of Obligations\": 88, \"variable\": \"primary_agency_name\"}, {\"Agency\": \"Santa Clarita\", \"Number of Obligations\": 88, \"variable\": \"primary_agency_name\"}, {\"Agency\": \"Long Beach\", \"Number of Obligations\": 84, \"variable\": \"primary_agency_name\"}, {\"Agency\": \"Oxnard\", \"Number of Obligations\": 76, \"variable\": \"primary_agency_name\"}, {\"Agency\": \"Pasadena\", \"Number of Obligations\": 75, \"variable\": \"primary_agency_name\"}, {\"Agency\": \"Downey\", \"Number of Obligations\": 64, \"variable\": \"primary_agency_name\"}, {\"Agency\": \"Lancaster\", \"Number of Obligations\": 63, \"variable\": \"primary_agency_name\"}, {\"Agency\": \"Simi Valley\", \"Number of Obligations\": 61, \"variable\": \"primary_agency_name\"}, {\"Agency\": \"Palmdale\", \"Number of Obligations\": 47, \"variable\": \"primary_agency_name\"}, {\"Agency\": \"Pico Rivera\", \"Number of Obligations\": 40, \"variable\": \"primary_agency_name\"}, {\"Agency\": \"Thousand Oaks\", \"Number of Obligations\": 40, \"variable\": \"primary_agency_name\"}, {\"Agency\": \"Glendale\", \"Number of Obligations\": 36, \"variable\": \"primary_agency_name\"}, {\"Agency\": \"San Buenaventura\", \"Number of Obligations\": 36, \"variable\": \"primary_agency_name\"}, {\"Agency\": \"Camarillo\", \"Number of Obligations\": 35, \"variable\": \"primary_agency_name\"}, {\"Agency\": \"Culver City\", \"Number of Obligations\": 32, \"variable\": \"primary_agency_name\"}, {\"Agency\": \"Burbank\", \"Number of Obligations\": 31, \"variable\": \"primary_agency_name\"}, {\"Agency\": \"Whittier\", \"Number of Obligations\": 31, \"variable\": \"primary_agency_name\"}]}}, {\"mode\": \"vega-lite\"});\n",
       "</script>"
      ],
      "text/plain": [
       "alt.Chart(...)"
      ]
     },
     "metadata": {},
     "output_type": "display_data"
    },
    {
     "data": {
      "text/html": [
       "<h2>Prefix Codes</h2>"
      ],
      "text/plain": [
       "<IPython.core.display.HTML object>"
      ]
     },
     "metadata": {},
     "output_type": "display_data"
    },
    {
     "data": {
      "text/html": [
       "\n",
       "<div id=\"altair-viz-eb24b0b8cf1349d7be3f64b54ba9f70f\"></div>\n",
       "<script type=\"text/javascript\">\n",
       "  var VEGA_DEBUG = (typeof VEGA_DEBUG == \"undefined\") ? {} : VEGA_DEBUG;\n",
       "  (function(spec, embedOpt){\n",
       "    let outputDiv = document.currentScript.previousElementSibling;\n",
       "    if (outputDiv.id !== \"altair-viz-eb24b0b8cf1349d7be3f64b54ba9f70f\") {\n",
       "      outputDiv = document.getElementById(\"altair-viz-eb24b0b8cf1349d7be3f64b54ba9f70f\");\n",
       "    }\n",
       "    const paths = {\n",
       "      \"vega\": \"https://cdn.jsdelivr.net/npm//vega@5?noext\",\n",
       "      \"vega-lib\": \"https://cdn.jsdelivr.net/npm//vega-lib?noext\",\n",
       "      \"vega-lite\": \"https://cdn.jsdelivr.net/npm//vega-lite@4.17.0?noext\",\n",
       "      \"vega-embed\": \"https://cdn.jsdelivr.net/npm//vega-embed@6?noext\",\n",
       "    };\n",
       "\n",
       "    function maybeLoadScript(lib, version) {\n",
       "      var key = `${lib.replace(\"-\", \"\")}_version`;\n",
       "      return (VEGA_DEBUG[key] == version) ?\n",
       "        Promise.resolve(paths[lib]) :\n",
       "        new Promise(function(resolve, reject) {\n",
       "          var s = document.createElement('script');\n",
       "          document.getElementsByTagName(\"head\")[0].appendChild(s);\n",
       "          s.async = true;\n",
       "          s.onload = () => {\n",
       "            VEGA_DEBUG[key] = version;\n",
       "            return resolve(paths[lib]);\n",
       "          };\n",
       "          s.onerror = () => reject(`Error loading script: ${paths[lib]}`);\n",
       "          s.src = paths[lib];\n",
       "        });\n",
       "    }\n",
       "\n",
       "    function showError(err) {\n",
       "      outputDiv.innerHTML = `<div class=\"error\" style=\"color:red;\">${err}</div>`;\n",
       "      throw err;\n",
       "    }\n",
       "\n",
       "    function displayChart(vegaEmbed) {\n",
       "      vegaEmbed(outputDiv, spec, embedOpt)\n",
       "        .catch(err => showError(`Javascript Error: ${err.message}<br>This usually means there's a typo in your chart specification. See the javascript console for the full traceback.`));\n",
       "    }\n",
       "\n",
       "    if(typeof define === \"function\" && define.amd) {\n",
       "      requirejs.config({paths});\n",
       "      require([\"vega-embed\"], displayChart, err => showError(`Error loading script: ${err.message}`));\n",
       "    } else {\n",
       "      maybeLoadScript(\"vega\", \"5\")\n",
       "        .then(() => maybeLoadScript(\"vega-lite\", \"4.17.0\"))\n",
       "        .then(() => maybeLoadScript(\"vega-embed\", \"6\"))\n",
       "        .catch(showError)\n",
       "        .then(() => displayChart(vegaEmbed));\n",
       "    }\n",
       "  })({\"config\": {\"view\": {\"continuousWidth\": 400, \"continuousHeight\": 300}, \"axis\": {\"domainColor\": \"#cbcbcb\", \"grid\": true, \"gridColor\": \"#cbcbcb\", \"gridWidth\": 1, \"labelColor\": \"#474747\", \"labelFont\": \"Nunito Sans\", \"labelFontSize\": 10, \"labelPadding\": 4, \"tickColor\": \"#cbcbcb\", \"tickSize\": 10, \"titleColor\": \"#333\", \"titleFont\": \"Raleway\", \"titleFontSize\": 12, \"titlePadding\": 10}, \"axisBand\": {\"grid\": false}, \"background\": \"white\", \"font\": \"Raleway\", \"header\": {\"labelFont\": \"Nunito Sans\", \"titleFont\": \"Raleway\"}, \"legend\": {\"labelColor\": \"#333\", \"labelFont\": \"Nunito Sans\", \"labelFontSize\": 11, \"labelLimit\": 0, \"padding\": 1, \"symbolSize\": 30, \"symbolType\": \"square\", \"titleColor\": \"#333\", \"titleFont\": \"Raleway\", \"titleFontSize\": 14, \"titlePadding\": 10}, \"title\": {\"anchor\": \"middle\", \"font\": \"Raleway\", \"fontSize\": 18, \"fontWeight\": 300, \"offset\": 20}}, \"data\": {\"name\": \"data-e869c46cb08cc34c8e0df7dd00c9e024\"}, \"mark\": \"bar\", \"encoding\": {\"color\": {\"field\": \"District\", \"legend\": {\"title\": \"District\"}, \"scale\": {\"range\": [\"#B9D6DF\", \"#8CBCCB\", \"#2EA8CE\", \"#136C97\", \"#0B405B\"]}, \"type\": \"nominal\"}, \"column\": {\"field\": \"District\", \"type\": \"nominal\"}, \"tooltip\": [{\"field\": \"prepared_y\", \"type\": \"quantitative\"}, {\"field\": \"Count\", \"type\": \"quantitative\"}], \"x\": {\"field\": \"prepared_y\", \"title\": \"Prepared Year\", \"type\": \"ordinal\"}, \"y\": {\"field\": \"Count\", \"title\": \"Number of Unique Agencies\", \"type\": \"quantitative\"}}, \"height\": 250, \"title\": \"Number of Unique Prefix Codes by District\", \"width\": 400, \"$schema\": \"https://vega.github.io/schema/vega-lite/v4.17.0.json\", \"datasets\": {\"data-e869c46cb08cc34c8e0df7dd00c9e024\": [{\"prepared_y\": 2022.0, \"District\": 7, \"Count\": 22}, {\"prepared_y\": 2021.0, \"District\": 7, \"Count\": 44}, {\"prepared_y\": 2020.0, \"District\": 7, \"Count\": 43}, {\"prepared_y\": 2019.0, \"District\": 7, \"Count\": 36}, {\"prepared_y\": 2018.0, \"District\": 7, \"Count\": 39}, {\"prepared_y\": 2017.0, \"District\": 7, \"Count\": 38}, {\"prepared_y\": 2016.0, \"District\": 7, \"Count\": 43}, {\"prepared_y\": 2015.0, \"District\": 7, \"Count\": 41}, {\"prepared_y\": 2014.0, \"District\": 7, \"Count\": 42}, {\"prepared_y\": 2013.0, \"District\": 7, \"Count\": 20}, {\"prepared_y\": 2012.0, \"District\": 7, \"Count\": 1}]}}, {\"mode\": \"vega-lite\"});\n",
       "</script>"
      ],
      "text/plain": [
       "alt.Chart(...)"
      ]
     },
     "metadata": {},
     "output_type": "display_data"
    },
    {
     "data": {
      "text/html": [
       "\n",
       "<div id=\"altair-viz-891a6134533a480faceb2257d533a724\"></div>\n",
       "<script type=\"text/javascript\">\n",
       "  var VEGA_DEBUG = (typeof VEGA_DEBUG == \"undefined\") ? {} : VEGA_DEBUG;\n",
       "  (function(spec, embedOpt){\n",
       "    let outputDiv = document.currentScript.previousElementSibling;\n",
       "    if (outputDiv.id !== \"altair-viz-891a6134533a480faceb2257d533a724\") {\n",
       "      outputDiv = document.getElementById(\"altair-viz-891a6134533a480faceb2257d533a724\");\n",
       "    }\n",
       "    const paths = {\n",
       "      \"vega\": \"https://cdn.jsdelivr.net/npm//vega@5?noext\",\n",
       "      \"vega-lib\": \"https://cdn.jsdelivr.net/npm//vega-lib?noext\",\n",
       "      \"vega-lite\": \"https://cdn.jsdelivr.net/npm//vega-lite@4.17.0?noext\",\n",
       "      \"vega-embed\": \"https://cdn.jsdelivr.net/npm//vega-embed@6?noext\",\n",
       "    };\n",
       "\n",
       "    function maybeLoadScript(lib, version) {\n",
       "      var key = `${lib.replace(\"-\", \"\")}_version`;\n",
       "      return (VEGA_DEBUG[key] == version) ?\n",
       "        Promise.resolve(paths[lib]) :\n",
       "        new Promise(function(resolve, reject) {\n",
       "          var s = document.createElement('script');\n",
       "          document.getElementsByTagName(\"head\")[0].appendChild(s);\n",
       "          s.async = true;\n",
       "          s.onload = () => {\n",
       "            VEGA_DEBUG[key] = version;\n",
       "            return resolve(paths[lib]);\n",
       "          };\n",
       "          s.onerror = () => reject(`Error loading script: ${paths[lib]}`);\n",
       "          s.src = paths[lib];\n",
       "        });\n",
       "    }\n",
       "\n",
       "    function showError(err) {\n",
       "      outputDiv.innerHTML = `<div class=\"error\" style=\"color:red;\">${err}</div>`;\n",
       "      throw err;\n",
       "    }\n",
       "\n",
       "    function displayChart(vegaEmbed) {\n",
       "      vegaEmbed(outputDiv, spec, embedOpt)\n",
       "        .catch(err => showError(`Javascript Error: ${err.message}<br>This usually means there's a typo in your chart specification. See the javascript console for the full traceback.`));\n",
       "    }\n",
       "\n",
       "    if(typeof define === \"function\" && define.amd) {\n",
       "      requirejs.config({paths});\n",
       "      require([\"vega-embed\"], displayChart, err => showError(`Error loading script: ${err.message}`));\n",
       "    } else {\n",
       "      maybeLoadScript(\"vega\", \"5\")\n",
       "        .then(() => maybeLoadScript(\"vega-lite\", \"4.17.0\"))\n",
       "        .then(() => maybeLoadScript(\"vega-embed\", \"6\"))\n",
       "        .catch(showError)\n",
       "        .then(() => displayChart(vegaEmbed));\n",
       "    }\n",
       "  })({\"config\": {\"view\": {\"continuousWidth\": 400, \"continuousHeight\": 300}, \"axis\": {\"domainColor\": \"#cbcbcb\", \"grid\": true, \"gridColor\": \"#cbcbcb\", \"gridWidth\": 1, \"labelColor\": \"#474747\", \"labelFont\": \"Nunito Sans\", \"labelFontSize\": 10, \"labelPadding\": 4, \"tickColor\": \"#cbcbcb\", \"tickSize\": 10, \"titleColor\": \"#333\", \"titleFont\": \"Raleway\", \"titleFontSize\": 12, \"titlePadding\": 10}, \"axisBand\": {\"grid\": false}, \"background\": \"white\", \"font\": \"Raleway\", \"header\": {\"labelFont\": \"Nunito Sans\", \"titleFont\": \"Raleway\"}, \"legend\": {\"labelColor\": \"#333\", \"labelFont\": \"Nunito Sans\", \"labelFontSize\": 11, \"labelLimit\": 0, \"padding\": 1, \"symbolSize\": 30, \"symbolType\": \"square\", \"titleColor\": \"#333\", \"titleFont\": \"Raleway\", \"titleFontSize\": 14, \"titlePadding\": 10}, \"title\": {\"anchor\": \"middle\", \"font\": \"Raleway\", \"fontSize\": 18, \"fontWeight\": 300, \"offset\": 20}}, \"data\": {\"name\": \"data-11803acbc94eb6dc5dd3e21458c1f9f1\"}, \"mark\": \"bar\", \"encoding\": {\"color\": {\"field\": \"Prefix\", \"legend\": {\"symbolLimit\": 10, \"title\": \"Prefix\"}, \"scale\": {\"range\": [\"#2EA8CE\", \"#EB9F3C\", \"#F4D837\", \"#51BF9D\", \"#8CBCCB\", \"#9487C0\"]}, \"type\": \"nominal\"}, \"tooltip\": [{\"field\": \"Prefix\", \"type\": \"nominal\"}, {\"field\": \"Number of Obligations\", \"type\": \"quantitative\"}], \"x\": {\"field\": \"Prefix\", \"sort\": \"-y\", \"title\": \"Prefix\", \"type\": \"nominal\"}, \"y\": {\"field\": \"Number of Obligations\", \"title\": \"Number Of Obligations\", \"type\": \"quantitative\"}}, \"height\": 250, \"title\": \"Most Used Prefix Codes\", \"width\": 400, \"$schema\": \"https://vega.github.io/schema/vega-lite/v4.17.0.json\", \"datasets\": {\"data-11803acbc94eb6dc5dd3e21458c1f9f1\": [{\"Prefix\": \"HSIPL\", \"Number of Obligations\": 745, \"variable\": \"prefix\"}, {\"Prefix\": \"STPL\", \"Number of Obligations\": 451, \"variable\": \"prefix\"}, {\"Prefix\": \"CML\", \"Number of Obligations\": 290, \"variable\": \"prefix\"}, {\"Prefix\": \"ER\", \"Number of Obligations\": 187, \"variable\": \"prefix\"}, {\"Prefix\": \"ATPL\", \"Number of Obligations\": 150, \"variable\": \"prefix\"}, {\"Prefix\": \"HPLUL\", \"Number of Obligations\": 147, \"variable\": \"prefix\"}, {\"Prefix\": \"BHLS\", \"Number of Obligations\": 100, \"variable\": \"prefix\"}, {\"Prefix\": \"FTACML\", \"Number of Obligations\": 95, \"variable\": \"prefix\"}, {\"Prefix\": \"SRTSL\", \"Number of Obligations\": 71, \"variable\": \"prefix\"}, {\"Prefix\": \"RPSTPL\", \"Number of Obligations\": 63, \"variable\": \"prefix\"}, {\"Prefix\": \"BPMPL\", \"Number of Obligations\": 46, \"variable\": \"prefix\"}, {\"Prefix\": \"BRLSZD\", \"Number of Obligations\": 45, \"variable\": \"prefix\"}, {\"Prefix\": \"BRLS\", \"Number of Obligations\": 43, \"variable\": \"prefix\"}, {\"Prefix\": \"ACSTP\", \"Number of Obligations\": 39, \"variable\": \"prefix\"}, {\"Prefix\": \"HP21L\", \"Number of Obligations\": 34, \"variable\": \"prefix\"}, {\"Prefix\": \"BHLO\", \"Number of Obligations\": 22, \"variable\": \"prefix\"}, {\"Prefix\": \"SRTSLNI\", \"Number of Obligations\": 21, \"variable\": \"prefix\"}, {\"Prefix\": \"BRLO\", \"Number of Obligations\": 20, \"variable\": \"prefix\"}, {\"Prefix\": \"ESPL\", \"Number of Obligations\": 19, \"variable\": \"prefix\"}, {\"Prefix\": \"STPLR\", \"Number of Obligations\": 19, \"variable\": \"prefix\"}]}}, {\"mode\": \"vega-lite\"});\n",
       "</script>"
      ],
      "text/plain": [
       "alt.Chart(...)"
      ]
     },
     "metadata": {},
     "output_type": "display_data"
    },
    {
     "data": {
      "text/html": [
       "\n",
       "<div id=\"altair-viz-062d58a1916d4be69634626d1cc3d04b\"></div>\n",
       "<script type=\"text/javascript\">\n",
       "  var VEGA_DEBUG = (typeof VEGA_DEBUG == \"undefined\") ? {} : VEGA_DEBUG;\n",
       "  (function(spec, embedOpt){\n",
       "    let outputDiv = document.currentScript.previousElementSibling;\n",
       "    if (outputDiv.id !== \"altair-viz-062d58a1916d4be69634626d1cc3d04b\") {\n",
       "      outputDiv = document.getElementById(\"altair-viz-062d58a1916d4be69634626d1cc3d04b\");\n",
       "    }\n",
       "    const paths = {\n",
       "      \"vega\": \"https://cdn.jsdelivr.net/npm//vega@5?noext\",\n",
       "      \"vega-lib\": \"https://cdn.jsdelivr.net/npm//vega-lib?noext\",\n",
       "      \"vega-lite\": \"https://cdn.jsdelivr.net/npm//vega-lite@4.17.0?noext\",\n",
       "      \"vega-embed\": \"https://cdn.jsdelivr.net/npm//vega-embed@6?noext\",\n",
       "    };\n",
       "\n",
       "    function maybeLoadScript(lib, version) {\n",
       "      var key = `${lib.replace(\"-\", \"\")}_version`;\n",
       "      return (VEGA_DEBUG[key] == version) ?\n",
       "        Promise.resolve(paths[lib]) :\n",
       "        new Promise(function(resolve, reject) {\n",
       "          var s = document.createElement('script');\n",
       "          document.getElementsByTagName(\"head\")[0].appendChild(s);\n",
       "          s.async = true;\n",
       "          s.onload = () => {\n",
       "            VEGA_DEBUG[key] = version;\n",
       "            return resolve(paths[lib]);\n",
       "          };\n",
       "          s.onerror = () => reject(`Error loading script: ${paths[lib]}`);\n",
       "          s.src = paths[lib];\n",
       "        });\n",
       "    }\n",
       "\n",
       "    function showError(err) {\n",
       "      outputDiv.innerHTML = `<div class=\"error\" style=\"color:red;\">${err}</div>`;\n",
       "      throw err;\n",
       "    }\n",
       "\n",
       "    function displayChart(vegaEmbed) {\n",
       "      vegaEmbed(outputDiv, spec, embedOpt)\n",
       "        .catch(err => showError(`Javascript Error: ${err.message}<br>This usually means there's a typo in your chart specification. See the javascript console for the full traceback.`));\n",
       "    }\n",
       "\n",
       "    if(typeof define === \"function\" && define.amd) {\n",
       "      requirejs.config({paths});\n",
       "      require([\"vega-embed\"], displayChart, err => showError(`Error loading script: ${err.message}`));\n",
       "    } else {\n",
       "      maybeLoadScript(\"vega\", \"5\")\n",
       "        .then(() => maybeLoadScript(\"vega-lite\", \"4.17.0\"))\n",
       "        .then(() => maybeLoadScript(\"vega-embed\", \"6\"))\n",
       "        .catch(showError)\n",
       "        .then(() => displayChart(vegaEmbed));\n",
       "    }\n",
       "  })({\"config\": {\"view\": {\"continuousWidth\": 400, \"continuousHeight\": 300}, \"axis\": {\"domainColor\": \"#cbcbcb\", \"grid\": true, \"gridColor\": \"#cbcbcb\", \"gridWidth\": 1, \"labelColor\": \"#474747\", \"labelFont\": \"Nunito Sans\", \"labelFontSize\": 10, \"labelPadding\": 4, \"tickColor\": \"#cbcbcb\", \"tickSize\": 10, \"titleColor\": \"#333\", \"titleFont\": \"Raleway\", \"titleFontSize\": 12, \"titlePadding\": 10}, \"axisBand\": {\"grid\": false}, \"background\": \"white\", \"font\": \"Raleway\", \"header\": {\"labelFont\": \"Nunito Sans\", \"titleFont\": \"Raleway\"}, \"legend\": {\"labelColor\": \"#333\", \"labelFont\": \"Nunito Sans\", \"labelFontSize\": 11, \"labelLimit\": 0, \"padding\": 1, \"symbolSize\": 30, \"symbolType\": \"square\", \"titleColor\": \"#333\", \"titleFont\": \"Raleway\", \"titleFontSize\": 14, \"titlePadding\": 10}, \"title\": {\"anchor\": \"middle\", \"font\": \"Raleway\", \"fontSize\": 18, \"fontWeight\": 300, \"offset\": 20}}, \"data\": {\"name\": \"data-95e6c460f2b3aa6cb7c119068a072fad\"}, \"mark\": \"bar\", \"encoding\": {\"color\": {\"field\": \"primary_agency_name\", \"legend\": {\"symbolLimit\": 10, \"title\": \"Agency\"}, \"scale\": {\"range\": [\"#2EA8CE\", \"#EB9F3C\", \"#F4D837\", \"#51BF9D\", \"#8CBCCB\", \"#9487C0\"]}, \"type\": \"nominal\"}, \"tooltip\": [{\"field\": \"primary_agency_name\", \"type\": \"nominal\"}, {\"field\": \"n\", \"type\": \"quantitative\"}], \"x\": {\"field\": \"primary_agency_name\", \"sort\": \"-y\", \"title\": \"Agency\", \"type\": \"nominal\"}, \"y\": {\"field\": \"n\", \"title\": \"Count\", \"type\": \"quantitative\"}}, \"height\": 250, \"title\": \"Agencies With The Most Unique Prefix Codes\", \"width\": 400, \"$schema\": \"https://vega.github.io/schema/vega-lite/v4.17.0.json\", \"datasets\": {\"data-95e6c460f2b3aa6cb7c119068a072fad\": [{\"primary_agency_name\": \"Los Angeles\", \"n\": 35}, {\"primary_agency_name\": \"Los Angeles County\", \"n\": 31}, {\"primary_agency_name\": \"Long Beach\", \"n\": 19}, {\"primary_agency_name\": \"Los Angeles County Metropolitan Transportation Authority\", \"n\": 18}, {\"primary_agency_name\": \"Oxnard\", \"n\": 14}, {\"primary_agency_name\": \"Santa Clarita\", \"n\": 14}, {\"primary_agency_name\": \"Ventura County\", \"n\": 13}, {\"primary_agency_name\": \"Pasadena\", \"n\": 12}, {\"primary_agency_name\": \"Pico Rivera\", \"n\": 9}, {\"primary_agency_name\": \"San Buenaventura\", \"n\": 9}, {\"primary_agency_name\": \"Santa Monica\", \"n\": 9}, {\"primary_agency_name\": \"Burbank\", \"n\": 8}, {\"primary_agency_name\": \"Culver City\", \"n\": 8}, {\"primary_agency_name\": \"Simi Valley\", \"n\": 8}, {\"primary_agency_name\": \"Glendale\", \"n\": 7}, {\"primary_agency_name\": \"San Gabriel Valley Council of Governments\", \"n\": 7}, {\"primary_agency_name\": \"South Gate\", \"n\": 7}, {\"primary_agency_name\": \"Thousand Oaks\", \"n\": 7}, {\"primary_agency_name\": \"Caltrans\", \"n\": 6}, {\"primary_agency_name\": \"Carson\", \"n\": 6}, {\"primary_agency_name\": \"El Monte\", \"n\": 6}, {\"primary_agency_name\": \"Palmdale\", \"n\": 6}, {\"primary_agency_name\": \"Pomona\", \"n\": 6}, {\"primary_agency_name\": \"Ventura County Transportation Commission\", \"n\": 6}, {\"primary_agency_name\": \"Whittier\", \"n\": 6}, {\"primary_agency_name\": \"Arcadia\", \"n\": 5}, {\"primary_agency_name\": \"Azusa\", \"n\": 5}, {\"primary_agency_name\": \"Bell Gardens\", \"n\": 5}, {\"primary_agency_name\": \"Downey\", \"n\": 5}, {\"primary_agency_name\": \"Inglewood\", \"n\": 5}]}}, {\"mode\": \"vega-lite\"});\n",
       "</script>"
      ],
      "text/plain": [
       "alt.Chart(...)"
      ]
     },
     "metadata": {},
     "output_type": "display_data"
    },
    {
     "data": {
      "text/html": [
       "<h2>Funding Distribution</h2>"
      ],
      "text/plain": [
       "<IPython.core.display.HTML object>"
      ]
     },
     "metadata": {},
     "output_type": "display_data"
    },
    {
     "data": {
      "text/html": [
       "\n",
       "<div id=\"altair-viz-dda1ad2f41c64ee69d10812130ffa758\"></div>\n",
       "<script type=\"text/javascript\">\n",
       "  var VEGA_DEBUG = (typeof VEGA_DEBUG == \"undefined\") ? {} : VEGA_DEBUG;\n",
       "  (function(spec, embedOpt){\n",
       "    let outputDiv = document.currentScript.previousElementSibling;\n",
       "    if (outputDiv.id !== \"altair-viz-dda1ad2f41c64ee69d10812130ffa758\") {\n",
       "      outputDiv = document.getElementById(\"altair-viz-dda1ad2f41c64ee69d10812130ffa758\");\n",
       "    }\n",
       "    const paths = {\n",
       "      \"vega\": \"https://cdn.jsdelivr.net/npm//vega@5?noext\",\n",
       "      \"vega-lib\": \"https://cdn.jsdelivr.net/npm//vega-lib?noext\",\n",
       "      \"vega-lite\": \"https://cdn.jsdelivr.net/npm//vega-lite@4.17.0?noext\",\n",
       "      \"vega-embed\": \"https://cdn.jsdelivr.net/npm//vega-embed@6?noext\",\n",
       "    };\n",
       "\n",
       "    function maybeLoadScript(lib, version) {\n",
       "      var key = `${lib.replace(\"-\", \"\")}_version`;\n",
       "      return (VEGA_DEBUG[key] == version) ?\n",
       "        Promise.resolve(paths[lib]) :\n",
       "        new Promise(function(resolve, reject) {\n",
       "          var s = document.createElement('script');\n",
       "          document.getElementsByTagName(\"head\")[0].appendChild(s);\n",
       "          s.async = true;\n",
       "          s.onload = () => {\n",
       "            VEGA_DEBUG[key] = version;\n",
       "            return resolve(paths[lib]);\n",
       "          };\n",
       "          s.onerror = () => reject(`Error loading script: ${paths[lib]}`);\n",
       "          s.src = paths[lib];\n",
       "        });\n",
       "    }\n",
       "\n",
       "    function showError(err) {\n",
       "      outputDiv.innerHTML = `<div class=\"error\" style=\"color:red;\">${err}</div>`;\n",
       "      throw err;\n",
       "    }\n",
       "\n",
       "    function displayChart(vegaEmbed) {\n",
       "      vegaEmbed(outputDiv, spec, embedOpt)\n",
       "        .catch(err => showError(`Javascript Error: ${err.message}<br>This usually means there's a typo in your chart specification. See the javascript console for the full traceback.`));\n",
       "    }\n",
       "\n",
       "    if(typeof define === \"function\" && define.amd) {\n",
       "      requirejs.config({paths});\n",
       "      require([\"vega-embed\"], displayChart, err => showError(`Error loading script: ${err.message}`));\n",
       "    } else {\n",
       "      maybeLoadScript(\"vega\", \"5\")\n",
       "        .then(() => maybeLoadScript(\"vega-lite\", \"4.17.0\"))\n",
       "        .then(() => maybeLoadScript(\"vega-embed\", \"6\"))\n",
       "        .catch(showError)\n",
       "        .then(() => displayChart(vegaEmbed));\n",
       "    }\n",
       "  })({\"config\": {\"view\": {\"continuousWidth\": 400, \"continuousHeight\": 300}, \"axis\": {\"domainColor\": \"#cbcbcb\", \"grid\": true, \"gridColor\": \"#cbcbcb\", \"gridWidth\": 1, \"labelColor\": \"#474747\", \"labelFont\": \"Nunito Sans\", \"labelFontSize\": 10, \"labelPadding\": 4, \"tickColor\": \"#cbcbcb\", \"tickSize\": 10, \"titleColor\": \"#333\", \"titleFont\": \"Raleway\", \"titleFontSize\": 12, \"titlePadding\": 10}, \"axisBand\": {\"grid\": false}, \"background\": \"white\", \"font\": \"Raleway\", \"header\": {\"labelFont\": \"Nunito Sans\", \"titleFont\": \"Raleway\"}, \"legend\": {\"labelColor\": \"#333\", \"labelFont\": \"Nunito Sans\", \"labelFontSize\": 11, \"labelLimit\": 0, \"padding\": 1, \"symbolSize\": 30, \"symbolType\": \"square\", \"titleColor\": \"#333\", \"titleFont\": \"Raleway\", \"titleFontSize\": 14, \"titlePadding\": 10}, \"title\": {\"anchor\": \"middle\", \"font\": \"Raleway\", \"fontSize\": 18, \"fontWeight\": 300, \"offset\": 20}}, \"data\": {\"name\": \"data-5eab86248a0ab32f651446c3d488924a\"}, \"mark\": \"bar\", \"encoding\": {\"color\": {\"field\": \"primary_agency_name\", \"legend\": {\"symbolLimit\": 10, \"title\": \"Agency\"}, \"scale\": {\"range\": [\"#2EA8CE\", \"#EB9F3C\", \"#F4D837\", \"#51BF9D\", \"#8CBCCB\", \"#9487C0\"]}, \"type\": \"nominal\"}, \"tooltip\": [{\"field\": \"primary_agency_name\", \"type\": \"nominal\"}, {\"field\": \"adjusted_total_requested\", \"type\": \"quantitative\"}], \"x\": {\"field\": \"primary_agency_name\", \"sort\": \"-y\", \"title\": \"Agency\", \"type\": \"nominal\"}, \"y\": {\"field\": \"adjusted_total_requested\", \"title\": \"Adjusted Total Requested\", \"type\": \"quantitative\"}}, \"height\": 250, \"title\": \"Average Total Requested Funds by Agency ($2021)\", \"width\": 400, \"$schema\": \"https://vega.github.io/schema/vega-lite/v4.17.0.json\", \"datasets\": {\"data-5eab86248a0ab32f651446c3d488924a\": [{\"primary_agency_name\": \"Access Services\", \"adjusted_total_requested\": 37942777.89303295}, {\"primary_agency_name\": \"Los Angeles County Metropolitan Transportation Authority\", \"adjusted_total_requested\": 19316152.046509463}, {\"primary_agency_name\": \"Sunline Transit Agency\", \"adjusted_total_requested\": 18212493.526745472}, {\"primary_agency_name\": \"Caltrans\", \"adjusted_total_requested\": 17858573.466704488}, {\"primary_agency_name\": \"Southern California Regional Rail Authority\", \"adjusted_total_requested\": 7461889.721617229}, {\"primary_agency_name\": \"Long Beach\", \"adjusted_total_requested\": 4987075.454170946}, {\"primary_agency_name\": \"San Gabriel Valley Council of Governments\", \"adjusted_total_requested\": 2974245.3598490334}, {\"primary_agency_name\": \"Antelope Valley Transit Authority\", \"adjusted_total_requested\": 2623349.4523108755}, {\"primary_agency_name\": \"South Coast Area Transit\", \"adjusted_total_requested\": 2322606.22519606}, {\"primary_agency_name\": \"Long Beach Transportation Company\", \"adjusted_total_requested\": 1855503.5765890474}, {\"primary_agency_name\": \"Santa Monica\", \"adjusted_total_requested\": 1802884.454006025}, {\"primary_agency_name\": \"Los Angeles\", \"adjusted_total_requested\": 1709090.3752454729}, {\"primary_agency_name\": \"Moorpark\", \"adjusted_total_requested\": 1408460.4858382964}, {\"primary_agency_name\": \"Manhattan Beach\", \"adjusted_total_requested\": 1188554.2908539972}, {\"primary_agency_name\": \"Huntington Park\", \"adjusted_total_requested\": 948793.6836048005}, {\"primary_agency_name\": \"San Dimas\", \"adjusted_total_requested\": 916978.3005584783}, {\"primary_agency_name\": \"Agoura Hills\", \"adjusted_total_requested\": 914812.3808252264}, {\"primary_agency_name\": \"Torrance\", \"adjusted_total_requested\": 842764.58247427}, {\"primary_agency_name\": \"Vernon\", \"adjusted_total_requested\": 820615.2375874913}, {\"primary_agency_name\": \"Gardena\", \"adjusted_total_requested\": 816685.2767700204}, {\"primary_agency_name\": \"Los Angeles Unified School District\", \"adjusted_total_requested\": 733250.0798771225}, {\"primary_agency_name\": \"San Gabriel\", \"adjusted_total_requested\": 682947.3876151005}, {\"primary_agency_name\": \"Pasadena\", \"adjusted_total_requested\": 670266.0373855482}, {\"primary_agency_name\": \"Whittier\", \"adjusted_total_requested\": 637338.3220905858}, {\"primary_agency_name\": \"South Gate\", \"adjusted_total_requested\": 630556.1290033757}, {\"primary_agency_name\": \"South Coast Air Quality Management District\", \"adjusted_total_requested\": 625846.2522639616}, {\"primary_agency_name\": \"Santa Paula\", \"adjusted_total_requested\": 605843.3291900635}, {\"primary_agency_name\": \"Lancaster\", \"adjusted_total_requested\": 587211.1629842039}, {\"primary_agency_name\": \"Alhambra\", \"adjusted_total_requested\": 586621.7235575198}, {\"primary_agency_name\": \"Hawthorne\", \"adjusted_total_requested\": 582587.4891884293}]}}, {\"mode\": \"vega-lite\"});\n",
       "</script>"
      ],
      "text/plain": [
       "alt.Chart(...)"
      ]
     },
     "metadata": {},
     "output_type": "display_data"
    },
    {
     "data": {
      "text/html": [
       "\n",
       "<div id=\"altair-viz-04838dd7c92e4686939bb5f7c6c4a63f\"></div>\n",
       "<script type=\"text/javascript\">\n",
       "  var VEGA_DEBUG = (typeof VEGA_DEBUG == \"undefined\") ? {} : VEGA_DEBUG;\n",
       "  (function(spec, embedOpt){\n",
       "    let outputDiv = document.currentScript.previousElementSibling;\n",
       "    if (outputDiv.id !== \"altair-viz-04838dd7c92e4686939bb5f7c6c4a63f\") {\n",
       "      outputDiv = document.getElementById(\"altair-viz-04838dd7c92e4686939bb5f7c6c4a63f\");\n",
       "    }\n",
       "    const paths = {\n",
       "      \"vega\": \"https://cdn.jsdelivr.net/npm//vega@5?noext\",\n",
       "      \"vega-lib\": \"https://cdn.jsdelivr.net/npm//vega-lib?noext\",\n",
       "      \"vega-lite\": \"https://cdn.jsdelivr.net/npm//vega-lite@4.17.0?noext\",\n",
       "      \"vega-embed\": \"https://cdn.jsdelivr.net/npm//vega-embed@6?noext\",\n",
       "    };\n",
       "\n",
       "    function maybeLoadScript(lib, version) {\n",
       "      var key = `${lib.replace(\"-\", \"\")}_version`;\n",
       "      return (VEGA_DEBUG[key] == version) ?\n",
       "        Promise.resolve(paths[lib]) :\n",
       "        new Promise(function(resolve, reject) {\n",
       "          var s = document.createElement('script');\n",
       "          document.getElementsByTagName(\"head\")[0].appendChild(s);\n",
       "          s.async = true;\n",
       "          s.onload = () => {\n",
       "            VEGA_DEBUG[key] = version;\n",
       "            return resolve(paths[lib]);\n",
       "          };\n",
       "          s.onerror = () => reject(`Error loading script: ${paths[lib]}`);\n",
       "          s.src = paths[lib];\n",
       "        });\n",
       "    }\n",
       "\n",
       "    function showError(err) {\n",
       "      outputDiv.innerHTML = `<div class=\"error\" style=\"color:red;\">${err}</div>`;\n",
       "      throw err;\n",
       "    }\n",
       "\n",
       "    function displayChart(vegaEmbed) {\n",
       "      vegaEmbed(outputDiv, spec, embedOpt)\n",
       "        .catch(err => showError(`Javascript Error: ${err.message}<br>This usually means there's a typo in your chart specification. See the javascript console for the full traceback.`));\n",
       "    }\n",
       "\n",
       "    if(typeof define === \"function\" && define.amd) {\n",
       "      requirejs.config({paths});\n",
       "      require([\"vega-embed\"], displayChart, err => showError(`Error loading script: ${err.message}`));\n",
       "    } else {\n",
       "      maybeLoadScript(\"vega\", \"5\")\n",
       "        .then(() => maybeLoadScript(\"vega-lite\", \"4.17.0\"))\n",
       "        .then(() => maybeLoadScript(\"vega-embed\", \"6\"))\n",
       "        .catch(showError)\n",
       "        .then(() => displayChart(vegaEmbed));\n",
       "    }\n",
       "  })({\"config\": {\"view\": {\"continuousWidth\": 400, \"continuousHeight\": 300}, \"axis\": {\"domainColor\": \"#cbcbcb\", \"grid\": true, \"gridColor\": \"#cbcbcb\", \"gridWidth\": 1, \"labelColor\": \"#474747\", \"labelFont\": \"Nunito Sans\", \"labelFontSize\": 10, \"labelPadding\": 4, \"tickColor\": \"#cbcbcb\", \"tickSize\": 10, \"titleColor\": \"#333\", \"titleFont\": \"Raleway\", \"titleFontSize\": 12, \"titlePadding\": 10}, \"axisBand\": {\"grid\": false}, \"background\": \"white\", \"font\": \"Raleway\", \"header\": {\"labelFont\": \"Nunito Sans\", \"titleFont\": \"Raleway\"}, \"legend\": {\"labelColor\": \"#333\", \"labelFont\": \"Nunito Sans\", \"labelFontSize\": 11, \"labelLimit\": 0, \"padding\": 1, \"symbolSize\": 30, \"symbolType\": \"square\", \"titleColor\": \"#333\", \"titleFont\": \"Raleway\", \"titleFontSize\": 14, \"titlePadding\": 10}, \"title\": {\"anchor\": \"middle\", \"font\": \"Raleway\", \"fontSize\": 18, \"fontWeight\": 300, \"offset\": 20}}, \"data\": {\"name\": \"data-92bdbf505f2df415cd0f52b737b1f5bd\"}, \"mark\": \"bar\", \"encoding\": {\"color\": {\"field\": \"primary_agency_name\", \"legend\": {\"symbolLimit\": 10, \"title\": \"Agency\"}, \"scale\": {\"range\": [\"#2EA8CE\", \"#EB9F3C\", \"#F4D837\", \"#51BF9D\", \"#8CBCCB\", \"#9487C0\"]}, \"type\": \"nominal\"}, \"tooltip\": [{\"field\": \"primary_agency_name\", \"type\": \"nominal\"}, {\"field\": \"avg_funds\", \"type\": \"quantitative\"}], \"x\": {\"field\": \"primary_agency_name\", \"sort\": \"-y\", \"title\": \"Agency\", \"type\": \"nominal\"}, \"y\": {\"field\": \"avg_funds\", \"title\": \"Avg Funds\", \"type\": \"quantitative\"}}, \"height\": 250, \"title\": \"Lowest Average Total Funds by Agency ($2021\", \"width\": 400, \"$schema\": \"https://vega.github.io/schema/vega-lite/v4.17.0.json\", \"datasets\": {\"data-92bdbf505f2df415cd0f52b737b1f5bd\": [{\"primary_agency_name\": \"Cerritos\", \"avg_funds\": 200706.13087157512}, {\"primary_agency_name\": \"Bell\", \"avg_funds\": 197014.2728211242}, {\"primary_agency_name\": \"Industry\", \"avg_funds\": 186921.5921220841}, {\"primary_agency_name\": \"Montebello\", \"avg_funds\": 179904.84884876182}, {\"primary_agency_name\": \"El Monte\", \"avg_funds\": 179686.06634285746}, {\"primary_agency_name\": \"Irwindale\", \"avg_funds\": 162993.36380611456}, {\"primary_agency_name\": \"Glendora\", \"avg_funds\": 157478.4970679076}, {\"primary_agency_name\": \"Cudahy\", \"avg_funds\": 148614.03522285054}, {\"primary_agency_name\": \"La Mirada\", \"avg_funds\": 146420.9646257053}, {\"primary_agency_name\": \"South El Monte\", \"avg_funds\": 135141.9529855974}, {\"primary_agency_name\": \"Bell Gardens\", \"avg_funds\": 133825.06955732615}, {\"primary_agency_name\": \"Rancho Palos Verdes\", \"avg_funds\": 132970.03103482918}, {\"primary_agency_name\": \"Ojai\", \"avg_funds\": 130826.130824513}, {\"primary_agency_name\": \"West Covina\", \"avg_funds\": 124135.33143052645}, {\"primary_agency_name\": \"Carson\", \"avg_funds\": 114492.82856088631}, {\"primary_agency_name\": \"Claremont\", \"avg_funds\": 107928.72430768568}, {\"primary_agency_name\": \"Artesia\", \"avg_funds\": 93632.00039586436}, {\"primary_agency_name\": \"Temple City\", \"avg_funds\": 76749.88614009363}, {\"primary_agency_name\": \"San Marino\", \"avg_funds\": 76358.13523121568}, {\"primary_agency_name\": \"Azusa\", \"avg_funds\": 68450.53960709594}, {\"primary_agency_name\": \"South Pasadena\", \"avg_funds\": 66908.48109226405}, {\"primary_agency_name\": \"Fillmore\", \"avg_funds\": 50673.01631590156}, {\"primary_agency_name\": \"Hermosa Beach\", \"avg_funds\": 37977.77099961983}, {\"primary_agency_name\": \"Westlake Village\", \"avg_funds\": 9970.948076515962}, {\"primary_agency_name\": \"Calabasas\", \"avg_funds\": 8765.786507970033}, {\"primary_agency_name\": \"Port Hueneme\", \"avg_funds\": 7831.073237359346}, {\"primary_agency_name\": \"Maywood\", \"avg_funds\": 121.19105229125577}, {\"primary_agency_name\": \"El Segundo\", \"avg_funds\": 0.0}, {\"primary_agency_name\": \"Port Of Long Beach\", \"avg_funds\": 0.0}, {\"primary_agency_name\": \"U.S. Forest Service, Pacific Southwest Region\", \"avg_funds\": 0.0}, {\"primary_agency_name\": \"Malibu\", \"avg_funds\": -7964.778456414654}, {\"primary_agency_name\": \"Compton\", \"avg_funds\": -10435.195777580138}, {\"primary_agency_name\": \"Lawndale\", \"avg_funds\": -21436.025599581775}, {\"primary_agency_name\": \"Oxnard\", \"avg_funds\": -33795.12121074856}, {\"primary_agency_name\": \"Signal Hill\", \"avg_funds\": -119667.75678903918}, {\"primary_agency_name\": \"Walnut\", \"avg_funds\": -147121.90326443943}, {\"primary_agency_name\": \"Rolling Hills Estates\", \"avg_funds\": -219299.99025428557}, {\"primary_agency_name\": \"Pomona\", \"avg_funds\": -3231697.859793503}, {\"primary_agency_name\": \"Santa Fe Springs\", \"avg_funds\": -10533609.92653531}, {\"primary_agency_name\": \"Alameda Corridor Transportation Authority\", \"avg_funds\": -16561459.683814544}]}}, {\"mode\": \"vega-lite\"});\n",
       "</script>"
      ],
      "text/plain": [
       "alt.Chart(...)"
      ]
     },
     "metadata": {},
     "output_type": "display_data"
    },
    {
     "data": {
      "text/html": [
       "\n",
       "<div id=\"altair-viz-ab91cc9569f64f61bd588679295c85c9\"></div>\n",
       "<script type=\"text/javascript\">\n",
       "  var VEGA_DEBUG = (typeof VEGA_DEBUG == \"undefined\") ? {} : VEGA_DEBUG;\n",
       "  (function(spec, embedOpt){\n",
       "    let outputDiv = document.currentScript.previousElementSibling;\n",
       "    if (outputDiv.id !== \"altair-viz-ab91cc9569f64f61bd588679295c85c9\") {\n",
       "      outputDiv = document.getElementById(\"altair-viz-ab91cc9569f64f61bd588679295c85c9\");\n",
       "    }\n",
       "    const paths = {\n",
       "      \"vega\": \"https://cdn.jsdelivr.net/npm//vega@5?noext\",\n",
       "      \"vega-lib\": \"https://cdn.jsdelivr.net/npm//vega-lib?noext\",\n",
       "      \"vega-lite\": \"https://cdn.jsdelivr.net/npm//vega-lite@4.17.0?noext\",\n",
       "      \"vega-embed\": \"https://cdn.jsdelivr.net/npm//vega-embed@6?noext\",\n",
       "    };\n",
       "\n",
       "    function maybeLoadScript(lib, version) {\n",
       "      var key = `${lib.replace(\"-\", \"\")}_version`;\n",
       "      return (VEGA_DEBUG[key] == version) ?\n",
       "        Promise.resolve(paths[lib]) :\n",
       "        new Promise(function(resolve, reject) {\n",
       "          var s = document.createElement('script');\n",
       "          document.getElementsByTagName(\"head\")[0].appendChild(s);\n",
       "          s.async = true;\n",
       "          s.onload = () => {\n",
       "            VEGA_DEBUG[key] = version;\n",
       "            return resolve(paths[lib]);\n",
       "          };\n",
       "          s.onerror = () => reject(`Error loading script: ${paths[lib]}`);\n",
       "          s.src = paths[lib];\n",
       "        });\n",
       "    }\n",
       "\n",
       "    function showError(err) {\n",
       "      outputDiv.innerHTML = `<div class=\"error\" style=\"color:red;\">${err}</div>`;\n",
       "      throw err;\n",
       "    }\n",
       "\n",
       "    function displayChart(vegaEmbed) {\n",
       "      vegaEmbed(outputDiv, spec, embedOpt)\n",
       "        .catch(err => showError(`Javascript Error: ${err.message}<br>This usually means there's a typo in your chart specification. See the javascript console for the full traceback.`));\n",
       "    }\n",
       "\n",
       "    if(typeof define === \"function\" && define.amd) {\n",
       "      requirejs.config({paths});\n",
       "      require([\"vega-embed\"], displayChart, err => showError(`Error loading script: ${err.message}`));\n",
       "    } else {\n",
       "      maybeLoadScript(\"vega\", \"5\")\n",
       "        .then(() => maybeLoadScript(\"vega-lite\", \"4.17.0\"))\n",
       "        .then(() => maybeLoadScript(\"vega-embed\", \"6\"))\n",
       "        .catch(showError)\n",
       "        .then(() => displayChart(vegaEmbed));\n",
       "    }\n",
       "  })({\"config\": {\"view\": {\"continuousWidth\": 400, \"continuousHeight\": 300}, \"axis\": {\"domainColor\": \"#cbcbcb\", \"grid\": true, \"gridColor\": \"#cbcbcb\", \"gridWidth\": 1, \"labelColor\": \"#474747\", \"labelFont\": \"Nunito Sans\", \"labelFontSize\": 10, \"labelPadding\": 4, \"tickColor\": \"#cbcbcb\", \"tickSize\": 10, \"titleColor\": \"#333\", \"titleFont\": \"Raleway\", \"titleFontSize\": 12, \"titlePadding\": 10}, \"axisBand\": {\"grid\": false}, \"background\": \"white\", \"font\": \"Raleway\", \"header\": {\"labelFont\": \"Nunito Sans\", \"titleFont\": \"Raleway\"}, \"legend\": {\"labelColor\": \"#333\", \"labelFont\": \"Nunito Sans\", \"labelFontSize\": 11, \"labelLimit\": 0, \"padding\": 1, \"symbolSize\": 30, \"symbolType\": \"square\", \"titleColor\": \"#333\", \"titleFont\": \"Raleway\", \"titleFontSize\": 14, \"titlePadding\": 10}, \"title\": {\"anchor\": \"middle\", \"font\": \"Raleway\", \"fontSize\": 18, \"fontWeight\": 300, \"offset\": 20}}, \"data\": {\"name\": \"data-e3f643671df47a5ea1752f0f8393eea6\"}, \"mark\": \"bar\", \"encoding\": {\"color\": {\"field\": \"prefix\", \"legend\": {\"symbolLimit\": 10, \"title\": \"Prefix\"}, \"scale\": {\"range\": [\"#2EA8CE\", \"#EB9F3C\", \"#F4D837\", \"#51BF9D\", \"#8CBCCB\", \"#9487C0\"]}, \"type\": \"nominal\"}, \"tooltip\": [{\"field\": \"prefix\", \"type\": \"nominal\"}, {\"field\": \"adjusted_total_requested\", \"type\": \"quantitative\"}], \"x\": {\"field\": \"prefix\", \"sort\": \"-y\", \"title\": \"Prefix\", \"type\": \"nominal\"}, \"y\": {\"field\": \"adjusted_total_requested\", \"title\": \"Adjusted Total Requested\", \"type\": \"quantitative\"}}, \"height\": 250, \"title\": \"Average Total Requested Funds by Prefix ($2021)\", \"width\": 400, \"$schema\": \"https://vega.github.io/schema/vega-lite/v4.17.0.json\", \"datasets\": {\"data-e3f643671df47a5ea1752f0f8393eea6\": [{\"prefix\": \"INFRAL\", \"adjusted_total_requested\": 279332352.96236193}, {\"prefix\": \"PNRSLN\", \"adjusted_total_requested\": 79226957.47294548}, {\"prefix\": \"FTASTPLR\", \"adjusted_total_requested\": 71412734.4420542}, {\"prefix\": \"FTACMSTPL\", \"adjusted_total_requested\": 54514105.74205981}, {\"prefix\": \"STIPL\", \"adjusted_total_requested\": 45361438.42926756}, {\"prefix\": \"FTASTPL\", \"adjusted_total_requested\": 34122268.274915494}, {\"prefix\": \"ACNHPI\", \"adjusted_total_requested\": 33613857.12306856}, {\"prefix\": \"PNRS\", \"adjusted_total_requested\": 21629802.124281783}, {\"prefix\": \"TTDG\", \"adjusted_total_requested\": 18361057.324252836}, {\"prefix\": \"TCEPSB1L\", \"adjusted_total_requested\": 16032072.940059392}, {\"prefix\": \"LPPCML\", \"adjusted_total_requested\": 9653008.220900035}, {\"prefix\": \"HIPL\", \"adjusted_total_requested\": 8458484.797438493}, {\"prefix\": \"FTACML\", \"adjusted_total_requested\": 8287816.240547302}, {\"prefix\": \"BRLSZD\", \"adjusted_total_requested\": 8229554.069357624}, {\"prefix\": \"STPLR\", \"adjusted_total_requested\": 7661182.2866411945}, {\"prefix\": \"CMLN\", \"adjusted_total_requested\": 5069238.1328232875}, {\"prefix\": \"STP\", \"adjusted_total_requested\": 4128167.994176341}, {\"prefix\": \"CARSI\", \"adjusted_total_requested\": 3831098.7451449055}, {\"prefix\": \"BRLS\", \"adjusted_total_requested\": 3576227.200616038}, {\"prefix\": \"DPC\", \"adjusted_total_requested\": 3323467.139525226}, {\"prefix\": \"BRHIPL\", \"adjusted_total_requested\": 3276680.7905565402}, {\"prefix\": \"FTAATPL\", \"adjusted_total_requested\": 2935539.651118198}, {\"prefix\": \"FERSTP\", \"adjusted_total_requested\": 2820851.3654224426}, {\"prefix\": \"NHPI\", \"adjusted_total_requested\": 2811129.9304223787}, {\"prefix\": \"FTAFBDL\", \"adjusted_total_requested\": 2747058.231006931}, {\"prefix\": \"TILUL\", \"adjusted_total_requested\": 2496503.350121503}, {\"prefix\": \"ATCMTD\", \"adjusted_total_requested\": 1959780.5228689567}, {\"prefix\": \"STPLNZ\", \"adjusted_total_requested\": 1800144.2657944367}, {\"prefix\": \"ATPSB1L\", \"adjusted_total_requested\": 1655767.0454280132}, {\"prefix\": \"RSTPL\", \"adjusted_total_requested\": 1653288.9452259985}]}}, {\"mode\": \"vega-lite\"});\n",
       "</script>"
      ],
      "text/plain": [
       "alt.Chart(...)"
      ]
     },
     "metadata": {},
     "output_type": "display_data"
    },
    {
     "data": {
      "text/html": [
       "<h2>Work Categories</h2>"
      ],
      "text/plain": [
       "<IPython.core.display.HTML object>"
      ]
     },
     "metadata": {},
     "output_type": "display_data"
    },
    {
     "data": {
      "application/vnd.jupyter.widget-view+json": {
       "model_id": "47c07f9492e6495f9e3ed27c84ee9eaf",
       "version_major": 2,
       "version_minor": 0
      },
      "text/plain": [
       "Tab(children=(Output(), Output(), Output(), Output(), Output(), Output(), Output()), _titles={'0': 'Active Tra…"
      ]
     },
     "metadata": {},
     "output_type": "display_data"
    }
   ],
   "source": [
    "make_charts(df, subset)"
   ]
  },
  {
   "cell_type": "code",
   "execution_count": null,
   "id": "249395e5-4e59-4cb6-956f-c4db0a672c18",
   "metadata": {},
   "outputs": [],
   "source": []
  },
  {
   "cell_type": "code",
   "execution_count": null,
   "id": "53ffb48f-b153-4c8e-a44c-755af8cde9ee",
   "metadata": {},
   "outputs": [],
   "source": []
  },
  {
   "cell_type": "code",
   "execution_count": null,
   "id": "cb86cb8f-079d-4853-a1ad-301020d513f1",
   "metadata": {},
   "outputs": [],
   "source": []
  },
  {
   "cell_type": "code",
   "execution_count": null,
   "id": "11b4f54f-68a6-4944-8fac-8bac8fc4f2c4",
   "metadata": {},
   "outputs": [],
   "source": []
  },
  {
   "cell_type": "code",
   "execution_count": null,
   "id": "2a1d7a1f-8970-45b4-806e-a6eaddab28f2",
   "metadata": {},
   "outputs": [],
   "source": []
  },
  {
   "cell_type": "code",
   "execution_count": null,
   "id": "38ce876b-9b63-41cc-83d8-103188ebcdef",
   "metadata": {},
   "outputs": [],
   "source": []
  }
 ],
 "metadata": {
  "kernelspec": {
   "display_name": "Python 3 (ipykernel)",
   "language": "python",
   "name": "python3"
  },
  "language_info": {
   "codemirror_mode": {
    "name": "ipython",
    "version": 3
   },
   "file_extension": ".py",
   "mimetype": "text/x-python",
   "name": "python",
   "nbconvert_exporter": "python",
   "pygments_lexer": "ipython3",
   "version": "3.9.13"
  },
  "widgets": {
   "application/vnd.jupyter.widget-state+json": {
    "state": {},
    "version_major": 2,
    "version_minor": 0
   }
  }
 },
 "nbformat": 4,
 "nbformat_minor": 5
}
