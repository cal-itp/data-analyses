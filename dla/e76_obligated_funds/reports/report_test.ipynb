{
 "cells": [
  {
   "cell_type": "markdown",
   "id": "4116dd94-0f31-4995-8c3b-b1781e6366a5",
   "metadata": {},
   "source": [
    "# District {district} Analysis"
   ]
  },
  {
   "cell_type": "code",
   "execution_count": 1,
   "id": "1ecf83bf-a9a9-4e6b-98b6-b0b0400a12e1",
   "metadata": {
    "tags": []
   },
   "outputs": [
    {
     "name": "stderr",
     "output_type": "stream",
     "text": [
<<<<<<< Updated upstream
      "E0415 20:18:56.928434458    1994 fork_posix.cc:70]           Fork support is only compatible with the epoll1 and poll polling strategies\n",
      "E0415 20:18:57.361665519    1994 fork_posix.cc:70]           Fork support is only compatible with the epoll1 and poll polling strategies\n"
=======
      "E0418 22:11:17.144210279    1289 fork_posix.cc:70]           Fork support is only compatible with the epoll1 and poll polling strategies\n",
      "E0418 22:11:17.647030583    1289 fork_posix.cc:70]           Fork support is only compatible with the epoll1 and poll polling strategies\n"
>>>>>>> Stashed changes
     ]
    }
   ],
   "source": [
    "%%capture\n",
    "\n",
<<<<<<< Updated upstream
    "import warnings\n",
    "\n",
    "warnings.filterwarnings(\"ignore\")\n",
=======
    "# import warnings\n",
    "\n",
    "# warnings.filterwarnings(\"ignore\")\n",
>>>>>>> Stashed changes
    "\n",
    "\n",
    "import _dla_utils, gen_report\n",
    "\n",
    "#alt.themes.register(\"calitp_theme\", styleguide.calitp_theme)\n",
    "# enable\n",
    "#alt.themes.enable(\"calitp_theme\")\n",
    "import altair as alt\n",
    "alt.renderers.enable('html')"
   ]
  },
  {
   "cell_type": "code",
   "execution_count": 2,
   "id": "69d78638-5ca9-49e5-a909-e282c83aeed1",
   "metadata": {},
   "outputs": [],
   "source": [
    "import pandas as pd\n",
    "from siuba import *\n",
    "df = pd.read_parquet('dla_df.parquet')"
   ]
  },
  {
   "cell_type": "code",
   "execution_count": 3,
   "id": "92c97609-fba1-470b-8257-8a7533ed0df2",
   "metadata": {
    "tags": [
     "parameters"
    ]
   },
   "outputs": [],
   "source": [
    "#Parameter Cell\n",
    "\n",
    "district = 4"
   ]
  },
  {
   "cell_type": "code",
   "execution_count": 4,
   "id": "f32731e6-fe81-4f58-8128-9cdcac97542d",
   "metadata": {},
   "outputs": [],
   "source": [
    "#display(HTML(f\"<title> District {district} Analysis </title>\"))"
   ]
  },
  {
   "cell_type": "code",
   "execution_count": 5,
   "id": "67694733-715a-4846-89c1-b9fe393fb8a6",
   "metadata": {
    "scrolled": true,
    "tags": []
   },
   "outputs": [
    {
     "data": {
      "text/html": [
       "<h2>Quick Stats</h2>"
      ],
      "text/plain": [
       "<IPython.core.display.HTML object>"
      ]
     },
     "metadata": {},
     "output_type": "display_data"
    },
    {
     "data": {
      "text/html": [
       "There are <strong>151 Unique Agencies</strong>"
      ],
      "text/plain": [
       "<IPython.core.display.HTML object>"
      ]
     },
     "metadata": {},
     "output_type": "display_data"
    },
    {
     "data": {
      "text/html": [
       "Out of <strong>3433</strong> obligations, <strong>63 are transit-related</strong>."
      ],
      "text/plain": [
       "<IPython.core.display.HTML object>"
      ]
     },
     "metadata": {},
     "output_type": "display_data"
    },
    {
     "data": {
      "text/html": [
       "<strong>Metropolitan Transportation Commission</strong> has the <strong>highest transit</strong> obligations"
      ],
      "text/plain": [
       "<IPython.core.display.HTML object>"
      ]
     },
     "metadata": {},
     "output_type": "display_data"
    },
    {
     "data": {
      "text/html": [
       "There are <strong>8 agencies have over 93.00</strong> obligations (95th percentile) since 2011.0"
      ],
      "text/plain": [
       "<IPython.core.display.HTML object>"
      ]
     },
     "metadata": {},
     "output_type": "display_data"
    },
    {
     "data": {
      "text/html": [
       "There are <strong>9 agencies have less than 2.00</strong> obligations (5th percentile) since 2011.0"
      ],
      "text/plain": [
       "<IPython.core.display.HTML object>"
      ]
     },
     "metadata": {},
     "output_type": "display_data"
    },
    {
     "data": {
      "text/html": [
       "<h4><strong>Number of Unique Prefix Codes by Agency</strong></h4>"
      ],
      "text/plain": [
       "<IPython.core.display.HTML object>"
      ]
     },
     "metadata": {},
     "output_type": "display_data"
    },
    {
     "data": {
      "text/html": [
       "<div>\n",
       "<style scoped>\n",
       "    .dataframe tbody tr th:only-of-type {\n",
       "        vertical-align: middle;\n",
       "    }\n",
       "\n",
       "    .dataframe tbody tr th {\n",
       "        vertical-align: top;\n",
       "    }\n",
       "\n",
       "    .dataframe thead th {\n",
       "        text-align: right;\n",
       "    }\n",
       "</style>\n",
       "<table border=\"1\" class=\"dataframe\">\n",
       "  <thead>\n",
       "    <tr style=\"text-align: right;\">\n",
       "      <th></th>\n",
       "      <th>Agency</th>\n",
       "      <th>Number of Unqiue Prefix Codes</th>\n",
       "    </tr>\n",
       "  </thead>\n",
       "  <tbody>\n",
       "    <tr>\n",
       "      <th>28</th>\n",
       "      <td>Contra Costa County</td>\n",
       "      <td>18</td>\n",
       "    </tr>\n",
       "    <tr>\n",
       "      <th>107</th>\n",
       "      <td>San Francisco County</td>\n",
       "      <td>17</td>\n",
       "    </tr>\n",
       "    <tr>\n",
       "      <th>110</th>\n",
       "      <td>San Jose</td>\n",
       "      <td>17</td>\n",
       "    </tr>\n",
       "    <tr>\n",
       "      <th>119</th>\n",
       "      <td>Santa Clara County</td>\n",
       "      <td>17</td>\n",
       "    </tr>\n",
       "    <tr>\n",
       "      <th>2</th>\n",
       "      <td>Alameda County</td>\n",
       "      <td>16</td>\n",
       "    </tr>\n",
       "  </tbody>\n",
       "</table>\n",
       "</div>"
      ],
      "text/plain": [
       "                   Agency  Number of Unqiue Prefix Codes\n",
       "28    Contra Costa County                             18\n",
       "107  San Francisco County                             17\n",
       "110              San Jose                             17\n",
       "119    Santa Clara County                             17\n",
       "2          Alameda County                             16"
      ]
     },
     "metadata": {},
     "output_type": "display_data"
    },
    {
     "data": {
      "text/html": [
       "<h4><strong>Number of Unique Agencies by Prefix Codes</strong></h4>"
      ],
      "text/plain": [
       "<IPython.core.display.HTML object>"
      ]
     },
     "metadata": {},
     "output_type": "display_data"
    },
    {
     "data": {
      "text/html": [
       "<div>\n",
       "<style scoped>\n",
       "    .dataframe tbody tr th:only-of-type {\n",
       "        vertical-align: middle;\n",
       "    }\n",
       "\n",
       "    .dataframe tbody tr th {\n",
       "        vertical-align: top;\n",
       "    }\n",
       "\n",
       "    .dataframe thead th {\n",
       "        text-align: right;\n",
       "    }\n",
       "</style>\n",
       "<table border=\"1\" class=\"dataframe\">\n",
       "  <thead>\n",
       "    <tr style=\"text-align: right;\">\n",
       "      <th></th>\n",
       "      <th>Prefix</th>\n",
       "      <th>Number of Unqiue Agencies</th>\n",
       "    </tr>\n",
       "  </thead>\n",
       "  <tbody>\n",
       "    <tr>\n",
       "      <th>91</th>\n",
       "      <td>STPL</td>\n",
       "      <td>112</td>\n",
       "    </tr>\n",
       "    <tr>\n",
       "      <th>19</th>\n",
       "      <td>CML</td>\n",
       "      <td>90</td>\n",
       "    </tr>\n",
       "    <tr>\n",
       "      <th>62</th>\n",
       "      <td>HSIPL</td>\n",
       "      <td>52</td>\n",
       "    </tr>\n",
       "    <tr>\n",
       "      <th>16</th>\n",
       "      <td>BRLS</td>\n",
       "      <td>32</td>\n",
       "    </tr>\n",
       "    <tr>\n",
       "      <th>75</th>\n",
       "      <td>RPSTPL</td>\n",
       "      <td>30</td>\n",
       "    </tr>\n",
       "  </tbody>\n",
       "</table>\n",
       "</div>"
      ],
      "text/plain": [
       "    Prefix  Number of Unqiue Agencies\n",
       "91    STPL                        112\n",
       "19     CML                         90\n",
       "62   HSIPL                         52\n",
       "16    BRLS                         32\n",
       "75  RPSTPL                         30"
      ]
     },
     "metadata": {},
     "output_type": "display_data"
    },
    {
     "data": {
      "text/html": [
       "<h4><strong>Top 5 Types of Work</strong></h4>"
      ],
      "text/plain": [
       "<IPython.core.display.HTML object>"
      ]
     },
     "metadata": {},
     "output_type": "display_data"
    },
    {
     "data": {
      "text/html": [
<<<<<<< Updated upstream
       "<div>\n",
       "<style scoped>\n",
       "    .dataframe tbody tr th:only-of-type {\n",
       "        vertical-align: middle;\n",
       "    }\n",
       "\n",
       "    .dataframe tbody tr th {\n",
       "        vertical-align: top;\n",
       "    }\n",
       "\n",
       "    .dataframe thead th {\n",
       "        text-align: right;\n",
       "    }\n",
       "</style>\n",
       "<table border=\"1\" class=\"dataframe\">\n",
       "  <thead>\n",
       "    <tr style=\"text-align: right;\">\n",
       "      <th></th>\n",
       "      <th>Type of Work</th>\n",
=======
       "<style type=\"text/css\">\n",
       "</style>\n",
       "<table id=\"T_c5027\">\n",
       "  <thead>\n",
       "    <tr>\n",
       "      <th class=\"blank level0\" >&nbsp;</th>\n",
       "      <th id=\"T_c5027_level0_col0\" class=\"col_heading level0 col0\" >Type of Work</th>\n",
>>>>>>> Stashed changes
       "    </tr>\n",
       "  </thead>\n",
       "  <tbody>\n",
       "    <tr>\n",
<<<<<<< Updated upstream
       "      <th>378</th>\n",
       "      <td>FTA Transfer</td>\n",
       "    </tr>\n",
       "    <tr>\n",
       "      <th>109</th>\n",
       "      <td>Bridge Replacement</td>\n",
       "    </tr>\n",
       "    <tr>\n",
       "      <th>990</th>\n",
       "      <td>Road Rehabilitation</td>\n",
       "    </tr>\n",
       "    <tr>\n",
       "      <th>695</th>\n",
       "      <td>Pavement Rehabilitation</td>\n",
       "    </tr>\n",
       "    <tr>\n",
       "      <th>1062</th>\n",
       "      <td>Seismic Retrofit</td>\n",
       "    </tr>\n",
       "  </tbody>\n",
       "</table>\n",
       "</div>"
      ],
      "text/plain": [
       "                 Type of Work\n",
       "378              FTA Transfer\n",
       "109        Bridge Replacement\n",
       "990       Road Rehabilitation\n",
       "695   Pavement Rehabilitation\n",
       "1062         Seismic Retrofit"
=======
       "      <th id=\"T_c5027_level0_row0\" class=\"row_heading level0 row0\" >378</th>\n",
       "      <td id=\"T_c5027_row0_col0\" class=\"data row0 col0\" >FTA Transfer</td>\n",
       "    </tr>\n",
       "    <tr>\n",
       "      <th id=\"T_c5027_level0_row1\" class=\"row_heading level0 row1\" >109</th>\n",
       "      <td id=\"T_c5027_row1_col0\" class=\"data row1 col0\" >Bridge Replacement</td>\n",
       "    </tr>\n",
       "    <tr>\n",
       "      <th id=\"T_c5027_level0_row2\" class=\"row_heading level0 row2\" >990</th>\n",
       "      <td id=\"T_c5027_row2_col0\" class=\"data row2 col0\" >Road Rehabilitation</td>\n",
       "    </tr>\n",
       "    <tr>\n",
       "      <th id=\"T_c5027_level0_row3\" class=\"row_heading level0 row3\" >695</th>\n",
       "      <td id=\"T_c5027_row3_col0\" class=\"data row3 col0\" >Pavement Rehabilitation</td>\n",
       "    </tr>\n",
       "    <tr>\n",
       "      <th id=\"T_c5027_level0_row4\" class=\"row_heading level0 row4\" >1062</th>\n",
       "      <td id=\"T_c5027_row4_col0\" class=\"data row4 col0\" >Seismic Retrofit</td>\n",
       "    </tr>\n",
       "  </tbody>\n",
       "</table>\n"
      ],
      "text/plain": [
       "<pandas.io.formats.style.Styler at 0x7f167c44c640>"
>>>>>>> Stashed changes
      ]
     },
     "metadata": {},
     "output_type": "display_data"
    },
    {
     "data": {
      "text/markdown": [
       "<h2> Number of Obligations </h2>"
      ],
      "text/plain": [
       "<IPython.core.display.Markdown object>"
      ]
     },
     "metadata": {},
     "output_type": "display_data"
    },
    {
     "data": {
      "text/html": [
       "<h4><strong>Obligations by Year</strong></h4>"
      ],
      "text/plain": [
       "<IPython.core.display.HTML object>"
      ]
     },
     "metadata": {},
     "output_type": "display_data"
    },
    {
     "data": {
      "text/html": [
       "\n",
<<<<<<< Updated upstream
       "<div id=\"altair-viz-ee3f4fe84de14863bed3819a259dce17\"></div>\n",
=======
       "<div id=\"altair-viz-84a57e5a4a4345168bbbd914d2c24d92\"></div>\n",
>>>>>>> Stashed changes
       "<script type=\"text/javascript\">\n",
       "  var VEGA_DEBUG = (typeof VEGA_DEBUG == \"undefined\") ? {} : VEGA_DEBUG;\n",
       "  (function(spec, embedOpt){\n",
       "    let outputDiv = document.currentScript.previousElementSibling;\n",
<<<<<<< Updated upstream
       "    if (outputDiv.id !== \"altair-viz-ee3f4fe84de14863bed3819a259dce17\") {\n",
       "      outputDiv = document.getElementById(\"altair-viz-ee3f4fe84de14863bed3819a259dce17\");\n",
=======
       "    if (outputDiv.id !== \"altair-viz-84a57e5a4a4345168bbbd914d2c24d92\") {\n",
       "      outputDiv = document.getElementById(\"altair-viz-84a57e5a4a4345168bbbd914d2c24d92\");\n",
>>>>>>> Stashed changes
       "    }\n",
       "    const paths = {\n",
       "      \"vega\": \"https://cdn.jsdelivr.net/npm//vega@5?noext\",\n",
       "      \"vega-lib\": \"https://cdn.jsdelivr.net/npm//vega-lib?noext\",\n",
       "      \"vega-lite\": \"https://cdn.jsdelivr.net/npm//vega-lite@4.17.0?noext\",\n",
       "      \"vega-embed\": \"https://cdn.jsdelivr.net/npm//vega-embed@6?noext\",\n",
       "    };\n",
       "\n",
       "    function maybeLoadScript(lib, version) {\n",
       "      var key = `${lib.replace(\"-\", \"\")}_version`;\n",
       "      return (VEGA_DEBUG[key] == version) ?\n",
       "        Promise.resolve(paths[lib]) :\n",
       "        new Promise(function(resolve, reject) {\n",
       "          var s = document.createElement('script');\n",
       "          document.getElementsByTagName(\"head\")[0].appendChild(s);\n",
       "          s.async = true;\n",
       "          s.onload = () => {\n",
       "            VEGA_DEBUG[key] = version;\n",
       "            return resolve(paths[lib]);\n",
       "          };\n",
       "          s.onerror = () => reject(`Error loading script: ${paths[lib]}`);\n",
       "          s.src = paths[lib];\n",
       "        });\n",
       "    }\n",
       "\n",
       "    function showError(err) {\n",
       "      outputDiv.innerHTML = `<div class=\"error\" style=\"color:red;\">${err}</div>`;\n",
       "      throw err;\n",
       "    }\n",
       "\n",
       "    function displayChart(vegaEmbed) {\n",
       "      vegaEmbed(outputDiv, spec, embedOpt)\n",
       "        .catch(err => showError(`Javascript Error: ${err.message}<br>This usually means there's a typo in your chart specification. See the javascript console for the full traceback.`));\n",
       "    }\n",
       "\n",
       "    if(typeof define === \"function\" && define.amd) {\n",
       "      requirejs.config({paths});\n",
       "      require([\"vega-embed\"], displayChart, err => showError(`Error loading script: ${err.message}`));\n",
       "    } else {\n",
       "      maybeLoadScript(\"vega\", \"5\")\n",
       "        .then(() => maybeLoadScript(\"vega-lite\", \"4.17.0\"))\n",
       "        .then(() => maybeLoadScript(\"vega-embed\", \"6\"))\n",
       "        .catch(showError)\n",
       "        .then(() => displayChart(vegaEmbed));\n",
       "    }\n",
       "  })({\"config\": {\"view\": {\"continuousWidth\": 400, \"continuousHeight\": 300}, \"axis\": {\"domainColor\": \"#cbcbcb\", \"grid\": true, \"gridColor\": \"#cbcbcb\", \"gridWidth\": 1, \"labelColor\": \"#474747\", \"labelFont\": \"Nunito Sans\", \"labelFontSize\": 10, \"labelPadding\": 4, \"tickColor\": \"#cbcbcb\", \"tickSize\": 10, \"titleColor\": \"#333\", \"titleFont\": \"Raleway\", \"titleFontSize\": 12, \"titlePadding\": 10}, \"axisBand\": {\"grid\": false}, \"background\": \"white\", \"font\": \"Raleway\", \"header\": {\"labelFont\": \"Nunito Sans\", \"titleFont\": \"Raleway\"}, \"legend\": {\"labelColor\": \"#333\", \"labelFont\": \"Nunito Sans\", \"labelFontSize\": 11, \"labelLimit\": 0, \"padding\": 1, \"symbolSize\": 30, \"symbolType\": \"square\", \"titleColor\": \"#333\", \"titleFont\": \"Raleway\", \"titleFontSize\": 14, \"titlePadding\": 10}, \"title\": {\"anchor\": \"middle\", \"font\": \"Raleway\", \"fontSize\": 18, \"fontWeight\": 300, \"offset\": 20}}, \"data\": {\"name\": \"data-e87bb1d73ce26169b957c6cd5e1f7083\"}, \"mark\": \"line\", \"encoding\": {\"tooltip\": [{\"field\": \"Year\", \"type\": \"quantitative\"}, {\"field\": \"count\", \"type\": \"quantitative\"}], \"x\": {\"field\": \"Year\", \"title\": \"Prepared Year\", \"type\": \"ordinal\"}, \"y\": {\"field\": \"count\", \"title\": \"Count\", \"type\": \"quantitative\"}}, \"height\": 250, \"width\": 400, \"$schema\": \"https://vega.github.io/schema/vega-lite/v4.17.0.json\", \"datasets\": {\"data-e87bb1d73ce26169b957c6cd5e1f7083\": [{\"Year\": 2014.0, \"count\": 487, \"variable\": \"prepared_y\"}, {\"Year\": 2018.0, \"count\": 454, \"variable\": \"prepared_y\"}, {\"Year\": 2015.0, \"count\": 449, \"variable\": \"prepared_y\"}, {\"Year\": 2016.0, \"count\": 414, \"variable\": \"prepared_y\"}, {\"Year\": 2021.0, \"count\": 409, \"variable\": \"prepared_y\"}, {\"Year\": 2019.0, \"count\": 400, \"variable\": \"prepared_y\"}, {\"Year\": 2017.0, \"count\": 367, \"variable\": \"prepared_y\"}, {\"Year\": 2020.0, \"count\": 286, \"variable\": \"prepared_y\"}, {\"Year\": 2022.0, \"count\": 122, \"variable\": \"prepared_y\"}, {\"Year\": 2013.0, \"count\": 38, \"variable\": \"prepared_y\"}, {\"Year\": 2012.0, \"count\": 4, \"variable\": \"prepared_y\"}, {\"Year\": 2011.0, \"count\": 1, \"variable\": \"prepared_y\"}]}}, {\"mode\": \"vega-lite\"});\n",
       "</script>"
      ],
      "text/plain": [
       "alt.Chart(...)"
      ]
     },
     "metadata": {},
     "output_type": "display_data"
    },
    {
     "data": {
      "text/html": [
       "<h4><strong>Number of Unique Agencies by District</strong></h4>"
      ],
      "text/plain": [
       "<IPython.core.display.HTML object>"
      ]
     },
     "metadata": {},
     "output_type": "display_data"
    },
    {
     "data": {
      "text/html": [
       "\n",
<<<<<<< Updated upstream
       "<div id=\"altair-viz-24d8a6ec25a141edb06306fd53e83ff8\"></div>\n",
=======
       "<div id=\"altair-viz-cf55fd0da8744673bc82275322abb287\"></div>\n",
>>>>>>> Stashed changes
       "<script type=\"text/javascript\">\n",
       "  var VEGA_DEBUG = (typeof VEGA_DEBUG == \"undefined\") ? {} : VEGA_DEBUG;\n",
       "  (function(spec, embedOpt){\n",
       "    let outputDiv = document.currentScript.previousElementSibling;\n",
<<<<<<< Updated upstream
       "    if (outputDiv.id !== \"altair-viz-24d8a6ec25a141edb06306fd53e83ff8\") {\n",
       "      outputDiv = document.getElementById(\"altair-viz-24d8a6ec25a141edb06306fd53e83ff8\");\n",
=======
       "    if (outputDiv.id !== \"altair-viz-cf55fd0da8744673bc82275322abb287\") {\n",
       "      outputDiv = document.getElementById(\"altair-viz-cf55fd0da8744673bc82275322abb287\");\n",
>>>>>>> Stashed changes
       "    }\n",
       "    const paths = {\n",
       "      \"vega\": \"https://cdn.jsdelivr.net/npm//vega@5?noext\",\n",
       "      \"vega-lib\": \"https://cdn.jsdelivr.net/npm//vega-lib?noext\",\n",
       "      \"vega-lite\": \"https://cdn.jsdelivr.net/npm//vega-lite@4.17.0?noext\",\n",
       "      \"vega-embed\": \"https://cdn.jsdelivr.net/npm//vega-embed@6?noext\",\n",
       "    };\n",
       "\n",
       "    function maybeLoadScript(lib, version) {\n",
       "      var key = `${lib.replace(\"-\", \"\")}_version`;\n",
       "      return (VEGA_DEBUG[key] == version) ?\n",
       "        Promise.resolve(paths[lib]) :\n",
       "        new Promise(function(resolve, reject) {\n",
       "          var s = document.createElement('script');\n",
       "          document.getElementsByTagName(\"head\")[0].appendChild(s);\n",
       "          s.async = true;\n",
       "          s.onload = () => {\n",
       "            VEGA_DEBUG[key] = version;\n",
       "            return resolve(paths[lib]);\n",
       "          };\n",
       "          s.onerror = () => reject(`Error loading script: ${paths[lib]}`);\n",
       "          s.src = paths[lib];\n",
       "        });\n",
       "    }\n",
       "\n",
       "    function showError(err) {\n",
       "      outputDiv.innerHTML = `<div class=\"error\" style=\"color:red;\">${err}</div>`;\n",
       "      throw err;\n",
       "    }\n",
       "\n",
       "    function displayChart(vegaEmbed) {\n",
       "      vegaEmbed(outputDiv, spec, embedOpt)\n",
       "        .catch(err => showError(`Javascript Error: ${err.message}<br>This usually means there's a typo in your chart specification. See the javascript console for the full traceback.`));\n",
       "    }\n",
       "\n",
       "    if(typeof define === \"function\" && define.amd) {\n",
       "      requirejs.config({paths});\n",
       "      require([\"vega-embed\"], displayChart, err => showError(`Error loading script: ${err.message}`));\n",
       "    } else {\n",
       "      maybeLoadScript(\"vega\", \"5\")\n",
       "        .then(() => maybeLoadScript(\"vega-lite\", \"4.17.0\"))\n",
       "        .then(() => maybeLoadScript(\"vega-embed\", \"6\"))\n",
       "        .catch(showError)\n",
       "        .then(() => displayChart(vegaEmbed));\n",
       "    }\n",
       "  })({\"config\": {\"view\": {\"continuousWidth\": 400, \"continuousHeight\": 300}, \"axis\": {\"domainColor\": \"#cbcbcb\", \"grid\": true, \"gridColor\": \"#cbcbcb\", \"gridWidth\": 1, \"labelColor\": \"#474747\", \"labelFont\": \"Nunito Sans\", \"labelFontSize\": 10, \"labelPadding\": 4, \"tickColor\": \"#cbcbcb\", \"tickSize\": 10, \"titleColor\": \"#333\", \"titleFont\": \"Raleway\", \"titleFontSize\": 12, \"titlePadding\": 10}, \"axisBand\": {\"grid\": false}, \"background\": \"white\", \"font\": \"Raleway\", \"header\": {\"labelFont\": \"Nunito Sans\", \"titleFont\": \"Raleway\"}, \"legend\": {\"labelColor\": \"#333\", \"labelFont\": \"Nunito Sans\", \"labelFontSize\": 11, \"labelLimit\": 0, \"padding\": 1, \"symbolSize\": 30, \"symbolType\": \"square\", \"titleColor\": \"#333\", \"titleFont\": \"Raleway\", \"titleFontSize\": 14, \"titlePadding\": 10}, \"title\": {\"anchor\": \"middle\", \"font\": \"Raleway\", \"fontSize\": 18, \"fontWeight\": 300, \"offset\": 20}}, \"data\": {\"name\": \"data-278d91c974d248e5fe23049a4f501dee\"}, \"mark\": \"bar\", \"encoding\": {\"color\": {\"field\": \"District\", \"legend\": {\"title\": \"Prepared Year\"}, \"scale\": {\"range\": [\"#B9D6DF\", \"#8CBCCB\", \"#2EA8CE\", \"#136C97\", \"#0B405B\"]}, \"type\": \"nominal\"}, \"column\": {\"field\": \"District\", \"type\": \"nominal\"}, \"tooltip\": [{\"field\": \"prepared_y\", \"type\": \"quantitative\"}, {\"field\": \"Count\", \"type\": \"quantitative\"}], \"x\": {\"field\": \"prepared_y\", \"title\": \"Prepared Year\", \"type\": \"ordinal\"}, \"y\": {\"field\": \"Count\", \"title\": \"Number of Unique Agencies\", \"type\": \"quantitative\"}}, \"height\": 250, \"width\": 400, \"$schema\": \"https://vega.github.io/schema/vega-lite/v4.17.0.json\", \"datasets\": {\"data-278d91c974d248e5fe23049a4f501dee\": [{\"prepared_y\": 2022.0, \"District\": 4, \"Count\": 58}, {\"prepared_y\": 2021.0, \"District\": 4, \"Count\": 102}, {\"prepared_y\": 2020.0, \"District\": 4, \"Count\": 89}, {\"prepared_y\": 2019.0, \"District\": 4, \"Count\": 93}, {\"prepared_y\": 2018.0, \"District\": 4, \"Count\": 97}, {\"prepared_y\": 2017.0, \"District\": 4, \"Count\": 97}, {\"prepared_y\": 2016.0, \"District\": 4, \"Count\": 113}, {\"prepared_y\": 2015.0, \"District\": 4, \"Count\": 109}, {\"prepared_y\": 2014.0, \"District\": 4, \"Count\": 108}, {\"prepared_y\": 2013.0, \"District\": 4, \"Count\": 28}, {\"prepared_y\": 2012.0, \"District\": 4, \"Count\": 3}, {\"prepared_y\": 2011.0, \"District\": 4, \"Count\": 1}]}}, {\"mode\": \"vega-lite\"});\n",
       "</script>"
      ],
      "text/plain": [
       "alt.Chart(...)"
      ]
     },
     "metadata": {},
     "output_type": "display_data"
    },
    {
     "data": {
      "text/html": [
       "<h4><strong>Agencies With The Most Obligations</strong></h4>"
      ],
      "text/plain": [
       "<IPython.core.display.HTML object>"
      ]
     },
     "metadata": {},
     "output_type": "display_data"
    },
    {
     "data": {
      "text/html": [
       "\n",
<<<<<<< Updated upstream
       "<div id=\"altair-viz-56273be75513444eb00f6110a1f44feb\"></div>\n",
=======
       "<div id=\"altair-viz-55f9bdbbb50f42e19365d94160698352\"></div>\n",
>>>>>>> Stashed changes
       "<script type=\"text/javascript\">\n",
       "  var VEGA_DEBUG = (typeof VEGA_DEBUG == \"undefined\") ? {} : VEGA_DEBUG;\n",
       "  (function(spec, embedOpt){\n",
       "    let outputDiv = document.currentScript.previousElementSibling;\n",
<<<<<<< Updated upstream
       "    if (outputDiv.id !== \"altair-viz-56273be75513444eb00f6110a1f44feb\") {\n",
       "      outputDiv = document.getElementById(\"altair-viz-56273be75513444eb00f6110a1f44feb\");\n",
=======
       "    if (outputDiv.id !== \"altair-viz-55f9bdbbb50f42e19365d94160698352\") {\n",
       "      outputDiv = document.getElementById(\"altair-viz-55f9bdbbb50f42e19365d94160698352\");\n",
>>>>>>> Stashed changes
       "    }\n",
       "    const paths = {\n",
       "      \"vega\": \"https://cdn.jsdelivr.net/npm//vega@5?noext\",\n",
       "      \"vega-lib\": \"https://cdn.jsdelivr.net/npm//vega-lib?noext\",\n",
       "      \"vega-lite\": \"https://cdn.jsdelivr.net/npm//vega-lite@4.17.0?noext\",\n",
       "      \"vega-embed\": \"https://cdn.jsdelivr.net/npm//vega-embed@6?noext\",\n",
       "    };\n",
       "\n",
       "    function maybeLoadScript(lib, version) {\n",
       "      var key = `${lib.replace(\"-\", \"\")}_version`;\n",
       "      return (VEGA_DEBUG[key] == version) ?\n",
       "        Promise.resolve(paths[lib]) :\n",
       "        new Promise(function(resolve, reject) {\n",
       "          var s = document.createElement('script');\n",
       "          document.getElementsByTagName(\"head\")[0].appendChild(s);\n",
       "          s.async = true;\n",
       "          s.onload = () => {\n",
       "            VEGA_DEBUG[key] = version;\n",
       "            return resolve(paths[lib]);\n",
       "          };\n",
       "          s.onerror = () => reject(`Error loading script: ${paths[lib]}`);\n",
       "          s.src = paths[lib];\n",
       "        });\n",
       "    }\n",
       "\n",
       "    function showError(err) {\n",
       "      outputDiv.innerHTML = `<div class=\"error\" style=\"color:red;\">${err}</div>`;\n",
       "      throw err;\n",
       "    }\n",
       "\n",
       "    function displayChart(vegaEmbed) {\n",
       "      vegaEmbed(outputDiv, spec, embedOpt)\n",
       "        .catch(err => showError(`Javascript Error: ${err.message}<br>This usually means there's a typo in your chart specification. See the javascript console for the full traceback.`));\n",
       "    }\n",
       "\n",
       "    if(typeof define === \"function\" && define.amd) {\n",
       "      requirejs.config({paths});\n",
       "      require([\"vega-embed\"], displayChart, err => showError(`Error loading script: ${err.message}`));\n",
       "    } else {\n",
       "      maybeLoadScript(\"vega\", \"5\")\n",
       "        .then(() => maybeLoadScript(\"vega-lite\", \"4.17.0\"))\n",
       "        .then(() => maybeLoadScript(\"vega-embed\", \"6\"))\n",
       "        .catch(showError)\n",
       "        .then(() => displayChart(vegaEmbed));\n",
       "    }\n",
       "  })({\"config\": {\"view\": {\"continuousWidth\": 400, \"continuousHeight\": 300}, \"axis\": {\"domainColor\": \"#cbcbcb\", \"grid\": true, \"gridColor\": \"#cbcbcb\", \"gridWidth\": 1, \"labelColor\": \"#474747\", \"labelFont\": \"Nunito Sans\", \"labelFontSize\": 10, \"labelPadding\": 4, \"tickColor\": \"#cbcbcb\", \"tickSize\": 10, \"titleColor\": \"#333\", \"titleFont\": \"Raleway\", \"titleFontSize\": 12, \"titlePadding\": 10}, \"axisBand\": {\"grid\": false}, \"background\": \"white\", \"font\": \"Raleway\", \"header\": {\"labelFont\": \"Nunito Sans\", \"titleFont\": \"Raleway\"}, \"legend\": {\"labelColor\": \"#333\", \"labelFont\": \"Nunito Sans\", \"labelFontSize\": 11, \"labelLimit\": 0, \"padding\": 1, \"symbolSize\": 30, \"symbolType\": \"square\", \"titleColor\": \"#333\", \"titleFont\": \"Raleway\", \"titleFontSize\": 14, \"titlePadding\": 10}, \"title\": {\"anchor\": \"middle\", \"font\": \"Raleway\", \"fontSize\": 18, \"fontWeight\": 300, \"offset\": 20}}, \"data\": {\"name\": \"data-ae6246f9f437e4491e3bcb3223e68c20\"}, \"mark\": \"bar\", \"encoding\": {\"color\": {\"field\": \"Agency\", \"legend\": {\"symbolLimit\": 10, \"title\": \"Agency\"}, \"scale\": {\"range\": [\"#2EA8CE\", \"#EB9F3C\", \"#F4D837\", \"#51BF9D\", \"#8CBCCB\", \"#9487C0\"]}, \"type\": \"nominal\"}, \"tooltip\": [{\"field\": \"Agency\", \"type\": \"nominal\"}, {\"field\": \"Number of Obligations\", \"type\": \"quantitative\"}], \"x\": {\"field\": \"Agency\", \"sort\": \"-y\", \"title\": \"Agency\", \"type\": \"nominal\"}, \"y\": {\"field\": \"Number of Obligations\", \"title\": \"Number Of Obligations\", \"type\": \"quantitative\"}}, \"height\": 250, \"width\": 400, \"$schema\": \"https://vega.github.io/schema/vega-lite/v4.17.0.json\", \"datasets\": {\"data-ae6246f9f437e4491e3bcb3223e68c20\": [{\"Agency\": \"Contra Costa County\", \"Number of Obligations\": 155, \"variable\": \"primary_agency_name\"}, {\"Agency\": \"Oakland\", \"Number of Obligations\": 145, \"variable\": \"primary_agency_name\"}, {\"Agency\": \"Metropolitan Transportation Commission\", \"Number of Obligations\": 144, \"variable\": \"primary_agency_name\"}, {\"Agency\": \"San Jose\", \"Number of Obligations\": 137, \"variable\": \"primary_agency_name\"}, {\"Agency\": \"Santa Clara County\", \"Number of Obligations\": 133, \"variable\": \"primary_agency_name\"}, {\"Agency\": \"Napa County\", \"Number of Obligations\": 115, \"variable\": \"primary_agency_name\"}, {\"Agency\": \"Sonoma County\", \"Number of Obligations\": 99, \"variable\": \"primary_agency_name\"}, {\"Agency\": \"City & County of San Francisco, MTA/Parking & Traffic\", \"Number of Obligations\": 96, \"variable\": \"primary_agency_name\"}, {\"Agency\": \"Marin County\", \"Number of Obligations\": 90, \"variable\": \"primary_agency_name\"}, {\"Agency\": \"Sunnyvale\", \"Number of Obligations\": 88, \"variable\": \"primary_agency_name\"}, {\"Agency\": \"Alameda County\", \"Number of Obligations\": 85, \"variable\": \"primary_agency_name\"}, {\"Agency\": \"San Francisco County\", \"Number of Obligations\": 79, \"variable\": \"primary_agency_name\"}, {\"Agency\": \"Solano County\", \"Number of Obligations\": 72, \"variable\": \"primary_agency_name\"}, {\"Agency\": \"Santa Clara Valley Transportation Authority\", \"Number of Obligations\": 56, \"variable\": \"primary_agency_name\"}, {\"Agency\": \"Vacaville\", \"Number of Obligations\": 48, \"variable\": \"primary_agency_name\"}, {\"Agency\": \"Fremont\", \"Number of Obligations\": 46, \"variable\": \"primary_agency_name\"}, {\"Agency\": \"Golden Gate Bridge, Highway And Transportation Distri\", \"Number of Obligations\": 44, \"variable\": \"primary_agency_name\"}, {\"Agency\": \"San Francisco Bay Area Rapid Transit District\", \"Number of Obligations\": 41, \"variable\": \"primary_agency_name\"}, {\"Agency\": \"Concord\", \"Number of Obligations\": 39, \"variable\": \"primary_agency_name\"}, {\"Agency\": \"Vallejo\", \"Number of Obligations\": 37, \"variable\": \"primary_agency_name\"}]}}, {\"mode\": \"vega-lite\"});\n",
       "</script>"
      ],
      "text/plain": [
       "alt.Chart(...)"
      ]
     },
     "metadata": {},
     "output_type": "display_data"
    },
    {
     "data": {
      "text/html": [
       "<h2>Prefix Codes</h2>"
      ],
      "text/plain": [
       "<IPython.core.display.HTML object>"
      ]
     },
     "metadata": {},
     "output_type": "display_data"
    },
    {
     "data": {
      "text/html": [
       "<h4><strong>Number of Unique Prefix Codes by District</strong></h4>"
      ],
      "text/plain": [
       "<IPython.core.display.HTML object>"
      ]
     },
     "metadata": {},
     "output_type": "display_data"
    },
    {
     "data": {
      "text/html": [
       "\n",
<<<<<<< Updated upstream
       "<div id=\"altair-viz-38335fba72f44d12a8d26da3ebb6f7fa\"></div>\n",
=======
       "<div id=\"altair-viz-25f44c90549e4dd8a4382674d178f973\"></div>\n",
>>>>>>> Stashed changes
       "<script type=\"text/javascript\">\n",
       "  var VEGA_DEBUG = (typeof VEGA_DEBUG == \"undefined\") ? {} : VEGA_DEBUG;\n",
       "  (function(spec, embedOpt){\n",
       "    let outputDiv = document.currentScript.previousElementSibling;\n",
<<<<<<< Updated upstream
       "    if (outputDiv.id !== \"altair-viz-38335fba72f44d12a8d26da3ebb6f7fa\") {\n",
       "      outputDiv = document.getElementById(\"altair-viz-38335fba72f44d12a8d26da3ebb6f7fa\");\n",
=======
       "    if (outputDiv.id !== \"altair-viz-25f44c90549e4dd8a4382674d178f973\") {\n",
       "      outputDiv = document.getElementById(\"altair-viz-25f44c90549e4dd8a4382674d178f973\");\n",
>>>>>>> Stashed changes
       "    }\n",
       "    const paths = {\n",
       "      \"vega\": \"https://cdn.jsdelivr.net/npm//vega@5?noext\",\n",
       "      \"vega-lib\": \"https://cdn.jsdelivr.net/npm//vega-lib?noext\",\n",
       "      \"vega-lite\": \"https://cdn.jsdelivr.net/npm//vega-lite@4.17.0?noext\",\n",
       "      \"vega-embed\": \"https://cdn.jsdelivr.net/npm//vega-embed@6?noext\",\n",
       "    };\n",
       "\n",
       "    function maybeLoadScript(lib, version) {\n",
       "      var key = `${lib.replace(\"-\", \"\")}_version`;\n",
       "      return (VEGA_DEBUG[key] == version) ?\n",
       "        Promise.resolve(paths[lib]) :\n",
       "        new Promise(function(resolve, reject) {\n",
       "          var s = document.createElement('script');\n",
       "          document.getElementsByTagName(\"head\")[0].appendChild(s);\n",
       "          s.async = true;\n",
       "          s.onload = () => {\n",
       "            VEGA_DEBUG[key] = version;\n",
       "            return resolve(paths[lib]);\n",
       "          };\n",
       "          s.onerror = () => reject(`Error loading script: ${paths[lib]}`);\n",
       "          s.src = paths[lib];\n",
       "        });\n",
       "    }\n",
       "\n",
       "    function showError(err) {\n",
       "      outputDiv.innerHTML = `<div class=\"error\" style=\"color:red;\">${err}</div>`;\n",
       "      throw err;\n",
       "    }\n",
       "\n",
       "    function displayChart(vegaEmbed) {\n",
       "      vegaEmbed(outputDiv, spec, embedOpt)\n",
       "        .catch(err => showError(`Javascript Error: ${err.message}<br>This usually means there's a typo in your chart specification. See the javascript console for the full traceback.`));\n",
       "    }\n",
       "\n",
       "    if(typeof define === \"function\" && define.amd) {\n",
       "      requirejs.config({paths});\n",
       "      require([\"vega-embed\"], displayChart, err => showError(`Error loading script: ${err.message}`));\n",
       "    } else {\n",
       "      maybeLoadScript(\"vega\", \"5\")\n",
       "        .then(() => maybeLoadScript(\"vega-lite\", \"4.17.0\"))\n",
       "        .then(() => maybeLoadScript(\"vega-embed\", \"6\"))\n",
       "        .catch(showError)\n",
       "        .then(() => displayChart(vegaEmbed));\n",
       "    }\n",
       "  })({\"config\": {\"view\": {\"continuousWidth\": 400, \"continuousHeight\": 300}, \"axis\": {\"domainColor\": \"#cbcbcb\", \"grid\": true, \"gridColor\": \"#cbcbcb\", \"gridWidth\": 1, \"labelColor\": \"#474747\", \"labelFont\": \"Nunito Sans\", \"labelFontSize\": 10, \"labelPadding\": 4, \"tickColor\": \"#cbcbcb\", \"tickSize\": 10, \"titleColor\": \"#333\", \"titleFont\": \"Raleway\", \"titleFontSize\": 12, \"titlePadding\": 10}, \"axisBand\": {\"grid\": false}, \"background\": \"white\", \"font\": \"Raleway\", \"header\": {\"labelFont\": \"Nunito Sans\", \"titleFont\": \"Raleway\"}, \"legend\": {\"labelColor\": \"#333\", \"labelFont\": \"Nunito Sans\", \"labelFontSize\": 11, \"labelLimit\": 0, \"padding\": 1, \"symbolSize\": 30, \"symbolType\": \"square\", \"titleColor\": \"#333\", \"titleFont\": \"Raleway\", \"titleFontSize\": 14, \"titlePadding\": 10}, \"title\": {\"anchor\": \"middle\", \"font\": \"Raleway\", \"fontSize\": 18, \"fontWeight\": 300, \"offset\": 20}}, \"data\": {\"name\": \"data-989356d9094a6c6cdacdf80dea19492c\"}, \"mark\": \"bar\", \"encoding\": {\"color\": {\"field\": \"District\", \"legend\": {\"title\": \"District\"}, \"scale\": {\"range\": [\"#B9D6DF\", \"#8CBCCB\", \"#2EA8CE\", \"#136C97\", \"#0B405B\"]}, \"type\": \"nominal\"}, \"column\": {\"field\": \"District\", \"type\": \"nominal\"}, \"tooltip\": [{\"field\": \"prepared_y\", \"type\": \"quantitative\"}, {\"field\": \"Count\", \"type\": \"quantitative\"}], \"x\": {\"field\": \"prepared_y\", \"title\": \"Prepared Year\", \"type\": \"ordinal\"}, \"y\": {\"field\": \"Count\", \"title\": \"Number of Unique Agencies\", \"type\": \"quantitative\"}}, \"height\": 250, \"width\": 400, \"$schema\": \"https://vega.github.io/schema/vega-lite/v4.17.0.json\", \"datasets\": {\"data-989356d9094a6c6cdacdf80dea19492c\": [{\"prepared_y\": 2022.0, \"District\": 4, \"Count\": 21}, {\"prepared_y\": 2021.0, \"District\": 4, \"Count\": 42}, {\"prepared_y\": 2020.0, \"District\": 4, \"Count\": 34}, {\"prepared_y\": 2019.0, \"District\": 4, \"Count\": 41}, {\"prepared_y\": 2018.0, \"District\": 4, \"Count\": 51}, {\"prepared_y\": 2017.0, \"District\": 4, \"Count\": 43}, {\"prepared_y\": 2016.0, \"District\": 4, \"Count\": 50}, {\"prepared_y\": 2015.0, \"District\": 4, \"Count\": 48}, {\"prepared_y\": 2014.0, \"District\": 4, \"Count\": 52}, {\"prepared_y\": 2013.0, \"District\": 4, \"Count\": 15}, {\"prepared_y\": 2012.0, \"District\": 4, \"Count\": 2}, {\"prepared_y\": 2011.0, \"District\": 4, \"Count\": 1}]}}, {\"mode\": \"vega-lite\"});\n",
       "</script>"
      ],
      "text/plain": [
       "alt.Chart(...)"
      ]
     },
     "metadata": {},
     "output_type": "display_data"
    },
    {
     "data": {
      "text/html": [
       "<h4><strong>Most Used Prefix Codes</strong></h4>"
      ],
      "text/plain": [
       "<IPython.core.display.HTML object>"
      ]
     },
     "metadata": {},
     "output_type": "display_data"
    },
    {
     "data": {
      "text/html": [
       "\n",
<<<<<<< Updated upstream
       "<div id=\"altair-viz-db50da675f12479ab197af2da84f0940\"></div>\n",
=======
       "<div id=\"altair-viz-bbec8a0d56ad4223a9ba63cc6866d8b9\"></div>\n",
>>>>>>> Stashed changes
       "<script type=\"text/javascript\">\n",
       "  var VEGA_DEBUG = (typeof VEGA_DEBUG == \"undefined\") ? {} : VEGA_DEBUG;\n",
       "  (function(spec, embedOpt){\n",
       "    let outputDiv = document.currentScript.previousElementSibling;\n",
<<<<<<< Updated upstream
       "    if (outputDiv.id !== \"altair-viz-db50da675f12479ab197af2da84f0940\") {\n",
       "      outputDiv = document.getElementById(\"altair-viz-db50da675f12479ab197af2da84f0940\");\n",
=======
       "    if (outputDiv.id !== \"altair-viz-bbec8a0d56ad4223a9ba63cc6866d8b9\") {\n",
       "      outputDiv = document.getElementById(\"altair-viz-bbec8a0d56ad4223a9ba63cc6866d8b9\");\n",
>>>>>>> Stashed changes
       "    }\n",
       "    const paths = {\n",
       "      \"vega\": \"https://cdn.jsdelivr.net/npm//vega@5?noext\",\n",
       "      \"vega-lib\": \"https://cdn.jsdelivr.net/npm//vega-lib?noext\",\n",
       "      \"vega-lite\": \"https://cdn.jsdelivr.net/npm//vega-lite@4.17.0?noext\",\n",
       "      \"vega-embed\": \"https://cdn.jsdelivr.net/npm//vega-embed@6?noext\",\n",
       "    };\n",
       "\n",
       "    function maybeLoadScript(lib, version) {\n",
       "      var key = `${lib.replace(\"-\", \"\")}_version`;\n",
       "      return (VEGA_DEBUG[key] == version) ?\n",
       "        Promise.resolve(paths[lib]) :\n",
       "        new Promise(function(resolve, reject) {\n",
       "          var s = document.createElement('script');\n",
       "          document.getElementsByTagName(\"head\")[0].appendChild(s);\n",
       "          s.async = true;\n",
       "          s.onload = () => {\n",
       "            VEGA_DEBUG[key] = version;\n",
       "            return resolve(paths[lib]);\n",
       "          };\n",
       "          s.onerror = () => reject(`Error loading script: ${paths[lib]}`);\n",
       "          s.src = paths[lib];\n",
       "        });\n",
       "    }\n",
       "\n",
       "    function showError(err) {\n",
       "      outputDiv.innerHTML = `<div class=\"error\" style=\"color:red;\">${err}</div>`;\n",
       "      throw err;\n",
       "    }\n",
       "\n",
       "    function displayChart(vegaEmbed) {\n",
       "      vegaEmbed(outputDiv, spec, embedOpt)\n",
       "        .catch(err => showError(`Javascript Error: ${err.message}<br>This usually means there's a typo in your chart specification. See the javascript console for the full traceback.`));\n",
       "    }\n",
       "\n",
       "    if(typeof define === \"function\" && define.amd) {\n",
       "      requirejs.config({paths});\n",
       "      require([\"vega-embed\"], displayChart, err => showError(`Error loading script: ${err.message}`));\n",
       "    } else {\n",
       "      maybeLoadScript(\"vega\", \"5\")\n",
       "        .then(() => maybeLoadScript(\"vega-lite\", \"4.17.0\"))\n",
       "        .then(() => maybeLoadScript(\"vega-embed\", \"6\"))\n",
       "        .catch(showError)\n",
       "        .then(() => displayChart(vegaEmbed));\n",
       "    }\n",
       "  })({\"config\": {\"view\": {\"continuousWidth\": 400, \"continuousHeight\": 300}, \"axis\": {\"domainColor\": \"#cbcbcb\", \"grid\": true, \"gridColor\": \"#cbcbcb\", \"gridWidth\": 1, \"labelColor\": \"#474747\", \"labelFont\": \"Nunito Sans\", \"labelFontSize\": 10, \"labelPadding\": 4, \"tickColor\": \"#cbcbcb\", \"tickSize\": 10, \"titleColor\": \"#333\", \"titleFont\": \"Raleway\", \"titleFontSize\": 12, \"titlePadding\": 10}, \"axisBand\": {\"grid\": false}, \"background\": \"white\", \"font\": \"Raleway\", \"header\": {\"labelFont\": \"Nunito Sans\", \"titleFont\": \"Raleway\"}, \"legend\": {\"labelColor\": \"#333\", \"labelFont\": \"Nunito Sans\", \"labelFontSize\": 11, \"labelLimit\": 0, \"padding\": 1, \"symbolSize\": 30, \"symbolType\": \"square\", \"titleColor\": \"#333\", \"titleFont\": \"Raleway\", \"titleFontSize\": 14, \"titlePadding\": 10}, \"title\": {\"anchor\": \"middle\", \"font\": \"Raleway\", \"fontSize\": 18, \"fontWeight\": 300, \"offset\": 20}}, \"data\": {\"name\": \"data-a5abee76ffa0287b905e6f42d28779a8\"}, \"mark\": \"bar\", \"encoding\": {\"color\": {\"field\": \"Prefix\", \"legend\": {\"symbolLimit\": 10, \"title\": \"Prefix\"}, \"scale\": {\"range\": [\"#2EA8CE\", \"#EB9F3C\", \"#F4D837\", \"#51BF9D\", \"#8CBCCB\", \"#9487C0\"]}, \"type\": \"nominal\"}, \"tooltip\": [{\"field\": \"Prefix\", \"type\": \"nominal\"}, {\"field\": \"Number of Obligations\", \"type\": \"quantitative\"}], \"x\": {\"field\": \"Prefix\", \"sort\": \"-y\", \"title\": \"Prefix\", \"type\": \"nominal\"}, \"y\": {\"field\": \"Number of Obligations\", \"title\": \"Number Of Obligations\", \"type\": \"quantitative\"}}, \"height\": 250, \"width\": 400, \"$schema\": \"https://vega.github.io/schema/vega-lite/v4.17.0.json\", \"datasets\": {\"data-a5abee76ffa0287b905e6f42d28779a8\": [{\"Prefix\": \"STPL\", \"Number of Obligations\": 677, \"variable\": \"prefix\"}, {\"Prefix\": \"CML\", \"Number of Obligations\": 552, \"variable\": \"prefix\"}, {\"Prefix\": \"HSIPL\", \"Number of Obligations\": 462, \"variable\": \"prefix\"}, {\"Prefix\": \"BRLS\", \"Number of Obligations\": 170, \"variable\": \"prefix\"}, {\"Prefix\": \"ER\", \"Number of Obligations\": 146, \"variable\": \"prefix\"}, {\"Prefix\": \"BRLO\", \"Number of Obligations\": 129, \"variable\": \"prefix\"}, {\"Prefix\": \"STPLZ\", \"Number of Obligations\": 124, \"variable\": \"prefix\"}, {\"Prefix\": \"RPSTPL\", \"Number of Obligations\": 95, \"variable\": \"prefix\"}, {\"Prefix\": \"BPMP\", \"Number of Obligations\": 94, \"variable\": \"prefix\"}, {\"Prefix\": \"ATPL\", \"Number of Obligations\": 90, \"variable\": \"prefix\"}, {\"Prefix\": \"HPLUL\", \"Number of Obligations\": 83, \"variable\": \"prefix\"}, {\"Prefix\": \"BHLS\", \"Number of Obligations\": 66, \"variable\": \"prefix\"}, {\"Prefix\": \"SRTSL\", \"Number of Obligations\": 63, \"variable\": \"prefix\"}, {\"Prefix\": \"CMLNI\", \"Number of Obligations\": 52, \"variable\": \"prefix\"}, {\"Prefix\": \"FTASTPL\", \"Number of Obligations\": 49, \"variable\": \"prefix\"}, {\"Prefix\": \"STPLNI\", \"Number of Obligations\": 42, \"variable\": \"prefix\"}, {\"Prefix\": \"HRRRL\", \"Number of Obligations\": 38, \"variable\": \"prefix\"}, {\"Prefix\": \"ACSTP\", \"Number of Obligations\": 36, \"variable\": \"prefix\"}, {\"Prefix\": \"FTACML\", \"Number of Obligations\": 33, \"variable\": \"prefix\"}, {\"Prefix\": \"BHLO\", \"Number of Obligations\": 31, \"variable\": \"prefix\"}]}}, {\"mode\": \"vega-lite\"});\n",
       "</script>"
      ],
      "text/plain": [
       "alt.Chart(...)"
      ]
     },
     "metadata": {},
     "output_type": "display_data"
    },
    {
     "data": {
      "text/html": [
       "<h4><strong>Agencies With The Most Unique Prefix Codes</strong></h4>"
      ],
      "text/plain": [
       "<IPython.core.display.HTML object>"
      ]
     },
     "metadata": {},
     "output_type": "display_data"
    },
    {
     "data": {
      "text/html": [
       "\n",
<<<<<<< Updated upstream
       "<div id=\"altair-viz-54156b325f7b4bd29b6f33d027ff073b\"></div>\n",
=======
       "<div id=\"altair-viz-adabd34042e44a1baf9acef9c12b8d1e\"></div>\n",
>>>>>>> Stashed changes
       "<script type=\"text/javascript\">\n",
       "  var VEGA_DEBUG = (typeof VEGA_DEBUG == \"undefined\") ? {} : VEGA_DEBUG;\n",
       "  (function(spec, embedOpt){\n",
       "    let outputDiv = document.currentScript.previousElementSibling;\n",
<<<<<<< Updated upstream
       "    if (outputDiv.id !== \"altair-viz-54156b325f7b4bd29b6f33d027ff073b\") {\n",
       "      outputDiv = document.getElementById(\"altair-viz-54156b325f7b4bd29b6f33d027ff073b\");\n",
=======
       "    if (outputDiv.id !== \"altair-viz-adabd34042e44a1baf9acef9c12b8d1e\") {\n",
       "      outputDiv = document.getElementById(\"altair-viz-adabd34042e44a1baf9acef9c12b8d1e\");\n",
>>>>>>> Stashed changes
       "    }\n",
       "    const paths = {\n",
       "      \"vega\": \"https://cdn.jsdelivr.net/npm//vega@5?noext\",\n",
       "      \"vega-lib\": \"https://cdn.jsdelivr.net/npm//vega-lib?noext\",\n",
       "      \"vega-lite\": \"https://cdn.jsdelivr.net/npm//vega-lite@4.17.0?noext\",\n",
       "      \"vega-embed\": \"https://cdn.jsdelivr.net/npm//vega-embed@6?noext\",\n",
       "    };\n",
       "\n",
       "    function maybeLoadScript(lib, version) {\n",
       "      var key = `${lib.replace(\"-\", \"\")}_version`;\n",
       "      return (VEGA_DEBUG[key] == version) ?\n",
       "        Promise.resolve(paths[lib]) :\n",
       "        new Promise(function(resolve, reject) {\n",
       "          var s = document.createElement('script');\n",
       "          document.getElementsByTagName(\"head\")[0].appendChild(s);\n",
       "          s.async = true;\n",
       "          s.onload = () => {\n",
       "            VEGA_DEBUG[key] = version;\n",
       "            return resolve(paths[lib]);\n",
       "          };\n",
       "          s.onerror = () => reject(`Error loading script: ${paths[lib]}`);\n",
       "          s.src = paths[lib];\n",
       "        });\n",
       "    }\n",
       "\n",
       "    function showError(err) {\n",
       "      outputDiv.innerHTML = `<div class=\"error\" style=\"color:red;\">${err}</div>`;\n",
       "      throw err;\n",
       "    }\n",
       "\n",
       "    function displayChart(vegaEmbed) {\n",
       "      vegaEmbed(outputDiv, spec, embedOpt)\n",
       "        .catch(err => showError(`Javascript Error: ${err.message}<br>This usually means there's a typo in your chart specification. See the javascript console for the full traceback.`));\n",
       "    }\n",
       "\n",
       "    if(typeof define === \"function\" && define.amd) {\n",
       "      requirejs.config({paths});\n",
       "      require([\"vega-embed\"], displayChart, err => showError(`Error loading script: ${err.message}`));\n",
       "    } else {\n",
       "      maybeLoadScript(\"vega\", \"5\")\n",
       "        .then(() => maybeLoadScript(\"vega-lite\", \"4.17.0\"))\n",
       "        .then(() => maybeLoadScript(\"vega-embed\", \"6\"))\n",
       "        .catch(showError)\n",
       "        .then(() => displayChart(vegaEmbed));\n",
       "    }\n",
       "  })({\"config\": {\"view\": {\"continuousWidth\": 400, \"continuousHeight\": 300}, \"axis\": {\"domainColor\": \"#cbcbcb\", \"grid\": true, \"gridColor\": \"#cbcbcb\", \"gridWidth\": 1, \"labelColor\": \"#474747\", \"labelFont\": \"Nunito Sans\", \"labelFontSize\": 10, \"labelPadding\": 4, \"tickColor\": \"#cbcbcb\", \"tickSize\": 10, \"titleColor\": \"#333\", \"titleFont\": \"Raleway\", \"titleFontSize\": 12, \"titlePadding\": 10}, \"axisBand\": {\"grid\": false}, \"background\": \"white\", \"font\": \"Raleway\", \"header\": {\"labelFont\": \"Nunito Sans\", \"titleFont\": \"Raleway\"}, \"legend\": {\"labelColor\": \"#333\", \"labelFont\": \"Nunito Sans\", \"labelFontSize\": 11, \"labelLimit\": 0, \"padding\": 1, \"symbolSize\": 30, \"symbolType\": \"square\", \"titleColor\": \"#333\", \"titleFont\": \"Raleway\", \"titleFontSize\": 14, \"titlePadding\": 10}, \"title\": {\"anchor\": \"middle\", \"font\": \"Raleway\", \"fontSize\": 18, \"fontWeight\": 300, \"offset\": 20}}, \"data\": {\"name\": \"data-349d380901e5c625b780dae31a2f39c5\"}, \"mark\": \"bar\", \"encoding\": {\"color\": {\"field\": \"primary_agency_name\", \"legend\": {\"symbolLimit\": 10, \"title\": \"Agency\"}, \"scale\": {\"range\": [\"#2EA8CE\", \"#EB9F3C\", \"#F4D837\", \"#51BF9D\", \"#8CBCCB\", \"#9487C0\"]}, \"type\": \"nominal\"}, \"tooltip\": [{\"field\": \"primary_agency_name\", \"type\": \"nominal\"}, {\"field\": \"n\", \"type\": \"quantitative\"}], \"x\": {\"field\": \"primary_agency_name\", \"sort\": \"-y\", \"title\": \"Agency\", \"type\": \"nominal\"}, \"y\": {\"field\": \"n\", \"title\": \"Count\", \"type\": \"quantitative\"}}, \"height\": 250, \"width\": 400, \"$schema\": \"https://vega.github.io/schema/vega-lite/v4.17.0.json\", \"datasets\": {\"data-349d380901e5c625b780dae31a2f39c5\": [{\"primary_agency_name\": \"Contra Costa County\", \"n\": 18}, {\"primary_agency_name\": \"San Francisco County\", \"n\": 17}, {\"primary_agency_name\": \"San Jose\", \"n\": 17}, {\"primary_agency_name\": \"Santa Clara County\", \"n\": 17}, {\"primary_agency_name\": \"Alameda County\", \"n\": 16}, {\"primary_agency_name\": \"Sonoma County\", \"n\": 16}, {\"primary_agency_name\": \"Metropolitan Transportation Commission\", \"n\": 15}, {\"primary_agency_name\": \"Oakland\", \"n\": 15}, {\"primary_agency_name\": \"City & County of San Francisco, MTA/Parking & Traffic\", \"n\": 14}, {\"primary_agency_name\": \"Marin County\", \"n\": 13}, {\"primary_agency_name\": \"Santa Clara Valley Transportation Authority\", \"n\": 13}, {\"primary_agency_name\": \"Vallejo\", \"n\": 11}, {\"primary_agency_name\": \"Alameda County Transportation Commission\", \"n\": 10}, {\"primary_agency_name\": \"Solano County\", \"n\": 10}, {\"primary_agency_name\": \"Pleasant Hill\", \"n\": 9}, {\"primary_agency_name\": \"Sunnyvale\", \"n\": 9}, {\"primary_agency_name\": \"Alameda\", \"n\": 8}, {\"primary_agency_name\": \"Alameda County Congestion Management Agency\", \"n\": 8}, {\"primary_agency_name\": \"Fairfield\", \"n\": 8}, {\"primary_agency_name\": \"Golden Gate Bridge, Highway And Transportation Distri\", \"n\": 8}, {\"primary_agency_name\": \"Napa\", \"n\": 8}, {\"primary_agency_name\": \"Napa County\", \"n\": 8}, {\"primary_agency_name\": \"Richmond\", \"n\": 8}, {\"primary_agency_name\": \"San Francisco Bay Area Rapid Transit District\", \"n\": 8}, {\"primary_agency_name\": \"San Rafael\", \"n\": 8}, {\"primary_agency_name\": \"Santa Rosa\", \"n\": 8}, {\"primary_agency_name\": \"El Cerrito\", \"n\": 7}, {\"primary_agency_name\": \"San Mateo\", \"n\": 7}, {\"primary_agency_name\": \"Sonoma Marin Area Rail Transit District\", \"n\": 7}, {\"primary_agency_name\": \"South San Francisco\", \"n\": 7}]}}, {\"mode\": \"vega-lite\"});\n",
       "</script>"
      ],
      "text/plain": [
       "alt.Chart(...)"
      ]
     },
     "metadata": {},
     "output_type": "display_data"
    },
    {
     "data": {
      "text/html": [
       "<h2>Funding Distribution</h2>"
      ],
      "text/plain": [
       "<IPython.core.display.HTML object>"
      ]
     },
     "metadata": {},
     "output_type": "display_data"
    },
    {
     "data": {
      "text/html": [
       "<h4><strong>Average Total Requested Funds by Agency ($2021)</strong></h4>"
      ],
      "text/plain": [
       "<IPython.core.display.HTML object>"
      ]
     },
     "metadata": {},
     "output_type": "display_data"
    },
    {
     "data": {
      "text/html": [
       "\n",
<<<<<<< Updated upstream
       "<div id=\"altair-viz-e13a9935e14a43428382e01bb099e425\"></div>\n",
=======
       "<div id=\"altair-viz-3ce64eaba1da4253bca9ee31192ba6aa\"></div>\n",
>>>>>>> Stashed changes
       "<script type=\"text/javascript\">\n",
       "  var VEGA_DEBUG = (typeof VEGA_DEBUG == \"undefined\") ? {} : VEGA_DEBUG;\n",
       "  (function(spec, embedOpt){\n",
       "    let outputDiv = document.currentScript.previousElementSibling;\n",
<<<<<<< Updated upstream
       "    if (outputDiv.id !== \"altair-viz-e13a9935e14a43428382e01bb099e425\") {\n",
       "      outputDiv = document.getElementById(\"altair-viz-e13a9935e14a43428382e01bb099e425\");\n",
=======
       "    if (outputDiv.id !== \"altair-viz-3ce64eaba1da4253bca9ee31192ba6aa\") {\n",
       "      outputDiv = document.getElementById(\"altair-viz-3ce64eaba1da4253bca9ee31192ba6aa\");\n",
>>>>>>> Stashed changes
       "    }\n",
       "    const paths = {\n",
       "      \"vega\": \"https://cdn.jsdelivr.net/npm//vega@5?noext\",\n",
       "      \"vega-lib\": \"https://cdn.jsdelivr.net/npm//vega-lib?noext\",\n",
       "      \"vega-lite\": \"https://cdn.jsdelivr.net/npm//vega-lite@4.17.0?noext\",\n",
       "      \"vega-embed\": \"https://cdn.jsdelivr.net/npm//vega-embed@6?noext\",\n",
       "    };\n",
       "\n",
       "    function maybeLoadScript(lib, version) {\n",
       "      var key = `${lib.replace(\"-\", \"\")}_version`;\n",
       "      return (VEGA_DEBUG[key] == version) ?\n",
       "        Promise.resolve(paths[lib]) :\n",
       "        new Promise(function(resolve, reject) {\n",
       "          var s = document.createElement('script');\n",
       "          document.getElementsByTagName(\"head\")[0].appendChild(s);\n",
       "          s.async = true;\n",
       "          s.onload = () => {\n",
       "            VEGA_DEBUG[key] = version;\n",
       "            return resolve(paths[lib]);\n",
       "          };\n",
       "          s.onerror = () => reject(`Error loading script: ${paths[lib]}`);\n",
       "          s.src = paths[lib];\n",
       "        });\n",
       "    }\n",
       "\n",
       "    function showError(err) {\n",
       "      outputDiv.innerHTML = `<div class=\"error\" style=\"color:red;\">${err}</div>`;\n",
       "      throw err;\n",
       "    }\n",
       "\n",
       "    function displayChart(vegaEmbed) {\n",
       "      vegaEmbed(outputDiv, spec, embedOpt)\n",
       "        .catch(err => showError(`Javascript Error: ${err.message}<br>This usually means there's a typo in your chart specification. See the javascript console for the full traceback.`));\n",
       "    }\n",
       "\n",
       "    if(typeof define === \"function\" && define.amd) {\n",
       "      requirejs.config({paths});\n",
       "      require([\"vega-embed\"], displayChart, err => showError(`Error loading script: ${err.message}`));\n",
       "    } else {\n",
       "      maybeLoadScript(\"vega\", \"5\")\n",
       "        .then(() => maybeLoadScript(\"vega-lite\", \"4.17.0\"))\n",
       "        .then(() => maybeLoadScript(\"vega-embed\", \"6\"))\n",
       "        .catch(showError)\n",
       "        .then(() => displayChart(vegaEmbed));\n",
       "    }\n",
       "  })({\"config\": {\"view\": {\"continuousWidth\": 400, \"continuousHeight\": 300}, \"axis\": {\"domainColor\": \"#cbcbcb\", \"grid\": true, \"gridColor\": \"#cbcbcb\", \"gridWidth\": 1, \"labelColor\": \"#474747\", \"labelFont\": \"Nunito Sans\", \"labelFontSize\": 10, \"labelPadding\": 4, \"tickColor\": \"#cbcbcb\", \"tickSize\": 10, \"titleColor\": \"#333\", \"titleFont\": \"Raleway\", \"titleFontSize\": 12, \"titlePadding\": 10}, \"axisBand\": {\"grid\": false}, \"background\": \"white\", \"font\": \"Raleway\", \"header\": {\"labelFont\": \"Nunito Sans\", \"titleFont\": \"Raleway\"}, \"legend\": {\"labelColor\": \"#333\", \"labelFont\": \"Nunito Sans\", \"labelFontSize\": 11, \"labelLimit\": 0, \"padding\": 1, \"symbolSize\": 30, \"symbolType\": \"square\", \"titleColor\": \"#333\", \"titleFont\": \"Raleway\", \"titleFontSize\": 14, \"titlePadding\": 10}, \"title\": {\"anchor\": \"middle\", \"font\": \"Raleway\", \"fontSize\": 18, \"fontWeight\": 300, \"offset\": 20}}, \"data\": {\"name\": \"data-5d070602646dbdfd7dbad70e92686ccd\"}, \"mark\": \"bar\", \"encoding\": {\"color\": {\"field\": \"primary_agency_name\", \"legend\": {\"symbolLimit\": 10, \"title\": \"Agency\"}, \"scale\": {\"range\": [\"#2EA8CE\", \"#EB9F3C\", \"#F4D837\", \"#51BF9D\", \"#8CBCCB\", \"#9487C0\"]}, \"type\": \"nominal\"}, \"tooltip\": [{\"field\": \"primary_agency_name\", \"type\": \"nominal\"}, {\"field\": \"adjusted_total_requested\", \"type\": \"quantitative\"}], \"x\": {\"field\": \"primary_agency_name\", \"sort\": \"-y\", \"title\": \"Agency\", \"type\": \"nominal\"}, \"y\": {\"field\": \"adjusted_total_requested\", \"title\": \"Adjusted Total Requested\", \"type\": \"quantitative\"}}, \"height\": 250, \"width\": 400, \"$schema\": \"https://vega.github.io/schema/vega-lite/v4.17.0.json\", \"datasets\": {\"data-5d070602646dbdfd7dbad70e92686ccd\": [{\"primary_agency_name\": \"La Jolla Band of Luiseno Indians\", \"adjusted_total_requested\": 7877447.510085349}, {\"primary_agency_name\": \"Caltrans\", \"adjusted_total_requested\": 7200866.508663196}, {\"primary_agency_name\": \"Golden Gate Bridge, Highway And Transportation Distri\", \"adjusted_total_requested\": 5312348.215439361}, {\"primary_agency_name\": \"San Francisco Bay Area Rapid Transit District\", \"adjusted_total_requested\": 4728710.344235635}, {\"primary_agency_name\": \"Alameda - Contra Costa Transit District\", \"adjusted_total_requested\": 4071873.1967900246}, {\"primary_agency_name\": \"San Francisco County\", \"adjusted_total_requested\": 3671402.126303573}, {\"primary_agency_name\": \"Belmont\", \"adjusted_total_requested\": 3013267.069260622}, {\"primary_agency_name\": \"Metropolitan Transportation Commission\", \"adjusted_total_requested\": 2656521.8392282897}, {\"primary_agency_name\": \"Napa Valley Transportation Authority\", \"adjusted_total_requested\": 2634244.293428272}, {\"primary_agency_name\": \"Alameda County Transportation Commission\", \"adjusted_total_requested\": 2480429.7119186674}, {\"primary_agency_name\": \"Larkspur\", \"adjusted_total_requested\": 2008763.4740926034}, {\"primary_agency_name\": \"San Francisco County Transportation Authority\", \"adjusted_total_requested\": 1908216.468473383}, {\"primary_agency_name\": \"Contra Costa Transportation Authority\", \"adjusted_total_requested\": 1846718.0845602741}, {\"primary_agency_name\": \"East Palo Alto\", \"adjusted_total_requested\": 1649833.6643088532}, {\"primary_agency_name\": \"Port of San Francisco\", \"adjusted_total_requested\": 1617689.7604029668}, {\"primary_agency_name\": \"Healdsburg\", \"adjusted_total_requested\": 1561188.8819585806}, {\"primary_agency_name\": \"Sonoma Marin Area Rail Transit District\", \"adjusted_total_requested\": 1512716.1834904836}, {\"primary_agency_name\": \"Metropolitan Transportation Commission - SAFE\", \"adjusted_total_requested\": 1511663.353550646}, {\"primary_agency_name\": \"San Francisco Bay Area Water Transit Authority\", \"adjusted_total_requested\": 1496461.7356790327}, {\"primary_agency_name\": \"San Pablo\", \"adjusted_total_requested\": 1399532.943630013}, {\"primary_agency_name\": \"Fairfield\", \"adjusted_total_requested\": 1302277.447243492}, {\"primary_agency_name\": \"Western Contra Costa Transit Authority\", \"adjusted_total_requested\": 1295883.005146624}, {\"primary_agency_name\": \"Calistoga\", \"adjusted_total_requested\": 1285845.194684056}, {\"primary_agency_name\": \"Morgan Hill\", \"adjusted_total_requested\": 1264783.0232990193}, {\"primary_agency_name\": \"Richmond\", \"adjusted_total_requested\": 1188334.969714571}, {\"primary_agency_name\": \"Bay Area Air Quality Management District\", \"adjusted_total_requested\": 1156260.885675769}, {\"primary_agency_name\": \"Colma\", \"adjusted_total_requested\": 1146915.3705764515}, {\"primary_agency_name\": \"Peninsula Joint Powers Board\", \"adjusted_total_requested\": 1096244.0408426924}, {\"primary_agency_name\": \"Corte Madera\", \"adjusted_total_requested\": 1084937.8520869836}, {\"primary_agency_name\": \"City & County of San Francisco, MTA/Parking & Traffic\", \"adjusted_total_requested\": 1058727.8748600346}]}}, {\"mode\": \"vega-lite\"});\n",
       "</script>"
      ],
      "text/plain": [
       "alt.Chart(...)"
      ]
     },
     "metadata": {},
     "output_type": "display_data"
    },
    {
     "data": {
      "text/html": [
       "<h4><strong>Lowest Average Total Funds by Agency ($2021)</strong></h4>"
      ],
      "text/plain": [
       "<IPython.core.display.HTML object>"
      ]
     },
     "metadata": {},
     "output_type": "display_data"
    },
    {
     "data": {
      "text/html": [
       "\n",
<<<<<<< Updated upstream
       "<div id=\"altair-viz-c382dbb22fe947fdbff3202090842d2a\"></div>\n",
=======
       "<div id=\"altair-viz-93488c84c64847fa85d6df0b80c8cf4a\"></div>\n",
>>>>>>> Stashed changes
       "<script type=\"text/javascript\">\n",
       "  var VEGA_DEBUG = (typeof VEGA_DEBUG == \"undefined\") ? {} : VEGA_DEBUG;\n",
       "  (function(spec, embedOpt){\n",
       "    let outputDiv = document.currentScript.previousElementSibling;\n",
<<<<<<< Updated upstream
       "    if (outputDiv.id !== \"altair-viz-c382dbb22fe947fdbff3202090842d2a\") {\n",
       "      outputDiv = document.getElementById(\"altair-viz-c382dbb22fe947fdbff3202090842d2a\");\n",
=======
       "    if (outputDiv.id !== \"altair-viz-93488c84c64847fa85d6df0b80c8cf4a\") {\n",
       "      outputDiv = document.getElementById(\"altair-viz-93488c84c64847fa85d6df0b80c8cf4a\");\n",
>>>>>>> Stashed changes
       "    }\n",
       "    const paths = {\n",
       "      \"vega\": \"https://cdn.jsdelivr.net/npm//vega@5?noext\",\n",
       "      \"vega-lib\": \"https://cdn.jsdelivr.net/npm//vega-lib?noext\",\n",
       "      \"vega-lite\": \"https://cdn.jsdelivr.net/npm//vega-lite@4.17.0?noext\",\n",
       "      \"vega-embed\": \"https://cdn.jsdelivr.net/npm//vega-embed@6?noext\",\n",
       "    };\n",
       "\n",
       "    function maybeLoadScript(lib, version) {\n",
       "      var key = `${lib.replace(\"-\", \"\")}_version`;\n",
       "      return (VEGA_DEBUG[key] == version) ?\n",
       "        Promise.resolve(paths[lib]) :\n",
       "        new Promise(function(resolve, reject) {\n",
       "          var s = document.createElement('script');\n",
       "          document.getElementsByTagName(\"head\")[0].appendChild(s);\n",
       "          s.async = true;\n",
       "          s.onload = () => {\n",
       "            VEGA_DEBUG[key] = version;\n",
       "            return resolve(paths[lib]);\n",
       "          };\n",
       "          s.onerror = () => reject(`Error loading script: ${paths[lib]}`);\n",
       "          s.src = paths[lib];\n",
       "        });\n",
       "    }\n",
       "\n",
       "    function showError(err) {\n",
       "      outputDiv.innerHTML = `<div class=\"error\" style=\"color:red;\">${err}</div>`;\n",
       "      throw err;\n",
       "    }\n",
       "\n",
       "    function displayChart(vegaEmbed) {\n",
       "      vegaEmbed(outputDiv, spec, embedOpt)\n",
       "        .catch(err => showError(`Javascript Error: ${err.message}<br>This usually means there's a typo in your chart specification. See the javascript console for the full traceback.`));\n",
       "    }\n",
       "\n",
       "    if(typeof define === \"function\" && define.amd) {\n",
       "      requirejs.config({paths});\n",
       "      require([\"vega-embed\"], displayChart, err => showError(`Error loading script: ${err.message}`));\n",
       "    } else {\n",
       "      maybeLoadScript(\"vega\", \"5\")\n",
       "        .then(() => maybeLoadScript(\"vega-lite\", \"4.17.0\"))\n",
       "        .then(() => maybeLoadScript(\"vega-embed\", \"6\"))\n",
       "        .catch(showError)\n",
       "        .then(() => displayChart(vegaEmbed));\n",
       "    }\n",
       "  })({\"config\": {\"view\": {\"continuousWidth\": 400, \"continuousHeight\": 300}, \"axis\": {\"domainColor\": \"#cbcbcb\", \"grid\": true, \"gridColor\": \"#cbcbcb\", \"gridWidth\": 1, \"labelColor\": \"#474747\", \"labelFont\": \"Nunito Sans\", \"labelFontSize\": 10, \"labelPadding\": 4, \"tickColor\": \"#cbcbcb\", \"tickSize\": 10, \"titleColor\": \"#333\", \"titleFont\": \"Raleway\", \"titleFontSize\": 12, \"titlePadding\": 10}, \"axisBand\": {\"grid\": false}, \"background\": \"white\", \"font\": \"Raleway\", \"header\": {\"labelFont\": \"Nunito Sans\", \"titleFont\": \"Raleway\"}, \"legend\": {\"labelColor\": \"#333\", \"labelFont\": \"Nunito Sans\", \"labelFontSize\": 11, \"labelLimit\": 0, \"padding\": 1, \"symbolSize\": 30, \"symbolType\": \"square\", \"titleColor\": \"#333\", \"titleFont\": \"Raleway\", \"titleFontSize\": 14, \"titlePadding\": 10}, \"title\": {\"anchor\": \"middle\", \"font\": \"Raleway\", \"fontSize\": 18, \"fontWeight\": 300, \"offset\": 20}}, \"data\": {\"name\": \"data-91f5bdadb4533104dec3e0d02558c3de\"}, \"mark\": \"bar\", \"encoding\": {\"color\": {\"field\": \"primary_agency_name\", \"legend\": {\"symbolLimit\": 10, \"title\": \"Agency\"}, \"scale\": {\"range\": [\"#2EA8CE\", \"#EB9F3C\", \"#F4D837\", \"#51BF9D\", \"#8CBCCB\", \"#9487C0\"]}, \"type\": \"nominal\"}, \"tooltip\": [{\"field\": \"primary_agency_name\", \"type\": \"nominal\"}, {\"field\": \"avg_funds\", \"type\": \"quantitative\"}], \"x\": {\"field\": \"primary_agency_name\", \"sort\": \"-y\", \"title\": \"Agency\", \"type\": \"nominal\"}, \"y\": {\"field\": \"avg_funds\", \"title\": \"Avg Funds\", \"type\": \"quantitative\"}}, \"height\": 250, \"width\": 400, \"$schema\": \"https://vega.github.io/schema/vega-lite/v4.17.0.json\", \"datasets\": {\"data-91f5bdadb4533104dec3e0d02558c3de\": [{\"primary_agency_name\": \"San Carlos\", \"avg_funds\": 195352.6449073997}, {\"primary_agency_name\": \"Piedmont\", \"avg_funds\": 190760.41726856382}, {\"primary_agency_name\": \"Atherton\", \"avg_funds\": 189021.4817482291}, {\"primary_agency_name\": \"Half Moon Bay\", \"avg_funds\": 183097.36457084562}, {\"primary_agency_name\": \"American Canyon\", \"avg_funds\": 181783.35619090492}, {\"primary_agency_name\": \"Newark\", \"avg_funds\": 168067.58473936436}, {\"primary_agency_name\": \"Dixon\", \"avg_funds\": 159895.18332872592}, {\"primary_agency_name\": \"Sausalito\", \"avg_funds\": 157473.10502418404}, {\"primary_agency_name\": \"Martinez\", \"avg_funds\": 156009.86914391367}, {\"primary_agency_name\": \"Union City\", \"avg_funds\": 155611.1086336373}, {\"primary_agency_name\": \"Los Gatos\", \"avg_funds\": 155434.17508708214}, {\"primary_agency_name\": \"Central Contra Costa Transit Authority\", \"avg_funds\": 154217.75605234606}, {\"primary_agency_name\": \"San Bruno\", \"avg_funds\": 152407.82923896099}, {\"primary_agency_name\": \"Suisun City\", \"avg_funds\": 151418.50574405276}, {\"primary_agency_name\": \"Benicia\", \"avg_funds\": 147780.2993583272}, {\"primary_agency_name\": \"San Leandro\", \"avg_funds\": 141063.9265435573}, {\"primary_agency_name\": \"Marin County Transit District\", \"avg_funds\": 133607.7554954071}, {\"primary_agency_name\": \"Los Altos Hills\", \"avg_funds\": 126359.46557868482}, {\"primary_agency_name\": \"Lafayette\", \"avg_funds\": 113795.81923695427}, {\"primary_agency_name\": \"Brisbane\", \"avg_funds\": 112588.71503767227}, {\"primary_agency_name\": \"Mill Valley\", \"avg_funds\": 109664.46894297254}, {\"primary_agency_name\": \"Yountville\", \"avg_funds\": 84679.82503576957}, {\"primary_agency_name\": \"Portola Valley\", \"avg_funds\": 67766.31412368998}, {\"primary_agency_name\": \"Ross\", \"avg_funds\": 67288.6177957387}, {\"primary_agency_name\": \"Monte Sereno\", \"avg_funds\": 67187.74602751632}, {\"primary_agency_name\": \"University Of California\", \"avg_funds\": 57010.98024172055}, {\"primary_agency_name\": \"Rio Vista\", \"avg_funds\": 54416.69340448155}, {\"primary_agency_name\": \"San Anselmo\", \"avg_funds\": 45621.3531559128}, {\"primary_agency_name\": \"Sebastopol\", \"avg_funds\": 43484.853863406526}, {\"primary_agency_name\": \"Cloverdale\", \"avg_funds\": 39069.59647595368}, {\"primary_agency_name\": \"St Helena\", \"avg_funds\": 37096.32723603044}, {\"primary_agency_name\": \"Albany\", \"avg_funds\": 36486.32899944957}, {\"primary_agency_name\": \"Department of Parks and Recreation\", \"avg_funds\": 5390.479102014346}, {\"primary_agency_name\": \"Napa County Office of Education\", \"avg_funds\": 2289.2037464298137}, {\"primary_agency_name\": \"Alameda County Transportation Improvement Authority\", \"avg_funds\": 0.0}, {\"primary_agency_name\": \"Alameda County Waste Management Authority\", \"avg_funds\": 0.0}, {\"primary_agency_name\": \"Santa Cruz\", \"avg_funds\": -1527.5478423239308}, {\"primary_agency_name\": \"University of California at San Francisco\", \"avg_funds\": -6367.502687761783}, {\"primary_agency_name\": \"Santa Clara Valley Transportation Authority\", \"avg_funds\": -227992.34193115283}, {\"primary_agency_name\": \"Port Of Oakland\", \"avg_funds\": -325706.2192806022}]}}, {\"mode\": \"vega-lite\"});\n",
       "</script>"
      ],
      "text/plain": [
       "alt.Chart(...)"
      ]
     },
     "metadata": {},
     "output_type": "display_data"
    },
    {
     "data": {
      "text/html": [
       "<h4><strong>Average Total Requested Funds by Prefix ($2021)</strong></h4>"
      ],
      "text/plain": [
       "<IPython.core.display.HTML object>"
      ]
     },
     "metadata": {},
     "output_type": "display_data"
    },
    {
     "data": {
      "text/html": [
       "\n",
<<<<<<< Updated upstream
       "<div id=\"altair-viz-0a9a944baa3848b898c730a856bcd656\"></div>\n",
=======
       "<div id=\"altair-viz-5657173d821d40608b18af0a30a3d7ff\"></div>\n",
>>>>>>> Stashed changes
       "<script type=\"text/javascript\">\n",
       "  var VEGA_DEBUG = (typeof VEGA_DEBUG == \"undefined\") ? {} : VEGA_DEBUG;\n",
       "  (function(spec, embedOpt){\n",
       "    let outputDiv = document.currentScript.previousElementSibling;\n",
<<<<<<< Updated upstream
       "    if (outputDiv.id !== \"altair-viz-0a9a944baa3848b898c730a856bcd656\") {\n",
       "      outputDiv = document.getElementById(\"altair-viz-0a9a944baa3848b898c730a856bcd656\");\n",
=======
       "    if (outputDiv.id !== \"altair-viz-5657173d821d40608b18af0a30a3d7ff\") {\n",
       "      outputDiv = document.getElementById(\"altair-viz-5657173d821d40608b18af0a30a3d7ff\");\n",
>>>>>>> Stashed changes
       "    }\n",
       "    const paths = {\n",
       "      \"vega\": \"https://cdn.jsdelivr.net/npm//vega@5?noext\",\n",
       "      \"vega-lib\": \"https://cdn.jsdelivr.net/npm//vega-lib?noext\",\n",
       "      \"vega-lite\": \"https://cdn.jsdelivr.net/npm//vega-lite@4.17.0?noext\",\n",
       "      \"vega-embed\": \"https://cdn.jsdelivr.net/npm//vega-embed@6?noext\",\n",
       "    };\n",
       "\n",
       "    function maybeLoadScript(lib, version) {\n",
       "      var key = `${lib.replace(\"-\", \"\")}_version`;\n",
       "      return (VEGA_DEBUG[key] == version) ?\n",
       "        Promise.resolve(paths[lib]) :\n",
       "        new Promise(function(resolve, reject) {\n",
       "          var s = document.createElement('script');\n",
       "          document.getElementsByTagName(\"head\")[0].appendChild(s);\n",
       "          s.async = true;\n",
       "          s.onload = () => {\n",
       "            VEGA_DEBUG[key] = version;\n",
       "            return resolve(paths[lib]);\n",
       "          };\n",
       "          s.onerror = () => reject(`Error loading script: ${paths[lib]}`);\n",
       "          s.src = paths[lib];\n",
       "        });\n",
       "    }\n",
       "\n",
       "    function showError(err) {\n",
       "      outputDiv.innerHTML = `<div class=\"error\" style=\"color:red;\">${err}</div>`;\n",
       "      throw err;\n",
       "    }\n",
       "\n",
       "    function displayChart(vegaEmbed) {\n",
       "      vegaEmbed(outputDiv, spec, embedOpt)\n",
       "        .catch(err => showError(`Javascript Error: ${err.message}<br>This usually means there's a typo in your chart specification. See the javascript console for the full traceback.`));\n",
       "    }\n",
       "\n",
       "    if(typeof define === \"function\" && define.amd) {\n",
       "      requirejs.config({paths});\n",
       "      require([\"vega-embed\"], displayChart, err => showError(`Error loading script: ${err.message}`));\n",
       "    } else {\n",
       "      maybeLoadScript(\"vega\", \"5\")\n",
       "        .then(() => maybeLoadScript(\"vega-lite\", \"4.17.0\"))\n",
       "        .then(() => maybeLoadScript(\"vega-embed\", \"6\"))\n",
       "        .catch(showError)\n",
       "        .then(() => displayChart(vegaEmbed));\n",
       "    }\n",
       "  })({\"config\": {\"view\": {\"continuousWidth\": 400, \"continuousHeight\": 300}, \"axis\": {\"domainColor\": \"#cbcbcb\", \"grid\": true, \"gridColor\": \"#cbcbcb\", \"gridWidth\": 1, \"labelColor\": \"#474747\", \"labelFont\": \"Nunito Sans\", \"labelFontSize\": 10, \"labelPadding\": 4, \"tickColor\": \"#cbcbcb\", \"tickSize\": 10, \"titleColor\": \"#333\", \"titleFont\": \"Raleway\", \"titleFontSize\": 12, \"titlePadding\": 10}, \"axisBand\": {\"grid\": false}, \"background\": \"white\", \"font\": \"Raleway\", \"header\": {\"labelFont\": \"Nunito Sans\", \"titleFont\": \"Raleway\"}, \"legend\": {\"labelColor\": \"#333\", \"labelFont\": \"Nunito Sans\", \"labelFontSize\": 11, \"labelLimit\": 0, \"padding\": 1, \"symbolSize\": 30, \"symbolType\": \"square\", \"titleColor\": \"#333\", \"titleFont\": \"Raleway\", \"titleFontSize\": 14, \"titlePadding\": 10}, \"title\": {\"anchor\": \"middle\", \"font\": \"Raleway\", \"fontSize\": 18, \"fontWeight\": 300, \"offset\": 20}}, \"data\": {\"name\": \"data-32168dff16e007a6cfedb5959c36442f\"}, \"mark\": \"bar\", \"encoding\": {\"color\": {\"field\": \"prefix\", \"legend\": {\"symbolLimit\": 10, \"title\": \"Prefix\"}, \"scale\": {\"range\": [\"#2EA8CE\", \"#EB9F3C\", \"#F4D837\", \"#51BF9D\", \"#8CBCCB\", \"#9487C0\"]}, \"type\": \"nominal\"}, \"tooltip\": [{\"field\": \"prefix\", \"type\": \"nominal\"}, {\"field\": \"adjusted_total_requested\", \"type\": \"quantitative\"}], \"x\": {\"field\": \"prefix\", \"sort\": \"-y\", \"title\": \"Prefix\", \"type\": \"nominal\"}, \"y\": {\"field\": \"adjusted_total_requested\", \"title\": \"Adjusted Total Requested\", \"type\": \"quantitative\"}}, \"height\": 250, \"width\": 400, \"$schema\": \"https://vega.github.io/schema/vega-lite/v4.17.0.json\", \"datasets\": {\"data-32168dff16e007a6cfedb5959c36442f\": [{\"prefix\": \"BUILDL\", \"adjusted_total_requested\": 100043553.12716283}, {\"prefix\": \"NCIIPL\", \"adjusted_total_requested\": 31030822.136926275}, {\"prefix\": \"ATCMTD\", \"adjusted_total_requested\": 23274080.53390696}, {\"prefix\": \"ESPLEH\", \"adjusted_total_requested\": 22793698.273744546}, {\"prefix\": \"FTASTPCM\", \"adjusted_total_requested\": 9244428.96573825}, {\"prefix\": \"HPLUN\", \"adjusted_total_requested\": 9022468.88374991}, {\"prefix\": \"FERPL\", \"adjusted_total_requested\": 8784520.256495953}, {\"prefix\": \"ESPSEH\", \"adjusted_total_requested\": 6979458.783465311}, {\"prefix\": \"FTACML\", \"adjusted_total_requested\": 6330609.048928619}, {\"prefix\": \"BHLS\", \"adjusted_total_requested\": 4872829.291311794}, {\"prefix\": \"FTACRRSA\", \"adjusted_total_requested\": 4335003.691867984}, {\"prefix\": \"FTAFERPL\", \"adjusted_total_requested\": 3543087.546328245}, {\"prefix\": \"STPLNI\", \"adjusted_total_requested\": 2888447.7670971584}, {\"prefix\": \"STP\", \"adjusted_total_requested\": 2625815.8366951165}, {\"prefix\": \"TCESB1L\", \"adjusted_total_requested\": 2451624.9202911104}, {\"prefix\": \"FTACMSPL\", \"adjusted_total_requested\": 2439230.897893468}, {\"prefix\": \"ATPSB1L\", \"adjusted_total_requested\": 2239865.8713008775}, {\"prefix\": \"LPPSTPL\", \"adjusted_total_requested\": 2212779.799503621}, {\"prefix\": \"BRLZ\", \"adjusted_total_requested\": 1850302.659280733}, {\"prefix\": \"ATPL\", \"adjusted_total_requested\": 1663736.6121835557}, {\"prefix\": \"FTASTPL\", \"adjusted_total_requested\": 1652360.8974094172}, {\"prefix\": \"HP21L\", \"adjusted_total_requested\": 1442323.3873705992}, {\"prefix\": \"FTAATP\", \"adjusted_total_requested\": 1436033.4443832503}, {\"prefix\": \"STPLR\", \"adjusted_total_requested\": 1346890.1934756166}, {\"prefix\": \"STPLZ\", \"adjusted_total_requested\": 1297543.3696077708}, {\"prefix\": \"TCSPCM\", \"adjusted_total_requested\": 1207841.576513245}, {\"prefix\": \"ATPHSIP\", \"adjusted_total_requested\": 1205629.5794587855}, {\"prefix\": \"BRLS\", \"adjusted_total_requested\": 1201146.0527447409}, {\"prefix\": \"CMSTPL\", \"adjusted_total_requested\": 1178893.2241298074}, {\"prefix\": \"FTASTPCML\", \"adjusted_total_requested\": 1150000.979388277}]}}, {\"mode\": \"vega-lite\"});\n",
       "</script>"
      ],
      "text/plain": [
       "alt.Chart(...)"
      ]
     },
     "metadata": {},
     "output_type": "display_data"
    },
    {
     "data": {
      "text/html": [
       "<h2>Work Categories</h2>"
      ],
      "text/plain": [
       "<IPython.core.display.HTML object>"
      ]
     },
     "metadata": {},
     "output_type": "display_data"
    },
    {
     "data": {
      "application/vnd.jupyter.widget-view+json": {
<<<<<<< Updated upstream
       "model_id": "b9bb1865bb0443839d654ed738678aeb",
=======
       "model_id": "93c473c8a3eb41c0ab683db7b1534ad7",
>>>>>>> Stashed changes
       "version_major": 2,
       "version_minor": 0
      },
      "text/plain": [
       "Tab(children=(Output(), Output(), Output(), Output(), Output(), Output(), Output()), _titles={'0': 'Active Tra…"
      ]
     },
     "metadata": {},
     "output_type": "display_data"
    }
   ],
   "source": [
    "gen_report.make_charts(district)"
   ]
  },
  {
   "cell_type": "code",
   "execution_count": 7,
   "id": "063b89b9-2ba6-418d-b107-eac36212dbcd",
   "metadata": {},
   "outputs": [],
   "source": [
    "import pandas as pd\n",
    "from siuba import *\n",
    "import numpy as np\n",
    "from IPython.display import Markdown, HTML"
   ]
  },
  {
   "cell_type": "code",
   "execution_count": 8,
   "id": "9739558f-b38e-437a-91d7-c7c86383f8cf",
   "metadata": {},
   "outputs": [
    {
     "data": {
      "text/html": [
       "<h4><strong>Number of Unique Prefix Codes by Agency</strong></h4>"
      ],
      "text/plain": [
       "<IPython.core.display.HTML object>"
      ]
     },
     "metadata": {},
     "output_type": "display_data"
    },
    {
     "data": {
      "text/html": [
       "<div>\n",
       "<style scoped>\n",
       "    .dataframe tbody tr th:only-of-type {\n",
       "        vertical-align: middle;\n",
       "    }\n",
       "\n",
       "    .dataframe tbody tr th {\n",
       "        vertical-align: top;\n",
       "    }\n",
       "\n",
       "    .dataframe thead th {\n",
       "        text-align: right;\n",
       "    }\n",
       "</style>\n",
       "<table border=\"1\" class=\"dataframe\">\n",
       "  <thead>\n",
       "    <tr style=\"text-align: right;\">\n",
       "      <th></th>\n",
       "      <th>Agency</th>\n",
       "      <th>Number of Unqiue Prefix Codes</th>\n",
       "    </tr>\n",
       "  </thead>\n",
       "  <tbody>\n",
       "    <tr>\n",
       "      <th>276</th>\n",
       "      <td>Los Angeles</td>\n",
       "      <td>35</td>\n",
       "    </tr>\n",
       "    <tr>\n",
       "      <th>277</th>\n",
       "      <td>Los Angeles County</td>\n",
       "      <td>31</td>\n",
       "    </tr>\n",
       "    <tr>\n",
       "      <th>434</th>\n",
       "      <td>San Bernardino Associated Governments</td>\n",
       "      <td>28</td>\n",
       "    </tr>\n",
       "    <tr>\n",
       "      <th>71</th>\n",
       "      <td>Caltrans</td>\n",
       "      <td>24</td>\n",
       "    </tr>\n",
       "    <tr>\n",
       "      <th>534</th>\n",
       "      <td>Stockton</td>\n",
       "      <td>23</td>\n",
       "    </tr>\n",
       "  </tbody>\n",
       "</table>\n",
       "</div>"
      ],
      "text/plain": [
       "                                    Agency  Number of Unqiue Prefix Codes\n",
       "276                            Los Angeles                             35\n",
       "277                     Los Angeles County                             31\n",
       "434  San Bernardino Associated Governments                             28\n",
       "71                                Caltrans                             24\n",
       "534                               Stockton                             23"
      ]
     },
     "metadata": {},
     "output_type": "display_data"
    }
   ],
   "source": [
    "display(HTML(\"<h4><strong>Number of Unique Prefix Codes by Agency</strong></h4>\"))\n",
    "display((_dla_utils.get_nunique(df, 'prefix', 'primary_agency_name'))\n",
    "            .rename(columns={'primary_agency_name':'Agency',\n",
    "                            'n':'Number of Unqiue Prefix Codes'})\n",
    "            .head(5))"
   ]
  },
  {
   "cell_type": "code",
   "execution_count": 9,
   "id": "1bbc8d31-5b93-4ccb-b369-948c58f7eaed",
   "metadata": {},
   "outputs": [
    {
     "data": {
      "text/html": [
       "<h4><strong>Number of Unique Agencies by Prefix Codes</strong></h4>"
      ],
      "text/plain": [
       "<IPython.core.display.HTML object>"
      ]
     },
     "metadata": {},
     "output_type": "display_data"
    },
    {
     "data": {
      "text/html": [
       "<div>\n",
       "<style scoped>\n",
       "    .dataframe tbody tr th:only-of-type {\n",
       "        vertical-align: middle;\n",
       "    }\n",
       "\n",
       "    .dataframe tbody tr th {\n",
       "        vertical-align: top;\n",
       "    }\n",
       "\n",
       "    .dataframe thead th {\n",
       "        text-align: right;\n",
       "    }\n",
       "</style>\n",
       "<table border=\"1\" class=\"dataframe\">\n",
       "  <thead>\n",
       "    <tr style=\"text-align: right;\">\n",
       "      <th></th>\n",
       "      <th>Prefix</th>\n",
       "      <th>Number of Unqiue Agencies</th>\n",
       "    </tr>\n",
       "  </thead>\n",
       "  <tbody>\n",
       "    <tr>\n",
       "      <th>311</th>\n",
       "      <td>STPL</td>\n",
       "      <td>319</td>\n",
       "    </tr>\n",
       "    <tr>\n",
       "      <th>212</th>\n",
       "      <td>HSIPL</td>\n",
       "      <td>289</td>\n",
       "    </tr>\n",
       "    <tr>\n",
       "      <th>70</th>\n",
       "      <td>CML</td>\n",
       "      <td>287</td>\n",
       "    </tr>\n",
       "    <tr>\n",
       "      <th>274</th>\n",
       "      <td>RPSTPL</td>\n",
       "      <td>148</td>\n",
       "    </tr>\n",
       "    <tr>\n",
       "      <th>47</th>\n",
       "      <td>BRLS</td>\n",
       "      <td>127</td>\n",
       "    </tr>\n",
       "  </tbody>\n",
       "</table>\n",
       "</div>"
      ],
      "text/plain": [
       "     Prefix  Number of Unqiue Agencies\n",
       "311    STPL                        319\n",
       "212   HSIPL                        289\n",
       "70      CML                        287\n",
       "274  RPSTPL                        148\n",
       "47     BRLS                        127"
      ]
     },
     "metadata": {},
     "output_type": "display_data"
    }
   ],
   "source": [
    "display(HTML(\"<h4><strong>Number of Unique Agencies by Prefix Codes</strong></h4>\"))\n",
    "display((_dla_utils.get_nunique(df, 'primary_agency_name', 'prefix'))\n",
    "            .rename(columns={'prefix':'Prefix',\n",
    "                            'n':'Number of Unqiue Agencies'})\n",
    "            .head(5))"
   ]
  },
  {
   "cell_type": "code",
   "execution_count": 14,
   "id": "fcfb24b0-5e7a-4848-b190-a44989d2671f",
   "metadata": {},
   "outputs": [
    {
     "data": {
      "text/html": [
       "<div>\n",
       "<style scoped>\n",
       "    .dataframe tbody tr th:only-of-type {\n",
       "        vertical-align: middle;\n",
       "    }\n",
       "\n",
       "    .dataframe tbody tr th {\n",
       "        vertical-align: top;\n",
       "    }\n",
       "\n",
       "    .dataframe thead th {\n",
       "        text-align: right;\n",
       "    }\n",
       "</style>\n",
       "<table border=\"1\" class=\"dataframe\">\n",
       "  <thead>\n",
       "    <tr style=\"text-align: right;\">\n",
       "      <th></th>\n",
       "      <th>Type of Work</th>\n",
       "    </tr>\n",
       "  </thead>\n",
       "  <tbody>\n",
       "    <tr>\n",
       "      <th>595</th>\n",
       "      <td>Bridge Replacement (tc)</td>\n",
       "    </tr>\n",
       "    <tr>\n",
       "      <th>584</th>\n",
       "      <td>Bridge Replacement</td>\n",
       "    </tr>\n",
       "    <tr>\n",
       "      <th>2042</th>\n",
       "      <td>FTA Transfer</td>\n",
       "    </tr>\n",
       "    <tr>\n",
       "      <th>4034</th>\n",
       "      <td>Permanent Restoration</td>\n",
       "    </tr>\n",
       "    <tr>\n",
       "      <th>5360</th>\n",
       "      <td>Road Rehabilitation</td>\n",
       "    </tr>\n",
       "  </tbody>\n",
       "</table>\n",
       "</div>"
      ],
      "text/plain": [
       "                 Type of Work\n",
       "595   Bridge Replacement (tc)\n",
       "584        Bridge Replacement\n",
       "2042             FTA Transfer\n",
       "4034    Permanent Restoration\n",
       "5360      Road Rehabilitation"
      ]
     },
     "execution_count": 14,
     "metadata": {},
     "output_type": "execute_result"
    }
   ],
   "source": [
    "work_types"
   ]
  },
  {
   "cell_type": "code",
   "execution_count": null,
   "id": "8a3d77df-3d6d-4648-8023-35eba3f8233d",
   "metadata": {},
   "outputs": [],
   "source": []
  },
  {
   "cell_type": "code",
   "execution_count": 17,
   "id": "04fdc076-d08a-4b33-9bab-c4cadfe6aa22",
   "metadata": {},
   "outputs": [
    {
     "data": {
      "text/html": [
       "<h4><strong>Top 5 Types of Work</strong></h4>"
      ],
      "text/plain": [
       "<IPython.core.display.HTML object>"
      ]
     },
     "metadata": {},
     "output_type": "display_data"
    },
    {
     "data": {
      "text/html": [
       "<style type=\"text/css\">\n",
       "</style>\n",
       "<table id=\"T_9500e\">\n",
       "  <thead>\n",
       "    <tr>\n",
       "      <th class=\"blank level0\" >&nbsp;</th>\n",
       "      <th id=\"T_9500e_level0_col0\" class=\"col_heading level0 col0\" >Type of Work</th>\n",
       "    </tr>\n",
       "  </thead>\n",
       "  <tbody>\n",
       "    <tr>\n",
       "      <th id=\"T_9500e_level0_row0\" class=\"row_heading level0 row0\" >595</th>\n",
       "      <td id=\"T_9500e_row0_col0\" class=\"data row0 col0\" >Bridge Replacement (tc)</td>\n",
       "    </tr>\n",
       "    <tr>\n",
       "      <th id=\"T_9500e_level0_row1\" class=\"row_heading level0 row1\" >584</th>\n",
       "      <td id=\"T_9500e_row1_col0\" class=\"data row1 col0\" >Bridge Replacement</td>\n",
       "    </tr>\n",
       "    <tr>\n",
       "      <th id=\"T_9500e_level0_row2\" class=\"row_heading level0 row2\" >2042</th>\n",
       "      <td id=\"T_9500e_row2_col0\" class=\"data row2 col0\" >FTA Transfer</td>\n",
       "    </tr>\n",
       "    <tr>\n",
       "      <th id=\"T_9500e_level0_row3\" class=\"row_heading level0 row3\" >4034</th>\n",
       "      <td id=\"T_9500e_row3_col0\" class=\"data row3 col0\" >Permanent Restoration</td>\n",
       "    </tr>\n",
       "    <tr>\n",
       "      <th id=\"T_9500e_level0_row4\" class=\"row_heading level0 row4\" >5360</th>\n",
       "      <td id=\"T_9500e_row4_col0\" class=\"data row4 col0\" >Road Rehabilitation</td>\n",
       "    </tr>\n",
       "  </tbody>\n",
       "</table>\n"
      ],
      "text/plain": [
       "<pandas.io.formats.style.Styler at 0x7f63f412c370>"
      ]
     },
     "metadata": {},
     "output_type": "display_data"
    }
   ],
   "source": [
    "display(HTML(\"<h4><strong>Top 5 Types of Work</strong></h4>\"))\n",
    "work_types =  ((df>>count(_.type_of_work)>>arrange(-_.n)>>select(_.type_of_work))\n",
    "            .rename(columns={'type_of_work':'Type of Work'})\n",
    "            .head(5))\n",
    "display(work_types.style)"
   ]
  },
  {
   "cell_type": "code",
   "execution_count": null,
   "id": "1f12775e-3973-419a-995c-b96e61c4fa62",
   "metadata": {},
   "outputs": [],
   "source": []
  }
 ],
 "metadata": {
  "kernelspec": {
   "display_name": "Python 3 (ipykernel)",
   "language": "python",
   "name": "python3"
  },
  "language_info": {
   "codemirror_mode": {
    "name": "ipython",
    "version": 3
   },
   "file_extension": ".py",
   "mimetype": "text/x-python",
   "name": "python",
   "nbconvert_exporter": "python",
   "pygments_lexer": "ipython3",
   "version": "3.9.10"
  },
  "widgets": {
   "application/vnd.jupyter.widget-state+json": {
    "state": {
<<<<<<< Updated upstream
     "09c1fe79d4ab453c8b4d617fae30ea35": {
=======
     "065bbc48f56d41b0a37dd16a1e5ffa27": {
>>>>>>> Stashed changes
      "model_module": "@jupyter-widgets/output",
      "model_module_version": "1.0.0",
      "model_name": "OutputModel",
      "state": {
<<<<<<< Updated upstream
       "layout": "IPY_MODEL_a353e116fea441f8a4409bef3f9cf2f6",
       "outputs": [
        {
         "data": {
          "text/markdown": "<h2>Top Agencies using Active Transportation Projects</h2>",
=======
       "layout": "IPY_MODEL_4de2571886294dbe8e06102d6d7eb817",
       "outputs": [
        {
         "data": {
          "text/markdown": "<h3>Top Agencies using Transit Projects</h3>",
>>>>>>> Stashed changes
          "text/plain": "<IPython.core.display.Markdown object>"
         },
         "metadata": {},
         "output_type": "display_data"
        },
        {
         "data": {
<<<<<<< Updated upstream
          "text/html": "<style type=\"text/css\">\n</style>\n<table id=\"T_d12c6\">\n  <thead>\n    <tr>\n      <th class=\"blank level0\" >&nbsp;</th>\n      <th id=\"T_d12c6_level0_col0\" class=\"col_heading level0 col0\" >Agency</th>\n      <th id=\"T_d12c6_level0_col1\" class=\"col_heading level0 col1\" >Active Transportation Obligations</th>\n      <th id=\"T_d12c6_level0_col2\" class=\"col_heading level0 col2\" >Percent of Category</th>\n    </tr>\n  </thead>\n  <tbody>\n    <tr>\n      <th id=\"T_d12c6_level0_row0\" class=\"row_heading level0 row0\" >0</th>\n      <td id=\"T_d12c6_row0_col0\" class=\"data row0 col0\" >San Jose</td>\n      <td id=\"T_d12c6_row0_col1\" class=\"data row0 col1\" >79</td>\n      <td id=\"T_d12c6_row0_col2\" class=\"data row0 col2\" >7.35%</td>\n    </tr>\n    <tr>\n      <th id=\"T_d12c6_level0_row1\" class=\"row_heading level0 row1\" >1</th>\n      <td id=\"T_d12c6_row1_col0\" class=\"data row1 col0\" >Oakland</td>\n      <td id=\"T_d12c6_row1_col1\" class=\"data row1 col1\" >65</td>\n      <td id=\"T_d12c6_row1_col2\" class=\"data row1 col2\" >6.05%</td>\n    </tr>\n    <tr>\n      <th id=\"T_d12c6_level0_row2\" class=\"row_heading level0 row2\" >2</th>\n      <td id=\"T_d12c6_row2_col0\" class=\"data row2 col0\" >City & County of San Francisco, MTA/Parking & Traffic</td>\n      <td id=\"T_d12c6_row2_col1\" class=\"data row2 col1\" >46</td>\n      <td id=\"T_d12c6_row2_col2\" class=\"data row2 col2\" >4.28%</td>\n    </tr>\n    <tr>\n      <th id=\"T_d12c6_level0_row3\" class=\"row_heading level0 row3\" >3</th>\n      <td id=\"T_d12c6_row3_col0\" class=\"data row3 col0\" >Sunnyvale</td>\n      <td id=\"T_d12c6_row3_col1\" class=\"data row3 col1\" >45</td>\n      <td id=\"T_d12c6_row3_col2\" class=\"data row3 col2\" >4.19%</td>\n    </tr>\n    <tr>\n      <th id=\"T_d12c6_level0_row4\" class=\"row_heading level0 row4\" >4</th>\n      <td id=\"T_d12c6_row4_col0\" class=\"data row4 col0\" >Contra Costa County</td>\n      <td id=\"T_d12c6_row4_col1\" class=\"data row4 col1\" >39</td>\n      <td id=\"T_d12c6_row4_col2\" class=\"data row4 col2\" >3.63%</td>\n    </tr>\n  </tbody>\n</table>\n",
          "text/plain": "<pandas.io.formats.style.Styler at 0x7f63d87e7a30>"
=======
          "text/html": "<style type=\"text/css\">\n</style>\n<table id=\"T_cab79\">\n  <thead>\n    <tr>\n      <th class=\"blank level0\" >&nbsp;</th>\n      <th id=\"T_cab79_level0_col0\" class=\"col_heading level0 col0\" >Agency</th>\n      <th id=\"T_cab79_level0_col1\" class=\"col_heading level0 col1\" >Transit Obligations</th>\n      <th id=\"T_cab79_level0_col2\" class=\"col_heading level0 col2\" >Percent of Category</th>\n    </tr>\n  </thead>\n  <tbody>\n    <tr>\n      <th id=\"T_cab79_level0_row0\" class=\"row_heading level0 row0\" >0</th>\n      <td id=\"T_cab79_row0_col0\" class=\"data row0 col0\" >Metropolitan Transportation Commission</td>\n      <td id=\"T_cab79_row0_col1\" class=\"data row0 col1\" >18</td>\n      <td id=\"T_cab79_row0_col2\" class=\"data row0 col2\" >28.57%</td>\n    </tr>\n    <tr>\n      <th id=\"T_cab79_level0_row1\" class=\"row_heading level0 row1\" >1</th>\n      <td id=\"T_cab79_row1_col0\" class=\"data row1 col0\" >Sunnyvale</td>\n      <td id=\"T_cab79_row1_col1\" class=\"data row1 col1\" >6</td>\n      <td id=\"T_cab79_row1_col2\" class=\"data row1 col2\" >9.52%</td>\n    </tr>\n    <tr>\n      <th id=\"T_cab79_level0_row2\" class=\"row_heading level0 row2\" >2</th>\n      <td id=\"T_cab79_row2_col0\" class=\"data row2 col0\" >Oakland</td>\n      <td id=\"T_cab79_row2_col1\" class=\"data row2 col1\" >4</td>\n      <td id=\"T_cab79_row2_col2\" class=\"data row2 col2\" >6.35%</td>\n    </tr>\n    <tr>\n      <th id=\"T_cab79_level0_row3\" class=\"row_heading level0 row3\" >3</th>\n      <td id=\"T_cab79_row3_col0\" class=\"data row3 col0\" >San Jose</td>\n      <td id=\"T_cab79_row3_col1\" class=\"data row3 col1\" >4</td>\n      <td id=\"T_cab79_row3_col2\" class=\"data row3 col2\" >6.35%</td>\n    </tr>\n    <tr>\n      <th id=\"T_cab79_level0_row4\" class=\"row_heading level0 row4\" >4</th>\n      <td id=\"T_cab79_row4_col0\" class=\"data row4 col0\" >San Leandro</td>\n      <td id=\"T_cab79_row4_col1\" class=\"data row4 col1\" >4</td>\n      <td id=\"T_cab79_row4_col2\" class=\"data row4 col2\" >6.35%</td>\n    </tr>\n  </tbody>\n</table>\n",
          "text/plain": "<pandas.io.formats.style.Styler at 0x7f160f963280>"
>>>>>>> Stashed changes
         },
         "metadata": {},
         "output_type": "display_data"
        }
       ]
      }
     },
<<<<<<< Updated upstream
     "1e14453291f14c4fa54fd94a06ceda85": {
=======
     "2092a246e49b41c789c391c6905e89af": {
>>>>>>> Stashed changes
      "model_module": "@jupyter-widgets/output",
      "model_module_version": "1.0.0",
      "model_name": "OutputModel",
      "state": {
<<<<<<< Updated upstream
       "layout": "IPY_MODEL_839097b253654ee0998c0e365a969f07",
       "outputs": [
        {
         "data": {
          "text/markdown": "<h2>Top Agencies using Street Projects</h2>",
=======
       "layout": "IPY_MODEL_961c4c604a9f46ad9c77518ce58e3746",
       "outputs": [
        {
         "data": {
          "text/markdown": "<h3>Top Agencies using Infrastructure & Emergency Relief Projects</h3>",
>>>>>>> Stashed changes
          "text/plain": "<IPython.core.display.Markdown object>"
         },
         "metadata": {},
         "output_type": "display_data"
        },
        {
         "data": {
<<<<<<< Updated upstream
          "text/html": "<style type=\"text/css\">\n</style>\n<table id=\"T_27731\">\n  <thead>\n    <tr>\n      <th class=\"blank level0\" >&nbsp;</th>\n      <th id=\"T_27731_level0_col0\" class=\"col_heading level0 col0\" >Agency</th>\n      <th id=\"T_27731_level0_col1\" class=\"col_heading level0 col1\" >Street Obligations</th>\n      <th id=\"T_27731_level0_col2\" class=\"col_heading level0 col2\" >Percent of Category</th>\n    </tr>\n  </thead>\n  <tbody>\n    <tr>\n      <th id=\"T_27731_level0_row0\" class=\"row_heading level0 row0\" >0</th>\n      <td id=\"T_27731_row0_col0\" class=\"data row0 col0\" >Contra Costa County</td>\n      <td id=\"T_27731_row0_col1\" class=\"data row0 col1\" >82</td>\n      <td id=\"T_27731_row0_col2\" class=\"data row0 col2\" >6.20%</td>\n    </tr>\n    <tr>\n      <th id=\"T_27731_level0_row1\" class=\"row_heading level0 row1\" >1</th>\n      <td id=\"T_27731_row1_col0\" class=\"data row1 col0\" >Oakland</td>\n      <td id=\"T_27731_row1_col1\" class=\"data row1 col1\" >82</td>\n      <td id=\"T_27731_row1_col2\" class=\"data row1 col2\" >6.20%</td>\n    </tr>\n    <tr>\n      <th id=\"T_27731_level0_row2\" class=\"row_heading level0 row2\" >2</th>\n      <td id=\"T_27731_row2_col0\" class=\"data row2 col0\" >San Jose</td>\n      <td id=\"T_27731_row2_col1\" class=\"data row2 col1\" >66</td>\n      <td id=\"T_27731_row2_col2\" class=\"data row2 col2\" >4.99%</td>\n    </tr>\n    <tr>\n      <th id=\"T_27731_level0_row3\" class=\"row_heading level0 row3\" >3</th>\n      <td id=\"T_27731_row3_col0\" class=\"data row3 col0\" >San Francisco County</td>\n      <td id=\"T_27731_row3_col1\" class=\"data row3 col1\" >45</td>\n      <td id=\"T_27731_row3_col2\" class=\"data row3 col2\" >3.40%</td>\n    </tr>\n    <tr>\n      <th id=\"T_27731_level0_row4\" class=\"row_heading level0 row4\" >4</th>\n      <td id=\"T_27731_row4_col0\" class=\"data row4 col0\" >Sunnyvale</td>\n      <td id=\"T_27731_row4_col1\" class=\"data row4 col1\" >45</td>\n      <td id=\"T_27731_row4_col2\" class=\"data row4 col2\" >3.40%</td>\n    </tr>\n  </tbody>\n</table>\n",
          "text/plain": "<pandas.io.formats.style.Styler at 0x7f63d87abe80>"
=======
          "text/html": "<style type=\"text/css\">\n</style>\n<table id=\"T_67dd5\">\n  <thead>\n    <tr>\n      <th class=\"blank level0\" >&nbsp;</th>\n      <th id=\"T_67dd5_level0_col0\" class=\"col_heading level0 col0\" >Agency</th>\n      <th id=\"T_67dd5_level0_col1\" class=\"col_heading level0 col1\" >Infrastructure & Emergency Relief Obligations</th>\n      <th id=\"T_67dd5_level0_col2\" class=\"col_heading level0 col2\" >Percent of Category</th>\n    </tr>\n  </thead>\n  <tbody>\n    <tr>\n      <th id=\"T_67dd5_level0_row0\" class=\"row_heading level0 row0\" >0</th>\n      <td id=\"T_67dd5_row0_col0\" class=\"data row0 col0\" >Contra Costa County</td>\n      <td id=\"T_67dd5_row0_col1\" class=\"data row0 col1\" >103</td>\n      <td id=\"T_67dd5_row0_col2\" class=\"data row0 col2\" >5.24%</td>\n    </tr>\n    <tr>\n      <th id=\"T_67dd5_level0_row1\" class=\"row_heading level0 row1\" >1</th>\n      <td id=\"T_67dd5_row1_col0\" class=\"data row1 col0\" >Napa County</td>\n      <td id=\"T_67dd5_row1_col1\" class=\"data row1 col1\" >88</td>\n      <td id=\"T_67dd5_row1_col2\" class=\"data row1 col2\" >4.48%</td>\n    </tr>\n    <tr>\n      <th id=\"T_67dd5_level0_row2\" class=\"row_heading level0 row2\" >2</th>\n      <td id=\"T_67dd5_row2_col0\" class=\"data row2 col0\" >Santa Clara County</td>\n      <td id=\"T_67dd5_row2_col1\" class=\"data row2 col1\" >82</td>\n      <td id=\"T_67dd5_row2_col2\" class=\"data row2 col2\" >4.17%</td>\n    </tr>\n    <tr>\n      <th id=\"T_67dd5_level0_row3\" class=\"row_heading level0 row3\" >3</th>\n      <td id=\"T_67dd5_row3_col0\" class=\"data row3 col0\" >Sonoma County</td>\n      <td id=\"T_67dd5_row3_col1\" class=\"data row3 col1\" >71</td>\n      <td id=\"T_67dd5_row3_col2\" class=\"data row3 col2\" >3.61%</td>\n    </tr>\n    <tr>\n      <th id=\"T_67dd5_level0_row4\" class=\"row_heading level0 row4\" >4</th>\n      <td id=\"T_67dd5_row4_col0\" class=\"data row4 col0\" >Oakland</td>\n      <td id=\"T_67dd5_row4_col1\" class=\"data row4 col1\" >70</td>\n      <td id=\"T_67dd5_row4_col2\" class=\"data row4 col2\" >3.56%</td>\n    </tr>\n  </tbody>\n</table>\n",
          "text/plain": "<pandas.io.formats.style.Styler at 0x7f160f911f70>"
>>>>>>> Stashed changes
         },
         "metadata": {},
         "output_type": "display_data"
        }
       ]
      }
     },
<<<<<<< Updated upstream
     "5053e6d63582412787844c7124002bb7": {
=======
     "2f47bce226214f63b33814fb6b7d7a27": {
>>>>>>> Stashed changes
      "model_module": "@jupyter-widgets/base",
      "model_module_version": "1.2.0",
      "model_name": "LayoutModel",
      "state": {}
     },
<<<<<<< Updated upstream
     "5301e3c495a64941a6061e6e6aa522ac": {
=======
     "3e3a158704e242edb0f7813f1e16abf8": {
      "model_module": "@jupyter-widgets/base",
      "model_module_version": "1.2.0",
      "model_name": "LayoutModel",
      "state": {}
     },
     "4aa105cd24ba4e239b302c41f7976f22": {
      "model_module": "@jupyter-widgets/base",
      "model_module_version": "1.2.0",
      "model_name": "LayoutModel",
      "state": {}
     },
     "4de2571886294dbe8e06102d6d7eb817": {
      "model_module": "@jupyter-widgets/base",
      "model_module_version": "1.2.0",
      "model_name": "LayoutModel",
      "state": {}
     },
     "5291971d05ba42f48814a4d717bf6ceb": {
      "model_module": "@jupyter-widgets/base",
      "model_module_version": "1.2.0",
      "model_name": "LayoutModel",
      "state": {}
     },
     "54da41bf449c4f9e9c6e33943e8306e6": {
      "model_module": "@jupyter-widgets/base",
      "model_module_version": "1.2.0",
      "model_name": "LayoutModel",
      "state": {}
     },
     "5804d6a4bf7d47888a4f6e470f4d3c40": {
>>>>>>> Stashed changes
      "model_module": "@jupyter-widgets/output",
      "model_module_version": "1.0.0",
      "model_name": "OutputModel",
      "state": {
<<<<<<< Updated upstream
       "layout": "IPY_MODEL_7203ce987fe843629feefa726dda7191",
       "outputs": [
        {
         "data": {
          "text/markdown": "<h2>Top Agencies using Congestion Relief Projects</h2>",
=======
       "layout": "IPY_MODEL_3e3a158704e242edb0f7813f1e16abf8",
       "outputs": [
        {
         "data": {
          "text/markdown": "<h3>Top Agencies using Street Projects</h3>",
>>>>>>> Stashed changes
          "text/plain": "<IPython.core.display.Markdown object>"
         },
         "metadata": {},
         "output_type": "display_data"
        },
        {
         "data": {
<<<<<<< Updated upstream
          "text/html": "<style type=\"text/css\">\n</style>\n<table id=\"T_57d14\">\n  <thead>\n    <tr>\n      <th class=\"blank level0\" >&nbsp;</th>\n      <th id=\"T_57d14_level0_col0\" class=\"col_heading level0 col0\" >Agency</th>\n      <th id=\"T_57d14_level0_col1\" class=\"col_heading level0 col1\" >Congestion Relief Obligations</th>\n      <th id=\"T_57d14_level0_col2\" class=\"col_heading level0 col2\" >Percent of Category</th>\n    </tr>\n  </thead>\n  <tbody>\n    <tr>\n      <th id=\"T_57d14_level0_row0\" class=\"row_heading level0 row0\" >0</th>\n      <td id=\"T_57d14_row0_col0\" class=\"data row0 col0\" >Contra Costa Transportation Authority</td>\n      <td id=\"T_57d14_row0_col1\" class=\"data row0 col1\" >6</td>\n      <td id=\"T_57d14_row0_col2\" class=\"data row0 col2\" >22.22%</td>\n    </tr>\n    <tr>\n      <th id=\"T_57d14_level0_row1\" class=\"row_heading level0 row1\" >1</th>\n      <td id=\"T_57d14_row1_col0\" class=\"data row1 col0\" >Metropolitan Transportation Commission</td>\n      <td id=\"T_57d14_row1_col1\" class=\"data row1 col1\" >5</td>\n      <td id=\"T_57d14_row1_col2\" class=\"data row1 col2\" >18.52%</td>\n    </tr>\n    <tr>\n      <th id=\"T_57d14_level0_row2\" class=\"row_heading level0 row2\" >2</th>\n      <td id=\"T_57d14_row2_col0\" class=\"data row2 col0\" >Sonoma County Transportation Authority</td>\n      <td id=\"T_57d14_row2_col1\" class=\"data row2 col1\" >4</td>\n      <td id=\"T_57d14_row2_col2\" class=\"data row2 col2\" >14.81%</td>\n    </tr>\n    <tr>\n      <th id=\"T_57d14_level0_row3\" class=\"row_heading level0 row3\" >3</th>\n      <td id=\"T_57d14_row3_col0\" class=\"data row3 col0\" >San Mateo</td>\n      <td id=\"T_57d14_row3_col1\" class=\"data row3 col1\" >3</td>\n      <td id=\"T_57d14_row3_col2\" class=\"data row3 col2\" >11.11%</td>\n    </tr>\n    <tr>\n      <th id=\"T_57d14_level0_row4\" class=\"row_heading level0 row4\" >4</th>\n      <td id=\"T_57d14_row4_col0\" class=\"data row4 col0\" >Solano Transportation Authority</td>\n      <td id=\"T_57d14_row4_col1\" class=\"data row4 col1\" >3</td>\n      <td id=\"T_57d14_row4_col2\" class=\"data row4 col2\" >11.11%</td>\n    </tr>\n  </tbody>\n</table>\n",
          "text/plain": "<pandas.io.formats.style.Styler at 0x7f63d879efa0>"
=======
          "text/html": "<style type=\"text/css\">\n</style>\n<table id=\"T_a7b54\">\n  <thead>\n    <tr>\n      <th class=\"blank level0\" >&nbsp;</th>\n      <th id=\"T_a7b54_level0_col0\" class=\"col_heading level0 col0\" >Agency</th>\n      <th id=\"T_a7b54_level0_col1\" class=\"col_heading level0 col1\" >Street Obligations</th>\n      <th id=\"T_a7b54_level0_col2\" class=\"col_heading level0 col2\" >Percent of Category</th>\n    </tr>\n  </thead>\n  <tbody>\n    <tr>\n      <th id=\"T_a7b54_level0_row0\" class=\"row_heading level0 row0\" >0</th>\n      <td id=\"T_a7b54_row0_col0\" class=\"data row0 col0\" >Contra Costa County</td>\n      <td id=\"T_a7b54_row0_col1\" class=\"data row0 col1\" >82</td>\n      <td id=\"T_a7b54_row0_col2\" class=\"data row0 col2\" >6.20%</td>\n    </tr>\n    <tr>\n      <th id=\"T_a7b54_level0_row1\" class=\"row_heading level0 row1\" >1</th>\n      <td id=\"T_a7b54_row1_col0\" class=\"data row1 col0\" >Oakland</td>\n      <td id=\"T_a7b54_row1_col1\" class=\"data row1 col1\" >82</td>\n      <td id=\"T_a7b54_row1_col2\" class=\"data row1 col2\" >6.20%</td>\n    </tr>\n    <tr>\n      <th id=\"T_a7b54_level0_row2\" class=\"row_heading level0 row2\" >2</th>\n      <td id=\"T_a7b54_row2_col0\" class=\"data row2 col0\" >San Jose</td>\n      <td id=\"T_a7b54_row2_col1\" class=\"data row2 col1\" >66</td>\n      <td id=\"T_a7b54_row2_col2\" class=\"data row2 col2\" >4.99%</td>\n    </tr>\n    <tr>\n      <th id=\"T_a7b54_level0_row3\" class=\"row_heading level0 row3\" >3</th>\n      <td id=\"T_a7b54_row3_col0\" class=\"data row3 col0\" >San Francisco County</td>\n      <td id=\"T_a7b54_row3_col1\" class=\"data row3 col1\" >45</td>\n      <td id=\"T_a7b54_row3_col2\" class=\"data row3 col2\" >3.40%</td>\n    </tr>\n    <tr>\n      <th id=\"T_a7b54_level0_row4\" class=\"row_heading level0 row4\" >4</th>\n      <td id=\"T_a7b54_row4_col0\" class=\"data row4 col0\" >Sunnyvale</td>\n      <td id=\"T_a7b54_row4_col1\" class=\"data row4 col1\" >45</td>\n      <td id=\"T_a7b54_row4_col2\" class=\"data row4 col2\" >3.40%</td>\n    </tr>\n  </tbody>\n</table>\n",
          "text/plain": "<pandas.io.formats.style.Styler at 0x7f160f940d00>"
>>>>>>> Stashed changes
         },
         "metadata": {},
         "output_type": "display_data"
        }
       ]
      }
     },
<<<<<<< Updated upstream
     "5a126f60c50644f2a3401def6af2f6f1": {
=======
     "6171a34343c74e00bb8e3b2849e28c52": {
>>>>>>> Stashed changes
      "model_module": "@jupyter-widgets/output",
      "model_module_version": "1.0.0",
      "model_name": "OutputModel",
      "state": {
<<<<<<< Updated upstream
       "layout": "IPY_MODEL_5053e6d63582412787844c7124002bb7",
       "outputs": [
        {
         "data": {
          "text/markdown": "<h2>Top Agencies using Infrastructure & Emergency Relief Projects</h2>",
=======
       "layout": "IPY_MODEL_4aa105cd24ba4e239b302c41f7976f22",
       "outputs": [
        {
         "data": {
          "text/markdown": "<h3>Top Agencies using Congestion Relief Projects</h3>",
>>>>>>> Stashed changes
          "text/plain": "<IPython.core.display.Markdown object>"
         },
         "metadata": {},
         "output_type": "display_data"
        },
        {
         "data": {
<<<<<<< Updated upstream
          "text/html": "<style type=\"text/css\">\n</style>\n<table id=\"T_1d747\">\n  <thead>\n    <tr>\n      <th class=\"blank level0\" >&nbsp;</th>\n      <th id=\"T_1d747_level0_col0\" class=\"col_heading level0 col0\" >Agency</th>\n      <th id=\"T_1d747_level0_col1\" class=\"col_heading level0 col1\" >Infrastructure & Emergency Relief Obligations</th>\n      <th id=\"T_1d747_level0_col2\" class=\"col_heading level0 col2\" >Percent of Category</th>\n    </tr>\n  </thead>\n  <tbody>\n    <tr>\n      <th id=\"T_1d747_level0_row0\" class=\"row_heading level0 row0\" >0</th>\n      <td id=\"T_1d747_row0_col0\" class=\"data row0 col0\" >Contra Costa County</td>\n      <td id=\"T_1d747_row0_col1\" class=\"data row0 col1\" >103</td>\n      <td id=\"T_1d747_row0_col2\" class=\"data row0 col2\" >5.24%</td>\n    </tr>\n    <tr>\n      <th id=\"T_1d747_level0_row1\" class=\"row_heading level0 row1\" >1</th>\n      <td id=\"T_1d747_row1_col0\" class=\"data row1 col0\" >Napa County</td>\n      <td id=\"T_1d747_row1_col1\" class=\"data row1 col1\" >88</td>\n      <td id=\"T_1d747_row1_col2\" class=\"data row1 col2\" >4.48%</td>\n    </tr>\n    <tr>\n      <th id=\"T_1d747_level0_row2\" class=\"row_heading level0 row2\" >2</th>\n      <td id=\"T_1d747_row2_col0\" class=\"data row2 col0\" >Santa Clara County</td>\n      <td id=\"T_1d747_row2_col1\" class=\"data row2 col1\" >82</td>\n      <td id=\"T_1d747_row2_col2\" class=\"data row2 col2\" >4.17%</td>\n    </tr>\n    <tr>\n      <th id=\"T_1d747_level0_row3\" class=\"row_heading level0 row3\" >3</th>\n      <td id=\"T_1d747_row3_col0\" class=\"data row3 col0\" >Sonoma County</td>\n      <td id=\"T_1d747_row3_col1\" class=\"data row3 col1\" >71</td>\n      <td id=\"T_1d747_row3_col2\" class=\"data row3 col2\" >3.61%</td>\n    </tr>\n    <tr>\n      <th id=\"T_1d747_level0_row4\" class=\"row_heading level0 row4\" >4</th>\n      <td id=\"T_1d747_row4_col0\" class=\"data row4 col0\" >Oakland</td>\n      <td id=\"T_1d747_row4_col1\" class=\"data row4 col1\" >70</td>\n      <td id=\"T_1d747_row4_col2\" class=\"data row4 col2\" >3.56%</td>\n    </tr>\n  </tbody>\n</table>\n",
          "text/plain": "<pandas.io.formats.style.Styler at 0x7f63d87a8dc0>"
=======
          "text/html": "<style type=\"text/css\">\n</style>\n<table id=\"T_ad19e\">\n  <thead>\n    <tr>\n      <th class=\"blank level0\" >&nbsp;</th>\n      <th id=\"T_ad19e_level0_col0\" class=\"col_heading level0 col0\" >Agency</th>\n      <th id=\"T_ad19e_level0_col1\" class=\"col_heading level0 col1\" >Congestion Relief Obligations</th>\n      <th id=\"T_ad19e_level0_col2\" class=\"col_heading level0 col2\" >Percent of Category</th>\n    </tr>\n  </thead>\n  <tbody>\n    <tr>\n      <th id=\"T_ad19e_level0_row0\" class=\"row_heading level0 row0\" >0</th>\n      <td id=\"T_ad19e_row0_col0\" class=\"data row0 col0\" >Contra Costa Transportation Authority</td>\n      <td id=\"T_ad19e_row0_col1\" class=\"data row0 col1\" >6</td>\n      <td id=\"T_ad19e_row0_col2\" class=\"data row0 col2\" >22.22%</td>\n    </tr>\n    <tr>\n      <th id=\"T_ad19e_level0_row1\" class=\"row_heading level0 row1\" >1</th>\n      <td id=\"T_ad19e_row1_col0\" class=\"data row1 col0\" >Metropolitan Transportation Commission</td>\n      <td id=\"T_ad19e_row1_col1\" class=\"data row1 col1\" >5</td>\n      <td id=\"T_ad19e_row1_col2\" class=\"data row1 col2\" >18.52%</td>\n    </tr>\n    <tr>\n      <th id=\"T_ad19e_level0_row2\" class=\"row_heading level0 row2\" >2</th>\n      <td id=\"T_ad19e_row2_col0\" class=\"data row2 col0\" >Sonoma County Transportation Authority</td>\n      <td id=\"T_ad19e_row2_col1\" class=\"data row2 col1\" >4</td>\n      <td id=\"T_ad19e_row2_col2\" class=\"data row2 col2\" >14.81%</td>\n    </tr>\n    <tr>\n      <th id=\"T_ad19e_level0_row3\" class=\"row_heading level0 row3\" >3</th>\n      <td id=\"T_ad19e_row3_col0\" class=\"data row3 col0\" >San Mateo</td>\n      <td id=\"T_ad19e_row3_col1\" class=\"data row3 col1\" >3</td>\n      <td id=\"T_ad19e_row3_col2\" class=\"data row3 col2\" >11.11%</td>\n    </tr>\n    <tr>\n      <th id=\"T_ad19e_level0_row4\" class=\"row_heading level0 row4\" >4</th>\n      <td id=\"T_ad19e_row4_col0\" class=\"data row4 col0\" >Solano Transportation Authority</td>\n      <td id=\"T_ad19e_row4_col1\" class=\"data row4 col1\" >3</td>\n      <td id=\"T_ad19e_row4_col2\" class=\"data row4 col2\" >11.11%</td>\n    </tr>\n  </tbody>\n</table>\n",
          "text/plain": "<pandas.io.formats.style.Styler at 0x7f160f967820>"
>>>>>>> Stashed changes
         },
         "metadata": {},
         "output_type": "display_data"
        }
       ]
      }
     },
<<<<<<< Updated upstream
     "6c61f93ee89b4608869342c6971671ae": {
      "model_module": "@jupyter-widgets/base",
      "model_module_version": "1.2.0",
      "model_name": "LayoutModel",
      "state": {}
     },
     "7151e5ad7cdb445e97784ef30999fb28": {
=======
     "61a9aa2d6f604e97930e3aa3a23b8987": {
>>>>>>> Stashed changes
      "model_module": "@jupyter-widgets/output",
      "model_module_version": "1.0.0",
      "model_name": "OutputModel",
      "state": {
<<<<<<< Updated upstream
       "layout": "IPY_MODEL_f24b050804954febbcfcfb0631aed224",
       "outputs": [
        {
         "data": {
          "text/markdown": "<h2>Top Agencies using Freeway Projects</h2>",
=======
       "layout": "IPY_MODEL_2f47bce226214f63b33814fb6b7d7a27",
       "outputs": [
        {
         "data": {
          "text/markdown": "<h3>Top Agencies using Active Transportation Projects</h3>",
>>>>>>> Stashed changes
          "text/plain": "<IPython.core.display.Markdown object>"
         },
         "metadata": {},
         "output_type": "display_data"
        },
        {
         "data": {
<<<<<<< Updated upstream
          "text/html": "<style type=\"text/css\">\n</style>\n<table id=\"T_85915\">\n  <thead>\n    <tr>\n      <th class=\"blank level0\" >&nbsp;</th>\n      <th id=\"T_85915_level0_col0\" class=\"col_heading level0 col0\" >Agency</th>\n      <th id=\"T_85915_level0_col1\" class=\"col_heading level0 col1\" >Freeway Obligations</th>\n      <th id=\"T_85915_level0_col2\" class=\"col_heading level0 col2\" >Percent of Category</th>\n    </tr>\n  </thead>\n  <tbody>\n    <tr>\n      <th id=\"T_85915_level0_row0\" class=\"row_heading level0 row0\" >0</th>\n      <td id=\"T_85915_row0_col0\" class=\"data row0 col0\" >Metropolitan Transportation Commission</td>\n      <td id=\"T_85915_row0_col1\" class=\"data row0 col1\" >11</td>\n      <td id=\"T_85915_row0_col2\" class=\"data row0 col2\" >28.21%</td>\n    </tr>\n    <tr>\n      <th id=\"T_85915_level0_row1\" class=\"row_heading level0 row1\" >1</th>\n      <td id=\"T_85915_row1_col0\" class=\"data row1 col0\" >Contra Costa County</td>\n      <td id=\"T_85915_row1_col1\" class=\"data row1 col1\" >7</td>\n      <td id=\"T_85915_row1_col2\" class=\"data row1 col2\" >17.95%</td>\n    </tr>\n    <tr>\n      <th id=\"T_85915_level0_row2\" class=\"row_heading level0 row2\" >2</th>\n      <td id=\"T_85915_row2_col0\" class=\"data row2 col0\" >Caltrans</td>\n      <td id=\"T_85915_row2_col1\" class=\"data row2 col1\" >4</td>\n      <td id=\"T_85915_row2_col2\" class=\"data row2 col2\" >10.26%</td>\n    </tr>\n    <tr>\n      <th id=\"T_85915_level0_row3\" class=\"row_heading level0 row3\" >3</th>\n      <td id=\"T_85915_row3_col0\" class=\"data row3 col0\" >Metropolitan Transportation Commission - SAFE</td>\n      <td id=\"T_85915_row3_col1\" class=\"data row3 col1\" >3</td>\n      <td id=\"T_85915_row3_col2\" class=\"data row3 col2\" >7.69%</td>\n    </tr>\n    <tr>\n      <th id=\"T_85915_level0_row4\" class=\"row_heading level0 row4\" >4</th>\n      <td id=\"T_85915_row4_col0\" class=\"data row4 col0\" >Alameda County Congestion Management Agency</td>\n      <td id=\"T_85915_row4_col1\" class=\"data row4 col1\" >2</td>\n      <td id=\"T_85915_row4_col2\" class=\"data row4 col2\" >5.13%</td>\n    </tr>\n  </tbody>\n</table>\n",
          "text/plain": "<pandas.io.formats.style.Styler at 0x7f63d87e01c0>"
=======
          "text/html": "<style type=\"text/css\">\n</style>\n<table id=\"T_825d9\">\n  <thead>\n    <tr>\n      <th class=\"blank level0\" >&nbsp;</th>\n      <th id=\"T_825d9_level0_col0\" class=\"col_heading level0 col0\" >Agency</th>\n      <th id=\"T_825d9_level0_col1\" class=\"col_heading level0 col1\" >Active Transportation Obligations</th>\n      <th id=\"T_825d9_level0_col2\" class=\"col_heading level0 col2\" >Percent of Category</th>\n    </tr>\n  </thead>\n  <tbody>\n    <tr>\n      <th id=\"T_825d9_level0_row0\" class=\"row_heading level0 row0\" >0</th>\n      <td id=\"T_825d9_row0_col0\" class=\"data row0 col0\" >San Jose</td>\n      <td id=\"T_825d9_row0_col1\" class=\"data row0 col1\" >79</td>\n      <td id=\"T_825d9_row0_col2\" class=\"data row0 col2\" >7.35%</td>\n    </tr>\n    <tr>\n      <th id=\"T_825d9_level0_row1\" class=\"row_heading level0 row1\" >1</th>\n      <td id=\"T_825d9_row1_col0\" class=\"data row1 col0\" >Oakland</td>\n      <td id=\"T_825d9_row1_col1\" class=\"data row1 col1\" >65</td>\n      <td id=\"T_825d9_row1_col2\" class=\"data row1 col2\" >6.05%</td>\n    </tr>\n    <tr>\n      <th id=\"T_825d9_level0_row2\" class=\"row_heading level0 row2\" >2</th>\n      <td id=\"T_825d9_row2_col0\" class=\"data row2 col0\" >City & County of San Francisco, MTA/Parking & Traffic</td>\n      <td id=\"T_825d9_row2_col1\" class=\"data row2 col1\" >46</td>\n      <td id=\"T_825d9_row2_col2\" class=\"data row2 col2\" >4.28%</td>\n    </tr>\n    <tr>\n      <th id=\"T_825d9_level0_row3\" class=\"row_heading level0 row3\" >3</th>\n      <td id=\"T_825d9_row3_col0\" class=\"data row3 col0\" >Sunnyvale</td>\n      <td id=\"T_825d9_row3_col1\" class=\"data row3 col1\" >45</td>\n      <td id=\"T_825d9_row3_col2\" class=\"data row3 col2\" >4.19%</td>\n    </tr>\n    <tr>\n      <th id=\"T_825d9_level0_row4\" class=\"row_heading level0 row4\" >4</th>\n      <td id=\"T_825d9_row4_col0\" class=\"data row4 col0\" >Contra Costa County</td>\n      <td id=\"T_825d9_row4_col1\" class=\"data row4 col1\" >39</td>\n      <td id=\"T_825d9_row4_col2\" class=\"data row4 col2\" >3.63%</td>\n    </tr>\n  </tbody>\n</table>\n",
          "text/plain": "<pandas.io.formats.style.Styler at 0x7f160f95d310>"
>>>>>>> Stashed changes
         },
         "metadata": {},
         "output_type": "display_data"
        }
       ]
      }
     },
<<<<<<< Updated upstream
     "7203ce987fe843629feefa726dda7191": {
      "model_module": "@jupyter-widgets/base",
      "model_module_version": "1.2.0",
      "model_name": "LayoutModel",
      "state": {}
     },
     "839097b253654ee0998c0e365a969f07": {
=======
     "93c473c8a3eb41c0ab683db7b1534ad7": {
      "model_module": "@jupyter-widgets/controls",
      "model_module_version": "1.5.0",
      "model_name": "TabModel",
      "state": {
       "_titles": {
        "0": "Active Transportation",
        "1": "Transit",
        "2": "Bridge",
        "3": "Street",
        "4": "Freeway",
        "5": "Infrastructure & Emergency Relief",
        "6": "Congestion Relief"
       },
       "children": [
        "IPY_MODEL_61a9aa2d6f604e97930e3aa3a23b8987",
        "IPY_MODEL_065bbc48f56d41b0a37dd16a1e5ffa27",
        "IPY_MODEL_9c49cde9153b4b718654a6929e4eafc3",
        "IPY_MODEL_5804d6a4bf7d47888a4f6e470f4d3c40",
        "IPY_MODEL_eee37b61ed354d2498a1c24c260b23a3",
        "IPY_MODEL_2092a246e49b41c789c391c6905e89af",
        "IPY_MODEL_6171a34343c74e00bb8e3b2849e28c52"
       ],
       "layout": "IPY_MODEL_5291971d05ba42f48814a4d717bf6ceb"
      }
     },
     "961c4c604a9f46ad9c77518ce58e3746": {
>>>>>>> Stashed changes
      "model_module": "@jupyter-widgets/base",
      "model_module_version": "1.2.0",
      "model_name": "LayoutModel",
      "state": {}
     },
<<<<<<< Updated upstream
     "858358e974d54797831fc5800558c41e": {
=======
     "9c49cde9153b4b718654a6929e4eafc3": {
>>>>>>> Stashed changes
      "model_module": "@jupyter-widgets/output",
      "model_module_version": "1.0.0",
      "model_name": "OutputModel",
      "state": {
<<<<<<< Updated upstream
       "layout": "IPY_MODEL_df9fd7b72ba844c4836e2a9e66133274",
       "outputs": [
        {
         "data": {
          "text/markdown": "<h2>Top Agencies using Transit Projects</h2>",
=======
       "layout": "IPY_MODEL_54da41bf449c4f9e9c6e33943e8306e6",
       "outputs": [
        {
         "data": {
          "text/markdown": "<h3>Top Agencies using Bridge Projects</h3>",
>>>>>>> Stashed changes
          "text/plain": "<IPython.core.display.Markdown object>"
         },
         "metadata": {},
         "output_type": "display_data"
        },
        {
         "data": {
<<<<<<< Updated upstream
          "text/html": "<style type=\"text/css\">\n</style>\n<table id=\"T_8f102\">\n  <thead>\n    <tr>\n      <th class=\"blank level0\" >&nbsp;</th>\n      <th id=\"T_8f102_level0_col0\" class=\"col_heading level0 col0\" >Agency</th>\n      <th id=\"T_8f102_level0_col1\" class=\"col_heading level0 col1\" >Transit Obligations</th>\n      <th id=\"T_8f102_level0_col2\" class=\"col_heading level0 col2\" >Percent of Category</th>\n    </tr>\n  </thead>\n  <tbody>\n    <tr>\n      <th id=\"T_8f102_level0_row0\" class=\"row_heading level0 row0\" >0</th>\n      <td id=\"T_8f102_row0_col0\" class=\"data row0 col0\" >Metropolitan Transportation Commission</td>\n      <td id=\"T_8f102_row0_col1\" class=\"data row0 col1\" >18</td>\n      <td id=\"T_8f102_row0_col2\" class=\"data row0 col2\" >28.57%</td>\n    </tr>\n    <tr>\n      <th id=\"T_8f102_level0_row1\" class=\"row_heading level0 row1\" >1</th>\n      <td id=\"T_8f102_row1_col0\" class=\"data row1 col0\" >Sunnyvale</td>\n      <td id=\"T_8f102_row1_col1\" class=\"data row1 col1\" >6</td>\n      <td id=\"T_8f102_row1_col2\" class=\"data row1 col2\" >9.52%</td>\n    </tr>\n    <tr>\n      <th id=\"T_8f102_level0_row2\" class=\"row_heading level0 row2\" >2</th>\n      <td id=\"T_8f102_row2_col0\" class=\"data row2 col0\" >Oakland</td>\n      <td id=\"T_8f102_row2_col1\" class=\"data row2 col1\" >4</td>\n      <td id=\"T_8f102_row2_col2\" class=\"data row2 col2\" >6.35%</td>\n    </tr>\n    <tr>\n      <th id=\"T_8f102_level0_row3\" class=\"row_heading level0 row3\" >3</th>\n      <td id=\"T_8f102_row3_col0\" class=\"data row3 col0\" >San Jose</td>\n      <td id=\"T_8f102_row3_col1\" class=\"data row3 col1\" >4</td>\n      <td id=\"T_8f102_row3_col2\" class=\"data row3 col2\" >6.35%</td>\n    </tr>\n    <tr>\n      <th id=\"T_8f102_level0_row4\" class=\"row_heading level0 row4\" >4</th>\n      <td id=\"T_8f102_row4_col0\" class=\"data row4 col0\" >San Leandro</td>\n      <td id=\"T_8f102_row4_col1\" class=\"data row4 col1\" >4</td>\n      <td id=\"T_8f102_row4_col2\" class=\"data row4 col2\" >6.35%</td>\n    </tr>\n  </tbody>\n</table>\n",
          "text/plain": "<pandas.io.formats.style.Styler at 0x7f63d87ab1f0>"
=======
          "text/html": "<style type=\"text/css\">\n</style>\n<table id=\"T_ba603\">\n  <thead>\n    <tr>\n      <th class=\"blank level0\" >&nbsp;</th>\n      <th id=\"T_ba603_level0_col0\" class=\"col_heading level0 col0\" >Agency</th>\n      <th id=\"T_ba603_level0_col1\" class=\"col_heading level0 col1\" >Bridge Obligations</th>\n      <th id=\"T_ba603_level0_col2\" class=\"col_heading level0 col2\" >Percent of Category</th>\n    </tr>\n  </thead>\n  <tbody>\n    <tr>\n      <th id=\"T_ba603_level0_row0\" class=\"row_heading level0 row0\" >0</th>\n      <td id=\"T_ba603_row0_col0\" class=\"data row0 col0\" >Santa Clara County</td>\n      <td id=\"T_ba603_row0_col1\" class=\"data row0 col1\" >68</td>\n      <td id=\"T_ba603_row0_col2\" class=\"data row0 col2\" >14.11%</td>\n    </tr>\n    <tr>\n      <th id=\"T_ba603_level0_row1\" class=\"row_heading level0 row1\" >1</th>\n      <td id=\"T_ba603_row1_col0\" class=\"data row1 col0\" >Contra Costa County</td>\n      <td id=\"T_ba603_row1_col1\" class=\"data row1 col1\" >44</td>\n      <td id=\"T_ba603_row1_col2\" class=\"data row1 col2\" >9.13%</td>\n    </tr>\n    <tr>\n      <th id=\"T_ba603_level0_row2\" class=\"row_heading level0 row2\" >2</th>\n      <td id=\"T_ba603_row2_col0\" class=\"data row2 col0\" >Sonoma County</td>\n      <td id=\"T_ba603_row2_col1\" class=\"data row2 col1\" >34</td>\n      <td id=\"T_ba603_row2_col2\" class=\"data row2 col2\" >7.05%</td>\n    </tr>\n    <tr>\n      <th id=\"T_ba603_level0_row3\" class=\"row_heading level0 row3\" >3</th>\n      <td id=\"T_ba603_row3_col0\" class=\"data row3 col0\" >Napa County</td>\n      <td id=\"T_ba603_row3_col1\" class=\"data row3 col1\" >25</td>\n      <td id=\"T_ba603_row3_col2\" class=\"data row3 col2\" >5.19%</td>\n    </tr>\n    <tr>\n      <th id=\"T_ba603_level0_row4\" class=\"row_heading level0 row4\" >4</th>\n      <td id=\"T_ba603_row4_col0\" class=\"data row4 col0\" >Oakland</td>\n      <td id=\"T_ba603_row4_col1\" class=\"data row4 col1\" >22</td>\n      <td id=\"T_ba603_row4_col2\" class=\"data row4 col2\" >4.56%</td>\n    </tr>\n  </tbody>\n</table>\n",
          "text/plain": "<pandas.io.formats.style.Styler at 0x7f160f9677f0>"
>>>>>>> Stashed changes
         },
         "metadata": {},
         "output_type": "display_data"
        }
       ]
      }
     },
<<<<<<< Updated upstream
     "a353e116fea441f8a4409bef3f9cf2f6": {
      "model_module": "@jupyter-widgets/base",
      "model_module_version": "1.2.0",
      "model_name": "LayoutModel",
      "state": {}
     },
     "b9bb1865bb0443839d654ed738678aeb": {
      "model_module": "@jupyter-widgets/controls",
      "model_module_version": "1.5.0",
      "model_name": "TabModel",
      "state": {
       "_titles": {
        "0": "Active Transportation",
        "1": "Transit",
        "2": "Bridge",
        "3": "Street",
        "4": "Freeway",
        "5": "Infrastructure & Emergency Relief",
        "6": "Congestion Relief"
       },
       "children": [
        "IPY_MODEL_09c1fe79d4ab453c8b4d617fae30ea35",
        "IPY_MODEL_858358e974d54797831fc5800558c41e",
        "IPY_MODEL_c5be9caf680e4eb283cd9f84b48e4ead",
        "IPY_MODEL_1e14453291f14c4fa54fd94a06ceda85",
        "IPY_MODEL_7151e5ad7cdb445e97784ef30999fb28",
        "IPY_MODEL_5a126f60c50644f2a3401def6af2f6f1",
        "IPY_MODEL_5301e3c495a64941a6061e6e6aa522ac"
       ],
       "layout": "IPY_MODEL_6c61f93ee89b4608869342c6971671ae"
      }
     },
     "c536b0ea6a6e4f1b8cf69eb77655ca6a": {
=======
     "e9266c82479b4f229c49264592c0bf42": {
>>>>>>> Stashed changes
      "model_module": "@jupyter-widgets/base",
      "model_module_version": "1.2.0",
      "model_name": "LayoutModel",
      "state": {}
     },
<<<<<<< Updated upstream
     "c5be9caf680e4eb283cd9f84b48e4ead": {
=======
     "eee37b61ed354d2498a1c24c260b23a3": {
>>>>>>> Stashed changes
      "model_module": "@jupyter-widgets/output",
      "model_module_version": "1.0.0",
      "model_name": "OutputModel",
      "state": {
<<<<<<< Updated upstream
       "layout": "IPY_MODEL_c536b0ea6a6e4f1b8cf69eb77655ca6a",
       "outputs": [
        {
         "data": {
          "text/markdown": "<h2>Top Agencies using Bridge Projects</h2>",
=======
       "layout": "IPY_MODEL_e9266c82479b4f229c49264592c0bf42",
       "outputs": [
        {
         "data": {
          "text/markdown": "<h3>Top Agencies using Freeway Projects</h3>",
>>>>>>> Stashed changes
          "text/plain": "<IPython.core.display.Markdown object>"
         },
         "metadata": {},
         "output_type": "display_data"
        },
        {
         "data": {
<<<<<<< Updated upstream
          "text/html": "<style type=\"text/css\">\n</style>\n<table id=\"T_4664a\">\n  <thead>\n    <tr>\n      <th class=\"blank level0\" >&nbsp;</th>\n      <th id=\"T_4664a_level0_col0\" class=\"col_heading level0 col0\" >Agency</th>\n      <th id=\"T_4664a_level0_col1\" class=\"col_heading level0 col1\" >Bridge Obligations</th>\n      <th id=\"T_4664a_level0_col2\" class=\"col_heading level0 col2\" >Percent of Category</th>\n    </tr>\n  </thead>\n  <tbody>\n    <tr>\n      <th id=\"T_4664a_level0_row0\" class=\"row_heading level0 row0\" >0</th>\n      <td id=\"T_4664a_row0_col0\" class=\"data row0 col0\" >Santa Clara County</td>\n      <td id=\"T_4664a_row0_col1\" class=\"data row0 col1\" >68</td>\n      <td id=\"T_4664a_row0_col2\" class=\"data row0 col2\" >14.11%</td>\n    </tr>\n    <tr>\n      <th id=\"T_4664a_level0_row1\" class=\"row_heading level0 row1\" >1</th>\n      <td id=\"T_4664a_row1_col0\" class=\"data row1 col0\" >Contra Costa County</td>\n      <td id=\"T_4664a_row1_col1\" class=\"data row1 col1\" >44</td>\n      <td id=\"T_4664a_row1_col2\" class=\"data row1 col2\" >9.13%</td>\n    </tr>\n    <tr>\n      <th id=\"T_4664a_level0_row2\" class=\"row_heading level0 row2\" >2</th>\n      <td id=\"T_4664a_row2_col0\" class=\"data row2 col0\" >Sonoma County</td>\n      <td id=\"T_4664a_row2_col1\" class=\"data row2 col1\" >34</td>\n      <td id=\"T_4664a_row2_col2\" class=\"data row2 col2\" >7.05%</td>\n    </tr>\n    <tr>\n      <th id=\"T_4664a_level0_row3\" class=\"row_heading level0 row3\" >3</th>\n      <td id=\"T_4664a_row3_col0\" class=\"data row3 col0\" >Napa County</td>\n      <td id=\"T_4664a_row3_col1\" class=\"data row3 col1\" >25</td>\n      <td id=\"T_4664a_row3_col2\" class=\"data row3 col2\" >5.19%</td>\n    </tr>\n    <tr>\n      <th id=\"T_4664a_level0_row4\" class=\"row_heading level0 row4\" >4</th>\n      <td id=\"T_4664a_row4_col0\" class=\"data row4 col0\" >Oakland</td>\n      <td id=\"T_4664a_row4_col1\" class=\"data row4 col1\" >22</td>\n      <td id=\"T_4664a_row4_col2\" class=\"data row4 col2\" >4.56%</td>\n    </tr>\n  </tbody>\n</table>\n",
          "text/plain": "<pandas.io.formats.style.Styler at 0x7f63d8792b20>"
=======
          "text/html": "<style type=\"text/css\">\n</style>\n<table id=\"T_400c1\">\n  <thead>\n    <tr>\n      <th class=\"blank level0\" >&nbsp;</th>\n      <th id=\"T_400c1_level0_col0\" class=\"col_heading level0 col0\" >Agency</th>\n      <th id=\"T_400c1_level0_col1\" class=\"col_heading level0 col1\" >Freeway Obligations</th>\n      <th id=\"T_400c1_level0_col2\" class=\"col_heading level0 col2\" >Percent of Category</th>\n    </tr>\n  </thead>\n  <tbody>\n    <tr>\n      <th id=\"T_400c1_level0_row0\" class=\"row_heading level0 row0\" >0</th>\n      <td id=\"T_400c1_row0_col0\" class=\"data row0 col0\" >Metropolitan Transportation Commission</td>\n      <td id=\"T_400c1_row0_col1\" class=\"data row0 col1\" >11</td>\n      <td id=\"T_400c1_row0_col2\" class=\"data row0 col2\" >28.21%</td>\n    </tr>\n    <tr>\n      <th id=\"T_400c1_level0_row1\" class=\"row_heading level0 row1\" >1</th>\n      <td id=\"T_400c1_row1_col0\" class=\"data row1 col0\" >Contra Costa County</td>\n      <td id=\"T_400c1_row1_col1\" class=\"data row1 col1\" >7</td>\n      <td id=\"T_400c1_row1_col2\" class=\"data row1 col2\" >17.95%</td>\n    </tr>\n    <tr>\n      <th id=\"T_400c1_level0_row2\" class=\"row_heading level0 row2\" >2</th>\n      <td id=\"T_400c1_row2_col0\" class=\"data row2 col0\" >Caltrans</td>\n      <td id=\"T_400c1_row2_col1\" class=\"data row2 col1\" >4</td>\n      <td id=\"T_400c1_row2_col2\" class=\"data row2 col2\" >10.26%</td>\n    </tr>\n    <tr>\n      <th id=\"T_400c1_level0_row3\" class=\"row_heading level0 row3\" >3</th>\n      <td id=\"T_400c1_row3_col0\" class=\"data row3 col0\" >Metropolitan Transportation Commission - SAFE</td>\n      <td id=\"T_400c1_row3_col1\" class=\"data row3 col1\" >3</td>\n      <td id=\"T_400c1_row3_col2\" class=\"data row3 col2\" >7.69%</td>\n    </tr>\n    <tr>\n      <th id=\"T_400c1_level0_row4\" class=\"row_heading level0 row4\" >4</th>\n      <td id=\"T_400c1_row4_col0\" class=\"data row4 col0\" >Alameda County Congestion Management Agency</td>\n      <td id=\"T_400c1_row4_col1\" class=\"data row4 col1\" >2</td>\n      <td id=\"T_400c1_row4_col2\" class=\"data row4 col2\" >5.13%</td>\n    </tr>\n  </tbody>\n</table>\n",
          "text/plain": "<pandas.io.formats.style.Styler at 0x7f160f97bf70>"
>>>>>>> Stashed changes
         },
         "metadata": {},
         "output_type": "display_data"
        }
       ]
      }
<<<<<<< Updated upstream
     },
     "df9fd7b72ba844c4836e2a9e66133274": {
      "model_module": "@jupyter-widgets/base",
      "model_module_version": "1.2.0",
      "model_name": "LayoutModel",
      "state": {}
     },
     "f24b050804954febbcfcfb0631aed224": {
      "model_module": "@jupyter-widgets/base",
      "model_module_version": "1.2.0",
      "model_name": "LayoutModel",
      "state": {}
=======
>>>>>>> Stashed changes
     }
    },
    "version_major": 2,
    "version_minor": 0
   }
  }
 },
 "nbformat": 4,
 "nbformat_minor": 5
}
