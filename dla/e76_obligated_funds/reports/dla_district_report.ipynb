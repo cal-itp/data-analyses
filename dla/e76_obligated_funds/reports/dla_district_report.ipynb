{
 "cells": [
  {
   "cell_type": "markdown",
   "id": "c52ac033",
   "metadata": {
    "pycharm": {
     "name": "#%% md\n"
    }
   },
   "source": [
    "# **{district_title}**"
   ]
  },
  {
   "cell_type": "markdown",
   "id": "69a79097-e42c-4e22-aec5-62594d3f008f",
   "metadata": {},
   "source": [
    "<hr style=\"height: 2px; background-color:#136C97; border: none\">\n"
   ]
  },
  {
   "cell_type": "markdown",
   "id": "178948e4-f2ee-4978-87a6-e2eb560b0feb",
   "metadata": {},
   "source": [
    "How does funding for local agencies differ district to district? Using E-76 obligation data, we can gain insight to how agencies in District {district} use federal program funds, and help identify DLA‘s core customers."
   ]
  },
  {
   "cell_type": "code",
   "execution_count": null,
   "id": "92c5c56a",
   "metadata": {
    "collapsed": false,
    "jupyter": {
     "outputs_hidden": false
    },
    "pycharm": {
     "name": "#%%\n"
    }
   },
   "outputs": [],
   "source": [
    "%%capture\n",
    "\n",
    "import numpy as np\n",
    "import pandas as pd\n",
    "from siuba import *\n",
    "\n",
    "import altair as alt\n",
    "import altair_saver\n",
    "from plotnine import *\n",
    "\n",
    "from IPython.display import Markdown, HTML, Image\n",
    "import ipywidgets as widgets\n",
    "from ipywidgets import interact, interactive\n",
    "\n",
    "from calitp import to_snakecase\n",
    "import intake\n",
    "\n",
    "from shared_utils import calitp_color_palette as cp\n",
    "from shared_utils import styleguide\n",
    "\n",
    "from dla_utils import _dla_utils\n"
   ]
  },
  {
   "cell_type": "code",
   "execution_count": null,
   "id": "82cf8245-73d2-4ed3-93cf-7ee01661b024",
   "metadata": {
    "tags": [
     "parameters"
    ]
   },
   "outputs": [],
   "source": [
    "#Parameter Cell\n",
    "\n",
    "district = 4"
   ]
  },
  {
   "cell_type": "code",
   "execution_count": null,
   "id": "948b2b4f-ef9b-48ff-b109-e7b76361066c",
   "metadata": {},
   "outputs": [],
   "source": [
    "df= pd.read_parquet(\"gs://calitp-analytics-data/data-analyses/dla/e-76Obligated/dla_df.parquet\")\n"
   ]
  },
  {
   "cell_type": "code",
   "execution_count": null,
   "id": "be910f27-7608-4522-8d8d-ef93611cb748",
   "metadata": {},
   "outputs": [],
   "source": [
    "df = (df>>filter(_.dist==district))\n",
    "    \n",
    "    \n",
    "#subsetting the data\n",
    "df_years = _dla_utils.count_all_years(df)\n",
    "df_top = _dla_utils.find_top(df)\n",
    "    "
   ]
  },
  {
   "cell_type": "code",
   "execution_count": null,
   "id": "a5850431-4942-45ef-a3ea-6cb3f07d628e",
   "metadata": {},
   "outputs": [],
   "source": [
    "df['prepared_y'] = df['prepared_y'].map('{:.0f}'.format)"
   ]
  },
  {
   "cell_type": "code",
   "execution_count": null,
   "id": "7f5ac0a1-a951-4072-8f85-d2c90290907f",
   "metadata": {},
   "outputs": [],
   "source": [
    "display(HTML(\"<h3>Quick Stats</h3>\"))\n",
    "\n",
    "display(\n",
    "    HTML(\n",
    "        f\"There are <strong>{(df.primary_agency_name.nunique())} Unique Agencies</strong>\"\n",
    "    )\n",
    ")\n",
    "\n",
    "transit = df >> filter(_.transit == 1)\n",
    "\n",
    "def find_transit(df):\n",
    "    if (len(transit)) == 0: \n",
    "        return display((HTML(f\"Out of <strong>{len(df):,}</strong> obligations,\" \n",
    "                             f\" there are <strong>0 transit realted</strong> project types\")))\n",
    "    \n",
    "    else:\n",
    "        return display(\n",
    "            HTML(\n",
    "                f\"Out of <strong>{len(df):,}</strong> obligations, <strong>{len(transit)} have \"\n",
    "                f\"transit-related</strong> project types\"\n",
    "                f\"<br><strong>{(transit>>count(_.primary_agency_name)>>arrange(-_.n)).iloc[0, 0]}</strong> \"\n",
    "                f\"has the <strong>highest transit</strong> obligations\"\n",
    "            ))\n",
    "    \n",
    "find_transit(df)\n",
    "\n",
    "q = df >> count(_.primary_agency_name) >> arrange(_.n)\n",
    "\n",
    "q2 = q.n.quantile(0.95)\n",
    "\n",
    "display(\n",
    "    HTML(\n",
    "        f\"There are <strong>{len(q>>filter(_.n> (q2)))} agencies have over {('%.2f'%(q2))}</strong> \" \n",
    "        f\"obligations (95th percentile) since {(df.prepared_y.min())}\"\n",
    "    )\n",
    ")\n",
    "\n",
    "q3 = q.n.quantile(0.1)\n",
    "display(\n",
    "    HTML(\n",
    "        (\n",
    "            f\"There are <strong>{len(q>>filter(_.n< (q3)))} agencies have less than\"\n",
    "            f\" {('%.2f'%(q3))}</strong> obligations (5th percentile) since {(df.prepared_y.min())}\"\n",
    "        )\n",
    "    )\n",
    ")\n",
    "\n",
    "## tables\n",
    "display(HTML(\"<h4>Number of Unique Prefix Codes by Agency</h4>\"))\n",
    "nunique_prefix_codes = ((_dla_utils.get_nunique(df, \"prefix\", \"primary_agency_name\"))\n",
    "                        .rename(columns={\"primary_agency_name\": \"Agency\", \"n\": \"Number of Unqiue Prefix Codes\"})\n",
    "                        .head(5))\n",
    "display(HTML(_dla_utils.pretify_tables(nunique_prefix_codes)))\n",
    "\n",
    "display(HTML(\"<h4>Number of Unique Agencies by Prefix Codes</h4>\"))\n",
    "prefix_codes = ((_dla_utils.get_nunique(df, \"primary_agency_name\", \"prefix\"))\n",
    "                .rename(columns={\"prefix\": \"Prefix\", \"n\": \"Number of Unqiue Agencies\"})\n",
    "                .head(5))\n",
    "display(HTML(_dla_utils.pretify_tables(prefix_codes)))\n",
    "\n",
    "\n",
    "display(HTML(\"<h4>Top 5 Types of Work</h4>\"))\n",
    "work_types = (\n",
    "    (df >> count(_.type_of_work) >> arrange(-_.n) >> select(_.type_of_work))\n",
    "    .rename(columns={\"type_of_work\": \"Type of Work\"})\n",
    "    .head(5)\n",
    ")\n",
    "display(HTML(_dla_utils.pretify_tables(work_types)))\n",
    "# get rid of index using:\n",
    "## https://stackoverflow.com/questions/24644656/how-to-print-pandas-dataframe-without-index\n"
   ]
  },
  {
   "cell_type": "markdown",
   "id": "52a161a2-876a-4b42-9c93-3221dce17638",
   "metadata": {},
   "source": [
    "## Obligations"
   ]
  },
  {
   "cell_type": "markdown",
   "id": "c9d55b3c-f6b6-4980-957c-77d458068fe3",
   "metadata": {},
   "source": [
    "<hr style=\"height: 2px; background-color:#136C97; border: none\">"
   ]
  },
  {
   "cell_type": "markdown",
   "id": "379b61e3-1c1b-4683-b78f-8dee0683f064",
   "metadata": {},
   "source": [
    "Obligations indicate a unique entry in the E-76 dataset. By counting the obligations for each year, district, and organization, we can see what the volume each as well which organizations are the most and last frequent customers. \n",
    "\n",
    "Metrics:\n",
    "* Obligations by Year\n",
    "* Number of Unique Agencies by District\n",
    "* Agencies With The Most Obligations"
   ]
  },
  {
   "cell_type": "markdown",
   "id": "81ad520b-db91-45b8-a598-a6577cccc24e",
   "metadata": {},
   "source": [
    "### Number of Obligations by Year"
   ]
  },
  {
   "cell_type": "code",
   "execution_count": null,
   "id": "ae85287b-0772-4595-8ea2-ccba83dd22cf",
   "metadata": {},
   "outputs": [],
   "source": [
    " #Line chart for Obligations by Year\n",
    "chart_df = (df_top>>filter(_.variable=='prepared_y')).rename(columns= {\"value\":\"Year\"})\n",
    "    \n",
    "chart1= (_dla_utils.basic_line_chart(chart_df, 'Year', 'count', district)).encode(x=alt.X('Year:O', title='Prepared Year'))\n",
    "display(chart1)"
   ]
  },
  {
   "cell_type": "markdown",
   "id": "ff0a6bf9-ddc9-4b6c-b2e1-77de18cf6f80",
   "metadata": {},
   "source": [
    "### Number of Unique Agencies by District"
   ]
  },
  {
   "cell_type": "code",
   "execution_count": null,
   "id": "0bc7e34d-545e-4afd-92e9-a17630d0ae89",
   "metadata": {},
   "outputs": [],
   "source": [
    "# Unique Agencies by Dist\n",
    "dist_years_agency = ((\n",
    "        df\n",
    "        >> group_by(_.prepared_y, _.dist)\n",
    "        >> summarize(n=_.primary_agency_name.nunique())\n",
    "        >> arrange(-_.prepared_y)\n",
    "    )\n",
    "        .rename(columns={'dist':'District', 'n':'Count'})\n",
    "    )\n",
    "chart10 = (alt.Chart(dist_years_agency).mark_bar().encode(\n",
    "        column='District:N',\n",
    "        x=alt.X('prepared_y:O', title='Prepared Year'),\n",
    "        y=alt.Y('Count:Q', title='Number of Unique Agencies'),\n",
    "        color = alt.Color(\"District:N\", \n",
    "                              scale=alt.Scale(\n",
    "                                  range=cp.CALITP_SEQUENTIAL_COLORS),  \n",
    "                               legend=alt.Legend(title=\"Prepared Year\")\n",
    "                              )))\n",
    "                              \n",
    "chart10 = styleguide.preset_chart_config(chart10)\n",
    "chart10 = _dla_utils.add_tooltip(chart10, 'prepared_y', 'Count')\n",
    "\n",
    "display(chart10)"
   ]
  },
  {
   "cell_type": "markdown",
   "id": "70c59c39-590d-4136-aa09-ee6ed5afc872",
   "metadata": {},
   "source": [
    "### Agencies With The Most Obligations"
   ]
  },
  {
   "cell_type": "code",
   "execution_count": null,
   "id": "faa4758e-8a41-44f8-aec4-b8cc4d75d906",
   "metadata": {},
   "outputs": [],
   "source": [
    "#Bar chart Agencies With The Most Obligations\n",
    "chart_df = (df_top>>filter(_.variable=='primary_agency_name')).rename(columns={\"value\":\"Agency\",\n",
    "                                 \"count\":\"Number of Obligations\"})\n",
    "chart2 = (_dla_utils.basic_bar_chart(chart_df, 'Agency', 'Number of Obligations:Q', 'Agency', district))\n",
    "    \n",
    "\n",
    "display(chart2)\n"
   ]
  },
  {
   "cell_type": "markdown",
   "id": "5a3bed5f-4325-47af-9cc7-683f9872817f",
   "metadata": {},
   "source": [
    "## Prefix Codes"
   ]
  },
  {
   "cell_type": "markdown",
   "id": "339b20d8-68c6-43bd-8aaf-491772bc0995",
   "metadata": {},
   "source": [
    "<hr style=\"height: 2px; background-color:#8CBCCB; border: none\">\n"
   ]
  },
  {
   "cell_type": "markdown",
   "id": "cfded756-3c93-4089-be41-68e19d28b304",
   "metadata": {},
   "source": [
    "Prefix Codes refer to the program an obligation is in. Similar to the number of obligations, calcuating the unique prefix codes provides insight to how many progams DLA is involved in each year as well as workload at the district and organization level.\n",
    "\n",
    "Metrics: \n",
    "* Number of Unique Prefix Codes by Districts\n",
    "* Most Used Prefix Codes\n",
    "* Agencies With The Most Unique Prefix Codes"
   ]
  },
  {
   "cell_type": "markdown",
   "id": "f8cb2832-947d-4631-9b4c-c81fb118cab3",
   "metadata": {},
   "source": [
    "### Number of Unique Prefix Codes by District"
   ]
  },
  {
   "cell_type": "code",
   "execution_count": null,
   "id": "f661bd63-f8aa-4048-b035-03d5bf1b7e95",
   "metadata": {},
   "outputs": [],
   "source": [
    "#Unique Prefixes by Dist\n",
    "dist_years_prefix = ((\n",
    "        df\n",
    "        >> group_by(_.prepared_y, _.dist)\n",
    "        >> summarize(n=_.prefix.nunique())\n",
    "        >> arrange(-_.prepared_y)\n",
    "    ).rename(columns={'dist':'District', 'n':'Count'}))\n",
    "\n",
    "chart11 = (alt.Chart(dist_years_prefix).mark_bar().encode(\n",
    "        column='District:N',\n",
    "        x=alt.X('prepared_y:O', title='Prepared Year'),\n",
    "        y=alt.Y('Count:Q', title='Number of Unique Agencies'),\n",
    "        color = alt.Color(\"District:N\", \n",
    "                              scale=alt.Scale(\n",
    "                                  range=cp.CALITP_SEQUENTIAL_COLORS),  \n",
    "                               legend=alt.Legend(title=\"District\")\n",
    "                              ),\n",
    "       # tooltip=[alt.Tooltip('prepared_y', title='Prepared Year'), \n",
    "       #         alt.Tooltip('Count', title='Number')],\n",
    "                              ))\n",
    "chart11 = styleguide.preset_chart_config(chart11)\n",
    "#chart11 = _dla_utils.add_tooltip(chart11, 'prepared_y','Count')\n",
    "chart11 = chart11.encode(tooltip=[alt.Tooltip('prepared_y', title='Prepared Year'), \n",
    "                alt.Tooltip('Count', title='Number')])\n",
    "    \n",
    "\n",
    "display(chart11)"
   ]
  },
  {
   "cell_type": "markdown",
   "id": "c52b3650-9c49-4ab9-a72d-52ecf36d4b7a",
   "metadata": {},
   "source": [
    "### Most Used Prefix Codes"
   ]
  },
  {
   "cell_type": "code",
   "execution_count": null,
   "id": "0aca2d9a-062a-4c12-9489-5f9de10f3462",
   "metadata": {},
   "outputs": [],
   "source": [
    "#Bar chart with the Most Used Prefix Counts\n",
    "chart_df = (df_top>>filter(_.variable=='prefix')).rename(columns={\"value\":\"Prefix\",\n",
    "                                 \"count\":\"Number of Obligations\"})\n",
    "chart9= (_dla_utils.basic_bar_chart(chart_df, 'Prefix', 'Number of Obligations:Q', 'Prefix', district))\n",
    "    \n",
    "\n",
    "display(chart9)\n",
    "    "
   ]
  },
  {
   "cell_type": "markdown",
   "id": "46030e63-c1ae-4834-b538-b09937074207",
   "metadata": {},
   "source": [
    "### Agencies With The Most Unique Prefix Codes"
   ]
  },
  {
   "cell_type": "code",
   "execution_count": null,
   "id": "3d21c9b2-833b-463a-9a03-a9c83d727d2e",
   "metadata": {},
   "outputs": [],
   "source": [
    "#Bar chart Agencies With The Most Unique Prefix Codes\n",
    "    \n",
    "chart3 = (_dla_utils.basic_bar_chart(((_dla_utils.get_nunique(df, 'prefix', 'primary_agency_name')).head(30)),\n",
    "                            'primary_agency_name:N', 'n:Q', 'primary_agency_name', district))\n",
    "    \n",
    "display(chart3)"
   ]
  },
  {
   "cell_type": "markdown",
   "id": "409d25d0-88ee-4eff-ae1f-ca9127618b4d",
   "metadata": {},
   "source": [
    "## Funding Distributions"
   ]
  },
  {
   "cell_type": "markdown",
   "id": "4ffab2b2-4af7-476b-abe1-8c6c2534b3fb",
   "metadata": {},
   "source": [
    "<hr style=\"height: 2px; background-color:#136C97; border: none\">"
   ]
  },
  {
   "cell_type": "markdown",
   "id": "eacca297-667a-4649-b6ac-351e81729e0d",
   "metadata": {},
   "source": [
    "With each E-76, three types of funding amounts are included in the obligations: \n",
    "* Total Requested (`total_requested`)\n",
    "* Advance Construction Requested (`ac_requested`)\n",
    "* Federal Requested (`fed_requested`)\n",
    "\n",
    "Using this information, we can determine how much on average an organization recieves with these funds, and the distribution of the funds.\n",
    "\n",
    "\n",
    "Metrics:\n",
    "* Average Total Requested Funds by Agency\n",
    "* Lowest Average Total Funds by Agency\n",
    "* Average Total Requested Funds by Prefix"
   ]
  },
  {
   "cell_type": "markdown",
   "id": "d3caa5e9-9126-4572-8140-f81543c7d26a",
   "metadata": {},
   "source": [
    "### Average Total Requested Funds by Agency ($2021)"
   ]
  },
  {
   "cell_type": "code",
   "execution_count": null,
   "id": "3745ca4d-8dd4-4c09-b46b-a2f6db6358ad",
   "metadata": {},
   "outputs": [],
   "source": [
    "#Bar chart Average Total Requested Funds by Agency\n",
    "chart4=(_dla_utils.basic_bar_chart((((_dla_utils.calculate_data_all(df, 'adjusted_total_requested', 'primary_agency_name', aggfunc=\"mean\"))\n",
    "                          >>arrange(-_.adjusted_total_requested)).head(30)\n",
    "                        ), 'primary_agency_name','adjusted_total_requested', 'primary_agency_name', district\n",
    "                       ))\n",
    "chart4=chart4.encode([alt.Tooltip('primary_agency_name', title=_dla_utils.labeling('primary_agency_name')),\n",
    "    alt.Tooltip('adjusted_total_requested', title=_dla_utils.labeling('adjusted_total_requested'), format=\"$,.2f\"),\n",
    "                          ])\n",
    "display(chart4)"
   ]
  },
  {
   "cell_type": "markdown",
   "id": "84702987-c63c-40c9-aad7-c2d8c1b8ee49",
   "metadata": {},
   "source": [
    "### Lowest Average Total Funds by Agency ($2021)"
   ]
  },
  {
   "cell_type": "code",
   "execution_count": null,
   "id": "ce18a74b-9908-40f8-84f1-806552936465",
   "metadata": {},
   "outputs": [],
   "source": [
    "#Bar chart Bottom Average Total Requested Funds by Agency\n",
    "avg_funds_bottom = (df>>group_by(_.primary_agency_name)>>summarize(avg_funds=_.adjusted_total_requested.mean())>>arrange(-_.avg_funds)).tail(50)\n",
    "\n",
    "chart5=( _dla_utils.basic_bar_chart((avg_funds_bottom.tail(40)), 'primary_agency_name','avg_funds', 'primary_agency_name', district))\n",
    "\n",
    "chart5=chart5.encode([alt.Tooltip('primary_agency_name', title=_dla_utils.labeling('primary_agency_name')),\n",
    "                alt.Tooltip('avg_funds', title=_dla_utils.labeling('avg_funds'), format=\"$,.2f\")\n",
    "                          ]\n",
    "                                   )\n",
    "display(chart5)"
   ]
  },
  {
   "cell_type": "markdown",
   "id": "32fb0fb4-2cd3-453d-8be1-cf99fb52f56f",
   "metadata": {},
   "source": [
    "### Average Total Requested Funds by Prefix ($2021)"
   ]
  },
  {
   "cell_type": "code",
   "execution_count": null,
   "id": "d18938e5-6fc5-4e53-87b2-7140df57e5a0",
   "metadata": {},
   "outputs": [],
   "source": [
    "# Bar chart Average Total Requested Funds by Prefix\n",
    "chart8 = (_dla_utils.basic_bar_chart((((_dla_utils.calculate_data_all(df, 'adjusted_total_requested', 'prefix', aggfunc=\"mean\"))\n",
    "                          >>arrange(-_.adjusted_total_requested)).head(30)), 'prefix','adjusted_total_requested', 'prefix', district\n",
    "                       ))\n",
    "chart8=chart8.encode([alt.Tooltip('prefix', title=_dla_utils.labeling('prefix')),\n",
    "                      alt.Tooltip('adjusted_total_requested', title=_dla_utils.labeling('adjusted_total_requested'), format=\"$,.2f\")\n",
    "                          ]\n",
    "                                   )\n",
    "display(chart8)\n",
    "    "
   ]
  },
  {
   "cell_type": "markdown",
   "id": "c4218a37-675e-40be-9659-d1297a62dc1b",
   "metadata": {},
   "source": [
    "\n",
    "## Work Categories"
   ]
  },
  {
   "cell_type": "markdown",
   "id": "188d7213-7e0a-4873-8d28-76b86052a06b",
   "metadata": {},
   "source": [
    "<hr style=\"height: 2px; background-color:#136C97; border: none\">"
   ]
  },
  {
   "cell_type": "markdown",
   "id": "d41b493b-2ab7-4c43-96ee-8e64a7c3e11a",
   "metadata": {},
   "source": [
    "While the data includes a description column, organizations have the option to manually input the descriptions. Using the organizations descriptions of the obligattion type, we can categorize the obligations in terms of types of work. We used the following type of work categories:\n",
    "* Active Transportation\n",
    "* Transit\n",
    "* Bridge\n",
    "* Street\n",
    "* Freeway\n",
    "* Infrastructure/Resiliency/Emergency Relief \n",
    "* Congestion Relief\n",
    "\n",
    "With these categories, we can determine which organizations have the most obligations in that category and what percent of the category that organization accounts for. "
   ]
  },
  {
   "cell_type": "code",
   "execution_count": null,
   "id": "50a1cf08-17eb-4b2b-9dc0-671ee7551f2d",
   "metadata": {},
   "outputs": [],
   "source": [
    "# create loop:\n",
    "\n",
    "work_cat = ['active_transp', 'transit', 'bridge', 'street','freeway', 'infra_resiliency_er','congestion_relief']\n",
    "\n",
    "for cat in work_cat:\n",
    "    _dla_utils.project_cat(df, cat, district)"
   ]
  },
  {
   "cell_type": "code",
   "execution_count": null,
   "id": "5a50e751-dd3f-498f-9a28-2edc321b534f",
   "metadata": {},
   "outputs": [],
   "source": []
  },
  {
   "cell_type": "code",
   "execution_count": null,
   "id": "9ecbddcd-3d8e-4955-9294-5a63a98ca2a7",
   "metadata": {},
   "outputs": [],
   "source": []
  }
 ],
 "metadata": {
  "kernelspec": {
   "display_name": "Python 3 (ipykernel)",
   "language": "python",
   "name": "python3"
  },
  "language_info": {
   "codemirror_mode": {
    "name": "ipython",
    "version": 3
   },
   "file_extension": ".py",
   "mimetype": "text/x-python",
   "name": "python",
   "nbconvert_exporter": "python",
   "pygments_lexer": "ipython3",
   "version": "3.9.13"
  },
  "widgets": {
   "application/vnd.jupyter.widget-state+json": {
    "state": {
     "07aae822cd594584b2fd774744a569e8": {
      "model_module": "@jupyter-widgets/controls",
      "model_module_version": "1.5.0",
      "model_name": "HTMLModel",
      "state": {
       "layout": "IPY_MODEL_7ac9bf7cda0246f58ecdfcdc4b663983",
       "style": "IPY_MODEL_7aed4739b3994e39bb1098c72e493d5f",
       "value": "<h3> Top Agencies using Street Projects </h3>"
      }
     },
     "15db1931ed3c44239d7f2e32351aa918": {
      "model_module": "@jupyter-widgets/base",
      "model_module_version": "1.2.0",
      "model_name": "LayoutModel",
      "state": {}
     },
     "329005bd84b24a51baf4e9afa89feb5d": {
      "model_module": "@jupyter-widgets/controls",
      "model_module_version": "1.5.0",
      "model_name": "HTMLModel",
      "state": {
       "layout": "IPY_MODEL_766f2a4c574d4663930abe3102b92d7e",
       "style": "IPY_MODEL_a8df8c27820b4801bd24aac9e4d0093c",
       "value": "<h3> Top Agencies using Freeway Projects </h3>"
      }
     },
     "399da095fdae4719a252062aa3024d96": {
      "model_module": "@jupyter-widgets/base",
      "model_module_version": "1.2.0",
      "model_name": "LayoutModel",
      "state": {}
     },
     "4207f4ec37764b97a2b1fa8edd28e0ed": {
      "model_module": "@jupyter-widgets/base",
      "model_module_version": "1.2.0",
      "model_name": "LayoutModel",
      "state": {}
     },
     "55754df648bf4ef5b5f87fe70b825451": {
      "model_module": "@jupyter-widgets/base",
      "model_module_version": "1.2.0",
      "model_name": "LayoutModel",
      "state": {}
     },
     "57d5d459ba7d42599085a3189b3a9cd9": {
      "model_module": "@jupyter-widgets/base",
      "model_module_version": "1.2.0",
      "model_name": "LayoutModel",
      "state": {}
     },
     "6118ef8aee104d5390877262beee07e0": {
      "model_module": "@jupyter-widgets/controls",
      "model_module_version": "1.5.0",
      "model_name": "HTMLModel",
      "state": {
       "layout": "IPY_MODEL_55754df648bf4ef5b5f87fe70b825451",
       "style": "IPY_MODEL_c57e9390750e42afac8fb7be0e717bff",
       "value": "<style type=\"text/css\">\n#T_e5a52 th {\n  text-align: center;\n}\n#T_e5a52_row0_col0, #T_e5a52_row0_col1, #T_e5a52_row0_col2, #T_e5a52_row1_col0, #T_e5a52_row1_col1, #T_e5a52_row1_col2, #T_e5a52_row2_col0, #T_e5a52_row2_col1, #T_e5a52_row2_col2, #T_e5a52_row3_col0, #T_e5a52_row3_col1, #T_e5a52_row3_col2, #T_e5a52_row4_col0, #T_e5a52_row4_col1, #T_e5a52_row4_col2 {\n  text-align: center;\n}\n</style>\n<table id=\"T_e5a52\">\n  <thead>\n    <tr>\n      <th id=\"T_e5a52_level0_col0\" class=\"col_heading level0 col0\" >Agency</th>\n      <th id=\"T_e5a52_level0_col1\" class=\"col_heading level0 col1\" >Freeway Obligations</th>\n      <th id=\"T_e5a52_level0_col2\" class=\"col_heading level0 col2\" >Percent Of Category</th>\n    </tr>\n  </thead>\n  <tbody>\n    <tr>\n      <td id=\"T_e5a52_row0_col0\" class=\"data row0 col0\" >Metropolitan Transportation Commission</td>\n      <td id=\"T_e5a52_row0_col1\" class=\"data row0 col1\" >11</td>\n      <td id=\"T_e5a52_row0_col2\" class=\"data row0 col2\" >$28.21</td>\n    </tr>\n    <tr>\n      <td id=\"T_e5a52_row1_col0\" class=\"data row1 col0\" >Contra Costa County</td>\n      <td id=\"T_e5a52_row1_col1\" class=\"data row1 col1\" >7</td>\n      <td id=\"T_e5a52_row1_col2\" class=\"data row1 col2\" >$17.95</td>\n    </tr>\n    <tr>\n      <td id=\"T_e5a52_row2_col0\" class=\"data row2 col0\" >Caltrans</td>\n      <td id=\"T_e5a52_row2_col1\" class=\"data row2 col1\" >4</td>\n      <td id=\"T_e5a52_row2_col2\" class=\"data row2 col2\" >$10.26</td>\n    </tr>\n    <tr>\n      <td id=\"T_e5a52_row3_col0\" class=\"data row3 col0\" >Metropolitan Transportation Commission - SAFE</td>\n      <td id=\"T_e5a52_row3_col1\" class=\"data row3 col1\" >3</td>\n      <td id=\"T_e5a52_row3_col2\" class=\"data row3 col2\" >$7.69</td>\n    </tr>\n    <tr>\n      <td id=\"T_e5a52_row4_col0\" class=\"data row4 col0\" >Alameda County Congestion Management Agency</td>\n      <td id=\"T_e5a52_row4_col1\" class=\"data row4 col1\" >2</td>\n      <td id=\"T_e5a52_row4_col2\" class=\"data row4 col2\" >$5.13</td>\n    </tr>\n  </tbody>\n</table>\n"
      }
     },
     "6969ad60349a4babbd7ceb8e5b848d07": {
      "model_module": "@jupyter-widgets/controls",
      "model_module_version": "1.5.0",
      "model_name": "DescriptionStyleModel",
      "state": {
       "description_width": ""
      }
     },
     "766f2a4c574d4663930abe3102b92d7e": {
      "model_module": "@jupyter-widgets/base",
      "model_module_version": "1.2.0",
      "model_name": "LayoutModel",
      "state": {}
     },
     "7ac9bf7cda0246f58ecdfcdc4b663983": {
      "model_module": "@jupyter-widgets/base",
      "model_module_version": "1.2.0",
      "model_name": "LayoutModel",
      "state": {}
     },
     "7aed4739b3994e39bb1098c72e493d5f": {
      "model_module": "@jupyter-widgets/controls",
      "model_module_version": "1.5.0",
      "model_name": "DescriptionStyleModel",
      "state": {
       "description_width": ""
      }
     },
     "7d33fcd9c62f4e0c836d92170094cb99": {
      "model_module": "@jupyter-widgets/controls",
      "model_module_version": "1.5.0",
      "model_name": "DescriptionStyleModel",
      "state": {
       "description_width": ""
      }
     },
     "8751e7c436ff43eb86d9da5a1a997ceb": {
      "model_module": "@jupyter-widgets/base",
      "model_module_version": "1.2.0",
      "model_name": "LayoutModel",
      "state": {}
     },
     "8c16ad928a1e437eb40f5d7ae41c1459": {
      "model_module": "@jupyter-widgets/controls",
      "model_module_version": "1.5.0",
      "model_name": "DescriptionStyleModel",
      "state": {
       "description_width": ""
      }
     },
     "9443259610c946df927a4e74d92b6873": {
      "model_module": "@jupyter-widgets/controls",
      "model_module_version": "1.5.0",
      "model_name": "HTMLModel",
      "state": {
       "layout": "IPY_MODEL_399da095fdae4719a252062aa3024d96",
       "style": "IPY_MODEL_c2651757fa034323bb4282ec3605103a",
       "value": "<style type=\"text/css\">\n#T_b68b2 th {\n  text-align: center;\n}\n#T_b68b2_row0_col0, #T_b68b2_row0_col1, #T_b68b2_row0_col2, #T_b68b2_row1_col0, #T_b68b2_row1_col1, #T_b68b2_row1_col2, #T_b68b2_row2_col0, #T_b68b2_row2_col1, #T_b68b2_row2_col2, #T_b68b2_row3_col0, #T_b68b2_row3_col1, #T_b68b2_row3_col2, #T_b68b2_row4_col0, #T_b68b2_row4_col1, #T_b68b2_row4_col2 {\n  text-align: center;\n}\n</style>\n<table id=\"T_b68b2\">\n  <thead>\n    <tr>\n      <th id=\"T_b68b2_level0_col0\" class=\"col_heading level0 col0\" >Agency</th>\n      <th id=\"T_b68b2_level0_col1\" class=\"col_heading level0 col1\" >Active Transportation Obligations</th>\n      <th id=\"T_b68b2_level0_col2\" class=\"col_heading level0 col2\" >Percent Of Category</th>\n    </tr>\n  </thead>\n  <tbody>\n    <tr>\n      <td id=\"T_b68b2_row0_col0\" class=\"data row0 col0\" >San Jose</td>\n      <td id=\"T_b68b2_row0_col1\" class=\"data row0 col1\" >79</td>\n      <td id=\"T_b68b2_row0_col2\" class=\"data row0 col2\" >$7.31</td>\n    </tr>\n    <tr>\n      <td id=\"T_b68b2_row1_col0\" class=\"data row1 col0\" >Oakland</td>\n      <td id=\"T_b68b2_row1_col1\" class=\"data row1 col1\" >66</td>\n      <td id=\"T_b68b2_row1_col2\" class=\"data row1 col2\" >$6.11</td>\n    </tr>\n    <tr>\n      <td id=\"T_b68b2_row2_col0\" class=\"data row2 col0\" >Sunnyvale</td>\n      <td id=\"T_b68b2_row2_col1\" class=\"data row2 col1\" >47</td>\n      <td id=\"T_b68b2_row2_col2\" class=\"data row2 col2\" >$4.35</td>\n    </tr>\n    <tr>\n      <td id=\"T_b68b2_row3_col0\" class=\"data row3 col0\" >City & County of San Francisco, MTA/Parking & Traffic</td>\n      <td id=\"T_b68b2_row3_col1\" class=\"data row3 col1\" >46</td>\n      <td id=\"T_b68b2_row3_col2\" class=\"data row3 col2\" >$4.26</td>\n    </tr>\n    <tr>\n      <td id=\"T_b68b2_row4_col0\" class=\"data row4 col0\" >Contra Costa County</td>\n      <td id=\"T_b68b2_row4_col1\" class=\"data row4 col1\" >39</td>\n      <td id=\"T_b68b2_row4_col2\" class=\"data row4 col2\" >$3.61</td>\n    </tr>\n  </tbody>\n</table>\n"
      }
     },
     "947a67732cd64966a439c00e8a231f23": {
      "model_module": "@jupyter-widgets/controls",
      "model_module_version": "1.5.0",
      "model_name": "HTMLModel",
      "state": {
       "layout": "IPY_MODEL_b735d9d2709c457798788da3f5d97d72",
       "style": "IPY_MODEL_983d8afeb88140e99cb2e96cdf7fd207",
       "value": "<style type=\"text/css\">\n#T_72a72 th {\n  text-align: center;\n}\n#T_72a72_row0_col0, #T_72a72_row0_col1, #T_72a72_row0_col2, #T_72a72_row1_col0, #T_72a72_row1_col1, #T_72a72_row1_col2, #T_72a72_row2_col0, #T_72a72_row2_col1, #T_72a72_row2_col2, #T_72a72_row3_col0, #T_72a72_row3_col1, #T_72a72_row3_col2, #T_72a72_row4_col0, #T_72a72_row4_col1, #T_72a72_row4_col2 {\n  text-align: center;\n}\n</style>\n<table id=\"T_72a72\">\n  <thead>\n    <tr>\n      <th id=\"T_72a72_level0_col0\" class=\"col_heading level0 col0\" >Agency</th>\n      <th id=\"T_72a72_level0_col1\" class=\"col_heading level0 col1\" >Street Obligations</th>\n      <th id=\"T_72a72_level0_col2\" class=\"col_heading level0 col2\" >Percent Of Category</th>\n    </tr>\n  </thead>\n  <tbody>\n    <tr>\n      <td id=\"T_72a72_row0_col0\" class=\"data row0 col0\" >Oakland</td>\n      <td id=\"T_72a72_row0_col1\" class=\"data row0 col1\" >84</td>\n      <td id=\"T_72a72_row0_col2\" class=\"data row0 col2\" >$6.30</td>\n    </tr>\n    <tr>\n      <td id=\"T_72a72_row1_col0\" class=\"data row1 col0\" >Contra Costa County</td>\n      <td id=\"T_72a72_row1_col1\" class=\"data row1 col1\" >82</td>\n      <td id=\"T_72a72_row1_col2\" class=\"data row1 col2\" >$6.15</td>\n    </tr>\n    <tr>\n      <td id=\"T_72a72_row2_col0\" class=\"data row2 col0\" >San Jose</td>\n      <td id=\"T_72a72_row2_col1\" class=\"data row2 col1\" >66</td>\n      <td id=\"T_72a72_row2_col2\" class=\"data row2 col2\" >$4.95</td>\n    </tr>\n    <tr>\n      <td id=\"T_72a72_row3_col0\" class=\"data row3 col0\" >San Francisco County</td>\n      <td id=\"T_72a72_row3_col1\" class=\"data row3 col1\" >45</td>\n      <td id=\"T_72a72_row3_col2\" class=\"data row3 col2\" >$3.37</td>\n    </tr>\n    <tr>\n      <td id=\"T_72a72_row4_col0\" class=\"data row4 col0\" >Sunnyvale</td>\n      <td id=\"T_72a72_row4_col1\" class=\"data row4 col1\" >45</td>\n      <td id=\"T_72a72_row4_col2\" class=\"data row4 col2\" >$3.37</td>\n    </tr>\n  </tbody>\n</table>\n"
      }
     },
     "983d8afeb88140e99cb2e96cdf7fd207": {
      "model_module": "@jupyter-widgets/controls",
      "model_module_version": "1.5.0",
      "model_name": "DescriptionStyleModel",
      "state": {
       "description_width": ""
      }
     },
     "a33516d2bc284b52929cde25afb8594c": {
      "model_module": "@jupyter-widgets/controls",
      "model_module_version": "1.5.0",
      "model_name": "DescriptionStyleModel",
      "state": {
       "description_width": ""
      }
     },
     "a4d8b0b832f84925a1333686fda72918": {
      "model_module": "@jupyter-widgets/controls",
      "model_module_version": "1.5.0",
      "model_name": "HTMLModel",
      "state": {
       "layout": "IPY_MODEL_57d5d459ba7d42599085a3189b3a9cd9",
       "style": "IPY_MODEL_7d33fcd9c62f4e0c836d92170094cb99",
       "value": "<style type=\"text/css\">\n#T_bf073 th {\n  text-align: center;\n}\n#T_bf073_row0_col0, #T_bf073_row0_col1, #T_bf073_row0_col2, #T_bf073_row1_col0, #T_bf073_row1_col1, #T_bf073_row1_col2, #T_bf073_row2_col0, #T_bf073_row2_col1, #T_bf073_row2_col2, #T_bf073_row3_col0, #T_bf073_row3_col1, #T_bf073_row3_col2, #T_bf073_row4_col0, #T_bf073_row4_col1, #T_bf073_row4_col2 {\n  text-align: center;\n}\n</style>\n<table id=\"T_bf073\">\n  <thead>\n    <tr>\n      <th id=\"T_bf073_level0_col0\" class=\"col_heading level0 col0\" >Agency</th>\n      <th id=\"T_bf073_level0_col1\" class=\"col_heading level0 col1\" >Bridge Obligations</th>\n      <th id=\"T_bf073_level0_col2\" class=\"col_heading level0 col2\" >Percent Of Category</th>\n    </tr>\n  </thead>\n  <tbody>\n    <tr>\n      <td id=\"T_bf073_row0_col0\" class=\"data row0 col0\" >Santa Clara County</td>\n      <td id=\"T_bf073_row0_col1\" class=\"data row0 col1\" >68</td>\n      <td id=\"T_bf073_row0_col2\" class=\"data row0 col2\" >$14.02</td>\n    </tr>\n    <tr>\n      <td id=\"T_bf073_row1_col0\" class=\"data row1 col0\" >Contra Costa County</td>\n      <td id=\"T_bf073_row1_col1\" class=\"data row1 col1\" >44</td>\n      <td id=\"T_bf073_row1_col2\" class=\"data row1 col2\" >$9.07</td>\n    </tr>\n    <tr>\n      <td id=\"T_bf073_row2_col0\" class=\"data row2 col0\" >Sonoma County</td>\n      <td id=\"T_bf073_row2_col1\" class=\"data row2 col1\" >35</td>\n      <td id=\"T_bf073_row2_col2\" class=\"data row2 col2\" >$7.22</td>\n    </tr>\n    <tr>\n      <td id=\"T_bf073_row3_col0\" class=\"data row3 col0\" >Napa County</td>\n      <td id=\"T_bf073_row3_col1\" class=\"data row3 col1\" >26</td>\n      <td id=\"T_bf073_row3_col2\" class=\"data row3 col2\" >$5.36</td>\n    </tr>\n    <tr>\n      <td id=\"T_bf073_row4_col0\" class=\"data row4 col0\" >Oakland</td>\n      <td id=\"T_bf073_row4_col1\" class=\"data row4 col1\" >22</td>\n      <td id=\"T_bf073_row4_col2\" class=\"data row4 col2\" >$4.54</td>\n    </tr>\n  </tbody>\n</table>\n"
      }
     },
     "a6da714bbbb64c80ab653c02b90b8540": {
      "model_module": "@jupyter-widgets/controls",
      "model_module_version": "1.5.0",
      "model_name": "DescriptionStyleModel",
      "state": {
       "description_width": ""
      }
     },
     "a8df8c27820b4801bd24aac9e4d0093c": {
      "model_module": "@jupyter-widgets/controls",
      "model_module_version": "1.5.0",
      "model_name": "DescriptionStyleModel",
      "state": {
       "description_width": ""
      }
     },
     "ab09a4ef9d31420aa7152ee4c950202d": {
      "model_module": "@jupyter-widgets/controls",
      "model_module_version": "1.5.0",
      "model_name": "HTMLModel",
      "state": {
       "layout": "IPY_MODEL_8751e7c436ff43eb86d9da5a1a997ceb",
       "style": "IPY_MODEL_6969ad60349a4babbd7ceb8e5b848d07",
       "value": "<h3> Top Agencies using Active Transportation Projects </h3>"
      }
     },
     "ae06570f23e240fda0ac06fbd8ecb329": {
      "model_module": "@jupyter-widgets/base",
      "model_module_version": "1.2.0",
      "model_name": "LayoutModel",
      "state": {}
     },
     "aea0c9f35b8f4435b11795751a85f775": {
      "model_module": "@jupyter-widgets/controls",
      "model_module_version": "1.5.0",
      "model_name": "HTMLModel",
      "state": {
       "layout": "IPY_MODEL_4207f4ec37764b97a2b1fa8edd28e0ed",
       "style": "IPY_MODEL_e885770a82b042eaadaf12eef0dbb7f1",
       "value": "<h3> Top Agencies using Infrastructure & Emergency Relief Projects </h3>"
      }
     },
     "b4f658cadc854de7a7cf55834adc3690": {
      "model_module": "@jupyter-widgets/controls",
      "model_module_version": "1.5.0",
      "model_name": "HTMLModel",
      "state": {
       "layout": "IPY_MODEL_dc8f66bd817f4227a1978314261d95e7",
       "style": "IPY_MODEL_a33516d2bc284b52929cde25afb8594c",
       "value": "<style type=\"text/css\">\n#T_3a211 th {\n  text-align: center;\n}\n#T_3a211_row0_col0, #T_3a211_row0_col1, #T_3a211_row0_col2, #T_3a211_row1_col0, #T_3a211_row1_col1, #T_3a211_row1_col2, #T_3a211_row2_col0, #T_3a211_row2_col1, #T_3a211_row2_col2, #T_3a211_row3_col0, #T_3a211_row3_col1, #T_3a211_row3_col2, #T_3a211_row4_col0, #T_3a211_row4_col1, #T_3a211_row4_col2 {\n  text-align: center;\n}\n</style>\n<table id=\"T_3a211\">\n  <thead>\n    <tr>\n      <th id=\"T_3a211_level0_col0\" class=\"col_heading level0 col0\" >Agency</th>\n      <th id=\"T_3a211_level0_col1\" class=\"col_heading level0 col1\" >Transit Obligations</th>\n      <th id=\"T_3a211_level0_col2\" class=\"col_heading level0 col2\" >Percent Of Category</th>\n    </tr>\n  </thead>\n  <tbody>\n    <tr>\n      <td id=\"T_3a211_row0_col0\" class=\"data row0 col0\" >Metropolitan Transportation Commission</td>\n      <td id=\"T_3a211_row0_col1\" class=\"data row0 col1\" >18</td>\n      <td id=\"T_3a211_row0_col2\" class=\"data row0 col2\" >$27.69</td>\n    </tr>\n    <tr>\n      <td id=\"T_3a211_row1_col0\" class=\"data row1 col0\" >Sunnyvale</td>\n      <td id=\"T_3a211_row1_col1\" class=\"data row1 col1\" >6</td>\n      <td id=\"T_3a211_row1_col2\" class=\"data row1 col2\" >$9.23</td>\n    </tr>\n    <tr>\n      <td id=\"T_3a211_row2_col0\" class=\"data row2 col0\" >Oakland</td>\n      <td id=\"T_3a211_row2_col1\" class=\"data row2 col1\" >4</td>\n      <td id=\"T_3a211_row2_col2\" class=\"data row2 col2\" >$6.15</td>\n    </tr>\n    <tr>\n      <td id=\"T_3a211_row3_col0\" class=\"data row3 col0\" >San Jose</td>\n      <td id=\"T_3a211_row3_col1\" class=\"data row3 col1\" >4</td>\n      <td id=\"T_3a211_row3_col2\" class=\"data row3 col2\" >$6.15</td>\n    </tr>\n    <tr>\n      <td id=\"T_3a211_row4_col0\" class=\"data row4 col0\" >San Leandro</td>\n      <td id=\"T_3a211_row4_col1\" class=\"data row4 col1\" >4</td>\n      <td id=\"T_3a211_row4_col2\" class=\"data row4 col2\" >$6.15</td>\n    </tr>\n  </tbody>\n</table>\n"
      }
     },
     "b735d9d2709c457798788da3f5d97d72": {
      "model_module": "@jupyter-widgets/base",
      "model_module_version": "1.2.0",
      "model_name": "LayoutModel",
      "state": {}
     },
     "bddc2ea6cac640e7a5c55bfcb7f7cab8": {
      "model_module": "@jupyter-widgets/controls",
      "model_module_version": "1.5.0",
      "model_name": "DescriptionStyleModel",
      "state": {
       "description_width": ""
      }
     },
     "c2651757fa034323bb4282ec3605103a": {
      "model_module": "@jupyter-widgets/controls",
      "model_module_version": "1.5.0",
      "model_name": "DescriptionStyleModel",
      "state": {
       "description_width": ""
      }
     },
     "c57e9390750e42afac8fb7be0e717bff": {
      "model_module": "@jupyter-widgets/controls",
      "model_module_version": "1.5.0",
      "model_name": "DescriptionStyleModel",
      "state": {
       "description_width": ""
      }
     },
     "c5d3a23b48f54a4a9e8cc5ed9db3d811": {
      "model_module": "@jupyter-widgets/controls",
      "model_module_version": "1.5.0",
      "model_name": "DescriptionStyleModel",
      "state": {
       "description_width": ""
      }
     },
     "d38c600a31e849cab95df1ac8091eb48": {
      "model_module": "@jupyter-widgets/controls",
      "model_module_version": "1.5.0",
      "model_name": "HTMLModel",
      "state": {
       "layout": "IPY_MODEL_ef45fda4fa6e4e9495841896083d5811",
       "style": "IPY_MODEL_8c16ad928a1e437eb40f5d7ae41c1459",
       "value": "<style type=\"text/css\">\n#T_fa7cc th {\n  text-align: center;\n}\n#T_fa7cc_row0_col0, #T_fa7cc_row0_col1, #T_fa7cc_row0_col2, #T_fa7cc_row1_col0, #T_fa7cc_row1_col1, #T_fa7cc_row1_col2, #T_fa7cc_row2_col0, #T_fa7cc_row2_col1, #T_fa7cc_row2_col2, #T_fa7cc_row3_col0, #T_fa7cc_row3_col1, #T_fa7cc_row3_col2, #T_fa7cc_row4_col0, #T_fa7cc_row4_col1, #T_fa7cc_row4_col2 {\n  text-align: center;\n}\n</style>\n<table id=\"T_fa7cc\">\n  <thead>\n    <tr>\n      <th id=\"T_fa7cc_level0_col0\" class=\"col_heading level0 col0\" >Agency</th>\n      <th id=\"T_fa7cc_level0_col1\" class=\"col_heading level0 col1\" >Infrastructure & Emergency Relief Obligations</th>\n      <th id=\"T_fa7cc_level0_col2\" class=\"col_heading level0 col2\" >Percent Of Category</th>\n    </tr>\n  </thead>\n  <tbody>\n    <tr>\n      <td id=\"T_fa7cc_row0_col0\" class=\"data row0 col0\" >Contra Costa County</td>\n      <td id=\"T_fa7cc_row0_col1\" class=\"data row0 col1\" >103</td>\n      <td id=\"T_fa7cc_row0_col2\" class=\"data row0 col2\" >$5.20</td>\n    </tr>\n    <tr>\n      <td id=\"T_fa7cc_row1_col0\" class=\"data row1 col0\" >Napa County</td>\n      <td id=\"T_fa7cc_row1_col1\" class=\"data row1 col1\" >89</td>\n      <td id=\"T_fa7cc_row1_col2\" class=\"data row1 col2\" >$4.49</td>\n    </tr>\n    <tr>\n      <td id=\"T_fa7cc_row2_col0\" class=\"data row2 col0\" >Santa Clara County</td>\n      <td id=\"T_fa7cc_row2_col1\" class=\"data row2 col1\" >85</td>\n      <td id=\"T_fa7cc_row2_col2\" class=\"data row2 col2\" >$4.29</td>\n    </tr>\n    <tr>\n      <td id=\"T_fa7cc_row3_col0\" class=\"data row3 col0\" >Sonoma County</td>\n      <td id=\"T_fa7cc_row3_col1\" class=\"data row3 col1\" >74</td>\n      <td id=\"T_fa7cc_row3_col2\" class=\"data row3 col2\" >$3.74</td>\n    </tr>\n    <tr>\n      <td id=\"T_fa7cc_row4_col0\" class=\"data row4 col0\" >Oakland</td>\n      <td id=\"T_fa7cc_row4_col1\" class=\"data row4 col1\" >70</td>\n      <td id=\"T_fa7cc_row4_col2\" class=\"data row4 col2\" >$3.53</td>\n    </tr>\n  </tbody>\n</table>\n"
      }
     },
     "d45a6dbec023460ca589c24656530e28": {
      "model_module": "@jupyter-widgets/controls",
      "model_module_version": "1.5.0",
      "model_name": "HTMLModel",
      "state": {
       "layout": "IPY_MODEL_e7f691bd731542d1aa2f2f4f95164f64",
       "style": "IPY_MODEL_bddc2ea6cac640e7a5c55bfcb7f7cab8",
       "value": "<h3> Top Agencies using Bridge Projects </h3>"
      }
     },
     "d48e3f5d2f684b3b945fad37ab3016bd": {
      "model_module": "@jupyter-widgets/controls",
      "model_module_version": "1.5.0",
      "model_name": "HTMLModel",
      "state": {
       "layout": "IPY_MODEL_ae06570f23e240fda0ac06fbd8ecb329",
       "style": "IPY_MODEL_a6da714bbbb64c80ab653c02b90b8540",
       "value": "<style type=\"text/css\">\n#T_18788 th {\n  text-align: center;\n}\n#T_18788_row0_col0, #T_18788_row0_col1, #T_18788_row0_col2, #T_18788_row1_col0, #T_18788_row1_col1, #T_18788_row1_col2, #T_18788_row2_col0, #T_18788_row2_col1, #T_18788_row2_col2, #T_18788_row3_col0, #T_18788_row3_col1, #T_18788_row3_col2, #T_18788_row4_col0, #T_18788_row4_col1, #T_18788_row4_col2 {\n  text-align: center;\n}\n</style>\n<table id=\"T_18788\">\n  <thead>\n    <tr>\n      <th id=\"T_18788_level0_col0\" class=\"col_heading level0 col0\" >Agency</th>\n      <th id=\"T_18788_level0_col1\" class=\"col_heading level0 col1\" >Congestion Relief Obligations</th>\n      <th id=\"T_18788_level0_col2\" class=\"col_heading level0 col2\" >Percent Of Category</th>\n    </tr>\n  </thead>\n  <tbody>\n    <tr>\n      <td id=\"T_18788_row0_col0\" class=\"data row0 col0\" >Contra Costa Transportation Authority</td>\n      <td id=\"T_18788_row0_col1\" class=\"data row0 col1\" >6</td>\n      <td id=\"T_18788_row0_col2\" class=\"data row0 col2\" >$22.22</td>\n    </tr>\n    <tr>\n      <td id=\"T_18788_row1_col0\" class=\"data row1 col0\" >Metropolitan Transportation Commission</td>\n      <td id=\"T_18788_row1_col1\" class=\"data row1 col1\" >5</td>\n      <td id=\"T_18788_row1_col2\" class=\"data row1 col2\" >$18.52</td>\n    </tr>\n    <tr>\n      <td id=\"T_18788_row2_col0\" class=\"data row2 col0\" >Sonoma County Transportation Authority</td>\n      <td id=\"T_18788_row2_col1\" class=\"data row2 col1\" >4</td>\n      <td id=\"T_18788_row2_col2\" class=\"data row2 col2\" >$14.81</td>\n    </tr>\n    <tr>\n      <td id=\"T_18788_row3_col0\" class=\"data row3 col0\" >San Mateo</td>\n      <td id=\"T_18788_row3_col1\" class=\"data row3 col1\" >3</td>\n      <td id=\"T_18788_row3_col2\" class=\"data row3 col2\" >$11.11</td>\n    </tr>\n    <tr>\n      <td id=\"T_18788_row4_col0\" class=\"data row4 col0\" >Solano Transportation Authority</td>\n      <td id=\"T_18788_row4_col1\" class=\"data row4 col1\" >3</td>\n      <td id=\"T_18788_row4_col2\" class=\"data row4 col2\" >$11.11</td>\n    </tr>\n  </tbody>\n</table>\n"
      }
     },
     "d4a0aa6f65f441aa9bb007ee4239d0a6": {
      "model_module": "@jupyter-widgets/controls",
      "model_module_version": "1.5.0",
      "model_name": "DescriptionStyleModel",
      "state": {
       "description_width": ""
      }
     },
     "dc8f66bd817f4227a1978314261d95e7": {
      "model_module": "@jupyter-widgets/base",
      "model_module_version": "1.2.0",
      "model_name": "LayoutModel",
      "state": {}
     },
     "e126687bea4d4c9388bf861e73bb610c": {
      "model_module": "@jupyter-widgets/controls",
      "model_module_version": "1.5.0",
      "model_name": "HTMLModel",
      "state": {
       "layout": "IPY_MODEL_f346e2e8177349ad819b4aeda4276606",
       "style": "IPY_MODEL_c5d3a23b48f54a4a9e8cc5ed9db3d811",
       "value": "<h3> Top Agencies using Transit Projects </h3>"
      }
     },
     "e7f691bd731542d1aa2f2f4f95164f64": {
      "model_module": "@jupyter-widgets/base",
      "model_module_version": "1.2.0",
      "model_name": "LayoutModel",
      "state": {}
     },
     "e885770a82b042eaadaf12eef0dbb7f1": {
      "model_module": "@jupyter-widgets/controls",
      "model_module_version": "1.5.0",
      "model_name": "DescriptionStyleModel",
      "state": {
       "description_width": ""
      }
     },
     "ef45fda4fa6e4e9495841896083d5811": {
      "model_module": "@jupyter-widgets/base",
      "model_module_version": "1.2.0",
      "model_name": "LayoutModel",
      "state": {}
     },
     "f346e2e8177349ad819b4aeda4276606": {
      "model_module": "@jupyter-widgets/base",
      "model_module_version": "1.2.0",
      "model_name": "LayoutModel",
      "state": {}
     },
     "f77d19703abf4b8b850d42a18c0d5bfc": {
      "model_module": "@jupyter-widgets/controls",
      "model_module_version": "1.5.0",
      "model_name": "HTMLModel",
      "state": {
       "layout": "IPY_MODEL_15db1931ed3c44239d7f2e32351aa918",
       "style": "IPY_MODEL_d4a0aa6f65f441aa9bb007ee4239d0a6",
       "value": "<h3> Top Agencies using Congestion Relief Projects </h3>"
      }
     }
    },
    "version_major": 2,
    "version_minor": 0
   }
  }
 },
 "nbformat": 4,
 "nbformat_minor": 5
}
