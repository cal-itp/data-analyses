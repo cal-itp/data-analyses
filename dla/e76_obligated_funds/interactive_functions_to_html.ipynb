{
 "cells": [
  {
   "cell_type": "markdown",
   "id": "dc2c3da2-5825-4db7-85a2-bfa4366d0ebe",
   "metadata": {},
   "source": [
    "# Interactive Functions "
   ]
  },
  {
   "cell_type": "code",
   "execution_count": 51,
   "id": "75aa869e-1f53-4fbe-bb44-3a2b8d6c4eb7",
   "metadata": {},
   "outputs": [],
   "source": [
    "#!pip install voila"
   ]
  },
  {
   "cell_type": "code",
   "execution_count": null,
   "id": "f2abae7d-ced3-4229-a32b-e05c75dc33e8",
   "metadata": {},
   "outputs": [],
   "source": []
  },
  {
   "cell_type": "code",
   "execution_count": 4,
   "id": "0e38dd54-4944-469b-b7a5-ba9db691a0fb",
   "metadata": {},
   "outputs": [],
   "source": [
    "#! pip install plotnine"
   ]
  },
  {
   "cell_type": "code",
   "execution_count": 52,
   "id": "6305e725-0066-4cd6-9f56-4c4afffbb13a",
   "metadata": {},
   "outputs": [],
   "source": [
    "import pandas as pd\n",
    "from siuba import *\n",
    "\n",
    "import numpy as np\n",
    "from plotnine import *\n",
    "\n",
    "import ipywidgets as widgets\n",
    "from ipywidgets import interact, interact_manual, interactive_output"
   ]
  },
  {
   "cell_type": "code",
   "execution_count": 3,
   "id": "6cb6e6a1-8972-4d5d-a5a9-4e85d11ca5e2",
   "metadata": {},
   "outputs": [],
   "source": [
    "pd.set_option('display.max_columns', None)\n",
    "pd.options.display.float_format = \"{:.2f}\".format"
   ]
  },
  {
   "cell_type": "code",
   "execution_count": 40,
   "id": "9be02bd4-56c2-4b30-a08a-346efe4c93a1",
   "metadata": {},
   "outputs": [],
   "source": [
    "df = pd.read_csv('gs://calitp-analytics-data/data-analyses/dla/e-76Obligated/function_data.csv', low_memory=False)"
   ]
  },
  {
   "cell_type": "markdown",
   "id": "69d47474-4a12-48d7-9929-2b0482031434",
   "metadata": {},
   "source": [
    "#### Dropping the duplicates"
   ]
  },
  {
   "cell_type": "code",
   "execution_count": 46,
   "id": "9ca66ee4-9ba2-4efa-8b65-5d8114257a9e",
   "metadata": {},
   "outputs": [
    {
     "data": {
      "text/html": [
       "<div>\n",
       "<style scoped>\n",
       "    .dataframe tbody tr th:only-of-type {\n",
       "        vertical-align: middle;\n",
       "    }\n",
       "\n",
       "    .dataframe tbody tr th {\n",
       "        vertical-align: top;\n",
       "    }\n",
       "\n",
       "    .dataframe thead th {\n",
       "        text-align: right;\n",
       "    }\n",
       "</style>\n",
       "<table border=\"1\" class=\"dataframe\">\n",
       "  <thead>\n",
       "    <tr style=\"text-align: right;\">\n",
       "      <th></th>\n",
       "      <th>Unnamed: 0</th>\n",
       "      <th>prefix</th>\n",
       "      <th>project_no</th>\n",
       "      <th>agency</th>\n",
       "      <th>prepared_date</th>\n",
       "      <th>fed_requested</th>\n",
       "      <th>ac_requested</th>\n",
       "      <th>total_requested</th>\n",
       "      <th>status_comment</th>\n",
       "      <th>locode</th>\n",
       "      <th>dist</th>\n",
       "      <th>ftip_no</th>\n",
       "      <th>project_location</th>\n",
       "      <th>type_of_work</th>\n",
       "      <th>seq</th>\n",
       "      <th>mpo</th>\n",
       "      <th>prepared_y</th>\n",
       "    </tr>\n",
       "  </thead>\n",
       "  <tbody>\n",
       "    <tr>\n",
       "      <th>17570</th>\n",
       "      <td>17570</td>\n",
       "      <td>ATP</td>\n",
       "      <td>5173(037)</td>\n",
       "      <td>Fowler</td>\n",
       "      <td>2020-10-07</td>\n",
       "      <td>3000.00</td>\n",
       "      <td>0.00</td>\n",
       "      <td>3389.00</td>\n",
       "      <td>Authorized</td>\n",
       "      <td>5173</td>\n",
       "      <td>6</td>\n",
       "      <td>FRE150045</td>\n",
       "      <td>Westside Of Golden State Boulevard From Adams ...</td>\n",
       "      <td>Construct A Class I Bike And Pedestrian Path</td>\n",
       "      <td>1</td>\n",
       "      <td>CFCG</td>\n",
       "      <td>2020-01-01</td>\n",
       "    </tr>\n",
       "    <tr>\n",
       "      <th>12299</th>\n",
       "      <td>12299</td>\n",
       "      <td>RPSTP</td>\n",
       "      <td>5270(010)</td>\n",
       "      <td>Laguna Beach</td>\n",
       "      <td>2014-03-03</td>\n",
       "      <td>-39486.04</td>\n",
       "      <td>0.00</td>\n",
       "      <td>-35372.23</td>\n",
       "      <td>Authorized</td>\n",
       "      <td>NaN</td>\n",
       "      <td>12</td>\n",
       "      <td>ORA990907</td>\n",
       "      <td>Broadway (sr-133) From Acacia Drive/cliff Driv...</td>\n",
       "      <td>Landscaping And Enhanced Sidewalk</td>\n",
       "      <td>2</td>\n",
       "      <td>SCAG</td>\n",
       "      <td>2014-01-01</td>\n",
       "    </tr>\n",
       "    <tr>\n",
       "      <th>16146</th>\n",
       "      <td>16146</td>\n",
       "      <td>CML</td>\n",
       "      <td>5950(462)</td>\n",
       "      <td>Kern County</td>\n",
       "      <td>2020-02-24</td>\n",
       "      <td>539500.00</td>\n",
       "      <td>0.00</td>\n",
       "      <td>748500.00</td>\n",
       "      <td>Authorized</td>\n",
       "      <td>5950</td>\n",
       "      <td>6</td>\n",
       "      <td>KER180513</td>\n",
       "      <td>In Lamont Area ,wilson Ave: Hope Ave To Southe...</td>\n",
       "      <td>Paving Dirt Roads And Shldrs And Construct Cur...</td>\n",
       "      <td>1</td>\n",
       "      <td>KCOG</td>\n",
       "      <td>2020-01-01</td>\n",
       "    </tr>\n",
       "    <tr>\n",
       "      <th>13476</th>\n",
       "      <td>13476</td>\n",
       "      <td>SRTSLNI</td>\n",
       "      <td>5472(015)</td>\n",
       "      <td>Windsor</td>\n",
       "      <td>2019-04-12</td>\n",
       "      <td>0.00</td>\n",
       "      <td>0.00</td>\n",
       "      <td>0.00</td>\n",
       "      <td>Authorized</td>\n",
       "      <td>5472</td>\n",
       "      <td>4</td>\n",
       "      <td>VAR110012</td>\n",
       "      <td>Multiple Schools In Windsor Unified School Dis...</td>\n",
       "      <td>Conduct Pedestrian And Bke Safety Education</td>\n",
       "      <td>3</td>\n",
       "      <td>MTC</td>\n",
       "      <td>2019-01-01</td>\n",
       "    </tr>\n",
       "    <tr>\n",
       "      <th>19102</th>\n",
       "      <td>19102</td>\n",
       "      <td>STPCML</td>\n",
       "      <td>5950(483)</td>\n",
       "      <td>Kern County</td>\n",
       "      <td>2021-04-21</td>\n",
       "      <td>423977.00</td>\n",
       "      <td>0.00</td>\n",
       "      <td>505638.00</td>\n",
       "      <td>Authorized</td>\n",
       "      <td>5950</td>\n",
       "      <td>6</td>\n",
       "      <td>KER180507</td>\n",
       "      <td>Hughes Lane, Between Terrace Way And Bakersfie...</td>\n",
       "      <td>Paving Hot Mix Asphalt, Constructing Concrete ...</td>\n",
       "      <td>1</td>\n",
       "      <td>KCOG</td>\n",
       "      <td>2021-01-01</td>\n",
       "    </tr>\n",
       "  </tbody>\n",
       "</table>\n",
       "</div>"
      ],
      "text/plain": [
       "       Unnamed: 0   prefix project_no        agency prepared_date  \\\n",
       "17570       17570      ATP  5173(037)        Fowler    2020-10-07   \n",
       "12299       12299    RPSTP  5270(010)  Laguna Beach    2014-03-03   \n",
       "16146       16146      CML  5950(462)   Kern County    2020-02-24   \n",
       "13476       13476  SRTSLNI  5472(015)       Windsor    2019-04-12   \n",
       "19102       19102   STPCML  5950(483)   Kern County    2021-04-21   \n",
       "\n",
       "       fed_requested  ac_requested  total_requested status_comment locode  \\\n",
       "17570        3000.00          0.00          3389.00     Authorized   5173   \n",
       "12299      -39486.04          0.00        -35372.23     Authorized    NaN   \n",
       "16146      539500.00          0.00        748500.00     Authorized   5950   \n",
       "13476           0.00          0.00             0.00     Authorized   5472   \n",
       "19102      423977.00          0.00        505638.00     Authorized   5950   \n",
       "\n",
       "       dist    ftip_no                                   project_location  \\\n",
       "17570     6  FRE150045  Westside Of Golden State Boulevard From Adams ...   \n",
       "12299    12  ORA990907  Broadway (sr-133) From Acacia Drive/cliff Driv...   \n",
       "16146     6  KER180513  In Lamont Area ,wilson Ave: Hope Ave To Southe...   \n",
       "13476     4  VAR110012  Multiple Schools In Windsor Unified School Dis...   \n",
       "19102     6  KER180507  Hughes Lane, Between Terrace Way And Bakersfie...   \n",
       "\n",
       "                                            type_of_work  seq   mpo  \\\n",
       "17570       Construct A Class I Bike And Pedestrian Path    1  CFCG   \n",
       "12299                  Landscaping And Enhanced Sidewalk    2  SCAG   \n",
       "16146  Paving Dirt Roads And Shldrs And Construct Cur...    1  KCOG   \n",
       "13476        Conduct Pedestrian And Bke Safety Education    3   MTC   \n",
       "19102  Paving Hot Mix Asphalt, Constructing Concrete ...    1  KCOG   \n",
       "\n",
       "       prepared_y  \n",
       "17570  2020-01-01  \n",
       "12299  2014-01-01  \n",
       "16146  2020-01-01  \n",
       "13476  2019-01-01  \n",
       "19102  2021-01-01  "
      ]
     },
     "execution_count": 46,
     "metadata": {},
     "output_type": "execute_result"
    }
   ],
   "source": [
    "df.sample(5)"
   ]
  },
  {
   "cell_type": "code",
   "execution_count": 47,
   "id": "f05a4523-7dab-49b3-9736-4c638dcfbd38",
   "metadata": {},
   "outputs": [
    {
     "data": {
      "text/html": [
       "<div>\n",
       "<style scoped>\n",
       "    .dataframe tbody tr th:only-of-type {\n",
       "        vertical-align: middle;\n",
       "    }\n",
       "\n",
       "    .dataframe tbody tr th {\n",
       "        vertical-align: top;\n",
       "    }\n",
       "\n",
       "    .dataframe thead th {\n",
       "        text-align: right;\n",
       "    }\n",
       "</style>\n",
       "<table border=\"1\" class=\"dataframe\">\n",
       "  <thead>\n",
       "    <tr style=\"text-align: right;\">\n",
       "      <th></th>\n",
       "      <th>project_location</th>\n",
       "      <th>n</th>\n",
       "    </tr>\n",
       "  </thead>\n",
       "  <tbody>\n",
       "    <tr>\n",
       "      <th>6925</th>\n",
       "      <td>San Francisco Bay Area</td>\n",
       "      <td>65</td>\n",
       "    </tr>\n",
       "    <tr>\n",
       "      <th>8196</th>\n",
       "      <td>Various Locations</td>\n",
       "      <td>31</td>\n",
       "    </tr>\n",
       "    <tr>\n",
       "      <th>6846</th>\n",
       "      <td>Sacog Region</td>\n",
       "      <td>29</td>\n",
       "    </tr>\n",
       "    <tr>\n",
       "      <th>3028</th>\n",
       "      <td>Golden Gate Bridge</td>\n",
       "      <td>27</td>\n",
       "    </tr>\n",
       "    <tr>\n",
       "      <th>7864</th>\n",
       "      <td>Throughout Kern County</td>\n",
       "      <td>22</td>\n",
       "    </tr>\n",
       "  </tbody>\n",
       "</table>\n",
       "</div>"
      ],
      "text/plain": [
       "            project_location   n\n",
       "6925  San Francisco Bay Area  65\n",
       "8196       Various Locations  31\n",
       "6846            Sacog Region  29\n",
       "3028      Golden Gate Bridge  27\n",
       "7864  Throughout Kern County  22"
      ]
     },
     "execution_count": 47,
     "metadata": {},
     "output_type": "execute_result"
    }
   ],
   "source": [
    "(df >> count(_.project_location) >> arrange(-_.n)).head(5)"
   ]
  },
  {
   "cell_type": "markdown",
   "id": "ee23122e-f3d9-4a5e-b1b7-38cebbe41ff7",
   "metadata": {},
   "source": [
    "## Full Function for Prefix"
   ]
  },
  {
   "cell_type": "code",
   "execution_count": 56,
   "id": "01f57f33-9a69-4c6a-ae32-b0d2568d8c86",
   "metadata": {},
   "outputs": [
    {
     "data": {
      "application/vnd.jupyter.widget-view+json": {
       "model_id": "2bc3e4c9acda459b811c012bd6ad21d0",
       "version_major": 2,
       "version_minor": 0
      },
      "text/plain": [
       "interactive(children=(Dropdown(description='place', options=('Access Services', 'Agoura Hills', 'Ala-Con Costa…"
      ]
     },
     "metadata": {},
     "output_type": "display_data"
    }
   ],
   "source": [
    "    @interact\n",
    "    \n",
    "    def dla_get_prefix(place=df.agency.sort_values().unique().tolist()):\n",
    "        # for the table- using one as some agencies only have one entry\n",
    "        pd.set_option(\"display.max_columns\", None)\n",
    "        from IPython.core.display import display\n",
    "        display(df[df.agency == place].describe()) \n",
    "        display((df[df.agency == place] >> count(_.type_of_work) >> arrange(-_.n)).head(5)) \n",
    "        # graphs \n",
    "    \n",
    "        agencies = df[df.agency==place]\n",
    "    \n",
    "        prefix_count_n = agencies >> count(_.prefix) \n",
    "    \n",
    "        ax1 = (prefix_count_n\n",
    "            >> ggplot(aes(\"prefix\", \"n\", fill=\"prefix\")) \n",
    "               + geom_col() \n",
    "               + theme(axis_text_x = element_text(angle = 45 , hjust=1))\n",
    "               + labs(title='Agency Program Codes', x='Program Codes', y='Number of Obligations', fill=\"Program Type\")\n",
    "        )\n",
    "        return ax1\n",
    "\n",
    "        "
   ]
  },
  {
   "cell_type": "markdown",
   "id": "0f1d4c05-8a9c-42e6-9415-5f8010c32617",
   "metadata": {},
   "source": [
    "## Function for results by Prefix"
   ]
  },
  {
   "cell_type": "code",
   "execution_count": 49,
   "id": "f1620c6a-24ac-4e36-84d7-86871ed19251",
   "metadata": {},
   "outputs": [
    {
     "data": {
      "application/vnd.jupyter.widget-view+json": {
       "model_id": "d751d440b5804508b2530b0a93d46d7d",
       "version_major": 2,
       "version_minor": 0
      },
      "text/plain": [
       "interactive(children=(Dropdown(description='prefix', options=('6140000', 'ACNHPI', 'ACST-ER', 'ACSTP', 'ASCTP'…"
      ]
     },
     "metadata": {},
     "output_type": "display_data"
    }
   ],
   "source": [
    "@interact\n",
    "def prefix_all_agencies_4(prefix=df.prefix.sort_values().unique().tolist()):\n",
    "    # for the table- using one as some agencies only have one entry\n",
    "    display(df[(df.prefix == prefix)].sample(1))\n",
    "    \n",
    "    # graphs \n",
    "    prefixes = df[df.prefix== prefix]\n",
    "    #prefixes = df[df.prefix==prefix]\n",
    "    \n",
    "    prefix_count = (prefixes >> count(_.agency) >> arrange(-_.n)).head(5)\n",
    "    \n",
    "    ax1 = (prefix_count\n",
    "            >> ggplot(aes(\"agency\", \"n\", fill=\"agency\")) \n",
    "                + geom_col() \n",
    "                + theme(axis_text_x = element_text(angle = 45 , hjust=1))\n",
    "                + labs(title='Top 5 Agencies using Prefix', x='Agency', y='Number of Obligations', fill=\"Agency\")\n",
    "            )    \n",
    "    return ax1\n",
    "              "
   ]
  },
  {
   "cell_type": "code",
   "execution_count": null,
   "id": "e9ecdf45-70c7-4575-b56d-7bb3835e246d",
   "metadata": {},
   "outputs": [],
   "source": []
  }
 ],
 "metadata": {
  "kernelspec": {
   "display_name": "Python 3 (ipykernel)",
   "language": "python",
   "name": "python3"
  },
  "language_info": {
   "codemirror_mode": {
    "name": "ipython",
    "version": 3
   },
   "file_extension": ".py",
   "mimetype": "text/x-python",
   "name": "python",
   "nbconvert_exporter": "python",
   "pygments_lexer": "ipython3",
   "version": "3.9.7"
  }
 },
 "nbformat": 4,
 "nbformat_minor": 5
}
