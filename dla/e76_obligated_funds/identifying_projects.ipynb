{
 "cells": [
  {
   "cell_type": "markdown",
   "id": "ef8eb264-21e4-4e07-842f-5ab04d0dd8f5",
   "metadata": {},
   "source": [
    "# Identifing Project Groupings\n",
    "\n",
    "Looking into the different agencies, Locodes and Project IDs to identify instances of multiple oblgiations for the same project or type of funding in the same timeframe. \n",
    "\n",
    "Will look into various geographical locations, as well as the County with the most obligations, Humboldt County. \n"
   ]
  },
  {
   "cell_type": "code",
   "execution_count": 1,
   "id": "f5155f21-5e2a-47e7-9964-ff6cc394ad1f",
   "metadata": {},
   "outputs": [],
   "source": [
    "import pandas as pd\n",
    "from siuba import _, mutate, count, filter, group_by, ungroup, summarize, show_query, arrange, collect\n",
    "\n",
    "import numpy as np\n",
    "from sqlalchemy import create_engine\n",
    "from siuba.sql import LazyTbl"
   ]
  },
  {
   "cell_type": "code",
   "execution_count": 2,
   "id": "0670a1e2-62a4-400c-b12c-b576115e0e9a",
   "metadata": {},
   "outputs": [],
   "source": [
    "#! pip install plotnine"
   ]
  },
  {
   "cell_type": "code",
   "execution_count": 3,
   "id": "f5131e84-8510-4ed6-a6a3-55741a7757b8",
   "metadata": {},
   "outputs": [],
   "source": [
    "from plotnine import *"
   ]
  },
  {
   "cell_type": "code",
   "execution_count": 4,
   "id": "2e5cd868-1fc3-4deb-ae9e-f989bac6d1d5",
   "metadata": {},
   "outputs": [],
   "source": [
    "pd.set_option('display.max_columns', None)\n",
    "pd.options.display.float_format = \"{:.2f}\".format"
   ]
  },
  {
   "cell_type": "code",
   "execution_count": 5,
   "id": "4c8cfdd6-d55d-4073-aa5c-418d01ea46b9",
   "metadata": {},
   "outputs": [
    {
     "name": "stderr",
     "output_type": "stream",
     "text": [
      "/opt/conda/lib/python3.9/site-packages/google/auth/_default.py:73: UserWarning: Your application has authenticated using end user credentials from Google Cloud SDK without a quota project. You might receive a \"quota exceeded\" or \"API not enabled\" error. We recommend you rerun `gcloud auth application-default login` and make sure a quota project is added. Or you can use service accounts instead. For more information about service accounts, see https://cloud.google.com/docs/authentication/\n"
     ]
    }
   ],
   "source": [
    "df = pd.read_csv('gs://calitp-analytics-data/data-analyses/dla/e-76Obligated/clean_obligated_waiting.csv', low_memory=False).drop('Unnamed: 0', axis=1)"
   ]
  },
  {
   "cell_type": "code",
   "execution_count": 6,
   "id": "e089b07c-2dd5-4b0c-bf8a-2b4f465a690a",
   "metadata": {},
   "outputs": [
    {
     "data": {
      "text/html": [
       "<div>\n",
       "<style scoped>\n",
       "    .dataframe tbody tr th:only-of-type {\n",
       "        vertical-align: middle;\n",
       "    }\n",
       "\n",
       "    .dataframe tbody tr th {\n",
       "        vertical-align: top;\n",
       "    }\n",
       "\n",
       "    .dataframe thead th {\n",
       "        text-align: right;\n",
       "    }\n",
       "</style>\n",
       "<table border=\"1\" class=\"dataframe\">\n",
       "  <thead>\n",
       "    <tr style=\"text-align: right;\">\n",
       "      <th></th>\n",
       "      <th>location</th>\n",
       "      <th>prefix</th>\n",
       "      <th>project_no</th>\n",
       "      <th>agency</th>\n",
       "      <th>prepared_date</th>\n",
       "      <th>submit__to_hq_date</th>\n",
       "      <th>hq_review_date</th>\n",
       "      <th>submit_to_fhwa_date</th>\n",
       "      <th>to_fmis_date</th>\n",
       "      <th>fed_requested</th>\n",
       "      <th>ac_requested</th>\n",
       "      <th>total_requested</th>\n",
       "      <th>status_comment</th>\n",
       "      <th>locode</th>\n",
       "      <th>dist</th>\n",
       "      <th>status</th>\n",
       "      <th>dist_processing_days</th>\n",
       "      <th>hq_processing_days</th>\n",
       "      <th>fhwa_processing_days</th>\n",
       "      <th>ftip_no</th>\n",
       "      <th>project_location</th>\n",
       "      <th>type_of_work</th>\n",
       "      <th>seq</th>\n",
       "      <th>date_request_initiated</th>\n",
       "      <th>date_completed_request</th>\n",
       "      <th>mpo</th>\n",
       "      <th>warning</th>\n",
       "      <th>projectID</th>\n",
       "      <th>projectNO</th>\n",
       "      <th>compare_id_locode</th>\n",
       "    </tr>\n",
       "  </thead>\n",
       "  <tbody>\n",
       "    <tr>\n",
       "      <th>0</th>\n",
       "      <td>Obligated</td>\n",
       "      <td>BPMPL</td>\n",
       "      <td>5904(121)</td>\n",
       "      <td>Humboldt County</td>\n",
       "      <td>2018-12-18</td>\n",
       "      <td>2018-12-18</td>\n",
       "      <td>2018-12-18</td>\n",
       "      <td>2018-12-18</td>\n",
       "      <td>2018-12-27</td>\n",
       "      <td>0.00</td>\n",
       "      <td>0.00</td>\n",
       "      <td>0.00</td>\n",
       "      <td>Authorized</td>\n",
       "      <td>5904</td>\n",
       "      <td>1</td>\n",
       "      <td>E-76 approved on</td>\n",
       "      <td>NaN</td>\n",
       "      <td>0.00</td>\n",
       "      <td>9.00</td>\n",
       "      <td>HBPLOCAL</td>\n",
       "      <td>14 Bridges In Humboldt County</td>\n",
       "      <td>Bridge Preventive Maintenance - Deck Joints</td>\n",
       "      <td>3</td>\n",
       "      <td>NaN</td>\n",
       "      <td>NaN</td>\n",
       "      <td>NON-MPO</td>\n",
       "      <td>NaN</td>\n",
       "      <td>5904</td>\n",
       "      <td>121</td>\n",
       "      <td>True</td>\n",
       "    </tr>\n",
       "    <tr>\n",
       "      <th>1</th>\n",
       "      <td>Obligated</td>\n",
       "      <td>ER</td>\n",
       "      <td>32D0(008)</td>\n",
       "      <td>Mendocino County</td>\n",
       "      <td>2018-12-17</td>\n",
       "      <td>2018-12-19</td>\n",
       "      <td>2018-12-20</td>\n",
       "      <td>2018-12-20</td>\n",
       "      <td>2018-12-27</td>\n",
       "      <td>11508.00</td>\n",
       "      <td>0.00</td>\n",
       "      <td>13000.00</td>\n",
       "      <td>Authorized</td>\n",
       "      <td>5910</td>\n",
       "      <td>1</td>\n",
       "      <td>E-76 approved on</td>\n",
       "      <td>1.00</td>\n",
       "      <td>1.00</td>\n",
       "      <td>7.00</td>\n",
       "      <td>NaN</td>\n",
       "      <td>Comptche Ukiah Road, Cr 223 Pm 17.25</td>\n",
       "      <td>Permanent Restoration</td>\n",
       "      <td>3</td>\n",
       "      <td>2018-12-17</td>\n",
       "      <td>2018-12-18</td>\n",
       "      <td>NON-MPO</td>\n",
       "      <td>NaN</td>\n",
       "      <td>32D0</td>\n",
       "      <td>8</td>\n",
       "      <td>False</td>\n",
       "    </tr>\n",
       "    <tr>\n",
       "      <th>2</th>\n",
       "      <td>Obligated</td>\n",
       "      <td>ER</td>\n",
       "      <td>4820(004)</td>\n",
       "      <td>Humboldt County</td>\n",
       "      <td>2018-12-07</td>\n",
       "      <td>2018-12-21</td>\n",
       "      <td>2018-12-21</td>\n",
       "      <td>2018-12-21</td>\n",
       "      <td>2018-12-27</td>\n",
       "      <td>45499.64</td>\n",
       "      <td>0.00</td>\n",
       "      <td>51394.58</td>\n",
       "      <td>Authorized</td>\n",
       "      <td>5904</td>\n",
       "      <td>1</td>\n",
       "      <td>E-76 approved on</td>\n",
       "      <td>14.00</td>\n",
       "      <td>0.00</td>\n",
       "      <td>6.00</td>\n",
       "      <td>NaN</td>\n",
       "      <td>Mattole Rd Pm 43.17</td>\n",
       "      <td>Permanent Restoration</td>\n",
       "      <td>5</td>\n",
       "      <td>2018-12-06</td>\n",
       "      <td>2018-12-07</td>\n",
       "      <td>NON-MPO</td>\n",
       "      <td>NaN</td>\n",
       "      <td>4820</td>\n",
       "      <td>4</td>\n",
       "      <td>False</td>\n",
       "    </tr>\n",
       "    <tr>\n",
       "      <th>3</th>\n",
       "      <td>Obligated</td>\n",
       "      <td>CML</td>\n",
       "      <td>5924(244)</td>\n",
       "      <td>Sacramento County</td>\n",
       "      <td>2018-12-11</td>\n",
       "      <td>2018-12-11</td>\n",
       "      <td>2018-12-21</td>\n",
       "      <td>2018-12-27</td>\n",
       "      <td>2018-12-27</td>\n",
       "      <td>207002.00</td>\n",
       "      <td>0.00</td>\n",
       "      <td>247002.00</td>\n",
       "      <td>Authorized</td>\n",
       "      <td>5924</td>\n",
       "      <td>3</td>\n",
       "      <td>E-76 approved on</td>\n",
       "      <td>4.00</td>\n",
       "      <td>16.00</td>\n",
       "      <td>0.00</td>\n",
       "      <td>SAC25086</td>\n",
       "      <td>Fair Oaks Blvd. Between Howe Ave And Munroe St</td>\n",
       "      <td>Create A Smart Growth Corridor With Barrier Se...</td>\n",
       "      <td>1</td>\n",
       "      <td>2018-12-07</td>\n",
       "      <td>2018-12-07</td>\n",
       "      <td>SACOG</td>\n",
       "      <td>NaN</td>\n",
       "      <td>5924</td>\n",
       "      <td>244</td>\n",
       "      <td>True</td>\n",
       "    </tr>\n",
       "    <tr>\n",
       "      <th>4</th>\n",
       "      <td>Obligated</td>\n",
       "      <td>CML</td>\n",
       "      <td>5924(214)</td>\n",
       "      <td>Sacramento County</td>\n",
       "      <td>2018-12-05</td>\n",
       "      <td>2018-12-11</td>\n",
       "      <td>2018-12-21</td>\n",
       "      <td>2018-12-27</td>\n",
       "      <td>2018-12-27</td>\n",
       "      <td>0.00</td>\n",
       "      <td>5680921.00</td>\n",
       "      <td>5702041.00</td>\n",
       "      <td>Authorized</td>\n",
       "      <td>5924</td>\n",
       "      <td>3</td>\n",
       "      <td>E-76 approved on</td>\n",
       "      <td>7.00</td>\n",
       "      <td>16.00</td>\n",
       "      <td>0.00</td>\n",
       "      <td>SAC24753</td>\n",
       "      <td>Florin Rd Between Power Inn Rd. And Florin Per...</td>\n",
       "      <td>Streetscape (tc)</td>\n",
       "      <td>3</td>\n",
       "      <td>2018-11-28</td>\n",
       "      <td>2018-12-04</td>\n",
       "      <td>SACOG</td>\n",
       "      <td>NaN</td>\n",
       "      <td>5924</td>\n",
       "      <td>214</td>\n",
       "      <td>True</td>\n",
       "    </tr>\n",
       "  </tbody>\n",
       "</table>\n",
       "</div>"
      ],
      "text/plain": [
       "    location prefix project_no             agency prepared_date  \\\n",
       "0  Obligated  BPMPL  5904(121)    Humboldt County    2018-12-18   \n",
       "1  Obligated     ER  32D0(008)   Mendocino County    2018-12-17   \n",
       "2  Obligated     ER  4820(004)    Humboldt County    2018-12-07   \n",
       "3  Obligated    CML  5924(244)  Sacramento County    2018-12-11   \n",
       "4  Obligated    CML  5924(214)  Sacramento County    2018-12-05   \n",
       "\n",
       "  submit__to_hq_date hq_review_date submit_to_fhwa_date to_fmis_date  \\\n",
       "0         2018-12-18     2018-12-18          2018-12-18   2018-12-27   \n",
       "1         2018-12-19     2018-12-20          2018-12-20   2018-12-27   \n",
       "2         2018-12-21     2018-12-21          2018-12-21   2018-12-27   \n",
       "3         2018-12-11     2018-12-21          2018-12-27   2018-12-27   \n",
       "4         2018-12-11     2018-12-21          2018-12-27   2018-12-27   \n",
       "\n",
       "   fed_requested  ac_requested  total_requested status_comment locode  dist  \\\n",
       "0           0.00          0.00             0.00     Authorized   5904     1   \n",
       "1       11508.00          0.00         13000.00     Authorized   5910     1   \n",
       "2       45499.64          0.00         51394.58     Authorized   5904     1   \n",
       "3      207002.00          0.00        247002.00     Authorized   5924     3   \n",
       "4           0.00    5680921.00       5702041.00     Authorized   5924     3   \n",
       "\n",
       "             status  dist_processing_days  hq_processing_days  \\\n",
       "0  E-76 approved on                   NaN                0.00   \n",
       "1  E-76 approved on                  1.00                1.00   \n",
       "2  E-76 approved on                 14.00                0.00   \n",
       "3  E-76 approved on                  4.00               16.00   \n",
       "4  E-76 approved on                  7.00               16.00   \n",
       "\n",
       "   fhwa_processing_days   ftip_no  \\\n",
       "0                  9.00  HBPLOCAL   \n",
       "1                  7.00       NaN   \n",
       "2                  6.00       NaN   \n",
       "3                  0.00  SAC25086   \n",
       "4                  0.00  SAC24753   \n",
       "\n",
       "                                    project_location  \\\n",
       "0                      14 Bridges In Humboldt County   \n",
       "1               Comptche Ukiah Road, Cr 223 Pm 17.25   \n",
       "2                                Mattole Rd Pm 43.17   \n",
       "3     Fair Oaks Blvd. Between Howe Ave And Munroe St   \n",
       "4  Florin Rd Between Power Inn Rd. And Florin Per...   \n",
       "\n",
       "                                        type_of_work  seq  \\\n",
       "0        Bridge Preventive Maintenance - Deck Joints    3   \n",
       "1                              Permanent Restoration    3   \n",
       "2                              Permanent Restoration    5   \n",
       "3  Create A Smart Growth Corridor With Barrier Se...    1   \n",
       "4                                   Streetscape (tc)    3   \n",
       "\n",
       "  date_request_initiated date_completed_request      mpo warning projectID  \\\n",
       "0                    NaN                    NaN  NON-MPO     NaN      5904   \n",
       "1             2018-12-17             2018-12-18  NON-MPO     NaN      32D0   \n",
       "2             2018-12-06             2018-12-07  NON-MPO     NaN      4820   \n",
       "3             2018-12-07             2018-12-07    SACOG     NaN      5924   \n",
       "4             2018-11-28             2018-12-04    SACOG     NaN      5924   \n",
       "\n",
       "   projectNO  compare_id_locode  \n",
       "0        121               True  \n",
       "1          8              False  \n",
       "2          4              False  \n",
       "3        244               True  \n",
       "4        214               True  "
      ]
     },
     "execution_count": 6,
     "metadata": {},
     "output_type": "execute_result"
    }
   ],
   "source": [
    "df.head()"
   ]
  },
  {
   "cell_type": "code",
   "execution_count": 7,
   "id": "ab15a1b2-05c2-4d7c-8ac7-6466b31b871a",
   "metadata": {},
   "outputs": [
    {
     "ename": "KeyboardInterrupt",
     "evalue": "",
     "output_type": "error",
     "traceback": [
      "\u001b[0;31m---------------------------------------------------------------------------\u001b[0m",
      "\u001b[0;31mKeyboardInterrupt\u001b[0m                         Traceback (most recent call last)",
      "\u001b[0;32m/tmp/ipykernel_75/2064019295.py\u001b[0m in \u001b[0;36m<module>\u001b[0;34m\u001b[0m\n\u001b[1;32m      1\u001b[0m \u001b[0mcols\u001b[0m \u001b[0;34m=\u001b[0m \u001b[0;34m[\u001b[0m\u001b[0;34m'prepared_date'\u001b[0m\u001b[0;34m,\u001b[0m\u001b[0;34m'to_fmis_date'\u001b[0m\u001b[0;34m,\u001b[0m\u001b[0;34m'submit_to_fhwa_date'\u001b[0m\u001b[0;34m,\u001b[0m\u001b[0;34m'submit__to_hq_date'\u001b[0m\u001b[0;34m,\u001b[0m\u001b[0;34m'hq_review_date'\u001b[0m\u001b[0;34m,\u001b[0m\u001b[0;34m'date_request_initiated'\u001b[0m\u001b[0;34m,\u001b[0m\u001b[0;34m'date_completed_request'\u001b[0m\u001b[0;34m]\u001b[0m\u001b[0;34m\u001b[0m\u001b[0;34m\u001b[0m\u001b[0m\n\u001b[0;32m----> 2\u001b[0;31m \u001b[0mdf\u001b[0m\u001b[0;34m[\u001b[0m\u001b[0mcols\u001b[0m\u001b[0;34m]\u001b[0m \u001b[0;34m=\u001b[0m \u001b[0mdf\u001b[0m\u001b[0;34m[\u001b[0m\u001b[0mcols\u001b[0m\u001b[0;34m]\u001b[0m\u001b[0;34m.\u001b[0m\u001b[0mapplymap\u001b[0m\u001b[0;34m(\u001b[0m\u001b[0;32mlambda\u001b[0m \u001b[0mx\u001b[0m \u001b[0;34m:\u001b[0m \u001b[0mpd\u001b[0m\u001b[0;34m.\u001b[0m\u001b[0mto_datetime\u001b[0m\u001b[0;34m(\u001b[0m\u001b[0mx\u001b[0m\u001b[0;34m,\u001b[0m \u001b[0mformat\u001b[0m \u001b[0;34m=\u001b[0m \u001b[0;34m'%Y-%m-%d'\u001b[0m\u001b[0;34m)\u001b[0m\u001b[0;34m)\u001b[0m\u001b[0;34m\u001b[0m\u001b[0;34m\u001b[0m\u001b[0m\n\u001b[0m",
      "\u001b[0;32m/opt/conda/lib/python3.9/site-packages/pandas/core/frame.py\u001b[0m in \u001b[0;36mapplymap\u001b[0;34m(self, func, na_action, **kwargs)\u001b[0m\n\u001b[1;32m   8823\u001b[0m             \u001b[0;32mreturn\u001b[0m \u001b[0mlib\u001b[0m\u001b[0;34m.\u001b[0m\u001b[0mmap_infer\u001b[0m\u001b[0;34m(\u001b[0m\u001b[0mx\u001b[0m\u001b[0;34m.\u001b[0m\u001b[0mastype\u001b[0m\u001b[0;34m(\u001b[0m\u001b[0mobject\u001b[0m\u001b[0;34m)\u001b[0m\u001b[0;34m.\u001b[0m\u001b[0m_values\u001b[0m\u001b[0;34m,\u001b[0m \u001b[0mfunc\u001b[0m\u001b[0;34m,\u001b[0m \u001b[0mignore_na\u001b[0m\u001b[0;34m=\u001b[0m\u001b[0mignore_na\u001b[0m\u001b[0;34m)\u001b[0m\u001b[0;34m\u001b[0m\u001b[0;34m\u001b[0m\u001b[0m\n\u001b[1;32m   8824\u001b[0m \u001b[0;34m\u001b[0m\u001b[0m\n\u001b[0;32m-> 8825\u001b[0;31m         \u001b[0;32mreturn\u001b[0m \u001b[0mself\u001b[0m\u001b[0;34m.\u001b[0m\u001b[0mapply\u001b[0m\u001b[0;34m(\u001b[0m\u001b[0minfer\u001b[0m\u001b[0;34m)\u001b[0m\u001b[0;34m.\u001b[0m\u001b[0m__finalize__\u001b[0m\u001b[0;34m(\u001b[0m\u001b[0mself\u001b[0m\u001b[0;34m,\u001b[0m \u001b[0;34m\"applymap\"\u001b[0m\u001b[0;34m)\u001b[0m\u001b[0;34m\u001b[0m\u001b[0;34m\u001b[0m\u001b[0m\n\u001b[0m\u001b[1;32m   8826\u001b[0m \u001b[0;34m\u001b[0m\u001b[0m\n\u001b[1;32m   8827\u001b[0m     \u001b[0;31m# ----------------------------------------------------------------------\u001b[0m\u001b[0;34m\u001b[0m\u001b[0;34m\u001b[0m\u001b[0m\n",
      "\u001b[0;32m/opt/conda/lib/python3.9/site-packages/pandas/core/frame.py\u001b[0m in \u001b[0;36mapply\u001b[0;34m(self, func, axis, raw, result_type, args, **kwargs)\u001b[0m\n\u001b[1;32m   8738\u001b[0m             \u001b[0mkwargs\u001b[0m\u001b[0;34m=\u001b[0m\u001b[0mkwargs\u001b[0m\u001b[0;34m,\u001b[0m\u001b[0;34m\u001b[0m\u001b[0;34m\u001b[0m\u001b[0m\n\u001b[1;32m   8739\u001b[0m         )\n\u001b[0;32m-> 8740\u001b[0;31m         \u001b[0;32mreturn\u001b[0m \u001b[0mop\u001b[0m\u001b[0;34m.\u001b[0m\u001b[0mapply\u001b[0m\u001b[0;34m(\u001b[0m\u001b[0;34m)\u001b[0m\u001b[0;34m\u001b[0m\u001b[0;34m\u001b[0m\u001b[0m\n\u001b[0m\u001b[1;32m   8741\u001b[0m \u001b[0;34m\u001b[0m\u001b[0m\n\u001b[1;32m   8742\u001b[0m     def applymap(\n",
      "\u001b[0;32m/opt/conda/lib/python3.9/site-packages/pandas/core/apply.py\u001b[0m in \u001b[0;36mapply\u001b[0;34m(self)\u001b[0m\n\u001b[1;32m    686\u001b[0m             \u001b[0;32mreturn\u001b[0m \u001b[0mself\u001b[0m\u001b[0;34m.\u001b[0m\u001b[0mapply_raw\u001b[0m\u001b[0;34m(\u001b[0m\u001b[0;34m)\u001b[0m\u001b[0;34m\u001b[0m\u001b[0;34m\u001b[0m\u001b[0m\n\u001b[1;32m    687\u001b[0m \u001b[0;34m\u001b[0m\u001b[0m\n\u001b[0;32m--> 688\u001b[0;31m         \u001b[0;32mreturn\u001b[0m \u001b[0mself\u001b[0m\u001b[0;34m.\u001b[0m\u001b[0mapply_standard\u001b[0m\u001b[0;34m(\u001b[0m\u001b[0;34m)\u001b[0m\u001b[0;34m\u001b[0m\u001b[0;34m\u001b[0m\u001b[0m\n\u001b[0m\u001b[1;32m    689\u001b[0m \u001b[0;34m\u001b[0m\u001b[0m\n\u001b[1;32m    690\u001b[0m     \u001b[0;32mdef\u001b[0m \u001b[0magg\u001b[0m\u001b[0;34m(\u001b[0m\u001b[0mself\u001b[0m\u001b[0;34m)\u001b[0m\u001b[0;34m:\u001b[0m\u001b[0;34m\u001b[0m\u001b[0;34m\u001b[0m\u001b[0m\n",
      "\u001b[0;32m/opt/conda/lib/python3.9/site-packages/pandas/core/apply.py\u001b[0m in \u001b[0;36mapply_standard\u001b[0;34m(self)\u001b[0m\n\u001b[1;32m    810\u001b[0m \u001b[0;34m\u001b[0m\u001b[0m\n\u001b[1;32m    811\u001b[0m     \u001b[0;32mdef\u001b[0m \u001b[0mapply_standard\u001b[0m\u001b[0;34m(\u001b[0m\u001b[0mself\u001b[0m\u001b[0;34m)\u001b[0m\u001b[0;34m:\u001b[0m\u001b[0;34m\u001b[0m\u001b[0;34m\u001b[0m\u001b[0m\n\u001b[0;32m--> 812\u001b[0;31m         \u001b[0mresults\u001b[0m\u001b[0;34m,\u001b[0m \u001b[0mres_index\u001b[0m \u001b[0;34m=\u001b[0m \u001b[0mself\u001b[0m\u001b[0;34m.\u001b[0m\u001b[0mapply_series_generator\u001b[0m\u001b[0;34m(\u001b[0m\u001b[0;34m)\u001b[0m\u001b[0;34m\u001b[0m\u001b[0;34m\u001b[0m\u001b[0m\n\u001b[0m\u001b[1;32m    813\u001b[0m \u001b[0;34m\u001b[0m\u001b[0m\n\u001b[1;32m    814\u001b[0m         \u001b[0;31m# wrap results\u001b[0m\u001b[0;34m\u001b[0m\u001b[0;34m\u001b[0m\u001b[0m\n",
      "\u001b[0;32m/opt/conda/lib/python3.9/site-packages/pandas/core/apply.py\u001b[0m in \u001b[0;36mapply_series_generator\u001b[0;34m(self)\u001b[0m\n\u001b[1;32m    826\u001b[0m             \u001b[0;32mfor\u001b[0m \u001b[0mi\u001b[0m\u001b[0;34m,\u001b[0m \u001b[0mv\u001b[0m \u001b[0;32min\u001b[0m \u001b[0menumerate\u001b[0m\u001b[0;34m(\u001b[0m\u001b[0mseries_gen\u001b[0m\u001b[0;34m)\u001b[0m\u001b[0;34m:\u001b[0m\u001b[0;34m\u001b[0m\u001b[0;34m\u001b[0m\u001b[0m\n\u001b[1;32m    827\u001b[0m                 \u001b[0;31m# ignore SettingWithCopy here in case the user mutates\u001b[0m\u001b[0;34m\u001b[0m\u001b[0;34m\u001b[0m\u001b[0m\n\u001b[0;32m--> 828\u001b[0;31m                 \u001b[0mresults\u001b[0m\u001b[0;34m[\u001b[0m\u001b[0mi\u001b[0m\u001b[0;34m]\u001b[0m \u001b[0;34m=\u001b[0m \u001b[0mself\u001b[0m\u001b[0;34m.\u001b[0m\u001b[0mf\u001b[0m\u001b[0;34m(\u001b[0m\u001b[0mv\u001b[0m\u001b[0;34m)\u001b[0m\u001b[0;34m\u001b[0m\u001b[0;34m\u001b[0m\u001b[0m\n\u001b[0m\u001b[1;32m    829\u001b[0m                 \u001b[0;32mif\u001b[0m \u001b[0misinstance\u001b[0m\u001b[0;34m(\u001b[0m\u001b[0mresults\u001b[0m\u001b[0;34m[\u001b[0m\u001b[0mi\u001b[0m\u001b[0;34m]\u001b[0m\u001b[0;34m,\u001b[0m \u001b[0mABCSeries\u001b[0m\u001b[0;34m)\u001b[0m\u001b[0;34m:\u001b[0m\u001b[0;34m\u001b[0m\u001b[0;34m\u001b[0m\u001b[0m\n\u001b[1;32m    830\u001b[0m                     \u001b[0;31m# If we have a view on v, we need to make a copy because\u001b[0m\u001b[0;34m\u001b[0m\u001b[0;34m\u001b[0m\u001b[0m\n",
      "\u001b[0;32m/opt/conda/lib/python3.9/site-packages/pandas/core/frame.py\u001b[0m in \u001b[0;36minfer\u001b[0;34m(x)\u001b[0m\n\u001b[1;32m   8821\u001b[0m             \u001b[0;32mif\u001b[0m \u001b[0mx\u001b[0m\u001b[0;34m.\u001b[0m\u001b[0mempty\u001b[0m\u001b[0;34m:\u001b[0m\u001b[0;34m\u001b[0m\u001b[0;34m\u001b[0m\u001b[0m\n\u001b[1;32m   8822\u001b[0m                 \u001b[0;32mreturn\u001b[0m \u001b[0mlib\u001b[0m\u001b[0;34m.\u001b[0m\u001b[0mmap_infer\u001b[0m\u001b[0;34m(\u001b[0m\u001b[0mx\u001b[0m\u001b[0;34m,\u001b[0m \u001b[0mfunc\u001b[0m\u001b[0;34m,\u001b[0m \u001b[0mignore_na\u001b[0m\u001b[0;34m=\u001b[0m\u001b[0mignore_na\u001b[0m\u001b[0;34m)\u001b[0m\u001b[0;34m\u001b[0m\u001b[0;34m\u001b[0m\u001b[0m\n\u001b[0;32m-> 8823\u001b[0;31m             \u001b[0;32mreturn\u001b[0m \u001b[0mlib\u001b[0m\u001b[0;34m.\u001b[0m\u001b[0mmap_infer\u001b[0m\u001b[0;34m(\u001b[0m\u001b[0mx\u001b[0m\u001b[0;34m.\u001b[0m\u001b[0mastype\u001b[0m\u001b[0;34m(\u001b[0m\u001b[0mobject\u001b[0m\u001b[0;34m)\u001b[0m\u001b[0;34m.\u001b[0m\u001b[0m_values\u001b[0m\u001b[0;34m,\u001b[0m \u001b[0mfunc\u001b[0m\u001b[0;34m,\u001b[0m \u001b[0mignore_na\u001b[0m\u001b[0;34m=\u001b[0m\u001b[0mignore_na\u001b[0m\u001b[0;34m)\u001b[0m\u001b[0;34m\u001b[0m\u001b[0;34m\u001b[0m\u001b[0m\n\u001b[0m\u001b[1;32m   8824\u001b[0m \u001b[0;34m\u001b[0m\u001b[0m\n\u001b[1;32m   8825\u001b[0m         \u001b[0;32mreturn\u001b[0m \u001b[0mself\u001b[0m\u001b[0;34m.\u001b[0m\u001b[0mapply\u001b[0m\u001b[0;34m(\u001b[0m\u001b[0minfer\u001b[0m\u001b[0;34m)\u001b[0m\u001b[0;34m.\u001b[0m\u001b[0m__finalize__\u001b[0m\u001b[0;34m(\u001b[0m\u001b[0mself\u001b[0m\u001b[0;34m,\u001b[0m \u001b[0;34m\"applymap\"\u001b[0m\u001b[0;34m)\u001b[0m\u001b[0;34m\u001b[0m\u001b[0;34m\u001b[0m\u001b[0m\n",
      "\u001b[0;32m/opt/conda/lib/python3.9/site-packages/pandas/_libs/lib.pyx\u001b[0m in \u001b[0;36mpandas._libs.lib.map_infer\u001b[0;34m()\u001b[0m\n",
      "\u001b[0;32m/tmp/ipykernel_75/2064019295.py\u001b[0m in \u001b[0;36m<lambda>\u001b[0;34m(x)\u001b[0m\n\u001b[1;32m      1\u001b[0m \u001b[0mcols\u001b[0m \u001b[0;34m=\u001b[0m \u001b[0;34m[\u001b[0m\u001b[0;34m'prepared_date'\u001b[0m\u001b[0;34m,\u001b[0m\u001b[0;34m'to_fmis_date'\u001b[0m\u001b[0;34m,\u001b[0m\u001b[0;34m'submit_to_fhwa_date'\u001b[0m\u001b[0;34m,\u001b[0m\u001b[0;34m'submit__to_hq_date'\u001b[0m\u001b[0;34m,\u001b[0m\u001b[0;34m'hq_review_date'\u001b[0m\u001b[0;34m,\u001b[0m\u001b[0;34m'date_request_initiated'\u001b[0m\u001b[0;34m,\u001b[0m\u001b[0;34m'date_completed_request'\u001b[0m\u001b[0;34m]\u001b[0m\u001b[0;34m\u001b[0m\u001b[0;34m\u001b[0m\u001b[0m\n\u001b[0;32m----> 2\u001b[0;31m \u001b[0mdf\u001b[0m\u001b[0;34m[\u001b[0m\u001b[0mcols\u001b[0m\u001b[0;34m]\u001b[0m \u001b[0;34m=\u001b[0m \u001b[0mdf\u001b[0m\u001b[0;34m[\u001b[0m\u001b[0mcols\u001b[0m\u001b[0;34m]\u001b[0m\u001b[0;34m.\u001b[0m\u001b[0mapplymap\u001b[0m\u001b[0;34m(\u001b[0m\u001b[0;32mlambda\u001b[0m \u001b[0mx\u001b[0m \u001b[0;34m:\u001b[0m \u001b[0mpd\u001b[0m\u001b[0;34m.\u001b[0m\u001b[0mto_datetime\u001b[0m\u001b[0;34m(\u001b[0m\u001b[0mx\u001b[0m\u001b[0;34m,\u001b[0m \u001b[0mformat\u001b[0m \u001b[0;34m=\u001b[0m \u001b[0;34m'%Y-%m-%d'\u001b[0m\u001b[0;34m)\u001b[0m\u001b[0;34m)\u001b[0m\u001b[0;34m\u001b[0m\u001b[0;34m\u001b[0m\u001b[0m\n\u001b[0m",
      "\u001b[0;32m/opt/conda/lib/python3.9/site-packages/pandas/core/tools/datetimes.py\u001b[0m in \u001b[0;36mto_datetime\u001b[0;34m(arg, errors, dayfirst, yearfirst, utc, format, exact, unit, infer_datetime_format, origin, cache)\u001b[0m\n\u001b[1;32m    912\u001b[0m             \u001b[0mresult\u001b[0m \u001b[0;34m=\u001b[0m \u001b[0mconvert_listlike\u001b[0m\u001b[0;34m(\u001b[0m\u001b[0marg\u001b[0m\u001b[0;34m,\u001b[0m \u001b[0mformat\u001b[0m\u001b[0;34m)\u001b[0m\u001b[0;34m\u001b[0m\u001b[0;34m\u001b[0m\u001b[0m\n\u001b[1;32m    913\u001b[0m     \u001b[0;32melse\u001b[0m\u001b[0;34m:\u001b[0m\u001b[0;34m\u001b[0m\u001b[0;34m\u001b[0m\u001b[0m\n\u001b[0;32m--> 914\u001b[0;31m         \u001b[0mresult\u001b[0m \u001b[0;34m=\u001b[0m \u001b[0mconvert_listlike\u001b[0m\u001b[0;34m(\u001b[0m\u001b[0mnp\u001b[0m\u001b[0;34m.\u001b[0m\u001b[0marray\u001b[0m\u001b[0;34m(\u001b[0m\u001b[0;34m[\u001b[0m\u001b[0marg\u001b[0m\u001b[0;34m]\u001b[0m\u001b[0;34m)\u001b[0m\u001b[0;34m,\u001b[0m \u001b[0mformat\u001b[0m\u001b[0;34m)\u001b[0m\u001b[0;34m[\u001b[0m\u001b[0;36m0\u001b[0m\u001b[0;34m]\u001b[0m\u001b[0;34m\u001b[0m\u001b[0;34m\u001b[0m\u001b[0m\n\u001b[0m\u001b[1;32m    915\u001b[0m \u001b[0;34m\u001b[0m\u001b[0m\n\u001b[1;32m    916\u001b[0m     \u001b[0;31m#  error: Incompatible return value type (got \"Union[Timestamp, NaTType,\u001b[0m\u001b[0;34m\u001b[0m\u001b[0;34m\u001b[0m\u001b[0m\n",
      "\u001b[0;32m/opt/conda/lib/python3.9/site-packages/pandas/core/indexes/extension.py\u001b[0m in \u001b[0;36m__getitem__\u001b[0;34m(self, key)\u001b[0m\n\u001b[1;32m    276\u001b[0m     \u001b[0;31m# NDarray-Like Methods\u001b[0m\u001b[0;34m\u001b[0m\u001b[0;34m\u001b[0m\u001b[0m\n\u001b[1;32m    277\u001b[0m \u001b[0;34m\u001b[0m\u001b[0m\n\u001b[0;32m--> 278\u001b[0;31m     \u001b[0;32mdef\u001b[0m \u001b[0m__getitem__\u001b[0m\u001b[0;34m(\u001b[0m\u001b[0mself\u001b[0m\u001b[0;34m,\u001b[0m \u001b[0mkey\u001b[0m\u001b[0;34m)\u001b[0m\u001b[0;34m:\u001b[0m\u001b[0;34m\u001b[0m\u001b[0;34m\u001b[0m\u001b[0m\n\u001b[0m\u001b[1;32m    279\u001b[0m         \u001b[0mresult\u001b[0m \u001b[0;34m=\u001b[0m \u001b[0mself\u001b[0m\u001b[0;34m.\u001b[0m\u001b[0m_data\u001b[0m\u001b[0;34m[\u001b[0m\u001b[0mkey\u001b[0m\u001b[0;34m]\u001b[0m\u001b[0;34m\u001b[0m\u001b[0;34m\u001b[0m\u001b[0m\n\u001b[1;32m    280\u001b[0m         \u001b[0;32mif\u001b[0m \u001b[0misinstance\u001b[0m\u001b[0;34m(\u001b[0m\u001b[0mresult\u001b[0m\u001b[0;34m,\u001b[0m \u001b[0mtype\u001b[0m\u001b[0;34m(\u001b[0m\u001b[0mself\u001b[0m\u001b[0;34m.\u001b[0m\u001b[0m_data\u001b[0m\u001b[0;34m)\u001b[0m\u001b[0;34m)\u001b[0m\u001b[0;34m:\u001b[0m\u001b[0;34m\u001b[0m\u001b[0;34m\u001b[0m\u001b[0m\n",
      "\u001b[0;31mKeyboardInterrupt\u001b[0m: "
     ]
    }
   ],
   "source": [
    "cols = ['prepared_date','to_fmis_date','submit_to_fhwa_date','submit__to_hq_date','hq_review_date','date_request_initiated','date_completed_request']\n",
    "df[cols] = df[cols].applymap(lambda x : pd.to_datetime(x, format = '%Y-%m-%d'))"
   ]
  },
  {
   "cell_type": "code",
   "execution_count": null,
   "id": "54cb0c59-1030-44d0-a6d9-71960484605b",
   "metadata": {},
   "outputs": [],
   "source": []
  },
  {
   "cell_type": "code",
   "execution_count": null,
   "id": "6c9eecda-70b7-4890-b31e-895332715906",
   "metadata": {},
   "outputs": [],
   "source": [
    "df.prefix.value_counts().sort_values(ascending=False)"
   ]
  },
  {
   "cell_type": "code",
   "execution_count": null,
   "id": "b667d3a9-2c4c-4f3b-a24f-d35bb08f2b4d",
   "metadata": {},
   "outputs": [],
   "source": [
    "df.agency.value_counts().sort_values(ascending=False).nlargest(10)"
   ]
  },
  {
   "cell_type": "code",
   "execution_count": null,
   "id": "c3dd051a-3cff-4b0e-ac4c-dc10d96f53e8",
   "metadata": {},
   "outputs": [],
   "source": [
    "df.agency.value_counts().sort_values(ascending=False).nsmallest(10)"
   ]
  },
  {
   "cell_type": "markdown",
   "id": "aade2ca2-2ca5-4e86-a9c7-502ef65449f9",
   "metadata": {
    "tags": []
   },
   "source": [
    "## What dates have the most obligations? "
   ]
  },
  {
   "cell_type": "code",
   "execution_count": null,
   "id": "82fe86ba-a6a1-4e7e-ad1e-49b6c477d9d5",
   "metadata": {},
   "outputs": [],
   "source": [
    "df.sample()"
   ]
  },
  {
   "cell_type": "code",
   "execution_count": null,
   "id": "3b4405f3-de7b-448a-a9f0-13a1a559d94e",
   "metadata": {},
   "outputs": [],
   "source": [
    "df.loc[df[\"prepared_date\"] == \"NaT\"]"
   ]
  },
  {
   "cell_type": "code",
   "execution_count": null,
   "id": "1ba03118-3c96-424a-afc4-02a54d2cd921",
   "metadata": {},
   "outputs": [],
   "source": [
    "df['prepared_date'].isnull().sum()"
   ]
  },
  {
   "cell_type": "code",
   "execution_count": null,
   "id": "0641911d-5317-4824-a083-0fcbef1d672d",
   "metadata": {},
   "outputs": [],
   "source": [
    "df['date_request_initiated'].isnull().sum()"
   ]
  },
  {
   "cell_type": "code",
   "execution_count": null,
   "id": "c9d7bd28-8721-45a4-8587-4ce7f5a1c0c7",
   "metadata": {},
   "outputs": [],
   "source": [
    "df['date_completed_request'].isnull().sum()"
   ]
  },
  {
   "cell_type": "code",
   "execution_count": null,
   "id": "4e64c512-d11a-4900-9536-37f22b8675de",
   "metadata": {},
   "outputs": [],
   "source": [
    "df['to_fmis_date'].isnull().sum()"
   ]
  },
  {
   "cell_type": "markdown",
   "id": "f0a90140-c78a-4260-8d26-f4a0813e0caf",
   "metadata": {},
   "source": [
    "`Prepared Date` is the best to check when the obligations began. Ideally we would like to use the `Date Request Initiated` and `Date Completed Request`, but they have more NaT values\n",
    "\n",
    "Since `prepared date` is the best, we will create columns containing the month and year of each obligation."
   ]
  },
  {
   "cell_type": "code",
   "execution_count": null,
   "id": "e13103ef-db5a-44d3-8e71-cbb69dfdec41",
   "metadata": {},
   "outputs": [],
   "source": [
    "df['prepared_y_m'] = pd.to_datetime(df[\"prepared_date\"].dt.strftime('%Y-%m'))"
   ]
  },
  {
   "cell_type": "code",
   "execution_count": null,
   "id": "2557f3ea-e149-4e04-8e04-76a4a6798067",
   "metadata": {},
   "outputs": [],
   "source": [
    "df['prepared_y'] = pd.to_datetime(df[\"prepared_date\"].dt.strftime('%Y'))"
   ]
  },
  {
   "cell_type": "code",
   "execution_count": null,
   "id": "3f62edde-f280-4f63-8230-9f63414d4414",
   "metadata": {},
   "outputs": [],
   "source": [
    "df.sample()"
   ]
  },
  {
   "cell_type": "code",
   "execution_count": null,
   "id": "985aeb4e-469e-4eb1-83ef-fb9ca41668e2",
   "metadata": {},
   "outputs": [],
   "source": [
    "(df\n",
    "    >> group_by(_.agency)\n",
    "    >> count(_.prepared_date) \n",
    "    >> arrange(-_.n)\n",
    "    >> filter(_.n >= 5)\n",
    ")"
   ]
  },
  {
   "cell_type": "code",
   "execution_count": null,
   "id": "716aa5df-d1d3-44a5-a365-8337a129874b",
   "metadata": {},
   "outputs": [],
   "source": []
  },
  {
   "cell_type": "code",
   "execution_count": null,
   "id": "cb22de24-1567-45da-b686-9c9815fc334b",
   "metadata": {},
   "outputs": [],
   "source": [
    "(df\n",
    "    >> group_by(_.agency)\n",
    "    >> count(_.prepared_date) \n",
    "    >> arrange(-_.n)\n",
    "    >> filter(_.n >= 5)\n",
    ")"
   ]
  },
  {
   "cell_type": "markdown",
   "id": "bdba37a6-db2a-44a3-9396-4cb7944aef18",
   "metadata": {},
   "source": [
    "102 rows of agencies that have more than 5 obligations on the same date. Will get into Humboldt County in another notebook"
   ]
  },
  {
   "cell_type": "code",
   "execution_count": null,
   "id": "bb24a947-7c5b-429f-8d3b-a4a8d28c966d",
   "metadata": {},
   "outputs": [],
   "source": [
    "(df\n",
    "    >> group_by(_.prefix)\n",
    "    >> count(_.prepared_y_m) \n",
    "    >> arrange(-_.n)\n",
    ")"
   ]
  },
  {
   "cell_type": "markdown",
   "id": "29c63476-a173-4fe1-94c6-0478914a50a0",
   "metadata": {},
   "source": [
    "132 obligations in the same month of June 2018 for ER funds"
   ]
  },
  {
   "cell_type": "markdown",
   "id": "3ee6e46f-f9a7-44ea-8878-314e119b8c87",
   "metadata": {
    "tags": []
   },
   "source": [
    "### Agencies with 5 or more Obligations on a given date"
   ]
  },
  {
   "cell_type": "code",
   "execution_count": null,
   "id": "4714b929-497d-417f-8003-f97b49edb600",
   "metadata": {},
   "outputs": [],
   "source": [
    "## grouping by project code too to see which if that is a factor... \n",
    "(df\n",
    "    >> group_by(_.agency, _.project_no)\n",
    "    >> count(_.prepared_date) \n",
    "    >> arrange(-_.n)\n",
    "    >> filter(_.n >= 5)\n",
    ")"
   ]
  },
  {
   "cell_type": "code",
   "execution_count": null,
   "id": "6cbf0866-aa04-45a4-b26d-bc46656ec38c",
   "metadata": {
    "tags": []
   },
   "outputs": [],
   "source": [
    "(df\n",
    "    >> group_by(_.agency, _.project_no)\n",
    "    >> count(_.prepared_y_m) \n",
    "    >> arrange(-_.n)\n",
    "    >> filter(_.n >= 5)\n",
    ")"
   ]
  },
  {
   "cell_type": "markdown",
   "id": "45f6edbe-1d1b-4bbe-9e1e-b1570f58ebe9",
   "metadata": {},
   "source": [
    "looks like the same number of entries. trying for the year. "
   ]
  },
  {
   "cell_type": "code",
   "execution_count": null,
   "id": "3afbcd01-3c27-4e4e-aaae-06225c68c3f9",
   "metadata": {},
   "outputs": [],
   "source": [
    "df['prepared_y'] = pd.to_datetime(df[\"prepared_date\"].dt.strftime('%Y'))"
   ]
  },
  {
   "cell_type": "code",
   "execution_count": null,
   "id": "147f8ff4-903d-45df-98ae-a66956ecee54",
   "metadata": {},
   "outputs": [],
   "source": [
    "df.sample()"
   ]
  },
  {
   "cell_type": "code",
   "execution_count": null,
   "id": "f72f3cbe-c394-442b-9382-d49f673002f2",
   "metadata": {},
   "outputs": [],
   "source": [
    "(df\n",
    "    >> group_by(_.agency, _.project_no)\n",
    "    >> count(_.prepared_y) \n",
    "    >> arrange(-_.n)\n",
    "    >> filter(_.n >= 5)\n",
    ")"
   ]
  },
  {
   "cell_type": "markdown",
   "id": "05d52310-6cc7-4a53-bf60-6ac6709a51e7",
   "metadata": {},
   "source": [
    "got some new entries! \n",
    "\n",
    "Starting to look at the agencies individually now "
   ]
  },
  {
   "cell_type": "markdown",
   "id": "cc03091b-b32b-48f7-a746-7a634a6f9d6b",
   "metadata": {
    "tags": []
   },
   "source": [
    "### Diving into the agencies with 5 or more obligations\n",
    "\n",
    "\n",
    "After a few queries into the agencies, we found that many of the obligations are FTA transfers of an unspecified sort. After some digging, I found [this document](https://www.fhwa.dot.gov/federalaid/projects.pdf) containing the program codes for FTA transfers, which in this dataset are located in the `status_comment` column"
   ]
  },
  {
   "cell_type": "markdown",
   "id": "49f66543-eb10-42d3-875b-b0b76bb50ad7",
   "metadata": {
    "tags": []
   },
   "source": [
    "##### 1. City and County of San Francisco\n",
    "* 6328(082) / 2016-01-01\n"
   ]
  },
  {
   "cell_type": "code",
   "execution_count": null,
   "id": "adade4a9-034d-4eed-b48e-d4c95f75b596",
   "metadata": {},
   "outputs": [],
   "source": [
    "df >> filter(_.agency.str.contains(\"City & County Of San Francisco, Mta/Parking\"),\n",
    "             _.project_no == \"6328(082)\",\n",
    "             _.prepared_y =='2016-01-01')\n"
   ]
  },
  {
   "cell_type": "code",
   "execution_count": null,
   "id": "2306368b-a349-419e-9f23-0d1186d161b2",
   "metadata": {},
   "outputs": [],
   "source": [
    "# not much information here... no descriptions either\n",
    "## prefix of FTA does not tell much"
   ]
  },
  {
   "cell_type": "code",
   "execution_count": null,
   "id": "93e866af-d4c7-43c8-a08a-70a477fa9bb4",
   "metadata": {},
   "outputs": [],
   "source": [
    "(df >> filter(_.agency.str.contains(\"City & County Of San Francisco, Mta/Parking\"),\n",
    "             _.project_no == \"6328(082)\",\n",
    "             _.prepared_y =='2016-01-01')\n",
    "    >> count(_.status_comment)\n",
    ")"
   ]
  },
  {
   "cell_type": "code",
   "execution_count": null,
   "id": "f8223446-603e-400d-a328-4e6a98bc1fac",
   "metadata": {},
   "outputs": [],
   "source": [
    "# some variation in the program codes for the type of FTA Transfer"
   ]
  },
  {
   "cell_type": "code",
   "execution_count": null,
   "id": "6f1dd598-222d-4986-b207-b1b32d8d79e2",
   "metadata": {},
   "outputs": [],
   "source": [
    "(df >> filter(_.agency.str.contains(\"City & County Of San Francisco, Mta/Parking\"),\n",
    "             _.project_no == \"6328(082)\",\n",
    "             _.prepared_y =='2016-01-01')\n",
    "    >> summarize(sum_funds = _.total_requested.sum())\n",
    ")"
   ]
  },
  {
   "cell_type": "code",
   "execution_count": null,
   "id": "f72d8e71-0c37-4594-8ac7-2eb118d09945",
   "metadata": {},
   "outputs": [],
   "source": [
    "\n",
    "(df >> filter(_.agency.str.contains(\"City & County Of San Francisco, Mta/Parking\"),\n",
    "             _.project_no == \"6328(082)\",\n",
    "             _.prepared_y =='2016-01-01')\n",
    "    >> group_by(_.status_comment)\n",
    "    >> summarize(sum_funds = _.total_requested.sum())\n",
    ")"
   ]
  },
  {
   "cell_type": "code",
   "execution_count": null,
   "id": "46590022-5e25-4e2e-8600-97b1cf4dff7f",
   "metadata": {},
   "outputs": [],
   "source": [
    "(df >> filter(_.agency.str.contains(\"City & County Of San Francisco, Mta/Parking\"),\n",
    "             _.project_no == \"6328(082)\",\n",
    "             _.prepared_y =='2016-01-01')\n",
    "    >> group_by(_.status_comment)\n",
    "    >> summarize(sum_funds = _.total_requested.sum())\n",
    "    >> ggplot(aes(\"status_comment\", \"sum_funds\", fill=\"status_comment\")) + geom_col() + theme(axis_text_x = element_text(angle = 45 , hjust=1))\n",
    ")"
   ]
  },
  {
   "cell_type": "code",
   "execution_count": null,
   "id": "bb41b1c5-19a7-4528-8213-ad77ae28ec69",
   "metadata": {},
   "outputs": [],
   "source": []
  },
  {
   "cell_type": "markdown",
   "id": "24b3d104-2a99-478d-868a-6776686f505d",
   "metadata": {
    "tags": []
   },
   "source": [
    "##### 2. Napa County\n",
    "\n",
    "* 6429(023) / 2018-01-01"
   ]
  },
  {
   "cell_type": "code",
   "execution_count": null,
   "id": "7fbc9976-bba6-478b-82be-14440656b8da",
   "metadata": {},
   "outputs": [],
   "source": [
    "df >> filter(_.agency.str.contains(\"Napa County\"),\n",
    "             _.project_no == \"6429(023)\",\n",
    "             _.prepared_y =='2018-01-01')"
   ]
  },
  {
   "cell_type": "code",
   "execution_count": null,
   "id": "7a5f43b4-65b8-4b6b-b9d2-52dd967fb782",
   "metadata": {},
   "outputs": [],
   "source": [
    "# agian, not much infomation... \n",
    "# we have a program code of FTASTPL but no other descriptions"
   ]
  },
  {
   "cell_type": "code",
   "execution_count": null,
   "id": "7ca2d9c5-ea59-4cee-9fbb-6a84a82ae657",
   "metadata": {},
   "outputs": [],
   "source": [
    "(df >> filter(_.agency.str.contains(\"Napa County\"),\n",
    "             _.project_no == \"6429(023)\",\n",
    "             _.prepared_y =='2018-01-01')\n",
    "    >> count(_.status_comment)\n",
    ")"
   ]
  },
  {
   "cell_type": "code",
   "execution_count": null,
   "id": "b0b57157-622b-4017-8cdc-e8b05b8a3b34",
   "metadata": {},
   "outputs": [],
   "source": [
    "(df >> filter(_.agency.str.contains(\"Napa County\"),\n",
    "             _.project_no == \"6429(023)\",\n",
    "             _.prepared_y =='2018-01-01')\n",
    "    >> summarize(sum_funds = _.total_requested.sum())\n",
    ")"
   ]
  },
  {
   "cell_type": "code",
   "execution_count": null,
   "id": "a0a0d0d6-08be-4d5a-89a6-b17ca6ab4433",
   "metadata": {},
   "outputs": [],
   "source": [
    "(df >> filter(_.agency.str.contains(\"Napa County\"),\n",
    "             _.project_no == \"6429(023)\",\n",
    "             _.prepared_y =='2018-01-01')\n",
    "    >> group_by(_.status_comment)\n",
    "    >> summarize(sum_funds2 = _.total_requested.sum())\n",
    ")"
   ]
  },
  {
   "cell_type": "code",
   "execution_count": null,
   "id": "bd828812-c9b8-45dc-a7cb-88db0a060b4c",
   "metadata": {},
   "outputs": [],
   "source": [
    "(df >> filter(_.agency.str.contains(\"Napa County\"),\n",
    "             _.project_no == \"6429(023)\",\n",
    "             _.prepared_y =='2018-01-01')\n",
    "    >> group_by(_.status_comment)\n",
    "    >> summarize(sum_funds2 = _.total_requested.sum())\n",
    "    >> ggplot(aes(\"status_comment\", \"sum_funds2\", fill=\"status_comment\")) + geom_col() + theme(axis_text_x = element_text(angle = 45 , hjust=1))\n",
    ")\n"
   ]
  },
  {
   "cell_type": "code",
   "execution_count": null,
   "id": "26897afe-93a3-48c2-a4cf-2c825222543f",
   "metadata": {},
   "outputs": [],
   "source": []
  },
  {
   "cell_type": "markdown",
   "id": "73280eb4-247c-457b-9cb8-a55626f2d43a",
   "metadata": {
    "tags": []
   },
   "source": [
    "#####  3. Access Services\n",
    "* 6312(022) / 2016-01-01\n",
    "* 6312(027) / 2019-01-01"
   ]
  },
  {
   "cell_type": "code",
   "execution_count": null,
   "id": "e5b77473-6b53-464c-a867-f74aaacbc7ec",
   "metadata": {},
   "outputs": [],
   "source": [
    "(df >> filter(_.agency.str.contains(\"Access Services\"),\n",
    "             _.project_no == \"6312(022)\",\n",
    "             _.prepared_y =='2016-01-01')\n",
    ")"
   ]
  },
  {
   "cell_type": "code",
   "execution_count": null,
   "id": "adc64485-7290-4cfd-8b46-0a184de85f43",
   "metadata": {},
   "outputs": [],
   "source": [
    "(df >> filter(_.agency.str.contains(\"Access Services\"),\n",
    "             _.project_no == \"6312(022)\",\n",
    "             _.prepared_y =='2016-01-01')\n",
    "    >> count(_.status_comment)\n",
    ")"
   ]
  },
  {
   "cell_type": "code",
   "execution_count": null,
   "id": "91b028b6-67ff-4a64-8527-292ef08a6ad9",
   "metadata": {},
   "outputs": [],
   "source": [
    "(df >> filter(_.agency.str.contains(\"Access Services\"),\n",
    "             _.project_no == \"6312(022)\",\n",
    "             _.prepared_y =='2016-01-01')\n",
    "    >> group_by(_.status_comment)\n",
    "    >> summarize(sumfunds=_.total_requested.sum())\n",
    ")"
   ]
  },
  {
   "cell_type": "code",
   "execution_count": null,
   "id": "8de6adcc-0caf-44d1-a199-0de84ae0d3b9",
   "metadata": {},
   "outputs": [],
   "source": [
    "(df >> filter(_.agency.str.contains(\"Access Services\"),\n",
    "             _.project_no == \"6312(022)\",\n",
    "             _.prepared_y =='2016-01-01')\n",
    "    >> group_by(_.status_comment)\n",
    "    >> summarize(sumfunds=_.total_requested.sum())\n",
    "    >> ggplot(aes(\"status_comment\", \"sumfunds\", fill=\"status_comment\")) + geom_col() + theme(axis_text_x = element_text(angle = 45 , hjust=1))\n",
    ")"
   ]
  },
  {
   "cell_type": "code",
   "execution_count": null,
   "id": "158aeb99-56eb-4bdc-9d24-a409707f9b1a",
   "metadata": {},
   "outputs": [],
   "source": []
  },
  {
   "cell_type": "code",
   "execution_count": null,
   "id": "f8d1536d-cbf2-4a40-8e2d-a547920569c2",
   "metadata": {},
   "outputs": [],
   "source": [
    "(df >> filter(_.agency.str.contains(\"Access Services\"),\n",
    "             _.project_no == \"6312(027)\",\n",
    "             _.prepared_y =='2019-01-01')\n",
    ")"
   ]
  },
  {
   "cell_type": "code",
   "execution_count": null,
   "id": "afd48cd0-cb45-486f-a62a-cae803a5d2d7",
   "metadata": {},
   "outputs": [],
   "source": [
    "(df >> filter(_.agency.str.contains(\"Access Services\"),\n",
    "             _.project_no == \"6312(027)\",\n",
    "             _.prepared_y =='2019-01-01')\n",
    "    >> count(_.status_comment)\n",
    ")"
   ]
  },
  {
   "cell_type": "code",
   "execution_count": null,
   "id": "d9803d09-f465-4213-881e-dafd02da45dd",
   "metadata": {},
   "outputs": [],
   "source": [
    "(df >> filter(_.agency.str.contains(\"Access Services\"),\n",
    "             _.project_no == \"6312(027)\",\n",
    "             _.prepared_y =='2019-01-01')\n",
    "    >> group_by(_.status_comment)\n",
    "    >> summarize(sumfunds=_.total_requested.sum())\n",
    ")"
   ]
  },
  {
   "cell_type": "code",
   "execution_count": null,
   "id": "e8baf7eb-81f9-4510-98c7-259dd71b08b6",
   "metadata": {},
   "outputs": [],
   "source": [
    "(df >> filter(_.agency.str.contains(\"Access Services\"),\n",
    "             _.project_no == \"6312(027)\",\n",
    "             _.prepared_y =='2019-01-01')\n",
    "    >> group_by(_.status_comment)\n",
    "    >> summarize(sumfunds=_.total_requested.sum())\n",
    "    >> ggplot(aes(\"status_comment\", \"sumfunds\", fill=\"status_comment\")) + geom_col() + theme(axis_text_x = element_text(angle = 45 , hjust=1))\n",
    ")"
   ]
  },
  {
   "cell_type": "code",
   "execution_count": null,
   "id": "7947725b-0901-47d2-b047-cafe91f0d761",
   "metadata": {},
   "outputs": [],
   "source": []
  },
  {
   "cell_type": "code",
   "execution_count": null,
   "id": "f85ee8e2-74dc-4f08-8cbf-ced3e83e3f23",
   "metadata": {},
   "outputs": [],
   "source": []
  },
  {
   "cell_type": "code",
   "execution_count": null,
   "id": "79d64bf5-f40e-4bf2-9e8d-d27926bf7d98",
   "metadata": {},
   "outputs": [],
   "source": []
  },
  {
   "cell_type": "markdown",
   "id": "b89757f4-bd91-4c77-8a66-a991de707a86",
   "metadata": {
    "tags": []
   },
   "source": [
    "#####  4. Los Angeles County MTA \n",
    "\n",
    "* 6065(199) / 2015-01-01\n",
    "* 6065(225) / 2018-01-01\n",
    "* 6065(235) / 2019-01-01"
   ]
  },
  {
   "cell_type": "code",
   "execution_count": null,
   "id": "7da0b3a9-54f5-4e57-8e70-ba30feb45efc",
   "metadata": {},
   "outputs": [],
   "source": [
    "(df >> filter(_.agency.str.contains(\"Los Angeles County\"),\n",
    "             _.project_no == \"6065(199)\",\n",
    "             _.prepared_y =='2015-01-01')\n",
    ")"
   ]
  },
  {
   "cell_type": "code",
   "execution_count": null,
   "id": "17f95bba-220e-4707-ba83-bd5b5ac48594",
   "metadata": {},
   "outputs": [],
   "source": [
    "(df >> filter(_.agency.str.contains(\"Los Angeles County\"),\n",
    "             _.project_no == \"6065(199)\",\n",
    "             _.prepared_y =='2015-01-01')\n",
    "    >> count(_.status_comment)\n",
    ")"
   ]
  },
  {
   "cell_type": "code",
   "execution_count": null,
   "id": "8b9596a1-ee70-4a24-82fb-7fd76a75a255",
   "metadata": {},
   "outputs": [],
   "source": [
    "(df >> filter(_.agency.str.contains(\"Los Angeles County\"),\n",
    "             _.project_no == \"6065(199)\",\n",
    "             _.prepared_y =='2015-01-01')\n",
    "    >> group_by(_.status_comment)\n",
    "    >> summarize(sum_funds3= _.total_requested.sum())\n",
    ")"
   ]
  },
  {
   "cell_type": "code",
   "execution_count": null,
   "id": "78313af8-ffdf-43a4-9d7c-ff104e241cd3",
   "metadata": {},
   "outputs": [],
   "source": [
    "(df >> filter(_.agency.str.contains(\"Los Angeles County\"),\n",
    "             _.project_no == \"6065(199)\",\n",
    "             _.prepared_y =='2015-01-01')\n",
    "    >> group_by(_.status_comment)\n",
    "    >> summarize(sum_funds3= _.total_requested.sum())\n",
    "    >> ggplot(aes(\"status_comment\", \"sum_funds3\", fill=\"status_comment\")) + geom_col() + theme(axis_text_x = element_text(angle = 45 , hjust=1))\n",
    ")"
   ]
  },
  {
   "cell_type": "code",
   "execution_count": null,
   "id": "d5208265-39ec-4ae7-a60f-f11d96c617ee",
   "metadata": {},
   "outputs": [],
   "source": [
    "(df >> filter(_.agency.str.contains(\"Los Angeles County\"),\n",
    "             _.project_no == \"6065(225)\",\n",
    "             _.prepared_y =='2018-01-01')\n",
    ")"
   ]
  },
  {
   "cell_type": "code",
   "execution_count": null,
   "id": "a1c5216e-5490-473d-b6b6-745b8d5a8c33",
   "metadata": {},
   "outputs": [],
   "source": [
    "(df >> filter(_.agency.str.contains(\"Los Angeles County\"),\n",
    "             _.project_no == \"6065(225)\",\n",
    "             _.prepared_y =='2018-01-01')\n",
    "    >> count(_.status_comment)\n",
    ")"
   ]
  },
  {
   "cell_type": "code",
   "execution_count": null,
   "id": "90ae0726-a6d4-41e8-8c3a-c960879f153f",
   "metadata": {},
   "outputs": [],
   "source": [
    "(df >> filter(_.agency.str.contains(\"Los Angeles County\"),\n",
    "             _.project_no == \"6065(225)\",\n",
    "             _.prepared_y =='2018-01-01')\n",
    "    >> group_by(_.status_comment)\n",
    "    >> summarize(sumfunds = _.total_requested.sum())\n",
    ")"
   ]
  },
  {
   "cell_type": "code",
   "execution_count": null,
   "id": "3b5760c3-269a-4ecf-b7be-c7f8c3aa0b47",
   "metadata": {},
   "outputs": [],
   "source": [
    "(df >> filter(_.agency.str.contains(\"Los Angeles County\"),\n",
    "             _.project_no == \"6065(225)\",\n",
    "             _.prepared_y =='2018-01-01')\n",
    "    >> group_by(_.status_comment)\n",
    "    >> summarize(sumfunds = _.total_requested.sum())\n",
    "    >> ggplot(aes(\"status_comment\", \"sumfunds\", fill=\"status_comment\")) + geom_col() + theme(axis_text_x = element_text(angle = 45 , hjust=1))\n",
    ")"
   ]
  },
  {
   "cell_type": "code",
   "execution_count": null,
   "id": "9e8a446b-c2d9-4f2b-a707-2d4c30c58e00",
   "metadata": {},
   "outputs": [],
   "source": [
    "(df >> filter(_.agency.str.contains(\"Los Angeles County\"),\n",
    "             _.project_no == \"6065(235)\",\n",
    "             _.prepared_y =='2019-01-01')\n",
    ")"
   ]
  },
  {
   "cell_type": "code",
   "execution_count": null,
   "id": "4a9d2c56-1029-4b1c-9e39-578b5d1d6a9b",
   "metadata": {},
   "outputs": [],
   "source": [
    "(df >> filter(_.agency.str.contains(\"Los Angeles County\"),\n",
    "             _.project_no == \"6065(235)\",\n",
    "             _.prepared_y =='2019-01-01')\n",
    "    >> count(_.status_comment)\n",
    ")"
   ]
  },
  {
   "cell_type": "code",
   "execution_count": null,
   "id": "01e63ce8-0dd5-40a6-b28c-4914f8867cb4",
   "metadata": {},
   "outputs": [],
   "source": [
    "(df >> filter(_.agency.str.contains(\"Los Angeles County\"),\n",
    "             _.project_no == \"6065(235)\",\n",
    "             _.prepared_y =='2019-01-01')\n",
    "    >> group_by(_.status_comment)\n",
    "    >> summarize(sumfunds=_.total_requested.sum())\n",
    ")"
   ]
  },
  {
   "cell_type": "code",
   "execution_count": null,
   "id": "46024b6f-4b9f-4bf7-ac6e-f51d3dc2730e",
   "metadata": {},
   "outputs": [],
   "source": [
    "(df >> filter(_.agency.str.contains(\"Los Angeles County\"),\n",
    "             _.project_no == \"6065(235)\",\n",
    "             _.prepared_y =='2019-01-01')\n",
    "    >> group_by(_.status_comment)\n",
    "    >> summarize(sumfunds=_.total_requested.sum())\n",
    "    >> ggplot(aes(\"status_comment\", \"sumfunds\", fill=\"status_comment\")) + geom_col() + theme(axis_text_x = element_text(angle = 45 , hjust=1))\n",
    ")\n",
    "\n"
   ]
  },
  {
   "cell_type": "code",
   "execution_count": null,
   "id": "617f1d68-d9a2-4bad-9220-efda312ad94c",
   "metadata": {},
   "outputs": [],
   "source": []
  },
  {
   "cell_type": "code",
   "execution_count": null,
   "id": "3ba20ee2-9681-4d04-9701-f3943dfcc4c8",
   "metadata": {},
   "outputs": [],
   "source": []
  },
  {
   "cell_type": "markdown",
   "id": "c9fb79c4-23ca-4cef-8c32-5da4a3428516",
   "metadata": {
    "tags": []
   },
   "source": [
    "#####  5. San Diego Metropolitan Tranit System\n",
    "\n",
    "* 7503(001)  / 2020-01-01"
   ]
  },
  {
   "cell_type": "code",
   "execution_count": null,
   "id": "b5160783-fb14-43ee-98b9-034387c38df3",
   "metadata": {},
   "outputs": [],
   "source": [
    "(df >> filter(_.agency.str.contains(\"San Diego Metropolitan Tranit System\"),\n",
    "             _.project_no == \"7503(001)\",\n",
    "             _.prepared_y =='2020-01-01'))\n"
   ]
  },
  {
   "cell_type": "code",
   "execution_count": null,
   "id": "6282c80c-1c17-48ea-80cb-2d73c36ab73a",
   "metadata": {},
   "outputs": [],
   "source": [
    "(df >> filter(_.agency.str.contains(\"San Diego Metropolitan Tranit System\"),\n",
    "             _.project_no == \"7503(001)\",\n",
    "             _.prepared_y =='2020-01-01')\n",
    "    >> count(_.status_comment)\n",
    ")\n"
   ]
  },
  {
   "cell_type": "code",
   "execution_count": null,
   "id": "b41638fd-fff6-4d56-9c8e-f2a3c65c9bba",
   "metadata": {},
   "outputs": [],
   "source": [
    "(df >> filter(_.agency.str.contains(\"San Diego Metropolitan Tranit System\"),\n",
    "             _.project_no == \"7503(001)\",\n",
    "             _.prepared_y =='2020-01-01')\n",
    "    >> group_by(_.status_comment)\n",
    "    >> summarize(sum_funds4=_.total_requested.sum())\n",
    ")"
   ]
  },
  {
   "cell_type": "code",
   "execution_count": null,
   "id": "35f19e3d-c70e-4595-8dd2-8fc9af444b42",
   "metadata": {},
   "outputs": [],
   "source": [
    "# three program coodes under a dollar...?"
   ]
  },
  {
   "cell_type": "code",
   "execution_count": null,
   "id": "3f866dbb-4c31-4143-909d-693a6fde6ea9",
   "metadata": {},
   "outputs": [],
   "source": [
    "(df >> filter(_.agency.str.contains(\"San Diego Metropolitan Tranit System\"),\n",
    "             _.project_no == \"7503(001)\",\n",
    "             _.prepared_y =='2020-01-01')\n",
    "    >> group_by(_.status_comment)\n",
    "    >> summarize(sum_funds4=_.total_requested.sum())\n",
    "    >> ggplot(aes(\"status_comment\", \"sum_funds4\", fill=\"status_comment\")) + geom_col() + theme(axis_text_x = element_text(angle = 45 , hjust=1))\n",
    ")"
   ]
  },
  {
   "cell_type": "code",
   "execution_count": null,
   "id": "dcfea06f-da82-4ab0-9494-ed8e80e586ff",
   "metadata": {},
   "outputs": [],
   "source": []
  },
  {
   "cell_type": "markdown",
   "id": "cf4fc764-fdee-43ea-8869-d97567216a61",
   "metadata": {},
   "source": [
    "#### Trying another approach for non-FTA oblgiations"
   ]
  },
  {
   "cell_type": "code",
   "execution_count": null,
   "id": "d5ee0048-536e-454d-8272-93f0b246a9ec",
   "metadata": {},
   "outputs": [],
   "source": []
  },
  {
   "cell_type": "code",
   "execution_count": null,
   "id": "9361260e-d7f4-4339-bffe-8b2155608a7d",
   "metadata": {},
   "outputs": [],
   "source": [
    "(df\n",
    "    >> group_by(_.prefix, _.agency, _.project_no)\n",
    "    >> count(_.prepared_y) \n",
    "    >> arrange(-_.n)\n",
    "    >> filter(_.prefix.str.contains('FTA')== False)\n",
    "    >> filter(_.n > 3)\n",
    ")"
   ]
  },
  {
   "cell_type": "code",
   "execution_count": null,
   "id": "828f1b3c-8f6f-429a-9815-f7a028b9846a",
   "metadata": {},
   "outputs": [],
   "source": [
    "(df\n",
    "    >> group_by(_.prefix, _.agency, _.project_no)\n",
    "    >> count(_.prepared_y) \n",
    "    >> arrange(-_.n)\n",
    "    >> filter(_.prefix.str.contains('FTA')== False)\n",
    "    >> filter(_.n > 3)\n",
    "    >> ggplot(aes(\"agency\", \"n\", fill=\"prefix\")) + geom_col() + theme(axis_text_x = element_text(angle = 45 , hjust=1))\n",
    ")"
   ]
  },
  {
   "cell_type": "code",
   "execution_count": null,
   "id": "4d7eb70b-8abe-4a7d-949b-095c6d7c593e",
   "metadata": {},
   "outputs": [],
   "source": [
    "(df\n",
    "    >> group_by(_.prefix, _.agency, _.project_no)\n",
    "    >> count(_.prepared_y) \n",
    "    >> arrange(-_.n)\n",
    "    >> filter(_.prefix.str.contains('FTA')== False)\n",
    "    >> filter(_.n > 4)\n",
    ")"
   ]
  },
  {
   "cell_type": "code",
   "execution_count": null,
   "id": "31885261-b393-4a43-9b21-4fede749ab87",
   "metadata": {},
   "outputs": [],
   "source": [
    "# exploring these obligations in hopes that these have more information "
   ]
  },
  {
   "cell_type": "code",
   "execution_count": null,
   "id": "deb2f7f8-d677-4dd0-9d3c-4b19a2fe8eb3",
   "metadata": {},
   "outputs": [],
   "source": [
    "(df\n",
    "    >> filter(_.agency == 'San Joaquin Regional Rail Commission',\n",
    "             _.project_no == '6262(020)',\n",
    "             _.prepared_y == '2019-01-01')\n",
    ")"
   ]
  },
  {
   "cell_type": "code",
   "execution_count": null,
   "id": "3c46444c-7610-497b-85b4-6410faf663a6",
   "metadata": {},
   "outputs": [],
   "source": [
    "# These are also FTA Transfers, program codes are all the same"
   ]
  },
  {
   "cell_type": "code",
   "execution_count": null,
   "id": "ad681190-dafc-40c0-bac7-8a26a30c6412",
   "metadata": {},
   "outputs": [],
   "source": [
    "(df\n",
    "    >> filter(_.agency == 'Compton',\n",
    "             _.project_no == '5078(012)',\n",
    "             _.prepared_y == '2018-01-01')\n",
    ")"
   ]
  },
  {
   "cell_type": "code",
   "execution_count": null,
   "id": "d6132e1b-09b9-413e-bdf6-189941732bae",
   "metadata": {},
   "outputs": [],
   "source": [
    "#these have different sequences, projects city-wide"
   ]
  },
  {
   "cell_type": "code",
   "execution_count": null,
   "id": "5743c788-6e02-47de-adb2-ead6c6c7a24c",
   "metadata": {},
   "outputs": [],
   "source": [
    "(df\n",
    "    >> filter(_.agency == 'Brawley',\n",
    "             _.project_no == '5167(037)',\n",
    "             _.prepared_y == '2018-01-01')\n",
    ")"
   ]
  },
  {
   "cell_type": "code",
   "execution_count": null,
   "id": "16bdeeb8-b0b6-4980-9f2c-6a4c544eae75",
   "metadata": {},
   "outputs": [],
   "source": [
    "# multiple segment project, no first sequence, and the oblogated amounts are near zero or below zero. "
   ]
  },
  {
   "cell_type": "code",
   "execution_count": null,
   "id": "1338f8c5-31b4-42ca-affd-253906e77566",
   "metadata": {},
   "outputs": [],
   "source": [
    "(df\n",
    "    >> filter(_.agency == 'Huron',\n",
    "             _.project_no == '5305(014)',\n",
    "             _.prepared_y == '2014-01-01')\n",
    ")"
   ]
  },
  {
   "cell_type": "code",
   "execution_count": null,
   "id": "a6cee3d7-0034-4c1c-ad0d-741bddd7e50b",
   "metadata": {},
   "outputs": [],
   "source": [
    "#another multi-segment project for road construction "
   ]
  },
  {
   "cell_type": "code",
   "execution_count": null,
   "id": "23104f37-29d7-4f1f-ac62-4560874b8141",
   "metadata": {},
   "outputs": [],
   "source": [
    "(df\n",
    "    >> filter(_.agency == 'San Jose',\n",
    "             _.project_no == '5005(163)',\n",
    "             _.prepared_y == '2020-01-01')\n",
    ")"
   ]
  },
  {
   "cell_type": "code",
   "execution_count": null,
   "id": "53db018e-f25d-4a02-b362-8e1ddc2b94dd",
   "metadata": {},
   "outputs": [],
   "source": [
    "# another double entry- possibly a refund (?) since it is negative funds.\n"
   ]
  },
  {
   "cell_type": "code",
   "execution_count": null,
   "id": "fed1e4b8-4e27-4575-9fd0-c5f7f7f524b2",
   "metadata": {},
   "outputs": [],
   "source": [
    "(df\n",
    "    >> filter(_.agency == 'Calipatria',\n",
    "             _.project_no == '5243(002)',\n",
    "             _.prepared_y == '2016-01-01')\n",
    ")"
   ]
  },
  {
   "cell_type": "code",
   "execution_count": null,
   "id": "768972d0-ce9d-4449-a71c-52474f9797fa",
   "metadata": {},
   "outputs": [],
   "source": [
    "# intersting to see another group of obligations have no funds attached to them. \n"
   ]
  },
  {
   "cell_type": "code",
   "execution_count": null,
   "id": "973c4eff-b264-4651-96c2-fb86eb584cdd",
   "metadata": {},
   "outputs": [],
   "source": []
  },
  {
   "cell_type": "markdown",
   "id": "c12ebddf-90be-41e2-bb9f-e23a9553f93b",
   "metadata": {},
   "source": [
    "### Filtering by agency and year and type of work"
   ]
  },
  {
   "cell_type": "code",
   "execution_count": null,
   "id": "773fed2f-3f36-478f-a5e2-95150ba98f63",
   "metadata": {},
   "outputs": [],
   "source": [
    "(df\n",
    "    >> group_by(_.agency)\n",
    "    >> count(_.prepared_y) \n",
    "    >> arrange(-_.n)\n",
    "    >> filter(_.n >= 50)\n",
    ")"
   ]
  },
  {
   "cell_type": "code",
   "execution_count": null,
   "id": "66e85bb5-ea1b-442a-b08e-ba1ecc101d23",
   "metadata": {},
   "outputs": [],
   "source": [
    "(df\n",
    "    >> group_by(_.agency, _.type_of_work, _.prepared_y)\n",
    "    >> count(_.prefix) \n",
    "    >> arrange(-_.n)\n",
    "    >> filter(_.n > 10)\n",
    ")"
   ]
  },
  {
   "cell_type": "markdown",
   "id": "5a723508-bbf9-4612-8a3b-fd68f16e7300",
   "metadata": {},
   "source": [
    "#### Los Angeles Project Locations"
   ]
  },
  {
   "cell_type": "code",
   "execution_count": null,
   "id": "72a4db85-4430-4537-bb5a-087c5c159d58",
   "metadata": {},
   "outputs": [],
   "source": [
    "df >> filter(_.agency=='Los Angeles') >> count(_.project_location) >> arrange(-_.n) >> filter(_.n>=4)"
   ]
  },
  {
   "cell_type": "code",
   "execution_count": null,
   "id": "79c167a9-87e5-4bc1-8437-6fc5127132c9",
   "metadata": {},
   "outputs": [],
   "source": [
    "(df >> filter(_.agency=='Los Angeles') \n",
    "    >> filter(_.project_location.str.contains('Sixth Street Viaduct')) \n",
    "    >> count(_.project_no))"
   ]
  },
  {
   "cell_type": "code",
   "execution_count": null,
   "id": "7f303938-db37-4c14-a63c-66d9248b5e35",
   "metadata": {},
   "outputs": [],
   "source": [
    "(df >> filter(_.agency=='Los Angeles') \n",
    "    >> filter(_.project_location.str.contains('Sixth Street Viaduct')) \n",
    "    >> count(_.prefix))"
   ]
  },
  {
   "cell_type": "code",
   "execution_count": null,
   "id": "989446ae-9d8a-45b6-a817-8c3c57a7a119",
   "metadata": {},
   "outputs": [],
   "source": [
    "(df >> filter(_.agency=='Los Angeles') \n",
    "    >> filter(_.project_location.str.contains('Sixth Street Viaduct')) \n",
    "    >> group_by(_.prepared_y)\n",
    "    >> count(_.project_no))"
   ]
  },
  {
   "cell_type": "code",
   "execution_count": null,
   "id": "669db31b-e96b-4731-adfa-98ba838cb998",
   "metadata": {},
   "outputs": [],
   "source": [
    "(df >> filter(_.agency=='Los Angeles') \n",
    "    >> filter(_.project_location.str.contains('Sixth Street Viaduct')) \n",
    "    >> filter(_.prepared_y == '2016-01-01')\n",
    "    \n",
    ")"
   ]
  },
  {
   "cell_type": "code",
   "execution_count": null,
   "id": "6f3aae27-7b30-4384-a6e2-71d13eef6f3c",
   "metadata": {},
   "outputs": [],
   "source": []
  },
  {
   "cell_type": "markdown",
   "id": "82a845bd-404e-4102-a922-606ad61facc1",
   "metadata": {},
   "source": [
    "## How many times do the fund request columns equal $0"
   ]
  },
  {
   "cell_type": "code",
   "execution_count": null,
   "id": "25b6b722-0f10-48f2-a41f-39573694f528",
   "metadata": {
    "scrolled": true,
    "tags": []
   },
   "outputs": [],
   "source": [
    "(df >> mutate(sum_funds = _.fed_requested + _.ac_requested) >> filter(_.sum_funds==0.00))"
   ]
  },
  {
   "cell_type": "markdown",
   "id": "e8ec6da4-d2f0-48dd-8200-dceadd4e6904",
   "metadata": {},
   "source": [
    "* 5364 rows that have a net $0.00 fund obligations. "
   ]
  },
  {
   "cell_type": "markdown",
   "id": "cbd57692-b42d-4098-b4aa-28d776a76933",
   "metadata": {},
   "source": [
    "Creating a subset df"
   ]
  },
  {
   "cell_type": "code",
   "execution_count": null,
   "id": "ef16f897-6e1f-4d71-a65c-efc23d2e9cb6",
   "metadata": {},
   "outputs": [],
   "source": [
    "df_nofunds = (df >> mutate(sum_funds = _.fed_requested + _.ac_requested) >> filter(_.sum_funds==0.00))"
   ]
  },
  {
   "cell_type": "code",
   "execution_count": null,
   "id": "ae7287a4-c42c-4eb6-bfd0-20107a7b5193",
   "metadata": {},
   "outputs": [],
   "source": [
    "print(len(df_nofunds))"
   ]
  },
  {
   "cell_type": "code",
   "execution_count": null,
   "id": "468b3601-2d19-4362-9fb1-6da80454a450",
   "metadata": {},
   "outputs": [],
   "source": [
    "df_nofunds>>count(_.agency)>>arrange(-_.n)"
   ]
  },
  {
   "cell_type": "code",
   "execution_count": null,
   "id": "b8a901b1-56d4-4566-a056-a706033667f5",
   "metadata": {},
   "outputs": [],
   "source": [
    "df_nofunds >> filter(_.agency=='Humboldt County') >> count(_.prefix)"
   ]
  },
  {
   "cell_type": "code",
   "execution_count": null,
   "id": "1bff6f40-5052-4f93-8c56-0b8a80db5b8b",
   "metadata": {},
   "outputs": [],
   "source": [
    "df_nofunds >> count(_.mpo) >> arrange(-_.n)"
   ]
  },
  {
   "cell_type": "code",
   "execution_count": null,
   "id": "69a93ad5-7ec6-413a-b40c-9c1762de24ac",
   "metadata": {},
   "outputs": [],
   "source": []
  },
  {
   "cell_type": "code",
   "execution_count": null,
   "id": "1c8b1365-a48a-4926-835b-5f7c66304210",
   "metadata": {},
   "outputs": [],
   "source": []
  },
  {
   "cell_type": "code",
   "execution_count": null,
   "id": "df8a8501-c324-4493-9030-ae156e13e4aa",
   "metadata": {},
   "outputs": [],
   "source": []
  },
  {
   "cell_type": "code",
   "execution_count": null,
   "id": "5b255e0d-77c5-4029-abab-53bdb1dc4a82",
   "metadata": {},
   "outputs": [],
   "source": []
  },
  {
   "cell_type": "code",
   "execution_count": null,
   "id": "1df18b7c-14b5-47a9-9f22-fd12db0818b3",
   "metadata": {},
   "outputs": [],
   "source": []
  }
 ],
 "metadata": {
  "kernelspec": {
   "display_name": "Python 3 (ipykernel)",
   "language": "python",
   "name": "python3"
  },
  "language_info": {
   "codemirror_mode": {
    "name": "ipython",
    "version": 3
   },
   "file_extension": ".py",
   "mimetype": "text/x-python",
   "name": "python",
   "nbconvert_exporter": "python",
   "pygments_lexer": "ipython3",
   "version": "3.9.7"
  },
  "widgets": {
   "application/vnd.jupyter.widget-state+json": {
    "state": {},
    "version_major": 2,
    "version_minor": 0
   }
  }
 },
 "nbformat": 4,
 "nbformat_minor": 5
}
