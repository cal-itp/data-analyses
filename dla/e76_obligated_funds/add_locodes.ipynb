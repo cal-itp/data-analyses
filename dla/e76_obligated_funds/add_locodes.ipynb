{
 "cells": [
  {
   "cell_type": "markdown",
   "id": "46ffbb03-05b7-4af3-8e95-01a4bec8f054",
   "metadata": {},
   "source": [
    "# Connecting Locode info with exisitng E-76 data"
   ]
  },
  {
   "cell_type": "code",
   "execution_count": 3,
   "id": "bb5d8f0d-4fc3-4cfc-96fd-5c7b8a645db3",
   "metadata": {},
   "outputs": [],
   "source": [
    "#!pip install openpyxl"
   ]
  },
  {
   "cell_type": "code",
   "execution_count": 1,
   "id": "cbefde3e-4ed2-424c-8b81-ccfcd53c8f53",
   "metadata": {},
   "outputs": [],
   "source": [
    "import pandas as pd\n",
    "from siuba import *\n",
    "\n",
    "import numpy as np\n",
    "\n",
    "from datetime import date\n",
    "from IPython.display import Markdown, HTML, display_html\n",
    "\n",
    "from calitp import *\n",
    "\n",
    "import ipywidgets as widgets\n",
    "from ipywidgets import *\n",
    "from IPython.display import Markdown\n",
    "from IPython.core.display import display"
   ]
  },
  {
   "cell_type": "markdown",
   "id": "1fb8162f-af5b-4191-be38-74c79e1c5d7e",
   "metadata": {},
   "source": [
    "## Importing Data\n",
    "* using data from read in GCS:\n",
    "    * [E-76 Obligated List](https://dot.ca.gov/programs/local-assistance/reports/e-76-obligated)\n",
    "    * Obtained Locode and Agency list "
   ]
  },
  {
   "cell_type": "code",
   "execution_count": 2,
   "id": "3da5bcc9-92c4-4a68-8791-8b6db413dd1e",
   "metadata": {},
   "outputs": [
    {
     "name": "stderr",
     "output_type": "stream",
     "text": [
      "/opt/conda/lib/python3.9/site-packages/google/auth/_default.py:73: UserWarning: Your application has authenticated using end user credentials from Google Cloud SDK without a quota project. You might receive a \"quota exceeded\" or \"API not enabled\" error. We recommend you rerun `gcloud auth application-default login` and make sure a quota project is added. Or you can use service accounts instead. For more information about service accounts, see https://cloud.google.com/docs/authentication/\n",
      "  warnings.warn(_CLOUD_SDK_CREDENTIALS_WARNING)\n"
     ]
    }
   ],
   "source": [
    "df = pd.read_csv('gs://calitp-analytics-data/data-analyses/dla/e-76Obligated/function_data.csv', low_memory=False).drop('Unnamed: 0', axis=1)"
   ]
  },
  {
   "cell_type": "code",
   "execution_count": 3,
   "id": "0a023d36-fc7e-4a53-a518-8eccb647eeaa",
   "metadata": {},
   "outputs": [
    {
     "data": {
      "text/html": [
       "<div>\n",
       "<style scoped>\n",
       "    .dataframe tbody tr th:only-of-type {\n",
       "        vertical-align: middle;\n",
       "    }\n",
       "\n",
       "    .dataframe tbody tr th {\n",
       "        vertical-align: top;\n",
       "    }\n",
       "\n",
       "    .dataframe thead th {\n",
       "        text-align: right;\n",
       "    }\n",
       "</style>\n",
       "<table border=\"1\" class=\"dataframe\">\n",
       "  <thead>\n",
       "    <tr style=\"text-align: right;\">\n",
       "      <th></th>\n",
       "      <th>prefix</th>\n",
       "      <th>project_no</th>\n",
       "      <th>agency</th>\n",
       "      <th>prepared_date</th>\n",
       "      <th>fed_requested</th>\n",
       "      <th>ac_requested</th>\n",
       "      <th>total_requested</th>\n",
       "      <th>status_comment</th>\n",
       "      <th>locode</th>\n",
       "      <th>dist</th>\n",
       "      <th>ftip_no</th>\n",
       "      <th>project_location</th>\n",
       "      <th>type_of_work</th>\n",
       "      <th>seq</th>\n",
       "      <th>mpo</th>\n",
       "      <th>prepared_y</th>\n",
       "    </tr>\n",
       "  </thead>\n",
       "  <tbody>\n",
       "    <tr>\n",
       "      <th>0</th>\n",
       "      <td>BPMPL</td>\n",
       "      <td>5904(121)</td>\n",
       "      <td>Humboldt County</td>\n",
       "      <td>2018-12-18</td>\n",
       "      <td>0.00</td>\n",
       "      <td>0.0</td>\n",
       "      <td>0.00</td>\n",
       "      <td>Authorized</td>\n",
       "      <td>5904</td>\n",
       "      <td>1</td>\n",
       "      <td>HBPLOCAL</td>\n",
       "      <td>14 Bridges In Humboldt County</td>\n",
       "      <td>Bridge Preventive Maintenance - Deck Joints</td>\n",
       "      <td>3</td>\n",
       "      <td>NON-MPO</td>\n",
       "      <td>2018-01-01</td>\n",
       "    </tr>\n",
       "    <tr>\n",
       "      <th>1</th>\n",
       "      <td>ER</td>\n",
       "      <td>32D0(008)</td>\n",
       "      <td>Mendocino County</td>\n",
       "      <td>2018-12-17</td>\n",
       "      <td>11508.00</td>\n",
       "      <td>0.0</td>\n",
       "      <td>13000.00</td>\n",
       "      <td>Authorized</td>\n",
       "      <td>5910</td>\n",
       "      <td>1</td>\n",
       "      <td>NaN</td>\n",
       "      <td>Comptche Ukiah Road, Cr 223 Pm 17.25</td>\n",
       "      <td>Permanent Restoration</td>\n",
       "      <td>3</td>\n",
       "      <td>NON-MPO</td>\n",
       "      <td>2018-01-01</td>\n",
       "    </tr>\n",
       "    <tr>\n",
       "      <th>2</th>\n",
       "      <td>ER</td>\n",
       "      <td>4820(004)</td>\n",
       "      <td>Humboldt County</td>\n",
       "      <td>2018-12-07</td>\n",
       "      <td>45499.64</td>\n",
       "      <td>0.0</td>\n",
       "      <td>51394.58</td>\n",
       "      <td>Authorized</td>\n",
       "      <td>5904</td>\n",
       "      <td>1</td>\n",
       "      <td>NaN</td>\n",
       "      <td>Mattole Rd Pm 43.17</td>\n",
       "      <td>Permanent Restoration</td>\n",
       "      <td>5</td>\n",
       "      <td>NON-MPO</td>\n",
       "      <td>2018-01-01</td>\n",
       "    </tr>\n",
       "    <tr>\n",
       "      <th>3</th>\n",
       "      <td>CML</td>\n",
       "      <td>5924(244)</td>\n",
       "      <td>Sacramento County</td>\n",
       "      <td>2018-12-11</td>\n",
       "      <td>207002.00</td>\n",
       "      <td>0.0</td>\n",
       "      <td>247002.00</td>\n",
       "      <td>Authorized</td>\n",
       "      <td>5924</td>\n",
       "      <td>3</td>\n",
       "      <td>SAC25086</td>\n",
       "      <td>Fair Oaks Blvd. Between Howe Ave And Munroe St</td>\n",
       "      <td>Create A Smart Growth Corridor With Barrier Se...</td>\n",
       "      <td>1</td>\n",
       "      <td>SACOG</td>\n",
       "      <td>2018-01-01</td>\n",
       "    </tr>\n",
       "    <tr>\n",
       "      <th>4</th>\n",
       "      <td>CML</td>\n",
       "      <td>5924(214)</td>\n",
       "      <td>Sacramento County</td>\n",
       "      <td>2018-12-05</td>\n",
       "      <td>0.00</td>\n",
       "      <td>5680921.0</td>\n",
       "      <td>5702041.00</td>\n",
       "      <td>Authorized</td>\n",
       "      <td>5924</td>\n",
       "      <td>3</td>\n",
       "      <td>SAC24753</td>\n",
       "      <td>Florin Rd Between Power Inn Rd. And Florin Per...</td>\n",
       "      <td>Streetscape (tc)</td>\n",
       "      <td>3</td>\n",
       "      <td>SACOG</td>\n",
       "      <td>2018-01-01</td>\n",
       "    </tr>\n",
       "  </tbody>\n",
       "</table>\n",
       "</div>"
      ],
      "text/plain": [
       "  prefix project_no             agency prepared_date  fed_requested  \\\n",
       "0  BPMPL  5904(121)    Humboldt County    2018-12-18           0.00   \n",
       "1     ER  32D0(008)   Mendocino County    2018-12-17       11508.00   \n",
       "2     ER  4820(004)    Humboldt County    2018-12-07       45499.64   \n",
       "3    CML  5924(244)  Sacramento County    2018-12-11      207002.00   \n",
       "4    CML  5924(214)  Sacramento County    2018-12-05           0.00   \n",
       "\n",
       "   ac_requested  total_requested status_comment locode  dist   ftip_no  \\\n",
       "0           0.0             0.00     Authorized   5904     1  HBPLOCAL   \n",
       "1           0.0         13000.00     Authorized   5910     1       NaN   \n",
       "2           0.0         51394.58     Authorized   5904     1       NaN   \n",
       "3           0.0        247002.00     Authorized   5924     3  SAC25086   \n",
       "4     5680921.0       5702041.00     Authorized   5924     3  SAC24753   \n",
       "\n",
       "                                    project_location  \\\n",
       "0                      14 Bridges In Humboldt County   \n",
       "1               Comptche Ukiah Road, Cr 223 Pm 17.25   \n",
       "2                                Mattole Rd Pm 43.17   \n",
       "3     Fair Oaks Blvd. Between Howe Ave And Munroe St   \n",
       "4  Florin Rd Between Power Inn Rd. And Florin Per...   \n",
       "\n",
       "                                        type_of_work  seq      mpo  prepared_y  \n",
       "0        Bridge Preventive Maintenance - Deck Joints    3  NON-MPO  2018-01-01  \n",
       "1                              Permanent Restoration    3  NON-MPO  2018-01-01  \n",
       "2                              Permanent Restoration    5  NON-MPO  2018-01-01  \n",
       "3  Create A Smart Growth Corridor With Barrier Se...    1    SACOG  2018-01-01  \n",
       "4                                   Streetscape (tc)    3    SACOG  2018-01-01  "
      ]
     },
     "execution_count": 3,
     "metadata": {},
     "output_type": "execute_result"
    }
   ],
   "source": [
    "df.head()"
   ]
  },
  {
   "cell_type": "code",
   "execution_count": 4,
   "id": "86b6e70a-bebf-4598-895e-1f95649b3b17",
   "metadata": {},
   "outputs": [],
   "source": [
    "locode = pd.concat(pd.read_excel('gs://calitp-analytics-data/data-analyses/dla/e-76Obligated/locodes_updated7122021.xlsx', sheet_name=None), ignore_index=True)\n"
   ]
  },
  {
   "cell_type": "code",
   "execution_count": 5,
   "id": "ef79929c-da79-4f75-83d0-68ce8a9054fa",
   "metadata": {},
   "outputs": [
    {
     "data": {
      "text/html": [
       "<div>\n",
       "<style scoped>\n",
       "    .dataframe tbody tr th:only-of-type {\n",
       "        vertical-align: middle;\n",
       "    }\n",
       "\n",
       "    .dataframe tbody tr th {\n",
       "        vertical-align: top;\n",
       "    }\n",
       "\n",
       "    .dataframe thead th {\n",
       "        text-align: right;\n",
       "    }\n",
       "</style>\n",
       "<table border=\"1\" class=\"dataframe\">\n",
       "  <thead>\n",
       "    <tr style=\"text-align: right;\">\n",
       "      <th></th>\n",
       "      <th>Agency Locode</th>\n",
       "      <th>Agency Name</th>\n",
       "      <th>District</th>\n",
       "      <th>County Name</th>\n",
       "      <th>RTPA Name</th>\n",
       "      <th>MPO Name</th>\n",
       "      <th>MPO Locode FADS</th>\n",
       "      <th>\"Active\" E76s     (7-12-2021)</th>\n",
       "    </tr>\n",
       "  </thead>\n",
       "  <tbody>\n",
       "    <tr>\n",
       "      <th>0</th>\n",
       "      <td>6302</td>\n",
       "      <td>Humboldt Bay Harbor Recreation &amp; Conservation ...</td>\n",
       "      <td>1</td>\n",
       "      <td>Humboldt County</td>\n",
       "      <td>Humboldt County Association of Governments</td>\n",
       "      <td>NON-MPO</td>\n",
       "      <td>NON-MPO</td>\n",
       "      <td>NaN</td>\n",
       "    </tr>\n",
       "    <tr>\n",
       "      <th>1</th>\n",
       "      <td>6330</td>\n",
       "      <td>Willow Creek Community Services District</td>\n",
       "      <td>1</td>\n",
       "      <td>Humboldt County</td>\n",
       "      <td>Humboldt County Association of Governments</td>\n",
       "      <td>NON-MPO</td>\n",
       "      <td>NON-MPO</td>\n",
       "      <td>NaN</td>\n",
       "    </tr>\n",
       "    <tr>\n",
       "      <th>2</th>\n",
       "      <td>5036</td>\n",
       "      <td>Trinidad</td>\n",
       "      <td>1</td>\n",
       "      <td>Humboldt County</td>\n",
       "      <td>Humboldt County Association of Governments</td>\n",
       "      <td>NON-MPO</td>\n",
       "      <td>NON-MPO</td>\n",
       "      <td>NaN</td>\n",
       "    </tr>\n",
       "    <tr>\n",
       "      <th>3</th>\n",
       "      <td>5049</td>\n",
       "      <td>Ukiah</td>\n",
       "      <td>1</td>\n",
       "      <td>Mendocino County</td>\n",
       "      <td>Mendocino Council of Governments</td>\n",
       "      <td>NON-MPO</td>\n",
       "      <td>NON-MPO</td>\n",
       "      <td>Yes</td>\n",
       "    </tr>\n",
       "    <tr>\n",
       "      <th>4</th>\n",
       "      <td>5082</td>\n",
       "      <td>Willits</td>\n",
       "      <td>1</td>\n",
       "      <td>Mendocino County</td>\n",
       "      <td>Mendocino Council of Governments</td>\n",
       "      <td>NON-MPO</td>\n",
       "      <td>NON-MPO</td>\n",
       "      <td>NaN</td>\n",
       "    </tr>\n",
       "  </tbody>\n",
       "</table>\n",
       "</div>"
      ],
      "text/plain": [
       "   Agency Locode                                        Agency Name  District  \\\n",
       "0           6302  Humboldt Bay Harbor Recreation & Conservation ...         1   \n",
       "1           6330           Willow Creek Community Services District         1   \n",
       "2           5036                                           Trinidad         1   \n",
       "3           5049                                              Ukiah         1   \n",
       "4           5082                                            Willits         1   \n",
       "\n",
       "        County Name                                   RTPA Name MPO Name  \\\n",
       "0   Humboldt County  Humboldt County Association of Governments  NON-MPO   \n",
       "1   Humboldt County  Humboldt County Association of Governments  NON-MPO   \n",
       "2   Humboldt County  Humboldt County Association of Governments  NON-MPO   \n",
       "3  Mendocino County            Mendocino Council of Governments  NON-MPO   \n",
       "4  Mendocino County            Mendocino Council of Governments  NON-MPO   \n",
       "\n",
       "  MPO Locode FADS \"Active\" E76s     (7-12-2021)  \n",
       "0         NON-MPO                           NaN  \n",
       "1         NON-MPO                           NaN  \n",
       "2         NON-MPO                           NaN  \n",
       "3         NON-MPO                           Yes  \n",
       "4         NON-MPO                           NaN  "
      ]
     },
     "execution_count": 5,
     "metadata": {},
     "output_type": "execute_result"
    }
   ],
   "source": [
    "locode.head()"
   ]
  },
  {
   "cell_type": "code",
   "execution_count": 6,
   "id": "64578fbc-5826-4ed3-9f0f-bf45af89abc7",
   "metadata": {},
   "outputs": [],
   "source": [
    "locode_df = to_snakecase(locode)"
   ]
  },
  {
   "cell_type": "code",
   "execution_count": 7,
   "id": "cfe3f1d7-d8a1-49ee-9ddf-5b3d8d587bed",
   "metadata": {},
   "outputs": [],
   "source": [
    "locode_df.rename(columns={'agency_locode':'locode'}, inplace=True)"
   ]
  },
  {
   "cell_type": "code",
   "execution_count": 8,
   "id": "fd85ef5c-9b18-4a2c-ab07-e3412923a192",
   "metadata": {},
   "outputs": [
    {
     "data": {
      "text/html": [
       "<div>\n",
       "<style scoped>\n",
       "    .dataframe tbody tr th:only-of-type {\n",
       "        vertical-align: middle;\n",
       "    }\n",
       "\n",
       "    .dataframe tbody tr th {\n",
       "        vertical-align: top;\n",
       "    }\n",
       "\n",
       "    .dataframe thead th {\n",
       "        text-align: right;\n",
       "    }\n",
       "</style>\n",
       "<table border=\"1\" class=\"dataframe\">\n",
       "  <thead>\n",
       "    <tr style=\"text-align: right;\">\n",
       "      <th></th>\n",
       "      <th>locode</th>\n",
       "      <th>agency_name</th>\n",
       "      <th>district</th>\n",
       "      <th>county_name</th>\n",
       "      <th>rtpa_name</th>\n",
       "      <th>mpo_name</th>\n",
       "      <th>mpo_locode_fads</th>\n",
       "      <th>active_e76s______7_12_2021_</th>\n",
       "    </tr>\n",
       "  </thead>\n",
       "  <tbody>\n",
       "    <tr>\n",
       "      <th>0</th>\n",
       "      <td>6302</td>\n",
       "      <td>Humboldt Bay Harbor Recreation &amp; Conservation ...</td>\n",
       "      <td>1</td>\n",
       "      <td>Humboldt County</td>\n",
       "      <td>Humboldt County Association of Governments</td>\n",
       "      <td>NON-MPO</td>\n",
       "      <td>NON-MPO</td>\n",
       "      <td>NaN</td>\n",
       "    </tr>\n",
       "    <tr>\n",
       "      <th>1</th>\n",
       "      <td>6330</td>\n",
       "      <td>Willow Creek Community Services District</td>\n",
       "      <td>1</td>\n",
       "      <td>Humboldt County</td>\n",
       "      <td>Humboldt County Association of Governments</td>\n",
       "      <td>NON-MPO</td>\n",
       "      <td>NON-MPO</td>\n",
       "      <td>NaN</td>\n",
       "    </tr>\n",
       "    <tr>\n",
       "      <th>2</th>\n",
       "      <td>5036</td>\n",
       "      <td>Trinidad</td>\n",
       "      <td>1</td>\n",
       "      <td>Humboldt County</td>\n",
       "      <td>Humboldt County Association of Governments</td>\n",
       "      <td>NON-MPO</td>\n",
       "      <td>NON-MPO</td>\n",
       "      <td>NaN</td>\n",
       "    </tr>\n",
       "    <tr>\n",
       "      <th>3</th>\n",
       "      <td>5049</td>\n",
       "      <td>Ukiah</td>\n",
       "      <td>1</td>\n",
       "      <td>Mendocino County</td>\n",
       "      <td>Mendocino Council of Governments</td>\n",
       "      <td>NON-MPO</td>\n",
       "      <td>NON-MPO</td>\n",
       "      <td>Yes</td>\n",
       "    </tr>\n",
       "    <tr>\n",
       "      <th>4</th>\n",
       "      <td>5082</td>\n",
       "      <td>Willits</td>\n",
       "      <td>1</td>\n",
       "      <td>Mendocino County</td>\n",
       "      <td>Mendocino Council of Governments</td>\n",
       "      <td>NON-MPO</td>\n",
       "      <td>NON-MPO</td>\n",
       "      <td>NaN</td>\n",
       "    </tr>\n",
       "  </tbody>\n",
       "</table>\n",
       "</div>"
      ],
      "text/plain": [
       "   locode                                        agency_name  district  \\\n",
       "0    6302  Humboldt Bay Harbor Recreation & Conservation ...         1   \n",
       "1    6330           Willow Creek Community Services District         1   \n",
       "2    5036                                           Trinidad         1   \n",
       "3    5049                                              Ukiah         1   \n",
       "4    5082                                            Willits         1   \n",
       "\n",
       "        county_name                                   rtpa_name mpo_name  \\\n",
       "0   Humboldt County  Humboldt County Association of Governments  NON-MPO   \n",
       "1   Humboldt County  Humboldt County Association of Governments  NON-MPO   \n",
       "2   Humboldt County  Humboldt County Association of Governments  NON-MPO   \n",
       "3  Mendocino County            Mendocino Council of Governments  NON-MPO   \n",
       "4  Mendocino County            Mendocino Council of Governments  NON-MPO   \n",
       "\n",
       "  mpo_locode_fads active_e76s______7_12_2021_  \n",
       "0         NON-MPO                         NaN  \n",
       "1         NON-MPO                         NaN  \n",
       "2         NON-MPO                         NaN  \n",
       "3         NON-MPO                         Yes  \n",
       "4         NON-MPO                         NaN  "
      ]
     },
     "execution_count": 8,
     "metadata": {},
     "output_type": "execute_result"
    }
   ],
   "source": [
    "locode_df.head()"
   ]
  },
  {
   "cell_type": "code",
   "execution_count": 9,
   "id": "590590a6-92c9-462c-bddb-5162a3b1f969",
   "metadata": {},
   "outputs": [
    {
     "name": "stdout",
     "output_type": "stream",
     "text": [
      "<class 'pandas.core.frame.DataFrame'>\n",
      "RangeIndex: 1041 entries, 0 to 1040\n",
      "Data columns (total 8 columns):\n",
      " #   Column                       Non-Null Count  Dtype \n",
      "---  ------                       --------------  ----- \n",
      " 0   locode                       1041 non-null   int64 \n",
      " 1   agency_name                  1041 non-null   object\n",
      " 2   district                     1041 non-null   int64 \n",
      " 3   county_name                  942 non-null    object\n",
      " 4   rtpa_name                    1041 non-null   object\n",
      " 5   mpo_name                     1041 non-null   object\n",
      " 6   mpo_locode_fads              1041 non-null   object\n",
      " 7   active_e76s______7_12_2021_  464 non-null    object\n",
      "dtypes: int64(2), object(6)\n",
      "memory usage: 65.2+ KB\n"
     ]
    }
   ],
   "source": [
    "locode_df.info()"
   ]
  },
  {
   "cell_type": "code",
   "execution_count": 10,
   "id": "3f907eff-2e8b-40bb-974e-1d3db1060450",
   "metadata": {},
   "outputs": [],
   "source": [
    "#should be possible based on these two. "
   ]
  },
  {
   "cell_type": "code",
   "execution_count": 11,
   "id": "798e1568-0a2a-4ee9-8c70-fda4cadb842a",
   "metadata": {},
   "outputs": [
    {
     "data": {
      "text/html": [
       "<div>\n",
       "<style scoped>\n",
       "    .dataframe tbody tr th:only-of-type {\n",
       "        vertical-align: middle;\n",
       "    }\n",
       "\n",
       "    .dataframe tbody tr th {\n",
       "        vertical-align: top;\n",
       "    }\n",
       "\n",
       "    .dataframe thead th {\n",
       "        text-align: right;\n",
       "    }\n",
       "</style>\n",
       "<table border=\"1\" class=\"dataframe\">\n",
       "  <thead>\n",
       "    <tr style=\"text-align: right;\">\n",
       "      <th></th>\n",
       "      <th>locode</th>\n",
       "      <th>n</th>\n",
       "    </tr>\n",
       "  </thead>\n",
       "  <tbody>\n",
       "    <tr>\n",
       "      <th>0</th>\n",
       "      <td>5904</td>\n",
       "      <td>1</td>\n",
       "    </tr>\n",
       "    <tr>\n",
       "      <th>1</th>\n",
       "      <td>6133</td>\n",
       "      <td>1</td>\n",
       "    </tr>\n",
       "    <tr>\n",
       "      <th>2</th>\n",
       "      <td>6162</td>\n",
       "      <td>1</td>\n",
       "    </tr>\n",
       "    <tr>\n",
       "      <th>3</th>\n",
       "      <td>6302</td>\n",
       "      <td>1</td>\n",
       "    </tr>\n",
       "    <tr>\n",
       "      <th>4</th>\n",
       "      <td>6487</td>\n",
       "      <td>1</td>\n",
       "    </tr>\n",
       "  </tbody>\n",
       "</table>\n",
       "</div>"
      ],
      "text/plain": [
       "   locode  n\n",
       "0    5904  1\n",
       "1    6133  1\n",
       "2    6162  1\n",
       "3    6302  1\n",
       "4    6487  1"
      ]
     },
     "execution_count": 11,
     "metadata": {},
     "output_type": "execute_result"
    }
   ],
   "source": [
    "locode_df>>filter(_.agency_name.str.contains('Humboldt'))>>count(_.locode)"
   ]
  },
  {
   "cell_type": "code",
   "execution_count": 12,
   "id": "da19319b-9f00-40fa-8665-838df51158b5",
   "metadata": {},
   "outputs": [
    {
     "data": {
      "text/html": [
       "<div>\n",
       "<style scoped>\n",
       "    .dataframe tbody tr th:only-of-type {\n",
       "        vertical-align: middle;\n",
       "    }\n",
       "\n",
       "    .dataframe tbody tr th {\n",
       "        vertical-align: top;\n",
       "    }\n",
       "\n",
       "    .dataframe thead th {\n",
       "        text-align: right;\n",
       "    }\n",
       "</style>\n",
       "<table border=\"1\" class=\"dataframe\">\n",
       "  <thead>\n",
       "    <tr style=\"text-align: right;\">\n",
       "      <th></th>\n",
       "      <th>locode</th>\n",
       "      <th>n</th>\n",
       "    </tr>\n",
       "  </thead>\n",
       "  <tbody>\n",
       "    <tr>\n",
       "      <th>0</th>\n",
       "      <td>5904</td>\n",
       "      <td>627</td>\n",
       "    </tr>\n",
       "    <tr>\n",
       "      <th>1</th>\n",
       "      <td>5940</td>\n",
       "      <td>1</td>\n",
       "    </tr>\n",
       "    <tr>\n",
       "      <th>2</th>\n",
       "      <td>6302</td>\n",
       "      <td>1</td>\n",
       "    </tr>\n",
       "  </tbody>\n",
       "</table>\n",
       "</div>"
      ],
      "text/plain": [
       "  locode    n\n",
       "0   5904  627\n",
       "1   5940    1\n",
       "2   6302    1"
      ]
     },
     "execution_count": 12,
     "metadata": {},
     "output_type": "execute_result"
    }
   ],
   "source": [
    "df>>filter(_.agency.str.contains('Humboldt'))>>count(_.locode)"
   ]
  },
  {
   "cell_type": "markdown",
   "id": "feaa3816-2893-4b49-828a-59b55282e3ac",
   "metadata": {},
   "source": [
    "## Create Agency/Locode list from Obligated Data"
   ]
  },
  {
   "cell_type": "code",
   "execution_count": 13,
   "id": "94abd90d-5c6b-4725-b8d8-721fefd3331d",
   "metadata": {},
   "outputs": [],
   "source": [
    "# creating locode crosswalk from the original data to see if that works. "
   ]
  },
  {
   "cell_type": "code",
   "execution_count": 14,
   "id": "48432e27-0958-4d4f-b6cf-1862c62641ba",
   "metadata": {},
   "outputs": [
    {
     "data": {
      "text/plain": [
       "agency\n",
       "Access Services                                 [6312]\n",
       "Agoura Hills                               [5435, nan]\n",
       "Ala-Con Costa T                                 [6002]\n",
       "Alameda                                         [5014]\n",
       "Alameda - Contra Costa Transit District         [6002]\n",
       "dtype: object"
      ]
     },
     "execution_count": 14,
     "metadata": {},
     "output_type": "execute_result"
    }
   ],
   "source": [
    "group = df.groupby('agency')\n",
    "crosswalk_all = group.apply(lambda x: x['locode'].unique())\n",
    "crosswalk_all.head()"
   ]
  },
  {
   "cell_type": "code",
   "execution_count": 15,
   "id": "cde5b7ed-c01e-41e3-b653-40b018aec90d",
   "metadata": {},
   "outputs": [
    {
     "data": {
      "text/plain": [
       "<bound method Series.explode of agency\n",
       "Access Services                                             [6312]\n",
       "Agoura Hills                                           [5435, nan]\n",
       "Ala-Con Costa T                                             [6002]\n",
       "Alameda                                                     [5014]\n",
       "Alameda - Contra Costa Transit District                     [6002]\n",
       "                                                    ...           \n",
       "Yrts                                                         [nan]\n",
       "Yuba City                                                   [5163]\n",
       "Yuba County                                                 [5916]\n",
       "Yucaipa                                    [5457, nan, 5954, NBIL]\n",
       "Yucca Valley                                           [5466, nan]\n",
       "Length: 671, dtype: object>"
      ]
     },
     "execution_count": 15,
     "metadata": {},
     "output_type": "execute_result"
    }
   ],
   "source": [
    "crosswalk_all >> pipe(_.explode)"
   ]
  },
  {
   "cell_type": "code",
   "execution_count": 16,
   "id": "a5e5d8a7-bb76-4094-a3d6-dc7b61ace8fe",
   "metadata": {},
   "outputs": [],
   "source": [
    "cw = pd.DataFrame([crosswalk_all])\n"
   ]
  },
  {
   "cell_type": "code",
   "execution_count": 17,
   "id": "56674d8a-c280-45af-bde5-2c18d4d74480",
   "metadata": {},
   "outputs": [
    {
     "data": {
      "text/html": [
       "<div>\n",
       "<style scoped>\n",
       "    .dataframe tbody tr th:only-of-type {\n",
       "        vertical-align: middle;\n",
       "    }\n",
       "\n",
       "    .dataframe tbody tr th {\n",
       "        vertical-align: top;\n",
       "    }\n",
       "\n",
       "    .dataframe thead th {\n",
       "        text-align: right;\n",
       "    }\n",
       "</style>\n",
       "<table border=\"1\" class=\"dataframe\">\n",
       "  <thead>\n",
       "    <tr style=\"text-align: right;\">\n",
       "      <th>agency</th>\n",
       "      <th>Access Services</th>\n",
       "      <th>Agoura Hills</th>\n",
       "      <th>Ala-Con Costa T</th>\n",
       "      <th>Alameda</th>\n",
       "      <th>Alameda - Contra Costa Transit District</th>\n",
       "      <th>Alameda Corridor Transportation Authority</th>\n",
       "      <th>Alameda County</th>\n",
       "      <th>Alameda County Congestion Management Agency</th>\n",
       "      <th>Alameda County Transportation Commission</th>\n",
       "      <th>Alameda County Transportation Improvement Authority</th>\n",
       "      <th>...</th>\n",
       "      <th>Yolo County Transportation District</th>\n",
       "      <th>Yorba Linda</th>\n",
       "      <th>Yosemite Area Regional Transportation System Jpa</th>\n",
       "      <th>Yountville</th>\n",
       "      <th>Yreka City</th>\n",
       "      <th>Yrts</th>\n",
       "      <th>Yuba City</th>\n",
       "      <th>Yuba County</th>\n",
       "      <th>Yucaipa</th>\n",
       "      <th>Yucca Valley</th>\n",
       "    </tr>\n",
       "  </thead>\n",
       "  <tbody>\n",
       "    <tr>\n",
       "      <th>0</th>\n",
       "      <td>[6312]</td>\n",
       "      <td>[5435, nan]</td>\n",
       "      <td>[6002]</td>\n",
       "      <td>[5014]</td>\n",
       "      <td>[6002]</td>\n",
       "      <td>[6246]</td>\n",
       "      <td>[5933]</td>\n",
       "      <td>[6273]</td>\n",
       "      <td>[6480]</td>\n",
       "      <td>[6430]</td>\n",
       "      <td>...</td>\n",
       "      <td>[6195]</td>\n",
       "      <td>[5402, nan]</td>\n",
       "      <td>[6305]</td>\n",
       "      <td>[5395]</td>\n",
       "      <td>[5020]</td>\n",
       "      <td>[nan]</td>\n",
       "      <td>[5163]</td>\n",
       "      <td>[5916]</td>\n",
       "      <td>[5457, nan, 5954, NBIL]</td>\n",
       "      <td>[5466, nan]</td>\n",
       "    </tr>\n",
       "  </tbody>\n",
       "</table>\n",
       "<p>1 rows × 671 columns</p>\n",
       "</div>"
      ],
      "text/plain": [
       "agency Access Services Agoura Hills Ala-Con Costa T Alameda  \\\n",
       "0               [6312]  [5435, nan]          [6002]  [5014]   \n",
       "\n",
       "agency Alameda - Contra Costa Transit District  \\\n",
       "0                                       [6002]   \n",
       "\n",
       "agency Alameda Corridor Transportation Authority Alameda County  \\\n",
       "0                                         [6246]         [5933]   \n",
       "\n",
       "agency Alameda County Congestion Management Agency  \\\n",
       "0                                           [6273]   \n",
       "\n",
       "agency Alameda County Transportation Commission  \\\n",
       "0                                        [6480]   \n",
       "\n",
       "agency Alameda County Transportation Improvement Authority  ...  \\\n",
       "0                                                  [6430]   ...   \n",
       "\n",
       "agency Yolo County Transportation District  Yorba Linda  \\\n",
       "0                                   [6195]  [5402, nan]   \n",
       "\n",
       "agency Yosemite Area Regional Transportation System Jpa Yountville Yreka City  \\\n",
       "0                                                [6305]     [5395]     [5020]   \n",
       "\n",
       "agency   Yrts Yuba City Yuba County                  Yucaipa Yucca Valley  \n",
       "0       [nan]    [5163]      [5916]  [5457, nan, 5954, NBIL]  [5466, nan]  \n",
       "\n",
       "[1 rows x 671 columns]"
      ]
     },
     "execution_count": 17,
     "metadata": {},
     "output_type": "execute_result"
    }
   ],
   "source": [
    "cw"
   ]
  },
  {
   "cell_type": "code",
   "execution_count": 18,
   "id": "f26eee6d-5792-4485-80e8-f7b3d51f737e",
   "metadata": {},
   "outputs": [],
   "source": [
    "cw = cw >> gather('agency', 'locode', _[\"Access Services\":\"Yucca Valley\"])"
   ]
  },
  {
   "cell_type": "markdown",
   "id": "7abfeb59-0bc8-47d6-9234-a21f5140f708",
   "metadata": {},
   "source": [
    "### Add rows for agencies with more than one locode"
   ]
  },
  {
   "cell_type": "code",
   "execution_count": 19,
   "id": "c777d5c4-5a0a-4e8e-bc44-e6f118f75b99",
   "metadata": {},
   "outputs": [],
   "source": [
    "cw2 = (cw \n",
    "     >> pipe(_.explode('locode'))\n",
    ") "
   ]
  },
  {
   "cell_type": "code",
   "execution_count": 20,
   "id": "e9ffaf49-fcd9-459c-8903-63d051698579",
   "metadata": {},
   "outputs": [
    {
     "data": {
      "text/html": [
       "<div>\n",
       "<style scoped>\n",
       "    .dataframe tbody tr th:only-of-type {\n",
       "        vertical-align: middle;\n",
       "    }\n",
       "\n",
       "    .dataframe tbody tr th {\n",
       "        vertical-align: top;\n",
       "    }\n",
       "\n",
       "    .dataframe thead th {\n",
       "        text-align: right;\n",
       "    }\n",
       "</style>\n",
       "<table border=\"1\" class=\"dataframe\">\n",
       "  <thead>\n",
       "    <tr style=\"text-align: right;\">\n",
       "      <th></th>\n",
       "      <th>agency</th>\n",
       "      <th>locode</th>\n",
       "    </tr>\n",
       "  </thead>\n",
       "  <tbody>\n",
       "    <tr>\n",
       "      <th>0</th>\n",
       "      <td>Access Services</td>\n",
       "      <td>6312</td>\n",
       "    </tr>\n",
       "    <tr>\n",
       "      <th>1</th>\n",
       "      <td>Agoura Hills</td>\n",
       "      <td>5435</td>\n",
       "    </tr>\n",
       "    <tr>\n",
       "      <th>1</th>\n",
       "      <td>Agoura Hills</td>\n",
       "      <td>NaN</td>\n",
       "    </tr>\n",
       "    <tr>\n",
       "      <th>2</th>\n",
       "      <td>Ala-Con Costa T</td>\n",
       "      <td>6002</td>\n",
       "    </tr>\n",
       "    <tr>\n",
       "      <th>3</th>\n",
       "      <td>Alameda</td>\n",
       "      <td>5014</td>\n",
       "    </tr>\n",
       "    <tr>\n",
       "      <th>...</th>\n",
       "      <td>...</td>\n",
       "      <td>...</td>\n",
       "    </tr>\n",
       "    <tr>\n",
       "      <th>669</th>\n",
       "      <td>Yucaipa</td>\n",
       "      <td>NaN</td>\n",
       "    </tr>\n",
       "    <tr>\n",
       "      <th>669</th>\n",
       "      <td>Yucaipa</td>\n",
       "      <td>5954</td>\n",
       "    </tr>\n",
       "    <tr>\n",
       "      <th>669</th>\n",
       "      <td>Yucaipa</td>\n",
       "      <td>NBIL</td>\n",
       "    </tr>\n",
       "    <tr>\n",
       "      <th>670</th>\n",
       "      <td>Yucca Valley</td>\n",
       "      <td>5466</td>\n",
       "    </tr>\n",
       "    <tr>\n",
       "      <th>670</th>\n",
       "      <td>Yucca Valley</td>\n",
       "      <td>NaN</td>\n",
       "    </tr>\n",
       "  </tbody>\n",
       "</table>\n",
       "<p>885 rows × 2 columns</p>\n",
       "</div>"
      ],
      "text/plain": [
       "              agency locode\n",
       "0    Access Services   6312\n",
       "1       Agoura Hills   5435\n",
       "1       Agoura Hills    NaN\n",
       "2    Ala-Con Costa T   6002\n",
       "3            Alameda   5014\n",
       "..               ...    ...\n",
       "669          Yucaipa    NaN\n",
       "669          Yucaipa   5954\n",
       "669          Yucaipa   NBIL\n",
       "670     Yucca Valley   5466\n",
       "670     Yucca Valley    NaN\n",
       "\n",
       "[885 rows x 2 columns]"
      ]
     },
     "execution_count": 20,
     "metadata": {},
     "output_type": "execute_result"
    }
   ],
   "source": [
    "cw2"
   ]
  },
  {
   "cell_type": "code",
   "execution_count": 21,
   "id": "d317e5d1-dff9-46fd-8d5b-df712079de9a",
   "metadata": {},
   "outputs": [
    {
     "name": "stdout",
     "output_type": "stream",
     "text": [
      "<class 'pandas.core.frame.DataFrame'>\n",
      "Int64Index: 885 entries, 0 to 670\n",
      "Data columns (total 2 columns):\n",
      " #   Column  Non-Null Count  Dtype \n",
      "---  ------  --------------  ----- \n",
      " 0   agency  885 non-null    object\n",
      " 1   locode  680 non-null    object\n",
      "dtypes: object(2)\n",
      "memory usage: 20.7+ KB\n"
     ]
    }
   ],
   "source": [
    "cw2.info()"
   ]
  },
  {
   "cell_type": "markdown",
   "id": "b72285dd-7e8b-496c-a796-99c9b4f6432f",
   "metadata": {},
   "source": [
    "### Convert locode to numeric"
   ]
  },
  {
   "cell_type": "code",
   "execution_count": 22,
   "id": "4042930d-7ce4-4e1e-ac0b-d50fdd0e1cac",
   "metadata": {},
   "outputs": [
    {
     "name": "stdout",
     "output_type": "stream",
     "text": [
      "<class 'pandas.core.frame.DataFrame'>\n",
      "RangeIndex: 1041 entries, 0 to 1040\n",
      "Data columns (total 8 columns):\n",
      " #   Column                       Non-Null Count  Dtype \n",
      "---  ------                       --------------  ----- \n",
      " 0   locode                       1041 non-null   int64 \n",
      " 1   agency_name                  1041 non-null   object\n",
      " 2   district                     1041 non-null   int64 \n",
      " 3   county_name                  942 non-null    object\n",
      " 4   rtpa_name                    1041 non-null   object\n",
      " 5   mpo_name                     1041 non-null   object\n",
      " 6   mpo_locode_fads              1041 non-null   object\n",
      " 7   active_e76s______7_12_2021_  464 non-null    object\n",
      "dtypes: int64(2), object(6)\n",
      "memory usage: 65.2+ KB\n"
     ]
    }
   ],
   "source": [
    "locode_df.info()"
   ]
  },
  {
   "cell_type": "code",
   "execution_count": 23,
   "id": "f9370e57-be6d-4c0d-8591-f76a98bfd3df",
   "metadata": {},
   "outputs": [],
   "source": [
    "def get_num(x):\n",
    "    try:\n",
    "        return int(x)\n",
    "    except Exception:\n",
    "        try:\n",
    "            return float(x)\n",
    "        except Exception:\n",
    "            return x\n"
   ]
  },
  {
   "cell_type": "code",
   "execution_count": 24,
   "id": "ffe31be2-8b1c-4dd8-a857-b1b59174e1d4",
   "metadata": {},
   "outputs": [],
   "source": [
    "cw2['locode'] = cw2['locode'].apply(get_num)"
   ]
  },
  {
   "cell_type": "markdown",
   "id": "945f0833-ad95-40b3-b166-284e983a3221",
   "metadata": {},
   "source": [
    "## Joining Dataframes"
   ]
  },
  {
   "cell_type": "code",
   "execution_count": 25,
   "id": "e1cbc45a-8c4a-4f62-9b76-fbd33ebb9ff2",
   "metadata": {},
   "outputs": [],
   "source": [
    "join = (cw2 >> full_join(_, locode_df, on = \"locode\")) "
   ]
  },
  {
   "cell_type": "code",
   "execution_count": 26,
   "id": "e4d5d385-d241-4de1-80ef-4a97168e5597",
   "metadata": {},
   "outputs": [
    {
     "data": {
      "text/html": [
       "<div>\n",
       "<style scoped>\n",
       "    .dataframe tbody tr th:only-of-type {\n",
       "        vertical-align: middle;\n",
       "    }\n",
       "\n",
       "    .dataframe tbody tr th {\n",
       "        vertical-align: top;\n",
       "    }\n",
       "\n",
       "    .dataframe thead th {\n",
       "        text-align: right;\n",
       "    }\n",
       "</style>\n",
       "<table border=\"1\" class=\"dataframe\">\n",
       "  <thead>\n",
       "    <tr style=\"text-align: right;\">\n",
       "      <th></th>\n",
       "      <th>agency</th>\n",
       "      <th>locode</th>\n",
       "      <th>agency_name</th>\n",
       "      <th>district</th>\n",
       "      <th>county_name</th>\n",
       "      <th>rtpa_name</th>\n",
       "      <th>mpo_name</th>\n",
       "      <th>mpo_locode_fads</th>\n",
       "      <th>active_e76s______7_12_2021_</th>\n",
       "    </tr>\n",
       "  </thead>\n",
       "  <tbody>\n",
       "    <tr>\n",
       "      <th>0</th>\n",
       "      <td>Access Services</td>\n",
       "      <td>6312</td>\n",
       "      <td>Access Services</td>\n",
       "      <td>7.0</td>\n",
       "      <td>Los Angeles County</td>\n",
       "      <td>Los Angeles County Metropolitan Transportation...</td>\n",
       "      <td>Southern California Association Of Governments</td>\n",
       "      <td>SCAG</td>\n",
       "      <td>NaN</td>\n",
       "    </tr>\n",
       "    <tr>\n",
       "      <th>1</th>\n",
       "      <td>Agoura Hills</td>\n",
       "      <td>5435</td>\n",
       "      <td>Agoura Hills</td>\n",
       "      <td>7.0</td>\n",
       "      <td>Los Angeles County</td>\n",
       "      <td>NON-RTPA</td>\n",
       "      <td>Southern California Association Of Governments</td>\n",
       "      <td>SCAG</td>\n",
       "      <td>Yes</td>\n",
       "    </tr>\n",
       "    <tr>\n",
       "      <th>2</th>\n",
       "      <td>Agoura Hills</td>\n",
       "      <td>NaN</td>\n",
       "      <td>NaN</td>\n",
       "      <td>NaN</td>\n",
       "      <td>NaN</td>\n",
       "      <td>NaN</td>\n",
       "      <td>NaN</td>\n",
       "      <td>NaN</td>\n",
       "      <td>NaN</td>\n",
       "    </tr>\n",
       "    <tr>\n",
       "      <th>3</th>\n",
       "      <td>Alhambra</td>\n",
       "      <td>NaN</td>\n",
       "      <td>NaN</td>\n",
       "      <td>NaN</td>\n",
       "      <td>NaN</td>\n",
       "      <td>NaN</td>\n",
       "      <td>NaN</td>\n",
       "      <td>NaN</td>\n",
       "      <td>NaN</td>\n",
       "    </tr>\n",
       "    <tr>\n",
       "      <th>4</th>\n",
       "      <td>Amador</td>\n",
       "      <td>NaN</td>\n",
       "      <td>NaN</td>\n",
       "      <td>NaN</td>\n",
       "      <td>NaN</td>\n",
       "      <td>NaN</td>\n",
       "      <td>NaN</td>\n",
       "      <td>NaN</td>\n",
       "      <td>NaN</td>\n",
       "    </tr>\n",
       "  </tbody>\n",
       "</table>\n",
       "</div>"
      ],
      "text/plain": [
       "            agency locode      agency_name  district         county_name  \\\n",
       "0  Access Services   6312  Access Services       7.0  Los Angeles County   \n",
       "1     Agoura Hills   5435     Agoura Hills       7.0  Los Angeles County   \n",
       "2     Agoura Hills    NaN              NaN       NaN                 NaN   \n",
       "3         Alhambra    NaN              NaN       NaN                 NaN   \n",
       "4           Amador    NaN              NaN       NaN                 NaN   \n",
       "\n",
       "                                           rtpa_name  \\\n",
       "0  Los Angeles County Metropolitan Transportation...   \n",
       "1                                           NON-RTPA   \n",
       "2                                                NaN   \n",
       "3                                                NaN   \n",
       "4                                                NaN   \n",
       "\n",
       "                                         mpo_name mpo_locode_fads  \\\n",
       "0  Southern California Association Of Governments            SCAG   \n",
       "1  Southern California Association Of Governments            SCAG   \n",
       "2                                             NaN             NaN   \n",
       "3                                             NaN             NaN   \n",
       "4                                             NaN             NaN   \n",
       "\n",
       "  active_e76s______7_12_2021_  \n",
       "0                         NaN  \n",
       "1                         Yes  \n",
       "2                         NaN  \n",
       "3                         NaN  \n",
       "4                         NaN  "
      ]
     },
     "execution_count": 26,
     "metadata": {},
     "output_type": "execute_result"
    }
   ],
   "source": [
    "join.head()"
   ]
  },
  {
   "cell_type": "markdown",
   "id": "cd8af786-e4cb-4b66-b99b-ce00e1ba58ac",
   "metadata": {},
   "source": [
    "## Analysis of the Locodes"
   ]
  },
  {
   "cell_type": "markdown",
   "id": "00179784-3b88-4e40-a90f-96e60f70b097",
   "metadata": {},
   "source": [
    "### How many have no Locode?"
   ]
  },
  {
   "cell_type": "code",
   "execution_count": 27,
   "id": "e9435dd0-9a19-4c08-b693-0327c474ea69",
   "metadata": {},
   "outputs": [
    {
     "data": {
      "text/html": [
       "<div>\n",
       "<style scoped>\n",
       "    .dataframe tbody tr th:only-of-type {\n",
       "        vertical-align: middle;\n",
       "    }\n",
       "\n",
       "    .dataframe tbody tr th {\n",
       "        vertical-align: top;\n",
       "    }\n",
       "\n",
       "    .dataframe thead th {\n",
       "        text-align: right;\n",
       "    }\n",
       "</style>\n",
       "<table border=\"1\" class=\"dataframe\">\n",
       "  <thead>\n",
       "    <tr style=\"text-align: right;\">\n",
       "      <th></th>\n",
       "      <th>locode</th>\n",
       "      <th>n</th>\n",
       "    </tr>\n",
       "  </thead>\n",
       "  <tbody>\n",
       "    <tr>\n",
       "      <th>1038</th>\n",
       "      <td>7500</td>\n",
       "      <td>12</td>\n",
       "    </tr>\n",
       "    <tr>\n",
       "      <th>538</th>\n",
       "      <td>5953</td>\n",
       "      <td>5</td>\n",
       "    </tr>\n",
       "    <tr>\n",
       "      <th>488</th>\n",
       "      <td>5903</td>\n",
       "      <td>4</td>\n",
       "    </tr>\n",
       "    <tr>\n",
       "      <th>539</th>\n",
       "      <td>5954</td>\n",
       "      <td>4</td>\n",
       "    </tr>\n",
       "    <tr>\n",
       "      <th>501</th>\n",
       "      <td>5916</td>\n",
       "      <td>3</td>\n",
       "    </tr>\n",
       "    <tr>\n",
       "      <th>...</th>\n",
       "      <td>...</td>\n",
       "      <td>...</td>\n",
       "    </tr>\n",
       "    <tr>\n",
       "      <th>1042</th>\n",
       "      <td>7504</td>\n",
       "      <td>1</td>\n",
       "    </tr>\n",
       "    <tr>\n",
       "      <th>1043</th>\n",
       "      <td>7505</td>\n",
       "      <td>1</td>\n",
       "    </tr>\n",
       "    <tr>\n",
       "      <th>1044</th>\n",
       "      <td>32L0</td>\n",
       "      <td>1</td>\n",
       "    </tr>\n",
       "    <tr>\n",
       "      <th>1045</th>\n",
       "      <td>38R0</td>\n",
       "      <td>1</td>\n",
       "    </tr>\n",
       "    <tr>\n",
       "      <th>1046</th>\n",
       "      <td>38Y0</td>\n",
       "      <td>1</td>\n",
       "    </tr>\n",
       "  </tbody>\n",
       "</table>\n",
       "<p>1049 rows × 2 columns</p>\n",
       "</div>"
      ],
      "text/plain": [
       "     locode   n\n",
       "1038   7500  12\n",
       "538    5953   5\n",
       "488    5903   4\n",
       "539    5954   4\n",
       "501    5916   3\n",
       "...     ...  ..\n",
       "1042   7504   1\n",
       "1043   7505   1\n",
       "1044   32L0   1\n",
       "1045   38R0   1\n",
       "1046   38Y0   1\n",
       "\n",
       "[1049 rows x 2 columns]"
      ]
     },
     "execution_count": 27,
     "metadata": {},
     "output_type": "execute_result"
    }
   ],
   "source": [
    "join>>count(_.locode)>>arrange(-_.n)"
   ]
  },
  {
   "cell_type": "code",
   "execution_count": 28,
   "id": "07a8c118-c75c-4058-8f95-c3bff2f7557c",
   "metadata": {},
   "outputs": [
    {
     "name": "stdout",
     "output_type": "stream",
     "text": [
      "0\n"
     ]
    }
   ],
   "source": [
    "print(len(join>>filter(_.locode==0)))"
   ]
  },
  {
   "cell_type": "code",
   "execution_count": 29,
   "id": "deff988a-ba9b-409b-959f-1a1a2cefa7d0",
   "metadata": {},
   "outputs": [
    {
     "data": {
      "text/html": [
       "<div>\n",
       "<style scoped>\n",
       "    .dataframe tbody tr th:only-of-type {\n",
       "        vertical-align: middle;\n",
       "    }\n",
       "\n",
       "    .dataframe tbody tr th {\n",
       "        vertical-align: top;\n",
       "    }\n",
       "\n",
       "    .dataframe thead th {\n",
       "        text-align: right;\n",
       "    }\n",
       "</style>\n",
       "<table border=\"1\" class=\"dataframe\">\n",
       "  <thead>\n",
       "    <tr style=\"text-align: right;\">\n",
       "      <th></th>\n",
       "      <th>agency</th>\n",
       "      <th>locode</th>\n",
       "      <th>agency_name</th>\n",
       "      <th>district</th>\n",
       "      <th>county_name</th>\n",
       "      <th>rtpa_name</th>\n",
       "      <th>mpo_name</th>\n",
       "      <th>mpo_locode_fads</th>\n",
       "      <th>active_e76s______7_12_2021_</th>\n",
       "    </tr>\n",
       "  </thead>\n",
       "  <tbody>\n",
       "  </tbody>\n",
       "</table>\n",
       "</div>"
      ],
      "text/plain": [
       "Empty DataFrame\n",
       "Columns: [agency, locode, agency_name, district, county_name, rtpa_name, mpo_name, mpo_locode_fads, active_e76s______7_12_2021_]\n",
       "Index: []"
      ]
     },
     "execution_count": 29,
     "metadata": {},
     "output_type": "execute_result"
    }
   ],
   "source": [
    "join>>filter(_.locode==0)"
   ]
  },
  {
   "cell_type": "code",
   "execution_count": 30,
   "id": "811c8470-714a-4257-9238-27ba9a4e4b28",
   "metadata": {},
   "outputs": [
    {
     "data": {
      "text/html": [
       "<div>\n",
       "<style scoped>\n",
       "    .dataframe tbody tr th:only-of-type {\n",
       "        vertical-align: middle;\n",
       "    }\n",
       "\n",
       "    .dataframe tbody tr th {\n",
       "        vertical-align: top;\n",
       "    }\n",
       "\n",
       "    .dataframe thead th {\n",
       "        text-align: right;\n",
       "    }\n",
       "</style>\n",
       "<table border=\"1\" class=\"dataframe\">\n",
       "  <thead>\n",
       "    <tr style=\"text-align: right;\">\n",
       "      <th></th>\n",
       "      <th>agency</th>\n",
       "      <th>n</th>\n",
       "    </tr>\n",
       "  </thead>\n",
       "  <tbody>\n",
       "  </tbody>\n",
       "</table>\n",
       "</div>"
      ],
      "text/plain": [
       "Empty DataFrame\n",
       "Columns: [agency, n]\n",
       "Index: []"
      ]
     },
     "execution_count": 30,
     "metadata": {},
     "output_type": "execute_result"
    }
   ],
   "source": [
    "join>>filter(_.locode==0)>>count(_.agency)>>arrange(-_.n)"
   ]
  },
  {
   "cell_type": "markdown",
   "id": "b0853239-4e5b-4a10-a5dd-9b0d7eafe794",
   "metadata": {},
   "source": [
    "#### Dropping agencies with no locode"
   ]
  },
  {
   "cell_type": "code",
   "execution_count": 31,
   "id": "d2e47a85-9972-4b68-992d-d9343226e8b4",
   "metadata": {},
   "outputs": [],
   "source": [
    "join.drop(join[join.locode == 0].index, inplace=True)"
   ]
  },
  {
   "cell_type": "code",
   "execution_count": 32,
   "id": "40ed5bdc-4720-433a-9112-b12b1c794b21",
   "metadata": {},
   "outputs": [
    {
     "data": {
      "text/html": [
       "<div>\n",
       "<style scoped>\n",
       "    .dataframe tbody tr th:only-of-type {\n",
       "        vertical-align: middle;\n",
       "    }\n",
       "\n",
       "    .dataframe tbody tr th {\n",
       "        vertical-align: top;\n",
       "    }\n",
       "\n",
       "    .dataframe thead th {\n",
       "        text-align: right;\n",
       "    }\n",
       "</style>\n",
       "<table border=\"1\" class=\"dataframe\">\n",
       "  <thead>\n",
       "    <tr style=\"text-align: right;\">\n",
       "      <th></th>\n",
       "      <th>agency</th>\n",
       "      <th>locode</th>\n",
       "      <th>agency_name</th>\n",
       "      <th>district</th>\n",
       "      <th>county_name</th>\n",
       "      <th>rtpa_name</th>\n",
       "      <th>mpo_name</th>\n",
       "      <th>mpo_locode_fads</th>\n",
       "      <th>active_e76s______7_12_2021_</th>\n",
       "    </tr>\n",
       "  </thead>\n",
       "  <tbody>\n",
       "  </tbody>\n",
       "</table>\n",
       "</div>"
      ],
      "text/plain": [
       "Empty DataFrame\n",
       "Columns: [agency, locode, agency_name, district, county_name, rtpa_name, mpo_name, mpo_locode_fads, active_e76s______7_12_2021_]\n",
       "Index: []"
      ]
     },
     "execution_count": 32,
     "metadata": {},
     "output_type": "execute_result"
    }
   ],
   "source": [
    "join>>filter(_.locode==0)"
   ]
  },
  {
   "cell_type": "markdown",
   "id": "b4f5a174-73b8-4fe6-b15b-8d47e18b8ae9",
   "metadata": {},
   "source": [
    "### What Agencies have incorrect locodes?\n",
    "Possible from manual entries"
   ]
  },
  {
   "cell_type": "code",
   "execution_count": 33,
   "id": "594c1a49-b2db-4b96-ada4-911196de2fb0",
   "metadata": {},
   "outputs": [],
   "source": [
    "multiple_id = (join>>count(_.locode)>>arrange(-_.n)>>filter(_.n>1))"
   ]
  },
  {
   "cell_type": "code",
   "execution_count": 48,
   "id": "ac8b01d8-e8e1-481b-b3d7-ae223888ec75",
   "metadata": {},
   "outputs": [
    {
     "name": "stdout",
     "output_type": "stream",
     "text": [
      "30\n"
     ]
    }
   ],
   "source": [
    "print(len(multiple_id))"
   ]
  },
  {
   "cell_type": "code",
   "execution_count": 49,
   "id": "c833da5f-f980-4243-b79b-dc3626ef82ae",
   "metadata": {},
   "outputs": [
    {
     "data": {
      "text/html": [
       "<div>\n",
       "<style scoped>\n",
       "    .dataframe tbody tr th:only-of-type {\n",
       "        vertical-align: middle;\n",
       "    }\n",
       "\n",
       "    .dataframe tbody tr th {\n",
       "        vertical-align: top;\n",
       "    }\n",
       "\n",
       "    .dataframe thead th {\n",
       "        text-align: right;\n",
       "    }\n",
       "</style>\n",
       "<table border=\"1\" class=\"dataframe\">\n",
       "  <thead>\n",
       "    <tr style=\"text-align: right;\">\n",
       "      <th></th>\n",
       "      <th>agency_name</th>\n",
       "    </tr>\n",
       "  </thead>\n",
       "  <tbody>\n",
       "    <tr>\n",
       "      <th>486</th>\n",
       "      <td>Los Angeles County Metropolitan Transportation...</td>\n",
       "    </tr>\n",
       "    <tr>\n",
       "      <th>487</th>\n",
       "      <td>Los Angeles County Metropolitan Transportation...</td>\n",
       "    </tr>\n",
       "  </tbody>\n",
       "</table>\n",
       "</div>"
      ],
      "text/plain": [
       "                                           agency_name\n",
       "486  Los Angeles County Metropolitan Transportation...\n",
       "487  Los Angeles County Metropolitan Transportation..."
      ]
     },
     "execution_count": 49,
     "metadata": {},
     "output_type": "execute_result"
    }
   ],
   "source": [
    "(join\n",
    "    >>filter(_.agency_name.str.contains('Los Angeles County Metropolitan Transportatio'))\n",
    "     >>select(_.agency_name)\n",
    ")"
   ]
  },
  {
   "cell_type": "code",
   "execution_count": 50,
   "id": "31a64e93-ef8b-4693-b909-895cf4432725",
   "metadata": {},
   "outputs": [
    {
     "data": {
      "application/vnd.jupyter.widget-view+json": {
       "model_id": "2241a00abe6e4e3b972480c1636d3cc5",
       "version_major": 2,
       "version_minor": 0
      },
      "text/plain": [
       "interactive(children=(Dropdown(description='locode', options=(7500, 5953, 5903, 5954, 5916, 5940, 5957, 6190, …"
      ]
     },
     "metadata": {},
     "output_type": "display_data"
    }
   ],
   "source": [
    "@interact\n",
    "def find_agencies(locode=multiple_id.locode.unique().tolist()):\n",
    "    \n",
    "    filtering = (join >> filter(_.locode== locode))\n",
    "    \n",
    "    display(Markdown(f\"**Agencies using Locode number {locode}**\"))\n",
    "    \n",
    "    display(filtering)\n"
   ]
  },
  {
   "cell_type": "markdown",
   "id": "cdd5f11d-2425-433c-a99e-70bef1fcd0ce",
   "metadata": {},
   "source": [
    "### Checking the Obligated df for project location"
   ]
  },
  {
   "cell_type": "code",
   "execution_count": 56,
   "id": "44395529-d8f0-4f0f-a6c4-42de3b906f02",
   "metadata": {},
   "outputs": [
    {
     "data": {
      "text/html": [
       "<div>\n",
       "<style scoped>\n",
       "    .dataframe tbody tr th:only-of-type {\n",
       "        vertical-align: middle;\n",
       "    }\n",
       "\n",
       "    .dataframe tbody tr th {\n",
       "        vertical-align: top;\n",
       "    }\n",
       "\n",
       "    .dataframe thead th {\n",
       "        text-align: right;\n",
       "    }\n",
       "</style>\n",
       "<table border=\"1\" class=\"dataframe\">\n",
       "  <thead>\n",
       "    <tr style=\"text-align: right;\">\n",
       "      <th></th>\n",
       "      <th>prefix</th>\n",
       "      <th>project_no</th>\n",
       "      <th>agency</th>\n",
       "      <th>prepared_date</th>\n",
       "      <th>fed_requested</th>\n",
       "      <th>ac_requested</th>\n",
       "      <th>total_requested</th>\n",
       "      <th>status_comment</th>\n",
       "      <th>locode</th>\n",
       "      <th>dist</th>\n",
       "      <th>ftip_no</th>\n",
       "      <th>project_location</th>\n",
       "      <th>type_of_work</th>\n",
       "      <th>seq</th>\n",
       "      <th>mpo</th>\n",
       "      <th>prepared_y</th>\n",
       "    </tr>\n",
       "  </thead>\n",
       "  <tbody>\n",
       "    <tr>\n",
       "      <th>19512</th>\n",
       "      <td>ACSTP</td>\n",
       "      <td>40A0(067)</td>\n",
       "      <td>Tehama County</td>\n",
       "      <td>2021-06-03</td>\n",
       "      <td>0.0</td>\n",
       "      <td>5478.37</td>\n",
       "      <td>5660.65</td>\n",
       "      <td>Authorized</td>\n",
       "      <td>5954</td>\n",
       "      <td>2</td>\n",
       "      <td>NaN</td>\n",
       "      <td>Dusty Way Closure And Monitoring.</td>\n",
       "      <td>Ca19-2 Eo Work To Remove Debris And Cleanup.  ...</td>\n",
       "      <td>1</td>\n",
       "      <td>SCAG</td>\n",
       "      <td>2021-01-01</td>\n",
       "    </tr>\n",
       "  </tbody>\n",
       "</table>\n",
       "</div>"
      ],
      "text/plain": [
       "      prefix project_no         agency prepared_date  fed_requested  \\\n",
       "19512  ACSTP  40A0(067)  Tehama County    2021-06-03            0.0   \n",
       "\n",
       "       ac_requested  total_requested status_comment locode  dist ftip_no  \\\n",
       "19512       5478.37          5660.65     Authorized   5954     2     NaN   \n",
       "\n",
       "                        project_location  \\\n",
       "19512  Dusty Way Closure And Monitoring.   \n",
       "\n",
       "                                            type_of_work  seq   mpo  \\\n",
       "19512  Ca19-2 Eo Work To Remove Debris And Cleanup.  ...    1  SCAG   \n",
       "\n",
       "       prepared_y  \n",
       "19512  2021-01-01  "
      ]
     },
     "execution_count": 56,
     "metadata": {},
     "output_type": "execute_result"
    }
   ],
   "source": [
    "df>>filter(_.locode=='5954')>>filter(_.agency==\"Tehama County\")"
   ]
  },
  {
   "cell_type": "code",
   "execution_count": 57,
   "id": "540d59d9-775a-46b0-a9a3-c67395654dd3",
   "metadata": {},
   "outputs": [
    {
     "data": {
      "text/html": [
       "<div>\n",
       "<style scoped>\n",
       "    .dataframe tbody tr th:only-of-type {\n",
       "        vertical-align: middle;\n",
       "    }\n",
       "\n",
       "    .dataframe tbody tr th {\n",
       "        vertical-align: top;\n",
       "    }\n",
       "\n",
       "    .dataframe thead th {\n",
       "        text-align: right;\n",
       "    }\n",
       "</style>\n",
       "<table border=\"1\" class=\"dataframe\">\n",
       "  <thead>\n",
       "    <tr style=\"text-align: right;\">\n",
       "      <th></th>\n",
       "      <th>locode</th>\n",
       "      <th>agency_name</th>\n",
       "      <th>district</th>\n",
       "      <th>county_name</th>\n",
       "      <th>rtpa_name</th>\n",
       "      <th>mpo_name</th>\n",
       "      <th>mpo_locode_fads</th>\n",
       "      <th>active_e76s______7_12_2021_</th>\n",
       "    </tr>\n",
       "  </thead>\n",
       "  <tbody>\n",
       "    <tr>\n",
       "      <th>45</th>\n",
       "      <td>5908</td>\n",
       "      <td>Tehama County</td>\n",
       "      <td>2</td>\n",
       "      <td>Tehama County</td>\n",
       "      <td>Tehama County Transportation Commission</td>\n",
       "      <td>NON-MPO</td>\n",
       "      <td>NON-MPO</td>\n",
       "      <td>Yes</td>\n",
       "    </tr>\n",
       "  </tbody>\n",
       "</table>\n",
       "</div>"
      ],
      "text/plain": [
       "    locode    agency_name  district    county_name  \\\n",
       "45    5908  Tehama County         2  Tehama County   \n",
       "\n",
       "                                  rtpa_name mpo_name mpo_locode_fads  \\\n",
       "45  Tehama County Transportation Commission  NON-MPO         NON-MPO   \n",
       "\n",
       "   active_e76s______7_12_2021_  \n",
       "45                         Yes  "
      ]
     },
     "execution_count": 57,
     "metadata": {},
     "output_type": "execute_result"
    }
   ],
   "source": [
    "locode_df>>filter(_.agency_name=='Tehama County')"
   ]
  },
  {
   "cell_type": "markdown",
   "id": "96e52957-1ed7-491a-9d69-2a87a74037e6",
   "metadata": {},
   "source": [
    "##### ---\n",
    "* is it worth manually changing the locodes? or not because it might somehow be connected? "
   ]
  },
  {
   "cell_type": "code",
   "execution_count": 58,
   "id": "c0411292-e453-401f-9725-139a5f0318e3",
   "metadata": {},
   "outputs": [
    {
     "data": {
      "text/html": [
       "<div>\n",
       "<style scoped>\n",
       "    .dataframe tbody tr th:only-of-type {\n",
       "        vertical-align: middle;\n",
       "    }\n",
       "\n",
       "    .dataframe tbody tr th {\n",
       "        vertical-align: top;\n",
       "    }\n",
       "\n",
       "    .dataframe thead th {\n",
       "        text-align: right;\n",
       "    }\n",
       "</style>\n",
       "<table border=\"1\" class=\"dataframe\">\n",
       "  <thead>\n",
       "    <tr style=\"text-align: right;\">\n",
       "      <th></th>\n",
       "      <th>prefix</th>\n",
       "      <th>project_no</th>\n",
       "      <th>agency</th>\n",
       "      <th>prepared_date</th>\n",
       "      <th>fed_requested</th>\n",
       "      <th>ac_requested</th>\n",
       "      <th>total_requested</th>\n",
       "      <th>status_comment</th>\n",
       "      <th>locode</th>\n",
       "      <th>dist</th>\n",
       "      <th>ftip_no</th>\n",
       "      <th>project_location</th>\n",
       "      <th>type_of_work</th>\n",
       "      <th>seq</th>\n",
       "      <th>mpo</th>\n",
       "      <th>prepared_y</th>\n",
       "    </tr>\n",
       "  </thead>\n",
       "  <tbody>\n",
       "    <tr>\n",
       "      <th>19568</th>\n",
       "      <td>ACSTP</td>\n",
       "      <td>40A0(087)</td>\n",
       "      <td>Marin County</td>\n",
       "      <td>2021-06-16</td>\n",
       "      <td>0.0</td>\n",
       "      <td>676463.01</td>\n",
       "      <td>764107.59</td>\n",
       "      <td>Authorized</td>\n",
       "      <td>5953</td>\n",
       "      <td>4</td>\n",
       "      <td>NaN</td>\n",
       "      <td>Lucas Valley Rd At Mp 3.92</td>\n",
       "      <td>Lucas Valley Rd At Mp 3.92 Roadway Damage.  Un...</td>\n",
       "      <td>2</td>\n",
       "      <td>SCAG</td>\n",
       "      <td>2021-01-01</td>\n",
       "    </tr>\n",
       "  </tbody>\n",
       "</table>\n",
       "</div>"
      ],
      "text/plain": [
       "      prefix project_no        agency prepared_date  fed_requested  \\\n",
       "19568  ACSTP  40A0(087)  Marin County    2021-06-16            0.0   \n",
       "\n",
       "       ac_requested  total_requested status_comment locode  dist ftip_no  \\\n",
       "19568     676463.01        764107.59     Authorized   5953     4     NaN   \n",
       "\n",
       "                 project_location  \\\n",
       "19568  Lucas Valley Rd At Mp 3.92   \n",
       "\n",
       "                                            type_of_work  seq   mpo  \\\n",
       "19568  Lucas Valley Rd At Mp 3.92 Roadway Damage.  Un...    2  SCAG   \n",
       "\n",
       "       prepared_y  \n",
       "19568  2021-01-01  "
      ]
     },
     "execution_count": 58,
     "metadata": {},
     "output_type": "execute_result"
    }
   ],
   "source": [
    "df>>filter(_.locode=='5953')>>filter(_.agency==\"Marin County\")"
   ]
  },
  {
   "cell_type": "code",
   "execution_count": 59,
   "id": "831af9c9-bf6c-4447-9eeb-39fefbcab56f",
   "metadata": {},
   "outputs": [
    {
     "data": {
      "text/html": [
       "<div>\n",
       "<style scoped>\n",
       "    .dataframe tbody tr th:only-of-type {\n",
       "        vertical-align: middle;\n",
       "    }\n",
       "\n",
       "    .dataframe tbody tr th {\n",
       "        vertical-align: top;\n",
       "    }\n",
       "\n",
       "    .dataframe thead th {\n",
       "        text-align: right;\n",
       "    }\n",
       "</style>\n",
       "<table border=\"1\" class=\"dataframe\">\n",
       "  <thead>\n",
       "    <tr style=\"text-align: right;\">\n",
       "      <th></th>\n",
       "      <th>prefix</th>\n",
       "      <th>project_no</th>\n",
       "      <th>agency</th>\n",
       "      <th>prepared_date</th>\n",
       "      <th>fed_requested</th>\n",
       "      <th>ac_requested</th>\n",
       "      <th>total_requested</th>\n",
       "      <th>status_comment</th>\n",
       "      <th>locode</th>\n",
       "      <th>dist</th>\n",
       "      <th>ftip_no</th>\n",
       "      <th>project_location</th>\n",
       "      <th>type_of_work</th>\n",
       "      <th>seq</th>\n",
       "      <th>mpo</th>\n",
       "      <th>prepared_y</th>\n",
       "    </tr>\n",
       "  </thead>\n",
       "  <tbody>\n",
       "    <tr>\n",
       "      <th>16249</th>\n",
       "      <td>ACSTP</td>\n",
       "      <td>38Y0(025)</td>\n",
       "      <td>Paradise</td>\n",
       "      <td>2020-04-06</td>\n",
       "      <td>0.0</td>\n",
       "      <td>107607.5</td>\n",
       "      <td>143000.0</td>\n",
       "      <td>Authorized</td>\n",
       "      <td>5953</td>\n",
       "      <td>3</td>\n",
       "      <td>NaN</td>\n",
       "      <td>In Paradise On Neal Rd From Wayland Rd To Skyway.</td>\n",
       "      <td>Pavement Repair Of 1.63 Miles Of Neal Rd.</td>\n",
       "      <td>1</td>\n",
       "      <td>SCAG</td>\n",
       "      <td>2020-01-01</td>\n",
       "    </tr>\n",
       "    <tr>\n",
       "      <th>17589</th>\n",
       "      <td>ER</td>\n",
       "      <td>38Y0(025)</td>\n",
       "      <td>Paradise</td>\n",
       "      <td>2020-10-29</td>\n",
       "      <td>107607.5</td>\n",
       "      <td>-107607.5</td>\n",
       "      <td>0.0</td>\n",
       "      <td>Authorized</td>\n",
       "      <td>5953</td>\n",
       "      <td>3</td>\n",
       "      <td>NaN</td>\n",
       "      <td>In Paradise On Neal Rd From Wayland Rd To Skyway.</td>\n",
       "      <td>Pavement Repair Of 1.63 Miles Of Neal Rd.</td>\n",
       "      <td>2</td>\n",
       "      <td>SCAG</td>\n",
       "      <td>2020-01-01</td>\n",
       "    </tr>\n",
       "    <tr>\n",
       "      <th>18969</th>\n",
       "      <td>ER</td>\n",
       "      <td>38Y0(025)</td>\n",
       "      <td>Paradise</td>\n",
       "      <td>2021-05-14</td>\n",
       "      <td>0.0</td>\n",
       "      <td>0.0</td>\n",
       "      <td>0.0</td>\n",
       "      <td>Authorized</td>\n",
       "      <td>5953</td>\n",
       "      <td>3</td>\n",
       "      <td>NaN</td>\n",
       "      <td>In Paradise On Neal Rd From Wayland Rd To Skyway.</td>\n",
       "      <td>Pavement Repair Of 1.63 Miles Of Neal Rd.</td>\n",
       "      <td>3</td>\n",
       "      <td>SCAG</td>\n",
       "      <td>2021-01-01</td>\n",
       "    </tr>\n",
       "    <tr>\n",
       "      <th>19548</th>\n",
       "      <td>ER</td>\n",
       "      <td>38Y0(025)</td>\n",
       "      <td>Paradise</td>\n",
       "      <td>2021-08-13</td>\n",
       "      <td>0.0</td>\n",
       "      <td>0.0</td>\n",
       "      <td>0.0</td>\n",
       "      <td>Authorized</td>\n",
       "      <td>5953</td>\n",
       "      <td>3</td>\n",
       "      <td>NaN</td>\n",
       "      <td>In Paradise On Neal Rd From Wayland Rd To Skyway.</td>\n",
       "      <td>Pavement Repair Of 1.63 Miles Of Neal Rd.</td>\n",
       "      <td>4</td>\n",
       "      <td>SCAG</td>\n",
       "      <td>2021-01-01</td>\n",
       "    </tr>\n",
       "  </tbody>\n",
       "</table>\n",
       "</div>"
      ],
      "text/plain": [
       "      prefix project_no    agency prepared_date  fed_requested  ac_requested  \\\n",
       "16249  ACSTP  38Y0(025)  Paradise    2020-04-06            0.0      107607.5   \n",
       "17589     ER  38Y0(025)  Paradise    2020-10-29       107607.5     -107607.5   \n",
       "18969     ER  38Y0(025)  Paradise    2021-05-14            0.0           0.0   \n",
       "19548     ER  38Y0(025)  Paradise    2021-08-13            0.0           0.0   \n",
       "\n",
       "       total_requested status_comment locode  dist ftip_no  \\\n",
       "16249         143000.0     Authorized   5953     3     NaN   \n",
       "17589              0.0     Authorized   5953     3     NaN   \n",
       "18969              0.0     Authorized   5953     3     NaN   \n",
       "19548              0.0     Authorized   5953     3     NaN   \n",
       "\n",
       "                                        project_location  \\\n",
       "16249  In Paradise On Neal Rd From Wayland Rd To Skyway.   \n",
       "17589  In Paradise On Neal Rd From Wayland Rd To Skyway.   \n",
       "18969  In Paradise On Neal Rd From Wayland Rd To Skyway.   \n",
       "19548  In Paradise On Neal Rd From Wayland Rd To Skyway.   \n",
       "\n",
       "                                    type_of_work  seq   mpo  prepared_y  \n",
       "16249  Pavement Repair Of 1.63 Miles Of Neal Rd.    1  SCAG  2020-01-01  \n",
       "17589  Pavement Repair Of 1.63 Miles Of Neal Rd.    2  SCAG  2020-01-01  \n",
       "18969  Pavement Repair Of 1.63 Miles Of Neal Rd.    3  SCAG  2021-01-01  \n",
       "19548  Pavement Repair Of 1.63 Miles Of Neal Rd.    4  SCAG  2021-01-01  "
      ]
     },
     "execution_count": 59,
     "metadata": {},
     "output_type": "execute_result"
    }
   ],
   "source": [
    "df>>filter(_.locode=='5953')>>filter(_.agency==\"Paradise\")"
   ]
  },
  {
   "cell_type": "code",
   "execution_count": 61,
   "id": "9decd0a2-5766-4c69-8437-778e4f5637f4",
   "metadata": {},
   "outputs": [],
   "source": [
    "#location is in Paradise, while Locode is Los Angeles County"
   ]
  },
  {
   "cell_type": "code",
   "execution_count": 62,
   "id": "f104b253-7c9d-48d3-b122-b547ce812a71",
   "metadata": {},
   "outputs": [
    {
     "data": {
      "text/html": [
       "<div>\n",
       "<style scoped>\n",
       "    .dataframe tbody tr th:only-of-type {\n",
       "        vertical-align: middle;\n",
       "    }\n",
       "\n",
       "    .dataframe tbody tr th {\n",
       "        vertical-align: top;\n",
       "    }\n",
       "\n",
       "    .dataframe thead th {\n",
       "        text-align: right;\n",
       "    }\n",
       "</style>\n",
       "<table border=\"1\" class=\"dataframe\">\n",
       "  <thead>\n",
       "    <tr style=\"text-align: right;\">\n",
       "      <th></th>\n",
       "      <th>locode</th>\n",
       "      <th>agency_name</th>\n",
       "      <th>district</th>\n",
       "      <th>county_name</th>\n",
       "      <th>rtpa_name</th>\n",
       "      <th>mpo_name</th>\n",
       "      <th>mpo_locode_fads</th>\n",
       "      <th>active_e76s______7_12_2021_</th>\n",
       "    </tr>\n",
       "  </thead>\n",
       "  <tbody>\n",
       "    <tr>\n",
       "      <th>175</th>\n",
       "      <td>5425</td>\n",
       "      <td>Paradise</td>\n",
       "      <td>3</td>\n",
       "      <td>Butte County</td>\n",
       "      <td>Butte County Association of Governments</td>\n",
       "      <td>Butte County Association Of Governments</td>\n",
       "      <td>BCAG</td>\n",
       "      <td>Yes</td>\n",
       "    </tr>\n",
       "  </tbody>\n",
       "</table>\n",
       "</div>"
      ],
      "text/plain": [
       "     locode agency_name  district   county_name  \\\n",
       "175    5425    Paradise         3  Butte County   \n",
       "\n",
       "                                   rtpa_name  \\\n",
       "175  Butte County Association of Governments   \n",
       "\n",
       "                                    mpo_name mpo_locode_fads  \\\n",
       "175  Butte County Association Of Governments            BCAG   \n",
       "\n",
       "    active_e76s______7_12_2021_  \n",
       "175                         Yes  "
      ]
     },
     "execution_count": 62,
     "metadata": {},
     "output_type": "execute_result"
    }
   ],
   "source": [
    "locode_df>>filter(_.agency_name=='Paradise')"
   ]
  },
  {
   "cell_type": "code",
   "execution_count": null,
   "id": "25fbe693-4540-46b0-bc2e-a8e76811c1b9",
   "metadata": {},
   "outputs": [],
   "source": []
  },
  {
   "cell_type": "code",
   "execution_count": null,
   "id": "d4f5582d-f5a2-4fde-9a53-7077c011d30f",
   "metadata": {},
   "outputs": [],
   "source": []
  },
  {
   "cell_type": "markdown",
   "id": "47e66084-d094-435f-a589-7e57c9ad73dd",
   "metadata": {
    "tags": []
   },
   "source": [
    "* Some agencies with same locodes are the same on the oblgiated list, but just have different spellings. \n",
    "    * for example: Locode 6002 Alameda-Contra Costa Transit District spelled\n",
    "        * Ala-Con Consta T \n",
    "        * Alameda-Contra Costa Transit District\n",
    "* Documenting these allows us to have a correct list of agencies instead of having duplicates      \n",
    "        \n"
   ]
  },
  {
   "cell_type": "markdown",
   "id": "95f80d8d-40e4-42a3-95a7-3a1d53cbeb40",
   "metadata": {},
   "source": [
    "## Agencies to Change\n",
    "\n",
    "| Locodes  |Agency in Locode List | Agencies to Change |\n",
    "| ------------- | ------------- | ------------- |\n",
    "| 5953 | Los Angeles County | Los Angeles, Marin County, Paradise, Trinity County  |\n",
    "| 5903 |Modoc County | Alpine County, Monterey County, Nevada County  |\n",
    "| 5954 |San Bernardino County | San Bernardino, Tehama County, Yucaipa    |\n",
    "| 5916 |Yuba County | Shasta County, Tuolumne County|\n",
    "| 5940 | Mariposa County | Humboldt, Mariposa| \n",
    "| 5957 | San Diego County | San Diego, Cathedral City|\n",
    "| 6190 | U.S. Forest Service, Pacific Southwest Region | Usda Forest Ser, United States Forest Service| \n",
    "| 5020 |Yreka City | Sonoma County|\n",
    "| 5275 | Indio | Palm Springs | \n",
    "| 5351 | Pico Rivera | Los Angeles County |\n",
    "| 5391 | Morro Bay | Ora Co Trans Au | \n",
    "| 5463 | Calabasas | Calaveras |\n",
    "| 5912 | Butte County | Santa Barbara County | \n",
    "| 5921 | Napa County | Shasta County |\n",
    "| 5930 | Calaveras County | Los Angeles County | \n",
    "| 5936 | Santa Cruz County | Monterey County |\n",
    "| 5939 | Merced County | Merced | \n",
    "| 5956 | Riverside County | Riverside |\n",
    "| 5958 | Imperial County | Imperial | \n",
    "| 5961 | Kern County (District 9) | Kern |\n",
    "| 6000 | San Francisco Bay Area Rapid Transit District | Bay Area Rt | \n",
    "| 6002 | Alameda - Contra Costa Transit District | Ala-Con Costa T | \n",
    "| 6065 | Los Angeles County Metropolitan Transportation... | La Co M T A |\n",
    "| 6081 | Department of Parks and Recreation | Parks And Rec | \n",
    "| 6264 | Santa Clara Valley Transportation Authority | Vta |\n",
    "| 6343 | Marin County Transit District | Mctd | \n",
    "| 6365 | San Francisco Bay Area Water Transit Authority | Wta |"
   ]
  },
  {
   "cell_type": "markdown",
   "id": "e7ad8d68-05e4-430b-b18b-8e3b6039b341",
   "metadata": {
    "tags": []
   },
   "source": [
    "## Agencies to find\n",
    "  \n",
    "| Locodes  | Agency in List | Agencies to find |\n",
    "| ------------- | ------------- | ------------- |\n",
    "| 7500  | NaN | Banning, Fowler, Lancaster, Los Angeles, Palmdale, Richmond, San Luis Obispo, San Mateo, Sgvc, Stockton, Sutter, Ventura  |\n",
    "| 40A0  | NaN | Mendocino, San Bernardino, Santa Cruz  |\n",
    "| NBIL  | NaN | La Quinta, Yucaipa                     |"
   ]
  },
  {
   "cell_type": "code",
   "execution_count": null,
   "id": "5b3f4a6b-b243-4352-9e08-f493d46843d7",
   "metadata": {},
   "outputs": [],
   "source": []
  }
 ],
 "metadata": {
  "kernelspec": {
   "display_name": "Python 3 (ipykernel)",
   "language": "python",
   "name": "python3"
  },
  "language_info": {
   "codemirror_mode": {
    "name": "ipython",
    "version": 3
   },
   "file_extension": ".py",
   "mimetype": "text/x-python",
   "name": "python",
   "nbconvert_exporter": "python",
   "pygments_lexer": "ipython3",
   "version": "3.9.7"
  },
  "widgets": {
   "application/vnd.jupyter.widget-state+json": {
    "state": {},
    "version_major": 2,
    "version_minor": 0
   }
  }
 },
 "nbformat": 4,
 "nbformat_minor": 5
}
