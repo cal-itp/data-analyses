{
 "cells": [
  {
   "cell_type": "markdown",
   "id": "7f173ca8-1c65-4cc9-96c8-8d145d10b713",
   "metadata": {},
   "source": [
    "# District {district} Widgets"
   ]
  },
  {
   "cell_type": "code",
   "execution_count": 1,
   "id": "eb99a4e9-5748-4b93-979f-912d0edd6dca",
   "metadata": {},
   "outputs": [
    {
     "name": "stderr",
     "output_type": "stream",
     "text": [
      "/opt/conda/lib/python3.9/site-packages/geopandas/_compat.py:111: UserWarning: The Shapely GEOS version (3.10.2-CAPI-1.16.0) is incompatible with the GEOS version PyGEOS was compiled with (3.10.1-CAPI-1.16.0). Conversions between both will be slow.\n",
      "  warnings.warn(\n",
      "E0324 17:22:45.694658056    1185 fork_posix.cc:70]           Fork support is only compatible with the epoll1 and poll polling strategies\n",
      "E0324 17:22:48.285186198    1185 fork_posix.cc:70]           Fork support is only compatible with the epoll1 and poll polling strategies\n"
     ]
    },
    {
     "data": {
      "text/plain": [
       "ThemeRegistry.enable('calitp_theme')"
      ]
     },
     "execution_count": 1,
     "metadata": {},
     "output_type": "execute_result"
    }
   ],
   "source": [
    "import altair as alt\n",
    "import branca\n",
    "import geopandas as gpd\n",
    "import ipywidgets as widgets\n",
    "import pandas as pd\n",
    "\n",
    "from ipywidgets import *\n",
    "from siuba import *\n",
    "\n",
    "from IPython.display import Markdown, HTML\n",
    "\n",
    "from shared_utils import styleguide, geography_utils, map_utils\n",
    "from shared_utils import calitp_color_palette as cp\n",
    "\n",
    "alt.themes.register(\"calitp_theme\", styleguide.calitp_theme)\n",
    "# enable\n",
    "alt.themes.enable(\"calitp_theme\")"
   ]
  },
  {
   "cell_type": "code",
   "execution_count": 2,
   "id": "bca38d68-d706-473e-b988-49ed9367c1c6",
   "metadata": {
    "tags": [
     "parameters"
    ]
   },
   "outputs": [],
   "source": [
    "district = 7"
   ]
  },
  {
   "cell_type": "code",
   "execution_count": 3,
   "id": "0111ac22-39b9-4212-8df9-1c215383f01d",
   "metadata": {
    "tags": []
   },
   "outputs": [],
   "source": [
    "df= pd.read_parquet(\"dla_df.parquet\")\n",
    "\n",
    "df = df>>filter(_.dist==district)"
   ]
  },
  {
   "cell_type": "code",
   "execution_count": 4,
   "id": "8192386f-c7af-47a1-9658-0f38b3c070e7",
   "metadata": {},
   "outputs": [],
   "source": [
    "def make_altair_bar(df, x_col, y_col):\n",
    "    chart = (alt.Chart(df)\n",
    "             .mark_bar()\n",
    "             .encode(\n",
    "                 x=alt.X(f\"{x_col}:N\"),\n",
    "                 y=alt.Y(f\"{y_col}:Q\"),\n",
    "                 color=alt.Color(f\"{x_col}:N\", \n",
    "                                 scale=alt.Scale(range=cp.CALITP_CATEGORY_BOLD_COLORS)),\n",
    "                 tooltip=alt.Tooltip([x_col, y_col])\n",
    "             ).properties(\n",
    "                 title=f\"Average Requested Funding by {x_col.title()} Dummy Variable\")\n",
    "             .interactive()\n",
    "            )\n",
    "    \n",
    "    return chart"
   ]
  },
  {
   "cell_type": "code",
   "execution_count": 5,
   "id": "9808e663-fd59-40ad-af34-2d49f442d704",
   "metadata": {},
   "outputs": [],
   "source": [
    "#GEOSPATIAL_DATA = \"https://opendata.arcgis.com/datasets/a0f1da19bffe471ea89bd6a241e5604b_0.geojson\"\n",
    "# That URL is out of date\n",
    "# Pull query from another open data source\n",
    "URL = (\"https://caltrans-gis.dot.ca.gov/arcgis/rest/services/\"\n",
    "       \"CHboundary/District_Tiger_Lines/FeatureServer/0/query?\"\n",
    "       \"where=1%3D1&objectIds=&time=&geometry=&geometryType=esriGeometryEnvelope&\"\n",
    "       \"inSR=&spatialRel=esriSpatialRelIntersects&distance=&units=esriSRUnit_Foot&\"\n",
    "       \"relationParam=&outFields=DISTRICT%2C+Region&returnGeometry=true&\"\n",
    "       \"maxAllowableOffset=&geometryPrecision=&outSR=&havingClause=&gdbVersion=&\"\n",
    "       \"historicMoment=&returnDistinctValues=false&returnIdsOnly=false&\"\n",
    "       \"returnCountOnly=false&returnExtentOnly=false&orderByFields=&\"\n",
    "       \"groupByFieldsForStatistics=&outStatistics=&returnZ=false&returnM=false&\"\n",
    "       \"multipatchOption=xyFootprint&resultOffset=&resultRecordCount=&\"\n",
    "       \"returnTrueCurves=false&returnExceededLimitFeatures=false&quantizationParameters=&\"\n",
    "       \"returnCentroid=false&sqlFormat=none&resultType=&featureEncoding=esriDefault&\"\n",
    "       \"datumTransformation=&f=geojson\"\n",
    "      )\n",
    "gdf = gpd.read_file(URL)"
   ]
  },
  {
   "cell_type": "code",
   "execution_count": 6,
   "id": "c6a825cb-3595-4ed8-8568-358918783c55",
   "metadata": {},
   "outputs": [],
   "source": [
    "def display_folium_map(gdf, plot_col):\n",
    "    \n",
    "    # Add additional kwargs to folium map\n",
    "    colorscale = branca.colormap.StepColormap(\n",
    "                    colors=[\"gray\", \"green\", \"navy\"], \n",
    "                    vmin=gdf[plot_col].min(), vmax=gdf[plot_col].max(),\n",
    "    )\n",
    "    \n",
    "    popup_dict = {\n",
    "        \"DISTRICT\": \"Caltrans District\",\n",
    "        plot_col: f\"{plot_col.title()}\"\n",
    "    }\n",
    "\n",
    "    m = map_utils.make_folium_choropleth_map(\n",
    "        gdf,\n",
    "        plot_col = plot_col,\n",
    "        popup_dict = popup_dict,\n",
    "        tooltip_dict = popup_dict,\n",
    "        colorscale = colorscale,\n",
    "        fig_width = 500, fig_height = 800,\n",
    "        title=\"CA Map\",\n",
    "    )\n",
    "\n",
    "    return m"
   ]
  },
  {
   "cell_type": "code",
   "execution_count": 7,
   "id": "02cb0fe4-c24b-44fb-86bd-1711572aea05",
   "metadata": {},
   "outputs": [],
   "source": [
    "def display_ipyleaflet_map(gdf, plot_col):\n",
    "    \n",
    "    choropleth_dict = {\n",
    "        \"layer_name\": f\"{plot_col.upper()}\",\n",
    "        \"MIN_VALUE\": gdf[plot_col].min(),\n",
    "        \"MAX_VALUE\": gdf[plot_col].max(),\n",
    "        \"plot_col_name\": f\"{plot_col.title()}\",\n",
    "        \"fig_width\": '100%',\n",
    "        \"fig_height\": '100%',\n",
    "        \"fig_min_width_px\": '400px',\n",
    "        \"fig_min_height_px\": '600px',\n",
    "    }\n",
    "\n",
    "    colorscale = branca.colormap.linear.Greens_09\n",
    "\n",
    "    f = map_utils.make_ipyleaflet_choropleth_map(\n",
    "        gdf,\n",
    "        geometry_col = \"DISTRICT\", \n",
    "        plot_col = plot_col,\n",
    "        choropleth_dict = choropleth_dict,\n",
    "        colorscale = colorscale\n",
    "    )\n",
    "    \n",
    "    return f"
   ]
  },
  {
   "cell_type": "code",
   "execution_count": 8,
   "id": "cb8b7702-bbff-40d3-97b7-5db57e3660bb",
   "metadata": {},
   "outputs": [],
   "source": [
    "def summarize_and_plot(df, select_col, place):\n",
    "    subset = df[df[select_col]==place].rename(\n",
    "        columns = {\n",
    "            \"fed_requested\": \"Federal\",\n",
    "            \"ac_requested\": \"Active Construction\",\n",
    "            \"total_requested\": \"Total\",\n",
    "        }\n",
    "    )\n",
    "    \n",
    "    prefix_count_n = subset >> count(_.prefix)\n",
    "\n",
    "    display(Markdown(f\"**Summary Statistics for {place}**\"))\n",
    "    display(Markdown(f\"The number of obligations {place} has is {len(prefix_count_n)}.\"))\n",
    "    \n",
    "    display(Markdown(\n",
    "        f\"The number of prefix codes {place} uses is {subset.prefix.nunique()}.\"))\n",
    "\n",
    "    pd.set_option(\"display.max_columns\", None)\n",
    "\n",
    "    funds = subset[['Federal','Active Construction','Total']].describe()\n",
    "    display(funds.style.format(precision=2, na_rep='MISSING', thousands=\",\"))\n",
    "\n",
    "    # This is not fully correct, but let's get at some .interactive() parameter for bar chart,\n",
    "    # rework to be long df correctly if needed\n",
    "    mean_funding = geography_utils.aggregate_by_geography(\n",
    "        subset,\n",
    "        group_cols = [\"transit\"],\n",
    "        mean_cols = [\"Total\"], \n",
    "        rename_cols=True\n",
    "     )\n",
    "    \n",
    "    chart = make_altair_bar(\n",
    "        mean_funding.assign(\n",
    "            Total_mean = mean_funding.Total_mean.round(1)), \n",
    "        x_col=\"transit\", y_col=\"Total_mean\")\n",
    "    \n",
    "    display(chart)\n",
    "    \n",
    "    # Test folium and ipyleaflet maps\n",
    "    to_plot = subset.head(12).reset_index(drop=True)\n",
    "    to_plot['DISTRICT'] = to_plot.index+1\n",
    "    \n",
    "    plot_col = \"Total\"\n",
    "    to_plot = gdf.merge(to_plot, on = \"DISTRICT\")[\n",
    "        [\"DISTRICT\", plot_col, \"geometry\"]]\n",
    "    \n",
    "    # Maps\n",
    "    display(HTML('<h2>Folium Map (with HTML formatting)</h2>'))\n",
    "    \n",
    "\n",
    "    folium_map = display_folium_map(to_plot, plot_col)\n",
    "    display(folium_map)\n",
    "    \n",
    "    display(HTML('<h4>Ipyleaflet Map (with non-consecutive header HTML formatting)</h4>'))\n",
    "    ipyleaflet_map = display_ipyleaflet_map(to_plot, plot_col)\n",
    "    display(ipyleaflet_map)\n",
    "    "
   ]
  },
  {
   "cell_type": "code",
   "execution_count": 9,
   "id": "a69d9b46-8db2-47f1-87f9-36dd139aeb1d",
   "metadata": {},
   "outputs": [],
   "source": [
    "# Think about how to wrap above interactive widget into a function\n",
    "# Be able to select agency, county, district, etc\n",
    "# https://github.com/cal-itp/data-analyses/blob/acce66e8a6f0f476ab1fd9c4e30bc78553195596/dla_functions/functions.ipynb\n",
    "def interactive_widget(df, select_col):\n",
    "\n",
    "    dropdown = widgets.Dropdown(\n",
    "        description=f\"{select_col.title()}\",\n",
    "        options=df[select_col].sort_values().unique().tolist(),\n",
    "    )\n",
    "    output = widgets.Output()\n",
    "\n",
    "    display(dropdown)\n",
    "    display(output)\n",
    "\n",
    "    def on_selection(*args):\n",
    "        output.clear_output()\n",
    "        with output:\n",
    "            summarize_and_plot(df, select_col, dropdown.value)\n",
    "\n",
    "    dropdown.observe(on_selection, names=\"value\")\n",
    "    on_selection()"
   ]
  },
  {
   "cell_type": "code",
   "execution_count": 10,
   "id": "8dc94095-904b-4696-b787-ca7bf3bacca7",
   "metadata": {},
   "outputs": [
    {
     "data": {
      "application/vnd.jupyter.widget-view+json": {
       "model_id": "6fd0cab26d6f4de6b7fd38f921c3585c",
       "version_major": 2,
       "version_minor": 0
      },
      "text/plain": [
       "Dropdown(description='Agency', options=('Access Services', 'Acsr', 'Agoura Hills', 'Alameda Corridor Transport…"
      ]
     },
     "metadata": {},
     "output_type": "display_data"
    },
    {
     "data": {
      "application/vnd.jupyter.widget-view+json": {
       "model_id": "c87ba126322845ff8ad8c84b699b8757",
       "version_major": 2,
       "version_minor": 0
      },
      "text/plain": [
       "Output()"
      ]
     },
     "metadata": {},
     "output_type": "display_data"
    }
   ],
   "source": [
    "interactive_widget(df, \"agency\")"
   ]
  },
  {
   "cell_type": "code",
   "execution_count": 11,
   "id": "7734937b-f199-46a4-87ea-b73e95bf79b9",
   "metadata": {},
   "outputs": [
    {
     "data": {
      "application/vnd.jupyter.widget-view+json": {
       "model_id": "b56f9f951f464a5db3772b1b632455b2",
       "version_major": 2,
       "version_minor": 0
      },
      "text/plain": [
       "Dropdown(description='Mpo', options=('COFCG', 'ER NONE', 'FCOG', 'KCOG', 'MCAG', 'MCTC', 'NON-MPO', 'SANDAG', …"
      ]
     },
     "metadata": {},
     "output_type": "display_data"
    },
    {
     "data": {
      "application/vnd.jupyter.widget-view+json": {
       "model_id": "74ec62b47a2c49ae929e889c93e8f32b",
       "version_major": 2,
       "version_minor": 0
      },
      "text/plain": [
       "Output()"
      ]
     },
     "metadata": {},
     "output_type": "display_data"
    }
   ],
   "source": [
    "interactive_widget(df, \"mpo\")"
   ]
  },
  {
   "cell_type": "code",
   "execution_count": null,
   "id": "49d1c71e-3c65-4fee-81fa-93edf5912ef5",
   "metadata": {},
   "outputs": [],
   "source": []
  }
 ],
 "metadata": {
  "kernelspec": {
   "display_name": "Python 3 (ipykernel)",
   "language": "python",
   "name": "python3"
  },
  "language_info": {
   "codemirror_mode": {
    "name": "ipython",
    "version": 3
   },
   "file_extension": ".py",
   "mimetype": "text/x-python",
   "name": "python",
   "nbconvert_exporter": "python",
   "pygments_lexer": "ipython3",
   "version": "3.9.10"
  }
 },
 "nbformat": 4,
 "nbformat_minor": 5
}
