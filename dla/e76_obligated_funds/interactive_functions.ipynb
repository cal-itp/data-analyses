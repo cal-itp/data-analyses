{
 "cells": [
  {
   "cell_type": "markdown",
   "id": "dc2c3da2-5825-4db7-85a2-bfa4366d0ebe",
   "metadata": {},
   "source": [
    "# Interactive Functions "
   ]
  },
  {
   "cell_type": "code",
   "execution_count": 1,
   "id": "0e38dd54-4944-469b-b7a5-ba9db691a0fb",
   "metadata": {},
   "outputs": [],
   "source": [
    "#! pip install plotnine"
   ]
  },
  {
   "cell_type": "code",
   "execution_count": 1,
   "id": "6305e725-0066-4cd6-9f56-4c4afffbb13a",
   "metadata": {},
   "outputs": [],
   "source": [
    "import pandas as pd\n",
    "from siuba import *\n",
    "\n",
    "import numpy as np\n",
    "from plotnine import *\n",
    "\n",
    "import ipywidgets as widgets\n",
    "from ipywidgets import *\n",
    "from IPython.display import Markdown\n",
    "from IPython.core.display import display"
   ]
  },
  {
   "cell_type": "code",
   "execution_count": 2,
   "id": "6cb6e6a1-8972-4d5d-a5a9-4e85d11ca5e2",
   "metadata": {},
   "outputs": [],
   "source": [
    "pd.set_option('display.max_columns', None)\n",
    "pd.options.display.float_format = \"{:.2f}\".format"
   ]
  },
  {
   "cell_type": "code",
   "execution_count": 3,
   "id": "9be02bd4-56c2-4b30-a08a-346efe4c93a1",
   "metadata": {},
   "outputs": [
    {
     "name": "stderr",
     "output_type": "stream",
     "text": [
      "/opt/conda/lib/python3.9/site-packages/google/auth/_default.py:73: UserWarning: Your application has authenticated using end user credentials from Google Cloud SDK without a quota project. You might receive a \"quota exceeded\" or \"API not enabled\" error. We recommend you rerun `gcloud auth application-default login` and make sure a quota project is added. Or you can use service accounts instead. For more information about service accounts, see https://cloud.google.com/docs/authentication/\n"
     ]
    }
   ],
   "source": [
    "df = pd.read_csv('gs://calitp-analytics-data/data-analyses/dla/e-76Obligated/function_data.csv', low_memory=False).drop('Unnamed: 0', axis=1)"
   ]
  },
  {
   "cell_type": "code",
   "execution_count": 4,
   "id": "9ca66ee4-9ba2-4efa-8b65-5d8114257a9e",
   "metadata": {},
   "outputs": [
    {
     "data": {
      "text/html": [
       "<div>\n",
       "<style scoped>\n",
       "    .dataframe tbody tr th:only-of-type {\n",
       "        vertical-align: middle;\n",
       "    }\n",
       "\n",
       "    .dataframe tbody tr th {\n",
       "        vertical-align: top;\n",
       "    }\n",
       "\n",
       "    .dataframe thead th {\n",
       "        text-align: right;\n",
       "    }\n",
       "</style>\n",
       "<table border=\"1\" class=\"dataframe\">\n",
       "  <thead>\n",
       "    <tr style=\"text-align: right;\">\n",
       "      <th></th>\n",
       "      <th>prefix</th>\n",
       "      <th>project_no</th>\n",
       "      <th>agency</th>\n",
       "      <th>prepared_date</th>\n",
       "      <th>fed_requested</th>\n",
       "      <th>ac_requested</th>\n",
       "      <th>total_requested</th>\n",
       "      <th>status_comment</th>\n",
       "      <th>locode</th>\n",
       "      <th>dist</th>\n",
       "      <th>ftip_no</th>\n",
       "      <th>project_location</th>\n",
       "      <th>type_of_work</th>\n",
       "      <th>seq</th>\n",
       "      <th>mpo</th>\n",
       "      <th>prepared_y</th>\n",
       "    </tr>\n",
       "  </thead>\n",
       "  <tbody>\n",
       "    <tr>\n",
       "      <th>16553</th>\n",
       "      <td>HSIP</td>\n",
       "      <td>5932(083)</td>\n",
       "      <td>Tuolumne County</td>\n",
       "      <td>2020-04-08</td>\n",
       "      <td>663300.00</td>\n",
       "      <td>-663300.00</td>\n",
       "      <td>0.00</td>\n",
       "      <td>Authorized</td>\n",
       "      <td>5932</td>\n",
       "      <td>10</td>\n",
       "      <td>HSIP_RURL</td>\n",
       "      <td>On Parrots Ferry Road-broadway Street Between ...</td>\n",
       "      <td>Widen Road, Upgrade Right Turn Lane, Install L...</td>\n",
       "      <td>6</td>\n",
       "      <td>NON-MPO</td>\n",
       "      <td>2020-01-01</td>\n",
       "    </tr>\n",
       "    <tr>\n",
       "      <th>8678</th>\n",
       "      <td>BRLS</td>\n",
       "      <td>5244(032)</td>\n",
       "      <td>Patterson</td>\n",
       "      <td>2015-07-08</td>\n",
       "      <td>88530.00</td>\n",
       "      <td>0.00</td>\n",
       "      <td>100000.00</td>\n",
       "      <td>Authorized</td>\n",
       "      <td>NaN</td>\n",
       "      <td>10</td>\n",
       "      <td>STANCOG</td>\n",
       "      <td>Rogers Road Over Delta-mendota Canal (bridge 3...</td>\n",
       "      <td>Bridge Rehabilitation</td>\n",
       "      <td>1</td>\n",
       "      <td>SCAG</td>\n",
       "      <td>2015-01-01</td>\n",
       "    </tr>\n",
       "    <tr>\n",
       "      <th>18702</th>\n",
       "      <td>ER</td>\n",
       "      <td>32L0(128)</td>\n",
       "      <td>Humboldt County</td>\n",
       "      <td>2021-04-02</td>\n",
       "      <td>0.00</td>\n",
       "      <td>0.00</td>\n",
       "      <td>0.00</td>\n",
       "      <td>Authorized</td>\n",
       "      <td>5904</td>\n",
       "      <td>1</td>\n",
       "      <td>NaN</td>\n",
       "      <td>Bell Spring Road Pm 4.96</td>\n",
       "      <td>Restoration Of Failing Roadway.</td>\n",
       "      <td>4</td>\n",
       "      <td>NON-MPO</td>\n",
       "      <td>2021-01-01</td>\n",
       "    </tr>\n",
       "    <tr>\n",
       "      <th>2335</th>\n",
       "      <td>BPMPL</td>\n",
       "      <td>5135(039)</td>\n",
       "      <td>Concord</td>\n",
       "      <td>2018-02-12</td>\n",
       "      <td>0.00</td>\n",
       "      <td>0.00</td>\n",
       "      <td>18089.50</td>\n",
       "      <td>Authorized</td>\n",
       "      <td>5135</td>\n",
       "      <td>4</td>\n",
       "      <td>VAR110045</td>\n",
       "      <td>Cty Of Concord Bridge Prev. Maintenance</td>\n",
       "      <td>Bridge Preventive Maintenance</td>\n",
       "      <td>5</td>\n",
       "      <td>MTC</td>\n",
       "      <td>2018-01-01</td>\n",
       "    </tr>\n",
       "    <tr>\n",
       "      <th>16456</th>\n",
       "      <td>CML</td>\n",
       "      <td>5223(020)</td>\n",
       "      <td>Corcoran</td>\n",
       "      <td>2020-04-02</td>\n",
       "      <td>49479.00</td>\n",
       "      <td>0.00</td>\n",
       "      <td>55890.00</td>\n",
       "      <td>Authorized</td>\n",
       "      <td>5223</td>\n",
       "      <td>6</td>\n",
       "      <td>GP BIKE</td>\n",
       "      <td>Dairy Avenue Between Ottawa Ave And Orange Ave...</td>\n",
       "      <td>30 Ada Ramps Construct Sidewalk. Establish Cla...</td>\n",
       "      <td>1</td>\n",
       "      <td>KCAG</td>\n",
       "      <td>2020-01-01</td>\n",
       "    </tr>\n",
       "  </tbody>\n",
       "</table>\n",
       "</div>"
      ],
      "text/plain": [
       "      prefix project_no           agency prepared_date  fed_requested  \\\n",
       "16553   HSIP  5932(083)  Tuolumne County    2020-04-08      663300.00   \n",
       "8678    BRLS  5244(032)        Patterson    2015-07-08       88530.00   \n",
       "18702     ER  32L0(128)  Humboldt County    2021-04-02           0.00   \n",
       "2335   BPMPL  5135(039)          Concord    2018-02-12           0.00   \n",
       "16456    CML  5223(020)         Corcoran    2020-04-02       49479.00   \n",
       "\n",
       "       ac_requested  total_requested status_comment locode  dist    ftip_no  \\\n",
       "16553    -663300.00             0.00     Authorized   5932    10  HSIP_RURL   \n",
       "8678           0.00        100000.00     Authorized    NaN    10    STANCOG   \n",
       "18702          0.00             0.00     Authorized   5904     1        NaN   \n",
       "2335           0.00         18089.50     Authorized   5135     4  VAR110045   \n",
       "16456          0.00         55890.00     Authorized   5223     6    GP BIKE   \n",
       "\n",
       "                                        project_location  \\\n",
       "16553  On Parrots Ferry Road-broadway Street Between ...   \n",
       "8678   Rogers Road Over Delta-mendota Canal (bridge 3...   \n",
       "18702                           Bell Spring Road Pm 4.96   \n",
       "2335             Cty Of Concord Bridge Prev. Maintenance   \n",
       "16456  Dairy Avenue Between Ottawa Ave And Orange Ave...   \n",
       "\n",
       "                                            type_of_work  seq      mpo  \\\n",
       "16553  Widen Road, Upgrade Right Turn Lane, Install L...    6  NON-MPO   \n",
       "8678                               Bridge Rehabilitation    1     SCAG   \n",
       "18702                    Restoration Of Failing Roadway.    4  NON-MPO   \n",
       "2335                       Bridge Preventive Maintenance    5      MTC   \n",
       "16456  30 Ada Ramps Construct Sidewalk. Establish Cla...    1     KCAG   \n",
       "\n",
       "       prepared_y  \n",
       "16553  2020-01-01  \n",
       "8678   2015-01-01  \n",
       "18702  2021-01-01  \n",
       "2335   2018-01-01  \n",
       "16456  2020-01-01  "
      ]
     },
     "execution_count": 4,
     "metadata": {},
     "output_type": "execute_result"
    }
   ],
   "source": [
    "df.sample(5)"
   ]
  },
  {
   "cell_type": "code",
   "execution_count": null,
   "id": "9e0c6ed2-5b49-4c01-b553-f36ae2611849",
   "metadata": {},
   "outputs": [],
   "source": []
  },
  {
   "cell_type": "markdown",
   "id": "ee23122e-f3d9-4a5e-b1b7-38cebbe41ff7",
   "metadata": {},
   "source": [
    "## Full Function for Prefix"
   ]
  },
  {
   "cell_type": "code",
   "execution_count": 5,
   "id": "01f57f33-9a69-4c6a-ae32-b0d2568d8c86",
   "metadata": {
    "tags": []
   },
   "outputs": [
    {
     "data": {
      "application/vnd.jupyter.widget-view+json": {
       "model_id": "637e93aecc0b4353bb04b47b747194fa",
       "version_major": 2,
       "version_minor": 0
      },
      "text/plain": [
       "interactive(children=(Dropdown(description='place', options=('Access Services', 'Agoura Hills', 'Ala-Con Costa…"
      ]
     },
     "metadata": {},
     "output_type": "display_data"
    }
   ],
   "source": [
    "    @interact\n",
    "    \n",
    "    def dla_get_prefix(place=df.agency.sort_values().unique().tolist()):\n",
    "        \n",
    "        agencies = df[df.agency==place]\n",
    "    \n",
    "        prefix_count_n = agencies >> count(_.prefix)\n",
    "    \n",
    "        display(Markdown(f\"**Summary Statistics for {place}**\"))\n",
    "        display(Markdown(f\"The number of obligations {place} has is {len(agencies)}\"))\n",
    "        \n",
    "        display(Markdown(f\"The number of prefix codes {place} uses is {len(prefix_count_n)}\"))\n",
    "        \n",
    "        \n",
    "        \n",
    "        # for the table- using one as some agencies only have one entry\n",
    "        pd.set_option(\"display.max_columns\", None)\n",
    "        display(df[df.agency == place][['fed_requested','ac_requested','total_requested']].describe())\n",
    "        \n",
    "        display(Markdown(f\"**Top Project Types in {place}**\"))\n",
    "        display((df[df.agency == place] >> count(_.type_of_work) >> arrange(-_.n)).head(5)) \n",
    "        # graphs \n",
    "    \n",
    "         \n",
    "\n",
    "    \n",
    "        ax1 = (prefix_count_n\n",
    "            >> ggplot(aes(\"prefix\", \"n\", fill=\"prefix\")) \n",
    "               + geom_col() \n",
    "               + theme(axis_text_x = element_text(angle = 45 , hjust=1))\n",
    "               + labs(title='Agency Program Codes', x='Program Codes', y='Number of Obligations', fill=\"Program Type\")\n",
    "        )\n",
    "        return ax1\n",
    "\n",
    "        "
   ]
  },
  {
   "cell_type": "markdown",
   "id": "0f1d4c05-8a9c-42e6-9415-5f8010c32617",
   "metadata": {},
   "source": [
    "## Function for results by Prefix"
   ]
  },
  {
   "cell_type": "code",
   "execution_count": 6,
   "id": "f1620c6a-24ac-4e36-84d7-86871ed19251",
   "metadata": {},
   "outputs": [
    {
     "data": {
      "application/vnd.jupyter.widget-view+json": {
       "model_id": "d272715e8f2c4ce1ac97ddeb6a30ccef",
       "version_major": 2,
       "version_minor": 0
      },
      "text/plain": [
       "interactive(children=(Dropdown(description='prefix', options=('6140000', 'ACNHPI', 'ACST-ER', 'ACSTP', 'ASCTP'…"
      ]
     },
     "metadata": {},
     "output_type": "display_data"
    }
   ],
   "source": [
    "@interact\n",
    "def prefix_all_agencies_4(prefix=df.prefix.sort_values().unique().tolist()):\n",
    "    \n",
    "    \n",
    "    # graphs \n",
    "    prefixes = df[df.prefix== prefix]\n",
    "    \n",
    "    prefix_count_num = (prefixes >> count(_.agency) >> arrange(-_.n))\n",
    "    \n",
    "    prefix_count = (prefixes >> count(_.agency) >> arrange(-_.n)).head(20)\n",
    "    \n",
    "    display(Markdown(f\"**The number of agencies using {prefix} is {len(prefix_count_num)}**\"))\n",
    "    \n",
    "    # for the table- using one as some agencies only have one entry\n",
    "    display(df[(df.prefix == prefix)].sample(1))\n",
    "    \n",
    "    \n",
    "    ax1 = (prefix_count\n",
    "            >> ggplot(aes(\"agency\", \"n\", fill=\"agency\")) \n",
    "                + geom_col() \n",
    "                + theme(axis_text_x = element_text(angle = 45 , hjust=1))\n",
    "                + labs(title='Top Agencies using Prefix', x='Agency', y='Number of Obligations', fill=\"Agency\")\n",
    "            )    \n",
    "    return ax1\n",
    "              "
   ]
  },
  {
   "cell_type": "markdown",
   "id": "3add2104-c450-4ee2-93af-151f2c9807e0",
   "metadata": {},
   "source": [
    "## Function for Type of Work"
   ]
  },
  {
   "cell_type": "code",
   "execution_count": 7,
   "id": "f3921766-dcdd-440a-b356-da0b81782a47",
   "metadata": {},
   "outputs": [],
   "source": [
    "top50 = (df >> count(_.type_of_work) >> arrange(-_.n)).head(50)"
   ]
  },
  {
   "cell_type": "code",
   "execution_count": 8,
   "id": "6c9cefd2-4f7b-443d-a4a5-12e6647bfa99",
   "metadata": {},
   "outputs": [
    {
     "data": {
      "application/vnd.jupyter.widget-view+json": {
       "model_id": "baf1e036ccdd48669a8617a0352f69d3",
       "version_major": 2,
       "version_minor": 0
      },
      "text/plain": [
       "interactive(children=(Dropdown(description='work', options=('Ac Overlay', 'Ac Overlay (tc)', 'Asphalt Concrete…"
      ]
     },
     "metadata": {},
     "output_type": "display_data"
    }
   ],
   "source": [
    "@interact\n",
    "def findtypeofwork(work=top50.type_of_work.sort_values().unique().tolist()):\n",
    "    \n",
    "    display(Markdown(f\"**Number of Obligations the top Agencies have in {work}**\"))\n",
    "    # graphs \n",
    "    worktypes = df[df.type_of_work== work]\n",
    "    \n",
    "    work_count = (worktypes >> count(_.agency) >> arrange(-_.n)).head(20)\n",
    "    display(work_count)\n",
    "\n",
    "    ax1 = (work_count\n",
    "            >> ggplot(aes(\"agency\", \"n\", fill=\"agency\")) \n",
    "                + geom_col() \n",
    "                + theme(axis_text_x = element_text(angle = 45 , hjust=1))\n",
    "                + labs(title='Agencies using Type of Work', x='Agency', y='Number of Obligations', fill=\"Agency\")\n",
    "            )    \n",
    "    return ax1"
   ]
  },
  {
   "cell_type": "code",
   "execution_count": null,
   "id": "a8d45ee5-19d0-4778-a382-1c159c7acede",
   "metadata": {},
   "outputs": [],
   "source": []
  },
  {
   "cell_type": "markdown",
   "id": "e462ae44-5f85-48d4-b5f3-591f096ef8a0",
   "metadata": {},
   "source": [
    "## Function to Filter Data"
   ]
  },
  {
   "cell_type": "code",
   "execution_count": 9,
   "id": "c652eb6c-f87a-4877-9aae-7d71a569a366",
   "metadata": {},
   "outputs": [],
   "source": [
    "df_query = df[['prefix', 'agency', 'project_no','locode','dist','fed_requested', 'ac_requested', 'total_requested',\n",
    "              'type_of_work','project_location', 'seq', 'mpo','prepared_y']]"
   ]
  },
  {
   "cell_type": "code",
   "execution_count": 10,
   "id": "79f70468-2bb6-4076-987d-cd1c287a01e8",
   "metadata": {},
   "outputs": [
    {
     "data": {
      "application/vnd.jupyter.widget-view+json": {
       "model_id": "eb922c86469946cdaebf8bd84a1cca59",
       "version_major": 2,
       "version_minor": 0
      },
      "text/plain": [
       "interactive(children=(Dropdown(description='agency', options=('Humboldt County', 'Mendocino County', 'Sacramen…"
      ]
     },
     "metadata": {},
     "output_type": "display_data"
    }
   ],
   "source": [
    "#adding year\n",
    "@interact\n",
    "def get_query2(agency=df_query.agency.unique().tolist(),\n",
    "             prefix=df_query.prefix.unique().tolist(),\n",
    "             year=df_query.prepared_y.unique().tolist()):\n",
    "   \n",
    "    filtering = df_query[(df_query.agency==agency)&(df_query.prefix==prefix)&(df_query.prepared_y==year)]\n",
    "    \n",
    "    \n",
    "    display(Markdown(f\"**The number of obligations {agency} has in {prefix} during the year {year} is {len(filtering)}**\"))\n",
    "    \n",
    "    display(filtering.head())\n",
    "    \n",
    "    "
   ]
  },
  {
   "cell_type": "code",
   "execution_count": null,
   "id": "e935da83-5af3-49c4-a4cc-7a6ed257a520",
   "metadata": {},
   "outputs": [],
   "source": []
  }
 ],
 "metadata": {
  "kernelspec": {
   "display_name": "Python 3 (ipykernel)",
   "language": "python",
   "name": "python3"
  },
  "language_info": {
   "codemirror_mode": {
    "name": "ipython",
    "version": 3
   },
   "file_extension": ".py",
   "mimetype": "text/x-python",
   "name": "python",
   "nbconvert_exporter": "python",
   "pygments_lexer": "ipython3",
   "version": "3.9.7"
  },
  "widgets": {
   "application/vnd.jupyter.widget-state+json": {
    "state": {},
    "version_major": 2,
    "version_minor": 0
   }
  }
 },
 "nbformat": 4,
 "nbformat_minor": 5
}
