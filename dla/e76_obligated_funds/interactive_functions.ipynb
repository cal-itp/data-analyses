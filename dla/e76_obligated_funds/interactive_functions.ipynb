{
 "cells": [
  {
   "cell_type": "markdown",
   "id": "dc2c3da2-5825-4db7-85a2-bfa4366d0ebe",
   "metadata": {},
   "source": [
    "# Interactive Functions "
   ]
  },
  {
   "cell_type": "code",
   "execution_count": 6,
   "id": "0e38dd54-4944-469b-b7a5-ba9db691a0fb",
   "metadata": {},
   "outputs": [],
   "source": [
    "#! pip install plotnine"
   ]
  },
  {
   "cell_type": "code",
   "execution_count": 7,
   "id": "6305e725-0066-4cd6-9f56-4c4afffbb13a",
   "metadata": {},
   "outputs": [],
   "source": [
    "import pandas as pd\n",
    "from siuba import *\n",
    "\n",
    "import numpy as np\n",
    "from plotnine import *\n",
    "\n",
    "import ipywidgets as widgets\n",
    "from ipywidgets import *\n",
    "from IPython.display import Markdown\n",
    "from IPython.core.display import display"
   ]
  },
  {
   "cell_type": "code",
   "execution_count": 8,
   "id": "6cb6e6a1-8972-4d5d-a5a9-4e85d11ca5e2",
   "metadata": {},
   "outputs": [],
   "source": [
    "pd.set_option('display.max_columns', None)\n",
    "pd.options.display.float_format = \"{:.2f}\".format"
   ]
  },
  {
   "cell_type": "code",
   "execution_count": 9,
   "id": "9be02bd4-56c2-4b30-a08a-346efe4c93a1",
   "metadata": {},
   "outputs": [],
   "source": [
    "df = pd.read_csv('gs://calitp-analytics-data/data-analyses/dla/e-76Obligated/function_data.csv', low_memory=False).drop('Unnamed: 0', axis=1)"
   ]
  },
  {
   "cell_type": "code",
   "execution_count": 10,
   "id": "9ca66ee4-9ba2-4efa-8b65-5d8114257a9e",
   "metadata": {},
   "outputs": [
    {
     "data": {
      "text/html": [
       "<div>\n",
       "<style scoped>\n",
       "    .dataframe tbody tr th:only-of-type {\n",
       "        vertical-align: middle;\n",
       "    }\n",
       "\n",
       "    .dataframe tbody tr th {\n",
       "        vertical-align: top;\n",
       "    }\n",
       "\n",
       "    .dataframe thead th {\n",
       "        text-align: right;\n",
       "    }\n",
       "</style>\n",
       "<table border=\"1\" class=\"dataframe\">\n",
       "  <thead>\n",
       "    <tr style=\"text-align: right;\">\n",
       "      <th></th>\n",
       "      <th>prefix</th>\n",
       "      <th>project_no</th>\n",
       "      <th>agency</th>\n",
       "      <th>prepared_date</th>\n",
       "      <th>fed_requested</th>\n",
       "      <th>ac_requested</th>\n",
       "      <th>total_requested</th>\n",
       "      <th>status_comment</th>\n",
       "      <th>locode</th>\n",
       "      <th>dist</th>\n",
       "      <th>ftip_no</th>\n",
       "      <th>project_location</th>\n",
       "      <th>type_of_work</th>\n",
       "      <th>seq</th>\n",
       "      <th>mpo</th>\n",
       "      <th>prepared_y</th>\n",
       "    </tr>\n",
       "  </thead>\n",
       "  <tbody>\n",
       "    <tr>\n",
       "      <th>18378</th>\n",
       "      <td>CML</td>\n",
       "      <td>5184(038)</td>\n",
       "      <td>Tehachapi</td>\n",
       "      <td>2021-02-25</td>\n",
       "      <td>68080.00</td>\n",
       "      <td>0.00</td>\n",
       "      <td>76900.00</td>\n",
       "      <td>Authorized</td>\n",
       "      <td>5184</td>\n",
       "      <td>9</td>\n",
       "      <td>KER200505</td>\n",
       "      <td>Pinon Street From Brandon Lane East To Denniso...</td>\n",
       "      <td>Pave An Unpaved Portion Of Road And Install A ...</td>\n",
       "      <td>1</td>\n",
       "      <td>KCOG</td>\n",
       "      <td>2021-01-01</td>\n",
       "    </tr>\n",
       "    <tr>\n",
       "      <th>10136</th>\n",
       "      <td>CML</td>\n",
       "      <td>5398(007)</td>\n",
       "      <td>South Lake Tahoe</td>\n",
       "      <td>2015-01-06</td>\n",
       "      <td>0.00</td>\n",
       "      <td>0.00</td>\n",
       "      <td>-3098.60</td>\n",
       "      <td>Authorized</td>\n",
       "      <td>5398</td>\n",
       "      <td>3</td>\n",
       "      <td>GROUP 1</td>\n",
       "      <td>In City Of South Lake Tahoe: Pioneer Trail Fro...</td>\n",
       "      <td>S/w, Ada Impr, Bike Lanes, X-walks, Lighting</td>\n",
       "      <td>4</td>\n",
       "      <td>TMPO</td>\n",
       "      <td>2015-01-01</td>\n",
       "    </tr>\n",
       "    <tr>\n",
       "      <th>16913</th>\n",
       "      <td>ACST-ER</td>\n",
       "      <td>32L0(040)</td>\n",
       "      <td>Pismo Beach</td>\n",
       "      <td>2020-07-17</td>\n",
       "      <td>0.00</td>\n",
       "      <td>2278121.00</td>\n",
       "      <td>5109932.00</td>\n",
       "      <td>Authorized</td>\n",
       "      <td>5289</td>\n",
       "      <td>5</td>\n",
       "      <td>NaN</td>\n",
       "      <td>On Ocean Blvd (btwn Cuyama &amp; Morro) In Pismo B...</td>\n",
       "      <td>Bluff Face Stabilization</td>\n",
       "      <td>3</td>\n",
       "      <td>SLAC</td>\n",
       "      <td>2020-01-01</td>\n",
       "    </tr>\n",
       "    <tr>\n",
       "      <th>8730</th>\n",
       "      <td>HSIP</td>\n",
       "      <td>5068(051)</td>\n",
       "      <td>Redding</td>\n",
       "      <td>2015-07-01</td>\n",
       "      <td>100800.00</td>\n",
       "      <td>0.00</td>\n",
       "      <td>83800.00</td>\n",
       "      <td>Authorized</td>\n",
       "      <td>5068</td>\n",
       "      <td>2</td>\n",
       "      <td>GP-HSIP</td>\n",
       "      <td>On Victor Avenue Between Enterprise Park And C...</td>\n",
       "      <td>Road Diet, Median Islands, Ped Path, Lighting ...</td>\n",
       "      <td>2</td>\n",
       "      <td>STPA</td>\n",
       "      <td>2015-01-01</td>\n",
       "    </tr>\n",
       "    <tr>\n",
       "      <th>15318</th>\n",
       "      <td>STP</td>\n",
       "      <td>5124(035)</td>\n",
       "      <td>Mountain View</td>\n",
       "      <td>2019-12-03</td>\n",
       "      <td>1136000.00</td>\n",
       "      <td>0.00</td>\n",
       "      <td>1630880.00</td>\n",
       "      <td>Authorized</td>\n",
       "      <td>5124</td>\n",
       "      <td>4</td>\n",
       "      <td>SCL170040</td>\n",
       "      <td>West Middlefield Road From Rengstroff Avenue T...</td>\n",
       "      <td>Resurface Roadway And Reconstruct Median Island</td>\n",
       "      <td>1</td>\n",
       "      <td>MTC</td>\n",
       "      <td>2019-01-01</td>\n",
       "    </tr>\n",
       "  </tbody>\n",
       "</table>\n",
       "</div>"
      ],
      "text/plain": [
       "        prefix project_no            agency prepared_date  fed_requested  \\\n",
       "18378      CML  5184(038)         Tehachapi    2021-02-25       68080.00   \n",
       "10136      CML  5398(007)  South Lake Tahoe    2015-01-06           0.00   \n",
       "16913  ACST-ER  32L0(040)       Pismo Beach    2020-07-17           0.00   \n",
       "8730      HSIP  5068(051)           Redding    2015-07-01      100800.00   \n",
       "15318      STP  5124(035)     Mountain View    2019-12-03     1136000.00   \n",
       "\n",
       "       ac_requested  total_requested status_comment locode  dist    ftip_no  \\\n",
       "18378          0.00         76900.00     Authorized   5184     9  KER200505   \n",
       "10136          0.00         -3098.60     Authorized   5398     3    GROUP 1   \n",
       "16913    2278121.00       5109932.00     Authorized   5289     5        NaN   \n",
       "8730           0.00         83800.00     Authorized   5068     2    GP-HSIP   \n",
       "15318          0.00       1630880.00     Authorized   5124     4  SCL170040   \n",
       "\n",
       "                                        project_location  \\\n",
       "18378  Pinon Street From Brandon Lane East To Denniso...   \n",
       "10136  In City Of South Lake Tahoe: Pioneer Trail Fro...   \n",
       "16913  On Ocean Blvd (btwn Cuyama & Morro) In Pismo B...   \n",
       "8730   On Victor Avenue Between Enterprise Park And C...   \n",
       "15318  West Middlefield Road From Rengstroff Avenue T...   \n",
       "\n",
       "                                            type_of_work  seq   mpo  \\\n",
       "18378  Pave An Unpaved Portion Of Road And Install A ...    1  KCOG   \n",
       "10136       S/w, Ada Impr, Bike Lanes, X-walks, Lighting    4  TMPO   \n",
       "16913                           Bluff Face Stabilization    3  SLAC   \n",
       "8730   Road Diet, Median Islands, Ped Path, Lighting ...    2  STPA   \n",
       "15318    Resurface Roadway And Reconstruct Median Island    1   MTC   \n",
       "\n",
       "       prepared_y  \n",
       "18378  2021-01-01  \n",
       "10136  2015-01-01  \n",
       "16913  2020-01-01  \n",
       "8730   2015-01-01  \n",
       "15318  2019-01-01  "
      ]
     },
     "execution_count": 10,
     "metadata": {},
     "output_type": "execute_result"
    }
   ],
   "source": [
    "df.sample(5)"
   ]
  },
  {
   "cell_type": "code",
   "execution_count": null,
   "id": "9e0c6ed2-5b49-4c01-b553-f36ae2611849",
   "metadata": {},
   "outputs": [],
   "source": []
  },
  {
   "cell_type": "markdown",
   "id": "ee23122e-f3d9-4a5e-b1b7-38cebbe41ff7",
   "metadata": {},
   "source": [
    "## Full Function for Prefix"
   ]
  },
  {
   "cell_type": "code",
   "execution_count": 11,
   "id": "01f57f33-9a69-4c6a-ae32-b0d2568d8c86",
   "metadata": {
    "tags": []
   },
   "outputs": [
    {
     "data": {
      "application/vnd.jupyter.widget-view+json": {
       "model_id": "204d8fb26f3740b4aafc317d98e510cf",
       "version_major": 2,
       "version_minor": 0
      },
      "text/plain": [
       "interactive(children=(Dropdown(description='place', options=('Access Services', 'Agoura Hills', 'Ala-Con Costa…"
      ]
     },
     "metadata": {},
     "output_type": "display_data"
    }
   ],
   "source": [
    "    @interact\n",
    "    \n",
    "    def dla_get_prefix(place=df.agency.sort_values().unique().tolist()):\n",
    "        \n",
    "        agencies = df[df.agency==place]\n",
    "    \n",
    "        prefix_count_n = agencies >> count(_.prefix)\n",
    "    \n",
    "        display(Markdown(f\"**Summary Statistics for {place}**\"))\n",
    "        display(Markdown(f\"The number of obligations {place} has is {len(agencies)}\"))\n",
    "        \n",
    "        display(Markdown(f\"The number of prefix codes {place} uses is {len(prefix_count_n)}\"))\n",
    "        \n",
    "        \n",
    "        \n",
    "        # for the table- using one as some agencies only have one entry\n",
    "        pd.set_option(\"display.max_columns\", None)\n",
    "        display(df[df.agency == place][['fed_requested','ac_requested','total_requested']].describe())\n",
    "        \n",
    "        display(Markdown(f\"**Top Project Types in {place}**\"))\n",
    "        display((df[df.agency == place] >> count(_.type_of_work) >> arrange(-_.n)).head(5)) \n",
    "        # graphs \n",
    "    \n",
    "         \n",
    "\n",
    "    \n",
    "        ax1 = (prefix_count_n\n",
    "            >> ggplot(aes(\"prefix\", \"n\", fill=\"prefix\")) \n",
    "               + geom_col() \n",
    "               + theme(axis_text_x = element_text(angle = 45 , hjust=1))\n",
    "               + labs(title='Agency Program Codes', x='Program Codes', y='Number of Obligations', fill=\"Program Type\")\n",
    "        )\n",
    "        return ax1\n",
    "\n",
    "        "
   ]
  },
  {
   "cell_type": "markdown",
   "id": "0f1d4c05-8a9c-42e6-9415-5f8010c32617",
   "metadata": {},
   "source": [
    "## Function for results by Prefix"
   ]
  },
  {
   "cell_type": "code",
   "execution_count": 12,
   "id": "f1620c6a-24ac-4e36-84d7-86871ed19251",
   "metadata": {},
   "outputs": [
    {
     "data": {
      "application/vnd.jupyter.widget-view+json": {
       "model_id": "922d0bd814f243ceaed4af51f4961036",
       "version_major": 2,
       "version_minor": 0
      },
      "text/plain": [
       "interactive(children=(Dropdown(description='prefix', options=('6140000', 'ACNHPI', 'ACST-ER', 'ACSTP', 'ASCTP'…"
      ]
     },
     "metadata": {},
     "output_type": "display_data"
    }
   ],
   "source": [
    "@interact\n",
    "def prefix_all_agencies_4(prefix=df.prefix.sort_values().unique().tolist()):\n",
    "    \n",
    "    \n",
    "    # graphs \n",
    "    prefixes = df[df.prefix== prefix]\n",
    "    \n",
    "    prefix_count_num = (prefixes >> count(_.agency) >> arrange(-_.n))\n",
    "    \n",
    "    prefix_count = (prefixes >> count(_.agency) >> arrange(-_.n)).head(20)\n",
    "    \n",
    "    display(Markdown(f\"**The number of agencies using {prefix} is {len(prefix_count_num)}**\"))\n",
    "    \n",
    "    # for the table- using one as some agencies only have one entry\n",
    "    display(df[(df.prefix == prefix)].sample(1))\n",
    "    \n",
    "    \n",
    "    ax1 = (prefix_count\n",
    "            >> ggplot(aes(\"agency\", \"n\", fill=\"agency\")) \n",
    "                + geom_col() \n",
    "                + theme(axis_text_x = element_text(angle = 45 , hjust=1))\n",
    "                + labs(title='Top Agencies using Prefix', x='Agency', y='Number of Obligations', fill=\"Agency\")\n",
    "            )    \n",
    "    return ax1\n",
    "              "
   ]
  },
  {
   "cell_type": "markdown",
   "id": "3add2104-c450-4ee2-93af-151f2c9807e0",
   "metadata": {},
   "source": [
    "## Function for Type of Work"
   ]
  },
  {
   "cell_type": "code",
   "execution_count": 13,
   "id": "f3921766-dcdd-440a-b356-da0b81782a47",
   "metadata": {},
   "outputs": [],
   "source": [
    "top50 = (df >> count(_.type_of_work) >> arrange(-_.n)).head(50)"
   ]
  },
  {
   "cell_type": "code",
   "execution_count": 14,
   "id": "6c9cefd2-4f7b-443d-a4a5-12e6647bfa99",
   "metadata": {},
   "outputs": [
    {
     "data": {
      "application/vnd.jupyter.widget-view+json": {
       "model_id": "528eed7041f043989981ee03ed4bbe00",
       "version_major": 2,
       "version_minor": 0
      },
      "text/plain": [
       "interactive(children=(Dropdown(description='work', options=('Ac Overlay', 'Ac Overlay (tc)', 'Asphalt Concrete…"
      ]
     },
     "metadata": {},
     "output_type": "display_data"
    }
   ],
   "source": [
    "@interact\n",
    "def findtypeofwork(work=top50.type_of_work.sort_values().unique().tolist()):\n",
    "    \n",
    "    display(Markdown(f\"**Number of Obligations the top Agencies have in {work}**\"))\n",
    "    # graphs \n",
    "    worktypes = df[df.type_of_work== work]\n",
    "    \n",
    "    work_count = (worktypes >> count(_.agency) >> arrange(-_.n)).head(20)\n",
    "    display(work_count)\n",
    "\n",
    "    ax1 = (work_count\n",
    "            >> ggplot(aes(\"agency\", \"n\", fill=\"agency\")) \n",
    "                + geom_col() \n",
    "                + theme(axis_text_x = element_text(angle = 45 , hjust=1))\n",
    "                + labs(title='Agencies using Type of Work', x='Agency', y='Number of Obligations', fill=\"Agency\")\n",
    "            )    \n",
    "    return ax1"
   ]
  },
  {
   "cell_type": "code",
   "execution_count": null,
   "id": "a8d45ee5-19d0-4778-a382-1c159c7acede",
   "metadata": {},
   "outputs": [],
   "source": []
  },
  {
   "cell_type": "markdown",
   "id": "e462ae44-5f85-48d4-b5f3-591f096ef8a0",
   "metadata": {},
   "source": [
    "## Function to Filter Data"
   ]
  },
  {
   "cell_type": "code",
   "execution_count": 15,
   "id": "c652eb6c-f87a-4877-9aae-7d71a569a366",
   "metadata": {},
   "outputs": [],
   "source": [
    "df_query = df[['prefix', 'agency', 'project_no','locode','dist','fed_requested', 'ac_requested', 'total_requested',\n",
    "              'type_of_work','project_location', 'seq', 'mpo','prepared_y']]"
   ]
  },
  {
   "cell_type": "code",
   "execution_count": 16,
   "id": "79f70468-2bb6-4076-987d-cd1c287a01e8",
   "metadata": {},
   "outputs": [
    {
     "data": {
      "application/vnd.jupyter.widget-view+json": {
       "model_id": "d86ed2bc06de4e59b09f2019b4f156a2",
       "version_major": 2,
       "version_minor": 0
      },
      "text/plain": [
       "interactive(children=(Dropdown(description='agency', options=('Humboldt County', 'Mendocino County', 'Sacramen…"
      ]
     },
     "metadata": {},
     "output_type": "display_data"
    }
   ],
   "source": [
    "#adding year\n",
    "@interact\n",
    "def get_query2(agency=df_query.agency.unique().tolist(),\n",
    "             prefix=df_query.prefix.unique().tolist(),\n",
    "             year=df_query.prepared_y.unique().tolist()):\n",
    "   \n",
    "    filtering = df_query[(df_query.agency==agency)&(df_query.prefix==prefix)&(df_query.prepared_y==year)]\n",
    "    \n",
    "    \n",
    "    display(Markdown(f\"**The number of obligations {agency} has in {prefix} during the year {year} is {len(filtering)}**\"))\n",
    "    \n",
    "    display(filtering.head())\n",
    "    \n",
    "    "
   ]
  },
  {
   "cell_type": "code",
   "execution_count": null,
   "id": "e935da83-5af3-49c4-a4cc-7a6ed257a520",
   "metadata": {},
   "outputs": [],
   "source": []
  }
 ],
 "metadata": {
  "kernelspec": {
   "display_name": "Python 3 (ipykernel)",
   "language": "python",
   "name": "python3"
  },
  "language_info": {
   "codemirror_mode": {
    "name": "ipython",
    "version": 3
   },
   "file_extension": ".py",
   "mimetype": "text/x-python",
   "name": "python",
   "nbconvert_exporter": "python",
   "pygments_lexer": "ipython3",
   "version": "3.9.7"
  },
  "widgets": {
   "application/vnd.jupyter.widget-state+json": {
    "state": {},
    "version_major": 2,
    "version_minor": 0
   }
  }
 },
 "nbformat": 4,
 "nbformat_minor": 5
}
