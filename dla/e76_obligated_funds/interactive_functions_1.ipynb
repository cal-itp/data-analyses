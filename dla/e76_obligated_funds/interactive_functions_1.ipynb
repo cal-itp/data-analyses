{
 "cells": [
  {
   "cell_type": "markdown",
   "id": "dc2c3da2-5825-4db7-85a2-bfa4366d0ebe",
   "metadata": {},
   "source": [
    "# Interactive Functions "
   ]
  },
  {
   "cell_type": "code",
   "execution_count": 1,
   "id": "6305e725-0066-4cd6-9f56-4c4afffbb13a",
   "metadata": {},
   "outputs": [
    {
     "name": "stderr",
     "output_type": "stream",
     "text": [
      "/opt/conda/lib/python3.9/site-packages/geopandas/_compat.py:111: UserWarning: The Shapely GEOS version (3.9.1-CAPI-1.14.2) is incompatible with the GEOS version PyGEOS was compiled with (3.10.1-CAPI-1.16.0). Conversions between both will be slow.\n",
      "/opt/conda/lib/python3.9/site-packages/google/auth/_default.py:73: UserWarning: Your application has authenticated using end user credentials from Google Cloud SDK without a quota project. You might receive a \"quota exceeded\" or \"API not enabled\" error. We recommend you rerun `gcloud auth application-default login` and make sure a quota project is added. Or you can use service accounts instead. For more information about service accounts, see https://cloud.google.com/docs/authentication/\n",
      "/opt/conda/lib/python3.9/site-packages/google/auth/_default.py:73: UserWarning: Your application has authenticated using end user credentials from Google Cloud SDK without a quota project. You might receive a \"quota exceeded\" or \"API not enabled\" error. We recommend you rerun `gcloud auth application-default login` and make sure a quota project is added. Or you can use service accounts instead. For more information about service accounts, see https://cloud.google.com/docs/authentication/\n"
     ]
    }
   ],
   "source": [
    "import pandas as pd\n",
    "from siuba import *\n",
    "\n",
    "import numpy as np\n",
    "from plotnine import *\n",
    "\n",
    "import ipywidgets as widgets\n",
    "from ipywidgets import *\n",
    "from IPython.display import Markdown\n",
    "from IPython.core.display import display\n",
    "\n",
    "\n",
    "from shared_utils import geography_utils, styleguide\n",
    "from shared_utils import calitp_color_palette as cp \n"
   ]
  },
  {
   "cell_type": "code",
   "execution_count": 2,
   "id": "4bc40a28-1178-4c33-9a65-b9718a1cb947",
   "metadata": {},
   "outputs": [],
   "source": [
    "import _dla_utils"
   ]
  },
  {
   "cell_type": "code",
   "execution_count": 3,
   "id": "6cb6e6a1-8972-4d5d-a5a9-4e85d11ca5e2",
   "metadata": {},
   "outputs": [],
   "source": [
    "pd.set_option('display.max_columns', None)\n",
    "pd.options.display.float_format = \"{:.2f}\".format"
   ]
  },
  {
   "cell_type": "code",
   "execution_count": 4,
   "id": "9be02bd4-56c2-4b30-a08a-346efe4c93a1",
   "metadata": {},
   "outputs": [],
   "source": [
    "#df = _clean_data.make_clean_data()\n",
    "df= pd.read_parquet(\"dla_df.parquet\")"
   ]
  },
  {
   "cell_type": "code",
   "execution_count": 5,
   "id": "9ca66ee4-9ba2-4efa-8b65-5d8114257a9e",
   "metadata": {},
   "outputs": [
    {
     "data": {
      "text/html": [
       "<div>\n",
       "<style scoped>\n",
       "    .dataframe tbody tr th:only-of-type {\n",
       "        vertical-align: middle;\n",
       "    }\n",
       "\n",
       "    .dataframe tbody tr th {\n",
       "        vertical-align: top;\n",
       "    }\n",
       "\n",
       "    .dataframe thead th {\n",
       "        text-align: right;\n",
       "    }\n",
       "</style>\n",
       "<table border=\"1\" class=\"dataframe\">\n",
       "  <thead>\n",
       "    <tr style=\"text-align: right;\">\n",
       "      <th></th>\n",
       "      <th>location</th>\n",
       "      <th>prefix</th>\n",
       "      <th>project_no</th>\n",
       "      <th>agency</th>\n",
       "      <th>prepared_date</th>\n",
       "      <th>submit__to_hq_date</th>\n",
       "      <th>hq_review_date</th>\n",
       "      <th>submit_to_fhwa_date</th>\n",
       "      <th>to_fmis_date</th>\n",
       "      <th>fed_requested</th>\n",
       "      <th>ac_requested</th>\n",
       "      <th>total_requested</th>\n",
       "      <th>status_comment</th>\n",
       "      <th>locode</th>\n",
       "      <th>dist</th>\n",
       "      <th>status</th>\n",
       "      <th>dist_processing_days</th>\n",
       "      <th>hq_processing_days</th>\n",
       "      <th>fhwa_processing_days</th>\n",
       "      <th>ftip_no</th>\n",
       "      <th>project_location</th>\n",
       "      <th>type_of_work</th>\n",
       "      <th>seq</th>\n",
       "      <th>date_request_initiated</th>\n",
       "      <th>date_completed_request</th>\n",
       "      <th>mpo</th>\n",
       "      <th>projectID</th>\n",
       "      <th>prepared_y</th>\n",
       "      <th>primary_agency_name</th>\n",
       "    </tr>\n",
       "  </thead>\n",
       "  <tbody>\n",
       "    <tr>\n",
       "      <th>10378</th>\n",
       "      <td>Obligated</td>\n",
       "      <td>STPL</td>\n",
       "      <td>6430(001)</td>\n",
       "      <td>Alameda County Transportation Improvement Auth...</td>\n",
       "      <td>2014-12-10</td>\n",
       "      <td>2014-12-10</td>\n",
       "      <td>2014-12-10</td>\n",
       "      <td>2014-12-10</td>\n",
       "      <td>2014-12-11</td>\n",
       "      <td>-516555.49</td>\n",
       "      <td>0.00</td>\n",
       "      <td>0.00</td>\n",
       "      <td>Authorized</td>\n",
       "      <td>6430</td>\n",
       "      <td>4</td>\n",
       "      <td>E-76 approved on E-76 approved on</td>\n",
       "      <td>0.00</td>\n",
       "      <td>0.00</td>\n",
       "      <td>1.00</td>\n",
       "      <td>nan</td>\n",
       "      <td>I-580-castro Valley Interchange</td>\n",
       "      <td>Reconfigure On And Off Ramps</td>\n",
       "      <td>2</td>\n",
       "      <td>NaT</td>\n",
       "      <td>NaT</td>\n",
       "      <td>MTC</td>\n",
       "      <td>6430</td>\n",
       "      <td>2014.00</td>\n",
       "      <td>Alameda County Transportation Improvement Auth...</td>\n",
       "    </tr>\n",
       "    <tr>\n",
       "      <th>1865</th>\n",
       "      <td>Obligated</td>\n",
       "      <td>STPCML</td>\n",
       "      <td>6084(167)</td>\n",
       "      <td>Metropolitan Transportation Commission</td>\n",
       "      <td>2017-10-18</td>\n",
       "      <td>2017-10-18</td>\n",
       "      <td>2018-04-10</td>\n",
       "      <td>2018-04-18</td>\n",
       "      <td>2018-04-19</td>\n",
       "      <td>-0.01</td>\n",
       "      <td>0.00</td>\n",
       "      <td>0.00</td>\n",
       "      <td>Authorized</td>\n",
       "      <td>6084</td>\n",
       "      <td>4</td>\n",
       "      <td>E-76 approved on</td>\n",
       "      <td>NaN</td>\n",
       "      <td>182.00</td>\n",
       "      <td>1.00</td>\n",
       "      <td>REG090045</td>\n",
       "      <td>San Francisco Bay Area</td>\n",
       "      <td>Translink Fare Collection System Fy 2010/2011 ...</td>\n",
       "      <td>3</td>\n",
       "      <td>NaT</td>\n",
       "      <td>NaT</td>\n",
       "      <td>MTC</td>\n",
       "      <td>6084</td>\n",
       "      <td>2017.00</td>\n",
       "      <td>Metropolitan Transportation Commission</td>\n",
       "    </tr>\n",
       "    <tr>\n",
       "      <th>14732</th>\n",
       "      <td>Obligated</td>\n",
       "      <td>ATPL</td>\n",
       "      <td>6300(003)</td>\n",
       "      <td>University Of California - Santa Barbara</td>\n",
       "      <td>2019-09-18</td>\n",
       "      <td>2019-09-18</td>\n",
       "      <td>2019-09-18</td>\n",
       "      <td>2019-09-18</td>\n",
       "      <td>2019-09-19</td>\n",
       "      <td>0.00</td>\n",
       "      <td>0.00</td>\n",
       "      <td>0.00</td>\n",
       "      <td>Authorized</td>\n",
       "      <td>6300</td>\n",
       "      <td>5</td>\n",
       "      <td>E-76 approved on</td>\n",
       "      <td>6.00</td>\n",
       "      <td>0.00</td>\n",
       "      <td>1.00</td>\n",
       "      <td>UCSB03</td>\n",
       "      <td>Ucsb Campus Trail Connect Isla Vista Elementar...</td>\n",
       "      <td>Construct Multi-modal Trail (tc)</td>\n",
       "      <td>4</td>\n",
       "      <td>2019-09-12</td>\n",
       "      <td>2019-09-13</td>\n",
       "      <td>SBCG</td>\n",
       "      <td>6300</td>\n",
       "      <td>2019.00</td>\n",
       "      <td>University of California - Santa Barbara</td>\n",
       "    </tr>\n",
       "    <tr>\n",
       "      <th>14618</th>\n",
       "      <td>Obligated</td>\n",
       "      <td>ACSTP</td>\n",
       "      <td>32L0(506)</td>\n",
       "      <td>Butte County</td>\n",
       "      <td>2019-09-09</td>\n",
       "      <td>2019-09-09</td>\n",
       "      <td>2019-09-19</td>\n",
       "      <td>2019-09-19</td>\n",
       "      <td>2019-09-23</td>\n",
       "      <td>0.00</td>\n",
       "      <td>37053.00</td>\n",
       "      <td>37053.00</td>\n",
       "      <td>Authorized</td>\n",
       "      <td>5912</td>\n",
       "      <td>3</td>\n",
       "      <td>E-76 approved on</td>\n",
       "      <td>5.00</td>\n",
       "      <td>10.00</td>\n",
       "      <td>4.00</td>\n",
       "      <td>nan</td>\n",
       "      <td>Dillard Rd Sacramento County</td>\n",
       "      <td>Reconstruct The Road Shoulder Using Rip Rap</td>\n",
       "      <td>1</td>\n",
       "      <td>2019-09-04</td>\n",
       "      <td>2019-09-06</td>\n",
       "      <td>BCAG</td>\n",
       "      <td>32L0</td>\n",
       "      <td>2019.00</td>\n",
       "      <td>Butte County</td>\n",
       "    </tr>\n",
       "    <tr>\n",
       "      <th>6356</th>\n",
       "      <td>Obligated</td>\n",
       "      <td>BRLS</td>\n",
       "      <td>5094(067)</td>\n",
       "      <td>Vacaville</td>\n",
       "      <td>2016-07-08</td>\n",
       "      <td>2016-07-11</td>\n",
       "      <td>2016-07-12</td>\n",
       "      <td>2016-07-12</td>\n",
       "      <td>2016-07-12</td>\n",
       "      <td>3262153.00</td>\n",
       "      <td>0.00</td>\n",
       "      <td>3885210.00</td>\n",
       "      <td>Authorized</td>\n",
       "      <td>5094</td>\n",
       "      <td>4</td>\n",
       "      <td>E-76 approved on Prepared on 10/6/2015</td>\n",
       "      <td>3.00</td>\n",
       "      <td>1.00</td>\n",
       "      <td>0.00</td>\n",
       "      <td>SOL110005</td>\n",
       "      <td>Jepson Parkway: Leisure Town Road Bridge At Ne...</td>\n",
       "      <td>Bridge Replacement</td>\n",
       "      <td>1</td>\n",
       "      <td>NaT</td>\n",
       "      <td>NaT</td>\n",
       "      <td>MTC</td>\n",
       "      <td>5094</td>\n",
       "      <td>2016.00</td>\n",
       "      <td>Vacaville</td>\n",
       "    </tr>\n",
       "  </tbody>\n",
       "</table>\n",
       "</div>"
      ],
      "text/plain": [
       "        location  prefix project_no  \\\n",
       "10378  Obligated    STPL  6430(001)   \n",
       "1865   Obligated  STPCML  6084(167)   \n",
       "14732  Obligated    ATPL  6300(003)   \n",
       "14618  Obligated   ACSTP  32L0(506)   \n",
       "6356   Obligated    BRLS  5094(067)   \n",
       "\n",
       "                                                  agency prepared_date  \\\n",
       "10378  Alameda County Transportation Improvement Auth...    2014-12-10   \n",
       "1865              Metropolitan Transportation Commission    2017-10-18   \n",
       "14732           University Of California - Santa Barbara    2019-09-18   \n",
       "14618                                       Butte County    2019-09-09   \n",
       "6356                                           Vacaville    2016-07-08   \n",
       "\n",
       "      submit__to_hq_date hq_review_date submit_to_fhwa_date to_fmis_date  \\\n",
       "10378         2014-12-10     2014-12-10          2014-12-10   2014-12-11   \n",
       "1865          2017-10-18     2018-04-10          2018-04-18   2018-04-19   \n",
       "14732         2019-09-18     2019-09-18          2019-09-18   2019-09-19   \n",
       "14618         2019-09-09     2019-09-19          2019-09-19   2019-09-23   \n",
       "6356          2016-07-11     2016-07-12          2016-07-12   2016-07-12   \n",
       "\n",
       "       fed_requested  ac_requested  total_requested status_comment locode  \\\n",
       "10378     -516555.49          0.00             0.00     Authorized   6430   \n",
       "1865           -0.01          0.00             0.00     Authorized   6084   \n",
       "14732           0.00          0.00             0.00     Authorized   6300   \n",
       "14618           0.00      37053.00         37053.00     Authorized   5912   \n",
       "6356      3262153.00          0.00       3885210.00     Authorized   5094   \n",
       "\n",
       "       dist                                  status  dist_processing_days  \\\n",
       "10378     4       E-76 approved on E-76 approved on                  0.00   \n",
       "1865      4                        E-76 approved on                   NaN   \n",
       "14732     5                       E-76 approved on                   6.00   \n",
       "14618     3                       E-76 approved on                   5.00   \n",
       "6356      4  E-76 approved on Prepared on 10/6/2015                  3.00   \n",
       "\n",
       "       hq_processing_days  fhwa_processing_days    ftip_no  \\\n",
       "10378                0.00                  1.00        nan   \n",
       "1865               182.00                  1.00  REG090045   \n",
       "14732                0.00                  1.00     UCSB03   \n",
       "14618               10.00                  4.00        nan   \n",
       "6356                 1.00                  0.00  SOL110005   \n",
       "\n",
       "                                        project_location  \\\n",
       "10378                    I-580-castro Valley Interchange   \n",
       "1865                              San Francisco Bay Area   \n",
       "14732  Ucsb Campus Trail Connect Isla Vista Elementar...   \n",
       "14618                       Dillard Rd Sacramento County   \n",
       "6356   Jepson Parkway: Leisure Town Road Bridge At Ne...   \n",
       "\n",
       "                                            type_of_work  seq  \\\n",
       "10378                       Reconfigure On And Off Ramps    2   \n",
       "1865   Translink Fare Collection System Fy 2010/2011 ...    3   \n",
       "14732                   Construct Multi-modal Trail (tc)    4   \n",
       "14618        Reconstruct The Road Shoulder Using Rip Rap    1   \n",
       "6356                                  Bridge Replacement    1   \n",
       "\n",
       "      date_request_initiated date_completed_request   mpo projectID  \\\n",
       "10378                    NaT                    NaT   MTC      6430   \n",
       "1865                     NaT                    NaT   MTC      6084   \n",
       "14732             2019-09-12             2019-09-13  SBCG      6300   \n",
       "14618             2019-09-04             2019-09-06  BCAG      32L0   \n",
       "6356                     NaT                    NaT   MTC      5094   \n",
       "\n",
       "       prepared_y                                primary_agency_name  \n",
       "10378     2014.00  Alameda County Transportation Improvement Auth...  \n",
       "1865      2017.00             Metropolitan Transportation Commission  \n",
       "14732     2019.00           University of California - Santa Barbara  \n",
       "14618     2019.00                                       Butte County  \n",
       "6356      2016.00                                          Vacaville  "
      ]
     },
     "execution_count": 5,
     "metadata": {},
     "output_type": "execute_result"
    }
   ],
   "source": [
    "df.sample(5)"
   ]
  },
  {
   "cell_type": "code",
   "execution_count": null,
   "id": "9e0c6ed2-5b49-4c01-b553-f36ae2611849",
   "metadata": {},
   "outputs": [],
   "source": []
  },
  {
   "cell_type": "markdown",
   "id": "ee23122e-f3d9-4a5e-b1b7-38cebbe41ff7",
   "metadata": {},
   "source": [
    "## Full Function for Prefix"
   ]
  },
  {
   "cell_type": "code",
   "execution_count": 7,
   "id": "01f57f33-9a69-4c6a-ae32-b0d2568d8c86",
   "metadata": {
    "tags": []
   },
   "outputs": [
    {
     "data": {
      "application/vnd.jupyter.widget-view+json": {
       "model_id": "4e717733f9d640c9b8bcd55a8ad33a61",
       "version_major": 2,
       "version_minor": 0
      },
      "text/plain": [
       "interactive(children=(Dropdown(description='place', options=('Access Services', 'Agoura Hills', 'Alameda', 'Al…"
      ]
     },
     "metadata": {},
     "output_type": "display_data"
    }
   ],
   "source": [
    "    @interact\n",
    "    \n",
    "    def dla_get_prefix(place=df.primary_agency_name.sort_values().unique().tolist()):\n",
    "        \n",
    "        agencies = df[df.primary_agency_name==place]\n",
    "    \n",
    "        prefix_count_n = agencies >> count(_.prefix)\n",
    "    \n",
    "        display(Markdown(f\"**Summary Statistics for {place}**\"))\n",
    "        display(Markdown(f\"The number of obligations {place} has is {len(agencies)}\"))\n",
    "        \n",
    "        display(Markdown(f\"The number of prefix codes {place} uses is {len(prefix_count_n)}\"))\n",
    "        \n",
    "        \n",
    "        \n",
    "        # for the table- using one as some agencies only have one entry\n",
    "        pd.set_option(\"display.max_columns\", None)\n",
    "        display(df[df.agency == place][['fed_requested','ac_requested','total_requested']].describe())\n",
    "        \n",
    "        display(Markdown(f\"**Top Project Types in {place}**\"))\n",
    "        display((df[df.primary_agency_name == place] >> count(_.type_of_work) >> arrange(-_.n)).head(5)) \n",
    "        # graphs \n",
    "    \n",
    "         \n",
    "\n",
    "    \n",
    "        ax1 = (prefix_count_n\n",
    "            >> ggplot(aes(\"prefix\", \"n\", fill=\"prefix\")) \n",
    "               + geom_col() \n",
    "               + theme(axis_text_x = element_text(angle = 45 , hjust=1))\n",
    "               + labs(title='Agency Program Codes', x='Program Codes', y='Number of Obligations', fill=\"Program Type\")\n",
    "        )\n",
    "        \n",
    "        ax1 = (styleguide.preset_plotnine_config(ax1)\n",
    "         + scale_fill_manual(values=cp.CALITP_CATEGORY_BOLD_COLORS)\n",
    "        )\n",
    "        \n",
    "        return ax1\n",
    "\n",
    "        "
   ]
  },
  {
   "cell_type": "markdown",
   "id": "0f1d4c05-8a9c-42e6-9415-5f8010c32617",
   "metadata": {},
   "source": [
    "## Function for results by Prefix"
   ]
  },
  {
   "cell_type": "code",
   "execution_count": 8,
   "id": "f1620c6a-24ac-4e36-84d7-86871ed19251",
   "metadata": {},
   "outputs": [
    {
     "data": {
      "application/vnd.jupyter.widget-view+json": {
       "model_id": "4b34e6db323a4c89abfd6dc76f3e1a65",
       "version_major": 2,
       "version_minor": 0
      },
      "text/plain": [
       "interactive(children=(Dropdown(description='prefix_unique', options=('6140000', 'ACNHPI', 'ACSTER', 'ACSTP', '…"
      ]
     },
     "metadata": {},
     "output_type": "display_data"
    }
   ],
   "source": [
    "@interact\n",
    "def prefix_all_agencies_4(prefix_unique=df.prefix.sort_values().unique().tolist()):\n",
    "    \n",
    "    \n",
    "    # graphs \n",
    "    prefixes = df[df.prefix== prefix_unique]\n",
    "    \n",
    "    prefix_count_num = (prefixes >> count(_.primary_agency_name) >> arrange(-_.n))\n",
    "    \n",
    "    prefix_count = (prefixes >> count(_.primary_agency_name) >> arrange(-_.n)).head(20)\n",
    "    \n",
    "    display(Markdown(f\"**The number of agencies using {prefix_unique} is {len(prefix_count_num)}**\"))\n",
    "    \n",
    "    # for the table- using one as some agencies only have one entry\n",
    "    display(df[(df.prefix == prefix_unique)].sample(1))\n",
    "    \n",
    "    \n",
    "    ax1 = (prefix_count\n",
    "            >> ggplot(aes(\"primary_agency_name\", \"n\", fill=\"primary_agency_name\")) \n",
    "                + geom_col() \n",
    "                + theme(axis_text_x = element_text(angle = 45 , hjust=1))\n",
    "                + labs(title='Top Agencies using Prefix', x='Agency', y='Number of Obligations', fill=\"Agency\")\n",
    "            )    \n",
    "    return ax1\n",
    "              "
   ]
  },
  {
   "cell_type": "markdown",
   "id": "3add2104-c450-4ee2-93af-151f2c9807e0",
   "metadata": {},
   "source": [
    "## Function for Type of Work"
   ]
  },
  {
   "cell_type": "code",
   "execution_count": 9,
   "id": "f3921766-dcdd-440a-b356-da0b81782a47",
   "metadata": {},
   "outputs": [],
   "source": [
    "top50 = (df >> count(_.type_of_work) >> arrange(-_.n)).head(50)"
   ]
  },
  {
   "cell_type": "code",
   "execution_count": 11,
   "id": "6c9cefd2-4f7b-443d-a4a5-12e6647bfa99",
   "metadata": {},
   "outputs": [
    {
     "data": {
      "application/vnd.jupyter.widget-view+json": {
       "model_id": "4ae7b9e3cf4c489ea786247a56055123",
       "version_major": 2,
       "version_minor": 0
      },
      "text/plain": [
       "interactive(children=(Dropdown(description='work', options=('Ac Overlay', 'Ac Overlay (tc)', 'Asphalt Concrete…"
      ]
     },
     "metadata": {},
     "output_type": "display_data"
    }
   ],
   "source": [
    "@interact\n",
    "def findtypeofwork(work=top50.type_of_work.sort_values().unique().tolist()):\n",
    "    \n",
    "    display(Markdown(f\"**Number of Obligations the top Agencies have in {work}**\"))\n",
    "    # graphs \n",
    "    worktypes = df[df.type_of_work== work]\n",
    "    \n",
    "    work_count = (worktypes >> count(_.primary_agency_name) >> arrange(-_.n)).head(20)\n",
    "    display(work_count)\n",
    "\n",
    "    ax1 = (work_count\n",
    "            >> ggplot(aes(\"primary_agency_name\", \"n\", fill=\"primary_agency_name\")) \n",
    "                + geom_col() \n",
    "                + theme(axis_text_x = element_text(angle = 45 , hjust=1))\n",
    "                + labs(title='Agencies using Type of Work', x='Agency', y='Number of Obligations', fill=\"Agency\")\n",
    "            )    \n",
    "    return ax1"
   ]
  },
  {
   "cell_type": "code",
   "execution_count": null,
   "id": "a8d45ee5-19d0-4778-a382-1c159c7acede",
   "metadata": {},
   "outputs": [],
   "source": []
  },
  {
   "cell_type": "markdown",
   "id": "e462ae44-5f85-48d4-b5f3-591f096ef8a0",
   "metadata": {},
   "source": [
    "## Function to Filter Data"
   ]
  },
  {
   "cell_type": "code",
   "execution_count": 12,
   "id": "c652eb6c-f87a-4877-9aae-7d71a569a366",
   "metadata": {},
   "outputs": [],
   "source": [
    "df_query = df[['prefix', 'primary_agency_name', 'project_no','locode','dist','fed_requested', 'ac_requested', 'total_requested',\n",
    "              'type_of_work','project_location', 'seq', 'mpo','prepared_y']]"
   ]
  },
  {
   "cell_type": "code",
   "execution_count": 13,
   "id": "79f70468-2bb6-4076-987d-cd1c287a01e8",
   "metadata": {},
   "outputs": [
    {
     "data": {
      "application/vnd.jupyter.widget-view+json": {
       "model_id": "9e55db3462414c8d965899945be475df",
       "version_major": 2,
       "version_minor": 0
      },
      "text/plain": [
       "interactive(children=(Dropdown(description='agency', options=('Humboldt County', 'Mendocino County', 'Sacramen…"
      ]
     },
     "metadata": {},
     "output_type": "display_data"
    }
   ],
   "source": [
    "#adding year\n",
    "@interact\n",
    "def get_query2(agency=df_query.primary_agency_name.unique().tolist(),\n",
    "             prefix=df_query.prefix.unique().tolist(),\n",
    "             year=df_query.prepared_y.unique().tolist()):\n",
    "   \n",
    "    filtering = df_query[(df_query.primary_agency_name==agency)&(df_query.prefix==prefix)&(df_query.prepared_y==year)]\n",
    "    \n",
    "    \n",
    "    display(Markdown(f\"**The number of obligations {agency} has in {prefix} during the year {year} is {len(filtering)}**\"))\n",
    "    \n",
    "    display(filtering.head())\n",
    "    \n",
    "    "
   ]
  },
  {
   "cell_type": "code",
   "execution_count": null,
   "id": "e935da83-5af3-49c4-a4cc-7a6ed257a520",
   "metadata": {},
   "outputs": [],
   "source": []
  }
 ],
 "metadata": {
  "kernelspec": {
   "display_name": "Python 3 (ipykernel)",
   "language": "python",
   "name": "python3"
  },
  "language_info": {
   "codemirror_mode": {
    "name": "ipython",
    "version": 3
   },
   "file_extension": ".py",
   "mimetype": "text/x-python",
   "name": "python",
   "nbconvert_exporter": "python",
   "pygments_lexer": "ipython3",
   "version": "3.9.7"
  },
  "widgets": {
   "application/vnd.jupyter.widget-state+json": {
    "state": {},
    "version_major": 2,
    "version_minor": 0
   }
  }
 },
 "nbformat": 4,
 "nbformat_minor": 5
}
