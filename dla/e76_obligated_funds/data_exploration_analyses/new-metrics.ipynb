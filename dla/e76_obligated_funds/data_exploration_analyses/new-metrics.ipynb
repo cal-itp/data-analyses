{
 "cells": [
  {
   "cell_type": "markdown",
   "id": "a31d980b-ed58-4b7a-929f-964f22128434",
   "metadata": {},
   "source": [
    "# Add metrics of interest"
   ]
  },
  {
   "cell_type": "code",
   "execution_count": 1,
   "id": "b97d35db-2d26-431d-aac4-9fa79662d835",
   "metadata": {},
   "outputs": [],
   "source": [
    "import pandas as pd\n",
    "from siuba import *"
   ]
  },
  {
   "cell_type": "code",
   "execution_count": 2,
   "id": "4584a735-3e3c-4e93-94e0-b38129fcaf7e",
   "metadata": {},
   "outputs": [],
   "source": [
    "df= pd.read_parquet(\"dla_df.parquet\")"
   ]
  },
  {
   "cell_type": "code",
   "execution_count": null,
   "id": "f6400ac4-ef15-4bdb-bfa8-2a5c6014f427",
   "metadata": {},
   "outputs": [],
   "source": [
    "ACTIVE_TRANSPORTATION = ['bike', 'bicycle', 'cyclist', \n",
    "                         'pedestrian', 'crosswalk', \n",
    "                         'bulb out', 'bulb-out', \n",
    "                         'active transp', 'traffic reduction', \n",
    "                         'speed reduction', \n",
    "                        ]\n",
    "TRANSIT = ['bus', 'metro', 'station', 'transit']\n",
    "BRIDGE = [\"bridge\", 'viaduct']\n",
    "STREET = ['traffic signal', 'resurface', 'resurfacing', 'slurry', 'seal' \n",
    "          'sign', 'stripe', 'striping', 'median', \n",
    "          'guard rail', 'guardrail', \n",
    "          'road', 'street', \n",
    "          'sinkhole', 'intersection'\n",
    "         ]\n",
    "\n",
    "FREEWAY = ['hov ', 'hot ']\n",
    "\n",
    "SIDEWALK_CURB = ['curb', 'sidewalk', 'side walk', \n",
    "                'light', 'tree', 'pavement']\n",
    "\n",
    "\n",
    "NOT_TRANSIT = ['metropolitan']\n",
    "    \n",
    "\n",
    "\n",
    "\n",
    "def categorize_project_descriptions(row):\n",
    "    \"\"\"\n",
    "    This function takes a individual type of work description (row of a dataframe)\n",
    "    and returns a dummy flag of 1 if it finds keyword present in\n",
    "    project categories (active transportation, transit, bridge, etc).\n",
    "    A description can contain multiple keywords across categories.\n",
    "    \"\"\"\n",
    "    # Make lowercase\n",
    "    description = row.type_of_work.lower()\n",
    "    \n",
    "    # Store a bunch of columns that will be flagged\n",
    "    # A project can involve multiple things...also, not sure what's in the descriptions\n",
    "    active_transp = 0\n",
    "    transit = 0\n",
    "    bridge = 0\n",
    "    street = 0\n",
    "    freeway = 0\n",
    "    sidewalk_curb = 0\n",
    "    \n",
    "    if any(word in description for word in ACTIVE_TRANSPORTATION):\n",
    "        active_transp = 1\n",
    "    \n",
    "    if (any(word in description for word in TRANSIT) and \n",
    "        not (any exclude_word in description for exclude_word in NOT_TRANSIT)\n",
    "       ):\n",
    "        transit = 1\n",
    "        \n",
    "    if any(word in description for word in BRIDGE):\n",
    "        bridge = 1\n",
    "    if any(word in description for word in STREET):\n",
    "        street = 1\n",
    "    if any(word in description for word in FREEWAY):\n",
    "        freeway = 1        \n",
    "    if any(word in description for word in SIDEWALK_CURB):\n",
    "        sidewalk_curb = 1\n",
    "        \n",
    "    return pd.Series(\n",
    "        [active_transp, transit, bridge, street, freeway, sidewalk_curb], \n",
    "        index=['active_transp', 'transit', 'bridge', 'street', \n",
    "               'freeway', 'sidewalk_curb']\n",
    "    )"
   ]
  },
  {
   "cell_type": "code",
   "execution_count": null,
   "id": "8d3bfbf5-2b2a-4155-8d97-005deec7f1fa",
   "metadata": {},
   "outputs": [],
   "source": [
    "work_categories = df.apply(categorize_project_descriptions, axis=1)"
   ]
  },
  {
   "cell_type": "code",
   "execution_count": null,
   "id": "c3439b9a-e2f3-4ef8-8cd3-47baba825309",
   "metadata": {},
   "outputs": [],
   "source": [
    "df2 = pd.concat([df, work_categories], axis=1)"
   ]
  },
  {
   "cell_type": "code",
   "execution_count": null,
   "id": "6520caef-8017-49c9-bbff-46964c3e11a4",
   "metadata": {},
   "outputs": [],
   "source": [
    "work_cols = list(work_categories.columns)\n",
    "print(work_cols)\n",
    "\n",
    "df2 = df2.assign(\n",
    "    work_categories = df2[work_cols].sum(axis=1)\n",
    ")\n",
    "\n",
    "df2.work_categories.value_counts()"
   ]
  },
  {
   "cell_type": "code",
   "execution_count": null,
   "id": "f7c38030-c538-4d2a-9acd-b34d0ceed996",
   "metadata": {},
   "outputs": [],
   "source": [
    "# list out descriptions where it's still zero keywords flagged\n",
    "list(df2[df2.work_categories==0].type_of_work.unique())"
   ]
  },
  {
   "cell_type": "markdown",
   "id": "be096a1f-0bf1-4f9e-9e39-ccc8521bf194",
   "metadata": {},
   "source": [
    "Once `type_of_work` is categorized:\n",
    "\n",
    "* which category had the most funding across all years? by year? do active transportation or transit projects see more funding in recent years?\n",
    "* is funding lopsided? across all years, what % of funding do the top 5, top 10 agencies account for? if it is lopsided, show a breakdown of these top 5, top 10 agencies across these categories  \n",
    "* show who are the top 5, 10 agencies within each category (converse of the above). within transit projects, who are the top 5, 10 agencies? within bridge projects, who are the top 5, 10 agencies?\n",
    "* calculate the average funding for each category across all years (inflation-adjusted). this should normalize between the very few active transportation projects vs the many road repair projects, but give an average amt for that type of project in the district \n",
    "\n",
    "Show some `processing_days` metrics by categories.\n",
    "* are the columns used for processing days usable? is there a way to derive measures of project start / end or project approval timeframe at aggregated levels?"
   ]
  },
  {
   "cell_type": "code",
   "execution_count": null,
   "id": "1537d044-1272-412b-b1e7-9b3d85b8e3e4",
   "metadata": {},
   "outputs": [],
   "source": []
  }
 ],
 "metadata": {
  "kernelspec": {
   "display_name": "Python 3 (ipykernel)",
   "language": "python",
   "name": "python3"
  },
  "language_info": {
   "codemirror_mode": {
    "name": "ipython",
    "version": 3
   },
   "file_extension": ".py",
   "mimetype": "text/x-python",
   "name": "python",
   "nbconvert_exporter": "python",
   "pygments_lexer": "ipython3",
   "version": "3.9.10"
  },
  "widgets": {
   "application/vnd.jupyter.widget-state+json": {
    "state": {},
    "version_major": 2,
    "version_minor": 0
   }
  }
 },
 "nbformat": 4,
 "nbformat_minor": 5
}
