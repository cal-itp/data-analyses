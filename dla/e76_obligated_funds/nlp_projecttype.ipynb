{
 "cells": [
  {
   "cell_type": "markdown",
   "id": "8184ef8b-ab93-4fd1-aa1e-4040efa67295",
   "metadata": {},
   "source": [
    "\n",
    "# NLP Analyses of the \"PREFIX,\" \"project location,\" and \"type of work\" \n",
    "Looking at the frequency of projects using NLP, where the projects are and the types. \n"
   ]
  },
  {
   "cell_type": "code",
   "execution_count": 1,
   "id": "664b8ee4-a08f-4404-a898-77bb70e93473",
   "metadata": {},
   "outputs": [],
   "source": [
    "import pandas as pd\n",
    "import numpy as np"
   ]
  },
  {
   "cell_type": "code",
   "execution_count": 2,
   "id": "6879a3a8-9e33-423e-a7b7-aac2c9a233b2",
   "metadata": {},
   "outputs": [],
   "source": [
    "pd.set_option('display.max_columns', None)\n",
    "pd.options.display.float_format = \"{:.2f}\".format"
   ]
  },
  {
   "cell_type": "code",
   "execution_count": 7,
   "id": "dbc0964e-dd75-4942-b4cb-096d653e9309",
   "metadata": {},
   "outputs": [],
   "source": [
    "#df = _clean_data.make_clean_data()\n",
    "df= pd.read_parquet(\"dla_df.parquet\")"
   ]
  },
  {
   "cell_type": "code",
   "execution_count": 8,
   "id": "221bcb1d-b0dd-4113-b254-c0e611d41dc5",
   "metadata": {},
   "outputs": [
    {
     "data": {
      "text/html": [
       "<div>\n",
       "<style scoped>\n",
       "    .dataframe tbody tr th:only-of-type {\n",
       "        vertical-align: middle;\n",
       "    }\n",
       "\n",
       "    .dataframe tbody tr th {\n",
       "        vertical-align: top;\n",
       "    }\n",
       "\n",
       "    .dataframe thead th {\n",
       "        text-align: right;\n",
       "    }\n",
       "</style>\n",
       "<table border=\"1\" class=\"dataframe\">\n",
       "  <thead>\n",
       "    <tr style=\"text-align: right;\">\n",
       "      <th></th>\n",
       "      <th>Unnamed: 0</th>\n",
       "      <th>location</th>\n",
       "      <th>prefix</th>\n",
       "      <th>project_no</th>\n",
       "      <th>agency</th>\n",
       "      <th>prepared_date</th>\n",
       "      <th>submit__to_hq_date</th>\n",
       "      <th>hq_review_date</th>\n",
       "      <th>submit_to_fhwa_date</th>\n",
       "      <th>to_fmis_date</th>\n",
       "      <th>fed_requested</th>\n",
       "      <th>ac_requested</th>\n",
       "      <th>total_requested</th>\n",
       "      <th>status_comment</th>\n",
       "      <th>locode</th>\n",
       "      <th>dist</th>\n",
       "      <th>status</th>\n",
       "      <th>dist_processing_days</th>\n",
       "      <th>hq_processing_days</th>\n",
       "      <th>fhwa_processing_days</th>\n",
       "      <th>ftip_no</th>\n",
       "      <th>project_location</th>\n",
       "      <th>type_of_work</th>\n",
       "      <th>seq</th>\n",
       "      <th>date_request_initiated</th>\n",
       "      <th>date_completed_request</th>\n",
       "      <th>mpo</th>\n",
       "      <th>warning</th>\n",
       "      <th>projectID</th>\n",
       "      <th>projectNO</th>\n",
       "      <th>compare_id_locode</th>\n",
       "    </tr>\n",
       "  </thead>\n",
       "  <tbody>\n",
       "    <tr>\n",
       "      <th>0</th>\n",
       "      <td>0</td>\n",
       "      <td>Obligated</td>\n",
       "      <td>BPMPL</td>\n",
       "      <td>5904(121)</td>\n",
       "      <td>Humboldt County</td>\n",
       "      <td>2018-12-18</td>\n",
       "      <td>2018-12-18</td>\n",
       "      <td>2018-12-18</td>\n",
       "      <td>2018-12-18</td>\n",
       "      <td>2018-12-27</td>\n",
       "      <td>0.00</td>\n",
       "      <td>0.00</td>\n",
       "      <td>0.00</td>\n",
       "      <td>Authorized</td>\n",
       "      <td>5904</td>\n",
       "      <td>1</td>\n",
       "      <td>E-76 approved on</td>\n",
       "      <td>NaN</td>\n",
       "      <td>0.00</td>\n",
       "      <td>9.00</td>\n",
       "      <td>HBPLOCAL</td>\n",
       "      <td>14 Bridges In Humboldt County</td>\n",
       "      <td>Bridge Preventive Maintenance - Deck Joints</td>\n",
       "      <td>3</td>\n",
       "      <td>NaN</td>\n",
       "      <td>NaN</td>\n",
       "      <td>NON-MPO</td>\n",
       "      <td>NaN</td>\n",
       "      <td>5904</td>\n",
       "      <td>121</td>\n",
       "      <td>True</td>\n",
       "    </tr>\n",
       "    <tr>\n",
       "      <th>1</th>\n",
       "      <td>1</td>\n",
       "      <td>Obligated</td>\n",
       "      <td>ER</td>\n",
       "      <td>32D0(008)</td>\n",
       "      <td>Mendocino County</td>\n",
       "      <td>2018-12-17</td>\n",
       "      <td>2018-12-19</td>\n",
       "      <td>2018-12-20</td>\n",
       "      <td>2018-12-20</td>\n",
       "      <td>2018-12-27</td>\n",
       "      <td>11508.00</td>\n",
       "      <td>0.00</td>\n",
       "      <td>13000.00</td>\n",
       "      <td>Authorized</td>\n",
       "      <td>5910</td>\n",
       "      <td>1</td>\n",
       "      <td>E-76 approved on</td>\n",
       "      <td>1.00</td>\n",
       "      <td>1.00</td>\n",
       "      <td>7.00</td>\n",
       "      <td>NaN</td>\n",
       "      <td>Comptche Ukiah Road, Cr 223 Pm 17.25</td>\n",
       "      <td>Permanent Restoration</td>\n",
       "      <td>3</td>\n",
       "      <td>2018-12-17</td>\n",
       "      <td>2018-12-18</td>\n",
       "      <td>NON-MPO</td>\n",
       "      <td>NaN</td>\n",
       "      <td>32D0</td>\n",
       "      <td>8</td>\n",
       "      <td>False</td>\n",
       "    </tr>\n",
       "    <tr>\n",
       "      <th>2</th>\n",
       "      <td>2</td>\n",
       "      <td>Obligated</td>\n",
       "      <td>ER</td>\n",
       "      <td>4820(004)</td>\n",
       "      <td>Humboldt County</td>\n",
       "      <td>2018-12-07</td>\n",
       "      <td>2018-12-21</td>\n",
       "      <td>2018-12-21</td>\n",
       "      <td>2018-12-21</td>\n",
       "      <td>2018-12-27</td>\n",
       "      <td>45499.64</td>\n",
       "      <td>0.00</td>\n",
       "      <td>51394.58</td>\n",
       "      <td>Authorized</td>\n",
       "      <td>5904</td>\n",
       "      <td>1</td>\n",
       "      <td>E-76 approved on</td>\n",
       "      <td>14.00</td>\n",
       "      <td>0.00</td>\n",
       "      <td>6.00</td>\n",
       "      <td>NaN</td>\n",
       "      <td>Mattole Rd Pm 43.17</td>\n",
       "      <td>Permanent Restoration</td>\n",
       "      <td>5</td>\n",
       "      <td>2018-12-06</td>\n",
       "      <td>2018-12-07</td>\n",
       "      <td>NON-MPO</td>\n",
       "      <td>NaN</td>\n",
       "      <td>4820</td>\n",
       "      <td>4</td>\n",
       "      <td>False</td>\n",
       "    </tr>\n",
       "    <tr>\n",
       "      <th>3</th>\n",
       "      <td>3</td>\n",
       "      <td>Obligated</td>\n",
       "      <td>CML</td>\n",
       "      <td>5924(244)</td>\n",
       "      <td>Sacramento County</td>\n",
       "      <td>2018-12-11</td>\n",
       "      <td>2018-12-11</td>\n",
       "      <td>2018-12-21</td>\n",
       "      <td>2018-12-27</td>\n",
       "      <td>2018-12-27</td>\n",
       "      <td>207002.00</td>\n",
       "      <td>0.00</td>\n",
       "      <td>247002.00</td>\n",
       "      <td>Authorized</td>\n",
       "      <td>5924</td>\n",
       "      <td>3</td>\n",
       "      <td>E-76 approved on</td>\n",
       "      <td>4.00</td>\n",
       "      <td>16.00</td>\n",
       "      <td>0.00</td>\n",
       "      <td>SAC25086</td>\n",
       "      <td>Fair Oaks Blvd. Between Howe Ave And Munroe St</td>\n",
       "      <td>Create A Smart Growth Corridor With Barrier Se...</td>\n",
       "      <td>1</td>\n",
       "      <td>2018-12-07</td>\n",
       "      <td>2018-12-07</td>\n",
       "      <td>SACOG</td>\n",
       "      <td>NaN</td>\n",
       "      <td>5924</td>\n",
       "      <td>244</td>\n",
       "      <td>True</td>\n",
       "    </tr>\n",
       "    <tr>\n",
       "      <th>4</th>\n",
       "      <td>4</td>\n",
       "      <td>Obligated</td>\n",
       "      <td>CML</td>\n",
       "      <td>5924(214)</td>\n",
       "      <td>Sacramento County</td>\n",
       "      <td>2018-12-05</td>\n",
       "      <td>2018-12-11</td>\n",
       "      <td>2018-12-21</td>\n",
       "      <td>2018-12-27</td>\n",
       "      <td>2018-12-27</td>\n",
       "      <td>0.00</td>\n",
       "      <td>5680921.00</td>\n",
       "      <td>5702041.00</td>\n",
       "      <td>Authorized</td>\n",
       "      <td>5924</td>\n",
       "      <td>3</td>\n",
       "      <td>E-76 approved on</td>\n",
       "      <td>7.00</td>\n",
       "      <td>16.00</td>\n",
       "      <td>0.00</td>\n",
       "      <td>SAC24753</td>\n",
       "      <td>Florin Rd Between Power Inn Rd. And Florin Per...</td>\n",
       "      <td>Streetscape (tc)</td>\n",
       "      <td>3</td>\n",
       "      <td>2018-11-28</td>\n",
       "      <td>2018-12-04</td>\n",
       "      <td>SACOG</td>\n",
       "      <td>NaN</td>\n",
       "      <td>5924</td>\n",
       "      <td>214</td>\n",
       "      <td>True</td>\n",
       "    </tr>\n",
       "  </tbody>\n",
       "</table>\n",
       "</div>"
      ],
      "text/plain": [
       "   Unnamed: 0   location prefix project_no             agency prepared_date  \\\n",
       "0           0  Obligated  BPMPL  5904(121)    Humboldt County    2018-12-18   \n",
       "1           1  Obligated     ER  32D0(008)   Mendocino County    2018-12-17   \n",
       "2           2  Obligated     ER  4820(004)    Humboldt County    2018-12-07   \n",
       "3           3  Obligated    CML  5924(244)  Sacramento County    2018-12-11   \n",
       "4           4  Obligated    CML  5924(214)  Sacramento County    2018-12-05   \n",
       "\n",
       "  submit__to_hq_date hq_review_date submit_to_fhwa_date to_fmis_date  \\\n",
       "0         2018-12-18     2018-12-18          2018-12-18   2018-12-27   \n",
       "1         2018-12-19     2018-12-20          2018-12-20   2018-12-27   \n",
       "2         2018-12-21     2018-12-21          2018-12-21   2018-12-27   \n",
       "3         2018-12-11     2018-12-21          2018-12-27   2018-12-27   \n",
       "4         2018-12-11     2018-12-21          2018-12-27   2018-12-27   \n",
       "\n",
       "   fed_requested  ac_requested  total_requested status_comment locode  dist  \\\n",
       "0           0.00          0.00             0.00     Authorized   5904     1   \n",
       "1       11508.00          0.00         13000.00     Authorized   5910     1   \n",
       "2       45499.64          0.00         51394.58     Authorized   5904     1   \n",
       "3      207002.00          0.00        247002.00     Authorized   5924     3   \n",
       "4           0.00    5680921.00       5702041.00     Authorized   5924     3   \n",
       "\n",
       "             status  dist_processing_days  hq_processing_days  \\\n",
       "0  E-76 approved on                   NaN                0.00   \n",
       "1  E-76 approved on                  1.00                1.00   \n",
       "2  E-76 approved on                 14.00                0.00   \n",
       "3  E-76 approved on                  4.00               16.00   \n",
       "4  E-76 approved on                  7.00               16.00   \n",
       "\n",
       "   fhwa_processing_days   ftip_no  \\\n",
       "0                  9.00  HBPLOCAL   \n",
       "1                  7.00       NaN   \n",
       "2                  6.00       NaN   \n",
       "3                  0.00  SAC25086   \n",
       "4                  0.00  SAC24753   \n",
       "\n",
       "                                    project_location  \\\n",
       "0                      14 Bridges In Humboldt County   \n",
       "1               Comptche Ukiah Road, Cr 223 Pm 17.25   \n",
       "2                                Mattole Rd Pm 43.17   \n",
       "3     Fair Oaks Blvd. Between Howe Ave And Munroe St   \n",
       "4  Florin Rd Between Power Inn Rd. And Florin Per...   \n",
       "\n",
       "                                        type_of_work  seq  \\\n",
       "0        Bridge Preventive Maintenance - Deck Joints    3   \n",
       "1                              Permanent Restoration    3   \n",
       "2                              Permanent Restoration    5   \n",
       "3  Create A Smart Growth Corridor With Barrier Se...    1   \n",
       "4                                   Streetscape (tc)    3   \n",
       "\n",
       "  date_request_initiated date_completed_request      mpo warning projectID  \\\n",
       "0                    NaN                    NaN  NON-MPO     NaN      5904   \n",
       "1             2018-12-17             2018-12-18  NON-MPO     NaN      32D0   \n",
       "2             2018-12-06             2018-12-07  NON-MPO     NaN      4820   \n",
       "3             2018-12-07             2018-12-07    SACOG     NaN      5924   \n",
       "4             2018-11-28             2018-12-04    SACOG     NaN      5924   \n",
       "\n",
       "   projectNO  compare_id_locode  \n",
       "0        121               True  \n",
       "1          8              False  \n",
       "2          4              False  \n",
       "3        244               True  \n",
       "4        214               True  "
      ]
     },
     "execution_count": 8,
     "metadata": {},
     "output_type": "execute_result"
    }
   ],
   "source": [
    "df.head()"
   ]
  },
  {
   "cell_type": "code",
   "execution_count": 9,
   "id": "37faf3e3-4f6a-41cc-ab87-62c714957ded",
   "metadata": {},
   "outputs": [],
   "source": [
    "df_text = df[['agency', 'project_location', 'type_of_work']].copy()"
   ]
  },
  {
   "cell_type": "code",
   "execution_count": 10,
   "id": "9ef68afb-20d3-4577-9566-29a6ce05575a",
   "metadata": {},
   "outputs": [
    {
     "data": {
      "text/html": [
       "<div>\n",
       "<style scoped>\n",
       "    .dataframe tbody tr th:only-of-type {\n",
       "        vertical-align: middle;\n",
       "    }\n",
       "\n",
       "    .dataframe tbody tr th {\n",
       "        vertical-align: top;\n",
       "    }\n",
       "\n",
       "    .dataframe thead th {\n",
       "        text-align: right;\n",
       "    }\n",
       "</style>\n",
       "<table border=\"1\" class=\"dataframe\">\n",
       "  <thead>\n",
       "    <tr style=\"text-align: right;\">\n",
       "      <th></th>\n",
       "      <th>agency</th>\n",
       "      <th>project_location</th>\n",
       "      <th>type_of_work</th>\n",
       "    </tr>\n",
       "  </thead>\n",
       "  <tbody>\n",
       "    <tr>\n",
       "      <th>176</th>\n",
       "      <td>Firebaugh</td>\n",
       "      <td>Dunkle Park, River Lane And 12th Street Facili...</td>\n",
       "      <td>Construct Sidewalk, Curb &amp; Gutter. (tc)</td>\n",
       "    </tr>\n",
       "    <tr>\n",
       "      <th>905</th>\n",
       "      <td>Sanger</td>\n",
       "      <td>Bethel Ave. Between North Ave. And Annadale Ave.</td>\n",
       "      <td>Construct Sidewalk, Curb And Gutter And Instal...</td>\n",
       "    </tr>\n",
       "    <tr>\n",
       "      <th>17366</th>\n",
       "      <td>Riverside County</td>\n",
       "      <td>Magnolia Avenue At The Bnsf Railroad Tracks Fr...</td>\n",
       "      <td>New Overhead</td>\n",
       "    </tr>\n",
       "    <tr>\n",
       "      <th>4058</th>\n",
       "      <td>San Francisco County</td>\n",
       "      <td>Balboa St (from 34th Ave. To 39th Ave.)</td>\n",
       "      <td>Street Improvements</td>\n",
       "    </tr>\n",
       "    <tr>\n",
       "      <th>8927</th>\n",
       "      <td>Clovis</td>\n",
       "      <td>Intersection Of Peach Ave And Gettysburg Ave</td>\n",
       "      <td>Upgrade Traffic Signal</td>\n",
       "    </tr>\n",
       "  </tbody>\n",
       "</table>\n",
       "</div>"
      ],
      "text/plain": [
       "                     agency  \\\n",
       "176               Firebaugh   \n",
       "905                  Sanger   \n",
       "17366      Riverside County   \n",
       "4058   San Francisco County   \n",
       "8927                 Clovis   \n",
       "\n",
       "                                        project_location  \\\n",
       "176    Dunkle Park, River Lane And 12th Street Facili...   \n",
       "905     Bethel Ave. Between North Ave. And Annadale Ave.   \n",
       "17366  Magnolia Avenue At The Bnsf Railroad Tracks Fr...   \n",
       "4058             Balboa St (from 34th Ave. To 39th Ave.)   \n",
       "8927        Intersection Of Peach Ave And Gettysburg Ave   \n",
       "\n",
       "                                            type_of_work  \n",
       "176              Construct Sidewalk, Curb & Gutter. (tc)  \n",
       "905    Construct Sidewalk, Curb And Gutter And Instal...  \n",
       "17366                                       New Overhead  \n",
       "4058                                 Street Improvements  \n",
       "8927                              Upgrade Traffic Signal  "
      ]
     },
     "execution_count": 10,
     "metadata": {},
     "output_type": "execute_result"
    }
   ],
   "source": [
    "df_text.sample(5)"
   ]
  },
  {
   "cell_type": "code",
   "execution_count": 11,
   "id": "5e32112f-e90a-4830-a473-83d92b84c12e",
   "metadata": {},
   "outputs": [
    {
     "data": {
      "text/plain": [
       "agency              object\n",
       "project_location    object\n",
       "type_of_work        object\n",
       "dtype: object"
      ]
     },
     "execution_count": 11,
     "metadata": {},
     "output_type": "execute_result"
    }
   ],
   "source": [
    "df_text.dtypes"
   ]
  },
  {
   "cell_type": "code",
   "execution_count": 12,
   "id": "3a0f8799-607e-4a92-ae6e-f97ff4f0c897",
   "metadata": {},
   "outputs": [
    {
     "data": {
      "text/plain": [
       "20117"
      ]
     },
     "execution_count": 12,
     "metadata": {},
     "output_type": "execute_result"
    }
   ],
   "source": [
    "len(df_text)"
   ]
  },
  {
   "cell_type": "markdown",
   "id": "57c2c0d0-3550-4de4-a0d1-9c77728131bc",
   "metadata": {},
   "source": [
    "## Installing text analysis tools\n",
    "\n",
    "code help: \n",
    "* https://towardsdatascience.com/generate-meaningful-word-clouds-in-python-5b85f5668eeb\n",
    "* https://github.com/UCLALuskinDataScience/UrbanDataScience/blob/main/weeks5-6/a.%20NLP%20Part%201.ipynb"
   ]
  },
  {
   "cell_type": "code",
   "execution_count": 19,
   "id": "c72957d3-4b9f-4696-b5d5-a1699f669a28",
   "metadata": {},
   "outputs": [],
   "source": [
    "#!pip install nltk\n",
    "#! pip install textblob\n",
    "#! pip install wordcloud"
   ]
  },
  {
   "cell_type": "code",
   "execution_count": 20,
   "id": "5a4ae215-2320-4af5-a75c-c17930740c64",
   "metadata": {},
   "outputs": [],
   "source": [
    "import nltk\n",
    "from textblob import TextBlob\n",
    "from nltk.corpus import stopwords\n",
    "from nltk.tokenize import word_tokenize, sent_tokenize"
   ]
  },
  {
   "cell_type": "code",
   "execution_count": 21,
   "id": "3b2d735a-d239-45d3-9364-84928fcacf5f",
   "metadata": {},
   "outputs": [],
   "source": [
    "import matplotlib.pyplot as plt\n",
    "import matplotlib as mpl\n",
    "from wordcloud import WordCloud, STOPWORDS, ImageColorGenerator"
   ]
  },
  {
   "cell_type": "code",
   "execution_count": 22,
   "id": "9eee8169-887a-42ea-b404-fa0629957705",
   "metadata": {},
   "outputs": [],
   "source": [
    "import re"
   ]
  },
  {
   "cell_type": "code",
   "execution_count": 23,
   "id": "a152a435-57a5-483e-b1eb-54a4a45d65f6",
   "metadata": {},
   "outputs": [
    {
     "name": "stderr",
     "output_type": "stream",
     "text": [
      "[nltk_data] Downloading package stopwords to /home/jovyan/nltk_data...\n",
      "[nltk_data]   Package stopwords is already up-to-date!\n",
      "[nltk_data] Downloading package punkt to /home/jovyan/nltk_data...\n",
      "[nltk_data]   Package punkt is already up-to-date!\n"
     ]
    },
    {
     "data": {
      "text/plain": [
       "True"
      ]
     },
     "execution_count": 23,
     "metadata": {},
     "output_type": "execute_result"
    }
   ],
   "source": [
    "nltk.download('stopwords')\n",
    "nltk.download('punkt')"
   ]
  },
  {
   "cell_type": "markdown",
   "id": "4d3344a6-bc8d-4e3c-9cb5-1001d09f162d",
   "metadata": {},
   "source": [
    "## Type of work"
   ]
  },
  {
   "cell_type": "code",
   "execution_count": null,
   "id": "58d1b441-38ef-4613-9fc4-68d0a035349b",
   "metadata": {},
   "outputs": [],
   "source": [
    "#df_work_text = df_text[['type_of_work']]"
   ]
  },
  {
   "cell_type": "code",
   "execution_count": null,
   "id": "7276fa68-362d-4547-b1d2-65a279daceab",
   "metadata": {},
   "outputs": [],
   "source": []
  },
  {
   "cell_type": "code",
   "execution_count": null,
   "id": "69ee7a17-2c57-4f3c-8ae9-f38f1b2f2e72",
   "metadata": {},
   "outputs": [],
   "source": []
  },
  {
   "cell_type": "code",
   "execution_count": null,
   "id": "7050d8be-0558-4cda-a9b7-b9eeecae218f",
   "metadata": {},
   "outputs": [],
   "source": []
  },
  {
   "cell_type": "markdown",
   "id": "b57b8a3a-c0f3-4d5b-9379-a11f765a1112",
   "metadata": {},
   "source": [
    "## Creating a list for analysis"
   ]
  },
  {
   "cell_type": "code",
   "execution_count": 24,
   "id": "53658b76-9235-4a87-aab3-6c35e66af8f8",
   "metadata": {},
   "outputs": [],
   "source": [
    "#df_work_text = df_text[['type_of_work']]"
   ]
  },
  {
   "cell_type": "code",
   "execution_count": 25,
   "id": "a71f12b8-faa3-4309-b428-16a6d855b978",
   "metadata": {},
   "outputs": [],
   "source": [
    "#df_work_text"
   ]
  },
  {
   "cell_type": "code",
   "execution_count": 26,
   "id": "fc3007c1-cf10-41ed-8ebd-63a94a48734f",
   "metadata": {},
   "outputs": [],
   "source": [
    "#work_text = df_work_text.squeeze()"
   ]
  },
  {
   "cell_type": "code",
   "execution_count": 27,
   "id": "4c00febc-6253-4223-8a95-53fac2c8fd3d",
   "metadata": {},
   "outputs": [],
   "source": [
    "#print(work_text)"
   ]
  },
  {
   "cell_type": "code",
   "execution_count": 28,
   "id": "7fcf6a9f-aa0c-439f-8599-ef3bf63185f5",
   "metadata": {},
   "outputs": [],
   "source": [
    "#type(work_text)"
   ]
  },
  {
   "cell_type": "code",
   "execution_count": 29,
   "id": "57cd8df5-13a0-4bde-af95-9782758dbfc8",
   "metadata": {},
   "outputs": [],
   "source": [
    "#work_list = work_text.tolist() "
   ]
  },
  {
   "cell_type": "code",
   "execution_count": 30,
   "id": "17616482-f990-455c-9d43-1bf50724a969",
   "metadata": {},
   "outputs": [],
   "source": [
    "#work_list = ' '.join(work_list).lower()"
   ]
  },
  {
   "cell_type": "code",
   "execution_count": 31,
   "id": "01a41d60-563e-4c42-ac49-374278f75f11",
   "metadata": {
    "scrolled": true,
    "tags": []
   },
   "outputs": [],
   "source": [
    "#work_list[100:1100]"
   ]
  },
  {
   "cell_type": "code",
   "execution_count": 32,
   "id": "926cc730-b14c-4406-8ba8-8c59807ba1be",
   "metadata": {},
   "outputs": [],
   "source": [
    "#swords = [re.sub(r\"[^A-z\\s]\", \"\", sword) for sword in stopwords.words('english')]"
   ]
  },
  {
   "cell_type": "code",
   "execution_count": 33,
   "id": "a7d902b8-4d92-4def-96ce-94818016d8ab",
   "metadata": {},
   "outputs": [],
   "source": [
    "#clean_work_list = [word for word in word_tokenize(work_list.lower()) if word not in swords] "
   ]
  },
  {
   "cell_type": "code",
   "execution_count": 34,
   "id": "53907035-70c2-4c3b-a12c-28f5d1dbdcf7",
   "metadata": {
    "scrolled": true,
    "tags": []
   },
   "outputs": [],
   "source": [
    "#clean_work_list"
   ]
  },
  {
   "cell_type": "code",
   "execution_count": 35,
   "id": "c5807940-a501-4c91-aa42-dfe5be1d5d0b",
   "metadata": {},
   "outputs": [],
   "source": [
    "#len(set(clean_work_list))"
   ]
  },
  {
   "cell_type": "code",
   "execution_count": 36,
   "id": "1a49dbc4-e537-4f2e-9757-cd240d8e4871",
   "metadata": {},
   "outputs": [],
   "source": [
    "#clean_work_list.count('bridge')"
   ]
  },
  {
   "cell_type": "code",
   "execution_count": 37,
   "id": "4dea9c5b-75e4-4c82-968a-46759d9cddda",
   "metadata": {},
   "outputs": [],
   "source": [
    "#clean_work_list.count('restoration')"
   ]
  },
  {
   "cell_type": "code",
   "execution_count": 38,
   "id": "9e7839f2-ca6f-4845-88fc-e6966ae26879",
   "metadata": {},
   "outputs": [],
   "source": [
    "#clean_word_list_df = pd.DataFrame(np.array(clean_work_list))"
   ]
  },
  {
   "cell_type": "code",
   "execution_count": 39,
   "id": "fe236def-4f3d-4a51-be90-13f1a98e15d9",
   "metadata": {},
   "outputs": [],
   "source": [
    "#clean_word_list_df.rename(columns={'0':'words'}, inplace=True)"
   ]
  },
  {
   "cell_type": "code",
   "execution_count": 40,
   "id": "a6629324-c3e0-4b6f-97bc-b4f02f104a79",
   "metadata": {},
   "outputs": [],
   "source": [
    "#clean_word_list_df.value_counts()"
   ]
  },
  {
   "cell_type": "code",
   "execution_count": null,
   "id": "f010d64a-6d2e-4c5e-9cd5-8bd56a5d193d",
   "metadata": {},
   "outputs": [],
   "source": []
  },
  {
   "cell_type": "code",
   "execution_count": null,
   "id": "0a7ae870-0fe3-4302-995a-7bc2a71ae5c7",
   "metadata": {},
   "outputs": [],
   "source": []
  },
  {
   "cell_type": "code",
   "execution_count": null,
   "id": "04441d62-324a-4665-8ff1-78e8925cd22f",
   "metadata": {},
   "outputs": [],
   "source": []
  },
  {
   "cell_type": "code",
   "execution_count": null,
   "id": "430c08c6-3f8b-451c-87bd-c31f47eb666e",
   "metadata": {},
   "outputs": [],
   "source": []
  },
  {
   "cell_type": "code",
   "execution_count": null,
   "id": "b77dae06-695a-454c-904a-45aeb51edf6e",
   "metadata": {},
   "outputs": [],
   "source": []
  },
  {
   "cell_type": "code",
   "execution_count": null,
   "id": "b55dd04f-99c4-4b0a-953f-cc89a473f0fe",
   "metadata": {},
   "outputs": [],
   "source": []
  },
  {
   "cell_type": "code",
   "execution_count": 41,
   "id": "1d242d1a-b791-4145-9435-d528ce9ae278",
   "metadata": {},
   "outputs": [],
   "source": [
    "#! pip install gensim\n",
    "#! pip install pyLDAvis"
   ]
  },
  {
   "cell_type": "code",
   "execution_count": 42,
   "id": "d25f83ed-dd13-49f5-ac34-d657679dd539",
   "metadata": {},
   "outputs": [],
   "source": [
    "#import gensim\n",
    "#import pyLDAvis\n",
    "#import pyLDAvis.gensim_models"
   ]
  },
  {
   "cell_type": "code",
   "execution_count": 43,
   "id": "a650444f-010f-4fb7-81bf-9fa693fe4b72",
   "metadata": {},
   "outputs": [],
   "source": [
    "#dictionary = gensim.corpora.Dictionary(clean_work_list)\n",
    "#corpus = [dictionary.doc2bow(wl) for wl in clean_work_list]\n",
    "#model = gensim.models.LdaMulticore(corpus, id2word=dictionary, num_topics=10, alpha = 0.9, eta=0.9)"
   ]
  },
  {
   "cell_type": "code",
   "execution_count": null,
   "id": "704d5140-94b8-4b34-9015-511adda5defd",
   "metadata": {},
   "outputs": [],
   "source": []
  },
  {
   "cell_type": "code",
   "execution_count": null,
   "id": "47b7f248-2d62-4f2f-b110-60e5960d7d0b",
   "metadata": {},
   "outputs": [],
   "source": []
  },
  {
   "cell_type": "code",
   "execution_count": null,
   "id": "d70db58b-5f6c-42a8-b0c2-473a9be5baa6",
   "metadata": {},
   "outputs": [],
   "source": []
  },
  {
   "cell_type": "code",
   "execution_count": null,
   "id": "1b1ad57a-8f45-4a83-aeee-a936f4f1e85a",
   "metadata": {},
   "outputs": [],
   "source": []
  },
  {
   "cell_type": "code",
   "execution_count": 90,
   "id": "5066813a-f44f-4b43-8d34-e9e2401c93e6",
   "metadata": {},
   "outputs": [],
   "source": [
    "#work_wordcloud = WordCloud(stopwords = STOPWORDS,\n",
    "                      #collocations=True, background_color='white').generate(work_words_only)"
   ]
  },
  {
   "cell_type": "code",
   "execution_count": 91,
   "id": "b4a47cef-2f2f-4b26-bc3a-0cb5a3153367",
   "metadata": {},
   "outputs": [
    {
     "data": {
      "image/png": "[encoded data removed]",
      "text/plain": [
       "<Figure size 432x288 with 1 Axes>"
      ]
     },
     "metadata": {
      "needs_background": "light"
     },
     "output_type": "display_data"
    }
   ],
   "source": [
    "#plt.imshow(work_wordcloud, interpolation='bilInear')\n",
    "#plt.axis('off')\n",
    "#plt.show()\n"
   ]
  },
  {
   "cell_type": "code",
   "execution_count": null,
   "id": "ed962ff5-abf3-4197-98e1-da43a53683f4",
   "metadata": {},
   "outputs": [],
   "source": [
    "\n"
   ]
  },
  {
   "cell_type": "code",
   "execution_count": null,
   "id": "9b770154-47b5-4919-94fe-033ed7f4b3cf",
   "metadata": {
    "scrolled": true,
    "tags": []
   },
   "outputs": [],
   "source": []
  },
  {
   "cell_type": "code",
   "execution_count": null,
   "id": "e5323859-ac91-48ca-92a3-f378d9e03a17",
   "metadata": {},
   "outputs": [],
   "source": []
  },
  {
   "cell_type": "code",
   "execution_count": null,
   "id": "97f00525-534b-4abe-ad30-2763e6f9791d",
   "metadata": {},
   "outputs": [],
   "source": []
  },
  {
   "cell_type": "code",
   "execution_count": null,
   "id": "75149186-1d44-4152-ada5-bc1c0a9edbba",
   "metadata": {},
   "outputs": [],
   "source": []
  },
  {
   "cell_type": "code",
   "execution_count": null,
   "id": "97217571-8212-4644-ad7e-ace9fb166cee",
   "metadata": {},
   "outputs": [],
   "source": []
  },
  {
   "cell_type": "code",
   "execution_count": null,
   "id": "be2af987-fca6-48ec-9e84-913b65acb97a",
   "metadata": {},
   "outputs": [],
   "source": []
  },
  {
   "cell_type": "code",
   "execution_count": null,
   "id": "27f74d9d-605d-467f-b129-d657fe048c1f",
   "metadata": {},
   "outputs": [],
   "source": []
  },
  {
   "cell_type": "code",
   "execution_count": null,
   "id": "77c392f6-ebb7-436a-8b4a-a2e5739ac3f2",
   "metadata": {},
   "outputs": [],
   "source": []
  },
  {
   "cell_type": "code",
   "execution_count": null,
   "id": "e247d013-1171-44f1-9f71-d86722d02744",
   "metadata": {},
   "outputs": [],
   "source": []
  },
  {
   "cell_type": "code",
   "execution_count": null,
   "id": "705074fb-6a28-4130-998a-2affc2d0d5e0",
   "metadata": {},
   "outputs": [],
   "source": []
  },
  {
   "cell_type": "code",
   "execution_count": null,
   "id": "524e8085-4b07-475f-92f7-3160ec5c2098",
   "metadata": {},
   "outputs": [],
   "source": []
  }
 ],
 "metadata": {
  "kernelspec": {
   "display_name": "Python 3 (ipykernel)",
   "language": "python",
   "name": "python3"
  },
  "language_info": {
   "codemirror_mode": {
    "name": "ipython",
    "version": 3
   },
   "file_extension": ".py",
   "mimetype": "text/x-python",
   "name": "python",
   "nbconvert_exporter": "python",
   "pygments_lexer": "ipython3",
   "version": "3.9.7"
  },
  "widgets": {
   "application/vnd.jupyter.widget-state+json": {
    "state": {},
    "version_major": 2,
    "version_minor": 0
   }
  }
 },
 "nbformat": 4,
 "nbformat_minor": 5
}
