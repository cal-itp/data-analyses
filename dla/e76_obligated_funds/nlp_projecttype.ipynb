{
 "cells": [
  {
   "cell_type": "markdown",
   "id": "8184ef8b-ab93-4fd1-aa1e-4040efa67295",
   "metadata": {},
   "source": [
    "\n",
    "# NLP of the \"project location\" and \"type of work\" \n"
   ]
  },
  {
   "cell_type": "code",
   "execution_count": 1,
   "id": "664b8ee4-a08f-4404-a898-77bb70e93473",
   "metadata": {},
   "outputs": [],
   "source": [
    "import pandas as pd\n",
    "import numpy as np"
   ]
  },
  {
   "cell_type": "code",
   "execution_count": 2,
   "id": "6879a3a8-9e33-423e-a7b7-aac2c9a233b2",
   "metadata": {},
   "outputs": [],
   "source": [
    "pd.set_option('display.max_columns', None)\n",
    "pd.options.display.float_format = \"{:.2f}\".format"
   ]
  },
  {
   "cell_type": "code",
   "execution_count": 3,
   "id": "dbc0964e-dd75-4942-b4cb-096d653e9309",
   "metadata": {},
   "outputs": [
    {
     "name": "stderr",
     "output_type": "stream",
     "text": [
      "/opt/conda/lib/python3.9/site-packages/google/auth/_default.py:71: UserWarning: Your application has authenticated using end user credentials from Google Cloud SDK without a quota project. You might receive a \"quota exceeded\" or \"API not enabled\" error. We recommend you rerun `gcloud auth application-default login` and make sure a quota project is added. Or you can use service accounts instead. For more information about service accounts, see https://cloud.google.com/docs/authentication/\n",
      "  warnings.warn(_CLOUD_SDK_CREDENTIALS_WARNING)\n"
     ]
    }
   ],
   "source": [
    "df = pd.read_csv('gs://calitp-analytics-data/data-analyses/dla/e-76Obligated/clean_waiting_obligated.csv', low_memory=False)\n"
   ]
  },
  {
   "cell_type": "code",
   "execution_count": 4,
   "id": "221bcb1d-b0dd-4113-b254-c0e611d41dc5",
   "metadata": {},
   "outputs": [
    {
     "data": {
      "text/html": [
       "<div>\n",
       "<style scoped>\n",
       "    .dataframe tbody tr th:only-of-type {\n",
       "        vertical-align: middle;\n",
       "    }\n",
       "\n",
       "    .dataframe tbody tr th {\n",
       "        vertical-align: top;\n",
       "    }\n",
       "\n",
       "    .dataframe thead th {\n",
       "        text-align: right;\n",
       "    }\n",
       "</style>\n",
       "<table border=\"1\" class=\"dataframe\">\n",
       "  <thead>\n",
       "    <tr style=\"text-align: right;\">\n",
       "      <th></th>\n",
       "      <th>Unnamed: 0</th>\n",
       "      <th>location</th>\n",
       "      <th>prefix</th>\n",
       "      <th>project_no</th>\n",
       "      <th>agency</th>\n",
       "      <th>prepared_date</th>\n",
       "      <th>submit_to_hq_date</th>\n",
       "      <th>hq_review_date</th>\n",
       "      <th>submit_to_fhwa_date</th>\n",
       "      <th>to_fmis_date</th>\n",
       "      <th>fed_requested</th>\n",
       "      <th>ac_requested</th>\n",
       "      <th>total_requested</th>\n",
       "      <th>status_comment</th>\n",
       "      <th>locode</th>\n",
       "      <th>dist</th>\n",
       "      <th>status</th>\n",
       "      <th>dist_processing_days</th>\n",
       "      <th>hq_processing_days</th>\n",
       "      <th>fhwa_processing_days</th>\n",
       "      <th>ftip_no</th>\n",
       "      <th>project_location</th>\n",
       "      <th>type_of_work</th>\n",
       "      <th>seq</th>\n",
       "      <th>date_request_initiated</th>\n",
       "      <th>date_completed_request</th>\n",
       "      <th>mpo</th>\n",
       "      <th>warning</th>\n",
       "      <th>ProjectID</th>\n",
       "      <th>ProjectNO</th>\n",
       "      <th>projectID</th>\n",
       "      <th>projectNO</th>\n",
       "      <th>compare_id_locode</th>\n",
       "    </tr>\n",
       "  </thead>\n",
       "  <tbody>\n",
       "    <tr>\n",
       "      <th>0</th>\n",
       "      <td>0</td>\n",
       "      <td>Obligated</td>\n",
       "      <td>BPMP</td>\n",
       "      <td>5904(121)</td>\n",
       "      <td>Humboldt County</td>\n",
       "      <td>2018-12-18</td>\n",
       "      <td>2018-12-18</td>\n",
       "      <td>2018-12-18</td>\n",
       "      <td>2018-12-18</td>\n",
       "      <td>2018-12-27</td>\n",
       "      <td>0.00</td>\n",
       "      <td>0.00</td>\n",
       "      <td>0.00</td>\n",
       "      <td>Authorized</td>\n",
       "      <td>5904</td>\n",
       "      <td>1</td>\n",
       "      <td>E-76 approved on</td>\n",
       "      <td>NaN</td>\n",
       "      <td>0.00</td>\n",
       "      <td>9.00</td>\n",
       "      <td>HBPLOCAL</td>\n",
       "      <td>14 Bridges In Humboldt County</td>\n",
       "      <td>Bridge Preventive Maintenance - Deck Joints</td>\n",
       "      <td>3</td>\n",
       "      <td>NaN</td>\n",
       "      <td>NaN</td>\n",
       "      <td>NONMPO</td>\n",
       "      <td>NaN</td>\n",
       "      <td>5904</td>\n",
       "      <td>121</td>\n",
       "      <td>5904</td>\n",
       "      <td>121</td>\n",
       "      <td>True</td>\n",
       "    </tr>\n",
       "    <tr>\n",
       "      <th>1</th>\n",
       "      <td>1</td>\n",
       "      <td>Obligated</td>\n",
       "      <td>ER</td>\n",
       "      <td>32D0(008)</td>\n",
       "      <td>Mendocino County</td>\n",
       "      <td>2018-12-17</td>\n",
       "      <td>2018-12-19</td>\n",
       "      <td>2018-12-20</td>\n",
       "      <td>2018-12-20</td>\n",
       "      <td>2018-12-27</td>\n",
       "      <td>11508.00</td>\n",
       "      <td>0.00</td>\n",
       "      <td>13000.00</td>\n",
       "      <td>Authorized</td>\n",
       "      <td>5910</td>\n",
       "      <td>1</td>\n",
       "      <td>E-76 approved on</td>\n",
       "      <td>1.00</td>\n",
       "      <td>1.00</td>\n",
       "      <td>7.00</td>\n",
       "      <td>NaN</td>\n",
       "      <td>Comptche Ukiah Road, Cr 223 Pm 17.25</td>\n",
       "      <td>Permanent Restoration</td>\n",
       "      <td>3</td>\n",
       "      <td>2018-12-17</td>\n",
       "      <td>2018-12-18</td>\n",
       "      <td>NONMPO</td>\n",
       "      <td>NaN</td>\n",
       "      <td>32D0</td>\n",
       "      <td>8</td>\n",
       "      <td>32D0</td>\n",
       "      <td>8</td>\n",
       "      <td>False</td>\n",
       "    </tr>\n",
       "    <tr>\n",
       "      <th>2</th>\n",
       "      <td>2</td>\n",
       "      <td>Obligated</td>\n",
       "      <td>ER</td>\n",
       "      <td>4820(004)</td>\n",
       "      <td>Humboldt County</td>\n",
       "      <td>2018-12-07</td>\n",
       "      <td>2018-12-21</td>\n",
       "      <td>2018-12-21</td>\n",
       "      <td>2018-12-21</td>\n",
       "      <td>2018-12-27</td>\n",
       "      <td>45499.64</td>\n",
       "      <td>0.00</td>\n",
       "      <td>51394.58</td>\n",
       "      <td>Authorized</td>\n",
       "      <td>5904</td>\n",
       "      <td>1</td>\n",
       "      <td>E-76 approved on</td>\n",
       "      <td>14.00</td>\n",
       "      <td>0.00</td>\n",
       "      <td>6.00</td>\n",
       "      <td>NaN</td>\n",
       "      <td>Mattole Rd Pm 43.17</td>\n",
       "      <td>Permanent Restoration</td>\n",
       "      <td>5</td>\n",
       "      <td>2018-12-06</td>\n",
       "      <td>2018-12-07</td>\n",
       "      <td>NONMPO</td>\n",
       "      <td>NaN</td>\n",
       "      <td>4820</td>\n",
       "      <td>4</td>\n",
       "      <td>4820</td>\n",
       "      <td>4</td>\n",
       "      <td>False</td>\n",
       "    </tr>\n",
       "    <tr>\n",
       "      <th>3</th>\n",
       "      <td>3</td>\n",
       "      <td>Obligated</td>\n",
       "      <td>CML</td>\n",
       "      <td>5924(244)</td>\n",
       "      <td>Sacramento County</td>\n",
       "      <td>2018-12-11</td>\n",
       "      <td>2018-12-11</td>\n",
       "      <td>2018-12-21</td>\n",
       "      <td>2018-12-27</td>\n",
       "      <td>2018-12-27</td>\n",
       "      <td>207002.00</td>\n",
       "      <td>0.00</td>\n",
       "      <td>247002.00</td>\n",
       "      <td>Authorized</td>\n",
       "      <td>5924</td>\n",
       "      <td>3</td>\n",
       "      <td>E-76 approved on</td>\n",
       "      <td>4.00</td>\n",
       "      <td>16.00</td>\n",
       "      <td>0.00</td>\n",
       "      <td>SAC25086</td>\n",
       "      <td>Fair Oaks Blvd. Between Howe Ave And Munroe St</td>\n",
       "      <td>Create A Smart Growth Corridor With Barrier Se...</td>\n",
       "      <td>1</td>\n",
       "      <td>2018-12-07</td>\n",
       "      <td>2018-12-07</td>\n",
       "      <td>SACOG</td>\n",
       "      <td>NaN</td>\n",
       "      <td>5924</td>\n",
       "      <td>244</td>\n",
       "      <td>5924</td>\n",
       "      <td>244</td>\n",
       "      <td>True</td>\n",
       "    </tr>\n",
       "    <tr>\n",
       "      <th>4</th>\n",
       "      <td>4</td>\n",
       "      <td>Obligated</td>\n",
       "      <td>CML</td>\n",
       "      <td>5924(214)</td>\n",
       "      <td>Sacramento County</td>\n",
       "      <td>2018-12-05</td>\n",
       "      <td>2018-12-11</td>\n",
       "      <td>2018-12-21</td>\n",
       "      <td>2018-12-27</td>\n",
       "      <td>2018-12-27</td>\n",
       "      <td>0.00</td>\n",
       "      <td>5680921.00</td>\n",
       "      <td>5702041.00</td>\n",
       "      <td>Authorized</td>\n",
       "      <td>5924</td>\n",
       "      <td>3</td>\n",
       "      <td>E-76 approved on</td>\n",
       "      <td>7.00</td>\n",
       "      <td>16.00</td>\n",
       "      <td>0.00</td>\n",
       "      <td>SAC24753</td>\n",
       "      <td>Florin Rd Between Power Inn Rd. And Florin Per...</td>\n",
       "      <td>Streetscape (tc)</td>\n",
       "      <td>3</td>\n",
       "      <td>2018-11-28</td>\n",
       "      <td>2018-12-04</td>\n",
       "      <td>SACOG</td>\n",
       "      <td>NaN</td>\n",
       "      <td>5924</td>\n",
       "      <td>214</td>\n",
       "      <td>5924</td>\n",
       "      <td>214</td>\n",
       "      <td>True</td>\n",
       "    </tr>\n",
       "  </tbody>\n",
       "</table>\n",
       "</div>"
      ],
      "text/plain": [
       "   Unnamed: 0   location prefix project_no             agency prepared_date  \\\n",
       "0           0  Obligated   BPMP  5904(121)    Humboldt County    2018-12-18   \n",
       "1           1  Obligated     ER  32D0(008)   Mendocino County    2018-12-17   \n",
       "2           2  Obligated     ER  4820(004)    Humboldt County    2018-12-07   \n",
       "3           3  Obligated    CML  5924(244)  Sacramento County    2018-12-11   \n",
       "4           4  Obligated    CML  5924(214)  Sacramento County    2018-12-05   \n",
       "\n",
       "  submit_to_hq_date hq_review_date submit_to_fhwa_date to_fmis_date  \\\n",
       "0        2018-12-18     2018-12-18          2018-12-18   2018-12-27   \n",
       "1        2018-12-19     2018-12-20          2018-12-20   2018-12-27   \n",
       "2        2018-12-21     2018-12-21          2018-12-21   2018-12-27   \n",
       "3        2018-12-11     2018-12-21          2018-12-27   2018-12-27   \n",
       "4        2018-12-11     2018-12-21          2018-12-27   2018-12-27   \n",
       "\n",
       "   fed_requested  ac_requested  total_requested status_comment locode  dist  \\\n",
       "0           0.00          0.00             0.00     Authorized   5904     1   \n",
       "1       11508.00          0.00         13000.00     Authorized   5910     1   \n",
       "2       45499.64          0.00         51394.58     Authorized   5904     1   \n",
       "3      207002.00          0.00        247002.00     Authorized   5924     3   \n",
       "4           0.00    5680921.00       5702041.00     Authorized   5924     3   \n",
       "\n",
       "             status  dist_processing_days  hq_processing_days  \\\n",
       "0  E-76 approved on                   NaN                0.00   \n",
       "1  E-76 approved on                  1.00                1.00   \n",
       "2  E-76 approved on                 14.00                0.00   \n",
       "3  E-76 approved on                  4.00               16.00   \n",
       "4  E-76 approved on                  7.00               16.00   \n",
       "\n",
       "   fhwa_processing_days   ftip_no  \\\n",
       "0                  9.00  HBPLOCAL   \n",
       "1                  7.00       NaN   \n",
       "2                  6.00       NaN   \n",
       "3                  0.00  SAC25086   \n",
       "4                  0.00  SAC24753   \n",
       "\n",
       "                                    project_location  \\\n",
       "0                      14 Bridges In Humboldt County   \n",
       "1               Comptche Ukiah Road, Cr 223 Pm 17.25   \n",
       "2                                Mattole Rd Pm 43.17   \n",
       "3     Fair Oaks Blvd. Between Howe Ave And Munroe St   \n",
       "4  Florin Rd Between Power Inn Rd. And Florin Per...   \n",
       "\n",
       "                                        type_of_work  seq  \\\n",
       "0        Bridge Preventive Maintenance - Deck Joints    3   \n",
       "1                              Permanent Restoration    3   \n",
       "2                              Permanent Restoration    5   \n",
       "3  Create A Smart Growth Corridor With Barrier Se...    1   \n",
       "4                                   Streetscape (tc)    3   \n",
       "\n",
       "  date_request_initiated date_completed_request     mpo warning ProjectID  \\\n",
       "0                    NaN                    NaN  NONMPO     NaN      5904   \n",
       "1             2018-12-17             2018-12-18  NONMPO     NaN      32D0   \n",
       "2             2018-12-06             2018-12-07  NONMPO     NaN      4820   \n",
       "3             2018-12-07             2018-12-07   SACOG     NaN      5924   \n",
       "4             2018-11-28             2018-12-04   SACOG     NaN      5924   \n",
       "\n",
       "   ProjectNO projectID  projectNO  compare_id_locode  \n",
       "0        121      5904        121               True  \n",
       "1          8      32D0          8              False  \n",
       "2          4      4820          4              False  \n",
       "3        244      5924        244               True  \n",
       "4        214      5924        214               True  "
      ]
     },
     "execution_count": 4,
     "metadata": {},
     "output_type": "execute_result"
    }
   ],
   "source": [
    "df.head()"
   ]
  },
  {
   "cell_type": "code",
   "execution_count": 5,
   "id": "37faf3e3-4f6a-41cc-ab87-62c714957ded",
   "metadata": {},
   "outputs": [],
   "source": [
    "df_text = df[['agency', 'project_location', 'type_of_work']].copy()"
   ]
  },
  {
   "cell_type": "code",
   "execution_count": 7,
   "id": "9ef68afb-20d3-4577-9566-29a6ce05575a",
   "metadata": {},
   "outputs": [
    {
     "data": {
      "text/html": [
       "<div>\n",
       "<style scoped>\n",
       "    .dataframe tbody tr th:only-of-type {\n",
       "        vertical-align: middle;\n",
       "    }\n",
       "\n",
       "    .dataframe tbody tr th {\n",
       "        vertical-align: top;\n",
       "    }\n",
       "\n",
       "    .dataframe thead th {\n",
       "        text-align: right;\n",
       "    }\n",
       "</style>\n",
       "<table border=\"1\" class=\"dataframe\">\n",
       "  <thead>\n",
       "    <tr style=\"text-align: right;\">\n",
       "      <th></th>\n",
       "      <th>agency</th>\n",
       "      <th>project_location</th>\n",
       "      <th>type_of_work</th>\n",
       "    </tr>\n",
       "  </thead>\n",
       "  <tbody>\n",
       "    <tr>\n",
       "      <th>11470</th>\n",
       "      <td>Lafayette</td>\n",
       "      <td>Mt. Diablo Blvd.  Oak Hill -mt. View Dr.</td>\n",
       "      <td>Pedestrian Walkway Improvement</td>\n",
       "    </tr>\n",
       "    <tr>\n",
       "      <th>16458</th>\n",
       "      <td>San Diego County</td>\n",
       "      <td>Lawson Valley Road Over Lawson Creek, 57c0374</td>\n",
       "      <td>Bridge Replacement (tc)</td>\n",
       "    </tr>\n",
       "    <tr>\n",
       "      <th>6659</th>\n",
       "      <td>Santa Barbara County</td>\n",
       "      <td>Jalama Road Bridge 51c0013 At Sr 1 In Santa Ba...</td>\n",
       "      <td>Bridge Rehabilitation</td>\n",
       "    </tr>\n",
       "    <tr>\n",
       "      <th>18217</th>\n",
       "      <td>Selma</td>\n",
       "      <td>On Thompson Ave From Dinuba Ave To Rose Ave</td>\n",
       "      <td>Install Rectangular Rapid Flashing Beacons, Cr...</td>\n",
       "    </tr>\n",
       "    <tr>\n",
       "      <th>12986</th>\n",
       "      <td>Kerman</td>\n",
       "      <td>California Ave : Vineyard To California; May A...</td>\n",
       "      <td>Road Reconstruction (tc)</td>\n",
       "    </tr>\n",
       "  </tbody>\n",
       "</table>\n",
       "</div>"
      ],
      "text/plain": [
       "                     agency  \\\n",
       "11470             Lafayette   \n",
       "16458      San Diego County   \n",
       "6659   Santa Barbara County   \n",
       "18217                 Selma   \n",
       "12986                Kerman   \n",
       "\n",
       "                                        project_location  \\\n",
       "11470           Mt. Diablo Blvd.  Oak Hill -mt. View Dr.   \n",
       "16458      Lawson Valley Road Over Lawson Creek, 57c0374   \n",
       "6659   Jalama Road Bridge 51c0013 At Sr 1 In Santa Ba...   \n",
       "18217        On Thompson Ave From Dinuba Ave To Rose Ave   \n",
       "12986  California Ave : Vineyard To California; May A...   \n",
       "\n",
       "                                            type_of_work  \n",
       "11470                     Pedestrian Walkway Improvement  \n",
       "16458                            Bridge Replacement (tc)  \n",
       "6659                               Bridge Rehabilitation  \n",
       "18217  Install Rectangular Rapid Flashing Beacons, Cr...  \n",
       "12986                           Road Reconstruction (tc)  "
      ]
     },
     "execution_count": 7,
     "metadata": {},
     "output_type": "execute_result"
    }
   ],
   "source": [
    "df_text.sample(5)"
   ]
  },
  {
   "cell_type": "code",
   "execution_count": 8,
   "id": "5e32112f-e90a-4830-a473-83d92b84c12e",
   "metadata": {},
   "outputs": [
    {
     "data": {
      "text/plain": [
       "agency              object\n",
       "project_location    object\n",
       "type_of_work        object\n",
       "dtype: object"
      ]
     },
     "execution_count": 8,
     "metadata": {},
     "output_type": "execute_result"
    }
   ],
   "source": [
    "df_text.dtypes"
   ]
  },
  {
   "cell_type": "code",
   "execution_count": 9,
   "id": "3a0f8799-607e-4a92-ae6e-f97ff4f0c897",
   "metadata": {},
   "outputs": [
    {
     "data": {
      "text/plain": [
       "20445"
      ]
     },
     "execution_count": 9,
     "metadata": {},
     "output_type": "execute_result"
    }
   ],
   "source": [
    "len(df_text)"
   ]
  },
  {
   "cell_type": "markdown",
   "id": "57c2c0d0-3550-4de4-a0d1-9c77728131bc",
   "metadata": {},
   "source": [
    "## Installing text analysis tools"
   ]
  },
  {
   "cell_type": "code",
   "execution_count": 14,
   "id": "c72957d3-4b9f-4696-b5d5-a1699f669a28",
   "metadata": {},
   "outputs": [],
   "source": [
    "#!pip install nltk\n",
    "#! pip install textblob"
   ]
  },
  {
   "cell_type": "code",
   "execution_count": 15,
   "id": "5a4ae215-2320-4af5-a75c-c17930740c64",
   "metadata": {},
   "outputs": [],
   "source": [
    "import nltk\n",
    "from textblob import TextBlob\n",
    "from nltk.corpus import stopwords\n",
    "from nltk.tokenize import word_tokenize, sent_tokenize"
   ]
  },
  {
   "cell_type": "code",
   "execution_count": 26,
   "id": "9eee8169-887a-42ea-b404-fa0629957705",
   "metadata": {},
   "outputs": [],
   "source": [
    "import re"
   ]
  },
  {
   "cell_type": "code",
   "execution_count": 16,
   "id": "a152a435-57a5-483e-b1eb-54a4a45d65f6",
   "metadata": {},
   "outputs": [
    {
     "name": "stderr",
     "output_type": "stream",
     "text": [
      "[nltk_data] Downloading package stopwords to /home/jovyan/nltk_data...\n",
      "[nltk_data]   Package stopwords is already up-to-date!\n",
      "[nltk_data] Downloading package punkt to /home/jovyan/nltk_data...\n",
      "[nltk_data]   Package punkt is already up-to-date!\n"
     ]
    },
    {
     "data": {
      "text/plain": [
       "True"
      ]
     },
     "execution_count": 16,
     "metadata": {},
     "output_type": "execute_result"
    }
   ],
   "source": [
    "nltk.download('stopwords')\n",
    "nltk.download('punkt')"
   ]
  },
  {
   "cell_type": "code",
   "execution_count": 17,
   "id": "2b74e9d7-be88-42ff-b523-a878b364f3fc",
   "metadata": {},
   "outputs": [],
   "source": []
  },
  {
   "cell_type": "code",
   "execution_count": 18,
   "id": "53658b76-9235-4a87-aab3-6c35e66af8f8",
   "metadata": {},
   "outputs": [],
   "source": [
    "df_type_of_work_only = df_text[['type_of_work']]"
   ]
  },
  {
   "cell_type": "code",
   "execution_count": 19,
   "id": "fc3007c1-cf10-41ed-8ebd-63a94a48734f",
   "metadata": {},
   "outputs": [],
   "source": [
    "work_series = df_type_of_work_only.squeeze()"
   ]
  },
  {
   "cell_type": "code",
   "execution_count": 23,
   "id": "4c00febc-6253-4223-8a95-53fac2c8fd3d",
   "metadata": {},
   "outputs": [
    {
     "name": "stdout",
     "output_type": "stream",
     "text": [
      "0              Bridge Preventive Maintenance - Deck Joints\n",
      "1                                    Permanent Restoration\n",
      "2                                    Permanent Restoration\n",
      "3        Create A Smart Growth Corridor With Barrier Se...\n",
      "4                                         Streetscape (tc)\n",
      "                               ...                        \n",
      "20440                                Bus Stops Improvement\n",
      "20441            Electronic Locker Upgrade And Replacement\n",
      "20442              Quick Builds And Tempo Lane Delineation\n",
      "20443          Fhwa Transfer: Corridor Management Planning\n",
      "20444                             Guardrail Var. Locations\n",
      "Name: type_of_work, Length: 20445, dtype: object\n"
     ]
    }
   ],
   "source": [
    "print(work_series)"
   ]
  },
  {
   "cell_type": "code",
   "execution_count": null,
   "id": "7fcf6a9f-aa0c-439f-8599-ef3bf63185f5",
   "metadata": {},
   "outputs": [],
   "source": []
  },
  {
   "cell_type": "code",
   "execution_count": 27,
   "id": "bf2a5177-fa5b-4f07-93b2-93a1f4209a67",
   "metadata": {},
   "outputs": [],
   "source": [
    "def clean_string(text):\n",
    "    text = re.sub(r\"[^A-z\\s]\", \"\", text)\n",
    "    swords = [re.sub(r\"[^A-z\\s]\", \"\", sword) for sword in stopwords.words('english')]\n",
    "    \n",
    "    cleaned_list_of_words = [word for word in word_tokenize(text.lower()) if word not in swords]\n",
    "\n",
    "    return cleaned_list_of_words"
   ]
  },
  {
   "cell_type": "code",
   "execution_count": 28,
   "id": "8fc93b9c-9f7e-4b41-a914-128b468f723c",
   "metadata": {},
   "outputs": [],
   "source": [
    "work_series_clean = work_series.apply(clean_string)"
   ]
  },
  {
   "cell_type": "code",
   "execution_count": 29,
   "id": "3a954469-1722-482d-86be-b993d3546a4d",
   "metadata": {},
   "outputs": [
    {
     "name": "stdout",
     "output_type": "stream",
     "text": [
      "0          [bridge, preventive, maintenance, deck, joints]\n",
      "1                                 [permanent, restoration]\n",
      "2                                 [permanent, restoration]\n",
      "3        [create, smart, growth, corridor, barrier, sep...\n",
      "4                                        [streetscape, tc]\n",
      "                               ...                        \n",
      "20440                            [bus, stops, improvement]\n",
      "20441           [electronic, locker, upgrade, replacement]\n",
      "20442            [quick, builds, tempo, lane, delineation]\n",
      "20443     [fhwa, transfer, corridor, management, planning]\n",
      "20444                          [guardrail, var, locations]\n",
      "Name: type_of_work, Length: 20445, dtype: object\n"
     ]
    }
   ],
   "source": [
    "print(work_series_clean)"
   ]
  },
  {
   "cell_type": "code",
   "execution_count": 33,
   "id": "4abf1d96-138d-44a1-a9ef-c5ab60485f3b",
   "metadata": {},
   "outputs": [],
   "source": [
    "#next: get list of words from this series.\n"
   ]
  },
  {
   "cell_type": "code",
   "execution_count": null,
   "id": "fbf84f3d-7443-467e-8c0d-8de55ecdd310",
   "metadata": {},
   "outputs": [],
   "source": []
  }
 ],
 "metadata": {
  "kernelspec": {
   "display_name": "Python 3 (ipykernel)",
   "language": "python",
   "name": "python3"
  },
  "language_info": {
   "codemirror_mode": {
    "name": "ipython",
    "version": 3
   },
   "file_extension": ".py",
   "mimetype": "text/x-python",
   "name": "python",
   "nbconvert_exporter": "python",
   "pygments_lexer": "ipython3",
   "version": "3.9.7"
  }
 },
 "nbformat": 4,
 "nbformat_minor": 5
}
