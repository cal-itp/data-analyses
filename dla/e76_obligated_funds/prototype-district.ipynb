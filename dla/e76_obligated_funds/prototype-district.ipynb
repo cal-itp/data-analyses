{
 "cells": [
  {
   "cell_type": "code",
   "execution_count": null,
   "id": "d700fcdf-b768-4344-b733-055262b65052",
   "metadata": {},
   "outputs": [],
   "source": [
    "#import warnings\n",
    "#warnings.filterwarnings(\"ignore\")\n",
    "\n",
    "import altair as alt\n",
    "import pandas as pd\n",
    "\n",
    "from siuba import *\n",
    "from IPython.display import Markdown\n",
    "\n",
    "\n",
    "import _clean_data\n",
    "import _dla_utils\n",
    "from shared_utils import styleguide, geography_utils\n",
    "from shared_utils import calitp_color_palette as cp\n",
    "\n",
    "alt.themes.register(\"calitp_theme\", styleguide.calitp_theme)\n",
    "# enable\n",
    "alt.themes.enable(\"calitp_theme\")"
   ]
  },
  {
   "cell_type": "code",
   "execution_count": null,
   "id": "2218ba6e-f0ce-4d2f-a871-54e84444bb6b",
   "metadata": {
    "tags": [
     "parameters"
    ]
   },
   "outputs": [],
   "source": [
    "# Need to get a parameters cell\n",
    "district = 7"
   ]
  },
  {
   "cell_type": "code",
   "execution_count": null,
   "id": "6a934a94-2f8f-400c-b563-f7738d58308f",
   "metadata": {},
   "outputs": [],
   "source": [
    "display(Markdown(f\"# District {district} Analysis\"))"
   ]
  },
  {
   "cell_type": "code",
   "execution_count": null,
   "id": "24df8233-4749-4370-93d1-aeb8cb2d5285",
   "metadata": {},
   "outputs": [],
   "source": [
    "ACTIVE_TRANSPORTATION = ['bike', 'bicycle', 'cyclist', \n",
    "                         'pedestrian', 'crosswalk', \n",
    "                         'bulb out', 'bulb-out', \n",
    "                         'active transp', 'traffic reduction', \n",
    "                         'speed reduction', \n",
    "                        ]\n",
    "TRANSIT = ['bus', 'metro', 'station', 'transit']\n",
    "BRIDGE = [\"bridge\", 'viaduct']\n",
    "\n",
    "NOT_TRANSIT = ['fueling', 'charging', 'chg']\n",
    "    \n",
    "def categorize_project_descriptions(row):\n",
    "    \"\"\"\n",
    "    This function takes a individual type of work description (row of a dataframe)\n",
    "    and returns a dummy flag of 1 if it finds keyword present in\n",
    "    project categories (active transportation, transit, bridge, etc).\n",
    "    A description can contain multiple keywords across categories.\n",
    "    \"\"\"\n",
    "    # Make lowercase\n",
    "    description = row.type_of_work.lower()\n",
    "    \n",
    "    # Store a bunch of columns that will be flagged\n",
    "    # A project can involve multiple things...also, not sure what's in the descriptions\n",
    "    active_transp = 0\n",
    "    transit = 0\n",
    "    bridge = 0\n",
    "    \n",
    "    if any(word in description for word in ACTIVE_TRANSPORTATION):\n",
    "        active_transp = 1\n",
    "    \n",
    "    if (any(word in description for word in TRANSIT) and \n",
    "        not any(exclude_word in description for exclude_word in NOT_TRANSIT)\n",
    "       ):\n",
    "        transit = 1\n",
    "        \n",
    "    if any(word in description for word in BRIDGE):\n",
    "        bridge = 1\n",
    "        \n",
    "    return pd.Series(\n",
    "        [active_transp, transit, bridge], \n",
    "        index=['active_transp', 'transit', 'bridge']\n",
    "    )"
   ]
  },
  {
   "cell_type": "code",
   "execution_count": null,
   "id": "f63cc2be-bc7d-4e09-ba55-e15c2ce95d60",
   "metadata": {},
   "outputs": [],
   "source": [
    "#df = _clean_data.make_clean_data()\n",
    "df= pd.read_parquet(\"dla_df.parquet\")\n",
    "\n",
    "df = df>>filter(_.dist==district)"
   ]
  },
  {
   "cell_type": "markdown",
   "id": "321a3ba3-fb76-47f5-bbaa-61f078baa755",
   "metadata": {},
   "source": [
    "Some of these additional data wrangling steps might be able to be moved into a script."
   ]
  },
  {
   "cell_type": "code",
   "execution_count": null,
   "id": "b1c02ed2-eabb-416c-bb8a-029ebe75691a",
   "metadata": {},
   "outputs": [],
   "source": [
    "work_categories = df.apply(categorize_project_descriptions, axis=1)\n",
    "df = pd.concat([df, work_categories], axis=1)\n",
    "\n",
    "df = df.assign(\n",
    "    prepared_y = df.prepared_y.astype(\"Int64\"),\n",
    "    processing_days = df[[\"dist_processing_days\", \"hq_processing_days\", \n",
    "                          \"fhwa_processing_days\"]].sum(axis=1)\n",
    ")"
   ]
  },
  {
   "cell_type": "code",
   "execution_count": null,
   "id": "332a0b65-26b4-42e6-a896-bbce31a1308e",
   "metadata": {},
   "outputs": [],
   "source": [
    "df_years = _dla_utils.count_all_years(df)\n",
    "df_top = _dla_utils.find_top(df)"
   ]
  },
  {
   "cell_type": "code",
   "execution_count": null,
   "id": "d156ab8d-0a0b-454b-a0ff-f202f891e71d",
   "metadata": {},
   "outputs": [],
   "source": [
    "# Add this chart function to take out saving it for now...display directly\n",
    "def labeling(word):\n",
    "    # Add specific use cases where it's not just first letter capitalized\n",
    "    LABEL_DICT = { \"prepared_y\": \"Year\",\n",
    "              \"dist\": \"District\",\n",
    "              \"total_requested\": \"Total Requested\",\n",
    "              \"fed_requested\":\"Fed Requested\",\n",
    "              \"ac_requested\": \"Advance Construction Requested\",\n",
    "              \"nunique\":\"Number of Unique\",\n",
    "              \"project_no\": \"Project Number\"}\n",
    "    \n",
    "    if (word == \"mpo\") or (word == \"rtpa\"):\n",
    "        word = word.upper()\n",
    "    elif word in LABEL_DICT.keys():\n",
    "        word = LABEL_DICT[word]\n",
    "    else:\n",
    "        word = word.replace('n_', 'Number of ').title()\n",
    "        word = word.replace('unique_', \"Number of Unique \").title()\n",
    "        word = word.replace('_', ' ').title()\n",
    "    \n",
    "    return word\n",
    "\n",
    "def basic_bar_chart(df, x_col, y_col):\n",
    "    \n",
    "    chart = (alt.Chart(df)\n",
    "             .mark_bar()\n",
    "             .encode(\n",
    "                 x=alt.X(f\"{x_col}:N\", title=labeling(x_col), sort=('-y')),\n",
    "                 y=alt.Y(f\"{y_col}:N\", title=labeling(y_col)),\n",
    "                 color = alt.Color(y_col,\n",
    "                                  scale=alt.Scale(\n",
    "                                      range=cp.CALITP_SEQUENTIAL_COLORS),\n",
    "                                      legend=alt.Legend(title=(labeling(y_col)))\n",
    "                                  ),\n",
    "                 tooltip=alt.Tooltip([x_col, y_col])\n",
    "             )\n",
    "             .properties( \n",
    "                          title=f\"Highest {labeling(x_col)} by {labeling(y_col)}\")\n",
    "    )\n",
    "\n",
    "    chart=styleguide.preset_chart_config(chart)\n",
    "    display(chart)"
   ]
  },
  {
   "cell_type": "code",
   "execution_count": null,
   "id": "80ecbf83-0377-42c7-bcd4-aff3cd340fbb",
   "metadata": {},
   "outputs": [],
   "source": [
    "unique_agencies = (_dla_utils.calculate_data_all(df, 'primary_agency_name', \n",
    "                                                 aggfunc=\"nunique\") \n",
    "                   .primary_agency_name.iloc[0]\n",
    ")\n",
    "\n",
    "display(\n",
    "    Markdown(f\"## Obligations\"),\n",
    "    Markdown(f\"There are {unique_agencies} unique agencies in District {district}.\")\n",
    ")"
   ]
  },
  {
   "cell_type": "code",
   "execution_count": null,
   "id": "4a097627-99b6-4918-8036-25d9d66d8c3a",
   "metadata": {},
   "outputs": [],
   "source": [
    "display(\n",
    "    Markdown(\"### Agencies with the Most Obligations\")\n",
    ")\n",
    "\n",
    "#filter_relabel(df_top, \"primary_agency_name\")"
   ]
  },
  {
   "cell_type": "code",
   "execution_count": null,
   "id": "06f56c01-f363-4cc1-9ba9-0d67b9f77e8f",
   "metadata": {},
   "outputs": [],
   "source": [
    "def make_funding_long(df, work_categories_list):\n",
    "    funding_cols = [\n",
    "        'adjusted_total_requested', 'adjusted_fed_requested', 'adjusted_ac_requested'\n",
    "    ]\n",
    "    \n",
    "    final = pd.DataFrame()\n",
    "    \n",
    "    # Since categories are not mutually exclusive, loop over the columns to include\n",
    "    # and create a new df that is long\n",
    "    for i in work_categories_list:\n",
    "        subset = df[df[i]==1]\n",
    "        agg_df = geography_utils.aggregate_by_geography(\n",
    "            subset,\n",
    "            group_cols = ['prepared_y'],\n",
    "            sum_cols = funding_cols,\n",
    "            count_cols = ['project_no'],\n",
    "            mean_cols = [\"processing_days\"],\n",
    "        )\n",
    "        agg_df = agg_df.assign(\n",
    "            work_category = i\n",
    "        )\n",
    "        \n",
    "        for c in funding_cols:\n",
    "            new_var = f\"mean_{c}\"\n",
    "            agg_df[new_var] = agg_df[c] / agg_df.project_no\n",
    "        \n",
    "        final = pd.concat([final, agg_df], axis=0, ignore_index=True)\n",
    "    \n",
    "    final = (final[final.prepared_y.notna()]\n",
    "             .reset_index(drop=True)\n",
    "             \n",
    "             .astype({\"project_no\": \"int64\"}))\n",
    "             \n",
    "    return final"
   ]
  },
  {
   "cell_type": "code",
   "execution_count": null,
   "id": "bc8bfc87-b502-493b-86a2-6ecd2bca7853",
   "metadata": {},
   "outputs": [],
   "source": [
    "by_work_categories = make_funding_long(df, list(work_categories.columns))\n",
    "\n",
    "by_work_categories.head(2) "
   ]
  },
  {
   "cell_type": "code",
   "execution_count": null,
   "id": "93b39037-ae2b-4d9c-9446-45b2f5d62961",
   "metadata": {},
   "outputs": [],
   "source": [
    "category_cols = [\"active_transp\", \"transit\", \"bridge\"]\n",
    "MAX_Y = (df.groupby([\"prepared_y\"] + category_cols)\n",
    "         .agg({\"total_requested\":\"sum\"})\n",
    "         .reset_index()\n",
    "        )[[\"total_requested\"]].max()[0]\n",
    "MAX_Y"
   ]
  },
  {
   "cell_type": "code",
   "execution_count": null,
   "id": "af6e48bd-b9fe-4d94-b966-801de62fd635",
   "metadata": {},
   "outputs": [],
   "source": [
    "from altair import datum\n",
    "\n",
    "#https://stackoverflow.com/questions/61194028/adding-labels-at-end-of-line-chart-in-altair\n",
    "# Might have to pull each additional line to visualize, then add label at end of line\n",
    "# For legend to have encoding, dataset needs to be long\n",
    "# Since each project can be tagged as several, making long dataset would require \n",
    "# additional step to create this new aggregated df, not a simple pivot from wide to long.\n",
    "def line_chart(df):\n",
    "    category_cols = [\"active_transp\", \"transit\", \"bridge\"]\n",
    "    MAX_Y = (df.groupby([\"prepared_y\"] + category_cols)\n",
    "             .agg({\"total_requested\":\"sum\"})\n",
    "             .reset_index()\n",
    "            )[[\"total_requested\"]].max()[0]\n",
    "    \n",
    "    \n",
    "    base = (alt.Chart(df)\n",
    "        .mark_line()\n",
    "        .encode(\n",
    "            x=alt.X(\"year(prepared_date):O\", title=\"Year\"),\n",
    "            y=alt.Y(\"sum(total_requested):Q\", title=\"Total Requested (2021$)\", \n",
    "                   scale=alt.Scale(domain=[0, 400_000_000])), \n",
    "        )\n",
    "       )\n",
    "    \n",
    "    active = (base\n",
    "             .encode(color=alt.value(\"blue\"),\n",
    "             ).transform_filter(datum.active_transp == 1)\n",
    "            )\n",
    "    \n",
    "    transit = (base\n",
    "             .encode(color=alt.value(\"green\"),\n",
    "             ).transform_filter(datum.transit == 1)\n",
    "            )\n",
    "    \n",
    "    bridge = (base\n",
    "             .encode(color=alt.value(\"orange\"),\n",
    "             ).transform_filter(datum.bridge == 1)\n",
    "            )\n",
    "    \n",
    "    chart = (active + transit + bridge)\n",
    "    return chart"
   ]
  },
  {
   "cell_type": "code",
   "execution_count": null,
   "id": "2210da0c-c2e5-4d1c-9a2a-e805cc30cfe8",
   "metadata": {},
   "outputs": [],
   "source": [
    "#line_chart(df)"
   ]
  },
  {
   "cell_type": "code",
   "execution_count": null,
   "id": "dcbe9a2e-d8f3-450c-86dd-fcff541ae573",
   "metadata": {},
   "outputs": [],
   "source": [
    "def line_chart2(df, y_col):\n",
    "    chart = (alt.Chart(df)\n",
    "             .mark_line()\n",
    "             .encode(\n",
    "                 x=alt.X(\"prepared_y:O\", title=\"Year\"),\n",
    "                 y=alt.Y(f\"sum({y_col}):Q\", title=y_col, \n",
    "                        scale=alt.Scale(domain=[0, \n",
    "                                                by_work_categories[y_col].max()\n",
    "                                               ])\n",
    "                        ),\n",
    "                 color=alt.Color(\"work_category:N\")\n",
    "             )\n",
    "    )\n",
    "    \n",
    "    chart = styleguide.preset_chart_config(chart)\n",
    "    return chart"
   ]
  },
  {
   "cell_type": "code",
   "execution_count": null,
   "id": "3c77e432-1b20-42e6-b095-adde3da5edd8",
   "metadata": {},
   "outputs": [],
   "source": [
    "line_chart2(by_work_categories, \"mean_adjusted_total_requested\")"
   ]
  },
  {
   "cell_type": "code",
   "execution_count": null,
   "id": "14a01bf9-134a-4604-8549-9d882038fe5d",
   "metadata": {},
   "outputs": [],
   "source": [
    "def basic_bar_chart(df, x_col, y_col, title=\"\"):\n",
    "    if title == \"\":\n",
    "        title = f\"Highest {labeling(x_col)} by {labeling(y_col)}\"\n",
    "    chart = (alt.Chart(df)\n",
    "             .mark_bar()\n",
    "             .encode(\n",
    "                 x=alt.X(f\"{x_col}:N\", title=labeling(x_col), sort=('-y')),\n",
    "                 y=alt.Y(f\"{y_col}:Q\", title=labeling(y_col)),\n",
    "                 color = alt.Color(y_col,\n",
    "                                  scale=alt.Scale(\n",
    "                                      range=cp.CALITP_SEQUENTIAL_COLORS),\n",
    "                                      legend=alt.Legend(title=(labeling(y_col)))\n",
    "                                  ),\n",
    "                 tooltip=alt.Tooltip([x_col, y_col])\n",
    "             )\n",
    "             .properties(title= title)\n",
    "    )\n",
    "\n",
    "    chart=styleguide.preset_chart_config(chart)\n",
    "    display(chart)\n",
    "    \n",
    "# Subset data\n",
    "basic_bar_chart(df_top[df_top.variable==\"prefix\"], \"value\", \"count\", \n",
    "                title=\"Top 20 Prefixes\")\n",
    "\n",
    "basic_bar_chart(df_top[df_top.variable==\"primary_agency_name\"], \"value\", \"count\", \n",
    "                title=\"Top 20 Primary Agencies\")"
   ]
  }
 ],
 "metadata": {
  "kernelspec": {
   "display_name": "Python 3 (ipykernel)",
   "language": "python",
   "name": "python3"
  },
  "language_info": {
   "codemirror_mode": {
    "name": "ipython",
    "version": 3
   },
   "file_extension": ".py",
   "mimetype": "text/x-python",
   "name": "python",
   "nbconvert_exporter": "python",
   "pygments_lexer": "ipython3",
   "version": "3.9.10"
  },
  "widgets": {
   "application/vnd.jupyter.widget-state+json": {
    "state": {},
    "version_major": 2,
    "version_minor": 0
   }
  }
 },
 "nbformat": 4,
 "nbformat_minor": 5
}
