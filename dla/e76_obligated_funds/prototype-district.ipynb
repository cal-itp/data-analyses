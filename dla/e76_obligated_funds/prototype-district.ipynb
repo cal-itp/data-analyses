{
 "cells": [
  {
   "cell_type": "code",
   "execution_count": null,
   "id": "1ce50193-bba7-4b84-b142-689dfa8b86da",
   "metadata": {},
   "outputs": [],
   "source": [
    "import warnings\n",
    "warnings.filterwarnings(\"ignore\")\n",
    "\n",
    "import altair as alt\n",
    "import altair_saver\n",
    "import pandas as pd\n",
    "\n",
    "from siuba import *\n",
    "from IPython.display import Markdown\n",
    "\n",
    "import clean_data\n",
    "import _dla_utils\n",
    "from shared_utils import styleguide\n",
    "from shared_utils import calitp_color_palette as cp\n",
    "\n",
    "alt.renderers.enable('altair_saver', fmts=['png'])"
   ]
  },
  {
   "cell_type": "code",
   "execution_count": null,
   "id": "09b1e59a-8573-4700-8d42-6bd02dc11413",
   "metadata": {
    "tags": [
     "parameters"
    ]
   },
   "outputs": [],
   "source": [
    "# Need to get a parameters cell\n",
    "district = 7"
   ]
  },
  {
   "cell_type": "code",
   "execution_count": null,
   "id": "25b0de95-bf25-488c-b4fd-cc6549c7efbc",
   "metadata": {},
   "outputs": [],
   "source": [
    "display(Markdown(f\"# District {district} Analysis\"))"
   ]
  },
  {
   "cell_type": "code",
   "execution_count": null,
   "id": "4988e91f-c869-48cd-9d4b-3bb504f67d81",
   "metadata": {
    "scrolled": true,
    "tags": []
   },
   "outputs": [],
   "source": [
    "#df = _clean_data.make_clean_data()\n",
    "df= pd.read_parquet(\"dla_df.parquet\")\n",
    "\n",
    "df = df>>filter(_.dist==district)\n",
    "\n",
    "df_years = _dla_utils.count_all_years(df)\n",
    "df_top = _dla_utils.find_top(df)"
   ]
  },
  {
   "cell_type": "code",
   "execution_count": null,
   "id": "4820ceaf-4ffb-4fa6-a190-a10d126b434d",
   "metadata": {},
   "outputs": [],
   "source": [
    "# Relabel the long df\n",
    "# Filter by it, then relabel \"value\" column to be the variable\n",
    "def filter_relabel(df, variable):\n",
    "    col_name = variable.replace('_', ' ').title()\n",
    "    df = (df[df.variable==variable]\n",
    "          [[\"value\", \"count\"]]\n",
    "          .rename(columns = {\"value\": col_name})\n",
    "         )\n",
    "    \n",
    "    display(df)"
   ]
  },
  {
   "cell_type": "code",
   "execution_count": null,
   "id": "f2538488-dc93-46de-aa3b-6c496e3508b4",
   "metadata": {},
   "outputs": [],
   "source": [
    "# Add this chart function to take out saving it for now...display directly\n",
    "def labeling(word):\n",
    "    # Add specific use cases where it's not just first letter capitalized\n",
    "    LABEL_DICT = { \"prepared_y\": \"Year\",\n",
    "              \"dist\": \"District\",\n",
    "              \"total_requested\": \"Total Requested\",\n",
    "              \"fed_requested\":\"Fed Requested\",\n",
    "              \"ac_requested\": \"Advance Construction Requested\",\n",
    "              \"nunique\":\"Number of Unique\",\n",
    "              \"project_no\": \"Project Number\"}\n",
    "    \n",
    "    if (word == \"mpo\") or (word == \"rtpa\"):\n",
    "        word = word.upper()\n",
    "    elif word in LABEL_DICT.keys():\n",
    "        word = LABEL_DICT[word]\n",
    "    else:\n",
    "        word = word.replace('n_', 'Number of ').title()\n",
    "        word = word.replace('unique_', \"Number of Unique \").title()\n",
    "        word = word.replace('_', ' ').title()\n",
    "    \n",
    "    return word\n",
    "\n",
    "def basic_bar_chart(df, x_col, y_col):\n",
    "    \n",
    "    chart = (alt.Chart(df)\n",
    "             .mark_bar()\n",
    "             .encode(\n",
    "                 x=alt.X(x_col, title=labeling(x_col), sort=('-y')),\n",
    "                 y=alt.Y(y_col, title=labeling(y_col)),\n",
    "                 #column = \"payment:N\",\n",
    "                 color = alt.Color(y_col,\n",
    "                                  scale=alt.Scale(\n",
    "                                      range=cp.CALITP_SEQUENTIAL_COLORS),\n",
    "                                      legend=alt.Legend(title=(labeling(y_col)))\n",
    "                                  ))\n",
    "             .properties( \n",
    "                          title=f\"Highest {labeling(x_col)} by {labeling(y_col)}\")\n",
    "    )\n",
    "\n",
    "    chart=styleguide.preset_chart_config(chart)\n",
    "    display(chart)"
   ]
  },
  {
   "cell_type": "code",
   "execution_count": null,
   "id": "0cfc624b-3a71-4891-88b7-5d4e053bb68c",
   "metadata": {},
   "outputs": [],
   "source": [
    "unique_agencies = (_dla_utils.calculate_data_all(df, 'primary_agency_name', \n",
    "                                                 aggfunc=\"nunique\") \n",
    "                   .primary_agency_name.iloc[0]\n",
    ")\n",
    "\n",
    "display(\n",
    "    Markdown(f\"## Obligations\"),\n",
    "    Markdown(f\"There are {unique_agencies} unique agencies in District {district}.\")\n",
    ")"
   ]
  },
  {
   "cell_type": "code",
   "execution_count": null,
   "id": "c4147782-45a7-4e01-8731-b7eb1d81411c",
   "metadata": {},
   "outputs": [],
   "source": [
    "display(\n",
    "    Markdown(\"### Agencies with the Most Obligations\")\n",
    ")\n",
    "\n",
    "filter_relabel(df_top, \"primary_agency_name\")"
   ]
  },
  {
   "cell_type": "code",
   "execution_count": null,
   "id": "12b78cb1-eaa5-466d-b325-6db278044708",
   "metadata": {},
   "outputs": [],
   "source": [
    "display_cols = [\"prefix\", \n",
    "                \"type_of_work\", \"project_location\"]\n",
    "for c in display_cols:\n",
    "    header = c.replace('_', ' ').title()\n",
    "    display(Markdown(f\"### {header}\"))\n",
    "    \n",
    "    # Subset data\n",
    "    subset = (df_top >> filter(_.variable==c))\n",
    "    \n",
    "\n",
    "    by_primary_agency = (df >> group_by(_.primary_agency_name)\n",
    "                         >> count(_[c])\n",
    "                         >> arrange(-_.n)\n",
    "                        ).rename(\n",
    "        columns = {\"primary_agency_name\": \"Primary Agency Name\"}\n",
    "    ).reset_index(drop=True)\n",
    "    \n",
    "    basic_bar_chart(subset, 'value', 'count')\n",
    "    \n",
    "    print(\"#### Some other header for subset df\")\n",
    "    filter_relabel(subset, c)\n",
    "    \n",
    "    print(f\"#### Top 10 {header} by Primary Agency\")\n",
    "    display(by_primary_agency.head(10))"
   ]
  },
  {
   "cell_type": "code",
   "execution_count": null,
   "id": "073ee648-e043-4fdf-93e9-0c5b4162b6ba",
   "metadata": {},
   "outputs": [],
   "source": []
  }
 ],
 "metadata": {
  "kernelspec": {
   "display_name": "Python 3 (ipykernel)",
   "language": "python",
   "name": "python3"
  },
  "language_info": {
   "codemirror_mode": {
    "name": "ipython",
    "version": 3
   },
   "file_extension": ".py",
   "mimetype": "text/x-python",
   "name": "python",
   "nbconvert_exporter": "python",
   "pygments_lexer": "ipython3",
   "version": "3.9.7"
  },
  "widgets": {
   "application/vnd.jupyter.widget-state+json": {
    "state": {},
    "version_major": 2,
    "version_minor": 0
   }
  }
 },
 "nbformat": 4,
 "nbformat_minor": 5
}
