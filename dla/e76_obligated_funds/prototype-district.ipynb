{
 "cells": [
  {
   "cell_type": "markdown",
   "id": "ad2653c5-3725-452f-bfac-d689d5f5877c",
   "metadata": {},
   "source": [
    "# District {district} ({district_name})\n",
    "\n",
    "1. Unique obligations at district-level, summary sentence\n",
    "1. Top agencies / core customers\n",
    "1. Top prefixes / core customers\n",
    "1. Type of work, ~5 main categories, show breakdown of spending and number of projects (aggregate values, inflation-adjusted). Need to think of normalizing to % is worthwhile"
   ]
  },
  {
   "cell_type": "code",
   "execution_count": null,
   "id": "1ce50193-bba7-4b84-b142-689dfa8b86da",
   "metadata": {
    "pycharm": {
     "is_executing": true
    },
    "tags": []
   },
   "outputs": [],
   "source": [
    "%%capture\n",
    "import warnings\n",
    "\n",
    "warnings.filterwarnings(\"ignore\")\n",
    "\n",
    "import altair as alt\n",
    "import pandas as pd\n",
    "from IPython.display import Markdown\n",
    "from shared_utils import calitp_color_palette as cp\n",
    "from shared_utils import geography_utils, styleguide\n",
    "from siuba import *\n",
    "\n",
    "import _dla_utils\n",
    "\n",
    "alt.themes.register(\"calitp_theme\", styleguide.calitp_theme)\n",
    "# enable\n",
    "alt.themes.enable(\"calitp_theme\")"
   ]
  },
  {
   "cell_type": "code",
   "execution_count": null,
   "id": "09b1e59a-8573-4700-8d42-6bd02dc11413",
   "metadata": {
    "tags": [
     "parameters"
    ]
   },
   "outputs": [],
   "source": [
    "# Need to get a parameters cell\n",
    "district = 7"
   ]
  },
  {
   "cell_type": "code",
   "execution_count": null,
   "id": "30e608de-9f92-492a-b283-0ce388453381",
   "metadata": {},
   "outputs": [],
   "source": [
    "df = pd.read_parquet(\"dla_df.parquet\")\n",
    "\n",
    "df = df >> filter(_.dist == district)"
   ]
  },
  {
   "cell_type": "markdown",
   "id": "4b5805e9-66b2-422a-b02b-4582a6a543ea",
   "metadata": {},
   "source": [
    "## Data Wrangling\n",
    "\n",
    "Some of these additional data wrangling steps might be able to be moved into a script.\n",
    "\n",
    "The wrangling specific to making a chart in `altair` can be left in notebook, but any data processing that is done on the entire dataset should be moved off."
   ]
  },
  {
   "cell_type": "code",
   "execution_count": null,
   "id": "ed8ad7b1-4cdd-45d8-875c-68dd9deb5410",
   "metadata": {},
   "outputs": [],
   "source": [
    "df = df.assign(\n",
    "    prepared_y=df.prepared_y.astype(\"Int64\"),\n",
    "    processing_days=df[\n",
    "        [\"dist_processing_days\", \"hq_processing_days\", \"fhwa_processing_days\"]\n",
    "    ].sum(axis=1),\n",
    ")\n",
    "df = df[df[\"prepared_y\"].notna()]\n",
    "# df[df[\"\"].isna()].head()"
   ]
  },
  {
   "cell_type": "code",
   "execution_count": null,
   "id": "4988e91f-c869-48cd-9d4b-3bb504f67d81",
   "metadata": {
    "tags": []
   },
   "outputs": [],
   "source": [
    "df_years = _dla_utils.count_all_years(df)\n",
    "df_top = _dla_utils.find_top(df)"
   ]
  },
  {
   "cell_type": "markdown",
   "id": "22ed37b6",
   "metadata": {
    "pycharm": {
     "name": "#%% md\n"
    }
   },
   "source": [
    "## Obligations"
   ]
  },
  {
   "cell_type": "code",
   "execution_count": null,
   "id": "0cfc624b-3a71-4891-88b7-5d4e053bb68c",
   "metadata": {},
   "outputs": [],
   "source": [
    "unique_agencies = _dla_utils.calculate_data_all(\n",
    "    df, \"primary_agency_name\", aggfunc=\"nunique\"\n",
    ").primary_agency_name.iloc[0]\n",
    "\n",
    "display(\n",
    "    Markdown(f\"There are {unique_agencies} unique agencies in District {district}.\")\n",
    ")"
   ]
  },
  {
   "cell_type": "markdown",
   "id": "fc33ea57-4eb8-4e45-bd1e-b5a4bbba81d5",
   "metadata": {},
   "source": [
    "### Core Customers\n",
    "\n",
    "Of the top 20 primary agencies, what % of funds and projects are they responsible for?\n",
    "\n",
    "Of the top 20 prefixes, what % of funds and projects are they responsible for?"
   ]
  },
  {
   "cell_type": "code",
   "execution_count": null,
   "id": "1d29909d-050b-4c73-a8c3-2b1eae3877b6",
   "metadata": {},
   "outputs": [],
   "source": [
    "def core_customer_stat(df, df_top, variable):\n",
    "    list_of_top = list(df_top[df_top.variable == variable].value)\n",
    "\n",
    "    t1 = geography_utils.aggregate_by_geography(\n",
    "        df[df[variable].isin(list_of_top)],\n",
    "        group_cols=[variable],\n",
    "        sum_cols=[\"adjusted_total_requested\"],\n",
    "        count_cols=[\"project_no\"],\n",
    "    )\n",
    "\n",
    "    # Add totals as new columns\n",
    "    t2 = t1.assign(\n",
    "        all_total_requested=df.adjusted_total_requested.sum(),\n",
    "        all_projects=df.project_no.count(),\n",
    "    )\n",
    "\n",
    "    # Calculate percents\n",
    "    t2 = t2.assign(\n",
    "        pct_project=(t2.project_no.divide(t2.all_projects) * 100).round(1),\n",
    "        pct_total_requested=(\n",
    "            t2.adjusted_total_requested.divide(t2.all_total_requested) * 100\n",
    "        ).round(1),\n",
    "    )\n",
    "\n",
    "    # Keep summary table?\n",
    "    # But, if we want to drill into specific stuff in the top 20\n",
    "    # like the top agency or top prefix, or top 5, can do so\n",
    "    t3 = (\n",
    "        t2\n",
    "        >> mutate(\n",
    "            pct_top20_project=_.pct_project.sum(),\n",
    "            pct_top20_total_requested=_.pct_total_requested.sum(),\n",
    "        )\n",
    "        >> distinct(_.pct_top20_project, _.pct_top20_total_requested)\n",
    "    )\n",
    "\n",
    "    for c in t3.columns:\n",
    "        t3[c] = t3[c].round(1)\n",
    "\n",
    "    return t3"
   ]
  },
  {
   "cell_type": "code",
   "execution_count": null,
   "id": "6140f112-4e15-492e-84ee-9b260f5bcdb4",
   "metadata": {},
   "outputs": [],
   "source": [
    "core_prefix = core_customer_stat(df, df_top, \"prefix\")\n",
    "core_agency = core_customer_stat(df, df_top, \"primary_agency_name\")"
   ]
  },
  {
   "cell_type": "code",
   "execution_count": null,
   "id": "5ffd7ba9-3825-48c2-94b9-625ffc4ec832",
   "metadata": {},
   "outputs": [],
   "source": [
    "# Add this chart function to take out saving it for now...display directly\n",
    "def labeling(word):\n",
    "    # Add specific use cases where it's not just first letter capitalized\n",
    "    LABEL_DICT = {\n",
    "        \"prepared_y\": \"Year\",\n",
    "        \"dist\": \"District\",\n",
    "        \"total_requested\": \"Total Requested\",\n",
    "        \"fed_requested\": \"Fed Requested\",\n",
    "        \"ac_requested\": \"Advance Construction Requested\",\n",
    "        \"nunique\": \"Number of Unique\",\n",
    "        \"project_no\": \"Project Number\",\n",
    "    }\n",
    "\n",
    "    if (word == \"mpo\") or (word == \"rtpa\"):\n",
    "        word = word.upper()\n",
    "    elif word in LABEL_DICT.keys():\n",
    "        word = LABEL_DICT[word]\n",
    "    else:\n",
    "        word = word.replace(\"n_\", \"Number of \").title()\n",
    "        word = word.replace(\"unique_\", \"Number of Unique \").title()\n",
    "        word = word.replace(\"_\", \" \").title()\n",
    "\n",
    "    return word\n",
    "\n",
    "\n",
    "def basic_bar_chart(df, x_col, y_col, title=\"\"):\n",
    "    if title == \"\":\n",
    "        title = f\"Highest {labeling(x_col)} by {labeling(y_col)}\"\n",
    "    chart = (\n",
    "        alt.Chart(df)\n",
    "        .mark_bar()\n",
    "        .encode(\n",
    "            x=alt.X(f\"{x_col}:N\", title=labeling(x_col), sort=(\"-y\")),\n",
    "            y=alt.Y(f\"{y_col}:Q\", title=labeling(y_col)),\n",
    "            color=alt.Color(\n",
    "                y_col,\n",
    "                scale=alt.Scale(range=cp.CALITP_SEQUENTIAL_COLORS),\n",
    "                legend=alt.Legend(title=(labeling(y_col))),\n",
    "            ),\n",
    "            tooltip=alt.Tooltip([x_col, y_col]),\n",
    "        )\n",
    "        .properties(title=title)\n",
    "    )\n",
    "\n",
    "    chart = styleguide.preset_chart_config(chart)\n",
    "    display(chart)"
   ]
  },
  {
   "cell_type": "code",
   "execution_count": null,
   "id": "0c560d05-629d-4b40-af86-c424efe911a6",
   "metadata": {},
   "outputs": [],
   "source": [
    "display(\n",
    "    Markdown(\n",
    "        f\"{df.prepared_y.min()}-{df.prepared_y.max()}: \"\n",
    "        f\"<br>The **top 20 prefixes** were responsible for \"\n",
    "        f\"**{core_prefix.pct_top20_project[0]}% of all projects** and \"\n",
    "        f\"**{core_prefix.pct_top20_total_requested[0]}%** \"\n",
    "        \"**of total requested funds** (2021\\$).\"\n",
    "    )\n",
    ")\n",
    "\n",
    "basic_bar_chart(\n",
    "    df_top[df_top.variable == \"prefix\"], \"value\", \"count\", title=\"Top 20 Prefixes\"\n",
    ")"
   ]
  },
  {
   "cell_type": "code",
   "execution_count": null,
   "id": "b6930c47-589d-4873-843d-7dfdc036dcf2",
   "metadata": {},
   "outputs": [],
   "source": [
    "display(\n",
    "    Markdown(\n",
    "        f\"{df.prepared_y.min()}-{df.prepared_y.max()}: \"\n",
    "        f\"<br>The **top 20 agencies** were responsible for \"\n",
    "        f\"**{core_agency.pct_top20_project[0]}% of all projects** and \"\n",
    "        f\"**{core_agency.pct_top20_total_requested[0]}%** \"\n",
    "        \"**of total requested funds** (2021$).\"\n",
    "    )\n",
    ")\n",
    "\n",
    "basic_bar_chart(\n",
    "    df_top[df_top.variable == \"primary_agency_name\"],\n",
    "    \"value\",\n",
    "    \"count\",\n",
    "    title=\"Top 20 Primary Agencies\",\n",
    ")"
   ]
  },
  {
   "cell_type": "code",
   "execution_count": null,
   "id": "ad487fc7-1239-446e-87a6-5a39456a3957",
   "metadata": {},
   "outputs": [],
   "source": [
    "def make_funding_long(df, work_categories_list):\n",
    "    funding_cols = [\n",
    "        \"adjusted_total_requested\",\n",
    "        \"adjusted_fed_requested\",\n",
    "        \"adjusted_ac_requested\",\n",
    "    ]\n",
    "\n",
    "    final = pd.DataFrame()\n",
    "\n",
    "    # Since categories are not mutually exclusive, loop over the columns to include\n",
    "    # and create a new df that is long\n",
    "    for i in work_categories_list:\n",
    "        subset = df[df[i] == 1]\n",
    "        agg_df = geography_utils.aggregate_by_geography(\n",
    "            subset,\n",
    "            group_cols=[\"prepared_y\"],\n",
    "            sum_cols=funding_cols,\n",
    "            count_cols=[\"project_no\"],\n",
    "            mean_cols=[\"processing_days\"],\n",
    "        )\n",
    "        agg_df = agg_df.assign(category=i)\n",
    "\n",
    "        for c in funding_cols:\n",
    "            new_var = f\"mean_{c}\"\n",
    "            agg_df[new_var] = agg_df[c] / agg_df.project_no\n",
    "\n",
    "        final = pd.concat([final, agg_df], axis=0, ignore_index=True)\n",
    "\n",
    "    final = (\n",
    "        final[final.prepared_y.notna()]\n",
    "        .reset_index(drop=True)\n",
    "        .astype({\"project_no\": \"int64\"})\n",
    "    )\n",
    "\n",
    "    return final"
   ]
  },
  {
   "cell_type": "code",
   "execution_count": null,
   "id": "2d252bfd-f35f-4f39-9f87-3ec44303d4fd",
   "metadata": {},
   "outputs": [],
   "source": [
    "WORK_CATEGORIES = [\n",
    "    \"active_transp\",\n",
    "    \"transit\",\n",
    "    \"bridge\",\n",
    "    \"street\",\n",
    "    \"freeway\",\n",
    "    \"infra_resiliency_er\",\n",
    "    \"congestion_relief\",\n",
    "]\n",
    "\n",
    "by_work_categories = make_funding_long(df, WORK_CATEGORIES)\n",
    "\n",
    "by_work_categories.head(2)"
   ]
  },
  {
   "cell_type": "markdown",
   "id": "52ca116e-5c3f-478e-8f22-03e27bcbb94d",
   "metadata": {},
   "source": [
    "There's a possibility of needing to set the max y-axis value, especially if charts are being displayed side-by-side. Don't want one to be between 1-1M and another to be 1-10_000. \n",
    "\n",
    "May need to use some kind of calculation within chart function to set the Y_MAX"
   ]
  },
  {
   "cell_type": "code",
   "execution_count": null,
   "id": "7e8c2da7-6a3a-4fa1-b3c0-4c7f168f14ac",
   "metadata": {},
   "outputs": [],
   "source": [
    "MAX_Y = (\n",
    "    df.groupby([\"prepared_y\"] + WORK_CATEGORIES)\n",
    "    .agg({\"adjusted_total_requested\": \"sum\"})\n",
    "    .reset_index()\n",
    ")[[\"adjusted_total_requested\"]].max()[0]\n",
    "MAX_Y"
   ]
  },
  {
   "cell_type": "markdown",
   "id": "2f1ad9fc-ec73-4708-b396-860762c5f414",
   "metadata": {},
   "source": [
    "### Multiple Lines on Line Chart\n",
    "\n",
    "Two options for having multiple lines on `altair` chart\n",
    "\n",
    "1. Use `transform_filter`, then label at the end of the chart what that line represents\n",
    "* Labeling at the end of the line: https://stackoverflow.com/questions/61194028/adding-labels-at-end-of-line-chart-in-altair\n",
    "\n",
    "2. To have legend appear, the dataset must be long. It's the `alt.Color` encoding that is passed into the legend.\n",
    "\n",
    "Since each project can be tagged as several, making long dataset would require additional step to create this new aggregated df, not a simple pivot from wide to long."
   ]
  },
  {
   "cell_type": "code",
   "execution_count": null,
   "id": "7ec273b0-dc07-4e5c-9e23-81475386222b",
   "metadata": {},
   "outputs": [],
   "source": [
    "from altair import datum\n",
    "\n",
    "\n",
    "def line_chart(df):\n",
    "    category_cols = [\"active_transp\", \"transit\", \"bridge\"]\n",
    "    MAX_Y = (\n",
    "        df.groupby([\"prepared_y\"] + category_cols)\n",
    "        .agg({\"total_requested\": \"sum\"})\n",
    "        .reset_index()\n",
    "    )[[\"total_requested\"]].max()[0]\n",
    "\n",
    "    base = (\n",
    "        alt.Chart(df)\n",
    "        .mark_line()\n",
    "        .encode(\n",
    "            x=alt.X(\"year(prepared_date):O\", title=\"Year\"),\n",
    "            y=alt.Y(\n",
    "                \"sum(total_requested):Q\",\n",
    "                title=\"Total Requested (2021$)\",\n",
    "                scale=alt.Scale(domain=[0, 400_000_000]),\n",
    "            ),\n",
    "        )\n",
    "    )\n",
    "\n",
    "    active = base.encode(\n",
    "        color=alt.value(\"blue\"),\n",
    "    ).transform_filter(datum.active_transp == 1)\n",
    "\n",
    "    transit = base.encode(\n",
    "        color=alt.value(\"green\"),\n",
    "    ).transform_filter(datum.transit == 1)\n",
    "\n",
    "    bridge = base.encode(\n",
    "        color=alt.value(\"orange\"),\n",
    "    ).transform_filter(datum.bridge == 1)\n",
    "\n",
    "    chart = active + transit + bridge\n",
    "    return chart"
   ]
  },
  {
   "cell_type": "code",
   "execution_count": null,
   "id": "3c8a021f-5055-412a-add1-ea6b55c701a0",
   "metadata": {},
   "outputs": [],
   "source": [
    "# line_chart(df)"
   ]
  },
  {
   "cell_type": "markdown",
   "id": "63ba2307-5356-4e59-b25a-22a7b47cee27",
   "metadata": {},
   "source": [
    "Do some work to get the highlight/tooltip with selection/legend changes to work.\n",
    "\n",
    "\n",
    "https://github.com/cal-itp/data-analyses/blob/main/msd_dashboard_metric/04_validation_errors.ipynb\n",
    "\n",
    "https://stackoverflow.com/questions/66108224/combine-hover-and-click-selections-in-altair\n",
    "\n",
    "https://altair-viz.github.io/gallery/interactive_legend.html"
   ]
  },
  {
   "cell_type": "code",
   "execution_count": null,
   "id": "3ede7709-e486-4738-a631-9f7d6edcb4e8",
   "metadata": {},
   "outputs": [],
   "source": [
    "def line_chart2(df, y_col, chart_title):\n",
    "\n",
    "    y_title = f\"{y_col.replace('adjusted_', '').replace('_', ' ')}\"\n",
    "\n",
    "    if chart_title == \"\":\n",
    "        y_title.title()\n",
    "\n",
    "    # https://altair-viz.github.io/gallery/multiline_highlight.html\n",
    "    # https://altair-viz.github.io/gallery/interactive_legend.html\n",
    "    highlight = alt.selection(\n",
    "        type=\"single\", on=\"mouseover\", fields=[\"category\", \"prepared_y\"], nearest=True\n",
    "    )\n",
    "    selection = alt.selection_multi(fields=[\"category\"], bind=\"legend\")\n",
    "\n",
    "    chart = (\n",
    "        alt.Chart(df)\n",
    "        .mark_line()\n",
    "        .encode(\n",
    "            x=alt.X(\"prepared_y:O\", title=\"Year\"),\n",
    "            y=alt.Y(\n",
    "                f\"{y_col}:Q\",\n",
    "                title=f\"{y_title} (2021$)\",\n",
    "                scale=alt.Scale(domain=[0, by_work_categories[y_col].max()]),\n",
    "            ),\n",
    "            color=alt.Color(\"category:N\", title=\"Work Category\"),\n",
    "            tooltip=alt.Tooltip([\"prepared_y\", y_col, \"category\"]),\n",
    "            opacity=alt.condition(selection, alt.value(1), alt.value(0.2)),\n",
    "            size=alt.condition(~highlight, alt.value(2), alt.value(5)),\n",
    "        )\n",
    "        .properties(\n",
    "            title={\n",
    "                \"text\": [f\"{chart_title} Funds\", \"by Work Categories\"],\n",
    "                \"subtitle\": \"2021$\",\n",
    "            },\n",
    "            width=500,\n",
    "            height=200,\n",
    "        )\n",
    "        .add_selection(selection, highlight)\n",
    "    )\n",
    "\n",
    "    chart = styleguide.preset_chart_config(chart)\n",
    "    return chart"
   ]
  },
  {
   "cell_type": "code",
   "execution_count": null,
   "id": "1aa0b3cf-32f4-4229-b4ed-dd401f59492f",
   "metadata": {},
   "outputs": [],
   "source": [
    "line_chart2(by_work_categories, \"adjusted_total_requested\", \"Total Requested\")"
   ]
  },
  {
   "cell_type": "markdown",
   "id": "6ca287eb-e6de-40d0-92b5-29f7ff3e5d24",
   "metadata": {},
   "source": [
    "### Side-by-side Charts"
   ]
  },
  {
   "cell_type": "code",
   "execution_count": null,
   "id": "247c18eb-cb08-4ba1-ab85-fcd92b33b7f4",
   "metadata": {},
   "outputs": [],
   "source": [
    "# Figure out which part of this function needs to be removed\n",
    "# The hconcat needs to be done before, then chart title can be added on combined chart\n",
    "# But sizing only be done on individual chart, not on combined chart\n",
    "\n",
    "from shared_utils.styleguide import *\n",
    "\n",
    "\n",
    "def preset_chart_config(chart):\n",
    "    chart = (\n",
    "        chart.configure(background=backgroundColor, font=font)\n",
    "        .configure_axis(\n",
    "            domainColor=axisColor,\n",
    "            grid=True,\n",
    "            gridColor=axisColor,\n",
    "            gridWidth=1,\n",
    "            labelColor=guideLabelColor,\n",
    "            labelFont=labelFont,\n",
    "            labelFontSize=10,\n",
    "            titleColor=guideTitleColor,\n",
    "            titleFont=font,\n",
    "            tickColor=axisColor,\n",
    "            tickSize=10,\n",
    "            titleFontSize=12,\n",
    "            titlePadding=10,\n",
    "            labelPadding=4,\n",
    "        )\n",
    "        .configure_axisBand(grid=False)\n",
    "        .configure_title(\n",
    "            font=font,\n",
    "            fontSize=font_size,\n",
    "            anchor=\"middle\",\n",
    "            fontWeight=300,\n",
    "            offset=20,\n",
    "        )\n",
    "        .configure_header(labelFont=labelFont, titleFont=font)\n",
    "        .configure_legend(\n",
    "            labelColor=blackTitle,\n",
    "            labelFont=labelFont,\n",
    "            labelFontSize=11,\n",
    "            padding=1,\n",
    "            symbolSize=30,\n",
    "            symbolType=\"square\",\n",
    "            titleColor=blackTitle,\n",
    "            titleFont=font,\n",
    "            titleFontSize=14,\n",
    "            titlePadding=10,\n",
    "            labelLimit=0,\n",
    "        )\n",
    "    )\n",
    "    return chart"
   ]
  },
  {
   "cell_type": "code",
   "execution_count": null,
   "id": "d705333b-2c21-4d2f-b6bc-dbc11d44e854",
   "metadata": {},
   "outputs": [],
   "source": [
    "def setup_bar_chart(df, category_list):\n",
    "    subset = df[df.category.isin(category_list)]\n",
    "\n",
    "    # Do the relabeling here in function\n",
    "    # Easier to set up lists using column names that contain underscores\n",
    "    CATEGORY_DICT = {\n",
    "        \"active_transp\": \"Active Transportation\",\n",
    "        \"infra_resiliency_er\": \"Infrastructure Resiliency\",\n",
    "    }\n",
    "\n",
    "    def category_labels(word):\n",
    "        if word in CATEGORY_DICT.keys():\n",
    "            word = CATEGORY_DICT[word]\n",
    "        else:\n",
    "            word = word.replace(\"_\", \" \").title()\n",
    "        return word\n",
    "\n",
    "    subset = subset.assign(\n",
    "        category=subset.apply(lambda x: category_labels(x.category), axis=1)\n",
    "    )\n",
    "\n",
    "    chart = (\n",
    "        alt.Chart(subset)\n",
    "        .mark_bar()\n",
    "        .encode(\n",
    "            x=alt.X(\"category:N\", title=\"\"),\n",
    "            y=alt.Y(\"mean(processing_days):Q\", title=\"Average Processing Days\"),\n",
    "            color=alt.Color(\n",
    "                \"category:N\", scale=alt.Scale(range=cp.CALITP_CATEGORY_BRIGHT_COLORS)\n",
    "            ),\n",
    "            # https://stackoverflow.com/questions/68584375/how-do-i-limit-altair-tooltip-to-only-two-numbers-after-the-decimal-point\n",
    "            tooltip=alt.Tooltip(\n",
    "                [\"category\", \"mean(processing_days)\"], format={\"number\": \".2f\"}\n",
    "            ),\n",
    "        )\n",
    "        .properties(width=300, height=200)\n",
    "    )\n",
    "\n",
    "    return chart"
   ]
  },
  {
   "cell_type": "code",
   "execution_count": null,
   "id": "d706e457-3a96-41b6-83a7-508cdadc8f19",
   "metadata": {},
   "outputs": [],
   "source": [
    "ACTIVE = [\"active_transp\", \"transit\", \"congestion_relief\"]\n",
    "ROADS = [\"bridge\", \"street\", \"freeway\"]\n",
    "\n",
    "active_bar = setup_bar_chart(by_work_categories, ACTIVE)\n",
    "roads_bar = setup_bar_chart(by_work_categories, ROADS)\n",
    "\n",
    "combined_chart = alt.hconcat(active_bar, roads_bar)\n",
    "(\n",
    "    preset_chart_config(combined_chart).properties(\n",
    "        title=\"Average Processing Time by Work Category\"\n",
    "    )\n",
    ")"
   ]
  },
  {
   "cell_type": "code",
   "execution_count": null,
   "id": "bb94fa2d-878c-4215-b8c5-6c9865147f96",
   "metadata": {},
   "outputs": [],
   "source": [
    "from pivottablejs import pivot_ui\n",
    "from IPython.display import HTML\n",
    "\n",
    "#pivot_ui(df[[\"agency\", \"transit\", \"bridge\"]], outfile_path='pivottablejs.html')\n",
    "#HTML('pivottablejs.html')"
   ]
  },
  {
   "cell_type": "code",
   "execution_count": null,
   "id": "79a30064-0a9b-4f4b-b95f-48ea94a6455e",
   "metadata": {},
   "outputs": [],
   "source": [
    "from urllib.request import urlopen\n",
    "import json\n",
    "with urlopen('https://raw.githubusercontent.com/plotly/datasets/master/geojson-counties-fips.json') as response:\n",
    "    counties = json.load(response)\n",
    "\n",
    "import pandas as pd\n",
    "df2 = pd.read_csv(\"https://raw.githubusercontent.com/plotly/datasets/master/fips-unemp-16.csv\",\n",
    "                   dtype={\"fips\": str})\n",
    "\n",
    "import plotly.express as px\n",
    "\n",
    "fig = px.choropleth_mapbox(df2, geojson=counties, locations='fips', color='unemp',\n",
    "                           color_continuous_scale=\"Viridis\",\n",
    "                           range_color=(0, 12),\n",
    "                           mapbox_style=\"carto-positron\",\n",
    "                           zoom=3, center = {\"lat\": 37.0902, \"lon\": -95.7129},\n",
    "                           opacity=0.5,\n",
    "                           labels={'unemp':'unemployment rate'}\n",
    "                          )\n",
    "fig.update_layout(margin={\"r\":0,\"t\":0,\"l\":0,\"b\":0})\n",
    "fig.show()"
   ]
  },
  {
   "cell_type": "code",
   "execution_count": null,
   "id": "4926179d-7825-456a-be3e-046e9a67fb7a",
   "metadata": {},
   "outputs": [],
   "source": [
    "from bokeh.plotting import figure, show, output_notebook\n",
    "output_notebook()\n",
    "\n",
    "import plotly.express as px\n",
    "data = px.data.iris()\n",
    "p = figure()\n",
    "p.circle(data[\"sepal_width\"], data[\"sepal_length\"], fill_color=data[\"species\"], size=data[\"sepal_length\"])\n",
    "show(p)"
   ]
  },
  {
   "cell_type": "code",
   "execution_count": null,
   "id": "ae35e04d-e699-4445-9785-3e7734e65b00",
   "metadata": {},
   "outputs": [],
   "source": [
    "import ipywidgets as widgets\n",
    "\n",
    "a = widgets.FloatText()\n",
    "b = widgets.FloatSlider()\n",
    "display(a, b)\n",
    "\n",
    "mylink = widgets.jslink((a, \"value\"), (b, \"value\"))"
   ]
  },
  {
   "cell_type": "code",
   "execution_count": null,
   "id": "e6d2bcfc-0094-4bd7-9862-83d0687f8777",
   "metadata": {},
   "outputs": [],
   "source": [
    "tab_contents = [\"P0\", \"P1\", \"P2\", \"P3\", \"P4\"]\n",
    "children = [widgets.Text(description=name) for name in tab_contents]\n",
    "tab = widgets.Tab()\n",
    "tab.children = children\n",
    "for ii in range(len(children)):\n",
    "    tab.set_title(ii, f\"tab_{ii}\")\n",
    "tab"
   ]
  }
 ],
 "metadata": {
  "kernelspec": {
   "display_name": "Python 3 (ipykernel)",
   "language": "python",
   "name": "python3"
  },
  "language_info": {
   "codemirror_mode": {
    "name": "ipython",
    "version": 3
   },
   "file_extension": ".py",
   "mimetype": "text/x-python",
   "name": "python",
   "nbconvert_exporter": "python",
   "pygments_lexer": "ipython3",
   "version": "3.7.9"
  }
 },
 "nbformat": 4,
 "nbformat_minor": 5
}