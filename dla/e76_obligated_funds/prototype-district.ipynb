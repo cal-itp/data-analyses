{
 "cells": [
  {
   "cell_type": "markdown",
   "id": "ad2653c5-3725-452f-bfac-d689d5f5877c",
   "metadata": {},
   "source": [
    "# District {district}\n",
    "\n",
    "1. Unique obligations at district-level, summary sentence\n",
    "1. Top agencies / core customers\n",
    "1. Top prefixes / core customers\n",
    "1. Type of work, ~5 main categories, show breakdown of spending and number of projects (aggregate values, inflation-adjusted). Need to think of normalizing to % is worthwhile"
   ]
  },
  {
   "cell_type": "code",
   "execution_count": 3,
   "id": "1ce50193-bba7-4b84-b142-689dfa8b86da",
   "metadata": {
    "tags": []
   },
   "outputs": [],
   "source": [
    "%%capture\n",
    "import warnings\n",
    "warnings.filterwarnings(\"ignore\")\n",
    "\n",
    "import altair as alt\n",
    "import pandas as pd\n",
    "\n",
    "from siuba import *\n",
    "from IPython.display import Markdown\n",
    "\n",
    "import _dla_utils\n",
    "from shared_utils import styleguide, geography_utils\n",
    "from shared_utils import calitp_color_palette as cp\n",
    "\n",
    "alt.themes.register(\"calitp_theme\", styleguide.calitp_theme)\n",
    "# enable\n",
    "alt.themes.enable(\"calitp_theme\")"
   ]
  },
  {
   "cell_type": "code",
   "execution_count": 2,
   "id": "09b1e59a-8573-4700-8d42-6bd02dc11413",
   "metadata": {
    "tags": [
     "parameters"
    ]
   },
   "outputs": [],
   "source": [
    "# Need to get a parameters cell\n",
    "district = 7"
   ]
  },
  {
   "cell_type": "code",
   "execution_count": 4,
   "id": "30e608de-9f92-492a-b283-0ce388453381",
   "metadata": {},
   "outputs": [],
   "source": [
    "df= pd.read_parquet(\"dla_df.parquet\")\n",
    "\n",
    "df = df>>filter(_.dist==district)"
   ]
  },
  {
   "cell_type": "markdown",
   "id": "4b5805e9-66b2-422a-b02b-4582a6a543ea",
   "metadata": {},
   "source": [
    "## Data Wrangling\n",
    "\n",
    "Some of these additional data wrangling steps might be able to be moved into a script.\n",
    "\n",
    "The wrangling specific to making a chart in `altair` can be left in notebook, but any data processing that is done on the entire dataset should be moved off."
   ]
  },
  {
   "cell_type": "code",
   "execution_count": 5,
   "id": "ed8ad7b1-4cdd-45d8-875c-68dd9deb5410",
   "metadata": {},
   "outputs": [],
   "source": [
    "df = df.assign(\n",
    "    prepared_y = df.prepared_y.astype(\"Int64\"),\n",
    "    processing_days = df[[\"dist_processing_days\", \"hq_processing_days\", \n",
    "                          \"fhwa_processing_days\"]].sum(axis=1)\n",
    ")\n",
    "df = df[df[\"prepared_y\"].notna()]\n",
    "#df[df[\"\"].isna()].head()"
   ]
  },
  {
   "cell_type": "code",
   "execution_count": 6,
   "id": "4988e91f-c869-48cd-9d4b-3bb504f67d81",
   "metadata": {
    "scrolled": true,
    "tags": []
   },
   "outputs": [],
   "source": [
    "df_years = _dla_utils.count_all_years(df)\n",
    "df_top = _dla_utils.find_top(df)"
   ]
  },
  {
   "cell_type": "markdown",
   "source": [
    "## Obligations"
   ],
   "metadata": {
    "collapsed": false,
    "pycharm": {
     "name": "#%% md\n"
    }
   }
  },
  {
   "cell_type": "code",
   "execution_count": 7,
   "id": "0cfc624b-3a71-4891-88b7-5d4e053bb68c",
   "metadata": {},
   "outputs": [
    {
     "data": {
      "text/markdown": [
       "## Obligations"
      ],
      "text/plain": [
       "<IPython.core.display.Markdown object>"
      ]
     },
     "metadata": {},
     "output_type": "display_data"
    },
    {
     "data": {
      "text/markdown": [
       "There are 108 unique agencies in District 7."
      ],
      "text/plain": [
       "<IPython.core.display.Markdown object>"
      ]
     },
     "metadata": {},
     "output_type": "display_data"
    }
   ],
   "source": [
    "unique_agencies = (_dla_utils.calculate_data_all(df, 'primary_agency_name', \n",
    "                                                 aggfunc=\"nunique\") \n",
    "                   .primary_agency_name.iloc[0]\n",
    ")\n",
    "\n",
    "display(\n",
    "    Markdown(f\"There are {unique_agencies} unique agencies in District {district}.\")\n",
    ")"
   ]
  },
  {
   "cell_type": "markdown",
   "id": "fc33ea57-4eb8-4e45-bd1e-b5a4bbba81d5",
   "metadata": {},
   "source": [
    "### Core Customers\n",
    "\n",
    "Of the top 20 primary agencies, what % of funds and projects are they responsible for?\n",
    "\n",
    "Of the top 20 prefixes, what % of funds and projects are they responsible for?"
   ]
  },
  {
   "cell_type": "code",
   "execution_count": 8,
   "id": "1d29909d-050b-4c73-a8c3-2b1eae3877b6",
   "metadata": {},
   "outputs": [],
   "source": [
    "def core_customer_stat(df, df_top, variable):\n",
    "    list_of_top = list(df_top[df_top.variable==variable].value)\n",
    "    \n",
    "    t1 = geography_utils.aggregate_by_geography(\n",
    "        df[df[variable].isin(list_of_top)], \n",
    "        group_cols = [variable],\n",
    "        sum_cols = [\"adjusted_total_requested\"],\n",
    "        count_cols = [\"project_no\"]\n",
    "    )\n",
    "    \n",
    "    # Add totals as new columns\n",
    "    t2 = t1.assign(\n",
    "        all_total_requested = df.adjusted_total_requested.sum(),\n",
    "        all_projects = df.project_no.count(),\n",
    "    )\n",
    "    \n",
    "    # Calculate percents\n",
    "    t2 = t2.assign(\n",
    "        pct_project = (t2.project_no.divide(t2.all_projects)* 100).round(1),\n",
    "        pct_total_requested = (t2.adjusted_total_requested.divide(\n",
    "            t2.all_total_requested)* 100).round(1),\n",
    "    )\n",
    "    \n",
    "    # Keep summary table?\n",
    "    # But, if we want to drill into specific stuff in the top 20\n",
    "    # like the top agency or top prefix, or top 5, can do so\n",
    "    t3 = (t2 >> mutate(pct_top20_project = _.pct_project.sum(),\n",
    "                      pct_top20_total_requested = _.pct_total_requested.sum(),\n",
    "                     )\n",
    "          >> distinct(_.pct_top20_project, _.pct_top20_total_requested)\n",
    "         )\n",
    "    \n",
    "    for c in t3.columns:\n",
    "        t3[c] = t3[c].round(1)\n",
    "    \n",
    "    return t3"
   ]
  },
  {
   "cell_type": "code",
   "execution_count": 9,
   "id": "6140f112-4e15-492e-84ee-9b260f5bcdb4",
   "metadata": {},
   "outputs": [],
   "source": [
    "core_prefix = core_customer_stat(df, df_top, \"prefix\")\n",
    "core_agency = core_customer_stat(df, df_top, \"primary_agency_name\")"
   ]
  },
  {
   "cell_type": "code",
   "execution_count": 10,
   "id": "5ffd7ba9-3825-48c2-94b9-625ffc4ec832",
   "metadata": {},
   "outputs": [],
   "source": [
    "# Add this chart function to take out saving it for now...display directly\n",
    "def labeling(word):\n",
    "    # Add specific use cases where it's not just first letter capitalized\n",
    "    LABEL_DICT = { \"prepared_y\": \"Year\",\n",
    "              \"dist\": \"District\",\n",
    "              \"total_requested\": \"Total Requested\",\n",
    "              \"fed_requested\":\"Fed Requested\",\n",
    "              \"ac_requested\": \"Advance Construction Requested\",\n",
    "              \"nunique\":\"Number of Unique\",\n",
    "              \"project_no\": \"Project Number\"}\n",
    "    \n",
    "    if (word == \"mpo\") or (word == \"rtpa\"):\n",
    "        word = word.upper()\n",
    "    elif word in LABEL_DICT.keys():\n",
    "        word = LABEL_DICT[word]\n",
    "    else:\n",
    "        word = word.replace('n_', 'Number of ').title()\n",
    "        word = word.replace('unique_', \"Number of Unique \").title()\n",
    "        word = word.replace('_', ' ').title()\n",
    "    \n",
    "    return word\n",
    "    \n",
    "def basic_bar_chart(df, x_col, y_col, title=\"\"):\n",
    "    if title == \"\":\n",
    "        title = f\"Highest {labeling(x_col)} by {labeling(y_col)}\"\n",
    "    chart = (alt.Chart(df)\n",
    "             .mark_bar()\n",
    "             .encode(\n",
    "                 x=alt.X(f\"{x_col}:N\", title=labeling(x_col), sort=('-y')),\n",
    "                 y=alt.Y(f\"{y_col}:Q\", title=labeling(y_col)),\n",
    "                 color = alt.Color(y_col,\n",
    "                                  scale=alt.Scale(\n",
    "                                      range=cp.CALITP_SEQUENTIAL_COLORS),\n",
    "                                      legend=alt.Legend(title=(labeling(y_col)))\n",
    "                                  ),\n",
    "                 tooltip=alt.Tooltip([x_col, y_col])\n",
    "             )\n",
    "             .properties(title= title)\n",
    "    )\n",
    "\n",
    "    chart=styleguide.preset_chart_config(chart)\n",
    "    display(chart)"
   ]
  },
  {
   "cell_type": "code",
   "execution_count": 11,
   "id": "0c560d05-629d-4b40-af86-c424efe911a6",
   "metadata": {},
   "outputs": [
    {
     "data": {
      "text/markdown": [
       "2012-2022: <br>The **top 20 prefixes** were responsible for **89.7% of all projects** and **54.8%** **of total requested funds** (2021\\$)."
      ],
      "text/plain": [
       "<IPython.core.display.Markdown object>"
      ]
     },
     "metadata": {},
     "output_type": "display_data"
    },
    {
     "data": {
      "text/html": [
       "\n",
       "<div id=\"altair-viz-0daff963294c4b089819e0c022cfde1f\"></div>\n",
       "<script type=\"text/javascript\">\n",
       "  var VEGA_DEBUG = (typeof VEGA_DEBUG == \"undefined\") ? {} : VEGA_DEBUG;\n",
       "  (function(spec, embedOpt){\n",
       "    let outputDiv = document.currentScript.previousElementSibling;\n",
       "    if (outputDiv.id !== \"altair-viz-0daff963294c4b089819e0c022cfde1f\") {\n",
       "      outputDiv = document.getElementById(\"altair-viz-0daff963294c4b089819e0c022cfde1f\");\n",
       "    }\n",
       "    const paths = {\n",
       "      \"vega\": \"https://cdn.jsdelivr.net/npm//vega@5?noext\",\n",
       "      \"vega-lib\": \"https://cdn.jsdelivr.net/npm//vega-lib?noext\",\n",
       "      \"vega-lite\": \"https://cdn.jsdelivr.net/npm//vega-lite@4.17.0?noext\",\n",
       "      \"vega-embed\": \"https://cdn.jsdelivr.net/npm//vega-embed@6?noext\",\n",
       "    };\n",
       "\n",
       "    function maybeLoadScript(lib, version) {\n",
       "      var key = `${lib.replace(\"-\", \"\")}_version`;\n",
       "      return (VEGA_DEBUG[key] == version) ?\n",
       "        Promise.resolve(paths[lib]) :\n",
       "        new Promise(function(resolve, reject) {\n",
       "          var s = document.createElement('script');\n",
       "          document.getElementsByTagName(\"head\")[0].appendChild(s);\n",
       "          s.async = true;\n",
       "          s.onload = () => {\n",
       "            VEGA_DEBUG[key] = version;\n",
       "            return resolve(paths[lib]);\n",
       "          };\n",
       "          s.onerror = () => reject(`Error loading script: ${paths[lib]}`);\n",
       "          s.src = paths[lib];\n",
       "        });\n",
       "    }\n",
       "\n",
       "    function showError(err) {\n",
       "      outputDiv.innerHTML = `<div class=\"error\" style=\"color:red;\">${err}</div>`;\n",
       "      throw err;\n",
       "    }\n",
       "\n",
       "    function displayChart(vegaEmbed) {\n",
       "      vegaEmbed(outputDiv, spec, embedOpt)\n",
       "        .catch(err => showError(`Javascript Error: ${err.message}<br>This usually means there's a typo in your chart specification. See the javascript console for the full traceback.`));\n",
       "    }\n",
       "\n",
       "    if(typeof define === \"function\" && define.amd) {\n",
       "      requirejs.config({paths});\n",
       "      require([\"vega-embed\"], displayChart, err => showError(`Error loading script: ${err.message}`));\n",
       "    } else {\n",
       "      maybeLoadScript(\"vega\", \"5\")\n",
       "        .then(() => maybeLoadScript(\"vega-lite\", \"4.17.0\"))\n",
       "        .then(() => maybeLoadScript(\"vega-embed\", \"6\"))\n",
       "        .catch(showError)\n",
       "        .then(() => displayChart(vegaEmbed));\n",
       "    }\n",
       "  })({\"width\": 400, \"height\": 250, \"background\": \"white\", \"config\": {\"title\": {\"fontSize\": 18, \"font\": \"Raleway\", \"anchor\": \"middle\", \"fontColor\": \"#333\", \"fontWeight\": 300, \"offset\": 20}, \"header\": {\"labelFont\": \"Nunito Sans\", \"titleFont\": \"Raleway\"}, \"axis\": {\"domain\": true, \"domainColor\": \"#cbcbcb\", \"grid\": true, \"gridColor\": \"#cbcbcb\", \"gridWidth\": 1, \"labelColor\": \"#474747\", \"labelFontSize\": 10, \"titleColor\": \"#333\", \"tickColor\": \"#cbcbcb\", \"tickSize\": 10, \"titleFontSize\": 12, \"titlePadding\": 10, \"labelPadding\": 4, \"labelFont\": \"Nunito Sans\", \"titleFont\": \"Raleway\"}, \"axisBand\": {\"grid\": false}, \"range\": {\"category_bright\": [\"#2EA8CE\", \"#EB9F3C\", \"#F4D837\", \"#51BF9D\", \"#8CBCCB\", \"#9487C0\"], \"category_bold\": [\"#136C97\", \"#E16B26\", \"#F6BF16\", \"#00896B\", \"#7790A3\", \"#5B559C\"], \"diverging\": [\"#E16B26\", \"#EB9F3C\", \"#f6e7e1\", \"#8CBCCB\", \"#2EA8CE\", \"#136C97\"], \"sequential\": [\"#B9D6DF\", \"#8CBCCB\", \"#2EA8CE\", \"#136C97\", \"#0B405B\"]}, \"legend\": {\"labelFont\": \"Nunito Sans\", \"labelFontSize\": 11, \"symbolType\": \"square\", \"symbolSize\": 30, \"titleFont\": \"Raleway\", \"titleFontSize\": 14, \"titlePadding\": 10, \"padding\": 1, \"orient\": \"right\", \"labelLimit\": 0, \"labelColor\": \"#333\", \"titleColor\": \"#333\"}, \"view\": {\"stroke\": \"transparent\"}, \"group\": {\"fill\": \"white\"}, \"arc\": {\"fill\": \"#8CBCCB\"}, \"area\": {\"fill\": \"#8CBCCB\"}, \"line\": {\"stroke\": \"#8CBCCB\", \"strokeWidth\": 2}, \"trail\": {\"color\": \"#8CBCCB\", \"stroke\": \"#8CBCCB\", \"strokeWidth\": 0, \"size\": 1}, \"path\": {\"stroke\": \"#8CBCCB\", \"strokeWidth\": 0.5}, \"rect\": {\"fill\": \"#8CBCCB\"}, \"point\": {\"filled\": true, \"shape\": \"circle\"}, \"shape\": {\"stroke\": \"#8CBCCB\"}, \"text\": {\"font\": \"Nunito Sans\", \"color\": \"#8CBCCB\", \"fontSize\": 11, \"align\": \"center\", \"fontWeight\": 400, \"size\": 11}, \"bar\": {\"binSpacing\": 2, \"fill\": \"#8CBCCB\", \"stroke\": false}, \"background\": \"white\", \"font\": \"Raleway\"}, \"data\": {\"name\": \"data-d93078d1cf1eeb2177c323515c53c437\"}, \"mark\": \"bar\", \"encoding\": {\"color\": {\"field\": \"count\", \"legend\": {\"title\": \"Count\"}, \"scale\": {\"range\": [\"#B9D6DF\", \"#8CBCCB\", \"#2EA8CE\", \"#136C97\", \"#0B405B\"]}, \"type\": \"quantitative\"}, \"tooltip\": [{\"field\": \"value\", \"type\": \"nominal\"}, {\"field\": \"count\", \"type\": \"quantitative\"}], \"x\": {\"field\": \"value\", \"sort\": \"-y\", \"title\": \"Value\", \"type\": \"nominal\"}, \"y\": {\"field\": \"count\", \"title\": \"Count\", \"type\": \"quantitative\"}}, \"title\": \"Top 20 Prefixes\", \"$schema\": \"https://vega.github.io/schema/vega-lite/v4.17.0.json\", \"datasets\": {\"data-d93078d1cf1eeb2177c323515c53c437\": [{\"value\": \"HSIPL\", \"count\": 734, \"variable\": \"prefix\"}, {\"value\": \"STPL\", \"count\": 450, \"variable\": \"prefix\"}, {\"value\": \"CML\", \"count\": 285, \"variable\": \"prefix\"}, {\"value\": \"ER\", \"count\": 182, \"variable\": \"prefix\"}, {\"value\": \"ATPL\", \"count\": 148, \"variable\": \"prefix\"}, {\"value\": \"HPLUL\", \"count\": 144, \"variable\": \"prefix\"}, {\"value\": \"BHLS\", \"count\": 100, \"variable\": \"prefix\"}, {\"value\": \"FTACML\", \"count\": 94, \"variable\": \"prefix\"}, {\"value\": \"SRTSL\", \"count\": 71, \"variable\": \"prefix\"}, {\"value\": \"RPSTPL\", \"count\": 63, \"variable\": \"prefix\"}, {\"value\": \"BRLSZD\", \"count\": 45, \"variable\": \"prefix\"}, {\"value\": \"BPMPL\", \"count\": 44, \"variable\": \"prefix\"}, {\"value\": \"BRLS\", \"count\": 40, \"variable\": \"prefix\"}, {\"value\": \"ACSTP\", \"count\": 39, \"variable\": \"prefix\"}, {\"value\": \"HP21L\", \"count\": 33, \"variable\": \"prefix\"}, {\"value\": \"BHLO\", \"count\": 21, \"variable\": \"prefix\"}, {\"value\": \"SRTSLNI\", \"count\": 21, \"variable\": \"prefix\"}, {\"value\": \"BRLO\", \"count\": 19, \"variable\": \"prefix\"}, {\"value\": \"ESPL\", \"count\": 19, \"variable\": \"prefix\"}, {\"value\": \"STPLR\", \"count\": 19, \"variable\": \"prefix\"}]}}, {\"mode\": \"vega-lite\"});\n",
       "</script>"
      ],
      "text/plain": [
       "alt.Chart(...)"
      ]
     },
     "metadata": {},
     "output_type": "display_data"
    }
   ],
   "source": [
    "display(\n",
    "    Markdown(\n",
    "        f\"{df.prepared_y.min()}-{df.prepared_y.max()}: \"\n",
    "        f\"<br>The **top 20 prefixes** were responsible for \"\n",
    "        f\"**{core_prefix.pct_top20_project[0]}% of all projects** and \"\n",
    "        f\"**{core_prefix.pct_top20_total_requested[0]}%** \"\n",
    "        \"**of total requested funds** (2021\\$).\"\n",
    "    )  \n",
    ")\n",
    "\n",
    "basic_bar_chart(df_top[df_top.variable==\"prefix\"], \"value\", \"count\", \n",
    "                title=\"Top 20 Prefixes\")"
   ]
  },
  {
   "cell_type": "code",
   "execution_count": 12,
   "id": "b6930c47-589d-4873-843d-7dfdc036dcf2",
   "metadata": {},
   "outputs": [
    {
     "data": {
      "text/markdown": [
       "2012-2022: <br>The **top 20 agencies** were responsible for **70.1% of all projects** and **72.2%** **of total requested funds** (2021$)."
      ],
      "text/plain": [
       "<IPython.core.display.Markdown object>"
      ]
     },
     "metadata": {},
     "output_type": "display_data"
    },
    {
     "data": {
      "text/html": [
       "\n",
       "<div id=\"altair-viz-6fbd400a96854b3da04f2d5f25c77478\"></div>\n",
       "<script type=\"text/javascript\">\n",
       "  var VEGA_DEBUG = (typeof VEGA_DEBUG == \"undefined\") ? {} : VEGA_DEBUG;\n",
       "  (function(spec, embedOpt){\n",
       "    let outputDiv = document.currentScript.previousElementSibling;\n",
       "    if (outputDiv.id !== \"altair-viz-6fbd400a96854b3da04f2d5f25c77478\") {\n",
       "      outputDiv = document.getElementById(\"altair-viz-6fbd400a96854b3da04f2d5f25c77478\");\n",
       "    }\n",
       "    const paths = {\n",
       "      \"vega\": \"https://cdn.jsdelivr.net/npm//vega@5?noext\",\n",
       "      \"vega-lib\": \"https://cdn.jsdelivr.net/npm//vega-lib?noext\",\n",
       "      \"vega-lite\": \"https://cdn.jsdelivr.net/npm//vega-lite@4.17.0?noext\",\n",
       "      \"vega-embed\": \"https://cdn.jsdelivr.net/npm//vega-embed@6?noext\",\n",
       "    };\n",
       "\n",
       "    function maybeLoadScript(lib, version) {\n",
       "      var key = `${lib.replace(\"-\", \"\")}_version`;\n",
       "      return (VEGA_DEBUG[key] == version) ?\n",
       "        Promise.resolve(paths[lib]) :\n",
       "        new Promise(function(resolve, reject) {\n",
       "          var s = document.createElement('script');\n",
       "          document.getElementsByTagName(\"head\")[0].appendChild(s);\n",
       "          s.async = true;\n",
       "          s.onload = () => {\n",
       "            VEGA_DEBUG[key] = version;\n",
       "            return resolve(paths[lib]);\n",
       "          };\n",
       "          s.onerror = () => reject(`Error loading script: ${paths[lib]}`);\n",
       "          s.src = paths[lib];\n",
       "        });\n",
       "    }\n",
       "\n",
       "    function showError(err) {\n",
       "      outputDiv.innerHTML = `<div class=\"error\" style=\"color:red;\">${err}</div>`;\n",
       "      throw err;\n",
       "    }\n",
       "\n",
       "    function displayChart(vegaEmbed) {\n",
       "      vegaEmbed(outputDiv, spec, embedOpt)\n",
       "        .catch(err => showError(`Javascript Error: ${err.message}<br>This usually means there's a typo in your chart specification. See the javascript console for the full traceback.`));\n",
       "    }\n",
       "\n",
       "    if(typeof define === \"function\" && define.amd) {\n",
       "      requirejs.config({paths});\n",
       "      require([\"vega-embed\"], displayChart, err => showError(`Error loading script: ${err.message}`));\n",
       "    } else {\n",
       "      maybeLoadScript(\"vega\", \"5\")\n",
       "        .then(() => maybeLoadScript(\"vega-lite\", \"4.17.0\"))\n",
       "        .then(() => maybeLoadScript(\"vega-embed\", \"6\"))\n",
       "        .catch(showError)\n",
       "        .then(() => displayChart(vegaEmbed));\n",
       "    }\n",
       "  })({\"width\": 400, \"height\": 250, \"background\": \"white\", \"config\": {\"title\": {\"fontSize\": 18, \"font\": \"Raleway\", \"anchor\": \"middle\", \"fontColor\": \"#333\", \"fontWeight\": 300, \"offset\": 20}, \"header\": {\"labelFont\": \"Nunito Sans\", \"titleFont\": \"Raleway\"}, \"axis\": {\"domain\": true, \"domainColor\": \"#cbcbcb\", \"grid\": true, \"gridColor\": \"#cbcbcb\", \"gridWidth\": 1, \"labelColor\": \"#474747\", \"labelFontSize\": 10, \"titleColor\": \"#333\", \"tickColor\": \"#cbcbcb\", \"tickSize\": 10, \"titleFontSize\": 12, \"titlePadding\": 10, \"labelPadding\": 4, \"labelFont\": \"Nunito Sans\", \"titleFont\": \"Raleway\"}, \"axisBand\": {\"grid\": false}, \"range\": {\"category_bright\": [\"#2EA8CE\", \"#EB9F3C\", \"#F4D837\", \"#51BF9D\", \"#8CBCCB\", \"#9487C0\"], \"category_bold\": [\"#136C97\", \"#E16B26\", \"#F6BF16\", \"#00896B\", \"#7790A3\", \"#5B559C\"], \"diverging\": [\"#E16B26\", \"#EB9F3C\", \"#f6e7e1\", \"#8CBCCB\", \"#2EA8CE\", \"#136C97\"], \"sequential\": [\"#B9D6DF\", \"#8CBCCB\", \"#2EA8CE\", \"#136C97\", \"#0B405B\"]}, \"legend\": {\"labelFont\": \"Nunito Sans\", \"labelFontSize\": 11, \"symbolType\": \"square\", \"symbolSize\": 30, \"titleFont\": \"Raleway\", \"titleFontSize\": 14, \"titlePadding\": 10, \"padding\": 1, \"orient\": \"right\", \"labelLimit\": 0, \"labelColor\": \"#333\", \"titleColor\": \"#333\"}, \"view\": {\"stroke\": \"transparent\"}, \"group\": {\"fill\": \"white\"}, \"arc\": {\"fill\": \"#8CBCCB\"}, \"area\": {\"fill\": \"#8CBCCB\"}, \"line\": {\"stroke\": \"#8CBCCB\", \"strokeWidth\": 2}, \"trail\": {\"color\": \"#8CBCCB\", \"stroke\": \"#8CBCCB\", \"strokeWidth\": 0, \"size\": 1}, \"path\": {\"stroke\": \"#8CBCCB\", \"strokeWidth\": 0.5}, \"rect\": {\"fill\": \"#8CBCCB\"}, \"point\": {\"filled\": true, \"shape\": \"circle\"}, \"shape\": {\"stroke\": \"#8CBCCB\"}, \"text\": {\"font\": \"Nunito Sans\", \"color\": \"#8CBCCB\", \"fontSize\": 11, \"align\": \"center\", \"fontWeight\": 400, \"size\": 11}, \"bar\": {\"binSpacing\": 2, \"fill\": \"#8CBCCB\", \"stroke\": false}, \"background\": \"white\", \"font\": \"Raleway\"}, \"data\": {\"name\": \"data-be0a61f6858afe7064d0d02b551f9805\"}, \"mark\": \"bar\", \"encoding\": {\"color\": {\"field\": \"count\", \"legend\": {\"title\": \"Count\"}, \"scale\": {\"range\": [\"#B9D6DF\", \"#8CBCCB\", \"#2EA8CE\", \"#136C97\", \"#0B405B\"]}, \"type\": \"quantitative\"}, \"tooltip\": [{\"field\": \"value\", \"type\": \"nominal\"}, {\"field\": \"count\", \"type\": \"quantitative\"}], \"x\": {\"field\": \"value\", \"sort\": \"-y\", \"title\": \"Value\", \"type\": \"nominal\"}, \"y\": {\"field\": \"count\", \"title\": \"Count\", \"type\": \"quantitative\"}}, \"title\": \"Top 20 Primary Agencies\", \"$schema\": \"https://vega.github.io/schema/vega-lite/v4.17.0.json\", \"datasets\": {\"data-be0a61f6858afe7064d0d02b551f9805\": [{\"value\": \"Los Angeles\", \"count\": 503, \"variable\": \"primary_agency_name\"}, {\"value\": \"Los Angeles County\", \"count\": 475, \"variable\": \"primary_agency_name\"}, {\"value\": \"Ventura County\", \"count\": 120, \"variable\": \"primary_agency_name\"}, {\"value\": \"Santa Clarita\", \"count\": 88, \"variable\": \"primary_agency_name\"}, {\"value\": \"Los Angeles County Metropolitan Transportation Authority\", \"count\": 87, \"variable\": \"primary_agency_name\"}, {\"value\": \"Long Beach\", \"count\": 83, \"variable\": \"primary_agency_name\"}, {\"value\": \"Oxnard\", \"count\": 74, \"variable\": \"primary_agency_name\"}, {\"value\": \"Pasadena\", \"count\": 74, \"variable\": \"primary_agency_name\"}, {\"value\": \"Downey\", \"count\": 64, \"variable\": \"primary_agency_name\"}, {\"value\": \"Lancaster\", \"count\": 62, \"variable\": \"primary_agency_name\"}, {\"value\": \"Simi Valley\", \"count\": 61, \"variable\": \"primary_agency_name\"}, {\"value\": \"Palmdale\", \"count\": 47, \"variable\": \"primary_agency_name\"}, {\"value\": \"Thousand Oaks\", \"count\": 40, \"variable\": \"primary_agency_name\"}, {\"value\": \"Pico Rivera\", \"count\": 39, \"variable\": \"primary_agency_name\"}, {\"value\": \"San Buenaventura\", \"count\": 36, \"variable\": \"primary_agency_name\"}, {\"value\": \"Camarillo\", \"count\": 35, \"variable\": \"primary_agency_name\"}, {\"value\": \"Glendale\", \"count\": 33, \"variable\": \"primary_agency_name\"}, {\"value\": \"Culver City\", \"count\": 31, \"variable\": \"primary_agency_name\"}, {\"value\": \"Burbank\", \"count\": 30, \"variable\": \"primary_agency_name\"}, {\"value\": \"Whittier\", \"count\": 30, \"variable\": \"primary_agency_name\"}]}}, {\"mode\": \"vega-lite\"});\n",
       "</script>"
      ],
      "text/plain": [
       "alt.Chart(...)"
      ]
     },
     "metadata": {},
     "output_type": "display_data"
    }
   ],
   "source": [
    "display(\n",
    "    Markdown(\n",
    "        f\"{df.prepared_y.min()}-{df.prepared_y.max()}: \"\n",
    "        f\"<br>The **top 20 agencies** were responsible for \"\n",
    "        f\"**{core_agency.pct_top20_project[0]}% of all projects** and \"\n",
    "        f\"**{core_agency.pct_top20_total_requested[0]}%** \"\n",
    "        \"**of total requested funds** (2021$).\"\n",
    "    )  \n",
    ")\n",
    "\n",
    "basic_bar_chart(df_top[df_top.variable==\"primary_agency_name\"], \"value\", \"count\", \n",
    "                title=\"Top 20 Primary Agencies\")"
   ]
  },
  {
   "cell_type": "code",
   "execution_count": 13,
   "id": "ad487fc7-1239-446e-87a6-5a39456a3957",
   "metadata": {},
   "outputs": [],
   "source": [
    "def make_funding_long(df, work_categories_list):\n",
    "    funding_cols = [\n",
    "        'adjusted_total_requested', 'adjusted_fed_requested', 'adjusted_ac_requested'\n",
    "    ]\n",
    "    \n",
    "    final = pd.DataFrame()\n",
    "    \n",
    "    # Since categories are not mutually exclusive, loop over the columns to include\n",
    "    # and create a new df that is long\n",
    "    for i in work_categories_list:\n",
    "        subset = df[df[i]==1]\n",
    "        agg_df = geography_utils.aggregate_by_geography(\n",
    "            subset,\n",
    "            group_cols = ['prepared_y'],\n",
    "            sum_cols = funding_cols,\n",
    "            count_cols = ['project_no'],\n",
    "            mean_cols = [\"processing_days\"],\n",
    "        )\n",
    "        agg_df = agg_df.assign(\n",
    "            category = i\n",
    "        )\n",
    "        \n",
    "        for c in funding_cols:\n",
    "            new_var = f\"mean_{c}\"\n",
    "            agg_df[new_var] = agg_df[c] / agg_df.project_no\n",
    "        \n",
    "        final = pd.concat([final, agg_df], axis=0, ignore_index=True)\n",
    "    \n",
    "    final = (final[final.prepared_y.notna()]\n",
    "             .reset_index(drop=True)\n",
    "             .astype({\"project_no\": \"int64\"}))\n",
    "             \n",
    "    return final"
   ]
  },
  {
   "cell_type": "code",
   "execution_count": 14,
   "id": "2d252bfd-f35f-4f39-9f87-3ec44303d4fd",
   "metadata": {},
   "outputs": [
    {
     "data": {
      "text/html": [
       "<div>\n",
       "<style scoped>\n",
       "    .dataframe tbody tr th:only-of-type {\n",
       "        vertical-align: middle;\n",
       "    }\n",
       "\n",
       "    .dataframe tbody tr th {\n",
       "        vertical-align: top;\n",
       "    }\n",
       "\n",
       "    .dataframe thead th {\n",
       "        text-align: right;\n",
       "    }\n",
       "</style>\n",
       "<table border=\"1\" class=\"dataframe\">\n",
       "  <thead>\n",
       "    <tr style=\"text-align: right;\">\n",
       "      <th></th>\n",
       "      <th>prepared_y</th>\n",
       "      <th>adjusted_ac_requested</th>\n",
       "      <th>adjusted_fed_requested</th>\n",
       "      <th>adjusted_total_requested</th>\n",
       "      <th>processing_days</th>\n",
       "      <th>project_no</th>\n",
       "      <th>category</th>\n",
       "      <th>mean_adjusted_total_requested</th>\n",
       "      <th>mean_adjusted_fed_requested</th>\n",
       "      <th>mean_adjusted_ac_requested</th>\n",
       "    </tr>\n",
       "  </thead>\n",
       "  <tbody>\n",
       "    <tr>\n",
       "      <th>0</th>\n",
       "      <td>2018</td>\n",
       "      <td>-25,446,488.67</td>\n",
       "      <td>24,614,783.84</td>\n",
       "      <td>13,010,339.98</td>\n",
       "      <td>38.15</td>\n",
       "      <td>97</td>\n",
       "      <td>active_transp</td>\n",
       "      <td>134,127.22</td>\n",
       "      <td>253,760.66</td>\n",
       "      <td>-262,334.93</td>\n",
       "    </tr>\n",
       "    <tr>\n",
       "      <th>1</th>\n",
       "      <td>2017</td>\n",
       "      <td>1,128,276.07</td>\n",
       "      <td>53,360,293.65</td>\n",
       "      <td>81,799,342.24</td>\n",
       "      <td>44.28</td>\n",
       "      <td>104</td>\n",
       "      <td>active_transp</td>\n",
       "      <td>786,532.14</td>\n",
       "      <td>513,079.75</td>\n",
       "      <td>10,848.81</td>\n",
       "    </tr>\n",
       "  </tbody>\n",
       "</table>\n",
       "</div>"
      ],
      "text/plain": [
       "   prepared_y  adjusted_ac_requested  adjusted_fed_requested  \\\n",
       "0        2018         -25,446,488.67           24,614,783.84   \n",
       "1        2017           1,128,276.07           53,360,293.65   \n",
       "\n",
       "   adjusted_total_requested  processing_days  project_no       category  \\\n",
       "0             13,010,339.98            38.15          97  active_transp   \n",
       "1             81,799,342.24            44.28         104  active_transp   \n",
       "\n",
       "   mean_adjusted_total_requested  mean_adjusted_fed_requested  \\\n",
       "0                     134,127.22                   253,760.66   \n",
       "1                     786,532.14                   513,079.75   \n",
       "\n",
       "   mean_adjusted_ac_requested  \n",
       "0                 -262,334.93  \n",
       "1                   10,848.81  "
      ]
     },
     "execution_count": 14,
     "metadata": {},
     "output_type": "execute_result"
    }
   ],
   "source": [
    "WORK_CATEGORIES = ['active_transp', 'transit', 'bridge', \n",
    "                   'street', 'freeway', 'infra_resiliency_er',\n",
    "                   'congestion_relief']\n",
    "\n",
    "by_work_categories = make_funding_long(df, WORK_CATEGORIES)\n",
    "\n",
    "by_work_categories.head(2) "
   ]
  },
  {
   "cell_type": "markdown",
   "id": "52ca116e-5c3f-478e-8f22-03e27bcbb94d",
   "metadata": {},
   "source": [
    "There's a possibility of needing to set the max y-axis value, especially if charts are being displayed side-by-side. Don't want one to be between 1-1M and another to be 1-10_000. \n",
    "\n",
    "May need to use some kind of calculation within chart function to set the Y_MAX"
   ]
  },
  {
   "cell_type": "code",
   "execution_count": 15,
   "id": "7e8c2da7-6a3a-4fa1-b3c0-4c7f168f14ac",
   "metadata": {},
   "outputs": [
    {
     "data": {
      "text/plain": [
       "806882498.8837694"
      ]
     },
     "execution_count": 15,
     "metadata": {},
     "output_type": "execute_result"
    }
   ],
   "source": [
    "MAX_Y = (df.groupby([\"prepared_y\"] + WORK_CATEGORIES)\n",
    "         .agg({\"adjusted_total_requested\":\"sum\"})\n",
    "         .reset_index()\n",
    "        )[[\"adjusted_total_requested\"]].max()[0]\n",
    "MAX_Y"
   ]
  },
  {
   "cell_type": "markdown",
   "id": "2f1ad9fc-ec73-4708-b396-860762c5f414",
   "metadata": {},
   "source": [
    "### Multiple Lines on Line Chart\n",
    "\n",
    "Two options for having multiple lines on `altair` chart\n",
    "\n",
    "1. Use `transform_filter`, then label at the end of the chart what that line represents\n",
    "* Labeling at the end of the line: https://stackoverflow.com/questions/61194028/adding-labels-at-end-of-line-chart-in-altair\n",
    "\n",
    "2. To have legend appear, the dataset must be long. It's the `alt.Color` encoding that is passed into the legend.\n",
    "\n",
    "Since each project can be tagged as several, making long dataset would require additional step to create this new aggregated df, not a simple pivot from wide to long."
   ]
  },
  {
   "cell_type": "code",
   "execution_count": 16,
   "id": "7ec273b0-dc07-4e5c-9e23-81475386222b",
   "metadata": {},
   "outputs": [],
   "source": [
    "from altair import datum\n",
    "\n",
    "\n",
    "def line_chart(df):\n",
    "    category_cols = [\"active_transp\", \"transit\", \"bridge\"]\n",
    "    MAX_Y = (df.groupby([\"prepared_y\"] + category_cols)\n",
    "             .agg({\"total_requested\":\"sum\"})\n",
    "             .reset_index()\n",
    "            )[[\"total_requested\"]].max()[0]\n",
    "    \n",
    "    \n",
    "    base = (alt.Chart(df)\n",
    "        .mark_line()\n",
    "        .encode(\n",
    "            x=alt.X(\"year(prepared_date):O\", title=\"Year\"),\n",
    "            y=alt.Y(\"sum(total_requested):Q\", title=\"Total Requested (2021$)\", \n",
    "                   scale=alt.Scale(domain=[0, 400_000_000])), \n",
    "        )\n",
    "       )\n",
    "    \n",
    "    active = (base\n",
    "             .encode(color=alt.value(\"blue\"),\n",
    "             ).transform_filter(datum.active_transp == 1)\n",
    "            )\n",
    "    \n",
    "    transit = (base\n",
    "             .encode(color=alt.value(\"green\"),\n",
    "             ).transform_filter(datum.transit == 1)\n",
    "            )\n",
    "    \n",
    "    bridge = (base\n",
    "             .encode(color=alt.value(\"orange\"),\n",
    "             ).transform_filter(datum.bridge == 1)\n",
    "            )\n",
    "    \n",
    "    chart = (active + transit + bridge)\n",
    "    return chart"
   ]
  },
  {
   "cell_type": "code",
   "execution_count": 17,
   "id": "3c8a021f-5055-412a-add1-ea6b55c701a0",
   "metadata": {},
   "outputs": [],
   "source": [
    "#line_chart(df)"
   ]
  },
  {
   "cell_type": "markdown",
   "id": "63ba2307-5356-4e59-b25a-22a7b47cee27",
   "metadata": {},
   "source": [
    "Do some work to get the highlight/tooltip with selection/legend changes to work.\n",
    "\n",
    "\n",
    "https://github.com/cal-itp/data-analyses/blob/main/msd_dashboard_metric/04_validation_errors.ipynb\n",
    "\n",
    "https://stackoverflow.com/questions/66108224/combine-hover-and-click-selections-in-altair\n",
    "\n",
    "https://altair-viz.github.io/gallery/interactive_legend.html"
   ]
  },
  {
   "cell_type": "code",
   "execution_count": 18,
   "id": "3ede7709-e486-4738-a631-9f7d6edcb4e8",
   "metadata": {},
   "outputs": [],
   "source": [
    "def line_chart2(df, y_col, chart_title):\n",
    "    \n",
    "    y_title = f\"{y_col.replace('adjusted_', '').replace('_', ' ')}\"\n",
    "    \n",
    "    if chart_title == \"\":\n",
    "        y_title.title()    \n",
    "    \n",
    "    #https://altair-viz.github.io/gallery/multiline_highlight.html\n",
    "    #https://altair-viz.github.io/gallery/interactive_legend.html\n",
    "    highlight = alt.selection(type='single', on=\"mouseover\", \n",
    "                              fields=['category', \"prepared_y\"], nearest=True)\n",
    "    selection = alt.selection_multi(\n",
    "                          fields=['category'], bind='legend')\n",
    "    \n",
    "\n",
    "    \n",
    "    chart = (alt.Chart(df)\n",
    "             .mark_line()\n",
    "             .encode(\n",
    "                 x=alt.X(\"prepared_y:O\", title=\"Year\"),\n",
    "                 y=alt.Y(f\"{y_col}:Q\", title=f\"{y_title} (2021$)\", \n",
    "                        scale=alt.Scale(domain=[0, \n",
    "                                                by_work_categories[y_col].max()\n",
    "                                               ])\n",
    "                        ),\n",
    "                 color=alt.Color(\"category:N\", title = \"Work Category\"),\n",
    "                 tooltip = alt.Tooltip([\"prepared_y\", y_col, \"category\"]),\n",
    "                 opacity=alt.condition(selection, alt.value(1), alt.value(0.2)),\n",
    "                 size=alt.condition(~highlight, alt.value(2), alt.value(5))\n",
    "             ).properties(title={\n",
    "                 \"text\": [f\"{chart_title} Funds\", \"by Work Categories\"],\n",
    "                 \"subtitle\": \"2021$\"\n",
    "             }).add_selection(\n",
    "                 selection, highlight)\n",
    "    )\n",
    "    \n",
    "    \n",
    "    chart = styleguide.preset_chart_config(chart)\n",
    "    return chart"
   ]
  },
  {
   "cell_type": "code",
   "execution_count": 19,
   "id": "1aa0b3cf-32f4-4229-b4ed-dd401f59492f",
   "metadata": {},
   "outputs": [
    {
     "data": {
      "text/html": [
       "\n",
       "<div id=\"altair-viz-1c96d3cf01a343aa93f495cf408b501d\"></div>\n",
       "<script type=\"text/javascript\">\n",
       "  var VEGA_DEBUG = (typeof VEGA_DEBUG == \"undefined\") ? {} : VEGA_DEBUG;\n",
       "  (function(spec, embedOpt){\n",
       "    let outputDiv = document.currentScript.previousElementSibling;\n",
       "    if (outputDiv.id !== \"altair-viz-1c96d3cf01a343aa93f495cf408b501d\") {\n",
       "      outputDiv = document.getElementById(\"altair-viz-1c96d3cf01a343aa93f495cf408b501d\");\n",
       "    }\n",
       "    const paths = {\n",
       "      \"vega\": \"https://cdn.jsdelivr.net/npm//vega@5?noext\",\n",
       "      \"vega-lib\": \"https://cdn.jsdelivr.net/npm//vega-lib?noext\",\n",
       "      \"vega-lite\": \"https://cdn.jsdelivr.net/npm//vega-lite@4.17.0?noext\",\n",
       "      \"vega-embed\": \"https://cdn.jsdelivr.net/npm//vega-embed@6?noext\",\n",
       "    };\n",
       "\n",
       "    function maybeLoadScript(lib, version) {\n",
       "      var key = `${lib.replace(\"-\", \"\")}_version`;\n",
       "      return (VEGA_DEBUG[key] == version) ?\n",
       "        Promise.resolve(paths[lib]) :\n",
       "        new Promise(function(resolve, reject) {\n",
       "          var s = document.createElement('script');\n",
       "          document.getElementsByTagName(\"head\")[0].appendChild(s);\n",
       "          s.async = true;\n",
       "          s.onload = () => {\n",
       "            VEGA_DEBUG[key] = version;\n",
       "            return resolve(paths[lib]);\n",
       "          };\n",
       "          s.onerror = () => reject(`Error loading script: ${paths[lib]}`);\n",
       "          s.src = paths[lib];\n",
       "        });\n",
       "    }\n",
       "\n",
       "    function showError(err) {\n",
       "      outputDiv.innerHTML = `<div class=\"error\" style=\"color:red;\">${err}</div>`;\n",
       "      throw err;\n",
       "    }\n",
       "\n",
       "    function displayChart(vegaEmbed) {\n",
       "      vegaEmbed(outputDiv, spec, embedOpt)\n",
       "        .catch(err => showError(`Javascript Error: ${err.message}<br>This usually means there's a typo in your chart specification. See the javascript console for the full traceback.`));\n",
       "    }\n",
       "\n",
       "    if(typeof define === \"function\" && define.amd) {\n",
       "      requirejs.config({paths});\n",
       "      require([\"vega-embed\"], displayChart, err => showError(`Error loading script: ${err.message}`));\n",
       "    } else {\n",
       "      maybeLoadScript(\"vega\", \"5\")\n",
       "        .then(() => maybeLoadScript(\"vega-lite\", \"4.17.0\"))\n",
       "        .then(() => maybeLoadScript(\"vega-embed\", \"6\"))\n",
       "        .catch(showError)\n",
       "        .then(() => displayChart(vegaEmbed));\n",
       "    }\n",
       "  })({\"width\": 400, \"height\": 250, \"background\": \"white\", \"config\": {\"title\": {\"fontSize\": 18, \"font\": \"Raleway\", \"anchor\": \"middle\", \"fontColor\": \"#333\", \"fontWeight\": 300, \"offset\": 20}, \"header\": {\"labelFont\": \"Nunito Sans\", \"titleFont\": \"Raleway\"}, \"axis\": {\"domain\": true, \"domainColor\": \"#cbcbcb\", \"grid\": true, \"gridColor\": \"#cbcbcb\", \"gridWidth\": 1, \"labelColor\": \"#474747\", \"labelFontSize\": 10, \"titleColor\": \"#333\", \"tickColor\": \"#cbcbcb\", \"tickSize\": 10, \"titleFontSize\": 12, \"titlePadding\": 10, \"labelPadding\": 4, \"labelFont\": \"Nunito Sans\", \"titleFont\": \"Raleway\"}, \"axisBand\": {\"grid\": false}, \"range\": {\"category_bright\": [\"#2EA8CE\", \"#EB9F3C\", \"#F4D837\", \"#51BF9D\", \"#8CBCCB\", \"#9487C0\"], \"category_bold\": [\"#136C97\", \"#E16B26\", \"#F6BF16\", \"#00896B\", \"#7790A3\", \"#5B559C\"], \"diverging\": [\"#E16B26\", \"#EB9F3C\", \"#f6e7e1\", \"#8CBCCB\", \"#2EA8CE\", \"#136C97\"], \"sequential\": [\"#B9D6DF\", \"#8CBCCB\", \"#2EA8CE\", \"#136C97\", \"#0B405B\"]}, \"legend\": {\"labelFont\": \"Nunito Sans\", \"labelFontSize\": 11, \"symbolType\": \"square\", \"symbolSize\": 30, \"titleFont\": \"Raleway\", \"titleFontSize\": 14, \"titlePadding\": 10, \"padding\": 1, \"orient\": \"right\", \"labelLimit\": 0, \"labelColor\": \"#333\", \"titleColor\": \"#333\"}, \"view\": {\"stroke\": \"transparent\"}, \"group\": {\"fill\": \"white\"}, \"arc\": {\"fill\": \"#8CBCCB\"}, \"area\": {\"fill\": \"#8CBCCB\"}, \"line\": {\"stroke\": \"#8CBCCB\", \"strokeWidth\": 2}, \"trail\": {\"color\": \"#8CBCCB\", \"stroke\": \"#8CBCCB\", \"strokeWidth\": 0, \"size\": 1}, \"path\": {\"stroke\": \"#8CBCCB\", \"strokeWidth\": 0.5}, \"rect\": {\"fill\": \"#8CBCCB\"}, \"point\": {\"filled\": true, \"shape\": \"circle\"}, \"shape\": {\"stroke\": \"#8CBCCB\"}, \"text\": {\"font\": \"Nunito Sans\", \"color\": \"#8CBCCB\", \"fontSize\": 11, \"align\": \"center\", \"fontWeight\": 400, \"size\": 11}, \"bar\": {\"binSpacing\": 2, \"fill\": \"#8CBCCB\", \"stroke\": false}, \"background\": \"white\", \"font\": \"Raleway\"}, \"data\": {\"name\": \"data-18c15e1e8cdf85181d8d2b962c82dfc4\"}, \"mark\": \"line\", \"encoding\": {\"color\": {\"field\": \"category\", \"title\": \"Work Category\", \"type\": \"nominal\"}, \"opacity\": {\"condition\": {\"value\": 1, \"selection\": \"selector002\"}, \"value\": 0.2}, \"size\": {\"condition\": {\"value\": 2, \"selection\": {\"not\": \"selector001\"}}, \"value\": 5}, \"tooltip\": [{\"field\": \"prepared_y\", \"type\": \"quantitative\"}, {\"field\": \"adjusted_total_requested\", \"type\": \"quantitative\"}, {\"field\": \"category\", \"type\": \"nominal\"}], \"x\": {\"field\": \"prepared_y\", \"title\": \"Year\", \"type\": \"ordinal\"}, \"y\": {\"field\": \"adjusted_total_requested\", \"scale\": {\"domain\": [0, 945838433.2756289]}, \"title\": \"total requested (2021$)\", \"type\": \"quantitative\"}}, \"selection\": {\"selector002\": {\"type\": \"multi\", \"fields\": [\"category\"], \"bind\": \"legend\"}, \"selector001\": {\"type\": \"single\", \"on\": \"mouseover\", \"fields\": [\"category\", \"prepared_y\"], \"nearest\": true}}, \"title\": {\"text\": [\"Total Requested Funds\", \"by Work Categories\"], \"subtitle\": \"2021$\"}, \"$schema\": \"https://vega.github.io/schema/vega-lite/v4.17.0.json\", \"datasets\": {\"data-18c15e1e8cdf85181d8d2b962c82dfc4\": [{\"prepared_y\": 2018, \"adjusted_ac_requested\": -25446488.671199974, \"adjusted_fed_requested\": 24614783.835152432, \"adjusted_total_requested\": 13010339.98198165, \"processing_days\": 38.154639175257735, \"project_no\": 97, \"category\": \"active_transp\", \"mean_adjusted_total_requested\": 134127.21630908918, \"mean_adjusted_fed_requested\": 253760.65809435496, \"mean_adjusted_ac_requested\": -262334.93475463893}, {\"prepared_y\": 2017, \"adjusted_ac_requested\": 1128276.0682410004, \"adjusted_fed_requested\": 53360293.64912968, \"adjusted_total_requested\": 81799342.2361977, \"processing_days\": 44.27884615384615, \"project_no\": 104, \"category\": \"active_transp\", \"mean_adjusted_total_requested\": 786532.1368865164, \"mean_adjusted_fed_requested\": 513079.74662624695, \"mean_adjusted_ac_requested\": 10848.808348471157}, {\"prepared_y\": 2016, \"adjusted_ac_requested\": 0.0, \"adjusted_fed_requested\": 67105385.997505754, \"adjusted_total_requested\": 92641506.43509711, \"processing_days\": 33.1981981981982, \"project_no\": 111, \"category\": \"active_transp\", \"mean_adjusted_total_requested\": 834608.166081956, \"mean_adjusted_fed_requested\": 604553.0270045564, \"mean_adjusted_ac_requested\": 0.0}, {\"prepared_y\": 2015, \"adjusted_ac_requested\": 0.0, \"adjusted_fed_requested\": 16899364.16608809, \"adjusted_total_requested\": 20509454.877400357, \"processing_days\": 19.444444444444443, \"project_no\": 81, \"category\": \"active_transp\", \"mean_adjusted_total_requested\": 253203.1466345723, \"mean_adjusted_fed_requested\": 208634.12550726035, \"mean_adjusted_ac_requested\": 0.0}, {\"prepared_y\": 2014, \"adjusted_ac_requested\": -1951555.951611174, \"adjusted_fed_requested\": 25257353.850119773, \"adjusted_total_requested\": 41878334.388244815, \"processing_days\": 20.99019607843137, \"project_no\": 102, \"category\": \"active_transp\", \"mean_adjusted_total_requested\": 410571.90576710604, \"mean_adjusted_fed_requested\": 247621.11617764484, \"mean_adjusted_ac_requested\": -19132.90148638406}, {\"prepared_y\": 2013, \"adjusted_ac_requested\": 0.0, \"adjusted_fed_requested\": 1511654.4591112856, \"adjusted_total_requested\": 4991821.819622103, \"processing_days\": 103.0, \"project_no\": 7, \"category\": \"active_transp\", \"mean_adjusted_total_requested\": 713117.4028031576, \"mean_adjusted_fed_requested\": 215950.63701589796, \"mean_adjusted_ac_requested\": 0.0}, {\"prepared_y\": 2012, \"adjusted_ac_requested\": 0.0, \"adjusted_fed_requested\": -129182.70175671362, \"adjusted_total_requested\": -145762.3503335823, \"processing_days\": 493.0, \"project_no\": 1, \"category\": \"active_transp\", \"mean_adjusted_total_requested\": -145762.3503335823, \"mean_adjusted_fed_requested\": -129182.70175671362, \"mean_adjusted_ac_requested\": 0.0}, {\"prepared_y\": 2019, \"adjusted_ac_requested\": 1814034.7900273078, \"adjusted_fed_requested\": 47858783.39244699, \"adjusted_total_requested\": 81501797.17189452, \"processing_days\": 62.16814159292036, \"project_no\": 113, \"category\": \"active_transp\", \"mean_adjusted_total_requested\": 721254.842229155, \"mean_adjusted_fed_requested\": 423529.0565703273, \"mean_adjusted_ac_requested\": 16053.4052214806}, {\"prepared_y\": 2020, \"adjusted_ac_requested\": -2252053.133484617, \"adjusted_fed_requested\": 19801708.36126683, \"adjusted_total_requested\": 28342100.662350606, \"processing_days\": 37.18072289156626, \"project_no\": 83, \"category\": \"active_transp\", \"mean_adjusted_total_requested\": 341471.09231747716, \"mean_adjusted_fed_requested\": 238574.7995333353, \"mean_adjusted_ac_requested\": -27133.17028294719}, {\"prepared_y\": 2021, \"adjusted_ac_requested\": 0.0, \"adjusted_fed_requested\": 37471438.89222324, \"adjusted_total_requested\": 48288921.77483793, \"processing_days\": 33.95192307692308, \"project_no\": 104, \"category\": \"active_transp\", \"mean_adjusted_total_requested\": 464316.5555272878, \"mean_adjusted_fed_requested\": 360302.2970406081, \"mean_adjusted_ac_requested\": 0.0}, {\"prepared_y\": 2022, \"adjusted_ac_requested\": 0.0, \"adjusted_fed_requested\": 352190.8161985856, \"adjusted_total_requested\": 765194.9421621353, \"processing_days\": 42.88235294117647, \"project_no\": 17, \"category\": \"active_transp\", \"mean_adjusted_total_requested\": 45011.467186007954, \"mean_adjusted_fed_requested\": 20717.106835210918, \"mean_adjusted_ac_requested\": 0.0}, {\"prepared_y\": 2018, \"adjusted_ac_requested\": 0.0, \"adjusted_fed_requested\": 10693796.212839218, \"adjusted_total_requested\": 49785877.30829463, \"processing_days\": 21.16, \"project_no\": 25, \"category\": \"transit\", \"mean_adjusted_total_requested\": 1991435.0923317852, \"mean_adjusted_fed_requested\": 427751.8485135687, \"mean_adjusted_ac_requested\": 0.0}, {\"prepared_y\": 2017, \"adjusted_ac_requested\": 0.0, \"adjusted_fed_requested\": 4340118.652711754, \"adjusted_total_requested\": 6751417.165939989, \"processing_days\": 44.6, \"project_no\": 10, \"category\": \"transit\", \"mean_adjusted_total_requested\": 675141.7165939988, \"mean_adjusted_fed_requested\": 434011.8652711754, \"mean_adjusted_ac_requested\": 0.0}, {\"prepared_y\": 2016, \"adjusted_ac_requested\": 0.0, \"adjusted_fed_requested\": 9397214.326721383, \"adjusted_total_requested\": 10721010.013810614, \"processing_days\": 27.72222222222222, \"project_no\": 18, \"category\": \"transit\", \"mean_adjusted_total_requested\": 595611.667433923, \"mean_adjusted_fed_requested\": 522067.4625956324, \"mean_adjusted_ac_requested\": 0.0}, {\"prepared_y\": 2015, \"adjusted_ac_requested\": 0.0, \"adjusted_fed_requested\": -10141.10801208354, \"adjusted_total_requested\": 1486184.8376243056, \"processing_days\": 16.09090909090909, \"project_no\": 11, \"category\": \"transit\", \"mean_adjusted_total_requested\": 135107.71251130052, \"mean_adjusted_fed_requested\": -921.9189101894127, \"mean_adjusted_ac_requested\": 0.0}, {\"prepared_y\": 2014, \"adjusted_ac_requested\": -2.9103830456733704e-11, \"adjusted_fed_requested\": 7821204.339095846, \"adjusted_total_requested\": 27267863.75455418, \"processing_days\": 12.166666666666666, \"project_no\": 24, \"category\": \"transit\", \"mean_adjusted_total_requested\": 1136160.9897730907, \"mean_adjusted_fed_requested\": 325883.51412899356, \"mean_adjusted_ac_requested\": -1.2126596023639042e-12}, {\"prepared_y\": 2013, \"adjusted_ac_requested\": 0.0, \"adjusted_fed_requested\": 532734.4489344687, \"adjusted_total_requested\": 649708.0452721235, \"processing_days\": 46.0, \"project_no\": 2, \"category\": \"transit\", \"mean_adjusted_total_requested\": 324854.02263606177, \"mean_adjusted_fed_requested\": 266367.22446723434, \"mean_adjusted_ac_requested\": 0.0}, {\"prepared_y\": 2019, \"adjusted_ac_requested\": 3360036.448178963, \"adjusted_fed_requested\": 6457389.150260265, \"adjusted_total_requested\": 11519727.459111987, \"processing_days\": 54.76190476190476, \"project_no\": 21, \"category\": \"transit\", \"mean_adjusted_total_requested\": 548558.4504339041, \"mean_adjusted_fed_requested\": 307494.721440965, \"mean_adjusted_ac_requested\": 160001.73562756967}, {\"prepared_y\": 2020, \"adjusted_ac_requested\": -1850855.8460078852, \"adjusted_fed_requested\": 28724248.60608912, \"adjusted_total_requested\": 29817762.39377013, \"processing_days\": 39.8, \"project_no\": 30, \"category\": \"transit\", \"mean_adjusted_total_requested\": 993925.413125671, \"mean_adjusted_fed_requested\": 957474.953536304, \"mean_adjusted_ac_requested\": -61695.19486692951}, {\"prepared_y\": 2021, \"adjusted_ac_requested\": 2448332.065100592, \"adjusted_fed_requested\": 30647345.010543365, \"adjusted_total_requested\": 69614220.41634203, \"processing_days\": 40.607142857142854, \"project_no\": 28, \"category\": \"transit\", \"mean_adjusted_total_requested\": 2486222.157726501, \"mean_adjusted_fed_requested\": 1094548.0360908345, \"mean_adjusted_ac_requested\": 87440.43089644972}, {\"prepared_y\": 2022, \"adjusted_ac_requested\": -2727068.823478737, \"adjusted_fed_requested\": 12255261.026446568, \"adjusted_total_requested\": 9901172.556020316, \"processing_days\": 13.0, \"project_no\": 8, \"category\": \"transit\", \"mean_adjusted_total_requested\": 1237646.5695025395, \"mean_adjusted_fed_requested\": 1531907.628305821, \"mean_adjusted_ac_requested\": -340883.6029348421}, {\"prepared_y\": 2018, \"adjusted_ac_requested\": -24699476.60419454, \"adjusted_fed_requested\": 44244925.85776291, \"adjusted_total_requested\": 36485124.616277106, \"processing_days\": 70.11764705882354, \"project_no\": 34, \"category\": \"bridge\", \"mean_adjusted_total_requested\": 1073091.9004787384, \"mean_adjusted_fed_requested\": 1301321.3487577327, \"mean_adjusted_ac_requested\": -726455.1942410159}, {\"prepared_y\": 2017, \"adjusted_ac_requested\": -43582471.943193175, \"adjusted_fed_requested\": 78552892.55421379, \"adjusted_total_requested\": 43731790.454664685, \"processing_days\": 50.59090909090909, \"project_no\": 44, \"category\": \"bridge\", \"mean_adjusted_total_requested\": 993904.3285151065, \"mean_adjusted_fed_requested\": 1785293.012595768, \"mean_adjusted_ac_requested\": -990510.7259816631}, {\"prepared_y\": 2016, \"adjusted_ac_requested\": -74273716.23768528, \"adjusted_fed_requested\": 59742804.4416172, \"adjusted_total_requested\": 111730244.79589956, \"processing_days\": 47.916666666666664, \"project_no\": 36, \"category\": \"bridge\", \"mean_adjusted_total_requested\": 3103617.91099721, \"mean_adjusted_fed_requested\": 1659522.3456004777, \"mean_adjusted_ac_requested\": -2063158.7843801465}, {\"prepared_y\": 2015, \"adjusted_ac_requested\": -3693184.241383532, \"adjusted_fed_requested\": 27724401.992414895, \"adjusted_total_requested\": 65847392.30576161, \"processing_days\": 38.130434782608695, \"project_no\": 46, \"category\": \"bridge\", \"mean_adjusted_total_requested\": 1431465.0501252525, \"mean_adjusted_fed_requested\": 602704.3911394542, \"mean_adjusted_ac_requested\": -80286.61394312026}, {\"prepared_y\": 2014, \"adjusted_ac_requested\": 306530025.70700914, \"adjusted_fed_requested\": 44145815.53134535, \"adjusted_total_requested\": 360556535.7132808, \"processing_days\": 27.21875, \"project_no\": 32, \"category\": \"bridge\", \"mean_adjusted_total_requested\": 11267391.741040025, \"mean_adjusted_fed_requested\": 1379556.7353545423, \"mean_adjusted_ac_requested\": 9579063.303344036}, {\"prepared_y\": 2013, \"adjusted_ac_requested\": 0.0, \"adjusted_fed_requested\": 6472629.663015109, \"adjusted_total_requested\": 7340450.823437531, \"processing_days\": 125.0, \"project_no\": 5, \"category\": \"bridge\", \"mean_adjusted_total_requested\": 1468090.1646875062, \"mean_adjusted_fed_requested\": 1294525.9326030216, \"mean_adjusted_ac_requested\": 0.0}, {\"prepared_y\": 2019, \"adjusted_ac_requested\": 8826977.127313927, \"adjusted_fed_requested\": 38871313.91266052, \"adjusted_total_requested\": 56425099.58339269, \"processing_days\": 52.75, \"project_no\": 32, \"category\": \"bridge\", \"mean_adjusted_total_requested\": 1763284.3619810215, \"mean_adjusted_fed_requested\": 1214728.5597706411, \"mean_adjusted_ac_requested\": 275843.0352285602}, {\"prepared_y\": 2020, \"adjusted_ac_requested\": -28192703.11143406, \"adjusted_fed_requested\": 55357717.48787679, \"adjusted_total_requested\": 53273006.32958906, \"processing_days\": 70.61538461538461, \"project_no\": 26, \"category\": \"bridge\", \"mean_adjusted_total_requested\": 2048961.7819072716, \"mean_adjusted_fed_requested\": 2129142.980302953, \"mean_adjusted_ac_requested\": -1084334.7350551563}, {\"prepared_y\": 2021, \"adjusted_ac_requested\": -12456488.69845967, \"adjusted_fed_requested\": 27767764.728174, \"adjusted_total_requested\": 172106762.74321938, \"processing_days\": 33.4375, \"project_no\": 32, \"category\": \"bridge\", \"mean_adjusted_total_requested\": 5378336.3357256055, \"mean_adjusted_fed_requested\": 867742.6477554375, \"mean_adjusted_ac_requested\": -389265.2718268647}, {\"prepared_y\": 2022, \"adjusted_ac_requested\": -7255206.502708893, \"adjusted_fed_requested\": 4952846.751563589, \"adjusted_total_requested\": -2272241.0503186933, \"processing_days\": 18.0, \"project_no\": 5, \"category\": \"bridge\", \"mean_adjusted_total_requested\": -454448.21006373863, \"mean_adjusted_fed_requested\": 990569.3503127178, \"mean_adjusted_ac_requested\": -1451041.3005417786}, {\"prepared_y\": 2018, \"adjusted_ac_requested\": -14315447.29929794, \"adjusted_fed_requested\": 75978897.64090319, \"adjusted_total_requested\": 122714320.17154114, \"processing_days\": 28.08743169398907, \"project_no\": 183, \"category\": \"street\", \"mean_adjusted_total_requested\": 670570.055582192, \"mean_adjusted_fed_requested\": 415185.23301039997, \"mean_adjusted_ac_requested\": -78226.48797430568}, {\"prepared_y\": 2017, \"adjusted_ac_requested\": 956999.9207196175, \"adjusted_fed_requested\": 65181430.65836703, \"adjusted_total_requested\": 88261705.79128315, \"processing_days\": 42.97752808988764, \"project_no\": 178, \"category\": \"street\", \"mean_adjusted_total_requested\": 495852.2797263098, \"mean_adjusted_fed_requested\": 366187.8126874552, \"mean_adjusted_ac_requested\": 5376.404048986616}, {\"prepared_y\": 2016, \"adjusted_ac_requested\": -27470691.565230444, \"adjusted_fed_requested\": 88349867.30904444, \"adjusted_total_requested\": 82274442.9963805, \"processing_days\": 35.335260115606935, \"project_no\": 173, \"category\": \"street\", \"mean_adjusted_total_requested\": 475574.81500797975, \"mean_adjusted_fed_requested\": 510692.87461875397, \"mean_adjusted_ac_requested\": -158790.12465451125}, {\"prepared_y\": 2015, \"adjusted_ac_requested\": 156174990.9078252, \"adjusted_fed_requested\": 96809192.17616333, \"adjusted_total_requested\": 405968563.6401263, \"processing_days\": 18.397350993377483, \"project_no\": 151, \"category\": \"street\", \"mean_adjusted_total_requested\": 2688533.5340405717, \"mean_adjusted_fed_requested\": 641120.4779878366, \"mean_adjusted_ac_requested\": 1034271.4629657298}, {\"prepared_y\": 2014, \"adjusted_ac_requested\": -33917412.904824264, \"adjusted_fed_requested\": 124503544.19101314, \"adjusted_total_requested\": 124111943.72614056, \"processing_days\": 21.573394495412845, \"project_no\": 218, \"category\": \"street\", \"mean_adjusted_total_requested\": 569320.8427804613, \"mean_adjusted_fed_requested\": 571117.1751881337, \"mean_adjusted_ac_requested\": -155584.46286616634}, {\"prepared_y\": 2013, \"adjusted_ac_requested\": 33376569.289918713, \"adjusted_fed_requested\": 2069401.8372813151, \"adjusted_total_requested\": 35586409.942881525, \"processing_days\": 102.875, \"project_no\": 8, \"category\": \"street\", \"mean_adjusted_total_requested\": 4448301.242860191, \"mean_adjusted_fed_requested\": 258675.2296601644, \"mean_adjusted_ac_requested\": 4172071.161239839}, {\"prepared_y\": 2019, \"adjusted_ac_requested\": -26597025.2283388, \"adjusted_fed_requested\": 84902393.21802446, \"adjusted_total_requested\": 77334227.3528732, \"processing_days\": 48.072625698324025, \"project_no\": 179, \"category\": \"street\", \"mean_adjusted_total_requested\": 432034.7896808559, \"mean_adjusted_fed_requested\": 474315.0459107512, \"mean_adjusted_ac_requested\": -148586.7331192112}, {\"prepared_y\": 2020, \"adjusted_ac_requested\": -688398.5978189622, \"adjusted_fed_requested\": 70946450.37449639, \"adjusted_total_requested\": 100671802.31732932, \"processing_days\": 37.23030303030303, \"project_no\": 165, \"category\": \"street\", \"mean_adjusted_total_requested\": 610132.1352565413, \"mean_adjusted_fed_requested\": 429978.4871181599, \"mean_adjusted_ac_requested\": -4172.112714054316}, {\"prepared_y\": 2021, \"adjusted_ac_requested\": 3877650.132366825, \"adjusted_fed_requested\": 52662026.24915412, \"adjusted_total_requested\": 73417303.70520465, \"processing_days\": 38.54545454545455, \"project_no\": 143, \"category\": \"street\", \"mean_adjusted_total_requested\": 513407.71821821434, \"mean_adjusted_fed_requested\": 368265.9178262526, \"mean_adjusted_ac_requested\": 27116.4344920757}, {\"prepared_y\": 2022, \"adjusted_ac_requested\": -2964128.0288293, \"adjusted_fed_requested\": 10443480.47643163, \"adjusted_total_requested\": 12898780.214634996, \"processing_days\": 19.78787878787879, \"project_no\": 33, \"category\": \"street\", \"mean_adjusted_total_requested\": 390872.127716212, \"mean_adjusted_fed_requested\": 316469.10534641304, \"mean_adjusted_ac_requested\": -89822.06147967576}, {\"prepared_y\": 2018, \"adjusted_ac_requested\": -15027903.734205699, \"adjusted_fed_requested\": 18201534.17668973, \"adjusted_total_requested\": 3173670.757749643, \"processing_days\": 61.0, \"project_no\": 3, \"category\": \"freeway\", \"mean_adjusted_total_requested\": 1057890.2525832143, \"mean_adjusted_fed_requested\": 6067178.058896576, \"mean_adjusted_ac_requested\": -5009301.244735233}, {\"prepared_y\": 2017, \"adjusted_ac_requested\": 0.0, \"adjusted_fed_requested\": -2222716.1417363896, \"adjusted_total_requested\": 2067977.923287061, \"processing_days\": 41.666666666666664, \"project_no\": 3, \"category\": \"freeway\", \"mean_adjusted_total_requested\": 689325.9744290203, \"mean_adjusted_fed_requested\": -740905.3805787965, \"mean_adjusted_ac_requested\": 0.0}, {\"prepared_y\": 2016, \"adjusted_ac_requested\": 0.0, \"adjusted_fed_requested\": 32822936.410806254, \"adjusted_total_requested\": 29505227.941359054, \"processing_days\": 67.15384615384616, \"project_no\": 13, \"category\": \"freeway\", \"mean_adjusted_total_requested\": 2269632.918566081, \"mean_adjusted_fed_requested\": 2524841.262369712, \"mean_adjusted_ac_requested\": 0.0}, {\"prepared_y\": 2015, \"adjusted_ac_requested\": 45272752.58736716, \"adjusted_fed_requested\": 60737912.29544717, \"adjusted_total_requested\": 120976275.20688392, \"processing_days\": 38.5, \"project_no\": 2, \"category\": \"freeway\", \"mean_adjusted_total_requested\": 60488137.60344196, \"mean_adjusted_fed_requested\": 30368956.147723585, \"mean_adjusted_ac_requested\": 22636376.29368358}, {\"prepared_y\": 2014, \"adjusted_ac_requested\": 0.0, \"adjusted_fed_requested\": -1198166.9219063744, \"adjusted_total_requested\": -1122920.0522542787, \"processing_days\": 3.5, \"project_no\": 2, \"category\": \"freeway\", \"mean_adjusted_total_requested\": -561460.0261271393, \"mean_adjusted_fed_requested\": -599083.4609531872, \"mean_adjusted_ac_requested\": 0.0}, {\"prepared_y\": 2019, \"adjusted_ac_requested\": -27211427.90170499, \"adjusted_fed_requested\": 27346865.45835602, \"adjusted_total_requested\": 153445.3539686227, \"processing_days\": 51.666666666666664, \"project_no\": 3, \"category\": \"freeway\", \"mean_adjusted_total_requested\": 51148.45132287423, \"mean_adjusted_fed_requested\": 9115621.819452006, \"mean_adjusted_ac_requested\": -9070475.967234997}, {\"prepared_y\": 2020, \"adjusted_ac_requested\": 0.0, \"adjusted_fed_requested\": 29430942.40823577, \"adjusted_total_requested\": 29434739.122731637, \"processing_days\": 34.44444444444444, \"project_no\": 9, \"category\": \"freeway\", \"mean_adjusted_total_requested\": 3270526.569192404, \"mean_adjusted_fed_requested\": 3270104.7120261965, \"mean_adjusted_ac_requested\": 0.0}, {\"prepared_y\": 2021, \"adjusted_ac_requested\": 0.0, \"adjusted_fed_requested\": 92659.75891287335, \"adjusted_total_requested\": 92659.75891287335, \"processing_days\": 67.0, \"project_no\": 5, \"category\": \"freeway\", \"mean_adjusted_total_requested\": 18531.95178257467, \"mean_adjusted_fed_requested\": 18531.95178257467, \"mean_adjusted_ac_requested\": 0.0}, {\"prepared_y\": 2018, \"adjusted_ac_requested\": -157621.67091235146, \"adjusted_fed_requested\": 250353067.66985574, \"adjusted_total_requested\": 273426119.3367163, \"processing_days\": 34.43888888888889, \"project_no\": 180, \"category\": \"infra_resiliency_er\", \"mean_adjusted_total_requested\": 1519033.9963150905, \"mean_adjusted_fed_requested\": 1390850.375943643, \"mean_adjusted_ac_requested\": -875.6759495130636}, {\"prepared_y\": 2017, \"adjusted_ac_requested\": -7243957.571858387, \"adjusted_fed_requested\": 223090683.40463573, \"adjusted_total_requested\": 241543050.65524167, \"processing_days\": 35.26470588235294, \"project_no\": 170, \"category\": \"infra_resiliency_er\", \"mean_adjusted_total_requested\": 1420841.474442598, \"mean_adjusted_fed_requested\": 1312298.1376743277, \"mean_adjusted_ac_requested\": -42611.51512857875}, {\"prepared_y\": 2016, \"adjusted_ac_requested\": -229750879.1301967, \"adjusted_fed_requested\": 300089459.35395914, \"adjusted_total_requested\": 136468773.67240602, \"processing_days\": 39.46022727272727, \"project_no\": 176, \"category\": \"infra_resiliency_er\", \"mean_adjusted_total_requested\": 775390.7595023069, \"mean_adjusted_fed_requested\": 1705053.7463293134, \"mean_adjusted_ac_requested\": -1305402.7223306631}, {\"prepared_y\": 2015, \"adjusted_ac_requested\": -35506947.69147361, \"adjusted_fed_requested\": 203779685.64691353, \"adjusted_total_requested\": 237859988.19534972, \"processing_days\": 22.261306532663315, \"project_no\": 199, \"category\": \"infra_resiliency_er\", \"mean_adjusted_total_requested\": 1195276.322589697, \"mean_adjusted_fed_requested\": 1024018.5208387615, \"mean_adjusted_ac_requested\": -178426.87282147544}, {\"prepared_y\": 2014, \"adjusted_ac_requested\": 273686254.72747004, \"adjusted_fed_requested\": 274498728.10369545, \"adjusted_total_requested\": 570870583.5279565, \"processing_days\": 22.443396226415093, \"project_no\": 212, \"category\": \"infra_resiliency_er\", \"mean_adjusted_total_requested\": 2692785.771358285, \"mean_adjusted_fed_requested\": 1294805.3212438466, \"mean_adjusted_ac_requested\": 1290972.8996578776}, {\"prepared_y\": 2013, \"adjusted_ac_requested\": 33376569.289918713, \"adjusted_fed_requested\": 13323553.488262514, \"adjusted_total_requested\": 23700976.37967294, \"processing_days\": 164.26315789473685, \"project_no\": 19, \"category\": \"infra_resiliency_er\", \"mean_adjusted_total_requested\": 1247419.8094564707, \"mean_adjusted_fed_requested\": 701239.6572769744, \"mean_adjusted_ac_requested\": 1756661.541574669}, {\"prepared_y\": 2019, \"adjusted_ac_requested\": 12305135.4992978, \"adjusted_fed_requested\": 260001923.42175895, \"adjusted_total_requested\": 297040847.16508734, \"processing_days\": 53.180851063829785, \"project_no\": 188, \"category\": \"infra_resiliency_er\", \"mean_adjusted_total_requested\": 1580004.506197273, \"mean_adjusted_fed_requested\": 1382988.9543710581, \"mean_adjusted_ac_requested\": 65452.84840052021}, {\"prepared_y\": 2020, \"adjusted_ac_requested\": -9997842.555134738, \"adjusted_fed_requested\": 368655076.5099702, \"adjusted_total_requested\": 945838433.2756289, \"processing_days\": 38.35329341317365, \"project_no\": 167, \"category\": \"infra_resiliency_er\", \"mean_adjusted_total_requested\": 5663703.193267239, \"mean_adjusted_fed_requested\": 2207515.428203414, \"mean_adjusted_ac_requested\": -59867.320689429565}, {\"prepared_y\": 2021, \"adjusted_ac_requested\": 5966514.841330186, \"adjusted_fed_requested\": 331140874.07322955, \"adjusted_total_requested\": 534246542.48639584, \"processing_days\": 33.63513513513514, \"project_no\": 148, \"category\": \"infra_resiliency_er\", \"mean_adjusted_total_requested\": 3609773.9357188907, \"mean_adjusted_fed_requested\": 2237438.338332632, \"mean_adjusted_ac_requested\": 40314.289468447205}, {\"prepared_y\": 2022, \"adjusted_ac_requested\": -1810046.4164201773, \"adjusted_fed_requested\": 86860732.16055174, \"adjusted_total_requested\": 87631991.67901853, \"processing_days\": 19.285714285714285, \"project_no\": 28, \"category\": \"infra_resiliency_er\", \"mean_adjusted_total_requested\": 3129713.988536376, \"mean_adjusted_fed_requested\": 3102169.0057339906, \"mean_adjusted_ac_requested\": -64644.51487214919}, {\"prepared_y\": 2017, \"adjusted_ac_requested\": 0.0, \"adjusted_fed_requested\": 489718.90646795684, \"adjusted_total_requested\": 489718.90646795684, \"processing_days\": 21.0, \"project_no\": 1, \"category\": \"congestion_relief\", \"mean_adjusted_total_requested\": 489718.90646795684, \"mean_adjusted_fed_requested\": 489718.90646795684, \"mean_adjusted_ac_requested\": 0.0}, {\"prepared_y\": 2016, \"adjusted_ac_requested\": 0.0, \"adjusted_fed_requested\": 500150.5499996315, \"adjusted_total_requested\": 500150.5499996315, \"processing_days\": 9.5, \"project_no\": 2, \"category\": \"congestion_relief\", \"mean_adjusted_total_requested\": 250075.27499981574, \"mean_adjusted_fed_requested\": 250075.27499981574, \"mean_adjusted_ac_requested\": 0.0}, {\"prepared_y\": 2014, \"adjusted_ac_requested\": 0.0, \"adjusted_fed_requested\": 1351625.9045415702, \"adjusted_total_requested\": 1351625.9045415702, \"processing_days\": 7.5, \"project_no\": 2, \"category\": \"congestion_relief\", \"mean_adjusted_total_requested\": 675812.9522707851, \"mean_adjusted_fed_requested\": 675812.9522707851, \"mean_adjusted_ac_requested\": 0.0}, {\"prepared_y\": 2019, \"adjusted_ac_requested\": 0.0, \"adjusted_fed_requested\": 469533.5133017567, \"adjusted_total_requested\": 469533.5133017567, \"processing_days\": 104.0, \"project_no\": 1, \"category\": \"congestion_relief\", \"mean_adjusted_total_requested\": 469533.5133017567, \"mean_adjusted_fed_requested\": 469533.5133017567, \"mean_adjusted_ac_requested\": 0.0}, {\"prepared_y\": 2020, \"adjusted_ac_requested\": 0.0, \"adjusted_fed_requested\": 0.0, \"adjusted_total_requested\": 0.0, \"processing_days\": 14.0, \"project_no\": 2, \"category\": \"congestion_relief\", \"mean_adjusted_total_requested\": 0.0, \"mean_adjusted_fed_requested\": 0.0, \"mean_adjusted_ac_requested\": 0.0}, {\"prepared_y\": 2021, \"adjusted_ac_requested\": 0.0, \"adjusted_fed_requested\": 0.0, \"adjusted_total_requested\": 0.0, \"processing_days\": 19.0, \"project_no\": 2, \"category\": \"congestion_relief\", \"mean_adjusted_total_requested\": 0.0, \"mean_adjusted_fed_requested\": 0.0, \"mean_adjusted_ac_requested\": 0.0}]}}, {\"mode\": \"vega-lite\"});\n",
       "</script>"
      ],
      "text/plain": [
       "alt.Chart(...)"
      ]
     },
     "execution_count": 19,
     "metadata": {},
     "output_type": "execute_result"
    }
   ],
   "source": [
    "line_chart2(by_work_categories, \"adjusted_total_requested\", \n",
    "            \"Total Requested\")"
   ]
  },
  {
   "cell_type": "markdown",
   "id": "6ca287eb-e6de-40d0-92b5-29f7ff3e5d24",
   "metadata": {},
   "source": [
    "### Side-by-side Charts"
   ]
  },
  {
   "cell_type": "code",
   "execution_count": 20,
   "id": "247c18eb-cb08-4ba1-ab85-fcd92b33b7f4",
   "metadata": {},
   "outputs": [],
   "source": [
    "# Figure out which part of this function needs to be removed\n",
    "# The hconcat needs to be done before, then chart title can be added on combined chart\n",
    "# But sizing only be done on individual chart, not on combined chart\n",
    "\n",
    "from shared_utils.styleguide import *\n",
    "\n",
    "def preset_chart_config(chart):\n",
    "    chart = (\n",
    "        chart\n",
    "        .configure(background=backgroundColor, font=font)\n",
    "        .configure_axis(\n",
    "            domainColor=axisColor,\n",
    "            grid=True,\n",
    "            gridColor=axisColor,\n",
    "            gridWidth=1,\n",
    "            labelColor=guideLabelColor,\n",
    "            labelFont=labelFont,\n",
    "            labelFontSize=10,\n",
    "            titleColor=guideTitleColor,\n",
    "            titleFont=font,\n",
    "            tickColor=axisColor,\n",
    "            tickSize=10,\n",
    "            titleFontSize=12,\n",
    "            titlePadding=10,\n",
    "            labelPadding=4,\n",
    "        )\n",
    "        .configure_axisBand(grid=False)\n",
    "        .configure_title(\n",
    "            font=font,\n",
    "            fontSize=font_size,\n",
    "            anchor=\"middle\",\n",
    "            fontWeight=300,\n",
    "            offset=20,\n",
    "        )\n",
    "        .configure_header(labelFont=labelFont, titleFont=font)\n",
    "        .configure_legend(\n",
    "            labelColor=blackTitle,\n",
    "            labelFont=labelFont,\n",
    "            labelFontSize=11,\n",
    "            padding=1,\n",
    "            symbolSize=30,\n",
    "            symbolType=\"square\",\n",
    "            titleColor=blackTitle,\n",
    "            titleFont=font,\n",
    "            titleFontSize=14,\n",
    "            titlePadding=10,\n",
    "            labelLimit=0,\n",
    "        )\n",
    "    )\n",
    "    return chart"
   ]
  },
  {
   "cell_type": "code",
   "execution_count": 21,
   "id": "d705333b-2c21-4d2f-b6bc-dbc11d44e854",
   "metadata": {},
   "outputs": [],
   "source": [
    "def setup_bar_chart(df, category_list):\n",
    "    subset = df[df.category.isin(category_list)]\n",
    "    \n",
    "    # Do the relabeling here in function\n",
    "    # Easier to set up lists using column names that contain underscores\n",
    "    CATEGORY_DICT = {\n",
    "        \"active_transp\": \"Active Transportation\",\n",
    "        \"infra_resiliency_er\": \"Infrastructure Resiliency\", \n",
    "    }\n",
    "    def category_labels(word):\n",
    "        if word in CATEGORY_DICT.keys():\n",
    "            word = CATEGORY_DICT[word]\n",
    "        else:\n",
    "            word = word.replace('_', ' ').title()\n",
    "        return word\n",
    "    \n",
    "    subset = subset.assign(\n",
    "        category = subset.apply(lambda x: category_labels(x.category), axis=1)\n",
    "    )\n",
    "    \n",
    "    chart = (alt.Chart(subset)\n",
    "             .mark_bar()\n",
    "             .encode(\n",
    "                 x=alt.X(\"category:N\", title=\"\"),\n",
    "                 y=alt.Y(\"mean(processing_days):Q\", title=\"Average Processing Days\"),\n",
    "                 color=alt.Color(\"category:N\", \n",
    "                                 scale=alt.Scale(range=cp.CALITP_CATEGORY_BRIGHT_COLORS)\n",
    "                                ),\n",
    "                 #https://stackoverflow.com/questions/68584375/how-do-i-limit-altair-tooltip-to-only-two-numbers-after-the-decimal-point\n",
    "                 tooltip=alt.Tooltip([\"category\", \"mean(processing_days)\"], format={'number': '.2f'})\n",
    "             ).properties(width=100, height=200)\n",
    "    )\n",
    "            \n",
    "    return chart\n"
   ]
  },
  {
   "cell_type": "code",
   "execution_count": 22,
   "id": "d706e457-3a96-41b6-83a7-508cdadc8f19",
   "metadata": {},
   "outputs": [
    {
     "data": {
      "text/html": [
       "\n",
       "<div id=\"altair-viz-13e4586030f24f56937e590ef8033806\"></div>\n",
       "<script type=\"text/javascript\">\n",
       "  var VEGA_DEBUG = (typeof VEGA_DEBUG == \"undefined\") ? {} : VEGA_DEBUG;\n",
       "  (function(spec, embedOpt){\n",
       "    let outputDiv = document.currentScript.previousElementSibling;\n",
       "    if (outputDiv.id !== \"altair-viz-13e4586030f24f56937e590ef8033806\") {\n",
       "      outputDiv = document.getElementById(\"altair-viz-13e4586030f24f56937e590ef8033806\");\n",
       "    }\n",
       "    const paths = {\n",
       "      \"vega\": \"https://cdn.jsdelivr.net/npm//vega@5?noext\",\n",
       "      \"vega-lib\": \"https://cdn.jsdelivr.net/npm//vega-lib?noext\",\n",
       "      \"vega-lite\": \"https://cdn.jsdelivr.net/npm//vega-lite@4.17.0?noext\",\n",
       "      \"vega-embed\": \"https://cdn.jsdelivr.net/npm//vega-embed@6?noext\",\n",
       "    };\n",
       "\n",
       "    function maybeLoadScript(lib, version) {\n",
       "      var key = `${lib.replace(\"-\", \"\")}_version`;\n",
       "      return (VEGA_DEBUG[key] == version) ?\n",
       "        Promise.resolve(paths[lib]) :\n",
       "        new Promise(function(resolve, reject) {\n",
       "          var s = document.createElement('script');\n",
       "          document.getElementsByTagName(\"head\")[0].appendChild(s);\n",
       "          s.async = true;\n",
       "          s.onload = () => {\n",
       "            VEGA_DEBUG[key] = version;\n",
       "            return resolve(paths[lib]);\n",
       "          };\n",
       "          s.onerror = () => reject(`Error loading script: ${paths[lib]}`);\n",
       "          s.src = paths[lib];\n",
       "        });\n",
       "    }\n",
       "\n",
       "    function showError(err) {\n",
       "      outputDiv.innerHTML = `<div class=\"error\" style=\"color:red;\">${err}</div>`;\n",
       "      throw err;\n",
       "    }\n",
       "\n",
       "    function displayChart(vegaEmbed) {\n",
       "      vegaEmbed(outputDiv, spec, embedOpt)\n",
       "        .catch(err => showError(`Javascript Error: ${err.message}<br>This usually means there's a typo in your chart specification. See the javascript console for the full traceback.`));\n",
       "    }\n",
       "\n",
       "    if(typeof define === \"function\" && define.amd) {\n",
       "      requirejs.config({paths});\n",
       "      require([\"vega-embed\"], displayChart, err => showError(`Error loading script: ${err.message}`));\n",
       "    } else {\n",
       "      maybeLoadScript(\"vega\", \"5\")\n",
       "        .then(() => maybeLoadScript(\"vega-lite\", \"4.17.0\"))\n",
       "        .then(() => maybeLoadScript(\"vega-embed\", \"6\"))\n",
       "        .catch(showError)\n",
       "        .then(() => displayChart(vegaEmbed));\n",
       "    }\n",
       "  })({\"width\": 400, \"height\": 250, \"background\": \"white\", \"config\": {\"title\": {\"fontSize\": 18, \"font\": \"Raleway\", \"anchor\": \"middle\", \"fontColor\": \"#333\", \"fontWeight\": 300, \"offset\": 20}, \"header\": {\"labelFont\": \"Nunito Sans\", \"titleFont\": \"Raleway\"}, \"axis\": {\"domain\": true, \"domainColor\": \"#cbcbcb\", \"grid\": true, \"gridColor\": \"#cbcbcb\", \"gridWidth\": 1, \"labelColor\": \"#474747\", \"labelFontSize\": 10, \"titleColor\": \"#333\", \"tickColor\": \"#cbcbcb\", \"tickSize\": 10, \"titleFontSize\": 12, \"titlePadding\": 10, \"labelPadding\": 4, \"labelFont\": \"Nunito Sans\", \"titleFont\": \"Raleway\"}, \"axisBand\": {\"grid\": false}, \"range\": {\"category_bright\": [\"#2EA8CE\", \"#EB9F3C\", \"#F4D837\", \"#51BF9D\", \"#8CBCCB\", \"#9487C0\"], \"category_bold\": [\"#136C97\", \"#E16B26\", \"#F6BF16\", \"#00896B\", \"#7790A3\", \"#5B559C\"], \"diverging\": [\"#E16B26\", \"#EB9F3C\", \"#f6e7e1\", \"#8CBCCB\", \"#2EA8CE\", \"#136C97\"], \"sequential\": [\"#B9D6DF\", \"#8CBCCB\", \"#2EA8CE\", \"#136C97\", \"#0B405B\"]}, \"legend\": {\"labelFont\": \"Nunito Sans\", \"labelFontSize\": 11, \"symbolType\": \"square\", \"symbolSize\": 30, \"titleFont\": \"Raleway\", \"titleFontSize\": 14, \"titlePadding\": 10, \"padding\": 1, \"orient\": \"right\", \"labelLimit\": 0, \"labelColor\": \"#333\", \"titleColor\": \"#333\"}, \"view\": {\"stroke\": \"transparent\"}, \"group\": {\"fill\": \"white\"}, \"arc\": {\"fill\": \"#8CBCCB\"}, \"area\": {\"fill\": \"#8CBCCB\"}, \"line\": {\"stroke\": \"#8CBCCB\", \"strokeWidth\": 2}, \"trail\": {\"color\": \"#8CBCCB\", \"stroke\": \"#8CBCCB\", \"strokeWidth\": 0, \"size\": 1}, \"path\": {\"stroke\": \"#8CBCCB\", \"strokeWidth\": 0.5}, \"rect\": {\"fill\": \"#8CBCCB\"}, \"point\": {\"filled\": true, \"shape\": \"circle\"}, \"shape\": {\"stroke\": \"#8CBCCB\"}, \"text\": {\"font\": \"Nunito Sans\", \"color\": \"#8CBCCB\", \"fontSize\": 11, \"align\": \"center\", \"fontWeight\": 400, \"size\": 11}, \"bar\": {\"binSpacing\": 2, \"fill\": \"#8CBCCB\", \"stroke\": false}, \"background\": \"white\", \"font\": \"Raleway\"}, \"hconcat\": [{\"data\": {\"name\": \"data-4c3801eb8e06203d2b8a454f9e3ce06c\"}, \"mark\": \"bar\", \"encoding\": {\"color\": {\"field\": \"category\", \"scale\": {\"range\": [\"#2EA8CE\", \"#EB9F3C\", \"#F4D837\", \"#51BF9D\", \"#8CBCCB\", \"#9487C0\"]}, \"type\": \"nominal\"}, \"tooltip\": [{\"field\": \"category\", \"format\": {\"number\": \".2f\"}, \"type\": \"nominal\"}, {\"aggregate\": \"mean\", \"field\": \"processing_days\", \"format\": {\"number\": \".2f\"}, \"type\": \"quantitative\"}], \"x\": {\"field\": \"category\", \"title\": \"\", \"type\": \"nominal\"}, \"y\": {\"aggregate\": \"mean\", \"field\": \"processing_days\", \"title\": \"Average Processing Days\", \"type\": \"quantitative\"}}, \"height\": 200, \"width\": 100}, {\"data\": {\"name\": \"data-dcff6f24acb142572809cd2d3c0085dd\"}, \"mark\": \"bar\", \"encoding\": {\"color\": {\"field\": \"category\", \"scale\": {\"range\": [\"#2EA8CE\", \"#EB9F3C\", \"#F4D837\", \"#51BF9D\", \"#8CBCCB\", \"#9487C0\"]}, \"type\": \"nominal\"}, \"tooltip\": [{\"field\": \"category\", \"format\": {\"number\": \".2f\"}, \"type\": \"nominal\"}, {\"aggregate\": \"mean\", \"field\": \"processing_days\", \"format\": {\"number\": \".2f\"}, \"type\": \"quantitative\"}], \"x\": {\"field\": \"category\", \"title\": \"\", \"type\": \"nominal\"}, \"y\": {\"aggregate\": \"mean\", \"field\": \"processing_days\", \"title\": \"Average Processing Days\", \"type\": \"quantitative\"}}, \"height\": 200, \"width\": 100}], \"title\": \"Average Processing Time by Work Category\", \"$schema\": \"https://vega.github.io/schema/vega-lite/v4.17.0.json\", \"datasets\": {\"data-4c3801eb8e06203d2b8a454f9e3ce06c\": [{\"prepared_y\": 2018, \"adjusted_ac_requested\": -25446488.671199974, \"adjusted_fed_requested\": 24614783.835152432, \"adjusted_total_requested\": 13010339.98198165, \"processing_days\": 38.154639175257735, \"project_no\": 97, \"category\": \"Active Transportation\", \"mean_adjusted_total_requested\": 134127.21630908918, \"mean_adjusted_fed_requested\": 253760.65809435496, \"mean_adjusted_ac_requested\": -262334.93475463893}, {\"prepared_y\": 2017, \"adjusted_ac_requested\": 1128276.0682410004, \"adjusted_fed_requested\": 53360293.64912968, \"adjusted_total_requested\": 81799342.2361977, \"processing_days\": 44.27884615384615, \"project_no\": 104, \"category\": \"Active Transportation\", \"mean_adjusted_total_requested\": 786532.1368865164, \"mean_adjusted_fed_requested\": 513079.74662624695, \"mean_adjusted_ac_requested\": 10848.808348471157}, {\"prepared_y\": 2016, \"adjusted_ac_requested\": 0.0, \"adjusted_fed_requested\": 67105385.997505754, \"adjusted_total_requested\": 92641506.43509711, \"processing_days\": 33.1981981981982, \"project_no\": 111, \"category\": \"Active Transportation\", \"mean_adjusted_total_requested\": 834608.166081956, \"mean_adjusted_fed_requested\": 604553.0270045564, \"mean_adjusted_ac_requested\": 0.0}, {\"prepared_y\": 2015, \"adjusted_ac_requested\": 0.0, \"adjusted_fed_requested\": 16899364.16608809, \"adjusted_total_requested\": 20509454.877400357, \"processing_days\": 19.444444444444443, \"project_no\": 81, \"category\": \"Active Transportation\", \"mean_adjusted_total_requested\": 253203.1466345723, \"mean_adjusted_fed_requested\": 208634.12550726035, \"mean_adjusted_ac_requested\": 0.0}, {\"prepared_y\": 2014, \"adjusted_ac_requested\": -1951555.951611174, \"adjusted_fed_requested\": 25257353.850119773, \"adjusted_total_requested\": 41878334.388244815, \"processing_days\": 20.99019607843137, \"project_no\": 102, \"category\": \"Active Transportation\", \"mean_adjusted_total_requested\": 410571.90576710604, \"mean_adjusted_fed_requested\": 247621.11617764484, \"mean_adjusted_ac_requested\": -19132.90148638406}, {\"prepared_y\": 2013, \"adjusted_ac_requested\": 0.0, \"adjusted_fed_requested\": 1511654.4591112856, \"adjusted_total_requested\": 4991821.819622103, \"processing_days\": 103.0, \"project_no\": 7, \"category\": \"Active Transportation\", \"mean_adjusted_total_requested\": 713117.4028031576, \"mean_adjusted_fed_requested\": 215950.63701589796, \"mean_adjusted_ac_requested\": 0.0}, {\"prepared_y\": 2012, \"adjusted_ac_requested\": 0.0, \"adjusted_fed_requested\": -129182.70175671362, \"adjusted_total_requested\": -145762.3503335823, \"processing_days\": 493.0, \"project_no\": 1, \"category\": \"Active Transportation\", \"mean_adjusted_total_requested\": -145762.3503335823, \"mean_adjusted_fed_requested\": -129182.70175671362, \"mean_adjusted_ac_requested\": 0.0}, {\"prepared_y\": 2019, \"adjusted_ac_requested\": 1814034.7900273078, \"adjusted_fed_requested\": 47858783.39244699, \"adjusted_total_requested\": 81501797.17189452, \"processing_days\": 62.16814159292036, \"project_no\": 113, \"category\": \"Active Transportation\", \"mean_adjusted_total_requested\": 721254.842229155, \"mean_adjusted_fed_requested\": 423529.0565703273, \"mean_adjusted_ac_requested\": 16053.4052214806}, {\"prepared_y\": 2020, \"adjusted_ac_requested\": -2252053.133484617, \"adjusted_fed_requested\": 19801708.36126683, \"adjusted_total_requested\": 28342100.662350606, \"processing_days\": 37.18072289156626, \"project_no\": 83, \"category\": \"Active Transportation\", \"mean_adjusted_total_requested\": 341471.09231747716, \"mean_adjusted_fed_requested\": 238574.7995333353, \"mean_adjusted_ac_requested\": -27133.17028294719}, {\"prepared_y\": 2021, \"adjusted_ac_requested\": 0.0, \"adjusted_fed_requested\": 37471438.89222324, \"adjusted_total_requested\": 48288921.77483793, \"processing_days\": 33.95192307692308, \"project_no\": 104, \"category\": \"Active Transportation\", \"mean_adjusted_total_requested\": 464316.5555272878, \"mean_adjusted_fed_requested\": 360302.2970406081, \"mean_adjusted_ac_requested\": 0.0}, {\"prepared_y\": 2022, \"adjusted_ac_requested\": 0.0, \"adjusted_fed_requested\": 352190.8161985856, \"adjusted_total_requested\": 765194.9421621353, \"processing_days\": 42.88235294117647, \"project_no\": 17, \"category\": \"Active Transportation\", \"mean_adjusted_total_requested\": 45011.467186007954, \"mean_adjusted_fed_requested\": 20717.106835210918, \"mean_adjusted_ac_requested\": 0.0}, {\"prepared_y\": 2018, \"adjusted_ac_requested\": 0.0, \"adjusted_fed_requested\": 10693796.212839218, \"adjusted_total_requested\": 49785877.30829463, \"processing_days\": 21.16, \"project_no\": 25, \"category\": \"Transit\", \"mean_adjusted_total_requested\": 1991435.0923317852, \"mean_adjusted_fed_requested\": 427751.8485135687, \"mean_adjusted_ac_requested\": 0.0}, {\"prepared_y\": 2017, \"adjusted_ac_requested\": 0.0, \"adjusted_fed_requested\": 4340118.652711754, \"adjusted_total_requested\": 6751417.165939989, \"processing_days\": 44.6, \"project_no\": 10, \"category\": \"Transit\", \"mean_adjusted_total_requested\": 675141.7165939988, \"mean_adjusted_fed_requested\": 434011.8652711754, \"mean_adjusted_ac_requested\": 0.0}, {\"prepared_y\": 2016, \"adjusted_ac_requested\": 0.0, \"adjusted_fed_requested\": 9397214.326721383, \"adjusted_total_requested\": 10721010.013810614, \"processing_days\": 27.72222222222222, \"project_no\": 18, \"category\": \"Transit\", \"mean_adjusted_total_requested\": 595611.667433923, \"mean_adjusted_fed_requested\": 522067.4625956324, \"mean_adjusted_ac_requested\": 0.0}, {\"prepared_y\": 2015, \"adjusted_ac_requested\": 0.0, \"adjusted_fed_requested\": -10141.10801208354, \"adjusted_total_requested\": 1486184.8376243056, \"processing_days\": 16.09090909090909, \"project_no\": 11, \"category\": \"Transit\", \"mean_adjusted_total_requested\": 135107.71251130052, \"mean_adjusted_fed_requested\": -921.9189101894127, \"mean_adjusted_ac_requested\": 0.0}, {\"prepared_y\": 2014, \"adjusted_ac_requested\": -2.9103830456733704e-11, \"adjusted_fed_requested\": 7821204.339095846, \"adjusted_total_requested\": 27267863.75455418, \"processing_days\": 12.166666666666666, \"project_no\": 24, \"category\": \"Transit\", \"mean_adjusted_total_requested\": 1136160.9897730907, \"mean_adjusted_fed_requested\": 325883.51412899356, \"mean_adjusted_ac_requested\": -1.2126596023639042e-12}, {\"prepared_y\": 2013, \"adjusted_ac_requested\": 0.0, \"adjusted_fed_requested\": 532734.4489344687, \"adjusted_total_requested\": 649708.0452721235, \"processing_days\": 46.0, \"project_no\": 2, \"category\": \"Transit\", \"mean_adjusted_total_requested\": 324854.02263606177, \"mean_adjusted_fed_requested\": 266367.22446723434, \"mean_adjusted_ac_requested\": 0.0}, {\"prepared_y\": 2019, \"adjusted_ac_requested\": 3360036.448178963, \"adjusted_fed_requested\": 6457389.150260265, \"adjusted_total_requested\": 11519727.459111987, \"processing_days\": 54.76190476190476, \"project_no\": 21, \"category\": \"Transit\", \"mean_adjusted_total_requested\": 548558.4504339041, \"mean_adjusted_fed_requested\": 307494.721440965, \"mean_adjusted_ac_requested\": 160001.73562756967}, {\"prepared_y\": 2020, \"adjusted_ac_requested\": -1850855.8460078852, \"adjusted_fed_requested\": 28724248.60608912, \"adjusted_total_requested\": 29817762.39377013, \"processing_days\": 39.8, \"project_no\": 30, \"category\": \"Transit\", \"mean_adjusted_total_requested\": 993925.413125671, \"mean_adjusted_fed_requested\": 957474.953536304, \"mean_adjusted_ac_requested\": -61695.19486692951}, {\"prepared_y\": 2021, \"adjusted_ac_requested\": 2448332.065100592, \"adjusted_fed_requested\": 30647345.010543365, \"adjusted_total_requested\": 69614220.41634203, \"processing_days\": 40.607142857142854, \"project_no\": 28, \"category\": \"Transit\", \"mean_adjusted_total_requested\": 2486222.157726501, \"mean_adjusted_fed_requested\": 1094548.0360908345, \"mean_adjusted_ac_requested\": 87440.43089644972}, {\"prepared_y\": 2022, \"adjusted_ac_requested\": -2727068.823478737, \"adjusted_fed_requested\": 12255261.026446568, \"adjusted_total_requested\": 9901172.556020316, \"processing_days\": 13.0, \"project_no\": 8, \"category\": \"Transit\", \"mean_adjusted_total_requested\": 1237646.5695025395, \"mean_adjusted_fed_requested\": 1531907.628305821, \"mean_adjusted_ac_requested\": -340883.6029348421}, {\"prepared_y\": 2017, \"adjusted_ac_requested\": 0.0, \"adjusted_fed_requested\": 489718.90646795684, \"adjusted_total_requested\": 489718.90646795684, \"processing_days\": 21.0, \"project_no\": 1, \"category\": \"Congestion Relief\", \"mean_adjusted_total_requested\": 489718.90646795684, \"mean_adjusted_fed_requested\": 489718.90646795684, \"mean_adjusted_ac_requested\": 0.0}, {\"prepared_y\": 2016, \"adjusted_ac_requested\": 0.0, \"adjusted_fed_requested\": 500150.5499996315, \"adjusted_total_requested\": 500150.5499996315, \"processing_days\": 9.5, \"project_no\": 2, \"category\": \"Congestion Relief\", \"mean_adjusted_total_requested\": 250075.27499981574, \"mean_adjusted_fed_requested\": 250075.27499981574, \"mean_adjusted_ac_requested\": 0.0}, {\"prepared_y\": 2014, \"adjusted_ac_requested\": 0.0, \"adjusted_fed_requested\": 1351625.9045415702, \"adjusted_total_requested\": 1351625.9045415702, \"processing_days\": 7.5, \"project_no\": 2, \"category\": \"Congestion Relief\", \"mean_adjusted_total_requested\": 675812.9522707851, \"mean_adjusted_fed_requested\": 675812.9522707851, \"mean_adjusted_ac_requested\": 0.0}, {\"prepared_y\": 2019, \"adjusted_ac_requested\": 0.0, \"adjusted_fed_requested\": 469533.5133017567, \"adjusted_total_requested\": 469533.5133017567, \"processing_days\": 104.0, \"project_no\": 1, \"category\": \"Congestion Relief\", \"mean_adjusted_total_requested\": 469533.5133017567, \"mean_adjusted_fed_requested\": 469533.5133017567, \"mean_adjusted_ac_requested\": 0.0}, {\"prepared_y\": 2020, \"adjusted_ac_requested\": 0.0, \"adjusted_fed_requested\": 0.0, \"adjusted_total_requested\": 0.0, \"processing_days\": 14.0, \"project_no\": 2, \"category\": \"Congestion Relief\", \"mean_adjusted_total_requested\": 0.0, \"mean_adjusted_fed_requested\": 0.0, \"mean_adjusted_ac_requested\": 0.0}, {\"prepared_y\": 2021, \"adjusted_ac_requested\": 0.0, \"adjusted_fed_requested\": 0.0, \"adjusted_total_requested\": 0.0, \"processing_days\": 19.0, \"project_no\": 2, \"category\": \"Congestion Relief\", \"mean_adjusted_total_requested\": 0.0, \"mean_adjusted_fed_requested\": 0.0, \"mean_adjusted_ac_requested\": 0.0}], \"data-dcff6f24acb142572809cd2d3c0085dd\": [{\"prepared_y\": 2018, \"adjusted_ac_requested\": -24699476.60419454, \"adjusted_fed_requested\": 44244925.85776291, \"adjusted_total_requested\": 36485124.616277106, \"processing_days\": 70.11764705882354, \"project_no\": 34, \"category\": \"Bridge\", \"mean_adjusted_total_requested\": 1073091.9004787384, \"mean_adjusted_fed_requested\": 1301321.3487577327, \"mean_adjusted_ac_requested\": -726455.1942410159}, {\"prepared_y\": 2017, \"adjusted_ac_requested\": -43582471.943193175, \"adjusted_fed_requested\": 78552892.55421379, \"adjusted_total_requested\": 43731790.454664685, \"processing_days\": 50.59090909090909, \"project_no\": 44, \"category\": \"Bridge\", \"mean_adjusted_total_requested\": 993904.3285151065, \"mean_adjusted_fed_requested\": 1785293.012595768, \"mean_adjusted_ac_requested\": -990510.7259816631}, {\"prepared_y\": 2016, \"adjusted_ac_requested\": -74273716.23768528, \"adjusted_fed_requested\": 59742804.4416172, \"adjusted_total_requested\": 111730244.79589956, \"processing_days\": 47.916666666666664, \"project_no\": 36, \"category\": \"Bridge\", \"mean_adjusted_total_requested\": 3103617.91099721, \"mean_adjusted_fed_requested\": 1659522.3456004777, \"mean_adjusted_ac_requested\": -2063158.7843801465}, {\"prepared_y\": 2015, \"adjusted_ac_requested\": -3693184.241383532, \"adjusted_fed_requested\": 27724401.992414895, \"adjusted_total_requested\": 65847392.30576161, \"processing_days\": 38.130434782608695, \"project_no\": 46, \"category\": \"Bridge\", \"mean_adjusted_total_requested\": 1431465.0501252525, \"mean_adjusted_fed_requested\": 602704.3911394542, \"mean_adjusted_ac_requested\": -80286.61394312026}, {\"prepared_y\": 2014, \"adjusted_ac_requested\": 306530025.70700914, \"adjusted_fed_requested\": 44145815.53134535, \"adjusted_total_requested\": 360556535.7132808, \"processing_days\": 27.21875, \"project_no\": 32, \"category\": \"Bridge\", \"mean_adjusted_total_requested\": 11267391.741040025, \"mean_adjusted_fed_requested\": 1379556.7353545423, \"mean_adjusted_ac_requested\": 9579063.303344036}, {\"prepared_y\": 2013, \"adjusted_ac_requested\": 0.0, \"adjusted_fed_requested\": 6472629.663015109, \"adjusted_total_requested\": 7340450.823437531, \"processing_days\": 125.0, \"project_no\": 5, \"category\": \"Bridge\", \"mean_adjusted_total_requested\": 1468090.1646875062, \"mean_adjusted_fed_requested\": 1294525.9326030216, \"mean_adjusted_ac_requested\": 0.0}, {\"prepared_y\": 2019, \"adjusted_ac_requested\": 8826977.127313927, \"adjusted_fed_requested\": 38871313.91266052, \"adjusted_total_requested\": 56425099.58339269, \"processing_days\": 52.75, \"project_no\": 32, \"category\": \"Bridge\", \"mean_adjusted_total_requested\": 1763284.3619810215, \"mean_adjusted_fed_requested\": 1214728.5597706411, \"mean_adjusted_ac_requested\": 275843.0352285602}, {\"prepared_y\": 2020, \"adjusted_ac_requested\": -28192703.11143406, \"adjusted_fed_requested\": 55357717.48787679, \"adjusted_total_requested\": 53273006.32958906, \"processing_days\": 70.61538461538461, \"project_no\": 26, \"category\": \"Bridge\", \"mean_adjusted_total_requested\": 2048961.7819072716, \"mean_adjusted_fed_requested\": 2129142.980302953, \"mean_adjusted_ac_requested\": -1084334.7350551563}, {\"prepared_y\": 2021, \"adjusted_ac_requested\": -12456488.69845967, \"adjusted_fed_requested\": 27767764.728174, \"adjusted_total_requested\": 172106762.74321938, \"processing_days\": 33.4375, \"project_no\": 32, \"category\": \"Bridge\", \"mean_adjusted_total_requested\": 5378336.3357256055, \"mean_adjusted_fed_requested\": 867742.6477554375, \"mean_adjusted_ac_requested\": -389265.2718268647}, {\"prepared_y\": 2022, \"adjusted_ac_requested\": -7255206.502708893, \"adjusted_fed_requested\": 4952846.751563589, \"adjusted_total_requested\": -2272241.0503186933, \"processing_days\": 18.0, \"project_no\": 5, \"category\": \"Bridge\", \"mean_adjusted_total_requested\": -454448.21006373863, \"mean_adjusted_fed_requested\": 990569.3503127178, \"mean_adjusted_ac_requested\": -1451041.3005417786}, {\"prepared_y\": 2018, \"adjusted_ac_requested\": -14315447.29929794, \"adjusted_fed_requested\": 75978897.64090319, \"adjusted_total_requested\": 122714320.17154114, \"processing_days\": 28.08743169398907, \"project_no\": 183, \"category\": \"Street\", \"mean_adjusted_total_requested\": 670570.055582192, \"mean_adjusted_fed_requested\": 415185.23301039997, \"mean_adjusted_ac_requested\": -78226.48797430568}, {\"prepared_y\": 2017, \"adjusted_ac_requested\": 956999.9207196175, \"adjusted_fed_requested\": 65181430.65836703, \"adjusted_total_requested\": 88261705.79128315, \"processing_days\": 42.97752808988764, \"project_no\": 178, \"category\": \"Street\", \"mean_adjusted_total_requested\": 495852.2797263098, \"mean_adjusted_fed_requested\": 366187.8126874552, \"mean_adjusted_ac_requested\": 5376.404048986616}, {\"prepared_y\": 2016, \"adjusted_ac_requested\": -27470691.565230444, \"adjusted_fed_requested\": 88349867.30904444, \"adjusted_total_requested\": 82274442.9963805, \"processing_days\": 35.335260115606935, \"project_no\": 173, \"category\": \"Street\", \"mean_adjusted_total_requested\": 475574.81500797975, \"mean_adjusted_fed_requested\": 510692.87461875397, \"mean_adjusted_ac_requested\": -158790.12465451125}, {\"prepared_y\": 2015, \"adjusted_ac_requested\": 156174990.9078252, \"adjusted_fed_requested\": 96809192.17616333, \"adjusted_total_requested\": 405968563.6401263, \"processing_days\": 18.397350993377483, \"project_no\": 151, \"category\": \"Street\", \"mean_adjusted_total_requested\": 2688533.5340405717, \"mean_adjusted_fed_requested\": 641120.4779878366, \"mean_adjusted_ac_requested\": 1034271.4629657298}, {\"prepared_y\": 2014, \"adjusted_ac_requested\": -33917412.904824264, \"adjusted_fed_requested\": 124503544.19101314, \"adjusted_total_requested\": 124111943.72614056, \"processing_days\": 21.573394495412845, \"project_no\": 218, \"category\": \"Street\", \"mean_adjusted_total_requested\": 569320.8427804613, \"mean_adjusted_fed_requested\": 571117.1751881337, \"mean_adjusted_ac_requested\": -155584.46286616634}, {\"prepared_y\": 2013, \"adjusted_ac_requested\": 33376569.289918713, \"adjusted_fed_requested\": 2069401.8372813151, \"adjusted_total_requested\": 35586409.942881525, \"processing_days\": 102.875, \"project_no\": 8, \"category\": \"Street\", \"mean_adjusted_total_requested\": 4448301.242860191, \"mean_adjusted_fed_requested\": 258675.2296601644, \"mean_adjusted_ac_requested\": 4172071.161239839}, {\"prepared_y\": 2019, \"adjusted_ac_requested\": -26597025.2283388, \"adjusted_fed_requested\": 84902393.21802446, \"adjusted_total_requested\": 77334227.3528732, \"processing_days\": 48.072625698324025, \"project_no\": 179, \"category\": \"Street\", \"mean_adjusted_total_requested\": 432034.7896808559, \"mean_adjusted_fed_requested\": 474315.0459107512, \"mean_adjusted_ac_requested\": -148586.7331192112}, {\"prepared_y\": 2020, \"adjusted_ac_requested\": -688398.5978189622, \"adjusted_fed_requested\": 70946450.37449639, \"adjusted_total_requested\": 100671802.31732932, \"processing_days\": 37.23030303030303, \"project_no\": 165, \"category\": \"Street\", \"mean_adjusted_total_requested\": 610132.1352565413, \"mean_adjusted_fed_requested\": 429978.4871181599, \"mean_adjusted_ac_requested\": -4172.112714054316}, {\"prepared_y\": 2021, \"adjusted_ac_requested\": 3877650.132366825, \"adjusted_fed_requested\": 52662026.24915412, \"adjusted_total_requested\": 73417303.70520465, \"processing_days\": 38.54545454545455, \"project_no\": 143, \"category\": \"Street\", \"mean_adjusted_total_requested\": 513407.71821821434, \"mean_adjusted_fed_requested\": 368265.9178262526, \"mean_adjusted_ac_requested\": 27116.4344920757}, {\"prepared_y\": 2022, \"adjusted_ac_requested\": -2964128.0288293, \"adjusted_fed_requested\": 10443480.47643163, \"adjusted_total_requested\": 12898780.214634996, \"processing_days\": 19.78787878787879, \"project_no\": 33, \"category\": \"Street\", \"mean_adjusted_total_requested\": 390872.127716212, \"mean_adjusted_fed_requested\": 316469.10534641304, \"mean_adjusted_ac_requested\": -89822.06147967576}, {\"prepared_y\": 2018, \"adjusted_ac_requested\": -15027903.734205699, \"adjusted_fed_requested\": 18201534.17668973, \"adjusted_total_requested\": 3173670.757749643, \"processing_days\": 61.0, \"project_no\": 3, \"category\": \"Freeway\", \"mean_adjusted_total_requested\": 1057890.2525832143, \"mean_adjusted_fed_requested\": 6067178.058896576, \"mean_adjusted_ac_requested\": -5009301.244735233}, {\"prepared_y\": 2017, \"adjusted_ac_requested\": 0.0, \"adjusted_fed_requested\": -2222716.1417363896, \"adjusted_total_requested\": 2067977.923287061, \"processing_days\": 41.666666666666664, \"project_no\": 3, \"category\": \"Freeway\", \"mean_adjusted_total_requested\": 689325.9744290203, \"mean_adjusted_fed_requested\": -740905.3805787965, \"mean_adjusted_ac_requested\": 0.0}, {\"prepared_y\": 2016, \"adjusted_ac_requested\": 0.0, \"adjusted_fed_requested\": 32822936.410806254, \"adjusted_total_requested\": 29505227.941359054, \"processing_days\": 67.15384615384616, \"project_no\": 13, \"category\": \"Freeway\", \"mean_adjusted_total_requested\": 2269632.918566081, \"mean_adjusted_fed_requested\": 2524841.262369712, \"mean_adjusted_ac_requested\": 0.0}, {\"prepared_y\": 2015, \"adjusted_ac_requested\": 45272752.58736716, \"adjusted_fed_requested\": 60737912.29544717, \"adjusted_total_requested\": 120976275.20688392, \"processing_days\": 38.5, \"project_no\": 2, \"category\": \"Freeway\", \"mean_adjusted_total_requested\": 60488137.60344196, \"mean_adjusted_fed_requested\": 30368956.147723585, \"mean_adjusted_ac_requested\": 22636376.29368358}, {\"prepared_y\": 2014, \"adjusted_ac_requested\": 0.0, \"adjusted_fed_requested\": -1198166.9219063744, \"adjusted_total_requested\": -1122920.0522542787, \"processing_days\": 3.5, \"project_no\": 2, \"category\": \"Freeway\", \"mean_adjusted_total_requested\": -561460.0261271393, \"mean_adjusted_fed_requested\": -599083.4609531872, \"mean_adjusted_ac_requested\": 0.0}, {\"prepared_y\": 2019, \"adjusted_ac_requested\": -27211427.90170499, \"adjusted_fed_requested\": 27346865.45835602, \"adjusted_total_requested\": 153445.3539686227, \"processing_days\": 51.666666666666664, \"project_no\": 3, \"category\": \"Freeway\", \"mean_adjusted_total_requested\": 51148.45132287423, \"mean_adjusted_fed_requested\": 9115621.819452006, \"mean_adjusted_ac_requested\": -9070475.967234997}, {\"prepared_y\": 2020, \"adjusted_ac_requested\": 0.0, \"adjusted_fed_requested\": 29430942.40823577, \"adjusted_total_requested\": 29434739.122731637, \"processing_days\": 34.44444444444444, \"project_no\": 9, \"category\": \"Freeway\", \"mean_adjusted_total_requested\": 3270526.569192404, \"mean_adjusted_fed_requested\": 3270104.7120261965, \"mean_adjusted_ac_requested\": 0.0}, {\"prepared_y\": 2021, \"adjusted_ac_requested\": 0.0, \"adjusted_fed_requested\": 92659.75891287335, \"adjusted_total_requested\": 92659.75891287335, \"processing_days\": 67.0, \"project_no\": 5, \"category\": \"Freeway\", \"mean_adjusted_total_requested\": 18531.95178257467, \"mean_adjusted_fed_requested\": 18531.95178257467, \"mean_adjusted_ac_requested\": 0.0}]}}, {\"mode\": \"vega-lite\"});\n",
       "</script>"
      ],
      "text/plain": [
       "alt.HConcatChart(...)"
      ]
     },
     "execution_count": 22,
     "metadata": {},
     "output_type": "execute_result"
    }
   ],
   "source": [
    "ACTIVE = ['active_transp', 'transit', 'congestion_relief']\n",
    "ROADS = ['bridge', 'street', 'freeway']\n",
    "\n",
    "active_bar = setup_bar_chart(by_work_categories, ACTIVE)\n",
    "roads_bar = setup_bar_chart(by_work_categories, ROADS)\n",
    "\n",
    "combined_chart = alt.hconcat(active_bar, roads_bar)\n",
    "(preset_chart_config(combined_chart)\n",
    " .properties(title=\"Average Processing Time by Work Category\")\n",
    ")"
   ]
  },
  {
   "cell_type": "code",
   "execution_count": null,
   "id": "79a30064-0a9b-4f4b-b95f-48ea94a6455e",
   "metadata": {},
   "outputs": [],
   "source": []
  }
 ],
 "metadata": {
  "kernelspec": {
   "display_name": "Python 3 (ipykernel)",
   "language": "python",
   "name": "python3"
  },
  "language_info": {
   "codemirror_mode": {
    "name": "ipython",
    "version": 3
   },
   "file_extension": ".py",
   "mimetype": "text/x-python",
   "name": "python",
   "nbconvert_exporter": "python",
   "pygments_lexer": "ipython3",
   "version": "3.7.9"
  },
  "widgets": {
   "application/vnd.jupyter.widget-state+json": {
    "state": {},
    "version_major": 2,
    "version_minor": 0
   }
  }
 },
 "nbformat": 4,
 "nbformat_minor": 5
}