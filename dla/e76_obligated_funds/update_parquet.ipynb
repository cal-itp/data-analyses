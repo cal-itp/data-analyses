{
 "cells": [
  {
   "cell_type": "code",
   "execution_count": 2,
   "id": "006e0d56-9769-478d-93ef-a15a6ab3c591",
   "metadata": {},
   "outputs": [],
   "source": [
    "#! pip install cpi"
   ]
  },
  {
   "cell_type": "code",
   "execution_count": 3,
   "id": "15f54059-01b0-467a-99ac-7b8a9f80d4cb",
   "metadata": {},
   "outputs": [],
   "source": [
    "#! pip install pandera"
   ]
  },
  {
   "cell_type": "code",
   "execution_count": 4,
   "id": "d161d4c4-35af-4966-ae04-53db0a6ecb3a",
   "metadata": {},
   "outputs": [],
   "source": [
    "#import pandera as pa"
   ]
  },
  {
   "cell_type": "code",
   "execution_count": 2,
   "id": "76fa8278-9b1b-421a-a738-498482fc1b21",
   "metadata": {
    "collapsed": true,
    "jupyter": {
     "outputs_hidden": true
    },
    "tags": []
   },
   "outputs": [
    {
     "name": "stderr",
     "output_type": "stream",
     "text": [
      "E0309 22:31:23.428476139     937 fork_posix.cc:70]           Fork support is only compatible with the epoll1 and poll polling strategies\n"
     ]
    },
    {
     "name": "stdout",
     "output_type": "stream",
     "text": [
      "Collecting pandas-profiling[notebook]\n",
      "  Downloading pandas_profiling-3.1.0-py2.py3-none-any.whl (261 kB)\n",
      "\u001b[2K     \u001b[90m━━━━━━━━━━━━━━━━━━━━━━━━━━━━━━━━━━━━━━\u001b[0m \u001b[32m261.2/261.2 KB\u001b[0m \u001b[31m10.3 MB/s\u001b[0m eta \u001b[36m0:00:00\u001b[0m\n",
      "\u001b[?25hRequirement already satisfied: matplotlib>=3.2.0 in /opt/conda/lib/python3.9/site-packages (from pandas-profiling[notebook]) (3.5.1)\n",
      "Requirement already satisfied: seaborn>=0.10.1 in /opt/conda/lib/python3.9/site-packages (from pandas-profiling[notebook]) (0.11.2)\n",
      "Collecting htmlmin>=0.1.12\n",
      "  Downloading htmlmin-0.1.12.tar.gz (19 kB)\n",
      "  Preparing metadata (setup.py) ... \u001b[?25ldone\n",
      "\u001b[?25hRequirement already satisfied: PyYAML>=5.0.0 in /opt/conda/lib/python3.9/site-packages (from pandas-profiling[notebook]) (6.0)\n",
      "Collecting visions[type_image_path]==0.7.4\n",
      "  Downloading visions-0.7.4-py3-none-any.whl (102 kB)\n",
      "\u001b[2K     \u001b[90m━━━━━━━━━━━━━━━━━━━━━━━━━━━━━━━━━━━━━━\u001b[0m \u001b[32m102.4/102.4 KB\u001b[0m \u001b[31m16.9 MB/s\u001b[0m eta \u001b[36m0:00:00\u001b[0m\n",
      "\u001b[?25hCollecting markupsafe~=2.0.1\n",
      "  Downloading MarkupSafe-2.0.1-cp39-cp39-manylinux_2_5_x86_64.manylinux1_x86_64.manylinux_2_12_x86_64.manylinux2010_x86_64.whl (30 kB)\n",
      "Requirement already satisfied: scipy>=1.4.1 in /opt/conda/lib/python3.9/site-packages (from pandas-profiling[notebook]) (1.8.0)\n",
      "Collecting tangled-up-in-unicode==0.1.0\n",
      "  Downloading tangled_up_in_unicode-0.1.0-py3-none-any.whl (3.1 MB)\n",
      "\u001b[2K     \u001b[90m━━━━━━━━━━━━━━━━━━━━━━━━━━━━━━━━━━━━━━━━\u001b[0m \u001b[32m3.1/3.1 MB\u001b[0m \u001b[31m48.7 MB/s\u001b[0m eta \u001b[36m0:00:00\u001b[0m:00:01\u001b[0m\n",
      "\u001b[?25hRequirement already satisfied: jinja2>=2.11.1 in /opt/conda/lib/python3.9/site-packages (from pandas-profiling[notebook]) (3.0.3)\n",
      "Collecting missingno>=0.4.2\n",
      "  Downloading missingno-0.5.1-py3-none-any.whl (8.7 kB)\n",
      "Requirement already satisfied: pandas!=1.0.0,!=1.0.1,!=1.0.2,!=1.1.0,>=0.25.3 in /opt/conda/lib/python3.9/site-packages (from pandas-profiling[notebook]) (1.4.1)\n",
      "Collecting phik>=0.11.1\n",
      "  Downloading phik-0.12.0-cp39-cp39-manylinux2010_x86_64.whl (676 kB)\n",
      "\u001b[2K     \u001b[90m━━━━━━━━━━━━━━━━━━━━━━━━━━━━━━━━━━━━━━\u001b[0m \u001b[32m676.3/676.3 KB\u001b[0m \u001b[31m50.1 MB/s\u001b[0m eta \u001b[36m0:00:00\u001b[0m\n",
      "\u001b[?25hRequirement already satisfied: numpy>=1.16.0 in /opt/conda/lib/python3.9/site-packages (from pandas-profiling[notebook]) (1.21.5)\n",
      "Requirement already satisfied: tqdm>=4.48.2 in /opt/conda/lib/python3.9/site-packages (from pandas-profiling[notebook]) (4.63.0)\n",
      "Requirement already satisfied: requests>=2.24.0 in /opt/conda/lib/python3.9/site-packages (from pandas-profiling[notebook]) (2.27.1)\n",
      "Collecting multimethod>=1.4\n",
      "  Downloading multimethod-1.7-py3-none-any.whl (9.5 kB)\n",
      "Collecting joblib~=1.0.1\n",
      "  Downloading joblib-1.0.1-py3-none-any.whl (303 kB)\n",
      "\u001b[2K     \u001b[90m━━━━━━━━━━━━━━━━━━━━━━━━━━━━━━━━━━━━━━\u001b[0m \u001b[32m303.1/303.1 KB\u001b[0m \u001b[31m38.1 MB/s\u001b[0m eta \u001b[36m0:00:00\u001b[0m\n",
      "\u001b[?25hCollecting pydantic>=1.8.1\n",
      "  Using cached pydantic-1.9.0-cp39-cp39-manylinux_2_17_x86_64.manylinux2014_x86_64.whl (12.2 MB)\n",
      "Requirement already satisfied: ipywidgets>=7.5.1 in /opt/conda/lib/python3.9/site-packages (from pandas-profiling[notebook]) (7.6.5)\n",
      "Requirement already satisfied: jupyter-core>=4.6.3 in /opt/conda/lib/python3.9/site-packages (from pandas-profiling[notebook]) (4.9.2)\n",
      "Requirement already satisfied: jupyter-client>=6.0.0 in /opt/conda/lib/python3.9/site-packages (from pandas-profiling[notebook]) (7.1.2)\n",
      "Requirement already satisfied: attrs>=19.3.0 in /opt/conda/lib/python3.9/site-packages (from visions[type_image_path]==0.7.4->pandas-profiling[notebook]) (21.4.0)\n",
      "Requirement already satisfied: networkx>=2.4 in /opt/conda/lib/python3.9/site-packages (from visions[type_image_path]==0.7.4->pandas-profiling[notebook]) (2.7)\n",
      "Requirement already satisfied: Pillow in /opt/conda/lib/python3.9/site-packages (from visions[type_image_path]==0.7.4->pandas-profiling[notebook]) (9.0.1)\n",
      "Collecting imagehash\n",
      "  Downloading ImageHash-4.2.1.tar.gz (812 kB)\n",
      "\u001b[2K     \u001b[90m━━━━━━━━━━━━━━━━━━━━━━━━━━━━━━━━━━━━━━\u001b[0m \u001b[32m812.6/812.6 KB\u001b[0m \u001b[31m66.5 MB/s\u001b[0m eta \u001b[36m0:00:00\u001b[0m\n",
      "\u001b[?25h  Preparing metadata (setup.py) ... \u001b[?25ldone\n",
      "\u001b[?25hRequirement already satisfied: ipython-genutils~=0.2.0 in /opt/conda/lib/python3.9/site-packages (from ipywidgets>=7.5.1->pandas-profiling[notebook]) (0.2.0)\n",
      "Requirement already satisfied: jupyterlab-widgets>=1.0.0 in /opt/conda/lib/python3.9/site-packages (from ipywidgets>=7.5.1->pandas-profiling[notebook]) (1.0.2)\n",
      "Requirement already satisfied: ipykernel>=4.5.1 in /opt/conda/lib/python3.9/site-packages (from ipywidgets>=7.5.1->pandas-profiling[notebook]) (6.9.1)\n",
      "Requirement already satisfied: nbformat>=4.2.0 in /opt/conda/lib/python3.9/site-packages (from ipywidgets>=7.5.1->pandas-profiling[notebook]) (5.1.3)\n",
      "Requirement already satisfied: traitlets>=4.3.1 in /opt/conda/lib/python3.9/site-packages (from ipywidgets>=7.5.1->pandas-profiling[notebook]) (5.1.1)\n",
      "Requirement already satisfied: ipython>=4.0.0 in /opt/conda/lib/python3.9/site-packages (from ipywidgets>=7.5.1->pandas-profiling[notebook]) (8.0.1)\n",
      "Requirement already satisfied: widgetsnbextension~=3.5.0 in /opt/conda/lib/python3.9/site-packages (from ipywidgets>=7.5.1->pandas-profiling[notebook]) (3.5.2)\n",
      "Requirement already satisfied: nest-asyncio>=1.5 in /opt/conda/lib/python3.9/site-packages (from jupyter-client>=6.0.0->pandas-profiling[notebook]) (1.5.4)\n",
      "Requirement already satisfied: pyzmq>=13 in /opt/conda/lib/python3.9/site-packages (from jupyter-client>=6.0.0->pandas-profiling[notebook]) (22.3.0)\n",
      "Requirement already satisfied: python-dateutil>=2.1 in /opt/conda/lib/python3.9/site-packages (from jupyter-client>=6.0.0->pandas-profiling[notebook]) (2.8.2)\n",
      "Requirement already satisfied: entrypoints in /opt/conda/lib/python3.9/site-packages (from jupyter-client>=6.0.0->pandas-profiling[notebook]) (0.4)\n",
      "Requirement already satisfied: tornado>=4.1 in /opt/conda/lib/python3.9/site-packages (from jupyter-client>=6.0.0->pandas-profiling[notebook]) (6.1)\n",
      "Requirement already satisfied: kiwisolver>=1.0.1 in /opt/conda/lib/python3.9/site-packages (from matplotlib>=3.2.0->pandas-profiling[notebook]) (1.3.2)\n",
      "Requirement already satisfied: fonttools>=4.22.0 in /opt/conda/lib/python3.9/site-packages (from matplotlib>=3.2.0->pandas-profiling[notebook]) (4.29.1)\n",
      "Requirement already satisfied: pyparsing>=2.2.1 in /opt/conda/lib/python3.9/site-packages (from matplotlib>=3.2.0->pandas-profiling[notebook]) (3.0.7)\n",
      "Requirement already satisfied: packaging>=20.0 in /opt/conda/lib/python3.9/site-packages (from matplotlib>=3.2.0->pandas-profiling[notebook]) (21.3)\n",
      "Requirement already satisfied: cycler>=0.10 in /opt/conda/lib/python3.9/site-packages (from matplotlib>=3.2.0->pandas-profiling[notebook]) (0.11.0)\n",
      "Requirement already satisfied: pytz>=2020.1 in /opt/conda/lib/python3.9/site-packages (from pandas!=1.0.0,!=1.0.1,!=1.0.2,!=1.1.0,>=0.25.3->pandas-profiling[notebook]) (2021.3)\n",
      "Requirement already satisfied: typing-extensions>=3.7.4.3 in /opt/conda/lib/python3.9/site-packages (from pydantic>=1.8.1->pandas-profiling[notebook]) (4.1.1)\n",
      "Requirement already satisfied: charset-normalizer~=2.0.0 in /opt/conda/lib/python3.9/site-packages (from requests>=2.24.0->pandas-profiling[notebook]) (2.0.12)\n",
      "Requirement already satisfied: urllib3<1.27,>=1.21.1 in /opt/conda/lib/python3.9/site-packages (from requests>=2.24.0->pandas-profiling[notebook]) (1.26.8)\n",
      "Requirement already satisfied: idna<4,>=2.5 in /opt/conda/lib/python3.9/site-packages (from requests>=2.24.0->pandas-profiling[notebook]) (3.3)\n",
      "Requirement already satisfied: certifi>=2017.4.17 in /opt/conda/lib/python3.9/site-packages (from requests>=2.24.0->pandas-profiling[notebook]) (2021.10.8)\n",
      "Requirement already satisfied: debugpy<2.0,>=1.0.0 in /opt/conda/lib/python3.9/site-packages (from ipykernel>=4.5.1->ipywidgets>=7.5.1->pandas-profiling[notebook]) (1.5.1)\n",
      "Requirement already satisfied: matplotlib-inline<0.2.0,>=0.1.0 in /opt/conda/lib/python3.9/site-packages (from ipykernel>=4.5.1->ipywidgets>=7.5.1->pandas-profiling[notebook]) (0.1.3)\n",
      "Requirement already satisfied: decorator in /opt/conda/lib/python3.9/site-packages (from ipython>=4.0.0->ipywidgets>=7.5.1->pandas-profiling[notebook]) (5.1.1)\n",
      "Requirement already satisfied: setuptools>=18.5 in /opt/conda/lib/python3.9/site-packages (from ipython>=4.0.0->ipywidgets>=7.5.1->pandas-profiling[notebook]) (59.8.0)\n",
      "Requirement already satisfied: pickleshare in /opt/conda/lib/python3.9/site-packages (from ipython>=4.0.0->ipywidgets>=7.5.1->pandas-profiling[notebook]) (0.7.5)\n",
      "Requirement already satisfied: jedi>=0.16 in /opt/conda/lib/python3.9/site-packages (from ipython>=4.0.0->ipywidgets>=7.5.1->pandas-profiling[notebook]) (0.18.1)\n",
      "Requirement already satisfied: pygments in /opt/conda/lib/python3.9/site-packages (from ipython>=4.0.0->ipywidgets>=7.5.1->pandas-profiling[notebook]) (2.11.2)\n",
      "Requirement already satisfied: prompt-toolkit!=3.0.0,!=3.0.1,<3.1.0,>=2.0.0 in /opt/conda/lib/python3.9/site-packages (from ipython>=4.0.0->ipywidgets>=7.5.1->pandas-profiling[notebook]) (3.0.27)\n",
      "Requirement already satisfied: pexpect>4.3 in /opt/conda/lib/python3.9/site-packages (from ipython>=4.0.0->ipywidgets>=7.5.1->pandas-profiling[notebook]) (4.8.0)\n",
      "Requirement already satisfied: backcall in /opt/conda/lib/python3.9/site-packages (from ipython>=4.0.0->ipywidgets>=7.5.1->pandas-profiling[notebook]) (0.2.0)\n",
      "Requirement already satisfied: stack-data in /opt/conda/lib/python3.9/site-packages (from ipython>=4.0.0->ipywidgets>=7.5.1->pandas-profiling[notebook]) (0.2.0)\n",
      "Requirement already satisfied: black in /opt/conda/lib/python3.9/site-packages (from ipython>=4.0.0->ipywidgets>=7.5.1->pandas-profiling[notebook]) (21.12b0)\n",
      "Requirement already satisfied: jsonschema!=2.5.0,>=2.4 in /opt/conda/lib/python3.9/site-packages (from nbformat>=4.2.0->ipywidgets>=7.5.1->pandas-profiling[notebook]) (4.4.0)\n",
      "Requirement already satisfied: six>=1.5 in /opt/conda/lib/python3.9/site-packages (from python-dateutil>=2.1->jupyter-client>=6.0.0->pandas-profiling[notebook]) (1.16.0)\n",
      "Requirement already satisfied: notebook>=4.4.1 in /opt/conda/lib/python3.9/site-packages (from widgetsnbextension~=3.5.0->ipywidgets>=7.5.1->pandas-profiling[notebook]) (6.4.8)\n",
      "Requirement already satisfied: PyWavelets in /opt/conda/lib/python3.9/site-packages (from imagehash->visions[type_image_path]==0.7.4->pandas-profiling[notebook]) (1.2.0)\n",
      "Requirement already satisfied: parso<0.9.0,>=0.8.0 in /opt/conda/lib/python3.9/site-packages (from jedi>=0.16->ipython>=4.0.0->ipywidgets>=7.5.1->pandas-profiling[notebook]) (0.8.3)\n",
      "Requirement already satisfied: pyrsistent!=0.17.0,!=0.17.1,!=0.17.2,>=0.14.0 in /opt/conda/lib/python3.9/site-packages (from jsonschema!=2.5.0,>=2.4->nbformat>=4.2.0->ipywidgets>=7.5.1->pandas-profiling[notebook]) (0.18.1)\n",
      "Requirement already satisfied: argon2-cffi in /opt/conda/lib/python3.9/site-packages (from notebook>=4.4.1->widgetsnbextension~=3.5.0->ipywidgets>=7.5.1->pandas-profiling[notebook]) (21.3.0)\n",
      "Requirement already satisfied: nbconvert in /opt/conda/lib/python3.9/site-packages (from notebook>=4.4.1->widgetsnbextension~=3.5.0->ipywidgets>=7.5.1->pandas-profiling[notebook]) (6.4.2)\n",
      "Requirement already satisfied: terminado>=0.8.3 in /opt/conda/lib/python3.9/site-packages (from notebook>=4.4.1->widgetsnbextension~=3.5.0->ipywidgets>=7.5.1->pandas-profiling[notebook]) (0.13.1)\n",
      "Requirement already satisfied: Send2Trash>=1.8.0 in /opt/conda/lib/python3.9/site-packages (from notebook>=4.4.1->widgetsnbextension~=3.5.0->ipywidgets>=7.5.1->pandas-profiling[notebook]) (1.8.0)\n",
      "Requirement already satisfied: prometheus-client in /opt/conda/lib/python3.9/site-packages (from notebook>=4.4.1->widgetsnbextension~=3.5.0->ipywidgets>=7.5.1->pandas-profiling[notebook]) (0.13.1)\n",
      "Requirement already satisfied: ptyprocess>=0.5 in /opt/conda/lib/python3.9/site-packages (from pexpect>4.3->ipython>=4.0.0->ipywidgets>=7.5.1->pandas-profiling[notebook]) (0.7.0)\n",
      "Requirement already satisfied: wcwidth in /opt/conda/lib/python3.9/site-packages (from prompt-toolkit!=3.0.0,!=3.0.1,<3.1.0,>=2.0.0->ipython>=4.0.0->ipywidgets>=7.5.1->pandas-profiling[notebook]) (0.2.5)\n",
      "Requirement already satisfied: click>=7.1.2 in /opt/conda/lib/python3.9/site-packages (from black->ipython>=4.0.0->ipywidgets>=7.5.1->pandas-profiling[notebook]) (8.0.4)\n",
      "Requirement already satisfied: pathspec<1,>=0.9.0 in /opt/conda/lib/python3.9/site-packages (from black->ipython>=4.0.0->ipywidgets>=7.5.1->pandas-profiling[notebook]) (0.9.0)\n",
      "Requirement already satisfied: tomli<2.0.0,>=0.2.6 in /opt/conda/lib/python3.9/site-packages (from black->ipython>=4.0.0->ipywidgets>=7.5.1->pandas-profiling[notebook]) (1.2.3)\n",
      "Requirement already satisfied: platformdirs>=2 in /opt/conda/lib/python3.9/site-packages (from black->ipython>=4.0.0->ipywidgets>=7.5.1->pandas-profiling[notebook]) (2.5.1)\n",
      "Requirement already satisfied: mypy-extensions>=0.4.3 in /opt/conda/lib/python3.9/site-packages (from black->ipython>=4.0.0->ipywidgets>=7.5.1->pandas-profiling[notebook]) (0.4.3)\n",
      "Requirement already satisfied: asttokens in /opt/conda/lib/python3.9/site-packages (from stack-data->ipython>=4.0.0->ipywidgets>=7.5.1->pandas-profiling[notebook]) (2.0.5)\n",
      "Requirement already satisfied: executing in /opt/conda/lib/python3.9/site-packages (from stack-data->ipython>=4.0.0->ipywidgets>=7.5.1->pandas-profiling[notebook]) (0.8.3)\n",
      "Requirement already satisfied: pure-eval in /opt/conda/lib/python3.9/site-packages (from stack-data->ipython>=4.0.0->ipywidgets>=7.5.1->pandas-profiling[notebook]) (0.2.2)\n",
      "Requirement already satisfied: argon2-cffi-bindings in /opt/conda/lib/python3.9/site-packages (from argon2-cffi->notebook>=4.4.1->widgetsnbextension~=3.5.0->ipywidgets>=7.5.1->pandas-profiling[notebook]) (21.2.0)\n",
      "Requirement already satisfied: nbclient<0.6.0,>=0.5.0 in /opt/conda/lib/python3.9/site-packages (from nbconvert->notebook>=4.4.1->widgetsnbextension~=3.5.0->ipywidgets>=7.5.1->pandas-profiling[notebook]) (0.5.11)\n",
      "Requirement already satisfied: jupyterlab-pygments in /opt/conda/lib/python3.9/site-packages (from nbconvert->notebook>=4.4.1->widgetsnbextension~=3.5.0->ipywidgets>=7.5.1->pandas-profiling[notebook]) (0.1.2)\n",
      "Requirement already satisfied: testpath in /opt/conda/lib/python3.9/site-packages (from nbconvert->notebook>=4.4.1->widgetsnbextension~=3.5.0->ipywidgets>=7.5.1->pandas-profiling[notebook]) (0.6.0)\n",
      "Requirement already satisfied: defusedxml in /opt/conda/lib/python3.9/site-packages (from nbconvert->notebook>=4.4.1->widgetsnbextension~=3.5.0->ipywidgets>=7.5.1->pandas-profiling[notebook]) (0.7.1)\n",
      "Requirement already satisfied: bleach in /opt/conda/lib/python3.9/site-packages (from nbconvert->notebook>=4.4.1->widgetsnbextension~=3.5.0->ipywidgets>=7.5.1->pandas-profiling[notebook]) (4.1.0)\n",
      "Requirement already satisfied: pandocfilters>=1.4.1 in /opt/conda/lib/python3.9/site-packages (from nbconvert->notebook>=4.4.1->widgetsnbextension~=3.5.0->ipywidgets>=7.5.1->pandas-profiling[notebook]) (1.5.0)\n",
      "Requirement already satisfied: mistune<2,>=0.8.1 in /opt/conda/lib/python3.9/site-packages (from nbconvert->notebook>=4.4.1->widgetsnbextension~=3.5.0->ipywidgets>=7.5.1->pandas-profiling[notebook]) (0.8.4)\n",
      "Requirement already satisfied: cffi>=1.0.1 in /opt/conda/lib/python3.9/site-packages (from argon2-cffi-bindings->argon2-cffi->notebook>=4.4.1->widgetsnbextension~=3.5.0->ipywidgets>=7.5.1->pandas-profiling[notebook]) (1.15.0)\n",
      "Requirement already satisfied: webencodings in /opt/conda/lib/python3.9/site-packages (from bleach->nbconvert->notebook>=4.4.1->widgetsnbextension~=3.5.0->ipywidgets>=7.5.1->pandas-profiling[notebook]) (0.5.1)\n",
      "Requirement already satisfied: pycparser in /opt/conda/lib/python3.9/site-packages (from cffi>=1.0.1->argon2-cffi-bindings->argon2-cffi->notebook>=4.4.1->widgetsnbextension~=3.5.0->ipywidgets>=7.5.1->pandas-profiling[notebook]) (2.21)\n",
      "Building wheels for collected packages: htmlmin, imagehash\n",
      "  Building wheel for htmlmin (setup.py) ... \u001b[?25ldone\n",
      "\u001b[?25h  Created wheel for htmlmin: filename=htmlmin-0.1.12-py3-none-any.whl size=27098 sha256=6561c9a6fa22154ecdd5d056f40ffc4d05a88002a65f6a93f32646d92f8c6aa1\n",
      "  Stored in directory: /home/jovyan/.cache/pip/wheels/1d/05/04/c6d7d3b66539d9e659ac6dfe81e2d0fd4c1a8316cc5a403300\n",
      "  Building wheel for imagehash (setup.py) ... \u001b[?25ldone\n",
      "\u001b[?25h  Created wheel for imagehash: filename=ImageHash-4.2.1-py2.py3-none-any.whl size=295206 sha256=5f26cb96c52bc408ebf295a994025735fef0431d044b5090fe8ad417193b208a\n",
      "  Stored in directory: /home/jovyan/.cache/pip/wheels/51/f9/a5/740af2fdb0ad1edf79aabdc41531be0b6f0b2e2be684c388cf\n",
      "Successfully built htmlmin imagehash\n",
      "Installing collected packages: htmlmin, tangled-up-in-unicode, pydantic, multimethod, markupsafe, joblib, imagehash, visions, phik, missingno, pandas-profiling\n",
      "  Attempting uninstall: markupsafe\n",
      "    Found existing installation: MarkupSafe 2.1.0\n",
      "    Uninstalling MarkupSafe-2.1.0:\n",
      "      Successfully uninstalled MarkupSafe-2.1.0\n",
      "  Attempting uninstall: joblib\n",
      "    Found existing installation: joblib 1.1.0\n",
      "    Uninstalling joblib-1.1.0:\n",
      "      Successfully uninstalled joblib-1.1.0\n",
      "Successfully installed htmlmin-0.1.12 imagehash-4.2.1 joblib-1.0.1 markupsafe-2.0.1 missingno-0.5.1 multimethod-1.7 pandas-profiling-3.1.0 phik-0.12.0 pydantic-1.9.0 tangled-up-in-unicode-0.1.0 visions-0.7.4\n"
     ]
    }
   ],
   "source": [
    "! pip install pandas-profiling[notebook]"
   ]
  },
  {
   "cell_type": "code",
   "execution_count": 7,
   "id": "4dc1c898-cc6b-4605-964e-84e8624d0d26",
   "metadata": {
    "tags": []
   },
   "outputs": [],
   "source": [
    "import numpy as np\n",
    "import pandas as pd\n",
    "from siuba import *\n",
    "import numpy as np\n",
    "import cpi\n",
    "\n",
    "from calitp import to_snakecase\n",
    "\n",
    "import _dla_utils\n",
    "\n",
    "from pandas_profiling import ProfileReport\n",
    "from ipywidgets import widget"
   ]
  },
  {
   "cell_type": "code",
   "execution_count": 4,
   "id": "f1e82652-fc39-438e-b435-064146f118ce",
   "metadata": {},
   "outputs": [
    {
     "name": "stderr",
     "output_type": "stream",
     "text": [
      "/home/jovyan/data-analyses/dla/e76_obligated_funds/_clean_data.py:187: SettingWithCopyWarning: \n",
      "A value is trying to be set on a copy of a slice from a DataFrame.\n",
      "Try using .loc[row_indexer,col_indexer] = value instead\n",
      "\n",
      "See the caveats in the documentation: https://pandas.pydata.org/pandas-docs/stable/user_guide/indexing.html#returning-a-view-versus-a-copy\n"
     ]
    }
   ],
   "source": [
    "import _clean_data"
   ]
  },
  {
   "cell_type": "code",
   "execution_count": null,
   "id": "b16a7c61-cc37-4d53-a211-986a6b75c419",
   "metadata": {},
   "outputs": [],
   "source": []
  },
  {
   "cell_type": "code",
   "execution_count": 5,
   "id": "ed3e917e-20f9-429a-8192-e76ac4126803",
   "metadata": {},
   "outputs": [],
   "source": [
    "df1 = _clean_data.read_data()"
   ]
  },
  {
   "cell_type": "code",
   "execution_count": 6,
   "id": "17b219b3-3c70-4480-9640-bca6512b17ad",
   "metadata": {},
   "outputs": [
    {
     "data": {
      "text/html": [
       "<div>\n",
       "<style scoped>\n",
       "    .dataframe tbody tr th:only-of-type {\n",
       "        vertical-align: middle;\n",
       "    }\n",
       "\n",
       "    .dataframe tbody tr th {\n",
       "        vertical-align: top;\n",
       "    }\n",
       "\n",
       "    .dataframe thead th {\n",
       "        text-align: right;\n",
       "    }\n",
       "</style>\n",
       "<table border=\"1\" class=\"dataframe\">\n",
       "  <thead>\n",
       "    <tr style=\"text-align: right;\">\n",
       "      <th></th>\n",
       "      <th>Location</th>\n",
       "      <th>PREFIX</th>\n",
       "      <th>Project NO</th>\n",
       "      <th>Agency</th>\n",
       "      <th>prepared date</th>\n",
       "      <th>submit  to HQ date</th>\n",
       "      <th>HQ review date</th>\n",
       "      <th>submit to FHWA date</th>\n",
       "      <th>To FMIS date</th>\n",
       "      <th>Fed requested</th>\n",
       "      <th>AC requested</th>\n",
       "      <th>total requested</th>\n",
       "      <th>Status Comment</th>\n",
       "      <th>Locode</th>\n",
       "      <th>DIST</th>\n",
       "      <th>Status</th>\n",
       "      <th>Waiting Days</th>\n",
       "      <th>dist processing Days</th>\n",
       "      <th>HQ processing Days</th>\n",
       "      <th>FHWA processing Days</th>\n",
       "      <th>FTIP No</th>\n",
       "      <th>project location</th>\n",
       "      <th>Type of Work</th>\n",
       "      <th>SEQ</th>\n",
       "      <th>Date Request Initiated</th>\n",
       "      <th>date completed request</th>\n",
       "      <th>MPO</th>\n",
       "      <th>Today</th>\n",
       "      <th>Unnamed: 28</th>\n",
       "      <th>Warning</th>\n",
       "    </tr>\n",
       "  </thead>\n",
       "  <tbody>\n",
       "    <tr>\n",
       "      <th>0</th>\n",
       "      <td>Obligated</td>\n",
       "      <td>BPMP</td>\n",
       "      <td>5904(121)</td>\n",
       "      <td>Humboldt County</td>\n",
       "      <td>2018-12-18</td>\n",
       "      <td>2018-12-18</td>\n",
       "      <td>2018-12-18</td>\n",
       "      <td>2018-12-18</td>\n",
       "      <td>2018-12-27</td>\n",
       "      <td>0.00</td>\n",
       "      <td>0.00</td>\n",
       "      <td>0.00</td>\n",
       "      <td>Authorized</td>\n",
       "      <td>5,904.00</td>\n",
       "      <td>1</td>\n",
       "      <td>E-76 approved on</td>\n",
       "      <td>NaN</td>\n",
       "      <td>NaN</td>\n",
       "      <td>0.00</td>\n",
       "      <td>9.00</td>\n",
       "      <td>HBPLOCAL</td>\n",
       "      <td>14 Bridges In Humboldt County</td>\n",
       "      <td>Bridge Preventive Maintenance - Deck Joints</td>\n",
       "      <td>3</td>\n",
       "      <td>NaN</td>\n",
       "      <td>NaN</td>\n",
       "      <td>NON-MPO</td>\n",
       "      <td>NaN</td>\n",
       "      <td>NaN</td>\n",
       "      <td>NaN</td>\n",
       "    </tr>\n",
       "    <tr>\n",
       "      <th>1</th>\n",
       "      <td>Obligated</td>\n",
       "      <td>ER</td>\n",
       "      <td>32D0(008)</td>\n",
       "      <td>Mendocino County</td>\n",
       "      <td>2018-12-17</td>\n",
       "      <td>2018-12-19</td>\n",
       "      <td>2018-12-20</td>\n",
       "      <td>2018-12-20</td>\n",
       "      <td>2018-12-27</td>\n",
       "      <td>11,508.00</td>\n",
       "      <td>0.00</td>\n",
       "      <td>13,000.00</td>\n",
       "      <td>Authorized</td>\n",
       "      <td>5,910.00</td>\n",
       "      <td>1</td>\n",
       "      <td>E-76 approved on</td>\n",
       "      <td>NaN</td>\n",
       "      <td>1.00</td>\n",
       "      <td>1.00</td>\n",
       "      <td>7.00</td>\n",
       "      <td>NaN</td>\n",
       "      <td>Comptche Ukiah Road, Cr 223 Pm 17.25</td>\n",
       "      <td>Permanent Restoration</td>\n",
       "      <td>3</td>\n",
       "      <td>2018-12-17</td>\n",
       "      <td>2018-12-18</td>\n",
       "      <td>NON-MPO</td>\n",
       "      <td>NaN</td>\n",
       "      <td>NaN</td>\n",
       "      <td>NaN</td>\n",
       "    </tr>\n",
       "    <tr>\n",
       "      <th>2</th>\n",
       "      <td>Obligated</td>\n",
       "      <td>ER</td>\n",
       "      <td>4820(004)</td>\n",
       "      <td>Humboldt County</td>\n",
       "      <td>2018-12-07</td>\n",
       "      <td>2018-12-21</td>\n",
       "      <td>2018-12-21</td>\n",
       "      <td>2018-12-21</td>\n",
       "      <td>2018-12-27</td>\n",
       "      <td>45,499.64</td>\n",
       "      <td>0.00</td>\n",
       "      <td>51,394.58</td>\n",
       "      <td>Authorized</td>\n",
       "      <td>5,904.00</td>\n",
       "      <td>1</td>\n",
       "      <td>E-76 approved on</td>\n",
       "      <td>NaN</td>\n",
       "      <td>14.00</td>\n",
       "      <td>0.00</td>\n",
       "      <td>6.00</td>\n",
       "      <td>NaN</td>\n",
       "      <td>Mattole Rd Pm 43.17</td>\n",
       "      <td>Permanent Restoration</td>\n",
       "      <td>5</td>\n",
       "      <td>2018-12-06</td>\n",
       "      <td>2018-12-07</td>\n",
       "      <td>NON-MPO</td>\n",
       "      <td>NaN</td>\n",
       "      <td>NaN</td>\n",
       "      <td>NaN</td>\n",
       "    </tr>\n",
       "    <tr>\n",
       "      <th>3</th>\n",
       "      <td>Obligated</td>\n",
       "      <td>CML</td>\n",
       "      <td>5924(244)</td>\n",
       "      <td>Sacramento County</td>\n",
       "      <td>2018-12-11</td>\n",
       "      <td>2018-12-11</td>\n",
       "      <td>2018-12-21</td>\n",
       "      <td>2018-12-27</td>\n",
       "      <td>2018-12-27</td>\n",
       "      <td>207,002.00</td>\n",
       "      <td>0.00</td>\n",
       "      <td>247,002.00</td>\n",
       "      <td>Authorized</td>\n",
       "      <td>5,924.00</td>\n",
       "      <td>3</td>\n",
       "      <td>E-76 approved on</td>\n",
       "      <td>NaN</td>\n",
       "      <td>4.00</td>\n",
       "      <td>16.00</td>\n",
       "      <td>0.00</td>\n",
       "      <td>SAC25086</td>\n",
       "      <td>Fair Oaks Blvd. Between Howe Ave And Munroe St</td>\n",
       "      <td>Create A Smart Growth Corridor With Barrier Se...</td>\n",
       "      <td>1</td>\n",
       "      <td>2018-12-07</td>\n",
       "      <td>2018-12-07</td>\n",
       "      <td>SACOG</td>\n",
       "      <td>NaN</td>\n",
       "      <td>NaN</td>\n",
       "      <td>NaN</td>\n",
       "    </tr>\n",
       "    <tr>\n",
       "      <th>4</th>\n",
       "      <td>Obligated</td>\n",
       "      <td>CML</td>\n",
       "      <td>5924(214)</td>\n",
       "      <td>Sacramento County</td>\n",
       "      <td>2018-12-05</td>\n",
       "      <td>2018-12-11</td>\n",
       "      <td>2018-12-21</td>\n",
       "      <td>2018-12-27</td>\n",
       "      <td>2018-12-27</td>\n",
       "      <td>0.00</td>\n",
       "      <td>5,680,921.00</td>\n",
       "      <td>5,702,041.00</td>\n",
       "      <td>Authorized</td>\n",
       "      <td>5,924.00</td>\n",
       "      <td>3</td>\n",
       "      <td>E-76 approved on</td>\n",
       "      <td>NaN</td>\n",
       "      <td>7.00</td>\n",
       "      <td>16.00</td>\n",
       "      <td>0.00</td>\n",
       "      <td>SAC24753</td>\n",
       "      <td>Florin Rd Between Power Inn Rd. And Florin Per...</td>\n",
       "      <td>Streetscape (tc)</td>\n",
       "      <td>3</td>\n",
       "      <td>2018-11-28</td>\n",
       "      <td>2018-12-04</td>\n",
       "      <td>SACOG</td>\n",
       "      <td>NaN</td>\n",
       "      <td>NaN</td>\n",
       "      <td>NaN</td>\n",
       "    </tr>\n",
       "    <tr>\n",
       "      <th>...</th>\n",
       "      <td>...</td>\n",
       "      <td>...</td>\n",
       "      <td>...</td>\n",
       "      <td>...</td>\n",
       "      <td>...</td>\n",
       "      <td>...</td>\n",
       "      <td>...</td>\n",
       "      <td>...</td>\n",
       "      <td>...</td>\n",
       "      <td>...</td>\n",
       "      <td>...</td>\n",
       "      <td>...</td>\n",
       "      <td>...</td>\n",
       "      <td>...</td>\n",
       "      <td>...</td>\n",
       "      <td>...</td>\n",
       "      <td>...</td>\n",
       "      <td>...</td>\n",
       "      <td>...</td>\n",
       "      <td>...</td>\n",
       "      <td>...</td>\n",
       "      <td>...</td>\n",
       "      <td>...</td>\n",
       "      <td>...</td>\n",
       "      <td>...</td>\n",
       "      <td>...</td>\n",
       "      <td>...</td>\n",
       "      <td>...</td>\n",
       "      <td>...</td>\n",
       "      <td>...</td>\n",
       "    </tr>\n",
       "    <tr>\n",
       "      <th>21589</th>\n",
       "      <td>FTA Transferred</td>\n",
       "      <td>FTACRRSA</td>\n",
       "      <td>6000(069)</td>\n",
       "      <td>San Francisco Bay Area Rapid Transit District</td>\n",
       "      <td>2021-11-22 00:00:00</td>\n",
       "      <td>2021-11-22 00:00:00</td>\n",
       "      <td>2021-11-22 00:00:00</td>\n",
       "      <td>2021-12-22 00:00:00</td>\n",
       "      <td>2022-02-11 00:00:00</td>\n",
       "      <td>4,335,000.00</td>\n",
       "      <td>0.00</td>\n",
       "      <td>4,335,000.00</td>\n",
       "      <td>Prog Code Z972</td>\n",
       "      <td>6000</td>\n",
       "      <td>4</td>\n",
       "      <td>FTA transferred on 2/11/2022</td>\n",
       "      <td>NaN</td>\n",
       "      <td>NaN</td>\n",
       "      <td>30.00</td>\n",
       "      <td>51.00</td>\n",
       "      <td>NaN</td>\n",
       "      <td>NaN</td>\n",
       "      <td>FTA Transfer</td>\n",
       "      <td>1</td>\n",
       "      <td>NaT</td>\n",
       "      <td>NaT</td>\n",
       "      <td>MTC</td>\n",
       "      <td>NaT</td>\n",
       "      <td>NaN</td>\n",
       "      <td>NaN</td>\n",
       "    </tr>\n",
       "    <tr>\n",
       "      <th>21590</th>\n",
       "      <td>FTA Transferred</td>\n",
       "      <td>FTASTPL</td>\n",
       "      <td>6264(091)</td>\n",
       "      <td>Santa Clara Valley Transportation Authority</td>\n",
       "      <td>2021-11-22 00:00:00</td>\n",
       "      <td>2021-11-22 00:00:00</td>\n",
       "      <td>2021-11-22 00:00:00</td>\n",
       "      <td>2022-02-15 00:00:00</td>\n",
       "      <td>2022-02-25 00:00:00</td>\n",
       "      <td>1,987,000.00</td>\n",
       "      <td>0.00</td>\n",
       "      <td>1,987,000.00</td>\n",
       "      <td>Prog Code Y230</td>\n",
       "      <td>6264</td>\n",
       "      <td>4</td>\n",
       "      <td>FTA transferred on 2/25/2022</td>\n",
       "      <td>NaN</td>\n",
       "      <td>NaN</td>\n",
       "      <td>85.00</td>\n",
       "      <td>10.00</td>\n",
       "      <td>NaN</td>\n",
       "      <td>NaN</td>\n",
       "      <td>FTA Transfer</td>\n",
       "      <td>1</td>\n",
       "      <td>NaT</td>\n",
       "      <td>NaT</td>\n",
       "      <td>MTC</td>\n",
       "      <td>NaT</td>\n",
       "      <td>NaN</td>\n",
       "      <td>NaN</td>\n",
       "    </tr>\n",
       "    <tr>\n",
       "      <th>21591</th>\n",
       "      <td>FTA Transferred</td>\n",
       "      <td>FTASTPL</td>\n",
       "      <td>6002(030)</td>\n",
       "      <td>Alameda - Contra Costa Transit District</td>\n",
       "      <td>2021-11-22 00:00:00</td>\n",
       "      <td>2021-11-22 00:00:00</td>\n",
       "      <td>2021-11-22 00:00:00</td>\n",
       "      <td>2022-02-15 00:00:00</td>\n",
       "      <td>2022-02-25 00:00:00</td>\n",
       "      <td>1,254,000.00</td>\n",
       "      <td>0.00</td>\n",
       "      <td>1,254,000.00</td>\n",
       "      <td>Prog Code Y230</td>\n",
       "      <td>6002</td>\n",
       "      <td>4</td>\n",
       "      <td>FTA transferred on 2/25/2022</td>\n",
       "      <td>NaN</td>\n",
       "      <td>NaN</td>\n",
       "      <td>85.00</td>\n",
       "      <td>10.00</td>\n",
       "      <td>NaN</td>\n",
       "      <td>NaN</td>\n",
       "      <td>FTA Transfer</td>\n",
       "      <td>1</td>\n",
       "      <td>NaT</td>\n",
       "      <td>NaT</td>\n",
       "      <td>MTC</td>\n",
       "      <td>NaT</td>\n",
       "      <td>NaN</td>\n",
       "      <td>NaN</td>\n",
       "    </tr>\n",
       "    <tr>\n",
       "      <th>21592</th>\n",
       "      <td>FTA Transferred</td>\n",
       "      <td>FTACML</td>\n",
       "      <td>6292(016)</td>\n",
       "      <td>Mountain Area Regional Transit Authority</td>\n",
       "      <td>2022-02-18 00:00:00</td>\n",
       "      <td>2022-02-18 00:00:00</td>\n",
       "      <td>2022-02-18 00:00:00</td>\n",
       "      <td>2022-03-01 00:00:00</td>\n",
       "      <td>2022-03-02 00:00:00</td>\n",
       "      <td>438,168.00</td>\n",
       "      <td>0.00</td>\n",
       "      <td>438,168.00</td>\n",
       "      <td>Prog Code M400</td>\n",
       "      <td>6292</td>\n",
       "      <td>8</td>\n",
       "      <td>FTA transferred on 3/2/2022</td>\n",
       "      <td>NaN</td>\n",
       "      <td>NaN</td>\n",
       "      <td>11.00</td>\n",
       "      <td>1.00</td>\n",
       "      <td>NaN</td>\n",
       "      <td>NaN</td>\n",
       "      <td>FTA Transfer</td>\n",
       "      <td>1</td>\n",
       "      <td>NaT</td>\n",
       "      <td>NaT</td>\n",
       "      <td>SCAG</td>\n",
       "      <td>NaT</td>\n",
       "      <td>NaN</td>\n",
       "      <td>NaN</td>\n",
       "    </tr>\n",
       "    <tr>\n",
       "      <th>21593</th>\n",
       "      <td>FTA Transferred</td>\n",
       "      <td>FTASTPL</td>\n",
       "      <td>7503(003)</td>\n",
       "      <td>La Jolla Band of Luiseno Indians</td>\n",
       "      <td>2022-01-25 00:00:00</td>\n",
       "      <td>2022-01-25 00:00:00</td>\n",
       "      <td>2022-01-25 00:00:00</td>\n",
       "      <td>2022-02-14 00:00:00</td>\n",
       "      <td>2022-02-14 00:00:00</td>\n",
       "      <td>10,000,000.00</td>\n",
       "      <td>0.00</td>\n",
       "      <td>10,000,000.00</td>\n",
       "      <td>Prog Code Y230</td>\n",
       "      <td>7503</td>\n",
       "      <td>11</td>\n",
       "      <td>FTA transferred on 2/14/2022</td>\n",
       "      <td>NaN</td>\n",
       "      <td>NaN</td>\n",
       "      <td>20.00</td>\n",
       "      <td>0.00</td>\n",
       "      <td>NaN</td>\n",
       "      <td>NaN</td>\n",
       "      <td>FTA Transfer</td>\n",
       "      <td>1</td>\n",
       "      <td>NaT</td>\n",
       "      <td>NaT</td>\n",
       "      <td>NON-MPO</td>\n",
       "      <td>NaT</td>\n",
       "      <td>NaN</td>\n",
       "      <td>NaN</td>\n",
       "    </tr>\n",
       "  </tbody>\n",
       "</table>\n",
       "<p>21594 rows × 30 columns</p>\n",
       "</div>"
      ],
      "text/plain": [
       "              Location    PREFIX Project NO  \\\n",
       "0            Obligated      BPMP  5904(121)   \n",
       "1            Obligated        ER  32D0(008)   \n",
       "2            Obligated        ER  4820(004)   \n",
       "3            Obligated       CML  5924(244)   \n",
       "4            Obligated       CML  5924(214)   \n",
       "...                ...       ...        ...   \n",
       "21589  FTA Transferred  FTACRRSA  6000(069)   \n",
       "21590  FTA Transferred   FTASTPL  6264(091)   \n",
       "21591  FTA Transferred   FTASTPL  6002(030)   \n",
       "21592  FTA Transferred    FTACML  6292(016)   \n",
       "21593  FTA Transferred   FTASTPL  7503(003)   \n",
       "\n",
       "                                              Agency        prepared date  \\\n",
       "0                                    Humboldt County           2018-12-18   \n",
       "1                                   Mendocino County           2018-12-17   \n",
       "2                                    Humboldt County           2018-12-07   \n",
       "3                                  Sacramento County           2018-12-11   \n",
       "4                                  Sacramento County           2018-12-05   \n",
       "...                                              ...                  ...   \n",
       "21589  San Francisco Bay Area Rapid Transit District  2021-11-22 00:00:00   \n",
       "21590    Santa Clara Valley Transportation Authority  2021-11-22 00:00:00   \n",
       "21591        Alameda - Contra Costa Transit District  2021-11-22 00:00:00   \n",
       "21592       Mountain Area Regional Transit Authority  2022-02-18 00:00:00   \n",
       "21593               La Jolla Band of Luiseno Indians  2022-01-25 00:00:00   \n",
       "\n",
       "        submit  to HQ date       HQ review date  submit to FHWA date  \\\n",
       "0               2018-12-18           2018-12-18           2018-12-18   \n",
       "1               2018-12-19           2018-12-20           2018-12-20   \n",
       "2               2018-12-21           2018-12-21           2018-12-21   \n",
       "3               2018-12-11           2018-12-21           2018-12-27   \n",
       "4               2018-12-11           2018-12-21           2018-12-27   \n",
       "...                    ...                  ...                  ...   \n",
       "21589  2021-11-22 00:00:00  2021-11-22 00:00:00  2021-12-22 00:00:00   \n",
       "21590  2021-11-22 00:00:00  2021-11-22 00:00:00  2022-02-15 00:00:00   \n",
       "21591  2021-11-22 00:00:00  2021-11-22 00:00:00  2022-02-15 00:00:00   \n",
       "21592  2022-02-18 00:00:00  2022-02-18 00:00:00  2022-03-01 00:00:00   \n",
       "21593  2022-01-25 00:00:00  2022-01-25 00:00:00  2022-02-14 00:00:00   \n",
       "\n",
       "              To FMIS date  Fed requested  AC requested total requested  \\\n",
       "0               2018-12-27           0.00          0.00            0.00   \n",
       "1               2018-12-27      11,508.00          0.00       13,000.00   \n",
       "2               2018-12-27      45,499.64          0.00       51,394.58   \n",
       "3               2018-12-27     207,002.00          0.00      247,002.00   \n",
       "4               2018-12-27           0.00  5,680,921.00    5,702,041.00   \n",
       "...                    ...            ...           ...             ...   \n",
       "21589  2022-02-11 00:00:00   4,335,000.00          0.00    4,335,000.00   \n",
       "21590  2022-02-25 00:00:00   1,987,000.00          0.00    1,987,000.00   \n",
       "21591  2022-02-25 00:00:00   1,254,000.00          0.00    1,254,000.00   \n",
       "21592  2022-03-02 00:00:00     438,168.00          0.00      438,168.00   \n",
       "21593  2022-02-14 00:00:00  10,000,000.00          0.00   10,000,000.00   \n",
       "\n",
       "       Status Comment   Locode  DIST                        Status  \\\n",
       "0          Authorized 5,904.00     1              E-76 approved on   \n",
       "1          Authorized 5,910.00     1              E-76 approved on   \n",
       "2          Authorized 5,904.00     1              E-76 approved on   \n",
       "3          Authorized 5,924.00     3              E-76 approved on   \n",
       "4          Authorized 5,924.00     3              E-76 approved on   \n",
       "...               ...      ...   ...                           ...   \n",
       "21589  Prog Code Z972     6000     4  FTA transferred on 2/11/2022   \n",
       "21590  Prog Code Y230     6264     4  FTA transferred on 2/25/2022   \n",
       "21591  Prog Code Y230     6002     4  FTA transferred on 2/25/2022   \n",
       "21592  Prog Code M400     6292     8   FTA transferred on 3/2/2022   \n",
       "21593  Prog Code Y230     7503    11  FTA transferred on 2/14/2022   \n",
       "\n",
       "       Waiting Days  dist processing Days  HQ processing Days  \\\n",
       "0               NaN                   NaN                0.00   \n",
       "1               NaN                  1.00                1.00   \n",
       "2               NaN                 14.00                0.00   \n",
       "3               NaN                  4.00               16.00   \n",
       "4               NaN                  7.00               16.00   \n",
       "...             ...                   ...                 ...   \n",
       "21589           NaN                   NaN               30.00   \n",
       "21590           NaN                   NaN               85.00   \n",
       "21591           NaN                   NaN               85.00   \n",
       "21592           NaN                   NaN               11.00   \n",
       "21593           NaN                   NaN               20.00   \n",
       "\n",
       "       FHWA processing Days   FTIP No  \\\n",
       "0                      9.00  HBPLOCAL   \n",
       "1                      7.00       NaN   \n",
       "2                      6.00       NaN   \n",
       "3                      0.00  SAC25086   \n",
       "4                      0.00  SAC24753   \n",
       "...                     ...       ...   \n",
       "21589                 51.00       NaN   \n",
       "21590                 10.00       NaN   \n",
       "21591                 10.00       NaN   \n",
       "21592                  1.00       NaN   \n",
       "21593                  0.00       NaN   \n",
       "\n",
       "                                        project location  \\\n",
       "0                          14 Bridges In Humboldt County   \n",
       "1                   Comptche Ukiah Road, Cr 223 Pm 17.25   \n",
       "2                                    Mattole Rd Pm 43.17   \n",
       "3         Fair Oaks Blvd. Between Howe Ave And Munroe St   \n",
       "4      Florin Rd Between Power Inn Rd. And Florin Per...   \n",
       "...                                                  ...   \n",
       "21589                                                NaN   \n",
       "21590                                                NaN   \n",
       "21591                                                NaN   \n",
       "21592                                                NaN   \n",
       "21593                                                NaN   \n",
       "\n",
       "                                            Type of Work  SEQ  \\\n",
       "0            Bridge Preventive Maintenance - Deck Joints    3   \n",
       "1                                  Permanent Restoration    3   \n",
       "2                                  Permanent Restoration    5   \n",
       "3      Create A Smart Growth Corridor With Barrier Se...    1   \n",
       "4                                       Streetscape (tc)    3   \n",
       "...                                                  ...  ...   \n",
       "21589                                       FTA Transfer    1   \n",
       "21590                                       FTA Transfer    1   \n",
       "21591                                       FTA Transfer    1   \n",
       "21592                                       FTA Transfer    1   \n",
       "21593                                       FTA Transfer    1   \n",
       "\n",
       "      Date Request Initiated date completed request      MPO Today  \\\n",
       "0                        NaN                    NaN  NON-MPO   NaN   \n",
       "1                 2018-12-17             2018-12-18  NON-MPO   NaN   \n",
       "2                 2018-12-06             2018-12-07  NON-MPO   NaN   \n",
       "3                 2018-12-07             2018-12-07    SACOG   NaN   \n",
       "4                 2018-11-28             2018-12-04    SACOG   NaN   \n",
       "...                      ...                    ...      ...   ...   \n",
       "21589                    NaT                    NaT      MTC   NaT   \n",
       "21590                    NaT                    NaT      MTC   NaT   \n",
       "21591                    NaT                    NaT      MTC   NaT   \n",
       "21592                    NaT                    NaT     SCAG   NaT   \n",
       "21593                    NaT                    NaT  NON-MPO   NaT   \n",
       "\n",
       "      Unnamed: 28 Warning  \n",
       "0             NaN     NaN  \n",
       "1             NaN     NaN  \n",
       "2             NaN     NaN  \n",
       "3             NaN     NaN  \n",
       "4             NaN     NaN  \n",
       "...           ...     ...  \n",
       "21589         NaN     NaN  \n",
       "21590         NaN     NaN  \n",
       "21591         NaN     NaN  \n",
       "21592         NaN     NaN  \n",
       "21593         NaN     NaN  \n",
       "\n",
       "[21594 rows x 30 columns]"
      ]
     },
     "execution_count": 6,
     "metadata": {},
     "output_type": "execute_result"
    }
   ],
   "source": [
    "df1"
   ]
  },
  {
   "cell_type": "markdown",
   "id": "0cdcf980-20a8-41d4-a5d4-ee01a46ef7dc",
   "metadata": {},
   "source": [
    "## Trying out Pandas-profiling\n",
    "https://github.com/ydataai/pandas-profiling"
   ]
  },
  {
   "cell_type": "code",
   "execution_count": 11,
   "id": "bb83ef14-f119-4f47-bca4-875af65f596b",
   "metadata": {},
   "outputs": [],
   "source": [
    "# profile = ProfileReport(df1, title=\"Pandas Profiling Report\")\n",
    "# profile"
   ]
  },
  {
   "cell_type": "code",
   "execution_count": null,
   "id": "340ceab4-f1fa-4403-ab92-65d4c6f6619c",
   "metadata": {},
   "outputs": [],
   "source": []
  },
  {
   "cell_type": "code",
   "execution_count": null,
   "id": "cd74696f-1c7e-4436-98c3-5631d1608874",
   "metadata": {},
   "outputs": [],
   "source": []
  },
  {
   "cell_type": "code",
   "execution_count": null,
   "id": "09ba1554-1cf3-49b8-ac1a-04f18de2089e",
   "metadata": {},
   "outputs": [],
   "source": []
  },
  {
   "cell_type": "markdown",
   "id": "1918edb9-811f-45e8-aed4-d6baea78ef35",
   "metadata": {},
   "source": [
    "## Check Data "
   ]
  },
  {
   "cell_type": "code",
   "execution_count": 9,
   "id": "83598c56-cd81-44f8-b828-e715464a1063",
   "metadata": {},
   "outputs": [
    {
     "data": {
      "text/plain": [
       "array(['2018-12-18', '2018-12-17', '2018-12-07', ...,\n",
       "       Timestamp('2022-03-03 00:00:00'), Timestamp('2022-02-21 00:00:00'),\n",
       "       Timestamp('2022-02-13 00:00:00')], dtype=object)"
      ]
     },
     "execution_count": 9,
     "metadata": {},
     "output_type": "execute_result"
    }
   ],
   "source": [
    "df1['prepared date'].unique()"
   ]
  },
  {
   "cell_type": "code",
   "execution_count": 10,
   "id": "b724f1c9-9cbc-4fec-949f-6f484ba3eca7",
   "metadata": {},
   "outputs": [
    {
     "name": "stdout",
     "output_type": "stream",
     "text": [
      "<class 'pandas.core.frame.DataFrame'>\n",
      "RangeIndex: 21576 entries, 0 to 21575\n",
      "Data columns (total 30 columns):\n",
      " #   Column                  Non-Null Count  Dtype  \n",
      "---  ------                  --------------  -----  \n",
      " 0   Location                21576 non-null  object \n",
      " 1   PREFIX                  21576 non-null  object \n",
      " 2   Project NO              21576 non-null  object \n",
      " 3   Agency                  21576 non-null  object \n",
      " 4   prepared date           21559 non-null  object \n",
      " 5   submit  to HQ date      21462 non-null  object \n",
      " 6   HQ review date          21412 non-null  object \n",
      " 7   submit to FHWA date     21384 non-null  object \n",
      " 8   To FMIS date            21382 non-null  object \n",
      " 9   Fed requested           21575 non-null  float64\n",
      " 10  AC requested            21576 non-null  float64\n",
      " 11  total requested         21575 non-null  object \n",
      " 12  Status Comment          21576 non-null  object \n",
      " 13  Locode                  20077 non-null  object \n",
      " 14  DIST                    21576 non-null  int64  \n",
      " 15  Status                  21576 non-null  object \n",
      " 16  Waiting Days            191 non-null    float64\n",
      " 17  dist processing Days    19750 non-null  float64\n",
      " 18  HQ processing Days      21392 non-null  float64\n",
      " 19  FHWA processing Days    21392 non-null  float64\n",
      " 20  FTIP No                 17100 non-null  object \n",
      " 21  project location        21026 non-null  object \n",
      " 22  Type of Work            21576 non-null  object \n",
      " 23  SEQ                     21576 non-null  int64  \n",
      " 24  Date Request Initiated  11024 non-null  object \n",
      " 25  date completed request  10853 non-null  object \n",
      " 26  MPO                     21575 non-null  object \n",
      " 27  Today                   6 non-null      object \n",
      " 28  Unnamed: 28             43 non-null     object \n",
      " 29  Warning                 88 non-null     object \n",
      "dtypes: float64(6), int64(2), object(22)\n",
      "memory usage: 4.9+ MB\n"
     ]
    }
   ],
   "source": [
    "df1.info()"
   ]
  },
  {
   "cell_type": "code",
   "execution_count": 11,
   "id": "06459a04-ed12-4238-85f1-f48cf3f054d1",
   "metadata": {},
   "outputs": [
    {
     "data": {
      "text/html": [
       "<div>\n",
       "<style scoped>\n",
       "    .dataframe tbody tr th:only-of-type {\n",
       "        vertical-align: middle;\n",
       "    }\n",
       "\n",
       "    .dataframe tbody tr th {\n",
       "        vertical-align: top;\n",
       "    }\n",
       "\n",
       "    .dataframe thead th {\n",
       "        text-align: right;\n",
       "    }\n",
       "</style>\n",
       "<table border=\"1\" class=\"dataframe\">\n",
       "  <thead>\n",
       "    <tr style=\"text-align: right;\">\n",
       "      <th></th>\n",
       "      <th>Location</th>\n",
       "      <th>PREFIX</th>\n",
       "      <th>Project NO</th>\n",
       "      <th>Agency</th>\n",
       "      <th>prepared date</th>\n",
       "      <th>submit  to HQ date</th>\n",
       "      <th>HQ review date</th>\n",
       "      <th>submit to FHWA date</th>\n",
       "      <th>To FMIS date</th>\n",
       "      <th>Fed requested</th>\n",
       "      <th>AC requested</th>\n",
       "      <th>total requested</th>\n",
       "      <th>Status Comment</th>\n",
       "      <th>Locode</th>\n",
       "      <th>DIST</th>\n",
       "      <th>Status</th>\n",
       "      <th>Waiting Days</th>\n",
       "      <th>dist processing Days</th>\n",
       "      <th>HQ processing Days</th>\n",
       "      <th>FHWA processing Days</th>\n",
       "      <th>FTIP No</th>\n",
       "      <th>project location</th>\n",
       "      <th>Type of Work</th>\n",
       "      <th>SEQ</th>\n",
       "      <th>Date Request Initiated</th>\n",
       "      <th>date completed request</th>\n",
       "      <th>MPO</th>\n",
       "      <th>Today</th>\n",
       "      <th>Unnamed: 28</th>\n",
       "      <th>Warning</th>\n",
       "    </tr>\n",
       "  </thead>\n",
       "  <tbody>\n",
       "  </tbody>\n",
       "</table>\n",
       "</div>"
      ],
      "text/plain": [
       "Empty DataFrame\n",
       "Columns: [Location, PREFIX, Project NO, Agency, prepared date, submit  to HQ date, HQ review date, submit to FHWA date, To FMIS date, Fed requested, AC requested, total requested, Status Comment, Locode, DIST, Status, Waiting Days, dist processing Days, HQ processing Days, FHWA processing Days, FTIP No, project location, Type of Work, SEQ, Date Request Initiated, date completed request, MPO, Today, Unnamed: 28, Warning]\n",
       "Index: []"
      ]
     },
     "execution_count": 11,
     "metadata": {},
     "output_type": "execute_result"
    }
   ],
   "source": [
    "df1>>filter(_.Agency.isnull())"
   ]
  },
  {
   "cell_type": "code",
   "execution_count": 23,
   "id": "a5125100-93c0-4470-a303-566293ef58ca",
   "metadata": {},
   "outputs": [],
   "source": [
    "# data_sample = df.sample(n=10, random_state = 999)"
   ]
  },
  {
   "cell_type": "code",
   "execution_count": 24,
   "id": "9095dec0-61b2-49da-a3b6-e1bf626550df",
   "metadata": {},
   "outputs": [],
   "source": [
    "# schema = pa.DataFrameSchema({\n",
    "#     #\"PREFIX\" : pa.Column(pa.String, nullable=False),\n",
    "#     \"Agency\" : pa.Column(pa.String, nullable=True),\n",
    "#     #\"Locode\" : pa.Column(pa.Int, nullable=False),\n",
    "#     \"prepared date\" : pa.Column(pa.DateTime, nullable = False)\n",
    "# })\n",
    "\n",
    "# # Validating the data\n",
    "# schema.validate(data_sample)"
   ]
  },
  {
   "cell_type": "markdown",
   "id": "be9394ee-29d1-4910-9a44-25d19147a935",
   "metadata": {},
   "source": [
    "## Generate updated Parquet\n",
    "- using whole cleaning function"
   ]
  },
  {
   "cell_type": "code",
   "execution_count": 14,
   "id": "2c3bd842-4a9e-4faa-831e-99d4a4b81b16",
   "metadata": {},
   "outputs": [
    {
     "name": "stderr",
     "output_type": "stream",
     "text": [
      "/home/jovyan/data-analyses/dla/e76_obligated_funds/_clean_data.py:187: SettingWithCopyWarning: \n",
      "A value is trying to be set on a copy of a slice from a DataFrame.\n",
      "Try using .loc[row_indexer,col_indexer] = value instead\n",
      "\n",
      "See the caveats in the documentation: https://pandas.pydata.org/pandas-docs/stable/user_guide/indexing.html#returning-a-view-versus-a-copy\n"
     ]
    }
   ],
   "source": [
    "df = _clean_data.make_clean_data()"
   ]
  },
  {
   "cell_type": "code",
   "execution_count": 15,
   "id": "168919d8-6cbd-4303-8e42-b8af6e10d5f2",
   "metadata": {},
   "outputs": [
    {
     "data": {
      "text/html": [
       "<div>\n",
       "<style scoped>\n",
       "    .dataframe tbody tr th:only-of-type {\n",
       "        vertical-align: middle;\n",
       "    }\n",
       "\n",
       "    .dataframe tbody tr th {\n",
       "        vertical-align: top;\n",
       "    }\n",
       "\n",
       "    .dataframe thead th {\n",
       "        text-align: right;\n",
       "    }\n",
       "</style>\n",
       "<table border=\"1\" class=\"dataframe\">\n",
       "  <thead>\n",
       "    <tr style=\"text-align: right;\">\n",
       "      <th></th>\n",
       "      <th>location</th>\n",
       "      <th>prefix</th>\n",
       "      <th>project_no</th>\n",
       "      <th>agency</th>\n",
       "      <th>prepared_date</th>\n",
       "      <th>submit__to_hq_date</th>\n",
       "      <th>hq_review_date</th>\n",
       "      <th>submit_to_fhwa_date</th>\n",
       "      <th>to_fmis_date</th>\n",
       "      <th>fed_requested</th>\n",
       "      <th>ac_requested</th>\n",
       "      <th>total_requested</th>\n",
       "      <th>status_comment</th>\n",
       "      <th>locode</th>\n",
       "      <th>dist</th>\n",
       "      <th>status</th>\n",
       "      <th>dist_processing_days</th>\n",
       "      <th>hq_processing_days</th>\n",
       "      <th>fhwa_processing_days</th>\n",
       "      <th>ftip_no</th>\n",
       "      <th>project_location</th>\n",
       "      <th>type_of_work</th>\n",
       "      <th>seq</th>\n",
       "      <th>date_request_initiated</th>\n",
       "      <th>date_completed_request</th>\n",
       "      <th>mpo</th>\n",
       "      <th>projectID</th>\n",
       "      <th>prepared_y</th>\n",
       "      <th>primary_agency_name</th>\n",
       "      <th>adjusted_total_requested</th>\n",
       "      <th>adjusted_fed_requested</th>\n",
       "      <th>adjusted_ac_requested</th>\n",
       "      <th>active_transp</th>\n",
       "      <th>transit</th>\n",
       "      <th>bridge</th>\n",
       "      <th>street</th>\n",
       "      <th>freeway</th>\n",
       "      <th>infra_resiliency_er</th>\n",
       "      <th>congestion_relief</th>\n",
       "      <th>work_categories</th>\n",
       "    </tr>\n",
       "  </thead>\n",
       "  <tbody>\n",
       "    <tr>\n",
       "      <th>0</th>\n",
       "      <td>Obligated</td>\n",
       "      <td>BPMP</td>\n",
       "      <td>5904(121)</td>\n",
       "      <td>Humboldt County</td>\n",
       "      <td>2018-12-18</td>\n",
       "      <td>2018-12-18</td>\n",
       "      <td>2018-12-18</td>\n",
       "      <td>2018-12-18</td>\n",
       "      <td>2018-12-27</td>\n",
       "      <td>0.00</td>\n",
       "      <td>0.00</td>\n",
       "      <td>0.00</td>\n",
       "      <td>Authorized</td>\n",
       "      <td>5904</td>\n",
       "      <td>1</td>\n",
       "      <td>E-76 approved on</td>\n",
       "      <td>NaN</td>\n",
       "      <td>0.00</td>\n",
       "      <td>9.00</td>\n",
       "      <td>HBPLOCAL</td>\n",
       "      <td>14 Bridges In Humboldt County</td>\n",
       "      <td>Bridge Preventive Maintenance - Deck Joints</td>\n",
       "      <td>3</td>\n",
       "      <td>NaT</td>\n",
       "      <td>NaT</td>\n",
       "      <td>NON-MPO</td>\n",
       "      <td>5904</td>\n",
       "      <td>2,018.00</td>\n",
       "      <td>Humboldt County</td>\n",
       "      <td>0.00</td>\n",
       "      <td>0.00</td>\n",
       "      <td>0.00</td>\n",
       "      <td>0</td>\n",
       "      <td>0</td>\n",
       "      <td>1</td>\n",
       "      <td>0</td>\n",
       "      <td>0</td>\n",
       "      <td>0</td>\n",
       "      <td>0</td>\n",
       "      <td>1</td>\n",
       "    </tr>\n",
       "    <tr>\n",
       "      <th>1</th>\n",
       "      <td>Obligated</td>\n",
       "      <td>ER</td>\n",
       "      <td>32D0(008)</td>\n",
       "      <td>Mendocino County</td>\n",
       "      <td>2018-12-17</td>\n",
       "      <td>2018-12-19</td>\n",
       "      <td>2018-12-20</td>\n",
       "      <td>2018-12-20</td>\n",
       "      <td>2018-12-27</td>\n",
       "      <td>11,508.00</td>\n",
       "      <td>0.00</td>\n",
       "      <td>13,000.00</td>\n",
       "      <td>Authorized</td>\n",
       "      <td>5910</td>\n",
       "      <td>1</td>\n",
       "      <td>E-76 approved on</td>\n",
       "      <td>1.00</td>\n",
       "      <td>1.00</td>\n",
       "      <td>7.00</td>\n",
       "      <td>nan</td>\n",
       "      <td>Comptche Ukiah Road, Cr 223 Pm 17.25</td>\n",
       "      <td>Permanent Restoration</td>\n",
       "      <td>3</td>\n",
       "      <td>2018-12-17</td>\n",
       "      <td>2018-12-18</td>\n",
       "      <td>NON-MPO</td>\n",
       "      <td>32D0</td>\n",
       "      <td>2,018.00</td>\n",
       "      <td>Mendocino County</td>\n",
       "      <td>14,028.33</td>\n",
       "      <td>12,418.31</td>\n",
       "      <td>0.00</td>\n",
       "      <td>0</td>\n",
       "      <td>0</td>\n",
       "      <td>0</td>\n",
       "      <td>0</td>\n",
       "      <td>0</td>\n",
       "      <td>1</td>\n",
       "      <td>0</td>\n",
       "      <td>1</td>\n",
       "    </tr>\n",
       "    <tr>\n",
       "      <th>2</th>\n",
       "      <td>Obligated</td>\n",
       "      <td>ER</td>\n",
       "      <td>4820(004)</td>\n",
       "      <td>Humboldt County</td>\n",
       "      <td>2018-12-07</td>\n",
       "      <td>2018-12-21</td>\n",
       "      <td>2018-12-21</td>\n",
       "      <td>2018-12-21</td>\n",
       "      <td>2018-12-27</td>\n",
       "      <td>45,499.64</td>\n",
       "      <td>0.00</td>\n",
       "      <td>51,394.58</td>\n",
       "      <td>Authorized</td>\n",
       "      <td>5904</td>\n",
       "      <td>1</td>\n",
       "      <td>E-76 approved on</td>\n",
       "      <td>14.00</td>\n",
       "      <td>0.00</td>\n",
       "      <td>6.00</td>\n",
       "      <td>nan</td>\n",
       "      <td>Mattole Rd Pm 43.17</td>\n",
       "      <td>Permanent Restoration</td>\n",
       "      <td>5</td>\n",
       "      <td>2018-12-06</td>\n",
       "      <td>2018-12-07</td>\n",
       "      <td>NON-MPO</td>\n",
       "      <td>4820</td>\n",
       "      <td>2,018.00</td>\n",
       "      <td>Humboldt County</td>\n",
       "      <td>55,460.01</td>\n",
       "      <td>49,098.77</td>\n",
       "      <td>0.00</td>\n",
       "      <td>0</td>\n",
       "      <td>0</td>\n",
       "      <td>0</td>\n",
       "      <td>0</td>\n",
       "      <td>0</td>\n",
       "      <td>1</td>\n",
       "      <td>0</td>\n",
       "      <td>1</td>\n",
       "    </tr>\n",
       "    <tr>\n",
       "      <th>3</th>\n",
       "      <td>Obligated</td>\n",
       "      <td>CML</td>\n",
       "      <td>5924(244)</td>\n",
       "      <td>Sacramento County</td>\n",
       "      <td>2018-12-11</td>\n",
       "      <td>2018-12-11</td>\n",
       "      <td>2018-12-21</td>\n",
       "      <td>2018-12-27</td>\n",
       "      <td>2018-12-27</td>\n",
       "      <td>207,002.00</td>\n",
       "      <td>0.00</td>\n",
       "      <td>247,002.00</td>\n",
       "      <td>Authorized</td>\n",
       "      <td>5924</td>\n",
       "      <td>3</td>\n",
       "      <td>E-76 approved on</td>\n",
       "      <td>4.00</td>\n",
       "      <td>16.00</td>\n",
       "      <td>0.00</td>\n",
       "      <td>SAC25086</td>\n",
       "      <td>Fair Oaks Blvd. Between Howe Ave And Munroe St</td>\n",
       "      <td>Create A Smart Growth Corridor With Barrier Se...</td>\n",
       "      <td>1</td>\n",
       "      <td>2018-12-07</td>\n",
       "      <td>2018-12-07</td>\n",
       "      <td>SACOG</td>\n",
       "      <td>5924</td>\n",
       "      <td>2,018.00</td>\n",
       "      <td>Sacramento County</td>\n",
       "      <td>266,540.45</td>\n",
       "      <td>223,376.35</td>\n",
       "      <td>0.00</td>\n",
       "      <td>1</td>\n",
       "      <td>0</td>\n",
       "      <td>0</td>\n",
       "      <td>0</td>\n",
       "      <td>0</td>\n",
       "      <td>1</td>\n",
       "      <td>0</td>\n",
       "      <td>2</td>\n",
       "    </tr>\n",
       "    <tr>\n",
       "      <th>4</th>\n",
       "      <td>Obligated</td>\n",
       "      <td>CML</td>\n",
       "      <td>5924(214)</td>\n",
       "      <td>Sacramento County</td>\n",
       "      <td>2018-12-05</td>\n",
       "      <td>2018-12-11</td>\n",
       "      <td>2018-12-21</td>\n",
       "      <td>2018-12-27</td>\n",
       "      <td>2018-12-27</td>\n",
       "      <td>0.00</td>\n",
       "      <td>5,680,921.00</td>\n",
       "      <td>5,702,041.00</td>\n",
       "      <td>Authorized</td>\n",
       "      <td>5924</td>\n",
       "      <td>3</td>\n",
       "      <td>E-76 approved on</td>\n",
       "      <td>7.00</td>\n",
       "      <td>16.00</td>\n",
       "      <td>0.00</td>\n",
       "      <td>SAC24753</td>\n",
       "      <td>Florin Rd Between Power Inn Rd. And Florin Per...</td>\n",
       "      <td>Streetscape (tc)</td>\n",
       "      <td>3</td>\n",
       "      <td>2018-11-28</td>\n",
       "      <td>2018-12-04</td>\n",
       "      <td>SACOG</td>\n",
       "      <td>5924</td>\n",
       "      <td>2,018.00</td>\n",
       "      <td>Sacramento County</td>\n",
       "      <td>6,153,086.12</td>\n",
       "      <td>0.00</td>\n",
       "      <td>6,130,295.48</td>\n",
       "      <td>0</td>\n",
       "      <td>0</td>\n",
       "      <td>0</td>\n",
       "      <td>1</td>\n",
       "      <td>0</td>\n",
       "      <td>0</td>\n",
       "      <td>0</td>\n",
       "      <td>1</td>\n",
       "    </tr>\n",
       "    <tr>\n",
       "      <th>...</th>\n",
       "      <td>...</td>\n",
       "      <td>...</td>\n",
       "      <td>...</td>\n",
       "      <td>...</td>\n",
       "      <td>...</td>\n",
       "      <td>...</td>\n",
       "      <td>...</td>\n",
       "      <td>...</td>\n",
       "      <td>...</td>\n",
       "      <td>...</td>\n",
       "      <td>...</td>\n",
       "      <td>...</td>\n",
       "      <td>...</td>\n",
       "      <td>...</td>\n",
       "      <td>...</td>\n",
       "      <td>...</td>\n",
       "      <td>...</td>\n",
       "      <td>...</td>\n",
       "      <td>...</td>\n",
       "      <td>...</td>\n",
       "      <td>...</td>\n",
       "      <td>...</td>\n",
       "      <td>...</td>\n",
       "      <td>...</td>\n",
       "      <td>...</td>\n",
       "      <td>...</td>\n",
       "      <td>...</td>\n",
       "      <td>...</td>\n",
       "      <td>...</td>\n",
       "      <td>...</td>\n",
       "      <td>...</td>\n",
       "      <td>...</td>\n",
       "      <td>...</td>\n",
       "      <td>...</td>\n",
       "      <td>...</td>\n",
       "      <td>...</td>\n",
       "      <td>...</td>\n",
       "      <td>...</td>\n",
       "      <td>...</td>\n",
       "      <td>...</td>\n",
       "    </tr>\n",
       "    <tr>\n",
       "      <th>21588</th>\n",
       "      <td>DISTRICT</td>\n",
       "      <td>HSIPL</td>\n",
       "      <td>7504(001)</td>\n",
       "      <td>Caltrans</td>\n",
       "      <td>NaT</td>\n",
       "      <td>NaT</td>\n",
       "      <td>NaT</td>\n",
       "      <td>NaT</td>\n",
       "      <td>NaT</td>\n",
       "      <td>351,200.00</td>\n",
       "      <td>0.00</td>\n",
       "      <td>351,200.00</td>\n",
       "      <td>prog code Z300</td>\n",
       "      <td>7504</td>\n",
       "      <td>11</td>\n",
       "      <td>FTA transferred waiting at DISTRICT</td>\n",
       "      <td>NaN</td>\n",
       "      <td>0.00</td>\n",
       "      <td>0.00</td>\n",
       "      <td>nan</td>\n",
       "      <td>FTA transfer</td>\n",
       "      <td>Guardrail Var. Locations</td>\n",
       "      <td>1</td>\n",
       "      <td>NaT</td>\n",
       "      <td>NaT</td>\n",
       "      <td>NaN</td>\n",
       "      <td>7504</td>\n",
       "      <td>NaN</td>\n",
       "      <td>Caltrans</td>\n",
       "      <td>NaN</td>\n",
       "      <td>NaN</td>\n",
       "      <td>NaN</td>\n",
       "      <td>0</td>\n",
       "      <td>1</td>\n",
       "      <td>0</td>\n",
       "      <td>1</td>\n",
       "      <td>0</td>\n",
       "      <td>0</td>\n",
       "      <td>0</td>\n",
       "      <td>2</td>\n",
       "    </tr>\n",
       "    <tr>\n",
       "      <th>21590</th>\n",
       "      <td>FTA Transferred</td>\n",
       "      <td>FTASTPL</td>\n",
       "      <td>6264(091)</td>\n",
       "      <td>Santa Clara Valley Transportation Authority</td>\n",
       "      <td>2021-11-22</td>\n",
       "      <td>2021-11-22</td>\n",
       "      <td>2021-11-22</td>\n",
       "      <td>2022-02-15</td>\n",
       "      <td>2022-02-25</td>\n",
       "      <td>1,987,000.00</td>\n",
       "      <td>0.00</td>\n",
       "      <td>1,987,000.00</td>\n",
       "      <td>Prog Code Y230</td>\n",
       "      <td>6264</td>\n",
       "      <td>4</td>\n",
       "      <td>FTA transferred on 2/25/2022</td>\n",
       "      <td>NaN</td>\n",
       "      <td>85.00</td>\n",
       "      <td>10.00</td>\n",
       "      <td>nan</td>\n",
       "      <td>NaN</td>\n",
       "      <td>FTA Transfer</td>\n",
       "      <td>1</td>\n",
       "      <td>NaT</td>\n",
       "      <td>NaT</td>\n",
       "      <td>MTC</td>\n",
       "      <td>6264</td>\n",
       "      <td>2,021.00</td>\n",
       "      <td>Santa Clara Valley Transportation Authority</td>\n",
       "      <td>1,987,001.69</td>\n",
       "      <td>1,987,001.69</td>\n",
       "      <td>0.00</td>\n",
       "      <td>0</td>\n",
       "      <td>0</td>\n",
       "      <td>0</td>\n",
       "      <td>0</td>\n",
       "      <td>0</td>\n",
       "      <td>1</td>\n",
       "      <td>0</td>\n",
       "      <td>1</td>\n",
       "    </tr>\n",
       "    <tr>\n",
       "      <th>21591</th>\n",
       "      <td>FTA Transferred</td>\n",
       "      <td>FTASTPL</td>\n",
       "      <td>6002(030)</td>\n",
       "      <td>Alameda - Contra Costa Transit District</td>\n",
       "      <td>2021-11-22</td>\n",
       "      <td>2021-11-22</td>\n",
       "      <td>2021-11-22</td>\n",
       "      <td>2022-02-15</td>\n",
       "      <td>2022-02-25</td>\n",
       "      <td>1,254,000.00</td>\n",
       "      <td>0.00</td>\n",
       "      <td>1,254,000.00</td>\n",
       "      <td>Prog Code Y230</td>\n",
       "      <td>6002</td>\n",
       "      <td>4</td>\n",
       "      <td>FTA transferred on 2/25/2022</td>\n",
       "      <td>NaN</td>\n",
       "      <td>85.00</td>\n",
       "      <td>10.00</td>\n",
       "      <td>nan</td>\n",
       "      <td>NaN</td>\n",
       "      <td>FTA Transfer</td>\n",
       "      <td>1</td>\n",
       "      <td>NaT</td>\n",
       "      <td>NaT</td>\n",
       "      <td>MTC</td>\n",
       "      <td>6002</td>\n",
       "      <td>2,021.00</td>\n",
       "      <td>Alameda - Contra Costa Transit District</td>\n",
       "      <td>1,254,001.07</td>\n",
       "      <td>1,254,001.07</td>\n",
       "      <td>0.00</td>\n",
       "      <td>0</td>\n",
       "      <td>0</td>\n",
       "      <td>0</td>\n",
       "      <td>0</td>\n",
       "      <td>0</td>\n",
       "      <td>1</td>\n",
       "      <td>0</td>\n",
       "      <td>1</td>\n",
       "    </tr>\n",
       "    <tr>\n",
       "      <th>21592</th>\n",
       "      <td>FTA Transferred</td>\n",
       "      <td>FTACML</td>\n",
       "      <td>6292(016)</td>\n",
       "      <td>Mountain Area Regional Transit Authority</td>\n",
       "      <td>2022-02-18</td>\n",
       "      <td>2022-02-18</td>\n",
       "      <td>2022-02-18</td>\n",
       "      <td>2022-03-01</td>\n",
       "      <td>2022-03-02</td>\n",
       "      <td>438,168.00</td>\n",
       "      <td>0.00</td>\n",
       "      <td>438,168.00</td>\n",
       "      <td>Prog Code M400</td>\n",
       "      <td>6292</td>\n",
       "      <td>8</td>\n",
       "      <td>FTA transferred on 3/2/2022</td>\n",
       "      <td>NaN</td>\n",
       "      <td>11.00</td>\n",
       "      <td>1.00</td>\n",
       "      <td>nan</td>\n",
       "      <td>NaN</td>\n",
       "      <td>FTA Transfer</td>\n",
       "      <td>1</td>\n",
       "      <td>NaT</td>\n",
       "      <td>NaT</td>\n",
       "      <td>SCAG</td>\n",
       "      <td>6292</td>\n",
       "      <td>2,022.00</td>\n",
       "      <td>Mountain Area Regional Transit Authority</td>\n",
       "      <td>422,305.63</td>\n",
       "      <td>422,305.63</td>\n",
       "      <td>0.00</td>\n",
       "      <td>0</td>\n",
       "      <td>0</td>\n",
       "      <td>0</td>\n",
       "      <td>0</td>\n",
       "      <td>0</td>\n",
       "      <td>1</td>\n",
       "      <td>0</td>\n",
       "      <td>1</td>\n",
       "    </tr>\n",
       "    <tr>\n",
       "      <th>21593</th>\n",
       "      <td>FTA Transferred</td>\n",
       "      <td>FTASTPL</td>\n",
       "      <td>7503(003)</td>\n",
       "      <td>La Jolla Band Of Luiseno Indians</td>\n",
       "      <td>2022-01-25</td>\n",
       "      <td>2022-01-25</td>\n",
       "      <td>2022-01-25</td>\n",
       "      <td>2022-02-14</td>\n",
       "      <td>2022-02-14</td>\n",
       "      <td>10,000,000.00</td>\n",
       "      <td>0.00</td>\n",
       "      <td>10,000,000.00</td>\n",
       "      <td>Prog Code Y230</td>\n",
       "      <td>7503</td>\n",
       "      <td>11</td>\n",
       "      <td>FTA transferred on 2/14/2022</td>\n",
       "      <td>NaN</td>\n",
       "      <td>20.00</td>\n",
       "      <td>0.00</td>\n",
       "      <td>nan</td>\n",
       "      <td>NaN</td>\n",
       "      <td>FTA Transfer</td>\n",
       "      <td>1</td>\n",
       "      <td>NaT</td>\n",
       "      <td>NaT</td>\n",
       "      <td>NON-MPO</td>\n",
       "      <td>7503</td>\n",
       "      <td>2,022.00</td>\n",
       "      <td>San Diego Metropolitan Transit System</td>\n",
       "      <td>9,637,984.26</td>\n",
       "      <td>9,637,984.26</td>\n",
       "      <td>0.00</td>\n",
       "      <td>0</td>\n",
       "      <td>0</td>\n",
       "      <td>0</td>\n",
       "      <td>0</td>\n",
       "      <td>0</td>\n",
       "      <td>1</td>\n",
       "      <td>0</td>\n",
       "      <td>1</td>\n",
       "    </tr>\n",
       "  </tbody>\n",
       "</table>\n",
       "<p>20988 rows × 40 columns</p>\n",
       "</div>"
      ],
      "text/plain": [
       "              location   prefix project_no  \\\n",
       "0            Obligated     BPMP  5904(121)   \n",
       "1            Obligated       ER  32D0(008)   \n",
       "2            Obligated       ER  4820(004)   \n",
       "3            Obligated      CML  5924(244)   \n",
       "4            Obligated      CML  5924(214)   \n",
       "...                ...      ...        ...   \n",
       "21588         DISTRICT    HSIPL  7504(001)   \n",
       "21590  FTA Transferred  FTASTPL  6264(091)   \n",
       "21591  FTA Transferred  FTASTPL  6002(030)   \n",
       "21592  FTA Transferred   FTACML  6292(016)   \n",
       "21593  FTA Transferred  FTASTPL  7503(003)   \n",
       "\n",
       "                                            agency prepared_date  \\\n",
       "0                                  Humboldt County    2018-12-18   \n",
       "1                                 Mendocino County    2018-12-17   \n",
       "2                                  Humboldt County    2018-12-07   \n",
       "3                                Sacramento County    2018-12-11   \n",
       "4                                Sacramento County    2018-12-05   \n",
       "...                                            ...           ...   \n",
       "21588                                     Caltrans           NaT   \n",
       "21590  Santa Clara Valley Transportation Authority    2021-11-22   \n",
       "21591      Alameda - Contra Costa Transit District    2021-11-22   \n",
       "21592     Mountain Area Regional Transit Authority    2022-02-18   \n",
       "21593             La Jolla Band Of Luiseno Indians    2022-01-25   \n",
       "\n",
       "      submit__to_hq_date hq_review_date submit_to_fhwa_date to_fmis_date  \\\n",
       "0             2018-12-18     2018-12-18          2018-12-18   2018-12-27   \n",
       "1             2018-12-19     2018-12-20          2018-12-20   2018-12-27   \n",
       "2             2018-12-21     2018-12-21          2018-12-21   2018-12-27   \n",
       "3             2018-12-11     2018-12-21          2018-12-27   2018-12-27   \n",
       "4             2018-12-11     2018-12-21          2018-12-27   2018-12-27   \n",
       "...                  ...            ...                 ...          ...   \n",
       "21588                NaT            NaT                 NaT          NaT   \n",
       "21590         2021-11-22     2021-11-22          2022-02-15   2022-02-25   \n",
       "21591         2021-11-22     2021-11-22          2022-02-15   2022-02-25   \n",
       "21592         2022-02-18     2022-02-18          2022-03-01   2022-03-02   \n",
       "21593         2022-01-25     2022-01-25          2022-02-14   2022-02-14   \n",
       "\n",
       "       fed_requested  ac_requested  total_requested  status_comment locode  \\\n",
       "0               0.00          0.00             0.00      Authorized   5904   \n",
       "1          11,508.00          0.00        13,000.00      Authorized   5910   \n",
       "2          45,499.64          0.00        51,394.58      Authorized   5904   \n",
       "3         207,002.00          0.00       247,002.00      Authorized   5924   \n",
       "4               0.00  5,680,921.00     5,702,041.00      Authorized   5924   \n",
       "...              ...           ...              ...             ...    ...   \n",
       "21588     351,200.00          0.00       351,200.00  prog code Z300   7504   \n",
       "21590   1,987,000.00          0.00     1,987,000.00  Prog Code Y230   6264   \n",
       "21591   1,254,000.00          0.00     1,254,000.00  Prog Code Y230   6002   \n",
       "21592     438,168.00          0.00       438,168.00  Prog Code M400   6292   \n",
       "21593  10,000,000.00          0.00    10,000,000.00  Prog Code Y230   7503   \n",
       "\n",
       "       dist                               status  dist_processing_days  \\\n",
       "0         1                     E-76 approved on                   NaN   \n",
       "1         1                     E-76 approved on                  1.00   \n",
       "2         1                     E-76 approved on                 14.00   \n",
       "3         3                     E-76 approved on                  4.00   \n",
       "4         3                     E-76 approved on                  7.00   \n",
       "...     ...                                  ...                   ...   \n",
       "21588    11  FTA transferred waiting at DISTRICT                   NaN   \n",
       "21590     4         FTA transferred on 2/25/2022                   NaN   \n",
       "21591     4         FTA transferred on 2/25/2022                   NaN   \n",
       "21592     8          FTA transferred on 3/2/2022                   NaN   \n",
       "21593    11         FTA transferred on 2/14/2022                   NaN   \n",
       "\n",
       "       hq_processing_days  fhwa_processing_days   ftip_no  \\\n",
       "0                    0.00                  9.00  HBPLOCAL   \n",
       "1                    1.00                  7.00       nan   \n",
       "2                    0.00                  6.00       nan   \n",
       "3                   16.00                  0.00  SAC25086   \n",
       "4                   16.00                  0.00  SAC24753   \n",
       "...                   ...                   ...       ...   \n",
       "21588                0.00                  0.00       nan   \n",
       "21590               85.00                 10.00       nan   \n",
       "21591               85.00                 10.00       nan   \n",
       "21592               11.00                  1.00       nan   \n",
       "21593               20.00                  0.00       nan   \n",
       "\n",
       "                                        project_location  \\\n",
       "0                          14 Bridges In Humboldt County   \n",
       "1                   Comptche Ukiah Road, Cr 223 Pm 17.25   \n",
       "2                                    Mattole Rd Pm 43.17   \n",
       "3         Fair Oaks Blvd. Between Howe Ave And Munroe St   \n",
       "4      Florin Rd Between Power Inn Rd. And Florin Per...   \n",
       "...                                                  ...   \n",
       "21588                                       FTA transfer   \n",
       "21590                                                NaN   \n",
       "21591                                                NaN   \n",
       "21592                                                NaN   \n",
       "21593                                                NaN   \n",
       "\n",
       "                                            type_of_work  seq  \\\n",
       "0            Bridge Preventive Maintenance - Deck Joints    3   \n",
       "1                                  Permanent Restoration    3   \n",
       "2                                  Permanent Restoration    5   \n",
       "3      Create A Smart Growth Corridor With Barrier Se...    1   \n",
       "4                                       Streetscape (tc)    3   \n",
       "...                                                  ...  ...   \n",
       "21588                           Guardrail Var. Locations    1   \n",
       "21590                                       FTA Transfer    1   \n",
       "21591                                       FTA Transfer    1   \n",
       "21592                                       FTA Transfer    1   \n",
       "21593                                       FTA Transfer    1   \n",
       "\n",
       "      date_request_initiated date_completed_request      mpo projectID  \\\n",
       "0                        NaT                    NaT  NON-MPO      5904   \n",
       "1                 2018-12-17             2018-12-18  NON-MPO      32D0   \n",
       "2                 2018-12-06             2018-12-07  NON-MPO      4820   \n",
       "3                 2018-12-07             2018-12-07    SACOG      5924   \n",
       "4                 2018-11-28             2018-12-04    SACOG      5924   \n",
       "...                      ...                    ...      ...       ...   \n",
       "21588                    NaT                    NaT      NaN      7504   \n",
       "21590                    NaT                    NaT      MTC      6264   \n",
       "21591                    NaT                    NaT      MTC      6002   \n",
       "21592                    NaT                    NaT     SCAG      6292   \n",
       "21593                    NaT                    NaT  NON-MPO      7503   \n",
       "\n",
       "       prepared_y                          primary_agency_name  \\\n",
       "0        2,018.00                              Humboldt County   \n",
       "1        2,018.00                             Mendocino County   \n",
       "2        2,018.00                              Humboldt County   \n",
       "3        2,018.00                            Sacramento County   \n",
       "4        2,018.00                            Sacramento County   \n",
       "...           ...                                          ...   \n",
       "21588         NaN                                     Caltrans   \n",
       "21590    2,021.00  Santa Clara Valley Transportation Authority   \n",
       "21591    2,021.00      Alameda - Contra Costa Transit District   \n",
       "21592    2,022.00     Mountain Area Regional Transit Authority   \n",
       "21593    2,022.00        San Diego Metropolitan Transit System   \n",
       "\n",
       "       adjusted_total_requested  adjusted_fed_requested  \\\n",
       "0                          0.00                    0.00   \n",
       "1                     14,028.33               12,418.31   \n",
       "2                     55,460.01               49,098.77   \n",
       "3                    266,540.45              223,376.35   \n",
       "4                  6,153,086.12                    0.00   \n",
       "...                         ...                     ...   \n",
       "21588                       NaN                     NaN   \n",
       "21590              1,987,001.69            1,987,001.69   \n",
       "21591              1,254,001.07            1,254,001.07   \n",
       "21592                422,305.63              422,305.63   \n",
       "21593              9,637,984.26            9,637,984.26   \n",
       "\n",
       "       adjusted_ac_requested  active_transp  transit  bridge  street  freeway  \\\n",
       "0                       0.00              0        0       1       0        0   \n",
       "1                       0.00              0        0       0       0        0   \n",
       "2                       0.00              0        0       0       0        0   \n",
       "3                       0.00              1        0       0       0        0   \n",
       "4               6,130,295.48              0        0       0       1        0   \n",
       "...                      ...            ...      ...     ...     ...      ...   \n",
       "21588                    NaN              0        1       0       1        0   \n",
       "21590                   0.00              0        0       0       0        0   \n",
       "21591                   0.00              0        0       0       0        0   \n",
       "21592                   0.00              0        0       0       0        0   \n",
       "21593                   0.00              0        0       0       0        0   \n",
       "\n",
       "       infra_resiliency_er  congestion_relief  work_categories  \n",
       "0                        0                  0                1  \n",
       "1                        1                  0                1  \n",
       "2                        1                  0                1  \n",
       "3                        1                  0                2  \n",
       "4                        0                  0                1  \n",
       "...                    ...                ...              ...  \n",
       "21588                    0                  0                2  \n",
       "21590                    1                  0                1  \n",
       "21591                    1                  0                1  \n",
       "21592                    1                  0                1  \n",
       "21593                    1                  0                1  \n",
       "\n",
       "[20988 rows x 40 columns]"
      ]
     },
     "execution_count": 15,
     "metadata": {},
     "output_type": "execute_result"
    }
   ],
   "source": [
    "df"
   ]
  },
  {
   "cell_type": "code",
   "execution_count": 16,
   "id": "bb10f77e-d2aa-4a63-a335-21730796d7b3",
   "metadata": {},
   "outputs": [
    {
     "data": {
      "text/html": [
       "<div>\n",
       "<style scoped>\n",
       "    .dataframe tbody tr th:only-of-type {\n",
       "        vertical-align: middle;\n",
       "    }\n",
       "\n",
       "    .dataframe tbody tr th {\n",
       "        vertical-align: top;\n",
       "    }\n",
       "\n",
       "    .dataframe thead th {\n",
       "        text-align: right;\n",
       "    }\n",
       "</style>\n",
       "<table border=\"1\" class=\"dataframe\">\n",
       "  <thead>\n",
       "    <tr style=\"text-align: right;\">\n",
       "      <th></th>\n",
       "      <th>location</th>\n",
       "      <th>prefix</th>\n",
       "      <th>project_no</th>\n",
       "      <th>agency</th>\n",
       "      <th>prepared_date</th>\n",
       "      <th>submit__to_hq_date</th>\n",
       "      <th>hq_review_date</th>\n",
       "      <th>submit_to_fhwa_date</th>\n",
       "      <th>to_fmis_date</th>\n",
       "      <th>fed_requested</th>\n",
       "      <th>ac_requested</th>\n",
       "      <th>total_requested</th>\n",
       "      <th>status_comment</th>\n",
       "      <th>locode</th>\n",
       "      <th>dist</th>\n",
       "      <th>status</th>\n",
       "      <th>dist_processing_days</th>\n",
       "      <th>hq_processing_days</th>\n",
       "      <th>fhwa_processing_days</th>\n",
       "      <th>ftip_no</th>\n",
       "      <th>project_location</th>\n",
       "      <th>type_of_work</th>\n",
       "      <th>seq</th>\n",
       "      <th>date_request_initiated</th>\n",
       "      <th>date_completed_request</th>\n",
       "      <th>mpo</th>\n",
       "      <th>projectID</th>\n",
       "      <th>prepared_y</th>\n",
       "      <th>primary_agency_name</th>\n",
       "      <th>adjusted_total_requested</th>\n",
       "      <th>adjusted_fed_requested</th>\n",
       "      <th>adjusted_ac_requested</th>\n",
       "      <th>active_transp</th>\n",
       "      <th>transit</th>\n",
       "      <th>bridge</th>\n",
       "      <th>street</th>\n",
       "      <th>freeway</th>\n",
       "      <th>infra_resiliency_er</th>\n",
       "      <th>congestion_relief</th>\n",
       "      <th>work_categories</th>\n",
       "    </tr>\n",
       "  </thead>\n",
       "  <tbody>\n",
       "  </tbody>\n",
       "</table>\n",
       "</div>"
      ],
      "text/plain": [
       "Empty DataFrame\n",
       "Columns: [location, prefix, project_no, agency, prepared_date, submit__to_hq_date, hq_review_date, submit_to_fhwa_date, to_fmis_date, fed_requested, ac_requested, total_requested, status_comment, locode, dist, status, dist_processing_days, hq_processing_days, fhwa_processing_days, ftip_no, project_location, type_of_work, seq, date_request_initiated, date_completed_request, mpo, projectID, prepared_y, primary_agency_name, adjusted_total_requested, adjusted_fed_requested, adjusted_ac_requested, active_transp, transit, bridge, street, freeway, infra_resiliency_er, congestion_relief, work_categories]\n",
       "Index: []"
      ]
     },
     "execution_count": 16,
     "metadata": {},
     "output_type": "execute_result"
    }
   ],
   "source": [
    "df>>filter(_.agency.isnull())"
   ]
  },
  {
   "cell_type": "code",
   "execution_count": 17,
   "id": "2db125bd-60f5-4ad2-92dd-5480abb42e87",
   "metadata": {},
   "outputs": [],
   "source": [
    "df = df.dropna(how='all', axis=0)"
   ]
  },
  {
   "cell_type": "code",
   "execution_count": 18,
   "id": "5927546d-1cbe-4cb8-90dc-393a0971b180",
   "metadata": {},
   "outputs": [],
   "source": [
    "#df = df.drop(20693)"
   ]
  },
  {
   "cell_type": "code",
   "execution_count": 19,
   "id": "8ec4a7d1-cd74-45dc-88b7-b9f5c5ae498f",
   "metadata": {},
   "outputs": [
    {
     "data": {
      "text/html": [
       "<div>\n",
       "<style scoped>\n",
       "    .dataframe tbody tr th:only-of-type {\n",
       "        vertical-align: middle;\n",
       "    }\n",
       "\n",
       "    .dataframe tbody tr th {\n",
       "        vertical-align: top;\n",
       "    }\n",
       "\n",
       "    .dataframe thead th {\n",
       "        text-align: right;\n",
       "    }\n",
       "</style>\n",
       "<table border=\"1\" class=\"dataframe\">\n",
       "  <thead>\n",
       "    <tr style=\"text-align: right;\">\n",
       "      <th></th>\n",
       "      <th>location</th>\n",
       "      <th>prefix</th>\n",
       "      <th>project_no</th>\n",
       "      <th>agency</th>\n",
       "      <th>prepared_date</th>\n",
       "      <th>submit__to_hq_date</th>\n",
       "      <th>hq_review_date</th>\n",
       "      <th>submit_to_fhwa_date</th>\n",
       "      <th>to_fmis_date</th>\n",
       "      <th>fed_requested</th>\n",
       "      <th>ac_requested</th>\n",
       "      <th>total_requested</th>\n",
       "      <th>status_comment</th>\n",
       "      <th>locode</th>\n",
       "      <th>dist</th>\n",
       "      <th>status</th>\n",
       "      <th>dist_processing_days</th>\n",
       "      <th>hq_processing_days</th>\n",
       "      <th>fhwa_processing_days</th>\n",
       "      <th>ftip_no</th>\n",
       "      <th>project_location</th>\n",
       "      <th>type_of_work</th>\n",
       "      <th>seq</th>\n",
       "      <th>date_request_initiated</th>\n",
       "      <th>date_completed_request</th>\n",
       "      <th>mpo</th>\n",
       "      <th>projectID</th>\n",
       "      <th>prepared_y</th>\n",
       "      <th>primary_agency_name</th>\n",
       "      <th>adjusted_total_requested</th>\n",
       "      <th>adjusted_fed_requested</th>\n",
       "      <th>adjusted_ac_requested</th>\n",
       "      <th>active_transp</th>\n",
       "      <th>transit</th>\n",
       "      <th>bridge</th>\n",
       "      <th>street</th>\n",
       "      <th>freeway</th>\n",
       "      <th>infra_resiliency_er</th>\n",
       "      <th>congestion_relief</th>\n",
       "      <th>work_categories</th>\n",
       "    </tr>\n",
       "  </thead>\n",
       "  <tbody>\n",
       "  </tbody>\n",
       "</table>\n",
       "</div>"
      ],
      "text/plain": [
       "Empty DataFrame\n",
       "Columns: [location, prefix, project_no, agency, prepared_date, submit__to_hq_date, hq_review_date, submit_to_fhwa_date, to_fmis_date, fed_requested, ac_requested, total_requested, status_comment, locode, dist, status, dist_processing_days, hq_processing_days, fhwa_processing_days, ftip_no, project_location, type_of_work, seq, date_request_initiated, date_completed_request, mpo, projectID, prepared_y, primary_agency_name, adjusted_total_requested, adjusted_fed_requested, adjusted_ac_requested, active_transp, transit, bridge, street, freeway, infra_resiliency_er, congestion_relief, work_categories]\n",
       "Index: []"
      ]
     },
     "execution_count": 19,
     "metadata": {},
     "output_type": "execute_result"
    }
   ],
   "source": [
    "df>>filter(_.agency.isnull())"
   ]
  },
  {
   "cell_type": "code",
   "execution_count": null,
   "id": "7460a7ba-39a7-46ba-9c10-e4c79fda41db",
   "metadata": {},
   "outputs": [],
   "source": []
  },
  {
   "cell_type": "markdown",
   "id": "ed21a267-e94d-49c3-ae5e-5da1faf090b5",
   "metadata": {},
   "source": [
    "### Generate Data Profile"
   ]
  },
  {
   "cell_type": "code",
   "execution_count": 23,
   "id": "2272f51d-8797-4d65-9923-ae5e49856c41",
   "metadata": {},
   "outputs": [],
   "source": [
    "# profile2 = ProfileReport(df, title=\"Pandas Profiling Report: DLA\")\n",
    "# profile2\n",
    "\n",
    "##gets error"
   ]
  },
  {
   "cell_type": "code",
   "execution_count": null,
   "id": "0d80761c-ab3b-41d6-a772-2d503708010f",
   "metadata": {},
   "outputs": [],
   "source": []
  },
  {
   "cell_type": "markdown",
   "id": "6a386b25-291d-4684-99f6-972f04541b01",
   "metadata": {},
   "source": [
    "## Export"
   ]
  },
  {
   "cell_type": "code",
   "execution_count": 23,
   "id": "ca32175a-98c8-497c-8b3c-d41e645eb683",
   "metadata": {},
   "outputs": [],
   "source": [
    "# from calitp.storage import get_fs\n",
    "# fs = get_fs()"
   ]
  },
  {
   "cell_type": "code",
   "execution_count": 24,
   "id": "2c3f3001-010b-401b-ac81-eea3a76dcc81",
   "metadata": {},
   "outputs": [],
   "source": [
    "# GCS_FILE_PATH = 'gs://calitp-analytics-data/data-analyses/dla/e-76Obligated/'"
   ]
  },
  {
   "cell_type": "code",
   "execution_count": 25,
   "id": "cd0b7fc0-83ba-49da-b264-3fbfda0c4493",
   "metadata": {},
   "outputs": [],
   "source": [
    "# ## save to GCS\n",
    "# df.to_parquet(f\"{GCS_FILE_PATH}dla_df.parquet\")"
   ]
  },
  {
   "cell_type": "code",
   "execution_count": 26,
   "id": "02ad7fa4-df95-41d3-a5b7-5664bd560231",
   "metadata": {},
   "outputs": [],
   "source": [
    "## also save locally \n",
    "#df.to_parquet(\"dla_df.parquet\")"
   ]
  },
  {
   "cell_type": "code",
   "execution_count": null,
   "id": "6f62e519-06d8-4200-8778-794d0683d491",
   "metadata": {},
   "outputs": [],
   "source": []
  },
  {
   "cell_type": "code",
   "execution_count": null,
   "id": "202f8fb1-dab6-4dc5-960d-5c0db1a843f0",
   "metadata": {},
   "outputs": [],
   "source": []
  },
  {
   "cell_type": "code",
   "execution_count": null,
   "id": "453938a4-8a86-467b-8cbc-c75bcd204d33",
   "metadata": {},
   "outputs": [],
   "source": []
  },
  {
   "cell_type": "code",
   "execution_count": null,
   "id": "8c7ad981-22f5-460c-a0e3-da8002db2a49",
   "metadata": {},
   "outputs": [],
   "source": []
  }
 ],
 "metadata": {
  "kernelspec": {
   "display_name": "Python 3 (ipykernel)",
   "language": "python",
   "name": "python3"
  },
  "language_info": {
   "codemirror_mode": {
    "name": "ipython",
    "version": 3
   },
   "file_extension": ".py",
   "mimetype": "text/x-python",
   "name": "python",
   "nbconvert_exporter": "python",
   "pygments_lexer": "ipython3",
   "version": "3.9.10"
  },
  "widgets": {
   "application/vnd.jupyter.widget-state+json": {
    "state": {
     "001fb54e166543b6a4bc3817db3d3de3": {
      "model_module": "@jupyter-widgets/controls",
      "model_module_version": "1.5.0",
      "model_name": "HTMLModel",
      "state": {
       "layout": "IPY_MODEL_ac5c8c47bb8843cab159eaafe5908b48",
       "style": "IPY_MODEL_47e10ec35b9a4367a501bc131d45bb04",
       "value": "2022-03-09 22:34:56.368427"
      }
     },
     "0022fa68be3b4fe38db9d3991297d5fa": {
      "model_module": "@jupyter-widgets/controls",
      "model_module_version": "1.5.0",
      "model_name": "HTMLModel",
      "state": {
       "layout": "IPY_MODEL_e7da49bb856549b696eee29371e30370",
       "style": "IPY_MODEL_6e2f0750184544aca5081094d5698dbf",
       "value": "<a class=\"anchor\" href=\"#pp_var_1215821832360499521\"><code>date completed request</code></a> is an unsupported type, check if it needs cleaning or further analysis"
      }
     },
     "006d1a2ea13148719ec5c25a976456e9": {
      "model_module": "@jupyter-widgets/controls",
      "model_module_version": "1.5.0",
      "model_name": "DescriptionStyleModel",
      "state": {
       "description_width": ""
      }
     },
     "008a6b226c8f48a8afb4d9a4a5b6f066": {
      "model_module": "@jupyter-widgets/controls",
      "model_module_version": "1.5.0",
      "model_name": "HTMLModel",
      "state": {
       "layout": "IPY_MODEL_08e7e46ae56a42ebb36ace56b021ab6f",
       "style": "IPY_MODEL_f42e7ff63c554d3fb765572461130666",
       "value": "6"
      }
     },
     "009257a352e748d9acacb4baed2d4b85": {
      "model_module": "@jupyter-widgets/base",
      "model_module_version": "1.2.0",
      "model_name": "LayoutModel",
      "state": {
       "grid_area": "widget009"
      }
     },
     "0098ee54ea1240c8a7d2bb9f782f2260": {
      "model_module": "@jupyter-widgets/controls",
      "model_module_version": "1.5.0",
      "model_name": "HTMLModel",
      "state": {
       "layout": "IPY_MODEL_b93d73273a234ce98d3beb108dd5d9e3",
       "style": "IPY_MODEL_7f0a35e786ea4fbabd8a22b68d71983d",
       "value": "Numeric"
      }
     },
     "00cf75adefc9426f9de198855391ac50": {
      "model_module": "@jupyter-widgets/base",
      "model_module_version": "1.2.0",
      "model_name": "LayoutModel",
      "state": {
       "grid_template_columns": "25% 25% 50%",
       "width": "100%"
      }
     },
     "00d161837fef4847874ae0278fa6f8a5": {
      "model_module": "@jupyter-widgets/base",
      "model_module_version": "1.2.0",
      "model_name": "LayoutModel",
      "state": {
       "grid_area": "widget006"
      }
     },
     "00db58ad4bf84646b60ded2e111c4921": {
      "model_module": "@jupyter-widgets/controls",
      "model_module_version": "1.5.0",
      "model_name": "GridBoxModel",
      "state": {
       "children": [
        "IPY_MODEL_8d8f0362a82c49409256c30c59b2d6f2",
        "IPY_MODEL_1db0a86a48e743c3b57170f0b69062f5",
        "IPY_MODEL_91b1b08ff83b46668aa6d76bb4f89b92"
       ],
       "layout": "IPY_MODEL_fd3387b936374e79bc28a9c16030e228"
      }
     },
     "010d237b379a415e9394ebb1dd7ef227": {
      "model_module": "@jupyter-widgets/base",
      "model_module_version": "1.2.0",
      "model_name": "LayoutModel",
      "state": {
       "grid_area": "widget010"
      }
     },
     "01210a4518094a649e3e980bf65b6b2a": {
      "model_module": "@jupyter-widgets/controls",
      "model_module_version": "1.5.0",
      "model_name": "ButtonModel",
      "state": {
       "description": "High correlation",
       "disabled": true,
       "layout": "IPY_MODEL_03d29379a192437497c49ef58903babe",
       "style": "IPY_MODEL_ad687fa3599647688681c58574b7d679"
      }
     },
     "012efed55a4f4731af8a15c033f3c93e": {
      "model_module": "@jupyter-widgets/controls",
      "model_module_version": "1.5.0",
      "model_name": "HBoxModel",
      "state": {
       "children": [
        "IPY_MODEL_8264c9b293c04bee80bc0a1aa7790ffb",
        "IPY_MODEL_e3e299f264e544409ddc50581fcd4fd4",
        "IPY_MODEL_8faefa4e1337418d9e041352729ade3a"
       ],
       "layout": "IPY_MODEL_b62e6ed9e0284a95ba1695571b93848e"
      }
     },
     "0145ef02cc6047cda483f2369d90ed81": {
      "model_module": "@jupyter-widgets/controls",
      "model_module_version": "1.5.0",
      "model_name": "ProgressStyleModel",
      "state": {
       "description_width": ""
      }
     },
     "01a49a8b6a9e4e5b9492fdac553acade": {
      "model_module": "@jupyter-widgets/controls",
      "model_module_version": "1.5.0",
      "model_name": "FloatProgressModel",
      "state": {
       "layout": "IPY_MODEL_df124b0dd8b84b84a8d4665915094b2e",
       "max": 21594,
       "style": "IPY_MODEL_1b70b7a5c3a041738d6d4f289db85de4",
       "value": 2
      }
     },
     "01ad8e83b87e4e4f8d7a47eb177ff658": {
      "model_module": "@jupyter-widgets/base",
      "model_module_version": "1.2.0",
      "model_name": "LayoutModel",
      "state": {}
     },
     "02341f6ea16e46938acaaf1dcff237eb": {
      "model_module": "@jupyter-widgets/base",
      "model_module_version": "1.2.0",
      "model_name": "LayoutModel",
      "state": {
       "grid_area": "widget003"
      }
     },
     "02c1a8b60a454741b0f932a314457ee0": {
      "model_module": "@jupyter-widgets/controls",
      "model_module_version": "1.5.0",
      "model_name": "DescriptionStyleModel",
      "state": {
       "description_width": ""
      }
     },
     "035662123293427a9741eadfdb309f85": {
      "model_module": "@jupyter-widgets/base",
      "model_module_version": "1.2.0",
      "model_name": "LayoutModel",
      "state": {}
     },
     "03d29379a192437497c49ef58903babe": {
      "model_module": "@jupyter-widgets/base",
      "model_module_version": "1.2.0",
      "model_name": "LayoutModel",
      "state": {}
     },
     "03efaa5e1b97400abe7ad09150a4240a": {
      "model_module": "@jupyter-widgets/base",
      "model_module_version": "1.2.0",
      "model_name": "LayoutModel",
      "state": {
       "grid_area": "widget017"
      }
     },
     "0415ca4bd217498980a62cd813249ef4": {
      "model_module": "@jupyter-widgets/controls",
      "model_module_version": "1.5.0",
      "model_name": "HTMLModel",
      "state": {
       "layout": "IPY_MODEL_a453c6ed7c02442f821a1970ebf174c3",
       "style": "IPY_MODEL_5a08e29a7e9e44f881980c348972e0a3",
       "value": "Software version"
      }
     },
     "043960f61c1f4f348444484ce2ec46f6": {
      "model_module": "@jupyter-widgets/controls",
      "model_module_version": "1.5.0",
      "model_name": "HTMLModel",
      "state": {
       "layout": "IPY_MODEL_fd3cbf3056e04e16a06cf19dddb69ea7",
       "style": "IPY_MODEL_3c832390ac5b468193554cb99e5e7cf6",
       "value": "2nd row"
      }
     },
     "045b5b36768d4e2eb629c1b3df08c041": {
      "model_module": "@jupyter-widgets/controls",
      "model_module_version": "1.5.0",
      "model_name": "LabelModel",
      "state": {
       "layout": "IPY_MODEL_655d327bf96b4200987707438fbbe3bd",
       "style": "IPY_MODEL_a90d3fcb37a44a5592589beb644fe52b",
       "value": "20826"
      }
     },
     "04f148edd0e14bed8303ce5664a4ce5c": {
      "model_module": "@jupyter-widgets/base",
      "model_module_version": "1.2.0",
      "model_name": "LayoutModel",
      "state": {
       "grid_area": "widget010"
      }
     },
     "04f162eef1454e3ba8316690744ec450": {
      "model_module": "@jupyter-widgets/controls",
      "model_module_version": "1.5.0",
      "model_name": "ButtonModel",
      "state": {
       "button_style": "danger",
       "description": "High cardinality",
       "disabled": true,
       "layout": "IPY_MODEL_bd8f2925881049538f3b80a01b9a7df3",
       "style": "IPY_MODEL_1255b9d658804da1b1034f7180e8d0da"
      }
     },
     "051c11582164439b94fb3576f7759551": {
      "model_module": "@jupyter-widgets/base",
      "model_module_version": "1.2.0",
      "model_name": "LayoutModel",
      "state": {}
     },
     "0528ccabac5e4a4eacbd1950395ba27e": {
      "model_module": "@jupyter-widgets/controls",
      "model_module_version": "1.5.0",
      "model_name": "DescriptionStyleModel",
      "state": {
       "description_width": ""
      }
     },
     "05806d4552dd40358d29801e13601235": {
      "model_module": "@jupyter-widgets/controls",
      "model_module_version": "1.5.0",
      "model_name": "ButtonModel",
      "state": {
       "button_style": "info",
       "description": "Missing",
       "disabled": true,
       "layout": "IPY_MODEL_1e64882bfa94499bb3fb45ece3a53751",
       "style": "IPY_MODEL_27a7b9117e264bad9abc151f3162b98a"
      }
     },
     "0581bdec46ef4c319fd88423abff3c70": {
      "model_module": "@jupyter-widgets/base",
      "model_module_version": "1.2.0",
      "model_name": "LayoutModel",
      "state": {
       "grid_area": "widget010"
      }
     },
     "05e7df9a840d44b28b33a4dce899c7ca": {
      "model_module": "@jupyter-widgets/controls",
      "model_module_version": "1.5.0",
      "model_name": "VBoxModel",
      "state": {
       "children": [
        "IPY_MODEL_7e2c7ab2f0364d65a2180114a0a97329"
       ],
       "layout": "IPY_MODEL_b56ede36ebaa49d1807004c69697149e"
      }
     },
     "0613a6f709c7408abc8a8c8c1fda832e": {
      "model_module": "@jupyter-widgets/controls",
      "model_module_version": "1.5.0",
      "model_name": "ProgressStyleModel",
      "state": {
       "description_width": ""
      }
     },
     "061e4dd9b50f4b0eb2ec4dcc7e70925c": {
      "model_module": "@jupyter-widgets/controls",
      "model_module_version": "1.5.0",
      "model_name": "DescriptionStyleModel",
      "state": {
       "description_width": ""
      }
     },
     "062df27fccbf4eedb177fc64aec554c4": {
      "model_module": "@jupyter-widgets/controls",
      "model_module_version": "1.5.0",
      "model_name": "DescriptionStyleModel",
      "state": {
       "description_width": ""
      }
     },
     "0656ebdc72614eb3b4b0d8004405e6ea": {
      "model_module": "@jupyter-widgets/controls",
      "model_module_version": "1.5.0",
      "model_name": "DescriptionStyleModel",
      "state": {
       "description_width": ""
      }
     },
     "0696b185c3924d7382e90d8bd98a1b52": {
      "model_module": "@jupyter-widgets/controls",
      "model_module_version": "1.5.0",
      "model_name": "DescriptionStyleModel",
      "state": {
       "description_width": ""
      }
     },
     "069e695363f647b7aa08dfcb596f6e56": {
      "model_module": "@jupyter-widgets/controls",
      "model_module_version": "1.5.0",
      "model_name": "ButtonStyleModel",
      "state": {}
     },
     "06a2bb7ec7f542128a410b1d048f4132": {
      "model_module": "@jupyter-widgets/controls",
      "model_module_version": "1.5.0",
      "model_name": "DescriptionStyleModel",
      "state": {
       "description_width": ""
      }
     },
     "06a4c47ff9374acabcb74448e25b7f67": {
      "model_module": "@jupyter-widgets/base",
      "model_module_version": "1.2.0",
      "model_name": "LayoutModel",
      "state": {
       "grid_area": "widget002"
      }
     },
     "070a366c40144620bf54c0f3774f3a25": {
      "model_module": "@jupyter-widgets/controls",
      "model_module_version": "1.5.0",
      "model_name": "HTMLModel",
      "state": {
       "layout": "IPY_MODEL_33f6a90b6fe94354a7b114ab7c77d40c",
       "style": "IPY_MODEL_4f6544c0bc3340a6b81425b0e09e16b0",
       "value": "<h4>Length</h4>"
      }
     },
     "075765c961c54600ab96e0a764daefb9": {
      "model_module": "@jupyter-widgets/controls",
      "model_module_version": "1.5.0",
      "model_name": "DescriptionStyleModel",
      "state": {
       "description_width": ""
      }
     },
     "076f9e4191b0479aa4fed67cb4fba623": {
      "model_module": "@jupyter-widgets/controls",
      "model_module_version": "1.5.0",
      "model_name": "ProgressStyleModel",
      "state": {
       "description_width": ""
      }
     },
     "0793a2506ddf4cd0b7ae46ebf4d07750": {
      "model_module": "@jupyter-widgets/base",
      "model_module_version": "1.2.0",
      "model_name": "LayoutModel",
      "state": {}
     },
     "07b0512df8c44a859c36530da7e6d947": {
      "model_module": "@jupyter-widgets/controls",
      "model_module_version": "1.5.0",
      "model_name": "GridBoxModel",
      "state": {
       "children": [
        "IPY_MODEL_6516e68eb4464ec7a11c12fe3f5f827b",
        "IPY_MODEL_b4e5b6454bba43f4bda67c7fbc516b04",
        "IPY_MODEL_9c498029250d41f0bd70cc8b92a2dbb9"
       ],
       "layout": "IPY_MODEL_00cf75adefc9426f9de198855391ac50"
      }
     },
     "07d4ade6a16247e98e8279c1444d6752": {
      "model_module": "@jupyter-widgets/base",
      "model_module_version": "1.2.0",
      "model_name": "LayoutModel",
      "state": {
       "grid_area": "widget007"
      }
     },
     "0865814f7b724eaf94884da8d2f578de": {
      "model_module": "@jupyter-widgets/base",
      "model_module_version": "1.2.0",
      "model_name": "LayoutModel",
      "state": {
       "grid_area": "widget003"
      }
     },
     "08ac818d7c984fcfaa55d7676cb4d2a5": {
      "model_module": "@jupyter-widgets/controls",
      "model_module_version": "1.5.0",
      "model_name": "DescriptionStyleModel",
      "state": {
       "description_width": ""
      }
     },
     "08b08fcbcf484357a3e4e02d7b6fbb4a": {
      "model_module": "@jupyter-widgets/base",
      "model_module_version": "1.2.0",
      "model_name": "LayoutModel",
      "state": {
       "grid_area": "widget013"
      }
     },
     "08e293dfe47045b99783c8ca5d2cf277": {
      "model_module": "@jupyter-widgets/base",
      "model_module_version": "1.2.0",
      "model_name": "LayoutModel",
      "state": {
       "grid_area": "widget003"
      }
     },
     "08e7e46ae56a42ebb36ace56b021ab6f": {
      "model_module": "@jupyter-widgets/base",
      "model_module_version": "1.2.0",
      "model_name": "LayoutModel",
      "state": {
       "grid_area": "widget002"
      }
     },
     "08eb8523fb9b4bc383b5a41425140086": {
      "model_module": "@jupyter-widgets/controls",
      "model_module_version": "1.5.0",
      "model_name": "HTMLModel",
      "state": {
       "layout": "IPY_MODEL_1e065327d5614aa6bd9fefe6528de430",
       "style": "IPY_MODEL_41c901b87f1a4411a7a7401a9b0b3f7f",
       "value": "1.4 MiB"
      }
     },
     "092563636dac4d26a3dea7b34c586917": {
      "model_module": "@jupyter-widgets/controls",
      "model_module_version": "1.5.0",
      "model_name": "HTMLModel",
      "state": {
       "layout": "IPY_MODEL_6ed6a31424094f4ba291dbbf999fc922",
       "style": "IPY_MODEL_35468ff88a6a4724ad5b53a233df7f57",
       "value": "3rd row"
      }
     },
     "093feb059aec4fe3931fb75d2700c1a7": {
      "model_module": "@jupyter-widgets/controls",
      "model_module_version": "1.5.0",
      "model_name": "ButtonModel",
      "state": {
       "button_style": "danger",
       "description": "High cardinality",
       "disabled": true,
       "layout": "IPY_MODEL_fd6f435b174b422fa05ca189e05ef31e",
       "style": "IPY_MODEL_f97a72d639fd46a69759a8b6406d70ab"
      }
     },
     "097a52dc640e477dbc49c9190b959b52": {
      "model_module": "@jupyter-widgets/controls",
      "model_module_version": "1.5.0",
      "model_name": "LabelModel",
      "state": {
       "layout": "IPY_MODEL_970c8788af2c4b7abd4886591d44733c",
       "style": "IPY_MODEL_b79fadcd6f294613a33f1993b9e163a6",
       "value": "Obligated"
      }
     },
     "097d1aeea6e04b738a66ab94c57d4577": {
      "model_module": "@jupyter-widgets/base",
      "model_module_version": "1.2.0",
      "model_name": "LayoutModel",
      "state": {}
     },
     "09a2f4862c704a06b54633e3cba7bd57": {
      "model_module": "@jupyter-widgets/base",
      "model_module_version": "1.2.0",
      "model_name": "LayoutModel",
      "state": {}
     },
     "09f6be88810147729f8a0ac89da89c43": {
      "model_module": "@jupyter-widgets/base",
      "model_module_version": "1.2.0",
      "model_name": "LayoutModel",
      "state": {}
     },
     "09fced3dd95f4f2596fd1987a0b84c5d": {
      "model_module": "@jupyter-widgets/controls",
      "model_module_version": "1.5.0",
      "model_name": "LabelModel",
      "state": {
       "layout": "IPY_MODEL_12098ab5d926463c90f2e6e67748687f",
       "style": "IPY_MODEL_10fd5956037b40568194561d33667690",
       "value": "hq"
      }
     },
     "0a191ba565394087a197451603304d97": {
      "model_module": "@jupyter-widgets/base",
      "model_module_version": "1.2.0",
      "model_name": "LayoutModel",
      "state": {}
     },
     "0a21b19ba31d48d796bf6023f6b47f49": {
      "model_module": "@jupyter-widgets/base",
      "model_module_version": "1.2.0",
      "model_name": "LayoutModel",
      "state": {
       "grid_area": "widget003"
      }
     },
     "0a3008d2532b448f8ec919cd4c9f2dca": {
      "model_module": "@jupyter-widgets/controls",
      "model_module_version": "1.5.0",
      "model_name": "ButtonStyleModel",
      "state": {}
     },
     "0a3f86fdeb934b24afeff95dccbfbb67": {
      "model_module": "@jupyter-widgets/controls",
      "model_module_version": "1.5.0",
      "model_name": "DescriptionStyleModel",
      "state": {
       "description_width": ""
      }
     },
     "0a4fa4aba94d4be69419d499d58d7d26": {
      "model_module": "@jupyter-widgets/controls",
      "model_module_version": "1.5.0",
      "model_name": "HTMLModel",
      "state": {
       "layout": "IPY_MODEL_8169021dda0a450eb754fd26db26676b",
       "style": "IPY_MODEL_0bf07367bb354a5b94440ff5735ff321",
       "value": "Obligated"
      }
     },
     "0a556003f1d44571b8eec283c759f149": {
      "model_module": "@jupyter-widgets/base",
      "model_module_version": "1.2.0",
      "model_name": "LayoutModel",
      "state": {}
     },
     "0a5cd7dd15334f0bb8590a407c2dd253": {
      "model_module": "@jupyter-widgets/base",
      "model_module_version": "1.2.0",
      "model_name": "LayoutModel",
      "state": {
       "grid_area": "widget004"
      }
     },
     "0a67e20185da4979a30d7566fd33a51f": {
      "model_module": "@jupyter-widgets/base",
      "model_module_version": "1.2.0",
      "model_name": "LayoutModel",
      "state": {
       "grid_area": "widget001"
      }
     },
     "0a6af74e0d9f433e9f54a7ca9681c752": {
      "model_module": "@jupyter-widgets/base",
      "model_module_version": "1.2.0",
      "model_name": "LayoutModel",
      "state": {
       "grid_area": "widget009"
      }
     },
     "0a79cb42792447fcb017998946107ac7": {
      "model_module": "@jupyter-widgets/controls",
      "model_module_version": "1.5.0",
      "model_name": "HTMLModel",
      "state": {
       "layout": "IPY_MODEL_d11d20a5c453456fa190d58ecf7fc571",
       "style": "IPY_MODEL_97a39240e17045e2a8dc2d676f5fe726",
       "value": "Distinct characters"
      }
     },
     "0af49eab4ff049a28b46737798c7864e": {
      "model_module": "@jupyter-widgets/controls",
      "model_module_version": "1.5.0",
      "model_name": "DescriptionStyleModel",
      "state": {
       "description_width": ""
      }
     },
     "0b0cc81a1ddd42b9888adfbf032fa488": {
      "model_module": "@jupyter-widgets/base",
      "model_module_version": "1.2.0",
      "model_name": "LayoutModel",
      "state": {}
     },
     "0b2057b02c59472da5880cd338cb1b02": {
      "model_module": "@jupyter-widgets/base",
      "model_module_version": "1.2.0",
      "model_name": "LayoutModel",
      "state": {}
     },
     "0b3911a11afb46bfbd3b7a2b1f1043d1": {
      "model_module": "@jupyter-widgets/controls",
      "model_module_version": "1.5.0",
      "model_name": "DescriptionStyleModel",
      "state": {
       "description_width": ""
      }
     },
     "0b7a1f539d1843c98a6c0aedf02fb1d0": {
      "model_module": "@jupyter-widgets/controls",
      "model_module_version": "1.5.0",
      "model_name": "HTMLModel",
      "state": {
       "layout": "IPY_MODEL_697da2ca07634604a25b3812afb274a6",
       "style": "IPY_MODEL_1844dc70a5014df3b104112e6e51214c",
       "value": "Max length"
      }
     },
     "0b98cedc05094c499b9fb6d65ffaec64": {
      "model_module": "@jupyter-widgets/controls",
      "model_module_version": "1.5.0",
      "model_name": "FloatProgressModel",
      "state": {
       "layout": "IPY_MODEL_2ad27b0463894014a917b9282590f330",
       "max": 22144,
       "style": "IPY_MODEL_5de0d33b51314178a8c812b108f129c2",
       "value": 20826
      }
     },
     "0ba32317629b4365bbcb96097cae94c2": {
      "model_module": "@jupyter-widgets/controls",
      "model_module_version": "1.5.0",
      "model_name": "DescriptionStyleModel",
      "state": {
       "description_width": ""
      }
     },
     "0ba5451e461b47fd83e75a16eef72e1e": {
      "model_module": "@jupyter-widgets/controls",
      "model_module_version": "1.5.0",
      "model_name": "DescriptionStyleModel",
      "state": {
       "description_width": ""
      }
     },
     "0bafb16e8b3c4759a7e919b72ff8f6f4": {
      "model_module": "@jupyter-widgets/controls",
      "model_module_version": "1.5.0",
      "model_name": "ButtonStyleModel",
      "state": {}
     },
     "0bd50e4cb69b4cd49fc65a19c6df67a4": {
      "model_module": "@jupyter-widgets/controls",
      "model_module_version": "1.5.0",
      "model_name": "HTMLModel",
      "state": {
       "layout": "IPY_MODEL_a0ccca3004a344b48b29d75d15152b91",
       "style": "IPY_MODEL_d272233e57c94b0189f930b971e9d884",
       "value": "<a class=\"anchor\" href=\"#pp_var_-2916060121462389247\"><code>Locode</code></a> is an unsupported type, check if it needs cleaning or further analysis"
      }
     },
     "0bf07367bb354a5b94440ff5735ff321": {
      "model_module": "@jupyter-widgets/controls",
      "model_module_version": "1.5.0",
      "model_name": "DescriptionStyleModel",
      "state": {
       "description_width": ""
      }
     },
     "0c1358ca90114c0eb7e84180932b4bbe": {
      "model_module": "@jupyter-widgets/controls",
      "model_module_version": "1.5.0",
      "model_name": "DescriptionStyleModel",
      "state": {
       "description_width": ""
      }
     },
     "0c3ede4bf8b74bde90696225cdb57f72": {
      "model_module": "@jupyter-widgets/base",
      "model_module_version": "1.2.0",
      "model_name": "LayoutModel",
      "state": {}
     },
     "0ca9ec106f104f81abe0d6468d8d980f": {
      "model_module": "@jupyter-widgets/base",
      "model_module_version": "1.2.0",
      "model_name": "LayoutModel",
      "state": {}
     },
     "0cb073705ba04cfc821eb106ef7278cd": {
      "model_module": "@jupyter-widgets/controls",
      "model_module_version": "1.5.0",
      "model_name": "HTMLModel",
      "state": {
       "layout": "IPY_MODEL_28c2ba9a6fcf4074b078cf27be5e603e",
       "style": "IPY_MODEL_d04ebb42e59044f7bb83aa7af8c9bb54",
       "value": "Missing cells"
      }
     },
     "0d644d5348374dbb922658a64f98ec33": {
      "model_module": "@jupyter-widgets/controls",
      "model_module_version": "1.5.0",
      "model_name": "HTMLModel",
      "state": {
       "layout": "IPY_MODEL_8b7a683cfb3640cfa844c07f8521f129",
       "style": "IPY_MODEL_811b8bafc0f34725a91332e297c83e40",
       "value": "Duplicate rows (%)"
      }
     },
     "0d7d6cc6970c4041869fa7b3e063687c": {
      "model_module": "@jupyter-widgets/controls",
      "model_module_version": "1.5.0",
      "model_name": "HTMLModel",
      "state": {
       "layout": "IPY_MODEL_6c734e23b31a4dec99ffee87ae35e745",
       "style": "IPY_MODEL_323369663a2b45a89aa136fed8af11eb",
       "value": "5th row"
      }
     },
     "0db3706a8afc4fe4827b7685c0f018f3": {
      "model_module": "@jupyter-widgets/controls",
      "model_module_version": "1.5.0",
      "model_name": "VBoxModel",
      "state": {
       "children": [
        "IPY_MODEL_1a54d6771a7b4c9b9a41d7e426cc3465"
       ],
       "layout": "IPY_MODEL_777583965203441088f9d0e2b65f9a48"
      }
     },
     "0db57d34d40e4d22a941b27ce2b25353": {
      "model_module": "@jupyter-widgets/controls",
      "model_module_version": "1.5.0",
      "model_name": "HTMLModel",
      "state": {
       "layout": "IPY_MODEL_295f0a48d78147aab1299ee22cfdca01",
       "style": "IPY_MODEL_42fc4d2aa817458ba5f0954e83e6281e",
       "value": "<a href=\"https://github.com/pandas-profiling/pandas-profiling\">pandas-profiling v3.1.0</a>"
      }
     },
     "0dbb70558a584ab4a8fa28cbe9aa8475": {
      "model_module": "@jupyter-widgets/base",
      "model_module_version": "1.2.0",
      "model_name": "LayoutModel",
      "state": {
       "grid_area": "widget004"
      }
     },
     "0e04413b07ce4b6a9ff7bc8ba66646a2": {
      "model_module": "@jupyter-widgets/base",
      "model_module_version": "1.2.0",
      "model_name": "LayoutModel",
      "state": {}
     },
     "0e09347f4d7b42e4985e29b34f656775": {
      "model_module": "@jupyter-widgets/controls",
      "model_module_version": "1.5.0",
      "model_name": "DescriptionStyleModel",
      "state": {
       "description_width": ""
      }
     },
     "0e2647363b4948f38f017e3108be0f9b": {
      "model_module": "@jupyter-widgets/controls",
      "model_module_version": "1.5.0",
      "model_name": "HTMLModel",
      "state": {
       "layout": "IPY_MODEL_ad3139d4e9054b7b96b2d3a12dcba1c1",
       "style": "IPY_MODEL_e94248402edd4561aba5f8b49ce2ec56",
       "value": "<a class=\"anchor\" href=\"#pp_var_421277438688712540\"><code>Warning</code></a> has 21506 (99.6%) missing values"
      }
     },
     "0e306b301f374894a4643380367d849a": {
      "model_module": "@jupyter-widgets/controls",
      "model_module_version": "1.5.0",
      "model_name": "DescriptionStyleModel",
      "state": {
       "description_width": ""
      }
     },
     "0e6e529c52854ab2901fc68f9fc9a83d": {
      "model_module": "@jupyter-widgets/controls",
      "model_module_version": "1.5.0",
      "model_name": "DescriptionStyleModel",
      "state": {
       "description_width": ""
      }
     },
     "0eb9a94a6b0b4c928427b8c7c7600082": {
      "model_module": "@jupyter-widgets/controls",
      "model_module_version": "1.5.0",
      "model_name": "HTMLModel",
      "state": {
       "layout": "IPY_MODEL_45552ee00a7d4be6bf091372d7b5306e",
       "style": "IPY_MODEL_1a35c6c7b6e142babd72ef3eb5e9e85e",
       "value": "<a class=\"anchor\" href=\"#pp_var_3774228498530467255\"><code>project location</code></a> has 550 (2.5%) missing values"
      }
     },
     "0f18f31764654d14987dbf812dbf6459": {
      "model_module": "@jupyter-widgets/controls",
      "model_module_version": "1.5.0",
      "model_name": "DescriptionStyleModel",
      "state": {
       "description_width": ""
      }
     },
     "0f305723e85447aaa9b474e13774c8d2": {
      "model_module": "@jupyter-widgets/controls",
      "model_module_version": "1.5.0",
      "model_name": "HBoxModel",
      "state": {
       "children": [
        "IPY_MODEL_5c7850861a9e4432bdc62906cd4aa5d7",
        "IPY_MODEL_d95349bce8734d5aa0e017930fa730c7",
        "IPY_MODEL_20fdaa69cdd745508c07b102824b09cc"
       ],
       "layout": "IPY_MODEL_0b0cc81a1ddd42b9888adfbf032fa488"
      }
     },
     "0f4fa22d5415491dbd52710c6f5cde77": {
      "model_module": "@jupyter-widgets/controls",
      "model_module_version": "1.5.0",
      "model_name": "DescriptionStyleModel",
      "state": {
       "description_width": ""
      }
     },
     "0f5a5aa1b87848a3aed7c4d928943051": {
      "model_module": "@jupyter-widgets/base",
      "model_module_version": "1.2.0",
      "model_name": "LayoutModel",
      "state": {}
     },
     "0f65062373e1421a9b20cfe0e89cadcd": {
      "model_module": "@jupyter-widgets/controls",
      "model_module_version": "1.5.0",
      "model_name": "GridBoxModel",
      "state": {
       "children": [
        "IPY_MODEL_9a67e270a4334a749a5cbc6096cb2247"
       ],
       "layout": "IPY_MODEL_ef52a676a3a84c749252bb89302c66a5"
      }
     },
     "0fb08ec71de4479988ab7777a24f98af": {
      "model_module": "@jupyter-widgets/controls",
      "model_module_version": "1.5.0",
      "model_name": "VBoxModel",
      "state": {
       "children": [
        "IPY_MODEL_3d8206ad217c4438839ee1f6e3af06f4",
        "IPY_MODEL_4c9a4a1f2f3341e09f2d0f5f46d35e6f"
       ],
       "layout": "IPY_MODEL_a0975ff50e954425a3a6479bc45f86cd"
      }
     },
     "101f5277449442eaa60ca7d5342fd7fc": {
      "model_module": "@jupyter-widgets/controls",
      "model_module_version": "1.5.0",
      "model_name": "HTMLModel",
      "state": {
       "layout": "IPY_MODEL_b77858a8011f408fa3895349fcee683d",
       "style": "IPY_MODEL_37b3bca44202421f82da7a062b648954",
       "value": "<a class=\"anchor\" href=\"#pp_var_1215821832360499521\"><code>date completed request</code></a> has 10727 (49.7%) missing values"
      }
     },
     "103450790f2648faa5e794735b0f70d0": {
      "model_module": "@jupyter-widgets/base",
      "model_module_version": "1.2.0",
      "model_name": "LayoutModel",
      "state": {
       "grid_area": "widget005"
      }
     },
     "104715c075dc4f358b854a1c5fc7e032": {
      "model_module": "@jupyter-widgets/controls",
      "model_module_version": "1.5.0",
      "model_name": "HBoxModel",
      "state": {
       "children": [
        "IPY_MODEL_c19e01b972f04e958810807e8a787209",
        "IPY_MODEL_8053f00606764f2ca781e6001acfa0a9"
       ],
       "layout": "IPY_MODEL_10c34ac2d8924c5ea888b837940fe709"
      }
     },
     "1054df0bcc4f4c2397c42c7fadadd4d6": {
      "model_module": "@jupyter-widgets/controls",
      "model_module_version": "1.5.0",
      "model_name": "ButtonModel",
      "state": {
       "button_style": "info",
       "description": "Missing",
       "disabled": true,
       "layout": "IPY_MODEL_5d7ecc23a3e341598023b7297a225d07",
       "style": "IPY_MODEL_6ff07a94fe2547718e4579413d7dbc59"
      }
     },
     "10a9336c992648a7af954633860f8f45": {
      "model_module": "@jupyter-widgets/controls",
      "model_module_version": "1.5.0",
      "model_name": "DescriptionStyleModel",
      "state": {
       "description_width": ""
      }
     },
     "10c34ac2d8924c5ea888b837940fe709": {
      "model_module": "@jupyter-widgets/base",
      "model_module_version": "1.2.0",
      "model_name": "LayoutModel",
      "state": {}
     },
     "10d2d4ffa5de485e9fef38229dcea0ff": {
      "model_module": "@jupyter-widgets/controls",
      "model_module_version": "1.5.0",
      "model_name": "LabelModel",
      "state": {
       "layout": "IPY_MODEL_86d0dd759bb343d6a99fb0deea31df5c",
       "style": "IPY_MODEL_9a2434f3f1b2460da8bdff90d3eda919",
       "value": "112"
      }
     },
     "10e5966962924c3381aac8dafaab3fad": {
      "model_module": "@jupyter-widgets/controls",
      "model_module_version": "1.5.0",
      "model_name": "ButtonStyleModel",
      "state": {}
     },
     "10e63f233cd644a2904e7138ad1a0192": {
      "model_module": "@jupyter-widgets/controls",
      "model_module_version": "1.5.0",
      "model_name": "HTMLModel",
      "state": {
       "layout": "IPY_MODEL_f1eea9a6af434b8b8a4d0d5465e3f7e8",
       "style": "IPY_MODEL_f4e46a81fd954301884f173a58b1161f",
       "value": "<a class=\"anchor\" href=\"#pp_var_4855182975509944680\">\n        <code>Status Comment</code>\n    </a> is highly correlated with <code>Location</code> and <abbr title=\"Location, Fed requested, FHWA processing Days\">2 other fields</abbr>"
      }
     },
     "10fd5956037b40568194561d33667690": {
      "model_module": "@jupyter-widgets/controls",
      "model_module_version": "1.5.0",
      "model_name": "DescriptionStyleModel",
      "state": {
       "description_width": ""
      }
     },
     "1173f5a07c1e44629288c1c35df69a47": {
      "model_module": "@jupyter-widgets/controls",
      "model_module_version": "1.5.0",
      "model_name": "FloatProgressModel",
      "state": {
       "description": "FMIS",
       "layout": "IPY_MODEL_b299660ff39644e99b806527607771bb",
       "max": 21594,
       "style": "IPY_MODEL_e2dcbc39dfe44f2cb281ae9218a834d2",
       "value": 19
      }
     },
     "11a07d3c69a5481f81a8805ad64cfb82": {
      "model_module": "@jupyter-widgets/base",
      "model_module_version": "1.2.0",
      "model_name": "LayoutModel",
      "state": {}
     },
     "11f7614df1704fc6bbd9cb0397d70ca4": {
      "model_module": "@jupyter-widgets/base",
      "model_module_version": "1.2.0",
      "model_name": "LayoutModel",
      "state": {}
     },
     "11f7ccefff824be3b0978903a604d427": {
      "model_module": "@jupyter-widgets/controls",
      "model_module_version": "1.5.0",
      "model_name": "DescriptionStyleModel",
      "state": {
       "description_width": ""
      }
     },
     "12098ab5d926463c90f2e6e67748687f": {
      "model_module": "@jupyter-widgets/base",
      "model_module_version": "1.2.0",
      "model_name": "LayoutModel",
      "state": {
       "grid_area": "widget013"
      }
     },
     "121ae80ea0d94a249e96c027a1ff3cd1": {
      "model_module": "@jupyter-widgets/base",
      "model_module_version": "1.2.0",
      "model_name": "LayoutModel",
      "state": {
       "grid_area": "widget001"
      }
     },
     "122b09bd9f3d4cc296837bf03473c07c": {
      "model_module": "@jupyter-widgets/base",
      "model_module_version": "1.2.0",
      "model_name": "LayoutModel",
      "state": {}
     },
     "12444cfeb17647e9972af994b31293e3": {
      "model_module": "@jupyter-widgets/controls",
      "model_module_version": "1.5.0",
      "model_name": "DescriptionStyleModel",
      "state": {
       "description_width": ""
      }
     },
     "1255b9d658804da1b1034f7180e8d0da": {
      "model_module": "@jupyter-widgets/controls",
      "model_module_version": "1.5.0",
      "model_name": "ButtonStyleModel",
      "state": {}
     },
     "12890d4543ef471686fb2d16094e63ef": {
      "model_module": "@jupyter-widgets/controls",
      "model_module_version": "1.5.0",
      "model_name": "DescriptionStyleModel",
      "state": {
       "description_width": ""
      }
     },
     "12dea69475634e2182b1a2d771a49dff": {
      "model_module": "@jupyter-widgets/base",
      "model_module_version": "1.2.0",
      "model_name": "LayoutModel",
      "state": {}
     },
     "12fbb3b0ee3842bca175c0c739882a0f": {
      "model_module": "@jupyter-widgets/controls",
      "model_module_version": "1.5.0",
      "model_name": "LabelModel",
      "state": {
       "layout": "IPY_MODEL_b2261d89c05f4e249f5ee6e92ff6fbed",
       "style": "IPY_MODEL_e5063a74256a48ab9810316f976f006d",
       "value": "550"
      }
     },
     "1304e8d4c57644feb133217ac14d1dc2": {
      "model_module": "@jupyter-widgets/base",
      "model_module_version": "1.2.0",
      "model_name": "LayoutModel",
      "state": {
       "grid_area": "widget006"
      }
     },
     "13333020e619434c96aabb6201b6f640": {
      "model_module": "@jupyter-widgets/controls",
      "model_module_version": "1.5.0",
      "model_name": "HTMLModel",
      "state": {
       "layout": "IPY_MODEL_2d47d509eef54e46b6a7773693c6ec08",
       "style": "IPY_MODEL_96bec9b58ca84894986340bb9e51702f",
       "value": "Analysis finished"
      }
     },
     "13ad05191edb45bcb5b5907f816bcbe9": {
      "model_module": "@jupyter-widgets/base",
      "model_module_version": "1.2.0",
      "model_name": "LayoutModel",
      "state": {}
     },
     "13fb7938655d47cdacda010c53b29015": {
      "model_module": "@jupyter-widgets/controls",
      "model_module_version": "1.5.0",
      "model_name": "DescriptionStyleModel",
      "state": {
       "description_width": ""
      }
     },
     "13fde003978e40bbba17c2256b4e42c3": {
      "model_module": "@jupyter-widgets/controls",
      "model_module_version": "1.5.0",
      "model_name": "HTMLModel",
      "state": {
       "layout": "IPY_MODEL_1e89f50b6d0c4e969de322ffcbbb27d1",
       "style": "IPY_MODEL_e081ad07ed9541beb04379318ff346c2",
       "value": "4.9 MiB"
      }
     },
     "1416c26c01164ab7a311df4a94e8db72": {
      "model_module": "@jupyter-widgets/controls",
      "model_module_version": "1.5.0",
      "model_name": "DescriptionStyleModel",
      "state": {
       "description_width": ""
      }
     },
     "144b14c37428468b82df7d7039afd6b4": {
      "model_module": "@jupyter-widgets/controls",
      "model_module_version": "1.5.0",
      "model_name": "ButtonStyleModel",
      "state": {}
     },
     "149afe5a3e2d437e90a10e631ee6001b": {
      "model_module": "@jupyter-widgets/base",
      "model_module_version": "1.2.0",
      "model_name": "LayoutModel",
      "state": {}
     },
     "14a226e7f6f74e2ba7a873e3c19d96e5": {
      "model_module": "@jupyter-widgets/controls",
      "model_module_version": "1.5.0",
      "model_name": "GridBoxModel",
      "state": {
       "children": [
        "IPY_MODEL_ca137416f72a41028020e477f253226e",
        "IPY_MODEL_41a462b62eaa4ff3a0b3b27b54f48a2d",
        "IPY_MODEL_a63413519462401d9175ba275b6de7ad",
        "IPY_MODEL_cace0f5eb95848fc9b42b2ba9119ee9d",
        "IPY_MODEL_9acdeeae644b46fcbba97bfb6975fd99",
        "IPY_MODEL_63b23347a7e649928c513f992979e81e",
        "IPY_MODEL_26fb83c7f7d349bd986a217bab573156",
        "IPY_MODEL_a3aa169f868b45b5823953c1b103c56f",
        "IPY_MODEL_4cd6791938fb47149f9bd9565b61a8ca",
        "IPY_MODEL_af05bffe05054222b0bb2f8830b2c6cd",
        "IPY_MODEL_f394069a95db4b7fb3d4d168dd3d49ef",
        "IPY_MODEL_f02819b1f0e64ed89d5ace3041b09985",
        "IPY_MODEL_db59f7193170435b931c3ffe993cc58c",
        "IPY_MODEL_80e87f58fa794bc3b2afdf6b38edba14",
        "IPY_MODEL_fadfac7e8d12415faa387692c6348a1b",
        "IPY_MODEL_7dae9ab5c2384fcb9dc5b6f5d986ef23",
        "IPY_MODEL_f5e2a96f085c40cd9d5858e2be34fe25",
        "IPY_MODEL_b60bdff0fb2b48d0ae5d0f4d9d1fd7d9",
        "IPY_MODEL_462db0d3444f49118e58e2e77325df4e",
        "IPY_MODEL_bf2cf5abdbc5433da896c94039721c41",
        "IPY_MODEL_b4f30ee1b6ed4a0d9af1f0d90b735570",
        "IPY_MODEL_80fa609f7cc048fa8ea803751b7aea99",
        "IPY_MODEL_d2cfe9fa1e144176b1e336887e0a5e59",
        "IPY_MODEL_257ad3aa18114d75ae42cc46729bbe61",
        "IPY_MODEL_e355fb06756847e280db6b7299b3671a",
        "IPY_MODEL_d5918cf81a094c9192fb9ffce2bd6a04",
        "IPY_MODEL_be03cfd885a44fb19f9abf4f875a4bb8",
        "IPY_MODEL_61d4c16bd5f346caa0a7d9936b295636",
        "IPY_MODEL_79433a513fa94101bb8588982efde082",
        "IPY_MODEL_76ed8543d4d6490ab5464801ed7ec743",
        "IPY_MODEL_3266d1dc5fac4155b3982df10ff89ac0",
        "IPY_MODEL_b14da3803f264f9192d37c23779f74c8",
        "IPY_MODEL_eaa4a278ffbf43188a86c8caea2b5ae4",
        "IPY_MODEL_505c363a4b2741eaae3f09f31a1c42b8",
        "IPY_MODEL_8b9f6e4f9e3b4287805df6ec125a7d8f",
        "IPY_MODEL_847e43687ee94d62b6d8b47c41592cf5",
        "IPY_MODEL_ac89e2ebd2e14a70989bd9abc4f6d5e2",
        "IPY_MODEL_c2b0c8729ab548888cd5a7080386e0db",
        "IPY_MODEL_9b21ede96421409d8a3523c176697fbe",
        "IPY_MODEL_1054df0bcc4f4c2397c42c7fadadd4d6",
        "IPY_MODEL_67c15765a034427da8bfd8803ab2d561",
        "IPY_MODEL_643cb74c60a240cfb046ccc2faaef2dc",
        "IPY_MODEL_f76f37ddf16c473686acc3a4de2ff3b8",
        "IPY_MODEL_375b7f022f2c4ec1b8beb0ae95dcccd5",
        "IPY_MODEL_480a163f45dd49e1815cc29292e24dcb",
        "IPY_MODEL_e28f6baea42c4f8ab2af4419a20f46a6",
        "IPY_MODEL_0e2647363b4948f38f017e3108be0f9b",
        "IPY_MODEL_75435c10cefa45508f0024e088daba09",
        "IPY_MODEL_fcd248cb0e78448fae1009b104efd81a",
        "IPY_MODEL_8a4bbfb2b49d47c893a5acd0b081ce98",
        "IPY_MODEL_d3c4e56d2d534fbeb49abfb4a999ea89",
        "IPY_MODEL_afb352c580084b419375c711b027fe7a",
        "IPY_MODEL_76b8a28de44343e186dfce92df3ad3f9",
        "IPY_MODEL_b65e86c006ac4f9ba6b2535780c3ee91",
        "IPY_MODEL_26ca8b135ae74280928d0fead1c968be",
        "IPY_MODEL_1d294563ba1d4acfa8223da459f4c484",
        "IPY_MODEL_c779e15e69054a13b0a48e59890e77e0",
        "IPY_MODEL_84abc6009f1445fa877df90750c05175",
        "IPY_MODEL_5a0acd7d99e94e77885b5f18d554ad4e",
        "IPY_MODEL_4d687c2aed664e7885c24eb26f28e752",
        "IPY_MODEL_267be8983fe641a49cd8e65833f3c783",
        "IPY_MODEL_5c96634326b84cba9c884e2a1b24f259",
        "IPY_MODEL_8f22b9802f904dbe83a038606e20b15a",
        "IPY_MODEL_4dae437ac4704fddb1d687aa0e608d40",
        "IPY_MODEL_0bd50e4cb69b4cd49fc65a19c6df67a4",
        "IPY_MODEL_e7090b5ea6fb44af83a2d6ce4bbcb0b1",
        "IPY_MODEL_de732e745f044d10a4b614c1cc19e672",
        "IPY_MODEL_89aa0855f0d64fd79865af9dd71d5702",
        "IPY_MODEL_6aaf23d206a04ab2b3188dbd2d408707",
        "IPY_MODEL_9aedd349251a4a93adbe67e5036aec7d",
        "IPY_MODEL_0022fa68be3b4fe38db9d3991297d5fa",
        "IPY_MODEL_4b49c2e4bd054accac29da6993257bda",
        "IPY_MODEL_3e088a04f38f4518aa93afeafb104161",
        "IPY_MODEL_9c4092475f5e488080e8ada06355a79f",
        "IPY_MODEL_a88a600c27244e8592a0b3c837bbde32",
        "IPY_MODEL_5a049b9abdf345768bb5e2d67bc79910",
        "IPY_MODEL_41073fa10b1449679cbbb53f1271d825",
        "IPY_MODEL_ca56cfe592324071a86c3d0f10fbfe65",
        "IPY_MODEL_75e260a8a3e84aaaa37c2c2c3011ad17",
        "IPY_MODEL_40715c8a5509496c9fa8ca343ee44321",
        "IPY_MODEL_a6ae373bca30485b9e43656f831ee497",
        "IPY_MODEL_bcf96789ec0047359d2b269efeaa4fe2",
        "IPY_MODEL_7d72c744c0034bf09c23997f5883e820",
        "IPY_MODEL_70d5b260c6664e0288977746afd6eee3"
       ],
       "layout": "IPY_MODEL_dff7185839b94a69aa27a23a05abb6a4"
      }
     },
     "14c77dc5b9d4441994226d272ba33a7c": {
      "model_module": "@jupyter-widgets/controls",
      "model_module_version": "1.5.0",
      "model_name": "FloatProgressModel",
      "state": {
       "layout": "IPY_MODEL_32f57d8ee45e45f681d43f2c91ddfcf2",
       "max": 21594,
       "style": "IPY_MODEL_3e6fc68da7844869847912f59e6ce2e7",
       "value": 112
      }
     },
     "1565eea9c2c746bab7a7f5404779cd33": {
      "model_module": "@jupyter-widgets/base",
      "model_module_version": "1.2.0",
      "model_name": "LayoutModel",
      "state": {
       "grid_area": "widget010"
      }
     },
     "16100a53e0eb4a05873cf235b56d8174": {
      "model_module": "@jupyter-widgets/base",
      "model_module_version": "1.2.0",
      "model_name": "LayoutModel",
      "state": {
       "grid_area": "widget016"
      }
     },
     "162ac36c1cdb4b43b94296208d092cdc": {
      "model_module": "@jupyter-widgets/controls",
      "model_module_version": "1.5.0",
      "model_name": "DescriptionStyleModel",
      "state": {
       "description_width": ""
      }
     },
     "165a99953cb94be88d6f12b4d2386e1e": {
      "model_module": "@jupyter-widgets/base",
      "model_module_version": "1.2.0",
      "model_name": "LayoutModel",
      "state": {}
     },
     "16d8a5a5a143432097abb93d2a1b2ef0": {
      "model_module": "@jupyter-widgets/controls",
      "model_module_version": "1.5.0",
      "model_name": "HTMLModel",
      "state": {
       "layout": "IPY_MODEL_cb37e081ea874adeb88d843d397b9958",
       "style": "IPY_MODEL_d78fd7cfe75044068aca4a2bcd896a96",
       "value": "Render HTML: 100%"
      }
     },
     "16df90bfdf9b4f178949978582e2aba4": {
      "model_module": "@jupyter-widgets/controls",
      "model_module_version": "1.5.0",
      "model_name": "ProgressStyleModel",
      "state": {
       "description_width": ""
      }
     },
     "17831687b4fe4be7a2922f86746c93ff": {
      "model_module": "@jupyter-widgets/controls",
      "model_module_version": "1.5.0",
      "model_name": "HTMLModel",
      "state": {
       "layout": "IPY_MODEL_9c22615b7b3845a886bc0663a09abdc6",
       "style": "IPY_MODEL_c78f384ad97e49b2a78382f3426c1964",
       "value": "<a class=\"anchor\" href=\"#pp_var_-6412384176531527319\">\n        <code>MPO</code>\n    </a> is highly correlated with <code>DIST</code> and <abbr title=\"DIST, Waiting Days\">1 other fields</abbr>"
      }
     },
     "17be52c318204628b9e78f10a9b04033": {
      "model_module": "@jupyter-widgets/base",
      "model_module_version": "1.2.0",
      "model_name": "LayoutModel",
      "state": {
       "grid_area": "widget006"
      }
     },
     "1844dc70a5014df3b104112e6e51214c": {
      "model_module": "@jupyter-widgets/controls",
      "model_module_version": "1.5.0",
      "model_name": "DescriptionStyleModel",
      "state": {
       "description_width": ""
      }
     },
     "186b1dced0bd44a58d2431175ed3ac88": {
      "model_module": "@jupyter-widgets/controls",
      "model_module_version": "1.5.0",
      "model_name": "ProgressStyleModel",
      "state": {
       "description_width": ""
      }
     },
     "186e6401f70b431889a23936df56a321": {
      "model_module": "@jupyter-widgets/controls",
      "model_module_version": "1.5.0",
      "model_name": "DescriptionStyleModel",
      "state": {
       "description_width": ""
      }
     },
     "1991439779034417a338f37a52dffefb": {
      "model_module": "@jupyter-widgets/controls",
      "model_module_version": "1.5.0",
      "model_name": "ToggleButtonModel",
      "state": {
       "description": "Toggle details",
       "layout": "IPY_MODEL_b9165002104c446a8786349da28ef0d5",
       "style": "IPY_MODEL_764680c88c27473d93edba0ceed922f9"
      }
     },
     "19a7978654a243f0b27f7664fd9afd1e": {
      "model_module": "@jupyter-widgets/base",
      "model_module_version": "1.2.0",
      "model_name": "LayoutModel",
      "state": {}
     },
     "19f8c5ad9d8b4350acfa08b55eceb704": {
      "model_module": "@jupyter-widgets/controls",
      "model_module_version": "1.5.0",
      "model_name": "DescriptionStyleModel",
      "state": {
       "description_width": ""
      }
     },
     "19fc9138fbcc4db2bf9f0db3b9bd3108": {
      "model_module": "@jupyter-widgets/base",
      "model_module_version": "1.2.0",
      "model_name": "LayoutModel",
      "state": {
       "width": "fit-content"
      }
     },
     "1a07312d5ef34dc4ae88576515b6461f": {
      "model_module": "@jupyter-widgets/base",
      "model_module_version": "1.2.0",
      "model_name": "LayoutModel",
      "state": {
       "grid_area": "widget010"
      }
     },
     "1a126a0e85f74d85b12558547acb4140": {
      "model_module": "@jupyter-widgets/controls",
      "model_module_version": "1.5.0",
      "model_name": "GridBoxModel",
      "state": {
       "children": [
        "IPY_MODEL_53b659f82bd9427ea84f1e3c5048a8ef",
        "IPY_MODEL_9fbca3da36e2494e9cfa90635737a371",
        "IPY_MODEL_e6d446f1082a43ea99817a5a3a65a75f",
        "IPY_MODEL_829de64f88854d628c7327c4394350ed",
        "IPY_MODEL_0098ee54ea1240c8a7d2bb9f782f2260",
        "IPY_MODEL_d5df64f3d122481c846a822cf4fa42dc"
       ],
       "layout": "IPY_MODEL_2dc2e862a008450d86959817ac86ff62"
      }
     },
     "1a1ac62bd04c4ce4bda99863d9943b62": {
      "model_module": "@jupyter-widgets/controls",
      "model_module_version": "1.5.0",
      "model_name": "VBoxModel",
      "state": {
       "children": [
        "IPY_MODEL_38e61cc591974e72aacec95b259a9175"
       ],
       "layout": "IPY_MODEL_4b5c5e1b1e674b24a524bf40705a5cce"
      }
     },
     "1a35c6c7b6e142babd72ef3eb5e9e85e": {
      "model_module": "@jupyter-widgets/controls",
      "model_module_version": "1.5.0",
      "model_name": "DescriptionStyleModel",
      "state": {
       "description_width": ""
      }
     },
     "1a506dd2f5674364840bd41c8ecf89f5": {
      "model_module": "@jupyter-widgets/controls",
      "model_module_version": "1.5.0",
      "model_name": "ButtonStyleModel",
      "state": {}
     },
     "1a54d6771a7b4c9b9a41d7e426cc3465": {
      "model_module": "@jupyter-widgets/controls",
      "model_module_version": "1.5.0",
      "model_name": "GridBoxModel",
      "state": {
       "children": [
        "IPY_MODEL_0b7a1f539d1843c98a6c0aedf02fb1d0",
        "IPY_MODEL_212e8934344545fca5c62fab07ffb205",
        "IPY_MODEL_d5f00100c52e46a1b21065e7750d43be",
        "IPY_MODEL_d5eb5385ae2c4c369eb5a27380b0a05e",
        "IPY_MODEL_a2a61f5110764739a426aa48cb698a36",
        "IPY_MODEL_ab8cfce05a94497e95be2e0a484843d4",
        "IPY_MODEL_fa1715d98e244a2781574cac75374159",
        "IPY_MODEL_a7a85fc9fc4b4a4f83d3d8f1c1615833"
       ],
       "layout": "IPY_MODEL_c7429fa8aa2c431787a1204ac61934fe"
      }
     },
     "1a701ce58b624f3a8e151fbdda122180": {
      "model_module": "@jupyter-widgets/controls",
      "model_module_version": "1.5.0",
      "model_name": "FloatProgressModel",
      "state": {
       "description": "DISTRICT",
       "layout": "IPY_MODEL_7d4f923f931a409b8eda095de0989647",
       "max": 21594,
       "style": "IPY_MODEL_076f9e4191b0479aa4fed67cb4fba623",
       "value": 112
      }
     },
     "1a721d7e15754d2ea3af773285c0e9f1": {
      "model_module": "@jupyter-widgets/controls",
      "model_module_version": "1.5.0",
      "model_name": "ButtonStyleModel",
      "state": {}
     },
     "1a974f254a744514a3f1bd42d7625ce6": {
      "model_module": "@jupyter-widgets/base",
      "model_module_version": "1.2.0",
      "model_name": "LayoutModel",
      "state": {}
     },
     "1b1a76f3244b4bb8ab7c4820eedcf4f7": {
      "model_module": "@jupyter-widgets/controls",
      "model_module_version": "1.5.0",
      "model_name": "DescriptionStyleModel",
      "state": {
       "description_width": ""
      }
     },
     "1b70b7a5c3a041738d6d4f289db85de4": {
      "model_module": "@jupyter-widgets/controls",
      "model_module_version": "1.5.0",
      "model_name": "ProgressStyleModel",
      "state": {
       "description_width": ""
      }
     },
     "1b81284e9a0c469da3405a7c8e978e37": {
      "model_module": "@jupyter-widgets/controls",
      "model_module_version": "1.5.0",
      "model_name": "FloatProgressModel",
      "state": {
       "layout": "IPY_MODEL_737cea13aadd4c3aa1c32ed77bedc242",
       "max": 21594,
       "style": "IPY_MODEL_cd3b68c3a6814499ba6dcf9706c1a850",
       "value": 550
      }
     },
     "1c22b9d2d2924e80a2c173b77f1bd14e": {
      "model_module": "@jupyter-widgets/controls",
      "model_module_version": "1.5.0",
      "model_name": "FloatProgressModel",
      "state": {
       "bar_style": "danger",
       "layout": "IPY_MODEL_aebd425e0c7341caafe6b4685470fd67",
       "max": 5,
       "style": "IPY_MODEL_ad7d8aa7a8c54c4bb418329a03e4aed3",
       "value": 5
      }
     },
     "1c22bdddc1b545c8935b9c76dbe6b813": {
      "model_module": "@jupyter-widgets/controls",
      "model_module_version": "1.5.0",
      "model_name": "HTMLModel",
      "state": {
       "layout": "IPY_MODEL_24ebb6e4e85e4a51b6b7d51aab068070",
       "style": "IPY_MODEL_3c80206fc8ce4bf0805ba89e604dfefb",
       "value": "<a class=\"anchor\" href=\"#pp_var_-2583248843754977393\">\n        <code>FHWA processing Days</code>\n    </a> is highly correlated with <code>Status Comment</code>"
      }
     },
     "1c7ef1acbd4143a3a6c465d173e9e4c3": {
      "model_module": "@jupyter-widgets/base",
      "model_module_version": "1.2.0",
      "model_name": "LayoutModel",
      "state": {}
     },
     "1cfd975ad64f4d85a1de902b9723a704": {
      "model_module": "@jupyter-widgets/controls",
      "model_module_version": "1.5.0",
      "model_name": "HTMLModel",
      "state": {
       "layout": "IPY_MODEL_4be1797b48df40cdb1fe7bb85777dbde",
       "style": "IPY_MODEL_3aced77e233649a8b4a6934bca7f02ab",
       "value": "Total size in memory"
      }
     },
     "1d294563ba1d4acfa8223da459f4c484": {
      "model_module": "@jupyter-widgets/controls",
      "model_module_version": "1.5.0",
      "model_name": "ButtonModel",
      "state": {
       "button_style": "warning",
       "description": "Unsupported",
       "disabled": true,
       "layout": "IPY_MODEL_d8f024ceb2d9459d96c26afff9ada40d",
       "style": "IPY_MODEL_0a3008d2532b448f8ec919cd4c9f2dca"
      }
     },
     "1d7fe80dd31d4e8fbc26ac4c4c9d9e49": {
      "model_module": "@jupyter-widgets/base",
      "model_module_version": "1.2.0",
      "model_name": "LayoutModel",
      "state": {
       "grid_area": "widget001"
      }
     },
     "1d9db680f72e4b5c9ddcb2bf499c195d": {
      "model_module": "@jupyter-widgets/base",
      "model_module_version": "1.2.0",
      "model_name": "LayoutModel",
      "state": {
       "grid_area": "widget001"
      }
     },
     "1db0a86a48e743c3b57170f0b69062f5": {
      "model_module": "@jupyter-widgets/controls",
      "model_module_version": "1.5.0",
      "model_name": "VBoxModel",
      "state": {
       "children": [
        "IPY_MODEL_070a366c40144620bf54c0f3774f3a25",
        "IPY_MODEL_0fb08ec71de4479988ab7777a24f98af"
       ],
       "layout": "IPY_MODEL_e55ac071d2724920a430ff4eb8455dab"
      }
     },
     "1dc647d827a746a99623bba51d016695": {
      "model_module": "@jupyter-widgets/base",
      "model_module_version": "1.2.0",
      "model_name": "LayoutModel",
      "state": {}
     },
     "1dcafef19e3c4d3cb9f86c0d3c9893db": {
      "model_module": "@jupyter-widgets/base",
      "model_module_version": "1.2.0",
      "model_name": "LayoutModel",
      "state": {}
     },
     "1dd0d23f0ec64f79a2d0aa0b627fc0d3": {
      "model_module": "@jupyter-widgets/base",
      "model_module_version": "1.2.0",
      "model_name": "LayoutModel",
      "state": {}
     },
     "1de48e8e689b4e7293aa7e959b0b1c72": {
      "model_module": "@jupyter-widgets/controls",
      "model_module_version": "1.5.0",
      "model_name": "ButtonModel",
      "state": {
       "button_style": "info",
       "description": "Missing",
       "disabled": true,
       "layout": "IPY_MODEL_229d9080ddc642fbb1a1d0047416eb36",
       "style": "IPY_MODEL_441327b8b49b4c589a534a36b4f7a5a6"
      }
     },
     "1de4bf9fb12a445698fb6d23ef4f349a": {
      "model_module": "@jupyter-widgets/controls",
      "model_module_version": "1.5.0",
      "model_name": "HTMLModel",
      "state": {
       "layout": "IPY_MODEL_02341f6ea16e46938acaaf1dcff237eb",
       "style": "IPY_MODEL_8af5ee4bdd4d454b80c73e94e06139d0",
       "value": "Median length"
      }
     },
     "1e065327d5614aa6bd9fefe6528de430": {
      "model_module": "@jupyter-widgets/base",
      "model_module_version": "1.2.0",
      "model_name": "LayoutModel",
      "state": {
       "grid_area": "widget010"
      }
     },
     "1e0ec1fc18f0443da47036a654383567": {
      "model_module": "@jupyter-widgets/base",
      "model_module_version": "1.2.0",
      "model_name": "LayoutModel",
      "state": {
       "grid_area": "widget009"
      }
     },
     "1e3644597ac84df1b7e82ea5f6688d7e": {
      "model_module": "@jupyter-widgets/controls",
      "model_module_version": "1.5.0",
      "model_name": "FloatProgressModel",
      "state": {
       "bar_style": "danger",
       "layout": "IPY_MODEL_f67c2c68132244cbb5bd36dd88a694ce",
       "max": 5,
       "style": "IPY_MODEL_e7829d3ebdf343f29729576d892714a5",
       "value": 5
      }
     },
     "1e64882bfa94499bb3fb45ece3a53751": {
      "model_module": "@jupyter-widgets/base",
      "model_module_version": "1.2.0",
      "model_name": "LayoutModel",
      "state": {}
     },
     "1e7931dd1d264db19dc963057f2adc14": {
      "model_module": "@jupyter-widgets/base",
      "model_module_version": "1.2.0",
      "model_name": "LayoutModel",
      "state": {
       "grid_area": "widget018"
      }
     },
     "1e881e40f3f5491d9a39dac34182b446": {
      "model_module": "@jupyter-widgets/controls",
      "model_module_version": "1.5.0",
      "model_name": "ButtonStyleModel",
      "state": {}
     },
     "1e89f50b6d0c4e969de322ffcbbb27d1": {
      "model_module": "@jupyter-widgets/base",
      "model_module_version": "1.2.0",
      "model_name": "LayoutModel",
      "state": {
       "grid_area": "widget014"
      }
     },
     "1f12f75731c04d908cde0efc8ac8dcb3": {
      "model_module": "@jupyter-widgets/controls",
      "model_module_version": "1.5.0",
      "model_name": "DescriptionStyleModel",
      "state": {
       "description_width": ""
      }
     },
     "1f4b63a8379e476185ad2ae599ec83f6": {
      "model_module": "@jupyter-widgets/controls",
      "model_module_version": "1.5.0",
      "model_name": "DescriptionStyleModel",
      "state": {
       "description_width": ""
      }
     },
     "1f6b83e76a3d41bd92f61c89c5e1cf9b": {
      "model_module": "@jupyter-widgets/base",
      "model_module_version": "1.2.0",
      "model_name": "LayoutModel",
      "state": {}
     },
     "1f79b08c8b814009bc17c0050f8aae05": {
      "model_module": "@jupyter-widgets/base",
      "model_module_version": "1.2.0",
      "model_name": "LayoutModel",
      "state": {
       "grid_area": "widget016"
      }
     },
     "1f8a618c94574fedb5e94c4e508a06e2": {
      "model_module": "@jupyter-widgets/controls",
      "model_module_version": "1.5.0",
      "model_name": "FloatProgressModel",
      "state": {
       "description": "HQ",
       "layout": "IPY_MODEL_5bac1dc9ea4d4ce8ba00d793c40fc412",
       "max": 21594,
       "style": "IPY_MODEL_a4238e1abb274550acc0c1c1225f9dad",
       "value": 85
      }
     },
     "1fcc5cfed7d1401fb9e5493a6d8fabb7": {
      "model_module": "@jupyter-widgets/controls",
      "model_module_version": "1.5.0",
      "model_name": "HTMLModel",
      "state": {
       "layout": "IPY_MODEL_a855dea8cba44b26a23515a7c3c6d3f8",
       "style": "IPY_MODEL_a4c73d24f56f4352a9e2f49589468198",
       "value": "Min length"
      }
     },
     "1fd75023e00a4cd8855c4969e0a75d90": {
      "model_module": "@jupyter-widgets/controls",
      "model_module_version": "1.5.0",
      "model_name": "DescriptionStyleModel",
      "state": {
       "description_width": ""
      }
     },
     "1fe794c8da9e478f9e52ed5507dd95e0": {
      "model_module": "@jupyter-widgets/controls",
      "model_module_version": "1.5.0",
      "model_name": "DescriptionStyleModel",
      "state": {
       "description_width": ""
      }
     },
     "1ffdcfc977f549be8c257b8fa379ee93": {
      "model_module": "@jupyter-widgets/base",
      "model_module_version": "1.2.0",
      "model_name": "LayoutModel",
      "state": {
       "grid_area": "widget021"
      }
     },
     "200a07946d0c463bb2cc7547f24361c2": {
      "model_module": "@jupyter-widgets/controls",
      "model_module_version": "1.5.0",
      "model_name": "ButtonStyleModel",
      "state": {}
     },
     "201b097b8cc04bfcb23e9938661aff41": {
      "model_module": "@jupyter-widgets/controls",
      "model_module_version": "1.5.0",
      "model_name": "LabelModel",
      "state": {
       "layout": "IPY_MODEL_ea00dbf038a9411aac26974dca6da9de",
       "style": "IPY_MODEL_a5076463788543c6b2aa5bef8487d129",
       "value": "112"
      }
     },
     "20685800b53243209493ace2d914ed79": {
      "model_module": "@jupyter-widgets/controls",
      "model_module_version": "1.5.0",
      "model_name": "GridBoxModel",
      "state": {
       "children": [
        "IPY_MODEL_1a1ac62bd04c4ce4bda99863d9943b62"
       ],
       "layout": "IPY_MODEL_7b5a91f63cd04ea5baef6ac4ec8530b6"
      }
     },
     "20b66878598846138eb7d17cdd9c37f5": {
      "model_module": "@jupyter-widgets/controls",
      "model_module_version": "1.5.0",
      "model_name": "DescriptionStyleModel",
      "state": {
       "description_width": ""
      }
     },
     "20e114270bbb48208bc2048a96ededd5": {
      "model_module": "@jupyter-widgets/base",
      "model_module_version": "1.2.0",
      "model_name": "LayoutModel",
      "state": {}
     },
     "20fdaa69cdd745508c07b102824b09cc": {
      "model_module": "@jupyter-widgets/controls",
      "model_module_version": "1.5.0",
      "model_name": "HTMLModel",
      "state": {
       "layout": "IPY_MODEL_bbd523870d404637b42ad9da2745c98b",
       "style": "IPY_MODEL_47b1cf61328c43daa5aff21690d54d49",
       "value": " 1/1 [00:09&lt;00:00,  9.34s/it]"
      }
     },
     "212e8934344545fca5c62fab07ffb205": {
      "model_module": "@jupyter-widgets/controls",
      "model_module_version": "1.5.0",
      "model_name": "HTMLModel",
      "state": {
       "layout": "IPY_MODEL_615b9c1c77d94dd0be96f64d0c1d95f1",
       "style": "IPY_MODEL_781b795912034c699736e7dd9a670698",
       "value": "15"
      }
     },
     "219d51f302a849bc81115ee4e8e1f9bf": {
      "model_module": "@jupyter-widgets/controls",
      "model_module_version": "1.5.0",
      "model_name": "ButtonStyleModel",
      "state": {}
     },
     "219e2c356ec04ce48eb381833e92feb9": {
      "model_module": "@jupyter-widgets/controls",
      "model_module_version": "1.5.0",
      "model_name": "LabelModel",
      "state": {
       "layout": "IPY_MODEL_4b907dc1cad54d75a5f38d6d779ebcce",
       "style": "IPY_MODEL_6e55140de9024f3db3f5c6c1cbdf5ac9",
       "value": "550"
      }
     },
     "21b6087fd46245d286fdcc9758665976": {
      "model_module": "@jupyter-widgets/controls",
      "model_module_version": "1.5.0",
      "model_name": "GridBoxModel",
      "state": {
       "children": [
        "IPY_MODEL_df94bf5aa39343f6a901874d30ccf16b",
        "IPY_MODEL_8654408c5caf4025b3f3a43c3654e25c",
        "IPY_MODEL_75b769bf4fe148238f42742589090365"
       ],
       "layout": "IPY_MODEL_3cdd7889a3ce4481a7597729f4dcfbba"
      }
     },
     "21f641cc559a4fa0ab1e9beb3e4cb8ed": {
      "model_module": "@jupyter-widgets/controls",
      "model_module_version": "1.5.0",
      "model_name": "FloatProgressModel",
      "state": {
       "layout": "IPY_MODEL_430892bb36d442798f4d069b2c9e976c",
       "max": 21594,
       "style": "IPY_MODEL_84fe9c96f60c4837867169dcfee2c960",
       "value": 20826
      }
     },
     "2237d393cfc54cc5af6b5c6c74bc602e": {
      "model_module": "@jupyter-widgets/controls",
      "model_module_version": "1.5.0",
      "model_name": "FloatProgressModel",
      "state": {
       "bar_style": "success",
       "layout": "IPY_MODEL_2aaad984a94e438a92ea6cb02c0ad9ca",
       "max": 5,
       "style": "IPY_MODEL_16df90bfdf9b4f178949978582e2aba4",
       "value": 5
      }
     },
     "225d2b61dd0e40d1ade13dd8c0628f51": {
      "model_module": "@jupyter-widgets/controls",
      "model_module_version": "1.5.0",
      "model_name": "DescriptionStyleModel",
      "state": {
       "description_width": ""
      }
     },
     "227069378c5a4231be7893190beabccf": {
      "model_module": "@jupyter-widgets/controls",
      "model_module_version": "1.5.0",
      "model_name": "DescriptionStyleModel",
      "state": {
       "description_width": ""
      }
     },
     "229d9080ddc642fbb1a1d0047416eb36": {
      "model_module": "@jupyter-widgets/base",
      "model_module_version": "1.2.0",
      "model_name": "LayoutModel",
      "state": {}
     },
     "22a768e0d554443b8e04375aa08c1431": {
      "model_module": "@jupyter-widgets/controls",
      "model_module_version": "1.5.0",
      "model_name": "FloatProgressModel",
      "state": {
       "layout": "IPY_MODEL_29909b522ca740a0b2766410349a4b90",
       "max": 21594,
       "style": "IPY_MODEL_325f2e7fceb54daca6f58f123113414d",
       "value": 550
      }
     },
     "22f679c5cc9b43068c00e97090dbb4c8": {
      "model_module": "@jupyter-widgets/controls",
      "model_module_version": "1.5.0",
      "model_name": "ButtonStyleModel",
      "state": {}
     },
     "230013cbd3ac43798ba8966458fc56f2": {
      "model_module": "@jupyter-widgets/base",
      "model_module_version": "1.2.0",
      "model_name": "LayoutModel",
      "state": {
       "grid_area": "widget006"
      }
     },
     "2393030ff4d14df4a5541769741fe4e3": {
      "model_module": "@jupyter-widgets/controls",
      "model_module_version": "1.5.0",
      "model_name": "HTMLModel",
      "state": {
       "layout": "IPY_MODEL_458d6ee602034995a70117b8d46b3a6e",
       "style": "IPY_MODEL_b2250ae27dfd46258edd00a60630da08",
       "value": "Distinct scripts"
      }
     },
     "2475161b92eb499ba81be4f55fbe57fd": {
      "model_module": "@jupyter-widgets/controls",
      "model_module_version": "1.5.0",
      "model_name": "HBoxModel",
      "state": {
       "children": [
        "IPY_MODEL_d9281a4863e44479be0a785db2fc6b2a",
        "IPY_MODEL_2237d393cfc54cc5af6b5c6c74bc602e",
        "IPY_MODEL_7723acf6d95c44bb8fb2a5ff5d635c3d"
       ],
       "layout": "IPY_MODEL_5c55afa51c2d4152b05fc7e39745d545"
      }
     },
     "24d0306e4610486a9a5b333fb8059af9": {
      "model_module": "@jupyter-widgets/base",
      "model_module_version": "1.2.0",
      "model_name": "LayoutModel",
      "state": {
       "grid_area": "widget005"
      }
     },
     "24ebb6e4e85e4a51b6b7d51aab068070": {
      "model_module": "@jupyter-widgets/base",
      "model_module_version": "1.2.0",
      "model_name": "LayoutModel",
      "state": {}
     },
     "25361ee149c74257970eac214bd529aa": {
      "model_module": "@jupyter-widgets/controls",
      "model_module_version": "1.5.0",
      "model_name": "FloatProgressModel",
      "state": {
       "layout": "IPY_MODEL_6afd411aebc24255b05af9747dbcd039",
       "max": 21594,
       "style": "IPY_MODEL_e9e95f68c6d04291a84a4cf0a2f28a7e",
       "value": 20826
      }
     },
     "257ad3aa18114d75ae42cc46729bbe61": {
      "model_module": "@jupyter-widgets/controls",
      "model_module_version": "1.5.0",
      "model_name": "ButtonModel",
      "state": {
       "description": "High correlation",
       "disabled": true,
       "layout": "IPY_MODEL_7dc568ab5a294e29b17da08582b0f377",
       "style": "IPY_MODEL_f28ddded5edc4db69e77ee132c3c4b07"
      }
     },
     "258b4728dbbd48748f63d6e8385635ec": {
      "model_module": "@jupyter-widgets/controls",
      "model_module_version": "1.5.0",
      "model_name": "HTMLModel",
      "state": {
       "layout": "IPY_MODEL_6c04894654cb4db59828f24f943ba7c5",
       "style": "IPY_MODEL_6824956d2e964c85b778a987ec745c7b",
       "value": "2022-03-09 22:42:22.866654"
      }
     },
     "25dcf898a2d244948eccf3f7a121b991": {
      "model_module": "@jupyter-widgets/controls",
      "model_module_version": "1.5.0",
      "model_name": "DescriptionStyleModel",
      "state": {
       "description_width": ""
      }
     },
     "25e1a9cea0f0401aafe8ad981b28401b": {
      "model_module": "@jupyter-widgets/controls",
      "model_module_version": "1.5.0",
      "model_name": "DescriptionStyleModel",
      "state": {
       "description_width": ""
      }
     },
     "25f36b0829cb428381ccd2aff04b678d": {
      "model_module": "@jupyter-widgets/base",
      "model_module_version": "1.2.0",
      "model_name": "LayoutModel",
      "state": {
       "grid_area": "widget014"
      }
     },
     "263656800f0242908f017a523bff4e10": {
      "model_module": "@jupyter-widgets/base",
      "model_module_version": "1.2.0",
      "model_name": "LayoutModel",
      "state": {}
     },
     "2662df4702c34af89c2004d67f1d1c25": {
      "model_module": "@jupyter-widgets/controls",
      "model_module_version": "1.5.0",
      "model_name": "DescriptionStyleModel",
      "state": {
       "description_width": ""
      }
     },
     "267be8983fe641a49cd8e65833f3c783": {
      "model_module": "@jupyter-widgets/controls",
      "model_module_version": "1.5.0",
      "model_name": "HTMLModel",
      "state": {
       "layout": "IPY_MODEL_92313215eee842ff96dbffae5729ecbc",
       "style": "IPY_MODEL_c42a22fbe6f04bd0b9ebe8e2fd208062",
       "value": "<a class=\"anchor\" href=\"#pp_var_6604879376318492971\"><code>To FMIS date</code></a> is an unsupported type, check if it needs cleaning or further analysis"
      }
     },
     "2685392c194146e68cb2625da5e20454": {
      "model_module": "@jupyter-widgets/controls",
      "model_module_version": "1.5.0",
      "model_name": "ButtonStyleModel",
      "state": {}
     },
     "26ca8b135ae74280928d0fead1c968be": {
      "model_module": "@jupyter-widgets/controls",
      "model_module_version": "1.5.0",
      "model_name": "HTMLModel",
      "state": {
       "layout": "IPY_MODEL_8849e2acb76c43a0955fa16c8e79eabc",
       "style": "IPY_MODEL_fc4db1e69eee47d1810cbd19855f85a5",
       "value": "<a class=\"anchor\" href=\"#pp_var_-2556068995429731859\"><code>submit  to HQ date</code></a> is an unsupported type, check if it needs cleaning or further analysis"
      }
     },
     "26fb83c7f7d349bd986a217bab573156": {
      "model_module": "@jupyter-widgets/controls",
      "model_module_version": "1.5.0",
      "model_name": "HTMLModel",
      "state": {
       "layout": "IPY_MODEL_e69cbfe9b12b4b6c9cbd63049bb5ad7b",
       "style": "IPY_MODEL_f66ccf5314af423eaa4464e6fa36ea74",
       "value": "<a class=\"anchor\" href=\"#pp_var_4855182975509944680\"><code>Status Comment</code></a> has a high cardinality: 71 distinct values"
      }
     },
     "2705793e120f4a4aa1f9aa31830c5b1b": {
      "model_module": "@jupyter-widgets/controls",
      "model_module_version": "1.5.0",
      "model_name": "DescriptionStyleModel",
      "state": {
       "description_width": ""
      }
     },
     "27068338cab749f6b56307c5468d9afe": {
      "model_module": "@jupyter-widgets/controls",
      "model_module_version": "1.5.0",
      "model_name": "DescriptionStyleModel",
      "state": {
       "description_width": ""
      }
     },
     "2729156c0d6d4b0ab7f6a9bba2a3f553": {
      "model_module": "@jupyter-widgets/controls",
      "model_module_version": "1.5.0",
      "model_name": "HTMLModel",
      "state": {
       "layout": "IPY_MODEL_f4639c318a9645f2b881318d16c21344",
       "style": "IPY_MODEL_534b7cb08a3a4f43a174195a4385cafa",
       "value": "0.0%"
      }
     },
     "27630c5774f94fcf8c09e968177f8011": {
      "model_module": "@jupyter-widgets/controls",
      "model_module_version": "1.5.0",
      "model_name": "FloatProgressModel",
      "state": {
       "layout": "IPY_MODEL_bd733872e68b47f09e1f939cd7e7f634",
       "max": 22144,
       "style": "IPY_MODEL_a95f78e1b50b480db199354ddf60bc73",
       "value": 2
      }
     },
     "276f66648fec44529d55c6d0907f6edd": {
      "model_module": "@jupyter-widgets/controls",
      "model_module_version": "1.5.0",
      "model_name": "LabelModel",
      "state": {
       "layout": "IPY_MODEL_c468e5d0f7904fef83c22d47b5ed2ab0",
       "style": "IPY_MODEL_7601126b8c75400e84b5a040636888f3",
       "value": "2"
      }
     },
     "27a7b9117e264bad9abc151f3162b98a": {
      "model_module": "@jupyter-widgets/controls",
      "model_module_version": "1.5.0",
      "model_name": "ButtonStyleModel",
      "state": {}
     },
     "27bd11c55e554f868ceab8c98cc6bcbb": {
      "model_module": "@jupyter-widgets/base",
      "model_module_version": "1.2.0",
      "model_name": "LayoutModel",
      "state": {}
     },
     "27eff118caab4811a38c42adca32fc5c": {
      "model_module": "@jupyter-widgets/base",
      "model_module_version": "1.2.0",
      "model_name": "LayoutModel",
      "state": {}
     },
     "2870dbf2174f444ea88e0666b0540b04": {
      "model_module": "@jupyter-widgets/controls",
      "model_module_version": "1.5.0",
      "model_name": "LabelModel",
      "state": {
       "layout": "IPY_MODEL_3260106774474da2b3a11638cb11a45b",
       "style": "IPY_MODEL_47335860076e40c596d50dc2db7d9394",
       "value": "20826"
      }
     },
     "28c2ba9a6fcf4074b078cf27be5e603e": {
      "model_module": "@jupyter-widgets/base",
      "model_module_version": "1.2.0",
      "model_name": "LayoutModel",
      "state": {
       "grid_area": "widget005"
      }
     },
     "293c4b377b144a39a42ac4205598fd04": {
      "model_module": "@jupyter-widgets/controls",
      "model_module_version": "1.5.0",
      "model_name": "DescriptionStyleModel",
      "state": {
       "description_width": ""
      }
     },
     "295f0a48d78147aab1299ee22cfdca01": {
      "model_module": "@jupyter-widgets/base",
      "model_module_version": "1.2.0",
      "model_name": "LayoutModel",
      "state": {
       "grid_area": "widget008"
      }
     },
     "296a9cc9e5a04eedb829e58912a86d82": {
      "model_module": "@jupyter-widgets/base",
      "model_module_version": "1.2.0",
      "model_name": "LayoutModel",
      "state": {}
     },
     "297058c6fa3843cba59d65c6c25230dc": {
      "model_module": "@jupyter-widgets/controls",
      "model_module_version": "1.5.0",
      "model_name": "HTMLModel",
      "state": {
       "layout": "IPY_MODEL_16100a53e0eb4a05873cf235b56d8174",
       "style": "IPY_MODEL_46826ac89f9b48f6af15faf785455017",
       "value": "240.0 B"
      }
     },
     "297ecf5810c44666aca72031c667956c": {
      "model_module": "@jupyter-widgets/base",
      "model_module_version": "1.2.0",
      "model_name": "LayoutModel",
      "state": {
       "grid_area": "widget004"
      }
     },
     "29909b522ca740a0b2766410349a4b90": {
      "model_module": "@jupyter-widgets/base",
      "model_module_version": "1.2.0",
      "model_name": "LayoutModel",
      "state": {
       "grid_area": "widget005"
      }
     },
     "299388b2dbcd4f83866c789a54ccea4b": {
      "model_module": "@jupyter-widgets/controls",
      "model_module_version": "1.5.0",
      "model_name": "HTMLModel",
      "state": {
       "layout": "IPY_MODEL_6da18965392a4cf5bb94b9a8fbf6df98",
       "style": "IPY_MODEL_293c4b377b144a39a42ac4205598fd04",
       "value": "Distinct characters"
      }
     },
     "29a48af88c734ff4980cad7489d58396": {
      "model_module": "@jupyter-widgets/controls",
      "model_module_version": "1.5.0",
      "model_name": "HBoxModel",
      "state": {
       "children": [
        "IPY_MODEL_1173f5a07c1e44629288c1c35df69a47",
        "IPY_MODEL_ec36fe4f64334848a9f71fab7a61c50b"
       ],
       "layout": "IPY_MODEL_8fc0f1df5450416799bb81fe9f21c720"
      }
     },
     "29c979d0407a49feaa0737ae32cbdfe5": {
      "model_module": "@jupyter-widgets/controls",
      "model_module_version": "1.5.0",
      "model_name": "DescriptionStyleModel",
      "state": {
       "description_width": ""
      }
     },
     "29d60a48b68740f2a40e0fadad7e4dc4": {
      "model_module": "@jupyter-widgets/controls",
      "model_module_version": "1.5.0",
      "model_name": "DescriptionStyleModel",
      "state": {
       "description_width": ""
      }
     },
     "2a2402ea811f41108c14d17be9b06c8a": {
      "model_module": "@jupyter-widgets/base",
      "model_module_version": "1.2.0",
      "model_name": "LayoutModel",
      "state": {
       "grid_area": "widget007"
      }
     },
     "2aa87e481d21476fba14a4442fb99595": {
      "model_module": "@jupyter-widgets/base",
      "model_module_version": "1.2.0",
      "model_name": "LayoutModel",
      "state": {
       "grid_template_columns": "50% 50%",
       "width": "100%"
      }
     },
     "2aa96b2d8519411ba66f40d72af89d2e": {
      "model_module": "@jupyter-widgets/controls",
      "model_module_version": "1.5.0",
      "model_name": "DescriptionStyleModel",
      "state": {
       "description_width": ""
      }
     },
     "2aaad984a94e438a92ea6cb02c0ad9ca": {
      "model_module": "@jupyter-widgets/base",
      "model_module_version": "1.2.0",
      "model_name": "LayoutModel",
      "state": {}
     },
     "2ad27b0463894014a917b9282590f330": {
      "model_module": "@jupyter-widgets/base",
      "model_module_version": "1.2.0",
      "model_name": "LayoutModel",
      "state": {
       "grid_area": "widget002"
      }
     },
     "2afd1882d64c460db80cf086e9ecb3ff": {
      "model_module": "@jupyter-widgets/controls",
      "model_module_version": "1.5.0",
      "model_name": "DescriptionStyleModel",
      "state": {
       "description_width": ""
      }
     },
     "2b055a53702d4ca5acda664905972832": {
      "model_module": "@jupyter-widgets/base",
      "model_module_version": "1.2.0",
      "model_name": "LayoutModel",
      "state": {}
     },
     "2ba8d309e3ea483eb35884bc53c788fd": {
      "model_module": "@jupyter-widgets/controls",
      "model_module_version": "1.5.0",
      "model_name": "DescriptionStyleModel",
      "state": {
       "description_width": ""
      }
     },
     "2bb33d2c0d1c43a8b1d30e4aa8827edb": {
      "model_module": "@jupyter-widgets/controls",
      "model_module_version": "1.5.0",
      "model_name": "FloatProgressModel",
      "state": {
       "layout": "IPY_MODEL_5933e19725c74d0cb7af12eb57b0b19c",
       "max": 22144,
       "style": "IPY_MODEL_fae5b1b9ec7b462794d6a6596ae98fb9",
       "value": 19
      }
     },
     "2c0a7a92784840b9a111864cabb613c8": {
      "model_module": "@jupyter-widgets/controls",
      "model_module_version": "1.5.0",
      "model_name": "HTMLModel",
      "state": {
       "layout": "IPY_MODEL_824a53e9149843c1992c726aaf1cc493",
       "style": "IPY_MODEL_5f67fcbbbff44ceeb8220e4895330f35",
       "value": "Duration"
      }
     },
     "2c2466b1a8864f0c889816779b34fffb": {
      "model_module": "@jupyter-widgets/controls",
      "model_module_version": "1.5.0",
      "model_name": "DescriptionStyleModel",
      "state": {
       "description_width": ""
      }
     },
     "2c75114c933f4525a6f5ea503801e284": {
      "model_module": "@jupyter-widgets/controls",
      "model_module_version": "1.5.0",
      "model_name": "ButtonStyleModel",
      "state": {}
     },
     "2cf07e5fbab142389616daabc2754a57": {
      "model_module": "@jupyter-widgets/controls",
      "model_module_version": "1.5.0",
      "model_name": "LabelModel",
      "state": {
       "layout": "IPY_MODEL_08b08fcbcf484357a3e4e02d7b6fbb4a",
       "style": "IPY_MODEL_6086664da89b4b8c956665d0229d1cef",
       "value": "hq"
      }
     },
     "2d0664cfb05f486cb16e97724c8f327f": {
      "model_module": "@jupyter-widgets/controls",
      "model_module_version": "1.5.0",
      "model_name": "FloatProgressModel",
      "state": {
       "bar_style": "success",
       "layout": "IPY_MODEL_5e80fda0910c4bf69771c88e5a31537f",
       "max": 1,
       "style": "IPY_MODEL_da18ecabac3341caa7774ef586ffb5dd",
       "value": 1
      }
     },
     "2d47d509eef54e46b6a7773693c6ec08": {
      "model_module": "@jupyter-widgets/base",
      "model_module_version": "1.2.0",
      "model_name": "LayoutModel",
      "state": {
       "grid_area": "widget003"
      }
     },
     "2d4cdd78c82b46ceb286eab6a1467b3a": {
      "model_module": "@jupyter-widgets/controls",
      "model_module_version": "1.5.0",
      "model_name": "DescriptionStyleModel",
      "state": {
       "description_width": ""
      }
     },
     "2daaf28ecab24567be72812d50e90e26": {
      "model_module": "@jupyter-widgets/base",
      "model_module_version": "1.2.0",
      "model_name": "LayoutModel",
      "state": {
       "grid_template_columns": "100%",
       "width": "100%"
      }
     },
     "2dac0b9dfa9d4199ab0b5398faced2e1": {
      "model_module": "@jupyter-widgets/base",
      "model_module_version": "1.2.0",
      "model_name": "LayoutModel",
      "state": {
       "grid_area": "widget004"
      }
     },
     "2dc2e862a008450d86959817ac86ff62": {
      "model_module": "@jupyter-widgets/base",
      "model_module_version": "1.2.0",
      "model_name": "LayoutModel",
      "state": {
       "grid_template_areas": "\"widget001 widget002\"\n\"widget003 widget004\"\n\"widget005 widget006\"",
       "grid_template_columns": "repeat(2, 1fr)",
       "grid_template_rows": "repeat(3, 1fr)"
      }
     },
     "2dd887cf6cb8450db33199e7d5e3169e": {
      "model_module": "@jupyter-widgets/controls",
      "model_module_version": "1.5.0",
      "model_name": "DescriptionStyleModel",
      "state": {
       "description_width": ""
      }
     },
     "2ddfd045bf55467e885ebcb50348ee3b": {
      "model_module": "@jupyter-widgets/base",
      "model_module_version": "1.2.0",
      "model_name": "LayoutModel",
      "state": {
       "grid_area": "widget003"
      }
     },
     "2e26165f0b3c43b3bf4093befe0d9e8a": {
      "model_module": "@jupyter-widgets/controls",
      "model_module_version": "1.5.0",
      "model_name": "ButtonStyleModel",
      "state": {}
     },
     "2e620ffdeb42478793880a6be7187bb3": {
      "model_module": "@jupyter-widgets/controls",
      "model_module_version": "1.5.0",
      "model_name": "ButtonStyleModel",
      "state": {}
     },
     "2ee2098a2f584a39ade777fea8913245": {
      "model_module": "@jupyter-widgets/base",
      "model_module_version": "1.2.0",
      "model_name": "LayoutModel",
      "state": {}
     },
     "2ee21dae6297470d8747c18e48699763": {
      "model_module": "@jupyter-widgets/controls",
      "model_module_version": "1.5.0",
      "model_name": "LabelModel",
      "state": {
       "layout": "IPY_MODEL_eefa19946a324060881945f9b1486b18",
       "style": "IPY_MODEL_bd91d0d32dee45e6a61cd7cd07ae9b7d",
       "value": "FMIS"
      }
     },
     "2ef88e3422934b21ad08d48371e92c60": {
      "model_module": "@jupyter-widgets/controls",
      "model_module_version": "1.5.0",
      "model_name": "HTMLModel",
      "state": {
       "layout": "IPY_MODEL_d816c6a809754841b6c33372cb73e896",
       "style": "IPY_MODEL_0528ccabac5e4a4eacbd1950395ba27e",
       "value": "<a class=\"anchor\" href=\"#pp_var_4839277149140286481\">\n        <code>Fed requested</code>\n    </a> is highly correlated with <code>Status Comment</code>"
      }
     },
     "2f43317ecfb94509aa78513291e941af": {
      "model_module": "@jupyter-widgets/controls",
      "model_module_version": "1.5.0",
      "model_name": "DescriptionStyleModel",
      "state": {
       "description_width": ""
      }
     },
     "2fce81ce970a4e7289245c49feb39589": {
      "model_module": "@jupyter-widgets/controls",
      "model_module_version": "1.5.0",
      "model_name": "DescriptionStyleModel",
      "state": {
       "description_width": ""
      }
     },
     "301276c6207745739dd9e582d5fe949b": {
      "model_module": "@jupyter-widgets/base",
      "model_module_version": "1.2.0",
      "model_name": "LayoutModel",
      "state": {
       "grid_area": "widget004"
      }
     },
     "3013a4c876f4404793db5f42b20026c9": {
      "model_module": "@jupyter-widgets/base",
      "model_module_version": "1.2.0",
      "model_name": "LayoutModel",
      "state": {
       "grid_area": "widget007"
      }
     },
     "3020e7e8b16b4a8bb9df5e7eff6bc8d2": {
      "model_module": "@jupyter-widgets/base",
      "model_module_version": "1.2.0",
      "model_name": "LayoutModel",
      "state": {}
     },
     "306e936aea9341b2a6df75cfbfc10a00": {
      "model_module": "@jupyter-widgets/base",
      "model_module_version": "1.2.0",
      "model_name": "LayoutModel",
      "state": {}
     },
     "30fe022317e54591b9e33a42a69cdcc0": {
      "model_module": "@jupyter-widgets/controls",
      "model_module_version": "1.5.0",
      "model_name": "GridBoxModel",
      "state": {
       "children": [
        "IPY_MODEL_ec00f9116b8f4a2db3f712b25cf0e9f5",
        "IPY_MODEL_ec4c963f84e64ce4a6884332968baf96",
        "IPY_MODEL_63b047f6127f4da5909f7c86694d82b6",
        "IPY_MODEL_addda4d1ef5b43a7af73742c4c0885f0"
       ],
       "layout": "IPY_MODEL_873662b5b9c341bfb11286da84357ed2"
      }
     },
     "317a1ec8e85d40dd8ad67c0b9a89946d": {
      "model_module": "@jupyter-widgets/base",
      "model_module_version": "1.2.0",
      "model_name": "LayoutModel",
      "state": {
       "grid_area": "widget003"
      }
     },
     "3193e8f7f38747baa3b71a92480fabc9": {
      "model_module": "@jupyter-widgets/controls",
      "model_module_version": "1.5.0",
      "model_name": "DescriptionStyleModel",
      "state": {
       "description_width": ""
      }
     },
     "31a781d7b9e74ed18fd2a7693c8db126": {
      "model_module": "@jupyter-widgets/base",
      "model_module_version": "1.2.0",
      "model_name": "LayoutModel",
      "state": {}
     },
     "32264507abb549daae32e26e4b1a4f9c": {
      "model_module": "@jupyter-widgets/controls",
      "model_module_version": "1.5.0",
      "model_name": "DescriptionStyleModel",
      "state": {
       "description_width": ""
      }
     },
     "323369663a2b45a89aa136fed8af11eb": {
      "model_module": "@jupyter-widgets/controls",
      "model_module_version": "1.5.0",
      "model_name": "DescriptionStyleModel",
      "state": {
       "description_width": ""
      }
     },
     "325f2e7fceb54daca6f58f123113414d": {
      "model_module": "@jupyter-widgets/controls",
      "model_module_version": "1.5.0",
      "model_name": "ProgressStyleModel",
      "state": {
       "description_width": ""
      }
     },
     "3260106774474da2b3a11638cb11a45b": {
      "model_module": "@jupyter-widgets/base",
      "model_module_version": "1.2.0",
      "model_name": "LayoutModel",
      "state": {
       "grid_area": "widget003"
      }
     },
     "3266d1dc5fac4155b3982df10ff89ac0": {
      "model_module": "@jupyter-widgets/controls",
      "model_module_version": "1.5.0",
      "model_name": "HTMLModel",
      "state": {
       "layout": "IPY_MODEL_fbda5e7ad86640188cfa9064863dd53b",
       "style": "IPY_MODEL_4b07bac68d024ec198310288cf9b52e4",
       "value": "<a class=\"anchor\" href=\"#pp_var_-5722233049682501385\"><code>Waiting Days</code></a> has 21395 (99.1%) missing values"
      }
     },
     "3277677af1374d75912bdc36a1216d34": {
      "model_module": "@jupyter-widgets/controls",
      "model_module_version": "1.5.0",
      "model_name": "ButtonStyleModel",
      "state": {}
     },
     "3294ac5cd1154e19b597f8143439fd8d": {
      "model_module": "@jupyter-widgets/controls",
      "model_module_version": "1.5.0",
      "model_name": "LabelModel",
      "state": {
       "layout": "IPY_MODEL_1f79b08c8b814009bc17c0050f8aae05",
       "style": "IPY_MODEL_0e306b301f374894a4643380367d849a",
       "value": "fmis"
      }
     },
     "32bd09f160f14d1080c89d857bea1a43": {
      "model_module": "@jupyter-widgets/base",
      "model_module_version": "1.2.0",
      "model_name": "LayoutModel",
      "state": {
       "grid_template_columns": "100%",
       "width": "100%"
      }
     },
     "32ea32f3722f43d8a19bd8bde2a68a71": {
      "model_module": "@jupyter-widgets/controls",
      "model_module_version": "1.5.0",
      "model_name": "DescriptionStyleModel",
      "state": {
       "description_width": ""
      }
     },
     "32f57d8ee45e45f681d43f2c91ddfcf2": {
      "model_module": "@jupyter-widgets/base",
      "model_module_version": "1.2.0",
      "model_name": "LayoutModel",
      "state": {
       "grid_area": "widget008"
      }
     },
     "330ed5445ee34ae5a035f01a81ec428f": {
      "model_module": "@jupyter-widgets/base",
      "model_module_version": "1.2.0",
      "model_name": "LayoutModel",
      "state": {}
     },
     "331ae05bb90d42f294ff48cdef60c544": {
      "model_module": "@jupyter-widgets/base",
      "model_module_version": "1.2.0",
      "model_name": "LayoutModel",
      "state": {
       "grid_area": "widget007"
      }
     },
     "335bdbd90fb145a797f33cc80e6d3c9d": {
      "model_module": "@jupyter-widgets/controls",
      "model_module_version": "1.5.0",
      "model_name": "DescriptionStyleModel",
      "state": {
       "description_width": ""
      }
     },
     "33ca030d3d0c44fe9709482fea5aa47f": {
      "model_module": "@jupyter-widgets/controls",
      "model_module_version": "1.5.0",
      "model_name": "HTMLModel",
      "state": {
       "layout": "IPY_MODEL_f19730aceb9e466cb980c8f0848161cb",
       "style": "IPY_MODEL_6a39e4c5908142a0aa1854d71e20aa8e",
       "value": "0 <a title=\"Unicode blocks (click for more information)\" href=\"https://en.wikipedia.org/wiki/Unicode_block\" target=\"_blank\"><span class=\"badge pull-right\" style=\"color:#fff;background-color:#337ab7;\" title=\"Unicode blocks (click for more information)\">?</span></a>"
      }
     },
     "33d4b8a929fc4ec69ad48d7627b2e3f4": {
      "model_module": "@jupyter-widgets/base",
      "model_module_version": "1.2.0",
      "model_name": "LayoutModel",
      "state": {
       "grid_area": "widget006"
      }
     },
     "33f6a90b6fe94354a7b114ab7c77d40c": {
      "model_module": "@jupyter-widgets/base",
      "model_module_version": "1.2.0",
      "model_name": "LayoutModel",
      "state": {}
     },
     "34227384c92041fd888e88b98b961c35": {
      "model_module": "@jupyter-widgets/controls",
      "model_module_version": "1.5.0",
      "model_name": "ProgressStyleModel",
      "state": {
       "description_width": ""
      }
     },
     "344ca02b53c6447e947e1b8d9bad18f0": {
      "model_module": "@jupyter-widgets/base",
      "model_module_version": "1.2.0",
      "model_name": "LayoutModel",
      "state": {
       "grid_area": "widget010"
      }
     },
     "34504b127ffd4276b9a2d9c310438a68": {
      "model_module": "@jupyter-widgets/base",
      "model_module_version": "1.2.0",
      "model_name": "LayoutModel",
      "state": {
       "grid_area": "widget008"
      }
     },
     "3483b8c2d5fa4990985094da51463264": {
      "model_module": "@jupyter-widgets/controls",
      "model_module_version": "1.5.0",
      "model_name": "HTMLModel",
      "state": {
       "layout": "IPY_MODEL_5d2e9ee8315946da80a47f5e188afeab",
       "style": "IPY_MODEL_92f3cbb1b9f14140a7dbf4ce4b4dce14",
       "value": "Distinct blocks"
      }
     },
     "34b6797762c54b28b6bca353a83e010b": {
      "model_module": "@jupyter-widgets/base",
      "model_module_version": "1.2.0",
      "model_name": "LayoutModel",
      "state": {}
     },
     "34dd98e01d13495b88705b133cae33e8": {
      "model_module": "@jupyter-widgets/base",
      "model_module_version": "1.2.0",
      "model_name": "LayoutModel",
      "state": {}
     },
     "35114f09302b4788b35a2c9d9ae01b29": {
      "model_module": "@jupyter-widgets/base",
      "model_module_version": "1.2.0",
      "model_name": "LayoutModel",
      "state": {}
     },
     "351cbace79ff4787994e461729ebe10e": {
      "model_module": "@jupyter-widgets/base",
      "model_module_version": "1.2.0",
      "model_name": "LayoutModel",
      "state": {
       "grid_area": "widget001"
      }
     },
     "35468ff88a6a4724ad5b53a233df7f57": {
      "model_module": "@jupyter-widgets/controls",
      "model_module_version": "1.5.0",
      "model_name": "DescriptionStyleModel",
      "state": {
       "description_width": ""
      }
     },
     "3587ae0d14cd416989757b16ea91ab5c": {
      "model_module": "@jupyter-widgets/base",
      "model_module_version": "1.2.0",
      "model_name": "LayoutModel",
      "state": {
       "grid_area": "widget008"
      }
     },
     "35a51d7506de4cf2b18b42266a9b8398": {
      "model_module": "@jupyter-widgets/controls",
      "model_module_version": "1.5.0",
      "model_name": "ProgressStyleModel",
      "state": {
       "description_width": ""
      }
     },
     "36152a71dfec4dda9ca43e08d55846c9": {
      "model_module": "@jupyter-widgets/controls",
      "model_module_version": "1.5.0",
      "model_name": "DescriptionStyleModel",
      "state": {
       "description_width": ""
      }
     },
     "3621ace9cc564fb48f5f273683724f20": {
      "model_module": "@jupyter-widgets/controls",
      "model_module_version": "1.5.0",
      "model_name": "DescriptionStyleModel",
      "state": {
       "description_width": ""
      }
     },
     "36302f1cc14c4533ae3191927765b16c": {
      "model_module": "@jupyter-widgets/controls",
      "model_module_version": "1.5.0",
      "model_name": "HTMLModel",
      "state": {
       "layout": "IPY_MODEL_e9caff005cdd4ff6a657d43315f10f69",
       "style": "IPY_MODEL_6abf953594cd4c08ac4b361d1111a2ab",
       "value": "6"
      }
     },
     "364762a84c1f40b4a42d60de69efddcb": {
      "model_module": "@jupyter-widgets/controls",
      "model_module_version": "1.5.0",
      "model_name": "DescriptionStyleModel",
      "state": {
       "description_width": ""
      }
     },
     "364b8671c3654d4ab4de36cf1438038f": {
      "model_module": "@jupyter-widgets/base",
      "model_module_version": "1.2.0",
      "model_name": "LayoutModel",
      "state": {
       "grid_area": "widget008"
      }
     },
     "36625869230142578d19b9f872f6e855": {
      "model_module": "@jupyter-widgets/controls",
      "model_module_version": "1.5.0",
      "model_name": "ButtonModel",
      "state": {
       "button_style": "info",
       "description": "Skewed",
       "disabled": true,
       "layout": "IPY_MODEL_77d2de1fdc484f8cac876529dbaec89a",
       "style": "IPY_MODEL_d65e11008007411fa0d4a2fb45325182"
      }
     },
     "366f21d3b13d444088589ed0d351276e": {
      "model_module": "@jupyter-widgets/base",
      "model_module_version": "1.2.0",
      "model_name": "LayoutModel",
      "state": {
       "grid_area": "widget011"
      }
     },
     "36a1643638ad488480b1ac7a7852c87e": {
      "model_module": "@jupyter-widgets/base",
      "model_module_version": "1.2.0",
      "model_name": "LayoutModel",
      "state": {
       "grid_area": "widget006"
      }
     },
     "36d42a6f78df41b082e7827b7327c405": {
      "model_module": "@jupyter-widgets/controls",
      "model_module_version": "1.5.0",
      "model_name": "DescriptionStyleModel",
      "state": {
       "description_width": ""
      }
     },
     "36e5dd8c155046048cfe1579a7f1d49b": {
      "model_module": "@jupyter-widgets/base",
      "model_module_version": "1.2.0",
      "model_name": "LayoutModel",
      "state": {
       "grid_area": "widget004"
      }
     },
     "36fc2586970e41e3b4e5685f310e9d4e": {
      "model_module": "@jupyter-widgets/controls",
      "model_module_version": "1.5.0",
      "model_name": "HTMLModel",
      "state": {
       "layout": "IPY_MODEL_efc38d22b1014d44b72b9669c89b84b2",
       "style": "IPY_MODEL_006d1a2ea13148719ec5c25a976456e9",
       "value": "Analysis started"
      }
     },
     "372eecb9debf4dc78698b6df776cf710": {
      "model_module": "@jupyter-widgets/base",
      "model_module_version": "1.2.0",
      "model_name": "LayoutModel",
      "state": {}
     },
     "375b7f022f2c4ec1b8beb0ae95dcccd5": {
      "model_module": "@jupyter-widgets/controls",
      "model_module_version": "1.5.0",
      "model_name": "ButtonModel",
      "state": {
       "button_style": "info",
       "description": "Missing",
       "disabled": true,
       "layout": "IPY_MODEL_d3578e820f954f2f93da83bff02c0cb3",
       "style": "IPY_MODEL_ae09c0f5270b41dc856a263031177803"
      }
     },
     "3783859f649a41e8b0552f9c08295b04": {
      "model_module": "@jupyter-widgets/controls",
      "model_module_version": "1.5.0",
      "model_name": "HTMLModel",
      "state": {
       "layout": "IPY_MODEL_33d4b8a929fc4ec69ad48d7627b2e3f4",
       "style": "IPY_MODEL_13fb7938655d47cdacda010c53b29015",
       "value": "21.09 seconds"
      }
     },
     "37a74829e7334bce85ca8b0b4969f925": {
      "model_module": "@jupyter-widgets/controls",
      "model_module_version": "1.5.0",
      "model_name": "DescriptionStyleModel",
      "state": {
       "description_width": ""
      }
     },
     "37b3bca44202421f82da7a062b648954": {
      "model_module": "@jupyter-widgets/controls",
      "model_module_version": "1.5.0",
      "model_name": "DescriptionStyleModel",
      "state": {
       "description_width": ""
      }
     },
     "37e0818194e445fba6dfe59b79ce3866": {
      "model_module": "@jupyter-widgets/base",
      "model_module_version": "1.2.0",
      "model_name": "LayoutModel",
      "state": {}
     },
     "37e580b873994de882f7c0dcc98c2cd4": {
      "model_module": "@jupyter-widgets/controls",
      "model_module_version": "1.5.0",
      "model_name": "HTMLModel",
      "state": {
       "layout": "IPY_MODEL_4883bc38982848bf8574d8dcf11b98b9",
       "style": "IPY_MODEL_9a4333e6bdd144aeb0609a3c5542ec1a",
       "value": "Missing"
      }
     },
     "37e852df44b546a3a273858e13844306": {
      "model_module": "@jupyter-widgets/controls",
      "model_module_version": "1.5.0",
      "model_name": "DescriptionStyleModel",
      "state": {
       "description_width": ""
      }
     },
     "38018cf05d4748ef8f9638995f854e47": {
      "model_module": "@jupyter-widgets/base",
      "model_module_version": "1.2.0",
      "model_name": "LayoutModel",
      "state": {}
     },
     "38131b21ec184abe876429f9897c528c": {
      "model_module": "@jupyter-widgets/controls",
      "model_module_version": "1.5.0",
      "model_name": "VBoxModel",
      "state": {
       "children": [
        "IPY_MODEL_6b0d8e76eef746929a02dabda75f2ebc",
        "IPY_MODEL_6744c61e7db7417b942adfb274e81cfe"
       ],
       "layout": "IPY_MODEL_7baee83e07004d8eade571762b3c54f1"
      }
     },
     "381b9114f890402282ab7a4258d489a0": {
      "model_module": "@jupyter-widgets/controls",
      "model_module_version": "1.5.0",
      "model_name": "HTMLModel",
      "state": {
       "layout": "IPY_MODEL_ecc6f3f85ca44b7d858e67e06112777a",
       "style": "IPY_MODEL_623e4bd46cfd431c8bd795c7e8abfc53",
       "value": "Render widgets:   0%"
      }
     },
     "38250b7e7b42494f8d8d49d18ff3c52c": {
      "model_module": "@jupyter-widgets/controls",
      "model_module_version": "1.5.0",
      "model_name": "HTMLModel",
      "state": {
       "layout": "IPY_MODEL_e43c547e15864907afd7091da326417d",
       "style": "IPY_MODEL_a128a87a1f1247118d57f264026ef2b4",
       "value": "Generate report structure: 100%"
      }
     },
     "382b37c17af14c8d8a2c326cd14a6c5c": {
      "model_module": "@jupyter-widgets/base",
      "model_module_version": "1.2.0",
      "model_name": "LayoutModel",
      "state": {}
     },
     "38480b7422f74d3e8548eac9c3f9ec06": {
      "model_module": "@jupyter-widgets/base",
      "model_module_version": "1.2.0",
      "model_name": "LayoutModel",
      "state": {
       "grid_area": "widget008"
      }
     },
     "387384cbdca64f0fab23d72b8cc5fcf2": {
      "model_module": "@jupyter-widgets/controls",
      "model_module_version": "1.5.0",
      "model_name": "ButtonStyleModel",
      "state": {}
     },
     "38d3a23f8b77462abc29e6d134404585": {
      "model_module": "@jupyter-widgets/base",
      "model_module_version": "1.2.0",
      "model_name": "LayoutModel",
      "state": {
       "grid_area": "widget010"
      }
     },
     "38e61cc591974e72aacec95b259a9175": {
      "model_module": "@jupyter-widgets/controls",
      "model_module_version": "1.5.0",
      "model_name": "GridBoxModel",
      "state": {
       "children": [
        "IPY_MODEL_63793d1553344e85a60b6df6d5bfa61c",
        "IPY_MODEL_75214c77f72c409c89f747b91ca15974",
        "IPY_MODEL_81a8f799f93b49fc8e5440344f383df5",
        "IPY_MODEL_258b4728dbbd48748f63d6e8385635ec",
        "IPY_MODEL_c84c8c69650d4f8b8497a258e25090c7",
        "IPY_MODEL_3783859f649a41e8b0552f9c08295b04",
        "IPY_MODEL_0415ca4bd217498980a62cd813249ef4",
        "IPY_MODEL_0db57d34d40e4d22a941b27ce2b25353",
        "IPY_MODEL_c973a133c27e4c108866c379d5cf97b6",
        "IPY_MODEL_5bb3e91281e844c8bf6110c7112fb667"
       ],
       "layout": "IPY_MODEL_4577ba91f50d4d1195f0f2009809f0ce"
      }
     },
     "391036144b35445698845230f1962577": {
      "model_module": "@jupyter-widgets/controls",
      "model_module_version": "1.5.0",
      "model_name": "HTMLModel",
      "state": {
       "layout": "IPY_MODEL_76d5211bdab647999a3b761d07c19979",
       "style": "IPY_MODEL_b0c461eeaec44d10854742685b4824a7",
       "value": "0"
      }
     },
     "39cc195357cc462aab36da40ebb8dda0": {
      "model_module": "@jupyter-widgets/controls",
      "model_module_version": "1.5.0",
      "model_name": "LabelModel",
      "state": {
       "layout": "IPY_MODEL_fca4c7c3d11b477d9906299947bb426d",
       "style": "IPY_MODEL_b4bd2e4630aa4ae18ccf5f89c81eb87f",
       "value": "fta"
      }
     },
     "3a2e996b8a1540a3961612d184d853b3": {
      "model_module": "@jupyter-widgets/controls",
      "model_module_version": "1.5.0",
      "model_name": "ButtonStyleModel",
      "state": {}
     },
     "3a561d5809b84be3aee1fdcbac0d1eb9": {
      "model_module": "@jupyter-widgets/base",
      "model_module_version": "1.2.0",
      "model_name": "LayoutModel",
      "state": {
       "grid_area": "widget007"
      }
     },
     "3a7e3f79bfff467b8e7cc75bb0dd971c": {
      "model_module": "@jupyter-widgets/controls",
      "model_module_version": "1.5.0",
      "model_name": "HTMLModel",
      "state": {
       "layout": "IPY_MODEL_550171293505488fa547b276e1872b25",
       "style": "IPY_MODEL_364762a84c1f40b4a42d60de69efddcb",
       "value": "0"
      }
     },
     "3a848bdf643f4972a46d456652ec87f9": {
      "model_module": "@jupyter-widgets/controls",
      "model_module_version": "1.5.0",
      "model_name": "HTMLModel",
      "state": {
       "layout": "IPY_MODEL_f151d31e847e4d0da2ccb6da553cc421",
       "style": "IPY_MODEL_e7acf29866c34af7915fcc5b118e89e9",
       "value": "Distinct scripts"
      }
     },
     "3a99da0fa8034191bf1afada25885708": {
      "model_module": "@jupyter-widgets/base",
      "model_module_version": "1.2.0",
      "model_name": "LayoutModel",
      "state": {}
     },
     "3aced77e233649a8b4a6934bca7f02ab": {
      "model_module": "@jupyter-widgets/controls",
      "model_module_version": "1.5.0",
      "model_name": "DescriptionStyleModel",
      "state": {
       "description_width": ""
      }
     },
     "3b001c462b154660812c3d33d883f476": {
      "model_module": "@jupyter-widgets/controls",
      "model_module_version": "1.5.0",
      "model_name": "DescriptionStyleModel",
      "state": {
       "description_width": ""
      }
     },
     "3b99d901ea7742d79b7ea0b47182b828": {
      "model_module": "@jupyter-widgets/base",
      "model_module_version": "1.2.0",
      "model_name": "LayoutModel",
      "state": {}
     },
     "3c80206fc8ce4bf0805ba89e604dfefb": {
      "model_module": "@jupyter-widgets/controls",
      "model_module_version": "1.5.0",
      "model_name": "DescriptionStyleModel",
      "state": {
       "description_width": ""
      }
     },
     "3c832390ac5b468193554cb99e5e7cf6": {
      "model_module": "@jupyter-widgets/controls",
      "model_module_version": "1.5.0",
      "model_name": "DescriptionStyleModel",
      "state": {
       "description_width": ""
      }
     },
     "3c847d4b41fe437e93356eec01976cc5": {
      "model_module": "@jupyter-widgets/controls",
      "model_module_version": "1.5.0",
      "model_name": "DescriptionStyleModel",
      "state": {
       "description_width": ""
      }
     },
     "3cdd7889a3ce4481a7597729f4dcfbba": {
      "model_module": "@jupyter-widgets/base",
      "model_module_version": "1.2.0",
      "model_name": "LayoutModel",
      "state": {
       "grid_template_columns": "25% 25% 50%",
       "width": "100%"
      }
     },
     "3cf8c96634694839afa4ab4141b0a36c": {
      "model_module": "@jupyter-widgets/controls",
      "model_module_version": "1.5.0",
      "model_name": "DescriptionStyleModel",
      "state": {
       "description_width": ""
      }
     },
     "3cfe75ac4def403fb2cf17b102a82e5f": {
      "model_module": "@jupyter-widgets/base",
      "model_module_version": "1.2.0",
      "model_name": "LayoutModel",
      "state": {}
     },
     "3d2f3b4670c6433cb64471a0a57b67f0": {
      "model_module": "@jupyter-widgets/controls",
      "model_module_version": "1.5.0",
      "model_name": "DescriptionStyleModel",
      "state": {
       "description_width": ""
      }
     },
     "3d43f944a83a4383b0d804f0b209ed1d": {
      "model_module": "@jupyter-widgets/controls",
      "model_module_version": "1.5.0",
      "model_name": "HTMLModel",
      "state": {
       "layout": "IPY_MODEL_d22abe78a0aa4d8aa4e63f8b67837c0c",
       "style": "IPY_MODEL_9c544507567146f3a5cc29df1290076d",
       "value": "<a class=\"anchor\" href=\"#pp_var_-2556068995429731859\"><code>submit  to HQ date</code></a> is an unsupported type, check if it needs cleaning or further analysis"
      }
     },
     "3d71fb7a5b5b47ab8161e8f690f61b3e": {
      "model_module": "@jupyter-widgets/base",
      "model_module_version": "1.2.0",
      "model_name": "LayoutModel",
      "state": {}
     },
     "3d8206ad217c4438839ee1f6e3af06f4": {
      "model_module": "@jupyter-widgets/controls",
      "model_module_version": "1.5.0",
      "model_name": "HTMLModel",
      "state": {
       "layout": "IPY_MODEL_759c2d62dbe94a87b81edd416ec73965",
       "style": "IPY_MODEL_f86d50e55d974f34ae0142ace3b53f05",
       "value": "<?xml version=\"1.0\" encoding=\"utf-8\" standalone=\"no\"?>\n<!DOCTYPE svg style=\"max-width: 100%\" PUBLIC \"-//W3C//DTD SVG 1.1//EN\"\n  \"http://www.w3.org/Graphics/SVG/1.1/DTD/svg11.dtd\">\n<svg style=\"max-width: 100%\" xmlns:xlink=\"http://www.w3.org/1999/xlink\" width=\"432pt\"  viewBox=\"0 0 432 288\" xmlns=\"http://www.w3.org/2000/svg\" version=\"1.1\">\n <metadata>\n  <rdf:RDF xmlns:dc=\"http://purl.org/dc/elements/1.1/\" xmlns:cc=\"http://creativecommons.org/ns#\" xmlns:rdf=\"http://www.w3.org/1999/02/22-rdf-syntax-ns#\">\n   <cc:Work>\n    <dc:type rdf:resource=\"http://purl.org/dc/dcmitype/StillImage\"/>\n    <dc:date>2022-03-09T22:35:18.390516</dc:date>\n    <dc:format>image/svg+xml</dc:format>\n    <dc:creator>\n     <cc:Agent>\n      <dc:title>Matplotlib v3.5.1, https://matplotlib.org/</dc:title>\n     </cc:Agent>\n    </dc:creator>\n   </cc:Work>\n  </rdf:RDF>\n </metadata>\n <defs>\n  <style type=\"text/css\">*{stroke-linejoin: round; stroke-linecap: butt}</style>\n </defs>\n <g id=\"figure_1\">\n  <g id=\"patch_1\">\n   <path d=\"M 0 288 \nL 432 288 \nL 432 0 \nL 0 0 \nz\n\" style=\"fill: #ffffff\"/>\n  </g>\n  <g id=\"axes_1\">\n   <g id=\"patch_2\">\n    <path d=\"M 67.175 250.613321 \nL 421.2 250.613321 \nL 421.2 10.8 \nL 67.175 10.8 \nz\n\" style=\"fill: #ffffff\"/>\n   </g>\n   <g id=\"matplotlib.axis_1\">\n    <g id=\"xtick_1\">\n     <g id=\"text_1\">\n      <!-- 2 -->\n      <g style=\"fill: #262626\" transform=\"translate(82.968735 270.985194)rotate(-45)scale(0.1 -0.1)\">\n       <defs>\n        <path id=\"DejaVuSans-32\" d=\"M 1228 531 \nL 3431 531 \nL 3431 0 \nL 469 0 \nL 469 531 \nQ 828 903 1448 1529 \nQ 2069 2156 2228 2338 \nQ 2531 2678 2651 2914 \nQ 2772 3150 2772 3378 \nQ 2772 3750 2511 3984 \nQ 2250 4219 1831 4219 \nQ 1534 4219 1204 4116 \nQ 875 4013 500 3803 \nL 500 4441 \nQ 881 4594 1212 4672 \nQ 1544 4750 1819 4750 \nQ 2544 4750 2975 4387 \nQ 3406 4025 3406 3419 \nQ 3406 3131 3298 2873 \nQ 3191 2616 2906 2266 \nQ 2828 2175 2409 1742 \nQ 1991 1309 1228 531 \nz\n\" transform=\"scale(0.015625)\"/>\n       </defs>\n       <use xlink:href=\"#DejaVuSans-32\"/>\n      </g>\n     </g>\n    </g>\n    <g id=\"xtick_2\">\n     <g id=\"text_2\">\n      <!-- 4 -->\n      <g style=\"fill: #262626\" transform=\"translate(132.482721 270.985194)rotate(-45)scale(0.1 -0.1)\">\n       <defs>\n        <path id=\"DejaVuSans-34\" d=\"M 2419 4116 \nL 825 1625 \nL 2419 1625 \nL 2419 4116 \nz\nM 2253 4666 \nL 3047 4666 \nL 3047 1625 \nL 3713 1625 \nL 3713 1100 \nL 3047 1100 \nL 3047 0 \nL 2419 0 \nL 2419 1100 \nL 313 1100 \nL 313 1709 \nL 2253 4666 \nz\n\" transform=\"scale(0.015625)\"/>\n       </defs>\n       <use xlink:href=\"#DejaVuSans-34\"/>\n      </g>\n     </g>\n    </g>\n    <g id=\"xtick_3\">\n     <g id=\"text_3\">\n      <!-- 6 -->\n      <g style=\"fill: #262626\" transform=\"translate(181.996707 270.985194)rotate(-45)scale(0.1 -0.1)\">\n       <defs>\n        <path id=\"DejaVuSans-36\" d=\"M 2113 2584 \nQ 1688 2584 1439 2293 \nQ 1191 2003 1191 1497 \nQ 1191 994 1439 701 \nQ 1688 409 2113 409 \nQ 2538 409 2786 701 \nQ 3034 994 3034 1497 \nQ 3034 2003 2786 2293 \nQ 2538 2584 2113 2584 \nz\nM 3366 4563 \nL 3366 3988 \nQ 3128 4100 2886 4159 \nQ 2644 4219 2406 4219 \nQ 1781 4219 1451 3797 \nQ 1122 3375 1075 2522 \nQ 1259 2794 1537 2939 \nQ 1816 3084 2150 3084 \nQ 2853 3084 3261 2657 \nQ 3669 2231 3669 1497 \nQ 3669 778 3244 343 \nQ 2819 -91 2113 -91 \nQ 1303 -91 875 529 \nQ 447 1150 447 2328 \nQ 447 3434 972 4092 \nQ 1497 4750 2381 4750 \nQ 2619 4750 2861 4703 \nQ 3103 4656 3366 4563 \nz\n\" transform=\"scale(0.015625)\"/>\n       </defs>\n       <use xlink:href=\"#DejaVuSans-36\"/>\n      </g>\n     </g>\n    </g>\n    <g id=\"xtick_4\">\n     <g id=\"text_4\">\n      <!-- 8 -->\n      <g style=\"fill: #262626\" transform=\"translate(231.510693 270.985194)rotate(-45)scale(0.1 -0.1)\">\n       <defs>\n        <path id=\"DejaVuSans-38\" d=\"M 2034 2216 \nQ 1584 2216 1326 1975 \nQ 1069 1734 1069 1313 \nQ 1069 891 1326 650 \nQ 1584 409 2034 409 \nQ 2484 409 2743 651 \nQ 3003 894 3003 1313 \nQ 3003 1734 2745 1975 \nQ 2488 2216 2034 2216 \nz\nM 1403 2484 \nQ 997 2584 770 2862 \nQ 544 3141 544 3541 \nQ 544 4100 942 4425 \nQ 1341 4750 2034 4750 \nQ 2731 4750 3128 4425 \nQ 3525 4100 3525 3541 \nQ 3525 3141 3298 2862 \nQ 3072 2584 2669 2484 \nQ 3125 2378 3379 2068 \nQ 3634 1759 3634 1313 \nQ 3634 634 3220 271 \nQ 2806 -91 2034 -91 \nQ 1263 -91 848 271 \nQ 434 634 434 1313 \nQ 434 1759 690 2068 \nQ 947 2378 1403 2484 \nz\nM 1172 3481 \nQ 1172 3119 1398 2916 \nQ 1625 2713 2034 2713 \nQ 2441 2713 2670 2916 \nQ 2900 3119 2900 3481 \nQ 2900 3844 2670 4047 \nQ 2441 4250 2034 4250 \nQ 1625 4250 1398 4047 \nQ 1172 3844 1172 3481 \nz\n\" transform=\"scale(0.015625)\"/>\n       </defs>\n       <use xlink:href=\"#DejaVuSans-38\"/>\n      </g>\n     </g>\n    </g>\n    <g id=\"xtick_5\">\n     <g id=\"text_5\">\n      <!-- 10 -->\n      <g style=\"fill: #262626\" transform=\"translate(278.775195 275.484161)rotate(-45)scale(0.1 -0.1)\">\n       <defs>\n        <path id=\"DejaVuSans-31\" d=\"M 794 531 \nL 1825 531 \nL 1825 4091 \nL 703 3866 \nL 703 4441 \nL 1819 4666 \nL 2450 4666 \nL 2450 531 \nL 3481 531 \nL 3481 0 \nL 794 0 \nL 794 531 \nz\n\" transform=\"scale(0.015625)\"/>\n        <path id=\"DejaVuSans-30\" d=\"M 2034 4250 \nQ 1547 4250 1301 3770 \nQ 1056 3291 1056 2328 \nQ 1056 1369 1301 889 \nQ 1547 409 2034 409 \nQ 2525 409 2770 889 \nQ 3016 1369 3016 2328 \nQ 3016 3291 2770 3770 \nQ 2525 4250 2034 4250 \nz\nM 2034 4750 \nQ 2819 4750 3233 4129 \nQ 3647 3509 3647 2328 \nQ 3647 1150 3233 529 \nQ 2819 -91 2034 -91 \nQ 1250 -91 836 529 \nQ 422 1150 422 2328 \nQ 422 3509 836 4129 \nQ 1250 4750 2034 4750 \nz\n\" transform=\"scale(0.015625)\"/>\n       </defs>\n       <use xlink:href=\"#DejaVuSans-31\"/>\n       <use xlink:href=\"#DejaVuSans-30\" x=\"63.623047\"/>\n      </g>\n     </g>\n    </g>\n    <g id=\"xtick_6\">\n     <g id=\"text_6\">\n      <!-- 12 -->\n      <g style=\"fill: #262626\" transform=\"translate(328.289181 275.484161)rotate(-45)scale(0.1 -0.1)\">\n       <use xlink:href=\"#DejaVuSans-31\"/>\n       <use xlink:href=\"#DejaVuSans-32\" x=\"63.623047\"/>\n      </g>\n     </g>\n    </g>\n    <g id=\"xtick_7\">\n     <g id=\"text_7\">\n      <!-- 14 -->\n      <g style=\"fill: #262626\" transform=\"translate(377.803167 275.484161)rotate(-45)scale(0.1 -0.1)\">\n       <use xlink:href=\"#DejaVuSans-31\"/>\n       <use xlink:href=\"#DejaVuSans-34\" x=\"63.623047\"/>\n      </g>\n     </g>\n    </g>\n   </g>\n   <g id=\"matplotlib.axis_2\">\n    <g id=\"ytick_1\">\n     <g id=\"text_8\">\n      <!-- 0 -->\n      <g style=\"fill: #262626\" transform=\"translate(50.3125 254.412539)scale(0.1 -0.1)\">\n       <use xlink:href=\"#DejaVuSans-30\"/>\n      </g>\n     </g>\n    </g>\n    <g id=\"ytick_2\">\n     <g id=\"text_9\">\n      <!-- 2500 -->\n      <g style=\"fill: #262626\" transform=\"translate(31.225 227.142308)scale(0.1 -0.1)\">\n       <defs>\n        <path id=\"DejaVuSans-35\" d=\"M 691 4666 \nL 3169 4666 \nL 3169 4134 \nL 1269 4134 \nL 1269 2991 \nQ 1406 3038 1543 3061 \nQ 1681 3084 1819 3084 \nQ 2600 3084 3056 2656 \nQ 3513 2228 3513 1497 \nQ 3513 744 3044 326 \nQ 2575 -91 1722 -91 \nQ 1428 -91 1123 -41 \nQ 819 9 494 109 \nL 494 744 \nQ 775 591 1075 516 \nQ 1375 441 1709 441 \nQ 2250 441 2565 725 \nQ 2881 1009 2881 1497 \nQ 2881 1984 2565 2268 \nQ 2250 2553 1709 2553 \nQ 1456 2553 1204 2497 \nQ 953 2441 691 2322 \nL 691 4666 \nz\n\" transform=\"scale(0.015625)\"/>\n       </defs>\n       <use xlink:href=\"#DejaVuSans-32\"/>\n       <use xlink:href=\"#DejaVuSans-35\" x=\"63.623047\"/>\n       <use xlink:href=\"#DejaVuSans-30\" x=\"127.246094\"/>\n       <use xlink:href=\"#DejaVuSans-30\" x=\"190.869141\"/>\n      </g>\n     </g>\n    </g>\n    <g id=\"ytick_3\">\n     <g id=\"text_10\">\n      <!-- 5000 -->\n      <g style=\"fill: #262626\" transform=\"translate(31.225 199.872077)scale(0.1 -0.1)\">\n       <use xlink:href=\"#DejaVuSans-35\"/>\n       <use xlink:href=\"#DejaVuSans-30\" x=\"63.623047\"/>\n       <use xlink:href=\"#DejaVuSans-30\" x=\"127.246094\"/>\n       <use xlink:href=\"#DejaVuSans-30\" x=\"190.869141\"/>\n      </g>\n     </g>\n    </g>\n    <g id=\"ytick_4\">\n     <g id=\"text_11\">\n      <!-- 7500 -->\n      <g style=\"fill: #262626\" transform=\"translate(31.225 172.601846)scale(0.1 -0.1)\">\n       <defs>\n        <path id=\"DejaVuSans-37\" d=\"M 525 4666 \nL 3525 4666 \nL 3525 4397 \nL 1831 0 \nL 1172 0 \nL 2766 4134 \nL 525 4134 \nL 525 4666 \nz\n\" transform=\"scale(0.015625)\"/>\n       </defs>\n       <use xlink:href=\"#DejaVuSans-37\"/>\n       <use xlink:href=\"#DejaVuSans-35\" x=\"63.623047\"/>\n       <use xlink:href=\"#DejaVuSans-30\" x=\"127.246094\"/>\n       <use xlink:href=\"#DejaVuSans-30\" x=\"190.869141\"/>\n      </g>\n     </g>\n    </g>\n    <g id=\"ytick_5\">\n     <g id=\"text_12\">\n      <!-- 10000 -->\n      <g style=\"fill: #262626\" transform=\"translate(24.8625 145.331615)scale(0.1 -0.1)\">\n       <use xlink:href=\"#DejaVuSans-31\"/>\n       <use xlink:href=\"#DejaVuSans-30\" x=\"63.623047\"/>\n       <use xlink:href=\"#DejaVuSans-30\" x=\"127.246094\"/>\n       <use xlink:href=\"#DejaVuSans-30\" x=\"190.869141\"/>\n       <use xlink:href=\"#DejaVuSans-30\" x=\"254.492188\"/>\n      </g>\n     </g>\n    </g>\n    <g id=\"ytick_6\">\n     <g id=\"text_13\">\n      <!-- 12500 -->\n      <g style=\"fill: #262626\" transform=\"translate(24.8625 118.061384)scale(0.1 -0.1)\">\n       <use xlink:href=\"#DejaVuSans-31\"/>\n       <use xlink:href=\"#DejaVuSans-32\" x=\"63.623047\"/>\n       <use xlink:href=\"#DejaVuSans-35\" x=\"127.246094\"/>\n       <use xlink:href=\"#DejaVuSans-30\" x=\"190.869141\"/>\n       <use xlink:href=\"#DejaVuSans-30\" x=\"254.492188\"/>\n      </g>\n     </g>\n    </g>\n    <g id=\"ytick_7\">\n     <g id=\"text_14\">\n      <!-- 15000 -->\n      <g style=\"fill: #262626\" transform=\"translate(24.8625 90.791153)scale(0.1 -0.1)\">\n       <use xlink:href=\"#DejaVuSans-31\"/>\n       <use xlink:href=\"#DejaVuSans-35\" x=\"63.623047\"/>\n       <use xlink:href=\"#DejaVuSans-30\" x=\"127.246094\"/>\n       <use xlink:href=\"#DejaVuSans-30\" x=\"190.869141\"/>\n       <use xlink:href=\"#DejaVuSans-30\" x=\"254.492188\"/>\n      </g>\n     </g>\n    </g>\n    <g id=\"ytick_8\">\n     <g id=\"text_15\">\n      <!-- 17500 -->\n      <g style=\"fill: #262626\" transform=\"translate(24.8625 63.520922)scale(0.1 -0.1)\">\n       <use xlink:href=\"#DejaVuSans-31\"/>\n       <use xlink:href=\"#DejaVuSans-37\" x=\"63.623047\"/>\n       <use xlink:href=\"#DejaVuSans-35\" x=\"127.246094\"/>\n       <use xlink:href=\"#DejaVuSans-30\" x=\"190.869141\"/>\n       <use xlink:href=\"#DejaVuSans-30\" x=\"254.492188\"/>\n      </g>\n     </g>\n    </g>\n    <g id=\"ytick_9\">\n     <g id=\"text_16\">\n      <!-- 20000 -->\n      <g style=\"fill: #262626\" transform=\"translate(24.8625 36.250691)scale(0.1 -0.1)\">\n       <use xlink:href=\"#DejaVuSans-32\"/>\n       <use xlink:href=\"#DejaVuSans-30\" x=\"63.623047\"/>\n       <use xlink:href=\"#DejaVuSans-30\" x=\"127.246094\"/>\n       <use xlink:href=\"#DejaVuSans-30\" x=\"190.869141\"/>\n       <use xlink:href=\"#DejaVuSans-30\" x=\"254.492188\"/>\n      </g>\n     </g>\n    </g>\n    <g id=\"text_17\">\n     <!-- Frequency -->\n     <g style=\"fill: #262626\" transform=\"translate(18.574844 159.119317)rotate(-90)scale(0.11 -0.11)\">\n      <defs>\n       <path id=\"DejaVuSans-46\" d=\"M 628 4666 \nL 3309 4666 \nL 3309 4134 \nL 1259 4134 \nL 1259 2759 \nL 3109 2759 \nL 3109 2228 \nL 1259 2228 \nL 1259 0 \nL 628 0 \nL 628 4666 \nz\n\" transform=\"scale(0.015625)\"/>\n       <path id=\"DejaVuSans-72\" d=\"M 2631 2963 \nQ 2534 3019 2420 3045 \nQ 2306 3072 2169 3072 \nQ 1681 3072 1420 2755 \nQ 1159 2438 1159 1844 \nL 1159 0 \nL 581 0 \nL 581 3500 \nL 1159 3500 \nL 1159 2956 \nQ 1341 3275 1631 3429 \nQ 1922 3584 2338 3584 \nQ 2397 3584 2469 3576 \nQ 2541 3569 2628 3553 \nL 2631 2963 \nz\n\" transform=\"scale(0.015625)\"/>\n       <path id=\"DejaVuSans-65\" d=\"M 3597 1894 \nL 3597 1613 \nL 953 1613 \nQ 991 1019 1311 708 \nQ 1631 397 2203 397 \nQ 2534 397 2845 478 \nQ 3156 559 3463 722 \nL 3463 178 \nQ 3153 47 2828 -22 \nQ 2503 -91 2169 -91 \nQ 1331 -91 842 396 \nQ 353 884 353 1716 \nQ 353 2575 817 3079 \nQ 1281 3584 2069 3584 \nQ 2775 3584 3186 3129 \nQ 3597 2675 3597 1894 \nz\nM 3022 2063 \nQ 3016 2534 2758 2815 \nQ 2500 3097 2075 3097 \nQ 1594 3097 1305 2825 \nQ 1016 2553 972 2059 \nL 3022 2063 \nz\n\" transform=\"scale(0.015625)\"/>\n       <path id=\"DejaVuSans-71\" d=\"M 947 1747 \nQ 947 1113 1208 752 \nQ 1469 391 1925 391 \nQ 2381 391 2643 752 \nQ 2906 1113 2906 1747 \nQ 2906 2381 2643 2742 \nQ 2381 3103 1925 3103 \nQ 1469 3103 1208 2742 \nQ 947 2381 947 1747 \nz\nM 2906 525 \nQ 2725 213 2448 61 \nQ 2172 -91 1784 -91 \nQ 1150 -91 751 415 \nQ 353 922 353 1747 \nQ 353 2572 751 3078 \nQ 1150 3584 1784 3584 \nQ 2172 3584 2448 3432 \nQ 2725 3281 2906 2969 \nL 2906 3500 \nL 3481 3500 \nL 3481 -1331 \nL 2906 -1331 \nL 2906 525 \nz\n\" transform=\"scale(0.015625)\"/>\n       <path id=\"DejaVuSans-75\" d=\"M 544 1381 \nL 544 3500 \nL 1119 3500 \nL 1119 1403 \nQ 1119 906 1312 657 \nQ 1506 409 1894 409 \nQ 2359 409 2629 706 \nQ 2900 1003 2900 1516 \nL 2900 3500 \nL 3475 3500 \nL 3475 0 \nL 2900 0 \nL 2900 538 \nQ 2691 219 2414 64 \nQ 2138 -91 1772 -91 \nQ 1169 -91 856 284 \nQ 544 659 544 1381 \nz\nM 1991 3584 \nL 1991 3584 \nz\n\" transform=\"scale(0.015625)\"/>\n       <path id=\"DejaVuSans-6e\" d=\"M 3513 2113 \nL 3513 0 \nL 2938 0 \nL 2938 2094 \nQ 2938 2591 2744 2837 \nQ 2550 3084 2163 3084 \nQ 1697 3084 1428 2787 \nQ 1159 2491 1159 1978 \nL 1159 0 \nL 581 0 \nL 581 3500 \nL 1159 3500 \nL 1159 2956 \nQ 1366 3272 1645 3428 \nQ 1925 3584 2291 3584 \nQ 2894 3584 3203 3211 \nQ 3513 2838 3513 2113 \nz\n\" transform=\"scale(0.015625)\"/>\n       <path id=\"DejaVuSans-63\" d=\"M 3122 3366 \nL 3122 2828 \nQ 2878 2963 2633 3030 \nQ 2388 3097 2138 3097 \nQ 1578 3097 1268 2742 \nQ 959 2388 959 1747 \nQ 959 1106 1268 751 \nQ 1578 397 2138 397 \nQ 2388 397 2633 464 \nQ 2878 531 3122 666 \nL 3122 134 \nQ 2881 22 2623 -34 \nQ 2366 -91 2075 -91 \nQ 1284 -91 818 406 \nQ 353 903 353 1747 \nQ 353 2603 823 3093 \nQ 1294 3584 2113 3584 \nQ 2378 3584 2631 3529 \nQ 2884 3475 3122 3366 \nz\n\" transform=\"scale(0.015625)\"/>\n       <path id=\"DejaVuSans-79\" d=\"M 2059 -325 \nQ 1816 -950 1584 -1140 \nQ 1353 -1331 966 -1331 \nL 506 -1331 \nL 506 -850 \nL 844 -850 \nQ 1081 -850 1212 -737 \nQ 1344 -625 1503 -206 \nL 1606 56 \nL 191 3500 \nL 800 3500 \nL 1894 763 \nL 2988 3500 \nL 3597 3500 \nL 2059 -325 \nz\n\" transform=\"scale(0.015625)\"/>\n      </defs>\n      <use xlink:href=\"#DejaVuSans-46\"/>\n      <use xlink:href=\"#DejaVuSans-72\" x=\"50.269531\"/>\n      <use xlink:href=\"#DejaVuSans-65\" x=\"89.132812\"/>\n      <use xlink:href=\"#DejaVuSans-71\" x=\"150.65625\"/>\n      <use xlink:href=\"#DejaVuSans-75\" x=\"214.132812\"/>\n      <use xlink:href=\"#DejaVuSans-65\" x=\"277.511719\"/>\n      <use xlink:href=\"#DejaVuSans-6e\" x=\"339.035156\"/>\n      <use xlink:href=\"#DejaVuSans-63\" x=\"402.414062\"/>\n      <use xlink:href=\"#DejaVuSans-79\" x=\"457.394531\"/>\n     </g>\n    </g>\n   </g>\n   <g id=\"patch_3\">\n    <path d=\"M 83.267045 250.613321 \nL 147.635227 250.613321 \nL 147.635227 249.457063 \nL 83.267045 249.457063 \nz\n\" clip-path=\"url(#p4693afb244)\" style=\"fill: #337ab7; stroke: #ffffff; stroke-width: 0.3; stroke-linejoin: miter\"/>\n   </g>\n   <g id=\"patch_4\">\n    <path d=\"M 147.635227 250.613321 \nL 212.003409 250.613321 \nL 212.003409 250.613321 \nL 147.635227 250.613321 \nz\n\" clip-path=\"url(#p4693afb244)\" style=\"fill: #337ab7; stroke: #ffffff; stroke-width: 0.3; stroke-linejoin: miter\"/>\n   </g>\n   <g id=\"patch_5\">\n    <path d=\"M 212.003409 250.613321 \nL 276.371591 250.613321 \nL 276.371591 22.219682 \nL 212.003409 22.219682 \nz\n\" clip-path=\"url(#p4693afb244)\" style=\"fill: #337ab7; stroke: #ffffff; stroke-width: 0.3; stroke-linejoin: miter\"/>\n   </g>\n   <g id=\"patch_6\">\n    <path d=\"M 276.371591 250.613321 \nL 340.739773 250.613321 \nL 340.739773 250.613321 \nL 276.371591 250.613321 \nz\n\" clip-path=\"url(#p4693afb244)\" style=\"fill: #337ab7; stroke: #ffffff; stroke-width: 0.3; stroke-linejoin: miter\"/>\n   </g>\n   <g id=\"patch_7\">\n    <path d=\"M 340.739773 250.613321 \nL 405.107955 250.613321 \nL 405.107955 244.61387 \nL 340.739773 244.61387 \nz\n\" clip-path=\"url(#p4693afb244)\" style=\"fill: #337ab7; stroke: #ffffff; stroke-width: 0.3; stroke-linejoin: miter\"/>\n   </g>\n   <g id=\"patch_8\">\n    <path d=\"M 67.175 250.613321 \nL 67.175 10.8 \n\" style=\"fill: none\"/>\n   </g>\n   <g id=\"patch_9\">\n    <path d=\"M 421.2 250.613321 \nL 421.2 10.8 \n\" style=\"fill: none\"/>\n   </g>\n   <g id=\"patch_10\">\n    <path d=\"M 67.175 250.613321 \nL 421.2 250.613321 \n\" style=\"fill: none\"/>\n   </g>\n   <g id=\"patch_11\">\n    <path d=\"M 67.175 10.8 \nL 421.2 10.8 \n\" style=\"fill: none\"/>\n   </g>\n  </g>\n </g>\n <defs>\n  <clipPath id=\"p4693afb244\">\n   <rect x=\"67.175\" y=\"10.8\" width=\"354.025\" height=\"239.813321\"/>\n  </clipPath>\n </defs>\n</svg>\n"
      }
     },
     "3d99a6c86a414103b7a9c52cdb730298": {
      "model_module": "@jupyter-widgets/controls",
      "model_module_version": "1.5.0",
      "model_name": "DescriptionStyleModel",
      "state": {
       "description_width": ""
      }
     },
     "3da71d7b898b4c158beb74f1383b2ac9": {
      "model_module": "@jupyter-widgets/controls",
      "model_module_version": "1.5.0",
      "model_name": "ButtonStyleModel",
      "state": {}
     },
     "3e06963648f84a4296f887bc692f5945": {
      "model_module": "@jupyter-widgets/base",
      "model_module_version": "1.2.0",
      "model_name": "LayoutModel",
      "state": {
       "grid_template_areas": "\"widget001 widget002\"\n\"widget003 widget004\"\n\"widget005 widget006\"\n\"widget007 widget008\"\n\"widget009 widget010\"",
       "grid_template_columns": "repeat(2, 1fr)",
       "grid_template_rows": "repeat(5, 1fr)"
      }
     },
     "3e088a04f38f4518aa93afeafb104161": {
      "model_module": "@jupyter-widgets/controls",
      "model_module_version": "1.5.0",
      "model_name": "HTMLModel",
      "state": {
       "layout": "IPY_MODEL_d198f9f156c446c29aeedff217e05371",
       "style": "IPY_MODEL_1f4b63a8379e476185ad2ae599ec83f6",
       "value": "<a class=\"anchor\" href=\"#pp_var_-2017647313142555237\"><code>Today</code></a> is an unsupported type, check if it needs cleaning or further analysis"
      }
     },
     "3e6b6256ae904cfcbb89b5d061433694": {
      "model_module": "@jupyter-widgets/base",
      "model_module_version": "1.2.0",
      "model_name": "LayoutModel",
      "state": {}
     },
     "3e6fc68da7844869847912f59e6ce2e7": {
      "model_module": "@jupyter-widgets/controls",
      "model_module_version": "1.5.0",
      "model_name": "ProgressStyleModel",
      "state": {
       "description_width": ""
      }
     },
     "3eed98ce158548ba8e060ef61e5bfe2b": {
      "model_module": "@jupyter-widgets/controls",
      "model_module_version": "1.5.0",
      "model_name": "ProgressStyleModel",
      "state": {
       "description_width": ""
      }
     },
     "3ef5bce9d9c34bcf885f03366c7a9269": {
      "model_module": "@jupyter-widgets/controls",
      "model_module_version": "1.5.0",
      "model_name": "HTMLModel",
      "state": {
       "layout": "IPY_MODEL_b8d6f99a30144fe2b63eae5f9b7405df",
       "style": "IPY_MODEL_e763cdd5a4f847efa5eb77a0aaf5fc35",
       "value": "Obligated"
      }
     },
     "3f1af5d53b4a41ca9df50c7eb585346d": {
      "model_module": "@jupyter-widgets/controls",
      "model_module_version": "1.5.0",
      "model_name": "HTMLModel",
      "state": {
       "layout": "IPY_MODEL_121ae80ea0d94a249e96c027a1ff3cd1",
       "style": "IPY_MODEL_32ea32f3722f43d8a19bd8bde2a68a71",
       "value": "Distinct"
      }
     },
     "3f568f9be9e9437fae646b25c11ff0dc": {
      "model_module": "@jupyter-widgets/base",
      "model_module_version": "1.2.0",
      "model_name": "LayoutModel",
      "state": {}
     },
     "3fa79a019a9640de85bae868283adde0": {
      "model_module": "@jupyter-widgets/controls",
      "model_module_version": "1.5.0",
      "model_name": "HTMLModel",
      "state": {
       "layout": "IPY_MODEL_886a96de6a1c4d0299042ccff6f89408",
       "style": "IPY_MODEL_559abed8baaf401ea58157df1f8ff004",
       "value": "0 <a title=\"Unicode categories (click for more information)\" href=\"https://en.wikipedia.org/wiki/Unicode_character_property#General_Category\" target=\"_blank\"><span class=\"badge pull-right\" style=\"color:#fff;background-color:#337ab7;\" title=\"Unicode categories (click for more information)\">?</span></a>"
      }
     },
     "3fd9a3f37c7d403296f608948392ec01": {
      "model_module": "@jupyter-widgets/base",
      "model_module_version": "1.2.0",
      "model_name": "LayoutModel",
      "state": {
       "grid_template_areas": "\"widget001 widget002\"\n\"widget003 widget004\"",
       "grid_template_columns": "repeat(2, 1fr)",
       "grid_template_rows": "repeat(2, 1fr)"
      }
     },
     "40407f68ed744a05a3e67968c57de4c6": {
      "model_module": "@jupyter-widgets/controls",
      "model_module_version": "1.5.0",
      "model_name": "HTMLModel",
      "state": {
       "layout": "IPY_MODEL_82f942e5396740a6b4c414e4a140fd90",
       "style": "IPY_MODEL_81fb7e916f444bcab98cc0e970f25b8c",
       "value": "<a class=\"anchor\" href=\"#pp_var_5133028204812945911\"><code>HQ processing Days</code></a> has 6197 (28.7%) zeros"
      }
     },
     "40715c8a5509496c9fa8ca343ee44321": {
      "model_module": "@jupyter-widgets/controls",
      "model_module_version": "1.5.0",
      "model_name": "ButtonModel",
      "state": {
       "button_style": "info",
       "description": "Zeros",
       "disabled": true,
       "layout": "IPY_MODEL_b7b7923f52154b8b9736e1f40375bd62",
       "style": "IPY_MODEL_c931439537fd45528f59664c42a50148"
      }
     },
     "40b75f9e08c5417f99bea7eba15d9aa1": {
      "model_module": "@jupyter-widgets/controls",
      "model_module_version": "1.5.0",
      "model_name": "HTMLModel",
      "state": {
       "layout": "IPY_MODEL_867d0553e6524090a9d02370d8daad64",
       "style": "IPY_MODEL_6fbbef84e20943be8384c0e18732793e",
       "value": "<a class=\"anchor\" href=\"#pp_var_3774228498530467255\"><code>project location</code></a> has a high cardinality: 9019 distinct values"
      }
     },
     "40e5bcea067545fbbf6a6362b83ff533": {
      "model_module": "@jupyter-widgets/controls",
      "model_module_version": "1.5.0",
      "model_name": "HTMLModel",
      "state": {
       "layout": "IPY_MODEL_96f47f85a3c64b6a8755941a09c4a876",
       "style": "IPY_MODEL_44bb34b6aa5c47d8ad87944e446bc31e",
       "value": "<a class=\"anchor\" href=\"#pp_var_-6140007269989972432\"><code>HQ review date</code></a> is an unsupported type, check if it needs cleaning or further analysis"
      }
     },
     "41073fa10b1449679cbbb53f1271d825": {
      "model_module": "@jupyter-widgets/controls",
      "model_module_version": "1.5.0",
      "model_name": "HTMLModel",
      "state": {
       "layout": "IPY_MODEL_5ce2a8a46be84697b81f7dd0f42ca37b",
       "style": "IPY_MODEL_765ec42bc97d4c95ac4cf1c1afaaf84d",
       "value": "<a class=\"anchor\" href=\"#pp_var_6588079627765447598\"><code>AC requested</code></a> has 19675 (91.1%) zeros"
      }
     },
     "410a91470a914f999e01969240c1650b": {
      "model_module": "@jupyter-widgets/controls",
      "model_module_version": "1.5.0",
      "model_name": "GridBoxModel",
      "state": {
       "children": [
        "IPY_MODEL_f1b18d619b7a4c3da3ccca2b2de6d905",
        "IPY_MODEL_f572eb376e064dc989060f1f1f842adc",
        "IPY_MODEL_6bf19dab8ef047aa9db49b2c40caf333",
        "IPY_MODEL_56cbb69c66144a8f9d443de386942a78"
       ],
       "layout": "IPY_MODEL_3fd9a3f37c7d403296f608948392ec01"
      }
     },
     "4161dc3a345c48f89053aa09e394bee0": {
      "model_module": "@jupyter-widgets/base",
      "model_module_version": "1.2.0",
      "model_name": "LayoutModel",
      "state": {}
     },
     "418e04a130f3497f8d1dabcbc00d1f75": {
      "model_module": "@jupyter-widgets/base",
      "model_module_version": "1.2.0",
      "model_name": "LayoutModel",
      "state": {
       "grid_area": "widget001"
      }
     },
     "41a462b62eaa4ff3a0b3b27b54f48a2d": {
      "model_module": "@jupyter-widgets/controls",
      "model_module_version": "1.5.0",
      "model_name": "ButtonModel",
      "state": {
       "button_style": "danger",
       "description": "High cardinality",
       "disabled": true,
       "layout": "IPY_MODEL_755a5aaad7224858b297d7a1487715a3",
       "style": "IPY_MODEL_ac7e353904be40c9a011229e0767fdad"
      }
     },
     "41c901b87f1a4411a7a7401a9b0b3f7f": {
      "model_module": "@jupyter-widgets/controls",
      "model_module_version": "1.5.0",
      "model_name": "DescriptionStyleModel",
      "state": {
       "description_width": ""
      }
     },
     "4211515a6bf04c92bb3809f65dd01cf0": {
      "model_module": "@jupyter-widgets/controls",
      "model_module_version": "1.5.0",
      "model_name": "HTMLModel",
      "state": {
       "layout": "IPY_MODEL_103450790f2648faa5e794735b0f70d0",
       "style": "IPY_MODEL_ec73bab640ef4d2ebf62cb09362eecbc",
       "value": "Numeric"
      }
     },
     "425f8c5537c1498b885fb85d0e339a64": {
      "model_module": "@jupyter-widgets/base",
      "model_module_version": "1.2.0",
      "model_name": "LayoutModel",
      "state": {
       "grid_area": "widget001"
      }
     },
     "429267b184014eb9b3af9d443502c95e": {
      "model_module": "@jupyter-widgets/controls",
      "model_module_version": "1.5.0",
      "model_name": "VBoxModel",
      "state": {
       "children": [
        "IPY_MODEL_7404907617fd452e81cd0323cb2443b3",
        "IPY_MODEL_89ad228425144269be2e5c911a4195da"
       ],
       "layout": "IPY_MODEL_f0c1b30ee7ff44aba5a04f0557c25192"
      }
     },
     "42a0ae60135a430898dfaf529acfdab5": {
      "model_module": "@jupyter-widgets/controls",
      "model_module_version": "1.5.0",
      "model_name": "DescriptionStyleModel",
      "state": {
       "description_width": ""
      }
     },
     "42a48163668b426cbd2e1743739502aa": {
      "model_module": "@jupyter-widgets/base",
      "model_module_version": "1.2.0",
      "model_name": "LayoutModel",
      "state": {
       "grid_template_columns": "50% 50%",
       "width": "100%"
      }
     },
     "42b3b71e15044f1eb7f14f7a9b335b87": {
      "model_module": "@jupyter-widgets/controls",
      "model_module_version": "1.5.0",
      "model_name": "DescriptionStyleModel",
      "state": {
       "description_width": ""
      }
     },
     "42c50e5aa48045b6ad83251ddc254074": {
      "model_module": "@jupyter-widgets/controls",
      "model_module_version": "1.5.0",
      "model_name": "HTMLModel",
      "state": {
       "layout": "IPY_MODEL_36e5dd8c155046048cfe1579a7f1d49b",
       "style": "IPY_MODEL_86f0f84dd47349eb974e7fb834188c88",
       "value": "Obligated"
      }
     },
     "42c7d7c0d1f1447db5d9509774b58baa": {
      "model_module": "@jupyter-widgets/base",
      "model_module_version": "1.2.0",
      "model_name": "LayoutModel",
      "state": {}
     },
     "42d6ce08c59e4dafb116d85479086685": {
      "model_module": "@jupyter-widgets/base",
      "model_module_version": "1.2.0",
      "model_name": "LayoutModel",
      "state": {}
     },
     "42fc4d2aa817458ba5f0954e83e6281e": {
      "model_module": "@jupyter-widgets/controls",
      "model_module_version": "1.5.0",
      "model_name": "DescriptionStyleModel",
      "state": {
       "description_width": ""
      }
     },
     "430892bb36d442798f4d069b2c9e976c": {
      "model_module": "@jupyter-widgets/base",
      "model_module_version": "1.2.0",
      "model_name": "LayoutModel",
      "state": {
       "grid_area": "widget002"
      }
     },
     "441327b8b49b4c589a534a36b4f7a5a6": {
      "model_module": "@jupyter-widgets/controls",
      "model_module_version": "1.5.0",
      "model_name": "ButtonStyleModel",
      "state": {}
     },
     "44b77ea0353f4680ae36fb1354b87a9a": {
      "model_module": "@jupyter-widgets/controls",
      "model_module_version": "1.5.0",
      "model_name": "ProgressStyleModel",
      "state": {
       "description_width": ""
      }
     },
     "44bb34b6aa5c47d8ad87944e446bc31e": {
      "model_module": "@jupyter-widgets/controls",
      "model_module_version": "1.5.0",
      "model_name": "DescriptionStyleModel",
      "state": {
       "description_width": ""
      }
     },
     "454aee69717044478360f479f7b0fc76": {
      "model_module": "@jupyter-widgets/controls",
      "model_module_version": "1.5.0",
      "model_name": "ButtonStyleModel",
      "state": {}
     },
     "45552ee00a7d4be6bf091372d7b5306e": {
      "model_module": "@jupyter-widgets/base",
      "model_module_version": "1.2.0",
      "model_name": "LayoutModel",
      "state": {}
     },
     "4577ba91f50d4d1195f0f2009809f0ce": {
      "model_module": "@jupyter-widgets/base",
      "model_module_version": "1.2.0",
      "model_name": "LayoutModel",
      "state": {
       "grid_template_areas": "\"widget001 widget002\"\n\"widget003 widget004\"\n\"widget005 widget006\"\n\"widget007 widget008\"\n\"widget009 widget010\"",
       "grid_template_columns": "repeat(2, 1fr)",
       "grid_template_rows": "repeat(5, 1fr)"
      }
     },
     "4578eab7ae4e4fef82f86c5593f68c7b": {
      "model_module": "@jupyter-widgets/base",
      "model_module_version": "1.2.0",
      "model_name": "LayoutModel",
      "state": {}
     },
     "458d6ee602034995a70117b8d46b3a6e": {
      "model_module": "@jupyter-widgets/base",
      "model_module_version": "1.2.0",
      "model_name": "LayoutModel",
      "state": {
       "grid_area": "widget007"
      }
     },
     "45b30f70f60e4ca6958dd29a15ae6f6b": {
      "model_module": "@jupyter-widgets/base",
      "model_module_version": "1.2.0",
      "model_name": "LayoutModel",
      "state": {
       "grid_area": "widget006"
      }
     },
     "45ca17c7a8cf408083aa54999983dae7": {
      "model_module": "@jupyter-widgets/controls",
      "model_module_version": "1.5.0",
      "model_name": "HTMLModel",
      "state": {
       "layout": "IPY_MODEL_f5e809f845ff4a3fae3835fc62af2693",
       "style": "IPY_MODEL_a60b61bfd38d42cba9f34f81c7e30912",
       "value": "Obligated"
      }
     },
     "45d115de74a54f0bb1c7fab0a42d0b79": {
      "model_module": "@jupyter-widgets/controls",
      "model_module_version": "1.5.0",
      "model_name": "FloatProgressModel",
      "state": {
       "layout": "IPY_MODEL_6967ac59234947eb9c547ebe1a3e8377",
       "max": 22144,
       "style": "IPY_MODEL_7e462a476a1d46d7a03f490bf166e0f9",
       "value": 550
      }
     },
     "45fdbb9659bd49d79ebfbe2185e54fac": {
      "model_module": "@jupyter-widgets/controls",
      "model_module_version": "1.5.0",
      "model_name": "GridBoxModel",
      "state": {
       "children": [
        "IPY_MODEL_ada44158c88146238075f51c0eca0394",
        "IPY_MODEL_0b98cedc05094c499b9fb6d65ffaec64",
        "IPY_MODEL_b95f2b4df53a40fdbb7c80c5923a017b",
        "IPY_MODEL_8cab5c42c63c4944b826617f941f7292",
        "IPY_MODEL_45d115de74a54f0bb1c7fab0a42d0b79",
        "IPY_MODEL_6ca269e0ac8a464c85e1a02276463773",
        "IPY_MODEL_8675e6e131c04eaaa571201a9675798d",
        "IPY_MODEL_7fdf256971e748ac971321be5c62f125",
        "IPY_MODEL_579844dddea04d8587b629e0e9c51f91",
        "IPY_MODEL_53256a7014ac4aefa73275a90cf6856a",
        "IPY_MODEL_d1047050e1b04808bed68f2d08d07462",
        "IPY_MODEL_49a1dd18cffb411385dc7d4ce73a6764",
        "IPY_MODEL_2cf07e5fbab142389616daabc2754a57",
        "IPY_MODEL_9db912f63e8d4c299c2e989a18841b99",
        "IPY_MODEL_f5d0ab1d1fe0457e9b0bdd4dc3030865",
        "IPY_MODEL_8bdcbe48ba4d4caea92f6ddcafaced6f",
        "IPY_MODEL_c0cd61a85aef40c1bd0bd0e8456d8c00",
        "IPY_MODEL_e3c4fdc3b4f4486d8175ec605a5c8a0f",
        "IPY_MODEL_f15cda6802eb400b8f6f9189cca3081c",
        "IPY_MODEL_27630c5774f94fcf8c09e968177f8011",
        "IPY_MODEL_5d64e30bf2b84d6789c96b5a617771df"
       ],
       "layout": "IPY_MODEL_c1f070959d054a51ad72b8a73539766c"
      }
     },
     "46034853d4a84a90853b7b8a83d05a66": {
      "model_module": "@jupyter-widgets/controls",
      "model_module_version": "1.5.0",
      "model_name": "ButtonStyleModel",
      "state": {}
     },
     "462db0d3444f49118e58e2e77325df4e": {
      "model_module": "@jupyter-widgets/controls",
      "model_module_version": "1.5.0",
      "model_name": "HTMLModel",
      "state": {
       "layout": "IPY_MODEL_bd407cb889894e8fa088b5d16043efbb",
       "style": "IPY_MODEL_79793f9f41954a058cfed76aabbfd180",
       "value": "<a class=\"anchor\" href=\"#pp_var_4855182975509944680\">\n        <code>Status Comment</code>\n    </a> is highly correlated with <code>Location</code> and <abbr title=\"Location, Fed requested, FHWA processing Days\">2 other fields</abbr>"
      }
     },
     "46826ac89f9b48f6af15faf785455017": {
      "model_module": "@jupyter-widgets/controls",
      "model_module_version": "1.5.0",
      "model_name": "DescriptionStyleModel",
      "state": {
       "description_width": ""
      }
     },
     "4684773f35ea4673b938366efa7b8058": {
      "model_module": "@jupyter-widgets/controls",
      "model_module_version": "1.5.0",
      "model_name": "LabelModel",
      "state": {
       "layout": "IPY_MODEL_cc115376ff9a497d808b6d11ed5cca33",
       "style": "IPY_MODEL_fa10f8bea0c64d67ba236b9ec382c125",
       "value": "85"
      }
     },
     "46c7949cce8f470ca062bf31bca00e6c": {
      "model_module": "@jupyter-widgets/base",
      "model_module_version": "1.2.0",
      "model_name": "LayoutModel",
      "state": {
       "grid_area": "widget001"
      }
     },
     "46e8fb8c99fe4a26a1d781d3e38830f4": {
      "model_module": "@jupyter-widgets/controls",
      "model_module_version": "1.5.0",
      "model_name": "DescriptionStyleModel",
      "state": {
       "description_width": ""
      }
     },
     "47055dc776bf44448d2b2cee96ac8c9d": {
      "model_module": "@jupyter-widgets/controls",
      "model_module_version": "1.5.0",
      "model_name": "ProgressStyleModel",
      "state": {
       "description_width": ""
      }
     },
     "470c0c6118f04ca19562059a1ba6fc00": {
      "model_module": "@jupyter-widgets/controls",
      "model_module_version": "1.5.0",
      "model_name": "HBoxModel",
      "state": {
       "children": [
        "IPY_MODEL_913071c55dc04fe6b4c499a9959f7e16",
        "IPY_MODEL_a1c08233a7634418a9066ab115174995"
       ],
       "layout": "IPY_MODEL_0a191ba565394087a197451603304d97"
      }
     },
     "47335860076e40c596d50dc2db7d9394": {
      "model_module": "@jupyter-widgets/controls",
      "model_module_version": "1.5.0",
      "model_name": "DescriptionStyleModel",
      "state": {
       "description_width": ""
      }
     },
     "476963714c794cae8b3bcefa3691e3f1": {
      "model_module": "@jupyter-widgets/base",
      "model_module_version": "1.2.0",
      "model_name": "LayoutModel",
      "state": {
       "grid_area": "widget015"
      }
     },
     "477bb0144c3e46208365caf61f02ec5f": {
      "model_module": "@jupyter-widgets/controls",
      "model_module_version": "1.5.0",
      "model_name": "DescriptionStyleModel",
      "state": {
       "description_width": ""
      }
     },
     "47b1cf61328c43daa5aff21690d54d49": {
      "model_module": "@jupyter-widgets/controls",
      "model_module_version": "1.5.0",
      "model_name": "DescriptionStyleModel",
      "state": {
       "description_width": ""
      }
     },
     "47e10ec35b9a4367a501bc131d45bb04": {
      "model_module": "@jupyter-widgets/controls",
      "model_module_version": "1.5.0",
      "model_name": "DescriptionStyleModel",
      "state": {
       "description_width": ""
      }
     },
     "480a163f45dd49e1815cc29292e24dcb": {
      "model_module": "@jupyter-widgets/controls",
      "model_module_version": "1.5.0",
      "model_name": "HTMLModel",
      "state": {
       "layout": "IPY_MODEL_d114ddc3c5ab4694a796a3a877d2c166",
       "style": "IPY_MODEL_e2ca3232b17a420cbb67e77b3cd988d9",
       "value": "<a class=\"anchor\" href=\"#pp_var_-173527875387483092\"><code>Unnamed: 28</code></a> has 21551 (99.8%) missing values"
      }
     },
     "4836caa5b11247efa533b00b529689aa": {
      "model_module": "@jupyter-widgets/controls",
      "model_module_version": "1.5.0",
      "model_name": "HTMLModel",
      "state": {
       "layout": "IPY_MODEL_c58eecf522524cb19009285ac7cf7f8f",
       "style": "IPY_MODEL_9b1fb104ae3f453c85ccc8027d3aed8f",
       "value": "Software version"
      }
     },
     "484f098593144e95926610b3ce339326": {
      "model_module": "@jupyter-widgets/controls",
      "model_module_version": "1.5.0",
      "model_name": "LabelModel",
      "state": {
       "layout": "IPY_MODEL_bd41e37cea594520a9eddf4c137f7446",
       "style": "IPY_MODEL_7123f6f33edc409f9bcc10f198bfb440",
       "value": "19"
      }
     },
     "487750dd79d641e8956e10693279c66e": {
      "model_module": "@jupyter-widgets/base",
      "model_module_version": "1.2.0",
      "model_name": "LayoutModel",
      "state": {}
     },
     "48807807b6a44107b492a70c27e2fd4d": {
      "model_module": "@jupyter-widgets/base",
      "model_module_version": "1.2.0",
      "model_name": "LayoutModel",
      "state": {
       "grid_area": "widget001"
      }
     },
     "4883bc38982848bf8574d8dcf11b98b9": {
      "model_module": "@jupyter-widgets/base",
      "model_module_version": "1.2.0",
      "model_name": "LayoutModel",
      "state": {
       "grid_area": "widget005"
      }
     },
     "48cd514b542d4d63903e1053ccf05843": {
      "model_module": "@jupyter-widgets/controls",
      "model_module_version": "1.5.0",
      "model_name": "DescriptionStyleModel",
      "state": {
       "description_width": ""
      }
     },
     "48d2322f2e5347bab2cb9548363a64ea": {
      "model_module": "@jupyter-widgets/base",
      "model_module_version": "1.2.0",
      "model_name": "LayoutModel",
      "state": {}
     },
     "48eebfde2b78499ca7aa4948dd6c04fc": {
      "model_module": "@jupyter-widgets/controls",
      "model_module_version": "1.5.0",
      "model_name": "ProgressStyleModel",
      "state": {
       "description_width": ""
      }
     },
     "49740897ba0b421b96c1cdc27fff964b": {
      "model_module": "@jupyter-widgets/base",
      "model_module_version": "1.2.0",
      "model_name": "LayoutModel",
      "state": {
       "grid_area": "widget019"
      }
     },
     "498f18ee3c454bc4a1d933d5f22ba40b": {
      "model_module": "@jupyter-widgets/base",
      "model_module_version": "1.2.0",
      "model_name": "LayoutModel",
      "state": {
       "grid_template_columns": "33% 33% 33%",
       "width": "100%"
      }
     },
     "49a1dd18cffb411385dc7d4ce73a6764": {
      "model_module": "@jupyter-widgets/controls",
      "model_module_version": "1.5.0",
      "model_name": "LabelModel",
      "state": {
       "layout": "IPY_MODEL_6e1ba52e8084404baf538e4e94c86dca",
       "style": "IPY_MODEL_6a1d5c30f3c9446480eadac69214b006",
       "value": "112"
      }
     },
     "49a4cd7152b944178b246c99cd90daa3": {
      "model_module": "@jupyter-widgets/controls",
      "model_module_version": "1.5.0",
      "model_name": "DescriptionStyleModel",
      "state": {
       "description_width": ""
      }
     },
     "49ab086479164c92848b226cddaae8c7": {
      "model_module": "@jupyter-widgets/controls",
      "model_module_version": "1.5.0",
      "model_name": "HTMLModel",
      "state": {
       "layout": "IPY_MODEL_4b728ff59d8b41dab905a9dcbd165d36",
       "style": "IPY_MODEL_85ab871906b046da8a8f8e6dc77f6c29",
       "value": "<a class=\"anchor\" href=\"#pp_var_-4980201277795327264\"><code>FTIP No</code></a> has 4488 (20.8%) missing values"
      }
     },
     "49e5e9083d574c1d9ecbd0d2817fd428": {
      "model_module": "@jupyter-widgets/controls",
      "model_module_version": "1.5.0",
      "model_name": "ButtonStyleModel",
      "state": {}
     },
     "4a0756524ada446bac0e596edcfa3bf0": {
      "model_module": "@jupyter-widgets/controls",
      "model_module_version": "1.5.0",
      "model_name": "VBoxModel",
      "state": {
       "children": [
        "IPY_MODEL_975d62acfe264d069802a785605b698c"
       ],
       "layout": "IPY_MODEL_e429421525d0489da7b3815e6d9bca2f"
      }
     },
     "4a24b61bae1e496d8eb7f9ddbd81d25e": {
      "model_module": "@jupyter-widgets/controls",
      "model_module_version": "1.5.0",
      "model_name": "DescriptionStyleModel",
      "state": {
       "description_width": ""
      }
     },
     "4a2cedd71a5b453bb759eca6ea16bccd": {
      "model_module": "@jupyter-widgets/controls",
      "model_module_version": "1.5.0",
      "model_name": "ProgressStyleModel",
      "state": {
       "description_width": ""
      }
     },
     "4a6b7d9378eb4f39861c693a55e2b0d2": {
      "model_module": "@jupyter-widgets/controls",
      "model_module_version": "1.5.0",
      "model_name": "DescriptionStyleModel",
      "state": {
       "description_width": ""
      }
     },
     "4b07bac68d024ec198310288cf9b52e4": {
      "model_module": "@jupyter-widgets/controls",
      "model_module_version": "1.5.0",
      "model_name": "DescriptionStyleModel",
      "state": {
       "description_width": ""
      }
     },
     "4b32c015ff3742fdbcc5ba3d651676ff": {
      "model_module": "@jupyter-widgets/controls",
      "model_module_version": "1.5.0",
      "model_name": "ProgressStyleModel",
      "state": {
       "description_width": ""
      }
     },
     "4b49c2e4bd054accac29da6993257bda": {
      "model_module": "@jupyter-widgets/controls",
      "model_module_version": "1.5.0",
      "model_name": "ButtonModel",
      "state": {
       "button_style": "warning",
       "description": "Unsupported",
       "disabled": true,
       "layout": "IPY_MODEL_f937ee7786a04295895a5cecbd9960ae",
       "style": "IPY_MODEL_767cb4334eec425299f92381fdd73318"
      }
     },
     "4b5c5e1b1e674b24a524bf40705a5cce": {
      "model_module": "@jupyter-widgets/base",
      "model_module_version": "1.2.0",
      "model_name": "LayoutModel",
      "state": {}
     },
     "4b728ff59d8b41dab905a9dcbd165d36": {
      "model_module": "@jupyter-widgets/base",
      "model_module_version": "1.2.0",
      "model_name": "LayoutModel",
      "state": {}
     },
     "4b907dc1cad54d75a5f38d6d779ebcce": {
      "model_module": "@jupyter-widgets/base",
      "model_module_version": "1.2.0",
      "model_name": "LayoutModel",
      "state": {}
     },
     "4bbd60f7c19244f281ba35e0caf69ec2": {
      "model_module": "@jupyter-widgets/controls",
      "model_module_version": "1.5.0",
      "model_name": "DescriptionStyleModel",
      "state": {
       "description_width": ""
      }
     },
     "4be1797b48df40cdb1fe7bb85777dbde": {
      "model_module": "@jupyter-widgets/base",
      "model_module_version": "1.2.0",
      "model_name": "LayoutModel",
      "state": {
       "grid_area": "widget013"
      }
     },
     "4c664a1e891543eea8181ee9e82973bd": {
      "model_module": "@jupyter-widgets/base",
      "model_module_version": "1.2.0",
      "model_name": "LayoutModel",
      "state": {
       "grid_area": "widget006"
      }
     },
     "4c9a4a1f2f3341e09f2d0f5f46d35e6f": {
      "model_module": "@jupyter-widgets/controls",
      "model_module_version": "1.5.0",
      "model_name": "HTMLModel",
      "state": {
       "layout": "IPY_MODEL_a1510135f3114a0ebd23ca2cedb522e5",
       "style": "IPY_MODEL_68b2b50e16a24ca88c9fca41c57d282c",
       "value": "<p style=\"color: #999\"><em>Histogram of lengths of the category</em></p>"
      }
     },
     "4caabd43966f456cb8617f1a217e6ac2": {
      "model_module": "@jupyter-widgets/controls",
      "model_module_version": "1.5.0",
      "model_name": "FloatProgressModel",
      "state": {
       "bar_style": "success",
       "layout": "IPY_MODEL_52aba93d319b4ecb99497e1739723df5",
       "max": 5,
       "style": "IPY_MODEL_4a2cedd71a5b453bb759eca6ea16bccd",
       "value": 5
      }
     },
     "4cd6791938fb47149f9bd9565b61a8ca": {
      "model_module": "@jupyter-widgets/controls",
      "model_module_version": "1.5.0",
      "model_name": "HTMLModel",
      "state": {
       "layout": "IPY_MODEL_818410d1b9b144f7b1dc8b24d90fc610",
       "style": "IPY_MODEL_0656ebdc72614eb3b4b0d8004405e6ea",
       "value": "<a class=\"anchor\" href=\"#pp_var_5075180745154540758\"><code>Status</code></a> has a high cardinality: 273 distinct values"
      }
     },
     "4d0b223058b04abcbff25eb5cd5c90bb": {
      "model_module": "@jupyter-widgets/controls",
      "model_module_version": "1.5.0",
      "model_name": "DescriptionStyleModel",
      "state": {
       "description_width": ""
      }
     },
     "4d1cfa1494ea4ec289fb602826db284a": {
      "model_module": "@jupyter-widgets/controls",
      "model_module_version": "1.5.0",
      "model_name": "HTMLModel",
      "state": {
       "layout": "IPY_MODEL_31a781d7b9e74ed18fd2a7693c8db126",
       "style": "IPY_MODEL_c02a81385ba64b9092e916cdd9f781b1",
       "value": "<a class=\"anchor\" href=\"#pp_var_-5136899479059597449\">\n        <code>Location</code>\n    </a> is highly correlated with <code>Status Comment</code>"
      }
     },
     "4d36d7265445416f8e647af9f0d92383": {
      "model_module": "@jupyter-widgets/controls",
      "model_module_version": "1.5.0",
      "model_name": "DescriptionStyleModel",
      "state": {
       "description_width": ""
      }
     },
     "4d687c2aed664e7885c24eb26f28e752": {
      "model_module": "@jupyter-widgets/controls",
      "model_module_version": "1.5.0",
      "model_name": "ButtonModel",
      "state": {
       "button_style": "warning",
       "description": "Unsupported",
       "disabled": true,
       "layout": "IPY_MODEL_7842d0b38a174360a10e76874a362a19",
       "style": "IPY_MODEL_3277677af1374d75912bdc36a1216d34"
      }
     },
     "4d748e9aa73a46bca5e3b4bf592da2a4": {
      "model_module": "@jupyter-widgets/controls",
      "model_module_version": "1.5.0",
      "model_name": "ButtonModel",
      "state": {
       "button_style": "warning",
       "description": "Unsupported",
       "disabled": true,
       "layout": "IPY_MODEL_b984d4caf7c64413bb09bd4c8860b02c",
       "style": "IPY_MODEL_f51bca7f1cd34f6991290f499c64460a"
      }
     },
     "4dad9edd42424caca147a8ff1c152191": {
      "model_module": "@jupyter-widgets/base",
      "model_module_version": "1.2.0",
      "model_name": "LayoutModel",
      "state": {}
     },
     "4dae437ac4704fddb1d687aa0e608d40": {
      "model_module": "@jupyter-widgets/controls",
      "model_module_version": "1.5.0",
      "model_name": "ButtonModel",
      "state": {
       "button_style": "warning",
       "description": "Unsupported",
       "disabled": true,
       "layout": "IPY_MODEL_b2376619d9d142358f52c3aca9e7a707",
       "style": "IPY_MODEL_b4bd362460d24ba08637bd34f3c8b768"
      }
     },
     "4de6d8c7b4e6405eb401ff7097d639aa": {
      "model_module": "@jupyter-widgets/controls",
      "model_module_version": "1.5.0",
      "model_name": "LabelModel",
      "state": {
       "layout": "IPY_MODEL_fd92312ea8ee43a6a471118a25af9839",
       "style": "IPY_MODEL_6e599697acda464ab343a1d1980748a7",
       "value": "2"
      }
     },
     "4dfe845912494ccab8c7aa077f3efa31": {
      "model_module": "@jupyter-widgets/controls",
      "model_module_version": "1.5.0",
      "model_name": "ButtonModel",
      "state": {
       "button_style": "info",
       "description": "Missing",
       "disabled": true,
       "layout": "IPY_MODEL_737bda876d1d44bb8889ecc0481d2b6c",
       "style": "IPY_MODEL_7da8bf815e494ef8a37875ec6eca35c3"
      }
     },
     "4e25d145d9d341d09f1eda6f8fc91e18": {
      "model_module": "@jupyter-widgets/controls",
      "model_module_version": "1.5.0",
      "model_name": "DescriptionStyleModel",
      "state": {
       "description_width": ""
      }
     },
     "4e3abec9e5e24e919e95a2e8464a9dd7": {
      "model_module": "@jupyter-widgets/base",
      "model_module_version": "1.2.0",
      "model_name": "LayoutModel",
      "state": {}
     },
     "4e5f8ff8b483486cb5a9a0b751bc34ce": {
      "model_module": "@jupyter-widgets/base",
      "model_module_version": "1.2.0",
      "model_name": "LayoutModel",
      "state": {}
     },
     "4eefe26726854960b992bcb1fed5bd74": {
      "model_module": "@jupyter-widgets/controls",
      "model_module_version": "1.5.0",
      "model_name": "LabelModel",
      "state": {
       "layout": "IPY_MODEL_97d683354a024a98bdfd13bd5cf530d8",
       "style": "IPY_MODEL_a324bb6bcbce451ea7948d2c91c4a60b",
       "value": "FHWA"
      }
     },
     "4f267f145ca44b88a0a192ffc40695e8": {
      "model_module": "@jupyter-widgets/controls",
      "model_module_version": "1.5.0",
      "model_name": "DescriptionStyleModel",
      "state": {
       "description_width": ""
      }
     },
     "4f2f4ac10fdd46d78c6cf4d4ff481523": {
      "model_module": "@jupyter-widgets/controls",
      "model_module_version": "1.5.0",
      "model_name": "ButtonStyleModel",
      "state": {}
     },
     "4f5e83dcd1b8426ea4790284dd04e85f": {
      "model_module": "@jupyter-widgets/controls",
      "model_module_version": "1.5.0",
      "model_name": "ProgressStyleModel",
      "state": {
       "description_width": ""
      }
     },
     "4f6544c0bc3340a6b81425b0e09e16b0": {
      "model_module": "@jupyter-widgets/controls",
      "model_module_version": "1.5.0",
      "model_name": "DescriptionStyleModel",
      "state": {
       "description_width": ""
      }
     },
     "4f76bb1677eb4a208cf029b6a0a020de": {
      "model_module": "@jupyter-widgets/controls",
      "model_module_version": "1.5.0",
      "model_name": "DescriptionStyleModel",
      "state": {
       "description_width": ""
      }
     },
     "4ffcc01de6234f8484752588e4fea03c": {
      "model_module": "@jupyter-widgets/base",
      "model_module_version": "1.2.0",
      "model_name": "LayoutModel",
      "state": {}
     },
     "500ab2e17fa44e6b94d18e690fc27deb": {
      "model_module": "@jupyter-widgets/controls",
      "model_module_version": "1.5.0",
      "model_name": "HTMLModel",
      "state": {
       "layout": "IPY_MODEL_330ed5445ee34ae5a035f01a81ec428f",
       "style": "IPY_MODEL_981aef9d7c0e4c0e9462f9ad23f4b2ac",
       "value": " 1/1 [00:07&lt;00:00,  7.41s/it]"
      }
     },
     "505092769e6945f2b97c0987fc2c46d7": {
      "model_module": "@jupyter-widgets/controls",
      "model_module_version": "1.5.0",
      "model_name": "HTMLModel",
      "state": {
       "layout": "IPY_MODEL_6a78951bdcc840fca5295b54f4b61cff",
       "style": "IPY_MODEL_bbe926a57d3b45cb9f27781c09ba68df",
       "value": "Average record size in memory"
      }
     },
     "505c363a4b2741eaae3f09f31a1c42b8": {
      "model_module": "@jupyter-widgets/controls",
      "model_module_version": "1.5.0",
      "model_name": "ButtonModel",
      "state": {
       "button_style": "info",
       "description": "Missing",
       "disabled": true,
       "layout": "IPY_MODEL_ed0f0adf2c464e6299274ebb3fc6d141",
       "style": "IPY_MODEL_49e5e9083d574c1d9ecbd0d2817fd428"
      }
     },
     "50e25427fce94d1481177518ce2ce711": {
      "model_module": "@jupyter-widgets/controls",
      "model_module_version": "1.5.0",
      "model_name": "VBoxModel",
      "state": {
       "children": [
        "IPY_MODEL_b64703ab4d0a4afd9845213af9817689"
       ],
       "layout": "IPY_MODEL_c3b3593f7cc34f76bd14ea6dd1ba3771"
      }
     },
     "5115396463c3459eb942c4824ad837d3": {
      "model_module": "@jupyter-widgets/controls",
      "model_module_version": "1.5.0",
      "model_name": "ButtonModel",
      "state": {
       "description": "High correlation",
       "disabled": true,
       "layout": "IPY_MODEL_09a2f4862c704a06b54633e3cba7bd57",
       "style": "IPY_MODEL_454aee69717044478360f479f7b0fc76"
      }
     },
     "511f0acf36e54eb0b274cabba9b242bf": {
      "model_module": "@jupyter-widgets/controls",
      "model_module_version": "1.5.0",
      "model_name": "HTMLModel",
      "state": {
       "layout": "IPY_MODEL_d62bf51017ce4d688619b18bb01fcfb2",
       "style": "IPY_MODEL_b92abbc8186c4941a3a07ac43c4dcfba",
       "value": "<a class=\"anchor\" href=\"#pp_var_421277438688712540\"><code>Warning</code></a> has 21506 (99.6%) missing values"
      }
     },
     "51372fa7d4554594b5b1380c3dbebe1f": {
      "model_module": "@jupyter-widgets/base",
      "model_module_version": "1.2.0",
      "model_name": "LayoutModel",
      "state": {}
     },
     "51736dc769bf43efbb319fa14d3ebddb": {
      "model_module": "@jupyter-widgets/base",
      "model_module_version": "1.2.0",
      "model_name": "LayoutModel",
      "state": {}
     },
     "519975c592ca48c493a724992286de47": {
      "model_module": "@jupyter-widgets/base",
      "model_module_version": "1.2.0",
      "model_name": "LayoutModel",
      "state": {
       "grid_area": "widget002"
      }
     },
     "519df7eda9b644d69de6f11fc7f5913b": {
      "model_module": "@jupyter-widgets/base",
      "model_module_version": "1.2.0",
      "model_name": "LayoutModel",
      "state": {
       "grid_area": "widget002"
      }
     },
     "51c60c9abd414b5c916dd4fe09c17f0f": {
      "model_module": "@jupyter-widgets/controls",
      "model_module_version": "1.5.0",
      "model_name": "DescriptionStyleModel",
      "state": {
       "description_width": ""
      }
     },
     "51de57f2c0004e9599fc3fcfc71b78e3": {
      "model_module": "@jupyter-widgets/controls",
      "model_module_version": "1.5.0",
      "model_name": "HTMLModel",
      "state": {
       "layout": "IPY_MODEL_9df58072f9564a79af9c1396648bd5e8",
       "style": "IPY_MODEL_062df27fccbf4eedb177fc64aec554c4",
       "value": "Memory size"
      }
     },
     "52047b0095374a23a3834d930a2335ac": {
      "model_module": "@jupyter-widgets/base",
      "model_module_version": "1.2.0",
      "model_name": "LayoutModel",
      "state": {
       "grid_area": "widget016"
      }
     },
     "52411bd7780f4f4487bcc29797623e95": {
      "model_module": "@jupyter-widgets/controls",
      "model_module_version": "1.5.0",
      "model_name": "ButtonModel",
      "state": {
       "button_style": "warning",
       "description": "Unsupported",
       "disabled": true,
       "layout": "IPY_MODEL_cbb774f6eb984375bed362a1df0a3090",
       "style": "IPY_MODEL_9faaaf18f6ce4af78f5cfc30ee45bc7d"
      }
     },
     "526e5b2f14cc42779a695a8496e03c84": {
      "model_module": "@jupyter-widgets/controls",
      "model_module_version": "1.5.0",
      "model_name": "ButtonModel",
      "state": {
       "button_style": "info",
       "description": "Missing",
       "disabled": true,
       "layout": "IPY_MODEL_e033fb8a89784f4698fba901199900d5",
       "style": "IPY_MODEL_dca2ad0d5574431e89b2e043eccbb807"
      }
     },
     "5271157ad5904c6783358ac6d73a9d6e": {
      "model_module": "@jupyter-widgets/controls",
      "model_module_version": "1.5.0",
      "model_name": "DescriptionStyleModel",
      "state": {
       "description_width": ""
      }
     },
     "52aba93d319b4ecb99497e1739723df5": {
      "model_module": "@jupyter-widgets/base",
      "model_module_version": "1.2.0",
      "model_name": "LayoutModel",
      "state": {}
     },
     "531b400071fa44b7b3088631b8047aed": {
      "model_module": "@jupyter-widgets/base",
      "model_module_version": "1.2.0",
      "model_name": "LayoutModel",
      "state": {}
     },
     "5320c7986c394e0f9b72f060de543725": {
      "model_module": "@jupyter-widgets/controls",
      "model_module_version": "1.5.0",
      "model_name": "FloatProgressModel",
      "state": {
       "layout": "IPY_MODEL_a96483551081466191b6719fe2d0a27d",
       "max": 22144,
       "style": "IPY_MODEL_d643a69204604a569e95f64e6010bd6f",
       "value": 550
      }
     },
     "53256a7014ac4aefa73275a90cf6856a": {
      "model_module": "@jupyter-widgets/controls",
      "model_module_version": "1.5.0",
      "model_name": "LabelModel",
      "state": {
       "layout": "IPY_MODEL_a33bceecc44d469ea50da7f26f77dddb",
       "style": "IPY_MODEL_48cd514b542d4d63903e1053ccf05843",
       "value": "district"
      }
     },
     "532ca8c1ef2443a49791384e161f6987": {
      "model_module": "@jupyter-widgets/controls",
      "model_module_version": "1.5.0",
      "model_name": "ButtonStyleModel",
      "state": {}
     },
     "533b05a15b81478a942dc6d1e21f5835": {
      "model_module": "@jupyter-widgets/controls",
      "model_module_version": "1.5.0",
      "model_name": "ButtonModel",
      "state": {
       "button_style": "warning",
       "description": "Unsupported",
       "disabled": true,
       "layout": "IPY_MODEL_b00d6338739e4f819441095f256fa8c2",
       "style": "IPY_MODEL_3da71d7b898b4c158beb74f1383b2ac9"
      }
     },
     "534450f9431148088003caa6eec937bc": {
      "model_module": "@jupyter-widgets/controls",
      "model_module_version": "1.5.0",
      "model_name": "VBoxModel",
      "state": {
       "children": [
        "IPY_MODEL_410a91470a914f999e01969240c1650b"
       ],
       "layout": "IPY_MODEL_487750dd79d641e8956e10693279c66e"
      }
     },
     "534b7cb08a3a4f43a174195a4385cafa": {
      "model_module": "@jupyter-widgets/controls",
      "model_module_version": "1.5.0",
      "model_name": "DescriptionStyleModel",
      "state": {
       "description_width": ""
      }
     },
     "537a10facf2045dda4745c68feb15ce3": {
      "model_module": "@jupyter-widgets/controls",
      "model_module_version": "1.5.0",
      "model_name": "ButtonStyleModel",
      "state": {}
     },
     "53b659f82bd9427ea84f1e3c5048a8ef": {
      "model_module": "@jupyter-widgets/controls",
      "model_module_version": "1.5.0",
      "model_name": "HTMLModel",
      "state": {
       "layout": "IPY_MODEL_418e04a130f3497f8d1dabcbc00d1f75",
       "style": "IPY_MODEL_f98b45df55fc4aff97efb099770395f4",
       "value": "Categorical"
      }
     },
     "53d7b91d2b764ef88a04671453923259": {
      "model_module": "@jupyter-widgets/base",
      "model_module_version": "1.2.0",
      "model_name": "LayoutModel",
      "state": {}
     },
     "53e5a51a0e9a4403a576f33131f3a68d": {
      "model_module": "@jupyter-widgets/base",
      "model_module_version": "1.2.0",
      "model_name": "LayoutModel",
      "state": {
       "grid_area": "widget003"
      }
     },
     "53eefa81d2134914975fab157d933dd8": {
      "model_module": "@jupyter-widgets/base",
      "model_module_version": "1.2.0",
      "model_name": "LayoutModel",
      "state": {
       "grid_area": "widget018"
      }
     },
     "5420488b8b3547938a7bbacb014963d1": {
      "model_module": "@jupyter-widgets/base",
      "model_module_version": "1.2.0",
      "model_name": "LayoutModel",
      "state": {}
     },
     "54740b23c81a45c4a7b8249d6142b219": {
      "model_module": "@jupyter-widgets/controls",
      "model_module_version": "1.5.0",
      "model_name": "DescriptionStyleModel",
      "state": {
       "description_width": ""
      }
     },
     "54a7b831fd544b8e8982062e08c7371a": {
      "model_module": "@jupyter-widgets/controls",
      "model_module_version": "1.5.0",
      "model_name": "ProgressStyleModel",
      "state": {
       "description_width": ""
      }
     },
     "54b1b4266cec4f4ca3db1c029308fea8": {
      "model_module": "@jupyter-widgets/controls",
      "model_module_version": "1.5.0",
      "model_name": "DescriptionStyleModel",
      "state": {
       "description_width": ""
      }
     },
     "54be42e3ec9343ed8162cda1e23c2265": {
      "model_module": "@jupyter-widgets/controls",
      "model_module_version": "1.5.0",
      "model_name": "ProgressStyleModel",
      "state": {
       "description_width": ""
      }
     },
     "550171293505488fa547b276e1872b25": {
      "model_module": "@jupyter-widgets/base",
      "model_module_version": "1.2.0",
      "model_name": "LayoutModel",
      "state": {
       "grid_area": "widget002"
      }
     },
     "55233934b78c4512a8f8ce0a3ecf82b0": {
      "model_module": "@jupyter-widgets/controls",
      "model_module_version": "1.5.0",
      "model_name": "LabelModel",
      "state": {
       "layout": "IPY_MODEL_ed269633bc1c402ea3670a70131cec13",
       "style": "IPY_MODEL_774dc7430d4949848ce8ba0596195766",
       "value": "85"
      }
     },
     "55280754d57f40c4bd8ffd664c6b4e32": {
      "model_module": "@jupyter-widgets/controls",
      "model_module_version": "1.5.0",
      "model_name": "DescriptionStyleModel",
      "state": {
       "description_width": ""
      }
     },
     "559abed8baaf401ea58157df1f8ff004": {
      "model_module": "@jupyter-widgets/controls",
      "model_module_version": "1.5.0",
      "model_name": "DescriptionStyleModel",
      "state": {
       "description_width": ""
      }
     },
     "55acdef85b5f41e98503f575411f1f4f": {
      "model_module": "@jupyter-widgets/base",
      "model_module_version": "1.2.0",
      "model_name": "LayoutModel",
      "state": {}
     },
     "55cf435de8144a9eb93ef23ab5047c81": {
      "model_module": "@jupyter-widgets/base",
      "model_module_version": "1.2.0",
      "model_name": "LayoutModel",
      "state": {}
     },
     "55ff858c9f5d472986271de848625f37": {
      "model_module": "@jupyter-widgets/base",
      "model_module_version": "1.2.0",
      "model_name": "LayoutModel",
      "state": {}
     },
     "5603f3fa832b4b429036cc17bae02650": {
      "model_module": "@jupyter-widgets/controls",
      "model_module_version": "1.5.0",
      "model_name": "DescriptionStyleModel",
      "state": {
       "description_width": ""
      }
     },
     "567401dc06404026bcc17c60987bf048": {
      "model_module": "@jupyter-widgets/base",
      "model_module_version": "1.2.0",
      "model_name": "LayoutModel",
      "state": {
       "grid_area": "widget001"
      }
     },
     "5686ee27f5ec46e4b814ea957a8eb49a": {
      "model_module": "@jupyter-widgets/controls",
      "model_module_version": "1.5.0",
      "model_name": "DescriptionStyleModel",
      "state": {
       "description_width": ""
      }
     },
     "56cbb69c66144a8f9d443de386942a78": {
      "model_module": "@jupyter-widgets/controls",
      "model_module_version": "1.5.0",
      "model_name": "HTMLModel",
      "state": {
       "layout": "IPY_MODEL_0dbb70558a584ab4a8fa28cbe9aa8475",
       "style": "IPY_MODEL_bd7941bd3cfa46668c1c432763c17ac2",
       "value": "0.0%"
      }
     },
     "56f6f40348544345af80245d470d24e8": {
      "model_module": "@jupyter-widgets/controls",
      "model_module_version": "1.5.0",
      "model_name": "HTMLModel",
      "state": {
       "layout": "IPY_MODEL_1d9db680f72e4b5c9ddcb2bf499c195d",
       "style": "IPY_MODEL_4d0b223058b04abcbff25eb5cd5c90bb",
       "value": "Distinct"
      }
     },
     "570bf3861caa411ead8b46c4a798a666": {
      "model_module": "@jupyter-widgets/base",
      "model_module_version": "1.2.0",
      "model_name": "LayoutModel",
      "state": {
       "grid_area": "widget006"
      }
     },
     "5722a385480e4127a7764264ea38a2a1": {
      "model_module": "@jupyter-widgets/controls",
      "model_module_version": "1.5.0",
      "model_name": "HBoxModel",
      "state": {
       "children": [
        "IPY_MODEL_1a701ce58b624f3a8e151fbdda122180",
        "IPY_MODEL_d0aacf1d8e3d4c35bb78905711a9d51b"
       ],
       "layout": "IPY_MODEL_827840c9123c4a38b5839ef271318632"
      }
     },
     "577ff9c22367471d9a519e987eddf08a": {
      "model_module": "@jupyter-widgets/controls",
      "model_module_version": "1.5.0",
      "model_name": "DescriptionStyleModel",
      "state": {
       "description_width": ""
      }
     },
     "578e6763bcda42fabb38d1f2a6d4be60": {
      "model_module": "@jupyter-widgets/base",
      "model_module_version": "1.2.0",
      "model_name": "LayoutModel",
      "state": {}
     },
     "579844dddea04d8587b629e0e9c51f91": {
      "model_module": "@jupyter-widgets/controls",
      "model_module_version": "1.5.0",
      "model_name": "LabelModel",
      "state": {
       "layout": "IPY_MODEL_dffdbfd9bfb847deb0845763dc729874",
       "style": "IPY_MODEL_abb3526bdb0c4ceaac7428e670f44fc2",
       "value": "550"
      }
     },
     "57ad37e3d2834c3d95186f07eb11fb8e": {
      "model_module": "@jupyter-widgets/base",
      "model_module_version": "1.2.0",
      "model_name": "LayoutModel",
      "state": {
       "grid_template_areas": "\"widget001 widget002 widget003\"\n\"widget004 widget005 widget006\"\n\"widget007 widget008 widget009\"\n\"widget010 widget011 widget012\"\n\"widget013 widget014 widget015\"\n\"widget016 widget017 widget018\"",
       "grid_template_columns": "repeat(3, 1fr)",
       "grid_template_rows": "repeat(6, 1fr)"
      }
     },
     "5830acfb27434904b648b109c694f9b9": {
      "model_module": "@jupyter-widgets/base",
      "model_module_version": "1.2.0",
      "model_name": "LayoutModel",
      "state": {}
     },
     "583d61e73d5f4f188f06c6bead136748": {
      "model_module": "@jupyter-widgets/base",
      "model_module_version": "1.2.0",
      "model_name": "LayoutModel",
      "state": {}
     },
     "585ddf113a24421ba02ec48cb0f53740": {
      "model_module": "@jupyter-widgets/base",
      "model_module_version": "1.2.0",
      "model_name": "LayoutModel",
      "state": {
       "grid_area": "widget005"
      }
     },
     "58ce15da1fa34097b28e994e659fce02": {
      "model_module": "@jupyter-widgets/controls",
      "model_module_version": "1.5.0",
      "model_name": "ButtonStyleModel",
      "state": {}
     },
     "58d38f578241494d98577534d319980e": {
      "model_module": "@jupyter-widgets/controls",
      "model_module_version": "1.5.0",
      "model_name": "ButtonModel",
      "state": {
       "button_style": "warning",
       "description": "Unsupported",
       "disabled": true,
       "layout": "IPY_MODEL_99c74786a1544ad3915df637b537c608",
       "style": "IPY_MODEL_1a721d7e15754d2ea3af773285c0e9f1"
      }
     },
     "58e93ec40f4d445dac6cdd253ba8b2e9": {
      "model_module": "@jupyter-widgets/controls",
      "model_module_version": "1.5.0",
      "model_name": "ButtonStyleModel",
      "state": {}
     },
     "59107c655db045268005fb92e7e4e915": {
      "model_module": "@jupyter-widgets/base",
      "model_module_version": "1.2.0",
      "model_name": "LayoutModel",
      "state": {}
     },
     "5933e19725c74d0cb7af12eb57b0b19c": {
      "model_module": "@jupyter-widgets/base",
      "model_module_version": "1.2.0",
      "model_name": "LayoutModel",
      "state": {
       "grid_area": "widget017"
      }
     },
     "594fbc5be40b470691d52672db7d77c4": {
      "model_module": "@jupyter-widgets/base",
      "model_module_version": "1.2.0",
      "model_name": "LayoutModel",
      "state": {
       "grid_area": "widget016"
      }
     },
     "5a049b9abdf345768bb5e2d67bc79910": {
      "model_module": "@jupyter-widgets/controls",
      "model_module_version": "1.5.0",
      "model_name": "ButtonModel",
      "state": {
       "button_style": "info",
       "description": "Zeros",
       "disabled": true,
       "layout": "IPY_MODEL_5830acfb27434904b648b109c694f9b9",
       "style": "IPY_MODEL_58ce15da1fa34097b28e994e659fce02"
      }
     },
     "5a08e29a7e9e44f881980c348972e0a3": {
      "model_module": "@jupyter-widgets/controls",
      "model_module_version": "1.5.0",
      "model_name": "DescriptionStyleModel",
      "state": {
       "description_width": ""
      }
     },
     "5a0acd7d99e94e77885b5f18d554ad4e": {
      "model_module": "@jupyter-widgets/controls",
      "model_module_version": "1.5.0",
      "model_name": "HTMLModel",
      "state": {
       "layout": "IPY_MODEL_5de5e3a8e052429aa88be86b98ca766f",
       "style": "IPY_MODEL_df6908802ecd4d7b908430517a00b1d7",
       "value": "<a class=\"anchor\" href=\"#pp_var_-5370696587087856265\"><code>submit to FHWA date</code></a> is an unsupported type, check if it needs cleaning or further analysis"
      }
     },
     "5a28d775ac844c06b74ede4bc55b5071": {
      "model_module": "@jupyter-widgets/controls",
      "model_module_version": "1.5.0",
      "model_name": "LabelModel",
      "state": {
       "layout": "IPY_MODEL_e9440608ab3c44f98fd1522d45c1e62a",
       "style": "IPY_MODEL_12890d4543ef471686fb2d16094e63ef",
       "value": "85"
      }
     },
     "5a48e8b34d504ec48bc29355781d9930": {
      "model_module": "@jupyter-widgets/controls",
      "model_module_version": "1.5.0",
      "model_name": "DescriptionStyleModel",
      "state": {
       "description_width": ""
      }
     },
     "5a491e006db3427a90921213ce4bd07b": {
      "model_module": "@jupyter-widgets/controls",
      "model_module_version": "1.5.0",
      "model_name": "DescriptionStyleModel",
      "state": {
       "description_width": ""
      }
     },
     "5a58cf905b0244b0b935fe97ea51cef0": {
      "model_module": "@jupyter-widgets/base",
      "model_module_version": "1.2.0",
      "model_name": "LayoutModel",
      "state": {
       "grid_area": "widget010"
      }
     },
     "5a6f968f134142fdb86ac24f5f671f50": {
      "model_module": "@jupyter-widgets/controls",
      "model_module_version": "1.5.0",
      "model_name": "FloatProgressModel",
      "state": {
       "bar_style": "success",
       "layout": "IPY_MODEL_8b90969298434fef9832913a33b4ee83",
       "max": 1,
       "style": "IPY_MODEL_aab2f464ce2b402096e7bd62d070ae86",
       "value": 1
      }
     },
     "5aa7b6700812486e98ce222d4392104f": {
      "model_module": "@jupyter-widgets/base",
      "model_module_version": "1.2.0",
      "model_name": "LayoutModel",
      "state": {}
     },
     "5aeb22b9d0024997bff2a64babd6dd2d": {
      "model_module": "@jupyter-widgets/controls",
      "model_module_version": "1.5.0",
      "model_name": "DescriptionStyleModel",
      "state": {
       "description_width": ""
      }
     },
     "5b16d2f420a448fc84dffe9550923d24": {
      "model_module": "@jupyter-widgets/controls",
      "model_module_version": "1.5.0",
      "model_name": "HTMLModel",
      "state": {
       "layout": "IPY_MODEL_297ecf5810c44666aca72031c667956c",
       "style": "IPY_MODEL_12444cfeb17647e9972af994b31293e3",
       "value": "< 0.1%"
      }
     },
     "5b1733b18e0445a590779286ae8d0d1f": {
      "model_module": "@jupyter-widgets/controls",
      "model_module_version": "1.5.0",
      "model_name": "ButtonStyleModel",
      "state": {}
     },
     "5b509ba866964919834dcc8c64ca7eff": {
      "model_module": "@jupyter-widgets/controls",
      "model_module_version": "1.5.0",
      "model_name": "FloatProgressModel",
      "state": {
       "bar_style": "danger",
       "layout": "IPY_MODEL_e77d69c6694542fdb4d6a516abb958f3",
       "max": 1,
       "style": "IPY_MODEL_35a51d7506de4cf2b18b42266a9b8398"
      }
     },
     "5ba12a19269440c28181bfdc487362c9": {
      "model_module": "@jupyter-widgets/base",
      "model_module_version": "1.2.0",
      "model_name": "LayoutModel",
      "state": {
       "grid_template_columns": "100%",
       "width": "100%"
      }
     },
     "5bac1dc9ea4d4ce8ba00d793c40fc412": {
      "model_module": "@jupyter-widgets/base",
      "model_module_version": "1.2.0",
      "model_name": "LayoutModel",
      "state": {}
     },
     "5bb3e91281e844c8bf6110c7112fb667": {
      "model_module": "@jupyter-widgets/controls",
      "model_module_version": "1.5.0",
      "model_name": "HTMLModel",
      "state": {
       "layout": "IPY_MODEL_1565eea9c2c746bab7a7f5404779cd33",
       "style": "IPY_MODEL_fe3f601f4eb4429ea98a9451c2bc2758",
       "value": "<a download=\"config.json\" href=\"data:text/plain;charset=utf-8,%7B%22title%22%3A%20%22Pandas%20Profiling%20Report%22%2C%20%22dataset%22%3A%20%7B%22description%22%3A%20%22%22%2C%20%22creator%22%3A%20%22%22%2C%20%22author%22%3A%20%22%22%2C%20%22copyright_holder%22%3A%20%22%22%2C%20%22copyright_year%22%3A%20%22%22%2C%20%22url%22%3A%20%22%22%7D%2C%20%22variables%22%3A%20%7B%22descriptions%22%3A%20%7B%7D%7D%2C%20%22infer_dtypes%22%3A%20true%2C%20%22show_variable_description%22%3A%20true%2C%20%22pool_size%22%3A%200%2C%20%22progress_bar%22%3A%20true%2C%20%22vars%22%3A%20%7B%22num%22%3A%20%7B%22quantiles%22%3A%20%5B0.05%2C%200.25%2C%200.5%2C%200.75%2C%200.95%5D%2C%20%22skewness_threshold%22%3A%2020%2C%20%22low_categorical_threshold%22%3A%205%2C%20%22chi_squared_threshold%22%3A%200.999%7D%2C%20%22cat%22%3A%20%7B%22length%22%3A%20true%2C%20%22characters%22%3A%20true%2C%20%22words%22%3A%20true%2C%20%22cardinality_threshold%22%3A%2050%2C%20%22n_obs%22%3A%205%2C%20%22chi_squared_threshold%22%3A%200.999%2C%20%22coerce_str_to_date%22%3A%20false%2C%20%22redact%22%3A%20false%2C%20%22histogram_largest%22%3A%2050%7D%2C%20%22image%22%3A%20%7B%22active%22%3A%20true%2C%20%22exif%22%3A%20true%2C%20%22hash%22%3A%20true%7D%2C%20%22bool%22%3A%20%7B%22n_obs%22%3A%203%2C%20%22mappings%22%3A%20%7B%22t%22%3A%20true%2C%20%22f%22%3A%20false%2C%20%22yes%22%3A%20true%2C%20%22no%22%3A%20false%2C%20%22y%22%3A%20true%2C%20%22n%22%3A%20false%2C%20%22true%22%3A%20true%2C%20%22false%22%3A%20false%7D%7D%2C%20%22path%22%3A%20%7B%22active%22%3A%20true%7D%2C%20%22file%22%3A%20%7B%22active%22%3A%20true%7D%2C%20%22url%22%3A%20%7B%22active%22%3A%20true%7D%7D%2C%20%22sort%22%3A%20null%2C%20%22missing_diagrams%22%3A%20%7B%22bar%22%3A%20true%2C%20%22matrix%22%3A%20true%2C%20%22dendrogram%22%3A%20true%2C%20%22heatmap%22%3A%20true%7D%2C%20%22correlations%22%3A%20%7B%22spearman%22%3A%20%7B%22key%22%3A%20%22spearman%22%2C%20%22calculate%22%3A%20true%2C%20%22warn_high_correlations%22%3A%2010%2C%20%22threshold%22%3A%200.5%7D%2C%20%22pearson%22%3A%20%7B%22key%22%3A%20%22pearson%22%2C%20%22calculate%22%3A%20true%2C%20%22warn_high_correlations%22%3A%2010%2C%20%22threshold%22%3A%200.5%7D%2C%20%22kendall%22%3A%20%7B%22key%22%3A%20%22kendall%22%2C%20%22calculate%22%3A%20true%2C%20%22warn_high_correlations%22%3A%2010%2C%20%22threshold%22%3A%200.5%7D%2C%20%22cramers%22%3A%20%7B%22key%22%3A%20%22cramers%22%2C%20%22calculate%22%3A%20true%2C%20%22warn_high_correlations%22%3A%2010%2C%20%22threshold%22%3A%200.5%7D%2C%20%22phi_k%22%3A%20%7B%22key%22%3A%20%22phi_k%22%2C%20%22calculate%22%3A%20true%2C%20%22warn_high_correlations%22%3A%2010%2C%20%22threshold%22%3A%200.5%7D%7D%2C%20%22interactions%22%3A%20%7B%22continuous%22%3A%20true%2C%20%22targets%22%3A%20%5B%5D%7D%2C%20%22categorical_maximum_correlation_distinct%22%3A%20100%2C%20%22memory_deep%22%3A%20true%2C%20%22plot%22%3A%20%7B%22missing%22%3A%20%7B%22force_labels%22%3A%20true%2C%20%22cmap%22%3A%20%22RdBu%22%7D%2C%20%22image_format%22%3A%20%22svg%22%2C%20%22correlation%22%3A%20%7B%22cmap%22%3A%20%22RdBu%22%2C%20%22bad%22%3A%20%22%23000000%22%7D%2C%20%22dpi%22%3A%20800%2C%20%22histogram%22%3A%20%7B%22bins%22%3A%2050%2C%20%22max_bins%22%3A%20250%2C%20%22x_axis_labels%22%3A%20true%7D%2C%20%22scatter_threshold%22%3A%201000%2C%20%22pie%22%3A%20%7B%22max_unique%22%3A%2010%7D%7D%2C%20%22duplicates%22%3A%20%7B%22head%22%3A%2010%2C%20%22key%22%3A%20%22%23%20duplicates%22%7D%2C%20%22samples%22%3A%20%7B%22head%22%3A%2010%2C%20%22tail%22%3A%2010%2C%20%22random%22%3A%200%7D%2C%20%22reject_variables%22%3A%20true%2C%20%22n_obs_unique%22%3A%2010%2C%20%22n_freq_table_max%22%3A%2010%2C%20%22n_extreme_obs%22%3A%2010%2C%20%22report%22%3A%20%7B%22precision%22%3A%2010%7D%2C%20%22html%22%3A%20%7B%22style%22%3A%20%7B%22primary_color%22%3A%20%22%23337ab7%22%2C%20%22logo%22%3A%20%22%22%2C%20%22theme%22%3A%20null%7D%2C%20%22navbar_show%22%3A%20true%2C%20%22minify_html%22%3A%20true%2C%20%22use_local_assets%22%3A%20true%2C%20%22inline%22%3A%20true%2C%20%22assets_prefix%22%3A%20null%2C%20%22assets_path%22%3A%20null%2C%20%22full_width%22%3A%20false%7D%2C%20%22notebook%22%3A%20%7B%22iframe%22%3A%20%7B%22height%22%3A%20%22800px%22%2C%20%22width%22%3A%20%22100%25%22%2C%20%22attribute%22%3A%20%22srcdoc%22%7D%7D%7D\">config.json</a>"
      }
     },
     "5be6b096bb234551937688782e4a8066": {
      "model_module": "@jupyter-widgets/controls",
      "model_module_version": "1.5.0",
      "model_name": "DescriptionStyleModel",
      "state": {
       "description_width": ""
      }
     },
     "5bf81d7b8d5a4e169ab18745ed7c1dae": {
      "model_module": "@jupyter-widgets/base",
      "model_module_version": "1.2.0",
      "model_name": "LayoutModel",
      "state": {}
     },
     "5c01fdf8c6fb40b9bafd8876770050ff": {
      "model_module": "@jupyter-widgets/base",
      "model_module_version": "1.2.0",
      "model_name": "LayoutModel",
      "state": {
       "grid_area": "widget012"
      }
     },
     "5c082129249b4f05864f7d1f58b9f28b": {
      "model_module": "@jupyter-widgets/controls",
      "model_module_version": "1.5.0",
      "model_name": "ProgressStyleModel",
      "state": {
       "description_width": ""
      }
     },
     "5c28aad2eff94d21ae1fb602b25d8ca0": {
      "model_module": "@jupyter-widgets/base",
      "model_module_version": "1.2.0",
      "model_name": "LayoutModel",
      "state": {}
     },
     "5c55afa51c2d4152b05fc7e39745d545": {
      "model_module": "@jupyter-widgets/base",
      "model_module_version": "1.2.0",
      "model_name": "LayoutModel",
      "state": {}
     },
     "5c7850861a9e4432bdc62906cd4aa5d7": {
      "model_module": "@jupyter-widgets/controls",
      "model_module_version": "1.5.0",
      "model_name": "HTMLModel",
      "state": {
       "layout": "IPY_MODEL_cd925fa01867400dba060a1965e6d8bf",
       "style": "IPY_MODEL_feff8beee08a4c779316a98c2476ef5b",
       "value": "Generate report structure: 100%"
      }
     },
     "5c96634326b84cba9c884e2a1b24f259": {
      "model_module": "@jupyter-widgets/controls",
      "model_module_version": "1.5.0",
      "model_name": "ButtonModel",
      "state": {
       "button_style": "warning",
       "description": "Unsupported",
       "disabled": true,
       "layout": "IPY_MODEL_27eff118caab4811a38c42adca32fc5c",
       "style": "IPY_MODEL_c03a6196317e4579ac02fb3c724bbfb6"
      }
     },
     "5ccbb7ea9a874d949d09a065758e22ef": {
      "model_module": "@jupyter-widgets/base",
      "model_module_version": "1.2.0",
      "model_name": "LayoutModel",
      "state": {}
     },
     "5ce2a8a46be84697b81f7dd0f42ca37b": {
      "model_module": "@jupyter-widgets/base",
      "model_module_version": "1.2.0",
      "model_name": "LayoutModel",
      "state": {}
     },
     "5d2e9ee8315946da80a47f5e188afeab": {
      "model_module": "@jupyter-widgets/base",
      "model_module_version": "1.2.0",
      "model_name": "LayoutModel",
      "state": {
       "grid_area": "widget009"
      }
     },
     "5d3a4e6ae81c43b19d078ad42ecfcaa8": {
      "model_module": "@jupyter-widgets/base",
      "model_module_version": "1.2.0",
      "model_name": "LayoutModel",
      "state": {}
     },
     "5d64e30bf2b84d6789c96b5a617771df": {
      "model_module": "@jupyter-widgets/controls",
      "model_module_version": "1.5.0",
      "model_name": "LabelModel",
      "state": {
       "layout": "IPY_MODEL_1ffdcfc977f549be8c257b8fa379ee93",
       "style": "IPY_MODEL_ccbd31c3b05745eb98058a75bdb2e818",
       "value": "2"
      }
     },
     "5d67a48047064f34851474f4e60d4a28": {
      "model_module": "@jupyter-widgets/controls",
      "model_module_version": "1.5.0",
      "model_name": "HTMLModel",
      "state": {
       "layout": "IPY_MODEL_a8de2fa5bd0a482b8846f6fb65154968",
       "style": "IPY_MODEL_d3368e0aa92c4fcd9a6ce85553de7c26",
       "value": "Duplicate rows (%)"
      }
     },
     "5d7ecc23a3e341598023b7297a225d07": {
      "model_module": "@jupyter-widgets/base",
      "model_module_version": "1.2.0",
      "model_name": "LayoutModel",
      "state": {}
     },
     "5db3c9048fbf45158a48e78542635537": {
      "model_module": "@jupyter-widgets/base",
      "model_module_version": "1.2.0",
      "model_name": "LayoutModel",
      "state": {}
     },
     "5de0d33b51314178a8c812b108f129c2": {
      "model_module": "@jupyter-widgets/controls",
      "model_module_version": "1.5.0",
      "model_name": "ProgressStyleModel",
      "state": {
       "description_width": ""
      }
     },
     "5de5e3a8e052429aa88be86b98ca766f": {
      "model_module": "@jupyter-widgets/base",
      "model_module_version": "1.2.0",
      "model_name": "LayoutModel",
      "state": {}
     },
     "5de9a54e59ea49419d9c17b39cd6b3d8": {
      "model_module": "@jupyter-widgets/controls",
      "model_module_version": "1.5.0",
      "model_name": "DescriptionStyleModel",
      "state": {
       "description_width": ""
      }
     },
     "5e0f24639aa649d387a5be6398f86bf7": {
      "model_module": "@jupyter-widgets/base",
      "model_module_version": "1.2.0",
      "model_name": "LayoutModel",
      "state": {}
     },
     "5e4fe65f5cc646aababbbced39b77029": {
      "model_module": "@jupyter-widgets/base",
      "model_module_version": "1.2.0",
      "model_name": "LayoutModel",
      "state": {
       "grid_template_columns": "75% 25%",
       "width": "100%"
      }
     },
     "5e5fb0e1cb9a4b058064391665d3566a": {
      "model_module": "@jupyter-widgets/controls",
      "model_module_version": "1.5.0",
      "model_name": "HTMLModel",
      "state": {
       "layout": "IPY_MODEL_f83c7fb8a4c24d3c89f0838a7e1ee467",
       "style": "IPY_MODEL_4e25d145d9d341d09f1eda6f8fc91e18",
       "value": " 1/1 [00:02&lt;00:00,  2.40s/it]"
      }
     },
     "5e80fda0910c4bf69771c88e5a31537f": {
      "model_module": "@jupyter-widgets/base",
      "model_module_version": "1.2.0",
      "model_name": "LayoutModel",
      "state": {}
     },
     "5e9411c17a994e698e4abfeb30eed55a": {
      "model_module": "@jupyter-widgets/base",
      "model_module_version": "1.2.0",
      "model_name": "LayoutModel",
      "state": {
       "grid_area": "widget002"
      }
     },
     "5ebedbc8b5b1409aad5db5dd9013b452": {
      "model_module": "@jupyter-widgets/controls",
      "model_module_version": "1.5.0",
      "model_name": "HTMLModel",
      "state": {
       "layout": "IPY_MODEL_8ca92cd2f3b5485c8f2586cbe652e52f",
       "style": "IPY_MODEL_4f267f145ca44b88a0a192ffc40695e8",
       "value": "<a class=\"anchor\" href=\"#pp_var_-5722233049682501385\">\n        <code>Waiting Days</code>\n    </a> is highly correlated with <code>MPO</code>"
      }
     },
     "5edcb72b43634206a0172f1e259fa792": {
      "model_module": "@jupyter-widgets/controls",
      "model_module_version": "1.5.0",
      "model_name": "HTMLModel",
      "state": {
       "layout": "IPY_MODEL_fccd46f692694e829839ee7556b1062b",
       "style": "IPY_MODEL_917f210efcbc4f8f9f81fcc257293bd5",
       "value": "Categorical"
      }
     },
     "5ef018e96aaf4c93b30a47601b807f84": {
      "model_module": "@jupyter-widgets/controls",
      "model_module_version": "1.5.0",
      "model_name": "HTMLModel",
      "state": {
       "layout": "IPY_MODEL_8b27d8439547418ebcea687968faddaa",
       "style": "IPY_MODEL_7bb908bb721e46cb938bd12a8b308b3a",
       "value": "9"
      }
     },
     "5f4778fc0f4d47b3b029ff87ea65779c": {
      "model_module": "@jupyter-widgets/controls",
      "model_module_version": "1.5.0",
      "model_name": "TabModel",
      "state": {
       "_titles": {
        "0": "Overview",
        "1": "Alerts (42)",
        "2": "Reproduction"
       },
       "children": [
        "IPY_MODEL_d0856ca48bb141ec8b1128f1b59f34f6",
        "IPY_MODEL_14a226e7f6f74e2ba7a873e3c19d96e5",
        "IPY_MODEL_20685800b53243209493ace2d914ed79"
       ],
       "layout": "IPY_MODEL_8b17947993b843a6b847cc3e78675489"
      }
     },
     "5f5448b776e046cba7f2c5423a0550e5": {
      "model_module": "@jupyter-widgets/controls",
      "model_module_version": "1.5.0",
      "model_name": "GridBoxModel",
      "state": {
       "children": [
        "IPY_MODEL_9addf6502a4e4c14bdf7f02dcfc57ceb",
        "IPY_MODEL_45ca17c7a8cf408083aa54999983dae7",
        "IPY_MODEL_043960f61c1f4f348444484ce2ec46f6",
        "IPY_MODEL_a0ebbe9d7d364faf9cde8c020da3fb58",
        "IPY_MODEL_6f6513b2c5ae4947bd48edd4f2e320fa",
        "IPY_MODEL_7be7a544cdbf4fa0a9241a37b728ab57",
        "IPY_MODEL_bea789d0f2a64c1a9b92ce16957bd0e6",
        "IPY_MODEL_0a4fa4aba94d4be69419d499d58d7d26",
        "IPY_MODEL_d4bc39d3954b43df808e1847f3a30357",
        "IPY_MODEL_7387401bd3be4c9d8afaab4a43e73515"
       ],
       "layout": "IPY_MODEL_a6d41e0501aa42f8a4dff344ed6d93a5"
      }
     },
     "5f67fcbbbff44ceeb8220e4895330f35": {
      "model_module": "@jupyter-widgets/controls",
      "model_module_version": "1.5.0",
      "model_name": "DescriptionStyleModel",
      "state": {
       "description_width": ""
      }
     },
     "5f6a60e9213f46d09135ad92944792f2": {
      "model_module": "@jupyter-widgets/controls",
      "model_module_version": "1.5.0",
      "model_name": "ButtonModel",
      "state": {
       "button_style": "info",
       "description": "Missing",
       "disabled": true,
       "layout": "IPY_MODEL_5d3a4e6ae81c43b19d078ad42ecfcaa8",
       "style": "IPY_MODEL_5b1733b18e0445a590779286ae8d0d1f"
      }
     },
     "5f852f4892b643da9f9f4d4d2566fe71": {
      "model_module": "@jupyter-widgets/controls",
      "model_module_version": "1.5.0",
      "model_name": "HTMLModel",
      "state": {
       "layout": "IPY_MODEL_2a2402ea811f41108c14d17be9b06c8a",
       "style": "IPY_MODEL_9bae1b8611a24ba8bf499513ca098948",
       "value": "Missing cells (%)"
      }
     },
     "5f8de1052ec34aaeb893dc7bdeec8d10": {
      "model_module": "@jupyter-widgets/base",
      "model_module_version": "1.2.0",
      "model_name": "LayoutModel",
      "state": {}
     },
     "5fb587ce9b364e20a8fab65ca0648159": {
      "model_module": "@jupyter-widgets/controls",
      "model_module_version": "1.5.0",
      "model_name": "DescriptionStyleModel",
      "state": {
       "description_width": ""
      }
     },
     "5fd2882bb3454aabb1999697b5b527e8": {
      "model_module": "@jupyter-widgets/controls",
      "model_module_version": "1.5.0",
      "model_name": "DescriptionStyleModel",
      "state": {
       "description_width": ""
      }
     },
     "5fd8f0cb7cfe44f195982479676522e9": {
      "model_module": "@jupyter-widgets/controls",
      "model_module_version": "1.5.0",
      "model_name": "ButtonModel",
      "state": {
       "button_style": "info",
       "description": "Missing",
       "disabled": true,
       "layout": "IPY_MODEL_ceef81b074624ecf9a0815e65fb616c8",
       "style": "IPY_MODEL_807d0a2f186543a69b251836fc641d3c"
      }
     },
     "603a2e8b0056486eb58d88bc34d2bcc3": {
      "model_module": "@jupyter-widgets/controls",
      "model_module_version": "1.5.0",
      "model_name": "HTMLModel",
      "state": {
       "layout": "IPY_MODEL_fe5f4b9108c3499dad5635258b5b61c5",
       "style": "IPY_MODEL_0ba32317629b4365bbcb96097cae94c2",
       "value": "0"
      }
     },
     "6086664da89b4b8c956665d0229d1cef": {
      "model_module": "@jupyter-widgets/controls",
      "model_module_version": "1.5.0",
      "model_name": "DescriptionStyleModel",
      "state": {
       "description_width": ""
      }
     },
     "609abd04af324ed790f4d0f862a1e7dd": {
      "model_module": "@jupyter-widgets/base",
      "model_module_version": "1.2.0",
      "model_name": "LayoutModel",
      "state": {}
     },
     "60c81d32d8b54025af8906291c0f5b48": {
      "model_module": "@jupyter-widgets/controls",
      "model_module_version": "1.5.0",
      "model_name": "DescriptionStyleModel",
      "state": {
       "description_width": ""
      }
     },
     "615b9c1c77d94dd0be96f64d0c1d95f1": {
      "model_module": "@jupyter-widgets/base",
      "model_module_version": "1.2.0",
      "model_name": "LayoutModel",
      "state": {
       "grid_area": "widget002"
      }
     },
     "616e402c7436459fbcc877c6dc9edd3f": {
      "model_module": "@jupyter-widgets/controls",
      "model_module_version": "1.5.0",
      "model_name": "DescriptionStyleModel",
      "state": {
       "description_width": ""
      }
     },
     "61763f6002874bc5911a9676e121cd32": {
      "model_module": "@jupyter-widgets/base",
      "model_module_version": "1.2.0",
      "model_name": "LayoutModel",
      "state": {}
     },
     "617b7b564eb449ce835ef1fd7ce8f3cf": {
      "model_module": "@jupyter-widgets/controls",
      "model_module_version": "1.5.0",
      "model_name": "DescriptionStyleModel",
      "state": {
       "description_width": ""
      }
     },
     "619dcf7257dc4c508a76fda033b34c00": {
      "model_module": "@jupyter-widgets/controls",
      "model_module_version": "1.5.0",
      "model_name": "HTMLModel",
      "state": {
       "layout": "IPY_MODEL_8792d9abd45d48e6bafa5b07ecffc547",
       "style": "IPY_MODEL_46e8fb8c99fe4a26a1d781d3e38830f4",
       "value": "<a class=\"anchor\" href=\"#pp_var_2308412230319078049\"><code>Type of Work</code></a> has a high cardinality: 6939 distinct values"
      }
     },
     "61c1e5bce8ff4120915226f37483f1d1": {
      "model_module": "@jupyter-widgets/controls",
      "model_module_version": "1.5.0",
      "model_name": "TabModel",
      "state": {
       "_titles": {
        "0": "Overview",
        "1": "Alerts (42)",
        "2": "Reproduction"
       },
       "children": [
        "IPY_MODEL_7a948e84f7f648fc8967641a422c0e81",
        "IPY_MODEL_a30d05b39bdf4792a34b135c5a477955",
        "IPY_MODEL_be936b77efd94a9c8c22d1bb378faf79"
       ],
       "layout": "IPY_MODEL_ae5b379c87714fe98f79d724d501b791"
      }
     },
     "61ce62a1949647859bb5682d12a672d7": {
      "model_module": "@jupyter-widgets/base",
      "model_module_version": "1.2.0",
      "model_name": "LayoutModel",
      "state": {
       "grid_area": "widget006"
      }
     },
     "61d4c16bd5f346caa0a7d9936b295636": {
      "model_module": "@jupyter-widgets/controls",
      "model_module_version": "1.5.0",
      "model_name": "ButtonModel",
      "state": {
       "description": "High correlation",
       "disabled": true,
       "layout": "IPY_MODEL_3020e7e8b16b4a8bb9df5e7eff6bc8d2",
       "style": "IPY_MODEL_d5aceb496506407989530159a1e8fb83"
      }
     },
     "61eeea11df214fa2b04bf694a699f37d": {
      "model_module": "@jupyter-widgets/base",
      "model_module_version": "1.2.0",
      "model_name": "LayoutModel",
      "state": {}
     },
     "6207f72a0de24389a71e8a02fed9400c": {
      "model_module": "@jupyter-widgets/base",
      "model_module_version": "1.2.0",
      "model_name": "LayoutModel",
      "state": {
       "grid_area": "widget003"
      }
     },
     "620954539de042eda615c475ad2e598d": {
      "model_module": "@jupyter-widgets/controls",
      "model_module_version": "1.5.0",
      "model_name": "DescriptionStyleModel",
      "state": {
       "description_width": ""
      }
     },
     "620cd57419044b2797542ee7bf74f51f": {
      "model_module": "@jupyter-widgets/controls",
      "model_module_version": "1.5.0",
      "model_name": "DescriptionStyleModel",
      "state": {
       "description_width": ""
      }
     },
     "623e4bd46cfd431c8bd795c7e8abfc53": {
      "model_module": "@jupyter-widgets/controls",
      "model_module_version": "1.5.0",
      "model_name": "DescriptionStyleModel",
      "state": {
       "description_width": ""
      }
     },
     "6285b31486b447dfadd6e0e9dd6542a7": {
      "model_module": "@jupyter-widgets/controls",
      "model_module_version": "1.5.0",
      "model_name": "LabelModel",
      "state": {
       "layout": "IPY_MODEL_7cae1cd18e83479885099a2913b89ca5",
       "style": "IPY_MODEL_0ba5451e461b47fd83e75a16eef72e1e",
       "value": "550"
      }
     },
     "6295285fc65649e59d84bbe5d4ab640d": {
      "model_module": "@jupyter-widgets/controls",
      "model_module_version": "1.5.0",
      "model_name": "GridBoxModel",
      "state": {
       "children": [
        "IPY_MODEL_36fc2586970e41e3b4e5685f310e9d4e",
        "IPY_MODEL_001fb54e166543b6a4bc3817db3d3de3",
        "IPY_MODEL_13333020e619434c96aabb6201b6f640",
        "IPY_MODEL_a59276c0bfdd4836b33ea25c37aa0d2f",
        "IPY_MODEL_2c0a7a92784840b9a111864cabb613c8",
        "IPY_MODEL_d64bab2c8914435597bd9735fcee623e",
        "IPY_MODEL_4836caa5b11247efa533b00b529689aa",
        "IPY_MODEL_cf6312a167824722ab06e070fa9afcfe",
        "IPY_MODEL_dc0391d00e6240478ef575758718d524",
        "IPY_MODEL_f27b41f091f44dccb5f245b85d2dd1e5"
       ],
       "layout": "IPY_MODEL_3e06963648f84a4296f887bc692f5945"
      }
     },
     "62a1fb5a44bc44eb92d3ec047e901d78": {
      "model_module": "@jupyter-widgets/controls",
      "model_module_version": "1.5.0",
      "model_name": "DescriptionStyleModel",
      "state": {
       "description_width": ""
      }
     },
     "62d1d13518e84a3185545a34a90b0ebe": {
      "model_module": "@jupyter-widgets/base",
      "model_module_version": "1.2.0",
      "model_name": "LayoutModel",
      "state": {
       "grid_area": "widget006"
      }
     },
     "63083ca1787e43348f626360914d601e": {
      "model_module": "@jupyter-widgets/base",
      "model_module_version": "1.2.0",
      "model_name": "LayoutModel",
      "state": {}
     },
     "63793d1553344e85a60b6df6d5bfa61c": {
      "model_module": "@jupyter-widgets/controls",
      "model_module_version": "1.5.0",
      "model_name": "HTMLModel",
      "state": {
       "layout": "IPY_MODEL_48807807b6a44107b492a70c27e2fd4d",
       "style": "IPY_MODEL_a9572e31afc34091a8027adb3b536ed5",
       "value": "Analysis started"
      }
     },
     "63b047f6127f4da5909f7c86694d82b6": {
      "model_module": "@jupyter-widgets/controls",
      "model_module_version": "1.5.0",
      "model_name": "VBoxModel",
      "state": {
       "children": [
        "IPY_MODEL_75cd12fc03d64036bcbd44f2b2dc6a83"
       ],
       "layout": "IPY_MODEL_7bd29b45a81744d1927e5cb32480cfda"
      }
     },
     "63b23347a7e649928c513f992979e81e": {
      "model_module": "@jupyter-widgets/controls",
      "model_module_version": "1.5.0",
      "model_name": "ButtonModel",
      "state": {
       "button_style": "danger",
       "description": "High cardinality",
       "disabled": true,
       "layout": "IPY_MODEL_f950534bed9e477097f53cad0d6c21d4",
       "style": "IPY_MODEL_a8c765c5dfd5457f95ad74e8d160a628"
      }
     },
     "63beb847d79340899a0a6286f8f79006": {
      "model_module": "@jupyter-widgets/controls",
      "model_module_version": "1.5.0",
      "model_name": "HTMLModel",
      "state": {
       "layout": "IPY_MODEL_72e0bbc27bec4c7da530a0f77da439f1",
       "style": "IPY_MODEL_60c81d32d8b54025af8906291c0f5b48",
       "value": "Number of variables"
      }
     },
     "63cf623893764fd18dd28adfd0cb039c": {
      "model_module": "@jupyter-widgets/base",
      "model_module_version": "1.2.0",
      "model_name": "LayoutModel",
      "state": {}
     },
     "642bee9f564b4cab991da9e88a23bb0d": {
      "model_module": "@jupyter-widgets/base",
      "model_module_version": "1.2.0",
      "model_name": "LayoutModel",
      "state": {}
     },
     "643578376ccd462ab7a9ae091ffb7c7d": {
      "model_module": "@jupyter-widgets/controls",
      "model_module_version": "1.5.0",
      "model_name": "HBoxModel",
      "state": {
       "children": [
        "IPY_MODEL_e4ab317dbbc64074821dbaf80b732dd5",
        "IPY_MODEL_4caabd43966f456cb8617f1a217e6ac2",
        "IPY_MODEL_fb8747a9f08143c1a53cd9956257ba66"
       ],
       "layout": "IPY_MODEL_d3ca048723ac40fc96fa560162240af7"
      }
     },
     "643cb74c60a240cfb046ccc2faaef2dc": {
      "model_module": "@jupyter-widgets/controls",
      "model_module_version": "1.5.0",
      "model_name": "ButtonModel",
      "state": {
       "button_style": "info",
       "description": "Missing",
       "disabled": true,
       "layout": "IPY_MODEL_f707174e58ef4060877239863a832bfa",
       "style": "IPY_MODEL_e70d00ab92304b6288785899c4a6d2ff"
      }
     },
     "644669bef79e465a8ac234ca910653cc": {
      "model_module": "@jupyter-widgets/controls",
      "model_module_version": "1.5.0",
      "model_name": "ButtonStyleModel",
      "state": {}
     },
     "646edf8f4b774a3e93c926560ef2dbe5": {
      "model_module": "@jupyter-widgets/controls",
      "model_module_version": "1.5.0",
      "model_name": "ButtonStyleModel",
      "state": {}
     },
     "64df8d3aedd240cea024a1ce130ddaa1": {
      "model_module": "@jupyter-widgets/controls",
      "model_module_version": "1.5.0",
      "model_name": "LabelModel",
      "state": {
       "layout": "IPY_MODEL_7f51fea6ea7344bf8de82e49b206b8ba",
       "style": "IPY_MODEL_a231035da8ed468a9173e048eb8a9031",
       "value": "19"
      }
     },
     "6516e68eb4464ec7a11c12fe3f5f827b": {
      "model_module": "@jupyter-widgets/controls",
      "model_module_version": "1.5.0",
      "model_name": "HTMLModel",
      "state": {
       "layout": "IPY_MODEL_42c7d7c0d1f1447db5d9509774b58baa",
       "style": "IPY_MODEL_c490c80ae61948408d588b1e49f70503",
       "value": "<p class=\"h4\" title=\"Location\"><a\n        href=\"#pp_var_-5136899479059597449\">Location</a><br/>\n    <small>Categorical</small>\n</p>\n    <code><abbr title=\"This variable has a high correlation with 1 fields: Status Comment\">HIGH CORRELATION</abbr></code><br />\n<p class=\"variable-description\">\n    \n</p>"
      }
     },
     "6549b9971db84c2daa09d5deb220d359": {
      "model_module": "@jupyter-widgets/base",
      "model_module_version": "1.2.0",
      "model_name": "LayoutModel",
      "state": {
       "grid_area": "widget011"
      }
     },
     "655d327bf96b4200987707438fbbe3bd": {
      "model_module": "@jupyter-widgets/base",
      "model_module_version": "1.2.0",
      "model_name": "LayoutModel",
      "state": {
       "grid_area": "widget003"
      }
     },
     "65834a5cc795436282c7ef4ba75e6213": {
      "model_module": "@jupyter-widgets/controls",
      "model_module_version": "1.5.0",
      "model_name": "ButtonModel",
      "state": {
       "button_style": "danger",
       "description": "High cardinality",
       "disabled": true,
       "layout": "IPY_MODEL_34dd98e01d13495b88705b133cae33e8",
       "style": "IPY_MODEL_0bafb16e8b3c4759a7e919b72ff8f6f4"
      }
     },
     "659105261af34cf08a1a81dfe907d73b": {
      "model_module": "@jupyter-widgets/controls",
      "model_module_version": "1.5.0",
      "model_name": "DescriptionStyleModel",
      "state": {
       "description_width": ""
      }
     },
     "65f03bff856142aeb94e8ec31a3e57ca": {
      "model_module": "@jupyter-widgets/controls",
      "model_module_version": "1.5.0",
      "model_name": "ButtonStyleModel",
      "state": {}
     },
     "6626a14c7775419e8a0dc7f1314e2ec0": {
      "model_module": "@jupyter-widgets/controls",
      "model_module_version": "1.5.0",
      "model_name": "ButtonModel",
      "state": {
       "button_style": "warning",
       "description": "Unsupported",
       "disabled": true,
       "layout": "IPY_MODEL_df6e071c5f194143a531ddc60dbce158",
       "style": "IPY_MODEL_94ce498ffe9741558469a4ab24a8fdf0"
      }
     },
     "66a88b72077944e5a259eb89d6489a54": {
      "model_module": "@jupyter-widgets/controls",
      "model_module_version": "1.5.0",
      "model_name": "HTMLModel",
      "state": {
       "layout": "IPY_MODEL_24d0306e4610486a9a5b333fb8059af9",
       "style": "IPY_MODEL_9e916d63dba64963a49e07f2feaca16e",
       "value": "Distinct categories"
      }
     },
     "66d31236f86346df995c123620a7d749": {
      "model_module": "@jupyter-widgets/base",
      "model_module_version": "1.2.0",
      "model_name": "LayoutModel",
      "state": {
       "grid_area": "widget004"
      }
     },
     "67214f6a942549e0b37b83efef015b63": {
      "model_module": "@jupyter-widgets/base",
      "model_module_version": "1.2.0",
      "model_name": "LayoutModel",
      "state": {
       "grid_area": "widget004"
      }
     },
     "6726b524e7b140d59bbac3b6949fa332": {
      "model_module": "@jupyter-widgets/base",
      "model_module_version": "1.2.0",
      "model_name": "LayoutModel",
      "state": {}
     },
     "6744c61e7db7417b942adfb274e81cfe": {
      "model_module": "@jupyter-widgets/controls",
      "model_module_version": "1.5.0",
      "model_name": "HTMLModel",
      "state": {
       "layout": "IPY_MODEL_61763f6002874bc5911a9676e121cd32",
       "style": "IPY_MODEL_be77a3e2c6454677ba0765bf7f66091a",
       "value": "<?xml version=\"1.0\" encoding=\"utf-8\" standalone=\"no\"?>\n<!DOCTYPE svg style=\"max-width: 100%\" PUBLIC \"-//W3C//DTD SVG 1.1//EN\"\n  \"http://www.w3.org/Graphics/SVG/1.1/DTD/svg11.dtd\">\n<svg style=\"max-width: 100%\" xmlns:xlink=\"http://www.w3.org/1999/xlink\" width=\"576pt\"  viewBox=\"0 0 576 396\" xmlns=\"http://www.w3.org/2000/svg\" version=\"1.1\">\n <metadata>\n  <rdf:RDF xmlns:dc=\"http://purl.org/dc/elements/1.1/\" xmlns:cc=\"http://creativecommons.org/ns#\" xmlns:rdf=\"http://www.w3.org/1999/02/22-rdf-syntax-ns#\">\n   <cc:Work>\n    <dc:type rdf:resource=\"http://purl.org/dc/dcmitype/StillImage\"/>\n    <dc:date>2022-03-09T22:42:23.169627</dc:date>\n    <dc:format>image/svg+xml</dc:format>\n    <dc:creator>\n     <cc:Agent>\n      <dc:title>Matplotlib v3.5.1, https://matplotlib.org/</dc:title>\n     </cc:Agent>\n    </dc:creator>\n   </cc:Work>\n  </rdf:RDF>\n </metadata>\n <defs>\n  <style type=\"text/css\">*{stroke-linejoin: round; stroke-linecap: butt}</style>\n </defs>\n <g id=\"figure_1\">\n  <g id=\"patch_1\">\n   <path d=\"M 0 396 \nL 576 396 \nL 576 0 \nL 0 0 \nz\n\" style=\"fill: #ffffff\"/>\n  </g>\n  <g id=\"axes_1\">\n   <g id=\"matplotlib.axis_1\"/>\n   <g id=\"matplotlib.axis_2\"/>\n   <g id=\"patch_2\">\n    <path d=\"M 414.792 197.01 \nC 414.792 181.867232 411.915929 166.861337 406.316994 152.791677 \nC 400.718059 138.722017 392.497477 125.842937 382.093156 114.840505 \nC 371.688835 103.838073 359.28886 94.911186 345.553778 88.535378 \nC 331.818695 82.159571 316.996802 78.450102 301.877659 77.604576 \nC 286.758515 76.759049 271.61544 78.792749 257.255102 83.597341 \nC 242.894764 88.401933 229.576764 95.890562 218.010551 105.664308 \nC 206.444337 115.438055 196.839 127.320233 189.706214 140.677882 \nC 182.573428 154.03553 178.042136 168.627174 176.353721 183.675518 \nC 174.665306 198.723863 175.850289 213.956869 179.845547 228.563078 \nC 183.840806 243.169286 190.574114 256.884651 199.68679 268.978556 \nC 208.799465 281.072462 220.126773 291.326279 233.065309 299.193789 \nC 246.003845 307.061298 260.319711 312.400274 275.250302 314.926309 \nC 290.180893 317.452345 305.4563 317.119776 320.262805 313.946317 \nC 335.069309 310.772859 349.139245 304.81588 361.723107 296.392708 \nC 374.306969 287.969537 385.177272 277.232443 393.754957 264.753391 \nC 402.332641 252.274339 408.462642 238.278919 411.818417 223.512668 \nL 295.2 197.01 \nL 414.792 197.01 \nz\n\" style=\"fill: #1f77b4; stroke: #ffffff; stroke-width: 0.3; stroke-linejoin: miter\"/>\n   </g>\n   <g id=\"patch_3\">\n    <path d=\"M 411.818417 223.512668 \nC 412.525394 220.401787 413.107612 217.263864 413.563671 214.106428 \nC 414.019731 210.948992 414.349267 207.774571 414.55149 204.590784 \nL 295.2 197.01 \nL 411.818417 223.512668 \nz\n\" style=\"fill: #ff7f0e; stroke: #ffffff; stroke-width: 0.3; stroke-linejoin: miter\"/>\n   </g>\n   <g id=\"patch_4\">\n    <path d=\"M 414.55149 204.590784 \nC 414.592665 203.942532 414.628557 203.293956 414.659164 202.645119 \nC 414.689771 201.996282 414.715091 201.347207 414.735122 200.697958 \nL 295.2 197.01 \nL 414.55149 204.590784 \nz\n\" style=\"fill: #2ca02c; stroke: #ffffff; stroke-width: 0.3; stroke-linejoin: miter\"/>\n   </g>\n   <g id=\"patch_5\">\n    <path d=\"M 414.735122 200.697958 \nC 414.750324 200.205225 414.762479 199.712403 414.771587 199.21952 \nC 414.780695 198.726637 414.786755 198.233703 414.789767 197.740745 \nL 295.2 197.01 \nL 414.735122 200.697958 \nz\n\" style=\"fill: #d62728; stroke: #ffffff; stroke-width: 0.3; stroke-linejoin: miter\"/>\n   </g>\n   <g id=\"patch_6\">\n    <path d=\"M 414.789767 197.740745 \nC 414.790441 197.630554 414.790962 197.520363 414.79133 197.410171 \nC 414.791699 197.29998 414.791916 197.189788 414.79198 197.079595 \nL 295.2 197.01 \nL 414.789767 197.740745 \nz\n\" style=\"fill: #9467bd; stroke: #ffffff; stroke-width: 0.3; stroke-linejoin: miter\"/>\n   </g>\n   <g id=\"patch_7\">\n    <path d=\"M 414.79198 197.079595 \nC 414.791986 197.067996 414.791992 197.056397 414.791995 197.044798 \nC 414.791998 197.033199 414.792 197.021599 414.792 197.01 \nL 295.2 197.01 \nL 414.79198 197.079595 \nz\n\" style=\"fill: #8c564b; stroke: #ffffff; stroke-width: 0.3; stroke-linejoin: miter\"/>\n   </g>\n   <g id=\"text_1\">\n    <!-- 96.4%  (20826) -->\n    <g style=\"fill: #ffffff\" transform=\"translate(185.022701 191.768686)scale(0.1 -0.1)\">\n     <defs>\n      <path id=\"DejaVuSans-39\" d=\"M 703 97 \nL 703 672 \nQ 941 559 1184 500 \nQ 1428 441 1663 441 \nQ 2288 441 2617 861 \nQ 2947 1281 2994 2138 \nQ 2813 1869 2534 1725 \nQ 2256 1581 1919 1581 \nQ 1219 1581 811 2004 \nQ 403 2428 403 3163 \nQ 403 3881 828 4315 \nQ 1253 4750 1959 4750 \nQ 2769 4750 3195 4129 \nQ 3622 3509 3622 2328 \nQ 3622 1225 3098 567 \nQ 2575 -91 1691 -91 \nQ 1453 -91 1209 -44 \nQ 966 3 703 97 \nz\nM 1959 2075 \nQ 2384 2075 2632 2365 \nQ 2881 2656 2881 3163 \nQ 2881 3666 2632 3958 \nQ 2384 4250 1959 4250 \nQ 1534 4250 1286 3958 \nQ 1038 3666 1038 3163 \nQ 1038 2656 1286 2365 \nQ 1534 2075 1959 2075 \nz\n\" transform=\"scale(0.015625)\"/>\n      <path id=\"DejaVuSans-36\" d=\"M 2113 2584 \nQ 1688 2584 1439 2293 \nQ 1191 2003 1191 1497 \nQ 1191 994 1439 701 \nQ 1688 409 2113 409 \nQ 2538 409 2786 701 \nQ 3034 994 3034 1497 \nQ 3034 2003 2786 2293 \nQ 2538 2584 2113 2584 \nz\nM 3366 4563 \nL 3366 3988 \nQ 3128 4100 2886 4159 \nQ 2644 4219 2406 4219 \nQ 1781 4219 1451 3797 \nQ 1122 3375 1075 2522 \nQ 1259 2794 1537 2939 \nQ 1816 3084 2150 3084 \nQ 2853 3084 3261 2657 \nQ 3669 2231 3669 1497 \nQ 3669 778 3244 343 \nQ 2819 -91 2113 -91 \nQ 1303 -91 875 529 \nQ 447 1150 447 2328 \nQ 447 3434 972 4092 \nQ 1497 4750 2381 4750 \nQ 2619 4750 2861 4703 \nQ 3103 4656 3366 4563 \nz\n\" transform=\"scale(0.015625)\"/>\n      <path id=\"DejaVuSans-2e\" d=\"M 684 794 \nL 1344 794 \nL 1344 0 \nL 684 0 \nL 684 794 \nz\n\" transform=\"scale(0.015625)\"/>\n      <path id=\"DejaVuSans-34\" d=\"M 2419 4116 \nL 825 1625 \nL 2419 1625 \nL 2419 4116 \nz\nM 2253 4666 \nL 3047 4666 \nL 3047 1625 \nL 3713 1625 \nL 3713 1100 \nL 3047 1100 \nL 3047 0 \nL 2419 0 \nL 2419 1100 \nL 313 1100 \nL 313 1709 \nL 2253 4666 \nz\n\" transform=\"scale(0.015625)\"/>\n      <path id=\"DejaVuSans-25\" d=\"M 4653 2053 \nQ 4381 2053 4226 1822 \nQ 4072 1591 4072 1178 \nQ 4072 772 4226 539 \nQ 4381 306 4653 306 \nQ 4919 306 5073 539 \nQ 5228 772 5228 1178 \nQ 5228 1588 5073 1820 \nQ 4919 2053 4653 2053 \nz\nM 4653 2450 \nQ 5147 2450 5437 2106 \nQ 5728 1763 5728 1178 \nQ 5728 594 5436 251 \nQ 5144 -91 4653 -91 \nQ 4153 -91 3862 251 \nQ 3572 594 3572 1178 \nQ 3572 1766 3864 2108 \nQ 4156 2450 4653 2450 \nz\nM 1428 4353 \nQ 1159 4353 1004 4120 \nQ 850 3888 850 3481 \nQ 850 3069 1003 2837 \nQ 1156 2606 1428 2606 \nQ 1700 2606 1854 2837 \nQ 2009 3069 2009 3481 \nQ 2009 3884 1853 4118 \nQ 1697 4353 1428 4353 \nz\nM 4250 4750 \nL 4750 4750 \nL 1831 -91 \nL 1331 -91 \nL 4250 4750 \nz\nM 1428 4750 \nQ 1922 4750 2215 4408 \nQ 2509 4066 2509 3481 \nQ 2509 2891 2217 2550 \nQ 1925 2209 1428 2209 \nQ 931 2209 642 2551 \nQ 353 2894 353 3481 \nQ 353 4063 643 4406 \nQ 934 4750 1428 4750 \nz\n\" transform=\"scale(0.015625)\"/>\n      <path id=\"DejaVuSans-20\" transform=\"scale(0.015625)\"/>\n      <path id=\"DejaVuSans-28\" d=\"M 1984 4856 \nQ 1566 4138 1362 3434 \nQ 1159 2731 1159 2009 \nQ 1159 1288 1364 580 \nQ 1569 -128 1984 -844 \nL 1484 -844 \nQ 1016 -109 783 600 \nQ 550 1309 550 2009 \nQ 550 2706 781 3412 \nQ 1013 4119 1484 4856 \nL 1984 4856 \nz\n\" transform=\"scale(0.015625)\"/>\n      <path id=\"DejaVuSans-32\" d=\"M 1228 531 \nL 3431 531 \nL 3431 0 \nL 469 0 \nL 469 531 \nQ 828 903 1448 1529 \nQ 2069 2156 2228 2338 \nQ 2531 2678 2651 2914 \nQ 2772 3150 2772 3378 \nQ 2772 3750 2511 3984 \nQ 2250 4219 1831 4219 \nQ 1534 4219 1204 4116 \nQ 875 4013 500 3803 \nL 500 4441 \nQ 881 4594 1212 4672 \nQ 1544 4750 1819 4750 \nQ 2544 4750 2975 4387 \nQ 3406 4025 3406 3419 \nQ 3406 3131 3298 2873 \nQ 3191 2616 2906 2266 \nQ 2828 2175 2409 1742 \nQ 1991 1309 1228 531 \nz\n\" transform=\"scale(0.015625)\"/>\n      <path id=\"DejaVuSans-30\" d=\"M 2034 4250 \nQ 1547 4250 1301 3770 \nQ 1056 3291 1056 2328 \nQ 1056 1369 1301 889 \nQ 1547 409 2034 409 \nQ 2525 409 2770 889 \nQ 3016 1369 3016 2328 \nQ 3016 3291 2770 3770 \nQ 2525 4250 2034 4250 \nz\nM 2034 4750 \nQ 2819 4750 3233 4129 \nQ 3647 3509 3647 2328 \nQ 3647 1150 3233 529 \nQ 2819 -91 2034 -91 \nQ 1250 -91 836 529 \nQ 422 1150 422 2328 \nQ 422 3509 836 4129 \nQ 1250 4750 2034 4750 \nz\n\" transform=\"scale(0.015625)\"/>\n      <path id=\"DejaVuSans-38\" d=\"M 2034 2216 \nQ 1584 2216 1326 1975 \nQ 1069 1734 1069 1313 \nQ 1069 891 1326 650 \nQ 1584 409 2034 409 \nQ 2484 409 2743 651 \nQ 3003 894 3003 1313 \nQ 3003 1734 2745 1975 \nQ 2488 2216 2034 2216 \nz\nM 1403 2484 \nQ 997 2584 770 2862 \nQ 544 3141 544 3541 \nQ 544 4100 942 4425 \nQ 1341 4750 2034 4750 \nQ 2731 4750 3128 4425 \nQ 3525 4100 3525 3541 \nQ 3525 3141 3298 2862 \nQ 3072 2584 2669 2484 \nQ 3125 2378 3379 2068 \nQ 3634 1759 3634 1313 \nQ 3634 634 3220 271 \nQ 2806 -91 2034 -91 \nQ 1263 -91 848 271 \nQ 434 634 434 1313 \nQ 434 1759 690 2068 \nQ 947 2378 1403 2484 \nz\nM 1172 3481 \nQ 1172 3119 1398 2916 \nQ 1625 2713 2034 2713 \nQ 2441 2713 2670 2916 \nQ 2900 3119 2900 3481 \nQ 2900 3844 2670 4047 \nQ 2441 4250 2034 4250 \nQ 1625 4250 1398 4047 \nQ 1172 3844 1172 3481 \nz\n\" transform=\"scale(0.015625)\"/>\n      <path id=\"DejaVuSans-29\" d=\"M 513 4856 \nL 1013 4856 \nQ 1481 4119 1714 3412 \nQ 1947 2706 1947 2009 \nQ 1947 1309 1714 600 \nQ 1481 -109 1013 -844 \nL 513 -844 \nQ 928 -128 1133 580 \nQ 1338 1288 1338 2009 \nQ 1338 2731 1133 3434 \nQ 928 4138 513 4856 \nz\n\" transform=\"scale(0.015625)\"/>\n     </defs>\n     <use xlink:href=\"#DejaVuSans-39\"/>\n     <use xlink:href=\"#DejaVuSans-36\" x=\"63.623047\"/>\n     <use xlink:href=\"#DejaVuSans-2e\" x=\"127.246094\"/>\n     <use xlink:href=\"#DejaVuSans-34\" x=\"159.033203\"/>\n     <use xlink:href=\"#DejaVuSans-25\" x=\"222.65625\"/>\n     <use xlink:href=\"#DejaVuSans-20\" x=\"317.675781\"/>\n     <use xlink:href=\"#DejaVuSans-20\" x=\"349.462891\"/>\n     <use xlink:href=\"#DejaVuSans-28\" x=\"381.25\"/>\n     <use xlink:href=\"#DejaVuSans-32\" x=\"420.263672\"/>\n     <use xlink:href=\"#DejaVuSans-30\" x=\"483.886719\"/>\n     <use xlink:href=\"#DejaVuSans-38\" x=\"547.509766\"/>\n     <use xlink:href=\"#DejaVuSans-32\" x=\"611.132812\"/>\n     <use xlink:href=\"#DejaVuSans-36\" x=\"674.755859\"/>\n     <use xlink:href=\"#DejaVuSans-29\" x=\"738.378906\"/>\n    </g>\n   </g>\n   <g id=\"text_2\">\n    <!-- 2.5%  (550) -->\n    <g style=\"fill: #ffffff\" transform=\"translate(336.892421 210.027232)scale(0.1 -0.1)\">\n     <defs>\n      <path id=\"DejaVuSans-35\" d=\"M 691 4666 \nL 3169 4666 \nL 3169 4134 \nL 1269 4134 \nL 1269 2991 \nQ 1406 3038 1543 3061 \nQ 1681 3084 1819 3084 \nQ 2600 3084 3056 2656 \nQ 3513 2228 3513 1497 \nQ 3513 744 3044 326 \nQ 2575 -91 1722 -91 \nQ 1428 -91 1123 -41 \nQ 819 9 494 109 \nL 494 744 \nQ 775 591 1075 516 \nQ 1375 441 1709 441 \nQ 2250 441 2565 725 \nQ 2881 1009 2881 1497 \nQ 2881 1984 2565 2268 \nQ 2250 2553 1709 2553 \nQ 1456 2553 1204 2497 \nQ 953 2441 691 2322 \nL 691 4666 \nz\n\" transform=\"scale(0.015625)\"/>\n     </defs>\n     <use xlink:href=\"#DejaVuSans-32\"/>\n     <use xlink:href=\"#DejaVuSans-2e\" x=\"63.623047\"/>\n     <use xlink:href=\"#DejaVuSans-35\" x=\"95.410156\"/>\n     <use xlink:href=\"#DejaVuSans-25\" x=\"159.033203\"/>\n     <use xlink:href=\"#DejaVuSans-20\" x=\"254.052734\"/>\n     <use xlink:href=\"#DejaVuSans-20\" x=\"285.839844\"/>\n     <use xlink:href=\"#DejaVuSans-28\" x=\"317.626953\"/>\n     <use xlink:href=\"#DejaVuSans-35\" x=\"356.640625\"/>\n     <use xlink:href=\"#DejaVuSans-35\" x=\"420.263672\"/>\n     <use xlink:href=\"#DejaVuSans-30\" x=\"483.886719\"/>\n     <use xlink:href=\"#DejaVuSans-29\" x=\"547.509766\"/>\n    </g>\n   </g>\n   <g id=\"text_3\">\n    <!-- 0.5%  (112) -->\n    <g style=\"fill: #ffffff\" transform=\"translate(337.549717 203.150446)scale(0.1 -0.1)\">\n     <defs>\n      <path id=\"DejaVuSans-31\" d=\"M 794 531 \nL 1825 531 \nL 1825 4091 \nL 703 3866 \nL 703 4441 \nL 1819 4666 \nL 2450 4666 \nL 2450 531 \nL 3481 531 \nL 3481 0 \nL 794 0 \nL 794 531 \nz\n\" transform=\"scale(0.015625)\"/>\n     </defs>\n     <use xlink:href=\"#DejaVuSans-30\"/>\n     <use xlink:href=\"#DejaVuSans-2e\" x=\"63.623047\"/>\n     <use xlink:href=\"#DejaVuSans-35\" x=\"95.410156\"/>\n     <use xlink:href=\"#DejaVuSans-25\" x=\"159.033203\"/>\n     <use xlink:href=\"#DejaVuSans-20\" x=\"254.052734\"/>\n     <use xlink:href=\"#DejaVuSans-20\" x=\"285.839844\"/>\n     <use xlink:href=\"#DejaVuSans-28\" x=\"317.626953\"/>\n     <use xlink:href=\"#DejaVuSans-31\" x=\"356.640625\"/>\n     <use xlink:href=\"#DejaVuSans-31\" x=\"420.263672\"/>\n     <use xlink:href=\"#DejaVuSans-32\" x=\"483.886719\"/>\n     <use xlink:href=\"#DejaVuSans-29\" x=\"547.509766\"/>\n    </g>\n   </g>\n   <g id=\"text_4\">\n    <!-- 0.4%  (85) -->\n    <g style=\"fill: #ffffff\" transform=\"translate(340.798421 201.095087)scale(0.1 -0.1)\">\n     <use xlink:href=\"#DejaVuSans-30\"/>\n     <use xlink:href=\"#DejaVuSans-2e\" x=\"63.623047\"/>\n     <use xlink:href=\"#DejaVuSans-34\" x=\"95.410156\"/>\n     <use xlink:href=\"#DejaVuSans-25\" x=\"159.033203\"/>\n     <use xlink:href=\"#DejaVuSans-20\" x=\"254.052734\"/>\n     <use xlink:href=\"#DejaVuSans-20\" x=\"285.839844\"/>\n     <use xlink:href=\"#DejaVuSans-28\" x=\"317.626953\"/>\n     <use xlink:href=\"#DejaVuSans-38\" x=\"356.640625\"/>\n     <use xlink:href=\"#DejaVuSans-35\" x=\"420.263672\"/>\n     <use xlink:href=\"#DejaVuSans-29\" x=\"483.886719\"/>\n    </g>\n   </g>\n   <g id=\"text_5\">\n    <!-- 0.1%  (19) -->\n    <g style=\"fill: #ffffff\" transform=\"translate(340.810267 200.009478)scale(0.1 -0.1)\">\n     <use xlink:href=\"#DejaVuSans-30\"/>\n     <use xlink:href=\"#DejaVuSans-2e\" x=\"63.623047\"/>\n     <use xlink:href=\"#DejaVuSans-31\" x=\"95.410156\"/>\n     <use xlink:href=\"#DejaVuSans-25\" x=\"159.033203\"/>\n     <use xlink:href=\"#DejaVuSans-20\" x=\"254.052734\"/>\n     <use xlink:href=\"#DejaVuSans-20\" x=\"285.839844\"/>\n     <use xlink:href=\"#DejaVuSans-28\" x=\"317.626953\"/>\n     <use xlink:href=\"#DejaVuSans-31\" x=\"356.640625\"/>\n     <use xlink:href=\"#DejaVuSans-39\" x=\"420.263672\"/>\n     <use xlink:href=\"#DejaVuSans-29\" x=\"483.886719\"/>\n    </g>\n   </g>\n   <g id=\"text_6\">\n    <!-- 0.0%  (2) -->\n    <g style=\"fill: #ffffff\" transform=\"translate(343.991916 199.790254)scale(0.1 -0.1)\">\n     <use xlink:href=\"#DejaVuSans-30\"/>\n     <use xlink:href=\"#DejaVuSans-2e\" x=\"63.623047\"/>\n     <use xlink:href=\"#DejaVuSans-30\" x=\"95.410156\"/>\n     <use xlink:href=\"#DejaVuSans-25\" x=\"159.033203\"/>\n     <use xlink:href=\"#DejaVuSans-20\" x=\"254.052734\"/>\n     <use xlink:href=\"#DejaVuSans-20\" x=\"285.839844\"/>\n     <use xlink:href=\"#DejaVuSans-28\" x=\"317.626953\"/>\n     <use xlink:href=\"#DejaVuSans-32\" x=\"356.640625\"/>\n     <use xlink:href=\"#DejaVuSans-29\" x=\"420.263672\"/>\n    </g>\n   </g>\n   <g id=\"legend_1\">\n    <g id=\"patch_8\">\n     <path d=\"M 328.34625 143.58875 \nL 437.69 143.58875 \nQ 439.69 143.58875 439.69 141.58875 \nL 439.69 54.52 \nQ 439.69 52.52 437.69 52.52 \nL 328.34625 52.52 \nQ 326.34625 52.52 326.34625 54.52 \nL 326.34625 141.58875 \nQ 326.34625 143.58875 328.34625 143.58875 \nz\n\" style=\"fill: #ffffff; opacity: 0.8; stroke: #cccccc; stroke-width: 0.3; stroke-linejoin: miter\"/>\n    </g>\n    <g id=\"patch_9\">\n     <path d=\"M 330.34625 64.118437 \nL 350.34625 64.118437 \nL 350.34625 57.118437 \nL 330.34625 57.118437 \nz\n\" style=\"fill: #1f77b4; stroke: #ffffff; stroke-width: 0.3; stroke-linejoin: miter\"/>\n    </g>\n    <g id=\"text_7\">\n     <!-- Obligated -->\n     <g style=\"fill: #262626\" transform=\"translate(358.34625 64.118437)scale(0.1 -0.1)\">\n      <defs>\n       <path id=\"DejaVuSans-4f\" d=\"M 2522 4238 \nQ 1834 4238 1429 3725 \nQ 1025 3213 1025 2328 \nQ 1025 1447 1429 934 \nQ 1834 422 2522 422 \nQ 3209 422 3611 934 \nQ 4013 1447 4013 2328 \nQ 4013 3213 3611 3725 \nQ 3209 4238 2522 4238 \nz\nM 2522 4750 \nQ 3503 4750 4090 4092 \nQ 4678 3434 4678 2328 \nQ 4678 1225 4090 567 \nQ 3503 -91 2522 -91 \nQ 1538 -91 948 565 \nQ 359 1222 359 2328 \nQ 359 3434 948 4092 \nQ 1538 4750 2522 4750 \nz\n\" transform=\"scale(0.015625)\"/>\n       <path id=\"DejaVuSans-62\" d=\"M 3116 1747 \nQ 3116 2381 2855 2742 \nQ 2594 3103 2138 3103 \nQ 1681 3103 1420 2742 \nQ 1159 2381 1159 1747 \nQ 1159 1113 1420 752 \nQ 1681 391 2138 391 \nQ 2594 391 2855 752 \nQ 3116 1113 3116 1747 \nz\nM 1159 2969 \nQ 1341 3281 1617 3432 \nQ 1894 3584 2278 3584 \nQ 2916 3584 3314 3078 \nQ 3713 2572 3713 1747 \nQ 3713 922 3314 415 \nQ 2916 -91 2278 -91 \nQ 1894 -91 1617 61 \nQ 1341 213 1159 525 \nL 1159 0 \nL 581 0 \nL 581 4863 \nL 1159 4863 \nL 1159 2969 \nz\n\" transform=\"scale(0.015625)\"/>\n       <path id=\"DejaVuSans-6c\" d=\"M 603 4863 \nL 1178 4863 \nL 1178 0 \nL 603 0 \nL 603 4863 \nz\n\" transform=\"scale(0.015625)\"/>\n       <path id=\"DejaVuSans-69\" d=\"M 603 3500 \nL 1178 3500 \nL 1178 0 \nL 603 0 \nL 603 3500 \nz\nM 603 4863 \nL 1178 4863 \nL 1178 4134 \nL 603 4134 \nL 603 4863 \nz\n\" transform=\"scale(0.015625)\"/>\n       <path id=\"DejaVuSans-67\" d=\"M 2906 1791 \nQ 2906 2416 2648 2759 \nQ 2391 3103 1925 3103 \nQ 1463 3103 1205 2759 \nQ 947 2416 947 1791 \nQ 947 1169 1205 825 \nQ 1463 481 1925 481 \nQ 2391 481 2648 825 \nQ 2906 1169 2906 1791 \nz\nM 3481 434 \nQ 3481 -459 3084 -895 \nQ 2688 -1331 1869 -1331 \nQ 1566 -1331 1297 -1286 \nQ 1028 -1241 775 -1147 \nL 775 -588 \nQ 1028 -725 1275 -790 \nQ 1522 -856 1778 -856 \nQ 2344 -856 2625 -561 \nQ 2906 -266 2906 331 \nL 2906 616 \nQ 2728 306 2450 153 \nQ 2172 0 1784 0 \nQ 1141 0 747 490 \nQ 353 981 353 1791 \nQ 353 2603 747 3093 \nQ 1141 3584 1784 3584 \nQ 2172 3584 2450 3431 \nQ 2728 3278 2906 2969 \nL 2906 3500 \nL 3481 3500 \nL 3481 434 \nz\n\" transform=\"scale(0.015625)\"/>\n       <path id=\"DejaVuSans-61\" d=\"M 2194 1759 \nQ 1497 1759 1228 1600 \nQ 959 1441 959 1056 \nQ 959 750 1161 570 \nQ 1363 391 1709 391 \nQ 2188 391 2477 730 \nQ 2766 1069 2766 1631 \nL 2766 1759 \nL 2194 1759 \nz\nM 3341 1997 \nL 3341 0 \nL 2766 0 \nL 2766 531 \nQ 2569 213 2275 61 \nQ 1981 -91 1556 -91 \nQ 1019 -91 701 211 \nQ 384 513 384 1019 \nQ 384 1609 779 1909 \nQ 1175 2209 1959 2209 \nL 2766 2209 \nL 2766 2266 \nQ 2766 2663 2505 2880 \nQ 2244 3097 1772 3097 \nQ 1472 3097 1187 3025 \nQ 903 2953 641 2809 \nL 641 3341 \nQ 956 3463 1253 3523 \nQ 1550 3584 1831 3584 \nQ 2591 3584 2966 3190 \nQ 3341 2797 3341 1997 \nz\n\" transform=\"scale(0.015625)\"/>\n       <path id=\"DejaVuSans-74\" d=\"M 1172 4494 \nL 1172 3500 \nL 2356 3500 \nL 2356 3053 \nL 1172 3053 \nL 1172 1153 \nQ 1172 725 1289 603 \nQ 1406 481 1766 481 \nL 2356 481 \nL 2356 0 \nL 1766 0 \nQ 1100 0 847 248 \nQ 594 497 594 1153 \nL 594 3053 \nL 172 3053 \nL 172 3500 \nL 594 3500 \nL 594 4494 \nL 1172 4494 \nz\n\" transform=\"scale(0.015625)\"/>\n       <path id=\"DejaVuSans-65\" d=\"M 3597 1894 \nL 3597 1613 \nL 953 1613 \nQ 991 1019 1311 708 \nQ 1631 397 2203 397 \nQ 2534 397 2845 478 \nQ 3156 559 3463 722 \nL 3463 178 \nQ 3153 47 2828 -22 \nQ 2503 -91 2169 -91 \nQ 1331 -91 842 396 \nQ 353 884 353 1716 \nQ 353 2575 817 3079 \nQ 1281 3584 2069 3584 \nQ 2775 3584 3186 3129 \nQ 3597 2675 3597 1894 \nz\nM 3022 2063 \nQ 3016 2534 2758 2815 \nQ 2500 3097 2075 3097 \nQ 1594 3097 1305 2825 \nQ 1016 2553 972 2059 \nL 3022 2063 \nz\n\" transform=\"scale(0.015625)\"/>\n       <path id=\"DejaVuSans-64\" d=\"M 2906 2969 \nL 2906 4863 \nL 3481 4863 \nL 3481 0 \nL 2906 0 \nL 2906 525 \nQ 2725 213 2448 61 \nQ 2172 -91 1784 -91 \nQ 1150 -91 751 415 \nQ 353 922 353 1747 \nQ 353 2572 751 3078 \nQ 1150 3584 1784 3584 \nQ 2172 3584 2448 3432 \nQ 2725 3281 2906 2969 \nz\nM 947 1747 \nQ 947 1113 1208 752 \nQ 1469 391 1925 391 \nQ 2381 391 2643 752 \nQ 2906 1113 2906 1747 \nQ 2906 2381 2643 2742 \nQ 2381 3103 1925 3103 \nQ 1469 3103 1208 2742 \nQ 947 2381 947 1747 \nz\n\" transform=\"scale(0.015625)\"/>\n      </defs>\n      <use xlink:href=\"#DejaVuSans-4f\"/>\n      <use xlink:href=\"#DejaVuSans-62\" x=\"78.710938\"/>\n      <use xlink:href=\"#DejaVuSans-6c\" x=\"142.1875\"/>\n      <use xlink:href=\"#DejaVuSans-69\" x=\"169.970703\"/>\n      <use xlink:href=\"#DejaVuSans-67\" x=\"197.753906\"/>\n      <use xlink:href=\"#DejaVuSans-61\" x=\"261.230469\"/>\n      <use xlink:href=\"#DejaVuSans-74\" x=\"322.509766\"/>\n      <use xlink:href=\"#DejaVuSans-65\" x=\"361.71875\"/>\n      <use xlink:href=\"#DejaVuSans-64\" x=\"423.242188\"/>\n     </g>\n    </g>\n    <g id=\"patch_10\">\n     <path d=\"M 330.34625 78.796562 \nL 350.34625 78.796562 \nL 350.34625 71.796562 \nL 330.34625 71.796562 \nz\n\" style=\"fill: #ff7f0e; stroke: #ffffff; stroke-width: 0.3; stroke-linejoin: miter\"/>\n    </g>\n    <g id=\"text_8\">\n     <!-- FTA Transferred -->\n     <g style=\"fill: #262626\" transform=\"translate(358.34625 78.796562)scale(0.1 -0.1)\">\n      <defs>\n       <path id=\"DejaVuSans-46\" d=\"M 628 4666 \nL 3309 4666 \nL 3309 4134 \nL 1259 4134 \nL 1259 2759 \nL 3109 2759 \nL 3109 2228 \nL 1259 2228 \nL 1259 0 \nL 628 0 \nL 628 4666 \nz\n\" transform=\"scale(0.015625)\"/>\n       <path id=\"DejaVuSans-54\" d=\"M -19 4666 \nL 3928 4666 \nL 3928 4134 \nL 2272 4134 \nL 2272 0 \nL 1638 0 \nL 1638 4134 \nL -19 4134 \nL -19 4666 \nz\n\" transform=\"scale(0.015625)\"/>\n       <path id=\"DejaVuSans-41\" d=\"M 2188 4044 \nL 1331 1722 \nL 3047 1722 \nL 2188 4044 \nz\nM 1831 4666 \nL 2547 4666 \nL 4325 0 \nL 3669 0 \nL 3244 1197 \nL 1141 1197 \nL 716 0 \nL 50 0 \nL 1831 4666 \nz\n\" transform=\"scale(0.015625)\"/>\n       <path id=\"DejaVuSans-72\" d=\"M 2631 2963 \nQ 2534 3019 2420 3045 \nQ 2306 3072 2169 3072 \nQ 1681 3072 1420 2755 \nQ 1159 2438 1159 1844 \nL 1159 0 \nL 581 0 \nL 581 3500 \nL 1159 3500 \nL 1159 2956 \nQ 1341 3275 1631 3429 \nQ 1922 3584 2338 3584 \nQ 2397 3584 2469 3576 \nQ 2541 3569 2628 3553 \nL 2631 2963 \nz\n\" transform=\"scale(0.015625)\"/>\n       <path id=\"DejaVuSans-6e\" d=\"M 3513 2113 \nL 3513 0 \nL 2938 0 \nL 2938 2094 \nQ 2938 2591 2744 2837 \nQ 2550 3084 2163 3084 \nQ 1697 3084 1428 2787 \nQ 1159 2491 1159 1978 \nL 1159 0 \nL 581 0 \nL 581 3500 \nL 1159 3500 \nL 1159 2956 \nQ 1366 3272 1645 3428 \nQ 1925 3584 2291 3584 \nQ 2894 3584 3203 3211 \nQ 3513 2838 3513 2113 \nz\n\" transform=\"scale(0.015625)\"/>\n       <path id=\"DejaVuSans-73\" d=\"M 2834 3397 \nL 2834 2853 \nQ 2591 2978 2328 3040 \nQ 2066 3103 1784 3103 \nQ 1356 3103 1142 2972 \nQ 928 2841 928 2578 \nQ 928 2378 1081 2264 \nQ 1234 2150 1697 2047 \nL 1894 2003 \nQ 2506 1872 2764 1633 \nQ 3022 1394 3022 966 \nQ 3022 478 2636 193 \nQ 2250 -91 1575 -91 \nQ 1294 -91 989 -36 \nQ 684 19 347 128 \nL 347 722 \nQ 666 556 975 473 \nQ 1284 391 1588 391 \nQ 1994 391 2212 530 \nQ 2431 669 2431 922 \nQ 2431 1156 2273 1281 \nQ 2116 1406 1581 1522 \nL 1381 1569 \nQ 847 1681 609 1914 \nQ 372 2147 372 2553 \nQ 372 3047 722 3315 \nQ 1072 3584 1716 3584 \nQ 2034 3584 2315 3537 \nQ 2597 3491 2834 3397 \nz\n\" transform=\"scale(0.015625)\"/>\n       <path id=\"DejaVuSans-66\" d=\"M 2375 4863 \nL 2375 4384 \nL 1825 4384 \nQ 1516 4384 1395 4259 \nQ 1275 4134 1275 3809 \nL 1275 3500 \nL 2222 3500 \nL 2222 3053 \nL 1275 3053 \nL 1275 0 \nL 697 0 \nL 697 3053 \nL 147 3053 \nL 147 3500 \nL 697 3500 \nL 697 3744 \nQ 697 4328 969 4595 \nQ 1241 4863 1831 4863 \nL 2375 4863 \nz\n\" transform=\"scale(0.015625)\"/>\n      </defs>\n      <use xlink:href=\"#DejaVuSans-46\"/>\n      <use xlink:href=\"#DejaVuSans-54\" x=\"55.769531\"/>\n      <use xlink:href=\"#DejaVuSans-41\" x=\"109.103516\"/>\n      <use xlink:href=\"#DejaVuSans-20\" x=\"177.511719\"/>\n      <use xlink:href=\"#DejaVuSans-54\" x=\"209.298828\"/>\n      <use xlink:href=\"#DejaVuSans-72\" x=\"255.632812\"/>\n      <use xlink:href=\"#DejaVuSans-61\" x=\"296.746094\"/>\n      <use xlink:href=\"#DejaVuSans-6e\" x=\"358.025391\"/>\n      <use xlink:href=\"#DejaVuSans-73\" x=\"421.404297\"/>\n      <use xlink:href=\"#DejaVuSans-66\" x=\"473.503906\"/>\n      <use xlink:href=\"#DejaVuSans-65\" x=\"508.708984\"/>\n      <use xlink:href=\"#DejaVuSans-72\" x=\"570.232422\"/>\n      <use xlink:href=\"#DejaVuSans-72\" x=\"609.595703\"/>\n      <use xlink:href=\"#DejaVuSans-65\" x=\"648.458984\"/>\n      <use xlink:href=\"#DejaVuSans-64\" x=\"709.982422\"/>\n     </g>\n    </g>\n    <g id=\"patch_11\">\n     <path d=\"M 330.34625 93.474687 \nL 350.34625 93.474687 \nL 350.34625 86.474687 \nL 330.34625 86.474687 \nz\n\" style=\"fill: #2ca02c; stroke: #ffffff; stroke-width: 0.3; stroke-linejoin: miter\"/>\n    </g>\n    <g id=\"text_9\">\n     <!-- DISTRICT -->\n     <g style=\"fill: #262626\" transform=\"translate(358.34625 93.474687)scale(0.1 -0.1)\">\n      <defs>\n       <path id=\"DejaVuSans-44\" d=\"M 1259 4147 \nL 1259 519 \nL 2022 519 \nQ 2988 519 3436 956 \nQ 3884 1394 3884 2338 \nQ 3884 3275 3436 3711 \nQ 2988 4147 2022 4147 \nL 1259 4147 \nz\nM 628 4666 \nL 1925 4666 \nQ 3281 4666 3915 4102 \nQ 4550 3538 4550 2338 \nQ 4550 1131 3912 565 \nQ 3275 0 1925 0 \nL 628 0 \nL 628 4666 \nz\n\" transform=\"scale(0.015625)\"/>\n       <path id=\"DejaVuSans-49\" d=\"M 628 4666 \nL 1259 4666 \nL 1259 0 \nL 628 0 \nL 628 4666 \nz\n\" transform=\"scale(0.015625)\"/>\n       <path id=\"DejaVuSans-53\" d=\"M 3425 4513 \nL 3425 3897 \nQ 3066 4069 2747 4153 \nQ 2428 4238 2131 4238 \nQ 1616 4238 1336 4038 \nQ 1056 3838 1056 3469 \nQ 1056 3159 1242 3001 \nQ 1428 2844 1947 2747 \nL 2328 2669 \nQ 3034 2534 3370 2195 \nQ 3706 1856 3706 1288 \nQ 3706 609 3251 259 \nQ 2797 -91 1919 -91 \nQ 1588 -91 1214 -16 \nQ 841 59 441 206 \nL 441 856 \nQ 825 641 1194 531 \nQ 1563 422 1919 422 \nQ 2459 422 2753 634 \nQ 3047 847 3047 1241 \nQ 3047 1584 2836 1778 \nQ 2625 1972 2144 2069 \nL 1759 2144 \nQ 1053 2284 737 2584 \nQ 422 2884 422 3419 \nQ 422 4038 858 4394 \nQ 1294 4750 2059 4750 \nQ 2388 4750 2728 4690 \nQ 3069 4631 3425 4513 \nz\n\" transform=\"scale(0.015625)\"/>\n       <path id=\"DejaVuSans-52\" d=\"M 2841 2188 \nQ 3044 2119 3236 1894 \nQ 3428 1669 3622 1275 \nL 4263 0 \nL 3584 0 \nL 2988 1197 \nQ 2756 1666 2539 1819 \nQ 2322 1972 1947 1972 \nL 1259 1972 \nL 1259 0 \nL 628 0 \nL 628 4666 \nL 2053 4666 \nQ 2853 4666 3247 4331 \nQ 3641 3997 3641 3322 \nQ 3641 2881 3436 2590 \nQ 3231 2300 2841 2188 \nz\nM 1259 4147 \nL 1259 2491 \nL 2053 2491 \nQ 2509 2491 2742 2702 \nQ 2975 2913 2975 3322 \nQ 2975 3731 2742 3939 \nQ 2509 4147 2053 4147 \nL 1259 4147 \nz\n\" transform=\"scale(0.015625)\"/>\n       <path id=\"DejaVuSans-43\" d=\"M 4122 4306 \nL 4122 3641 \nQ 3803 3938 3442 4084 \nQ 3081 4231 2675 4231 \nQ 1875 4231 1450 3742 \nQ 1025 3253 1025 2328 \nQ 1025 1406 1450 917 \nQ 1875 428 2675 428 \nQ 3081 428 3442 575 \nQ 3803 722 4122 1019 \nL 4122 359 \nQ 3791 134 3420 21 \nQ 3050 -91 2638 -91 \nQ 1578 -91 968 557 \nQ 359 1206 359 2328 \nQ 359 3453 968 4101 \nQ 1578 4750 2638 4750 \nQ 3056 4750 3426 4639 \nQ 3797 4528 4122 4306 \nz\n\" transform=\"scale(0.015625)\"/>\n      </defs>\n      <use xlink:href=\"#DejaVuSans-44\"/>\n      <use xlink:href=\"#DejaVuSans-49\" x=\"77.001953\"/>\n      <use xlink:href=\"#DejaVuSans-53\" x=\"106.494141\"/>\n      <use xlink:href=\"#DejaVuSans-54\" x=\"169.970703\"/>\n      <use xlink:href=\"#DejaVuSans-52\" x=\"231.054688\"/>\n      <use xlink:href=\"#DejaVuSans-49\" x=\"300.537109\"/>\n      <use xlink:href=\"#DejaVuSans-43\" x=\"330.029297\"/>\n      <use xlink:href=\"#DejaVuSans-54\" x=\"399.853516\"/>\n     </g>\n    </g>\n    <g id=\"patch_12\">\n     <path d=\"M 330.34625 108.152812 \nL 350.34625 108.152812 \nL 350.34625 101.152812 \nL 330.34625 101.152812 \nz\n\" style=\"fill: #d62728; stroke: #ffffff; stroke-width: 0.3; stroke-linejoin: miter\"/>\n    </g>\n    <g id=\"text_10\">\n     <!-- HQ -->\n     <g style=\"fill: #262626\" transform=\"translate(358.34625 108.152812)scale(0.1 -0.1)\">\n      <defs>\n       <path id=\"DejaVuSans-48\" d=\"M 628 4666 \nL 1259 4666 \nL 1259 2753 \nL 3553 2753 \nL 3553 4666 \nL 4184 4666 \nL 4184 0 \nL 3553 0 \nL 3553 2222 \nL 1259 2222 \nL 1259 0 \nL 628 0 \nL 628 4666 \nz\n\" transform=\"scale(0.015625)\"/>\n       <path id=\"DejaVuSans-51\" d=\"M 2522 4238 \nQ 1834 4238 1429 3725 \nQ 1025 3213 1025 2328 \nQ 1025 1447 1429 934 \nQ 1834 422 2522 422 \nQ 3209 422 3611 934 \nQ 4013 1447 4013 2328 \nQ 4013 3213 3611 3725 \nQ 3209 4238 2522 4238 \nz\nM 3406 84 \nL 4238 -825 \nL 3475 -825 \nL 2784 -78 \nQ 2681 -84 2626 -87 \nQ 2572 -91 2522 -91 \nQ 1538 -91 948 567 \nQ 359 1225 359 2328 \nQ 359 3434 948 4092 \nQ 1538 4750 2522 4750 \nQ 3503 4750 4090 4092 \nQ 4678 3434 4678 2328 \nQ 4678 1516 4351 937 \nQ 4025 359 3406 84 \nz\n\" transform=\"scale(0.015625)\"/>\n      </defs>\n      <use xlink:href=\"#DejaVuSans-48\"/>\n      <use xlink:href=\"#DejaVuSans-51\" x=\"75.195312\"/>\n     </g>\n    </g>\n    <g id=\"patch_13\">\n     <path d=\"M 330.34625 122.830938 \nL 350.34625 122.830938 \nL 350.34625 115.830938 \nL 330.34625 115.830938 \nz\n\" style=\"fill: #9467bd; stroke: #ffffff; stroke-width: 0.3; stroke-linejoin: miter\"/>\n    </g>\n    <g id=\"text_11\">\n     <!-- FMIS -->\n     <g style=\"fill: #262626\" transform=\"translate(358.34625 122.830938)scale(0.1 -0.1)\">\n      <defs>\n       <path id=\"DejaVuSans-4d\" d=\"M 628 4666 \nL 1569 4666 \nL 2759 1491 \nL 3956 4666 \nL 4897 4666 \nL 4897 0 \nL 4281 0 \nL 4281 4097 \nL 3078 897 \nL 2444 897 \nL 1241 4097 \nL 1241 0 \nL 628 0 \nL 628 4666 \nz\n\" transform=\"scale(0.015625)\"/>\n      </defs>\n      <use xlink:href=\"#DejaVuSans-46\"/>\n      <use xlink:href=\"#DejaVuSans-4d\" x=\"57.519531\"/>\n      <use xlink:href=\"#DejaVuSans-49\" x=\"143.798828\"/>\n      <use xlink:href=\"#DejaVuSans-53\" x=\"173.291016\"/>\n     </g>\n    </g>\n    <g id=\"patch_14\">\n     <path d=\"M 330.34625 137.509062 \nL 350.34625 137.509062 \nL 350.34625 130.509062 \nL 330.34625 130.509062 \nz\n\" style=\"fill: #8c564b; stroke: #ffffff; stroke-width: 0.3; stroke-linejoin: miter\"/>\n    </g>\n    <g id=\"text_12\">\n     <!-- FHWA -->\n     <g style=\"fill: #262626\" transform=\"translate(358.34625 137.509062)scale(0.1 -0.1)\">\n      <defs>\n       <path id=\"DejaVuSans-57\" d=\"M 213 4666 \nL 850 4666 \nL 1831 722 \nL 2809 4666 \nL 3519 4666 \nL 4500 722 \nL 5478 4666 \nL 6119 4666 \nL 4947 0 \nL 4153 0 \nL 3169 4050 \nL 2175 0 \nL 1381 0 \nL 213 4666 \nz\n\" transform=\"scale(0.015625)\"/>\n      </defs>\n      <use xlink:href=\"#DejaVuSans-46\"/>\n      <use xlink:href=\"#DejaVuSans-48\" x=\"57.519531\"/>\n      <use xlink:href=\"#DejaVuSans-57\" x=\"132.714844\"/>\n      <use xlink:href=\"#DejaVuSans-41\" x=\"226.091797\"/>\n     </g>\n    </g>\n   </g>\n  </g>\n </g>\n</svg>\n"
      }
     },
     "6792cc8a57e249e79a84f34ebcfc662a": {
      "model_module": "@jupyter-widgets/base",
      "model_module_version": "1.2.0",
      "model_name": "LayoutModel",
      "state": {}
     },
     "67c15765a034427da8bfd8803ab2d561": {
      "model_module": "@jupyter-widgets/controls",
      "model_module_version": "1.5.0",
      "model_name": "HTMLModel",
      "state": {
       "layout": "IPY_MODEL_a8c3312bcb644f4ba5311ff636781c2c",
       "style": "IPY_MODEL_3b001c462b154660812c3d33d883f476",
       "value": "<a class=\"anchor\" href=\"#pp_var_1215821832360499521\"><code>date completed request</code></a> has 10727 (49.7%) missing values"
      }
     },
     "67ef5bec311346a3a985b9ba2bdf7883": {
      "model_module": "@jupyter-widgets/controls",
      "model_module_version": "1.5.0",
      "model_name": "DescriptionStyleModel",
      "state": {
       "description_width": ""
      }
     },
     "6824956d2e964c85b778a987ec745c7b": {
      "model_module": "@jupyter-widgets/controls",
      "model_module_version": "1.5.0",
      "model_name": "DescriptionStyleModel",
      "state": {
       "description_width": ""
      }
     },
     "68b2b50e16a24ca88c9fca41c57d282c": {
      "model_module": "@jupyter-widgets/controls",
      "model_module_version": "1.5.0",
      "model_name": "DescriptionStyleModel",
      "state": {
       "description_width": ""
      }
     },
     "68ce0745fa2f434b89072daa66b0d13b": {
      "model_module": "@jupyter-widgets/controls",
      "model_module_version": "1.5.0",
      "model_name": "DescriptionStyleModel",
      "state": {
       "description_width": ""
      }
     },
     "68d42358705f43bd8ddd419a44b75e58": {
      "model_module": "@jupyter-widgets/base",
      "model_module_version": "1.2.0",
      "model_name": "LayoutModel",
      "state": {}
     },
     "690f8947894b4cee8320fc328873bacf": {
      "model_module": "@jupyter-widgets/controls",
      "model_module_version": "1.5.0",
      "model_name": "LabelModel",
      "state": {
       "layout": "IPY_MODEL_1e7931dd1d264db19dc963057f2adc14",
       "style": "IPY_MODEL_a085969efcff4865b6d7ec395d93abe9",
       "value": "19"
      }
     },
     "6927302ce0cc4cb58825f000cb2347e0": {
      "model_module": "@jupyter-widgets/controls",
      "model_module_version": "1.5.0",
      "model_name": "LabelModel",
      "state": {
       "layout": "IPY_MODEL_72816eba178547798e7bd8abf434de9c",
       "style": "IPY_MODEL_81acbf72ad804d598b86b99a21d827ea",
       "value": "550"
      }
     },
     "6956644059ea4ac091fd61d3d3d513d5": {
      "model_module": "@jupyter-widgets/controls",
      "model_module_version": "1.5.0",
      "model_name": "HTMLModel",
      "state": {
       "layout": "IPY_MODEL_f42f75b4af394db4be1875101c92a45f",
       "style": "IPY_MODEL_f551eba2bcc440eeb655cb0e4147392e",
       "value": " 109/109 [00:21&lt;00:00,  1.82it/s, Completed]"
      }
     },
     "6967ac59234947eb9c547ebe1a3e8377": {
      "model_module": "@jupyter-widgets/base",
      "model_module_version": "1.2.0",
      "model_name": "LayoutModel",
      "state": {
       "grid_area": "widget005"
      }
     },
     "697da2ca07634604a25b3812afb274a6": {
      "model_module": "@jupyter-widgets/base",
      "model_module_version": "1.2.0",
      "model_name": "LayoutModel",
      "state": {
       "grid_area": "widget001"
      }
     },
     "69d4ddccdd064c6a8ac7e674811eb018": {
      "model_module": "@jupyter-widgets/base",
      "model_module_version": "1.2.0",
      "model_name": "LayoutModel",
      "state": {}
     },
     "69f55713a0ed457a801f798bd926abd6": {
      "model_module": "@jupyter-widgets/controls",
      "model_module_version": "1.5.0",
      "model_name": "DescriptionStyleModel",
      "state": {
       "description_width": ""
      }
     },
     "6a1d5c30f3c9446480eadac69214b006": {
      "model_module": "@jupyter-widgets/controls",
      "model_module_version": "1.5.0",
      "model_name": "DescriptionStyleModel",
      "state": {
       "description_width": ""
      }
     },
     "6a2e9fb1dcb746b4b37ae2ebad3c0952": {
      "model_module": "@jupyter-widgets/controls",
      "model_module_version": "1.5.0",
      "model_name": "ButtonStyleModel",
      "state": {}
     },
     "6a39e4c5908142a0aa1854d71e20aa8e": {
      "model_module": "@jupyter-widgets/controls",
      "model_module_version": "1.5.0",
      "model_name": "DescriptionStyleModel",
      "state": {
       "description_width": ""
      }
     },
     "6a78951bdcc840fca5295b54f4b61cff": {
      "model_module": "@jupyter-widgets/base",
      "model_module_version": "1.2.0",
      "model_name": "LayoutModel",
      "state": {
       "grid_area": "widget015"
      }
     },
     "6aaf23d206a04ab2b3188dbd2d408707": {
      "model_module": "@jupyter-widgets/controls",
      "model_module_version": "1.5.0",
      "model_name": "HTMLModel",
      "state": {
       "layout": "IPY_MODEL_8d4e4505d1ba4f09805b8b4ac87ff968",
       "style": "IPY_MODEL_3621ace9cc564fb48f5f273683724f20",
       "value": "<a class=\"anchor\" href=\"#pp_var_4970081654142015710\"><code>Date Request Initiated</code></a> is an unsupported type, check if it needs cleaning or further analysis"
      }
     },
     "6abf953594cd4c08ac4b361d1111a2ab": {
      "model_module": "@jupyter-widgets/controls",
      "model_module_version": "1.5.0",
      "model_name": "DescriptionStyleModel",
      "state": {
       "description_width": ""
      }
     },
     "6ac927368e88442c939d1015f8e9ee59": {
      "model_module": "@jupyter-widgets/controls",
      "model_module_version": "1.5.0",
      "model_name": "LabelModel",
      "state": {
       "layout": "IPY_MODEL_1e0ec1fc18f0443da47036a654383567",
       "style": "IPY_MODEL_c4ad14d37bc5492781b5c06d0582987d",
       "value": "550"
      }
     },
     "6af2865010d849e49a095ea669c820c0": {
      "model_module": "@jupyter-widgets/controls",
      "model_module_version": "1.5.0",
      "model_name": "DescriptionStyleModel",
      "state": {
       "description_width": ""
      }
     },
     "6afd411aebc24255b05af9747dbcd039": {
      "model_module": "@jupyter-widgets/base",
      "model_module_version": "1.2.0",
      "model_name": "LayoutModel",
      "state": {
       "grid_area": "widget002"
      }
     },
     "6b0d8e76eef746929a02dabda75f2ebc": {
      "model_module": "@jupyter-widgets/controls",
      "model_module_version": "1.5.0",
      "model_name": "HTMLModel",
      "state": {
       "layout": "IPY_MODEL_68d42358705f43bd8ddd419a44b75e58",
       "style": "IPY_MODEL_4a6b7d9378eb4f39861c693a55e2b0d2",
       "value": "<h4>Pie chart</h4>"
      }
     },
     "6ba7a2b8123f4c50a7a5be9bcf140730": {
      "model_module": "@jupyter-widgets/base",
      "model_module_version": "1.2.0",
      "model_name": "LayoutModel",
      "state": {
       "grid_area": "widget008"
      }
     },
     "6bcb7daf95c246a39ec869ca3d71522c": {
      "model_module": "@jupyter-widgets/base",
      "model_module_version": "1.2.0",
      "model_name": "LayoutModel",
      "state": {
       "grid_area": "widget004"
      }
     },
     "6bd0e86127514bdb960b964d17957332": {
      "model_module": "@jupyter-widgets/controls",
      "model_module_version": "1.5.0",
      "model_name": "HTMLModel",
      "state": {
       "layout": "IPY_MODEL_52047b0095374a23a3834d930a2335ac",
       "style": "IPY_MODEL_a793dacf3dd64fbc94c07a33919bc532",
       "value": "1.5 KiB"
      }
     },
     "6bf19dab8ef047aa9db49b2c40caf333": {
      "model_module": "@jupyter-widgets/controls",
      "model_module_version": "1.5.0",
      "model_name": "HTMLModel",
      "state": {
       "layout": "IPY_MODEL_317a1ec8e85d40dd8ad67c0b9a89946d",
       "style": "IPY_MODEL_620954539de042eda615c475ad2e598d",
       "value": "Unique (%)"
      }
     },
     "6c04894654cb4db59828f24f943ba7c5": {
      "model_module": "@jupyter-widgets/base",
      "model_module_version": "1.2.0",
      "model_name": "LayoutModel",
      "state": {
       "grid_area": "widget004"
      }
     },
     "6c1d183d8f7243728ccb5a0dad3fd017": {
      "model_module": "@jupyter-widgets/controls",
      "model_module_version": "1.5.0",
      "model_name": "ButtonStyleModel",
      "state": {}
     },
     "6c734e23b31a4dec99ffee87ae35e745": {
      "model_module": "@jupyter-widgets/base",
      "model_module_version": "1.2.0",
      "model_name": "LayoutModel",
      "state": {
       "grid_area": "widget009"
      }
     },
     "6c810a915d84492aa6413f93070fcc83": {
      "model_module": "@jupyter-widgets/base",
      "model_module_version": "1.2.0",
      "model_name": "LayoutModel",
      "state": {}
     },
     "6c9fa7c0c64d4dfba716ec3c23faf46f": {
      "model_module": "@jupyter-widgets/base",
      "model_module_version": "1.2.0",
      "model_name": "LayoutModel",
      "state": {
       "grid_template_areas": "\"widget001 widget002\"\n\"widget003 widget004\"\n\"widget005 widget006\"",
       "grid_template_columns": "repeat(2, 1fr)",
       "grid_template_rows": "repeat(3, 1fr)"
      }
     },
     "6ca269e0ac8a464c85e1a02276463773": {
      "model_module": "@jupyter-widgets/controls",
      "model_module_version": "1.5.0",
      "model_name": "LabelModel",
      "state": {
       "layout": "IPY_MODEL_1304e8d4c57644feb133217ac14d1dc2",
       "style": "IPY_MODEL_921b3df672d445ac9464670895ed3852",
       "value": "550"
      }
     },
     "6d70157e5110464b825f6646160c7c04": {
      "model_module": "@jupyter-widgets/controls",
      "model_module_version": "1.5.0",
      "model_name": "DescriptionStyleModel",
      "state": {
       "description_width": ""
      }
     },
     "6d78a400903f492fadda12d968304f46": {
      "model_module": "@jupyter-widgets/controls",
      "model_module_version": "1.5.0",
      "model_name": "DescriptionStyleModel",
      "state": {
       "description_width": ""
      }
     },
     "6d9edd5095284b728d798e6f96edf477": {
      "model_module": "@jupyter-widgets/controls",
      "model_module_version": "1.5.0",
      "model_name": "VBoxModel",
      "state": {
       "children": [
        "IPY_MODEL_ed12e0d0e9cd49b2a4a7625ff0276304",
        "IPY_MODEL_bf9fe97506aa4f8db565d52066d78bd0"
       ],
       "layout": "IPY_MODEL_e7edb99e432544a8a8963f50601dbfa0"
      }
     },
     "6da18965392a4cf5bb94b9a8fbf6df98": {
      "model_module": "@jupyter-widgets/base",
      "model_module_version": "1.2.0",
      "model_name": "LayoutModel",
      "state": {
       "grid_area": "widget003"
      }
     },
     "6e04d01fdeee48dd8dbeb77a3fdfad02": {
      "model_module": "@jupyter-widgets/controls",
      "model_module_version": "1.5.0",
      "model_name": "FloatProgressModel",
      "state": {
       "description": "DISTRICT",
       "layout": "IPY_MODEL_cee1311bf25e4e81856fb58c28a9e5f9",
       "max": 21594,
       "style": "IPY_MODEL_7d65269d2e4b44d29b84c25b16628292",
       "value": 112
      }
     },
     "6e1ba52e8084404baf538e4e94c86dca": {
      "model_module": "@jupyter-widgets/base",
      "model_module_version": "1.2.0",
      "model_name": "LayoutModel",
      "state": {
       "grid_area": "widget012"
      }
     },
     "6e2f0750184544aca5081094d5698dbf": {
      "model_module": "@jupyter-widgets/controls",
      "model_module_version": "1.5.0",
      "model_name": "DescriptionStyleModel",
      "state": {
       "description_width": ""
      }
     },
     "6e53527b706a41babc74eab67ba56a50": {
      "model_module": "@jupyter-widgets/base",
      "model_module_version": "1.2.0",
      "model_name": "LayoutModel",
      "state": {}
     },
     "6e55140de9024f3db3f5c6c1cbdf5ac9": {
      "model_module": "@jupyter-widgets/controls",
      "model_module_version": "1.5.0",
      "model_name": "DescriptionStyleModel",
      "state": {
       "description_width": ""
      }
     },
     "6e55bad2d51042bb9ce494a331eebd2d": {
      "model_module": "@jupyter-widgets/controls",
      "model_module_version": "1.5.0",
      "model_name": "DescriptionStyleModel",
      "state": {
       "description_width": ""
      }
     },
     "6e599697acda464ab343a1d1980748a7": {
      "model_module": "@jupyter-widgets/controls",
      "model_module_version": "1.5.0",
      "model_name": "DescriptionStyleModel",
      "state": {
       "description_width": ""
      }
     },
     "6e8dc5223e6044e19464eb630d97a421": {
      "model_module": "@jupyter-widgets/base",
      "model_module_version": "1.2.0",
      "model_name": "LayoutModel",
      "state": {
       "grid_area": "widget010"
      }
     },
     "6e9188d2b58e46c1a0c3ccc908e7197b": {
      "model_module": "@jupyter-widgets/controls",
      "model_module_version": "1.5.0",
      "model_name": "HTMLModel",
      "state": {
       "layout": "IPY_MODEL_8f631f2c0d0b4517983e16141bb8e3b3",
       "style": "IPY_MODEL_a4bc40d32c7d48599d6e11e2fb506ad9",
       "value": "Missing cells (%)"
      }
     },
     "6eadfc394ea641b084255a7f27b1dbdc": {
      "model_module": "@jupyter-widgets/controls",
      "model_module_version": "1.5.0",
      "model_name": "ProgressStyleModel",
      "state": {
       "description_width": ""
      }
     },
     "6ed29976061b49b68d4fb17e8685b8ba": {
      "model_module": "@jupyter-widgets/base",
      "model_module_version": "1.2.0",
      "model_name": "LayoutModel",
      "state": {
       "grid_template_areas": "\"widget001 widget002\"\n\"widget003 widget004\"\n\"widget005 widget006\"\n\"widget007 widget008\"\n\"widget009 widget010\"\n\"widget011 widget012\"\n\"widget013 widget014\"\n\"widget015 widget016\"",
       "grid_template_columns": "repeat(2, 1fr)",
       "grid_template_rows": "repeat(8, 1fr)"
      }
     },
     "6ed6a31424094f4ba291dbbf999fc922": {
      "model_module": "@jupyter-widgets/base",
      "model_module_version": "1.2.0",
      "model_name": "LayoutModel",
      "state": {
       "grid_area": "widget005"
      }
     },
     "6ed9f4e4731e47c9b683b8e6b3fd0533": {
      "model_module": "@jupyter-widgets/controls",
      "model_module_version": "1.5.0",
      "model_name": "HTMLModel",
      "state": {
       "layout": "IPY_MODEL_d51be898548944c88dd203523a1ab203",
       "style": "IPY_MODEL_0f4fa22d5415491dbd52710c6f5cde77",
       "value": "<a class=\"anchor\" href=\"#pp_var_1659950516416786112\"><code>dist processing Days</code></a> has 1830 (8.5%) missing values"
      }
     },
     "6f28c3fe5a5d4f42aeb09e37a956a6de": {
      "model_module": "@jupyter-widgets/base",
      "model_module_version": "1.2.0",
      "model_name": "LayoutModel",
      "state": {}
     },
     "6f432e8383764c539ce66ca39c852429": {
      "model_module": "@jupyter-widgets/base",
      "model_module_version": "1.2.0",
      "model_name": "LayoutModel",
      "state": {
       "grid_area": "widget008"
      }
     },
     "6f5c7dde5f0f4f4880b459f2293da253": {
      "model_module": "@jupyter-widgets/controls",
      "model_module_version": "1.5.0",
      "model_name": "DescriptionStyleModel",
      "state": {
       "description_width": ""
      }
     },
     "6f6513b2c5ae4947bd48edd4f2e320fa": {
      "model_module": "@jupyter-widgets/controls",
      "model_module_version": "1.5.0",
      "model_name": "HTMLModel",
      "state": {
       "layout": "IPY_MODEL_cd1e7c92f7cd40199d398ace7b428316",
       "style": "IPY_MODEL_77db030451c742c9a61976367fb0f9ea",
       "value": "3rd row"
      }
     },
     "6fbbef84e20943be8384c0e18732793e": {
      "model_module": "@jupyter-widgets/controls",
      "model_module_version": "1.5.0",
      "model_name": "DescriptionStyleModel",
      "state": {
       "description_width": ""
      }
     },
     "6fcc36e760714fd78717af568d92bce5": {
      "model_module": "@jupyter-widgets/controls",
      "model_module_version": "1.5.0",
      "model_name": "LabelModel",
      "state": {
       "layout": "IPY_MODEL_49740897ba0b421b96c1cdc27fff964b",
       "style": "IPY_MODEL_aa0d8d971f464960bf20a9b2c7d93cd9",
       "value": "fhwa"
      }
     },
     "6ff07a94fe2547718e4579413d7dbc59": {
      "model_module": "@jupyter-widgets/controls",
      "model_module_version": "1.5.0",
      "model_name": "ButtonStyleModel",
      "state": {}
     },
     "6ff5a56e881347668ca9a25da733d9c9": {
      "model_module": "@jupyter-widgets/base",
      "model_module_version": "1.2.0",
      "model_name": "LayoutModel",
      "state": {
       "grid_template_columns": "25% 25% 25% 25%",
       "width": "100%"
      }
     },
     "70a70fe128be4ca5a31a2e7634adbc22": {
      "model_module": "@jupyter-widgets/base",
      "model_module_version": "1.2.0",
      "model_name": "LayoutModel",
      "state": {}
     },
     "70bce52b0523415298e3d74c5a3f467c": {
      "model_module": "@jupyter-widgets/controls",
      "model_module_version": "1.5.0",
      "model_name": "DescriptionStyleModel",
      "state": {
       "description_width": ""
      }
     },
     "70d5b260c6664e0288977746afd6eee3": {
      "model_module": "@jupyter-widgets/controls",
      "model_module_version": "1.5.0",
      "model_name": "ButtonModel",
      "state": {
       "button_style": "info",
       "description": "Zeros",
       "disabled": true,
       "layout": "IPY_MODEL_74ff297ff36949ff80efb5744b5a925f",
       "style": "IPY_MODEL_46034853d4a84a90853b7b8a83d05a66"
      }
     },
     "7123f6f33edc409f9bcc10f198bfb440": {
      "model_module": "@jupyter-widgets/controls",
      "model_module_version": "1.5.0",
      "model_name": "DescriptionStyleModel",
      "state": {
       "description_width": ""
      }
     },
     "714b32da6bef43bd974bb0cbbe604ae4": {
      "model_module": "@jupyter-widgets/base",
      "model_module_version": "1.2.0",
      "model_name": "LayoutModel",
      "state": {}
     },
     "714f5ae8a5bb473a9a644eb013d6221c": {
      "model_module": "@jupyter-widgets/base",
      "model_module_version": "1.2.0",
      "model_name": "LayoutModel",
      "state": {
       "grid_area": "widget001"
      }
     },
     "71b87744797d477fa0f857c63713950b": {
      "model_module": "@jupyter-widgets/base",
      "model_module_version": "1.2.0",
      "model_name": "LayoutModel",
      "state": {}
     },
     "72474ff740aa4dcc8d9b8b4fc33da6f5": {
      "model_module": "@jupyter-widgets/controls",
      "model_module_version": "1.5.0",
      "model_name": "ButtonStyleModel",
      "state": {}
     },
     "72816eba178547798e7bd8abf434de9c": {
      "model_module": "@jupyter-widgets/base",
      "model_module_version": "1.2.0",
      "model_name": "LayoutModel",
      "state": {}
     },
     "729d2ba2f8144a74b2dd2ff98ac14eca": {
      "model_module": "@jupyter-widgets/base",
      "model_module_version": "1.2.0",
      "model_name": "LayoutModel",
      "state": {}
     },
     "72a4c911776a4f11abc89d04c7750dc6": {
      "model_module": "@jupyter-widgets/controls",
      "model_module_version": "1.5.0",
      "model_name": "ButtonStyleModel",
      "state": {}
     },
     "72e0bbc27bec4c7da530a0f77da439f1": {
      "model_module": "@jupyter-widgets/base",
      "model_module_version": "1.2.0",
      "model_name": "LayoutModel",
      "state": {
       "grid_area": "widget001"
      }
     },
     "72f63b7531044048aa6930a53568a4b9": {
      "model_module": "@jupyter-widgets/base",
      "model_module_version": "1.2.0",
      "model_name": "LayoutModel",
      "state": {
       "grid_area": "widget015"
      }
     },
     "730afd2daa2342b182d68bd27d28439a": {
      "model_module": "@jupyter-widgets/controls",
      "model_module_version": "1.5.0",
      "model_name": "DescriptionStyleModel",
      "state": {
       "description_width": ""
      }
     },
     "731f052863804be3a074046649f5d5d8": {
      "model_module": "@jupyter-widgets/controls",
      "model_module_version": "1.5.0",
      "model_name": "HTMLModel",
      "state": {
       "layout": "IPY_MODEL_87bca456323b414884857fa876d45203",
       "style": "IPY_MODEL_29d60a48b68740f2a40e0fadad7e4dc4",
       "value": "<a class=\"anchor\" href=\"#pp_var_-5722233049682501385\"><code>Waiting Days</code></a> has 21395 (99.1%) missing values"
      }
     },
     "737bda876d1d44bb8889ecc0481d2b6c": {
      "model_module": "@jupyter-widgets/base",
      "model_module_version": "1.2.0",
      "model_name": "LayoutModel",
      "state": {}
     },
     "737cea13aadd4c3aa1c32ed77bedc242": {
      "model_module": "@jupyter-widgets/base",
      "model_module_version": "1.2.0",
      "model_name": "LayoutModel",
      "state": {
       "grid_area": "widget005"
      }
     },
     "7387401bd3be4c9d8afaab4a43e73515": {
      "model_module": "@jupyter-widgets/controls",
      "model_module_version": "1.5.0",
      "model_name": "HTMLModel",
      "state": {
       "layout": "IPY_MODEL_6e8dc5223e6044e19464eb630d97a421",
       "style": "IPY_MODEL_f75ab866832f4179a95e918ac5ebbe33",
       "value": "Obligated"
      }
     },
     "7404907617fd452e81cd0323cb2443b3": {
      "model_module": "@jupyter-widgets/controls",
      "model_module_version": "1.5.0",
      "model_name": "HTMLModel",
      "state": {
       "layout": "IPY_MODEL_6f28c3fe5a5d4f42aeb09e37a956a6de",
       "style": "IPY_MODEL_74fc1c330d974a1080b325ce1aa41b19",
       "value": "<h4>Common Values</h4>"
      }
     },
     "7448348605c44a4e8bf524de851047aa": {
      "model_module": "@jupyter-widgets/base",
      "model_module_version": "1.2.0",
      "model_name": "LayoutModel",
      "state": {}
     },
     "74b88ad823324dfebb1fe117d9ff28fd": {
      "model_module": "@jupyter-widgets/base",
      "model_module_version": "1.2.0",
      "model_name": "LayoutModel",
      "state": {}
     },
     "74ee0268cbce412b880a6fcd3c84490e": {
      "model_module": "@jupyter-widgets/controls",
      "model_module_version": "1.5.0",
      "model_name": "HTMLModel",
      "state": {
       "layout": "IPY_MODEL_8188e7a162c446b4b20f67db3dfe7c86",
       "style": "IPY_MODEL_fe32a557dbc44b879e8e65a1d63adcc9",
       "value": "0.0%"
      }
     },
     "74f6bee6458f4e8f91260cf014af4acc": {
      "model_module": "@jupyter-widgets/base",
      "model_module_version": "1.2.0",
      "model_name": "LayoutModel",
      "state": {
       "grid_area": "widget002"
      }
     },
     "74fc1c330d974a1080b325ce1aa41b19": {
      "model_module": "@jupyter-widgets/controls",
      "model_module_version": "1.5.0",
      "model_name": "DescriptionStyleModel",
      "state": {
       "description_width": ""
      }
     },
     "74ff297ff36949ff80efb5744b5a925f": {
      "model_module": "@jupyter-widgets/base",
      "model_module_version": "1.2.0",
      "model_name": "LayoutModel",
      "state": {}
     },
     "75214c77f72c409c89f747b91ca15974": {
      "model_module": "@jupyter-widgets/controls",
      "model_module_version": "1.5.0",
      "model_name": "HTMLModel",
      "state": {
       "layout": "IPY_MODEL_74f6bee6458f4e8f91260cf014af4acc",
       "style": "IPY_MODEL_f712a1b8ad6a4601a6dd6736b6132091",
       "value": "2022-03-09 22:42:01.776142"
      }
     },
     "75435c10cefa45508f0024e088daba09": {
      "model_module": "@jupyter-widgets/controls",
      "model_module_version": "1.5.0",
      "model_name": "ButtonModel",
      "state": {
       "button_style": "info",
       "description": "Missing",
       "disabled": true,
       "layout": "IPY_MODEL_7730f6d22f904b9783cc8929640a6716",
       "style": "IPY_MODEL_2e620ffdeb42478793880a6be7187bb3"
      }
     },
     "755a5aaad7224858b297d7a1487715a3": {
      "model_module": "@jupyter-widgets/base",
      "model_module_version": "1.2.0",
      "model_name": "LayoutModel",
      "state": {}
     },
     "759c2d62dbe94a87b81edd416ec73965": {
      "model_module": "@jupyter-widgets/base",
      "model_module_version": "1.2.0",
      "model_name": "LayoutModel",
      "state": {}
     },
     "75b769bf4fe148238f42742589090365": {
      "model_module": "@jupyter-widgets/controls",
      "model_module_version": "1.5.0",
      "model_name": "VBoxModel",
      "state": {
       "children": [
        "IPY_MODEL_104715c075dc4f358b854a1c5fc7e032",
        "IPY_MODEL_932710dede614e128b88e35babc4ac96",
        "IPY_MODEL_ba6c557ea0004a54af950e9c5aba57fd",
        "IPY_MODEL_b40112f3059948c6a960f7db6ec8f740",
        "IPY_MODEL_29a48af88c734ff4980cad7489d58396"
       ],
       "layout": "IPY_MODEL_3b99d901ea7742d79b7ea0b47182b828"
      }
     },
     "75cd12fc03d64036bcbd44f2b2dc6a83": {
      "model_module": "@jupyter-widgets/controls",
      "model_module_version": "1.5.0",
      "model_name": "GridBoxModel",
      "state": {
       "children": [
        "IPY_MODEL_77575b176d8742ffa379e7d4b7d33abc",
        "IPY_MODEL_799abce3b8b4449abee7a992e23caadb",
        "IPY_MODEL_9d6b9195d52944528dfb6bc5a09a1c55",
        "IPY_MODEL_85fb5be948684582b66119dc03c1e78d"
       ],
       "layout": "IPY_MODEL_fdb86b94b447460797b989a9f840e20a"
      }
     },
     "75e260a8a3e84aaaa37c2c2c3011ad17": {
      "model_module": "@jupyter-widgets/controls",
      "model_module_version": "1.5.0",
      "model_name": "HTMLModel",
      "state": {
       "layout": "IPY_MODEL_af00b095beed469fa203b85296a0b824",
       "style": "IPY_MODEL_25dcf898a2d244948eccf3f7a121b991",
       "value": "<a class=\"anchor\" href=\"#pp_var_1659950516416786112\"><code>dist processing Days</code></a> has 6736 (31.2%) zeros"
      }
     },
     "75e4185af3aa43a8a613b76060063ec0": {
      "model_module": "@jupyter-widgets/controls",
      "model_module_version": "1.5.0",
      "model_name": "FloatProgressModel",
      "state": {
       "layout": "IPY_MODEL_366f21d3b13d444088589ed0d351276e",
       "max": 21594,
       "style": "IPY_MODEL_8cbd0d5cc338412a93e7a07f748d7c1b",
       "value": 85
      }
     },
     "7601126b8c75400e84b5a040636888f3": {
      "model_module": "@jupyter-widgets/controls",
      "model_module_version": "1.5.0",
      "model_name": "DescriptionStyleModel",
      "state": {
       "description_width": ""
      }
     },
     "764680c88c27473d93edba0ceed922f9": {
      "model_module": "@jupyter-widgets/controls",
      "model_module_version": "1.5.0",
      "model_name": "DescriptionStyleModel",
      "state": {
       "description_width": ""
      }
     },
     "764842a028844aacacf6b62507cb8fcc": {
      "model_module": "@jupyter-widgets/base",
      "model_module_version": "1.2.0",
      "model_name": "LayoutModel",
      "state": {}
     },
     "765ec42bc97d4c95ac4cf1c1afaaf84d": {
      "model_module": "@jupyter-widgets/controls",
      "model_module_version": "1.5.0",
      "model_name": "DescriptionStyleModel",
      "state": {
       "description_width": ""
      }
     },
     "766ba6e0ea5c4f7498218052b3e8c5d8": {
      "model_module": "@jupyter-widgets/base",
      "model_module_version": "1.2.0",
      "model_name": "LayoutModel",
      "state": {
       "grid_area": "widget004"
      }
     },
     "767cb4334eec425299f92381fdd73318": {
      "model_module": "@jupyter-widgets/controls",
      "model_module_version": "1.5.0",
      "model_name": "ButtonStyleModel",
      "state": {}
     },
     "7688fae1ea124663967da7cce1ccb95d": {
      "model_module": "@jupyter-widgets/controls",
      "model_module_version": "1.5.0",
      "model_name": "HTMLModel",
      "state": {
       "layout": "IPY_MODEL_c6c2a30ed42848b895e69512dba2f845",
       "style": "IPY_MODEL_aa039148bfeb428dbcb3b0ff92c801b6",
       "value": "0 <a title=\"Unicode blocks (click for more information)\" href=\"https://en.wikipedia.org/wiki/Unicode_block\" target=\"_blank\"><span class=\"badge pull-right\" style=\"color:#fff;background-color:#337ab7;\" title=\"Unicode blocks (click for more information)\">?</span></a>"
      }
     },
     "76b8a28de44343e186dfce92df3ad3f9": {
      "model_module": "@jupyter-widgets/controls",
      "model_module_version": "1.5.0",
      "model_name": "HTMLModel",
      "state": {
       "layout": "IPY_MODEL_0a556003f1d44571b8eec283c759f149",
       "style": "IPY_MODEL_f3b8752e49c2486398f5af2a3c5f42dd",
       "value": "<a class=\"anchor\" href=\"#pp_var_3809594440601096559\"><code>prepared date</code></a> is an unsupported type, check if it needs cleaning or further analysis"
      }
     },
     "76d5211bdab647999a3b761d07c19979": {
      "model_module": "@jupyter-widgets/base",
      "model_module_version": "1.2.0",
      "model_name": "LayoutModel",
      "state": {
       "grid_area": "widget002"
      }
     },
     "76ebcef781ce4dc491516f048c76f64d": {
      "model_module": "@jupyter-widgets/controls",
      "model_module_version": "1.5.0",
      "model_name": "HTMLModel",
      "state": {
       "layout": "IPY_MODEL_a589d6e9088b480495fb65a32b4c9cb5",
       "style": "IPY_MODEL_51c60c9abd414b5c916dd4fe09c17f0f",
       "value": "Summarize dataset:  72%"
      }
     },
     "76ed8543d4d6490ab5464801ed7ec743": {
      "model_module": "@jupyter-widgets/controls",
      "model_module_version": "1.5.0",
      "model_name": "ButtonModel",
      "state": {
       "button_style": "info",
       "description": "Missing",
       "disabled": true,
       "layout": "IPY_MODEL_35114f09302b4788b35a2c9d9ae01b29",
       "style": "IPY_MODEL_4f2f4ac10fdd46d78c6cf4d4ff481523"
      }
     },
     "7723acf6d95c44bb8fb2a5ff5d635c3d": {
      "model_module": "@jupyter-widgets/controls",
      "model_module_version": "1.5.0",
      "model_name": "HTMLModel",
      "state": {
       "layout": "IPY_MODEL_69d4ddccdd064c6a8ac7e674811eb018",
       "style": "IPY_MODEL_85fa2e1161904550a5e57136c1cc5145",
       "value": " 109/109 [00:20&lt;00:00,  1.94it/s, Completed]"
      }
     },
     "7730f413b3184bfd9251da8375ba839a": {
      "model_module": "@jupyter-widgets/controls",
      "model_module_version": "1.5.0",
      "model_name": "HTMLModel",
      "state": {
       "layout": "IPY_MODEL_3587ae0d14cd416989757b16ea91ab5c",
       "style": "IPY_MODEL_32264507abb549daae32e26e4b1a4f9c",
       "value": "0.0%"
      }
     },
     "7730f6d22f904b9783cc8929640a6716": {
      "model_module": "@jupyter-widgets/base",
      "model_module_version": "1.2.0",
      "model_name": "LayoutModel",
      "state": {}
     },
     "774dc7430d4949848ce8ba0596195766": {
      "model_module": "@jupyter-widgets/controls",
      "model_module_version": "1.5.0",
      "model_name": "DescriptionStyleModel",
      "state": {
       "description_width": ""
      }
     },
     "77575b176d8742ffa379e7d4b7d33abc": {
      "model_module": "@jupyter-widgets/controls",
      "model_module_version": "1.5.0",
      "model_name": "HTMLModel",
      "state": {
       "layout": "IPY_MODEL_eeb48f9f36504199af12abe3b0205703",
       "style": "IPY_MODEL_e493a4f4b7ac4fef86100ace9ac6aee5",
       "value": "Unique"
      }
     },
     "777583965203441088f9d0e2b65f9a48": {
      "model_module": "@jupyter-widgets/base",
      "model_module_version": "1.2.0",
      "model_name": "LayoutModel",
      "state": {}
     },
     "77d2de1fdc484f8cac876529dbaec89a": {
      "model_module": "@jupyter-widgets/base",
      "model_module_version": "1.2.0",
      "model_name": "LayoutModel",
      "state": {}
     },
     "77db030451c742c9a61976367fb0f9ea": {
      "model_module": "@jupyter-widgets/controls",
      "model_module_version": "1.5.0",
      "model_name": "DescriptionStyleModel",
      "state": {
       "description_width": ""
      }
     },
     "781b795912034c699736e7dd9a670698": {
      "model_module": "@jupyter-widgets/controls",
      "model_module_version": "1.5.0",
      "model_name": "DescriptionStyleModel",
      "state": {
       "description_width": ""
      }
     },
     "783c840abd4448b48ac7c2be2be40d24": {
      "model_module": "@jupyter-widgets/base",
      "model_module_version": "1.2.0",
      "model_name": "LayoutModel",
      "state": {}
     },
     "7842d0b38a174360a10e76874a362a19": {
      "model_module": "@jupyter-widgets/base",
      "model_module_version": "1.2.0",
      "model_name": "LayoutModel",
      "state": {}
     },
     "78795ed72e294739aac33e5b42adbd85": {
      "model_module": "@jupyter-widgets/controls",
      "model_module_version": "1.5.0",
      "model_name": "ButtonModel",
      "state": {
       "button_style": "warning",
       "description": "Unsupported",
       "disabled": true,
       "layout": "IPY_MODEL_55ff858c9f5d472986271de848625f37",
       "style": "IPY_MODEL_1e881e40f3f5491d9a39dac34182b446"
      }
     },
     "78a1cf3696ab40fbb83667bf01ba3b1c": {
      "model_module": "@jupyter-widgets/base",
      "model_module_version": "1.2.0",
      "model_name": "LayoutModel",
      "state": {
       "grid_area": "widget002"
      }
     },
     "78a28af2e2af4dd8a562c65a998762f0": {
      "model_module": "@jupyter-widgets/controls",
      "model_module_version": "1.5.0",
      "model_name": "LabelModel",
      "state": {
       "layout": "IPY_MODEL_a75fbf5711ae49dfb81eeda3de62a505",
       "style": "IPY_MODEL_c819c69b22d14445aec77361a36b8165",
       "value": "district"
      }
     },
     "78bf297b6f674a0fa4bc94cfbf3cd074": {
      "model_module": "@jupyter-widgets/controls",
      "model_module_version": "1.5.0",
      "model_name": "DescriptionStyleModel",
      "state": {
       "description_width": ""
      }
     },
     "79433a513fa94101bb8588982efde082": {
      "model_module": "@jupyter-widgets/controls",
      "model_module_version": "1.5.0",
      "model_name": "HTMLModel",
      "state": {
       "layout": "IPY_MODEL_ac9f49bf3fe34e178c39658f62a3f6ec",
       "style": "IPY_MODEL_de67e133475049e3a0d1df194c3a4b16",
       "value": "<a class=\"anchor\" href=\"#pp_var_-2916060121462389247\"><code>Locode</code></a> has 1499 (6.9%) missing values"
      }
     },
     "794567f7060d4b869c7b2b575cff1512": {
      "model_module": "@jupyter-widgets/base",
      "model_module_version": "1.2.0",
      "model_name": "LayoutModel",
      "state": {}
     },
     "79793f9f41954a058cfed76aabbfd180": {
      "model_module": "@jupyter-widgets/controls",
      "model_module_version": "1.5.0",
      "model_name": "DescriptionStyleModel",
      "state": {
       "description_width": ""
      }
     },
     "799abce3b8b4449abee7a992e23caadb": {
      "model_module": "@jupyter-widgets/controls",
      "model_module_version": "1.5.0",
      "model_name": "HTMLModel",
      "state": {
       "layout": "IPY_MODEL_9a4cfd41ca2940a9b562c15c5008b7b6",
       "style": "IPY_MODEL_186e6401f70b431889a23936df56a321",
       "value": "0 <span class=\"badge pull-right\" style=\"color:#fff;background-color:#337ab7;\" title=\"The number of unique values (all values that occur exactly once in the dataset).\">?</span>"
      }
     },
     "7a03358eaf1049179e2310994b24644a": {
      "model_module": "@jupyter-widgets/controls",
      "model_module_version": "1.5.0",
      "model_name": "DescriptionStyleModel",
      "state": {
       "description_width": ""
      }
     },
     "7a20a262bd18435b83072635b7b34393": {
      "model_module": "@jupyter-widgets/controls",
      "model_module_version": "1.5.0",
      "model_name": "DescriptionStyleModel",
      "state": {
       "description_width": ""
      }
     },
     "7a2920472205443fa1d7f77f54d64a32": {
      "model_module": "@jupyter-widgets/controls",
      "model_module_version": "1.5.0",
      "model_name": "DescriptionStyleModel",
      "state": {
       "description_width": ""
      }
     },
     "7a35d8e604044a4587a802560f9abce8": {
      "model_module": "@jupyter-widgets/controls",
      "model_module_version": "1.5.0",
      "model_name": "HTMLModel",
      "state": {
       "layout": "IPY_MODEL_62d1d13518e84a3185545a34a90b0ebe",
       "style": "IPY_MODEL_ec8273755c084a20b0cb63adf566f808",
       "value": "0"
      }
     },
     "7a930938641a4a29a6a874356f1bbe3f": {
      "model_module": "@jupyter-widgets/controls",
      "model_module_version": "1.5.0",
      "model_name": "HTMLModel",
      "state": {
       "layout": "IPY_MODEL_d69eecefb6d949eabf10c03c99137d71",
       "style": "IPY_MODEL_061e4dd9b50f4b0eb2ec4dcc7e70925c",
       "value": "2nd row"
      }
     },
     "7a948e84f7f648fc8967641a422c0e81": {
      "model_module": "@jupyter-widgets/controls",
      "model_module_version": "1.5.0",
      "model_name": "GridBoxModel",
      "state": {
       "children": [
        "IPY_MODEL_f3fcd67a8018489db53b34edfb2896db",
        "IPY_MODEL_4a0756524ada446bac0e596edcfa3bf0"
       ],
       "layout": "IPY_MODEL_42a48163668b426cbd2e1743739502aa"
      }
     },
     "7aa99e3e62074b51ad0333edb3e9501c": {
      "model_module": "@jupyter-widgets/base",
      "model_module_version": "1.2.0",
      "model_name": "LayoutModel",
      "state": {
       "grid_area": "widget007"
      }
     },
     "7aae676d824144f2bd1276326c3c57df": {
      "model_module": "@jupyter-widgets/base",
      "model_module_version": "1.2.0",
      "model_name": "LayoutModel",
      "state": {}
     },
     "7ae6afd443cc46699397cc06f32d8082": {
      "model_module": "@jupyter-widgets/base",
      "model_module_version": "1.2.0",
      "model_name": "LayoutModel",
      "state": {
       "grid_area": "widget004"
      }
     },
     "7b24db4669774e70a5118123272321f7": {
      "model_module": "@jupyter-widgets/controls",
      "model_module_version": "1.5.0",
      "model_name": "DescriptionStyleModel",
      "state": {
       "description_width": ""
      }
     },
     "7b3df184db03422da13520ac78be2227": {
      "model_module": "@jupyter-widgets/base",
      "model_module_version": "1.2.0",
      "model_name": "LayoutModel",
      "state": {}
     },
     "7b5a91f63cd04ea5baef6ac4ec8530b6": {
      "model_module": "@jupyter-widgets/base",
      "model_module_version": "1.2.0",
      "model_name": "LayoutModel",
      "state": {
       "grid_template_columns": "100%",
       "width": "100%"
      }
     },
     "7b79678aa478435599c50e571893a199": {
      "model_module": "@jupyter-widgets/controls",
      "model_module_version": "1.5.0",
      "model_name": "DescriptionStyleModel",
      "state": {
       "description_width": ""
      }
     },
     "7baee83e07004d8eade571762b3c54f1": {
      "model_module": "@jupyter-widgets/base",
      "model_module_version": "1.2.0",
      "model_name": "LayoutModel",
      "state": {}
     },
     "7bb908bb721e46cb938bd12a8b308b3a": {
      "model_module": "@jupyter-widgets/controls",
      "model_module_version": "1.5.0",
      "model_name": "DescriptionStyleModel",
      "state": {
       "description_width": ""
      }
     },
     "7bd29b45a81744d1927e5cb32480cfda": {
      "model_module": "@jupyter-widgets/base",
      "model_module_version": "1.2.0",
      "model_name": "LayoutModel",
      "state": {}
     },
     "7bd5df48b1ca4b19802ed9a6619ce2d9": {
      "model_module": "@jupyter-widgets/controls",
      "model_module_version": "1.5.0",
      "model_name": "HTMLModel",
      "state": {
       "layout": "IPY_MODEL_f943e328c44d45de951960026cbacd46",
       "style": "IPY_MODEL_3cf8c96634694839afa4ab4141b0a36c",
       "value": "<a class=\"anchor\" href=\"#pp_var_-2017647313142555237\"><code>Today</code></a> is an unsupported type, check if it needs cleaning or further analysis"
      }
     },
     "7be7a544cdbf4fa0a9241a37b728ab57": {
      "model_module": "@jupyter-widgets/controls",
      "model_module_version": "1.5.0",
      "model_name": "HTMLModel",
      "state": {
       "layout": "IPY_MODEL_17be52c318204628b9e78f10a9b04033",
       "style": "IPY_MODEL_5de9a54e59ea49419d9c17b39cd6b3d8",
       "value": "Obligated"
      }
     },
     "7bea8fa5ddbc4c2e8c175683192f7474": {
      "model_module": "@jupyter-widgets/controls",
      "model_module_version": "1.5.0",
      "model_name": "HTMLModel",
      "state": {
       "layout": "IPY_MODEL_61eeea11df214fa2b04bf694a699f37d",
       "style": "IPY_MODEL_e1185dee677d49caabed4ff6100be511",
       "value": "<p style=\"color: #999\"><em>Histogram of lengths of the category</em></p>"
      }
     },
     "7c230e802c8b40a3ab476ff4455fa1a9": {
      "model_module": "@jupyter-widgets/controls",
      "model_module_version": "1.5.0",
      "model_name": "HTMLModel",
      "state": {
       "layout": "IPY_MODEL_4161dc3a345c48f89053aa09e394bee0",
       "style": "IPY_MODEL_6af2865010d849e49a095ea669c820c0",
       "value": "<?xml version=\"1.0\" encoding=\"utf-8\" standalone=\"no\"?>\n<!DOCTYPE svg style=\"max-width: 100%\" PUBLIC \"-//W3C//DTD SVG 1.1//EN\"\n  \"http://www.w3.org/Graphics/SVG/1.1/DTD/svg11.dtd\">\n<svg style=\"max-width: 100%\" xmlns:xlink=\"http://www.w3.org/1999/xlink\" width=\"576pt\"  viewBox=\"0 0 576 396\" xmlns=\"http://www.w3.org/2000/svg\" version=\"1.1\">\n <metadata>\n  <rdf:RDF xmlns:dc=\"http://purl.org/dc/elements/1.1/\" xmlns:cc=\"http://creativecommons.org/ns#\" xmlns:rdf=\"http://www.w3.org/1999/02/22-rdf-syntax-ns#\">\n   <cc:Work>\n    <dc:type rdf:resource=\"http://purl.org/dc/dcmitype/StillImage\"/>\n    <dc:date>2022-03-09T22:35:18.534830</dc:date>\n    <dc:format>image/svg+xml</dc:format>\n    <dc:creator>\n     <cc:Agent>\n      <dc:title>Matplotlib v3.5.1, https://matplotlib.org/</dc:title>\n     </cc:Agent>\n    </dc:creator>\n   </cc:Work>\n  </rdf:RDF>\n </metadata>\n <defs>\n  <style type=\"text/css\">*{stroke-linejoin: round; stroke-linecap: butt}</style>\n </defs>\n <g id=\"figure_1\">\n  <g id=\"patch_1\">\n   <path d=\"M 0 396 \nL 576 396 \nL 576 0 \nL 0 0 \nz\n\" style=\"fill: #ffffff\"/>\n  </g>\n  <g id=\"axes_1\">\n   <g id=\"matplotlib.axis_1\"/>\n   <g id=\"matplotlib.axis_2\"/>\n   <g id=\"patch_2\">\n    <path d=\"M 414.792 197.01 \nC 414.792 181.867232 411.915929 166.861337 406.316994 152.791677 \nC 400.718059 138.722017 392.497477 125.842937 382.093156 114.840505 \nC 371.688835 103.838073 359.28886 94.911186 345.553778 88.535378 \nC 331.818695 82.159571 316.996802 78.450102 301.877659 77.604576 \nC 286.758515 76.759049 271.61544 78.792749 257.255102 83.597341 \nC 242.894764 88.401933 229.576764 95.890562 218.010551 105.664308 \nC 206.444337 115.438055 196.839 127.320233 189.706214 140.677882 \nC 182.573428 154.03553 178.042136 168.627174 176.353721 183.675518 \nC 174.665306 198.723863 175.850289 213.956869 179.845547 228.563078 \nC 183.840806 243.169286 190.574114 256.884651 199.68679 268.978556 \nC 208.799465 281.072462 220.126773 291.326279 233.065309 299.193789 \nC 246.003845 307.061298 260.319711 312.400274 275.250302 314.926309 \nC 290.180893 317.452345 305.4563 317.119776 320.262805 313.946317 \nC 335.069309 310.772859 349.139245 304.81588 361.723107 296.392708 \nC 374.306969 287.969537 385.177272 277.232443 393.754957 264.753391 \nC 402.332641 252.274339 408.462642 238.278919 411.818417 223.512668 \nL 295.2 197.01 \nL 414.792 197.01 \nz\n\" style=\"fill: #1f77b4; stroke: #ffffff; stroke-width: 0.3; stroke-linejoin: miter\"/>\n   </g>\n   <g id=\"patch_3\">\n    <path d=\"M 411.818417 223.512668 \nC 412.525394 220.401787 413.107612 217.263864 413.563671 214.106428 \nC 414.019731 210.948992 414.349267 207.774571 414.55149 204.590784 \nL 295.2 197.01 \nL 411.818417 223.512668 \nz\n\" style=\"fill: #ff7f0e; stroke: #ffffff; stroke-width: 0.3; stroke-linejoin: miter\"/>\n   </g>\n   <g id=\"patch_4\">\n    <path d=\"M 414.55149 204.590784 \nC 414.592665 203.942532 414.628557 203.293956 414.659164 202.645119 \nC 414.689771 201.996282 414.715091 201.347207 414.735122 200.697958 \nL 295.2 197.01 \nL 414.55149 204.590784 \nz\n\" style=\"fill: #2ca02c; stroke: #ffffff; stroke-width: 0.3; stroke-linejoin: miter\"/>\n   </g>\n   <g id=\"patch_5\">\n    <path d=\"M 414.735122 200.697958 \nC 414.750324 200.205225 414.762479 199.712403 414.771587 199.21952 \nC 414.780695 198.726637 414.786755 198.233703 414.789767 197.740745 \nL 295.2 197.01 \nL 414.735122 200.697958 \nz\n\" style=\"fill: #d62728; stroke: #ffffff; stroke-width: 0.3; stroke-linejoin: miter\"/>\n   </g>\n   <g id=\"patch_6\">\n    <path d=\"M 414.789767 197.740745 \nC 414.790441 197.630554 414.790962 197.520363 414.79133 197.410171 \nC 414.791699 197.29998 414.791916 197.189788 414.79198 197.079595 \nL 295.2 197.01 \nL 414.789767 197.740745 \nz\n\" style=\"fill: #9467bd; stroke: #ffffff; stroke-width: 0.3; stroke-linejoin: miter\"/>\n   </g>\n   <g id=\"patch_7\">\n    <path d=\"M 414.79198 197.079595 \nC 414.791986 197.067996 414.791992 197.056397 414.791995 197.044798 \nC 414.791998 197.033199 414.792 197.021599 414.792 197.01 \nL 295.2 197.01 \nL 414.79198 197.079595 \nz\n\" style=\"fill: #8c564b; stroke: #ffffff; stroke-width: 0.3; stroke-linejoin: miter\"/>\n   </g>\n   <g id=\"text_1\">\n    <!-- 96.4%  (20826) -->\n    <g style=\"fill: #ffffff\" transform=\"translate(185.022701 191.768686)scale(0.1 -0.1)\">\n     <defs>\n      <path id=\"DejaVuSans-39\" d=\"M 703 97 \nL 703 672 \nQ 941 559 1184 500 \nQ 1428 441 1663 441 \nQ 2288 441 2617 861 \nQ 2947 1281 2994 2138 \nQ 2813 1869 2534 1725 \nQ 2256 1581 1919 1581 \nQ 1219 1581 811 2004 \nQ 403 2428 403 3163 \nQ 403 3881 828 4315 \nQ 1253 4750 1959 4750 \nQ 2769 4750 3195 4129 \nQ 3622 3509 3622 2328 \nQ 3622 1225 3098 567 \nQ 2575 -91 1691 -91 \nQ 1453 -91 1209 -44 \nQ 966 3 703 97 \nz\nM 1959 2075 \nQ 2384 2075 2632 2365 \nQ 2881 2656 2881 3163 \nQ 2881 3666 2632 3958 \nQ 2384 4250 1959 4250 \nQ 1534 4250 1286 3958 \nQ 1038 3666 1038 3163 \nQ 1038 2656 1286 2365 \nQ 1534 2075 1959 2075 \nz\n\" transform=\"scale(0.015625)\"/>\n      <path id=\"DejaVuSans-36\" d=\"M 2113 2584 \nQ 1688 2584 1439 2293 \nQ 1191 2003 1191 1497 \nQ 1191 994 1439 701 \nQ 1688 409 2113 409 \nQ 2538 409 2786 701 \nQ 3034 994 3034 1497 \nQ 3034 2003 2786 2293 \nQ 2538 2584 2113 2584 \nz\nM 3366 4563 \nL 3366 3988 \nQ 3128 4100 2886 4159 \nQ 2644 4219 2406 4219 \nQ 1781 4219 1451 3797 \nQ 1122 3375 1075 2522 \nQ 1259 2794 1537 2939 \nQ 1816 3084 2150 3084 \nQ 2853 3084 3261 2657 \nQ 3669 2231 3669 1497 \nQ 3669 778 3244 343 \nQ 2819 -91 2113 -91 \nQ 1303 -91 875 529 \nQ 447 1150 447 2328 \nQ 447 3434 972 4092 \nQ 1497 4750 2381 4750 \nQ 2619 4750 2861 4703 \nQ 3103 4656 3366 4563 \nz\n\" transform=\"scale(0.015625)\"/>\n      <path id=\"DejaVuSans-2e\" d=\"M 684 794 \nL 1344 794 \nL 1344 0 \nL 684 0 \nL 684 794 \nz\n\" transform=\"scale(0.015625)\"/>\n      <path id=\"DejaVuSans-34\" d=\"M 2419 4116 \nL 825 1625 \nL 2419 1625 \nL 2419 4116 \nz\nM 2253 4666 \nL 3047 4666 \nL 3047 1625 \nL 3713 1625 \nL 3713 1100 \nL 3047 1100 \nL 3047 0 \nL 2419 0 \nL 2419 1100 \nL 313 1100 \nL 313 1709 \nL 2253 4666 \nz\n\" transform=\"scale(0.015625)\"/>\n      <path id=\"DejaVuSans-25\" d=\"M 4653 2053 \nQ 4381 2053 4226 1822 \nQ 4072 1591 4072 1178 \nQ 4072 772 4226 539 \nQ 4381 306 4653 306 \nQ 4919 306 5073 539 \nQ 5228 772 5228 1178 \nQ 5228 1588 5073 1820 \nQ 4919 2053 4653 2053 \nz\nM 4653 2450 \nQ 5147 2450 5437 2106 \nQ 5728 1763 5728 1178 \nQ 5728 594 5436 251 \nQ 5144 -91 4653 -91 \nQ 4153 -91 3862 251 \nQ 3572 594 3572 1178 \nQ 3572 1766 3864 2108 \nQ 4156 2450 4653 2450 \nz\nM 1428 4353 \nQ 1159 4353 1004 4120 \nQ 850 3888 850 3481 \nQ 850 3069 1003 2837 \nQ 1156 2606 1428 2606 \nQ 1700 2606 1854 2837 \nQ 2009 3069 2009 3481 \nQ 2009 3884 1853 4118 \nQ 1697 4353 1428 4353 \nz\nM 4250 4750 \nL 4750 4750 \nL 1831 -91 \nL 1331 -91 \nL 4250 4750 \nz\nM 1428 4750 \nQ 1922 4750 2215 4408 \nQ 2509 4066 2509 3481 \nQ 2509 2891 2217 2550 \nQ 1925 2209 1428 2209 \nQ 931 2209 642 2551 \nQ 353 2894 353 3481 \nQ 353 4063 643 4406 \nQ 934 4750 1428 4750 \nz\n\" transform=\"scale(0.015625)\"/>\n      <path id=\"DejaVuSans-20\" transform=\"scale(0.015625)\"/>\n      <path id=\"DejaVuSans-28\" d=\"M 1984 4856 \nQ 1566 4138 1362 3434 \nQ 1159 2731 1159 2009 \nQ 1159 1288 1364 580 \nQ 1569 -128 1984 -844 \nL 1484 -844 \nQ 1016 -109 783 600 \nQ 550 1309 550 2009 \nQ 550 2706 781 3412 \nQ 1013 4119 1484 4856 \nL 1984 4856 \nz\n\" transform=\"scale(0.015625)\"/>\n      <path id=\"DejaVuSans-32\" d=\"M 1228 531 \nL 3431 531 \nL 3431 0 \nL 469 0 \nL 469 531 \nQ 828 903 1448 1529 \nQ 2069 2156 2228 2338 \nQ 2531 2678 2651 2914 \nQ 2772 3150 2772 3378 \nQ 2772 3750 2511 3984 \nQ 2250 4219 1831 4219 \nQ 1534 4219 1204 4116 \nQ 875 4013 500 3803 \nL 500 4441 \nQ 881 4594 1212 4672 \nQ 1544 4750 1819 4750 \nQ 2544 4750 2975 4387 \nQ 3406 4025 3406 3419 \nQ 3406 3131 3298 2873 \nQ 3191 2616 2906 2266 \nQ 2828 2175 2409 1742 \nQ 1991 1309 1228 531 \nz\n\" transform=\"scale(0.015625)\"/>\n      <path id=\"DejaVuSans-30\" d=\"M 2034 4250 \nQ 1547 4250 1301 3770 \nQ 1056 3291 1056 2328 \nQ 1056 1369 1301 889 \nQ 1547 409 2034 409 \nQ 2525 409 2770 889 \nQ 3016 1369 3016 2328 \nQ 3016 3291 2770 3770 \nQ 2525 4250 2034 4250 \nz\nM 2034 4750 \nQ 2819 4750 3233 4129 \nQ 3647 3509 3647 2328 \nQ 3647 1150 3233 529 \nQ 2819 -91 2034 -91 \nQ 1250 -91 836 529 \nQ 422 1150 422 2328 \nQ 422 3509 836 4129 \nQ 1250 4750 2034 4750 \nz\n\" transform=\"scale(0.015625)\"/>\n      <path id=\"DejaVuSans-38\" d=\"M 2034 2216 \nQ 1584 2216 1326 1975 \nQ 1069 1734 1069 1313 \nQ 1069 891 1326 650 \nQ 1584 409 2034 409 \nQ 2484 409 2743 651 \nQ 3003 894 3003 1313 \nQ 3003 1734 2745 1975 \nQ 2488 2216 2034 2216 \nz\nM 1403 2484 \nQ 997 2584 770 2862 \nQ 544 3141 544 3541 \nQ 544 4100 942 4425 \nQ 1341 4750 2034 4750 \nQ 2731 4750 3128 4425 \nQ 3525 4100 3525 3541 \nQ 3525 3141 3298 2862 \nQ 3072 2584 2669 2484 \nQ 3125 2378 3379 2068 \nQ 3634 1759 3634 1313 \nQ 3634 634 3220 271 \nQ 2806 -91 2034 -91 \nQ 1263 -91 848 271 \nQ 434 634 434 1313 \nQ 434 1759 690 2068 \nQ 947 2378 1403 2484 \nz\nM 1172 3481 \nQ 1172 3119 1398 2916 \nQ 1625 2713 2034 2713 \nQ 2441 2713 2670 2916 \nQ 2900 3119 2900 3481 \nQ 2900 3844 2670 4047 \nQ 2441 4250 2034 4250 \nQ 1625 4250 1398 4047 \nQ 1172 3844 1172 3481 \nz\n\" transform=\"scale(0.015625)\"/>\n      <path id=\"DejaVuSans-29\" d=\"M 513 4856 \nL 1013 4856 \nQ 1481 4119 1714 3412 \nQ 1947 2706 1947 2009 \nQ 1947 1309 1714 600 \nQ 1481 -109 1013 -844 \nL 513 -844 \nQ 928 -128 1133 580 \nQ 1338 1288 1338 2009 \nQ 1338 2731 1133 3434 \nQ 928 4138 513 4856 \nz\n\" transform=\"scale(0.015625)\"/>\n     </defs>\n     <use xlink:href=\"#DejaVuSans-39\"/>\n     <use xlink:href=\"#DejaVuSans-36\" x=\"63.623047\"/>\n     <use xlink:href=\"#DejaVuSans-2e\" x=\"127.246094\"/>\n     <use xlink:href=\"#DejaVuSans-34\" x=\"159.033203\"/>\n     <use xlink:href=\"#DejaVuSans-25\" x=\"222.65625\"/>\n     <use xlink:href=\"#DejaVuSans-20\" x=\"317.675781\"/>\n     <use xlink:href=\"#DejaVuSans-20\" x=\"349.462891\"/>\n     <use xlink:href=\"#DejaVuSans-28\" x=\"381.25\"/>\n     <use xlink:href=\"#DejaVuSans-32\" x=\"420.263672\"/>\n     <use xlink:href=\"#DejaVuSans-30\" x=\"483.886719\"/>\n     <use xlink:href=\"#DejaVuSans-38\" x=\"547.509766\"/>\n     <use xlink:href=\"#DejaVuSans-32\" x=\"611.132812\"/>\n     <use xlink:href=\"#DejaVuSans-36\" x=\"674.755859\"/>\n     <use xlink:href=\"#DejaVuSans-29\" x=\"738.378906\"/>\n    </g>\n   </g>\n   <g id=\"text_2\">\n    <!-- 2.5%  (550) -->\n    <g style=\"fill: #ffffff\" transform=\"translate(336.892421 210.027232)scale(0.1 -0.1)\">\n     <defs>\n      <path id=\"DejaVuSans-35\" d=\"M 691 4666 \nL 3169 4666 \nL 3169 4134 \nL 1269 4134 \nL 1269 2991 \nQ 1406 3038 1543 3061 \nQ 1681 3084 1819 3084 \nQ 2600 3084 3056 2656 \nQ 3513 2228 3513 1497 \nQ 3513 744 3044 326 \nQ 2575 -91 1722 -91 \nQ 1428 -91 1123 -41 \nQ 819 9 494 109 \nL 494 744 \nQ 775 591 1075 516 \nQ 1375 441 1709 441 \nQ 2250 441 2565 725 \nQ 2881 1009 2881 1497 \nQ 2881 1984 2565 2268 \nQ 2250 2553 1709 2553 \nQ 1456 2553 1204 2497 \nQ 953 2441 691 2322 \nL 691 4666 \nz\n\" transform=\"scale(0.015625)\"/>\n     </defs>\n     <use xlink:href=\"#DejaVuSans-32\"/>\n     <use xlink:href=\"#DejaVuSans-2e\" x=\"63.623047\"/>\n     <use xlink:href=\"#DejaVuSans-35\" x=\"95.410156\"/>\n     <use xlink:href=\"#DejaVuSans-25\" x=\"159.033203\"/>\n     <use xlink:href=\"#DejaVuSans-20\" x=\"254.052734\"/>\n     <use xlink:href=\"#DejaVuSans-20\" x=\"285.839844\"/>\n     <use xlink:href=\"#DejaVuSans-28\" x=\"317.626953\"/>\n     <use xlink:href=\"#DejaVuSans-35\" x=\"356.640625\"/>\n     <use xlink:href=\"#DejaVuSans-35\" x=\"420.263672\"/>\n     <use xlink:href=\"#DejaVuSans-30\" x=\"483.886719\"/>\n     <use xlink:href=\"#DejaVuSans-29\" x=\"547.509766\"/>\n    </g>\n   </g>\n   <g id=\"text_3\">\n    <!-- 0.5%  (112) -->\n    <g style=\"fill: #ffffff\" transform=\"translate(337.549717 203.150446)scale(0.1 -0.1)\">\n     <defs>\n      <path id=\"DejaVuSans-31\" d=\"M 794 531 \nL 1825 531 \nL 1825 4091 \nL 703 3866 \nL 703 4441 \nL 1819 4666 \nL 2450 4666 \nL 2450 531 \nL 3481 531 \nL 3481 0 \nL 794 0 \nL 794 531 \nz\n\" transform=\"scale(0.015625)\"/>\n     </defs>\n     <use xlink:href=\"#DejaVuSans-30\"/>\n     <use xlink:href=\"#DejaVuSans-2e\" x=\"63.623047\"/>\n     <use xlink:href=\"#DejaVuSans-35\" x=\"95.410156\"/>\n     <use xlink:href=\"#DejaVuSans-25\" x=\"159.033203\"/>\n     <use xlink:href=\"#DejaVuSans-20\" x=\"254.052734\"/>\n     <use xlink:href=\"#DejaVuSans-20\" x=\"285.839844\"/>\n     <use xlink:href=\"#DejaVuSans-28\" x=\"317.626953\"/>\n     <use xlink:href=\"#DejaVuSans-31\" x=\"356.640625\"/>\n     <use xlink:href=\"#DejaVuSans-31\" x=\"420.263672\"/>\n     <use xlink:href=\"#DejaVuSans-32\" x=\"483.886719\"/>\n     <use xlink:href=\"#DejaVuSans-29\" x=\"547.509766\"/>\n    </g>\n   </g>\n   <g id=\"text_4\">\n    <!-- 0.4%  (85) -->\n    <g style=\"fill: #ffffff\" transform=\"translate(340.798421 201.095087)scale(0.1 -0.1)\">\n     <use xlink:href=\"#DejaVuSans-30\"/>\n     <use xlink:href=\"#DejaVuSans-2e\" x=\"63.623047\"/>\n     <use xlink:href=\"#DejaVuSans-34\" x=\"95.410156\"/>\n     <use xlink:href=\"#DejaVuSans-25\" x=\"159.033203\"/>\n     <use xlink:href=\"#DejaVuSans-20\" x=\"254.052734\"/>\n     <use xlink:href=\"#DejaVuSans-20\" x=\"285.839844\"/>\n     <use xlink:href=\"#DejaVuSans-28\" x=\"317.626953\"/>\n     <use xlink:href=\"#DejaVuSans-38\" x=\"356.640625\"/>\n     <use xlink:href=\"#DejaVuSans-35\" x=\"420.263672\"/>\n     <use xlink:href=\"#DejaVuSans-29\" x=\"483.886719\"/>\n    </g>\n   </g>\n   <g id=\"text_5\">\n    <!-- 0.1%  (19) -->\n    <g style=\"fill: #ffffff\" transform=\"translate(340.810267 200.009478)scale(0.1 -0.1)\">\n     <use xlink:href=\"#DejaVuSans-30\"/>\n     <use xlink:href=\"#DejaVuSans-2e\" x=\"63.623047\"/>\n     <use xlink:href=\"#DejaVuSans-31\" x=\"95.410156\"/>\n     <use xlink:href=\"#DejaVuSans-25\" x=\"159.033203\"/>\n     <use xlink:href=\"#DejaVuSans-20\" x=\"254.052734\"/>\n     <use xlink:href=\"#DejaVuSans-20\" x=\"285.839844\"/>\n     <use xlink:href=\"#DejaVuSans-28\" x=\"317.626953\"/>\n     <use xlink:href=\"#DejaVuSans-31\" x=\"356.640625\"/>\n     <use xlink:href=\"#DejaVuSans-39\" x=\"420.263672\"/>\n     <use xlink:href=\"#DejaVuSans-29\" x=\"483.886719\"/>\n    </g>\n   </g>\n   <g id=\"text_6\">\n    <!-- 0.0%  (2) -->\n    <g style=\"fill: #ffffff\" transform=\"translate(343.991916 199.790254)scale(0.1 -0.1)\">\n     <use xlink:href=\"#DejaVuSans-30\"/>\n     <use xlink:href=\"#DejaVuSans-2e\" x=\"63.623047\"/>\n     <use xlink:href=\"#DejaVuSans-30\" x=\"95.410156\"/>\n     <use xlink:href=\"#DejaVuSans-25\" x=\"159.033203\"/>\n     <use xlink:href=\"#DejaVuSans-20\" x=\"254.052734\"/>\n     <use xlink:href=\"#DejaVuSans-20\" x=\"285.839844\"/>\n     <use xlink:href=\"#DejaVuSans-28\" x=\"317.626953\"/>\n     <use xlink:href=\"#DejaVuSans-32\" x=\"356.640625\"/>\n     <use xlink:href=\"#DejaVuSans-29\" x=\"420.263672\"/>\n    </g>\n   </g>\n   <g id=\"legend_1\">\n    <g id=\"patch_8\">\n     <path d=\"M 328.34625 143.58875 \nL 437.69 143.58875 \nQ 439.69 143.58875 439.69 141.58875 \nL 439.69 54.52 \nQ 439.69 52.52 437.69 52.52 \nL 328.34625 52.52 \nQ 326.34625 52.52 326.34625 54.52 \nL 326.34625 141.58875 \nQ 326.34625 143.58875 328.34625 143.58875 \nz\n\" style=\"fill: #ffffff; opacity: 0.8; stroke: #cccccc; stroke-width: 0.3; stroke-linejoin: miter\"/>\n    </g>\n    <g id=\"patch_9\">\n     <path d=\"M 330.34625 64.118437 \nL 350.34625 64.118437 \nL 350.34625 57.118437 \nL 330.34625 57.118437 \nz\n\" style=\"fill: #1f77b4; stroke: #ffffff; stroke-width: 0.3; stroke-linejoin: miter\"/>\n    </g>\n    <g id=\"text_7\">\n     <!-- Obligated -->\n     <g style=\"fill: #262626\" transform=\"translate(358.34625 64.118437)scale(0.1 -0.1)\">\n      <defs>\n       <path id=\"DejaVuSans-4f\" d=\"M 2522 4238 \nQ 1834 4238 1429 3725 \nQ 1025 3213 1025 2328 \nQ 1025 1447 1429 934 \nQ 1834 422 2522 422 \nQ 3209 422 3611 934 \nQ 4013 1447 4013 2328 \nQ 4013 3213 3611 3725 \nQ 3209 4238 2522 4238 \nz\nM 2522 4750 \nQ 3503 4750 4090 4092 \nQ 4678 3434 4678 2328 \nQ 4678 1225 4090 567 \nQ 3503 -91 2522 -91 \nQ 1538 -91 948 565 \nQ 359 1222 359 2328 \nQ 359 3434 948 4092 \nQ 1538 4750 2522 4750 \nz\n\" transform=\"scale(0.015625)\"/>\n       <path id=\"DejaVuSans-62\" d=\"M 3116 1747 \nQ 3116 2381 2855 2742 \nQ 2594 3103 2138 3103 \nQ 1681 3103 1420 2742 \nQ 1159 2381 1159 1747 \nQ 1159 1113 1420 752 \nQ 1681 391 2138 391 \nQ 2594 391 2855 752 \nQ 3116 1113 3116 1747 \nz\nM 1159 2969 \nQ 1341 3281 1617 3432 \nQ 1894 3584 2278 3584 \nQ 2916 3584 3314 3078 \nQ 3713 2572 3713 1747 \nQ 3713 922 3314 415 \nQ 2916 -91 2278 -91 \nQ 1894 -91 1617 61 \nQ 1341 213 1159 525 \nL 1159 0 \nL 581 0 \nL 581 4863 \nL 1159 4863 \nL 1159 2969 \nz\n\" transform=\"scale(0.015625)\"/>\n       <path id=\"DejaVuSans-6c\" d=\"M 603 4863 \nL 1178 4863 \nL 1178 0 \nL 603 0 \nL 603 4863 \nz\n\" transform=\"scale(0.015625)\"/>\n       <path id=\"DejaVuSans-69\" d=\"M 603 3500 \nL 1178 3500 \nL 1178 0 \nL 603 0 \nL 603 3500 \nz\nM 603 4863 \nL 1178 4863 \nL 1178 4134 \nL 603 4134 \nL 603 4863 \nz\n\" transform=\"scale(0.015625)\"/>\n       <path id=\"DejaVuSans-67\" d=\"M 2906 1791 \nQ 2906 2416 2648 2759 \nQ 2391 3103 1925 3103 \nQ 1463 3103 1205 2759 \nQ 947 2416 947 1791 \nQ 947 1169 1205 825 \nQ 1463 481 1925 481 \nQ 2391 481 2648 825 \nQ 2906 1169 2906 1791 \nz\nM 3481 434 \nQ 3481 -459 3084 -895 \nQ 2688 -1331 1869 -1331 \nQ 1566 -1331 1297 -1286 \nQ 1028 -1241 775 -1147 \nL 775 -588 \nQ 1028 -725 1275 -790 \nQ 1522 -856 1778 -856 \nQ 2344 -856 2625 -561 \nQ 2906 -266 2906 331 \nL 2906 616 \nQ 2728 306 2450 153 \nQ 2172 0 1784 0 \nQ 1141 0 747 490 \nQ 353 981 353 1791 \nQ 353 2603 747 3093 \nQ 1141 3584 1784 3584 \nQ 2172 3584 2450 3431 \nQ 2728 3278 2906 2969 \nL 2906 3500 \nL 3481 3500 \nL 3481 434 \nz\n\" transform=\"scale(0.015625)\"/>\n       <path id=\"DejaVuSans-61\" d=\"M 2194 1759 \nQ 1497 1759 1228 1600 \nQ 959 1441 959 1056 \nQ 959 750 1161 570 \nQ 1363 391 1709 391 \nQ 2188 391 2477 730 \nQ 2766 1069 2766 1631 \nL 2766 1759 \nL 2194 1759 \nz\nM 3341 1997 \nL 3341 0 \nL 2766 0 \nL 2766 531 \nQ 2569 213 2275 61 \nQ 1981 -91 1556 -91 \nQ 1019 -91 701 211 \nQ 384 513 384 1019 \nQ 384 1609 779 1909 \nQ 1175 2209 1959 2209 \nL 2766 2209 \nL 2766 2266 \nQ 2766 2663 2505 2880 \nQ 2244 3097 1772 3097 \nQ 1472 3097 1187 3025 \nQ 903 2953 641 2809 \nL 641 3341 \nQ 956 3463 1253 3523 \nQ 1550 3584 1831 3584 \nQ 2591 3584 2966 3190 \nQ 3341 2797 3341 1997 \nz\n\" transform=\"scale(0.015625)\"/>\n       <path id=\"DejaVuSans-74\" d=\"M 1172 4494 \nL 1172 3500 \nL 2356 3500 \nL 2356 3053 \nL 1172 3053 \nL 1172 1153 \nQ 1172 725 1289 603 \nQ 1406 481 1766 481 \nL 2356 481 \nL 2356 0 \nL 1766 0 \nQ 1100 0 847 248 \nQ 594 497 594 1153 \nL 594 3053 \nL 172 3053 \nL 172 3500 \nL 594 3500 \nL 594 4494 \nL 1172 4494 \nz\n\" transform=\"scale(0.015625)\"/>\n       <path id=\"DejaVuSans-65\" d=\"M 3597 1894 \nL 3597 1613 \nL 953 1613 \nQ 991 1019 1311 708 \nQ 1631 397 2203 397 \nQ 2534 397 2845 478 \nQ 3156 559 3463 722 \nL 3463 178 \nQ 3153 47 2828 -22 \nQ 2503 -91 2169 -91 \nQ 1331 -91 842 396 \nQ 353 884 353 1716 \nQ 353 2575 817 3079 \nQ 1281 3584 2069 3584 \nQ 2775 3584 3186 3129 \nQ 3597 2675 3597 1894 \nz\nM 3022 2063 \nQ 3016 2534 2758 2815 \nQ 2500 3097 2075 3097 \nQ 1594 3097 1305 2825 \nQ 1016 2553 972 2059 \nL 3022 2063 \nz\n\" transform=\"scale(0.015625)\"/>\n       <path id=\"DejaVuSans-64\" d=\"M 2906 2969 \nL 2906 4863 \nL 3481 4863 \nL 3481 0 \nL 2906 0 \nL 2906 525 \nQ 2725 213 2448 61 \nQ 2172 -91 1784 -91 \nQ 1150 -91 751 415 \nQ 353 922 353 1747 \nQ 353 2572 751 3078 \nQ 1150 3584 1784 3584 \nQ 2172 3584 2448 3432 \nQ 2725 3281 2906 2969 \nz\nM 947 1747 \nQ 947 1113 1208 752 \nQ 1469 391 1925 391 \nQ 2381 391 2643 752 \nQ 2906 1113 2906 1747 \nQ 2906 2381 2643 2742 \nQ 2381 3103 1925 3103 \nQ 1469 3103 1208 2742 \nQ 947 2381 947 1747 \nz\n\" transform=\"scale(0.015625)\"/>\n      </defs>\n      <use xlink:href=\"#DejaVuSans-4f\"/>\n      <use xlink:href=\"#DejaVuSans-62\" x=\"78.710938\"/>\n      <use xlink:href=\"#DejaVuSans-6c\" x=\"142.1875\"/>\n      <use xlink:href=\"#DejaVuSans-69\" x=\"169.970703\"/>\n      <use xlink:href=\"#DejaVuSans-67\" x=\"197.753906\"/>\n      <use xlink:href=\"#DejaVuSans-61\" x=\"261.230469\"/>\n      <use xlink:href=\"#DejaVuSans-74\" x=\"322.509766\"/>\n      <use xlink:href=\"#DejaVuSans-65\" x=\"361.71875\"/>\n      <use xlink:href=\"#DejaVuSans-64\" x=\"423.242188\"/>\n     </g>\n    </g>\n    <g id=\"patch_10\">\n     <path d=\"M 330.34625 78.796562 \nL 350.34625 78.796562 \nL 350.34625 71.796562 \nL 330.34625 71.796562 \nz\n\" style=\"fill: #ff7f0e; stroke: #ffffff; stroke-width: 0.3; stroke-linejoin: miter\"/>\n    </g>\n    <g id=\"text_8\">\n     <!-- FTA Transferred -->\n     <g style=\"fill: #262626\" transform=\"translate(358.34625 78.796562)scale(0.1 -0.1)\">\n      <defs>\n       <path id=\"DejaVuSans-46\" d=\"M 628 4666 \nL 3309 4666 \nL 3309 4134 \nL 1259 4134 \nL 1259 2759 \nL 3109 2759 \nL 3109 2228 \nL 1259 2228 \nL 1259 0 \nL 628 0 \nL 628 4666 \nz\n\" transform=\"scale(0.015625)\"/>\n       <path id=\"DejaVuSans-54\" d=\"M -19 4666 \nL 3928 4666 \nL 3928 4134 \nL 2272 4134 \nL 2272 0 \nL 1638 0 \nL 1638 4134 \nL -19 4134 \nL -19 4666 \nz\n\" transform=\"scale(0.015625)\"/>\n       <path id=\"DejaVuSans-41\" d=\"M 2188 4044 \nL 1331 1722 \nL 3047 1722 \nL 2188 4044 \nz\nM 1831 4666 \nL 2547 4666 \nL 4325 0 \nL 3669 0 \nL 3244 1197 \nL 1141 1197 \nL 716 0 \nL 50 0 \nL 1831 4666 \nz\n\" transform=\"scale(0.015625)\"/>\n       <path id=\"DejaVuSans-72\" d=\"M 2631 2963 \nQ 2534 3019 2420 3045 \nQ 2306 3072 2169 3072 \nQ 1681 3072 1420 2755 \nQ 1159 2438 1159 1844 \nL 1159 0 \nL 581 0 \nL 581 3500 \nL 1159 3500 \nL 1159 2956 \nQ 1341 3275 1631 3429 \nQ 1922 3584 2338 3584 \nQ 2397 3584 2469 3576 \nQ 2541 3569 2628 3553 \nL 2631 2963 \nz\n\" transform=\"scale(0.015625)\"/>\n       <path id=\"DejaVuSans-6e\" d=\"M 3513 2113 \nL 3513 0 \nL 2938 0 \nL 2938 2094 \nQ 2938 2591 2744 2837 \nQ 2550 3084 2163 3084 \nQ 1697 3084 1428 2787 \nQ 1159 2491 1159 1978 \nL 1159 0 \nL 581 0 \nL 581 3500 \nL 1159 3500 \nL 1159 2956 \nQ 1366 3272 1645 3428 \nQ 1925 3584 2291 3584 \nQ 2894 3584 3203 3211 \nQ 3513 2838 3513 2113 \nz\n\" transform=\"scale(0.015625)\"/>\n       <path id=\"DejaVuSans-73\" d=\"M 2834 3397 \nL 2834 2853 \nQ 2591 2978 2328 3040 \nQ 2066 3103 1784 3103 \nQ 1356 3103 1142 2972 \nQ 928 2841 928 2578 \nQ 928 2378 1081 2264 \nQ 1234 2150 1697 2047 \nL 1894 2003 \nQ 2506 1872 2764 1633 \nQ 3022 1394 3022 966 \nQ 3022 478 2636 193 \nQ 2250 -91 1575 -91 \nQ 1294 -91 989 -36 \nQ 684 19 347 128 \nL 347 722 \nQ 666 556 975 473 \nQ 1284 391 1588 391 \nQ 1994 391 2212 530 \nQ 2431 669 2431 922 \nQ 2431 1156 2273 1281 \nQ 2116 1406 1581 1522 \nL 1381 1569 \nQ 847 1681 609 1914 \nQ 372 2147 372 2553 \nQ 372 3047 722 3315 \nQ 1072 3584 1716 3584 \nQ 2034 3584 2315 3537 \nQ 2597 3491 2834 3397 \nz\n\" transform=\"scale(0.015625)\"/>\n       <path id=\"DejaVuSans-66\" d=\"M 2375 4863 \nL 2375 4384 \nL 1825 4384 \nQ 1516 4384 1395 4259 \nQ 1275 4134 1275 3809 \nL 1275 3500 \nL 2222 3500 \nL 2222 3053 \nL 1275 3053 \nL 1275 0 \nL 697 0 \nL 697 3053 \nL 147 3053 \nL 147 3500 \nL 697 3500 \nL 697 3744 \nQ 697 4328 969 4595 \nQ 1241 4863 1831 4863 \nL 2375 4863 \nz\n\" transform=\"scale(0.015625)\"/>\n      </defs>\n      <use xlink:href=\"#DejaVuSans-46\"/>\n      <use xlink:href=\"#DejaVuSans-54\" x=\"55.769531\"/>\n      <use xlink:href=\"#DejaVuSans-41\" x=\"109.103516\"/>\n      <use xlink:href=\"#DejaVuSans-20\" x=\"177.511719\"/>\n      <use xlink:href=\"#DejaVuSans-54\" x=\"209.298828\"/>\n      <use xlink:href=\"#DejaVuSans-72\" x=\"255.632812\"/>\n      <use xlink:href=\"#DejaVuSans-61\" x=\"296.746094\"/>\n      <use xlink:href=\"#DejaVuSans-6e\" x=\"358.025391\"/>\n      <use xlink:href=\"#DejaVuSans-73\" x=\"421.404297\"/>\n      <use xlink:href=\"#DejaVuSans-66\" x=\"473.503906\"/>\n      <use xlink:href=\"#DejaVuSans-65\" x=\"508.708984\"/>\n      <use xlink:href=\"#DejaVuSans-72\" x=\"570.232422\"/>\n      <use xlink:href=\"#DejaVuSans-72\" x=\"609.595703\"/>\n      <use xlink:href=\"#DejaVuSans-65\" x=\"648.458984\"/>\n      <use xlink:href=\"#DejaVuSans-64\" x=\"709.982422\"/>\n     </g>\n    </g>\n    <g id=\"patch_11\">\n     <path d=\"M 330.34625 93.474687 \nL 350.34625 93.474687 \nL 350.34625 86.474687 \nL 330.34625 86.474687 \nz\n\" style=\"fill: #2ca02c; stroke: #ffffff; stroke-width: 0.3; stroke-linejoin: miter\"/>\n    </g>\n    <g id=\"text_9\">\n     <!-- DISTRICT -->\n     <g style=\"fill: #262626\" transform=\"translate(358.34625 93.474687)scale(0.1 -0.1)\">\n      <defs>\n       <path id=\"DejaVuSans-44\" d=\"M 1259 4147 \nL 1259 519 \nL 2022 519 \nQ 2988 519 3436 956 \nQ 3884 1394 3884 2338 \nQ 3884 3275 3436 3711 \nQ 2988 4147 2022 4147 \nL 1259 4147 \nz\nM 628 4666 \nL 1925 4666 \nQ 3281 4666 3915 4102 \nQ 4550 3538 4550 2338 \nQ 4550 1131 3912 565 \nQ 3275 0 1925 0 \nL 628 0 \nL 628 4666 \nz\n\" transform=\"scale(0.015625)\"/>\n       <path id=\"DejaVuSans-49\" d=\"M 628 4666 \nL 1259 4666 \nL 1259 0 \nL 628 0 \nL 628 4666 \nz\n\" transform=\"scale(0.015625)\"/>\n       <path id=\"DejaVuSans-53\" d=\"M 3425 4513 \nL 3425 3897 \nQ 3066 4069 2747 4153 \nQ 2428 4238 2131 4238 \nQ 1616 4238 1336 4038 \nQ 1056 3838 1056 3469 \nQ 1056 3159 1242 3001 \nQ 1428 2844 1947 2747 \nL 2328 2669 \nQ 3034 2534 3370 2195 \nQ 3706 1856 3706 1288 \nQ 3706 609 3251 259 \nQ 2797 -91 1919 -91 \nQ 1588 -91 1214 -16 \nQ 841 59 441 206 \nL 441 856 \nQ 825 641 1194 531 \nQ 1563 422 1919 422 \nQ 2459 422 2753 634 \nQ 3047 847 3047 1241 \nQ 3047 1584 2836 1778 \nQ 2625 1972 2144 2069 \nL 1759 2144 \nQ 1053 2284 737 2584 \nQ 422 2884 422 3419 \nQ 422 4038 858 4394 \nQ 1294 4750 2059 4750 \nQ 2388 4750 2728 4690 \nQ 3069 4631 3425 4513 \nz\n\" transform=\"scale(0.015625)\"/>\n       <path id=\"DejaVuSans-52\" d=\"M 2841 2188 \nQ 3044 2119 3236 1894 \nQ 3428 1669 3622 1275 \nL 4263 0 \nL 3584 0 \nL 2988 1197 \nQ 2756 1666 2539 1819 \nQ 2322 1972 1947 1972 \nL 1259 1972 \nL 1259 0 \nL 628 0 \nL 628 4666 \nL 2053 4666 \nQ 2853 4666 3247 4331 \nQ 3641 3997 3641 3322 \nQ 3641 2881 3436 2590 \nQ 3231 2300 2841 2188 \nz\nM 1259 4147 \nL 1259 2491 \nL 2053 2491 \nQ 2509 2491 2742 2702 \nQ 2975 2913 2975 3322 \nQ 2975 3731 2742 3939 \nQ 2509 4147 2053 4147 \nL 1259 4147 \nz\n\" transform=\"scale(0.015625)\"/>\n       <path id=\"DejaVuSans-43\" d=\"M 4122 4306 \nL 4122 3641 \nQ 3803 3938 3442 4084 \nQ 3081 4231 2675 4231 \nQ 1875 4231 1450 3742 \nQ 1025 3253 1025 2328 \nQ 1025 1406 1450 917 \nQ 1875 428 2675 428 \nQ 3081 428 3442 575 \nQ 3803 722 4122 1019 \nL 4122 359 \nQ 3791 134 3420 21 \nQ 3050 -91 2638 -91 \nQ 1578 -91 968 557 \nQ 359 1206 359 2328 \nQ 359 3453 968 4101 \nQ 1578 4750 2638 4750 \nQ 3056 4750 3426 4639 \nQ 3797 4528 4122 4306 \nz\n\" transform=\"scale(0.015625)\"/>\n      </defs>\n      <use xlink:href=\"#DejaVuSans-44\"/>\n      <use xlink:href=\"#DejaVuSans-49\" x=\"77.001953\"/>\n      <use xlink:href=\"#DejaVuSans-53\" x=\"106.494141\"/>\n      <use xlink:href=\"#DejaVuSans-54\" x=\"169.970703\"/>\n      <use xlink:href=\"#DejaVuSans-52\" x=\"231.054688\"/>\n      <use xlink:href=\"#DejaVuSans-49\" x=\"300.537109\"/>\n      <use xlink:href=\"#DejaVuSans-43\" x=\"330.029297\"/>\n      <use xlink:href=\"#DejaVuSans-54\" x=\"399.853516\"/>\n     </g>\n    </g>\n    <g id=\"patch_12\">\n     <path d=\"M 330.34625 108.152812 \nL 350.34625 108.152812 \nL 350.34625 101.152812 \nL 330.34625 101.152812 \nz\n\" style=\"fill: #d62728; stroke: #ffffff; stroke-width: 0.3; stroke-linejoin: miter\"/>\n    </g>\n    <g id=\"text_10\">\n     <!-- HQ -->\n     <g style=\"fill: #262626\" transform=\"translate(358.34625 108.152812)scale(0.1 -0.1)\">\n      <defs>\n       <path id=\"DejaVuSans-48\" d=\"M 628 4666 \nL 1259 4666 \nL 1259 2753 \nL 3553 2753 \nL 3553 4666 \nL 4184 4666 \nL 4184 0 \nL 3553 0 \nL 3553 2222 \nL 1259 2222 \nL 1259 0 \nL 628 0 \nL 628 4666 \nz\n\" transform=\"scale(0.015625)\"/>\n       <path id=\"DejaVuSans-51\" d=\"M 2522 4238 \nQ 1834 4238 1429 3725 \nQ 1025 3213 1025 2328 \nQ 1025 1447 1429 934 \nQ 1834 422 2522 422 \nQ 3209 422 3611 934 \nQ 4013 1447 4013 2328 \nQ 4013 3213 3611 3725 \nQ 3209 4238 2522 4238 \nz\nM 3406 84 \nL 4238 -825 \nL 3475 -825 \nL 2784 -78 \nQ 2681 -84 2626 -87 \nQ 2572 -91 2522 -91 \nQ 1538 -91 948 567 \nQ 359 1225 359 2328 \nQ 359 3434 948 4092 \nQ 1538 4750 2522 4750 \nQ 3503 4750 4090 4092 \nQ 4678 3434 4678 2328 \nQ 4678 1516 4351 937 \nQ 4025 359 3406 84 \nz\n\" transform=\"scale(0.015625)\"/>\n      </defs>\n      <use xlink:href=\"#DejaVuSans-48\"/>\n      <use xlink:href=\"#DejaVuSans-51\" x=\"75.195312\"/>\n     </g>\n    </g>\n    <g id=\"patch_13\">\n     <path d=\"M 330.34625 122.830938 \nL 350.34625 122.830938 \nL 350.34625 115.830938 \nL 330.34625 115.830938 \nz\n\" style=\"fill: #9467bd; stroke: #ffffff; stroke-width: 0.3; stroke-linejoin: miter\"/>\n    </g>\n    <g id=\"text_11\">\n     <!-- FMIS -->\n     <g style=\"fill: #262626\" transform=\"translate(358.34625 122.830938)scale(0.1 -0.1)\">\n      <defs>\n       <path id=\"DejaVuSans-4d\" d=\"M 628 4666 \nL 1569 4666 \nL 2759 1491 \nL 3956 4666 \nL 4897 4666 \nL 4897 0 \nL 4281 0 \nL 4281 4097 \nL 3078 897 \nL 2444 897 \nL 1241 4097 \nL 1241 0 \nL 628 0 \nL 628 4666 \nz\n\" transform=\"scale(0.015625)\"/>\n      </defs>\n      <use xlink:href=\"#DejaVuSans-46\"/>\n      <use xlink:href=\"#DejaVuSans-4d\" x=\"57.519531\"/>\n      <use xlink:href=\"#DejaVuSans-49\" x=\"143.798828\"/>\n      <use xlink:href=\"#DejaVuSans-53\" x=\"173.291016\"/>\n     </g>\n    </g>\n    <g id=\"patch_14\">\n     <path d=\"M 330.34625 137.509062 \nL 350.34625 137.509062 \nL 350.34625 130.509062 \nL 330.34625 130.509062 \nz\n\" style=\"fill: #8c564b; stroke: #ffffff; stroke-width: 0.3; stroke-linejoin: miter\"/>\n    </g>\n    <g id=\"text_12\">\n     <!-- FHWA -->\n     <g style=\"fill: #262626\" transform=\"translate(358.34625 137.509062)scale(0.1 -0.1)\">\n      <defs>\n       <path id=\"DejaVuSans-57\" d=\"M 213 4666 \nL 850 4666 \nL 1831 722 \nL 2809 4666 \nL 3519 4666 \nL 4500 722 \nL 5478 4666 \nL 6119 4666 \nL 4947 0 \nL 4153 0 \nL 3169 4050 \nL 2175 0 \nL 1381 0 \nL 213 4666 \nz\n\" transform=\"scale(0.015625)\"/>\n      </defs>\n      <use xlink:href=\"#DejaVuSans-46\"/>\n      <use xlink:href=\"#DejaVuSans-48\" x=\"57.519531\"/>\n      <use xlink:href=\"#DejaVuSans-57\" x=\"132.714844\"/>\n      <use xlink:href=\"#DejaVuSans-41\" x=\"226.091797\"/>\n     </g>\n    </g>\n   </g>\n  </g>\n </g>\n</svg>\n"
      }
     },
     "7c67d132a81e4657b7b9dee6656df544": {
      "model_module": "@jupyter-widgets/controls",
      "model_module_version": "1.5.0",
      "model_name": "DescriptionStyleModel",
      "state": {
       "description_width": ""
      }
     },
     "7ca2f7a3e5544a38a9d11d3055012493": {
      "model_module": "@jupyter-widgets/base",
      "model_module_version": "1.2.0",
      "model_name": "LayoutModel",
      "state": {
       "grid_area": "widget008"
      }
     },
     "7cae1cd18e83479885099a2913b89ca5": {
      "model_module": "@jupyter-widgets/base",
      "model_module_version": "1.2.0",
      "model_name": "LayoutModel",
      "state": {
       "grid_area": "widget006"
      }
     },
     "7cc9894cad4742d7bcd8ab4bd776ff48": {
      "model_module": "@jupyter-widgets/controls",
      "model_module_version": "1.5.0",
      "model_name": "DescriptionStyleModel",
      "state": {
       "description_width": ""
      }
     },
     "7d07193786df414c8df72dd822913b53": {
      "model_module": "@jupyter-widgets/controls",
      "model_module_version": "1.5.0",
      "model_name": "ButtonModel",
      "state": {
       "button_style": "warning",
       "description": "Unsupported",
       "disabled": true,
       "layout": "IPY_MODEL_2ee2098a2f584a39ade777fea8913245",
       "style": "IPY_MODEL_532ca8c1ef2443a49791384e161f6987"
      }
     },
     "7d4f923f931a409b8eda095de0989647": {
      "model_module": "@jupyter-widgets/base",
      "model_module_version": "1.2.0",
      "model_name": "LayoutModel",
      "state": {}
     },
     "7d4fa8acf7e74aa2aa1034b82a85848e": {
      "model_module": "@jupyter-widgets/base",
      "model_module_version": "1.2.0",
      "model_name": "LayoutModel",
      "state": {
       "grid_template_areas": "\"widget001 widget002\"\n\"widget003 widget004\"\n\"widget005 widget006\"\n\"widget007 widget008\"",
       "grid_template_columns": "repeat(2, 1fr)",
       "grid_template_rows": "repeat(4, 1fr)"
      }
     },
     "7d513f0ccbac4ced92b6dcb82a170548": {
      "model_module": "@jupyter-widgets/controls",
      "model_module_version": "1.5.0",
      "model_name": "DescriptionStyleModel",
      "state": {
       "description_width": ""
      }
     },
     "7d55bfed477a4419bcebbc1acc3d34ba": {
      "model_module": "@jupyter-widgets/base",
      "model_module_version": "1.2.0",
      "model_name": "LayoutModel",
      "state": {
       "grid_area": "widget004"
      }
     },
     "7d65269d2e4b44d29b84c25b16628292": {
      "model_module": "@jupyter-widgets/controls",
      "model_module_version": "1.5.0",
      "model_name": "ProgressStyleModel",
      "state": {
       "description_width": ""
      }
     },
     "7d72c744c0034bf09c23997f5883e820": {
      "model_module": "@jupyter-widgets/controls",
      "model_module_version": "1.5.0",
      "model_name": "HTMLModel",
      "state": {
       "layout": "IPY_MODEL_01ad8e83b87e4e4f8d7a47eb177ff658",
       "style": "IPY_MODEL_20b66878598846138eb7d17cdd9c37f5",
       "value": "<a class=\"anchor\" href=\"#pp_var_-2583248843754977393\"><code>FHWA processing Days</code></a> has 1696 (7.9%) zeros"
      }
     },
     "7da8bf815e494ef8a37875ec6eca35c3": {
      "model_module": "@jupyter-widgets/controls",
      "model_module_version": "1.5.0",
      "model_name": "ButtonStyleModel",
      "state": {}
     },
     "7dae9ab5c2384fcb9dc5b6f5d986ef23": {
      "model_module": "@jupyter-widgets/controls",
      "model_module_version": "1.5.0",
      "model_name": "ButtonModel",
      "state": {
       "description": "High correlation",
       "disabled": true,
       "layout": "IPY_MODEL_6e53527b706a41babc74eab67ba56a50",
       "style": "IPY_MODEL_af61a7ea1a4c4aeca0c81255a48b7e4f"
      }
     },
     "7dbdc818525c40fcb7807c41ec7423e8": {
      "model_module": "@jupyter-widgets/controls",
      "model_module_version": "1.5.0",
      "model_name": "HBoxModel",
      "state": {
       "children": [
        "IPY_MODEL_aa993db7f29f4ca0826643a5d7ff1ff4",
        "IPY_MODEL_5a28d775ac844c06b74ede4bc55b5071"
       ],
       "layout": "IPY_MODEL_0e04413b07ce4b6a9ff7bc8ba66646a2"
      }
     },
     "7dc568ab5a294e29b17da08582b0f377": {
      "model_module": "@jupyter-widgets/base",
      "model_module_version": "1.2.0",
      "model_name": "LayoutModel",
      "state": {}
     },
     "7ddbb665b6ff4c22bdd264b242dcba85": {
      "model_module": "@jupyter-widgets/controls",
      "model_module_version": "1.5.0",
      "model_name": "HTMLModel",
      "state": {
       "layout": "IPY_MODEL_0a67e20185da4979a30d7566fd33a51f",
       "style": "IPY_MODEL_27068338cab749f6b56307c5468d9afe",
       "value": "Number of variables"
      }
     },
     "7de63a3452474fdd89886d93aae9eed1": {
      "model_module": "@jupyter-widgets/controls",
      "model_module_version": "1.5.0",
      "model_name": "HTMLModel",
      "state": {
       "layout": "IPY_MODEL_0f5a5aa1b87848a3aed7c4d928943051",
       "style": "IPY_MODEL_8f9202fcd5324b5d818f29734c86070a",
       "value": "<a class=\"anchor\" href=\"#pp_var_4970081654142015710\"><code>Date Request Initiated</code></a> is an unsupported type, check if it needs cleaning or further analysis"
      }
     },
     "7e2c7ab2f0364d65a2180114a0a97329": {
      "model_module": "@jupyter-widgets/controls",
      "model_module_version": "1.5.0",
      "model_name": "GridBoxModel",
      "state": {
       "children": [
        "IPY_MODEL_63beb847d79340899a0a6286f8f79006",
        "IPY_MODEL_945762b33eb149b195a0e25a7e9c432c",
        "IPY_MODEL_a31f02317e56402882eb7a9ea6e6b470",
        "IPY_MODEL_adb274774cec4d2f8dc08d11cec91570",
        "IPY_MODEL_fbea3bee606a4781a3913ca7e41f0137",
        "IPY_MODEL_9fb5286c494e4f34a131101e2ede3d8e",
        "IPY_MODEL_6e9188d2b58e46c1a0c3ccc908e7197b",
        "IPY_MODEL_c0808ba983eb41f480fb4294a130d87a",
        "IPY_MODEL_c41fd94e4a9944e8b53ee16267db9239",
        "IPY_MODEL_ed6300ce621b4e489f83c688d3f65270",
        "IPY_MODEL_0d644d5348374dbb922658a64f98ec33",
        "IPY_MODEL_2729156c0d6d4b0ab7f6a9bba2a3f553",
        "IPY_MODEL_1cfd975ad64f4d85a1de902b9723a704",
        "IPY_MODEL_d0b23dc8943d4e04bc631593a10aa557",
        "IPY_MODEL_86f4ace4ac0e4ec1b08d2e9b2edf7639",
        "IPY_MODEL_6bd0e86127514bdb960b964d17957332"
       ],
       "layout": "IPY_MODEL_89dd99885b00431590df61f8b6cd9337"
      }
     },
     "7e41e954f1c5426da71ca610bac2b797": {
      "model_module": "@jupyter-widgets/controls",
      "model_module_version": "1.5.0",
      "model_name": "DescriptionStyleModel",
      "state": {
       "description_width": ""
      }
     },
     "7e462a476a1d46d7a03f490bf166e0f9": {
      "model_module": "@jupyter-widgets/controls",
      "model_module_version": "1.5.0",
      "model_name": "ProgressStyleModel",
      "state": {
       "description_width": ""
      }
     },
     "7f0a35e786ea4fbabd8a22b68d71983d": {
      "model_module": "@jupyter-widgets/controls",
      "model_module_version": "1.5.0",
      "model_name": "DescriptionStyleModel",
      "state": {
       "description_width": ""
      }
     },
     "7f51fea6ea7344bf8de82e49b206b8ba": {
      "model_module": "@jupyter-widgets/base",
      "model_module_version": "1.2.0",
      "model_name": "LayoutModel",
      "state": {
       "grid_area": "widget015"
      }
     },
     "7fa63a64144248539ef831c660fd8a49": {
      "model_module": "@jupyter-widgets/controls",
      "model_module_version": "1.5.0",
      "model_name": "LabelModel",
      "state": {
       "layout": "IPY_MODEL_08e293dfe47045b99783c8ca5d2cf277",
       "style": "IPY_MODEL_fa26bcf68a304cacb3fb277ab0122dfc",
       "value": "20826"
      }
     },
     "7fc8b7579d604f77904fab69b9372b97": {
      "model_module": "@jupyter-widgets/controls",
      "model_module_version": "1.5.0",
      "model_name": "DescriptionStyleModel",
      "state": {
       "description_width": ""
      }
     },
     "7fdf256971e748ac971321be5c62f125": {
      "model_module": "@jupyter-widgets/controls",
      "model_module_version": "1.5.0",
      "model_name": "FloatProgressModel",
      "state": {
       "layout": "IPY_MODEL_6ba7a2b8123f4c50a7a5be9bcf140730",
       "max": 22144,
       "style": "IPY_MODEL_979ff44005f04d94860bd1c403687779",
       "value": 550
      }
     },
     "8053f00606764f2ca781e6001acfa0a9": {
      "model_module": "@jupyter-widgets/controls",
      "model_module_version": "1.5.0",
      "model_name": "LabelModel",
      "state": {
       "layout": "IPY_MODEL_f1c44dccdb3b4dec834b9266309d11b3",
       "style": "IPY_MODEL_aa672ecc9b9c43b8b95029ce9952a503",
       "value": "20826"
      }
     },
     "807d0a2f186543a69b251836fc641d3c": {
      "model_module": "@jupyter-widgets/controls",
      "model_module_version": "1.5.0",
      "model_name": "ButtonStyleModel",
      "state": {}
     },
     "80a88b73d7984f2ca97606a25e57eb9c": {
      "model_module": "@jupyter-widgets/base",
      "model_module_version": "1.2.0",
      "model_name": "LayoutModel",
      "state": {
       "grid_area": "widget007"
      }
     },
     "80e87f58fa794bc3b2afdf6b38edba14": {
      "model_module": "@jupyter-widgets/controls",
      "model_module_version": "1.5.0",
      "model_name": "ButtonModel",
      "state": {
       "button_style": "danger",
       "description": "High cardinality",
       "disabled": true,
       "layout": "IPY_MODEL_71b87744797d477fa0f857c63713950b",
       "style": "IPY_MODEL_bdb9ad1fd21f4a65ac35ca2f8db90326"
      }
     },
     "80ecb1d844c6406daf441d88aa08aaaf": {
      "model_module": "@jupyter-widgets/base",
      "model_module_version": "1.2.0",
      "model_name": "LayoutModel",
      "state": {}
     },
     "80fa609f7cc048fa8ea803751b7aea99": {
      "model_module": "@jupyter-widgets/controls",
      "model_module_version": "1.5.0",
      "model_name": "ButtonModel",
      "state": {
       "description": "High correlation",
       "disabled": true,
       "layout": "IPY_MODEL_5e0f24639aa649d387a5be6398f86bf7",
       "style": "IPY_MODEL_387384cbdca64f0fab23d72b8cc5fcf2"
      }
     },
     "81078ff8647c46d090fce3d4ff521221": {
      "model_module": "@jupyter-widgets/controls",
      "model_module_version": "1.5.0",
      "model_name": "LabelModel",
      "state": {
       "layout": "IPY_MODEL_c3e26f44039144af844a3616bd0e6ad4",
       "style": "IPY_MODEL_93d36d5c4ef34c428765c06ba1e47b91",
       "value": "112"
      }
     },
     "811b8bafc0f34725a91332e297c83e40": {
      "model_module": "@jupyter-widgets/controls",
      "model_module_version": "1.5.0",
      "model_name": "DescriptionStyleModel",
      "state": {
       "description_width": ""
      }
     },
     "8169021dda0a450eb754fd26db26676b": {
      "model_module": "@jupyter-widgets/base",
      "model_module_version": "1.2.0",
      "model_name": "LayoutModel",
      "state": {
       "grid_area": "widget008"
      }
     },
     "816e8acbdc1f4bd38370288209e56a19": {
      "model_module": "@jupyter-widgets/controls",
      "model_module_version": "1.5.0",
      "model_name": "DescriptionStyleModel",
      "state": {
       "description_width": ""
      }
     },
     "8183512e3dee4441a66796998876307a": {
      "model_module": "@jupyter-widgets/base",
      "model_module_version": "1.2.0",
      "model_name": "LayoutModel",
      "state": {}
     },
     "818410d1b9b144f7b1dc8b24d90fc610": {
      "model_module": "@jupyter-widgets/base",
      "model_module_version": "1.2.0",
      "model_name": "LayoutModel",
      "state": {}
     },
     "8188e7a162c446b4b20f67db3dfe7c86": {
      "model_module": "@jupyter-widgets/base",
      "model_module_version": "1.2.0",
      "model_name": "LayoutModel",
      "state": {
       "grid_area": "widget008"
      }
     },
     "81a8f799f93b49fc8e5440344f383df5": {
      "model_module": "@jupyter-widgets/controls",
      "model_module_version": "1.5.0",
      "model_name": "HTMLModel",
      "state": {
       "layout": "IPY_MODEL_53e5a51a0e9a4403a576f33131f3a68d",
       "style": "IPY_MODEL_577ff9c22367471d9a519e987eddf08a",
       "value": "Analysis finished"
      }
     },
     "81acbf72ad804d598b86b99a21d827ea": {
      "model_module": "@jupyter-widgets/controls",
      "model_module_version": "1.5.0",
      "model_name": "DescriptionStyleModel",
      "state": {
       "description_width": ""
      }
     },
     "81b4de61656e4f8c97b122c8977787ed": {
      "model_module": "@jupyter-widgets/controls",
      "model_module_version": "1.5.0",
      "model_name": "DescriptionStyleModel",
      "state": {
       "description_width": ""
      }
     },
     "81c013b4cd9e4bdbb537f1b54093a24d": {
      "model_module": "@jupyter-widgets/controls",
      "model_module_version": "1.5.0",
      "model_name": "HTMLModel",
      "state": {
       "layout": "IPY_MODEL_2ddfd045bf55467e885ebcb50348ee3b",
       "style": "IPY_MODEL_df1bbbe9246142ba80a4cd6510b5a689",
       "value": "Distinct (%)"
      }
     },
     "81fb7e916f444bcab98cc0e970f25b8c": {
      "model_module": "@jupyter-widgets/controls",
      "model_module_version": "1.5.0",
      "model_name": "DescriptionStyleModel",
      "state": {
       "description_width": ""
      }
     },
     "8202010d5e3f4d68ac562b2d8163c9b1": {
      "model_module": "@jupyter-widgets/controls",
      "model_module_version": "1.5.0",
      "model_name": "HTMLModel",
      "state": {
       "layout": "IPY_MODEL_364b8671c3654d4ab4de36cf1438038f",
       "style": "IPY_MODEL_cb8aa224981d4de4ad9ac92ff7195318",
       "value": "2"
      }
     },
     "823583d621e145b0a7b3221b8a8f5602": {
      "model_module": "@jupyter-widgets/controls",
      "model_module_version": "1.5.0",
      "model_name": "LabelModel",
      "state": {
       "layout": "IPY_MODEL_eed6ab6f4903450893d81878fa6598fb",
       "style": "IPY_MODEL_49a4cd7152b944178b246c99cd90daa3",
       "value": "FHWA"
      }
     },
     "824a53e9149843c1992c726aaf1cc493": {
      "model_module": "@jupyter-widgets/base",
      "model_module_version": "1.2.0",
      "model_name": "LayoutModel",
      "state": {
       "grid_area": "widget005"
      }
     },
     "8264c9b293c04bee80bc0a1aa7790ffb": {
      "model_module": "@jupyter-widgets/controls",
      "model_module_version": "1.5.0",
      "model_name": "HTMLModel",
      "state": {
       "layout": "IPY_MODEL_7448348605c44a4e8bf524de851047aa",
       "style": "IPY_MODEL_6f5c7dde5f0f4f4880b459f2293da253",
       "value": "Generate report structure: 100%"
      }
     },
     "8268554ee6474bd39a7901c0ba67ce5d": {
      "model_module": "@jupyter-widgets/controls",
      "model_module_version": "1.5.0",
      "model_name": "ButtonModel",
      "state": {
       "button_style": "warning",
       "description": "Unsupported",
       "disabled": true,
       "layout": "IPY_MODEL_c9d0af1904fd43378c3284a650cce34e",
       "style": "IPY_MODEL_646edf8f4b774a3e93c926560ef2dbe5"
      }
     },
     "827840c9123c4a38b5839ef271318632": {
      "model_module": "@jupyter-widgets/base",
      "model_module_version": "1.2.0",
      "model_name": "LayoutModel",
      "state": {}
     },
     "829602c6263c40d387e2f60fd40cd5c5": {
      "model_module": "@jupyter-widgets/controls",
      "model_module_version": "1.5.0",
      "model_name": "DescriptionStyleModel",
      "state": {
       "description_width": ""
      }
     },
     "829de64f88854d628c7327c4394350ed": {
      "model_module": "@jupyter-widgets/controls",
      "model_module_version": "1.5.0",
      "model_name": "HTMLModel",
      "state": {
       "layout": "IPY_MODEL_66d31236f86346df995c123620a7d749",
       "style": "IPY_MODEL_5271157ad5904c6783358ac6d73a9d6e",
       "value": "11"
      }
     },
     "82b070b3beca4a78bcb6efcbe9897087": {
      "model_module": "@jupyter-widgets/controls",
      "model_module_version": "1.5.0",
      "model_name": "HBoxModel",
      "state": {
       "children": [
        "IPY_MODEL_fd7ceb143199405db8cdc2b3ae3dd09d",
        "IPY_MODEL_d363328328f64f5d94387a9b687b80c1"
       ],
       "layout": "IPY_MODEL_5f8de1052ec34aaeb893dc7bdeec8d10"
      }
     },
     "82cdd0a6473b4bacb774304c5bc7df97": {
      "model_module": "@jupyter-widgets/base",
      "model_module_version": "1.2.0",
      "model_name": "LayoutModel",
      "state": {
       "grid_area": "widget008"
      }
     },
     "82f942e5396740a6b4c414e4a140fd90": {
      "model_module": "@jupyter-widgets/base",
      "model_module_version": "1.2.0",
      "model_name": "LayoutModel",
      "state": {}
     },
     "83238f29d2034330ad790313c4c9c1b4": {
      "model_module": "@jupyter-widgets/controls",
      "model_module_version": "1.5.0",
      "model_name": "HTMLModel",
      "state": {
       "layout": "IPY_MODEL_ea0e648d3d3c43c4899f88cad365a69e",
       "style": "IPY_MODEL_c3a6f5030d5143bc8e386f6233c25c12",
       "value": "<em>The Unicode Standard assigns character properties to each code point, which can be used to analyse textual variables. </em>"
      }
     },
     "832e6979a19940969b3afa5f8d5bcad2": {
      "model_module": "@jupyter-widgets/controls",
      "model_module_version": "1.5.0",
      "model_name": "HTMLModel",
      "state": {
       "layout": "IPY_MODEL_344ca02b53c6447e947e1b8d9bad18f0",
       "style": "IPY_MODEL_1b1a76f3244b4bb8ab7c4820eedcf4f7",
       "value": "0"
      }
     },
     "839cd564dbfa4fbf9584d20a9695e627": {
      "model_module": "@jupyter-widgets/controls",
      "model_module_version": "1.5.0",
      "model_name": "DescriptionStyleModel",
      "state": {
       "description_width": ""
      }
     },
     "847e43687ee94d62b6d8b47c41592cf5": {
      "model_module": "@jupyter-widgets/controls",
      "model_module_version": "1.5.0",
      "model_name": "ButtonModel",
      "state": {
       "button_style": "info",
       "description": "Missing",
       "disabled": true,
       "layout": "IPY_MODEL_dab3188754be4647b041f75b442bc1ad",
       "style": "IPY_MODEL_cec6fdda6af743b6be46535170133076"
      }
     },
     "8486e03051f84ecda11f028cff2d9c87": {
      "model_module": "@jupyter-widgets/base",
      "model_module_version": "1.2.0",
      "model_name": "LayoutModel",
      "state": {
       "grid_area": "widget017"
      }
     },
     "84a5f3d9a68441c0a5a820468e4c12c0": {
      "model_module": "@jupyter-widgets/controls",
      "model_module_version": "1.5.0",
      "model_name": "HTMLModel",
      "state": {
       "layout": "IPY_MODEL_4ffcc01de6234f8484752588e4fea03c",
       "style": "IPY_MODEL_42b3b71e15044f1eb7f14f7a9b335b87",
       "value": "<a class=\"anchor\" href=\"#pp_var_7942779095917163252\"><code>Agency</code></a> has a high cardinality: 716 distinct values"
      }
     },
     "84abc6009f1445fa877df90750c05175": {
      "model_module": "@jupyter-widgets/controls",
      "model_module_version": "1.5.0",
      "model_name": "ButtonModel",
      "state": {
       "button_style": "warning",
       "description": "Unsupported",
       "disabled": true,
       "layout": "IPY_MODEL_729d2ba2f8144a74b2dd2ff98ac14eca",
       "style": "IPY_MODEL_10e5966962924c3381aac8dafaab3fad"
      }
     },
     "84af9d335b6041618decac95d218e8e3": {
      "model_module": "@jupyter-widgets/base",
      "model_module_version": "1.2.0",
      "model_name": "LayoutModel",
      "state": {
       "grid_area": "widget009"
      }
     },
     "84fe9c96f60c4837867169dcfee2c960": {
      "model_module": "@jupyter-widgets/controls",
      "model_module_version": "1.5.0",
      "model_name": "ProgressStyleModel",
      "state": {
       "description_width": ""
      }
     },
     "858a3a8754454c0dad6d25b7ef0a3cca": {
      "model_module": "@jupyter-widgets/controls",
      "model_module_version": "1.5.0",
      "model_name": "DescriptionStyleModel",
      "state": {
       "description_width": ""
      }
     },
     "859ba426e80a4a6ebdb092e352e685a8": {
      "model_module": "@jupyter-widgets/base",
      "model_module_version": "1.2.0",
      "model_name": "LayoutModel",
      "state": {}
     },
     "85ab871906b046da8a8f8e6dc77f6c29": {
      "model_module": "@jupyter-widgets/controls",
      "model_module_version": "1.5.0",
      "model_name": "DescriptionStyleModel",
      "state": {
       "description_width": ""
      }
     },
     "85fa2e1161904550a5e57136c1cc5145": {
      "model_module": "@jupyter-widgets/controls",
      "model_module_version": "1.5.0",
      "model_name": "DescriptionStyleModel",
      "state": {
       "description_width": ""
      }
     },
     "85fb5be948684582b66119dc03c1e78d": {
      "model_module": "@jupyter-widgets/controls",
      "model_module_version": "1.5.0",
      "model_name": "HTMLModel",
      "state": {
       "layout": "IPY_MODEL_6bcb7daf95c246a39ec869ca3d71522c",
       "style": "IPY_MODEL_8f0bd9c2505a41aeb9aca826e6e0a7d4",
       "value": "0.0%"
      }
     },
     "861aec4cb448487888bb2c7b580ef7cf": {
      "model_module": "@jupyter-widgets/controls",
      "model_module_version": "1.5.0",
      "model_name": "FloatProgressModel",
      "state": {
       "layout": "IPY_MODEL_6549b9971db84c2daa09d5deb220d359",
       "max": 21594,
       "style": "IPY_MODEL_4b32c015ff3742fdbcc5ba3d651676ff",
       "value": 85
      }
     },
     "864503c3979e49c68fdc9b45e9466f35": {
      "model_module": "@jupyter-widgets/controls",
      "model_module_version": "1.5.0",
      "model_name": "ButtonModel",
      "state": {
       "button_style": "info",
       "description": "Zeros",
       "disabled": true,
       "layout": "IPY_MODEL_4e5f8ff8b483486cb5a9a0b751bc34ce",
       "style": "IPY_MODEL_6c1d183d8f7243728ccb5a0dad3fd017"
      }
     },
     "8654408c5caf4025b3f3a43c3654e25c": {
      "model_module": "@jupyter-widgets/controls",
      "model_module_version": "1.5.0",
      "model_name": "VBoxModel",
      "state": {
       "children": [
        "IPY_MODEL_90ea325ecb8b4c6792682049c2ecf04d"
       ],
       "layout": "IPY_MODEL_11a07d3c69a5481f81a8805ad64cfb82"
      }
     },
     "8663717049fb48b98ea6499a76cab215": {
      "model_module": "@jupyter-widgets/base",
      "model_module_version": "1.2.0",
      "model_name": "LayoutModel",
      "state": {}
     },
     "8675e6e131c04eaaa571201a9675798d": {
      "model_module": "@jupyter-widgets/controls",
      "model_module_version": "1.5.0",
      "model_name": "LabelModel",
      "state": {
       "layout": "IPY_MODEL_3013a4c876f4404793db5f42b20026c9",
       "style": "IPY_MODEL_730afd2daa2342b182d68bd27d28439a",
       "value": "transferred"
      }
     },
     "867d0553e6524090a9d02370d8daad64": {
      "model_module": "@jupyter-widgets/base",
      "model_module_version": "1.2.0",
      "model_name": "LayoutModel",
      "state": {}
     },
     "868368139f8843a3bab745ce9ebae6f1": {
      "model_module": "@jupyter-widgets/base",
      "model_module_version": "1.2.0",
      "model_name": "LayoutModel",
      "state": {
       "grid_area": "widget004"
      }
     },
     "86d0dd759bb343d6a99fb0deea31df5c": {
      "model_module": "@jupyter-widgets/base",
      "model_module_version": "1.2.0",
      "model_name": "LayoutModel",
      "state": {
       "grid_area": "widget009"
      }
     },
     "86f0f84dd47349eb974e7fb834188c88": {
      "model_module": "@jupyter-widgets/controls",
      "model_module_version": "1.5.0",
      "model_name": "DescriptionStyleModel",
      "state": {
       "description_width": ""
      }
     },
     "86f4ace4ac0e4ec1b08d2e9b2edf7639": {
      "model_module": "@jupyter-widgets/controls",
      "model_module_version": "1.5.0",
      "model_name": "HTMLModel",
      "state": {
       "layout": "IPY_MODEL_72f63b7531044048aa6930a53568a4b9",
       "style": "IPY_MODEL_54b1b4266cec4f4ca3db1c029308fea8",
       "value": "Average record size in memory"
      }
     },
     "873662b5b9c341bfb11286da84357ed2": {
      "model_module": "@jupyter-widgets/base",
      "model_module_version": "1.2.0",
      "model_name": "LayoutModel",
      "state": {
       "grid_template_columns": "25% 25% 25% 25%",
       "width": "100%"
      }
     },
     "8761352507594be59ed2df6d03ff613f": {
      "model_module": "@jupyter-widgets/controls",
      "model_module_version": "1.5.0",
      "model_name": "HTMLModel",
      "state": {
       "layout": "IPY_MODEL_fe10fe97b9254b3daabc10dfb13d9af3",
       "style": "IPY_MODEL_36d42a6f78df41b082e7827b7327c405",
       "value": " 1/1 [00:07&lt;00:00,  7.63s/it]"
      }
     },
     "8792d9abd45d48e6bafa5b07ecffc547": {
      "model_module": "@jupyter-widgets/base",
      "model_module_version": "1.2.0",
      "model_name": "LayoutModel",
      "state": {}
     },
     "87a57eea0ce94fe4a05bce5dfd8864b2": {
      "model_module": "@jupyter-widgets/controls",
      "model_module_version": "1.5.0",
      "model_name": "DescriptionStyleModel",
      "state": {
       "description_width": ""
      }
     },
     "87bca456323b414884857fa876d45203": {
      "model_module": "@jupyter-widgets/base",
      "model_module_version": "1.2.0",
      "model_name": "LayoutModel",
      "state": {}
     },
     "87c6a10dbcea436694f4f2cc207cce09": {
      "model_module": "@jupyter-widgets/base",
      "model_module_version": "1.2.0",
      "model_name": "LayoutModel",
      "state": {}
     },
     "87eb1b81a5e7407f85e617277747a877": {
      "model_module": "@jupyter-widgets/base",
      "model_module_version": "1.2.0",
      "model_name": "LayoutModel",
      "state": {
       "grid_area": "widget014"
      }
     },
     "87fa3eab2bb84c64880c47c0c82378ea": {
      "model_module": "@jupyter-widgets/base",
      "model_module_version": "1.2.0",
      "model_name": "LayoutModel",
      "state": {}
     },
     "87fb6bb17813449d9aef44f643bfe38c": {
      "model_module": "@jupyter-widgets/controls",
      "model_module_version": "1.5.0",
      "model_name": "ButtonModel",
      "state": {
       "button_style": "danger",
       "description": "Uniform",
       "disabled": true,
       "layout": "IPY_MODEL_898149cede5c4116aa284d4313e46302",
       "style": "IPY_MODEL_ccc738569d054ee3925ce25addbff810"
      }
     },
     "8806fc409df14991bd039c95fc4668a8": {
      "model_module": "@jupyter-widgets/base",
      "model_module_version": "1.2.0",
      "model_name": "LayoutModel",
      "state": {}
     },
     "8849e2acb76c43a0955fa16c8e79eabc": {
      "model_module": "@jupyter-widgets/base",
      "model_module_version": "1.2.0",
      "model_name": "LayoutModel",
      "state": {}
     },
     "886a96de6a1c4d0299042ccff6f89408": {
      "model_module": "@jupyter-widgets/base",
      "model_module_version": "1.2.0",
      "model_name": "LayoutModel",
      "state": {
       "grid_area": "widget006"
      }
     },
     "886f1aaf449c4f778b27feb8a1402b5d": {
      "model_module": "@jupyter-widgets/controls",
      "model_module_version": "1.5.0",
      "model_name": "HTMLModel",
      "state": {
       "layout": "IPY_MODEL_ae8b521c57f54ffd9d7764cb8354281b",
       "style": "IPY_MODEL_8af658f1d18749169c8537c685f70de8",
       "value": "Distinct (%)"
      }
     },
     "888a4e6003204a50acc1b8cee265ba12": {
      "model_module": "@jupyter-widgets/base",
      "model_module_version": "1.2.0",
      "model_name": "LayoutModel",
      "state": {
       "grid_template_areas": "\"widget001 widget002 widget003\"\n\"widget004 widget005 widget006\"\n\"widget007 widget008 widget009\"\n\"widget010 widget011 widget012\"\n\"widget013 widget014 widget015\"\n\"widget016 widget017 widget018\"",
       "grid_template_columns": "repeat(3, 1fr)",
       "grid_template_rows": "repeat(6, 1fr)"
      }
     },
     "88e1e9c6e330495680ed88648632395f": {
      "model_module": "@jupyter-widgets/controls",
      "model_module_version": "1.5.0",
      "model_name": "HTMLModel",
      "state": {
       "layout": "IPY_MODEL_301276c6207745739dd9e582d5fe949b",
       "style": "IPY_MODEL_ae5d3117cc0343caa0bd8e96dcf62285",
       "value": "0"
      }
     },
     "88e44116204a4e2f87654b49eb47e94c": {
      "model_module": "@jupyter-widgets/controls",
      "model_module_version": "1.5.0",
      "model_name": "DescriptionStyleModel",
      "state": {
       "description_width": ""
      }
     },
     "893accb56973435381c071f076b65cc2": {
      "model_module": "@jupyter-widgets/controls",
      "model_module_version": "1.5.0",
      "model_name": "ButtonModel",
      "state": {
       "button_style": "info",
       "description": "Missing",
       "disabled": true,
       "layout": "IPY_MODEL_97a063776a824ac094d99e4a0eda431b",
       "style": "IPY_MODEL_d2438002189844b284d10732f2534427"
      }
     },
     "895b3657fa7c43759cb1c398677cdc15": {
      "model_module": "@jupyter-widgets/controls",
      "model_module_version": "1.5.0",
      "model_name": "LabelModel",
      "state": {
       "layout": "IPY_MODEL_3a561d5809b84be3aee1fdcbac0d1eb9",
       "style": "IPY_MODEL_0a3f86fdeb934b24afeff95dccbfbb67",
       "value": "transferred"
      }
     },
     "8976b724497b45509cfe8a1727eb2feb": {
      "model_module": "@jupyter-widgets/controls",
      "model_module_version": "1.5.0",
      "model_name": "DescriptionStyleModel",
      "state": {
       "description_width": ""
      }
     },
     "898149cede5c4116aa284d4313e46302": {
      "model_module": "@jupyter-widgets/base",
      "model_module_version": "1.2.0",
      "model_name": "LayoutModel",
      "state": {}
     },
     "89aa0855f0d64fd79865af9dd71d5702": {
      "model_module": "@jupyter-widgets/controls",
      "model_module_version": "1.5.0",
      "model_name": "ButtonModel",
      "state": {
       "button_style": "warning",
       "description": "Unsupported",
       "disabled": true,
       "layout": "IPY_MODEL_a0408c3ca2d740f0bea4402518ad5d49",
       "style": "IPY_MODEL_f42e41a3b11c4d248b8d408ac3a8ab84"
      }
     },
     "89ad228425144269be2e5c911a4195da": {
      "model_module": "@jupyter-widgets/controls",
      "model_module_version": "1.5.0",
      "model_name": "VBoxModel",
      "state": {
       "children": [
        "IPY_MODEL_9d3fee8de0f149069c758a9b05b96d04"
       ],
       "layout": "IPY_MODEL_714b32da6bef43bd974bb0cbbe604ae4"
      }
     },
     "89dd99885b00431590df61f8b6cd9337": {
      "model_module": "@jupyter-widgets/base",
      "model_module_version": "1.2.0",
      "model_name": "LayoutModel",
      "state": {
       "grid_template_areas": "\"widget001 widget002\"\n\"widget003 widget004\"\n\"widget005 widget006\"\n\"widget007 widget008\"\n\"widget009 widget010\"\n\"widget011 widget012\"\n\"widget013 widget014\"\n\"widget015 widget016\"",
       "grid_template_columns": "repeat(2, 1fr)",
       "grid_template_rows": "repeat(8, 1fr)"
      }
     },
     "89eaf25e3e0947f1baf5f2ce711e3636": {
      "model_module": "@jupyter-widgets/base",
      "model_module_version": "1.2.0",
      "model_name": "LayoutModel",
      "state": {
       "grid_area": "widget001"
      }
     },
     "8a271a6bb4ec4b76b1cb3ae8a5ff9c61": {
      "model_module": "@jupyter-widgets/controls",
      "model_module_version": "1.5.0",
      "model_name": "HTMLModel",
      "state": {
       "layout": "IPY_MODEL_8f93a360d06c433c90d4c293edb3b584",
       "style": "IPY_MODEL_36152a71dfec4dda9ca43e08d55846c9",
       "value": "<strong>Most occurring characters</strong>"
      }
     },
     "8a476603eb7f44ec8082316fe3420afb": {
      "model_module": "@jupyter-widgets/base",
      "model_module_version": "1.2.0",
      "model_name": "LayoutModel",
      "state": {}
     },
     "8a4bbfb2b49d47c893a5acd0b081ce98": {
      "model_module": "@jupyter-widgets/controls",
      "model_module_version": "1.5.0",
      "model_name": "ButtonModel",
      "state": {
       "button_style": "info",
       "description": "Skewed",
       "disabled": true,
       "layout": "IPY_MODEL_122b09bd9f3d4cc296837bf03473c07c",
       "style": "IPY_MODEL_58e93ec40f4d445dac6cdd253ba8b2e9"
      }
     },
     "8a8b13919f7e465e99071ee214ba2bdd": {
      "model_module": "@jupyter-widgets/base",
      "model_module_version": "1.2.0",
      "model_name": "LayoutModel",
      "state": {}
     },
     "8af5ee4bdd4d454b80c73e94e06139d0": {
      "model_module": "@jupyter-widgets/controls",
      "model_module_version": "1.5.0",
      "model_name": "DescriptionStyleModel",
      "state": {
       "description_width": ""
      }
     },
     "8af658f1d18749169c8537c685f70de8": {
      "model_module": "@jupyter-widgets/controls",
      "model_module_version": "1.5.0",
      "model_name": "DescriptionStyleModel",
      "state": {
       "description_width": ""
      }
     },
     "8b17947993b843a6b847cc3e78675489": {
      "model_module": "@jupyter-widgets/base",
      "model_module_version": "1.2.0",
      "model_name": "LayoutModel",
      "state": {}
     },
     "8b27d8439547418ebcea687968faddaa": {
      "model_module": "@jupyter-widgets/base",
      "model_module_version": "1.2.0",
      "model_name": "LayoutModel",
      "state": {
       "grid_area": "widget004"
      }
     },
     "8b69c2f9b97b4b73a09b6facad0b2042": {
      "model_module": "@jupyter-widgets/controls",
      "model_module_version": "1.5.0",
      "model_name": "ButtonStyleModel",
      "state": {}
     },
     "8b7a683cfb3640cfa844c07f8521f129": {
      "model_module": "@jupyter-widgets/base",
      "model_module_version": "1.2.0",
      "model_name": "LayoutModel",
      "state": {
       "grid_area": "widget011"
      }
     },
     "8b90969298434fef9832913a33b4ee83": {
      "model_module": "@jupyter-widgets/base",
      "model_module_version": "1.2.0",
      "model_name": "LayoutModel",
      "state": {}
     },
     "8b9f6e4f9e3b4287805df6ec125a7d8f": {
      "model_module": "@jupyter-widgets/controls",
      "model_module_version": "1.5.0",
      "model_name": "HTMLModel",
      "state": {
       "layout": "IPY_MODEL_642bee9f564b4cab991da9e88a23bb0d",
       "style": "IPY_MODEL_ebe7b7468e2e42e98d94c8226e0c0165",
       "value": "<a class=\"anchor\" href=\"#pp_var_-4980201277795327264\"><code>FTIP No</code></a> has 4488 (20.8%) missing values"
      }
     },
     "8bdcbe48ba4d4caea92f6ddcafaced6f": {
      "model_module": "@jupyter-widgets/controls",
      "model_module_version": "1.5.0",
      "model_name": "LabelModel",
      "state": {
       "layout": "IPY_MODEL_594fbc5be40b470691d52672db7d77c4",
       "style": "IPY_MODEL_335bdbd90fb145a797f33cc80e6d3c9d",
       "value": "fmis"
      }
     },
     "8be2fd9353564380bc87804101fb0761": {
      "model_module": "@jupyter-widgets/controls",
      "model_module_version": "1.5.0",
      "model_name": "HTMLModel",
      "state": {
       "layout": "IPY_MODEL_3d71fb7a5b5b47ab8161e8f690f61b3e",
       "style": "IPY_MODEL_f1daf0f4d267487d9c4fce5179558cd0",
       "value": " 1/1 [00:02&lt;00:00,  2.43s/it]"
      }
     },
     "8c70a53cc7e44fb686ffd2c18f89f2ce": {
      "model_module": "@jupyter-widgets/controls",
      "model_module_version": "1.5.0",
      "model_name": "DescriptionStyleModel",
      "state": {
       "description_width": ""
      }
     },
     "8ca92cd2f3b5485c8f2586cbe652e52f": {
      "model_module": "@jupyter-widgets/base",
      "model_module_version": "1.2.0",
      "model_name": "LayoutModel",
      "state": {}
     },
     "8cab5c42c63c4944b826617f941f7292": {
      "model_module": "@jupyter-widgets/controls",
      "model_module_version": "1.5.0",
      "model_name": "LabelModel",
      "state": {
       "layout": "IPY_MODEL_7ae6afd443cc46699397cc06f32d8082",
       "style": "IPY_MODEL_ab1715cf5090470a9d4209bfb6fd3cbe",
       "value": "fta"
      }
     },
     "8cbd0d5cc338412a93e7a07f748d7c1b": {
      "model_module": "@jupyter-widgets/controls",
      "model_module_version": "1.5.0",
      "model_name": "ProgressStyleModel",
      "state": {
       "description_width": ""
      }
     },
     "8d1232f3e8aa440394dedd251e0aa3c3": {
      "model_module": "@jupyter-widgets/controls",
      "model_module_version": "1.5.0",
      "model_name": "DescriptionStyleModel",
      "state": {
       "description_width": ""
      }
     },
     "8d4e4505d1ba4f09805b8b4ac87ff968": {
      "model_module": "@jupyter-widgets/base",
      "model_module_version": "1.2.0",
      "model_name": "LayoutModel",
      "state": {}
     },
     "8d8a30362ba84e3fa28397afa837df9f": {
      "model_module": "@jupyter-widgets/controls",
      "model_module_version": "1.5.0",
      "model_name": "HBoxModel",
      "state": {
       "children": [
        "IPY_MODEL_c9a64a3bbbe44cfdb07ead9adda290b7",
        "IPY_MODEL_c6a5aebedaca4dd587f1ad5808cf5514",
        "IPY_MODEL_e68e3cfb60b644e39c2ba048b01bdc0e"
       ],
       "layout": "IPY_MODEL_a1ed0ea089804c92895012d2f511292a"
      }
     },
     "8d8c39c9ed6b42f58f90c777df3ebb37": {
      "model_module": "@jupyter-widgets/controls",
      "model_module_version": "1.5.0",
      "model_name": "ButtonModel",
      "state": {
       "button_style": "warning",
       "description": "Unsupported",
       "disabled": true,
       "layout": "IPY_MODEL_f1e6dde377f7442b889ce748e28e47f9",
       "style": "IPY_MODEL_65f03bff856142aeb94e8ec31a3e57ca"
      }
     },
     "8d8f0362a82c49409256c30c59b2d6f2": {
      "model_module": "@jupyter-widgets/controls",
      "model_module_version": "1.5.0",
      "model_name": "VBoxModel",
      "state": {
       "children": [
        "IPY_MODEL_a10b6ff17a514ab19988d4c38ab7895a",
        "IPY_MODEL_d736a01c8a234da98cde9ce2cb9c1b7b"
       ],
       "layout": "IPY_MODEL_cdc80863418a49c188f00950fe7a0e27"
      }
     },
     "8e156345e4ae4e1faab5641c44e3cfbd": {
      "model_module": "@jupyter-widgets/controls",
      "model_module_version": "1.5.0",
      "model_name": "DescriptionStyleModel",
      "state": {
       "description_width": ""
      }
     },
     "8e244aec60874612bfa6ce6c6c860ec5": {
      "model_module": "@jupyter-widgets/controls",
      "model_module_version": "1.5.0",
      "model_name": "ButtonModel",
      "state": {
       "button_style": "info",
       "description": "Zeros",
       "disabled": true,
       "layout": "IPY_MODEL_954bfb006a5549049d559bcc9c09063e",
       "style": "IPY_MODEL_537a10facf2045dda4745c68feb15ce3"
      }
     },
     "8e25cbc6a22b4552b4db2ba8aff941df": {
      "model_module": "@jupyter-widgets/controls",
      "model_module_version": "1.5.0",
      "model_name": "HTMLModel",
      "state": {
       "layout": "IPY_MODEL_ed9400e0dfd54105a5a944034ff112a8",
       "style": "IPY_MODEL_f3dd284478cb4c768eb58136b9b6270f",
       "value": " 33/46 [00:02&lt;00:00, 16.51it/s, Describe variable:adjusted_ac_requested]"
      }
     },
     "8e6b08c0abba4ae6aa5ef6a6974afe64": {
      "model_module": "@jupyter-widgets/base",
      "model_module_version": "1.2.0",
      "model_name": "LayoutModel",
      "state": {
       "grid_area": "widget005"
      }
     },
     "8e8673db99304d11b384b00735aafb0f": {
      "model_module": "@jupyter-widgets/controls",
      "model_module_version": "1.5.0",
      "model_name": "HBoxModel",
      "state": {
       "children": [
        "IPY_MODEL_38250b7e7b42494f8d8d49d18ff3c52c",
        "IPY_MODEL_bd3b3ab84f5847f1997e5c8cd1add0ae",
        "IPY_MODEL_500ab2e17fa44e6b94d18e690fc27deb"
       ],
       "layout": "IPY_MODEL_cdf64fd71137482d913b326a428e0671"
      }
     },
     "8e96e4b3284e4f48ba76d42f1246e645": {
      "model_module": "@jupyter-widgets/base",
      "model_module_version": "1.2.0",
      "model_name": "LayoutModel",
      "state": {}
     },
     "8edb3921770b488583664ac2157a8556": {
      "model_module": "@jupyter-widgets/controls",
      "model_module_version": "1.5.0",
      "model_name": "DescriptionStyleModel",
      "state": {
       "description_width": ""
      }
     },
     "8f0bd9c2505a41aeb9aca826e6e0a7d4": {
      "model_module": "@jupyter-widgets/controls",
      "model_module_version": "1.5.0",
      "model_name": "DescriptionStyleModel",
      "state": {
       "description_width": ""
      }
     },
     "8f22b9802f904dbe83a038606e20b15a": {
      "model_module": "@jupyter-widgets/controls",
      "model_module_version": "1.5.0",
      "model_name": "HTMLModel",
      "state": {
       "layout": "IPY_MODEL_9304d70e2e3542d8bce90e647d5d3190",
       "style": "IPY_MODEL_55280754d57f40c4bd8ffd664c6b4e32",
       "value": "<a class=\"anchor\" href=\"#pp_var_4425667109306469426\"><code>total requested</code></a> is an unsupported type, check if it needs cleaning or further analysis"
      }
     },
     "8f23f7685320444b9aae8310a31b6621": {
      "model_module": "@jupyter-widgets/controls",
      "model_module_version": "1.5.0",
      "model_name": "HTMLModel",
      "state": {
       "layout": "IPY_MODEL_8806fc409df14991bd039c95fc4668a8",
       "style": "IPY_MODEL_b1c8a240f9ca488ea3135b6a70c0d0b8",
       "value": "<a class=\"anchor\" href=\"#pp_var_-2583248843754977393\"><code>FHWA processing Days</code></a> has 1696 (7.9%) zeros"
      }
     },
     "8f25f0df882f4910bf8a04da3b335717": {
      "model_module": "@jupyter-widgets/controls",
      "model_module_version": "1.5.0",
      "model_name": "ButtonModel",
      "state": {
       "button_style": "warning",
       "description": "Unsupported",
       "disabled": true,
       "layout": "IPY_MODEL_13ad05191edb45bcb5b5907f816bcbe9",
       "style": "IPY_MODEL_d2232f9b11bf454d801aa99856b38275"
      }
     },
     "8f3c92284ab74219bcb60d0f464efb36": {
      "model_module": "@jupyter-widgets/controls",
      "model_module_version": "1.5.0",
      "model_name": "ButtonModel",
      "state": {
       "button_style": "info",
       "description": "Missing",
       "disabled": true,
       "layout": "IPY_MODEL_c82da9a274a74d0b9f55440dd75725aa",
       "style": "IPY_MODEL_c6f432bb9bc34c76948cf5e53912c118"
      }
     },
     "8f631f2c0d0b4517983e16141bb8e3b3": {
      "model_module": "@jupyter-widgets/base",
      "model_module_version": "1.2.0",
      "model_name": "LayoutModel",
      "state": {
       "grid_area": "widget007"
      }
     },
     "8f9202fcd5324b5d818f29734c86070a": {
      "model_module": "@jupyter-widgets/controls",
      "model_module_version": "1.5.0",
      "model_name": "DescriptionStyleModel",
      "state": {
       "description_width": ""
      }
     },
     "8f93a360d06c433c90d4c293edb3b584": {
      "model_module": "@jupyter-widgets/base",
      "model_module_version": "1.2.0",
      "model_name": "LayoutModel",
      "state": {}
     },
     "8f9c26f6e0c84a5a8497af962f5b9ab2": {
      "model_module": "@jupyter-widgets/base",
      "model_module_version": "1.2.0",
      "model_name": "LayoutModel",
      "state": {}
     },
     "8faefa4e1337418d9e041352729ade3a": {
      "model_module": "@jupyter-widgets/controls",
      "model_module_version": "1.5.0",
      "model_name": "HTMLModel",
      "state": {
       "layout": "IPY_MODEL_bf780c41a62d4b989b2044836116be25",
       "style": "IPY_MODEL_f43713dacae64843aeb6b62d124337ba",
       "value": " 1/1 [00:07&lt;00:00,  7.57s/it]"
      }
     },
     "8fbb664c555b4c7e824f0b048c1f2307": {
      "model_module": "@jupyter-widgets/controls",
      "model_module_version": "1.5.0",
      "model_name": "ButtonStyleModel",
      "state": {}
     },
     "8fc0f1df5450416799bb81fe9f21c720": {
      "model_module": "@jupyter-widgets/base",
      "model_module_version": "1.2.0",
      "model_name": "LayoutModel",
      "state": {}
     },
     "8fdc94041fc94ee4beac173939ad74a6": {
      "model_module": "@jupyter-widgets/controls",
      "model_module_version": "1.5.0",
      "model_name": "VBoxModel",
      "state": {
       "children": [
        "IPY_MODEL_c40618aef2ee4501b698edd21b289d85",
        "IPY_MODEL_7bea8fa5ddbc4c2e8c175683192f7474"
       ],
       "layout": "IPY_MODEL_09f6be88810147729f8a0ac89da89c43"
      }
     },
     "906565475a0148edae004fe8eaa6f45c": {
      "model_module": "@jupyter-widgets/base",
      "model_module_version": "1.2.0",
      "model_name": "LayoutModel",
      "state": {
       "grid_area": "widget003"
      }
     },
     "90ea325ecb8b4c6792682049c2ecf04d": {
      "model_module": "@jupyter-widgets/controls",
      "model_module_version": "1.5.0",
      "model_name": "GridBoxModel",
      "state": {
       "children": [
        "IPY_MODEL_3f1af5d53b4a41ca9df50c7eb585346d",
        "IPY_MODEL_36302f1cc14c4533ae3191927765b16c",
        "IPY_MODEL_886f1aaf449c4f778b27feb8a1402b5d",
        "IPY_MODEL_5b16d2f420a448fc84dffe9550923d24",
        "IPY_MODEL_37e580b873994de882f7c0dcc98c2cd4",
        "IPY_MODEL_a03b3cb0cc1643ea923714078a22f571",
        "IPY_MODEL_cc786e0b9b8d4a65934e742b378a8ebe",
        "IPY_MODEL_7730f413b3184bfd9251da8375ba839a",
        "IPY_MODEL_51de57f2c0004e9599fc3fcfc71b78e3",
        "IPY_MODEL_9b00cd0450884b01889e6c2faa255c49"
       ],
       "layout": "IPY_MODEL_fa7da215c0bf46bfb7a516db272a4e41"
      }
     },
     "90f54199fbee4166b83f1b85f3cd708b": {
      "model_module": "@jupyter-widgets/controls",
      "model_module_version": "1.5.0",
      "model_name": "HTMLModel",
      "state": {
       "layout": "IPY_MODEL_38480b7422f74d3e8548eac9c3f9ec06",
       "style": "IPY_MODEL_b499b0dcc80c420f8eedc2720824c61f",
       "value": "18.0%"
      }
     },
     "91284c02c11f46708d9f0a821a73e890": {
      "model_module": "@jupyter-widgets/base",
      "model_module_version": "1.2.0",
      "model_name": "LayoutModel",
      "state": {
       "grid_area": "widget004"
      }
     },
     "913071c55dc04fe6b4c499a9959f7e16": {
      "model_module": "@jupyter-widgets/controls",
      "model_module_version": "1.5.0",
      "model_name": "FloatProgressModel",
      "state": {
       "description": "Obligated",
       "layout": "IPY_MODEL_d0e352e6429d46e199d10dba5ba598de",
       "max": 21594,
       "style": "IPY_MODEL_b8a8f35befeb483abc30809b6bbcbd25",
       "value": 20826
      }
     },
     "913dc39c250548a48f2372ac4db6b204": {
      "model_module": "@jupyter-widgets/base",
      "model_module_version": "1.2.0",
      "model_name": "LayoutModel",
      "state": {
       "grid_area": "widget005"
      }
     },
     "916324ce1b8040cab999f20f7d24325a": {
      "model_module": "@jupyter-widgets/controls",
      "model_module_version": "1.5.0",
      "model_name": "DescriptionStyleModel",
      "state": {
       "description_width": ""
      }
     },
     "917f210efcbc4f8f9f81fcc257293bd5": {
      "model_module": "@jupyter-widgets/controls",
      "model_module_version": "1.5.0",
      "model_name": "DescriptionStyleModel",
      "state": {
       "description_width": ""
      }
     },
     "91b1b08ff83b46668aa6d76bb4f89b92": {
      "model_module": "@jupyter-widgets/controls",
      "model_module_version": "1.5.0",
      "model_name": "VBoxModel",
      "state": {
       "children": [
        "IPY_MODEL_d4192f06b336460d91a9c457cfdffa83",
        "IPY_MODEL_7c230e802c8b40a3ab476ff4455fa1a9"
       ],
       "layout": "IPY_MODEL_3cfe75ac4def403fb2cf17b102a82e5f"
      }
     },
     "91f2381045d94c809ebc7e70b93ec857": {
      "model_module": "@jupyter-widgets/base",
      "model_module_version": "1.2.0",
      "model_name": "LayoutModel",
      "state": {
       "grid_template_areas": "\"widget001 widget002\"\n\"widget003 widget004\"\n\"widget005 widget006\"\n\"widget007 widget008\"\n\"widget009 widget010\"",
       "grid_template_columns": "repeat(2, 1fr)",
       "grid_template_rows": "repeat(5, 1fr)"
      }
     },
     "921b3df672d445ac9464670895ed3852": {
      "model_module": "@jupyter-widgets/controls",
      "model_module_version": "1.5.0",
      "model_name": "DescriptionStyleModel",
      "state": {
       "description_width": ""
      }
     },
     "922d30621bb1462198ccac37b1e12c3f": {
      "model_module": "@jupyter-widgets/controls",
      "model_module_version": "1.5.0",
      "model_name": "HTMLModel",
      "state": {
       "layout": "IPY_MODEL_609abd04af324ed790f4d0f862a1e7dd",
       "style": "IPY_MODEL_f6d6344626a64263aa3ffdc4b7ab53da",
       "value": "<a class=\"anchor\" href=\"#pp_var_1215821832360499521\"><code>date completed request</code></a> is an unsupported type, check if it needs cleaning or further analysis"
      }
     },
     "92313215eee842ff96dbffae5729ecbc": {
      "model_module": "@jupyter-widgets/base",
      "model_module_version": "1.2.0",
      "model_name": "LayoutModel",
      "state": {}
     },
     "924757db666c4be08bdfef3c68c1b4f1": {
      "model_module": "@jupyter-widgets/base",
      "model_module_version": "1.2.0",
      "model_name": "LayoutModel",
      "state": {}
     },
     "9264ba1552d0413fb620eed4b5934e7e": {
      "model_module": "@jupyter-widgets/controls",
      "model_module_version": "1.5.0",
      "model_name": "DescriptionStyleModel",
      "state": {
       "description_width": ""
      }
     },
     "92c6688197fe49ff95f9dd9dcd6f2b7d": {
      "model_module": "@jupyter-widgets/base",
      "model_module_version": "1.2.0",
      "model_name": "LayoutModel",
      "state": {}
     },
     "92f3cbb1b9f14140a7dbf4ce4b4dce14": {
      "model_module": "@jupyter-widgets/controls",
      "model_module_version": "1.5.0",
      "model_name": "DescriptionStyleModel",
      "state": {
       "description_width": ""
      }
     },
     "92f7ffd84a1f44c1ac54efc30b915bb6": {
      "model_module": "@jupyter-widgets/controls",
      "model_module_version": "1.5.0",
      "model_name": "DescriptionStyleModel",
      "state": {
       "description_width": ""
      }
     },
     "9304d70e2e3542d8bce90e647d5d3190": {
      "model_module": "@jupyter-widgets/base",
      "model_module_version": "1.2.0",
      "model_name": "LayoutModel",
      "state": {}
     },
     "932710dede614e128b88e35babc4ac96": {
      "model_module": "@jupyter-widgets/controls",
      "model_module_version": "1.5.0",
      "model_name": "HBoxModel",
      "state": {
       "children": [
        "IPY_MODEL_de97c42732a34566835adcf1225828ad",
        "IPY_MODEL_219e2c356ec04ce48eb381833e92feb9"
       ],
       "layout": "IPY_MODEL_296a9cc9e5a04eedb829e58912a86d82"
      }
     },
     "93278ad7e5bc45e4bf58e6bb32dd8f82": {
      "model_module": "@jupyter-widgets/base",
      "model_module_version": "1.2.0",
      "model_name": "LayoutModel",
      "state": {
       "grid_area": "widget020"
      }
     },
     "932f601d727d404898676da2e7cb490f": {
      "model_module": "@jupyter-widgets/controls",
      "model_module_version": "1.5.0",
      "model_name": "DescriptionStyleModel",
      "state": {
       "description_width": ""
      }
     },
     "9358ed02a4924307804b4772219efa6c": {
      "model_module": "@jupyter-widgets/controls",
      "model_module_version": "1.5.0",
      "model_name": "ButtonModel",
      "state": {
       "description": "High correlation",
       "disabled": true,
       "layout": "IPY_MODEL_0793a2506ddf4cd0b7ae46ebf4d07750",
       "style": "IPY_MODEL_def2af023a9645dd9b19eb04361b56dc"
      }
     },
     "93ce4b0fe66c4bdba17f90f0f726b2b0": {
      "model_module": "@jupyter-widgets/base",
      "model_module_version": "1.2.0",
      "model_name": "LayoutModel",
      "state": {
       "grid_area": "widget014"
      }
     },
     "93d36d5c4ef34c428765c06ba1e47b91": {
      "model_module": "@jupyter-widgets/controls",
      "model_module_version": "1.5.0",
      "model_name": "DescriptionStyleModel",
      "state": {
       "description_width": ""
      }
     },
     "93e9252350084927b64f653f6d5ad63b": {
      "model_module": "@jupyter-widgets/controls",
      "model_module_version": "1.5.0",
      "model_name": "HTMLModel",
      "state": {
       "layout": "IPY_MODEL_d6757ecec5bb41998ae88e57b05cbadd",
       "style": "IPY_MODEL_b64800dcf0714eec98d835b9c6e0304e",
       "value": "Missing (%)"
      }
     },
     "93fba765fdd24352b5fface93f0d4672": {
      "model_module": "@jupyter-widgets/controls",
      "model_module_version": "1.5.0",
      "model_name": "HTMLModel",
      "state": {
       "layout": "IPY_MODEL_5aa7b6700812486e98ce222d4392104f",
       "style": "IPY_MODEL_7d513f0ccbac4ced92b6dcb82a170548",
       "value": "<a class=\"anchor\" href=\"#pp_var_3809594440601096559\"><code>prepared date</code></a> is an unsupported type, check if it needs cleaning or further analysis"
      }
     },
     "945762b33eb149b195a0e25a7e9c432c": {
      "model_module": "@jupyter-widgets/controls",
      "model_module_version": "1.5.0",
      "model_name": "HTMLModel",
      "state": {
       "layout": "IPY_MODEL_519df7eda9b644d69de6f11fc7f5913b",
       "style": "IPY_MODEL_c3ad2357839246dbbbc3f6df3b4bb674",
       "value": "30"
      }
     },
     "94a716cb6e0e42ce839a48c48360c43e": {
      "model_module": "@jupyter-widgets/base",
      "model_module_version": "1.2.0",
      "model_name": "LayoutModel",
      "state": {}
     },
     "94ce498ffe9741558469a4ab24a8fdf0": {
      "model_module": "@jupyter-widgets/controls",
      "model_module_version": "1.5.0",
      "model_name": "ButtonStyleModel",
      "state": {}
     },
     "94cf058def9d493085e662c5d7a01310": {
      "model_module": "@jupyter-widgets/controls",
      "model_module_version": "1.5.0",
      "model_name": "LabelModel",
      "state": {
       "layout": "IPY_MODEL_583d61e73d5f4f188f06c6bead136748",
       "style": "IPY_MODEL_7b24db4669774e70a5118123272321f7",
       "value": "85"
      }
     },
     "94f7a121d36843d8a52a835f7b7f95b8": {
      "model_module": "@jupyter-widgets/controls",
      "model_module_version": "1.5.0",
      "model_name": "DescriptionStyleModel",
      "state": {
       "description_width": ""
      }
     },
     "954bfb006a5549049d559bcc9c09063e": {
      "model_module": "@jupyter-widgets/base",
      "model_module_version": "1.2.0",
      "model_name": "LayoutModel",
      "state": {}
     },
     "9552615d88204873ba85150b8f351612": {
      "model_module": "@jupyter-widgets/base",
      "model_module_version": "1.2.0",
      "model_name": "LayoutModel",
      "state": {
       "grid_template_areas": "\"widget001 widget002\"\n\"widget003 widget004\"\n\"widget005 widget006\"\n\"widget007 widget008\"\n\"widget009 widget010\"",
       "grid_template_columns": "repeat(2, 1fr)",
       "grid_template_rows": "repeat(5, 1fr)"
      }
     },
     "95a63bda20f04595bb0dde0f4976cd94": {
      "model_module": "@jupyter-widgets/controls",
      "model_module_version": "1.5.0",
      "model_name": "LabelModel",
      "state": {
       "layout": "IPY_MODEL_f29890ba9be342edb1c53bf710daf7db",
       "style": "IPY_MODEL_4f76bb1677eb4a208cf029b6a0a020de",
       "value": "112"
      }
     },
     "962295c00ce84bbabc4ea0b067390774": {
      "model_module": "@jupyter-widgets/controls",
      "model_module_version": "1.5.0",
      "model_name": "ProgressStyleModel",
      "state": {
       "description_width": ""
      }
     },
     "9622aa17280d420c839119c3f59cf22b": {
      "model_module": "@jupyter-widgets/controls",
      "model_module_version": "1.5.0",
      "model_name": "HTMLModel",
      "state": {
       "layout": "IPY_MODEL_37e0818194e445fba6dfe59b79ce3866",
       "style": "IPY_MODEL_c7d417a2b5ca4d2d831cf7b48cc2151c",
       "value": "Generate report structure: 100%"
      }
     },
     "964ce469f3534437ad786f309fb5670f": {
      "model_module": "@jupyter-widgets/controls",
      "model_module_version": "1.5.0",
      "model_name": "DescriptionStyleModel",
      "state": {
       "description_width": ""
      }
     },
     "96baa234255a46eebd6050d24c4bac4d": {
      "model_module": "@jupyter-widgets/controls",
      "model_module_version": "1.5.0",
      "model_name": "DescriptionStyleModel",
      "state": {
       "description_width": ""
      }
     },
     "96bec9b58ca84894986340bb9e51702f": {
      "model_module": "@jupyter-widgets/controls",
      "model_module_version": "1.5.0",
      "model_name": "DescriptionStyleModel",
      "state": {
       "description_width": ""
      }
     },
     "96db830d30404b0b8110d8abe3e484d7": {
      "model_module": "@jupyter-widgets/controls",
      "model_module_version": "1.5.0",
      "model_name": "HTMLModel",
      "state": {
       "layout": "IPY_MODEL_0c3ede4bf8b74bde90696225cdb57f72",
       "style": "IPY_MODEL_a60bc0526bf04683a67fa2eb22f46d2a",
       "value": " 0/1 [00:02&lt;?, ?it/s]"
      }
     },
     "96f47f85a3c64b6a8755941a09c4a876": {
      "model_module": "@jupyter-widgets/base",
      "model_module_version": "1.2.0",
      "model_name": "LayoutModel",
      "state": {}
     },
     "970b6450dfba4461994f93f2f95b5f0a": {
      "model_module": "@jupyter-widgets/controls",
      "model_module_version": "1.5.0",
      "model_name": "DescriptionStyleModel",
      "state": {
       "description_width": ""
      }
     },
     "970c8788af2c4b7abd4886591d44733c": {
      "model_module": "@jupyter-widgets/base",
      "model_module_version": "1.2.0",
      "model_name": "LayoutModel",
      "state": {
       "grid_area": "widget001"
      }
     },
     "97280b5069344e17ad8a448947987ac5": {
      "model_module": "@jupyter-widgets/controls",
      "model_module_version": "1.5.0",
      "model_name": "ButtonModel",
      "state": {
       "button_style": "danger",
       "description": "High cardinality",
       "disabled": true,
       "layout": "IPY_MODEL_34b6797762c54b28b6bca353a83e010b",
       "style": "IPY_MODEL_9def75497ce3410cb2a07763a6ea7713"
      }
     },
     "97334503b35b4297b9b948a66e4f236d": {
      "model_module": "@jupyter-widgets/controls",
      "model_module_version": "1.5.0",
      "model_name": "ButtonStyleModel",
      "state": {}
     },
     "97461304e7fa43d4870e2bbfd6e8650a": {
      "model_module": "@jupyter-widgets/controls",
      "model_module_version": "1.5.0",
      "model_name": "DescriptionStyleModel",
      "state": {
       "description_width": ""
      }
     },
     "975d62acfe264d069802a785605b698c": {
      "model_module": "@jupyter-widgets/controls",
      "model_module_version": "1.5.0",
      "model_name": "GridBoxModel",
      "state": {
       "children": [
        "IPY_MODEL_5edcb72b43634206a0172f1e259fa792",
        "IPY_MODEL_9cef7b5f870d487ca60597e9a21120e3",
        "IPY_MODEL_b231c5edefe946259cef4315bbca5805",
        "IPY_MODEL_f6cee12cae384fdf8151f374c782dc47",
        "IPY_MODEL_4211515a6bf04c92bb3809f65dd01cf0",
        "IPY_MODEL_e8d32649a45848bbb6bdb2bdace2f7bb"
       ],
       "layout": "IPY_MODEL_6c9fa7c0c64d4dfba716ec3c23faf46f"
      }
     },
     "9760baa122cd4826a720f309adfd722f": {
      "model_module": "@jupyter-widgets/controls",
      "model_module_version": "1.5.0",
      "model_name": "DescriptionStyleModel",
      "state": {
       "description_width": ""
      }
     },
     "979ff44005f04d94860bd1c403687779": {
      "model_module": "@jupyter-widgets/controls",
      "model_module_version": "1.5.0",
      "model_name": "ProgressStyleModel",
      "state": {
       "description_width": ""
      }
     },
     "97a063776a824ac094d99e4a0eda431b": {
      "model_module": "@jupyter-widgets/base",
      "model_module_version": "1.2.0",
      "model_name": "LayoutModel",
      "state": {}
     },
     "97a39240e17045e2a8dc2d676f5fe726": {
      "model_module": "@jupyter-widgets/controls",
      "model_module_version": "1.5.0",
      "model_name": "DescriptionStyleModel",
      "state": {
       "description_width": ""
      }
     },
     "97d2b640da89497a86db14e7db777b59": {
      "model_module": "@jupyter-widgets/base",
      "model_module_version": "1.2.0",
      "model_name": "LayoutModel",
      "state": {}
     },
     "97d683354a024a98bdfd13bd5cf530d8": {
      "model_module": "@jupyter-widgets/base",
      "model_module_version": "1.2.0",
      "model_name": "LayoutModel",
      "state": {
       "grid_area": "widget016"
      }
     },
     "97f89fddca8240638abfd3b88fe997ea": {
      "model_module": "@jupyter-widgets/controls",
      "model_module_version": "1.5.0",
      "model_name": "DescriptionStyleModel",
      "state": {
       "description_width": ""
      }
     },
     "981aef9d7c0e4c0e9462f9ad23f4b2ac": {
      "model_module": "@jupyter-widgets/controls",
      "model_module_version": "1.5.0",
      "model_name": "DescriptionStyleModel",
      "state": {
       "description_width": ""
      }
     },
     "982c5e8a95dd4e8e9af563e2ffa1b603": {
      "model_module": "@jupyter-widgets/controls",
      "model_module_version": "1.5.0",
      "model_name": "ProgressStyleModel",
      "state": {
       "description_width": ""
      }
     },
     "9849accf4e0249e5b83ee6eefedf96aa": {
      "model_module": "@jupyter-widgets/controls",
      "model_module_version": "1.5.0",
      "model_name": "GridBoxModel",
      "state": {
       "children": [
        "IPY_MODEL_e7db036561f9410eabd31d9e18253c59"
       ],
       "layout": "IPY_MODEL_ded5fc21a7b949b180db5b83caa51635"
      }
     },
     "984c39eb039445e0bb35d7e9d8ddeabe": {
      "model_module": "@jupyter-widgets/controls",
      "model_module_version": "1.5.0",
      "model_name": "ButtonModel",
      "state": {
       "button_style": "danger",
       "description": "High cardinality",
       "disabled": true,
       "layout": "IPY_MODEL_531b400071fa44b7b3088631b8047aed",
       "style": "IPY_MODEL_2685392c194146e68cb2625da5e20454"
      }
     },
     "98c809c0ca734b448ec9b734ae62da86": {
      "model_module": "@jupyter-widgets/base",
      "model_module_version": "1.2.0",
      "model_name": "LayoutModel",
      "state": {
       "grid_area": "widget004"
      }
     },
     "98d0e0ea7cbf4b90b621e498c5ceca1d": {
      "model_module": "@jupyter-widgets/base",
      "model_module_version": "1.2.0",
      "model_name": "LayoutModel",
      "state": {}
     },
     "98e69fac6ea341d7b5fe897de167a67e": {
      "model_module": "@jupyter-widgets/controls",
      "model_module_version": "1.5.0",
      "model_name": "HTMLModel",
      "state": {
       "layout": "IPY_MODEL_372eecb9debf4dc78698b6df776cf710",
       "style": "IPY_MODEL_f61124f3888f4040a6bbfd8aafa646ec",
       "value": "<a class=\"anchor\" href=\"#pp_var_-5018031239419449836\"><code>Project NO</code></a> has a high cardinality: 8433 distinct values"
      }
     },
     "993482bb344f478fa5bc214bf707e7f6": {
      "model_module": "@jupyter-widgets/controls",
      "model_module_version": "1.5.0",
      "model_name": "LabelModel",
      "state": {
       "layout": "IPY_MODEL_00d161837fef4847874ae0278fa6f8a5",
       "style": "IPY_MODEL_e7054bdf484846a6b1a5cd0d1c526e28",
       "value": "550"
      }
     },
     "99c578a2fee84a3896f33e91cf5da062": {
      "model_module": "@jupyter-widgets/controls",
      "model_module_version": "1.5.0",
      "model_name": "ButtonStyleModel",
      "state": {}
     },
     "99c60cc5c11842fda8fbc5bf33e857c6": {
      "model_module": "@jupyter-widgets/base",
      "model_module_version": "1.2.0",
      "model_name": "LayoutModel",
      "state": {}
     },
     "99c74786a1544ad3915df637b537c608": {
      "model_module": "@jupyter-widgets/base",
      "model_module_version": "1.2.0",
      "model_name": "LayoutModel",
      "state": {}
     },
     "9a2434f3f1b2460da8bdff90d3eda919": {
      "model_module": "@jupyter-widgets/controls",
      "model_module_version": "1.5.0",
      "model_name": "DescriptionStyleModel",
      "state": {
       "description_width": ""
      }
     },
     "9a4333e6bdd144aeb0609a3c5542ec1a": {
      "model_module": "@jupyter-widgets/controls",
      "model_module_version": "1.5.0",
      "model_name": "DescriptionStyleModel",
      "state": {
       "description_width": ""
      }
     },
     "9a4cfd41ca2940a9b562c15c5008b7b6": {
      "model_module": "@jupyter-widgets/base",
      "model_module_version": "1.2.0",
      "model_name": "LayoutModel",
      "state": {
       "grid_area": "widget002"
      }
     },
     "9a67e270a4334a749a5cbc6096cb2247": {
      "model_module": "@jupyter-widgets/controls",
      "model_module_version": "1.5.0",
      "model_name": "VBoxModel",
      "state": {
       "children": [
        "IPY_MODEL_b364ca7154474aa8836811d96cf98eb5"
       ],
       "layout": "IPY_MODEL_fe554b6b13bf4eef80e0b421aa188339"
      }
     },
     "9a7c8fabf2ba4120a311383704157721": {
      "model_module": "@jupyter-widgets/controls",
      "model_module_version": "1.5.0",
      "model_name": "DescriptionStyleModel",
      "state": {
       "description_width": ""
      }
     },
     "9acdeeae644b46fcbba97bfb6975fd99": {
      "model_module": "@jupyter-widgets/controls",
      "model_module_version": "1.5.0",
      "model_name": "HTMLModel",
      "state": {
       "layout": "IPY_MODEL_8183512e3dee4441a66796998876307a",
       "style": "IPY_MODEL_6d78a400903f492fadda12d968304f46",
       "value": "<a class=\"anchor\" href=\"#pp_var_7942779095917163252\"><code>Agency</code></a> has a high cardinality: 716 distinct values"
      }
     },
     "9addf6502a4e4c14bdf7f02dcfc57ceb": {
      "model_module": "@jupyter-widgets/controls",
      "model_module_version": "1.5.0",
      "model_name": "HTMLModel",
      "state": {
       "layout": "IPY_MODEL_f3fd5867b77b440d95f64caf24ccdc67",
       "style": "IPY_MODEL_78bf297b6f674a0fa4bc94cfbf3cd074",
       "value": "1st row"
      }
     },
     "9aedd349251a4a93adbe67e5036aec7d": {
      "model_module": "@jupyter-widgets/controls",
      "model_module_version": "1.5.0",
      "model_name": "ButtonModel",
      "state": {
       "button_style": "warning",
       "description": "Unsupported",
       "disabled": true,
       "layout": "IPY_MODEL_e6e86f3e2a324a18877fdce8d75bed76",
       "style": "IPY_MODEL_22f679c5cc9b43068c00e97090dbb4c8"
      }
     },
     "9b00cd0450884b01889e6c2faa255c49": {
      "model_module": "@jupyter-widgets/controls",
      "model_module_version": "1.5.0",
      "model_name": "HTMLModel",
      "state": {
       "layout": "IPY_MODEL_04f148edd0e14bed8303ce5664a4ce5c",
       "style": "IPY_MODEL_c42f11c398974a448fd35d35b425e561",
       "value": "168.8 KiB"
      }
     },
     "9b1e871f511746428521f7adf98b2456": {
      "model_module": "@jupyter-widgets/controls",
      "model_module_version": "1.5.0",
      "model_name": "VBoxModel",
      "state": {
       "children": [
        "IPY_MODEL_1a126a0e85f74d85b12558547acb4140"
       ],
       "layout": "IPY_MODEL_d7d713f6261341d487ef23b646ef3610"
      }
     },
     "9b1fb104ae3f453c85ccc8027d3aed8f": {
      "model_module": "@jupyter-widgets/controls",
      "model_module_version": "1.5.0",
      "model_name": "DescriptionStyleModel",
      "state": {
       "description_width": ""
      }
     },
     "9b21ede96421409d8a3523c176697fbe": {
      "model_module": "@jupyter-widgets/controls",
      "model_module_version": "1.5.0",
      "model_name": "HTMLModel",
      "state": {
       "layout": "IPY_MODEL_adb067ec2f274dcba97dcafae8786353",
       "style": "IPY_MODEL_10a9336c992648a7af954633860f8f45",
       "value": "<a class=\"anchor\" href=\"#pp_var_4970081654142015710\"><code>Date Request Initiated</code></a> has 10556 (48.9%) missing values"
      }
     },
     "9bae1b8611a24ba8bf499513ca098948": {
      "model_module": "@jupyter-widgets/controls",
      "model_module_version": "1.5.0",
      "model_name": "DescriptionStyleModel",
      "state": {
       "description_width": ""
      }
     },
     "9c22615b7b3845a886bc0663a09abdc6": {
      "model_module": "@jupyter-widgets/base",
      "model_module_version": "1.2.0",
      "model_name": "LayoutModel",
      "state": {}
     },
     "9c4092475f5e488080e8ada06355a79f": {
      "model_module": "@jupyter-widgets/controls",
      "model_module_version": "1.5.0",
      "model_name": "ButtonModel",
      "state": {
       "button_style": "warning",
       "description": "Unsupported",
       "disabled": true,
       "layout": "IPY_MODEL_5db3c9048fbf45158a48e78542635537",
       "style": "IPY_MODEL_72a4c911776a4f11abc89d04c7750dc6"
      }
     },
     "9c498029250d41f0bd70cc8b92a2dbb9": {
      "model_module": "@jupyter-widgets/controls",
      "model_module_version": "1.5.0",
      "model_name": "VBoxModel",
      "state": {
       "children": [
        "IPY_MODEL_470c0c6118f04ca19562059a1ba6fc00",
        "IPY_MODEL_d6abc8d81b114604a42f9f58f2f1b1f9",
        "IPY_MODEL_5722a385480e4127a7764264ea38a2a1",
        "IPY_MODEL_7dbdc818525c40fcb7807c41ec7423e8",
        "IPY_MODEL_82b070b3beca4a78bcb6efcbe9897087"
       ],
       "layout": "IPY_MODEL_263656800f0242908f017a523bff4e10"
      }
     },
     "9c544507567146f3a5cc29df1290076d": {
      "model_module": "@jupyter-widgets/controls",
      "model_module_version": "1.5.0",
      "model_name": "DescriptionStyleModel",
      "state": {
       "description_width": ""
      }
     },
     "9c79e6bfdc8d4cb9a2cb58b871389bcf": {
      "model_module": "@jupyter-widgets/base",
      "model_module_version": "1.2.0",
      "model_name": "LayoutModel",
      "state": {
       "grid_area": "widget005"
      }
     },
     "9cc71cb8e6ad473aa2c4220ac544e73c": {
      "model_module": "@jupyter-widgets/base",
      "model_module_version": "1.2.0",
      "model_name": "LayoutModel",
      "state": {}
     },
     "9cef7b5f870d487ca60597e9a21120e3": {
      "model_module": "@jupyter-widgets/controls",
      "model_module_version": "1.5.0",
      "model_name": "HTMLModel",
      "state": {
       "layout": "IPY_MODEL_5e9411c17a994e698e4abfeb30eed55a",
       "style": "IPY_MODEL_b1a9e956bac94b739664351869e7687d",
       "value": "11"
      }
     },
     "9d3fee8de0f149069c758a9b05b96d04": {
      "model_module": "@jupyter-widgets/controls",
      "model_module_version": "1.5.0",
      "model_name": "GridBoxModel",
      "state": {
       "children": [
        "IPY_MODEL_f265688257fe4ddc81f50238bfec8168",
        "IPY_MODEL_21f641cc559a4fa0ab1e9beb3e4cb8ed",
        "IPY_MODEL_2870dbf2174f444ea88e0666b0540b04",
        "IPY_MODEL_b7b0c7f3c0d14c83be8b83f648dd941b",
        "IPY_MODEL_22a768e0d554443b8e04375aa08c1431",
        "IPY_MODEL_993482bb344f478fa5bc214bf707e7f6",
        "IPY_MODEL_f5f09c33dcd14bf49dcdd9716a8abe81",
        "IPY_MODEL_14c77dc5b9d4441994226d272ba33a7c",
        "IPY_MODEL_10d2d4ffa5de485e9fef38229dcea0ff",
        "IPY_MODEL_9d9666f26232495fbc33421fd8782121",
        "IPY_MODEL_75e4185af3aa43a8a613b76060063ec0",
        "IPY_MODEL_4684773f35ea4673b938366efa7b8058",
        "IPY_MODEL_d535d22880524371ae78270fe12ba2b7",
        "IPY_MODEL_d0e1215670ef4ef6a19b5429f1b01793",
        "IPY_MODEL_484f098593144e95926610b3ce339326",
        "IPY_MODEL_4eefe26726854960b992bcb1fed5bd74",
        "IPY_MODEL_a56d72928a114f5b80f782e0a862f372",
        "IPY_MODEL_4de6d8c7b4e6405eb401ff7097d639aa"
       ],
       "layout": "IPY_MODEL_57ad37e3d2834c3d95186f07eb11fb8e"
      }
     },
     "9d6b9195d52944528dfb6bc5a09a1c55": {
      "model_module": "@jupyter-widgets/controls",
      "model_module_version": "1.5.0",
      "model_name": "HTMLModel",
      "state": {
       "layout": "IPY_MODEL_ad284d034e854f289880e070d8709f2b",
       "style": "IPY_MODEL_d4211942cb9644a3bdc6f827063ccc4f",
       "value": "Unique (%)"
      }
     },
     "9d72891241544af88750716b753eda68": {
      "model_module": "@jupyter-widgets/controls",
      "model_module_version": "1.5.0",
      "model_name": "ButtonModel",
      "state": {
       "description": "High correlation",
       "disabled": true,
       "layout": "IPY_MODEL_d45dd84608a44d7c9c449d7b8b1d679e",
       "style": "IPY_MODEL_e8de25dda09f4b2ba5daeabc1d0e60e5"
      }
     },
     "9d82528a0edf4d09880fd76149a44dbe": {
      "model_module": "@jupyter-widgets/controls",
      "model_module_version": "1.5.0",
      "model_name": "ButtonModel",
      "state": {
       "button_style": "info",
       "description": "Zeros",
       "disabled": true,
       "layout": "IPY_MODEL_5ccbb7ea9a874d949d09a065758e22ef",
       "style": "IPY_MODEL_d209953eae1c4cb1931d274dc6e6ec80"
      }
     },
     "9d9666f26232495fbc33421fd8782121": {
      "model_module": "@jupyter-widgets/controls",
      "model_module_version": "1.5.0",
      "model_name": "LabelModel",
      "state": {
       "layout": "IPY_MODEL_5a58cf905b0244b0b935fe97ea51cef0",
       "style": "IPY_MODEL_659105261af34cf08a1a81dfe907d73b",
       "value": "HQ"
      }
     },
     "9db912f63e8d4c299c2e989a18841b99": {
      "model_module": "@jupyter-widgets/controls",
      "model_module_version": "1.5.0",
      "model_name": "FloatProgressModel",
      "state": {
       "layout": "IPY_MODEL_25f36b0829cb428381ccd2aff04b678d",
       "max": 22144,
       "style": "IPY_MODEL_5c082129249b4f05864f7d1f58b9f28b",
       "value": 85
      }
     },
     "9dea05c2b17544b599008bb6bb9c4b43": {
      "model_module": "@jupyter-widgets/base",
      "model_module_version": "1.2.0",
      "model_name": "LayoutModel",
      "state": {}
     },
     "9def75497ce3410cb2a07763a6ea7713": {
      "model_module": "@jupyter-widgets/controls",
      "model_module_version": "1.5.0",
      "model_name": "ButtonStyleModel",
      "state": {}
     },
     "9df58072f9564a79af9c1396648bd5e8": {
      "model_module": "@jupyter-widgets/base",
      "model_module_version": "1.2.0",
      "model_name": "LayoutModel",
      "state": {
       "grid_area": "widget009"
      }
     },
     "9e343cd4425d4dee990b028c3a7fa7c5": {
      "model_module": "@jupyter-widgets/controls",
      "model_module_version": "1.5.0",
      "model_name": "HTMLModel",
      "state": {
       "layout": "IPY_MODEL_1a07312d5ef34dc4ae88576515b6461f",
       "style": "IPY_MODEL_f958db37dbec45709e109089efeed384",
       "value": "Obligated"
      }
     },
     "9e686c4619524d1b9337dfa2b093a7a2": {
      "model_module": "@jupyter-widgets/controls",
      "model_module_version": "1.5.0",
      "model_name": "DescriptionStyleModel",
      "state": {
       "description_width": ""
      }
     },
     "9e916d63dba64963a49e07f2feaca16e": {
      "model_module": "@jupyter-widgets/controls",
      "model_module_version": "1.5.0",
      "model_name": "DescriptionStyleModel",
      "state": {
       "description_width": ""
      }
     },
     "9ef6c067ecba4999ad1be88ab21ff69b": {
      "model_module": "@jupyter-widgets/controls",
      "model_module_version": "1.5.0",
      "model_name": "DescriptionStyleModel",
      "state": {
       "description_width": ""
      }
     },
     "9f63576887a540beae1fc4e5faa57cd2": {
      "model_module": "@jupyter-widgets/controls",
      "model_module_version": "1.5.0",
      "model_name": "DescriptionStyleModel",
      "state": {
       "description_width": ""
      }
     },
     "9faaaf18f6ce4af78f5cfc30ee45bc7d": {
      "model_module": "@jupyter-widgets/controls",
      "model_module_version": "1.5.0",
      "model_name": "ButtonStyleModel",
      "state": {}
     },
     "9fb5286c494e4f34a131101e2ede3d8e": {
      "model_module": "@jupyter-widgets/controls",
      "model_module_version": "1.5.0",
      "model_name": "HTMLModel",
      "state": {
       "layout": "IPY_MODEL_45b30f70f60e4ca6958dd29a15ae6f6b",
       "style": "IPY_MODEL_ff1cde31577041fc9b4fa73ab4049e43",
       "value": "116776"
      }
     },
     "9fbca3da36e2494e9cfa90635737a371": {
      "model_module": "@jupyter-widgets/controls",
      "model_module_version": "1.5.0",
      "model_name": "HTMLModel",
      "state": {
       "layout": "IPY_MODEL_d004cdc7b7544bb790800d7dd3dd1505",
       "style": "IPY_MODEL_e9a02611a6934a638f911bd3ee757dbe",
       "value": "11"
      }
     },
     "a01317d5650b4d8d9c8678639ff7dce6": {
      "model_module": "@jupyter-widgets/controls",
      "model_module_version": "1.5.0",
      "model_name": "VBoxModel",
      "state": {
       "children": [
        "IPY_MODEL_bcc4c4ebe47c4c1ab9b2cc3789301af9",
        "IPY_MODEL_8fdc94041fc94ee4beac173939ad74a6"
       ],
       "layout": "IPY_MODEL_c743c7d1ed8642a79494fea1e8bcc112"
      }
     },
     "a03b3cb0cc1643ea923714078a22f571": {
      "model_module": "@jupyter-widgets/controls",
      "model_module_version": "1.5.0",
      "model_name": "HTMLModel",
      "state": {
       "layout": "IPY_MODEL_be59f7a8b8c24e3ba3ed4922de16be1a",
       "style": "IPY_MODEL_e94972dd4ff1491a9b84a0bb253b861b",
       "value": "0"
      }
     },
     "a0408c3ca2d740f0bea4402518ad5d49": {
      "model_module": "@jupyter-widgets/base",
      "model_module_version": "1.2.0",
      "model_name": "LayoutModel",
      "state": {}
     },
     "a085969efcff4865b6d7ec395d93abe9": {
      "model_module": "@jupyter-widgets/controls",
      "model_module_version": "1.5.0",
      "model_name": "DescriptionStyleModel",
      "state": {
       "description_width": ""
      }
     },
     "a0975ff50e954425a3a6479bc45f86cd": {
      "model_module": "@jupyter-widgets/base",
      "model_module_version": "1.2.0",
      "model_name": "LayoutModel",
      "state": {}
     },
     "a0ccca3004a344b48b29d75d15152b91": {
      "model_module": "@jupyter-widgets/base",
      "model_module_version": "1.2.0",
      "model_name": "LayoutModel",
      "state": {}
     },
     "a0ebbe9d7d364faf9cde8c020da3fb58": {
      "model_module": "@jupyter-widgets/controls",
      "model_module_version": "1.5.0",
      "model_name": "HTMLModel",
      "state": {
       "layout": "IPY_MODEL_7d55bfed477a4419bcebbc1acc3d34ba",
       "style": "IPY_MODEL_2fce81ce970a4e7289245c49feb39589",
       "value": "Obligated"
      }
     },
     "a10b6ff17a514ab19988d4c38ab7895a": {
      "model_module": "@jupyter-widgets/controls",
      "model_module_version": "1.5.0",
      "model_name": "HTMLModel",
      "state": {
       "layout": "IPY_MODEL_c42fc4a2704145dbaf4afedd48dd715b",
       "style": "IPY_MODEL_7e41e954f1c5426da71ca610bac2b797",
       "value": "<h4>Common Values</h4>"
      }
     },
     "a128a87a1f1247118d57f264026ef2b4": {
      "model_module": "@jupyter-widgets/controls",
      "model_module_version": "1.5.0",
      "model_name": "DescriptionStyleModel",
      "state": {
       "description_width": ""
      }
     },
     "a1510135f3114a0ebd23ca2cedb522e5": {
      "model_module": "@jupyter-widgets/base",
      "model_module_version": "1.2.0",
      "model_name": "LayoutModel",
      "state": {}
     },
     "a1c08233a7634418a9066ab115174995": {
      "model_module": "@jupyter-widgets/controls",
      "model_module_version": "1.5.0",
      "model_name": "LabelModel",
      "state": {
       "layout": "IPY_MODEL_9dea05c2b17544b599008bb6bb9c4b43",
       "style": "IPY_MODEL_8edb3921770b488583664ac2157a8556",
       "value": "20826"
      }
     },
     "a1cd0d069ebf413fa70a16f90ed47a33": {
      "model_module": "@jupyter-widgets/controls",
      "model_module_version": "1.5.0",
      "model_name": "DescriptionStyleModel",
      "state": {
       "description_width": ""
      }
     },
     "a1dd9a3b98a44efdb8390935f97d47fd": {
      "model_module": "@jupyter-widgets/controls",
      "model_module_version": "1.5.0",
      "model_name": "HTMLModel",
      "state": {
       "layout": "IPY_MODEL_4c664a1e891543eea8181ee9e82973bd",
       "style": "IPY_MODEL_a75c1159fcbb4f8d81ddad9bca6d742d",
       "value": "9.11521719"
      }
     },
     "a1ed0ea089804c92895012d2f511292a": {
      "model_module": "@jupyter-widgets/base",
      "model_module_version": "1.2.0",
      "model_name": "LayoutModel",
      "state": {}
     },
     "a22f8b38602e401fafca7ed8702d1f3b": {
      "model_module": "@jupyter-widgets/controls",
      "model_module_version": "1.5.0",
      "model_name": "HTMLModel",
      "state": {
       "layout": "IPY_MODEL_ffce8b69cd674bcba16d198f4108654e",
       "style": "IPY_MODEL_1f12f75731c04d908cde0efc8ac8dcb3",
       "value": "15"
      }
     },
     "a231035da8ed468a9173e048eb8a9031": {
      "model_module": "@jupyter-widgets/controls",
      "model_module_version": "1.5.0",
      "model_name": "DescriptionStyleModel",
      "state": {
       "description_width": ""
      }
     },
     "a2a61f5110764739a426aa48cb698a36": {
      "model_module": "@jupyter-widgets/controls",
      "model_module_version": "1.5.0",
      "model_name": "HTMLModel",
      "state": {
       "layout": "IPY_MODEL_913dc39c250548a48f2372ac4db6b204",
       "style": "IPY_MODEL_a1cd0d069ebf413fa70a16f90ed47a33",
       "value": "Mean length"
      }
     },
     "a2c8734a72f94f129e65bdd9d5278300": {
      "model_module": "@jupyter-widgets/controls",
      "model_module_version": "1.5.0",
      "model_name": "GridBoxModel",
      "state": {
       "children": [
        "IPY_MODEL_429267b184014eb9b3af9d443502c95e",
        "IPY_MODEL_a01317d5650b4d8d9c8678639ff7dce6",
        "IPY_MODEL_38131b21ec184abe876429f9897c528c"
       ],
       "layout": "IPY_MODEL_498f18ee3c454bc4a1d933d5f22ba40b"
      }
     },
     "a2ed60fe906a49d3a0e09985d64f52fb": {
      "model_module": "@jupyter-widgets/base",
      "model_module_version": "1.2.0",
      "model_name": "LayoutModel",
      "state": {}
     },
     "a30d05b39bdf4792a34b135c5a477955": {
      "model_module": "@jupyter-widgets/controls",
      "model_module_version": "1.5.0",
      "model_name": "GridBoxModel",
      "state": {
       "children": [
        "IPY_MODEL_bc2edfb7ba9840da825f989a9198a235",
        "IPY_MODEL_f12a233de1d44d8e9847a97a3a4dc847",
        "IPY_MODEL_98e69fac6ea341d7b5fe897de167a67e",
        "IPY_MODEL_984c39eb039445e0bb35d7e9d8ddeabe",
        "IPY_MODEL_84a5f3d9a68441c0a5a820468e4c12c0",
        "IPY_MODEL_093feb059aec4fe3931fb75d2700c1a7",
        "IPY_MODEL_a67aa1ae07e84bea8f088431764ced98",
        "IPY_MODEL_65834a5cc795436282c7ef4ba75e6213",
        "IPY_MODEL_dc34e504a8864bc2a734846b41788da4",
        "IPY_MODEL_04f162eef1454e3ba8316690744ec450",
        "IPY_MODEL_40b75f9e08c5417f99bea7eba15d9aa1",
        "IPY_MODEL_eae031fabe714120a6b4317a4df98e12",
        "IPY_MODEL_619dcf7257dc4c508a76fda033b34c00",
        "IPY_MODEL_97280b5069344e17ad8a448947987ac5",
        "IPY_MODEL_4d1cfa1494ea4ec289fb602826db284a",
        "IPY_MODEL_01210a4518094a649e3e980bf65b6b2a",
        "IPY_MODEL_2ef88e3422934b21ad08d48371e92c60",
        "IPY_MODEL_c944f98497fe434d84b2d2bd8e2b6318",
        "IPY_MODEL_10e63f233cd644a2904e7138ad1a0192",
        "IPY_MODEL_d86ebe07892246079e9eb7336b61b573",
        "IPY_MODEL_ba3f5f960cac4b3193d877843dcc682d",
        "IPY_MODEL_e762dabdf14b46e6b9406a1adc45f60c",
        "IPY_MODEL_5ebedbc8b5b1409aad5db5dd9013b452",
        "IPY_MODEL_5115396463c3459eb942c4824ad837d3",
        "IPY_MODEL_1c22bdddc1b545c8935b9c76dbe6b813",
        "IPY_MODEL_9d72891241544af88750716b753eda68",
        "IPY_MODEL_17831687b4fe4be7a2922f86746c93ff",
        "IPY_MODEL_9358ed02a4924307804b4772219efa6c",
        "IPY_MODEL_ceb87687b9164303b3d76b7a9d142a1b",
        "IPY_MODEL_b97411ae5ba24757bee04902f7951941",
        "IPY_MODEL_731f052863804be3a074046649f5d5d8",
        "IPY_MODEL_5fd8f0cb7cfe44f195982479676522e9",
        "IPY_MODEL_6ed9f4e4731e47c9b683b8e6b3fd0533",
        "IPY_MODEL_526e5b2f14cc42779a695a8496e03c84",
        "IPY_MODEL_49ab086479164c92848b226cddaae8c7",
        "IPY_MODEL_893accb56973435381c071f076b65cc2",
        "IPY_MODEL_0eb9a94a6b0b4c928427b8c7c7600082",
        "IPY_MODEL_05806d4552dd40358d29801e13601235",
        "IPY_MODEL_bab207f9a822460e9431f99c96f39ae0",
        "IPY_MODEL_5f6a60e9213f46d09135ad92944792f2",
        "IPY_MODEL_101f5277449442eaa60ca7d5342fd7fc",
        "IPY_MODEL_4dfe845912494ccab8c7aa077f3efa31",
        "IPY_MODEL_be6424054bd44398b7aad123c4d4ba34",
        "IPY_MODEL_e786cb23277a4ec3a1e2266327436e94",
        "IPY_MODEL_b849061ba37946c2a0436dabce3cbe82",
        "IPY_MODEL_1de48e8e689b4e7293aa7e959b0b1c72",
        "IPY_MODEL_511f0acf36e54eb0b274cabba9b242bf",
        "IPY_MODEL_8f3c92284ab74219bcb60d0f464efb36",
        "IPY_MODEL_fd469f2496ab4741bcf44bcd5de222f9",
        "IPY_MODEL_36625869230142578d19b9f872f6e855",
        "IPY_MODEL_e9caef7af5694d148de094449eed7bb1",
        "IPY_MODEL_87fb6bb17813449d9aef44f643bfe38c",
        "IPY_MODEL_93fba765fdd24352b5fface93f0d4672",
        "IPY_MODEL_78795ed72e294739aac33e5b42adbd85",
        "IPY_MODEL_3d43f944a83a4383b0d804f0b209ed1d",
        "IPY_MODEL_533b05a15b81478a942dc6d1e21f5835",
        "IPY_MODEL_40e5bcea067545fbbf6a6362b83ff533",
        "IPY_MODEL_f911a6101cf34134841f9c60fd3f1f0c",
        "IPY_MODEL_d1ead1fd3ede4077a4046b753e276f33",
        "IPY_MODEL_52411bd7780f4f4487bcc29797623e95",
        "IPY_MODEL_d0d9d1c16c7744bdae1b9adef158edbc",
        "IPY_MODEL_7d07193786df414c8df72dd822913b53",
        "IPY_MODEL_be7150fe6b914c89b765dc2d1e49f4cb",
        "IPY_MODEL_8d8c39c9ed6b42f58f90c777df3ebb37",
        "IPY_MODEL_f60d67f035bf4612a651b5fe58b1af36",
        "IPY_MODEL_8268554ee6474bd39a7901c0ba67ce5d",
        "IPY_MODEL_c8d759c70eb24c5fa195098b69475b36",
        "IPY_MODEL_4d748e9aa73a46bca5e3b4bf592da2a4",
        "IPY_MODEL_7de63a3452474fdd89886d93aae9eed1",
        "IPY_MODEL_6626a14c7775419e8a0dc7f1314e2ec0",
        "IPY_MODEL_922d30621bb1462198ccac37b1e12c3f",
        "IPY_MODEL_8f25f0df882f4910bf8a04da3b335717",
        "IPY_MODEL_7bd5df48b1ca4b19802ed9a6619ce2d9",
        "IPY_MODEL_58d38f578241494d98577534d319980e",
        "IPY_MODEL_c29d3a6a66bb41ed8a8bd559439dcc63",
        "IPY_MODEL_864503c3979e49c68fdc9b45e9466f35",
        "IPY_MODEL_c747ae1c1b33402497dd77b91670948b",
        "IPY_MODEL_daa95c88ca0e481583fd17ad54071bf7",
        "IPY_MODEL_ee9c329298d04c3b99a156f8feeaffbb",
        "IPY_MODEL_c9765deba799490ca15fbef2459ae54d",
        "IPY_MODEL_40407f68ed744a05a3e67968c57de4c6",
        "IPY_MODEL_9d82528a0edf4d09880fd76149a44dbe",
        "IPY_MODEL_8f23f7685320444b9aae8310a31b6621",
        "IPY_MODEL_8e244aec60874612bfa6ce6c6c860ec5"
       ],
       "layout": "IPY_MODEL_5e4fe65f5cc646aababbbced39b77029"
      }
     },
     "a31f02317e56402882eb7a9ea6e6b470": {
      "model_module": "@jupyter-widgets/controls",
      "model_module_version": "1.5.0",
      "model_name": "HTMLModel",
      "state": {
       "layout": "IPY_MODEL_0a21b19ba31d48d796bf6023f6b47f49",
       "style": "IPY_MODEL_2662df4702c34af89c2004d67f1d1c25",
       "value": "Number of observations"
      }
     },
     "a324bb6bcbce451ea7948d2c91c4a60b": {
      "model_module": "@jupyter-widgets/controls",
      "model_module_version": "1.5.0",
      "model_name": "DescriptionStyleModel",
      "state": {
       "description_width": ""
      }
     },
     "a33bceecc44d469ea50da7f26f77dddb": {
      "model_module": "@jupyter-widgets/base",
      "model_module_version": "1.2.0",
      "model_name": "LayoutModel",
      "state": {
       "grid_area": "widget010"
      }
     },
     "a349717ba6344ccba09548431ef97ceb": {
      "model_module": "@jupyter-widgets/base",
      "model_module_version": "1.2.0",
      "model_name": "LayoutModel",
      "state": {}
     },
     "a386e5708a6a4557aebf2bc15ba3c41e": {
      "model_module": "@jupyter-widgets/controls",
      "model_module_version": "1.5.0",
      "model_name": "HTMLModel",
      "state": {
       "layout": "IPY_MODEL_6207f72a0de24389a71e8a02fed9400c",
       "style": "IPY_MODEL_9a7c8fabf2ba4120a311383704157721",
       "value": "Number of observations"
      }
     },
     "a3aa169f868b45b5823953c1b103c56f": {
      "model_module": "@jupyter-widgets/controls",
      "model_module_version": "1.5.0",
      "model_name": "ButtonModel",
      "state": {
       "button_style": "danger",
       "description": "High cardinality",
       "disabled": true,
       "layout": "IPY_MODEL_eb5c33ed21cc49eeb929282d848c2eb6",
       "style": "IPY_MODEL_8b69c2f9b97b4b73a09b6facad0b2042"
      }
     },
     "a41910dcdd124020ab648652b9906b3f": {
      "model_module": "@jupyter-widgets/controls",
      "model_module_version": "1.5.0",
      "model_name": "DescriptionStyleModel",
      "state": {
       "description_width": ""
      }
     },
     "a4238e1abb274550acc0c1c1225f9dad": {
      "model_module": "@jupyter-widgets/controls",
      "model_module_version": "1.5.0",
      "model_name": "ProgressStyleModel",
      "state": {
       "description_width": ""
      }
     },
     "a43b1d147d8d45debe10d23afcaec7aa": {
      "model_module": "@jupyter-widgets/controls",
      "model_module_version": "1.5.0",
      "model_name": "FloatProgressModel",
      "state": {
       "layout": "IPY_MODEL_93ce4b0fe66c4bdba17f90f0f726b2b0",
       "max": 22144,
       "style": "IPY_MODEL_962295c00ce84bbabc4ea0b067390774",
       "value": 85
      }
     },
     "a453c6ed7c02442f821a1970ebf174c3": {
      "model_module": "@jupyter-widgets/base",
      "model_module_version": "1.2.0",
      "model_name": "LayoutModel",
      "state": {
       "grid_area": "widget007"
      }
     },
     "a49da1bfc16e47a0b0a2396d14c0f4b7": {
      "model_module": "@jupyter-widgets/controls",
      "model_module_version": "1.5.0",
      "model_name": "LabelModel",
      "state": {
       "layout": "IPY_MODEL_2dac0b9dfa9d4199ab0b5398faced2e1",
       "style": "IPY_MODEL_c6ad76fb0d234eb09527a7f9d43df11c",
       "value": "FTA Transferred"
      }
     },
     "a4bc40d32c7d48599d6e11e2fb506ad9": {
      "model_module": "@jupyter-widgets/controls",
      "model_module_version": "1.5.0",
      "model_name": "DescriptionStyleModel",
      "state": {
       "description_width": ""
      }
     },
     "a4c73d24f56f4352a9e2f49589468198": {
      "model_module": "@jupyter-widgets/controls",
      "model_module_version": "1.5.0",
      "model_name": "DescriptionStyleModel",
      "state": {
       "description_width": ""
      }
     },
     "a4cb30bec2824b3abcb37aad603a8944": {
      "model_module": "@jupyter-widgets/base",
      "model_module_version": "1.2.0",
      "model_name": "LayoutModel",
      "state": {}
     },
     "a5076463788543c6b2aa5bef8487d129": {
      "model_module": "@jupyter-widgets/controls",
      "model_module_version": "1.5.0",
      "model_name": "DescriptionStyleModel",
      "state": {
       "description_width": ""
      }
     },
     "a56d72928a114f5b80f782e0a862f372": {
      "model_module": "@jupyter-widgets/controls",
      "model_module_version": "1.5.0",
      "model_name": "FloatProgressModel",
      "state": {
       "layout": "IPY_MODEL_8486e03051f84ecda11f028cff2d9c87",
       "max": 21594,
       "style": "IPY_MODEL_0145ef02cc6047cda483f2369d90ed81",
       "value": 2
      }
     },
     "a589d6e9088b480495fb65a32b4c9cb5": {
      "model_module": "@jupyter-widgets/base",
      "model_module_version": "1.2.0",
      "model_name": "LayoutModel",
      "state": {}
     },
     "a59276c0bfdd4836b33ea25c37aa0d2f": {
      "model_module": "@jupyter-widgets/controls",
      "model_module_version": "1.5.0",
      "model_name": "HTMLModel",
      "state": {
       "layout": "IPY_MODEL_bc5375289fcf4221b6cc990ccf9c7fb4",
       "style": "IPY_MODEL_de709c8bf229477a9b1ce7d13a8b100c",
       "value": "2022-03-09 22:35:18.249181"
      }
     },
     "a5acf72a4f5e4a0eb2670ad82acbee22": {
      "model_module": "@jupyter-widgets/controls",
      "model_module_version": "1.5.0",
      "model_name": "ButtonStyleModel",
      "state": {}
     },
     "a5ba3a8ed5754d18a18bc40166d20711": {
      "model_module": "@jupyter-widgets/controls",
      "model_module_version": "1.5.0",
      "model_name": "HTMLModel",
      "state": {
       "layout": "IPY_MODEL_8a8b13919f7e465e99071ee214ba2bdd",
       "style": "IPY_MODEL_81b4de61656e4f8c97b122c8977787ed",
       "value": "Summarize dataset: 100%"
      }
     },
     "a60b61bfd38d42cba9f34f81c7e30912": {
      "model_module": "@jupyter-widgets/controls",
      "model_module_version": "1.5.0",
      "model_name": "DescriptionStyleModel",
      "state": {
       "description_width": ""
      }
     },
     "a60bc0526bf04683a67fa2eb22f46d2a": {
      "model_module": "@jupyter-widgets/controls",
      "model_module_version": "1.5.0",
      "model_name": "DescriptionStyleModel",
      "state": {
       "description_width": ""
      }
     },
     "a63413519462401d9175ba275b6de7ad": {
      "model_module": "@jupyter-widgets/controls",
      "model_module_version": "1.5.0",
      "model_name": "HTMLModel",
      "state": {
       "layout": "IPY_MODEL_d5063bbbfb874f1d973d3f43ca9a3698",
       "style": "IPY_MODEL_7b79678aa478435599c50e571893a199",
       "value": "<a class=\"anchor\" href=\"#pp_var_-5018031239419449836\"><code>Project NO</code></a> has a high cardinality: 8433 distinct values"
      }
     },
     "a6467350481d42079c1c3de790dc5ee3": {
      "model_module": "@jupyter-widgets/base",
      "model_module_version": "1.2.0",
      "model_name": "LayoutModel",
      "state": {
       "grid_area": "widget014"
      }
     },
     "a65ccc6c844a4710bf733b6c932dee84": {
      "model_module": "@jupyter-widgets/controls",
      "model_module_version": "1.5.0",
      "model_name": "HTMLModel",
      "state": {
       "layout": "IPY_MODEL_9c79e6bfdc8d4cb9a2cb58b871389bcf",
       "style": "IPY_MODEL_0b3911a11afb46bfbd3b7a2b1f1043d1",
       "value": "Distinct categories"
      }
     },
     "a67aa1ae07e84bea8f088431764ced98": {
      "model_module": "@jupyter-widgets/controls",
      "model_module_version": "1.5.0",
      "model_name": "HTMLModel",
      "state": {
       "layout": "IPY_MODEL_a7035eec39c748f799859f8ae2c7a6ca",
       "style": "IPY_MODEL_54740b23c81a45c4a7b8249d6142b219",
       "value": "<a class=\"anchor\" href=\"#pp_var_4855182975509944680\"><code>Status Comment</code></a> has a high cardinality: 71 distinct values"
      }
     },
     "a6ae373bca30485b9e43656f831ee497": {
      "model_module": "@jupyter-widgets/controls",
      "model_module_version": "1.5.0",
      "model_name": "HTMLModel",
      "state": {
       "layout": "IPY_MODEL_097d1aeea6e04b738a66ab94c57d4577",
       "style": "IPY_MODEL_06a2bb7ec7f542128a410b1d048f4132",
       "value": "<a class=\"anchor\" href=\"#pp_var_5133028204812945911\"><code>HQ processing Days</code></a> has 6197 (28.7%) zeros"
      }
     },
     "a6d41e0501aa42f8a4dff344ed6d93a5": {
      "model_module": "@jupyter-widgets/base",
      "model_module_version": "1.2.0",
      "model_name": "LayoutModel",
      "state": {
       "grid_template_areas": "\"widget001 widget002\"\n\"widget003 widget004\"\n\"widget005 widget006\"\n\"widget007 widget008\"\n\"widget009 widget010\"",
       "grid_template_columns": "repeat(2, 1fr)",
       "grid_template_rows": "repeat(5, 1fr)"
      }
     },
     "a7035eec39c748f799859f8ae2c7a6ca": {
      "model_module": "@jupyter-widgets/base",
      "model_module_version": "1.2.0",
      "model_name": "LayoutModel",
      "state": {}
     },
     "a7247f55454849698faf1e7ec2e00ce9": {
      "model_module": "@jupyter-widgets/controls",
      "model_module_version": "1.5.0",
      "model_name": "ButtonStyleModel",
      "state": {}
     },
     "a72959e190004ea5b3021d07b7467c63": {
      "model_module": "@jupyter-widgets/base",
      "model_module_version": "1.2.0",
      "model_name": "LayoutModel",
      "state": {}
     },
     "a74e53d921e74663b1f6fa9a287c1bc2": {
      "model_module": "@jupyter-widgets/controls",
      "model_module_version": "1.5.0",
      "model_name": "HTMLModel",
      "state": {
       "layout": "IPY_MODEL_46c7949cce8f470ca062bf31bca00e6c",
       "style": "IPY_MODEL_7fc8b7579d604f77904fab69b9372b97",
       "value": "1st row"
      }
     },
     "a75c1159fcbb4f8d81ddad9bca6d742d": {
      "model_module": "@jupyter-widgets/controls",
      "model_module_version": "1.5.0",
      "model_name": "DescriptionStyleModel",
      "state": {
       "description_width": ""
      }
     },
     "a75fbf5711ae49dfb81eeda3de62a505": {
      "model_module": "@jupyter-widgets/base",
      "model_module_version": "1.2.0",
      "model_name": "LayoutModel",
      "state": {
       "grid_area": "widget010"
      }
     },
     "a793dacf3dd64fbc94c07a33919bc532": {
      "model_module": "@jupyter-widgets/controls",
      "model_module_version": "1.5.0",
      "model_name": "DescriptionStyleModel",
      "state": {
       "description_width": ""
      }
     },
     "a7a85fc9fc4b4a4f83d3d8f1c1615833": {
      "model_module": "@jupyter-widgets/controls",
      "model_module_version": "1.5.0",
      "model_name": "HTMLModel",
      "state": {
       "layout": "IPY_MODEL_34504b127ffd4276b9a2d9c310438a68",
       "style": "IPY_MODEL_d4862d0194be43d88f2fe518b627b519",
       "value": "2"
      }
     },
     "a84d63c8f0334db3887a6fe7f75351fc": {
      "model_module": "@jupyter-widgets/controls",
      "model_module_version": "1.5.0",
      "model_name": "DescriptionStyleModel",
      "state": {
       "description_width": ""
      }
     },
     "a855dea8cba44b26a23515a7c3c6d3f8": {
      "model_module": "@jupyter-widgets/base",
      "model_module_version": "1.2.0",
      "model_name": "LayoutModel",
      "state": {
       "grid_area": "widget007"
      }
     },
     "a8688f6236114bae870ec6e16064a94b": {
      "model_module": "@jupyter-widgets/controls",
      "model_module_version": "1.5.0",
      "model_name": "FloatProgressModel",
      "state": {
       "description": "FTA Transferred",
       "layout": "IPY_MODEL_6726b524e7b140d59bbac3b6949fa332",
       "max": 21594,
       "style": "IPY_MODEL_dafd0030569f42c89d7ec91396ab8b62",
       "value": 550
      }
     },
     "a88a600c27244e8592a0b3c837bbde32": {
      "model_module": "@jupyter-widgets/controls",
      "model_module_version": "1.5.0",
      "model_name": "HTMLModel",
      "state": {
       "layout": "IPY_MODEL_80ecb1d844c6406daf441d88aa08aaaf",
       "style": "IPY_MODEL_11f7ccefff824be3b0978903a604d427",
       "value": "<a class=\"anchor\" href=\"#pp_var_4839277149140286481\"><code>Fed requested</code></a> has 6070 (28.1%) zeros"
      }
     },
     "a8ac41c57cac4bd7acfb4f123fb8ecb6": {
      "model_module": "@jupyter-widgets/base",
      "model_module_version": "1.2.0",
      "model_name": "LayoutModel",
      "state": {}
     },
     "a8c3312bcb644f4ba5311ff636781c2c": {
      "model_module": "@jupyter-widgets/base",
      "model_module_version": "1.2.0",
      "model_name": "LayoutModel",
      "state": {}
     },
     "a8c765c5dfd5457f95ad74e8d160a628": {
      "model_module": "@jupyter-widgets/controls",
      "model_module_version": "1.5.0",
      "model_name": "ButtonStyleModel",
      "state": {}
     },
     "a8de2fa5bd0a482b8846f6fb65154968": {
      "model_module": "@jupyter-widgets/base",
      "model_module_version": "1.2.0",
      "model_name": "LayoutModel",
      "state": {
       "grid_area": "widget011"
      }
     },
     "a90d3fcb37a44a5592589beb644fe52b": {
      "model_module": "@jupyter-widgets/controls",
      "model_module_version": "1.5.0",
      "model_name": "DescriptionStyleModel",
      "state": {
       "description_width": ""
      }
     },
     "a9572e31afc34091a8027adb3b536ed5": {
      "model_module": "@jupyter-widgets/controls",
      "model_module_version": "1.5.0",
      "model_name": "DescriptionStyleModel",
      "state": {
       "description_width": ""
      }
     },
     "a95f78e1b50b480db199354ddf60bc73": {
      "model_module": "@jupyter-widgets/controls",
      "model_module_version": "1.5.0",
      "model_name": "ProgressStyleModel",
      "state": {
       "description_width": ""
      }
     },
     "a96483551081466191b6719fe2d0a27d": {
      "model_module": "@jupyter-widgets/base",
      "model_module_version": "1.2.0",
      "model_name": "LayoutModel",
      "state": {
       "grid_area": "widget008"
      }
     },
     "aa039148bfeb428dbcb3b0ff92c801b6": {
      "model_module": "@jupyter-widgets/controls",
      "model_module_version": "1.5.0",
      "model_name": "DescriptionStyleModel",
      "state": {
       "description_width": ""
      }
     },
     "aa0d8d971f464960bf20a9b2c7d93cd9": {
      "model_module": "@jupyter-widgets/controls",
      "model_module_version": "1.5.0",
      "model_name": "DescriptionStyleModel",
      "state": {
       "description_width": ""
      }
     },
     "aa672ecc9b9c43b8b95029ce9952a503": {
      "model_module": "@jupyter-widgets/controls",
      "model_module_version": "1.5.0",
      "model_name": "DescriptionStyleModel",
      "state": {
       "description_width": ""
      }
     },
     "aa993db7f29f4ca0826643a5d7ff1ff4": {
      "model_module": "@jupyter-widgets/controls",
      "model_module_version": "1.5.0",
      "model_name": "FloatProgressModel",
      "state": {
       "description": "HQ",
       "layout": "IPY_MODEL_eeccab8623e54ad4a31b52f159963efe",
       "max": 21594,
       "style": "IPY_MODEL_d94a6b578b4e481ca41bfcb86e84a1d5",
       "value": 85
      }
     },
     "aab2f464ce2b402096e7bd62d070ae86": {
      "model_module": "@jupyter-widgets/controls",
      "model_module_version": "1.5.0",
      "model_name": "ProgressStyleModel",
      "state": {
       "description_width": ""
      }
     },
     "ab1715cf5090470a9d4209bfb6fd3cbe": {
      "model_module": "@jupyter-widgets/controls",
      "model_module_version": "1.5.0",
      "model_name": "DescriptionStyleModel",
      "state": {
       "description_width": ""
      }
     },
     "ab65b48bd1f8462aabe1231f2696c80c": {
      "model_module": "@jupyter-widgets/controls",
      "model_module_version": "1.5.0",
      "model_name": "GridBoxModel",
      "state": {
       "layout": "IPY_MODEL_4dad9edd42424caca147a8ff1c152191"
      }
     },
     "ab8cfce05a94497e95be2e0a484843d4": {
      "model_module": "@jupyter-widgets/controls",
      "model_module_version": "1.5.0",
      "model_name": "HTMLModel",
      "state": {
       "layout": "IPY_MODEL_570bf3861caa411ead8b46c4a798a666",
       "style": "IPY_MODEL_2f43317ecfb94509aa78513291e941af",
       "value": "9.11521719"
      }
     },
     "abb3526bdb0c4ceaac7428e670f44fc2": {
      "model_module": "@jupyter-widgets/controls",
      "model_module_version": "1.5.0",
      "model_name": "DescriptionStyleModel",
      "state": {
       "description_width": ""
      }
     },
     "ac4ec2eae1834aef9b9cb44f5d1165e5": {
      "model_module": "@jupyter-widgets/controls",
      "model_module_version": "1.5.0",
      "model_name": "ButtonStyleModel",
      "state": {}
     },
     "ac5c8c47bb8843cab159eaafe5908b48": {
      "model_module": "@jupyter-widgets/base",
      "model_module_version": "1.2.0",
      "model_name": "LayoutModel",
      "state": {
       "grid_area": "widget002"
      }
     },
     "ac7e353904be40c9a011229e0767fdad": {
      "model_module": "@jupyter-widgets/controls",
      "model_module_version": "1.5.0",
      "model_name": "ButtonStyleModel",
      "state": {}
     },
     "ac89e2ebd2e14a70989bd9abc4f6d5e2": {
      "model_module": "@jupyter-widgets/controls",
      "model_module_version": "1.5.0",
      "model_name": "HTMLModel",
      "state": {
       "layout": "IPY_MODEL_d1ab838b694d4c6c97d6bd4a9b7d4e81",
       "style": "IPY_MODEL_7a2920472205443fa1d7f77f54d64a32",
       "value": "<a class=\"anchor\" href=\"#pp_var_3774228498530467255\"><code>project location</code></a> has 550 (2.5%) missing values"
      }
     },
     "ac9f49bf3fe34e178c39658f62a3f6ec": {
      "model_module": "@jupyter-widgets/base",
      "model_module_version": "1.2.0",
      "model_name": "LayoutModel",
      "state": {}
     },
     "ad284d034e854f289880e070d8709f2b": {
      "model_module": "@jupyter-widgets/base",
      "model_module_version": "1.2.0",
      "model_name": "LayoutModel",
      "state": {
       "grid_area": "widget003"
      }
     },
     "ad3139d4e9054b7b96b2d3a12dcba1c1": {
      "model_module": "@jupyter-widgets/base",
      "model_module_version": "1.2.0",
      "model_name": "LayoutModel",
      "state": {}
     },
     "ad687fa3599647688681c58574b7d679": {
      "model_module": "@jupyter-widgets/controls",
      "model_module_version": "1.5.0",
      "model_name": "ButtonStyleModel",
      "state": {}
     },
     "ad7d8aa7a8c54c4bb418329a03e4aed3": {
      "model_module": "@jupyter-widgets/controls",
      "model_module_version": "1.5.0",
      "model_name": "ProgressStyleModel",
      "state": {
       "description_width": ""
      }
     },
     "ad8d939a6e3a4381bd2855eae34b39f1": {
      "model_module": "@jupyter-widgets/controls",
      "model_module_version": "1.5.0",
      "model_name": "DescriptionStyleModel",
      "state": {
       "description_width": ""
      }
     },
     "ada44158c88146238075f51c0eca0394": {
      "model_module": "@jupyter-widgets/controls",
      "model_module_version": "1.5.0",
      "model_name": "LabelModel",
      "state": {
       "layout": "IPY_MODEL_425f8c5537c1498b885fb85d0e339a64",
       "style": "IPY_MODEL_37e852df44b546a3a273858e13844306",
       "value": "obligated"
      }
     },
     "adb067ec2f274dcba97dcafae8786353": {
      "model_module": "@jupyter-widgets/base",
      "model_module_version": "1.2.0",
      "model_name": "LayoutModel",
      "state": {}
     },
     "adb274774cec4d2f8dc08d11cec91570": {
      "model_module": "@jupyter-widgets/controls",
      "model_module_version": "1.5.0",
      "model_name": "HTMLModel",
      "state": {
       "layout": "IPY_MODEL_98c809c0ca734b448ec9b734ae62da86",
       "style": "IPY_MODEL_477bb0144c3e46208365caf61f02ec5f",
       "value": "21594"
      }
     },
     "addda4d1ef5b43a7af73742c4c0885f0": {
      "model_module": "@jupyter-widgets/controls",
      "model_module_version": "1.5.0",
      "model_name": "VBoxModel",
      "state": {
       "children": [
        "IPY_MODEL_5f5448b776e046cba7f2c5423a0550e5"
       ],
       "layout": "IPY_MODEL_11f7614df1704fc6bbd9cb0397d70ca4"
      }
     },
     "adebe33a68c8446e9d61ca3be43b268e": {
      "model_module": "@jupyter-widgets/base",
      "model_module_version": "1.2.0",
      "model_name": "LayoutModel",
      "state": {
       "grid_area": "widget014"
      }
     },
     "ae09c0f5270b41dc856a263031177803": {
      "model_module": "@jupyter-widgets/controls",
      "model_module_version": "1.5.0",
      "model_name": "ButtonStyleModel",
      "state": {}
     },
     "ae5b379c87714fe98f79d724d501b791": {
      "model_module": "@jupyter-widgets/base",
      "model_module_version": "1.2.0",
      "model_name": "LayoutModel",
      "state": {}
     },
     "ae5d3117cc0343caa0bd8e96dcf62285": {
      "model_module": "@jupyter-widgets/controls",
      "model_module_version": "1.5.0",
      "model_name": "DescriptionStyleModel",
      "state": {
       "description_width": ""
      }
     },
     "ae8b521c57f54ffd9d7764cb8354281b": {
      "model_module": "@jupyter-widgets/base",
      "model_module_version": "1.2.0",
      "model_name": "LayoutModel",
      "state": {
       "grid_area": "widget003"
      }
     },
     "ae904bf79098497180990c8fea85e7e9": {
      "model_module": "@jupyter-widgets/base",
      "model_module_version": "1.2.0",
      "model_name": "LayoutModel",
      "state": {
       "grid_template_areas": "\"widget001 widget002\"\n\"widget003 widget004\"\n\"widget005 widget006\"\n\"widget007 widget008\"\n\"widget009 widget010\"",
       "grid_template_columns": "repeat(2, 1fr)",
       "grid_template_rows": "repeat(5, 1fr)"
      }
     },
     "aebd425e0c7341caafe6b4685470fd67": {
      "model_module": "@jupyter-widgets/base",
      "model_module_version": "1.2.0",
      "model_name": "LayoutModel",
      "state": {}
     },
     "af00b095beed469fa203b85296a0b824": {
      "model_module": "@jupyter-widgets/base",
      "model_module_version": "1.2.0",
      "model_name": "LayoutModel",
      "state": {}
     },
     "af05bffe05054222b0bb2f8830b2c6cd": {
      "model_module": "@jupyter-widgets/controls",
      "model_module_version": "1.5.0",
      "model_name": "ButtonModel",
      "state": {
       "button_style": "danger",
       "description": "High cardinality",
       "disabled": true,
       "layout": "IPY_MODEL_3f568f9be9e9437fae646b25c11ff0dc",
       "style": "IPY_MODEL_3a2e996b8a1540a3961612d184d853b3"
      }
     },
     "af61a7ea1a4c4aeca0c81255a48b7e4f": {
      "model_module": "@jupyter-widgets/controls",
      "model_module_version": "1.5.0",
      "model_name": "ButtonStyleModel",
      "state": {}
     },
     "afb352c580084b419375c711b027fe7a": {
      "model_module": "@jupyter-widgets/controls",
      "model_module_version": "1.5.0",
      "model_name": "ButtonModel",
      "state": {
       "button_style": "danger",
       "description": "Uniform",
       "disabled": true,
       "layout": "IPY_MODEL_fcb3085a2c7e43d4b9a053d309f87620",
       "style": "IPY_MODEL_8fbb664c555b4c7e824f0b048c1f2307"
      }
     },
     "b00d6338739e4f819441095f256fa8c2": {
      "model_module": "@jupyter-widgets/base",
      "model_module_version": "1.2.0",
      "model_name": "LayoutModel",
      "state": {}
     },
     "b055edd55306436492104646af935db3": {
      "model_module": "@jupyter-widgets/controls",
      "model_module_version": "1.5.0",
      "model_name": "DescriptionStyleModel",
      "state": {
       "description_width": ""
      }
     },
     "b070a09512c04965bc07d9885730a0d9": {
      "model_module": "@jupyter-widgets/base",
      "model_module_version": "1.2.0",
      "model_name": "LayoutModel",
      "state": {
       "grid_area": "widget003"
      }
     },
     "b0c461eeaec44d10854742685b4824a7": {
      "model_module": "@jupyter-widgets/controls",
      "model_module_version": "1.5.0",
      "model_name": "DescriptionStyleModel",
      "state": {
       "description_width": ""
      }
     },
     "b0f36c09bdfd46c1b7efbc9f38e1b9b9": {
      "model_module": "@jupyter-widgets/controls",
      "model_module_version": "1.5.0",
      "model_name": "ProgressStyleModel",
      "state": {
       "description_width": ""
      }
     },
     "b14da3803f264f9192d37c23779f74c8": {
      "model_module": "@jupyter-widgets/controls",
      "model_module_version": "1.5.0",
      "model_name": "ButtonModel",
      "state": {
       "button_style": "info",
       "description": "Missing",
       "disabled": true,
       "layout": "IPY_MODEL_53d7b91d2b764ef88a04671453923259",
       "style": "IPY_MODEL_f518ced936c94065bb3e2edcc83926d8"
      }
     },
     "b152046cb08d404cbb3c3b42260b7781": {
      "model_module": "@jupyter-widgets/controls",
      "model_module_version": "1.5.0",
      "model_name": "DescriptionStyleModel",
      "state": {
       "description_width": ""
      }
     },
     "b18707a38b4c406c9c684404a97c7370": {
      "model_module": "@jupyter-widgets/base",
      "model_module_version": "1.2.0",
      "model_name": "LayoutModel",
      "state": {}
     },
     "b1a9e956bac94b739664351869e7687d": {
      "model_module": "@jupyter-widgets/controls",
      "model_module_version": "1.5.0",
      "model_name": "DescriptionStyleModel",
      "state": {
       "description_width": ""
      }
     },
     "b1c8a240f9ca488ea3135b6a70c0d0b8": {
      "model_module": "@jupyter-widgets/controls",
      "model_module_version": "1.5.0",
      "model_name": "DescriptionStyleModel",
      "state": {
       "description_width": ""
      }
     },
     "b2250ae27dfd46258edd00a60630da08": {
      "model_module": "@jupyter-widgets/controls",
      "model_module_version": "1.5.0",
      "model_name": "DescriptionStyleModel",
      "state": {
       "description_width": ""
      }
     },
     "b2261d89c05f4e249f5ee6e92ff6fbed": {
      "model_module": "@jupyter-widgets/base",
      "model_module_version": "1.2.0",
      "model_name": "LayoutModel",
      "state": {
       "grid_area": "widget006"
      }
     },
     "b226eccd7da34d3b9d90367a3882aa1b": {
      "model_module": "@jupyter-widgets/controls",
      "model_module_version": "1.5.0",
      "model_name": "LabelModel",
      "state": {
       "layout": "IPY_MODEL_7aa99e3e62074b51ad0333edb3e9501c",
       "style": "IPY_MODEL_970b6450dfba4461994f93f2f95b5f0a",
       "value": "DISTRICT"
      }
     },
     "b231c5edefe946259cef4315bbca5805": {
      "model_module": "@jupyter-widgets/controls",
      "model_module_version": "1.5.0",
      "model_name": "HTMLModel",
      "state": {
       "layout": "IPY_MODEL_b070a09512c04965bc07d9885730a0d9",
       "style": "IPY_MODEL_2705793e120f4a4aa1f9aa31830c5b1b",
       "value": "Unsupported"
      }
     },
     "b2376619d9d142358f52c3aca9e7a707": {
      "model_module": "@jupyter-widgets/base",
      "model_module_version": "1.2.0",
      "model_name": "LayoutModel",
      "state": {}
     },
     "b2911dc7e3f9443d8cb3bef2561709e4": {
      "model_module": "@jupyter-widgets/base",
      "model_module_version": "1.2.0",
      "model_name": "LayoutModel",
      "state": {
       "grid_area": "widget009"
      }
     },
     "b299660ff39644e99b806527607771bb": {
      "model_module": "@jupyter-widgets/base",
      "model_module_version": "1.2.0",
      "model_name": "LayoutModel",
      "state": {}
     },
     "b3626fb9d2a74af4be71d2e930336949": {
      "model_module": "@jupyter-widgets/controls",
      "model_module_version": "1.5.0",
      "model_name": "ButtonStyleModel",
      "state": {}
     },
     "b364ca7154474aa8836811d96cf98eb5": {
      "model_module": "@jupyter-widgets/controls",
      "model_module_version": "1.5.0",
      "model_name": "GridBoxModel",
      "state": {
       "children": [
        "IPY_MODEL_d2390f6f7d47418a87e786659516ef80",
        "IPY_MODEL_efb700e962c445a48b6b269863ea115a",
        "IPY_MODEL_045b5b36768d4e2eb629c1b3df08c041",
        "IPY_MODEL_39cc195357cc462aab36da40ebb8dda0",
        "IPY_MODEL_dd89c67ba981494e9263f78fb9412390",
        "IPY_MODEL_6285b31486b447dfadd6e0e9dd6542a7",
        "IPY_MODEL_895b3657fa7c43759cb1c398677cdc15",
        "IPY_MODEL_5320c7986c394e0f9b72f060de543725",
        "IPY_MODEL_6ac927368e88442c939d1015f8e9ee59",
        "IPY_MODEL_78a28af2e2af4dd8a562c65a998762f0",
        "IPY_MODEL_d33c3d09f66843fcabace55d6a3582ce",
        "IPY_MODEL_95a63bda20f04595bb0dde0f4976cd94",
        "IPY_MODEL_09fced3dd95f4f2596fd1987a0b84c5d",
        "IPY_MODEL_a43b1d147d8d45debe10d23afcaec7aa",
        "IPY_MODEL_c3f97e5c37e54044baeed33684f038e3",
        "IPY_MODEL_3294ac5cd1154e19b597f8143439fd8d",
        "IPY_MODEL_2bb33d2c0d1c43a8b1d30e4aa8827edb",
        "IPY_MODEL_690f8947894b4cee8320fc328873bacf",
        "IPY_MODEL_6fcc36e760714fd78717af568d92bce5",
        "IPY_MODEL_ef127137a24c4e34964b38ebdce73a9a",
        "IPY_MODEL_276f66648fec44529d55c6d0907f6edd"
       ],
       "layout": "IPY_MODEL_c9d1a1e21b284c49b6c8b58dd89af28a"
      }
     },
     "b40112f3059948c6a960f7db6ec8f740": {
      "model_module": "@jupyter-widgets/controls",
      "model_module_version": "1.5.0",
      "model_name": "HBoxModel",
      "state": {
       "children": [
        "IPY_MODEL_1f8a618c94574fedb5e94c4e508a06e2",
        "IPY_MODEL_94cf058def9d493085e662c5d7a01310"
       ],
       "layout": "IPY_MODEL_924757db666c4be08bdfef3c68c1b4f1"
      }
     },
     "b499b0dcc80c420f8eedc2720824c61f": {
      "model_module": "@jupyter-widgets/controls",
      "model_module_version": "1.5.0",
      "model_name": "DescriptionStyleModel",
      "state": {
       "description_width": ""
      }
     },
     "b49cd37e926a425ba3d0572059d2ba05": {
      "model_module": "@jupyter-widgets/base",
      "model_module_version": "1.2.0",
      "model_name": "LayoutModel",
      "state": {}
     },
     "b4bd2e4630aa4ae18ccf5f89c81eb87f": {
      "model_module": "@jupyter-widgets/controls",
      "model_module_version": "1.5.0",
      "model_name": "DescriptionStyleModel",
      "state": {
       "description_width": ""
      }
     },
     "b4bd362460d24ba08637bd34f3c8b768": {
      "model_module": "@jupyter-widgets/controls",
      "model_module_version": "1.5.0",
      "model_name": "ButtonStyleModel",
      "state": {}
     },
     "b4c282fba66741538102f99e400db9f8": {
      "model_module": "@jupyter-widgets/base",
      "model_module_version": "1.2.0",
      "model_name": "LayoutModel",
      "state": {
       "grid_area": "widget008"
      }
     },
     "b4e5b6454bba43f4bda67c7fbc516b04": {
      "model_module": "@jupyter-widgets/controls",
      "model_module_version": "1.5.0",
      "model_name": "VBoxModel",
      "state": {
       "children": [
        "IPY_MODEL_f36045730b4b4fed9541ac438ed66183"
       ],
       "layout": "IPY_MODEL_20e114270bbb48208bc2048a96ededd5"
      }
     },
     "b4e65ea4f9ef429b94440c4c4c4d6eb7": {
      "model_module": "@jupyter-widgets/controls",
      "model_module_version": "1.5.0",
      "model_name": "HTMLModel",
      "state": {
       "layout": "IPY_MODEL_b4c282fba66741538102f99e400db9f8",
       "style": "IPY_MODEL_92f7ffd84a1f44c1ac54efc30b915bb6",
       "value": "Obligated"
      }
     },
     "b4f30ee1b6ed4a0d9af1f0d90b735570": {
      "model_module": "@jupyter-widgets/controls",
      "model_module_version": "1.5.0",
      "model_name": "HTMLModel",
      "state": {
       "layout": "IPY_MODEL_19a7978654a243f0b27f7664fd9afd1e",
       "style": "IPY_MODEL_2aa96b2d8519411ba66f40d72af89d2e",
       "value": "<a class=\"anchor\" href=\"#pp_var_2795625268660297448\">\n        <code>DIST</code>\n    </a> is highly correlated with <code>MPO</code>"
      }
     },
     "b56ede36ebaa49d1807004c69697149e": {
      "model_module": "@jupyter-widgets/base",
      "model_module_version": "1.2.0",
      "model_name": "LayoutModel",
      "state": {}
     },
     "b60bdff0fb2b48d0ae5d0f4d9d1fd7d9": {
      "model_module": "@jupyter-widgets/controls",
      "model_module_version": "1.5.0",
      "model_name": "ButtonModel",
      "state": {
       "description": "High correlation",
       "disabled": true,
       "layout": "IPY_MODEL_5420488b8b3547938a7bbacb014963d1",
       "style": "IPY_MODEL_99c578a2fee84a3896f33e91cf5da062"
      }
     },
     "b62e6ed9e0284a95ba1695571b93848e": {
      "model_module": "@jupyter-widgets/base",
      "model_module_version": "1.2.0",
      "model_name": "LayoutModel",
      "state": {}
     },
     "b63c1d5b1fba44de9a3366bb66d3a121": {
      "model_module": "@jupyter-widgets/controls",
      "model_module_version": "1.5.0",
      "model_name": "ButtonStyleModel",
      "state": {}
     },
     "b64703ab4d0a4afd9845213af9817689": {
      "model_module": "@jupyter-widgets/controls",
      "model_module_version": "1.5.0",
      "model_name": "GridBoxModel",
      "state": {
       "children": [
        "IPY_MODEL_a74e53d921e74663b1f6fa9a287c1bc2",
        "IPY_MODEL_3ef5bce9d9c34bcf885f03366c7a9269",
        "IPY_MODEL_7a930938641a4a29a6a874356f1bbe3f",
        "IPY_MODEL_42c50e5aa48045b6ad83251ddc254074",
        "IPY_MODEL_092563636dac4d26a3dea7b34c586917",
        "IPY_MODEL_e5f3f03f6d9049b59404ffc03388be61",
        "IPY_MODEL_ba7444eb09e74265b8dc33eeea01f97d",
        "IPY_MODEL_b4e65ea4f9ef429b94440c4c4c4d6eb7",
        "IPY_MODEL_0d7d6cc6970c4041869fa7b3e063687c",
        "IPY_MODEL_9e343cd4425d4dee990b028c3a7fa7c5"
       ],
       "layout": "IPY_MODEL_91f2381045d94c809ebc7e70b93ec857"
      }
     },
     "b64800dcf0714eec98d835b9c6e0304e": {
      "model_module": "@jupyter-widgets/controls",
      "model_module_version": "1.5.0",
      "model_name": "DescriptionStyleModel",
      "state": {
       "description_width": ""
      }
     },
     "b65e86c006ac4f9ba6b2535780c3ee91": {
      "model_module": "@jupyter-widgets/controls",
      "model_module_version": "1.5.0",
      "model_name": "ButtonModel",
      "state": {
       "button_style": "warning",
       "description": "Unsupported",
       "disabled": true,
       "layout": "IPY_MODEL_59107c655db045268005fb92e7e4e915",
       "style": "IPY_MODEL_c9e5f27912f84446aee422560036c94d"
      }
     },
     "b71b11c5ff2c449dbe46f2b362a6833b": {
      "model_module": "@jupyter-widgets/controls",
      "model_module_version": "1.5.0",
      "model_name": "HTMLModel",
      "state": {
       "layout": "IPY_MODEL_89eaf25e3e0947f1baf5f2ce711e3636",
       "style": "IPY_MODEL_9760baa122cd4826a720f309adfd722f",
       "value": "Total characters"
      }
     },
     "b728a7d8e4e34c0792d2d846292fa43f": {
      "model_module": "@jupyter-widgets/base",
      "model_module_version": "1.2.0",
      "model_name": "LayoutModel",
      "state": {}
     },
     "b74d1c49b1884fcabb1ec655da330e58": {
      "model_module": "@jupyter-widgets/base",
      "model_module_version": "1.2.0",
      "model_name": "LayoutModel",
      "state": {}
     },
     "b76ac1228da24fe699847aa21d5d1467": {
      "model_module": "@jupyter-widgets/controls",
      "model_module_version": "1.5.0",
      "model_name": "HTMLModel",
      "state": {
       "layout": "IPY_MODEL_f4bbeefb89ff4210902144470391e7e9",
       "style": "IPY_MODEL_964ce469f3534437ad786f309fb5670f",
       "value": " 33/46 [00:02&lt;00:00, 15.79it/s, Describe variable:adjusted_ac_requested]"
      }
     },
     "b77858a8011f408fa3895349fcee683d": {
      "model_module": "@jupyter-widgets/base",
      "model_module_version": "1.2.0",
      "model_name": "LayoutModel",
      "state": {}
     },
     "b79fadcd6f294613a33f1993b9e163a6": {
      "model_module": "@jupyter-widgets/controls",
      "model_module_version": "1.5.0",
      "model_name": "DescriptionStyleModel",
      "state": {
       "description_width": ""
      }
     },
     "b7b0c7f3c0d14c83be8b83f648dd941b": {
      "model_module": "@jupyter-widgets/controls",
      "model_module_version": "1.5.0",
      "model_name": "LabelModel",
      "state": {
       "layout": "IPY_MODEL_766ba6e0ea5c4f7498218052b3e8c5d8",
       "style": "IPY_MODEL_932f601d727d404898676da2e7cb490f",
       "value": "FTA Transferred"
      }
     },
     "b7b7923f52154b8b9736e1f40375bd62": {
      "model_module": "@jupyter-widgets/base",
      "model_module_version": "1.2.0",
      "model_name": "LayoutModel",
      "state": {}
     },
     "b849061ba37946c2a0436dabce3cbe82": {
      "model_module": "@jupyter-widgets/controls",
      "model_module_version": "1.5.0",
      "model_name": "HTMLModel",
      "state": {
       "layout": "IPY_MODEL_f659e874ed114f57a9e577b23192ab9a",
       "style": "IPY_MODEL_68ce0745fa2f434b89072daa66b0d13b",
       "value": "<a class=\"anchor\" href=\"#pp_var_-173527875387483092\"><code>Unnamed: 28</code></a> has 21551 (99.8%) missing values"
      }
     },
     "b8a8f35befeb483abc30809b6bbcbd25": {
      "model_module": "@jupyter-widgets/controls",
      "model_module_version": "1.5.0",
      "model_name": "ProgressStyleModel",
      "state": {
       "description_width": ""
      }
     },
     "b8d6f99a30144fe2b63eae5f9b7405df": {
      "model_module": "@jupyter-widgets/base",
      "model_module_version": "1.2.0",
      "model_name": "LayoutModel",
      "state": {
       "grid_area": "widget002"
      }
     },
     "b9165002104c446a8786349da28ef0d5": {
      "model_module": "@jupyter-widgets/base",
      "model_module_version": "1.2.0",
      "model_name": "LayoutModel",
      "state": {
       "width": "fit-content"
      }
     },
     "b92abbc8186c4941a3a07ac43c4dcfba": {
      "model_module": "@jupyter-widgets/controls",
      "model_module_version": "1.5.0",
      "model_name": "DescriptionStyleModel",
      "state": {
       "description_width": ""
      }
     },
     "b93d73273a234ce98d3beb108dd5d9e3": {
      "model_module": "@jupyter-widgets/base",
      "model_module_version": "1.2.0",
      "model_name": "LayoutModel",
      "state": {
       "grid_area": "widget005"
      }
     },
     "b95f2b4df53a40fdbb7c80c5923a017b": {
      "model_module": "@jupyter-widgets/controls",
      "model_module_version": "1.5.0",
      "model_name": "LabelModel",
      "state": {
       "layout": "IPY_MODEL_906565475a0148edae004fe8eaa6f45c",
       "style": "IPY_MODEL_9264ba1552d0413fb620eed4b5934e7e",
       "value": "20826"
      }
     },
     "b97411ae5ba24757bee04902f7951941": {
      "model_module": "@jupyter-widgets/controls",
      "model_module_version": "1.5.0",
      "model_name": "ButtonModel",
      "state": {
       "button_style": "info",
       "description": "Missing",
       "disabled": true,
       "layout": "IPY_MODEL_ea65a82ec025408c93aa08033670d766",
       "style": "IPY_MODEL_2c75114c933f4525a6f5ea503801e284"
      }
     },
     "b984d4caf7c64413bb09bd4c8860b02c": {
      "model_module": "@jupyter-widgets/base",
      "model_module_version": "1.2.0",
      "model_name": "LayoutModel",
      "state": {}
     },
     "b99324ea42a1474d8c9ade18fc24eac9": {
      "model_module": "@jupyter-widgets/base",
      "model_module_version": "1.2.0",
      "model_name": "LayoutModel",
      "state": {}
     },
     "ba3f5f960cac4b3193d877843dcc682d": {
      "model_module": "@jupyter-widgets/controls",
      "model_module_version": "1.5.0",
      "model_name": "HTMLModel",
      "state": {
       "layout": "IPY_MODEL_de3523a945c84763ae6368bddc443b95",
       "style": "IPY_MODEL_e048a67d228548449e6ad887c262579e",
       "value": "<a class=\"anchor\" href=\"#pp_var_2795625268660297448\">\n        <code>DIST</code>\n    </a> is highly correlated with <code>MPO</code>"
      }
     },
     "ba6c557ea0004a54af950e9c5aba57fd": {
      "model_module": "@jupyter-widgets/controls",
      "model_module_version": "1.5.0",
      "model_name": "HBoxModel",
      "state": {
       "children": [
        "IPY_MODEL_6e04d01fdeee48dd8dbeb77a3fdfad02",
        "IPY_MODEL_201b097b8cc04bfcb23e9938661aff41"
       ],
       "layout": "IPY_MODEL_6792cc8a57e249e79a84f34ebcfc662a"
      }
     },
     "ba7444eb09e74265b8dc33eeea01f97d": {
      "model_module": "@jupyter-widgets/controls",
      "model_module_version": "1.5.0",
      "model_name": "HTMLModel",
      "state": {
       "layout": "IPY_MODEL_d44f4193d69f42aabda1c7217d833675",
       "style": "IPY_MODEL_c8df88a6d395488b8b9ba9bd8a329439",
       "value": "4th row"
      }
     },
     "bab207f9a822460e9431f99c96f39ae0": {
      "model_module": "@jupyter-widgets/controls",
      "model_module_version": "1.5.0",
      "model_name": "HTMLModel",
      "state": {
       "layout": "IPY_MODEL_c72d16aed0424fffb4d9d5fe3e85becf",
       "style": "IPY_MODEL_8e156345e4ae4e1faab5641c44e3cfbd",
       "value": "<a class=\"anchor\" href=\"#pp_var_4970081654142015710\"><code>Date Request Initiated</code></a> has 10556 (48.9%) missing values"
      }
     },
     "bb43ca7a88ee4174bec3977a104dd057": {
      "model_module": "@jupyter-widgets/controls",
      "model_module_version": "1.5.0",
      "model_name": "DescriptionStyleModel",
      "state": {
       "description_width": ""
      }
     },
     "bb464195401446f3b52a88af3274144e": {
      "model_module": "@jupyter-widgets/controls",
      "model_module_version": "1.5.0",
      "model_name": "HTMLModel",
      "state": {
       "layout": "IPY_MODEL_f9d44905206d4821bb8a5ddcff947101",
       "style": "IPY_MODEL_8c70a53cc7e44fb686ffd2c18f89f2ce",
       "value": "Total size in memory"
      }
     },
     "bb73d50c266746ee9f2010522f60df0d": {
      "model_module": "@jupyter-widgets/controls",
      "model_module_version": "1.5.0",
      "model_name": "HTMLModel",
      "state": {
       "layout": "IPY_MODEL_b2911dc7e3f9443d8cb3bef2561709e4",
       "style": "IPY_MODEL_1416c26c01164ab7a311df4a94e8db72",
       "value": "Memory size"
      }
     },
     "bbd523870d404637b42ad9da2745c98b": {
      "model_module": "@jupyter-widgets/base",
      "model_module_version": "1.2.0",
      "model_name": "LayoutModel",
      "state": {}
     },
     "bbe926a57d3b45cb9f27781c09ba68df": {
      "model_module": "@jupyter-widgets/controls",
      "model_module_version": "1.5.0",
      "model_name": "DescriptionStyleModel",
      "state": {
       "description_width": ""
      }
     },
     "bc2edfb7ba9840da825f989a9198a235": {
      "model_module": "@jupyter-widgets/controls",
      "model_module_version": "1.5.0",
      "model_name": "HTMLModel",
      "state": {
       "layout": "IPY_MODEL_94a716cb6e0e42ce839a48c48360c43e",
       "style": "IPY_MODEL_d84a683b4fe84b47b4015bc1a8ae1380",
       "value": "<a class=\"anchor\" href=\"#pp_var_-5145580308060701537\"><code>PREFIX</code></a> has a high cardinality: 395 distinct values"
      }
     },
     "bc4df7afc69f4dba80e0e8d9753f47d7": {
      "model_module": "@jupyter-widgets/base",
      "model_module_version": "1.2.0",
      "model_name": "LayoutModel",
      "state": {}
     },
     "bc5375289fcf4221b6cc990ccf9c7fb4": {
      "model_module": "@jupyter-widgets/base",
      "model_module_version": "1.2.0",
      "model_name": "LayoutModel",
      "state": {
       "grid_area": "widget004"
      }
     },
     "bcc4c4ebe47c4c1ab9b2cc3789301af9": {
      "model_module": "@jupyter-widgets/controls",
      "model_module_version": "1.5.0",
      "model_name": "HTMLModel",
      "state": {
       "layout": "IPY_MODEL_1f6b83e76a3d41bd92f61c89c5e1cf9b",
       "style": "IPY_MODEL_96baa234255a46eebd6050d24c4bac4d",
       "value": "<h4>Length</h4>"
      }
     },
     "bcf96789ec0047359d2b269efeaa4fe2": {
      "model_module": "@jupyter-widgets/controls",
      "model_module_version": "1.5.0",
      "model_name": "ButtonModel",
      "state": {
       "button_style": "info",
       "description": "Zeros",
       "disabled": true,
       "layout": "IPY_MODEL_38018cf05d4748ef8f9638995f854e47",
       "style": "IPY_MODEL_200a07946d0c463bb2cc7547f24361c2"
      }
     },
     "bcfb2ce98fde46d9867048f7683009b2": {
      "model_module": "@jupyter-widgets/controls",
      "model_module_version": "1.5.0",
      "model_name": "ProgressStyleModel",
      "state": {
       "description_width": ""
      }
     },
     "bd3b3ab84f5847f1997e5c8cd1add0ae": {
      "model_module": "@jupyter-widgets/controls",
      "model_module_version": "1.5.0",
      "model_name": "FloatProgressModel",
      "state": {
       "bar_style": "success",
       "layout": "IPY_MODEL_4578eab7ae4e4fef82f86c5593f68c7b",
       "max": 1,
       "style": "IPY_MODEL_34227384c92041fd888e88b98b961c35",
       "value": 1
      }
     },
     "bd407cb889894e8fa088b5d16043efbb": {
      "model_module": "@jupyter-widgets/base",
      "model_module_version": "1.2.0",
      "model_name": "LayoutModel",
      "state": {}
     },
     "bd41e37cea594520a9eddf4c137f7446": {
      "model_module": "@jupyter-widgets/base",
      "model_module_version": "1.2.0",
      "model_name": "LayoutModel",
      "state": {
       "grid_area": "widget015"
      }
     },
     "bd733872e68b47f09e1f939cd7e7f634": {
      "model_module": "@jupyter-widgets/base",
      "model_module_version": "1.2.0",
      "model_name": "LayoutModel",
      "state": {
       "grid_area": "widget020"
      }
     },
     "bd7941bd3cfa46668c1c432763c17ac2": {
      "model_module": "@jupyter-widgets/controls",
      "model_module_version": "1.5.0",
      "model_name": "DescriptionStyleModel",
      "state": {
       "description_width": ""
      }
     },
     "bd8f2925881049538f3b80a01b9a7df3": {
      "model_module": "@jupyter-widgets/base",
      "model_module_version": "1.2.0",
      "model_name": "LayoutModel",
      "state": {}
     },
     "bd91d0d32dee45e6a61cd7cd07ae9b7d": {
      "model_module": "@jupyter-widgets/controls",
      "model_module_version": "1.5.0",
      "model_name": "DescriptionStyleModel",
      "state": {
       "description_width": ""
      }
     },
     "bdb9ad1fd21f4a65ac35ca2f8db90326": {
      "model_module": "@jupyter-widgets/controls",
      "model_module_version": "1.5.0",
      "model_name": "ButtonStyleModel",
      "state": {}
     },
     "be03cfd885a44fb19f9abf4f875a4bb8": {
      "model_module": "@jupyter-widgets/controls",
      "model_module_version": "1.5.0",
      "model_name": "HTMLModel",
      "state": {
       "layout": "IPY_MODEL_b99324ea42a1474d8c9ade18fc24eac9",
       "style": "IPY_MODEL_8d1232f3e8aa440394dedd251e0aa3c3",
       "value": "<a class=\"anchor\" href=\"#pp_var_-6412384176531527319\">\n        <code>MPO</code>\n    </a> is highly correlated with <code>DIST</code> and <abbr title=\"DIST, Waiting Days\">1 other fields</abbr>"
      }
     },
     "be3366a118434ad1a81f7d7328777d92": {
      "model_module": "@jupyter-widgets/controls",
      "model_module_version": "1.5.0",
      "model_name": "HTMLModel",
      "state": {
       "layout": "IPY_MODEL_91284c02c11f46708d9f0a821a73e890",
       "style": "IPY_MODEL_02c1a8b60a454741b0f932a314457ee0",
       "value": "21594"
      }
     },
     "be59f7a8b8c24e3ba3ed4922de16be1a": {
      "model_module": "@jupyter-widgets/base",
      "model_module_version": "1.2.0",
      "model_name": "LayoutModel",
      "state": {
       "grid_area": "widget006"
      }
     },
     "be6424054bd44398b7aad123c4d4ba34": {
      "model_module": "@jupyter-widgets/controls",
      "model_module_version": "1.5.0",
      "model_name": "HTMLModel",
      "state": {
       "layout": "IPY_MODEL_e07939dd10534eafbb615dfd05f16c1d",
       "style": "IPY_MODEL_5fd2882bb3454aabb1999697b5b527e8",
       "value": "<a class=\"anchor\" href=\"#pp_var_-2017647313142555237\"><code>Today</code></a> has 21588 (> 99.9%) missing values"
      }
     },
     "be7150fe6b914c89b765dc2d1e49f4cb": {
      "model_module": "@jupyter-widgets/controls",
      "model_module_version": "1.5.0",
      "model_name": "HTMLModel",
      "state": {
       "layout": "IPY_MODEL_8a476603eb7f44ec8082316fe3420afb",
       "style": "IPY_MODEL_2c2466b1a8864f0c889816779b34fffb",
       "value": "<a class=\"anchor\" href=\"#pp_var_4425667109306469426\"><code>total requested</code></a> is an unsupported type, check if it needs cleaning or further analysis"
      }
     },
     "be77a3e2c6454677ba0765bf7f66091a": {
      "model_module": "@jupyter-widgets/controls",
      "model_module_version": "1.5.0",
      "model_name": "DescriptionStyleModel",
      "state": {
       "description_width": ""
      }
     },
     "be7bdc251d1e493d8f39043bc5d99350": {
      "model_module": "@jupyter-widgets/controls",
      "model_module_version": "1.5.0",
      "model_name": "HTMLModel",
      "state": {
       "layout": "IPY_MODEL_868368139f8843a3bab745ce9ebae6f1",
       "style": "IPY_MODEL_69f55713a0ed457a801f798bd926abd6",
       "value": "< 0.1%"
      }
     },
     "be8722a22ea740aebf559ec33ac154de": {
      "model_module": "@jupyter-widgets/base",
      "model_module_version": "1.2.0",
      "model_name": "LayoutModel",
      "state": {}
     },
     "be936b77efd94a9c8c22d1bb378faf79": {
      "model_module": "@jupyter-widgets/controls",
      "model_module_version": "1.5.0",
      "model_name": "GridBoxModel",
      "state": {
       "children": [
        "IPY_MODEL_f9854dde1c644a1fa7fd619b8d6ce76a"
       ],
       "layout": "IPY_MODEL_5ba12a19269440c28181bfdc487362c9"
      }
     },
     "be9bc70db64a47b39c322ba873eb6d3f": {
      "model_module": "@jupyter-widgets/controls",
      "model_module_version": "1.5.0",
      "model_name": "DescriptionStyleModel",
      "state": {
       "description_width": ""
      }
     },
     "bea789d0f2a64c1a9b92ce16957bd0e6": {
      "model_module": "@jupyter-widgets/controls",
      "model_module_version": "1.5.0",
      "model_name": "HTMLModel",
      "state": {
       "layout": "IPY_MODEL_331ae05bb90d42f294ff48cdef60c544",
       "style": "IPY_MODEL_97461304e7fa43d4870e2bbfd6e8650a",
       "value": "4th row"
      }
     },
     "bf230615ad7246f0aebfaad3e47a73a9": {
      "model_module": "@jupyter-widgets/controls",
      "model_module_version": "1.5.0",
      "model_name": "DescriptionStyleModel",
      "state": {
       "description_width": ""
      }
     },
     "bf2cf5abdbc5433da896c94039721c41": {
      "model_module": "@jupyter-widgets/controls",
      "model_module_version": "1.5.0",
      "model_name": "ButtonModel",
      "state": {
       "description": "High correlation",
       "disabled": true,
       "layout": "IPY_MODEL_c5102a8b0d284b00b817ac5e4fabd658",
       "style": "IPY_MODEL_144b14c37428468b82df7d7039afd6b4"
      }
     },
     "bf780c41a62d4b989b2044836116be25": {
      "model_module": "@jupyter-widgets/base",
      "model_module_version": "1.2.0",
      "model_name": "LayoutModel",
      "state": {}
     },
     "bf9fe97506aa4f8db565d52066d78bd0": {
      "model_module": "@jupyter-widgets/controls",
      "model_module_version": "1.5.0",
      "model_name": "HTMLModel",
      "state": {
       "layout": "IPY_MODEL_578e6763bcda42fabb38d1f2a6d4be60",
       "style": "IPY_MODEL_7cc9894cad4742d7bcd8ab4bd776ff48",
       "value": "<em>The Unicode Standard assigns character properties to each code point, which can be used to analyse textual variables. </em>"
      }
     },
     "c02a81385ba64b9092e916cdd9f781b1": {
      "model_module": "@jupyter-widgets/controls",
      "model_module_version": "1.5.0",
      "model_name": "DescriptionStyleModel",
      "state": {
       "description_width": ""
      }
     },
     "c03a6196317e4579ac02fb3c724bbfb6": {
      "model_module": "@jupyter-widgets/controls",
      "model_module_version": "1.5.0",
      "model_name": "ButtonStyleModel",
      "state": {}
     },
     "c066b3a95b4b43c188db08c6e8db6bf7": {
      "model_module": "@jupyter-widgets/base",
      "model_module_version": "1.2.0",
      "model_name": "LayoutModel",
      "state": {}
     },
     "c0808ba983eb41f480fb4294a130d87a": {
      "model_module": "@jupyter-widgets/controls",
      "model_module_version": "1.5.0",
      "model_name": "HTMLModel",
      "state": {
       "layout": "IPY_MODEL_82cdd0a6473b4bacb774304c5bc7df97",
       "style": "IPY_MODEL_f6e95b99c2ba4f90a78386228cd4d9bb",
       "value": "18.0%"
      }
     },
     "c0cd61a85aef40c1bd0bd0e8456d8c00": {
      "model_module": "@jupyter-widgets/controls",
      "model_module_version": "1.5.0",
      "model_name": "FloatProgressModel",
      "state": {
       "layout": "IPY_MODEL_03efaa5e1b97400abe7ad09150a4240a",
       "max": 22144,
       "style": "IPY_MODEL_f8011419aa1340848ffcfb3504b07ca7",
       "value": 19
      }
     },
     "c101ba8293ca44208f390236e714cb7d": {
      "model_module": "@jupyter-widgets/base",
      "model_module_version": "1.2.0",
      "model_name": "LayoutModel",
      "state": {
       "grid_area": "widget009"
      }
     },
     "c19e01b972f04e958810807e8a787209": {
      "model_module": "@jupyter-widgets/controls",
      "model_module_version": "1.5.0",
      "model_name": "FloatProgressModel",
      "state": {
       "description": "Obligated",
       "layout": "IPY_MODEL_a4cb30bec2824b3abcb37aad603a8944",
       "max": 21594,
       "style": "IPY_MODEL_54a7b831fd544b8e8982062e08c7371a",
       "value": 20826
      }
     },
     "c1a77f422a4d4af9aab758d11e7170d6": {
      "model_module": "@jupyter-widgets/controls",
      "model_module_version": "1.5.0",
      "model_name": "FloatProgressModel",
      "state": {
       "bar_style": "danger",
       "layout": "IPY_MODEL_e48ae30e12684e8f8ea86912e7e7bab5",
       "max": 1,
       "style": "IPY_MODEL_b0f36c09bdfd46c1b7efbc9f38e1b9b9"
      }
     },
     "c1ed1548ce344b778d58c49397c7584a": {
      "model_module": "@jupyter-widgets/base",
      "model_module_version": "1.2.0",
      "model_name": "LayoutModel",
      "state": {}
     },
     "c1f070959d054a51ad72b8a73539766c": {
      "model_module": "@jupyter-widgets/base",
      "model_module_version": "1.2.0",
      "model_name": "LayoutModel",
      "state": {
       "grid_template_areas": "\"widget001 widget002 widget003\"\n\"widget004 widget005 widget006\"\n\"widget007 widget008 widget009\"\n\"widget010 widget011 widget012\"\n\"widget013 widget014 widget015\"\n\"widget016 widget017 widget018\"\n\"widget019 widget020 widget021\"",
       "grid_template_columns": "repeat(3, 1fr)",
       "grid_template_rows": "repeat(7, 1fr)"
      }
     },
     "c28eab4b322542a4816ee52f7a6b8f47": {
      "model_module": "@jupyter-widgets/base",
      "model_module_version": "1.2.0",
      "model_name": "LayoutModel",
      "state": {}
     },
     "c29d3a6a66bb41ed8a8bd559439dcc63": {
      "model_module": "@jupyter-widgets/controls",
      "model_module_version": "1.5.0",
      "model_name": "HTMLModel",
      "state": {
       "layout": "IPY_MODEL_51372fa7d4554594b5b1380c3dbebe1f",
       "style": "IPY_MODEL_4d36d7265445416f8e647af9f0d92383",
       "value": "<a class=\"anchor\" href=\"#pp_var_4839277149140286481\"><code>Fed requested</code></a> has 6070 (28.1%) zeros"
      }
     },
     "c2b0c8729ab548888cd5a7080386e0db": {
      "model_module": "@jupyter-widgets/controls",
      "model_module_version": "1.5.0",
      "model_name": "ButtonModel",
      "state": {
       "button_style": "info",
       "description": "Missing",
       "disabled": true,
       "layout": "IPY_MODEL_a8ac41c57cac4bd7acfb4f123fb8ecb6",
       "style": "IPY_MODEL_644669bef79e465a8ac234ca910653cc"
      }
     },
     "c39e50f948fb45b8a02601ff935afb56": {
      "model_module": "@jupyter-widgets/base",
      "model_module_version": "1.2.0",
      "model_name": "LayoutModel",
      "state": {}
     },
     "c3a6f5030d5143bc8e386f6233c25c12": {
      "model_module": "@jupyter-widgets/controls",
      "model_module_version": "1.5.0",
      "model_name": "DescriptionStyleModel",
      "state": {
       "description_width": ""
      }
     },
     "c3ad2357839246dbbbc3f6df3b4bb674": {
      "model_module": "@jupyter-widgets/controls",
      "model_module_version": "1.5.0",
      "model_name": "DescriptionStyleModel",
      "state": {
       "description_width": ""
      }
     },
     "c3b3593f7cc34f76bd14ea6dd1ba3771": {
      "model_module": "@jupyter-widgets/base",
      "model_module_version": "1.2.0",
      "model_name": "LayoutModel",
      "state": {}
     },
     "c3d1378944c0459b8158582c04f16e75": {
      "model_module": "@jupyter-widgets/base",
      "model_module_version": "1.2.0",
      "model_name": "LayoutModel",
      "state": {}
     },
     "c3e26f44039144af844a3616bd0e6ad4": {
      "model_module": "@jupyter-widgets/base",
      "model_module_version": "1.2.0",
      "model_name": "LayoutModel",
      "state": {
       "grid_area": "widget009"
      }
     },
     "c3f97e5c37e54044baeed33684f038e3": {
      "model_module": "@jupyter-widgets/controls",
      "model_module_version": "1.5.0",
      "model_name": "LabelModel",
      "state": {
       "layout": "IPY_MODEL_476963714c794cae8b3bcefa3691e3f1",
       "style": "IPY_MODEL_0696b185c3924d7382e90d8bd98a1b52",
       "value": "85"
      }
     },
     "c40618aef2ee4501b698edd21b289d85": {
      "model_module": "@jupyter-widgets/controls",
      "model_module_version": "1.5.0",
      "model_name": "HTMLModel",
      "state": {
       "layout": "IPY_MODEL_6c810a915d84492aa6413f93070fcc83",
       "style": "IPY_MODEL_839cd564dbfa4fbf9584d20a9695e627",
       "value": "<?xml version=\"1.0\" encoding=\"utf-8\" standalone=\"no\"?>\n<!DOCTYPE svg style=\"max-width: 100%\" PUBLIC \"-//W3C//DTD SVG 1.1//EN\"\n  \"http://www.w3.org/Graphics/SVG/1.1/DTD/svg11.dtd\">\n<svg style=\"max-width: 100%\" xmlns:xlink=\"http://www.w3.org/1999/xlink\" width=\"432pt\"  viewBox=\"0 0 432 288\" xmlns=\"http://www.w3.org/2000/svg\" version=\"1.1\">\n <metadata>\n  <rdf:RDF xmlns:dc=\"http://purl.org/dc/elements/1.1/\" xmlns:cc=\"http://creativecommons.org/ns#\" xmlns:rdf=\"http://www.w3.org/1999/02/22-rdf-syntax-ns#\">\n   <cc:Work>\n    <dc:type rdf:resource=\"http://purl.org/dc/dcmitype/StillImage\"/>\n    <dc:date>2022-03-09T22:42:23.014618</dc:date>\n    <dc:format>image/svg+xml</dc:format>\n    <dc:creator>\n     <cc:Agent>\n      <dc:title>Matplotlib v3.5.1, https://matplotlib.org/</dc:title>\n     </cc:Agent>\n    </dc:creator>\n   </cc:Work>\n  </rdf:RDF>\n </metadata>\n <defs>\n  <style type=\"text/css\">*{stroke-linejoin: round; stroke-linecap: butt}</style>\n </defs>\n <g id=\"figure_1\">\n  <g id=\"patch_1\">\n   <path d=\"M 0 288 \nL 432 288 \nL 432 0 \nL 0 0 \nz\n\" style=\"fill: #ffffff\"/>\n  </g>\n  <g id=\"axes_1\">\n   <g id=\"patch_2\">\n    <path d=\"M 67.175 250.613321 \nL 421.2 250.613321 \nL 421.2 10.8 \nL 67.175 10.8 \nz\n\" style=\"fill: #ffffff\"/>\n   </g>\n   <g id=\"matplotlib.axis_1\">\n    <g id=\"xtick_1\">\n     <g id=\"text_1\">\n      <!-- 2 -->\n      <g style=\"fill: #262626\" transform=\"translate(82.968735 270.985194)rotate(-45)scale(0.1 -0.1)\">\n       <defs>\n        <path id=\"DejaVuSans-32\" d=\"M 1228 531 \nL 3431 531 \nL 3431 0 \nL 469 0 \nL 469 531 \nQ 828 903 1448 1529 \nQ 2069 2156 2228 2338 \nQ 2531 2678 2651 2914 \nQ 2772 3150 2772 3378 \nQ 2772 3750 2511 3984 \nQ 2250 4219 1831 4219 \nQ 1534 4219 1204 4116 \nQ 875 4013 500 3803 \nL 500 4441 \nQ 881 4594 1212 4672 \nQ 1544 4750 1819 4750 \nQ 2544 4750 2975 4387 \nQ 3406 4025 3406 3419 \nQ 3406 3131 3298 2873 \nQ 3191 2616 2906 2266 \nQ 2828 2175 2409 1742 \nQ 1991 1309 1228 531 \nz\n\" transform=\"scale(0.015625)\"/>\n       </defs>\n       <use xlink:href=\"#DejaVuSans-32\"/>\n      </g>\n     </g>\n    </g>\n    <g id=\"xtick_2\">\n     <g id=\"text_2\">\n      <!-- 4 -->\n      <g style=\"fill: #262626\" transform=\"translate(132.482721 270.985194)rotate(-45)scale(0.1 -0.1)\">\n       <defs>\n        <path id=\"DejaVuSans-34\" d=\"M 2419 4116 \nL 825 1625 \nL 2419 1625 \nL 2419 4116 \nz\nM 2253 4666 \nL 3047 4666 \nL 3047 1625 \nL 3713 1625 \nL 3713 1100 \nL 3047 1100 \nL 3047 0 \nL 2419 0 \nL 2419 1100 \nL 313 1100 \nL 313 1709 \nL 2253 4666 \nz\n\" transform=\"scale(0.015625)\"/>\n       </defs>\n       <use xlink:href=\"#DejaVuSans-34\"/>\n      </g>\n     </g>\n    </g>\n    <g id=\"xtick_3\">\n     <g id=\"text_3\">\n      <!-- 6 -->\n      <g style=\"fill: #262626\" transform=\"translate(181.996707 270.985194)rotate(-45)scale(0.1 -0.1)\">\n       <defs>\n        <path id=\"DejaVuSans-36\" d=\"M 2113 2584 \nQ 1688 2584 1439 2293 \nQ 1191 2003 1191 1497 \nQ 1191 994 1439 701 \nQ 1688 409 2113 409 \nQ 2538 409 2786 701 \nQ 3034 994 3034 1497 \nQ 3034 2003 2786 2293 \nQ 2538 2584 2113 2584 \nz\nM 3366 4563 \nL 3366 3988 \nQ 3128 4100 2886 4159 \nQ 2644 4219 2406 4219 \nQ 1781 4219 1451 3797 \nQ 1122 3375 1075 2522 \nQ 1259 2794 1537 2939 \nQ 1816 3084 2150 3084 \nQ 2853 3084 3261 2657 \nQ 3669 2231 3669 1497 \nQ 3669 778 3244 343 \nQ 2819 -91 2113 -91 \nQ 1303 -91 875 529 \nQ 447 1150 447 2328 \nQ 447 3434 972 4092 \nQ 1497 4750 2381 4750 \nQ 2619 4750 2861 4703 \nQ 3103 4656 3366 4563 \nz\n\" transform=\"scale(0.015625)\"/>\n       </defs>\n       <use xlink:href=\"#DejaVuSans-36\"/>\n      </g>\n     </g>\n    </g>\n    <g id=\"xtick_4\">\n     <g id=\"text_4\">\n      <!-- 8 -->\n      <g style=\"fill: #262626\" transform=\"translate(231.510693 270.985194)rotate(-45)scale(0.1 -0.1)\">\n       <defs>\n        <path id=\"DejaVuSans-38\" d=\"M 2034 2216 \nQ 1584 2216 1326 1975 \nQ 1069 1734 1069 1313 \nQ 1069 891 1326 650 \nQ 1584 409 2034 409 \nQ 2484 409 2743 651 \nQ 3003 894 3003 1313 \nQ 3003 1734 2745 1975 \nQ 2488 2216 2034 2216 \nz\nM 1403 2484 \nQ 997 2584 770 2862 \nQ 544 3141 544 3541 \nQ 544 4100 942 4425 \nQ 1341 4750 2034 4750 \nQ 2731 4750 3128 4425 \nQ 3525 4100 3525 3541 \nQ 3525 3141 3298 2862 \nQ 3072 2584 2669 2484 \nQ 3125 2378 3379 2068 \nQ 3634 1759 3634 1313 \nQ 3634 634 3220 271 \nQ 2806 -91 2034 -91 \nQ 1263 -91 848 271 \nQ 434 634 434 1313 \nQ 434 1759 690 2068 \nQ 947 2378 1403 2484 \nz\nM 1172 3481 \nQ 1172 3119 1398 2916 \nQ 1625 2713 2034 2713 \nQ 2441 2713 2670 2916 \nQ 2900 3119 2900 3481 \nQ 2900 3844 2670 4047 \nQ 2441 4250 2034 4250 \nQ 1625 4250 1398 4047 \nQ 1172 3844 1172 3481 \nz\n\" transform=\"scale(0.015625)\"/>\n       </defs>\n       <use xlink:href=\"#DejaVuSans-38\"/>\n      </g>\n     </g>\n    </g>\n    <g id=\"xtick_5\">\n     <g id=\"text_5\">\n      <!-- 10 -->\n      <g style=\"fill: #262626\" transform=\"translate(278.775195 275.484161)rotate(-45)scale(0.1 -0.1)\">\n       <defs>\n        <path id=\"DejaVuSans-31\" d=\"M 794 531 \nL 1825 531 \nL 1825 4091 \nL 703 3866 \nL 703 4441 \nL 1819 4666 \nL 2450 4666 \nL 2450 531 \nL 3481 531 \nL 3481 0 \nL 794 0 \nL 794 531 \nz\n\" transform=\"scale(0.015625)\"/>\n        <path id=\"DejaVuSans-30\" d=\"M 2034 4250 \nQ 1547 4250 1301 3770 \nQ 1056 3291 1056 2328 \nQ 1056 1369 1301 889 \nQ 1547 409 2034 409 \nQ 2525 409 2770 889 \nQ 3016 1369 3016 2328 \nQ 3016 3291 2770 3770 \nQ 2525 4250 2034 4250 \nz\nM 2034 4750 \nQ 2819 4750 3233 4129 \nQ 3647 3509 3647 2328 \nQ 3647 1150 3233 529 \nQ 2819 -91 2034 -91 \nQ 1250 -91 836 529 \nQ 422 1150 422 2328 \nQ 422 3509 836 4129 \nQ 1250 4750 2034 4750 \nz\n\" transform=\"scale(0.015625)\"/>\n       </defs>\n       <use xlink:href=\"#DejaVuSans-31\"/>\n       <use xlink:href=\"#DejaVuSans-30\" x=\"63.623047\"/>\n      </g>\n     </g>\n    </g>\n    <g id=\"xtick_6\">\n     <g id=\"text_6\">\n      <!-- 12 -->\n      <g style=\"fill: #262626\" transform=\"translate(328.289181 275.484161)rotate(-45)scale(0.1 -0.1)\">\n       <use xlink:href=\"#DejaVuSans-31\"/>\n       <use xlink:href=\"#DejaVuSans-32\" x=\"63.623047\"/>\n      </g>\n     </g>\n    </g>\n    <g id=\"xtick_7\">\n     <g id=\"text_7\">\n      <!-- 14 -->\n      <g style=\"fill: #262626\" transform=\"translate(377.803167 275.484161)rotate(-45)scale(0.1 -0.1)\">\n       <use xlink:href=\"#DejaVuSans-31\"/>\n       <use xlink:href=\"#DejaVuSans-34\" x=\"63.623047\"/>\n      </g>\n     </g>\n    </g>\n   </g>\n   <g id=\"matplotlib.axis_2\">\n    <g id=\"ytick_1\">\n     <g id=\"text_8\">\n      <!-- 0 -->\n      <g style=\"fill: #262626\" transform=\"translate(50.3125 254.412539)scale(0.1 -0.1)\">\n       <use xlink:href=\"#DejaVuSans-30\"/>\n      </g>\n     </g>\n    </g>\n    <g id=\"ytick_2\">\n     <g id=\"text_9\">\n      <!-- 2500 -->\n      <g style=\"fill: #262626\" transform=\"translate(31.225 227.142308)scale(0.1 -0.1)\">\n       <defs>\n        <path id=\"DejaVuSans-35\" d=\"M 691 4666 \nL 3169 4666 \nL 3169 4134 \nL 1269 4134 \nL 1269 2991 \nQ 1406 3038 1543 3061 \nQ 1681 3084 1819 3084 \nQ 2600 3084 3056 2656 \nQ 3513 2228 3513 1497 \nQ 3513 744 3044 326 \nQ 2575 -91 1722 -91 \nQ 1428 -91 1123 -41 \nQ 819 9 494 109 \nL 494 744 \nQ 775 591 1075 516 \nQ 1375 441 1709 441 \nQ 2250 441 2565 725 \nQ 2881 1009 2881 1497 \nQ 2881 1984 2565 2268 \nQ 2250 2553 1709 2553 \nQ 1456 2553 1204 2497 \nQ 953 2441 691 2322 \nL 691 4666 \nz\n\" transform=\"scale(0.015625)\"/>\n       </defs>\n       <use xlink:href=\"#DejaVuSans-32\"/>\n       <use xlink:href=\"#DejaVuSans-35\" x=\"63.623047\"/>\n       <use xlink:href=\"#DejaVuSans-30\" x=\"127.246094\"/>\n       <use xlink:href=\"#DejaVuSans-30\" x=\"190.869141\"/>\n      </g>\n     </g>\n    </g>\n    <g id=\"ytick_3\">\n     <g id=\"text_10\">\n      <!-- 5000 -->\n      <g style=\"fill: #262626\" transform=\"translate(31.225 199.872077)scale(0.1 -0.1)\">\n       <use xlink:href=\"#DejaVuSans-35\"/>\n       <use xlink:href=\"#DejaVuSans-30\" x=\"63.623047\"/>\n       <use xlink:href=\"#DejaVuSans-30\" x=\"127.246094\"/>\n       <use xlink:href=\"#DejaVuSans-30\" x=\"190.869141\"/>\n      </g>\n     </g>\n    </g>\n    <g id=\"ytick_4\">\n     <g id=\"text_11\">\n      <!-- 7500 -->\n      <g style=\"fill: #262626\" transform=\"translate(31.225 172.601846)scale(0.1 -0.1)\">\n       <defs>\n        <path id=\"DejaVuSans-37\" d=\"M 525 4666 \nL 3525 4666 \nL 3525 4397 \nL 1831 0 \nL 1172 0 \nL 2766 4134 \nL 525 4134 \nL 525 4666 \nz\n\" transform=\"scale(0.015625)\"/>\n       </defs>\n       <use xlink:href=\"#DejaVuSans-37\"/>\n       <use xlink:href=\"#DejaVuSans-35\" x=\"63.623047\"/>\n       <use xlink:href=\"#DejaVuSans-30\" x=\"127.246094\"/>\n       <use xlink:href=\"#DejaVuSans-30\" x=\"190.869141\"/>\n      </g>\n     </g>\n    </g>\n    <g id=\"ytick_5\">\n     <g id=\"text_12\">\n      <!-- 10000 -->\n      <g style=\"fill: #262626\" transform=\"translate(24.8625 145.331615)scale(0.1 -0.1)\">\n       <use xlink:href=\"#DejaVuSans-31\"/>\n       <use xlink:href=\"#DejaVuSans-30\" x=\"63.623047\"/>\n       <use xlink:href=\"#DejaVuSans-30\" x=\"127.246094\"/>\n       <use xlink:href=\"#DejaVuSans-30\" x=\"190.869141\"/>\n       <use xlink:href=\"#DejaVuSans-30\" x=\"254.492188\"/>\n      </g>\n     </g>\n    </g>\n    <g id=\"ytick_6\">\n     <g id=\"text_13\">\n      <!-- 12500 -->\n      <g style=\"fill: #262626\" transform=\"translate(24.8625 118.061384)scale(0.1 -0.1)\">\n       <use xlink:href=\"#DejaVuSans-31\"/>\n       <use xlink:href=\"#DejaVuSans-32\" x=\"63.623047\"/>\n       <use xlink:href=\"#DejaVuSans-35\" x=\"127.246094\"/>\n       <use xlink:href=\"#DejaVuSans-30\" x=\"190.869141\"/>\n       <use xlink:href=\"#DejaVuSans-30\" x=\"254.492188\"/>\n      </g>\n     </g>\n    </g>\n    <g id=\"ytick_7\">\n     <g id=\"text_14\">\n      <!-- 15000 -->\n      <g style=\"fill: #262626\" transform=\"translate(24.8625 90.791153)scale(0.1 -0.1)\">\n       <use xlink:href=\"#DejaVuSans-31\"/>\n       <use xlink:href=\"#DejaVuSans-35\" x=\"63.623047\"/>\n       <use xlink:href=\"#DejaVuSans-30\" x=\"127.246094\"/>\n       <use xlink:href=\"#DejaVuSans-30\" x=\"190.869141\"/>\n       <use xlink:href=\"#DejaVuSans-30\" x=\"254.492188\"/>\n      </g>\n     </g>\n    </g>\n    <g id=\"ytick_8\">\n     <g id=\"text_15\">\n      <!-- 17500 -->\n      <g style=\"fill: #262626\" transform=\"translate(24.8625 63.520922)scale(0.1 -0.1)\">\n       <use xlink:href=\"#DejaVuSans-31\"/>\n       <use xlink:href=\"#DejaVuSans-37\" x=\"63.623047\"/>\n       <use xlink:href=\"#DejaVuSans-35\" x=\"127.246094\"/>\n       <use xlink:href=\"#DejaVuSans-30\" x=\"190.869141\"/>\n       <use xlink:href=\"#DejaVuSans-30\" x=\"254.492188\"/>\n      </g>\n     </g>\n    </g>\n    <g id=\"ytick_9\">\n     <g id=\"text_16\">\n      <!-- 20000 -->\n      <g style=\"fill: #262626\" transform=\"translate(24.8625 36.250691)scale(0.1 -0.1)\">\n       <use xlink:href=\"#DejaVuSans-32\"/>\n       <use xlink:href=\"#DejaVuSans-30\" x=\"63.623047\"/>\n       <use xlink:href=\"#DejaVuSans-30\" x=\"127.246094\"/>\n       <use xlink:href=\"#DejaVuSans-30\" x=\"190.869141\"/>\n       <use xlink:href=\"#DejaVuSans-30\" x=\"254.492188\"/>\n      </g>\n     </g>\n    </g>\n    <g id=\"text_17\">\n     <!-- Frequency -->\n     <g style=\"fill: #262626\" transform=\"translate(18.574844 159.119317)rotate(-90)scale(0.11 -0.11)\">\n      <defs>\n       <path id=\"DejaVuSans-46\" d=\"M 628 4666 \nL 3309 4666 \nL 3309 4134 \nL 1259 4134 \nL 1259 2759 \nL 3109 2759 \nL 3109 2228 \nL 1259 2228 \nL 1259 0 \nL 628 0 \nL 628 4666 \nz\n\" transform=\"scale(0.015625)\"/>\n       <path id=\"DejaVuSans-72\" d=\"M 2631 2963 \nQ 2534 3019 2420 3045 \nQ 2306 3072 2169 3072 \nQ 1681 3072 1420 2755 \nQ 1159 2438 1159 1844 \nL 1159 0 \nL 581 0 \nL 581 3500 \nL 1159 3500 \nL 1159 2956 \nQ 1341 3275 1631 3429 \nQ 1922 3584 2338 3584 \nQ 2397 3584 2469 3576 \nQ 2541 3569 2628 3553 \nL 2631 2963 \nz\n\" transform=\"scale(0.015625)\"/>\n       <path id=\"DejaVuSans-65\" d=\"M 3597 1894 \nL 3597 1613 \nL 953 1613 \nQ 991 1019 1311 708 \nQ 1631 397 2203 397 \nQ 2534 397 2845 478 \nQ 3156 559 3463 722 \nL 3463 178 \nQ 3153 47 2828 -22 \nQ 2503 -91 2169 -91 \nQ 1331 -91 842 396 \nQ 353 884 353 1716 \nQ 353 2575 817 3079 \nQ 1281 3584 2069 3584 \nQ 2775 3584 3186 3129 \nQ 3597 2675 3597 1894 \nz\nM 3022 2063 \nQ 3016 2534 2758 2815 \nQ 2500 3097 2075 3097 \nQ 1594 3097 1305 2825 \nQ 1016 2553 972 2059 \nL 3022 2063 \nz\n\" transform=\"scale(0.015625)\"/>\n       <path id=\"DejaVuSans-71\" d=\"M 947 1747 \nQ 947 1113 1208 752 \nQ 1469 391 1925 391 \nQ 2381 391 2643 752 \nQ 2906 1113 2906 1747 \nQ 2906 2381 2643 2742 \nQ 2381 3103 1925 3103 \nQ 1469 3103 1208 2742 \nQ 947 2381 947 1747 \nz\nM 2906 525 \nQ 2725 213 2448 61 \nQ 2172 -91 1784 -91 \nQ 1150 -91 751 415 \nQ 353 922 353 1747 \nQ 353 2572 751 3078 \nQ 1150 3584 1784 3584 \nQ 2172 3584 2448 3432 \nQ 2725 3281 2906 2969 \nL 2906 3500 \nL 3481 3500 \nL 3481 -1331 \nL 2906 -1331 \nL 2906 525 \nz\n\" transform=\"scale(0.015625)\"/>\n       <path id=\"DejaVuSans-75\" d=\"M 544 1381 \nL 544 3500 \nL 1119 3500 \nL 1119 1403 \nQ 1119 906 1312 657 \nQ 1506 409 1894 409 \nQ 2359 409 2629 706 \nQ 2900 1003 2900 1516 \nL 2900 3500 \nL 3475 3500 \nL 3475 0 \nL 2900 0 \nL 2900 538 \nQ 2691 219 2414 64 \nQ 2138 -91 1772 -91 \nQ 1169 -91 856 284 \nQ 544 659 544 1381 \nz\nM 1991 3584 \nL 1991 3584 \nz\n\" transform=\"scale(0.015625)\"/>\n       <path id=\"DejaVuSans-6e\" d=\"M 3513 2113 \nL 3513 0 \nL 2938 0 \nL 2938 2094 \nQ 2938 2591 2744 2837 \nQ 2550 3084 2163 3084 \nQ 1697 3084 1428 2787 \nQ 1159 2491 1159 1978 \nL 1159 0 \nL 581 0 \nL 581 3500 \nL 1159 3500 \nL 1159 2956 \nQ 1366 3272 1645 3428 \nQ 1925 3584 2291 3584 \nQ 2894 3584 3203 3211 \nQ 3513 2838 3513 2113 \nz\n\" transform=\"scale(0.015625)\"/>\n       <path id=\"DejaVuSans-63\" d=\"M 3122 3366 \nL 3122 2828 \nQ 2878 2963 2633 3030 \nQ 2388 3097 2138 3097 \nQ 1578 3097 1268 2742 \nQ 959 2388 959 1747 \nQ 959 1106 1268 751 \nQ 1578 397 2138 397 \nQ 2388 397 2633 464 \nQ 2878 531 3122 666 \nL 3122 134 \nQ 2881 22 2623 -34 \nQ 2366 -91 2075 -91 \nQ 1284 -91 818 406 \nQ 353 903 353 1747 \nQ 353 2603 823 3093 \nQ 1294 3584 2113 3584 \nQ 2378 3584 2631 3529 \nQ 2884 3475 3122 3366 \nz\n\" transform=\"scale(0.015625)\"/>\n       <path id=\"DejaVuSans-79\" d=\"M 2059 -325 \nQ 1816 -950 1584 -1140 \nQ 1353 -1331 966 -1331 \nL 506 -1331 \nL 506 -850 \nL 844 -850 \nQ 1081 -850 1212 -737 \nQ 1344 -625 1503 -206 \nL 1606 56 \nL 191 3500 \nL 800 3500 \nL 1894 763 \nL 2988 3500 \nL 3597 3500 \nL 2059 -325 \nz\n\" transform=\"scale(0.015625)\"/>\n      </defs>\n      <use xlink:href=\"#DejaVuSans-46\"/>\n      <use xlink:href=\"#DejaVuSans-72\" x=\"50.269531\"/>\n      <use xlink:href=\"#DejaVuSans-65\" x=\"89.132812\"/>\n      <use xlink:href=\"#DejaVuSans-71\" x=\"150.65625\"/>\n      <use xlink:href=\"#DejaVuSans-75\" x=\"214.132812\"/>\n      <use xlink:href=\"#DejaVuSans-65\" x=\"277.511719\"/>\n      <use xlink:href=\"#DejaVuSans-6e\" x=\"339.035156\"/>\n      <use xlink:href=\"#DejaVuSans-63\" x=\"402.414062\"/>\n      <use xlink:href=\"#DejaVuSans-79\" x=\"457.394531\"/>\n     </g>\n    </g>\n   </g>\n   <g id=\"patch_3\">\n    <path d=\"M 83.267045 250.613321 \nL 147.635227 250.613321 \nL 147.635227 249.457063 \nL 83.267045 249.457063 \nz\n\" clip-path=\"url(#pe246c469c0)\" style=\"fill: #337ab7; stroke: #ffffff; stroke-width: 0.3; stroke-linejoin: miter\"/>\n   </g>\n   <g id=\"patch_4\">\n    <path d=\"M 147.635227 250.613321 \nL 212.003409 250.613321 \nL 212.003409 250.613321 \nL 147.635227 250.613321 \nz\n\" clip-path=\"url(#pe246c469c0)\" style=\"fill: #337ab7; stroke: #ffffff; stroke-width: 0.3; stroke-linejoin: miter\"/>\n   </g>\n   <g id=\"patch_5\">\n    <path d=\"M 212.003409 250.613321 \nL 276.371591 250.613321 \nL 276.371591 22.219682 \nL 212.003409 22.219682 \nz\n\" clip-path=\"url(#pe246c469c0)\" style=\"fill: #337ab7; stroke: #ffffff; stroke-width: 0.3; stroke-linejoin: miter\"/>\n   </g>\n   <g id=\"patch_6\">\n    <path d=\"M 276.371591 250.613321 \nL 340.739773 250.613321 \nL 340.739773 250.613321 \nL 276.371591 250.613321 \nz\n\" clip-path=\"url(#pe246c469c0)\" style=\"fill: #337ab7; stroke: #ffffff; stroke-width: 0.3; stroke-linejoin: miter\"/>\n   </g>\n   <g id=\"patch_7\">\n    <path d=\"M 340.739773 250.613321 \nL 405.107955 250.613321 \nL 405.107955 244.61387 \nL 340.739773 244.61387 \nz\n\" clip-path=\"url(#pe246c469c0)\" style=\"fill: #337ab7; stroke: #ffffff; stroke-width: 0.3; stroke-linejoin: miter\"/>\n   </g>\n   <g id=\"patch_8\">\n    <path d=\"M 67.175 250.613321 \nL 67.175 10.8 \n\" style=\"fill: none\"/>\n   </g>\n   <g id=\"patch_9\">\n    <path d=\"M 421.2 250.613321 \nL 421.2 10.8 \n\" style=\"fill: none\"/>\n   </g>\n   <g id=\"patch_10\">\n    <path d=\"M 67.175 250.613321 \nL 421.2 250.613321 \n\" style=\"fill: none\"/>\n   </g>\n   <g id=\"patch_11\">\n    <path d=\"M 67.175 10.8 \nL 421.2 10.8 \n\" style=\"fill: none\"/>\n   </g>\n  </g>\n </g>\n <defs>\n  <clipPath id=\"pe246c469c0\">\n   <rect x=\"67.175\" y=\"10.8\" width=\"354.025\" height=\"239.813321\"/>\n  </clipPath>\n </defs>\n</svg>\n"
      }
     },
     "c41fd94e4a9944e8b53ee16267db9239": {
      "model_module": "@jupyter-widgets/controls",
      "model_module_version": "1.5.0",
      "model_name": "HTMLModel",
      "state": {
       "layout": "IPY_MODEL_009257a352e748d9acacb4baed2d4b85",
       "style": "IPY_MODEL_5686ee27f5ec46e4b814ea957a8eb49a",
       "value": "Duplicate rows"
      }
     },
     "c42a22fbe6f04bd0b9ebe8e2fd208062": {
      "model_module": "@jupyter-widgets/controls",
      "model_module_version": "1.5.0",
      "model_name": "DescriptionStyleModel",
      "state": {
       "description_width": ""
      }
     },
     "c42f11c398974a448fd35d35b425e561": {
      "model_module": "@jupyter-widgets/controls",
      "model_module_version": "1.5.0",
      "model_name": "DescriptionStyleModel",
      "state": {
       "description_width": ""
      }
     },
     "c42fc4a2704145dbaf4afedd48dd715b": {
      "model_module": "@jupyter-widgets/base",
      "model_module_version": "1.2.0",
      "model_name": "LayoutModel",
      "state": {}
     },
     "c468e5d0f7904fef83c22d47b5ed2ab0": {
      "model_module": "@jupyter-widgets/base",
      "model_module_version": "1.2.0",
      "model_name": "LayoutModel",
      "state": {
       "grid_area": "widget021"
      }
     },
     "c490c80ae61948408d588b1e49f70503": {
      "model_module": "@jupyter-widgets/controls",
      "model_module_version": "1.5.0",
      "model_name": "DescriptionStyleModel",
      "state": {
       "description_width": ""
      }
     },
     "c4ad14d37bc5492781b5c06d0582987d": {
      "model_module": "@jupyter-widgets/controls",
      "model_module_version": "1.5.0",
      "model_name": "DescriptionStyleModel",
      "state": {
       "description_width": ""
      }
     },
     "c5102a8b0d284b00b817ac5e4fabd658": {
      "model_module": "@jupyter-widgets/base",
      "model_module_version": "1.2.0",
      "model_name": "LayoutModel",
      "state": {}
     },
     "c58eecf522524cb19009285ac7cf7f8f": {
      "model_module": "@jupyter-widgets/base",
      "model_module_version": "1.2.0",
      "model_name": "LayoutModel",
      "state": {
       "grid_area": "widget007"
      }
     },
     "c6a5aebedaca4dd587f1ad5808cf5514": {
      "model_module": "@jupyter-widgets/controls",
      "model_module_version": "1.5.0",
      "model_name": "FloatProgressModel",
      "state": {
       "bar_style": "success",
       "layout": "IPY_MODEL_cadc424bd6bf4ef49b68aa725a531fb9",
       "max": 5,
       "style": "IPY_MODEL_54be42e3ec9343ed8162cda1e23c2265",
       "value": 5
      }
     },
     "c6ad76fb0d234eb09527a7f9d43df11c": {
      "model_module": "@jupyter-widgets/controls",
      "model_module_version": "1.5.0",
      "model_name": "DescriptionStyleModel",
      "state": {
       "description_width": ""
      }
     },
     "c6c2a30ed42848b895e69512dba2f845": {
      "model_module": "@jupyter-widgets/base",
      "model_module_version": "1.2.0",
      "model_name": "LayoutModel",
      "state": {
       "grid_area": "widget010"
      }
     },
     "c6f432bb9bc34c76948cf5e53912c118": {
      "model_module": "@jupyter-widgets/controls",
      "model_module_version": "1.5.0",
      "model_name": "ButtonStyleModel",
      "state": {}
     },
     "c72d16aed0424fffb4d9d5fe3e85becf": {
      "model_module": "@jupyter-widgets/base",
      "model_module_version": "1.2.0",
      "model_name": "LayoutModel",
      "state": {}
     },
     "c7429fa8aa2c431787a1204ac61934fe": {
      "model_module": "@jupyter-widgets/base",
      "model_module_version": "1.2.0",
      "model_name": "LayoutModel",
      "state": {
       "grid_template_areas": "\"widget001 widget002\"\n\"widget003 widget004\"\n\"widget005 widget006\"\n\"widget007 widget008\"",
       "grid_template_columns": "repeat(2, 1fr)",
       "grid_template_rows": "repeat(4, 1fr)"
      }
     },
     "c743c7d1ed8642a79494fea1e8bcc112": {
      "model_module": "@jupyter-widgets/base",
      "model_module_version": "1.2.0",
      "model_name": "LayoutModel",
      "state": {}
     },
     "c747ae1c1b33402497dd77b91670948b": {
      "model_module": "@jupyter-widgets/controls",
      "model_module_version": "1.5.0",
      "model_name": "HTMLModel",
      "state": {
       "layout": "IPY_MODEL_ffacc0314e2d4ed4b9459093463b169d",
       "style": "IPY_MODEL_0e09347f4d7b42e4985e29b34f656775",
       "value": "<a class=\"anchor\" href=\"#pp_var_6588079627765447598\"><code>AC requested</code></a> has 19675 (91.1%) zeros"
      }
     },
     "c779e15e69054a13b0a48e59890e77e0": {
      "model_module": "@jupyter-widgets/controls",
      "model_module_version": "1.5.0",
      "model_name": "HTMLModel",
      "state": {
       "layout": "IPY_MODEL_99c60cc5c11842fda8fbc5bf33e857c6",
       "style": "IPY_MODEL_b055edd55306436492104646af935db3",
       "value": "<a class=\"anchor\" href=\"#pp_var_-6140007269989972432\"><code>HQ review date</code></a> is an unsupported type, check if it needs cleaning or further analysis"
      }
     },
     "c78f384ad97e49b2a78382f3426c1964": {
      "model_module": "@jupyter-widgets/controls",
      "model_module_version": "1.5.0",
      "model_name": "DescriptionStyleModel",
      "state": {
       "description_width": ""
      }
     },
     "c7d417a2b5ca4d2d831cf7b48cc2151c": {
      "model_module": "@jupyter-widgets/controls",
      "model_module_version": "1.5.0",
      "model_name": "DescriptionStyleModel",
      "state": {
       "description_width": ""
      }
     },
     "c819c69b22d14445aec77361a36b8165": {
      "model_module": "@jupyter-widgets/controls",
      "model_module_version": "1.5.0",
      "model_name": "DescriptionStyleModel",
      "state": {
       "description_width": ""
      }
     },
     "c81b91b7b52e4a3a8d1def7b8e3330a2": {
      "model_module": "@jupyter-widgets/controls",
      "model_module_version": "1.5.0",
      "model_name": "LabelModel",
      "state": {
       "layout": "IPY_MODEL_fcb0549fbe814eb9bb31adb7098bcced",
       "style": "IPY_MODEL_25e1a9cea0f0401aafe8ad981b28401b",
       "value": "2"
      }
     },
     "c82da9a274a74d0b9f55440dd75725aa": {
      "model_module": "@jupyter-widgets/base",
      "model_module_version": "1.2.0",
      "model_name": "LayoutModel",
      "state": {}
     },
     "c8390746ec674d50a34802cf75252309": {
      "model_module": "@jupyter-widgets/controls",
      "model_module_version": "1.5.0",
      "model_name": "HTMLModel",
      "state": {
       "layout": "IPY_MODEL_fefb04f60256410d9ef64e5ab29637ff",
       "style": "IPY_MODEL_94f7a121d36843d8a52a835f7b7f95b8",
       "value": "116776"
      }
     },
     "c84c8c69650d4f8b8497a258e25090c7": {
      "model_module": "@jupyter-widgets/controls",
      "model_module_version": "1.5.0",
      "model_name": "HTMLModel",
      "state": {
       "layout": "IPY_MODEL_e50f98d26a6e43a0acafb444b0361392",
       "style": "IPY_MODEL_fecfea46e6c443cc95e0dc1c349563e4",
       "value": "Duration"
      }
     },
     "c8a875f657fe458fb91219b4699003e2": {
      "model_module": "@jupyter-widgets/base",
      "model_module_version": "1.2.0",
      "model_name": "LayoutModel",
      "state": {}
     },
     "c8d759c70eb24c5fa195098b69475b36": {
      "model_module": "@jupyter-widgets/controls",
      "model_module_version": "1.5.0",
      "model_name": "HTMLModel",
      "state": {
       "layout": "IPY_MODEL_92c6688197fe49ff95f9dd9dcd6f2b7d",
       "style": "IPY_MODEL_5a48e8b34d504ec48bc29355781d9930",
       "value": "<a class=\"anchor\" href=\"#pp_var_-4980201277795327264\"><code>FTIP No</code></a> is an unsupported type, check if it needs cleaning or further analysis"
      }
     },
     "c8df88a6d395488b8b9ba9bd8a329439": {
      "model_module": "@jupyter-widgets/controls",
      "model_module_version": "1.5.0",
      "model_name": "DescriptionStyleModel",
      "state": {
       "description_width": ""
      }
     },
     "c91a36932dfc40278912284b8d6d830a": {
      "model_module": "@jupyter-widgets/controls",
      "model_module_version": "1.5.0",
      "model_name": "DescriptionStyleModel",
      "state": {
       "description_width": ""
      }
     },
     "c931439537fd45528f59664c42a50148": {
      "model_module": "@jupyter-widgets/controls",
      "model_module_version": "1.5.0",
      "model_name": "ButtonStyleModel",
      "state": {}
     },
     "c944f98497fe434d84b2d2bd8e2b6318": {
      "model_module": "@jupyter-widgets/controls",
      "model_module_version": "1.5.0",
      "model_name": "ButtonModel",
      "state": {
       "description": "High correlation",
       "disabled": true,
       "layout": "IPY_MODEL_035662123293427a9741eadfdb309f85",
       "style": "IPY_MODEL_f70b50d52e0f4ac4833c92d566d5a057"
      }
     },
     "c973a133c27e4c108866c379d5cf97b6": {
      "model_module": "@jupyter-widgets/controls",
      "model_module_version": "1.5.0",
      "model_name": "HTMLModel",
      "state": {
       "layout": "IPY_MODEL_0a6af74e0d9f433e9f54a7ca9681c752",
       "style": "IPY_MODEL_37a74829e7334bce85ca8b0b4969f925",
       "value": "Download configuration"
      }
     },
     "c9765deba799490ca15fbef2459ae54d": {
      "model_module": "@jupyter-widgets/controls",
      "model_module_version": "1.5.0",
      "model_name": "ButtonModel",
      "state": {
       "button_style": "info",
       "description": "Zeros",
       "disabled": true,
       "layout": "IPY_MODEL_d4d968f2d9ae44c1ba87548773dbe0c3",
       "style": "IPY_MODEL_1a506dd2f5674364840bd41c8ecf89f5"
      }
     },
     "c9a30e44ab6c4604b623bd7583206483": {
      "model_module": "@jupyter-widgets/controls",
      "model_module_version": "1.5.0",
      "model_name": "DescriptionStyleModel",
      "state": {
       "description_width": ""
      }
     },
     "c9a64a3bbbe44cfdb07ead9adda290b7": {
      "model_module": "@jupyter-widgets/controls",
      "model_module_version": "1.5.0",
      "model_name": "HTMLModel",
      "state": {
       "layout": "IPY_MODEL_d524f8bd0a234149b6edb549d1a328aa",
       "style": "IPY_MODEL_162ac36c1cdb4b43b94296208d092cdc",
       "value": "Summarize dataset: 100%"
      }
     },
     "c9d0af1904fd43378c3284a650cce34e": {
      "model_module": "@jupyter-widgets/base",
      "model_module_version": "1.2.0",
      "model_name": "LayoutModel",
      "state": {}
     },
     "c9d1a1e21b284c49b6c8b58dd89af28a": {
      "model_module": "@jupyter-widgets/base",
      "model_module_version": "1.2.0",
      "model_name": "LayoutModel",
      "state": {
       "grid_template_areas": "\"widget001 widget002 widget003\"\n\"widget004 widget005 widget006\"\n\"widget007 widget008 widget009\"\n\"widget010 widget011 widget012\"\n\"widget013 widget014 widget015\"\n\"widget016 widget017 widget018\"\n\"widget019 widget020 widget021\"",
       "grid_template_columns": "repeat(3, 1fr)",
       "grid_template_rows": "repeat(7, 1fr)"
      }
     },
     "c9e5f27912f84446aee422560036c94d": {
      "model_module": "@jupyter-widgets/controls",
      "model_module_version": "1.5.0",
      "model_name": "ButtonStyleModel",
      "state": {}
     },
     "ca137416f72a41028020e477f253226e": {
      "model_module": "@jupyter-widgets/controls",
      "model_module_version": "1.5.0",
      "model_name": "HTMLModel",
      "state": {
       "layout": "IPY_MODEL_70a70fe128be4ca5a31a2e7634adbc22",
       "style": "IPY_MODEL_9f63576887a540beae1fc4e5faa57cd2",
       "value": "<a class=\"anchor\" href=\"#pp_var_-5145580308060701537\"><code>PREFIX</code></a> has a high cardinality: 395 distinct values"
      }
     },
     "ca4e610c57bc40319dfc9f8ea35ec25c": {
      "model_module": "@jupyter-widgets/controls",
      "model_module_version": "1.5.0",
      "model_name": "GridBoxModel",
      "state": {
       "children": [
        "IPY_MODEL_7ddbb665b6ff4c22bdd264b242dcba85",
        "IPY_MODEL_ffcb72bc05d44a84992daa77c8ec44c7",
        "IPY_MODEL_a386e5708a6a4557aebf2bc15ba3c41e",
        "IPY_MODEL_be3366a118434ad1a81f7d7328777d92",
        "IPY_MODEL_0cb073705ba04cfc821eb106ef7278cd",
        "IPY_MODEL_c8390746ec674d50a34802cf75252309",
        "IPY_MODEL_5f852f4892b643da9f9f4d4d2566fe71",
        "IPY_MODEL_90f54199fbee4166b83f1b85f3cd708b",
        "IPY_MODEL_d616ecb84cdc41a2acd0b1fd7848704e",
        "IPY_MODEL_832e6979a19940969b3afa5f8d5bcad2",
        "IPY_MODEL_5d67a48047064f34851474f4e60d4a28",
        "IPY_MODEL_cdc99948bd6543b1be6d3f1da33a76b6",
        "IPY_MODEL_bb464195401446f3b52a88af3274144e",
        "IPY_MODEL_13fde003978e40bbba17c2256b4e42c3",
        "IPY_MODEL_505092769e6945f2b97c0987fc2c46d7",
        "IPY_MODEL_297058c6fa3843cba59d65c6c25230dc"
       ],
       "layout": "IPY_MODEL_6ed29976061b49b68d4fb17e8685b8ba"
      }
     },
     "ca56cfe592324071a86c3d0f10fbfe65": {
      "model_module": "@jupyter-widgets/controls",
      "model_module_version": "1.5.0",
      "model_name": "ButtonModel",
      "state": {
       "button_style": "info",
       "description": "Zeros",
       "disabled": true,
       "layout": "IPY_MODEL_859ba426e80a4a6ebdb092e352e685a8",
       "style": "IPY_MODEL_ac4ec2eae1834aef9b9cb44f5d1165e5"
      }
     },
     "cab54aa4d4974a09a32fc88bec8a4139": {
      "model_module": "@jupyter-widgets/controls",
      "model_module_version": "1.5.0",
      "model_name": "ProgressStyleModel",
      "state": {
       "description_width": ""
      }
     },
     "cace0f5eb95848fc9b42b2ba9119ee9d": {
      "model_module": "@jupyter-widgets/controls",
      "model_module_version": "1.5.0",
      "model_name": "ButtonModel",
      "state": {
       "button_style": "danger",
       "description": "High cardinality",
       "disabled": true,
       "layout": "IPY_MODEL_d7530ef49d474a478160a0e7ceca5658",
       "style": "IPY_MODEL_6a2e9fb1dcb746b4b37ae2ebad3c0952"
      }
     },
     "cadc424bd6bf4ef49b68aa725a531fb9": {
      "model_module": "@jupyter-widgets/base",
      "model_module_version": "1.2.0",
      "model_name": "LayoutModel",
      "state": {}
     },
     "cb37e081ea874adeb88d843d397b9958": {
      "model_module": "@jupyter-widgets/base",
      "model_module_version": "1.2.0",
      "model_name": "LayoutModel",
      "state": {}
     },
     "cb4ab9d14650417abae1db379bf3b613": {
      "model_module": "@jupyter-widgets/controls",
      "model_module_version": "1.5.0",
      "model_name": "DescriptionStyleModel",
      "state": {
       "description_width": ""
      }
     },
     "cb50793d0ef44a6fa48e6cab13791727": {
      "model_module": "@jupyter-widgets/controls",
      "model_module_version": "1.5.0",
      "model_name": "GridBoxModel",
      "state": {
       "children": [
        "IPY_MODEL_097a52dc640e477dbc49c9190b959b52",
        "IPY_MODEL_25361ee149c74257970eac214bd529aa",
        "IPY_MODEL_7fa63a64144248539ef831c660fd8a49",
        "IPY_MODEL_a49da1bfc16e47a0b0a2396d14c0f4b7",
        "IPY_MODEL_1b81284e9a0c469da3405a7c8e978e37",
        "IPY_MODEL_12fbb3b0ee3842bca175c0c739882a0f",
        "IPY_MODEL_b226eccd7da34d3b9d90367a3882aa1b",
        "IPY_MODEL_f16172451f134cd98f6013c977cfe0a1",
        "IPY_MODEL_81078ff8647c46d090fce3d4ff521221",
        "IPY_MODEL_e1f684099d3b4e5bbe5ab20e36acb936",
        "IPY_MODEL_861aec4cb448487888bb2c7b580ef7cf",
        "IPY_MODEL_55233934b78c4512a8f8ce0a3ecf82b0",
        "IPY_MODEL_2ee21dae6297470d8747c18e48699763",
        "IPY_MODEL_f8170b131d1047b9810cb9bd6cd5e752",
        "IPY_MODEL_64df8d3aedd240cea024a1ce130ddaa1",
        "IPY_MODEL_823583d621e145b0a7b3221b8a8f5602",
        "IPY_MODEL_01a49a8b6a9e4e5b9492fdac553acade",
        "IPY_MODEL_c81b91b7b52e4a3a8d1def7b8e3330a2"
       ],
       "layout": "IPY_MODEL_888a4e6003204a50acc1b8cee265ba12"
      }
     },
     "cb8aa224981d4de4ad9ac92ff7195318": {
      "model_module": "@jupyter-widgets/controls",
      "model_module_version": "1.5.0",
      "model_name": "DescriptionStyleModel",
      "state": {
       "description_width": ""
      }
     },
     "cba404882a44491f9baecba04dc44191": {
      "model_module": "@jupyter-widgets/base",
      "model_module_version": "1.2.0",
      "model_name": "LayoutModel",
      "state": {
       "grid_area": "widget013"
      }
     },
     "cbb774f6eb984375bed362a1df0a3090": {
      "model_module": "@jupyter-widgets/base",
      "model_module_version": "1.2.0",
      "model_name": "LayoutModel",
      "state": {}
     },
     "cc115376ff9a497d808b6d11ed5cca33": {
      "model_module": "@jupyter-widgets/base",
      "model_module_version": "1.2.0",
      "model_name": "LayoutModel",
      "state": {
       "grid_area": "widget012"
      }
     },
     "cc786e0b9b8d4a65934e742b378a8ebe": {
      "model_module": "@jupyter-widgets/controls",
      "model_module_version": "1.5.0",
      "model_name": "HTMLModel",
      "state": {
       "layout": "IPY_MODEL_80a88b73d7984f2ca97606a25e57eb9c",
       "style": "IPY_MODEL_858a3a8754454c0dad6d25b7ef0a3cca",
       "value": "Missing (%)"
      }
     },
     "ccbd31c3b05745eb98058a75bdb2e818": {
      "model_module": "@jupyter-widgets/controls",
      "model_module_version": "1.5.0",
      "model_name": "DescriptionStyleModel",
      "state": {
       "description_width": ""
      }
     },
     "ccc738569d054ee3925ce25addbff810": {
      "model_module": "@jupyter-widgets/controls",
      "model_module_version": "1.5.0",
      "model_name": "ButtonStyleModel",
      "state": {}
     },
     "cd1e7c92f7cd40199d398ace7b428316": {
      "model_module": "@jupyter-widgets/base",
      "model_module_version": "1.2.0",
      "model_name": "LayoutModel",
      "state": {
       "grid_area": "widget005"
      }
     },
     "cd3b68c3a6814499ba6dcf9706c1a850": {
      "model_module": "@jupyter-widgets/controls",
      "model_module_version": "1.5.0",
      "model_name": "ProgressStyleModel",
      "state": {
       "description_width": ""
      }
     },
     "cd925fa01867400dba060a1965e6d8bf": {
      "model_module": "@jupyter-widgets/base",
      "model_module_version": "1.2.0",
      "model_name": "LayoutModel",
      "state": {}
     },
     "cdc80863418a49c188f00950fe7a0e27": {
      "model_module": "@jupyter-widgets/base",
      "model_module_version": "1.2.0",
      "model_name": "LayoutModel",
      "state": {}
     },
     "cdc99948bd6543b1be6d3f1da33a76b6": {
      "model_module": "@jupyter-widgets/controls",
      "model_module_version": "1.5.0",
      "model_name": "HTMLModel",
      "state": {
       "layout": "IPY_MODEL_5c01fdf8c6fb40b9bafd8876770050ff",
       "style": "IPY_MODEL_87a57eea0ce94fe4a05bce5dfd8864b2",
       "value": "0.0%"
      }
     },
     "cdf64fd71137482d913b326a428e0671": {
      "model_module": "@jupyter-widgets/base",
      "model_module_version": "1.2.0",
      "model_name": "LayoutModel",
      "state": {}
     },
     "ceb87687b9164303b3d76b7a9d142a1b": {
      "model_module": "@jupyter-widgets/controls",
      "model_module_version": "1.5.0",
      "model_name": "HTMLModel",
      "state": {
       "layout": "IPY_MODEL_fc7b8c76910b4aeaba247676d6a849a8",
       "style": "IPY_MODEL_9ef6c067ecba4999ad1be88ab21ff69b",
       "value": "<a class=\"anchor\" href=\"#pp_var_-2916060121462389247\"><code>Locode</code></a> has 1499 (6.9%) missing values"
      }
     },
     "cec6fdda6af743b6be46535170133076": {
      "model_module": "@jupyter-widgets/controls",
      "model_module_version": "1.5.0",
      "model_name": "ButtonStyleModel",
      "state": {}
     },
     "cee1311bf25e4e81856fb58c28a9e5f9": {
      "model_module": "@jupyter-widgets/base",
      "model_module_version": "1.2.0",
      "model_name": "LayoutModel",
      "state": {}
     },
     "ceef81b074624ecf9a0815e65fb616c8": {
      "model_module": "@jupyter-widgets/base",
      "model_module_version": "1.2.0",
      "model_name": "LayoutModel",
      "state": {}
     },
     "cf6312a167824722ab06e070fa9afcfe": {
      "model_module": "@jupyter-widgets/controls",
      "model_module_version": "1.5.0",
      "model_name": "HTMLModel",
      "state": {
       "layout": "IPY_MODEL_d33d9cb03f2c44d5a684275bbe7047c4",
       "style": "IPY_MODEL_d85c32619a2a4302ac0c9bfe9f7463f1",
       "value": "<a href=\"https://github.com/pandas-profiling/pandas-profiling\">pandas-profiling v3.1.0</a>"
      }
     },
     "d004cdc7b7544bb790800d7dd3dd1505": {
      "model_module": "@jupyter-widgets/base",
      "model_module_version": "1.2.0",
      "model_name": "LayoutModel",
      "state": {
       "grid_area": "widget002"
      }
     },
     "d04ebb42e59044f7bb83aa7af8c9bb54": {
      "model_module": "@jupyter-widgets/controls",
      "model_module_version": "1.5.0",
      "model_name": "DescriptionStyleModel",
      "state": {
       "description_width": ""
      }
     },
     "d0856ca48bb141ec8b1128f1b59f34f6": {
      "model_module": "@jupyter-widgets/controls",
      "model_module_version": "1.5.0",
      "model_name": "GridBoxModel",
      "state": {
       "children": [
        "IPY_MODEL_05e7df9a840d44b28b33a4dce899c7ca",
        "IPY_MODEL_9b1e871f511746428521f7adf98b2456"
       ],
       "layout": "IPY_MODEL_2aa87e481d21476fba14a4442fb99595"
      }
     },
     "d0aacf1d8e3d4c35bb78905711a9d51b": {
      "model_module": "@jupyter-widgets/controls",
      "model_module_version": "1.5.0",
      "model_name": "LabelModel",
      "state": {
       "layout": "IPY_MODEL_d4f5613fc6a34046a8334acd61767aa9",
       "style": "IPY_MODEL_5a491e006db3427a90921213ce4bd07b",
       "value": "112"
      }
     },
     "d0b23dc8943d4e04bc631593a10aa557": {
      "model_module": "@jupyter-widgets/controls",
      "model_module_version": "1.5.0",
      "model_name": "HTMLModel",
      "state": {
       "layout": "IPY_MODEL_a6467350481d42079c1c3de790dc5ee3",
       "style": "IPY_MODEL_616e402c7436459fbcc877c6dc9edd3f",
       "value": "31.0 MiB"
      }
     },
     "d0d9d1c16c7744bdae1b9adef158edbc": {
      "model_module": "@jupyter-widgets/controls",
      "model_module_version": "1.5.0",
      "model_name": "HTMLModel",
      "state": {
       "layout": "IPY_MODEL_d75441229644418a848e958943209621",
       "style": "IPY_MODEL_ddc86873a89b4262ba0fa66e997260ef",
       "value": "<a class=\"anchor\" href=\"#pp_var_6604879376318492971\"><code>To FMIS date</code></a> is an unsupported type, check if it needs cleaning or further analysis"
      }
     },
     "d0e1215670ef4ef6a19b5429f1b01793": {
      "model_module": "@jupyter-widgets/controls",
      "model_module_version": "1.5.0",
      "model_name": "FloatProgressModel",
      "state": {
       "layout": "IPY_MODEL_87eb1b81a5e7407f85e617277747a877",
       "max": 21594,
       "style": "IPY_MODEL_e3fa73e4f34f4049a1bed5b929e1fc95",
       "value": 19
      }
     },
     "d0e352e6429d46e199d10dba5ba598de": {
      "model_module": "@jupyter-widgets/base",
      "model_module_version": "1.2.0",
      "model_name": "LayoutModel",
      "state": {}
     },
     "d1047050e1b04808bed68f2d08d07462": {
      "model_module": "@jupyter-widgets/controls",
      "model_module_version": "1.5.0",
      "model_name": "FloatProgressModel",
      "state": {
       "layout": "IPY_MODEL_f6f636f0477b4e70b2f4d1f545dd6ea3",
       "max": 22144,
       "style": "IPY_MODEL_186b1dced0bd44a58d2431175ed3ac88",
       "value": 112
      }
     },
     "d114ddc3c5ab4694a796a3a877d2c166": {
      "model_module": "@jupyter-widgets/base",
      "model_module_version": "1.2.0",
      "model_name": "LayoutModel",
      "state": {}
     },
     "d11d20a5c453456fa190d58ecf7fc571": {
      "model_module": "@jupyter-widgets/base",
      "model_module_version": "1.2.0",
      "model_name": "LayoutModel",
      "state": {
       "grid_area": "widget003"
      }
     },
     "d198f9f156c446c29aeedff217e05371": {
      "model_module": "@jupyter-widgets/base",
      "model_module_version": "1.2.0",
      "model_name": "LayoutModel",
      "state": {}
     },
     "d1ab838b694d4c6c97d6bd4a9b7d4e81": {
      "model_module": "@jupyter-widgets/base",
      "model_module_version": "1.2.0",
      "model_name": "LayoutModel",
      "state": {}
     },
     "d1ead1fd3ede4077a4046b753e276f33": {
      "model_module": "@jupyter-widgets/controls",
      "model_module_version": "1.5.0",
      "model_name": "HTMLModel",
      "state": {
       "layout": "IPY_MODEL_5bf81d7b8d5a4e169ab18745ed7c1dae",
       "style": "IPY_MODEL_7c67d132a81e4657b7b9dee6656df544",
       "value": "<a class=\"anchor\" href=\"#pp_var_-5370696587087856265\"><code>submit to FHWA date</code></a> is an unsupported type, check if it needs cleaning or further analysis"
      }
     },
     "d2050eb46f8247e8a047f20817b5482f": {
      "model_module": "@jupyter-widgets/controls",
      "model_module_version": "1.5.0",
      "model_name": "HTMLModel",
      "state": {
       "layout": "IPY_MODEL_87fa3eab2bb84c64880c47c0c82378ea",
       "style": "IPY_MODEL_f6db495e3896426f83e7ef51bc80fe21",
       "value": "Render widgets:   0%"
      }
     },
     "d209953eae1c4cb1931d274dc6e6ec80": {
      "model_module": "@jupyter-widgets/controls",
      "model_module_version": "1.5.0",
      "model_name": "ButtonStyleModel",
      "state": {}
     },
     "d2232f9b11bf454d801aa99856b38275": {
      "model_module": "@jupyter-widgets/controls",
      "model_module_version": "1.5.0",
      "model_name": "ButtonStyleModel",
      "state": {}
     },
     "d22abe78a0aa4d8aa4e63f8b67837c0c": {
      "model_module": "@jupyter-widgets/base",
      "model_module_version": "1.2.0",
      "model_name": "LayoutModel",
      "state": {}
     },
     "d2390f6f7d47418a87e786659516ef80": {
      "model_module": "@jupyter-widgets/controls",
      "model_module_version": "1.5.0",
      "model_name": "LabelModel",
      "state": {
       "layout": "IPY_MODEL_714f5ae8a5bb473a9a644eb013d6221c",
       "style": "IPY_MODEL_a41910dcdd124020ab648652b9906b3f",
       "value": "obligated"
      }
     },
     "d23f2f7779c74f67a30ee35d31221bab": {
      "model_module": "@jupyter-widgets/controls",
      "model_module_version": "1.5.0",
      "model_name": "HBoxModel",
      "state": {
       "children": [
        "IPY_MODEL_16d8a5a5a143432097abb93d2a1b2ef0",
        "IPY_MODEL_5a6f968f134142fdb86ac24f5f671f50",
        "IPY_MODEL_8be2fd9353564380bc87804101fb0761"
       ],
       "layout": "IPY_MODEL_1dc647d827a746a99623bba51d016695"
      }
     },
     "d2438002189844b284d10732f2534427": {
      "model_module": "@jupyter-widgets/controls",
      "model_module_version": "1.5.0",
      "model_name": "ButtonStyleModel",
      "state": {}
     },
     "d272233e57c94b0189f930b971e9d884": {
      "model_module": "@jupyter-widgets/controls",
      "model_module_version": "1.5.0",
      "model_name": "DescriptionStyleModel",
      "state": {
       "description_width": ""
      }
     },
     "d2cfe9fa1e144176b1e336887e0a5e59": {
      "model_module": "@jupyter-widgets/controls",
      "model_module_version": "1.5.0",
      "model_name": "HTMLModel",
      "state": {
       "layout": "IPY_MODEL_be8722a22ea740aebf559ec33ac154de",
       "style": "IPY_MODEL_ad8d939a6e3a4381bd2855eae34b39f1",
       "value": "<a class=\"anchor\" href=\"#pp_var_-5722233049682501385\">\n        <code>Waiting Days</code>\n    </a> is highly correlated with <code>MPO</code>"
      }
     },
     "d32010efc8d24699a38cae36e8f7cf39": {
      "model_module": "@jupyter-widgets/controls",
      "model_module_version": "1.5.0",
      "model_name": "HBoxModel",
      "state": {
       "children": [
        "IPY_MODEL_e64b9d461cde49eeb7403cf4a4f17533",
        "IPY_MODEL_1e3644597ac84df1b7e82ea5f6688d7e",
        "IPY_MODEL_b76ac1228da24fe699847aa21d5d1467"
       ],
       "layout": "IPY_MODEL_98d0e0ea7cbf4b90b621e498c5ceca1d"
      }
     },
     "d3368e0aa92c4fcd9a6ce85553de7c26": {
      "model_module": "@jupyter-widgets/controls",
      "model_module_version": "1.5.0",
      "model_name": "DescriptionStyleModel",
      "state": {
       "description_width": ""
      }
     },
     "d33c3d09f66843fcabace55d6a3582ce": {
      "model_module": "@jupyter-widgets/controls",
      "model_module_version": "1.5.0",
      "model_name": "FloatProgressModel",
      "state": {
       "layout": "IPY_MODEL_db19ca0e8aa54537bc65df5aff9ff6ef",
       "max": 22144,
       "style": "IPY_MODEL_4f5e83dcd1b8426ea4790284dd04e85f",
       "value": 112
      }
     },
     "d33d9cb03f2c44d5a684275bbe7047c4": {
      "model_module": "@jupyter-widgets/base",
      "model_module_version": "1.2.0",
      "model_name": "LayoutModel",
      "state": {
       "grid_area": "widget008"
      }
     },
     "d3578e820f954f2f93da83bff02c0cb3": {
      "model_module": "@jupyter-widgets/base",
      "model_module_version": "1.2.0",
      "model_name": "LayoutModel",
      "state": {}
     },
     "d363328328f64f5d94387a9b687b80c1": {
      "model_module": "@jupyter-widgets/controls",
      "model_module_version": "1.5.0",
      "model_name": "LabelModel",
      "state": {
       "layout": "IPY_MODEL_1a974f254a744514a3f1bd42d7625ce6",
       "style": "IPY_MODEL_29c979d0407a49feaa0737ae32cbdfe5",
       "value": "19"
      }
     },
     "d3c4e56d2d534fbeb49abfb4a999ea89": {
      "model_module": "@jupyter-widgets/controls",
      "model_module_version": "1.5.0",
      "model_name": "HTMLModel",
      "state": {
       "layout": "IPY_MODEL_5c28aad2eff94d21ae1fb602b25d8ca0",
       "style": "IPY_MODEL_620cd57419044b2797542ee7bf74f51f",
       "value": "<a class=\"anchor\" href=\"#pp_var_-5018031239419449836\"><code>Project NO</code></a> is uniformly distributed"
      }
     },
     "d3ca048723ac40fc96fa560162240af7": {
      "model_module": "@jupyter-widgets/base",
      "model_module_version": "1.2.0",
      "model_name": "LayoutModel",
      "state": {}
     },
     "d4192f06b336460d91a9c457cfdffa83": {
      "model_module": "@jupyter-widgets/controls",
      "model_module_version": "1.5.0",
      "model_name": "HTMLModel",
      "state": {
       "layout": "IPY_MODEL_74b88ad823324dfebb1fe117d9ff28fd",
       "style": "IPY_MODEL_0e6e529c52854ab2901fc68f9fc9a83d",
       "value": "<h4>Pie chart</h4>"
      }
     },
     "d4211942cb9644a3bdc6f827063ccc4f": {
      "model_module": "@jupyter-widgets/controls",
      "model_module_version": "1.5.0",
      "model_name": "DescriptionStyleModel",
      "state": {
       "description_width": ""
      }
     },
     "d44f4193d69f42aabda1c7217d833675": {
      "model_module": "@jupyter-widgets/base",
      "model_module_version": "1.2.0",
      "model_name": "LayoutModel",
      "state": {
       "grid_area": "widget007"
      }
     },
     "d45dd84608a44d7c9c449d7b8b1d679e": {
      "model_module": "@jupyter-widgets/base",
      "model_module_version": "1.2.0",
      "model_name": "LayoutModel",
      "state": {}
     },
     "d4862d0194be43d88f2fe518b627b519": {
      "model_module": "@jupyter-widgets/controls",
      "model_module_version": "1.5.0",
      "model_name": "DescriptionStyleModel",
      "state": {
       "description_width": ""
      }
     },
     "d48e73a0a47b425fb0253f28431a275d": {
      "model_module": "@jupyter-widgets/base",
      "model_module_version": "1.2.0",
      "model_name": "LayoutModel",
      "state": {
       "align_items": "flex-end",
       "display": "flex",
       "flex_flow": "column",
       "width": "100%"
      }
     },
     "d4bc39d3954b43df808e1847f3a30357": {
      "model_module": "@jupyter-widgets/controls",
      "model_module_version": "1.5.0",
      "model_name": "HTMLModel",
      "state": {
       "layout": "IPY_MODEL_f29dfd3e54f54cd980b23b7017679545",
       "style": "IPY_MODEL_5603f3fa832b4b429036cc17bae02650",
       "value": "5th row"
      }
     },
     "d4d968f2d9ae44c1ba87548773dbe0c3": {
      "model_module": "@jupyter-widgets/base",
      "model_module_version": "1.2.0",
      "model_name": "LayoutModel",
      "state": {}
     },
     "d4f5613fc6a34046a8334acd61767aa9": {
      "model_module": "@jupyter-widgets/base",
      "model_module_version": "1.2.0",
      "model_name": "LayoutModel",
      "state": {}
     },
     "d5063bbbfb874f1d973d3f43ca9a3698": {
      "model_module": "@jupyter-widgets/base",
      "model_module_version": "1.2.0",
      "model_name": "LayoutModel",
      "state": {}
     },
     "d51be898548944c88dd203523a1ab203": {
      "model_module": "@jupyter-widgets/base",
      "model_module_version": "1.2.0",
      "model_name": "LayoutModel",
      "state": {}
     },
     "d524f8bd0a234149b6edb549d1a328aa": {
      "model_module": "@jupyter-widgets/base",
      "model_module_version": "1.2.0",
      "model_name": "LayoutModel",
      "state": {}
     },
     "d535cb12578d4806a96a84c8f31097c9": {
      "model_module": "@jupyter-widgets/controls",
      "model_module_version": "1.5.0",
      "model_name": "DescriptionStyleModel",
      "state": {
       "description_width": ""
      }
     },
     "d535d22880524371ae78270fe12ba2b7": {
      "model_module": "@jupyter-widgets/controls",
      "model_module_version": "1.5.0",
      "model_name": "LabelModel",
      "state": {
       "layout": "IPY_MODEL_cba404882a44491f9baecba04dc44191",
       "style": "IPY_MODEL_67ef5bec311346a3a985b9ba2bdf7883",
       "value": "FMIS"
      }
     },
     "d54f46ff9d064760b634e0795f772521": {
      "model_module": "@jupyter-widgets/controls",
      "model_module_version": "1.5.0",
      "model_name": "HTMLModel",
      "state": {
       "layout": "IPY_MODEL_351cbace79ff4787994e461729ebe10e",
       "style": "IPY_MODEL_bb43ca7a88ee4174bec3977a104dd057",
       "value": "Max length"
      }
     },
     "d5918cf81a094c9192fb9ffce2bd6a04": {
      "model_module": "@jupyter-widgets/controls",
      "model_module_version": "1.5.0",
      "model_name": "ButtonModel",
      "state": {
       "description": "High correlation",
       "disabled": true,
       "layout": "IPY_MODEL_3a99da0fa8034191bf1afada25885708",
       "style": "IPY_MODEL_b3626fb9d2a74af4be71d2e930336949"
      }
     },
     "d5a7fd438685477882bee1d50fbbfcc3": {
      "model_module": "@jupyter-widgets/controls",
      "model_module_version": "1.5.0",
      "model_name": "GridBoxModel",
      "state": {
       "children": [
        "IPY_MODEL_d54f46ff9d064760b634e0795f772521",
        "IPY_MODEL_a22f8b38602e401fafca7ed8702d1f3b",
        "IPY_MODEL_1de4bf9fb12a445698fb6d23ef4f349a",
        "IPY_MODEL_5ef018e96aaf4c93b30a47601b807f84",
        "IPY_MODEL_e06f93a25d214fda96f81e9c0e404bd9",
        "IPY_MODEL_a1dd9a3b98a44efdb8390935f97d47fd",
        "IPY_MODEL_1fcc5cfed7d1401fb9e5493a6d8fabb7",
        "IPY_MODEL_8202010d5e3f4d68ac562b2d8163c9b1"
       ],
       "layout": "IPY_MODEL_7d4fa8acf7e74aa2aa1034b82a85848e"
      }
     },
     "d5aceb496506407989530159a1e8fb83": {
      "model_module": "@jupyter-widgets/controls",
      "model_module_version": "1.5.0",
      "model_name": "ButtonStyleModel",
      "state": {}
     },
     "d5df64f3d122481c846a822cf4fa42dc": {
      "model_module": "@jupyter-widgets/controls",
      "model_module_version": "1.5.0",
      "model_name": "HTMLModel",
      "state": {
       "layout": "IPY_MODEL_61ce62a1949647859bb5682d12a672d7",
       "style": "IPY_MODEL_0af49eab4ff049a28b46737798c7864e",
       "value": "8"
      }
     },
     "d5eb5385ae2c4c369eb5a27380b0a05e": {
      "model_module": "@jupyter-widgets/controls",
      "model_module_version": "1.5.0",
      "model_name": "HTMLModel",
      "state": {
       "layout": "IPY_MODEL_0a5cd7dd15334f0bb8590a407c2dd253",
       "style": "IPY_MODEL_4bbd60f7c19244f281ba35e0caf69ec2",
       "value": "9"
      }
     },
     "d5f00100c52e46a1b21065e7750d43be": {
      "model_module": "@jupyter-widgets/controls",
      "model_module_version": "1.5.0",
      "model_name": "HTMLModel",
      "state": {
       "layout": "IPY_MODEL_0865814f7b724eaf94884da8d2f578de",
       "style": "IPY_MODEL_816e8acbdc1f4bd38370288209e56a19",
       "value": "Median length"
      }
     },
     "d616ecb84cdc41a2acd0b1fd7848704e": {
      "model_module": "@jupyter-widgets/controls",
      "model_module_version": "1.5.0",
      "model_name": "HTMLModel",
      "state": {
       "layout": "IPY_MODEL_d8fa954298c84bf086522e6cc8167117",
       "style": "IPY_MODEL_f5c2c03ae5cb47a8ba10f41c9f415059",
       "value": "Duplicate rows"
      }
     },
     "d62bf51017ce4d688619b18bb01fcfb2": {
      "model_module": "@jupyter-widgets/base",
      "model_module_version": "1.2.0",
      "model_name": "LayoutModel",
      "state": {}
     },
     "d643a69204604a569e95f64e6010bd6f": {
      "model_module": "@jupyter-widgets/controls",
      "model_module_version": "1.5.0",
      "model_name": "ProgressStyleModel",
      "state": {
       "description_width": ""
      }
     },
     "d64bab2c8914435597bd9735fcee623e": {
      "model_module": "@jupyter-widgets/controls",
      "model_module_version": "1.5.0",
      "model_name": "HTMLModel",
      "state": {
       "layout": "IPY_MODEL_230013cbd3ac43798ba8966458fc56f2",
       "style": "IPY_MODEL_0c1358ca90114c0eb7e84180932b4bbe",
       "value": "21.88 seconds"
      }
     },
     "d65e11008007411fa0d4a2fb45325182": {
      "model_module": "@jupyter-widgets/controls",
      "model_module_version": "1.5.0",
      "model_name": "ButtonStyleModel",
      "state": {}
     },
     "d6757ecec5bb41998ae88e57b05cbadd": {
      "model_module": "@jupyter-widgets/base",
      "model_module_version": "1.2.0",
      "model_name": "LayoutModel",
      "state": {
       "grid_area": "widget007"
      }
     },
     "d69eecefb6d949eabf10c03c99137d71": {
      "model_module": "@jupyter-widgets/base",
      "model_module_version": "1.2.0",
      "model_name": "LayoutModel",
      "state": {
       "grid_area": "widget003"
      }
     },
     "d6a51448b0ad419e9567790474560f23": {
      "model_module": "@jupyter-widgets/base",
      "model_module_version": "1.2.0",
      "model_name": "LayoutModel",
      "state": {}
     },
     "d6abc8d81b114604a42f9f58f2f1b1f9": {
      "model_module": "@jupyter-widgets/controls",
      "model_module_version": "1.5.0",
      "model_name": "HBoxModel",
      "state": {
       "children": [
        "IPY_MODEL_a8688f6236114bae870ec6e16064a94b",
        "IPY_MODEL_6927302ce0cc4cb58825f000cb2347e0"
       ],
       "layout": "IPY_MODEL_7aae676d824144f2bd1276326c3c57df"
      }
     },
     "d736a01c8a234da98cde9ce2cb9c1b7b": {
      "model_module": "@jupyter-widgets/controls",
      "model_module_version": "1.5.0",
      "model_name": "VBoxModel",
      "state": {
       "children": [
        "IPY_MODEL_cb50793d0ef44a6fa48e6cab13791727"
       ],
       "layout": "IPY_MODEL_8663717049fb48b98ea6499a76cab215"
      }
     },
     "d7530ef49d474a478160a0e7ceca5658": {
      "model_module": "@jupyter-widgets/base",
      "model_module_version": "1.2.0",
      "model_name": "LayoutModel",
      "state": {}
     },
     "d75441229644418a848e958943209621": {
      "model_module": "@jupyter-widgets/base",
      "model_module_version": "1.2.0",
      "model_name": "LayoutModel",
      "state": {}
     },
     "d78fd7cfe75044068aca4a2bcd896a96": {
      "model_module": "@jupyter-widgets/controls",
      "model_module_version": "1.5.0",
      "model_name": "DescriptionStyleModel",
      "state": {
       "description_width": ""
      }
     },
     "d792a75e5fc046b1bd7300cbf261df28": {
      "model_module": "@jupyter-widgets/controls",
      "model_module_version": "1.5.0",
      "model_name": "GridBoxModel",
      "state": {
       "children": [
        "IPY_MODEL_0db3706a8afc4fe4827b7685c0f018f3",
        "IPY_MODEL_6d9edd5095284b728d798e6f96edf477",
        "IPY_MODEL_534450f9431148088003caa6eec937bc",
        "IPY_MODEL_50e25427fce94d1481177518ce2ce711"
       ],
       "layout": "IPY_MODEL_6ff5a56e881347668ca9a25da733d9c9"
      }
     },
     "d7d713f6261341d487ef23b646ef3610": {
      "model_module": "@jupyter-widgets/base",
      "model_module_version": "1.2.0",
      "model_name": "LayoutModel",
      "state": {}
     },
     "d816c6a809754841b6c33372cb73e896": {
      "model_module": "@jupyter-widgets/base",
      "model_module_version": "1.2.0",
      "model_name": "LayoutModel",
      "state": {}
     },
     "d84a683b4fe84b47b4015bc1a8ae1380": {
      "model_module": "@jupyter-widgets/controls",
      "model_module_version": "1.5.0",
      "model_name": "DescriptionStyleModel",
      "state": {
       "description_width": ""
      }
     },
     "d85c32619a2a4302ac0c9bfe9f7463f1": {
      "model_module": "@jupyter-widgets/controls",
      "model_module_version": "1.5.0",
      "model_name": "DescriptionStyleModel",
      "state": {
       "description_width": ""
      }
     },
     "d86ebe07892246079e9eb7336b61b573": {
      "model_module": "@jupyter-widgets/controls",
      "model_module_version": "1.5.0",
      "model_name": "ButtonModel",
      "state": {
       "description": "High correlation",
       "disabled": true,
       "layout": "IPY_MODEL_c39e50f948fb45b8a02601ff935afb56",
       "style": "IPY_MODEL_2e26165f0b3c43b3bf4093befe0d9e8a"
      }
     },
     "d872fccf8e904fb7867cba9197ff4ad9": {
      "model_module": "@jupyter-widgets/base",
      "model_module_version": "1.2.0",
      "model_name": "LayoutModel",
      "state": {}
     },
     "d87dd4c54c564954a463aab8d005a6dd": {
      "model_module": "@jupyter-widgets/base",
      "model_module_version": "1.2.0",
      "model_name": "LayoutModel",
      "state": {
       "grid_area": "widget006"
      }
     },
     "d8b04ca44fd84e0481f05adf3b5fbec1": {
      "model_module": "@jupyter-widgets/base",
      "model_module_version": "1.2.0",
      "model_name": "LayoutModel",
      "state": {
       "align_items": "flex-end",
       "display": "flex",
       "flex_flow": "column",
       "width": "100%"
      }
     },
     "d8f024ceb2d9459d96c26afff9ada40d": {
      "model_module": "@jupyter-widgets/base",
      "model_module_version": "1.2.0",
      "model_name": "LayoutModel",
      "state": {}
     },
     "d8fa954298c84bf086522e6cc8167117": {
      "model_module": "@jupyter-widgets/base",
      "model_module_version": "1.2.0",
      "model_name": "LayoutModel",
      "state": {
       "grid_area": "widget009"
      }
     },
     "d9281a4863e44479be0a785db2fc6b2a": {
      "model_module": "@jupyter-widgets/controls",
      "model_module_version": "1.5.0",
      "model_name": "HTMLModel",
      "state": {
       "layout": "IPY_MODEL_9cc71cb8e6ad473aa2c4220ac544e73c",
       "style": "IPY_MODEL_a84d63c8f0334db3887a6fe7f75351fc",
       "value": "Summarize dataset: 100%"
      }
     },
     "d94a6b578b4e481ca41bfcb86e84a1d5": {
      "model_module": "@jupyter-widgets/controls",
      "model_module_version": "1.5.0",
      "model_name": "ProgressStyleModel",
      "state": {
       "description_width": ""
      }
     },
     "d95349bce8734d5aa0e017930fa730c7": {
      "model_module": "@jupyter-widgets/controls",
      "model_module_version": "1.5.0",
      "model_name": "FloatProgressModel",
      "state": {
       "bar_style": "success",
       "layout": "IPY_MODEL_a72959e190004ea5b3021d07b7467c63",
       "max": 1,
       "style": "IPY_MODEL_d99bc9030ba44b9396de4d2190d4a552",
       "value": 1
      }
     },
     "d99bc9030ba44b9396de4d2190d4a552": {
      "model_module": "@jupyter-widgets/controls",
      "model_module_version": "1.5.0",
      "model_name": "ProgressStyleModel",
      "state": {
       "description_width": ""
      }
     },
     "d9c5810cac72474ab9bdad6669c514a8": {
      "model_module": "@jupyter-widgets/controls",
      "model_module_version": "1.5.0",
      "model_name": "HTMLModel",
      "state": {
       "layout": "IPY_MODEL_ef1b84ded6754148bd5d0ac8e7c9cbd3",
       "style": "IPY_MODEL_6d70157e5110464b825f6646160c7c04",
       "value": "0 <a title=\"Unicode scripts (click for more information)\" href=\"https://en.wikipedia.org/wiki/Script_(Unicode)#List_of_scripts_in_Unicode\" target=\"_blank\"><span class=\"badge pull-right\" style=\"color:#fff;background-color:#337ab7;\" title=\"Unicode scripts (click for more information)\">?</span></a>"
      }
     },
     "da10cadc2f8048b8aa3d444e8c21c9f6": {
      "model_module": "@jupyter-widgets/controls",
      "model_module_version": "1.5.0",
      "model_name": "HBoxModel",
      "state": {
       "children": [
        "IPY_MODEL_76ebcef781ce4dc491516f048c76f64d",
        "IPY_MODEL_1c22b9d2d2924e80a2c173b77f1bd14e",
        "IPY_MODEL_8e25cbc6a22b4552b4db2ba8aff941df"
       ],
       "layout": "IPY_MODEL_c066b3a95b4b43c188db08c6e8db6bf7"
      }
     },
     "da18ecabac3341caa7774ef586ffb5dd": {
      "model_module": "@jupyter-widgets/controls",
      "model_module_version": "1.5.0",
      "model_name": "ProgressStyleModel",
      "state": {
       "description_width": ""
      }
     },
     "daa95c88ca0e481583fd17ad54071bf7": {
      "model_module": "@jupyter-widgets/controls",
      "model_module_version": "1.5.0",
      "model_name": "ButtonModel",
      "state": {
       "button_style": "info",
       "description": "Zeros",
       "disabled": true,
       "layout": "IPY_MODEL_f85ba6ae0c2d46469384dade05d5da3a",
       "style": "IPY_MODEL_f5e759bfbc9246d78495a9b106db18d5"
      }
     },
     "dab3188754be4647b041f75b442bc1ad": {
      "model_module": "@jupyter-widgets/base",
      "model_module_version": "1.2.0",
      "model_name": "LayoutModel",
      "state": {}
     },
     "dafd0030569f42c89d7ec91396ab8b62": {
      "model_module": "@jupyter-widgets/controls",
      "model_module_version": "1.5.0",
      "model_name": "ProgressStyleModel",
      "state": {
       "description_width": ""
      }
     },
     "db14f97da20f4046a8ccc8279ae438e8": {
      "model_module": "@jupyter-widgets/controls",
      "model_module_version": "1.5.0",
      "model_name": "DescriptionStyleModel",
      "state": {
       "description_width": ""
      }
     },
     "db19ca0e8aa54537bc65df5aff9ff6ef": {
      "model_module": "@jupyter-widgets/base",
      "model_module_version": "1.2.0",
      "model_name": "LayoutModel",
      "state": {
       "grid_area": "widget011"
      }
     },
     "db4015416621434caf0a77b98e254084": {
      "model_module": "@jupyter-widgets/controls",
      "model_module_version": "1.5.0",
      "model_name": "HTMLModel",
      "state": {
       "layout": "IPY_MODEL_f0bd014bae36453a9f08297afee5ac61",
       "style": "IPY_MODEL_4a24b61bae1e496d8eb7f9ddbd81d25e",
       "value": "Missing"
      }
     },
     "db59f7193170435b931c3ffe993cc58c": {
      "model_module": "@jupyter-widgets/controls",
      "model_module_version": "1.5.0",
      "model_name": "HTMLModel",
      "state": {
       "layout": "IPY_MODEL_edaa1374509c4c098848fc57da0a58ee",
       "style": "IPY_MODEL_829602c6263c40d387e2f60fd40cd5c5",
       "value": "<a class=\"anchor\" href=\"#pp_var_2308412230319078049\"><code>Type of Work</code></a> has a high cardinality: 6939 distinct values"
      }
     },
     "db6dc4e7ba8345828452af48c63cd9a1": {
      "model_module": "@jupyter-widgets/controls",
      "model_module_version": "1.5.0",
      "model_name": "HBoxModel",
      "state": {
       "children": [
        "IPY_MODEL_e6075fd6cb1841d99ecf6ef1410a4028"
       ],
       "layout": "IPY_MODEL_d48e73a0a47b425fb0253f28431a275d"
      }
     },
     "db89564937ea45c685bbd76d90b61a9f": {
      "model_module": "@jupyter-widgets/controls",
      "model_module_version": "1.5.0",
      "model_name": "DescriptionStyleModel",
      "state": {
       "description_width": ""
      }
     },
     "db92412f7c8440faa4913dcc43edc044": {
      "model_module": "@jupyter-widgets/base",
      "model_module_version": "1.2.0",
      "model_name": "LayoutModel",
      "state": {}
     },
     "dc0391d00e6240478ef575758718d524": {
      "model_module": "@jupyter-widgets/controls",
      "model_module_version": "1.5.0",
      "model_name": "HTMLModel",
      "state": {
       "layout": "IPY_MODEL_c101ba8293ca44208f390236e714cb7d",
       "style": "IPY_MODEL_f9f4f2f6e56b4a15ad6a83c2c322c280",
       "value": "Download configuration"
      }
     },
     "dc0db1cc545c494a9255c9acfb43e199": {
      "model_module": "@jupyter-widgets/controls",
      "model_module_version": "1.5.0",
      "model_name": "HBoxModel",
      "state": {
       "children": [
        "IPY_MODEL_ed2ff98def124493927cd19c12e69585",
        "IPY_MODEL_dd76143b565b421095e3f9246007e267",
        "IPY_MODEL_5e5fb0e1cb9a4b058064391665d3566a"
       ],
       "layout": "IPY_MODEL_c28eab4b322542a4816ee52f7a6b8f47"
      }
     },
     "dc34e504a8864bc2a734846b41788da4": {
      "model_module": "@jupyter-widgets/controls",
      "model_module_version": "1.5.0",
      "model_name": "HTMLModel",
      "state": {
       "layout": "IPY_MODEL_12dea69475634e2182b1a2d771a49dff",
       "style": "IPY_MODEL_225d2b61dd0e40d1ade13dd8c0628f51",
       "value": "<a class=\"anchor\" href=\"#pp_var_5075180745154540758\"><code>Status</code></a> has a high cardinality: 273 distinct values"
      }
     },
     "dca2ad0d5574431e89b2e043eccbb807": {
      "model_module": "@jupyter-widgets/controls",
      "model_module_version": "1.5.0",
      "model_name": "ButtonStyleModel",
      "state": {}
     },
     "dcc85a76a6254f369b0c32ca20cee0dc": {
      "model_module": "@jupyter-widgets/controls",
      "model_module_version": "1.5.0",
      "model_name": "ButtonStyleModel",
      "state": {}
     },
     "dd76143b565b421095e3f9246007e267": {
      "model_module": "@jupyter-widgets/controls",
      "model_module_version": "1.5.0",
      "model_name": "FloatProgressModel",
      "state": {
       "bar_style": "success",
       "layout": "IPY_MODEL_bc4df7afc69f4dba80e0e8d9753f47d7",
       "max": 1,
       "style": "IPY_MODEL_0613a6f709c7408abc8a8c8c1fda832e",
       "value": 1
      }
     },
     "dd89c67ba981494e9263f78fb9412390": {
      "model_module": "@jupyter-widgets/controls",
      "model_module_version": "1.5.0",
      "model_name": "FloatProgressModel",
      "state": {
       "layout": "IPY_MODEL_f79e2c0e0c684b0d9b86d50373195241",
       "max": 22144,
       "style": "IPY_MODEL_47055dc776bf44448d2b2cee96ac8c9d",
       "value": 550
      }
     },
     "ddc86873a89b4262ba0fa66e997260ef": {
      "model_module": "@jupyter-widgets/controls",
      "model_module_version": "1.5.0",
      "model_name": "DescriptionStyleModel",
      "state": {
       "description_width": ""
      }
     },
     "de3523a945c84763ae6368bddc443b95": {
      "model_module": "@jupyter-widgets/base",
      "model_module_version": "1.2.0",
      "model_name": "LayoutModel",
      "state": {}
     },
     "de67e133475049e3a0d1df194c3a4b16": {
      "model_module": "@jupyter-widgets/controls",
      "model_module_version": "1.5.0",
      "model_name": "DescriptionStyleModel",
      "state": {
       "description_width": ""
      }
     },
     "de6f1bb2e88042f5956ccc1683aaf0e0": {
      "model_module": "@jupyter-widgets/controls",
      "model_module_version": "1.5.0",
      "model_name": "HBoxModel",
      "state": {
       "children": [
        "IPY_MODEL_1991439779034417a338f37a52dffefb"
       ],
       "layout": "IPY_MODEL_d8b04ca44fd84e0481f05adf3b5fbec1"
      }
     },
     "de709c8bf229477a9b1ce7d13a8b100c": {
      "model_module": "@jupyter-widgets/controls",
      "model_module_version": "1.5.0",
      "model_name": "DescriptionStyleModel",
      "state": {
       "description_width": ""
      }
     },
     "de732e745f044d10a4b614c1cc19e672": {
      "model_module": "@jupyter-widgets/controls",
      "model_module_version": "1.5.0",
      "model_name": "HTMLModel",
      "state": {
       "layout": "IPY_MODEL_1dcafef19e3c4d3cb9f86c0d3c9893db",
       "style": "IPY_MODEL_d535cb12578d4806a96a84c8f31097c9",
       "value": "<a class=\"anchor\" href=\"#pp_var_-4980201277795327264\"><code>FTIP No</code></a> is an unsupported type, check if it needs cleaning or further analysis"
      }
     },
     "de97c42732a34566835adcf1225828ad": {
      "model_module": "@jupyter-widgets/controls",
      "model_module_version": "1.5.0",
      "model_name": "FloatProgressModel",
      "state": {
       "description": "FTA Transferred",
       "layout": "IPY_MODEL_27bd11c55e554f868ceab8c98cc6bcbb",
       "max": 21594,
       "style": "IPY_MODEL_e8c4139251504f0daef432f99f2a2bf1",
       "value": 550
      }
     },
     "ded5fc21a7b949b180db5b83caa51635": {
      "model_module": "@jupyter-widgets/base",
      "model_module_version": "1.2.0",
      "model_name": "LayoutModel",
      "state": {
       "grid_template_columns": "100%",
       "width": "100%"
      }
     },
     "def2af023a9645dd9b19eb04361b56dc": {
      "model_module": "@jupyter-widgets/controls",
      "model_module_version": "1.5.0",
      "model_name": "ButtonStyleModel",
      "state": {}
     },
     "df124b0dd8b84b84a8d4665915094b2e": {
      "model_module": "@jupyter-widgets/base",
      "model_module_version": "1.2.0",
      "model_name": "LayoutModel",
      "state": {
       "grid_area": "widget017"
      }
     },
     "df1bbbe9246142ba80a4cd6510b5a689": {
      "model_module": "@jupyter-widgets/controls",
      "model_module_version": "1.5.0",
      "model_name": "DescriptionStyleModel",
      "state": {
       "description_width": ""
      }
     },
     "df28b0968d3c4fa1ab6b14a336a0b163": {
      "model_module": "@jupyter-widgets/controls",
      "model_module_version": "1.5.0",
      "model_name": "DescriptionStyleModel",
      "state": {
       "description_width": ""
      }
     },
     "df6908802ecd4d7b908430517a00b1d7": {
      "model_module": "@jupyter-widgets/controls",
      "model_module_version": "1.5.0",
      "model_name": "DescriptionStyleModel",
      "state": {
       "description_width": ""
      }
     },
     "df6e071c5f194143a531ddc60dbce158": {
      "model_module": "@jupyter-widgets/base",
      "model_module_version": "1.2.0",
      "model_name": "LayoutModel",
      "state": {}
     },
     "df94bf5aa39343f6a901874d30ccf16b": {
      "model_module": "@jupyter-widgets/controls",
      "model_module_version": "1.5.0",
      "model_name": "HTMLModel",
      "state": {
       "layout": "IPY_MODEL_764842a028844aacacf6b62507cb8fcc",
       "style": "IPY_MODEL_19f8c5ad9d8b4350acfa08b55eceb704",
       "value": "<p class=\"h4\" title=\"Location\"><a\n        href=\"#pp_var_-5136899479059597449\">Location</a><br/>\n    <small>Categorical</small>\n</p>\n    <code><abbr title=\"This variable has a high correlation with 1 fields: Status Comment\">HIGH CORRELATION</abbr></code><br />\n<p class=\"variable-description\">\n    \n</p>"
      }
     },
     "dfb4a21aa8de442bb1362388b939c6cf": {
      "model_module": "@jupyter-widgets/controls",
      "model_module_version": "1.5.0",
      "model_name": "HTMLModel",
      "state": {
       "layout": "IPY_MODEL_f99a16014789401f871992572f31f2af",
       "style": "IPY_MODEL_3d2f3b4670c6433cb64471a0a57b67f0",
       "value": "0 <a title=\"Unicode categories (click for more information)\" href=\"https://en.wikipedia.org/wiki/Unicode_character_property#General_Category\" target=\"_blank\"><span class=\"badge pull-right\" style=\"color:#fff;background-color:#337ab7;\" title=\"Unicode categories (click for more information)\">?</span></a>"
      }
     },
     "dff7185839b94a69aa27a23a05abb6a4": {
      "model_module": "@jupyter-widgets/base",
      "model_module_version": "1.2.0",
      "model_name": "LayoutModel",
      "state": {
       "grid_template_columns": "75% 25%",
       "width": "100%"
      }
     },
     "dffdbfd9bfb847deb0845763dc729874": {
      "model_module": "@jupyter-widgets/base",
      "model_module_version": "1.2.0",
      "model_name": "LayoutModel",
      "state": {
       "grid_area": "widget009"
      }
     },
     "e033fb8a89784f4698fba901199900d5": {
      "model_module": "@jupyter-widgets/base",
      "model_module_version": "1.2.0",
      "model_name": "LayoutModel",
      "state": {}
     },
     "e048a67d228548449e6ad887c262579e": {
      "model_module": "@jupyter-widgets/controls",
      "model_module_version": "1.5.0",
      "model_name": "DescriptionStyleModel",
      "state": {
       "description_width": ""
      }
     },
     "e06f93a25d214fda96f81e9c0e404bd9": {
      "model_module": "@jupyter-widgets/controls",
      "model_module_version": "1.5.0",
      "model_name": "HTMLModel",
      "state": {
       "layout": "IPY_MODEL_8e6b08c0abba4ae6aa5ef6a6974afe64",
       "style": "IPY_MODEL_08ac818d7c984fcfaa55d7676cb4d2a5",
       "value": "Mean length"
      }
     },
     "e07939dd10534eafbb615dfd05f16c1d": {
      "model_module": "@jupyter-widgets/base",
      "model_module_version": "1.2.0",
      "model_name": "LayoutModel",
      "state": {}
     },
     "e07ae76b4416438fbb2c476c9be240d2": {
      "model_module": "@jupyter-widgets/base",
      "model_module_version": "1.2.0",
      "model_name": "LayoutModel",
      "state": {}
     },
     "e081ad07ed9541beb04379318ff346c2": {
      "model_module": "@jupyter-widgets/controls",
      "model_module_version": "1.5.0",
      "model_name": "DescriptionStyleModel",
      "state": {
       "description_width": ""
      }
     },
     "e1072cb3f0484235a41a2ce7bcf16fa1": {
      "model_module": "@jupyter-widgets/base",
      "model_module_version": "1.2.0",
      "model_name": "LayoutModel",
      "state": {
       "grid_area": "widget019"
      }
     },
     "e1185dee677d49caabed4ff6100be511": {
      "model_module": "@jupyter-widgets/controls",
      "model_module_version": "1.5.0",
      "model_name": "DescriptionStyleModel",
      "state": {
       "description_width": ""
      }
     },
     "e1e5ff0ea2e04a37848c5d53d7365cf4": {
      "model_module": "@jupyter-widgets/base",
      "model_module_version": "1.2.0",
      "model_name": "LayoutModel",
      "state": {
       "grid_template_areas": "\"widget001 widget002\"\n\"widget003 widget004\"\n\"widget005 widget006\"\n\"widget007 widget008\"\n\"widget009 widget010\"",
       "grid_template_columns": "repeat(2, 1fr)",
       "grid_template_rows": "repeat(5, 1fr)"
      }
     },
     "e1f684099d3b4e5bbe5ab20e36acb936": {
      "model_module": "@jupyter-widgets/controls",
      "model_module_version": "1.5.0",
      "model_name": "LabelModel",
      "state": {
       "layout": "IPY_MODEL_0581bdec46ef4c319fd88423abff3c70",
       "style": "IPY_MODEL_7a20a262bd18435b83072635b7b34393",
       "value": "HQ"
      }
     },
     "e25366b7ebad40e79d9e837618144655": {
      "model_module": "@jupyter-widgets/controls",
      "model_module_version": "1.5.0",
      "model_name": "HBoxModel",
      "state": {
       "children": [
        "IPY_MODEL_9622aa17280d420c839119c3f59cf22b",
        "IPY_MODEL_2d0664cfb05f486cb16e97724c8f327f",
        "IPY_MODEL_8761352507594be59ed2df6d03ff613f"
       ],
       "layout": "IPY_MODEL_b74d1c49b1884fcabb1ec655da330e58"
      }
     },
     "e28f6baea42c4f8ab2af4419a20f46a6": {
      "model_module": "@jupyter-widgets/controls",
      "model_module_version": "1.5.0",
      "model_name": "ButtonModel",
      "state": {
       "button_style": "info",
       "description": "Missing",
       "disabled": true,
       "layout": "IPY_MODEL_7b3df184db03422da13520ac78be2227",
       "style": "IPY_MODEL_069e695363f647b7aa08dfcb596f6e56"
      }
     },
     "e2ca3232b17a420cbb67e77b3cd988d9": {
      "model_module": "@jupyter-widgets/controls",
      "model_module_version": "1.5.0",
      "model_name": "DescriptionStyleModel",
      "state": {
       "description_width": ""
      }
     },
     "e2dcbc39dfe44f2cb281ae9218a834d2": {
      "model_module": "@jupyter-widgets/controls",
      "model_module_version": "1.5.0",
      "model_name": "ProgressStyleModel",
      "state": {
       "description_width": ""
      }
     },
     "e355fb06756847e280db6b7299b3671a": {
      "model_module": "@jupyter-widgets/controls",
      "model_module_version": "1.5.0",
      "model_name": "HTMLModel",
      "state": {
       "layout": "IPY_MODEL_b18707a38b4c406c9c684404a97c7370",
       "style": "IPY_MODEL_2dd887cf6cb8450db33199e7d5e3169e",
       "value": "<a class=\"anchor\" href=\"#pp_var_-2583248843754977393\">\n        <code>FHWA processing Days</code>\n    </a> is highly correlated with <code>Status Comment</code>"
      }
     },
     "e3c4fdc3b4f4486d8175ec605a5c8a0f": {
      "model_module": "@jupyter-widgets/controls",
      "model_module_version": "1.5.0",
      "model_name": "LabelModel",
      "state": {
       "layout": "IPY_MODEL_53eefa81d2134914975fab157d933dd8",
       "style": "IPY_MODEL_9e686c4619524d1b9337dfa2b093a7a2",
       "value": "19"
      }
     },
     "e3e299f264e544409ddc50581fcd4fd4": {
      "model_module": "@jupyter-widgets/controls",
      "model_module_version": "1.5.0",
      "model_name": "FloatProgressModel",
      "state": {
       "bar_style": "success",
       "layout": "IPY_MODEL_783c840abd4448b48ac7c2be2be40d24",
       "max": 1,
       "style": "IPY_MODEL_44b77ea0353f4680ae36fb1354b87a9a",
       "value": 1
      }
     },
     "e3fa73e4f34f4049a1bed5b929e1fc95": {
      "model_module": "@jupyter-widgets/controls",
      "model_module_version": "1.5.0",
      "model_name": "ProgressStyleModel",
      "state": {
       "description_width": ""
      }
     },
     "e429421525d0489da7b3815e6d9bca2f": {
      "model_module": "@jupyter-widgets/base",
      "model_module_version": "1.2.0",
      "model_name": "LayoutModel",
      "state": {}
     },
     "e43c547e15864907afd7091da326417d": {
      "model_module": "@jupyter-widgets/base",
      "model_module_version": "1.2.0",
      "model_name": "LayoutModel",
      "state": {}
     },
     "e48ae30e12684e8f8ea86912e7e7bab5": {
      "model_module": "@jupyter-widgets/base",
      "model_module_version": "1.2.0",
      "model_name": "LayoutModel",
      "state": {}
     },
     "e493a4f4b7ac4fef86100ace9ac6aee5": {
      "model_module": "@jupyter-widgets/controls",
      "model_module_version": "1.5.0",
      "model_name": "DescriptionStyleModel",
      "state": {
       "description_width": ""
      }
     },
     "e4ab317dbbc64074821dbaf80b732dd5": {
      "model_module": "@jupyter-widgets/controls",
      "model_module_version": "1.5.0",
      "model_name": "HTMLModel",
      "state": {
       "layout": "IPY_MODEL_97d2b640da89497a86db14e7db777b59",
       "style": "IPY_MODEL_617b7b564eb449ce835ef1fd7ce8f3cf",
       "value": "Summarize dataset: 100%"
      }
     },
     "e4be0bee18e749f6a9d09dbbb050854c": {
      "model_module": "@jupyter-widgets/controls",
      "model_module_version": "1.5.0",
      "model_name": "GridBoxModel",
      "state": {
       "layout": "IPY_MODEL_051c11582164439b94fb3576f7759551"
      }
     },
     "e5063a74256a48ab9810316f976f006d": {
      "model_module": "@jupyter-widgets/controls",
      "model_module_version": "1.5.0",
      "model_name": "DescriptionStyleModel",
      "state": {
       "description_width": ""
      }
     },
     "e50f98d26a6e43a0acafb444b0361392": {
      "model_module": "@jupyter-widgets/base",
      "model_module_version": "1.2.0",
      "model_name": "LayoutModel",
      "state": {
       "grid_area": "widget005"
      }
     },
     "e55ac071d2724920a430ff4eb8455dab": {
      "model_module": "@jupyter-widgets/base",
      "model_module_version": "1.2.0",
      "model_name": "LayoutModel",
      "state": {}
     },
     "e5ea35a994274deda26dcabadc3c8502": {
      "model_module": "@jupyter-widgets/controls",
      "model_module_version": "1.5.0",
      "model_name": "HTMLModel",
      "state": {
       "layout": "IPY_MODEL_a2ed60fe906a49d3a0e09985d64f52fb",
       "style": "IPY_MODEL_1fe794c8da9e478f9e52ed5507dd95e0",
       "value": "<strong>Most occurring characters</strong>"
      }
     },
     "e5f3f03f6d9049b59404ffc03388be61": {
      "model_module": "@jupyter-widgets/controls",
      "model_module_version": "1.5.0",
      "model_name": "HTMLModel",
      "state": {
       "layout": "IPY_MODEL_36a1643638ad488480b1ac7a7852c87e",
       "style": "IPY_MODEL_cb4ab9d14650417abae1db379bf3b613",
       "value": "Obligated"
      }
     },
     "e6075fd6cb1841d99ecf6ef1410a4028": {
      "model_module": "@jupyter-widgets/controls",
      "model_module_version": "1.5.0",
      "model_name": "ToggleButtonModel",
      "state": {
       "description": "Toggle details",
       "layout": "IPY_MODEL_19fc9138fbcc4db2bf9f0db3b9bd3108",
       "style": "IPY_MODEL_3193e8f7f38747baa3b71a92480fabc9"
      }
     },
     "e64b9d461cde49eeb7403cf4a4f17533": {
      "model_module": "@jupyter-widgets/controls",
      "model_module_version": "1.5.0",
      "model_name": "HTMLModel",
      "state": {
       "layout": "IPY_MODEL_55cf435de8144a9eb93ef23ab5047c81",
       "style": "IPY_MODEL_3d99a6c86a414103b7a9c52cdb730298",
       "value": "Summarize dataset:  72%"
      }
     },
     "e68e3cfb60b644e39c2ba048b01bdc0e": {
      "model_module": "@jupyter-widgets/controls",
      "model_module_version": "1.5.0",
      "model_name": "HTMLModel",
      "state": {
       "layout": "IPY_MODEL_c1ed1548ce344b778d58c49397c7584a",
       "style": "IPY_MODEL_2ba8d309e3ea483eb35884bc53c788fd",
       "value": " 109/109 [00:21&lt;00:00,  1.95it/s, Completed]"
      }
     },
     "e69cbfe9b12b4b6c9cbd63049bb5ad7b": {
      "model_module": "@jupyter-widgets/base",
      "model_module_version": "1.2.0",
      "model_name": "LayoutModel",
      "state": {}
     },
     "e6d446f1082a43ea99817a5a3a65a75f": {
      "model_module": "@jupyter-widgets/controls",
      "model_module_version": "1.5.0",
      "model_name": "HTMLModel",
      "state": {
       "layout": "IPY_MODEL_eea90cd652464918a7d66b4ab3160428",
       "style": "IPY_MODEL_227069378c5a4231be7893190beabccf",
       "value": "Unsupported"
      }
     },
     "e6e86f3e2a324a18877fdce8d75bed76": {
      "model_module": "@jupyter-widgets/base",
      "model_module_version": "1.2.0",
      "model_name": "LayoutModel",
      "state": {}
     },
     "e7054bdf484846a6b1a5cd0d1c526e28": {
      "model_module": "@jupyter-widgets/controls",
      "model_module_version": "1.5.0",
      "model_name": "DescriptionStyleModel",
      "state": {
       "description_width": ""
      }
     },
     "e7090b5ea6fb44af83a2d6ce4bbcb0b1": {
      "model_module": "@jupyter-widgets/controls",
      "model_module_version": "1.5.0",
      "model_name": "ButtonModel",
      "state": {
       "button_style": "warning",
       "description": "Unsupported",
       "disabled": true,
       "layout": "IPY_MODEL_51736dc769bf43efbb319fa14d3ebddb",
       "style": "IPY_MODEL_219d51f302a849bc81115ee4e8e1f9bf"
      }
     },
     "e70d00ab92304b6288785899c4a6d2ff": {
      "model_module": "@jupyter-widgets/controls",
      "model_module_version": "1.5.0",
      "model_name": "ButtonStyleModel",
      "state": {}
     },
     "e762dabdf14b46e6b9406a1adc45f60c": {
      "model_module": "@jupyter-widgets/controls",
      "model_module_version": "1.5.0",
      "model_name": "ButtonModel",
      "state": {
       "description": "High correlation",
       "disabled": true,
       "layout": "IPY_MODEL_149afe5a3e2d437e90a10e631ee6001b",
       "style": "IPY_MODEL_97334503b35b4297b9b948a66e4f236d"
      }
     },
     "e763cdd5a4f847efa5eb77a0aaf5fc35": {
      "model_module": "@jupyter-widgets/controls",
      "model_module_version": "1.5.0",
      "model_name": "DescriptionStyleModel",
      "state": {
       "description_width": ""
      }
     },
     "e77d69c6694542fdb4d6a516abb958f3": {
      "model_module": "@jupyter-widgets/base",
      "model_module_version": "1.2.0",
      "model_name": "LayoutModel",
      "state": {}
     },
     "e7829d3ebdf343f29729576d892714a5": {
      "model_module": "@jupyter-widgets/controls",
      "model_module_version": "1.5.0",
      "model_name": "ProgressStyleModel",
      "state": {
       "description_width": ""
      }
     },
     "e786cb23277a4ec3a1e2266327436e94": {
      "model_module": "@jupyter-widgets/controls",
      "model_module_version": "1.5.0",
      "model_name": "ButtonModel",
      "state": {
       "button_style": "info",
       "description": "Missing",
       "disabled": true,
       "layout": "IPY_MODEL_306e936aea9341b2a6df75cfbfc10a00",
       "style": "IPY_MODEL_a7247f55454849698faf1e7ec2e00ce9"
      }
     },
     "e7acf29866c34af7915fcc5b118e89e9": {
      "model_module": "@jupyter-widgets/controls",
      "model_module_version": "1.5.0",
      "model_name": "DescriptionStyleModel",
      "state": {
       "description_width": ""
      }
     },
     "e7d13f8ffb2b44b4bc385cbd364a928c": {
      "model_module": "@jupyter-widgets/controls",
      "model_module_version": "1.5.0",
      "model_name": "HTMLModel",
      "state": {
       "layout": "IPY_MODEL_8f9c26f6e0c84a5a8497af962f5b9ab2",
       "style": "IPY_MODEL_5be6b096bb234551937688782e4a8066",
       "value": " 0/1 [00:02&lt;?, ?it/s]"
      }
     },
     "e7da49bb856549b696eee29371e30370": {
      "model_module": "@jupyter-widgets/base",
      "model_module_version": "1.2.0",
      "model_name": "LayoutModel",
      "state": {}
     },
     "e7db036561f9410eabd31d9e18253c59": {
      "model_module": "@jupyter-widgets/controls",
      "model_module_version": "1.5.0",
      "model_name": "VBoxModel",
      "state": {
       "children": [
        "IPY_MODEL_45fdbb9659bd49d79ebfbe2185e54fac"
       ],
       "layout": "IPY_MODEL_55acdef85b5f41e98503f575411f1f4f"
      }
     },
     "e7edb99e432544a8a8963f50601dbfa0": {
      "model_module": "@jupyter-widgets/base",
      "model_module_version": "1.2.0",
      "model_name": "LayoutModel",
      "state": {}
     },
     "e8683ab99da148c6a7bdb2ecb22b23d1": {
      "model_module": "@jupyter-widgets/controls",
      "model_module_version": "1.5.0",
      "model_name": "HTMLModel",
      "state": {
       "layout": "IPY_MODEL_1d7fe80dd31d4e8fbc26ac4c4c9d9e49",
       "style": "IPY_MODEL_be9bc70db64a47b39c322ba873eb6d3f",
       "value": "Total characters"
      }
     },
     "e8c4139251504f0daef432f99f2a2bf1": {
      "model_module": "@jupyter-widgets/controls",
      "model_module_version": "1.5.0",
      "model_name": "ProgressStyleModel",
      "state": {
       "description_width": ""
      }
     },
     "e8d32649a45848bbb6bdb2bdace2f7bb": {
      "model_module": "@jupyter-widgets/controls",
      "model_module_version": "1.5.0",
      "model_name": "HTMLModel",
      "state": {
       "layout": "IPY_MODEL_d87dd4c54c564954a463aab8d005a6dd",
       "style": "IPY_MODEL_c91a36932dfc40278912284b8d6d830a",
       "value": "8"
      }
     },
     "e8de25dda09f4b2ba5daeabc1d0e60e5": {
      "model_module": "@jupyter-widgets/controls",
      "model_module_version": "1.5.0",
      "model_name": "ButtonStyleModel",
      "state": {}
     },
     "e907d9636c494629a5932e415432f9ce": {
      "model_module": "@jupyter-widgets/base",
      "model_module_version": "1.2.0",
      "model_name": "LayoutModel",
      "state": {
       "grid_area": "widget007"
      }
     },
     "e94248402edd4561aba5f8b49ce2ec56": {
      "model_module": "@jupyter-widgets/controls",
      "model_module_version": "1.5.0",
      "model_name": "DescriptionStyleModel",
      "state": {
       "description_width": ""
      }
     },
     "e9440608ab3c44f98fd1522d45c1e62a": {
      "model_module": "@jupyter-widgets/base",
      "model_module_version": "1.2.0",
      "model_name": "LayoutModel",
      "state": {}
     },
     "e94972dd4ff1491a9b84a0bb253b861b": {
      "model_module": "@jupyter-widgets/controls",
      "model_module_version": "1.5.0",
      "model_name": "DescriptionStyleModel",
      "state": {
       "description_width": ""
      }
     },
     "e9a02611a6934a638f911bd3ee757dbe": {
      "model_module": "@jupyter-widgets/controls",
      "model_module_version": "1.5.0",
      "model_name": "DescriptionStyleModel",
      "state": {
       "description_width": ""
      }
     },
     "e9caef7af5694d148de094449eed7bb1": {
      "model_module": "@jupyter-widgets/controls",
      "model_module_version": "1.5.0",
      "model_name": "HTMLModel",
      "state": {
       "layout": "IPY_MODEL_eee7d7d3ae904de99dee3f07fb0b7664",
       "style": "IPY_MODEL_62a1fb5a44bc44eb92d3ec047e901d78",
       "value": "<a class=\"anchor\" href=\"#pp_var_-5018031239419449836\"><code>Project NO</code></a> is uniformly distributed"
      }
     },
     "e9caff005cdd4ff6a657d43315f10f69": {
      "model_module": "@jupyter-widgets/base",
      "model_module_version": "1.2.0",
      "model_name": "LayoutModel",
      "state": {
       "grid_area": "widget002"
      }
     },
     "e9e95f68c6d04291a84a4cf0a2f28a7e": {
      "model_module": "@jupyter-widgets/controls",
      "model_module_version": "1.5.0",
      "model_name": "ProgressStyleModel",
      "state": {
       "description_width": ""
      }
     },
     "ea00dbf038a9411aac26974dca6da9de": {
      "model_module": "@jupyter-widgets/base",
      "model_module_version": "1.2.0",
      "model_name": "LayoutModel",
      "state": {}
     },
     "ea0e648d3d3c43c4899f88cad365a69e": {
      "model_module": "@jupyter-widgets/base",
      "model_module_version": "1.2.0",
      "model_name": "LayoutModel",
      "state": {}
     },
     "ea65a82ec025408c93aa08033670d766": {
      "model_module": "@jupyter-widgets/base",
      "model_module_version": "1.2.0",
      "model_name": "LayoutModel",
      "state": {}
     },
     "eaa4a278ffbf43188a86c8caea2b5ae4": {
      "model_module": "@jupyter-widgets/controls",
      "model_module_version": "1.5.0",
      "model_name": "HTMLModel",
      "state": {
       "layout": "IPY_MODEL_d6a51448b0ad419e9567790474560f23",
       "style": "IPY_MODEL_5fb587ce9b364e20a8fab65ca0648159",
       "value": "<a class=\"anchor\" href=\"#pp_var_1659950516416786112\"><code>dist processing Days</code></a> has 1830 (8.5%) missing values"
      }
     },
     "eae031fabe714120a6b4317a4df98e12": {
      "model_module": "@jupyter-widgets/controls",
      "model_module_version": "1.5.0",
      "model_name": "ButtonModel",
      "state": {
       "button_style": "danger",
       "description": "High cardinality",
       "disabled": true,
       "layout": "IPY_MODEL_db92412f7c8440faa4913dcc43edc044",
       "style": "IPY_MODEL_b63c1d5b1fba44de9a3366bb66d3a121"
      }
     },
     "eb341182512e4c5eb552c767038b47a7": {
      "model_module": "@jupyter-widgets/controls",
      "model_module_version": "1.5.0",
      "model_name": "HTMLModel",
      "state": {
       "layout": "IPY_MODEL_7ca2f7a3e5544a38a9d11d3055012493",
       "style": "IPY_MODEL_f583a9ada9f046cd895c8dd54e1a2d7a",
       "value": "0 <a title=\"Unicode scripts (click for more information)\" href=\"https://en.wikipedia.org/wiki/Script_(Unicode)#List_of_scripts_in_Unicode\" target=\"_blank\"><span class=\"badge pull-right\" style=\"color:#fff;background-color:#337ab7;\" title=\"Unicode scripts (click for more information)\">?</span></a>"
      }
     },
     "eb5c33ed21cc49eeb929282d848c2eb6": {
      "model_module": "@jupyter-widgets/base",
      "model_module_version": "1.2.0",
      "model_name": "LayoutModel",
      "state": {}
     },
     "ebe7b7468e2e42e98d94c8226e0c0165": {
      "model_module": "@jupyter-widgets/controls",
      "model_module_version": "1.5.0",
      "model_name": "DescriptionStyleModel",
      "state": {
       "description_width": ""
      }
     },
     "ec00f9116b8f4a2db3f712b25cf0e9f5": {
      "model_module": "@jupyter-widgets/controls",
      "model_module_version": "1.5.0",
      "model_name": "VBoxModel",
      "state": {
       "children": [
        "IPY_MODEL_d5a7fd438685477882bee1d50fbbfcc3"
       ],
       "layout": "IPY_MODEL_63083ca1787e43348f626360914d601e"
      }
     },
     "ec36fe4f64334848a9f71fab7a61c50b": {
      "model_module": "@jupyter-widgets/controls",
      "model_module_version": "1.5.0",
      "model_name": "LabelModel",
      "state": {
       "layout": "IPY_MODEL_1c7ef1acbd4143a3a6c465d173e9e4c3",
       "style": "IPY_MODEL_6e55bad2d51042bb9ce494a331eebd2d",
       "value": "19"
      }
     },
     "ec39faa9aa2b44a0a0bd2866a700cde0": {
      "model_module": "@jupyter-widgets/controls",
      "model_module_version": "1.5.0",
      "model_name": "DescriptionStyleModel",
      "state": {
       "description_width": ""
      }
     },
     "ec4c963f84e64ce4a6884332968baf96": {
      "model_module": "@jupyter-widgets/controls",
      "model_module_version": "1.5.0",
      "model_name": "VBoxModel",
      "state": {
       "children": [
        "IPY_MODEL_f936d206bc2848a48cba907650126724",
        "IPY_MODEL_83238f29d2034330ad790313c4c9c1b4"
       ],
       "layout": "IPY_MODEL_8e96e4b3284e4f48ba76d42f1246e645"
      }
     },
     "ec73bab640ef4d2ebf62cb09362eecbc": {
      "model_module": "@jupyter-widgets/controls",
      "model_module_version": "1.5.0",
      "model_name": "DescriptionStyleModel",
      "state": {
       "description_width": ""
      }
     },
     "ec8273755c084a20b0cb63adf566f808": {
      "model_module": "@jupyter-widgets/controls",
      "model_module_version": "1.5.0",
      "model_name": "DescriptionStyleModel",
      "state": {
       "description_width": ""
      }
     },
     "ecc6f3f85ca44b7d858e67e06112777a": {
      "model_module": "@jupyter-widgets/base",
      "model_module_version": "1.2.0",
      "model_name": "LayoutModel",
      "state": {}
     },
     "ed0f0adf2c464e6299274ebb3fc6d141": {
      "model_module": "@jupyter-widgets/base",
      "model_module_version": "1.2.0",
      "model_name": "LayoutModel",
      "state": {}
     },
     "ed12e0d0e9cd49b2a4a7625ff0276304": {
      "model_module": "@jupyter-widgets/controls",
      "model_module_version": "1.5.0",
      "model_name": "GridBoxModel",
      "state": {
       "children": [
        "IPY_MODEL_b71b11c5ff2c449dbe46f2b362a6833b",
        "IPY_MODEL_391036144b35445698845230f1962577",
        "IPY_MODEL_299388b2dbcd4f83866c789a54ccea4b",
        "IPY_MODEL_603a2e8b0056486eb58d88bc34d2bcc3",
        "IPY_MODEL_a65ccc6c844a4710bf733b6c932dee84",
        "IPY_MODEL_3fa79a019a9640de85bae868283adde0",
        "IPY_MODEL_2393030ff4d14df4a5541769741fe4e3",
        "IPY_MODEL_d9c5810cac72474ab9bdad6669c514a8",
        "IPY_MODEL_f1119da90430412cbd0e9a9bc36464c7",
        "IPY_MODEL_33ca030d3d0c44fe9709482fea5aa47f"
       ],
       "layout": "IPY_MODEL_9552615d88204873ba85150b8f351612"
      }
     },
     "ed269633bc1c402ea3670a70131cec13": {
      "model_module": "@jupyter-widgets/base",
      "model_module_version": "1.2.0",
      "model_name": "LayoutModel",
      "state": {
       "grid_area": "widget012"
      }
     },
     "ed2ff98def124493927cd19c12e69585": {
      "model_module": "@jupyter-widgets/controls",
      "model_module_version": "1.5.0",
      "model_name": "HTMLModel",
      "state": {
       "layout": "IPY_MODEL_4e3abec9e5e24e919e95a2e8464a9dd7",
       "style": "IPY_MODEL_3c847d4b41fe437e93356eec01976cc5",
       "value": "Render HTML: 100%"
      }
     },
     "ed6300ce621b4e489f83c688d3f65270": {
      "model_module": "@jupyter-widgets/controls",
      "model_module_version": "1.5.0",
      "model_name": "HTMLModel",
      "state": {
       "layout": "IPY_MODEL_010d237b379a415e9394ebb1dd7ef227",
       "style": "IPY_MODEL_8976b724497b45509cfe8a1727eb2feb",
       "value": "0"
      }
     },
     "ed9400e0dfd54105a5a944034ff112a8": {
      "model_module": "@jupyter-widgets/base",
      "model_module_version": "1.2.0",
      "model_name": "LayoutModel",
      "state": {}
     },
     "edaa1374509c4c098848fc57da0a58ee": {
      "model_module": "@jupyter-widgets/base",
      "model_module_version": "1.2.0",
      "model_name": "LayoutModel",
      "state": {}
     },
     "ee408dcc0e82401f83744381388f453f": {
      "model_module": "@jupyter-widgets/controls",
      "model_module_version": "1.5.0",
      "model_name": "DescriptionStyleModel",
      "state": {
       "description_width": ""
      }
     },
     "ee95029b7ad64e3c9283856a822a7fc0": {
      "model_module": "@jupyter-widgets/base",
      "model_module_version": "1.2.0",
      "model_name": "LayoutModel",
      "state": {
       "grid_area": "widget015"
      }
     },
     "ee9c329298d04c3b99a156f8feeaffbb": {
      "model_module": "@jupyter-widgets/controls",
      "model_module_version": "1.5.0",
      "model_name": "HTMLModel",
      "state": {
       "layout": "IPY_MODEL_794567f7060d4b869c7b2b575cff1512",
       "style": "IPY_MODEL_ee408dcc0e82401f83744381388f453f",
       "value": "<a class=\"anchor\" href=\"#pp_var_1659950516416786112\"><code>dist processing Days</code></a> has 6736 (31.2%) zeros"
      }
     },
     "eea90cd652464918a7d66b4ab3160428": {
      "model_module": "@jupyter-widgets/base",
      "model_module_version": "1.2.0",
      "model_name": "LayoutModel",
      "state": {
       "grid_area": "widget003"
      }
     },
     "eeb48f9f36504199af12abe3b0205703": {
      "model_module": "@jupyter-widgets/base",
      "model_module_version": "1.2.0",
      "model_name": "LayoutModel",
      "state": {
       "grid_area": "widget001"
      }
     },
     "eeccab8623e54ad4a31b52f159963efe": {
      "model_module": "@jupyter-widgets/base",
      "model_module_version": "1.2.0",
      "model_name": "LayoutModel",
      "state": {}
     },
     "eed6ab6f4903450893d81878fa6598fb": {
      "model_module": "@jupyter-widgets/base",
      "model_module_version": "1.2.0",
      "model_name": "LayoutModel",
      "state": {
       "grid_area": "widget016"
      }
     },
     "eee7d7d3ae904de99dee3f07fb0b7664": {
      "model_module": "@jupyter-widgets/base",
      "model_module_version": "1.2.0",
      "model_name": "LayoutModel",
      "state": {}
     },
     "eefa19946a324060881945f9b1486b18": {
      "model_module": "@jupyter-widgets/base",
      "model_module_version": "1.2.0",
      "model_name": "LayoutModel",
      "state": {
       "grid_area": "widget013"
      }
     },
     "ef127137a24c4e34964b38ebdce73a9a": {
      "model_module": "@jupyter-widgets/controls",
      "model_module_version": "1.5.0",
      "model_name": "FloatProgressModel",
      "state": {
       "layout": "IPY_MODEL_93278ad7e5bc45e4bf58e6bb32dd8f82",
       "max": 22144,
       "style": "IPY_MODEL_cab54aa4d4974a09a32fc88bec8a4139",
       "value": 2
      }
     },
     "ef1b84ded6754148bd5d0ac8e7c9cbd3": {
      "model_module": "@jupyter-widgets/base",
      "model_module_version": "1.2.0",
      "model_name": "LayoutModel",
      "state": {
       "grid_area": "widget008"
      }
     },
     "ef52a676a3a84c749252bb89302c66a5": {
      "model_module": "@jupyter-widgets/base",
      "model_module_version": "1.2.0",
      "model_name": "LayoutModel",
      "state": {
       "grid_template_columns": "100%",
       "width": "100%"
      }
     },
     "efb700e962c445a48b6b269863ea115a": {
      "model_module": "@jupyter-widgets/controls",
      "model_module_version": "1.5.0",
      "model_name": "FloatProgressModel",
      "state": {
       "layout": "IPY_MODEL_78a1cf3696ab40fbb83667bf01ba3b1c",
       "max": 22144,
       "style": "IPY_MODEL_bcfb2ce98fde46d9867048f7683009b2",
       "value": 20826
      }
     },
     "efc38d22b1014d44b72b9669c89b84b2": {
      "model_module": "@jupyter-widgets/base",
      "model_module_version": "1.2.0",
      "model_name": "LayoutModel",
      "state": {
       "grid_area": "widget001"
      }
     },
     "f02819b1f0e64ed89d5ace3041b09985": {
      "model_module": "@jupyter-widgets/controls",
      "model_module_version": "1.5.0",
      "model_name": "ButtonModel",
      "state": {
       "button_style": "danger",
       "description": "High cardinality",
       "disabled": true,
       "layout": "IPY_MODEL_42d6ce08c59e4dafb116d85479086685",
       "style": "IPY_MODEL_72474ff740aa4dcc8d9b8b4fc33da6f5"
      }
     },
     "f0bd014bae36453a9f08297afee5ac61": {
      "model_module": "@jupyter-widgets/base",
      "model_module_version": "1.2.0",
      "model_name": "LayoutModel",
      "state": {
       "grid_area": "widget005"
      }
     },
     "f0c1b30ee7ff44aba5a04f0557c25192": {
      "model_module": "@jupyter-widgets/base",
      "model_module_version": "1.2.0",
      "model_name": "LayoutModel",
      "state": {}
     },
     "f1119da90430412cbd0e9a9bc36464c7": {
      "model_module": "@jupyter-widgets/controls",
      "model_module_version": "1.5.0",
      "model_name": "HTMLModel",
      "state": {
       "layout": "IPY_MODEL_84af9d335b6041618decac95d218e8e3",
       "style": "IPY_MODEL_ec39faa9aa2b44a0a0bd2866a700cde0",
       "value": "Distinct blocks"
      }
     },
     "f12a233de1d44d8e9847a97a3a4dc847": {
      "model_module": "@jupyter-widgets/controls",
      "model_module_version": "1.5.0",
      "model_name": "ButtonModel",
      "state": {
       "button_style": "danger",
       "description": "High cardinality",
       "disabled": true,
       "layout": "IPY_MODEL_b728a7d8e4e34c0792d2d846292fa43f",
       "style": "IPY_MODEL_a5acf72a4f5e4a0eb2670ad82acbee22"
      }
     },
     "f151d31e847e4d0da2ccb6da553cc421": {
      "model_module": "@jupyter-widgets/base",
      "model_module_version": "1.2.0",
      "model_name": "LayoutModel",
      "state": {
       "grid_area": "widget007"
      }
     },
     "f15cda6802eb400b8f6f9189cca3081c": {
      "model_module": "@jupyter-widgets/controls",
      "model_module_version": "1.5.0",
      "model_name": "LabelModel",
      "state": {
       "layout": "IPY_MODEL_e1072cb3f0484235a41a2ce7bcf16fa1",
       "style": "IPY_MODEL_bf230615ad7246f0aebfaad3e47a73a9",
       "value": "fhwa"
      }
     },
     "f16172451f134cd98f6013c977cfe0a1": {
      "model_module": "@jupyter-widgets/controls",
      "model_module_version": "1.5.0",
      "model_name": "FloatProgressModel",
      "state": {
       "layout": "IPY_MODEL_6f432e8383764c539ce66ca39c852429",
       "max": 21594,
       "style": "IPY_MODEL_48eebfde2b78499ca7aa4948dd6c04fc",
       "value": 112
      }
     },
     "f19730aceb9e466cb980c8f0848161cb": {
      "model_module": "@jupyter-widgets/base",
      "model_module_version": "1.2.0",
      "model_name": "LayoutModel",
      "state": {
       "grid_area": "widget010"
      }
     },
     "f1b18d619b7a4c3da3ccca2b2de6d905": {
      "model_module": "@jupyter-widgets/controls",
      "model_module_version": "1.5.0",
      "model_name": "HTMLModel",
      "state": {
       "layout": "IPY_MODEL_567401dc06404026bcc17c60987bf048",
       "style": "IPY_MODEL_df28b0968d3c4fa1ab6b14a336a0b163",
       "value": "Unique"
      }
     },
     "f1c44dccdb3b4dec834b9266309d11b3": {
      "model_module": "@jupyter-widgets/base",
      "model_module_version": "1.2.0",
      "model_name": "LayoutModel",
      "state": {}
     },
     "f1daf0f4d267487d9c4fce5179558cd0": {
      "model_module": "@jupyter-widgets/controls",
      "model_module_version": "1.5.0",
      "model_name": "DescriptionStyleModel",
      "state": {
       "description_width": ""
      }
     },
     "f1e6dde377f7442b889ce748e28e47f9": {
      "model_module": "@jupyter-widgets/base",
      "model_module_version": "1.2.0",
      "model_name": "LayoutModel",
      "state": {}
     },
     "f1eea9a6af434b8b8a4d0d5465e3f7e8": {
      "model_module": "@jupyter-widgets/base",
      "model_module_version": "1.2.0",
      "model_name": "LayoutModel",
      "state": {}
     },
     "f265688257fe4ddc81f50238bfec8168": {
      "model_module": "@jupyter-widgets/controls",
      "model_module_version": "1.5.0",
      "model_name": "LabelModel",
      "state": {
       "layout": "IPY_MODEL_f4971a031ef84037bbcc8558ace81c69",
       "style": "IPY_MODEL_70bce52b0523415298e3d74c5a3f467c",
       "value": "Obligated"
      }
     },
     "f27b41f091f44dccb5f245b85d2dd1e5": {
      "model_module": "@jupyter-widgets/controls",
      "model_module_version": "1.5.0",
      "model_name": "HTMLModel",
      "state": {
       "layout": "IPY_MODEL_38d3a23f8b77462abc29e6d134404585",
       "style": "IPY_MODEL_97f89fddca8240638abfd3b88fe997ea",
       "value": "<a download=\"config.json\" href=\"data:text/plain;charset=utf-8,%7B%22title%22%3A%20%22Pandas%20Profiling%20Report%22%2C%20%22dataset%22%3A%20%7B%22description%22%3A%20%22%22%2C%20%22creator%22%3A%20%22%22%2C%20%22author%22%3A%20%22%22%2C%20%22copyright_holder%22%3A%20%22%22%2C%20%22copyright_year%22%3A%20%22%22%2C%20%22url%22%3A%20%22%22%7D%2C%20%22variables%22%3A%20%7B%22descriptions%22%3A%20%7B%7D%7D%2C%20%22infer_dtypes%22%3A%20true%2C%20%22show_variable_description%22%3A%20true%2C%20%22pool_size%22%3A%200%2C%20%22progress_bar%22%3A%20true%2C%20%22vars%22%3A%20%7B%22num%22%3A%20%7B%22quantiles%22%3A%20%5B0.05%2C%200.25%2C%200.5%2C%200.75%2C%200.95%5D%2C%20%22skewness_threshold%22%3A%2020%2C%20%22low_categorical_threshold%22%3A%205%2C%20%22chi_squared_threshold%22%3A%200.999%7D%2C%20%22cat%22%3A%20%7B%22length%22%3A%20true%2C%20%22characters%22%3A%20true%2C%20%22words%22%3A%20true%2C%20%22cardinality_threshold%22%3A%2050%2C%20%22n_obs%22%3A%205%2C%20%22chi_squared_threshold%22%3A%200.999%2C%20%22coerce_str_to_date%22%3A%20false%2C%20%22redact%22%3A%20false%2C%20%22histogram_largest%22%3A%2050%7D%2C%20%22image%22%3A%20%7B%22active%22%3A%20false%2C%20%22exif%22%3A%20true%2C%20%22hash%22%3A%20true%7D%2C%20%22bool%22%3A%20%7B%22n_obs%22%3A%203%2C%20%22mappings%22%3A%20%7B%22t%22%3A%20true%2C%20%22f%22%3A%20false%2C%20%22yes%22%3A%20true%2C%20%22no%22%3A%20false%2C%20%22y%22%3A%20true%2C%20%22n%22%3A%20false%2C%20%22true%22%3A%20true%2C%20%22false%22%3A%20false%7D%7D%2C%20%22path%22%3A%20%7B%22active%22%3A%20false%7D%2C%20%22file%22%3A%20%7B%22active%22%3A%20false%7D%2C%20%22url%22%3A%20%7B%22active%22%3A%20false%7D%7D%2C%20%22sort%22%3A%20null%2C%20%22missing_diagrams%22%3A%20%7B%22bar%22%3A%20true%2C%20%22matrix%22%3A%20true%2C%20%22dendrogram%22%3A%20true%2C%20%22heatmap%22%3A%20true%7D%2C%20%22correlations%22%3A%20%7B%22spearman%22%3A%20%7B%22key%22%3A%20%22spearman%22%2C%20%22calculate%22%3A%20true%2C%20%22warn_high_correlations%22%3A%2010%2C%20%22threshold%22%3A%200.5%7D%2C%20%22pearson%22%3A%20%7B%22key%22%3A%20%22pearson%22%2C%20%22calculate%22%3A%20true%2C%20%22warn_high_correlations%22%3A%2010%2C%20%22threshold%22%3A%200.5%7D%2C%20%22kendall%22%3A%20%7B%22key%22%3A%20%22kendall%22%2C%20%22calculate%22%3A%20true%2C%20%22warn_high_correlations%22%3A%2010%2C%20%22threshold%22%3A%200.5%7D%2C%20%22cramers%22%3A%20%7B%22key%22%3A%20%22cramers%22%2C%20%22calculate%22%3A%20true%2C%20%22warn_high_correlations%22%3A%2010%2C%20%22threshold%22%3A%200.5%7D%2C%20%22phi_k%22%3A%20%7B%22key%22%3A%20%22phi_k%22%2C%20%22calculate%22%3A%20true%2C%20%22warn_high_correlations%22%3A%2010%2C%20%22threshold%22%3A%200.5%7D%7D%2C%20%22interactions%22%3A%20%7B%22continuous%22%3A%20true%2C%20%22targets%22%3A%20%5B%5D%7D%2C%20%22categorical_maximum_correlation_distinct%22%3A%20100%2C%20%22memory_deep%22%3A%20false%2C%20%22plot%22%3A%20%7B%22missing%22%3A%20%7B%22force_labels%22%3A%20true%2C%20%22cmap%22%3A%20%22RdBu%22%7D%2C%20%22image_format%22%3A%20%22svg%22%2C%20%22correlation%22%3A%20%7B%22cmap%22%3A%20%22RdBu%22%2C%20%22bad%22%3A%20%22%23000000%22%7D%2C%20%22dpi%22%3A%20800%2C%20%22histogram%22%3A%20%7B%22bins%22%3A%2050%2C%20%22max_bins%22%3A%20250%2C%20%22x_axis_labels%22%3A%20true%7D%2C%20%22scatter_threshold%22%3A%201000%2C%20%22pie%22%3A%20%7B%22max_unique%22%3A%2010%7D%7D%2C%20%22duplicates%22%3A%20%7B%22head%22%3A%2010%2C%20%22key%22%3A%20%22%23%20duplicates%22%7D%2C%20%22samples%22%3A%20%7B%22head%22%3A%2010%2C%20%22tail%22%3A%2010%2C%20%22random%22%3A%200%7D%2C%20%22reject_variables%22%3A%20true%2C%20%22n_obs_unique%22%3A%2010%2C%20%22n_freq_table_max%22%3A%2010%2C%20%22n_extreme_obs%22%3A%2010%2C%20%22report%22%3A%20%7B%22precision%22%3A%2010%7D%2C%20%22html%22%3A%20%7B%22style%22%3A%20%7B%22primary_color%22%3A%20%22%23337ab7%22%2C%20%22logo%22%3A%20%22%22%2C%20%22theme%22%3A%20null%7D%2C%20%22navbar_show%22%3A%20true%2C%20%22minify_html%22%3A%20true%2C%20%22use_local_assets%22%3A%20true%2C%20%22inline%22%3A%20true%2C%20%22assets_prefix%22%3A%20null%2C%20%22assets_path%22%3A%20null%2C%20%22full_width%22%3A%20false%7D%2C%20%22notebook%22%3A%20%7B%22iframe%22%3A%20%7B%22height%22%3A%20%22800px%22%2C%20%22width%22%3A%20%22100%25%22%2C%20%22attribute%22%3A%20%22srcdoc%22%7D%7D%7D\">config.json</a>"
      }
     },
     "f28ddded5edc4db69e77ee132c3c4b07": {
      "model_module": "@jupyter-widgets/controls",
      "model_module_version": "1.5.0",
      "model_name": "ButtonStyleModel",
      "state": {}
     },
     "f29890ba9be342edb1c53bf710daf7db": {
      "model_module": "@jupyter-widgets/base",
      "model_module_version": "1.2.0",
      "model_name": "LayoutModel",
      "state": {
       "grid_area": "widget012"
      }
     },
     "f29dfd3e54f54cd980b23b7017679545": {
      "model_module": "@jupyter-widgets/base",
      "model_module_version": "1.2.0",
      "model_name": "LayoutModel",
      "state": {
       "grid_area": "widget009"
      }
     },
     "f36045730b4b4fed9541ac438ed66183": {
      "model_module": "@jupyter-widgets/controls",
      "model_module_version": "1.5.0",
      "model_name": "GridBoxModel",
      "state": {
       "children": [
        "IPY_MODEL_56f6f40348544345af80245d470d24e8",
        "IPY_MODEL_008a6b226c8f48a8afb4d9a4a5b6f066",
        "IPY_MODEL_81c013b4cd9e4bdbb537f1b54093a24d",
        "IPY_MODEL_be7bdc251d1e493d8f39043bc5d99350",
        "IPY_MODEL_db4015416621434caf0a77b98e254084",
        "IPY_MODEL_7a35d8e604044a4587a802560f9abce8",
        "IPY_MODEL_93e9252350084927b64f653f6d5ad63b",
        "IPY_MODEL_74ee0268cbce412b880a6fcd3c84490e",
        "IPY_MODEL_bb73d50c266746ee9f2010522f60df0d",
        "IPY_MODEL_08eb8523fb9b4bc383b5a41425140086"
       ],
       "layout": "IPY_MODEL_e1e5ff0ea2e04a37848c5d53d7365cf4"
      }
     },
     "f394069a95db4b7fb3d4d168dd3d49ef": {
      "model_module": "@jupyter-widgets/controls",
      "model_module_version": "1.5.0",
      "model_name": "HTMLModel",
      "state": {
       "layout": "IPY_MODEL_0b2057b02c59472da5880cd338cb1b02",
       "style": "IPY_MODEL_0f18f31764654d14987dbf812dbf6459",
       "value": "<a class=\"anchor\" href=\"#pp_var_3774228498530467255\"><code>project location</code></a> has a high cardinality: 9019 distinct values"
      }
     },
     "f3b8752e49c2486398f5af2a3c5f42dd": {
      "model_module": "@jupyter-widgets/controls",
      "model_module_version": "1.5.0",
      "model_name": "DescriptionStyleModel",
      "state": {
       "description_width": ""
      }
     },
     "f3dd284478cb4c768eb58136b9b6270f": {
      "model_module": "@jupyter-widgets/controls",
      "model_module_version": "1.5.0",
      "model_name": "DescriptionStyleModel",
      "state": {
       "description_width": ""
      }
     },
     "f3fcd67a8018489db53b34edfb2896db": {
      "model_module": "@jupyter-widgets/controls",
      "model_module_version": "1.5.0",
      "model_name": "VBoxModel",
      "state": {
       "children": [
        "IPY_MODEL_ca4e610c57bc40319dfc9f8ea35ec25c"
       ],
       "layout": "IPY_MODEL_e07ae76b4416438fbb2c476c9be240d2"
      }
     },
     "f3fd5867b77b440d95f64caf24ccdc67": {
      "model_module": "@jupyter-widgets/base",
      "model_module_version": "1.2.0",
      "model_name": "LayoutModel",
      "state": {
       "grid_area": "widget001"
      }
     },
     "f42e41a3b11c4d248b8d408ac3a8ab84": {
      "model_module": "@jupyter-widgets/controls",
      "model_module_version": "1.5.0",
      "model_name": "ButtonStyleModel",
      "state": {}
     },
     "f42e7ff63c554d3fb765572461130666": {
      "model_module": "@jupyter-widgets/controls",
      "model_module_version": "1.5.0",
      "model_name": "DescriptionStyleModel",
      "state": {
       "description_width": ""
      }
     },
     "f42f75b4af394db4be1875101c92a45f": {
      "model_module": "@jupyter-widgets/base",
      "model_module_version": "1.2.0",
      "model_name": "LayoutModel",
      "state": {}
     },
     "f43713dacae64843aeb6b62d124337ba": {
      "model_module": "@jupyter-widgets/controls",
      "model_module_version": "1.5.0",
      "model_name": "DescriptionStyleModel",
      "state": {
       "description_width": ""
      }
     },
     "f44dbf255a5f4f1fa9a37900d069e6a8": {
      "model_module": "@jupyter-widgets/controls",
      "model_module_version": "1.5.0",
      "model_name": "DescriptionStyleModel",
      "state": {
       "description_width": ""
      }
     },
     "f4639c318a9645f2b881318d16c21344": {
      "model_module": "@jupyter-widgets/base",
      "model_module_version": "1.2.0",
      "model_name": "LayoutModel",
      "state": {
       "grid_area": "widget012"
      }
     },
     "f4971a031ef84037bbcc8558ace81c69": {
      "model_module": "@jupyter-widgets/base",
      "model_module_version": "1.2.0",
      "model_name": "LayoutModel",
      "state": {
       "grid_area": "widget001"
      }
     },
     "f4bbeefb89ff4210902144470391e7e9": {
      "model_module": "@jupyter-widgets/base",
      "model_module_version": "1.2.0",
      "model_name": "LayoutModel",
      "state": {}
     },
     "f4e46a81fd954301884f173a58b1161f": {
      "model_module": "@jupyter-widgets/controls",
      "model_module_version": "1.5.0",
      "model_name": "DescriptionStyleModel",
      "state": {
       "description_width": ""
      }
     },
     "f518ced936c94065bb3e2edcc83926d8": {
      "model_module": "@jupyter-widgets/controls",
      "model_module_version": "1.5.0",
      "model_name": "ButtonStyleModel",
      "state": {}
     },
     "f51bca7f1cd34f6991290f499c64460a": {
      "model_module": "@jupyter-widgets/controls",
      "model_module_version": "1.5.0",
      "model_name": "ButtonStyleModel",
      "state": {}
     },
     "f551eba2bcc440eeb655cb0e4147392e": {
      "model_module": "@jupyter-widgets/controls",
      "model_module_version": "1.5.0",
      "model_name": "DescriptionStyleModel",
      "state": {
       "description_width": ""
      }
     },
     "f56e599dc1a14e35898358877ae198cc": {
      "model_module": "@jupyter-widgets/controls",
      "model_module_version": "1.5.0",
      "model_name": "HBoxModel",
      "state": {
       "children": [
        "IPY_MODEL_a5ba3a8ed5754d18a18bc40166d20711",
        "IPY_MODEL_f98b51e47bc443dda473e8ae7ee2eb88",
        "IPY_MODEL_6956644059ea4ac091fd61d3d3d513d5"
       ],
       "layout": "IPY_MODEL_382b37c17af14c8d8a2c326cd14a6c5c"
      }
     },
     "f572eb376e064dc989060f1f1f842adc": {
      "model_module": "@jupyter-widgets/controls",
      "model_module_version": "1.5.0",
      "model_name": "HTMLModel",
      "state": {
       "layout": "IPY_MODEL_06a4c47ff9374acabcb74448e25b7f67",
       "style": "IPY_MODEL_db14f97da20f4046a8ccc8279ae438e8",
       "value": "0 <span class=\"badge pull-right\" style=\"color:#fff;background-color:#337ab7;\" title=\"The number of unique values (all values that occur exactly once in the dataset).\">?</span>"
      }
     },
     "f583a9ada9f046cd895c8dd54e1a2d7a": {
      "model_module": "@jupyter-widgets/controls",
      "model_module_version": "1.5.0",
      "model_name": "DescriptionStyleModel",
      "state": {
       "description_width": ""
      }
     },
     "f5c2c03ae5cb47a8ba10f41c9f415059": {
      "model_module": "@jupyter-widgets/controls",
      "model_module_version": "1.5.0",
      "model_name": "DescriptionStyleModel",
      "state": {
       "description_width": ""
      }
     },
     "f5d0ab1d1fe0457e9b0bdd4dc3030865": {
      "model_module": "@jupyter-widgets/controls",
      "model_module_version": "1.5.0",
      "model_name": "LabelModel",
      "state": {
       "layout": "IPY_MODEL_ee95029b7ad64e3c9283856a822a7fc0",
       "style": "IPY_MODEL_db89564937ea45c685bbd76d90b61a9f",
       "value": "85"
      }
     },
     "f5e2a96f085c40cd9d5858e2be34fe25": {
      "model_module": "@jupyter-widgets/controls",
      "model_module_version": "1.5.0",
      "model_name": "HTMLModel",
      "state": {
       "layout": "IPY_MODEL_c3d1378944c0459b8158582c04f16e75",
       "style": "IPY_MODEL_2d4cdd78c82b46ceb286eab6a1467b3a",
       "value": "<a class=\"anchor\" href=\"#pp_var_4839277149140286481\">\n        <code>Fed requested</code>\n    </a> is highly correlated with <code>Status Comment</code>"
      }
     },
     "f5e759bfbc9246d78495a9b106db18d5": {
      "model_module": "@jupyter-widgets/controls",
      "model_module_version": "1.5.0",
      "model_name": "ButtonStyleModel",
      "state": {}
     },
     "f5e809f845ff4a3fae3835fc62af2693": {
      "model_module": "@jupyter-widgets/base",
      "model_module_version": "1.2.0",
      "model_name": "LayoutModel",
      "state": {
       "grid_area": "widget002"
      }
     },
     "f5f09c33dcd14bf49dcdd9716a8abe81": {
      "model_module": "@jupyter-widgets/controls",
      "model_module_version": "1.5.0",
      "model_name": "LabelModel",
      "state": {
       "layout": "IPY_MODEL_e907d9636c494629a5932e415432f9ce",
       "style": "IPY_MODEL_2afd1882d64c460db80cf086e9ecb3ff",
       "value": "DISTRICT"
      }
     },
     "f60d67f035bf4612a651b5fe58b1af36": {
      "model_module": "@jupyter-widgets/controls",
      "model_module_version": "1.5.0",
      "model_name": "HTMLModel",
      "state": {
       "layout": "IPY_MODEL_1dd0d23f0ec64f79a2d0aa0b627fc0d3",
       "style": "IPY_MODEL_42a0ae60135a430898dfaf529acfdab5",
       "value": "<a class=\"anchor\" href=\"#pp_var_-2916060121462389247\"><code>Locode</code></a> is an unsupported type, check if it needs cleaning or further analysis"
      }
     },
     "f61124f3888f4040a6bbfd8aafa646ec": {
      "model_module": "@jupyter-widgets/controls",
      "model_module_version": "1.5.0",
      "model_name": "DescriptionStyleModel",
      "state": {
       "description_width": ""
      }
     },
     "f659e874ed114f57a9e577b23192ab9a": {
      "model_module": "@jupyter-widgets/base",
      "model_module_version": "1.2.0",
      "model_name": "LayoutModel",
      "state": {}
     },
     "f66ccf5314af423eaa4464e6fa36ea74": {
      "model_module": "@jupyter-widgets/controls",
      "model_module_version": "1.5.0",
      "model_name": "DescriptionStyleModel",
      "state": {
       "description_width": ""
      }
     },
     "f67c2c68132244cbb5bd36dd88a694ce": {
      "model_module": "@jupyter-widgets/base",
      "model_module_version": "1.2.0",
      "model_name": "LayoutModel",
      "state": {}
     },
     "f6c5aa195acf468a96c2aae2cbf09744": {
      "model_module": "@jupyter-widgets/controls",
      "model_module_version": "1.5.0",
      "model_name": "HBoxModel",
      "state": {
       "children": [
        "IPY_MODEL_d2050eb46f8247e8a047f20817b5482f",
        "IPY_MODEL_5b509ba866964919834dcc8c64ca7eff",
        "IPY_MODEL_96db830d30404b0b8110d8abe3e484d7"
       ],
       "layout": "IPY_MODEL_2b055a53702d4ca5acda664905972832"
      }
     },
     "f6cee12cae384fdf8151f374c782dc47": {
      "model_module": "@jupyter-widgets/controls",
      "model_module_version": "1.5.0",
      "model_name": "HTMLModel",
      "state": {
       "layout": "IPY_MODEL_67214f6a942549e0b37b83efef015b63",
       "style": "IPY_MODEL_916324ce1b8040cab999f20f7d24325a",
       "value": "11"
      }
     },
     "f6d6344626a64263aa3ffdc4b7ab53da": {
      "model_module": "@jupyter-widgets/controls",
      "model_module_version": "1.5.0",
      "model_name": "DescriptionStyleModel",
      "state": {
       "description_width": ""
      }
     },
     "f6db495e3896426f83e7ef51bc80fe21": {
      "model_module": "@jupyter-widgets/controls",
      "model_module_version": "1.5.0",
      "model_name": "DescriptionStyleModel",
      "state": {
       "description_width": ""
      }
     },
     "f6e95b99c2ba4f90a78386228cd4d9bb": {
      "model_module": "@jupyter-widgets/controls",
      "model_module_version": "1.5.0",
      "model_name": "DescriptionStyleModel",
      "state": {
       "description_width": ""
      }
     },
     "f6f636f0477b4e70b2f4d1f545dd6ea3": {
      "model_module": "@jupyter-widgets/base",
      "model_module_version": "1.2.0",
      "model_name": "LayoutModel",
      "state": {
       "grid_area": "widget011"
      }
     },
     "f707174e58ef4060877239863a832bfa": {
      "model_module": "@jupyter-widgets/base",
      "model_module_version": "1.2.0",
      "model_name": "LayoutModel",
      "state": {}
     },
     "f70b50d52e0f4ac4833c92d566d5a057": {
      "model_module": "@jupyter-widgets/controls",
      "model_module_version": "1.5.0",
      "model_name": "ButtonStyleModel",
      "state": {}
     },
     "f712a1b8ad6a4601a6dd6736b6132091": {
      "model_module": "@jupyter-widgets/controls",
      "model_module_version": "1.5.0",
      "model_name": "DescriptionStyleModel",
      "state": {
       "description_width": ""
      }
     },
     "f75ab866832f4179a95e918ac5ebbe33": {
      "model_module": "@jupyter-widgets/controls",
      "model_module_version": "1.5.0",
      "model_name": "DescriptionStyleModel",
      "state": {
       "description_width": ""
      }
     },
     "f76f37ddf16c473686acc3a4de2ff3b8": {
      "model_module": "@jupyter-widgets/controls",
      "model_module_version": "1.5.0",
      "model_name": "HTMLModel",
      "state": {
       "layout": "IPY_MODEL_87c6a10dbcea436694f4f2cc207cce09",
       "style": "IPY_MODEL_075765c961c54600ab96e0a764daefb9",
       "value": "<a class=\"anchor\" href=\"#pp_var_-2017647313142555237\"><code>Today</code></a> has 21588 (> 99.9%) missing values"
      }
     },
     "f79e2c0e0c684b0d9b86d50373195241": {
      "model_module": "@jupyter-widgets/base",
      "model_module_version": "1.2.0",
      "model_name": "LayoutModel",
      "state": {
       "grid_area": "widget005"
      }
     },
     "f8011419aa1340848ffcfb3504b07ca7": {
      "model_module": "@jupyter-widgets/controls",
      "model_module_version": "1.5.0",
      "model_name": "ProgressStyleModel",
      "state": {
       "description_width": ""
      }
     },
     "f8170b131d1047b9810cb9bd6cd5e752": {
      "model_module": "@jupyter-widgets/controls",
      "model_module_version": "1.5.0",
      "model_name": "FloatProgressModel",
      "state": {
       "layout": "IPY_MODEL_adebe33a68c8446e9d61ca3be43b268e",
       "max": 21594,
       "style": "IPY_MODEL_6eadfc394ea641b084255a7f27b1dbdc",
       "value": 19
      }
     },
     "f83c7fb8a4c24d3c89f0838a7e1ee467": {
      "model_module": "@jupyter-widgets/base",
      "model_module_version": "1.2.0",
      "model_name": "LayoutModel",
      "state": {}
     },
     "f85ba6ae0c2d46469384dade05d5da3a": {
      "model_module": "@jupyter-widgets/base",
      "model_module_version": "1.2.0",
      "model_name": "LayoutModel",
      "state": {}
     },
     "f86d50e55d974f34ae0142ace3b53f05": {
      "model_module": "@jupyter-widgets/controls",
      "model_module_version": "1.5.0",
      "model_name": "DescriptionStyleModel",
      "state": {
       "description_width": ""
      }
     },
     "f8e873bf378842519123a49255bca7be": {
      "model_module": "@jupyter-widgets/controls",
      "model_module_version": "1.5.0",
      "model_name": "HBoxModel",
      "state": {
       "children": [
        "IPY_MODEL_381b9114f890402282ab7a4258d489a0",
        "IPY_MODEL_c1a77f422a4d4af9aab758d11e7170d6",
        "IPY_MODEL_e7d13f8ffb2b44b4bc385cbd364a928c"
       ],
       "layout": "IPY_MODEL_0ca9ec106f104f81abe0d6468d8d980f"
      }
     },
     "f911a6101cf34134841f9c60fd3f1f0c": {
      "model_module": "@jupyter-widgets/controls",
      "model_module_version": "1.5.0",
      "model_name": "ButtonModel",
      "state": {
       "button_style": "warning",
       "description": "Unsupported",
       "disabled": true,
       "layout": "IPY_MODEL_b49cd37e926a425ba3d0572059d2ba05",
       "style": "IPY_MODEL_dcc85a76a6254f369b0c32ca20cee0dc"
      }
     },
     "f936d206bc2848a48cba907650126724": {
      "model_module": "@jupyter-widgets/controls",
      "model_module_version": "1.5.0",
      "model_name": "GridBoxModel",
      "state": {
       "children": [
        "IPY_MODEL_e8683ab99da148c6a7bdb2ecb22b23d1",
        "IPY_MODEL_3a7e3f79bfff467b8e7cc75bb0dd971c",
        "IPY_MODEL_0a79cb42792447fcb017998946107ac7",
        "IPY_MODEL_88e1e9c6e330495680ed88648632395f",
        "IPY_MODEL_66a88b72077944e5a259eb89d6489a54",
        "IPY_MODEL_dfb4a21aa8de442bb1362388b939c6cf",
        "IPY_MODEL_3a848bdf643f4972a46d456652ec87f9",
        "IPY_MODEL_eb341182512e4c5eb552c767038b47a7",
        "IPY_MODEL_3483b8c2d5fa4990985094da51463264",
        "IPY_MODEL_7688fae1ea124663967da7cce1ccb95d"
       ],
       "layout": "IPY_MODEL_ae904bf79098497180990c8fea85e7e9"
      }
     },
     "f937ee7786a04295895a5cecbd9960ae": {
      "model_module": "@jupyter-widgets/base",
      "model_module_version": "1.2.0",
      "model_name": "LayoutModel",
      "state": {}
     },
     "f943e328c44d45de951960026cbacd46": {
      "model_module": "@jupyter-widgets/base",
      "model_module_version": "1.2.0",
      "model_name": "LayoutModel",
      "state": {}
     },
     "f950534bed9e477097f53cad0d6c21d4": {
      "model_module": "@jupyter-widgets/base",
      "model_module_version": "1.2.0",
      "model_name": "LayoutModel",
      "state": {}
     },
     "f958db37dbec45709e109089efeed384": {
      "model_module": "@jupyter-widgets/controls",
      "model_module_version": "1.5.0",
      "model_name": "DescriptionStyleModel",
      "state": {
       "description_width": ""
      }
     },
     "f97a72d639fd46a69759a8b6406d70ab": {
      "model_module": "@jupyter-widgets/controls",
      "model_module_version": "1.5.0",
      "model_name": "ButtonStyleModel",
      "state": {}
     },
     "f9854dde1c644a1fa7fd619b8d6ce76a": {
      "model_module": "@jupyter-widgets/controls",
      "model_module_version": "1.5.0",
      "model_name": "VBoxModel",
      "state": {
       "children": [
        "IPY_MODEL_6295285fc65649e59d84bbe5d4ab640d"
       ],
       "layout": "IPY_MODEL_165a99953cb94be88d6f12b4d2386e1e"
      }
     },
     "f98b45df55fc4aff97efb099770395f4": {
      "model_module": "@jupyter-widgets/controls",
      "model_module_version": "1.5.0",
      "model_name": "DescriptionStyleModel",
      "state": {
       "description_width": ""
      }
     },
     "f98b51e47bc443dda473e8ae7ee2eb88": {
      "model_module": "@jupyter-widgets/controls",
      "model_module_version": "1.5.0",
      "model_name": "FloatProgressModel",
      "state": {
       "bar_style": "success",
       "layout": "IPY_MODEL_a349717ba6344ccba09548431ef97ceb",
       "max": 5,
       "style": "IPY_MODEL_982c5e8a95dd4e8e9af563e2ffa1b603",
       "value": 5
      }
     },
     "f99a16014789401f871992572f31f2af": {
      "model_module": "@jupyter-widgets/base",
      "model_module_version": "1.2.0",
      "model_name": "LayoutModel",
      "state": {
       "grid_area": "widget006"
      }
     },
     "f9d44905206d4821bb8a5ddcff947101": {
      "model_module": "@jupyter-widgets/base",
      "model_module_version": "1.2.0",
      "model_name": "LayoutModel",
      "state": {
       "grid_area": "widget013"
      }
     },
     "f9f4f2f6e56b4a15ad6a83c2c322c280": {
      "model_module": "@jupyter-widgets/controls",
      "model_module_version": "1.5.0",
      "model_name": "DescriptionStyleModel",
      "state": {
       "description_width": ""
      }
     },
     "fa10f8bea0c64d67ba236b9ec382c125": {
      "model_module": "@jupyter-widgets/controls",
      "model_module_version": "1.5.0",
      "model_name": "DescriptionStyleModel",
      "state": {
       "description_width": ""
      }
     },
     "fa1715d98e244a2781574cac75374159": {
      "model_module": "@jupyter-widgets/controls",
      "model_module_version": "1.5.0",
      "model_name": "HTMLModel",
      "state": {
       "layout": "IPY_MODEL_07d4ade6a16247e98e8279c1444d6752",
       "style": "IPY_MODEL_1fd75023e00a4cd8855c4969e0a75d90",
       "value": "Min length"
      }
     },
     "fa26bcf68a304cacb3fb277ab0122dfc": {
      "model_module": "@jupyter-widgets/controls",
      "model_module_version": "1.5.0",
      "model_name": "DescriptionStyleModel",
      "state": {
       "description_width": ""
      }
     },
     "fa7da215c0bf46bfb7a516db272a4e41": {
      "model_module": "@jupyter-widgets/base",
      "model_module_version": "1.2.0",
      "model_name": "LayoutModel",
      "state": {
       "grid_template_areas": "\"widget001 widget002\"\n\"widget003 widget004\"\n\"widget005 widget006\"\n\"widget007 widget008\"\n\"widget009 widget010\"",
       "grid_template_columns": "repeat(2, 1fr)",
       "grid_template_rows": "repeat(5, 1fr)"
      }
     },
     "fadfac7e8d12415faa387692c6348a1b": {
      "model_module": "@jupyter-widgets/controls",
      "model_module_version": "1.5.0",
      "model_name": "HTMLModel",
      "state": {
       "layout": "IPY_MODEL_c8a875f657fe458fb91219b4699003e2",
       "style": "IPY_MODEL_88e44116204a4e2f87654b49eb47e94c",
       "value": "<a class=\"anchor\" href=\"#pp_var_-5136899479059597449\">\n        <code>Location</code>\n    </a> is highly correlated with <code>Status Comment</code>"
      }
     },
     "fae5b1b9ec7b462794d6a6596ae98fb9": {
      "model_module": "@jupyter-widgets/controls",
      "model_module_version": "1.5.0",
      "model_name": "ProgressStyleModel",
      "state": {
       "description_width": ""
      }
     },
     "fb8747a9f08143c1a53cd9956257ba66": {
      "model_module": "@jupyter-widgets/controls",
      "model_module_version": "1.5.0",
      "model_name": "HTMLModel",
      "state": {
       "layout": "IPY_MODEL_d872fccf8e904fb7867cba9197ff4ad9",
       "style": "IPY_MODEL_c9a30e44ab6c4604b623bd7583206483",
       "value": " 109/109 [00:19&lt;00:00,  1.96it/s, Completed]"
      }
     },
     "fbda5e7ad86640188cfa9064863dd53b": {
      "model_module": "@jupyter-widgets/base",
      "model_module_version": "1.2.0",
      "model_name": "LayoutModel",
      "state": {}
     },
     "fbea3bee606a4781a3913ca7e41f0137": {
      "model_module": "@jupyter-widgets/controls",
      "model_module_version": "1.5.0",
      "model_name": "HTMLModel",
      "state": {
       "layout": "IPY_MODEL_585ddf113a24421ba02ec48cb0f53740",
       "style": "IPY_MODEL_7a03358eaf1049179e2310994b24644a",
       "value": "Missing cells"
      }
     },
     "fc4db1e69eee47d1810cbd19855f85a5": {
      "model_module": "@jupyter-widgets/controls",
      "model_module_version": "1.5.0",
      "model_name": "DescriptionStyleModel",
      "state": {
       "description_width": ""
      }
     },
     "fc7b8c76910b4aeaba247676d6a849a8": {
      "model_module": "@jupyter-widgets/base",
      "model_module_version": "1.2.0",
      "model_name": "LayoutModel",
      "state": {}
     },
     "fca4c7c3d11b477d9906299947bb426d": {
      "model_module": "@jupyter-widgets/base",
      "model_module_version": "1.2.0",
      "model_name": "LayoutModel",
      "state": {
       "grid_area": "widget004"
      }
     },
     "fcb0549fbe814eb9bb31adb7098bcced": {
      "model_module": "@jupyter-widgets/base",
      "model_module_version": "1.2.0",
      "model_name": "LayoutModel",
      "state": {
       "grid_area": "widget018"
      }
     },
     "fcb3085a2c7e43d4b9a053d309f87620": {
      "model_module": "@jupyter-widgets/base",
      "model_module_version": "1.2.0",
      "model_name": "LayoutModel",
      "state": {}
     },
     "fccd46f692694e829839ee7556b1062b": {
      "model_module": "@jupyter-widgets/base",
      "model_module_version": "1.2.0",
      "model_name": "LayoutModel",
      "state": {
       "grid_area": "widget001"
      }
     },
     "fcd248cb0e78448fae1009b104efd81a": {
      "model_module": "@jupyter-widgets/controls",
      "model_module_version": "1.5.0",
      "model_name": "HTMLModel",
      "state": {
       "layout": "IPY_MODEL_3e6b6256ae904cfcbb89b5d061433694",
       "style": "IPY_MODEL_5aeb22b9d0024997bff2a64babd6dd2d",
       "value": "<a class=\"anchor\" href=\"#pp_var_6588079627765447598\"><code>AC requested</code></a> is highly skewed (γ1 = 26.08418131)"
      }
     },
     "fd3387b936374e79bc28a9c16030e228": {
      "model_module": "@jupyter-widgets/base",
      "model_module_version": "1.2.0",
      "model_name": "LayoutModel",
      "state": {
       "grid_template_columns": "33% 33% 33%",
       "width": "100%"
      }
     },
     "fd3cbf3056e04e16a06cf19dddb69ea7": {
      "model_module": "@jupyter-widgets/base",
      "model_module_version": "1.2.0",
      "model_name": "LayoutModel",
      "state": {
       "grid_area": "widget003"
      }
     },
     "fd469f2496ab4741bcf44bcd5de222f9": {
      "model_module": "@jupyter-widgets/controls",
      "model_module_version": "1.5.0",
      "model_name": "HTMLModel",
      "state": {
       "layout": "IPY_MODEL_63cf623893764fd18dd28adfd0cb039c",
       "style": "IPY_MODEL_f44dbf255a5f4f1fa9a37900d069e6a8",
       "value": "<a class=\"anchor\" href=\"#pp_var_6588079627765447598\"><code>AC requested</code></a> is highly skewed (γ1 = 26.08418131)"
      }
     },
     "fd6f435b174b422fa05ca189e05ef31e": {
      "model_module": "@jupyter-widgets/base",
      "model_module_version": "1.2.0",
      "model_name": "LayoutModel",
      "state": {}
     },
     "fd7ceb143199405db8cdc2b3ae3dd09d": {
      "model_module": "@jupyter-widgets/controls",
      "model_module_version": "1.5.0",
      "model_name": "FloatProgressModel",
      "state": {
       "description": "FMIS",
       "layout": "IPY_MODEL_48d2322f2e5347bab2cb9548363a64ea",
       "max": 21594,
       "style": "IPY_MODEL_3eed98ce158548ba8e060ef61e5bfe2b",
       "value": 19
      }
     },
     "fd92312ea8ee43a6a471118a25af9839": {
      "model_module": "@jupyter-widgets/base",
      "model_module_version": "1.2.0",
      "model_name": "LayoutModel",
      "state": {
       "grid_area": "widget018"
      }
     },
     "fdb86b94b447460797b989a9f840e20a": {
      "model_module": "@jupyter-widgets/base",
      "model_module_version": "1.2.0",
      "model_name": "LayoutModel",
      "state": {
       "grid_template_areas": "\"widget001 widget002\"\n\"widget003 widget004\"",
       "grid_template_columns": "repeat(2, 1fr)",
       "grid_template_rows": "repeat(2, 1fr)"
      }
     },
     "fe10fe97b9254b3daabc10dfb13d9af3": {
      "model_module": "@jupyter-widgets/base",
      "model_module_version": "1.2.0",
      "model_name": "LayoutModel",
      "state": {}
     },
     "fe32a557dbc44b879e8e65a1d63adcc9": {
      "model_module": "@jupyter-widgets/controls",
      "model_module_version": "1.5.0",
      "model_name": "DescriptionStyleModel",
      "state": {
       "description_width": ""
      }
     },
     "fe3f601f4eb4429ea98a9451c2bc2758": {
      "model_module": "@jupyter-widgets/controls",
      "model_module_version": "1.5.0",
      "model_name": "DescriptionStyleModel",
      "state": {
       "description_width": ""
      }
     },
     "fe554b6b13bf4eef80e0b421aa188339": {
      "model_module": "@jupyter-widgets/base",
      "model_module_version": "1.2.0",
      "model_name": "LayoutModel",
      "state": {}
     },
     "fe5f4b9108c3499dad5635258b5b61c5": {
      "model_module": "@jupyter-widgets/base",
      "model_module_version": "1.2.0",
      "model_name": "LayoutModel",
      "state": {
       "grid_area": "widget004"
      }
     },
     "fecfea46e6c443cc95e0dc1c349563e4": {
      "model_module": "@jupyter-widgets/controls",
      "model_module_version": "1.5.0",
      "model_name": "DescriptionStyleModel",
      "state": {
       "description_width": ""
      }
     },
     "fefb04f60256410d9ef64e5ab29637ff": {
      "model_module": "@jupyter-widgets/base",
      "model_module_version": "1.2.0",
      "model_name": "LayoutModel",
      "state": {
       "grid_area": "widget006"
      }
     },
     "feff8beee08a4c779316a98c2476ef5b": {
      "model_module": "@jupyter-widgets/controls",
      "model_module_version": "1.5.0",
      "model_name": "DescriptionStyleModel",
      "state": {
       "description_width": ""
      }
     },
     "ff1cde31577041fc9b4fa73ab4049e43": {
      "model_module": "@jupyter-widgets/controls",
      "model_module_version": "1.5.0",
      "model_name": "DescriptionStyleModel",
      "state": {
       "description_width": ""
      }
     },
     "ffacc0314e2d4ed4b9459093463b169d": {
      "model_module": "@jupyter-widgets/base",
      "model_module_version": "1.2.0",
      "model_name": "LayoutModel",
      "state": {}
     },
     "ffcb72bc05d44a84992daa77c8ec44c7": {
      "model_module": "@jupyter-widgets/controls",
      "model_module_version": "1.5.0",
      "model_name": "HTMLModel",
      "state": {
       "layout": "IPY_MODEL_519975c592ca48c493a724992286de47",
       "style": "IPY_MODEL_b152046cb08d404cbb3c3b42260b7781",
       "value": "30"
      }
     },
     "ffce8b69cd674bcba16d198f4108654e": {
      "model_module": "@jupyter-widgets/base",
      "model_module_version": "1.2.0",
      "model_name": "LayoutModel",
      "state": {
       "grid_area": "widget002"
      }
     }
    },
    "version_major": 2,
    "version_minor": 0
   }
  }
 },
 "nbformat": 4,
 "nbformat_minor": 5
}
