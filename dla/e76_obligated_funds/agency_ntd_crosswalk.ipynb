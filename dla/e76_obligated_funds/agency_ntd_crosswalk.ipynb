{
 "cells": [
  {
   "cell_type": "markdown",
   "id": "384e841c-f651-4da9-aabb-08d9cb1ac4a1",
   "metadata": {},
   "source": [
    "# Creating Crosswalk with DLA Locode, NTD ID and ITP ID"
   ]
  },
  {
   "cell_type": "code",
   "execution_count": 1,
   "id": "2ef53369-3771-4245-b1de-0d552d431e45",
   "metadata": {},
   "outputs": [],
   "source": [
    "import pandas as pd\n",
    "from siuba import *\n",
    "import numpy as np\n",
    "from calitp import *"
   ]
  },
  {
   "cell_type": "code",
   "execution_count": 3,
   "id": "b6710568-4c41-4bf9-bf97-f3376da25071",
   "metadata": {},
   "outputs": [],
   "source": [
    "from calitp.storage import get_fs\n",
    "fs = get_fs()\n",
    "\n",
    "GCS_FILE_PATH = 'gs://calitp-analytics-data/data-analyses/dla/e-76Obligated/'\n",
    "\n",
    "pd.set_option('display.max_columns', None)"
   ]
  },
  {
   "cell_type": "code",
   "execution_count": 5,
   "id": "64ec17ca-055b-4d7f-aa49-6fb04dca7e22",
   "metadata": {},
   "outputs": [],
   "source": [
    "dla = pd.read_excel(f\"{GCS_FILE_PATH}locodes_updated7122021.xlsx\")"
   ]
  },
  {
   "cell_type": "code",
   "execution_count": 14,
   "id": "574763df-eedf-476d-9db3-7e30890295b1",
   "metadata": {},
   "outputs": [],
   "source": [
    "dla = dla>>select(_['Agency Locode'], _['Agency Name'])\n",
    "dla = dla.rename(columns = {'Agency Name':'Name'})"
   ]
  },
  {
   "cell_type": "code",
   "execution_count": 10,
   "id": "b0d00908-eaa6-46ba-a66d-48511185bf3e",
   "metadata": {},
   "outputs": [],
   "source": [
    "itp = pd.read_csv(f\"{GCS_FILE_PATH}organizations_All_Organizations.csv\")"
   ]
  },
  {
   "cell_type": "code",
   "execution_count": 12,
   "id": "10435c2c-eabf-48e8-b809-1a33244e7160",
   "metadata": {},
   "outputs": [],
   "source": [
    "itp = itp>>select(_.Name, _['NTP ID'], _['ITP ID'])\n"
   ]
  },
  {
   "cell_type": "code",
   "execution_count": 17,
   "id": "705b92b0-ed9b-4547-9de1-e65a3ccf320a",
   "metadata": {},
   "outputs": [],
   "source": [
    "ids = pd.merge(itp, dla, on='Name', how=\"outer\", indicator=True)"
   ]
  },
  {
   "cell_type": "code",
   "execution_count": 20,
   "id": "3ef00be3-1042-4acd-869b-2cab234a48c6",
   "metadata": {},
   "outputs": [
    {
     "data": {
      "text/plain": [
       "right_only    924\n",
       "left_only     711\n",
       "both          117\n",
       "Name: _merge, dtype: int64"
      ]
     },
     "execution_count": 20,
     "metadata": {},
     "output_type": "execute_result"
    }
   ],
   "source": [
    "ids._merge.value_counts()"
   ]
  },
  {
   "cell_type": "code",
   "execution_count": 23,
   "id": "383f1b4e-70bd-4bd8-8443-9324e878c876",
   "metadata": {},
   "outputs": [
    {
     "data": {
      "text/html": [
       "<div>\n",
       "<style scoped>\n",
       "    .dataframe tbody tr th:only-of-type {\n",
       "        vertical-align: middle;\n",
       "    }\n",
       "\n",
       "    .dataframe tbody tr th {\n",
       "        vertical-align: top;\n",
       "    }\n",
       "\n",
       "    .dataframe thead th {\n",
       "        text-align: right;\n",
       "    }\n",
       "</style>\n",
       "<table border=\"1\" class=\"dataframe\">\n",
       "  <thead>\n",
       "    <tr style=\"text-align: right;\">\n",
       "      <th></th>\n",
       "      <th>Name</th>\n",
       "      <th>NTP ID</th>\n",
       "      <th>ITP ID</th>\n",
       "      <th>Agency Locode</th>\n",
       "      <th>_merge</th>\n",
       "    </tr>\n",
       "  </thead>\n",
       "  <tbody>\n",
       "    <tr>\n",
       "      <th>4</th>\n",
       "      <td>Access Services</td>\n",
       "      <td>90157</td>\n",
       "      <td>1.0</td>\n",
       "      <td>6312.0</td>\n",
       "      <td>both</td>\n",
       "    </tr>\n",
       "    <tr>\n",
       "      <th>13</th>\n",
       "      <td>Alpine County</td>\n",
       "      <td>9R02-91116</td>\n",
       "      <td>9.0</td>\n",
       "      <td>5931.0</td>\n",
       "      <td>both</td>\n",
       "    </tr>\n",
       "    <tr>\n",
       "      <th>15</th>\n",
       "      <td>Amador County</td>\n",
       "      <td>NaN</td>\n",
       "      <td>NaN</td>\n",
       "      <td>5926.0</td>\n",
       "      <td>both</td>\n",
       "    </tr>\n",
       "    <tr>\n",
       "      <th>16</th>\n",
       "      <td>Amador County Transportation Commission</td>\n",
       "      <td>NaN</td>\n",
       "      <td>NaN</td>\n",
       "      <td>6127.0</td>\n",
       "      <td>both</td>\n",
       "    </tr>\n",
       "    <tr>\n",
       "      <th>28</th>\n",
       "      <td>Antelope Valley Transit Authority</td>\n",
       "      <td>90121</td>\n",
       "      <td>16.0</td>\n",
       "      <td>6166.0</td>\n",
       "      <td>both</td>\n",
       "    </tr>\n",
       "    <tr>\n",
       "      <th>...</th>\n",
       "      <td>...</td>\n",
       "      <td>...</td>\n",
       "      <td>...</td>\n",
       "      <td>...</td>\n",
       "      <td>...</td>\n",
       "    </tr>\n",
       "    <tr>\n",
       "      <th>798</th>\n",
       "      <td>Ventura County Transportation Commission</td>\n",
       "      <td>90164</td>\n",
       "      <td>380.0</td>\n",
       "      <td>6155.0</td>\n",
       "      <td>both</td>\n",
       "    </tr>\n",
       "    <tr>\n",
       "      <th>803</th>\n",
       "      <td>Victor Valley Transit Authority</td>\n",
       "      <td>90148</td>\n",
       "      <td>360.0</td>\n",
       "      <td>6261.0</td>\n",
       "      <td>both</td>\n",
       "    </tr>\n",
       "    <tr>\n",
       "      <th>815</th>\n",
       "      <td>Western Contra Costa Transit Authority</td>\n",
       "      <td>90159</td>\n",
       "      <td>368.0</td>\n",
       "      <td>6226.0</td>\n",
       "      <td>both</td>\n",
       "    </tr>\n",
       "    <tr>\n",
       "      <th>822</th>\n",
       "      <td>Yolo County Transportation District</td>\n",
       "      <td>90090</td>\n",
       "      <td>372.0</td>\n",
       "      <td>6195.0</td>\n",
       "      <td>both</td>\n",
       "    </tr>\n",
       "    <tr>\n",
       "      <th>824</th>\n",
       "      <td>Yuba-Sutter Transit Authority</td>\n",
       "      <td>90061</td>\n",
       "      <td>376.0</td>\n",
       "      <td>6224.0</td>\n",
       "      <td>both</td>\n",
       "    </tr>\n",
       "  </tbody>\n",
       "</table>\n",
       "<p>117 rows × 5 columns</p>\n",
       "</div>"
      ],
      "text/plain": [
       "                                         Name      NTP ID  ITP ID  \\\n",
       "4                             Access Services       90157     1.0   \n",
       "13                              Alpine County  9R02-91116     9.0   \n",
       "15                              Amador County         NaN     NaN   \n",
       "16    Amador County Transportation Commission         NaN     NaN   \n",
       "28          Antelope Valley Transit Authority       90121    16.0   \n",
       "..                                        ...         ...     ...   \n",
       "798  Ventura County Transportation Commission       90164   380.0   \n",
       "803           Victor Valley Transit Authority       90148   360.0   \n",
       "815    Western Contra Costa Transit Authority       90159   368.0   \n",
       "822       Yolo County Transportation District       90090   372.0   \n",
       "824             Yuba-Sutter Transit Authority       90061   376.0   \n",
       "\n",
       "     Agency Locode _merge  \n",
       "4           6312.0   both  \n",
       "13          5931.0   both  \n",
       "15          5926.0   both  \n",
       "16          6127.0   both  \n",
       "28          6166.0   both  \n",
       "..             ...    ...  \n",
       "798         6155.0   both  \n",
       "803         6261.0   both  \n",
       "815         6226.0   both  \n",
       "822         6195.0   both  \n",
       "824         6224.0   both  \n",
       "\n",
       "[117 rows x 5 columns]"
      ]
     },
     "execution_count": 23,
     "metadata": {},
     "output_type": "execute_result"
    }
   ],
   "source": [
    "(ids>>filter(_._merge=='both'))"
   ]
  },
  {
   "cell_type": "code",
   "execution_count": 24,
   "id": "79966a63-12da-44b1-b0e1-d5153de98c19",
   "metadata": {},
   "outputs": [
    {
     "name": "stdout",
     "output_type": "stream",
     "text": [
      "<class 'pandas.core.frame.DataFrame'>\n",
      "Int64Index: 117 entries, 4 to 824\n",
      "Data columns (total 5 columns):\n",
      " #   Column         Non-Null Count  Dtype   \n",
      "---  ------         --------------  -----   \n",
      " 0   Name           117 non-null    object  \n",
      " 1   NTP ID         56 non-null     object  \n",
      " 2   ITP ID         66 non-null     float64 \n",
      " 3   Agency Locode  117 non-null    float64 \n",
      " 4   _merge         117 non-null    category\n",
      "dtypes: category(1), float64(2), object(2)\n",
      "memory usage: 4.8+ KB\n"
     ]
    }
   ],
   "source": [
    "(ids>>filter(_._merge=='both')).info()"
   ]
  },
  {
   "cell_type": "code",
   "execution_count": 27,
   "id": "389da8df-edcf-4845-a629-15fe8d43b688",
   "metadata": {},
   "outputs": [],
   "source": [
    "nomatch = ids>>filter(_._merge!='both')"
   ]
  },
  {
   "cell_type": "code",
   "execution_count": 30,
   "id": "898c9e9e-b5c1-4a9c-8fcd-3227bf836350",
   "metadata": {},
   "outputs": [],
   "source": [
    "nomatch= to_snakecase(nomatch)"
   ]
  },
  {
   "cell_type": "code",
   "execution_count": 31,
   "id": "ca316223-686f-49a8-8830-d7f07eb2cc06",
   "metadata": {},
   "outputs": [
    {
     "name": "stdout",
     "output_type": "stream",
     "text": [
      "<class 'pandas.core.frame.DataFrame'>\n",
      "Int64Index: 1635 entries, 0 to 1751\n",
      "Data columns (total 5 columns):\n",
      " #   Column         Non-Null Count  Dtype   \n",
      "---  ------         --------------  -----   \n",
      " 0   name           1635 non-null   object  \n",
      " 1   ntp_id         143 non-null    object  \n",
      " 2   itp_id         308 non-null    float64 \n",
      " 3   agency_locode  924 non-null    float64 \n",
      " 4   _merge         1635 non-null   category\n",
      "dtypes: category(1), float64(2), object(2)\n",
      "memory usage: 65.6+ KB\n"
     ]
    }
   ],
   "source": [
    "nomatch.info()"
   ]
  },
  {
   "cell_type": "code",
   "execution_count": 38,
   "id": "f71eea23-4997-472c-9fef-62e72cc326bb",
   "metadata": {},
   "outputs": [
    {
     "name": "stdout",
     "output_type": "stream",
     "text": [
      "<class 'pandas.core.frame.DataFrame'>\n",
      "Int64Index: 135 entries, 10 to 826\n",
      "Data columns (total 5 columns):\n",
      " #   Column         Non-Null Count  Dtype   \n",
      "---  ------         --------------  -----   \n",
      " 0   name           135 non-null    object  \n",
      " 1   ntp_id         135 non-null    object  \n",
      " 2   itp_id         135 non-null    float64 \n",
      " 3   agency_locode  0 non-null      float64 \n",
      " 4   _merge         135 non-null    category\n",
      "dtypes: category(1), float64(2), object(2)\n",
      "memory usage: 5.5+ KB\n"
     ]
    }
   ],
   "source": [
    "(nomatch.query('itp_id.notnull() and ntp_id.notnull()')).info()"
   ]
  },
  {
   "cell_type": "code",
   "execution_count": null,
   "id": "aabb6e85-771e-41d0-b4e8-2bb9983d4073",
   "metadata": {},
   "outputs": [],
   "source": []
  },
  {
   "cell_type": "code",
   "execution_count": null,
   "id": "8b354bce-e916-4d60-a387-c60a466f4273",
   "metadata": {},
   "outputs": [],
   "source": []
  },
  {
   "cell_type": "code",
   "execution_count": null,
   "id": "ccab07a5-0e3c-40a5-894a-d9f0301f4f06",
   "metadata": {
    "tags": []
   },
   "outputs": [],
   "source": []
  }
 ],
 "metadata": {
  "kernelspec": {
   "display_name": "Python 3 (ipykernel)",
   "language": "python",
   "name": "python3"
  },
  "language_info": {
   "codemirror_mode": {
    "name": "ipython",
    "version": 3
   },
   "file_extension": ".py",
   "mimetype": "text/x-python",
   "name": "python",
   "nbconvert_exporter": "python",
   "pygments_lexer": "ipython3",
   "version": "3.9.10"
  },
  "widgets": {
   "application/vnd.jupyter.widget-state+json": {
    "state": {},
    "version_major": 2,
    "version_minor": 0
   }
  }
 },
 "nbformat": 4,
 "nbformat_minor": 5
}
