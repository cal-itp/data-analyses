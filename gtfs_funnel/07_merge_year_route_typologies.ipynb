{
 "cells": [
  {
   "cell_type": "markdown",
   "id": "f663c0fb-f1fc-4266-be99-1ddd89a479da",
   "metadata": {},
   "source": [
    "# Route typologies - check that route grain merges well with schedule time-series\n",
    "\n",
    "Modify the function to just grab operator-route-direction columns and see how well the merge performs.\n",
    "\n",
    "If we're starting with scheduled trips to get route grain, we should decrease the rows that are left only. "
   ]
  },
  {
   "cell_type": "code",
   "execution_count": 1,
   "id": "47f92533-af57-4d74-9b62-c6ee7d612b11",
   "metadata": {
    "tags": []
   },
   "outputs": [],
   "source": [
    "import pandas as pd\n",
    "\n",
    "from segment_speed_utils import time_series_utils\n",
    "from update_vars import GTFS_DATA_DICT, RT_SCHED_GCS, SCHED_GCS\n",
    "from shared_utils import rt_dates"
   ]
  },
  {
   "cell_type": "code",
   "execution_count": 5,
   "id": "b3644310-37c5-413d-bac7-db86ab93de41",
   "metadata": {
    "tags": []
   },
   "outputs": [],
   "source": [
    "def concatenate_schedule_by_route_direction_modified(\n",
    "    date_list: list\n",
    ") -> pd.DataFrame:\n",
    "    \"\"\"\n",
    "    Concatenate schedule metrics (from gtfs_funnel)\n",
    "    for route-direction-time_period grain\n",
    "    for all the dates we have.\n",
    "    \"\"\"\n",
    "    FILE = GTFS_DATA_DICT.rt_vs_schedule_tables.sched_route_direction_metrics\n",
    "        \n",
    "    df = time_series_utils.concatenate_datasets_across_dates(\n",
    "        RT_SCHED_GCS,\n",
    "        FILE,\n",
    "        date_list,\n",
    "        data_type = \"df\",\n",
    "        columns = [\"schedule_gtfs_dataset_key\", \"route_id\", \"direction_id\"],\n",
    "    ).drop_duplicates().reset_index(drop=True)    \n",
    "    \n",
    "    df = df.assign(\n",
    "        year = df.service_date.dt.year\n",
    "    )\n",
    "    \n",
    "    return df"
   ]
  },
  {
   "cell_type": "code",
   "execution_count": 6,
   "id": "f79a053a-7421-4054-9195-137827f63c74",
   "metadata": {
    "tags": []
   },
   "outputs": [],
   "source": [
    "def concatenate_new_route_typologies(year_list: list) -> pd.DataFrame:\n",
    "    EXPORT = f\"{GTFS_DATA_DICT.schedule_tables.route_typologies}_new\"\n",
    "    \n",
    "    df = pd.concat([\n",
    "        pd.read_parquet(\n",
    "            f\"{SCHED_GCS}{EXPORT}_{str(y)}.parquet\"\n",
    "        ).assign(year=int(y))\n",
    "        for y in year_list\n",
    "    ], axis=0, ignore_index=True)\n",
    "\n",
    "    return df"
   ]
  },
  {
   "cell_type": "code",
   "execution_count": 7,
   "id": "5c0ddc14-ada8-4e0d-83dc-6051ecd19126",
   "metadata": {
    "tags": []
   },
   "outputs": [],
   "source": [
    "analysis_date_list = rt_dates.y2023_dates + rt_dates.y2024_dates + rt_dates.y2025_dates\n",
    "\n",
    "scheduled_df = concatenate_schedule_by_route_direction_modified(\n",
    "    analysis_date_list\n",
    ")\n",
    "route_typo_df = concatenate_new_route_typologies([2023, 2024, 2025])"
   ]
  },
  {
   "cell_type": "code",
   "execution_count": 9,
   "id": "5ddc9ffb-3ecf-4818-9590-3426e76845a7",
   "metadata": {
    "tags": []
   },
   "outputs": [
    {
     "data": {
      "text/plain": [
       "((93132, 5), (12991, 16))"
      ]
     },
     "execution_count": 9,
     "metadata": {},
     "output_type": "execute_result"
    }
   ],
   "source": [
    "scheduled_df.shape, route_typo_df.shape"
   ]
  },
  {
   "cell_type": "code",
   "execution_count": 11,
   "id": "e1fa941d-734e-47d2-bfa6-15b745d2c6bb",
   "metadata": {
    "tags": []
   },
   "outputs": [
    {
     "data": {
      "text/plain": [
       "schedule_gtfs_dataset_key     object\n",
       "name                          object\n",
       "route_id                      object\n",
       "route_type                    object\n",
       "route_long_name               object\n",
       "route_short_name              object\n",
       "combined_name                 object\n",
       "is_express                     int64\n",
       "is_rapid                       int64\n",
       "is_rail                        int64\n",
       "is_ferry                       int64\n",
       "is_local                       int64\n",
       "common_shape_id               object\n",
       "is_coverage                  float64\n",
       "is_downtown_local            float64\n",
       "year                           int64\n",
       "dtype: object"
      ]
     },
     "execution_count": 11,
     "metadata": {},
     "output_type": "execute_result"
    }
   ],
   "source": [
    "route_typo_df.dtypes"
   ]
  },
  {
   "cell_type": "code",
   "execution_count": 14,
   "id": "d1ecd177-1ace-491c-83ce-c825884263af",
   "metadata": {
    "tags": []
   },
   "outputs": [
    {
     "data": {
      "text/plain": [
       "schedule_gtfs_dataset_key            object\n",
       "route_id                             object\n",
       "direction_id                        float64\n",
       "service_date                 datetime64[ns]\n",
       "year                                  int64\n",
       "dtype: object"
      ]
     },
     "execution_count": 14,
     "metadata": {},
     "output_type": "execute_result"
    }
   ],
   "source": [
    "scheduled_df.dtypes"
   ]
  },
  {
   "cell_type": "code",
   "execution_count": 15,
   "id": "6ff56743-d5a4-4c0d-b697-5206beea1292",
   "metadata": {
    "tags": []
   },
   "outputs": [
    {
     "data": {
      "text/plain": [
       "both          98638\n",
       "right_only     1639\n",
       "left_only         0\n",
       "Name: _merge, dtype: int64"
      ]
     },
     "execution_count": 15,
     "metadata": {},
     "output_type": "execute_result"
    }
   ],
   "source": [
    "pd.merge(\n",
    "    scheduled_df,\n",
    "    route_typo_df,\n",
    "    on = [\"schedule_gtfs_dataset_key\", \"route_id\", \"year\"],\n",
    "    how = \"outer\",\n",
    "    indicator = True\n",
    ")._merge.value_counts()\n",
    "    "
   ]
  },
  {
   "cell_type": "code",
   "execution_count": 16,
   "id": "881bd52c-eb2c-47ad-9363-bf3bbca54848",
   "metadata": {
    "tags": []
   },
   "outputs": [
    {
     "data": {
      "text/plain": [
       "both          0.983655\n",
       "right_only    0.016345\n",
       "left_only     0.000000\n",
       "Name: _merge, dtype: float64"
      ]
     },
     "execution_count": 16,
     "metadata": {},
     "output_type": "execute_result"
    }
   ],
   "source": [
    "pd.merge(\n",
    "    scheduled_df,\n",
    "    route_typo_df,\n",
    "    on = [\"schedule_gtfs_dataset_key\", \"route_id\", \"year\"],\n",
    "    how = \"outer\",\n",
    "    indicator = True\n",
    ")._merge.value_counts(normalize=True)\n",
    "    "
   ]
  },
  {
   "cell_type": "code",
   "execution_count": null,
   "id": "25628e0a-8cae-4e15-919a-860840f5ae92",
   "metadata": {},
   "outputs": [],
   "source": []
  }
 ],
 "metadata": {
  "kernelspec": {
   "display_name": "Python 3 (ipykernel)",
   "language": "python",
   "name": "python3"
  },
  "language_info": {
   "codemirror_mode": {
    "name": "ipython",
    "version": 3
   },
   "file_extension": ".py",
   "mimetype": "text/x-python",
   "name": "python",
   "nbconvert_exporter": "python",
   "pygments_lexer": "ipython3",
   "version": "3.11.10"
  }
 },
 "nbformat": 4,
 "nbformat_minor": 5
}
