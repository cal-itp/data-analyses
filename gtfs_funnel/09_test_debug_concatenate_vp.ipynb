{
 "cells": [
  {
   "cell_type": "code",
   "execution_count": 1,
   "id": "7edb6801-ba96-4be7-a6c9-7671946347af",
   "metadata": {
    "tags": []
   },
   "outputs": [],
   "source": [
    "import concatenate_vehicle_positions as cvp"
   ]
  },
  {
   "cell_type": "code",
   "execution_count": 2,
   "id": "f6dfca50-006e-4614-b190-e7487791e58a",
   "metadata": {
    "tags": []
   },
   "outputs": [],
   "source": [
    "import pandas as pd"
   ]
  },
  {
   "cell_type": "code",
   "execution_count": 3,
   "id": "9e7e5adb-37b7-4d4e-af1d-0023a9b301b0",
   "metadata": {
    "tags": []
   },
   "outputs": [],
   "source": [
    "import dask.dataframe as dd\n",
    "import dask_geopandas as dg\n",
    "import datetime\n",
    "import gcsfs\n",
    "import geopandas as gpd\n",
    "import pandas as pd\n",
    "import shapely\n",
    "import sys\n",
    "\n",
    "from dask import delayed, compute\n",
    "from loguru import logger\n",
    "\n",
    "from shared_utils import schedule_rt_utils\n",
    "from calitp_data_analysis import utils\n",
    "from update_vars import GTFS_DATA_DICT, SEGMENT_GCS\n",
    "\n",
    "fs = gcsfs.GCSFileSystem()"
   ]
  },
  {
   "cell_type": "markdown",
   "id": "fb66ba66-b926-4ed7-b771-7323338b423e",
   "metadata": {
    "tags": []
   },
   "source": [
    "# Try running the last part of `concatenate_vehicle_positions.py` seperately\n",
    "\n",
    "* still running out of memory on power user"
   ]
  },
  {
   "cell_type": "code",
   "execution_count": 4,
   "id": "e750e5b6-bfba-43bc-9139-d9a497e820a4",
   "metadata": {
    "tags": []
   },
   "outputs": [],
   "source": [
    "RAW_VP = GTFS_DATA_DICT.speeds_tables.raw_vp"
   ]
  },
  {
   "cell_type": "code",
   "execution_count": 6,
   "id": "9ac95b0f-395d-4525-90e2-658209401901",
   "metadata": {
    "tags": []
   },
   "outputs": [],
   "source": [
    "from update_vars import analysis_date_list"
   ]
  },
  {
   "cell_type": "code",
   "execution_count": 7,
   "id": "9a7abc9b-6da3-47f9-9936-1b23001ef915",
   "metadata": {
    "tags": []
   },
   "outputs": [],
   "source": [
    "analysis_date = analysis_date_list[0]"
   ]
  },
  {
   "cell_type": "code",
   "execution_count": 8,
   "id": "b25580cf-3a28-4ce1-b5af-984bebc2bef3",
   "metadata": {
    "tags": []
   },
   "outputs": [],
   "source": [
    "# Import concatenated tabular vp and make it a gdf\n",
    "vp = delayed(pd.read_parquet)(\n",
    "    f\"{SEGMENT_GCS}{RAW_VP}_{analysis_date}_concat/\"\n",
    ").reset_index(drop=True)"
   ]
  },
  {
   "cell_type": "code",
   "execution_count": 9,
   "id": "7171596b-93e8-4abf-a925-f687d510bd2c",
   "metadata": {
    "tags": []
   },
   "outputs": [
    {
     "data": {
      "text/plain": [
       "Delayed('reset_index-69692849-906f-4850-8c70-5273858ac89d')"
      ]
     },
     "execution_count": 9,
     "metadata": {},
     "output_type": "execute_result"
    }
   ],
   "source": [
    "vp"
   ]
  },
  {
   "cell_type": "code",
   "execution_count": 10,
   "id": "f5346ca3-c411-4030-b893-e2442e6b2a88",
   "metadata": {
    "tags": []
   },
   "outputs": [],
   "source": [
    "vp_gdf = delayed(cvp.vp_into_gdf)(vp)"
   ]
  },
  {
   "cell_type": "code",
   "execution_count": null,
   "id": "56e5e2dd-4366-4ac9-80d0-2a2485cc5d48",
   "metadata": {
    "tags": []
   },
   "outputs": [],
   "source": [
    "vp_gdf = compute(vp_gdf)[0]"
   ]
  },
  {
   "cell_type": "code",
   "execution_count": null,
   "id": "9996eee0-8e08-45a9-bb87-069a62dda3b6",
   "metadata": {},
   "outputs": [],
   "source": []
  }
 ],
 "metadata": {
  "kernelspec": {
   "display_name": "Python 3 (ipykernel)",
   "language": "python",
   "name": "python3"
  },
  "language_info": {
   "codemirror_mode": {
    "name": "ipython",
    "version": 3
   },
   "file_extension": ".py",
   "mimetype": "text/x-python",
   "name": "python",
   "nbconvert_exporter": "python",
   "pygments_lexer": "ipython3",
   "version": "3.11.10"
  },
  "widgets": {
   "application/vnd.jupyter.widget-state+json": {
    "state": {},
    "version_major": 2,
    "version_minor": 0
   }
  }
 },
 "nbformat": 4,
 "nbformat_minor": 5
}
