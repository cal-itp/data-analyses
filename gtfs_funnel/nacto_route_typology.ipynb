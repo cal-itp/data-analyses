{
 "cells": [
  {
   "cell_type": "markdown",
   "id": "5a914481-2f0c-4b2f-9799-cddebf237b7b",
   "metadata": {},
   "source": [
    "# NACTO Transit Typologies\n",
    "\n",
    "## Criteria to Use\n",
    "* Create a `route_typology` and `freq_category` column.\n",
    "   * Since only `rapid` and `local` route typologies are associated wiht a specific service frequency, we will want to use differentiate between `low_frequency/downtown_local` from `high_frequency/downtown_local`.\n",
    "* 2 mile long road segments\n",
    "* `stop_frequency` = stops per mile\n",
    "* `service_frequency` = peak hours (buses per hour)\n",
    "* wherever there are overlapping cutoffs, the more generous criteria is assigned to the road\n",
    "* 1 shape selected for each route-direction\n",
    "* shape is overlayed against buffered road segments, and then a % for each typology is calculated\n",
    "* A transit route can be considered that typology as long as more than 10% of its length falls in that typology\n",
    "\n",
    "### [Transit route types](https://nacto.org/publication/transit-street-design-guide/introduction/service-context/transit-route-types/)\n",
    "* Use **stop frequency (per mile) and freq cateogry from below** for scoring\n",
    "* Downtown local: stop frequency 4 or more per mile, service area is compact and dense (how do we measure?)\n",
    "* Local: stop frequency 3-4 per mile, service frequency is moderate or high, riders use for short-to-medium length trips (how do we measure?)\n",
    "* Rapid: stop frequency 1-3 per mile, service frequency is moderate or high\n",
    "* Coverage: stop frequency is 2-8 per mile, service frequency is low, service area is low density\n",
    "* Express: non-stop express segments between service areas with more frequent stops, service frequency is scheduled, often infrequent, and concentrated during peak\n",
    " \n",
    "### [Transit frequency and volume](https://nacto.org/publication/transit-street-design-guide/introduction/service-context/transit-frequency-volume/)\n",
    "* Use **x buses per hour** for scoring\n",
    "* Low volume: over 15 min headways = 4 or fewer buses per hour, fewer than 100 passengers per hour\n",
    "* Moderate volume: 10-15 min headways, 4-10 buses per hour, 100-750 passengers per hour\n",
    "* High volume: 2-6 minute combined headways, 10-30 buses per hour, 500-2_000 passengers per hour\n",
    "* Very high volume: 2-3 minute combined headways, 20-30 buses per hour or more, 1_000+ passengers per hour on multiple routes or 2_500+ per hour on one route with multi-unit vehicles."
   ]
  },
  {
   "cell_type": "code",
   "execution_count": 1,
   "id": "162c5fe4-fc05-44f3-bc89-95ab5585d248",
   "metadata": {},
   "outputs": [],
   "source": [
    "import altair as alt\n",
    "import geopandas as gpd\n",
    "import pandas as pd\n",
    "       \n",
    "from shared_utils import rt_dates\n",
    "from route_typologies import prep_roads, overlay_shapes_to_roads\n",
    "analysis_date = rt_dates.DATES[\"jan2024\"]"
   ]
  },
  {
   "cell_type": "code",
   "execution_count": 2,
   "id": "f8deaeff-1e56-4c0b-855e-21427f1d63f4",
   "metadata": {},
   "outputs": [],
   "source": [
    "road_stats = prep_roads()"
   ]
  },
  {
   "cell_type": "code",
   "execution_count": 3,
   "id": "53bee0f1-0a49-4766-9c0f-afdf10d9295e",
   "metadata": {},
   "outputs": [
    {
     "data": {
      "text/plain": [
       "low          41951\n",
       "moderate     14708\n",
       "high          6192\n",
       "very_high     6158\n",
       "Name: freq_category, dtype: int64"
      ]
     },
     "metadata": {},
     "output_type": "display_data"
    },
    {
     "data": {
      "text/plain": [
       "low          0.607906\n",
       "moderate     0.213132\n",
       "high         0.089727\n",
       "very_high    0.089235\n",
       "Name: freq_category, dtype: float64"
      ]
     },
     "metadata": {},
     "output_type": "display_data"
    }
   ],
   "source": [
    "display(road_stats.freq_category.value_counts(dropna=False))\n",
    "display(road_stats.freq_category.value_counts(dropna=False, normalize=True))"
   ]
  },
  {
   "cell_type": "code",
   "execution_count": 4,
   "id": "9c95d370-26a0-409a-91cf-e4e107297b20",
   "metadata": {},
   "outputs": [
    {
     "data": {
      "text/plain": [
       "coverage          37728\n",
       "downtown_local    13322\n",
       "rapid             10082\n",
       "None               4734\n",
       "local              3143\n",
       "Name: typology, dtype: int64"
      ]
     },
     "metadata": {},
     "output_type": "display_data"
    },
    {
     "data": {
      "text/plain": [
       "coverage          0.546711\n",
       "downtown_local    0.193047\n",
       "rapid             0.146097\n",
       "None              0.068600\n",
       "local             0.045545\n",
       "Name: typology, dtype: float64"
      ]
     },
     "metadata": {},
     "output_type": "display_data"
    }
   ],
   "source": [
    "display(road_stats.typology.value_counts(dropna=False))\n",
    "display(road_stats.typology.value_counts(dropna=False, normalize=True))"
   ]
  },
  {
   "cell_type": "code",
   "execution_count": 5,
   "id": "900cef1a-6531-403e-a4a5-7e5adb736deb",
   "metadata": {},
   "outputs": [
    {
     "data": {
      "text/html": [
       "<div>\n",
       "<style scoped>\n",
       "    .dataframe tbody tr th:only-of-type {\n",
       "        vertical-align: middle;\n",
       "    }\n",
       "\n",
       "    .dataframe tbody tr th {\n",
       "        vertical-align: top;\n",
       "    }\n",
       "\n",
       "    .dataframe thead th {\n",
       "        text-align: right;\n",
       "    }\n",
       "</style>\n",
       "<table border=\"1\" class=\"dataframe\">\n",
       "  <thead>\n",
       "    <tr style=\"text-align: right;\">\n",
       "      <th>freq_category</th>\n",
       "      <th>high</th>\n",
       "      <th>low</th>\n",
       "      <th>moderate</th>\n",
       "      <th>very_high</th>\n",
       "    </tr>\n",
       "    <tr>\n",
       "      <th>typology</th>\n",
       "      <th></th>\n",
       "      <th></th>\n",
       "      <th></th>\n",
       "      <th></th>\n",
       "    </tr>\n",
       "  </thead>\n",
       "  <tbody>\n",
       "    <tr>\n",
       "      <th>coverage</th>\n",
       "      <td>0</td>\n",
       "      <td>37728</td>\n",
       "      <td>0</td>\n",
       "      <td>0</td>\n",
       "    </tr>\n",
       "    <tr>\n",
       "      <th>downtown_local</th>\n",
       "      <td>2022</td>\n",
       "      <td>4223</td>\n",
       "      <td>3211</td>\n",
       "      <td>3866</td>\n",
       "    </tr>\n",
       "    <tr>\n",
       "      <th>local</th>\n",
       "      <td>1102</td>\n",
       "      <td>0</td>\n",
       "      <td>2041</td>\n",
       "      <td>0</td>\n",
       "    </tr>\n",
       "    <tr>\n",
       "      <th>rapid</th>\n",
       "      <td>2729</td>\n",
       "      <td>0</td>\n",
       "      <td>7353</td>\n",
       "      <td>0</td>\n",
       "    </tr>\n",
       "  </tbody>\n",
       "</table>\n",
       "</div>"
      ],
      "text/plain": [
       "freq_category   high    low  moderate  very_high\n",
       "typology                                        \n",
       "coverage           0  37728         0          0\n",
       "downtown_local  2022   4223      3211       3866\n",
       "local           1102      0      2041          0\n",
       "rapid           2729      0      7353          0"
      ]
     },
     "execution_count": 5,
     "metadata": {},
     "output_type": "execute_result"
    }
   ],
   "source": [
    "pd.crosstab(road_stats.typology, road_stats.freq_category)"
   ]
  },
  {
   "cell_type": "code",
   "execution_count": 6,
   "id": "84f14850-5e0a-43b4-927b-cb532966f469",
   "metadata": {},
   "outputs": [
    {
     "data": {
      "text/html": [
       "<div>\n",
       "<style scoped>\n",
       "    .dataframe tbody tr th:only-of-type {\n",
       "        vertical-align: middle;\n",
       "    }\n",
       "\n",
       "    .dataframe tbody tr th {\n",
       "        vertical-align: top;\n",
       "    }\n",
       "\n",
       "    .dataframe thead th {\n",
       "        text-align: right;\n",
       "    }\n",
       "</style>\n",
       "<table border=\"1\" class=\"dataframe\">\n",
       "  <thead>\n",
       "    <tr style=\"text-align: right;\">\n",
       "      <th>freq_category</th>\n",
       "      <th>high</th>\n",
       "      <th>low</th>\n",
       "      <th>moderate</th>\n",
       "      <th>very_high</th>\n",
       "    </tr>\n",
       "    <tr>\n",
       "      <th>typology</th>\n",
       "      <th></th>\n",
       "      <th></th>\n",
       "      <th></th>\n",
       "      <th></th>\n",
       "    </tr>\n",
       "  </thead>\n",
       "  <tbody>\n",
       "    <tr>\n",
       "      <th>coverage</th>\n",
       "      <td>0.000000</td>\n",
       "      <td>0.586978</td>\n",
       "      <td>0.000000</td>\n",
       "      <td>0.000000</td>\n",
       "    </tr>\n",
       "    <tr>\n",
       "      <th>downtown_local</th>\n",
       "      <td>0.031459</td>\n",
       "      <td>0.065702</td>\n",
       "      <td>0.049957</td>\n",
       "      <td>0.060148</td>\n",
       "    </tr>\n",
       "    <tr>\n",
       "      <th>local</th>\n",
       "      <td>0.017145</td>\n",
       "      <td>0.000000</td>\n",
       "      <td>0.031754</td>\n",
       "      <td>0.000000</td>\n",
       "    </tr>\n",
       "    <tr>\n",
       "      <th>rapid</th>\n",
       "      <td>0.042458</td>\n",
       "      <td>0.000000</td>\n",
       "      <td>0.114399</td>\n",
       "      <td>0.000000</td>\n",
       "    </tr>\n",
       "  </tbody>\n",
       "</table>\n",
       "</div>"
      ],
      "text/plain": [
       "freq_category       high       low  moderate  very_high\n",
       "typology                                               \n",
       "coverage        0.000000  0.586978  0.000000   0.000000\n",
       "downtown_local  0.031459  0.065702  0.049957   0.060148\n",
       "local           0.017145  0.000000  0.031754   0.000000\n",
       "rapid           0.042458  0.000000  0.114399   0.000000"
      ]
     },
     "execution_count": 6,
     "metadata": {},
     "output_type": "execute_result"
    }
   ],
   "source": [
    "pd.crosstab(road_stats.typology, road_stats.freq_category, normalize=True)"
   ]
  },
  {
   "cell_type": "code",
   "execution_count": 7,
   "id": "ed9df0dc-9a31-4fe5-a81e-6f677e617bd0",
   "metadata": {},
   "outputs": [],
   "source": [
    "df = (road_stats.groupby([\"freq_category\", \"typology\"])\n",
    "      .agg({\"linearid\": \"count\"})\n",
    "      .reset_index()\n",
    "      .rename(columns = {\"linearid\": \"counts\"})\n",
    "     )"
   ]
  },
  {
   "cell_type": "code",
   "execution_count": 8,
   "id": "a6eeaee8-4a0e-42c7-a133-9c7d595a9db8",
   "metadata": {},
   "outputs": [
    {
     "data": {
      "text/html": [
       "\n",
       "<style>\n",
       "  #altair-viz-341e9e32c52e4fc794b73a7a0124cc99.vega-embed {\n",
       "    width: 100%;\n",
       "    display: flex;\n",
       "  }\n",
       "\n",
       "  #altair-viz-341e9e32c52e4fc794b73a7a0124cc99.vega-embed details,\n",
       "  #altair-viz-341e9e32c52e4fc794b73a7a0124cc99.vega-embed details summary {\n",
       "    position: relative;\n",
       "  }\n",
       "</style>\n",
       "<div id=\"altair-viz-341e9e32c52e4fc794b73a7a0124cc99\"></div>\n",
       "<script type=\"text/javascript\">\n",
       "  var VEGA_DEBUG = (typeof VEGA_DEBUG == \"undefined\") ? {} : VEGA_DEBUG;\n",
       "  (function(spec, embedOpt){\n",
       "    let outputDiv = document.currentScript.previousElementSibling;\n",
       "    if (outputDiv.id !== \"altair-viz-341e9e32c52e4fc794b73a7a0124cc99\") {\n",
       "      outputDiv = document.getElementById(\"altair-viz-341e9e32c52e4fc794b73a7a0124cc99\");\n",
       "    }\n",
       "    const paths = {\n",
       "      \"vega\": \"https://cdn.jsdelivr.net/npm/vega@5?noext\",\n",
       "      \"vega-lib\": \"https://cdn.jsdelivr.net/npm/vega-lib?noext\",\n",
       "      \"vega-lite\": \"https://cdn.jsdelivr.net/npm/vega-lite@5.14.1?noext\",\n",
       "      \"vega-embed\": \"https://cdn.jsdelivr.net/npm/vega-embed@6?noext\",\n",
       "    };\n",
       "\n",
       "    function maybeLoadScript(lib, version) {\n",
       "      var key = `${lib.replace(\"-\", \"\")}_version`;\n",
       "      return (VEGA_DEBUG[key] == version) ?\n",
       "        Promise.resolve(paths[lib]) :\n",
       "        new Promise(function(resolve, reject) {\n",
       "          var s = document.createElement('script');\n",
       "          document.getElementsByTagName(\"head\")[0].appendChild(s);\n",
       "          s.async = true;\n",
       "          s.onload = () => {\n",
       "            VEGA_DEBUG[key] = version;\n",
       "            return resolve(paths[lib]);\n",
       "          };\n",
       "          s.onerror = () => reject(`Error loading script: ${paths[lib]}`);\n",
       "          s.src = paths[lib];\n",
       "        });\n",
       "    }\n",
       "\n",
       "    function showError(err) {\n",
       "      outputDiv.innerHTML = `<div class=\"error\" style=\"color:red;\">${err}</div>`;\n",
       "      throw err;\n",
       "    }\n",
       "\n",
       "    function displayChart(vegaEmbed) {\n",
       "      vegaEmbed(outputDiv, spec, embedOpt)\n",
       "        .catch(err => showError(`Javascript Error: ${err.message}<br>This usually means there's a typo in your chart specification. See the javascript console for the full traceback.`));\n",
       "    }\n",
       "\n",
       "    if(typeof define === \"function\" && define.amd) {\n",
       "      requirejs.config({paths});\n",
       "      require([\"vega-embed\"], displayChart, err => showError(`Error loading script: ${err.message}`));\n",
       "    } else {\n",
       "      maybeLoadScript(\"vega\", \"5\")\n",
       "        .then(() => maybeLoadScript(\"vega-lite\", \"5.14.1\"))\n",
       "        .then(() => maybeLoadScript(\"vega-embed\", \"6\"))\n",
       "        .catch(showError)\n",
       "        .then(() => displayChart(vegaEmbed));\n",
       "    }\n",
       "  })({\"config\": {\"view\": {\"continuousWidth\": 300, \"continuousHeight\": 300}}, \"data\": {\"name\": \"data-d31ec1c783db76e0b3920be706f7ac20\"}, \"mark\": {\"type\": \"rect\"}, \"encoding\": {\"color\": {\"field\": \"counts\", \"scale\": {}, \"type\": \"quantitative\"}, \"tooltip\": [{\"field\": \"freq_category\", \"type\": \"nominal\"}, {\"field\": \"typology\", \"type\": \"nominal\"}, {\"field\": \"counts\", \"type\": \"quantitative\"}], \"x\": {\"field\": \"freq_category\", \"sort\": [\"low\", \"moderate\", \"high\", \"very_high\"], \"type\": \"ordinal\"}, \"y\": {\"field\": \"typology\", \"sort\": [\"downtown_local\", \"local\", \"rapid\", \"coverage\"], \"type\": \"ordinal\"}}, \"height\": 200, \"title\": \"Service Frequency vs Route Typology\", \"width\": 200, \"$schema\": \"https://vega.github.io/schema/vega-lite/v5.14.1.json\", \"datasets\": {\"data-d31ec1c783db76e0b3920be706f7ac20\": [{\"freq_category\": \"high\", \"typology\": \"downtown_local\", \"counts\": 2022}, {\"freq_category\": \"high\", \"typology\": \"local\", \"counts\": 1102}, {\"freq_category\": \"high\", \"typology\": \"rapid\", \"counts\": 2729}, {\"freq_category\": \"low\", \"typology\": \"coverage\", \"counts\": 37728}, {\"freq_category\": \"low\", \"typology\": \"downtown_local\", \"counts\": 4223}, {\"freq_category\": \"moderate\", \"typology\": \"downtown_local\", \"counts\": 3211}, {\"freq_category\": \"moderate\", \"typology\": \"local\", \"counts\": 2041}, {\"freq_category\": \"moderate\", \"typology\": \"rapid\", \"counts\": 7353}, {\"freq_category\": \"very_high\", \"typology\": \"downtown_local\", \"counts\": 3866}]}}, {\"mode\": \"vega-lite\"});\n",
       "</script>"
      ],
      "text/plain": [
       "alt.Chart(...)"
      ]
     },
     "execution_count": 8,
     "metadata": {},
     "output_type": "execute_result"
    }
   ],
   "source": [
    "alt.renderers.enable(\"html\")\n",
    "alt.data_transformers.enable('default', max_rows=None)\n",
    "\n",
    "chart = (alt.Chart(df)\n",
    " .mark_rect()\n",
    " .encode(\n",
    "    x=alt.X(\n",
    "        'freq_category:O', \n",
    "        sort=[\"low\", \"moderate\", \"high\", \"very_high\"]\n",
    "    ),\n",
    "    y=alt.Y(\n",
    "        'typology:O', \n",
    "        sort=[\"downtown_local\", \"local\", \"rapid\", \"coverage\"]\n",
    "    ),\n",
    "    color=alt.Color('counts:Q', scale=alt.Scale()),\n",
    "    tooltip = [\"freq_category\", \"typology\", \"counts\"]\n",
    ").properties(\n",
    "     width=200, height=200, \n",
    "     title=\"Service Frequency vs Route Typology\"\n",
    " )\n",
    ")\n",
    "\n",
    "chart"
   ]
  },
  {
   "cell_type": "code",
   "execution_count": 9,
   "id": "6f98e825-c258-44df-ad4c-6cab1f1a0d76",
   "metadata": {},
   "outputs": [],
   "source": [
    "results = overlay_shapes_to_roads(\n",
    "    road_stats,\n",
    "    analysis_date,\n",
    "    buffer_meters=20\n",
    ")"
   ]
  },
  {
   "cell_type": "code",
   "execution_count": 10,
   "id": "f60a4cf9-2c00-431d-934c-73ebe0e490c6",
   "metadata": {},
   "outputs": [],
   "source": [
    "# Get counts by the combinations of freq_category-typology\n",
    "# the heatmap for the transit routes categorized\n",
    "results2 = results.groupby(\n",
    "    [\"freq_category\", \"typology\"]\n",
    ").agg({\"route_id\": \"count\"}).reset_index()"
   ]
  },
  {
   "cell_type": "code",
   "execution_count": 11,
   "id": "fb12c54a-c6ea-4139-bfdb-ba33b4ff4305",
   "metadata": {},
   "outputs": [
    {
     "data": {
      "text/html": [
       "<div>\n",
       "<style scoped>\n",
       "    .dataframe tbody tr th:only-of-type {\n",
       "        vertical-align: middle;\n",
       "    }\n",
       "\n",
       "    .dataframe tbody tr th {\n",
       "        vertical-align: top;\n",
       "    }\n",
       "\n",
       "    .dataframe thead th {\n",
       "        text-align: right;\n",
       "    }\n",
       "</style>\n",
       "<table border=\"1\" class=\"dataframe\">\n",
       "  <thead>\n",
       "    <tr style=\"text-align: right;\">\n",
       "      <th></th>\n",
       "      <th>freq_category</th>\n",
       "      <th>typology</th>\n",
       "      <th>route_id</th>\n",
       "    </tr>\n",
       "  </thead>\n",
       "  <tbody>\n",
       "    <tr>\n",
       "      <th>3</th>\n",
       "      <td>low</td>\n",
       "      <td>coverage</td>\n",
       "      <td>3422</td>\n",
       "    </tr>\n",
       "    <tr>\n",
       "      <th>0</th>\n",
       "      <td>high</td>\n",
       "      <td>downtown_local</td>\n",
       "      <td>2277</td>\n",
       "    </tr>\n",
       "    <tr>\n",
       "      <th>4</th>\n",
       "      <td>low</td>\n",
       "      <td>downtown_local</td>\n",
       "      <td>1854</td>\n",
       "    </tr>\n",
       "    <tr>\n",
       "      <th>5</th>\n",
       "      <td>moderate</td>\n",
       "      <td>downtown_local</td>\n",
       "      <td>2274</td>\n",
       "    </tr>\n",
       "    <tr>\n",
       "      <th>8</th>\n",
       "      <td>very_high</td>\n",
       "      <td>downtown_local</td>\n",
       "      <td>2676</td>\n",
       "    </tr>\n",
       "    <tr>\n",
       "      <th>1</th>\n",
       "      <td>high</td>\n",
       "      <td>local</td>\n",
       "      <td>2138</td>\n",
       "    </tr>\n",
       "    <tr>\n",
       "      <th>6</th>\n",
       "      <td>moderate</td>\n",
       "      <td>local</td>\n",
       "      <td>2145</td>\n",
       "    </tr>\n",
       "    <tr>\n",
       "      <th>2</th>\n",
       "      <td>high</td>\n",
       "      <td>rapid</td>\n",
       "      <td>2886</td>\n",
       "    </tr>\n",
       "    <tr>\n",
       "      <th>7</th>\n",
       "      <td>moderate</td>\n",
       "      <td>rapid</td>\n",
       "      <td>3315</td>\n",
       "    </tr>\n",
       "  </tbody>\n",
       "</table>\n",
       "</div>"
      ],
      "text/plain": [
       "  freq_category        typology  route_id\n",
       "3           low        coverage      3422\n",
       "0          high  downtown_local      2277\n",
       "4           low  downtown_local      1854\n",
       "5      moderate  downtown_local      2274\n",
       "8     very_high  downtown_local      2676\n",
       "1          high           local      2138\n",
       "6      moderate           local      2145\n",
       "2          high           rapid      2886\n",
       "7      moderate           rapid      3315"
      ]
     },
     "execution_count": 11,
     "metadata": {},
     "output_type": "execute_result"
    }
   ],
   "source": [
    "results2.sort_values([\"typology\", \"freq_category\"])"
   ]
  },
  {
   "cell_type": "code",
   "execution_count": 12,
   "id": "791bb6b2-18dd-437f-855b-36361fae7330",
   "metadata": {},
   "outputs": [
    {
     "data": {
      "text/html": [
       "<div>\n",
       "<style scoped>\n",
       "    .dataframe tbody tr th:only-of-type {\n",
       "        vertical-align: middle;\n",
       "    }\n",
       "\n",
       "    .dataframe tbody tr th {\n",
       "        vertical-align: top;\n",
       "    }\n",
       "\n",
       "    .dataframe thead th {\n",
       "        text-align: right;\n",
       "    }\n",
       "</style>\n",
       "<table border=\"1\" class=\"dataframe\">\n",
       "  <thead>\n",
       "    <tr style=\"text-align: right;\">\n",
       "      <th></th>\n",
       "      <th>typology</th>\n",
       "      <th>route_id</th>\n",
       "    </tr>\n",
       "  </thead>\n",
       "  <tbody>\n",
       "    <tr>\n",
       "      <th>0</th>\n",
       "      <td>coverage</td>\n",
       "      <td>3422</td>\n",
       "    </tr>\n",
       "    <tr>\n",
       "      <th>1</th>\n",
       "      <td>downtown_local</td>\n",
       "      <td>9081</td>\n",
       "    </tr>\n",
       "    <tr>\n",
       "      <th>2</th>\n",
       "      <td>local</td>\n",
       "      <td>4283</td>\n",
       "    </tr>\n",
       "    <tr>\n",
       "      <th>3</th>\n",
       "      <td>rapid</td>\n",
       "      <td>6201</td>\n",
       "    </tr>\n",
       "  </tbody>\n",
       "</table>\n",
       "</div>"
      ],
      "text/plain": [
       "         typology  route_id\n",
       "0        coverage      3422\n",
       "1  downtown_local      9081\n",
       "2           local      4283\n",
       "3           rapid      6201"
      ]
     },
     "execution_count": 12,
     "metadata": {},
     "output_type": "execute_result"
    }
   ],
   "source": [
    "results.groupby([\"typology\"]\n",
    ").agg({\"route_id\": \"count\"}).reset_index()"
   ]
  },
  {
   "cell_type": "code",
   "execution_count": 13,
   "id": "c48856c6-2ae3-4e0a-8214-9368b58e4225",
   "metadata": {},
   "outputs": [
    {
     "data": {
      "text/plain": [
       "count    22987.000000\n",
       "mean         0.132573\n",
       "std          0.227942\n",
       "min          0.000000\n",
       "25%          0.010000\n",
       "50%          0.040000\n",
       "75%          0.150000\n",
       "max          3.190000\n",
       "Name: pct_typology, dtype: float64"
      ]
     },
     "execution_count": 13,
     "metadata": {},
     "output_type": "execute_result"
    }
   ],
   "source": [
    "# look at values of pct_typology for every segment\n",
    "# decide where \"significant\" cutoff is\n",
    "# since we don't want to display every variation possible for a route\n",
    "results.pct_typology.describe()"
   ]
  },
  {
   "cell_type": "code",
   "execution_count": 14,
   "id": "e5da8922-34ac-4bb9-92ca-653f5fd66807",
   "metadata": {},
   "outputs": [
    {
     "data": {
      "text/plain": [
       "((326, 9), (22987, 9))"
      ]
     },
     "execution_count": 14,
     "metadata": {},
     "output_type": "execute_result"
    }
   ],
   "source": [
    "results[results.pct_typology > 1].shape, results.shape"
   ]
  },
  {
   "cell_type": "code",
   "execution_count": 17,
   "id": "19fca04e-050f-40fb-8555-cd6808a65ae8",
   "metadata": {},
   "outputs": [
    {
     "data": {
      "text/html": [
       "\n",
       "<style>\n",
       "  #altair-viz-2ee3b5d85f384ddbaa47139ea7c13281.vega-embed {\n",
       "    width: 100%;\n",
       "    display: flex;\n",
       "  }\n",
       "\n",
       "  #altair-viz-2ee3b5d85f384ddbaa47139ea7c13281.vega-embed details,\n",
       "  #altair-viz-2ee3b5d85f384ddbaa47139ea7c13281.vega-embed details summary {\n",
       "    position: relative;\n",
       "  }\n",
       "</style>\n",
       "<div id=\"altair-viz-2ee3b5d85f384ddbaa47139ea7c13281\"></div>\n",
       "<script type=\"text/javascript\">\n",
       "  var VEGA_DEBUG = (typeof VEGA_DEBUG == \"undefined\") ? {} : VEGA_DEBUG;\n",
       "  (function(spec, embedOpt){\n",
       "    let outputDiv = document.currentScript.previousElementSibling;\n",
       "    if (outputDiv.id !== \"altair-viz-2ee3b5d85f384ddbaa47139ea7c13281\") {\n",
       "      outputDiv = document.getElementById(\"altair-viz-2ee3b5d85f384ddbaa47139ea7c13281\");\n",
       "    }\n",
       "    const paths = {\n",
       "      \"vega\": \"https://cdn.jsdelivr.net/npm/vega@5?noext\",\n",
       "      \"vega-lib\": \"https://cdn.jsdelivr.net/npm/vega-lib?noext\",\n",
       "      \"vega-lite\": \"https://cdn.jsdelivr.net/npm/vega-lite@5.14.1?noext\",\n",
       "      \"vega-embed\": \"https://cdn.jsdelivr.net/npm/vega-embed@6?noext\",\n",
       "    };\n",
       "\n",
       "    function maybeLoadScript(lib, version) {\n",
       "      var key = `${lib.replace(\"-\", \"\")}_version`;\n",
       "      return (VEGA_DEBUG[key] == version) ?\n",
       "        Promise.resolve(paths[lib]) :\n",
       "        new Promise(function(resolve, reject) {\n",
       "          var s = document.createElement('script');\n",
       "          document.getElementsByTagName(\"head\")[0].appendChild(s);\n",
       "          s.async = true;\n",
       "          s.onload = () => {\n",
       "            VEGA_DEBUG[key] = version;\n",
       "            return resolve(paths[lib]);\n",
       "          };\n",
       "          s.onerror = () => reject(`Error loading script: ${paths[lib]}`);\n",
       "          s.src = paths[lib];\n",
       "        });\n",
       "    }\n",
       "\n",
       "    function showError(err) {\n",
       "      outputDiv.innerHTML = `<div class=\"error\" style=\"color:red;\">${err}</div>`;\n",
       "      throw err;\n",
       "    }\n",
       "\n",
       "    function displayChart(vegaEmbed) {\n",
       "      vegaEmbed(outputDiv, spec, embedOpt)\n",
       "        .catch(err => showError(`Javascript Error: ${err.message}<br>This usually means there's a typo in your chart specification. See the javascript console for the full traceback.`));\n",
       "    }\n",
       "\n",
       "    if(typeof define === \"function\" && define.amd) {\n",
       "      requirejs.config({paths});\n",
       "      require([\"vega-embed\"], displayChart, err => showError(`Error loading script: ${err.message}`));\n",
       "    } else {\n",
       "      maybeLoadScript(\"vega\", \"5\")\n",
       "        .then(() => maybeLoadScript(\"vega-lite\", \"5.14.1\"))\n",
       "        .then(() => maybeLoadScript(\"vega-embed\", \"6\"))\n",
       "        .catch(showError)\n",
       "        .then(() => displayChart(vegaEmbed));\n",
       "    }\n",
       "  })({\"config\": {\"view\": {\"continuousWidth\": 300, \"continuousHeight\": 300}}, \"data\": {\"name\": \"data-6e63d9d446a40c5a201aca59e342131f\"}, \"mark\": {\"type\": \"rect\"}, \"encoding\": {\"color\": {\"field\": \"route_id\", \"scale\": {}, \"type\": \"quantitative\"}, \"tooltip\": [{\"field\": \"freq_category\", \"type\": \"nominal\"}, {\"field\": \"typology\", \"type\": \"nominal\"}, {\"field\": \"route_id\", \"type\": \"quantitative\"}], \"x\": {\"field\": \"freq_category\", \"sort\": [\"low\", \"moderate\", \"high\", \"very_high\"], \"type\": \"ordinal\"}, \"y\": {\"field\": \"typology\", \"sort\": [\"downtown_local\", \"local\", \"rapid\", \"coverage\"], \"type\": \"ordinal\"}}, \"height\": 200, \"title\": \"Transit Service Frequency vs Route Typology\", \"width\": 200, \"$schema\": \"https://vega.github.io/schema/vega-lite/v5.14.1.json\", \"datasets\": {\"data-6e63d9d446a40c5a201aca59e342131f\": [{\"freq_category\": \"high\", \"typology\": \"downtown_local\", \"route_id\": 2277}, {\"freq_category\": \"high\", \"typology\": \"local\", \"route_id\": 2138}, {\"freq_category\": \"high\", \"typology\": \"rapid\", \"route_id\": 2886}, {\"freq_category\": \"low\", \"typology\": \"coverage\", \"route_id\": 3422}, {\"freq_category\": \"low\", \"typology\": \"downtown_local\", \"route_id\": 1854}, {\"freq_category\": \"moderate\", \"typology\": \"downtown_local\", \"route_id\": 2274}, {\"freq_category\": \"moderate\", \"typology\": \"local\", \"route_id\": 2145}, {\"freq_category\": \"moderate\", \"typology\": \"rapid\", \"route_id\": 3315}, {\"freq_category\": \"very_high\", \"typology\": \"downtown_local\", \"route_id\": 2676}]}}, {\"mode\": \"vega-lite\"});\n",
       "</script>"
      ],
      "text/plain": [
       "alt.Chart(...)"
      ]
     },
     "execution_count": 17,
     "metadata": {},
     "output_type": "execute_result"
    }
   ],
   "source": [
    "alt.renderers.enable(\"html\")\n",
    "alt.data_transformers.enable('default', max_rows=None)\n",
    "\n",
    "chart2 = (alt.Chart(results2)\n",
    " .mark_rect()\n",
    " .encode(\n",
    "    x=alt.X(\n",
    "        'freq_category:O', \n",
    "        sort=[\"low\", \"moderate\", \"high\", \"very_high\"]\n",
    "    ),\n",
    "    y=alt.Y(\n",
    "        'typology:O', \n",
    "        sort=[\"downtown_local\", \"local\", \"rapid\", \"coverage\"]\n",
    "    ),\n",
    "    color=alt.Color('route_id:Q', scale=alt.Scale()),\n",
    "    tooltip = [\"freq_category\", \"typology\", \"route_id\"]\n",
    ").properties(\n",
    "     width=200, height=200, \n",
    "     title=\"Transit Service Frequency vs Route Typology\"\n",
    " )\n",
    ")\n",
    "\n",
    "chart2"
   ]
  },
  {
   "cell_type": "markdown",
   "id": "dd829baf-a199-40e4-a4c2-dac2f28a51aa",
   "metadata": {},
   "source": [
    "Only keep route typologies if over 10% of the route length is that.\n",
    "\n",
    "* Since roads run in 2 directions, this value can be over 100% \n",
    "(though only ~300ish rows out of 22-24k >1).\n",
    "* median is 4%, 75th percentile is ~15%. \n",
    "* Given that there are 8 possible combos, we'll pick threshold of 10% so we can see significant typologies"
   ]
  },
  {
   "cell_type": "code",
   "execution_count": null,
   "id": "636529e5-b502-4f79-9b96-78d1e68e6d71",
   "metadata": {},
   "outputs": [],
   "source": []
  }
 ],
 "metadata": {
  "kernelspec": {
   "display_name": "Python 3 (ipykernel)",
   "language": "python",
   "name": "python3"
  },
  "language_info": {
   "codemirror_mode": {
    "name": "ipython",
    "version": 3
   },
   "file_extension": ".py",
   "mimetype": "text/x-python",
   "name": "python",
   "nbconvert_exporter": "python",
   "pygments_lexer": "ipython3",
   "version": "3.9.13"
  }
 },
 "nbformat": 4,
 "nbformat_minor": 5
}
