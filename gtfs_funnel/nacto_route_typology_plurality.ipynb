{
 "cells": [
  {
   "cell_type": "markdown",
   "id": "36b2022f-b854-4072-b92a-976eb4567129",
   "metadata": {},
   "source": [
    "# Aggregate route typology by route-direction\n",
    "* If we selected a primary and secondary typology, **ignoring** the service frequency, would we be ok?\n",
    "* 80% of the route-dir combinations have just max 2 significant typologies (over 10% of the route is that typology)"
   ]
  },
  {
   "cell_type": "code",
   "execution_count": 1,
   "id": "cf9f7429-e221-4d30-9a5d-5a5329b9e7bd",
   "metadata": {},
   "outputs": [],
   "source": [
    "import geopandas as gpd\n",
    "import pandas as pd\n",
    "\n",
    "from shared_utils import rt_dates\n",
    "from segment_speed_utils.project_vars import SCHED_GCS\n",
    "\n",
    "from update_vars import CONFIG_DICT, analysis_date_list\n",
    "\n",
    "FILE = CONFIG_DICT[\"route_typologies_file\"]\n",
    "\n",
    "route_dir_cols = [\n",
    "    \"schedule_gtfs_dataset_key\", \n",
    "    \"route_id\", \"direction_id\", \n",
    "    \"common_shape_id\", \"route_name\", \"route_meters\"\n",
    "]\n",
    "\n",
    "analysis_date = rt_dates.DATES[\"mar2024\"]"
   ]
  },
  {
   "cell_type": "code",
   "execution_count": 2,
   "id": "aab4febf-8e4d-4ab6-ab0f-fa70cc085071",
   "metadata": {},
   "outputs": [],
   "source": [
    "df = pd.read_parquet(\n",
    "    f\"{SCHED_GCS}{FILE}_long_{analysis_date}.parquet\")"
   ]
  },
  {
   "cell_type": "code",
   "execution_count": 3,
   "id": "642a40d4-1578-40a7-bc95-2e131eec1583",
   "metadata": {},
   "outputs": [],
   "source": [
    "df2 = (df.groupby(route_dir_cols + [\"typology\"])\n",
    "       .agg({\"pct_typology\": \"sum\"})\n",
    "       .reset_index()\n",
    "      )"
   ]
  },
  {
   "cell_type": "code",
   "execution_count": 4,
   "id": "b27dc146-adac-4e4b-a574-d7e10168e147",
   "metadata": {},
   "outputs": [],
   "source": [
    "df2 = df2.assign(\n",
    "    obs = (df2\n",
    "       .sort_values(\n",
    "           route_dir_cols + [\"pct_typology\"], \n",
    "            ascending=[True for i in route_dir_cols] + [False])\n",
    "       .groupby(route_dir_cols)\n",
    "       .cumcount() + 1\n",
    "      )\n",
    ")"
   ]
  },
  {
   "cell_type": "code",
   "execution_count": 5,
   "id": "86d8eef5-976b-4e33-9a95-8bf475b1b3ef",
   "metadata": {},
   "outputs": [
    {
     "data": {
      "text/plain": [
       "(1    3610\n",
       " 2    2207\n",
       " 3    1000\n",
       " 4     199\n",
       " Name: obs, dtype: int64,\n",
       " 1    0.514538\n",
       " 2    0.314567\n",
       " 3    0.142531\n",
       " 4    0.028364\n",
       " Name: obs, dtype: float64)"
      ]
     },
     "execution_count": 5,
     "metadata": {},
     "output_type": "execute_result"
    }
   ],
   "source": [
    "# 80% of the route-dir combinations have just max 2 significant typologies\n",
    "df2.obs.value_counts(), df2.obs.value_counts(normalize=True)"
   ]
  },
  {
   "cell_type": "code",
   "execution_count": null,
   "id": "d7c33c53-5150-424b-8710-b46f6270c5d0",
   "metadata": {},
   "outputs": [],
   "source": []
  }
 ],
 "metadata": {
  "kernelspec": {
   "display_name": "Python 3 (ipykernel)",
   "language": "python",
   "name": "python3"
  },
  "language_info": {
   "codemirror_mode": {
    "name": "ipython",
    "version": 3
   },
   "file_extension": ".py",
   "mimetype": "text/x-python",
   "name": "python",
   "nbconvert_exporter": "python",
   "pygments_lexer": "ipython3",
   "version": "3.9.13"
  }
 },
 "nbformat": 4,
 "nbformat_minor": 5
}
