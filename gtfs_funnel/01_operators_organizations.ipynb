{
 "cells": [
  {
   "cell_type": "markdown",
   "id": "87e60e6d-e1b8-4dff-a16f-bda2871f4051",
   "metadata": {},
   "source": [
    "# Dive into operator - organization many:many relationships\n",
    "\n",
    "* Case 1: We expect that one operator (feed) can be linked to multiple organizations. There are a handful of examples, like Foothill Transit feed is linked to Foothill Transit and City of Duarte, and this is indeed valid.\n",
    "* Case 2: We also expect that the same organization can be linked to multiple feeds. (Bay Area MTC511 is one organization with multiple feeds, so is VCTC GMV, and LA Metro is one we want to keep both rail and bus feeds for the same organization).\n",
    "\n",
    "Portfolio shows things by organization and so does open data portal. This is desired because it wraps things up to the same \"agency\". Case 2 is automatically taken care of, and we have focused on this so far.\n",
    "\n",
    "Case 1 is one where we'd like to select out just one organization name, and right now our sorting / deduping results in selecting the first letter of the alphabet, which isn't necessarily always the one we want. For Foothill Transit, we've been showing City of Duarte, and we actually want to show Foothill Transit....unless we're ok with showing the same info for Foothill Transit AND City of Duarte on 2 separate pages."
   ]
  },
  {
   "cell_type": "code",
   "execution_count": 1,
   "id": "effda373-4dcc-402c-bb01-0b8a9cbdb979",
   "metadata": {},
   "outputs": [],
   "source": [
    "import pandas as pd\n",
    "from update_vars import analysis_date_list, SCHED_GCS, GTFS_DATA_DICT"
   ]
  },
  {
   "cell_type": "code",
   "execution_count": 2,
   "id": "56c6a601-802b-4781-8668-4ca3077961fe",
   "metadata": {},
   "outputs": [],
   "source": [
    "CROSSWALK_FILE = GTFS_DATA_DICT.schedule_tables.gtfs_key_crosswalk\n",
    "analysis_date = analysis_date_list[0]"
   ]
  },
  {
   "cell_type": "code",
   "execution_count": 3,
   "id": "fdfb21b6-97c1-4b98-ba6f-594bbe0a8638",
   "metadata": {},
   "outputs": [],
   "source": [
    "df = pd.read_parquet(\n",
    "    f\"{SCHED_GCS}{CROSSWALK_FILE}_{analysis_date}.parquet\"\n",
    ")"
   ]
  },
  {
   "cell_type": "code",
   "execution_count": 4,
   "id": "da4e55e9-d430-42d4-956b-8aa75b53cc16",
   "metadata": {},
   "outputs": [
    {
     "data": {
      "text/html": [
       "<div>\n",
       "<style scoped>\n",
       "    .dataframe tbody tr th:only-of-type {\n",
       "        vertical-align: middle;\n",
       "    }\n",
       "\n",
       "    .dataframe tbody tr th {\n",
       "        vertical-align: top;\n",
       "    }\n",
       "\n",
       "    .dataframe thead th {\n",
       "        text-align: right;\n",
       "    }\n",
       "</style>\n",
       "<table border=\"1\" class=\"dataframe\">\n",
       "  <thead>\n",
       "    <tr style=\"text-align: right;\">\n",
       "      <th></th>\n",
       "      <th>schedule_gtfs_dataset_key</th>\n",
       "      <th>name</th>\n",
       "      <th>schedule_source_record_id</th>\n",
       "      <th>base64_url</th>\n",
       "      <th>organization_source_record_id</th>\n",
       "      <th>organization_name</th>\n",
       "      <th>itp_id</th>\n",
       "      <th>caltrans_district</th>\n",
       "      <th>counties_served</th>\n",
       "      <th>hq_city</th>\n",
       "      <th>...</th>\n",
       "      <th>service_area_sq_miles</th>\n",
       "      <th>population</th>\n",
       "      <th>service_area_pop</th>\n",
       "      <th>subrecipient_type</th>\n",
       "      <th>primary_uza</th>\n",
       "      <th>reporter_type</th>\n",
       "      <th>organization_type</th>\n",
       "      <th>voms_pt</th>\n",
       "      <th>voms_do</th>\n",
       "      <th>year</th>\n",
       "    </tr>\n",
       "  </thead>\n",
       "  <tbody>\n",
       "    <tr>\n",
       "      <th>111</th>\n",
       "      <td>f74424acf8c41e4c1e9fd42838c4875c</td>\n",
       "      <td>Foothill Schedule</td>\n",
       "      <td>recbmQcgs8FDwTzUx</td>\n",
       "      <td>aHR0cHM6Ly9mb290aGlsbHRyYW5zaXQucmlkZXJhbGVydH...</td>\n",
       "      <td>recZm8PD8WIdcDL0M</td>\n",
       "      <td>City of Duarte</td>\n",
       "      <td>97.0</td>\n",
       "      <td>07 - Los Angeles</td>\n",
       "      <td>None</td>\n",
       "      <td>None</td>\n",
       "      <td>...</td>\n",
       "      <td>&lt;NA&gt;</td>\n",
       "      <td>NaN</td>\n",
       "      <td>&lt;NA&gt;</td>\n",
       "      <td>None</td>\n",
       "      <td>None</td>\n",
       "      <td>None</td>\n",
       "      <td>None</td>\n",
       "      <td>&lt;NA&gt;</td>\n",
       "      <td>&lt;NA&gt;</td>\n",
       "      <td>&lt;NA&gt;</td>\n",
       "    </tr>\n",
       "    <tr>\n",
       "      <th>112</th>\n",
       "      <td>f74424acf8c41e4c1e9fd42838c4875c</td>\n",
       "      <td>Foothill Schedule</td>\n",
       "      <td>recbmQcgs8FDwTzUx</td>\n",
       "      <td>aHR0cHM6Ly9mb290aGlsbHRyYW5zaXQucmlkZXJhbGVydH...</td>\n",
       "      <td>recSqgaa8QiQ8CRjl</td>\n",
       "      <td>Foothill Transit</td>\n",
       "      <td>112.0</td>\n",
       "      <td>07 - Los Angeles</td>\n",
       "      <td>Los Angeles</td>\n",
       "      <td>West Covina</td>\n",
       "      <td>...</td>\n",
       "      <td>327</td>\n",
       "      <td>12237376.0</td>\n",
       "      <td>1515836</td>\n",
       "      <td>None</td>\n",
       "      <td>None</td>\n",
       "      <td>Full Reporter</td>\n",
       "      <td>Public Agency or Authority of Transit Service</td>\n",
       "      <td>303</td>\n",
       "      <td>&lt;NA&gt;</td>\n",
       "      <td>2022</td>\n",
       "    </tr>\n",
       "  </tbody>\n",
       "</table>\n",
       "<p>2 rows × 31 columns</p>\n",
       "</div>"
      ],
      "text/plain": [
       "            schedule_gtfs_dataset_key               name  \\\n",
       "111  f74424acf8c41e4c1e9fd42838c4875c  Foothill Schedule   \n",
       "112  f74424acf8c41e4c1e9fd42838c4875c  Foothill Schedule   \n",
       "\n",
       "    schedule_source_record_id  \\\n",
       "111         recbmQcgs8FDwTzUx   \n",
       "112         recbmQcgs8FDwTzUx   \n",
       "\n",
       "                                            base64_url  \\\n",
       "111  aHR0cHM6Ly9mb290aGlsbHRyYW5zaXQucmlkZXJhbGVydH...   \n",
       "112  aHR0cHM6Ly9mb290aGlsbHRyYW5zaXQucmlkZXJhbGVydH...   \n",
       "\n",
       "    organization_source_record_id organization_name  itp_id caltrans_district  \\\n",
       "111             recZm8PD8WIdcDL0M    City of Duarte    97.0  07 - Los Angeles   \n",
       "112             recSqgaa8QiQ8CRjl  Foothill Transit   112.0  07 - Los Angeles   \n",
       "\n",
       "    counties_served      hq_city  ... service_area_sq_miles  population  \\\n",
       "111            None         None  ...                  <NA>         NaN   \n",
       "112     Los Angeles  West Covina  ...                   327  12237376.0   \n",
       "\n",
       "    service_area_pop subrecipient_type  primary_uza  reporter_type  \\\n",
       "111             <NA>              None         None           None   \n",
       "112          1515836              None         None  Full Reporter   \n",
       "\n",
       "                                 organization_type voms_pt  voms_do  year  \n",
       "111                                           None    <NA>     <NA>  <NA>  \n",
       "112  Public Agency or Authority of Transit Service     303     <NA>  2022  \n",
       "\n",
       "[2 rows x 31 columns]"
      ]
     },
     "execution_count": 4,
     "metadata": {},
     "output_type": "execute_result"
    }
   ],
   "source": [
    "df[df.name==\"Foothill Schedule\"]"
   ]
  },
  {
   "cell_type": "code",
   "execution_count": null,
   "id": "27fafec4-c0e7-4a7c-9b8b-923b8e695dc3",
   "metadata": {},
   "outputs": [],
   "source": [
    "multiple_orgs = (df.groupby(\"name\")\n",
    "                 .agg({\"organization_name\": \"nunique\"})\n",
    "                 .reset_index()\n",
    "                ).query('organization_name > 1')"
   ]
  },
  {
   "cell_type": "code",
   "execution_count": null,
   "id": "2b6716d4-0489-4c95-ac75-a3b177681c6e",
   "metadata": {},
   "outputs": [],
   "source": [
    "multiple_feeds = (df.groupby(\"organization_name\")\n",
    "                 .agg({\"schedule_gtfs_dataset_key\": \"nunique\"})\n",
    "                 .reset_index()\n",
    "                ).query('schedule_gtfs_dataset_key > 1')"
   ]
  },
  {
   "cell_type": "code",
   "execution_count": null,
   "id": "f89c6aa0-2923-4fa8-be3d-cb3473b5d1b2",
   "metadata": {},
   "outputs": [],
   "source": [
    "df[df.organization_name.isin(multiple_feeds.organization_name)][\n",
    "    [\"name\", \"organization_name\"]].sort_values(\"name\")"
   ]
  },
  {
   "cell_type": "code",
   "execution_count": null,
   "id": "9f007813-1a95-4f28-a2ef-6f6e4c394a80",
   "metadata": {},
   "outputs": [],
   "source": [
    "multiple_orgs"
   ]
  },
  {
   "cell_type": "code",
   "execution_count": null,
   "id": "bf45bf35-e9df-4798-b88f-d904958f43bc",
   "metadata": {},
   "outputs": [],
   "source": []
  }
 ],
 "metadata": {
  "kernelspec": {
   "display_name": "Python 3 (ipykernel)",
   "language": "python",
   "name": "python3"
  },
  "language_info": {
   "codemirror_mode": {
    "name": "ipython",
    "version": 3
   },
   "file_extension": ".py",
   "mimetype": "text/x-python",
   "name": "python",
   "nbconvert_exporter": "python",
   "pygments_lexer": "ipython3",
   "version": "3.9.13"
  }
 },
 "nbformat": 4,
 "nbformat_minor": 5
}
