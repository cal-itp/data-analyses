{
 "cells": [
  {
   "cell_type": "markdown",
   "id": "620c4498-8535-44b8-ad9e-41aa721696e5",
   "metadata": {
    "tags": []
   },
   "source": [
    "# Missing operator debug\n",
    "\n",
    "Quite a few GitHub issues have to do with missing operators.\n",
    "\n",
    "Go through initial downloaded schedule tables and scripts in `gtfs_funnel` to see whether it's missing the entire time or because of values that are needed in several merges."
   ]
  },
  {
   "cell_type": "code",
   "execution_count": 1,
   "id": "286ed9f0-6127-4e21-8272-e8b63069307e",
   "metadata": {
    "tags": []
   },
   "outputs": [],
   "source": [
    "import geopandas as gpd\n",
    "import pandas as pd\n",
    "\n",
    "from segment_speed_utils import (gtfs_schedule_wrangling, \n",
    "                                 helpers, \n",
    "                                 time_series_utils)\n",
    "from shared_utils import rt_dates\n",
    "from update_vars import (GTFS_DATA_DICT, \n",
    "                         SEGMENT_GCS, \n",
    "                         RT_SCHED_GCS, \n",
    "                         SCHED_GCS, \n",
    "                         COMPILED_CACHED_VIEWS\n",
    "                        )\n",
    "\n",
    "'''\n",
    "import sys\n",
    "sys.path.append(\"../gtfs_digest/\")\n",
    "import merge_data\n",
    "\n",
    "route_time_cols = merge_data.route_time_cols\n",
    "'''\n",
    "\n",
    "analysis_date_list = rt_dates.y2025_dates + rt_dates.y2024_dates"
   ]
  },
  {
   "cell_type": "code",
   "execution_count": 3,
   "id": "e6fc8509-2add-4145-ab49-868daed69c6a",
   "metadata": {
    "tags": []
   },
   "outputs": [],
   "source": [
    "def check_dates_available(df):\n",
    "    print(df.service_date.value_counts())\n",
    "    return\n",
    "\n",
    "def feed_keys_in_downloaded_schedule_tables(\n",
    "    date_list: list,\n",
    "    gcs_bucket: str = COMPILED_CACHED_VIEWS,\n",
    "    file: str = \"\",\n",
    "    subset_feeds: list = []\n",
    "):\n",
    "    df = time_series_utils.concatenate_datasets_across_dates(\n",
    "        gcs_bucket,\n",
    "        file,\n",
    "        date_list,\n",
    "        data_type = \"df\",\n",
    "        get_pandas=True,\n",
    "        filters = [[(\"feed_key\", \"in\", subset_feeds)]],\n",
    "        columns = [\"feed_key\"],\n",
    "    )\n",
    "    \n",
    "    df.pipe(check_dates_available)\n",
    "    \n",
    "    return"
   ]
  },
  {
   "cell_type": "markdown",
   "id": "5402244c-1fb5-4e20-a287-ee6959d54b0a",
   "metadata": {
    "tags": []
   },
   "source": [
    "## Montebello\n",
    "\n",
    "* `gtfs_funnel`: present in `published_operators.yml`\n",
    "* schedule downloads: all feed_keys and stuff are present\n",
    "* route typlogies: present as gtfs_dataset_key\n",
    "\n",
    "it's gone after, and it's because direction_id is NaN in trips, which means we DO NOT want to fill it in."
   ]
  },
  {
   "cell_type": "code",
   "execution_count": 14,
   "id": "08462ff0-16d1-49bb-95e1-7f0a892be24c",
   "metadata": {
    "tags": []
   },
   "outputs": [],
   "source": [
    "def check_downloaded_schedule_tables(\n",
    "    date_list: list,\n",
    "    one_operator_key: str\n",
    "): \n",
    "\n",
    "    TRIPS_FILE = GTFS_DATA_DICT.schedule_downloads.trips\n",
    "    SHAPES_FILE = GTFS_DATA_DICT.schedule_downloads.shapes\n",
    "    STOPS_FILE = GTFS_DATA_DICT.schedule_downloads.stops\n",
    "    STOP_TIMES_FILE = GTFS_DATA_DICT.schedule_downloads.stop_times\n",
    "\n",
    "    trips = time_series_utils.concatenate_datasets_across_dates(\n",
    "        COMPILED_CACHED_VIEWS,\n",
    "        TRIPS_FILE,\n",
    "        date_list,\n",
    "        data_type = \"df\",\n",
    "        get_pandas=True,\n",
    "        filters = [[(\"gtfs_dataset_key\", \"==\", one_operator_key)]],\n",
    "        columns = [\"name\", \"gtfs_dataset_key\", \"feed_key\", \"route_id\", \"direction_id\"],\n",
    "    )  \n",
    "    \n",
    "    subset_feeds = trips.feed_key.unique().tolist()\n",
    "    print(f\"feed keys for {one_operator_key}: {subset_feeds}\")\n",
    "    \n",
    "    print(\"trips\")\n",
    "    trips.pipe(check_dates_available)\n",
    "    \n",
    "    \n",
    "    display(trips[[\"route_id\", \"direction_id\"]].drop_duplicates().head())\n",
    "    display(trips.direction_id.value_counts(dropna=False))\n",
    "    \n",
    "    print(\"shapes\")\n",
    "    feed_keys_in_downloaded_schedule_tables(\n",
    "        date_list, \n",
    "        file = SHAPES_FILE,\n",
    "        subset_feeds = subset_feeds\n",
    "    )\n",
    "    \n",
    "    \n",
    "    print(\"stops\")\n",
    "    feed_keys_in_downloaded_schedule_tables(\n",
    "        date_list, \n",
    "        file = STOPS_FILE,\n",
    "        subset_feeds = subset_feeds\n",
    "    )\n",
    "    \n",
    "    \n",
    "    print(\"stop_times\")\n",
    "    feed_keys_in_downloaded_schedule_tables(\n",
    "        date_list, \n",
    "        file = STOP_TIMES_FILE,\n",
    "        subset_feeds = subset_feeds\n",
    "    )\n",
    "    \n",
    "    return \n",
    "    \n",
    "    "
   ]
  },
  {
   "cell_type": "code",
   "execution_count": 15,
   "id": "1c7de263-e358-4914-8617-3096926efd7b",
   "metadata": {
    "tags": []
   },
   "outputs": [
    {
     "data": {
      "text/plain": [
       "array(['84d3c3507a4c8df851d935b63908bbd5'], dtype=object)"
      ]
     },
     "execution_count": 15,
     "metadata": {},
     "output_type": "execute_result"
    }
   ],
   "source": [
    "TRIPS_FILE = GTFS_DATA_DICT.schedule_downloads.trips\n",
    "\n",
    "df = time_series_utils.concatenate_datasets_across_dates(\n",
    "    COMPILED_CACHED_VIEWS,\n",
    "    TRIPS_FILE,\n",
    "    analysis_date_list,\n",
    "    data_type = \"df\",\n",
    "    get_pandas=True,\n",
    "    filters = [[(\"name\", \"==\", \"Montebello Schedule\")]],\n",
    "    columns = [\"name\", \"gtfs_dataset_key\"],\n",
    ")\n",
    "\n",
    "df.gtfs_dataset_key.unique()"
   ]
  },
  {
   "cell_type": "code",
   "execution_count": 16,
   "id": "84a02dba-b6d6-4fc4-9120-45e62e0850f9",
   "metadata": {
    "tags": []
   },
   "outputs": [],
   "source": [
    "montebello_key = df.gtfs_dataset_key.iloc[0] # \"84d3c3507a4c8df851d935b63908bbd5\""
   ]
  },
  {
   "cell_type": "code",
   "execution_count": 17,
   "id": "c3406132-ff95-48d1-b0db-fd78b9340d68",
   "metadata": {
    "tags": []
   },
   "outputs": [
    {
     "name": "stdout",
     "output_type": "stream",
     "text": [
      "feed keys for 84d3c3507a4c8df851d935b63908bbd5: ['ff9e070d7a3789e930373a27fb3f98b4', 'c661339d3e18aea9cd1772c3d3f6b26e', '224bf24f6aa76263b3fc0da4bb7d8742', 'f2cbb9a2791d058588af2e6b577414f0', '5c226e42216e550ad4c0a68a5dd2d5a0']\n",
      "trips\n",
      "2025-01-15    8\n",
      "2025-02-12    8\n",
      "2024-01-17    8\n",
      "2024-02-14    8\n",
      "2024-03-13    8\n",
      "2024-04-17    8\n",
      "2024-05-22    8\n",
      "2024-06-12    8\n",
      "2024-07-17    8\n",
      "2024-08-14    8\n",
      "2024-09-18    8\n",
      "2024-10-16    8\n",
      "2024-11-13    8\n",
      "2024-12-11    8\n",
      "Name: service_date, dtype: int64\n"
     ]
    },
    {
     "data": {
      "text/html": [
       "<div>\n",
       "<style scoped>\n",
       "    .dataframe tbody tr th:only-of-type {\n",
       "        vertical-align: middle;\n",
       "    }\n",
       "\n",
       "    .dataframe tbody tr th {\n",
       "        vertical-align: top;\n",
       "    }\n",
       "\n",
       "    .dataframe thead th {\n",
       "        text-align: right;\n",
       "    }\n",
       "</style>\n",
       "<table border=\"1\" class=\"dataframe\">\n",
       "  <thead>\n",
       "    <tr style=\"text-align: right;\">\n",
       "      <th></th>\n",
       "      <th>route_id</th>\n",
       "      <th>direction_id</th>\n",
       "    </tr>\n",
       "  </thead>\n",
       "  <tbody>\n",
       "    <tr>\n",
       "      <th>0</th>\n",
       "      <td>50</td>\n",
       "      <td>NaN</td>\n",
       "    </tr>\n",
       "    <tr>\n",
       "      <th>23</th>\n",
       "      <td>40</td>\n",
       "      <td>NaN</td>\n",
       "    </tr>\n",
       "    <tr>\n",
       "      <th>65</th>\n",
       "      <td>30</td>\n",
       "      <td>NaN</td>\n",
       "    </tr>\n",
       "    <tr>\n",
       "      <th>82</th>\n",
       "      <td>10</td>\n",
       "      <td>NaN</td>\n",
       "    </tr>\n",
       "    <tr>\n",
       "      <th>110</th>\n",
       "      <td>20</td>\n",
       "      <td>NaN</td>\n",
       "    </tr>\n",
       "  </tbody>\n",
       "</table>\n",
       "</div>"
      ],
      "text/plain": [
       "    route_id  direction_id\n",
       "0         50           NaN\n",
       "23        40           NaN\n",
       "65        30           NaN\n",
       "82        10           NaN\n",
       "110       20           NaN"
      ]
     },
     "metadata": {},
     "output_type": "display_data"
    },
    {
     "data": {
      "text/plain": [
       "NaN    112\n",
       "Name: direction_id, dtype: int64"
      ]
     },
     "metadata": {},
     "output_type": "display_data"
    },
    {
     "name": "stdout",
     "output_type": "stream",
     "text": [
      "shapes\n",
      "2025-01-15    1\n",
      "2025-02-12    1\n",
      "2024-01-17    1\n",
      "2024-02-14    1\n",
      "2024-03-13    1\n",
      "2024-04-17    1\n",
      "2024-05-22    1\n",
      "2024-06-12    1\n",
      "2024-07-17    1\n",
      "2024-08-14    1\n",
      "2024-09-18    1\n",
      "2024-10-16    1\n",
      "2024-11-13    1\n",
      "2024-12-11    1\n",
      "Name: service_date, dtype: int64\n",
      "stops\n",
      "2025-01-15    1\n",
      "2025-02-12    1\n",
      "2024-01-17    1\n",
      "2024-02-14    1\n",
      "2024-03-13    1\n",
      "2024-04-17    1\n",
      "2024-05-22    1\n",
      "2024-06-12    1\n",
      "2024-07-17    1\n",
      "2024-08-14    1\n",
      "2024-09-18    1\n",
      "2024-10-16    1\n",
      "2024-11-13    1\n",
      "2024-12-11    1\n",
      "Name: service_date, dtype: int64\n",
      "stop_times\n",
      "2025-01-15    1\n",
      "2025-02-12    1\n",
      "2024-01-17    1\n",
      "2024-02-14    1\n",
      "2024-03-13    1\n",
      "2024-04-17    1\n",
      "2024-05-22    1\n",
      "2024-06-12    1\n",
      "2024-07-17    1\n",
      "2024-08-14    1\n",
      "2024-09-18    1\n",
      "2024-10-16    1\n",
      "2024-11-13    1\n",
      "2024-12-11    1\n",
      "Name: service_date, dtype: int64\n"
     ]
    }
   ],
   "source": [
    "check_downloaded_schedule_tables(analysis_date_list, montebello_key)"
   ]
  },
  {
   "cell_type": "code",
   "execution_count": 18,
   "id": "7142b606-7e3b-4987-b457-612bed1d2717",
   "metadata": {
    "tags": []
   },
   "outputs": [],
   "source": [
    "def check_route_typologies(\n",
    "    date_list: list,\n",
    "    one_operator_key: str\n",
    "): \n",
    "    \n",
    "    FILE = GTFS_DATA_DICT.schedule_tables.route_typologies\n",
    "\n",
    "    df = time_series_utils.concatenate_datasets_across_dates(\n",
    "        SCHED_GCS,\n",
    "        FILE,\n",
    "        date_list,\n",
    "        data_type = \"df\",\n",
    "        get_pandas=True,\n",
    "        filters = [[(\"schedule_gtfs_dataset_key\", \"==\", one_operator_key)]],\n",
    "        columns = [\"schedule_gtfs_dataset_key\",\"route_id\", \"direction_id\"],\n",
    "    )  \n",
    "    \n",
    "    print(\"route typologies\")\n",
    "    \n",
    "    df.pipe(check_dates_available)\n",
    "    \n",
    "    display(df[[\"route_id\", \"direction_id\"]].drop_duplicates().head())\n",
    "    display(df.direction_id.value_counts(dropna=False))\n",
    "    \n",
    "    return "
   ]
  },
  {
   "cell_type": "code",
   "execution_count": 19,
   "id": "2d81296d-7e8a-48b4-b3bb-6f2bc106733b",
   "metadata": {
    "tags": []
   },
   "outputs": [
    {
     "name": "stdout",
     "output_type": "stream",
     "text": [
      "route typologies\n",
      "2025-01-15    8\n",
      "2025-02-12    8\n",
      "2024-01-17    8\n",
      "2024-02-14    8\n",
      "2024-03-13    8\n",
      "2024-04-17    8\n",
      "2024-05-22    8\n",
      "2024-06-12    8\n",
      "2024-07-17    8\n",
      "2024-08-14    8\n",
      "2024-09-18    8\n",
      "2024-10-16    8\n",
      "2024-11-13    8\n",
      "2024-12-11    8\n",
      "Name: service_date, dtype: int64\n"
     ]
    },
    {
     "data": {
      "text/html": [
       "<div>\n",
       "<style scoped>\n",
       "    .dataframe tbody tr th:only-of-type {\n",
       "        vertical-align: middle;\n",
       "    }\n",
       "\n",
       "    .dataframe tbody tr th {\n",
       "        vertical-align: top;\n",
       "    }\n",
       "\n",
       "    .dataframe thead th {\n",
       "        text-align: right;\n",
       "    }\n",
       "</style>\n",
       "<table border=\"1\" class=\"dataframe\">\n",
       "  <thead>\n",
       "    <tr style=\"text-align: right;\">\n",
       "      <th></th>\n",
       "      <th>route_id</th>\n",
       "      <th>direction_id</th>\n",
       "    </tr>\n",
       "  </thead>\n",
       "  <tbody>\n",
       "    <tr>\n",
       "      <th>0</th>\n",
       "      <td>10</td>\n",
       "      <td>0.0</td>\n",
       "    </tr>\n",
       "    <tr>\n",
       "      <th>1</th>\n",
       "      <td>20</td>\n",
       "      <td>0.0</td>\n",
       "    </tr>\n",
       "    <tr>\n",
       "      <th>2</th>\n",
       "      <td>30</td>\n",
       "      <td>0.0</td>\n",
       "    </tr>\n",
       "    <tr>\n",
       "      <th>3</th>\n",
       "      <td>40</td>\n",
       "      <td>0.0</td>\n",
       "    </tr>\n",
       "    <tr>\n",
       "      <th>4</th>\n",
       "      <td>50</td>\n",
       "      <td>0.0</td>\n",
       "    </tr>\n",
       "  </tbody>\n",
       "</table>\n",
       "</div>"
      ],
      "text/plain": [
       "  route_id  direction_id\n",
       "0       10           0.0\n",
       "1       20           0.0\n",
       "2       30           0.0\n",
       "3       40           0.0\n",
       "4       50           0.0"
      ]
     },
     "metadata": {},
     "output_type": "display_data"
    },
    {
     "data": {
      "text/plain": [
       "0.0    112\n",
       "Name: direction_id, dtype: int64"
      ]
     },
     "metadata": {},
     "output_type": "display_data"
    }
   ],
   "source": [
    "check_route_typologies(analysis_date_list, montebello_key)"
   ]
  },
  {
   "cell_type": "code",
   "execution_count": null,
   "id": "0659763c-b69a-432e-ab7c-c12ae790fa2e",
   "metadata": {},
   "outputs": [],
   "source": []
  },
  {
   "cell_type": "code",
   "execution_count": null,
   "id": "0fe73962-7824-41c4-9caa-2161a0a46345",
   "metadata": {},
   "outputs": [],
   "source": []
  }
 ],
 "metadata": {
  "kernelspec": {
   "display_name": "Python 3 (ipykernel)",
   "language": "python",
   "name": "python3"
  },
  "language_info": {
   "codemirror_mode": {
    "name": "ipython",
    "version": 3
   },
   "file_extension": ".py",
   "mimetype": "text/x-python",
   "name": "python",
   "nbconvert_exporter": "python",
   "pygments_lexer": "ipython3",
   "version": "3.11.10"
  }
 },
 "nbformat": 4,
 "nbformat_minor": 5
}
