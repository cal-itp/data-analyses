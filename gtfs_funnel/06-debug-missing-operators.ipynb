{
 "cells": [
  {
   "cell_type": "markdown",
   "id": "620c4498-8535-44b8-ad9e-41aa721696e5",
   "metadata": {
    "tags": []
   },
   "source": [
    "# Missing operator debug\n",
    "\n",
    "Quite a few GitHub issues have to do with missing operators.\n",
    "\n",
    "Go through initial downloaded schedule tables and scripts in `gtfs_funnel` to see whether it's missing the entire time or because of values that are needed in several merges."
   ]
  },
  {
   "cell_type": "code",
   "execution_count": 1,
   "id": "286ed9f0-6127-4e21-8272-e8b63069307e",
   "metadata": {
    "tags": []
   },
   "outputs": [],
   "source": [
    "import geopandas as gpd\n",
    "import pandas as pd\n",
    "\n",
    "from segment_speed_utils import (gtfs_schedule_wrangling, \n",
    "                                 helpers, \n",
    "                                 time_series_utils)\n",
    "from shared_utils import rt_dates\n",
    "from update_vars import (GTFS_DATA_DICT, \n",
    "                         SEGMENT_GCS, \n",
    "                         RT_SCHED_GCS, \n",
    "                         SCHED_GCS, \n",
    "                         COMPILED_CACHED_VIEWS\n",
    "                        )\n",
    "\n",
    "'''\n",
    "import sys\n",
    "sys.path.append(\"../gtfs_digest/\")\n",
    "import merge_data\n",
    "\n",
    "route_time_cols = merge_data.route_time_cols\n",
    "'''\n",
    "\n",
    "analysis_date_list = rt_dates.y2025_dates + rt_dates.y2024_dates"
   ]
  },
  {
   "cell_type": "code",
   "execution_count": 2,
   "id": "e6fc8509-2add-4145-ab49-868daed69c6a",
   "metadata": {
    "tags": []
   },
   "outputs": [],
   "source": [
    "def check_dates_available(df):\n",
    "    print(df.service_date.value_counts())\n",
    "    return\n",
    "\n",
    "def feed_keys_in_downloaded_schedule_tables(\n",
    "    date_list: list,\n",
    "    gcs_bucket: str = COMPILED_CACHED_VIEWS,\n",
    "    file: str = \"\",\n",
    "    subset_feeds: list = []\n",
    "):\n",
    "    df = time_series_utils.concatenate_datasets_across_dates(\n",
    "        gcs_bucket,\n",
    "        file,\n",
    "        date_list,\n",
    "        data_type = \"df\",\n",
    "        get_pandas=True,\n",
    "        filters = [[(\"feed_key\", \"in\", subset_feeds)]],\n",
    "        columns = [\"feed_key\"],\n",
    "    )\n",
    "    \n",
    "    df.pipe(check_dates_available)\n",
    "    \n",
    "    return"
   ]
  },
  {
   "cell_type": "code",
   "execution_count": 3,
   "id": "699b8bfd-3c78-4249-830d-0dc80f306cad",
   "metadata": {
    "tags": []
   },
   "outputs": [],
   "source": [
    "def get_operator_key(operator_name: str) -> str: \n",
    "    TRIPS_FILE = GTFS_DATA_DICT.schedule_downloads.trips\n",
    "\n",
    "    operator_key = time_series_utils.concatenate_datasets_across_dates(\n",
    "        COMPILED_CACHED_VIEWS,\n",
    "        TRIPS_FILE,\n",
    "        analysis_date_list,\n",
    "        data_type = \"df\",\n",
    "        get_pandas=True,\n",
    "        filters = [[(\"name\", \"==\", operator_name)]],\n",
    "        columns = [\"gtfs_dataset_key\"],\n",
    "    ).gtfs_dataset_key.iloc[0]\n",
    "    \n",
    "    return operator_key"
   ]
  },
  {
   "cell_type": "code",
   "execution_count": 4,
   "id": "e5b2bf41-678b-458d-aa3d-a599698bafa6",
   "metadata": {},
   "outputs": [],
   "source": [
    "def check_downloaded_schedule_tables(\n",
    "    date_list: list,\n",
    "    one_operator_key: str\n",
    "): \n",
    "\n",
    "    TRIPS_FILE = GTFS_DATA_DICT.schedule_downloads.trips\n",
    "    SHAPES_FILE = GTFS_DATA_DICT.schedule_downloads.shapes\n",
    "    STOPS_FILE = GTFS_DATA_DICT.schedule_downloads.stops\n",
    "    STOP_TIMES_FILE = GTFS_DATA_DICT.schedule_downloads.stop_times\n",
    "\n",
    "    trips = time_series_utils.concatenate_datasets_across_dates(\n",
    "        COMPILED_CACHED_VIEWS,\n",
    "        TRIPS_FILE,\n",
    "        date_list,\n",
    "        data_type = \"df\",\n",
    "        get_pandas=True,\n",
    "        filters = [[(\"gtfs_dataset_key\", \"==\", one_operator_key)]],\n",
    "        columns = [\"name\", \"gtfs_dataset_key\", \"feed_key\", \"route_id\", \"direction_id\"],\n",
    "    )  \n",
    "    \n",
    "    subset_feeds = trips.feed_key.unique().tolist()\n",
    "    print(f\"feed keys for {one_operator_key}: {subset_feeds}\")\n",
    "    \n",
    "    print(\"trips\")\n",
    "    trips.pipe(check_dates_available)\n",
    "    \n",
    "    \n",
    "    display(trips[[\"route_id\", \"direction_id\"]].drop_duplicates().head())\n",
    "    display(trips.direction_id.value_counts(dropna=False))\n",
    "    \n",
    "    print(\"shapes\")\n",
    "    feed_keys_in_downloaded_schedule_tables(\n",
    "        date_list, \n",
    "        file = SHAPES_FILE,\n",
    "        subset_feeds = subset_feeds\n",
    "    )\n",
    "    \n",
    "    \n",
    "    print(\"stops\")\n",
    "    feed_keys_in_downloaded_schedule_tables(\n",
    "        date_list, \n",
    "        file = STOPS_FILE,\n",
    "        subset_feeds = subset_feeds\n",
    "    )\n",
    "    \n",
    "    \n",
    "    print(\"stop_times\")\n",
    "    feed_keys_in_downloaded_schedule_tables(\n",
    "        date_list, \n",
    "        file = STOP_TIMES_FILE,\n",
    "        subset_feeds = subset_feeds\n",
    "    )\n",
    "    \n",
    "    return "
   ]
  },
  {
   "cell_type": "code",
   "execution_count": 5,
   "id": "f82b6b84-b9e6-4d1a-bc5d-724464425fd1",
   "metadata": {},
   "outputs": [],
   "source": [
    "def check_route_typologies(\n",
    "    date_list: list,\n",
    "    one_operator_key: str\n",
    "): \n",
    "    \n",
    "    FILE = GTFS_DATA_DICT.schedule_tables.route_typologies\n",
    "\n",
    "    df = time_series_utils.concatenate_datasets_across_dates(\n",
    "        SCHED_GCS,\n",
    "        FILE,\n",
    "        date_list,\n",
    "        data_type = \"df\",\n",
    "        get_pandas=True,\n",
    "        filters = [[(\"schedule_gtfs_dataset_key\", \"==\", one_operator_key)]],\n",
    "        columns = [\"schedule_gtfs_dataset_key\",\"route_id\", \"direction_id\"],\n",
    "    )  \n",
    "    \n",
    "    print(\"route typologies\")\n",
    "    \n",
    "    df.pipe(check_dates_available)\n",
    "    \n",
    "    display(df[[\"route_id\", \"direction_id\"]].drop_duplicates().head())\n",
    "    display(df.direction_id.value_counts(dropna=False))\n",
    "    \n",
    "    return "
   ]
  },
  {
   "cell_type": "code",
   "execution_count": 6,
   "id": "ba8b3186-8e95-4539-96ab-940e914b2d13",
   "metadata": {
    "tags": []
   },
   "outputs": [],
   "source": [
    "def check_monthly_service_download(\n",
    "    one_operator_key: str\n",
    "):\n",
    "    FILE = GTFS_DATA_DICT.schedule_tables.monthly_scheduled_service\n",
    "    \n",
    "    df = pd.read_parquet(\n",
    "        f\"{SCHED_GCS}{FILE}.parquet\",\n",
    "        filters = [[(\"schedule_gtfs_dataset_key\", \"==\", one_operator_key)]],\n",
    "        columns = [\"schedule_gtfs_dataset_key\", \"month\", \"year\"]\n",
    "    ).sort_values(\n",
    "        [\"year\", \"month\"], \n",
    "        ascending=[False, True]\n",
    "    ).drop_duplicates().reset_index(drop=True)\n",
    "    \n",
    "    display(df.head())\n",
    "    \n",
    "    return \n",
    "    "
   ]
  },
  {
   "cell_type": "markdown",
   "id": "5402244c-1fb5-4e20-a287-ee6959d54b0a",
   "metadata": {
    "tags": []
   },
   "source": [
    "## Montebello\n",
    "\n",
    "* `gtfs_funnel`: present in `published_operators.yml`\n",
    "* schedule downloads: all feed_keys and stuff are present\n",
    "* route typlogies: present as gtfs_dataset_key\n",
    "\n",
    "it's gone after, and it's because direction_id is NaN in trips, which means we DO NOT want to fill it in."
   ]
  },
  {
   "cell_type": "code",
   "execution_count": 7,
   "id": "1c7de263-e358-4914-8617-3096926efd7b",
   "metadata": {
    "tags": []
   },
   "outputs": [
    {
     "data": {
      "text/plain": [
       "'84d3c3507a4c8df851d935b63908bbd5'"
      ]
     },
     "execution_count": 7,
     "metadata": {},
     "output_type": "execute_result"
    }
   ],
   "source": [
    "montebello_key = get_operator_key(\"Montebello Schedule\") \n",
    "#\"84d3c3507a4c8df851d935b63908bbd5\"\n",
    "montebello_key"
   ]
  },
  {
   "cell_type": "code",
   "execution_count": 8,
   "id": "c3406132-ff95-48d1-b0db-fd78b9340d68",
   "metadata": {
    "tags": []
   },
   "outputs": [
    {
     "name": "stdout",
     "output_type": "stream",
     "text": [
      "feed keys for 84d3c3507a4c8df851d935b63908bbd5: ['ff9e070d7a3789e930373a27fb3f98b4', 'c661339d3e18aea9cd1772c3d3f6b26e', '224bf24f6aa76263b3fc0da4bb7d8742', 'f2cbb9a2791d058588af2e6b577414f0', '5c226e42216e550ad4c0a68a5dd2d5a0']\n",
      "trips\n",
      "2025-01-15    8\n",
      "2025-02-12    8\n",
      "2024-01-17    8\n",
      "2024-02-14    8\n",
      "2024-03-13    8\n",
      "2024-04-17    8\n",
      "2024-05-22    8\n",
      "2024-06-12    8\n",
      "2024-07-17    8\n",
      "2024-08-14    8\n",
      "2024-09-18    8\n",
      "2024-10-16    8\n",
      "2024-11-13    8\n",
      "2024-12-11    8\n",
      "Name: service_date, dtype: int64\n"
     ]
    },
    {
     "data": {
      "text/html": [
       "<div>\n",
       "<style scoped>\n",
       "    .dataframe tbody tr th:only-of-type {\n",
       "        vertical-align: middle;\n",
       "    }\n",
       "\n",
       "    .dataframe tbody tr th {\n",
       "        vertical-align: top;\n",
       "    }\n",
       "\n",
       "    .dataframe thead th {\n",
       "        text-align: right;\n",
       "    }\n",
       "</style>\n",
       "<table border=\"1\" class=\"dataframe\">\n",
       "  <thead>\n",
       "    <tr style=\"text-align: right;\">\n",
       "      <th></th>\n",
       "      <th>route_id</th>\n",
       "      <th>direction_id</th>\n",
       "    </tr>\n",
       "  </thead>\n",
       "  <tbody>\n",
       "    <tr>\n",
       "      <th>0</th>\n",
       "      <td>50</td>\n",
       "      <td>NaN</td>\n",
       "    </tr>\n",
       "    <tr>\n",
       "      <th>23</th>\n",
       "      <td>40</td>\n",
       "      <td>NaN</td>\n",
       "    </tr>\n",
       "    <tr>\n",
       "      <th>65</th>\n",
       "      <td>30</td>\n",
       "      <td>NaN</td>\n",
       "    </tr>\n",
       "    <tr>\n",
       "      <th>82</th>\n",
       "      <td>10</td>\n",
       "      <td>NaN</td>\n",
       "    </tr>\n",
       "    <tr>\n",
       "      <th>110</th>\n",
       "      <td>20</td>\n",
       "      <td>NaN</td>\n",
       "    </tr>\n",
       "  </tbody>\n",
       "</table>\n",
       "</div>"
      ],
      "text/plain": [
       "    route_id  direction_id\n",
       "0         50           NaN\n",
       "23        40           NaN\n",
       "65        30           NaN\n",
       "82        10           NaN\n",
       "110       20           NaN"
      ]
     },
     "metadata": {},
     "output_type": "display_data"
    },
    {
     "data": {
      "text/plain": [
       "NaN    112\n",
       "Name: direction_id, dtype: int64"
      ]
     },
     "metadata": {},
     "output_type": "display_data"
    },
    {
     "name": "stdout",
     "output_type": "stream",
     "text": [
      "shapes\n",
      "2025-01-15    1\n",
      "2025-02-12    1\n",
      "2024-01-17    1\n",
      "2024-02-14    1\n",
      "2024-03-13    1\n",
      "2024-04-17    1\n",
      "2024-05-22    1\n",
      "2024-06-12    1\n",
      "2024-07-17    1\n",
      "2024-08-14    1\n",
      "2024-09-18    1\n",
      "2024-10-16    1\n",
      "2024-11-13    1\n",
      "2024-12-11    1\n",
      "Name: service_date, dtype: int64\n",
      "stops\n",
      "2025-01-15    1\n",
      "2025-02-12    1\n",
      "2024-01-17    1\n",
      "2024-02-14    1\n",
      "2024-03-13    1\n",
      "2024-04-17    1\n",
      "2024-05-22    1\n",
      "2024-06-12    1\n",
      "2024-07-17    1\n",
      "2024-08-14    1\n",
      "2024-09-18    1\n",
      "2024-10-16    1\n",
      "2024-11-13    1\n",
      "2024-12-11    1\n",
      "Name: service_date, dtype: int64\n",
      "stop_times\n",
      "2025-01-15    1\n",
      "2025-02-12    1\n",
      "2024-01-17    1\n",
      "2024-02-14    1\n",
      "2024-03-13    1\n",
      "2024-04-17    1\n",
      "2024-05-22    1\n",
      "2024-06-12    1\n",
      "2024-07-17    1\n",
      "2024-08-14    1\n",
      "2024-09-18    1\n",
      "2024-10-16    1\n",
      "2024-11-13    1\n",
      "2024-12-11    1\n",
      "Name: service_date, dtype: int64\n"
     ]
    }
   ],
   "source": [
    "check_downloaded_schedule_tables(\n",
    "    analysis_date_list, \n",
    "    montebello_key\n",
    ")"
   ]
  },
  {
   "cell_type": "code",
   "execution_count": 9,
   "id": "2d81296d-7e8a-48b4-b3bb-6f2bc106733b",
   "metadata": {
    "tags": []
   },
   "outputs": [
    {
     "name": "stdout",
     "output_type": "stream",
     "text": [
      "route typologies\n",
      "2025-01-15    8\n",
      "2025-02-12    8\n",
      "2024-01-17    8\n",
      "2024-02-14    8\n",
      "2024-03-13    8\n",
      "2024-04-17    8\n",
      "2024-05-22    8\n",
      "2024-06-12    8\n",
      "2024-07-17    8\n",
      "2024-08-14    8\n",
      "2024-09-18    8\n",
      "2024-10-16    8\n",
      "2024-11-13    8\n",
      "2024-12-11    8\n",
      "Name: service_date, dtype: int64\n"
     ]
    },
    {
     "data": {
      "text/html": [
       "<div>\n",
       "<style scoped>\n",
       "    .dataframe tbody tr th:only-of-type {\n",
       "        vertical-align: middle;\n",
       "    }\n",
       "\n",
       "    .dataframe tbody tr th {\n",
       "        vertical-align: top;\n",
       "    }\n",
       "\n",
       "    .dataframe thead th {\n",
       "        text-align: right;\n",
       "    }\n",
       "</style>\n",
       "<table border=\"1\" class=\"dataframe\">\n",
       "  <thead>\n",
       "    <tr style=\"text-align: right;\">\n",
       "      <th></th>\n",
       "      <th>route_id</th>\n",
       "      <th>direction_id</th>\n",
       "    </tr>\n",
       "  </thead>\n",
       "  <tbody>\n",
       "    <tr>\n",
       "      <th>0</th>\n",
       "      <td>10</td>\n",
       "      <td>0.0</td>\n",
       "    </tr>\n",
       "    <tr>\n",
       "      <th>1</th>\n",
       "      <td>20</td>\n",
       "      <td>0.0</td>\n",
       "    </tr>\n",
       "    <tr>\n",
       "      <th>2</th>\n",
       "      <td>30</td>\n",
       "      <td>0.0</td>\n",
       "    </tr>\n",
       "    <tr>\n",
       "      <th>3</th>\n",
       "      <td>40</td>\n",
       "      <td>0.0</td>\n",
       "    </tr>\n",
       "    <tr>\n",
       "      <th>4</th>\n",
       "      <td>50</td>\n",
       "      <td>0.0</td>\n",
       "    </tr>\n",
       "  </tbody>\n",
       "</table>\n",
       "</div>"
      ],
      "text/plain": [
       "  route_id  direction_id\n",
       "0       10           0.0\n",
       "1       20           0.0\n",
       "2       30           0.0\n",
       "3       40           0.0\n",
       "4       50           0.0"
      ]
     },
     "metadata": {},
     "output_type": "display_data"
    },
    {
     "data": {
      "text/plain": [
       "0.0    112\n",
       "Name: direction_id, dtype: int64"
      ]
     },
     "metadata": {},
     "output_type": "display_data"
    }
   ],
   "source": [
    "check_route_typologies(analysis_date_list, montebello_key)"
   ]
  },
  {
   "cell_type": "code",
   "execution_count": 10,
   "id": "e7ce117d-29c5-4d33-9912-0763b242f412",
   "metadata": {
    "tags": []
   },
   "outputs": [
    {
     "data": {
      "text/html": [
       "<div>\n",
       "<style scoped>\n",
       "    .dataframe tbody tr th:only-of-type {\n",
       "        vertical-align: middle;\n",
       "    }\n",
       "\n",
       "    .dataframe tbody tr th {\n",
       "        vertical-align: top;\n",
       "    }\n",
       "\n",
       "    .dataframe thead th {\n",
       "        text-align: right;\n",
       "    }\n",
       "</style>\n",
       "<table border=\"1\" class=\"dataframe\">\n",
       "  <thead>\n",
       "    <tr style=\"text-align: right;\">\n",
       "      <th></th>\n",
       "      <th>schedule_gtfs_dataset_key</th>\n",
       "      <th>month</th>\n",
       "      <th>year</th>\n",
       "    </tr>\n",
       "  </thead>\n",
       "  <tbody>\n",
       "    <tr>\n",
       "      <th>0</th>\n",
       "      <td>84d3c3507a4c8df851d935b63908bbd5</td>\n",
       "      <td>1</td>\n",
       "      <td>2025</td>\n",
       "    </tr>\n",
       "    <tr>\n",
       "      <th>1</th>\n",
       "      <td>84d3c3507a4c8df851d935b63908bbd5</td>\n",
       "      <td>2</td>\n",
       "      <td>2025</td>\n",
       "    </tr>\n",
       "    <tr>\n",
       "      <th>2</th>\n",
       "      <td>84d3c3507a4c8df851d935b63908bbd5</td>\n",
       "      <td>1</td>\n",
       "      <td>2024</td>\n",
       "    </tr>\n",
       "    <tr>\n",
       "      <th>3</th>\n",
       "      <td>84d3c3507a4c8df851d935b63908bbd5</td>\n",
       "      <td>2</td>\n",
       "      <td>2024</td>\n",
       "    </tr>\n",
       "    <tr>\n",
       "      <th>4</th>\n",
       "      <td>84d3c3507a4c8df851d935b63908bbd5</td>\n",
       "      <td>3</td>\n",
       "      <td>2024</td>\n",
       "    </tr>\n",
       "  </tbody>\n",
       "</table>\n",
       "</div>"
      ],
      "text/plain": [
       "          schedule_gtfs_dataset_key  month  year\n",
       "0  84d3c3507a4c8df851d935b63908bbd5      1  2025\n",
       "1  84d3c3507a4c8df851d935b63908bbd5      2  2025\n",
       "2  84d3c3507a4c8df851d935b63908bbd5      1  2024\n",
       "3  84d3c3507a4c8df851d935b63908bbd5      2  2024\n",
       "4  84d3c3507a4c8df851d935b63908bbd5      3  2024"
      ]
     },
     "metadata": {},
     "output_type": "display_data"
    }
   ],
   "source": [
    "check_monthly_service_download(montebello_key)"
   ]
  },
  {
   "cell_type": "markdown",
   "id": "5696dd67-8a7a-4547-a487-129833bfe3c0",
   "metadata": {},
   "source": [
    "## Muni\n",
    "\n",
    "Muni should not be missing against single day downloads, but missing probably because of monthly grain dataset."
   ]
  },
  {
   "cell_type": "code",
   "execution_count": 11,
   "id": "ecb8cb0e-917f-45b6-86e5-daa4d0eaba6b",
   "metadata": {
    "tags": []
   },
   "outputs": [
    {
     "data": {
      "text/plain": [
       "'7cc0cb1871dfd558f11a2885c145d144'"
      ]
     },
     "execution_count": 11,
     "metadata": {},
     "output_type": "execute_result"
    }
   ],
   "source": [
    "muni_key = get_operator_key(\"Bay Area 511 Muni Schedule\")\n",
    "# \"7cc0cb1871dfd558f11a2885c145d144\"\n",
    "muni_key"
   ]
  },
  {
   "cell_type": "code",
   "execution_count": 12,
   "id": "ab06646b-a545-45ba-9864-2f0fbba2a0f8",
   "metadata": {
    "tags": []
   },
   "outputs": [
    {
     "name": "stdout",
     "output_type": "stream",
     "text": [
      "feed keys for 7cc0cb1871dfd558f11a2885c145d144: ['71b56f8c9033a28e4ca37a90bd9cc920', '8d28ffd77b0ce6366515729e249957ea', 'a54b3af296fc9ecf295244b8047f861d', '36cb7395061d5a38f2beeae8b1bcda0a', 'cad7d9dfbba521f1911ebdf004ad2007', '7f69c2fdaa134642f14064a0b64d1495', '3de56f52621869e0f5d56d999fe7a500', 'acdab4e68774c338b4b7a5be0f7a6d12', '366786e620b639368592570df334976c', 'c003d4f79fed1324631f458133f3e388']\n",
      "trips\n",
      "2025-01-15    140\n",
      "2024-03-13    139\n",
      "2024-09-18    138\n",
      "2025-02-12    137\n",
      "2024-01-17    136\n",
      "2024-02-14    136\n",
      "2024-04-17    136\n",
      "2024-05-22    136\n",
      "2024-07-17    136\n",
      "2024-08-14    136\n",
      "2024-10-16    136\n",
      "2024-11-13    136\n",
      "2024-12-11    136\n",
      "Name: service_date, dtype: int64\n"
     ]
    },
    {
     "data": {
      "text/html": [
       "<div>\n",
       "<style scoped>\n",
       "    .dataframe tbody tr th:only-of-type {\n",
       "        vertical-align: middle;\n",
       "    }\n",
       "\n",
       "    .dataframe tbody tr th {\n",
       "        vertical-align: top;\n",
       "    }\n",
       "\n",
       "    .dataframe thead th {\n",
       "        text-align: right;\n",
       "    }\n",
       "</style>\n",
       "<table border=\"1\" class=\"dataframe\">\n",
       "  <thead>\n",
       "    <tr style=\"text-align: right;\">\n",
       "      <th></th>\n",
       "      <th>route_id</th>\n",
       "      <th>direction_id</th>\n",
       "    </tr>\n",
       "  </thead>\n",
       "  <tbody>\n",
       "    <tr>\n",
       "      <th>0</th>\n",
       "      <td>1</td>\n",
       "      <td>0.0</td>\n",
       "    </tr>\n",
       "    <tr>\n",
       "      <th>86</th>\n",
       "      <td>14R</td>\n",
       "      <td>0.0</td>\n",
       "    </tr>\n",
       "    <tr>\n",
       "      <th>151</th>\n",
       "      <td>14R</td>\n",
       "      <td>1.0</td>\n",
       "    </tr>\n",
       "    <tr>\n",
       "      <th>205</th>\n",
       "      <td>12</td>\n",
       "      <td>0.0</td>\n",
       "    </tr>\n",
       "    <tr>\n",
       "      <th>249</th>\n",
       "      <td>12</td>\n",
       "      <td>1.0</td>\n",
       "    </tr>\n",
       "  </tbody>\n",
       "</table>\n",
       "</div>"
      ],
      "text/plain": [
       "    route_id  direction_id\n",
       "0          1           0.0\n",
       "86       14R           0.0\n",
       "151      14R           1.0\n",
       "205       12           0.0\n",
       "249       12           1.0"
      ]
     },
     "metadata": {},
     "output_type": "display_data"
    },
    {
     "data": {
      "text/plain": [
       "0.0    889\n",
       "1.0    889\n",
       "Name: direction_id, dtype: int64"
      ]
     },
     "metadata": {},
     "output_type": "display_data"
    },
    {
     "name": "stdout",
     "output_type": "stream",
     "text": [
      "shapes\n",
      "2025-01-15    1\n",
      "2025-02-12    1\n",
      "2024-01-17    1\n",
      "2024-02-14    1\n",
      "2024-03-13    1\n",
      "2024-04-17    1\n",
      "2024-05-22    1\n",
      "2024-07-17    1\n",
      "2024-08-14    1\n",
      "2024-09-18    1\n",
      "2024-10-16    1\n",
      "2024-11-13    1\n",
      "2024-12-11    1\n",
      "Name: service_date, dtype: int64\n",
      "stops\n",
      "2025-01-15    1\n",
      "2025-02-12    1\n",
      "2024-01-17    1\n",
      "2024-02-14    1\n",
      "2024-03-13    1\n",
      "2024-04-17    1\n",
      "2024-05-22    1\n",
      "2024-07-17    1\n",
      "2024-08-14    1\n",
      "2024-09-18    1\n",
      "2024-10-16    1\n",
      "2024-11-13    1\n",
      "2024-12-11    1\n",
      "Name: service_date, dtype: int64\n",
      "stop_times\n",
      "2025-01-15    1\n",
      "2025-02-12    1\n",
      "2024-01-17    1\n",
      "2024-02-14    1\n",
      "2024-03-13    1\n",
      "2024-04-17    1\n",
      "2024-05-22    1\n",
      "2024-07-17    1\n",
      "2024-08-14    1\n",
      "2024-09-18    1\n",
      "2024-10-16    1\n",
      "2024-11-13    1\n",
      "2024-12-11    1\n",
      "Name: service_date, dtype: int64\n"
     ]
    }
   ],
   "source": [
    "check_downloaded_schedule_tables(\n",
    "    analysis_date_list, \n",
    "    muni_key\n",
    ")"
   ]
  },
  {
   "cell_type": "code",
   "execution_count": 13,
   "id": "0fe73962-7824-41c4-9caa-2161a0a46345",
   "metadata": {},
   "outputs": [
    {
     "name": "stdout",
     "output_type": "stream",
     "text": [
      "route typologies\n",
      "2025-01-15    139\n",
      "2024-03-13    138\n",
      "2024-09-18    137\n",
      "2025-02-12    136\n",
      "2024-01-17    135\n",
      "2024-02-14    135\n",
      "2024-04-17    135\n",
      "2024-05-22    135\n",
      "2024-07-17    135\n",
      "2024-08-14    135\n",
      "2024-10-16    135\n",
      "2024-11-13    135\n",
      "2024-12-11    135\n",
      "Name: service_date, dtype: int64\n"
     ]
    },
    {
     "data": {
      "text/html": [
       "<div>\n",
       "<style scoped>\n",
       "    .dataframe tbody tr th:only-of-type {\n",
       "        vertical-align: middle;\n",
       "    }\n",
       "\n",
       "    .dataframe tbody tr th {\n",
       "        vertical-align: top;\n",
       "    }\n",
       "\n",
       "    .dataframe thead th {\n",
       "        text-align: right;\n",
       "    }\n",
       "</style>\n",
       "<table border=\"1\" class=\"dataframe\">\n",
       "  <thead>\n",
       "    <tr style=\"text-align: right;\">\n",
       "      <th></th>\n",
       "      <th>route_id</th>\n",
       "      <th>direction_id</th>\n",
       "    </tr>\n",
       "  </thead>\n",
       "  <tbody>\n",
       "    <tr>\n",
       "      <th>0</th>\n",
       "      <td>1</td>\n",
       "      <td>0.0</td>\n",
       "    </tr>\n",
       "    <tr>\n",
       "      <th>1</th>\n",
       "      <td>1</td>\n",
       "      <td>1.0</td>\n",
       "    </tr>\n",
       "    <tr>\n",
       "      <th>2</th>\n",
       "      <td>12</td>\n",
       "      <td>0.0</td>\n",
       "    </tr>\n",
       "    <tr>\n",
       "      <th>3</th>\n",
       "      <td>12</td>\n",
       "      <td>1.0</td>\n",
       "    </tr>\n",
       "    <tr>\n",
       "      <th>4</th>\n",
       "      <td>14</td>\n",
       "      <td>0.0</td>\n",
       "    </tr>\n",
       "  </tbody>\n",
       "</table>\n",
       "</div>"
      ],
      "text/plain": [
       "  route_id  direction_id\n",
       "0        1           0.0\n",
       "1        1           1.0\n",
       "2       12           0.0\n",
       "3       12           1.0\n",
       "4       14           0.0"
      ]
     },
     "metadata": {},
     "output_type": "display_data"
    },
    {
     "data": {
      "text/plain": [
       "1.0    889\n",
       "0.0    876\n",
       "Name: direction_id, dtype: int64"
      ]
     },
     "metadata": {},
     "output_type": "display_data"
    }
   ],
   "source": [
    "check_route_typologies(analysis_date_list, muni_key)"
   ]
  },
  {
   "cell_type": "code",
   "execution_count": 14,
   "id": "d8b26db6-976e-4ab2-a3d4-db66d7a379c4",
   "metadata": {
    "tags": []
   },
   "outputs": [
    {
     "data": {
      "text/html": [
       "<div>\n",
       "<style scoped>\n",
       "    .dataframe tbody tr th:only-of-type {\n",
       "        vertical-align: middle;\n",
       "    }\n",
       "\n",
       "    .dataframe tbody tr th {\n",
       "        vertical-align: top;\n",
       "    }\n",
       "\n",
       "    .dataframe thead th {\n",
       "        text-align: right;\n",
       "    }\n",
       "</style>\n",
       "<table border=\"1\" class=\"dataframe\">\n",
       "  <thead>\n",
       "    <tr style=\"text-align: right;\">\n",
       "      <th></th>\n",
       "      <th>schedule_gtfs_dataset_key</th>\n",
       "      <th>month</th>\n",
       "      <th>year</th>\n",
       "    </tr>\n",
       "  </thead>\n",
       "  <tbody>\n",
       "    <tr>\n",
       "      <th>0</th>\n",
       "      <td>7cc0cb1871dfd558f11a2885c145d144</td>\n",
       "      <td>1</td>\n",
       "      <td>2025</td>\n",
       "    </tr>\n",
       "    <tr>\n",
       "      <th>1</th>\n",
       "      <td>7cc0cb1871dfd558f11a2885c145d144</td>\n",
       "      <td>2</td>\n",
       "      <td>2025</td>\n",
       "    </tr>\n",
       "    <tr>\n",
       "      <th>2</th>\n",
       "      <td>7cc0cb1871dfd558f11a2885c145d144</td>\n",
       "      <td>1</td>\n",
       "      <td>2024</td>\n",
       "    </tr>\n",
       "    <tr>\n",
       "      <th>3</th>\n",
       "      <td>7cc0cb1871dfd558f11a2885c145d144</td>\n",
       "      <td>2</td>\n",
       "      <td>2024</td>\n",
       "    </tr>\n",
       "    <tr>\n",
       "      <th>4</th>\n",
       "      <td>7cc0cb1871dfd558f11a2885c145d144</td>\n",
       "      <td>3</td>\n",
       "      <td>2024</td>\n",
       "    </tr>\n",
       "  </tbody>\n",
       "</table>\n",
       "</div>"
      ],
      "text/plain": [
       "          schedule_gtfs_dataset_key  month  year\n",
       "0  7cc0cb1871dfd558f11a2885c145d144      1  2025\n",
       "1  7cc0cb1871dfd558f11a2885c145d144      2  2025\n",
       "2  7cc0cb1871dfd558f11a2885c145d144      1  2024\n",
       "3  7cc0cb1871dfd558f11a2885c145d144      2  2024\n",
       "4  7cc0cb1871dfd558f11a2885c145d144      3  2024"
      ]
     },
     "metadata": {},
     "output_type": "display_data"
    }
   ],
   "source": [
    "check_monthly_service_download(muni_key)"
   ]
  },
  {
   "cell_type": "markdown",
   "id": "8672ba01-cf07-43cd-8654-92d7165b0476",
   "metadata": {},
   "source": [
    "## Metrolink\n",
    "\n",
    "This one we know should be missing through scripts where `shape_array_key` is used, but should be present in schedule download tables.\n",
    "\n",
    "As expected:\n",
    "* `shapes`: we cannot find any rows based on `feed_key`\n",
    "* `route_typologies`: not present because we would have used most common shape to spatial join against roads."
   ]
  },
  {
   "cell_type": "code",
   "execution_count": 15,
   "id": "198e5764-54b9-48d1-b221-d0e63b807fff",
   "metadata": {
    "tags": []
   },
   "outputs": [
    {
     "data": {
      "text/plain": [
       "'c4092405159366c705b62df938293a4e'"
      ]
     },
     "execution_count": 15,
     "metadata": {},
     "output_type": "execute_result"
    }
   ],
   "source": [
    "metrolink_key = get_operator_key(\"Metrolink Schedule\") \n",
    "# \"c4092405159366c705b62df938293a4e\"\n",
    "metrolink_key"
   ]
  },
  {
   "cell_type": "code",
   "execution_count": 16,
   "id": "333ce766-88e1-491e-8482-e426cfe7c3a5",
   "metadata": {
    "tags": []
   },
   "outputs": [
    {
     "name": "stdout",
     "output_type": "stream",
     "text": [
      "feed keys for c4092405159366c705b62df938293a4e: ['6a20a36fec1e51356175f529fc1bfac7', '8fc9cfe86b4e9e8c7cf508b2486605f1', '1fc19f46e82ceb8c94281566b39a6669', 'e87161fdb9478556c72f47f9a3f5b896']\n",
      "trips\n",
      "2025-01-15    14\n",
      "2025-02-12    14\n",
      "2024-01-17    14\n",
      "2024-02-14    14\n",
      "2024-03-13    14\n",
      "2024-04-17    14\n",
      "2024-05-22    14\n",
      "2024-06-12    14\n",
      "2024-07-17    14\n",
      "2024-08-14    14\n",
      "2024-09-18    14\n",
      "2024-10-16    14\n",
      "2024-11-13    14\n",
      "2024-12-11    14\n",
      "Name: service_date, dtype: int64\n"
     ]
    },
    {
     "data": {
      "text/html": [
       "<div>\n",
       "<style scoped>\n",
       "    .dataframe tbody tr th:only-of-type {\n",
       "        vertical-align: middle;\n",
       "    }\n",
       "\n",
       "    .dataframe tbody tr th {\n",
       "        vertical-align: top;\n",
       "    }\n",
       "\n",
       "    .dataframe thead th {\n",
       "        text-align: right;\n",
       "    }\n",
       "</style>\n",
       "<table border=\"1\" class=\"dataframe\">\n",
       "  <thead>\n",
       "    <tr style=\"text-align: right;\">\n",
       "      <th></th>\n",
       "      <th>route_id</th>\n",
       "      <th>direction_id</th>\n",
       "    </tr>\n",
       "  </thead>\n",
       "  <tbody>\n",
       "    <tr>\n",
       "      <th>0</th>\n",
       "      <td>San Bernardino Line</td>\n",
       "      <td>1.0</td>\n",
       "    </tr>\n",
       "    <tr>\n",
       "      <th>2</th>\n",
       "      <td>Ventura County Line</td>\n",
       "      <td>0.0</td>\n",
       "    </tr>\n",
       "    <tr>\n",
       "      <th>3</th>\n",
       "      <td>Inland Emp.-Orange Co. Line</td>\n",
       "      <td>0.0</td>\n",
       "    </tr>\n",
       "    <tr>\n",
       "      <th>4</th>\n",
       "      <td>Orange County Line</td>\n",
       "      <td>1.0</td>\n",
       "    </tr>\n",
       "    <tr>\n",
       "      <th>5</th>\n",
       "      <td>Antelope Valley Line</td>\n",
       "      <td>0.0</td>\n",
       "    </tr>\n",
       "  </tbody>\n",
       "</table>\n",
       "</div>"
      ],
      "text/plain": [
       "                      route_id  direction_id\n",
       "0          San Bernardino Line           1.0\n",
       "2          Ventura County Line           0.0\n",
       "3  Inland Emp.-Orange Co. Line           0.0\n",
       "4           Orange County Line           1.0\n",
       "5         Antelope Valley Line           0.0"
      ]
     },
     "metadata": {},
     "output_type": "display_data"
    },
    {
     "data": {
      "text/plain": [
       "1.0    98\n",
       "0.0    98\n",
       "Name: direction_id, dtype: int64"
      ]
     },
     "metadata": {},
     "output_type": "display_data"
    },
    {
     "name": "stdout",
     "output_type": "stream",
     "text": [
      "shapes\n",
      "Series([], Name: service_date, dtype: int64)\n",
      "stops\n",
      "2025-01-15    1\n",
      "2025-02-12    1\n",
      "2024-01-17    1\n",
      "2024-02-14    1\n",
      "2024-03-13    1\n",
      "2024-04-17    1\n",
      "2024-05-22    1\n",
      "2024-06-12    1\n",
      "2024-07-17    1\n",
      "2024-08-14    1\n",
      "2024-09-18    1\n",
      "2024-10-16    1\n",
      "2024-11-13    1\n",
      "2024-12-11    1\n",
      "Name: service_date, dtype: int64\n",
      "stop_times\n",
      "2025-01-15    1\n",
      "2025-02-12    1\n",
      "2024-01-17    1\n",
      "2024-02-14    1\n",
      "2024-03-13    1\n",
      "2024-04-17    1\n",
      "2024-05-22    1\n",
      "2024-06-12    1\n",
      "2024-07-17    1\n",
      "2024-08-14    1\n",
      "2024-09-18    1\n",
      "2024-10-16    1\n",
      "2024-11-13    1\n",
      "2024-12-11    1\n",
      "Name: service_date, dtype: int64\n"
     ]
    }
   ],
   "source": [
    "check_downloaded_schedule_tables(\n",
    "    analysis_date_list, \n",
    "    metrolink_key\n",
    ")"
   ]
  },
  {
   "cell_type": "code",
   "execution_count": 17,
   "id": "78ce0f27-744f-40f7-adc5-c3c42b6122a2",
   "metadata": {
    "tags": []
   },
   "outputs": [
    {
     "name": "stdout",
     "output_type": "stream",
     "text": [
      "route typologies\n",
      "Series([], Name: service_date, dtype: int64)\n"
     ]
    },
    {
     "data": {
      "text/html": [
       "<div>\n",
       "<style scoped>\n",
       "    .dataframe tbody tr th:only-of-type {\n",
       "        vertical-align: middle;\n",
       "    }\n",
       "\n",
       "    .dataframe tbody tr th {\n",
       "        vertical-align: top;\n",
       "    }\n",
       "\n",
       "    .dataframe thead th {\n",
       "        text-align: right;\n",
       "    }\n",
       "</style>\n",
       "<table border=\"1\" class=\"dataframe\">\n",
       "  <thead>\n",
       "    <tr style=\"text-align: right;\">\n",
       "      <th></th>\n",
       "      <th>route_id</th>\n",
       "      <th>direction_id</th>\n",
       "    </tr>\n",
       "  </thead>\n",
       "  <tbody>\n",
       "  </tbody>\n",
       "</table>\n",
       "</div>"
      ],
      "text/plain": [
       "Empty DataFrame\n",
       "Columns: [route_id, direction_id]\n",
       "Index: []"
      ]
     },
     "metadata": {},
     "output_type": "display_data"
    },
    {
     "data": {
      "text/plain": [
       "Series([], Name: direction_id, dtype: int64)"
      ]
     },
     "metadata": {},
     "output_type": "display_data"
    }
   ],
   "source": [
    "check_route_typologies(analysis_date_list, metrolink_key)"
   ]
  },
  {
   "cell_type": "code",
   "execution_count": 18,
   "id": "6da52a44-1993-40a4-93a2-7b3c796e349c",
   "metadata": {
    "tags": []
   },
   "outputs": [
    {
     "data": {
      "text/html": [
       "<div>\n",
       "<style scoped>\n",
       "    .dataframe tbody tr th:only-of-type {\n",
       "        vertical-align: middle;\n",
       "    }\n",
       "\n",
       "    .dataframe tbody tr th {\n",
       "        vertical-align: top;\n",
       "    }\n",
       "\n",
       "    .dataframe thead th {\n",
       "        text-align: right;\n",
       "    }\n",
       "</style>\n",
       "<table border=\"1\" class=\"dataframe\">\n",
       "  <thead>\n",
       "    <tr style=\"text-align: right;\">\n",
       "      <th></th>\n",
       "      <th>schedule_gtfs_dataset_key</th>\n",
       "      <th>month</th>\n",
       "      <th>year</th>\n",
       "    </tr>\n",
       "  </thead>\n",
       "  <tbody>\n",
       "    <tr>\n",
       "      <th>0</th>\n",
       "      <td>c4092405159366c705b62df938293a4e</td>\n",
       "      <td>1</td>\n",
       "      <td>2025</td>\n",
       "    </tr>\n",
       "    <tr>\n",
       "      <th>1</th>\n",
       "      <td>c4092405159366c705b62df938293a4e</td>\n",
       "      <td>2</td>\n",
       "      <td>2025</td>\n",
       "    </tr>\n",
       "    <tr>\n",
       "      <th>2</th>\n",
       "      <td>c4092405159366c705b62df938293a4e</td>\n",
       "      <td>1</td>\n",
       "      <td>2024</td>\n",
       "    </tr>\n",
       "    <tr>\n",
       "      <th>3</th>\n",
       "      <td>c4092405159366c705b62df938293a4e</td>\n",
       "      <td>2</td>\n",
       "      <td>2024</td>\n",
       "    </tr>\n",
       "    <tr>\n",
       "      <th>4</th>\n",
       "      <td>c4092405159366c705b62df938293a4e</td>\n",
       "      <td>3</td>\n",
       "      <td>2024</td>\n",
       "    </tr>\n",
       "  </tbody>\n",
       "</table>\n",
       "</div>"
      ],
      "text/plain": [
       "          schedule_gtfs_dataset_key  month  year\n",
       "0  c4092405159366c705b62df938293a4e      1  2025\n",
       "1  c4092405159366c705b62df938293a4e      2  2025\n",
       "2  c4092405159366c705b62df938293a4e      1  2024\n",
       "3  c4092405159366c705b62df938293a4e      2  2024\n",
       "4  c4092405159366c705b62df938293a4e      3  2024"
      ]
     },
     "metadata": {},
     "output_type": "display_data"
    }
   ],
   "source": [
    "check_monthly_service_download(metrolink_key)"
   ]
  },
  {
   "cell_type": "markdown",
   "id": "94e0c64a-87c4-4dec-8fda-220d95d6c76a",
   "metadata": {},
   "source": [
    "## Santa Maria\n",
    "\n",
    "* `gtfs_funnel`: this one is in published_operators.yml too.\n",
    "* similar to Montebello. fillnas should not happen until the most downstream step."
   ]
  },
  {
   "cell_type": "code",
   "execution_count": 19,
   "id": "a71fb204-e6a2-4bbe-81e7-68cc8e6d6248",
   "metadata": {
    "tags": []
   },
   "outputs": [
    {
     "data": {
      "text/plain": [
       "'73105f2d1cabc8170ab066d96863c5d5'"
      ]
     },
     "execution_count": 19,
     "metadata": {},
     "output_type": "execute_result"
    }
   ],
   "source": [
    "santa_maria_key = get_operator_key(\"Santa Maria Schedule\") \n",
    "# \"73105f2d1cabc8170ab066d96863c5d5\"\n",
    "santa_maria_key"
   ]
  },
  {
   "cell_type": "code",
   "execution_count": 20,
   "id": "8a632a9d-95bb-4da9-91f1-466b26bcd6f7",
   "metadata": {
    "tags": []
   },
   "outputs": [
    {
     "name": "stdout",
     "output_type": "stream",
     "text": [
      "feed keys for 73105f2d1cabc8170ab066d96863c5d5: ['253ed64830e600a63d55112c347823dc', 'fdb0383d9d3c18b23aa2afdfaf8b0c0b', '5392e99b9f95a8f2cae17074b0592ae2', '14dee63047914f25fd449d8d072976f9', '9f4e184b7ecc81bf155e258853ff7e4d', 'cb071c19da84a01e27d6a85d40df72df', '9d42d92b785fe9caf7b6f5394fb8601a', 'd7ca92a34b302e9091b47fb849f45380', 'c86a471a1a4c36bb8cf7da9d6a20f202']\n",
      "trips\n",
      "2024-09-18    17\n",
      "2024-10-16    17\n",
      "2024-11-13    17\n",
      "2024-12-11    17\n",
      "2025-01-15    16\n",
      "2025-02-12    16\n",
      "2024-07-17    16\n",
      "2024-08-14    16\n",
      "2024-01-17    14\n",
      "2024-02-14    14\n",
      "2024-03-13    14\n",
      "2024-04-17    14\n",
      "2024-05-22    14\n",
      "2024-06-12    14\n",
      "Name: service_date, dtype: int64\n"
     ]
    },
    {
     "data": {
      "text/html": [
       "<div>\n",
       "<style scoped>\n",
       "    .dataframe tbody tr th:only-of-type {\n",
       "        vertical-align: middle;\n",
       "    }\n",
       "\n",
       "    .dataframe tbody tr th {\n",
       "        vertical-align: top;\n",
       "    }\n",
       "\n",
       "    .dataframe thead th {\n",
       "        text-align: right;\n",
       "    }\n",
       "</style>\n",
       "<table border=\"1\" class=\"dataframe\">\n",
       "  <thead>\n",
       "    <tr style=\"text-align: right;\">\n",
       "      <th></th>\n",
       "      <th>route_id</th>\n",
       "      <th>direction_id</th>\n",
       "    </tr>\n",
       "  </thead>\n",
       "  <tbody>\n",
       "    <tr>\n",
       "      <th>0</th>\n",
       "      <td>13X</td>\n",
       "      <td>NaN</td>\n",
       "    </tr>\n",
       "    <tr>\n",
       "      <th>3</th>\n",
       "      <td>12X</td>\n",
       "      <td>NaN</td>\n",
       "    </tr>\n",
       "    <tr>\n",
       "      <th>7</th>\n",
       "      <td>2</td>\n",
       "      <td>NaN</td>\n",
       "    </tr>\n",
       "    <tr>\n",
       "      <th>12</th>\n",
       "      <td>1B</td>\n",
       "      <td>NaN</td>\n",
       "    </tr>\n",
       "    <tr>\n",
       "      <th>15</th>\n",
       "      <td>1</td>\n",
       "      <td>NaN</td>\n",
       "    </tr>\n",
       "  </tbody>\n",
       "</table>\n",
       "</div>"
      ],
      "text/plain": [
       "   route_id  direction_id\n",
       "0       13X           NaN\n",
       "3       12X           NaN\n",
       "7         2           NaN\n",
       "12       1B           NaN\n",
       "15        1           NaN"
      ]
     },
     "metadata": {},
     "output_type": "display_data"
    },
    {
     "data": {
      "text/plain": [
       "NaN    202\n",
       "0.0     14\n",
       "Name: direction_id, dtype: int64"
      ]
     },
     "metadata": {},
     "output_type": "display_data"
    },
    {
     "name": "stdout",
     "output_type": "stream",
     "text": [
      "shapes\n",
      "2025-01-15    1\n",
      "2025-02-12    1\n",
      "2024-01-17    1\n",
      "2024-02-14    1\n",
      "2024-03-13    1\n",
      "2024-04-17    1\n",
      "2024-05-22    1\n",
      "2024-06-12    1\n",
      "2024-07-17    1\n",
      "2024-08-14    1\n",
      "2024-09-18    1\n",
      "2024-10-16    1\n",
      "2024-11-13    1\n",
      "2024-12-11    1\n",
      "Name: service_date, dtype: int64\n",
      "stops\n",
      "2025-01-15    1\n",
      "2025-02-12    1\n",
      "2024-01-17    1\n",
      "2024-02-14    1\n",
      "2024-03-13    1\n",
      "2024-04-17    1\n",
      "2024-05-22    1\n",
      "2024-06-12    1\n",
      "2024-07-17    1\n",
      "2024-08-14    1\n",
      "2024-09-18    1\n",
      "2024-10-16    1\n",
      "2024-11-13    1\n",
      "2024-12-11    1\n",
      "Name: service_date, dtype: int64\n",
      "stop_times\n",
      "2025-01-15    1\n",
      "2025-02-12    1\n",
      "2024-01-17    1\n",
      "2024-02-14    1\n",
      "2024-03-13    1\n",
      "2024-04-17    1\n",
      "2024-05-22    1\n",
      "2024-06-12    1\n",
      "2024-07-17    1\n",
      "2024-08-14    1\n",
      "2024-09-18    1\n",
      "2024-10-16    1\n",
      "2024-11-13    1\n",
      "2024-12-11    1\n",
      "Name: service_date, dtype: int64\n"
     ]
    }
   ],
   "source": [
    "check_downloaded_schedule_tables(\n",
    "    analysis_date_list, \n",
    "    santa_maria_key\n",
    ")"
   ]
  },
  {
   "cell_type": "code",
   "execution_count": 21,
   "id": "75252a29-323d-4965-a46c-a658e47eb150",
   "metadata": {
    "tags": []
   },
   "outputs": [
    {
     "name": "stdout",
     "output_type": "stream",
     "text": [
      "route typologies\n",
      "2024-09-18    17\n",
      "2024-10-16    17\n",
      "2024-11-13    17\n",
      "2024-12-11    17\n",
      "2024-07-17    16\n",
      "2024-08-14    16\n",
      "2025-01-15    15\n",
      "2025-02-12    15\n",
      "2024-01-17    14\n",
      "2024-02-14    14\n",
      "2024-03-13    14\n",
      "2024-04-17    14\n",
      "2024-05-22    14\n",
      "2024-06-12    14\n",
      "Name: service_date, dtype: int64\n"
     ]
    },
    {
     "data": {
      "text/html": [
       "<div>\n",
       "<style scoped>\n",
       "    .dataframe tbody tr th:only-of-type {\n",
       "        vertical-align: middle;\n",
       "    }\n",
       "\n",
       "    .dataframe tbody tr th {\n",
       "        vertical-align: top;\n",
       "    }\n",
       "\n",
       "    .dataframe thead th {\n",
       "        text-align: right;\n",
       "    }\n",
       "</style>\n",
       "<table border=\"1\" class=\"dataframe\">\n",
       "  <thead>\n",
       "    <tr style=\"text-align: right;\">\n",
       "      <th></th>\n",
       "      <th>route_id</th>\n",
       "      <th>direction_id</th>\n",
       "    </tr>\n",
       "  </thead>\n",
       "  <tbody>\n",
       "    <tr>\n",
       "      <th>0</th>\n",
       "      <td>1</td>\n",
       "      <td>0.0</td>\n",
       "    </tr>\n",
       "    <tr>\n",
       "      <th>1</th>\n",
       "      <td>11</td>\n",
       "      <td>0.0</td>\n",
       "    </tr>\n",
       "    <tr>\n",
       "      <th>2</th>\n",
       "      <td>12X</td>\n",
       "      <td>0.0</td>\n",
       "    </tr>\n",
       "    <tr>\n",
       "      <th>3</th>\n",
       "      <td>13X</td>\n",
       "      <td>0.0</td>\n",
       "    </tr>\n",
       "    <tr>\n",
       "      <th>4</th>\n",
       "      <td>1B</td>\n",
       "      <td>0.0</td>\n",
       "    </tr>\n",
       "  </tbody>\n",
       "</table>\n",
       "</div>"
      ],
      "text/plain": [
       "  route_id  direction_id\n",
       "0        1           0.0\n",
       "1       11           0.0\n",
       "2      12X           0.0\n",
       "3      13X           0.0\n",
       "4       1B           0.0"
      ]
     },
     "metadata": {},
     "output_type": "display_data"
    },
    {
     "data": {
      "text/plain": [
       "0.0    214\n",
       "Name: direction_id, dtype: int64"
      ]
     },
     "metadata": {},
     "output_type": "display_data"
    }
   ],
   "source": [
    "check_route_typologies(analysis_date_list, santa_maria_key)"
   ]
  },
  {
   "cell_type": "code",
   "execution_count": 22,
   "id": "6e02020d-f157-4b33-a23a-1b494bc4c2bb",
   "metadata": {
    "tags": []
   },
   "outputs": [
    {
     "data": {
      "text/html": [
       "<div>\n",
       "<style scoped>\n",
       "    .dataframe tbody tr th:only-of-type {\n",
       "        vertical-align: middle;\n",
       "    }\n",
       "\n",
       "    .dataframe tbody tr th {\n",
       "        vertical-align: top;\n",
       "    }\n",
       "\n",
       "    .dataframe thead th {\n",
       "        text-align: right;\n",
       "    }\n",
       "</style>\n",
       "<table border=\"1\" class=\"dataframe\">\n",
       "  <thead>\n",
       "    <tr style=\"text-align: right;\">\n",
       "      <th></th>\n",
       "      <th>schedule_gtfs_dataset_key</th>\n",
       "      <th>month</th>\n",
       "      <th>year</th>\n",
       "    </tr>\n",
       "  </thead>\n",
       "  <tbody>\n",
       "    <tr>\n",
       "      <th>0</th>\n",
       "      <td>73105f2d1cabc8170ab066d96863c5d5</td>\n",
       "      <td>1</td>\n",
       "      <td>2025</td>\n",
       "    </tr>\n",
       "    <tr>\n",
       "      <th>1</th>\n",
       "      <td>73105f2d1cabc8170ab066d96863c5d5</td>\n",
       "      <td>2</td>\n",
       "      <td>2025</td>\n",
       "    </tr>\n",
       "    <tr>\n",
       "      <th>2</th>\n",
       "      <td>73105f2d1cabc8170ab066d96863c5d5</td>\n",
       "      <td>1</td>\n",
       "      <td>2024</td>\n",
       "    </tr>\n",
       "    <tr>\n",
       "      <th>3</th>\n",
       "      <td>73105f2d1cabc8170ab066d96863c5d5</td>\n",
       "      <td>2</td>\n",
       "      <td>2024</td>\n",
       "    </tr>\n",
       "    <tr>\n",
       "      <th>4</th>\n",
       "      <td>73105f2d1cabc8170ab066d96863c5d5</td>\n",
       "      <td>3</td>\n",
       "      <td>2024</td>\n",
       "    </tr>\n",
       "  </tbody>\n",
       "</table>\n",
       "</div>"
      ],
      "text/plain": [
       "          schedule_gtfs_dataset_key  month  year\n",
       "0  73105f2d1cabc8170ab066d96863c5d5      1  2025\n",
       "1  73105f2d1cabc8170ab066d96863c5d5      2  2025\n",
       "2  73105f2d1cabc8170ab066d96863c5d5      1  2024\n",
       "3  73105f2d1cabc8170ab066d96863c5d5      2  2024\n",
       "4  73105f2d1cabc8170ab066d96863c5d5      3  2024"
      ]
     },
     "metadata": {},
     "output_type": "display_data"
    }
   ],
   "source": [
    "check_monthly_service_download(santa_maria_key)"
   ]
  },
  {
   "cell_type": "code",
   "execution_count": null,
   "id": "8e8ca74e-fc30-4b1e-93f5-c84a2e5dcd52",
   "metadata": {},
   "outputs": [],
   "source": []
  }
 ],
 "metadata": {
  "kernelspec": {
   "display_name": "Python 3 (ipykernel)",
   "language": "python",
   "name": "python3"
  },
  "language_info": {
   "codemirror_mode": {
    "name": "ipython",
    "version": 3
   },
   "file_extension": ".py",
   "mimetype": "text/x-python",
   "name": "python",
   "nbconvert_exporter": "python",
   "pygments_lexer": "ipython3",
   "version": "3.11.10"
  }
 },
 "nbformat": 4,
 "nbformat_minor": 5
}
