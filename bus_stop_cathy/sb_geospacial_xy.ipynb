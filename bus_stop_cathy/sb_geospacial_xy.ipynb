{
 "cells": [
  {
   "cell_type": "code",
   "execution_count": 1,
   "id": "be695c8b-3641-4724-96a7-b1a02f0cabe8",
   "metadata": {},
   "outputs": [],
   "source": [
    "import pandas as pd\n",
    "import geopandas as gpd\n",
    "import numpy as np\n",
    "import matplotlib.pyplot as plt\n",
    "import seaborn as sns\n",
    "import decimal\n",
    "# in python, we use lon/lat order"
   ]
  },
  {
   "cell_type": "code",
   "execution_count": 2,
   "id": "434753e1-1b48-4a60-9e49-c1ec35c79637",
   "metadata": {},
   "outputs": [],
   "source": [
    "FOLDER = \"../Bus_Stops/\"\n",
    "FILE_NAME = \"ca_stops_revised.csv\"\n",
    "ca = pd.read_csv(f\"{FOLDER}{FILE_NAME}\")\n",
    "\n",
    "# Keep route_type is 3 (bus stops) only\n",
    "keep_row1 = [3]\n",
    "ca1 = ca[ca.route_type.isin(keep_row1)]\n",
    "#ca1.route_type.value_counts()\n",
    "\n",
    "# Keep Agency for Stanislaus county only\n",
    "keep_row2 = ['Santa Barbara County Association of Governments', \n",
    "             'Santa Barbara Metropolitan Transit District']\n",
    "ca2 = ca[ca.agency.isin(keep_row2)]\n",
    "ca2.agency.value_counts()\n",
    "\n",
    "# Keep useful columns only\n",
    "keep_col = ['agency', 'stop_id', 'stop_name', 'x', 'y']\n",
    "ca_sb = ca2[keep_col]\n",
    "\n",
    "ca_sb = ca_sb.rename(columns = {'x': 'lon', 'y': 'lat'})\n",
    "\n",
    "# Change stop_id type from object to string\n",
    "#ca_sb = (ca_sb.astype({'stop_name': str}))\n",
    "\n",
    "# Check cleaned data\n",
    "#ca_sb.head()\n",
    "#len(ca_sb['stop_name'])\n",
    "#ca_sb.dtypes\n",
    "#ca_sb.info()\n",
    "#ca_sb.shape\n",
    "#ca_sb.describe()\n",
    "#list(ca_sb.stop_name[0:5])"
   ]
  },
  {
   "cell_type": "code",
   "execution_count": 3,
   "id": "0f18805a-32e3-47ca-9272-73c0773483cf",
   "metadata": {},
   "outputs": [
    {
     "data": {
      "text/plain": [
       "(42, 5)"
      ]
     },
     "execution_count": 3,
     "metadata": {},
     "output_type": "execute_result"
    }
   ],
   "source": [
    "ca_sb_no_dup = ca_sb.drop_duplicates(subset = ['lat'], keep = 'first')\n",
    "ca_sb_no_dup.shape\n",
    "#ca_sb_no_dup.head(2)"
   ]
  },
  {
   "cell_type": "code",
   "execution_count": 4,
   "id": "5d181e81-3551-47ee-8fc7-1f6b724cf406",
   "metadata": {},
   "outputs": [],
   "source": [
    "# Change to gdf\n",
    "\n",
    "ca_sb_gdf = gpd.GeoDataFrame(\n",
    "    ca_sb_no_dup, \n",
    "    geometry=gpd.points_from_xy(ca_sb_no_dup['lon'], ca_sb_no_dup['lat']),\n",
    "    crs='EPSG:4326'\n",
    ")\n",
    "#ca_sb_gdf.head()\n",
    "#ca_sb_gdf.shape"
   ]
  },
  {
   "cell_type": "code",
   "execution_count": null,
   "id": "f275b4b0-aefb-4ba8-9947-d88ba350ce1d",
   "metadata": {},
   "outputs": [],
   "source": []
  },
  {
   "cell_type": "code",
   "execution_count": null,
   "id": "e6292755-b3d3-46aa-9913-a1104d0cb282",
   "metadata": {},
   "outputs": [],
   "source": []
  },
  {
   "cell_type": "code",
   "execution_count": null,
   "id": "4d92796d-56cc-418d-8f3d-95c61c513adb",
   "metadata": {},
   "outputs": [],
   "source": []
  },
  {
   "cell_type": "code",
   "execution_count": 5,
   "id": "839dc545-f2a3-4885-b873-48cf19440cf0",
   "metadata": {},
   "outputs": [],
   "source": [
    "FILE_NAME = \"SBMTD_cleaned.csv\"\n",
    "sb = pd.read_csv(f\"{FOLDER}{FILE_NAME}\")\n",
    "#sb.head(2)\n",
    "#sb.info()\n",
    "\n",
    "keep_col = ['Stop ID #', 'Stop Abbreviation', 'Stop Location',  'Long', 'Lat', 'Shelter? Y/N']\n",
    "sb_clean = sb[keep_col]\n",
    "sb_clean = sb_clean.rename(columns = {'Stop ID #': 'Stop ID', 'Shelter? Y/N': 'Shelter'})\n",
    "sb_clean.columns = sb_clean.columns.str.strip().str.replace(' ', '_').str.lower()\n",
    "\n",
    "\n",
    "#sb_clean.head(2)"
   ]
  },
  {
   "cell_type": "code",
   "execution_count": 6,
   "id": "e3a9cf17-62dd-47a9-9bf8-e587a93ed0c7",
   "metadata": {},
   "outputs": [
    {
     "data": {
      "text/plain": [
       "(713, 6)"
      ]
     },
     "execution_count": 6,
     "metadata": {},
     "output_type": "execute_result"
    }
   ],
   "source": [
    "sb_clean.shape"
   ]
  },
  {
   "cell_type": "code",
   "execution_count": 7,
   "id": "0edf28a8-82e9-4f33-820c-41946baa122e",
   "metadata": {},
   "outputs": [
    {
     "data": {
      "text/plain": [
       "(713, 6)"
      ]
     },
     "execution_count": 7,
     "metadata": {},
     "output_type": "execute_result"
    }
   ],
   "source": [
    "# Drop duplicates\n",
    "sb_clean_no_dup = sb_clean.drop_duplicates(subset = ['long', 'lat'], keep = 'first')\n",
    "sb_clean_no_dup.shape"
   ]
  },
  {
   "cell_type": "code",
   "execution_count": 8,
   "id": "50238136-3cdd-47f4-beb0-d36841989dde",
   "metadata": {},
   "outputs": [
    {
     "data": {
      "text/plain": [
       "(713, 7)"
      ]
     },
     "execution_count": 8,
     "metadata": {},
     "output_type": "execute_result"
    }
   ],
   "source": [
    "# Change to gdf\n",
    "\n",
    "sb_gdf = gpd.GeoDataFrame(\n",
    "    sb_clean_no_dup, \n",
    "    geometry=gpd.points_from_xy(sb_clean_no_dup['long'], sb_clean_no_dup['lat']),\n",
    "    crs='EPSG:4326'\n",
    ")\n",
    "#sb_gdf.head()\n",
    "sb_gdf.shape"
   ]
  },
  {
   "cell_type": "code",
   "execution_count": null,
   "id": "656434f5-c5d2-4f28-85e4-1732884d0eee",
   "metadata": {},
   "outputs": [],
   "source": []
  },
  {
   "cell_type": "code",
   "execution_count": null,
   "id": "6b374520-df18-4803-8fff-f375d068e871",
   "metadata": {},
   "outputs": [],
   "source": []
  },
  {
   "cell_type": "code",
   "execution_count": null,
   "id": "18ee29aa-265e-47ca-b495-efdcc823f33e",
   "metadata": {},
   "outputs": [],
   "source": []
  },
  {
   "cell_type": "code",
   "execution_count": 9,
   "id": "d01e8f58-2792-4051-91c9-c50eb4a0ce6c",
   "metadata": {},
   "outputs": [],
   "source": [
    "# Calculate distance in ft and keep min value for each row in ca data\n",
    "\n",
    "l = []\n",
    "\n",
    "sb_geom = sb_gdf.to_crs(\"EPSG:2229\").geometry\n",
    "for i in range(len(ca_sb_gdf['geometry'])):\n",
    "    ca_geom = ca_sb_gdf.to_crs(\"EPSG:2229\").geometry.iloc[i]\n",
    "    d = ca_geom.distance(sb_geom)\n",
    "    l.append(min(d))\n",
    "ca_sb_gdf['distance_ft'] = l"
   ]
  },
  {
   "cell_type": "code",
   "execution_count": 10,
   "id": "f5f895da-db52-4b9b-a963-50a566a7fefc",
   "metadata": {},
   "outputs": [],
   "source": [
    "# Create a new row: fill in match if distance<=40. else fill in no\n",
    "\n",
    "ca_sb_gdf['same_stop'] = ca_sb_gdf.apply(lambda row: 'match' if row.distance_ft <= 40\n",
    "                else 'not_match', axis = 1)"
   ]
  },
  {
   "cell_type": "code",
   "execution_count": 11,
   "id": "335d888c-9b82-4cc7-bc69-cec19c3b7225",
   "metadata": {},
   "outputs": [
    {
     "data": {
      "text/plain": [
       "match        36\n",
       "not_match     6\n",
       "Name: same_stop, dtype: int64"
      ]
     },
     "execution_count": 11,
     "metadata": {},
     "output_type": "execute_result"
    }
   ],
   "source": [
    "# Check number of match and number of no match\n",
    "\n",
    "ca_sb_gdf.same_stop.value_counts()"
   ]
  },
  {
   "cell_type": "code",
   "execution_count": 12,
   "id": "65614a34-8a5e-41b4-be74-c301ba20f081",
   "metadata": {},
   "outputs": [
    {
     "name": "stdout",
     "output_type": "stream",
     "text": [
      "                           stop_name         lon        lat\n",
      "0                East Valley & Lilac -119.610185  34.438116\n",
      "1                  Lillie & Valencia -119.596920  34.420477\n",
      "2      Via Real & Gallup & Stribling -119.557456  34.414723\n",
      "3  Via Real & Via Real Flowers #3896 -119.547339  34.407072\n",
      "4                 Via Real & Nidever -119.561450  34.416497\n",
      "5                 Casa De Los Flores -119.534935  34.405118\n"
     ]
    }
   ],
   "source": [
    "# Pull out stops don't match\n",
    "\n",
    "keep_no = ['not_match']\n",
    "different_stop = ca_sb_gdf[ca_sb_gdf.same_stop.isin(keep_no)]\n",
    "different_stop.reset_index(inplace=True)\n",
    "keep_col2 = ['stop_name', 'lon', 'lat']\n",
    "print(different_stop[keep_col2])"
   ]
  },
  {
   "cell_type": "code",
   "execution_count": null,
   "id": "b60b9d6b-09c1-47b8-80fc-07da45f476f1",
   "metadata": {},
   "outputs": [],
   "source": []
  },
  {
   "cell_type": "code",
   "execution_count": null,
   "id": "5ef2cf18-9285-4c04-8a5c-340a3ec2a03e",
   "metadata": {},
   "outputs": [],
   "source": []
  },
  {
   "cell_type": "code",
   "execution_count": null,
   "id": "a3b95810-5403-4232-9477-cf20b68ecdbe",
   "metadata": {},
   "outputs": [],
   "source": []
  },
  {
   "cell_type": "code",
   "execution_count": 13,
   "id": "08bf88d9-8ce3-4cb2-9df8-e206dc8466b1",
   "metadata": {},
   "outputs": [],
   "source": [
    "# find shelter\n",
    "\n",
    "l = []\n",
    "\n",
    "ca_geom = ca_sb_gdf.to_crs(\"EPSG:2229\").geometry\n",
    "for i in range(len(sb_gdf['geometry'])):\n",
    "    sb_geom = sb_gdf.to_crs(\"EPSG:2229\").geometry.iloc[i]\n",
    "    d = sb_geom.distance(ca_geom)\n",
    "    l.append(min(d))\n",
    "sb_gdf['distance_ft'] = l"
   ]
  },
  {
   "cell_type": "code",
   "execution_count": 14,
   "id": "d2a344e4-53bb-4a2f-85b3-1b14289c05bb",
   "metadata": {},
   "outputs": [],
   "source": [
    "# Create a new row: fill in match if distance<=40. else fill in no\n",
    "\n",
    "sb_gdf['same_stop'] = sb_gdf.apply(lambda row: 'match' if row.distance_ft <= 40\n",
    "                else 'not_match', axis = 1)"
   ]
  },
  {
   "cell_type": "code",
   "execution_count": 15,
   "id": "790595ce-86d2-4dc2-bb3d-4326fba387b5",
   "metadata": {},
   "outputs": [
    {
     "data": {
      "text/plain": [
       "not_match    676\n",
       "match         37\n",
       "Name: same_stop, dtype: int64"
      ]
     },
     "execution_count": 15,
     "metadata": {},
     "output_type": "execute_result"
    }
   ],
   "source": [
    "# Check number of match and number of no match\n",
    "\n",
    "sb_gdf.same_stop.value_counts()"
   ]
  },
  {
   "cell_type": "code",
   "execution_count": 16,
   "id": "f6c1ac24-427b-43ae-bf1a-9b99431d90fd",
   "metadata": {},
   "outputs": [],
   "source": [
    "# Pull out match\n",
    "\n",
    "keep_yes = ['match']\n",
    "same_stop = sb_gdf[sb_gdf.same_stop.isin(keep_yes)]\n",
    "same_stop.reset_index(inplace=True)\n",
    "#print(same_stop[0:3])\n",
    "keep_col2 = ['stop_location', 'long', 'lat', 'shelter']\n",
    "#print(same_stop[keep_col2])"
   ]
  },
  {
   "cell_type": "code",
   "execution_count": 17,
   "id": "c19f7ed7-1d4b-4c53-b4d8-d1f4ba0040ba",
   "metadata": {},
   "outputs": [
    {
     "name": "stderr",
     "output_type": "stream",
     "text": [
      "/tmp/ipykernel_156/233241608.py:2: SettingWithCopyWarning: \n",
      "A value is trying to be set on a copy of a slice from a DataFrame.\n",
      "Try using .loc[row_indexer,col_indexer] = value instead\n",
      "\n",
      "See the caveats in the documentation: https://pandas.pydata.org/pandas-docs/stable/user_guide/indexing.html#returning-a-view-versus-a-copy\n",
      "  same_stop.replace({'shelter':{'no':'n', 'No':'n', 'Yes':'y', 'yes':'y'}}, inplace = True)\n"
     ]
    },
    {
     "data": {
      "text/plain": [
       "n    32\n",
       "y     5\n",
       "Name: shelter, dtype: int64"
      ]
     },
     "execution_count": 17,
     "metadata": {},
     "output_type": "execute_result"
    }
   ],
   "source": [
    "# Clean values in column 'shelter'\n",
    "same_stop.replace({'shelter':{'no':'n', 'No':'n', 'Yes':'y', 'yes':'y'}}, inplace = True)\n",
    "same_stop['shelter'].value_counts()"
   ]
  },
  {
   "cell_type": "code",
   "execution_count": 18,
   "id": "ea9bf98b-512a-4342-a4a7-eb538f4ad70e",
   "metadata": {},
   "outputs": [
    {
     "name": "stdout",
     "output_type": "stream",
     "text": [
      "5 stops have shelter\n",
      "14 % stops have shelter\n"
     ]
    }
   ],
   "source": [
    "yes = same_stop['shelter'].value_counts()['y']\n",
    "#no = same_stop['shelter'].value_counts()['n']\n",
    "percent = round(yes/(len(same_stop))*100)\n",
    "print(yes, 'stops have shelter')\n",
    "#print(no, 'stops do not have shelter')\n",
    "print(percent, '% stops have shelter')"
   ]
  },
  {
   "cell_type": "code",
   "execution_count": null,
   "id": "d838955d-2f90-4353-8242-b6601f4739ec",
   "metadata": {},
   "outputs": [],
   "source": []
  },
  {
   "cell_type": "code",
   "execution_count": null,
   "id": "bc126e59-2d03-40f6-9c2a-fe1d3281adc2",
   "metadata": {},
   "outputs": [],
   "source": []
  },
  {
   "cell_type": "code",
   "execution_count": null,
   "id": "6b8a8588-185f-4288-b1f8-a37a6165b4e6",
   "metadata": {},
   "outputs": [],
   "source": []
  },
  {
   "cell_type": "code",
   "execution_count": 19,
   "id": "a4046f9c-1e3f-4152-af78-d2180f34cf61",
   "metadata": {},
   "outputs": [
    {
     "data": {
      "text/html": [
       "<div style=\"width:100%;\"><div style=\"position:relative;width:100%;height:0;padding-bottom:60%;\"><span style=\"color:#565656\">Make this Notebook Trusted to load map: File -> Trust Notebook</span><iframe src=\"about:blank\" style=\"position:absolute;width:100%;height:100%;left:0;top:0;border:none !important;\" data-html=%3C%21DOCTYPE%20html%3E%0A%3Chead%3E%20%20%20%20%0A%20%20%20%20%3Cmeta%20http-equiv%3D%22content-type%22%20content%3D%22text/html%3B%20charset%3DUTF-8%22%20/%3E%0A%20%20%20%20%0A%20%20%20%20%20%20%20%20%3Cscript%3E%0A%20%20%20%20%20%20%20%20%20%20%20%20L_NO_TOUCH%20%3D%20false%3B%0A%20%20%20%20%20%20%20%20%20%20%20%20L_DISABLE_3D%20%3D%20false%3B%0A%20%20%20%20%20%20%20%20%3C/script%3E%0A%20%20%20%20%0A%20%20%20%20%3Cstyle%3Ehtml%2C%20body%20%7Bwidth%3A%20100%25%3Bheight%3A%20100%25%3Bmargin%3A%200%3Bpadding%3A%200%3B%7D%3C/style%3E%0A%20%20%20%20%3Cstyle%3E%23map%20%7Bposition%3Aabsolute%3Btop%3A0%3Bbottom%3A0%3Bright%3A0%3Bleft%3A0%3B%7D%3C/style%3E%0A%20%20%20%20%3Cscript%20src%3D%22https%3A//cdn.jsdelivr.net/npm/leaflet%401.6.0/dist/leaflet.js%22%3E%3C/script%3E%0A%20%20%20%20%3Cscript%20src%3D%22https%3A//code.jquery.com/jquery-1.12.4.min.js%22%3E%3C/script%3E%0A%20%20%20%20%3Cscript%20src%3D%22https%3A//maxcdn.bootstrapcdn.com/bootstrap/3.2.0/js/bootstrap.min.js%22%3E%3C/script%3E%0A%20%20%20%20%3Cscript%20src%3D%22https%3A//cdnjs.cloudflare.com/ajax/libs/Leaflet.awesome-markers/2.0.2/leaflet.awesome-markers.js%22%3E%3C/script%3E%0A%20%20%20%20%3Clink%20rel%3D%22stylesheet%22%20href%3D%22https%3A//cdn.jsdelivr.net/npm/leaflet%401.6.0/dist/leaflet.css%22/%3E%0A%20%20%20%20%3Clink%20rel%3D%22stylesheet%22%20href%3D%22https%3A//maxcdn.bootstrapcdn.com/bootstrap/3.2.0/css/bootstrap.min.css%22/%3E%0A%20%20%20%20%3Clink%20rel%3D%22stylesheet%22%20href%3D%22https%3A//maxcdn.bootstrapcdn.com/bootstrap/3.2.0/css/bootstrap-theme.min.css%22/%3E%0A%20%20%20%20%3Clink%20rel%3D%22stylesheet%22%20href%3D%22https%3A//maxcdn.bootstrapcdn.com/font-awesome/4.6.3/css/font-awesome.min.css%22/%3E%0A%20%20%20%20%3Clink%20rel%3D%22stylesheet%22%20href%3D%22https%3A//cdnjs.cloudflare.com/ajax/libs/Leaflet.awesome-markers/2.0.2/leaflet.awesome-markers.css%22/%3E%0A%20%20%20%20%3Clink%20rel%3D%22stylesheet%22%20href%3D%22https%3A//cdn.jsdelivr.net/gh/python-visualization/folium/folium/templates/leaflet.awesome.rotate.min.css%22/%3E%0A%20%20%20%20%0A%20%20%20%20%20%20%20%20%20%20%20%20%3Cmeta%20name%3D%22viewport%22%20content%3D%22width%3Ddevice-width%2C%0A%20%20%20%20%20%20%20%20%20%20%20%20%20%20%20%20initial-scale%3D1.0%2C%20maximum-scale%3D1.0%2C%20user-scalable%3Dno%22%20/%3E%0A%20%20%20%20%20%20%20%20%20%20%20%20%3Cstyle%3E%0A%20%20%20%20%20%20%20%20%20%20%20%20%20%20%20%20%23map_af02a86fcf884b4e93752afa4186cb58%20%7B%0A%20%20%20%20%20%20%20%20%20%20%20%20%20%20%20%20%20%20%20%20position%3A%20relative%3B%0A%20%20%20%20%20%20%20%20%20%20%20%20%20%20%20%20%20%20%20%20width%3A%20100.0%25%3B%0A%20%20%20%20%20%20%20%20%20%20%20%20%20%20%20%20%20%20%20%20height%3A%20100.0%25%3B%0A%20%20%20%20%20%20%20%20%20%20%20%20%20%20%20%20%20%20%20%20left%3A%200.0%25%3B%0A%20%20%20%20%20%20%20%20%20%20%20%20%20%20%20%20%20%20%20%20top%3A%200.0%25%3B%0A%20%20%20%20%20%20%20%20%20%20%20%20%20%20%20%20%7D%0A%20%20%20%20%20%20%20%20%20%20%20%20%3C/style%3E%0A%20%20%20%20%20%20%20%20%0A%20%20%20%20%0A%20%20%20%20%20%20%20%20%20%20%20%20%20%20%20%20%20%20%20%20%3Cstyle%3E%0A%20%20%20%20%20%20%20%20%20%20%20%20%20%20%20%20%20%20%20%20%20%20%20%20.foliumtooltip%20%7B%0A%20%20%20%20%20%20%20%20%20%20%20%20%20%20%20%20%20%20%20%20%20%20%20%20%20%20%20%20%0A%20%20%20%20%20%20%20%20%20%20%20%20%20%20%20%20%20%20%20%20%20%20%20%20%7D%0A%20%20%20%20%20%20%20%20%20%20%20%20%20%20%20%20%20%20%20%20%20%20%20.foliumtooltip%20table%7B%0A%20%20%20%20%20%20%20%20%20%20%20%20%20%20%20%20%20%20%20%20%20%20%20%20%20%20%20%20margin%3A%20auto%3B%0A%20%20%20%20%20%20%20%20%20%20%20%20%20%20%20%20%20%20%20%20%20%20%20%20%7D%0A%20%20%20%20%20%20%20%20%20%20%20%20%20%20%20%20%20%20%20%20%20%20%20%20.foliumtooltip%20tr%7B%0A%20%20%20%20%20%20%20%20%20%20%20%20%20%20%20%20%20%20%20%20%20%20%20%20%20%20%20%20text-align%3A%20left%3B%0A%20%20%20%20%20%20%20%20%20%20%20%20%20%20%20%20%20%20%20%20%20%20%20%20%7D%0A%20%20%20%20%20%20%20%20%20%20%20%20%20%20%20%20%20%20%20%20%20%20%20%20.foliumtooltip%20th%7B%0A%20%20%20%20%20%20%20%20%20%20%20%20%20%20%20%20%20%20%20%20%20%20%20%20%20%20%20%20padding%3A%202px%3B%20padding-right%3A%208px%3B%0A%20%20%20%20%20%20%20%20%20%20%20%20%20%20%20%20%20%20%20%20%20%20%20%20%7D%0A%20%20%20%20%20%20%20%20%20%20%20%20%20%20%20%20%20%20%20%20%3C/style%3E%0A%20%20%20%20%20%20%20%20%20%20%20%20%0A%20%20%20%20%0A%20%20%20%20%3Cscript%20src%3D%22https%3A//code.jquery.com/ui/1.12.1/jquery-ui.js%22%3E%3C/script%3E%0A%20%20%20%20%3Cscript%3E%24%28%20function%28%29%20%7B%0A%20%20%20%20%20%20%20%20%24%28%20%22.maplegend%22%20%29.draggable%28%7B%0A%20%20%20%20%20%20%20%20%20%20%20%20start%3A%20function%20%28event%2C%20ui%29%20%7B%0A%20%20%20%20%20%20%20%20%20%20%20%20%20%20%20%20%24%28this%29.css%28%7B%0A%20%20%20%20%20%20%20%20%20%20%20%20%20%20%20%20%20%20%20%20right%3A%20%22auto%22%2C%0A%20%20%20%20%20%20%20%20%20%20%20%20%20%20%20%20%20%20%20%20top%3A%20%22auto%22%2C%0A%20%20%20%20%20%20%20%20%20%20%20%20%20%20%20%20%20%20%20%20bottom%3A%20%22auto%22%0A%20%20%20%20%20%20%20%20%20%20%20%20%20%20%20%20%7D%29%3B%0A%20%20%20%20%20%20%20%20%20%20%20%20%7D%0A%20%20%20%20%20%20%20%20%7D%29%3B%0A%20%20%20%20%7D%29%3B%0A%20%20%20%20%3C/script%3E%0A%20%20%20%20%3Cstyle%20type%3D%27text/css%27%3E%0A%20%20%20%20%20%20.maplegend%20%7B%0A%20%20%20%20%20%20%20%20position%3A%20absolute%3B%0A%20%20%20%20%20%20%20%20z-index%3A9999%3B%0A%20%20%20%20%20%20%20%20background-color%3A%20rgba%28255%2C%20255%2C%20255%2C%20.8%29%3B%0A%20%20%20%20%20%20%20%20border-radius%3A%205px%3B%0A%20%20%20%20%20%20%20%20box-shadow%3A%200%200%2015px%20rgba%280%2C0%2C0%2C0.2%29%3B%0A%20%20%20%20%20%20%20%20padding%3A%2010px%3B%0A%20%20%20%20%20%20%20%20font%3A%2012px/14px%20Arial%2C%20Helvetica%2C%20sans-serif%3B%0A%20%20%20%20%20%20%20%20right%3A%2010px%3B%0A%20%20%20%20%20%20%20%20bottom%3A%2020px%3B%0A%20%20%20%20%20%20%7D%0A%20%20%20%20%20%20.maplegend%20.legend-title%20%7B%0A%20%20%20%20%20%20%20%20text-align%3A%20left%3B%0A%20%20%20%20%20%20%20%20margin-bottom%3A%205px%3B%0A%20%20%20%20%20%20%20%20font-weight%3A%20bold%3B%0A%20%20%20%20%20%20%20%20%7D%0A%20%20%20%20%20%20.maplegend%20.legend-scale%20ul%20%7B%0A%20%20%20%20%20%20%20%20margin%3A%200%3B%0A%20%20%20%20%20%20%20%20margin-bottom%3A%200px%3B%0A%20%20%20%20%20%20%20%20padding%3A%200%3B%0A%20%20%20%20%20%20%20%20float%3A%20left%3B%0A%20%20%20%20%20%20%20%20list-style%3A%20none%3B%0A%20%20%20%20%20%20%20%20%7D%0A%20%20%20%20%20%20.maplegend%20.legend-scale%20ul%20li%20%7B%0A%20%20%20%20%20%20%20%20list-style%3A%20none%3B%0A%20%20%20%20%20%20%20%20margin-left%3A%200%3B%0A%20%20%20%20%20%20%20%20line-height%3A%2016px%3B%0A%20%20%20%20%20%20%20%20margin-bottom%3A%202px%3B%0A%20%20%20%20%20%20%20%20%7D%0A%20%20%20%20%20%20.maplegend%20ul.legend-labels%20li%20span%20%7B%0A%20%20%20%20%20%20%20%20display%3A%20block%3B%0A%20%20%20%20%20%20%20%20float%3A%20left%3B%0A%20%20%20%20%20%20%20%20height%3A%2014px%3B%0A%20%20%20%20%20%20%20%20width%3A%2014px%3B%0A%20%20%20%20%20%20%20%20margin-right%3A%205px%3B%0A%20%20%20%20%20%20%20%20margin-left%3A%200%3B%0A%20%20%20%20%20%20%20%20border%3A%200px%20solid%20%23ccc%3B%0A%20%20%20%20%20%20%20%20%7D%0A%20%20%20%20%20%20.maplegend%20.legend-source%20%7B%0A%20%20%20%20%20%20%20%20color%3A%20%23777%3B%0A%20%20%20%20%20%20%20%20clear%3A%20both%3B%0A%20%20%20%20%20%20%20%20%7D%0A%20%20%20%20%20%20.maplegend%20a%20%7B%0A%20%20%20%20%20%20%20%20color%3A%20%23777%3B%0A%20%20%20%20%20%20%20%20%7D%0A%20%20%20%20%3C/style%3E%0A%20%20%20%20%0A%3C/head%3E%0A%3Cbody%3E%20%20%20%20%0A%20%20%20%20%0A%20%20%20%20%3Cdiv%20id%3D%27maplegend%20stop_name%27%20class%3D%27maplegend%27%3E%0A%20%20%20%20%20%20%20%20%3Cdiv%20class%3D%27legend-title%27%3Estop_name%3C/div%3E%0A%20%20%20%20%20%20%20%20%3Cdiv%20class%3D%27legend-scale%27%3E%0A%20%20%20%20%20%20%20%20%20%20%20%20%3Cul%20class%3D%27legend-labels%27%3E%0A%20%20%20%20%20%20%20%20%20%20%20%20%20%20%20%20%3Cli%3E%3Cspan%20style%3D%27background%3A%231f77b4%27%3E%3C/span%3ECasa%20De%20Los%20Flores%3C/li%3E%0A%20%20%20%20%20%20%20%20%20%20%20%20%20%20%20%20%3Cli%3E%3Cspan%20style%3D%27background%3A%232ca02c%27%3E%3C/span%3EEast%20Valley%20%26%20Lilac%3C/li%3E%0A%20%20%20%20%20%20%20%20%20%20%20%20%20%20%20%20%3Cli%3E%3Cspan%20style%3D%27background%3A%239467bd%27%3E%3C/span%3ELillie%20%26%20Valencia%3C/li%3E%0A%20%20%20%20%20%20%20%20%20%20%20%20%20%20%20%20%3Cli%3E%3Cspan%20style%3D%27background%3A%23e377c2%27%3E%3C/span%3EVia%20Real%20%26%20Gallup%20%26%20Stribling%3C/li%3E%0A%20%20%20%20%20%20%20%20%20%20%20%20%20%20%20%20%3Cli%3E%3Cspan%20style%3D%27background%3A%23bcbd22%27%3E%3C/span%3EVia%20Real%20%26%20Nidever%3C/li%3E%0A%20%20%20%20%20%20%20%20%20%20%20%20%20%20%20%20%3Cli%3E%3Cspan%20style%3D%27background%3A%239edae5%27%3E%3C/span%3EVia%20Real%20%26%20Via%20Real%20Flowers%20%233896%3C/li%3E%0A%20%20%20%20%20%20%20%20%20%20%20%20%3C/ul%3E%0A%20%20%20%20%20%20%20%20%3C/div%3E%0A%20%20%20%20%3C/div%3E%0A%20%20%20%20%0A%20%20%20%20%0A%20%20%20%20%20%20%20%20%20%20%20%20%3Cdiv%20class%3D%22folium-map%22%20id%3D%22map_af02a86fcf884b4e93752afa4186cb58%22%20%3E%3C/div%3E%0A%20%20%20%20%20%20%20%20%0A%3C/body%3E%0A%3Cscript%3E%20%20%20%20%0A%20%20%20%20%0A%20%20%20%20%20%20%20%20%20%20%20%20var%20map_af02a86fcf884b4e93752afa4186cb58%20%3D%20L.map%28%0A%20%20%20%20%20%20%20%20%20%20%20%20%20%20%20%20%22map_af02a86fcf884b4e93752afa4186cb58%22%2C%0A%20%20%20%20%20%20%20%20%20%20%20%20%20%20%20%20%7B%0A%20%20%20%20%20%20%20%20%20%20%20%20%20%20%20%20%20%20%20%20center%3A%20%5B34.421617%2C%20-119.57256000000001%5D%2C%0A%20%20%20%20%20%20%20%20%20%20%20%20%20%20%20%20%20%20%20%20crs%3A%20L.CRS.EPSG3857%2C%0A%20%20%20%20%20%20%20%20%20%20%20%20%20%20%20%20%20%20%20%20zoom%3A%2010%2C%0A%20%20%20%20%20%20%20%20%20%20%20%20%20%20%20%20%20%20%20%20zoomControl%3A%20true%2C%0A%20%20%20%20%20%20%20%20%20%20%20%20%20%20%20%20%20%20%20%20preferCanvas%3A%20false%2C%0A%20%20%20%20%20%20%20%20%20%20%20%20%20%20%20%20%7D%0A%20%20%20%20%20%20%20%20%20%20%20%20%29%3B%0A%20%20%20%20%20%20%20%20%20%20%20%20L.control.scale%28%29.addTo%28map_af02a86fcf884b4e93752afa4186cb58%29%3B%0A%0A%20%20%20%20%20%20%20%20%20%20%20%20%0A%0A%20%20%20%20%20%20%20%20%0A%20%20%20%20%0A%20%20%20%20%20%20%20%20%20%20%20%20var%20tile_layer_9dd51a60198449ddaad5fc28f35e97d2%20%3D%20L.tileLayer%28%0A%20%20%20%20%20%20%20%20%20%20%20%20%20%20%20%20%22https%3A//%7Bs%7D.tile.openstreetmap.org/%7Bz%7D/%7Bx%7D/%7By%7D.png%22%2C%0A%20%20%20%20%20%20%20%20%20%20%20%20%20%20%20%20%7B%22attribution%22%3A%20%22Data%20by%20%5Cu0026copy%3B%20%5Cu003ca%20href%3D%5C%22http%3A//openstreetmap.org%5C%22%5Cu003eOpenStreetMap%5Cu003c/a%5Cu003e%2C%20under%20%5Cu003ca%20href%3D%5C%22http%3A//www.openstreetmap.org/copyright%5C%22%5Cu003eODbL%5Cu003c/a%5Cu003e.%22%2C%20%22detectRetina%22%3A%20false%2C%20%22maxNativeZoom%22%3A%2018%2C%20%22maxZoom%22%3A%2018%2C%20%22minZoom%22%3A%200%2C%20%22noWrap%22%3A%20false%2C%20%22opacity%22%3A%201%2C%20%22subdomains%22%3A%20%22abc%22%2C%20%22tms%22%3A%20false%7D%0A%20%20%20%20%20%20%20%20%20%20%20%20%29.addTo%28map_af02a86fcf884b4e93752afa4186cb58%29%3B%0A%20%20%20%20%20%20%20%20%0A%20%20%20%20%0A%20%20%20%20%20%20%20%20%20%20%20%20map_af02a86fcf884b4e93752afa4186cb58.fitBounds%28%0A%20%20%20%20%20%20%20%20%20%20%20%20%20%20%20%20%5B%5B34.405118%2C%20-119.610185%5D%2C%20%5B34.438116%2C%20-119.534935%5D%5D%2C%0A%20%20%20%20%20%20%20%20%20%20%20%20%20%20%20%20%7B%7D%0A%20%20%20%20%20%20%20%20%20%20%20%20%29%3B%0A%20%20%20%20%20%20%20%20%0A%20%20%20%20%0A%20%20%20%20%20%20%20%20function%20geo_json_614d49b33dcf40059d3b7648c4cefa7f_styler%28feature%29%20%7B%0A%20%20%20%20%20%20%20%20%20%20%20%20switch%28feature.id%29%20%7B%0A%20%20%20%20%20%20%20%20%20%20%20%20%20%20%20%20case%20%220%22%3A%20%0A%20%20%20%20%20%20%20%20%20%20%20%20%20%20%20%20%20%20%20%20return%20%7B%22color%22%3A%20%22%232ca02c%22%2C%20%22fillColor%22%3A%20%22%232ca02c%22%2C%20%22fillOpacity%22%3A%200.5%2C%20%22weight%22%3A%202%7D%3B%0A%20%20%20%20%20%20%20%20%20%20%20%20%20%20%20%20case%20%221%22%3A%20%0A%20%20%20%20%20%20%20%20%20%20%20%20%20%20%20%20%20%20%20%20return%20%7B%22color%22%3A%20%22%239467bd%22%2C%20%22fillColor%22%3A%20%22%239467bd%22%2C%20%22fillOpacity%22%3A%200.5%2C%20%22weight%22%3A%202%7D%3B%0A%20%20%20%20%20%20%20%20%20%20%20%20%20%20%20%20case%20%223%22%3A%20%0A%20%20%20%20%20%20%20%20%20%20%20%20%20%20%20%20%20%20%20%20return%20%7B%22color%22%3A%20%22%239edae5%22%2C%20%22fillColor%22%3A%20%22%239edae5%22%2C%20%22fillOpacity%22%3A%200.5%2C%20%22weight%22%3A%202%7D%3B%0A%20%20%20%20%20%20%20%20%20%20%20%20%20%20%20%20case%20%224%22%3A%20%0A%20%20%20%20%20%20%20%20%20%20%20%20%20%20%20%20%20%20%20%20return%20%7B%22color%22%3A%20%22%23bcbd22%22%2C%20%22fillColor%22%3A%20%22%23bcbd22%22%2C%20%22fillOpacity%22%3A%200.5%2C%20%22weight%22%3A%202%7D%3B%0A%20%20%20%20%20%20%20%20%20%20%20%20%20%20%20%20case%20%225%22%3A%20%0A%20%20%20%20%20%20%20%20%20%20%20%20%20%20%20%20%20%20%20%20return%20%7B%22color%22%3A%20%22%231f77b4%22%2C%20%22fillColor%22%3A%20%22%231f77b4%22%2C%20%22fillOpacity%22%3A%200.5%2C%20%22weight%22%3A%202%7D%3B%0A%20%20%20%20%20%20%20%20%20%20%20%20%20%20%20%20default%3A%0A%20%20%20%20%20%20%20%20%20%20%20%20%20%20%20%20%20%20%20%20return%20%7B%22color%22%3A%20%22%23e377c2%22%2C%20%22fillColor%22%3A%20%22%23e377c2%22%2C%20%22fillOpacity%22%3A%200.5%2C%20%22weight%22%3A%202%7D%3B%0A%20%20%20%20%20%20%20%20%20%20%20%20%7D%0A%20%20%20%20%20%20%20%20%7D%0A%20%20%20%20%20%20%20%20function%20geo_json_614d49b33dcf40059d3b7648c4cefa7f_highlighter%28feature%29%20%7B%0A%20%20%20%20%20%20%20%20%20%20%20%20switch%28feature.id%29%20%7B%0A%20%20%20%20%20%20%20%20%20%20%20%20%20%20%20%20default%3A%0A%20%20%20%20%20%20%20%20%20%20%20%20%20%20%20%20%20%20%20%20return%20%7B%22fillOpacity%22%3A%200.75%7D%3B%0A%20%20%20%20%20%20%20%20%20%20%20%20%7D%0A%20%20%20%20%20%20%20%20%7D%0A%20%20%20%20%20%20%20%20function%20geo_json_614d49b33dcf40059d3b7648c4cefa7f_pointToLayer%28feature%2C%20latlng%29%20%7B%0A%20%20%20%20%20%20%20%20%20%20%20%20var%20opts%20%3D%20%7B%22bubblingMouseEvents%22%3A%20true%2C%20%22color%22%3A%20%22%233388ff%22%2C%20%22dashArray%22%3A%20null%2C%20%22dashOffset%22%3A%20null%2C%20%22fill%22%3A%20true%2C%20%22fillColor%22%3A%20%22%233388ff%22%2C%20%22fillOpacity%22%3A%200.2%2C%20%22fillRule%22%3A%20%22evenodd%22%2C%20%22lineCap%22%3A%20%22round%22%2C%20%22lineJoin%22%3A%20%22round%22%2C%20%22opacity%22%3A%201.0%2C%20%22radius%22%3A%202%2C%20%22stroke%22%3A%20true%2C%20%22weight%22%3A%203%7D%3B%0A%20%20%20%20%20%20%20%20%20%20%20%20%0A%20%20%20%20%20%20%20%20%20%20%20%20let%20style%20%3D%20geo_json_614d49b33dcf40059d3b7648c4cefa7f_styler%28feature%29%0A%20%20%20%20%20%20%20%20%20%20%20%20Object.assign%28opts%2C%20style%29%0A%20%20%20%20%20%20%20%20%20%20%20%20%0A%20%20%20%20%20%20%20%20%20%20%20%20return%20new%20L.CircleMarker%28latlng%2C%20opts%29%0A%20%20%20%20%20%20%20%20%7D%0A%0A%20%20%20%20%20%20%20%20function%20geo_json_614d49b33dcf40059d3b7648c4cefa7f_onEachFeature%28feature%2C%20layer%29%20%7B%0A%20%20%20%20%20%20%20%20%20%20%20%20layer.on%28%7B%0A%20%20%20%20%20%20%20%20%20%20%20%20%20%20%20%20mouseout%3A%20function%28e%29%20%7B%0A%20%20%20%20%20%20%20%20%20%20%20%20%20%20%20%20%20%20%20%20if%28typeof%20e.target.setStyle%20%3D%3D%3D%20%22function%22%29%7B%0A%20%20%20%20%20%20%20%20%20%20%20%20%20%20%20%20%20%20%20%20%20%20%20%20geo_json_614d49b33dcf40059d3b7648c4cefa7f.resetStyle%28e.target%29%3B%0A%20%20%20%20%20%20%20%20%20%20%20%20%20%20%20%20%20%20%20%20%7D%0A%20%20%20%20%20%20%20%20%20%20%20%20%20%20%20%20%7D%2C%0A%20%20%20%20%20%20%20%20%20%20%20%20%20%20%20%20mouseover%3A%20function%28e%29%20%7B%0A%20%20%20%20%20%20%20%20%20%20%20%20%20%20%20%20%20%20%20%20if%28typeof%20e.target.setStyle%20%3D%3D%3D%20%22function%22%29%7B%0A%20%20%20%20%20%20%20%20%20%20%20%20%20%20%20%20%20%20%20%20%20%20%20%20const%20highlightStyle%20%3D%20geo_json_614d49b33dcf40059d3b7648c4cefa7f_highlighter%28e.target.feature%29%0A%20%20%20%20%20%20%20%20%20%20%20%20%20%20%20%20%20%20%20%20%20%20%20%20e.target.setStyle%28highlightStyle%29%3B%0A%20%20%20%20%20%20%20%20%20%20%20%20%20%20%20%20%20%20%20%20%7D%0A%20%20%20%20%20%20%20%20%20%20%20%20%20%20%20%20%7D%2C%0A%20%20%20%20%20%20%20%20%20%20%20%20%7D%29%3B%0A%20%20%20%20%20%20%20%20%7D%3B%0A%20%20%20%20%20%20%20%20var%20geo_json_614d49b33dcf40059d3b7648c4cefa7f%20%3D%20L.geoJson%28null%2C%20%7B%0A%20%20%20%20%20%20%20%20%20%20%20%20%20%20%20%20onEachFeature%3A%20geo_json_614d49b33dcf40059d3b7648c4cefa7f_onEachFeature%2C%0A%20%20%20%20%20%20%20%20%20%20%20%20%0A%20%20%20%20%20%20%20%20%20%20%20%20%20%20%20%20style%3A%20geo_json_614d49b33dcf40059d3b7648c4cefa7f_styler%2C%0A%20%20%20%20%20%20%20%20%20%20%20%20%20%20%20%20pointToLayer%3A%20geo_json_614d49b33dcf40059d3b7648c4cefa7f_pointToLayer%0A%20%20%20%20%20%20%20%20%7D%29%3B%0A%0A%20%20%20%20%20%20%20%20function%20geo_json_614d49b33dcf40059d3b7648c4cefa7f_add%20%28data%29%20%7B%0A%20%20%20%20%20%20%20%20%20%20%20%20geo_json_614d49b33dcf40059d3b7648c4cefa7f%0A%20%20%20%20%20%20%20%20%20%20%20%20%20%20%20%20.addData%28data%29%0A%20%20%20%20%20%20%20%20%20%20%20%20%20%20%20%20.addTo%28map_af02a86fcf884b4e93752afa4186cb58%29%3B%0A%20%20%20%20%20%20%20%20%7D%0A%20%20%20%20%20%20%20%20%20%20%20%20geo_json_614d49b33dcf40059d3b7648c4cefa7f_add%28%7B%22bbox%22%3A%20%5B-119.610185%2C%2034.405118%2C%20-119.534935%2C%2034.438116%5D%2C%20%22features%22%3A%20%5B%7B%22bbox%22%3A%20%5B-119.610185%2C%2034.438116%2C%20-119.610185%2C%2034.438116%5D%2C%20%22geometry%22%3A%20%7B%22coordinates%22%3A%20%5B-119.610185%2C%2034.438116%5D%2C%20%22type%22%3A%20%22Point%22%7D%2C%20%22id%22%3A%20%220%22%2C%20%22properties%22%3A%20%7B%22__folium_color%22%3A%20%22%232ca02c%22%2C%20%22agency%22%3A%20%22Santa%20Barbara%20Metropolitan%20Transit%20District%22%2C%20%22distance_ft%22%3A%2056.046766027149204%2C%20%22index%22%3A%205307%2C%20%22lat%22%3A%2034.438116%2C%20%22lon%22%3A%20-119.610185%2C%20%22same_stop%22%3A%20%22not_match%22%2C%20%22stop_id%22%3A%20%22508%22%2C%20%22stop_name%22%3A%20%22East%20Valley%20%5Cu0026%20Lilac%22%7D%2C%20%22type%22%3A%20%22Feature%22%7D%2C%20%7B%22bbox%22%3A%20%5B-119.59692%2C%2034.420477%2C%20-119.59692%2C%2034.420477%5D%2C%20%22geometry%22%3A%20%7B%22coordinates%22%3A%20%5B-119.59692%2C%2034.420477%5D%2C%20%22type%22%3A%20%22Point%22%7D%2C%20%22id%22%3A%20%221%22%2C%20%22properties%22%3A%20%7B%22__folium_color%22%3A%20%22%239467bd%22%2C%20%22agency%22%3A%20%22Santa%20Barbara%20Metropolitan%20Transit%20District%22%2C%20%22distance_ft%22%3A%20137.00537191928433%2C%20%22index%22%3A%205315%2C%20%22lat%22%3A%2034.420477%2C%20%22lon%22%3A%20-119.59692%2C%20%22same_stop%22%3A%20%22not_match%22%2C%20%22stop_id%22%3A%20%22296%22%2C%20%22stop_name%22%3A%20%22Lillie%20%5Cu0026%20Valencia%22%7D%2C%20%22type%22%3A%20%22Feature%22%7D%2C%20%7B%22bbox%22%3A%20%5B-119.557456%2C%2034.414723%2C%20-119.557456%2C%2034.414723%5D%2C%20%22geometry%22%3A%20%7B%22coordinates%22%3A%20%5B-119.557456%2C%2034.414723%5D%2C%20%22type%22%3A%20%22Point%22%7D%2C%20%22id%22%3A%20%222%22%2C%20%22properties%22%3A%20%7B%22__folium_color%22%3A%20%22%23e377c2%22%2C%20%22agency%22%3A%20%22Santa%20Barbara%20Metropolitan%20Transit%20District%22%2C%20%22distance_ft%22%3A%2086.68665363995694%2C%20%22index%22%3A%205318%2C%20%22lat%22%3A%2034.414723%2C%20%22lon%22%3A%20-119.557456%2C%20%22same_stop%22%3A%20%22not_match%22%2C%20%22stop_id%22%3A%20%22303%22%2C%20%22stop_name%22%3A%20%22Via%20Real%20%5Cu0026%20Gallup%20%5Cu0026%20Stribling%22%7D%2C%20%22type%22%3A%20%22Feature%22%7D%2C%20%7B%22bbox%22%3A%20%5B-119.547339%2C%2034.407072%2C%20-119.547339%2C%2034.407072%5D%2C%20%22geometry%22%3A%20%7B%22coordinates%22%3A%20%5B-119.547339%2C%2034.407072%5D%2C%20%22type%22%3A%20%22Point%22%7D%2C%20%22id%22%3A%20%223%22%2C%20%22properties%22%3A%20%7B%22__folium_color%22%3A%20%22%239edae5%22%2C%20%22agency%22%3A%20%22Santa%20Barbara%20Metropolitan%20Transit%20District%22%2C%20%22distance_ft%22%3A%2053.20294988517524%2C%20%22index%22%3A%205323%2C%20%22lat%22%3A%2034.407072%2C%20%22lon%22%3A%20-119.547339%2C%20%22same_stop%22%3A%20%22not_match%22%2C%20%22stop_id%22%3A%20%22610%22%2C%20%22stop_name%22%3A%20%22Via%20Real%20%5Cu0026%20Via%20Real%20Flowers%20%233896%22%7D%2C%20%22type%22%3A%20%22Feature%22%7D%2C%20%7B%22bbox%22%3A%20%5B-119.56145%2C%2034.416497%2C%20-119.56145%2C%2034.416497%5D%2C%20%22geometry%22%3A%20%7B%22coordinates%22%3A%20%5B-119.56145%2C%2034.416497%5D%2C%20%22type%22%3A%20%22Point%22%7D%2C%20%22id%22%3A%20%224%22%2C%20%22properties%22%3A%20%7B%22__folium_color%22%3A%20%22%23bcbd22%22%2C%20%22agency%22%3A%20%22Santa%20Barbara%20Metropolitan%20Transit%20District%22%2C%20%22distance_ft%22%3A%20344.59766535122577%2C%20%22index%22%3A%205324%2C%20%22lat%22%3A%2034.416497%2C%20%22lon%22%3A%20-119.56145%2C%20%22same_stop%22%3A%20%22not_match%22%2C%20%22stop_id%22%3A%20%22611%22%2C%20%22stop_name%22%3A%20%22Via%20Real%20%5Cu0026%20Nidever%22%7D%2C%20%22type%22%3A%20%22Feature%22%7D%2C%20%7B%22bbox%22%3A%20%5B-119.534935%2C%2034.405118%2C%20-119.534935%2C%2034.405118%5D%2C%20%22geometry%22%3A%20%7B%22coordinates%22%3A%20%5B-119.534935%2C%2034.405118%5D%2C%20%22type%22%3A%20%22Point%22%7D%2C%20%22id%22%3A%20%225%22%2C%20%22properties%22%3A%20%7B%22__folium_color%22%3A%20%22%231f77b4%22%2C%20%22agency%22%3A%20%22Santa%20Barbara%20Metropolitan%20Transit%20District%22%2C%20%22distance_ft%22%3A%20168.62536062236808%2C%20%22index%22%3A%205328%2C%20%22lat%22%3A%2034.405118%2C%20%22lon%22%3A%20-119.534935%2C%20%22same_stop%22%3A%20%22not_match%22%2C%20%22stop_id%22%3A%20%22618%22%2C%20%22stop_name%22%3A%20%22Casa%20De%20Los%20Flores%22%7D%2C%20%22type%22%3A%20%22Feature%22%7D%5D%2C%20%22type%22%3A%20%22FeatureCollection%22%7D%29%3B%0A%0A%20%20%20%20%20%20%20%20%0A%20%20%20%20%0A%20%20%20%20geo_json_614d49b33dcf40059d3b7648c4cefa7f.bindTooltip%28%0A%20%20%20%20function%28layer%29%7B%0A%20%20%20%20let%20div%20%3D%20L.DomUtil.create%28%27div%27%29%3B%0A%20%20%20%20%0A%20%20%20%20let%20handleObject%20%3D%20feature%3D%3Etypeof%28feature%29%3D%3D%27object%27%20%3F%20JSON.stringify%28feature%29%20%3A%20feature%3B%0A%20%20%20%20let%20fields%20%3D%20%5B%22index%22%2C%20%22agency%22%2C%20%22stop_id%22%2C%20%22stop_name%22%2C%20%22lon%22%2C%20%22lat%22%2C%20%22distance_ft%22%2C%20%22same_stop%22%5D%3B%0A%20%20%20%20let%20aliases%20%3D%20%5B%22index%22%2C%20%22agency%22%2C%20%22stop_id%22%2C%20%22stop_name%22%2C%20%22lon%22%2C%20%22lat%22%2C%20%22distance_ft%22%2C%20%22same_stop%22%5D%3B%0A%20%20%20%20let%20table%20%3D%20%27%3Ctable%3E%27%20%2B%0A%20%20%20%20%20%20%20%20String%28%0A%20%20%20%20%20%20%20%20fields.map%28%0A%20%20%20%20%20%20%20%20%28v%2Ci%29%3D%3E%0A%20%20%20%20%20%20%20%20%60%3Ctr%3E%0A%20%20%20%20%20%20%20%20%20%20%20%20%3Cth%3E%24%7Baliases%5Bi%5D%7D%3C/th%3E%0A%20%20%20%20%20%20%20%20%20%20%20%20%0A%20%20%20%20%20%20%20%20%20%20%20%20%3Ctd%3E%24%7BhandleObject%28layer.feature.properties%5Bv%5D%29%7D%3C/td%3E%0A%20%20%20%20%20%20%20%20%3C/tr%3E%60%29.join%28%27%27%29%29%0A%20%20%20%20%2B%27%3C/table%3E%27%3B%0A%20%20%20%20div.innerHTML%3Dtable%3B%0A%20%20%20%20%0A%20%20%20%20return%20div%0A%20%20%20%20%7D%0A%20%20%20%20%2C%7B%22className%22%3A%20%22foliumtooltip%22%2C%20%22sticky%22%3A%20true%7D%29%3B%0A%20%20%20%20%20%20%20%20%20%20%20%20%20%20%20%20%20%20%20%20%20%0A%3C/script%3E onload=\"this.contentDocument.open();this.contentDocument.write(    decodeURIComponent(this.getAttribute('data-html')));this.contentDocument.close();\" allowfullscreen webkitallowfullscreen mozallowfullscreen></iframe></div></div>"
      ],
      "text/plain": [
       "<folium.folium.Map at 0x7951a34c1250>"
      ]
     },
     "execution_count": 19,
     "metadata": {},
     "output_type": "execute_result"
    }
   ],
   "source": [
    "# Visualize stops on map\n",
    "\n",
    "different_stop.explore('stop_name')"
   ]
  },
  {
   "cell_type": "code",
   "execution_count": null,
   "id": "42d90b04-e647-4d93-b211-ebcd60849134",
   "metadata": {},
   "outputs": [],
   "source": []
  },
  {
   "cell_type": "code",
   "execution_count": null,
   "id": "6e85d347-79a6-4a96-be28-86fbc552c868",
   "metadata": {},
   "outputs": [],
   "source": []
  },
  {
   "cell_type": "code",
   "execution_count": null,
   "id": "5e4a661d-0d5c-45d1-beab-48fd3023ae4f",
   "metadata": {},
   "outputs": [],
   "source": []
  },
  {
   "cell_type": "code",
   "execution_count": null,
   "id": "ce3db5ad-3c1c-459d-b4f1-ad31cafa4820",
   "metadata": {},
   "outputs": [],
   "source": [
    "#Tiffany work\n",
    "stan_diss = stanislaus_gdf[[\"geometry\"]].dissolve().reset_index()\n",
    "stan_diss"
   ]
  },
  {
   "cell_type": "code",
   "execution_count": null,
   "id": "e39c08fa-b683-4cd2-af83-8ec0e5481bbd",
   "metadata": {},
   "outputs": [],
   "source": [
    "#Tiffany work\n",
    "for row in ca_stanislaus_gdf.head().itertuples():\n",
    "    this_stop_geom = getattr(row, \"geometry\").to_crs(\"EPSG:2229\")\n",
    "    my_distance = this_stop_geom.distance(stan_diss.geometry.to_crs(\"EPSG:2229\"))\n",
    "    print(my_distance)"
   ]
  },
  {
   "cell_type": "code",
   "execution_count": null,
   "id": "621fab53-abe1-41f7-92b6-853fe6d64563",
   "metadata": {},
   "outputs": [],
   "source": [
    "#Tiffany work\n",
    "l = []\n",
    "ca_stanislaus_gdf = ca_stanislaus_gdf.to_crs()\n",
    "stan_diss = stan_diss.to_crs()\n",
    "for row in ca_stanislaus_gdf.itertuples():\n",
    "        this_stop_geom = getattr(row, \"geometry\")\n",
    "        my_distance = this_stop_distance(stan_diss.geometry)\n",
    "        l.append(my_distance)"
   ]
  },
  {
   "cell_type": "code",
   "execution_count": null,
   "id": "2ba9a9a5-9fcd-4b13-9305-b208d19a7c6d",
   "metadata": {},
   "outputs": [],
   "source": [
    "#Tiffany work\n",
    "ca_stanislaus_gdf[\"distance_feet\"] = l"
   ]
  },
  {
   "cell_type": "code",
   "execution_count": null,
   "id": "a936544c-8622-4f86-8069-6324e1889c1c",
   "metadata": {},
   "outputs": [],
   "source": [
    "#Cathy work: create a list of all distances\n",
    "\n",
    "l = []\n",
    "\n",
    "ca_geom = ca_stanislaus_gdf.to_crs(\"EPSG:2229\").geometry\n",
    "for i in range(len(stanislaus_gdf['geometry'])):\n",
    "    stanislaus_geom = stanislaus_gdf.to_crs(\"EPSG:2229\").geometry.iloc[i]\n",
    "    distance = stanislaus_geom.distance(ca_geom)\n",
    "    for j in range(len(distance)):\n",
    "        if distance.iloc[j] <= 30:\n",
    "            l.append('match')\n",
    "len(l)     "
   ]
  },
  {
   "cell_type": "code",
   "execution_count": null,
   "id": "5a27c178-0aa1-44f0-808b-dc61ba93a12f",
   "metadata": {},
   "outputs": [],
   "source": []
  },
  {
   "cell_type": "code",
   "execution_count": null,
   "id": "98317e86-d9d2-473f-842d-cb6c865a37fb",
   "metadata": {},
   "outputs": [],
   "source": [
    "join1 = gpd.sjoin(stanislaus_gdf, ca_stanislaus_gdf, how = 'inner', predicate = 'intersects')\n",
    "join1.shape"
   ]
  },
  {
   "cell_type": "code",
   "execution_count": null,
   "id": "96ffc9d1-a178-4889-bd82-65fc321d08b9",
   "metadata": {},
   "outputs": [],
   "source": [
    "join1 = gpd.sjoin(stanislaus_gdf, ca_stanislaus_gdf, how = 'inner', predicate='within')\n",
    "join1.shape\n",
    "#join1.head()"
   ]
  },
  {
   "cell_type": "code",
   "execution_count": null,
   "id": "8d0ad4b6-948b-40f6-b8d9-2380ceee8c89",
   "metadata": {},
   "outputs": [],
   "source": [
    "intersection_overlay = gpd.overlay(\n",
    "    stanislaus_gdf,\n",
    "    ca_stanislaus_gdf,\n",
    "    how = \"intersection\", \n",
    "    keep_geom_type=True\n",
    ")\n",
    "intersection_overlay.shape"
   ]
  },
  {
   "cell_type": "code",
   "execution_count": null,
   "id": "79e547d8-71e8-4302-83c7-16f394022ef4",
   "metadata": {},
   "outputs": [],
   "source": [
    "ca_stanislaus_gdf.explore(tiles=\"CartoDB Positron\")\n",
    "#ca_stanislaus_gdf.explore('stop_name')\n",
    "\n",
    "#ca_stanislaus_gdf.set_geometry(\"geometry\").explore(tiles='CartoDB Positron')\n",
    "#ca_stanislaus_gdf.head(5).explore(tiles=\"CartoDB Positron\")\n",
    "#ca_stanislaus_gdf.head(5).set_geometry(\"geometry_buffered\").explore(tiles='CartoDB Positron')\n",
    "#ca_stanislaus_gdf.head(10).explore('stop_name')"
   ]
  }
 ],
 "metadata": {
  "kernelspec": {
   "display_name": "Python 3 (ipykernel)",
   "language": "python",
   "name": "python3"
  },
  "language_info": {
   "codemirror_mode": {
    "name": "ipython",
    "version": 3
   },
   "file_extension": ".py",
   "mimetype": "text/x-python",
   "name": "python",
   "nbconvert_exporter": "python",
   "pygments_lexer": "ipython3",
   "version": "3.9.13"
  }
 },
 "nbformat": 4,
 "nbformat_minor": 5
}
