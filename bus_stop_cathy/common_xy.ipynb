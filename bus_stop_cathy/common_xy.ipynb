{
 "cells": [
  {
   "cell_type": "code",
   "execution_count": 1,
   "id": "be695c8b-3641-4724-96a7-b1a02f0cabe8",
   "metadata": {},
   "outputs": [],
   "source": [
    "import pandas as pd\n",
    "import numpy as np\n",
    "import matplotlib.pyplot as plt\n",
    "import seaborn as sns\n",
    "import decimal\n",
    "import math"
   ]
  },
  {
   "cell_type": "code",
   "execution_count": 2,
   "id": "434753e1-1b48-4a60-9e49-c1ec35c79637",
   "metadata": {},
   "outputs": [
    {
     "data": {
      "text/plain": [
       "(114, 5)"
      ]
     },
     "execution_count": 2,
     "metadata": {},
     "output_type": "execute_result"
    }
   ],
   "source": [
    "FOLDER = \"../Bus_Stops/\"\n",
    "FILE_NAME = \"ca_stops_revised.csv\"\n",
    "ca = pd.read_csv(f\"{FOLDER}{FILE_NAME}\")\n",
    "\n",
    "# Keep route_type is 3 (bus stops) only\n",
    "keep_row1 = [3]\n",
    "ca1 = ca[ca.route_type.isin(keep_row1)]\n",
    "#ca1.route_type.value_counts()\n",
    "\n",
    "# Keep Agency for Stanislaus county only\n",
    "keep_row2 = ['Stanislaus Regional Transit Authority']\n",
    "ca2 = ca[ca.agency.isin(keep_row2)]\n",
    "ca2.agency.value_counts()\n",
    "\n",
    "# Keep useful columns only\n",
    "keep_col = ['agency', 'stop_id', 'stop_name', 'x', 'y']\n",
    "ca_stanislaus = ca2[keep_col]\n",
    "\n",
    "ca_stanislaus = ca_stanislaus.rename(columns = {'x': 'lon', 'y': 'lat'})\n",
    "\n",
    "# Change stop_id type from object to string\n",
    "#ca_stanislaus = (ca_stanislaus.astype({'stop_name': str}))\n",
    "\n",
    "# Check cleaned data\n",
    "#ca_stanislaus.head()\n",
    "#len(ca_stanislaus['stop_name'])\n",
    "#ca_stanislaus.dtypes\n",
    "#ca_stanislaus.info()\n",
    "ca_stanislaus.shape\n",
    "#ca_stanislaus.describe()\n",
    "#list(ca_stanislaus.stop_name[0:5])"
   ]
  },
  {
   "cell_type": "code",
   "execution_count": 3,
   "id": "0f18805a-32e3-47ca-9272-73c0773483cf",
   "metadata": {},
   "outputs": [
    {
     "data": {
      "text/plain": [
       "(114, 5)"
      ]
     },
     "execution_count": 3,
     "metadata": {},
     "output_type": "execute_result"
    }
   ],
   "source": [
    "ca_stanislaus_no_dup = ca_stanislaus.drop_duplicates(subset = ['lon', 'lat'], keep = 'first')\n",
    "ca_stanislaus_no_dup.shape"
   ]
  },
  {
   "cell_type": "code",
   "execution_count": null,
   "id": "9bf99abc-63b5-4244-99bc-2e202cbdaea2",
   "metadata": {},
   "outputs": [],
   "source": [
    "#ca_stanislaus_no_dup.lon= ca_stanislaus_no_dup.lon.round(5)"
   ]
  },
  {
   "cell_type": "code",
   "execution_count": null,
   "id": "d0d6d19f-a4ee-498b-bd9b-e45a08106750",
   "metadata": {},
   "outputs": [],
   "source": [
    "#ca_stanislaus_no_dup.lat= ca_stanislaus_no_dup.lat.round(5)"
   ]
  },
  {
   "cell_type": "code",
   "execution_count": null,
   "id": "85471427-4fc1-438e-9f95-e9d1ddb28244",
   "metadata": {},
   "outputs": [],
   "source": [
    "#x = 3.56\n",
    "#y = '%.3f'%x\n",
    "#print(y)"
   ]
  },
  {
   "cell_type": "code",
   "execution_count": null,
   "id": "5d8ca955-773f-43ea-9755-60ef2f01aefe",
   "metadata": {},
   "outputs": [],
   "source": [
    "#x = 3.568\n",
    "#y = \"{:.5f}\".format(x)\n",
    "#print(y)"
   ]
  },
  {
   "cell_type": "code",
   "execution_count": null,
   "id": "e27a962d-6035-4627-87ae-cbb959310f74",
   "metadata": {},
   "outputs": [],
   "source": [
    "#def truncate(f, n):\n",
    "    #return math.floor(f * 10 ** n) / 10 ** n\n",
    "#f=1.923328437452\n",
    "#[truncate(f, n) for n in range(7)]\n",
    "#[1.0, 1.9, 1.92, 1.923, 1.9233, 1.92332, 1.923328]\n",
    "#https://stackoverflow.com/questions/29246455/python-setting-decimal-place-range-without-rounding\n",
    "\n",
    "#y = truncate(3.568, 2)\n",
    "#print(y)"
   ]
  },
  {
   "cell_type": "code",
   "execution_count": null,
   "id": "44b29b7c-f4e6-405e-9e76-0f0593358cf3",
   "metadata": {},
   "outputs": [],
   "source": [
    "#x = 3.238\n",
    "##x = float('%.6f'%(x))\n",
    "#x = math.floor(x * 10 ** 2) / 10 ** 2\n",
    "#print(x)"
   ]
  },
  {
   "cell_type": "code",
   "execution_count": 4,
   "id": "e15aca29-5c20-4ca7-8699-7625d9878675",
   "metadata": {},
   "outputs": [],
   "source": [
    "lo = []\n",
    "\n",
    "for x in ca_stanislaus_no_dup.lon:\n",
    "    #x = float('%.6f'%(x))\n",
    "    x = math.floor((-x) * 10 ** 5) / 10 ** 5\n",
    "    lo.append(x)"
   ]
  },
  {
   "cell_type": "code",
   "execution_count": 5,
   "id": "b31c8e3d-128b-4d41-abe0-9e1c403e62cb",
   "metadata": {},
   "outputs": [],
   "source": [
    "la = []\n",
    "\n",
    "for y in ca_stanislaus_no_dup.lat:\n",
    "    #y = float('%.6f'%(y))\n",
    "    y = math.floor(y * 10 ** 5) / 10 ** 5\n",
    "    la.append(y)"
   ]
  },
  {
   "cell_type": "code",
   "execution_count": 6,
   "id": "579940bc-3d6d-4a83-a041-076660ae068c",
   "metadata": {},
   "outputs": [
    {
     "data": {
      "text/html": [
       "<div>\n",
       "<style scoped>\n",
       "    .dataframe tbody tr th:only-of-type {\n",
       "        vertical-align: middle;\n",
       "    }\n",
       "\n",
       "    .dataframe tbody tr th {\n",
       "        vertical-align: top;\n",
       "    }\n",
       "\n",
       "    .dataframe thead th {\n",
       "        text-align: right;\n",
       "    }\n",
       "</style>\n",
       "<table border=\"1\" class=\"dataframe\">\n",
       "  <thead>\n",
       "    <tr style=\"text-align: right;\">\n",
       "      <th></th>\n",
       "      <th>agency</th>\n",
       "      <th>stop_id</th>\n",
       "      <th>stop_name</th>\n",
       "      <th>lon</th>\n",
       "      <th>lat</th>\n",
       "      <th>lon_5</th>\n",
       "      <th>lat_5</th>\n",
       "    </tr>\n",
       "  </thead>\n",
       "  <tbody>\n",
       "    <tr>\n",
       "      <th>4789</th>\n",
       "      <td>Stanislaus Regional Transit Authority</td>\n",
       "      <td>1302</td>\n",
       "      <td>Bay B - Modesto Transit Center - 1st exi</td>\n",
       "      <td>-121.000580</td>\n",
       "      <td>37.638838</td>\n",
       "      <td>121.00058</td>\n",
       "      <td>37.63883</td>\n",
       "    </tr>\n",
       "    <tr>\n",
       "      <th>4790</th>\n",
       "      <td>Stanislaus Regional Transit Authority</td>\n",
       "      <td>1063</td>\n",
       "      <td>Yosemite Blvd &amp; Abbie St</td>\n",
       "      <td>-120.900167</td>\n",
       "      <td>37.638242</td>\n",
       "      <td>120.90016</td>\n",
       "      <td>37.63824</td>\n",
       "    </tr>\n",
       "    <tr>\n",
       "      <th>4791</th>\n",
       "      <td>Stanislaus Regional Transit Authority</td>\n",
       "      <td>1095</td>\n",
       "      <td>Yosemite Blvd &amp; B St</td>\n",
       "      <td>-120.906452</td>\n",
       "      <td>37.638371</td>\n",
       "      <td>120.90645</td>\n",
       "      <td>37.63837</td>\n",
       "    </tr>\n",
       "    <tr>\n",
       "      <th>4792</th>\n",
       "      <td>Stanislaus Regional Transit Authority</td>\n",
       "      <td>1096</td>\n",
       "      <td>Yosemite Blvd &amp; Del Monte Foods</td>\n",
       "      <td>-120.916614</td>\n",
       "      <td>37.638337</td>\n",
       "      <td>120.91661</td>\n",
       "      <td>37.63833</td>\n",
       "    </tr>\n",
       "    <tr>\n",
       "      <th>4793</th>\n",
       "      <td>Stanislaus Regional Transit Authority</td>\n",
       "      <td>1097</td>\n",
       "      <td>Yosemite Blvd &amp; Yosemite Meadows Dr</td>\n",
       "      <td>-120.921583</td>\n",
       "      <td>37.638332</td>\n",
       "      <td>120.92158</td>\n",
       "      <td>37.63833</td>\n",
       "    </tr>\n",
       "  </tbody>\n",
       "</table>\n",
       "</div>"
      ],
      "text/plain": [
       "                                     agency stop_id  \\\n",
       "4789  Stanislaus Regional Transit Authority    1302   \n",
       "4790  Stanislaus Regional Transit Authority    1063   \n",
       "4791  Stanislaus Regional Transit Authority    1095   \n",
       "4792  Stanislaus Regional Transit Authority    1096   \n",
       "4793  Stanislaus Regional Transit Authority    1097   \n",
       "\n",
       "                                     stop_name         lon        lat  \\\n",
       "4789  Bay B - Modesto Transit Center - 1st exi -121.000580  37.638838   \n",
       "4790                  Yosemite Blvd & Abbie St -120.900167  37.638242   \n",
       "4791                      Yosemite Blvd & B St -120.906452  37.638371   \n",
       "4792           Yosemite Blvd & Del Monte Foods -120.916614  37.638337   \n",
       "4793       Yosemite Blvd & Yosemite Meadows Dr -120.921583  37.638332   \n",
       "\n",
       "          lon_5     lat_5  \n",
       "4789  121.00058  37.63883  \n",
       "4790  120.90016  37.63824  \n",
       "4791  120.90645  37.63837  \n",
       "4792  120.91661  37.63833  \n",
       "4793  120.92158  37.63833  "
      ]
     },
     "execution_count": 6,
     "metadata": {},
     "output_type": "execute_result"
    }
   ],
   "source": [
    "ca_stanislaus_no_dup5 = ca_stanislaus_no_dup.assign(lon_5=lo, lat_5=la)\n",
    "ca_stanislaus_no_dup5.head()"
   ]
  },
  {
   "cell_type": "code",
   "execution_count": null,
   "id": "84d59dc4-3fb6-4e18-adf3-822c03beb04a",
   "metadata": {},
   "outputs": [],
   "source": []
  },
  {
   "cell_type": "code",
   "execution_count": null,
   "id": "87e5b53a-1fb1-4ea0-b1b6-f70c5a3ff5fc",
   "metadata": {},
   "outputs": [],
   "source": []
  },
  {
   "cell_type": "code",
   "execution_count": null,
   "id": "f275b4b0-aefb-4ba8-9947-d88ba350ce1d",
   "metadata": {},
   "outputs": [],
   "source": []
  },
  {
   "cell_type": "code",
   "execution_count": 7,
   "id": "1c59d518-f91d-4b46-93a7-52f3b0aeaa63",
   "metadata": {},
   "outputs": [
    {
     "data": {
      "text/plain": [
       "(916, 5)"
      ]
     },
     "execution_count": 7,
     "metadata": {},
     "output_type": "execute_result"
    }
   ],
   "source": [
    "FILE_NAME = \"Bus Stop Inventory Master List-2024.csv\"\n",
    "stanislaus = pd.read_csv(f\"{FOLDER}{FILE_NAME}\")\n",
    "#stanislaus.head()\n",
    "#stanislaus.info()\n",
    "\n",
    "keep_col = ['Stop Name', 'Internet Label', 'Avail Label',  'City', 'GPS']\n",
    "stanislaus_clean = stanislaus[keep_col]\n",
    "stanislaus_clean.columns = stanislaus_clean.columns.str.strip().str.replace(' ', '_').str.lower()\n",
    "\n",
    "#stanislaus_clean.head()\n",
    "#stanislaus_clean['internet_label'] = Stanislaus_clean['internet_label'].astype(str)\n",
    "#len(stanislaus_clean['internet_label'])\n",
    "#stanislaus_clean.dtypes\n",
    "stanislaus_clean.shape"
   ]
  },
  {
   "cell_type": "code",
   "execution_count": 8,
   "id": "a69aac51-6cc0-4130-81f7-71e92d7d7fb9",
   "metadata": {},
   "outputs": [
    {
     "data": {
      "text/plain": [
       "(908, 5)"
      ]
     },
     "execution_count": 8,
     "metadata": {},
     "output_type": "execute_result"
    }
   ],
   "source": [
    "# drop na\n",
    "stanislaus_clean = stanislaus_clean.dropna()\n",
    "stanislaus_clean.shape"
   ]
  },
  {
   "cell_type": "code",
   "execution_count": 9,
   "id": "0edf28a8-82e9-4f33-820c-41946baa122e",
   "metadata": {},
   "outputs": [
    {
     "data": {
      "text/plain": [
       "(907, 5)"
      ]
     },
     "execution_count": 9,
     "metadata": {},
     "output_type": "execute_result"
    }
   ],
   "source": [
    "stanislaus_clean_no_dup = stanislaus_clean.drop_duplicates(subset = 'gps', keep = 'first')\n",
    "#stanislaus_clean_no_dup.shape\n",
    "#len(stanislaus_clean_no_dup['internet_label'])\n",
    "stanislaus_clean_no_dup.shape"
   ]
  },
  {
   "cell_type": "code",
   "execution_count": 10,
   "id": "ed6da767-f8f0-4dc3-b3e9-5a98bbeb5b0a",
   "metadata": {},
   "outputs": [],
   "source": [
    "xy = stanislaus_clean_no_dup['gps'].str.split(\", \", expand = True)\n",
    "xy = xy.rename(columns = {0: 'lat', 1: 'lon'})\n",
    "#xy.head()"
   ]
  },
  {
   "cell_type": "code",
   "execution_count": 11,
   "id": "07669f3a-5850-49a1-9f67-331d552d3ee9",
   "metadata": {},
   "outputs": [],
   "source": [
    "xy = xy.dropna()"
   ]
  },
  {
   "cell_type": "code",
   "execution_count": 12,
   "id": "0b043b49-51eb-4205-a6bf-d58ad3178ac4",
   "metadata": {},
   "outputs": [],
   "source": [
    "stanislaus_clean_no_dup_xy = pd.concat([stanislaus_clean_no_dup, xy], axis = 1)\n",
    "#stanislaus_clean_no_dup_xy.head()"
   ]
  },
  {
   "cell_type": "code",
   "execution_count": 13,
   "id": "4b27f384-13f0-44cd-9825-e02ddcc07564",
   "metadata": {},
   "outputs": [],
   "source": [
    "#convert string to float\n",
    "stanislaus_clean_no_dup_xy = stanislaus_clean_no_dup_xy.astype({'lat': float, 'lon': float})"
   ]
  },
  {
   "cell_type": "code",
   "execution_count": 14,
   "id": "3a5bbc3c-dc2f-450f-806e-900f8535ff2a",
   "metadata": {},
   "outputs": [],
   "source": [
    "stanislaus_clean_no_dup_xy = stanislaus_clean_no_dup_xy.dropna()"
   ]
  },
  {
   "cell_type": "code",
   "execution_count": null,
   "id": "fe9b2b5f-ece5-46ae-9c73-96198d56c664",
   "metadata": {},
   "outputs": [],
   "source": [
    "#stanislaus_clean_no_dup_xy.lon= stanislaus_clean_no_dup_xy.lon.round(5)"
   ]
  },
  {
   "cell_type": "code",
   "execution_count": null,
   "id": "a7577c97-0802-49d9-9212-0bf5e07d620b",
   "metadata": {},
   "outputs": [],
   "source": [
    "#stanislaus_clean_no_dup_xy.lat= stanislaus_clean_no_dup_xy.lat.round(5)"
   ]
  },
  {
   "cell_type": "code",
   "execution_count": 15,
   "id": "2a9187a6-5aec-48c3-aeaa-6c55eabba93d",
   "metadata": {},
   "outputs": [],
   "source": [
    "lo = []\n",
    "\n",
    "for x in stanislaus_clean_no_dup_xy.lon:\n",
    "    #x = float('%.5f'%(x))\n",
    "    x = math.floor((-x) * 10 ** 5) / 10 ** 5\n",
    "    lo.append(x)"
   ]
  },
  {
   "cell_type": "code",
   "execution_count": 16,
   "id": "a535622c-6361-40ed-bb29-ef3cc0f127da",
   "metadata": {},
   "outputs": [],
   "source": [
    "la = []\n",
    "\n",
    "for y in stanislaus_clean_no_dup_xy.lat:\n",
    "    #y = float('%.5f'%(y))\n",
    "    y = math.floor(y * 10 ** 5) / 10 ** 5\n",
    "    la.append(y)"
   ]
  },
  {
   "cell_type": "code",
   "execution_count": 17,
   "id": "fbc02943-f5b6-49f5-993d-26911032a914",
   "metadata": {},
   "outputs": [
    {
     "data": {
      "text/html": [
       "<div>\n",
       "<style scoped>\n",
       "    .dataframe tbody tr th:only-of-type {\n",
       "        vertical-align: middle;\n",
       "    }\n",
       "\n",
       "    .dataframe tbody tr th {\n",
       "        vertical-align: top;\n",
       "    }\n",
       "\n",
       "    .dataframe thead th {\n",
       "        text-align: right;\n",
       "    }\n",
       "</style>\n",
       "<table border=\"1\" class=\"dataframe\">\n",
       "  <thead>\n",
       "    <tr style=\"text-align: right;\">\n",
       "      <th></th>\n",
       "      <th>stop_name</th>\n",
       "      <th>internet_label</th>\n",
       "      <th>avail_label</th>\n",
       "      <th>city</th>\n",
       "      <th>gps</th>\n",
       "      <th>lat</th>\n",
       "      <th>lon</th>\n",
       "      <th>lon_5</th>\n",
       "      <th>lat_5</th>\n",
       "    </tr>\n",
       "  </thead>\n",
       "  <tbody>\n",
       "    <tr>\n",
       "      <th>0</th>\n",
       "      <td>MODESTO TRANSIT CENTER</td>\n",
       "      <td>Modesto Transit Center</td>\n",
       "      <td>MOD DT TC</td>\n",
       "      <td>Modesto</td>\n",
       "      <td>37.63911082289473, -121.0010539087333</td>\n",
       "      <td>37.639111</td>\n",
       "      <td>-121.001054</td>\n",
       "      <td>121.00105</td>\n",
       "      <td>37.63911</td>\n",
       "    </tr>\n",
       "    <tr>\n",
       "      <th>1</th>\n",
       "      <td>I WB 7TH FS</td>\n",
       "      <td>I St &amp; 7th St</td>\n",
       "      <td>I WB 7TH FS</td>\n",
       "      <td>Modesto</td>\n",
       "      <td>37.63714707558038, -121.00247038848869</td>\n",
       "      <td>37.637147</td>\n",
       "      <td>-121.002470</td>\n",
       "      <td>121.00247</td>\n",
       "      <td>37.63714</td>\n",
       "    </tr>\n",
       "    <tr>\n",
       "      <th>2</th>\n",
       "      <td>H WB 4TH FS</td>\n",
       "      <td>H St &amp; 4th St</td>\n",
       "      <td>H WB 4TH FS</td>\n",
       "      <td>Modesto</td>\n",
       "      <td>37.6339941715156, -121.00415709878014</td>\n",
       "      <td>37.633994</td>\n",
       "      <td>-121.004157</td>\n",
       "      <td>121.00415</td>\n",
       "      <td>37.63399</td>\n",
       "    </tr>\n",
       "    <tr>\n",
       "      <th>3</th>\n",
       "      <td>H WB 2ND FS</td>\n",
       "      <td>H St &amp; 2nd St</td>\n",
       "      <td>H WB 2ND FS</td>\n",
       "      <td>Modesto</td>\n",
       "      <td>37.63268837810617, -121.0058993294759</td>\n",
       "      <td>37.632688</td>\n",
       "      <td>-121.005899</td>\n",
       "      <td>121.00589</td>\n",
       "      <td>37.63268</td>\n",
       "    </tr>\n",
       "    <tr>\n",
       "      <th>4</th>\n",
       "      <td>PARADISE WB WASHINGTON FS</td>\n",
       "      <td>Modesto HS - Paradise Rd &amp; Washington St</td>\n",
       "      <td>PARA WB WASH FS</td>\n",
       "      <td>Modesto</td>\n",
       "      <td>37.63125887600638, -121.0077812652221</td>\n",
       "      <td>37.631259</td>\n",
       "      <td>-121.007781</td>\n",
       "      <td>121.00778</td>\n",
       "      <td>37.63125</td>\n",
       "    </tr>\n",
       "  </tbody>\n",
       "</table>\n",
       "</div>"
      ],
      "text/plain": [
       "                   stop_name                            internet_label  \\\n",
       "0     MODESTO TRANSIT CENTER                    Modesto Transit Center   \n",
       "1                I WB 7TH FS                             I St & 7th St   \n",
       "2                H WB 4TH FS                             H St & 4th St   \n",
       "3                H WB 2ND FS                             H St & 2nd St   \n",
       "4  PARADISE WB WASHINGTON FS  Modesto HS - Paradise Rd & Washington St   \n",
       "\n",
       "       avail_label     city                                     gps  \\\n",
       "0        MOD DT TC  Modesto   37.63911082289473, -121.0010539087333   \n",
       "1      I WB 7TH FS  Modesto  37.63714707558038, -121.00247038848869   \n",
       "2      H WB 4TH FS  Modesto   37.6339941715156, -121.00415709878014   \n",
       "3      H WB 2ND FS  Modesto   37.63268837810617, -121.0058993294759   \n",
       "4  PARA WB WASH FS  Modesto   37.63125887600638, -121.0077812652221   \n",
       "\n",
       "         lat         lon      lon_5     lat_5  \n",
       "0  37.639111 -121.001054  121.00105  37.63911  \n",
       "1  37.637147 -121.002470  121.00247  37.63714  \n",
       "2  37.633994 -121.004157  121.00415  37.63399  \n",
       "3  37.632688 -121.005899  121.00589  37.63268  \n",
       "4  37.631259 -121.007781  121.00778  37.63125  "
      ]
     },
     "execution_count": 17,
     "metadata": {},
     "output_type": "execute_result"
    }
   ],
   "source": [
    "stanislaus_clean_no_dup_xy5 = stanislaus_clean_no_dup_xy.assign(lon_5=lo, lat_5=la)\n",
    "stanislaus_clean_no_dup_xy5.head()"
   ]
  },
  {
   "cell_type": "code",
   "execution_count": null,
   "id": "5d181e81-3551-47ee-8fc7-1f6b724cf406",
   "metadata": {},
   "outputs": [],
   "source": []
  },
  {
   "cell_type": "code",
   "execution_count": null,
   "id": "f14e2283-c58a-4d1e-8a7d-b53fc700463e",
   "metadata": {},
   "outputs": [],
   "source": []
  },
  {
   "cell_type": "code",
   "execution_count": null,
   "id": "15b07f87-9c27-470a-9727-ce0fa9bd0c8b",
   "metadata": {},
   "outputs": [],
   "source": []
  },
  {
   "cell_type": "code",
   "execution_count": 18,
   "id": "d19a581c-c658-4789-a922-6a8b22df20aa",
   "metadata": {},
   "outputs": [
    {
     "data": {
      "text/plain": [
       "(109, 6)"
      ]
     },
     "execution_count": 18,
     "metadata": {},
     "output_type": "execute_result"
    }
   ],
   "source": [
    "FILE_NAME = \"Turlock Transit - Bus Stop List with Accessibility Information.csv\"\n",
    "turlock = pd.read_csv(f\"{FOLDER}{FILE_NAME}\")\n",
    "\n",
    "#turlock.info()\n",
    "\n",
    "keep_col = ['Stop ID', 'Name (on system map)', 'On street', 'At street', 'Latitude', 'Longitude']\n",
    "turlock1 = turlock[keep_col]\n",
    "turlock_clean = turlock1.rename(columns = {'Stop ID': 'stop_id', 'Name (on system map)': 'name', \n",
    "                                           'On street': 'on_street', 'At street': 'at_street',\n",
    "                                         'Latitude': 'lat', 'Longitude': 'lon' })\n",
    "\n",
    "\n",
    "#turlock_clean = (turlock_clean.astype({'stop_id': str}))\n",
    "turlock_clean['stop_id'] = turlock_clean['stop_id'].astype(str)\n",
    "\n",
    "#turlock_clean.dtypes\n",
    "#turlock_clean.head()\n",
    "#len(turlock_clean['stop_id'])\n",
    "#print(turlock_clean['stop_id'])\n",
    "#list(turlock_clean.stop_id[0:5])\n",
    "#turlock_clean[\"stop_id\"].nunique()\n",
    "turlock_clean.shape"
   ]
  },
  {
   "cell_type": "code",
   "execution_count": 19,
   "id": "ed561378-4fdb-42f1-ac4e-c0c0d8ee0e3d",
   "metadata": {},
   "outputs": [
    {
     "data": {
      "text/plain": [
       "(109, 6)"
      ]
     },
     "execution_count": 19,
     "metadata": {},
     "output_type": "execute_result"
    }
   ],
   "source": [
    "turlock_clean_no_dup = turlock_clean.drop_duplicates(subset = ['lat','lon'], keep = 'first')\n",
    "#stanislaus_clean_no_dup.shape\n",
    "#len(stanislaus_clean_no_dup['internet_label'])\n",
    "turlock_clean_no_dup.shape"
   ]
  },
  {
   "cell_type": "code",
   "execution_count": null,
   "id": "8efe7b12-c623-4278-9764-3275c8c193b9",
   "metadata": {},
   "outputs": [],
   "source": [
    "#turlock_clean_no_dup.lon= turlock_clean_no_dup.lon.round(5)"
   ]
  },
  {
   "cell_type": "code",
   "execution_count": null,
   "id": "90364b96-1385-4cfc-9501-79a482b599fd",
   "metadata": {},
   "outputs": [],
   "source": [
    "#turlock_clean_no_dup.lat= turlock_clean_no_dup.lat.round(5)"
   ]
  },
  {
   "cell_type": "code",
   "execution_count": 20,
   "id": "42b1139a-7710-4b78-a400-f2b5000e8d43",
   "metadata": {},
   "outputs": [],
   "source": [
    "lo = []\n",
    "\n",
    "for x in turlock_clean_no_dup.lon:\n",
    "    #x = float('%.5f'%(x))\n",
    "    x = math.floor((-x) * 10 ** 5) / 10 ** 5\n",
    "    lo.append(x)"
   ]
  },
  {
   "cell_type": "code",
   "execution_count": 21,
   "id": "68ed1ccb-c66c-4a83-bba3-fe2dfaf73e1f",
   "metadata": {},
   "outputs": [],
   "source": [
    "la = []\n",
    "\n",
    "for y in turlock_clean_no_dup.lat:\n",
    "    y = float('%.5f'%(y))\n",
    "    y = math.floor(y * 10 ** 5) / 10 ** 5\n",
    "    la.append(y)"
   ]
  },
  {
   "cell_type": "code",
   "execution_count": 22,
   "id": "f0678fc5-86c8-4037-a51e-ced67d6193ce",
   "metadata": {},
   "outputs": [
    {
     "data": {
      "text/html": [
       "<div>\n",
       "<style scoped>\n",
       "    .dataframe tbody tr th:only-of-type {\n",
       "        vertical-align: middle;\n",
       "    }\n",
       "\n",
       "    .dataframe tbody tr th {\n",
       "        vertical-align: top;\n",
       "    }\n",
       "\n",
       "    .dataframe thead th {\n",
       "        text-align: right;\n",
       "    }\n",
       "</style>\n",
       "<table border=\"1\" class=\"dataframe\">\n",
       "  <thead>\n",
       "    <tr style=\"text-align: right;\">\n",
       "      <th></th>\n",
       "      <th>stop_id</th>\n",
       "      <th>name</th>\n",
       "      <th>on_street</th>\n",
       "      <th>at_street</th>\n",
       "      <th>lat</th>\n",
       "      <th>lon</th>\n",
       "      <th>lon_5</th>\n",
       "      <th>lat_5</th>\n",
       "    </tr>\n",
       "  </thead>\n",
       "  <tbody>\n",
       "    <tr>\n",
       "      <th>0</th>\n",
       "      <td>120</td>\n",
       "      <td>Fulkerth &amp; Countryside</td>\n",
       "      <td>Fulkerth Rd</td>\n",
       "      <td>Countryside Dr</td>\n",
       "      <td>37.507400</td>\n",
       "      <td>-120.873590</td>\n",
       "      <td>120.87359</td>\n",
       "      <td>37.50739</td>\n",
       "    </tr>\n",
       "    <tr>\n",
       "      <th>1</th>\n",
       "      <td>121</td>\n",
       "      <td>Countryside &amp; Shetland</td>\n",
       "      <td>Countryside Dr</td>\n",
       "      <td>Shetland Way</td>\n",
       "      <td>37.511075</td>\n",
       "      <td>-120.876360</td>\n",
       "      <td>120.87636</td>\n",
       "      <td>37.51106</td>\n",
       "    </tr>\n",
       "    <tr>\n",
       "      <th>2</th>\n",
       "      <td>122</td>\n",
       "      <td>Countryside &amp; Tuolumne</td>\n",
       "      <td>Countryside Dr</td>\n",
       "      <td>W Tuolumne Way</td>\n",
       "      <td>37.514886</td>\n",
       "      <td>-120.877782</td>\n",
       "      <td>120.87778</td>\n",
       "      <td>37.51489</td>\n",
       "    </tr>\n",
       "    <tr>\n",
       "      <th>3</th>\n",
       "      <td>123</td>\n",
       "      <td>Countryside &amp; Monte Vista Crossing</td>\n",
       "      <td>Countryside Dr</td>\n",
       "      <td>Monte Vista Crossing</td>\n",
       "      <td>37.519480</td>\n",
       "      <td>-120.880660</td>\n",
       "      <td>120.88066</td>\n",
       "      <td>37.51948</td>\n",
       "    </tr>\n",
       "    <tr>\n",
       "      <th>4</th>\n",
       "      <td>124</td>\n",
       "      <td>Countryside &amp; Monte Vista</td>\n",
       "      <td>Countryside Dr</td>\n",
       "      <td>W Monte Vista Avenue</td>\n",
       "      <td>37.521320</td>\n",
       "      <td>-120.881081</td>\n",
       "      <td>120.88108</td>\n",
       "      <td>37.52132</td>\n",
       "    </tr>\n",
       "  </tbody>\n",
       "</table>\n",
       "</div>"
      ],
      "text/plain": [
       "  stop_id                                name       on_street  \\\n",
       "0     120              Fulkerth & Countryside     Fulkerth Rd   \n",
       "1     121              Countryside & Shetland  Countryside Dr   \n",
       "2     122              Countryside & Tuolumne  Countryside Dr   \n",
       "3     123  Countryside & Monte Vista Crossing  Countryside Dr   \n",
       "4     124           Countryside & Monte Vista  Countryside Dr   \n",
       "\n",
       "              at_street        lat         lon      lon_5     lat_5  \n",
       "0        Countryside Dr  37.507400 -120.873590  120.87359  37.50739  \n",
       "1          Shetland Way  37.511075 -120.876360  120.87636  37.51106  \n",
       "2        W Tuolumne Way  37.514886 -120.877782  120.87778  37.51489  \n",
       "3  Monte Vista Crossing  37.519480 -120.880660  120.88066  37.51948  \n",
       "4  W Monte Vista Avenue  37.521320 -120.881081  120.88108  37.52132  "
      ]
     },
     "execution_count": 22,
     "metadata": {},
     "output_type": "execute_result"
    }
   ],
   "source": [
    "turlock_clean_no_dup5 = turlock_clean_no_dup.assign(lon_5=lo, lat_5=la)\n",
    "turlock_clean_no_dup5.head()"
   ]
  },
  {
   "cell_type": "code",
   "execution_count": null,
   "id": "78f27361-6e3f-4261-bb89-cb1ce3ff4f5f",
   "metadata": {},
   "outputs": [],
   "source": []
  },
  {
   "cell_type": "code",
   "execution_count": null,
   "id": "797909fe-7ab9-4d15-a837-2c6243deedd9",
   "metadata": {},
   "outputs": [],
   "source": []
  },
  {
   "cell_type": "code",
   "execution_count": null,
   "id": "bdd04b8f-5fba-42c1-b63e-8787dd963552",
   "metadata": {},
   "outputs": [],
   "source": []
  },
  {
   "cell_type": "code",
   "execution_count": 23,
   "id": "ed5d4ab1-7157-4fae-8586-f77adf84df07",
   "metadata": {},
   "outputs": [
    {
     "data": {
      "text/plain": [
       "(114, 7)"
      ]
     },
     "execution_count": 23,
     "metadata": {},
     "output_type": "execute_result"
    }
   ],
   "source": [
    "ca_stanislaus_no_dup5.shape"
   ]
  },
  {
   "cell_type": "code",
   "execution_count": 24,
   "id": "452b18a9-e0eb-4f3e-8d35-a8750eafdd26",
   "metadata": {},
   "outputs": [
    {
     "data": {
      "text/plain": [
       "(906, 9)"
      ]
     },
     "execution_count": 24,
     "metadata": {},
     "output_type": "execute_result"
    }
   ],
   "source": [
    "stanislaus_clean_no_dup_xy5.shape"
   ]
  },
  {
   "cell_type": "code",
   "execution_count": 25,
   "id": "d7b31f38-c453-4763-a39f-9ae83aaf12b6",
   "metadata": {},
   "outputs": [
    {
     "data": {
      "text/plain": [
       "(109, 8)"
      ]
     },
     "execution_count": 25,
     "metadata": {},
     "output_type": "execute_result"
    }
   ],
   "source": [
    "turlock_clean_no_dup5.shape"
   ]
  },
  {
   "cell_type": "code",
   "execution_count": 32,
   "id": "19377217-3a81-44f2-bc06-7abe8224ef50",
   "metadata": {},
   "outputs": [],
   "source": [
    "m1 = pd.merge(stanislaus_clean_no_dup_xy5, ca_stanislaus_no_dup5, on = ['lat_5','lon_5'],\n",
    "    how = 'inner', validate = 'm:1')"
   ]
  },
  {
   "cell_type": "code",
   "execution_count": 33,
   "id": "370545e8-ed9a-4334-aa37-7d096a8e6875",
   "metadata": {},
   "outputs": [
    {
     "data": {
      "text/plain": [
       "(91, 14)"
      ]
     },
     "execution_count": 33,
     "metadata": {},
     "output_type": "execute_result"
    }
   ],
   "source": [
    "m1.shape"
   ]
  },
  {
   "cell_type": "code",
   "execution_count": 28,
   "id": "3b294c7d-b8c1-416d-86b7-820c1d578a1e",
   "metadata": {},
   "outputs": [],
   "source": [
    "m2 = pd.merge(turlock_clean_no_dup5, ca_stanislaus_no_dup5, on = ['lat_5','lon_5'],\n",
    "    how = 'inner', validate = 'm:1')"
   ]
  },
  {
   "cell_type": "code",
   "execution_count": 29,
   "id": "12c7067c-aa1f-4cb5-929c-839fbb6e5763",
   "metadata": {},
   "outputs": [
    {
     "data": {
      "text/plain": [
       "(0, 13)"
      ]
     },
     "execution_count": 29,
     "metadata": {},
     "output_type": "execute_result"
    }
   ],
   "source": [
    "m2.shape"
   ]
  },
  {
   "cell_type": "code",
   "execution_count": 30,
   "id": "83ec5503-0691-4061-9292-6e38dde376a7",
   "metadata": {},
   "outputs": [],
   "source": [
    "m3 = pd.merge(stanislaus_clean_no_dup_xy5, turlock_clean_no_dup5, on = ['lat_5','lon_5'],\n",
    "    how = 'inner', validate = 'm:1')"
   ]
  },
  {
   "cell_type": "code",
   "execution_count": 31,
   "id": "48b64e02-b60b-45e1-b71d-69f383596313",
   "metadata": {},
   "outputs": [
    {
     "data": {
      "text/plain": [
       "(0, 15)"
      ]
     },
     "execution_count": 31,
     "metadata": {},
     "output_type": "execute_result"
    }
   ],
   "source": [
    "m3.shape"
   ]
  },
  {
   "cell_type": "code",
   "execution_count": null,
   "id": "7d3ef9fd-241b-4905-ac8f-e6f6e936ef3c",
   "metadata": {},
   "outputs": [],
   "source": []
  }
 ],
 "metadata": {
  "kernelspec": {
   "display_name": "Python 3 (ipykernel)",
   "language": "python",
   "name": "python3"
  },
  "language_info": {
   "codemirror_mode": {
    "name": "ipython",
    "version": 3
   },
   "file_extension": ".py",
   "mimetype": "text/x-python",
   "name": "python",
   "nbconvert_exporter": "python",
   "pygments_lexer": "ipython3",
   "version": "3.9.13"
  }
 },
 "nbformat": 4,
 "nbformat_minor": 5
}
