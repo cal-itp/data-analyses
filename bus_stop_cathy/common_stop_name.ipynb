{
 "cells": [
  {
   "cell_type": "code",
   "execution_count": 1,
   "id": "40617e7f-9acc-497d-a1da-2bf541dce567",
   "metadata": {},
   "outputs": [],
   "source": [
    "import pandas as pd\n",
    "import numpy as np\n",
    "import matplotlib.pyplot as plt\n",
    "import seaborn as sns"
   ]
  },
  {
   "cell_type": "code",
   "execution_count": 2,
   "id": "b617ad55-0157-4302-a5fa-1c3f762e4943",
   "metadata": {},
   "outputs": [
    {
     "data": {
      "text/plain": [
       "(114, 5)"
      ]
     },
     "execution_count": 2,
     "metadata": {},
     "output_type": "execute_result"
    }
   ],
   "source": [
    "FOLDER = \"../Bus_Stops/\"\n",
    "FILE_NAME = \"ca_stops_revised.csv\"\n",
    "ca = pd.read_csv(f\"{FOLDER}{FILE_NAME}\")\n",
    "\n",
    "# Keep route_type is 3 (bus stops) only\n",
    "keep_row1 = [3]\n",
    "ca1 = ca[ca.route_type.isin(keep_row1)]\n",
    "#ca1.route_type.value_counts()\n",
    "\n",
    "# Keep Agency for Stanislaus county only\n",
    "keep_row2 = ['Stanislaus Regional Transit Authority']\n",
    "ca2 = ca[ca.agency.isin(keep_row2)]\n",
    "ca2.agency.value_counts()\n",
    "\n",
    "# Keep useful columns only\n",
    "keep_col = ['agency', 'stop_id', 'stop_name', 'x', 'y']\n",
    "ca_stanislaus = ca2[keep_col]\n",
    "\n",
    "# Change stop_id type from object to string\n",
    "#ca_stanislaus = (ca_stanislaus.astype({'stop_name': str}))\n",
    "\n",
    "# Check cleaned data\n",
    "#ca_stanislaus.head()\n",
    "#len(ca_stanislaus['stop_name'])\n",
    "#ca_stanislaus.dtypes\n",
    "#ca_stanislaus.info()\n",
    "ca_stanislaus.shape\n",
    "#ca_stanislaus.describe()\n",
    "#list(ca_stanislaus.stop_name[0:5])"
   ]
  },
  {
   "cell_type": "code",
   "execution_count": 3,
   "id": "b6f44bdc-8212-44f7-b5a5-8c878d0e2de9",
   "metadata": {},
   "outputs": [
    {
     "data": {
      "text/plain": [
       "(93, 5)"
      ]
     },
     "execution_count": 3,
     "metadata": {},
     "output_type": "execute_result"
    }
   ],
   "source": [
    "ca_stanislaus_no_dup = ca_stanislaus.drop_duplicates(subset = 'stop_name', keep = 'first')\n",
    "ca_stanislaus_no_dup.shape"
   ]
  },
  {
   "cell_type": "code",
   "execution_count": 4,
   "id": "b2cc0da7-b2e1-43bc-9080-26892b28da5c",
   "metadata": {},
   "outputs": [
    {
     "data": {
      "text/plain": [
       "(916, 5)"
      ]
     },
     "execution_count": 4,
     "metadata": {},
     "output_type": "execute_result"
    }
   ],
   "source": [
    "FILE_NAME = \"Bus Stop Inventory Master List-2024.csv\"\n",
    "stanislaus = pd.read_csv(f\"{FOLDER}{FILE_NAME}\")\n",
    "#stanislaus.head()\n",
    "#stanislaus.info()\n",
    "\n",
    "keep_col = ['Stop Name', 'Internet Label', 'Avail Label',  'City', 'StaRT Stop ID']\n",
    "stanislaus_clean = stanislaus[keep_col]\n",
    "stanislaus_clean.columns = stanislaus_clean.columns.str.strip().str.replace(' ', '_').str.lower()\n",
    "\n",
    "#stanislaus_clean.head()\n",
    "#stanislaus_clean['internet_label'] = Stanislaus_clean['internet_label'].astype(str)\n",
    "#len(stanislaus_clean['internet_label'])\n",
    "#stanislaus_clean.dtypes\n",
    "stanislaus_clean.shape"
   ]
  },
  {
   "cell_type": "code",
   "execution_count": 5,
   "id": "4130c7fe-74be-40ca-a6e4-da8a9921b13d",
   "metadata": {},
   "outputs": [
    {
     "data": {
      "text/plain": [
       "(725, 5)"
      ]
     },
     "execution_count": 5,
     "metadata": {},
     "output_type": "execute_result"
    }
   ],
   "source": [
    "stanislaus_clean_no_dup = stanislaus_clean.drop_duplicates(subset = 'internet_label', keep = 'first')\n",
    "#stanislaus_clean_no_dup.shape\n",
    "#len(stanislaus_clean_no_dup['internet_label'])\n",
    "stanislaus_clean_no_dup.shape"
   ]
  },
  {
   "cell_type": "code",
   "execution_count": 6,
   "id": "038e916e-baf2-41d9-8c4f-93ac9e52111d",
   "metadata": {},
   "outputs": [
    {
     "data": {
      "text/plain": [
       "(109, 6)"
      ]
     },
     "execution_count": 6,
     "metadata": {},
     "output_type": "execute_result"
    }
   ],
   "source": [
    "FILE_NAME = \"Turlock Transit - Bus Stop List with Accessibility Information.csv\"\n",
    "turlock = pd.read_csv(f\"{FOLDER}{FILE_NAME}\")\n",
    "\n",
    "#turlock.info()\n",
    "\n",
    "keep_col = ['Stop ID', 'Name (on system map)', 'On street', 'At street', 'Latitude', 'Longitude']\n",
    "turlock1 = turlock[keep_col]\n",
    "turlock_clean = turlock1.rename(columns = {'Stop ID': 'stop_id', 'Name (on system map)': 'name', \n",
    "                                           'On street': 'on_street', 'At street': 'at_street',\n",
    "                                         'Latitude': 'latitude', 'Longitude': 'longitude' })\n",
    "\n",
    "\n",
    "#turlock_clean = (turlock_clean.astype({'stop_id': str}))\n",
    "turlock_clean['stop_id'] = turlock_clean['stop_id'].astype(str)\n",
    "\n",
    "#turlock_clean.dtypes\n",
    "#turlock_clean.head()\n",
    "#len(turlock_clean['stop_id'])\n",
    "#print(turlock_clean['stop_id'])\n",
    "#list(turlock_clean.stop_id[0:5])\n",
    "#turlock_clean[\"stop_id\"].nunique()\n",
    "turlock_clean.shape"
   ]
  },
  {
   "cell_type": "code",
   "execution_count": 7,
   "id": "582aacda-78db-4dcc-9ce1-87984dabd699",
   "metadata": {},
   "outputs": [
    {
     "data": {
      "text/plain": [
       "97"
      ]
     },
     "execution_count": 7,
     "metadata": {},
     "output_type": "execute_result"
    }
   ],
   "source": [
    "turlock_clean['name'].nunique()"
   ]
  },
  {
   "cell_type": "code",
   "execution_count": 8,
   "id": "5faf1c4e-fe66-4d86-88ab-fe553ee8346c",
   "metadata": {},
   "outputs": [
    {
     "data": {
      "text/plain": [
       "(97, 6)"
      ]
     },
     "execution_count": 8,
     "metadata": {},
     "output_type": "execute_result"
    }
   ],
   "source": [
    "turlock_clean_no_dup = turlock_clean.drop_duplicates(subset = 'name', keep = 'first')\n",
    "#stanislaus_clean_no_dup.shape\n",
    "#len(stanislaus_clean_no_dup['internet_label'])\n",
    "turlock_clean_no_dup.shape"
   ]
  },
  {
   "cell_type": "markdown",
   "id": "79aaf10e-0898-4ca4-8527-a6f781092948",
   "metadata": {},
   "source": [
    "# all 3 datas\n",
    "ca_stanislaus_no_dup: stop_name, stop_id, 4213\n",
    "\n",
    "\n",
    "stanislaus_clean_no_dup: internet_label, start_stop_id, 725\n",
    "\n",
    "turlock_clean_no_dup: name, stop_id, 97"
   ]
  },
  {
   "cell_type": "code",
   "execution_count": 9,
   "id": "8813e90e-3ad3-4123-bbdf-f11285e9baaa",
   "metadata": {},
   "outputs": [],
   "source": [
    "# check stop names in all 3 data\n",
    "# first step: make a list of stop names for all 3 data, exclude duplicates\n",
    "\n",
    "ca_name = []\n",
    "stanislaus_name = []\n",
    "turlock_name = []\n",
    "\n",
    "for x in ca_stanislaus_no_dup['stop_name']:\n",
    "    ca_name.append(x)\n",
    "    \n",
    "for y in stanislaus_clean_no_dup['internet_label']:\n",
    "    stanislaus_name.append(y)\n",
    "\n",
    "for z in turlock_clean_no_dup['name']:\n",
    "    turlock_name.append(z)\n",
    "\n",
    "#len(ca_name) 4213\n",
    "#len(stanislaus_name) 725\n",
    "#len(turlock_name) 97"
   ]
  },
  {
   "cell_type": "code",
   "execution_count": 10,
   "id": "f1585e8f-765f-40ed-9000-231c77c4af40",
   "metadata": {},
   "outputs": [
    {
     "name": "stdout",
     "output_type": "stream",
     "text": [
      "0\n"
     ]
    }
   ],
   "source": [
    "# 1st method to find common names\n",
    "def findnames(a,b,c):\n",
    "    common = set(a)&set(b)&set(c)\n",
    "    #diff = set(a)^set(b)^set(c)\n",
    "    print(len(common))\n",
    "    #print(common)\n",
    "    #print(len(diff))\n",
    "    #print(diff) \n",
    "    \n",
    "findnames(stanislaus_name,ca_name,turlock_name)"
   ]
  },
  {
   "cell_type": "code",
   "execution_count": 11,
   "id": "f65c5a81-8267-437a-bde2-7533de5fce6b",
   "metadata": {},
   "outputs": [
    {
     "name": "stdout",
     "output_type": "stream",
     "text": [
      "87\n"
     ]
    }
   ],
   "source": [
    "def findnames(a,b):\n",
    "    common = set(a)&set(b)\n",
    "    #diff = set(a)^set(b)\n",
    "    print(len(common))\n",
    "    #print(common)\n",
    "    #print(len(diff))\n",
    "    #print(diff) \n",
    "    \n",
    "findnames(ca_name,stanislaus_name)"
   ]
  },
  {
   "cell_type": "code",
   "execution_count": 34,
   "id": "aa3a2d42-e3d1-4b8a-95e4-ba27929894ea",
   "metadata": {},
   "outputs": [],
   "source": [
    "# 2nd way to find common names\n",
    "#list(set(stanislaus_name).intersection(turlock_name))"
   ]
  },
  {
   "cell_type": "code",
   "execution_count": 56,
   "id": "72755e54-640e-4aba-9e61-29297c82c74e",
   "metadata": {},
   "outputs": [],
   "source": [
    "# 3rd way to find common names\n",
    "#common_elements = np.intersect1d(stanislaus_name, turlock_name)\n",
    "#print(common_elements)\n",
    "#len(common_elements)"
   ]
  }
 ],
 "metadata": {
  "kernelspec": {
   "display_name": "Python 3 (ipykernel)",
   "language": "python",
   "name": "python3"
  },
  "language_info": {
   "codemirror_mode": {
    "name": "ipython",
    "version": 3
   },
   "file_extension": ".py",
   "mimetype": "text/x-python",
   "name": "python",
   "nbconvert_exporter": "python",
   "pygments_lexer": "ipython3",
   "version": "3.9.13"
  }
 },
 "nbformat": 4,
 "nbformat_minor": 5
}
