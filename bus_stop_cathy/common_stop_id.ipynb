{
 "cells": [
  {
   "cell_type": "code",
   "execution_count": 1,
   "id": "c2ab225c-5c80-4fc2-9a78-31932052d819",
   "metadata": {},
   "outputs": [],
   "source": [
    "import pandas as pd\n",
    "import numpy as np\n",
    "import matplotlib.pyplot as plt\n",
    "import seaborn as sns"
   ]
  },
  {
   "cell_type": "code",
   "execution_count": 2,
   "id": "d485ca77-1e28-48b6-902f-3ba9994f0f18",
   "metadata": {},
   "outputs": [
    {
     "data": {
      "text/plain": [
       "(114, 5)"
      ]
     },
     "execution_count": 2,
     "metadata": {},
     "output_type": "execute_result"
    }
   ],
   "source": [
    "FOLDER = \"../Bus_Stops/\"\n",
    "FILE_NAME = \"ca_stops_revised.csv\"\n",
    "ca = pd.read_csv(f\"{FOLDER}{FILE_NAME}\")\n",
    "\n",
    "# Keep route_type is 3 (bus stops) only\n",
    "keep_row1 = [3]\n",
    "ca1 = ca[ca.route_type.isin(keep_row1)]\n",
    "#ca1.route_type.value_counts()\n",
    "\n",
    "# Keep Agency for Stanislaus county only\n",
    "keep_row2 = ['Stanislaus Regional Transit Authority']\n",
    "ca2 = ca[ca.agency.isin(keep_row2)]\n",
    "ca2.agency.value_counts()\n",
    "\n",
    "# Keep useful columns only\n",
    "keep_col = ['agency', 'stop_id', 'stop_name', 'x', 'y']\n",
    "ca_stanislaus = ca2[keep_col]\n",
    "\n",
    "# Change stop_id type from object to string\n",
    "#ca_stanislaus = (ca_stanislaus.astype({'stop_name': str}))\n",
    "ca_stanislaus = (ca_stanislaus.astype({'stop_id': str}))\n",
    "\n",
    "# Check cleaned data\n",
    "#ca_stanislaus.head()\n",
    "#len(ca_stanislaus['stop_name'])\n",
    "#ca_stanislaus.dtypes\n",
    "#ca_stanislaus.info()\n",
    "ca_stanislaus.shape\n",
    "#ca_stanislaus.describe()\n",
    "#list(ca_stanislaus.stop_name[0:5])"
   ]
  },
  {
   "cell_type": "code",
   "execution_count": 3,
   "id": "e98804bc-a740-426b-9b5e-15ecc08d1fa2",
   "metadata": {},
   "outputs": [
    {
     "data": {
      "text/plain": [
       "(114, 5)"
      ]
     },
     "execution_count": 3,
     "metadata": {},
     "output_type": "execute_result"
    }
   ],
   "source": [
    "ca_stanislaus_no_dup = ca_stanislaus.drop_duplicates(subset = 'stop_id', keep = 'first')\n",
    "ca_stanislaus_no_dup.shape"
   ]
  },
  {
   "cell_type": "code",
   "execution_count": 4,
   "id": "b82b0570-93a9-45ff-a743-46bab4091198",
   "metadata": {},
   "outputs": [
    {
     "data": {
      "text/plain": [
       "(916, 5)"
      ]
     },
     "execution_count": 4,
     "metadata": {},
     "output_type": "execute_result"
    }
   ],
   "source": [
    "FILE_NAME = \"Bus Stop Inventory Master List-2024.csv\"\n",
    "stanislaus = pd.read_csv(f\"{FOLDER}{FILE_NAME}\")\n",
    "#stanislaus.head()\n",
    "#stanislaus.info()\n",
    "\n",
    "keep_col = ['Stop Name', 'Internet Label', 'Avail Label',  'City', 'StaRT Stop ID']\n",
    "stanislaus_clean = stanislaus[keep_col]\n",
    "stanislaus_clean.columns = stanislaus_clean.columns.str.strip().str.replace(' ', '_').str.lower()\n",
    "\n",
    "#stanislaus_clean['start_stop_id'] = stanislaus_clean['start_stop_id'].astype(str)\n",
    "\n",
    "#stanislaus_clean.head()\n",
    "#stanislaus_clean['internet_label'] = Stanislaus_clean['internet_label'].astype(str)\n",
    "#len(stanislaus_clean['internet_label'])\n",
    "#stanislaus_clean.dtypes\n",
    "stanislaus_clean.shape"
   ]
  },
  {
   "cell_type": "code",
   "execution_count": 5,
   "id": "0ccb77e6-015a-4c0a-bcba-d6d623409935",
   "metadata": {},
   "outputs": [
    {
     "name": "stderr",
     "output_type": "stream",
     "text": [
      "/tmp/ipykernel_200/51083219.py:1: SettingWithCopyWarning: \n",
      "A value is trying to be set on a copy of a slice from a DataFrame.\n",
      "Try using .loc[row_indexer,col_indexer] = value instead\n",
      "\n",
      "See the caveats in the documentation: https://pandas.pydata.org/pandas-docs/stable/user_guide/indexing.html#returning-a-view-versus-a-copy\n",
      "  stanislaus_clean['start_stop_id'] = stanislaus_clean['start_stop_id'].astype(str)\n"
     ]
    }
   ],
   "source": [
    "stanislaus_clean['start_stop_id'] = stanislaus_clean['start_stop_id'].astype(str)"
   ]
  },
  {
   "cell_type": "code",
   "execution_count": 6,
   "id": "36fdbb37-c575-44ad-b4a6-3790c4732aef",
   "metadata": {},
   "outputs": [
    {
     "data": {
      "text/plain": [
       "916"
      ]
     },
     "execution_count": 6,
     "metadata": {},
     "output_type": "execute_result"
    }
   ],
   "source": [
    "len(stanislaus_clean['start_stop_id'])"
   ]
  },
  {
   "cell_type": "code",
   "execution_count": 7,
   "id": "de291c90-2bb0-4f13-9089-20b800502239",
   "metadata": {},
   "outputs": [
    {
     "data": {
      "text/plain": [
       "78"
      ]
     },
     "execution_count": 7,
     "metadata": {},
     "output_type": "execute_result"
    }
   ],
   "source": [
    "stanislaus_clean['start_stop_id'].nunique()"
   ]
  },
  {
   "cell_type": "code",
   "execution_count": 8,
   "id": "e94a3bb1-c885-4076-aaf8-536232d8963d",
   "metadata": {},
   "outputs": [
    {
     "data": {
      "text/plain": [
       "(78, 5)"
      ]
     },
     "execution_count": 8,
     "metadata": {},
     "output_type": "execute_result"
    }
   ],
   "source": [
    "stanislaus_clean_no_dup = stanislaus_clean.drop_duplicates(subset = 'start_stop_id', keep = 'first')\n",
    "#stanislaus_clean_no_dup.shape\n",
    "#len(stanislaus_clean_no_dup['start_stop_id'])\n",
    "stanislaus_clean_no_dup.shape"
   ]
  },
  {
   "cell_type": "code",
   "execution_count": 9,
   "id": "44ef5d9f-1a1b-4c11-9683-1d75bb1a7956",
   "metadata": {},
   "outputs": [
    {
     "data": {
      "text/plain": [
       "stop_name         object\n",
       "internet_label    object\n",
       "avail_label       object\n",
       "city              object\n",
       "start_stop_id     object\n",
       "dtype: object"
      ]
     },
     "execution_count": 9,
     "metadata": {},
     "output_type": "execute_result"
    }
   ],
   "source": [
    "stanislaus_clean_no_dup.dtypes"
   ]
  },
  {
   "cell_type": "code",
   "execution_count": 10,
   "id": "fa540e3d-566b-4c61-8694-6594223982cb",
   "metadata": {},
   "outputs": [
    {
     "data": {
      "text/plain": [
       "(109, 6)"
      ]
     },
     "execution_count": 10,
     "metadata": {},
     "output_type": "execute_result"
    }
   ],
   "source": [
    "FILE_NAME = \"Turlock Transit - Bus Stop List with Accessibility Information.csv\"\n",
    "turlock = pd.read_csv(f\"{FOLDER}{FILE_NAME}\")\n",
    "\n",
    "#turlock.info()\n",
    "\n",
    "keep_col = ['Stop ID', 'Name (on system map)', 'On street', 'At street', 'Latitude', 'Longitude']\n",
    "turlock1 = turlock[keep_col]\n",
    "turlock_clean = turlock1.rename(columns = {'Stop ID': 'stop_id', 'Name (on system map)': 'name', \n",
    "                                           'On street': 'on_street', 'At street': 'at_street',\n",
    "                                         'Latitude': 'latitude', 'Longitude': 'longitude' })\n",
    "\n",
    "\n",
    "turlock_clean = (turlock_clean.astype({'stop_id': str}))\n",
    "\n",
    "#turlock_clean.dtypes\n",
    "#turlock_clean.head()\n",
    "#len(turlock_clean['stop_id'])\n",
    "#print(turlock_clean['stop_id'])\n",
    "#list(turlock_clean.stop_id[0:5])\n",
    "#turlock_clean[\"stop_id\"].nunique()\n",
    "turlock_clean.shape"
   ]
  },
  {
   "cell_type": "code",
   "execution_count": 11,
   "id": "5d814872-58d1-4428-b831-4a3158d7480e",
   "metadata": {},
   "outputs": [
    {
     "data": {
      "text/plain": [
       "(109, 6)"
      ]
     },
     "execution_count": 11,
     "metadata": {},
     "output_type": "execute_result"
    }
   ],
   "source": [
    "turlock_clean_no_dup = turlock_clean.drop_duplicates(subset = 'stop_id', keep = 'first')\n",
    "#stanislaus_clean_no_dup.shape\n",
    "#len(stanislaus_clean_no_dup['internet_label'])\n",
    "turlock_clean_no_dup.shape"
   ]
  },
  {
   "cell_type": "markdown",
   "id": "8a0c06d1-3675-45ee-8ac9-db467ea2e1af",
   "metadata": {},
   "source": [
    "# all 3 datas\n",
    "ca_stanislaus_no_dup: stop_name, stop_id, 4909\n",
    "\n",
    "\n",
    "stanislaus_clean_no_dup: internet_label, start_stop_id, 78\n",
    "\n",
    "turlock_clean_no_dup: name, stop_id, 109"
   ]
  },
  {
   "cell_type": "code",
   "execution_count": 12,
   "id": "e550be02-d003-4494-80b9-8ec584c7c4a3",
   "metadata": {},
   "outputs": [],
   "source": [
    "# check stop id in all 3 data\n",
    "# first step: make a list of stop id for all 3 data, exclude duplicates\n",
    "\n",
    "ca_id = []\n",
    "stanislaus_id = []\n",
    "turlock_id = []\n",
    "\n",
    "for x in ca_stanislaus_no_dup['stop_id']:\n",
    "    ca_id.append(x)\n",
    "    \n",
    "for y in stanislaus_clean_no_dup['start_stop_id']:\n",
    "    stanislaus_id.append(y)\n",
    "\n",
    "for z in turlock_clean_no_dup['stop_id']:\n",
    "    turlock_id.append(str(z))\n",
    "\n",
    "#len(ca_id) 4909\n",
    "#len(stanislaus_id) 78\n",
    "#len(turlock_id) 109"
   ]
  },
  {
   "cell_type": "code",
   "execution_count": 13,
   "id": "51a4c5a6-0168-46cd-8965-30b0cb47b8af",
   "metadata": {},
   "outputs": [
    {
     "name": "stdout",
     "output_type": "stream",
     "text": [
      "0\n"
     ]
    }
   ],
   "source": [
    "# find common id\n",
    "def findids(a,b,c):\n",
    "    common = set(a)&set(b)&set(c)\n",
    "    #diff = set(a)^set(b)^set(c)\n",
    "    print(len(common))\n",
    "    #print(common)\n",
    "    #print(len(diff))\n",
    "    #print(diff) \n",
    "    \n",
    "findids(stanislaus_id,ca_id,turlock_id)"
   ]
  },
  {
   "cell_type": "code",
   "execution_count": 14,
   "id": "2257175b-bc25-4cae-b53c-5aab4ceaa026",
   "metadata": {},
   "outputs": [
    {
     "name": "stdout",
     "output_type": "stream",
     "text": [
      "3\n"
     ]
    }
   ],
   "source": [
    "def findids(a,b):\n",
    "    common = set(a)&set(b)\n",
    "    #diff = set(a)^set(b)\n",
    "    print(len(common))\n",
    "    #print(common)\n",
    "    #print(len(diff))\n",
    "    #print(diff) \n",
    "    \n",
    "findids(ca_id,turlock_id)"
   ]
  },
  {
   "cell_type": "code",
   "execution_count": 15,
   "id": "2bd88749-7585-4fba-bdc0-a16a7f81055b",
   "metadata": {},
   "outputs": [
    {
     "name": "stdout",
     "output_type": "stream",
     "text": [
      "0\n"
     ]
    }
   ],
   "source": [
    "findids(ca_id,stanislaus_id)"
   ]
  },
  {
   "cell_type": "code",
   "execution_count": 16,
   "id": "18e201d8-ed21-407e-840d-8818d14ceb10",
   "metadata": {},
   "outputs": [
    {
     "name": "stdout",
     "output_type": "stream",
     "text": [
      "0\n"
     ]
    }
   ],
   "source": [
    "findids(turlock_id,stanislaus_id)"
   ]
  },
  {
   "cell_type": "code",
   "execution_count": null,
   "id": "751aa384-145e-42b0-af35-f7935cc36610",
   "metadata": {},
   "outputs": [],
   "source": []
  },
  {
   "cell_type": "code",
   "execution_count": null,
   "id": "06b0fb4c-2cda-4aed-a7f1-7b1edf2f06c9",
   "metadata": {},
   "outputs": [],
   "source": []
  },
  {
   "cell_type": "code",
   "execution_count": null,
   "id": "52582ef3-9824-4d55-a38b-80e6a1d11447",
   "metadata": {},
   "outputs": [],
   "source": [
    "df = df.assign(\n",
    "   start_stop_id = df.start_stop_id.astype(str)\n",
    ")"
   ]
  }
 ],
 "metadata": {
  "kernelspec": {
   "display_name": "Python 3 (ipykernel)",
   "language": "python",
   "name": "python3"
  },
  "language_info": {
   "codemirror_mode": {
    "name": "ipython",
    "version": 3
   },
   "file_extension": ".py",
   "mimetype": "text/x-python",
   "name": "python",
   "nbconvert_exporter": "python",
   "pygments_lexer": "ipython3",
   "version": "3.9.13"
  }
 },
 "nbformat": 4,
 "nbformat_minor": 5
}
