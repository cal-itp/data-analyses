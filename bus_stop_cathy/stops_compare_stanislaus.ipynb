{
 "cells": [
  {
   "cell_type": "code",
   "execution_count": 1,
   "id": "aba7358a-6d76-4199-82ff-da4e6271d706",
   "metadata": {},
   "outputs": [],
   "source": [
    "import pandas as pd\n",
    "import numpy as np\n",
    "import matplotlib.pyplot as plt\n",
    "import seaborn as sns"
   ]
  },
  {
   "cell_type": "code",
   "execution_count": 2,
   "id": "eefa0a0f-2d7e-4397-a319-9ad4486f64f6",
   "metadata": {},
   "outputs": [
    {
     "data": {
      "text/plain": [
       "(114, 5)"
      ]
     },
     "execution_count": 2,
     "metadata": {},
     "output_type": "execute_result"
    }
   ],
   "source": [
    "FOLDER = \"../Bus_Stops/\"\n",
    "FILE_NAME = \"ca_stops_revised.csv\"\n",
    "ca = pd.read_csv(f\"{FOLDER}{FILE_NAME}\")\n",
    "\n",
    "# Clean and Check Data\n",
    "#ca.dropna(axis=0, how = 'any')\n",
    "#ca = ca[~ca.stop_id.str.contains('-')]\n",
    "#ca = ca[~ca['stop_id'].isin(['a:z', 'A:Z'])]\n",
    "#ca.info()\n",
    "#ca.route_type.value_counts()\n",
    "#ca.shape\n",
    "\n",
    "# Keep route_type is 3 (bus stops) only\n",
    "keep_row1 = [3]\n",
    "ca1 = ca[ca.route_type.isin(keep_row1)]\n",
    "#ca1.route_type.value_counts()\n",
    "\n",
    "# Keep Agency for Stanislaus county only\n",
    "keep_row2 = ['Stanislaus Regional Transit Authority']\n",
    "ca2 = ca[ca.agency.isin(keep_row2)]\n",
    "#ca2.agency.value_counts()\n",
    "\n",
    "# Keep useful columns only\n",
    "keep_col = ['agency', 'stop_id', 'stop_name', 'x', 'y']\n",
    "ca_stanislaus = ca2[keep_col]\n",
    "\n",
    "# Change stop_id type from object to string\n",
    "#ca_stanislaus = (ca_stanislaus.astype({'stop_name': str}))\n",
    "\n",
    "# Check cleaned data\n",
    "#ca_stanislaus.head()\n",
    "#len(ca_stanislaus['stop_name'])\n",
    "#ca_stanislaus.dtypes\n",
    "#ca_stanislaus.info()\n",
    "ca_stanislaus.shape\n",
    "#ca_stanislaus.describe()\n",
    "#list(ca_stanislaus.stop_name[0:5])"
   ]
  },
  {
   "cell_type": "code",
   "execution_count": null,
   "id": "7cd90da4-379d-419b-a103-ae1e74de73c4",
   "metadata": {},
   "outputs": [],
   "source": [
    "ca_stanislaus['stop_name'].nunique()"
   ]
  },
  {
   "cell_type": "code",
   "execution_count": null,
   "id": "4669ae3f-79c6-464d-9187-dd4b75c6b425",
   "metadata": {},
   "outputs": [],
   "source": [
    "# 114-93 = 21 duplicates"
   ]
  },
  {
   "cell_type": "code",
   "execution_count": 3,
   "id": "bc9db7c0-42fe-41ae-8755-0a491a8af7ef",
   "metadata": {},
   "outputs": [
    {
     "data": {
      "text/plain": [
       "(93, 5)"
      ]
     },
     "execution_count": 3,
     "metadata": {},
     "output_type": "execute_result"
    }
   ],
   "source": [
    "ca_stanislaus_no_dup = ca_stanislaus.drop_duplicates(subset = 'stop_name', keep = 'first')\n",
    "ca_stanislaus_no_dup.shape"
   ]
  },
  {
   "cell_type": "code",
   "execution_count": 4,
   "id": "dea51b53-8f75-407d-9ada-c6e2048e7393",
   "metadata": {},
   "outputs": [
    {
     "data": {
      "text/plain": [
       "916"
      ]
     },
     "execution_count": 4,
     "metadata": {},
     "output_type": "execute_result"
    }
   ],
   "source": [
    "FILE_NAME = \"Bus Stop Inventory Master List-2024.csv\"\n",
    "stanislaus = pd.read_csv(f\"{FOLDER}{FILE_NAME}\")\n",
    "#stanislaus.head()\n",
    "#stanislaus.info()\n",
    "\n",
    "keep_col = ['Stop Name', 'Internet Label', 'Avail Label',  'City', 'StaRT Stop ID']\n",
    "stanislaus_clean = stanislaus[keep_col]\n",
    "stanislaus_clean.columns = stanislaus_clean.columns.str.strip().str.replace(' ', '_').str.lower()\n",
    "\n",
    "#stanislaus_clean.head()\n",
    "#stanislaus_clean['internet_label'] = Stanislaus_clean['internet_label'].astype(str)\n",
    "len(stanislaus_clean['internet_label'])\n",
    "#stanislaus_clean.dtypes\n",
    "#stanislaus_clean.shape"
   ]
  },
  {
   "cell_type": "code",
   "execution_count": null,
   "id": "bfc67d9c-7789-4c59-999f-c5a18cca9fcc",
   "metadata": {},
   "outputs": [],
   "source": [
    "#stanislaus_clean['internet_label'].nunique()"
   ]
  },
  {
   "cell_type": "code",
   "execution_count": null,
   "id": "a077cf0e-d2fd-481d-9bfb-ee771cc04b13",
   "metadata": {},
   "outputs": [],
   "source": [
    "# 916-725 = 191 duplicates"
   ]
  },
  {
   "cell_type": "code",
   "execution_count": 5,
   "id": "3cd63465-ff20-4ba2-ad99-fb747a226db2",
   "metadata": {},
   "outputs": [
    {
     "data": {
      "text/plain": [
       "(725, 5)"
      ]
     },
     "execution_count": 5,
     "metadata": {},
     "output_type": "execute_result"
    }
   ],
   "source": [
    "stanislaus_clean_no_dup = stanislaus_clean.drop_duplicates(subset = 'internet_label', keep = 'first')\n",
    "#stanislaus_clean_no_dup.shape\n",
    "#len(stanislaus_clean_no_dup['internet_label'])\n",
    "stanislaus_clean_no_dup.shape"
   ]
  },
  {
   "cell_type": "code",
   "execution_count": 8,
   "id": "cdb1fe48-7ae6-468e-be02-181217e83788",
   "metadata": {},
   "outputs": [
    {
     "data": {
      "text/plain": [
       "6"
      ]
     },
     "execution_count": 8,
     "metadata": {},
     "output_type": "execute_result"
    }
   ],
   "source": [
    "# check which stops that are in local data, but not in CA data\n",
    "stop_name = []\n",
    "no_show_name = []\n",
    "\n",
    "for x in stanislaus_clean_no_dup['internet_label']:\n",
    "    stop_name.append(x)\n",
    "    \n",
    "for y in ca_stanislaus_no_dup['stop_name']:\n",
    "    if y in stop_name:\n",
    "        continue\n",
    "    no_show_name.append(y)\n",
    "    \n",
    "\n",
    "#len(stop_name)\n",
    "len(no_show_name)\n",
    "#print(no_show_name)"
   ]
  },
  {
   "cell_type": "code",
   "execution_count": 9,
   "id": "67bdcb01-6446-4caa-8354-5a9140a68175",
   "metadata": {},
   "outputs": [
    {
     "name": "stdout",
     "output_type": "stream",
     "text": [
      "['Bay B - Modesto Transit Center - 1st exi', 'Bay A - Modesto Transit Center - Exit on', 'Yosemite Blvd & Kerr Ave', 'Empire Ave & Yosemite Blvd', 'McHenry Village - McHenry Ave & Granger', 'McHenry Ave between Roseburg Ave & Mensi']\n"
     ]
    }
   ],
   "source": [
    "print(no_show_name)"
   ]
  },
  {
   "cell_type": "markdown",
   "id": "f9f96bbe-6ce5-4eed-b705-0855618c5eb0",
   "metadata": {},
   "source": [
    "# another way. use 'not in'\n",
    "stop_name = []\n",
    "no_show_name = []\n",
    "\n",
    "for x in stanislaus_clean_no_dup['internet_label']:\n",
    "    stop_name.append(x)\n",
    "    \n",
    "for y in ca_stanislaus_no_dup['stop_name']:\n",
    "    if y not in stop_name:\n",
    "        no_show_name.append(y)\n",
    "    \n",
    "\n",
    "#len(stop_name)\n",
    "#len(no_show_name)\n",
    "#print(no_show_name)"
   ]
  },
  {
   "cell_type": "code",
   "execution_count": null,
   "id": "dbee2d31-dc56-4bf7-b719-829cf0c31879",
   "metadata": {},
   "outputs": [],
   "source": [
    "FILE_NAME = \"Turlock Transit - Bus Stop List with Accessibility Information.csv\"\n",
    "turlock = pd.read_csv(f\"{FOLDER}{FILE_NAME}\")\n",
    "\n",
    "#turlock.info()\n",
    "\n",
    "keep_col = ['Stop ID', 'Name (on system map)', 'On street', 'At street', 'Latitude', 'Longitude']\n",
    "turlock1 = turlock[keep_col]\n",
    "turlock_clean = turlock1.rename(columns = {'Stop ID': 'stop_id', 'Name (on system map)': 'name', \n",
    "                                           'On street': 'on_street', 'At street': 'at_street',\n",
    "                                         'Latitude': 'latitude', 'Longitude': 'longitude' })\n",
    "\n",
    "\n",
    "#turlock_clean = (turlock_clean.astype({'stop_id': str}))\n",
    "turlock_clean['stop_id'] = turlock_clean['stop_id'].astype(str)\n",
    "\n",
    "#turlock_clean.dtypes\n",
    "#turlock_clean.head()\n",
    "#len(turlock_clean['stop_id'])\n",
    "#print(turlock_clean['stop_id'])\n",
    "#list(turlock_clean.stop_id[0:5])\n",
    "#turlock_clean[\"stop_id\"].nunique()"
   ]
  },
  {
   "cell_type": "code",
   "execution_count": null,
   "id": "a17e3601-0de8-44b6-a81b-e9afa1f0eea4",
   "metadata": {},
   "outputs": [],
   "source": []
  },
  {
   "cell_type": "code",
   "execution_count": null,
   "id": "bdaa049d-c672-47e8-a2ec-0aaa2f4d6f45",
   "metadata": {},
   "outputs": [],
   "source": []
  }
 ],
 "metadata": {
  "kernelspec": {
   "display_name": "Python 3 (ipykernel)",
   "language": "python",
   "name": "python3"
  },
  "language_info": {
   "codemirror_mode": {
    "name": "ipython",
    "version": 3
   },
   "file_extension": ".py",
   "mimetype": "text/x-python",
   "name": "python",
   "nbconvert_exporter": "python",
   "pygments_lexer": "ipython3",
   "version": "3.9.13"
  }
 },
 "nbformat": 4,
 "nbformat_minor": 5
}
