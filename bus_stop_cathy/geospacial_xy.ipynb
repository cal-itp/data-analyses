{
 "cells": [
  {
   "cell_type": "code",
   "execution_count": 1,
   "id": "be695c8b-3641-4724-96a7-b1a02f0cabe8",
   "metadata": {},
   "outputs": [],
   "source": [
    "import pandas as pd\n",
    "import geopandas as gpd\n",
    "import numpy as np\n",
    "import matplotlib.pyplot as plt\n",
    "import seaborn as sns\n",
    "import decimal\n",
    "# in python, we use lon/lat order"
   ]
  },
  {
   "cell_type": "code",
   "execution_count": 2,
   "id": "434753e1-1b48-4a60-9e49-c1ec35c79637",
   "metadata": {},
   "outputs": [],
   "source": [
    "FOLDER = \"../Bus_Stops/\"\n",
    "FILE_NAME = \"ca_stops_revised.csv\"\n",
    "ca = pd.read_csv(f\"{FOLDER}{FILE_NAME}\")\n",
    "\n",
    "# Keep route_type is 3 (bus stops) only\n",
    "keep_row1 = [3]\n",
    "ca1 = ca[ca.route_type.isin(keep_row1)]\n",
    "#ca1.route_type.value_counts()\n",
    "\n",
    "# Keep Agency for Stanislaus county only\n",
    "keep_row2 = ['Stanislaus Regional Transit Authority']\n",
    "ca2 = ca[ca.agency.isin(keep_row2)]\n",
    "ca2.agency.value_counts()\n",
    "\n",
    "# Keep useful columns only\n",
    "keep_col = ['agency', 'stop_id', 'stop_name', 'x', 'y']\n",
    "ca_stanislaus = ca2[keep_col]\n",
    "\n",
    "ca_stanislaus = ca_stanislaus.rename(columns = {'x': 'lon', 'y': 'lat'})\n",
    "\n",
    "# Change stop_id type from object to string\n",
    "#ca_stanislaus = (ca_stanislaus.astype({'stop_name': str}))\n",
    "\n",
    "# Check cleaned data\n",
    "#ca_stanislaus.head()\n",
    "#len(ca_stanislaus['stop_name'])\n",
    "#ca_stanislaus.dtypes\n",
    "#ca_stanislaus.info()\n",
    "#ca_stanislaus.shape\n",
    "#ca_stanislaus.describe()\n",
    "#list(ca_stanislaus.stop_name[0:5])"
   ]
  },
  {
   "cell_type": "code",
   "execution_count": 3,
   "id": "0f18805a-32e3-47ca-9272-73c0773483cf",
   "metadata": {},
   "outputs": [
    {
     "data": {
      "text/plain": [
       "(114, 5)"
      ]
     },
     "execution_count": 3,
     "metadata": {},
     "output_type": "execute_result"
    }
   ],
   "source": [
    "ca_stanislaus_no_dup = ca_stanislaus.drop_duplicates(subset = ['lon', 'lat'], keep = 'first')\n",
    "ca_stanislaus_no_dup.shape\n",
    "#ca_stanislaus_no_dup.head(2)"
   ]
  },
  {
   "cell_type": "code",
   "execution_count": 4,
   "id": "5d181e81-3551-47ee-8fc7-1f6b724cf406",
   "metadata": {},
   "outputs": [
    {
     "data": {
      "text/plain": [
       "(114, 6)"
      ]
     },
     "execution_count": 4,
     "metadata": {},
     "output_type": "execute_result"
    }
   ],
   "source": [
    "# Change to gdf\n",
    "\n",
    "ca_stanislaus_gdf = gpd.GeoDataFrame(\n",
    "    ca_stanislaus_no_dup, \n",
    "    geometry=gpd.points_from_xy(ca_stanislaus_no_dup['lon'], ca_stanislaus_no_dup['lat']),\n",
    "    crs='EPSG:4326'\n",
    ")\n",
    "#ca_stanislaus_gdf.head()\n",
    "ca_stanislaus_gdf.shape"
   ]
  },
  {
   "cell_type": "code",
   "execution_count": null,
   "id": "f275b4b0-aefb-4ba8-9947-d88ba350ce1d",
   "metadata": {},
   "outputs": [],
   "source": []
  },
  {
   "cell_type": "code",
   "execution_count": null,
   "id": "e6292755-b3d3-46aa-9913-a1104d0cb282",
   "metadata": {},
   "outputs": [],
   "source": []
  },
  {
   "cell_type": "code",
   "execution_count": null,
   "id": "4d92796d-56cc-418d-8f3d-95c61c513adb",
   "metadata": {},
   "outputs": [],
   "source": []
  },
  {
   "cell_type": "code",
   "execution_count": 5,
   "id": "1c59d518-f91d-4b46-93a7-52f3b0aeaa63",
   "metadata": {},
   "outputs": [
    {
     "data": {
      "text/plain": [
       "(916, 5)"
      ]
     },
     "execution_count": 5,
     "metadata": {},
     "output_type": "execute_result"
    }
   ],
   "source": [
    "FILE_NAME = \"Bus Stop Inventory Master List-2024.csv\"\n",
    "stanislaus = pd.read_csv(f\"{FOLDER}{FILE_NAME}\")\n",
    "#stanislaus.head()\n",
    "#stanislaus.info()\n",
    "\n",
    "keep_col = ['Stop Name', 'Internet Label', 'Avail Label',  'City', 'GPS']\n",
    "stanislaus_clean = stanislaus[keep_col]\n",
    "stanislaus_clean.columns = stanislaus_clean.columns.str.strip().str.replace(' ', '_').str.lower()\n",
    "\n",
    "#stanislaus_clean.head()\n",
    "#stanislaus_clean['internet_label'] = Stanislaus_clean['internet_label'].astype(str)\n",
    "#len(stanislaus_clean['internet_label'])\n",
    "#stanislaus_clean.dtypes\n",
    "stanislaus_clean.shape"
   ]
  },
  {
   "cell_type": "code",
   "execution_count": 6,
   "id": "717e6e8b-2014-4284-bcb6-2bbf82ae8d8c",
   "metadata": {},
   "outputs": [
    {
     "data": {
      "text/plain": [
       "(908, 5)"
      ]
     },
     "execution_count": 6,
     "metadata": {},
     "output_type": "execute_result"
    }
   ],
   "source": [
    "# Drop na\n",
    "stanislaus_clean = stanislaus_clean.dropna()\n",
    "stanislaus_clean.shape"
   ]
  },
  {
   "cell_type": "code",
   "execution_count": 7,
   "id": "0edf28a8-82e9-4f33-820c-41946baa122e",
   "metadata": {},
   "outputs": [
    {
     "data": {
      "text/plain": [
       "(907, 5)"
      ]
     },
     "execution_count": 7,
     "metadata": {},
     "output_type": "execute_result"
    }
   ],
   "source": [
    "# Drop duplicates\n",
    "stanislaus_clean_no_dup = stanislaus_clean.drop_duplicates(subset = 'gps', keep = 'first')\n",
    "#stanislaus_clean_no_dup.shape\n",
    "#len(stanislaus_clean_no_dup['internet_label'])\n",
    "stanislaus_clean_no_dup.shape"
   ]
  },
  {
   "cell_type": "code",
   "execution_count": 8,
   "id": "ed6da767-f8f0-4dc3-b3e9-5a98bbeb5b0a",
   "metadata": {},
   "outputs": [
    {
     "data": {
      "text/plain": [
       "(907, 2)"
      ]
     },
     "execution_count": 8,
     "metadata": {},
     "output_type": "execute_result"
    }
   ],
   "source": [
    "# Split x and y\n",
    "xy = stanislaus_clean_no_dup['gps'].str.split(\", \", expand = True)\n",
    "xy = xy.rename(columns = {0: 'lat', 1: 'lon'})\n",
    "#xy.head()\n",
    "xy.shape"
   ]
  },
  {
   "cell_type": "code",
   "execution_count": 9,
   "id": "dea5ef75-226a-4719-9bd6-260387495a8b",
   "metadata": {},
   "outputs": [
    {
     "data": {
      "text/plain": [
       "(906, 2)"
      ]
     },
     "execution_count": 9,
     "metadata": {},
     "output_type": "execute_result"
    }
   ],
   "source": [
    "xy = xy.dropna()\n",
    "xy.shape"
   ]
  },
  {
   "cell_type": "code",
   "execution_count": 10,
   "id": "0b043b49-51eb-4205-a6bf-d58ad3178ac4",
   "metadata": {},
   "outputs": [],
   "source": [
    "stanislaus_clean_no_dup_xy = pd.concat([stanislaus_clean_no_dup, xy], axis = 1)\n",
    "#stanislaus_clean_no_dup_xy.head(2)\n",
    "#stanislaus_clean_no_dup_xy.dtypes"
   ]
  },
  {
   "cell_type": "code",
   "execution_count": 11,
   "id": "b453d183-fa1a-4ced-ba92-7b4066f2f424",
   "metadata": {},
   "outputs": [],
   "source": [
    "# Convert string to float\n",
    "stanislaus_clean_no_dup_xy = stanislaus_clean_no_dup_xy.astype({'lat': float, 'lon': float})"
   ]
  },
  {
   "cell_type": "code",
   "execution_count": 12,
   "id": "b4ef9fe3-6118-4b27-9419-a8ca94489600",
   "metadata": {},
   "outputs": [
    {
     "data": {
      "text/plain": [
       "(907, 7)"
      ]
     },
     "execution_count": 12,
     "metadata": {},
     "output_type": "execute_result"
    }
   ],
   "source": [
    "stanislaus_clean_no_dup_xy.shape"
   ]
  },
  {
   "cell_type": "code",
   "execution_count": 13,
   "id": "50238136-3cdd-47f4-beb0-d36841989dde",
   "metadata": {},
   "outputs": [
    {
     "data": {
      "text/plain": [
       "(907, 8)"
      ]
     },
     "execution_count": 13,
     "metadata": {},
     "output_type": "execute_result"
    }
   ],
   "source": [
    "# Change to gdf\n",
    "\n",
    "stanislaus_gdf = gpd.GeoDataFrame(\n",
    "    stanislaus_clean_no_dup_xy, \n",
    "    geometry=gpd.points_from_xy(stanislaus_clean_no_dup_xy['lon'], stanislaus_clean_no_dup_xy['lat']),\n",
    "    crs='EPSG:4326'\n",
    ")\n",
    "#stanislaus_gdf.head()\n",
    "stanislaus_gdf.shape"
   ]
  },
  {
   "cell_type": "code",
   "execution_count": null,
   "id": "656434f5-c5d2-4f28-85e4-1732884d0eee",
   "metadata": {},
   "outputs": [],
   "source": []
  },
  {
   "cell_type": "code",
   "execution_count": null,
   "id": "6b374520-df18-4803-8fff-f375d068e871",
   "metadata": {},
   "outputs": [],
   "source": []
  },
  {
   "cell_type": "code",
   "execution_count": null,
   "id": "18ee29aa-265e-47ca-b495-efdcc823f33e",
   "metadata": {},
   "outputs": [],
   "source": []
  },
  {
   "cell_type": "code",
   "execution_count": 14,
   "id": "d01e8f58-2792-4051-91c9-c50eb4a0ce6c",
   "metadata": {},
   "outputs": [],
   "source": [
    "# Calculate distance in ft and keep min value for each row in ca data\n",
    "\n",
    "l = []\n",
    "\n",
    "stanislaus_geom = stanislaus_gdf.to_crs(\"EPSG:2229\").geometry\n",
    "for i in range(len(ca_stanislaus_gdf['geometry'])):\n",
    "    ca_geom = ca_stanislaus_gdf.to_crs(\"EPSG:2229\").geometry.iloc[i]\n",
    "    d = ca_geom.distance(stanislaus_geom)\n",
    "    l.append(min(d))\n",
    "ca_stanislaus_gdf['distance_ft'] = l"
   ]
  },
  {
   "cell_type": "code",
   "execution_count": 24,
   "id": "f5f895da-db52-4b9b-a963-50a566a7fefc",
   "metadata": {},
   "outputs": [],
   "source": [
    "# Create a new row: fill in match if distance<=30. else fill in no\n",
    "\n",
    "ca_stanislaus_gdf['same_stop'] = ca_stanislaus_gdf.apply(lambda row: 'match' if row.distance_ft <= 40\n",
    "                else 'not_match', axis = 1)"
   ]
  },
  {
   "cell_type": "code",
   "execution_count": 25,
   "id": "335d888c-9b82-4cc7-bc69-cec19c3b7225",
   "metadata": {},
   "outputs": [
    {
     "data": {
      "text/plain": [
       "match        109\n",
       "not_match      5\n",
       "Name: same_stop, dtype: int64"
      ]
     },
     "execution_count": 25,
     "metadata": {},
     "output_type": "execute_result"
    }
   ],
   "source": [
    "# Check number of match and number of no\n",
    "\n",
    "ca_stanislaus_gdf.same_stop.value_counts()"
   ]
  },
  {
   "cell_type": "code",
   "execution_count": 27,
   "id": "65614a34-8a5e-41b4-be74-c301ba20f081",
   "metadata": {},
   "outputs": [
    {
     "name": "stdout",
     "output_type": "stream",
     "text": [
      "                                     agency stop_id  \\\n",
      "4789  Stanislaus Regional Transit Authority    1302   \n",
      "4802  Stanislaus Regional Transit Authority    1300   \n",
      "4812  Stanislaus Regional Transit Authority     273   \n",
      "4813  Stanislaus Regional Transit Authority     275   \n",
      "4820  Stanislaus Regional Transit Authority    1113   \n",
      "\n",
      "                                     stop_name         lon        lat  \\\n",
      "4789  Bay B - Modesto Transit Center - 1st exi -121.000580  37.638838   \n",
      "4802  Bay A - Modesto Transit Center - Exit on -121.001297  37.639402   \n",
      "4812                  Yosemite Blvd & Kerr Ave -120.970964  37.638151   \n",
      "4813                Empire Ave & Yosemite Blvd -120.967960  37.637905   \n",
      "4820                      Yosemite Blvd & B St -120.907180  37.638191   \n",
      "\n",
      "                         geometry  distance_ft  same_stop  \n",
      "4789  POINT (-121.00058 37.63884)   169.619273  not_match  \n",
      "4802  POINT (-121.00130 37.63940)   127.421079  not_match  \n",
      "4812  POINT (-120.97096 37.63815)   541.652641  not_match  \n",
      "4813  POINT (-120.96796 37.63791)   332.467720  not_match  \n",
      "4820  POINT (-120.90718 37.63819)   220.761664  not_match  \n"
     ]
    }
   ],
   "source": [
    "# Pull out stops don't match\n",
    "\n",
    "keep_no = ['not_match']\n",
    "different_stop = ca_stanislaus_gdf[ca_stanislaus_gdf.same_stop.isin(keep_no)]\n",
    "print(different_stop)"
   ]
  },
  {
   "cell_type": "code",
   "execution_count": null,
   "id": "a4046f9c-1e3f-4152-af78-d2180f34cf61",
   "metadata": {},
   "outputs": [],
   "source": [
    "# Visualize stops on map\n",
    "\n",
    "ca_stanislaus_gdf.explore('stop_name')"
   ]
  },
  {
   "cell_type": "code",
   "execution_count": null,
   "id": "c815ea3f-cbb0-41a4-8311-d02287f68349",
   "metadata": {},
   "outputs": [],
   "source": []
  },
  {
   "cell_type": "code",
   "execution_count": null,
   "id": "d838955d-2f90-4353-8242-b6601f4739ec",
   "metadata": {},
   "outputs": [],
   "source": []
  },
  {
   "cell_type": "code",
   "execution_count": null,
   "id": "6b8a8588-185f-4288-b1f8-a37a6165b4e6",
   "metadata": {},
   "outputs": [],
   "source": []
  },
  {
   "cell_type": "code",
   "execution_count": null,
   "id": "ce3db5ad-3c1c-459d-b4f1-ad31cafa4820",
   "metadata": {},
   "outputs": [],
   "source": [
    "#Tiffany work\n",
    "stan_diss = stanislaus_gdf[[\"geometry\"]].dissolve().reset_index()\n",
    "stan_diss"
   ]
  },
  {
   "cell_type": "code",
   "execution_count": null,
   "id": "e39c08fa-b683-4cd2-af83-8ec0e5481bbd",
   "metadata": {},
   "outputs": [],
   "source": [
    "#Tiffany work\n",
    "for row in ca_stanislaus_gdf.head().itertuples():\n",
    "    this_stop_geom = getattr(row, \"geometry\").to_crs(\"EPSG:2229\")\n",
    "    my_distance = this_stop_geom.distance(stan_diss.geometry.to_crs(\"EPSG:2229\"))\n",
    "    print(my_distance)"
   ]
  },
  {
   "cell_type": "code",
   "execution_count": null,
   "id": "621fab53-abe1-41f7-92b6-853fe6d64563",
   "metadata": {},
   "outputs": [],
   "source": [
    "#Tiffany work\n",
    "l = []\n",
    "ca_stanislaus_gdf = ca_stanislaus_gdf.to_crs()\n",
    "stan_diss = stan_diss.to_crs()\n",
    "for row in ca_stanislaus_gdf.itertuples():\n",
    "        this_stop_geom = getattr(row, \"geometry\")\n",
    "        my_distance = this_stop_distance(stan_diss.geometry)\n",
    "        l.append(my_distance)"
   ]
  },
  {
   "cell_type": "code",
   "execution_count": null,
   "id": "2ba9a9a5-9fcd-4b13-9305-b208d19a7c6d",
   "metadata": {},
   "outputs": [],
   "source": [
    "#Tiffany work\n",
    "ca_stanislaus_gdf[\"distance_feet\"] = l"
   ]
  },
  {
   "cell_type": "code",
   "execution_count": null,
   "id": "a936544c-8622-4f86-8069-6324e1889c1c",
   "metadata": {},
   "outputs": [],
   "source": [
    "#Cathy work: create a list of all distances\n",
    "\n",
    "l = []\n",
    "\n",
    "ca_geom = ca_stanislaus_gdf.to_crs(\"EPSG:2229\").geometry\n",
    "for i in range(len(stanislaus_gdf['geometry'])):\n",
    "    stanislaus_geom = stanislaus_gdf.to_crs(\"EPSG:2229\").geometry.iloc[i]\n",
    "    distance = stanislaus_geom.distance(ca_geom)\n",
    "    for j in range(len(distance)):\n",
    "        if distance.iloc[j] <= 30:\n",
    "            l.append('match')\n",
    "len(l)     "
   ]
  },
  {
   "cell_type": "code",
   "execution_count": null,
   "id": "5a27c178-0aa1-44f0-808b-dc61ba93a12f",
   "metadata": {},
   "outputs": [],
   "source": []
  },
  {
   "cell_type": "code",
   "execution_count": null,
   "id": "98317e86-d9d2-473f-842d-cb6c865a37fb",
   "metadata": {},
   "outputs": [],
   "source": [
    "join1 = gpd.sjoin(stanislaus_gdf, ca_stanislaus_gdf, how = 'inner', predicate = 'intersects')\n",
    "join1.shape"
   ]
  },
  {
   "cell_type": "code",
   "execution_count": null,
   "id": "96ffc9d1-a178-4889-bd82-65fc321d08b9",
   "metadata": {},
   "outputs": [],
   "source": [
    "join1 = gpd.sjoin(stanislaus_gdf, ca_stanislaus_gdf, how = 'inner', predicate='within')\n",
    "join1.shape\n",
    "#join1.head()"
   ]
  },
  {
   "cell_type": "code",
   "execution_count": null,
   "id": "8d0ad4b6-948b-40f6-b8d9-2380ceee8c89",
   "metadata": {},
   "outputs": [],
   "source": [
    "intersection_overlay = gpd.overlay(\n",
    "    stanislaus_gdf,\n",
    "    ca_stanislaus_gdf,\n",
    "    how = \"intersection\", \n",
    "    keep_geom_type=True\n",
    ")\n",
    "intersection_overlay.shape"
   ]
  },
  {
   "cell_type": "code",
   "execution_count": null,
   "id": "79e547d8-71e8-4302-83c7-16f394022ef4",
   "metadata": {},
   "outputs": [],
   "source": [
    "ca_stanislaus_gdf.explore(tiles=\"CartoDB Positron\")\n",
    "#ca_stanislaus_gdf.explore('stop_name')\n",
    "\n",
    "#ca_stanislaus_gdf.set_geometry(\"geometry\").explore(tiles='CartoDB Positron')\n",
    "#ca_stanislaus_gdf.head(5).explore(tiles=\"CartoDB Positron\")\n",
    "#ca_stanislaus_gdf.head(5).set_geometry(\"geometry_buffered\").explore(tiles='CartoDB Positron')\n",
    "#ca_stanislaus_gdf.head(10).explore('stop_name')"
   ]
  }
 ],
 "metadata": {
  "kernelspec": {
   "display_name": "Python 3 (ipykernel)",
   "language": "python",
   "name": "python3"
  },
  "language_info": {
   "codemirror_mode": {
    "name": "ipython",
    "version": 3
   },
   "file_extension": ".py",
   "mimetype": "text/x-python",
   "name": "python",
   "nbconvert_exporter": "python",
   "pygments_lexer": "ipython3",
   "version": "3.9.13"
  }
 },
 "nbformat": 4,
 "nbformat_minor": 5
}
