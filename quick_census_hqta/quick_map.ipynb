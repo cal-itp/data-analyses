{
 "cells": [
  {
   "cell_type": "code",
   "execution_count": 1,
   "id": "5318c540-6428-4a5a-87a1-59f691b351a7",
   "metadata": {},
   "outputs": [
    {
     "name": "stderr",
     "output_type": "stream",
     "text": [
      "/Users/edasmalchi/anaconda3/envs/pd1/lib/python3.9/site-packages/google/auth/_default.py:68: UserWarning: Your application has authenticated using end user credentials from Google Cloud SDK without a quota project. You might receive a \"quota exceeded\" or \"API not enabled\" error. We recommend you rerun `gcloud auth application-default login` and make sure a quota project is added. Or you can use service accounts instead. For more information about service accounts, see https://cloud.google.com/docs/authentication/\n",
      "  warnings.warn(_CLOUD_SDK_CREDENTIALS_WARNING)\n"
     ]
    }
   ],
   "source": [
    "import calitp\n",
    "from calitp.tables import tbl\n",
    "from siuba import *\n",
    "\n",
    "import pandas as pd\n",
    "import numpy as np\n",
    "import geopandas as gpd\n",
    "import fiona\n",
    "\n",
    "from ipyleaflet import Map, GeoJSON, projections, basemaps, GeoData, LayersControl, WidgetControl, GeoJSON\n",
    "from ipywidgets import Text, HTML"
   ]
  },
  {
   "cell_type": "code",
   "execution_count": 2,
   "id": "6e5cff5b-b7f2-4edd-b444-1e1ff44a34cc",
   "metadata": {},
   "outputs": [],
   "source": [
    "census_pop = pd.read_csv('./ACSDT5Y2019.B01003_2021-10-18T202433/ACSDT5Y2019.B01003_data_with_overlays_2021-10-18T202425.csv')\n",
    "census_pop = census_pop[1:]\n",
    "census_pop = census_pop.rename(columns={'B01003_001E':'population', 'B01003_001M':'margin_err'})\n",
    "census_pop['GEOID'] = census_pop['GEO_ID'].apply(lambda x: x[9:])\n",
    "census_pop['population'] = census_pop['population'].astype('int64')"
   ]
  },
  {
   "cell_type": "code",
   "execution_count": 3,
   "id": "7b685c0c-5435-4318-8aa3-b8853876a457",
   "metadata": {},
   "outputs": [
    {
     "data": {
      "text/html": [
       "<div>\n",
       "<style scoped>\n",
       "    .dataframe tbody tr th:only-of-type {\n",
       "        vertical-align: middle;\n",
       "    }\n",
       "\n",
       "    .dataframe tbody tr th {\n",
       "        vertical-align: top;\n",
       "    }\n",
       "\n",
       "    .dataframe thead th {\n",
       "        text-align: right;\n",
       "    }\n",
       "</style>\n",
       "<table border=\"1\" class=\"dataframe\">\n",
       "  <thead>\n",
       "    <tr style=\"text-align: right;\">\n",
       "      <th></th>\n",
       "      <th>GEO_ID</th>\n",
       "      <th>NAME</th>\n",
       "      <th>population</th>\n",
       "      <th>margin_err</th>\n",
       "      <th>GEOID</th>\n",
       "    </tr>\n",
       "  </thead>\n",
       "  <tbody>\n",
       "    <tr>\n",
       "      <th>1</th>\n",
       "      <td>1400000US06001400100</td>\n",
       "      <td>Census Tract 4001, Alameda County, California</td>\n",
       "      <td>3120</td>\n",
       "      <td>208</td>\n",
       "      <td>06001400100</td>\n",
       "    </tr>\n",
       "    <tr>\n",
       "      <th>2</th>\n",
       "      <td>1400000US06001400200</td>\n",
       "      <td>Census Tract 4002, Alameda County, California</td>\n",
       "      <td>2007</td>\n",
       "      <td>120</td>\n",
       "      <td>06001400200</td>\n",
       "    </tr>\n",
       "    <tr>\n",
       "      <th>3</th>\n",
       "      <td>1400000US06001400300</td>\n",
       "      <td>Census Tract 4003, Alameda County, California</td>\n",
       "      <td>5051</td>\n",
       "      <td>309</td>\n",
       "      <td>06001400300</td>\n",
       "    </tr>\n",
       "    <tr>\n",
       "      <th>4</th>\n",
       "      <td>1400000US06001400400</td>\n",
       "      <td>Census Tract 4004, Alameda County, California</td>\n",
       "      <td>4007</td>\n",
       "      <td>344</td>\n",
       "      <td>06001400400</td>\n",
       "    </tr>\n",
       "    <tr>\n",
       "      <th>5</th>\n",
       "      <td>1400000US06001400500</td>\n",
       "      <td>Census Tract 4005, Alameda County, California</td>\n",
       "      <td>4124</td>\n",
       "      <td>357</td>\n",
       "      <td>06001400500</td>\n",
       "    </tr>\n",
       "    <tr>\n",
       "      <th>...</th>\n",
       "      <td>...</td>\n",
       "      <td>...</td>\n",
       "      <td>...</td>\n",
       "      <td>...</td>\n",
       "      <td>...</td>\n",
       "    </tr>\n",
       "    <tr>\n",
       "      <th>8053</th>\n",
       "      <td>1400000US06115040800</td>\n",
       "      <td>Census Tract 408, Yuba County, California</td>\n",
       "      <td>4652</td>\n",
       "      <td>247</td>\n",
       "      <td>06115040800</td>\n",
       "    </tr>\n",
       "    <tr>\n",
       "      <th>8054</th>\n",
       "      <td>1400000US06115040901</td>\n",
       "      <td>Census Tract 409.01, Yuba County, California</td>\n",
       "      <td>2720</td>\n",
       "      <td>298</td>\n",
       "      <td>06115040901</td>\n",
       "    </tr>\n",
       "    <tr>\n",
       "      <th>8055</th>\n",
       "      <td>1400000US06115040902</td>\n",
       "      <td>Census Tract 409.02, Yuba County, California</td>\n",
       "      <td>1653</td>\n",
       "      <td>334</td>\n",
       "      <td>06115040902</td>\n",
       "    </tr>\n",
       "    <tr>\n",
       "      <th>8056</th>\n",
       "      <td>1400000US06115041000</td>\n",
       "      <td>Census Tract 410, Yuba County, California</td>\n",
       "      <td>7298</td>\n",
       "      <td>789</td>\n",
       "      <td>06115041000</td>\n",
       "    </tr>\n",
       "    <tr>\n",
       "      <th>8057</th>\n",
       "      <td>1400000US06115041100</td>\n",
       "      <td>Census Tract 411, Yuba County, California</td>\n",
       "      <td>4122</td>\n",
       "      <td>510</td>\n",
       "      <td>06115041100</td>\n",
       "    </tr>\n",
       "  </tbody>\n",
       "</table>\n",
       "<p>8057 rows × 5 columns</p>\n",
       "</div>"
      ],
      "text/plain": [
       "                    GEO_ID                                           NAME  \\\n",
       "1     1400000US06001400100  Census Tract 4001, Alameda County, California   \n",
       "2     1400000US06001400200  Census Tract 4002, Alameda County, California   \n",
       "3     1400000US06001400300  Census Tract 4003, Alameda County, California   \n",
       "4     1400000US06001400400  Census Tract 4004, Alameda County, California   \n",
       "5     1400000US06001400500  Census Tract 4005, Alameda County, California   \n",
       "...                    ...                                            ...   \n",
       "8053  1400000US06115040800      Census Tract 408, Yuba County, California   \n",
       "8054  1400000US06115040901   Census Tract 409.01, Yuba County, California   \n",
       "8055  1400000US06115040902   Census Tract 409.02, Yuba County, California   \n",
       "8056  1400000US06115041000      Census Tract 410, Yuba County, California   \n",
       "8057  1400000US06115041100      Census Tract 411, Yuba County, California   \n",
       "\n",
       "      population margin_err        GEOID  \n",
       "1           3120        208  06001400100  \n",
       "2           2007        120  06001400200  \n",
       "3           5051        309  06001400300  \n",
       "4           4007        344  06001400400  \n",
       "5           4124        357  06001400500  \n",
       "...          ...        ...          ...  \n",
       "8053        4652        247  06115040800  \n",
       "8054        2720        298  06115040901  \n",
       "8055        1653        334  06115040902  \n",
       "8056        7298        789  06115041000  \n",
       "8057        4122        510  06115041100  \n",
       "\n",
       "[8057 rows x 5 columns]"
      ]
     },
     "execution_count": 3,
     "metadata": {},
     "output_type": "execute_result"
    }
   ],
   "source": [
    "census_pop"
   ]
  },
  {
   "cell_type": "code",
   "execution_count": 4,
   "id": "115709ce-909f-442a-81f8-781604ada2fb",
   "metadata": {},
   "outputs": [],
   "source": [
    "census_shape = gpd.read_file('./tl_2019_06_tract/tl_2019_06_tract.shp')"
   ]
  },
  {
   "cell_type": "code",
   "execution_count": 5,
   "id": "63385d71-1d1d-4db6-9572-91c85220070a",
   "metadata": {},
   "outputs": [],
   "source": [
    "census_joined = census_shape >> inner_join(_, census_pop, on='GEOID')"
   ]
  },
  {
   "cell_type": "code",
   "execution_count": 6,
   "id": "af2256d1-65c4-49a7-94d1-207dae07ee87",
   "metadata": {},
   "outputs": [],
   "source": [
    "census_joined = census_joined.to_crs('EPSG:6414') ## https://epsg.io/6414 (meters)"
   ]
  },
  {
   "cell_type": "code",
   "execution_count": 7,
   "id": "a2bf43a0-b032-49b4-a3e1-d4b753d613ee",
   "metadata": {},
   "outputs": [],
   "source": [
    "sq_mi_per_sq_m = 3.86 * 10**-7"
   ]
  },
  {
   "cell_type": "code",
   "execution_count": 8,
   "id": "ab011353-78db-4e17-8d0c-dbb06aa40d5f",
   "metadata": {},
   "outputs": [],
   "source": [
    "census_joined['sq_mi'] = census_joined['geometry'].area * sq_mi_per_sq_m"
   ]
  },
  {
   "cell_type": "code",
   "execution_count": 9,
   "id": "933688c6-d031-4d09-822f-d81fc07ae34f",
   "metadata": {},
   "outputs": [],
   "source": [
    "census_joined['urban'] = census_joined.apply(lambda x: True if x.population / x.sq_mi > 2400 else False, axis=1)"
   ]
  },
  {
   "cell_type": "code",
   "execution_count": 10,
   "id": "7c8c5041-21b8-42b4-86a1-bb52edbf068e",
   "metadata": {},
   "outputs": [],
   "source": [
    "bus_hqta = gpd.read_parquet('../high_quality_transit_areas/data/bus/shape_hqta_dissolve.parquet')"
   ]
  },
  {
   "cell_type": "code",
   "execution_count": 17,
   "id": "c44a534a-e60f-4af9-bb61-7c8fe6cd2e26",
   "metadata": {},
   "outputs": [],
   "source": [
    "def map_hqta(gdf, gdf2, mouseover=None):\n",
    "    global nix_list\n",
    "    nix_list = []\n",
    "    \n",
    "    if 'calitp_extracted_at' in gdf.columns:\n",
    "        gdf = gdf.drop(columns='calitp_extracted_at')\n",
    "    gdf = gdf.to_crs('EPSG:6414') ## https://epsg.io/6414 (meters)\n",
    "    if gdf.geometry.iloc[0].geom_type == 'Point':\n",
    "        gdf.geometry = gdf.geometry.buffer(200)\n",
    "    \n",
    "    x = gdf.to_crs('EPSG:4326').geometry.iloc[0].centroid.x\n",
    "    y = gdf.to_crs('EPSG:4326').geometry.iloc[0].centroid.y\n",
    "    \n",
    "    m = Map(basemap=basemaps.CartoDB.Positron, center=[y, x], zoom=11)\n",
    "\n",
    "    if mouseover:\n",
    "        html = HTML(f'hover to see {mouseover}')\n",
    "        html.layout.margin = '0px 20px 20px 20px'\n",
    "        control = WidgetControl(widget=html, position='topright')\n",
    "        m.add_control(control)\n",
    "\n",
    "        def update_html(feature,  **kwargs):\n",
    "            html.value = '''\n",
    "                <h3><b>{}</b></h3>\n",
    "            '''.format(feature['properties'][mouseover])\n",
    "            \n",
    "        def add_to_nix(feature, **kwargs):\n",
    "            nix_list.append(feature['properties'][mouseover])\n",
    "            \n",
    "    if 'urban' in gdf.columns:\n",
    "        geo_data_urban = GeoData(geo_dataframe = gdf[gdf['urban']].to_crs('EPSG:4326'),\n",
    "                               style={'color': 'black', 'fillColor': '#2b83ba',\n",
    "                                            'opacity':0.4, 'weight':.5, 'dashArray':'2', 'fillOpacity':0.3},\n",
    "                               hover_style={'fillColor': 'red' , 'fillOpacity': 0.2},\n",
    "                               name = 'HQTA')\n",
    "        #a8ddb5\n",
    "        geo_data_not_urban = GeoData(geo_dataframe = gdf[~gdf['urban']].to_crs('EPSG:4326'),\n",
    "                               style={'color': 'black', 'fillColor': '#abdda4',\n",
    "                                            'opacity':0.2, 'weight':.5, 'dashArray':'2', 'fillOpacity':0.3},\n",
    "                               hover_style={'fillColor': 'red' , 'fillOpacity': 0.1},\n",
    "                               name = 'non-HQTA')\n",
    "\n",
    "        m.add_layer(geo_data_urban)\n",
    "        m.add_layer(geo_data_not_urban)\n",
    "    \n",
    "    if 'hq_transit_corr' in gdf2.columns:\n",
    "        \n",
    "        geo_data_hq = GeoData(geo_dataframe = gdf2[gdf2['hq_transit_corr']].to_crs('EPSG:4326'),\n",
    "                               style={'color': 'black', 'fillColor': '#d7191c',\n",
    "                                            'opacity':0.2, 'weight':.5, 'dashArray':'2', 'fillOpacity':0.3},\n",
    "                               hover_style={'fillColor': 'red' , 'fillOpacity': 0.3},\n",
    "                               name = 'HQTA')\n",
    "        #a8ddb5\n",
    "        geo_data_not_hq = GeoData(geo_dataframe = gdf2[~gdf2['hq_transit_corr']].to_crs('EPSG:4326'),\n",
    "                               style={'color': 'black', 'fillColor': '#fdae61',\n",
    "                                            'opacity':0.2, 'weight':.5, 'dashArray':'2', 'fillOpacity':0.3},\n",
    "                               hover_style={'fillColor': 'red' , 'fillOpacity': 0.2},\n",
    "                               name = 'non-HQTA')\n",
    "\n",
    "        m.add_layer(geo_data_hq)\n",
    "        m.add_layer(geo_data_not_hq)\n",
    "        \n",
    "        legend = LegendControl({\"Urban tract\":\"#2b83ba\", \"Non-urban tract\":\"#abdda4\", \"HQ transit corridor\":\"#d7191c\",\n",
    "                               \"Other transit corridor\":\"fdae61\"},\n",
    "                               name=\"Legend\",\n",
    "                               position=\"bottomright\")\n",
    "        m.add_control(legend)\n",
    "        \n",
    "    if mouseover:\n",
    "        geo_data_hq.on_hover(update_html)\n",
    "        geo_data_hq.on_hover(add_to_nix)\n",
    "\n",
    "    m.add_control(LayersControl())\n",
    "\n",
    "    return m"
   ]
  },
  {
   "cell_type": "code",
   "execution_count": 14,
   "id": "f2c196e6-342c-4795-84c3-11eea40addf5",
   "metadata": {},
   "outputs": [
    {
     "data": {
      "application/vnd.jupyter.widget-view+json": {
       "model_id": "602024c724394c40987acd59b5bcf796",
       "version_major": 2,
       "version_minor": 0
      },
      "text/plain": [
       "Map(center=[34.178153601202446, -118.55812675253787], controls=(ZoomControl(options=['position', 'zoom_in_text…"
      ]
     },
     "metadata": {},
     "output_type": "display_data"
    }
   ],
   "source": [
    "map_hqta(census_joined, bus_hqta)"
   ]
  }
 ],
 "metadata": {
  "kernelspec": {
   "display_name": "Python 3 (ipykernel)",
   "language": "python",
   "name": "python3"
  },
  "language_info": {
   "codemirror_mode": {
    "name": "ipython",
    "version": 3
   },
   "file_extension": ".py",
   "mimetype": "text/x-python",
   "name": "python",
   "nbconvert_exporter": "python",
   "pygments_lexer": "ipython3",
   "version": "3.9.7"
  }
 },
 "nbformat": 4,
 "nbformat_minor": 5
}
