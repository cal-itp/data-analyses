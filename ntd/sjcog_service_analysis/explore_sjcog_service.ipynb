{
 "cells": [
  {
   "cell_type": "markdown",
   "id": "e5575a7b-8ed2-4634-8e12-6e2822bdb4ef",
   "metadata": {},
   "source": [
    "# Research Request - Service Data for SJCOG #1476\n",
    "\n",
    "explore trying to answer these questions from the issue:\n",
    "\n",
    "- share some information from NTD on what % of services are provided by SJRTD.\n",
    "- see if NTD can help us tell what each operators need is for that region.\n",
    "- see if NTD shows you the operations just in a particular UZA.\n",
    "- Are you able to see specifically within the Tracy boundaries which percentage of service is provided by City of Tracy vs SJRTD?\n",
    "- Can NTD tell you the funding for each operator by source?\n",
    "- Can you tell what level of 5307, 5311, TDA, LCTOP etc they [operators?] get from there?\n",
    "\n",
    "However, these question revolve around knowing the proportion of service that happens between area, not just the agencies main area. Example, the UZA for SJRTD is \"Stockton, CA\". But SJRTD runs service that goes outside of Stockton (some bus routes go to Tracy, Ripon, Lodi)"
   ]
  },
  {
   "cell_type": "code",
   "execution_count": 1,
   "id": "5f91a533-3925-4e4f-b6d7-8f0e4c3f8a70",
   "metadata": {
    "tags": []
   },
   "outputs": [],
   "source": [
    "import altair as alt\n",
    "import pandas as pd\n",
    "from calitp_data_analysis.tables import tbls\n",
    "from siuba import _, collect, count, filter, group_by, select, show_query, summarize\n",
    "\n",
    "# from update_vars import GCS_FILE_PATH, NTD_MODES, NTD_TOS\n",
    "\n",
    "pd.set_option(\"display.max_columns\", None)\n",
    "pd.set_option(\"display.max_rows\", None)"
   ]
  },
  {
   "cell_type": "code",
   "execution_count": 8,
   "id": "560fd339-3302-4cbc-9d77-a0dcf703a592",
   "metadata": {
    "tags": []
   },
   "outputs": [],
   "source": [
    "sj_cities = [\n",
    "    \"Stockton\",\n",
    "    \"Escalon\",\n",
    "    \"Tracy\",\n",
    "    \"Lathrop\",\n",
    "    \"Lodi\",\n",
    "    \"Manteca\",\n",
    "    \"Mountain House\",\n",
    "    \"Ripon\",\n",
    "    \"Acampo\",\n",
    "    \"French Camp\",\n",
    "    \"Garden Arcres\",\n",
    "]"
   ]
  },
  {
   "cell_type": "code",
   "execution_count": 34,
   "id": "5b92667f-7004-43c0-8935-8a100a8d23f1",
   "metadata": {},
   "outputs": [
    {
     "name": "stdout",
     "output_type": "stream",
     "text": [
      "<class 'pandas.core.frame.DataFrame'>\n",
      "RangeIndex: 269 entries, 0 to 268\n",
      "Data columns (total 7 columns):\n",
      " #   Column            Non-Null Count  Dtype  \n",
      "---  ------            --------------  -----  \n",
      " 0   agency_name       269 non-null    object \n",
      " 1   ntd_id            254 non-null    object \n",
      " 2   reporter_type     269 non-null    object \n",
      " 3   primary_uza_name  269 non-null    object \n",
      " 4   last_report_year  269 non-null    int64  \n",
      " 5   city              255 non-null    object \n",
      " 6   total_vrh         268 non-null    float64\n",
      "dtypes: float64(1), int64(1), object(5)\n",
      "memory usage: 14.8+ KB\n"
     ]
    }
   ],
   "source": [
    "ca = (\n",
    "    tbls.mart_ntd_funding_and_expenses.fct_service_data_and_operating_expenses_time_series_by_mode_vrh()\n",
    "    >> filter(\n",
    "        _.state == \"CA\",\n",
    "        # _.city == \"Stockton\"\n",
    "        # _.report_year == 2023\n",
    "    )\n",
    "    >> group_by(\n",
    "        _.agency_name, \n",
    "        _.ntd_id, \n",
    "        _.reporter_type, \n",
    "        _.primary_uza_name, \n",
    "        _.last_report_year, \n",
    "        _.city\n",
    "    )\n",
    "    >> summarize(total_vrh=_.vrh.sum())\n",
    "    >> collect()\n",
    ")  # .fillna(0)\n",
    "\n",
    "ca.info()"
   ]
  },
  {
   "cell_type": "code",
   "execution_count": 35,
   "id": "0945fdc1-3867-4508-8632-4c220c86826a",
   "metadata": {
    "tags": []
   },
   "outputs": [
    {
     "data": {
      "text/plain": [
       "False    255\n",
       "True      14\n",
       "Name: city, dtype: int64"
      ]
     },
     "execution_count": 35,
     "metadata": {},
     "output_type": "execute_result"
    }
   ],
   "source": [
    "ca[\"city\"].isna().value_counts()"
   ]
  },
  {
   "cell_type": "code",
   "execution_count": 36,
   "id": "67893230-80fd-4175-bbc6-c522074f2b28",
   "metadata": {
    "tags": []
   },
   "outputs": [
    {
     "data": {
      "text/plain": [
       "False    269\n",
       "Name: city, dtype: int64"
      ]
     },
     "execution_count": 36,
     "metadata": {},
     "output_type": "execute_result"
    }
   ],
   "source": [
    "ca.fillna(\"none\")[\"city\"].isna().value_counts()"
   ]
  },
  {
   "cell_type": "code",
   "execution_count": 37,
   "id": "5f3b65a0-bd76-48a4-931e-d3de16cc03bb",
   "metadata": {},
   "outputs": [
    {
     "data": {
      "text/plain": [
       "'Agencies with Stockton as UZA'"
      ]
     },
     "metadata": {},
     "output_type": "display_data"
    },
    {
     "data": {
      "text/html": [
       "<div>\n",
       "<style scoped>\n",
       "    .dataframe tbody tr th:only-of-type {\n",
       "        vertical-align: middle;\n",
       "    }\n",
       "\n",
       "    .dataframe tbody tr th {\n",
       "        vertical-align: top;\n",
       "    }\n",
       "\n",
       "    .dataframe thead th {\n",
       "        text-align: right;\n",
       "    }\n",
       "</style>\n",
       "<table border=\"1\" class=\"dataframe\">\n",
       "  <thead>\n",
       "    <tr style=\"text-align: right;\">\n",
       "      <th></th>\n",
       "      <th>agency_name</th>\n",
       "      <th>ntd_id</th>\n",
       "      <th>reporter_type</th>\n",
       "      <th>primary_uza_name</th>\n",
       "      <th>last_report_year</th>\n",
       "      <th>city</th>\n",
       "      <th>total_vrh</th>\n",
       "    </tr>\n",
       "  </thead>\n",
       "  <tbody>\n",
       "    <tr>\n",
       "      <th>7</th>\n",
       "      <td>Altamont Corridor Express (ACE)</td>\n",
       "      <td>90182</td>\n",
       "      <td>Full Reporter</td>\n",
       "      <td>Stockton, CA</td>\n",
       "      <td>2023</td>\n",
       "      <td>Stockton</td>\n",
       "      <td>529179.0</td>\n",
       "    </tr>\n",
       "    <tr>\n",
       "      <th>131</th>\n",
       "      <td>San Joaquin Regional Transit District (RTD)</td>\n",
       "      <td>90012</td>\n",
       "      <td>Full Reporter</td>\n",
       "      <td>Stockton, CA</td>\n",
       "      <td>2023</td>\n",
       "      <td>Stockton</td>\n",
       "      <td>7249405.0</td>\n",
       "    </tr>\n",
       "    <tr>\n",
       "      <th>254</th>\n",
       "      <td>San Joaquin Council (SJCOG)</td>\n",
       "      <td>99422</td>\n",
       "      <td>Full Reporter</td>\n",
       "      <td>Stockton, CA</td>\n",
       "      <td>2023</td>\n",
       "      <td>Stockton</td>\n",
       "      <td>650385.0</td>\n",
       "    </tr>\n",
       "  </tbody>\n",
       "</table>\n",
       "</div>"
      ],
      "text/plain": [
       "                                     agency_name ntd_id  reporter_type  \\\n",
       "7                Altamont Corridor Express (ACE)  90182  Full Reporter   \n",
       "131  San Joaquin Regional Transit District (RTD)  90012  Full Reporter   \n",
       "254                  San Joaquin Council (SJCOG)  99422  Full Reporter   \n",
       "\n",
       "    primary_uza_name  last_report_year      city  total_vrh  \n",
       "7       Stockton, CA              2023  Stockton   529179.0  \n",
       "131     Stockton, CA              2023  Stockton  7249405.0  \n",
       "254     Stockton, CA              2023  Stockton   650385.0  "
      ]
     },
     "metadata": {},
     "output_type": "display_data"
    },
    {
     "data": {
      "text/plain": [
       "'Agencies with Stockton as City'"
      ]
     },
     "metadata": {},
     "output_type": "display_data"
    },
    {
     "data": {
      "text/html": [
       "<div>\n",
       "<style scoped>\n",
       "    .dataframe tbody tr th:only-of-type {\n",
       "        vertical-align: middle;\n",
       "    }\n",
       "\n",
       "    .dataframe tbody tr th {\n",
       "        vertical-align: top;\n",
       "    }\n",
       "\n",
       "    .dataframe thead th {\n",
       "        text-align: right;\n",
       "    }\n",
       "</style>\n",
       "<table border=\"1\" class=\"dataframe\">\n",
       "  <thead>\n",
       "    <tr style=\"text-align: right;\">\n",
       "      <th></th>\n",
       "      <th>agency_name</th>\n",
       "      <th>ntd_id</th>\n",
       "      <th>reporter_type</th>\n",
       "      <th>primary_uza_name</th>\n",
       "      <th>last_report_year</th>\n",
       "      <th>city</th>\n",
       "      <th>total_vrh</th>\n",
       "    </tr>\n",
       "  </thead>\n",
       "  <tbody>\n",
       "    <tr>\n",
       "      <th>7</th>\n",
       "      <td>Altamont Corridor Express (ACE)</td>\n",
       "      <td>90182</td>\n",
       "      <td>Full Reporter</td>\n",
       "      <td>Stockton, CA</td>\n",
       "      <td>2023</td>\n",
       "      <td>Stockton</td>\n",
       "      <td>529179.0</td>\n",
       "    </tr>\n",
       "    <tr>\n",
       "      <th>131</th>\n",
       "      <td>San Joaquin Regional Transit District (RTD)</td>\n",
       "      <td>90012</td>\n",
       "      <td>Full Reporter</td>\n",
       "      <td>Stockton, CA</td>\n",
       "      <td>2023</td>\n",
       "      <td>Stockton</td>\n",
       "      <td>7249405.0</td>\n",
       "    </tr>\n",
       "    <tr>\n",
       "      <th>254</th>\n",
       "      <td>San Joaquin Council (SJCOG)</td>\n",
       "      <td>99422</td>\n",
       "      <td>Full Reporter</td>\n",
       "      <td>Stockton, CA</td>\n",
       "      <td>2023</td>\n",
       "      <td>Stockton</td>\n",
       "      <td>650385.0</td>\n",
       "    </tr>\n",
       "  </tbody>\n",
       "</table>\n",
       "</div>"
      ],
      "text/plain": [
       "                                     agency_name ntd_id  reporter_type  \\\n",
       "7                Altamont Corridor Express (ACE)  90182  Full Reporter   \n",
       "131  San Joaquin Regional Transit District (RTD)  90012  Full Reporter   \n",
       "254                  San Joaquin Council (SJCOG)  99422  Full Reporter   \n",
       "\n",
       "    primary_uza_name  last_report_year      city  total_vrh  \n",
       "7       Stockton, CA              2023  Stockton   529179.0  \n",
       "131     Stockton, CA              2023  Stockton  7249405.0  \n",
       "254     Stockton, CA              2023  Stockton   650385.0  "
      ]
     },
     "metadata": {},
     "output_type": "display_data"
    },
    {
     "data": {
      "text/plain": [
       "'Agencies with Escalon as UZA'"
      ]
     },
     "metadata": {},
     "output_type": "display_data"
    },
    {
     "data": {
      "text/html": [
       "<div>\n",
       "<style scoped>\n",
       "    .dataframe tbody tr th:only-of-type {\n",
       "        vertical-align: middle;\n",
       "    }\n",
       "\n",
       "    .dataframe tbody tr th {\n",
       "        vertical-align: top;\n",
       "    }\n",
       "\n",
       "    .dataframe thead th {\n",
       "        text-align: right;\n",
       "    }\n",
       "</style>\n",
       "<table border=\"1\" class=\"dataframe\">\n",
       "  <thead>\n",
       "    <tr style=\"text-align: right;\">\n",
       "      <th></th>\n",
       "      <th>agency_name</th>\n",
       "      <th>ntd_id</th>\n",
       "      <th>reporter_type</th>\n",
       "      <th>primary_uza_name</th>\n",
       "      <th>last_report_year</th>\n",
       "      <th>city</th>\n",
       "      <th>total_vrh</th>\n",
       "    </tr>\n",
       "  </thead>\n",
       "  <tbody>\n",
       "  </tbody>\n",
       "</table>\n",
       "</div>"
      ],
      "text/plain": [
       "Empty DataFrame\n",
       "Columns: [agency_name, ntd_id, reporter_type, primary_uza_name, last_report_year, city, total_vrh]\n",
       "Index: []"
      ]
     },
     "metadata": {},
     "output_type": "display_data"
    },
    {
     "data": {
      "text/plain": [
       "'Agencies with Escalon as City'"
      ]
     },
     "metadata": {},
     "output_type": "display_data"
    },
    {
     "data": {
      "text/html": [
       "<div>\n",
       "<style scoped>\n",
       "    .dataframe tbody tr th:only-of-type {\n",
       "        vertical-align: middle;\n",
       "    }\n",
       "\n",
       "    .dataframe tbody tr th {\n",
       "        vertical-align: top;\n",
       "    }\n",
       "\n",
       "    .dataframe thead th {\n",
       "        text-align: right;\n",
       "    }\n",
       "</style>\n",
       "<table border=\"1\" class=\"dataframe\">\n",
       "  <thead>\n",
       "    <tr style=\"text-align: right;\">\n",
       "      <th></th>\n",
       "      <th>agency_name</th>\n",
       "      <th>ntd_id</th>\n",
       "      <th>reporter_type</th>\n",
       "      <th>primary_uza_name</th>\n",
       "      <th>last_report_year</th>\n",
       "      <th>city</th>\n",
       "      <th>total_vrh</th>\n",
       "    </tr>\n",
       "  </thead>\n",
       "  <tbody>\n",
       "    <tr>\n",
       "      <th>181</th>\n",
       "      <td>City of Escalon - Transit Services</td>\n",
       "      <td>91078</td>\n",
       "      <td>Reduced Reporter</td>\n",
       "      <td>Modesto, CA</td>\n",
       "      <td>2023</td>\n",
       "      <td>Escalon</td>\n",
       "      <td>27674.0</td>\n",
       "    </tr>\n",
       "  </tbody>\n",
       "</table>\n",
       "</div>"
      ],
      "text/plain": [
       "                            agency_name ntd_id     reporter_type  \\\n",
       "181  City of Escalon - Transit Services  91078  Reduced Reporter   \n",
       "\n",
       "    primary_uza_name  last_report_year     city  total_vrh  \n",
       "181      Modesto, CA              2023  Escalon    27674.0  "
      ]
     },
     "metadata": {},
     "output_type": "display_data"
    },
    {
     "data": {
      "text/plain": [
       "'Agencies with Tracy as UZA'"
      ]
     },
     "metadata": {},
     "output_type": "display_data"
    },
    {
     "data": {
      "text/html": [
       "<div>\n",
       "<style scoped>\n",
       "    .dataframe tbody tr th:only-of-type {\n",
       "        vertical-align: middle;\n",
       "    }\n",
       "\n",
       "    .dataframe tbody tr th {\n",
       "        vertical-align: top;\n",
       "    }\n",
       "\n",
       "    .dataframe thead th {\n",
       "        text-align: right;\n",
       "    }\n",
       "</style>\n",
       "<table border=\"1\" class=\"dataframe\">\n",
       "  <thead>\n",
       "    <tr style=\"text-align: right;\">\n",
       "      <th></th>\n",
       "      <th>agency_name</th>\n",
       "      <th>ntd_id</th>\n",
       "      <th>reporter_type</th>\n",
       "      <th>primary_uza_name</th>\n",
       "      <th>last_report_year</th>\n",
       "      <th>city</th>\n",
       "      <th>total_vrh</th>\n",
       "    </tr>\n",
       "  </thead>\n",
       "  <tbody>\n",
       "    <tr>\n",
       "      <th>62</th>\n",
       "      <td>City of Tracy - Transit Division</td>\n",
       "      <td>90197</td>\n",
       "      <td>Reduced Reporter</td>\n",
       "      <td>Tracy--Mountain House, CA</td>\n",
       "      <td>2023</td>\n",
       "      <td>Tracy</td>\n",
       "      <td>370073.0</td>\n",
       "    </tr>\n",
       "  </tbody>\n",
       "</table>\n",
       "</div>"
      ],
      "text/plain": [
       "                         agency_name ntd_id     reporter_type  \\\n",
       "62  City of Tracy - Transit Division  90197  Reduced Reporter   \n",
       "\n",
       "             primary_uza_name  last_report_year   city  total_vrh  \n",
       "62  Tracy--Mountain House, CA              2023  Tracy   370073.0  "
      ]
     },
     "metadata": {},
     "output_type": "display_data"
    },
    {
     "data": {
      "text/plain": [
       "'Agencies with Tracy as City'"
      ]
     },
     "metadata": {},
     "output_type": "display_data"
    },
    {
     "data": {
      "text/html": [
       "<div>\n",
       "<style scoped>\n",
       "    .dataframe tbody tr th:only-of-type {\n",
       "        vertical-align: middle;\n",
       "    }\n",
       "\n",
       "    .dataframe tbody tr th {\n",
       "        vertical-align: top;\n",
       "    }\n",
       "\n",
       "    .dataframe thead th {\n",
       "        text-align: right;\n",
       "    }\n",
       "</style>\n",
       "<table border=\"1\" class=\"dataframe\">\n",
       "  <thead>\n",
       "    <tr style=\"text-align: right;\">\n",
       "      <th></th>\n",
       "      <th>agency_name</th>\n",
       "      <th>ntd_id</th>\n",
       "      <th>reporter_type</th>\n",
       "      <th>primary_uza_name</th>\n",
       "      <th>last_report_year</th>\n",
       "      <th>city</th>\n",
       "      <th>total_vrh</th>\n",
       "    </tr>\n",
       "  </thead>\n",
       "  <tbody>\n",
       "    <tr>\n",
       "      <th>62</th>\n",
       "      <td>City of Tracy - Transit Division</td>\n",
       "      <td>90197</td>\n",
       "      <td>Reduced Reporter</td>\n",
       "      <td>Tracy--Mountain House, CA</td>\n",
       "      <td>2023</td>\n",
       "      <td>Tracy</td>\n",
       "      <td>370073.0</td>\n",
       "    </tr>\n",
       "  </tbody>\n",
       "</table>\n",
       "</div>"
      ],
      "text/plain": [
       "                         agency_name ntd_id     reporter_type  \\\n",
       "62  City of Tracy - Transit Division  90197  Reduced Reporter   \n",
       "\n",
       "             primary_uza_name  last_report_year   city  total_vrh  \n",
       "62  Tracy--Mountain House, CA              2023  Tracy   370073.0  "
      ]
     },
     "metadata": {},
     "output_type": "display_data"
    },
    {
     "data": {
      "text/plain": [
       "'Agencies with Lathrop as UZA'"
      ]
     },
     "metadata": {},
     "output_type": "display_data"
    },
    {
     "data": {
      "text/html": [
       "<div>\n",
       "<style scoped>\n",
       "    .dataframe tbody tr th:only-of-type {\n",
       "        vertical-align: middle;\n",
       "    }\n",
       "\n",
       "    .dataframe tbody tr th {\n",
       "        vertical-align: top;\n",
       "    }\n",
       "\n",
       "    .dataframe thead th {\n",
       "        text-align: right;\n",
       "    }\n",
       "</style>\n",
       "<table border=\"1\" class=\"dataframe\">\n",
       "  <thead>\n",
       "    <tr style=\"text-align: right;\">\n",
       "      <th></th>\n",
       "      <th>agency_name</th>\n",
       "      <th>ntd_id</th>\n",
       "      <th>reporter_type</th>\n",
       "      <th>primary_uza_name</th>\n",
       "      <th>last_report_year</th>\n",
       "      <th>city</th>\n",
       "      <th>total_vrh</th>\n",
       "    </tr>\n",
       "  </thead>\n",
       "  <tbody>\n",
       "  </tbody>\n",
       "</table>\n",
       "</div>"
      ],
      "text/plain": [
       "Empty DataFrame\n",
       "Columns: [agency_name, ntd_id, reporter_type, primary_uza_name, last_report_year, city, total_vrh]\n",
       "Index: []"
      ]
     },
     "metadata": {},
     "output_type": "display_data"
    },
    {
     "data": {
      "text/plain": [
       "'Agencies with Lathrop as City'"
      ]
     },
     "metadata": {},
     "output_type": "display_data"
    },
    {
     "data": {
      "text/html": [
       "<div>\n",
       "<style scoped>\n",
       "    .dataframe tbody tr th:only-of-type {\n",
       "        vertical-align: middle;\n",
       "    }\n",
       "\n",
       "    .dataframe tbody tr th {\n",
       "        vertical-align: top;\n",
       "    }\n",
       "\n",
       "    .dataframe thead th {\n",
       "        text-align: right;\n",
       "    }\n",
       "</style>\n",
       "<table border=\"1\" class=\"dataframe\">\n",
       "  <thead>\n",
       "    <tr style=\"text-align: right;\">\n",
       "      <th></th>\n",
       "      <th>agency_name</th>\n",
       "      <th>ntd_id</th>\n",
       "      <th>reporter_type</th>\n",
       "      <th>primary_uza_name</th>\n",
       "      <th>last_report_year</th>\n",
       "      <th>city</th>\n",
       "      <th>total_vrh</th>\n",
       "    </tr>\n",
       "  </thead>\n",
       "  <tbody>\n",
       "  </tbody>\n",
       "</table>\n",
       "</div>"
      ],
      "text/plain": [
       "Empty DataFrame\n",
       "Columns: [agency_name, ntd_id, reporter_type, primary_uza_name, last_report_year, city, total_vrh]\n",
       "Index: []"
      ]
     },
     "metadata": {},
     "output_type": "display_data"
    },
    {
     "data": {
      "text/plain": [
       "'Agencies with Lodi as UZA'"
      ]
     },
     "metadata": {},
     "output_type": "display_data"
    },
    {
     "data": {
      "text/html": [
       "<div>\n",
       "<style scoped>\n",
       "    .dataframe tbody tr th:only-of-type {\n",
       "        vertical-align: middle;\n",
       "    }\n",
       "\n",
       "    .dataframe tbody tr th {\n",
       "        vertical-align: top;\n",
       "    }\n",
       "\n",
       "    .dataframe thead th {\n",
       "        text-align: right;\n",
       "    }\n",
       "</style>\n",
       "<table border=\"1\" class=\"dataframe\">\n",
       "  <thead>\n",
       "    <tr style=\"text-align: right;\">\n",
       "      <th></th>\n",
       "      <th>agency_name</th>\n",
       "      <th>ntd_id</th>\n",
       "      <th>reporter_type</th>\n",
       "      <th>primary_uza_name</th>\n",
       "      <th>last_report_year</th>\n",
       "      <th>city</th>\n",
       "      <th>total_vrh</th>\n",
       "    </tr>\n",
       "  </thead>\n",
       "  <tbody>\n",
       "    <tr>\n",
       "      <th>186</th>\n",
       "      <td>City of Lodi - Public Works Department</td>\n",
       "      <td>90175</td>\n",
       "      <td>Reduced Reporter</td>\n",
       "      <td>Lodi, CA</td>\n",
       "      <td>2023</td>\n",
       "      <td>Lodi</td>\n",
       "      <td>1032308.0</td>\n",
       "    </tr>\n",
       "  </tbody>\n",
       "</table>\n",
       "</div>"
      ],
      "text/plain": [
       "                                agency_name ntd_id     reporter_type  \\\n",
       "186  City of Lodi - Public Works Department  90175  Reduced Reporter   \n",
       "\n",
       "    primary_uza_name  last_report_year  city  total_vrh  \n",
       "186         Lodi, CA              2023  Lodi  1032308.0  "
      ]
     },
     "metadata": {},
     "output_type": "display_data"
    },
    {
     "data": {
      "text/plain": [
       "'Agencies with Lodi as City'"
      ]
     },
     "metadata": {},
     "output_type": "display_data"
    },
    {
     "data": {
      "text/html": [
       "<div>\n",
       "<style scoped>\n",
       "    .dataframe tbody tr th:only-of-type {\n",
       "        vertical-align: middle;\n",
       "    }\n",
       "\n",
       "    .dataframe tbody tr th {\n",
       "        vertical-align: top;\n",
       "    }\n",
       "\n",
       "    .dataframe thead th {\n",
       "        text-align: right;\n",
       "    }\n",
       "</style>\n",
       "<table border=\"1\" class=\"dataframe\">\n",
       "  <thead>\n",
       "    <tr style=\"text-align: right;\">\n",
       "      <th></th>\n",
       "      <th>agency_name</th>\n",
       "      <th>ntd_id</th>\n",
       "      <th>reporter_type</th>\n",
       "      <th>primary_uza_name</th>\n",
       "      <th>last_report_year</th>\n",
       "      <th>city</th>\n",
       "      <th>total_vrh</th>\n",
       "    </tr>\n",
       "  </thead>\n",
       "  <tbody>\n",
       "    <tr>\n",
       "      <th>186</th>\n",
       "      <td>City of Lodi - Public Works Department</td>\n",
       "      <td>90175</td>\n",
       "      <td>Reduced Reporter</td>\n",
       "      <td>Lodi, CA</td>\n",
       "      <td>2023</td>\n",
       "      <td>Lodi</td>\n",
       "      <td>1032308.0</td>\n",
       "    </tr>\n",
       "  </tbody>\n",
       "</table>\n",
       "</div>"
      ],
      "text/plain": [
       "                                agency_name ntd_id     reporter_type  \\\n",
       "186  City of Lodi - Public Works Department  90175  Reduced Reporter   \n",
       "\n",
       "    primary_uza_name  last_report_year  city  total_vrh  \n",
       "186         Lodi, CA              2023  Lodi  1032308.0  "
      ]
     },
     "metadata": {},
     "output_type": "display_data"
    },
    {
     "data": {
      "text/plain": [
       "'Agencies with Manteca as UZA'"
      ]
     },
     "metadata": {},
     "output_type": "display_data"
    },
    {
     "data": {
      "text/html": [
       "<div>\n",
       "<style scoped>\n",
       "    .dataframe tbody tr th:only-of-type {\n",
       "        vertical-align: middle;\n",
       "    }\n",
       "\n",
       "    .dataframe tbody tr th {\n",
       "        vertical-align: top;\n",
       "    }\n",
       "\n",
       "    .dataframe thead th {\n",
       "        text-align: right;\n",
       "    }\n",
       "</style>\n",
       "<table border=\"1\" class=\"dataframe\">\n",
       "  <thead>\n",
       "    <tr style=\"text-align: right;\">\n",
       "      <th></th>\n",
       "      <th>agency_name</th>\n",
       "      <th>ntd_id</th>\n",
       "      <th>reporter_type</th>\n",
       "      <th>primary_uza_name</th>\n",
       "      <th>last_report_year</th>\n",
       "      <th>city</th>\n",
       "      <th>total_vrh</th>\n",
       "    </tr>\n",
       "  </thead>\n",
       "  <tbody>\n",
       "    <tr>\n",
       "      <th>190</th>\n",
       "      <td>City of Manteca - Transit Division</td>\n",
       "      <td>90217</td>\n",
       "      <td>Reduced Reporter</td>\n",
       "      <td>Manteca, CA</td>\n",
       "      <td>2023</td>\n",
       "      <td>Manteca</td>\n",
       "      <td>179908.0</td>\n",
       "    </tr>\n",
       "  </tbody>\n",
       "</table>\n",
       "</div>"
      ],
      "text/plain": [
       "                            agency_name ntd_id     reporter_type  \\\n",
       "190  City of Manteca - Transit Division  90217  Reduced Reporter   \n",
       "\n",
       "    primary_uza_name  last_report_year     city  total_vrh  \n",
       "190      Manteca, CA              2023  Manteca   179908.0  "
      ]
     },
     "metadata": {},
     "output_type": "display_data"
    },
    {
     "data": {
      "text/plain": [
       "'Agencies with Manteca as City'"
      ]
     },
     "metadata": {},
     "output_type": "display_data"
    },
    {
     "data": {
      "text/html": [
       "<div>\n",
       "<style scoped>\n",
       "    .dataframe tbody tr th:only-of-type {\n",
       "        vertical-align: middle;\n",
       "    }\n",
       "\n",
       "    .dataframe tbody tr th {\n",
       "        vertical-align: top;\n",
       "    }\n",
       "\n",
       "    .dataframe thead th {\n",
       "        text-align: right;\n",
       "    }\n",
       "</style>\n",
       "<table border=\"1\" class=\"dataframe\">\n",
       "  <thead>\n",
       "    <tr style=\"text-align: right;\">\n",
       "      <th></th>\n",
       "      <th>agency_name</th>\n",
       "      <th>ntd_id</th>\n",
       "      <th>reporter_type</th>\n",
       "      <th>primary_uza_name</th>\n",
       "      <th>last_report_year</th>\n",
       "      <th>city</th>\n",
       "      <th>total_vrh</th>\n",
       "    </tr>\n",
       "  </thead>\n",
       "  <tbody>\n",
       "    <tr>\n",
       "      <th>190</th>\n",
       "      <td>City of Manteca - Transit Division</td>\n",
       "      <td>90217</td>\n",
       "      <td>Reduced Reporter</td>\n",
       "      <td>Manteca, CA</td>\n",
       "      <td>2023</td>\n",
       "      <td>Manteca</td>\n",
       "      <td>179908.0</td>\n",
       "    </tr>\n",
       "  </tbody>\n",
       "</table>\n",
       "</div>"
      ],
      "text/plain": [
       "                            agency_name ntd_id     reporter_type  \\\n",
       "190  City of Manteca - Transit Division  90217  Reduced Reporter   \n",
       "\n",
       "    primary_uza_name  last_report_year     city  total_vrh  \n",
       "190      Manteca, CA              2023  Manteca   179908.0  "
      ]
     },
     "metadata": {},
     "output_type": "display_data"
    },
    {
     "data": {
      "text/plain": [
       "'Agencies with Mountain House as UZA'"
      ]
     },
     "metadata": {},
     "output_type": "display_data"
    },
    {
     "data": {
      "text/html": [
       "<div>\n",
       "<style scoped>\n",
       "    .dataframe tbody tr th:only-of-type {\n",
       "        vertical-align: middle;\n",
       "    }\n",
       "\n",
       "    .dataframe tbody tr th {\n",
       "        vertical-align: top;\n",
       "    }\n",
       "\n",
       "    .dataframe thead th {\n",
       "        text-align: right;\n",
       "    }\n",
       "</style>\n",
       "<table border=\"1\" class=\"dataframe\">\n",
       "  <thead>\n",
       "    <tr style=\"text-align: right;\">\n",
       "      <th></th>\n",
       "      <th>agency_name</th>\n",
       "      <th>ntd_id</th>\n",
       "      <th>reporter_type</th>\n",
       "      <th>primary_uza_name</th>\n",
       "      <th>last_report_year</th>\n",
       "      <th>city</th>\n",
       "      <th>total_vrh</th>\n",
       "    </tr>\n",
       "  </thead>\n",
       "  <tbody>\n",
       "    <tr>\n",
       "      <th>62</th>\n",
       "      <td>City of Tracy - Transit Division</td>\n",
       "      <td>90197</td>\n",
       "      <td>Reduced Reporter</td>\n",
       "      <td>Tracy--Mountain House, CA</td>\n",
       "      <td>2023</td>\n",
       "      <td>Tracy</td>\n",
       "      <td>370073.0</td>\n",
       "    </tr>\n",
       "  </tbody>\n",
       "</table>\n",
       "</div>"
      ],
      "text/plain": [
       "                         agency_name ntd_id     reporter_type  \\\n",
       "62  City of Tracy - Transit Division  90197  Reduced Reporter   \n",
       "\n",
       "             primary_uza_name  last_report_year   city  total_vrh  \n",
       "62  Tracy--Mountain House, CA              2023  Tracy   370073.0  "
      ]
     },
     "metadata": {},
     "output_type": "display_data"
    },
    {
     "data": {
      "text/plain": [
       "'Agencies with Mountain House as City'"
      ]
     },
     "metadata": {},
     "output_type": "display_data"
    },
    {
     "data": {
      "text/html": [
       "<div>\n",
       "<style scoped>\n",
       "    .dataframe tbody tr th:only-of-type {\n",
       "        vertical-align: middle;\n",
       "    }\n",
       "\n",
       "    .dataframe tbody tr th {\n",
       "        vertical-align: top;\n",
       "    }\n",
       "\n",
       "    .dataframe thead th {\n",
       "        text-align: right;\n",
       "    }\n",
       "</style>\n",
       "<table border=\"1\" class=\"dataframe\">\n",
       "  <thead>\n",
       "    <tr style=\"text-align: right;\">\n",
       "      <th></th>\n",
       "      <th>agency_name</th>\n",
       "      <th>ntd_id</th>\n",
       "      <th>reporter_type</th>\n",
       "      <th>primary_uza_name</th>\n",
       "      <th>last_report_year</th>\n",
       "      <th>city</th>\n",
       "      <th>total_vrh</th>\n",
       "    </tr>\n",
       "  </thead>\n",
       "  <tbody>\n",
       "  </tbody>\n",
       "</table>\n",
       "</div>"
      ],
      "text/plain": [
       "Empty DataFrame\n",
       "Columns: [agency_name, ntd_id, reporter_type, primary_uza_name, last_report_year, city, total_vrh]\n",
       "Index: []"
      ]
     },
     "metadata": {},
     "output_type": "display_data"
    },
    {
     "data": {
      "text/plain": [
       "'Agencies with Ripon as UZA'"
      ]
     },
     "metadata": {},
     "output_type": "display_data"
    },
    {
     "data": {
      "text/html": [
       "<div>\n",
       "<style scoped>\n",
       "    .dataframe tbody tr th:only-of-type {\n",
       "        vertical-align: middle;\n",
       "    }\n",
       "\n",
       "    .dataframe tbody tr th {\n",
       "        vertical-align: top;\n",
       "    }\n",
       "\n",
       "    .dataframe thead th {\n",
       "        text-align: right;\n",
       "    }\n",
       "</style>\n",
       "<table border=\"1\" class=\"dataframe\">\n",
       "  <thead>\n",
       "    <tr style=\"text-align: right;\">\n",
       "      <th></th>\n",
       "      <th>agency_name</th>\n",
       "      <th>ntd_id</th>\n",
       "      <th>reporter_type</th>\n",
       "      <th>primary_uza_name</th>\n",
       "      <th>last_report_year</th>\n",
       "      <th>city</th>\n",
       "      <th>total_vrh</th>\n",
       "    </tr>\n",
       "  </thead>\n",
       "  <tbody>\n",
       "  </tbody>\n",
       "</table>\n",
       "</div>"
      ],
      "text/plain": [
       "Empty DataFrame\n",
       "Columns: [agency_name, ntd_id, reporter_type, primary_uza_name, last_report_year, city, total_vrh]\n",
       "Index: []"
      ]
     },
     "metadata": {},
     "output_type": "display_data"
    },
    {
     "data": {
      "text/plain": [
       "'Agencies with Ripon as City'"
      ]
     },
     "metadata": {},
     "output_type": "display_data"
    },
    {
     "data": {
      "text/html": [
       "<div>\n",
       "<style scoped>\n",
       "    .dataframe tbody tr th:only-of-type {\n",
       "        vertical-align: middle;\n",
       "    }\n",
       "\n",
       "    .dataframe tbody tr th {\n",
       "        vertical-align: top;\n",
       "    }\n",
       "\n",
       "    .dataframe thead th {\n",
       "        text-align: right;\n",
       "    }\n",
       "</style>\n",
       "<table border=\"1\" class=\"dataframe\">\n",
       "  <thead>\n",
       "    <tr style=\"text-align: right;\">\n",
       "      <th></th>\n",
       "      <th>agency_name</th>\n",
       "      <th>ntd_id</th>\n",
       "      <th>reporter_type</th>\n",
       "      <th>primary_uza_name</th>\n",
       "      <th>last_report_year</th>\n",
       "      <th>city</th>\n",
       "      <th>total_vrh</th>\n",
       "    </tr>\n",
       "  </thead>\n",
       "  <tbody>\n",
       "  </tbody>\n",
       "</table>\n",
       "</div>"
      ],
      "text/plain": [
       "Empty DataFrame\n",
       "Columns: [agency_name, ntd_id, reporter_type, primary_uza_name, last_report_year, city, total_vrh]\n",
       "Index: []"
      ]
     },
     "metadata": {},
     "output_type": "display_data"
    },
    {
     "data": {
      "text/plain": [
       "'Agencies with Acampo as UZA'"
      ]
     },
     "metadata": {},
     "output_type": "display_data"
    },
    {
     "data": {
      "text/html": [
       "<div>\n",
       "<style scoped>\n",
       "    .dataframe tbody tr th:only-of-type {\n",
       "        vertical-align: middle;\n",
       "    }\n",
       "\n",
       "    .dataframe tbody tr th {\n",
       "        vertical-align: top;\n",
       "    }\n",
       "\n",
       "    .dataframe thead th {\n",
       "        text-align: right;\n",
       "    }\n",
       "</style>\n",
       "<table border=\"1\" class=\"dataframe\">\n",
       "  <thead>\n",
       "    <tr style=\"text-align: right;\">\n",
       "      <th></th>\n",
       "      <th>agency_name</th>\n",
       "      <th>ntd_id</th>\n",
       "      <th>reporter_type</th>\n",
       "      <th>primary_uza_name</th>\n",
       "      <th>last_report_year</th>\n",
       "      <th>city</th>\n",
       "      <th>total_vrh</th>\n",
       "    </tr>\n",
       "  </thead>\n",
       "  <tbody>\n",
       "  </tbody>\n",
       "</table>\n",
       "</div>"
      ],
      "text/plain": [
       "Empty DataFrame\n",
       "Columns: [agency_name, ntd_id, reporter_type, primary_uza_name, last_report_year, city, total_vrh]\n",
       "Index: []"
      ]
     },
     "metadata": {},
     "output_type": "display_data"
    },
    {
     "data": {
      "text/plain": [
       "'Agencies with Acampo as City'"
      ]
     },
     "metadata": {},
     "output_type": "display_data"
    },
    {
     "data": {
      "text/html": [
       "<div>\n",
       "<style scoped>\n",
       "    .dataframe tbody tr th:only-of-type {\n",
       "        vertical-align: middle;\n",
       "    }\n",
       "\n",
       "    .dataframe tbody tr th {\n",
       "        vertical-align: top;\n",
       "    }\n",
       "\n",
       "    .dataframe thead th {\n",
       "        text-align: right;\n",
       "    }\n",
       "</style>\n",
       "<table border=\"1\" class=\"dataframe\">\n",
       "  <thead>\n",
       "    <tr style=\"text-align: right;\">\n",
       "      <th></th>\n",
       "      <th>agency_name</th>\n",
       "      <th>ntd_id</th>\n",
       "      <th>reporter_type</th>\n",
       "      <th>primary_uza_name</th>\n",
       "      <th>last_report_year</th>\n",
       "      <th>city</th>\n",
       "      <th>total_vrh</th>\n",
       "    </tr>\n",
       "  </thead>\n",
       "  <tbody>\n",
       "  </tbody>\n",
       "</table>\n",
       "</div>"
      ],
      "text/plain": [
       "Empty DataFrame\n",
       "Columns: [agency_name, ntd_id, reporter_type, primary_uza_name, last_report_year, city, total_vrh]\n",
       "Index: []"
      ]
     },
     "metadata": {},
     "output_type": "display_data"
    },
    {
     "data": {
      "text/plain": [
       "'Agencies with French Camp as UZA'"
      ]
     },
     "metadata": {},
     "output_type": "display_data"
    },
    {
     "data": {
      "text/html": [
       "<div>\n",
       "<style scoped>\n",
       "    .dataframe tbody tr th:only-of-type {\n",
       "        vertical-align: middle;\n",
       "    }\n",
       "\n",
       "    .dataframe tbody tr th {\n",
       "        vertical-align: top;\n",
       "    }\n",
       "\n",
       "    .dataframe thead th {\n",
       "        text-align: right;\n",
       "    }\n",
       "</style>\n",
       "<table border=\"1\" class=\"dataframe\">\n",
       "  <thead>\n",
       "    <tr style=\"text-align: right;\">\n",
       "      <th></th>\n",
       "      <th>agency_name</th>\n",
       "      <th>ntd_id</th>\n",
       "      <th>reporter_type</th>\n",
       "      <th>primary_uza_name</th>\n",
       "      <th>last_report_year</th>\n",
       "      <th>city</th>\n",
       "      <th>total_vrh</th>\n",
       "    </tr>\n",
       "  </thead>\n",
       "  <tbody>\n",
       "  </tbody>\n",
       "</table>\n",
       "</div>"
      ],
      "text/plain": [
       "Empty DataFrame\n",
       "Columns: [agency_name, ntd_id, reporter_type, primary_uza_name, last_report_year, city, total_vrh]\n",
       "Index: []"
      ]
     },
     "metadata": {},
     "output_type": "display_data"
    },
    {
     "data": {
      "text/plain": [
       "'Agencies with French Camp as City'"
      ]
     },
     "metadata": {},
     "output_type": "display_data"
    },
    {
     "data": {
      "text/html": [
       "<div>\n",
       "<style scoped>\n",
       "    .dataframe tbody tr th:only-of-type {\n",
       "        vertical-align: middle;\n",
       "    }\n",
       "\n",
       "    .dataframe tbody tr th {\n",
       "        vertical-align: top;\n",
       "    }\n",
       "\n",
       "    .dataframe thead th {\n",
       "        text-align: right;\n",
       "    }\n",
       "</style>\n",
       "<table border=\"1\" class=\"dataframe\">\n",
       "  <thead>\n",
       "    <tr style=\"text-align: right;\">\n",
       "      <th></th>\n",
       "      <th>agency_name</th>\n",
       "      <th>ntd_id</th>\n",
       "      <th>reporter_type</th>\n",
       "      <th>primary_uza_name</th>\n",
       "      <th>last_report_year</th>\n",
       "      <th>city</th>\n",
       "      <th>total_vrh</th>\n",
       "    </tr>\n",
       "  </thead>\n",
       "  <tbody>\n",
       "  </tbody>\n",
       "</table>\n",
       "</div>"
      ],
      "text/plain": [
       "Empty DataFrame\n",
       "Columns: [agency_name, ntd_id, reporter_type, primary_uza_name, last_report_year, city, total_vrh]\n",
       "Index: []"
      ]
     },
     "metadata": {},
     "output_type": "display_data"
    },
    {
     "data": {
      "text/plain": [
       "'Agencies with Garden Arcres as UZA'"
      ]
     },
     "metadata": {},
     "output_type": "display_data"
    },
    {
     "data": {
      "text/html": [
       "<div>\n",
       "<style scoped>\n",
       "    .dataframe tbody tr th:only-of-type {\n",
       "        vertical-align: middle;\n",
       "    }\n",
       "\n",
       "    .dataframe tbody tr th {\n",
       "        vertical-align: top;\n",
       "    }\n",
       "\n",
       "    .dataframe thead th {\n",
       "        text-align: right;\n",
       "    }\n",
       "</style>\n",
       "<table border=\"1\" class=\"dataframe\">\n",
       "  <thead>\n",
       "    <tr style=\"text-align: right;\">\n",
       "      <th></th>\n",
       "      <th>agency_name</th>\n",
       "      <th>ntd_id</th>\n",
       "      <th>reporter_type</th>\n",
       "      <th>primary_uza_name</th>\n",
       "      <th>last_report_year</th>\n",
       "      <th>city</th>\n",
       "      <th>total_vrh</th>\n",
       "    </tr>\n",
       "  </thead>\n",
       "  <tbody>\n",
       "  </tbody>\n",
       "</table>\n",
       "</div>"
      ],
      "text/plain": [
       "Empty DataFrame\n",
       "Columns: [agency_name, ntd_id, reporter_type, primary_uza_name, last_report_year, city, total_vrh]\n",
       "Index: []"
      ]
     },
     "metadata": {},
     "output_type": "display_data"
    },
    {
     "data": {
      "text/plain": [
       "'Agencies with Garden Arcres as City'"
      ]
     },
     "metadata": {},
     "output_type": "display_data"
    },
    {
     "data": {
      "text/html": [
       "<div>\n",
       "<style scoped>\n",
       "    .dataframe tbody tr th:only-of-type {\n",
       "        vertical-align: middle;\n",
       "    }\n",
       "\n",
       "    .dataframe tbody tr th {\n",
       "        vertical-align: top;\n",
       "    }\n",
       "\n",
       "    .dataframe thead th {\n",
       "        text-align: right;\n",
       "    }\n",
       "</style>\n",
       "<table border=\"1\" class=\"dataframe\">\n",
       "  <thead>\n",
       "    <tr style=\"text-align: right;\">\n",
       "      <th></th>\n",
       "      <th>agency_name</th>\n",
       "      <th>ntd_id</th>\n",
       "      <th>reporter_type</th>\n",
       "      <th>primary_uza_name</th>\n",
       "      <th>last_report_year</th>\n",
       "      <th>city</th>\n",
       "      <th>total_vrh</th>\n",
       "    </tr>\n",
       "  </thead>\n",
       "  <tbody>\n",
       "  </tbody>\n",
       "</table>\n",
       "</div>"
      ],
      "text/plain": [
       "Empty DataFrame\n",
       "Columns: [agency_name, ntd_id, reporter_type, primary_uza_name, last_report_year, city, total_vrh]\n",
       "Index: []"
      ]
     },
     "metadata": {},
     "output_type": "display_data"
    }
   ],
   "source": [
    "# How many agencies have Tracy as their primary uza?\n",
    "for i in sj_cities:\n",
    "    display(\n",
    "        f\"Agencies with {i} as UZA\",\n",
    "        ca[ca[\"primary_uza_name\"].str.contains(i)],\n",
    "        f\"Agencies with {i} as City\",\n",
    "        ca[ca[\"city\"].notna() & ca[\"city\"].str.contains(i)],\n",
    "    )"
   ]
  },
  {
   "cell_type": "code",
   "execution_count": 38,
   "id": "423258f7-7d41-4424-aa2a-532caf451169",
   "metadata": {
    "tags": []
   },
   "outputs": [
    {
     "data": {
      "text/html": [
       "<div>\n",
       "<style scoped>\n",
       "    .dataframe tbody tr th:only-of-type {\n",
       "        vertical-align: middle;\n",
       "    }\n",
       "\n",
       "    .dataframe tbody tr th {\n",
       "        vertical-align: top;\n",
       "    }\n",
       "\n",
       "    .dataframe thead th {\n",
       "        text-align: right;\n",
       "    }\n",
       "</style>\n",
       "<table border=\"1\" class=\"dataframe\">\n",
       "  <thead>\n",
       "    <tr style=\"text-align: right;\">\n",
       "      <th></th>\n",
       "      <th>agency_name</th>\n",
       "      <th>ntd_id</th>\n",
       "      <th>reporter_type</th>\n",
       "      <th>primary_uza_name</th>\n",
       "      <th>last_report_year</th>\n",
       "      <th>city</th>\n",
       "      <th>total_vrh</th>\n",
       "    </tr>\n",
       "  </thead>\n",
       "  <tbody>\n",
       "    <tr>\n",
       "      <th>131</th>\n",
       "      <td>San Joaquin Regional Transit District (RTD)</td>\n",
       "      <td>90012</td>\n",
       "      <td>Full Reporter</td>\n",
       "      <td>Stockton, CA</td>\n",
       "      <td>2023</td>\n",
       "      <td>Stockton</td>\n",
       "      <td>7249405.0</td>\n",
       "    </tr>\n",
       "  </tbody>\n",
       "</table>\n",
       "</div>"
      ],
      "text/plain": [
       "                                     agency_name ntd_id  reporter_type  \\\n",
       "131  San Joaquin Regional Transit District (RTD)  90012  Full Reporter   \n",
       "\n",
       "    primary_uza_name  last_report_year      city  total_vrh  \n",
       "131     Stockton, CA              2023  Stockton  7249405.0  "
      ]
     },
     "execution_count": 38,
     "metadata": {},
     "output_type": "execute_result"
    }
   ],
   "source": [
    "# how many cities does SJRTD serve?\n",
    "ca[ca[\"ntd_id\"]==\"90012\"]\n",
    "\n",
    "# just stockton?"
   ]
  },
  {
   "cell_type": "code",
   "execution_count": null,
   "id": "d1ece1c2-7f15-4368-9009-c45ec3cb70d5",
   "metadata": {},
   "outputs": [],
   "source": [
    "# what are the routes for SJRTD?\n",
    "# what GTFS table is there \n",
    "# mart_transit_database.bridge_organizations_x_services_managed\n",
    "\n"
   ]
  }
 ],
 "metadata": {
  "kernelspec": {
   "display_name": "Python 3 (ipykernel)",
   "language": "python",
   "name": "python3"
  },
  "language_info": {
   "codemirror_mode": {
    "name": "ipython",
    "version": 3
   },
   "file_extension": ".py",
   "mimetype": "text/x-python",
   "name": "python",
   "nbconvert_exporter": "python",
   "pygments_lexer": "ipython3",
   "version": "3.11.10"
  }
 },
 "nbformat": 4,
 "nbformat_minor": 5
}
