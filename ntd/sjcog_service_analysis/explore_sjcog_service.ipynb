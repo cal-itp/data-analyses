{
 "cells": [
  {
   "cell_type": "markdown",
   "id": "e5575a7b-8ed2-4634-8e12-6e2822bdb4ef",
   "metadata": {},
   "source": [
    "# Research Request - Service Data for SJCOG #1476\n",
    "\n",
    "explore trying to answer these questions from the issue:\n",
    "\n",
    "- share some information from NTD on what % of services are provided by SJRTD.\n",
    "- see if NTD can help us tell what each operators need is for that region.\n",
    "- see if NTD shows you the operations just in a particular UZA.\n",
    "- Are you able to see specifically within the Tracy boundaries which percentage of service is provided by City of Tracy vs SJRTD?\n",
    "- Can NTD tell you the funding for each operator by source?\n",
    "- Can you tell what level of 5307, 5311, TDA, LCTOP etc they [operators?] get from there?\n",
    "\n",
    "However, these question revolve around knowing the proportion of service that happens between area, not just the agencies main area. Example, the UZA for SJRTD is \"Stockton, CA\". But SJRTD runs service that goes outside of Stockton (some bus routes go to Tracy, Ripon, Lodi)"
   ]
  },
  {
   "cell_type": "code",
   "execution_count": 1,
   "id": "5f91a533-3925-4e4f-b6d7-8f0e4c3f8a70",
   "metadata": {
    "tags": []
   },
   "outputs": [],
   "source": [
    "import altair as alt\n",
    "import pandas as pd\n",
    "from calitp_data_analysis.tables import tbls\n",
    "from siuba import _, collect, count, filter, group_by, select, show_query, summarize\n",
    "\n",
    "# from update_vars import GCS_FILE_PATH, NTD_MODES, NTD_TOS\n",
    "\n",
    "pd.set_option(\"display.max_columns\", None)\n",
    "pd.set_option(\"display.max_rows\", None)"
   ]
  },
  {
   "cell_type": "code",
   "execution_count": 8,
   "id": "560fd339-3302-4cbc-9d77-a0dcf703a592",
   "metadata": {
    "tags": []
   },
   "outputs": [],
   "source": [
    "sj_cities = [\n",
    "    \"Stockton\",\n",
    "    \"Escalon\",\n",
    "    \"Tracy\",\n",
    "    \"Lathrop\",\n",
    "    \"Lodi\",\n",
    "    \"Manteca\",\n",
    "    \"Mountain House\",\n",
    "    \"Ripon\",\n",
    "    \"Acampo\",\n",
    "    \"French Camp\",\n",
    "    \"Garden Arcres\",\n",
    "]"
   ]
  },
  {
   "cell_type": "code",
   "execution_count": 2,
   "id": "5b92667f-7004-43c0-8935-8a100a8d23f1",
   "metadata": {},
   "outputs": [
    {
     "name": "stdout",
     "output_type": "stream",
     "text": [
      "<class 'pandas.core.frame.DataFrame'>\n",
      "RangeIndex: 269 entries, 0 to 268\n",
      "Data columns (total 6 columns):\n",
      " #   Column            Non-Null Count  Dtype  \n",
      "---  ------            --------------  -----  \n",
      " 0   agency_name       269 non-null    object \n",
      " 1   reporter_type     269 non-null    object \n",
      " 2   primary_uza_name  269 non-null    object \n",
      " 3   last_report_year  269 non-null    int64  \n",
      " 4   city              255 non-null    object \n",
      " 5   total_vrh         268 non-null    float64\n",
      "dtypes: float64(1), int64(1), object(4)\n",
      "memory usage: 12.7+ KB\n"
     ]
    }
   ],
   "source": [
    "ca = (\n",
    "    tbls.mart_ntd_funding_and_expenses.fct_service_data_and_operating_expenses_time_series_by_mode_vrh()\n",
    "    >> filter(\n",
    "        _.state == \"CA\",\n",
    "        # _.city == \"Stockton\"\n",
    "        # _.report_year == 2023\n",
    "    )\n",
    "    >> group_by(\n",
    "        _.agency_name, _.reporter_type, _.primary_uza_name, _.last_report_year, _.city\n",
    "    )\n",
    "    >> summarize(total_vrh=_.vrh.sum())\n",
    "    >> collect()\n",
    ")  # .fillna(0)\n",
    "ca.info()"
   ]
  },
  {
   "cell_type": "code",
   "execution_count": 5,
   "id": "0945fdc1-3867-4508-8632-4c220c86826a",
   "metadata": {
    "tags": []
   },
   "outputs": [
    {
     "data": {
      "text/plain": [
       "False    255\n",
       "True      14\n",
       "Name: city, dtype: int64"
      ]
     },
     "execution_count": 5,
     "metadata": {},
     "output_type": "execute_result"
    }
   ],
   "source": [
    "ca[\"city\"].isna().value_counts()"
   ]
  },
  {
   "cell_type": "code",
   "execution_count": 14,
   "id": "5f3b65a0-bd76-48a4-931e-d3de16cc03bb",
   "metadata": {},
   "outputs": [
    {
     "data": {
      "text/plain": [
       "'Results for Stockton'"
      ]
     },
     "metadata": {},
     "output_type": "display_data"
    },
    {
     "data": {
      "text/html": [
       "<div>\n",
       "<style scoped>\n",
       "    .dataframe tbody tr th:only-of-type {\n",
       "        vertical-align: middle;\n",
       "    }\n",
       "\n",
       "    .dataframe tbody tr th {\n",
       "        vertical-align: top;\n",
       "    }\n",
       "\n",
       "    .dataframe thead th {\n",
       "        text-align: right;\n",
       "    }\n",
       "</style>\n",
       "<table border=\"1\" class=\"dataframe\">\n",
       "  <thead>\n",
       "    <tr style=\"text-align: right;\">\n",
       "      <th></th>\n",
       "      <th>agency_name</th>\n",
       "      <th>reporter_type</th>\n",
       "      <th>primary_uza_name</th>\n",
       "      <th>last_report_year</th>\n",
       "      <th>city</th>\n",
       "      <th>total_vrh</th>\n",
       "    </tr>\n",
       "  </thead>\n",
       "  <tbody>\n",
       "    <tr>\n",
       "      <th>7</th>\n",
       "      <td>Altamont Corridor Express (ACE)</td>\n",
       "      <td>Full Reporter</td>\n",
       "      <td>Stockton, CA</td>\n",
       "      <td>2023</td>\n",
       "      <td>Stockton</td>\n",
       "      <td>529179.0</td>\n",
       "    </tr>\n",
       "    <tr>\n",
       "      <th>131</th>\n",
       "      <td>San Joaquin Regional Transit District (RTD)</td>\n",
       "      <td>Full Reporter</td>\n",
       "      <td>Stockton, CA</td>\n",
       "      <td>2023</td>\n",
       "      <td>Stockton</td>\n",
       "      <td>7249405.0</td>\n",
       "    </tr>\n",
       "    <tr>\n",
       "      <th>254</th>\n",
       "      <td>San Joaquin Council (SJCOG)</td>\n",
       "      <td>Full Reporter</td>\n",
       "      <td>Stockton, CA</td>\n",
       "      <td>2023</td>\n",
       "      <td>Stockton</td>\n",
       "      <td>650385.0</td>\n",
       "    </tr>\n",
       "  </tbody>\n",
       "</table>\n",
       "</div>"
      ],
      "text/plain": [
       "                                     agency_name  reporter_type  \\\n",
       "7                Altamont Corridor Express (ACE)  Full Reporter   \n",
       "131  San Joaquin Regional Transit District (RTD)  Full Reporter   \n",
       "254                  San Joaquin Council (SJCOG)  Full Reporter   \n",
       "\n",
       "    primary_uza_name  last_report_year      city  total_vrh  \n",
       "7       Stockton, CA              2023  Stockton   529179.0  \n",
       "131     Stockton, CA              2023  Stockton  7249405.0  \n",
       "254     Stockton, CA              2023  Stockton   650385.0  "
      ]
     },
     "metadata": {},
     "output_type": "display_data"
    },
    {
     "data": {
      "text/plain": [
       "'Results for Escalon'"
      ]
     },
     "metadata": {},
     "output_type": "display_data"
    },
    {
     "data": {
      "text/html": [
       "<div>\n",
       "<style scoped>\n",
       "    .dataframe tbody tr th:only-of-type {\n",
       "        vertical-align: middle;\n",
       "    }\n",
       "\n",
       "    .dataframe tbody tr th {\n",
       "        vertical-align: top;\n",
       "    }\n",
       "\n",
       "    .dataframe thead th {\n",
       "        text-align: right;\n",
       "    }\n",
       "</style>\n",
       "<table border=\"1\" class=\"dataframe\">\n",
       "  <thead>\n",
       "    <tr style=\"text-align: right;\">\n",
       "      <th></th>\n",
       "      <th>agency_name</th>\n",
       "      <th>reporter_type</th>\n",
       "      <th>primary_uza_name</th>\n",
       "      <th>last_report_year</th>\n",
       "      <th>city</th>\n",
       "      <th>total_vrh</th>\n",
       "    </tr>\n",
       "  </thead>\n",
       "  <tbody>\n",
       "  </tbody>\n",
       "</table>\n",
       "</div>"
      ],
      "text/plain": [
       "Empty DataFrame\n",
       "Columns: [agency_name, reporter_type, primary_uza_name, last_report_year, city, total_vrh]\n",
       "Index: []"
      ]
     },
     "metadata": {},
     "output_type": "display_data"
    },
    {
     "data": {
      "text/plain": [
       "'Results for Tracy'"
      ]
     },
     "metadata": {},
     "output_type": "display_data"
    },
    {
     "data": {
      "text/html": [
       "<div>\n",
       "<style scoped>\n",
       "    .dataframe tbody tr th:only-of-type {\n",
       "        vertical-align: middle;\n",
       "    }\n",
       "\n",
       "    .dataframe tbody tr th {\n",
       "        vertical-align: top;\n",
       "    }\n",
       "\n",
       "    .dataframe thead th {\n",
       "        text-align: right;\n",
       "    }\n",
       "</style>\n",
       "<table border=\"1\" class=\"dataframe\">\n",
       "  <thead>\n",
       "    <tr style=\"text-align: right;\">\n",
       "      <th></th>\n",
       "      <th>agency_name</th>\n",
       "      <th>reporter_type</th>\n",
       "      <th>primary_uza_name</th>\n",
       "      <th>last_report_year</th>\n",
       "      <th>city</th>\n",
       "      <th>total_vrh</th>\n",
       "    </tr>\n",
       "  </thead>\n",
       "  <tbody>\n",
       "    <tr>\n",
       "      <th>62</th>\n",
       "      <td>City of Tracy - Transit Division</td>\n",
       "      <td>Reduced Reporter</td>\n",
       "      <td>Tracy--Mountain House, CA</td>\n",
       "      <td>2023</td>\n",
       "      <td>Tracy</td>\n",
       "      <td>370073.0</td>\n",
       "    </tr>\n",
       "  </tbody>\n",
       "</table>\n",
       "</div>"
      ],
      "text/plain": [
       "                         agency_name     reporter_type  \\\n",
       "62  City of Tracy - Transit Division  Reduced Reporter   \n",
       "\n",
       "             primary_uza_name  last_report_year   city  total_vrh  \n",
       "62  Tracy--Mountain House, CA              2023  Tracy   370073.0  "
      ]
     },
     "metadata": {},
     "output_type": "display_data"
    },
    {
     "data": {
      "text/plain": [
       "'Results for Lathrop'"
      ]
     },
     "metadata": {},
     "output_type": "display_data"
    },
    {
     "data": {
      "text/html": [
       "<div>\n",
       "<style scoped>\n",
       "    .dataframe tbody tr th:only-of-type {\n",
       "        vertical-align: middle;\n",
       "    }\n",
       "\n",
       "    .dataframe tbody tr th {\n",
       "        vertical-align: top;\n",
       "    }\n",
       "\n",
       "    .dataframe thead th {\n",
       "        text-align: right;\n",
       "    }\n",
       "</style>\n",
       "<table border=\"1\" class=\"dataframe\">\n",
       "  <thead>\n",
       "    <tr style=\"text-align: right;\">\n",
       "      <th></th>\n",
       "      <th>agency_name</th>\n",
       "      <th>reporter_type</th>\n",
       "      <th>primary_uza_name</th>\n",
       "      <th>last_report_year</th>\n",
       "      <th>city</th>\n",
       "      <th>total_vrh</th>\n",
       "    </tr>\n",
       "  </thead>\n",
       "  <tbody>\n",
       "  </tbody>\n",
       "</table>\n",
       "</div>"
      ],
      "text/plain": [
       "Empty DataFrame\n",
       "Columns: [agency_name, reporter_type, primary_uza_name, last_report_year, city, total_vrh]\n",
       "Index: []"
      ]
     },
     "metadata": {},
     "output_type": "display_data"
    },
    {
     "data": {
      "text/plain": [
       "'Results for Lodi'"
      ]
     },
     "metadata": {},
     "output_type": "display_data"
    },
    {
     "data": {
      "text/html": [
       "<div>\n",
       "<style scoped>\n",
       "    .dataframe tbody tr th:only-of-type {\n",
       "        vertical-align: middle;\n",
       "    }\n",
       "\n",
       "    .dataframe tbody tr th {\n",
       "        vertical-align: top;\n",
       "    }\n",
       "\n",
       "    .dataframe thead th {\n",
       "        text-align: right;\n",
       "    }\n",
       "</style>\n",
       "<table border=\"1\" class=\"dataframe\">\n",
       "  <thead>\n",
       "    <tr style=\"text-align: right;\">\n",
       "      <th></th>\n",
       "      <th>agency_name</th>\n",
       "      <th>reporter_type</th>\n",
       "      <th>primary_uza_name</th>\n",
       "      <th>last_report_year</th>\n",
       "      <th>city</th>\n",
       "      <th>total_vrh</th>\n",
       "    </tr>\n",
       "  </thead>\n",
       "  <tbody>\n",
       "    <tr>\n",
       "      <th>186</th>\n",
       "      <td>City of Lodi - Public Works Department</td>\n",
       "      <td>Reduced Reporter</td>\n",
       "      <td>Lodi, CA</td>\n",
       "      <td>2023</td>\n",
       "      <td>Lodi</td>\n",
       "      <td>1032308.0</td>\n",
       "    </tr>\n",
       "  </tbody>\n",
       "</table>\n",
       "</div>"
      ],
      "text/plain": [
       "                                agency_name     reporter_type  \\\n",
       "186  City of Lodi - Public Works Department  Reduced Reporter   \n",
       "\n",
       "    primary_uza_name  last_report_year  city  total_vrh  \n",
       "186         Lodi, CA              2023  Lodi  1032308.0  "
      ]
     },
     "metadata": {},
     "output_type": "display_data"
    },
    {
     "data": {
      "text/plain": [
       "'Results for Manteca'"
      ]
     },
     "metadata": {},
     "output_type": "display_data"
    },
    {
     "data": {
      "text/html": [
       "<div>\n",
       "<style scoped>\n",
       "    .dataframe tbody tr th:only-of-type {\n",
       "        vertical-align: middle;\n",
       "    }\n",
       "\n",
       "    .dataframe tbody tr th {\n",
       "        vertical-align: top;\n",
       "    }\n",
       "\n",
       "    .dataframe thead th {\n",
       "        text-align: right;\n",
       "    }\n",
       "</style>\n",
       "<table border=\"1\" class=\"dataframe\">\n",
       "  <thead>\n",
       "    <tr style=\"text-align: right;\">\n",
       "      <th></th>\n",
       "      <th>agency_name</th>\n",
       "      <th>reporter_type</th>\n",
       "      <th>primary_uza_name</th>\n",
       "      <th>last_report_year</th>\n",
       "      <th>city</th>\n",
       "      <th>total_vrh</th>\n",
       "    </tr>\n",
       "  </thead>\n",
       "  <tbody>\n",
       "    <tr>\n",
       "      <th>190</th>\n",
       "      <td>City of Manteca - Transit Division</td>\n",
       "      <td>Reduced Reporter</td>\n",
       "      <td>Manteca, CA</td>\n",
       "      <td>2023</td>\n",
       "      <td>Manteca</td>\n",
       "      <td>179908.0</td>\n",
       "    </tr>\n",
       "  </tbody>\n",
       "</table>\n",
       "</div>"
      ],
      "text/plain": [
       "                            agency_name     reporter_type primary_uza_name  \\\n",
       "190  City of Manteca - Transit Division  Reduced Reporter      Manteca, CA   \n",
       "\n",
       "     last_report_year     city  total_vrh  \n",
       "190              2023  Manteca   179908.0  "
      ]
     },
     "metadata": {},
     "output_type": "display_data"
    },
    {
     "data": {
      "text/plain": [
       "'Results for Mountain House'"
      ]
     },
     "metadata": {},
     "output_type": "display_data"
    },
    {
     "data": {
      "text/html": [
       "<div>\n",
       "<style scoped>\n",
       "    .dataframe tbody tr th:only-of-type {\n",
       "        vertical-align: middle;\n",
       "    }\n",
       "\n",
       "    .dataframe tbody tr th {\n",
       "        vertical-align: top;\n",
       "    }\n",
       "\n",
       "    .dataframe thead th {\n",
       "        text-align: right;\n",
       "    }\n",
       "</style>\n",
       "<table border=\"1\" class=\"dataframe\">\n",
       "  <thead>\n",
       "    <tr style=\"text-align: right;\">\n",
       "      <th></th>\n",
       "      <th>agency_name</th>\n",
       "      <th>reporter_type</th>\n",
       "      <th>primary_uza_name</th>\n",
       "      <th>last_report_year</th>\n",
       "      <th>city</th>\n",
       "      <th>total_vrh</th>\n",
       "    </tr>\n",
       "  </thead>\n",
       "  <tbody>\n",
       "    <tr>\n",
       "      <th>62</th>\n",
       "      <td>City of Tracy - Transit Division</td>\n",
       "      <td>Reduced Reporter</td>\n",
       "      <td>Tracy--Mountain House, CA</td>\n",
       "      <td>2023</td>\n",
       "      <td>Tracy</td>\n",
       "      <td>370073.0</td>\n",
       "    </tr>\n",
       "  </tbody>\n",
       "</table>\n",
       "</div>"
      ],
      "text/plain": [
       "                         agency_name     reporter_type  \\\n",
       "62  City of Tracy - Transit Division  Reduced Reporter   \n",
       "\n",
       "             primary_uza_name  last_report_year   city  total_vrh  \n",
       "62  Tracy--Mountain House, CA              2023  Tracy   370073.0  "
      ]
     },
     "metadata": {},
     "output_type": "display_data"
    },
    {
     "data": {
      "text/plain": [
       "'Results for Ripon'"
      ]
     },
     "metadata": {},
     "output_type": "display_data"
    },
    {
     "data": {
      "text/html": [
       "<div>\n",
       "<style scoped>\n",
       "    .dataframe tbody tr th:only-of-type {\n",
       "        vertical-align: middle;\n",
       "    }\n",
       "\n",
       "    .dataframe tbody tr th {\n",
       "        vertical-align: top;\n",
       "    }\n",
       "\n",
       "    .dataframe thead th {\n",
       "        text-align: right;\n",
       "    }\n",
       "</style>\n",
       "<table border=\"1\" class=\"dataframe\">\n",
       "  <thead>\n",
       "    <tr style=\"text-align: right;\">\n",
       "      <th></th>\n",
       "      <th>agency_name</th>\n",
       "      <th>reporter_type</th>\n",
       "      <th>primary_uza_name</th>\n",
       "      <th>last_report_year</th>\n",
       "      <th>city</th>\n",
       "      <th>total_vrh</th>\n",
       "    </tr>\n",
       "  </thead>\n",
       "  <tbody>\n",
       "  </tbody>\n",
       "</table>\n",
       "</div>"
      ],
      "text/plain": [
       "Empty DataFrame\n",
       "Columns: [agency_name, reporter_type, primary_uza_name, last_report_year, city, total_vrh]\n",
       "Index: []"
      ]
     },
     "metadata": {},
     "output_type": "display_data"
    },
    {
     "data": {
      "text/plain": [
       "'Results for Acampo'"
      ]
     },
     "metadata": {},
     "output_type": "display_data"
    },
    {
     "data": {
      "text/html": [
       "<div>\n",
       "<style scoped>\n",
       "    .dataframe tbody tr th:only-of-type {\n",
       "        vertical-align: middle;\n",
       "    }\n",
       "\n",
       "    .dataframe tbody tr th {\n",
       "        vertical-align: top;\n",
       "    }\n",
       "\n",
       "    .dataframe thead th {\n",
       "        text-align: right;\n",
       "    }\n",
       "</style>\n",
       "<table border=\"1\" class=\"dataframe\">\n",
       "  <thead>\n",
       "    <tr style=\"text-align: right;\">\n",
       "      <th></th>\n",
       "      <th>agency_name</th>\n",
       "      <th>reporter_type</th>\n",
       "      <th>primary_uza_name</th>\n",
       "      <th>last_report_year</th>\n",
       "      <th>city</th>\n",
       "      <th>total_vrh</th>\n",
       "    </tr>\n",
       "  </thead>\n",
       "  <tbody>\n",
       "  </tbody>\n",
       "</table>\n",
       "</div>"
      ],
      "text/plain": [
       "Empty DataFrame\n",
       "Columns: [agency_name, reporter_type, primary_uza_name, last_report_year, city, total_vrh]\n",
       "Index: []"
      ]
     },
     "metadata": {},
     "output_type": "display_data"
    },
    {
     "data": {
      "text/plain": [
       "'Results for French Camp'"
      ]
     },
     "metadata": {},
     "output_type": "display_data"
    },
    {
     "data": {
      "text/html": [
       "<div>\n",
       "<style scoped>\n",
       "    .dataframe tbody tr th:only-of-type {\n",
       "        vertical-align: middle;\n",
       "    }\n",
       "\n",
       "    .dataframe tbody tr th {\n",
       "        vertical-align: top;\n",
       "    }\n",
       "\n",
       "    .dataframe thead th {\n",
       "        text-align: right;\n",
       "    }\n",
       "</style>\n",
       "<table border=\"1\" class=\"dataframe\">\n",
       "  <thead>\n",
       "    <tr style=\"text-align: right;\">\n",
       "      <th></th>\n",
       "      <th>agency_name</th>\n",
       "      <th>reporter_type</th>\n",
       "      <th>primary_uza_name</th>\n",
       "      <th>last_report_year</th>\n",
       "      <th>city</th>\n",
       "      <th>total_vrh</th>\n",
       "    </tr>\n",
       "  </thead>\n",
       "  <tbody>\n",
       "  </tbody>\n",
       "</table>\n",
       "</div>"
      ],
      "text/plain": [
       "Empty DataFrame\n",
       "Columns: [agency_name, reporter_type, primary_uza_name, last_report_year, city, total_vrh]\n",
       "Index: []"
      ]
     },
     "metadata": {},
     "output_type": "display_data"
    },
    {
     "data": {
      "text/plain": [
       "'Results for Garden Arcres'"
      ]
     },
     "metadata": {},
     "output_type": "display_data"
    },
    {
     "data": {
      "text/html": [
       "<div>\n",
       "<style scoped>\n",
       "    .dataframe tbody tr th:only-of-type {\n",
       "        vertical-align: middle;\n",
       "    }\n",
       "\n",
       "    .dataframe tbody tr th {\n",
       "        vertical-align: top;\n",
       "    }\n",
       "\n",
       "    .dataframe thead th {\n",
       "        text-align: right;\n",
       "    }\n",
       "</style>\n",
       "<table border=\"1\" class=\"dataframe\">\n",
       "  <thead>\n",
       "    <tr style=\"text-align: right;\">\n",
       "      <th></th>\n",
       "      <th>agency_name</th>\n",
       "      <th>reporter_type</th>\n",
       "      <th>primary_uza_name</th>\n",
       "      <th>last_report_year</th>\n",
       "      <th>city</th>\n",
       "      <th>total_vrh</th>\n",
       "    </tr>\n",
       "  </thead>\n",
       "  <tbody>\n",
       "  </tbody>\n",
       "</table>\n",
       "</div>"
      ],
      "text/plain": [
       "Empty DataFrame\n",
       "Columns: [agency_name, reporter_type, primary_uza_name, last_report_year, city, total_vrh]\n",
       "Index: []"
      ]
     },
     "metadata": {},
     "output_type": "display_data"
    }
   ],
   "source": [
    "# How many agencies have Tracy as their primary uza?\n",
    "for i in sj_cities:\n",
    "    display(\n",
    "        f\"Results for {i}\",\n",
    "        ca[ca[\"primary_uza_name\"].str.contains(i)]\n",
    "    )"
   ]
  },
  {
   "cell_type": "code",
   "execution_count": null,
   "id": "423258f7-7d41-4424-aa2a-532caf451169",
   "metadata": {},
   "outputs": [],
   "source": []
  }
 ],
 "metadata": {
  "kernelspec": {
   "display_name": "Python 3 (ipykernel)",
   "language": "python",
   "name": "python3"
  },
  "language_info": {
   "codemirror_mode": {
    "name": "ipython",
    "version": 3
   },
   "file_extension": ".py",
   "mimetype": "text/x-python",
   "name": "python",
   "nbconvert_exporter": "python",
   "pygments_lexer": "ipython3",
   "version": "3.11.10"
  }
 },
 "nbformat": 4,
 "nbformat_minor": 5
}
