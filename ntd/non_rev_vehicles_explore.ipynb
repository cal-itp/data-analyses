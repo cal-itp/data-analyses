{
 "cells": [
  {
   "cell_type": "markdown",
   "id": "7d3670e4-e693-4b88-9e00-3f258c2cac32",
   "metadata": {},
   "source": [
    "# Research Request - Non-Revenue Vehicle Fleet Sizes #1236\n",
    "\n",
    "How many non-revenue vehicles do transit agencies have. \n",
    "\n",
    "Also known as \"service vehicles\", Non-revenue vehicle data are excluded from UPT, VRM, VRH reports (since these NRV are not meant to carry passengers or make revenue).\n",
    "\n",
    "NRVs are like support vehicles used to maintain transit operations (service/maintenance vehicles, other support.\n",
    "\n",
    "Service Vehicle Inventory (Form A-35): \"Transit agencies are required to report data on service vehicles, or vehicles which do not carry passengers.\n"
   ]
  },
  {
   "cell_type": "code",
   "execution_count": 1,
   "id": "9f246b2c-0cc7-4742-98fc-cafb1cf093e6",
   "metadata": {},
   "outputs": [],
   "source": [
    "import requests\n",
    "import json\n",
    "import pandas as pd\n",
    "import numpy as np\n",
    "\n",
    "pd.set_option('display.max_columns', None)\n",
    "pd.set_option('display.max_rows', None) \n",
    "pd.set_option('display.max_colwidth', None)\n",
    "\n",
    "GCS_PATH = \"gs://calitp-analytics-data/data-analyses/ntd/\""
   ]
  },
  {
   "cell_type": "code",
   "execution_count": 2,
   "id": "c5c698bb-dee5-45be-950a-35ec133c8edb",
   "metadata": {},
   "outputs": [
    {
     "name": "stdout",
     "output_type": "stream",
     "text": [
      "<Response [200]>\n"
     ]
    }
   ],
   "source": [
    "# ping blackcat api to get 2024 blackcat data\n",
    "api_2024 = \"https://services.blackcattransit.com/api/APIModules/GetNTDReportsByYear/BCG_CA/2024\"\n",
    "\n",
    "response = requests.get(api_2024)\n",
    "\n",
    "print(response)"
   ]
  },
  {
   "cell_type": "code",
   "execution_count": 3,
   "id": "945a554a-dfda-4da7-9160-fe4fc01de0c5",
   "metadata": {},
   "outputs": [],
   "source": [
    "blob_2024 = response.json()"
   ]
  },
  {
   "cell_type": "code",
   "execution_count": 4,
   "id": "04c1332f-0dbc-4793-b62e-e84f5d994c77",
   "metadata": {},
   "outputs": [
    {
     "data": {
      "text/plain": [
       "list"
      ]
     },
     "execution_count": 4,
     "metadata": {},
     "output_type": "execute_result"
    }
   ],
   "source": [
    "type(blob_2024)"
   ]
  },
  {
   "cell_type": "code",
   "execution_count": 5,
   "id": "e0cccbe2-2cd9-40e4-a349-1f3c0aaf7a73",
   "metadata": {},
   "outputs": [
    {
     "data": {
      "text/plain": [
       "86"
      ]
     },
     "execution_count": 5,
     "metadata": {},
     "output_type": "execute_result"
    }
   ],
   "source": [
    "len(blob_2024)"
   ]
  },
  {
   "cell_type": "markdown",
   "id": "8c30a287-a99f-4e34-820d-5e12f2aecee2",
   "metadata": {},
   "source": [
    "## Exploring the blob JSON\n",
    "\n",
    "[ ] = arrays. use index position (0,1,2) to accesss the different elements in the array\n"
   ]
  },
  {
   "cell_type": "markdown",
   "id": "da005e86-6024-4638-9fbb-c2c03b5e92b2",
   "metadata": {},
   "source": [
    "### Ultimate goal\n",
    " get a dataframe of organization name and A35 data"
   ]
  },
  {
   "cell_type": "code",
   "execution_count": 44,
   "id": "06be1bfc-ac48-4375-a519-818f2e5774cc",
   "metadata": {},
   "outputs": [
    {
     "ename": "TypeError",
     "evalue": "list indices must be integers or slices, not str",
     "output_type": "error",
     "traceback": [
      "\u001b[0;31m---------------------------------------------------------------------------\u001b[0m",
      "\u001b[0;31mTypeError\u001b[0m                                 Traceback (most recent call last)",
      "Cell \u001b[0;32mIn[44], line 1\u001b[0m\n\u001b[0;32m----> 1\u001b[0m \u001b[43mblob_2024\u001b[49m\u001b[43m[\u001b[49m\u001b[38;5;124;43m\"\u001b[39;49m\u001b[38;5;124;43mId\u001b[39;49m\u001b[38;5;124;43m\"\u001b[39;49m\u001b[43m]\u001b[49m\n",
      "\u001b[0;31mTypeError\u001b[0m: list indices must be integers or slices, not str"
     ]
    }
   ],
   "source": [
    "blob_2024[\"Id\"]"
   ]
  },
  {
   "cell_type": "code",
   "execution_count": 23,
   "id": "aac98ae5-a8eb-4309-852d-8550a08d0a0f",
   "metadata": {},
   "outputs": [
    {
     "data": {
      "text/plain": [
       "'City of Arcata'"
      ]
     },
     "metadata": {},
     "output_type": "display_data"
    },
    {
     "data": {
      "text/plain": [
       "'Eureka Transit Service'"
      ]
     },
     "metadata": {},
     "output_type": "display_data"
    }
   ],
   "source": [
    "# access organiztion name\n",
    "# first org is \"City of Arcata\"\n",
    "\n",
    "display(\n",
    "    blob_2024[0][\"Organization\"],\n",
    "    blob_2024[1][\"Organization\"]\n",
    ")\n",
    "# this is how you access each org in the blob\n",
    "# blob[0] is City of Arcata"
   ]
  },
  {
   "cell_type": "code",
   "execution_count": 26,
   "id": "5616088c-4d27-4cbe-ba72-924f451fbf1a",
   "metadata": {},
   "outputs": [
    {
     "data": {
      "text/plain": [
       "{'Data': [{'Id': 336,\n",
       "   'ReportId': 1138,\n",
       "   'EquipmentName': 'Service Vehicle Ford Escape',\n",
       "   'EquipmentId': 275,\n",
       "   'VehicleType': 'Trucks and Other Rubber Tire Vehicles',\n",
       "   'PrimaryMode': 'MB - Bus',\n",
       "   'SecondaryMode': '',\n",
       "   'TotalVehicles': None,\n",
       "   'UsefulLifeBenchmark': False,\n",
       "   'YearOfManufacture': 2005,\n",
       "   'TransitAgencyCapitalResponsibility': '',\n",
       "   'EstimatedCost': None,\n",
       "   'YearDollarsEstimatedCost': None,\n",
       "   'UsefulLifeYearsBenchMark': None,\n",
       "   'UsefulLifeYearsRemaining': None,\n",
       "   'LastModifiedDate': '2024-10-29T21:07:27.03'},\n",
       "  {'Id': 337,\n",
       "   'ReportId': 1138,\n",
       "   'EquipmentName': 'Service Vehicle Ford Fusion',\n",
       "   'EquipmentId': 276,\n",
       "   'VehicleType': 'Automobiles',\n",
       "   'PrimaryMode': 'MB - Bus',\n",
       "   'SecondaryMode': '',\n",
       "   'TotalVehicles': None,\n",
       "   'UsefulLifeBenchmark': False,\n",
       "   'YearOfManufacture': 2012,\n",
       "   'TransitAgencyCapitalResponsibility': '',\n",
       "   'EstimatedCost': None,\n",
       "   'YearDollarsEstimatedCost': None,\n",
       "   'UsefulLifeYearsBenchMark': None,\n",
       "   'UsefulLifeYearsRemaining': None,\n",
       "   'LastModifiedDate': '2024-10-29T21:07:27.093'},\n",
       "  {'Id': 338,\n",
       "   'ReportId': 1138,\n",
       "   'EquipmentName': 'Service Vehicle Dodge Caravan',\n",
       "   'EquipmentId': 277,\n",
       "   'VehicleType': 'Trucks and Other Rubber Tire Vehicles',\n",
       "   'PrimaryMode': 'MB - Bus',\n",
       "   'SecondaryMode': '',\n",
       "   'TotalVehicles': None,\n",
       "   'UsefulLifeBenchmark': False,\n",
       "   'YearOfManufacture': 2014,\n",
       "   'TransitAgencyCapitalResponsibility': '',\n",
       "   'EstimatedCost': None,\n",
       "   'YearDollarsEstimatedCost': None,\n",
       "   'UsefulLifeYearsBenchMark': None,\n",
       "   'UsefulLifeYearsRemaining': None,\n",
       "   'LastModifiedDate': '2024-10-29T21:07:27.093'}]}"
      ]
     },
     "execution_count": 26,
     "metadata": {},
     "output_type": "execute_result"
    }
   ],
   "source": [
    "# access NTDReportingA35\n",
    "\n",
    "blob_2024[0][\"NTDReportingA35\"]\n",
    "# what the A35 looks like for Arcata"
   ]
  },
  {
   "cell_type": "code",
   "execution_count": 31,
   "id": "52f55edb-aab1-4e75-9675-7cfb00880cd5",
   "metadata": {},
   "outputs": [
    {
     "name": "stdout",
     "output_type": "stream",
     "text": [
      "3\n"
     ]
    },
    {
     "data": {
      "text/plain": [
       "[{'Id': 336,\n",
       "  'ReportId': 1138,\n",
       "  'EquipmentName': 'Service Vehicle Ford Escape',\n",
       "  'EquipmentId': 275,\n",
       "  'VehicleType': 'Trucks and Other Rubber Tire Vehicles',\n",
       "  'PrimaryMode': 'MB - Bus',\n",
       "  'SecondaryMode': '',\n",
       "  'TotalVehicles': None,\n",
       "  'UsefulLifeBenchmark': False,\n",
       "  'YearOfManufacture': 2005,\n",
       "  'TransitAgencyCapitalResponsibility': '',\n",
       "  'EstimatedCost': None,\n",
       "  'YearDollarsEstimatedCost': None,\n",
       "  'UsefulLifeYearsBenchMark': None,\n",
       "  'UsefulLifeYearsRemaining': None,\n",
       "  'LastModifiedDate': '2024-10-29T21:07:27.03'},\n",
       " {'Id': 337,\n",
       "  'ReportId': 1138,\n",
       "  'EquipmentName': 'Service Vehicle Ford Fusion',\n",
       "  'EquipmentId': 276,\n",
       "  'VehicleType': 'Automobiles',\n",
       "  'PrimaryMode': 'MB - Bus',\n",
       "  'SecondaryMode': '',\n",
       "  'TotalVehicles': None,\n",
       "  'UsefulLifeBenchmark': False,\n",
       "  'YearOfManufacture': 2012,\n",
       "  'TransitAgencyCapitalResponsibility': '',\n",
       "  'EstimatedCost': None,\n",
       "  'YearDollarsEstimatedCost': None,\n",
       "  'UsefulLifeYearsBenchMark': None,\n",
       "  'UsefulLifeYearsRemaining': None,\n",
       "  'LastModifiedDate': '2024-10-29T21:07:27.093'},\n",
       " {'Id': 338,\n",
       "  'ReportId': 1138,\n",
       "  'EquipmentName': 'Service Vehicle Dodge Caravan',\n",
       "  'EquipmentId': 277,\n",
       "  'VehicleType': 'Trucks and Other Rubber Tire Vehicles',\n",
       "  'PrimaryMode': 'MB - Bus',\n",
       "  'SecondaryMode': '',\n",
       "  'TotalVehicles': None,\n",
       "  'UsefulLifeBenchmark': False,\n",
       "  'YearOfManufacture': 2014,\n",
       "  'TransitAgencyCapitalResponsibility': '',\n",
       "  'EstimatedCost': None,\n",
       "  'YearDollarsEstimatedCost': None,\n",
       "  'UsefulLifeYearsBenchMark': None,\n",
       "  'UsefulLifeYearsRemaining': None,\n",
       "  'LastModifiedDate': '2024-10-29T21:07:27.093'}]"
      ]
     },
     "execution_count": 31,
     "metadata": {},
     "output_type": "execute_result"
    }
   ],
   "source": [
    "# accessing data in A35\n",
    "print(len(blob_2024[0][\"NTDReportingA35\"][\"Data\"]))\n",
    "\n",
    "blob_2024[0][\"NTDReportingA35\"][\"Data\"]"
   ]
  },
  {
   "cell_type": "code",
   "execution_count": 34,
   "id": "06591c65-bcf3-4d33-8c0e-27575d095ec2",
   "metadata": {},
   "outputs": [
    {
     "data": {
      "text/plain": [
       "{'Id': 336,\n",
       " 'ReportId': 1138,\n",
       " 'EquipmentName': 'Service Vehicle Ford Escape',\n",
       " 'EquipmentId': 275,\n",
       " 'VehicleType': 'Trucks and Other Rubber Tire Vehicles',\n",
       " 'PrimaryMode': 'MB - Bus',\n",
       " 'SecondaryMode': '',\n",
       " 'TotalVehicles': None,\n",
       " 'UsefulLifeBenchmark': False,\n",
       " 'YearOfManufacture': 2005,\n",
       " 'TransitAgencyCapitalResponsibility': '',\n",
       " 'EstimatedCost': None,\n",
       " 'YearDollarsEstimatedCost': None,\n",
       " 'UsefulLifeYearsBenchMark': None,\n",
       " 'UsefulLifeYearsRemaining': None,\n",
       " 'LastModifiedDate': '2024-10-29T21:07:27.03'}"
      ]
     },
     "execution_count": 34,
     "metadata": {},
     "output_type": "execute_result"
    }
   ],
   "source": [
    "# accessing 1st entry in a35 data for Arcata\n",
    "\n",
    "blob_2024[0][\"NTDReportingA35\"][\"Data\"][0]"
   ]
  },
  {
   "cell_type": "code",
   "execution_count": 42,
   "id": "ec77bf00-55ad-4214-9355-3b80b222a1e1",
   "metadata": {},
   "outputs": [
    {
     "data": {
      "text/plain": [
       "'Service Vehicle Ford Escape'"
      ]
     },
     "execution_count": 42,
     "metadata": {},
     "output_type": "execute_result"
    }
   ],
   "source": [
    "# accessing equipment name from the first entry in a35 data for Arcata\n",
    "\n",
    "blob_2024[0][\"NTDReportingA35\"][\"Data\"][0][\"EquipmentName\"]"
   ]
  },
  {
   "cell_type": "code",
   "execution_count": 43,
   "id": "b8e3ca04-0e42-40f7-ac9f-479c7a20732d",
   "metadata": {},
   "outputs": [
    {
     "data": {
      "text/plain": [
       "'City of Arcata'"
      ]
     },
     "metadata": {},
     "output_type": "display_data"
    },
    {
     "data": {
      "text/plain": [
       "[{'Id': 336,\n",
       "  'ReportId': 1138,\n",
       "  'EquipmentName': 'Service Vehicle Ford Escape',\n",
       "  'EquipmentId': 275,\n",
       "  'VehicleType': 'Trucks and Other Rubber Tire Vehicles',\n",
       "  'PrimaryMode': 'MB - Bus',\n",
       "  'SecondaryMode': '',\n",
       "  'TotalVehicles': None,\n",
       "  'UsefulLifeBenchmark': False,\n",
       "  'YearOfManufacture': 2005,\n",
       "  'TransitAgencyCapitalResponsibility': '',\n",
       "  'EstimatedCost': None,\n",
       "  'YearDollarsEstimatedCost': None,\n",
       "  'UsefulLifeYearsBenchMark': None,\n",
       "  'UsefulLifeYearsRemaining': None,\n",
       "  'LastModifiedDate': '2024-10-29T21:07:27.03'},\n",
       " {'Id': 337,\n",
       "  'ReportId': 1138,\n",
       "  'EquipmentName': 'Service Vehicle Ford Fusion',\n",
       "  'EquipmentId': 276,\n",
       "  'VehicleType': 'Automobiles',\n",
       "  'PrimaryMode': 'MB - Bus',\n",
       "  'SecondaryMode': '',\n",
       "  'TotalVehicles': None,\n",
       "  'UsefulLifeBenchmark': False,\n",
       "  'YearOfManufacture': 2012,\n",
       "  'TransitAgencyCapitalResponsibility': '',\n",
       "  'EstimatedCost': None,\n",
       "  'YearDollarsEstimatedCost': None,\n",
       "  'UsefulLifeYearsBenchMark': None,\n",
       "  'UsefulLifeYearsRemaining': None,\n",
       "  'LastModifiedDate': '2024-10-29T21:07:27.093'},\n",
       " {'Id': 338,\n",
       "  'ReportId': 1138,\n",
       "  'EquipmentName': 'Service Vehicle Dodge Caravan',\n",
       "  'EquipmentId': 277,\n",
       "  'VehicleType': 'Trucks and Other Rubber Tire Vehicles',\n",
       "  'PrimaryMode': 'MB - Bus',\n",
       "  'SecondaryMode': '',\n",
       "  'TotalVehicles': None,\n",
       "  'UsefulLifeBenchmark': False,\n",
       "  'YearOfManufacture': 2014,\n",
       "  'TransitAgencyCapitalResponsibility': '',\n",
       "  'EstimatedCost': None,\n",
       "  'YearDollarsEstimatedCost': None,\n",
       "  'UsefulLifeYearsBenchMark': None,\n",
       "  'UsefulLifeYearsRemaining': None,\n",
       "  'LastModifiedDate': '2024-10-29T21:07:27.093'}]"
      ]
     },
     "metadata": {},
     "output_type": "display_data"
    }
   ],
   "source": [
    "# can i see org name and a35 data at the same time?\n",
    "display(\n",
    "    blob_2024[0][\"Organization\"],\n",
    "    blob_2024[0][\"NTDReportingA35\"][\"Data\"]\n",
    ")"
   ]
  },
  {
   "cell_type": "code",
   "execution_count": 49,
   "id": "be146caf-8bc6-4ea8-b1fb-19e277238795",
   "metadata": {},
   "outputs": [],
   "source": [
    "# testing list comprehension to access org name and a35 data\n",
    "\n",
    "filtered_data = [\n",
    "    {\n",
    "        \"Organization\":i[\"Organization\"], \n",
    "        \"data\":i[\"NTDReportingA35\"][\"Data\"]\n",
    "    } for i in blob_2024\n",
    "]\n"
   ]
  },
  {
   "cell_type": "code",
   "execution_count": 54,
   "id": "fefaecca-9c50-4f5e-88ef-73b1a471eb30",
   "metadata": {},
   "outputs": [
    {
     "data": {
      "text/plain": [
       "{'Organization': 'Mendocino Transit Authority',\n",
       " 'data': [{'Id': 294,\n",
       "   'ReportId': 1065,\n",
       "   'EquipmentName': '201',\n",
       "   'EquipmentId': 231,\n",
       "   'VehicleType': 'Automobiles',\n",
       "   'PrimaryMode': '',\n",
       "   'SecondaryMode': '',\n",
       "   'TotalVehicles': None,\n",
       "   'UsefulLifeBenchmark': False,\n",
       "   'YearOfManufacture': 2011,\n",
       "   'TransitAgencyCapitalResponsibility': '',\n",
       "   'EstimatedCost': None,\n",
       "   'YearDollarsEstimatedCost': None,\n",
       "   'UsefulLifeYearsBenchMark': None,\n",
       "   'UsefulLifeYearsRemaining': None,\n",
       "   'LastModifiedDate': '2024-10-09T15:59:52.683'},\n",
       "  {'Id': 295,\n",
       "   'ReportId': 1065,\n",
       "   'EquipmentName': '307',\n",
       "   'EquipmentId': 232,\n",
       "   'VehicleType': 'Automobiles',\n",
       "   'PrimaryMode': '',\n",
       "   'SecondaryMode': '',\n",
       "   'TotalVehicles': None,\n",
       "   'UsefulLifeBenchmark': False,\n",
       "   'YearOfManufacture': 2012,\n",
       "   'TransitAgencyCapitalResponsibility': '',\n",
       "   'EstimatedCost': None,\n",
       "   'YearDollarsEstimatedCost': None,\n",
       "   'UsefulLifeYearsBenchMark': None,\n",
       "   'UsefulLifeYearsRemaining': None,\n",
       "   'LastModifiedDate': '2024-10-09T15:59:52.7'},\n",
       "  {'Id': 296,\n",
       "   'ReportId': 1065,\n",
       "   'EquipmentName': '308',\n",
       "   'EquipmentId': 233,\n",
       "   'VehicleType': 'Automobiles',\n",
       "   'PrimaryMode': '',\n",
       "   'SecondaryMode': '',\n",
       "   'TotalVehicles': None,\n",
       "   'UsefulLifeBenchmark': False,\n",
       "   'YearOfManufacture': 2012,\n",
       "   'TransitAgencyCapitalResponsibility': '',\n",
       "   'EstimatedCost': None,\n",
       "   'YearDollarsEstimatedCost': None,\n",
       "   'UsefulLifeYearsBenchMark': None,\n",
       "   'UsefulLifeYearsRemaining': None,\n",
       "   'LastModifiedDate': '2024-10-09T15:59:52.7'},\n",
       "  {'Id': 297,\n",
       "   'ReportId': 1065,\n",
       "   'EquipmentName': '309',\n",
       "   'EquipmentId': 234,\n",
       "   'VehicleType': 'Automobiles',\n",
       "   'PrimaryMode': '',\n",
       "   'SecondaryMode': '',\n",
       "   'TotalVehicles': None,\n",
       "   'UsefulLifeBenchmark': False,\n",
       "   'YearOfManufacture': 2018,\n",
       "   'TransitAgencyCapitalResponsibility': '',\n",
       "   'EstimatedCost': None,\n",
       "   'YearDollarsEstimatedCost': None,\n",
       "   'UsefulLifeYearsBenchMark': None,\n",
       "   'UsefulLifeYearsRemaining': None,\n",
       "   'LastModifiedDate': '2024-10-09T15:59:52.7'},\n",
       "  {'Id': 298,\n",
       "   'ReportId': 1065,\n",
       "   'EquipmentName': '310',\n",
       "   'EquipmentId': 235,\n",
       "   'VehicleType': 'Automobiles',\n",
       "   'PrimaryMode': '',\n",
       "   'SecondaryMode': '',\n",
       "   'TotalVehicles': None,\n",
       "   'UsefulLifeBenchmark': False,\n",
       "   'YearOfManufacture': 2020,\n",
       "   'TransitAgencyCapitalResponsibility': '',\n",
       "   'EstimatedCost': None,\n",
       "   'YearDollarsEstimatedCost': None,\n",
       "   'UsefulLifeYearsBenchMark': None,\n",
       "   'UsefulLifeYearsRemaining': None,\n",
       "   'LastModifiedDate': '2024-10-09T15:59:52.717'},\n",
       "  {'Id': 299,\n",
       "   'ReportId': 1065,\n",
       "   'EquipmentName': '9097',\n",
       "   'EquipmentId': 236,\n",
       "   'VehicleType': 'Trucks and Other Rubber Tire Vehicles',\n",
       "   'PrimaryMode': '',\n",
       "   'SecondaryMode': '',\n",
       "   'TotalVehicles': None,\n",
       "   'UsefulLifeBenchmark': False,\n",
       "   'YearOfManufacture': 2007,\n",
       "   'TransitAgencyCapitalResponsibility': '',\n",
       "   'EstimatedCost': None,\n",
       "   'YearDollarsEstimatedCost': None,\n",
       "   'UsefulLifeYearsBenchMark': None,\n",
       "   'UsefulLifeYearsRemaining': None,\n",
       "   'LastModifiedDate': '2024-10-09T15:59:52.717'},\n",
       "  {'Id': 300,\n",
       "   'ReportId': 1065,\n",
       "   'EquipmentName': '9096',\n",
       "   'EquipmentId': 237,\n",
       "   'VehicleType': 'Trucks and Other Rubber Tire Vehicles',\n",
       "   'PrimaryMode': '',\n",
       "   'SecondaryMode': '',\n",
       "   'TotalVehicles': None,\n",
       "   'UsefulLifeBenchmark': False,\n",
       "   'YearOfManufacture': 2007,\n",
       "   'TransitAgencyCapitalResponsibility': '',\n",
       "   'EstimatedCost': None,\n",
       "   'YearDollarsEstimatedCost': None,\n",
       "   'UsefulLifeYearsBenchMark': None,\n",
       "   'UsefulLifeYearsRemaining': None,\n",
       "   'LastModifiedDate': '2024-10-09T15:59:52.717'},\n",
       "  {'Id': 301,\n",
       "   'ReportId': 1065,\n",
       "   'EquipmentName': '9095',\n",
       "   'EquipmentId': 238,\n",
       "   'VehicleType': 'Trucks and Other Rubber Tire Vehicles',\n",
       "   'PrimaryMode': '',\n",
       "   'SecondaryMode': '',\n",
       "   'TotalVehicles': None,\n",
       "   'UsefulLifeBenchmark': False,\n",
       "   'YearOfManufacture': 2017,\n",
       "   'TransitAgencyCapitalResponsibility': '',\n",
       "   'EstimatedCost': None,\n",
       "   'YearDollarsEstimatedCost': None,\n",
       "   'UsefulLifeYearsBenchMark': None,\n",
       "   'UsefulLifeYearsRemaining': None,\n",
       "   'LastModifiedDate': '2024-10-09T15:59:52.717'},\n",
       "  {'Id': 302,\n",
       "   'ReportId': 1065,\n",
       "   'EquipmentName': '9098',\n",
       "   'EquipmentId': 239,\n",
       "   'VehicleType': 'Trucks and Other Rubber Tire Vehicles',\n",
       "   'PrimaryMode': '',\n",
       "   'SecondaryMode': '',\n",
       "   'TotalVehicles': None,\n",
       "   'UsefulLifeBenchmark': False,\n",
       "   'YearOfManufacture': 2002,\n",
       "   'TransitAgencyCapitalResponsibility': '',\n",
       "   'EstimatedCost': None,\n",
       "   'YearDollarsEstimatedCost': None,\n",
       "   'UsefulLifeYearsBenchMark': None,\n",
       "   'UsefulLifeYearsRemaining': None,\n",
       "   'LastModifiedDate': '2024-10-09T15:59:52.73'}]}"
      ]
     },
     "execution_count": 54,
     "metadata": {},
     "output_type": "execute_result"
    }
   ],
   "source": [
    "filtered_data[4]"
   ]
  },
  {
   "cell_type": "code",
   "execution_count": null,
   "id": "11e8750e-385f-442b-bf02-a248d59515f4",
   "metadata": {},
   "outputs": [],
   "source": []
  }
 ],
 "metadata": {
  "kernelspec": {
   "display_name": "Python 3 (ipykernel)",
   "language": "python",
   "name": "python3"
  },
  "language_info": {
   "codemirror_mode": {
    "name": "ipython",
    "version": 3
   },
   "file_extension": ".py",
   "mimetype": "text/x-python",
   "name": "python",
   "nbconvert_exporter": "python",
   "pygments_lexer": "ipython3",
   "version": "3.9.13"
  }
 },
 "nbformat": 4,
 "nbformat_minor": 5
}
