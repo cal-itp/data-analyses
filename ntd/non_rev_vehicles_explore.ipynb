{
 "cells": [
  {
   "cell_type": "markdown",
   "id": "7d3670e4-e693-4b88-9e00-3f258c2cac32",
   "metadata": {},
   "source": [
    "# Research Request - Non-Revenue Vehicle Fleet Sizes #1236\n",
    "\n",
    "How many non-revenue vehicles do transit agencies have. \n",
    "\n",
    "Also known as \"service vehicles\", Non-revenue vehicle data are excluded from UPT, VRM, VRH reports (since these NRV are not meant to carry passengers or make revenue).\n",
    "\n",
    "NRVs are like support vehicles used to maintain transit operations (service/maintenance vehicles, other support.\n",
    "\n",
    "Service Vehicle Inventory (Form A-35): \"Transit agencies are required to report data on service vehicles, or vehicles which do not carry passengers.\n"
   ]
  },
  {
   "cell_type": "code",
   "execution_count": 1,
   "id": "9f246b2c-0cc7-4742-98fc-cafb1cf093e6",
   "metadata": {},
   "outputs": [],
   "source": [
    "import requests\n",
    "import json\n",
    "import pandas as pd\n",
    "import numpy as np\n",
    "\n",
    "pd.set_option('display.max_columns', None)\n",
    "pd.set_option('display.max_rows', None) \n",
    "pd.set_option('display.max_colwidth', None)\n",
    "\n",
    "GCS_PATH = \"gs://calitp-analytics-data/data-analyses/ntd/\""
   ]
  },
  {
   "cell_type": "code",
   "execution_count": 81,
   "id": "a8b74962-77ea-451d-834b-4c8063c41ffb",
   "metadata": {},
   "outputs": [
    {
     "name": "stdout",
     "output_type": "stream",
     "text": [
      "<Response [200]>\n"
     ]
    },
    {
     "data": {
      "text/plain": [
       "list"
      ]
     },
     "metadata": {},
     "output_type": "display_data"
    },
    {
     "data": {
      "text/plain": [
       "86"
      ]
     },
     "metadata": {},
     "output_type": "display_data"
    }
   ],
   "source": [
    "# ping blackcat api to get 2024 blackcat data\n",
    "api_2024 = \"https://services.blackcattransit.com/api/APIModules/GetNTDReportsByYear/BCG_CA/2024\"\n",
    "\n",
    "response = requests.get(api_2024)\n",
    "\n",
    "print(response) #got 200\n",
    "\n",
    "# parse JSON\n",
    "blob_2024 = response.json()\n",
    "\n",
    "display(\n",
    "    type(blob_2024),\n",
    "    len(blob_2024)\n",
    ")"
   ]
  },
  {
   "cell_type": "markdown",
   "id": "8c30a287-a99f-4e34-820d-5e12f2aecee2",
   "metadata": {
    "jp-MarkdownHeadingCollapsed": true,
    "tags": []
   },
   "source": [
    "## Exploring the blob JSON\n",
    "\n",
    "[ ] = arrays. use index position (0,1,2) to accesss the different elements in the array\n"
   ]
  },
  {
   "cell_type": "markdown",
   "id": "da005e86-6024-4638-9fbb-c2c03b5e92b2",
   "metadata": {},
   "source": [
    "### Ultimate goal\n",
    " get a dataframe of organization name and A35 data"
   ]
  },
  {
   "cell_type": "code",
   "execution_count": 3,
   "id": "06be1bfc-ac48-4375-a519-818f2e5774cc",
   "metadata": {},
   "outputs": [],
   "source": [
    "#blob_2024[\"Id\"] this doesnt work, need to start by serching with ints"
   ]
  },
  {
   "cell_type": "code",
   "execution_count": 42,
   "id": "ec7d93c5-e165-4da1-b3cf-21852adf1e47",
   "metadata": {},
   "outputs": [],
   "source": [
    "#blob_2024[0] # using int will return an agency's entire submission, keep this off for now since its long\n",
    "\n"
   ]
  },
  {
   "cell_type": "markdown",
   "id": "b36db3ef-e143-409f-a3d3-e5a97364c379",
   "metadata": {},
   "source": [
    "JSON structure looks like this tho\n",
    "\n",
    "starts with a list of dictionaries\n",
    "access list with int, \n",
    "access dictionary using key value\n",
    "\n",
    "can have nesested dictionaries (dictionaries within dictionaries)\n",
    "can have list of dictionaires\n",
    "\n",
    "```\n",
    "[{'ReportId': 1138,\n",
    " 'Organization': 'City of Arcata',\n",
    " 'ReportPeriod': '2024',\n",
    " 'ReportStatus': 'Submitted',\n",
    " 'ReportLastModifiedDate': '10/29/2024 1:57:17 PM',\n",
    " 'NTDReportingStationsAndMaintenance': {'Data': [{'Id': 536,...\n",
    " ,\n",
    " 'NTDTransitAssetManagementA15': {'Data':...\n",
    "```"
   ]
  },
  {
   "cell_type": "code",
   "execution_count": 18,
   "id": "aac98ae5-a8eb-4309-852d-8550a08d0a0f",
   "metadata": {},
   "outputs": [
    {
     "data": {
      "text/plain": [
       "'City of Arcata'"
      ]
     },
     "metadata": {},
     "output_type": "display_data"
    },
    {
     "data": {
      "text/plain": [
       "'City of Guadalupe'"
      ]
     },
     "metadata": {},
     "output_type": "display_data"
    }
   ],
   "source": [
    "# access organiztion name\n",
    "# first org is \"City of Arcata\"\n",
    "\n",
    "display(\n",
    "    blob_2024[0][\"Organization\"],\n",
    "    blob_2024[30][\"Organization\"]\n",
    ")\n",
    "# this is how you access each org in the blob\n",
    "# blob[0] is City of Arcata"
   ]
  },
  {
   "cell_type": "code",
   "execution_count": 20,
   "id": "5616088c-4d27-4cbe-ba72-924f451fbf1a",
   "metadata": {},
   "outputs": [
    {
     "name": "stdout",
     "output_type": "stream",
     "text": [
      "1\n"
     ]
    },
    {
     "data": {
      "text/plain": [
       "{'Data': [{'Id': 336,\n",
       "   'ReportId': 1138,\n",
       "   'EquipmentName': 'Service Vehicle Ford Escape',\n",
       "   'EquipmentId': 275,\n",
       "   'VehicleType': 'Trucks and Other Rubber Tire Vehicles',\n",
       "   'PrimaryMode': 'MB - Bus',\n",
       "   'SecondaryMode': '',\n",
       "   'TotalVehicles': None,\n",
       "   'UsefulLifeBenchmark': False,\n",
       "   'YearOfManufacture': 2005,\n",
       "   'TransitAgencyCapitalResponsibility': '',\n",
       "   'EstimatedCost': None,\n",
       "   'YearDollarsEstimatedCost': None,\n",
       "   'UsefulLifeYearsBenchMark': None,\n",
       "   'UsefulLifeYearsRemaining': None,\n",
       "   'LastModifiedDate': '2024-10-29T21:07:27.03'},\n",
       "  {'Id': 337,\n",
       "   'ReportId': 1138,\n",
       "   'EquipmentName': 'Service Vehicle Ford Fusion',\n",
       "   'EquipmentId': 276,\n",
       "   'VehicleType': 'Automobiles',\n",
       "   'PrimaryMode': 'MB - Bus',\n",
       "   'SecondaryMode': '',\n",
       "   'TotalVehicles': None,\n",
       "   'UsefulLifeBenchmark': False,\n",
       "   'YearOfManufacture': 2012,\n",
       "   'TransitAgencyCapitalResponsibility': '',\n",
       "   'EstimatedCost': None,\n",
       "   'YearDollarsEstimatedCost': None,\n",
       "   'UsefulLifeYearsBenchMark': None,\n",
       "   'UsefulLifeYearsRemaining': None,\n",
       "   'LastModifiedDate': '2024-10-29T21:07:27.093'},\n",
       "  {'Id': 338,\n",
       "   'ReportId': 1138,\n",
       "   'EquipmentName': 'Service Vehicle Dodge Caravan',\n",
       "   'EquipmentId': 277,\n",
       "   'VehicleType': 'Trucks and Other Rubber Tire Vehicles',\n",
       "   'PrimaryMode': 'MB - Bus',\n",
       "   'SecondaryMode': '',\n",
       "   'TotalVehicles': None,\n",
       "   'UsefulLifeBenchmark': False,\n",
       "   'YearOfManufacture': 2014,\n",
       "   'TransitAgencyCapitalResponsibility': '',\n",
       "   'EstimatedCost': None,\n",
       "   'YearDollarsEstimatedCost': None,\n",
       "   'UsefulLifeYearsBenchMark': None,\n",
       "   'UsefulLifeYearsRemaining': None,\n",
       "   'LastModifiedDate': '2024-10-29T21:07:27.093'}]}"
      ]
     },
     "execution_count": 20,
     "metadata": {},
     "output_type": "execute_result"
    }
   ],
   "source": [
    "# access NTDReportingA35\n",
    "blob_2024[0][\"NTDReportingA35\"]\n",
    "# what the A35 looks like for Arcata"
   ]
  },
  {
   "cell_type": "code",
   "execution_count": 6,
   "id": "52f55edb-aab1-4e75-9675-7cfb00880cd5",
   "metadata": {},
   "outputs": [
    {
     "name": "stdout",
     "output_type": "stream",
     "text": [
      "3\n"
     ]
    },
    {
     "data": {
      "text/plain": [
       "[{'Id': 336,\n",
       "  'ReportId': 1138,\n",
       "  'EquipmentName': 'Service Vehicle Ford Escape',\n",
       "  'EquipmentId': 275,\n",
       "  'VehicleType': 'Trucks and Other Rubber Tire Vehicles',\n",
       "  'PrimaryMode': 'MB - Bus',\n",
       "  'SecondaryMode': '',\n",
       "  'TotalVehicles': None,\n",
       "  'UsefulLifeBenchmark': False,\n",
       "  'YearOfManufacture': 2005,\n",
       "  'TransitAgencyCapitalResponsibility': '',\n",
       "  'EstimatedCost': None,\n",
       "  'YearDollarsEstimatedCost': None,\n",
       "  'UsefulLifeYearsBenchMark': None,\n",
       "  'UsefulLifeYearsRemaining': None,\n",
       "  'LastModifiedDate': '2024-10-29T21:07:27.03'},\n",
       " {'Id': 337,\n",
       "  'ReportId': 1138,\n",
       "  'EquipmentName': 'Service Vehicle Ford Fusion',\n",
       "  'EquipmentId': 276,\n",
       "  'VehicleType': 'Automobiles',\n",
       "  'PrimaryMode': 'MB - Bus',\n",
       "  'SecondaryMode': '',\n",
       "  'TotalVehicles': None,\n",
       "  'UsefulLifeBenchmark': False,\n",
       "  'YearOfManufacture': 2012,\n",
       "  'TransitAgencyCapitalResponsibility': '',\n",
       "  'EstimatedCost': None,\n",
       "  'YearDollarsEstimatedCost': None,\n",
       "  'UsefulLifeYearsBenchMark': None,\n",
       "  'UsefulLifeYearsRemaining': None,\n",
       "  'LastModifiedDate': '2024-10-29T21:07:27.093'},\n",
       " {'Id': 338,\n",
       "  'ReportId': 1138,\n",
       "  'EquipmentName': 'Service Vehicle Dodge Caravan',\n",
       "  'EquipmentId': 277,\n",
       "  'VehicleType': 'Trucks and Other Rubber Tire Vehicles',\n",
       "  'PrimaryMode': 'MB - Bus',\n",
       "  'SecondaryMode': '',\n",
       "  'TotalVehicles': None,\n",
       "  'UsefulLifeBenchmark': False,\n",
       "  'YearOfManufacture': 2014,\n",
       "  'TransitAgencyCapitalResponsibility': '',\n",
       "  'EstimatedCost': None,\n",
       "  'YearDollarsEstimatedCost': None,\n",
       "  'UsefulLifeYearsBenchMark': None,\n",
       "  'UsefulLifeYearsRemaining': None,\n",
       "  'LastModifiedDate': '2024-10-29T21:07:27.093'}]"
      ]
     },
     "execution_count": 6,
     "metadata": {},
     "output_type": "execute_result"
    }
   ],
   "source": [
    "# accessing data portion in A35\n",
    "print(len(blob_2024[0][\"NTDReportingA35\"][\"Data\"]))\n",
    "\n",
    "blob_2024[0][\"NTDReportingA35\"][\"Data\"]"
   ]
  },
  {
   "cell_type": "code",
   "execution_count": 7,
   "id": "06591c65-bcf3-4d33-8c0e-27575d095ec2",
   "metadata": {},
   "outputs": [
    {
     "data": {
      "text/plain": [
       "{'Id': 336,\n",
       " 'ReportId': 1138,\n",
       " 'EquipmentName': 'Service Vehicle Ford Escape',\n",
       " 'EquipmentId': 275,\n",
       " 'VehicleType': 'Trucks and Other Rubber Tire Vehicles',\n",
       " 'PrimaryMode': 'MB - Bus',\n",
       " 'SecondaryMode': '',\n",
       " 'TotalVehicles': None,\n",
       " 'UsefulLifeBenchmark': False,\n",
       " 'YearOfManufacture': 2005,\n",
       " 'TransitAgencyCapitalResponsibility': '',\n",
       " 'EstimatedCost': None,\n",
       " 'YearDollarsEstimatedCost': None,\n",
       " 'UsefulLifeYearsBenchMark': None,\n",
       " 'UsefulLifeYearsRemaining': None,\n",
       " 'LastModifiedDate': '2024-10-29T21:07:27.03'}"
      ]
     },
     "execution_count": 7,
     "metadata": {},
     "output_type": "execute_result"
    }
   ],
   "source": [
    "# accessing 1st entry in a35 data for Arcata\n",
    "\n",
    "blob_2024[0][\"NTDReportingA35\"][\"Data\"][0]"
   ]
  },
  {
   "cell_type": "code",
   "execution_count": 8,
   "id": "ec77bf00-55ad-4214-9355-3b80b222a1e1",
   "metadata": {},
   "outputs": [
    {
     "data": {
      "text/plain": [
       "'Service Vehicle Ford Escape'"
      ]
     },
     "execution_count": 8,
     "metadata": {},
     "output_type": "execute_result"
    }
   ],
   "source": [
    "# accessing speficif field, equipment name, from the first entry in a35 data for Arcata\n",
    "\n",
    "blob_2024[0][\"NTDReportingA35\"][\"Data\"][0][\"EquipmentName\"]"
   ]
  },
  {
   "cell_type": "code",
   "execution_count": 9,
   "id": "b8e3ca04-0e42-40f7-ac9f-479c7a20732d",
   "metadata": {},
   "outputs": [
    {
     "data": {
      "text/plain": [
       "'City of Arcata'"
      ]
     },
     "metadata": {},
     "output_type": "display_data"
    },
    {
     "data": {
      "text/plain": [
       "[{'Id': 336,\n",
       "  'ReportId': 1138,\n",
       "  'EquipmentName': 'Service Vehicle Ford Escape',\n",
       "  'EquipmentId': 275,\n",
       "  'VehicleType': 'Trucks and Other Rubber Tire Vehicles',\n",
       "  'PrimaryMode': 'MB - Bus',\n",
       "  'SecondaryMode': '',\n",
       "  'TotalVehicles': None,\n",
       "  'UsefulLifeBenchmark': False,\n",
       "  'YearOfManufacture': 2005,\n",
       "  'TransitAgencyCapitalResponsibility': '',\n",
       "  'EstimatedCost': None,\n",
       "  'YearDollarsEstimatedCost': None,\n",
       "  'UsefulLifeYearsBenchMark': None,\n",
       "  'UsefulLifeYearsRemaining': None,\n",
       "  'LastModifiedDate': '2024-10-29T21:07:27.03'},\n",
       " {'Id': 337,\n",
       "  'ReportId': 1138,\n",
       "  'EquipmentName': 'Service Vehicle Ford Fusion',\n",
       "  'EquipmentId': 276,\n",
       "  'VehicleType': 'Automobiles',\n",
       "  'PrimaryMode': 'MB - Bus',\n",
       "  'SecondaryMode': '',\n",
       "  'TotalVehicles': None,\n",
       "  'UsefulLifeBenchmark': False,\n",
       "  'YearOfManufacture': 2012,\n",
       "  'TransitAgencyCapitalResponsibility': '',\n",
       "  'EstimatedCost': None,\n",
       "  'YearDollarsEstimatedCost': None,\n",
       "  'UsefulLifeYearsBenchMark': None,\n",
       "  'UsefulLifeYearsRemaining': None,\n",
       "  'LastModifiedDate': '2024-10-29T21:07:27.093'},\n",
       " {'Id': 338,\n",
       "  'ReportId': 1138,\n",
       "  'EquipmentName': 'Service Vehicle Dodge Caravan',\n",
       "  'EquipmentId': 277,\n",
       "  'VehicleType': 'Trucks and Other Rubber Tire Vehicles',\n",
       "  'PrimaryMode': 'MB - Bus',\n",
       "  'SecondaryMode': '',\n",
       "  'TotalVehicles': None,\n",
       "  'UsefulLifeBenchmark': False,\n",
       "  'YearOfManufacture': 2014,\n",
       "  'TransitAgencyCapitalResponsibility': '',\n",
       "  'EstimatedCost': None,\n",
       "  'YearDollarsEstimatedCost': None,\n",
       "  'UsefulLifeYearsBenchMark': None,\n",
       "  'UsefulLifeYearsRemaining': None,\n",
       "  'LastModifiedDate': '2024-10-29T21:07:27.093'}]"
      ]
     },
     "metadata": {},
     "output_type": "display_data"
    }
   ],
   "source": [
    "# can i see org name and a35 data at the same time?\n",
    "display(\n",
    "    blob_2024[0][\"Organization\"],\n",
    "    blob_2024[0][\"NTDReportingA35\"][\"Data\"]\n",
    ")"
   ]
  },
  {
   "cell_type": "markdown",
   "id": "6227a3d6-0646-4ef3-9807-a1a9c62f0545",
   "metadata": {},
   "source": [
    "## List comprehension to get list of org name and a35 data"
   ]
  },
  {
   "cell_type": "code",
   "execution_count": 10,
   "id": "be146caf-8bc6-4ea8-b1fb-19e277238795",
   "metadata": {},
   "outputs": [],
   "source": [
    "# testing list comprehension to access org name and a35 data\n",
    "\n",
    "filtered_data = [\n",
    "    {\n",
    "        \"Organization\":i[\"Organization\"], \n",
    "        \"data\":i[\"NTDReportingA35\"][\"Data\"]\n",
    "    } for i in blob_2024\n",
    "]\n"
   ]
  },
  {
   "cell_type": "code",
   "execution_count": 97,
   "id": "fefaecca-9c50-4f5e-88ef-73b1a471eb30",
   "metadata": {},
   "outputs": [
    {
     "data": {
      "text/plain": [
       "86"
      ]
     },
     "metadata": {},
     "output_type": "display_data"
    },
    {
     "data": {
      "text/plain": [
       "3"
      ]
     },
     "metadata": {},
     "output_type": "display_data"
    },
    {
     "data": {
      "text/plain": [
       "'City of Arcata'"
      ]
     },
     "metadata": {},
     "output_type": "display_data"
    }
   ],
   "source": [
    "# checking len of list\n",
    "display(\n",
    "    len(filtered_data), # 86 orgs\n",
    "    len(filtered_data[0][\"data\"]), # 3 entries in org 0\n",
    "    filtered_data[0][\"Organization\"]\n",
    ")"
   ]
  },
  {
   "cell_type": "code",
   "execution_count": 89,
   "id": "c4ffb1a5-0b81-432c-9c0f-79c0825970d2",
   "metadata": {},
   "outputs": [
    {
     "data": {
      "text/plain": [
       "range(0, 86)"
      ]
     },
     "execution_count": 89,
     "metadata": {},
     "output_type": "execute_result"
    }
   ],
   "source": [
    "range(len(filtered_data))"
   ]
  },
  {
   "cell_type": "code",
   "execution_count": 113,
   "id": "c76d6409-9a9f-4e05-926e-727ec2fbb781",
   "metadata": {},
   "outputs": [
    {
     "name": "stdout",
     "output_type": "stream",
     "text": [
      "City of Arcata , 3\n",
      "Humboldt Transit Authority , 10\n",
      "Mendocino Transit Authority , 9\n",
      "Lassen Transit Service Agency , 1\n",
      "Colusa County Transit Agency , 2\n",
      "County of Nevada Public Works, Transit Services Division , 6\n",
      "San Benito County Local Transportation Authority , 1\n",
      "Fresno County Rural Transit Agency , 3\n",
      "Morongo Basin Transit Authority , 8\n",
      "Mountain Area Regional Transit Authority , 13\n",
      "City of Ridgecrest , 1\n",
      "Eastern Sierra Transit Authority , 9\n",
      "Amador Transit , 3\n",
      "Tuolumne County Transit Agency (TCTA) , 1\n",
      "County of Siskiyou , 5\n",
      "Trinity County Department of Transportation  , 1\n",
      "Tehama County Transit Agency , 1\n",
      "Calaveras Transit Agency  , 1\n",
      "Palo Verde Valley Transit Agency , 6\n"
     ]
    }
   ],
   "source": [
    "for i in range(len(filtered_data)):\n",
    "    if len(filtered_data[i][\"data\"])>0:\n",
    "        print(filtered_data[i][\"Organization\"],\",\", len(filtered_data[i][\"data\"])) # 19 agencies, \n",
    "\n",
    "# since this is a list, cant use regular pandas methods.\n",
    "# List of agencies with count of services vehicles greater than zero"
   ]
  },
  {
   "cell_type": "code",
   "execution_count": null,
   "id": "8caca7c5-3971-49e9-82cb-9eae6c42ad29",
   "metadata": {},
   "outputs": [],
   "source": [
    "for i in range(len(filtered_data)):\n",
    "    if filtered_data[i][\"data\"] is not None:\n",
    "        print(filtered_data[i][\"Organization\"],\",\", len(filtered_data[i][\"data\"]) )\n",
    "\n",
    "# List of agencies with count of services vehicles greater not Null"
   ]
  },
  {
   "cell_type": "markdown",
   "id": "01bd99d9-0991-48c9-8a4e-bba751f11891",
   "metadata": {},
   "source": [
    "## Test of using `pd.json_normalize`\n",
    "data = unserialiszed JSON object"
   ]
  },
  {
   "cell_type": "code",
   "execution_count": 82,
   "id": "11e8750e-385f-442b-bf02-a248d59515f4",
   "metadata": {},
   "outputs": [],
   "source": [
    "df_blob = pd.json_normalize(\n",
    "    blob_2024,\n",
    "    record_path = [\"NTDReportingA35\", \"Data\"],\n",
    "    meta=\"Organization\",\n",
    "    \n",
    ")"
   ]
  },
  {
   "cell_type": "code",
   "execution_count": 83,
   "id": "e14d0eda-bcfd-42d9-9a84-c0408cae44d0",
   "metadata": {},
   "outputs": [
    {
     "data": {
      "text/plain": [
       "84"
      ]
     },
     "metadata": {},
     "output_type": "display_data"
    },
    {
     "data": {
      "text/plain": [
       "pandas.core.frame.DataFrame"
      ]
     },
     "metadata": {},
     "output_type": "display_data"
    }
   ],
   "source": [
    "display(\n",
    "    len(df_blob),\n",
    "    type(df_blob)\n",
    ")"
   ]
  },
  {
   "cell_type": "code",
   "execution_count": 126,
   "id": "52ef2a75-1d3b-466a-b8eb-391ba10f3926",
   "metadata": {},
   "outputs": [
    {
     "name": "stdout",
     "output_type": "stream",
     "text": [
      "<class 'pandas.core.frame.DataFrame'>\n",
      "RangeIndex: 84 entries, 0 to 83\n",
      "Data columns (total 17 columns):\n",
      " #   Column                              Non-Null Count  Dtype  \n",
      "---  ------                              --------------  -----  \n",
      " 0   Id                                  84 non-null     int64  \n",
      " 1   ReportId                            84 non-null     int64  \n",
      " 2   EquipmentName                       84 non-null     object \n",
      " 3   EquipmentId                         84 non-null     int64  \n",
      " 4   VehicleType                         84 non-null     object \n",
      " 5   PrimaryMode                         78 non-null     object \n",
      " 6   SecondaryMode                       61 non-null     object \n",
      " 7   TotalVehicles                       17 non-null     float64\n",
      " 8   UsefulLifeBenchmark                 84 non-null     bool   \n",
      " 9   YearOfManufacture                   84 non-null     int64  \n",
      " 10  TransitAgencyCapitalResponsibility  68 non-null     object \n",
      " 11  EstimatedCost                       16 non-null     float64\n",
      " 12  YearDollarsEstimatedCost            7 non-null      float64\n",
      " 13  UsefulLifeYearsBenchMark            17 non-null     float64\n",
      " 14  UsefulLifeYearsRemaining            17 non-null     float64\n",
      " 15  LastModifiedDate                    84 non-null     object \n",
      " 16  Organization                        84 non-null     object \n",
      "dtypes: bool(1), float64(5), int64(4), object(7)\n",
      "memory usage: 10.7+ KB\n"
     ]
    },
    {
     "data": {
      "text/plain": [
       "None"
      ]
     },
     "metadata": {},
     "output_type": "display_data"
    },
    {
     "data": {
      "text/html": [
       "<div>\n",
       "<style scoped>\n",
       "    .dataframe tbody tr th:only-of-type {\n",
       "        vertical-align: middle;\n",
       "    }\n",
       "\n",
       "    .dataframe tbody tr th {\n",
       "        vertical-align: top;\n",
       "    }\n",
       "\n",
       "    .dataframe thead th {\n",
       "        text-align: right;\n",
       "    }\n",
       "</style>\n",
       "<table border=\"1\" class=\"dataframe\">\n",
       "  <thead>\n",
       "    <tr style=\"text-align: right;\">\n",
       "      <th></th>\n",
       "      <th>Id</th>\n",
       "      <th>ReportId</th>\n",
       "      <th>EquipmentId</th>\n",
       "      <th>TotalVehicles</th>\n",
       "      <th>YearOfManufacture</th>\n",
       "      <th>EstimatedCost</th>\n",
       "      <th>YearDollarsEstimatedCost</th>\n",
       "      <th>UsefulLifeYearsBenchMark</th>\n",
       "      <th>UsefulLifeYearsRemaining</th>\n",
       "    </tr>\n",
       "  </thead>\n",
       "  <tbody>\n",
       "    <tr>\n",
       "      <th>count</th>\n",
       "      <td>84.000000</td>\n",
       "      <td>84.000000</td>\n",
       "      <td>84.000000</td>\n",
       "      <td>17.000000</td>\n",
       "      <td>84.000000</td>\n",
       "      <td>16.000000</td>\n",
       "      <td>7.000000</td>\n",
       "      <td>17.000000</td>\n",
       "      <td>17.000000</td>\n",
       "    </tr>\n",
       "    <tr>\n",
       "      <th>mean</th>\n",
       "      <td>295.928571</td>\n",
       "      <td>1069.428571</td>\n",
       "      <td>191.666667</td>\n",
       "      <td>0.882353</td>\n",
       "      <td>2012.440476</td>\n",
       "      <td>42697.462500</td>\n",
       "      <td>2022.285714</td>\n",
       "      <td>9.941176</td>\n",
       "      <td>-0.176471</td>\n",
       "    </tr>\n",
       "    <tr>\n",
       "      <th>std</th>\n",
       "      <td>30.986505</td>\n",
       "      <td>42.913835</td>\n",
       "      <td>69.657913</td>\n",
       "      <td>0.485071</td>\n",
       "      <td>7.445143</td>\n",
       "      <td>26523.282861</td>\n",
       "      <td>0.755929</td>\n",
       "      <td>6.675240</td>\n",
       "      <td>4.952718</td>\n",
       "    </tr>\n",
       "    <tr>\n",
       "      <th>min</th>\n",
       "      <td>247.000000</td>\n",
       "      <td>1011.000000</td>\n",
       "      <td>67.000000</td>\n",
       "      <td>-1.000000</td>\n",
       "      <td>1988.000000</td>\n",
       "      <td>2500.000000</td>\n",
       "      <td>2022.000000</td>\n",
       "      <td>5.000000</td>\n",
       "      <td>-8.000000</td>\n",
       "    </tr>\n",
       "    <tr>\n",
       "      <th>25%</th>\n",
       "      <td>267.750000</td>\n",
       "      <td>1044.000000</td>\n",
       "      <td>129.000000</td>\n",
       "      <td>1.000000</td>\n",
       "      <td>2007.750000</td>\n",
       "      <td>34675.000000</td>\n",
       "      <td>2022.000000</td>\n",
       "      <td>5.000000</td>\n",
       "      <td>-4.000000</td>\n",
       "    </tr>\n",
       "    <tr>\n",
       "      <th>50%</th>\n",
       "      <td>295.500000</td>\n",
       "      <td>1054.000000</td>\n",
       "      <td>201.500000</td>\n",
       "      <td>1.000000</td>\n",
       "      <td>2013.000000</td>\n",
       "      <td>35000.000000</td>\n",
       "      <td>2022.000000</td>\n",
       "      <td>8.000000</td>\n",
       "      <td>0.000000</td>\n",
       "    </tr>\n",
       "    <tr>\n",
       "      <th>75%</th>\n",
       "      <td>327.250000</td>\n",
       "      <td>1109.500000</td>\n",
       "      <td>238.250000</td>\n",
       "      <td>1.000000</td>\n",
       "      <td>2018.000000</td>\n",
       "      <td>48384.500000</td>\n",
       "      <td>2022.000000</td>\n",
       "      <td>8.000000</td>\n",
       "      <td>1.000000</td>\n",
       "    </tr>\n",
       "    <tr>\n",
       "      <th>max</th>\n",
       "      <td>348.000000</td>\n",
       "      <td>1139.000000</td>\n",
       "      <td>303.000000</td>\n",
       "      <td>1.000000</td>\n",
       "      <td>2024.000000</td>\n",
       "      <td>120000.000000</td>\n",
       "      <td>2024.000000</td>\n",
       "      <td>27.000000</td>\n",
       "      <td>11.000000</td>\n",
       "    </tr>\n",
       "  </tbody>\n",
       "</table>\n",
       "</div>"
      ],
      "text/plain": [
       "               Id     ReportId  EquipmentId  TotalVehicles  YearOfManufacture  \\\n",
       "count   84.000000    84.000000    84.000000      17.000000          84.000000   \n",
       "mean   295.928571  1069.428571   191.666667       0.882353        2012.440476   \n",
       "std     30.986505    42.913835    69.657913       0.485071           7.445143   \n",
       "min    247.000000  1011.000000    67.000000      -1.000000        1988.000000   \n",
       "25%    267.750000  1044.000000   129.000000       1.000000        2007.750000   \n",
       "50%    295.500000  1054.000000   201.500000       1.000000        2013.000000   \n",
       "75%    327.250000  1109.500000   238.250000       1.000000        2018.000000   \n",
       "max    348.000000  1139.000000   303.000000       1.000000        2024.000000   \n",
       "\n",
       "       EstimatedCost  YearDollarsEstimatedCost  UsefulLifeYearsBenchMark  \\\n",
       "count      16.000000                  7.000000                 17.000000   \n",
       "mean    42697.462500               2022.285714                  9.941176   \n",
       "std     26523.282861                  0.755929                  6.675240   \n",
       "min      2500.000000               2022.000000                  5.000000   \n",
       "25%     34675.000000               2022.000000                  5.000000   \n",
       "50%     35000.000000               2022.000000                  8.000000   \n",
       "75%     48384.500000               2022.000000                  8.000000   \n",
       "max    120000.000000               2024.000000                 27.000000   \n",
       "\n",
       "       UsefulLifeYearsRemaining  \n",
       "count                 17.000000  \n",
       "mean                  -0.176471  \n",
       "std                    4.952718  \n",
       "min                   -8.000000  \n",
       "25%                   -4.000000  \n",
       "50%                    0.000000  \n",
       "75%                    1.000000  \n",
       "max                   11.000000  "
      ]
     },
     "metadata": {},
     "output_type": "display_data"
    }
   ],
   "source": [
    "display(\n",
    "    df_blob.info(),\n",
    "    df_blob.describe()\n",
    ")\n",
    "    "
   ]
  },
  {
   "cell_type": "code",
   "execution_count": 100,
   "id": "e0550c81-4f81-4fd5-8772-76eebfcaa98c",
   "metadata": {},
   "outputs": [
    {
     "data": {
      "text/plain": [
       "19"
      ]
     },
     "execution_count": 100,
     "metadata": {},
     "output_type": "execute_result"
    }
   ],
   "source": [
    "df_blob[\"Organization\"].nunique() # 19, same number of agencies in filtered_data list "
   ]
  },
  {
   "cell_type": "code",
   "execution_count": 120,
   "id": "fa163d8a-7001-44a9-b045-97c4733eb9fc",
   "metadata": {},
   "outputs": [
    {
     "data": {
      "text/plain": [
       "84"
      ]
     },
     "execution_count": 120,
     "metadata": {},
     "output_type": "execute_result"
    }
   ],
   "source": [
    "df_blob[\"EquipmentId\"].count() # 84 service vehicles in 19 agencies"
   ]
  },
  {
   "cell_type": "markdown",
   "id": "7bf240b0-b910-4e19-a9a1-a157a6a6c8e4",
   "metadata": {},
   "source": [
    "## Querying `fct_vehicles_type_count_by_agency`\n",
    "\n",
    "has a column called `total_service_vehicles`"
   ]
  },
  {
   "cell_type": "code",
   "execution_count": 121,
   "id": "3bdfdd0c-0430-4639-9986-08357cf05c66",
   "metadata": {},
   "outputs": [],
   "source": [
    "from calitp_data_analysis.tables import tbls\n",
    "from siuba import _, filter, count, collect, show_query\n"
   ]
  },
  {
   "cell_type": "code",
   "execution_count": 143,
   "id": "3ac43eef-f347-4ddf-ad06-fb4c0b6f690e",
   "metadata": {},
   "outputs": [],
   "source": [
    "keep_cols=[\n",
    "    \"ntd_id\",\n",
    "    \"agency\",\n",
    "    \"city\",\n",
    "    \"organization_type\",\n",
    "    \"reporter_type\",\n",
    "    \"agency_voms\",\n",
    "    \"total_revenue_vehicles\",\n",
    "    \"total_service_vehicles\"\n",
    "]\n",
    "\n",
    "test = (\n",
    "    tbls.mart_ntd_annual_reporting.fct_vehicles_type_count_by_agency()\n",
    "    >> filter(\n",
    "        _.state == 'CA',\n",
    "        _.report_year == 2023\n",
    "    )\n",
    "    >> collect()\n",
    ")[keep_cols]\n"
   ]
  },
  {
   "cell_type": "code",
   "execution_count": 144,
   "id": "36b0282f-3e4e-4d7f-ac4b-eb36b5afa6d5",
   "metadata": {},
   "outputs": [
    {
     "name": "stdout",
     "output_type": "stream",
     "text": [
      "<class 'pandas.core.frame.DataFrame'>\n",
      "RangeIndex: 225 entries, 0 to 224\n",
      "Data columns (total 8 columns):\n",
      " #   Column                  Non-Null Count  Dtype  \n",
      "---  ------                  --------------  -----  \n",
      " 0   ntd_id                  225 non-null    object \n",
      " 1   agency                  225 non-null    object \n",
      " 2   city                    224 non-null    object \n",
      " 3   organization_type       225 non-null    object \n",
      " 4   reporter_type           225 non-null    object \n",
      " 5   agency_voms             225 non-null    float64\n",
      " 6   total_revenue_vehicles  225 non-null    float64\n",
      " 7   total_service_vehicles  225 non-null    float64\n",
      "dtypes: float64(3), object(5)\n",
      "memory usage: 14.2+ KB\n"
     ]
    }
   ],
   "source": [
    "test.info()"
   ]
  },
  {
   "cell_type": "code",
   "execution_count": 145,
   "id": "decb9bd6-5901-47bc-8a0e-ed0a83232594",
   "metadata": {},
   "outputs": [
    {
     "data": {
      "text/html": [
       "<div>\n",
       "<style scoped>\n",
       "    .dataframe tbody tr th:only-of-type {\n",
       "        vertical-align: middle;\n",
       "    }\n",
       "\n",
       "    .dataframe tbody tr th {\n",
       "        vertical-align: top;\n",
       "    }\n",
       "\n",
       "    .dataframe thead th {\n",
       "        text-align: right;\n",
       "    }\n",
       "</style>\n",
       "<table border=\"1\" class=\"dataframe\">\n",
       "  <thead>\n",
       "    <tr style=\"text-align: right;\">\n",
       "      <th></th>\n",
       "      <th>agency_voms</th>\n",
       "      <th>total_revenue_vehicles</th>\n",
       "      <th>total_service_vehicles</th>\n",
       "    </tr>\n",
       "  </thead>\n",
       "  <tbody>\n",
       "    <tr>\n",
       "      <th>count</th>\n",
       "      <td>225.000000</td>\n",
       "      <td>225.000000</td>\n",
       "      <td>225.000000</td>\n",
       "    </tr>\n",
       "    <tr>\n",
       "      <th>mean</th>\n",
       "      <td>74.408889</td>\n",
       "      <td>106.217778</td>\n",
       "      <td>23.680000</td>\n",
       "    </tr>\n",
       "    <tr>\n",
       "      <th>std</th>\n",
       "      <td>228.011262</td>\n",
       "      <td>335.632827</td>\n",
       "      <td>119.112585</td>\n",
       "    </tr>\n",
       "    <tr>\n",
       "      <th>min</th>\n",
       "      <td>0.000000</td>\n",
       "      <td>0.000000</td>\n",
       "      <td>0.000000</td>\n",
       "    </tr>\n",
       "    <tr>\n",
       "      <th>25%</th>\n",
       "      <td>4.000000</td>\n",
       "      <td>7.000000</td>\n",
       "      <td>0.000000</td>\n",
       "    </tr>\n",
       "    <tr>\n",
       "      <th>50%</th>\n",
       "      <td>13.000000</td>\n",
       "      <td>19.000000</td>\n",
       "      <td>0.000000</td>\n",
       "    </tr>\n",
       "    <tr>\n",
       "      <th>75%</th>\n",
       "      <td>40.000000</td>\n",
       "      <td>60.000000</td>\n",
       "      <td>7.000000</td>\n",
       "    </tr>\n",
       "    <tr>\n",
       "      <th>max</th>\n",
       "      <td>2651.000000</td>\n",
       "      <td>4060.000000</td>\n",
       "      <td>1498.000000</td>\n",
       "    </tr>\n",
       "  </tbody>\n",
       "</table>\n",
       "</div>"
      ],
      "text/plain": [
       "       agency_voms  total_revenue_vehicles  total_service_vehicles\n",
       "count   225.000000              225.000000              225.000000\n",
       "mean     74.408889              106.217778               23.680000\n",
       "std     228.011262              335.632827              119.112585\n",
       "min       0.000000                0.000000                0.000000\n",
       "25%       4.000000                7.000000                0.000000\n",
       "50%      13.000000               19.000000                0.000000\n",
       "75%      40.000000               60.000000                7.000000\n",
       "max    2651.000000             4060.000000             1498.000000"
      ]
     },
     "execution_count": 145,
     "metadata": {},
     "output_type": "execute_result"
    }
   ],
   "source": [
    "test.describe()"
   ]
  },
  {
   "cell_type": "code",
   "execution_count": 146,
   "id": "9dcabd75-38c0-4e77-93b7-6694f8686fb0",
   "metadata": {},
   "outputs": [
    {
     "data": {
      "text/html": [
       "<div>\n",
       "<style scoped>\n",
       "    .dataframe tbody tr th:only-of-type {\n",
       "        vertical-align: middle;\n",
       "    }\n",
       "\n",
       "    .dataframe tbody tr th {\n",
       "        vertical-align: top;\n",
       "    }\n",
       "\n",
       "    .dataframe thead th {\n",
       "        text-align: right;\n",
       "    }\n",
       "</style>\n",
       "<table border=\"1\" class=\"dataframe\">\n",
       "  <thead>\n",
       "    <tr style=\"text-align: right;\">\n",
       "      <th></th>\n",
       "      <th>ntd_id</th>\n",
       "      <th>agency</th>\n",
       "      <th>city</th>\n",
       "      <th>organization_type</th>\n",
       "      <th>reporter_type</th>\n",
       "      <th>agency_voms</th>\n",
       "      <th>total_revenue_vehicles</th>\n",
       "      <th>total_service_vehicles</th>\n",
       "    </tr>\n",
       "  </thead>\n",
       "  <tbody>\n",
       "    <tr>\n",
       "      <th>0</th>\n",
       "      <td>90003</td>\n",
       "      <td>San Francisco Bay Area Rapid Transit District, dba: SF BART</td>\n",
       "      <td>Oakland</td>\n",
       "      <td>Independent Public Agency or Authority of Transit Service</td>\n",
       "      <td>Full Reporter</td>\n",
       "      <td>582.0</td>\n",
       "      <td>846.0</td>\n",
       "      <td>660.0</td>\n",
       "    </tr>\n",
       "    <tr>\n",
       "      <th>1</th>\n",
       "      <td>90004</td>\n",
       "      <td>Golden Empire Transit District</td>\n",
       "      <td>Bakersfield</td>\n",
       "      <td>Independent Public Agency or Authority of Transit Service</td>\n",
       "      <td>Full Reporter</td>\n",
       "      <td>89.0</td>\n",
       "      <td>137.0</td>\n",
       "      <td>26.0</td>\n",
       "    </tr>\n",
       "    <tr>\n",
       "      <th>2</th>\n",
       "      <td>90006</td>\n",
       "      <td>Santa Cruz Metropolitan Transit District</td>\n",
       "      <td>Santa Cruz</td>\n",
       "      <td>Independent Public Agency or Authority of Transit Service</td>\n",
       "      <td>Full Reporter</td>\n",
       "      <td>93.0</td>\n",
       "      <td>125.0</td>\n",
       "      <td>41.0</td>\n",
       "    </tr>\n",
       "    <tr>\n",
       "      <th>3</th>\n",
       "      <td>90008</td>\n",
       "      <td>City of Santa Monica, dba: Big Blue Bus</td>\n",
       "      <td>Santa Monica</td>\n",
       "      <td>City, County or Local Government Unit or Department of Transportation</td>\n",
       "      <td>Full Reporter</td>\n",
       "      <td>143.0</td>\n",
       "      <td>221.0</td>\n",
       "      <td>20.0</td>\n",
       "    </tr>\n",
       "    <tr>\n",
       "      <th>4</th>\n",
       "      <td>90009</td>\n",
       "      <td>San Mateo County Transit District, dba: SamTrans</td>\n",
       "      <td>San Carlos</td>\n",
       "      <td>Independent Public Agency or Authority of Transit Service</td>\n",
       "      <td>Full Reporter</td>\n",
       "      <td>331.0</td>\n",
       "      <td>434.0</td>\n",
       "      <td>78.0</td>\n",
       "    </tr>\n",
       "  </tbody>\n",
       "</table>\n",
       "</div>"
      ],
      "text/plain": [
       "  ntd_id                                                       agency  \\\n",
       "0  90003  San Francisco Bay Area Rapid Transit District, dba: SF BART   \n",
       "1  90004                               Golden Empire Transit District   \n",
       "2  90006                     Santa Cruz Metropolitan Transit District   \n",
       "3  90008                      City of Santa Monica, dba: Big Blue Bus   \n",
       "4  90009             San Mateo County Transit District, dba: SamTrans   \n",
       "\n",
       "           city  \\\n",
       "0       Oakland   \n",
       "1   Bakersfield   \n",
       "2    Santa Cruz   \n",
       "3  Santa Monica   \n",
       "4    San Carlos   \n",
       "\n",
       "                                                       organization_type  \\\n",
       "0              Independent Public Agency or Authority of Transit Service   \n",
       "1              Independent Public Agency or Authority of Transit Service   \n",
       "2              Independent Public Agency or Authority of Transit Service   \n",
       "3  City, County or Local Government Unit or Department of Transportation   \n",
       "4              Independent Public Agency or Authority of Transit Service   \n",
       "\n",
       "   reporter_type  agency_voms  total_revenue_vehicles  total_service_vehicles  \n",
       "0  Full Reporter        582.0                   846.0                   660.0  \n",
       "1  Full Reporter         89.0                   137.0                    26.0  \n",
       "2  Full Reporter         93.0                   125.0                    41.0  \n",
       "3  Full Reporter        143.0                   221.0                    20.0  \n",
       "4  Full Reporter        331.0                   434.0                    78.0  "
      ]
     },
     "execution_count": 146,
     "metadata": {},
     "output_type": "execute_result"
    }
   ],
   "source": [
    "test.head()"
   ]
  },
  {
   "cell_type": "code",
   "execution_count": 155,
   "id": "d438331b-a7f5-440c-92d7-2f5eb9bc3423",
   "metadata": {},
   "outputs": [
    {
     "data": {
      "text/html": [
       "<div>\n",
       "<style scoped>\n",
       "    .dataframe tbody tr th:only-of-type {\n",
       "        vertical-align: middle;\n",
       "    }\n",
       "\n",
       "    .dataframe tbody tr th {\n",
       "        vertical-align: top;\n",
       "    }\n",
       "\n",
       "    .dataframe thead th {\n",
       "        text-align: right;\n",
       "    }\n",
       "</style>\n",
       "<table border=\"1\" class=\"dataframe\">\n",
       "  <thead>\n",
       "    <tr style=\"text-align: right;\">\n",
       "      <th></th>\n",
       "      <th>ntd_id</th>\n",
       "      <th>agency</th>\n",
       "      <th>city</th>\n",
       "      <th>organization_type</th>\n",
       "      <th>reporter_type</th>\n",
       "      <th>agency_voms</th>\n",
       "      <th>total_revenue_vehicles</th>\n",
       "      <th>total_service_vehicles</th>\n",
       "    </tr>\n",
       "  </thead>\n",
       "  <tbody>\n",
       "    <tr>\n",
       "      <th>55</th>\n",
       "      <td>90154</td>\n",
       "      <td>Los Angeles County Metropolitan Transportation Authority , dba: Metro</td>\n",
       "      <td>Los Angeles</td>\n",
       "      <td>Independent Public Agency or Authority of Transit Service</td>\n",
       "      <td>Full Reporter</td>\n",
       "      <td>2651.0</td>\n",
       "      <td>4060.0</td>\n",
       "      <td>1498.0</td>\n",
       "    </tr>\n",
       "    <tr>\n",
       "      <th>0</th>\n",
       "      <td>90003</td>\n",
       "      <td>San Francisco Bay Area Rapid Transit District, dba: SF BART</td>\n",
       "      <td>Oakland</td>\n",
       "      <td>Independent Public Agency or Authority of Transit Service</td>\n",
       "      <td>Full Reporter</td>\n",
       "      <td>582.0</td>\n",
       "      <td>846.0</td>\n",
       "      <td>660.0</td>\n",
       "    </tr>\n",
       "    <tr>\n",
       "      <th>9</th>\n",
       "      <td>90015</td>\n",
       "      <td>City and County of San Francisco, dba: San Francisco Municipal Transportation Agency</td>\n",
       "      <td>San Francisco</td>\n",
       "      <td>City, County or Local Government Unit or Department of Transportation</td>\n",
       "      <td>Full Reporter</td>\n",
       "      <td>774.0</td>\n",
       "      <td>1295.0</td>\n",
       "      <td>544.0</td>\n",
       "    </tr>\n",
       "    <tr>\n",
       "      <th>7</th>\n",
       "      <td>90013</td>\n",
       "      <td>Santa Clara Valley Transportation Authority, dba: Valley Transportation Authority</td>\n",
       "      <td>San Jose</td>\n",
       "      <td>Independent Public Agency or Authority of Transit Service</td>\n",
       "      <td>Full Reporter</td>\n",
       "      <td>512.0</td>\n",
       "      <td>737.0</td>\n",
       "      <td>356.0</td>\n",
       "    </tr>\n",
       "    <tr>\n",
       "      <th>12</th>\n",
       "      <td>90019</td>\n",
       "      <td>Sacramento Regional Transit District, dba: Sacramento RT</td>\n",
       "      <td>Sacramento</td>\n",
       "      <td>Independent Public Agency or Authority of Transit Service</td>\n",
       "      <td>Full Reporter</td>\n",
       "      <td>374.0</td>\n",
       "      <td>494.0</td>\n",
       "      <td>207.0</td>\n",
       "    </tr>\n",
       "  </tbody>\n",
       "</table>\n",
       "</div>"
      ],
      "text/plain": [
       "   ntd_id  \\\n",
       "55  90154   \n",
       "0   90003   \n",
       "9   90015   \n",
       "7   90013   \n",
       "12  90019   \n",
       "\n",
       "                                                                                  agency  \\\n",
       "55                 Los Angeles County Metropolitan Transportation Authority , dba: Metro   \n",
       "0                            San Francisco Bay Area Rapid Transit District, dba: SF BART   \n",
       "9   City and County of San Francisco, dba: San Francisco Municipal Transportation Agency   \n",
       "7      Santa Clara Valley Transportation Authority, dba: Valley Transportation Authority   \n",
       "12                              Sacramento Regional Transit District, dba: Sacramento RT   \n",
       "\n",
       "             city  \\\n",
       "55    Los Angeles   \n",
       "0         Oakland   \n",
       "9   San Francisco   \n",
       "7        San Jose   \n",
       "12     Sacramento   \n",
       "\n",
       "                                                        organization_type  \\\n",
       "55              Independent Public Agency or Authority of Transit Service   \n",
       "0               Independent Public Agency or Authority of Transit Service   \n",
       "9   City, County or Local Government Unit or Department of Transportation   \n",
       "7               Independent Public Agency or Authority of Transit Service   \n",
       "12              Independent Public Agency or Authority of Transit Service   \n",
       "\n",
       "    reporter_type  agency_voms  total_revenue_vehicles  total_service_vehicles  \n",
       "55  Full Reporter       2651.0                  4060.0                  1498.0  \n",
       "0   Full Reporter        582.0                   846.0                   660.0  \n",
       "9   Full Reporter        774.0                  1295.0                   544.0  \n",
       "7   Full Reporter        512.0                   737.0                   356.0  \n",
       "12  Full Reporter        374.0                   494.0                   207.0  "
      ]
     },
     "execution_count": 155,
     "metadata": {},
     "output_type": "execute_result"
    }
   ],
   "source": [
    "test.sort_values(by=\"total_service_vehicles\", ascending=False).head()"
   ]
  },
  {
   "cell_type": "code",
   "execution_count": 158,
   "id": "192656f8-e73a-4afd-830c-643780e98cd2",
   "metadata": {},
   "outputs": [
    {
     "data": {
      "text/plain": [
       "<AxesSubplot:xlabel='agency'>"
      ]
     },
     "execution_count": 158,
     "metadata": {},
     "output_type": "execute_result"
    },
    {
     "data": {
      "image/png": "[encoded data removed]",
      "text/plain": [
       "<Figure size 640x480 with 1 Axes>"
      ]
     },
     "metadata": {},
     "output_type": "display_data"
    }
   ],
   "source": [
    "test.sort_values(by=\"total_service_vehicles\", ascending=False)[:20].plot(\n",
    "    x = \"agency\",\n",
    "    y = [\"total_revenue_vehicles\",\"total_service_vehicles\"],\n",
    "    kind = \"bar\",\n",
    "    #ylim=(0,2000)\n",
    ")"
   ]
  },
  {
   "cell_type": "code",
   "execution_count": null,
   "id": "f692ff67-365c-4b4d-a336-9f90636aae31",
   "metadata": {},
   "outputs": [],
   "source": []
  }
 ],
 "metadata": {
  "kernelspec": {
   "display_name": "Python 3 (ipykernel)",
   "language": "python",
   "name": "python3"
  },
  "language_info": {
   "codemirror_mode": {
    "name": "ipython",
    "version": 3
   },
   "file_extension": ".py",
   "mimetype": "text/x-python",
   "name": "python",
   "nbconvert_exporter": "python",
   "pygments_lexer": "ipython3",
   "version": "3.9.13"
  }
 },
 "nbformat": 4,
 "nbformat_minor": 5
}
