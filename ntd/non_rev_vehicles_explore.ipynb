{
 "cells": [
  {
   "cell_type": "markdown",
   "id": "7d3670e4-e693-4b88-9e00-3f258c2cac32",
   "metadata": {},
   "source": [
    "# Research Request - Non-Revenue Vehicle Fleet Sizes #1236\n",
    "\n",
    "How many non-revenue vehicles do transit agencies have. \n",
    "\n",
    "Also known as \"service vehicles\", Non-revenue vehicle data are excluded from UPT, VRM, VRH reports (since these NRV are not meant to carry passengers or make revenue).\n",
    "\n",
    "NRVs are like support vehicles used to maintain transit operations (service/maintenance vehicles, other support.\n",
    "\n",
    "Service Vehicle Inventory (Form A-35): \"Transit agencies are required to report data on service vehicles, or vehicles which do not carry passengers.\n"
   ]
  },
  {
   "cell_type": "code",
   "execution_count": 1,
   "id": "9f246b2c-0cc7-4742-98fc-cafb1cf093e6",
   "metadata": {},
   "outputs": [],
   "source": [
    "import requests\n",
    "import json\n",
    "import pandas as pd\n",
    "import numpy as np\n",
    "import altair as alt\n",
    "\n",
    "from calitp_data_analysis.tables import tbls\n",
    "from siuba import _, filter, count, collect, show_query\n",
    "from scipy.stats import zscore # find any outliers in the data \n",
    "from shared_utils import schedule_rt_utils\n",
    "\n",
    "pd.set_option('display.max_columns', None)\n",
    "pd.set_option('display.max_rows', None) \n",
    "pd.set_option('display.max_colwidth', None)\n",
    "\n",
    "GCS_PATH = \"gs://calitp-analytics-data/data-analyses/ntd/\""
   ]
  },
  {
   "cell_type": "code",
   "execution_count": 2,
   "id": "a8b74962-77ea-451d-834b-4c8063c41ffb",
   "metadata": {},
   "outputs": [
    {
     "name": "stdout",
     "output_type": "stream",
     "text": [
      "<Response [200]>\n"
     ]
    },
    {
     "data": {
      "text/plain": [
       "list"
      ]
     },
     "metadata": {},
     "output_type": "display_data"
    },
    {
     "data": {
      "text/plain": [
       "86"
      ]
     },
     "metadata": {},
     "output_type": "display_data"
    }
   ],
   "source": [
    "# ping blackcat api to get 2024 blackcat data\n",
    "api_2024 = \"https://services.blackcattransit.com/api/APIModules/GetNTDReportsByYear/BCG_CA/2024\"\n",
    "\n",
    "response = requests.get(api_2024)\n",
    "\n",
    "print(response) #got 200\n",
    "\n",
    "# parse JSON\n",
    "blob_2024 = response.json()\n",
    "\n",
    "display(\n",
    "    type(blob_2024),\n",
    "    len(blob_2024)\n",
    ")"
   ]
  },
  {
   "cell_type": "markdown",
   "id": "8c30a287-a99f-4e34-820d-5e12f2aecee2",
   "metadata": {
    "jp-MarkdownHeadingCollapsed": true,
    "tags": []
   },
   "source": [
    "## Exploring the blob JSON\n",
    "\n",
    "[ ] = arrays. use index position (0,1,2) to accesss the different elements in the array\n"
   ]
  },
  {
   "cell_type": "markdown",
   "id": "da005e86-6024-4638-9fbb-c2c03b5e92b2",
   "metadata": {},
   "source": [
    "### Ultimate goal\n",
    " get a dataframe of organization name and A35 data"
   ]
  },
  {
   "cell_type": "code",
   "execution_count": 3,
   "id": "06be1bfc-ac48-4375-a519-818f2e5774cc",
   "metadata": {},
   "outputs": [],
   "source": [
    "#blob_2024[\"Id\"] this doesnt work, need to start by serching with ints"
   ]
  },
  {
   "cell_type": "code",
   "execution_count": 4,
   "id": "ec7d93c5-e165-4da1-b3cf-21852adf1e47",
   "metadata": {},
   "outputs": [],
   "source": [
    "#blob_2024[0] # using int will return an agency's entire submission, keep this off for now since its long\n",
    "\n"
   ]
  },
  {
   "cell_type": "markdown",
   "id": "b36db3ef-e143-409f-a3d3-e5a97364c379",
   "metadata": {},
   "source": [
    "JSON structure looks like this tho\n",
    "\n",
    "starts with a list of dictionaries\n",
    "access list with int, \n",
    "access dictionary using key value\n",
    "\n",
    "can have nesested dictionaries (dictionaries within dictionaries)\n",
    "can have list of dictionaires\n",
    "\n",
    "```\n",
    "[{'ReportId': 1138,\n",
    " 'Organization': 'City of Arcata',\n",
    " 'ReportPeriod': '2024',\n",
    " 'ReportStatus': 'Submitted',\n",
    " 'ReportLastModifiedDate': '10/29/2024 1:57:17 PM',\n",
    " 'NTDReportingStationsAndMaintenance': {'Data': [{'Id': 536,...\n",
    " ,\n",
    " 'NTDTransitAssetManagementA15': {'Data':...\n",
    "```"
   ]
  },
  {
   "cell_type": "code",
   "execution_count": 5,
   "id": "aac98ae5-a8eb-4309-852d-8550a08d0a0f",
   "metadata": {},
   "outputs": [
    {
     "data": {
      "text/plain": [
       "'City of Arcata'"
      ]
     },
     "metadata": {},
     "output_type": "display_data"
    },
    {
     "data": {
      "text/plain": [
       "'City of Guadalupe'"
      ]
     },
     "metadata": {},
     "output_type": "display_data"
    }
   ],
   "source": [
    "# access organiztion name\n",
    "# first org is \"City of Arcata\"\n",
    "\n",
    "display(\n",
    "    blob_2024[0][\"Organization\"],\n",
    "    blob_2024[30][\"Organization\"]\n",
    ")\n",
    "# this is how you access each org in the blob\n",
    "# blob[0] is City of Arcata"
   ]
  },
  {
   "cell_type": "code",
   "execution_count": 6,
   "id": "5616088c-4d27-4cbe-ba72-924f451fbf1a",
   "metadata": {},
   "outputs": [
    {
     "data": {
      "text/plain": [
       "{'Data': [{'Id': 336,\n",
       "   'ReportId': 1138,\n",
       "   'EquipmentName': 'Service Vehicle Ford Escape',\n",
       "   'EquipmentId': 275,\n",
       "   'VehicleType': 'Trucks and Other Rubber Tire Vehicles',\n",
       "   'PrimaryMode': 'MB - Bus',\n",
       "   'SecondaryMode': '',\n",
       "   'TotalVehicles': None,\n",
       "   'UsefulLifeBenchmark': False,\n",
       "   'YearOfManufacture': 2005,\n",
       "   'TransitAgencyCapitalResponsibility': '',\n",
       "   'EstimatedCost': None,\n",
       "   'YearDollarsEstimatedCost': None,\n",
       "   'UsefulLifeYearsBenchMark': None,\n",
       "   'UsefulLifeYearsRemaining': None,\n",
       "   'LastModifiedDate': '2024-10-29T21:07:27.03'},\n",
       "  {'Id': 337,\n",
       "   'ReportId': 1138,\n",
       "   'EquipmentName': 'Service Vehicle Ford Fusion',\n",
       "   'EquipmentId': 276,\n",
       "   'VehicleType': 'Automobiles',\n",
       "   'PrimaryMode': 'MB - Bus',\n",
       "   'SecondaryMode': '',\n",
       "   'TotalVehicles': None,\n",
       "   'UsefulLifeBenchmark': False,\n",
       "   'YearOfManufacture': 2012,\n",
       "   'TransitAgencyCapitalResponsibility': '',\n",
       "   'EstimatedCost': None,\n",
       "   'YearDollarsEstimatedCost': None,\n",
       "   'UsefulLifeYearsBenchMark': None,\n",
       "   'UsefulLifeYearsRemaining': None,\n",
       "   'LastModifiedDate': '2024-10-29T21:07:27.093'},\n",
       "  {'Id': 338,\n",
       "   'ReportId': 1138,\n",
       "   'EquipmentName': 'Service Vehicle Dodge Caravan',\n",
       "   'EquipmentId': 277,\n",
       "   'VehicleType': 'Trucks and Other Rubber Tire Vehicles',\n",
       "   'PrimaryMode': 'MB - Bus',\n",
       "   'SecondaryMode': '',\n",
       "   'TotalVehicles': None,\n",
       "   'UsefulLifeBenchmark': False,\n",
       "   'YearOfManufacture': 2014,\n",
       "   'TransitAgencyCapitalResponsibility': '',\n",
       "   'EstimatedCost': None,\n",
       "   'YearDollarsEstimatedCost': None,\n",
       "   'UsefulLifeYearsBenchMark': None,\n",
       "   'UsefulLifeYearsRemaining': None,\n",
       "   'LastModifiedDate': '2024-10-29T21:07:27.093'}]}"
      ]
     },
     "execution_count": 6,
     "metadata": {},
     "output_type": "execute_result"
    }
   ],
   "source": [
    "# access NTDReportingA35\n",
    "blob_2024[0][\"NTDReportingA35\"]\n",
    "# what the A35 looks like for Arcata"
   ]
  },
  {
   "cell_type": "code",
   "execution_count": 7,
   "id": "52f55edb-aab1-4e75-9675-7cfb00880cd5",
   "metadata": {},
   "outputs": [
    {
     "name": "stdout",
     "output_type": "stream",
     "text": [
      "3\n"
     ]
    },
    {
     "data": {
      "text/plain": [
       "[{'Id': 336,\n",
       "  'ReportId': 1138,\n",
       "  'EquipmentName': 'Service Vehicle Ford Escape',\n",
       "  'EquipmentId': 275,\n",
       "  'VehicleType': 'Trucks and Other Rubber Tire Vehicles',\n",
       "  'PrimaryMode': 'MB - Bus',\n",
       "  'SecondaryMode': '',\n",
       "  'TotalVehicles': None,\n",
       "  'UsefulLifeBenchmark': False,\n",
       "  'YearOfManufacture': 2005,\n",
       "  'TransitAgencyCapitalResponsibility': '',\n",
       "  'EstimatedCost': None,\n",
       "  'YearDollarsEstimatedCost': None,\n",
       "  'UsefulLifeYearsBenchMark': None,\n",
       "  'UsefulLifeYearsRemaining': None,\n",
       "  'LastModifiedDate': '2024-10-29T21:07:27.03'},\n",
       " {'Id': 337,\n",
       "  'ReportId': 1138,\n",
       "  'EquipmentName': 'Service Vehicle Ford Fusion',\n",
       "  'EquipmentId': 276,\n",
       "  'VehicleType': 'Automobiles',\n",
       "  'PrimaryMode': 'MB - Bus',\n",
       "  'SecondaryMode': '',\n",
       "  'TotalVehicles': None,\n",
       "  'UsefulLifeBenchmark': False,\n",
       "  'YearOfManufacture': 2012,\n",
       "  'TransitAgencyCapitalResponsibility': '',\n",
       "  'EstimatedCost': None,\n",
       "  'YearDollarsEstimatedCost': None,\n",
       "  'UsefulLifeYearsBenchMark': None,\n",
       "  'UsefulLifeYearsRemaining': None,\n",
       "  'LastModifiedDate': '2024-10-29T21:07:27.093'},\n",
       " {'Id': 338,\n",
       "  'ReportId': 1138,\n",
       "  'EquipmentName': 'Service Vehicle Dodge Caravan',\n",
       "  'EquipmentId': 277,\n",
       "  'VehicleType': 'Trucks and Other Rubber Tire Vehicles',\n",
       "  'PrimaryMode': 'MB - Bus',\n",
       "  'SecondaryMode': '',\n",
       "  'TotalVehicles': None,\n",
       "  'UsefulLifeBenchmark': False,\n",
       "  'YearOfManufacture': 2014,\n",
       "  'TransitAgencyCapitalResponsibility': '',\n",
       "  'EstimatedCost': None,\n",
       "  'YearDollarsEstimatedCost': None,\n",
       "  'UsefulLifeYearsBenchMark': None,\n",
       "  'UsefulLifeYearsRemaining': None,\n",
       "  'LastModifiedDate': '2024-10-29T21:07:27.093'}]"
      ]
     },
     "execution_count": 7,
     "metadata": {},
     "output_type": "execute_result"
    }
   ],
   "source": [
    "# accessing data portion in A35\n",
    "print(len(blob_2024[0][\"NTDReportingA35\"][\"Data\"]))\n",
    "\n",
    "blob_2024[0][\"NTDReportingA35\"][\"Data\"]"
   ]
  },
  {
   "cell_type": "code",
   "execution_count": 8,
   "id": "06591c65-bcf3-4d33-8c0e-27575d095ec2",
   "metadata": {},
   "outputs": [
    {
     "data": {
      "text/plain": [
       "{'Id': 336,\n",
       " 'ReportId': 1138,\n",
       " 'EquipmentName': 'Service Vehicle Ford Escape',\n",
       " 'EquipmentId': 275,\n",
       " 'VehicleType': 'Trucks and Other Rubber Tire Vehicles',\n",
       " 'PrimaryMode': 'MB - Bus',\n",
       " 'SecondaryMode': '',\n",
       " 'TotalVehicles': None,\n",
       " 'UsefulLifeBenchmark': False,\n",
       " 'YearOfManufacture': 2005,\n",
       " 'TransitAgencyCapitalResponsibility': '',\n",
       " 'EstimatedCost': None,\n",
       " 'YearDollarsEstimatedCost': None,\n",
       " 'UsefulLifeYearsBenchMark': None,\n",
       " 'UsefulLifeYearsRemaining': None,\n",
       " 'LastModifiedDate': '2024-10-29T21:07:27.03'}"
      ]
     },
     "execution_count": 8,
     "metadata": {},
     "output_type": "execute_result"
    }
   ],
   "source": [
    "# accessing 1st entry in a35 data for Arcata\n",
    "\n",
    "blob_2024[0][\"NTDReportingA35\"][\"Data\"][0]"
   ]
  },
  {
   "cell_type": "code",
   "execution_count": 9,
   "id": "ec77bf00-55ad-4214-9355-3b80b222a1e1",
   "metadata": {},
   "outputs": [
    {
     "data": {
      "text/plain": [
       "'Service Vehicle Ford Escape'"
      ]
     },
     "execution_count": 9,
     "metadata": {},
     "output_type": "execute_result"
    }
   ],
   "source": [
    "# accessing speficif field, equipment name, from the first entry in a35 data for Arcata\n",
    "\n",
    "blob_2024[0][\"NTDReportingA35\"][\"Data\"][0][\"EquipmentName\"]"
   ]
  },
  {
   "cell_type": "code",
   "execution_count": 10,
   "id": "b8e3ca04-0e42-40f7-ac9f-479c7a20732d",
   "metadata": {},
   "outputs": [
    {
     "data": {
      "text/plain": [
       "'City of Arcata'"
      ]
     },
     "metadata": {},
     "output_type": "display_data"
    },
    {
     "data": {
      "text/plain": [
       "[{'Id': 336,\n",
       "  'ReportId': 1138,\n",
       "  'EquipmentName': 'Service Vehicle Ford Escape',\n",
       "  'EquipmentId': 275,\n",
       "  'VehicleType': 'Trucks and Other Rubber Tire Vehicles',\n",
       "  'PrimaryMode': 'MB - Bus',\n",
       "  'SecondaryMode': '',\n",
       "  'TotalVehicles': None,\n",
       "  'UsefulLifeBenchmark': False,\n",
       "  'YearOfManufacture': 2005,\n",
       "  'TransitAgencyCapitalResponsibility': '',\n",
       "  'EstimatedCost': None,\n",
       "  'YearDollarsEstimatedCost': None,\n",
       "  'UsefulLifeYearsBenchMark': None,\n",
       "  'UsefulLifeYearsRemaining': None,\n",
       "  'LastModifiedDate': '2024-10-29T21:07:27.03'},\n",
       " {'Id': 337,\n",
       "  'ReportId': 1138,\n",
       "  'EquipmentName': 'Service Vehicle Ford Fusion',\n",
       "  'EquipmentId': 276,\n",
       "  'VehicleType': 'Automobiles',\n",
       "  'PrimaryMode': 'MB - Bus',\n",
       "  'SecondaryMode': '',\n",
       "  'TotalVehicles': None,\n",
       "  'UsefulLifeBenchmark': False,\n",
       "  'YearOfManufacture': 2012,\n",
       "  'TransitAgencyCapitalResponsibility': '',\n",
       "  'EstimatedCost': None,\n",
       "  'YearDollarsEstimatedCost': None,\n",
       "  'UsefulLifeYearsBenchMark': None,\n",
       "  'UsefulLifeYearsRemaining': None,\n",
       "  'LastModifiedDate': '2024-10-29T21:07:27.093'},\n",
       " {'Id': 338,\n",
       "  'ReportId': 1138,\n",
       "  'EquipmentName': 'Service Vehicle Dodge Caravan',\n",
       "  'EquipmentId': 277,\n",
       "  'VehicleType': 'Trucks and Other Rubber Tire Vehicles',\n",
       "  'PrimaryMode': 'MB - Bus',\n",
       "  'SecondaryMode': '',\n",
       "  'TotalVehicles': None,\n",
       "  'UsefulLifeBenchmark': False,\n",
       "  'YearOfManufacture': 2014,\n",
       "  'TransitAgencyCapitalResponsibility': '',\n",
       "  'EstimatedCost': None,\n",
       "  'YearDollarsEstimatedCost': None,\n",
       "  'UsefulLifeYearsBenchMark': None,\n",
       "  'UsefulLifeYearsRemaining': None,\n",
       "  'LastModifiedDate': '2024-10-29T21:07:27.093'}]"
      ]
     },
     "metadata": {},
     "output_type": "display_data"
    }
   ],
   "source": [
    "# can i see org name and a35 data at the same time?\n",
    "display(\n",
    "    blob_2024[0][\"Organization\"],\n",
    "    blob_2024[0][\"NTDReportingA35\"][\"Data\"]\n",
    ")"
   ]
  },
  {
   "cell_type": "markdown",
   "id": "6227a3d6-0646-4ef3-9807-a1a9c62f0545",
   "metadata": {
    "jp-MarkdownHeadingCollapsed": true,
    "tags": []
   },
   "source": [
    "## List comprehension to get list of org name and a35 data"
   ]
  },
  {
   "cell_type": "code",
   "execution_count": 11,
   "id": "be146caf-8bc6-4ea8-b1fb-19e277238795",
   "metadata": {},
   "outputs": [],
   "source": [
    "# testing list comprehension to access org name and a35 data\n",
    "\n",
    "filtered_data = [\n",
    "    {\n",
    "        \"Organization\":i[\"Organization\"], \n",
    "        \"data\":i[\"NTDReportingA35\"][\"Data\"]\n",
    "    } for i in blob_2024\n",
    "]\n"
   ]
  },
  {
   "cell_type": "code",
   "execution_count": 12,
   "id": "fefaecca-9c50-4f5e-88ef-73b1a471eb30",
   "metadata": {},
   "outputs": [
    {
     "data": {
      "text/plain": [
       "86"
      ]
     },
     "metadata": {},
     "output_type": "display_data"
    },
    {
     "data": {
      "text/plain": [
       "3"
      ]
     },
     "metadata": {},
     "output_type": "display_data"
    },
    {
     "data": {
      "text/plain": [
       "'City of Arcata'"
      ]
     },
     "metadata": {},
     "output_type": "display_data"
    }
   ],
   "source": [
    "# checking len of list\n",
    "display(\n",
    "    len(filtered_data), # 86 orgs\n",
    "    len(filtered_data[0][\"data\"]), # 3 entries in org 0\n",
    "    filtered_data[0][\"Organization\"]\n",
    ")"
   ]
  },
  {
   "cell_type": "code",
   "execution_count": 13,
   "id": "c4ffb1a5-0b81-432c-9c0f-79c0825970d2",
   "metadata": {},
   "outputs": [
    {
     "data": {
      "text/plain": [
       "range(0, 86)"
      ]
     },
     "execution_count": 13,
     "metadata": {},
     "output_type": "execute_result"
    }
   ],
   "source": [
    "range(len(filtered_data))"
   ]
  },
  {
   "cell_type": "code",
   "execution_count": 14,
   "id": "c76d6409-9a9f-4e05-926e-727ec2fbb781",
   "metadata": {},
   "outputs": [
    {
     "name": "stdout",
     "output_type": "stream",
     "text": [
      "City of Arcata , 3\n",
      "Humboldt Transit Authority , 10\n",
      "Mendocino Transit Authority , 9\n",
      "Lassen Transit Service Agency , 1\n",
      "Colusa County Transit Agency , 2\n",
      "County of Nevada Public Works, Transit Services Division , 6\n",
      "San Benito County Local Transportation Authority , 1\n",
      "Fresno County Rural Transit Agency , 3\n",
      "Morongo Basin Transit Authority , 8\n",
      "Mountain Area Regional Transit Authority , 13\n",
      "City of Ridgecrest , 1\n",
      "Eastern Sierra Transit Authority , 9\n",
      "Amador Transit , 3\n",
      "Tuolumne County Transit Agency (TCTA) , 1\n",
      "County of Siskiyou , 5\n",
      "Trinity County Department of Transportation  , 1\n",
      "Tehama County Transit Agency , 1\n",
      "Calaveras Transit Agency  , 1\n",
      "Palo Verde Valley Transit Agency , 6\n"
     ]
    }
   ],
   "source": [
    "for i in range(len(filtered_data)):\n",
    "    if len(filtered_data[i][\"data\"])>0:\n",
    "        print(filtered_data[i][\"Organization\"],\",\", len(filtered_data[i][\"data\"])) # 19 agencies, \n",
    "\n",
    "# since this is a list, cant use regular pandas methods.\n",
    "# List of agencies with count of services vehicles greater than zero"
   ]
  },
  {
   "cell_type": "code",
   "execution_count": 15,
   "id": "8caca7c5-3971-49e9-82cb-9eae6c42ad29",
   "metadata": {},
   "outputs": [],
   "source": [
    "#for i in range(len(filtered_data)):\n",
    "#    if filtered_data[i][\"data\"] is not None:\n",
    "#        print(filtered_data[i][\"Organization\"],\",\", len(filtered_data[i][\"data\"]) )\n",
    "\n",
    "# List of agencies with count of services vehicles not Null\n",
    "# confirming the previous loop is accurate, commenting out for now"
   ]
  },
  {
   "cell_type": "markdown",
   "id": "01bd99d9-0991-48c9-8a4e-bba751f11891",
   "metadata": {
    "jp-MarkdownHeadingCollapsed": true,
    "tags": []
   },
   "source": [
    "## Test of using `pd.json_normalize`\n",
    "data = unserialiszed JSON object"
   ]
  },
  {
   "cell_type": "code",
   "execution_count": 16,
   "id": "11e8750e-385f-442b-bf02-a248d59515f4",
   "metadata": {},
   "outputs": [],
   "source": [
    "df_blob = pd.json_normalize(\n",
    "    blob_2024,\n",
    "    record_path = [\"NTDReportingA35\", \"Data\"],\n",
    "    meta=\"Organization\",\n",
    "    \n",
    ")"
   ]
  },
  {
   "cell_type": "code",
   "execution_count": 17,
   "id": "03325801-6545-4804-adb2-1097cfe11b69",
   "metadata": {},
   "outputs": [
    {
     "name": "stdout",
     "output_type": "stream",
     "text": [
      "<class 'pandas.core.frame.DataFrame'>\n",
      "RangeIndex: 84 entries, 0 to 83\n",
      "Data columns (total 17 columns):\n",
      " #   Column                              Non-Null Count  Dtype  \n",
      "---  ------                              --------------  -----  \n",
      " 0   Id                                  84 non-null     int64  \n",
      " 1   ReportId                            84 non-null     int64  \n",
      " 2   EquipmentName                       84 non-null     object \n",
      " 3   EquipmentId                         84 non-null     int64  \n",
      " 4   VehicleType                         84 non-null     object \n",
      " 5   PrimaryMode                         78 non-null     object \n",
      " 6   SecondaryMode                       61 non-null     object \n",
      " 7   TotalVehicles                       17 non-null     float64\n",
      " 8   UsefulLifeBenchmark                 84 non-null     bool   \n",
      " 9   YearOfManufacture                   84 non-null     int64  \n",
      " 10  TransitAgencyCapitalResponsibility  68 non-null     object \n",
      " 11  EstimatedCost                       16 non-null     float64\n",
      " 12  YearDollarsEstimatedCost            7 non-null      float64\n",
      " 13  UsefulLifeYearsBenchMark            17 non-null     float64\n",
      " 14  UsefulLifeYearsRemaining            17 non-null     float64\n",
      " 15  LastModifiedDate                    84 non-null     object \n",
      " 16  Organization                        84 non-null     object \n",
      "dtypes: bool(1), float64(5), int64(4), object(7)\n",
      "memory usage: 10.7+ KB\n"
     ]
    },
    {
     "data": {
      "text/plain": [
       "84"
      ]
     },
     "metadata": {},
     "output_type": "display_data"
    },
    {
     "data": {
      "text/plain": [
       "pandas.core.frame.DataFrame"
      ]
     },
     "metadata": {},
     "output_type": "display_data"
    },
    {
     "data": {
      "text/plain": [
       "None"
      ]
     },
     "metadata": {},
     "output_type": "display_data"
    },
    {
     "data": {
      "text/html": [
       "<div>\n",
       "<style scoped>\n",
       "    .dataframe tbody tr th:only-of-type {\n",
       "        vertical-align: middle;\n",
       "    }\n",
       "\n",
       "    .dataframe tbody tr th {\n",
       "        vertical-align: top;\n",
       "    }\n",
       "\n",
       "    .dataframe thead th {\n",
       "        text-align: right;\n",
       "    }\n",
       "</style>\n",
       "<table border=\"1\" class=\"dataframe\">\n",
       "  <thead>\n",
       "    <tr style=\"text-align: right;\">\n",
       "      <th></th>\n",
       "      <th>Id</th>\n",
       "      <th>ReportId</th>\n",
       "      <th>EquipmentId</th>\n",
       "      <th>TotalVehicles</th>\n",
       "      <th>YearOfManufacture</th>\n",
       "      <th>EstimatedCost</th>\n",
       "      <th>YearDollarsEstimatedCost</th>\n",
       "      <th>UsefulLifeYearsBenchMark</th>\n",
       "      <th>UsefulLifeYearsRemaining</th>\n",
       "    </tr>\n",
       "  </thead>\n",
       "  <tbody>\n",
       "    <tr>\n",
       "      <th>count</th>\n",
       "      <td>84.000000</td>\n",
       "      <td>84.000000</td>\n",
       "      <td>84.000000</td>\n",
       "      <td>17.000000</td>\n",
       "      <td>84.000000</td>\n",
       "      <td>16.000000</td>\n",
       "      <td>7.000000</td>\n",
       "      <td>17.000000</td>\n",
       "      <td>17.000000</td>\n",
       "    </tr>\n",
       "    <tr>\n",
       "      <th>mean</th>\n",
       "      <td>295.928571</td>\n",
       "      <td>1069.428571</td>\n",
       "      <td>191.666667</td>\n",
       "      <td>0.882353</td>\n",
       "      <td>2012.440476</td>\n",
       "      <td>42697.462500</td>\n",
       "      <td>2022.285714</td>\n",
       "      <td>9.941176</td>\n",
       "      <td>-0.176471</td>\n",
       "    </tr>\n",
       "    <tr>\n",
       "      <th>std</th>\n",
       "      <td>30.986505</td>\n",
       "      <td>42.913835</td>\n",
       "      <td>69.657913</td>\n",
       "      <td>0.485071</td>\n",
       "      <td>7.445143</td>\n",
       "      <td>26523.282861</td>\n",
       "      <td>0.755929</td>\n",
       "      <td>6.675240</td>\n",
       "      <td>4.952718</td>\n",
       "    </tr>\n",
       "    <tr>\n",
       "      <th>min</th>\n",
       "      <td>247.000000</td>\n",
       "      <td>1011.000000</td>\n",
       "      <td>67.000000</td>\n",
       "      <td>-1.000000</td>\n",
       "      <td>1988.000000</td>\n",
       "      <td>2500.000000</td>\n",
       "      <td>2022.000000</td>\n",
       "      <td>5.000000</td>\n",
       "      <td>-8.000000</td>\n",
       "    </tr>\n",
       "    <tr>\n",
       "      <th>25%</th>\n",
       "      <td>267.750000</td>\n",
       "      <td>1044.000000</td>\n",
       "      <td>129.000000</td>\n",
       "      <td>1.000000</td>\n",
       "      <td>2007.750000</td>\n",
       "      <td>34675.000000</td>\n",
       "      <td>2022.000000</td>\n",
       "      <td>5.000000</td>\n",
       "      <td>-4.000000</td>\n",
       "    </tr>\n",
       "    <tr>\n",
       "      <th>50%</th>\n",
       "      <td>295.500000</td>\n",
       "      <td>1054.000000</td>\n",
       "      <td>201.500000</td>\n",
       "      <td>1.000000</td>\n",
       "      <td>2013.000000</td>\n",
       "      <td>35000.000000</td>\n",
       "      <td>2022.000000</td>\n",
       "      <td>8.000000</td>\n",
       "      <td>0.000000</td>\n",
       "    </tr>\n",
       "    <tr>\n",
       "      <th>75%</th>\n",
       "      <td>327.250000</td>\n",
       "      <td>1109.500000</td>\n",
       "      <td>238.250000</td>\n",
       "      <td>1.000000</td>\n",
       "      <td>2018.000000</td>\n",
       "      <td>48384.500000</td>\n",
       "      <td>2022.000000</td>\n",
       "      <td>8.000000</td>\n",
       "      <td>1.000000</td>\n",
       "    </tr>\n",
       "    <tr>\n",
       "      <th>max</th>\n",
       "      <td>348.000000</td>\n",
       "      <td>1139.000000</td>\n",
       "      <td>303.000000</td>\n",
       "      <td>1.000000</td>\n",
       "      <td>2024.000000</td>\n",
       "      <td>120000.000000</td>\n",
       "      <td>2024.000000</td>\n",
       "      <td>27.000000</td>\n",
       "      <td>11.000000</td>\n",
       "    </tr>\n",
       "  </tbody>\n",
       "</table>\n",
       "</div>"
      ],
      "text/plain": [
       "               Id     ReportId  EquipmentId  TotalVehicles  YearOfManufacture  \\\n",
       "count   84.000000    84.000000    84.000000      17.000000          84.000000   \n",
       "mean   295.928571  1069.428571   191.666667       0.882353        2012.440476   \n",
       "std     30.986505    42.913835    69.657913       0.485071           7.445143   \n",
       "min    247.000000  1011.000000    67.000000      -1.000000        1988.000000   \n",
       "25%    267.750000  1044.000000   129.000000       1.000000        2007.750000   \n",
       "50%    295.500000  1054.000000   201.500000       1.000000        2013.000000   \n",
       "75%    327.250000  1109.500000   238.250000       1.000000        2018.000000   \n",
       "max    348.000000  1139.000000   303.000000       1.000000        2024.000000   \n",
       "\n",
       "       EstimatedCost  YearDollarsEstimatedCost  UsefulLifeYearsBenchMark  \\\n",
       "count      16.000000                  7.000000                 17.000000   \n",
       "mean    42697.462500               2022.285714                  9.941176   \n",
       "std     26523.282861                  0.755929                  6.675240   \n",
       "min      2500.000000               2022.000000                  5.000000   \n",
       "25%     34675.000000               2022.000000                  5.000000   \n",
       "50%     35000.000000               2022.000000                  8.000000   \n",
       "75%     48384.500000               2022.000000                  8.000000   \n",
       "max    120000.000000               2024.000000                 27.000000   \n",
       "\n",
       "       UsefulLifeYearsRemaining  \n",
       "count                 17.000000  \n",
       "mean                  -0.176471  \n",
       "std                    4.952718  \n",
       "min                   -8.000000  \n",
       "25%                   -4.000000  \n",
       "50%                    0.000000  \n",
       "75%                    1.000000  \n",
       "max                   11.000000  "
      ]
     },
     "metadata": {},
     "output_type": "display_data"
    }
   ],
   "source": [
    "display(\n",
    "    len(df_blob),\n",
    "    type(df_blob),\n",
    "    df_blob.info(),\n",
    "    df_blob.describe()\n",
    ")\n",
    "    "
   ]
  },
  {
   "cell_type": "code",
   "execution_count": 18,
   "id": "e0550c81-4f81-4fd5-8772-76eebfcaa98c",
   "metadata": {},
   "outputs": [
    {
     "data": {
      "text/plain": [
       "19"
      ]
     },
     "execution_count": 18,
     "metadata": {},
     "output_type": "execute_result"
    }
   ],
   "source": [
    "df_blob[\"Organization\"].nunique() # 19, same number of agencies in filtered_data list "
   ]
  },
  {
   "cell_type": "code",
   "execution_count": 19,
   "id": "fa163d8a-7001-44a9-b045-97c4733eb9fc",
   "metadata": {},
   "outputs": [
    {
     "data": {
      "text/plain": [
       "84"
      ]
     },
     "execution_count": 19,
     "metadata": {},
     "output_type": "execute_result"
    }
   ],
   "source": [
    "df_blob[\"EquipmentId\"].count() # 84 service vehicles in 19 agencies"
   ]
  },
  {
   "cell_type": "markdown",
   "id": "7bf240b0-b910-4e19-a9a1-a157a6a6c8e4",
   "metadata": {},
   "source": [
    "## Querying `fct_vehicles_type_count_by_agency`\n",
    "\n",
    "has a column called `total_service_vehicles`"
   ]
  },
  {
   "cell_type": "code",
   "execution_count": 20,
   "id": "3ac43eef-f347-4ddf-ad06-fb4c0b6f690e",
   "metadata": {},
   "outputs": [],
   "source": [
    "keep_cols=[\n",
    "    \"ntd_id\",\n",
    "    \"agency\",\n",
    "    \"city\",\n",
    "    \"organization_type\",\n",
    "    \"reporter_type\",\n",
    "    #\"agency_voms\",\n",
    "    \"total_revenue_vehicles\",\n",
    "    \"total_service_vehicles\"\n",
    "]\n",
    "\n",
    "ntd_service_veh = (\n",
    "    tbls.mart_ntd_annual_reporting.fct_vehicles_type_count_by_agency()\n",
    "    >> filter(\n",
    "        _.state == 'CA',\n",
    "        _.report_year == 2023\n",
    "    )\n",
    "    >> collect()\n",
    ")[keep_cols].reset_index(drop=True)\n"
   ]
  },
  {
   "cell_type": "code",
   "execution_count": 21,
   "id": "36b0282f-3e4e-4d7f-ac4b-eb36b5afa6d5",
   "metadata": {},
   "outputs": [
    {
     "name": "stdout",
     "output_type": "stream",
     "text": [
      "<class 'pandas.core.frame.DataFrame'>\n",
      "RangeIndex: 225 entries, 0 to 224\n",
      "Data columns (total 7 columns):\n",
      " #   Column                  Non-Null Count  Dtype  \n",
      "---  ------                  --------------  -----  \n",
      " 0   ntd_id                  225 non-null    object \n",
      " 1   agency                  225 non-null    object \n",
      " 2   city                    224 non-null    object \n",
      " 3   organization_type       225 non-null    object \n",
      " 4   reporter_type           225 non-null    object \n",
      " 5   total_revenue_vehicles  225 non-null    float64\n",
      " 6   total_service_vehicles  225 non-null    float64\n",
      "dtypes: float64(2), object(5)\n",
      "memory usage: 12.4+ KB\n"
     ]
    }
   ],
   "source": [
    "ntd_service_veh.info()"
   ]
  },
  {
   "cell_type": "markdown",
   "id": "b8f6fca2-f841-44b3-98af-1e9377b1f6e4",
   "metadata": {},
   "source": [
    "## getting annually reported UPT and VRH from `mart_ntd_annual_reporting.fct_metrics`"
   ]
  },
  {
   "cell_type": "code",
   "execution_count": 22,
   "id": "4836238e-63f1-4209-b657-39992fe7a7e8",
   "metadata": {},
   "outputs": [],
   "source": [
    "keep_cols_2=[\n",
    "    \"ntd_id\",\n",
    "    \"agency\",\n",
    "    \"city\",\n",
    "    \"organization_type\",\n",
    "    \"reporter_type\",\n",
    "    \"mode\",\n",
    "    \"type_of_service\",\n",
    "    \"unlinked_passenger_trips\",\n",
    "    \"vehicle_revenue_hours\",\n",
    "\n",
    "]\n",
    "\n",
    "ntd_ridership_metrics = (\n",
    "    tbls.mart_ntd_annual_reporting.fct_metrics()\n",
    "    >> filter(\n",
    "        _.state == 'CA',\n",
    "        _.report_year == 2023\n",
    "    )\n",
    "    >> collect()\n",
    ")[keep_cols_2].reset_index(drop=True)"
   ]
  },
  {
   "cell_type": "code",
   "execution_count": 23,
   "id": "8bd3f6b1-77a1-4132-95aa-f21c326bba63",
   "metadata": {},
   "outputs": [
    {
     "name": "stdout",
     "output_type": "stream",
     "text": [
      "<class 'pandas.core.frame.DataFrame'>\n",
      "RangeIndex: 424 entries, 0 to 423\n",
      "Data columns (total 9 columns):\n",
      " #   Column                    Non-Null Count  Dtype  \n",
      "---  ------                    --------------  -----  \n",
      " 0   ntd_id                    424 non-null    object \n",
      " 1   agency                    424 non-null    object \n",
      " 2   city                      422 non-null    object \n",
      " 3   organization_type         424 non-null    object \n",
      " 4   reporter_type             424 non-null    object \n",
      " 5   mode                      424 non-null    object \n",
      " 6   type_of_service           424 non-null    object \n",
      " 7   unlinked_passenger_trips  424 non-null    float64\n",
      " 8   vehicle_revenue_hours     424 non-null    float64\n",
      "dtypes: float64(2), object(7)\n",
      "memory usage: 29.9+ KB\n"
     ]
    }
   ],
   "source": [
    "ntd_ridership_metrics.info()"
   ]
  },
  {
   "cell_type": "code",
   "execution_count": 24,
   "id": "b3af694d-2e65-4e5f-acab-37b1f67dd2d2",
   "metadata": {},
   "outputs": [
    {
     "data": {
      "text/html": [
       "<div>\n",
       "<style scoped>\n",
       "    .dataframe tbody tr th:only-of-type {\n",
       "        vertical-align: middle;\n",
       "    }\n",
       "\n",
       "    .dataframe tbody tr th {\n",
       "        vertical-align: top;\n",
       "    }\n",
       "\n",
       "    .dataframe thead th {\n",
       "        text-align: right;\n",
       "    }\n",
       "</style>\n",
       "<table border=\"1\" class=\"dataframe\">\n",
       "  <thead>\n",
       "    <tr style=\"text-align: right;\">\n",
       "      <th></th>\n",
       "      <th>ntd_id</th>\n",
       "      <th>agency</th>\n",
       "      <th>unlinked_passenger_trips</th>\n",
       "      <th>vehicle_revenue_hours</th>\n",
       "    </tr>\n",
       "  </thead>\n",
       "  <tbody>\n",
       "    <tr>\n",
       "      <th>0</th>\n",
       "      <td>90003</td>\n",
       "      <td>San Francisco Bay Area Rapid Transit District, dba: SF BART</td>\n",
       "      <td>50764402.0</td>\n",
       "      <td>2724074.0</td>\n",
       "    </tr>\n",
       "    <tr>\n",
       "      <th>1</th>\n",
       "      <td>90004</td>\n",
       "      <td>Golden Empire Transit District</td>\n",
       "      <td>3293593.0</td>\n",
       "      <td>289338.0</td>\n",
       "    </tr>\n",
       "    <tr>\n",
       "      <th>2</th>\n",
       "      <td>90006</td>\n",
       "      <td>Santa Cruz Metropolitan Transit District</td>\n",
       "      <td>3350026.0</td>\n",
       "      <td>214748.0</td>\n",
       "    </tr>\n",
       "    <tr>\n",
       "      <th>3</th>\n",
       "      <td>90008</td>\n",
       "      <td>City of Santa Monica, dba: Big Blue Bus</td>\n",
       "      <td>7767725.0</td>\n",
       "      <td>416944.0</td>\n",
       "    </tr>\n",
       "    <tr>\n",
       "      <th>4</th>\n",
       "      <td>90009</td>\n",
       "      <td>San Mateo County Transit District, dba: SamTrans</td>\n",
       "      <td>8773845.0</td>\n",
       "      <td>651839.0</td>\n",
       "    </tr>\n",
       "  </tbody>\n",
       "</table>\n",
       "</div>"
      ],
      "text/plain": [
       "  ntd_id                                                       agency  \\\n",
       "0  90003  San Francisco Bay Area Rapid Transit District, dba: SF BART   \n",
       "1  90004                               Golden Empire Transit District   \n",
       "2  90006                     Santa Cruz Metropolitan Transit District   \n",
       "3  90008                      City of Santa Monica, dba: Big Blue Bus   \n",
       "4  90009             San Mateo County Transit District, dba: SamTrans   \n",
       "\n",
       "   unlinked_passenger_trips  vehicle_revenue_hours  \n",
       "0                50764402.0              2724074.0  \n",
       "1                 3293593.0               289338.0  \n",
       "2                 3350026.0               214748.0  \n",
       "3                 7767725.0               416944.0  \n",
       "4                 8773845.0               651839.0  "
      ]
     },
     "execution_count": 24,
     "metadata": {},
     "output_type": "execute_result"
    }
   ],
   "source": [
    "# aggregate UPT and VRM by agency\n",
    "\n",
    "upt_by_agency = ntd_ridership_metrics.groupby([\"ntd_id\",\"agency\"]).agg({\n",
    "    \"unlinked_passenger_trips\":\"sum\",\n",
    "    \"vehicle_revenue_hours\":\"sum\"\n",
    "}).reset_index()\n",
    "\n",
    "upt_by_agency.head()"
   ]
  },
  {
   "cell_type": "markdown",
   "id": "6a45cb9a-198f-4bbc-b2de-d62a26ff757a",
   "metadata": {},
   "source": [
    "## A: Total Number of Non-Revenue Vehicles\n",
    "aka Service Vehicles"
   ]
  },
  {
   "cell_type": "code",
   "execution_count": 25,
   "id": "afb7090e-f9b5-4ab6-a596-7061464bdfbd",
   "metadata": {},
   "outputs": [
    {
     "data": {
      "text/plain": [
       "5328.0"
      ]
     },
     "execution_count": 25,
     "metadata": {},
     "output_type": "execute_result"
    }
   ],
   "source": [
    "total_non_rev_veh = ntd_service_veh[\"total_service_vehicles\"].sum()\n",
    "total_non_rev_veh"
   ]
  },
  {
   "cell_type": "markdown",
   "id": "7838d517-a108-4eeb-87ad-9094d0d9b582",
   "metadata": {
    "jp-MarkdownHeadingCollapsed": true,
    "tags": []
   },
   "source": [
    "## A: Number of Non-Revenue vehicles vs GTFS service hours\n",
    "\n",
    "anything in the warehouse that can tell me service hours?\n",
    "\n",
    "if i have to do this myself, what tables do i need?\n",
    "- earliest `start time` and latest `stop time` for each `agency`?\n",
    "\n",
    "Spoke with Amanda about service hours and GTFS digets\n",
    "- advised to see the `service hours` they used in the Digest to see if ir can be useful\n",
    "\n"
   ]
  },
  {
   "cell_type": "code",
   "execution_count": 26,
   "id": "0500e40a-e827-414a-8803-ad6382e6db37",
   "metadata": {},
   "outputs": [
    {
     "name": "stdout",
     "output_type": "stream",
     "text": [
      "<class 'pandas.core.frame.DataFrame'>\n",
      "RangeIndex: 24936 entries, 0 to 24935\n",
      "Data columns (total 6 columns):\n",
      " #   Column               Non-Null Count  Dtype  \n",
      "---  ------               --------------  -----  \n",
      " 0   name                 24936 non-null  object \n",
      " 1   month_year           24936 non-null  object \n",
      " 2   weekday_weekend      24936 non-null  object \n",
      " 3   departure_hour       24936 non-null  Int64  \n",
      " 4   service_hours        24936 non-null  float64\n",
      " 5   daily_service_hours  24936 non-null  float64\n",
      "dtypes: Int64(1), float64(2), object(3)\n",
      "memory usage: 1.2+ MB\n"
     ]
    }
   ],
   "source": [
    "# url pulled from gtfs digest service hour section\n",
    "digest_service_hours = \"gs://calitp-analytics-data/data-analyses/rt_vs_schedule/digest/total_scheduled_service_hours.parquet\"\n",
    "\n",
    "service_hours = pd.read_parquet(digest_service_hours)\n",
    "\n",
    "service_hours.info()"
   ]
  },
  {
   "cell_type": "code",
   "execution_count": 27,
   "id": "cbead5aa-52c5-42ef-83d6-882bec37c56c",
   "metadata": {
    "tags": []
   },
   "outputs": [
    {
     "data": {
      "text/plain": [
       "Bay Area 511 SamTrans Schedule                          288\n",
       "Bay Area 511 SFO AirTrain Schedule                      288\n",
       "LA Metro Bus Schedule                                   288\n",
       "LAX FlyAway Schedule                                    282\n",
       "San Diego Schedule                                      276\n",
       "Bay Area 511 Santa Clara Transit Schedule               273\n",
       "Bay Area 511 Muni Schedule                              264\n",
       "Bay Area 511 Marin Schedule                             264\n",
       "Bay Area 511 AC Transit Schedule                        264\n",
       "OCTA Schedule                                           264\n",
       "Anaheim Resort Schedule                                 262\n",
       "Bay Area 511 Golden Gate Transit Schedule               252\n",
       "Bay Area 511 BART Schedule                              248\n",
       "Riverside Schedule                                      244\n",
       "North County Schedule                                   240\n",
       "Yolobus Schedule                                        240\n",
       "Sacramento Schedule                                     240\n",
       "Metrolink Schedule                                      234\n",
       "OmniTrans Schedule                                      234\n",
       "Santa Cruz Schedule                                     234\n",
       "Long Beach Schedule                                     233\n",
       "Big Blue Bus Schedule                                   232\n",
       "LA DOT Schedule                                         232\n",
       "Bay Area 511 Tri Delta Schedule                         229\n",
       "Culver City Schedule                                    229\n",
       "Bay Area 511 Tri-Valley Wheels Schedule                 226\n",
       "Antelope Valley Transit Authority Schedule              220\n",
       "SBMTD Schedule                                          220\n",
       "Eastern Sierra Schedule                                 218\n",
       "Montebello Schedule                                     216\n",
       "Foothill Schedule                                       216\n",
       "Flixbus Schedule                                        216\n",
       "SunLine Avail Schedule                                  216\n",
       "Amtrak Schedule                                         216\n",
       "VCTC GMV Schedule                                       216\n",
       "Bay Area 511 Capitol Corridor Schedule                  212\n",
       "Fresno Schedule                                         204\n",
       "Kern Schedule                                           201\n",
       "Bay Area 511 SolTrans Schedule                          200\n",
       "Bay Area 511 WestCAT Schedule                           200\n",
       "LA Metro Rail Schedule                                  199\n",
       "Bay Area 511 County Connection Schedule                 198\n",
       "Monterey Salinas Schedule                               197\n",
       "Santa Clarita Schedule                                  192\n",
       "Commerce Schedule                                       192\n",
       "Bay Area 511 San Francisco Bay Ferry Schedule           188\n",
       "Bay Area 511 Union City Transit Schedule                188\n",
       "Mountain Transit Schedule                               188\n",
       "Norwalk Avail Schedule                                  188\n",
       "Beach Cities GMV Schedule                               184\n",
       "Bay Area 511 Sonoma County Transit Schedule             184\n",
       "LADPW Schedule                                          184\n",
       "TART, North Lake Tahoe Schedule                         182\n",
       "Bay Area 511 Vine Transit Schedule                      181\n",
       "Tahoe Transportation District Schedule                  180\n",
       "San Joaquin Schedule                                    180\n",
       "Visalia Schedule                                        180\n",
       "GET Schedule                                            175\n",
       "Stanford Schedule                                       175\n",
       "Victor Valley GMV Schedule                              174\n",
       "SLORTA Schedule                                         174\n",
       "Bay Area 511 Emery Go-Round Schedule                    172\n",
       "Merced Schedule                                         170\n",
       "StanRTA Schedule                                        168\n",
       "Bear Schedule                                           164\n",
       "Imperial Valley Transit Schedule                        164\n",
       "Pasadena Schedule                                       163\n",
       "Unitrans Schedule                                       157\n",
       "Elk Grove Schedule                                      156\n",
       "TCRTA TripShot Schedule                                 156\n",
       "B-Line Schedule                                         156\n",
       "Arcadia Schedule                                        156\n",
       "Bay Area 511 Golden Gate Ferry Schedule                 156\n",
       "Bay Area 511 Petaluma Schedule                          156\n",
       "Merced GMV Schedule                                     154\n",
       "Torrance Schedule                                       154\n",
       "Bay Area 511 Santa Rosa CityBus Schedule                153\n",
       "SLO Schedule                                            152\n",
       "Laguna Beach Schedule                                   152\n",
       "Bay Area 511 Caltrain Schedule                          152\n",
       "Santa Maria Schedule                                    150\n",
       "Banning Pass Schedule                                   150\n",
       "Bay Area 511 Sonoma-Marin Area Rail Transit Schedule    148\n",
       "Victor Valley Schedule                                  147\n",
       "Bay Area 511 Treasure Island Ferry Schedule             146\n",
       "Morongo Basin Schedule                                  144\n",
       "PresidiGo Schedule                                      140\n",
       "WeHo Schedule                                           138\n",
       "Redding Schedule                                        123\n",
       "El Monte Schedule                                       123\n",
       "Placer Schedule                                         121\n",
       "Baldwin Park Schedule                                   119\n",
       "Humboldt Schedule                                       118\n",
       "County Express Schedule                                 117\n",
       "Guadalupe Flyer Schedule                                117\n",
       "Glendale Schedule                                       117\n",
       "Havasu Landing Ferry Schedule                           116\n",
       "Grapeline Schedule                                      112\n",
       "Mendocino Schedule                                      110\n",
       "Roseville Schedule                                      108\n",
       "G Trans Schedule                                        108\n",
       "Oregon POINT                                            105\n",
       "Yuma Schedule                                           104\n",
       "Santa Ynez Mecatran Schedule                            104\n",
       "Lake Schedule                                           102\n",
       "Cudahy Schedule                                         102\n",
       "Turlock Schedule                                        101\n",
       "Nevada County Schedule                                   99\n",
       "Yuba-Sutter Schedule                                     96\n",
       "Bay Area 511 Vacaville City Coach Schedule               96\n",
       "Yosemite Valley Shuttle Schedule                         96\n",
       "Lawndale Schedule                                        93\n",
       "Tahoe Transportation District GMV Schedule               93\n",
       "Kings Schedule                                           92\n",
       "Clovis Schedule                                          92\n",
       "Lassen Schedule                                          92\n",
       "La Puente Schedule                                       90\n",
       "Lawndale Beat GMV Schedule                               90\n",
       "Corona Schedule                                          88\n",
       "Bell Gardens Schedule                                    88\n",
       "Beaumont Pass Schedule                                   88\n",
       "Bay Area 511 Fairfield and Suisun Transit Schedule       88\n",
       "YARTS Schedule                                           81\n",
       "El Dorado Schedule                                       80\n",
       "Tehama Schedule                                          80\n",
       "Madera Metro Schedule                                    78\n",
       "Redwood Coast Schedule                                   76\n",
       "Needles Schedule                                         76\n",
       "Alhambra Schedule                                        76\n",
       "Artesia Schedule                                         72\n",
       "Lynwood Schedule                                         72\n",
       "UCSC Schedule                                            72\n",
       "Burbank Schedule                                         72\n",
       "LAX Flyaway Bus Schedule                                 72\n",
       "LAX Shuttles Schedule                                    72\n",
       "Huntington Schedule                                      69\n",
       "Calaveras Schedule                                       69\n",
       "Get Around Town Express Schedule                         66\n",
       "Tracy Schedule                                           66\n",
       "Lompoc Schedule                                          66\n",
       "Cerritos on Wheels Schedule                              64\n",
       "Bay Area 511 Angel Island-Tiburon Ferry Schedule         64\n",
       "Curry Public Transit Schedule                            64\n",
       "BruinBus Schedule                                        64\n",
       "Bay Area 511 Dumbarton Express Schedule                  63\n",
       "Manteca Schedule                                         63\n",
       "Plumas Schedule                                          62\n",
       "Bay Area 511 Commute.org Schedule                        60\n",
       "Avalon Schedule                                          60\n",
       "South County Transit Link Schedule                       56\n",
       "Tuolumne Remix Schedule                                  56\n",
       "Siskiyou Schedule                                        56\n",
       "Rosemead Passio Schedule                                 56\n",
       "Auburn Schedule                                          56\n",
       "Calabasas Schedule                                       54\n",
       "La Campana Schedule                                      54\n",
       "Desert Roadrunner Schedule                               54\n",
       "Desert Roadrunner GMV Schedule                           54\n",
       "Amador Schedule                                          52\n",
       "Palos Verdes PTA Schedule                                52\n",
       "Fresno County Schedule                                   52\n",
       "Madera County Connection Schedule                        52\n",
       "Glenn Schedule                                           51\n",
       "Bay Area 511 South San Francisco Shuttle Schedule        50\n",
       "Mountain Transit GMV Schedule                            50\n",
       "Delano Schedule                                          50\n",
       "Maywood Schedule                                         50\n",
       "Irvine CONNECT Schedule                                  42\n",
       "Bay Area 511 MVGO Schedule                               42\n",
       "SLO Peak Transit Schedule                                41\n",
       "Bellflower Bus Schedule                                  40\n",
       "Go West Schedule                                         39\n",
       "Bay Area 511 Mission Bay Schedule                        38\n",
       "San Pedro Trolley Schedule                               37\n",
       "Lynwood Schedule IPS                                     36\n",
       "Laguna Niguel Schedule                                   36\n",
       "MV Shuttle Schedule                                      36\n",
       "Bay Area 511 ACE Schedule                                34\n",
       "San Clemente Trolley Schedule                            34\n",
       "Arvin Schedule                                           33\n",
       "Cerritos on Wheels Website Schedule                      32\n",
       "Trinity Schedule                                         31\n",
       "Mariposa Grove Shuttle Schedule                          30\n",
       "Rosemead Schedule                                        29\n",
       "Glendora Schedule                                        28\n",
       "San Juan Capistrano Trolley Schedule                     28\n",
       "Roseville Transit GMV Schedule                           27\n",
       "Mission Bay Schedule                                     26\n",
       "Redwood Coast Schedulel                                  25\n",
       "Bay Area 511 Rio Vista Delta Breeze Schedule             24\n",
       "Spirit Bus Passio Schedule                               24\n",
       "Lassen Flex                                              22\n",
       "Clean Air Express Schedule                               20\n",
       "Spirit Bus Schedule                                      20\n",
       "San Fernando Schedule                                    18\n",
       "Blossom Express Schedule                                 16\n",
       "Sage Stage Schedule                                      16\n",
       "Tuolumne Schedule                                        14\n",
       "Morro Bay Cal-ITP Schedule                               13\n",
       "eTrans Schedule                                          12\n",
       "Inglewood Schedule                                       12\n",
       "DowneyLINK GMV Schedule                                  10\n",
       "DowneyLINK Schedule                                      10\n",
       "Sierra Madre Schedule                                     9\n",
       "South San Francisco Schedule                              7\n",
       "El Segundo Schedule                                       6\n",
       "Bay Area 511 Tideline Schedule                            6\n",
       "Dana Point Trolley Schedule                               3\n",
       "Name: name, dtype: int64"
      ]
     },
     "execution_count": 27,
     "metadata": {},
     "output_type": "execute_result"
    }
   ],
   "source": [
    "service_hours[\"name\"].value_counts()"
   ]
  },
  {
   "cell_type": "code",
   "execution_count": 28,
   "id": "7e12d0a1-5359-49c4-b1e4-4b61fe1a715e",
   "metadata": {},
   "outputs": [
    {
     "data": {
      "text/html": [
       "<div>\n",
       "<style scoped>\n",
       "    .dataframe tbody tr th:only-of-type {\n",
       "        vertical-align: middle;\n",
       "    }\n",
       "\n",
       "    .dataframe tbody tr th {\n",
       "        vertical-align: top;\n",
       "    }\n",
       "\n",
       "    .dataframe thead th {\n",
       "        text-align: right;\n",
       "    }\n",
       "</style>\n",
       "<table border=\"1\" class=\"dataframe\">\n",
       "  <thead>\n",
       "    <tr style=\"text-align: right;\">\n",
       "      <th></th>\n",
       "      <th>name</th>\n",
       "      <th>daily_service_hours</th>\n",
       "    </tr>\n",
       "  </thead>\n",
       "  <tbody>\n",
       "    <tr>\n",
       "      <th>0</th>\n",
       "      <td>Alhambra Schedule</td>\n",
       "      <td>285.15</td>\n",
       "    </tr>\n",
       "    <tr>\n",
       "      <th>1</th>\n",
       "      <td>Amador Schedule</td>\n",
       "      <td>148.27</td>\n",
       "    </tr>\n",
       "    <tr>\n",
       "      <th>2</th>\n",
       "      <td>Amtrak Schedule</td>\n",
       "      <td>35345.12</td>\n",
       "    </tr>\n",
       "    <tr>\n",
       "      <th>3</th>\n",
       "      <td>Anaheim Resort Schedule</td>\n",
       "      <td>120397.39</td>\n",
       "    </tr>\n",
       "    <tr>\n",
       "      <th>4</th>\n",
       "      <td>Antelope Valley Transit Authority Schedule</td>\n",
       "      <td>3801.10</td>\n",
       "    </tr>\n",
       "  </tbody>\n",
       "</table>\n",
       "</div>"
      ],
      "text/plain": [
       "                                         name  daily_service_hours\n",
       "0                           Alhambra Schedule               285.15\n",
       "1                             Amador Schedule               148.27\n",
       "2                             Amtrak Schedule             35345.12\n",
       "3                     Anaheim Resort Schedule            120397.39\n",
       "4  Antelope Valley Transit Authority Schedule              3801.10"
      ]
     },
     "execution_count": 28,
     "metadata": {},
     "output_type": "execute_result"
    }
   ],
   "source": [
    "#group by name?\n",
    "\n",
    "schedule_service_hours = service_hours.groupby(\"name\").agg({\n",
    "    \"daily_service_hours\":\"sum\"\n",
    "}).reset_index()\n",
    "\n",
    "schedule_service_hours.head()"
   ]
  },
  {
   "cell_type": "markdown",
   "id": "fb49cb76-16c4-4ddb-b296-f942d53e7c89",
   "metadata": {},
   "source": [
    "service hour uses schcedule name\n",
    "need to crosswalk agency name/ntd id to schedule name...again\n"
   ]
  },
  {
   "cell_type": "code",
   "execution_count": 29,
   "id": "5afbc2ed-d627-46d3-9759-58cba5bf86dd",
   "metadata": {},
   "outputs": [
    {
     "name": "stdout",
     "output_type": "stream",
     "text": [
      "<class 'pandas.core.frame.DataFrame'>\n",
      "Int64Index: 215 entries, 0 to 214\n",
      "Data columns (total 30 columns):\n",
      " #   Column                             Non-Null Count  Dtype  \n",
      "---  ------                             --------------  -----  \n",
      " 0   schedule_gtfs_dataset_key          215 non-null    object \n",
      " 1   name                               215 non-null    object \n",
      " 2   schedule_source_record_id          215 non-null    object \n",
      " 3   base64_url                         215 non-null    object \n",
      " 4   organization_source_record_id      215 non-null    object \n",
      " 5   organization_name                  215 non-null    object \n",
      " 6   caltrans_district                  215 non-null    object \n",
      " 7   counties_served                    120 non-null    object \n",
      " 8   hq_city                            153 non-null    object \n",
      " 9   hq_county                          121 non-null    object \n",
      " 10  is_public_entity                   121 non-null    object \n",
      " 11  is_publicly_operating              121 non-null    object \n",
      " 12  funding_sources                    100 non-null    object \n",
      " 13  on_demand_vehicles_at_max_service  60 non-null     Int64  \n",
      " 14  vehicles_at_max_service            155 non-null    Int64  \n",
      " 15  number_of_state_counties           0 non-null      Int64  \n",
      " 16  primary_uza_name                   122 non-null    object \n",
      " 17  density                            123 non-null    float64\n",
      " 18  number_of_counties_with_service    0 non-null      Int64  \n",
      " 19  state_admin_funds_expended         0 non-null      float64\n",
      " 20  service_area_sq_miles              120 non-null    Int64  \n",
      " 21  population                         123 non-null    float64\n",
      " 22  service_area_pop                   120 non-null    Int64  \n",
      " 23  subrecipient_type                  33 non-null     object \n",
      " 24  primary_uza_code                   0 non-null      object \n",
      " 25  reporter_type                      155 non-null    object \n",
      " 26  organization_type                  155 non-null    object \n",
      " 27  voms_pt                            127 non-null    Int64  \n",
      " 28  voms_do                            61 non-null     Int64  \n",
      " 29  year                               155 non-null    Int64  \n",
      "dtypes: Int64(9), float64(3), object(18)\n",
      "memory usage: 54.0+ KB\n"
     ]
    }
   ],
   "source": [
    "# via proposed_changes NB\n",
    "\n",
    "#crosswalk from gtfs dataset key to orgs\n",
    "gcs_crosswalk = pd.read_parquet(\n",
    "    \"gs://calitp-analytics-data/data-analyses/gtfs_schedule/crosswalk/gtfs_key_organization_2024-10-16.parquet\"\n",
    ")\n",
    "\n",
    "gcs_crosswalk.info()"
   ]
  },
  {
   "cell_type": "code",
   "execution_count": 30,
   "id": "4245a1ba-7fef-4989-99d8-624c93b0978e",
   "metadata": {},
   "outputs": [],
   "source": [
    "keep_cols_xwalk=[\n",
    "    \"schedule_source_record_id\",\n",
    "    \"schedule_gtfs_dataset_key\",\n",
    "    \"name\",\n",
    "    \"base64_url\",\n",
    "    \"organization_source_record_id\",\n",
    "    \"organization_name\",\n",
    "    \"caltrans_district\",\n",
    "    \"reporter_type\",\n",
    "    \"primary_uza_name\",\n",
    "    \"voms_pt\",\n",
    "    \"voms_do\"\n",
    "]\n",
    "\n",
    "gcs_crosswalk = gcs_crosswalk[keep_cols_xwalk]\n",
    "gcs_crosswalk.rename(columns={\"name\":\"name_schedule\"}, inplace=True)\n",
    "\n",
    "# dim orgs\n",
    "dim_orgs = (tbls.mart_transit_database.dim_organizations()\n",
    "            >> filter(_._is_current == True,\n",
    "                      #_.ntd_id.isin(sec_g_ntd_id), # filters to ntd_id from Sec G operators\n",
    "                      _.public_currently_operating_fixed_route == True\n",
    "                     )\n",
    "            >> collect()\n",
    "           )\n",
    "                   \n",
    "\n",
    "keep_cols_2 =[\n",
    "    \"key\",\n",
    "    \"source_record_id\",\n",
    "    \"name\",\n",
    "    \"organization_type\",\n",
    "    \"caltrans_district\",\n",
    "    \"is_public_entity\",\n",
    "    \"ntd_id\",\n",
    "    \"reporting_category\",\n",
    "    \"public_currently_operating_fixed_route\",  \n",
    "]\n",
    "\n",
    "dim_orgs =dim_orgs[keep_cols_2]\n",
    "dim_orgs.rename(columns={\n",
    "    \"key\":\"key_orgs\",\n",
    "    \"name\":\"name_orgs\"\n",
    "}, inplace=True)\n",
    "\n",
    "dim_orgs_to_crosswalk = dim_orgs.merge(\n",
    "    gcs_crosswalk, \n",
    "    left_on=\"source_record_id\", \n",
    "    right_on=\"organization_source_record_id\", \n",
    "    how=\"left\"\n",
    ")\n",
    "\n",
    "schedule_feed_xwalk = schedule_rt_utils.get_schedule_gtfs_dataset_key(date=\"2024-10-16\")\n",
    "\n",
    "orgs_to_feed_xwalk = dim_orgs_to_crosswalk.merge(\n",
    "    schedule_feed_xwalk, \n",
    "    left_on = \"schedule_gtfs_dataset_key\", \n",
    "    right_on=\"gtfs_dataset_key\", how=\"left\"\n",
    ")"
   ]
  },
  {
   "cell_type": "code",
   "execution_count": 31,
   "id": "7cdef01a-fde6-466b-b074-288a9a13bf46",
   "metadata": {},
   "outputs": [
    {
     "name": "stdout",
     "output_type": "stream",
     "text": [
      "<class 'pandas.core.frame.DataFrame'>\n",
      "Int64Index: 219 entries, 0 to 218\n",
      "Data columns (total 22 columns):\n",
      " #   Column                                  Non-Null Count  Dtype \n",
      "---  ------                                  --------------  ----- \n",
      " 0   key_orgs                                219 non-null    object\n",
      " 1   source_record_id                        219 non-null    object\n",
      " 2   name_orgs                               219 non-null    object\n",
      " 3   organization_type                       219 non-null    object\n",
      " 4   caltrans_district_x                     217 non-null    object\n",
      " 5   is_public_entity                        219 non-null    bool  \n",
      " 6   ntd_id                                  179 non-null    object\n",
      " 7   reporting_category                      209 non-null    object\n",
      " 8   public_currently_operating_fixed_route  219 non-null    bool  \n",
      " 9   schedule_source_record_id               201 non-null    object\n",
      " 10  schedule_gtfs_dataset_key               201 non-null    object\n",
      " 11  name_schedule                           201 non-null    object\n",
      " 12  base64_url                              201 non-null    object\n",
      " 13  organization_source_record_id           201 non-null    object\n",
      " 14  organization_name                       201 non-null    object\n",
      " 15  caltrans_district_y                     201 non-null    object\n",
      " 16  reporter_type                           154 non-null    object\n",
      " 17  primary_uza_name                        121 non-null    object\n",
      " 18  voms_pt                                 127 non-null    Int64 \n",
      " 19  voms_do                                 61 non-null     Int64 \n",
      " 20  gtfs_dataset_key                        201 non-null    object\n",
      " 21  feed_key                                201 non-null    object\n",
      "dtypes: Int64(2), bool(2), object(18)\n",
      "memory usage: 36.8+ KB\n"
     ]
    },
    {
     "data": {
      "text/plain": [
       "None"
      ]
     },
     "metadata": {},
     "output_type": "display_data"
    },
    {
     "data": {
      "text/html": [
       "<div>\n",
       "<style scoped>\n",
       "    .dataframe tbody tr th:only-of-type {\n",
       "        vertical-align: middle;\n",
       "    }\n",
       "\n",
       "    .dataframe tbody tr th {\n",
       "        vertical-align: top;\n",
       "    }\n",
       "\n",
       "    .dataframe thead th {\n",
       "        text-align: right;\n",
       "    }\n",
       "</style>\n",
       "<table border=\"1\" class=\"dataframe\">\n",
       "  <thead>\n",
       "    <tr style=\"text-align: right;\">\n",
       "      <th></th>\n",
       "      <th>key_orgs</th>\n",
       "      <th>source_record_id</th>\n",
       "      <th>name_orgs</th>\n",
       "      <th>organization_type</th>\n",
       "      <th>caltrans_district_x</th>\n",
       "      <th>is_public_entity</th>\n",
       "      <th>ntd_id</th>\n",
       "      <th>reporting_category</th>\n",
       "      <th>public_currently_operating_fixed_route</th>\n",
       "      <th>schedule_source_record_id</th>\n",
       "      <th>schedule_gtfs_dataset_key</th>\n",
       "      <th>name_schedule</th>\n",
       "      <th>base64_url</th>\n",
       "      <th>organization_source_record_id</th>\n",
       "      <th>organization_name</th>\n",
       "      <th>caltrans_district_y</th>\n",
       "      <th>reporter_type</th>\n",
       "      <th>primary_uza_name</th>\n",
       "      <th>voms_pt</th>\n",
       "      <th>voms_do</th>\n",
       "      <th>gtfs_dataset_key</th>\n",
       "      <th>feed_key</th>\n",
       "    </tr>\n",
       "  </thead>\n",
       "  <tbody>\n",
       "    <tr>\n",
       "      <th>0</th>\n",
       "      <td>c734d54d15c1947dc0cf3c4605390d25</td>\n",
       "      <td>recS1JKEz73Hev8pJ</td>\n",
       "      <td>University of California, Davis</td>\n",
       "      <td>University - Public</td>\n",
       "      <td>03 - Marysville</td>\n",
       "      <td>False</td>\n",
       "      <td>90142</td>\n",
       "      <td>Core</td>\n",
       "      <td>True</td>\n",
       "      <td>recpwl8uJU04SPbWS</td>\n",
       "      <td>d2b09fbd392b28d767c28ea26529b0cd</td>\n",
       "      <td>Unitrans Schedule</td>\n",
       "      <td>aHR0cHM6Ly91bml0cmFucy51Y2RhdmlzLmVkdS9tZWRpYS9ndGZzL1VuaXRyYW5zX0dURlMuemlw</td>\n",
       "      <td>recS1JKEz73Hev8pJ</td>\n",
       "      <td>University of California, Davis</td>\n",
       "      <td>03 - Marysville</td>\n",
       "      <td>Full Reporter</td>\n",
       "      <td>Davis, CA</td>\n",
       "      <td>&lt;NA&gt;</td>\n",
       "      <td>25</td>\n",
       "      <td>d2b09fbd392b28d767c28ea26529b0cd</td>\n",
       "      <td>30df8787b189ff9c8a449a1b3d700296</td>\n",
       "    </tr>\n",
       "    <tr>\n",
       "      <th>1</th>\n",
       "      <td>1d03fdbc2e4dfd044465b4437e70c9e0</td>\n",
       "      <td>recQRoE5mcCn6kdti</td>\n",
       "      <td>POINT</td>\n",
       "      <td>Independent Agency</td>\n",
       "      <td>01 - Eureka</td>\n",
       "      <td>True</td>\n",
       "      <td>None</td>\n",
       "      <td>Other Public Transit</td>\n",
       "      <td>True</td>\n",
       "      <td>recWPANXTwn1u1i2l</td>\n",
       "      <td>0d04ec340550e5a62b031a8e125e6658</td>\n",
       "      <td>Oregon POINT</td>\n",
       "      <td>aHR0cHM6Ly9vcmVnb24tZ3Rmcy50cmlsbGl1bXRyYW5zaXQuY29tL2d0ZnNfZGF0YS9wb2ludC1vci11cy9wb2ludC1vci11cy56aXA=</td>\n",
       "      <td>recQRoE5mcCn6kdti</td>\n",
       "      <td>POINT</td>\n",
       "      <td>01 - Eureka</td>\n",
       "      <td>None</td>\n",
       "      <td>None</td>\n",
       "      <td>&lt;NA&gt;</td>\n",
       "      <td>&lt;NA&gt;</td>\n",
       "      <td>0d04ec340550e5a62b031a8e125e6658</td>\n",
       "      <td>54a3956fcd7b59a3db76007d2f53a5dc</td>\n",
       "    </tr>\n",
       "    <tr>\n",
       "      <th>2</th>\n",
       "      <td>e8f13022ac8ecff976188979ac903d4a</td>\n",
       "      <td>recKsb5FnJy70up78</td>\n",
       "      <td>Amtrak</td>\n",
       "      <td>Federal Government</td>\n",
       "      <td>03 - Marysville</td>\n",
       "      <td>True</td>\n",
       "      <td>None</td>\n",
       "      <td>Other Public Transit</td>\n",
       "      <td>True</td>\n",
       "      <td>NaN</td>\n",
       "      <td>NaN</td>\n",
       "      <td>NaN</td>\n",
       "      <td>NaN</td>\n",
       "      <td>NaN</td>\n",
       "      <td>NaN</td>\n",
       "      <td>NaN</td>\n",
       "      <td>NaN</td>\n",
       "      <td>NaN</td>\n",
       "      <td>&lt;NA&gt;</td>\n",
       "      <td>&lt;NA&gt;</td>\n",
       "      <td>NaN</td>\n",
       "      <td>NaN</td>\n",
       "    </tr>\n",
       "    <tr>\n",
       "      <th>3</th>\n",
       "      <td>f269f25681d3ed293401b3b8027f89a8</td>\n",
       "      <td>recG5aXxDPI645S86</td>\n",
       "      <td>OmniTrans</td>\n",
       "      <td>Independent Agency</td>\n",
       "      <td>08 - San Bernardino</td>\n",
       "      <td>True</td>\n",
       "      <td>90029</td>\n",
       "      <td>Core</td>\n",
       "      <td>True</td>\n",
       "      <td>recofAxeH23aWcuAP</td>\n",
       "      <td>95cb514215c61ca578b01d885f35ec0a</td>\n",
       "      <td>OmniTrans Schedule</td>\n",
       "      <td>aHR0cHM6Ly93d3cub21uaXRyYW5zLm9yZy9nb29nbGUvZ29vZ2xlX3RyYW5zaXQuemlw</td>\n",
       "      <td>recG5aXxDPI645S86</td>\n",
       "      <td>OmniTrans</td>\n",
       "      <td>08 - San Bernardino</td>\n",
       "      <td>Full Reporter</td>\n",
       "      <td>Riverside--San Bernardino, CA</td>\n",
       "      <td>44</td>\n",
       "      <td>99</td>\n",
       "      <td>95cb514215c61ca578b01d885f35ec0a</td>\n",
       "      <td>b4192f0e3b1746c45066f5016ced9b5b</td>\n",
       "    </tr>\n",
       "    <tr>\n",
       "      <th>4</th>\n",
       "      <td>d4d53f5a85cec17582000a9e67a7d642</td>\n",
       "      <td>reczvlrgxLUDiBgAy</td>\n",
       "      <td>Commute.org</td>\n",
       "      <td>Joint Powers Agency</td>\n",
       "      <td>04 - Oakland</td>\n",
       "      <td>True</td>\n",
       "      <td>None</td>\n",
       "      <td>Other Public Transit</td>\n",
       "      <td>True</td>\n",
       "      <td>rec9wl7HVaxR79ayw</td>\n",
       "      <td>c2a40ce92e76ec5beb88c40df3cd3a67</td>\n",
       "      <td>Bay Area 511 Commute.org Schedule</td>\n",
       "      <td>aHR0cHM6Ly9hcGkuNTExLm9yZy90cmFuc2l0L2RhdGFmZWVkcz9vcGVyYXRvcl9pZD1DTQ==</td>\n",
       "      <td>reczvlrgxLUDiBgAy</td>\n",
       "      <td>Commute.org</td>\n",
       "      <td>04 - Oakland</td>\n",
       "      <td>None</td>\n",
       "      <td>None</td>\n",
       "      <td>&lt;NA&gt;</td>\n",
       "      <td>&lt;NA&gt;</td>\n",
       "      <td>c2a40ce92e76ec5beb88c40df3cd3a67</td>\n",
       "      <td>7de3f9edc864d6923e3664e3efd2f0ff</td>\n",
       "    </tr>\n",
       "  </tbody>\n",
       "</table>\n",
       "</div>"
      ],
      "text/plain": [
       "                           key_orgs   source_record_id  \\\n",
       "0  c734d54d15c1947dc0cf3c4605390d25  recS1JKEz73Hev8pJ   \n",
       "1  1d03fdbc2e4dfd044465b4437e70c9e0  recQRoE5mcCn6kdti   \n",
       "2  e8f13022ac8ecff976188979ac903d4a  recKsb5FnJy70up78   \n",
       "3  f269f25681d3ed293401b3b8027f89a8  recG5aXxDPI645S86   \n",
       "4  d4d53f5a85cec17582000a9e67a7d642  reczvlrgxLUDiBgAy   \n",
       "\n",
       "                         name_orgs    organization_type  caltrans_district_x  \\\n",
       "0  University of California, Davis  University - Public      03 - Marysville   \n",
       "1                            POINT   Independent Agency          01 - Eureka   \n",
       "2                           Amtrak   Federal Government      03 - Marysville   \n",
       "3                        OmniTrans   Independent Agency  08 - San Bernardino   \n",
       "4                      Commute.org  Joint Powers Agency         04 - Oakland   \n",
       "\n",
       "   is_public_entity ntd_id    reporting_category  \\\n",
       "0             False  90142                  Core   \n",
       "1              True   None  Other Public Transit   \n",
       "2              True   None  Other Public Transit   \n",
       "3              True  90029                  Core   \n",
       "4              True   None  Other Public Transit   \n",
       "\n",
       "   public_currently_operating_fixed_route schedule_source_record_id  \\\n",
       "0                                    True         recpwl8uJU04SPbWS   \n",
       "1                                    True         recWPANXTwn1u1i2l   \n",
       "2                                    True                       NaN   \n",
       "3                                    True         recofAxeH23aWcuAP   \n",
       "4                                    True         rec9wl7HVaxR79ayw   \n",
       "\n",
       "          schedule_gtfs_dataset_key                      name_schedule  \\\n",
       "0  d2b09fbd392b28d767c28ea26529b0cd                  Unitrans Schedule   \n",
       "1  0d04ec340550e5a62b031a8e125e6658                       Oregon POINT   \n",
       "2                               NaN                                NaN   \n",
       "3  95cb514215c61ca578b01d885f35ec0a                 OmniTrans Schedule   \n",
       "4  c2a40ce92e76ec5beb88c40df3cd3a67  Bay Area 511 Commute.org Schedule   \n",
       "\n",
       "                                                                                                 base64_url  \\\n",
       "0                              aHR0cHM6Ly91bml0cmFucy51Y2RhdmlzLmVkdS9tZWRpYS9ndGZzL1VuaXRyYW5zX0dURlMuemlw   \n",
       "1  aHR0cHM6Ly9vcmVnb24tZ3Rmcy50cmlsbGl1bXRyYW5zaXQuY29tL2d0ZnNfZGF0YS9wb2ludC1vci11cy9wb2ludC1vci11cy56aXA=   \n",
       "2                                                                                                       NaN   \n",
       "3                                      aHR0cHM6Ly93d3cub21uaXRyYW5zLm9yZy9nb29nbGUvZ29vZ2xlX3RyYW5zaXQuemlw   \n",
       "4                                  aHR0cHM6Ly9hcGkuNTExLm9yZy90cmFuc2l0L2RhdGFmZWVkcz9vcGVyYXRvcl9pZD1DTQ==   \n",
       "\n",
       "  organization_source_record_id                organization_name  \\\n",
       "0             recS1JKEz73Hev8pJ  University of California, Davis   \n",
       "1             recQRoE5mcCn6kdti                            POINT   \n",
       "2                           NaN                              NaN   \n",
       "3             recG5aXxDPI645S86                        OmniTrans   \n",
       "4             reczvlrgxLUDiBgAy                      Commute.org   \n",
       "\n",
       "   caltrans_district_y  reporter_type               primary_uza_name  voms_pt  \\\n",
       "0      03 - Marysville  Full Reporter                      Davis, CA     <NA>   \n",
       "1          01 - Eureka           None                           None     <NA>   \n",
       "2                  NaN            NaN                            NaN     <NA>   \n",
       "3  08 - San Bernardino  Full Reporter  Riverside--San Bernardino, CA       44   \n",
       "4         04 - Oakland           None                           None     <NA>   \n",
       "\n",
       "   voms_do                  gtfs_dataset_key                          feed_key  \n",
       "0       25  d2b09fbd392b28d767c28ea26529b0cd  30df8787b189ff9c8a449a1b3d700296  \n",
       "1     <NA>  0d04ec340550e5a62b031a8e125e6658  54a3956fcd7b59a3db76007d2f53a5dc  \n",
       "2     <NA>                               NaN                               NaN  \n",
       "3       99  95cb514215c61ca578b01d885f35ec0a  b4192f0e3b1746c45066f5016ced9b5b  \n",
       "4     <NA>  c2a40ce92e76ec5beb88c40df3cd3a67  7de3f9edc864d6923e3664e3efd2f0ff  "
      ]
     },
     "metadata": {},
     "output_type": "display_data"
    }
   ],
   "source": [
    "display(\n",
    "    orgs_to_feed_xwalk.info(),\n",
    "    orgs_to_feed_xwalk.head()\n",
    ")"
   ]
  },
  {
   "cell_type": "markdown",
   "id": "3c488e9c-f22e-4c8a-b624-7f1f6990e781",
   "metadata": {},
   "source": [
    "## A: Number of Non-Revenue vehicles vs NTD ridership\n"
   ]
  },
  {
   "cell_type": "code",
   "execution_count": 32,
   "id": "1f9b0298-9577-406d-ae5a-c329d5f5b016",
   "metadata": {},
   "outputs": [
    {
     "data": {
      "text/plain": [
       "ntd_id                     object\n",
       "agency                     object\n",
       "city                       object\n",
       "organization_type          object\n",
       "reporter_type              object\n",
       "total_revenue_vehicles    float64\n",
       "total_service_vehicles    float64\n",
       "dtype: object"
      ]
     },
     "metadata": {},
     "output_type": "display_data"
    },
    {
     "data": {
      "text/plain": [
       "ntd_id                       object\n",
       "agency                       object\n",
       "unlinked_passenger_trips    float64\n",
       "vehicle_revenue_hours       float64\n",
       "dtype: object"
      ]
     },
     "metadata": {},
     "output_type": "display_data"
    }
   ],
   "source": [
    "display(\n",
    "    ntd_service_veh.dtypes,\n",
    "    upt_by_agency.dtypes,\n",
    ")"
   ]
  },
  {
   "cell_type": "code",
   "execution_count": 39,
   "id": "0f8a4329-4adc-4788-9272-2e1d1a3bac8b",
   "metadata": {},
   "outputs": [
    {
     "data": {
      "text/html": [
       "<div>\n",
       "<style scoped>\n",
       "    .dataframe tbody tr th:only-of-type {\n",
       "        vertical-align: middle;\n",
       "    }\n",
       "\n",
       "    .dataframe tbody tr th {\n",
       "        vertical-align: top;\n",
       "    }\n",
       "\n",
       "    .dataframe thead th {\n",
       "        text-align: right;\n",
       "    }\n",
       "</style>\n",
       "<table border=\"1\" class=\"dataframe\">\n",
       "  <thead>\n",
       "    <tr style=\"text-align: right;\">\n",
       "      <th></th>\n",
       "      <th>ntd_id</th>\n",
       "      <th>agency</th>\n",
       "      <th>city</th>\n",
       "      <th>organization_type</th>\n",
       "      <th>reporter_type</th>\n",
       "      <th>total_revenue_vehicles</th>\n",
       "      <th>total_service_vehicles</th>\n",
       "      <th>unlinked_passenger_trips</th>\n",
       "      <th>vehicle_revenue_hours</th>\n",
       "      <th>_merge</th>\n",
       "    </tr>\n",
       "  </thead>\n",
       "  <tbody>\n",
       "    <tr>\n",
       "      <th>0</th>\n",
       "      <td>90003</td>\n",
       "      <td>San Francisco Bay Area Rapid Transit District, dba: SF BART</td>\n",
       "      <td>Oakland</td>\n",
       "      <td>Independent Public Agency or Authority of Transit Service</td>\n",
       "      <td>Full Reporter</td>\n",
       "      <td>846.0</td>\n",
       "      <td>660.0</td>\n",
       "      <td>50764402.0</td>\n",
       "      <td>2724074.0</td>\n",
       "      <td>both</td>\n",
       "    </tr>\n",
       "    <tr>\n",
       "      <th>1</th>\n",
       "      <td>90004</td>\n",
       "      <td>Golden Empire Transit District</td>\n",
       "      <td>Bakersfield</td>\n",
       "      <td>Independent Public Agency or Authority of Transit Service</td>\n",
       "      <td>Full Reporter</td>\n",
       "      <td>137.0</td>\n",
       "      <td>26.0</td>\n",
       "      <td>3293593.0</td>\n",
       "      <td>289338.0</td>\n",
       "      <td>both</td>\n",
       "    </tr>\n",
       "    <tr>\n",
       "      <th>2</th>\n",
       "      <td>90006</td>\n",
       "      <td>Santa Cruz Metropolitan Transit District</td>\n",
       "      <td>Santa Cruz</td>\n",
       "      <td>Independent Public Agency or Authority of Transit Service</td>\n",
       "      <td>Full Reporter</td>\n",
       "      <td>125.0</td>\n",
       "      <td>41.0</td>\n",
       "      <td>3350026.0</td>\n",
       "      <td>214748.0</td>\n",
       "      <td>both</td>\n",
       "    </tr>\n",
       "    <tr>\n",
       "      <th>3</th>\n",
       "      <td>90008</td>\n",
       "      <td>City of Santa Monica, dba: Big Blue Bus</td>\n",
       "      <td>Santa Monica</td>\n",
       "      <td>City, County or Local Government Unit or Department of Transportation</td>\n",
       "      <td>Full Reporter</td>\n",
       "      <td>221.0</td>\n",
       "      <td>20.0</td>\n",
       "      <td>7767725.0</td>\n",
       "      <td>416944.0</td>\n",
       "      <td>both</td>\n",
       "    </tr>\n",
       "    <tr>\n",
       "      <th>4</th>\n",
       "      <td>90009</td>\n",
       "      <td>San Mateo County Transit District, dba: SamTrans</td>\n",
       "      <td>San Carlos</td>\n",
       "      <td>Independent Public Agency or Authority of Transit Service</td>\n",
       "      <td>Full Reporter</td>\n",
       "      <td>434.0</td>\n",
       "      <td>78.0</td>\n",
       "      <td>8773845.0</td>\n",
       "      <td>651839.0</td>\n",
       "      <td>both</td>\n",
       "    </tr>\n",
       "  </tbody>\n",
       "</table>\n",
       "</div>"
      ],
      "text/plain": [
       "  ntd_id                                                       agency  \\\n",
       "0  90003  San Francisco Bay Area Rapid Transit District, dba: SF BART   \n",
       "1  90004                               Golden Empire Transit District   \n",
       "2  90006                     Santa Cruz Metropolitan Transit District   \n",
       "3  90008                      City of Santa Monica, dba: Big Blue Bus   \n",
       "4  90009             San Mateo County Transit District, dba: SamTrans   \n",
       "\n",
       "           city  \\\n",
       "0       Oakland   \n",
       "1   Bakersfield   \n",
       "2    Santa Cruz   \n",
       "3  Santa Monica   \n",
       "4    San Carlos   \n",
       "\n",
       "                                                       organization_type  \\\n",
       "0              Independent Public Agency or Authority of Transit Service   \n",
       "1              Independent Public Agency or Authority of Transit Service   \n",
       "2              Independent Public Agency or Authority of Transit Service   \n",
       "3  City, County or Local Government Unit or Department of Transportation   \n",
       "4              Independent Public Agency or Authority of Transit Service   \n",
       "\n",
       "   reporter_type  total_revenue_vehicles  total_service_vehicles  \\\n",
       "0  Full Reporter                   846.0                   660.0   \n",
       "1  Full Reporter                   137.0                    26.0   \n",
       "2  Full Reporter                   125.0                    41.0   \n",
       "3  Full Reporter                   221.0                    20.0   \n",
       "4  Full Reporter                   434.0                    78.0   \n",
       "\n",
       "   unlinked_passenger_trips  vehicle_revenue_hours _merge  \n",
       "0                50764402.0              2724074.0   both  \n",
       "1                 3293593.0               289338.0   both  \n",
       "2                 3350026.0               214748.0   both  \n",
       "3                 7767725.0               416944.0   both  \n",
       "4                 8773845.0               651839.0   both  "
      ]
     },
     "execution_count": 39,
     "metadata": {},
     "output_type": "execute_result"
    }
   ],
   "source": [
    "# join ntd_service_veh and upt_by_agency\n",
    "\n",
    "service_veh_upt = ntd_service_veh.merge(upt_by_agency, on=[\"ntd_id\",\"agency\"], how=\"inner\", indicator=True)\n",
    "service_veh_upt.head()"
   ]
  },
  {
   "cell_type": "code",
   "execution_count": 38,
   "id": "c6d901f1-a1e2-45e1-bb5e-10586bf82f73",
   "metadata": {},
   "outputs": [
    {
     "data": {
      "text/plain": [
       "<AxesSubplot:xlabel='agency'>"
      ]
     },
     "execution_count": 38,
     "metadata": {},
     "output_type": "execute_result"
    },
    {
     "data": {
      "image/png": "[encoded data removed]",
      "text/plain": [
       "<Figure size 640x480 with 1 Axes>"
      ]
     },
     "metadata": {},
     "output_type": "display_data"
    }
   ],
   "source": [
    "service_veh_upt[:20].plot(\n",
    "    x = \"agency\",\n",
    "    y = [\"total_service_vehicles\", \"unlinked_passenger_trips\",\"vehicle_revenue_hours\"],\n",
    "    kind = \"bar\",\n",
    "    #secondary_y = \"unlinked_passenger_trips\"\n",
    "    \n",
    ")"
   ]
  },
  {
   "cell_type": "code",
   "execution_count": 42,
   "id": "4e51ac35-9f0f-47e7-983a-aea82af7caf2",
   "metadata": {},
   "outputs": [],
   "source": [
    "z_score = service_veh_upt[[\n",
    "    \"vehicle_revenue_hours\",\n",
    "    \"total_service_vehicles\",\n",
    "    \"unlinked_passenger_trips\"\n",
    "]].apply(zscore)"
   ]
  },
  {
   "cell_type": "code",
   "execution_count": 45,
   "id": "48e977c9-9d66-49f2-b4fb-3e9b22070ac3",
   "metadata": {},
   "outputs": [],
   "source": [
    "threshold = 3\n",
    "service_v_upt_no_outliers = service_veh_upt[(z_score.abs() < threshold).all(axis=1)]"
   ]
  },
  {
   "cell_type": "code",
   "execution_count": 52,
   "id": "c1a4cabb-4e74-4c45-b27f-61b34a104a80",
   "metadata": {},
   "outputs": [
    {
     "data": {
      "text/plain": [
       "'initial data'"
      ]
     },
     "metadata": {},
     "output_type": "display_data"
    },
    {
     "data": {
      "text/html": [
       "<div>\n",
       "<style scoped>\n",
       "    .dataframe tbody tr th:only-of-type {\n",
       "        vertical-align: middle;\n",
       "    }\n",
       "\n",
       "    .dataframe tbody tr th {\n",
       "        vertical-align: top;\n",
       "    }\n",
       "\n",
       "    .dataframe thead th {\n",
       "        text-align: right;\n",
       "    }\n",
       "</style>\n",
       "<table border=\"1\" class=\"dataframe\">\n",
       "  <thead>\n",
       "    <tr style=\"text-align: right;\">\n",
       "      <th></th>\n",
       "      <th>total_revenue_vehicles</th>\n",
       "      <th>total_service_vehicles</th>\n",
       "      <th>unlinked_passenger_trips</th>\n",
       "      <th>vehicle_revenue_hours</th>\n",
       "    </tr>\n",
       "  </thead>\n",
       "  <tbody>\n",
       "    <tr>\n",
       "      <th>count</th>\n",
       "      <td>209.000000</td>\n",
       "      <td>209.000000</td>\n",
       "      <td>2.090000e+02</td>\n",
       "      <td>2.090000e+02</td>\n",
       "    </tr>\n",
       "    <tr>\n",
       "      <th>mean</th>\n",
       "      <td>113.411483</td>\n",
       "      <td>25.473684</td>\n",
       "      <td>3.997801e+06</td>\n",
       "      <td>1.974787e+05</td>\n",
       "    </tr>\n",
       "    <tr>\n",
       "      <th>std</th>\n",
       "      <td>347.217418</td>\n",
       "      <td>123.424808</td>\n",
       "      <td>2.235365e+07</td>\n",
       "      <td>7.133054e+05</td>\n",
       "    </tr>\n",
       "    <tr>\n",
       "      <th>min</th>\n",
       "      <td>1.000000</td>\n",
       "      <td>0.000000</td>\n",
       "      <td>2.390000e+02</td>\n",
       "      <td>1.290000e+02</td>\n",
       "    </tr>\n",
       "    <tr>\n",
       "      <th>25%</th>\n",
       "      <td>8.000000</td>\n",
       "      <td>0.000000</td>\n",
       "      <td>2.823200e+04</td>\n",
       "      <td>6.810000e+03</td>\n",
       "    </tr>\n",
       "    <tr>\n",
       "      <th>50%</th>\n",
       "      <td>20.000000</td>\n",
       "      <td>1.000000</td>\n",
       "      <td>1.255200e+05</td>\n",
       "      <td>2.407500e+04</td>\n",
       "    </tr>\n",
       "    <tr>\n",
       "      <th>75%</th>\n",
       "      <td>60.000000</td>\n",
       "      <td>8.000000</td>\n",
       "      <td>8.388670e+05</td>\n",
       "      <td>9.376300e+04</td>\n",
       "    </tr>\n",
       "    <tr>\n",
       "      <th>max</th>\n",
       "      <td>4060.000000</td>\n",
       "      <td>1498.000000</td>\n",
       "      <td>2.763024e+08</td>\n",
       "      <td>8.220160e+06</td>\n",
       "    </tr>\n",
       "  </tbody>\n",
       "</table>\n",
       "</div>"
      ],
      "text/plain": [
       "       total_revenue_vehicles  total_service_vehicles  \\\n",
       "count              209.000000              209.000000   \n",
       "mean               113.411483               25.473684   \n",
       "std                347.217418              123.424808   \n",
       "min                  1.000000                0.000000   \n",
       "25%                  8.000000                0.000000   \n",
       "50%                 20.000000                1.000000   \n",
       "75%                 60.000000                8.000000   \n",
       "max               4060.000000             1498.000000   \n",
       "\n",
       "       unlinked_passenger_trips  vehicle_revenue_hours  \n",
       "count              2.090000e+02           2.090000e+02  \n",
       "mean               3.997801e+06           1.974787e+05  \n",
       "std                2.235365e+07           7.133054e+05  \n",
       "min                2.390000e+02           1.290000e+02  \n",
       "25%                2.823200e+04           6.810000e+03  \n",
       "50%                1.255200e+05           2.407500e+04  \n",
       "75%                8.388670e+05           9.376300e+04  \n",
       "max                2.763024e+08           8.220160e+06  "
      ]
     },
     "metadata": {},
     "output_type": "display_data"
    },
    {
     "data": {
      "text/plain": [
       "'outliers removed'"
      ]
     },
     "metadata": {},
     "output_type": "display_data"
    },
    {
     "data": {
      "text/html": [
       "<div>\n",
       "<style scoped>\n",
       "    .dataframe tbody tr th:only-of-type {\n",
       "        vertical-align: middle;\n",
       "    }\n",
       "\n",
       "    .dataframe tbody tr th {\n",
       "        vertical-align: top;\n",
       "    }\n",
       "\n",
       "    .dataframe thead th {\n",
       "        text-align: right;\n",
       "    }\n",
       "</style>\n",
       "<table border=\"1\" class=\"dataframe\">\n",
       "  <thead>\n",
       "    <tr style=\"text-align: right;\">\n",
       "      <th></th>\n",
       "      <th>total_revenue_vehicles</th>\n",
       "      <th>total_service_vehicles</th>\n",
       "      <th>unlinked_passenger_trips</th>\n",
       "      <th>vehicle_revenue_hours</th>\n",
       "    </tr>\n",
       "  </thead>\n",
       "  <tbody>\n",
       "    <tr>\n",
       "      <th>count</th>\n",
       "      <td>205.000000</td>\n",
       "      <td>205.000000</td>\n",
       "      <td>2.050000e+02</td>\n",
       "      <td>2.050000e+02</td>\n",
       "    </tr>\n",
       "    <tr>\n",
       "      <th>mean</th>\n",
       "      <td>79.434146</td>\n",
       "      <td>12.682927</td>\n",
       "      <td>1.467486e+06</td>\n",
       "      <td>1.192848e+05</td>\n",
       "    </tr>\n",
       "    <tr>\n",
       "      <th>std</th>\n",
       "      <td>173.081761</td>\n",
       "      <td>38.042056</td>\n",
       "      <td>4.351655e+06</td>\n",
       "      <td>3.015260e+05</td>\n",
       "    </tr>\n",
       "    <tr>\n",
       "      <th>min</th>\n",
       "      <td>1.000000</td>\n",
       "      <td>0.000000</td>\n",
       "      <td>2.390000e+02</td>\n",
       "      <td>1.290000e+02</td>\n",
       "    </tr>\n",
       "    <tr>\n",
       "      <th>25%</th>\n",
       "      <td>8.000000</td>\n",
       "      <td>0.000000</td>\n",
       "      <td>2.792900e+04</td>\n",
       "      <td>6.590000e+03</td>\n",
       "    </tr>\n",
       "    <tr>\n",
       "      <th>50%</th>\n",
       "      <td>20.000000</td>\n",
       "      <td>1.000000</td>\n",
       "      <td>1.198630e+05</td>\n",
       "      <td>2.345900e+04</td>\n",
       "    </tr>\n",
       "    <tr>\n",
       "      <th>75%</th>\n",
       "      <td>60.000000</td>\n",
       "      <td>8.000000</td>\n",
       "      <td>7.392380e+05</td>\n",
       "      <td>8.936800e+04</td>\n",
       "    </tr>\n",
       "    <tr>\n",
       "      <th>max</th>\n",
       "      <td>1289.000000</td>\n",
       "      <td>356.000000</td>\n",
       "      <td>3.519006e+07</td>\n",
       "      <td>2.076903e+06</td>\n",
       "    </tr>\n",
       "  </tbody>\n",
       "</table>\n",
       "</div>"
      ],
      "text/plain": [
       "       total_revenue_vehicles  total_service_vehicles  \\\n",
       "count              205.000000              205.000000   \n",
       "mean                79.434146               12.682927   \n",
       "std                173.081761               38.042056   \n",
       "min                  1.000000                0.000000   \n",
       "25%                  8.000000                0.000000   \n",
       "50%                 20.000000                1.000000   \n",
       "75%                 60.000000                8.000000   \n",
       "max               1289.000000              356.000000   \n",
       "\n",
       "       unlinked_passenger_trips  vehicle_revenue_hours  \n",
       "count              2.050000e+02           2.050000e+02  \n",
       "mean               1.467486e+06           1.192848e+05  \n",
       "std                4.351655e+06           3.015260e+05  \n",
       "min                2.390000e+02           1.290000e+02  \n",
       "25%                2.792900e+04           6.590000e+03  \n",
       "50%                1.198630e+05           2.345900e+04  \n",
       "75%                7.392380e+05           8.936800e+04  \n",
       "max                3.519006e+07           2.076903e+06  "
      ]
     },
     "metadata": {},
     "output_type": "display_data"
    }
   ],
   "source": [
    "display(\n",
    "    \"initial data\",\n",
    "    service_veh_upt.describe(),\n",
    "    \"outliers removed\",\n",
    "    service_v_upt_no_outliers.describe()\n",
    ")\n",
    "# can see that the min/max values of each col were adjusted"
   ]
  },
  {
   "cell_type": "code",
   "execution_count": 51,
   "id": "7c24fd79-a43c-4ec6-9b25-ba9aec5f6b1f",
   "metadata": {},
   "outputs": [
    {
     "data": {
      "text/html": [
       "\n",
       "<style>\n",
       "  #altair-viz-1d6725942f264829bf3fd72788f949fb.vega-embed {\n",
       "    width: 100%;\n",
       "    display: flex;\n",
       "  }\n",
       "\n",
       "  #altair-viz-1d6725942f264829bf3fd72788f949fb.vega-embed details,\n",
       "  #altair-viz-1d6725942f264829bf3fd72788f949fb.vega-embed details summary {\n",
       "    position: relative;\n",
       "  }\n",
       "</style>\n",
       "<div id=\"altair-viz-1d6725942f264829bf3fd72788f949fb\"></div>\n",
       "<script type=\"text/javascript\">\n",
       "  var VEGA_DEBUG = (typeof VEGA_DEBUG == \"undefined\") ? {} : VEGA_DEBUG;\n",
       "  (function(spec, embedOpt){\n",
       "    let outputDiv = document.currentScript.previousElementSibling;\n",
       "    if (outputDiv.id !== \"altair-viz-1d6725942f264829bf3fd72788f949fb\") {\n",
       "      outputDiv = document.getElementById(\"altair-viz-1d6725942f264829bf3fd72788f949fb\");\n",
       "    }\n",
       "    const paths = {\n",
       "      \"vega\": \"https://cdn.jsdelivr.net/npm/vega@5?noext\",\n",
       "      \"vega-lib\": \"https://cdn.jsdelivr.net/npm/vega-lib?noext\",\n",
       "      \"vega-lite\": \"https://cdn.jsdelivr.net/npm/vega-lite@5.17.0?noext\",\n",
       "      \"vega-embed\": \"https://cdn.jsdelivr.net/npm/vega-embed@6?noext\",\n",
       "    };\n",
       "\n",
       "    function maybeLoadScript(lib, version) {\n",
       "      var key = `${lib.replace(\"-\", \"\")}_version`;\n",
       "      return (VEGA_DEBUG[key] == version) ?\n",
       "        Promise.resolve(paths[lib]) :\n",
       "        new Promise(function(resolve, reject) {\n",
       "          var s = document.createElement('script');\n",
       "          document.getElementsByTagName(\"head\")[0].appendChild(s);\n",
       "          s.async = true;\n",
       "          s.onload = () => {\n",
       "            VEGA_DEBUG[key] = version;\n",
       "            return resolve(paths[lib]);\n",
       "          };\n",
       "          s.onerror = () => reject(`Error loading script: ${paths[lib]}`);\n",
       "          s.src = paths[lib];\n",
       "        });\n",
       "    }\n",
       "\n",
       "    function showError(err) {\n",
       "      outputDiv.innerHTML = `<div class=\"error\" style=\"color:red;\">${err}</div>`;\n",
       "      throw err;\n",
       "    }\n",
       "\n",
       "    function displayChart(vegaEmbed) {\n",
       "      vegaEmbed(outputDiv, spec, embedOpt)\n",
       "        .catch(err => showError(`Javascript Error: ${err.message}<br>This usually means there's a typo in your chart specification. See the javascript console for the full traceback.`));\n",
       "    }\n",
       "\n",
       "    if(typeof define === \"function\" && define.amd) {\n",
       "      requirejs.config({paths});\n",
       "      require([\"vega-embed\"], displayChart, err => showError(`Error loading script: ${err.message}`));\n",
       "    } else {\n",
       "      maybeLoadScript(\"vega\", \"5\")\n",
       "        .then(() => maybeLoadScript(\"vega-lite\", \"5.17.0\"))\n",
       "        .then(() => maybeLoadScript(\"vega-embed\", \"6\"))\n",
       "        .catch(showError)\n",
       "        .then(() => displayChart(vegaEmbed));\n",
       "    }\n",
       "  })({\"config\": {\"view\": {\"continuousWidth\": 300, \"continuousHeight\": 300}}, \"layer\": [{\"mark\": {\"type\": \"point\"}, \"encoding\": {\"x\": {\"field\": \"total_service_vehicles\", \"type\": \"quantitative\"}, \"y\": {\"field\": \"unlinked_passenger_trips\", \"type\": \"quantitative\"}}}, {\"mark\": {\"type\": \"line\"}, \"encoding\": {\"x\": {\"field\": \"total_service_vehicles\", \"type\": \"quantitative\"}, \"y\": {\"field\": \"unlinked_passenger_trips\", \"type\": \"quantitative\"}}, \"transform\": [{\"on\": \"total_service_vehicles\", \"regression\": \"unlinked_passenger_trips\"}]}], \"data\": {\"name\": \"data-31330c6216f0c5a8004e2b672b93a87d\"}, \"$schema\": \"https://vega.github.io/schema/vega-lite/v5.17.0.json\", \"datasets\": {\"data-31330c6216f0c5a8004e2b672b93a87d\": [{\"ntd_id\": \"90004\", \"agency\": \"Golden Empire Transit District\", \"city\": \"Bakersfield\", \"organization_type\": \"Independent Public Agency or Authority of Transit Service\", \"reporter_type\": \"Full Reporter\", \"total_revenue_vehicles\": 137.0, \"total_service_vehicles\": 26.0, \"unlinked_passenger_trips\": 3293593.0, \"vehicle_revenue_hours\": 289338.0, \"_merge\": \"both\"}, {\"ntd_id\": \"90006\", \"agency\": \"Santa Cruz Metropolitan Transit District\", \"city\": \"Santa Cruz\", \"organization_type\": \"Independent Public Agency or Authority of Transit Service\", \"reporter_type\": \"Full Reporter\", \"total_revenue_vehicles\": 125.0, \"total_service_vehicles\": 41.0, \"unlinked_passenger_trips\": 3350026.0, \"vehicle_revenue_hours\": 214748.0, \"_merge\": \"both\"}, {\"ntd_id\": \"90008\", \"agency\": \"City of Santa Monica, dba: Big Blue Bus\", \"city\": \"Santa Monica\", \"organization_type\": \"City, County or Local Government Unit or Department of Transportation\", \"reporter_type\": \"Full Reporter\", \"total_revenue_vehicles\": 221.0, \"total_service_vehicles\": 20.0, \"unlinked_passenger_trips\": 7767725.0, \"vehicle_revenue_hours\": 416944.0, \"_merge\": \"both\"}, {\"ntd_id\": \"90009\", \"agency\": \"San Mateo County Transit District, dba: SamTrans\", \"city\": \"San Carlos\", \"organization_type\": \"Independent Public Agency or Authority of Transit Service\", \"reporter_type\": \"Full Reporter\", \"total_revenue_vehicles\": 434.0, \"total_service_vehicles\": 78.0, \"unlinked_passenger_trips\": 8773845.0, \"vehicle_revenue_hours\": 651839.0, \"_merge\": \"both\"}, {\"ntd_id\": \"90010\", \"agency\": \"City of Torrance, dba: Torrance Transit System\", \"city\": \"Torrance\", \"organization_type\": \"City, County or Local Government Unit or Department of Transportation\", \"reporter_type\": \"Full Reporter\", \"total_revenue_vehicles\": 99.0, \"total_service_vehicles\": 25.0, \"unlinked_passenger_trips\": 1840079.0, \"vehicle_revenue_hours\": 103526.0, \"_merge\": \"both\"}, {\"ntd_id\": \"90012\", \"agency\": \"San Joaquin Regional Transit District, dba: San Joaquin RTD\", \"city\": \"Stockton\", \"organization_type\": \"Independent Public Agency or Authority of Transit Service\", \"reporter_type\": \"Full Reporter\", \"total_revenue_vehicles\": 160.0, \"total_service_vehicles\": 40.0, \"unlinked_passenger_trips\": 2301789.0, \"vehicle_revenue_hours\": 197664.0, \"_merge\": \"both\"}, {\"ntd_id\": \"90013\", \"agency\": \"Santa Clara Valley Transportation Authority, dba: Valley Transportation Authority\", \"city\": \"San Jose\", \"organization_type\": \"Independent Public Agency or Authority of Transit Service\", \"reporter_type\": \"Full Reporter\", \"total_revenue_vehicles\": 737.0, \"total_service_vehicles\": 356.0, \"unlinked_passenger_trips\": 23853939.0, \"vehicle_revenue_hours\": 1733169.0, \"_merge\": \"both\"}, {\"ntd_id\": \"90014\", \"agency\": \"Alameda-Contra Costa Transit District, dba: AC Transit\", \"city\": \"Oakland\", \"organization_type\": \"Independent Public Agency or Authority of Transit Service\", \"reporter_type\": \"Full Reporter\", \"total_revenue_vehicles\": 799.0, \"total_service_vehicles\": 154.0, \"unlinked_passenger_trips\": 35190057.0, \"vehicle_revenue_hours\": 2047682.0, \"_merge\": \"both\"}, {\"ntd_id\": \"90016\", \"agency\": \"Golden Gate Bridge, Highway and Transportation District\", \"city\": \"San Francisco\", \"organization_type\": \"Independent Public Agency or Authority of Transit Service\", \"reporter_type\": \"Full Reporter\", \"total_revenue_vehicles\": 171.0, \"total_service_vehicles\": 91.0, \"unlinked_passenger_trips\": 2476565.0, \"vehicle_revenue_hours\": 144140.0, \"_merge\": \"both\"}, {\"ntd_id\": \"90017\", \"agency\": \"City of Santa Rosa, dba: Santa Rosa CityBus\", \"city\": \"Santa Rosa\", \"organization_type\": \"City, County or Local Government Unit or Department of Transportation\", \"reporter_type\": \"Full Reporter\", \"total_revenue_vehicles\": 43.0, \"total_service_vehicles\": 9.0, \"unlinked_passenger_trips\": 1319746.0, \"vehicle_revenue_hours\": 84336.0, \"_merge\": \"both\"}, {\"ntd_id\": \"90019\", \"agency\": \"Sacramento Regional Transit District, dba: Sacramento RT\", \"city\": \"Sacramento\", \"organization_type\": \"Independent Public Agency or Authority of Transit Service\", \"reporter_type\": \"Full Reporter\", \"total_revenue_vehicles\": 494.0, \"total_service_vehicles\": 207.0, \"unlinked_passenger_trips\": 14349668.0, \"vehicle_revenue_hours\": 1019416.0, \"_merge\": \"both\"}, {\"ntd_id\": \"90020\", \"agency\": \"Santa Barbara Metropolitan Transit District\", \"city\": \"Santa Barbara\", \"organization_type\": \"Independent Public Agency or Authority of Transit Service\", \"reporter_type\": \"Full Reporter\", \"total_revenue_vehicles\": 112.0, \"total_service_vehicles\": 28.0, \"unlinked_passenger_trips\": 4534476.0, \"vehicle_revenue_hours\": 168714.0, \"_merge\": \"both\"}, {\"ntd_id\": \"90022\", \"agency\": \"City of Norwalk , dba: Norwalk Transit System\", \"city\": \"Norwalk\", \"organization_type\": \"City, County or Local Government Unit or Department of Transportation\", \"reporter_type\": \"Full Reporter\", \"total_revenue_vehicles\": 43.0, \"total_service_vehicles\": 13.0, \"unlinked_passenger_trips\": 1039766.0, \"vehicle_revenue_hours\": 92227.0, \"_merge\": \"both\"}, {\"ntd_id\": \"90023\", \"agency\": \"Long Beach Transit\", \"city\": \"Long Beach\", \"organization_type\": \"Other Publicly-Owned or Privately Chartered Corporation\", \"reporter_type\": \"Full Reporter\", \"total_revenue_vehicles\": 234.0, \"total_service_vehicles\": 57.0, \"unlinked_passenger_trips\": 16803005.0, \"vehicle_revenue_hours\": 656797.0, \"_merge\": \"both\"}, {\"ntd_id\": \"90024\", \"agency\": \"City of La Mirada , dba: La Mirada Transit\", \"city\": \"La Mirada\", \"organization_type\": \"City, County or Local Government Unit or Department of Transportation\", \"reporter_type\": \"Full Reporter\", \"total_revenue_vehicles\": 10.0, \"total_service_vehicles\": 0.0, \"unlinked_passenger_trips\": 27805.0, \"vehicle_revenue_hours\": 5998.0, \"_merge\": \"both\"}, {\"ntd_id\": \"90027\", \"agency\": \"City of Fresno, dba: Fresno Area Express\", \"city\": \"Fresno\", \"organization_type\": \"City, County or Local Government Unit or Department of Transportation\", \"reporter_type\": \"Full Reporter\", \"total_revenue_vehicles\": 176.0, \"total_service_vehicles\": 62.0, \"unlinked_passenger_trips\": 8324054.0, \"vehicle_revenue_hours\": 497545.0, \"_merge\": \"both\"}, {\"ntd_id\": \"90029\", \"agency\": \"Omnitrans, dba: OMNI\", \"city\": \"San Bernardino\", \"organization_type\": \"Independent Public Agency or Authority of Transit Service\", \"reporter_type\": \"Full Reporter\", \"total_revenue_vehicles\": 239.0, \"total_service_vehicles\": 66.0, \"unlinked_passenger_trips\": 6101602.0, \"vehicle_revenue_hours\": 563089.0, \"_merge\": \"both\"}, {\"ntd_id\": \"90030\", \"agency\": \"North County Transit District\", \"city\": \"Oceanside\", \"organization_type\": \"Independent Public Agency or Authority of Transit Service\", \"reporter_type\": \"Full Reporter\", \"total_revenue_vehicles\": 235.0, \"total_service_vehicles\": 122.0, \"unlinked_passenger_trips\": 7132419.0, \"vehicle_revenue_hours\": 525886.0, \"_merge\": \"both\"}, {\"ntd_id\": \"90031\", \"agency\": \"Riverside Transit Agency\", \"city\": \"Riverside\", \"organization_type\": \"Independent Public Agency or Authority of Transit Service\", \"reporter_type\": \"Full Reporter\", \"total_revenue_vehicles\": 281.0, \"total_service_vehicles\": 62.0, \"unlinked_passenger_trips\": 5246457.0, \"vehicle_revenue_hours\": 619240.0, \"_merge\": \"both\"}, {\"ntd_id\": \"90035\", \"agency\": \"Gold Coast Transit District\", \"city\": \"Oxnard\", \"organization_type\": \"Independent Public Agency or Authority of Transit Service\", \"reporter_type\": \"Full Reporter\", \"total_revenue_vehicles\": 91.0, \"total_service_vehicles\": 23.0, \"unlinked_passenger_trips\": 3043329.0, \"vehicle_revenue_hours\": 226242.0, \"_merge\": \"both\"}, {\"ntd_id\": \"90036\", \"agency\": \"Orange County Transportation Authority\", \"city\": \"Orange\", \"organization_type\": \"Independent Public Agency or Authority of Transit Service\", \"reporter_type\": \"Full Reporter\", \"total_revenue_vehicles\": 1105.0, \"total_service_vehicles\": 144.0, \"unlinked_passenger_trips\": 32674688.0, \"vehicle_revenue_hours\": 2076903.0, \"_merge\": \"both\"}, {\"ntd_id\": \"90039\", \"agency\": \"City of Culver City, dba: Culver CityBus\", \"city\": \"Culver City\", \"organization_type\": \"City, County or Local Government Unit or Department of Transportation\", \"reporter_type\": \"Full Reporter\", \"total_revenue_vehicles\": 60.0, \"total_service_vehicles\": 17.0, \"unlinked_passenger_trips\": 2668340.0, \"vehicle_revenue_hours\": 124293.0, \"_merge\": \"both\"}, {\"ntd_id\": \"90041\", \"agency\": \"City of Montebello, dba: Montebello Bus Lines\", \"city\": \"Montebello\", \"organization_type\": \"City, County or Local Government Unit or Department of Transportation\", \"reporter_type\": \"Full Reporter\", \"total_revenue_vehicles\": 111.0, \"total_service_vehicles\": 22.0, \"unlinked_passenger_trips\": 2681282.0, \"vehicle_revenue_hours\": 174642.0, \"_merge\": \"both\"}, {\"ntd_id\": \"90042\", \"agency\": \"City of Gardena, dba: GTrans\", \"city\": \"Gardena\", \"organization_type\": \"City, County or Local Government Unit or Department of Transportation\", \"reporter_type\": \"Full Reporter\", \"total_revenue_vehicles\": 59.0, \"total_service_vehicles\": 17.0, \"unlinked_passenger_trips\": 1910285.0, \"vehicle_revenue_hours\": 99671.0, \"_merge\": \"both\"}, {\"ntd_id\": \"90043\", \"agency\": \"City of Commerce, dba: City of Commerce Transit\", \"city\": \"Commerce\", \"organization_type\": \"City, County or Local Government Unit or Department of Transportation\", \"reporter_type\": \"Full Reporter\", \"total_revenue_vehicles\": 28.0, \"total_service_vehicles\": 1.0, \"unlinked_passenger_trips\": 453890.0, \"vehicle_revenue_hours\": 55306.0, \"_merge\": \"both\"}, {\"ntd_id\": \"90044\", \"agency\": \"City of Arcadia, dba: Arcadia Transit\", \"city\": \"Arcadia\", \"organization_type\": \"City, County or Local Government Unit or Department of Transportation\", \"reporter_type\": \"Reduced Reporter\", \"total_revenue_vehicles\": 18.0, \"total_service_vehicles\": 0.0, \"unlinked_passenger_trips\": 39121.0, \"vehicle_revenue_hours\": 23433.0, \"_merge\": \"both\"}, {\"ntd_id\": \"90050\", \"agency\": \"City of Simi Valley, dba: Simi Valley Transit\", \"city\": \"Simi Valley\", \"organization_type\": \"City, County or Local Government Unit or Department of Transportation\", \"reporter_type\": \"Reduced Reporter\", \"total_revenue_vehicles\": 23.0, \"total_service_vehicles\": 6.0, \"unlinked_passenger_trips\": 206836.0, \"vehicle_revenue_hours\": 35925.0, \"_merge\": \"both\"}, {\"ntd_id\": \"90052\", \"agency\": \"City of Corona\", \"city\": \"Corona\", \"organization_type\": \"City, County or Local Government Unit or Department of Transportation\", \"reporter_type\": \"Reduced Reporter\", \"total_revenue_vehicles\": 20.0, \"total_service_vehicles\": 0.0, \"unlinked_passenger_trips\": 158413.0, \"vehicle_revenue_hours\": 26020.0, \"_merge\": \"both\"}, {\"ntd_id\": \"90061\", \"agency\": \"Yuba-Sutter Transit Authority\", \"city\": \"Marysville\", \"organization_type\": \"Independent Public Agency or Authority of Transit Service\", \"reporter_type\": \"Reduced Reporter\", \"total_revenue_vehicles\": 51.0, \"total_service_vehicles\": 1.0, \"unlinked_passenger_trips\": 516376.0, \"vehicle_revenue_hours\": 66314.0, \"_merge\": \"both\"}, {\"ntd_id\": \"90062\", \"agency\": \"Monterey-Salinas Transit\", \"city\": \"Monterey\", \"organization_type\": \"Independent Public Agency or Authority of Transit Service\", \"reporter_type\": \"Full Reporter\", \"total_revenue_vehicles\": 268.0, \"total_service_vehicles\": 42.0, \"unlinked_passenger_trips\": 2218131.0, \"vehicle_revenue_hours\": 256777.0, \"_merge\": \"both\"}, {\"ntd_id\": \"90078\", \"agency\": \"Central Contra Costa Transit Authority, dba: County Connection\", \"city\": \"Concord\", \"organization_type\": \"Independent Public Agency or Authority of Transit Service\", \"reporter_type\": \"Full Reporter\", \"total_revenue_vehicles\": 199.0, \"total_service_vehicles\": 14.0, \"unlinked_passenger_trips\": 2538112.0, \"vehicle_revenue_hours\": 250786.0, \"_merge\": \"both\"}, {\"ntd_id\": \"90079\", \"agency\": \"SunLine Transit Agency, dba: SunLine\", \"city\": \"Thousand Palms\", \"organization_type\": \"Independent Public Agency or Authority of Transit Service\", \"reporter_type\": \"Full Reporter\", \"total_revenue_vehicles\": 130.0, \"total_service_vehicles\": 52.0, \"unlinked_passenger_trips\": 2689531.0, \"vehicle_revenue_hours\": 243777.0, \"_merge\": \"both\"}, {\"ntd_id\": \"90086\", \"agency\": \"City of Riverside, dba: Riverside Connect\", \"city\": \"Riverside\", \"organization_type\": \"City, County or Local Government Unit or Department of Transportation\", \"reporter_type\": \"Full Reporter\", \"total_revenue_vehicles\": 35.0, \"total_service_vehicles\": 1.0, \"unlinked_passenger_trips\": 74107.0, \"vehicle_revenue_hours\": 28004.0, \"_merge\": \"both\"}, {\"ntd_id\": \"90087\", \"agency\": \"City of Santa Maria, dba: Santa Maria Regional Transit\", \"city\": \"Santa Maria\", \"organization_type\": \"City, County or Local Government Unit or Department of Transportation\", \"reporter_type\": \"Full Reporter\", \"total_revenue_vehicles\": 34.0, \"total_service_vehicles\": 1.0, \"unlinked_passenger_trips\": 455860.0, \"vehicle_revenue_hours\": 60402.0, \"_merge\": \"both\"}, {\"ntd_id\": \"90088\", \"agency\": \"Napa Valley Transportation Authority\", \"city\": \"Napa\", \"organization_type\": \"Independent Public Agency or Authority of Transit Service\", \"reporter_type\": \"Full Reporter\", \"total_revenue_vehicles\": 60.0, \"total_service_vehicles\": 2.0, \"unlinked_passenger_trips\": 487995.0, \"vehicle_revenue_hours\": 93763.0, \"_merge\": \"both\"}, {\"ntd_id\": \"90089\", \"agency\": \"County of Sonoma , dba: Sonoma County Transit\", \"city\": \"Santa Rosa\", \"organization_type\": \"City, County or Local Government Unit or Department of Transportation\", \"reporter_type\": \"Full Reporter\", \"total_revenue_vehicles\": 80.0, \"total_service_vehicles\": 12.0, \"unlinked_passenger_trips\": 649873.0, \"vehicle_revenue_hours\": 108916.0, \"_merge\": \"both\"}, {\"ntd_id\": \"90090\", \"agency\": \"Yolo County Transportation District\", \"city\": \"Woodland\", \"organization_type\": \"Independent Public Agency or Authority of Transit Service\", \"reporter_type\": \"Full Reporter\", \"total_revenue_vehicles\": 69.0, \"total_service_vehicles\": 10.0, \"unlinked_passenger_trips\": 677394.0, \"vehicle_revenue_hours\": 93740.0, \"_merge\": \"both\"}, {\"ntd_id\": \"90091\", \"agency\": \"City of Visalia  , dba: Visalia Transit\", \"city\": \"Visalia\", \"organization_type\": \"City, County or Local Government Unit or Department of Transportation\", \"reporter_type\": \"Full Reporter\", \"total_revenue_vehicles\": 60.0, \"total_service_vehicles\": 3.0, \"unlinked_passenger_trips\": 635887.0, \"vehicle_revenue_hours\": 137125.0, \"_merge\": \"both\"}, {\"ntd_id\": \"90092\", \"agency\": \"City of Fairfield, California, dba: FAST Transit\", \"city\": \"Fairfield\", \"organization_type\": \"City, County or Local Government Unit or Department of Transportation\", \"reporter_type\": \"Full Reporter\", \"total_revenue_vehicles\": 39.0, \"total_service_vehicles\": 5.0, \"unlinked_passenger_trips\": 273784.0, \"vehicle_revenue_hours\": 45189.0, \"_merge\": \"both\"}, {\"ntd_id\": \"90093\", \"agency\": \"Redding Area Bus Authority\", \"city\": \"Redding\", \"organization_type\": \"Independent Public Agency or Authority of Transit Service\", \"reporter_type\": \"Reduced Reporter\", \"total_revenue_vehicles\": 38.0, \"total_service_vehicles\": 8.0, \"unlinked_passenger_trips\": 406268.0, \"vehicle_revenue_hours\": 51315.0, \"_merge\": \"both\"}, {\"ntd_id\": \"90094\", \"agency\": \"Metropolitan Transportation Commission, dba: MTC\", \"city\": \"San Francisco\", \"organization_type\": \"MPO, COG or Other Planning Agency\", \"reporter_type\": \"Full Reporter\", \"total_revenue_vehicles\": 556.0, \"total_service_vehicles\": 0.0, \"unlinked_passenger_trips\": 1113315.0, \"vehicle_revenue_hours\": 283315.0, \"_merge\": \"both\"}, {\"ntd_id\": \"90095\", \"agency\": \"San Diego Association of Governments, dba: SANDAG\", \"city\": \"San Diego\", \"organization_type\": \"MPO, COG or Other Planning Agency\", \"reporter_type\": \"Full Reporter\", \"total_revenue_vehicles\": 653.0, \"total_service_vehicles\": 0.0, \"unlinked_passenger_trips\": 1048584.0, \"vehicle_revenue_hours\": 240614.0, \"_merge\": \"both\"}, {\"ntd_id\": \"90119\", \"agency\": \"City of Laguna Beach, dba: Laguna Beach Transit\", \"city\": \"Laguna Beach\", \"organization_type\": \"City, County or Local Government Unit or Department of Transportation\", \"reporter_type\": \"Reduced Reporter\", \"total_revenue_vehicles\": 31.0, \"total_service_vehicles\": 3.0, \"unlinked_passenger_trips\": 668909.0, \"vehicle_revenue_hours\": 44814.0, \"_merge\": \"both\"}, {\"ntd_id\": \"90121\", \"agency\": \"Antelope Valley Transit Authority\", \"city\": \"Lancaster\", \"organization_type\": \"Independent Public Agency or Authority of Transit Service\", \"reporter_type\": \"Full Reporter\", \"total_revenue_vehicles\": 95.0, \"total_service_vehicles\": 39.0, \"unlinked_passenger_trips\": 1310857.0, \"vehicle_revenue_hours\": 220411.0, \"_merge\": \"both\"}, {\"ntd_id\": \"90134\", \"agency\": \"Peninsula Corridor Joint Powers Board, dba: Caltrain\", \"city\": \"San Carlos\", \"organization_type\": \"Independent Public Agency or Authority of Transit Service\", \"reporter_type\": \"Full Reporter\", \"total_revenue_vehicles\": 163.0, \"total_service_vehicles\": 99.0, \"unlinked_passenger_trips\": 7012116.0, \"vehicle_revenue_hours\": 214153.0, \"_merge\": \"both\"}, {\"ntd_id\": \"90142\", \"agency\": \"University of California, Davis, dba: Unitrans\", \"city\": \"Davis\", \"organization_type\": \"University\", \"reporter_type\": \"Full Reporter\", \"total_revenue_vehicles\": 50.0, \"total_service_vehicles\": 7.0, \"unlinked_passenger_trips\": 3028186.0, \"vehicle_revenue_hours\": 66932.0, \"_merge\": \"both\"}, {\"ntd_id\": \"90144\", \"agency\": \"Livermore / Amador Valley Transit Authority\", \"city\": \"Livermore\", \"organization_type\": \"Independent Public Agency or Authority of Transit Service\", \"reporter_type\": \"Full Reporter\", \"total_revenue_vehicles\": 60.0, \"total_service_vehicles\": 17.0, \"unlinked_passenger_trips\": 1145515.0, \"vehicle_revenue_hours\": 100598.0, \"_merge\": \"both\"}, {\"ntd_id\": \"90146\", \"agency\": \"Foothill Transit\", \"city\": \"West Covina\", \"organization_type\": \"Independent Public Agency or Authority of Transit Service\", \"reporter_type\": \"Full Reporter\", \"total_revenue_vehicles\": 363.0, \"total_service_vehicles\": 28.0, \"unlinked_passenger_trips\": 7864856.0, \"vehicle_revenue_hours\": 785522.0, \"_merge\": \"both\"}, {\"ntd_id\": \"90147\", \"agency\": \"City of Los Angeles\", \"city\": \"Los Angeles\", \"organization_type\": \"City, County or Local Government Unit or Department of Transportation\", \"reporter_type\": \"Full Reporter\", \"total_revenue_vehicles\": 472.0, \"total_service_vehicles\": 4.0, \"unlinked_passenger_trips\": 15482662.0, \"vehicle_revenue_hours\": 836376.0, \"_merge\": \"both\"}, {\"ntd_id\": \"90148\", \"agency\": \"Victor Valley Transit Authority\", \"city\": \"Hesperia\", \"organization_type\": \"Independent Public Agency or Authority of Transit Service\", \"reporter_type\": \"Full Reporter\", \"total_revenue_vehicles\": 307.0, \"total_service_vehicles\": 42.0, \"unlinked_passenger_trips\": 1350506.0, \"vehicle_revenue_hours\": 328267.0, \"_merge\": \"both\"}, {\"ntd_id\": \"90149\", \"agency\": \"City of Lompoc, dba: City of Lompoc Transit\", \"city\": \"Lompoc\", \"organization_type\": \"City, County or Local Government Unit or Department of Transportation\", \"reporter_type\": \"Reduced Reporter\", \"total_revenue_vehicles\": 16.0, \"total_service_vehicles\": 2.0, \"unlinked_passenger_trips\": 63727.0, \"vehicle_revenue_hours\": 23114.0, \"_merge\": \"both\"}, {\"ntd_id\": \"90151\", \"agency\": \"Southern California Regional Rail Authority, dba: Metrolink\", \"city\": \"Los Angeles\", \"organization_type\": \"Independent Public Agency or Authority of Transit Service\", \"reporter_type\": \"Full Reporter\", \"total_revenue_vehicles\": 275.0, \"total_service_vehicles\": 197.0, \"unlinked_passenger_trips\": 3703404.0, \"vehicle_revenue_hours\": 306389.0, \"_merge\": \"both\"}, {\"ntd_id\": \"90155\", \"agency\": \"City of Vacaville, dba: City Coach\", \"city\": \"Vacaville\", \"organization_type\": \"City, County or Local Government Unit or Department of Transportation\", \"reporter_type\": \"Reduced Reporter\", \"total_revenue_vehicles\": 38.0, \"total_service_vehicles\": 7.0, \"unlinked_passenger_trips\": 278020.0, \"vehicle_revenue_hours\": 27794.0, \"_merge\": \"both\"}, {\"ntd_id\": \"90156\", \"agency\": \"City of San Luis Obispo, dba: SLO Transit\", \"city\": \"San Luis Obispo\", \"organization_type\": \"City, County or Local Government Unit or Department of Transportation\", \"reporter_type\": \"Full Reporter\", \"total_revenue_vehicles\": 17.0, \"total_service_vehicles\": 3.0, \"unlinked_passenger_trips\": 515025.0, \"vehicle_revenue_hours\": 30668.0, \"_merge\": \"both\"}, {\"ntd_id\": \"90157\", \"agency\": \"Access Services\", \"city\": \"El Monte\", \"organization_type\": \"Independent Public Agency or Authority of Transit Service\", \"reporter_type\": \"Full Reporter\", \"total_revenue_vehicles\": 1289.0, \"total_service_vehicles\": 17.0, \"unlinked_passenger_trips\": 3545374.0, \"vehicle_revenue_hours\": 1929171.0, \"_merge\": \"both\"}, {\"ntd_id\": \"90159\", \"agency\": \"Western Contra Costa Transit Authority, dba: WestCAT\", \"city\": \"Pinole\", \"organization_type\": \"Independent Public Agency or Authority of Transit Service\", \"reporter_type\": \"Full Reporter\", \"total_revenue_vehicles\": 50.0, \"total_service_vehicles\": 7.0, \"unlinked_passenger_trips\": 667920.0, \"vehicle_revenue_hours\": 79546.0, \"_merge\": \"both\"}, {\"ntd_id\": \"90161\", \"agency\": \"City of Union City, dba: Union City Transit\", \"city\": \"Union City\", \"organization_type\": \"City, County or Local Government Unit or Department of Transportation\", \"reporter_type\": \"Reduced Reporter\", \"total_revenue_vehicles\": 26.0, \"total_service_vehicles\": 0.0, \"unlinked_passenger_trips\": 259096.0, \"vehicle_revenue_hours\": 56228.0, \"_merge\": \"both\"}, {\"ntd_id\": \"90162\", \"agency\": \"The Eastern Contra Costa Transit Authority, dba: Tri Delta Transit\", \"city\": \"Antioch\", \"organization_type\": \"Independent Public Agency or Authority of Transit Service\", \"reporter_type\": \"Full Reporter\", \"total_revenue_vehicles\": 121.0, \"total_service_vehicles\": 13.0, \"unlinked_passenger_trips\": 1211883.0, \"vehicle_revenue_hours\": 241606.0, \"_merge\": \"both\"}, {\"ntd_id\": \"90163\", \"agency\": \"City of Camarillo, dba: Camarillo Area Transit\", \"city\": \"Camarillo\", \"organization_type\": \"City, County or Local Government Unit or Department of Transportation\", \"reporter_type\": \"Reduced Reporter\", \"total_revenue_vehicles\": 19.0, \"total_service_vehicles\": 0.0, \"unlinked_passenger_trips\": 67360.0, \"vehicle_revenue_hours\": 20667.0, \"_merge\": \"both\"}, {\"ntd_id\": \"90164\", \"agency\": \"Ventura County Transportation Commission\", \"city\": \"Camarillo\", \"organization_type\": \"Independent Public Agency or Authority of Transit Service\", \"reporter_type\": \"Full Reporter\", \"total_revenue_vehicles\": 51.0, \"total_service_vehicles\": 0.0, \"unlinked_passenger_trips\": 419280.0, \"vehicle_revenue_hours\": 79809.0, \"_merge\": \"both\"}, {\"ntd_id\": \"90165\", \"agency\": \"City of Thousand Oaks, dba: Thousand Oaks Transit\", \"city\": \"Thousand Oaks\", \"organization_type\": \"City, County or Local Government Unit or Department of Transportation\", \"reporter_type\": \"Reduced Reporter\", \"total_revenue_vehicles\": 35.0, \"total_service_vehicles\": 2.0, \"unlinked_passenger_trips\": 191874.0, \"vehicle_revenue_hours\": 36354.0, \"_merge\": \"both\"}, {\"ntd_id\": \"90167\", \"agency\": \"City of Davis, dba: Davis Community Transit\", \"city\": \"Davis\", \"organization_type\": \"City, County or Local Government Unit or Department of Transportation\", \"reporter_type\": \"Reduced Reporter\", \"total_revenue_vehicles\": 4.0, \"total_service_vehicles\": 0.0, \"unlinked_passenger_trips\": 12956.0, \"vehicle_revenue_hours\": 4558.0, \"_merge\": \"both\"}, {\"ntd_id\": \"90168\", \"agency\": \"City of Roseville\", \"city\": \"Roseville\", \"organization_type\": \"City, County or Local Government Unit or Department of Transportation\", \"reporter_type\": \"Reduced Reporter\", \"total_revenue_vehicles\": 47.0, \"total_service_vehicles\": 12.0, \"unlinked_passenger_trips\": 154903.0, \"vehicle_revenue_hours\": 46237.0, \"_merge\": \"both\"}, {\"ntd_id\": \"90171\", \"agency\": \"City of Santa Clarita, dba: Santa Clarita Transit\", \"city\": \"Santa Clarita\", \"organization_type\": \"City, County or Local Government Unit or Department of Transportation\", \"reporter_type\": \"Full Reporter\", \"total_revenue_vehicles\": 117.0, \"total_service_vehicles\": 2.0, \"unlinked_passenger_trips\": 2289665.0, \"vehicle_revenue_hours\": 191750.0, \"_merge\": \"both\"}, {\"ntd_id\": \"90173\", \"agency\": \"Transit Joint Powers Authority for Merced County, dba: Merced The Bus\", \"city\": \"Merced\", \"organization_type\": \"Independent Public Agency or Authority of Transit Service\", \"reporter_type\": \"Full Reporter\", \"total_revenue_vehicles\": 75.0, \"total_service_vehicles\": 13.0, \"unlinked_passenger_trips\": 599759.0, \"vehicle_revenue_hours\": 135376.0, \"_merge\": \"both\"}, {\"ntd_id\": \"90175\", \"agency\": \"City of Lodi, dba: GrapeLine\", \"city\": \"Lodi\", \"organization_type\": \"City, County or Local Government Unit or Department of Transportation\", \"reporter_type\": \"Reduced Reporter\", \"total_revenue_vehicles\": 24.0, \"total_service_vehicles\": 2.0, \"unlinked_passenger_trips\": 184061.0, \"vehicle_revenue_hours\": 27723.0, \"_merge\": \"both\"}, {\"ntd_id\": \"90182\", \"agency\": \"Altamont Corridor Express\", \"city\": \"Stockton\", \"organization_type\": \"Independent Public Agency or Authority of Transit Service\", \"reporter_type\": \"Full Reporter\", \"total_revenue_vehicles\": 36.0, \"total_service_vehicles\": 8.0, \"unlinked_passenger_trips\": 474498.0, \"vehicle_revenue_hours\": 24832.0, \"_merge\": \"both\"}, {\"ntd_id\": \"90194\", \"agency\": \"City of Atascadero\", \"city\": \"Atascadero\", \"organization_type\": \"City, County or Local Government Unit or Department of Transportation\", \"reporter_type\": \"Reduced Reporter\", \"total_revenue_vehicles\": 4.0, \"total_service_vehicles\": 1.0, \"unlinked_passenger_trips\": 7403.0, \"vehicle_revenue_hours\": 2937.0, \"_merge\": \"both\"}, {\"ntd_id\": \"90196\", \"agency\": \"County of Placer, dba: Placer County Transit/TART\", \"city\": \"Auburn\", \"organization_type\": \"City, County or Local Government Unit or Department of Transportation\", \"reporter_type\": \"Full Reporter\", \"total_revenue_vehicles\": 72.0, \"total_service_vehicles\": 13.0, \"unlinked_passenger_trips\": 826049.0, \"vehicle_revenue_hours\": 105796.0, \"_merge\": \"both\"}, {\"ntd_id\": \"90197\", \"agency\": \"City of Tracy, dba: TRACER\", \"city\": \"Tracy\", \"organization_type\": \"City, County or Local Government Unit or Department of Transportation\", \"reporter_type\": \"Reduced Reporter\", \"total_revenue_vehicles\": 20.0, \"total_service_vehicles\": 1.0, \"unlinked_passenger_trips\": 121148.0, \"vehicle_revenue_hours\": 34852.0, \"_merge\": \"both\"}, {\"ntd_id\": \"90199\", \"agency\": \"City of Madera, dba: Madera Metro\", \"city\": \"Madera\", \"organization_type\": \"City, County or Local Government Unit or Department of Transportation\", \"reporter_type\": \"Reduced Reporter\", \"total_revenue_vehicles\": 17.0, \"total_service_vehicles\": 0.0, \"unlinked_passenger_trips\": 75934.0, \"vehicle_revenue_hours\": 19886.0, \"_merge\": \"both\"}, {\"ntd_id\": \"90200\", \"agency\": \"Kings County Area Public Transit Agency\", \"city\": \"Hanford\", \"organization_type\": \"Independent Public Agency or Authority of Transit Service\", \"reporter_type\": \"Full Reporter\", \"total_revenue_vehicles\": 77.0, \"total_service_vehicles\": 3.0, \"unlinked_passenger_trips\": 582762.0, \"vehicle_revenue_hours\": 67790.0, \"_merge\": \"both\"}, {\"ntd_id\": \"90201\", \"agency\": \"City of Turlock, dba: Turlock Transit\", \"city\": \"Turlock\", \"organization_type\": \"City, County or Local Government Unit or Department of Transportation\", \"reporter_type\": \"Full Reporter\", \"total_revenue_vehicles\": 19.0, \"total_service_vehicles\": 6.0, \"unlinked_passenger_trips\": 265956.0, \"vehicle_revenue_hours\": 33713.0, \"_merge\": \"both\"}, {\"ntd_id\": \"90206\", \"agency\": \"San Luis Obispo Regional Transit Authority\", \"city\": \"San Luis Obispo\", \"organization_type\": \"Independent Public Agency or Authority of Transit Service\", \"reporter_type\": \"Full Reporter\", \"total_revenue_vehicles\": 68.0, \"total_service_vehicles\": 17.0, \"unlinked_passenger_trips\": 739238.0, \"vehicle_revenue_hours\": 75503.0, \"_merge\": \"both\"}, {\"ntd_id\": \"90208\", \"agency\": \"Butte County Association of Governments, dba: Butte Regional Transit/B-Line\", \"city\": \"Chico\", \"organization_type\": \"MPO, COG or Other Planning Agency\", \"reporter_type\": \"Full Reporter\", \"total_revenue_vehicles\": 51.0, \"total_service_vehicles\": 1.0, \"unlinked_passenger_trips\": 630109.0, \"vehicle_revenue_hours\": 89368.0, \"_merge\": \"both\"}, {\"ntd_id\": \"90211\", \"agency\": \"Anaheim Transportation Network, dba: Anaheim Regional Transportation\", \"city\": \"Anaheim\", \"organization_type\": \"Independent Public Agency or Authority of Transit Service\", \"reporter_type\": \"Full Reporter\", \"total_revenue_vehicles\": 80.0, \"total_service_vehicles\": 6.0, \"unlinked_passenger_trips\": 8289646.0, \"vehicle_revenue_hours\": 173530.0, \"_merge\": \"both\"}, {\"ntd_id\": \"90213\", \"agency\": \"City of Petaluma, dba: Petaluma Transit\", \"city\": \"Petaluma\", \"organization_type\": \"City, County or Local Government Unit or Department of Transportation\", \"reporter_type\": \"Full Reporter\", \"total_revenue_vehicles\": 22.0, \"total_service_vehicles\": 2.0, \"unlinked_passenger_trips\": 213607.0, \"vehicle_revenue_hours\": 23640.0, \"_merge\": \"both\"}, {\"ntd_id\": \"90214\", \"agency\": \"City of Redondo Beach, dba: Beach Cities Transit\", \"city\": \"Redondo Beach\", \"organization_type\": \"City, County or Local Government Unit or Department of Transportation\", \"reporter_type\": \"Full Reporter\", \"total_revenue_vehicles\": 20.0, \"total_service_vehicles\": 0.0, \"unlinked_passenger_trips\": 277558.0, \"vehicle_revenue_hours\": 41022.0, \"_merge\": \"both\"}, {\"ntd_id\": \"90216\", \"agency\": \"County of Sacramento Municipal Services Agency, dba: South County Transit\", \"city\": \"Sacramento\", \"organization_type\": \"City, County or Local Government Unit or Department of Transportation\", \"reporter_type\": \"Reduced Reporter\", \"total_revenue_vehicles\": 19.0, \"total_service_vehicles\": 0.0, \"unlinked_passenger_trips\": 47989.0, \"vehicle_revenue_hours\": 19455.0, \"_merge\": \"both\"}, {\"ntd_id\": \"90217\", \"agency\": \"City of Manteca, dba: Manteca Transit\", \"city\": \"Manteca\", \"organization_type\": \"City, County or Local Government Unit or Department of Transportation\", \"reporter_type\": \"Reduced Reporter\", \"total_revenue_vehicles\": 9.0, \"total_service_vehicles\": 9.0, \"unlinked_passenger_trips\": 56501.0, \"vehicle_revenue_hours\": 16306.0, \"_merge\": \"both\"}, {\"ntd_id\": \"90218\", \"agency\": \"Riverside County Transportation Commission\", \"city\": \"Riverside\", \"organization_type\": \"MPO, COG or Other Planning Agency\", \"reporter_type\": \"Full Reporter\", \"total_revenue_vehicles\": 35.0, \"total_service_vehicles\": 0.0, \"unlinked_passenger_trips\": 75754.0, \"vehicle_revenue_hours\": 20459.0, \"_merge\": \"both\"}, {\"ntd_id\": \"90223\", \"agency\": \"Paratransit, Inc.\", \"city\": \"Sacramento\", \"organization_type\": \"Independent Public Agency or Authority of Transit Service\", \"reporter_type\": \"Full Reporter\", \"total_revenue_vehicles\": 55.0, \"total_service_vehicles\": 2.0, \"unlinked_passenger_trips\": 41481.0, \"vehicle_revenue_hours\": 25080.0, \"_merge\": \"both\"}, {\"ntd_id\": \"90225\", \"agency\": \"San Francisco Bay Area Water Emergency Transportation Authority, dba: San Francisco Bay Ferry\", \"city\": \"San Francisco\", \"organization_type\": \"Independent Public Agency or Authority of Transit Service\", \"reporter_type\": \"Full Reporter\", \"total_revenue_vehicles\": 16.0, \"total_service_vehicles\": 8.0, \"unlinked_passenger_trips\": 2024646.0, \"vehicle_revenue_hours\": 24860.0, \"_merge\": \"both\"}, {\"ntd_id\": \"90226\", \"agency\": \"Imperial County Transportation Commission\", \"city\": \"El Centro\", \"organization_type\": \"Independent Public Agency or Authority of Transit Service\", \"reporter_type\": \"Full Reporter\", \"total_revenue_vehicles\": 44.0, \"total_service_vehicles\": 3.0, \"unlinked_passenger_trips\": 629887.0, \"vehicle_revenue_hours\": 47030.0, \"_merge\": \"both\"}, {\"ntd_id\": \"90227\", \"agency\": \"City of Moorpark, dba: Moorpark City Transit\", \"city\": \"Moorpark\", \"organization_type\": \"City, County or Local Government Unit or Department of Transportation\", \"reporter_type\": \"Reduced Reporter\", \"total_revenue_vehicles\": 5.0, \"total_service_vehicles\": 0.0, \"unlinked_passenger_trips\": 26853.0, \"vehicle_revenue_hours\": 5804.0, \"_merge\": \"both\"}, {\"ntd_id\": \"90229\", \"agency\": \"El Dorado County Transit Authority, dba: El Dorado Transit\", \"city\": \"Diamond Springs\", \"organization_type\": \"Independent Public Agency or Authority of Transit Service\", \"reporter_type\": \"Reduced Reporter\", \"total_revenue_vehicles\": 51.0, \"total_service_vehicles\": 10.0, \"unlinked_passenger_trips\": 135151.0, \"vehicle_revenue_hours\": 31427.0, \"_merge\": \"both\"}, {\"ntd_id\": \"90230\", \"agency\": \"California Vanpool Authority, dba: CalVans\", \"city\": \"Hanford\", \"organization_type\": \"Independent Public Agency or Authority of Transit Service\", \"reporter_type\": \"Full Reporter\", \"total_revenue_vehicles\": 784.0, \"total_service_vehicles\": 5.0, \"unlinked_passenger_trips\": 3569288.0, \"vehicle_revenue_hours\": 321687.0, \"_merge\": \"both\"}, {\"ntd_id\": \"90232\", \"agency\": \"Solano County Transit, dba: SolTrans\", \"city\": \"Vallejo\", \"organization_type\": \"Independent Public Agency or Authority of Transit Service\", \"reporter_type\": \"Full Reporter\", \"total_revenue_vehicles\": 59.0, \"total_service_vehicles\": 10.0, \"unlinked_passenger_trips\": 967820.0, \"vehicle_revenue_hours\": 99013.0, \"_merge\": \"both\"}, {\"ntd_id\": \"90234\", \"agency\": \"Marin County Transit District, dba: Marin Transit\", \"city\": \"San Rafael\", \"organization_type\": \"Independent Public Agency or Authority of Transit Service\", \"reporter_type\": \"Full Reporter\", \"total_revenue_vehicles\": 111.0, \"total_service_vehicles\": 3.0, \"unlinked_passenger_trips\": 2694428.0, \"vehicle_revenue_hours\": 204108.0, \"_merge\": \"both\"}, {\"ntd_id\": \"90238\", \"agency\": \"City of Delano, dba: Delano Area Rapid Transit\", \"city\": \"Delano\", \"organization_type\": \"City, County or Local Government Unit or Department of Transportation\", \"reporter_type\": \"Reduced Reporter\", \"total_revenue_vehicles\": 17.0, \"total_service_vehicles\": 4.0, \"unlinked_passenger_trips\": 86236.0, \"vehicle_revenue_hours\": 15881.0, \"_merge\": \"both\"}, {\"ntd_id\": \"90243\", \"agency\": \"Easy Lift Transportation\", \"city\": \"Goleta\", \"organization_type\": \"Private-Non-Profit Corporation\", \"reporter_type\": \"Reduced Reporter\", \"total_revenue_vehicles\": 29.0, \"total_service_vehicles\": 0.0, \"unlinked_passenger_trips\": 60087.0, \"vehicle_revenue_hours\": 25329.0, \"_merge\": \"both\"}, {\"ntd_id\": \"90246\", \"agency\": \"City of Agoura Hills\", \"city\": \"Agoura Hills\", \"organization_type\": \"City, County or Local Government Unit or Department of Transportation\", \"reporter_type\": \"Reduced Reporter\", \"total_revenue_vehicles\": 23.0, \"total_service_vehicles\": 0.0, \"unlinked_passenger_trips\": 2012.0, \"vehicle_revenue_hours\": 1046.0, \"_merge\": \"both\"}, {\"ntd_id\": \"90247\", \"agency\": \"City of Alhambra, dba: Alhambra Community Transit\", \"city\": \"Alhambra\", \"organization_type\": \"City, County or Local Government Unit or Department of Transportation\", \"reporter_type\": \"Reduced Reporter\", \"total_revenue_vehicles\": 17.0, \"total_service_vehicles\": 0.0, \"unlinked_passenger_trips\": 234593.0, \"vehicle_revenue_hours\": 32992.0, \"_merge\": \"both\"}, {\"ntd_id\": \"90249\", \"agency\": \"City of Avalon, dba: Avalon Transit\", \"city\": \"Avalon\", \"organization_type\": \"City, County or Local Government Unit or Department of Transportation\", \"reporter_type\": \"Reduced Reporter\", \"total_revenue_vehicles\": 3.0, \"total_service_vehicles\": 0.0, \"unlinked_passenger_trips\": 24488.0, \"vehicle_revenue_hours\": 9405.0, \"_merge\": \"both\"}, {\"ntd_id\": \"90250\", \"agency\": \"City of Azusa\", \"city\": \"Azusa\", \"organization_type\": \"City, County or Local Government Unit or Department of Transportation\", \"reporter_type\": \"Reduced Reporter\", \"total_revenue_vehicles\": 8.0, \"total_service_vehicles\": 0.0, \"unlinked_passenger_trips\": 16059.0, \"vehicle_revenue_hours\": 9782.0, \"_merge\": \"both\"}, {\"ntd_id\": \"90251\", \"agency\": \"City of Baldwin Park, dba: Baldwin Park Transit\", \"city\": \"Baldwin Park\", \"organization_type\": \"City, County or Local Government Unit or Department of Transportation\", \"reporter_type\": \"Reduced Reporter\", \"total_revenue_vehicles\": 9.0, \"total_service_vehicles\": 0.0, \"unlinked_passenger_trips\": 67519.0, \"vehicle_revenue_hours\": 22153.0, \"_merge\": \"both\"}, {\"ntd_id\": \"90252\", \"agency\": \"City of Bell\", \"city\": \"Bell\", \"organization_type\": \"City, County or Local Government Unit or Department of Transportation\", \"reporter_type\": \"Reduced Reporter\", \"total_revenue_vehicles\": 22.0, \"total_service_vehicles\": 0.0, \"unlinked_passenger_trips\": 23051.0, \"vehicle_revenue_hours\": 5415.0, \"_merge\": \"both\"}, {\"ntd_id\": \"90253\", \"agency\": \"City of Bell Gardens\", \"city\": \"Bell\", \"organization_type\": \"City, County or Local Government Unit or Department of Transportation\", \"reporter_type\": \"Reduced Reporter\", \"total_revenue_vehicles\": 6.0, \"total_service_vehicles\": 0.0, \"unlinked_passenger_trips\": 125520.0, \"vehicle_revenue_hours\": 13281.0, \"_merge\": \"both\"}, {\"ntd_id\": \"90254\", \"agency\": \"City of Bellflower\", \"city\": \"Bellflower\", \"organization_type\": \"City, County or Local Government Unit or Department of Transportation\", \"reporter_type\": \"Reduced Reporter\", \"total_revenue_vehicles\": 6.0, \"total_service_vehicles\": 0.0, \"unlinked_passenger_trips\": 41103.0, \"vehicle_revenue_hours\": 7393.0, \"_merge\": \"both\"}, {\"ntd_id\": \"90255\", \"agency\": \"City of Beverly Hills, dba: Beverly Hills Dial-A-Ride\", \"city\": \"Beverly Hills\", \"organization_type\": \"City, County or Local Government Unit or Department of Transportation\", \"reporter_type\": \"Reduced Reporter\", \"total_revenue_vehicles\": 5.0, \"total_service_vehicles\": 0.0, \"unlinked_passenger_trips\": 5440.0, \"vehicle_revenue_hours\": 3263.0, \"_merge\": \"both\"}, {\"ntd_id\": \"90256\", \"agency\": \"City of Burbank\", \"city\": \"Burbank\", \"organization_type\": \"City, County or Local Government Unit or Department of Transportation\", \"reporter_type\": \"Reduced Reporter\", \"total_revenue_vehicles\": 26.0, \"total_service_vehicles\": 1.0, \"unlinked_passenger_trips\": 171517.0, \"vehicle_revenue_hours\": 28827.0, \"_merge\": \"both\"}, {\"ntd_id\": \"90257\", \"agency\": \"City of Calabasas\", \"city\": \"Calabasas\", \"organization_type\": \"City, County or Local Government Unit or Department of Transportation\", \"reporter_type\": \"Reduced Reporter\", \"total_revenue_vehicles\": 12.0, \"total_service_vehicles\": 0.0, \"unlinked_passenger_trips\": 23743.0, \"vehicle_revenue_hours\": 14914.0, \"_merge\": \"both\"}, {\"ntd_id\": \"90258\", \"agency\": \"City of Carson\", \"city\": \"Carson\", \"organization_type\": \"City, County or Local Government Unit or Department of Transportation\", \"reporter_type\": \"Reduced Reporter\", \"total_revenue_vehicles\": 19.0, \"total_service_vehicles\": 0.0, \"unlinked_passenger_trips\": 35263.0, \"vehicle_revenue_hours\": 7080.0, \"_merge\": \"both\"}, {\"ntd_id\": \"90259\", \"agency\": \"City of Cerritos, dba: Cerritos Transit Services\", \"city\": null, \"organization_type\": \"City, County or Local Government Unit or Department of Transportation\", \"reporter_type\": \"Reduced Reporter\", \"total_revenue_vehicles\": 18.0, \"total_service_vehicles\": 0.0, \"unlinked_passenger_trips\": 36805.0, \"vehicle_revenue_hours\": 10543.0, \"_merge\": \"both\"}, {\"ntd_id\": \"90260\", \"agency\": \"City of Compton  , dba: Compton Renaissance Transit Service\", \"city\": \"Compton\", \"organization_type\": \"City, County or Local Government Unit or Department of Transportation\", \"reporter_type\": \"Reduced Reporter\", \"total_revenue_vehicles\": 10.0, \"total_service_vehicles\": 0.0, \"unlinked_passenger_trips\": 64030.0, \"vehicle_revenue_hours\": 17070.0, \"_merge\": \"both\"}, {\"ntd_id\": \"90261\", \"agency\": \"City of Covina\", \"city\": \"Covina\", \"organization_type\": \"City, County or Local Government Unit or Department of Transportation\", \"reporter_type\": \"Reduced Reporter\", \"total_revenue_vehicles\": 5.0, \"total_service_vehicles\": 0.0, \"unlinked_passenger_trips\": 10680.0, \"vehicle_revenue_hours\": 5355.0, \"_merge\": \"both\"}, {\"ntd_id\": \"90262\", \"agency\": \"City of Cudahy, dba: Cudahy Area Rapid Transit\", \"city\": \"Cudahy\", \"organization_type\": \"City, County or Local Government Unit or Department of Transportation\", \"reporter_type\": \"Reduced Reporter\", \"total_revenue_vehicles\": 11.0, \"total_service_vehicles\": 0.0, \"unlinked_passenger_trips\": 45897.0, \"vehicle_revenue_hours\": 4327.0, \"_merge\": \"both\"}, {\"ntd_id\": \"90263\", \"agency\": \"City of Downey\", \"city\": \"Downey\", \"organization_type\": \"City, County or Local Government Unit or Department of Transportation\", \"reporter_type\": \"Reduced Reporter\", \"total_revenue_vehicles\": 15.0, \"total_service_vehicles\": 0.0, \"unlinked_passenger_trips\": 87055.0, \"vehicle_revenue_hours\": 15178.0, \"_merge\": \"both\"}, {\"ntd_id\": \"90265\", \"agency\": \"City of El Monte\", \"city\": \"El Monte\", \"organization_type\": \"City, County or Local Government Unit or Department of Transportation\", \"reporter_type\": \"Reduced Reporter\", \"total_revenue_vehicles\": 23.0, \"total_service_vehicles\": 5.0, \"unlinked_passenger_trips\": 255839.0, \"vehicle_revenue_hours\": 31591.0, \"_merge\": \"both\"}, {\"ntd_id\": \"90266\", \"agency\": \"City of Glendora\", \"city\": \"Glendora\", \"organization_type\": \"City, County or Local Government Unit or Department of Transportation\", \"reporter_type\": \"Reduced Reporter\", \"total_revenue_vehicles\": 9.0, \"total_service_vehicles\": 0.0, \"unlinked_passenger_trips\": 20009.0, \"vehicle_revenue_hours\": 13082.0, \"_merge\": \"both\"}, {\"ntd_id\": \"90267\", \"agency\": \"City of Huntington Park\", \"city\": \"Huntington Park\", \"organization_type\": \"City, County or Local Government Unit or Department of Transportation\", \"reporter_type\": \"Reduced Reporter\", \"total_revenue_vehicles\": 25.0, \"total_service_vehicles\": 0.0, \"unlinked_passenger_trips\": 126224.0, \"vehicle_revenue_hours\": 21191.0, \"_merge\": \"both\"}, {\"ntd_id\": \"90268\", \"agency\": \"City of Inglewood, dba: Inglewood Senior Center\", \"city\": \"Inglewood\", \"organization_type\": \"City, County or Local Government Unit or Department of Transportation\", \"reporter_type\": \"Reduced Reporter\", \"total_revenue_vehicles\": 9.0, \"total_service_vehicles\": 0.0, \"unlinked_passenger_trips\": 17910.0, \"vehicle_revenue_hours\": 8107.0, \"_merge\": \"both\"}, {\"ntd_id\": \"90269\", \"agency\": \"Los Angeles County, dba: LA County Public Works\", \"city\": \"Alhambra\", \"organization_type\": \"City, County or Local Government Unit or Department of Transportation\", \"reporter_type\": \"Reduced Reporter\", \"total_revenue_vehicles\": 2.0, \"total_service_vehicles\": 0.0, \"unlinked_passenger_trips\": 28232.0, \"vehicle_revenue_hours\": 3295.0, \"_merge\": \"both\"}, {\"ntd_id\": \"90270\", \"agency\": \"Los Angeles County\", \"city\": \"Alhambra\", \"organization_type\": \"City, County or Local Government Unit or Department of Transportation\", \"reporter_type\": \"Reduced Reporter\", \"total_revenue_vehicles\": 4.0, \"total_service_vehicles\": 0.0, \"unlinked_passenger_trips\": 19920.0, \"vehicle_revenue_hours\": 3710.0, \"_merge\": \"both\"}, {\"ntd_id\": \"90271\", \"agency\": \"Los Angeles County\", \"city\": \"Alhambra\", \"organization_type\": \"City, County or Local Government Unit or Department of Transportation\", \"reporter_type\": \"Reduced Reporter\", \"total_revenue_vehicles\": 17.0, \"total_service_vehicles\": 0.0, \"unlinked_passenger_trips\": 350502.0, \"vehicle_revenue_hours\": 30888.0, \"_merge\": \"both\"}, {\"ntd_id\": \"90272\", \"agency\": \"Los Angeles County\", \"city\": \"Alhambra\", \"organization_type\": \"City, County or Local Government Unit or Department of Transportation\", \"reporter_type\": \"Reduced Reporter\", \"total_revenue_vehicles\": 4.0, \"total_service_vehicles\": 0.0, \"unlinked_passenger_trips\": 22798.0, \"vehicle_revenue_hours\": 4017.0, \"_merge\": \"both\"}, {\"ntd_id\": \"90273\", \"agency\": \"Los Angeles County\", \"city\": \"Alhambra\", \"organization_type\": \"City, County or Local Government Unit or Department of Transportation\", \"reporter_type\": \"Reduced Reporter\", \"total_revenue_vehicles\": 4.0, \"total_service_vehicles\": 0.0, \"unlinked_passenger_trips\": 125593.0, \"vehicle_revenue_hours\": 6590.0, \"_merge\": \"both\"}, {\"ntd_id\": \"90274\", \"agency\": \"Los Angeles County\", \"city\": \"Alhambra\", \"organization_type\": \"City, County or Local Government Unit or Department of Transportation\", \"reporter_type\": \"Reduced Reporter\", \"total_revenue_vehicles\": 2.0, \"total_service_vehicles\": 0.0, \"unlinked_passenger_trips\": 20089.0, \"vehicle_revenue_hours\": 6116.0, \"_merge\": \"both\"}, {\"ntd_id\": \"90275\", \"agency\": \"Los Angeles County\", \"city\": \"Alhambra\", \"organization_type\": \"City, County or Local Government Unit or Department of Transportation\", \"reporter_type\": \"Reduced Reporter\", \"total_revenue_vehicles\": 1.0, \"total_service_vehicles\": 0.0, \"unlinked_passenger_trips\": 30019.0, \"vehicle_revenue_hours\": 3286.0, \"_merge\": \"both\"}, {\"ntd_id\": \"90276\", \"agency\": \"Los Angeles County\", \"city\": \"Alhambra\", \"organization_type\": \"City, County or Local Government Unit or Department of Transportation\", \"reporter_type\": \"Reduced Reporter\", \"total_revenue_vehicles\": 6.0, \"total_service_vehicles\": 0.0, \"unlinked_passenger_trips\": 89132.0, \"vehicle_revenue_hours\": 15453.0, \"_merge\": \"both\"}, {\"ntd_id\": \"90277\", \"agency\": \"Los Angeles County\", \"city\": \"Alhambra\", \"organization_type\": \"City, County or Local Government Unit or Department of Transportation\", \"reporter_type\": \"Reduced Reporter\", \"total_revenue_vehicles\": 10.0, \"total_service_vehicles\": 0.0, \"unlinked_passenger_trips\": 17730.0, \"vehicle_revenue_hours\": 10206.0, \"_merge\": \"both\"}, {\"ntd_id\": \"90278\", \"agency\": \"Los Angeles County\", \"city\": \"Alhambra\", \"organization_type\": \"City, County or Local Government Unit or Department of Transportation\", \"reporter_type\": \"Reduced Reporter\", \"total_revenue_vehicles\": 3.0, \"total_service_vehicles\": 0.0, \"unlinked_passenger_trips\": 24769.0, \"vehicle_revenue_hours\": 6574.0, \"_merge\": \"both\"}, {\"ntd_id\": \"90279\", \"agency\": \"Los Angeles County\", \"city\": \"Alhambra\", \"organization_type\": \"City, County or Local Government Unit or Department of Transportation\", \"reporter_type\": \"Reduced Reporter\", \"total_revenue_vehicles\": 7.0, \"total_service_vehicles\": 0.0, \"unlinked_passenger_trips\": 3246.0, \"vehicle_revenue_hours\": 1835.0, \"_merge\": \"both\"}, {\"ntd_id\": \"90281\", \"agency\": \"City of Lynwood, dba: Lynwood Breeze\", \"city\": \"Lynwood\", \"organization_type\": \"City, County or Local Government Unit or Department of Transportation\", \"reporter_type\": \"Reduced Reporter\", \"total_revenue_vehicles\": 4.0, \"total_service_vehicles\": 0.0, \"unlinked_passenger_trips\": 104052.0, \"vehicle_revenue_hours\": 14696.0, \"_merge\": \"both\"}, {\"ntd_id\": \"90282\", \"agency\": \"City of Malibu\", \"city\": \"Malibu\", \"organization_type\": \"City, County or Local Government Unit or Department of Transportation\", \"reporter_type\": \"Reduced Reporter\", \"total_revenue_vehicles\": 5.0, \"total_service_vehicles\": 0.0, \"unlinked_passenger_trips\": 239.0, \"vehicle_revenue_hours\": 144.0, \"_merge\": \"both\"}, {\"ntd_id\": \"90283\", \"agency\": \"City of Manhattan Beach , dba: City of Manhattan Beach Dial-A-Ride\", \"city\": \"Manhattan Beach\", \"organization_type\": \"City, County or Local Government Unit or Department of Transportation\", \"reporter_type\": \"Reduced Reporter\", \"total_revenue_vehicles\": 4.0, \"total_service_vehicles\": 0.0, \"unlinked_passenger_trips\": 9343.0, \"vehicle_revenue_hours\": 3227.0, \"_merge\": \"both\"}, {\"ntd_id\": \"90284\", \"agency\": \"City of Maywood\", \"city\": \"Maywood\", \"organization_type\": \"City, County or Local Government Unit or Department of Transportation\", \"reporter_type\": \"Reduced Reporter\", \"total_revenue_vehicles\": 7.0, \"total_service_vehicles\": 0.0, \"unlinked_passenger_trips\": 85400.0, \"vehicle_revenue_hours\": 4346.0, \"_merge\": \"both\"}, {\"ntd_id\": \"90285\", \"agency\": \"City of Monrovia, dba: GoMonrovia\", \"city\": \"Monrovia\", \"organization_type\": \"City, County or Local Government Unit or Department of Transportation\", \"reporter_type\": \"Reduced Reporter\", \"total_revenue_vehicles\": 8.0, \"total_service_vehicles\": 0.0, \"unlinked_passenger_trips\": 8716.0, \"vehicle_revenue_hours\": 5059.0, \"_merge\": \"both\"}, {\"ntd_id\": \"90286\", \"agency\": \"City of Monterey Park, dba: Spirit Bus\", \"city\": \"Montery Park\", \"organization_type\": \"City, County or Local Government Unit or Department of Transportation\", \"reporter_type\": \"Reduced Reporter\", \"total_revenue_vehicles\": 12.0, \"total_service_vehicles\": 0.0, \"unlinked_passenger_trips\": 37169.0, \"vehicle_revenue_hours\": 12594.0, \"_merge\": \"both\"}, {\"ntd_id\": \"90287\", \"agency\": \"Palos Verdes Peninsula Transit Authority\", \"city\": \"Rolling Hills\", \"organization_type\": \"Independent Public Agency or Authority of Transit Service\", \"reporter_type\": \"Reduced Reporter\", \"total_revenue_vehicles\": 27.0, \"total_service_vehicles\": 0.0, \"unlinked_passenger_trips\": 131176.0, \"vehicle_revenue_hours\": 18785.0, \"_merge\": \"both\"}, {\"ntd_id\": \"90288\", \"agency\": \"City of Pico Rivera\", \"city\": \"Pico Rivera\", \"organization_type\": \"City, County or Local Government Unit or Department of Transportation\", \"reporter_type\": \"Reduced Reporter\", \"total_revenue_vehicles\": 2.0, \"total_service_vehicles\": 0.0, \"unlinked_passenger_trips\": 4090.0, \"vehicle_revenue_hours\": 2214.0, \"_merge\": \"both\"}, {\"ntd_id\": \"90289\", \"agency\": \"City of Rosemead, dba: Rosemead Explorer/Dial-A-Ride\", \"city\": \"Rosemead\", \"organization_type\": \"City, County or Local Government Unit or Department of Transportation\", \"reporter_type\": \"Reduced Reporter\", \"total_revenue_vehicles\": 7.0, \"total_service_vehicles\": 0.0, \"unlinked_passenger_trips\": 52264.0, \"vehicle_revenue_hours\": 14420.0, \"_merge\": \"both\"}, {\"ntd_id\": \"90290\", \"agency\": \"City of Santa Fe Springs\", \"city\": \"Santa Fe Springs\", \"organization_type\": \"City, County or Local Government Unit or Department of Transportation\", \"reporter_type\": \"Reduced Reporter\", \"total_revenue_vehicles\": 3.0, \"total_service_vehicles\": 0.0, \"unlinked_passenger_trips\": 5668.0, \"vehicle_revenue_hours\": 2588.0, \"_merge\": \"both\"}, {\"ntd_id\": \"90291\", \"agency\": \"City of South Gate\", \"city\": \"South Gate\", \"organization_type\": \"City, County or Local Government Unit or Department of Transportation\", \"reporter_type\": \"Reduced Reporter\", \"total_revenue_vehicles\": 15.0, \"total_service_vehicles\": 0.0, \"unlinked_passenger_trips\": 103009.0, \"vehicle_revenue_hours\": 17928.0, \"_merge\": \"both\"}, {\"ntd_id\": \"90292\", \"agency\": \"City of South Pasadena\", \"city\": \"South Pasadena\", \"organization_type\": \"City, County or Local Government Unit or Department of Transportation\", \"reporter_type\": \"Reduced Reporter\", \"total_revenue_vehicles\": 6.0, \"total_service_vehicles\": 1.0, \"unlinked_passenger_trips\": 6897.0, \"vehicle_revenue_hours\": 3489.0, \"_merge\": \"both\"}, {\"ntd_id\": \"90293\", \"agency\": \"City of West Covina\", \"city\": \"West Covina\", \"organization_type\": \"City, County or Local Government Unit or Department of Transportation\", \"reporter_type\": \"Reduced Reporter\", \"total_revenue_vehicles\": 11.0, \"total_service_vehicles\": 0.0, \"unlinked_passenger_trips\": 34976.0, \"vehicle_revenue_hours\": 15677.0, \"_merge\": \"both\"}, {\"ntd_id\": \"90294\", \"agency\": \"City of West Hollywood\", \"city\": \"West Hollywood\", \"organization_type\": \"City, County or Local Government Unit or Department of Transportation\", \"reporter_type\": \"Reduced Reporter\", \"total_revenue_vehicles\": 15.0, \"total_service_vehicles\": 0.0, \"unlinked_passenger_trips\": 62677.0, \"vehicle_revenue_hours\": 20039.0, \"_merge\": \"both\"}, {\"ntd_id\": \"90295\", \"agency\": \"City of Whittier\", \"city\": \"Whittier\", \"organization_type\": \"City, County or Local Government Unit or Department of Transportation\", \"reporter_type\": \"Reduced Reporter\", \"total_revenue_vehicles\": 16.0, \"total_service_vehicles\": 0.0, \"unlinked_passenger_trips\": 38843.0, \"vehicle_revenue_hours\": 16862.0, \"_merge\": \"both\"}, {\"ntd_id\": \"90296\", \"agency\": \"City of Claremont\", \"city\": \"Claremont\", \"organization_type\": \"City, County or Local Government Unit or Department of Transportation\", \"reporter_type\": \"Reduced Reporter\", \"total_revenue_vehicles\": 28.0, \"total_service_vehicles\": 0.0, \"unlinked_passenger_trips\": 9356.0, \"vehicle_revenue_hours\": 1815.0, \"_merge\": \"both\"}, {\"ntd_id\": \"90298\", \"agency\": \"County of Ventura\", \"city\": \"Ventura\", \"organization_type\": \"City, County or Local Government Unit or Department of Transportation\", \"reporter_type\": \"Reduced Reporter\", \"total_revenue_vehicles\": 3.0, \"total_service_vehicles\": 0.0, \"unlinked_passenger_trips\": 36267.0, \"vehicle_revenue_hours\": 2604.0, \"_merge\": \"both\"}, {\"ntd_id\": \"90299\", \"agency\": \"Sonoma-Marin Area Rail Transit District\", \"city\": \"Petaluma\", \"organization_type\": \"Independent Public Agency or Authority of Transit Service\", \"reporter_type\": \"Full Reporter\", \"total_revenue_vehicles\": 18.0, \"total_service_vehicles\": 38.0, \"unlinked_passenger_trips\": 640099.0, \"vehicle_revenue_hours\": 34223.0, \"_merge\": \"both\"}, {\"ntd_id\": \"90300\", \"agency\": \"City of Artesia\", \"city\": \"Artesia\", \"organization_type\": \"City, County or Local Government Unit or Department of Transportation\", \"reporter_type\": \"Reduced Reporter\", \"total_revenue_vehicles\": 5.0, \"total_service_vehicles\": 0.0, \"unlinked_passenger_trips\": 1996.0, \"vehicle_revenue_hours\": 287.0, \"_merge\": \"both\"}, {\"ntd_id\": \"90301\", \"agency\": \"City of Lakewood , dba: DASH Transit\", \"city\": \"Lakewood\", \"organization_type\": \"City, County or Local Government Unit or Department of Transportation\", \"reporter_type\": \"Reduced Reporter\", \"total_revenue_vehicles\": 12.0, \"total_service_vehicles\": 0.0, \"unlinked_passenger_trips\": 8399.0, \"vehicle_revenue_hours\": 6466.0, \"_merge\": \"both\"}, {\"ntd_id\": \"90302\", \"agency\": \"San Bernardino County Transportation Authority\", \"city\": \"San Bernardino\", \"organization_type\": \"MPO, COG or Other Planning Agency\", \"reporter_type\": \"Full Reporter\", \"total_revenue_vehicles\": 78.0, \"total_service_vehicles\": 0.0, \"unlinked_passenger_trips\": 140210.0, \"vehicle_revenue_hours\": 37273.0, \"_merge\": \"both\"}, {\"ntd_id\": \"90303\", \"agency\": \"Santa Barbara County Association of Governments, dba: Clean Air Express\", \"city\": \"Santa Barbara\", \"organization_type\": \"MPO, COG or Other Planning Agency\", \"reporter_type\": \"Reduced Reporter\", \"total_revenue_vehicles\": 18.0, \"total_service_vehicles\": 0.0, \"unlinked_passenger_trips\": 106075.0, \"vehicle_revenue_hours\": 6810.0, \"_merge\": \"both\"}, {\"ntd_id\": \"90306\", \"agency\": \"Stanislaus Regional Transit Authority\", \"city\": \"Modesto\", \"organization_type\": \"Independent Public Agency or Authority of Transit Service\", \"reporter_type\": \"Full Reporter\", \"total_revenue_vehicles\": 122.0, \"total_service_vehicles\": 4.0, \"unlinked_passenger_trips\": 2434940.0, \"vehicle_revenue_hours\": 275671.0, \"_merge\": \"both\"}, {\"ntd_id\": \"90310\", \"agency\": \"Tulare County Regional Transit Agency\", \"city\": \"Visalia\", \"organization_type\": \"Independent Public Agency or Authority of Transit Service\", \"reporter_type\": \"Full Reporter\", \"total_revenue_vehicles\": 94.0, \"total_service_vehicles\": 1.0, \"unlinked_passenger_trips\": 673925.0, \"vehicle_revenue_hours\": 118060.0, \"_merge\": \"both\"}, {\"ntd_id\": \"90311\", \"agency\": \"Stanislaus Council of Governments, dba: StanisCruise\", \"city\": \"Modesto\", \"organization_type\": \"MPO, COG or Other Planning Agency\", \"reporter_type\": \"Full Reporter\", \"total_revenue_vehicles\": 65.0, \"total_service_vehicles\": 0.0, \"unlinked_passenger_trips\": 52346.0, \"vehicle_revenue_hours\": 14815.0, \"_merge\": \"both\"}, {\"ntd_id\": \"91000\", \"agency\": \"Amador Transit\", \"city\": \"Jackson\", \"organization_type\": \"Independent Public Agency or Authority of Transit Service\", \"reporter_type\": \"Rural Reporter\", \"total_revenue_vehicles\": 18.0, \"total_service_vehicles\": 3.0, \"unlinked_passenger_trips\": 32626.0, \"vehicle_revenue_hours\": 12877.0, \"_merge\": \"both\"}, {\"ntd_id\": \"91002\", \"agency\": \"City of Corcoran, dba: Corcoran Area Transit\", \"city\": \"Corcoran\", \"organization_type\": \"City, County or Local Government Unit or Department of Transportation\", \"reporter_type\": \"Rural Reporter\", \"total_revenue_vehicles\": 6.0, \"total_service_vehicles\": 0.0, \"unlinked_passenger_trips\": 25199.0, \"vehicle_revenue_hours\": 3691.0, \"_merge\": \"both\"}, {\"ntd_id\": \"91005\", \"agency\": \"Madera County\", \"city\": \"Madera\", \"organization_type\": \"City, County or Local Government Unit or Department of Transportation\", \"reporter_type\": \"Reduced Reporter\", \"total_revenue_vehicles\": 13.0, \"total_service_vehicles\": 0.0, \"unlinked_passenger_trips\": 28801.0, \"vehicle_revenue_hours\": 13225.0, \"_merge\": \"both\"}, {\"ntd_id\": \"91006\", \"agency\": \"City of Ridgecrest, dba: Ridgerunner\", \"city\": \"Ridgecrest\", \"organization_type\": \"City, County or Local Government Unit or Department of Transportation\", \"reporter_type\": \"Rural Reporter\", \"total_revenue_vehicles\": 9.0, \"total_service_vehicles\": 1.0, \"unlinked_passenger_trips\": 10326.0, \"vehicle_revenue_hours\": 4383.0, \"_merge\": \"both\"}, {\"ntd_id\": \"91007\", \"agency\": \"Fresno County Rural Transit Agency\", \"city\": \"Fresno\", \"organization_type\": \"Independent Public Agency or Authority of Transit Service\", \"reporter_type\": \"Rural Reporter\", \"total_revenue_vehicles\": 120.0, \"total_service_vehicles\": 3.0, \"unlinked_passenger_trips\": 169754.0, \"vehicle_revenue_hours\": 59434.0, \"_merge\": \"both\"}, {\"ntd_id\": \"91008\", \"agency\": \"Modoc Transportation Agency, dba: Sage Stage\", \"city\": \"Alturas\", \"organization_type\": \"Independent Public Agency or Authority of Transit Service\", \"reporter_type\": \"Rural Reporter\", \"total_revenue_vehicles\": 5.0, \"total_service_vehicles\": 0.0, \"unlinked_passenger_trips\": 10721.0, \"vehicle_revenue_hours\": 6847.0, \"_merge\": \"both\"}, {\"ntd_id\": \"91009\", \"agency\": \"San Benito County Local Transportation Authority, dba: San Benito County Express\", \"city\": \"Hollister\", \"organization_type\": \"Independent Public Agency or Authority of Transit Service\", \"reporter_type\": \"Rural Reporter\", \"total_revenue_vehicles\": 27.0, \"total_service_vehicles\": 1.0, \"unlinked_passenger_trips\": 63114.0, \"vehicle_revenue_hours\": 24075.0, \"_merge\": \"both\"}, {\"ntd_id\": \"91012\", \"agency\": \"Mountain Area Regional Transit Authority, dba: Mountain Transit\", \"city\": \"Big Bear Lake\", \"organization_type\": \"Independent Public Agency or Authority of Transit Service\", \"reporter_type\": \"Rural Reporter\", \"total_revenue_vehicles\": 34.0, \"total_service_vehicles\": 8.0, \"unlinked_passenger_trips\": 838867.0, \"vehicle_revenue_hours\": 51669.0, \"_merge\": \"both\"}, {\"ntd_id\": \"91014\", \"agency\": \"City of Rio Vista, dba: Rio Vista Delta Breeze\", \"city\": \"Rio Vista\", \"organization_type\": \"City, County or Local Government Unit or Department of Transportation\", \"reporter_type\": \"Rural Reporter\", \"total_revenue_vehicles\": 5.0, \"total_service_vehicles\": 0.0, \"unlinked_passenger_trips\": 4082.0, \"vehicle_revenue_hours\": 3538.0, \"_merge\": \"both\"}, {\"ntd_id\": \"91018\", \"agency\": \"City of Arcata, dba: Arcata & Mad River Transit System\", \"city\": \"Arcata\", \"organization_type\": \"City, County or Local Government Unit or Department of Transportation\", \"reporter_type\": \"Rural Reporter\", \"total_revenue_vehicles\": 2.0, \"total_service_vehicles\": 3.0, \"unlinked_passenger_trips\": 63140.0, \"vehicle_revenue_hours\": 5673.0, \"_merge\": \"both\"}, {\"ntd_id\": \"91020\", \"agency\": \"City of Needles, dba: Needles Area Transit\", \"city\": \"Needles\", \"organization_type\": \"City, County or Local Government Unit or Department of Transportation\", \"reporter_type\": \"Rural Reporter\", \"total_revenue_vehicles\": 3.0, \"total_service_vehicles\": 0.0, \"unlinked_passenger_trips\": 19201.0, \"vehicle_revenue_hours\": 3444.0, \"_merge\": \"both\"}, {\"ntd_id\": \"91027\", \"agency\": \"City of Arvin, dba: Arvin Transit\", \"city\": \"Arvin\", \"organization_type\": \"City, County or Local Government Unit or Department of Transportation\", \"reporter_type\": \"Rural Reporter\", \"total_revenue_vehicles\": 6.0, \"total_service_vehicles\": 1.0, \"unlinked_passenger_trips\": 59676.0, \"vehicle_revenue_hours\": 7487.0, \"_merge\": \"both\"}, {\"ntd_id\": \"91028\", \"agency\": \"City of Solvang, dba: Santa Ynez Valley Transit\", \"city\": \"Solvang\", \"organization_type\": \"City, County or Local Government Unit or Department of Transportation\", \"reporter_type\": \"Rural Reporter\", \"total_revenue_vehicles\": 6.0, \"total_service_vehicles\": 0.0, \"unlinked_passenger_trips\": 45539.0, \"vehicle_revenue_hours\": 12219.0, \"_merge\": \"both\"}, {\"ntd_id\": \"91032\", \"agency\": \"City of Auburn, dba: Auburn Transit\", \"city\": \"Auburn\", \"organization_type\": \"City, County or Local Government Unit or Department of Transportation\", \"reporter_type\": \"Rural Reporter\", \"total_revenue_vehicles\": 8.0, \"total_service_vehicles\": 0.0, \"unlinked_passenger_trips\": 27355.0, \"vehicle_revenue_hours\": 8008.0, \"_merge\": \"both\"}, {\"ntd_id\": \"91035\", \"agency\": \"Trinity County, dba: Trinity Transit\", \"city\": \"Weaverville\", \"organization_type\": \"City, County or Local Government Unit or Department of Transportation\", \"reporter_type\": \"Rural Reporter\", \"total_revenue_vehicles\": 8.0, \"total_service_vehicles\": 1.0, \"unlinked_passenger_trips\": 7278.0, \"vehicle_revenue_hours\": 3462.0, \"_merge\": \"both\"}, {\"ntd_id\": \"91036\", \"agency\": \"Humboldt Transit Authority\", \"city\": \"Eureka\", \"organization_type\": \"Independent Public Agency or Authority of Transit Service\", \"reporter_type\": \"Rural Reporter\", \"total_revenue_vehicles\": 31.0, \"total_service_vehicles\": 9.0, \"unlinked_passenger_trips\": 303929.0, \"vehicle_revenue_hours\": 36799.0, \"_merge\": \"both\"}, {\"ntd_id\": \"91038\", \"agency\": \"Sierra County , dba: Sierra County Transportation Commission\", \"city\": \"Downieville\", \"organization_type\": \"City, County or Local Government Unit or Department of Transportation\", \"reporter_type\": \"Rural Reporter\", \"total_revenue_vehicles\": 4.0, \"total_service_vehicles\": 0.0, \"unlinked_passenger_trips\": 2534.0, \"vehicle_revenue_hours\": 3098.0, \"_merge\": \"both\"}, {\"ntd_id\": \"91041\", \"agency\": \"City of Dixon , dba: Readi-Ride\", \"city\": \"Dixon\", \"organization_type\": \"City, County or Local Government Unit or Department of Transportation\", \"reporter_type\": \"Rural Reporter\", \"total_revenue_vehicles\": 11.0, \"total_service_vehicles\": 0.0, \"unlinked_passenger_trips\": 35377.0, \"vehicle_revenue_hours\": 8853.0, \"_merge\": \"both\"}, {\"ntd_id\": \"91043\", \"agency\": \"City of Guadalupe\", \"city\": \"Guadalupe\", \"organization_type\": \"City, County or Local Government Unit or Department of Transportation\", \"reporter_type\": \"Rural Reporter\", \"total_revenue_vehicles\": 4.0, \"total_service_vehicles\": 0.0, \"unlinked_passenger_trips\": 69963.0, \"vehicle_revenue_hours\": 9623.0, \"_merge\": \"both\"}, {\"ntd_id\": \"91047\", \"agency\": \"Mendocino Transit Authority\", \"city\": \"Ukiah\", \"organization_type\": \"Independent Public Agency or Authority of Transit Service\", \"reporter_type\": \"Rural Reporter\", \"total_revenue_vehicles\": 33.0, \"total_service_vehicles\": 9.0, \"unlinked_passenger_trips\": 139627.0, \"vehicle_revenue_hours\": 40960.0, \"_merge\": \"both\"}, {\"ntd_id\": \"91048\", \"agency\": \"County of Siskiyou, dba: Siskiyou County Transit\", \"city\": \"Yreka\", \"organization_type\": \"City, County or Local Government Unit or Department of Transportation\", \"reporter_type\": \"Rural Reporter\", \"total_revenue_vehicles\": 10.0, \"total_service_vehicles\": 4.0, \"unlinked_passenger_trips\": 27929.0, \"vehicle_revenue_hours\": 10221.0, \"_merge\": \"both\"}, {\"ntd_id\": \"91053\", \"agency\": \"Lake Transit Authority\", \"city\": \"Lower Lake\", \"organization_type\": \"Independent Public Agency or Authority of Transit Service\", \"reporter_type\": \"Rural Reporter\", \"total_revenue_vehicles\": 35.0, \"total_service_vehicles\": 0.0, \"unlinked_passenger_trips\": 187473.0, \"vehicle_revenue_hours\": 37970.0, \"_merge\": \"both\"}, {\"ntd_id\": \"91057\", \"agency\": \"Tuolumne County Transit\", \"city\": \"Sonora\", \"organization_type\": \"Independent Public Agency or Authority of Transit Service\", \"reporter_type\": \"Rural Reporter\", \"total_revenue_vehicles\": 22.0, \"total_service_vehicles\": 0.0, \"unlinked_passenger_trips\": 67086.0, \"vehicle_revenue_hours\": 23459.0, \"_merge\": \"both\"}, {\"ntd_id\": \"91058\", \"agency\": \"City of Ojai\", \"city\": \"Ojai\", \"organization_type\": \"City, County or Local Government Unit or Department of Transportation\", \"reporter_type\": \"Reduced Reporter\", \"total_revenue_vehicles\": 5.0, \"total_service_vehicles\": 1.0, \"unlinked_passenger_trips\": 48294.0, \"vehicle_revenue_hours\": 4316.0, \"_merge\": \"both\"}, {\"ntd_id\": \"91059\", \"agency\": \"Kern Regional Transit\", \"city\": \"Bakersfield\", \"organization_type\": \"Independent Public Agency or Authority of Transit Service\", \"reporter_type\": \"Reduced Reporter\", \"total_revenue_vehicles\": 60.0, \"total_service_vehicles\": 1.0, \"unlinked_passenger_trips\": 215876.0, \"vehicle_revenue_hours\": 79427.0, \"_merge\": \"both\"}, {\"ntd_id\": \"91062\", \"agency\": \"Eastern Sierra Transit Authority\", \"city\": \"Bishop\", \"organization_type\": \"Independent Public Agency or Authority of Transit Service\", \"reporter_type\": \"Rural Reporter\", \"total_revenue_vehicles\": 58.0, \"total_service_vehicles\": 10.0, \"unlinked_passenger_trips\": 907249.0, \"vehicle_revenue_hours\": 56343.0, \"_merge\": \"both\"}, {\"ntd_id\": \"91066\", \"agency\": \"City of Taft, dba: Taft Area Transit\", \"city\": \"Taft\", \"organization_type\": \"City, County or Local Government Unit or Department of Transportation\", \"reporter_type\": \"Rural Reporter\", \"total_revenue_vehicles\": 9.0, \"total_service_vehicles\": 0.0, \"unlinked_passenger_trips\": 25855.0, \"vehicle_revenue_hours\": 5746.0, \"_merge\": \"both\"}, {\"ntd_id\": \"91070\", \"agency\": \"Yosemite Area Regional Transportation System\", \"city\": \"Merced\", \"organization_type\": \"Independent Public Agency or Authority of Transit Service\", \"reporter_type\": \"Rural Reporter\", \"total_revenue_vehicles\": 9.0, \"total_service_vehicles\": 0.0, \"unlinked_passenger_trips\": 61950.0, \"vehicle_revenue_hours\": 17365.0, \"_merge\": \"both\"}, {\"ntd_id\": \"91071\", \"agency\": \"City of Chowchilla, dba: Chowchilla Area Transit Express\", \"city\": \"Chowchilla\", \"organization_type\": \"City, County or Local Government Unit or Department of Transportation\", \"reporter_type\": \"Rural Reporter\", \"total_revenue_vehicles\": 3.0, \"total_service_vehicles\": 0.0, \"unlinked_passenger_trips\": 12742.0, \"vehicle_revenue_hours\": 2050.0, \"_merge\": \"both\"}, {\"ntd_id\": \"91078\", \"agency\": \"City of Escalon, dba: eTrans\", \"city\": \"Escalon\", \"organization_type\": \"City, County or Local Government Unit or Department of Transportation\", \"reporter_type\": \"Reduced Reporter\", \"total_revenue_vehicles\": 4.0, \"total_service_vehicles\": 0.0, \"unlinked_passenger_trips\": 1242.0, \"vehicle_revenue_hours\": 790.0, \"_merge\": \"both\"}, {\"ntd_id\": \"91082\", \"agency\": \"Mariposa County\", \"city\": \"Mariposa\", \"organization_type\": \"City, County or Local Government Unit or Department of Transportation\", \"reporter_type\": \"Rural Reporter\", \"total_revenue_vehicles\": 11.0, \"total_service_vehicles\": 0.0, \"unlinked_passenger_trips\": 9014.0, \"vehicle_revenue_hours\": 4560.0, \"_merge\": \"both\"}, {\"ntd_id\": \"91088\", \"agency\": \"County of Glenn, dba: Glenn Transit Services\", \"city\": \"Willows\", \"organization_type\": \"City, County or Local Government Unit or Department of Transportation\", \"reporter_type\": \"Rural Reporter\", \"total_revenue_vehicles\": 8.0, \"total_service_vehicles\": 0.0, \"unlinked_passenger_trips\": 24357.0, \"vehicle_revenue_hours\": 5800.0, \"_merge\": \"both\"}, {\"ntd_id\": \"91089\", \"agency\": \"Tehama County, dba: Tehama Rural Area Express\", \"city\": \"Gerber\", \"organization_type\": \"City, County or Local Government Unit or Department of Transportation\", \"reporter_type\": \"Rural Reporter\", \"total_revenue_vehicles\": 20.0, \"total_service_vehicles\": 2.0, \"unlinked_passenger_trips\": 119863.0, \"vehicle_revenue_hours\": 27464.0, \"_merge\": \"both\"}, {\"ntd_id\": \"91090\", \"agency\": \"Morongo Basin Transit Authority, dba: Basin Transit\", \"city\": \"Joshua Tree\", \"organization_type\": \"Independent Public Agency or Authority of Transit Service\", \"reporter_type\": \"Rural Reporter\", \"total_revenue_vehicles\": 23.0, \"total_service_vehicles\": 8.0, \"unlinked_passenger_trips\": 169710.0, \"vehicle_revenue_hours\": 31867.0, \"_merge\": \"both\"}, {\"ntd_id\": \"91093\", \"agency\": \"City of Eureka , dba: Eureka Transit Service\", \"city\": \"Eureka\", \"organization_type\": \"City, County or Local Government Unit or Department of Transportation\", \"reporter_type\": \"Rural Reporter\", \"total_revenue_vehicles\": 11.0, \"total_service_vehicles\": 0.0, \"unlinked_passenger_trips\": 142049.0, \"vehicle_revenue_hours\": 20074.0, \"_merge\": \"both\"}, {\"ntd_id\": \"91095\", \"agency\": \"County of Nevada, dba: Nevada County Connects\", \"city\": \"Nevada City\", \"organization_type\": \"City, County or Local Government Unit or Department of Transportation\", \"reporter_type\": \"Rural Reporter\", \"total_revenue_vehicles\": 24.0, \"total_service_vehicles\": 6.0, \"unlinked_passenger_trips\": 136043.0, \"vehicle_revenue_hours\": 27490.0, \"_merge\": \"both\"}, {\"ntd_id\": \"91097\", \"agency\": \"Redwood Coast Transit Authority\", \"city\": \"Crescent City\", \"organization_type\": \"Independent Public Agency or Authority of Transit Service\", \"reporter_type\": \"Rural Reporter\", \"total_revenue_vehicles\": 14.0, \"total_service_vehicles\": 2.0, \"unlinked_passenger_trips\": 72351.0, \"vehicle_revenue_hours\": 15925.0, \"_merge\": \"both\"}, {\"ntd_id\": \"91098\", \"agency\": \"Lassen Transit Service Agency\", \"city\": \"Susanville\", \"organization_type\": \"Independent Public Agency or Authority of Transit Service\", \"reporter_type\": \"Rural Reporter\", \"total_revenue_vehicles\": 13.0, \"total_service_vehicles\": 1.0, \"unlinked_passenger_trips\": 76542.0, \"vehicle_revenue_hours\": 8470.0, \"_merge\": \"both\"}, {\"ntd_id\": \"91101\", \"agency\": \"Town of Truckee, dba: Truckee TART\", \"city\": \"Truckee\", \"organization_type\": \"City, County or Local Government Unit or Department of Transportation\", \"reporter_type\": \"Rural Reporter\", \"total_revenue_vehicles\": 7.0, \"total_service_vehicles\": 0.0, \"unlinked_passenger_trips\": 41913.0, \"vehicle_revenue_hours\": 7931.0, \"_merge\": \"both\"}, {\"ntd_id\": \"91110\", \"agency\": \"City of McFarland, dba: McFarland City Transit Bus\", \"city\": \"Mcfarland\", \"organization_type\": \"City, County or Local Government Unit or Department of Transportation\", \"reporter_type\": \"Rural Reporter\", \"total_revenue_vehicles\": 2.0, \"total_service_vehicles\": 0.0, \"unlinked_passenger_trips\": 3433.0, \"vehicle_revenue_hours\": 1095.0, \"_merge\": \"both\"}, {\"ntd_id\": \"91111\", \"agency\": \"City of California City\", \"city\": \"California City\", \"organization_type\": \"City, County or Local Government Unit or Department of Transportation\", \"reporter_type\": \"Rural Reporter\", \"total_revenue_vehicles\": 3.0, \"total_service_vehicles\": 0.0, \"unlinked_passenger_trips\": 9224.0, \"vehicle_revenue_hours\": 1562.0, \"_merge\": \"both\"}, {\"ntd_id\": \"91112\", \"agency\": \"County of Colusa, dba: Colusa County Transit Agency\", \"city\": \"Colusa\", \"organization_type\": \"City, County or Local Government Unit or Department of Transportation\", \"reporter_type\": \"Rural Reporter\", \"total_revenue_vehicles\": 11.0, \"total_service_vehicles\": 2.0, \"unlinked_passenger_trips\": 32263.0, \"vehicle_revenue_hours\": 7734.0, \"_merge\": \"both\"}, {\"ntd_id\": \"91116\", \"agency\": \"County of Alpine\", \"city\": \"Markleeville\", \"organization_type\": \"City, County or Local Government Unit or Department of Transportation\", \"reporter_type\": \"Rural Reporter\", \"total_revenue_vehicles\": 2.0, \"total_service_vehicles\": 0.0, \"unlinked_passenger_trips\": 325.0, \"vehicle_revenue_hours\": 515.0, \"_merge\": \"both\"}, {\"ntd_id\": \"91119\", \"agency\": \"Plumas County Transportation Commission\", \"city\": \"Quincy\", \"organization_type\": \"Independent Public Agency or Authority of Transit Service\", \"reporter_type\": \"Rural Reporter\", \"total_revenue_vehicles\": 10.0, \"total_service_vehicles\": 0.0, \"unlinked_passenger_trips\": 24699.0, \"vehicle_revenue_hours\": 5929.0, \"_merge\": \"both\"}, {\"ntd_id\": \"91120\", \"agency\": \"City of Shafter, dba: Shafter Dial-A-Ride\", \"city\": \"Shafter\", \"organization_type\": \"City, County or Local Government Unit or Department of Transportation\", \"reporter_type\": \"Rural Reporter\", \"total_revenue_vehicles\": 5.0, \"total_service_vehicles\": 0.0, \"unlinked_passenger_trips\": 17665.0, \"vehicle_revenue_hours\": 1941.0, \"_merge\": \"both\"}, {\"ntd_id\": \"99262\", \"agency\": \"Yurok Tribe, dba: Tribe Yurok\", \"city\": \"Klamath\", \"organization_type\": \"Tribe\", \"reporter_type\": \"Reduced Reporter\", \"total_revenue_vehicles\": 12.0, \"total_service_vehicles\": 0.0, \"unlinked_passenger_trips\": 17672.0, \"vehicle_revenue_hours\": 2300.0, \"_merge\": \"both\"}, {\"ntd_id\": \"99292\", \"agency\": \"Blue Lake Rancheria, dba: Blue Lake Rancheria Transit System\", \"city\": \"Blue Lake\", \"organization_type\": \"Tribe\", \"reporter_type\": \"Reduced Reporter\", \"total_revenue_vehicles\": 3.0, \"total_service_vehicles\": 0.0, \"unlinked_passenger_trips\": 2405.0, \"vehicle_revenue_hours\": 1068.0, \"_merge\": \"both\"}, {\"ntd_id\": \"99316\", \"agency\": \"Chemehuevi Indian Tribe\", \"city\": \"Havasu Lake\", \"organization_type\": \"Tribe\", \"reporter_type\": \"Reduced Reporter\", \"total_revenue_vehicles\": 2.0, \"total_service_vehicles\": 1.0, \"unlinked_passenger_trips\": 200000.0, \"vehicle_revenue_hours\": 6500.0, \"_merge\": \"both\"}, {\"ntd_id\": \"99358\", \"agency\": \"Morongo Band of Mission Indians, dba: Morongo Dial- A-Ride\", \"city\": \"Banning\", \"organization_type\": \"Tribe\", \"reporter_type\": \"Reduced Reporter\", \"total_revenue_vehicles\": 2.0, \"total_service_vehicles\": 0.0, \"unlinked_passenger_trips\": 2829.0, \"vehicle_revenue_hours\": 725.0, \"_merge\": \"both\"}, {\"ntd_id\": \"99364\", \"agency\": \"North Fork Rancheria of Mono Indians of California, dba: NFR Tranportation\", \"city\": \"North Fork\", \"organization_type\": \"Tribe\", \"reporter_type\": \"Reduced Reporter\", \"total_revenue_vehicles\": 4.0, \"total_service_vehicles\": 0.0, \"unlinked_passenger_trips\": 602.0, \"vehicle_revenue_hours\": 129.0, \"_merge\": \"both\"}, {\"ntd_id\": \"99422\", \"agency\": \"San Joaquin Council, dba: Dibs\", \"city\": \"Stockton\", \"organization_type\": \"MPO, COG or Other Planning Agency\", \"reporter_type\": \"Full Reporter\", \"total_revenue_vehicles\": 428.0, \"total_service_vehicles\": 0.0, \"unlinked_passenger_trips\": 909739.0, \"vehicle_revenue_hours\": 229232.0, \"_merge\": \"both\"}, {\"ntd_id\": \"99423\", \"agency\": \"City of Glendale, dba: Beeline Bus/Dial-A-Ride\", \"city\": \"Glendale\", \"organization_type\": \"City, County or Local Government Unit or Department of Transportation\", \"reporter_type\": \"Full Reporter\", \"total_revenue_vehicles\": 54.0, \"total_service_vehicles\": 0.0, \"unlinked_passenger_trips\": 743854.0, \"vehicle_revenue_hours\": 109781.0, \"_merge\": \"both\"}, {\"ntd_id\": \"99424\", \"agency\": \"City of Pasadena, dba: Pasadena Transit\", \"city\": \"Pasadena\", \"organization_type\": \"City, County or Local Government Unit or Department of Transportation\", \"reporter_type\": \"Full Reporter\", \"total_revenue_vehicles\": 50.0, \"total_service_vehicles\": 0.0, \"unlinked_passenger_trips\": 1149981.0, \"vehicle_revenue_hours\": 81971.0, \"_merge\": \"both\"}, {\"ntd_id\": \"99425\", \"agency\": \"Pomona Valley Transportation Authority\", \"city\": \"La Verne\", \"organization_type\": \"Independent Public Agency or Authority of Transit Service\", \"reporter_type\": \"Full Reporter\", \"total_revenue_vehicles\": 45.0, \"total_service_vehicles\": 0.0, \"unlinked_passenger_trips\": 85358.0, \"vehicle_revenue_hours\": 28570.0, \"_merge\": \"both\"}, {\"ntd_id\": \"99426\", \"agency\": \"City of Wasco\", \"city\": \"Wasco\", \"organization_type\": \"City, County or Local Government Unit or Department of Transportation\", \"reporter_type\": \"Rural Reporter\", \"total_revenue_vehicles\": 3.0, \"total_service_vehicles\": 0.0, \"unlinked_passenger_trips\": 11236.0, \"vehicle_revenue_hours\": 2970.0, \"_merge\": \"both\"}, {\"ntd_id\": \"99442\", \"agency\": \"Calaveras Transit Agency, dba: Calaveras Connect\", \"city\": \"San Andreas\", \"organization_type\": \"Independent Public Agency or Authority of Transit Service\", \"reporter_type\": \"Rural Reporter\", \"total_revenue_vehicles\": 11.0, \"total_service_vehicles\": 1.0, \"unlinked_passenger_trips\": 28321.0, \"vehicle_revenue_hours\": 14823.0, \"_merge\": \"both\"}, {\"ntd_id\": \"99454\", \"agency\": \"Palo Verde Valley Transit Agency, dba: RidePV\", \"city\": \"Blythe\", \"organization_type\": \"Independent Public Agency or Authority of Transit Service\", \"reporter_type\": \"Rural Reporter\", \"total_revenue_vehicles\": 10.0, \"total_service_vehicles\": 6.0, \"unlinked_passenger_trips\": 39447.0, \"vehicle_revenue_hours\": 7705.0, \"_merge\": \"both\"}]}}, {\"mode\": \"vega-lite\"});\n",
       "</script>"
      ],
      "text/plain": [
       "alt.LayerChart(...)"
      ]
     },
     "execution_count": 51,
     "metadata": {},
     "output_type": "execute_result"
    }
   ],
   "source": [
    "chart = alt.Chart(service_v_upt_no_outliers).mark_point().encode(\n",
    "    x = \"total_service_vehicles\",\n",
    "    y = \"unlinked_passenger_trips\"\n",
    ")\n",
    "\n",
    "chart + chart.transform_regression(\"total_service_vehicles\",\"unlinked_passenger_trips\").mark_line()"
   ]
  },
  {
   "cell_type": "code",
   "execution_count": null,
   "id": "1f80a554-b22b-492f-8c46-326c73185bbc",
   "metadata": {},
   "outputs": [],
   "source": []
  }
 ],
 "metadata": {
  "kernelspec": {
   "display_name": "Python 3 (ipykernel)",
   "language": "python",
   "name": "python3"
  },
  "language_info": {
   "codemirror_mode": {
    "name": "ipython",
    "version": 3
   },
   "file_extension": ".py",
   "mimetype": "text/x-python",
   "name": "python",
   "nbconvert_exporter": "python",
   "pygments_lexer": "ipython3",
   "version": "3.11.6"
  }
 },
 "nbformat": 4,
 "nbformat_minor": 5
}
