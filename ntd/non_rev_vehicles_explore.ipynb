{
 "cells": [
  {
   "cell_type": "markdown",
   "id": "7d3670e4-e693-4b88-9e00-3f258c2cac32",
   "metadata": {},
   "source": [
    "# Research Request - Non-Revenue Vehicle Fleet Sizes #1236\n",
    "\n",
    "How many non-revenue vehicles do transit agencies have. \n",
    "\n",
    "Also known as \"service vehicles\", Non-revenue vehicle data are excluded from UPT, VRM, VRH reports (since these NRV are not meant to carry passengers or make revenue).\n",
    "\n",
    "NRVs are like support vehicles used to maintain transit operations (service/maintenance vehicles, other support.\n",
    "\n",
    "Service Vehicle Inventory (Form A-35): \"Transit agencies are required to report data on service vehicles, or vehicles which do not carry passengers.\n"
   ]
  },
  {
   "cell_type": "code",
   "execution_count": 1,
   "id": "9f246b2c-0cc7-4742-98fc-cafb1cf093e6",
   "metadata": {},
   "outputs": [],
   "source": [
    "import requests\n",
    "import json\n",
    "import pandas as pd\n",
    "import numpy as np\n",
    "\n",
    "pd.set_option('display.max_columns', None)\n",
    "pd.set_option('display.max_rows', None) \n",
    "pd.set_option('display.max_colwidth', None)"
   ]
  },
  {
   "cell_type": "code",
   "execution_count": 2,
   "id": "c5c698bb-dee5-45be-950a-35ec133c8edb",
   "metadata": {},
   "outputs": [
    {
     "name": "stdout",
     "output_type": "stream",
     "text": [
      "<Response [200]>\n"
     ]
    }
   ],
   "source": [
    "# ping blackcat api to get 2024 blackcat data\n",
    "api_2024 = \"https://services.blackcattransit.com/api/APIModules/GetNTDReportsByYear/BCG_CA/2024\"\n",
    "\n",
    "response = requests.get(api_2024)\n",
    "\n",
    "print(response)"
   ]
  },
  {
   "cell_type": "code",
   "execution_count": 4,
   "id": "945a554a-dfda-4da7-9160-fe4fc01de0c5",
   "metadata": {},
   "outputs": [],
   "source": [
    "blob_2024 = response.json()"
   ]
  },
  {
   "cell_type": "code",
   "execution_count": 22,
   "id": "04c1332f-0dbc-4793-b62e-e84f5d994c77",
   "metadata": {},
   "outputs": [
    {
     "data": {
      "text/plain": [
       "list"
      ]
     },
     "execution_count": 22,
     "metadata": {},
     "output_type": "execute_result"
    }
   ],
   "source": [
    "type(blob_2024)"
   ]
  },
  {
   "cell_type": "code",
   "execution_count": 5,
   "id": "e0cccbe2-2cd9-40e4-a349-1f3c0aaf7a73",
   "metadata": {},
   "outputs": [
    {
     "data": {
      "text/plain": [
       "86"
      ]
     },
     "execution_count": 5,
     "metadata": {},
     "output_type": "execute_result"
    }
   ],
   "source": [
    "len(blob_2024)"
   ]
  },
  {
   "cell_type": "code",
   "execution_count": 8,
   "id": "2b431a6e-6979-4f4e-a07a-9e43f9fe1cb7",
   "metadata": {},
   "outputs": [],
   "source": [
    "tables_2024 = []\n",
    "values_2024 = []\n",
    "\n",
    "for k, v in blob_2024[0].items():\n",
    "    tables_2024.append(k)\n",
    "    values_2024.append(v)"
   ]
  },
  {
   "cell_type": "code",
   "execution_count": 7,
   "id": "d039fdbf-b033-4854-8a0a-ba272dd57af8",
   "metadata": {},
   "outputs": [
    {
     "data": {
      "text/plain": [
       "['ReportId',\n",
       " 'Organization',\n",
       " 'ReportPeriod',\n",
       " 'ReportStatus',\n",
       " 'ReportLastModifiedDate',\n",
       " 'NTDReportingStationsAndMaintenance',\n",
       " 'NTDTransitAssetManagementA15',\n",
       " 'NTDAssetAndResourceInfo',\n",
       " 'NTDReportingP10',\n",
       " 'NTDReportingP20',\n",
       " 'NTDReportingP50',\n",
       " 'NTDReportingA35',\n",
       " 'NTDReportingRR20_Intercity',\n",
       " 'NTDReportingRR20_Rural',\n",
       " 'NTDReportingRR20_Urban_Tribal',\n",
       " 'NTDReportingTAMNarrative',\n",
       " 'SS60']"
      ]
     },
     "execution_count": 7,
     "metadata": {},
     "output_type": "execute_result"
    }
   ],
   "source": [
    "tables_2024"
   ]
  },
  {
   "cell_type": "code",
   "execution_count": 9,
   "id": "47bf6b5d-8e81-47ac-8fe1-aedaa4a2e1eb",
   "metadata": {},
   "outputs": [
    {
     "data": {
      "text/plain": [
       "17"
      ]
     },
     "execution_count": 9,
     "metadata": {},
     "output_type": "execute_result"
    }
   ],
   "source": [
    "len(values_2024)"
   ]
  },
  {
   "cell_type": "code",
   "execution_count": 24,
   "id": "162e5ab9-db27-442e-b3a4-7735d72f2baa",
   "metadata": {},
   "outputs": [
    {
     "data": {
      "text/plain": [
       "{'Id': 339,\n",
       " 'ReportId': 1139,\n",
       " 'EquipmentName': '801',\n",
       " 'EquipmentId': 70,\n",
       " 'VehicleType': 'Automobiles',\n",
       " 'PrimaryMode': '',\n",
       " 'SecondaryMode': '',\n",
       " 'TotalVehicles': None,\n",
       " 'UsefulLifeBenchmark': False,\n",
       " 'YearOfManufacture': 2007,\n",
       " 'TransitAgencyCapitalResponsibility': '',\n",
       " 'EstimatedCost': None,\n",
       " 'YearDollarsEstimatedCost': None,\n",
       " 'UsefulLifeYearsBenchMark': None,\n",
       " 'UsefulLifeYearsRemaining': None,\n",
       " 'LastModifiedDate': '2024-10-31T16:56:32.027'}"
      ]
     },
     "execution_count": 24,
     "metadata": {},
     "output_type": "execute_result"
    }
   ],
   "source": [
    "blob_2024[2]['NTDReportingA35']['Data'][0]"
   ]
  },
  {
   "cell_type": "code",
   "execution_count": 41,
   "id": "63e51aaa-476b-4bea-a97d-599709d80b26",
   "metadata": {},
   "outputs": [
    {
     "data": {
      "text/plain": [
       "[{'Id': 336,\n",
       "  'ReportId': 1138,\n",
       "  'EquipmentName': 'Service Vehicle Ford Escape',\n",
       "  'EquipmentId': 275,\n",
       "  'VehicleType': 'Trucks and Other Rubber Tire Vehicles',\n",
       "  'PrimaryMode': 'MB - Bus',\n",
       "  'SecondaryMode': '',\n",
       "  'TotalVehicles': None,\n",
       "  'UsefulLifeBenchmark': False,\n",
       "  'YearOfManufacture': 2005,\n",
       "  'TransitAgencyCapitalResponsibility': '',\n",
       "  'EstimatedCost': None,\n",
       "  'YearDollarsEstimatedCost': None,\n",
       "  'UsefulLifeYearsBenchMark': None,\n",
       "  'UsefulLifeYearsRemaining': None,\n",
       "  'LastModifiedDate': '2024-10-29T21:07:27.03'},\n",
       " {'Id': 337,\n",
       "  'ReportId': 1138,\n",
       "  'EquipmentName': 'Service Vehicle Ford Fusion',\n",
       "  'EquipmentId': 276,\n",
       "  'VehicleType': 'Automobiles',\n",
       "  'PrimaryMode': 'MB - Bus',\n",
       "  'SecondaryMode': '',\n",
       "  'TotalVehicles': None,\n",
       "  'UsefulLifeBenchmark': False,\n",
       "  'YearOfManufacture': 2012,\n",
       "  'TransitAgencyCapitalResponsibility': '',\n",
       "  'EstimatedCost': None,\n",
       "  'YearDollarsEstimatedCost': None,\n",
       "  'UsefulLifeYearsBenchMark': None,\n",
       "  'UsefulLifeYearsRemaining': None,\n",
       "  'LastModifiedDate': '2024-10-29T21:07:27.093'},\n",
       " {'Id': 338,\n",
       "  'ReportId': 1138,\n",
       "  'EquipmentName': 'Service Vehicle Dodge Caravan',\n",
       "  'EquipmentId': 277,\n",
       "  'VehicleType': 'Trucks and Other Rubber Tire Vehicles',\n",
       "  'PrimaryMode': 'MB - Bus',\n",
       "  'SecondaryMode': '',\n",
       "  'TotalVehicles': None,\n",
       "  'UsefulLifeBenchmark': False,\n",
       "  'YearOfManufacture': 2014,\n",
       "  'TransitAgencyCapitalResponsibility': '',\n",
       "  'EstimatedCost': None,\n",
       "  'YearDollarsEstimatedCost': None,\n",
       "  'UsefulLifeYearsBenchMark': None,\n",
       "  'UsefulLifeYearsRemaining': None,\n",
       "  'LastModifiedDate': '2024-10-29T21:07:27.093'}]"
      ]
     },
     "execution_count": 41,
     "metadata": {},
     "output_type": "execute_result"
    }
   ],
   "source": [
    "blob_2024[0]['NTDReportingA35'][\"Data\"]"
   ]
  },
  {
   "cell_type": "code",
   "execution_count": 25,
   "id": "004d6bdb-23f8-4c58-834a-16cf3e48f0f6",
   "metadata": {},
   "outputs": [],
   "source": [
    "# test loop to scrape all the A35 data\n",
    "\n",
    "if \"NTDReportingA35\" in blob_2024:\n",
    "    a35_data = blob_2024[]['NTDReportingA35']['Data']\n",
    "    for i in a35_data:\n",
    "        print(i)"
   ]
  },
  {
   "cell_type": "code",
   "execution_count": 37,
   "id": "0aeb36c7-8ded-4042-88d1-289adbaba237",
   "metadata": {},
   "outputs": [],
   "source": [
    "a35_data = []\n",
    "for i in range(len(blob_2024)):\n",
    "    a35_data.append(blob_2024[i]['NTDReportingA35']['Data'])"
   ]
  },
  {
   "cell_type": "code",
   "execution_count": 38,
   "id": "376f5856-8d81-47a5-a955-e0df713a9553",
   "metadata": {},
   "outputs": [
    {
     "data": {
      "text/plain": [
       "86"
      ]
     },
     "execution_count": 38,
     "metadata": {},
     "output_type": "execute_result"
    }
   ],
   "source": [
    "len(a35_data)"
   ]
  },
  {
   "cell_type": "code",
   "execution_count": 40,
   "id": "76ebb4fe-c2cd-4958-8413-d3ebe8816b2f",
   "metadata": {},
   "outputs": [
    {
     "data": {
      "text/plain": [
       "[[{'Id': 336,\n",
       "   'ReportId': 1138,\n",
       "   'EquipmentName': 'Service Vehicle Ford Escape',\n",
       "   'EquipmentId': 275,\n",
       "   'VehicleType': 'Trucks and Other Rubber Tire Vehicles',\n",
       "   'PrimaryMode': 'MB - Bus',\n",
       "   'SecondaryMode': '',\n",
       "   'TotalVehicles': None,\n",
       "   'UsefulLifeBenchmark': False,\n",
       "   'YearOfManufacture': 2005,\n",
       "   'TransitAgencyCapitalResponsibility': '',\n",
       "   'EstimatedCost': None,\n",
       "   'YearDollarsEstimatedCost': None,\n",
       "   'UsefulLifeYearsBenchMark': None,\n",
       "   'UsefulLifeYearsRemaining': None,\n",
       "   'LastModifiedDate': '2024-10-29T21:07:27.03'},\n",
       "  {'Id': 337,\n",
       "   'ReportId': 1138,\n",
       "   'EquipmentName': 'Service Vehicle Ford Fusion',\n",
       "   'EquipmentId': 276,\n",
       "   'VehicleType': 'Automobiles',\n",
       "   'PrimaryMode': 'MB - Bus',\n",
       "   'SecondaryMode': '',\n",
       "   'TotalVehicles': None,\n",
       "   'UsefulLifeBenchmark': False,\n",
       "   'YearOfManufacture': 2012,\n",
       "   'TransitAgencyCapitalResponsibility': '',\n",
       "   'EstimatedCost': None,\n",
       "   'YearDollarsEstimatedCost': None,\n",
       "   'UsefulLifeYearsBenchMark': None,\n",
       "   'UsefulLifeYearsRemaining': None,\n",
       "   'LastModifiedDate': '2024-10-29T21:07:27.093'},\n",
       "  {'Id': 338,\n",
       "   'ReportId': 1138,\n",
       "   'EquipmentName': 'Service Vehicle Dodge Caravan',\n",
       "   'EquipmentId': 277,\n",
       "   'VehicleType': 'Trucks and Other Rubber Tire Vehicles',\n",
       "   'PrimaryMode': 'MB - Bus',\n",
       "   'SecondaryMode': '',\n",
       "   'TotalVehicles': None,\n",
       "   'UsefulLifeBenchmark': False,\n",
       "   'YearOfManufacture': 2014,\n",
       "   'TransitAgencyCapitalResponsibility': '',\n",
       "   'EstimatedCost': None,\n",
       "   'YearDollarsEstimatedCost': None,\n",
       "   'UsefulLifeYearsBenchMark': None,\n",
       "   'UsefulLifeYearsRemaining': None,\n",
       "   'LastModifiedDate': '2024-10-29T21:07:27.093'}],\n",
       " []]"
      ]
     },
     "execution_count": 40,
     "metadata": {},
     "output_type": "execute_result"
    }
   ],
   "source": [
    "a35_data[:2]"
   ]
  },
  {
   "cell_type": "code",
   "execution_count": null,
   "id": "456d784c-fc1f-402d-9555-0390ce46259c",
   "metadata": {},
   "outputs": [],
   "source": []
  }
 ],
 "metadata": {
  "kernelspec": {
   "display_name": "Python 3 (ipykernel)",
   "language": "python",
   "name": "python3"
  },
  "language_info": {
   "codemirror_mode": {
    "name": "ipython",
    "version": 3
   },
   "file_extension": ".py",
   "mimetype": "text/x-python",
   "name": "python",
   "nbconvert_exporter": "python",
   "pygments_lexer": "ipython3",
   "version": "3.9.13"
  }
 },
 "nbformat": 4,
 "nbformat_minor": 5
}
