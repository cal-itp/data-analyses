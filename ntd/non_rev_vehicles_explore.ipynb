{
 "cells": [
  {
   "cell_type": "markdown",
   "id": "7d3670e4-e693-4b88-9e00-3f258c2cac32",
   "metadata": {},
   "source": [
    "# Research Request - Non-Revenue Vehicle Fleet Sizes #1236\n",
    "\n",
    "How many non-revenue vehicles do transit agencies have. \n",
    "\n",
    "Also known as \"service vehicles\", Non-revenue vehicle data are excluded from UPT, VRM, VRH reports (since these NRV are not meant to carry passengers or make revenue).\n",
    "\n",
    "NRVs are like support vehicles used to maintain transit operations (service/maintenance vehicles, other support.\n",
    "\n",
    "Service Vehicle Inventory (Form A-35): \"Transit agencies are required to report data on service vehicles, or vehicles which do not carry passengers.\n"
   ]
  },
  {
   "cell_type": "code",
   "execution_count": 1,
   "id": "9f246b2c-0cc7-4742-98fc-cafb1cf093e6",
   "metadata": {},
   "outputs": [],
   "source": [
    "import requests\n",
    "import json\n",
    "import pandas as pd\n",
    "import numpy as np\n",
    "\n",
    "pd.set_option('display.max_columns', None)\n",
    "pd.set_option('display.max_rows', None) \n",
    "pd.set_option('display.max_colwidth', None)\n",
    "\n",
    "GCS_PATH = \"gs://calitp-analytics-data/data-analyses/ntd/\""
   ]
  },
  {
   "cell_type": "code",
   "execution_count": 81,
   "id": "a8b74962-77ea-451d-834b-4c8063c41ffb",
   "metadata": {},
   "outputs": [
    {
     "name": "stdout",
     "output_type": "stream",
     "text": [
      "<Response [200]>\n"
     ]
    },
    {
     "data": {
      "text/plain": [
       "list"
      ]
     },
     "metadata": {},
     "output_type": "display_data"
    },
    {
     "data": {
      "text/plain": [
       "86"
      ]
     },
     "metadata": {},
     "output_type": "display_data"
    }
   ],
   "source": [
    "# ping blackcat api to get 2024 blackcat data\n",
    "api_2024 = \"https://services.blackcattransit.com/api/APIModules/GetNTDReportsByYear/BCG_CA/2024\"\n",
    "\n",
    "response = requests.get(api_2024)\n",
    "\n",
    "print(response) #got 200\n",
    "\n",
    "# parse JSON\n",
    "blob_2024 = response.json()\n",
    "\n",
    "display(\n",
    "    type(blob_2024),\n",
    "    len(blob_2024)\n",
    ")"
   ]
  },
  {
   "cell_type": "markdown",
   "id": "8c30a287-a99f-4e34-820d-5e12f2aecee2",
   "metadata": {
    "jp-MarkdownHeadingCollapsed": true,
    "tags": []
   },
   "source": [
    "## Exploring the blob JSON\n",
    "\n",
    "[ ] = arrays. use index position (0,1,2) to accesss the different elements in the array\n"
   ]
  },
  {
   "cell_type": "markdown",
   "id": "da005e86-6024-4638-9fbb-c2c03b5e92b2",
   "metadata": {},
   "source": [
    "### Ultimate goal\n",
    " get a dataframe of organization name and A35 data"
   ]
  },
  {
   "cell_type": "code",
   "execution_count": 3,
   "id": "06be1bfc-ac48-4375-a519-818f2e5774cc",
   "metadata": {},
   "outputs": [],
   "source": [
    "#blob_2024[\"Id\"] this doesnt work, need to start by serching with ints"
   ]
  },
  {
   "cell_type": "code",
   "execution_count": 42,
   "id": "ec7d93c5-e165-4da1-b3cf-21852adf1e47",
   "metadata": {},
   "outputs": [],
   "source": [
    "#blob_2024[0] # using int will return an agency's entire submission, keep this off for now since its long\n",
    "\n"
   ]
  },
  {
   "cell_type": "markdown",
   "id": "b36db3ef-e143-409f-a3d3-e5a97364c379",
   "metadata": {},
   "source": [
    "JSON structure looks like this tho\n",
    "\n",
    "starts with a list of dictionaries\n",
    "access list with int, \n",
    "access dictionary using key value\n",
    "\n",
    "can have nesested dictionaries (dictionaries within dictionaries)\n",
    "can have list of dictionaires\n",
    "\n",
    "```\n",
    "[{'ReportId': 1138,\n",
    " 'Organization': 'City of Arcata',\n",
    " 'ReportPeriod': '2024',\n",
    " 'ReportStatus': 'Submitted',\n",
    " 'ReportLastModifiedDate': '10/29/2024 1:57:17 PM',\n",
    " 'NTDReportingStationsAndMaintenance': {'Data': [{'Id': 536,...\n",
    " ,\n",
    " 'NTDTransitAssetManagementA15': {'Data':...\n",
    "```"
   ]
  },
  {
   "cell_type": "code",
   "execution_count": 18,
   "id": "aac98ae5-a8eb-4309-852d-8550a08d0a0f",
   "metadata": {},
   "outputs": [
    {
     "data": {
      "text/plain": [
       "'City of Arcata'"
      ]
     },
     "metadata": {},
     "output_type": "display_data"
    },
    {
     "data": {
      "text/plain": [
       "'City of Guadalupe'"
      ]
     },
     "metadata": {},
     "output_type": "display_data"
    }
   ],
   "source": [
    "# access organiztion name\n",
    "# first org is \"City of Arcata\"\n",
    "\n",
    "display(\n",
    "    blob_2024[0][\"Organization\"],\n",
    "    blob_2024[30][\"Organization\"]\n",
    ")\n",
    "# this is how you access each org in the blob\n",
    "# blob[0] is City of Arcata"
   ]
  },
  {
   "cell_type": "code",
   "execution_count": 20,
   "id": "5616088c-4d27-4cbe-ba72-924f451fbf1a",
   "metadata": {},
   "outputs": [
    {
     "name": "stdout",
     "output_type": "stream",
     "text": [
      "1\n"
     ]
    },
    {
     "data": {
      "text/plain": [
       "{'Data': [{'Id': 336,\n",
       "   'ReportId': 1138,\n",
       "   'EquipmentName': 'Service Vehicle Ford Escape',\n",
       "   'EquipmentId': 275,\n",
       "   'VehicleType': 'Trucks and Other Rubber Tire Vehicles',\n",
       "   'PrimaryMode': 'MB - Bus',\n",
       "   'SecondaryMode': '',\n",
       "   'TotalVehicles': None,\n",
       "   'UsefulLifeBenchmark': False,\n",
       "   'YearOfManufacture': 2005,\n",
       "   'TransitAgencyCapitalResponsibility': '',\n",
       "   'EstimatedCost': None,\n",
       "   'YearDollarsEstimatedCost': None,\n",
       "   'UsefulLifeYearsBenchMark': None,\n",
       "   'UsefulLifeYearsRemaining': None,\n",
       "   'LastModifiedDate': '2024-10-29T21:07:27.03'},\n",
       "  {'Id': 337,\n",
       "   'ReportId': 1138,\n",
       "   'EquipmentName': 'Service Vehicle Ford Fusion',\n",
       "   'EquipmentId': 276,\n",
       "   'VehicleType': 'Automobiles',\n",
       "   'PrimaryMode': 'MB - Bus',\n",
       "   'SecondaryMode': '',\n",
       "   'TotalVehicles': None,\n",
       "   'UsefulLifeBenchmark': False,\n",
       "   'YearOfManufacture': 2012,\n",
       "   'TransitAgencyCapitalResponsibility': '',\n",
       "   'EstimatedCost': None,\n",
       "   'YearDollarsEstimatedCost': None,\n",
       "   'UsefulLifeYearsBenchMark': None,\n",
       "   'UsefulLifeYearsRemaining': None,\n",
       "   'LastModifiedDate': '2024-10-29T21:07:27.093'},\n",
       "  {'Id': 338,\n",
       "   'ReportId': 1138,\n",
       "   'EquipmentName': 'Service Vehicle Dodge Caravan',\n",
       "   'EquipmentId': 277,\n",
       "   'VehicleType': 'Trucks and Other Rubber Tire Vehicles',\n",
       "   'PrimaryMode': 'MB - Bus',\n",
       "   'SecondaryMode': '',\n",
       "   'TotalVehicles': None,\n",
       "   'UsefulLifeBenchmark': False,\n",
       "   'YearOfManufacture': 2014,\n",
       "   'TransitAgencyCapitalResponsibility': '',\n",
       "   'EstimatedCost': None,\n",
       "   'YearDollarsEstimatedCost': None,\n",
       "   'UsefulLifeYearsBenchMark': None,\n",
       "   'UsefulLifeYearsRemaining': None,\n",
       "   'LastModifiedDate': '2024-10-29T21:07:27.093'}]}"
      ]
     },
     "execution_count": 20,
     "metadata": {},
     "output_type": "execute_result"
    }
   ],
   "source": [
    "# access NTDReportingA35\n",
    "blob_2024[0][\"NTDReportingA35\"]\n",
    "# what the A35 looks like for Arcata"
   ]
  },
  {
   "cell_type": "code",
   "execution_count": 6,
   "id": "52f55edb-aab1-4e75-9675-7cfb00880cd5",
   "metadata": {},
   "outputs": [
    {
     "name": "stdout",
     "output_type": "stream",
     "text": [
      "3\n"
     ]
    },
    {
     "data": {
      "text/plain": [
       "[{'Id': 336,\n",
       "  'ReportId': 1138,\n",
       "  'EquipmentName': 'Service Vehicle Ford Escape',\n",
       "  'EquipmentId': 275,\n",
       "  'VehicleType': 'Trucks and Other Rubber Tire Vehicles',\n",
       "  'PrimaryMode': 'MB - Bus',\n",
       "  'SecondaryMode': '',\n",
       "  'TotalVehicles': None,\n",
       "  'UsefulLifeBenchmark': False,\n",
       "  'YearOfManufacture': 2005,\n",
       "  'TransitAgencyCapitalResponsibility': '',\n",
       "  'EstimatedCost': None,\n",
       "  'YearDollarsEstimatedCost': None,\n",
       "  'UsefulLifeYearsBenchMark': None,\n",
       "  'UsefulLifeYearsRemaining': None,\n",
       "  'LastModifiedDate': '2024-10-29T21:07:27.03'},\n",
       " {'Id': 337,\n",
       "  'ReportId': 1138,\n",
       "  'EquipmentName': 'Service Vehicle Ford Fusion',\n",
       "  'EquipmentId': 276,\n",
       "  'VehicleType': 'Automobiles',\n",
       "  'PrimaryMode': 'MB - Bus',\n",
       "  'SecondaryMode': '',\n",
       "  'TotalVehicles': None,\n",
       "  'UsefulLifeBenchmark': False,\n",
       "  'YearOfManufacture': 2012,\n",
       "  'TransitAgencyCapitalResponsibility': '',\n",
       "  'EstimatedCost': None,\n",
       "  'YearDollarsEstimatedCost': None,\n",
       "  'UsefulLifeYearsBenchMark': None,\n",
       "  'UsefulLifeYearsRemaining': None,\n",
       "  'LastModifiedDate': '2024-10-29T21:07:27.093'},\n",
       " {'Id': 338,\n",
       "  'ReportId': 1138,\n",
       "  'EquipmentName': 'Service Vehicle Dodge Caravan',\n",
       "  'EquipmentId': 277,\n",
       "  'VehicleType': 'Trucks and Other Rubber Tire Vehicles',\n",
       "  'PrimaryMode': 'MB - Bus',\n",
       "  'SecondaryMode': '',\n",
       "  'TotalVehicles': None,\n",
       "  'UsefulLifeBenchmark': False,\n",
       "  'YearOfManufacture': 2014,\n",
       "  'TransitAgencyCapitalResponsibility': '',\n",
       "  'EstimatedCost': None,\n",
       "  'YearDollarsEstimatedCost': None,\n",
       "  'UsefulLifeYearsBenchMark': None,\n",
       "  'UsefulLifeYearsRemaining': None,\n",
       "  'LastModifiedDate': '2024-10-29T21:07:27.093'}]"
      ]
     },
     "execution_count": 6,
     "metadata": {},
     "output_type": "execute_result"
    }
   ],
   "source": [
    "# accessing data portion in A35\n",
    "print(len(blob_2024[0][\"NTDReportingA35\"][\"Data\"]))\n",
    "\n",
    "blob_2024[0][\"NTDReportingA35\"][\"Data\"]"
   ]
  },
  {
   "cell_type": "code",
   "execution_count": 7,
   "id": "06591c65-bcf3-4d33-8c0e-27575d095ec2",
   "metadata": {},
   "outputs": [
    {
     "data": {
      "text/plain": [
       "{'Id': 336,\n",
       " 'ReportId': 1138,\n",
       " 'EquipmentName': 'Service Vehicle Ford Escape',\n",
       " 'EquipmentId': 275,\n",
       " 'VehicleType': 'Trucks and Other Rubber Tire Vehicles',\n",
       " 'PrimaryMode': 'MB - Bus',\n",
       " 'SecondaryMode': '',\n",
       " 'TotalVehicles': None,\n",
       " 'UsefulLifeBenchmark': False,\n",
       " 'YearOfManufacture': 2005,\n",
       " 'TransitAgencyCapitalResponsibility': '',\n",
       " 'EstimatedCost': None,\n",
       " 'YearDollarsEstimatedCost': None,\n",
       " 'UsefulLifeYearsBenchMark': None,\n",
       " 'UsefulLifeYearsRemaining': None,\n",
       " 'LastModifiedDate': '2024-10-29T21:07:27.03'}"
      ]
     },
     "execution_count": 7,
     "metadata": {},
     "output_type": "execute_result"
    }
   ],
   "source": [
    "# accessing 1st entry in a35 data for Arcata\n",
    "\n",
    "blob_2024[0][\"NTDReportingA35\"][\"Data\"][0]"
   ]
  },
  {
   "cell_type": "code",
   "execution_count": 8,
   "id": "ec77bf00-55ad-4214-9355-3b80b222a1e1",
   "metadata": {},
   "outputs": [
    {
     "data": {
      "text/plain": [
       "'Service Vehicle Ford Escape'"
      ]
     },
     "execution_count": 8,
     "metadata": {},
     "output_type": "execute_result"
    }
   ],
   "source": [
    "# accessing speficif field, equipment name, from the first entry in a35 data for Arcata\n",
    "\n",
    "blob_2024[0][\"NTDReportingA35\"][\"Data\"][0][\"EquipmentName\"]"
   ]
  },
  {
   "cell_type": "code",
   "execution_count": 9,
   "id": "b8e3ca04-0e42-40f7-ac9f-479c7a20732d",
   "metadata": {},
   "outputs": [
    {
     "data": {
      "text/plain": [
       "'City of Arcata'"
      ]
     },
     "metadata": {},
     "output_type": "display_data"
    },
    {
     "data": {
      "text/plain": [
       "[{'Id': 336,\n",
       "  'ReportId': 1138,\n",
       "  'EquipmentName': 'Service Vehicle Ford Escape',\n",
       "  'EquipmentId': 275,\n",
       "  'VehicleType': 'Trucks and Other Rubber Tire Vehicles',\n",
       "  'PrimaryMode': 'MB - Bus',\n",
       "  'SecondaryMode': '',\n",
       "  'TotalVehicles': None,\n",
       "  'UsefulLifeBenchmark': False,\n",
       "  'YearOfManufacture': 2005,\n",
       "  'TransitAgencyCapitalResponsibility': '',\n",
       "  'EstimatedCost': None,\n",
       "  'YearDollarsEstimatedCost': None,\n",
       "  'UsefulLifeYearsBenchMark': None,\n",
       "  'UsefulLifeYearsRemaining': None,\n",
       "  'LastModifiedDate': '2024-10-29T21:07:27.03'},\n",
       " {'Id': 337,\n",
       "  'ReportId': 1138,\n",
       "  'EquipmentName': 'Service Vehicle Ford Fusion',\n",
       "  'EquipmentId': 276,\n",
       "  'VehicleType': 'Automobiles',\n",
       "  'PrimaryMode': 'MB - Bus',\n",
       "  'SecondaryMode': '',\n",
       "  'TotalVehicles': None,\n",
       "  'UsefulLifeBenchmark': False,\n",
       "  'YearOfManufacture': 2012,\n",
       "  'TransitAgencyCapitalResponsibility': '',\n",
       "  'EstimatedCost': None,\n",
       "  'YearDollarsEstimatedCost': None,\n",
       "  'UsefulLifeYearsBenchMark': None,\n",
       "  'UsefulLifeYearsRemaining': None,\n",
       "  'LastModifiedDate': '2024-10-29T21:07:27.093'},\n",
       " {'Id': 338,\n",
       "  'ReportId': 1138,\n",
       "  'EquipmentName': 'Service Vehicle Dodge Caravan',\n",
       "  'EquipmentId': 277,\n",
       "  'VehicleType': 'Trucks and Other Rubber Tire Vehicles',\n",
       "  'PrimaryMode': 'MB - Bus',\n",
       "  'SecondaryMode': '',\n",
       "  'TotalVehicles': None,\n",
       "  'UsefulLifeBenchmark': False,\n",
       "  'YearOfManufacture': 2014,\n",
       "  'TransitAgencyCapitalResponsibility': '',\n",
       "  'EstimatedCost': None,\n",
       "  'YearDollarsEstimatedCost': None,\n",
       "  'UsefulLifeYearsBenchMark': None,\n",
       "  'UsefulLifeYearsRemaining': None,\n",
       "  'LastModifiedDate': '2024-10-29T21:07:27.093'}]"
      ]
     },
     "metadata": {},
     "output_type": "display_data"
    }
   ],
   "source": [
    "# can i see org name and a35 data at the same time?\n",
    "display(\n",
    "    blob_2024[0][\"Organization\"],\n",
    "    blob_2024[0][\"NTDReportingA35\"][\"Data\"]\n",
    ")"
   ]
  },
  {
   "cell_type": "markdown",
   "id": "6227a3d6-0646-4ef3-9807-a1a9c62f0545",
   "metadata": {},
   "source": [
    "## List comprehension to get list of org name and a35 data"
   ]
  },
  {
   "cell_type": "code",
   "execution_count": 10,
   "id": "be146caf-8bc6-4ea8-b1fb-19e277238795",
   "metadata": {},
   "outputs": [],
   "source": [
    "# testing list comprehension to access org name and a35 data\n",
    "\n",
    "filtered_data = [\n",
    "    {\n",
    "        \"Organization\":i[\"Organization\"], \n",
    "        \"data\":i[\"NTDReportingA35\"][\"Data\"]\n",
    "    } for i in blob_2024\n",
    "]\n"
   ]
  },
  {
   "cell_type": "code",
   "execution_count": 97,
   "id": "fefaecca-9c50-4f5e-88ef-73b1a471eb30",
   "metadata": {},
   "outputs": [
    {
     "data": {
      "text/plain": [
       "86"
      ]
     },
     "metadata": {},
     "output_type": "display_data"
    },
    {
     "data": {
      "text/plain": [
       "3"
      ]
     },
     "metadata": {},
     "output_type": "display_data"
    },
    {
     "data": {
      "text/plain": [
       "'City of Arcata'"
      ]
     },
     "metadata": {},
     "output_type": "display_data"
    }
   ],
   "source": [
    "# checking len of list\n",
    "display(\n",
    "    len(filtered_data), # 86 orgs\n",
    "    len(filtered_data[0][\"data\"]), # 3 entries in org 0\n",
    "    filtered_data[0][\"Organization\"]\n",
    ")"
   ]
  },
  {
   "cell_type": "code",
   "execution_count": 89,
   "id": "c4ffb1a5-0b81-432c-9c0f-79c0825970d2",
   "metadata": {},
   "outputs": [
    {
     "data": {
      "text/plain": [
       "range(0, 86)"
      ]
     },
     "execution_count": 89,
     "metadata": {},
     "output_type": "execute_result"
    }
   ],
   "source": [
    "range(len(filtered_data))"
   ]
  },
  {
   "cell_type": "code",
   "execution_count": 113,
   "id": "c76d6409-9a9f-4e05-926e-727ec2fbb781",
   "metadata": {},
   "outputs": [
    {
     "name": "stdout",
     "output_type": "stream",
     "text": [
      "City of Arcata , 3\n",
      "Humboldt Transit Authority , 10\n",
      "Mendocino Transit Authority , 9\n",
      "Lassen Transit Service Agency , 1\n",
      "Colusa County Transit Agency , 2\n",
      "County of Nevada Public Works, Transit Services Division , 6\n",
      "San Benito County Local Transportation Authority , 1\n",
      "Fresno County Rural Transit Agency , 3\n",
      "Morongo Basin Transit Authority , 8\n",
      "Mountain Area Regional Transit Authority , 13\n",
      "City of Ridgecrest , 1\n",
      "Eastern Sierra Transit Authority , 9\n",
      "Amador Transit , 3\n",
      "Tuolumne County Transit Agency (TCTA) , 1\n",
      "County of Siskiyou , 5\n",
      "Trinity County Department of Transportation  , 1\n",
      "Tehama County Transit Agency , 1\n",
      "Calaveras Transit Agency  , 1\n",
      "Palo Verde Valley Transit Agency , 6\n"
     ]
    }
   ],
   "source": [
    "for i in range(len(filtered_data)):\n",
    "    if len(filtered_data[i][\"data\"])>0:\n",
    "        print(filtered_data[i][\"Organization\"],\",\", len(filtered_data[i][\"data\"])) # 19 agencies, \n",
    "\n",
    "# since this is a list, cant use regular pandas methods.\n",
    "# List of agencies with count of services vehicles greater than zero"
   ]
  },
  {
   "cell_type": "code",
   "execution_count": null,
   "id": "8caca7c5-3971-49e9-82cb-9eae6c42ad29",
   "metadata": {},
   "outputs": [],
   "source": [
    "for i in range(len(filtered_data)):\n",
    "    if filtered_data[i][\"data\"] is not None:\n",
    "        print(filtered_data[i][\"Organization\"],\",\", len(filtered_data[i][\"data\"]) )\n",
    "\n",
    "# List of agencies with count of services vehicles greater not Null"
   ]
  },
  {
   "cell_type": "markdown",
   "id": "01bd99d9-0991-48c9-8a4e-bba751f11891",
   "metadata": {},
   "source": [
    "## Test of using `pd.json_normalize`\n",
    "data = unserialiszed JSON object"
   ]
  },
  {
   "cell_type": "code",
   "execution_count": 82,
   "id": "11e8750e-385f-442b-bf02-a248d59515f4",
   "metadata": {},
   "outputs": [],
   "source": [
    "df_blob = pd.json_normalize(\n",
    "    blob_2024,\n",
    "    record_path = [\"NTDReportingA35\", \"Data\"],\n",
    "    meta=\"Organization\",\n",
    "    \n",
    ")"
   ]
  },
  {
   "cell_type": "code",
   "execution_count": 83,
   "id": "e14d0eda-bcfd-42d9-9a84-c0408cae44d0",
   "metadata": {},
   "outputs": [
    {
     "data": {
      "text/plain": [
       "84"
      ]
     },
     "metadata": {},
     "output_type": "display_data"
    },
    {
     "data": {
      "text/plain": [
       "pandas.core.frame.DataFrame"
      ]
     },
     "metadata": {},
     "output_type": "display_data"
    }
   ],
   "source": [
    "display(\n",
    "    len(df_blob),\n",
    "    type(df_blob)\n",
    ")"
   ]
  },
  {
   "cell_type": "code",
   "execution_count": 116,
   "id": "52ef2a75-1d3b-466a-b8eb-391ba10f3926",
   "metadata": {},
   "outputs": [
    {
     "name": "stdout",
     "output_type": "stream",
     "text": [
      "<class 'pandas.core.frame.DataFrame'>\n",
      "RangeIndex: 84 entries, 0 to 83\n",
      "Data columns (total 17 columns):\n",
      " #   Column                              Non-Null Count  Dtype  \n",
      "---  ------                              --------------  -----  \n",
      " 0   Id                                  84 non-null     int64  \n",
      " 1   ReportId                            84 non-null     int64  \n",
      " 2   EquipmentName                       84 non-null     object \n",
      " 3   EquipmentId                         84 non-null     int64  \n",
      " 4   VehicleType                         84 non-null     object \n",
      " 5   PrimaryMode                         78 non-null     object \n",
      " 6   SecondaryMode                       61 non-null     object \n",
      " 7   TotalVehicles                       17 non-null     float64\n",
      " 8   UsefulLifeBenchmark                 84 non-null     bool   \n",
      " 9   YearOfManufacture                   84 non-null     int64  \n",
      " 10  TransitAgencyCapitalResponsibility  68 non-null     object \n",
      " 11  EstimatedCost                       16 non-null     float64\n",
      " 12  YearDollarsEstimatedCost            7 non-null      float64\n",
      " 13  UsefulLifeYearsBenchMark            17 non-null     float64\n",
      " 14  UsefulLifeYearsRemaining            17 non-null     float64\n",
      " 15  LastModifiedDate                    84 non-null     object \n",
      " 16  Organization                        84 non-null     object \n",
      "dtypes: bool(1), float64(5), int64(4), object(7)\n",
      "memory usage: 10.7+ KB\n"
     ]
    }
   ],
   "source": [
    "df_blob.info()"
   ]
  },
  {
   "cell_type": "code",
   "execution_count": 100,
   "id": "e0550c81-4f81-4fd5-8772-76eebfcaa98c",
   "metadata": {},
   "outputs": [
    {
     "data": {
      "text/plain": [
       "19"
      ]
     },
     "execution_count": 100,
     "metadata": {},
     "output_type": "execute_result"
    }
   ],
   "source": [
    "df_blob[\"Organization\"].nunique() # 19, same number of agencies in filtered_data list "
   ]
  },
  {
   "cell_type": "code",
   "execution_count": 120,
   "id": "fa163d8a-7001-44a9-b045-97c4733eb9fc",
   "metadata": {},
   "outputs": [
    {
     "data": {
      "text/plain": [
       "84"
      ]
     },
     "execution_count": 120,
     "metadata": {},
     "output_type": "execute_result"
    }
   ],
   "source": [
    "df_blob[\"EquipmentId\"].count() # 84 service vehicles in 19 agencies"
   ]
  },
  {
   "cell_type": "code",
   "execution_count": null,
   "id": "39654171-198c-4a5b-9e36-fabb8409a269",
   "metadata": {},
   "outputs": [],
   "source": []
  }
 ],
 "metadata": {
  "kernelspec": {
   "display_name": "Python 3 (ipykernel)",
   "language": "python",
   "name": "python3"
  },
  "language_info": {
   "codemirror_mode": {
    "name": "ipython",
    "version": 3
   },
   "file_extension": ".py",
   "mimetype": "text/x-python",
   "name": "python",
   "nbconvert_exporter": "python",
   "pygments_lexer": "ipython3",
   "version": "3.9.13"
  }
 },
 "nbformat": 4,
 "nbformat_minor": 5
}
