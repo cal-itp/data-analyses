{
 "cells": [
  {
   "cell_type": "markdown",
   "id": "7d3670e4-e693-4b88-9e00-3f258c2cac32",
   "metadata": {},
   "source": [
    "# Research Request - Non-Revenue Vehicle Fleet Sizes #1236\n",
    "\n",
    "How many non-revenue vehicles do transit agencies have. \n",
    "\n",
    "Also known as \"service vehicles\", Non-revenue vehicle data are excluded from UPT, VRM, VRH reports (since these NRV are not meant to carry passengers or make revenue).\n",
    "\n",
    "NRVs are like support vehicles used to maintain transit operations (service/maintenance vehicles, other support.\n",
    "\n",
    "Service Vehicle Inventory (Form A-35): \"Transit agencies are required to report data on service vehicles, or vehicles which do not carry passengers.\n"
   ]
  },
  {
   "cell_type": "code",
   "execution_count": 1,
   "id": "9f246b2c-0cc7-4742-98fc-cafb1cf093e6",
   "metadata": {},
   "outputs": [],
   "source": [
    "import requests\n",
    "import json\n",
    "import pandas as pd\n",
    "import numpy as np\n",
    "\n",
    "pd.set_option('display.max_columns', None)\n",
    "pd.set_option('display.max_rows', None) \n",
    "pd.set_option('display.max_colwidth', None)"
   ]
  },
  {
   "cell_type": "code",
   "execution_count": null,
   "id": "c5c698bb-dee5-45be-950a-35ec133c8edb",
   "metadata": {},
   "outputs": [],
   "source": []
  }
 ],
 "metadata": {
  "kernelspec": {
   "display_name": "Python 3 (ipykernel)",
   "language": "python",
   "name": "python3"
  },
  "language_info": {
   "codemirror_mode": {
    "name": "ipython",
    "version": 3
   },
   "file_extension": ".py",
   "mimetype": "text/x-python",
   "name": "python",
   "nbconvert_exporter": "python",
   "pygments_lexer": "ipython3",
   "version": "3.9.13"
  }
 },
 "nbformat": 4,
 "nbformat_minor": 5
}
