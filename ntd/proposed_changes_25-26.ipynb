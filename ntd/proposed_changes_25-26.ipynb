{
 "cells": [
  {
   "cell_type": "markdown",
   "id": "a5010c8b-6fe2-49cd-8dfe-681e8de340d3",
   "metadata": {},
   "source": [
    "# NTD Proposed Changes 2025-2026 Analysis"
   ]
  },
  {
   "cell_type": "code",
   "execution_count": null,
   "id": "8c8956ce-24a5-4d6b-8101-1ef5a547d3ca",
   "metadata": {},
   "outputs": [],
   "source": []
  }
 ],
 "metadata": {
  "kernelspec": {
   "display_name": "Python 3 (ipykernel)",
   "language": "python",
   "name": "python3"
  },
  "language_info": {
   "codemirror_mode": {
    "name": "ipython",
    "version": 3
   },
   "file_extension": ".py",
   "mimetype": "text/x-python",
   "name": "python",
   "nbconvert_exporter": "python",
   "pygments_lexer": "ipython3",
   "version": "3.9.13"
  }
 },
 "nbformat": 4,
 "nbformat_minor": 5
}
