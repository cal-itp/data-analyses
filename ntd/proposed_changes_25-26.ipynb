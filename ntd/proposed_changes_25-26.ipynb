{
 "cells": [
  {
   "cell_type": "markdown",
   "id": "a5010c8b-6fe2-49cd-8dfe-681e8de340d3",
   "metadata": {},
   "source": [
    "# NTD Proposed Changes 2025-2026 Analysis"
   ]
  },
  {
   "cell_type": "markdown",
   "id": "8e1248e8-1f49-462c-ba0c-424a2240f5ee",
   "metadata": {},
   "source": [
    "Proposed Change Text:\n",
    "\n",
    "https://www.federalregister.gov/documents/2024/10/31/2024-25341/national-transit-database-proposed-reporting-changes-and-clarifications-for-report-years-2025-and\n"
   ]
  },
  {
   "cell_type": "markdown",
   "id": "923637b0-7d95-4614-a425-10a6238a3f1d",
   "metadata": {},
   "source": [
    "Task:\n",
    "    - As Caltrans DDS prepare to submit comments of these proposed changes to NTD, the Data Science branch is tasked to address 3 areas the proposed changes may affect the branch.\n",
    "    - Analysis of the following areas to be submitted to the Transit Quality Branch by 11/27/2024"
   ]
  },
  {
   "cell_type": "markdown",
   "id": "afdfd59c-d9c1-4d48-b6e4-55e9af08be29",
   "metadata": {},
   "source": [
    "## Area 1 - NTD Reporting Streamlining\n",
    ">E: The first is on the topic of NTD reporting streamlining. There are a few items being proposed that may add additional reporting burden and some that propose to streamline things. Is this an area that you all have an opinion on?\n",
    "\n",
    ">K: will take a look based on our understanding of common past reporting errors identified in the NTD Modernization project and provide some comments. "
   ]
  },
  {
   "cell_type": "markdown",
   "id": "97f07bb1-4fd2-4ad0-bb65-2419928d5326",
   "metadata": {},
   "source": [
    "## Area 2 - Rural, Full Reporters to Reduced Reporters\n",
    "> E: The second area is on the topic of NTD data coming through as a result of a potential reduction in some full reporters in rural areas. I’m not sure which ones these would be because the rulemaking wouldn’t affect all reporters. I’m also not sure what data wouldn’t be reported as a result. Is this something the analyst team can look into further… ie see if the proposed change in Section G would affect any California agencies and what data we may not receive from NTD as a result.\n",
    "\n",
    "> K: identify which CA agencies are full reporters in rural areas that meet the criteria in section G, although I think we’d do it based on 2023 NTD data and FTA would do it on 2024 data. I am not sure if there would be data loss based on FTA’s assessment that these agencies were historically Rural reporters."
   ]
  },
  {
   "cell_type": "markdown",
   "id": "65592033-b6e9-4bf7-a24a-6b1d6f7a087b",
   "metadata": {},
   "source": [
    "## Area 3 - Volunteer Reporters\n",
    ">E: The third area is that I noticed that it was mentioned in Section H that voluntary reports may help a state receive more money. Given this helpful piece of information, I had 3 follow-up ideas. \n",
    ">1. Can we figure out how it helps increase funding by being a voluntary reporter \n",
    ">2. Can we do an audit to see which agencies aren’t reporters that maybe could be and \n",
    ">3. What monetary benefit could be gained if we helped these agencies become voluntary reporters.\n",
    "\n",
    ">K: would auditing this entail simply looking at organizations that don’t have an NTD ID? Or something else?"
   ]
  },
  {
   "cell_type": "code",
   "execution_count": null,
   "id": "b9f386ff-59fa-4eec-add5-b8c16a820cb3",
   "metadata": {},
   "outputs": [],
   "source": []
  }
 ],
 "metadata": {
  "kernelspec": {
   "display_name": "Python 3 (ipykernel)",
   "language": "python",
   "name": "python3"
  },
  "language_info": {
   "codemirror_mode": {
    "name": "ipython",
    "version": 3
   },
   "file_extension": ".py",
   "mimetype": "text/x-python",
   "name": "python",
   "nbconvert_exporter": "python",
   "pygments_lexer": "ipython3",
   "version": "3.9.13"
  }
 },
 "nbformat": 4,
 "nbformat_minor": 5
}
