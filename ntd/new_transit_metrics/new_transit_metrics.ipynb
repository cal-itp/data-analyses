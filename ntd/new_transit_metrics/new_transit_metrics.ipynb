{
 "cells": [
  {
   "cell_type": "code",
   "execution_count": 1,
   "id": "818cdd1e-7b45-44ab-9491-8d1a1ded1ec5",
   "metadata": {},
   "outputs": [],
   "source": [
    "%%capture\n",
    "\n",
    "import warnings\n",
    "warnings.filterwarnings('ignore')\n",
    "\n",
    "import calitp_data_analysis.magics\n",
    "\n",
    "import altair as alt\n",
    "import pandas as pd\n",
    "from calitp_data_analysis import calitp_color_palette as cp\n",
    "from IPython.display import HTML, Markdown, display\n",
    "from new_transit_metrics_utils import (\n",
    "    GCS_FILE_PATH,\n",
    "    make_line,\n",
    "    make_long,\n",
    "    make_scatter,\n",
    "    sum_by_group,\n",
    ")\n",
    "from scipy.stats import zscore\n",
    "\n",
    "# alt.renderers.enable(\"html\")\n",
    "alt.data_transformers.enable(\"default\", max_rows=None)\n",
    "\n",
    "WIDTH = 300\n",
    "HEIGHT = 150"
   ]
  },
  {
   "cell_type": "code",
   "execution_count": 2,
   "id": "ae37076b-5bf0-4bf2-8b5c-0298f006c8f1",
   "metadata": {
    "tags": [
     "parameters"
    ]
   },
   "outputs": [],
   "source": [
    "rtpa = \"Sacramento Area Council of Governments\""
   ]
  },
  {
   "cell_type": "code",
   "execution_count": 3,
   "id": "e21b3738-6bc7-48bb-a055-d68d320993ff",
   "metadata": {},
   "outputs": [],
   "source": [
    "%%capture_parameters\n",
    "rtpa"
   ]
  },
  {
   "cell_type": "markdown",
   "id": "74d7a345-e448-4619-8431-1d5b5c1d1f01",
   "metadata": {},
   "source": [
    "# {rtpa}\n",
    "## New Transit Performance Metrics\n",
    "\n",
    "UCLA Institute of Transportation Studies (UCLA ITS) suggests\n",
    ">Updating the policy and legislation that governs state transit funding could help make expenditures more effective and better aligned with the state’s goals of VMT and GHG reduction, which transit can achieve only through increased ridership.\n",
    "\n",
    "Some of the measures UCLA ITS recommends matching performance metrics to transit market context and suggest a contemporary view of transit operating conditions. Namely, transit-oriented vs. auto-oriented areas, which can be measured using cost-efficiency and service-effectiveness metrics.\n",
    "\n",
    "The charts below display the cost-efficiency metrics (opex_per_vrm/vrh/upt) and service-effectiveness metrics (upt_per_vrm/vrh) by different categories."
   ]
  },
  {
   "cell_type": "code",
   "execution_count": 4,
   "id": "0e1b5816-5330-4286-9144-ab58c5dde00f",
   "metadata": {
    "tags": []
   },
   "outputs": [],
   "source": [
    "# read in data\n",
    "df = pd.read_parquet(\n",
    "    f\"{GCS_FILE_PATH}raw_transit_performance_metrics_data.parquet\",\n",
    "    filters=[(\"RTPA\", \"==\", rtpa)],\n",
    ")"
   ]
  },
  {
   "cell_type": "code",
   "execution_count": 5,
   "id": "dadc897c-11b6-46b7-b0a8-0a849a17dbd4",
   "metadata": {
    "tags": []
   },
   "outputs": [],
   "source": [
    "# variable lists\n",
    "agency_cols = [\"ntd_id\", \"agency_name\", \"RTPA\"]\n",
    "mode_cols = [\"mode\", \"RTPA\"]\n",
    "tos_cols = [\"service\", \"RTPA\"]\n",
    "val_cols = [\n",
    "    \"opex_per_vrh\",\n",
    "    \"opex_per_vrm\",\n",
    "    \"upt_per_vrh\",\n",
    "    \"upt_per_vrm\",\n",
    "    \"opex_per_upt\",\n",
    "]\n",
    "\n",
    "cost_eff = [\n",
    "    \"opex_per_vrh\",\n",
    "    \"opex_per_vrm\",\n",
    "    \"opex_per_upt\",\n",
    "]  # just cost-effecieny metrics\n",
    "service_eff = [\"upt_per_vrh\", \"upt_per_vrm\"]  # just service effectiveness metrics"
   ]
  },
  {
   "cell_type": "code",
   "execution_count": 6,
   "id": "dd2b7438-f5c6-4573-87de-81f0d79a1da8",
   "metadata": {
    "tags": []
   },
   "outputs": [],
   "source": [
    "by_agency = sum_by_group(df, agency_cols)\n",
    "by_mode = sum_by_group(df, mode_cols)\n",
    "by_tos = sum_by_group(df, tos_cols)"
   ]
  },
  {
   "cell_type": "code",
   "execution_count": 7,
   "id": "e1e83da3-9281-47e0-a176-0a6ce5c3b2c4",
   "metadata": {
    "tags": []
   },
   "outputs": [],
   "source": [
    "by_agency_long = make_long(df=by_agency, group_cols=agency_cols, value_cols=val_cols)\n",
    "by_mode_long = make_long(df=by_mode, group_cols=mode_cols, value_cols=val_cols)\n",
    "by_tos_long = make_long(df=by_tos, group_cols=tos_cols, value_cols=val_cols)"
   ]
  },
  {
   "cell_type": "markdown",
   "id": "4f9422e6-bcb5-4511-8da4-519b44af1aa5",
   "metadata": {},
   "source": [
    "## New Performance Metrics"
   ]
  },
  {
   "cell_type": "markdown",
   "id": "e955cab5-ed9f-41f2-b637-342bd8bd4265",
   "metadata": {},
   "source": [
    "| Metric type          | Metric example                  | Implicit Goal(s)                       | Advantages                                   | Limitations                                  |\n",
    "|----------------------|---------------------------------|---------------------------------------|----------------------------------------------|----------------------------------------------|\n",
    "| Cost-efficiency     | Operating cost per revenue hour (opex_per_vrh) | Reduce costs                         | Useful in both financial and service planning | Favors high labor productivity in dense, congested areas; does not track use |\n",
    "|                      | Operating cost per revenue mile (opex_per_vrm) |                                       |                                              |                                              |\n",
    "|                      | Operating cost per vehicle trip (opex_per_upt) |                                       |                                              |                                              |\n",
    "| Service-effectiveness| Passengers per revenue-vehicle hour (upt_per_vrh) | Increase ridership; reduce poorly patronized service | Useful for service planning; emphasizes what matters to riders | Favors high ridership; does not track costs   |\n",
    "|                      | Passengers per revenue-vehicle mile (upt_per_vrm) | Increase ridership; reduce low-ridership route miles/segments | Useful for service planning                | Favors high ridership and fast vehicle speeds; does not track costs |\n"
   ]
  },
  {
   "cell_type": "markdown",
   "id": "08cb2cda-20e0-42e9-99d2-6b0173b07adb",
   "metadata": {},
   "source": [
    "### By Agencies"
   ]
  },
  {
   "cell_type": "code",
   "execution_count": 8,
   "id": "0363cd35-cd3f-43d7-a286-8d23a412e32f",
   "metadata": {
    "tags": []
   },
   "outputs": [
    {
     "data": {
      "text/html": [
       "\n",
       "<style>\n",
       "  #altair-viz-514b12c73dc8450c8b7da8b023cfcf78.vega-embed {\n",
       "    width: 100%;\n",
       "    display: flex;\n",
       "  }\n",
       "\n",
       "  #altair-viz-514b12c73dc8450c8b7da8b023cfcf78.vega-embed details,\n",
       "  #altair-viz-514b12c73dc8450c8b7da8b023cfcf78.vega-embed details summary {\n",
       "    position: relative;\n",
       "  }\n",
       "</style>\n",
       "<div id=\"altair-viz-514b12c73dc8450c8b7da8b023cfcf78\"></div>\n",
       "<script type=\"text/javascript\">\n",
       "  var VEGA_DEBUG = (typeof VEGA_DEBUG == \"undefined\") ? {} : VEGA_DEBUG;\n",
       "  (function(spec, embedOpt){\n",
       "    let outputDiv = document.currentScript.previousElementSibling;\n",
       "    if (outputDiv.id !== \"altair-viz-514b12c73dc8450c8b7da8b023cfcf78\") {\n",
       "      outputDiv = document.getElementById(\"altair-viz-514b12c73dc8450c8b7da8b023cfcf78\");\n",
       "    }\n",
       "\n",
       "    const paths = {\n",
       "      \"vega\": \"https://cdn.jsdelivr.net/npm/vega@5?noext\",\n",
       "      \"vega-lib\": \"https://cdn.jsdelivr.net/npm/vega-lib?noext\",\n",
       "      \"vega-lite\": \"https://cdn.jsdelivr.net/npm/vega-lite@5.20.1?noext\",\n",
       "      \"vega-embed\": \"https://cdn.jsdelivr.net/npm/vega-embed@6?noext\",\n",
       "    };\n",
       "\n",
       "    function maybeLoadScript(lib, version) {\n",
       "      var key = `${lib.replace(\"-\", \"\")}_version`;\n",
       "      return (VEGA_DEBUG[key] == version) ?\n",
       "        Promise.resolve(paths[lib]) :\n",
       "        new Promise(function(resolve, reject) {\n",
       "          var s = document.createElement('script');\n",
       "          document.getElementsByTagName(\"head\")[0].appendChild(s);\n",
       "          s.async = true;\n",
       "          s.onload = () => {\n",
       "            VEGA_DEBUG[key] = version;\n",
       "            return resolve(paths[lib]);\n",
       "          };\n",
       "          s.onerror = () => reject(`Error loading script: ${paths[lib]}`);\n",
       "          s.src = paths[lib];\n",
       "        });\n",
       "    }\n",
       "\n",
       "    function showError(err) {\n",
       "      outputDiv.innerHTML = `<div class=\"error\" style=\"color:red;\">${err}</div>`;\n",
       "      throw err;\n",
       "    }\n",
       "\n",
       "    function displayChart(vegaEmbed) {\n",
       "      vegaEmbed(outputDiv, spec, embedOpt)\n",
       "        .catch(err => showError(`Javascript Error: ${err.message}<br>This usually means there's a typo in your chart specification. See the javascript console for the full traceback.`));\n",
       "    }\n",
       "\n",
       "    if(typeof define === \"function\" && define.amd) {\n",
       "      requirejs.config({paths});\n",
       "      let deps = [\"vega-embed\"];\n",
       "      require(deps, displayChart, err => showError(`Error loading script: ${err.message}`));\n",
       "    } else {\n",
       "      maybeLoadScript(\"vega\", \"5\")\n",
       "        .then(() => maybeLoadScript(\"vega-lite\", \"5.20.1\"))\n",
       "        .then(() => maybeLoadScript(\"vega-embed\", \"6\"))\n",
       "        .catch(showError)\n",
       "        .then(() => displayChart(vegaEmbed));\n",
       "    }\n",
       "  })({\"config\": {\"view\": {\"continuousWidth\": 300, \"continuousHeight\": 300}}, \"data\": {\"name\": \"data-b4d6aaf98b9e9de5079c5cce0957303b\"}, \"facet\": {\"field\": \"variable\", \"type\": \"nominal\"}, \"spec\": {\"layer\": [{\"mark\": {\"type\": \"line\", \"point\": true}, \"encoding\": {\"color\": {\"field\": \"agency_name\", \"type\": \"nominal\"}, \"tooltip\": [{\"field\": \"year\", \"type\": \"temporal\"}, {\"field\": \"value\", \"type\": \"quantitative\"}, {\"field\": \"agency_name\", \"type\": \"nominal\"}], \"x\": {\"field\": \"year\", \"type\": \"temporal\"}, \"y\": {\"field\": \"value\", \"type\": \"quantitative\"}}, \"name\": \"view_1\", \"title\": \"New performance Metrics per Transit Agency\"}, {\"mark\": {\"type\": \"rule\"}, \"encoding\": {\"y\": {\"aggregate\": \"median\", \"field\": \"value\", \"type\": \"quantitative\"}}}, {\"mark\": {\"type\": \"text\", \"align\": \"right\", \"dy\": -10}, \"encoding\": {\"color\": {\"field\": \"agency_name\", \"type\": \"nominal\"}, \"text\": {\"field\": \"value\", \"type\": \"quantitative\"}, \"x\": {\"field\": \"year\", \"type\": \"temporal\"}, \"y\": {\"field\": \"value\", \"type\": \"quantitative\"}}}], \"height\": 150, \"width\": 350}, \"columns\": 2, \"params\": [{\"name\": \"param_1\", \"select\": {\"type\": \"interval\", \"encodings\": [\"x\", \"y\"]}, \"bind\": \"scales\", \"views\": [\"view_1\"]}], \"resolve\": {\"scale\": {\"y\": \"independent\"}}, \"$schema\": \"https://vega.github.io/schema/vega-lite/v5.20.1.json\", \"datasets\": {\"data-b4d6aaf98b9e9de5079c5cce0957303b\": [{\"ntd_id\": \"90019\", \"agency_name\": \"Sacramento Regional Transit District\", \"RTPA\": \"Sacramento Area Council of Governments\", \"year\": \"2018\", \"variable\": \"opex_per_vrh\", \"value\": 189.63}, {\"ntd_id\": \"90019\", \"agency_name\": \"Sacramento Regional Transit District\", \"RTPA\": \"Sacramento Area Council of Governments\", \"year\": \"2019\", \"variable\": \"opex_per_vrh\", \"value\": 202.95}, {\"ntd_id\": \"90019\", \"agency_name\": \"Sacramento Regional Transit District\", \"RTPA\": \"Sacramento Area Council of Governments\", \"year\": \"2020\", \"variable\": \"opex_per_vrh\", \"value\": 225.5}, {\"ntd_id\": \"90019\", \"agency_name\": \"Sacramento Regional Transit District\", \"RTPA\": \"Sacramento Area Council of Governments\", \"year\": \"2021\", \"variable\": \"opex_per_vrh\", \"value\": 210.18}, {\"ntd_id\": \"90019\", \"agency_name\": \"Sacramento Regional Transit District\", \"RTPA\": \"Sacramento Area Council of Governments\", \"year\": \"2022\", \"variable\": \"opex_per_vrh\", \"value\": 215.64}, {\"ntd_id\": \"90019\", \"agency_name\": \"Sacramento Regional Transit District\", \"RTPA\": \"Sacramento Area Council of Governments\", \"year\": \"2023\", \"variable\": \"opex_per_vrh\", \"value\": 233.82}, {\"ntd_id\": \"90061\", \"agency_name\": \"Yuba-Sutter Transit Authority (YSTA)\", \"RTPA\": \"Sacramento Area Council of Governments\", \"year\": \"2018\", \"variable\": \"opex_per_vrh\", \"value\": 86.94}, {\"ntd_id\": \"90061\", \"agency_name\": \"Yuba-Sutter Transit Authority (YSTA)\", \"RTPA\": \"Sacramento Area Council of Governments\", \"year\": \"2019\", \"variable\": \"opex_per_vrh\", \"value\": 88.33}, {\"ntd_id\": \"90061\", \"agency_name\": \"Yuba-Sutter Transit Authority (YSTA)\", \"RTPA\": \"Sacramento Area Council of Governments\", \"year\": \"2020\", \"variable\": \"opex_per_vrh\", \"value\": 100.94}, {\"ntd_id\": \"90061\", \"agency_name\": \"Yuba-Sutter Transit Authority (YSTA)\", \"RTPA\": \"Sacramento Area Council of Governments\", \"year\": \"2021\", \"variable\": \"opex_per_vrh\", \"value\": 110.01}, {\"ntd_id\": \"90061\", \"agency_name\": \"Yuba-Sutter Transit Authority (YSTA)\", \"RTPA\": \"Sacramento Area Council of Governments\", \"year\": \"2022\", \"variable\": \"opex_per_vrh\", \"value\": 118.6}, {\"ntd_id\": \"90061\", \"agency_name\": \"Yuba-Sutter Transit Authority (YSTA)\", \"RTPA\": \"Sacramento Area Council of Governments\", \"year\": \"2023\", \"variable\": \"opex_per_vrh\", \"value\": 123.61}, {\"ntd_id\": \"90090\", \"agency_name\": \"Yolo County Transportation District (YCTD)\", \"RTPA\": \"Sacramento Area Council of Governments\", \"year\": \"2018\", \"variable\": \"opex_per_vrh\", \"value\": 113.17}, {\"ntd_id\": \"90090\", \"agency_name\": \"Yolo County Transportation District (YCTD)\", \"RTPA\": \"Sacramento Area Council of Governments\", \"year\": \"2019\", \"variable\": \"opex_per_vrh\", \"value\": 115.29}, {\"ntd_id\": \"90090\", \"agency_name\": \"Yolo County Transportation District (YCTD)\", \"RTPA\": \"Sacramento Area Council of Governments\", \"year\": \"2020\", \"variable\": \"opex_per_vrh\", \"value\": 127.83}, {\"ntd_id\": \"90090\", \"agency_name\": \"Yolo County Transportation District (YCTD)\", \"RTPA\": \"Sacramento Area Council of Governments\", \"year\": \"2021\", \"variable\": \"opex_per_vrh\", \"value\": 144.72}, {\"ntd_id\": \"90090\", \"agency_name\": \"Yolo County Transportation District (YCTD)\", \"RTPA\": \"Sacramento Area Council of Governments\", \"year\": \"2022\", \"variable\": \"opex_per_vrh\", \"value\": 141.75}, {\"ntd_id\": \"90090\", \"agency_name\": \"Yolo County Transportation District (YCTD)\", \"RTPA\": \"Sacramento Area Council of Governments\", \"year\": \"2023\", \"variable\": \"opex_per_vrh\", \"value\": 158.46}, {\"ntd_id\": \"90142\", \"agency_name\": \"University of California, Davis (ASUCD) - Associated Students of the University of California, Davis\", \"RTPA\": \"Sacramento Area Council of Governments\", \"year\": \"2018\", \"variable\": \"opex_per_vrh\", \"value\": 73.42}, {\"ntd_id\": \"90142\", \"agency_name\": \"University of California, Davis (ASUCD) - Associated Students of the University of California, Davis\", \"RTPA\": \"Sacramento Area Council of Governments\", \"year\": \"2019\", \"variable\": \"opex_per_vrh\", \"value\": 74.71}, {\"ntd_id\": \"90142\", \"agency_name\": \"University of California, Davis (ASUCD) - Associated Students of the University of California, Davis\", \"RTPA\": \"Sacramento Area Council of Governments\", \"year\": \"2020\", \"variable\": \"opex_per_vrh\", \"value\": 106.45}, {\"ntd_id\": \"90142\", \"agency_name\": \"University of California, Davis (ASUCD) - Associated Students of the University of California, Davis\", \"RTPA\": \"Sacramento Area Council of Governments\", \"year\": \"2021\", \"variable\": \"opex_per_vrh\", \"value\": 114.01}, {\"ntd_id\": \"90142\", \"agency_name\": \"University of California, Davis (ASUCD) - Associated Students of the University of California, Davis\", \"RTPA\": \"Sacramento Area Council of Governments\", \"year\": \"2022\", \"variable\": \"opex_per_vrh\", \"value\": 128.42}, {\"ntd_id\": \"90142\", \"agency_name\": \"University of California, Davis (ASUCD) - Associated Students of the University of California, Davis\", \"RTPA\": \"Sacramento Area Council of Governments\", \"year\": \"2023\", \"variable\": \"opex_per_vrh\", \"value\": 125.67}, {\"ntd_id\": \"90167\", \"agency_name\": \"City of Davis (DCT) - Transit/Parks and Community Services\", \"RTPA\": \"Sacramento Area Council of Governments\", \"year\": \"2018\", \"variable\": \"opex_per_vrh\", \"value\": 127.97}, {\"ntd_id\": \"90167\", \"agency_name\": \"City of Davis (DCT) - Transit/Parks and Community Services\", \"RTPA\": \"Sacramento Area Council of Governments\", \"year\": \"2019\", \"variable\": \"opex_per_vrh\", \"value\": 114.22}, {\"ntd_id\": \"90167\", \"agency_name\": \"City of Davis (DCT) - Transit/Parks and Community Services\", \"RTPA\": \"Sacramento Area Council of Governments\", \"year\": \"2020\", \"variable\": \"opex_per_vrh\", \"value\": 150.55}, {\"ntd_id\": \"90167\", \"agency_name\": \"City of Davis (DCT) - Transit/Parks and Community Services\", \"RTPA\": \"Sacramento Area Council of Governments\", \"year\": \"2021\", \"variable\": \"opex_per_vrh\", \"value\": 291.36}, {\"ntd_id\": \"90167\", \"agency_name\": \"City of Davis (DCT) - Transit/Parks and Community Services\", \"RTPA\": \"Sacramento Area Council of Governments\", \"year\": \"2022\", \"variable\": \"opex_per_vrh\", \"value\": 194.19}, {\"ntd_id\": \"90167\", \"agency_name\": \"City of Davis (DCT) - Transit/Parks and Community Services\", \"RTPA\": \"Sacramento Area Council of Governments\", \"year\": \"2023\", \"variable\": \"opex_per_vrh\", \"value\": 199.7}, {\"ntd_id\": \"90205\", \"agency_name\": \"City of Elk Grove(etran)\", \"RTPA\": \"Sacramento Area Council of Governments\", \"year\": \"2018\", \"variable\": \"opex_per_vrh\", \"value\": 135.18}, {\"ntd_id\": \"90205\", \"agency_name\": \"City of Elk Grove(etran)\", \"RTPA\": \"Sacramento Area Council of Governments\", \"year\": \"2019\", \"variable\": \"opex_per_vrh\", \"value\": 136.9}, {\"ntd_id\": \"90205\", \"agency_name\": \"City of Elk Grove(etran)\", \"RTPA\": \"Sacramento Area Council of Governments\", \"year\": \"2020\", \"variable\": \"opex_per_vrh\", \"value\": 134.01}, {\"ntd_id\": \"90205\", \"agency_name\": \"City of Elk Grove(etran)\", \"RTPA\": \"Sacramento Area Council of Governments\", \"year\": \"2021\", \"variable\": \"opex_per_vrh\", \"value\": 165.36}, {\"ntd_id\": \"90216\", \"agency_name\": \"County of Sacramento Municipal Services Agency (SCT Link) - Department of Transportation\", \"RTPA\": \"Sacramento Area Council of Governments\", \"year\": \"2018\", \"variable\": \"opex_per_vrh\", \"value\": 89.38}, {\"ntd_id\": \"90216\", \"agency_name\": \"County of Sacramento Municipal Services Agency (SCT Link) - Department of Transportation\", \"RTPA\": \"Sacramento Area Council of Governments\", \"year\": \"2019\", \"variable\": \"opex_per_vrh\", \"value\": 89.58}, {\"ntd_id\": \"90216\", \"agency_name\": \"County of Sacramento Municipal Services Agency (SCT Link) - Department of Transportation\", \"RTPA\": \"Sacramento Area Council of Governments\", \"year\": \"2020\", \"variable\": \"opex_per_vrh\", \"value\": 100.34}, {\"ntd_id\": \"90216\", \"agency_name\": \"County of Sacramento Municipal Services Agency (SCT Link) - Department of Transportation\", \"RTPA\": \"Sacramento Area Council of Governments\", \"year\": \"2021\", \"variable\": \"opex_per_vrh\", \"value\": 111.66}, {\"ntd_id\": \"90216\", \"agency_name\": \"County of Sacramento Municipal Services Agency (SCT Link) - Department of Transportation\", \"RTPA\": \"Sacramento Area Council of Governments\", \"year\": \"2022\", \"variable\": \"opex_per_vrh\", \"value\": 117.11}, {\"ntd_id\": \"90216\", \"agency_name\": \"County of Sacramento Municipal Services Agency (SCT Link) - Department of Transportation\", \"RTPA\": \"Sacramento Area Council of Governments\", \"year\": \"2023\", \"variable\": \"opex_per_vrh\", \"value\": 133.27}, {\"ntd_id\": \"90220\", \"agency_name\": \"City of Folsom (FSL)\", \"RTPA\": \"Sacramento Area Council of Governments\", \"year\": \"2018\", \"variable\": \"opex_per_vrh\", \"value\": 166.92}, {\"ntd_id\": \"90220\", \"agency_name\": \"City of Folsom (FSL)\", \"RTPA\": \"Sacramento Area Council of Governments\", \"year\": \"2019\", \"variable\": \"opex_per_vrh\", \"value\": 163.77}, {\"ntd_id\": \"90223\", \"agency_name\": \"Paratransit, Inc.\", \"RTPA\": \"Sacramento Area Council of Governments\", \"year\": \"2018\", \"variable\": \"opex_per_vrh\", \"value\": 81.69}, {\"ntd_id\": \"90223\", \"agency_name\": \"Paratransit, Inc.\", \"RTPA\": \"Sacramento Area Council of Governments\", \"year\": \"2019\", \"variable\": \"opex_per_vrh\", \"value\": 89.79}, {\"ntd_id\": \"90223\", \"agency_name\": \"Paratransit, Inc.\", \"RTPA\": \"Sacramento Area Council of Governments\", \"year\": \"2020\", \"variable\": \"opex_per_vrh\", \"value\": 104.44}, {\"ntd_id\": \"90223\", \"agency_name\": \"Paratransit, Inc.\", \"RTPA\": \"Sacramento Area Council of Governments\", \"year\": \"2021\", \"variable\": \"opex_per_vrh\", \"value\": 130.69}, {\"ntd_id\": \"90223\", \"agency_name\": \"Paratransit, Inc.\", \"RTPA\": \"Sacramento Area Council of Governments\", \"year\": \"2022\", \"variable\": \"opex_per_vrh\", \"value\": 113.71}, {\"ntd_id\": \"90223\", \"agency_name\": \"Paratransit, Inc.\", \"RTPA\": \"Sacramento Area Council of Governments\", \"year\": \"2023\", \"variable\": \"opex_per_vrh\", \"value\": 94.65}, {\"ntd_id\": \"90019\", \"agency_name\": \"Sacramento Regional Transit District\", \"RTPA\": \"Sacramento Area Council of Governments\", \"year\": \"2018\", \"variable\": \"opex_per_vrm\", \"value\": 14.31}, {\"ntd_id\": \"90019\", \"agency_name\": \"Sacramento Regional Transit District\", \"RTPA\": \"Sacramento Area Council of Governments\", \"year\": \"2019\", \"variable\": \"opex_per_vrm\", \"value\": 15.22}, {\"ntd_id\": \"90019\", \"agency_name\": \"Sacramento Regional Transit District\", \"RTPA\": \"Sacramento Area Council of Governments\", \"year\": \"2020\", \"variable\": \"opex_per_vrm\", \"value\": 17.3}, {\"ntd_id\": \"90019\", \"agency_name\": \"Sacramento Regional Transit District\", \"RTPA\": \"Sacramento Area Council of Governments\", \"year\": \"2021\", \"variable\": \"opex_per_vrm\", \"value\": 15.75}, {\"ntd_id\": \"90019\", \"agency_name\": \"Sacramento Regional Transit District\", \"RTPA\": \"Sacramento Area Council of Governments\", \"year\": \"2022\", \"variable\": \"opex_per_vrm\", \"value\": 15.85}, {\"ntd_id\": \"90019\", \"agency_name\": \"Sacramento Regional Transit District\", \"RTPA\": \"Sacramento Area Council of Governments\", \"year\": \"2023\", \"variable\": \"opex_per_vrm\", \"value\": 16.98}, {\"ntd_id\": \"90061\", \"agency_name\": \"Yuba-Sutter Transit Authority (YSTA)\", \"RTPA\": \"Sacramento Area Council of Governments\", \"year\": \"2018\", \"variable\": \"opex_per_vrm\", \"value\": 5.93}, {\"ntd_id\": \"90061\", \"agency_name\": \"Yuba-Sutter Transit Authority (YSTA)\", \"RTPA\": \"Sacramento Area Council of Governments\", \"year\": \"2019\", \"variable\": \"opex_per_vrm\", \"value\": 6.04}, {\"ntd_id\": \"90061\", \"agency_name\": \"Yuba-Sutter Transit Authority (YSTA)\", \"RTPA\": \"Sacramento Area Council of Governments\", \"year\": \"2020\", \"variable\": \"opex_per_vrm\", \"value\": 6.75}, {\"ntd_id\": \"90061\", \"agency_name\": \"Yuba-Sutter Transit Authority (YSTA)\", \"RTPA\": \"Sacramento Area Council of Governments\", \"year\": \"2021\", \"variable\": \"opex_per_vrm\", \"value\": 7.67}, {\"ntd_id\": \"90061\", \"agency_name\": \"Yuba-Sutter Transit Authority (YSTA)\", \"RTPA\": \"Sacramento Area Council of Governments\", \"year\": \"2022\", \"variable\": \"opex_per_vrm\", \"value\": 8.09}, {\"ntd_id\": \"90061\", \"agency_name\": \"Yuba-Sutter Transit Authority (YSTA)\", \"RTPA\": \"Sacramento Area Council of Governments\", \"year\": \"2023\", \"variable\": \"opex_per_vrm\", \"value\": 8.4}, {\"ntd_id\": \"90090\", \"agency_name\": \"Yolo County Transportation District (YCTD)\", \"RTPA\": \"Sacramento Area Council of Governments\", \"year\": \"2018\", \"variable\": \"opex_per_vrm\", \"value\": 5.85}, {\"ntd_id\": \"90090\", \"agency_name\": \"Yolo County Transportation District (YCTD)\", \"RTPA\": \"Sacramento Area Council of Governments\", \"year\": \"2019\", \"variable\": \"opex_per_vrm\", \"value\": 5.95}, {\"ntd_id\": \"90090\", \"agency_name\": \"Yolo County Transportation District (YCTD)\", \"RTPA\": \"Sacramento Area Council of Governments\", \"year\": \"2020\", \"variable\": \"opex_per_vrm\", \"value\": 6.62}, {\"ntd_id\": \"90090\", \"agency_name\": \"Yolo County Transportation District (YCTD)\", \"RTPA\": \"Sacramento Area Council of Governments\", \"year\": \"2021\", \"variable\": \"opex_per_vrm\", \"value\": 7.4}, {\"ntd_id\": \"90090\", \"agency_name\": \"Yolo County Transportation District (YCTD)\", \"RTPA\": \"Sacramento Area Council of Governments\", \"year\": \"2022\", \"variable\": \"opex_per_vrm\", \"value\": 7.73}, {\"ntd_id\": \"90090\", \"agency_name\": \"Yolo County Transportation District (YCTD)\", \"RTPA\": \"Sacramento Area Council of Governments\", \"year\": \"2023\", \"variable\": \"opex_per_vrm\", \"value\": 7.49}, {\"ntd_id\": \"90142\", \"agency_name\": \"University of California, Davis (ASUCD) - Associated Students of the University of California, Davis\", \"RTPA\": \"Sacramento Area Council of Governments\", \"year\": \"2018\", \"variable\": \"opex_per_vrm\", \"value\": 6.96}, {\"ntd_id\": \"90142\", \"agency_name\": \"University of California, Davis (ASUCD) - Associated Students of the University of California, Davis\", \"RTPA\": \"Sacramento Area Council of Governments\", \"year\": \"2019\", \"variable\": \"opex_per_vrm\", \"value\": 7.07}, {\"ntd_id\": \"90142\", \"agency_name\": \"University of California, Davis (ASUCD) - Associated Students of the University of California, Davis\", \"RTPA\": \"Sacramento Area Council of Governments\", \"year\": \"2020\", \"variable\": \"opex_per_vrm\", \"value\": 9.96}, {\"ntd_id\": \"90142\", \"agency_name\": \"University of California, Davis (ASUCD) - Associated Students of the University of California, Davis\", \"RTPA\": \"Sacramento Area Council of Governments\", \"year\": \"2021\", \"variable\": \"opex_per_vrm\", \"value\": 10.41}, {\"ntd_id\": \"90142\", \"agency_name\": \"University of California, Davis (ASUCD) - Associated Students of the University of California, Davis\", \"RTPA\": \"Sacramento Area Council of Governments\", \"year\": \"2022\", \"variable\": \"opex_per_vrm\", \"value\": 12.01}, {\"ntd_id\": \"90142\", \"agency_name\": \"University of California, Davis (ASUCD) - Associated Students of the University of California, Davis\", \"RTPA\": \"Sacramento Area Council of Governments\", \"year\": \"2023\", \"variable\": \"opex_per_vrm\", \"value\": 12.06}, {\"ntd_id\": \"90167\", \"agency_name\": \"City of Davis (DCT) - Transit/Parks and Community Services\", \"RTPA\": \"Sacramento Area Council of Governments\", \"year\": \"2018\", \"variable\": \"opex_per_vrm\", \"value\": 9.86}, {\"ntd_id\": \"90167\", \"agency_name\": \"City of Davis (DCT) - Transit/Parks and Community Services\", \"RTPA\": \"Sacramento Area Council of Governments\", \"year\": \"2019\", \"variable\": \"opex_per_vrm\", \"value\": 9.52}, {\"ntd_id\": \"90167\", \"agency_name\": \"City of Davis (DCT) - Transit/Parks and Community Services\", \"RTPA\": \"Sacramento Area Council of Governments\", \"year\": \"2020\", \"variable\": \"opex_per_vrm\", \"value\": 13.28}, {\"ntd_id\": \"90167\", \"agency_name\": \"City of Davis (DCT) - Transit/Parks and Community Services\", \"RTPA\": \"Sacramento Area Council of Governments\", \"year\": \"2021\", \"variable\": \"opex_per_vrm\", \"value\": 23.42}, {\"ntd_id\": \"90167\", \"agency_name\": \"City of Davis (DCT) - Transit/Parks and Community Services\", \"RTPA\": \"Sacramento Area Council of Governments\", \"year\": \"2022\", \"variable\": \"opex_per_vrm\", \"value\": 18.51}, {\"ntd_id\": \"90167\", \"agency_name\": \"City of Davis (DCT) - Transit/Parks and Community Services\", \"RTPA\": \"Sacramento Area Council of Governments\", \"year\": \"2023\", \"variable\": \"opex_per_vrm\", \"value\": 19.31}, {\"ntd_id\": \"90205\", \"agency_name\": \"City of Elk Grove(etran)\", \"RTPA\": \"Sacramento Area Council of Governments\", \"year\": \"2018\", \"variable\": \"opex_per_vrm\", \"value\": 9.26}, {\"ntd_id\": \"90205\", \"agency_name\": \"City of Elk Grove(etran)\", \"RTPA\": \"Sacramento Area Council of Governments\", \"year\": \"2019\", \"variable\": \"opex_per_vrm\", \"value\": 9.6}, {\"ntd_id\": \"90205\", \"agency_name\": \"City of Elk Grove(etran)\", \"RTPA\": \"Sacramento Area Council of Governments\", \"year\": \"2020\", \"variable\": \"opex_per_vrm\", \"value\": 9.34}, {\"ntd_id\": \"90205\", \"agency_name\": \"City of Elk Grove(etran)\", \"RTPA\": \"Sacramento Area Council of Governments\", \"year\": \"2021\", \"variable\": \"opex_per_vrm\", \"value\": 11.66}, {\"ntd_id\": \"90216\", \"agency_name\": \"County of Sacramento Municipal Services Agency (SCT Link) - Department of Transportation\", \"RTPA\": \"Sacramento Area Council of Governments\", \"year\": \"2018\", \"variable\": \"opex_per_vrm\", \"value\": 4.14}, {\"ntd_id\": \"90216\", \"agency_name\": \"County of Sacramento Municipal Services Agency (SCT Link) - Department of Transportation\", \"RTPA\": \"Sacramento Area Council of Governments\", \"year\": \"2019\", \"variable\": \"opex_per_vrm\", \"value\": 4.49}, {\"ntd_id\": \"90216\", \"agency_name\": \"County of Sacramento Municipal Services Agency (SCT Link) - Department of Transportation\", \"RTPA\": \"Sacramento Area Council of Governments\", \"year\": \"2020\", \"variable\": \"opex_per_vrm\", \"value\": 4.76}, {\"ntd_id\": \"90216\", \"agency_name\": \"County of Sacramento Municipal Services Agency (SCT Link) - Department of Transportation\", \"RTPA\": \"Sacramento Area Council of Governments\", \"year\": \"2021\", \"variable\": \"opex_per_vrm\", \"value\": 5.96}, {\"ntd_id\": \"90216\", \"agency_name\": \"County of Sacramento Municipal Services Agency (SCT Link) - Department of Transportation\", \"RTPA\": \"Sacramento Area Council of Governments\", \"year\": \"2022\", \"variable\": \"opex_per_vrm\", \"value\": 5.23}, {\"ntd_id\": \"90216\", \"agency_name\": \"County of Sacramento Municipal Services Agency (SCT Link) - Department of Transportation\", \"RTPA\": \"Sacramento Area Council of Governments\", \"year\": \"2023\", \"variable\": \"opex_per_vrm\", \"value\": 6.2}, {\"ntd_id\": \"90220\", \"agency_name\": \"City of Folsom (FSL)\", \"RTPA\": \"Sacramento Area Council of Governments\", \"year\": \"2018\", \"variable\": \"opex_per_vrm\", \"value\": 11.37}, {\"ntd_id\": \"90220\", \"agency_name\": \"City of Folsom (FSL)\", \"RTPA\": \"Sacramento Area Council of Governments\", \"year\": \"2019\", \"variable\": \"opex_per_vrm\", \"value\": 10.94}, {\"ntd_id\": \"90223\", \"agency_name\": \"Paratransit, Inc.\", \"RTPA\": \"Sacramento Area Council of Governments\", \"year\": \"2018\", \"variable\": \"opex_per_vrm\", \"value\": 5.51}, {\"ntd_id\": \"90223\", \"agency_name\": \"Paratransit, Inc.\", \"RTPA\": \"Sacramento Area Council of Governments\", \"year\": \"2019\", \"variable\": \"opex_per_vrm\", \"value\": 5.97}, {\"ntd_id\": \"90223\", \"agency_name\": \"Paratransit, Inc.\", \"RTPA\": \"Sacramento Area Council of Governments\", \"year\": \"2020\", \"variable\": \"opex_per_vrm\", \"value\": 7.0}, {\"ntd_id\": \"90223\", \"agency_name\": \"Paratransit, Inc.\", \"RTPA\": \"Sacramento Area Council of Governments\", \"year\": \"2021\", \"variable\": \"opex_per_vrm\", \"value\": 7.68}, {\"ntd_id\": \"90223\", \"agency_name\": \"Paratransit, Inc.\", \"RTPA\": \"Sacramento Area Council of Governments\", \"year\": \"2022\", \"variable\": \"opex_per_vrm\", \"value\": 6.15}, {\"ntd_id\": \"90223\", \"agency_name\": \"Paratransit, Inc.\", \"RTPA\": \"Sacramento Area Council of Governments\", \"year\": \"2023\", \"variable\": \"opex_per_vrm\", \"value\": 5.59}, {\"ntd_id\": \"90019\", \"agency_name\": \"Sacramento Regional Transit District\", \"RTPA\": \"Sacramento Area Council of Governments\", \"year\": \"2018\", \"variable\": \"upt_per_vrh\", \"value\": 25.86}, {\"ntd_id\": \"90019\", \"agency_name\": \"Sacramento Regional Transit District\", \"RTPA\": \"Sacramento Area Council of Governments\", \"year\": \"2019\", \"variable\": \"upt_per_vrh\", \"value\": 24.25}, {\"ntd_id\": \"90019\", \"agency_name\": \"Sacramento Regional Transit District\", \"RTPA\": \"Sacramento Area Council of Governments\", \"year\": \"2020\", \"variable\": \"upt_per_vrh\", \"value\": 22.78}, {\"ntd_id\": \"90019\", \"agency_name\": \"Sacramento Regional Transit District\", \"RTPA\": \"Sacramento Area Council of Governments\", \"year\": \"2021\", \"variable\": \"upt_per_vrh\", \"value\": 9.09}, {\"ntd_id\": \"90019\", \"agency_name\": \"Sacramento Regional Transit District\", \"RTPA\": \"Sacramento Area Council of Governments\", \"year\": \"2022\", \"variable\": \"upt_per_vrh\", \"value\": 11.33}, {\"ntd_id\": \"90019\", \"agency_name\": \"Sacramento Regional Transit District\", \"RTPA\": \"Sacramento Area Council of Governments\", \"year\": \"2023\", \"variable\": \"upt_per_vrh\", \"value\": 14.08}, {\"ntd_id\": \"90061\", \"agency_name\": \"Yuba-Sutter Transit Authority (YSTA)\", \"RTPA\": \"Sacramento Area Council of Governments\", \"year\": \"2018\", \"variable\": \"upt_per_vrh\", \"value\": 12.24}, {\"ntd_id\": \"90061\", \"agency_name\": \"Yuba-Sutter Transit Authority (YSTA)\", \"RTPA\": \"Sacramento Area Council of Governments\", \"year\": \"2019\", \"variable\": \"upt_per_vrh\", \"value\": 11.27}, {\"ntd_id\": \"90061\", \"agency_name\": \"Yuba-Sutter Transit Authority (YSTA)\", \"RTPA\": \"Sacramento Area Council of Governments\", \"year\": \"2020\", \"variable\": \"upt_per_vrh\", \"value\": 9.52}, {\"ntd_id\": \"90061\", \"agency_name\": \"Yuba-Sutter Transit Authority (YSTA)\", \"RTPA\": \"Sacramento Area Council of Governments\", \"year\": \"2021\", \"variable\": \"upt_per_vrh\", \"value\": 5.07}, {\"ntd_id\": \"90061\", \"agency_name\": \"Yuba-Sutter Transit Authority (YSTA)\", \"RTPA\": \"Sacramento Area Council of Governments\", \"year\": \"2022\", \"variable\": \"upt_per_vrh\", \"value\": 6.76}, {\"ntd_id\": \"90061\", \"agency_name\": \"Yuba-Sutter Transit Authority (YSTA)\", \"RTPA\": \"Sacramento Area Council of Governments\", \"year\": \"2023\", \"variable\": \"upt_per_vrh\", \"value\": 7.79}, {\"ntd_id\": \"90090\", \"agency_name\": \"Yolo County Transportation District (YCTD)\", \"RTPA\": \"Sacramento Area Council of Governments\", \"year\": \"2018\", \"variable\": \"upt_per_vrh\", \"value\": 10.94}, {\"ntd_id\": \"90090\", \"agency_name\": \"Yolo County Transportation District (YCTD)\", \"RTPA\": \"Sacramento Area Council of Governments\", \"year\": \"2019\", \"variable\": \"upt_per_vrh\", \"value\": 10.32}, {\"ntd_id\": \"90090\", \"agency_name\": \"Yolo County Transportation District (YCTD)\", \"RTPA\": \"Sacramento Area Council of Governments\", \"year\": \"2020\", \"variable\": \"upt_per_vrh\", \"value\": 8.63}, {\"ntd_id\": \"90090\", \"agency_name\": \"Yolo County Transportation District (YCTD)\", \"RTPA\": \"Sacramento Area Council of Governments\", \"year\": \"2021\", \"variable\": \"upt_per_vrh\", \"value\": 4.7}, {\"ntd_id\": \"90090\", \"agency_name\": \"Yolo County Transportation District (YCTD)\", \"RTPA\": \"Sacramento Area Council of Governments\", \"year\": \"2022\", \"variable\": \"upt_per_vrh\", \"value\": 7.53}, {\"ntd_id\": \"90090\", \"agency_name\": \"Yolo County Transportation District (YCTD)\", \"RTPA\": \"Sacramento Area Council of Governments\", \"year\": \"2023\", \"variable\": \"upt_per_vrh\", \"value\": 7.23}, {\"ntd_id\": \"90142\", \"agency_name\": \"University of California, Davis (ASUCD) - Associated Students of the University of California, Davis\", \"RTPA\": \"Sacramento Area Council of Governments\", \"year\": \"2018\", \"variable\": \"upt_per_vrh\", \"value\": 50.75}, {\"ntd_id\": \"90142\", \"agency_name\": \"University of California, Davis (ASUCD) - Associated Students of the University of California, Davis\", \"RTPA\": \"Sacramento Area Council of Governments\", \"year\": \"2019\", \"variable\": \"upt_per_vrh\", \"value\": 49.51}, {\"ntd_id\": \"90142\", \"agency_name\": \"University of California, Davis (ASUCD) - Associated Students of the University of California, Davis\", \"RTPA\": \"Sacramento Area Council of Governments\", \"year\": \"2020\", \"variable\": \"upt_per_vrh\", \"value\": 45.26}, {\"ntd_id\": \"90142\", \"agency_name\": \"University of California, Davis (ASUCD) - Associated Students of the University of California, Davis\", \"RTPA\": \"Sacramento Area Council of Governments\", \"year\": \"2021\", \"variable\": \"upt_per_vrh\", \"value\": 6.43}, {\"ntd_id\": \"90142\", \"agency_name\": \"University of California, Davis (ASUCD) - Associated Students of the University of California, Davis\", \"RTPA\": \"Sacramento Area Council of Governments\", \"year\": \"2022\", \"variable\": \"upt_per_vrh\", \"value\": 34.57}, {\"ntd_id\": \"90142\", \"agency_name\": \"University of California, Davis (ASUCD) - Associated Students of the University of California, Davis\", \"RTPA\": \"Sacramento Area Council of Governments\", \"year\": \"2023\", \"variable\": \"upt_per_vrh\", \"value\": 45.24}, {\"ntd_id\": \"90167\", \"agency_name\": \"City of Davis (DCT) - Transit/Parks and Community Services\", \"RTPA\": \"Sacramento Area Council of Governments\", \"year\": \"2018\", \"variable\": \"upt_per_vrh\", \"value\": 3.33}, {\"ntd_id\": \"90167\", \"agency_name\": \"City of Davis (DCT) - Transit/Parks and Community Services\", \"RTPA\": \"Sacramento Area Council of Governments\", \"year\": \"2019\", \"variable\": \"upt_per_vrh\", \"value\": 3.21}, {\"ntd_id\": \"90167\", \"agency_name\": \"City of Davis (DCT) - Transit/Parks and Community Services\", \"RTPA\": \"Sacramento Area Council of Governments\", \"year\": \"2020\", \"variable\": \"upt_per_vrh\", \"value\": 2.89}, {\"ntd_id\": \"90167\", \"agency_name\": \"City of Davis (DCT) - Transit/Parks and Community Services\", \"RTPA\": \"Sacramento Area Council of Governments\", \"year\": \"2021\", \"variable\": \"upt_per_vrh\", \"value\": 2.78}, {\"ntd_id\": \"90167\", \"agency_name\": \"City of Davis (DCT) - Transit/Parks and Community Services\", \"RTPA\": \"Sacramento Area Council of Governments\", \"year\": \"2022\", \"variable\": \"upt_per_vrh\", \"value\": 2.66}, {\"ntd_id\": \"90167\", \"agency_name\": \"City of Davis (DCT) - Transit/Parks and Community Services\", \"RTPA\": \"Sacramento Area Council of Governments\", \"year\": \"2023\", \"variable\": \"upt_per_vrh\", \"value\": 2.84}, {\"ntd_id\": \"90205\", \"agency_name\": \"City of Elk Grove(etran)\", \"RTPA\": \"Sacramento Area Council of Governments\", \"year\": \"2018\", \"variable\": \"upt_per_vrh\", \"value\": 11.15}, {\"ntd_id\": \"90205\", \"agency_name\": \"City of Elk Grove(etran)\", \"RTPA\": \"Sacramento Area Council of Governments\", \"year\": \"2019\", \"variable\": \"upt_per_vrh\", \"value\": 10.74}, {\"ntd_id\": \"90205\", \"agency_name\": \"City of Elk Grove(etran)\", \"RTPA\": \"Sacramento Area Council of Governments\", \"year\": \"2020\", \"variable\": \"upt_per_vrh\", \"value\": 9.21}, {\"ntd_id\": \"90205\", \"agency_name\": \"City of Elk Grove(etran)\", \"RTPA\": \"Sacramento Area Council of Governments\", \"year\": \"2021\", \"variable\": \"upt_per_vrh\", \"value\": 2.25}, {\"ntd_id\": \"90216\", \"agency_name\": \"County of Sacramento Municipal Services Agency (SCT Link) - Department of Transportation\", \"RTPA\": \"Sacramento Area Council of Governments\", \"year\": \"2018\", \"variable\": \"upt_per_vrh\", \"value\": 4.87}, {\"ntd_id\": \"90216\", \"agency_name\": \"County of Sacramento Municipal Services Agency (SCT Link) - Department of Transportation\", \"RTPA\": \"Sacramento Area Council of Governments\", \"year\": \"2019\", \"variable\": \"upt_per_vrh\", \"value\": 4.72}, {\"ntd_id\": \"90216\", \"agency_name\": \"County of Sacramento Municipal Services Agency (SCT Link) - Department of Transportation\", \"RTPA\": \"Sacramento Area Council of Governments\", \"year\": \"2020\", \"variable\": \"upt_per_vrh\", \"value\": 4.04}, {\"ntd_id\": \"90216\", \"agency_name\": \"County of Sacramento Municipal Services Agency (SCT Link) - Department of Transportation\", \"RTPA\": \"Sacramento Area Council of Governments\", \"year\": \"2021\", \"variable\": \"upt_per_vrh\", \"value\": 1.75}, {\"ntd_id\": \"90216\", \"agency_name\": \"County of Sacramento Municipal Services Agency (SCT Link) - Department of Transportation\", \"RTPA\": \"Sacramento Area Council of Governments\", \"year\": \"2022\", \"variable\": \"upt_per_vrh\", \"value\": 2.07}, {\"ntd_id\": \"90216\", \"agency_name\": \"County of Sacramento Municipal Services Agency (SCT Link) - Department of Transportation\", \"RTPA\": \"Sacramento Area Council of Governments\", \"year\": \"2023\", \"variable\": \"upt_per_vrh\", \"value\": 2.47}, {\"ntd_id\": \"90220\", \"agency_name\": \"City of Folsom (FSL)\", \"RTPA\": \"Sacramento Area Council of Governments\", \"year\": \"2018\", \"variable\": \"upt_per_vrh\", \"value\": 7.21}, {\"ntd_id\": \"90220\", \"agency_name\": \"City of Folsom (FSL)\", \"RTPA\": \"Sacramento Area Council of Governments\", \"year\": \"2019\", \"variable\": \"upt_per_vrh\", \"value\": 7.16}, {\"ntd_id\": \"90223\", \"agency_name\": \"Paratransit, Inc.\", \"RTPA\": \"Sacramento Area Council of Governments\", \"year\": \"2018\", \"variable\": \"upt_per_vrh\", \"value\": 1.73}, {\"ntd_id\": \"90223\", \"agency_name\": \"Paratransit, Inc.\", \"RTPA\": \"Sacramento Area Council of Governments\", \"year\": \"2019\", \"variable\": \"upt_per_vrh\", \"value\": 1.76}, {\"ntd_id\": \"90223\", \"agency_name\": \"Paratransit, Inc.\", \"RTPA\": \"Sacramento Area Council of Governments\", \"year\": \"2020\", \"variable\": \"upt_per_vrh\", \"value\": 1.74}, {\"ntd_id\": \"90223\", \"agency_name\": \"Paratransit, Inc.\", \"RTPA\": \"Sacramento Area Council of Governments\", \"year\": \"2021\", \"variable\": \"upt_per_vrh\", \"value\": 1.41}, {\"ntd_id\": \"90223\", \"agency_name\": \"Paratransit, Inc.\", \"RTPA\": \"Sacramento Area Council of Governments\", \"year\": \"2022\", \"variable\": \"upt_per_vrh\", \"value\": 1.32}, {\"ntd_id\": \"90223\", \"agency_name\": \"Paratransit, Inc.\", \"RTPA\": \"Sacramento Area Council of Governments\", \"year\": \"2023\", \"variable\": \"upt_per_vrh\", \"value\": 1.65}, {\"ntd_id\": \"90019\", \"agency_name\": \"Sacramento Regional Transit District\", \"RTPA\": \"Sacramento Area Council of Governments\", \"year\": \"2018\", \"variable\": \"upt_per_vrm\", \"value\": 1.95}, {\"ntd_id\": \"90019\", \"agency_name\": \"Sacramento Regional Transit District\", \"RTPA\": \"Sacramento Area Council of Governments\", \"year\": \"2019\", \"variable\": \"upt_per_vrm\", \"value\": 1.82}, {\"ntd_id\": \"90019\", \"agency_name\": \"Sacramento Regional Transit District\", \"RTPA\": \"Sacramento Area Council of Governments\", \"year\": \"2020\", \"variable\": \"upt_per_vrm\", \"value\": 1.75}, {\"ntd_id\": \"90019\", \"agency_name\": \"Sacramento Regional Transit District\", \"RTPA\": \"Sacramento Area Council of Governments\", \"year\": \"2021\", \"variable\": \"upt_per_vrm\", \"value\": 0.68}, {\"ntd_id\": \"90019\", \"agency_name\": \"Sacramento Regional Transit District\", \"RTPA\": \"Sacramento Area Council of Governments\", \"year\": \"2022\", \"variable\": \"upt_per_vrm\", \"value\": 0.83}, {\"ntd_id\": \"90019\", \"agency_name\": \"Sacramento Regional Transit District\", \"RTPA\": \"Sacramento Area Council of Governments\", \"year\": \"2023\", \"variable\": \"upt_per_vrm\", \"value\": 1.02}, {\"ntd_id\": \"90061\", \"agency_name\": \"Yuba-Sutter Transit Authority (YSTA)\", \"RTPA\": \"Sacramento Area Council of Governments\", \"year\": \"2018\", \"variable\": \"upt_per_vrm\", \"value\": 0.83}, {\"ntd_id\": \"90061\", \"agency_name\": \"Yuba-Sutter Transit Authority (YSTA)\", \"RTPA\": \"Sacramento Area Council of Governments\", \"year\": \"2019\", \"variable\": \"upt_per_vrm\", \"value\": 0.77}, {\"ntd_id\": \"90061\", \"agency_name\": \"Yuba-Sutter Transit Authority (YSTA)\", \"RTPA\": \"Sacramento Area Council of Governments\", \"year\": \"2020\", \"variable\": \"upt_per_vrm\", \"value\": 0.64}, {\"ntd_id\": \"90061\", \"agency_name\": \"Yuba-Sutter Transit Authority (YSTA)\", \"RTPA\": \"Sacramento Area Council of Governments\", \"year\": \"2021\", \"variable\": \"upt_per_vrm\", \"value\": 0.35}, {\"ntd_id\": \"90061\", \"agency_name\": \"Yuba-Sutter Transit Authority (YSTA)\", \"RTPA\": \"Sacramento Area Council of Governments\", \"year\": \"2022\", \"variable\": \"upt_per_vrm\", \"value\": 0.46}, {\"ntd_id\": \"90061\", \"agency_name\": \"Yuba-Sutter Transit Authority (YSTA)\", \"RTPA\": \"Sacramento Area Council of Governments\", \"year\": \"2023\", \"variable\": \"upt_per_vrm\", \"value\": 0.53}, {\"ntd_id\": \"90090\", \"agency_name\": \"Yolo County Transportation District (YCTD)\", \"RTPA\": \"Sacramento Area Council of Governments\", \"year\": \"2018\", \"variable\": \"upt_per_vrm\", \"value\": 0.57}, {\"ntd_id\": \"90090\", \"agency_name\": \"Yolo County Transportation District (YCTD)\", \"RTPA\": \"Sacramento Area Council of Governments\", \"year\": \"2019\", \"variable\": \"upt_per_vrm\", \"value\": 0.53}, {\"ntd_id\": \"90090\", \"agency_name\": \"Yolo County Transportation District (YCTD)\", \"RTPA\": \"Sacramento Area Council of Governments\", \"year\": \"2020\", \"variable\": \"upt_per_vrm\", \"value\": 0.45}, {\"ntd_id\": \"90090\", \"agency_name\": \"Yolo County Transportation District (YCTD)\", \"RTPA\": \"Sacramento Area Council of Governments\", \"year\": \"2021\", \"variable\": \"upt_per_vrm\", \"value\": 0.24}, {\"ntd_id\": \"90090\", \"agency_name\": \"Yolo County Transportation District (YCTD)\", \"RTPA\": \"Sacramento Area Council of Governments\", \"year\": \"2022\", \"variable\": \"upt_per_vrm\", \"value\": 0.41}, {\"ntd_id\": \"90090\", \"agency_name\": \"Yolo County Transportation District (YCTD)\", \"RTPA\": \"Sacramento Area Council of Governments\", \"year\": \"2023\", \"variable\": \"upt_per_vrm\", \"value\": 0.34}, {\"ntd_id\": \"90142\", \"agency_name\": \"University of California, Davis (ASUCD) - Associated Students of the University of California, Davis\", \"RTPA\": \"Sacramento Area Council of Governments\", \"year\": \"2018\", \"variable\": \"upt_per_vrm\", \"value\": 4.81}, {\"ntd_id\": \"90142\", \"agency_name\": \"University of California, Davis (ASUCD) - Associated Students of the University of California, Davis\", \"RTPA\": \"Sacramento Area Council of Governments\", \"year\": \"2019\", \"variable\": \"upt_per_vrm\", \"value\": 4.68}, {\"ntd_id\": \"90142\", \"agency_name\": \"University of California, Davis (ASUCD) - Associated Students of the University of California, Davis\", \"RTPA\": \"Sacramento Area Council of Governments\", \"year\": \"2020\", \"variable\": \"upt_per_vrm\", \"value\": 4.24}, {\"ntd_id\": \"90142\", \"agency_name\": \"University of California, Davis (ASUCD) - Associated Students of the University of California, Davis\", \"RTPA\": \"Sacramento Area Council of Governments\", \"year\": \"2021\", \"variable\": \"upt_per_vrm\", \"value\": 0.59}, {\"ntd_id\": \"90142\", \"agency_name\": \"University of California, Davis (ASUCD) - Associated Students of the University of California, Davis\", \"RTPA\": \"Sacramento Area Council of Governments\", \"year\": \"2022\", \"variable\": \"upt_per_vrm\", \"value\": 3.23}, {\"ntd_id\": \"90142\", \"agency_name\": \"University of California, Davis (ASUCD) - Associated Students of the University of California, Davis\", \"RTPA\": \"Sacramento Area Council of Governments\", \"year\": \"2023\", \"variable\": \"upt_per_vrm\", \"value\": 4.34}, {\"ntd_id\": \"90167\", \"agency_name\": \"City of Davis (DCT) - Transit/Parks and Community Services\", \"RTPA\": \"Sacramento Area Council of Governments\", \"year\": \"2018\", \"variable\": \"upt_per_vrm\", \"value\": 0.26}, {\"ntd_id\": \"90167\", \"agency_name\": \"City of Davis (DCT) - Transit/Parks and Community Services\", \"RTPA\": \"Sacramento Area Council of Governments\", \"year\": \"2019\", \"variable\": \"upt_per_vrm\", \"value\": 0.27}, {\"ntd_id\": \"90167\", \"agency_name\": \"City of Davis (DCT) - Transit/Parks and Community Services\", \"RTPA\": \"Sacramento Area Council of Governments\", \"year\": \"2020\", \"variable\": \"upt_per_vrm\", \"value\": 0.26}, {\"ntd_id\": \"90167\", \"agency_name\": \"City of Davis (DCT) - Transit/Parks and Community Services\", \"RTPA\": \"Sacramento Area Council of Governments\", \"year\": \"2021\", \"variable\": \"upt_per_vrm\", \"value\": 0.22}, {\"ntd_id\": \"90167\", \"agency_name\": \"City of Davis (DCT) - Transit/Parks and Community Services\", \"RTPA\": \"Sacramento Area Council of Governments\", \"year\": \"2022\", \"variable\": \"upt_per_vrm\", \"value\": 0.25}, {\"ntd_id\": \"90167\", \"agency_name\": \"City of Davis (DCT) - Transit/Parks and Community Services\", \"RTPA\": \"Sacramento Area Council of Governments\", \"year\": \"2023\", \"variable\": \"upt_per_vrm\", \"value\": 0.27}, {\"ntd_id\": \"90205\", \"agency_name\": \"City of Elk Grove(etran)\", \"RTPA\": \"Sacramento Area Council of Governments\", \"year\": \"2018\", \"variable\": \"upt_per_vrm\", \"value\": 0.76}, {\"ntd_id\": \"90205\", \"agency_name\": \"City of Elk Grove(etran)\", \"RTPA\": \"Sacramento Area Council of Governments\", \"year\": \"2019\", \"variable\": \"upt_per_vrm\", \"value\": 0.75}, {\"ntd_id\": \"90205\", \"agency_name\": \"City of Elk Grove(etran)\", \"RTPA\": \"Sacramento Area Council of Governments\", \"year\": \"2020\", \"variable\": \"upt_per_vrm\", \"value\": 0.64}, {\"ntd_id\": \"90205\", \"agency_name\": \"City of Elk Grove(etran)\", \"RTPA\": \"Sacramento Area Council of Governments\", \"year\": \"2021\", \"variable\": \"upt_per_vrm\", \"value\": 0.16}, {\"ntd_id\": \"90216\", \"agency_name\": \"County of Sacramento Municipal Services Agency (SCT Link) - Department of Transportation\", \"RTPA\": \"Sacramento Area Council of Governments\", \"year\": \"2018\", \"variable\": \"upt_per_vrm\", \"value\": 0.23}, {\"ntd_id\": \"90216\", \"agency_name\": \"County of Sacramento Municipal Services Agency (SCT Link) - Department of Transportation\", \"RTPA\": \"Sacramento Area Council of Governments\", \"year\": \"2019\", \"variable\": \"upt_per_vrm\", \"value\": 0.24}, {\"ntd_id\": \"90216\", \"agency_name\": \"County of Sacramento Municipal Services Agency (SCT Link) - Department of Transportation\", \"RTPA\": \"Sacramento Area Council of Governments\", \"year\": \"2020\", \"variable\": \"upt_per_vrm\", \"value\": 0.19}, {\"ntd_id\": \"90216\", \"agency_name\": \"County of Sacramento Municipal Services Agency (SCT Link) - Department of Transportation\", \"RTPA\": \"Sacramento Area Council of Governments\", \"year\": \"2021\", \"variable\": \"upt_per_vrm\", \"value\": 0.09}, {\"ntd_id\": \"90216\", \"agency_name\": \"County of Sacramento Municipal Services Agency (SCT Link) - Department of Transportation\", \"RTPA\": \"Sacramento Area Council of Governments\", \"year\": \"2022\", \"variable\": \"upt_per_vrm\", \"value\": 0.09}, {\"ntd_id\": \"90216\", \"agency_name\": \"County of Sacramento Municipal Services Agency (SCT Link) - Department of Transportation\", \"RTPA\": \"Sacramento Area Council of Governments\", \"year\": \"2023\", \"variable\": \"upt_per_vrm\", \"value\": 0.11}, {\"ntd_id\": \"90220\", \"agency_name\": \"City of Folsom (FSL)\", \"RTPA\": \"Sacramento Area Council of Governments\", \"year\": \"2018\", \"variable\": \"upt_per_vrm\", \"value\": 0.49}, {\"ntd_id\": \"90220\", \"agency_name\": \"City of Folsom (FSL)\", \"RTPA\": \"Sacramento Area Council of Governments\", \"year\": \"2019\", \"variable\": \"upt_per_vrm\", \"value\": 0.48}, {\"ntd_id\": \"90223\", \"agency_name\": \"Paratransit, Inc.\", \"RTPA\": \"Sacramento Area Council of Governments\", \"year\": \"2018\", \"variable\": \"upt_per_vrm\", \"value\": 0.12}, {\"ntd_id\": \"90223\", \"agency_name\": \"Paratransit, Inc.\", \"RTPA\": \"Sacramento Area Council of Governments\", \"year\": \"2019\", \"variable\": \"upt_per_vrm\", \"value\": 0.12}, {\"ntd_id\": \"90223\", \"agency_name\": \"Paratransit, Inc.\", \"RTPA\": \"Sacramento Area Council of Governments\", \"year\": \"2020\", \"variable\": \"upt_per_vrm\", \"value\": 0.12}, {\"ntd_id\": \"90223\", \"agency_name\": \"Paratransit, Inc.\", \"RTPA\": \"Sacramento Area Council of Governments\", \"year\": \"2021\", \"variable\": \"upt_per_vrm\", \"value\": 0.08}, {\"ntd_id\": \"90223\", \"agency_name\": \"Paratransit, Inc.\", \"RTPA\": \"Sacramento Area Council of Governments\", \"year\": \"2022\", \"variable\": \"upt_per_vrm\", \"value\": 0.07}, {\"ntd_id\": \"90223\", \"agency_name\": \"Paratransit, Inc.\", \"RTPA\": \"Sacramento Area Council of Governments\", \"year\": \"2023\", \"variable\": \"upt_per_vrm\", \"value\": 0.1}, {\"ntd_id\": \"90019\", \"agency_name\": \"Sacramento Regional Transit District\", \"RTPA\": \"Sacramento Area Council of Governments\", \"year\": \"2018\", \"variable\": \"opex_per_upt\", \"value\": 7.33}, {\"ntd_id\": \"90019\", \"agency_name\": \"Sacramento Regional Transit District\", \"RTPA\": \"Sacramento Area Council of Governments\", \"year\": \"2019\", \"variable\": \"opex_per_upt\", \"value\": 8.37}, {\"ntd_id\": \"90019\", \"agency_name\": \"Sacramento Regional Transit District\", \"RTPA\": \"Sacramento Area Council of Governments\", \"year\": \"2020\", \"variable\": \"opex_per_upt\", \"value\": 9.9}, {\"ntd_id\": \"90019\", \"agency_name\": \"Sacramento Regional Transit District\", \"RTPA\": \"Sacramento Area Council of Governments\", \"year\": \"2021\", \"variable\": \"opex_per_upt\", \"value\": 23.12}, {\"ntd_id\": \"90019\", \"agency_name\": \"Sacramento Regional Transit District\", \"RTPA\": \"Sacramento Area Council of Governments\", \"year\": \"2022\", \"variable\": \"opex_per_upt\", \"value\": 19.04}, {\"ntd_id\": \"90019\", \"agency_name\": \"Sacramento Regional Transit District\", \"RTPA\": \"Sacramento Area Council of Governments\", \"year\": \"2023\", \"variable\": \"opex_per_upt\", \"value\": 16.61}, {\"ntd_id\": \"90061\", \"agency_name\": \"Yuba-Sutter Transit Authority (YSTA)\", \"RTPA\": \"Sacramento Area Council of Governments\", \"year\": \"2018\", \"variable\": \"opex_per_upt\", \"value\": 7.1}, {\"ntd_id\": \"90061\", \"agency_name\": \"Yuba-Sutter Transit Authority (YSTA)\", \"RTPA\": \"Sacramento Area Council of Governments\", \"year\": \"2019\", \"variable\": \"opex_per_upt\", \"value\": 7.83}, {\"ntd_id\": \"90061\", \"agency_name\": \"Yuba-Sutter Transit Authority (YSTA)\", \"RTPA\": \"Sacramento Area Council of Governments\", \"year\": \"2020\", \"variable\": \"opex_per_upt\", \"value\": 10.61}, {\"ntd_id\": \"90061\", \"agency_name\": \"Yuba-Sutter Transit Authority (YSTA)\", \"RTPA\": \"Sacramento Area Council of Governments\", \"year\": \"2021\", \"variable\": \"opex_per_upt\", \"value\": 21.68}, {\"ntd_id\": \"90061\", \"agency_name\": \"Yuba-Sutter Transit Authority (YSTA)\", \"RTPA\": \"Sacramento Area Council of Governments\", \"year\": \"2022\", \"variable\": \"opex_per_upt\", \"value\": 17.55}, {\"ntd_id\": \"90061\", \"agency_name\": \"Yuba-Sutter Transit Authority (YSTA)\", \"RTPA\": \"Sacramento Area Council of Governments\", \"year\": \"2023\", \"variable\": \"opex_per_upt\", \"value\": 15.87}, {\"ntd_id\": \"90090\", \"agency_name\": \"Yolo County Transportation District (YCTD)\", \"RTPA\": \"Sacramento Area Council of Governments\", \"year\": \"2018\", \"variable\": \"opex_per_upt\", \"value\": 10.35}, {\"ntd_id\": \"90090\", \"agency_name\": \"Yolo County Transportation District (YCTD)\", \"RTPA\": \"Sacramento Area Council of Governments\", \"year\": \"2019\", \"variable\": \"opex_per_upt\", \"value\": 11.17}, {\"ntd_id\": \"90090\", \"agency_name\": \"Yolo County Transportation District (YCTD)\", \"RTPA\": \"Sacramento Area Council of Governments\", \"year\": \"2020\", \"variable\": \"opex_per_upt\", \"value\": 14.82}, {\"ntd_id\": \"90090\", \"agency_name\": \"Yolo County Transportation District (YCTD)\", \"RTPA\": \"Sacramento Area Council of Governments\", \"year\": \"2021\", \"variable\": \"opex_per_upt\", \"value\": 30.81}, {\"ntd_id\": \"90090\", \"agency_name\": \"Yolo County Transportation District (YCTD)\", \"RTPA\": \"Sacramento Area Council of Governments\", \"year\": \"2022\", \"variable\": \"opex_per_upt\", \"value\": 18.82}, {\"ntd_id\": \"90090\", \"agency_name\": \"Yolo County Transportation District (YCTD)\", \"RTPA\": \"Sacramento Area Council of Governments\", \"year\": \"2023\", \"variable\": \"opex_per_upt\", \"value\": 21.93}, {\"ntd_id\": \"90142\", \"agency_name\": \"University of California, Davis (ASUCD) - Associated Students of the University of California, Davis\", \"RTPA\": \"Sacramento Area Council of Governments\", \"year\": \"2018\", \"variable\": \"opex_per_upt\", \"value\": 1.45}, {\"ntd_id\": \"90142\", \"agency_name\": \"University of California, Davis (ASUCD) - Associated Students of the University of California, Davis\", \"RTPA\": \"Sacramento Area Council of Governments\", \"year\": \"2019\", \"variable\": \"opex_per_upt\", \"value\": 1.51}, {\"ntd_id\": \"90142\", \"agency_name\": \"University of California, Davis (ASUCD) - Associated Students of the University of California, Davis\", \"RTPA\": \"Sacramento Area Council of Governments\", \"year\": \"2020\", \"variable\": \"opex_per_upt\", \"value\": 2.35}, {\"ntd_id\": \"90142\", \"agency_name\": \"University of California, Davis (ASUCD) - Associated Students of the University of California, Davis\", \"RTPA\": \"Sacramento Area Council of Governments\", \"year\": \"2021\", \"variable\": \"opex_per_upt\", \"value\": 17.75}, {\"ntd_id\": \"90142\", \"agency_name\": \"University of California, Davis (ASUCD) - Associated Students of the University of California, Davis\", \"RTPA\": \"Sacramento Area Council of Governments\", \"year\": \"2022\", \"variable\": \"opex_per_upt\", \"value\": 3.71}, {\"ntd_id\": \"90142\", \"agency_name\": \"University of California, Davis (ASUCD) - Associated Students of the University of California, Davis\", \"RTPA\": \"Sacramento Area Council of Governments\", \"year\": \"2023\", \"variable\": \"opex_per_upt\", \"value\": 2.78}, {\"ntd_id\": \"90167\", \"agency_name\": \"City of Davis (DCT) - Transit/Parks and Community Services\", \"RTPA\": \"Sacramento Area Council of Governments\", \"year\": \"2018\", \"variable\": \"opex_per_upt\", \"value\": 38.48}, {\"ntd_id\": \"90167\", \"agency_name\": \"City of Davis (DCT) - Transit/Parks and Community Services\", \"RTPA\": \"Sacramento Area Council of Governments\", \"year\": \"2019\", \"variable\": \"opex_per_upt\", \"value\": 35.63}, {\"ntd_id\": \"90167\", \"agency_name\": \"City of Davis (DCT) - Transit/Parks and Community Services\", \"RTPA\": \"Sacramento Area Council of Governments\", \"year\": \"2020\", \"variable\": \"opex_per_upt\", \"value\": 52.03}, {\"ntd_id\": \"90167\", \"agency_name\": \"City of Davis (DCT) - Transit/Parks and Community Services\", \"RTPA\": \"Sacramento Area Council of Governments\", \"year\": \"2021\", \"variable\": \"opex_per_upt\", \"value\": 104.63}, {\"ntd_id\": \"90167\", \"agency_name\": \"City of Davis (DCT) - Transit/Parks and Community Services\", \"RTPA\": \"Sacramento Area Council of Governments\", \"year\": \"2022\", \"variable\": \"opex_per_upt\", \"value\": 72.97}, {\"ntd_id\": \"90167\", \"agency_name\": \"City of Davis (DCT) - Transit/Parks and Community Services\", \"RTPA\": \"Sacramento Area Council of Governments\", \"year\": \"2023\", \"variable\": \"opex_per_upt\", \"value\": 70.26}, {\"ntd_id\": \"90205\", \"agency_name\": \"City of Elk Grove(etran)\", \"RTPA\": \"Sacramento Area Council of Governments\", \"year\": \"2018\", \"variable\": \"opex_per_upt\", \"value\": 12.13}, {\"ntd_id\": \"90205\", \"agency_name\": \"City of Elk Grove(etran)\", \"RTPA\": \"Sacramento Area Council of Governments\", \"year\": \"2019\", \"variable\": \"opex_per_upt\", \"value\": 12.75}, {\"ntd_id\": \"90205\", \"agency_name\": \"City of Elk Grove(etran)\", \"RTPA\": \"Sacramento Area Council of Governments\", \"year\": \"2020\", \"variable\": \"opex_per_upt\", \"value\": 14.55}, {\"ntd_id\": \"90205\", \"agency_name\": \"City of Elk Grove(etran)\", \"RTPA\": \"Sacramento Area Council of Governments\", \"year\": \"2021\", \"variable\": \"opex_per_upt\", \"value\": 73.64}, {\"ntd_id\": \"90216\", \"agency_name\": \"County of Sacramento Municipal Services Agency (SCT Link) - Department of Transportation\", \"RTPA\": \"Sacramento Area Council of Governments\", \"year\": \"2018\", \"variable\": \"opex_per_upt\", \"value\": 18.37}, {\"ntd_id\": \"90216\", \"agency_name\": \"County of Sacramento Municipal Services Agency (SCT Link) - Department of Transportation\", \"RTPA\": \"Sacramento Area Council of Governments\", \"year\": \"2019\", \"variable\": \"opex_per_upt\", \"value\": 19.0}, {\"ntd_id\": \"90216\", \"agency_name\": \"County of Sacramento Municipal Services Agency (SCT Link) - Department of Transportation\", \"RTPA\": \"Sacramento Area Council of Governments\", \"year\": \"2020\", \"variable\": \"opex_per_upt\", \"value\": 24.82}, {\"ntd_id\": \"90216\", \"agency_name\": \"County of Sacramento Municipal Services Agency (SCT Link) - Department of Transportation\", \"RTPA\": \"Sacramento Area Council of Governments\", \"year\": \"2021\", \"variable\": \"opex_per_upt\", \"value\": 63.74}, {\"ntd_id\": \"90216\", \"agency_name\": \"County of Sacramento Municipal Services Agency (SCT Link) - Department of Transportation\", \"RTPA\": \"Sacramento Area Council of Governments\", \"year\": \"2022\", \"variable\": \"opex_per_upt\", \"value\": 56.59}, {\"ntd_id\": \"90216\", \"agency_name\": \"County of Sacramento Municipal Services Agency (SCT Link) - Department of Transportation\", \"RTPA\": \"Sacramento Area Council of Governments\", \"year\": \"2023\", \"variable\": \"opex_per_upt\", \"value\": 54.03}, {\"ntd_id\": \"90220\", \"agency_name\": \"City of Folsom (FSL)\", \"RTPA\": \"Sacramento Area Council of Governments\", \"year\": \"2018\", \"variable\": \"opex_per_upt\", \"value\": 23.16}, {\"ntd_id\": \"90220\", \"agency_name\": \"City of Folsom (FSL)\", \"RTPA\": \"Sacramento Area Council of Governments\", \"year\": \"2019\", \"variable\": \"opex_per_upt\", \"value\": 22.88}, {\"ntd_id\": \"90223\", \"agency_name\": \"Paratransit, Inc.\", \"RTPA\": \"Sacramento Area Council of Governments\", \"year\": \"2018\", \"variable\": \"opex_per_upt\", \"value\": 47.18}, {\"ntd_id\": \"90223\", \"agency_name\": \"Paratransit, Inc.\", \"RTPA\": \"Sacramento Area Council of Governments\", \"year\": \"2019\", \"variable\": \"opex_per_upt\", \"value\": 51.0}, {\"ntd_id\": \"90223\", \"agency_name\": \"Paratransit, Inc.\", \"RTPA\": \"Sacramento Area Council of Governments\", \"year\": \"2020\", \"variable\": \"opex_per_upt\", \"value\": 59.88}, {\"ntd_id\": \"90223\", \"agency_name\": \"Paratransit, Inc.\", \"RTPA\": \"Sacramento Area Council of Governments\", \"year\": \"2021\", \"variable\": \"opex_per_upt\", \"value\": 92.63}, {\"ntd_id\": \"90223\", \"agency_name\": \"Paratransit, Inc.\", \"RTPA\": \"Sacramento Area Council of Governments\", \"year\": \"2022\", \"variable\": \"opex_per_upt\", \"value\": 86.34}, {\"ntd_id\": \"90223\", \"agency_name\": \"Paratransit, Inc.\", \"RTPA\": \"Sacramento Area Council of Governments\", \"year\": \"2023\", \"variable\": \"opex_per_upt\", \"value\": 57.23}]}}, {\"mode\": \"vega-lite\"});\n",
       "</script>"
      ],
      "text/plain": [
       "alt.FacetChart(...)"
      ]
     },
     "execution_count": 8,
     "metadata": {},
     "output_type": "execute_result"
    }
   ],
   "source": [
    "# all agencies\n",
    "make_line(\n",
    "    by_agency_long,\n",
    "    x_col=\"year:T\",\n",
    "    y_col=\"value\",\n",
    "    facet=\"variable:N\",\n",
    "    color=\"agency_name:N\",\n",
    "    chart_title=\"New performance Metrics per Transit Agency\",\n",
    "    ind_axis=True,\n",
    ")"
   ]
  },
  {
   "cell_type": "markdown",
   "id": "4c2e4025-8e0f-41b3-9abd-a9936b1b9e23",
   "metadata": {},
   "source": [
    "### By Mode"
   ]
  },
  {
   "cell_type": "code",
   "execution_count": 9,
   "id": "069b603c-f870-47bb-90e8-f1ac46f2ed9f",
   "metadata": {
    "tags": []
   },
   "outputs": [
    {
     "data": {
      "text/html": [
       "\n",
       "<style>\n",
       "  #altair-viz-c5321810ec974cc49e75ab17669373c4.vega-embed {\n",
       "    width: 100%;\n",
       "    display: flex;\n",
       "  }\n",
       "\n",
       "  #altair-viz-c5321810ec974cc49e75ab17669373c4.vega-embed details,\n",
       "  #altair-viz-c5321810ec974cc49e75ab17669373c4.vega-embed details summary {\n",
       "    position: relative;\n",
       "  }\n",
       "</style>\n",
       "<div id=\"altair-viz-c5321810ec974cc49e75ab17669373c4\"></div>\n",
       "<script type=\"text/javascript\">\n",
       "  var VEGA_DEBUG = (typeof VEGA_DEBUG == \"undefined\") ? {} : VEGA_DEBUG;\n",
       "  (function(spec, embedOpt){\n",
       "    let outputDiv = document.currentScript.previousElementSibling;\n",
       "    if (outputDiv.id !== \"altair-viz-c5321810ec974cc49e75ab17669373c4\") {\n",
       "      outputDiv = document.getElementById(\"altair-viz-c5321810ec974cc49e75ab17669373c4\");\n",
       "    }\n",
       "\n",
       "    const paths = {\n",
       "      \"vega\": \"https://cdn.jsdelivr.net/npm/vega@5?noext\",\n",
       "      \"vega-lib\": \"https://cdn.jsdelivr.net/npm/vega-lib?noext\",\n",
       "      \"vega-lite\": \"https://cdn.jsdelivr.net/npm/vega-lite@5.20.1?noext\",\n",
       "      \"vega-embed\": \"https://cdn.jsdelivr.net/npm/vega-embed@6?noext\",\n",
       "    };\n",
       "\n",
       "    function maybeLoadScript(lib, version) {\n",
       "      var key = `${lib.replace(\"-\", \"\")}_version`;\n",
       "      return (VEGA_DEBUG[key] == version) ?\n",
       "        Promise.resolve(paths[lib]) :\n",
       "        new Promise(function(resolve, reject) {\n",
       "          var s = document.createElement('script');\n",
       "          document.getElementsByTagName(\"head\")[0].appendChild(s);\n",
       "          s.async = true;\n",
       "          s.onload = () => {\n",
       "            VEGA_DEBUG[key] = version;\n",
       "            return resolve(paths[lib]);\n",
       "          };\n",
       "          s.onerror = () => reject(`Error loading script: ${paths[lib]}`);\n",
       "          s.src = paths[lib];\n",
       "        });\n",
       "    }\n",
       "\n",
       "    function showError(err) {\n",
       "      outputDiv.innerHTML = `<div class=\"error\" style=\"color:red;\">${err}</div>`;\n",
       "      throw err;\n",
       "    }\n",
       "\n",
       "    function displayChart(vegaEmbed) {\n",
       "      vegaEmbed(outputDiv, spec, embedOpt)\n",
       "        .catch(err => showError(`Javascript Error: ${err.message}<br>This usually means there's a typo in your chart specification. See the javascript console for the full traceback.`));\n",
       "    }\n",
       "\n",
       "    if(typeof define === \"function\" && define.amd) {\n",
       "      requirejs.config({paths});\n",
       "      let deps = [\"vega-embed\"];\n",
       "      require(deps, displayChart, err => showError(`Error loading script: ${err.message}`));\n",
       "    } else {\n",
       "      maybeLoadScript(\"vega\", \"5\")\n",
       "        .then(() => maybeLoadScript(\"vega-lite\", \"5.20.1\"))\n",
       "        .then(() => maybeLoadScript(\"vega-embed\", \"6\"))\n",
       "        .catch(showError)\n",
       "        .then(() => displayChart(vegaEmbed));\n",
       "    }\n",
       "  })({\"config\": {\"view\": {\"continuousWidth\": 300, \"continuousHeight\": 300}}, \"data\": {\"name\": \"data-60eac8f46e9eda6bf7b046c097af91aa\"}, \"facet\": {\"field\": \"variable\", \"type\": \"nominal\"}, \"spec\": {\"layer\": [{\"mark\": {\"type\": \"line\", \"point\": true}, \"encoding\": {\"color\": {\"field\": \"mode\", \"type\": \"nominal\"}, \"tooltip\": [{\"field\": \"year\", \"type\": \"temporal\"}, {\"field\": \"value\", \"type\": \"quantitative\"}, {\"field\": \"mode\", \"type\": \"nominal\"}], \"x\": {\"field\": \"year\", \"type\": \"temporal\"}, \"y\": {\"field\": \"value\", \"type\": \"quantitative\"}}, \"name\": \"view_2\", \"title\": \"New Performance Metrics per Mode\"}, {\"mark\": {\"type\": \"rule\"}, \"encoding\": {\"y\": {\"aggregate\": \"median\", \"field\": \"value\", \"type\": \"quantitative\"}}}, {\"mark\": {\"type\": \"text\", \"align\": \"right\", \"dy\": -10}, \"encoding\": {\"color\": {\"field\": \"mode\", \"type\": \"nominal\"}, \"text\": {\"field\": \"value\", \"type\": \"quantitative\"}, \"x\": {\"field\": \"year\", \"type\": \"temporal\"}, \"y\": {\"field\": \"value\", \"type\": \"quantitative\"}}}], \"height\": 150, \"width\": 350}, \"columns\": 2, \"params\": [{\"name\": \"param_2\", \"select\": {\"type\": \"interval\", \"encodings\": [\"x\", \"y\"]}, \"bind\": \"scales\", \"views\": [\"view_2\"]}], \"resolve\": {\"scale\": {\"y\": \"independent\"}}, \"$schema\": \"https://vega.github.io/schema/vega-lite/v5.20.1.json\", \"datasets\": {\"data-60eac8f46e9eda6bf7b046c097af91aa\": [{\"mode\": \"Bus\", \"RTPA\": \"Sacramento Area Council of Governments\", \"year\": \"2018\", \"variable\": \"opex_per_vrh\", \"value\": 131.06}, {\"mode\": \"Bus\", \"RTPA\": \"Sacramento Area Council of Governments\", \"year\": \"2019\", \"variable\": \"opex_per_vrh\", \"value\": 138.81}, {\"mode\": \"Bus\", \"RTPA\": \"Sacramento Area Council of Governments\", \"year\": \"2020\", \"variable\": \"opex_per_vrh\", \"value\": 154.46}, {\"mode\": \"Bus\", \"RTPA\": \"Sacramento Area Council of Governments\", \"year\": \"2021\", \"variable\": \"opex_per_vrh\", \"value\": 157.16}, {\"mode\": \"Bus\", \"RTPA\": \"Sacramento Area Council of Governments\", \"year\": \"2022\", \"variable\": \"opex_per_vrh\", \"value\": 164.77}, {\"mode\": \"Bus\", \"RTPA\": \"Sacramento Area Council of Governments\", \"year\": \"2023\", \"variable\": \"opex_per_vrh\", \"value\": 183.41}, {\"mode\": \"Commuter Bus\", \"RTPA\": \"Sacramento Area Council of Governments\", \"year\": \"2018\", \"variable\": \"opex_per_vrh\", \"value\": 131.05}, {\"mode\": \"Commuter Bus\", \"RTPA\": \"Sacramento Area Council of Governments\", \"year\": \"2019\", \"variable\": \"opex_per_vrh\", \"value\": 138.81}, {\"mode\": \"Commuter Bus\", \"RTPA\": \"Sacramento Area Council of Governments\", \"year\": \"2020\", \"variable\": \"opex_per_vrh\", \"value\": 114.69}, {\"mode\": \"Commuter Bus\", \"RTPA\": \"Sacramento Area Council of Governments\", \"year\": \"2021\", \"variable\": \"opex_per_vrh\", \"value\": 139.47}, {\"mode\": \"Commuter Bus\", \"RTPA\": \"Sacramento Area Council of Governments\", \"year\": \"2022\", \"variable\": \"opex_per_vrh\", \"value\": 100.57}, {\"mode\": \"Commuter Bus\", \"RTPA\": \"Sacramento Area Council of Governments\", \"year\": \"2023\", \"variable\": \"opex_per_vrh\", \"value\": 104.33}, {\"mode\": \"Demand Response\", \"RTPA\": \"Sacramento Area Council of Governments\", \"year\": \"2018\", \"variable\": \"opex_per_vrh\", \"value\": 87.78}, {\"mode\": \"Demand Response\", \"RTPA\": \"Sacramento Area Council of Governments\", \"year\": \"2019\", \"variable\": \"opex_per_vrh\", \"value\": 94.81}, {\"mode\": \"Demand Response\", \"RTPA\": \"Sacramento Area Council of Governments\", \"year\": \"2020\", \"variable\": \"opex_per_vrh\", \"value\": 115.29}, {\"mode\": \"Demand Response\", \"RTPA\": \"Sacramento Area Council of Governments\", \"year\": \"2021\", \"variable\": \"opex_per_vrh\", \"value\": 151.45}, {\"mode\": \"Demand Response\", \"RTPA\": \"Sacramento Area Council of Governments\", \"year\": \"2022\", \"variable\": \"opex_per_vrh\", \"value\": 154.13}, {\"mode\": \"Demand Response\", \"RTPA\": \"Sacramento Area Council of Governments\", \"year\": \"2023\", \"variable\": \"opex_per_vrh\", \"value\": 158.11}, {\"mode\": \"Light Rail\", \"RTPA\": \"Sacramento Area Council of Governments\", \"year\": \"2018\", \"variable\": \"opex_per_vrh\", \"value\": 285.0}, {\"mode\": \"Light Rail\", \"RTPA\": \"Sacramento Area Council of Governments\", \"year\": \"2019\", \"variable\": \"opex_per_vrh\", \"value\": 313.93}, {\"mode\": \"Light Rail\", \"RTPA\": \"Sacramento Area Council of Governments\", \"year\": \"2020\", \"variable\": \"opex_per_vrh\", \"value\": 374.86}, {\"mode\": \"Light Rail\", \"RTPA\": \"Sacramento Area Council of Governments\", \"year\": \"2021\", \"variable\": \"opex_per_vrh\", \"value\": 367.66}, {\"mode\": \"Light Rail\", \"RTPA\": \"Sacramento Area Council of Governments\", \"year\": \"2022\", \"variable\": \"opex_per_vrh\", \"value\": 391.69}, {\"mode\": \"Light Rail\", \"RTPA\": \"Sacramento Area Council of Governments\", \"year\": \"2023\", \"variable\": \"opex_per_vrh\", \"value\": 415.71}, {\"mode\": \"Bus\", \"RTPA\": \"Sacramento Area Council of Governments\", \"year\": \"2018\", \"variable\": \"opex_per_vrm\", \"value\": 10.55}, {\"mode\": \"Bus\", \"RTPA\": \"Sacramento Area Council of Governments\", \"year\": \"2019\", \"variable\": \"opex_per_vrm\", \"value\": 11.16}, {\"mode\": \"Bus\", \"RTPA\": \"Sacramento Area Council of Governments\", \"year\": \"2020\", \"variable\": \"opex_per_vrm\", \"value\": 12.36}, {\"mode\": \"Bus\", \"RTPA\": \"Sacramento Area Council of Governments\", \"year\": \"2021\", \"variable\": \"opex_per_vrm\", \"value\": 12.71}, {\"mode\": \"Bus\", \"RTPA\": \"Sacramento Area Council of Governments\", \"year\": \"2022\", \"variable\": \"opex_per_vrm\", \"value\": 13.37}, {\"mode\": \"Bus\", \"RTPA\": \"Sacramento Area Council of Governments\", \"year\": \"2023\", \"variable\": \"opex_per_vrm\", \"value\": 14.61}, {\"mode\": \"Commuter Bus\", \"RTPA\": \"Sacramento Area Council of Governments\", \"year\": \"2018\", \"variable\": \"opex_per_vrm\", \"value\": 5.17}, {\"mode\": \"Commuter Bus\", \"RTPA\": \"Sacramento Area Council of Governments\", \"year\": \"2019\", \"variable\": \"opex_per_vrm\", \"value\": 5.68}, {\"mode\": \"Commuter Bus\", \"RTPA\": \"Sacramento Area Council of Governments\", \"year\": \"2020\", \"variable\": \"opex_per_vrm\", \"value\": 4.43}, {\"mode\": \"Commuter Bus\", \"RTPA\": \"Sacramento Area Council of Governments\", \"year\": \"2021\", \"variable\": \"opex_per_vrm\", \"value\": 5.03}, {\"mode\": \"Commuter Bus\", \"RTPA\": \"Sacramento Area Council of Governments\", \"year\": \"2022\", \"variable\": \"opex_per_vrm\", \"value\": 3.02}, {\"mode\": \"Commuter Bus\", \"RTPA\": \"Sacramento Area Council of Governments\", \"year\": \"2023\", \"variable\": \"opex_per_vrm\", \"value\": 3.16}, {\"mode\": \"Demand Response\", \"RTPA\": \"Sacramento Area Council of Governments\", \"year\": \"2018\", \"variable\": \"opex_per_vrm\", \"value\": 6.17}, {\"mode\": \"Demand Response\", \"RTPA\": \"Sacramento Area Council of Governments\", \"year\": \"2019\", \"variable\": \"opex_per_vrm\", \"value\": 6.64}, {\"mode\": \"Demand Response\", \"RTPA\": \"Sacramento Area Council of Governments\", \"year\": \"2020\", \"variable\": \"opex_per_vrm\", \"value\": 8.11}, {\"mode\": \"Demand Response\", \"RTPA\": \"Sacramento Area Council of Governments\", \"year\": \"2021\", \"variable\": \"opex_per_vrm\", \"value\": 10.65}, {\"mode\": \"Demand Response\", \"RTPA\": \"Sacramento Area Council of Governments\", \"year\": \"2022\", \"variable\": \"opex_per_vrm\", \"value\": 10.05}, {\"mode\": \"Demand Response\", \"RTPA\": \"Sacramento Area Council of Governments\", \"year\": \"2023\", \"variable\": \"opex_per_vrm\", \"value\": 10.0}, {\"mode\": \"Light Rail\", \"RTPA\": \"Sacramento Area Council of Governments\", \"year\": \"2018\", \"variable\": \"opex_per_vrm\", \"value\": 16.04}, {\"mode\": \"Light Rail\", \"RTPA\": \"Sacramento Area Council of Governments\", \"year\": \"2019\", \"variable\": \"opex_per_vrm\", \"value\": 17.58}, {\"mode\": \"Light Rail\", \"RTPA\": \"Sacramento Area Council of Governments\", \"year\": \"2020\", \"variable\": \"opex_per_vrm\", \"value\": 21.49}, {\"mode\": \"Light Rail\", \"RTPA\": \"Sacramento Area Council of Governments\", \"year\": \"2021\", \"variable\": \"opex_per_vrm\", \"value\": 20.6}, {\"mode\": \"Light Rail\", \"RTPA\": \"Sacramento Area Council of Governments\", \"year\": \"2022\", \"variable\": \"opex_per_vrm\", \"value\": 21.8}, {\"mode\": \"Light Rail\", \"RTPA\": \"Sacramento Area Council of Governments\", \"year\": \"2023\", \"variable\": \"opex_per_vrm\", \"value\": 23.14}, {\"mode\": \"Bus\", \"RTPA\": \"Sacramento Area Council of Governments\", \"year\": \"2018\", \"variable\": \"upt_per_vrh\", \"value\": 20.53}, {\"mode\": \"Bus\", \"RTPA\": \"Sacramento Area Council of Governments\", \"year\": \"2019\", \"variable\": \"upt_per_vrh\", \"value\": 19.43}, {\"mode\": \"Bus\", \"RTPA\": \"Sacramento Area Council of Governments\", \"year\": \"2020\", \"variable\": \"upt_per_vrh\", \"value\": 17.1}, {\"mode\": \"Bus\", \"RTPA\": \"Sacramento Area Council of Governments\", \"year\": \"2021\", \"variable\": \"upt_per_vrh\", \"value\": 6.58}, {\"mode\": \"Bus\", \"RTPA\": \"Sacramento Area Council of Governments\", \"year\": \"2022\", \"variable\": \"upt_per_vrh\", \"value\": 11.62}, {\"mode\": \"Bus\", \"RTPA\": \"Sacramento Area Council of Governments\", \"year\": \"2023\", \"variable\": \"upt_per_vrh\", \"value\": 14.77}, {\"mode\": \"Commuter Bus\", \"RTPA\": \"Sacramento Area Council of Governments\", \"year\": \"2018\", \"variable\": \"upt_per_vrh\", \"value\": 15.43}, {\"mode\": \"Commuter Bus\", \"RTPA\": \"Sacramento Area Council of Governments\", \"year\": \"2019\", \"variable\": \"upt_per_vrh\", \"value\": 15.3}, {\"mode\": \"Commuter Bus\", \"RTPA\": \"Sacramento Area Council of Governments\", \"year\": \"2020\", \"variable\": \"upt_per_vrh\", \"value\": 13.01}, {\"mode\": \"Commuter Bus\", \"RTPA\": \"Sacramento Area Council of Governments\", \"year\": \"2021\", \"variable\": \"upt_per_vrh\", \"value\": 2.44}, {\"mode\": \"Commuter Bus\", \"RTPA\": \"Sacramento Area Council of Governments\", \"year\": \"2022\", \"variable\": \"upt_per_vrh\", \"value\": 2.83}, {\"mode\": \"Commuter Bus\", \"RTPA\": \"Sacramento Area Council of Governments\", \"year\": \"2023\", \"variable\": \"upt_per_vrh\", \"value\": 3.79}, {\"mode\": \"Demand Response\", \"RTPA\": \"Sacramento Area Council of Governments\", \"year\": \"2018\", \"variable\": \"upt_per_vrh\", \"value\": 1.88}, {\"mode\": \"Demand Response\", \"RTPA\": \"Sacramento Area Council of Governments\", \"year\": \"2019\", \"variable\": \"upt_per_vrh\", \"value\": 1.99}, {\"mode\": \"Demand Response\", \"RTPA\": \"Sacramento Area Council of Governments\", \"year\": \"2020\", \"variable\": \"upt_per_vrh\", \"value\": 2.01}, {\"mode\": \"Demand Response\", \"RTPA\": \"Sacramento Area Council of Governments\", \"year\": \"2021\", \"variable\": \"upt_per_vrh\", \"value\": 2.06}, {\"mode\": \"Demand Response\", \"RTPA\": \"Sacramento Area Council of Governments\", \"year\": \"2022\", \"variable\": \"upt_per_vrh\", \"value\": 2.22}, {\"mode\": \"Demand Response\", \"RTPA\": \"Sacramento Area Council of Governments\", \"year\": \"2023\", \"variable\": \"upt_per_vrh\", \"value\": 2.3}, {\"mode\": \"Light Rail\", \"RTPA\": \"Sacramento Area Council of Governments\", \"year\": \"2018\", \"variable\": \"upt_per_vrh\", \"value\": 41.72}, {\"mode\": \"Light Rail\", \"RTPA\": \"Sacramento Area Council of Governments\", \"year\": \"2019\", \"variable\": \"upt_per_vrh\", \"value\": 41.03}, {\"mode\": \"Light Rail\", \"RTPA\": \"Sacramento Area Council of Governments\", \"year\": \"2020\", \"variable\": \"upt_per_vrh\", \"value\": 43.43}, {\"mode\": \"Light Rail\", \"RTPA\": \"Sacramento Area Council of Governments\", \"year\": \"2021\", \"variable\": \"upt_per_vrh\", \"value\": 19.35}, {\"mode\": \"Light Rail\", \"RTPA\": \"Sacramento Area Council of Governments\", \"year\": \"2022\", \"variable\": \"upt_per_vrh\", \"value\": 23.08}, {\"mode\": \"Light Rail\", \"RTPA\": \"Sacramento Area Council of Governments\", \"year\": \"2023\", \"variable\": \"upt_per_vrh\", \"value\": 30.74}, {\"mode\": \"Bus\", \"RTPA\": \"Sacramento Area Council of Governments\", \"year\": \"2018\", \"variable\": \"upt_per_vrm\", \"value\": 1.65}, {\"mode\": \"Bus\", \"RTPA\": \"Sacramento Area Council of Governments\", \"year\": \"2019\", \"variable\": \"upt_per_vrm\", \"value\": 1.56}, {\"mode\": \"Bus\", \"RTPA\": \"Sacramento Area Council of Governments\", \"year\": \"2020\", \"variable\": \"upt_per_vrm\", \"value\": 1.37}, {\"mode\": \"Bus\", \"RTPA\": \"Sacramento Area Council of Governments\", \"year\": \"2021\", \"variable\": \"upt_per_vrm\", \"value\": 0.53}, {\"mode\": \"Bus\", \"RTPA\": \"Sacramento Area Council of Governments\", \"year\": \"2022\", \"variable\": \"upt_per_vrm\", \"value\": 0.94}, {\"mode\": \"Bus\", \"RTPA\": \"Sacramento Area Council of Governments\", \"year\": \"2023\", \"variable\": \"upt_per_vrm\", \"value\": 1.18}, {\"mode\": \"Commuter Bus\", \"RTPA\": \"Sacramento Area Council of Governments\", \"year\": \"2018\", \"variable\": \"upt_per_vrm\", \"value\": 0.61}, {\"mode\": \"Commuter Bus\", \"RTPA\": \"Sacramento Area Council of Governments\", \"year\": \"2019\", \"variable\": \"upt_per_vrm\", \"value\": 0.63}, {\"mode\": \"Commuter Bus\", \"RTPA\": \"Sacramento Area Council of Governments\", \"year\": \"2020\", \"variable\": \"upt_per_vrm\", \"value\": 0.5}, {\"mode\": \"Commuter Bus\", \"RTPA\": \"Sacramento Area Council of Governments\", \"year\": \"2021\", \"variable\": \"upt_per_vrm\", \"value\": 0.09}, {\"mode\": \"Commuter Bus\", \"RTPA\": \"Sacramento Area Council of Governments\", \"year\": \"2022\", \"variable\": \"upt_per_vrm\", \"value\": 0.09}, {\"mode\": \"Commuter Bus\", \"RTPA\": \"Sacramento Area Council of Governments\", \"year\": \"2023\", \"variable\": \"upt_per_vrm\", \"value\": 0.11}, {\"mode\": \"Demand Response\", \"RTPA\": \"Sacramento Area Council of Governments\", \"year\": \"2018\", \"variable\": \"upt_per_vrm\", \"value\": 0.13}, {\"mode\": \"Demand Response\", \"RTPA\": \"Sacramento Area Council of Governments\", \"year\": \"2019\", \"variable\": \"upt_per_vrm\", \"value\": 0.14}, {\"mode\": \"Demand Response\", \"RTPA\": \"Sacramento Area Council of Governments\", \"year\": \"2020\", \"variable\": \"upt_per_vrm\", \"value\": 0.14}, {\"mode\": \"Demand Response\", \"RTPA\": \"Sacramento Area Council of Governments\", \"year\": \"2021\", \"variable\": \"upt_per_vrm\", \"value\": 0.14}, {\"mode\": \"Demand Response\", \"RTPA\": \"Sacramento Area Council of Governments\", \"year\": \"2022\", \"variable\": \"upt_per_vrm\", \"value\": 0.14}, {\"mode\": \"Demand Response\", \"RTPA\": \"Sacramento Area Council of Governments\", \"year\": \"2023\", \"variable\": \"upt_per_vrm\", \"value\": 0.15}, {\"mode\": \"Light Rail\", \"RTPA\": \"Sacramento Area Council of Governments\", \"year\": \"2018\", \"variable\": \"upt_per_vrm\", \"value\": 2.35}, {\"mode\": \"Light Rail\", \"RTPA\": \"Sacramento Area Council of Governments\", \"year\": \"2019\", \"variable\": \"upt_per_vrm\", \"value\": 2.3}, {\"mode\": \"Light Rail\", \"RTPA\": \"Sacramento Area Council of Governments\", \"year\": \"2020\", \"variable\": \"upt_per_vrm\", \"value\": 2.49}, {\"mode\": \"Light Rail\", \"RTPA\": \"Sacramento Area Council of Governments\", \"year\": \"2021\", \"variable\": \"upt_per_vrm\", \"value\": 1.08}, {\"mode\": \"Light Rail\", \"RTPA\": \"Sacramento Area Council of Governments\", \"year\": \"2022\", \"variable\": \"upt_per_vrm\", \"value\": 1.28}, {\"mode\": \"Light Rail\", \"RTPA\": \"Sacramento Area Council of Governments\", \"year\": \"2023\", \"variable\": \"upt_per_vrm\", \"value\": 1.71}, {\"mode\": \"Bus\", \"RTPA\": \"Sacramento Area Council of Governments\", \"year\": \"2018\", \"variable\": \"opex_per_upt\", \"value\": 6.38}, {\"mode\": \"Bus\", \"RTPA\": \"Sacramento Area Council of Governments\", \"year\": \"2019\", \"variable\": \"opex_per_upt\", \"value\": 7.15}, {\"mode\": \"Bus\", \"RTPA\": \"Sacramento Area Council of Governments\", \"year\": \"2020\", \"variable\": \"opex_per_upt\", \"value\": 9.03}, {\"mode\": \"Bus\", \"RTPA\": \"Sacramento Area Council of Governments\", \"year\": \"2021\", \"variable\": \"opex_per_upt\", \"value\": 23.88}, {\"mode\": \"Bus\", \"RTPA\": \"Sacramento Area Council of Governments\", \"year\": \"2022\", \"variable\": \"opex_per_upt\", \"value\": 14.18}, {\"mode\": \"Bus\", \"RTPA\": \"Sacramento Area Council of Governments\", \"year\": \"2023\", \"variable\": \"opex_per_upt\", \"value\": 12.42}, {\"mode\": \"Commuter Bus\", \"RTPA\": \"Sacramento Area Council of Governments\", \"year\": \"2018\", \"variable\": \"opex_per_upt\", \"value\": 8.49}, {\"mode\": \"Commuter Bus\", \"RTPA\": \"Sacramento Area Council of Governments\", \"year\": \"2019\", \"variable\": \"opex_per_upt\", \"value\": 9.07}, {\"mode\": \"Commuter Bus\", \"RTPA\": \"Sacramento Area Council of Governments\", \"year\": \"2020\", \"variable\": \"opex_per_upt\", \"value\": 8.82}, {\"mode\": \"Commuter Bus\", \"RTPA\": \"Sacramento Area Council of Governments\", \"year\": \"2021\", \"variable\": \"opex_per_upt\", \"value\": 57.16}, {\"mode\": \"Commuter Bus\", \"RTPA\": \"Sacramento Area Council of Governments\", \"year\": \"2022\", \"variable\": \"opex_per_upt\", \"value\": 35.57}, {\"mode\": \"Commuter Bus\", \"RTPA\": \"Sacramento Area Council of Governments\", \"year\": \"2023\", \"variable\": \"opex_per_upt\", \"value\": 27.5}, {\"mode\": \"Demand Response\", \"RTPA\": \"Sacramento Area Council of Governments\", \"year\": \"2018\", \"variable\": \"opex_per_upt\", \"value\": 46.59}, {\"mode\": \"Demand Response\", \"RTPA\": \"Sacramento Area Council of Governments\", \"year\": \"2019\", \"variable\": \"opex_per_upt\", \"value\": 47.72}, {\"mode\": \"Demand Response\", \"RTPA\": \"Sacramento Area Council of Governments\", \"year\": \"2020\", \"variable\": \"opex_per_upt\", \"value\": 57.37}, {\"mode\": \"Demand Response\", \"RTPA\": \"Sacramento Area Council of Governments\", \"year\": \"2021\", \"variable\": \"opex_per_upt\", \"value\": 73.58}, {\"mode\": \"Demand Response\", \"RTPA\": \"Sacramento Area Council of Governments\", \"year\": \"2022\", \"variable\": \"opex_per_upt\", \"value\": 69.35}, {\"mode\": \"Demand Response\", \"RTPA\": \"Sacramento Area Council of Governments\", \"year\": \"2023\", \"variable\": \"opex_per_upt\", \"value\": 68.84}, {\"mode\": \"Light Rail\", \"RTPA\": \"Sacramento Area Council of Governments\", \"year\": \"2018\", \"variable\": \"opex_per_upt\", \"value\": 6.83}, {\"mode\": \"Light Rail\", \"RTPA\": \"Sacramento Area Council of Governments\", \"year\": \"2019\", \"variable\": \"opex_per_upt\", \"value\": 7.65}, {\"mode\": \"Light Rail\", \"RTPA\": \"Sacramento Area Council of Governments\", \"year\": \"2020\", \"variable\": \"opex_per_upt\", \"value\": 8.63}, {\"mode\": \"Light Rail\", \"RTPA\": \"Sacramento Area Council of Governments\", \"year\": \"2021\", \"variable\": \"opex_per_upt\", \"value\": 19.0}, {\"mode\": \"Light Rail\", \"RTPA\": \"Sacramento Area Council of Governments\", \"year\": \"2022\", \"variable\": \"opex_per_upt\", \"value\": 16.97}, {\"mode\": \"Light Rail\", \"RTPA\": \"Sacramento Area Council of Governments\", \"year\": \"2023\", \"variable\": \"opex_per_upt\", \"value\": 13.52}]}}, {\"mode\": \"vega-lite\"});\n",
       "</script>"
      ],
      "text/plain": [
       "alt.FacetChart(...)"
      ]
     },
     "execution_count": 9,
     "metadata": {},
     "output_type": "execute_result"
    }
   ],
   "source": [
    "make_line(\n",
    "    by_mode_long,\n",
    "    x_col=\"year:T\",\n",
    "    y_col=\"value\",\n",
    "    facet=\"variable:N\",\n",
    "    color=\"mode:N\",\n",
    "    chart_title=\"New Performance Metrics per Mode\",\n",
    "    ind_axis=True,\n",
    ")"
   ]
  },
  {
   "cell_type": "markdown",
   "id": "4a8cf1ee-aa29-4293-8b8e-5f36782a9562",
   "metadata": {
    "tags": []
   },
   "source": [
    "### By Type of Service"
   ]
  },
  {
   "cell_type": "code",
   "execution_count": 10,
   "id": "15e58a1e-1089-4ec8-b2a2-4a18662f05df",
   "metadata": {
    "tags": []
   },
   "outputs": [
    {
     "data": {
      "text/html": [
       "\n",
       "<style>\n",
       "  #altair-viz-1f8a4505535c47878deafbb9f0064ffa.vega-embed {\n",
       "    width: 100%;\n",
       "    display: flex;\n",
       "  }\n",
       "\n",
       "  #altair-viz-1f8a4505535c47878deafbb9f0064ffa.vega-embed details,\n",
       "  #altair-viz-1f8a4505535c47878deafbb9f0064ffa.vega-embed details summary {\n",
       "    position: relative;\n",
       "  }\n",
       "</style>\n",
       "<div id=\"altair-viz-1f8a4505535c47878deafbb9f0064ffa\"></div>\n",
       "<script type=\"text/javascript\">\n",
       "  var VEGA_DEBUG = (typeof VEGA_DEBUG == \"undefined\") ? {} : VEGA_DEBUG;\n",
       "  (function(spec, embedOpt){\n",
       "    let outputDiv = document.currentScript.previousElementSibling;\n",
       "    if (outputDiv.id !== \"altair-viz-1f8a4505535c47878deafbb9f0064ffa\") {\n",
       "      outputDiv = document.getElementById(\"altair-viz-1f8a4505535c47878deafbb9f0064ffa\");\n",
       "    }\n",
       "\n",
       "    const paths = {\n",
       "      \"vega\": \"https://cdn.jsdelivr.net/npm/vega@5?noext\",\n",
       "      \"vega-lib\": \"https://cdn.jsdelivr.net/npm/vega-lib?noext\",\n",
       "      \"vega-lite\": \"https://cdn.jsdelivr.net/npm/vega-lite@5.20.1?noext\",\n",
       "      \"vega-embed\": \"https://cdn.jsdelivr.net/npm/vega-embed@6?noext\",\n",
       "    };\n",
       "\n",
       "    function maybeLoadScript(lib, version) {\n",
       "      var key = `${lib.replace(\"-\", \"\")}_version`;\n",
       "      return (VEGA_DEBUG[key] == version) ?\n",
       "        Promise.resolve(paths[lib]) :\n",
       "        new Promise(function(resolve, reject) {\n",
       "          var s = document.createElement('script');\n",
       "          document.getElementsByTagName(\"head\")[0].appendChild(s);\n",
       "          s.async = true;\n",
       "          s.onload = () => {\n",
       "            VEGA_DEBUG[key] = version;\n",
       "            return resolve(paths[lib]);\n",
       "          };\n",
       "          s.onerror = () => reject(`Error loading script: ${paths[lib]}`);\n",
       "          s.src = paths[lib];\n",
       "        });\n",
       "    }\n",
       "\n",
       "    function showError(err) {\n",
       "      outputDiv.innerHTML = `<div class=\"error\" style=\"color:red;\">${err}</div>`;\n",
       "      throw err;\n",
       "    }\n",
       "\n",
       "    function displayChart(vegaEmbed) {\n",
       "      vegaEmbed(outputDiv, spec, embedOpt)\n",
       "        .catch(err => showError(`Javascript Error: ${err.message}<br>This usually means there's a typo in your chart specification. See the javascript console for the full traceback.`));\n",
       "    }\n",
       "\n",
       "    if(typeof define === \"function\" && define.amd) {\n",
       "      requirejs.config({paths});\n",
       "      let deps = [\"vega-embed\"];\n",
       "      require(deps, displayChart, err => showError(`Error loading script: ${err.message}`));\n",
       "    } else {\n",
       "      maybeLoadScript(\"vega\", \"5\")\n",
       "        .then(() => maybeLoadScript(\"vega-lite\", \"5.20.1\"))\n",
       "        .then(() => maybeLoadScript(\"vega-embed\", \"6\"))\n",
       "        .catch(showError)\n",
       "        .then(() => displayChart(vegaEmbed));\n",
       "    }\n",
       "  })({\"config\": {\"view\": {\"continuousWidth\": 300, \"continuousHeight\": 300}}, \"data\": {\"name\": \"data-0292462e9180d0ff0cf17de82a2a1536\"}, \"facet\": {\"field\": \"variable\", \"type\": \"nominal\"}, \"spec\": {\"layer\": [{\"mark\": {\"type\": \"line\", \"point\": true}, \"encoding\": {\"color\": {\"field\": \"service\", \"type\": \"nominal\"}, \"tooltip\": [{\"field\": \"year\", \"type\": \"temporal\"}, {\"field\": \"value\", \"type\": \"quantitative\"}, {\"field\": \"service\", \"type\": \"nominal\"}], \"x\": {\"field\": \"year\", \"type\": \"temporal\"}, \"y\": {\"field\": \"value\", \"type\": \"quantitative\"}}, \"name\": \"view_3\", \"title\": \"New Performance Metrics per Type of Service\"}, {\"mark\": {\"type\": \"rule\"}, \"encoding\": {\"y\": {\"aggregate\": \"median\", \"field\": \"value\", \"type\": \"quantitative\"}}}, {\"mark\": {\"type\": \"text\", \"align\": \"right\", \"dy\": -10}, \"encoding\": {\"color\": {\"field\": \"service\", \"type\": \"nominal\"}, \"text\": {\"field\": \"value\", \"type\": \"quantitative\"}, \"x\": {\"field\": \"year\", \"type\": \"temporal\"}, \"y\": {\"field\": \"value\", \"type\": \"quantitative\"}}}], \"height\": 150, \"width\": 350}, \"columns\": 2, \"params\": [{\"name\": \"param_3\", \"select\": {\"type\": \"interval\", \"encodings\": [\"x\", \"y\"]}, \"bind\": \"scales\", \"views\": [\"view_3\"]}], \"resolve\": {\"scale\": {\"y\": \"independent\"}}, \"$schema\": \"https://vega.github.io/schema/vega-lite/v5.20.1.json\", \"datasets\": {\"data-0292462e9180d0ff0cf17de82a2a1536\": [{\"service\": \"Directly Operated\", \"RTPA\": \"Sacramento Area Council of Governments\", \"year\": \"2018\", \"variable\": \"opex_per_vrh\", \"value\": 159.73}, {\"service\": \"Directly Operated\", \"RTPA\": \"Sacramento Area Council of Governments\", \"year\": \"2019\", \"variable\": \"opex_per_vrh\", \"value\": 172.92}, {\"service\": \"Directly Operated\", \"RTPA\": \"Sacramento Area Council of Governments\", \"year\": \"2020\", \"variable\": \"opex_per_vrh\", \"value\": 196.99}, {\"service\": \"Directly Operated\", \"RTPA\": \"Sacramento Area Council of Governments\", \"year\": \"2021\", \"variable\": \"opex_per_vrh\", \"value\": 204.63}, {\"service\": \"Directly Operated\", \"RTPA\": \"Sacramento Area Council of Governments\", \"year\": \"2022\", \"variable\": \"opex_per_vrh\", \"value\": 209.55}, {\"service\": \"Directly Operated\", \"RTPA\": \"Sacramento Area Council of Governments\", \"year\": \"2023\", \"variable\": \"opex_per_vrh\", \"value\": 226.36}, {\"service\": \"Purchased Transportation\", \"RTPA\": \"Sacramento Area Council of Governments\", \"year\": \"2018\", \"variable\": \"opex_per_vrh\", \"value\": 111.08}, {\"service\": \"Purchased Transportation\", \"RTPA\": \"Sacramento Area Council of Governments\", \"year\": \"2019\", \"variable\": \"opex_per_vrh\", \"value\": 113.06}, {\"service\": \"Purchased Transportation\", \"RTPA\": \"Sacramento Area Council of Governments\", \"year\": \"2020\", \"variable\": \"opex_per_vrh\", \"value\": 121.44}, {\"service\": \"Purchased Transportation\", \"RTPA\": \"Sacramento Area Council of Governments\", \"year\": \"2021\", \"variable\": \"opex_per_vrh\", \"value\": 136.8}, {\"service\": \"Purchased Transportation\", \"RTPA\": \"Sacramento Area Council of Governments\", \"year\": \"2022\", \"variable\": \"opex_per_vrh\", \"value\": 130.6}, {\"service\": \"Purchased Transportation\", \"RTPA\": \"Sacramento Area Council of Governments\", \"year\": \"2023\", \"variable\": \"opex_per_vrh\", \"value\": 142.86}, {\"service\": \"Purchased Transportation - Taxi\", \"RTPA\": \"Sacramento Area Council of Governments\", \"year\": \"2020\", \"variable\": \"opex_per_vrh\", \"value\": 140.61}, {\"service\": \"Purchased Transportation - Transportation Network Company\", \"RTPA\": \"Sacramento Area Council of Governments\", \"year\": \"2022\", \"variable\": \"opex_per_vrh\", \"value\": 171.73}, {\"service\": \"Purchased Transportation - Transportation Network Company\", \"RTPA\": \"Sacramento Area Council of Governments\", \"year\": \"2023\", \"variable\": \"opex_per_vrh\", \"value\": 119.71}, {\"service\": \"Directly Operated\", \"RTPA\": \"Sacramento Area Council of Governments\", \"year\": \"2018\", \"variable\": \"opex_per_vrm\", \"value\": 12.05}, {\"service\": \"Directly Operated\", \"RTPA\": \"Sacramento Area Council of Governments\", \"year\": \"2019\", \"variable\": \"opex_per_vrm\", \"value\": 12.99}, {\"service\": \"Directly Operated\", \"RTPA\": \"Sacramento Area Council of Governments\", \"year\": \"2020\", \"variable\": \"opex_per_vrm\", \"value\": 15.1}, {\"service\": \"Directly Operated\", \"RTPA\": \"Sacramento Area Council of Governments\", \"year\": \"2021\", \"variable\": \"opex_per_vrm\", \"value\": 15.49}, {\"service\": \"Directly Operated\", \"RTPA\": \"Sacramento Area Council of Governments\", \"year\": \"2022\", \"variable\": \"opex_per_vrm\", \"value\": 15.53}, {\"service\": \"Directly Operated\", \"RTPA\": \"Sacramento Area Council of Governments\", \"year\": \"2023\", \"variable\": \"opex_per_vrm\", \"value\": 16.85}, {\"service\": \"Purchased Transportation\", \"RTPA\": \"Sacramento Area Council of Governments\", \"year\": \"2018\", \"variable\": \"opex_per_vrm\", \"value\": 6.5}, {\"service\": \"Purchased Transportation\", \"RTPA\": \"Sacramento Area Council of Governments\", \"year\": \"2019\", \"variable\": \"opex_per_vrm\", \"value\": 6.66}, {\"service\": \"Purchased Transportation\", \"RTPA\": \"Sacramento Area Council of Governments\", \"year\": \"2020\", \"variable\": \"opex_per_vrm\", \"value\": 7.17}, {\"service\": \"Purchased Transportation\", \"RTPA\": \"Sacramento Area Council of Governments\", \"year\": \"2021\", \"variable\": \"opex_per_vrm\", \"value\": 8.21}, {\"service\": \"Purchased Transportation\", \"RTPA\": \"Sacramento Area Council of Governments\", \"year\": \"2022\", \"variable\": \"opex_per_vrm\", \"value\": 7.53}, {\"service\": \"Purchased Transportation\", \"RTPA\": \"Sacramento Area Council of Governments\", \"year\": \"2023\", \"variable\": \"opex_per_vrm\", \"value\": 7.59}, {\"service\": \"Purchased Transportation - Taxi\", \"RTPA\": \"Sacramento Area Council of Governments\", \"year\": \"2020\", \"variable\": \"opex_per_vrm\", \"value\": 6.59}, {\"service\": \"Purchased Transportation - Transportation Network Company\", \"RTPA\": \"Sacramento Area Council of Governments\", \"year\": \"2022\", \"variable\": \"opex_per_vrm\", \"value\": 8.2}, {\"service\": \"Purchased Transportation - Transportation Network Company\", \"RTPA\": \"Sacramento Area Council of Governments\", \"year\": \"2023\", \"variable\": \"opex_per_vrm\", \"value\": 5.43}, {\"service\": \"Directly Operated\", \"RTPA\": \"Sacramento Area Council of Governments\", \"year\": \"2018\", \"variable\": \"upt_per_vrh\", \"value\": 22.97}, {\"service\": \"Directly Operated\", \"RTPA\": \"Sacramento Area Council of Governments\", \"year\": \"2019\", \"variable\": \"upt_per_vrh\", \"value\": 22.01}, {\"service\": \"Directly Operated\", \"RTPA\": \"Sacramento Area Council of Governments\", \"year\": \"2020\", \"variable\": \"upt_per_vrh\", \"value\": 20.76}, {\"service\": \"Directly Operated\", \"RTPA\": \"Sacramento Area Council of Governments\", \"year\": \"2021\", \"variable\": \"upt_per_vrh\", \"value\": 8.9}, {\"service\": \"Directly Operated\", \"RTPA\": \"Sacramento Area Council of Governments\", \"year\": \"2022\", \"variable\": \"upt_per_vrh\", \"value\": 12.41}, {\"service\": \"Directly Operated\", \"RTPA\": \"Sacramento Area Council of Governments\", \"year\": \"2023\", \"variable\": \"upt_per_vrh\", \"value\": 15.91}, {\"service\": \"Purchased Transportation\", \"RTPA\": \"Sacramento Area Council of Governments\", \"year\": \"2018\", \"variable\": \"upt_per_vrh\", \"value\": 9.85}, {\"service\": \"Purchased Transportation\", \"RTPA\": \"Sacramento Area Council of Governments\", \"year\": \"2019\", \"variable\": \"upt_per_vrh\", \"value\": 9.13}, {\"service\": \"Purchased Transportation\", \"RTPA\": \"Sacramento Area Council of Governments\", \"year\": \"2020\", \"variable\": \"upt_per_vrh\", \"value\": 8.31}, {\"service\": \"Purchased Transportation\", \"RTPA\": \"Sacramento Area Council of Governments\", \"year\": \"2021\", \"variable\": \"upt_per_vrh\", \"value\": 4.01}, {\"service\": \"Purchased Transportation\", \"RTPA\": \"Sacramento Area Council of Governments\", \"year\": \"2022\", \"variable\": \"upt_per_vrh\", \"value\": 6.71}, {\"service\": \"Purchased Transportation\", \"RTPA\": \"Sacramento Area Council of Governments\", \"year\": \"2023\", \"variable\": \"upt_per_vrh\", \"value\": 6.92}, {\"service\": \"Purchased Transportation - Taxi\", \"RTPA\": \"Sacramento Area Council of Governments\", \"year\": \"2020\", \"variable\": \"upt_per_vrh\", \"value\": 2.94}, {\"service\": \"Purchased Transportation - Transportation Network Company\", \"RTPA\": \"Sacramento Area Council of Governments\", \"year\": \"2022\", \"variable\": \"upt_per_vrh\", \"value\": 2.47}, {\"service\": \"Purchased Transportation - Transportation Network Company\", \"RTPA\": \"Sacramento Area Council of Governments\", \"year\": \"2023\", \"variable\": \"upt_per_vrh\", \"value\": 2.68}, {\"service\": \"Directly Operated\", \"RTPA\": \"Sacramento Area Council of Governments\", \"year\": \"2018\", \"variable\": \"upt_per_vrm\", \"value\": 1.73}, {\"service\": \"Directly Operated\", \"RTPA\": \"Sacramento Area Council of Governments\", \"year\": \"2019\", \"variable\": \"upt_per_vrm\", \"value\": 1.65}, {\"service\": \"Directly Operated\", \"RTPA\": \"Sacramento Area Council of Governments\", \"year\": \"2020\", \"variable\": \"upt_per_vrm\", \"value\": 1.59}, {\"service\": \"Directly Operated\", \"RTPA\": \"Sacramento Area Council of Governments\", \"year\": \"2021\", \"variable\": \"upt_per_vrm\", \"value\": 0.67}, {\"service\": \"Directly Operated\", \"RTPA\": \"Sacramento Area Council of Governments\", \"year\": \"2022\", \"variable\": \"upt_per_vrm\", \"value\": 0.92}, {\"service\": \"Directly Operated\", \"RTPA\": \"Sacramento Area Council of Governments\", \"year\": \"2023\", \"variable\": \"upt_per_vrm\", \"value\": 1.18}, {\"service\": \"Purchased Transportation\", \"RTPA\": \"Sacramento Area Council of Governments\", \"year\": \"2018\", \"variable\": \"upt_per_vrm\", \"value\": 0.58}, {\"service\": \"Purchased Transportation\", \"RTPA\": \"Sacramento Area Council of Governments\", \"year\": \"2019\", \"variable\": \"upt_per_vrm\", \"value\": 0.54}, {\"service\": \"Purchased Transportation\", \"RTPA\": \"Sacramento Area Council of Governments\", \"year\": \"2020\", \"variable\": \"upt_per_vrm\", \"value\": 0.49}, {\"service\": \"Purchased Transportation\", \"RTPA\": \"Sacramento Area Council of Governments\", \"year\": \"2021\", \"variable\": \"upt_per_vrm\", \"value\": 0.24}, {\"service\": \"Purchased Transportation\", \"RTPA\": \"Sacramento Area Council of Governments\", \"year\": \"2022\", \"variable\": \"upt_per_vrm\", \"value\": 0.39}, {\"service\": \"Purchased Transportation\", \"RTPA\": \"Sacramento Area Council of Governments\", \"year\": \"2023\", \"variable\": \"upt_per_vrm\", \"value\": 0.37}, {\"service\": \"Purchased Transportation - Taxi\", \"RTPA\": \"Sacramento Area Council of Governments\", \"year\": \"2020\", \"variable\": \"upt_per_vrm\", \"value\": 0.14}, {\"service\": \"Purchased Transportation - Transportation Network Company\", \"RTPA\": \"Sacramento Area Council of Governments\", \"year\": \"2022\", \"variable\": \"upt_per_vrm\", \"value\": 0.12}, {\"service\": \"Purchased Transportation - Transportation Network Company\", \"RTPA\": \"Sacramento Area Council of Governments\", \"year\": \"2023\", \"variable\": \"upt_per_vrm\", \"value\": 0.12}, {\"service\": \"Directly Operated\", \"RTPA\": \"Sacramento Area Council of Governments\", \"year\": \"2018\", \"variable\": \"opex_per_upt\", \"value\": 6.95}, {\"service\": \"Directly Operated\", \"RTPA\": \"Sacramento Area Council of Governments\", \"year\": \"2019\", \"variable\": \"opex_per_upt\", \"value\": 7.86}, {\"service\": \"Directly Operated\", \"RTPA\": \"Sacramento Area Council of Governments\", \"year\": \"2020\", \"variable\": \"opex_per_upt\", \"value\": 9.49}, {\"service\": \"Directly Operated\", \"RTPA\": \"Sacramento Area Council of Governments\", \"year\": \"2021\", \"variable\": \"opex_per_upt\", \"value\": 23.0}, {\"service\": \"Directly Operated\", \"RTPA\": \"Sacramento Area Council of Governments\", \"year\": \"2022\", \"variable\": \"opex_per_upt\", \"value\": 16.88}, {\"service\": \"Directly Operated\", \"RTPA\": \"Sacramento Area Council of Governments\", \"year\": \"2023\", \"variable\": \"opex_per_upt\", \"value\": 14.23}, {\"service\": \"Purchased Transportation\", \"RTPA\": \"Sacramento Area Council of Governments\", \"year\": \"2018\", \"variable\": \"opex_per_upt\", \"value\": 11.28}, {\"service\": \"Purchased Transportation\", \"RTPA\": \"Sacramento Area Council of Governments\", \"year\": \"2019\", \"variable\": \"opex_per_upt\", \"value\": 12.38}, {\"service\": \"Purchased Transportation\", \"RTPA\": \"Sacramento Area Council of Governments\", \"year\": \"2020\", \"variable\": \"opex_per_upt\", \"value\": 14.61}, {\"service\": \"Purchased Transportation\", \"RTPA\": \"Sacramento Area Council of Governments\", \"year\": \"2021\", \"variable\": \"opex_per_upt\", \"value\": 34.08}, {\"service\": \"Purchased Transportation\", \"RTPA\": \"Sacramento Area Council of Governments\", \"year\": \"2022\", \"variable\": \"opex_per_upt\", \"value\": 19.48}, {\"service\": \"Purchased Transportation\", \"RTPA\": \"Sacramento Area Council of Governments\", \"year\": \"2023\", \"variable\": \"opex_per_upt\", \"value\": 20.65}, {\"service\": \"Purchased Transportation - Taxi\", \"RTPA\": \"Sacramento Area Council of Governments\", \"year\": \"2020\", \"variable\": \"opex_per_upt\", \"value\": 47.78}, {\"service\": \"Purchased Transportation - Transportation Network Company\", \"RTPA\": \"Sacramento Area Council of Governments\", \"year\": \"2022\", \"variable\": \"opex_per_upt\", \"value\": 69.52}, {\"service\": \"Purchased Transportation - Transportation Network Company\", \"RTPA\": \"Sacramento Area Council of Governments\", \"year\": \"2023\", \"variable\": \"opex_per_upt\", \"value\": 44.73}]}}, {\"mode\": \"vega-lite\"});\n",
       "</script>"
      ],
      "text/plain": [
       "alt.FacetChart(...)"
      ]
     },
     "execution_count": 10,
     "metadata": {},
     "output_type": "execute_result"
    }
   ],
   "source": [
    "make_line(\n",
    "    by_tos_long,\n",
    "    x_col=\"year:T\",\n",
    "    y_col=\"value\",\n",
    "    facet=\"variable:N\",\n",
    "    color=\"service:N\",\n",
    "    chart_title=\"New Performance Metrics per Type of Service\",\n",
    "    ind_axis=True,\n",
    ")"
   ]
  },
  {
   "cell_type": "markdown",
   "id": "b886c718-cd3b-4a8f-819d-8155e1045a7e",
   "metadata": {},
   "source": [
    "## Cost-efficiency metrics\n",
    "Cost-efficiency measures inputs to outputs: For example, the cost of operating an hour of transit service.\n",
    "\n",
    "Per the UCLA ITS Paper\n",
    ">Transit-oriented markets (which are predominantly urban), transit service tends to be relatively service-effective. But high operating costs on these (mostly) older, larger systems can inhibit efforts to improve ridership by adding service. In such contexts, assessing systems with an emphasis on **cost-efficiency (i.e., the cost of operating an hour of service)** grounds would provide incentives for agencies to **manage their costs** so as to be able to provide more service with available funding."
   ]
  },
  {
   "cell_type": "markdown",
   "id": "54dd0451-7912-4605-a4e9-e10d40b21e5c",
   "metadata": {
    "tags": []
   },
   "source": [
    "### Operating cost per VRH\n",
    "Lower is better"
   ]
  },
  {
   "cell_type": "code",
   "execution_count": 11,
   "id": "b7e1a3b6-3939-4f18-b791-8014dd98e84b",
   "metadata": {
    "tags": []
   },
   "outputs": [
    {
     "name": "stdout",
     "output_type": "stream",
     "text": [
      "0 rows with zero or negative values excluded due to log scale.\n"
     ]
    },
    {
     "data": {
      "text/html": [
       "\n",
       "<style>\n",
       "  #altair-viz-161eb46f0c4748bd9c8743a1f808b690.vega-embed {\n",
       "    width: 100%;\n",
       "    display: flex;\n",
       "  }\n",
       "\n",
       "  #altair-viz-161eb46f0c4748bd9c8743a1f808b690.vega-embed details,\n",
       "  #altair-viz-161eb46f0c4748bd9c8743a1f808b690.vega-embed details summary {\n",
       "    position: relative;\n",
       "  }\n",
       "</style>\n",
       "<div id=\"altair-viz-161eb46f0c4748bd9c8743a1f808b690\"></div>\n",
       "<script type=\"text/javascript\">\n",
       "  var VEGA_DEBUG = (typeof VEGA_DEBUG == \"undefined\") ? {} : VEGA_DEBUG;\n",
       "  (function(spec, embedOpt){\n",
       "    let outputDiv = document.currentScript.previousElementSibling;\n",
       "    if (outputDiv.id !== \"altair-viz-161eb46f0c4748bd9c8743a1f808b690\") {\n",
       "      outputDiv = document.getElementById(\"altair-viz-161eb46f0c4748bd9c8743a1f808b690\");\n",
       "    }\n",
       "\n",
       "    const paths = {\n",
       "      \"vega\": \"https://cdn.jsdelivr.net/npm/vega@5?noext\",\n",
       "      \"vega-lib\": \"https://cdn.jsdelivr.net/npm/vega-lib?noext\",\n",
       "      \"vega-lite\": \"https://cdn.jsdelivr.net/npm/vega-lite@5.20.1?noext\",\n",
       "      \"vega-embed\": \"https://cdn.jsdelivr.net/npm/vega-embed@6?noext\",\n",
       "    };\n",
       "\n",
       "    function maybeLoadScript(lib, version) {\n",
       "      var key = `${lib.replace(\"-\", \"\")}_version`;\n",
       "      return (VEGA_DEBUG[key] == version) ?\n",
       "        Promise.resolve(paths[lib]) :\n",
       "        new Promise(function(resolve, reject) {\n",
       "          var s = document.createElement('script');\n",
       "          document.getElementsByTagName(\"head\")[0].appendChild(s);\n",
       "          s.async = true;\n",
       "          s.onload = () => {\n",
       "            VEGA_DEBUG[key] = version;\n",
       "            return resolve(paths[lib]);\n",
       "          };\n",
       "          s.onerror = () => reject(`Error loading script: ${paths[lib]}`);\n",
       "          s.src = paths[lib];\n",
       "        });\n",
       "    }\n",
       "\n",
       "    function showError(err) {\n",
       "      outputDiv.innerHTML = `<div class=\"error\" style=\"color:red;\">${err}</div>`;\n",
       "      throw err;\n",
       "    }\n",
       "\n",
       "    function displayChart(vegaEmbed) {\n",
       "      vegaEmbed(outputDiv, spec, embedOpt)\n",
       "        .catch(err => showError(`Javascript Error: ${err.message}<br>This usually means there's a typo in your chart specification. See the javascript console for the full traceback.`));\n",
       "    }\n",
       "\n",
       "    if(typeof define === \"function\" && define.amd) {\n",
       "      requirejs.config({paths});\n",
       "      let deps = [\"vega-embed\"];\n",
       "      require(deps, displayChart, err => showError(`Error loading script: ${err.message}`));\n",
       "    } else {\n",
       "      maybeLoadScript(\"vega\", \"5\")\n",
       "        .then(() => maybeLoadScript(\"vega-lite\", \"5.20.1\"))\n",
       "        .then(() => maybeLoadScript(\"vega-embed\", \"6\"))\n",
       "        .catch(showError)\n",
       "        .then(() => displayChart(vegaEmbed));\n",
       "    }\n",
       "  })({\"config\": {\"view\": {\"continuousWidth\": 300, \"continuousHeight\": 300}}, \"data\": {\"name\": \"data-da3bdcf3328d25ecd9ac3e7b34a2fa37\"}, \"facet\": {\"field\": \"mode\", \"title\": \"Operating Cost per VRH, by mode\", \"type\": \"nominal\"}, \"spec\": {\"layer\": [{\"mark\": {\"type\": \"point\"}, \"encoding\": {\"color\": {\"field\": \"reporter_type\", \"type\": \"nominal\"}, \"tooltip\": [{\"field\": \"vrh\", \"type\": \"quantitative\"}, {\"field\": \"opexp_total\", \"type\": \"quantitative\"}, {\"field\": \"agency_name\", \"type\": \"nominal\"}], \"x\": {\"field\": \"vrh\", \"scale\": {\"type\": \"log\"}, \"type\": \"quantitative\"}, \"y\": {\"field\": \"opexp_total\", \"type\": \"quantitative\"}}, \"name\": \"view_4\", \"title\": \"\"}, {\"mark\": {\"type\": \"line\"}, \"encoding\": {\"color\": {\"field\": \"reporter_type\", \"type\": \"nominal\"}, \"tooltip\": [{\"field\": \"vrh\", \"type\": \"quantitative\"}, {\"field\": \"opexp_total\", \"type\": \"quantitative\"}, {\"field\": \"agency_name\", \"type\": \"nominal\"}], \"x\": {\"field\": \"vrh\", \"scale\": {\"type\": \"log\"}, \"type\": \"quantitative\"}, \"y\": {\"field\": \"opexp_total\", \"type\": \"quantitative\"}}, \"title\": \"\", \"transform\": [{\"on\": \"vrh\", \"regression\": \"opexp_total\"}]}], \"height\": 150, \"width\": 350}, \"columns\": 2, \"params\": [{\"name\": \"param_4\", \"select\": {\"type\": \"interval\", \"encodings\": [\"x\", \"y\"]}, \"bind\": \"scales\", \"views\": [\"view_4\"]}], \"$schema\": \"https://vega.github.io/schema/vega-lite/v5.20.1.json\", \"datasets\": {\"data-da3bdcf3328d25ecd9ac3e7b34a2fa37\": [{\"agency_name\": \"City of Davis (DCT) - Transit/Parks and Community Services\", \"agency_status\": \"Active\", \"city\": \"Davis\", \"mode\": \"Demand Response\", \"service\": \"Directly Operated\", \"ntd_id\": \"90167\", \"reporter_type\": \"Reduced Reporter\", \"reporting_module\": \"Urban\", \"state\": \"CA\", \"primary_uza_name\": \"Davis, CA\", \"year\": \"2023\", \"upt\": 12956, \"vrh\": 4558, \"vrm\": 47130, \"opexp_total\": 910233, \"RTPA\": \"Sacramento Area Council of Governments\", \"_merge\": \"both\"}, {\"agency_name\": \"County of Sacramento Municipal Services Agency (SCT Link) - Department of Transportation\", \"agency_status\": \"Active\", \"city\": \"Sacramento\", \"mode\": \"Demand Response\", \"service\": \"Purchased Transportation\", \"ntd_id\": \"90216\", \"reporter_type\": \"Reduced Reporter\", \"reporting_module\": \"Urban\", \"state\": \"CA\", \"primary_uza_name\": \"Sacramento, CA\", \"year\": \"2023\", \"upt\": 23933, \"vrh\": 8420, \"vrm\": 93665, \"opexp_total\": 1761821, \"RTPA\": \"Sacramento Area Council of Governments\", \"_merge\": \"both\"}, {\"agency_name\": \"County of Sacramento Municipal Services Agency (SCT Link) - Department of Transportation\", \"agency_status\": \"Active\", \"city\": \"Sacramento\", \"mode\": \"Commuter Bus\", \"service\": \"Purchased Transportation\", \"ntd_id\": \"90216\", \"reporter_type\": \"Reduced Reporter\", \"reporting_module\": \"Urban\", \"state\": \"CA\", \"primary_uza_name\": \"Sacramento, CA\", \"year\": \"2023\", \"upt\": 21872, \"vrh\": 8941, \"vrm\": 258550, \"opexp_total\": 329434, \"RTPA\": \"Sacramento Area Council of Governments\", \"_merge\": \"both\"}, {\"agency_name\": \"County of Sacramento Municipal Services Agency (SCT Link) - Department of Transportation\", \"agency_status\": \"Active\", \"city\": \"Sacramento\", \"mode\": \"Bus\", \"service\": \"Purchased Transportation\", \"ntd_id\": \"90216\", \"reporter_type\": \"Reduced Reporter\", \"reporting_module\": \"Urban\", \"state\": \"CA\", \"primary_uza_name\": \"Sacramento, CA\", \"year\": \"2023\", \"upt\": 2184, \"vrh\": 2094, \"vrm\": 65959, \"opexp_total\": 501557, \"RTPA\": \"Sacramento Area Council of Governments\", \"_merge\": \"both\"}, {\"agency_name\": \"Paratransit, Inc.\", \"agency_status\": \"Active\", \"city\": \"Sacramento\", \"mode\": \"Demand Response\", \"service\": \"Directly Operated\", \"ntd_id\": \"90223\", \"reporter_type\": \"Full Reporter\", \"reporting_module\": \"Urban\", \"state\": \"CA\", \"primary_uza_name\": \"Sacramento, CA\", \"year\": \"2023\", \"upt\": 41481, \"vrh\": 25080, \"vrm\": 424440, \"opexp_total\": 2373789, \"RTPA\": \"Sacramento Area Council of Governments\", \"_merge\": \"both\"}, {\"agency_name\": \"Sacramento Regional Transit District\", \"agency_status\": \"Active\", \"city\": \"Sacramento\", \"mode\": \"Demand Response\", \"service\": \"Purchased Transportation - Transportation Network Company\", \"ntd_id\": \"90019\", \"reporter_type\": \"Full Reporter\", \"reporting_module\": \"Urban\", \"state\": \"CA\", \"primary_uza_name\": \"Sacramento, CA\", \"year\": \"2023\", \"upt\": 64291, \"vrh\": 24023, \"vrm\": 529423, \"opexp_total\": 2875752, \"RTPA\": \"Sacramento Area Council of Governments\", \"_merge\": \"both\"}, {\"agency_name\": \"Sacramento Regional Transit District\", \"agency_status\": \"Active\", \"city\": \"Sacramento\", \"mode\": \"Light Rail\", \"service\": \"Directly Operated\", \"ntd_id\": \"90019\", \"reporter_type\": \"Full Reporter\", \"reporting_module\": \"Urban\", \"state\": \"CA\", \"primary_uza_name\": \"Sacramento, CA\", \"year\": \"2023\", \"upt\": 6140920, \"vrh\": 199774, \"vrm\": 3588470, \"opexp_total\": 83048077, \"RTPA\": \"Sacramento Area Council of Governments\", \"_merge\": \"both\"}, {\"agency_name\": \"Sacramento Regional Transit District\", \"agency_status\": \"Active\", \"city\": \"Sacramento\", \"mode\": \"Demand Response\", \"service\": \"Directly Operated\", \"ntd_id\": \"90019\", \"reporter_type\": \"Full Reporter\", \"reporting_module\": \"Urban\", \"state\": \"CA\", \"primary_uza_name\": \"Sacramento, CA\", \"year\": \"2023\", \"upt\": 429347, \"vrh\": 176917, \"vrm\": 2695918, \"opexp_total\": 31106478, \"RTPA\": \"Sacramento Area Council of Governments\", \"_merge\": \"both\"}, {\"agency_name\": \"Sacramento Regional Transit District\", \"agency_status\": \"Active\", \"city\": \"Sacramento\", \"mode\": \"Bus\", \"service\": \"Directly Operated\", \"ntd_id\": \"90019\", \"reporter_type\": \"Full Reporter\", \"reporting_module\": \"Urban\", \"state\": \"CA\", \"primary_uza_name\": \"Sacramento, CA\", \"year\": \"2023\", \"upt\": 7715110, \"vrh\": 618702, \"vrm\": 7219695, \"opexp_total\": 121328770, \"RTPA\": \"Sacramento Area Council of Governments\", \"_merge\": \"both\"}, {\"agency_name\": \"University of California, Davis (ASUCD) - Associated Students of the University of California, Davis\", \"agency_status\": \"Active\", \"city\": \"Davis\", \"mode\": \"Bus\", \"service\": \"Directly Operated\", \"ntd_id\": \"90142\", \"reporter_type\": \"Full Reporter\", \"reporting_module\": \"Urban\", \"state\": \"CA\", \"primary_uza_name\": \"Davis, CA\", \"year\": \"2023\", \"upt\": 3028186, \"vrh\": 66932, \"vrm\": 697377, \"opexp_total\": 8411384, \"RTPA\": \"Sacramento Area Council of Governments\", \"_merge\": \"both\"}, {\"agency_name\": \"Yolo County Transportation District (YCTD)\", \"agency_status\": \"Active\", \"city\": \"Woodland\", \"mode\": \"Demand Response\", \"service\": \"Purchased Transportation\", \"ntd_id\": \"90090\", \"reporter_type\": \"Full Reporter\", \"reporting_module\": \"Urban\", \"state\": \"CA\", \"primary_uza_name\": \"Sacramento, CA\", \"year\": \"2023\", \"upt\": 33216, \"vrh\": 22370, \"vrm\": 407483, \"opexp_total\": 2937160, \"RTPA\": \"Sacramento Area Council of Governments\", \"_merge\": \"both\"}, {\"agency_name\": \"Yolo County Transportation District (YCTD)\", \"agency_status\": \"Active\", \"city\": \"Woodland\", \"mode\": \"Bus\", \"service\": \"Purchased Transportation\", \"ntd_id\": \"90090\", \"reporter_type\": \"Full Reporter\", \"reporting_module\": \"Urban\", \"state\": \"CA\", \"primary_uza_name\": \"Sacramento, CA\", \"year\": \"2023\", \"upt\": 644178, \"vrh\": 71370, \"vrm\": 1576566, \"opexp_total\": 11917092, \"RTPA\": \"Sacramento Area Council of Governments\", \"_merge\": \"both\"}, {\"agency_name\": \"Yuba-Sutter Transit Authority (YSTA)\", \"agency_status\": \"Active\", \"city\": \"Marysville\", \"mode\": \"Bus\", \"service\": \"Purchased Transportation\", \"ntd_id\": \"90061\", \"reporter_type\": \"Reduced Reporter\", \"reporting_module\": \"Urban\", \"state\": \"CA\", \"primary_uza_name\": \"Yuba City, CA\", \"year\": \"2023\", \"upt\": 442664, \"vrh\": 41852, \"vrm\": 497053, \"opexp_total\": 4741997, \"RTPA\": \"Sacramento Area Council of Governments\", \"_merge\": \"both\"}, {\"agency_name\": \"Yuba-Sutter Transit Authority (YSTA)\", \"agency_status\": \"Active\", \"city\": \"Marysville\", \"mode\": \"Demand Response\", \"service\": \"Purchased Transportation\", \"ntd_id\": \"90061\", \"reporter_type\": \"Reduced Reporter\", \"reporting_module\": \"Urban\", \"state\": \"CA\", \"primary_uza_name\": \"Yuba City, CA\", \"year\": \"2023\", \"upt\": 35256, \"vrh\": 17502, \"vrm\": 211943, \"opexp_total\": 2125604, \"RTPA\": \"Sacramento Area Council of Governments\", \"_merge\": \"both\"}, {\"agency_name\": \"Yuba-Sutter Transit Authority (YSTA)\", \"agency_status\": \"Active\", \"city\": \"Marysville\", \"mode\": \"Commuter Bus\", \"service\": \"Purchased Transportation\", \"ntd_id\": \"90061\", \"reporter_type\": \"Reduced Reporter\", \"reporting_module\": \"Urban\", \"state\": \"CA\", \"primary_uza_name\": \"Yuba City, CA\", \"year\": \"2023\", \"upt\": 38456, \"vrh\": 6960, \"vrm\": 266963, \"opexp_total\": 1329474, \"RTPA\": \"Sacramento Area Council of Governments\", \"_merge\": \"both\"}]}}, {\"mode\": \"vega-lite\"});\n",
       "</script>"
      ],
      "text/plain": [
       "alt.FacetChart(...)"
      ]
     },
     "execution_count": 11,
     "metadata": {},
     "output_type": "execute_result"
    }
   ],
   "source": [
    "make_scatter(\n",
    "    data=df[df[\"year\"] == \"2023\"],\n",
    "    y_ax=\"opexp_total\",\n",
    "    x_ax=\"vrh\",\n",
    "    color=\"reporter_type\",\n",
    "    log_scale=True,\n",
    "    lin_y_ax=True,\n",
    "    chart_title=\"\"\n",
    ").facet(\n",
    "    facet=alt.Facet(\"mode\", \n",
    "                    title=\"Operating Cost per VRH, by mode\"\n",
    "                   ),\n",
    "    columns=2,\n",
    ")"
   ]
  },
  {
   "cell_type": "code",
   "execution_count": 12,
   "id": "9fe62f9e-bf29-44ef-95d8-91eb1891d9d5",
   "metadata": {
    "tags": []
   },
   "outputs": [
    {
     "name": "stdout",
     "output_type": "stream",
     "text": [
      "0 rows with zero or negative values excluded due to log scale.\n"
     ]
    },
    {
     "data": {
      "text/html": [
       "\n",
       "<style>\n",
       "  #altair-viz-5f8a5972c79b47c19990be725afd9167.vega-embed {\n",
       "    width: 100%;\n",
       "    display: flex;\n",
       "  }\n",
       "\n",
       "  #altair-viz-5f8a5972c79b47c19990be725afd9167.vega-embed details,\n",
       "  #altair-viz-5f8a5972c79b47c19990be725afd9167.vega-embed details summary {\n",
       "    position: relative;\n",
       "  }\n",
       "</style>\n",
       "<div id=\"altair-viz-5f8a5972c79b47c19990be725afd9167\"></div>\n",
       "<script type=\"text/javascript\">\n",
       "  var VEGA_DEBUG = (typeof VEGA_DEBUG == \"undefined\") ? {} : VEGA_DEBUG;\n",
       "  (function(spec, embedOpt){\n",
       "    let outputDiv = document.currentScript.previousElementSibling;\n",
       "    if (outputDiv.id !== \"altair-viz-5f8a5972c79b47c19990be725afd9167\") {\n",
       "      outputDiv = document.getElementById(\"altair-viz-5f8a5972c79b47c19990be725afd9167\");\n",
       "    }\n",
       "\n",
       "    const paths = {\n",
       "      \"vega\": \"https://cdn.jsdelivr.net/npm/vega@5?noext\",\n",
       "      \"vega-lib\": \"https://cdn.jsdelivr.net/npm/vega-lib?noext\",\n",
       "      \"vega-lite\": \"https://cdn.jsdelivr.net/npm/vega-lite@5.20.1?noext\",\n",
       "      \"vega-embed\": \"https://cdn.jsdelivr.net/npm/vega-embed@6?noext\",\n",
       "    };\n",
       "\n",
       "    function maybeLoadScript(lib, version) {\n",
       "      var key = `${lib.replace(\"-\", \"\")}_version`;\n",
       "      return (VEGA_DEBUG[key] == version) ?\n",
       "        Promise.resolve(paths[lib]) :\n",
       "        new Promise(function(resolve, reject) {\n",
       "          var s = document.createElement('script');\n",
       "          document.getElementsByTagName(\"head\")[0].appendChild(s);\n",
       "          s.async = true;\n",
       "          s.onload = () => {\n",
       "            VEGA_DEBUG[key] = version;\n",
       "            return resolve(paths[lib]);\n",
       "          };\n",
       "          s.onerror = () => reject(`Error loading script: ${paths[lib]}`);\n",
       "          s.src = paths[lib];\n",
       "        });\n",
       "    }\n",
       "\n",
       "    function showError(err) {\n",
       "      outputDiv.innerHTML = `<div class=\"error\" style=\"color:red;\">${err}</div>`;\n",
       "      throw err;\n",
       "    }\n",
       "\n",
       "    function displayChart(vegaEmbed) {\n",
       "      vegaEmbed(outputDiv, spec, embedOpt)\n",
       "        .catch(err => showError(`Javascript Error: ${err.message}<br>This usually means there's a typo in your chart specification. See the javascript console for the full traceback.`));\n",
       "    }\n",
       "\n",
       "    if(typeof define === \"function\" && define.amd) {\n",
       "      requirejs.config({paths});\n",
       "      let deps = [\"vega-embed\"];\n",
       "      require(deps, displayChart, err => showError(`Error loading script: ${err.message}`));\n",
       "    } else {\n",
       "      maybeLoadScript(\"vega\", \"5\")\n",
       "        .then(() => maybeLoadScript(\"vega-lite\", \"5.20.1\"))\n",
       "        .then(() => maybeLoadScript(\"vega-embed\", \"6\"))\n",
       "        .catch(showError)\n",
       "        .then(() => displayChart(vegaEmbed));\n",
       "    }\n",
       "  })({\"config\": {\"view\": {\"continuousWidth\": 300, \"continuousHeight\": 300}}, \"data\": {\"name\": \"data-da3bdcf3328d25ecd9ac3e7b34a2fa37\"}, \"facet\": {\"field\": \"service\", \"title\": \"Operating Cost per VRH, by Type of Service\", \"type\": \"nominal\"}, \"spec\": {\"layer\": [{\"mark\": {\"type\": \"point\"}, \"encoding\": {\"color\": {\"field\": \"reporter_type\", \"type\": \"nominal\"}, \"tooltip\": [{\"field\": \"vrh\", \"type\": \"quantitative\"}, {\"field\": \"opexp_total\", \"type\": \"quantitative\"}, {\"field\": \"agency_name\", \"type\": \"nominal\"}], \"x\": {\"field\": \"vrh\", \"scale\": {\"type\": \"log\"}, \"type\": \"quantitative\"}, \"y\": {\"field\": \"opexp_total\", \"type\": \"quantitative\"}}, \"name\": \"view_5\", \"title\": \"\"}, {\"mark\": {\"type\": \"line\"}, \"encoding\": {\"color\": {\"field\": \"reporter_type\", \"type\": \"nominal\"}, \"tooltip\": [{\"field\": \"vrh\", \"type\": \"quantitative\"}, {\"field\": \"opexp_total\", \"type\": \"quantitative\"}, {\"field\": \"agency_name\", \"type\": \"nominal\"}], \"x\": {\"field\": \"vrh\", \"scale\": {\"type\": \"log\"}, \"type\": \"quantitative\"}, \"y\": {\"field\": \"opexp_total\", \"type\": \"quantitative\"}}, \"title\": \"\", \"transform\": [{\"on\": \"vrh\", \"regression\": \"opexp_total\"}]}], \"height\": 150, \"width\": 350}, \"columns\": 2, \"params\": [{\"name\": \"param_5\", \"select\": {\"type\": \"interval\", \"encodings\": [\"x\", \"y\"]}, \"bind\": \"scales\", \"views\": [\"view_5\"]}], \"$schema\": \"https://vega.github.io/schema/vega-lite/v5.20.1.json\", \"datasets\": {\"data-da3bdcf3328d25ecd9ac3e7b34a2fa37\": [{\"agency_name\": \"City of Davis (DCT) - Transit/Parks and Community Services\", \"agency_status\": \"Active\", \"city\": \"Davis\", \"mode\": \"Demand Response\", \"service\": \"Directly Operated\", \"ntd_id\": \"90167\", \"reporter_type\": \"Reduced Reporter\", \"reporting_module\": \"Urban\", \"state\": \"CA\", \"primary_uza_name\": \"Davis, CA\", \"year\": \"2023\", \"upt\": 12956, \"vrh\": 4558, \"vrm\": 47130, \"opexp_total\": 910233, \"RTPA\": \"Sacramento Area Council of Governments\", \"_merge\": \"both\"}, {\"agency_name\": \"County of Sacramento Municipal Services Agency (SCT Link) - Department of Transportation\", \"agency_status\": \"Active\", \"city\": \"Sacramento\", \"mode\": \"Demand Response\", \"service\": \"Purchased Transportation\", \"ntd_id\": \"90216\", \"reporter_type\": \"Reduced Reporter\", \"reporting_module\": \"Urban\", \"state\": \"CA\", \"primary_uza_name\": \"Sacramento, CA\", \"year\": \"2023\", \"upt\": 23933, \"vrh\": 8420, \"vrm\": 93665, \"opexp_total\": 1761821, \"RTPA\": \"Sacramento Area Council of Governments\", \"_merge\": \"both\"}, {\"agency_name\": \"County of Sacramento Municipal Services Agency (SCT Link) - Department of Transportation\", \"agency_status\": \"Active\", \"city\": \"Sacramento\", \"mode\": \"Commuter Bus\", \"service\": \"Purchased Transportation\", \"ntd_id\": \"90216\", \"reporter_type\": \"Reduced Reporter\", \"reporting_module\": \"Urban\", \"state\": \"CA\", \"primary_uza_name\": \"Sacramento, CA\", \"year\": \"2023\", \"upt\": 21872, \"vrh\": 8941, \"vrm\": 258550, \"opexp_total\": 329434, \"RTPA\": \"Sacramento Area Council of Governments\", \"_merge\": \"both\"}, {\"agency_name\": \"County of Sacramento Municipal Services Agency (SCT Link) - Department of Transportation\", \"agency_status\": \"Active\", \"city\": \"Sacramento\", \"mode\": \"Bus\", \"service\": \"Purchased Transportation\", \"ntd_id\": \"90216\", \"reporter_type\": \"Reduced Reporter\", \"reporting_module\": \"Urban\", \"state\": \"CA\", \"primary_uza_name\": \"Sacramento, CA\", \"year\": \"2023\", \"upt\": 2184, \"vrh\": 2094, \"vrm\": 65959, \"opexp_total\": 501557, \"RTPA\": \"Sacramento Area Council of Governments\", \"_merge\": \"both\"}, {\"agency_name\": \"Paratransit, Inc.\", \"agency_status\": \"Active\", \"city\": \"Sacramento\", \"mode\": \"Demand Response\", \"service\": \"Directly Operated\", \"ntd_id\": \"90223\", \"reporter_type\": \"Full Reporter\", \"reporting_module\": \"Urban\", \"state\": \"CA\", \"primary_uza_name\": \"Sacramento, CA\", \"year\": \"2023\", \"upt\": 41481, \"vrh\": 25080, \"vrm\": 424440, \"opexp_total\": 2373789, \"RTPA\": \"Sacramento Area Council of Governments\", \"_merge\": \"both\"}, {\"agency_name\": \"Sacramento Regional Transit District\", \"agency_status\": \"Active\", \"city\": \"Sacramento\", \"mode\": \"Demand Response\", \"service\": \"Purchased Transportation - Transportation Network Company\", \"ntd_id\": \"90019\", \"reporter_type\": \"Full Reporter\", \"reporting_module\": \"Urban\", \"state\": \"CA\", \"primary_uza_name\": \"Sacramento, CA\", \"year\": \"2023\", \"upt\": 64291, \"vrh\": 24023, \"vrm\": 529423, \"opexp_total\": 2875752, \"RTPA\": \"Sacramento Area Council of Governments\", \"_merge\": \"both\"}, {\"agency_name\": \"Sacramento Regional Transit District\", \"agency_status\": \"Active\", \"city\": \"Sacramento\", \"mode\": \"Light Rail\", \"service\": \"Directly Operated\", \"ntd_id\": \"90019\", \"reporter_type\": \"Full Reporter\", \"reporting_module\": \"Urban\", \"state\": \"CA\", \"primary_uza_name\": \"Sacramento, CA\", \"year\": \"2023\", \"upt\": 6140920, \"vrh\": 199774, \"vrm\": 3588470, \"opexp_total\": 83048077, \"RTPA\": \"Sacramento Area Council of Governments\", \"_merge\": \"both\"}, {\"agency_name\": \"Sacramento Regional Transit District\", \"agency_status\": \"Active\", \"city\": \"Sacramento\", \"mode\": \"Demand Response\", \"service\": \"Directly Operated\", \"ntd_id\": \"90019\", \"reporter_type\": \"Full Reporter\", \"reporting_module\": \"Urban\", \"state\": \"CA\", \"primary_uza_name\": \"Sacramento, CA\", \"year\": \"2023\", \"upt\": 429347, \"vrh\": 176917, \"vrm\": 2695918, \"opexp_total\": 31106478, \"RTPA\": \"Sacramento Area Council of Governments\", \"_merge\": \"both\"}, {\"agency_name\": \"Sacramento Regional Transit District\", \"agency_status\": \"Active\", \"city\": \"Sacramento\", \"mode\": \"Bus\", \"service\": \"Directly Operated\", \"ntd_id\": \"90019\", \"reporter_type\": \"Full Reporter\", \"reporting_module\": \"Urban\", \"state\": \"CA\", \"primary_uza_name\": \"Sacramento, CA\", \"year\": \"2023\", \"upt\": 7715110, \"vrh\": 618702, \"vrm\": 7219695, \"opexp_total\": 121328770, \"RTPA\": \"Sacramento Area Council of Governments\", \"_merge\": \"both\"}, {\"agency_name\": \"University of California, Davis (ASUCD) - Associated Students of the University of California, Davis\", \"agency_status\": \"Active\", \"city\": \"Davis\", \"mode\": \"Bus\", \"service\": \"Directly Operated\", \"ntd_id\": \"90142\", \"reporter_type\": \"Full Reporter\", \"reporting_module\": \"Urban\", \"state\": \"CA\", \"primary_uza_name\": \"Davis, CA\", \"year\": \"2023\", \"upt\": 3028186, \"vrh\": 66932, \"vrm\": 697377, \"opexp_total\": 8411384, \"RTPA\": \"Sacramento Area Council of Governments\", \"_merge\": \"both\"}, {\"agency_name\": \"Yolo County Transportation District (YCTD)\", \"agency_status\": \"Active\", \"city\": \"Woodland\", \"mode\": \"Demand Response\", \"service\": \"Purchased Transportation\", \"ntd_id\": \"90090\", \"reporter_type\": \"Full Reporter\", \"reporting_module\": \"Urban\", \"state\": \"CA\", \"primary_uza_name\": \"Sacramento, CA\", \"year\": \"2023\", \"upt\": 33216, \"vrh\": 22370, \"vrm\": 407483, \"opexp_total\": 2937160, \"RTPA\": \"Sacramento Area Council of Governments\", \"_merge\": \"both\"}, {\"agency_name\": \"Yolo County Transportation District (YCTD)\", \"agency_status\": \"Active\", \"city\": \"Woodland\", \"mode\": \"Bus\", \"service\": \"Purchased Transportation\", \"ntd_id\": \"90090\", \"reporter_type\": \"Full Reporter\", \"reporting_module\": \"Urban\", \"state\": \"CA\", \"primary_uza_name\": \"Sacramento, CA\", \"year\": \"2023\", \"upt\": 644178, \"vrh\": 71370, \"vrm\": 1576566, \"opexp_total\": 11917092, \"RTPA\": \"Sacramento Area Council of Governments\", \"_merge\": \"both\"}, {\"agency_name\": \"Yuba-Sutter Transit Authority (YSTA)\", \"agency_status\": \"Active\", \"city\": \"Marysville\", \"mode\": \"Bus\", \"service\": \"Purchased Transportation\", \"ntd_id\": \"90061\", \"reporter_type\": \"Reduced Reporter\", \"reporting_module\": \"Urban\", \"state\": \"CA\", \"primary_uza_name\": \"Yuba City, CA\", \"year\": \"2023\", \"upt\": 442664, \"vrh\": 41852, \"vrm\": 497053, \"opexp_total\": 4741997, \"RTPA\": \"Sacramento Area Council of Governments\", \"_merge\": \"both\"}, {\"agency_name\": \"Yuba-Sutter Transit Authority (YSTA)\", \"agency_status\": \"Active\", \"city\": \"Marysville\", \"mode\": \"Demand Response\", \"service\": \"Purchased Transportation\", \"ntd_id\": \"90061\", \"reporter_type\": \"Reduced Reporter\", \"reporting_module\": \"Urban\", \"state\": \"CA\", \"primary_uza_name\": \"Yuba City, CA\", \"year\": \"2023\", \"upt\": 35256, \"vrh\": 17502, \"vrm\": 211943, \"opexp_total\": 2125604, \"RTPA\": \"Sacramento Area Council of Governments\", \"_merge\": \"both\"}, {\"agency_name\": \"Yuba-Sutter Transit Authority (YSTA)\", \"agency_status\": \"Active\", \"city\": \"Marysville\", \"mode\": \"Commuter Bus\", \"service\": \"Purchased Transportation\", \"ntd_id\": \"90061\", \"reporter_type\": \"Reduced Reporter\", \"reporting_module\": \"Urban\", \"state\": \"CA\", \"primary_uza_name\": \"Yuba City, CA\", \"year\": \"2023\", \"upt\": 38456, \"vrh\": 6960, \"vrm\": 266963, \"opexp_total\": 1329474, \"RTPA\": \"Sacramento Area Council of Governments\", \"_merge\": \"both\"}]}}, {\"mode\": \"vega-lite\"});\n",
       "</script>"
      ],
      "text/plain": [
       "alt.FacetChart(...)"
      ]
     },
     "execution_count": 12,
     "metadata": {},
     "output_type": "execute_result"
    }
   ],
   "source": [
    "make_scatter(\n",
    "    data=df[df[\"year\"] == \"2023\"],\n",
    "    y_ax=\"opexp_total\",\n",
    "    x_ax=\"vrh\",\n",
    "    color=\"reporter_type\",\n",
    "    log_scale=True,\n",
    "    lin_y_ax=True,\n",
    "    chart_title=\"\"\n",
    ").facet(\n",
    "    facet=alt.Facet(\"service\", \n",
    "                    title=\"Operating Cost per VRH, by Type of Service\"\n",
    "                   ),\n",
    "    columns=2,\n",
    ")"
   ]
  },
  {
   "cell_type": "markdown",
   "id": "a4541fe6-d7cb-428c-9ebe-1191cc0c730c",
   "metadata": {
    "tags": []
   },
   "source": [
    "### Operating cost per VRM\n",
    "Lower is better"
   ]
  },
  {
   "cell_type": "code",
   "execution_count": 13,
   "id": "64616fae-69b3-457f-b13c-18422d835297",
   "metadata": {
    "tags": []
   },
   "outputs": [
    {
     "name": "stdout",
     "output_type": "stream",
     "text": [
      "0 rows with zero or negative values excluded due to log scale.\n"
     ]
    },
    {
     "data": {
      "text/html": [
       "\n",
       "<style>\n",
       "  #altair-viz-b377005f0ab044708c3556066f60dc8a.vega-embed {\n",
       "    width: 100%;\n",
       "    display: flex;\n",
       "  }\n",
       "\n",
       "  #altair-viz-b377005f0ab044708c3556066f60dc8a.vega-embed details,\n",
       "  #altair-viz-b377005f0ab044708c3556066f60dc8a.vega-embed details summary {\n",
       "    position: relative;\n",
       "  }\n",
       "</style>\n",
       "<div id=\"altair-viz-b377005f0ab044708c3556066f60dc8a\"></div>\n",
       "<script type=\"text/javascript\">\n",
       "  var VEGA_DEBUG = (typeof VEGA_DEBUG == \"undefined\") ? {} : VEGA_DEBUG;\n",
       "  (function(spec, embedOpt){\n",
       "    let outputDiv = document.currentScript.previousElementSibling;\n",
       "    if (outputDiv.id !== \"altair-viz-b377005f0ab044708c3556066f60dc8a\") {\n",
       "      outputDiv = document.getElementById(\"altair-viz-b377005f0ab044708c3556066f60dc8a\");\n",
       "    }\n",
       "\n",
       "    const paths = {\n",
       "      \"vega\": \"https://cdn.jsdelivr.net/npm/vega@5?noext\",\n",
       "      \"vega-lib\": \"https://cdn.jsdelivr.net/npm/vega-lib?noext\",\n",
       "      \"vega-lite\": \"https://cdn.jsdelivr.net/npm/vega-lite@5.20.1?noext\",\n",
       "      \"vega-embed\": \"https://cdn.jsdelivr.net/npm/vega-embed@6?noext\",\n",
       "    };\n",
       "\n",
       "    function maybeLoadScript(lib, version) {\n",
       "      var key = `${lib.replace(\"-\", \"\")}_version`;\n",
       "      return (VEGA_DEBUG[key] == version) ?\n",
       "        Promise.resolve(paths[lib]) :\n",
       "        new Promise(function(resolve, reject) {\n",
       "          var s = document.createElement('script');\n",
       "          document.getElementsByTagName(\"head\")[0].appendChild(s);\n",
       "          s.async = true;\n",
       "          s.onload = () => {\n",
       "            VEGA_DEBUG[key] = version;\n",
       "            return resolve(paths[lib]);\n",
       "          };\n",
       "          s.onerror = () => reject(`Error loading script: ${paths[lib]}`);\n",
       "          s.src = paths[lib];\n",
       "        });\n",
       "    }\n",
       "\n",
       "    function showError(err) {\n",
       "      outputDiv.innerHTML = `<div class=\"error\" style=\"color:red;\">${err}</div>`;\n",
       "      throw err;\n",
       "    }\n",
       "\n",
       "    function displayChart(vegaEmbed) {\n",
       "      vegaEmbed(outputDiv, spec, embedOpt)\n",
       "        .catch(err => showError(`Javascript Error: ${err.message}<br>This usually means there's a typo in your chart specification. See the javascript console for the full traceback.`));\n",
       "    }\n",
       "\n",
       "    if(typeof define === \"function\" && define.amd) {\n",
       "      requirejs.config({paths});\n",
       "      let deps = [\"vega-embed\"];\n",
       "      require(deps, displayChart, err => showError(`Error loading script: ${err.message}`));\n",
       "    } else {\n",
       "      maybeLoadScript(\"vega\", \"5\")\n",
       "        .then(() => maybeLoadScript(\"vega-lite\", \"5.20.1\"))\n",
       "        .then(() => maybeLoadScript(\"vega-embed\", \"6\"))\n",
       "        .catch(showError)\n",
       "        .then(() => displayChart(vegaEmbed));\n",
       "    }\n",
       "  })({\"config\": {\"view\": {\"continuousWidth\": 300, \"continuousHeight\": 300}}, \"data\": {\"name\": \"data-da3bdcf3328d25ecd9ac3e7b34a2fa37\"}, \"facet\": {\"field\": \"mode\", \"title\": \"Operating Cost per VRH, by mode\", \"type\": \"nominal\"}, \"spec\": {\"layer\": [{\"mark\": {\"type\": \"point\"}, \"encoding\": {\"color\": {\"field\": \"reporter_type\", \"type\": \"nominal\"}, \"tooltip\": [{\"field\": \"vrm\", \"type\": \"quantitative\"}, {\"field\": \"opexp_total\", \"type\": \"quantitative\"}, {\"field\": \"agency_name\", \"type\": \"nominal\"}], \"x\": {\"field\": \"vrm\", \"scale\": {\"type\": \"log\"}, \"type\": \"quantitative\"}, \"y\": {\"field\": \"opexp_total\", \"type\": \"quantitative\"}}, \"name\": \"view_6\", \"title\": \"\"}, {\"mark\": {\"type\": \"line\"}, \"encoding\": {\"color\": {\"field\": \"reporter_type\", \"type\": \"nominal\"}, \"tooltip\": [{\"field\": \"vrm\", \"type\": \"quantitative\"}, {\"field\": \"opexp_total\", \"type\": \"quantitative\"}, {\"field\": \"agency_name\", \"type\": \"nominal\"}], \"x\": {\"field\": \"vrm\", \"scale\": {\"type\": \"log\"}, \"type\": \"quantitative\"}, \"y\": {\"field\": \"opexp_total\", \"type\": \"quantitative\"}}, \"title\": \"\", \"transform\": [{\"on\": \"vrm\", \"regression\": \"opexp_total\"}]}], \"height\": 150, \"width\": 350}, \"columns\": 2, \"params\": [{\"name\": \"param_6\", \"select\": {\"type\": \"interval\", \"encodings\": [\"x\", \"y\"]}, \"bind\": \"scales\", \"views\": [\"view_6\"]}], \"$schema\": \"https://vega.github.io/schema/vega-lite/v5.20.1.json\", \"datasets\": {\"data-da3bdcf3328d25ecd9ac3e7b34a2fa37\": [{\"agency_name\": \"City of Davis (DCT) - Transit/Parks and Community Services\", \"agency_status\": \"Active\", \"city\": \"Davis\", \"mode\": \"Demand Response\", \"service\": \"Directly Operated\", \"ntd_id\": \"90167\", \"reporter_type\": \"Reduced Reporter\", \"reporting_module\": \"Urban\", \"state\": \"CA\", \"primary_uza_name\": \"Davis, CA\", \"year\": \"2023\", \"upt\": 12956, \"vrh\": 4558, \"vrm\": 47130, \"opexp_total\": 910233, \"RTPA\": \"Sacramento Area Council of Governments\", \"_merge\": \"both\"}, {\"agency_name\": \"County of Sacramento Municipal Services Agency (SCT Link) - Department of Transportation\", \"agency_status\": \"Active\", \"city\": \"Sacramento\", \"mode\": \"Demand Response\", \"service\": \"Purchased Transportation\", \"ntd_id\": \"90216\", \"reporter_type\": \"Reduced Reporter\", \"reporting_module\": \"Urban\", \"state\": \"CA\", \"primary_uza_name\": \"Sacramento, CA\", \"year\": \"2023\", \"upt\": 23933, \"vrh\": 8420, \"vrm\": 93665, \"opexp_total\": 1761821, \"RTPA\": \"Sacramento Area Council of Governments\", \"_merge\": \"both\"}, {\"agency_name\": \"County of Sacramento Municipal Services Agency (SCT Link) - Department of Transportation\", \"agency_status\": \"Active\", \"city\": \"Sacramento\", \"mode\": \"Commuter Bus\", \"service\": \"Purchased Transportation\", \"ntd_id\": \"90216\", \"reporter_type\": \"Reduced Reporter\", \"reporting_module\": \"Urban\", \"state\": \"CA\", \"primary_uza_name\": \"Sacramento, CA\", \"year\": \"2023\", \"upt\": 21872, \"vrh\": 8941, \"vrm\": 258550, \"opexp_total\": 329434, \"RTPA\": \"Sacramento Area Council of Governments\", \"_merge\": \"both\"}, {\"agency_name\": \"County of Sacramento Municipal Services Agency (SCT Link) - Department of Transportation\", \"agency_status\": \"Active\", \"city\": \"Sacramento\", \"mode\": \"Bus\", \"service\": \"Purchased Transportation\", \"ntd_id\": \"90216\", \"reporter_type\": \"Reduced Reporter\", \"reporting_module\": \"Urban\", \"state\": \"CA\", \"primary_uza_name\": \"Sacramento, CA\", \"year\": \"2023\", \"upt\": 2184, \"vrh\": 2094, \"vrm\": 65959, \"opexp_total\": 501557, \"RTPA\": \"Sacramento Area Council of Governments\", \"_merge\": \"both\"}, {\"agency_name\": \"Paratransit, Inc.\", \"agency_status\": \"Active\", \"city\": \"Sacramento\", \"mode\": \"Demand Response\", \"service\": \"Directly Operated\", \"ntd_id\": \"90223\", \"reporter_type\": \"Full Reporter\", \"reporting_module\": \"Urban\", \"state\": \"CA\", \"primary_uza_name\": \"Sacramento, CA\", \"year\": \"2023\", \"upt\": 41481, \"vrh\": 25080, \"vrm\": 424440, \"opexp_total\": 2373789, \"RTPA\": \"Sacramento Area Council of Governments\", \"_merge\": \"both\"}, {\"agency_name\": \"Sacramento Regional Transit District\", \"agency_status\": \"Active\", \"city\": \"Sacramento\", \"mode\": \"Demand Response\", \"service\": \"Purchased Transportation - Transportation Network Company\", \"ntd_id\": \"90019\", \"reporter_type\": \"Full Reporter\", \"reporting_module\": \"Urban\", \"state\": \"CA\", \"primary_uza_name\": \"Sacramento, CA\", \"year\": \"2023\", \"upt\": 64291, \"vrh\": 24023, \"vrm\": 529423, \"opexp_total\": 2875752, \"RTPA\": \"Sacramento Area Council of Governments\", \"_merge\": \"both\"}, {\"agency_name\": \"Sacramento Regional Transit District\", \"agency_status\": \"Active\", \"city\": \"Sacramento\", \"mode\": \"Light Rail\", \"service\": \"Directly Operated\", \"ntd_id\": \"90019\", \"reporter_type\": \"Full Reporter\", \"reporting_module\": \"Urban\", \"state\": \"CA\", \"primary_uza_name\": \"Sacramento, CA\", \"year\": \"2023\", \"upt\": 6140920, \"vrh\": 199774, \"vrm\": 3588470, \"opexp_total\": 83048077, \"RTPA\": \"Sacramento Area Council of Governments\", \"_merge\": \"both\"}, {\"agency_name\": \"Sacramento Regional Transit District\", \"agency_status\": \"Active\", \"city\": \"Sacramento\", \"mode\": \"Demand Response\", \"service\": \"Directly Operated\", \"ntd_id\": \"90019\", \"reporter_type\": \"Full Reporter\", \"reporting_module\": \"Urban\", \"state\": \"CA\", \"primary_uza_name\": \"Sacramento, CA\", \"year\": \"2023\", \"upt\": 429347, \"vrh\": 176917, \"vrm\": 2695918, \"opexp_total\": 31106478, \"RTPA\": \"Sacramento Area Council of Governments\", \"_merge\": \"both\"}, {\"agency_name\": \"Sacramento Regional Transit District\", \"agency_status\": \"Active\", \"city\": \"Sacramento\", \"mode\": \"Bus\", \"service\": \"Directly Operated\", \"ntd_id\": \"90019\", \"reporter_type\": \"Full Reporter\", \"reporting_module\": \"Urban\", \"state\": \"CA\", \"primary_uza_name\": \"Sacramento, CA\", \"year\": \"2023\", \"upt\": 7715110, \"vrh\": 618702, \"vrm\": 7219695, \"opexp_total\": 121328770, \"RTPA\": \"Sacramento Area Council of Governments\", \"_merge\": \"both\"}, {\"agency_name\": \"University of California, Davis (ASUCD) - Associated Students of the University of California, Davis\", \"agency_status\": \"Active\", \"city\": \"Davis\", \"mode\": \"Bus\", \"service\": \"Directly Operated\", \"ntd_id\": \"90142\", \"reporter_type\": \"Full Reporter\", \"reporting_module\": \"Urban\", \"state\": \"CA\", \"primary_uza_name\": \"Davis, CA\", \"year\": \"2023\", \"upt\": 3028186, \"vrh\": 66932, \"vrm\": 697377, \"opexp_total\": 8411384, \"RTPA\": \"Sacramento Area Council of Governments\", \"_merge\": \"both\"}, {\"agency_name\": \"Yolo County Transportation District (YCTD)\", \"agency_status\": \"Active\", \"city\": \"Woodland\", \"mode\": \"Demand Response\", \"service\": \"Purchased Transportation\", \"ntd_id\": \"90090\", \"reporter_type\": \"Full Reporter\", \"reporting_module\": \"Urban\", \"state\": \"CA\", \"primary_uza_name\": \"Sacramento, CA\", \"year\": \"2023\", \"upt\": 33216, \"vrh\": 22370, \"vrm\": 407483, \"opexp_total\": 2937160, \"RTPA\": \"Sacramento Area Council of Governments\", \"_merge\": \"both\"}, {\"agency_name\": \"Yolo County Transportation District (YCTD)\", \"agency_status\": \"Active\", \"city\": \"Woodland\", \"mode\": \"Bus\", \"service\": \"Purchased Transportation\", \"ntd_id\": \"90090\", \"reporter_type\": \"Full Reporter\", \"reporting_module\": \"Urban\", \"state\": \"CA\", \"primary_uza_name\": \"Sacramento, CA\", \"year\": \"2023\", \"upt\": 644178, \"vrh\": 71370, \"vrm\": 1576566, \"opexp_total\": 11917092, \"RTPA\": \"Sacramento Area Council of Governments\", \"_merge\": \"both\"}, {\"agency_name\": \"Yuba-Sutter Transit Authority (YSTA)\", \"agency_status\": \"Active\", \"city\": \"Marysville\", \"mode\": \"Bus\", \"service\": \"Purchased Transportation\", \"ntd_id\": \"90061\", \"reporter_type\": \"Reduced Reporter\", \"reporting_module\": \"Urban\", \"state\": \"CA\", \"primary_uza_name\": \"Yuba City, CA\", \"year\": \"2023\", \"upt\": 442664, \"vrh\": 41852, \"vrm\": 497053, \"opexp_total\": 4741997, \"RTPA\": \"Sacramento Area Council of Governments\", \"_merge\": \"both\"}, {\"agency_name\": \"Yuba-Sutter Transit Authority (YSTA)\", \"agency_status\": \"Active\", \"city\": \"Marysville\", \"mode\": \"Demand Response\", \"service\": \"Purchased Transportation\", \"ntd_id\": \"90061\", \"reporter_type\": \"Reduced Reporter\", \"reporting_module\": \"Urban\", \"state\": \"CA\", \"primary_uza_name\": \"Yuba City, CA\", \"year\": \"2023\", \"upt\": 35256, \"vrh\": 17502, \"vrm\": 211943, \"opexp_total\": 2125604, \"RTPA\": \"Sacramento Area Council of Governments\", \"_merge\": \"both\"}, {\"agency_name\": \"Yuba-Sutter Transit Authority (YSTA)\", \"agency_status\": \"Active\", \"city\": \"Marysville\", \"mode\": \"Commuter Bus\", \"service\": \"Purchased Transportation\", \"ntd_id\": \"90061\", \"reporter_type\": \"Reduced Reporter\", \"reporting_module\": \"Urban\", \"state\": \"CA\", \"primary_uza_name\": \"Yuba City, CA\", \"year\": \"2023\", \"upt\": 38456, \"vrh\": 6960, \"vrm\": 266963, \"opexp_total\": 1329474, \"RTPA\": \"Sacramento Area Council of Governments\", \"_merge\": \"both\"}]}}, {\"mode\": \"vega-lite\"});\n",
       "</script>"
      ],
      "text/plain": [
       "alt.FacetChart(...)"
      ]
     },
     "execution_count": 13,
     "metadata": {},
     "output_type": "execute_result"
    }
   ],
   "source": [
    "make_scatter(\n",
    "    data=df[df[\"year\"] == \"2023\"],\n",
    "    y_ax=\"opexp_total\",\n",
    "    x_ax=\"vrm\",\n",
    "    color=\"reporter_type\",\n",
    "    log_scale=True,\n",
    "    lin_y_ax=True,\n",
    "    chart_title=\"\"\n",
    ").facet(\n",
    "    facet=alt.Facet(\"mode\",title=\"Operating Cost per VRH, by mode\"),\n",
    "    columns=2,\n",
    ")"
   ]
  },
  {
   "cell_type": "code",
   "execution_count": 14,
   "id": "763f3450-5f05-4744-a8fe-e6b50f34a530",
   "metadata": {
    "tags": []
   },
   "outputs": [
    {
     "name": "stdout",
     "output_type": "stream",
     "text": [
      "0 rows with zero or negative values excluded due to log scale.\n"
     ]
    },
    {
     "data": {
      "text/html": [
       "\n",
       "<style>\n",
       "  #altair-viz-1342d90dccaf432aabe7a0836217432b.vega-embed {\n",
       "    width: 100%;\n",
       "    display: flex;\n",
       "  }\n",
       "\n",
       "  #altair-viz-1342d90dccaf432aabe7a0836217432b.vega-embed details,\n",
       "  #altair-viz-1342d90dccaf432aabe7a0836217432b.vega-embed details summary {\n",
       "    position: relative;\n",
       "  }\n",
       "</style>\n",
       "<div id=\"altair-viz-1342d90dccaf432aabe7a0836217432b\"></div>\n",
       "<script type=\"text/javascript\">\n",
       "  var VEGA_DEBUG = (typeof VEGA_DEBUG == \"undefined\") ? {} : VEGA_DEBUG;\n",
       "  (function(spec, embedOpt){\n",
       "    let outputDiv = document.currentScript.previousElementSibling;\n",
       "    if (outputDiv.id !== \"altair-viz-1342d90dccaf432aabe7a0836217432b\") {\n",
       "      outputDiv = document.getElementById(\"altair-viz-1342d90dccaf432aabe7a0836217432b\");\n",
       "    }\n",
       "\n",
       "    const paths = {\n",
       "      \"vega\": \"https://cdn.jsdelivr.net/npm/vega@5?noext\",\n",
       "      \"vega-lib\": \"https://cdn.jsdelivr.net/npm/vega-lib?noext\",\n",
       "      \"vega-lite\": \"https://cdn.jsdelivr.net/npm/vega-lite@5.20.1?noext\",\n",
       "      \"vega-embed\": \"https://cdn.jsdelivr.net/npm/vega-embed@6?noext\",\n",
       "    };\n",
       "\n",
       "    function maybeLoadScript(lib, version) {\n",
       "      var key = `${lib.replace(\"-\", \"\")}_version`;\n",
       "      return (VEGA_DEBUG[key] == version) ?\n",
       "        Promise.resolve(paths[lib]) :\n",
       "        new Promise(function(resolve, reject) {\n",
       "          var s = document.createElement('script');\n",
       "          document.getElementsByTagName(\"head\")[0].appendChild(s);\n",
       "          s.async = true;\n",
       "          s.onload = () => {\n",
       "            VEGA_DEBUG[key] = version;\n",
       "            return resolve(paths[lib]);\n",
       "          };\n",
       "          s.onerror = () => reject(`Error loading script: ${paths[lib]}`);\n",
       "          s.src = paths[lib];\n",
       "        });\n",
       "    }\n",
       "\n",
       "    function showError(err) {\n",
       "      outputDiv.innerHTML = `<div class=\"error\" style=\"color:red;\">${err}</div>`;\n",
       "      throw err;\n",
       "    }\n",
       "\n",
       "    function displayChart(vegaEmbed) {\n",
       "      vegaEmbed(outputDiv, spec, embedOpt)\n",
       "        .catch(err => showError(`Javascript Error: ${err.message}<br>This usually means there's a typo in your chart specification. See the javascript console for the full traceback.`));\n",
       "    }\n",
       "\n",
       "    if(typeof define === \"function\" && define.amd) {\n",
       "      requirejs.config({paths});\n",
       "      let deps = [\"vega-embed\"];\n",
       "      require(deps, displayChart, err => showError(`Error loading script: ${err.message}`));\n",
       "    } else {\n",
       "      maybeLoadScript(\"vega\", \"5\")\n",
       "        .then(() => maybeLoadScript(\"vega-lite\", \"5.20.1\"))\n",
       "        .then(() => maybeLoadScript(\"vega-embed\", \"6\"))\n",
       "        .catch(showError)\n",
       "        .then(() => displayChart(vegaEmbed));\n",
       "    }\n",
       "  })({\"config\": {\"view\": {\"continuousWidth\": 300, \"continuousHeight\": 300}}, \"data\": {\"name\": \"data-da3bdcf3328d25ecd9ac3e7b34a2fa37\"}, \"facet\": {\"field\": \"service\", \"title\": \"Operating Cost per VRH, by Type of Service\", \"type\": \"nominal\"}, \"spec\": {\"layer\": [{\"mark\": {\"type\": \"point\"}, \"encoding\": {\"color\": {\"field\": \"reporter_type\", \"type\": \"nominal\"}, \"tooltip\": [{\"field\": \"vrm\", \"type\": \"quantitative\"}, {\"field\": \"opexp_total\", \"type\": \"quantitative\"}, {\"field\": \"agency_name\", \"type\": \"nominal\"}], \"x\": {\"field\": \"vrm\", \"scale\": {\"type\": \"log\"}, \"type\": \"quantitative\"}, \"y\": {\"field\": \"opexp_total\", \"type\": \"quantitative\"}}, \"name\": \"view_7\", \"title\": \"\"}, {\"mark\": {\"type\": \"line\"}, \"encoding\": {\"color\": {\"field\": \"reporter_type\", \"type\": \"nominal\"}, \"tooltip\": [{\"field\": \"vrm\", \"type\": \"quantitative\"}, {\"field\": \"opexp_total\", \"type\": \"quantitative\"}, {\"field\": \"agency_name\", \"type\": \"nominal\"}], \"x\": {\"field\": \"vrm\", \"scale\": {\"type\": \"log\"}, \"type\": \"quantitative\"}, \"y\": {\"field\": \"opexp_total\", \"type\": \"quantitative\"}}, \"title\": \"\", \"transform\": [{\"on\": \"vrm\", \"regression\": \"opexp_total\"}]}], \"height\": 150, \"width\": 350}, \"columns\": 2, \"params\": [{\"name\": \"param_7\", \"select\": {\"type\": \"interval\", \"encodings\": [\"x\", \"y\"]}, \"bind\": \"scales\", \"views\": [\"view_7\"]}], \"$schema\": \"https://vega.github.io/schema/vega-lite/v5.20.1.json\", \"datasets\": {\"data-da3bdcf3328d25ecd9ac3e7b34a2fa37\": [{\"agency_name\": \"City of Davis (DCT) - Transit/Parks and Community Services\", \"agency_status\": \"Active\", \"city\": \"Davis\", \"mode\": \"Demand Response\", \"service\": \"Directly Operated\", \"ntd_id\": \"90167\", \"reporter_type\": \"Reduced Reporter\", \"reporting_module\": \"Urban\", \"state\": \"CA\", \"primary_uza_name\": \"Davis, CA\", \"year\": \"2023\", \"upt\": 12956, \"vrh\": 4558, \"vrm\": 47130, \"opexp_total\": 910233, \"RTPA\": \"Sacramento Area Council of Governments\", \"_merge\": \"both\"}, {\"agency_name\": \"County of Sacramento Municipal Services Agency (SCT Link) - Department of Transportation\", \"agency_status\": \"Active\", \"city\": \"Sacramento\", \"mode\": \"Demand Response\", \"service\": \"Purchased Transportation\", \"ntd_id\": \"90216\", \"reporter_type\": \"Reduced Reporter\", \"reporting_module\": \"Urban\", \"state\": \"CA\", \"primary_uza_name\": \"Sacramento, CA\", \"year\": \"2023\", \"upt\": 23933, \"vrh\": 8420, \"vrm\": 93665, \"opexp_total\": 1761821, \"RTPA\": \"Sacramento Area Council of Governments\", \"_merge\": \"both\"}, {\"agency_name\": \"County of Sacramento Municipal Services Agency (SCT Link) - Department of Transportation\", \"agency_status\": \"Active\", \"city\": \"Sacramento\", \"mode\": \"Commuter Bus\", \"service\": \"Purchased Transportation\", \"ntd_id\": \"90216\", \"reporter_type\": \"Reduced Reporter\", \"reporting_module\": \"Urban\", \"state\": \"CA\", \"primary_uza_name\": \"Sacramento, CA\", \"year\": \"2023\", \"upt\": 21872, \"vrh\": 8941, \"vrm\": 258550, \"opexp_total\": 329434, \"RTPA\": \"Sacramento Area Council of Governments\", \"_merge\": \"both\"}, {\"agency_name\": \"County of Sacramento Municipal Services Agency (SCT Link) - Department of Transportation\", \"agency_status\": \"Active\", \"city\": \"Sacramento\", \"mode\": \"Bus\", \"service\": \"Purchased Transportation\", \"ntd_id\": \"90216\", \"reporter_type\": \"Reduced Reporter\", \"reporting_module\": \"Urban\", \"state\": \"CA\", \"primary_uza_name\": \"Sacramento, CA\", \"year\": \"2023\", \"upt\": 2184, \"vrh\": 2094, \"vrm\": 65959, \"opexp_total\": 501557, \"RTPA\": \"Sacramento Area Council of Governments\", \"_merge\": \"both\"}, {\"agency_name\": \"Paratransit, Inc.\", \"agency_status\": \"Active\", \"city\": \"Sacramento\", \"mode\": \"Demand Response\", \"service\": \"Directly Operated\", \"ntd_id\": \"90223\", \"reporter_type\": \"Full Reporter\", \"reporting_module\": \"Urban\", \"state\": \"CA\", \"primary_uza_name\": \"Sacramento, CA\", \"year\": \"2023\", \"upt\": 41481, \"vrh\": 25080, \"vrm\": 424440, \"opexp_total\": 2373789, \"RTPA\": \"Sacramento Area Council of Governments\", \"_merge\": \"both\"}, {\"agency_name\": \"Sacramento Regional Transit District\", \"agency_status\": \"Active\", \"city\": \"Sacramento\", \"mode\": \"Demand Response\", \"service\": \"Purchased Transportation - Transportation Network Company\", \"ntd_id\": \"90019\", \"reporter_type\": \"Full Reporter\", \"reporting_module\": \"Urban\", \"state\": \"CA\", \"primary_uza_name\": \"Sacramento, CA\", \"year\": \"2023\", \"upt\": 64291, \"vrh\": 24023, \"vrm\": 529423, \"opexp_total\": 2875752, \"RTPA\": \"Sacramento Area Council of Governments\", \"_merge\": \"both\"}, {\"agency_name\": \"Sacramento Regional Transit District\", \"agency_status\": \"Active\", \"city\": \"Sacramento\", \"mode\": \"Light Rail\", \"service\": \"Directly Operated\", \"ntd_id\": \"90019\", \"reporter_type\": \"Full Reporter\", \"reporting_module\": \"Urban\", \"state\": \"CA\", \"primary_uza_name\": \"Sacramento, CA\", \"year\": \"2023\", \"upt\": 6140920, \"vrh\": 199774, \"vrm\": 3588470, \"opexp_total\": 83048077, \"RTPA\": \"Sacramento Area Council of Governments\", \"_merge\": \"both\"}, {\"agency_name\": \"Sacramento Regional Transit District\", \"agency_status\": \"Active\", \"city\": \"Sacramento\", \"mode\": \"Demand Response\", \"service\": \"Directly Operated\", \"ntd_id\": \"90019\", \"reporter_type\": \"Full Reporter\", \"reporting_module\": \"Urban\", \"state\": \"CA\", \"primary_uza_name\": \"Sacramento, CA\", \"year\": \"2023\", \"upt\": 429347, \"vrh\": 176917, \"vrm\": 2695918, \"opexp_total\": 31106478, \"RTPA\": \"Sacramento Area Council of Governments\", \"_merge\": \"both\"}, {\"agency_name\": \"Sacramento Regional Transit District\", \"agency_status\": \"Active\", \"city\": \"Sacramento\", \"mode\": \"Bus\", \"service\": \"Directly Operated\", \"ntd_id\": \"90019\", \"reporter_type\": \"Full Reporter\", \"reporting_module\": \"Urban\", \"state\": \"CA\", \"primary_uza_name\": \"Sacramento, CA\", \"year\": \"2023\", \"upt\": 7715110, \"vrh\": 618702, \"vrm\": 7219695, \"opexp_total\": 121328770, \"RTPA\": \"Sacramento Area Council of Governments\", \"_merge\": \"both\"}, {\"agency_name\": \"University of California, Davis (ASUCD) - Associated Students of the University of California, Davis\", \"agency_status\": \"Active\", \"city\": \"Davis\", \"mode\": \"Bus\", \"service\": \"Directly Operated\", \"ntd_id\": \"90142\", \"reporter_type\": \"Full Reporter\", \"reporting_module\": \"Urban\", \"state\": \"CA\", \"primary_uza_name\": \"Davis, CA\", \"year\": \"2023\", \"upt\": 3028186, \"vrh\": 66932, \"vrm\": 697377, \"opexp_total\": 8411384, \"RTPA\": \"Sacramento Area Council of Governments\", \"_merge\": \"both\"}, {\"agency_name\": \"Yolo County Transportation District (YCTD)\", \"agency_status\": \"Active\", \"city\": \"Woodland\", \"mode\": \"Demand Response\", \"service\": \"Purchased Transportation\", \"ntd_id\": \"90090\", \"reporter_type\": \"Full Reporter\", \"reporting_module\": \"Urban\", \"state\": \"CA\", \"primary_uza_name\": \"Sacramento, CA\", \"year\": \"2023\", \"upt\": 33216, \"vrh\": 22370, \"vrm\": 407483, \"opexp_total\": 2937160, \"RTPA\": \"Sacramento Area Council of Governments\", \"_merge\": \"both\"}, {\"agency_name\": \"Yolo County Transportation District (YCTD)\", \"agency_status\": \"Active\", \"city\": \"Woodland\", \"mode\": \"Bus\", \"service\": \"Purchased Transportation\", \"ntd_id\": \"90090\", \"reporter_type\": \"Full Reporter\", \"reporting_module\": \"Urban\", \"state\": \"CA\", \"primary_uza_name\": \"Sacramento, CA\", \"year\": \"2023\", \"upt\": 644178, \"vrh\": 71370, \"vrm\": 1576566, \"opexp_total\": 11917092, \"RTPA\": \"Sacramento Area Council of Governments\", \"_merge\": \"both\"}, {\"agency_name\": \"Yuba-Sutter Transit Authority (YSTA)\", \"agency_status\": \"Active\", \"city\": \"Marysville\", \"mode\": \"Bus\", \"service\": \"Purchased Transportation\", \"ntd_id\": \"90061\", \"reporter_type\": \"Reduced Reporter\", \"reporting_module\": \"Urban\", \"state\": \"CA\", \"primary_uza_name\": \"Yuba City, CA\", \"year\": \"2023\", \"upt\": 442664, \"vrh\": 41852, \"vrm\": 497053, \"opexp_total\": 4741997, \"RTPA\": \"Sacramento Area Council of Governments\", \"_merge\": \"both\"}, {\"agency_name\": \"Yuba-Sutter Transit Authority (YSTA)\", \"agency_status\": \"Active\", \"city\": \"Marysville\", \"mode\": \"Demand Response\", \"service\": \"Purchased Transportation\", \"ntd_id\": \"90061\", \"reporter_type\": \"Reduced Reporter\", \"reporting_module\": \"Urban\", \"state\": \"CA\", \"primary_uza_name\": \"Yuba City, CA\", \"year\": \"2023\", \"upt\": 35256, \"vrh\": 17502, \"vrm\": 211943, \"opexp_total\": 2125604, \"RTPA\": \"Sacramento Area Council of Governments\", \"_merge\": \"both\"}, {\"agency_name\": \"Yuba-Sutter Transit Authority (YSTA)\", \"agency_status\": \"Active\", \"city\": \"Marysville\", \"mode\": \"Commuter Bus\", \"service\": \"Purchased Transportation\", \"ntd_id\": \"90061\", \"reporter_type\": \"Reduced Reporter\", \"reporting_module\": \"Urban\", \"state\": \"CA\", \"primary_uza_name\": \"Yuba City, CA\", \"year\": \"2023\", \"upt\": 38456, \"vrh\": 6960, \"vrm\": 266963, \"opexp_total\": 1329474, \"RTPA\": \"Sacramento Area Council of Governments\", \"_merge\": \"both\"}]}}, {\"mode\": \"vega-lite\"});\n",
       "</script>"
      ],
      "text/plain": [
       "alt.FacetChart(...)"
      ]
     },
     "execution_count": 14,
     "metadata": {},
     "output_type": "execute_result"
    }
   ],
   "source": [
    "make_scatter(\n",
    "    data=df[df[\"year\"] == \"2023\"],\n",
    "    y_ax=\"opexp_total\",\n",
    "    x_ax=\"vrm\",\n",
    "    color=\"reporter_type\",\n",
    "    log_scale=True,\n",
    "    lin_y_ax=True,\n",
    "    chart_title=\"\"\n",
    ").facet(\n",
    "    facet=alt.Facet(\"service\",title=\"Operating Cost per VRH, by Type of Service\"),\n",
    "    columns=2,\n",
    ")"
   ]
  },
  {
   "cell_type": "markdown",
   "id": "d0d8558c-4f1c-48b9-9f6e-0a592a6b3b09",
   "metadata": {
    "tags": []
   },
   "source": [
    "### Operating cost per trip\n",
    "Lower is better"
   ]
  },
  {
   "cell_type": "code",
   "execution_count": 15,
   "id": "14624d8a-34b0-4978-afdf-fd62751ce3a5",
   "metadata": {
    "tags": []
   },
   "outputs": [
    {
     "name": "stdout",
     "output_type": "stream",
     "text": [
      "0 rows with zero or negative values excluded due to log scale.\n"
     ]
    },
    {
     "data": {
      "text/html": [
       "\n",
       "<style>\n",
       "  #altair-viz-ac792817735a4214ada04a754c941464.vega-embed {\n",
       "    width: 100%;\n",
       "    display: flex;\n",
       "  }\n",
       "\n",
       "  #altair-viz-ac792817735a4214ada04a754c941464.vega-embed details,\n",
       "  #altair-viz-ac792817735a4214ada04a754c941464.vega-embed details summary {\n",
       "    position: relative;\n",
       "  }\n",
       "</style>\n",
       "<div id=\"altair-viz-ac792817735a4214ada04a754c941464\"></div>\n",
       "<script type=\"text/javascript\">\n",
       "  var VEGA_DEBUG = (typeof VEGA_DEBUG == \"undefined\") ? {} : VEGA_DEBUG;\n",
       "  (function(spec, embedOpt){\n",
       "    let outputDiv = document.currentScript.previousElementSibling;\n",
       "    if (outputDiv.id !== \"altair-viz-ac792817735a4214ada04a754c941464\") {\n",
       "      outputDiv = document.getElementById(\"altair-viz-ac792817735a4214ada04a754c941464\");\n",
       "    }\n",
       "\n",
       "    const paths = {\n",
       "      \"vega\": \"https://cdn.jsdelivr.net/npm/vega@5?noext\",\n",
       "      \"vega-lib\": \"https://cdn.jsdelivr.net/npm/vega-lib?noext\",\n",
       "      \"vega-lite\": \"https://cdn.jsdelivr.net/npm/vega-lite@5.20.1?noext\",\n",
       "      \"vega-embed\": \"https://cdn.jsdelivr.net/npm/vega-embed@6?noext\",\n",
       "    };\n",
       "\n",
       "    function maybeLoadScript(lib, version) {\n",
       "      var key = `${lib.replace(\"-\", \"\")}_version`;\n",
       "      return (VEGA_DEBUG[key] == version) ?\n",
       "        Promise.resolve(paths[lib]) :\n",
       "        new Promise(function(resolve, reject) {\n",
       "          var s = document.createElement('script');\n",
       "          document.getElementsByTagName(\"head\")[0].appendChild(s);\n",
       "          s.async = true;\n",
       "          s.onload = () => {\n",
       "            VEGA_DEBUG[key] = version;\n",
       "            return resolve(paths[lib]);\n",
       "          };\n",
       "          s.onerror = () => reject(`Error loading script: ${paths[lib]}`);\n",
       "          s.src = paths[lib];\n",
       "        });\n",
       "    }\n",
       "\n",
       "    function showError(err) {\n",
       "      outputDiv.innerHTML = `<div class=\"error\" style=\"color:red;\">${err}</div>`;\n",
       "      throw err;\n",
       "    }\n",
       "\n",
       "    function displayChart(vegaEmbed) {\n",
       "      vegaEmbed(outputDiv, spec, embedOpt)\n",
       "        .catch(err => showError(`Javascript Error: ${err.message}<br>This usually means there's a typo in your chart specification. See the javascript console for the full traceback.`));\n",
       "    }\n",
       "\n",
       "    if(typeof define === \"function\" && define.amd) {\n",
       "      requirejs.config({paths});\n",
       "      let deps = [\"vega-embed\"];\n",
       "      require(deps, displayChart, err => showError(`Error loading script: ${err.message}`));\n",
       "    } else {\n",
       "      maybeLoadScript(\"vega\", \"5\")\n",
       "        .then(() => maybeLoadScript(\"vega-lite\", \"5.20.1\"))\n",
       "        .then(() => maybeLoadScript(\"vega-embed\", \"6\"))\n",
       "        .catch(showError)\n",
       "        .then(() => displayChart(vegaEmbed));\n",
       "    }\n",
       "  })({\"config\": {\"view\": {\"continuousWidth\": 300, \"continuousHeight\": 300}}, \"data\": {\"name\": \"data-da3bdcf3328d25ecd9ac3e7b34a2fa37\"}, \"facet\": {\"field\": \"mode\", \"title\": \"Operating Cost per UPT, by mode\", \"type\": \"nominal\"}, \"spec\": {\"layer\": [{\"mark\": {\"type\": \"point\"}, \"encoding\": {\"color\": {\"field\": \"reporter_type\", \"type\": \"nominal\"}, \"tooltip\": [{\"field\": \"upt\", \"type\": \"quantitative\"}, {\"field\": \"opexp_total\", \"type\": \"quantitative\"}, {\"field\": \"agency_name\", \"type\": \"nominal\"}], \"x\": {\"field\": \"upt\", \"scale\": {\"type\": \"log\"}, \"type\": \"quantitative\"}, \"y\": {\"field\": \"opexp_total\", \"type\": \"quantitative\"}}, \"name\": \"view_8\", \"title\": \"\"}, {\"mark\": {\"type\": \"line\"}, \"encoding\": {\"color\": {\"field\": \"reporter_type\", \"type\": \"nominal\"}, \"tooltip\": [{\"field\": \"upt\", \"type\": \"quantitative\"}, {\"field\": \"opexp_total\", \"type\": \"quantitative\"}, {\"field\": \"agency_name\", \"type\": \"nominal\"}], \"x\": {\"field\": \"upt\", \"scale\": {\"type\": \"log\"}, \"type\": \"quantitative\"}, \"y\": {\"field\": \"opexp_total\", \"type\": \"quantitative\"}}, \"title\": \"\", \"transform\": [{\"on\": \"upt\", \"regression\": \"opexp_total\"}]}], \"height\": 150, \"width\": 350}, \"columns\": 2, \"params\": [{\"name\": \"param_8\", \"select\": {\"type\": \"interval\", \"encodings\": [\"x\", \"y\"]}, \"bind\": \"scales\", \"views\": [\"view_8\"]}], \"$schema\": \"https://vega.github.io/schema/vega-lite/v5.20.1.json\", \"datasets\": {\"data-da3bdcf3328d25ecd9ac3e7b34a2fa37\": [{\"agency_name\": \"City of Davis (DCT) - Transit/Parks and Community Services\", \"agency_status\": \"Active\", \"city\": \"Davis\", \"mode\": \"Demand Response\", \"service\": \"Directly Operated\", \"ntd_id\": \"90167\", \"reporter_type\": \"Reduced Reporter\", \"reporting_module\": \"Urban\", \"state\": \"CA\", \"primary_uza_name\": \"Davis, CA\", \"year\": \"2023\", \"upt\": 12956, \"vrh\": 4558, \"vrm\": 47130, \"opexp_total\": 910233, \"RTPA\": \"Sacramento Area Council of Governments\", \"_merge\": \"both\"}, {\"agency_name\": \"County of Sacramento Municipal Services Agency (SCT Link) - Department of Transportation\", \"agency_status\": \"Active\", \"city\": \"Sacramento\", \"mode\": \"Demand Response\", \"service\": \"Purchased Transportation\", \"ntd_id\": \"90216\", \"reporter_type\": \"Reduced Reporter\", \"reporting_module\": \"Urban\", \"state\": \"CA\", \"primary_uza_name\": \"Sacramento, CA\", \"year\": \"2023\", \"upt\": 23933, \"vrh\": 8420, \"vrm\": 93665, \"opexp_total\": 1761821, \"RTPA\": \"Sacramento Area Council of Governments\", \"_merge\": \"both\"}, {\"agency_name\": \"County of Sacramento Municipal Services Agency (SCT Link) - Department of Transportation\", \"agency_status\": \"Active\", \"city\": \"Sacramento\", \"mode\": \"Commuter Bus\", \"service\": \"Purchased Transportation\", \"ntd_id\": \"90216\", \"reporter_type\": \"Reduced Reporter\", \"reporting_module\": \"Urban\", \"state\": \"CA\", \"primary_uza_name\": \"Sacramento, CA\", \"year\": \"2023\", \"upt\": 21872, \"vrh\": 8941, \"vrm\": 258550, \"opexp_total\": 329434, \"RTPA\": \"Sacramento Area Council of Governments\", \"_merge\": \"both\"}, {\"agency_name\": \"County of Sacramento Municipal Services Agency (SCT Link) - Department of Transportation\", \"agency_status\": \"Active\", \"city\": \"Sacramento\", \"mode\": \"Bus\", \"service\": \"Purchased Transportation\", \"ntd_id\": \"90216\", \"reporter_type\": \"Reduced Reporter\", \"reporting_module\": \"Urban\", \"state\": \"CA\", \"primary_uza_name\": \"Sacramento, CA\", \"year\": \"2023\", \"upt\": 2184, \"vrh\": 2094, \"vrm\": 65959, \"opexp_total\": 501557, \"RTPA\": \"Sacramento Area Council of Governments\", \"_merge\": \"both\"}, {\"agency_name\": \"Paratransit, Inc.\", \"agency_status\": \"Active\", \"city\": \"Sacramento\", \"mode\": \"Demand Response\", \"service\": \"Directly Operated\", \"ntd_id\": \"90223\", \"reporter_type\": \"Full Reporter\", \"reporting_module\": \"Urban\", \"state\": \"CA\", \"primary_uza_name\": \"Sacramento, CA\", \"year\": \"2023\", \"upt\": 41481, \"vrh\": 25080, \"vrm\": 424440, \"opexp_total\": 2373789, \"RTPA\": \"Sacramento Area Council of Governments\", \"_merge\": \"both\"}, {\"agency_name\": \"Sacramento Regional Transit District\", \"agency_status\": \"Active\", \"city\": \"Sacramento\", \"mode\": \"Demand Response\", \"service\": \"Purchased Transportation - Transportation Network Company\", \"ntd_id\": \"90019\", \"reporter_type\": \"Full Reporter\", \"reporting_module\": \"Urban\", \"state\": \"CA\", \"primary_uza_name\": \"Sacramento, CA\", \"year\": \"2023\", \"upt\": 64291, \"vrh\": 24023, \"vrm\": 529423, \"opexp_total\": 2875752, \"RTPA\": \"Sacramento Area Council of Governments\", \"_merge\": \"both\"}, {\"agency_name\": \"Sacramento Regional Transit District\", \"agency_status\": \"Active\", \"city\": \"Sacramento\", \"mode\": \"Light Rail\", \"service\": \"Directly Operated\", \"ntd_id\": \"90019\", \"reporter_type\": \"Full Reporter\", \"reporting_module\": \"Urban\", \"state\": \"CA\", \"primary_uza_name\": \"Sacramento, CA\", \"year\": \"2023\", \"upt\": 6140920, \"vrh\": 199774, \"vrm\": 3588470, \"opexp_total\": 83048077, \"RTPA\": \"Sacramento Area Council of Governments\", \"_merge\": \"both\"}, {\"agency_name\": \"Sacramento Regional Transit District\", \"agency_status\": \"Active\", \"city\": \"Sacramento\", \"mode\": \"Demand Response\", \"service\": \"Directly Operated\", \"ntd_id\": \"90019\", \"reporter_type\": \"Full Reporter\", \"reporting_module\": \"Urban\", \"state\": \"CA\", \"primary_uza_name\": \"Sacramento, CA\", \"year\": \"2023\", \"upt\": 429347, \"vrh\": 176917, \"vrm\": 2695918, \"opexp_total\": 31106478, \"RTPA\": \"Sacramento Area Council of Governments\", \"_merge\": \"both\"}, {\"agency_name\": \"Sacramento Regional Transit District\", \"agency_status\": \"Active\", \"city\": \"Sacramento\", \"mode\": \"Bus\", \"service\": \"Directly Operated\", \"ntd_id\": \"90019\", \"reporter_type\": \"Full Reporter\", \"reporting_module\": \"Urban\", \"state\": \"CA\", \"primary_uza_name\": \"Sacramento, CA\", \"year\": \"2023\", \"upt\": 7715110, \"vrh\": 618702, \"vrm\": 7219695, \"opexp_total\": 121328770, \"RTPA\": \"Sacramento Area Council of Governments\", \"_merge\": \"both\"}, {\"agency_name\": \"University of California, Davis (ASUCD) - Associated Students of the University of California, Davis\", \"agency_status\": \"Active\", \"city\": \"Davis\", \"mode\": \"Bus\", \"service\": \"Directly Operated\", \"ntd_id\": \"90142\", \"reporter_type\": \"Full Reporter\", \"reporting_module\": \"Urban\", \"state\": \"CA\", \"primary_uza_name\": \"Davis, CA\", \"year\": \"2023\", \"upt\": 3028186, \"vrh\": 66932, \"vrm\": 697377, \"opexp_total\": 8411384, \"RTPA\": \"Sacramento Area Council of Governments\", \"_merge\": \"both\"}, {\"agency_name\": \"Yolo County Transportation District (YCTD)\", \"agency_status\": \"Active\", \"city\": \"Woodland\", \"mode\": \"Demand Response\", \"service\": \"Purchased Transportation\", \"ntd_id\": \"90090\", \"reporter_type\": \"Full Reporter\", \"reporting_module\": \"Urban\", \"state\": \"CA\", \"primary_uza_name\": \"Sacramento, CA\", \"year\": \"2023\", \"upt\": 33216, \"vrh\": 22370, \"vrm\": 407483, \"opexp_total\": 2937160, \"RTPA\": \"Sacramento Area Council of Governments\", \"_merge\": \"both\"}, {\"agency_name\": \"Yolo County Transportation District (YCTD)\", \"agency_status\": \"Active\", \"city\": \"Woodland\", \"mode\": \"Bus\", \"service\": \"Purchased Transportation\", \"ntd_id\": \"90090\", \"reporter_type\": \"Full Reporter\", \"reporting_module\": \"Urban\", \"state\": \"CA\", \"primary_uza_name\": \"Sacramento, CA\", \"year\": \"2023\", \"upt\": 644178, \"vrh\": 71370, \"vrm\": 1576566, \"opexp_total\": 11917092, \"RTPA\": \"Sacramento Area Council of Governments\", \"_merge\": \"both\"}, {\"agency_name\": \"Yuba-Sutter Transit Authority (YSTA)\", \"agency_status\": \"Active\", \"city\": \"Marysville\", \"mode\": \"Bus\", \"service\": \"Purchased Transportation\", \"ntd_id\": \"90061\", \"reporter_type\": \"Reduced Reporter\", \"reporting_module\": \"Urban\", \"state\": \"CA\", \"primary_uza_name\": \"Yuba City, CA\", \"year\": \"2023\", \"upt\": 442664, \"vrh\": 41852, \"vrm\": 497053, \"opexp_total\": 4741997, \"RTPA\": \"Sacramento Area Council of Governments\", \"_merge\": \"both\"}, {\"agency_name\": \"Yuba-Sutter Transit Authority (YSTA)\", \"agency_status\": \"Active\", \"city\": \"Marysville\", \"mode\": \"Demand Response\", \"service\": \"Purchased Transportation\", \"ntd_id\": \"90061\", \"reporter_type\": \"Reduced Reporter\", \"reporting_module\": \"Urban\", \"state\": \"CA\", \"primary_uza_name\": \"Yuba City, CA\", \"year\": \"2023\", \"upt\": 35256, \"vrh\": 17502, \"vrm\": 211943, \"opexp_total\": 2125604, \"RTPA\": \"Sacramento Area Council of Governments\", \"_merge\": \"both\"}, {\"agency_name\": \"Yuba-Sutter Transit Authority (YSTA)\", \"agency_status\": \"Active\", \"city\": \"Marysville\", \"mode\": \"Commuter Bus\", \"service\": \"Purchased Transportation\", \"ntd_id\": \"90061\", \"reporter_type\": \"Reduced Reporter\", \"reporting_module\": \"Urban\", \"state\": \"CA\", \"primary_uza_name\": \"Yuba City, CA\", \"year\": \"2023\", \"upt\": 38456, \"vrh\": 6960, \"vrm\": 266963, \"opexp_total\": 1329474, \"RTPA\": \"Sacramento Area Council of Governments\", \"_merge\": \"both\"}]}}, {\"mode\": \"vega-lite\"});\n",
       "</script>"
      ],
      "text/plain": [
       "alt.FacetChart(...)"
      ]
     },
     "execution_count": 15,
     "metadata": {},
     "output_type": "execute_result"
    }
   ],
   "source": [
    "make_scatter(\n",
    "    data=df[df[\"year\"] == \"2023\"],\n",
    "    y_ax=\"opexp_total\",\n",
    "    x_ax=\"upt\",\n",
    "    color=\"reporter_type\",\n",
    "    log_scale=True,\n",
    "    lin_y_ax=True,\n",
    "    chart_title=\"\"\n",
    ").facet(\n",
    "    facet=alt.Facet(\"mode\",\n",
    "                   title=\"Operating Cost per UPT, by mode\"),\n",
    "    columns=2,\n",
    ")"
   ]
  },
  {
   "cell_type": "code",
   "execution_count": 16,
   "id": "0a415a1e-2434-4749-a0e9-dc5739988eba",
   "metadata": {
    "tags": []
   },
   "outputs": [
    {
     "name": "stdout",
     "output_type": "stream",
     "text": [
      "0 rows with zero or negative values excluded due to log scale.\n"
     ]
    },
    {
     "data": {
      "text/html": [
       "\n",
       "<style>\n",
       "  #altair-viz-716c4eacd6f24b31b3173a587b3ed262.vega-embed {\n",
       "    width: 100%;\n",
       "    display: flex;\n",
       "  }\n",
       "\n",
       "  #altair-viz-716c4eacd6f24b31b3173a587b3ed262.vega-embed details,\n",
       "  #altair-viz-716c4eacd6f24b31b3173a587b3ed262.vega-embed details summary {\n",
       "    position: relative;\n",
       "  }\n",
       "</style>\n",
       "<div id=\"altair-viz-716c4eacd6f24b31b3173a587b3ed262\"></div>\n",
       "<script type=\"text/javascript\">\n",
       "  var VEGA_DEBUG = (typeof VEGA_DEBUG == \"undefined\") ? {} : VEGA_DEBUG;\n",
       "  (function(spec, embedOpt){\n",
       "    let outputDiv = document.currentScript.previousElementSibling;\n",
       "    if (outputDiv.id !== \"altair-viz-716c4eacd6f24b31b3173a587b3ed262\") {\n",
       "      outputDiv = document.getElementById(\"altair-viz-716c4eacd6f24b31b3173a587b3ed262\");\n",
       "    }\n",
       "\n",
       "    const paths = {\n",
       "      \"vega\": \"https://cdn.jsdelivr.net/npm/vega@5?noext\",\n",
       "      \"vega-lib\": \"https://cdn.jsdelivr.net/npm/vega-lib?noext\",\n",
       "      \"vega-lite\": \"https://cdn.jsdelivr.net/npm/vega-lite@5.20.1?noext\",\n",
       "      \"vega-embed\": \"https://cdn.jsdelivr.net/npm/vega-embed@6?noext\",\n",
       "    };\n",
       "\n",
       "    function maybeLoadScript(lib, version) {\n",
       "      var key = `${lib.replace(\"-\", \"\")}_version`;\n",
       "      return (VEGA_DEBUG[key] == version) ?\n",
       "        Promise.resolve(paths[lib]) :\n",
       "        new Promise(function(resolve, reject) {\n",
       "          var s = document.createElement('script');\n",
       "          document.getElementsByTagName(\"head\")[0].appendChild(s);\n",
       "          s.async = true;\n",
       "          s.onload = () => {\n",
       "            VEGA_DEBUG[key] = version;\n",
       "            return resolve(paths[lib]);\n",
       "          };\n",
       "          s.onerror = () => reject(`Error loading script: ${paths[lib]}`);\n",
       "          s.src = paths[lib];\n",
       "        });\n",
       "    }\n",
       "\n",
       "    function showError(err) {\n",
       "      outputDiv.innerHTML = `<div class=\"error\" style=\"color:red;\">${err}</div>`;\n",
       "      throw err;\n",
       "    }\n",
       "\n",
       "    function displayChart(vegaEmbed) {\n",
       "      vegaEmbed(outputDiv, spec, embedOpt)\n",
       "        .catch(err => showError(`Javascript Error: ${err.message}<br>This usually means there's a typo in your chart specification. See the javascript console for the full traceback.`));\n",
       "    }\n",
       "\n",
       "    if(typeof define === \"function\" && define.amd) {\n",
       "      requirejs.config({paths});\n",
       "      let deps = [\"vega-embed\"];\n",
       "      require(deps, displayChart, err => showError(`Error loading script: ${err.message}`));\n",
       "    } else {\n",
       "      maybeLoadScript(\"vega\", \"5\")\n",
       "        .then(() => maybeLoadScript(\"vega-lite\", \"5.20.1\"))\n",
       "        .then(() => maybeLoadScript(\"vega-embed\", \"6\"))\n",
       "        .catch(showError)\n",
       "        .then(() => displayChart(vegaEmbed));\n",
       "    }\n",
       "  })({\"config\": {\"view\": {\"continuousWidth\": 300, \"continuousHeight\": 300}}, \"data\": {\"name\": \"data-da3bdcf3328d25ecd9ac3e7b34a2fa37\"}, \"facet\": {\"field\": \"service\", \"title\": \"Operating Cost per UPT, by Type of Service\", \"type\": \"nominal\"}, \"spec\": {\"layer\": [{\"mark\": {\"type\": \"point\"}, \"encoding\": {\"color\": {\"field\": \"reporter_type\", \"type\": \"nominal\"}, \"tooltip\": [{\"field\": \"upt\", \"type\": \"quantitative\"}, {\"field\": \"opexp_total\", \"type\": \"quantitative\"}, {\"field\": \"agency_name\", \"type\": \"nominal\"}], \"x\": {\"field\": \"upt\", \"scale\": {\"type\": \"log\"}, \"type\": \"quantitative\"}, \"y\": {\"field\": \"opexp_total\", \"type\": \"quantitative\"}}, \"name\": \"view_9\", \"title\": \"\"}, {\"mark\": {\"type\": \"line\"}, \"encoding\": {\"color\": {\"field\": \"reporter_type\", \"type\": \"nominal\"}, \"tooltip\": [{\"field\": \"upt\", \"type\": \"quantitative\"}, {\"field\": \"opexp_total\", \"type\": \"quantitative\"}, {\"field\": \"agency_name\", \"type\": \"nominal\"}], \"x\": {\"field\": \"upt\", \"scale\": {\"type\": \"log\"}, \"type\": \"quantitative\"}, \"y\": {\"field\": \"opexp_total\", \"type\": \"quantitative\"}}, \"title\": \"\", \"transform\": [{\"on\": \"upt\", \"regression\": \"opexp_total\"}]}], \"height\": 150, \"width\": 350}, \"columns\": 2, \"params\": [{\"name\": \"param_9\", \"select\": {\"type\": \"interval\", \"encodings\": [\"x\", \"y\"]}, \"bind\": \"scales\", \"views\": [\"view_9\"]}], \"$schema\": \"https://vega.github.io/schema/vega-lite/v5.20.1.json\", \"datasets\": {\"data-da3bdcf3328d25ecd9ac3e7b34a2fa37\": [{\"agency_name\": \"City of Davis (DCT) - Transit/Parks and Community Services\", \"agency_status\": \"Active\", \"city\": \"Davis\", \"mode\": \"Demand Response\", \"service\": \"Directly Operated\", \"ntd_id\": \"90167\", \"reporter_type\": \"Reduced Reporter\", \"reporting_module\": \"Urban\", \"state\": \"CA\", \"primary_uza_name\": \"Davis, CA\", \"year\": \"2023\", \"upt\": 12956, \"vrh\": 4558, \"vrm\": 47130, \"opexp_total\": 910233, \"RTPA\": \"Sacramento Area Council of Governments\", \"_merge\": \"both\"}, {\"agency_name\": \"County of Sacramento Municipal Services Agency (SCT Link) - Department of Transportation\", \"agency_status\": \"Active\", \"city\": \"Sacramento\", \"mode\": \"Demand Response\", \"service\": \"Purchased Transportation\", \"ntd_id\": \"90216\", \"reporter_type\": \"Reduced Reporter\", \"reporting_module\": \"Urban\", \"state\": \"CA\", \"primary_uza_name\": \"Sacramento, CA\", \"year\": \"2023\", \"upt\": 23933, \"vrh\": 8420, \"vrm\": 93665, \"opexp_total\": 1761821, \"RTPA\": \"Sacramento Area Council of Governments\", \"_merge\": \"both\"}, {\"agency_name\": \"County of Sacramento Municipal Services Agency (SCT Link) - Department of Transportation\", \"agency_status\": \"Active\", \"city\": \"Sacramento\", \"mode\": \"Commuter Bus\", \"service\": \"Purchased Transportation\", \"ntd_id\": \"90216\", \"reporter_type\": \"Reduced Reporter\", \"reporting_module\": \"Urban\", \"state\": \"CA\", \"primary_uza_name\": \"Sacramento, CA\", \"year\": \"2023\", \"upt\": 21872, \"vrh\": 8941, \"vrm\": 258550, \"opexp_total\": 329434, \"RTPA\": \"Sacramento Area Council of Governments\", \"_merge\": \"both\"}, {\"agency_name\": \"County of Sacramento Municipal Services Agency (SCT Link) - Department of Transportation\", \"agency_status\": \"Active\", \"city\": \"Sacramento\", \"mode\": \"Bus\", \"service\": \"Purchased Transportation\", \"ntd_id\": \"90216\", \"reporter_type\": \"Reduced Reporter\", \"reporting_module\": \"Urban\", \"state\": \"CA\", \"primary_uza_name\": \"Sacramento, CA\", \"year\": \"2023\", \"upt\": 2184, \"vrh\": 2094, \"vrm\": 65959, \"opexp_total\": 501557, \"RTPA\": \"Sacramento Area Council of Governments\", \"_merge\": \"both\"}, {\"agency_name\": \"Paratransit, Inc.\", \"agency_status\": \"Active\", \"city\": \"Sacramento\", \"mode\": \"Demand Response\", \"service\": \"Directly Operated\", \"ntd_id\": \"90223\", \"reporter_type\": \"Full Reporter\", \"reporting_module\": \"Urban\", \"state\": \"CA\", \"primary_uza_name\": \"Sacramento, CA\", \"year\": \"2023\", \"upt\": 41481, \"vrh\": 25080, \"vrm\": 424440, \"opexp_total\": 2373789, \"RTPA\": \"Sacramento Area Council of Governments\", \"_merge\": \"both\"}, {\"agency_name\": \"Sacramento Regional Transit District\", \"agency_status\": \"Active\", \"city\": \"Sacramento\", \"mode\": \"Demand Response\", \"service\": \"Purchased Transportation - Transportation Network Company\", \"ntd_id\": \"90019\", \"reporter_type\": \"Full Reporter\", \"reporting_module\": \"Urban\", \"state\": \"CA\", \"primary_uza_name\": \"Sacramento, CA\", \"year\": \"2023\", \"upt\": 64291, \"vrh\": 24023, \"vrm\": 529423, \"opexp_total\": 2875752, \"RTPA\": \"Sacramento Area Council of Governments\", \"_merge\": \"both\"}, {\"agency_name\": \"Sacramento Regional Transit District\", \"agency_status\": \"Active\", \"city\": \"Sacramento\", \"mode\": \"Light Rail\", \"service\": \"Directly Operated\", \"ntd_id\": \"90019\", \"reporter_type\": \"Full Reporter\", \"reporting_module\": \"Urban\", \"state\": \"CA\", \"primary_uza_name\": \"Sacramento, CA\", \"year\": \"2023\", \"upt\": 6140920, \"vrh\": 199774, \"vrm\": 3588470, \"opexp_total\": 83048077, \"RTPA\": \"Sacramento Area Council of Governments\", \"_merge\": \"both\"}, {\"agency_name\": \"Sacramento Regional Transit District\", \"agency_status\": \"Active\", \"city\": \"Sacramento\", \"mode\": \"Demand Response\", \"service\": \"Directly Operated\", \"ntd_id\": \"90019\", \"reporter_type\": \"Full Reporter\", \"reporting_module\": \"Urban\", \"state\": \"CA\", \"primary_uza_name\": \"Sacramento, CA\", \"year\": \"2023\", \"upt\": 429347, \"vrh\": 176917, \"vrm\": 2695918, \"opexp_total\": 31106478, \"RTPA\": \"Sacramento Area Council of Governments\", \"_merge\": \"both\"}, {\"agency_name\": \"Sacramento Regional Transit District\", \"agency_status\": \"Active\", \"city\": \"Sacramento\", \"mode\": \"Bus\", \"service\": \"Directly Operated\", \"ntd_id\": \"90019\", \"reporter_type\": \"Full Reporter\", \"reporting_module\": \"Urban\", \"state\": \"CA\", \"primary_uza_name\": \"Sacramento, CA\", \"year\": \"2023\", \"upt\": 7715110, \"vrh\": 618702, \"vrm\": 7219695, \"opexp_total\": 121328770, \"RTPA\": \"Sacramento Area Council of Governments\", \"_merge\": \"both\"}, {\"agency_name\": \"University of California, Davis (ASUCD) - Associated Students of the University of California, Davis\", \"agency_status\": \"Active\", \"city\": \"Davis\", \"mode\": \"Bus\", \"service\": \"Directly Operated\", \"ntd_id\": \"90142\", \"reporter_type\": \"Full Reporter\", \"reporting_module\": \"Urban\", \"state\": \"CA\", \"primary_uza_name\": \"Davis, CA\", \"year\": \"2023\", \"upt\": 3028186, \"vrh\": 66932, \"vrm\": 697377, \"opexp_total\": 8411384, \"RTPA\": \"Sacramento Area Council of Governments\", \"_merge\": \"both\"}, {\"agency_name\": \"Yolo County Transportation District (YCTD)\", \"agency_status\": \"Active\", \"city\": \"Woodland\", \"mode\": \"Demand Response\", \"service\": \"Purchased Transportation\", \"ntd_id\": \"90090\", \"reporter_type\": \"Full Reporter\", \"reporting_module\": \"Urban\", \"state\": \"CA\", \"primary_uza_name\": \"Sacramento, CA\", \"year\": \"2023\", \"upt\": 33216, \"vrh\": 22370, \"vrm\": 407483, \"opexp_total\": 2937160, \"RTPA\": \"Sacramento Area Council of Governments\", \"_merge\": \"both\"}, {\"agency_name\": \"Yolo County Transportation District (YCTD)\", \"agency_status\": \"Active\", \"city\": \"Woodland\", \"mode\": \"Bus\", \"service\": \"Purchased Transportation\", \"ntd_id\": \"90090\", \"reporter_type\": \"Full Reporter\", \"reporting_module\": \"Urban\", \"state\": \"CA\", \"primary_uza_name\": \"Sacramento, CA\", \"year\": \"2023\", \"upt\": 644178, \"vrh\": 71370, \"vrm\": 1576566, \"opexp_total\": 11917092, \"RTPA\": \"Sacramento Area Council of Governments\", \"_merge\": \"both\"}, {\"agency_name\": \"Yuba-Sutter Transit Authority (YSTA)\", \"agency_status\": \"Active\", \"city\": \"Marysville\", \"mode\": \"Bus\", \"service\": \"Purchased Transportation\", \"ntd_id\": \"90061\", \"reporter_type\": \"Reduced Reporter\", \"reporting_module\": \"Urban\", \"state\": \"CA\", \"primary_uza_name\": \"Yuba City, CA\", \"year\": \"2023\", \"upt\": 442664, \"vrh\": 41852, \"vrm\": 497053, \"opexp_total\": 4741997, \"RTPA\": \"Sacramento Area Council of Governments\", \"_merge\": \"both\"}, {\"agency_name\": \"Yuba-Sutter Transit Authority (YSTA)\", \"agency_status\": \"Active\", \"city\": \"Marysville\", \"mode\": \"Demand Response\", \"service\": \"Purchased Transportation\", \"ntd_id\": \"90061\", \"reporter_type\": \"Reduced Reporter\", \"reporting_module\": \"Urban\", \"state\": \"CA\", \"primary_uza_name\": \"Yuba City, CA\", \"year\": \"2023\", \"upt\": 35256, \"vrh\": 17502, \"vrm\": 211943, \"opexp_total\": 2125604, \"RTPA\": \"Sacramento Area Council of Governments\", \"_merge\": \"both\"}, {\"agency_name\": \"Yuba-Sutter Transit Authority (YSTA)\", \"agency_status\": \"Active\", \"city\": \"Marysville\", \"mode\": \"Commuter Bus\", \"service\": \"Purchased Transportation\", \"ntd_id\": \"90061\", \"reporter_type\": \"Reduced Reporter\", \"reporting_module\": \"Urban\", \"state\": \"CA\", \"primary_uza_name\": \"Yuba City, CA\", \"year\": \"2023\", \"upt\": 38456, \"vrh\": 6960, \"vrm\": 266963, \"opexp_total\": 1329474, \"RTPA\": \"Sacramento Area Council of Governments\", \"_merge\": \"both\"}]}}, {\"mode\": \"vega-lite\"});\n",
       "</script>"
      ],
      "text/plain": [
       "alt.FacetChart(...)"
      ]
     },
     "execution_count": 16,
     "metadata": {},
     "output_type": "execute_result"
    }
   ],
   "source": [
    "make_scatter(\n",
    "    data=df[df[\"year\"] == \"2023\"],\n",
    "    y_ax=\"opexp_total\",\n",
    "    x_ax=\"upt\",\n",
    "    color=\"reporter_type\",\n",
    "    log_scale=True,\n",
    "    lin_y_ax=True,\n",
    "    chart_title=\"\"\n",
    ").facet(\n",
    "    facet=alt.Facet(\"service\",\n",
    "                   title=\"Operating Cost per UPT, by Type of Service\"),\n",
    "    columns=2,\n",
    ")"
   ]
  },
  {
   "cell_type": "markdown",
   "id": "7fde7039-3518-436c-bdf0-a6087e4e343d",
   "metadata": {
    "tags": []
   },
   "source": [
    "## Service-effectiveness metrics\n",
    "Service-effectiveness measures outputs to consumption: For example, passenger boardings per service hour.\n",
    "\n",
    "Per the UCLA ITS Paper\n",
    ">[In] more auto-oriented markets, transit operators tend to be relatively cost-efficient, in that they have lower operating costs but serve fewer riders. In this context, assessing systems with an emphasis on **service-effectiveness (i.e., passenger boardings per service hour)** will motivate operators to **improve ridership** by changing service hours, routes, and fares to better match local demand. Agencies might also implement fare programs with schools and other institutions, and even work with municipalities on improving land use around transit in order to increase the relative attractiveness of transit service."
   ]
  },
  {
   "cell_type": "markdown",
   "id": "7d20f941-7afc-4c16-bb74-19e2e76a00a9",
   "metadata": {
    "tags": []
   },
   "source": [
    "### Passengers per VRH\n",
    "Higher is better"
   ]
  },
  {
   "cell_type": "code",
   "execution_count": 17,
   "id": "51c6e786-69fc-49fb-8904-1f7f50fb688e",
   "metadata": {
    "tags": []
   },
   "outputs": [
    {
     "name": "stdout",
     "output_type": "stream",
     "text": [
      "0 rows with zero or negative values excluded due to log scale.\n"
     ]
    },
    {
     "data": {
      "text/html": [
       "\n",
       "<style>\n",
       "  #altair-viz-d28a00a3e0924731b882baf28385db9c.vega-embed {\n",
       "    width: 100%;\n",
       "    display: flex;\n",
       "  }\n",
       "\n",
       "  #altair-viz-d28a00a3e0924731b882baf28385db9c.vega-embed details,\n",
       "  #altair-viz-d28a00a3e0924731b882baf28385db9c.vega-embed details summary {\n",
       "    position: relative;\n",
       "  }\n",
       "</style>\n",
       "<div id=\"altair-viz-d28a00a3e0924731b882baf28385db9c\"></div>\n",
       "<script type=\"text/javascript\">\n",
       "  var VEGA_DEBUG = (typeof VEGA_DEBUG == \"undefined\") ? {} : VEGA_DEBUG;\n",
       "  (function(spec, embedOpt){\n",
       "    let outputDiv = document.currentScript.previousElementSibling;\n",
       "    if (outputDiv.id !== \"altair-viz-d28a00a3e0924731b882baf28385db9c\") {\n",
       "      outputDiv = document.getElementById(\"altair-viz-d28a00a3e0924731b882baf28385db9c\");\n",
       "    }\n",
       "\n",
       "    const paths = {\n",
       "      \"vega\": \"https://cdn.jsdelivr.net/npm/vega@5?noext\",\n",
       "      \"vega-lib\": \"https://cdn.jsdelivr.net/npm/vega-lib?noext\",\n",
       "      \"vega-lite\": \"https://cdn.jsdelivr.net/npm/vega-lite@5.20.1?noext\",\n",
       "      \"vega-embed\": \"https://cdn.jsdelivr.net/npm/vega-embed@6?noext\",\n",
       "    };\n",
       "\n",
       "    function maybeLoadScript(lib, version) {\n",
       "      var key = `${lib.replace(\"-\", \"\")}_version`;\n",
       "      return (VEGA_DEBUG[key] == version) ?\n",
       "        Promise.resolve(paths[lib]) :\n",
       "        new Promise(function(resolve, reject) {\n",
       "          var s = document.createElement('script');\n",
       "          document.getElementsByTagName(\"head\")[0].appendChild(s);\n",
       "          s.async = true;\n",
       "          s.onload = () => {\n",
       "            VEGA_DEBUG[key] = version;\n",
       "            return resolve(paths[lib]);\n",
       "          };\n",
       "          s.onerror = () => reject(`Error loading script: ${paths[lib]}`);\n",
       "          s.src = paths[lib];\n",
       "        });\n",
       "    }\n",
       "\n",
       "    function showError(err) {\n",
       "      outputDiv.innerHTML = `<div class=\"error\" style=\"color:red;\">${err}</div>`;\n",
       "      throw err;\n",
       "    }\n",
       "\n",
       "    function displayChart(vegaEmbed) {\n",
       "      vegaEmbed(outputDiv, spec, embedOpt)\n",
       "        .catch(err => showError(`Javascript Error: ${err.message}<br>This usually means there's a typo in your chart specification. See the javascript console for the full traceback.`));\n",
       "    }\n",
       "\n",
       "    if(typeof define === \"function\" && define.amd) {\n",
       "      requirejs.config({paths});\n",
       "      let deps = [\"vega-embed\"];\n",
       "      require(deps, displayChart, err => showError(`Error loading script: ${err.message}`));\n",
       "    } else {\n",
       "      maybeLoadScript(\"vega\", \"5\")\n",
       "        .then(() => maybeLoadScript(\"vega-lite\", \"5.20.1\"))\n",
       "        .then(() => maybeLoadScript(\"vega-embed\", \"6\"))\n",
       "        .catch(showError)\n",
       "        .then(() => displayChart(vegaEmbed));\n",
       "    }\n",
       "  })({\"config\": {\"view\": {\"continuousWidth\": 300, \"continuousHeight\": 300}}, \"data\": {\"name\": \"data-da3bdcf3328d25ecd9ac3e7b34a2fa37\"}, \"facet\": {\"field\": \"mode\", \"title\": \"Passengers per VRH, by mode\", \"type\": \"nominal\"}, \"spec\": {\"layer\": [{\"mark\": {\"type\": \"point\"}, \"encoding\": {\"color\": {\"field\": \"reporter_type\", \"type\": \"nominal\"}, \"tooltip\": [{\"field\": \"vrh\", \"type\": \"quantitative\"}, {\"field\": \"upt\", \"type\": \"quantitative\"}, {\"field\": \"agency_name\", \"type\": \"nominal\"}], \"x\": {\"field\": \"vrh\", \"scale\": {\"type\": \"log\"}, \"type\": \"quantitative\"}, \"y\": {\"field\": \"upt\", \"type\": \"quantitative\"}}, \"name\": \"view_10\", \"title\": \"\"}, {\"mark\": {\"type\": \"line\"}, \"encoding\": {\"color\": {\"field\": \"reporter_type\", \"type\": \"nominal\"}, \"tooltip\": [{\"field\": \"vrh\", \"type\": \"quantitative\"}, {\"field\": \"upt\", \"type\": \"quantitative\"}, {\"field\": \"agency_name\", \"type\": \"nominal\"}], \"x\": {\"field\": \"vrh\", \"scale\": {\"type\": \"log\"}, \"type\": \"quantitative\"}, \"y\": {\"field\": \"upt\", \"type\": \"quantitative\"}}, \"title\": \"\", \"transform\": [{\"on\": \"vrh\", \"regression\": \"upt\"}]}], \"height\": 150, \"width\": 350}, \"columns\": 2, \"params\": [{\"name\": \"param_10\", \"select\": {\"type\": \"interval\", \"encodings\": [\"x\", \"y\"]}, \"bind\": \"scales\", \"views\": [\"view_10\"]}], \"$schema\": \"https://vega.github.io/schema/vega-lite/v5.20.1.json\", \"datasets\": {\"data-da3bdcf3328d25ecd9ac3e7b34a2fa37\": [{\"agency_name\": \"City of Davis (DCT) - Transit/Parks and Community Services\", \"agency_status\": \"Active\", \"city\": \"Davis\", \"mode\": \"Demand Response\", \"service\": \"Directly Operated\", \"ntd_id\": \"90167\", \"reporter_type\": \"Reduced Reporter\", \"reporting_module\": \"Urban\", \"state\": \"CA\", \"primary_uza_name\": \"Davis, CA\", \"year\": \"2023\", \"upt\": 12956, \"vrh\": 4558, \"vrm\": 47130, \"opexp_total\": 910233, \"RTPA\": \"Sacramento Area Council of Governments\", \"_merge\": \"both\"}, {\"agency_name\": \"County of Sacramento Municipal Services Agency (SCT Link) - Department of Transportation\", \"agency_status\": \"Active\", \"city\": \"Sacramento\", \"mode\": \"Demand Response\", \"service\": \"Purchased Transportation\", \"ntd_id\": \"90216\", \"reporter_type\": \"Reduced Reporter\", \"reporting_module\": \"Urban\", \"state\": \"CA\", \"primary_uza_name\": \"Sacramento, CA\", \"year\": \"2023\", \"upt\": 23933, \"vrh\": 8420, \"vrm\": 93665, \"opexp_total\": 1761821, \"RTPA\": \"Sacramento Area Council of Governments\", \"_merge\": \"both\"}, {\"agency_name\": \"County of Sacramento Municipal Services Agency (SCT Link) - Department of Transportation\", \"agency_status\": \"Active\", \"city\": \"Sacramento\", \"mode\": \"Commuter Bus\", \"service\": \"Purchased Transportation\", \"ntd_id\": \"90216\", \"reporter_type\": \"Reduced Reporter\", \"reporting_module\": \"Urban\", \"state\": \"CA\", \"primary_uza_name\": \"Sacramento, CA\", \"year\": \"2023\", \"upt\": 21872, \"vrh\": 8941, \"vrm\": 258550, \"opexp_total\": 329434, \"RTPA\": \"Sacramento Area Council of Governments\", \"_merge\": \"both\"}, {\"agency_name\": \"County of Sacramento Municipal Services Agency (SCT Link) - Department of Transportation\", \"agency_status\": \"Active\", \"city\": \"Sacramento\", \"mode\": \"Bus\", \"service\": \"Purchased Transportation\", \"ntd_id\": \"90216\", \"reporter_type\": \"Reduced Reporter\", \"reporting_module\": \"Urban\", \"state\": \"CA\", \"primary_uza_name\": \"Sacramento, CA\", \"year\": \"2023\", \"upt\": 2184, \"vrh\": 2094, \"vrm\": 65959, \"opexp_total\": 501557, \"RTPA\": \"Sacramento Area Council of Governments\", \"_merge\": \"both\"}, {\"agency_name\": \"Paratransit, Inc.\", \"agency_status\": \"Active\", \"city\": \"Sacramento\", \"mode\": \"Demand Response\", \"service\": \"Directly Operated\", \"ntd_id\": \"90223\", \"reporter_type\": \"Full Reporter\", \"reporting_module\": \"Urban\", \"state\": \"CA\", \"primary_uza_name\": \"Sacramento, CA\", \"year\": \"2023\", \"upt\": 41481, \"vrh\": 25080, \"vrm\": 424440, \"opexp_total\": 2373789, \"RTPA\": \"Sacramento Area Council of Governments\", \"_merge\": \"both\"}, {\"agency_name\": \"Sacramento Regional Transit District\", \"agency_status\": \"Active\", \"city\": \"Sacramento\", \"mode\": \"Demand Response\", \"service\": \"Purchased Transportation - Transportation Network Company\", \"ntd_id\": \"90019\", \"reporter_type\": \"Full Reporter\", \"reporting_module\": \"Urban\", \"state\": \"CA\", \"primary_uza_name\": \"Sacramento, CA\", \"year\": \"2023\", \"upt\": 64291, \"vrh\": 24023, \"vrm\": 529423, \"opexp_total\": 2875752, \"RTPA\": \"Sacramento Area Council of Governments\", \"_merge\": \"both\"}, {\"agency_name\": \"Sacramento Regional Transit District\", \"agency_status\": \"Active\", \"city\": \"Sacramento\", \"mode\": \"Light Rail\", \"service\": \"Directly Operated\", \"ntd_id\": \"90019\", \"reporter_type\": \"Full Reporter\", \"reporting_module\": \"Urban\", \"state\": \"CA\", \"primary_uza_name\": \"Sacramento, CA\", \"year\": \"2023\", \"upt\": 6140920, \"vrh\": 199774, \"vrm\": 3588470, \"opexp_total\": 83048077, \"RTPA\": \"Sacramento Area Council of Governments\", \"_merge\": \"both\"}, {\"agency_name\": \"Sacramento Regional Transit District\", \"agency_status\": \"Active\", \"city\": \"Sacramento\", \"mode\": \"Demand Response\", \"service\": \"Directly Operated\", \"ntd_id\": \"90019\", \"reporter_type\": \"Full Reporter\", \"reporting_module\": \"Urban\", \"state\": \"CA\", \"primary_uza_name\": \"Sacramento, CA\", \"year\": \"2023\", \"upt\": 429347, \"vrh\": 176917, \"vrm\": 2695918, \"opexp_total\": 31106478, \"RTPA\": \"Sacramento Area Council of Governments\", \"_merge\": \"both\"}, {\"agency_name\": \"Sacramento Regional Transit District\", \"agency_status\": \"Active\", \"city\": \"Sacramento\", \"mode\": \"Bus\", \"service\": \"Directly Operated\", \"ntd_id\": \"90019\", \"reporter_type\": \"Full Reporter\", \"reporting_module\": \"Urban\", \"state\": \"CA\", \"primary_uza_name\": \"Sacramento, CA\", \"year\": \"2023\", \"upt\": 7715110, \"vrh\": 618702, \"vrm\": 7219695, \"opexp_total\": 121328770, \"RTPA\": \"Sacramento Area Council of Governments\", \"_merge\": \"both\"}, {\"agency_name\": \"University of California, Davis (ASUCD) - Associated Students of the University of California, Davis\", \"agency_status\": \"Active\", \"city\": \"Davis\", \"mode\": \"Bus\", \"service\": \"Directly Operated\", \"ntd_id\": \"90142\", \"reporter_type\": \"Full Reporter\", \"reporting_module\": \"Urban\", \"state\": \"CA\", \"primary_uza_name\": \"Davis, CA\", \"year\": \"2023\", \"upt\": 3028186, \"vrh\": 66932, \"vrm\": 697377, \"opexp_total\": 8411384, \"RTPA\": \"Sacramento Area Council of Governments\", \"_merge\": \"both\"}, {\"agency_name\": \"Yolo County Transportation District (YCTD)\", \"agency_status\": \"Active\", \"city\": \"Woodland\", \"mode\": \"Demand Response\", \"service\": \"Purchased Transportation\", \"ntd_id\": \"90090\", \"reporter_type\": \"Full Reporter\", \"reporting_module\": \"Urban\", \"state\": \"CA\", \"primary_uza_name\": \"Sacramento, CA\", \"year\": \"2023\", \"upt\": 33216, \"vrh\": 22370, \"vrm\": 407483, \"opexp_total\": 2937160, \"RTPA\": \"Sacramento Area Council of Governments\", \"_merge\": \"both\"}, {\"agency_name\": \"Yolo County Transportation District (YCTD)\", \"agency_status\": \"Active\", \"city\": \"Woodland\", \"mode\": \"Bus\", \"service\": \"Purchased Transportation\", \"ntd_id\": \"90090\", \"reporter_type\": \"Full Reporter\", \"reporting_module\": \"Urban\", \"state\": \"CA\", \"primary_uza_name\": \"Sacramento, CA\", \"year\": \"2023\", \"upt\": 644178, \"vrh\": 71370, \"vrm\": 1576566, \"opexp_total\": 11917092, \"RTPA\": \"Sacramento Area Council of Governments\", \"_merge\": \"both\"}, {\"agency_name\": \"Yuba-Sutter Transit Authority (YSTA)\", \"agency_status\": \"Active\", \"city\": \"Marysville\", \"mode\": \"Bus\", \"service\": \"Purchased Transportation\", \"ntd_id\": \"90061\", \"reporter_type\": \"Reduced Reporter\", \"reporting_module\": \"Urban\", \"state\": \"CA\", \"primary_uza_name\": \"Yuba City, CA\", \"year\": \"2023\", \"upt\": 442664, \"vrh\": 41852, \"vrm\": 497053, \"opexp_total\": 4741997, \"RTPA\": \"Sacramento Area Council of Governments\", \"_merge\": \"both\"}, {\"agency_name\": \"Yuba-Sutter Transit Authority (YSTA)\", \"agency_status\": \"Active\", \"city\": \"Marysville\", \"mode\": \"Demand Response\", \"service\": \"Purchased Transportation\", \"ntd_id\": \"90061\", \"reporter_type\": \"Reduced Reporter\", \"reporting_module\": \"Urban\", \"state\": \"CA\", \"primary_uza_name\": \"Yuba City, CA\", \"year\": \"2023\", \"upt\": 35256, \"vrh\": 17502, \"vrm\": 211943, \"opexp_total\": 2125604, \"RTPA\": \"Sacramento Area Council of Governments\", \"_merge\": \"both\"}, {\"agency_name\": \"Yuba-Sutter Transit Authority (YSTA)\", \"agency_status\": \"Active\", \"city\": \"Marysville\", \"mode\": \"Commuter Bus\", \"service\": \"Purchased Transportation\", \"ntd_id\": \"90061\", \"reporter_type\": \"Reduced Reporter\", \"reporting_module\": \"Urban\", \"state\": \"CA\", \"primary_uza_name\": \"Yuba City, CA\", \"year\": \"2023\", \"upt\": 38456, \"vrh\": 6960, \"vrm\": 266963, \"opexp_total\": 1329474, \"RTPA\": \"Sacramento Area Council of Governments\", \"_merge\": \"both\"}]}}, {\"mode\": \"vega-lite\"});\n",
       "</script>"
      ],
      "text/plain": [
       "alt.FacetChart(...)"
      ]
     },
     "execution_count": 17,
     "metadata": {},
     "output_type": "execute_result"
    }
   ],
   "source": [
    "make_scatter(\n",
    "    data=df[df[\"year\"] == \"2023\"],\n",
    "    y_ax=\"upt\",\n",
    "    x_ax=\"vrh\",\n",
    "    color=\"reporter_type\",\n",
    "    log_scale=True,\n",
    "    lin_y_ax=True,\n",
    "    chart_title=\"\"\n",
    ").facet(\n",
    "    facet=alt.Facet(\"mode\",\n",
    "                   title=\"Passengers per VRH, by mode\"),\n",
    "    columns=2,\n",
    ")"
   ]
  },
  {
   "cell_type": "code",
   "execution_count": 18,
   "id": "e6de13f0-8dd3-4b45-840b-055500430400",
   "metadata": {
    "tags": []
   },
   "outputs": [
    {
     "name": "stdout",
     "output_type": "stream",
     "text": [
      "0 rows with zero or negative values excluded due to log scale.\n"
     ]
    },
    {
     "data": {
      "text/html": [
       "\n",
       "<style>\n",
       "  #altair-viz-b6f48506966c4c56b5ef075e1ecb6e24.vega-embed {\n",
       "    width: 100%;\n",
       "    display: flex;\n",
       "  }\n",
       "\n",
       "  #altair-viz-b6f48506966c4c56b5ef075e1ecb6e24.vega-embed details,\n",
       "  #altair-viz-b6f48506966c4c56b5ef075e1ecb6e24.vega-embed details summary {\n",
       "    position: relative;\n",
       "  }\n",
       "</style>\n",
       "<div id=\"altair-viz-b6f48506966c4c56b5ef075e1ecb6e24\"></div>\n",
       "<script type=\"text/javascript\">\n",
       "  var VEGA_DEBUG = (typeof VEGA_DEBUG == \"undefined\") ? {} : VEGA_DEBUG;\n",
       "  (function(spec, embedOpt){\n",
       "    let outputDiv = document.currentScript.previousElementSibling;\n",
       "    if (outputDiv.id !== \"altair-viz-b6f48506966c4c56b5ef075e1ecb6e24\") {\n",
       "      outputDiv = document.getElementById(\"altair-viz-b6f48506966c4c56b5ef075e1ecb6e24\");\n",
       "    }\n",
       "\n",
       "    const paths = {\n",
       "      \"vega\": \"https://cdn.jsdelivr.net/npm/vega@5?noext\",\n",
       "      \"vega-lib\": \"https://cdn.jsdelivr.net/npm/vega-lib?noext\",\n",
       "      \"vega-lite\": \"https://cdn.jsdelivr.net/npm/vega-lite@5.20.1?noext\",\n",
       "      \"vega-embed\": \"https://cdn.jsdelivr.net/npm/vega-embed@6?noext\",\n",
       "    };\n",
       "\n",
       "    function maybeLoadScript(lib, version) {\n",
       "      var key = `${lib.replace(\"-\", \"\")}_version`;\n",
       "      return (VEGA_DEBUG[key] == version) ?\n",
       "        Promise.resolve(paths[lib]) :\n",
       "        new Promise(function(resolve, reject) {\n",
       "          var s = document.createElement('script');\n",
       "          document.getElementsByTagName(\"head\")[0].appendChild(s);\n",
       "          s.async = true;\n",
       "          s.onload = () => {\n",
       "            VEGA_DEBUG[key] = version;\n",
       "            return resolve(paths[lib]);\n",
       "          };\n",
       "          s.onerror = () => reject(`Error loading script: ${paths[lib]}`);\n",
       "          s.src = paths[lib];\n",
       "        });\n",
       "    }\n",
       "\n",
       "    function showError(err) {\n",
       "      outputDiv.innerHTML = `<div class=\"error\" style=\"color:red;\">${err}</div>`;\n",
       "      throw err;\n",
       "    }\n",
       "\n",
       "    function displayChart(vegaEmbed) {\n",
       "      vegaEmbed(outputDiv, spec, embedOpt)\n",
       "        .catch(err => showError(`Javascript Error: ${err.message}<br>This usually means there's a typo in your chart specification. See the javascript console for the full traceback.`));\n",
       "    }\n",
       "\n",
       "    if(typeof define === \"function\" && define.amd) {\n",
       "      requirejs.config({paths});\n",
       "      let deps = [\"vega-embed\"];\n",
       "      require(deps, displayChart, err => showError(`Error loading script: ${err.message}`));\n",
       "    } else {\n",
       "      maybeLoadScript(\"vega\", \"5\")\n",
       "        .then(() => maybeLoadScript(\"vega-lite\", \"5.20.1\"))\n",
       "        .then(() => maybeLoadScript(\"vega-embed\", \"6\"))\n",
       "        .catch(showError)\n",
       "        .then(() => displayChart(vegaEmbed));\n",
       "    }\n",
       "  })({\"config\": {\"view\": {\"continuousWidth\": 300, \"continuousHeight\": 300}}, \"data\": {\"name\": \"data-da3bdcf3328d25ecd9ac3e7b34a2fa37\"}, \"facet\": {\"field\": \"service\", \"title\": \"Passengers per VRH, by Type of Service\", \"type\": \"nominal\"}, \"spec\": {\"layer\": [{\"mark\": {\"type\": \"point\"}, \"encoding\": {\"color\": {\"field\": \"reporter_type\", \"type\": \"nominal\"}, \"tooltip\": [{\"field\": \"vrh\", \"type\": \"quantitative\"}, {\"field\": \"upt\", \"type\": \"quantitative\"}, {\"field\": \"agency_name\", \"type\": \"nominal\"}], \"x\": {\"field\": \"vrh\", \"scale\": {\"type\": \"log\"}, \"type\": \"quantitative\"}, \"y\": {\"field\": \"upt\", \"type\": \"quantitative\"}}, \"name\": \"view_11\", \"title\": \"\"}, {\"mark\": {\"type\": \"line\"}, \"encoding\": {\"color\": {\"field\": \"reporter_type\", \"type\": \"nominal\"}, \"tooltip\": [{\"field\": \"vrh\", \"type\": \"quantitative\"}, {\"field\": \"upt\", \"type\": \"quantitative\"}, {\"field\": \"agency_name\", \"type\": \"nominal\"}], \"x\": {\"field\": \"vrh\", \"scale\": {\"type\": \"log\"}, \"type\": \"quantitative\"}, \"y\": {\"field\": \"upt\", \"type\": \"quantitative\"}}, \"title\": \"\", \"transform\": [{\"on\": \"vrh\", \"regression\": \"upt\"}]}], \"height\": 150, \"width\": 350}, \"columns\": 2, \"params\": [{\"name\": \"param_11\", \"select\": {\"type\": \"interval\", \"encodings\": [\"x\", \"y\"]}, \"bind\": \"scales\", \"views\": [\"view_11\"]}], \"$schema\": \"https://vega.github.io/schema/vega-lite/v5.20.1.json\", \"datasets\": {\"data-da3bdcf3328d25ecd9ac3e7b34a2fa37\": [{\"agency_name\": \"City of Davis (DCT) - Transit/Parks and Community Services\", \"agency_status\": \"Active\", \"city\": \"Davis\", \"mode\": \"Demand Response\", \"service\": \"Directly Operated\", \"ntd_id\": \"90167\", \"reporter_type\": \"Reduced Reporter\", \"reporting_module\": \"Urban\", \"state\": \"CA\", \"primary_uza_name\": \"Davis, CA\", \"year\": \"2023\", \"upt\": 12956, \"vrh\": 4558, \"vrm\": 47130, \"opexp_total\": 910233, \"RTPA\": \"Sacramento Area Council of Governments\", \"_merge\": \"both\"}, {\"agency_name\": \"County of Sacramento Municipal Services Agency (SCT Link) - Department of Transportation\", \"agency_status\": \"Active\", \"city\": \"Sacramento\", \"mode\": \"Demand Response\", \"service\": \"Purchased Transportation\", \"ntd_id\": \"90216\", \"reporter_type\": \"Reduced Reporter\", \"reporting_module\": \"Urban\", \"state\": \"CA\", \"primary_uza_name\": \"Sacramento, CA\", \"year\": \"2023\", \"upt\": 23933, \"vrh\": 8420, \"vrm\": 93665, \"opexp_total\": 1761821, \"RTPA\": \"Sacramento Area Council of Governments\", \"_merge\": \"both\"}, {\"agency_name\": \"County of Sacramento Municipal Services Agency (SCT Link) - Department of Transportation\", \"agency_status\": \"Active\", \"city\": \"Sacramento\", \"mode\": \"Commuter Bus\", \"service\": \"Purchased Transportation\", \"ntd_id\": \"90216\", \"reporter_type\": \"Reduced Reporter\", \"reporting_module\": \"Urban\", \"state\": \"CA\", \"primary_uza_name\": \"Sacramento, CA\", \"year\": \"2023\", \"upt\": 21872, \"vrh\": 8941, \"vrm\": 258550, \"opexp_total\": 329434, \"RTPA\": \"Sacramento Area Council of Governments\", \"_merge\": \"both\"}, {\"agency_name\": \"County of Sacramento Municipal Services Agency (SCT Link) - Department of Transportation\", \"agency_status\": \"Active\", \"city\": \"Sacramento\", \"mode\": \"Bus\", \"service\": \"Purchased Transportation\", \"ntd_id\": \"90216\", \"reporter_type\": \"Reduced Reporter\", \"reporting_module\": \"Urban\", \"state\": \"CA\", \"primary_uza_name\": \"Sacramento, CA\", \"year\": \"2023\", \"upt\": 2184, \"vrh\": 2094, \"vrm\": 65959, \"opexp_total\": 501557, \"RTPA\": \"Sacramento Area Council of Governments\", \"_merge\": \"both\"}, {\"agency_name\": \"Paratransit, Inc.\", \"agency_status\": \"Active\", \"city\": \"Sacramento\", \"mode\": \"Demand Response\", \"service\": \"Directly Operated\", \"ntd_id\": \"90223\", \"reporter_type\": \"Full Reporter\", \"reporting_module\": \"Urban\", \"state\": \"CA\", \"primary_uza_name\": \"Sacramento, CA\", \"year\": \"2023\", \"upt\": 41481, \"vrh\": 25080, \"vrm\": 424440, \"opexp_total\": 2373789, \"RTPA\": \"Sacramento Area Council of Governments\", \"_merge\": \"both\"}, {\"agency_name\": \"Sacramento Regional Transit District\", \"agency_status\": \"Active\", \"city\": \"Sacramento\", \"mode\": \"Demand Response\", \"service\": \"Purchased Transportation - Transportation Network Company\", \"ntd_id\": \"90019\", \"reporter_type\": \"Full Reporter\", \"reporting_module\": \"Urban\", \"state\": \"CA\", \"primary_uza_name\": \"Sacramento, CA\", \"year\": \"2023\", \"upt\": 64291, \"vrh\": 24023, \"vrm\": 529423, \"opexp_total\": 2875752, \"RTPA\": \"Sacramento Area Council of Governments\", \"_merge\": \"both\"}, {\"agency_name\": \"Sacramento Regional Transit District\", \"agency_status\": \"Active\", \"city\": \"Sacramento\", \"mode\": \"Light Rail\", \"service\": \"Directly Operated\", \"ntd_id\": \"90019\", \"reporter_type\": \"Full Reporter\", \"reporting_module\": \"Urban\", \"state\": \"CA\", \"primary_uza_name\": \"Sacramento, CA\", \"year\": \"2023\", \"upt\": 6140920, \"vrh\": 199774, \"vrm\": 3588470, \"opexp_total\": 83048077, \"RTPA\": \"Sacramento Area Council of Governments\", \"_merge\": \"both\"}, {\"agency_name\": \"Sacramento Regional Transit District\", \"agency_status\": \"Active\", \"city\": \"Sacramento\", \"mode\": \"Demand Response\", \"service\": \"Directly Operated\", \"ntd_id\": \"90019\", \"reporter_type\": \"Full Reporter\", \"reporting_module\": \"Urban\", \"state\": \"CA\", \"primary_uza_name\": \"Sacramento, CA\", \"year\": \"2023\", \"upt\": 429347, \"vrh\": 176917, \"vrm\": 2695918, \"opexp_total\": 31106478, \"RTPA\": \"Sacramento Area Council of Governments\", \"_merge\": \"both\"}, {\"agency_name\": \"Sacramento Regional Transit District\", \"agency_status\": \"Active\", \"city\": \"Sacramento\", \"mode\": \"Bus\", \"service\": \"Directly Operated\", \"ntd_id\": \"90019\", \"reporter_type\": \"Full Reporter\", \"reporting_module\": \"Urban\", \"state\": \"CA\", \"primary_uza_name\": \"Sacramento, CA\", \"year\": \"2023\", \"upt\": 7715110, \"vrh\": 618702, \"vrm\": 7219695, \"opexp_total\": 121328770, \"RTPA\": \"Sacramento Area Council of Governments\", \"_merge\": \"both\"}, {\"agency_name\": \"University of California, Davis (ASUCD) - Associated Students of the University of California, Davis\", \"agency_status\": \"Active\", \"city\": \"Davis\", \"mode\": \"Bus\", \"service\": \"Directly Operated\", \"ntd_id\": \"90142\", \"reporter_type\": \"Full Reporter\", \"reporting_module\": \"Urban\", \"state\": \"CA\", \"primary_uza_name\": \"Davis, CA\", \"year\": \"2023\", \"upt\": 3028186, \"vrh\": 66932, \"vrm\": 697377, \"opexp_total\": 8411384, \"RTPA\": \"Sacramento Area Council of Governments\", \"_merge\": \"both\"}, {\"agency_name\": \"Yolo County Transportation District (YCTD)\", \"agency_status\": \"Active\", \"city\": \"Woodland\", \"mode\": \"Demand Response\", \"service\": \"Purchased Transportation\", \"ntd_id\": \"90090\", \"reporter_type\": \"Full Reporter\", \"reporting_module\": \"Urban\", \"state\": \"CA\", \"primary_uza_name\": \"Sacramento, CA\", \"year\": \"2023\", \"upt\": 33216, \"vrh\": 22370, \"vrm\": 407483, \"opexp_total\": 2937160, \"RTPA\": \"Sacramento Area Council of Governments\", \"_merge\": \"both\"}, {\"agency_name\": \"Yolo County Transportation District (YCTD)\", \"agency_status\": \"Active\", \"city\": \"Woodland\", \"mode\": \"Bus\", \"service\": \"Purchased Transportation\", \"ntd_id\": \"90090\", \"reporter_type\": \"Full Reporter\", \"reporting_module\": \"Urban\", \"state\": \"CA\", \"primary_uza_name\": \"Sacramento, CA\", \"year\": \"2023\", \"upt\": 644178, \"vrh\": 71370, \"vrm\": 1576566, \"opexp_total\": 11917092, \"RTPA\": \"Sacramento Area Council of Governments\", \"_merge\": \"both\"}, {\"agency_name\": \"Yuba-Sutter Transit Authority (YSTA)\", \"agency_status\": \"Active\", \"city\": \"Marysville\", \"mode\": \"Bus\", \"service\": \"Purchased Transportation\", \"ntd_id\": \"90061\", \"reporter_type\": \"Reduced Reporter\", \"reporting_module\": \"Urban\", \"state\": \"CA\", \"primary_uza_name\": \"Yuba City, CA\", \"year\": \"2023\", \"upt\": 442664, \"vrh\": 41852, \"vrm\": 497053, \"opexp_total\": 4741997, \"RTPA\": \"Sacramento Area Council of Governments\", \"_merge\": \"both\"}, {\"agency_name\": \"Yuba-Sutter Transit Authority (YSTA)\", \"agency_status\": \"Active\", \"city\": \"Marysville\", \"mode\": \"Demand Response\", \"service\": \"Purchased Transportation\", \"ntd_id\": \"90061\", \"reporter_type\": \"Reduced Reporter\", \"reporting_module\": \"Urban\", \"state\": \"CA\", \"primary_uza_name\": \"Yuba City, CA\", \"year\": \"2023\", \"upt\": 35256, \"vrh\": 17502, \"vrm\": 211943, \"opexp_total\": 2125604, \"RTPA\": \"Sacramento Area Council of Governments\", \"_merge\": \"both\"}, {\"agency_name\": \"Yuba-Sutter Transit Authority (YSTA)\", \"agency_status\": \"Active\", \"city\": \"Marysville\", \"mode\": \"Commuter Bus\", \"service\": \"Purchased Transportation\", \"ntd_id\": \"90061\", \"reporter_type\": \"Reduced Reporter\", \"reporting_module\": \"Urban\", \"state\": \"CA\", \"primary_uza_name\": \"Yuba City, CA\", \"year\": \"2023\", \"upt\": 38456, \"vrh\": 6960, \"vrm\": 266963, \"opexp_total\": 1329474, \"RTPA\": \"Sacramento Area Council of Governments\", \"_merge\": \"both\"}]}}, {\"mode\": \"vega-lite\"});\n",
       "</script>"
      ],
      "text/plain": [
       "alt.FacetChart(...)"
      ]
     },
     "execution_count": 18,
     "metadata": {},
     "output_type": "execute_result"
    }
   ],
   "source": [
    "make_scatter(\n",
    "    data=df[df[\"year\"] == \"2023\"],\n",
    "    y_ax=\"upt\",\n",
    "    x_ax=\"vrh\",\n",
    "    color=\"reporter_type\",\n",
    "    log_scale=True,\n",
    "    lin_y_ax=True,\n",
    "    chart_title=\"\"\n",
    ").facet(\n",
    "    facet=alt.Facet(\"service\",\n",
    "                   title=\"Passengers per VRH, by Type of Service\"),\n",
    "    columns=2,\n",
    ")"
   ]
  },
  {
   "cell_type": "markdown",
   "id": "7769885f-c5dc-4003-9dc3-84d7c1f93b33",
   "metadata": {
    "tags": []
   },
   "source": [
    "### Passengers per VRM\n",
    "Higher is better"
   ]
  },
  {
   "cell_type": "code",
   "execution_count": 19,
   "id": "307f2deb-c892-4fd4-b80c-1c1c2a1d286d",
   "metadata": {
    "tags": []
   },
   "outputs": [
    {
     "name": "stdout",
     "output_type": "stream",
     "text": [
      "0 rows with zero or negative values excluded due to log scale.\n"
     ]
    },
    {
     "data": {
      "text/html": [
       "\n",
       "<style>\n",
       "  #altair-viz-11d2d29cf7eb4656b56a550f7b917cc9.vega-embed {\n",
       "    width: 100%;\n",
       "    display: flex;\n",
       "  }\n",
       "\n",
       "  #altair-viz-11d2d29cf7eb4656b56a550f7b917cc9.vega-embed details,\n",
       "  #altair-viz-11d2d29cf7eb4656b56a550f7b917cc9.vega-embed details summary {\n",
       "    position: relative;\n",
       "  }\n",
       "</style>\n",
       "<div id=\"altair-viz-11d2d29cf7eb4656b56a550f7b917cc9\"></div>\n",
       "<script type=\"text/javascript\">\n",
       "  var VEGA_DEBUG = (typeof VEGA_DEBUG == \"undefined\") ? {} : VEGA_DEBUG;\n",
       "  (function(spec, embedOpt){\n",
       "    let outputDiv = document.currentScript.previousElementSibling;\n",
       "    if (outputDiv.id !== \"altair-viz-11d2d29cf7eb4656b56a550f7b917cc9\") {\n",
       "      outputDiv = document.getElementById(\"altair-viz-11d2d29cf7eb4656b56a550f7b917cc9\");\n",
       "    }\n",
       "\n",
       "    const paths = {\n",
       "      \"vega\": \"https://cdn.jsdelivr.net/npm/vega@5?noext\",\n",
       "      \"vega-lib\": \"https://cdn.jsdelivr.net/npm/vega-lib?noext\",\n",
       "      \"vega-lite\": \"https://cdn.jsdelivr.net/npm/vega-lite@5.20.1?noext\",\n",
       "      \"vega-embed\": \"https://cdn.jsdelivr.net/npm/vega-embed@6?noext\",\n",
       "    };\n",
       "\n",
       "    function maybeLoadScript(lib, version) {\n",
       "      var key = `${lib.replace(\"-\", \"\")}_version`;\n",
       "      return (VEGA_DEBUG[key] == version) ?\n",
       "        Promise.resolve(paths[lib]) :\n",
       "        new Promise(function(resolve, reject) {\n",
       "          var s = document.createElement('script');\n",
       "          document.getElementsByTagName(\"head\")[0].appendChild(s);\n",
       "          s.async = true;\n",
       "          s.onload = () => {\n",
       "            VEGA_DEBUG[key] = version;\n",
       "            return resolve(paths[lib]);\n",
       "          };\n",
       "          s.onerror = () => reject(`Error loading script: ${paths[lib]}`);\n",
       "          s.src = paths[lib];\n",
       "        });\n",
       "    }\n",
       "\n",
       "    function showError(err) {\n",
       "      outputDiv.innerHTML = `<div class=\"error\" style=\"color:red;\">${err}</div>`;\n",
       "      throw err;\n",
       "    }\n",
       "\n",
       "    function displayChart(vegaEmbed) {\n",
       "      vegaEmbed(outputDiv, spec, embedOpt)\n",
       "        .catch(err => showError(`Javascript Error: ${err.message}<br>This usually means there's a typo in your chart specification. See the javascript console for the full traceback.`));\n",
       "    }\n",
       "\n",
       "    if(typeof define === \"function\" && define.amd) {\n",
       "      requirejs.config({paths});\n",
       "      let deps = [\"vega-embed\"];\n",
       "      require(deps, displayChart, err => showError(`Error loading script: ${err.message}`));\n",
       "    } else {\n",
       "      maybeLoadScript(\"vega\", \"5\")\n",
       "        .then(() => maybeLoadScript(\"vega-lite\", \"5.20.1\"))\n",
       "        .then(() => maybeLoadScript(\"vega-embed\", \"6\"))\n",
       "        .catch(showError)\n",
       "        .then(() => displayChart(vegaEmbed));\n",
       "    }\n",
       "  })({\"config\": {\"view\": {\"continuousWidth\": 300, \"continuousHeight\": 300}}, \"data\": {\"name\": \"data-da3bdcf3328d25ecd9ac3e7b34a2fa37\"}, \"facet\": {\"field\": \"mode\", \"title\": \"Passengers per VRM, by mode\", \"type\": \"nominal\"}, \"spec\": {\"layer\": [{\"mark\": {\"type\": \"point\"}, \"encoding\": {\"color\": {\"field\": \"reporter_type\", \"type\": \"nominal\"}, \"tooltip\": [{\"field\": \"vrm\", \"type\": \"quantitative\"}, {\"field\": \"upt\", \"type\": \"quantitative\"}, {\"field\": \"agency_name\", \"type\": \"nominal\"}], \"x\": {\"field\": \"vrm\", \"scale\": {\"type\": \"log\"}, \"type\": \"quantitative\"}, \"y\": {\"field\": \"upt\", \"type\": \"quantitative\"}}, \"name\": \"view_12\", \"title\": \"\"}, {\"mark\": {\"type\": \"line\"}, \"encoding\": {\"color\": {\"field\": \"reporter_type\", \"type\": \"nominal\"}, \"tooltip\": [{\"field\": \"vrm\", \"type\": \"quantitative\"}, {\"field\": \"upt\", \"type\": \"quantitative\"}, {\"field\": \"agency_name\", \"type\": \"nominal\"}], \"x\": {\"field\": \"vrm\", \"scale\": {\"type\": \"log\"}, \"type\": \"quantitative\"}, \"y\": {\"field\": \"upt\", \"type\": \"quantitative\"}}, \"title\": \"\", \"transform\": [{\"on\": \"vrm\", \"regression\": \"upt\"}]}], \"height\": 150, \"width\": 350}, \"columns\": 2, \"params\": [{\"name\": \"param_12\", \"select\": {\"type\": \"interval\", \"encodings\": [\"x\", \"y\"]}, \"bind\": \"scales\", \"views\": [\"view_12\"]}], \"$schema\": \"https://vega.github.io/schema/vega-lite/v5.20.1.json\", \"datasets\": {\"data-da3bdcf3328d25ecd9ac3e7b34a2fa37\": [{\"agency_name\": \"City of Davis (DCT) - Transit/Parks and Community Services\", \"agency_status\": \"Active\", \"city\": \"Davis\", \"mode\": \"Demand Response\", \"service\": \"Directly Operated\", \"ntd_id\": \"90167\", \"reporter_type\": \"Reduced Reporter\", \"reporting_module\": \"Urban\", \"state\": \"CA\", \"primary_uza_name\": \"Davis, CA\", \"year\": \"2023\", \"upt\": 12956, \"vrh\": 4558, \"vrm\": 47130, \"opexp_total\": 910233, \"RTPA\": \"Sacramento Area Council of Governments\", \"_merge\": \"both\"}, {\"agency_name\": \"County of Sacramento Municipal Services Agency (SCT Link) - Department of Transportation\", \"agency_status\": \"Active\", \"city\": \"Sacramento\", \"mode\": \"Demand Response\", \"service\": \"Purchased Transportation\", \"ntd_id\": \"90216\", \"reporter_type\": \"Reduced Reporter\", \"reporting_module\": \"Urban\", \"state\": \"CA\", \"primary_uza_name\": \"Sacramento, CA\", \"year\": \"2023\", \"upt\": 23933, \"vrh\": 8420, \"vrm\": 93665, \"opexp_total\": 1761821, \"RTPA\": \"Sacramento Area Council of Governments\", \"_merge\": \"both\"}, {\"agency_name\": \"County of Sacramento Municipal Services Agency (SCT Link) - Department of Transportation\", \"agency_status\": \"Active\", \"city\": \"Sacramento\", \"mode\": \"Commuter Bus\", \"service\": \"Purchased Transportation\", \"ntd_id\": \"90216\", \"reporter_type\": \"Reduced Reporter\", \"reporting_module\": \"Urban\", \"state\": \"CA\", \"primary_uza_name\": \"Sacramento, CA\", \"year\": \"2023\", \"upt\": 21872, \"vrh\": 8941, \"vrm\": 258550, \"opexp_total\": 329434, \"RTPA\": \"Sacramento Area Council of Governments\", \"_merge\": \"both\"}, {\"agency_name\": \"County of Sacramento Municipal Services Agency (SCT Link) - Department of Transportation\", \"agency_status\": \"Active\", \"city\": \"Sacramento\", \"mode\": \"Bus\", \"service\": \"Purchased Transportation\", \"ntd_id\": \"90216\", \"reporter_type\": \"Reduced Reporter\", \"reporting_module\": \"Urban\", \"state\": \"CA\", \"primary_uza_name\": \"Sacramento, CA\", \"year\": \"2023\", \"upt\": 2184, \"vrh\": 2094, \"vrm\": 65959, \"opexp_total\": 501557, \"RTPA\": \"Sacramento Area Council of Governments\", \"_merge\": \"both\"}, {\"agency_name\": \"Paratransit, Inc.\", \"agency_status\": \"Active\", \"city\": \"Sacramento\", \"mode\": \"Demand Response\", \"service\": \"Directly Operated\", \"ntd_id\": \"90223\", \"reporter_type\": \"Full Reporter\", \"reporting_module\": \"Urban\", \"state\": \"CA\", \"primary_uza_name\": \"Sacramento, CA\", \"year\": \"2023\", \"upt\": 41481, \"vrh\": 25080, \"vrm\": 424440, \"opexp_total\": 2373789, \"RTPA\": \"Sacramento Area Council of Governments\", \"_merge\": \"both\"}, {\"agency_name\": \"Sacramento Regional Transit District\", \"agency_status\": \"Active\", \"city\": \"Sacramento\", \"mode\": \"Demand Response\", \"service\": \"Purchased Transportation - Transportation Network Company\", \"ntd_id\": \"90019\", \"reporter_type\": \"Full Reporter\", \"reporting_module\": \"Urban\", \"state\": \"CA\", \"primary_uza_name\": \"Sacramento, CA\", \"year\": \"2023\", \"upt\": 64291, \"vrh\": 24023, \"vrm\": 529423, \"opexp_total\": 2875752, \"RTPA\": \"Sacramento Area Council of Governments\", \"_merge\": \"both\"}, {\"agency_name\": \"Sacramento Regional Transit District\", \"agency_status\": \"Active\", \"city\": \"Sacramento\", \"mode\": \"Light Rail\", \"service\": \"Directly Operated\", \"ntd_id\": \"90019\", \"reporter_type\": \"Full Reporter\", \"reporting_module\": \"Urban\", \"state\": \"CA\", \"primary_uza_name\": \"Sacramento, CA\", \"year\": \"2023\", \"upt\": 6140920, \"vrh\": 199774, \"vrm\": 3588470, \"opexp_total\": 83048077, \"RTPA\": \"Sacramento Area Council of Governments\", \"_merge\": \"both\"}, {\"agency_name\": \"Sacramento Regional Transit District\", \"agency_status\": \"Active\", \"city\": \"Sacramento\", \"mode\": \"Demand Response\", \"service\": \"Directly Operated\", \"ntd_id\": \"90019\", \"reporter_type\": \"Full Reporter\", \"reporting_module\": \"Urban\", \"state\": \"CA\", \"primary_uza_name\": \"Sacramento, CA\", \"year\": \"2023\", \"upt\": 429347, \"vrh\": 176917, \"vrm\": 2695918, \"opexp_total\": 31106478, \"RTPA\": \"Sacramento Area Council of Governments\", \"_merge\": \"both\"}, {\"agency_name\": \"Sacramento Regional Transit District\", \"agency_status\": \"Active\", \"city\": \"Sacramento\", \"mode\": \"Bus\", \"service\": \"Directly Operated\", \"ntd_id\": \"90019\", \"reporter_type\": \"Full Reporter\", \"reporting_module\": \"Urban\", \"state\": \"CA\", \"primary_uza_name\": \"Sacramento, CA\", \"year\": \"2023\", \"upt\": 7715110, \"vrh\": 618702, \"vrm\": 7219695, \"opexp_total\": 121328770, \"RTPA\": \"Sacramento Area Council of Governments\", \"_merge\": \"both\"}, {\"agency_name\": \"University of California, Davis (ASUCD) - Associated Students of the University of California, Davis\", \"agency_status\": \"Active\", \"city\": \"Davis\", \"mode\": \"Bus\", \"service\": \"Directly Operated\", \"ntd_id\": \"90142\", \"reporter_type\": \"Full Reporter\", \"reporting_module\": \"Urban\", \"state\": \"CA\", \"primary_uza_name\": \"Davis, CA\", \"year\": \"2023\", \"upt\": 3028186, \"vrh\": 66932, \"vrm\": 697377, \"opexp_total\": 8411384, \"RTPA\": \"Sacramento Area Council of Governments\", \"_merge\": \"both\"}, {\"agency_name\": \"Yolo County Transportation District (YCTD)\", \"agency_status\": \"Active\", \"city\": \"Woodland\", \"mode\": \"Demand Response\", \"service\": \"Purchased Transportation\", \"ntd_id\": \"90090\", \"reporter_type\": \"Full Reporter\", \"reporting_module\": \"Urban\", \"state\": \"CA\", \"primary_uza_name\": \"Sacramento, CA\", \"year\": \"2023\", \"upt\": 33216, \"vrh\": 22370, \"vrm\": 407483, \"opexp_total\": 2937160, \"RTPA\": \"Sacramento Area Council of Governments\", \"_merge\": \"both\"}, {\"agency_name\": \"Yolo County Transportation District (YCTD)\", \"agency_status\": \"Active\", \"city\": \"Woodland\", \"mode\": \"Bus\", \"service\": \"Purchased Transportation\", \"ntd_id\": \"90090\", \"reporter_type\": \"Full Reporter\", \"reporting_module\": \"Urban\", \"state\": \"CA\", \"primary_uza_name\": \"Sacramento, CA\", \"year\": \"2023\", \"upt\": 644178, \"vrh\": 71370, \"vrm\": 1576566, \"opexp_total\": 11917092, \"RTPA\": \"Sacramento Area Council of Governments\", \"_merge\": \"both\"}, {\"agency_name\": \"Yuba-Sutter Transit Authority (YSTA)\", \"agency_status\": \"Active\", \"city\": \"Marysville\", \"mode\": \"Bus\", \"service\": \"Purchased Transportation\", \"ntd_id\": \"90061\", \"reporter_type\": \"Reduced Reporter\", \"reporting_module\": \"Urban\", \"state\": \"CA\", \"primary_uza_name\": \"Yuba City, CA\", \"year\": \"2023\", \"upt\": 442664, \"vrh\": 41852, \"vrm\": 497053, \"opexp_total\": 4741997, \"RTPA\": \"Sacramento Area Council of Governments\", \"_merge\": \"both\"}, {\"agency_name\": \"Yuba-Sutter Transit Authority (YSTA)\", \"agency_status\": \"Active\", \"city\": \"Marysville\", \"mode\": \"Demand Response\", \"service\": \"Purchased Transportation\", \"ntd_id\": \"90061\", \"reporter_type\": \"Reduced Reporter\", \"reporting_module\": \"Urban\", \"state\": \"CA\", \"primary_uza_name\": \"Yuba City, CA\", \"year\": \"2023\", \"upt\": 35256, \"vrh\": 17502, \"vrm\": 211943, \"opexp_total\": 2125604, \"RTPA\": \"Sacramento Area Council of Governments\", \"_merge\": \"both\"}, {\"agency_name\": \"Yuba-Sutter Transit Authority (YSTA)\", \"agency_status\": \"Active\", \"city\": \"Marysville\", \"mode\": \"Commuter Bus\", \"service\": \"Purchased Transportation\", \"ntd_id\": \"90061\", \"reporter_type\": \"Reduced Reporter\", \"reporting_module\": \"Urban\", \"state\": \"CA\", \"primary_uza_name\": \"Yuba City, CA\", \"year\": \"2023\", \"upt\": 38456, \"vrh\": 6960, \"vrm\": 266963, \"opexp_total\": 1329474, \"RTPA\": \"Sacramento Area Council of Governments\", \"_merge\": \"both\"}]}}, {\"mode\": \"vega-lite\"});\n",
       "</script>"
      ],
      "text/plain": [
       "alt.FacetChart(...)"
      ]
     },
     "execution_count": 19,
     "metadata": {},
     "output_type": "execute_result"
    }
   ],
   "source": [
    "make_scatter(\n",
    "    data=df[df[\"year\"] == \"2023\"],\n",
    "    y_ax=\"upt\",\n",
    "    x_ax=\"vrm\",\n",
    "    color=\"reporter_type\",\n",
    "    log_scale=True,\n",
    "    lin_y_ax=True,\n",
    "    chart_title= \"\"\n",
    ").facet(\n",
    "    facet=alt.Facet(\"mode\",title=\"Passengers per VRM, by mode\"),\n",
    "    columns=2,\n",
    ")"
   ]
  },
  {
   "cell_type": "code",
   "execution_count": 20,
   "id": "4032553f-5ffc-4094-ad21-4a6a1226d84a",
   "metadata": {
    "tags": []
   },
   "outputs": [
    {
     "name": "stdout",
     "output_type": "stream",
     "text": [
      "0 rows with zero or negative values excluded due to log scale.\n"
     ]
    },
    {
     "data": {
      "text/html": [
       "\n",
       "<style>\n",
       "  #altair-viz-3896e488a2c74be8aee316530ee2fa7b.vega-embed {\n",
       "    width: 100%;\n",
       "    display: flex;\n",
       "  }\n",
       "\n",
       "  #altair-viz-3896e488a2c74be8aee316530ee2fa7b.vega-embed details,\n",
       "  #altair-viz-3896e488a2c74be8aee316530ee2fa7b.vega-embed details summary {\n",
       "    position: relative;\n",
       "  }\n",
       "</style>\n",
       "<div id=\"altair-viz-3896e488a2c74be8aee316530ee2fa7b\"></div>\n",
       "<script type=\"text/javascript\">\n",
       "  var VEGA_DEBUG = (typeof VEGA_DEBUG == \"undefined\") ? {} : VEGA_DEBUG;\n",
       "  (function(spec, embedOpt){\n",
       "    let outputDiv = document.currentScript.previousElementSibling;\n",
       "    if (outputDiv.id !== \"altair-viz-3896e488a2c74be8aee316530ee2fa7b\") {\n",
       "      outputDiv = document.getElementById(\"altair-viz-3896e488a2c74be8aee316530ee2fa7b\");\n",
       "    }\n",
       "\n",
       "    const paths = {\n",
       "      \"vega\": \"https://cdn.jsdelivr.net/npm/vega@5?noext\",\n",
       "      \"vega-lib\": \"https://cdn.jsdelivr.net/npm/vega-lib?noext\",\n",
       "      \"vega-lite\": \"https://cdn.jsdelivr.net/npm/vega-lite@5.20.1?noext\",\n",
       "      \"vega-embed\": \"https://cdn.jsdelivr.net/npm/vega-embed@6?noext\",\n",
       "    };\n",
       "\n",
       "    function maybeLoadScript(lib, version) {\n",
       "      var key = `${lib.replace(\"-\", \"\")}_version`;\n",
       "      return (VEGA_DEBUG[key] == version) ?\n",
       "        Promise.resolve(paths[lib]) :\n",
       "        new Promise(function(resolve, reject) {\n",
       "          var s = document.createElement('script');\n",
       "          document.getElementsByTagName(\"head\")[0].appendChild(s);\n",
       "          s.async = true;\n",
       "          s.onload = () => {\n",
       "            VEGA_DEBUG[key] = version;\n",
       "            return resolve(paths[lib]);\n",
       "          };\n",
       "          s.onerror = () => reject(`Error loading script: ${paths[lib]}`);\n",
       "          s.src = paths[lib];\n",
       "        });\n",
       "    }\n",
       "\n",
       "    function showError(err) {\n",
       "      outputDiv.innerHTML = `<div class=\"error\" style=\"color:red;\">${err}</div>`;\n",
       "      throw err;\n",
       "    }\n",
       "\n",
       "    function displayChart(vegaEmbed) {\n",
       "      vegaEmbed(outputDiv, spec, embedOpt)\n",
       "        .catch(err => showError(`Javascript Error: ${err.message}<br>This usually means there's a typo in your chart specification. See the javascript console for the full traceback.`));\n",
       "    }\n",
       "\n",
       "    if(typeof define === \"function\" && define.amd) {\n",
       "      requirejs.config({paths});\n",
       "      let deps = [\"vega-embed\"];\n",
       "      require(deps, displayChart, err => showError(`Error loading script: ${err.message}`));\n",
       "    } else {\n",
       "      maybeLoadScript(\"vega\", \"5\")\n",
       "        .then(() => maybeLoadScript(\"vega-lite\", \"5.20.1\"))\n",
       "        .then(() => maybeLoadScript(\"vega-embed\", \"6\"))\n",
       "        .catch(showError)\n",
       "        .then(() => displayChart(vegaEmbed));\n",
       "    }\n",
       "  })({\"config\": {\"view\": {\"continuousWidth\": 300, \"continuousHeight\": 300}}, \"data\": {\"name\": \"data-da3bdcf3328d25ecd9ac3e7b34a2fa37\"}, \"facet\": {\"field\": \"service\", \"title\": \"Passengers per VRM, by Type of Service\", \"type\": \"nominal\"}, \"spec\": {\"layer\": [{\"mark\": {\"type\": \"point\"}, \"encoding\": {\"color\": {\"field\": \"reporter_type\", \"type\": \"nominal\"}, \"tooltip\": [{\"field\": \"vrm\", \"type\": \"quantitative\"}, {\"field\": \"upt\", \"type\": \"quantitative\"}, {\"field\": \"agency_name\", \"type\": \"nominal\"}], \"x\": {\"field\": \"vrm\", \"scale\": {\"type\": \"log\"}, \"type\": \"quantitative\"}, \"y\": {\"field\": \"upt\", \"type\": \"quantitative\"}}, \"name\": \"view_13\", \"title\": \"\"}, {\"mark\": {\"type\": \"line\"}, \"encoding\": {\"color\": {\"field\": \"reporter_type\", \"type\": \"nominal\"}, \"tooltip\": [{\"field\": \"vrm\", \"type\": \"quantitative\"}, {\"field\": \"upt\", \"type\": \"quantitative\"}, {\"field\": \"agency_name\", \"type\": \"nominal\"}], \"x\": {\"field\": \"vrm\", \"scale\": {\"type\": \"log\"}, \"type\": \"quantitative\"}, \"y\": {\"field\": \"upt\", \"type\": \"quantitative\"}}, \"title\": \"\", \"transform\": [{\"on\": \"vrm\", \"regression\": \"upt\"}]}], \"height\": 150, \"width\": 350}, \"columns\": 2, \"params\": [{\"name\": \"param_13\", \"select\": {\"type\": \"interval\", \"encodings\": [\"x\", \"y\"]}, \"bind\": \"scales\", \"views\": [\"view_13\"]}], \"$schema\": \"https://vega.github.io/schema/vega-lite/v5.20.1.json\", \"datasets\": {\"data-da3bdcf3328d25ecd9ac3e7b34a2fa37\": [{\"agency_name\": \"City of Davis (DCT) - Transit/Parks and Community Services\", \"agency_status\": \"Active\", \"city\": \"Davis\", \"mode\": \"Demand Response\", \"service\": \"Directly Operated\", \"ntd_id\": \"90167\", \"reporter_type\": \"Reduced Reporter\", \"reporting_module\": \"Urban\", \"state\": \"CA\", \"primary_uza_name\": \"Davis, CA\", \"year\": \"2023\", \"upt\": 12956, \"vrh\": 4558, \"vrm\": 47130, \"opexp_total\": 910233, \"RTPA\": \"Sacramento Area Council of Governments\", \"_merge\": \"both\"}, {\"agency_name\": \"County of Sacramento Municipal Services Agency (SCT Link) - Department of Transportation\", \"agency_status\": \"Active\", \"city\": \"Sacramento\", \"mode\": \"Demand Response\", \"service\": \"Purchased Transportation\", \"ntd_id\": \"90216\", \"reporter_type\": \"Reduced Reporter\", \"reporting_module\": \"Urban\", \"state\": \"CA\", \"primary_uza_name\": \"Sacramento, CA\", \"year\": \"2023\", \"upt\": 23933, \"vrh\": 8420, \"vrm\": 93665, \"opexp_total\": 1761821, \"RTPA\": \"Sacramento Area Council of Governments\", \"_merge\": \"both\"}, {\"agency_name\": \"County of Sacramento Municipal Services Agency (SCT Link) - Department of Transportation\", \"agency_status\": \"Active\", \"city\": \"Sacramento\", \"mode\": \"Commuter Bus\", \"service\": \"Purchased Transportation\", \"ntd_id\": \"90216\", \"reporter_type\": \"Reduced Reporter\", \"reporting_module\": \"Urban\", \"state\": \"CA\", \"primary_uza_name\": \"Sacramento, CA\", \"year\": \"2023\", \"upt\": 21872, \"vrh\": 8941, \"vrm\": 258550, \"opexp_total\": 329434, \"RTPA\": \"Sacramento Area Council of Governments\", \"_merge\": \"both\"}, {\"agency_name\": \"County of Sacramento Municipal Services Agency (SCT Link) - Department of Transportation\", \"agency_status\": \"Active\", \"city\": \"Sacramento\", \"mode\": \"Bus\", \"service\": \"Purchased Transportation\", \"ntd_id\": \"90216\", \"reporter_type\": \"Reduced Reporter\", \"reporting_module\": \"Urban\", \"state\": \"CA\", \"primary_uza_name\": \"Sacramento, CA\", \"year\": \"2023\", \"upt\": 2184, \"vrh\": 2094, \"vrm\": 65959, \"opexp_total\": 501557, \"RTPA\": \"Sacramento Area Council of Governments\", \"_merge\": \"both\"}, {\"agency_name\": \"Paratransit, Inc.\", \"agency_status\": \"Active\", \"city\": \"Sacramento\", \"mode\": \"Demand Response\", \"service\": \"Directly Operated\", \"ntd_id\": \"90223\", \"reporter_type\": \"Full Reporter\", \"reporting_module\": \"Urban\", \"state\": \"CA\", \"primary_uza_name\": \"Sacramento, CA\", \"year\": \"2023\", \"upt\": 41481, \"vrh\": 25080, \"vrm\": 424440, \"opexp_total\": 2373789, \"RTPA\": \"Sacramento Area Council of Governments\", \"_merge\": \"both\"}, {\"agency_name\": \"Sacramento Regional Transit District\", \"agency_status\": \"Active\", \"city\": \"Sacramento\", \"mode\": \"Demand Response\", \"service\": \"Purchased Transportation - Transportation Network Company\", \"ntd_id\": \"90019\", \"reporter_type\": \"Full Reporter\", \"reporting_module\": \"Urban\", \"state\": \"CA\", \"primary_uza_name\": \"Sacramento, CA\", \"year\": \"2023\", \"upt\": 64291, \"vrh\": 24023, \"vrm\": 529423, \"opexp_total\": 2875752, \"RTPA\": \"Sacramento Area Council of Governments\", \"_merge\": \"both\"}, {\"agency_name\": \"Sacramento Regional Transit District\", \"agency_status\": \"Active\", \"city\": \"Sacramento\", \"mode\": \"Light Rail\", \"service\": \"Directly Operated\", \"ntd_id\": \"90019\", \"reporter_type\": \"Full Reporter\", \"reporting_module\": \"Urban\", \"state\": \"CA\", \"primary_uza_name\": \"Sacramento, CA\", \"year\": \"2023\", \"upt\": 6140920, \"vrh\": 199774, \"vrm\": 3588470, \"opexp_total\": 83048077, \"RTPA\": \"Sacramento Area Council of Governments\", \"_merge\": \"both\"}, {\"agency_name\": \"Sacramento Regional Transit District\", \"agency_status\": \"Active\", \"city\": \"Sacramento\", \"mode\": \"Demand Response\", \"service\": \"Directly Operated\", \"ntd_id\": \"90019\", \"reporter_type\": \"Full Reporter\", \"reporting_module\": \"Urban\", \"state\": \"CA\", \"primary_uza_name\": \"Sacramento, CA\", \"year\": \"2023\", \"upt\": 429347, \"vrh\": 176917, \"vrm\": 2695918, \"opexp_total\": 31106478, \"RTPA\": \"Sacramento Area Council of Governments\", \"_merge\": \"both\"}, {\"agency_name\": \"Sacramento Regional Transit District\", \"agency_status\": \"Active\", \"city\": \"Sacramento\", \"mode\": \"Bus\", \"service\": \"Directly Operated\", \"ntd_id\": \"90019\", \"reporter_type\": \"Full Reporter\", \"reporting_module\": \"Urban\", \"state\": \"CA\", \"primary_uza_name\": \"Sacramento, CA\", \"year\": \"2023\", \"upt\": 7715110, \"vrh\": 618702, \"vrm\": 7219695, \"opexp_total\": 121328770, \"RTPA\": \"Sacramento Area Council of Governments\", \"_merge\": \"both\"}, {\"agency_name\": \"University of California, Davis (ASUCD) - Associated Students of the University of California, Davis\", \"agency_status\": \"Active\", \"city\": \"Davis\", \"mode\": \"Bus\", \"service\": \"Directly Operated\", \"ntd_id\": \"90142\", \"reporter_type\": \"Full Reporter\", \"reporting_module\": \"Urban\", \"state\": \"CA\", \"primary_uza_name\": \"Davis, CA\", \"year\": \"2023\", \"upt\": 3028186, \"vrh\": 66932, \"vrm\": 697377, \"opexp_total\": 8411384, \"RTPA\": \"Sacramento Area Council of Governments\", \"_merge\": \"both\"}, {\"agency_name\": \"Yolo County Transportation District (YCTD)\", \"agency_status\": \"Active\", \"city\": \"Woodland\", \"mode\": \"Demand Response\", \"service\": \"Purchased Transportation\", \"ntd_id\": \"90090\", \"reporter_type\": \"Full Reporter\", \"reporting_module\": \"Urban\", \"state\": \"CA\", \"primary_uza_name\": \"Sacramento, CA\", \"year\": \"2023\", \"upt\": 33216, \"vrh\": 22370, \"vrm\": 407483, \"opexp_total\": 2937160, \"RTPA\": \"Sacramento Area Council of Governments\", \"_merge\": \"both\"}, {\"agency_name\": \"Yolo County Transportation District (YCTD)\", \"agency_status\": \"Active\", \"city\": \"Woodland\", \"mode\": \"Bus\", \"service\": \"Purchased Transportation\", \"ntd_id\": \"90090\", \"reporter_type\": \"Full Reporter\", \"reporting_module\": \"Urban\", \"state\": \"CA\", \"primary_uza_name\": \"Sacramento, CA\", \"year\": \"2023\", \"upt\": 644178, \"vrh\": 71370, \"vrm\": 1576566, \"opexp_total\": 11917092, \"RTPA\": \"Sacramento Area Council of Governments\", \"_merge\": \"both\"}, {\"agency_name\": \"Yuba-Sutter Transit Authority (YSTA)\", \"agency_status\": \"Active\", \"city\": \"Marysville\", \"mode\": \"Bus\", \"service\": \"Purchased Transportation\", \"ntd_id\": \"90061\", \"reporter_type\": \"Reduced Reporter\", \"reporting_module\": \"Urban\", \"state\": \"CA\", \"primary_uza_name\": \"Yuba City, CA\", \"year\": \"2023\", \"upt\": 442664, \"vrh\": 41852, \"vrm\": 497053, \"opexp_total\": 4741997, \"RTPA\": \"Sacramento Area Council of Governments\", \"_merge\": \"both\"}, {\"agency_name\": \"Yuba-Sutter Transit Authority (YSTA)\", \"agency_status\": \"Active\", \"city\": \"Marysville\", \"mode\": \"Demand Response\", \"service\": \"Purchased Transportation\", \"ntd_id\": \"90061\", \"reporter_type\": \"Reduced Reporter\", \"reporting_module\": \"Urban\", \"state\": \"CA\", \"primary_uza_name\": \"Yuba City, CA\", \"year\": \"2023\", \"upt\": 35256, \"vrh\": 17502, \"vrm\": 211943, \"opexp_total\": 2125604, \"RTPA\": \"Sacramento Area Council of Governments\", \"_merge\": \"both\"}, {\"agency_name\": \"Yuba-Sutter Transit Authority (YSTA)\", \"agency_status\": \"Active\", \"city\": \"Marysville\", \"mode\": \"Commuter Bus\", \"service\": \"Purchased Transportation\", \"ntd_id\": \"90061\", \"reporter_type\": \"Reduced Reporter\", \"reporting_module\": \"Urban\", \"state\": \"CA\", \"primary_uza_name\": \"Yuba City, CA\", \"year\": \"2023\", \"upt\": 38456, \"vrh\": 6960, \"vrm\": 266963, \"opexp_total\": 1329474, \"RTPA\": \"Sacramento Area Council of Governments\", \"_merge\": \"both\"}]}}, {\"mode\": \"vega-lite\"});\n",
       "</script>"
      ],
      "text/plain": [
       "alt.FacetChart(...)"
      ]
     },
     "execution_count": 20,
     "metadata": {},
     "output_type": "execute_result"
    }
   ],
   "source": [
    "make_scatter(\n",
    "    data=df[df[\"year\"] == \"2023\"],\n",
    "    y_ax=\"upt\",\n",
    "    x_ax=\"vrm\",\n",
    "    color=\"reporter_type\",\n",
    "    log_scale=True,\n",
    "    lin_y_ax=True,\n",
    "    chart_title=\"\"\n",
    ").facet(\n",
    "    facet=alt.Facet(\"service\",title=\"Passengers per VRM, by Type of Service\"),\n",
    "    columns=2,\n",
    ")"
   ]
  },
  {
   "cell_type": "code",
   "execution_count": null,
   "id": "5866c067-65df-4563-bb0b-d459a1acf6b1",
   "metadata": {},
   "outputs": [],
   "source": []
  }
 ],
 "metadata": {
  "kernelspec": {
   "display_name": "Python 3 (ipykernel)",
   "language": "python",
   "name": "python3"
  },
  "language_info": {
   "codemirror_mode": {
    "name": "ipython",
    "version": 3
   },
   "file_extension": ".py",
   "mimetype": "text/x-python",
   "name": "python",
   "nbconvert_exporter": "python",
   "pygments_lexer": "ipython3",
   "version": "3.11.10"
  }
 },
 "nbformat": 4,
 "nbformat_minor": 5
}
