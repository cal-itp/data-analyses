{
 "cells": [
  {
   "cell_type": "code",
   "execution_count": null,
   "id": "818cdd1e-7b45-44ab-9491-8d1a1ded1ec5",
   "metadata": {},
   "outputs": [],
   "source": [
    "%%capture\n",
    "\n",
    "import pandas as pd\n",
    "import altair as alt\n",
    "from scipy.stats import zscore\n",
    "from calitp_data_analysis import calitp_color_palette as cp\n",
    "from IPython.display import HTML, Markdown, display\n",
    "from new_transit_metrics_utils import sum_by_group, make_long, make_scatter\n",
    "\n",
    "# alt.renderers.enable(\"html\")\n",
    "alt.data_transformers.enable(\"default\", max_rows=None)\n",
    "\n",
    "WIDTH = 300\n",
    "HEIGHT = 150"
   ]
  },
  {
   "cell_type": "code",
   "execution_count": null,
   "id": "ae37076b-5bf0-4bf2-8b5c-0298f006c8f1",
   "metadata": {
    "tags": [
     "parameters"
    ]
   },
   "outputs": [],
   "source": [
    "rtpa= \"Metropolitan Transportation Commission\""
   ]
  },
  {
   "cell_type": "code",
   "execution_count": null,
   "id": "e21b3738-6bc7-48bb-a055-d68d320993ff",
   "metadata": {},
   "outputs": [],
   "source": [
    "%%capture_parameters\n",
    "rtpa"
   ]
  },
  {
   "cell_type": "code",
   "execution_count": null,
   "id": "700c31ae-ef4b-45bc-b2c4-3891ef95a915",
   "metadata": {},
   "outputs": [],
   "source": []
  },
  {
   "cell_type": "code",
   "execution_count": null,
   "id": "dadc897c-11b6-46b7-b0a8-0a849a17dbd4",
   "metadata": {},
   "outputs": [],
   "source": [
    "#variable lists\n",
    "agency_cols = [\"ntd_id\", \"agency_name\", \"RTPA\"]\n",
    "mode_cols = [\"mode\", \"RTPA\"]\n",
    "tos_cols = [\"service\", \"RTPA\"]\n",
    "val_cols= [\"opex_per_vrh\", \"opex_per_vrm\", \"upt_per_vrh\", \"upt_per_vrm\", \"opex_per_upt\",]\n",
    "\n",
    "cost_eff=['opex_per_vrh', 'opex_per_vrm','opex_per_upt'] # just cost-effecieny metrics\n",
    "service_eff=['upt_per_vrh', 'upt_per_vrm'] # just service effectiveness metrics\n"
   ]
  },
  {
   "cell_type": "code",
   "execution_count": null,
   "id": "dd2b7438-f5c6-4573-87de-81f0d79a1da8",
   "metadata": {},
   "outputs": [],
   "source": [
    "by_agency = sum_by_group(merge_metrics_rtpa, agency_cols)\n",
    "by_mode = sum_by_group(merge_metrics_rtpa, mode_cols)\n",
    "by_tos = sum_by_group(merge_metrics_rtpa, tos_cols)"
   ]
  },
  {
   "cell_type": "code",
   "execution_count": null,
   "id": "e1e83da3-9281-47e0-a176-0a6ce5c3b2c4",
   "metadata": {},
   "outputs": [],
   "source": [
    "by_agency_long = make_long(\n",
    "    df = by_agency,\n",
    "    group_cols = agency_cols,\n",
    "    value_cols= val_cols\n",
    ")\n",
    "\n",
    "by_mode_long = make_long(\n",
    "    df = by_mode,\n",
    "    group_cols = mode_cols,\n",
    "    value_cols= val_cols\n",
    ")\n",
    "\n",
    "by_tos_long = make_long(\n",
    "    df = by_tos,\n",
    "    group_cols = tos_cols,\n",
    "    value_cols= val_cols\n",
    ")"
   ]
  },
  {
   "cell_type": "markdown",
   "id": "4f9422e6-bcb5-4511-8da4-519b44af1aa5",
   "metadata": {},
   "source": [
    "## New Performance Metrics"
   ]
  },
  {
   "cell_type": "markdown",
   "id": "08cb2cda-20e0-42e9-99d2-6b0173b07adb",
   "metadata": {},
   "source": [
    "### By Agencies"
   ]
  },
  {
   "cell_type": "code",
   "execution_count": null,
   "id": "0363cd35-cd3f-43d7-a286-8d23a412e32f",
   "metadata": {},
   "outputs": [],
   "source": [
    "# all agencies\n",
    "make_line(by_agency_long, \n",
    "          x_col= \"year:T\", \n",
    "          y_col= \"value\",\n",
    "          facet= \"variable:N\",\n",
    "          color= \"agency_name:N\",\n",
    "          title= \"New performance Metrics per Transit Agency\",\n",
    "          ind_axis=True\n",
    "         )"
   ]
  },
  {
   "cell_type": "markdown",
   "id": "4c2e4025-8e0f-41b3-9abd-a9936b1b9e23",
   "metadata": {},
   "source": [
    "### By Mode"
   ]
  },
  {
   "cell_type": "code",
   "execution_count": null,
   "id": "069b603c-f870-47bb-90e8-f1ac46f2ed9f",
   "metadata": {},
   "outputs": [],
   "source": [
    "make_line(by_mode_long, \n",
    "          x_col= \"year:T\", \n",
    "          y_col= \"value\",\n",
    "          facet= \"variable:N\",\n",
    "          color= \"mode:N\",\n",
    "          title= \"Service Effectiveness Metrics per Mode\",\n",
    "          ind_axis=True\n",
    "         )"
   ]
  },
  {
   "cell_type": "markdown",
   "id": "4a8cf1ee-aa29-4293-8b8e-5f36782a9562",
   "metadata": {
    "tags": []
   },
   "source": [
    "### By Type of Service"
   ]
  },
  {
   "cell_type": "code",
   "execution_count": null,
   "id": "15e58a1e-1089-4ec8-b2a2-4a18662f05df",
   "metadata": {},
   "outputs": [],
   "source": [
    "make_line(by_tos_long, \n",
    "          x_col= \"year:T\", \n",
    "          y_col= \"value\",\n",
    "          facet= \"variable:N\",\n",
    "          color= \"service:N\",\n",
    "          title= \"Cost-Efficiency Metrics per Type of Service\",\n",
    "          ind_axis=True\n",
    "         )"
   ]
  },
  {
   "cell_type": "markdown",
   "id": "b886c718-cd3b-4a8f-819d-8155e1045a7e",
   "metadata": {},
   "source": [
    "## Cost-efficiency metrics"
   ]
  },
  {
   "cell_type": "code",
   "execution_count": null,
   "id": "2abe1654-a8b8-484d-a231-d147ad7769dc",
   "metadata": {},
   "outputs": [],
   "source": [
    "### Operating cost per VRH\n",
    "\n",
    "make_scatter(\n",
    "    data = merge_metrics_rtpa[\n",
    "        (merge_metrics_rtpa[\"RTPA\"].str.contains(\"Metropolitan\")) & \n",
    "        (merge_metrics_rtpa[\"year\"]==\"2023\")], # raw dataframe\n",
    "    y_ax = \"opexp_total\",\n",
    "    x_ax = \"vrh\",\n",
    "    color= \"reporter_type\",\n",
    "    log_scale=True,\n",
    ").facet(\n",
    "    facet=alt.Facet(\n",
    "        \"reporter_type\"\n",
    "    ),columns=3,\n",
    ")"
   ]
  },
  {
   "cell_type": "markdown",
   "id": "a4541fe6-d7cb-428c-9ebe-1191cc0c730c",
   "metadata": {
    "tags": []
   },
   "source": [
    "### Operating cost per VRM"
   ]
  },
  {
   "cell_type": "code",
   "execution_count": null,
   "id": "64616fae-69b3-457f-b13c-18422d835297",
   "metadata": {},
   "outputs": [],
   "source": [
    "make_scatter(\n",
    "    data=merge_metrics_rtpa[\n",
    "        (merge_metrics_rtpa[\"RTPA\"].str.contains(\"Metropolitan\")) & \n",
    "        (merge_metrics_rtpa[\"year\"]==\"2023\")],\n",
    "    y_ax=\"opexp_total\", \n",
    "    x_ax=\"vrm\", \n",
    "    color=\"reporter_type\",\n",
    "    log_scale=True,\n",
    "    y_scale=True\n",
    ").facet(\n",
    "    facet=alt.Facet(\n",
    "        \"reporter_type\"\n",
    "    ),columns=3,\n",
    ")"
   ]
  },
  {
   "cell_type": "markdown",
   "id": "d0d8558c-4f1c-48b9-9f6e-0a592a6b3b09",
   "metadata": {
    "tags": []
   },
   "source": [
    "### Operating cost per trip"
   ]
  },
  {
   "cell_type": "code",
   "execution_count": null,
   "id": "14624d8a-34b0-4978-afdf-fd62751ce3a5",
   "metadata": {},
   "outputs": [],
   "source": [
    "make_scatter(\n",
    "    data=merge_metrics_rtpa[\n",
    "        (merge_metrics_rtpa[\"RTPA\"].str.contains(\"Metropolitan\")) & \n",
    "        (merge_metrics_rtpa[\"year\"]==\"2023\")],\n",
    "    y_ax=\"opexp_total\", \n",
    "    x_ax=\"upt\", \n",
    "    color=\"reporter_type\",\n",
    "    log_scale=True,\n",
    "    y_scale=True\n",
    ").facet(\n",
    "    facet=alt.Facet(\n",
    "        \"reporter_type\"\n",
    "    ),columns=3,\n",
    ")"
   ]
  },
  {
   "cell_type": "markdown",
   "id": "7fde7039-3518-436c-bdf0-a6087e4e343d",
   "metadata": {
    "tags": []
   },
   "source": [
    "## Service-effectiveness metrics"
   ]
  },
  {
   "cell_type": "markdown",
   "id": "7d20f941-7afc-4c16-bb74-19e2e76a00a9",
   "metadata": {
    "tags": []
   },
   "source": [
    "### Passengers per VRH"
   ]
  },
  {
   "cell_type": "code",
   "execution_count": null,
   "id": "51c6e786-69fc-49fb-8904-1f7f50fb688e",
   "metadata": {},
   "outputs": [],
   "source": [
    "make_scatter(\n",
    "    data=merge_metrics_rtpa[\n",
    "        (merge_metrics_rtpa[\"RTPA\"].str.contains(\"Metropolitan\")) & \n",
    "        (merge_metrics_rtpa[\"year\"]==\"2023\")],\n",
    "    y_ax=\"upt\", \n",
    "    x_ax=\"vrh\", \n",
    "    color=\"reporter_type\",\n",
    "    log_scale=True,\n",
    "    y_scale=True,\n",
    "    #x_scale=True\n",
    ").facet(\n",
    "    facet=alt.Facet(\n",
    "        \"reporter_type\"\n",
    "    ),columns=3,\n",
    ")"
   ]
  },
  {
   "cell_type": "markdown",
   "id": "7769885f-c5dc-4003-9dc3-84d7c1f93b33",
   "metadata": {
    "tags": []
   },
   "source": [
    "### Passengers per VRM"
   ]
  },
  {
   "cell_type": "code",
   "execution_count": null,
   "id": "307f2deb-c892-4fd4-b80c-1c1c2a1d286d",
   "metadata": {},
   "outputs": [],
   "source": [
    "make_scatter(\n",
    "    data=merge_metrics_rtpa[\n",
    "        (merge_metrics_rtpa[\"RTPA\"].str.contains(\"Metropolitan\")) & \n",
    "        (merge_metrics_rtpa[\"year\"]==\"2023\")],\n",
    "    y_ax=\"upt\", \n",
    "    x_ax=\"vrm\", \n",
    "    color=\"reporter_type\",\n",
    "    log_scale=True,\n",
    "    #y_scale=True\n",
    ").facet(\n",
    "    facet=alt.Facet(\n",
    "        \"reporter_type\"\n",
    "    ),columns=3,\n",
    ")"
   ]
  }
 ],
 "metadata": {
  "kernelspec": {
   "display_name": "Python 3 (ipykernel)",
   "language": "python",
   "name": "python3"
  },
  "language_info": {
   "codemirror_mode": {
    "name": "ipython",
    "version": 3
   },
   "file_extension": ".py",
   "mimetype": "text/x-python",
   "name": "python",
   "nbconvert_exporter": "python",
   "pygments_lexer": "ipython3",
   "version": "3.11.10"
  }
 },
 "nbformat": 4,
 "nbformat_minor": 5
}
