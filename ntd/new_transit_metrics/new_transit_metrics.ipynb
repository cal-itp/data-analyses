{
 "cells": [
  {
   "cell_type": "code",
   "execution_count": null,
   "id": "818cdd1e-7b45-44ab-9491-8d1a1ded1ec5",
   "metadata": {},
   "outputs": [],
   "source": [
    "%%capture\n",
    "\n",
    "import pandas as pd\n",
    "import altrair as alt\n",
    "import new_transit_metrics\n",
    "from calitp_data_analysis import calitp_color_palette as cp\n",
    "from IPython.display import HTML, Markdown, display\n",
    "\n",
    "# alt.renderers.enable(\"html\")\n",
    "alt.data_transformers.enable(\"default\", max_rows=None)\n",
    "\n",
    "WIDTH = 300\n",
    "HEIGHT = 150"
   ]
  },
  {
   "cell_type": "code",
   "execution_count": null,
   "id": "ae37076b-5bf0-4bf2-8b5c-0298f006c8f1",
   "metadata": {
    "tags": [
     "parameters"
    ]
   },
   "outputs": [],
   "source": [
    "rtpa= \"Metropolitan Transportation Commission\""
   ]
  },
  {
   "cell_type": "code",
   "execution_count": null,
   "id": "e21b3738-6bc7-48bb-a055-d68d320993ff",
   "metadata": {},
   "outputs": [],
   "source": [
    "%%capture_parameters\n",
    "rtpa"
   ]
  }
 ],
 "metadata": {
  "kernelspec": {
   "display_name": "Python 3 (ipykernel)",
   "language": "python",
   "name": "python3"
  },
  "language_info": {
   "codemirror_mode": {
    "name": "ipython",
    "version": 3
   },
   "file_extension": ".py",
   "mimetype": "text/x-python",
   "name": "python",
   "nbconvert_exporter": "python",
   "pygments_lexer": "ipython3",
   "version": "3.11.10"
  }
 },
 "nbformat": 4,
 "nbformat_minor": 5
}
