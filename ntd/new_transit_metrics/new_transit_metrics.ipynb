{
 "cells": [
  {
   "cell_type": "code",
   "execution_count": null,
   "id": "818cdd1e-7b45-44ab-9491-8d1a1ded1ec5",
   "metadata": {},
   "outputs": [],
   "source": [
    "%%capture\n",
    "\n",
    "import warnings\n",
    "warnings.filterwarnings('ignore')\n",
    "\n",
    "import calitp_data_analysis.magics\n",
    "\n",
    "import altair as alt\n",
    "import pandas as pd\n",
    "from calitp_data_analysis import calitp_color_palette as cp\n",
    "from IPython.display import HTML, Markdown, display\n",
    "from new_transit_metrics_utils import (\n",
    "    GCS_FILE_PATH,\n",
    "    make_line,\n",
    "    make_long,\n",
    "    make_scatter,\n",
    "    sum_by_group,\n",
    ")\n",
    "from scipy.stats import zscore\n",
    "\n",
    "# alt.renderers.enable(\"html\")\n",
    "alt.data_transformers.enable(\"default\", max_rows=None)\n",
    "\n",
    "WIDTH = 300\n",
    "HEIGHT = 150"
   ]
  },
  {
   "cell_type": "code",
   "execution_count": null,
   "id": "ae37076b-5bf0-4bf2-8b5c-0298f006c8f1",
   "metadata": {
    "tags": [
     "parameters"
    ]
   },
   "outputs": [],
   "source": [
    "rtpa = \"Sacramento Area Council of Governments\""
   ]
  },
  {
   "cell_type": "code",
   "execution_count": null,
   "id": "e21b3738-6bc7-48bb-a055-d68d320993ff",
   "metadata": {},
   "outputs": [],
   "source": [
    "%%capture_parameters\n",
    "rtpa"
   ]
  },
  {
   "cell_type": "markdown",
   "id": "74d7a345-e448-4619-8431-1d5b5c1d1f01",
   "metadata": {},
   "source": [
    "# {rtpa}\n",
    "## New Transit Performance Metrics\n",
    "\n",
    "UCLA Institute of Transportation Studies (UCLA ITS) suggests\n",
    ">Updating the policy and legislation that governs state transit funding could help make expenditures more effective and better aligned with the state’s goals of VMT and GHG reduction, which transit can achieve only through increased ridership.\n",
    "\n",
    "Some of the measures UCLA ITS recommends matching performance metrics to transit market context and suggest a contemporary view of transit operating conditions. Namely, transit-oriented vs. auto-oriented areas, which can be measured using cost-efficiency and service-effectiveness metrics.\n",
    "\n",
    "The charts below display the cost-efficiency metrics (opex_per_vrm/vrh/upt) and service-effectiveness metrics (upt_per_vrm/vrh) by different categories."
   ]
  },
  {
   "cell_type": "code",
   "execution_count": null,
   "id": "0e1b5816-5330-4286-9144-ab58c5dde00f",
   "metadata": {
    "tags": []
   },
   "outputs": [],
   "source": [
    "# read in data\n",
    "df = pd.read_parquet(\n",
    "    f\"{GCS_FILE_PATH}raw_transit_performance_metrics_data.parquet\",\n",
    "    filters=[(\"RTPA\", \"==\", rtpa)],\n",
    ")"
   ]
  },
  {
   "cell_type": "code",
   "execution_count": null,
   "id": "dadc897c-11b6-46b7-b0a8-0a849a17dbd4",
   "metadata": {
    "tags": []
   },
   "outputs": [],
   "source": [
    "# variable lists\n",
    "agency_cols = [\"ntd_id\", \"agency_name\", \"RTPA\"]\n",
    "mode_cols = [\"mode\", \"RTPA\"]\n",
    "tos_cols = [\"service\", \"RTPA\"]\n",
    "val_cols = [\n",
    "    \"opex_per_vrh\",\n",
    "    \"opex_per_vrm\",\n",
    "    \"upt_per_vrh\",\n",
    "    \"upt_per_vrm\",\n",
    "    \"opex_per_upt\",\n",
    "]\n",
    "\n",
    "cost_eff = [\n",
    "    \"opex_per_vrh\",\n",
    "    \"opex_per_vrm\",\n",
    "    \"opex_per_upt\",\n",
    "]  # just cost-effecieny metrics\n",
    "service_eff = [\"upt_per_vrh\", \"upt_per_vrm\"]  # just service effectiveness metrics"
   ]
  },
  {
   "cell_type": "code",
   "execution_count": null,
   "id": "dd2b7438-f5c6-4573-87de-81f0d79a1da8",
   "metadata": {
    "tags": []
   },
   "outputs": [],
   "source": [
    "by_agency = sum_by_group(df, agency_cols)\n",
    "by_mode = sum_by_group(df, mode_cols)\n",
    "by_tos = sum_by_group(df, tos_cols)"
   ]
  },
  {
   "cell_type": "code",
   "execution_count": null,
   "id": "e1e83da3-9281-47e0-a176-0a6ce5c3b2c4",
   "metadata": {
    "tags": []
   },
   "outputs": [],
   "source": [
    "by_agency_long = make_long(df=by_agency, group_cols=agency_cols, value_cols=val_cols)\n",
    "by_mode_long = make_long(df=by_mode, group_cols=mode_cols, value_cols=val_cols)\n",
    "by_tos_long = make_long(df=by_tos, group_cols=tos_cols, value_cols=val_cols)"
   ]
  },
  {
   "cell_type": "markdown",
   "id": "4f9422e6-bcb5-4511-8da4-519b44af1aa5",
   "metadata": {},
   "source": [
    "## Performance Metrics Explained"
   ]
  },
  {
   "cell_type": "markdown",
   "id": "e955cab5-ed9f-41f2-b637-342bd8bd4265",
   "metadata": {},
   "source": [
    "| Metric type          | Metric example                  | Implicit Goal(s)                       | Advantages                                   | Limitations                                  |\n",
    "|----------------------|---------------------------------|---------------------------------------|----------------------------------------------|----------------------------------------------|\n",
    "| Cost-efficiency     | Operating cost per revenue hour (opex_per_vrh) | Reduce costs                         | Useful in both financial and service planning | Favors high labor productivity in dense, congested areas; does not track use |\n",
    "|                      | Operating cost per revenue mile (opex_per_vrm) |                                       |                                              |                                              |\n",
    "|                      | Operating cost per vehicle trip (opex_per_upt) |                                       |                                              |                                              |\n",
    "| Service-effectiveness| Passengers per revenue-vehicle hour (upt_per_vrh) | Increase ridership; reduce poorly patronized service | Useful for service planning; emphasizes what matters to riders | Favors high ridership; does not track costs   |\n",
    "|                      | Passengers per revenue-vehicle mile (upt_per_vrm) | Increase ridership; reduce low-ridership route miles/segments | Useful for service planning                | Favors high ridership and fast vehicle speeds; does not track costs |\n"
   ]
  },
  {
   "cell_type": "markdown",
   "id": "08cb2cda-20e0-42e9-99d2-6b0173b07adb",
   "metadata": {},
   "source": [
    "### By Agencies"
   ]
  },
  {
   "cell_type": "code",
   "execution_count": null,
   "id": "0363cd35-cd3f-43d7-a286-8d23a412e32f",
   "metadata": {
    "tags": []
   },
   "outputs": [],
   "source": [
    "# all agencies\n",
    "make_line(\n",
    "    by_agency_long,\n",
    "    x_col=\"year:T\",\n",
    "    y_col=\"value\",\n",
    "    facet=\"variable:N\",\n",
    "    color=\"agency_name:N\",\n",
    "    chart_title=\"New performance Metrics per Transit Agency\",\n",
    "    ind_axis=True,\n",
    ")"
   ]
  },
  {
   "cell_type": "markdown",
   "id": "4c2e4025-8e0f-41b3-9abd-a9936b1b9e23",
   "metadata": {},
   "source": [
    "### By Mode"
   ]
  },
  {
   "cell_type": "code",
   "execution_count": null,
   "id": "069b603c-f870-47bb-90e8-f1ac46f2ed9f",
   "metadata": {
    "tags": []
   },
   "outputs": [],
   "source": [
    "make_line(\n",
    "    by_mode_long,\n",
    "    x_col=\"year:T\",\n",
    "    y_col=\"value\",\n",
    "    facet=\"variable:N\",\n",
    "    color=\"mode:N\",\n",
    "    chart_title=\"New Performance Metrics per Mode\",\n",
    "    ind_axis=True,\n",
    ")"
   ]
  },
  {
   "cell_type": "markdown",
   "id": "4a8cf1ee-aa29-4293-8b8e-5f36782a9562",
   "metadata": {
    "tags": []
   },
   "source": [
    "### By Type of Service"
   ]
  },
  {
   "cell_type": "code",
   "execution_count": null,
   "id": "15e58a1e-1089-4ec8-b2a2-4a18662f05df",
   "metadata": {
    "tags": []
   },
   "outputs": [],
   "source": [
    "make_line(\n",
    "    by_tos_long,\n",
    "    x_col=\"year:T\",\n",
    "    y_col=\"value\",\n",
    "    facet=\"variable:N\",\n",
    "    color=\"service:N\",\n",
    "    chart_title=\"New Performance Metrics per Type of Service\",\n",
    "    ind_axis=True,\n",
    ")"
   ]
  },
  {
   "cell_type": "markdown",
   "id": "b886c718-cd3b-4a8f-819d-8155e1045a7e",
   "metadata": {},
   "source": [
    "## Cost-efficiency metrics\n",
    "Cost-efficiency measures inputs to outputs: For example, the cost of operating an hour of transit service.\n",
    "\n",
    "Per the UCLA ITS Paper\n",
    ">Transit-oriented markets (which are predominantly urban), transit service tends to be relatively service-effective. But high operating costs on these (mostly) older, larger systems can inhibit efforts to improve ridership by adding service. In such contexts, assessing systems with an emphasis on **cost-efficiency (i.e., the cost of operating an hour of service)** grounds would provide incentives for agencies to **manage their costs** so as to be able to provide more service with available funding."
   ]
  },
  {
   "cell_type": "markdown",
   "id": "54dd0451-7912-4605-a4e9-e10d40b21e5c",
   "metadata": {
    "tags": []
   },
   "source": [
    "### Operating cost per VRH\n",
    "Lower is better"
   ]
  },
  {
   "cell_type": "code",
   "execution_count": null,
   "id": "b7e1a3b6-3939-4f18-b791-8014dd98e84b",
   "metadata": {
    "tags": []
   },
   "outputs": [],
   "source": [
    "make_scatter(\n",
    "    data=df[df[\"year\"] == \"2023\"],\n",
    "    y_ax=\"opexp_total\",\n",
    "    x_ax=\"vrh\",\n",
    "    color=\"reporter_type\",\n",
    "    log_scale=True,\n",
    "    lin_y_ax=True,\n",
    "    chart_title=\"\"\n",
    ").facet(\n",
    "    facet=alt.Facet(\"mode\", \n",
    "                    title=\"Operating Cost per VRH, by mode\"\n",
    "                   ),\n",
    "    columns=2,\n",
    ")"
   ]
  },
  {
   "cell_type": "code",
   "execution_count": null,
   "id": "9fe62f9e-bf29-44ef-95d8-91eb1891d9d5",
   "metadata": {
    "tags": []
   },
   "outputs": [],
   "source": [
    "make_scatter(\n",
    "    data=df[df[\"year\"] == \"2023\"],\n",
    "    y_ax=\"opexp_total\",\n",
    "    x_ax=\"vrh\",\n",
    "    color=\"reporter_type\",\n",
    "    log_scale=True,\n",
    "    lin_y_ax=True,\n",
    "    chart_title=\"\"\n",
    ").facet(\n",
    "    facet=alt.Facet(\"service\", \n",
    "                    title=\"Operating Cost per VRH, by Type of Service\"\n",
    "                   ),\n",
    "    columns=2,\n",
    ")"
   ]
  },
  {
   "cell_type": "markdown",
   "id": "a4541fe6-d7cb-428c-9ebe-1191cc0c730c",
   "metadata": {
    "tags": []
   },
   "source": [
    "### Operating cost per VRM\n",
    "Lower is better"
   ]
  },
  {
   "cell_type": "code",
   "execution_count": null,
   "id": "64616fae-69b3-457f-b13c-18422d835297",
   "metadata": {
    "tags": []
   },
   "outputs": [],
   "source": [
    "make_scatter(\n",
    "    data=df[df[\"year\"] == \"2023\"],\n",
    "    y_ax=\"opexp_total\",\n",
    "    x_ax=\"vrm\",\n",
    "    color=\"reporter_type\",\n",
    "    log_scale=True,\n",
    "    lin_y_ax=True,\n",
    "    chart_title=\"\"\n",
    ").facet(\n",
    "    facet=alt.Facet(\"mode\",title=\"Operating Cost per VRH, by mode\"),\n",
    "    columns=2,\n",
    ")"
   ]
  },
  {
   "cell_type": "code",
   "execution_count": null,
   "id": "763f3450-5f05-4744-a8fe-e6b50f34a530",
   "metadata": {
    "tags": []
   },
   "outputs": [],
   "source": [
    "make_scatter(\n",
    "    data=df[df[\"year\"] == \"2023\"],\n",
    "    y_ax=\"opexp_total\",\n",
    "    x_ax=\"vrm\",\n",
    "    color=\"reporter_type\",\n",
    "    log_scale=True,\n",
    "    lin_y_ax=True,\n",
    "    chart_title=\"\"\n",
    ").facet(\n",
    "    facet=alt.Facet(\"service\",title=\"Operating Cost per VRH, by Type of Service\"),\n",
    "    columns=2,\n",
    ")"
   ]
  },
  {
   "cell_type": "markdown",
   "id": "d0d8558c-4f1c-48b9-9f6e-0a592a6b3b09",
   "metadata": {
    "tags": []
   },
   "source": [
    "### Operating cost per trip\n",
    "Lower is better"
   ]
  },
  {
   "cell_type": "code",
   "execution_count": null,
   "id": "14624d8a-34b0-4978-afdf-fd62751ce3a5",
   "metadata": {
    "tags": []
   },
   "outputs": [],
   "source": [
    "make_scatter(\n",
    "    data=df[df[\"year\"] == \"2023\"],\n",
    "    y_ax=\"opexp_total\",\n",
    "    x_ax=\"upt\",\n",
    "    color=\"reporter_type\",\n",
    "    log_scale=True,\n",
    "    lin_y_ax=True,\n",
    "    chart_title=\"\"\n",
    ").facet(\n",
    "    facet=alt.Facet(\"mode\",\n",
    "                   title=\"Operating Cost per UPT, by mode\"),\n",
    "    columns=2,\n",
    ")"
   ]
  },
  {
   "cell_type": "code",
   "execution_count": null,
   "id": "0a415a1e-2434-4749-a0e9-dc5739988eba",
   "metadata": {
    "tags": []
   },
   "outputs": [],
   "source": [
    "make_scatter(\n",
    "    data=df[df[\"year\"] == \"2023\"],\n",
    "    y_ax=\"opexp_total\",\n",
    "    x_ax=\"upt\",\n",
    "    color=\"reporter_type\",\n",
    "    log_scale=True,\n",
    "    lin_y_ax=True,\n",
    "    chart_title=\"\"\n",
    ").facet(\n",
    "    facet=alt.Facet(\"service\",\n",
    "                   title=\"Operating Cost per UPT, by Type of Service\"),\n",
    "    columns=2,\n",
    ")"
   ]
  },
  {
   "cell_type": "markdown",
   "id": "7fde7039-3518-436c-bdf0-a6087e4e343d",
   "metadata": {
    "tags": []
   },
   "source": [
    "## Service-effectiveness metrics\n",
    "Service-effectiveness measures outputs to consumption: For example, passenger boardings per service hour.\n",
    "\n",
    "Per the UCLA ITS Paper\n",
    ">[In] more auto-oriented markets, transit operators tend to be relatively cost-efficient, in that they have lower operating costs but serve fewer riders. In this context, assessing systems with an emphasis on **service-effectiveness (i.e., passenger boardings per service hour)** will motivate operators to **improve ridership** by changing service hours, routes, and fares to better match local demand. Agencies might also implement fare programs with schools and other institutions, and even work with municipalities on improving land use around transit in order to increase the relative attractiveness of transit service."
   ]
  },
  {
   "cell_type": "markdown",
   "id": "7d20f941-7afc-4c16-bb74-19e2e76a00a9",
   "metadata": {
    "tags": []
   },
   "source": [
    "### Passengers per VRH\n",
    "Higher is better"
   ]
  },
  {
   "cell_type": "code",
   "execution_count": null,
   "id": "51c6e786-69fc-49fb-8904-1f7f50fb688e",
   "metadata": {
    "tags": []
   },
   "outputs": [],
   "source": [
    "make_scatter(\n",
    "    data=df[df[\"year\"] == \"2023\"],\n",
    "    y_ax=\"upt\",\n",
    "    x_ax=\"vrh\",\n",
    "    color=\"reporter_type\",\n",
    "    log_scale=True,\n",
    "    lin_y_ax=True,\n",
    "    chart_title=\"\"\n",
    ").facet(\n",
    "    facet=alt.Facet(\"mode\",\n",
    "                   title=\"Passengers per VRH, by mode\"),\n",
    "    columns=2,\n",
    ")"
   ]
  },
  {
   "cell_type": "code",
   "execution_count": null,
   "id": "e6de13f0-8dd3-4b45-840b-055500430400",
   "metadata": {
    "tags": []
   },
   "outputs": [],
   "source": [
    "make_scatter(\n",
    "    data=df[df[\"year\"] == \"2023\"],\n",
    "    y_ax=\"upt\",\n",
    "    x_ax=\"vrh\",\n",
    "    color=\"reporter_type\",\n",
    "    log_scale=True,\n",
    "    lin_y_ax=True,\n",
    "    chart_title=\"\"\n",
    ").facet(\n",
    "    facet=alt.Facet(\"service\",\n",
    "                   title=\"Passengers per VRH, by Type of Service\"),\n",
    "    columns=2,\n",
    ")"
   ]
  },
  {
   "cell_type": "markdown",
   "id": "7769885f-c5dc-4003-9dc3-84d7c1f93b33",
   "metadata": {
    "tags": []
   },
   "source": [
    "### Passengers per VRM\n",
    "Higher is better"
   ]
  },
  {
   "cell_type": "code",
   "execution_count": null,
   "id": "307f2deb-c892-4fd4-b80c-1c1c2a1d286d",
   "metadata": {
    "tags": []
   },
   "outputs": [],
   "source": [
    "make_scatter(\n",
    "    data=df[df[\"year\"] == \"2023\"],\n",
    "    y_ax=\"upt\",\n",
    "    x_ax=\"vrm\",\n",
    "    color=\"reporter_type\",\n",
    "    log_scale=True,\n",
    "    lin_y_ax=True,\n",
    "    chart_title= \"\"\n",
    ").facet(\n",
    "    facet=alt.Facet(\"mode\",title=\"Passengers per VRM, by mode\"),\n",
    "    columns=2,\n",
    ")"
   ]
  },
  {
   "cell_type": "code",
   "execution_count": null,
   "id": "4032553f-5ffc-4094-ad21-4a6a1226d84a",
   "metadata": {
    "tags": []
   },
   "outputs": [],
   "source": [
    "make_scatter(\n",
    "    data=df[df[\"year\"] == \"2023\"],\n",
    "    y_ax=\"upt\",\n",
    "    x_ax=\"vrm\",\n",
    "    color=\"reporter_type\",\n",
    "    log_scale=True,\n",
    "    lin_y_ax=True,\n",
    "    chart_title=\"\"\n",
    ").facet(\n",
    "    facet=alt.Facet(\"service\",title=\"Passengers per VRM, by Type of Service\"),\n",
    "    columns=2,\n",
    ")"
   ]
  },
  {
   "cell_type": "code",
   "execution_count": null,
   "id": "5866c067-65df-4563-bb0b-d459a1acf6b1",
   "metadata": {},
   "outputs": [],
   "source": []
  }
 ],
 "metadata": {
  "kernelspec": {
   "display_name": "Python 3 (ipykernel)",
   "language": "python",
   "name": "python3"
  },
  "language_info": {
   "codemirror_mode": {
    "name": "ipython",
    "version": 3
   },
   "file_extension": ".py",
   "mimetype": "text/x-python",
   "name": "python",
   "nbconvert_exporter": "python",
   "pygments_lexer": "ipython3",
   "version": "3.11.10"
  }
 },
 "nbformat": 4,
 "nbformat_minor": 5
}
