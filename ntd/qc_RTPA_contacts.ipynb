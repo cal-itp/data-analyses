{
 "cells": [
  {
   "cell_type": "code",
   "execution_count": 1,
   "id": "dd1a1529-2c99-4067-8020-8ee4d4ab823b",
   "metadata": {},
   "outputs": [],
   "source": [
    "import pandas as pd\n",
    "from siuba import *"
   ]
  },
  {
   "cell_type": "code",
   "execution_count": 2,
   "id": "4fc0a143-1c44-4e3c-977e-1a37950571e8",
   "metadata": {},
   "outputs": [],
   "source": [
    "scolist = pd.read_excel('gs://calitp-analytics-data/data-analyses/ntd/RTPAs Contact Information FY 2021-22.xlsx')"
   ]
  },
  {
   "cell_type": "code",
   "execution_count": 3,
   "id": "a9244346-f15e-4cba-8aa3-21d75bcad312",
   "metadata": {},
   "outputs": [],
   "source": [
    "from siuba.experimental.pivot import pivot_wider, pivot_longer\n",
    "from siuba import Fx"
   ]
  },
  {
   "cell_type": "code",
   "execution_count": 4,
   "id": "7f206544-e452-4a76-b876-672e080f8df9",
   "metadata": {},
   "outputs": [],
   "source": [
    "fns = (scolist \n",
    "        >> select(_.ENTITY_NAME, _.contains(\"_FIRST_NAME\")) \n",
    "        >> pivot_longer(_.contains(\"_FIRST_NAME\"), names_to=\"position\", values_to=\"first_name\")\n",
    "        >> mutate(position=_.position.str.replace('_FIRST_NAME', '', regex=False))\n",
    "      )"
   ]
  },
  {
   "cell_type": "code",
   "execution_count": 5,
   "id": "5c0e0077-c1c3-4a11-b20e-71a4275f092e",
   "metadata": {},
   "outputs": [],
   "source": [
    "lns = (scolist \n",
    "        >> select(_.ENTITY_NAME, _.contains(\"_LAST_NAME\")) \n",
    "        >> pivot_longer(_.contains(\"_LAST_NAME\"), names_to=\"position\", values_to=\"last_name\") \n",
    "        >> mutate(position=_.position.str.replace('_LAST_NAME', '', regex=False))\n",
    "      )"
   ]
  },
  {
   "cell_type": "code",
   "execution_count": 6,
   "id": "a2f1a8c0-f261-4ae9-bce2-4715cd5d3bb3",
   "metadata": {},
   "outputs": [],
   "source": [
    "emails = (scolist \n",
    "        >> select(_.ENTITY_NAME, _.contains(\"_EMAIL\")) \n",
    "        >> pivot_longer(_.contains(\"_EMAIL\"), names_to=\"position\", values_to=\"email\") \n",
    "        >> mutate(position=_.position.str.replace('_EMAIL', '', regex=False))\n",
    "      )"
   ]
  },
  {
   "cell_type": "code",
   "execution_count": 7,
   "id": "3414acb0-7f1a-4bfc-b47a-103f4a38ebc2",
   "metadata": {},
   "outputs": [],
   "source": [
    "contact_names = fns.merge(lns).reset_index(drop=True)"
   ]
  },
  {
   "cell_type": "code",
   "execution_count": 8,
   "id": "6fc251f9-c5a7-4f9e-bdc2-85a32b84428d",
   "metadata": {},
   "outputs": [],
   "source": [
    "contacts = contact_names.merge(emails).reset_index(drop=True)"
   ]
  },
  {
   "cell_type": "code",
   "execution_count": 9,
   "id": "32402a66-3e55-43fd-9d3f-9387a86ae5b7",
   "metadata": {},
   "outputs": [],
   "source": [
    "contacts.to_excel(\"gs://calitp-analytics-data/data-analyses/ntd/sco_rtpa_contacts_long.xlsx\", index=False)"
   ]
  },
  {
   "cell_type": "code",
   "execution_count": null,
   "id": "e92c192b-1b49-4226-afc4-6f619f718187",
   "metadata": {},
   "outputs": [],
   "source": []
  }
 ],
 "metadata": {
  "kernelspec": {
   "display_name": "Python 3 (ipykernel)",
   "language": "python",
   "name": "python3"
  },
  "language_info": {
   "codemirror_mode": {
    "name": "ipython",
    "version": 3
   },
   "file_extension": ".py",
   "mimetype": "text/x-python",
   "name": "python",
   "nbconvert_exporter": "python",
   "pygments_lexer": "ipython3",
   "version": "3.9.13"
  }
 },
 "nbformat": 4,
 "nbformat_minor": 5
}
