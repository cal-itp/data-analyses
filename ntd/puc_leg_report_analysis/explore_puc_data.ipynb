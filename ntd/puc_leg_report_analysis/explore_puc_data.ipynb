{
 "cells": [
  {
   "cell_type": "markdown",
   "id": "1f7d5c72-3b6a-4a81-a96b-8c17ed5202f6",
   "metadata": {},
   "source": [
    "# [Research Request - Explore data for PUC 99314.11 leg report #1613](https://github.com/cal-itp/data-analyses/issues/1613)"
   ]
  },
  {
   "cell_type": "markdown",
   "id": "c4f2340b-45b7-4096-b319-de3d2391bafa",
   "metadata": {},
   "source": [
    "Discussed with Peter and Cayman about PUC 99314.11, specifically about sub-section (d)(1)\n",
    "\n",
    ">(d) (1) On or before November 30, 2025, the department shall submit a report to the Legislature on the revenue vehicle hours, ridership, and passenger mile impacts on the services offered by operators to which Sections 99314.6 and 99314.7 do not apply pursuant to subdivision (a)."
   ]
  },
  {
   "cell_type": "markdown",
   "id": "37f9ea06-80fb-4e71-91ae-48997570a564",
   "metadata": {},
   "source": [
    "1. read in SCO data\n",
    "2. read in warehouse data for annual ntd reporters\n",
    "\n",
    "Compare both sources, see which agencies join or not join in either list. \n",
    "\n",
    "Compare data in both sources, see if any annual totals match"
   ]
  },
  {
   "cell_type": "code",
   "execution_count": 1,
   "id": "091174f7-6924-464d-bd6c-9cd55d33d4a3",
   "metadata": {
    "tags": []
   },
   "outputs": [],
   "source": [
    "import pandas as pd\n",
    "from calitp_data_analysis.sql import to_snakecase\n",
    "import altair as alt\n",
    "\n",
    "pd.set_option(\"display.max_rows\", None)\n",
    "pd.set_option(\"display.max_columns\", None)\n",
    "pd.set_option(\"display.max_colwidth\", None)"
   ]
  },
  {
   "cell_type": "markdown",
   "id": "de73c87b-d7d4-4783-8bcb-e30baa538f7c",
   "metadata": {
    "tags": []
   },
   "source": [
    "# Read in SCO data\n",
    "Data is speard out among different excel files for different state fiscal years"
   ]
  },
  {
   "cell_type": "code",
   "execution_count": null,
   "id": "f4f468fa-4644-48a3-89a7-698e03ab4082",
   "metadata": {
    "tags": []
   },
   "outputs": [],
   "source": [
    "url_23_24 = \"https://bythenumbers.sco.ca.gov/download/bdqr-pszz/application%2Fvnd.openxmlformats-officedocument.spreadsheetml.sheet\"\n",
    "url_21_22 = \"https://bythenumbers.sco.ca.gov/download/aqpg-as24/application%2Fvnd.openxmlformats-officedocument.spreadsheetml.sheet\"\n",
    "url_18_20 = \"https://bythenumbers.sco.ca.gov/download/6dj3-r4jw/application%2Fvnd.openxmlformats-officedocument.spreadsheetml.sheet\"\n",
    "\n",
    "all_years = [\n",
    "    url_23_24,\n",
    "    url_21_22,\n",
    "    url_18_20   \n",
    "]"
   ]
  },
  {
   "cell_type": "code",
   "execution_count": null,
   "id": "d7ce9be4-1ae5-4f4d-9688-5c5ca87b063a",
   "metadata": {
    "tags": []
   },
   "outputs": [],
   "source": [
    "# what are the sheet names for each excel file?\n",
    "for data in all_years:\n",
    "    sco_info = pd.ExcelFile(data)\n",
    "    print(sco_info.sheet_names)"
   ]
  },
  {
   "cell_type": "code",
   "execution_count": null,
   "id": "c5529c04-51a3-4fc3-adf8-3b7742785dcd",
   "metadata": {
    "tags": []
   },
   "outputs": [],
   "source": [
    "def make_sco_df(url:str, sheet:str) -> pd.DataFrame:\n",
    "    \"\"\"\n",
    "    Function that reads in each excel url at specific sheet name. then snakecases all the columns\n",
    "    \"\"\"\n",
    "    df = pd.read_excel(url, sheet_name = sheet)\n",
    "    df = to_snakecase(df)\n",
    "    \n",
    "    return df"
   ]
  },
  {
   "cell_type": "code",
   "execution_count": null,
   "id": "1abb5173-fdad-419a-aeeb-29d1c281b1fd",
   "metadata": {
    "tags": []
   },
   "outputs": [],
   "source": [
    "# make DFs for each excel sheet\n",
    "ops_18_20 = make_sco_df(url_18_20, \"TO_OPERATING_DATA\")\n",
    "ops_21_22 = make_sco_df(url_21_22, \"5 TO_OPERATING_DATA\")\n",
    "ops_23_24 = make_sco_df(url_23_24, \"5 TO_OPERATING_DATA\")"
   ]
  },
  {
   "cell_type": "code",
   "execution_count": null,
   "id": "b77ef175-5b99-4641-a902-4ca5e261ace7",
   "metadata": {
    "tags": []
   },
   "outputs": [],
   "source": [
    "# examine each sheet was read in successfully\n",
    "display(\n",
    "    ops_18_20.shape,\n",
    "    ops_21_22.shape,\n",
    "    ops_23_24.shape\n",
    ")"
   ]
  },
  {
   "cell_type": "markdown",
   "id": "e398cc6d-2167-4232-9055-4efe094731b8",
   "metadata": {
    "tags": []
   },
   "source": [
    "## SCO data cleaning"
   ]
  },
  {
   "cell_type": "code",
   "execution_count": null,
   "id": "5bf9d2ca-f9cc-411a-a07a-461a02dee154",
   "metadata": {
    "tags": []
   },
   "outputs": [],
   "source": [
    "# do all DFs have the same columns?\n",
    "set(ops_18_20.columns) == set(ops_21_22.columns) == set(ops_23_24.columns) #TRUE!"
   ]
  },
  {
   "cell_type": "code",
   "execution_count": null,
   "id": "f767a162-ce84-47d9-8743-9f4d454907e4",
   "metadata": {
    "tags": []
   },
   "outputs": [],
   "source": [
    "# group column names by similar categories \n",
    "\n",
    "date_cols =[\n",
    "    'date_service_began_operations__mm_dd_yyyy__motor_bus',\n",
    "    'date_service_began_operations__mm_dd_yyyy__heavy_rail',\n",
    "    'date_service_began_operations__mm_dd_yyyy__light_rail',\n",
    "    'date_service_began_operations__mm_dd_yyyy__trolley_bus',\n",
    "    'date_service_began_operations__mm_dd_yyyy__ferry_boat',\n",
    "    'date_service_began_operations__mm_dd_yyyy__demand_response_vehicles',\n",
    "    'date_service_began_operations__mm_dd_yyyy__vanpool',\n",
    "    'date_service_began_operations__mm_dd_yyyy__other_transportation_mode__specify_'\n",
    "]\n",
    "\n",
    "vrh_cols = [\n",
    "    \"total_actual_vehicle_revenue_hours_—_annual_demand_response_vehicles_actual_vehicle_revenue_hours_—_annual\",\n",
    "    \"total_actual_vehicle_revenue_hours_—_annual_ferry_boat_actual_vehicle_revenue_hours_—_annual\",\n",
    "    \"total_actual_vehicle_revenue_hours_—_annual_heavy_rail_actual_vehicle_revenue_hours_—_annual\",\n",
    "    \"total_actual_vehicle_revenue_hours_—_annual_light_rail_actual_vehicle_revenue_hours_—_annual\",\n",
    "    \"total_actual_vehicle_revenue_hours_—_annual_motor_bus_actual_vehicle_revenue_hours_—_annual\",\n",
    "    \"total_actual_vehicle_revenue_hours_—_annual_other_transportation_mode__specify__actual_vehicle_revenue_hours_—_annual\",\n",
    "    \"total_actual_vehicle_revenue_hours_—_annual_trolley_bus_actual_vehicle_revenue_hours_—_annual\",\n",
    "    \"total_actual_vehicle_revenue_hours_—_annual_vanpool_actual_vehicle_revenue_hours_—_annual\",\n",
    "]\n",
    "\n",
    "vrm_cols = [\n",
    "    \"total_actual_vehicle_revenue_miles_demand_response_vehicles\",\n",
    "    \"total_actual_vehicle_revenue_miles_ferry_boat\",\n",
    "    \"total_actual_vehicle_revenue_miles_heavy_rail\",\n",
    "    \"total_actual_vehicle_revenue_miles_light_rail\",\n",
    "    \"total_actual_vehicle_revenue_miles_motor_bus\",\n",
    "    \"total_actual_vehicle_revenue_miles_other_transportation_mode__specify_\",\n",
    "    \"total_actual_vehicle_revenue_miles_trolley_bus\",\n",
    "    \"total_actual_vehicle_revenue_miles_vanpool\",\n",
    "]\n",
    "\n",
    "passenger_cols = [\n",
    "    \"total_passengers_—_annual_demand_response_vehicles\",\n",
    "    \"total_passengers_—_annual_ferry_boat\",\n",
    "    \"total_passengers_—_annual_heavy_rail\",\n",
    "    \"total_passengers_—_annual_light_rail\",\n",
    "    \"total_passengers_—_annual_motor_bus\",\n",
    "    \"total_passengers_—_annual_other_transportation_mode__specify_\",\n",
    "    \"total_passengers_—_annual_trolley_bus\",\n",
    "    \"total_passengers_—_annual_vanpool\",\n",
    "]\n",
    "\n",
    "group_list = ['entity_name', 'fiscal_year', 'entity_id']"
   ]
  },
  {
   "cell_type": "code",
   "execution_count": null,
   "id": "df297752-a592-4486-9257-dc7cbda5951f",
   "metadata": {
    "tags": []
   },
   "outputs": [],
   "source": [
    "# do all DFs have the same column datatypes?\n",
    "display(\n",
    "    ops_18_20.dtypes.equals(ops_21_22.dtypes),\n",
    "    ops_18_20.dtypes.equals(ops_23_24.dtypes),\n",
    "    ops_21_22.dtypes.equals(ops_23_24.dtypes),\n",
    ")\n",
    "\n",
    "# op_18_20 data types dont match. \n"
   ]
  },
  {
   "cell_type": "code",
   "execution_count": null,
   "id": "ad587d48-e28c-49df-bcdf-96ac540c3802",
   "metadata": {
    "tags": []
   },
   "outputs": [],
   "source": [
    "# columns dont match?\n",
    "col_cats ={\n",
    "    \"date columns\":date_cols,\n",
    "    \"vrh columns\":vrh_cols,\n",
    "    \"vrm columns\":vrm_cols,\n",
    "    \"passenger columns\":passenger_cols\n",
    "}\n",
    "\n",
    "for name, cols in col_cats.items():\n",
    "    print(f\"\"\"Check if data types in {name} match:\n",
    "    FY 18-20 vs 21-22: {ops_18_20[cols].dtypes.equals(ops_21_22[cols].dtypes)},\n",
    "    FY 18-20 vs 23-24: {ops_18_20[cols].dtypes.equals(ops_23_24[cols].dtypes)},\n",
    "    \"\"\")\n",
    "    "
   ]
  },
  {
   "cell_type": "markdown",
   "id": "2bd7d062-b805-4a15-a980-4b076d2803a9",
   "metadata": {},
   "source": [
    "## cleaning date time columns"
   ]
  },
  {
   "cell_type": "code",
   "execution_count": null,
   "id": "813b337b-1f85-4e8c-9aec-3c7865d07022",
   "metadata": {
    "tags": []
   },
   "outputs": [],
   "source": [
    "all_ops = [\n",
    "    ops_18_20,\n",
    "    ops_21_22,\n",
    "    ops_23_24\n",
    "]\n",
    "\n",
    "# what do the date column data types look like in each df?\n",
    "for df in all_ops:\n",
    "    display(\n",
    "        df[date_cols].info()\n",
    "    )\n",
    "    \n",
    "# ops_18_20.date_service_began_operations__mm_dd_yyyy__demand_response_vehicles is an object, everything else is datetime64[ns]"
   ]
  },
  {
   "cell_type": "code",
   "execution_count": null,
   "id": "ada1dfef-65b6-4e45-896a-d984d490d00a",
   "metadata": {
    "tags": []
   },
   "outputs": [],
   "source": [
    "# attempt to change data type from object to datetime64[ns]?\n",
    "ops_18_20[\n",
    "    \"date_service_began_operations__mm_dd_yyyy__demand_response_vehicles\"] = pd.to_datetime(ops_18_20[\n",
    "    \"date_service_began_operations__mm_dd_yyyy__demand_response_vehicles\"], errors= \"coerce\" )\n",
    "\n",
    "# OutOfBoundsDatetime: Out of bounds nanosecond timestamp: 2975-04-21 00:00:00 present at position 141. need errors= \"coerce\" to make invalid datetimes be NaT"
   ]
  },
  {
   "cell_type": "code",
   "execution_count": null,
   "id": "fe74c56f-e541-47c9-a4c3-ed4907445aa2",
   "metadata": {
    "tags": []
   },
   "outputs": [],
   "source": [
    "# connfrming all datatypes match\n",
    "display(\n",
    "    ops_18_20.dtypes.equals(ops_21_22.dtypes),\n",
    "    ops_18_20.dtypes.equals(ops_23_24.dtypes),\n",
    "    ops_21_22.dtypes.equals(ops_23_24.dtypes),\n",
    ") # TRUE!"
   ]
  },
  {
   "cell_type": "code",
   "execution_count": null,
   "id": "ff35df22-5c7a-4835-b83d-3e56516bb369",
   "metadata": {
    "tags": []
   },
   "outputs": [],
   "source": [
    "# check years in each dataframe\n",
    "for df in all_ops:\n",
    "    print(df[\"fiscal_year\"].value_counts())"
   ]
  },
  {
   "cell_type": "markdown",
   "id": "d1a6be74-5463-4b47-8ba3-4aa53188e4cf",
   "metadata": {
    "tags": []
   },
   "source": [
    "## Combining all datasets "
   ]
  },
  {
   "cell_type": "code",
   "execution_count": null,
   "id": "86e17741-8997-4b31-9f26-414d9be2adaf",
   "metadata": {
    "tags": []
   },
   "outputs": [],
   "source": [
    "# Since all DFs have the same columns, concat all DFs together to 1 big raw DF\n",
    "ops_18_24 = pd.concat(all_ops, ignore_index = True)"
   ]
  },
  {
   "cell_type": "code",
   "execution_count": null,
   "id": "54807a0b-dc40-4b01-8a21-bdcf3cb6e62d",
   "metadata": {
    "scrolled": true,
    "tags": []
   },
   "outputs": [],
   "source": [
    "display(\n",
    "    type(ops_18_24),\n",
    "    ops_18_24[\"fiscal_year\"].value_counts(),\n",
    "    ops_18_24.shape,\n",
    "    list(ops_18_24.columns)\n",
    ")\n",
    "\n"
   ]
  },
  {
   "cell_type": "markdown",
   "id": "dac19d30-3bef-4422-a07d-f50d0fdb78a9",
   "metadata": {},
   "source": [
    "## Sum common metrics columns, remove unused columns"
   ]
  },
  {
   "cell_type": "code",
   "execution_count": null,
   "id": "c810819b-f20e-4776-8a59-9ae46d7338ab",
   "metadata": {
    "tags": []
   },
   "outputs": [],
   "source": [
    "ops_18_24[\"total_upt\"] = ops_18_24[passenger_cols].sum(axis=1)\n",
    "ops_18_24[\"total_vrh\"] = ops_18_24[vrh_cols].sum(axis=1)\n",
    "ops_18_24[\"total_vrm\"] = ops_18_24[vrm_cols].sum(axis=1)"
   ]
  },
  {
   "cell_type": "code",
   "execution_count": null,
   "id": "77f53cf0-98be-411e-8998-c5cf9773b105",
   "metadata": {
    "tags": []
   },
   "outputs": [],
   "source": [
    "# keep specific columns\n",
    "sco_18_24 = ops_18_24[group_list+[\"total_upt\",\"total_vrh\",\"total_vrm\"]]"
   ]
  },
  {
   "cell_type": "code",
   "execution_count": null,
   "id": "7ebf75a6-bcce-4370-bc57-3efed3450746",
   "metadata": {
    "tags": []
   },
   "outputs": [],
   "source": [
    "sco_18_24.info()"
   ]
  },
  {
   "cell_type": "markdown",
   "id": "4f596bf5-1c78-475c-993e-ead4a21d003c",
   "metadata": {
    "tags": []
   },
   "source": [
    "## Saving data to GCS as parquet"
   ]
  },
  {
   "cell_type": "code",
   "execution_count": null,
   "id": "55826213-65f2-4bac-bb8d-13cfd0c67373",
   "metadata": {
    "tags": []
   },
   "outputs": [],
   "source": [
    "# saving DFs to GCS\n",
    "\n",
    "gcs_path = \"gs://calitp-analytics-data/data-analyses/ntd/\"\n",
    "all_sco_op_data = \"sco_operator_data_18_24.parquet\"\n",
    "filtered_sco_data = \"sco_upt_vrm_pmt_18_24.parquet\"\n",
    "\n",
    "# saving as parquet\n",
    "# ops_18_24.to_parquet(f\"{gcs_path}{all_sco_op_data}\")\n",
    "# sco_18_24.to_parquet(f\"{gcs_path}{filtered_sco_data}\")\n",
    "\n",
    "# saving as csv\n",
    "# ops_18_24.to_csv(f\"{gcs_path}sco_operator_data_18_24.csv\")\n",
    "# sco_18_24.to_csv(f\"{gcs_path}sco_upt_vrm_pmt_18_24.csv\")"
   ]
  },
  {
   "cell_type": "markdown",
   "id": "18226ec3-94d6-4c02-99c4-f2dd597c5c6b",
   "metadata": {},
   "source": [
    "## Reading in data from GCS as parquet"
   ]
  },
  {
   "cell_type": "code",
   "execution_count": null,
   "id": "4e7ac726-32ce-4139-9a43-d0b662cce69b",
   "metadata": {
    "tags": []
   },
   "outputs": [],
   "source": [
    "# read in parquet, ensure it works \n",
    "ops_18_24 = pd.read_parquet(f\"{gcs_path}{all_sco_op_data}\")\n",
    "\n",
    "sco_18_24 = pd.read_parquet(f\"{gcs_path}{filtered_sco_data}\")"
   ]
  },
  {
   "cell_type": "code",
   "execution_count": null,
   "id": "9ed8e4b6-a079-429b-b2e0-96fee22ea3f8",
   "metadata": {
    "scrolled": true,
    "tags": []
   },
   "outputs": [],
   "source": [
    "ops_18_24.info(),\n",
    "sco_18_24.info()"
   ]
  },
  {
   "cell_type": "markdown",
   "id": "bea56e33-175f-4b86-80f0-f822b3546da2",
   "metadata": {},
   "source": [
    "## SCO Summary findings"
   ]
  },
  {
   "cell_type": "code",
   "execution_count": null,
   "id": "d9e36b68-c798-4f95-bbe1-5db4a3913039",
   "metadata": {
    "tags": []
   },
   "outputs": [],
   "source": [
    "# How many unique entities are there \n",
    "sco_18_24[\"entity_name\"].nunique()"
   ]
  },
  {
   "cell_type": "code",
   "execution_count": null,
   "id": "efc9213c-ea5c-4c17-a67d-adaa8bbb9a06",
   "metadata": {
    "tags": []
   },
   "outputs": [],
   "source": [
    "# how many unique entiries are there from each FY\n",
    "sco_18_24.groupby(\"fiscal_year\")[\"entity_name\"].nunique()"
   ]
  },
  {
   "cell_type": "code",
   "execution_count": null,
   "id": "3709ac69-2ffd-42bd-89a9-9e464fbfb925",
   "metadata": {
    "tags": []
   },
   "outputs": [],
   "source": [
    "# how many unique entity id are there?\n",
    "sco_18_24[\"entity_id\"].nunique()"
   ]
  },
  {
   "cell_type": "code",
   "execution_count": null,
   "id": "77a4d40f-601c-470d-879f-a8cdaf3ba398",
   "metadata": {
    "tags": []
   },
   "outputs": [],
   "source": [
    "# how many have \"specialized services\" in their name\n",
    "sco_18_24[sco_18_24[\"entity_name\"].str.contains(\"Specialized Service\")][\"entity_name\"].nunique()"
   ]
  },
  {
   "cell_type": "code",
   "execution_count": null,
   "id": "22a4eaa6-98c8-4dfd-84e5-e7b56341a7b9",
   "metadata": {
    "tags": []
   },
   "outputs": [],
   "source": [
    "# how many entities do not have \"specialized service\"\n",
    "sco_18_24[~sco_18_24[\"entity_name\"].str.contains(\"Specialized Service\")][\"entity_name\"].nunique()"
   ]
  },
  {
   "cell_type": "markdown",
   "id": "e91fe7e7-2b73-4125-8233-197a34e7dcf8",
   "metadata": {},
   "source": [
    "# Read NTD data from warehouse\n"
   ]
  },
  {
   "cell_type": "markdown",
   "id": "5b13e324-cec2-4900-9049-025c2d4f5dbc",
   "metadata": {},
   "source": [
    "New syntax to query the warehouse\n",
    "```\n",
    "from calitp_data_analysis.sql import get_engine\n",
    "\n",
    "db_engine = get_engine()\n",
    "\n",
    "with db_engine.connect() as connection:\n",
    "    query = \"\"\n",
    "    df = pd.read_sql(query, connection)\n",
    "```"
   ]
  },
  {
   "cell_type": "code",
   "execution_count": 2,
   "id": "31a10354-b2a1-42c4-9add-56affd6c397d",
   "metadata": {},
   "outputs": [],
   "source": [
    "from calitp_data_analysis.sql import get_engine"
   ]
  },
  {
   "cell_type": "code",
   "execution_count": 4,
   "id": "d066f31e-8561-4d5a-9a67-11adcd6e5699",
   "metadata": {},
   "outputs": [],
   "source": [
    "db_engine = get_engine()\n",
    "\n",
    "metric_list = [\n",
    "    \"pmt\",\n",
    "    \"upt\",\n",
    "    \"vrh\"\n",
    "]\n",
    "\n",
    "# empty list for appending DFs\n",
    "df_list = []\n",
    "with db_engine.connect() as connection:\n",
    "    for metric in metric_list:\n",
    "        query = f\"\"\"\n",
    "        SELECT\n",
    "          ntd_id,\n",
    "          SUM({metric}) AS total_{metric},\n",
    "          source_agency,\n",
    "          agency_status,\n",
    "          reporter_type,\n",
    "          year\n",
    "        FROM\n",
    "          `cal-itp-data-infra.mart_ntd_funding_and_expenses.fct_service_data_and_operating_expenses_time_series_by_mode_{metric}`\n",
    "        WHERE\n",
    "          source_state = \"CA\"\n",
    "          AND year >= 2018\n",
    "        GROUP BY\n",
    "          ntd_id,\n",
    "          source_agency,\n",
    "          agency_status,\n",
    "          reporter_type,\n",
    "          year\n",
    "        \"\"\"\n",
    "        # create df\n",
    "        metric = pd.read_sql(query,connection) \n",
    "        \n",
    "        # append df to list\n",
    "        df_list.append(metric)\n",
    "        "
   ]
  },
  {
   "cell_type": "code",
   "execution_count": 5,
   "id": "3c67a942-309f-44fd-a0d1-a26be9297684",
   "metadata": {
    "tags": []
   },
   "outputs": [
    {
     "data": {
      "text/plain": [
       "3"
      ]
     },
     "metadata": {},
     "output_type": "display_data"
    },
    {
     "data": {
      "text/plain": [
       "pandas.core.frame.DataFrame"
      ]
     },
     "metadata": {},
     "output_type": "display_data"
    },
    {
     "data": {
      "text/plain": [
       "pandas.core.frame.DataFrame"
      ]
     },
     "metadata": {},
     "output_type": "display_data"
    },
    {
     "data": {
      "text/plain": [
       "pandas.core.frame.DataFrame"
      ]
     },
     "metadata": {},
     "output_type": "display_data"
    },
    {
     "data": {
      "text/plain": [
       "Index(['ntd_id', 'total_pmt', 'source_agency', 'agency_status',\n",
       "       'reporter_type', 'year'],\n",
       "      dtype='object')"
      ]
     },
     "metadata": {},
     "output_type": "display_data"
    },
    {
     "data": {
      "text/plain": [
       "Index(['ntd_id', 'total_upt', 'source_agency', 'agency_status',\n",
       "       'reporter_type', 'year'],\n",
       "      dtype='object')"
      ]
     },
     "metadata": {},
     "output_type": "display_data"
    },
    {
     "data": {
      "text/plain": [
       "Index(['ntd_id', 'total_vrh', 'source_agency', 'agency_status',\n",
       "       'reporter_type', 'year'],\n",
       "      dtype='object')"
      ]
     },
     "metadata": {},
     "output_type": "display_data"
    }
   ],
   "source": [
    "# confirm DFs were populated in list\n",
    "display(\n",
    "    len(df_list),\n",
    "    type(df_list[0]),type(df_list[1]),type(df_list[2]),\n",
    "    df_list[0].columns, df_list[1].columns, df_list[2].columns\n",
    ")"
   ]
  },
  {
   "cell_type": "code",
   "execution_count": 6,
   "id": "c0950f27-72ea-4218-9033-9ba8e8733ffd",
   "metadata": {
    "tags": []
   },
   "outputs": [],
   "source": [
    "# unpack list into separate DFs\n",
    "ntd_pmt, ntd_upt, ntd_vrh = df_list"
   ]
  },
  {
   "cell_type": "code",
   "execution_count": 7,
   "id": "c8998315-49e7-4d35-83b2-0a3fd82e2690",
   "metadata": {
    "tags": []
   },
   "outputs": [
    {
     "name": "stdout",
     "output_type": "stream",
     "text": [
      "<class 'pandas.core.frame.DataFrame'>\n",
      "RangeIndex: 1614 entries, 0 to 1613\n",
      "Data columns (total 6 columns):\n",
      " #   Column         Non-Null Count  Dtype  \n",
      "---  ------         --------------  -----  \n",
      " 0   ntd_id         1524 non-null   object \n",
      " 1   total_pmt      1291 non-null   float64\n",
      " 2   source_agency  1614 non-null   object \n",
      " 3   agency_status  1614 non-null   object \n",
      " 4   reporter_type  1614 non-null   object \n",
      " 5   year           1614 non-null   int64  \n",
      "dtypes: float64(1), int64(1), object(4)\n",
      "memory usage: 75.8+ KB\n"
     ]
    }
   ],
   "source": [
    "# check if unpack was successful\n",
    "ntd_pmt.info()"
   ]
  },
  {
   "cell_type": "code",
   "execution_count": 8,
   "id": "5028b214-d851-4bdc-a66a-1534154cbe20",
   "metadata": {
    "tags": []
   },
   "outputs": [
    {
     "data": {
      "text/plain": [
       "True"
      ]
     },
     "metadata": {},
     "output_type": "display_data"
    }
   ],
   "source": [
    "# confirm the same years exist in all DFs\n",
    "display(\n",
    "    set(ntd_pmt[\"year\"].sort_values().unique()) == set(ntd_upt[\"year\"].sort_values().unique()) == set(ntd_vrh[\"year\"].sort_values().unique())\n",
    ")"
   ]
  },
  {
   "cell_type": "markdown",
   "id": "8b83b499-9abc-40e7-81cf-ef298e7571c4",
   "metadata": {},
   "source": [
    "# Merge data frames together"
   ]
  },
  {
   "cell_type": "code",
   "execution_count": 9,
   "id": "83c6932f-1acc-4ac0-be3f-0d61aea5a791",
   "metadata": {
    "tags": []
   },
   "outputs": [],
   "source": [
    "merge_cols =[\"ntd_id\", \"year\",\"source_agency\",\"agency_status\", \"reporter_type\"]\n",
    "\n",
    "merge_1 = ntd_pmt.merge(ntd_upt, on= merge_cols, how = \"inner\")"
   ]
  },
  {
   "cell_type": "code",
   "execution_count": 10,
   "id": "86ce6370-73bf-4c0d-9d15-6b30e7521beb",
   "metadata": {
    "tags": []
   },
   "outputs": [],
   "source": [
    "ntd_all_metrics = merge_1.merge(ntd_vrh, on= merge_cols, how = \"inner\")"
   ]
  },
  {
   "cell_type": "code",
   "execution_count": 11,
   "id": "7031ad22-2475-4d27-8ca0-a8129443eedf",
   "metadata": {
    "tags": []
   },
   "outputs": [],
   "source": [
    "col_order =[\n",
    "    \"ntd_id\",\n",
    "    \"source_agency\",\n",
    "    \"agency_status\",\n",
    "    \"reporter_type\",\n",
    "    \"year\",\n",
    "    \"total_upt\",\n",
    "    \"total_vrh\",\n",
    "    \"total_pmt\"\n",
    "]\n",
    "\n",
    "ntd_all_metrics = ntd_all_metrics[col_order]"
   ]
  },
  {
   "cell_type": "code",
   "execution_count": 12,
   "id": "77e4d673-dd5f-4b3f-ae68-e57fb6d5e511",
   "metadata": {
    "tags": []
   },
   "outputs": [
    {
     "data": {
      "text/html": [
       "<div>\n",
       "<style scoped>\n",
       "    .dataframe tbody tr th:only-of-type {\n",
       "        vertical-align: middle;\n",
       "    }\n",
       "\n",
       "    .dataframe tbody tr th {\n",
       "        vertical-align: top;\n",
       "    }\n",
       "\n",
       "    .dataframe thead th {\n",
       "        text-align: right;\n",
       "    }\n",
       "</style>\n",
       "<table border=\"1\" class=\"dataframe\">\n",
       "  <thead>\n",
       "    <tr style=\"text-align: right;\">\n",
       "      <th></th>\n",
       "      <th>ntd_id</th>\n",
       "      <th>source_agency</th>\n",
       "      <th>agency_status</th>\n",
       "      <th>reporter_type</th>\n",
       "      <th>year</th>\n",
       "      <th>total_upt</th>\n",
       "      <th>total_vrh</th>\n",
       "      <th>total_pmt</th>\n",
       "    </tr>\n",
       "  </thead>\n",
       "  <tbody>\n",
       "    <tr>\n",
       "      <th>0</th>\n",
       "      <td>90198</td>\n",
       "      <td>City of Porterville (COLT) - Transit Department</td>\n",
       "      <td>Active</td>\n",
       "      <td>Building Reporter</td>\n",
       "      <td>2018</td>\n",
       "      <td>648649.0</td>\n",
       "      <td>52799.0</td>\n",
       "      <td>0.0</td>\n",
       "    </tr>\n",
       "    <tr>\n",
       "      <th>1</th>\n",
       "      <td>90198</td>\n",
       "      <td>City of Porterville (COLT) - Transit Department</td>\n",
       "      <td>Active</td>\n",
       "      <td>Building Reporter</td>\n",
       "      <td>2022</td>\n",
       "      <td>260879.0</td>\n",
       "      <td>41460.0</td>\n",
       "      <td>0.0</td>\n",
       "    </tr>\n",
       "    <tr>\n",
       "      <th>2</th>\n",
       "      <td>90198</td>\n",
       "      <td>City of Porterville (COLT) - Transit Department</td>\n",
       "      <td>Active</td>\n",
       "      <td>Building Reporter</td>\n",
       "      <td>2020</td>\n",
       "      <td>522056.0</td>\n",
       "      <td>47356.0</td>\n",
       "      <td>0.0</td>\n",
       "    </tr>\n",
       "    <tr>\n",
       "      <th>3</th>\n",
       "      <td>90198</td>\n",
       "      <td>City of Porterville (COLT) - Transit Department</td>\n",
       "      <td>Active</td>\n",
       "      <td>Building Reporter</td>\n",
       "      <td>2023</td>\n",
       "      <td>NaN</td>\n",
       "      <td>NaN</td>\n",
       "      <td>NaN</td>\n",
       "    </tr>\n",
       "    <tr>\n",
       "      <th>4</th>\n",
       "      <td>90198</td>\n",
       "      <td>City of Porterville (COLT) - Transit Department</td>\n",
       "      <td>Active</td>\n",
       "      <td>Building Reporter</td>\n",
       "      <td>2019</td>\n",
       "      <td>635559.0</td>\n",
       "      <td>52834.0</td>\n",
       "      <td>0.0</td>\n",
       "    </tr>\n",
       "    <tr>\n",
       "      <th>5</th>\n",
       "      <td>90198</td>\n",
       "      <td>City of Porterville (COLT) - Transit Department</td>\n",
       "      <td>Active</td>\n",
       "      <td>Building Reporter</td>\n",
       "      <td>2021</td>\n",
       "      <td>174595.0</td>\n",
       "      <td>30773.0</td>\n",
       "      <td>0.0</td>\n",
       "    </tr>\n",
       "    <tr>\n",
       "      <th>6</th>\n",
       "      <td>90036</td>\n",
       "      <td>Orange County Transportation Authority (OCTA)</td>\n",
       "      <td>Active</td>\n",
       "      <td>Full Reporter</td>\n",
       "      <td>2023</td>\n",
       "      <td>32674688.0</td>\n",
       "      <td>2076903.0</td>\n",
       "      <td>137085597.0</td>\n",
       "    </tr>\n",
       "    <tr>\n",
       "      <th>7</th>\n",
       "      <td>90036</td>\n",
       "      <td>Orange County Transportation Authority (OCTA)</td>\n",
       "      <td>Active</td>\n",
       "      <td>Full Reporter</td>\n",
       "      <td>2022</td>\n",
       "      <td>27753507.0</td>\n",
       "      <td>1897023.0</td>\n",
       "      <td>132745034.0</td>\n",
       "    </tr>\n",
       "    <tr>\n",
       "      <th>8</th>\n",
       "      <td>90036</td>\n",
       "      <td>Orange County Transportation Authority (OCTA)</td>\n",
       "      <td>Active</td>\n",
       "      <td>Full Reporter</td>\n",
       "      <td>2019</td>\n",
       "      <td>40743654.0</td>\n",
       "      <td>2638126.0</td>\n",
       "      <td>203590805.0</td>\n",
       "    </tr>\n",
       "    <tr>\n",
       "      <th>9</th>\n",
       "      <td>90036</td>\n",
       "      <td>Orange County Transportation Authority (OCTA)</td>\n",
       "      <td>Active</td>\n",
       "      <td>Full Reporter</td>\n",
       "      <td>2020</td>\n",
       "      <td>33009047.0</td>\n",
       "      <td>2232009.0</td>\n",
       "      <td>155734272.0</td>\n",
       "    </tr>\n",
       "  </tbody>\n",
       "</table>\n",
       "</div>"
      ],
      "text/plain": [
       "  ntd_id                                    source_agency agency_status  \\\n",
       "0  90198  City of Porterville (COLT) - Transit Department        Active   \n",
       "1  90198  City of Porterville (COLT) - Transit Department        Active   \n",
       "2  90198  City of Porterville (COLT) - Transit Department        Active   \n",
       "3  90198  City of Porterville (COLT) - Transit Department        Active   \n",
       "4  90198  City of Porterville (COLT) - Transit Department        Active   \n",
       "5  90198  City of Porterville (COLT) - Transit Department        Active   \n",
       "6  90036    Orange County Transportation Authority (OCTA)        Active   \n",
       "7  90036    Orange County Transportation Authority (OCTA)        Active   \n",
       "8  90036    Orange County Transportation Authority (OCTA)        Active   \n",
       "9  90036    Orange County Transportation Authority (OCTA)        Active   \n",
       "\n",
       "       reporter_type  year   total_upt  total_vrh    total_pmt  \n",
       "0  Building Reporter  2018    648649.0    52799.0          0.0  \n",
       "1  Building Reporter  2022    260879.0    41460.0          0.0  \n",
       "2  Building Reporter  2020    522056.0    47356.0          0.0  \n",
       "3  Building Reporter  2023         NaN        NaN          NaN  \n",
       "4  Building Reporter  2019    635559.0    52834.0          0.0  \n",
       "5  Building Reporter  2021    174595.0    30773.0          0.0  \n",
       "6      Full Reporter  2023  32674688.0  2076903.0  137085597.0  \n",
       "7      Full Reporter  2022  27753507.0  1897023.0  132745034.0  \n",
       "8      Full Reporter  2019  40743654.0  2638126.0  203590805.0  \n",
       "9      Full Reporter  2020  33009047.0  2232009.0  155734272.0  "
      ]
     },
     "execution_count": 12,
     "metadata": {},
     "output_type": "execute_result"
    }
   ],
   "source": [
    "ntd_all_metrics.head(10)"
   ]
  },
  {
   "cell_type": "markdown",
   "id": "9bf69a5a-0e4d-4903-98c5-f583814a02ad",
   "metadata": {},
   "source": [
    "## saving data to gcs"
   ]
  },
  {
   "cell_type": "code",
   "execution_count": 13,
   "id": "4e7a596b-7799-49ff-ab6a-ab27c85d3cf6",
   "metadata": {
    "tags": []
   },
   "outputs": [],
   "source": [
    "gcs_path = \"gs://calitp-analytics-data/data-analyses/ntd/\"\n",
    "ntd_name = \"ntd_operator_data_18_23.parquet\"\n",
    "\n",
    "# ntd_all_metrics.to_parquet(f\"{gcs_path}{ntd_name}\")\n",
    "# ntd_all_metrics.to_csv(f\"{gcs_path}ntd_operator_data_18_23.csv\")"
   ]
  },
  {
   "cell_type": "code",
   "execution_count": 14,
   "id": "828cc8ab-11d4-40df-a4ad-95ef19457494",
   "metadata": {
    "tags": []
   },
   "outputs": [],
   "source": [
    "ntd_all_metrics = pd.read_parquet(f\"{gcs_path}{ntd_name}\")"
   ]
  },
  {
   "cell_type": "code",
   "execution_count": 15,
   "id": "9cd2fc29-0fb7-4a93-b9cb-633b4fa84f46",
   "metadata": {
    "tags": []
   },
   "outputs": [
    {
     "name": "stdout",
     "output_type": "stream",
     "text": [
      "<class 'pandas.core.frame.DataFrame'>\n",
      "Int64Index: 1614 entries, 0 to 1613\n",
      "Data columns (total 8 columns):\n",
      " #   Column         Non-Null Count  Dtype  \n",
      "---  ------         --------------  -----  \n",
      " 0   ntd_id         1524 non-null   object \n",
      " 1   source_agency  1614 non-null   object \n",
      " 2   agency_status  1614 non-null   object \n",
      " 3   reporter_type  1614 non-null   object \n",
      " 4   year           1614 non-null   int64  \n",
      " 5   total_upt      1291 non-null   float64\n",
      " 6   total_vrh      1291 non-null   float64\n",
      " 7   total_pmt      1291 non-null   float64\n",
      "dtypes: float64(3), int64(1), object(4)\n",
      "memory usage: 113.5+ KB\n"
     ]
    }
   ],
   "source": [
    "ntd_all_metrics.info()"
   ]
  },
  {
   "cell_type": "markdown",
   "id": "d4b61cce-4198-44ed-8182-aa082db382b7",
   "metadata": {},
   "source": [
    "# compare sco data to ntd data"
   ]
  },
  {
   "cell_type": "markdown",
   "id": "8783e820-295f-47a1-839e-58037f765558",
   "metadata": {},
   "source": [
    "## Summary "
   ]
  },
  {
   "cell_type": "code",
   "execution_count": null,
   "id": "469f85b1-f649-40b0-8be5-6eab0dd39de8",
   "metadata": {
    "scrolled": true,
    "tags": []
   },
   "outputs": [],
   "source": [
    "print(f\"\"\"Unique agencies in SCO data: {len(sco_18_24[\"entity_name\"].unique())},\n",
    "How many SCO agencies are \"Specialized Services\": {len(sco_18_24[sco_18_24[\"entity_name\"].str.contains(\"Specialized Service\")][\"entity_name\"].unique())}\n",
    "    \n",
    "Unique agencies in NTD data: {len(ntd_all_metrics[\"source_agency\"].unique())},\n",
    "\"\"\")"
   ]
  },
  {
   "cell_type": "markdown",
   "id": "e7091a83-c6c7-408c-8188-2137ba9899ea",
   "metadata": {},
   "source": [
    "## Who are the common agencies from each list?\n",
    "\n",
    "SCO list had short entity names. The short names were used to match with the longer names in ntd data"
   ]
  },
  {
   "cell_type": "code",
   "execution_count": null,
   "id": "57b82d5a-93c1-46e8-98a4-7381985b92d5",
   "metadata": {
    "tags": []
   },
   "outputs": [],
   "source": [
    "sco_agencies = list(sco_18_24[\"entity_name\"].unique())\n",
    "\n",
    "pattern = \"|\".join(sco_agencies)"
   ]
  },
  {
   "cell_type": "code",
   "execution_count": null,
   "id": "7fdc35c0-18e8-47bf-929f-2a6cc4ab647a",
   "metadata": {
    "scrolled": true,
    "tags": []
   },
   "outputs": [],
   "source": [
    "print(f\"\"\"Number of fuzzy match of names between sco and NTD list:\n",
    "    {len(ntd_all_metrics[ntd_all_metrics[\"source_agency\"].str.contains(pattern,case=False)][\"source_agency\"].unique())}\n",
    "\"\"\")\n",
    "\n",
    "ntd_all_metrics[ntd_all_metrics[\"source_agency\"].str.contains(pattern,case=False)][\"source_agency\"].unique()"
   ]
  },
  {
   "cell_type": "markdown",
   "id": "4969a6df-f506-48bf-a77b-097924e8a08e",
   "metadata": {},
   "source": [
    "## Who are the unique agencies in each list?"
   ]
  },
  {
   "cell_type": "code",
   "execution_count": null,
   "id": "f5aba61b-8420-479f-931c-d260ed48a10a",
   "metadata": {
    "scrolled": true,
    "tags": []
   },
   "outputs": [],
   "source": [
    "# **This isnt reliable. found some instances of agencies names appearing in both list\n",
    "# Glendora appears in both list, \n",
    "print(f\"\"\"Number of names that dont fuzzy match:\n",
    "    {len(ntd_all_metrics[~ntd_all_metrics[\"source_agency\"].str.contains(pattern,case=False)][\"source_agency\"].unique())}\n",
    "\"\"\")\n",
    "\n",
    "ntd_all_metrics[~ntd_all_metrics[\"source_agency\"].str.contains(pattern,case=False)][\"source_agency\"].unique()"
   ]
  },
  {
   "cell_type": "code",
   "execution_count": null,
   "id": "2b11674c-8d79-4292-b847-881c6777fc4a",
   "metadata": {
    "tags": []
   },
   "outputs": [],
   "source": [
    "# sanity check\n",
    "agency = \"San Luis Obispo\"\n",
    "\n",
    "display(\n",
    "    ntd_all_metrics[ntd_all_metrics[\"source_agency\"].str.contains(agency)].sort_values(by=[\"source_agency\",\"year\"]).drop(columns=\"total_pmt\"),\n",
    "    sco_18_24[sco_18_24[\"entity_name\"].str.contains(agency)].sort_values(by=[\"entity_name\",\"fiscal_year\"]).drop(columns=\"total_vrm\")\n",
    ")\n",
    "# the SacRT totals match!, Glendora totals matches\n",
    "\n",
    "# Merced JPA: if you add SCO merced jpa and merced jpa special service, they match the ntd merced jpa numbers\n",
    "# same as Gardena\n",
    "\n",
    "# Yosemite Area Regional Transportation System (YARTS) matches in some years and not match in other years "
   ]
  },
  {
   "cell_type": "code",
   "execution_count": null,
   "id": "04a57ce6-2d78-4419-be9d-9d2ea4b549e7",
   "metadata": {},
   "outputs": [],
   "source": []
  },
  {
   "cell_type": "code",
   "execution_count": null,
   "id": "7795c67a-787a-434e-b651-af099ad089e1",
   "metadata": {},
   "outputs": [],
   "source": []
  },
  {
   "cell_type": "code",
   "execution_count": null,
   "id": "1e3809fb-cdf8-4a6a-9160-c5baff2b0737",
   "metadata": {},
   "outputs": [],
   "source": []
  },
  {
   "cell_type": "markdown",
   "id": "52e4ba11-ff91-4514-8670-43a0babc33cc",
   "metadata": {
    "tags": []
   },
   "source": [
    "## test aggregations"
   ]
  },
  {
   "cell_type": "code",
   "execution_count": null,
   "id": "bf274114-5307-4173-98c1-5441da202401",
   "metadata": {
    "tags": []
   },
   "outputs": [],
   "source": [
    "# melt big DF so all columns are under 1 column.\n",
    "group_list = ['entity_name', 'fiscal_year', 'entity_id']\n",
    "\n",
    "melt = pd.melt(\n",
    "    sco_18_24,\n",
    "    id_vars= group_list,\n",
    "    # value_vars = ,\n",
    "    var_name=\"metric\",\n",
    "    value_name=\"metric_unit\",\n",
    "    ignore_index=True,\n",
    ")"
   ]
  },
  {
   "cell_type": "code",
   "execution_count": null,
   "id": "7eecf22f-b9c7-4439-a544-13127e467f56",
   "metadata": {
    "scrolled": true,
    "tags": []
   },
   "outputs": [],
   "source": [
    "# inspect melted DF \n",
    "display(\n",
    "    melt.info(),\n",
    "    melt[\"fiscal_year\"].value_counts(),\n",
    "    melt[\"metric\"].value_counts(),\n",
    "    melt[\"entity_name\"].value_counts(),\n",
    "    melt.head(),\n",
    ")"
   ]
  },
  {
   "cell_type": "code",
   "execution_count": null,
   "id": "f21761db-01f7-4cc8-8417-8a50f1b5100b",
   "metadata": {
    "tags": []
   },
   "outputs": [],
   "source": [
    "# filter melted df by column categories\n",
    "melt[melt[\"metric\"]==\"total_vrm\"].info()"
   ]
  },
  {
   "cell_type": "code",
   "execution_count": null,
   "id": "0276773a-d1a8-4590-89e1-d2440f47f4fe",
   "metadata": {
    "tags": []
   },
   "outputs": [],
   "source": [
    "# What does group/agg the melted DF look like?\n",
    "vrh_total = (\n",
    "    melt[melt[\"metric\"]==\"total_vrh\"]\n",
    "    .groupby([\"entity_name\",\"entity_id\", \"fiscal_year\"])[\"metric_unit\"]\n",
    "    .sum()\n",
    "    .reset_index()\n",
    ").rename(columns={\"metric_unit\":\"total_vrh\"})\n",
    "\n",
    "vrm_total = (\n",
    "    melt[melt[\"metric\"]==\"total_vrm\"]\n",
    "    .groupby([\"entity_name\",\"entity_id\", \"fiscal_year\"])[\"metric_unit\"]\n",
    "    .sum()\n",
    "    .reset_index()\n",
    ").rename(columns={\"metric_unit\":\"total_vrm\"})\n",
    "\n",
    "passenger_total =(\n",
    "    melt[melt[\"metric\"]==\"total_upt\"]\n",
    "    .groupby([\"entity_name\",\"entity_id\", \"fiscal_year\"])[\"metric_unit\"]\n",
    "    .sum()\n",
    "    .reset_index()\n",
    ").rename(columns={\"metric_unit\":\"total_upt\"})\n"
   ]
  },
  {
   "cell_type": "code",
   "execution_count": null,
   "id": "d90425e7-cd16-4191-a9a9-4814e992bba3",
   "metadata": {
    "tags": []
   },
   "outputs": [],
   "source": [
    "# inspect melted DF by just VRH columns in Sacramento\n",
    "all_totals = [\n",
    "    vrh_total,\n",
    "    vrm_total,\n",
    "    passenger_total\n",
    "]\n",
    "\n",
    "for df in all_totals:\n",
    "    display(df[df[\"entity_name\"].str.contains(\"Sacramento\")].head()) # some operators do not have data for some modes. this makes sense."
   ]
  },
  {
   "cell_type": "code",
   "execution_count": null,
   "id": "95527ae9-9399-4096-aec5-1254f2fb284c",
   "metadata": {
    "scrolled": true,
    "tags": []
   },
   "outputs": [],
   "source": [
    "# inspect melted DF by just VRH columns in Sacramento\n",
    "for df in all_totals:\n",
    "    display(df[df[\"entity_name\"].str.contains(\"Albany - Specialized Service\")].head())"
   ]
  },
  {
   "cell_type": "code",
   "execution_count": null,
   "id": "6be02ce4-50a8-4857-9587-b60de8237e5a",
   "metadata": {},
   "outputs": [],
   "source": [
    "alt.Chart(vrh_total).mark_line(point=True).encode(\n",
    "    x=\"fiscal_year:N\",\n",
    "    y=\"total_vrh:Q\",\n",
    "    color=\"entity_name:N\"\n",
    ").properties(width=\"container\")"
   ]
  },
  {
   "cell_type": "code",
   "execution_count": null,
   "id": "1b99a12a-d4c2-4971-9e2e-dd091b1d2da4",
   "metadata": {},
   "outputs": [],
   "source": []
  }
 ],
 "metadata": {
  "kernelspec": {
   "display_name": "Python 3 (ipykernel)",
   "language": "python",
   "name": "python3"
  },
  "language_info": {
   "codemirror_mode": {
    "name": "ipython",
    "version": 3
   },
   "file_extension": ".py",
   "mimetype": "text/x-python",
   "name": "python",
   "nbconvert_exporter": "python",
   "pygments_lexer": "ipython3",
   "version": "3.11.10"
  }
 },
 "nbformat": 4,
 "nbformat_minor": 5
}
