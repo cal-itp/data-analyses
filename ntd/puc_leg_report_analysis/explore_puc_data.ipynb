{
 "cells": [
  {
   "cell_type": "markdown",
   "id": "1f7d5c72-3b6a-4a81-a96b-8c17ed5202f6",
   "metadata": {},
   "source": [
    "# [Research Request - Explore data for PUC 99314.11 leg report #1613](https://github.com/cal-itp/data-analyses/issues/1613)"
   ]
  },
  {
   "cell_type": "markdown",
   "id": "c4f2340b-45b7-4096-b319-de3d2391bafa",
   "metadata": {},
   "source": [
    "Discussed with Peter and Cayman about PUC 99314.11, specifically about sub-section (d)(1)\n",
    "\n",
    ">(d) (1) On or before November 30, 2025, the department shall submit a report to the Legislature on the revenue vehicle hours, ridership, and passenger mile impacts on the services offered by operators to which Sections 99314.6 and 99314.7 do not apply pursuant to subdivision (a)."
   ]
  },
  {
   "cell_type": "markdown",
   "id": "37f9ea06-80fb-4e71-91ae-48997570a564",
   "metadata": {},
   "source": [
    "1. read in SCO data\n",
    "2. read in warehouse data for annual ntd reporters\n",
    "\n",
    "Compare both sources, see which agencies join or not join in either list. \n",
    "\n",
    "Compare data in both sources, see if any annual totals match"
   ]
  },
  {
   "cell_type": "code",
   "execution_count": 1,
   "id": "091174f7-6924-464d-bd6c-9cd55d33d4a3",
   "metadata": {
    "tags": []
   },
   "outputs": [],
   "source": [
    "import pandas as pd\n",
    "from calitp_data_analysis.sql import to_snakecase\n",
    "\n",
    "pd.set_option(\"display.max_rows\", None)\n",
    "pd.set_option(\"display.max_columns\", None)\n",
    "pd.set_option(\"display.max_colwidth\", None)"
   ]
  },
  {
   "cell_type": "markdown",
   "id": "de73c87b-d7d4-4783-8bcb-e30baa538f7c",
   "metadata": {},
   "source": [
    "## Read in SCO data\n",
    "Data is speard out among different excel files for different state fiscal years"
   ]
  },
  {
   "cell_type": "code",
   "execution_count": 2,
   "id": "f4f468fa-4644-48a3-89a7-698e03ab4082",
   "metadata": {
    "tags": []
   },
   "outputs": [],
   "source": [
    "url_23_24 = \"https://bythenumbers.sco.ca.gov/download/bdqr-pszz/application%2Fvnd.openxmlformats-officedocument.spreadsheetml.sheet\"\n",
    "url_21_22 = \"https://bythenumbers.sco.ca.gov/download/aqpg-as24/application%2Fvnd.openxmlformats-officedocument.spreadsheetml.sheet\"\n",
    "url_18_20 = \"https://bythenumbers.sco.ca.gov/download/6dj3-r4jw/application%2Fvnd.openxmlformats-officedocument.spreadsheetml.sheet\"\n",
    "\n",
    "all_years = [\n",
    "    url_23_24,\n",
    "    url_21_22,\n",
    "    url_18_20   \n",
    "]"
   ]
  },
  {
   "cell_type": "code",
   "execution_count": 3,
   "id": "d7ce9be4-1ae5-4f4d-9688-5c5ca87b063a",
   "metadata": {
    "tags": []
   },
   "outputs": [
    {
     "name": "stdout",
     "output_type": "stream",
     "text": [
      "['ENTITIES', '3 TO_REV_EXP', '4 TO_APPROP_LIMIT', '5 TO_OPERATING_DATA', '6 TO_OPCOST_EXCLUSION_EXEMPT', '7 TO_CONTRACT_PRISON', '8 TO_LONG_TERM_DEBT', '9 TO_STATE_NET_POSIT']\n",
      "['ENTITIES', '3 TO_REV_EXP', '4 TO_APPROP_LIMIT', '5 TO_OPERATING_DATA', '6 TO_OPCOST_EXCLUSION_EXEMPT', '7 TO_CONTRACT_PRISON', '8 TO_LONG_TERM_DEBT', '9 TO_STATE_NET_POSIT']\n",
      "['ENTITIES', 'TO_REV_EXP', 'TO_APPROP_LIMIT', 'TO_OPERATING_DATA', 'TO_OPCOST_EXCLUSION_EXEMPT', 'TO_CONTRACT_PRISON', 'TO_LONG_TERM_DEBT', 'TO_STATE_NET_POSIT']\n"
     ]
    }
   ],
   "source": [
    "# what are the sheet names for each excel file?\n",
    "for data in all_years:\n",
    "    sco_info = pd.ExcelFile(data)\n",
    "    print(sco_info.sheet_names)"
   ]
  },
  {
   "cell_type": "code",
   "execution_count": 4,
   "id": "c5529c04-51a3-4fc3-adf8-3b7742785dcd",
   "metadata": {
    "tags": []
   },
   "outputs": [],
   "source": [
    "def make_sco_df(url:str, sheet:str) -> pd.DataFrame:\n",
    "    \"\"\"\n",
    "    Function that reads in each excel url at specific sheet name. then snakecases all the columns\n",
    "    \"\"\"\n",
    "    df = pd.read_excel(url, sheet_name = sheet)\n",
    "    df = to_snakecase(df)\n",
    "    \n",
    "    return df"
   ]
  },
  {
   "cell_type": "code",
   "execution_count": 5,
   "id": "1abb5173-fdad-419a-aeeb-29d1c281b1fd",
   "metadata": {
    "tags": []
   },
   "outputs": [],
   "source": [
    "# make DFs for each excel sheet\n",
    "ops_18_20 = make_sco_df(url_18_20, \"TO_OPERATING_DATA\")\n",
    "ops_21_22 = make_sco_df(url_21_22,\"5 TO_OPERATING_DATA\")\n",
    "ops_23_24 = make_sco_df(url_23_24,\"5 TO_OPERATING_DATA\")"
   ]
  },
  {
   "cell_type": "code",
   "execution_count": 6,
   "id": "b77ef175-5b99-4641-a902-4ca5e261ace7",
   "metadata": {
    "tags": []
   },
   "outputs": [
    {
     "data": {
      "text/plain": [
       "(832, 107)"
      ]
     },
     "metadata": {},
     "output_type": "display_data"
    },
    {
     "data": {
      "text/plain": [
       "(571, 107)"
      ]
     },
     "metadata": {},
     "output_type": "display_data"
    },
    {
     "data": {
      "text/plain": [
       "(558, 107)"
      ]
     },
     "metadata": {},
     "output_type": "display_data"
    }
   ],
   "source": [
    "# examine each sheet was read in successfully\n",
    "display(\n",
    "    ops_18_20.shape,\n",
    "    ops_21_22.shape,\n",
    "    ops_23_24.shape\n",
    ")\n",
    "    "
   ]
  },
  {
   "cell_type": "code",
   "execution_count": 7,
   "id": "5bf9d2ca-f9cc-411a-a07a-461a02dee154",
   "metadata": {
    "tags": []
   },
   "outputs": [
    {
     "data": {
      "text/plain": [
       "True"
      ]
     },
     "execution_count": 7,
     "metadata": {},
     "output_type": "execute_result"
    }
   ],
   "source": [
    "# do all DFs have the same columns?\n",
    "set(ops_18_20.columns) == set(ops_21_22.columns) == set(ops_23_24.columns) #TRUE!"
   ]
  },
  {
   "cell_type": "code",
   "execution_count": 8,
   "id": "83509af4-d525-4532-9745-37b3c6d5e01b",
   "metadata": {
    "scrolled": true,
    "tags": []
   },
   "outputs": [
    {
     "data": {
      "text/plain": [
       "['entity_name',\n",
       " 'fiscal_year',\n",
       " 'entity_id',\n",
       " 'total_passengers_—_annual_motor_bus',\n",
       " 'total_passengers_—_annual_heavy_rail',\n",
       " 'total_passengers_—_annual_light_rail',\n",
       " 'total_passengers_—_annual_trolley_bus',\n",
       " 'total_passengers_—_annual_ferry_boat',\n",
       " 'weekdays_motor_bus_actual_vehicle_revenue_hours_—_annual',\n",
       " 'weekdays_heavy_rail_actual_vehicle_revenue_hours_—_annual',\n",
       " 'weekdays_light_rail_actual_vehicle_revenue_hours_—_annual',\n",
       " 'weekdays_trolley_bus_actual_vehicle_revenue_hours_—_annual',\n",
       " 'weekdays_ferry_boat_actual_vehicle_revenue_hours_—_annual',\n",
       " 'saturdays_motor_bus_actual_vehicle_revenue_hours_—_annual',\n",
       " 'saturdays_heavy_rail_actual_vehicle_revenue_hours_—_annual',\n",
       " 'saturdays_light_rail_actual_vehicle_revenue_hours_—_annual',\n",
       " 'saturdays_trolley_bus_actual_vehicle_revenue_hours_—_annual',\n",
       " 'saturdays_ferry_boat_actual_vehicle_revenue_hours_—_annual',\n",
       " 'sundays_motor_bus_actual_vehicle_revenue_hours_—_annual',\n",
       " 'sundays_heavy_rail_actual_vehicle_revenue_hours_—_annual',\n",
       " 'sundays_light_rail_actual_vehicle_revenue_hours_—_annual',\n",
       " 'sundays_trolley_bus_actual_vehicle_revenue_hours_—_annual',\n",
       " 'sundays_ferry_boat_actual_vehicle_revenue_hours_—_annual',\n",
       " 'total_actual_vehicle_revenue_hours_—_annual_motor_bus_actual_vehicle_revenue_hours_—_annual',\n",
       " 'total_actual_vehicle_revenue_hours_—_annual_heavy_rail_actual_vehicle_revenue_hours_—_annual',\n",
       " 'total_actual_vehicle_revenue_hours_—_annual_light_rail_actual_vehicle_revenue_hours_—_annual',\n",
       " 'total_actual_vehicle_revenue_hours_—_annual_trolley_bus_actual_vehicle_revenue_hours_—_annual',\n",
       " 'total_actual_vehicle_revenue_hours_—_annual_ferry_boat_actual_vehicle_revenue_hours_—_annual',\n",
       " 'total_actual_vehicle_revenue_miles_motor_bus',\n",
       " 'total_actual_vehicle_revenue_miles_heavy_rail',\n",
       " 'total_actual_vehicle_revenue_miles_light_rail',\n",
       " 'total_actual_vehicle_revenue_miles_trolley_bus',\n",
       " 'total_actual_vehicle_revenue_miles_ferry_boat',\n",
       " 'revenue_vehicle_inventory_motor_bus',\n",
       " 'revenue_vehicle_inventory_heavy_rail',\n",
       " 'revenue_vehicle_inventory_light_rail',\n",
       " 'revenue_vehicle_inventory_trolley_bus',\n",
       " 'revenue_vehicle_inventory_ferry_boat',\n",
       " 'weekdays___middays_motor_bus_vehicles_in_operation_—_weekly',\n",
       " 'weekdays___middays_heavy_rail_vehicles_in_operation_—_weekly',\n",
       " 'weekdays___middays_light_rail_vehicles_in_operation_—_weekly',\n",
       " 'weekdays___middays_trolley_bus_vehicles_in_operation_—_weekly',\n",
       " 'weekdays___middays_ferry_boat_vehicles_in_operation_—_weekly',\n",
       " 'weekdays___peak_motor_bus_vehicles_in_operation_—_weekly',\n",
       " 'weekdays___peak_heavy_rail_vehicles_in_operation_—_weekly',\n",
       " 'weekdays___peak_light_rail_vehicles_in_operation_—_weekly',\n",
       " 'weekdays___peak_trolley_bus_vehicles_in_operation_—_weekly',\n",
       " 'weekdays___peak_ferry_boat_vehicles_in_operation_—_weekly',\n",
       " 'saturday_motor_bus_vehicles_in_operation_—_weekly',\n",
       " 'saturday_heavy_rail_vehicles_in_operation_—_weekly',\n",
       " 'saturday_light_rail_vehicles_in_operation_—_weekly',\n",
       " 'saturday_trolley_bus_vehicles_in_operation_—_weekly',\n",
       " 'saturday_ferry_boat_vehicles_in_operation_—_weekly',\n",
       " 'sunday_motor_bus_vehicles_in_operation_—_weekly',\n",
       " 'sunday_heavy_rail_vehicles_in_operation_—_weekly',\n",
       " 'sunday_light_rail_vehicles_in_operation_—_weekly',\n",
       " 'sunday_trolley_bus_vehicles_in_operation_—_weekly',\n",
       " 'sunday_ferry_boat_vehicles_in_operation_—_weekly',\n",
       " 'total_employees_—_public_and_contract_motor_bus',\n",
       " 'total_employees_—_public_and_contract_heavy_rail',\n",
       " 'total_employees_—_public_and_contract_light_rail',\n",
       " 'total_employees_—_public_and_contract_trolley_bus',\n",
       " 'total_employees_—_public_and_contract_ferry_boat',\n",
       " 'date_service_began_operations__mm_dd_yyyy__motor_bus',\n",
       " 'date_service_began_operations__mm_dd_yyyy__heavy_rail',\n",
       " 'date_service_began_operations__mm_dd_yyyy__light_rail',\n",
       " 'date_service_began_operations__mm_dd_yyyy__trolley_bus',\n",
       " 'date_service_began_operations__mm_dd_yyyy__ferry_boat',\n",
       " 'total_passengers_—_annual_demand_response_vehicles',\n",
       " 'total_passengers_—_annual_vanpool',\n",
       " 'total_passengers_—_annual_other_transportation_mode__specify_',\n",
       " 'weekdays_demand_response_vehicles_actual_vehicle_revenue_hours_—_annual',\n",
       " 'weekdays_vanpool_actual_vehicle_revenue_hours_—_annual',\n",
       " 'weekdays_other_transportation_mode__specify__actual_vehicle_revenue_hours_—_annual',\n",
       " 'saturdays_demand_response_vehicles_actual_vehicle_revenue_hours_—_annual',\n",
       " 'saturdays_vanpool_actual_vehicle_revenue_hours_—_annual',\n",
       " 'saturdays_other_transportation_mode__specify__actual_vehicle_revenue_hours_—_annual',\n",
       " 'sundays_demand_response_vehicles_actual_vehicle_revenue_hours_—_annual',\n",
       " 'sundays_vanpool_actual_vehicle_revenue_hours_—_annual',\n",
       " 'sundays_other_transportation_mode__specify__actual_vehicle_revenue_hours_—_annual',\n",
       " 'total_actual_vehicle_revenue_hours_—_annual_demand_response_vehicles_actual_vehicle_revenue_hours_—_annual',\n",
       " 'total_actual_vehicle_revenue_hours_—_annual_vanpool_actual_vehicle_revenue_hours_—_annual',\n",
       " 'total_actual_vehicle_revenue_hours_—_annual_other_transportation_mode__specify__actual_vehicle_revenue_hours_—_annual',\n",
       " 'total_actual_vehicle_revenue_miles_demand_response_vehicles',\n",
       " 'total_actual_vehicle_revenue_miles_vanpool',\n",
       " 'total_actual_vehicle_revenue_miles_other_transportation_mode__specify_',\n",
       " 'revenue_vehicle_inventory_demand_response_vehicles',\n",
       " 'revenue_vehicle_inventory_vanpool',\n",
       " 'revenue_vehicle_inventory_other_transportation_mode__specify_',\n",
       " 'weekdays___middays_demand_response_vehicles_vehicles_in_operation_—_weekly',\n",
       " 'weekdays___middays_vanpool_vehicles_in_operation_—_weekly',\n",
       " 'weekdays___middays_other_transportation_mode__specify__vehicles_in_operation_—_weekly',\n",
       " 'weekdays___peak_demand_response_vehicles_vehicles_in_operation_—_weekly',\n",
       " 'weekdays___peak_vanpool_vehicles_in_operation_—_weekly',\n",
       " 'weekdays___peak_other_transportation_mode__specify__vehicles_in_operation_—_weekly',\n",
       " 'saturday_demand_response_vehicles_vehicles_in_operation_—_weekly',\n",
       " 'saturday_vanpool_vehicles_in_operation_—_weekly',\n",
       " 'saturday_other_transportation_mode__specify__vehicles_in_operation_—_weekly',\n",
       " 'sunday_demand_response_vehicles_vehicles_in_operation_—_weekly',\n",
       " 'sunday_vanpool_vehicles_in_operation_—_weekly',\n",
       " 'sunday_other_transportation_mode__specify__vehicles_in_operation_—_weekly',\n",
       " 'total_employees_—_public_and_contract_demand_response_vehicles',\n",
       " 'total_employees_—_public_and_contract_vanpool',\n",
       " 'total_employees_—_public_and_contract_other_transportation_mode__specify_',\n",
       " 'date_service_began_operations__mm_dd_yyyy__demand_response_vehicles',\n",
       " 'date_service_began_operations__mm_dd_yyyy__vanpool',\n",
       " 'date_service_began_operations__mm_dd_yyyy__other_transportation_mode__specify_']"
      ]
     },
     "execution_count": 8,
     "metadata": {},
     "output_type": "execute_result"
    }
   ],
   "source": [
    "list(ops_23_24.columns)"
   ]
  },
  {
   "cell_type": "code",
   "execution_count": 9,
   "id": "f767a162-ce84-47d9-8743-9f4d454907e4",
   "metadata": {
    "tags": []
   },
   "outputs": [],
   "source": [
    "# group column names by similar categories \n",
    "\n",
    "date_cols =[\n",
    "    'date_service_began_operations__mm_dd_yyyy__motor_bus',\n",
    "    'date_service_began_operations__mm_dd_yyyy__heavy_rail',\n",
    "    'date_service_began_operations__mm_dd_yyyy__light_rail',\n",
    "    'date_service_began_operations__mm_dd_yyyy__trolley_bus',\n",
    "    'date_service_began_operations__mm_dd_yyyy__ferry_boat',\n",
    "    # 'date_service_began_operations__mm_dd_yyyy__demand_response_vehicles',\n",
    "    'date_service_began_operations__mm_dd_yyyy__vanpool',\n",
    "    'date_service_began_operations__mm_dd_yyyy__other_transportation_mode__specify_'\n",
    "]\n",
    "\n",
    "vrh_cols = [\n",
    "    \"total_actual_vehicle_revenue_hours_—_annual_demand_response_vehicles_actual_vehicle_revenue_hours_—_annual\",\n",
    "    \"total_actual_vehicle_revenue_hours_—_annual_ferry_boat_actual_vehicle_revenue_hours_—_annual\",\n",
    "    \"total_actual_vehicle_revenue_hours_—_annual_heavy_rail_actual_vehicle_revenue_hours_—_annual\",\n",
    "    \"total_actual_vehicle_revenue_hours_—_annual_light_rail_actual_vehicle_revenue_hours_—_annual\",\n",
    "    \"total_actual_vehicle_revenue_hours_—_annual_motor_bus_actual_vehicle_revenue_hours_—_annual\",\n",
    "    \"total_actual_vehicle_revenue_hours_—_annual_other_transportation_mode__specify__actual_vehicle_revenue_hours_—_annual\",\n",
    "    \"total_actual_vehicle_revenue_hours_—_annual_trolley_bus_actual_vehicle_revenue_hours_—_annual\",\n",
    "    \"total_actual_vehicle_revenue_hours_—_annual_vanpool_actual_vehicle_revenue_hours_—_annual\",\n",
    "]\n",
    "\n",
    "vrm_cols = [\n",
    "    \"total_actual_vehicle_revenue_miles_demand_response_vehicles\",\n",
    "    \"total_actual_vehicle_revenue_miles_ferry_boat\",\n",
    "    \"total_actual_vehicle_revenue_miles_heavy_rail\",\n",
    "    \"total_actual_vehicle_revenue_miles_light_rail\",\n",
    "    \"total_actual_vehicle_revenue_miles_motor_bus\",\n",
    "    \"total_actual_vehicle_revenue_miles_other_transportation_mode__specify_\",\n",
    "    \"total_actual_vehicle_revenue_miles_trolley_bus\",\n",
    "    \"total_actual_vehicle_revenue_miles_vanpool\",\n",
    "]\n",
    "\n",
    "passenger_cols = [\n",
    "    \"total_passengers_—_annual_demand_response_vehicles\",\n",
    "    \"total_passengers_—_annual_ferry_boat\",\n",
    "    \"total_passengers_—_annual_heavy_rail\",\n",
    "    \"total_passengers_—_annual_light_rail\",\n",
    "    \"total_passengers_—_annual_motor_bus\",\n",
    "    \"total_passengers_—_annual_other_transportation_mode__specify_\",\n",
    "    \"total_passengers_—_annual_trolley_bus\",\n",
    "    \"total_passengers_—_annual_vanpool\",\n",
    "]\n",
    "\n",
    "group_list = ['entity_name', 'fiscal_year', 'entity_id']"
   ]
  },
  {
   "cell_type": "code",
   "execution_count": 10,
   "id": "d71b5a78-3d4c-4eb3-a3e0-6ca65b9c8a87",
   "metadata": {
    "tags": []
   },
   "outputs": [
    {
     "name": "stdout",
     "output_type": "stream",
     "text": [
      "2020    281\n",
      "2019    280\n",
      "2018    271\n",
      "Name: fiscal_year, dtype: int64\n",
      "2021    287\n",
      "2022    284\n",
      "Name: fiscal_year, dtype: int64\n",
      "2024    280\n",
      "2023    278\n",
      "Name: fiscal_year, dtype: int64\n"
     ]
    }
   ],
   "source": [
    "# check years in each dataframe\n",
    "all_ops = [\n",
    "    ops_18_20,\n",
    "    ops_21_22,\n",
    "    ops_23_24\n",
    "]\n",
    "\n",
    "for df in all_ops:\n",
    "    print(df[\"fiscal_year\"].value_counts())"
   ]
  },
  {
   "cell_type": "code",
   "execution_count": 41,
   "id": "86e17741-8997-4b31-9f26-414d9be2adaf",
   "metadata": {
    "tags": []
   },
   "outputs": [],
   "source": [
    "# Since all DFs have the same columns, concat all DFs together to 1 big raw DF\n",
    "ops_18_24 = pd.concat(all_ops, ignore_index = True)"
   ]
  },
  {
   "cell_type": "code",
   "execution_count": 42,
   "id": "6111365e-6762-4f5e-ad91-09c93ffb7e7b",
   "metadata": {
    "tags": []
   },
   "outputs": [
    {
     "data": {
      "text/plain": [
       "pandas.core.frame.DataFrame"
      ]
     },
     "execution_count": 42,
     "metadata": {},
     "output_type": "execute_result"
    }
   ],
   "source": [
    "type(ops_18_24)"
   ]
  },
  {
   "cell_type": "code",
   "execution_count": 43,
   "id": "42f3136f-cba5-4124-9b1a-e7155ae0c969",
   "metadata": {
    "tags": []
   },
   "outputs": [
    {
     "name": "stdout",
     "output_type": "stream",
     "text": [
      "date_service_began_operations__mm_dd_yyyy__motor_bus: datetime64[ns]\n",
      "date_service_began_operations__mm_dd_yyyy__heavy_rail: datetime64[ns]\n",
      "date_service_began_operations__mm_dd_yyyy__light_rail: datetime64[ns]\n",
      "date_service_began_operations__mm_dd_yyyy__trolley_bus: datetime64[ns]\n",
      "date_service_began_operations__mm_dd_yyyy__ferry_boat: datetime64[ns]\n",
      "date_service_began_operations__mm_dd_yyyy__vanpool: datetime64[ns]\n",
      "date_service_began_operations__mm_dd_yyyy__other_transportation_mode__specify_: datetime64[ns]\n"
     ]
    }
   ],
   "source": [
    "for col in date_cols:\n",
    "    print(f\"{col}: {ops_18_24[col].dtype}\")"
   ]
  },
  {
   "cell_type": "code",
   "execution_count": 44,
   "id": "42a1fd3c-3209-4601-8a9e-a29fc487bdd2",
   "metadata": {
    "tags": []
   },
   "outputs": [
    {
     "data": {
      "text/plain": [
       "date_service_began_operations__mm_dd_yyyy__motor_bus                             2003-03-01\n",
       "date_service_began_operations__mm_dd_yyyy__heavy_rail                                   NaT\n",
       "date_service_began_operations__mm_dd_yyyy__light_rail                                   NaT\n",
       "date_service_began_operations__mm_dd_yyyy__trolley_bus                                  NaT\n",
       "date_service_began_operations__mm_dd_yyyy__ferry_boat                                   NaT\n",
       "date_service_began_operations__mm_dd_yyyy__vanpool                                      NaT\n",
       "date_service_began_operations__mm_dd_yyyy__other_transportation_mode__specify_          NaT\n",
       "Name: 400, dtype: datetime64[ns]"
      ]
     },
     "execution_count": 44,
     "metadata": {},
     "output_type": "execute_result"
    }
   ],
   "source": [
    "ops_18_24[date_cols].iloc[400]"
   ]
  },
  {
   "cell_type": "code",
   "execution_count": 45,
   "id": "9dd3eec4-bac3-4015-a89d-8177bb0f3bf2",
   "metadata": {
    "tags": []
   },
   "outputs": [
    {
     "data": {
      "text/plain": [
       "date_service_began_operations__mm_dd_yyyy__motor_bus                             2001-09-01\n",
       "date_service_began_operations__mm_dd_yyyy__heavy_rail                                   NaT\n",
       "date_service_began_operations__mm_dd_yyyy__light_rail                                   NaT\n",
       "date_service_began_operations__mm_dd_yyyy__trolley_bus                                  NaT\n",
       "date_service_began_operations__mm_dd_yyyy__ferry_boat                                   NaT\n",
       "date_service_began_operations__mm_dd_yyyy__vanpool                                      NaT\n",
       "date_service_began_operations__mm_dd_yyyy__other_transportation_mode__specify_   1981-09-01\n",
       "Name: 986, dtype: datetime64[ns]"
      ]
     },
     "execution_count": 45,
     "metadata": {},
     "output_type": "execute_result"
    }
   ],
   "source": [
    "ops_18_24[date_cols].iloc[986]"
   ]
  },
  {
   "cell_type": "code",
   "execution_count": 52,
   "id": "0112361d-843b-4738-95ff-147b119945e5",
   "metadata": {
    "tags": []
   },
   "outputs": [],
   "source": [
    "# change date time for for all date columns\n",
    "\n",
    "for column in date_cols:\n",
    "    ops_18_24[column] = pd.to_datetime(ops_18_24[col], unit = \"D\") # convert to dt\n",
    "    ops_18_24[column] = ops_18_24[column].dt.date"
   ]
  },
  {
   "cell_type": "code",
   "execution_count": 53,
   "id": "f8a3f8dd-9aaa-4302-9f8d-58b8c457c47d",
   "metadata": {
    "tags": []
   },
   "outputs": [
    {
     "name": "stdout",
     "output_type": "stream",
     "text": [
      "date_service_began_operations__mm_dd_yyyy__motor_bus: object\n",
      "date_service_began_operations__mm_dd_yyyy__heavy_rail: object\n",
      "date_service_began_operations__mm_dd_yyyy__light_rail: object\n",
      "date_service_began_operations__mm_dd_yyyy__trolley_bus: object\n",
      "date_service_began_operations__mm_dd_yyyy__ferry_boat: object\n",
      "date_service_began_operations__mm_dd_yyyy__vanpool: object\n",
      "date_service_began_operations__mm_dd_yyyy__other_transportation_mode__specify_: object\n"
     ]
    }
   ],
   "source": [
    "for col in date_cols:\n",
    "    print(f\"{col}: {ops_18_24[col].dtype}\")"
   ]
  },
  {
   "cell_type": "code",
   "execution_count": 54,
   "id": "9b81c974-99d8-43eb-ad90-61dabfedfdea",
   "metadata": {
    "tags": []
   },
   "outputs": [
    {
     "data": {
      "text/plain": [
       "date_service_began_operations__mm_dd_yyyy__motor_bus                              NaT\n",
       "date_service_began_operations__mm_dd_yyyy__heavy_rail                             NaT\n",
       "date_service_began_operations__mm_dd_yyyy__light_rail                             NaT\n",
       "date_service_began_operations__mm_dd_yyyy__trolley_bus                            NaT\n",
       "date_service_began_operations__mm_dd_yyyy__ferry_boat                             NaT\n",
       "date_service_began_operations__mm_dd_yyyy__vanpool                                NaT\n",
       "date_service_began_operations__mm_dd_yyyy__other_transportation_mode__specify_    NaT\n",
       "Name: 400, dtype: object"
      ]
     },
     "execution_count": 54,
     "metadata": {},
     "output_type": "execute_result"
    }
   ],
   "source": [
    "ops_18_24[date_cols].iloc[400]"
   ]
  },
  {
   "cell_type": "code",
   "execution_count": 55,
   "id": "d6702cf6-05fb-4e7f-a724-2b6e5b2f82ac",
   "metadata": {
    "tags": []
   },
   "outputs": [
    {
     "data": {
      "text/plain": [
       "date_service_began_operations__mm_dd_yyyy__motor_bus                              1981-09-01\n",
       "date_service_began_operations__mm_dd_yyyy__heavy_rail                             1981-09-01\n",
       "date_service_began_operations__mm_dd_yyyy__light_rail                             1981-09-01\n",
       "date_service_began_operations__mm_dd_yyyy__trolley_bus                            1981-09-01\n",
       "date_service_began_operations__mm_dd_yyyy__ferry_boat                             1981-09-01\n",
       "date_service_began_operations__mm_dd_yyyy__vanpool                                1981-09-01\n",
       "date_service_began_operations__mm_dd_yyyy__other_transportation_mode__specify_    1981-09-01\n",
       "Name: 986, dtype: object"
      ]
     },
     "execution_count": 55,
     "metadata": {},
     "output_type": "execute_result"
    }
   ],
   "source": [
    "ops_18_24[date_cols].iloc[986]"
   ]
  },
  {
   "cell_type": "code",
   "execution_count": null,
   "id": "689996f2-9074-470a-bbba-33c1867c3f2c",
   "metadata": {
    "tags": []
   },
   "outputs": [],
   "source": [
    "# ensure all years appear\n",
    "display(\n",
    "    ops_18_24[\"fiscal_year\"].value_counts(),\n",
    "    ops_18_24.shape,\n",
    "    ops_18_24.dtypes\n",
    ")"
   ]
  },
  {
   "cell_type": "code",
   "execution_count": 56,
   "id": "55826213-65f2-4bac-bb8d-13cfd0c67373",
   "metadata": {
    "tags": []
   },
   "outputs": [],
   "source": [
    "gcs_path = \"gs://calitp-analytics-data/data-analyses/ntd/\"\n",
    "file_name = \"sco_operator_data_18_24.parquet\"\n",
    "ops_18_24.to_parquet(f\"{gcs_path}{file_name}\")"
   ]
  },
  {
   "cell_type": "code",
   "execution_count": null,
   "id": "4e7ac726-32ce-4139-9a43-d0b662cce69b",
   "metadata": {
    "tags": []
   },
   "outputs": [],
   "source": [
    "parquet = pd.read_parquet(f\"{gcs_path}{file_name}\")"
   ]
  },
  {
   "cell_type": "code",
   "execution_count": 59,
   "id": "9ed8e4b6-a079-429b-b2e0-96fee22ea3f8",
   "metadata": {
    "tags": []
   },
   "outputs": [
    {
     "ename": "NameError",
     "evalue": "name 'parquet' is not defined",
     "output_type": "error",
     "traceback": [
      "\u001b[0;31m---------------------------------------------------------------------------\u001b[0m",
      "\u001b[0;31mNameError\u001b[0m                                 Traceback (most recent call last)",
      "Cell \u001b[0;32mIn[59], line 1\u001b[0m\n\u001b[0;32m----> 1\u001b[0m \u001b[43mparquet\u001b[49m\u001b[38;5;241m.\u001b[39mshape\n",
      "\u001b[0;31mNameError\u001b[0m: name 'parquet' is not defined"
     ]
    }
   ],
   "source": [
    "parquet.shape"
   ]
  },
  {
   "cell_type": "code",
   "execution_count": null,
   "id": "bf274114-5307-4173-98c1-5441da202401",
   "metadata": {
    "tags": []
   },
   "outputs": [],
   "source": [
    "# melt big DF so all columns are under 1 column.\n",
    "melt = pd.melt(\n",
    "    ops_18_24,\n",
    "    id_vars= group_list,\n",
    "    # value_vars = ,\n",
    "    var_name=\"metric\",\n",
    "    value_name=\"metric_unit\",\n",
    "    ignore_index=True,\n",
    ")"
   ]
  },
  {
   "cell_type": "code",
   "execution_count": null,
   "id": "7eecf22f-b9c7-4439-a544-13127e467f56",
   "metadata": {
    "scrolled": true,
    "tags": []
   },
   "outputs": [],
   "source": [
    "# inspect melted DF \n",
    "display(\n",
    "    melt.info(),\n",
    "    melt[\"fiscal_year\"].value_counts(),\n",
    "    melt[\"metric\"].value_counts(),\n",
    "    melt[\"entity_name\"].value_counts(),\n",
    "    melt.head(),\n",
    ")"
   ]
  },
  {
   "cell_type": "code",
   "execution_count": null,
   "id": "f21761db-01f7-4cc8-8417-8a50f1b5100b",
   "metadata": {
    "tags": []
   },
   "outputs": [],
   "source": [
    "# filter melted df by column categories\n",
    "melt[melt[\"metric\"].isin(vrh_cols)].info()"
   ]
  },
  {
   "cell_type": "code",
   "execution_count": null,
   "id": "0276773a-d1a8-4590-89e1-d2440f47f4fe",
   "metadata": {
    "tags": []
   },
   "outputs": [],
   "source": [
    "# What does group/agg the melted DF look like?\n",
    "vrh_total = (\n",
    "    melt[melt[\"metric\"].isin(vrh_cols)]\n",
    "    .groupby([\"entity_name\",\"entity_id\", \"fiscal_year\",\"metric\"])[\"metric_unit\"]\n",
    "    .sum()\n",
    "    .reset_index()\n",
    ")\n",
    "\n",
    "vrm_total = (\n",
    "    melt[melt[\"metric\"].isin(vrm_cols)]\n",
    "    .groupby([\"entity_name\",\"entity_id\", \"fiscal_year\",\"metric\"])[\"metric_unit\"]\n",
    "    .sum()\n",
    "    .reset_index()\n",
    ")\n",
    "\n",
    "passenger_total =(\n",
    "    melt[melt[\"metric\"].isin(passenger_cols)]\n",
    "    .groupby([\"entity_name\",\"entity_id\", \"fiscal_year\",\"metric\"])[\"metric_unit\"]\n",
    "    .sum()\n",
    "    .reset_index()\n",
    ")\n"
   ]
  },
  {
   "cell_type": "code",
   "execution_count": null,
   "id": "d90425e7-cd16-4191-a9a9-4814e992bba3",
   "metadata": {
    "tags": []
   },
   "outputs": [],
   "source": [
    "# inspect melted DF by just VRH columns in Sacramento\n",
    "all_totals = [\n",
    "    vrh_total,\n",
    "    vrm_total,\n",
    "    passenger_total\n",
    "]\n",
    "\n",
    "for df in all_totals:\n",
    "    display(df[df[\"entity_name\"].str.contains(\"Sacramento\") & df[\"metric_unit\"]>0].head()) # some operators do not have data for some modes. this makes sense."
   ]
  },
  {
   "cell_type": "code",
   "execution_count": null,
   "id": "95527ae9-9399-4096-aec5-1254f2fb284c",
   "metadata": {
    "scrolled": true,
    "tags": []
   },
   "outputs": [],
   "source": [
    "# inspect melted DF by just VRH columns in Sacramento\n",
    "for df in all_totals:\n",
    "    display(df[df[\"entity_name\"].str.contains(\"Albany - Specialized Service\") & df[\"metric_unit\"]>0].head())"
   ]
  },
  {
   "cell_type": "code",
   "execution_count": null,
   "id": "0ada901c-2d13-4256-955b-1e945b5de0d9",
   "metadata": {
    "tags": []
   },
   "outputs": [],
   "source": [
    "operators = melt[\"entity_name\"].unique()"
   ]
  },
  {
   "cell_type": "code",
   "execution_count": null,
   "id": "a1004e11-9054-45cd-b5e9-3ecf7d7deded",
   "metadata": {
    "tags": []
   },
   "outputs": [],
   "source": [
    "len(operators)"
   ]
  },
  {
   "cell_type": "markdown",
   "id": "e91fe7e7-2b73-4125-8233-197a34e7dcf8",
   "metadata": {},
   "source": [
    "## read in warehouse data\n"
   ]
  },
  {
   "cell_type": "markdown",
   "id": "5b13e324-cec2-4900-9049-025c2d4f5dbc",
   "metadata": {},
   "source": [
    "New syntax to query the warehouse\n",
    "```\n",
    "from calitp_data_analysis.sql import get_engine\n",
    "\n",
    "db_engine = get_engine()\n",
    "\n",
    "with db_engine.connect() as connection:\n",
    "    query = \"\"\n",
    "    df = pd.read_sql(query, connection)\n",
    "```"
   ]
  },
  {
   "cell_type": "code",
   "execution_count": null,
   "id": "31a10354-b2a1-42c4-9add-56affd6c397d",
   "metadata": {},
   "outputs": [],
   "source": []
  }
 ],
 "metadata": {
  "kernelspec": {
   "display_name": "Python 3 (ipykernel)",
   "language": "python",
   "name": "python3"
  },
  "language_info": {
   "codemirror_mode": {
    "name": "ipython",
    "version": 3
   },
   "file_extension": ".py",
   "mimetype": "text/x-python",
   "name": "python",
   "nbconvert_exporter": "python",
   "pygments_lexer": "ipython3",
   "version": "3.11.10"
  }
 },
 "nbformat": 4,
 "nbformat_minor": 5
}
