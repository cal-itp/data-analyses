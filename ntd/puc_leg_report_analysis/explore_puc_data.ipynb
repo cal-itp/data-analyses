{
 "cells": [
  {
   "cell_type": "markdown",
   "id": "1f7d5c72-3b6a-4a81-a96b-8c17ed5202f6",
   "metadata": {},
   "source": [
    "# [Research Request - Explore data for PUC 99314.11 leg report #1613](https://github.com/cal-itp/data-analyses/issues/1613)"
   ]
  },
  {
   "cell_type": "markdown",
   "id": "c4f2340b-45b7-4096-b319-de3d2391bafa",
   "metadata": {},
   "source": [
    "Discussed with Peter and Cayman about PUC 99314.11, specifically about sub-section (d)(1)\n",
    "\n",
    ">(d) (1) On or before November 30, 2025, the department shall submit a report to the Legislature on the revenue vehicle hours, ridership, and passenger mile impacts on the services offered by operators to which Sections 99314.6 and 99314.7 do not apply pursuant to subdivision (a)."
   ]
  },
  {
   "cell_type": "markdown",
   "id": "37f9ea06-80fb-4e71-91ae-48997570a564",
   "metadata": {},
   "source": [
    "1. read in SCO data\n",
    "2. read in warehouse data for annual ntd reporters\n",
    "\n",
    "Compare both sources, see which agencies join or not join in either list. \n",
    "\n",
    "Compare data in both sources, see if any annual totals match"
   ]
  },
  {
   "cell_type": "code",
   "execution_count": 1,
   "id": "091174f7-6924-464d-bd6c-9cd55d33d4a3",
   "metadata": {
    "tags": []
   },
   "outputs": [],
   "source": [
    "import pandas as pd\n",
    "from calitp_data_analysis.sql import to_snakecase\n",
    "\n",
    "pd.set_option(\"display.max_rows\", None)\n",
    "pd.set_option(\"display.max_columns\", None)\n",
    "pd.set_option(\"display.max_colwidth\", None)"
   ]
  },
  {
   "cell_type": "markdown",
   "id": "de73c87b-d7d4-4783-8bcb-e30baa538f7c",
   "metadata": {},
   "source": [
    "## Read in SCO data\n",
    "Data is speard out among different excel files for different state fiscal years"
   ]
  },
  {
   "cell_type": "code",
   "execution_count": 2,
   "id": "f4f468fa-4644-48a3-89a7-698e03ab4082",
   "metadata": {
    "tags": []
   },
   "outputs": [],
   "source": [
    "url_23_24 = \"https://bythenumbers.sco.ca.gov/download/bdqr-pszz/application%2Fvnd.openxmlformats-officedocument.spreadsheetml.sheet\"\n",
    "url_21_22 = \"https://bythenumbers.sco.ca.gov/download/aqpg-as24/application%2Fvnd.openxmlformats-officedocument.spreadsheetml.sheet\"\n",
    "url_18_20 = \"https://bythenumbers.sco.ca.gov/download/6dj3-r4jw/application%2Fvnd.openxmlformats-officedocument.spreadsheetml.sheet\"\n",
    "\n",
    "all_years = [\n",
    "    url_23_24,\n",
    "    url_21_22,\n",
    "    url_18_20   \n",
    "]"
   ]
  },
  {
   "cell_type": "code",
   "execution_count": 3,
   "id": "d7ce9be4-1ae5-4f4d-9688-5c5ca87b063a",
   "metadata": {
    "tags": []
   },
   "outputs": [
    {
     "name": "stdout",
     "output_type": "stream",
     "text": [
      "['ENTITIES', '3 TO_REV_EXP', '4 TO_APPROP_LIMIT', '5 TO_OPERATING_DATA', '6 TO_OPCOST_EXCLUSION_EXEMPT', '7 TO_CONTRACT_PRISON', '8 TO_LONG_TERM_DEBT', '9 TO_STATE_NET_POSIT']\n",
      "['ENTITIES', '3 TO_REV_EXP', '4 TO_APPROP_LIMIT', '5 TO_OPERATING_DATA', '6 TO_OPCOST_EXCLUSION_EXEMPT', '7 TO_CONTRACT_PRISON', '8 TO_LONG_TERM_DEBT', '9 TO_STATE_NET_POSIT']\n",
      "['ENTITIES', 'TO_REV_EXP', 'TO_APPROP_LIMIT', 'TO_OPERATING_DATA', 'TO_OPCOST_EXCLUSION_EXEMPT', 'TO_CONTRACT_PRISON', 'TO_LONG_TERM_DEBT', 'TO_STATE_NET_POSIT']\n"
     ]
    }
   ],
   "source": [
    "# what are the sheet names for each excel file?\n",
    "for data in all_years:\n",
    "    sco_info = pd.ExcelFile(data)\n",
    "    print(sco_info.sheet_names)"
   ]
  },
  {
   "cell_type": "code",
   "execution_count": 4,
   "id": "c5529c04-51a3-4fc3-adf8-3b7742785dcd",
   "metadata": {
    "tags": []
   },
   "outputs": [],
   "source": [
    "def make_sco_df(url:str, sheet:str) -> pd.DataFrame:\n",
    "    \"\"\"\n",
    "    Function that reads in each excel url at specific sheet name. then snakecases all the columns\n",
    "    \"\"\"\n",
    "    df = pd.read_excel(url, sheet_name = sheet)\n",
    "    df = to_snakecase(df)\n",
    "    \n",
    "    return df"
   ]
  },
  {
   "cell_type": "code",
   "execution_count": 5,
   "id": "1abb5173-fdad-419a-aeeb-29d1c281b1fd",
   "metadata": {
    "tags": []
   },
   "outputs": [],
   "source": [
    "# make DFs for each excel sheet\n",
    "ops_18_20 = make_sco_df(url_18_20, \"TO_OPERATING_DATA\")\n",
    "ops_21_22 = make_sco_df(url_21_22, \"5 TO_OPERATING_DATA\")\n",
    "ops_23_24 = make_sco_df(url_23_24, \"5 TO_OPERATING_DATA\")"
   ]
  },
  {
   "cell_type": "code",
   "execution_count": 6,
   "id": "b77ef175-5b99-4641-a902-4ca5e261ace7",
   "metadata": {
    "tags": []
   },
   "outputs": [
    {
     "data": {
      "text/plain": [
       "(832, 107)"
      ]
     },
     "metadata": {},
     "output_type": "display_data"
    },
    {
     "data": {
      "text/plain": [
       "(571, 107)"
      ]
     },
     "metadata": {},
     "output_type": "display_data"
    },
    {
     "data": {
      "text/plain": [
       "(558, 107)"
      ]
     },
     "metadata": {},
     "output_type": "display_data"
    }
   ],
   "source": [
    "# examine each sheet was read in successfully\n",
    "display(\n",
    "    ops_18_20.shape,\n",
    "    ops_21_22.shape,\n",
    "    ops_23_24.shape\n",
    ")"
   ]
  },
  {
   "cell_type": "code",
   "execution_count": 7,
   "id": "5bf9d2ca-f9cc-411a-a07a-461a02dee154",
   "metadata": {
    "tags": []
   },
   "outputs": [
    {
     "data": {
      "text/plain": [
       "True"
      ]
     },
     "execution_count": 7,
     "metadata": {},
     "output_type": "execute_result"
    }
   ],
   "source": [
    "# do all DFs have the same columns?\n",
    "set(ops_18_20.columns) == set(ops_21_22.columns) == set(ops_23_24.columns) #TRUE!"
   ]
  },
  {
   "cell_type": "code",
   "execution_count": 15,
   "id": "f767a162-ce84-47d9-8743-9f4d454907e4",
   "metadata": {
    "tags": []
   },
   "outputs": [],
   "source": [
    "# group column names by similar categories \n",
    "\n",
    "date_cols =[\n",
    "    'date_service_began_operations__mm_dd_yyyy__motor_bus',\n",
    "    'date_service_began_operations__mm_dd_yyyy__heavy_rail',\n",
    "    'date_service_began_operations__mm_dd_yyyy__light_rail',\n",
    "    'date_service_began_operations__mm_dd_yyyy__trolley_bus',\n",
    "    'date_service_began_operations__mm_dd_yyyy__ferry_boat',\n",
    "    'date_service_began_operations__mm_dd_yyyy__demand_response_vehicles',\n",
    "    'date_service_began_operations__mm_dd_yyyy__vanpool',\n",
    "    'date_service_began_operations__mm_dd_yyyy__other_transportation_mode__specify_'\n",
    "]\n",
    "\n",
    "vrh_cols = [\n",
    "    \"total_actual_vehicle_revenue_hours_—_annual_demand_response_vehicles_actual_vehicle_revenue_hours_—_annual\",\n",
    "    \"total_actual_vehicle_revenue_hours_—_annual_ferry_boat_actual_vehicle_revenue_hours_—_annual\",\n",
    "    \"total_actual_vehicle_revenue_hours_—_annual_heavy_rail_actual_vehicle_revenue_hours_—_annual\",\n",
    "    \"total_actual_vehicle_revenue_hours_—_annual_light_rail_actual_vehicle_revenue_hours_—_annual\",\n",
    "    \"total_actual_vehicle_revenue_hours_—_annual_motor_bus_actual_vehicle_revenue_hours_—_annual\",\n",
    "    \"total_actual_vehicle_revenue_hours_—_annual_other_transportation_mode__specify__actual_vehicle_revenue_hours_—_annual\",\n",
    "    \"total_actual_vehicle_revenue_hours_—_annual_trolley_bus_actual_vehicle_revenue_hours_—_annual\",\n",
    "    \"total_actual_vehicle_revenue_hours_—_annual_vanpool_actual_vehicle_revenue_hours_—_annual\",\n",
    "]\n",
    "\n",
    "vrm_cols = [\n",
    "    \"total_actual_vehicle_revenue_miles_demand_response_vehicles\",\n",
    "    \"total_actual_vehicle_revenue_miles_ferry_boat\",\n",
    "    \"total_actual_vehicle_revenue_miles_heavy_rail\",\n",
    "    \"total_actual_vehicle_revenue_miles_light_rail\",\n",
    "    \"total_actual_vehicle_revenue_miles_motor_bus\",\n",
    "    \"total_actual_vehicle_revenue_miles_other_transportation_mode__specify_\",\n",
    "    \"total_actual_vehicle_revenue_miles_trolley_bus\",\n",
    "    \"total_actual_vehicle_revenue_miles_vanpool\",\n",
    "]\n",
    "\n",
    "passenger_cols = [\n",
    "    \"total_passengers_—_annual_demand_response_vehicles\",\n",
    "    \"total_passengers_—_annual_ferry_boat\",\n",
    "    \"total_passengers_—_annual_heavy_rail\",\n",
    "    \"total_passengers_—_annual_light_rail\",\n",
    "    \"total_passengers_—_annual_motor_bus\",\n",
    "    \"total_passengers_—_annual_other_transportation_mode__specify_\",\n",
    "    \"total_passengers_—_annual_trolley_bus\",\n",
    "    \"total_passengers_—_annual_vanpool\",\n",
    "]\n",
    "\n",
    "group_list = ['entity_name', 'fiscal_year', 'entity_id']"
   ]
  },
  {
   "cell_type": "code",
   "execution_count": 16,
   "id": "df297752-a592-4486-9257-dc7cbda5951f",
   "metadata": {
    "tags": []
   },
   "outputs": [
    {
     "data": {
      "text/plain": [
       "False"
      ]
     },
     "metadata": {},
     "output_type": "display_data"
    },
    {
     "data": {
      "text/plain": [
       "False"
      ]
     },
     "metadata": {},
     "output_type": "display_data"
    },
    {
     "data": {
      "text/plain": [
       "True"
      ]
     },
     "metadata": {},
     "output_type": "display_data"
    }
   ],
   "source": [
    "# do all DFs have the same column datatypes?\n",
    "display(\n",
    "    ops_18_20.dtypes.equals(ops_21_22.dtypes),\n",
    "    ops_18_20.dtypes.equals(ops_23_24.dtypes),\n",
    "    ops_21_22.dtypes.equals(ops_23_24.dtypes),\n",
    ")\n",
    "\n",
    "# op_18_20 data types dont match. \n"
   ]
  },
  {
   "cell_type": "code",
   "execution_count": 36,
   "id": "ad587d48-e28c-49df-bcdf-96ac540c3802",
   "metadata": {
    "tags": []
   },
   "outputs": [
    {
     "name": "stdout",
     "output_type": "stream",
     "text": [
      "Check if data types in date columns match:\n",
      "    FY 18-20 vs 21-22: False,\n",
      "    FY 18-20 vs 23-24: False,\n",
      "    \n",
      "Check if data types in vrh columns match:\n",
      "    FY 18-20 vs 21-22: True,\n",
      "    FY 18-20 vs 23-24: True,\n",
      "    \n",
      "Check if data types in vrm columns match:\n",
      "    FY 18-20 vs 21-22: True,\n",
      "    FY 18-20 vs 23-24: True,\n",
      "    \n",
      "Check if data types in passenger columns match:\n",
      "    FY 18-20 vs 21-22: True,\n",
      "    FY 18-20 vs 23-24: True,\n",
      "    \n"
     ]
    }
   ],
   "source": [
    "# columns dont match?\n",
    "col_cats ={\n",
    "    \"date columns\":date_cols,\n",
    "    \"vrh columns\":vrh_cols,\n",
    "    \"vrm columns\":vrm_cols,\n",
    "    \"passenger columns\":passenger_cols\n",
    "}\n",
    "\n",
    "for name, cols in col_cats.items():\n",
    "    print(f\"\"\"Check if data types in {name} match:\n",
    "    FY 18-20 vs 21-22: {ops_18_20[cols].dtypes.equals(ops_21_22[cols].dtypes)},\n",
    "    FY 18-20 vs 23-24: {ops_18_20[cols].dtypes.equals(ops_23_24[cols].dtypes)},\n",
    "    \"\"\")\n",
    "    "
   ]
  },
  {
   "cell_type": "code",
   "execution_count": 37,
   "id": "813b337b-1f85-4e8c-9aec-3c7865d07022",
   "metadata": {
    "tags": []
   },
   "outputs": [
    {
     "name": "stdout",
     "output_type": "stream",
     "text": [
      "<class 'pandas.core.frame.DataFrame'>\n",
      "RangeIndex: 832 entries, 0 to 831\n",
      "Data columns (total 8 columns):\n",
      " #   Column                                                                          Non-Null Count  Dtype         \n",
      "---  ------                                                                          --------------  -----         \n",
      " 0   date_service_began_operations__mm_dd_yyyy__motor_bus                            424 non-null    datetime64[ns]\n",
      " 1   date_service_began_operations__mm_dd_yyyy__heavy_rail                           24 non-null     datetime64[ns]\n",
      " 2   date_service_began_operations__mm_dd_yyyy__light_rail                           21 non-null     datetime64[ns]\n",
      " 3   date_service_began_operations__mm_dd_yyyy__trolley_bus                          17 non-null     datetime64[ns]\n",
      " 4   date_service_began_operations__mm_dd_yyyy__ferry_boat                           12 non-null     datetime64[ns]\n",
      " 5   date_service_began_operations__mm_dd_yyyy__demand_response_vehicles             489 non-null    object        \n",
      " 6   date_service_began_operations__mm_dd_yyyy__vanpool                              17 non-null     datetime64[ns]\n",
      " 7   date_service_began_operations__mm_dd_yyyy__other_transportation_mode__specify_  40 non-null     datetime64[ns]\n",
      "dtypes: datetime64[ns](7), object(1)\n",
      "memory usage: 52.1+ KB\n"
     ]
    },
    {
     "data": {
      "text/plain": [
       "None"
      ]
     },
     "metadata": {},
     "output_type": "display_data"
    },
    {
     "name": "stdout",
     "output_type": "stream",
     "text": [
      "<class 'pandas.core.frame.DataFrame'>\n",
      "RangeIndex: 571 entries, 0 to 570\n",
      "Data columns (total 8 columns):\n",
      " #   Column                                                                          Non-Null Count  Dtype         \n",
      "---  ------                                                                          --------------  -----         \n",
      " 0   date_service_began_operations__mm_dd_yyyy__motor_bus                            282 non-null    datetime64[ns]\n",
      " 1   date_service_began_operations__mm_dd_yyyy__heavy_rail                           16 non-null     datetime64[ns]\n",
      " 2   date_service_began_operations__mm_dd_yyyy__light_rail                           14 non-null     datetime64[ns]\n",
      " 3   date_service_began_operations__mm_dd_yyyy__trolley_bus                          9 non-null      datetime64[ns]\n",
      " 4   date_service_began_operations__mm_dd_yyyy__ferry_boat                           8 non-null      datetime64[ns]\n",
      " 5   date_service_began_operations__mm_dd_yyyy__demand_response_vehicles             328 non-null    datetime64[ns]\n",
      " 6   date_service_began_operations__mm_dd_yyyy__vanpool                              13 non-null     datetime64[ns]\n",
      " 7   date_service_began_operations__mm_dd_yyyy__other_transportation_mode__specify_  23 non-null     datetime64[ns]\n",
      "dtypes: datetime64[ns](8)\n",
      "memory usage: 35.8 KB\n"
     ]
    },
    {
     "data": {
      "text/plain": [
       "None"
      ]
     },
     "metadata": {},
     "output_type": "display_data"
    },
    {
     "name": "stdout",
     "output_type": "stream",
     "text": [
      "<class 'pandas.core.frame.DataFrame'>\n",
      "RangeIndex: 558 entries, 0 to 557\n",
      "Data columns (total 8 columns):\n",
      " #   Column                                                                          Non-Null Count  Dtype         \n",
      "---  ------                                                                          --------------  -----         \n",
      " 0   date_service_began_operations__mm_dd_yyyy__motor_bus                            276 non-null    datetime64[ns]\n",
      " 1   date_service_began_operations__mm_dd_yyyy__heavy_rail                           16 non-null     datetime64[ns]\n",
      " 2   date_service_began_operations__mm_dd_yyyy__light_rail                           14 non-null     datetime64[ns]\n",
      " 3   date_service_began_operations__mm_dd_yyyy__trolley_bus                          10 non-null     datetime64[ns]\n",
      " 4   date_service_began_operations__mm_dd_yyyy__ferry_boat                           8 non-null      datetime64[ns]\n",
      " 5   date_service_began_operations__mm_dd_yyyy__demand_response_vehicles             328 non-null    datetime64[ns]\n",
      " 6   date_service_began_operations__mm_dd_yyyy__vanpool                              16 non-null     datetime64[ns]\n",
      " 7   date_service_began_operations__mm_dd_yyyy__other_transportation_mode__specify_  27 non-null     datetime64[ns]\n",
      "dtypes: datetime64[ns](8)\n",
      "memory usage: 35.0 KB\n"
     ]
    },
    {
     "data": {
      "text/plain": [
       "None"
      ]
     },
     "metadata": {},
     "output_type": "display_data"
    }
   ],
   "source": [
    "all_ops = [\n",
    "    ops_18_20,\n",
    "    ops_21_22,\n",
    "    ops_23_24\n",
    "]\n",
    "\n",
    "# what do the date column data types look like in each df?\n",
    "for df in all_ops:\n",
    "    display(\n",
    "        df[date_cols].info()\n",
    "    )\n",
    "    \n",
    "# ops_18_20.date_service_began_operations__mm_dd_yyyy__demand_response_vehicles is an object, everything else is datetime64[ns]"
   ]
  },
  {
   "cell_type": "code",
   "execution_count": 67,
   "id": "ada1dfef-65b6-4e45-896a-d984d490d00a",
   "metadata": {
    "tags": []
   },
   "outputs": [],
   "source": [
    "# attempt to change data type from object to datetime64[ns]?\n",
    "ops_18_20[\n",
    "    \"date_service_began_operations__mm_dd_yyyy__demand_response_vehicles\"] = pd.to_datetime(ops_18_20[\n",
    "    \"date_service_began_operations__mm_dd_yyyy__demand_response_vehicles\"], errors= \"coerce\" )\n",
    "\n",
    "# OutOfBoundsDatetime: Out of bounds nanosecond timestamp: 2975-04-21 00:00:00 present at position 141. need errors= \"coerce\" to make invalid datetimes be NaT"
   ]
  },
  {
   "cell_type": "code",
   "execution_count": 69,
   "id": "fe74c56f-e541-47c9-a4c3-ed4907445aa2",
   "metadata": {
    "tags": []
   },
   "outputs": [
    {
     "data": {
      "text/plain": [
       "True"
      ]
     },
     "metadata": {},
     "output_type": "display_data"
    },
    {
     "data": {
      "text/plain": [
       "True"
      ]
     },
     "metadata": {},
     "output_type": "display_data"
    },
    {
     "data": {
      "text/plain": [
       "True"
      ]
     },
     "metadata": {},
     "output_type": "display_data"
    }
   ],
   "source": [
    "# connfrming all datatypes match\n",
    "display(\n",
    "    ops_18_20.dtypes.equals(ops_21_22.dtypes),\n",
    "    ops_18_20.dtypes.equals(ops_23_24.dtypes),\n",
    "    ops_21_22.dtypes.equals(ops_23_24.dtypes),\n",
    ") # TRUE!"
   ]
  },
  {
   "cell_type": "code",
   "execution_count": 70,
   "id": "ff35df22-5c7a-4835-b83d-3e56516bb369",
   "metadata": {
    "tags": []
   },
   "outputs": [
    {
     "name": "stdout",
     "output_type": "stream",
     "text": [
      "2020    281\n",
      "2019    280\n",
      "2018    271\n",
      "Name: fiscal_year, dtype: int64\n",
      "2021    287\n",
      "2022    284\n",
      "Name: fiscal_year, dtype: int64\n",
      "2024    280\n",
      "2023    278\n",
      "Name: fiscal_year, dtype: int64\n"
     ]
    }
   ],
   "source": [
    "# check years in each dataframe\n",
    "for df in all_ops:\n",
    "    print(df[\"fiscal_year\"].value_counts())"
   ]
  },
  {
   "cell_type": "code",
   "execution_count": 71,
   "id": "86e17741-8997-4b31-9f26-414d9be2adaf",
   "metadata": {
    "tags": []
   },
   "outputs": [],
   "source": [
    "# Since all DFs have the same columns, concat all DFs together to 1 big raw DF\n",
    "ops_18_24 = pd.concat(all_ops, ignore_index = True)"
   ]
  },
  {
   "cell_type": "code",
   "execution_count": 72,
   "id": "6111365e-6762-4f5e-ad91-09c93ffb7e7b",
   "metadata": {
    "tags": []
   },
   "outputs": [
    {
     "data": {
      "text/plain": [
       "pandas.core.frame.DataFrame"
      ]
     },
     "execution_count": 72,
     "metadata": {},
     "output_type": "execute_result"
    }
   ],
   "source": [
    "type(ops_18_24)"
   ]
  },
  {
   "cell_type": "code",
   "execution_count": 73,
   "id": "02b0e773-3943-4ff2-983a-e2f4e345bff9",
   "metadata": {
    "tags": []
   },
   "outputs": [
    {
     "name": "stdout",
     "output_type": "stream",
     "text": [
      "<class 'pandas.core.frame.DataFrame'>\n",
      "RangeIndex: 1961 entries, 0 to 1960\n",
      "Data columns (total 8 columns):\n",
      " #   Column                                                                          Non-Null Count  Dtype         \n",
      "---  ------                                                                          --------------  -----         \n",
      " 0   date_service_began_operations__mm_dd_yyyy__motor_bus                            982 non-null    datetime64[ns]\n",
      " 1   date_service_began_operations__mm_dd_yyyy__heavy_rail                           56 non-null     datetime64[ns]\n",
      " 2   date_service_began_operations__mm_dd_yyyy__light_rail                           49 non-null     datetime64[ns]\n",
      " 3   date_service_began_operations__mm_dd_yyyy__trolley_bus                          36 non-null     datetime64[ns]\n",
      " 4   date_service_began_operations__mm_dd_yyyy__ferry_boat                           28 non-null     datetime64[ns]\n",
      " 5   date_service_began_operations__mm_dd_yyyy__demand_response_vehicles             1144 non-null   datetime64[ns]\n",
      " 6   date_service_began_operations__mm_dd_yyyy__vanpool                              46 non-null     datetime64[ns]\n",
      " 7   date_service_began_operations__mm_dd_yyyy__other_transportation_mode__specify_  90 non-null     datetime64[ns]\n",
      "dtypes: datetime64[ns](8)\n",
      "memory usage: 122.7 KB\n"
     ]
    }
   ],
   "source": [
    "# before of the datatypes for date columns\n",
    "ops_18_24[date_cols].info()"
   ]
  },
  {
   "cell_type": "code",
   "execution_count": null,
   "id": "0112361d-843b-4738-95ff-147b119945e5",
   "metadata": {
    "tags": []
   },
   "outputs": [],
   "source": [
    "# change date time for for all date columns\n",
    "\n",
    "# for column in date_cols:\n",
    "#     ops_18_24[column] = pd.to_datetime(ops_18_24[column], unit = \"D\") # convert to dt\n",
    "#     ops_18_24[column] = ops_18_24[column].dt.date"
   ]
  },
  {
   "cell_type": "code",
   "execution_count": null,
   "id": "f8a3f8dd-9aaa-4302-9f8d-58b8c457c47d",
   "metadata": {
    "tags": []
   },
   "outputs": [],
   "source": [
    "# After the datetime changes to date columns\n",
    "ops_18_24[date_cols].info"
   ]
  },
  {
   "cell_type": "code",
   "execution_count": 74,
   "id": "689996f2-9074-470a-bbba-33c1867c3f2c",
   "metadata": {
    "scrolled": true,
    "tags": []
   },
   "outputs": [
    {
     "data": {
      "text/plain": [
       "2021    287\n",
       "2022    284\n",
       "2020    281\n",
       "2019    280\n",
       "2024    280\n",
       "2023    278\n",
       "2018    271\n",
       "Name: fiscal_year, dtype: int64"
      ]
     },
     "metadata": {},
     "output_type": "display_data"
    },
    {
     "data": {
      "text/plain": [
       "(1961, 107)"
      ]
     },
     "metadata": {},
     "output_type": "display_data"
    }
   ],
   "source": [
    "# ensure all years appear\n",
    "display(\n",
    "    ops_18_24[\"fiscal_year\"].value_counts(),\n",
    "    ops_18_24.shape,\n",
    ")"
   ]
  },
  {
   "cell_type": "code",
   "execution_count": 75,
   "id": "55826213-65f2-4bac-bb8d-13cfd0c67373",
   "metadata": {
    "tags": []
   },
   "outputs": [],
   "source": [
    "# saving big DF as parquet to GCS\n",
    "\n",
    "gcs_path = \"gs://calitp-analytics-data/data-analyses/ntd/\"\n",
    "file_name = \"sco_operator_data_18_24.parquet\"\n",
    "\n",
    "# ops_18_24.to_parquet(f\"{gcs_path}{file_name}\")"
   ]
  },
  {
   "cell_type": "code",
   "execution_count": 76,
   "id": "4e7ac726-32ce-4139-9a43-d0b662cce69b",
   "metadata": {
    "tags": []
   },
   "outputs": [],
   "source": [
    "# read in parquet, ensure it works \n",
    "parquet = pd.read_parquet(f\"{gcs_path}{file_name}\")\n",
    "\n"
   ]
  },
  {
   "cell_type": "code",
   "execution_count": 77,
   "id": "9ed8e4b6-a079-429b-b2e0-96fee22ea3f8",
   "metadata": {
    "tags": []
   },
   "outputs": [
    {
     "data": {
      "text/plain": [
       "(1961, 107)"
      ]
     },
     "execution_count": 77,
     "metadata": {},
     "output_type": "execute_result"
    }
   ],
   "source": [
    "parquet.shape"
   ]
  },
  {
   "cell_type": "code",
   "execution_count": null,
   "id": "bf274114-5307-4173-98c1-5441da202401",
   "metadata": {
    "tags": []
   },
   "outputs": [],
   "source": [
    "# melt big DF so all columns are under 1 column.\n",
    "melt = pd.melt(\n",
    "    ops_18_24,\n",
    "    id_vars= group_list,\n",
    "    # value_vars = ,\n",
    "    var_name=\"metric\",\n",
    "    value_name=\"metric_unit\",\n",
    "    ignore_index=True,\n",
    ")"
   ]
  },
  {
   "cell_type": "code",
   "execution_count": null,
   "id": "7eecf22f-b9c7-4439-a544-13127e467f56",
   "metadata": {
    "scrolled": true,
    "tags": []
   },
   "outputs": [],
   "source": [
    "# inspect melted DF \n",
    "display(\n",
    "    melt.info(),\n",
    "    melt[\"fiscal_year\"].value_counts(),\n",
    "    melt[\"metric\"].value_counts(),\n",
    "    melt[\"entity_name\"].value_counts(),\n",
    "    melt.head(),\n",
    ")"
   ]
  },
  {
   "cell_type": "code",
   "execution_count": null,
   "id": "f21761db-01f7-4cc8-8417-8a50f1b5100b",
   "metadata": {
    "tags": []
   },
   "outputs": [],
   "source": [
    "# filter melted df by column categories\n",
    "melt[melt[\"metric\"].isin(vrh_cols)].info()"
   ]
  },
  {
   "cell_type": "code",
   "execution_count": null,
   "id": "0276773a-d1a8-4590-89e1-d2440f47f4fe",
   "metadata": {
    "tags": []
   },
   "outputs": [],
   "source": [
    "# What does group/agg the melted DF look like?\n",
    "vrh_total = (\n",
    "    melt[melt[\"metric\"].isin(vrh_cols)]\n",
    "    .groupby([\"entity_name\",\"entity_id\", \"fiscal_year\",\"metric\"])[\"metric_unit\"]\n",
    "    .sum()\n",
    "    .reset_index()\n",
    ")\n",
    "\n",
    "vrm_total = (\n",
    "    melt[melt[\"metric\"].isin(vrm_cols)]\n",
    "    .groupby([\"entity_name\",\"entity_id\", \"fiscal_year\",\"metric\"])[\"metric_unit\"]\n",
    "    .sum()\n",
    "    .reset_index()\n",
    ")\n",
    "\n",
    "passenger_total =(\n",
    "    melt[melt[\"metric\"].isin(passenger_cols)]\n",
    "    .groupby([\"entity_name\",\"entity_id\", \"fiscal_year\",\"metric\"])[\"metric_unit\"]\n",
    "    .sum()\n",
    "    .reset_index()\n",
    ")\n"
   ]
  },
  {
   "cell_type": "code",
   "execution_count": null,
   "id": "d90425e7-cd16-4191-a9a9-4814e992bba3",
   "metadata": {
    "tags": []
   },
   "outputs": [],
   "source": [
    "# inspect melted DF by just VRH columns in Sacramento\n",
    "all_totals = [\n",
    "    vrh_total,\n",
    "    vrm_total,\n",
    "    passenger_total\n",
    "]\n",
    "\n",
    "for df in all_totals:\n",
    "    display(df[df[\"entity_name\"].str.contains(\"Sacramento\") & df[\"metric_unit\"]>0].head()) # some operators do not have data for some modes. this makes sense."
   ]
  },
  {
   "cell_type": "code",
   "execution_count": null,
   "id": "95527ae9-9399-4096-aec5-1254f2fb284c",
   "metadata": {
    "scrolled": true,
    "tags": []
   },
   "outputs": [],
   "source": [
    "# inspect melted DF by just VRH columns in Sacramento\n",
    "for df in all_totals:\n",
    "    display(df[df[\"entity_name\"].str.contains(\"Albany - Specialized Service\") & df[\"metric_unit\"]>0].head())"
   ]
  },
  {
   "cell_type": "code",
   "execution_count": null,
   "id": "0ada901c-2d13-4256-955b-1e945b5de0d9",
   "metadata": {
    "tags": []
   },
   "outputs": [],
   "source": [
    "operators = melt[\"entity_name\"].unique()"
   ]
  },
  {
   "cell_type": "code",
   "execution_count": null,
   "id": "a1004e11-9054-45cd-b5e9-3ecf7d7deded",
   "metadata": {
    "tags": []
   },
   "outputs": [],
   "source": [
    "len(operators)"
   ]
  },
  {
   "cell_type": "markdown",
   "id": "e91fe7e7-2b73-4125-8233-197a34e7dcf8",
   "metadata": {},
   "source": [
    "## read in warehouse data\n"
   ]
  },
  {
   "cell_type": "markdown",
   "id": "5b13e324-cec2-4900-9049-025c2d4f5dbc",
   "metadata": {},
   "source": [
    "New syntax to query the warehouse\n",
    "```\n",
    "from calitp_data_analysis.sql import get_engine\n",
    "\n",
    "db_engine = get_engine()\n",
    "\n",
    "with db_engine.connect() as connection:\n",
    "    query = \"\"\n",
    "    df = pd.read_sql(query, connection)\n",
    "```"
   ]
  },
  {
   "cell_type": "code",
   "execution_count": null,
   "id": "31a10354-b2a1-42c4-9add-56affd6c397d",
   "metadata": {},
   "outputs": [],
   "source": []
  }
 ],
 "metadata": {
  "kernelspec": {
   "display_name": "Python 3 (ipykernel)",
   "language": "python",
   "name": "python3"
  },
  "language_info": {
   "codemirror_mode": {
    "name": "ipython",
    "version": 3
   },
   "file_extension": ".py",
   "mimetype": "text/x-python",
   "name": "python",
   "nbconvert_exporter": "python",
   "pygments_lexer": "ipython3",
   "version": "3.11.10"
  }
 },
 "nbformat": 4,
 "nbformat_minor": 5
}
