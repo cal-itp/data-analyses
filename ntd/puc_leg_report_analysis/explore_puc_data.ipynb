{
 "cells": [
  {
   "cell_type": "markdown",
   "id": "1f7d5c72-3b6a-4a81-a96b-8c17ed5202f6",
   "metadata": {},
   "source": [
    "# [Research Request - Explore data for PUC 99314.11 leg report #1613](https://github.com/cal-itp/data-analyses/issues/1613)"
   ]
  },
  {
   "cell_type": "markdown",
   "id": "c4f2340b-45b7-4096-b319-de3d2391bafa",
   "metadata": {},
   "source": [
    "Discussed with Peter and Cayman about PUC 99314.11, specifically about sub-section (d)(1)\n",
    "\n",
    ">(d) (1) On or before November 30, 2025, the department shall submit a report to the Legislature on the revenue vehicle hours, ridership, and passenger mile impacts on the services offered by operators to which Sections 99314.6 and 99314.7 do not apply pursuant to subdivision (a)."
   ]
  },
  {
   "cell_type": "markdown",
   "id": "37f9ea06-80fb-4e71-91ae-48997570a564",
   "metadata": {},
   "source": [
    "1. read in SCO data\n",
    "2. read in warehouse data for annual ntd reporters\n",
    "\n",
    "Compare both sources, see which agencies join or not join in either list. \n",
    "\n",
    "Compare data in both sources, see if any annual totals match"
   ]
  },
  {
   "cell_type": "code",
   "execution_count": 1,
   "id": "091174f7-6924-464d-bd6c-9cd55d33d4a3",
   "metadata": {
    "tags": []
   },
   "outputs": [],
   "source": [
    "import pandas as pd\n"
   ]
  },
  {
   "cell_type": "markdown",
   "id": "de73c87b-d7d4-4783-8bcb-e30baa538f7c",
   "metadata": {},
   "source": [
    "## Read in SCO data"
   ]
  },
  {
   "cell_type": "code",
   "execution_count": 2,
   "id": "f4f468fa-4644-48a3-89a7-698e03ab4082",
   "metadata": {
    "tags": []
   },
   "outputs": [],
   "source": [
    "url_sco = \"https://bythenumbers.sco.ca.gov/download/bdqr-pszz/application%2Fvnd.openxmlformats-officedocument.spreadsheetml.sheet\""
   ]
  },
  {
   "cell_type": "code",
   "execution_count": 3,
   "id": "d7ce9be4-1ae5-4f4d-9688-5c5ca87b063a",
   "metadata": {
    "tags": []
   },
   "outputs": [
    {
     "data": {
      "text/plain": [
       "['ENTITIES',\n",
       " '3 TO_REV_EXP',\n",
       " '4 TO_APPROP_LIMIT',\n",
       " '5 TO_OPERATING_DATA',\n",
       " '6 TO_OPCOST_EXCLUSION_EXEMPT',\n",
       " '7 TO_CONTRACT_PRISON',\n",
       " '8 TO_LONG_TERM_DEBT',\n",
       " '9 TO_STATE_NET_POSIT']"
      ]
     },
     "execution_count": 3,
     "metadata": {},
     "output_type": "execute_result"
    }
   ],
   "source": [
    "sco_info = pd.ExcelFile(url_sco)\n",
    "sco_info.sheet_names"
   ]
  },
  {
   "cell_type": "code",
   "execution_count": 4,
   "id": "355dd8fe-a4f5-429c-92b4-5438e929a8c2",
   "metadata": {
    "tags": []
   },
   "outputs": [],
   "source": [
    "data_sco = pd.read_excel(url_sco, sheet_name=\"ENTITIES\")"
   ]
  },
  {
   "cell_type": "code",
   "execution_count": 5,
   "id": "7b3f44ae-db23-4fc9-a71d-68bdbd8c7ff3",
   "metadata": {
    "tags": []
   },
   "outputs": [
    {
     "name": "stdout",
     "output_type": "stream",
     "text": [
      "<class 'pandas.core.frame.DataFrame'>\n",
      "RangeIndex: 282 entries, 0 to 281\n",
      "Data columns (total 14 columns):\n",
      " #   Column                      Non-Null Count  Dtype  \n",
      "---  ------                      --------------  -----  \n",
      " 0   Entity Name                 282 non-null    object \n",
      " 1   Entity ID                   282 non-null    int64  \n",
      " 2   Entity Type                 282 non-null    object \n",
      " 3   County Name                 281 non-null    object \n",
      " 4   Street 1                    265 non-null    object \n",
      " 5   Street 2                    85 non-null     object \n",
      " 6   P.O. Box                    35 non-null     object \n",
      " 7   City                        282 non-null    object \n",
      " 8   State                       282 non-null    object \n",
      " 9   Zip                         282 non-null    object \n",
      " 10  Delete After                3 non-null      float64\n",
      " 11  Fiscal Year End             282 non-null    int64  \n",
      " 12  Electronic Report Due Date  282 non-null    int64  \n",
      " 13  Deleted from System?        282 non-null    object \n",
      "dtypes: float64(1), int64(3), object(10)\n",
      "memory usage: 31.0+ KB\n"
     ]
    },
    {
     "data": {
      "text/plain": [
       "None"
      ]
     },
     "metadata": {},
     "output_type": "display_data"
    },
    {
     "data": {
      "text/html": [
       "<div>\n",
       "<style scoped>\n",
       "    .dataframe tbody tr th:only-of-type {\n",
       "        vertical-align: middle;\n",
       "    }\n",
       "\n",
       "    .dataframe tbody tr th {\n",
       "        vertical-align: top;\n",
       "    }\n",
       "\n",
       "    .dataframe thead th {\n",
       "        text-align: right;\n",
       "    }\n",
       "</style>\n",
       "<table border=\"1\" class=\"dataframe\">\n",
       "  <thead>\n",
       "    <tr style=\"text-align: right;\">\n",
       "      <th></th>\n",
       "      <th>Entity Name</th>\n",
       "      <th>Entity ID</th>\n",
       "      <th>Entity Type</th>\n",
       "      <th>County Name</th>\n",
       "      <th>Street 1</th>\n",
       "      <th>Street 2</th>\n",
       "      <th>P.O. Box</th>\n",
       "      <th>City</th>\n",
       "      <th>State</th>\n",
       "      <th>Zip</th>\n",
       "      <th>Delete After</th>\n",
       "      <th>Fiscal Year End</th>\n",
       "      <th>Electronic Report Due Date</th>\n",
       "      <th>Deleted from System?</th>\n",
       "    </tr>\n",
       "  </thead>\n",
       "  <tbody>\n",
       "    <tr>\n",
       "      <th>0</th>\n",
       "      <td>Access Services for Los Angeles County CTSA - ...</td>\n",
       "      <td>12604</td>\n",
       "      <td>TRS</td>\n",
       "      <td>Los Angeles</td>\n",
       "      <td>3449 Santa Anita Avenue</td>\n",
       "      <td>NaN</td>\n",
       "      <td>NaN</td>\n",
       "      <td>El Monte</td>\n",
       "      <td>CA</td>\n",
       "      <td>91731</td>\n",
       "      <td>NaN</td>\n",
       "      <td>630</td>\n",
       "      <td>131</td>\n",
       "      <td>No</td>\n",
       "    </tr>\n",
       "    <tr>\n",
       "      <th>1</th>\n",
       "      <td>Alameda - Specialized Service</td>\n",
       "      <td>443</td>\n",
       "      <td>TRS</td>\n",
       "      <td>Alameda</td>\n",
       "      <td>2263 Santa Clara, Room 220</td>\n",
       "      <td>NaN</td>\n",
       "      <td>NaN</td>\n",
       "      <td>Alameda</td>\n",
       "      <td>CA</td>\n",
       "      <td>94501</td>\n",
       "      <td>NaN</td>\n",
       "      <td>630</td>\n",
       "      <td>131</td>\n",
       "      <td>No</td>\n",
       "    </tr>\n",
       "    <tr>\n",
       "      <th>2</th>\n",
       "      <td>Alameda-Contra Costa Transit District</td>\n",
       "      <td>444</td>\n",
       "      <td>TRS</td>\n",
       "      <td>Alameda</td>\n",
       "      <td>1600 Franklin Street</td>\n",
       "      <td>NaN</td>\n",
       "      <td>NaN</td>\n",
       "      <td>Oakland</td>\n",
       "      <td>CA</td>\n",
       "      <td>94612</td>\n",
       "      <td>NaN</td>\n",
       "      <td>630</td>\n",
       "      <td>131</td>\n",
       "      <td>No</td>\n",
       "    </tr>\n",
       "    <tr>\n",
       "      <th>3</th>\n",
       "      <td>Albany - Specialized Service</td>\n",
       "      <td>445</td>\n",
       "      <td>TRS</td>\n",
       "      <td>Alameda</td>\n",
       "      <td>1000 San Pablo Avenue</td>\n",
       "      <td>NaN</td>\n",
       "      <td>NaN</td>\n",
       "      <td>Albany</td>\n",
       "      <td>CA</td>\n",
       "      <td>94706</td>\n",
       "      <td>NaN</td>\n",
       "      <td>630</td>\n",
       "      <td>131</td>\n",
       "      <td>No</td>\n",
       "    </tr>\n",
       "    <tr>\n",
       "      <th>4</th>\n",
       "      <td>Alpine County</td>\n",
       "      <td>10443</td>\n",
       "      <td>TRS</td>\n",
       "      <td>Alpine</td>\n",
       "      <td>Alpine County Community Development</td>\n",
       "      <td>50 Diamond Valley Road</td>\n",
       "      <td>NaN</td>\n",
       "      <td>Markleeville</td>\n",
       "      <td>CA</td>\n",
       "      <td>96120</td>\n",
       "      <td>NaN</td>\n",
       "      <td>630</td>\n",
       "      <td>131</td>\n",
       "      <td>No</td>\n",
       "    </tr>\n",
       "  </tbody>\n",
       "</table>\n",
       "</div>"
      ],
      "text/plain": [
       "                                         Entity Name  Entity ID Entity Type  \\\n",
       "0  Access Services for Los Angeles County CTSA - ...      12604         TRS   \n",
       "1                      Alameda - Specialized Service        443         TRS   \n",
       "2              Alameda-Contra Costa Transit District        444         TRS   \n",
       "3                       Albany - Specialized Service        445         TRS   \n",
       "4                                      Alpine County      10443         TRS   \n",
       "\n",
       "   County Name                             Street 1                Street 2  \\\n",
       "0  Los Angeles              3449 Santa Anita Avenue                     NaN   \n",
       "1      Alameda           2263 Santa Clara, Room 220                     NaN   \n",
       "2      Alameda                 1600 Franklin Street                     NaN   \n",
       "3      Alameda                1000 San Pablo Avenue                     NaN   \n",
       "4       Alpine  Alpine County Community Development  50 Diamond Valley Road   \n",
       "\n",
       "  P.O. Box          City State    Zip  Delete After  Fiscal Year End  \\\n",
       "0      NaN      El Monte    CA  91731           NaN              630   \n",
       "1      NaN       Alameda    CA  94501           NaN              630   \n",
       "2      NaN       Oakland    CA  94612           NaN              630   \n",
       "3      NaN        Albany    CA  94706           NaN              630   \n",
       "4      NaN  Markleeville    CA  96120           NaN              630   \n",
       "\n",
       "   Electronic Report Due Date Deleted from System?  \n",
       "0                         131                   No  \n",
       "1                         131                   No  \n",
       "2                         131                   No  \n",
       "3                         131                   No  \n",
       "4                         131                   No  "
      ]
     },
     "metadata": {},
     "output_type": "display_data"
    }
   ],
   "source": [
    "display(\n",
    "    data_sco.info(),\n",
    "    data_sco.head()\n",
    ")"
   ]
  },
  {
   "cell_type": "markdown",
   "id": "e91fe7e7-2b73-4125-8233-197a34e7dcf8",
   "metadata": {},
   "source": [
    "## read in Warehouse data\n"
   ]
  },
  {
   "cell_type": "code",
   "execution_count": null,
   "id": "3463b203-fd8c-4024-96f9-677baba6092b",
   "metadata": {},
   "outputs": [],
   "source": []
  }
 ],
 "metadata": {
  "kernelspec": {
   "display_name": "Python 3 (ipykernel)",
   "language": "python",
   "name": "python3"
  },
  "language_info": {
   "codemirror_mode": {
    "name": "ipython",
    "version": 3
   },
   "file_extension": ".py",
   "mimetype": "text/x-python",
   "name": "python",
   "nbconvert_exporter": "python",
   "pygments_lexer": "ipython3",
   "version": "3.11.10"
  }
 },
 "nbformat": 4,
 "nbformat_minor": 5
}
