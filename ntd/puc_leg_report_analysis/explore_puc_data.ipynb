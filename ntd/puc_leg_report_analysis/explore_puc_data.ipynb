{
 "cells": [
  {
   "cell_type": "markdown",
   "id": "1f7d5c72-3b6a-4a81-a96b-8c17ed5202f6",
   "metadata": {},
   "source": [
    "# [Research Request - Explore data for PUC 99314.11 leg report #1613](https://github.com/cal-itp/data-analyses/issues/1613)"
   ]
  },
  {
   "cell_type": "markdown",
   "id": "c4f2340b-45b7-4096-b319-de3d2391bafa",
   "metadata": {},
   "source": [
    "Discussed with Peter and Cayman about PUC 99314.11, specifically about sub-section (d)(1)\n",
    "\n",
    ">(d) (1) On or before November 30, 2025, the department shall submit a report to the Legislature on the revenue vehicle hours, ridership, and passenger mile impacts on the services offered by operators to which Sections 99314.6 and 99314.7 do not apply pursuant to subdivision (a)."
   ]
  },
  {
   "cell_type": "markdown",
   "id": "37f9ea06-80fb-4e71-91ae-48997570a564",
   "metadata": {},
   "source": [
    "1. read in SCO data\n",
    "2. read in warehouse data for annual ntd reporters\n",
    "\n",
    "Compare both sources, see which agencies join or not join in either list. \n",
    "\n",
    "Compare data in both sources, see if any annual totals match"
   ]
  },
  {
   "cell_type": "code",
   "execution_count": 2,
   "id": "091174f7-6924-464d-bd6c-9cd55d33d4a3",
   "metadata": {
    "tags": []
   },
   "outputs": [],
   "source": [
    "import pandas as pd\n",
    "from calitp_data_analysis.sql import to_snakecase\n",
    "\n",
    "pd.set_option(\"display.max_rows\", None)\n",
    "pd.set_option(\"display.max_columns\", None)\n",
    "pd.set_option(\"display.max_colwidth\", None)"
   ]
  },
  {
   "cell_type": "markdown",
   "id": "de73c87b-d7d4-4783-8bcb-e30baa538f7c",
   "metadata": {
    "jp-MarkdownHeadingCollapsed": true,
    "tags": []
   },
   "source": [
    "## Read in SCO data\n",
    "Data is speard out among different excel files for different state fiscal years"
   ]
  },
  {
   "cell_type": "code",
   "execution_count": null,
   "id": "f4f468fa-4644-48a3-89a7-698e03ab4082",
   "metadata": {
    "tags": []
   },
   "outputs": [],
   "source": [
    "url_23_24 = \"https://bythenumbers.sco.ca.gov/download/bdqr-pszz/application%2Fvnd.openxmlformats-officedocument.spreadsheetml.sheet\"\n",
    "url_21_22 = \"https://bythenumbers.sco.ca.gov/download/aqpg-as24/application%2Fvnd.openxmlformats-officedocument.spreadsheetml.sheet\"\n",
    "url_18_20 = \"https://bythenumbers.sco.ca.gov/download/6dj3-r4jw/application%2Fvnd.openxmlformats-officedocument.spreadsheetml.sheet\"\n",
    "\n",
    "all_years = [\n",
    "    url_23_24,\n",
    "    url_21_22,\n",
    "    url_18_20   \n",
    "]"
   ]
  },
  {
   "cell_type": "code",
   "execution_count": null,
   "id": "d7ce9be4-1ae5-4f4d-9688-5c5ca87b063a",
   "metadata": {
    "tags": []
   },
   "outputs": [],
   "source": [
    "# what are the sheet names for each excel file?\n",
    "for data in all_years:\n",
    "    sco_info = pd.ExcelFile(data)\n",
    "    print(sco_info.sheet_names)"
   ]
  },
  {
   "cell_type": "code",
   "execution_count": null,
   "id": "c5529c04-51a3-4fc3-adf8-3b7742785dcd",
   "metadata": {
    "tags": []
   },
   "outputs": [],
   "source": [
    "def make_sco_df(url:str, sheet:str) -> pd.DataFrame:\n",
    "    \"\"\"\n",
    "    Function that reads in each excel url at specific sheet name. then snakecases all the columns\n",
    "    \"\"\"\n",
    "    df = pd.read_excel(url, sheet_name = sheet)\n",
    "    df = to_snakecase(df)\n",
    "    \n",
    "    return df"
   ]
  },
  {
   "cell_type": "code",
   "execution_count": null,
   "id": "1abb5173-fdad-419a-aeeb-29d1c281b1fd",
   "metadata": {
    "tags": []
   },
   "outputs": [],
   "source": [
    "# make DFs for each excel sheet\n",
    "ops_18_20 = make_sco_df(url_18_20, \"TO_OPERATING_DATA\")\n",
    "ops_21_22 = make_sco_df(url_21_22, \"5 TO_OPERATING_DATA\")\n",
    "ops_23_24 = make_sco_df(url_23_24, \"5 TO_OPERATING_DATA\")"
   ]
  },
  {
   "cell_type": "code",
   "execution_count": null,
   "id": "b77ef175-5b99-4641-a902-4ca5e261ace7",
   "metadata": {
    "tags": []
   },
   "outputs": [],
   "source": [
    "# examine each sheet was read in successfully\n",
    "display(\n",
    "    ops_18_20.shape,\n",
    "    ops_21_22.shape,\n",
    "    ops_23_24.shape\n",
    ")"
   ]
  },
  {
   "cell_type": "markdown",
   "id": "e398cc6d-2167-4232-9055-4efe094731b8",
   "metadata": {
    "jp-MarkdownHeadingCollapsed": true,
    "tags": []
   },
   "source": [
    "## SCO data cleaning"
   ]
  },
  {
   "cell_type": "code",
   "execution_count": null,
   "id": "5bf9d2ca-f9cc-411a-a07a-461a02dee154",
   "metadata": {
    "tags": []
   },
   "outputs": [],
   "source": [
    "# do all DFs have the same columns?\n",
    "set(ops_18_20.columns) == set(ops_21_22.columns) == set(ops_23_24.columns) #TRUE!"
   ]
  },
  {
   "cell_type": "code",
   "execution_count": null,
   "id": "f767a162-ce84-47d9-8743-9f4d454907e4",
   "metadata": {
    "tags": []
   },
   "outputs": [],
   "source": [
    "# group column names by similar categories \n",
    "\n",
    "date_cols =[\n",
    "    'date_service_began_operations__mm_dd_yyyy__motor_bus',\n",
    "    'date_service_began_operations__mm_dd_yyyy__heavy_rail',\n",
    "    'date_service_began_operations__mm_dd_yyyy__light_rail',\n",
    "    'date_service_began_operations__mm_dd_yyyy__trolley_bus',\n",
    "    'date_service_began_operations__mm_dd_yyyy__ferry_boat',\n",
    "    'date_service_began_operations__mm_dd_yyyy__demand_response_vehicles',\n",
    "    'date_service_began_operations__mm_dd_yyyy__vanpool',\n",
    "    'date_service_began_operations__mm_dd_yyyy__other_transportation_mode__specify_'\n",
    "]\n",
    "\n",
    "vrh_cols = [\n",
    "    \"total_actual_vehicle_revenue_hours_—_annual_demand_response_vehicles_actual_vehicle_revenue_hours_—_annual\",\n",
    "    \"total_actual_vehicle_revenue_hours_—_annual_ferry_boat_actual_vehicle_revenue_hours_—_annual\",\n",
    "    \"total_actual_vehicle_revenue_hours_—_annual_heavy_rail_actual_vehicle_revenue_hours_—_annual\",\n",
    "    \"total_actual_vehicle_revenue_hours_—_annual_light_rail_actual_vehicle_revenue_hours_—_annual\",\n",
    "    \"total_actual_vehicle_revenue_hours_—_annual_motor_bus_actual_vehicle_revenue_hours_—_annual\",\n",
    "    \"total_actual_vehicle_revenue_hours_—_annual_other_transportation_mode__specify__actual_vehicle_revenue_hours_—_annual\",\n",
    "    \"total_actual_vehicle_revenue_hours_—_annual_trolley_bus_actual_vehicle_revenue_hours_—_annual\",\n",
    "    \"total_actual_vehicle_revenue_hours_—_annual_vanpool_actual_vehicle_revenue_hours_—_annual\",\n",
    "]\n",
    "\n",
    "vrm_cols = [\n",
    "    \"total_actual_vehicle_revenue_miles_demand_response_vehicles\",\n",
    "    \"total_actual_vehicle_revenue_miles_ferry_boat\",\n",
    "    \"total_actual_vehicle_revenue_miles_heavy_rail\",\n",
    "    \"total_actual_vehicle_revenue_miles_light_rail\",\n",
    "    \"total_actual_vehicle_revenue_miles_motor_bus\",\n",
    "    \"total_actual_vehicle_revenue_miles_other_transportation_mode__specify_\",\n",
    "    \"total_actual_vehicle_revenue_miles_trolley_bus\",\n",
    "    \"total_actual_vehicle_revenue_miles_vanpool\",\n",
    "]\n",
    "\n",
    "passenger_cols = [\n",
    "    \"total_passengers_—_annual_demand_response_vehicles\",\n",
    "    \"total_passengers_—_annual_ferry_boat\",\n",
    "    \"total_passengers_—_annual_heavy_rail\",\n",
    "    \"total_passengers_—_annual_light_rail\",\n",
    "    \"total_passengers_—_annual_motor_bus\",\n",
    "    \"total_passengers_—_annual_other_transportation_mode__specify_\",\n",
    "    \"total_passengers_—_annual_trolley_bus\",\n",
    "    \"total_passengers_—_annual_vanpool\",\n",
    "]\n",
    "\n",
    "group_list = ['entity_name', 'fiscal_year', 'entity_id']"
   ]
  },
  {
   "cell_type": "code",
   "execution_count": null,
   "id": "df297752-a592-4486-9257-dc7cbda5951f",
   "metadata": {
    "tags": []
   },
   "outputs": [],
   "source": [
    "# do all DFs have the same column datatypes?\n",
    "display(\n",
    "    ops_18_20.dtypes.equals(ops_21_22.dtypes),\n",
    "    ops_18_20.dtypes.equals(ops_23_24.dtypes),\n",
    "    ops_21_22.dtypes.equals(ops_23_24.dtypes),\n",
    ")\n",
    "\n",
    "# op_18_20 data types dont match. \n"
   ]
  },
  {
   "cell_type": "code",
   "execution_count": null,
   "id": "ad587d48-e28c-49df-bcdf-96ac540c3802",
   "metadata": {
    "tags": []
   },
   "outputs": [],
   "source": [
    "# columns dont match?\n",
    "col_cats ={\n",
    "    \"date columns\":date_cols,\n",
    "    \"vrh columns\":vrh_cols,\n",
    "    \"vrm columns\":vrm_cols,\n",
    "    \"passenger columns\":passenger_cols\n",
    "}\n",
    "\n",
    "for name, cols in col_cats.items():\n",
    "    print(f\"\"\"Check if data types in {name} match:\n",
    "    FY 18-20 vs 21-22: {ops_18_20[cols].dtypes.equals(ops_21_22[cols].dtypes)},\n",
    "    FY 18-20 vs 23-24: {ops_18_20[cols].dtypes.equals(ops_23_24[cols].dtypes)},\n",
    "    \"\"\")\n",
    "    "
   ]
  },
  {
   "cell_type": "code",
   "execution_count": null,
   "id": "813b337b-1f85-4e8c-9aec-3c7865d07022",
   "metadata": {
    "tags": []
   },
   "outputs": [],
   "source": [
    "all_ops = [\n",
    "    ops_18_20,\n",
    "    ops_21_22,\n",
    "    ops_23_24\n",
    "]\n",
    "\n",
    "# what do the date column data types look like in each df?\n",
    "for df in all_ops:\n",
    "    display(\n",
    "        df[date_cols].info()\n",
    "    )\n",
    "    \n",
    "# ops_18_20.date_service_began_operations__mm_dd_yyyy__demand_response_vehicles is an object, everything else is datetime64[ns]"
   ]
  },
  {
   "cell_type": "code",
   "execution_count": null,
   "id": "ada1dfef-65b6-4e45-896a-d984d490d00a",
   "metadata": {
    "tags": []
   },
   "outputs": [],
   "source": [
    "# attempt to change data type from object to datetime64[ns]?\n",
    "ops_18_20[\n",
    "    \"date_service_began_operations__mm_dd_yyyy__demand_response_vehicles\"] = pd.to_datetime(ops_18_20[\n",
    "    \"date_service_began_operations__mm_dd_yyyy__demand_response_vehicles\"], errors= \"coerce\" )\n",
    "\n",
    "# OutOfBoundsDatetime: Out of bounds nanosecond timestamp: 2975-04-21 00:00:00 present at position 141. need errors= \"coerce\" to make invalid datetimes be NaT"
   ]
  },
  {
   "cell_type": "code",
   "execution_count": null,
   "id": "fe74c56f-e541-47c9-a4c3-ed4907445aa2",
   "metadata": {
    "tags": []
   },
   "outputs": [],
   "source": [
    "# connfrming all datatypes match\n",
    "display(\n",
    "    ops_18_20.dtypes.equals(ops_21_22.dtypes),\n",
    "    ops_18_20.dtypes.equals(ops_23_24.dtypes),\n",
    "    ops_21_22.dtypes.equals(ops_23_24.dtypes),\n",
    ") # TRUE!"
   ]
  },
  {
   "cell_type": "code",
   "execution_count": null,
   "id": "ff35df22-5c7a-4835-b83d-3e56516bb369",
   "metadata": {
    "tags": []
   },
   "outputs": [],
   "source": [
    "# check years in each dataframe\n",
    "for df in all_ops:\n",
    "    print(df[\"fiscal_year\"].value_counts())"
   ]
  },
  {
   "cell_type": "markdown",
   "id": "d1a6be74-5463-4b47-8ba3-4aa53188e4cf",
   "metadata": {
    "jp-MarkdownHeadingCollapsed": true,
    "tags": []
   },
   "source": [
    "## Combining all datasets "
   ]
  },
  {
   "cell_type": "code",
   "execution_count": null,
   "id": "86e17741-8997-4b31-9f26-414d9be2adaf",
   "metadata": {
    "tags": []
   },
   "outputs": [],
   "source": [
    "# Since all DFs have the same columns, concat all DFs together to 1 big raw DF\n",
    "ops_18_24 = pd.concat(all_ops, ignore_index = True)"
   ]
  },
  {
   "cell_type": "code",
   "execution_count": null,
   "id": "6111365e-6762-4f5e-ad91-09c93ffb7e7b",
   "metadata": {
    "tags": []
   },
   "outputs": [],
   "source": [
    "type(ops_18_24)"
   ]
  },
  {
   "cell_type": "code",
   "execution_count": null,
   "id": "02b0e773-3943-4ff2-983a-e2f4e345bff9",
   "metadata": {
    "tags": []
   },
   "outputs": [],
   "source": [
    "# before of the datatypes for date columns\n",
    "ops_18_24[date_cols].info()"
   ]
  },
  {
   "cell_type": "code",
   "execution_count": null,
   "id": "0112361d-843b-4738-95ff-147b119945e5",
   "metadata": {
    "tags": []
   },
   "outputs": [],
   "source": [
    "# change date time for for all date columns\n",
    "\n",
    "# for column in date_cols:\n",
    "#     ops_18_24[column] = pd.to_datetime(ops_18_24[column], unit = \"D\") # convert to dt\n",
    "#     ops_18_24[column] = ops_18_24[column].dt.date"
   ]
  },
  {
   "cell_type": "code",
   "execution_count": null,
   "id": "f8a3f8dd-9aaa-4302-9f8d-58b8c457c47d",
   "metadata": {
    "tags": []
   },
   "outputs": [],
   "source": [
    "# After the datetime changes to date columns\n",
    "ops_18_24[date_cols].info"
   ]
  },
  {
   "cell_type": "code",
   "execution_count": null,
   "id": "689996f2-9074-470a-bbba-33c1867c3f2c",
   "metadata": {
    "scrolled": true,
    "tags": []
   },
   "outputs": [],
   "source": [
    "# ensure all years appear\n",
    "display(\n",
    "    ops_18_24[\"fiscal_year\"].value_counts(),\n",
    "    ops_18_24.shape,\n",
    ")"
   ]
  },
  {
   "cell_type": "markdown",
   "id": "4f596bf5-1c78-475c-993e-ead4a21d003c",
   "metadata": {
    "tags": []
   },
   "source": [
    "## Saving data to GCS as parquet"
   ]
  },
  {
   "cell_type": "code",
   "execution_count": 3,
   "id": "55826213-65f2-4bac-bb8d-13cfd0c67373",
   "metadata": {
    "tags": []
   },
   "outputs": [],
   "source": [
    "# saving big DF as parquet to GCS\n",
    "\n",
    "gcs_path = \"gs://calitp-analytics-data/data-analyses/ntd/\"\n",
    "file_name = \"sco_operator_data_18_24.parquet\"\n",
    "\n",
    "# ops_18_24.to_parquet(f\"{gcs_path}{file_name}\")"
   ]
  },
  {
   "cell_type": "markdown",
   "id": "18226ec3-94d6-4c02-99c4-f2dd597c5c6b",
   "metadata": {},
   "source": [
    "## Reading in data from GCS as parquet"
   ]
  },
  {
   "cell_type": "code",
   "execution_count": 4,
   "id": "4e7ac726-32ce-4139-9a43-d0b662cce69b",
   "metadata": {
    "tags": []
   },
   "outputs": [],
   "source": [
    "# read in parquet, ensure it works \n",
    "ops_18_24 = pd.read_parquet(f\"{gcs_path}{file_name}\")\n",
    "\n"
   ]
  },
  {
   "cell_type": "code",
   "execution_count": 6,
   "id": "9ed8e4b6-a079-429b-b2e0-96fee22ea3f8",
   "metadata": {
    "scrolled": true,
    "tags": []
   },
   "outputs": [
    {
     "data": {
      "text/plain": [
       "entity_name                                                                                                                      object\n",
       "fiscal_year                                                                                                                       int64\n",
       "entity_id                                                                                                                         int64\n",
       "total_passengers_—_annual_motor_bus                                                                                             float64\n",
       "total_passengers_—_annual_heavy_rail                                                                                            float64\n",
       "total_passengers_—_annual_light_rail                                                                                            float64\n",
       "total_passengers_—_annual_trolley_bus                                                                                           float64\n",
       "total_passengers_—_annual_ferry_boat                                                                                            float64\n",
       "weekdays_motor_bus_actual_vehicle_revenue_hours_—_annual                                                                        float64\n",
       "weekdays_heavy_rail_actual_vehicle_revenue_hours_—_annual                                                                       float64\n",
       "weekdays_light_rail_actual_vehicle_revenue_hours_—_annual                                                                       float64\n",
       "weekdays_trolley_bus_actual_vehicle_revenue_hours_—_annual                                                                      float64\n",
       "weekdays_ferry_boat_actual_vehicle_revenue_hours_—_annual                                                                       float64\n",
       "saturdays_motor_bus_actual_vehicle_revenue_hours_—_annual                                                                       float64\n",
       "saturdays_heavy_rail_actual_vehicle_revenue_hours_—_annual                                                                      float64\n",
       "saturdays_light_rail_actual_vehicle_revenue_hours_—_annual                                                                      float64\n",
       "saturdays_trolley_bus_actual_vehicle_revenue_hours_—_annual                                                                     float64\n",
       "saturdays_ferry_boat_actual_vehicle_revenue_hours_—_annual                                                                      float64\n",
       "sundays_motor_bus_actual_vehicle_revenue_hours_—_annual                                                                         float64\n",
       "sundays_heavy_rail_actual_vehicle_revenue_hours_—_annual                                                                        float64\n",
       "sundays_light_rail_actual_vehicle_revenue_hours_—_annual                                                                        float64\n",
       "sundays_trolley_bus_actual_vehicle_revenue_hours_—_annual                                                                       float64\n",
       "sundays_ferry_boat_actual_vehicle_revenue_hours_—_annual                                                                        float64\n",
       "total_actual_vehicle_revenue_hours_—_annual_motor_bus_actual_vehicle_revenue_hours_—_annual                                     float64\n",
       "total_actual_vehicle_revenue_hours_—_annual_heavy_rail_actual_vehicle_revenue_hours_—_annual                                    float64\n",
       "total_actual_vehicle_revenue_hours_—_annual_light_rail_actual_vehicle_revenue_hours_—_annual                                    float64\n",
       "total_actual_vehicle_revenue_hours_—_annual_trolley_bus_actual_vehicle_revenue_hours_—_annual                                   float64\n",
       "total_actual_vehicle_revenue_hours_—_annual_ferry_boat_actual_vehicle_revenue_hours_—_annual                                    float64\n",
       "total_actual_vehicle_revenue_miles_motor_bus                                                                                    float64\n",
       "total_actual_vehicle_revenue_miles_heavy_rail                                                                                   float64\n",
       "total_actual_vehicle_revenue_miles_light_rail                                                                                   float64\n",
       "total_actual_vehicle_revenue_miles_trolley_bus                                                                                  float64\n",
       "total_actual_vehicle_revenue_miles_ferry_boat                                                                                   float64\n",
       "revenue_vehicle_inventory_motor_bus                                                                                             float64\n",
       "revenue_vehicle_inventory_heavy_rail                                                                                            float64\n",
       "revenue_vehicle_inventory_light_rail                                                                                            float64\n",
       "revenue_vehicle_inventory_trolley_bus                                                                                           float64\n",
       "revenue_vehicle_inventory_ferry_boat                                                                                            float64\n",
       "weekdays___middays_motor_bus_vehicles_in_operation_—_weekly                                                                     float64\n",
       "weekdays___middays_heavy_rail_vehicles_in_operation_—_weekly                                                                    float64\n",
       "weekdays___middays_light_rail_vehicles_in_operation_—_weekly                                                                    float64\n",
       "weekdays___middays_trolley_bus_vehicles_in_operation_—_weekly                                                                   float64\n",
       "weekdays___middays_ferry_boat_vehicles_in_operation_—_weekly                                                                    float64\n",
       "weekdays___peak_motor_bus_vehicles_in_operation_—_weekly                                                                        float64\n",
       "weekdays___peak_heavy_rail_vehicles_in_operation_—_weekly                                                                       float64\n",
       "weekdays___peak_light_rail_vehicles_in_operation_—_weekly                                                                       float64\n",
       "weekdays___peak_trolley_bus_vehicles_in_operation_—_weekly                                                                      float64\n",
       "weekdays___peak_ferry_boat_vehicles_in_operation_—_weekly                                                                       float64\n",
       "saturday_motor_bus_vehicles_in_operation_—_weekly                                                                               float64\n",
       "saturday_heavy_rail_vehicles_in_operation_—_weekly                                                                              float64\n",
       "saturday_light_rail_vehicles_in_operation_—_weekly                                                                              float64\n",
       "saturday_trolley_bus_vehicles_in_operation_—_weekly                                                                             float64\n",
       "saturday_ferry_boat_vehicles_in_operation_—_weekly                                                                              float64\n",
       "sunday_motor_bus_vehicles_in_operation_—_weekly                                                                                 float64\n",
       "sunday_heavy_rail_vehicles_in_operation_—_weekly                                                                                float64\n",
       "sunday_light_rail_vehicles_in_operation_—_weekly                                                                                float64\n",
       "sunday_trolley_bus_vehicles_in_operation_—_weekly                                                                               float64\n",
       "sunday_ferry_boat_vehicles_in_operation_—_weekly                                                                                float64\n",
       "total_employees_—_public_and_contract_motor_bus                                                                                 float64\n",
       "total_employees_—_public_and_contract_heavy_rail                                                                                float64\n",
       "total_employees_—_public_and_contract_light_rail                                                                                float64\n",
       "total_employees_—_public_and_contract_trolley_bus                                                                               float64\n",
       "total_employees_—_public_and_contract_ferry_boat                                                                                float64\n",
       "date_service_began_operations__mm_dd_yyyy__motor_bus                                                                     datetime64[ns]\n",
       "date_service_began_operations__mm_dd_yyyy__heavy_rail                                                                    datetime64[ns]\n",
       "date_service_began_operations__mm_dd_yyyy__light_rail                                                                    datetime64[ns]\n",
       "date_service_began_operations__mm_dd_yyyy__trolley_bus                                                                   datetime64[ns]\n",
       "date_service_began_operations__mm_dd_yyyy__ferry_boat                                                                    datetime64[ns]\n",
       "total_passengers_—_annual_demand_response_vehicles                                                                              float64\n",
       "total_passengers_—_annual_vanpool                                                                                               float64\n",
       "total_passengers_—_annual_other_transportation_mode__specify_                                                                   float64\n",
       "weekdays_demand_response_vehicles_actual_vehicle_revenue_hours_—_annual                                                         float64\n",
       "weekdays_vanpool_actual_vehicle_revenue_hours_—_annual                                                                          float64\n",
       "weekdays_other_transportation_mode__specify__actual_vehicle_revenue_hours_—_annual                                              float64\n",
       "saturdays_demand_response_vehicles_actual_vehicle_revenue_hours_—_annual                                                        float64\n",
       "saturdays_vanpool_actual_vehicle_revenue_hours_—_annual                                                                         float64\n",
       "saturdays_other_transportation_mode__specify__actual_vehicle_revenue_hours_—_annual                                             float64\n",
       "sundays_demand_response_vehicles_actual_vehicle_revenue_hours_—_annual                                                          float64\n",
       "sundays_vanpool_actual_vehicle_revenue_hours_—_annual                                                                           float64\n",
       "sundays_other_transportation_mode__specify__actual_vehicle_revenue_hours_—_annual                                               float64\n",
       "total_actual_vehicle_revenue_hours_—_annual_demand_response_vehicles_actual_vehicle_revenue_hours_—_annual                      float64\n",
       "total_actual_vehicle_revenue_hours_—_annual_vanpool_actual_vehicle_revenue_hours_—_annual                                       float64\n",
       "total_actual_vehicle_revenue_hours_—_annual_other_transportation_mode__specify__actual_vehicle_revenue_hours_—_annual           float64\n",
       "total_actual_vehicle_revenue_miles_demand_response_vehicles                                                                     float64\n",
       "total_actual_vehicle_revenue_miles_vanpool                                                                                      float64\n",
       "total_actual_vehicle_revenue_miles_other_transportation_mode__specify_                                                          float64\n",
       "revenue_vehicle_inventory_demand_response_vehicles                                                                              float64\n",
       "revenue_vehicle_inventory_vanpool                                                                                               float64\n",
       "revenue_vehicle_inventory_other_transportation_mode__specify_                                                                   float64\n",
       "weekdays___middays_demand_response_vehicles_vehicles_in_operation_—_weekly                                                      float64\n",
       "weekdays___middays_vanpool_vehicles_in_operation_—_weekly                                                                       float64\n",
       "weekdays___middays_other_transportation_mode__specify__vehicles_in_operation_—_weekly                                           float64\n",
       "weekdays___peak_demand_response_vehicles_vehicles_in_operation_—_weekly                                                         float64\n",
       "weekdays___peak_vanpool_vehicles_in_operation_—_weekly                                                                          float64\n",
       "weekdays___peak_other_transportation_mode__specify__vehicles_in_operation_—_weekly                                              float64\n",
       "saturday_demand_response_vehicles_vehicles_in_operation_—_weekly                                                                float64\n",
       "saturday_vanpool_vehicles_in_operation_—_weekly                                                                                 float64\n",
       "saturday_other_transportation_mode__specify__vehicles_in_operation_—_weekly                                                     float64\n",
       "sunday_demand_response_vehicles_vehicles_in_operation_—_weekly                                                                  float64\n",
       "sunday_vanpool_vehicles_in_operation_—_weekly                                                                                   float64\n",
       "sunday_other_transportation_mode__specify__vehicles_in_operation_—_weekly                                                       float64\n",
       "total_employees_—_public_and_contract_demand_response_vehicles                                                                  float64\n",
       "total_employees_—_public_and_contract_vanpool                                                                                   float64\n",
       "total_employees_—_public_and_contract_other_transportation_mode__specify_                                                       float64\n",
       "date_service_began_operations__mm_dd_yyyy__demand_response_vehicles                                                      datetime64[ns]\n",
       "date_service_began_operations__mm_dd_yyyy__vanpool                                                                       datetime64[ns]\n",
       "date_service_began_operations__mm_dd_yyyy__other_transportation_mode__specify_                                           datetime64[ns]\n",
       "dtype: object"
      ]
     },
     "execution_count": 6,
     "metadata": {},
     "output_type": "execute_result"
    }
   ],
   "source": [
    "ops_18_24.dtypes"
   ]
  },
  {
   "cell_type": "markdown",
   "id": "bea56e33-175f-4b86-80f0-f822b3546da2",
   "metadata": {},
   "source": [
    "## Summary findings"
   ]
  },
  {
   "cell_type": "code",
   "execution_count": 13,
   "id": "d9e36b68-c798-4f95-bbe1-5db4a3913039",
   "metadata": {
    "tags": []
   },
   "outputs": [
    {
     "data": {
      "text/plain": [
       "299"
      ]
     },
     "execution_count": 13,
     "metadata": {},
     "output_type": "execute_result"
    }
   ],
   "source": [
    "# How many unique entities are there \n",
    "ops_18_24[\"entity_name\"].nunique()"
   ]
  },
  {
   "cell_type": "code",
   "execution_count": 17,
   "id": "efc9213c-ea5c-4c17-a67d-adaa8bbb9a06",
   "metadata": {
    "tags": []
   },
   "outputs": [
    {
     "data": {
      "text/plain": [
       "fiscal_year\n",
       "2018    271\n",
       "2019    280\n",
       "2020    281\n",
       "2021    287\n",
       "2022    284\n",
       "2023    278\n",
       "2024    280\n",
       "Name: entity_name, dtype: int64"
      ]
     },
     "execution_count": 17,
     "metadata": {},
     "output_type": "execute_result"
    }
   ],
   "source": [
    "# how many unique entiries are there from each FY\n",
    "ops_18_24.groupby(\"fiscal_year\")[\"entity_name\"].nunique()"
   ]
  },
  {
   "cell_type": "code",
   "execution_count": 10,
   "id": "3709ac69-2ffd-42bd-89a9-9e464fbfb925",
   "metadata": {
    "tags": []
   },
   "outputs": [
    {
     "data": {
      "text/plain": [
       "297"
      ]
     },
     "execution_count": 10,
     "metadata": {},
     "output_type": "execute_result"
    }
   ],
   "source": [
    "# how many unique entity id are there?\n",
    "ops_18_24[\"entity_id\"].nunique()"
   ]
  },
  {
   "cell_type": "code",
   "execution_count": 15,
   "id": "77a4d40f-601c-470d-879f-a8cdaf3ba398",
   "metadata": {
    "tags": []
   },
   "outputs": [
    {
     "data": {
      "text/plain": [
       "114"
      ]
     },
     "execution_count": 15,
     "metadata": {},
     "output_type": "execute_result"
    }
   ],
   "source": [
    "# how many have \"specialized services\" in their name\n",
    "ops_18_24[ops_18_24[\"entity_name\"].str.contains(\"Specialized Service\")][\"entity_name\"].nunique()"
   ]
  },
  {
   "cell_type": "code",
   "execution_count": 20,
   "id": "22a4eaa6-98c8-4dfd-84e5-e7b56341a7b9",
   "metadata": {
    "tags": []
   },
   "outputs": [
    {
     "data": {
      "text/plain": [
       "185"
      ]
     },
     "execution_count": 20,
     "metadata": {},
     "output_type": "execute_result"
    }
   ],
   "source": [
    "# how many entities do not have \"specialized service\"\n",
    "ops_18_24[~ops_18_24[\"entity_name\"].str.contains(\"Specialized Service\")][\"entity_name\"].nunique()"
   ]
  },
  {
   "cell_type": "markdown",
   "id": "52e4ba11-ff91-4514-8670-43a0babc33cc",
   "metadata": {
    "jp-MarkdownHeadingCollapsed": true,
    "tags": []
   },
   "source": [
    "## test aggregations"
   ]
  },
  {
   "cell_type": "code",
   "execution_count": null,
   "id": "bf274114-5307-4173-98c1-5441da202401",
   "metadata": {
    "tags": []
   },
   "outputs": [],
   "source": [
    "# melt big DF so all columns are under 1 column.\n",
    "melt = pd.melt(\n",
    "    ops_18_24,\n",
    "    id_vars= group_list,\n",
    "    # value_vars = ,\n",
    "    var_name=\"metric\",\n",
    "    value_name=\"metric_unit\",\n",
    "    ignore_index=True,\n",
    ")"
   ]
  },
  {
   "cell_type": "code",
   "execution_count": null,
   "id": "7eecf22f-b9c7-4439-a544-13127e467f56",
   "metadata": {
    "scrolled": true,
    "tags": []
   },
   "outputs": [],
   "source": [
    "# inspect melted DF \n",
    "display(\n",
    "    melt.info(),\n",
    "    melt[\"fiscal_year\"].value_counts(),\n",
    "    melt[\"metric\"].value_counts(),\n",
    "    melt[\"entity_name\"].value_counts(),\n",
    "    melt.head(),\n",
    ")"
   ]
  },
  {
   "cell_type": "code",
   "execution_count": null,
   "id": "f21761db-01f7-4cc8-8417-8a50f1b5100b",
   "metadata": {
    "tags": []
   },
   "outputs": [],
   "source": [
    "# filter melted df by column categories\n",
    "melt[melt[\"metric\"].isin(vrh_cols)].info()"
   ]
  },
  {
   "cell_type": "code",
   "execution_count": null,
   "id": "0276773a-d1a8-4590-89e1-d2440f47f4fe",
   "metadata": {
    "tags": []
   },
   "outputs": [],
   "source": [
    "# What does group/agg the melted DF look like?\n",
    "vrh_total = (\n",
    "    melt[melt[\"metric\"].isin(vrh_cols)]\n",
    "    .groupby([\"entity_name\",\"entity_id\", \"fiscal_year\",\"metric\"])[\"metric_unit\"]\n",
    "    .sum()\n",
    "    .reset_index()\n",
    ")\n",
    "\n",
    "vrm_total = (\n",
    "    melt[melt[\"metric\"].isin(vrm_cols)]\n",
    "    .groupby([\"entity_name\",\"entity_id\", \"fiscal_year\",\"metric\"])[\"metric_unit\"]\n",
    "    .sum()\n",
    "    .reset_index()\n",
    ")\n",
    "\n",
    "passenger_total =(\n",
    "    melt[melt[\"metric\"].isin(passenger_cols)]\n",
    "    .groupby([\"entity_name\",\"entity_id\", \"fiscal_year\",\"metric\"])[\"metric_unit\"]\n",
    "    .sum()\n",
    "    .reset_index()\n",
    ")\n"
   ]
  },
  {
   "cell_type": "code",
   "execution_count": null,
   "id": "d90425e7-cd16-4191-a9a9-4814e992bba3",
   "metadata": {
    "tags": []
   },
   "outputs": [],
   "source": [
    "# inspect melted DF by just VRH columns in Sacramento\n",
    "all_totals = [\n",
    "    vrh_total,\n",
    "    vrm_total,\n",
    "    passenger_total\n",
    "]\n",
    "\n",
    "for df in all_totals:\n",
    "    display(df[df[\"entity_name\"].str.contains(\"Sacramento\") & df[\"metric_unit\"]>0].head()) # some operators do not have data for some modes. this makes sense."
   ]
  },
  {
   "cell_type": "code",
   "execution_count": null,
   "id": "95527ae9-9399-4096-aec5-1254f2fb284c",
   "metadata": {
    "scrolled": true,
    "tags": []
   },
   "outputs": [],
   "source": [
    "# inspect melted DF by just VRH columns in Sacramento\n",
    "for df in all_totals:\n",
    "    display(df[df[\"entity_name\"].str.contains(\"Albany - Specialized Service\") & df[\"metric_unit\"]>0].head())"
   ]
  },
  {
   "cell_type": "code",
   "execution_count": null,
   "id": "0ada901c-2d13-4256-955b-1e945b5de0d9",
   "metadata": {
    "tags": []
   },
   "outputs": [],
   "source": [
    "operators = melt[\"entity_name\"].unique()"
   ]
  },
  {
   "cell_type": "code",
   "execution_count": null,
   "id": "a1004e11-9054-45cd-b5e9-3ecf7d7deded",
   "metadata": {
    "tags": []
   },
   "outputs": [],
   "source": [
    "len(operators)"
   ]
  },
  {
   "cell_type": "markdown",
   "id": "e91fe7e7-2b73-4125-8233-197a34e7dcf8",
   "metadata": {},
   "source": [
    "## read in warehouse data\n"
   ]
  },
  {
   "cell_type": "markdown",
   "id": "5b13e324-cec2-4900-9049-025c2d4f5dbc",
   "metadata": {},
   "source": [
    "New syntax to query the warehouse\n",
    "```\n",
    "from calitp_data_analysis.sql import get_engine\n",
    "\n",
    "db_engine = get_engine()\n",
    "\n",
    "with db_engine.connect() as connection:\n",
    "    query = \"\"\n",
    "    df = pd.read_sql(query, connection)\n",
    "```"
   ]
  },
  {
   "cell_type": "code",
   "execution_count": 3,
   "id": "31a10354-b2a1-42c4-9add-56affd6c397d",
   "metadata": {},
   "outputs": [],
   "source": [
    "from calitp_data_analysis.sql import get_engine"
   ]
  },
  {
   "cell_type": "code",
   "execution_count": 4,
   "id": "b8e5517a-6610-4a81-bfb0-7a45ba3e173b",
   "metadata": {},
   "outputs": [],
   "source": [
    "db_engine = get_engine()\n",
    "\n",
    "metric_list = [\n",
    "    \"pmt\",\n",
    "    \"upt\",\n",
    "    \"vrh\"\n",
    "]"
   ]
  },
  {
   "cell_type": "code",
   "execution_count": 31,
   "id": "f1308cee-af0e-45d1-aaf1-3930c3f5b253",
   "metadata": {},
   "outputs": [],
   "source": [
    "# empty list for appending DFs\n",
    "df_list = []\n",
    "with db_engine.connect() as connection:\n",
    "    for metric in metric_list:\n",
    "        query = f\"\"\"\n",
    "        SELECT\n",
    "          ntd_id,\n",
    "          SUM({metric}) AS total_{metric},\n",
    "          source_agency,\n",
    "          agency_status,\n",
    "          year\n",
    "        FROM\n",
    "          `cal-itp-data-infra.mart_ntd_funding_and_expenses.fct_service_data_and_operating_expenses_time_series_by_mode_{metric}`\n",
    "        WHERE\n",
    "          source_state = \"CA\"\n",
    "          AND year >= 2018\n",
    "        GROUP BY\n",
    "          ntd_id,\n",
    "          source_agency,\n",
    "          agency_status,\n",
    "          year\n",
    "        \"\"\"\n",
    "        # create df\n",
    "        metric = pd.read_sql(query,connection) \n",
    "        \n",
    "        # append df to list\n",
    "        df_list.append(metric)\n",
    "        "
   ]
  },
  {
   "cell_type": "code",
   "execution_count": 32,
   "id": "3c67a942-309f-44fd-a0d1-a26be9297684",
   "metadata": {
    "tags": []
   },
   "outputs": [
    {
     "data": {
      "text/plain": [
       "3"
      ]
     },
     "metadata": {},
     "output_type": "display_data"
    },
    {
     "data": {
      "text/plain": [
       "pandas.core.frame.DataFrame"
      ]
     },
     "metadata": {},
     "output_type": "display_data"
    },
    {
     "data": {
      "text/plain": [
       "pandas.core.frame.DataFrame"
      ]
     },
     "metadata": {},
     "output_type": "display_data"
    },
    {
     "data": {
      "text/plain": [
       "pandas.core.frame.DataFrame"
      ]
     },
     "metadata": {},
     "output_type": "display_data"
    },
    {
     "data": {
      "text/plain": [
       "Index(['ntd_id', 'total_pmt', 'source_agency', 'agency_status', 'year'], dtype='object')"
      ]
     },
     "metadata": {},
     "output_type": "display_data"
    },
    {
     "data": {
      "text/plain": [
       "Index(['ntd_id', 'total_upt', 'source_agency', 'agency_status', 'year'], dtype='object')"
      ]
     },
     "metadata": {},
     "output_type": "display_data"
    },
    {
     "data": {
      "text/plain": [
       "Index(['ntd_id', 'total_vrh', 'source_agency', 'agency_status', 'year'], dtype='object')"
      ]
     },
     "metadata": {},
     "output_type": "display_data"
    }
   ],
   "source": [
    "# confirm DFs were populated in list\n",
    "display(\n",
    "    len(df_list),\n",
    "    type(df_list[0]),type(df_list[1]),type(df_list[2]),\n",
    "    df_list[0].columns, df_list[1].columns, df_list[2].columns\n",
    ")"
   ]
  },
  {
   "cell_type": "code",
   "execution_count": 33,
   "id": "c0950f27-72ea-4218-9033-9ba8e8733ffd",
   "metadata": {
    "tags": []
   },
   "outputs": [],
   "source": [
    "# unpack list into separate DFs\n",
    "ntd_pmt, ntd_upt, ntd_vrh = df_list"
   ]
  },
  {
   "cell_type": "code",
   "execution_count": 34,
   "id": "c8998315-49e7-4d35-83b2-0a3fd82e2690",
   "metadata": {
    "tags": []
   },
   "outputs": [
    {
     "name": "stdout",
     "output_type": "stream",
     "text": [
      "<class 'pandas.core.frame.DataFrame'>\n",
      "RangeIndex: 1614 entries, 0 to 1613\n",
      "Data columns (total 5 columns):\n",
      " #   Column         Non-Null Count  Dtype  \n",
      "---  ------         --------------  -----  \n",
      " 0   ntd_id         1524 non-null   object \n",
      " 1   total_pmt      1291 non-null   float64\n",
      " 2   source_agency  1614 non-null   object \n",
      " 3   agency_status  1614 non-null   object \n",
      " 4   year           1614 non-null   int64  \n",
      "dtypes: float64(1), int64(1), object(3)\n",
      "memory usage: 63.2+ KB\n"
     ]
    }
   ],
   "source": [
    "ntd_pmt.info()"
   ]
  },
  {
   "cell_type": "code",
   "execution_count": 38,
   "id": "5028b214-d851-4bdc-a66a-1534154cbe20",
   "metadata": {
    "tags": []
   },
   "outputs": [
    {
     "data": {
      "text/plain": [
       "array([2018, 2019, 2020, 2021, 2022, 2023])"
      ]
     },
     "metadata": {},
     "output_type": "display_data"
    },
    {
     "data": {
      "text/plain": [
       "array([2018, 2019, 2020, 2021, 2022, 2023])"
      ]
     },
     "metadata": {},
     "output_type": "display_data"
    },
    {
     "data": {
      "text/plain": [
       "array([2018, 2019, 2020, 2021, 2022, 2023])"
      ]
     },
     "metadata": {},
     "output_type": "display_data"
    }
   ],
   "source": [
    "display(\n",
    "    ntd_pmt[\"year\"].sort_values().unique(),\n",
    "    ntd_upt[\"year\"].sort_values().unique(),\n",
    "    ntd_vrh[\"year\"].sort_values().unique(),\n",
    ")"
   ]
  },
  {
   "cell_type": "code",
   "execution_count": 52,
   "id": "83c6932f-1acc-4ac0-be3f-0d61aea5a791",
   "metadata": {
    "tags": []
   },
   "outputs": [],
   "source": [
    "merge_1 = ntd_pmt.merge(ntd_upt, on=[\"ntd_id\", \"year\",\"source_agency\",\"agency_status\"], how = \"inner\")"
   ]
  },
  {
   "cell_type": "code",
   "execution_count": 53,
   "id": "8bb97f1a-f000-43dd-a5d4-071a2beb6029",
   "metadata": {
    "tags": []
   },
   "outputs": [
    {
     "name": "stdout",
     "output_type": "stream",
     "text": [
      "<class 'pandas.core.frame.DataFrame'>\n",
      "Int64Index: 1614 entries, 0 to 1613\n",
      "Data columns (total 6 columns):\n",
      " #   Column         Non-Null Count  Dtype  \n",
      "---  ------         --------------  -----  \n",
      " 0   ntd_id         1524 non-null   object \n",
      " 1   total_pmt      1291 non-null   float64\n",
      " 2   source_agency  1614 non-null   object \n",
      " 3   agency_status  1614 non-null   object \n",
      " 4   year           1614 non-null   int64  \n",
      " 5   total_upt      1291 non-null   float64\n",
      "dtypes: float64(2), int64(1), object(3)\n",
      "memory usage: 88.3+ KB\n"
     ]
    }
   ],
   "source": [
    "merge_1.info()"
   ]
  },
  {
   "cell_type": "code",
   "execution_count": 54,
   "id": "86ce6370-73bf-4c0d-9d15-6b30e7521beb",
   "metadata": {
    "tags": []
   },
   "outputs": [],
   "source": [
    "ntd_all_metrics = merge_1.merge(ntd_vrh, on=[\"ntd_id\", \"year\",\"source_agency\",\"agency_status\"], how = \"inner\")"
   ]
  },
  {
   "cell_type": "code",
   "execution_count": 55,
   "id": "cd77a890-2b63-4ed4-9a7e-fdc53c83a100",
   "metadata": {
    "tags": []
   },
   "outputs": [
    {
     "name": "stdout",
     "output_type": "stream",
     "text": [
      "<class 'pandas.core.frame.DataFrame'>\n",
      "Int64Index: 1614 entries, 0 to 1613\n",
      "Data columns (total 7 columns):\n",
      " #   Column         Non-Null Count  Dtype  \n",
      "---  ------         --------------  -----  \n",
      " 0   ntd_id         1524 non-null   object \n",
      " 1   total_pmt      1291 non-null   float64\n",
      " 2   source_agency  1614 non-null   object \n",
      " 3   agency_status  1614 non-null   object \n",
      " 4   year           1614 non-null   int64  \n",
      " 5   total_upt      1291 non-null   float64\n",
      " 6   total_vrh      1291 non-null   float64\n",
      "dtypes: float64(3), int64(1), object(3)\n",
      "memory usage: 100.9+ KB\n"
     ]
    }
   ],
   "source": [
    "ntd_all_metrics.info()"
   ]
  },
  {
   "cell_type": "code",
   "execution_count": 58,
   "id": "7031ad22-2475-4d27-8ca0-a8129443eedf",
   "metadata": {
    "tags": []
   },
   "outputs": [],
   "source": [
    "col_order =[\n",
    "    \"ntd_id\",\n",
    "    \"source_agency\",\n",
    "    \"agency_status\",\n",
    "    \"year\",\n",
    "    \"total_upt\",\n",
    "    \"total_vrh\",\n",
    "    \"total_pmt\"\n",
    "]\n",
    "\n",
    "ntd_all_metrics = ntd_all_metrics[col_order]"
   ]
  },
  {
   "cell_type": "code",
   "execution_count": 59,
   "id": "77e4d673-dd5f-4b3f-ae68-e57fb6d5e511",
   "metadata": {
    "tags": []
   },
   "outputs": [
    {
     "data": {
      "text/html": [
       "<div>\n",
       "<style scoped>\n",
       "    .dataframe tbody tr th:only-of-type {\n",
       "        vertical-align: middle;\n",
       "    }\n",
       "\n",
       "    .dataframe tbody tr th {\n",
       "        vertical-align: top;\n",
       "    }\n",
       "\n",
       "    .dataframe thead th {\n",
       "        text-align: right;\n",
       "    }\n",
       "</style>\n",
       "<table border=\"1\" class=\"dataframe\">\n",
       "  <thead>\n",
       "    <tr style=\"text-align: right;\">\n",
       "      <th></th>\n",
       "      <th>ntd_id</th>\n",
       "      <th>source_agency</th>\n",
       "      <th>agency_status</th>\n",
       "      <th>year</th>\n",
       "      <th>total_upt</th>\n",
       "      <th>total_vrh</th>\n",
       "      <th>total_pmt</th>\n",
       "    </tr>\n",
       "  </thead>\n",
       "  <tbody>\n",
       "    <tr>\n",
       "      <th>0</th>\n",
       "      <td>90198</td>\n",
       "      <td>City of Porterville (COLT) - Transit Department</td>\n",
       "      <td>Active</td>\n",
       "      <td>2022</td>\n",
       "      <td>260879.0</td>\n",
       "      <td>41460.0</td>\n",
       "      <td>0.0</td>\n",
       "    </tr>\n",
       "    <tr>\n",
       "      <th>1</th>\n",
       "      <td>90198</td>\n",
       "      <td>City of Porterville (COLT) - Transit Department</td>\n",
       "      <td>Active</td>\n",
       "      <td>2020</td>\n",
       "      <td>522056.0</td>\n",
       "      <td>47356.0</td>\n",
       "      <td>0.0</td>\n",
       "    </tr>\n",
       "    <tr>\n",
       "      <th>2</th>\n",
       "      <td>90198</td>\n",
       "      <td>City of Porterville (COLT) - Transit Department</td>\n",
       "      <td>Active</td>\n",
       "      <td>2023</td>\n",
       "      <td>NaN</td>\n",
       "      <td>NaN</td>\n",
       "      <td>NaN</td>\n",
       "    </tr>\n",
       "    <tr>\n",
       "      <th>3</th>\n",
       "      <td>90198</td>\n",
       "      <td>City of Porterville (COLT) - Transit Department</td>\n",
       "      <td>Active</td>\n",
       "      <td>2019</td>\n",
       "      <td>635559.0</td>\n",
       "      <td>52834.0</td>\n",
       "      <td>0.0</td>\n",
       "    </tr>\n",
       "    <tr>\n",
       "      <th>4</th>\n",
       "      <td>90198</td>\n",
       "      <td>City of Porterville (COLT) - Transit Department</td>\n",
       "      <td>Active</td>\n",
       "      <td>2021</td>\n",
       "      <td>174595.0</td>\n",
       "      <td>30773.0</td>\n",
       "      <td>0.0</td>\n",
       "    </tr>\n",
       "    <tr>\n",
       "      <th>5</th>\n",
       "      <td>90198</td>\n",
       "      <td>City of Porterville (COLT) - Transit Department</td>\n",
       "      <td>Active</td>\n",
       "      <td>2018</td>\n",
       "      <td>648649.0</td>\n",
       "      <td>52799.0</td>\n",
       "      <td>0.0</td>\n",
       "    </tr>\n",
       "    <tr>\n",
       "      <th>6</th>\n",
       "      <td>90036</td>\n",
       "      <td>Orange County Transportation Authority (OCTA)</td>\n",
       "      <td>Active</td>\n",
       "      <td>2020</td>\n",
       "      <td>33009047.0</td>\n",
       "      <td>2232009.0</td>\n",
       "      <td>155734272.0</td>\n",
       "    </tr>\n",
       "    <tr>\n",
       "      <th>7</th>\n",
       "      <td>90036</td>\n",
       "      <td>Orange County Transportation Authority (OCTA)</td>\n",
       "      <td>Active</td>\n",
       "      <td>2023</td>\n",
       "      <td>32674688.0</td>\n",
       "      <td>2076903.0</td>\n",
       "      <td>137085597.0</td>\n",
       "    </tr>\n",
       "    <tr>\n",
       "      <th>8</th>\n",
       "      <td>90036</td>\n",
       "      <td>Orange County Transportation Authority (OCTA)</td>\n",
       "      <td>Active</td>\n",
       "      <td>2022</td>\n",
       "      <td>27753507.0</td>\n",
       "      <td>1897023.0</td>\n",
       "      <td>132745034.0</td>\n",
       "    </tr>\n",
       "    <tr>\n",
       "      <th>9</th>\n",
       "      <td>90036</td>\n",
       "      <td>Orange County Transportation Authority (OCTA)</td>\n",
       "      <td>Active</td>\n",
       "      <td>2018</td>\n",
       "      <td>42201857.0</td>\n",
       "      <td>2590593.0</td>\n",
       "      <td>214680839.0</td>\n",
       "    </tr>\n",
       "  </tbody>\n",
       "</table>\n",
       "</div>"
      ],
      "text/plain": [
       "  ntd_id                                    source_agency agency_status  year  \\\n",
       "0  90198  City of Porterville (COLT) - Transit Department        Active  2022   \n",
       "1  90198  City of Porterville (COLT) - Transit Department        Active  2020   \n",
       "2  90198  City of Porterville (COLT) - Transit Department        Active  2023   \n",
       "3  90198  City of Porterville (COLT) - Transit Department        Active  2019   \n",
       "4  90198  City of Porterville (COLT) - Transit Department        Active  2021   \n",
       "5  90198  City of Porterville (COLT) - Transit Department        Active  2018   \n",
       "6  90036    Orange County Transportation Authority (OCTA)        Active  2020   \n",
       "7  90036    Orange County Transportation Authority (OCTA)        Active  2023   \n",
       "8  90036    Orange County Transportation Authority (OCTA)        Active  2022   \n",
       "9  90036    Orange County Transportation Authority (OCTA)        Active  2018   \n",
       "\n",
       "    total_upt  total_vrh    total_pmt  \n",
       "0    260879.0    41460.0          0.0  \n",
       "1    522056.0    47356.0          0.0  \n",
       "2         NaN        NaN          NaN  \n",
       "3    635559.0    52834.0          0.0  \n",
       "4    174595.0    30773.0          0.0  \n",
       "5    648649.0    52799.0          0.0  \n",
       "6  33009047.0  2232009.0  155734272.0  \n",
       "7  32674688.0  2076903.0  137085597.0  \n",
       "8  27753507.0  1897023.0  132745034.0  \n",
       "9  42201857.0  2590593.0  214680839.0  "
      ]
     },
     "execution_count": 59,
     "metadata": {},
     "output_type": "execute_result"
    }
   ],
   "source": [
    "ntd_all_metrics.head(10)"
   ]
  },
  {
   "cell_type": "code",
   "execution_count": null,
   "id": "178d04f3-d24c-450b-b5e8-9739d642f3a2",
   "metadata": {},
   "outputs": [],
   "source": []
  }
 ],
 "metadata": {
  "kernelspec": {
   "display_name": "Python 3 (ipykernel)",
   "language": "python",
   "name": "python3"
  },
  "language_info": {
   "codemirror_mode": {
    "name": "ipython",
    "version": 3
   },
   "file_extension": ".py",
   "mimetype": "text/x-python",
   "name": "python",
   "nbconvert_exporter": "python",
   "pygments_lexer": "ipython3",
   "version": "3.11.10"
  }
 },
 "nbformat": 4,
 "nbformat_minor": 5
}
