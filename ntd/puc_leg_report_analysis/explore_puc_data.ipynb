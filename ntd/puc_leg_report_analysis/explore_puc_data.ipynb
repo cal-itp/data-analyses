{
 "cells": [
  {
   "cell_type": "markdown",
   "id": "1f7d5c72-3b6a-4a81-a96b-8c17ed5202f6",
   "metadata": {},
   "source": [
    "# [Research Request - Explore data for PUC 99314.11 leg report #1613](https://github.com/cal-itp/data-analyses/issues/1613)"
   ]
  },
  {
   "cell_type": "markdown",
   "id": "c4f2340b-45b7-4096-b319-de3d2391bafa",
   "metadata": {},
   "source": [
    "Discussed with Peter and Cayman about PUC 99314.11, specifically about sub-section (d)(1)\n",
    "\n",
    ">(d) (1) On or before November 30, 2025, the department shall submit a report to the Legislature on the revenue vehicle hours, ridership, and passenger mile impacts on the services offered by operators to which Sections 99314.6 and 99314.7 do not apply pursuant to subdivision (a)."
   ]
  },
  {
   "cell_type": "markdown",
   "id": "37f9ea06-80fb-4e71-91ae-48997570a564",
   "metadata": {},
   "source": [
    "1. read in SCO data\n",
    "2. read in warehouse data for annual ntd reporters\n",
    "\n",
    "Compare both sources, see which agencies join or not join in either list. \n",
    "\n",
    "Compare data in both sources, see if any annual totals match"
   ]
  },
  {
   "cell_type": "code",
   "execution_count": 1,
   "id": "091174f7-6924-464d-bd6c-9cd55d33d4a3",
   "metadata": {
    "tags": []
   },
   "outputs": [],
   "source": [
    "import pandas as pd\n",
    "from calitp_data_analysis.sql import to_snakecase\n",
    "\n",
    "pd.set_option(\"display.max_rows\", None)\n",
    "pd.set_option(\"display.max_columns\", None)\n",
    "pd.set_option(\"display.max_colwidth\", None)"
   ]
  },
  {
   "cell_type": "markdown",
   "id": "de73c87b-d7d4-4783-8bcb-e30baa538f7c",
   "metadata": {
    "tags": []
   },
   "source": [
    "# Read in SCO data\n",
    "Data is speard out among different excel files for different state fiscal years"
   ]
  },
  {
   "cell_type": "code",
   "execution_count": 2,
   "id": "f4f468fa-4644-48a3-89a7-698e03ab4082",
   "metadata": {
    "tags": []
   },
   "outputs": [],
   "source": [
    "url_23_24 = \"https://bythenumbers.sco.ca.gov/download/bdqr-pszz/application%2Fvnd.openxmlformats-officedocument.spreadsheetml.sheet\"\n",
    "url_21_22 = \"https://bythenumbers.sco.ca.gov/download/aqpg-as24/application%2Fvnd.openxmlformats-officedocument.spreadsheetml.sheet\"\n",
    "url_18_20 = \"https://bythenumbers.sco.ca.gov/download/6dj3-r4jw/application%2Fvnd.openxmlformats-officedocument.spreadsheetml.sheet\"\n",
    "\n",
    "all_years = [\n",
    "    url_23_24,\n",
    "    url_21_22,\n",
    "    url_18_20   \n",
    "]"
   ]
  },
  {
   "cell_type": "code",
   "execution_count": 3,
   "id": "d7ce9be4-1ae5-4f4d-9688-5c5ca87b063a",
   "metadata": {
    "tags": []
   },
   "outputs": [
    {
     "name": "stdout",
     "output_type": "stream",
     "text": [
      "['ENTITIES', '3 TO_REV_EXP', '4 TO_APPROP_LIMIT', '5 TO_OPERATING_DATA', '6 TO_OPCOST_EXCLUSION_EXEMPT', '7 TO_CONTRACT_PRISON', '8 TO_LONG_TERM_DEBT', '9 TO_STATE_NET_POSIT']\n",
      "['ENTITIES', '3 TO_REV_EXP', '4 TO_APPROP_LIMIT', '5 TO_OPERATING_DATA', '6 TO_OPCOST_EXCLUSION_EXEMPT', '7 TO_CONTRACT_PRISON', '8 TO_LONG_TERM_DEBT', '9 TO_STATE_NET_POSIT']\n",
      "['ENTITIES', 'TO_REV_EXP', 'TO_APPROP_LIMIT', 'TO_OPERATING_DATA', 'TO_OPCOST_EXCLUSION_EXEMPT', 'TO_CONTRACT_PRISON', 'TO_LONG_TERM_DEBT', 'TO_STATE_NET_POSIT']\n"
     ]
    }
   ],
   "source": [
    "# what are the sheet names for each excel file?\n",
    "for data in all_years:\n",
    "    sco_info = pd.ExcelFile(data)\n",
    "    print(sco_info.sheet_names)"
   ]
  },
  {
   "cell_type": "code",
   "execution_count": 4,
   "id": "c5529c04-51a3-4fc3-adf8-3b7742785dcd",
   "metadata": {
    "tags": []
   },
   "outputs": [],
   "source": [
    "def make_sco_df(url:str, sheet:str) -> pd.DataFrame:\n",
    "    \"\"\"\n",
    "    Function that reads in each excel url at specific sheet name. then snakecases all the columns\n",
    "    \"\"\"\n",
    "    df = pd.read_excel(url, sheet_name = sheet)\n",
    "    df = to_snakecase(df)\n",
    "    \n",
    "    return df"
   ]
  },
  {
   "cell_type": "code",
   "execution_count": 5,
   "id": "1abb5173-fdad-419a-aeeb-29d1c281b1fd",
   "metadata": {
    "tags": []
   },
   "outputs": [],
   "source": [
    "# make DFs for each excel sheet\n",
    "ops_18_20 = make_sco_df(url_18_20, \"TO_OPERATING_DATA\")\n",
    "ops_21_22 = make_sco_df(url_21_22, \"5 TO_OPERATING_DATA\")\n",
    "ops_23_24 = make_sco_df(url_23_24, \"5 TO_OPERATING_DATA\")"
   ]
  },
  {
   "cell_type": "code",
   "execution_count": 6,
   "id": "b77ef175-5b99-4641-a902-4ca5e261ace7",
   "metadata": {
    "tags": []
   },
   "outputs": [
    {
     "data": {
      "text/plain": [
       "(832, 107)"
      ]
     },
     "metadata": {},
     "output_type": "display_data"
    },
    {
     "data": {
      "text/plain": [
       "(571, 107)"
      ]
     },
     "metadata": {},
     "output_type": "display_data"
    },
    {
     "data": {
      "text/plain": [
       "(558, 107)"
      ]
     },
     "metadata": {},
     "output_type": "display_data"
    }
   ],
   "source": [
    "# examine each sheet was read in successfully\n",
    "display(\n",
    "    ops_18_20.shape,\n",
    "    ops_21_22.shape,\n",
    "    ops_23_24.shape\n",
    ")"
   ]
  },
  {
   "cell_type": "markdown",
   "id": "e398cc6d-2167-4232-9055-4efe094731b8",
   "metadata": {
    "tags": []
   },
   "source": [
    "## SCO data cleaning"
   ]
  },
  {
   "cell_type": "code",
   "execution_count": 7,
   "id": "5bf9d2ca-f9cc-411a-a07a-461a02dee154",
   "metadata": {
    "tags": []
   },
   "outputs": [
    {
     "data": {
      "text/plain": [
       "True"
      ]
     },
     "execution_count": 7,
     "metadata": {},
     "output_type": "execute_result"
    }
   ],
   "source": [
    "# do all DFs have the same columns?\n",
    "set(ops_18_20.columns) == set(ops_21_22.columns) == set(ops_23_24.columns) #TRUE!"
   ]
  },
  {
   "cell_type": "code",
   "execution_count": 8,
   "id": "f767a162-ce84-47d9-8743-9f4d454907e4",
   "metadata": {
    "tags": []
   },
   "outputs": [],
   "source": [
    "# group column names by similar categories \n",
    "\n",
    "date_cols =[\n",
    "    'date_service_began_operations__mm_dd_yyyy__motor_bus',\n",
    "    'date_service_began_operations__mm_dd_yyyy__heavy_rail',\n",
    "    'date_service_began_operations__mm_dd_yyyy__light_rail',\n",
    "    'date_service_began_operations__mm_dd_yyyy__trolley_bus',\n",
    "    'date_service_began_operations__mm_dd_yyyy__ferry_boat',\n",
    "    'date_service_began_operations__mm_dd_yyyy__demand_response_vehicles',\n",
    "    'date_service_began_operations__mm_dd_yyyy__vanpool',\n",
    "    'date_service_began_operations__mm_dd_yyyy__other_transportation_mode__specify_'\n",
    "]\n",
    "\n",
    "vrh_cols = [\n",
    "    \"total_actual_vehicle_revenue_hours_—_annual_demand_response_vehicles_actual_vehicle_revenue_hours_—_annual\",\n",
    "    \"total_actual_vehicle_revenue_hours_—_annual_ferry_boat_actual_vehicle_revenue_hours_—_annual\",\n",
    "    \"total_actual_vehicle_revenue_hours_—_annual_heavy_rail_actual_vehicle_revenue_hours_—_annual\",\n",
    "    \"total_actual_vehicle_revenue_hours_—_annual_light_rail_actual_vehicle_revenue_hours_—_annual\",\n",
    "    \"total_actual_vehicle_revenue_hours_—_annual_motor_bus_actual_vehicle_revenue_hours_—_annual\",\n",
    "    \"total_actual_vehicle_revenue_hours_—_annual_other_transportation_mode__specify__actual_vehicle_revenue_hours_—_annual\",\n",
    "    \"total_actual_vehicle_revenue_hours_—_annual_trolley_bus_actual_vehicle_revenue_hours_—_annual\",\n",
    "    \"total_actual_vehicle_revenue_hours_—_annual_vanpool_actual_vehicle_revenue_hours_—_annual\",\n",
    "]\n",
    "\n",
    "vrm_cols = [\n",
    "    \"total_actual_vehicle_revenue_miles_demand_response_vehicles\",\n",
    "    \"total_actual_vehicle_revenue_miles_ferry_boat\",\n",
    "    \"total_actual_vehicle_revenue_miles_heavy_rail\",\n",
    "    \"total_actual_vehicle_revenue_miles_light_rail\",\n",
    "    \"total_actual_vehicle_revenue_miles_motor_bus\",\n",
    "    \"total_actual_vehicle_revenue_miles_other_transportation_mode__specify_\",\n",
    "    \"total_actual_vehicle_revenue_miles_trolley_bus\",\n",
    "    \"total_actual_vehicle_revenue_miles_vanpool\",\n",
    "]\n",
    "\n",
    "passenger_cols = [\n",
    "    \"total_passengers_—_annual_demand_response_vehicles\",\n",
    "    \"total_passengers_—_annual_ferry_boat\",\n",
    "    \"total_passengers_—_annual_heavy_rail\",\n",
    "    \"total_passengers_—_annual_light_rail\",\n",
    "    \"total_passengers_—_annual_motor_bus\",\n",
    "    \"total_passengers_—_annual_other_transportation_mode__specify_\",\n",
    "    \"total_passengers_—_annual_trolley_bus\",\n",
    "    \"total_passengers_—_annual_vanpool\",\n",
    "]\n",
    "\n",
    "group_list = ['entity_name', 'fiscal_year', 'entity_id']"
   ]
  },
  {
   "cell_type": "code",
   "execution_count": 9,
   "id": "df297752-a592-4486-9257-dc7cbda5951f",
   "metadata": {
    "tags": []
   },
   "outputs": [
    {
     "data": {
      "text/plain": [
       "False"
      ]
     },
     "metadata": {},
     "output_type": "display_data"
    },
    {
     "data": {
      "text/plain": [
       "False"
      ]
     },
     "metadata": {},
     "output_type": "display_data"
    },
    {
     "data": {
      "text/plain": [
       "True"
      ]
     },
     "metadata": {},
     "output_type": "display_data"
    }
   ],
   "source": [
    "# do all DFs have the same column datatypes?\n",
    "display(\n",
    "    ops_18_20.dtypes.equals(ops_21_22.dtypes),\n",
    "    ops_18_20.dtypes.equals(ops_23_24.dtypes),\n",
    "    ops_21_22.dtypes.equals(ops_23_24.dtypes),\n",
    ")\n",
    "\n",
    "# op_18_20 data types dont match. \n"
   ]
  },
  {
   "cell_type": "code",
   "execution_count": 10,
   "id": "ad587d48-e28c-49df-bcdf-96ac540c3802",
   "metadata": {
    "tags": []
   },
   "outputs": [
    {
     "name": "stdout",
     "output_type": "stream",
     "text": [
      "Check if data types in date columns match:\n",
      "    FY 18-20 vs 21-22: False,\n",
      "    FY 18-20 vs 23-24: False,\n",
      "    \n",
      "Check if data types in vrh columns match:\n",
      "    FY 18-20 vs 21-22: True,\n",
      "    FY 18-20 vs 23-24: True,\n",
      "    \n",
      "Check if data types in vrm columns match:\n",
      "    FY 18-20 vs 21-22: True,\n",
      "    FY 18-20 vs 23-24: True,\n",
      "    \n",
      "Check if data types in passenger columns match:\n",
      "    FY 18-20 vs 21-22: True,\n",
      "    FY 18-20 vs 23-24: True,\n",
      "    \n"
     ]
    }
   ],
   "source": [
    "# columns dont match?\n",
    "col_cats ={\n",
    "    \"date columns\":date_cols,\n",
    "    \"vrh columns\":vrh_cols,\n",
    "    \"vrm columns\":vrm_cols,\n",
    "    \"passenger columns\":passenger_cols\n",
    "}\n",
    "\n",
    "for name, cols in col_cats.items():\n",
    "    print(f\"\"\"Check if data types in {name} match:\n",
    "    FY 18-20 vs 21-22: {ops_18_20[cols].dtypes.equals(ops_21_22[cols].dtypes)},\n",
    "    FY 18-20 vs 23-24: {ops_18_20[cols].dtypes.equals(ops_23_24[cols].dtypes)},\n",
    "    \"\"\")\n",
    "    "
   ]
  },
  {
   "cell_type": "markdown",
   "id": "2bd7d062-b805-4a15-a980-4b076d2803a9",
   "metadata": {},
   "source": [
    "## cleaning date time columns"
   ]
  },
  {
   "cell_type": "code",
   "execution_count": 11,
   "id": "813b337b-1f85-4e8c-9aec-3c7865d07022",
   "metadata": {
    "tags": []
   },
   "outputs": [
    {
     "name": "stdout",
     "output_type": "stream",
     "text": [
      "<class 'pandas.core.frame.DataFrame'>\n",
      "RangeIndex: 832 entries, 0 to 831\n",
      "Data columns (total 8 columns):\n",
      " #   Column                                                                          Non-Null Count  Dtype         \n",
      "---  ------                                                                          --------------  -----         \n",
      " 0   date_service_began_operations__mm_dd_yyyy__motor_bus                            424 non-null    datetime64[ns]\n",
      " 1   date_service_began_operations__mm_dd_yyyy__heavy_rail                           24 non-null     datetime64[ns]\n",
      " 2   date_service_began_operations__mm_dd_yyyy__light_rail                           21 non-null     datetime64[ns]\n",
      " 3   date_service_began_operations__mm_dd_yyyy__trolley_bus                          17 non-null     datetime64[ns]\n",
      " 4   date_service_began_operations__mm_dd_yyyy__ferry_boat                           12 non-null     datetime64[ns]\n",
      " 5   date_service_began_operations__mm_dd_yyyy__demand_response_vehicles             489 non-null    object        \n",
      " 6   date_service_began_operations__mm_dd_yyyy__vanpool                              17 non-null     datetime64[ns]\n",
      " 7   date_service_began_operations__mm_dd_yyyy__other_transportation_mode__specify_  40 non-null     datetime64[ns]\n",
      "dtypes: datetime64[ns](7), object(1)\n",
      "memory usage: 52.1+ KB\n"
     ]
    },
    {
     "data": {
      "text/plain": [
       "None"
      ]
     },
     "metadata": {},
     "output_type": "display_data"
    },
    {
     "name": "stdout",
     "output_type": "stream",
     "text": [
      "<class 'pandas.core.frame.DataFrame'>\n",
      "RangeIndex: 571 entries, 0 to 570\n",
      "Data columns (total 8 columns):\n",
      " #   Column                                                                          Non-Null Count  Dtype         \n",
      "---  ------                                                                          --------------  -----         \n",
      " 0   date_service_began_operations__mm_dd_yyyy__motor_bus                            282 non-null    datetime64[ns]\n",
      " 1   date_service_began_operations__mm_dd_yyyy__heavy_rail                           16 non-null     datetime64[ns]\n",
      " 2   date_service_began_operations__mm_dd_yyyy__light_rail                           14 non-null     datetime64[ns]\n",
      " 3   date_service_began_operations__mm_dd_yyyy__trolley_bus                          9 non-null      datetime64[ns]\n",
      " 4   date_service_began_operations__mm_dd_yyyy__ferry_boat                           8 non-null      datetime64[ns]\n",
      " 5   date_service_began_operations__mm_dd_yyyy__demand_response_vehicles             328 non-null    datetime64[ns]\n",
      " 6   date_service_began_operations__mm_dd_yyyy__vanpool                              13 non-null     datetime64[ns]\n",
      " 7   date_service_began_operations__mm_dd_yyyy__other_transportation_mode__specify_  23 non-null     datetime64[ns]\n",
      "dtypes: datetime64[ns](8)\n",
      "memory usage: 35.8 KB\n"
     ]
    },
    {
     "data": {
      "text/plain": [
       "None"
      ]
     },
     "metadata": {},
     "output_type": "display_data"
    },
    {
     "name": "stdout",
     "output_type": "stream",
     "text": [
      "<class 'pandas.core.frame.DataFrame'>\n",
      "RangeIndex: 558 entries, 0 to 557\n",
      "Data columns (total 8 columns):\n",
      " #   Column                                                                          Non-Null Count  Dtype         \n",
      "---  ------                                                                          --------------  -----         \n",
      " 0   date_service_began_operations__mm_dd_yyyy__motor_bus                            276 non-null    datetime64[ns]\n",
      " 1   date_service_began_operations__mm_dd_yyyy__heavy_rail                           16 non-null     datetime64[ns]\n",
      " 2   date_service_began_operations__mm_dd_yyyy__light_rail                           14 non-null     datetime64[ns]\n",
      " 3   date_service_began_operations__mm_dd_yyyy__trolley_bus                          10 non-null     datetime64[ns]\n",
      " 4   date_service_began_operations__mm_dd_yyyy__ferry_boat                           8 non-null      datetime64[ns]\n",
      " 5   date_service_began_operations__mm_dd_yyyy__demand_response_vehicles             328 non-null    datetime64[ns]\n",
      " 6   date_service_began_operations__mm_dd_yyyy__vanpool                              16 non-null     datetime64[ns]\n",
      " 7   date_service_began_operations__mm_dd_yyyy__other_transportation_mode__specify_  27 non-null     datetime64[ns]\n",
      "dtypes: datetime64[ns](8)\n",
      "memory usage: 35.0 KB\n"
     ]
    },
    {
     "data": {
      "text/plain": [
       "None"
      ]
     },
     "metadata": {},
     "output_type": "display_data"
    }
   ],
   "source": [
    "all_ops = [\n",
    "    ops_18_20,\n",
    "    ops_21_22,\n",
    "    ops_23_24\n",
    "]\n",
    "\n",
    "# what do the date column data types look like in each df?\n",
    "for df in all_ops:\n",
    "    display(\n",
    "        df[date_cols].info()\n",
    "    )\n",
    "    \n",
    "# ops_18_20.date_service_began_operations__mm_dd_yyyy__demand_response_vehicles is an object, everything else is datetime64[ns]"
   ]
  },
  {
   "cell_type": "code",
   "execution_count": 12,
   "id": "ada1dfef-65b6-4e45-896a-d984d490d00a",
   "metadata": {
    "tags": []
   },
   "outputs": [],
   "source": [
    "# attempt to change data type from object to datetime64[ns]?\n",
    "ops_18_20[\n",
    "    \"date_service_began_operations__mm_dd_yyyy__demand_response_vehicles\"] = pd.to_datetime(ops_18_20[\n",
    "    \"date_service_began_operations__mm_dd_yyyy__demand_response_vehicles\"], errors= \"coerce\" )\n",
    "\n",
    "# OutOfBoundsDatetime: Out of bounds nanosecond timestamp: 2975-04-21 00:00:00 present at position 141. need errors= \"coerce\" to make invalid datetimes be NaT"
   ]
  },
  {
   "cell_type": "code",
   "execution_count": 13,
   "id": "fe74c56f-e541-47c9-a4c3-ed4907445aa2",
   "metadata": {
    "tags": []
   },
   "outputs": [
    {
     "data": {
      "text/plain": [
       "True"
      ]
     },
     "metadata": {},
     "output_type": "display_data"
    },
    {
     "data": {
      "text/plain": [
       "True"
      ]
     },
     "metadata": {},
     "output_type": "display_data"
    },
    {
     "data": {
      "text/plain": [
       "True"
      ]
     },
     "metadata": {},
     "output_type": "display_data"
    }
   ],
   "source": [
    "# connfrming all datatypes match\n",
    "display(\n",
    "    ops_18_20.dtypes.equals(ops_21_22.dtypes),\n",
    "    ops_18_20.dtypes.equals(ops_23_24.dtypes),\n",
    "    ops_21_22.dtypes.equals(ops_23_24.dtypes),\n",
    ") # TRUE!"
   ]
  },
  {
   "cell_type": "code",
   "execution_count": 14,
   "id": "ff35df22-5c7a-4835-b83d-3e56516bb369",
   "metadata": {
    "tags": []
   },
   "outputs": [
    {
     "name": "stdout",
     "output_type": "stream",
     "text": [
      "2020    281\n",
      "2019    280\n",
      "2018    271\n",
      "Name: fiscal_year, dtype: int64\n",
      "2021    287\n",
      "2022    284\n",
      "Name: fiscal_year, dtype: int64\n",
      "2024    280\n",
      "2023    278\n",
      "Name: fiscal_year, dtype: int64\n"
     ]
    }
   ],
   "source": [
    "# check years in each dataframe\n",
    "for df in all_ops:\n",
    "    print(df[\"fiscal_year\"].value_counts())"
   ]
  },
  {
   "cell_type": "markdown",
   "id": "d1a6be74-5463-4b47-8ba3-4aa53188e4cf",
   "metadata": {
    "tags": []
   },
   "source": [
    "## Combining all datasets "
   ]
  },
  {
   "cell_type": "code",
   "execution_count": 15,
   "id": "86e17741-8997-4b31-9f26-414d9be2adaf",
   "metadata": {
    "tags": []
   },
   "outputs": [],
   "source": [
    "# Since all DFs have the same columns, concat all DFs together to 1 big raw DF\n",
    "ops_18_24 = pd.concat(all_ops, ignore_index = True)"
   ]
  },
  {
   "cell_type": "code",
   "execution_count": 46,
   "id": "54807a0b-dc40-4b01-8a21-bdcf3cb6e62d",
   "metadata": {
    "scrolled": true,
    "tags": []
   },
   "outputs": [
    {
     "data": {
      "text/plain": [
       "pandas.core.frame.DataFrame"
      ]
     },
     "metadata": {},
     "output_type": "display_data"
    },
    {
     "data": {
      "text/plain": [
       "2021    287\n",
       "2022    284\n",
       "2020    281\n",
       "2019    280\n",
       "2024    280\n",
       "2023    278\n",
       "2018    271\n",
       "Name: fiscal_year, dtype: int64"
      ]
     },
     "metadata": {},
     "output_type": "display_data"
    },
    {
     "data": {
      "text/plain": [
       "(1961, 110)"
      ]
     },
     "metadata": {},
     "output_type": "display_data"
    },
    {
     "data": {
      "text/plain": [
       "['entity_name',\n",
       " 'fiscal_year',\n",
       " 'entity_id',\n",
       " 'total_passengers_—_annual_motor_bus',\n",
       " 'total_passengers_—_annual_heavy_rail',\n",
       " 'total_passengers_—_annual_light_rail',\n",
       " 'total_passengers_—_annual_trolley_bus',\n",
       " 'total_passengers_—_annual_ferry_boat',\n",
       " 'weekdays_motor_bus_actual_vehicle_revenue_hours_—_annual',\n",
       " 'weekdays_heavy_rail_actual_vehicle_revenue_hours_—_annual',\n",
       " 'weekdays_light_rail_actual_vehicle_revenue_hours_—_annual',\n",
       " 'weekdays_trolley_bus_actual_vehicle_revenue_hours_—_annual',\n",
       " 'weekdays_ferry_boat_actual_vehicle_revenue_hours_—_annual',\n",
       " 'saturdays_motor_bus_actual_vehicle_revenue_hours_—_annual',\n",
       " 'saturdays_heavy_rail_actual_vehicle_revenue_hours_—_annual',\n",
       " 'saturdays_light_rail_actual_vehicle_revenue_hours_—_annual',\n",
       " 'saturdays_trolley_bus_actual_vehicle_revenue_hours_—_annual',\n",
       " 'saturdays_ferry_boat_actual_vehicle_revenue_hours_—_annual',\n",
       " 'sundays_motor_bus_actual_vehicle_revenue_hours_—_annual',\n",
       " 'sundays_heavy_rail_actual_vehicle_revenue_hours_—_annual',\n",
       " 'sundays_light_rail_actual_vehicle_revenue_hours_—_annual',\n",
       " 'sundays_trolley_bus_actual_vehicle_revenue_hours_—_annual',\n",
       " 'sundays_ferry_boat_actual_vehicle_revenue_hours_—_annual',\n",
       " 'total_actual_vehicle_revenue_hours_—_annual_motor_bus_actual_vehicle_revenue_hours_—_annual',\n",
       " 'total_actual_vehicle_revenue_hours_—_annual_heavy_rail_actual_vehicle_revenue_hours_—_annual',\n",
       " 'total_actual_vehicle_revenue_hours_—_annual_light_rail_actual_vehicle_revenue_hours_—_annual',\n",
       " 'total_actual_vehicle_revenue_hours_—_annual_trolley_bus_actual_vehicle_revenue_hours_—_annual',\n",
       " 'total_actual_vehicle_revenue_hours_—_annual_ferry_boat_actual_vehicle_revenue_hours_—_annual',\n",
       " 'total_actual_vehicle_revenue_miles_motor_bus',\n",
       " 'total_actual_vehicle_revenue_miles_heavy_rail',\n",
       " 'total_actual_vehicle_revenue_miles_light_rail',\n",
       " 'total_actual_vehicle_revenue_miles_trolley_bus',\n",
       " 'total_actual_vehicle_revenue_miles_ferry_boat',\n",
       " 'revenue_vehicle_inventory_motor_bus',\n",
       " 'revenue_vehicle_inventory_heavy_rail',\n",
       " 'revenue_vehicle_inventory_light_rail',\n",
       " 'revenue_vehicle_inventory_trolley_bus',\n",
       " 'revenue_vehicle_inventory_ferry_boat',\n",
       " 'weekdays___middays_motor_bus_vehicles_in_operation_—_weekly',\n",
       " 'weekdays___middays_heavy_rail_vehicles_in_operation_—_weekly',\n",
       " 'weekdays___middays_light_rail_vehicles_in_operation_—_weekly',\n",
       " 'weekdays___middays_trolley_bus_vehicles_in_operation_—_weekly',\n",
       " 'weekdays___middays_ferry_boat_vehicles_in_operation_—_weekly',\n",
       " 'weekdays___peak_motor_bus_vehicles_in_operation_—_weekly',\n",
       " 'weekdays___peak_heavy_rail_vehicles_in_operation_—_weekly',\n",
       " 'weekdays___peak_light_rail_vehicles_in_operation_—_weekly',\n",
       " 'weekdays___peak_trolley_bus_vehicles_in_operation_—_weekly',\n",
       " 'weekdays___peak_ferry_boat_vehicles_in_operation_—_weekly',\n",
       " 'saturday_motor_bus_vehicles_in_operation_—_weekly',\n",
       " 'saturday_heavy_rail_vehicles_in_operation_—_weekly',\n",
       " 'saturday_light_rail_vehicles_in_operation_—_weekly',\n",
       " 'saturday_trolley_bus_vehicles_in_operation_—_weekly',\n",
       " 'saturday_ferry_boat_vehicles_in_operation_—_weekly',\n",
       " 'sunday_motor_bus_vehicles_in_operation_—_weekly',\n",
       " 'sunday_heavy_rail_vehicles_in_operation_—_weekly',\n",
       " 'sunday_light_rail_vehicles_in_operation_—_weekly',\n",
       " 'sunday_trolley_bus_vehicles_in_operation_—_weekly',\n",
       " 'sunday_ferry_boat_vehicles_in_operation_—_weekly',\n",
       " 'total_employees_—_public_and_contract_motor_bus',\n",
       " 'total_employees_—_public_and_contract_heavy_rail',\n",
       " 'total_employees_—_public_and_contract_light_rail',\n",
       " 'total_employees_—_public_and_contract_trolley_bus',\n",
       " 'total_employees_—_public_and_contract_ferry_boat',\n",
       " 'date_service_began_operations__mm_dd_yyyy__motor_bus',\n",
       " 'date_service_began_operations__mm_dd_yyyy__heavy_rail',\n",
       " 'date_service_began_operations__mm_dd_yyyy__light_rail',\n",
       " 'date_service_began_operations__mm_dd_yyyy__trolley_bus',\n",
       " 'date_service_began_operations__mm_dd_yyyy__ferry_boat',\n",
       " 'total_passengers_—_annual_demand_response_vehicles',\n",
       " 'total_passengers_—_annual_vanpool',\n",
       " 'total_passengers_—_annual_other_transportation_mode__specify_',\n",
       " 'weekdays_demand_response_vehicles_actual_vehicle_revenue_hours_—_annual',\n",
       " 'weekdays_vanpool_actual_vehicle_revenue_hours_—_annual',\n",
       " 'weekdays_other_transportation_mode__specify__actual_vehicle_revenue_hours_—_annual',\n",
       " 'saturdays_demand_response_vehicles_actual_vehicle_revenue_hours_—_annual',\n",
       " 'saturdays_vanpool_actual_vehicle_revenue_hours_—_annual',\n",
       " 'saturdays_other_transportation_mode__specify__actual_vehicle_revenue_hours_—_annual',\n",
       " 'sundays_demand_response_vehicles_actual_vehicle_revenue_hours_—_annual',\n",
       " 'sundays_vanpool_actual_vehicle_revenue_hours_—_annual',\n",
       " 'sundays_other_transportation_mode__specify__actual_vehicle_revenue_hours_—_annual',\n",
       " 'total_actual_vehicle_revenue_hours_—_annual_demand_response_vehicles_actual_vehicle_revenue_hours_—_annual',\n",
       " 'total_actual_vehicle_revenue_hours_—_annual_vanpool_actual_vehicle_revenue_hours_—_annual',\n",
       " 'total_actual_vehicle_revenue_hours_—_annual_other_transportation_mode__specify__actual_vehicle_revenue_hours_—_annual',\n",
       " 'total_actual_vehicle_revenue_miles_demand_response_vehicles',\n",
       " 'total_actual_vehicle_revenue_miles_vanpool',\n",
       " 'total_actual_vehicle_revenue_miles_other_transportation_mode__specify_',\n",
       " 'revenue_vehicle_inventory_demand_response_vehicles',\n",
       " 'revenue_vehicle_inventory_vanpool',\n",
       " 'revenue_vehicle_inventory_other_transportation_mode__specify_',\n",
       " 'weekdays___middays_demand_response_vehicles_vehicles_in_operation_—_weekly',\n",
       " 'weekdays___middays_vanpool_vehicles_in_operation_—_weekly',\n",
       " 'weekdays___middays_other_transportation_mode__specify__vehicles_in_operation_—_weekly',\n",
       " 'weekdays___peak_demand_response_vehicles_vehicles_in_operation_—_weekly',\n",
       " 'weekdays___peak_vanpool_vehicles_in_operation_—_weekly',\n",
       " 'weekdays___peak_other_transportation_mode__specify__vehicles_in_operation_—_weekly',\n",
       " 'saturday_demand_response_vehicles_vehicles_in_operation_—_weekly',\n",
       " 'saturday_vanpool_vehicles_in_operation_—_weekly',\n",
       " 'saturday_other_transportation_mode__specify__vehicles_in_operation_—_weekly',\n",
       " 'sunday_demand_response_vehicles_vehicles_in_operation_—_weekly',\n",
       " 'sunday_vanpool_vehicles_in_operation_—_weekly',\n",
       " 'sunday_other_transportation_mode__specify__vehicles_in_operation_—_weekly',\n",
       " 'total_employees_—_public_and_contract_demand_response_vehicles',\n",
       " 'total_employees_—_public_and_contract_vanpool',\n",
       " 'total_employees_—_public_and_contract_other_transportation_mode__specify_',\n",
       " 'date_service_began_operations__mm_dd_yyyy__demand_response_vehicles',\n",
       " 'date_service_began_operations__mm_dd_yyyy__vanpool',\n",
       " 'date_service_began_operations__mm_dd_yyyy__other_transportation_mode__specify_',\n",
       " 'total_upt',\n",
       " 'total_vrh',\n",
       " 'total_vrm']"
      ]
     },
     "metadata": {},
     "output_type": "display_data"
    }
   ],
   "source": [
    "display(\n",
    "    type(ops_18_24),\n",
    "    ops_18_24[\"fiscal_year\"].value_counts(),\n",
    "    ops_18_24.shape,\n",
    "    list(ops_18_24.columns)\n",
    ")\n",
    "\n"
   ]
  },
  {
   "cell_type": "markdown",
   "id": "dac19d30-3bef-4422-a07d-f50d0fdb78a9",
   "metadata": {},
   "source": [
    "## Sum common metrics columns, remove unused columns"
   ]
  },
  {
   "cell_type": "code",
   "execution_count": 21,
   "id": "c810819b-f20e-4776-8a59-9ae46d7338ab",
   "metadata": {
    "tags": []
   },
   "outputs": [],
   "source": [
    "ops_18_24[\"total_upt\"] = ops_18_24[passenger_cols].sum(axis=1)\n",
    "ops_18_24[\"total_vrh\"] = ops_18_24[vrh_cols].sum(axis=1)\n",
    "ops_18_24[\"total_vrm\"] = ops_18_24[vrm_cols].sum(axis=1)"
   ]
  },
  {
   "cell_type": "code",
   "execution_count": 47,
   "id": "77f53cf0-98be-411e-8998-c5cf9773b105",
   "metadata": {
    "tags": []
   },
   "outputs": [],
   "source": [
    "# keep specific columns\n",
    "sco_18_24 = ops_18_24[group_list+[\"total_upt\",\"total_vrh\",\"total_vrm\"]]"
   ]
  },
  {
   "cell_type": "code",
   "execution_count": 48,
   "id": "7ebf75a6-bcce-4370-bc57-3efed3450746",
   "metadata": {
    "tags": []
   },
   "outputs": [
    {
     "name": "stdout",
     "output_type": "stream",
     "text": [
      "<class 'pandas.core.frame.DataFrame'>\n",
      "RangeIndex: 1961 entries, 0 to 1960\n",
      "Data columns (total 6 columns):\n",
      " #   Column       Non-Null Count  Dtype  \n",
      "---  ------       --------------  -----  \n",
      " 0   entity_name  1961 non-null   object \n",
      " 1   fiscal_year  1961 non-null   int64  \n",
      " 2   entity_id    1961 non-null   int64  \n",
      " 3   total_upt    1961 non-null   float64\n",
      " 4   total_vrh    1961 non-null   float64\n",
      " 5   total_vrm    1961 non-null   float64\n",
      "dtypes: float64(3), int64(2), object(1)\n",
      "memory usage: 92.1+ KB\n"
     ]
    }
   ],
   "source": [
    "sco_18_24.info()"
   ]
  },
  {
   "cell_type": "markdown",
   "id": "4f596bf5-1c78-475c-993e-ead4a21d003c",
   "metadata": {
    "tags": []
   },
   "source": [
    "## Saving data to GCS as parquet"
   ]
  },
  {
   "cell_type": "code",
   "execution_count": 41,
   "id": "55826213-65f2-4bac-bb8d-13cfd0c67373",
   "metadata": {
    "tags": []
   },
   "outputs": [],
   "source": [
    "# saving DFs to GCS\n",
    "\n",
    "gcs_path = \"gs://calitp-analytics-data/data-analyses/ntd/\"\n",
    "all_sco_op_data = \"sco_operator_data_18_24.parquet\"\n",
    "filtered_sco_data = \"sco_upt_vrm_pmt_18_24.parquet\"\n",
    "\n",
    "# saving as parquet\n",
    "# ops_18_24.to_parquet(f\"{gcs_path}{all_sco_op_data}\")\n",
    "# sco_18_24.to_parquet(f\"{gcs_path}{filtered_sco_data}\")\n",
    "\n",
    "# saving as csv\n",
    "# ops_18_24.to_csv(f\"{gcs_path}sco_operator_data_18_24.csv\")\n",
    "# sco_18_24.to_csv(f\"{gcs_path}sco_upt_vrm_pmt_18_24.csv\")"
   ]
  },
  {
   "cell_type": "markdown",
   "id": "18226ec3-94d6-4c02-99c4-f2dd597c5c6b",
   "metadata": {},
   "source": [
    "## Reading in data from GCS as parquet"
   ]
  },
  {
   "cell_type": "code",
   "execution_count": 29,
   "id": "4e7ac726-32ce-4139-9a43-d0b662cce69b",
   "metadata": {
    "tags": []
   },
   "outputs": [],
   "source": [
    "# read in parquet, ensure it works \n",
    "ops_18_24 = pd.read_parquet(f\"{gcs_path}{all_sco_op_data}\")\n",
    "\n",
    "sco_18_24 = pd.read_parquet(f\"{gcs_path}{filtered_sco_data}\")"
   ]
  },
  {
   "cell_type": "code",
   "execution_count": 31,
   "id": "9ed8e4b6-a079-429b-b2e0-96fee22ea3f8",
   "metadata": {
    "scrolled": true,
    "tags": []
   },
   "outputs": [
    {
     "name": "stdout",
     "output_type": "stream",
     "text": [
      "<class 'pandas.core.frame.DataFrame'>\n",
      "RangeIndex: 1961 entries, 0 to 1960\n",
      "Columns: 110 entries, entity_name to total_vrm\n",
      "dtypes: datetime64[ns](8), float64(99), int64(2), object(1)\n",
      "memory usage: 1.6+ MB\n",
      "<class 'pandas.core.frame.DataFrame'>\n",
      "RangeIndex: 1961 entries, 0 to 1960\n",
      "Data columns (total 6 columns):\n",
      " #   Column       Non-Null Count  Dtype  \n",
      "---  ------       --------------  -----  \n",
      " 0   entity_name  1961 non-null   object \n",
      " 1   fiscal_year  1961 non-null   int64  \n",
      " 2   entity_id    1961 non-null   int64  \n",
      " 3   total_upt    1961 non-null   float64\n",
      " 4   total_vrh    1961 non-null   float64\n",
      " 5   total_vrm    1961 non-null   float64\n",
      "dtypes: float64(3), int64(2), object(1)\n",
      "memory usage: 92.1+ KB\n"
     ]
    }
   ],
   "source": [
    "ops_18_24.info(),\n",
    "sco_18_24.info()"
   ]
  },
  {
   "cell_type": "markdown",
   "id": "bea56e33-175f-4b86-80f0-f822b3546da2",
   "metadata": {},
   "source": [
    "## SCO Summary findings"
   ]
  },
  {
   "cell_type": "code",
   "execution_count": 32,
   "id": "d9e36b68-c798-4f95-bbe1-5db4a3913039",
   "metadata": {
    "tags": []
   },
   "outputs": [
    {
     "data": {
      "text/plain": [
       "299"
      ]
     },
     "execution_count": 32,
     "metadata": {},
     "output_type": "execute_result"
    }
   ],
   "source": [
    "# How many unique entities are there \n",
    "sco_18_24[\"entity_name\"].nunique()"
   ]
  },
  {
   "cell_type": "code",
   "execution_count": 33,
   "id": "efc9213c-ea5c-4c17-a67d-adaa8bbb9a06",
   "metadata": {
    "tags": []
   },
   "outputs": [
    {
     "data": {
      "text/plain": [
       "fiscal_year\n",
       "2018    271\n",
       "2019    280\n",
       "2020    281\n",
       "2021    287\n",
       "2022    284\n",
       "2023    278\n",
       "2024    280\n",
       "Name: entity_name, dtype: int64"
      ]
     },
     "execution_count": 33,
     "metadata": {},
     "output_type": "execute_result"
    }
   ],
   "source": [
    "# how many unique entiries are there from each FY\n",
    "sco_18_24.groupby(\"fiscal_year\")[\"entity_name\"].nunique()"
   ]
  },
  {
   "cell_type": "code",
   "execution_count": 34,
   "id": "3709ac69-2ffd-42bd-89a9-9e464fbfb925",
   "metadata": {
    "tags": []
   },
   "outputs": [
    {
     "data": {
      "text/plain": [
       "297"
      ]
     },
     "execution_count": 34,
     "metadata": {},
     "output_type": "execute_result"
    }
   ],
   "source": [
    "# how many unique entity id are there?\n",
    "sco_18_24[\"entity_id\"].nunique()"
   ]
  },
  {
   "cell_type": "code",
   "execution_count": 35,
   "id": "77a4d40f-601c-470d-879f-a8cdaf3ba398",
   "metadata": {
    "tags": []
   },
   "outputs": [
    {
     "data": {
      "text/plain": [
       "114"
      ]
     },
     "execution_count": 35,
     "metadata": {},
     "output_type": "execute_result"
    }
   ],
   "source": [
    "# how many have \"specialized services\" in their name\n",
    "sco_18_24[sco_18_24[\"entity_name\"].str.contains(\"Specialized Service\")][\"entity_name\"].nunique()"
   ]
  },
  {
   "cell_type": "code",
   "execution_count": 36,
   "id": "22a4eaa6-98c8-4dfd-84e5-e7b56341a7b9",
   "metadata": {
    "tags": []
   },
   "outputs": [
    {
     "data": {
      "text/plain": [
       "185"
      ]
     },
     "execution_count": 36,
     "metadata": {},
     "output_type": "execute_result"
    }
   ],
   "source": [
    "# how many entities do not have \"specialized service\"\n",
    "sco_18_24[~sco_18_24[\"entity_name\"].str.contains(\"Specialized Service\")][\"entity_name\"].nunique()"
   ]
  },
  {
   "cell_type": "markdown",
   "id": "e91fe7e7-2b73-4125-8233-197a34e7dcf8",
   "metadata": {},
   "source": [
    "# Read NTD data from warehouse\n"
   ]
  },
  {
   "cell_type": "markdown",
   "id": "5b13e324-cec2-4900-9049-025c2d4f5dbc",
   "metadata": {},
   "source": [
    "New syntax to query the warehouse\n",
    "```\n",
    "from calitp_data_analysis.sql import get_engine\n",
    "\n",
    "db_engine = get_engine()\n",
    "\n",
    "with db_engine.connect() as connection:\n",
    "    query = \"\"\n",
    "    df = pd.read_sql(query, connection)\n",
    "```"
   ]
  },
  {
   "cell_type": "code",
   "execution_count": 49,
   "id": "31a10354-b2a1-42c4-9add-56affd6c397d",
   "metadata": {},
   "outputs": [],
   "source": [
    "from calitp_data_analysis.sql import get_engine"
   ]
  },
  {
   "cell_type": "code",
   "execution_count": 51,
   "id": "d066f31e-8561-4d5a-9a67-11adcd6e5699",
   "metadata": {},
   "outputs": [],
   "source": [
    "db_engine = get_engine()\n",
    "\n",
    "metric_list = [\n",
    "    \"pmt\",\n",
    "    \"upt\",\n",
    "    \"vrh\"\n",
    "]\n",
    "\n",
    "# empty list for appending DFs\n",
    "df_list = []\n",
    "with db_engine.connect() as connection:\n",
    "    for metric in metric_list:\n",
    "        query = f\"\"\"\n",
    "        SELECT\n",
    "          ntd_id,\n",
    "          SUM({metric}) AS total_{metric},\n",
    "          source_agency,\n",
    "          agency_status,\n",
    "          year\n",
    "        FROM\n",
    "          `cal-itp-data-infra.mart_ntd_funding_and_expenses.fct_service_data_and_operating_expenses_time_series_by_mode_{metric}`\n",
    "        WHERE\n",
    "          source_state = \"CA\"\n",
    "          AND year >= 2018\n",
    "        GROUP BY\n",
    "          ntd_id,\n",
    "          source_agency,\n",
    "          agency_status,\n",
    "          year\n",
    "        \"\"\"\n",
    "        # create df\n",
    "        metric = pd.read_sql(query,connection) \n",
    "        \n",
    "        # append df to list\n",
    "        df_list.append(metric)\n",
    "        "
   ]
  },
  {
   "cell_type": "code",
   "execution_count": 52,
   "id": "3c67a942-309f-44fd-a0d1-a26be9297684",
   "metadata": {
    "tags": []
   },
   "outputs": [
    {
     "data": {
      "text/plain": [
       "3"
      ]
     },
     "metadata": {},
     "output_type": "display_data"
    },
    {
     "data": {
      "text/plain": [
       "pandas.core.frame.DataFrame"
      ]
     },
     "metadata": {},
     "output_type": "display_data"
    },
    {
     "data": {
      "text/plain": [
       "pandas.core.frame.DataFrame"
      ]
     },
     "metadata": {},
     "output_type": "display_data"
    },
    {
     "data": {
      "text/plain": [
       "pandas.core.frame.DataFrame"
      ]
     },
     "metadata": {},
     "output_type": "display_data"
    },
    {
     "data": {
      "text/plain": [
       "Index(['ntd_id', 'total_pmt', 'source_agency', 'agency_status', 'year'], dtype='object')"
      ]
     },
     "metadata": {},
     "output_type": "display_data"
    },
    {
     "data": {
      "text/plain": [
       "Index(['ntd_id', 'total_upt', 'source_agency', 'agency_status', 'year'], dtype='object')"
      ]
     },
     "metadata": {},
     "output_type": "display_data"
    },
    {
     "data": {
      "text/plain": [
       "Index(['ntd_id', 'total_vrh', 'source_agency', 'agency_status', 'year'], dtype='object')"
      ]
     },
     "metadata": {},
     "output_type": "display_data"
    }
   ],
   "source": [
    "# confirm DFs were populated in list\n",
    "display(\n",
    "    len(df_list),\n",
    "    type(df_list[0]),type(df_list[1]),type(df_list[2]),\n",
    "    df_list[0].columns, df_list[1].columns, df_list[2].columns\n",
    ")"
   ]
  },
  {
   "cell_type": "code",
   "execution_count": 53,
   "id": "c0950f27-72ea-4218-9033-9ba8e8733ffd",
   "metadata": {
    "tags": []
   },
   "outputs": [],
   "source": [
    "# unpack list into separate DFs\n",
    "ntd_pmt, ntd_upt, ntd_vrh = df_list"
   ]
  },
  {
   "cell_type": "code",
   "execution_count": 54,
   "id": "c8998315-49e7-4d35-83b2-0a3fd82e2690",
   "metadata": {
    "tags": []
   },
   "outputs": [
    {
     "name": "stdout",
     "output_type": "stream",
     "text": [
      "<class 'pandas.core.frame.DataFrame'>\n",
      "RangeIndex: 1614 entries, 0 to 1613\n",
      "Data columns (total 5 columns):\n",
      " #   Column         Non-Null Count  Dtype  \n",
      "---  ------         --------------  -----  \n",
      " 0   ntd_id         1524 non-null   object \n",
      " 1   total_pmt      1291 non-null   float64\n",
      " 2   source_agency  1614 non-null   object \n",
      " 3   agency_status  1614 non-null   object \n",
      " 4   year           1614 non-null   int64  \n",
      "dtypes: float64(1), int64(1), object(3)\n",
      "memory usage: 63.2+ KB\n"
     ]
    }
   ],
   "source": [
    "# check if unpack was successful\n",
    "ntd_pmt.info()"
   ]
  },
  {
   "cell_type": "code",
   "execution_count": 58,
   "id": "5028b214-d851-4bdc-a66a-1534154cbe20",
   "metadata": {
    "tags": []
   },
   "outputs": [
    {
     "data": {
      "text/plain": [
       "True"
      ]
     },
     "metadata": {},
     "output_type": "display_data"
    }
   ],
   "source": [
    "# confirm the same years exist in all DFs\n",
    "display(\n",
    "    set(ntd_pmt[\"year\"].sort_values().unique()) == set(ntd_upt[\"year\"].sort_values().unique()) == set(ntd_vrh[\"year\"].sort_values().unique())\n",
    ")"
   ]
  },
  {
   "cell_type": "markdown",
   "id": "8b83b499-9abc-40e7-81cf-ef298e7571c4",
   "metadata": {},
   "source": [
    "# Merge data frames together"
   ]
  },
  {
   "cell_type": "code",
   "execution_count": 59,
   "id": "83c6932f-1acc-4ac0-be3f-0d61aea5a791",
   "metadata": {
    "tags": []
   },
   "outputs": [],
   "source": [
    "merge_1 = ntd_pmt.merge(ntd_upt, on=[\"ntd_id\", \"year\",\"source_agency\",\"agency_status\"], how = \"inner\")"
   ]
  },
  {
   "cell_type": "code",
   "execution_count": 61,
   "id": "86ce6370-73bf-4c0d-9d15-6b30e7521beb",
   "metadata": {
    "tags": []
   },
   "outputs": [],
   "source": [
    "ntd_all_metrics = merge_1.merge(ntd_vrh, on=[\"ntd_id\", \"year\",\"source_agency\",\"agency_status\"], how = \"inner\")"
   ]
  },
  {
   "cell_type": "code",
   "execution_count": 65,
   "id": "7031ad22-2475-4d27-8ca0-a8129443eedf",
   "metadata": {
    "tags": []
   },
   "outputs": [],
   "source": [
    "col_order =[\n",
    "    \"ntd_id\",\n",
    "    \"source_agency\",\n",
    "    \"agency_status\",\n",
    "    \"year\",\n",
    "    \"total_upt\",\n",
    "    \"total_vrh\",\n",
    "    \"total_pmt\"\n",
    "]\n",
    "\n",
    "ntd_all_metrics = ntd_all_metrics[col_order]"
   ]
  },
  {
   "cell_type": "code",
   "execution_count": 64,
   "id": "77e4d673-dd5f-4b3f-ae68-e57fb6d5e511",
   "metadata": {
    "tags": []
   },
   "outputs": [
    {
     "data": {
      "text/html": [
       "<div>\n",
       "<style scoped>\n",
       "    .dataframe tbody tr th:only-of-type {\n",
       "        vertical-align: middle;\n",
       "    }\n",
       "\n",
       "    .dataframe tbody tr th {\n",
       "        vertical-align: top;\n",
       "    }\n",
       "\n",
       "    .dataframe thead th {\n",
       "        text-align: right;\n",
       "    }\n",
       "</style>\n",
       "<table border=\"1\" class=\"dataframe\">\n",
       "  <thead>\n",
       "    <tr style=\"text-align: right;\">\n",
       "      <th></th>\n",
       "      <th>ntd_id</th>\n",
       "      <th>source_agency</th>\n",
       "      <th>agency_status</th>\n",
       "      <th>year</th>\n",
       "      <th>total_upt</th>\n",
       "      <th>total_vrh</th>\n",
       "      <th>total_pmt</th>\n",
       "    </tr>\n",
       "  </thead>\n",
       "  <tbody>\n",
       "    <tr>\n",
       "      <th>0</th>\n",
       "      <td>90198</td>\n",
       "      <td>City of Porterville (COLT) - Transit Department</td>\n",
       "      <td>Active</td>\n",
       "      <td>2022</td>\n",
       "      <td>260879.0</td>\n",
       "      <td>41460.0</td>\n",
       "      <td>0.0</td>\n",
       "    </tr>\n",
       "    <tr>\n",
       "      <th>1</th>\n",
       "      <td>90198</td>\n",
       "      <td>City of Porterville (COLT) - Transit Department</td>\n",
       "      <td>Active</td>\n",
       "      <td>2020</td>\n",
       "      <td>522056.0</td>\n",
       "      <td>47356.0</td>\n",
       "      <td>0.0</td>\n",
       "    </tr>\n",
       "    <tr>\n",
       "      <th>2</th>\n",
       "      <td>90198</td>\n",
       "      <td>City of Porterville (COLT) - Transit Department</td>\n",
       "      <td>Active</td>\n",
       "      <td>2023</td>\n",
       "      <td>NaN</td>\n",
       "      <td>NaN</td>\n",
       "      <td>NaN</td>\n",
       "    </tr>\n",
       "    <tr>\n",
       "      <th>3</th>\n",
       "      <td>90198</td>\n",
       "      <td>City of Porterville (COLT) - Transit Department</td>\n",
       "      <td>Active</td>\n",
       "      <td>2019</td>\n",
       "      <td>635559.0</td>\n",
       "      <td>52834.0</td>\n",
       "      <td>0.0</td>\n",
       "    </tr>\n",
       "    <tr>\n",
       "      <th>4</th>\n",
       "      <td>90198</td>\n",
       "      <td>City of Porterville (COLT) - Transit Department</td>\n",
       "      <td>Active</td>\n",
       "      <td>2021</td>\n",
       "      <td>174595.0</td>\n",
       "      <td>30773.0</td>\n",
       "      <td>0.0</td>\n",
       "    </tr>\n",
       "    <tr>\n",
       "      <th>5</th>\n",
       "      <td>90198</td>\n",
       "      <td>City of Porterville (COLT) - Transit Department</td>\n",
       "      <td>Active</td>\n",
       "      <td>2018</td>\n",
       "      <td>648649.0</td>\n",
       "      <td>52799.0</td>\n",
       "      <td>0.0</td>\n",
       "    </tr>\n",
       "    <tr>\n",
       "      <th>6</th>\n",
       "      <td>90036</td>\n",
       "      <td>Orange County Transportation Authority (OCTA)</td>\n",
       "      <td>Active</td>\n",
       "      <td>2020</td>\n",
       "      <td>33009047.0</td>\n",
       "      <td>2232009.0</td>\n",
       "      <td>155734272.0</td>\n",
       "    </tr>\n",
       "    <tr>\n",
       "      <th>7</th>\n",
       "      <td>90036</td>\n",
       "      <td>Orange County Transportation Authority (OCTA)</td>\n",
       "      <td>Active</td>\n",
       "      <td>2023</td>\n",
       "      <td>32674688.0</td>\n",
       "      <td>2076903.0</td>\n",
       "      <td>137085597.0</td>\n",
       "    </tr>\n",
       "    <tr>\n",
       "      <th>8</th>\n",
       "      <td>90036</td>\n",
       "      <td>Orange County Transportation Authority (OCTA)</td>\n",
       "      <td>Active</td>\n",
       "      <td>2022</td>\n",
       "      <td>27753507.0</td>\n",
       "      <td>1897023.0</td>\n",
       "      <td>132745034.0</td>\n",
       "    </tr>\n",
       "    <tr>\n",
       "      <th>9</th>\n",
       "      <td>90036</td>\n",
       "      <td>Orange County Transportation Authority (OCTA)</td>\n",
       "      <td>Active</td>\n",
       "      <td>2018</td>\n",
       "      <td>42201857.0</td>\n",
       "      <td>2590593.0</td>\n",
       "      <td>214680839.0</td>\n",
       "    </tr>\n",
       "  </tbody>\n",
       "</table>\n",
       "</div>"
      ],
      "text/plain": [
       "  ntd_id                                    source_agency agency_status  year  \\\n",
       "0  90198  City of Porterville (COLT) - Transit Department        Active  2022   \n",
       "1  90198  City of Porterville (COLT) - Transit Department        Active  2020   \n",
       "2  90198  City of Porterville (COLT) - Transit Department        Active  2023   \n",
       "3  90198  City of Porterville (COLT) - Transit Department        Active  2019   \n",
       "4  90198  City of Porterville (COLT) - Transit Department        Active  2021   \n",
       "5  90198  City of Porterville (COLT) - Transit Department        Active  2018   \n",
       "6  90036    Orange County Transportation Authority (OCTA)        Active  2020   \n",
       "7  90036    Orange County Transportation Authority (OCTA)        Active  2023   \n",
       "8  90036    Orange County Transportation Authority (OCTA)        Active  2022   \n",
       "9  90036    Orange County Transportation Authority (OCTA)        Active  2018   \n",
       "\n",
       "    total_upt  total_vrh    total_pmt  \n",
       "0    260879.0    41460.0          0.0  \n",
       "1    522056.0    47356.0          0.0  \n",
       "2         NaN        NaN          NaN  \n",
       "3    635559.0    52834.0          0.0  \n",
       "4    174595.0    30773.0          0.0  \n",
       "5    648649.0    52799.0          0.0  \n",
       "6  33009047.0  2232009.0  155734272.0  \n",
       "7  32674688.0  2076903.0  137085597.0  \n",
       "8  27753507.0  1897023.0  132745034.0  \n",
       "9  42201857.0  2590593.0  214680839.0  "
      ]
     },
     "execution_count": 64,
     "metadata": {},
     "output_type": "execute_result"
    }
   ],
   "source": [
    "ntd_all_metrics.head(10)"
   ]
  },
  {
   "cell_type": "markdown",
   "id": "9bf69a5a-0e4d-4903-98c5-f583814a02ad",
   "metadata": {},
   "source": [
    "## saving data to gcs"
   ]
  },
  {
   "cell_type": "code",
   "execution_count": 66,
   "id": "4e7a596b-7799-49ff-ab6a-ab27c85d3cf6",
   "metadata": {
    "tags": []
   },
   "outputs": [],
   "source": [
    "gcs_path = \"gs://calitp-analytics-data/data-analyses/ntd/\"\n",
    "ntd_name = \"ntd_operator_data_18_23.parquet\"\n",
    "\n",
    "# ntd_all_metrics.to_parquet(f\"{gcs_path}{ntd_name}\")\n",
    "# ntd_all_metrics.to_csv(f\"{gcs_path}ntd_operator_data_18_23.csv\")"
   ]
  },
  {
   "cell_type": "code",
   "execution_count": 67,
   "id": "828cc8ab-11d4-40df-a4ad-95ef19457494",
   "metadata": {
    "tags": []
   },
   "outputs": [],
   "source": [
    "ntd_all_metrics = pd.read_parquet(f\"{gcs_path}{ntd_name}\")"
   ]
  },
  {
   "cell_type": "code",
   "execution_count": 68,
   "id": "9cd2fc29-0fb7-4a93-b9cb-633b4fa84f46",
   "metadata": {
    "tags": []
   },
   "outputs": [
    {
     "name": "stdout",
     "output_type": "stream",
     "text": [
      "<class 'pandas.core.frame.DataFrame'>\n",
      "Int64Index: 1614 entries, 0 to 1613\n",
      "Data columns (total 7 columns):\n",
      " #   Column         Non-Null Count  Dtype  \n",
      "---  ------         --------------  -----  \n",
      " 0   ntd_id         1524 non-null   object \n",
      " 1   source_agency  1614 non-null   object \n",
      " 2   agency_status  1614 non-null   object \n",
      " 3   year           1614 non-null   int64  \n",
      " 4   total_upt      1291 non-null   float64\n",
      " 5   total_vrh      1291 non-null   float64\n",
      " 6   total_pmt      1291 non-null   float64\n",
      "dtypes: float64(3), int64(1), object(3)\n",
      "memory usage: 100.9+ KB\n"
     ]
    }
   ],
   "source": [
    "ntd_all_metrics.info()"
   ]
  },
  {
   "cell_type": "markdown",
   "id": "d4b61cce-4198-44ed-8182-aa082db382b7",
   "metadata": {},
   "source": [
    "# compare sco data to ntd data"
   ]
  },
  {
   "cell_type": "markdown",
   "id": "8783e820-295f-47a1-839e-58037f765558",
   "metadata": {},
   "source": [
    "## Summary "
   ]
  },
  {
   "cell_type": "code",
   "execution_count": 69,
   "id": "469f85b1-f649-40b0-8be5-6eab0dd39de8",
   "metadata": {
    "scrolled": true,
    "tags": []
   },
   "outputs": [
    {
     "name": "stdout",
     "output_type": "stream",
     "text": [
      "Unique agencies in SCO data: 299,\n",
      "How many SCO agencies are \"Specialized Services\": 114\n",
      "    \n",
      "Unique agencies in NTD data: 268,\n",
      "\n"
     ]
    }
   ],
   "source": [
    "print(f\"\"\"Unique agencies in SCO data: {len(sco_18_24[\"entity_name\"].unique())},\n",
    "How many SCO agencies are \"Specialized Services\": {len(sco_18_24[sco_18_24[\"entity_name\"].str.contains(\"Specialized Service\")][\"entity_name\"].unique())}\n",
    "    \n",
    "Unique agencies in NTD data: {len(ntd_all_metrics[\"source_agency\"].unique())},\n",
    "\"\"\")"
   ]
  },
  {
   "cell_type": "markdown",
   "id": "e7091a83-c6c7-408c-8188-2137ba9899ea",
   "metadata": {},
   "source": [
    "## Who are the common agencies from each list?\n",
    "\n",
    "SCO list had short entity names. The short names were used to match with the longer names in ntd data"
   ]
  },
  {
   "cell_type": "code",
   "execution_count": 70,
   "id": "57b82d5a-93c1-46e8-98a4-7381985b92d5",
   "metadata": {
    "tags": []
   },
   "outputs": [],
   "source": [
    "sco_agencies = list(sco_18_24[\"entity_name\"].unique())\n",
    "\n",
    "pattern = \"|\".join(sco_agencies)"
   ]
  },
  {
   "cell_type": "code",
   "execution_count": 71,
   "id": "7fdc35c0-18e8-47bf-929f-2a6cc4ab647a",
   "metadata": {
    "scrolled": true,
    "tags": []
   },
   "outputs": [
    {
     "name": "stderr",
     "output_type": "stream",
     "text": [
      "/tmp/ipykernel_659/3041457399.py:2: UserWarning: This pattern is interpreted as a regular expression, and has match groups. To actually get the groups, use str.extract.\n",
      "  {len(ntd_all_metrics[ntd_all_metrics[\"source_agency\"].str.contains(pattern,case=False)][\"source_agency\"].unique())}\n",
      "/tmp/ipykernel_659/3041457399.py:5: UserWarning: This pattern is interpreted as a regular expression, and has match groups. To actually get the groups, use str.extract.\n",
      "  ntd_all_metrics[ntd_all_metrics[\"source_agency\"].str.contains(pattern,case=False)][\"source_agency\"].unique()\n"
     ]
    },
    {
     "name": "stdout",
     "output_type": "stream",
     "text": [
      "Number of fuzzy match of names between sco and NTD list:\n",
      "    145\n",
      "\n"
     ]
    },
    {
     "data": {
      "text/plain": [
       "array(['City of Porterville (COLT) - Transit Department',\n",
       "       'Orange County Transportation Authority (OCTA)',\n",
       "       'Santa Clara Valley Transportation Authority (VTA)',\n",
       "       'Alameda-Contra Costa Transit District',\n",
       "       'Antelope Valley Transit Authority (AVTA)',\n",
       "       'City and County of San Francisco (SFMTA) - Transit Division',\n",
       "       'City of Arcata (A&MRTS)', 'City of Atascadero - Public Works',\n",
       "       'City of Chowchilla (CATX) - Transit Department',\n",
       "       'City of Claremont - Community Services/ Transit Services',\n",
       "       'City of Culver City - Transportation Department',\n",
       "       'City of Delano (DART) - Delano Area Rapid Transit City of Delano',\n",
       "       'City of Dinuba', 'City of Downey - Parks and Recreation',\n",
       "       'City of Elk Grove(etran)',\n",
       "       'City of Fresno (FAX) - Department of Transportation',\n",
       "       'City of Gardena - Transportation',\n",
       "       'City of Guadalupe - Public Works',\n",
       "       'City of La Mirada (LMT) - CS Department',\n",
       "       'City of Laguna Beach (CLB) - Transit and Community Services',\n",
       "       'City of Lincoln (COL)',\n",
       "       'City of Lompoc (COLT) - Public Works/Transportation',\n",
       "       'City of Los Angeles (LADOT) - City of Los Angeles Department of Transportation',\n",
       "       'City of McFarland - Public Works Department',\n",
       "       'City of Modesto (MAX)',\n",
       "       'City of Montebello (MBL) - Transportation',\n",
       "       'City of Needles (NAT) - Transit',\n",
       "       'City of Norwalk (NTS) - Department of Transportation',\n",
       "       'City of Ojai', 'City of Rio Vista - Department of Public Works',\n",
       "       'City of Santa Monica (BBB) - Department of Transportation',\n",
       "       'City of Taft (TAT)', 'City of Tehachapi',\n",
       "       'City of Torrance (TTS) - Transit Department',\n",
       "       'City of Tracy - Transit Division', 'City of Tulare(TIME)',\n",
       "       'City of Visalia (VT) - Transportation',\n",
       "       'City of Woodlake(MCC/ESCORT)',\n",
       "       'Eastern Sierra Transit Authority (ESTA)',\n",
       "       'El Dorado County Transit Authority',\n",
       "       'Fresno County Rural Transit Agency (FCRTA)',\n",
       "       'Golden Empire Transit District (GET)',\n",
       "       'Kings County Area Public Transit Agency',\n",
       "       'Kings County Area Public Transit Agency (KART)',\n",
       "       'Lake Transit Authority (LTA)',\n",
       "       'Lassen Transit Service Agency (LTSA)',\n",
       "       'Los Angeles County Metropolitan Transportation Authority (LACMTA)',\n",
       "       'Los Angeles County Transportation Commission / MTA',\n",
       "       'Madera County - Public Works Department',\n",
       "       'Mariposa County - Public Works/Transportation Planning',\n",
       "       'Modoc Transportation Agency (MTA)',\n",
       "       'Monterey-Salinas Transit (MST)',\n",
       "       'North County Transit District (NCTD)',\n",
       "       'Peninsula Corridor Joint Powers Board (PCJPB)',\n",
       "       'Plumas County Transportation Commission (PCTC)',\n",
       "       'Pomona Valley Transportation Authority (PVTA)',\n",
       "       'Redondo Beach Dial-A-Ride',\n",
       "       'Redwood Coast Transit Authority (RCTA)',\n",
       "       'Riverside Transit Agency (RTA)',\n",
       "       'San Benito County Local Transportation Authority (\\t\\t)',\n",
       "       'San Diego Metropolitan Transit System (MTS)',\n",
       "       'San Francisco Bay Area Rapid Transit District (BART)',\n",
       "       'San Francisco Bay Area Water Emergency Transportation Authority (WETA)',\n",
       "       'San Francisco Paratransit (ATC)',\n",
       "       'San Joaquin Regional Transit District (RTD)',\n",
       "       'San Mateo County Transit District (SMCTD)',\n",
       "       'Santa Barbara Metropolitan Transit District (SBMTD)',\n",
       "       'Santa Cruz Metropolitan Transit District (SCMTD)',\n",
       "       'Sonoma-Marin Area Rail Transit District (SMART)',\n",
       "       'Southern California Regional Rail Authority (SCRRA)',\n",
       "       'Stanislaus County (StaRT)', 'SunLine Transit Agency',\n",
       "       'Tehama County (TRAX)', 'Tulare County Area Transit (TCAT)',\n",
       "       'Tuolumne County Transit (TCT, TCTA)', 'Amador Transit (AT)',\n",
       "       'Anaheim Transportation Network (ATN)',\n",
       "       'Blue Lake Rancheria (BLRTS) - Transportation',\n",
       "       'Calaveras Transit Agency (CTA)',\n",
       "       'Central Contra Costa Transit Authority (CCCTA)',\n",
       "       'City of Arcadia - Development Services Department - Transportation Services Division',\n",
       "       'City of Arvin - Transportation Department',\n",
       "       'City of Auburn - Planning & Public Works',\n",
       "       'City of Burbank - Community Development-Transportation',\n",
       "       'City of California City - Department of Public Works',\n",
       "       'City of Camarillo (CAT) - Public Works',\n",
       "       'City of Commerce (CCT) - Transportation',\n",
       "       'City of Corcoran (CAT ) - Transit',\n",
       "       'City of Corona (CCTS) - Community Services',\n",
       "       'City of Dixon - Public Works',\n",
       "       'City of Escalon - Transit Services',\n",
       "       'City of Fairfield, California - Transportation Division/Public Works Department',\n",
       "       'City of Glendale - Public Works Transit',\n",
       "       'City of Lodi - Public Works Department',\n",
       "       'City of Madera (MAX/DAR) - Transit',\n",
       "       'City of Manteca - Transit Division',\n",
       "       'City of Moorpark (MCT) - Public Works',\n",
       "       'City of Pasadena - Transit', 'City of Petaluma - Transit',\n",
       "       'City of Redondo Beach (BCT) - Transit Division in the Community Services Department',\n",
       "       'City of Ridgecrest (RTS) - Transit Division / Department of Public Works',\n",
       "       'City of Roseville - Public Works',\n",
       "       'City of Santa Clarita (SCT) - Economic Development, Transit Division',\n",
       "       'City of Santa Maria (SMRT)',\n",
       "       'City of Santa Rosa - Transit Division',\n",
       "       'City of Shafter - Transit',\n",
       "       'City of Simi Valley (SVT) - Transit/Public Works',\n",
       "       'City of Solvang (SYVT)',\n",
       "       'City of South Pasadena - Transit / Community Services',\n",
       "       'City of Thousand Oaks (TOT) - Public Works',\n",
       "       'City of Turlock - Transit',\n",
       "       'City of Union City (UCT) - Public Works',\n",
       "       'City of Vacaville - Department of Public Works',\n",
       "       'City of Wasco - Transportation',\n",
       "       'El Dorado County Transit Authority (EDCTA)', 'Foothill Transit',\n",
       "       'Gold Coast Transit District (GCTD)',\n",
       "       'Humboldt Transit Authority (HTA)',\n",
       "       'Los Angeles County (LACDPW) - Department of Public Works, Transit Operations - Florence Firestone',\n",
       "       'Los Angeles County (LACDPW) - Department of Public Works, Transit Operations - South Whittier',\n",
       "       'Los Angeles County (LACDPW) - Department of Public Works, Transit Operations – Avocado Heights',\n",
       "       'Los Angeles County (LACDPW) - Department of Public Works, Transit Operations – East Valinda',\n",
       "       'Los Angeles County - Department of Public Works, Transit Operations, Athens MB',\n",
       "       'Los Angeles County - Department of Public Works, Transit Operations, East Los Angeles MB and DR',\n",
       "       'Los Angeles County - Department of Public Works, Transit Operations, King Medical Center MB',\n",
       "       'Los Angeles County - Department of Public Works, Transit Operations, Lennox MB',\n",
       "       'Los Angeles County - Department of Public Works, Transit Operations, Whittier Et Al DR',\n",
       "       'Los Angeles County - Department of Public Works, Transit Operations, Willowbrook MB',\n",
       "       'Los Angeles County - Department of Public Works, Transit Operations, Willowbrook et. al. DR',\n",
       "       'Marin County Transit District (MCTD)',\n",
       "       'Mendocino Transit Authority (MTA)',\n",
       "       'Morongo Basin Transit Authority (MBTA BUS)',\n",
       "       'Mountain Area Regional Transit Authority (MARTA)',\n",
       "       'Napa Valley Transportation Authority (NVTA)', 'Omnitrans',\n",
       "       'Palo Verde Valley Transit Agency (PVVTA)',\n",
       "       'Redding Area Bus Authority (RABA)',\n",
       "       'Santa Barbara County Association of Governments (SBCAG-CAE) - Rail and Transit Division',\n",
       "       'Stanislaus Regional Transit Authority',\n",
       "       'Town of Truckee - Public Transportation',\n",
       "       'Trinity County (TCDOT) - Transportation',\n",
       "       'Tulare County Regional Transit Agency (TCRTA)',\n",
       "       'Ventura County Transportation Commission (VCTC)',\n",
       "       'Victor Valley Transit Authority (VVTA)',\n",
       "       'Yolo County Transportation District (YCTD)'], dtype=object)"
      ]
     },
     "execution_count": 71,
     "metadata": {},
     "output_type": "execute_result"
    }
   ],
   "source": [
    "print(f\"\"\"Number of fuzzy match of names between sco and NTD list:\n",
    "    {len(ntd_all_metrics[ntd_all_metrics[\"source_agency\"].str.contains(pattern,case=False)][\"source_agency\"].unique())}\n",
    "\"\"\")\n",
    "\n",
    "ntd_all_metrics[ntd_all_metrics[\"source_agency\"].str.contains(pattern,case=False)][\"source_agency\"].unique()"
   ]
  },
  {
   "cell_type": "markdown",
   "id": "4969a6df-f506-48bf-a77b-097924e8a08e",
   "metadata": {},
   "source": [
    "## Who are the unique agencies in each list?"
   ]
  },
  {
   "cell_type": "code",
   "execution_count": 72,
   "id": "f5aba61b-8420-479f-931c-d260ed48a10a",
   "metadata": {
    "scrolled": true,
    "tags": []
   },
   "outputs": [
    {
     "name": "stderr",
     "output_type": "stream",
     "text": [
      "/tmp/ipykernel_659/3488948080.py:4: UserWarning: This pattern is interpreted as a regular expression, and has match groups. To actually get the groups, use str.extract.\n",
      "  {len(ntd_all_metrics[~ntd_all_metrics[\"source_agency\"].str.contains(pattern,case=False)][\"source_agency\"].unique())}\n",
      "/tmp/ipykernel_659/3488948080.py:7: UserWarning: This pattern is interpreted as a regular expression, and has match groups. To actually get the groups, use str.extract.\n",
      "  ntd_all_metrics[~ntd_all_metrics[\"source_agency\"].str.contains(pattern,case=False)][\"source_agency\"].unique()\n"
     ]
    },
    {
     "name": "stdout",
     "output_type": "stream",
     "text": [
      "Number of names that dont fuzzy match:\n",
      "    123\n",
      "\n"
     ]
    },
    {
     "data": {
      "text/plain": [
       "array(['ATC / Vancom', 'Access Services (AS)',\n",
       "       'Aero Airport Shuttle and Charter',\n",
       "       'Altamont Corridor Express (ACE)',\n",
       "       'Calaveras County Department of Public Works',\n",
       "       'California Dept of Transportation San Diegan Commuter Rail',\n",
       "       'Chico Area Transit System City of Chico (CATS)',\n",
       "       'Chula Vista Transit (CVT)', 'City of Alameda Ferry Services',\n",
       "       'City of Artesia - Transportation Division', 'City of Avalon',\n",
       "       'City of Barstow', 'City of Bell - Community Services Department',\n",
       "       'City of Benicia (Benicia Breeze)',\n",
       "       'City of Carson - Transportation Services Division',\n",
       "       'City of Cerritos - Department of Community Development',\n",
       "       'City of Cudahy (COC)', 'City of Duarte', 'City of Eureka (ETS)',\n",
       "       'City of Folsom (FSL)',\n",
       "       'City of Huntington Park (HPCA) - Fixed Route Transportation/ Public Works',\n",
       "       'City of Inglewood - Human Services', 'City of Irvine (COI)',\n",
       "       'City of Lawndale',\n",
       "       'City of Malibu - Community Services Department',\n",
       "       'City of Merced Transit System',\n",
       "       'City of South Gate - Transportation Department',\n",
       "       'City of South Lake Tahoe',\n",
       "       'City of Vallejo Transportation Program (Vallejo Transit, Baylink)',\n",
       "       'County of Alpine - Community Development',\n",
       "       'County of Colusa (CCTA) - Public Works',\n",
       "       'County of Glenn - Glenn County Planning and Community Development Services Agency',\n",
       "       'County of Placer (PCT/TART) - Department of Public Works',\n",
       "       'County of San Diego Transit System (CTS)',\n",
       "       'County of Shasta Department of Public Works',\n",
       "       'County of Sonoma (SCT) - Department of Public Infrastructure - Transit Division',\n",
       "       'DAVE Transportation Services, Inc.', 'Duckwater Shoshone Tribe',\n",
       "       'El Dorado County Department of Tarnsportation',\n",
       "       'Elk Valley Rancheria (EVR)',\n",
       "       'Golden Gate Bridge, Highway and Transportation District (GGBHTD) - Golden Gate Transit; Golden Gate Ferry',\n",
       "       'Imperial Valley Transit (IVT)', 'Indian Health Council, Inc',\n",
       "       'Inyo Mono Transit', 'Kern Regional Transit (KT)',\n",
       "       'LACMTA - Small Operators (LACMTA)', 'Laidlaw Transit Services',\n",
       "       'Laidlaw Transit Services, Inc.',\n",
       "       'Livermore / Amador Valley Transit Authority (LAVTA)',\n",
       "       'Long Beach Transit (LBT)', 'MTS Contract Services (MCS)',\n",
       "       'Merced County Transit', 'Monterey County RIDES',\n",
       "       'National City Transit (NCT)', 'Outreach & Escort dba OUTREACH',\n",
       "       'PEOPLE FOR PEOPLE',\n",
       "       'Palos Verdes Peninsula Transit Authority (PVPTA)',\n",
       "       'Paratransit, Inc.', 'Paratransit, Inc. CTSA',\n",
       "       'Paso Robles Transit Services (PE)',\n",
       "       'Reservation Transportation Authority', 'Ryder/ATE',\n",
       "       'Sacramento Regional Transit District',\n",
       "       'San Diego Association of Governments (SANDAG) - Regional Transportation Services',\n",
       "       'San Diego Trolley, Inc. (MTS)', 'San Gabriel Transit, Inc. (SGT)',\n",
       "       'San Luis Obispo Council of Governments(SLOCOG)',\n",
       "       'San Luis Obispo Regional Transit Authority',\n",
       "       'San Luis Obispo Regional Transit Authority (SLORTA)',\n",
       "       'Sierra County - Department of Transportation',\n",
       "       'South Tahoe Area Transit Authority',\n",
       "       'Susanville Indian Rancheria(SIR)',\n",
       "       'The Eastern Contra Costa Transit Authority',\n",
       "       'Transit Joint Powers Authority for Merced County',\n",
       "       'Yosemite Area Regional Transportation System (YARTS)',\n",
       "       'Butte County Association of Governments (BCAG)',\n",
       "       'California Vanpool Authority (CVA)',\n",
       "       'Chemehuevi Indian Tribe (CTA) - Reality and Planning department',\n",
       "       'City of Agoura Hills - Department of Community Services',\n",
       "       'City of Alhambra (ACT) - Public Works',\n",
       "       'City of Azusa - Transit Division',\n",
       "       'City of Baldwin Park - Department of Public Works',\n",
       "       'City of Bell Gardens - public works',\n",
       "       'City of Bellflower - Parks and Recreation',\n",
       "       'City of Beverly Hills - Public Works - Transportation Planning',\n",
       "       'City of Calabasas (COC) - Public Works Department / Transportation/Transit Division',\n",
       "       'City of Compton (CRT)',\n",
       "       'City of Covina - Public Works Department, Transportation Divsion',\n",
       "       'City of Davis (DCT) - Transit/Parks and Community Services',\n",
       "       'City of El Monte - Transportation Services',\n",
       "       'City of Glendora - Transportation Division',\n",
       "       'City of Lakewood (DASH) - Recreation and Community Services Department',\n",
       "       'City of Lynwood - Public Works Department',\n",
       "       'City of Manhattan Beach (CMB DAR) - Community Services',\n",
       "       'City of Maywood (COM) - City Manager Office',\n",
       "       'City of Monrovia - Public Works',\n",
       "       'City of Monterey Park - Public Works Department',\n",
       "       'City of Pico Rivera - Transit Division/Parks and Recreation Department',\n",
       "       'City of Riverside - Parks, Recreation & Community Services / Special Transportation',\n",
       "       'City of Rosemead - Public Works',\n",
       "       'City of San Luis Obispo - Public Works',\n",
       "       'City of Santa Fe Springs (SFS) - Public Works- Transportation Services',\n",
       "       'City of West Covina - Public Services Department',\n",
       "       'City of West Hollywood (WEHO) - Business Development Division / Economic Development Department',\n",
       "       'City of Whittier - Transit', 'County of Nevada - Public Works',\n",
       "       'County of Sacramento Municipal Services Agency (SCT Link) - Department of Transportation',\n",
       "       'County of Siskiyou (STAGE) - General Services',\n",
       "       'County of Ventura (PWATD) - Public Works',\n",
       "       'Easy Lift Transportation',\n",
       "       'Imperial County Transportation Commission (ICTC)',\n",
       "       'Metropolitan Transportation Commission (MTC) - Field Operations and Asset Management',\n",
       "       'Morongo Band of Mission Indians - Public Works Transportation',\n",
       "       'North Fork Rancheria of Mono Indians of California (NFR) - Administration Department',\n",
       "       'Riverside County Transportation Commission (RCTC)',\n",
       "       'San Bernardino County Transportation Authority (SBCTA)',\n",
       "       'San Joaquin Council (SJCOG)', 'Solano County Transit',\n",
       "       'Stanislaus Council of Governments (StanCOG) - Mobility Programs',\n",
       "       'University of California, Davis (ASUCD) - Associated Students of the University of California, Davis',\n",
       "       'Western Contra Costa Transit Authority (WCCTA )',\n",
       "       'Yuba-Sutter Transit Authority (YSTA)',\n",
       "       'Yurok Tribe - Transportation Department'], dtype=object)"
      ]
     },
     "execution_count": 72,
     "metadata": {},
     "output_type": "execute_result"
    }
   ],
   "source": [
    "# **This isnt reliable. found some instances of agencies names appearing in both list\n",
    "# Glendora appears in both list, \n",
    "print(f\"\"\"Number of names that dont fuzzy match:\n",
    "    {len(ntd_all_metrics[~ntd_all_metrics[\"source_agency\"].str.contains(pattern,case=False)][\"source_agency\"].unique())}\n",
    "\"\"\")\n",
    "\n",
    "ntd_all_metrics[~ntd_all_metrics[\"source_agency\"].str.contains(pattern,case=False)][\"source_agency\"].unique()"
   ]
  },
  {
   "cell_type": "code",
   "execution_count": 73,
   "id": "2b11674c-8d79-4292-b847-881c6777fc4a",
   "metadata": {
    "tags": []
   },
   "outputs": [
    {
     "data": {
      "text/html": [
       "<div>\n",
       "<style scoped>\n",
       "    .dataframe tbody tr th:only-of-type {\n",
       "        vertical-align: middle;\n",
       "    }\n",
       "\n",
       "    .dataframe tbody tr th {\n",
       "        vertical-align: top;\n",
       "    }\n",
       "\n",
       "    .dataframe thead th {\n",
       "        text-align: right;\n",
       "    }\n",
       "</style>\n",
       "<table border=\"1\" class=\"dataframe\">\n",
       "  <thead>\n",
       "    <tr style=\"text-align: right;\">\n",
       "      <th></th>\n",
       "      <th>ntd_id</th>\n",
       "      <th>source_agency</th>\n",
       "      <th>agency_status</th>\n",
       "      <th>year</th>\n",
       "      <th>total_upt</th>\n",
       "      <th>total_vrh</th>\n",
       "    </tr>\n",
       "  </thead>\n",
       "  <tbody>\n",
       "    <tr>\n",
       "      <th>900</th>\n",
       "      <td>91070</td>\n",
       "      <td>Yosemite Area Regional Transportation System (YARTS)</td>\n",
       "      <td>Active</td>\n",
       "      <td>2018</td>\n",
       "      <td>120730.0</td>\n",
       "      <td>22522.0</td>\n",
       "    </tr>\n",
       "    <tr>\n",
       "      <th>905</th>\n",
       "      <td>91070</td>\n",
       "      <td>Yosemite Area Regional Transportation System (YARTS)</td>\n",
       "      <td>Active</td>\n",
       "      <td>2019</td>\n",
       "      <td>80725.0</td>\n",
       "      <td>15458.0</td>\n",
       "    </tr>\n",
       "    <tr>\n",
       "      <th>903</th>\n",
       "      <td>91070</td>\n",
       "      <td>Yosemite Area Regional Transportation System (YARTS)</td>\n",
       "      <td>Active</td>\n",
       "      <td>2020</td>\n",
       "      <td>77173.0</td>\n",
       "      <td>16659.0</td>\n",
       "    </tr>\n",
       "    <tr>\n",
       "      <th>902</th>\n",
       "      <td>91070</td>\n",
       "      <td>Yosemite Area Regional Transportation System (YARTS)</td>\n",
       "      <td>Active</td>\n",
       "      <td>2021</td>\n",
       "      <td>53919.0</td>\n",
       "      <td>19152.0</td>\n",
       "    </tr>\n",
       "    <tr>\n",
       "      <th>901</th>\n",
       "      <td>91070</td>\n",
       "      <td>Yosemite Area Regional Transportation System (YARTS)</td>\n",
       "      <td>Active</td>\n",
       "      <td>2022</td>\n",
       "      <td>70980.0</td>\n",
       "      <td>19791.0</td>\n",
       "    </tr>\n",
       "    <tr>\n",
       "      <th>904</th>\n",
       "      <td>91070</td>\n",
       "      <td>Yosemite Area Regional Transportation System (YARTS)</td>\n",
       "      <td>Active</td>\n",
       "      <td>2023</td>\n",
       "      <td>61950.0</td>\n",
       "      <td>17365.0</td>\n",
       "    </tr>\n",
       "  </tbody>\n",
       "</table>\n",
       "</div>"
      ],
      "text/plain": [
       "    ntd_id                                         source_agency  \\\n",
       "900  91070  Yosemite Area Regional Transportation System (YARTS)   \n",
       "905  91070  Yosemite Area Regional Transportation System (YARTS)   \n",
       "903  91070  Yosemite Area Regional Transportation System (YARTS)   \n",
       "902  91070  Yosemite Area Regional Transportation System (YARTS)   \n",
       "901  91070  Yosemite Area Regional Transportation System (YARTS)   \n",
       "904  91070  Yosemite Area Regional Transportation System (YARTS)   \n",
       "\n",
       "    agency_status  year  total_upt  total_vrh  \n",
       "900        Active  2018   120730.0    22522.0  \n",
       "905        Active  2019    80725.0    15458.0  \n",
       "903        Active  2020    77173.0    16659.0  \n",
       "902        Active  2021    53919.0    19152.0  \n",
       "901        Active  2022    70980.0    19791.0  \n",
       "904        Active  2023    61950.0    17365.0  "
      ]
     },
     "metadata": {},
     "output_type": "display_data"
    },
    {
     "data": {
      "text/html": [
       "<div>\n",
       "<style scoped>\n",
       "    .dataframe tbody tr th:only-of-type {\n",
       "        vertical-align: middle;\n",
       "    }\n",
       "\n",
       "    .dataframe tbody tr th {\n",
       "        vertical-align: top;\n",
       "    }\n",
       "\n",
       "    .dataframe thead th {\n",
       "        text-align: right;\n",
       "    }\n",
       "</style>\n",
       "<table border=\"1\" class=\"dataframe\">\n",
       "  <thead>\n",
       "    <tr style=\"text-align: right;\">\n",
       "      <th></th>\n",
       "      <th>entity_name</th>\n",
       "      <th>fiscal_year</th>\n",
       "      <th>entity_id</th>\n",
       "      <th>total_upt</th>\n",
       "      <th>total_vrh</th>\n",
       "    </tr>\n",
       "  </thead>\n",
       "  <tbody>\n",
       "    <tr>\n",
       "      <th>830</th>\n",
       "      <td>Yosemite Area Regional Transportation System (YARTS)</td>\n",
       "      <td>2018</td>\n",
       "      <td>12600</td>\n",
       "      <td>119942.0</td>\n",
       "      <td>22522.0</td>\n",
       "    </tr>\n",
       "    <tr>\n",
       "      <th>559</th>\n",
       "      <td>Yosemite Area Regional Transportation System (YARTS)</td>\n",
       "      <td>2019</td>\n",
       "      <td>12600</td>\n",
       "      <td>80725.0</td>\n",
       "      <td>18812.0</td>\n",
       "    </tr>\n",
       "    <tr>\n",
       "      <th>279</th>\n",
       "      <td>Yosemite Area Regional Transportation System (YARTS)</td>\n",
       "      <td>2020</td>\n",
       "      <td>12600</td>\n",
       "      <td>76773.0</td>\n",
       "      <td>16659.0</td>\n",
       "    </tr>\n",
       "    <tr>\n",
       "      <th>1401</th>\n",
       "      <td>Yosemite Area Regional Transportation System (YARTS)</td>\n",
       "      <td>2021</td>\n",
       "      <td>12600</td>\n",
       "      <td>53919.0</td>\n",
       "      <td>19152.0</td>\n",
       "    </tr>\n",
       "    <tr>\n",
       "      <th>1114</th>\n",
       "      <td>Yosemite Area Regional Transportation System (YARTS)</td>\n",
       "      <td>2022</td>\n",
       "      <td>12600</td>\n",
       "      <td>70980.0</td>\n",
       "      <td>19791.0</td>\n",
       "    </tr>\n",
       "    <tr>\n",
       "      <th>1959</th>\n",
       "      <td>Yosemite Area Regional Transportation System (YARTS)</td>\n",
       "      <td>2023</td>\n",
       "      <td>12600</td>\n",
       "      <td>61950.0</td>\n",
       "      <td>17365.0</td>\n",
       "    </tr>\n",
       "    <tr>\n",
       "      <th>1681</th>\n",
       "      <td>Yosemite Area Regional Transportation System (YARTS)</td>\n",
       "      <td>2024</td>\n",
       "      <td>12600</td>\n",
       "      <td>67409.0</td>\n",
       "      <td>18454.0</td>\n",
       "    </tr>\n",
       "  </tbody>\n",
       "</table>\n",
       "</div>"
      ],
      "text/plain": [
       "                                               entity_name  fiscal_year  \\\n",
       "830   Yosemite Area Regional Transportation System (YARTS)         2018   \n",
       "559   Yosemite Area Regional Transportation System (YARTS)         2019   \n",
       "279   Yosemite Area Regional Transportation System (YARTS)         2020   \n",
       "1401  Yosemite Area Regional Transportation System (YARTS)         2021   \n",
       "1114  Yosemite Area Regional Transportation System (YARTS)         2022   \n",
       "1959  Yosemite Area Regional Transportation System (YARTS)         2023   \n",
       "1681  Yosemite Area Regional Transportation System (YARTS)         2024   \n",
       "\n",
       "      entity_id  total_upt  total_vrh  \n",
       "830       12600   119942.0    22522.0  \n",
       "559       12600    80725.0    18812.0  \n",
       "279       12600    76773.0    16659.0  \n",
       "1401      12600    53919.0    19152.0  \n",
       "1114      12600    70980.0    19791.0  \n",
       "1959      12600    61950.0    17365.0  \n",
       "1681      12600    67409.0    18454.0  "
      ]
     },
     "metadata": {},
     "output_type": "display_data"
    }
   ],
   "source": [
    "# sanity check\n",
    "agency = \"Yosemite\"\n",
    "\n",
    "display(\n",
    "    ntd_all_metrics[ntd_all_metrics[\"source_agency\"].str.contains(agency)].sort_values(by=[\"source_agency\",\"year\"]).drop(columns=\"total_pmt\"),\n",
    "    sco_18_24[sco_18_24[\"entity_name\"].str.contains(agency)].sort_values(by=[\"entity_name\",\"fiscal_year\"]).drop(columns=\"total_vrm\")\n",
    ")\n",
    "# the SacRT totals match!, Glendora totals matches\n",
    "\n",
    "# Merced JPA: if you add SCO merced jpa and merced jpa special service, they match the ntd merced jpa numbers\n",
    "# same as Gardena\n",
    "\n",
    "# Yosemite Area Regional Transportation System (YARTS) matches in some years and not match in other years "
   ]
  },
  {
   "cell_type": "code",
   "execution_count": null,
   "id": "04a57ce6-2d78-4419-be9d-9d2ea4b549e7",
   "metadata": {},
   "outputs": [],
   "source": []
  },
  {
   "cell_type": "code",
   "execution_count": null,
   "id": "7795c67a-787a-434e-b651-af099ad089e1",
   "metadata": {},
   "outputs": [],
   "source": []
  },
  {
   "cell_type": "code",
   "execution_count": null,
   "id": "1e3809fb-cdf8-4a6a-9160-c5baff2b0737",
   "metadata": {},
   "outputs": [],
   "source": []
  },
  {
   "cell_type": "markdown",
   "id": "52e4ba11-ff91-4514-8670-43a0babc33cc",
   "metadata": {
    "tags": []
   },
   "source": [
    "## test aggregations"
   ]
  },
  {
   "cell_type": "code",
   "execution_count": 79,
   "id": "bf274114-5307-4173-98c1-5441da202401",
   "metadata": {
    "tags": []
   },
   "outputs": [],
   "source": [
    "# melt big DF so all columns are under 1 column.\n",
    "melt = pd.melt(\n",
    "    sco_18_24,\n",
    "    id_vars= group_list,\n",
    "    # value_vars = ,\n",
    "    var_name=\"metric\",\n",
    "    value_name=\"metric_unit\",\n",
    "    ignore_index=True,\n",
    ")"
   ]
  },
  {
   "cell_type": "code",
   "execution_count": 80,
   "id": "7eecf22f-b9c7-4439-a544-13127e467f56",
   "metadata": {
    "scrolled": true,
    "tags": []
   },
   "outputs": [
    {
     "name": "stdout",
     "output_type": "stream",
     "text": [
      "<class 'pandas.core.frame.DataFrame'>\n",
      "RangeIndex: 5883 entries, 0 to 5882\n",
      "Data columns (total 5 columns):\n",
      " #   Column       Non-Null Count  Dtype  \n",
      "---  ------       --------------  -----  \n",
      " 0   entity_name  5883 non-null   object \n",
      " 1   fiscal_year  5883 non-null   int64  \n",
      " 2   entity_id    5883 non-null   int64  \n",
      " 3   metric       5883 non-null   object \n",
      " 4   metric_unit  5883 non-null   float64\n",
      "dtypes: float64(1), int64(2), object(2)\n",
      "memory usage: 229.9+ KB\n"
     ]
    },
    {
     "data": {
      "text/plain": [
       "None"
      ]
     },
     "metadata": {},
     "output_type": "display_data"
    },
    {
     "data": {
      "text/plain": [
       "2021    861\n",
       "2022    852\n",
       "2020    843\n",
       "2019    840\n",
       "2024    840\n",
       "2023    834\n",
       "2018    813\n",
       "Name: fiscal_year, dtype: int64"
      ]
     },
     "metadata": {},
     "output_type": "display_data"
    },
    {
     "data": {
      "text/plain": [
       "total_upt    1961\n",
       "total_vrh    1961\n",
       "total_vrm    1961\n",
       "Name: metric, dtype: int64"
      ]
     },
     "metadata": {},
     "output_type": "display_data"
    },
    {
     "data": {
      "text/plain": [
       "Access Services for Los Angeles County CTSA - Specialized Service                 21\n",
       "San Diego Transit Corporation                                                     21\n",
       "Redwood Coast Transit Authority                                                   21\n",
       "Ridgecrest                                                                        21\n",
       "Rio Vista                                                                         21\n",
       "Ripon                                                                             21\n",
       "Riverside - Specialized Service                                                   21\n",
       "Riverside Transit Agency                                                          21\n",
       "Riverside Transit Agency - Specialized Service                                    21\n",
       "Rocklin                                                                           21\n",
       "Roseville                                                                         21\n",
       "Sacramento County                                                                 21\n",
       "Sacramento Regional Transit System                                                21\n",
       "San Benito County Local Transportation Authority                                  21\n",
       "San Benito County Local Transportation Authority - Specialized Service            21\n",
       "San Diego Metropolitan Transit System                                             21\n",
       "San Diego Trolley Inc.                                                            21\n",
       "Redondo Beach                                                                     21\n",
       "San Francisco                                                                     21\n",
       "San Francisco - Specialized Service                                               21\n",
       "San Francisco Bay Area Rapid Transit District                                     21\n",
       "San Francisco Bay Area Rapid Transit District - Specialized Service               21\n",
       "San Francisco Bay Area Water Emergency Transportation Authority (WETA)            21\n",
       "San Joaquin Joint Powers Authority                                                21\n",
       "San Joaquin Regional Transit District                                             21\n",
       "San Joaquin Regional Transit District - Specialized Service                       21\n",
       "San Luis Obispo Regional Transit Authority (RTA)                                  21\n",
       "San Luis Obispo Regional Transit Authority (RTA) - Specialized Service            21\n",
       "San Luis Obispo Transit                                                           21\n",
       "San Mateo County Transit District                                                 21\n",
       "San Mateo County Transit District - Specialized Service                           21\n",
       "Santa Barbara County                                                              21\n",
       "Redondo Beach - Specialized Service                                               21\n",
       "Redding Area Bus Authority - Specialized Service                                  21\n",
       "Santa Barbara Metropolitan Transit District                                       21\n",
       "Orange County Transportation Authority - Specialized Service                      21\n",
       "Napa Valley Transportation Authority                                              21\n",
       "Napa Valley Transportation Authority - Specialized Service                        21\n",
       "Needles                                                                           21\n",
       "Needles - Specialized Service                                                     21\n",
       "Nevada County                                                                     21\n",
       "Nevada County - Specialized Service                                               21\n",
       "North County Transit District                                                     21\n",
       "North County Transit District - Specialized Service                               21\n",
       "Norwalk                                                                           21\n",
       "Norwalk - Specialized Service                                                     21\n",
       "Alameda - Specialized Service                                                     21\n",
       "Omnitrans                                                                         21\n",
       "Omnitrans - Specialized Service                                                   21\n",
       "Orange County Transportation Authority                                            21\n",
       "Palo Verde Valley Transit Agency                                                  21\n",
       "Redding Area Bus Authority                                                        21\n",
       "Palos Verdes Peninsula Transportation Authority                                   21\n",
       "Palos Verdes Peninsula Transportation Authority - Specialized Service             21\n",
       "Paratransit Inc. CTSA - Specialized Service                                       21\n",
       "Peninsula Corridor Joint Powers Board                                             21\n",
       "Petaluma                                                                          21\n",
       "Petaluma - Specialized Service                                                    21\n",
       "Pismo Beach - Specialized Service                                                 21\n",
       "Placer County                                                                     21\n",
       "Pleasanton - Specialized Service                                                  21\n",
       "Plumas County                                                                     21\n",
       "Pomona Valley Transportation Authority                                            21\n",
       "Pomona Valley Transportation Authority - Specialized Service                      21\n",
       "Porterville                                                                       21\n",
       "Quechan Indian Tribe                                                              21\n",
       "Santa Barbara County Association of Governments (SBCAG)                           21\n",
       "Santa Clara Valley Transportation Authority                                       21\n",
       "Morro Bay                                                                         21\n",
       "Union City - Specialized Service                                                  21\n",
       "Thousand Oaks - Specialized Service                                               21\n",
       "Torrance                                                                          21\n",
       "Torrance - Specialized Service                                                    21\n",
       "Tracy                                                                             21\n",
       "Tracy - Specialized Service                                                       21\n",
       "Transbay Joint Powers Authority                                                   21\n",
       "Transit Joint Powers Authority of Merced County                                   21\n",
       "Transit Joint Powers Authority of Merced County- Specialized Service              21\n",
       "Trinity County                                                                    21\n",
       "Truckee                                                                           21\n",
       "Tulare                                                                            21\n",
       "Tulare County                                                                     21\n",
       "Turlock                                                                           21\n",
       "Union City                                                                        21\n",
       "United Cerebral Palsy Ride on Transportation - Specialized Service                21\n",
       "Tehama County - Specialized Service                                               21\n",
       "Vacaville                                                                         21\n",
       "Vacaville - Specialized Service                                                   21\n",
       "Ventura County                                                                    21\n",
       "Ventura County Transportation Commission                                          21\n",
       "Victor Valley Transit Authority                                                   21\n",
       "Victor Valley Transit Authority - Specialized Service                             21\n",
       "Visalia                                                                           21\n",
       "Wasco                                                                             21\n",
       "Western Contra Costa County Transit Authority                                     21\n",
       "Western Placer Consolidated Transportation Services Agency (CTSA)                 21\n",
       "Yolo County Transportation District                                               21\n",
       "Yolo County Transportation District - Specialized Service                         21\n",
       "Yosemite Area Regional Transportation System (YARTS)                              21\n",
       "Yuba Sutter Transit Authority                                                     21\n",
       "Thousand Oaks                                                                     21\n",
       "Tehama County                                                                     21\n",
       "Santa Clara Valley Transportation Authority - Specialized Service                 21\n",
       "Simi Valley                                                                       21\n",
       "Santa Clarita                                                                     21\n",
       "Santa Clarita - Specialized Service                                               21\n",
       "Santa Cruz - Specialized Service                                                  21\n",
       "Santa Cruz Metropolitan Transit District                                          21\n",
       "Santa Cruz Metropolitan Transit District - Specialized Service                    21\n",
       "Santa Maria                                                                       21\n",
       "Santa Maria - Specialized Service                                                 21\n",
       "Santa Maria Organization of Transportation Helpers CTSA - Specialized Service     21\n",
       "Santa Monica                                                                      21\n",
       "Santa Monica - Specialized Service                                                21\n",
       "Santa Rosa                                                                        21\n",
       "Santa Rosa - Specialized Service                                                  21\n",
       "Shafter                                                                           21\n",
       "Sierra County - Specialized Service                                               21\n",
       "Simi Valley - Specialized Service                                                 21\n",
       "Tehachapi                                                                         21\n",
       "Siskiyou County                                                                   21\n",
       "Solano County Transit (Soltrans)                                                  21\n",
       "Soltrans - Specialized Service                                                    21\n",
       "Solvang                                                                           21\n",
       "Solvang - Specialized Service                                                     21\n",
       "Sonoma County                                                                     21\n",
       "Sonoma County - Specialized Service                                               21\n",
       "Sonoma-Marin Area Rail Transit District                                           21\n",
       "Southern California Regional Rail Authority                                       21\n",
       "Sunline Transit Agency                                                            21\n",
       "Sunline Transit Agency - Specialized Service                                      21\n",
       "Taft                                                                              21\n",
       "Tahoe Transportation District                                                     21\n",
       "Tahoe Transportation District - Specialized Service                               21\n",
       "Mountain Area Regional Transit Authority                                          21\n",
       "Ojai                                                                              21\n",
       "Morongo Basin Transit Authority                                                   21\n",
       "Davis - Specialized Service                                                       21\n",
       "Delta Ferry Authority                                                             21\n",
       "Dignity Health Connected Living - Specialized Service                             21\n",
       "Dixon                                                                             21\n",
       "Downey                                                                            21\n",
       "Downey - Specialized Service                                                      21\n",
       "Eastern Contra Costa County Transit Authority                                     21\n",
       "Eastern Contra Costa County Transit Authority - Specialized Service               21\n",
       "Arcata                                                                            21\n",
       "Eastern Sierra Transit Authority                                                  21\n",
       "Moorpark                                                                          21\n",
       "El Dorado County Transit Authority                                                21\n",
       "Arcadia                                                                           21\n",
       "Antelope Valley Transit Authority                                                 21\n",
       "Emeryville - Specialized Service                                                  21\n",
       "Escalon                                                                           21\n",
       "Fairfield                                                                         21\n",
       "Fairfield - Specialized Service                                                   21\n",
       "Foothill Transit                                                                  21\n",
       "Fortuna - Specialized Service                                                     21\n",
       "Fresno                                                                            21\n",
       "Fresno - Specialized Service                                                      21\n",
       "Fresno County Economic Opportunities Commission - Specialized Service             21\n",
       "Fresno County Rural Transit Agency                                                21\n",
       "Full Access and Coordinated Transportation CTSA - Specialized Service             21\n",
       "Gardena                                                                           21\n",
       "Gardena - Specialized Service                                                     21\n",
       "Banning - Specialized Service                                                     21\n",
       "Delano                                                                            21\n",
       "Davis (Unitrans)                                                                  21\n",
       "Glenn Transit Service                                                             21\n",
       "Culver City - Specialized Service                                                 21\n",
       "Blue Lake                                                                         21\n",
       "Banning                                                                           21\n",
       "Auburn                                                                            21\n",
       "Butte Regional Transit                                                            21\n",
       "Butte Regional Transit - Specialized Service                                      21\n",
       "California City                                                                   21\n",
       "California Vanpool Authority (CalVans)                                            21\n",
       "Camarillo                                                                         21\n",
       "Capitol Corridor Joint Powers Authority                                           21\n",
       "Central Contra Costa Transit Authority                                            21\n",
       "Central Contra Costa Transit Authority - Specialized Service                      21\n",
       "Ceres                                                                             21\n",
       "Chowchilla                                                                        21\n",
       "Claremont                                                                         21\n",
       "Clovis                                                                            21\n",
       "Clovis - Specialized Service                                                      21\n",
       "Colusa County                                                                     21\n",
       "Commerce                                                                          21\n",
       "Commerce - Specialized Service                                                    21\n",
       "Corcoran                                                                          21\n",
       "Corona                                                                            21\n",
       "County Service Area 12 - Specialized Service                                      21\n",
       "Atascadero                                                                        21\n",
       "County Service Area M-1                                                           21\n",
       "Arvin                                                                             21\n",
       "County Service Area T-1                                                           21\n",
       "Culver City                                                                       21\n",
       "Glendora - Specialized Service                                                    21\n",
       "Beaumont                                                                          21\n",
       "Glenn Transit Service - Specialized Service                                       21\n",
       "Lompoc                                                                            21\n",
       "Long Beach Public Transportation Company                                          21\n",
       "Los Angeles                                                                       21\n",
       "Los Angeles - Specialized Service                                                 21\n",
       "Los Angeles County                                                                21\n",
       "Los Angeles County - Specialized Service                                          21\n",
       "Los Angeles County Metropolitan Transportation Authority                          21\n",
       "Los Angeles County Metropolitan Transportation Authority - Specialized Service    21\n",
       "Madera                                                                            21\n",
       "Madera County                                                                     21\n",
       "Manhattan Beach - Specialized Service                                             21\n",
       "Manteca                                                                           21\n",
       "Manteca - Specialized Service                                                     21\n",
       "Marin County Transit District                                                     21\n",
       "Marin County Transit District - Specialized Service                               21\n",
       "Mariposa County                                                                   21\n",
       "McFarland                                                                         21\n",
       "Mendocino Transit Authority                                                       21\n",
       "Mendocino Transit Authority - Specialized Service                                 21\n",
       "Amador Transit                                                                    21\n",
       "Altamont Corridor Express - ACE                                                   21\n",
       "Alpine County                                                                     21\n",
       "Montebello                                                                        21\n",
       "Montebello - Specialized Service                                                  21\n",
       "Albany - Specialized Service                                                      21\n",
       "Alameda-Contra Costa Transit District                                             21\n",
       "Lompoc - Specialized Service                                                      21\n",
       "Long Beach Public Transportation Company - Specialized Service                    21\n",
       "Humboldt Transit Authority - Specialized Service                                  21\n",
       "Gridley - Specialized Service                                                     21\n",
       "Guadalupe                                                                         21\n",
       "Golden Gate Bridge Highway and Transportation District - Specialized Service      21\n",
       "Guadalupe - Specialized Service                                                   21\n",
       "Hayward - Specialized Service                                                     21\n",
       "Heritage Valley Transit Service                                                   21\n",
       "Hermosa Beach Specialized Service                                                 21\n",
       "Humboldt Transit Authority                                                        21\n",
       "Lodi                                                                              21\n",
       "Imperial County Transportation Commission (ICTC)                                  21\n",
       "Imperial County Transportation Commission (ICTC) - Specialized Service            21\n",
       "Golden Gate Bridge Highway and Transportation District                            21\n",
       "Kern County                                                                       21\n",
       "Kings County Area Public Transit Agency                                           21\n",
       "Golden Empire Transit District - Specialized Service                              21\n",
       "Golden Empire Transit District                                                    21\n",
       "La Mirada                                                                         21\n",
       "Laguna Beach                                                                      21\n",
       "Lake Transit Authority                                                            21\n",
       "Lassen Transit Service Agency                                                     21\n",
       "Lincoln                                                                           21\n",
       "Livermore-Amador Valley Transit Authority                                         21\n",
       "Livermore-Amador Valley Transit Authority - Specialized Service                   21\n",
       "Gold Coast Transit District                                                       21\n",
       "Burbank - Specialized Service                                                     18\n",
       "Burbank                                                                           18\n",
       "Calaveras Transit Agency                                                          18\n",
       "Solano County Intercity Taxi - Specialized Service                                18\n",
       "North of the River Recreation and Park District CTSA - Specialized Service        18\n",
       "Riverside County Transportation Commission - Vanpool                              18\n",
       "Pasadena                                                                          18\n",
       "Ventura County - Specialized Service                                              18\n",
       "Pasadena - Specialized Service                                                    18\n",
       "Glendale - Specialized Service                                                    18\n",
       "Glendale                                                                          18\n",
       "Woodlake                                                                          15\n",
       "Arroyo Grande - Specialized Service                                               15\n",
       "Easy Lift Transportation, Inc. CTSA - Specialized Service                         15\n",
       "Corona - Specialized Service                                                      15\n",
       "Stanislaus County                                                                 15\n",
       "Dinuba                                                                            15\n",
       "Eastern Sierra Area Agency on Aging - Specialized Service                         15\n",
       "Elk Grove                                                                         15\n",
       "Elk Grove - Specialized Service                                                   15\n",
       "Modesto                                                                           15\n",
       "Modesto - Specialized Service                                                     15\n",
       "North Coast Railroad Authority                                                    15\n",
       "Tuolumne County - Specialized Service                                             12\n",
       "Tuolumne County                                                                   12\n",
       "Tuolumne County Transit Agency - Specialized Service                              12\n",
       "Tuolumne County Transit Agency                                                    12\n",
       "Stanislaus Regional Transit Authority - Specialized Service                       12\n",
       "Stanislaus Regional Transit Authority                                             12\n",
       "Monterey-Salinas Transit District - Specialized Service                           12\n",
       "Monterey-Salinas Transit District                                                 12\n",
       "Modoc Transportation Agency                                                       12\n",
       "Monterey-Salinas Transit                                                          12\n",
       "Modoc Transportation Agency - Specialized Service                                 12\n",
       "South County Transit                                                              12\n",
       "Sacramento Regional Transit System - Specialized Service                           9\n",
       "Monterey-Salinas Transit - Specialized Service                                     9\n",
       "Tulare County Regional Transit Agency                                              9\n",
       "Arvin - Specialized Service                                                        6\n",
       "Easy Lift Transportation Inc. CTSA - Specialized Service                           6\n",
       "Great Redwood Trail Agency                                                         6\n",
       "Inglewood Transit Connector Joint Powers Authority                                 6\n",
       "West Sacramento                                                                    6\n",
       "Anaheim                                                                            3\n",
       "Beaumont - Specialized Service                                                     3\n",
       "Lassen Transit Service Agency - Specialized Service                                3\n",
       "Solano Transportation Authority - Specialized Service                              3\n",
       "Name: entity_name, dtype: int64"
      ]
     },
     "metadata": {},
     "output_type": "display_data"
    },
    {
     "data": {
      "text/html": [
       "<div>\n",
       "<style scoped>\n",
       "    .dataframe tbody tr th:only-of-type {\n",
       "        vertical-align: middle;\n",
       "    }\n",
       "\n",
       "    .dataframe tbody tr th {\n",
       "        vertical-align: top;\n",
       "    }\n",
       "\n",
       "    .dataframe thead th {\n",
       "        text-align: right;\n",
       "    }\n",
       "</style>\n",
       "<table border=\"1\" class=\"dataframe\">\n",
       "  <thead>\n",
       "    <tr style=\"text-align: right;\">\n",
       "      <th></th>\n",
       "      <th>entity_name</th>\n",
       "      <th>fiscal_year</th>\n",
       "      <th>entity_id</th>\n",
       "      <th>metric</th>\n",
       "      <th>metric_unit</th>\n",
       "    </tr>\n",
       "  </thead>\n",
       "  <tbody>\n",
       "    <tr>\n",
       "      <th>0</th>\n",
       "      <td>Access Services for Los Angeles County CTSA - Specialized Service</td>\n",
       "      <td>2020</td>\n",
       "      <td>12604</td>\n",
       "      <td>total_upt</td>\n",
       "      <td>3577323.0</td>\n",
       "    </tr>\n",
       "    <tr>\n",
       "      <th>1</th>\n",
       "      <td>Alameda - Specialized Service</td>\n",
       "      <td>2020</td>\n",
       "      <td>443</td>\n",
       "      <td>total_upt</td>\n",
       "      <td>0.0</td>\n",
       "    </tr>\n",
       "    <tr>\n",
       "      <th>2</th>\n",
       "      <td>Alameda-Contra Costa Transit District</td>\n",
       "      <td>2020</td>\n",
       "      <td>444</td>\n",
       "      <td>total_upt</td>\n",
       "      <td>44926857.0</td>\n",
       "    </tr>\n",
       "    <tr>\n",
       "      <th>3</th>\n",
       "      <td>Albany - Specialized Service</td>\n",
       "      <td>2020</td>\n",
       "      <td>445</td>\n",
       "      <td>total_upt</td>\n",
       "      <td>4749.0</td>\n",
       "    </tr>\n",
       "    <tr>\n",
       "      <th>4</th>\n",
       "      <td>Alpine County</td>\n",
       "      <td>2020</td>\n",
       "      <td>10443</td>\n",
       "      <td>total_upt</td>\n",
       "      <td>558.0</td>\n",
       "    </tr>\n",
       "  </tbody>\n",
       "</table>\n",
       "</div>"
      ],
      "text/plain": [
       "                                                         entity_name  \\\n",
       "0  Access Services for Los Angeles County CTSA - Specialized Service   \n",
       "1                                      Alameda - Specialized Service   \n",
       "2                              Alameda-Contra Costa Transit District   \n",
       "3                                       Albany - Specialized Service   \n",
       "4                                                      Alpine County   \n",
       "\n",
       "   fiscal_year  entity_id     metric  metric_unit  \n",
       "0         2020      12604  total_upt    3577323.0  \n",
       "1         2020        443  total_upt          0.0  \n",
       "2         2020        444  total_upt   44926857.0  \n",
       "3         2020        445  total_upt       4749.0  \n",
       "4         2020      10443  total_upt        558.0  "
      ]
     },
     "metadata": {},
     "output_type": "display_data"
    }
   ],
   "source": [
    "# inspect melted DF \n",
    "display(\n",
    "    melt.info(),\n",
    "    melt[\"fiscal_year\"].value_counts(),\n",
    "    melt[\"metric\"].value_counts(),\n",
    "    melt[\"entity_name\"].value_counts(),\n",
    "    melt.head(),\n",
    ")"
   ]
  },
  {
   "cell_type": "code",
   "execution_count": 84,
   "id": "f21761db-01f7-4cc8-8417-8a50f1b5100b",
   "metadata": {
    "tags": []
   },
   "outputs": [
    {
     "name": "stdout",
     "output_type": "stream",
     "text": [
      "<class 'pandas.core.frame.DataFrame'>\n",
      "Int64Index: 1961 entries, 3922 to 5882\n",
      "Data columns (total 5 columns):\n",
      " #   Column       Non-Null Count  Dtype  \n",
      "---  ------       --------------  -----  \n",
      " 0   entity_name  1961 non-null   object \n",
      " 1   fiscal_year  1961 non-null   int64  \n",
      " 2   entity_id    1961 non-null   int64  \n",
      " 3   metric       1961 non-null   object \n",
      " 4   metric_unit  1961 non-null   float64\n",
      "dtypes: float64(1), int64(2), object(2)\n",
      "memory usage: 91.9+ KB\n"
     ]
    }
   ],
   "source": [
    "# filter melted df by column categories\n",
    "melt[melt[\"metric\"]==\"total_vrm\"].info()"
   ]
  },
  {
   "cell_type": "code",
   "execution_count": 85,
   "id": "0276773a-d1a8-4590-89e1-d2440f47f4fe",
   "metadata": {
    "tags": []
   },
   "outputs": [],
   "source": [
    "# What does group/agg the melted DF look like?\n",
    "vrh_total = (\n",
    "    melt[melt[\"metric\"]==\"total_vrh\"]\n",
    "    .groupby([\"entity_name\",\"entity_id\", \"fiscal_year\"])[\"metric_unit\"]\n",
    "    .sum()\n",
    "    .reset_index()\n",
    ").rename(columns={\"metric_unit\":\"total_vrh\"})\n",
    "\n",
    "vrm_total = (\n",
    "    melt[melt[\"metric\"]==\"total_vrm\"]\n",
    "    .groupby([\"entity_name\",\"entity_id\", \"fiscal_year\"])[\"metric_unit\"]\n",
    "    .sum()\n",
    "    .reset_index()\n",
    ").rename(columns={\"metric_unit\":\"total_vrm\"})\n",
    "\n",
    "passenger_total =(\n",
    "    melt[melt[\"metric\"]==\"total_upt\"]\n",
    "    .groupby([\"entity_name\",\"entity_id\", \"fiscal_year\"])[\"metric_unit\"]\n",
    "    .sum()\n",
    "    .reset_index()\n",
    ").rename(columns={\"metric_unit\":\"total_upt\"})\n"
   ]
  },
  {
   "cell_type": "code",
   "execution_count": 86,
   "id": "d90425e7-cd16-4191-a9a9-4814e992bba3",
   "metadata": {
    "tags": []
   },
   "outputs": [
    {
     "data": {
      "text/html": [
       "<div>\n",
       "<style scoped>\n",
       "    .dataframe tbody tr th:only-of-type {\n",
       "        vertical-align: middle;\n",
       "    }\n",
       "\n",
       "    .dataframe tbody tr th {\n",
       "        vertical-align: top;\n",
       "    }\n",
       "\n",
       "    .dataframe thead th {\n",
       "        text-align: right;\n",
       "    }\n",
       "</style>\n",
       "<table border=\"1\" class=\"dataframe\">\n",
       "  <thead>\n",
       "    <tr style=\"text-align: right;\">\n",
       "      <th></th>\n",
       "      <th>entity_name</th>\n",
       "      <th>entity_id</th>\n",
       "      <th>fiscal_year</th>\n",
       "      <th>total_vrh</th>\n",
       "    </tr>\n",
       "  </thead>\n",
       "  <tbody>\n",
       "    <tr>\n",
       "      <th>1279</th>\n",
       "      <td>Sacramento County</td>\n",
       "      <td>628</td>\n",
       "      <td>2018</td>\n",
       "      <td>22996.0</td>\n",
       "    </tr>\n",
       "    <tr>\n",
       "      <th>1280</th>\n",
       "      <td>Sacramento County</td>\n",
       "      <td>628</td>\n",
       "      <td>2019</td>\n",
       "      <td>23995.0</td>\n",
       "    </tr>\n",
       "    <tr>\n",
       "      <th>1281</th>\n",
       "      <td>Sacramento County</td>\n",
       "      <td>628</td>\n",
       "      <td>2020</td>\n",
       "      <td>21943.0</td>\n",
       "    </tr>\n",
       "    <tr>\n",
       "      <th>1282</th>\n",
       "      <td>Sacramento County</td>\n",
       "      <td>628</td>\n",
       "      <td>2021</td>\n",
       "      <td>17413.0</td>\n",
       "    </tr>\n",
       "    <tr>\n",
       "      <th>1283</th>\n",
       "      <td>Sacramento County</td>\n",
       "      <td>628</td>\n",
       "      <td>2022</td>\n",
       "      <td>18624.0</td>\n",
       "    </tr>\n",
       "  </tbody>\n",
       "</table>\n",
       "</div>"
      ],
      "text/plain": [
       "            entity_name  entity_id  fiscal_year  total_vrh\n",
       "1279  Sacramento County        628         2018    22996.0\n",
       "1280  Sacramento County        628         2019    23995.0\n",
       "1281  Sacramento County        628         2020    21943.0\n",
       "1282  Sacramento County        628         2021    17413.0\n",
       "1283  Sacramento County        628         2022    18624.0"
      ]
     },
     "metadata": {},
     "output_type": "display_data"
    },
    {
     "data": {
      "text/html": [
       "<div>\n",
       "<style scoped>\n",
       "    .dataframe tbody tr th:only-of-type {\n",
       "        vertical-align: middle;\n",
       "    }\n",
       "\n",
       "    .dataframe tbody tr th {\n",
       "        vertical-align: top;\n",
       "    }\n",
       "\n",
       "    .dataframe thead th {\n",
       "        text-align: right;\n",
       "    }\n",
       "</style>\n",
       "<table border=\"1\" class=\"dataframe\">\n",
       "  <thead>\n",
       "    <tr style=\"text-align: right;\">\n",
       "      <th></th>\n",
       "      <th>entity_name</th>\n",
       "      <th>entity_id</th>\n",
       "      <th>fiscal_year</th>\n",
       "      <th>total_vrm</th>\n",
       "    </tr>\n",
       "  </thead>\n",
       "  <tbody>\n",
       "    <tr>\n",
       "      <th>1279</th>\n",
       "      <td>Sacramento County</td>\n",
       "      <td>628</td>\n",
       "      <td>2018</td>\n",
       "      <td>506955.0</td>\n",
       "    </tr>\n",
       "    <tr>\n",
       "      <th>1280</th>\n",
       "      <td>Sacramento County</td>\n",
       "      <td>628</td>\n",
       "      <td>2019</td>\n",
       "      <td>491287.0</td>\n",
       "    </tr>\n",
       "    <tr>\n",
       "      <th>1281</th>\n",
       "      <td>Sacramento County</td>\n",
       "      <td>628</td>\n",
       "      <td>2020</td>\n",
       "      <td>472778.0</td>\n",
       "    </tr>\n",
       "    <tr>\n",
       "      <th>1282</th>\n",
       "      <td>Sacramento County</td>\n",
       "      <td>628</td>\n",
       "      <td>2021</td>\n",
       "      <td>378173.0</td>\n",
       "    </tr>\n",
       "    <tr>\n",
       "      <th>1283</th>\n",
       "      <td>Sacramento County</td>\n",
       "      <td>628</td>\n",
       "      <td>2022</td>\n",
       "      <td>433878.0</td>\n",
       "    </tr>\n",
       "  </tbody>\n",
       "</table>\n",
       "</div>"
      ],
      "text/plain": [
       "            entity_name  entity_id  fiscal_year  total_vrm\n",
       "1279  Sacramento County        628         2018   506955.0\n",
       "1280  Sacramento County        628         2019   491287.0\n",
       "1281  Sacramento County        628         2020   472778.0\n",
       "1282  Sacramento County        628         2021   378173.0\n",
       "1283  Sacramento County        628         2022   433878.0"
      ]
     },
     "metadata": {},
     "output_type": "display_data"
    },
    {
     "data": {
      "text/html": [
       "<div>\n",
       "<style scoped>\n",
       "    .dataframe tbody tr th:only-of-type {\n",
       "        vertical-align: middle;\n",
       "    }\n",
       "\n",
       "    .dataframe tbody tr th {\n",
       "        vertical-align: top;\n",
       "    }\n",
       "\n",
       "    .dataframe thead th {\n",
       "        text-align: right;\n",
       "    }\n",
       "</style>\n",
       "<table border=\"1\" class=\"dataframe\">\n",
       "  <thead>\n",
       "    <tr style=\"text-align: right;\">\n",
       "      <th></th>\n",
       "      <th>entity_name</th>\n",
       "      <th>entity_id</th>\n",
       "      <th>fiscal_year</th>\n",
       "      <th>total_upt</th>\n",
       "    </tr>\n",
       "  </thead>\n",
       "  <tbody>\n",
       "    <tr>\n",
       "      <th>1279</th>\n",
       "      <td>Sacramento County</td>\n",
       "      <td>628</td>\n",
       "      <td>2018</td>\n",
       "      <td>112527.0</td>\n",
       "    </tr>\n",
       "    <tr>\n",
       "      <th>1280</th>\n",
       "      <td>Sacramento County</td>\n",
       "      <td>628</td>\n",
       "      <td>2019</td>\n",
       "      <td>114319.0</td>\n",
       "    </tr>\n",
       "    <tr>\n",
       "      <th>1281</th>\n",
       "      <td>Sacramento County</td>\n",
       "      <td>628</td>\n",
       "      <td>2020</td>\n",
       "      <td>88122.0</td>\n",
       "    </tr>\n",
       "    <tr>\n",
       "      <th>1282</th>\n",
       "      <td>Sacramento County</td>\n",
       "      <td>628</td>\n",
       "      <td>2021</td>\n",
       "      <td>29991.0</td>\n",
       "    </tr>\n",
       "    <tr>\n",
       "      <th>1283</th>\n",
       "      <td>Sacramento County</td>\n",
       "      <td>628</td>\n",
       "      <td>2022</td>\n",
       "      <td>36478.0</td>\n",
       "    </tr>\n",
       "  </tbody>\n",
       "</table>\n",
       "</div>"
      ],
      "text/plain": [
       "            entity_name  entity_id  fiscal_year  total_upt\n",
       "1279  Sacramento County        628         2018   112527.0\n",
       "1280  Sacramento County        628         2019   114319.0\n",
       "1281  Sacramento County        628         2020    88122.0\n",
       "1282  Sacramento County        628         2021    29991.0\n",
       "1283  Sacramento County        628         2022    36478.0"
      ]
     },
     "metadata": {},
     "output_type": "display_data"
    }
   ],
   "source": [
    "# inspect melted DF by just VRH columns in Sacramento\n",
    "all_totals = [\n",
    "    vrh_total,\n",
    "    vrm_total,\n",
    "    passenger_total\n",
    "]\n",
    "\n",
    "for df in all_totals:\n",
    "    display(df[df[\"entity_name\"].str.contains(\"Sacramento\")].head()) # some operators do not have data for some modes. this makes sense."
   ]
  },
  {
   "cell_type": "code",
   "execution_count": 87,
   "id": "95527ae9-9399-4096-aec5-1254f2fb284c",
   "metadata": {
    "scrolled": true,
    "tags": []
   },
   "outputs": [
    {
     "data": {
      "text/html": [
       "<div>\n",
       "<style scoped>\n",
       "    .dataframe tbody tr th:only-of-type {\n",
       "        vertical-align: middle;\n",
       "    }\n",
       "\n",
       "    .dataframe tbody tr th {\n",
       "        vertical-align: top;\n",
       "    }\n",
       "\n",
       "    .dataframe thead th {\n",
       "        text-align: right;\n",
       "    }\n",
       "</style>\n",
       "<table border=\"1\" class=\"dataframe\">\n",
       "  <thead>\n",
       "    <tr style=\"text-align: right;\">\n",
       "      <th></th>\n",
       "      <th>entity_name</th>\n",
       "      <th>entity_id</th>\n",
       "      <th>fiscal_year</th>\n",
       "      <th>total_vrh</th>\n",
       "    </tr>\n",
       "  </thead>\n",
       "  <tbody>\n",
       "    <tr>\n",
       "      <th>21</th>\n",
       "      <td>Albany - Specialized Service</td>\n",
       "      <td>445</td>\n",
       "      <td>2018</td>\n",
       "      <td>0.0</td>\n",
       "    </tr>\n",
       "    <tr>\n",
       "      <th>22</th>\n",
       "      <td>Albany - Specialized Service</td>\n",
       "      <td>445</td>\n",
       "      <td>2019</td>\n",
       "      <td>0.0</td>\n",
       "    </tr>\n",
       "    <tr>\n",
       "      <th>23</th>\n",
       "      <td>Albany - Specialized Service</td>\n",
       "      <td>445</td>\n",
       "      <td>2020</td>\n",
       "      <td>0.0</td>\n",
       "    </tr>\n",
       "    <tr>\n",
       "      <th>24</th>\n",
       "      <td>Albany - Specialized Service</td>\n",
       "      <td>445</td>\n",
       "      <td>2021</td>\n",
       "      <td>0.0</td>\n",
       "    </tr>\n",
       "    <tr>\n",
       "      <th>25</th>\n",
       "      <td>Albany - Specialized Service</td>\n",
       "      <td>445</td>\n",
       "      <td>2022</td>\n",
       "      <td>0.0</td>\n",
       "    </tr>\n",
       "  </tbody>\n",
       "</table>\n",
       "</div>"
      ],
      "text/plain": [
       "                     entity_name  entity_id  fiscal_year  total_vrh\n",
       "21  Albany - Specialized Service        445         2018        0.0\n",
       "22  Albany - Specialized Service        445         2019        0.0\n",
       "23  Albany - Specialized Service        445         2020        0.0\n",
       "24  Albany - Specialized Service        445         2021        0.0\n",
       "25  Albany - Specialized Service        445         2022        0.0"
      ]
     },
     "metadata": {},
     "output_type": "display_data"
    },
    {
     "data": {
      "text/html": [
       "<div>\n",
       "<style scoped>\n",
       "    .dataframe tbody tr th:only-of-type {\n",
       "        vertical-align: middle;\n",
       "    }\n",
       "\n",
       "    .dataframe tbody tr th {\n",
       "        vertical-align: top;\n",
       "    }\n",
       "\n",
       "    .dataframe thead th {\n",
       "        text-align: right;\n",
       "    }\n",
       "</style>\n",
       "<table border=\"1\" class=\"dataframe\">\n",
       "  <thead>\n",
       "    <tr style=\"text-align: right;\">\n",
       "      <th></th>\n",
       "      <th>entity_name</th>\n",
       "      <th>entity_id</th>\n",
       "      <th>fiscal_year</th>\n",
       "      <th>total_vrm</th>\n",
       "    </tr>\n",
       "  </thead>\n",
       "  <tbody>\n",
       "    <tr>\n",
       "      <th>21</th>\n",
       "      <td>Albany - Specialized Service</td>\n",
       "      <td>445</td>\n",
       "      <td>2018</td>\n",
       "      <td>0.0</td>\n",
       "    </tr>\n",
       "    <tr>\n",
       "      <th>22</th>\n",
       "      <td>Albany - Specialized Service</td>\n",
       "      <td>445</td>\n",
       "      <td>2019</td>\n",
       "      <td>0.0</td>\n",
       "    </tr>\n",
       "    <tr>\n",
       "      <th>23</th>\n",
       "      <td>Albany - Specialized Service</td>\n",
       "      <td>445</td>\n",
       "      <td>2020</td>\n",
       "      <td>0.0</td>\n",
       "    </tr>\n",
       "    <tr>\n",
       "      <th>24</th>\n",
       "      <td>Albany - Specialized Service</td>\n",
       "      <td>445</td>\n",
       "      <td>2021</td>\n",
       "      <td>0.0</td>\n",
       "    </tr>\n",
       "    <tr>\n",
       "      <th>25</th>\n",
       "      <td>Albany - Specialized Service</td>\n",
       "      <td>445</td>\n",
       "      <td>2022</td>\n",
       "      <td>0.0</td>\n",
       "    </tr>\n",
       "  </tbody>\n",
       "</table>\n",
       "</div>"
      ],
      "text/plain": [
       "                     entity_name  entity_id  fiscal_year  total_vrm\n",
       "21  Albany - Specialized Service        445         2018        0.0\n",
       "22  Albany - Specialized Service        445         2019        0.0\n",
       "23  Albany - Specialized Service        445         2020        0.0\n",
       "24  Albany - Specialized Service        445         2021        0.0\n",
       "25  Albany - Specialized Service        445         2022        0.0"
      ]
     },
     "metadata": {},
     "output_type": "display_data"
    },
    {
     "data": {
      "text/html": [
       "<div>\n",
       "<style scoped>\n",
       "    .dataframe tbody tr th:only-of-type {\n",
       "        vertical-align: middle;\n",
       "    }\n",
       "\n",
       "    .dataframe tbody tr th {\n",
       "        vertical-align: top;\n",
       "    }\n",
       "\n",
       "    .dataframe thead th {\n",
       "        text-align: right;\n",
       "    }\n",
       "</style>\n",
       "<table border=\"1\" class=\"dataframe\">\n",
       "  <thead>\n",
       "    <tr style=\"text-align: right;\">\n",
       "      <th></th>\n",
       "      <th>entity_name</th>\n",
       "      <th>entity_id</th>\n",
       "      <th>fiscal_year</th>\n",
       "      <th>total_upt</th>\n",
       "    </tr>\n",
       "  </thead>\n",
       "  <tbody>\n",
       "    <tr>\n",
       "      <th>21</th>\n",
       "      <td>Albany - Specialized Service</td>\n",
       "      <td>445</td>\n",
       "      <td>2018</td>\n",
       "      <td>6278.0</td>\n",
       "    </tr>\n",
       "    <tr>\n",
       "      <th>22</th>\n",
       "      <td>Albany - Specialized Service</td>\n",
       "      <td>445</td>\n",
       "      <td>2019</td>\n",
       "      <td>6728.0</td>\n",
       "    </tr>\n",
       "    <tr>\n",
       "      <th>23</th>\n",
       "      <td>Albany - Specialized Service</td>\n",
       "      <td>445</td>\n",
       "      <td>2020</td>\n",
       "      <td>4749.0</td>\n",
       "    </tr>\n",
       "    <tr>\n",
       "      <th>24</th>\n",
       "      <td>Albany - Specialized Service</td>\n",
       "      <td>445</td>\n",
       "      <td>2021</td>\n",
       "      <td>245.0</td>\n",
       "    </tr>\n",
       "    <tr>\n",
       "      <th>25</th>\n",
       "      <td>Albany - Specialized Service</td>\n",
       "      <td>445</td>\n",
       "      <td>2022</td>\n",
       "      <td>4036.0</td>\n",
       "    </tr>\n",
       "  </tbody>\n",
       "</table>\n",
       "</div>"
      ],
      "text/plain": [
       "                     entity_name  entity_id  fiscal_year  total_upt\n",
       "21  Albany - Specialized Service        445         2018     6278.0\n",
       "22  Albany - Specialized Service        445         2019     6728.0\n",
       "23  Albany - Specialized Service        445         2020     4749.0\n",
       "24  Albany - Specialized Service        445         2021      245.0\n",
       "25  Albany - Specialized Service        445         2022     4036.0"
      ]
     },
     "metadata": {},
     "output_type": "display_data"
    }
   ],
   "source": [
    "# inspect melted DF by just VRH columns in Sacramento\n",
    "for df in all_totals:\n",
    "    display(df[df[\"entity_name\"].str.contains(\"Albany - Specialized Service\")].head())"
   ]
  },
  {
   "cell_type": "code",
   "execution_count": null,
   "id": "6be02ce4-50a8-4857-9587-b60de8237e5a",
   "metadata": {},
   "outputs": [],
   "source": []
  }
 ],
 "metadata": {
  "kernelspec": {
   "display_name": "Python 3 (ipykernel)",
   "language": "python",
   "name": "python3"
  },
  "language_info": {
   "codemirror_mode": {
    "name": "ipython",
    "version": 3
   },
   "file_extension": ".py",
   "mimetype": "text/x-python",
   "name": "python",
   "nbconvert_exporter": "python",
   "pygments_lexer": "ipython3",
   "version": "3.11.10"
  }
 },
 "nbformat": 4,
 "nbformat_minor": 5
}
