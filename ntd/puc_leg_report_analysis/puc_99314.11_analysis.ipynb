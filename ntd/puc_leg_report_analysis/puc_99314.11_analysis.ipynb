{
 "cells": [
  {
   "cell_type": "markdown",
   "id": "a94d2aa9-9bc7-46dc-bd7b-04e0018f9e9a",
   "metadata": {},
   "source": [
    "# [Research Task - Create visuals for PUC 99314.11 leg report](https://github.com/cal-itp/data-analyses/issues/1656)\n",
    "1. line graph of each metric (UPT, VRM, PMT) by agency\n",
    "- x-axis is year\n",
    "- y-axis is metric\n",
    "- each line is an agency\n",
    "- dotted line is average metric for all agencies in the year\n",
    "\n",
    "2. line graph of each metric, by district\n",
    "- similar to above\n",
    "- each line is a district\n",
    "- dotted line is average metrics for all districts the year\n",
    "\n",
    "3. line graph of each metric, by mode\n",
    "- similar to above\n",
    "- each line is a mode\n",
    "- dotter line is average metric for all modes in the year\n",
    "\n",
    "Maybe try a box plot to show min/max/average for each metric?"
   ]
  },
  {
   "cell_type": "markdown",
   "id": "1a5b936f-cc94-4b8f-88b9-e590c45ef1e8",
   "metadata": {},
   "source": [
    "## NTD Policy Manual for collecting UPT and PMT\n",
    "\n",
    "### NTD Full Reporting Policy Manual \n",
    "However, FTA recognizes that certain statistics are challenging to collect and can drastically increase the reporting burden for transit agencies. To assist reporters who would find conducting 100 percent count burdensome, `transit agencies may estimate Unlinked Passenger Trips (UPT) and PMT through sampling`. The NTD provides a sampling method and sampling guidance on the NTD website.\n",
    "\n",
    "### NTD Full Reporting Policy Manual & NTD Reduced Reporting Polict Manual\n",
    "Collecting Service Consumed Data Transit agencies must report actual data on the Annual Report for all service data except UPT and PMT. `Only Full Reporters report PMT data to the NTD.` For these two data points, agencies may provide an estimate but only if the actual 100 percent data are not reliably collected and routinely processed.\n",
    "\n"
   ]
  },
  {
   "cell_type": "code",
   "execution_count": 1,
   "id": "b44320f9-27a7-44f9-965f-098541c41e49",
   "metadata": {},
   "outputs": [],
   "source": [
    "import altair as alt\n",
    "import pandas as pd\n",
    "from calitp_data_analysis.sql import get_engine, to_snakecase\n",
    "\n",
    "pd.set_option(\"display.max_rows\", None)\n",
    "pd.set_option(\"display.max_columns\", None)\n",
    "pd.set_option(\"display.max_colwidth\", None)"
   ]
  },
  {
   "cell_type": "markdown",
   "id": "0a6d00bc-2903-4746-a15c-28c5403f9ce2",
   "metadata": {},
   "source": [
    "## warehouse query"
   ]
  },
  {
   "cell_type": "code",
   "execution_count": null,
   "id": "b987a147-b8aa-4583-b79f-c593cfe6a3cc",
   "metadata": {
    "tags": []
   },
   "outputs": [],
   "source": [
    "metric_list = [\n",
    "    \"pmt\",\n",
    "    \"upt\",\n",
    "    \"vrh\",\n",
    "    # \"opexp_total\" # not needed for this project\n",
    "]\n",
    "\n",
    "# empty list for appending DFs\n",
    "df_list = []\n",
    "\n",
    "db_engine = get_engine()\n",
    "\n",
    "with db_engine.connect() as connection:\n",
    "    for metric in metric_list:\n",
    "        query = f\"\"\"\n",
    "        SELECT\n",
    "          ntd_id,\n",
    "          source_agency,\n",
    "          agency_status,\n",
    "          primary_uza_name,\n",
    "          uza_population,\n",
    "          uza_area_sq_miles,\n",
    "          year,\n",
    "          mode,\n",
    "          service,\n",
    "          reporter_type,\n",
    "          SUM({metric}) AS total_{metric},\n",
    "        FROM\n",
    "          `cal-itp-data-infra.mart_ntd_funding_and_expenses.fct_service_data_and_operating_expenses_time_series_by_mode_{metric}`\n",
    "        WHERE\n",
    "          source_state = \"CA\"\n",
    "          AND year >= 2018\n",
    "        GROUP BY\n",
    "          ntd_id,\n",
    "          source_agency,\n",
    "          agency_status,\n",
    "          primary_uza_name,\n",
    "          uza_population,\n",
    "          uza_area_sq_miles,\n",
    "          year,\n",
    "          mode,\n",
    "          service,\n",
    "          reporter_type\n",
    "        \"\"\"\n",
    "        # create df\n",
    "        metric = pd.read_sql(query, connection)\n",
    "\n",
    "        # append df to list\n",
    "        df_list.append(metric)\n",
    "\n",
    "# unpack list into separate DFs\n",
    "ntd_pmt, ntd_upt, ntd_vrh = df_list"
   ]
  },
  {
   "cell_type": "code",
   "execution_count": null,
   "id": "a3529622-4d58-41a5-a143-8a752c5dd8da",
   "metadata": {
    "tags": []
   },
   "outputs": [],
   "source": [
    "# get districts for ntd ID\n",
    "\n",
    "with db_engine.connect() as connection:\n",
    "    for metric in metric_list:\n",
    "        query = f\"\"\"\n",
    "        SELECT\n",
    "          `mart_transit_database.dim_organizations`.`key` AS `key`,\n",
    "          `mart_transit_database.dim_organizations`.`source_record_id` AS `source_record_id`,\n",
    "          `mart_transit_database.dim_organizations`.`name` AS `name`,\n",
    "          `mart_transit_database.dim_organizations`.`ntd_id_2022` AS `ntd_id_2022`,\n",
    "          `Bridge_Organizations_X_Headquarters_County_Geography___Key`.`county_geography_name` AS `county`,\n",
    "          `Dim_County_Geography___County_Geography_Key`.`caltrans_district` AS `caltrans_district`\n",
    "        FROM\n",
    "          `mart_transit_database.dim_organizations`\n",
    "\n",
    "        LEFT JOIN `mart_transit_database.bridge_organizations_x_headquarters_county_geography` AS `Bridge_Organizations_X_Headquarters_County_Geography___Key` ON `mart_transit_database.dim_organizations`.`key` = `Bridge_Organizations_X_Headquarters_County_Geography___Key`.`organization_key`\n",
    "          LEFT JOIN `mart_transit_database.dim_county_geography` AS `Dim_County_Geography___County_Geography_Key` ON `Bridge_Organizations_X_Headquarters_County_Geography___Key`.`county_geography_key` = `Dim_County_Geography___County_Geography_Key`.`key`\n",
    "        WHERE\n",
    "          (\n",
    "            `mart_transit_database.dim_organizations`.`_is_current` = TRUE\n",
    "          )\n",
    "\n",
    "           AND (\n",
    "            `mart_transit_database.dim_organizations`.`ntd_id_2022` IS NOT NULL\n",
    "          )\n",
    "          AND (\n",
    "            (\n",
    "              `mart_transit_database.dim_organizations`.`ntd_id_2022` <> ''\n",
    "            )\n",
    "\n",
    "            OR (\n",
    "              `mart_transit_database.dim_organizations`.`ntd_id_2022` IS NULL\n",
    "            )\n",
    "          )\n",
    "          AND (\n",
    "            `Bridge_Organizations_X_Headquarters_County_Geography___Key`.`_is_current` = TRUE\n",
    "          )\n",
    "          AND (\n",
    "            `Dim_County_Geography___County_Geography_Key`.`_is_current` = TRUE\n",
    "          )\n",
    "        \"\"\"\n",
    "        # create df\n",
    "        ntd_id_x_district = pd.read_sql(query, connection)\n",
    "        \n",
    "ntd_id_x_district[\"caltrans_district\"] = ntd_id_x_district[\"caltrans_district\"].astype(\"str\")"
   ]
  },
  {
   "cell_type": "code",
   "execution_count": null,
   "id": "0a1b6b88-c10d-4e5f-8811-a077fad74353",
   "metadata": {
    "tags": []
   },
   "outputs": [],
   "source": [
    "ntd_id_x_district.info()"
   ]
  },
  {
   "cell_type": "code",
   "execution_count": null,
   "id": "3db696ac-705c-43ed-a5d8-af37ec776e61",
   "metadata": {
    "tags": []
   },
   "outputs": [],
   "source": [
    "merge_on_col = [\n",
    "    \"ntd_id\",\n",
    "    \"year\",\n",
    "    \"source_agency\",\n",
    "    \"agency_status\",\n",
    "    \"primary_uza_name\",\n",
    "    \"uza_population\",\n",
    "    \"uza_area_sq_miles\",\n",
    "    \"mode\",\n",
    "    \"service\",\n",
    "    \"reporter_type\",\n",
    "]\n",
    "\n",
    "merge_1 = ntd_vrh.merge(ntd_upt, on=merge_on_col, how=\"inner\")\n",
    "# merge_2 = merge_1.merge(ntd_vrh, on=merge_on_col, how = \"inner\")\n",
    "\n",
    "ntd_metrics_merge = merge_1.merge(ntd_pmt, on=merge_on_col, how=\"inner\")"
   ]
  },
  {
   "cell_type": "code",
   "execution_count": null,
   "id": "0577e6dd-d28c-463f-a73f-deae9bfb2919",
   "metadata": {
    "tags": []
   },
   "outputs": [],
   "source": [
    "ntd_metrics_merge.info()"
   ]
  },
  {
   "cell_type": "markdown",
   "id": "fb7671a4-c914-45e9-8695-265675775898",
   "metadata": {},
   "source": [
    "## data from other report"
   ]
  },
  {
   "cell_type": "code",
   "execution_count": null,
   "id": "ad5028e6-eba3-4a85-af43-0e1a443d77f5",
   "metadata": {},
   "outputs": [],
   "source": [
    "gcs_path = \"gs://calitp-analytics-data/data-analyses/ntd/\"\n",
    "ntd_name = \"ntd_operator_data_18_23.parquet\"\n",
    "\n",
    "ntd_all_metrics = pd.read_parquet(f\"{gcs_path}{ntd_name}\")"
   ]
  },
  {
   "cell_type": "markdown",
   "id": "005d3f7c-f826-4969-b359-543193513ecd",
   "metadata": {},
   "source": [
    "## compare datasets"
   ]
  },
  {
   "cell_type": "code",
   "execution_count": null,
   "id": "bc18815d-1888-4445-9cc7-a159e657cd4a",
   "metadata": {
    "tags": []
   },
   "outputs": [],
   "source": [
    "display(\n",
    "    ntd_all_metrics.info(), ntd_metrics_merge.info()  # mode/service is aggregated up\n",
    ")"
   ]
  },
  {
   "cell_type": "code",
   "execution_count": null,
   "id": "1059fe9c-0f7b-41a1-bebb-36ec72854afc",
   "metadata": {
    "tags": []
   },
   "outputs": [],
   "source": [
    "display(\n",
    "    ntd_all_metrics[\"ntd_id\"].nunique()\n",
    "    == ntd_metrics_merge[\"ntd_id\"].nunique(),  # TRUE, same count of unique values\n",
    "    set(ntd_all_metrics[\"ntd_id\"].unique())\n",
    "    == set(ntd_metrics_merge[\"ntd_id\"].unique()),  # TRUE, same unique NTD_IDs\n",
    ")"
   ]
  },
  {
   "cell_type": "code",
   "execution_count": null,
   "id": "03436229-114d-4597-b6b8-bdb3f2d415dc",
   "metadata": {
    "tags": []
   },
   "outputs": [],
   "source": [
    "metric_cols = [\"total_upt\", \"total_vrh\", \"total_upt\"]\n",
    "\n",
    "for metric in metric_cols:\n",
    "    print(\n",
    "        ntd_all_metrics[metric].sum() == ntd_metrics_merge[metric].sum()\n",
    "    )  # TRUE sum of each metrics are equal"
   ]
  },
  {
   "cell_type": "markdown",
   "id": "1887e81e-0636-48a2-abe8-68269fd92996",
   "metadata": {},
   "source": [
    "## merge in the district numbers to ntd_metric_merge"
   ]
  },
  {
   "cell_type": "code",
   "execution_count": null,
   "id": "7e1b945e-a896-4020-afc6-823b98c2429f",
   "metadata": {
    "tags": []
   },
   "outputs": [],
   "source": [
    "ntd_metrics_merge = ntd_metrics_merge.merge(\n",
    "    ntd_id_x_district[[\"ntd_id_2022\",\"county\",\"caltrans_district\"]],\n",
    "    left_on = \"ntd_id\",\n",
    "    right_on = \"ntd_id_2022\",\n",
    "    how=\"left\",\n",
    "    indicator=True\n",
    ")"
   ]
  },
  {
   "cell_type": "code",
   "execution_count": null,
   "id": "24bc2d36-daba-4fdf-b330-5b4b9efb4c66",
   "metadata": {
    "tags": []
   },
   "outputs": [],
   "source": [
    "ntd_metrics_merge.info()"
   ]
  },
  {
   "cell_type": "code",
   "execution_count": null,
   "id": "354f5651-4c68-46f9-a86b-92c2048c20a8",
   "metadata": {
    "tags": []
   },
   "outputs": [],
   "source": [
    "ntd_metrics_merge[ntd_metrics_merge[\"_merge\"]==\"left_only\"][\"source_agency\"].value_counts().head()"
   ]
  },
  {
   "cell_type": "code",
   "execution_count": null,
   "id": "034572c9-4003-40e4-a229-504fca98d177",
   "metadata": {
    "tags": []
   },
   "outputs": [],
   "source": [
    "ntd_metrics_merge[ntd_metrics_merge[\"caltrans_district\"].isna()].head()"
   ]
  },
  {
   "cell_type": "markdown",
   "id": "2a4c9c09-8b94-4f8e-89e8-3bf949a3cd27",
   "metadata": {},
   "source": [
    "### save out data\n"
   ]
  },
  {
   "cell_type": "code",
   "execution_count": 2,
   "id": "0803e5a2-54ec-4700-91f9-7aea5c4e6ad1",
   "metadata": {
    "tags": []
   },
   "outputs": [],
   "source": [
    "gcs_path = \"gs://calitp-analytics-data/data-analyses/ntd/\"\n",
    "# ntd_metrics_merge.to_parquet(f\"{gcs_path}puc_analysis_data.parquet\")"
   ]
  },
  {
   "cell_type": "code",
   "execution_count": 3,
   "id": "876f096e-f18a-4044-aabb-057413333110",
   "metadata": {
    "tags": []
   },
   "outputs": [
    {
     "name": "stdout",
     "output_type": "stream",
     "text": [
      "<class 'pandas.core.frame.DataFrame'>\n",
      "Int64Index: 4152 entries, 0 to 4151\n",
      "Data columns (total 17 columns):\n",
      " #   Column             Non-Null Count  Dtype   \n",
      "---  ------             --------------  -----   \n",
      " 0   ntd_id             4002 non-null   object  \n",
      " 1   source_agency      4152 non-null   object  \n",
      " 2   agency_status      4152 non-null   object  \n",
      " 3   primary_uza_name   4152 non-null   object  \n",
      " 4   uza_population     4152 non-null   int64   \n",
      " 5   uza_area_sq_miles  4152 non-null   float64 \n",
      " 6   year               4152 non-null   int64   \n",
      " 7   mode               4152 non-null   object  \n",
      " 8   service            4152 non-null   object  \n",
      " 9   reporter_type      4152 non-null   object  \n",
      " 10  total_vrh          2623 non-null   float64 \n",
      " 11  total_upt          2623 non-null   float64 \n",
      " 12  total_pmt          2623 non-null   float64 \n",
      " 13  ntd_id_2022        3798 non-null   object  \n",
      " 14  county             3798 non-null   object  \n",
      " 15  caltrans_district  3798 non-null   object  \n",
      " 16  _merge             4152 non-null   category\n",
      "dtypes: category(1), float64(4), int64(2), object(10)\n",
      "memory usage: 555.6+ KB\n"
     ]
    }
   ],
   "source": [
    "ntd_metrics_merge = pd.read_parquet(f\"{gcs_path}puc_analysis_data.parquet\")\n",
    "ntd_metrics_merge.info()"
   ]
  },
  {
   "cell_type": "markdown",
   "id": "f8f50948-712d-4606-867e-4d85bdc514e9",
   "metadata": {},
   "source": [
    "## everything matches, moving with `ntd_metrics_merge` since its has mode/service`"
   ]
  },
  {
   "cell_type": "code",
   "execution_count": 4,
   "id": "2f54b122-9382-470f-b91a-d7e92bba187e",
   "metadata": {},
   "outputs": [],
   "source": [
    "# melt big DF so all columns are under 1 column.\n",
    "group_list = [\n",
    "    \"source_agency\",\n",
    "    \"year\",\n",
    "    \"ntd_id\",\n",
    "    \"reporter_type\",\n",
    "    \"caltrans_district\"\n",
    "]\n",
    "value_cols = [\"total_upt\", \"total_vrh\", \"total_pmt\"]\n",
    "\n",
    "melt = pd.melt(\n",
    "    ntd_metrics_merge,\n",
    "    id_vars=group_list,\n",
    "    value_vars=value_cols,\n",
    "    var_name=\"metric\",\n",
    "    value_name=\"metric_value\",\n",
    "    ignore_index=True,\n",
    ")"
   ]
  },
  {
   "cell_type": "code",
   "execution_count": 5,
   "id": "014a3ca3-3976-424d-8805-36c49407d313",
   "metadata": {
    "tags": []
   },
   "outputs": [
    {
     "name": "stdout",
     "output_type": "stream",
     "text": [
      "<class 'pandas.core.frame.DataFrame'>\n",
      "RangeIndex: 12456 entries, 0 to 12455\n",
      "Data columns (total 7 columns):\n",
      " #   Column             Non-Null Count  Dtype  \n",
      "---  ------             --------------  -----  \n",
      " 0   source_agency      12456 non-null  object \n",
      " 1   year               12456 non-null  int64  \n",
      " 2   ntd_id             12006 non-null  object \n",
      " 3   reporter_type      12456 non-null  object \n",
      " 4   caltrans_district  11394 non-null  object \n",
      " 5   metric             12456 non-null  object \n",
      " 6   metric_value       7869 non-null   float64\n",
      "dtypes: float64(1), int64(1), object(5)\n",
      "memory usage: 681.3+ KB\n"
     ]
    }
   ],
   "source": [
    "melt.info()"
   ]
  },
  {
   "cell_type": "markdown",
   "id": "ef4e4c5a-4b42-435e-8fc8-5c4b9b6e81af",
   "metadata": {},
   "source": [
    "## Group aggregations"
   ]
  },
  {
   "cell_type": "code",
   "execution_count": 6,
   "id": "c8a2eab7-1a7d-4a25-ad42-5952bdc13784",
   "metadata": {},
   "outputs": [],
   "source": [
    "# What does group/agg the melted DF look like?\n",
    "vrh_total = (\n",
    "    melt[melt[\"metric\"] == \"total_vrh\"]\n",
    "    .groupby(group_list)[\"metric_value\"]\n",
    "    .sum()\n",
    "    .reset_index()\n",
    ").rename(columns={\"metric_value\": \"total_vrh\"})\n",
    "\n",
    "upt_total = (\n",
    "    melt[melt[\"metric\"] == \"total_upt\"]\n",
    "    .groupby(group_list)[\"metric_value\"]\n",
    "    .sum()\n",
    "    .reset_index()\n",
    ").rename(columns={\"metric_value\": \"total_upt\"})\n",
    "\n",
    "passenger_total = (\n",
    "    melt[melt[\"metric\"] == \"total_pmt\"]\n",
    "    .groupby(group_list)[\"metric_value\"]\n",
    "    .sum()\n",
    "    .reset_index()\n",
    ").rename(columns={\"metric_value\": \"total_pmt\"})\n",
    "\n",
    "yearly_totals = (\n",
    "    ntd_metrics_merge.groupby([\"year\"])\n",
    "    .agg({\"total_upt\": \"sum\", \"total_vrh\": \"sum\", \"total_pmt\": \"sum\"})\n",
    "    .reset_index()\n",
    ") \n",
    "\n",
    "district_totals = (\n",
    "    ntd_metrics_merge.groupby([\"caltrans_district\",\"year\"])\n",
    "    .agg({\"total_upt\": \"sum\", \"total_vrh\": \"sum\", \"total_pmt\": \"sum\"})\n",
    "    .reset_index()\n",
    ")\n",
    "\n",
    "mode_totals = (\n",
    "    ntd_metrics_merge.groupby([\"mode\",\"year\"])\n",
    "    .agg({\"total_upt\": \"sum\", \"total_vrh\": \"sum\", \"total_pmt\": \"sum\"})\n",
    "    .reset_index()\n",
    ")"
   ]
  },
  {
   "cell_type": "code",
   "execution_count": null,
   "id": "3c76b74f-b473-45ed-b02d-dd520f9132f4",
   "metadata": {},
   "outputs": [],
   "source": [
    "all_totals = [vrh_total, upt_total, passenger_total]\n",
    "\n",
    "for group in all_totals:\n",
    "    print(group.info(), group[\"ntd_id\"].nunique())\n"
   ]
  },
  {
   "cell_type": "code",
   "execution_count": null,
   "id": "ab68025f-6262-4006-9096-549f1e28a707",
   "metadata": {
    "scrolled": true
   },
   "outputs": [],
   "source": [
    "# how many rows have zero PMT?\n",
    "len(passenger_total[passenger_total[\"total_pmt\"] == 0])"
   ]
  },
  {
   "cell_type": "code",
   "execution_count": null,
   "id": "35970667-ed2f-40bd-83cd-7f40e8653ca2",
   "metadata": {
    "tags": []
   },
   "outputs": [],
   "source": [
    "def make_chart(data, col):\n",
    "    chart = (\n",
    "        alt.Chart(data)\n",
    "        .mark_line(point=True)\n",
    "        .encode(\n",
    "            x=alt.X(\"year:N\", axis=alt.Axis(format=\"$.2f\")),\n",
    "            y=f\"{col}\",\n",
    "            color=alt.Color(\"ntd_id:N\", title=\"Agency\"),\n",
    "            # row= \"reporter_type\",\n",
    "            tooltip=[\"source_agency\", col, \"year\"],\n",
    "        )\n",
    "        .properties(\n",
    "            title=f\"{col} per Reporter Type\",\n",
    "            height=200,\n",
    "            width=600,\n",
    "        )\n",
    "        .resolve_scale(y=\"independent\")\n",
    "        .interactive()\n",
    "    )\n",
    "\n",
    "    return chart"
   ]
  },
  {
   "cell_type": "markdown",
   "id": "92e792ee-206d-4ce6-9ecd-d4e8299f8aad",
   "metadata": {},
   "source": [
    "## Overall Totals"
   ]
  },
  {
   "cell_type": "markdown",
   "id": "a537edea-8230-4c75-8da4-f8fe514df920",
   "metadata": {},
   "source": [
    "### Line chart of each metric grand total per year, with mean "
   ]
  },
  {
   "cell_type": "code",
   "execution_count": null,
   "id": "7c28b145-0781-40fd-b6e6-3a85f1152bc5",
   "metadata": {
    "tags": []
   },
   "outputs": [],
   "source": [
    "yearly_totals.columns"
   ]
  },
  {
   "cell_type": "code",
   "execution_count": null,
   "id": "306d18f3-d480-474e-8da2-0797c4e6feb0",
   "metadata": {
    "tags": []
   },
   "outputs": [],
   "source": [
    "for col in yearly_totals.columns[1:]:\n",
    "    total_chart = (\n",
    "        alt.Chart(yearly_totals)\n",
    "        .mark_line(point=True)\n",
    "        .encode(\n",
    "            x=\"year:N\",\n",
    "            y=alt.Y(f\"{col}:Q\", title=f\"{col}\"),\n",
    "            # color= alt.Color(\"mode:N\",),\n",
    "            # row= \"reporter_type\",\n",
    "            tooltip=[col],\n",
    "        )\n",
    "        .properties(\n",
    "            title=f\"{col} per year\",\n",
    "            height=200,\n",
    "            width=600,\n",
    "        )\n",
    "        .interactive()\n",
    "    )\n",
    "\n",
    "    # line for average\n",
    "    line = (\n",
    "        alt.Chart(yearly_totals)\n",
    "        .mark_rule(color=\"red\", strokeWidth=1, strokeDash=[10, 5], point=True)\n",
    "        .encode(\n",
    "            # x=\"year:N\",\n",
    "            y=alt.Y(f\"mean({col}):Q\"),\n",
    "            tooltip=[f\"mean({col}):Q\"],\n",
    "        )\n",
    "    )\n",
    "\n",
    "    display((total_chart + line))"
   ]
  },
  {
   "cell_type": "markdown",
   "id": "57f04906-3079-4640-bf0b-26eced073c53",
   "metadata": {},
   "source": [
    "### Boxplot of each metric grand total per year"
   ]
  },
  {
   "cell_type": "code",
   "execution_count": null,
   "id": "295c16ce-609f-45c3-a086-ba5fee4add1b",
   "metadata": {},
   "outputs": [],
   "source": [
    "all_totals_dict = {\n",
    "    \"total_vrh\": vrh_total,\n",
    "    \"total_upt\": upt_total,\n",
    "    \"total_pmt\": passenger_total,\n",
    "}"
   ]
  },
  {
   "cell_type": "code",
   "execution_count": null,
   "id": "906c3d33-0285-441b-b31d-520af122e239",
   "metadata": {},
   "outputs": [],
   "source": [
    "# Boxplot\n",
    "# removing zero-values to see what happens\n",
    "for col, df in all_totals_dict.items():\n",
    "    box_plot = (\n",
    "        alt.Chart(df[df[col] != 0])\n",
    "        .mark_boxplot(extent=\"min-max\")\n",
    "        .encode(\n",
    "            x=\"year:N\",\n",
    "            y=col,\n",
    "            # row = \"reporter_type\",\n",
    "            tooltip=[\"source_agency\", col, \"year\"],\n",
    "        )\n",
    "        .interactive()\n",
    "        .properties(title=col, height=200, width=1000)\n",
    "    )\n",
    "\n",
    "    display(\n",
    "        f\"Number of Agencies that reported zero {col}: {df[df[col]==0].ntd_id.nunique()}\",\n",
    "        box_plot.resolve_scale(y=\"independent\"),\n",
    "    )"
   ]
  },
  {
   "cell_type": "markdown",
   "id": "df6153a2-0a5d-4475-8e05-ff1f4b105a87",
   "metadata": {},
   "source": [
    "## plot by district"
   ]
  },
  {
   "cell_type": "code",
   "execution_count": null,
   "id": "f7febf65-d153-41d8-b443-a5b9c9f8b5a4",
   "metadata": {
    "tags": []
   },
   "outputs": [],
   "source": [
    "district_totals.columns[2:]"
   ]
  },
  {
   "cell_type": "code",
   "execution_count": null,
   "id": "a06a9cd0-5507-4097-a578-e3d8a5b30e7f",
   "metadata": {
    "tags": []
   },
   "outputs": [],
   "source": [
    "# color by district\n",
    "for col in district_totals.columns[2:]:\n",
    "    total_chart = (\n",
    "        alt.Chart(district_totals)\n",
    "        .mark_line(point=True)\n",
    "        .encode(\n",
    "            x=\"year:N\",\n",
    "            y=alt.Y(col, title=f\"{col}\"),\n",
    "            color= alt.Color(\"caltrans_district:N\",),\n",
    "            # row= \"reporter_type\",\n",
    "            tooltip=[\"caltrans_district\",col],\n",
    "        )\n",
    "        .properties(\n",
    "            title=f\"{col} by District per year\",\n",
    "            height=300,\n",
    "            width=600,\n",
    "        )\n",
    "        .interactive()\n",
    "    )\n",
    "\n",
    "    # line for average\n",
    "    line = (\n",
    "        alt.Chart(district_totals)\n",
    "        .mark_rule(color=\"red\", strokeWidth=1, strokeDash=[10, 5], point=True)\n",
    "        .encode(\n",
    "            # x=\"year:N\",\n",
    "            y=alt.Y(f\"mean({col}):Q\"),\n",
    "            tooltip=[f\"mean({col}):Q\"],\n",
    "        )\n",
    "    )\n",
    "\n",
    "    display((total_chart + line))"
   ]
  },
  {
   "cell_type": "code",
   "execution_count": null,
   "id": "60da4c0f-e62d-466a-a515-0bc215876ab5",
   "metadata": {
    "tags": []
   },
   "outputs": [],
   "source": [
    "# Boxplot\n",
    "# removing zero-values to see what happens\n",
    "for col in district_totals.columns[2:]:\n",
    "    box_plot = (\n",
    "        alt.Chart(district_totals[district_totals[col] != 0])\n",
    "        .mark_boxplot(extent=\"min-max\")\n",
    "        .encode(\n",
    "            x=\"caltrans_district:N\",\n",
    "            y=col,\n",
    "            # row = \"reporter_type\",\n",
    "            tooltip=[col, \"year\"],\n",
    "        )\n",
    "        .interactive()\n",
    "        .properties(title=f\"Box Plot of {col} per district\", height=200, width=1000)\n",
    "    )\n",
    "\n",
    "    display(\n",
    "        # f\"Number of Agencies that reported zero {col}: {district_totals[district_totals[col]==0].ntd_id.nunique()}\",\n",
    "        box_plot.resolve_scale(y=\"independent\"),\n",
    "    )"
   ]
  },
  {
   "cell_type": "markdown",
   "id": "206014dc-74fa-477e-9db6-2798490e7b40",
   "metadata": {},
   "source": [
    "### Line chart of metrics by agency by year by reporter type"
   ]
  },
  {
   "cell_type": "code",
   "execution_count": null,
   "id": "da643c89-1a5d-49a1-8711-370a7788a88f",
   "metadata": {},
   "outputs": [],
   "source": [
    "for col, df in all_totals_dict.items():\n",
    "    chart = (\n",
    "        alt.Chart(df)\n",
    "        .mark_line(point=True)\n",
    "        .encode(\n",
    "            x=\"year:N\",\n",
    "            y=f\"{col}\",\n",
    "            color=alt.Color(\"ntd_id:N\", title=\"Agency\"),\n",
    "            # row=\"reporter_type\",\n",
    "            tooltip=[\"source_agency\", col, \"year\"],\n",
    "        )\n",
    "        .properties(\n",
    "            title=f\"{col} per Agency\",\n",
    "            height=200,\n",
    "            width=600,\n",
    "        )\n",
    "        .resolve_scale(y=\"independent\")\n",
    "        .interactive()\n",
    "    )\n",
    "\n",
    "    # line for average\n",
    "    # line = alt.Chart(df).mark_line(\n",
    "    #     color=\"black\",\n",
    "    #     strokeWidth = 3,\n",
    "    #     strokeDash =[10, 5],\n",
    "    #     point=True\n",
    "    # ).encode(\n",
    "    #     # x=\"year:T\",\n",
    "    #     y= alt.Y(f\"mean({col})\", title = \"Average\"),\n",
    "    #     tooltip=[\"year\",f\"mean({col})\"]\n",
    "    # )\n",
    "\n",
    "    display(\n",
    "        f\"Number of Agencies that reported zero {col}: {df[df[col]==0].ntd_id.nunique()}\",\n",
    "        chart,\n",
    "    )"
   ]
  },
  {
   "cell_type": "markdown",
   "id": "cc00a7e4-b18e-4f2b-8e42-8af16fe8354a",
   "metadata": {},
   "source": [
    "## plot of metric by mode"
   ]
  },
  {
   "cell_type": "code",
   "execution_count": null,
   "id": "d6b7e623-0496-4e5a-9df5-3945cc89f9c1",
   "metadata": {},
   "outputs": [],
   "source": []
  },
  {
   "cell_type": "code",
   "execution_count": null,
   "id": "40c5bb1b-ad34-4342-ba1f-6564e20705f2",
   "metadata": {
    "tags": []
   },
   "outputs": [],
   "source": [
    "# color by district\n",
    "for col in mode_totals.columns[2:]:\n",
    "    total_chart = (\n",
    "        alt.Chart(mode_totals)\n",
    "        .mark_line(point=True)\n",
    "        .encode(\n",
    "            x=\"year:N\",\n",
    "            y=alt.Y(col, title=f\"{col}\"),\n",
    "            color= alt.Color(\"mode:N\",),\n",
    "            # row= \"reporter_type\",\n",
    "            tooltip=[\"mode\",col],\n",
    "        )\n",
    "        .properties(\n",
    "            title=f\"{col} by Mode per year\",\n",
    "            height=300,\n",
    "            width=600,\n",
    "        )\n",
    "        .interactive()\n",
    "    )\n",
    "\n",
    "    # line for average\n",
    "    line = (\n",
    "        alt.Chart(mode_totals)\n",
    "        .mark_rule(color=\"red\", strokeWidth=1, strokeDash=[10, 5], point=True)\n",
    "        .encode(\n",
    "            # x=\"year:N\",\n",
    "            y=alt.Y(f\"mean({col}):Q\"),\n",
    "            tooltip=[f\"mean({col}):Q\"],\n",
    "        )\n",
    "    )\n",
    "\n",
    "    display((total_chart + line))"
   ]
  },
  {
   "cell_type": "code",
   "execution_count": null,
   "id": "298d1874-361a-4e69-9e1d-e4745bb7d646",
   "metadata": {},
   "outputs": [],
   "source": []
  }
 ],
 "metadata": {
  "kernelspec": {
   "display_name": "Python 3 (ipykernel)",
   "language": "python",
   "name": "python3"
  },
  "language_info": {
   "codemirror_mode": {
    "name": "ipython",
    "version": 3
   },
   "file_extension": ".py",
   "mimetype": "text/x-python",
   "name": "python",
   "nbconvert_exporter": "python",
   "pygments_lexer": "ipython3",
   "version": "3.11.10"
  }
 },
 "nbformat": 4,
 "nbformat_minor": 5
}
