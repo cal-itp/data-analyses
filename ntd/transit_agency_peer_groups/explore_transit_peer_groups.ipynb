{
 "cells": [
  {
   "cell_type": "markdown",
   "id": "29fe50ee-0173-45de-854a-9125098bfd2f",
   "metadata": {},
   "source": [
    "# [Research Request - Transit Agency Peer Groups subtask: NTD Characteristics #1442](https://github.com/cal-itp/data-analyses/issues/1442)\n"
   ]
  },
  {
   "cell_type": "markdown",
   "id": "450c9b3f-1fb2-46c7-98c0-f97f51c37a39",
   "metadata": {},
   "source": [
    "## via Juan Matute  email 5/29/2025\n",
    "In a more advanced version, operators would be clustered into groups of 10 or more based on: \n",
    "\n",
    "- mode of service, \n",
    "- vehicles available, \n",
    "- population density of service territory, \n",
    "- job density of service territory, and, perhaps, \n",
    "- service area overlap with other transit operators (a GTFS spatial analysis exercise).  \n",
    "\n",
    "An agency scoring in the bottom 1 or 2 of the cluster would get some remedial help in their triennial audit.Or face consolidation (FWIW, I like the BC Transit model for consolidation starting in 1979).  \n",
    "\n",
    "Several large transit operators, especially those operating rail, wouldn't be candidates for consolidation and wouldn't fit this clustering method and would instead rely on a triennial audit, where I would expect trends over time for GTFS-RT quality, customer experience metrics (Transit App surveys or mystery shops) and several of these metrics to be considered holistically.  \n",
    "\n",
    "And perhaps agency costs would be adjusted for regional consumer price index maintained by California Department of Industrial Relations.  Either that or they'd just be clustered with regional peers.\n"
   ]
  },
  {
   "cell_type": "markdown",
   "id": "acdf805c-6a84-4756-97a3-48a5a72e66e8",
   "metadata": {},
   "source": [
    "## Additional Reference Research Article \n",
    "\n",
    "**Comparing Transit Agency Peer Groups using Cluster Analysis**\n",
    "- Dataset used for the research article: https://zenodo.org/records/3673974\n",
    "\n",
    "Article states they used Ward's clustering method. This method is available in `sklearns`, see here for details: https://scikit-learn.org/stable/modules/clustering.html#hierarchical-clustering & https://scikit-learn.org/stable/modules/generated/sklearn.cluster.AgglomerativeClustering.html#sklearn.cluster.AgglomerativeClustering\n",
    "\n"
   ]
  },
  {
   "cell_type": "code",
   "execution_count": 1,
   "id": "366bb9d7-c171-42e4-a4b6-9185f0104ce0",
   "metadata": {
    "tags": []
   },
   "outputs": [],
   "source": [
    "from sklearn.cluster import AgglomerativeClustering"
   ]
  },
  {
   "cell_type": "code",
   "execution_count": null,
   "id": "dcf25e1c-8ba5-44a3-8455-4874a24f67f2",
   "metadata": {},
   "outputs": [],
   "source": []
  }
 ],
 "metadata": {
  "kernelspec": {
   "display_name": "Python 3 (ipykernel)",
   "language": "python",
   "name": "python3"
  },
  "language_info": {
   "codemirror_mode": {
    "name": "ipython",
    "version": 3
   },
   "file_extension": ".py",
   "mimetype": "text/x-python",
   "name": "python",
   "nbconvert_exporter": "python",
   "pygments_lexer": "ipython3",
   "version": "3.11.10"
  }
 },
 "nbformat": 4,
 "nbformat_minor": 5
}
