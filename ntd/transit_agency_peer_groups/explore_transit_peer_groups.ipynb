{
 "cells": [
  {
   "cell_type": "markdown",
   "id": "29fe50ee-0173-45de-854a-9125098bfd2f",
   "metadata": {},
   "source": [
    "# [Research Request - Transit Agency Peer Groups subtask: NTD Characteristics #1442](https://github.com/cal-itp/data-analyses/issues/1442)\n"
   ]
  },
  {
   "cell_type": "markdown",
   "id": "450c9b3f-1fb2-46c7-98c0-f97f51c37a39",
   "metadata": {},
   "source": [
    "## via Juan Matute  email 5/29/2025\n",
    "In a more advanced version, operators would be clustered into groups of 10 or more based on: \n",
    "\n",
    "- mode of service, \n",
    "- vehicles available, \n",
    "- population density of service territory, \n",
    "- job density of service territory, and, perhaps, \n",
    "- service area overlap with other transit operators (a GTFS spatial analysis exercise).  \n",
    "\n",
    "An agency scoring in the bottom 1 or 2 of the cluster would get some remedial help in their triennial audit.Or face consolidation (FWIW, I like the BC Transit model for consolidation starting in 1979).  \n",
    "\n",
    "Several large transit operators, especially those operating rail, wouldn't be candidates for consolidation and wouldn't fit this clustering method and would instead rely on a triennial audit, where I would expect trends over time for GTFS-RT quality, customer experience metrics (Transit App surveys or mystery shops) and several of these metrics to be considered holistically.  \n",
    "\n",
    "And perhaps agency costs would be adjusted for regional consumer price index maintained by California Department of Industrial Relations.  Either that or they'd just be clustered with regional peers.\n"
   ]
  },
  {
   "cell_type": "markdown",
   "id": "acdf805c-6a84-4756-97a3-48a5a72e66e8",
   "metadata": {},
   "source": [
    "## Additional Reference Research Article \n",
    "\n",
    "**Comparing Transit Agency Peer Groups using Cluster Analysis**\n",
    "- Dataset used for the research article: https://zenodo.org/records/3673974\n",
    "\n",
    "Article states they used Ward's clustering method. This method is available in `sklearns`, see here for details: https://scikit-learn.org/stable/modules/clustering.html#hierarchical-clustering & https://scikit-learn.org/stable/modules/generated/sklearn.cluster.AgglomerativeClustering.html#sklearn.cluster.AgglomerativeClustering\n",
    "\n"
   ]
  },
  {
   "cell_type": "code",
   "execution_count": 2,
   "id": "366bb9d7-c171-42e4-a4b6-9185f0104ce0",
   "metadata": {
    "tags": []
   },
   "outputs": [],
   "source": [
    "from sklearn.cluster import AgglomerativeClustering\n",
    "import pandas as pd"
   ]
  },
  {
   "cell_type": "code",
   "execution_count": 12,
   "id": "dcf25e1c-8ba5-44a3-8455-4874a24f67f2",
   "metadata": {
    "tags": []
   },
   "outputs": [],
   "source": [
    "data_url = \"https://zenodo.org/records/3673974/files/buscluster.csv?download=1\"\n",
    "article_data = pd.read_csv(data_url).drop(columns=\"Unnamed: 0\")"
   ]
  },
  {
   "cell_type": "code",
   "execution_count": 13,
   "id": "d34a9e82-da8e-4339-ad44-d0bb8039d1eb",
   "metadata": {
    "tags": []
   },
   "outputs": [
    {
     "name": "stdout",
     "output_type": "stream",
     "text": [
      "<class 'pandas.core.frame.DataFrame'>\n",
      "RangeIndex: 241 entries, 0 to 240\n",
      "Data columns (total 7 columns):\n",
      " #   Column      Non-Null Count  Dtype  \n",
      "---  ------      --------------  -----  \n",
      " 0   metro       241 non-null    object \n",
      " 1   state       241 non-null    object \n",
      " 2   pop_change  241 non-null    float64\n",
      " 3   upt_change  241 non-null    float64\n",
      " 4   vrm_change  241 non-null    float64\n",
      " 5   veh_change  241 non-null    float64\n",
      " 6   cluster     241 non-null    int64  \n",
      "dtypes: float64(4), int64(1), object(2)\n",
      "memory usage: 13.3+ KB\n"
     ]
    },
    {
     "data": {
      "text/plain": [
       "None"
      ]
     },
     "metadata": {},
     "output_type": "display_data"
    },
    {
     "data": {
      "text/html": [
       "<div>\n",
       "<style scoped>\n",
       "    .dataframe tbody tr th:only-of-type {\n",
       "        vertical-align: middle;\n",
       "    }\n",
       "\n",
       "    .dataframe tbody tr th {\n",
       "        vertical-align: top;\n",
       "    }\n",
       "\n",
       "    .dataframe thead th {\n",
       "        text-align: right;\n",
       "    }\n",
       "</style>\n",
       "<table border=\"1\" class=\"dataframe\">\n",
       "  <thead>\n",
       "    <tr style=\"text-align: right;\">\n",
       "      <th></th>\n",
       "      <th>metro</th>\n",
       "      <th>state</th>\n",
       "      <th>pop_change</th>\n",
       "      <th>upt_change</th>\n",
       "      <th>vrm_change</th>\n",
       "      <th>veh_change</th>\n",
       "      <th>cluster</th>\n",
       "    </tr>\n",
       "  </thead>\n",
       "  <tbody>\n",
       "    <tr>\n",
       "      <th>0</th>\n",
       "      <td>Akron</td>\n",
       "      <td>OH</td>\n",
       "      <td>-0.005838</td>\n",
       "      <td>-8.259862</td>\n",
       "      <td>13.788589</td>\n",
       "      <td>-3.857249</td>\n",
       "      <td>1</td>\n",
       "    </tr>\n",
       "    <tr>\n",
       "      <th>1</th>\n",
       "      <td>Albany</td>\n",
       "      <td>GA</td>\n",
       "      <td>-1.621092</td>\n",
       "      <td>-33.722368</td>\n",
       "      <td>14.042977</td>\n",
       "      <td>15.608218</td>\n",
       "      <td>1</td>\n",
       "    </tr>\n",
       "    <tr>\n",
       "      <th>2</th>\n",
       "      <td>Albany-Schenectady-Troy</td>\n",
       "      <td>NY</td>\n",
       "      <td>0.822390</td>\n",
       "      <td>10.501136</td>\n",
       "      <td>7.102621</td>\n",
       "      <td>-0.966759</td>\n",
       "      <td>1</td>\n",
       "    </tr>\n",
       "    <tr>\n",
       "      <th>3</th>\n",
       "      <td>Allentown-Bethlehem-Easton</td>\n",
       "      <td>NJ</td>\n",
       "      <td>1.025302</td>\n",
       "      <td>2.638058</td>\n",
       "      <td>7.186697</td>\n",
       "      <td>-17.181723</td>\n",
       "      <td>1</td>\n",
       "    </tr>\n",
       "    <tr>\n",
       "      <th>4</th>\n",
       "      <td>Altoona</td>\n",
       "      <td>PA</td>\n",
       "      <td>-1.943817</td>\n",
       "      <td>-14.760580</td>\n",
       "      <td>-6.917273</td>\n",
       "      <td>-16.690297</td>\n",
       "      <td>1</td>\n",
       "    </tr>\n",
       "  </tbody>\n",
       "</table>\n",
       "</div>"
      ],
      "text/plain": [
       "                        metro state  pop_change  upt_change  vrm_change  \\\n",
       "0                       Akron    OH   -0.005838   -8.259862   13.788589   \n",
       "1                      Albany    GA   -1.621092  -33.722368   14.042977   \n",
       "2     Albany-Schenectady-Troy    NY    0.822390   10.501136    7.102621   \n",
       "3  Allentown-Bethlehem-Easton    NJ    1.025302    2.638058    7.186697   \n",
       "4                     Altoona    PA   -1.943817  -14.760580   -6.917273   \n",
       "\n",
       "   veh_change  cluster  \n",
       "0   -3.857249        1  \n",
       "1   15.608218        1  \n",
       "2   -0.966759        1  \n",
       "3  -17.181723        1  \n",
       "4  -16.690297        1  "
      ]
     },
     "metadata": {},
     "output_type": "display_data"
    }
   ],
   "source": [
    "display(\n",
    "    article_data.info(),\n",
    "    article_data.head()\n",
    ")"
   ]
  },
  {
   "cell_type": "code",
   "execution_count": null,
   "id": "0e6fdb7f-851b-4cb7-95e1-c9c66590c52c",
   "metadata": {},
   "outputs": [],
   "source": []
  }
 ],
 "metadata": {
  "kernelspec": {
   "display_name": "Python 3 (ipykernel)",
   "language": "python",
   "name": "python3"
  },
  "language_info": {
   "codemirror_mode": {
    "name": "ipython",
    "version": 3
   },
   "file_extension": ".py",
   "mimetype": "text/x-python",
   "name": "python",
   "nbconvert_exporter": "python",
   "pygments_lexer": "ipython3",
   "version": "3.11.10"
  }
 },
 "nbformat": 4,
 "nbformat_minor": 5
}
