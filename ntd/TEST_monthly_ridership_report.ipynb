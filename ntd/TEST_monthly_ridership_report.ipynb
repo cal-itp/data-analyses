{
 "cells": [
  {
   "cell_type": "code",
   "execution_count": 1,
   "id": "15e15e64-5776-4b05-813d-22d1d58379d8",
   "metadata": {},
   "outputs": [],
   "source": [
    "import sys\n",
    "sys.path.append(\"../bus_service_increase\")"
   ]
  },
  {
   "cell_type": "code",
   "execution_count": 2,
   "id": "39433d1d-c54e-475c-878e-78c992d0eb58",
   "metadata": {},
   "outputs": [],
   "source": [
    "%%capture\n",
    "import warnings\n",
    "warnings.filterwarnings('ignore')\n",
    "\n",
    "import altair as alt\n",
    "import calitp_data_analysis.magics\n",
    "import pandas as pd\n",
    "\n",
    "from IPython.display import display, HTML\n",
    "\n",
    "from bus_service_utils import chart_utils\n",
    "from calitp_data_analysis import calitp_color_palette as cp\n",
    "from update_vars import PUBLIC_FILENAME, YEAR, MONTH\n",
    "#from monthly_ridership_by_rtpa import get_percent_change\n",
    "from shared_utils.rt_dates import MONTH_DICT\n",
    "\n",
    "#Temp file path for testing\n",
    "GCS_FILE_PATH = \"gs://calitp-analytics-data/data-analyses/csuyat_folder/\"\n",
    "\n",
    "#alt.renderers.enable(\"html\")\n",
    "alt.data_transformers.enable('default', max_rows=None)"
   ]
  },
  {
   "cell_type": "code",
   "execution_count": 3,
   "id": "798b9f83-ee62-489d-bc7c-9d1542af0a29",
   "metadata": {
    "tags": [
     "parameters"
    ]
   },
   "outputs": [],
   "source": [
    "# parameters cell for local\n",
    "rtpa = \"Metropolitan Transportation Commission\""
   ]
  },
  {
   "cell_type": "code",
   "execution_count": 4,
   "id": "f649dd2e-d38b-439c-94cd-a7480dc77511",
   "metadata": {},
   "outputs": [
    {
     "name": "stdout",
     "output_type": "stream",
     "text": [
      "{\"rtpa\": \"Metropolitan Transportation Commission\"}\n"
     ]
    }
   ],
   "source": [
    "%%capture_parameters\n",
    "rtpa"
   ]
  },
  {
   "cell_type": "markdown",
   "id": "bae4c08b-308e-4c38-b82c-42c94eadf120",
   "metadata": {},
   "source": [
    "# {rtpa}\n",
    "## Monthly Ridership Trends\n",
    "\n",
    "**Download data from our public [folder](https://console.cloud.google.com/storage/browser/calitp-publish-data-analysis)** by navigating to `ntd_monthly_ridership` and selecting a file."
   ]
  },
  {
   "cell_type": "code",
   "execution_count": 5,
   "id": "937118f4-c4b3-4702-8ea2-ec43c5b7bd10",
   "metadata": {},
   "outputs": [
    {
     "data": {
      "text/html": [
       "\n",
       "        <a href=https://console.cloud.google.com/storage/browser/calitp-publish-data-analysis>\n",
       "        Download the latest month of data: 2024_April.zip</a>\n",
       "        "
      ],
      "text/plain": [
       "<IPython.core.display.HTML object>"
      ]
     },
     "metadata": {},
     "output_type": "display_data"
    }
   ],
   "source": [
    "URL = (\"https://console.cloud.google.com/storage/\"\n",
    "       \"browser/calitp-publish-data-analysis\"\n",
    "      )\n",
    "\n",
    "display(\n",
    "    HTML(\n",
    "        f\"\"\"\n",
    "        <a href={URL}>\n",
    "        Download the latest month of data: {PUBLIC_FILENAME}</a>\n",
    "        \"\"\"\n",
    "    )\n",
    ")\n"
   ]
  },
  {
   "cell_type": "code",
   "execution_count": 6,
   "id": "cf017b79-26d5-455b-8c99-e9ba27d2dd77",
   "metadata": {},
   "outputs": [],
   "source": [
    "df = pd.read_parquet(\n",
    "    f\"{GCS_FILE_PATH}ca_monthly_ridership_{YEAR}_{MONTH}.parquet\",\n",
    "    filters = [[(\"RTPA\", \"==\", rtpa)]]\n",
    ").drop(\n",
    "    #updated columns names to match new df\n",
    "    columns = [\"mode\", \"tos\"]\n",
    ").rename(columns = {\"Mode_full\": \"Mode\", \"TOS_full\": \"TOS\"})"
   ]
  },
  {
   "cell_type": "code",
   "execution_count": 8,
   "id": "6c9644f1-8cab-4fbf-947a-f2b61af38fb5",
   "metadata": {},
   "outputs": [
    {
     "data": {
      "text/plain": [
       "(21172, 27)"
      ]
     },
     "metadata": {},
     "output_type": "display_data"
    },
    {
     "data": {
      "text/plain": [
       "Index(['uza_name', 'uace_cd', '_dt', 'ts', 'ntd_id', 'year', 'reporter_type',\n",
       "       'agency', 'Status', 'mode_full_name', 'service_type', '_3_mode',\n",
       "       'legacy_ntd_id', 'period_year_month', 'period_year', 'period_month',\n",
       "       'upt', 'vrm', 'vrh', 'voms', 'RTPA', '_merge', 'previous_y_m_upt',\n",
       "       'change_1yr', 'pct_change_1yr', 'Mode', 'TOS'],\n",
       "      dtype='object')"
      ]
     },
     "metadata": {},
     "output_type": "display_data"
    }
   ],
   "source": [
    "# delete this\n",
    "display(\n",
    "    df.shape,\n",
    "    df.columns,\n",
    ")"
   ]
  },
  {
   "cell_type": "code",
   "execution_count": 9,
   "id": "bf36cb45-9594-4b4f-a8f0-39be6e5a450c",
   "metadata": {},
   "outputs": [],
   "source": [
    "# find columns that are recent enough to plot\n",
    "MIN_YEAR = 2018\n",
    "\n",
    "#might not need the rest of these\n",
    "not_id_cols = [c for c in df.columns if \"/\" in c]\n",
    "\n",
    "recent_years = [\n",
    "    c for c in not_id_cols if int(c.split(\"/\")[1]) >= MIN_YEAR and \n",
    "    \"pct\" not in c\n",
    "]\n",
    "\n",
    "upt_cols = [\n",
    "    c for c in recent_years if \"change\" not in c\n",
    "]\n",
    "\n",
    "change_cols = [c for c in recent_years if \"change\" in c]"
   ]
  },
  {
   "cell_type": "code",
   "execution_count": 119,
   "id": "e60de663-a6a3-4e5d-a0d4-13aaba7efa35",
   "metadata": {},
   "outputs": [],
   "source": [
    "# do i need this anymore? \n",
    "# what does the data look like initially? filters/groups the DF by the `group_cols` list, keeps the initial wide data\n",
    "\n",
    "# give this a try with current data NOPE! \n",
    "def OLD_sum_by_group(df: pd.DataFrame, group_cols: list) -> pd.DataFrame:\n",
    "    \"\"\"\n",
    "    Since df is wide, use pivot_table() to sum up all\n",
    "    the columns that show UPT.\n",
    "    \"\"\"\n",
    "    grouped_df = df.pivot_table(\n",
    "        index = group_cols, \n",
    "        values = \"upt\", \n",
    "        aggfunc=\"sum\"\n",
    "    ).reset_index().reindex(columns = group_cols + recent_years)\n",
    "    \n",
    "    return grouped_df\n",
    "\n",
    "\n",
    "# DONT THINK I NEED THIS ANYMORE!!!\n",
    "def make_long(df: pd.DataFrame, group_cols: list, value_cols: list):\n",
    "    df_long = df[group_cols + value_cols].melt(\n",
    "        id_vars = group_cols, \n",
    "        value_vars = value_cols,\n",
    "    )\n",
    "    \n",
    "    df_long = df_long.assign(\n",
    "        variable = df_long.variable.str.replace(\"change_1yr_\", \"\")\n",
    "    )\n",
    "    \n",
    "    return df_long"
   ]
  },
  {
   "cell_type": "code",
   "execution_count": 121,
   "id": "cfc7efc0-03b4-4917-8277-d897c8a1779e",
   "metadata": {},
   "outputs": [],
   "source": [
    "# TESTED, this works! gives the same results as the old old sum_by_group, make_long and assemble_long_df functions\n",
    "\n",
    "def sum_by_group(\n",
    "    df: pd.DataFrame,\n",
    "    group_cols: list) -> pd.DataFrame:\n",
    "    \"\"\"\n",
    "    since data is now long to begin with, this replaces old sum_by_group, make_long and assemble_long_df functions.\n",
    "    \"\"\"\n",
    "    grouped_df = df.groupby(group_cols+\n",
    "                             ['period_year',\n",
    "                             'period_month',\n",
    "                             'period_year_month']\n",
    "                           ).agg({\n",
    "        \"upt\":\"sum\",\n",
    "        \"change_1yr\":\"sum\"\n",
    "    }\n",
    "    ).reset_index()\n",
    "    \n",
    "    return grouped_df\n",
    "    "
   ]
  },
  {
   "cell_type": "code",
   "execution_count": 122,
   "id": "e441011a-a8cb-4841-b9f4-11b322e39954",
   "metadata": {},
   "outputs": [],
   "source": [
    "agency_cols = [\"ntd_id\", \"agency\", \"RTPA\"]\n",
    "mode_cols = [\"Mode\", \"RTPA\"]\n",
    "tos_cols = [\"TOS\", \"RTPA\"]\n",
    "\n",
    "by_agency_long = sum_by_group(df, agency_cols)\n",
    "by_mode_long = sum_by_group(df, mode_cols)\n",
    "by_tos_long = sum_by_group(df, tos_cols)"
   ]
  },
  {
   "cell_type": "code",
   "execution_count": 126,
   "id": "40f28e48-4624-4bf5-99da-02f0d48023a4",
   "metadata": {},
   "outputs": [
    {
     "data": {
      "text/html": [
       "<div>\n",
       "<style scoped>\n",
       "    .dataframe tbody tr th:only-of-type {\n",
       "        vertical-align: middle;\n",
       "    }\n",
       "\n",
       "    .dataframe tbody tr th {\n",
       "        vertical-align: top;\n",
       "    }\n",
       "\n",
       "    .dataframe thead th {\n",
       "        text-align: right;\n",
       "    }\n",
       "</style>\n",
       "<table border=\"1\" class=\"dataframe\">\n",
       "  <thead>\n",
       "    <tr style=\"text-align: right;\">\n",
       "      <th></th>\n",
       "      <th>ntd_id</th>\n",
       "      <th>agency</th>\n",
       "      <th>RTPA</th>\n",
       "      <th>period_year</th>\n",
       "      <th>period_month</th>\n",
       "      <th>period_year_month</th>\n",
       "      <th>upt</th>\n",
       "      <th>change_1yr</th>\n",
       "    </tr>\n",
       "  </thead>\n",
       "  <tbody>\n",
       "    <tr>\n",
       "      <th>1068</th>\n",
       "      <td>90014</td>\n",
       "      <td>Alameda-Contra Costa Transit District</td>\n",
       "      <td>Metropolitan Transportation Commission</td>\n",
       "      <td>2024</td>\n",
       "      <td>1</td>\n",
       "      <td>2024-01</td>\n",
       "      <td>3244890</td>\n",
       "      <td>458527.0</td>\n",
       "    </tr>\n",
       "  </tbody>\n",
       "</table>\n",
       "</div>"
      ],
      "text/plain": [
       "     ntd_id                                 agency  \\\n",
       "1068  90014  Alameda-Contra Costa Transit District   \n",
       "\n",
       "                                        RTPA  period_year  period_month  \\\n",
       "1068  Metropolitan Transportation Commission         2024             1   \n",
       "\n",
       "     period_year_month      upt  change_1yr  \n",
       "1068           2024-01  3244890    458527.0  "
      ]
     },
     "execution_count": 126,
     "metadata": {},
     "output_type": "execute_result"
    }
   ],
   "source": [
    "# this matches the initial script\n",
    "by_agency_long[(by_agency_long[\"ntd_id\"] == \"90014\") & (by_agency_long[\"period_year_month\"] ==\"2024-01\")]"
   ]
  },
  {
   "cell_type": "code",
   "execution_count": 21,
   "id": "f52e71b2-1ad8-4713-9500-9f97cbcfc2c2",
   "metadata": {},
   "outputs": [],
   "source": [
    "# takes the sum_by_group dfs and makes them long\n",
    "# unpivots the sum_by_group dfs, each row is a different year/month\n",
    "\n",
    "# DONT THINK I NEED THIS ANYMORE!!!\n",
    "def assemble_long_df(df: pd.DataFrame, group_cols: list) -> pd.DataFrame:\n",
    "    \"\"\"\n",
    "    Need df to be long to make chart.\n",
    "    Let's put raw UPT and change side-by-side.\n",
    "    \"\"\"\n",
    "    df_raw = make_long(df, group_cols, upt_cols).rename(\n",
    "        columns = {\"value\": \"upt\"})\n",
    "    df_change = make_long(df, group_cols, change_cols).rename(\n",
    "        columns = {\"value\": \"change_1yr\"})\n",
    "\n",
    "    final = pd.merge(\n",
    "        df_raw,\n",
    "        df_change,\n",
    "        on = group_cols + [\"variable\"],\n",
    "        how = \"left\"\n",
    "    )\n",
    "    \n",
    "    final = final.assign(\n",
    "        year = final.variable.str.split(\"/\", expand=True)[1],\n",
    "        month = final.variable.str.split(\"/\", expand=True)[0].str.zfill(2)\n",
    "    )\n",
    "    \n",
    "    final = final.assign(\n",
    "        year_month = final.year + \"-\" + final.month\n",
    "    )\n",
    "    \n",
    "    return final"
   ]
  },
  {
   "cell_type": "code",
   "execution_count": 22,
   "id": "d8b92608-f81b-452b-916a-72285d67b392",
   "metadata": {},
   "outputs": [],
   "source": [
    "# KEEPING AS IS FOR NOW, BUT MAY NEED TO REWORK \n",
    "\n",
    "def remove_zero_upt_rows(df: pd.DataFrame) -> pd.DataFrame:\n",
    "    \"\"\"\n",
    "    takes the by_agency_long df, filters for rows with zero UPT AND zero change_1yr. \n",
    "    then removes these rows from the by_agency_long df.\n",
    "    resulting df should only contain rows with change in UPT not due to (0 UPT - 0 UPT) and net zero change in UPT\n",
    "    zero UPT and zero change_1yr occurs when (0 upt - 0upt = 0change), dont need to show this\n",
    "    but a net zero change (100upt - 100upt = 0 change), should be shown\n",
    "    \"\"\"\n",
    "    \n",
    "    #df of rows with zero UPT for 2 years\n",
    "    zero_UPT_2years = df[(df[\"upt\"] == 0) & (df[\"change_1yr\"] == 0)]\n",
    "    \n",
    "    merge = df.merge(zero_UPT_2years, how=\"left\", indicator=True)\n",
    "    no_zero_UPT_rows = merge[merge[\"_merge\"] == \"left_only\"].drop(columns=[\"_merge\"]).dropna(subset=\"change_1yr\")\n",
    "    \n",
    "    return no_zero_UPT_rows\n",
    "    "
   ]
  },
  {
   "cell_type": "code",
   "execution_count": 23,
   "id": "1bca9016-0024-44e0-b0a0-e11a313ca308",
   "metadata": {},
   "outputs": [
    {
     "ename": "KeyError",
     "evalue": "1",
     "output_type": "error",
     "traceback": [
      "\u001b[0;31m---------------------------------------------------------------------------\u001b[0m",
      "\u001b[0;31mKeyError\u001b[0m                                  Traceback (most recent call last)",
      "File \u001b[0;32m/opt/conda/lib/python3.9/site-packages/pandas/core/indexes/base.py:3802\u001b[0m, in \u001b[0;36mIndex.get_loc\u001b[0;34m(self, key, method, tolerance)\u001b[0m\n\u001b[1;32m   3801\u001b[0m \u001b[38;5;28;01mtry\u001b[39;00m:\n\u001b[0;32m-> 3802\u001b[0m     \u001b[38;5;28;01mreturn\u001b[39;00m \u001b[38;5;28;43mself\u001b[39;49m\u001b[38;5;241;43m.\u001b[39;49m\u001b[43m_engine\u001b[49m\u001b[38;5;241;43m.\u001b[39;49m\u001b[43mget_loc\u001b[49m\u001b[43m(\u001b[49m\u001b[43mcasted_key\u001b[49m\u001b[43m)\u001b[49m\n\u001b[1;32m   3803\u001b[0m \u001b[38;5;28;01mexcept\u001b[39;00m \u001b[38;5;167;01mKeyError\u001b[39;00m \u001b[38;5;28;01mas\u001b[39;00m err:\n",
      "File \u001b[0;32m/opt/conda/lib/python3.9/site-packages/pandas/_libs/index.pyx:138\u001b[0m, in \u001b[0;36mpandas._libs.index.IndexEngine.get_loc\u001b[0;34m()\u001b[0m\n",
      "File \u001b[0;32m/opt/conda/lib/python3.9/site-packages/pandas/_libs/index.pyx:165\u001b[0m, in \u001b[0;36mpandas._libs.index.IndexEngine.get_loc\u001b[0;34m()\u001b[0m\n",
      "File \u001b[0;32mpandas/_libs/hashtable_class_helper.pxi:5745\u001b[0m, in \u001b[0;36mpandas._libs.hashtable.PyObjectHashTable.get_item\u001b[0;34m()\u001b[0m\n",
      "File \u001b[0;32mpandas/_libs/hashtable_class_helper.pxi:5753\u001b[0m, in \u001b[0;36mpandas._libs.hashtable.PyObjectHashTable.get_item\u001b[0;34m()\u001b[0m\n",
      "\u001b[0;31mKeyError\u001b[0m: 1",
      "\nThe above exception was the direct cause of the following exception:\n",
      "\u001b[0;31mKeyError\u001b[0m                                  Traceback (most recent call last)",
      "Cell \u001b[0;32mIn[23], line 3\u001b[0m\n\u001b[1;32m      1\u001b[0m \u001b[38;5;66;03m#I STILL NEED FILTERED df BY AGENCY, MODE AND TOS\u001b[39;00m\n\u001b[0;32m----> 3\u001b[0m by_agency_long \u001b[38;5;241m=\u001b[39m \u001b[43massemble_long_df\u001b[49m\u001b[43m(\u001b[49m\u001b[43mby_agency\u001b[49m\u001b[43m,\u001b[49m\u001b[43m \u001b[49m\u001b[43magency_cols\u001b[49m\u001b[43m)\u001b[49m\n\u001b[1;32m      4\u001b[0m by_mode_long \u001b[38;5;241m=\u001b[39m assemble_long_df(by_mode, mode_cols)\n\u001b[1;32m      5\u001b[0m by_tos_long \u001b[38;5;241m=\u001b[39m assemble_long_df(by_tos, tos_cols)\n",
      "Cell \u001b[0;32mIn[21], line 23\u001b[0m, in \u001b[0;36massemble_long_df\u001b[0;34m(df, group_cols)\u001b[0m\n\u001b[1;32m     12\u001b[0m df_change \u001b[38;5;241m=\u001b[39m make_long(df, group_cols, change_cols)\u001b[38;5;241m.\u001b[39mrename(\n\u001b[1;32m     13\u001b[0m     columns \u001b[38;5;241m=\u001b[39m {\u001b[38;5;124m\"\u001b[39m\u001b[38;5;124mvalue\u001b[39m\u001b[38;5;124m\"\u001b[39m: \u001b[38;5;124m\"\u001b[39m\u001b[38;5;124mchange_1yr\u001b[39m\u001b[38;5;124m\"\u001b[39m})\n\u001b[1;32m     15\u001b[0m final \u001b[38;5;241m=\u001b[39m pd\u001b[38;5;241m.\u001b[39mmerge(\n\u001b[1;32m     16\u001b[0m     df_raw,\n\u001b[1;32m     17\u001b[0m     df_change,\n\u001b[1;32m     18\u001b[0m     on \u001b[38;5;241m=\u001b[39m group_cols \u001b[38;5;241m+\u001b[39m [\u001b[38;5;124m\"\u001b[39m\u001b[38;5;124mvariable\u001b[39m\u001b[38;5;124m\"\u001b[39m],\n\u001b[1;32m     19\u001b[0m     how \u001b[38;5;241m=\u001b[39m \u001b[38;5;124m\"\u001b[39m\u001b[38;5;124mleft\u001b[39m\u001b[38;5;124m\"\u001b[39m\n\u001b[1;32m     20\u001b[0m )\n\u001b[1;32m     22\u001b[0m final \u001b[38;5;241m=\u001b[39m final\u001b[38;5;241m.\u001b[39massign(\n\u001b[0;32m---> 23\u001b[0m     year \u001b[38;5;241m=\u001b[39m \u001b[43mfinal\u001b[49m\u001b[38;5;241;43m.\u001b[39;49m\u001b[43mvariable\u001b[49m\u001b[38;5;241;43m.\u001b[39;49m\u001b[43mstr\u001b[49m\u001b[38;5;241;43m.\u001b[39;49m\u001b[43msplit\u001b[49m\u001b[43m(\u001b[49m\u001b[38;5;124;43m\"\u001b[39;49m\u001b[38;5;124;43m/\u001b[39;49m\u001b[38;5;124;43m\"\u001b[39;49m\u001b[43m,\u001b[49m\u001b[43m \u001b[49m\u001b[43mexpand\u001b[49m\u001b[38;5;241;43m=\u001b[39;49m\u001b[38;5;28;43;01mTrue\u001b[39;49;00m\u001b[43m)\u001b[49m\u001b[43m[\u001b[49m\u001b[38;5;241;43m1\u001b[39;49m\u001b[43m]\u001b[49m,\n\u001b[1;32m     24\u001b[0m     month \u001b[38;5;241m=\u001b[39m final\u001b[38;5;241m.\u001b[39mvariable\u001b[38;5;241m.\u001b[39mstr\u001b[38;5;241m.\u001b[39msplit(\u001b[38;5;124m\"\u001b[39m\u001b[38;5;124m/\u001b[39m\u001b[38;5;124m\"\u001b[39m, expand\u001b[38;5;241m=\u001b[39m\u001b[38;5;28;01mTrue\u001b[39;00m)[\u001b[38;5;241m0\u001b[39m]\u001b[38;5;241m.\u001b[39mstr\u001b[38;5;241m.\u001b[39mzfill(\u001b[38;5;241m2\u001b[39m)\n\u001b[1;32m     25\u001b[0m )\n\u001b[1;32m     27\u001b[0m final \u001b[38;5;241m=\u001b[39m final\u001b[38;5;241m.\u001b[39massign(\n\u001b[1;32m     28\u001b[0m     year_month \u001b[38;5;241m=\u001b[39m final\u001b[38;5;241m.\u001b[39myear \u001b[38;5;241m+\u001b[39m \u001b[38;5;124m\"\u001b[39m\u001b[38;5;124m-\u001b[39m\u001b[38;5;124m\"\u001b[39m \u001b[38;5;241m+\u001b[39m final\u001b[38;5;241m.\u001b[39mmonth\n\u001b[1;32m     29\u001b[0m )\n\u001b[1;32m     31\u001b[0m \u001b[38;5;28;01mreturn\u001b[39;00m final\n",
      "File \u001b[0;32m/opt/conda/lib/python3.9/site-packages/pandas/core/frame.py:3807\u001b[0m, in \u001b[0;36mDataFrame.__getitem__\u001b[0;34m(self, key)\u001b[0m\n\u001b[1;32m   3805\u001b[0m \u001b[38;5;28;01mif\u001b[39;00m \u001b[38;5;28mself\u001b[39m\u001b[38;5;241m.\u001b[39mcolumns\u001b[38;5;241m.\u001b[39mnlevels \u001b[38;5;241m>\u001b[39m \u001b[38;5;241m1\u001b[39m:\n\u001b[1;32m   3806\u001b[0m     \u001b[38;5;28;01mreturn\u001b[39;00m \u001b[38;5;28mself\u001b[39m\u001b[38;5;241m.\u001b[39m_getitem_multilevel(key)\n\u001b[0;32m-> 3807\u001b[0m indexer \u001b[38;5;241m=\u001b[39m \u001b[38;5;28;43mself\u001b[39;49m\u001b[38;5;241;43m.\u001b[39;49m\u001b[43mcolumns\u001b[49m\u001b[38;5;241;43m.\u001b[39;49m\u001b[43mget_loc\u001b[49m\u001b[43m(\u001b[49m\u001b[43mkey\u001b[49m\u001b[43m)\u001b[49m\n\u001b[1;32m   3808\u001b[0m \u001b[38;5;28;01mif\u001b[39;00m is_integer(indexer):\n\u001b[1;32m   3809\u001b[0m     indexer \u001b[38;5;241m=\u001b[39m [indexer]\n",
      "File \u001b[0;32m/opt/conda/lib/python3.9/site-packages/pandas/core/indexes/base.py:3804\u001b[0m, in \u001b[0;36mIndex.get_loc\u001b[0;34m(self, key, method, tolerance)\u001b[0m\n\u001b[1;32m   3802\u001b[0m     \u001b[38;5;28;01mreturn\u001b[39;00m \u001b[38;5;28mself\u001b[39m\u001b[38;5;241m.\u001b[39m_engine\u001b[38;5;241m.\u001b[39mget_loc(casted_key)\n\u001b[1;32m   3803\u001b[0m \u001b[38;5;28;01mexcept\u001b[39;00m \u001b[38;5;167;01mKeyError\u001b[39;00m \u001b[38;5;28;01mas\u001b[39;00m err:\n\u001b[0;32m-> 3804\u001b[0m     \u001b[38;5;28;01mraise\u001b[39;00m \u001b[38;5;167;01mKeyError\u001b[39;00m(key) \u001b[38;5;28;01mfrom\u001b[39;00m \u001b[38;5;21;01merr\u001b[39;00m\n\u001b[1;32m   3805\u001b[0m \u001b[38;5;28;01mexcept\u001b[39;00m \u001b[38;5;167;01mTypeError\u001b[39;00m:\n\u001b[1;32m   3806\u001b[0m     \u001b[38;5;66;03m# If we have a listlike key, _check_indexing_error will raise\u001b[39;00m\n\u001b[1;32m   3807\u001b[0m     \u001b[38;5;66;03m#  InvalidIndexError. Otherwise we fall through and re-raise\u001b[39;00m\n\u001b[1;32m   3808\u001b[0m     \u001b[38;5;66;03m#  the TypeError.\u001b[39;00m\n\u001b[1;32m   3809\u001b[0m     \u001b[38;5;28mself\u001b[39m\u001b[38;5;241m.\u001b[39m_check_indexing_error(key)\n",
      "\u001b[0;31mKeyError\u001b[0m: 1"
     ]
    }
   ],
   "source": [
    "#I STILL NEED FILTERED df BY AGENCY, MODE AND TOS\n",
    "\n",
    "by_agency_long = assemble_long_df(by_agency, agency_cols)\n",
    "by_mode_long = assemble_long_df(by_mode, mode_cols)\n",
    "by_tos_long = assemble_long_df(by_tos, tos_cols)\n",
    "\n",
    "by_agency_long_no_zero_upt = remove_zero_upt_rows(by_agency_long)"
   ]
  },
  {
   "cell_type": "code",
   "execution_count": null,
   "id": "d6a2d011-8b88-4eb9-87b1-e89138214fd0",
   "metadata": {},
   "outputs": [],
   "source": []
  },
  {
   "cell_type": "code",
   "execution_count": null,
   "id": "1606b9e3-1311-40ea-aec8-1fa4ac0c2522",
   "metadata": {},
   "outputs": [],
   "source": [
    "LABELING_DICT = {\n",
    "    \"upt\": \"Unlinked Passenger Trips\",\n",
    "    \"change_1yr\": \"Change in Unlinked Passenger Trips from Prior Year\",\n",
    "    \"TOS\": \"Type of Service\",\n",
    "    \"year_month\": \"Date\"\n",
    "}\n",
    "\n",
    "def labeling(word: str) -> str:\n",
    "    return chart_utils.labeling(word, LABELING_DICT)\n",
    "\n",
    "WIDTH = 300\n",
    "HEIGHT = 150"
   ]
  },
  {
   "cell_type": "code",
   "execution_count": null,
   "id": "53510310-eaea-400d-af32-20f4c8773514",
   "metadata": {},
   "outputs": [],
   "source": [
    "def make_line_chart(\n",
    "    df: pd.DataFrame, \n",
    "    y_col: str,\n",
    "    color_col: str,\n",
    ") -> alt.Chart:\n",
    "    df = df[df[y_col] > 0].dropna(subset = y_col)\n",
    "\n",
    "    x_label = [i for i in df.year_month.unique() if \n",
    "               any(substring in i for substring in \n",
    "                   [\"-01\", \"-06\"])\n",
    "              ]    \n",
    "    chart = (alt.Chart(df)\n",
    "         .mark_line()\n",
    "         .encode(\n",
    "             x = alt.X(\"year_month:O\", \n",
    "                       axis=alt.Axis(values = x_label), \n",
    "                       title = \"Date\"\n",
    "                      ),\n",
    "             y = alt.Y(y_col, title = labeling(y_col)),\n",
    "             color = alt.Color(color_col, title = \"\", \n",
    "                               scale = alt.Scale(\n",
    "                                   range = cp.CALITP_CATEGORY_BRIGHT_COLORS + \n",
    "                                   cp.CALITP_CATEGORY_BOLD_COLORS\n",
    "                               )),\n",
    "             tooltip = [\"year_month\", y_col, color_col, \"RTPA\"]\n",
    "         ).properties(width = WIDTH, height = HEIGHT)\n",
    "         .facet(color_col, columns=2, title = \"\")\n",
    "         .resolve_scale(y=\"independent\")\n",
    "    ).properties(\n",
    "        title = f\"{labeling(y_col)} by {labeling(color_col)}\"\n",
    "    ).interactive()\n",
    "        \n",
    "    return chart"
   ]
  },
  {
   "cell_type": "code",
   "execution_count": null,
   "id": "f59f697a-912a-4dfe-bcac-02c9fc50b55d",
   "metadata": {},
   "outputs": [],
   "source": [
    "def make_bar_chart(\n",
    "    df: pd.DataFrame, \n",
    "    y_col: str,\n",
    "    color_col: str,\n",
    ") -> alt.Chart:\n",
    "    \n",
    "    def short_label(word):\n",
    "        shorten_dict = {\n",
    "            \"change_1yr\": \"Change\",\n",
    "        }\n",
    "        return shorten_dict[word]\n",
    "    \n",
    "    # For change column, we are missing everything prior to 2023 \n",
    "    #df = df.dropna(subset = y_col)\n",
    "    \n",
    "    #need flag for y_col >,<, 0, missing?\n",
    "    #count function to how many agencies fall in those categories, then look at those agencies\n",
    "    #present table\n",
    "    \n",
    "    x_label = [i for i in df.year_month.unique() if \n",
    "               any(substring in i for substring in \n",
    "                   [\"-01\", \"-03\", \"-06\", \"-09\"])\n",
    "              ]\n",
    "    \n",
    "    chart = (alt.Chart(df)\n",
    "         .mark_bar()\n",
    "         .encode(\n",
    "             x = alt.X(\"year_month:O\", \n",
    "                       axis=alt.Axis(values = x_label), \n",
    "                       title = \"Date\"\n",
    "                      ),\n",
    "             y = alt.Y(y_col, title = short_label(y_col)),\n",
    "             color = alt.Color(color_col, title = \"\", \n",
    "                              scale = alt.Scale(\n",
    "                                   range = cp.CALITP_CATEGORY_BRIGHT_COLORS + \n",
    "                                   cp.CALITP_CATEGORY_BOLD_COLORS\n",
    "                              )),\n",
    "             tooltip = [\"year_month\", y_col, color_col, \"RTPA\"]\n",
    "         ).properties(width = WIDTH, height = HEIGHT)\n",
    "         .facet(color_col, columns=2, title = \"\")\n",
    "         .resolve_scale(x=\"shared\", \n",
    "                        y=\"independent\")\n",
    "    ).properties(\n",
    "        title = f\"{labeling(y_col)} by {labeling(color_col)}\"\n",
    "    ).interactive()\n",
    "    \n",
    "    return chart"
   ]
  },
  {
   "cell_type": "markdown",
   "id": "ba59c380-aa2f-4fd2-a18b-f75e18074abc",
   "metadata": {},
   "source": [
    "### Transit Agency"
   ]
  },
  {
   "cell_type": "code",
   "execution_count": null,
   "id": "c068b244-f4c2-4ae7-9153-d2724ee9f5c2",
   "metadata": {},
   "outputs": [],
   "source": [
    "make_line_chart(by_agency_long, y_col = \"upt\", color_col = \"Agency\")"
   ]
  },
  {
   "cell_type": "markdown",
   "id": "69a54f04-0a23-4715-95ae-3f00c96f4878",
   "metadata": {},
   "source": [
    "Change in Unlinked Passenger Trips from the prior year. For example, July 2023's change would be the change in July 2023's reported values against July 2022's reported values."
   ]
  },
  {
   "cell_type": "code",
   "execution_count": null,
   "id": "24462fe7-2af4-4023-9a88-0cc665ce763a",
   "metadata": {},
   "outputs": [],
   "source": [
    "make_bar_chart(by_agency_long_no_zero_upt, y_col = \"change_1yr\", color_col = \"Agency\")"
   ]
  },
  {
   "cell_type": "markdown",
   "id": "4d7db69c-9e51-4e1f-ac33-604a8afe4da5",
   "metadata": {},
   "source": [
    "### Transit Mode"
   ]
  },
  {
   "cell_type": "code",
   "execution_count": null,
   "id": "6d132a31-971d-44f2-a1aa-d60b2cf055f6",
   "metadata": {},
   "outputs": [],
   "source": [
    "make_line_chart(by_mode_long, y_col = \"upt\", color_col = \"Mode\")"
   ]
  },
  {
   "cell_type": "code",
   "execution_count": null,
   "id": "a2d861b0-6baa-4d7c-89eb-4b686a77ba3e",
   "metadata": {},
   "outputs": [],
   "source": [
    "make_bar_chart(by_mode_long, y_col = \"change_1yr\", color_col = \"Mode\")"
   ]
  },
  {
   "cell_type": "markdown",
   "id": "1923cc1a-2e8c-471b-b578-a002fd27fe7f",
   "metadata": {},
   "source": [
    "### Type of Service"
   ]
  },
  {
   "cell_type": "code",
   "execution_count": null,
   "id": "e9999254-f07b-4041-a474-880a2b026434",
   "metadata": {},
   "outputs": [],
   "source": [
    "make_line_chart(by_tos_long, y_col = \"upt\", color_col = \"TOS\")"
   ]
  },
  {
   "cell_type": "code",
   "execution_count": null,
   "id": "3c147008-7d5f-473a-886b-65bbd030de5b",
   "metadata": {},
   "outputs": [],
   "source": [
    "make_bar_chart(by_tos_long, y_col = \"change_1yr\", color_col = \"TOS\")"
   ]
  },
  {
   "cell_type": "code",
   "execution_count": null,
   "id": "ceee122d-99ba-4fc6-962e-d6182089d547",
   "metadata": {},
   "outputs": [],
   "source": []
  }
 ],
 "metadata": {
  "kernelspec": {
   "display_name": "Python 3 (ipykernel)",
   "language": "python",
   "name": "python3"
  },
  "language_info": {
   "codemirror_mode": {
    "name": "ipython",
    "version": 3
   },
   "file_extension": ".py",
   "mimetype": "text/x-python",
   "name": "python",
   "nbconvert_exporter": "python",
   "pygments_lexer": "ipython3",
   "version": "3.9.13"
  }
 },
 "nbformat": 4,
 "nbformat_minor": 5
}
