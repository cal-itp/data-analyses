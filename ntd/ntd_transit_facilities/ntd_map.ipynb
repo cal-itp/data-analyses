{
 "cells": [
  {
   "cell_type": "code",
   "execution_count": null,
   "id": "531a9522-c9ca-48c4-8b04-bb35382ab65a",
   "metadata": {
    "tags": []
   },
   "outputs": [],
   "source": [
    "from geocoding_utils import *\n",
    "from NTDFacilitiesInventory import *\n",
    "import folium\n",
    "from shared_utils import catalog_utils\n",
    "import datetime as dt"
   ]
  },
  {
   "cell_type": "code",
   "execution_count": null,
   "id": "b615d8a7-27b5-49a2-bb93-dfdf53f81c58",
   "metadata": {
    "tags": []
   },
   "outputs": [],
   "source": [
    "catalog = catalog_utils.get_catalog(\"shared_data_catalog\")\n",
    "states = catalog.us_states.read()\n",
    "california = states.loc[states.STATE_ABBR.isin([\"CA\"])].copy()\n",
    "california"
   ]
  },
  {
   "cell_type": "markdown",
   "id": "2a1adb7d-2abf-4fd7-ba70-14a0b005e043",
   "metadata": {
    "tags": []
   },
   "source": [
    "#### Run the below cell to get raw results from the NTD, geocode them, and save the results in GCS. This will be billed once Google Cloud free tier limits are met, so should be used on a minimal sample"
   ]
  },
  {
   "cell_type": "code",
   "execution_count": null,
   "id": "50e2c988-edd0-42b7-bdbc-c1d8f537dd2f",
   "metadata": {
    "tags": []
   },
   "outputs": [],
   "source": [
    "# Load the NTD facilities inventory from the NTD, geocode, and save to GCS\n",
    "timestamp = dt.datetime.now(dt.timezone.utc).isoformat()\n",
    "output_file_uri_used = f\"gs://calitp-analytics-data/data-analyses/ntd/ntd_transit_facilities/facilities_inventory_{timestamp}.geojson\"\n",
    "print(output_file_uri_used)\n",
    "with open(\"most_recent_gcs_uri\", \"w\") as f:\n",
    "    f.write(output_file_uri_used)\n",
    "ntd = NTDFacilitiesInventory(\n",
    "    address_filter={\"State\": \"CA\"}, \n",
    "    geospatial_filter=california, \n",
    "    output_file_uri=output_file_uri_used,\n",
    ")"
   ]
  },
  {
   "cell_type": "markdown",
   "id": "9729b606-0877-42a8-b595-eca1e070ee80",
   "metadata": {},
   "source": [
    "#### Run the below cell to load the saved results from GCS"
   ]
  },
  {
   "cell_type": "code",
   "execution_count": null,
   "id": "4254c92f-1e9c-4bf2-b666-92e47db7a333",
   "metadata": {
    "tags": []
   },
   "outputs": [],
   "source": [
    "# Load the NTD facilities inventory from the NTD (should not require geocoding)\n",
    "with open(\"most_recent_gcs_uri\") as f:\n",
    "    read_uri = f.read()\n",
    "ntd = NTDFacilitiesInventory(url=read_uri, attempt_geocoding=False)"
   ]
  },
  {
   "cell_type": "markdown",
   "id": "2c909368-62c1-4435-9b24-34ed94de3271",
   "metadata": {
    "tags": []
   },
   "source": [
    "#### Save the results as a shapefile in GCS (a geojson is created automatically)"
   ]
  },
  {
   "cell_type": "code",
   "execution_count": null,
   "id": "730875aa-878d-4773-a45c-83a3ed8fe170",
   "metadata": {
    "tags": []
   },
   "outputs": [],
   "source": [
    "with open(\"most_recent_gcs_uri\") as f:\n",
    "    read_uri = f.read()\n",
    "shapefile_path = read_uri[:-8].replace(\".\", \"_\") + \".zip\"\n",
    "ntd.save_shapefile(shapefile_path)"
   ]
  },
  {
   "cell_type": "markdown",
   "id": "cab2c3ee-6677-4029-9bd4-11ad762b999e",
   "metadata": {},
   "source": [
    "#### Visualize the results in a Folium Map"
   ]
  },
  {
   "cell_type": "code",
   "execution_count": null,
   "id": "5e911b27-26c6-4215-abe0-577570597963",
   "metadata": {},
   "outputs": [],
   "source": [
    "m = folium.Map(location=[36.8790073,-119.8346849], zoom_start=6)\n",
    "ntd.folium_geojson().add_to(m)\n",
    "m"
   ]
  }
 ],
 "metadata": {
  "kernelspec": {
   "display_name": "Python 3 (ipykernel)",
   "language": "python",
   "name": "python3"
  },
  "language_info": {
   "codemirror_mode": {
    "name": "ipython",
    "version": 3
   },
   "file_extension": ".py",
   "mimetype": "text/x-python",
   "name": "python",
   "nbconvert_exporter": "python",
   "pygments_lexer": "ipython3",
   "version": "3.11.10"
  }
 },
 "nbformat": 4,
 "nbformat_minor": 5
}
