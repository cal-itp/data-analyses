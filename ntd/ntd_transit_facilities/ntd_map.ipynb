{
 "cells": [
  {
   "cell_type": "code",
   "execution_count": null,
   "id": "531a9522-c9ca-48c4-8b04-bb35382ab65a",
   "metadata": {
    "tags": []
   },
   "outputs": [],
   "source": [
    "from geocoding_utils import *\n",
    "from NTDFacilitiesInventory import *\n",
    "import folium\n",
    "from shared_utils import catalog_utils\n",
    "import datetime as dt"
   ]
  },
  {
   "cell_type": "code",
   "execution_count": null,
   "id": "b615d8a7-27b5-49a2-bb93-dfdf53f81c58",
   "metadata": {
    "tags": []
   },
   "outputs": [],
   "source": [
    "catalog = catalog_utils.get_catalog(\"shared_data_catalog\")\n",
    "states = catalog.us_states.read()\n",
    "california = states.loc[states.STATE_ABBR.isin([\"CA\"])].copy()\n",
    "california"
   ]
  },
  {
   "cell_type": "code",
   "execution_count": null,
   "id": "50e2c988-edd0-42b7-bdbc-c1d8f537dd2f",
   "metadata": {
    "tags": []
   },
   "outputs": [],
   "source": [
    "# Load the NTD facilities inventory from the NTD, geocode, and save to GCS\n",
    "timestamp = dt.datetime.now(dt.timezone.utc).isoformat()\n",
    "output_file_uri_used = f\"gs://calitp-analytics-data/data-analyses/ntd/ntd_transit_facilities/facilities_inventory_{timestamp}.geojson\"\n",
    "with open(\"most_recent_gcs_uri\", \"w\") as f:\n",
    "    f.write(output_file_uri_used)\n",
    "ntd = NTDFacilitiesInventory(\n",
    "    address_filter={\"State\":\"CA\"}, \n",
    "    geospatial_filter=california, \n",
    "    output_file_uri=f\"gs://calitp-analytics-data/data-analyses/ntd/ntd_transit_facilities/facilities_inventory_{timestamp}.geojson\"\n",
    ")"
   ]
  },
  {
   "cell_type": "code",
   "execution_count": null,
   "id": "4254c92f-1e9c-4bf2-b666-92e47db7a333",
   "metadata": {
    "tags": []
   },
   "outputs": [],
   "source": [
    "# Load the NTD facilities inventory from the NTD (should not require geocoding)\n",
    "with open(\"most_recent_gcs_uri\") as f:\n",
    "    read_uri = f.read()\n",
    "ntd = NTDFacilitiesInventory(url=read_uri, attempt_geocoding=False)"
   ]
  },
  {
   "cell_type": "code",
   "execution_count": null,
   "id": "5e911b27-26c6-4215-abe0-577570597963",
   "metadata": {},
   "outputs": [],
   "source": [
    "m = folium.Map(location=[34.0506254, -118.2829529], zoom_start=13)\n",
    "ntd.folium_geojson(\n",
    "    marker=folium.CircleMarker(color=\"#162933\", fill_color=\"#ffb81c\", fill=True, fill_opacity=0.8, radius=10, weight=0.5)\n",
    ").add_to(m)\n",
    "m"
   ]
  },
  {
   "cell_type": "code",
   "execution_count": null,
   "id": "803585d0-ffeb-445e-aa9e-a24ffe92d097",
   "metadata": {
    "tags": []
   },
   "outputs": [],
   "source": [
    "ntd.gdf.columns"
   ]
  },
  {
   "cell_type": "code",
   "execution_count": null,
   "id": "2a093711-f248-42fb-9ac0-179f85c7a39b",
   "metadata": {
    "tags": []
   },
   "outputs": [],
   "source": [
    "import pandas as pd"
   ]
  },
  {
   "cell_type": "code",
   "execution_count": null,
   "id": "a681358b-b995-4d08-b444-8ff2e1a079a1",
   "metadata": {
    "tags": []
   },
   "outputs": [],
   "source": [
    "g = Geocoder()"
   ]
  },
  {
   "cell_type": "code",
   "execution_count": null,
   "id": "8e3c7a9d-71fb-4d34-ad2b-1a515da55f94",
   "metadata": {
    "tags": []
   },
   "outputs": [],
   "source": [
    "test_df = pd.DataFrame({\n",
    "    \"id\": [1,2,3,4,5,6,7],\n",
    "    \"address\": [\n",
    "        \"100 Main St\",\n",
    "        \"100 Main St California\",\n",
    "        \"100 Main St Los Angeles California 90012\",\n",
    "        \"100 Main St Loss Angeles California 90012\",\n",
    "        \"100 Main St Los Angeles California 90027\",\n",
    "        \"1645 N Alexandria Ave Hollywood California 90027\",\n",
    "        \"1200 N St Sacramento California\",\n",
    "    ]\n",
    "})"
   ]
  },
  {
   "cell_type": "code",
   "execution_count": null,
   "id": "ad7f0b32-422b-4b5c-b5b1-d1ff35aa0f25",
   "metadata": {
    "tags": []
   },
   "outputs": [],
   "source": [
    "gdf = g.geocode_df(test_df, \"address\")\n",
    "gdf"
   ]
  },
  {
   "cell_type": "code",
   "execution_count": null,
   "id": "b5b320f8-1c7f-4da5-872e-c04149ee54dd",
   "metadata": {},
   "outputs": [],
   "source": [
    "gdf.crs"
   ]
  },
  {
   "cell_type": "code",
   "execution_count": null,
   "id": "b40c79d0-9905-42a6-937b-96471b3053e7",
   "metadata": {},
   "outputs": [],
   "source": []
  }
 ],
 "metadata": {
  "kernelspec": {
   "display_name": "Python 3 (ipykernel)",
   "language": "python",
   "name": "python3"
  },
  "language_info": {
   "codemirror_mode": {
    "name": "ipython",
    "version": 3
   },
   "file_extension": ".py",
   "mimetype": "text/x-python",
   "name": "python",
   "nbconvert_exporter": "python",
   "pygments_lexer": "ipython3",
   "version": "3.11.10"
  }
 },
 "nbformat": 4,
 "nbformat_minor": 5
}
