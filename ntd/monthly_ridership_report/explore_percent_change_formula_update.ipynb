{
 "cells": [
  {
   "cell_type": "markdown",
   "id": "81d17211-f9f3-4a63-a081-621ac9486c7c",
   "metadata": {},
   "source": [
    "# RE: [Bug: Monthly NTD Ridership data miscalculation #1612](https://github.com/cal-itp/data-analyses/issues/1612)"
   ]
  },
  {
   "cell_type": "markdown",
   "id": "1fdd2215-e869-4c60-a9a6-14b6420dc347",
   "metadata": {},
   "source": [
    "current `01_ntd_ridership_utils.get_percent_change`\n",
    "uses `(new-old)/new` logic for %change calc"
   ]
  },
  {
   "cell_type": "markdown",
   "id": "f094cd9c-4437-4d1b-91ef-95ea23a68a15",
   "metadata": {},
   "source": [
    "```\n",
    "def get_percent_change(\n",
    "    df: pd.DataFrame,\n",
    "    change_col: str\n",
    ") -> pd.DataFrame:\n",
    "    \"\"\"\n",
    "    updated to work with the warehouse `dim_monthly_ntd_ridership_with_adjustments` long data format. Used with add_change_col to make a new column to calc % change from previous period.\n",
    "    \n",
    "    \"\"\"\n",
    "    df[\"pct_change_1yr\"] = (\n",
    "        (df[\"upt\"] - df[change_col])\n",
    "        .divide(df[\"upt\"])\n",
    "        .round(4)\n",
    "    )\n",
    "    \n",
    "    return df\n",
    "```"
   ]
  },
  {
   "cell_type": "markdown",
   "id": "79717a5d-53d3-4597-97c1-04637a29b897",
   "metadata": {},
   "source": [
    "updated current `01_ntd_ridership_utils.get_percent_change`\n",
    "uses `(new-old)/OLD` logic for %change calc\n",
    "\n",
    "updated to `.divide(df[change_col])`"
   ]
  },
  {
   "cell_type": "markdown",
   "id": "94a79c4d-e218-493c-8470-bf0b4f1e4d7d",
   "metadata": {},
   "source": [
    "```\n",
    "def get_percent_change_2(\n",
    "    df: pd.DataFrame,\n",
    "    change_col: str\n",
    ") -> pd.DataFrame:\n",
    "    \"\"\"\n",
    "    updated to work with the warehouse `dim_monthly_ntd_ridership_with_adjustments` long data format. Used with add_change_col to make a new column to calc % change from previous period.\n",
    "    \n",
    "    \"\"\"\n",
    "    df[\"pct_change_1yr\"] = (\n",
    "        (df[\"upt\"] - df[change_col])\n",
    "        .divide(df[change_col])\n",
    "        .round(4)\n",
    "    )\n",
    "    \n",
    "    return df\n",
    "```"
   ]
  },
  {
   "cell_type": "markdown",
   "id": "9c954656-7eec-4fe3-a8c6-ba4d8ec22954",
   "metadata": {},
   "source": [
    "Made updates to `get_percent_change` function in `01_ntd_ridership_utils`\n",
    "Checking if chagnes worked"
   ]
  },
  {
   "cell_type": "code",
   "execution_count": 1,
   "id": "e2a97de6-1d1f-47e3-9c9c-4a8f75b4958f",
   "metadata": {
    "tags": []
   },
   "outputs": [],
   "source": [
    "import sys\n",
    "sys.path.append(\"../\")  # up one level\n",
    "import _01_ntd_ridership_utils"
   ]
  },
  {
   "cell_type": "code",
   "execution_count": 2,
   "id": "b3b0b152-9937-4bcc-b583-f1d3ac89021f",
   "metadata": {
    "tags": []
   },
   "outputs": [
    {
     "name": "stdout",
     "output_type": "stream",
     "text": [
      "both          29370\n",
      "left_only         0\n",
      "right_only        0\n",
      "Name: _merge, dtype: int64\n",
      "Index(['ntd_id', 'agency', 'reporter_type', 'period_year_month', 'period_year',\n",
      "       'period_month', 'mode', 'tos', 'Status', 'uza_name', 'upt',\n",
      "       'source_agency', 'last_report_year', 'ntd_id_2022', 'rtpa_name',\n",
      "       '_merge', 'previous_y_m_upt', 'change_1yr', 'pct_change_1yr',\n",
      "       'Mode_full', 'TOS_full'],\n",
      "      dtype='object')\n"
     ]
    },
    {
     "name": "stderr",
     "output_type": "stream",
     "text": [
      "/home/jovyan/data-analyses/ntd/monthly_ridership_report/../_01_ntd_ridership_utils.py:45: FutureWarning: Not prepending group keys to the result index of transform-like apply. In the future, the group keys will be included in the index, regardless of whether the applied function returns a like-indexed object.\n",
      "To preserve the previous behavior, use\n",
      "\n",
      "\t>>> .groupby(..., group_keys=False)\n",
      "\n",
      "To adopt the future behavior and silence this warning, use \n",
      "\n",
      "\t>>> .groupby(..., group_keys=True)\n",
      "  .apply(lambda x: x.shift(1))\n"
     ]
    }
   ],
   "source": [
    "df = _01_ntd_ridership_utils.produce_ntd_monthly_ridership_by_rtpa(\"2025\", \"May\")\n",
    "print(df.columns)"
   ]
  },
  {
   "cell_type": "code",
   "execution_count": 7,
   "id": "54b01df3-9d91-4600-bc14-4b61e1fc0d2e",
   "metadata": {
    "tags": []
   },
   "outputs": [
    {
     "data": {
      "text/html": [
       "<div>\n",
       "<style scoped>\n",
       "    .dataframe tbody tr th:only-of-type {\n",
       "        vertical-align: middle;\n",
       "    }\n",
       "\n",
       "    .dataframe tbody tr th {\n",
       "        vertical-align: top;\n",
       "    }\n",
       "\n",
       "    .dataframe thead th {\n",
       "        text-align: right;\n",
       "    }\n",
       "</style>\n",
       "<table border=\"1\" class=\"dataframe\">\n",
       "  <thead>\n",
       "    <tr style=\"text-align: right;\">\n",
       "      <th></th>\n",
       "      <th>ntd_id</th>\n",
       "      <th>agency</th>\n",
       "      <th>reporter_type</th>\n",
       "      <th>period_year_month</th>\n",
       "      <th>period_year</th>\n",
       "      <th>period_month</th>\n",
       "      <th>mode</th>\n",
       "      <th>tos</th>\n",
       "      <th>Status</th>\n",
       "      <th>uza_name</th>\n",
       "      <th>...</th>\n",
       "      <th>source_agency</th>\n",
       "      <th>last_report_year</th>\n",
       "      <th>ntd_id_2022</th>\n",
       "      <th>rtpa_name</th>\n",
       "      <th>_merge</th>\n",
       "      <th>previous_y_m_upt</th>\n",
       "      <th>change_1yr</th>\n",
       "      <th>pct_change_1yr</th>\n",
       "      <th>Mode_full</th>\n",
       "      <th>TOS_full</th>\n",
       "    </tr>\n",
       "  </thead>\n",
       "  <tbody>\n",
       "    <tr>\n",
       "      <th>20363</th>\n",
       "      <td>90043</td>\n",
       "      <td>City of Commerce</td>\n",
       "      <td>Full Reporter</td>\n",
       "      <td>2024-03</td>\n",
       "      <td>2024</td>\n",
       "      <td>3</td>\n",
       "      <td>MB</td>\n",
       "      <td>DO</td>\n",
       "      <td>Active</td>\n",
       "      <td>Los Angeles--Long Beach--Anaheim, CA</td>\n",
       "      <td>...</td>\n",
       "      <td>City of Commerce (CCT) - Transportation</td>\n",
       "      <td>2023</td>\n",
       "      <td>90043</td>\n",
       "      <td>Los Angeles County Metropolitan Transportation...</td>\n",
       "      <td>both</td>\n",
       "      <td>38829.0</td>\n",
       "      <td>9421.0</td>\n",
       "      <td>0.2426</td>\n",
       "      <td>Bus</td>\n",
       "      <td>Directly Operated</td>\n",
       "    </tr>\n",
       "    <tr>\n",
       "      <th>20350</th>\n",
       "      <td>90043</td>\n",
       "      <td>City of Commerce</td>\n",
       "      <td>Full Reporter</td>\n",
       "      <td>2025-03</td>\n",
       "      <td>2025</td>\n",
       "      <td>3</td>\n",
       "      <td>MB</td>\n",
       "      <td>DO</td>\n",
       "      <td>Active</td>\n",
       "      <td>Los Angeles--Long Beach--Anaheim, CA</td>\n",
       "      <td>...</td>\n",
       "      <td>City of Commerce (CCT) - Transportation</td>\n",
       "      <td>2023</td>\n",
       "      <td>90043</td>\n",
       "      <td>Los Angeles County Metropolitan Transportation...</td>\n",
       "      <td>both</td>\n",
       "      <td>48250.0</td>\n",
       "      <td>-14985.0</td>\n",
       "      <td>-0.3106</td>\n",
       "      <td>Bus</td>\n",
       "      <td>Directly Operated</td>\n",
       "    </tr>\n",
       "  </tbody>\n",
       "</table>\n",
       "<p>2 rows × 21 columns</p>\n",
       "</div>"
      ],
      "text/plain": [
       "      ntd_id            agency  reporter_type period_year_month  period_year  \\\n",
       "20363  90043  City of Commerce  Full Reporter           2024-03         2024   \n",
       "20350  90043  City of Commerce  Full Reporter           2025-03         2025   \n",
       "\n",
       "       period_month mode tos  Status                              uza_name  \\\n",
       "20363             3   MB  DO  Active  Los Angeles--Long Beach--Anaheim, CA   \n",
       "20350             3   MB  DO  Active  Los Angeles--Long Beach--Anaheim, CA   \n",
       "\n",
       "       ...                            source_agency last_report_year  \\\n",
       "20363  ...  City of Commerce (CCT) - Transportation             2023   \n",
       "20350  ...  City of Commerce (CCT) - Transportation             2023   \n",
       "\n",
       "       ntd_id_2022                                          rtpa_name _merge  \\\n",
       "20363        90043  Los Angeles County Metropolitan Transportation...   both   \n",
       "20350        90043  Los Angeles County Metropolitan Transportation...   both   \n",
       "\n",
       "      previous_y_m_upt  change_1yr  pct_change_1yr  Mode_full  \\\n",
       "20363          38829.0      9421.0          0.2426        Bus   \n",
       "20350          48250.0    -14985.0         -0.3106        Bus   \n",
       "\n",
       "                TOS_full  \n",
       "20363  Directly Operated  \n",
       "20350  Directly Operated  \n",
       "\n",
       "[2 rows x 21 columns]"
      ]
     },
     "execution_count": 7,
     "metadata": {},
     "output_type": "execute_result"
    }
   ],
   "source": [
    "# dataframe after corrected function\n",
    "df[\n",
    "    (df[\"ntd_id\"]==\"90043\")\n",
    "    & (df[\"period_month\"]==3)\n",
    "    & (df[\"period_year\"].isin([2024,2025]))\n",
    "    & (df[\"mode\"]==\"MB\")\n",
    "    & (df[\"tos\"]==\"DO\")\n",
    "].head().sort_values(by=\"period_year\",ascending=True) "
   ]
  },
  {
   "attachments": {
    "d384b318-0d97-4c6c-bf6b-775c099dbb24.png": {
     "image/png": "[encoded data removed]"
    }
   },
   "cell_type": "markdown",
   "id": "a3bf3b74-bc71-495e-b11c-36e8a985f3e8",
   "metadata": {
    "tags": []
   },
   "source": [
    "Previous, incorrectly calculated value for City of Commerce May 2025, pct_change_1yr = `-0.4505`\n",
    "\n",
    "after updating, pct_change_1yr = `-0.3106`\n",
    "\n",
    "Results match the manual calculation from the excel data sheet\n",
    "![image.png](attachment:d384b318-0d97-4c6c-bf6b-775c099dbb24.png)"
   ]
  }
 ],
 "metadata": {
  "kernelspec": {
   "display_name": "Python 3 (ipykernel)",
   "language": "python",
   "name": "python3"
  },
  "language_info": {
   "codemirror_mode": {
    "name": "ipython",
    "version": 3
   },
   "file_extension": ".py",
   "mimetype": "text/x-python",
   "name": "python",
   "nbconvert_exporter": "python",
   "pygments_lexer": "ipython3",
   "version": "3.11.10"
  }
 },
 "nbformat": 4,
 "nbformat_minor": 5
}
