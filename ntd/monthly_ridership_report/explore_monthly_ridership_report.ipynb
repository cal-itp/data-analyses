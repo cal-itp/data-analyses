{
 "cells": [
  {
   "cell_type": "code",
   "execution_count": 7,
   "id": "15e15e64-5776-4b05-813d-22d1d58379d8",
   "metadata": {},
   "outputs": [],
   "source": [
    "import sys\n",
    "\n",
    "sys.path.append(\"../bus_service_increase\")\n",
    "sys.path.append(\"../starter_kit\")  # to test out style_df function"
   ]
  },
  {
   "cell_type": "code",
   "execution_count": 20,
   "id": "39433d1d-c54e-475c-878e-78c992d0eb58",
   "metadata": {},
   "outputs": [],
   "source": [
    "%%capture\n",
    "import warnings\n",
    "\n",
    "warnings.filterwarnings(\"ignore\")\n",
    "\n",
    "import altair as alt\n",
    "import calitp_data_analysis.magics\n",
    "import pandas as pd\n",
    "from shared_utils.portfolio_utils import label_visualization\n",
    "from _starterkit_utils import style_df\n",
    "from calitp_data_analysis import calitp_color_palette as cp\n",
    "from explore_monthly_ridership_by_rtpa import sum_by_group\n",
    "from IPython.display import HTML, Markdown, display\n",
    "from update_vars import MONTH, PUBLIC_FILENAME, YEAR, NTD_MODES, NTD_TOS\n",
    "\n",
    "# from monthly_ridership_by_rtpa import get_percent_change\n",
    "# from shared_utils.rt_dates import MONTH_DICT\n",
    "\n",
    "# Temp file path for testing\n",
    "GCS_FILE_PATH = \"gs://calitp-analytics-data/data-analyses/ntd/\"\n",
    "\n",
    "# alt.renderers.enable(\"html\")\n",
    "alt.data_transformers.enable(\"default\", max_rows=None)"
   ]
  },
  {
   "cell_type": "code",
   "execution_count": 9,
   "id": "cf5b7b68-3630-4a65-9a24-fa8ceadc48a0",
   "metadata": {
    "tags": []
   },
   "outputs": [],
   "source": [
    "pd.set_option(\"display.max_rows\", None)\n",
    "pd.set_option(\"display.max_columns\", None)"
   ]
  },
  {
   "cell_type": "code",
   "execution_count": 10,
   "id": "798b9f83-ee62-489d-bc7c-9d1542af0a29",
   "metadata": {
    "tags": [
     "parameters"
    ]
   },
   "outputs": [],
   "source": [
    "# parameters cell for local\n",
    "rtpa = \"Metropolitan Transportation Commission\"  # lots of reporters\n",
    "# rtpa = \"Butte County Association of Governments\" # 2 reporters\n",
    "# rtpa = \"San Joaquin Council of Governments\" # 4 reporters"
   ]
  },
  {
   "cell_type": "code",
   "execution_count": 11,
   "id": "f649dd2e-d38b-439c-94cd-a7480dc77511",
   "metadata": {},
   "outputs": [
    {
     "name": "stdout",
     "output_type": "stream",
     "text": [
      "{\"rtpa\": \"Metropolitan Transportation Commission\"}\n"
     ]
    }
   ],
   "source": [
    "%%capture_parameters\n",
    "rtpa"
   ]
  },
  {
   "cell_type": "markdown",
   "id": "55399567-a200-4fd1-873d-dec845e8cc9b",
   "metadata": {},
   "source": [
    "---"
   ]
  },
  {
   "cell_type": "markdown",
   "id": "77ec2bbf-2423-4135-9959-ecbbe2d5bd5a",
   "metadata": {},
   "source": [
    "## Update `produce_ntd_monthly_ridership_by_rtpa` function"
   ]
  },
  {
   "cell_type": "code",
   "execution_count": 12,
   "id": "3ab5ab69-fa1b-4eb5-893c-ac051206432c",
   "metadata": {
    "tags": []
   },
   "outputs": [],
   "source": [
    "from calitp_data_analysis.tables import tbls\n",
    "from siuba import _, collect, distinct, filter, select"
   ]
  },
  {
   "cell_type": "code",
   "execution_count": null,
   "id": "10a72005-39a1-464f-89e2-cc122d4f9137",
   "metadata": {
    "tags": []
   },
   "outputs": [],
   "source": [
    "# from annual_ridership_report.annual_ridership_module import ntd_id_to_rtpa_crosswalk"
   ]
  },
  {
   "cell_type": "code",
   "execution_count": 26,
   "id": "8585f56c-e0ab-4c32-a4ba-99d761822df4",
   "metadata": {},
   "outputs": [],
   "source": [
    "from _01_ntd_ridership_utils import ntd_id_to_rtpa_crosswalk, add_change_columns"
   ]
  },
  {
   "cell_type": "code",
   "execution_count": 2,
   "id": "563ddea2-b6f3-4c7b-8ee8-9f3beb28a29f",
   "metadata": {
    "tags": []
   },
   "outputs": [],
   "source": [
    "xwalk_no_split = ntd_id_to_rtpa_crosswalk(split_scag=False)"
   ]
  },
  {
   "cell_type": "code",
   "execution_count": null,
   "id": "bc7f67fa-b39d-443c-a2e7-71d0fbfedf06",
   "metadata": {
    "tags": []
   },
   "outputs": [],
   "source": [
    "# display(\n",
    "#     test.head(),\n",
    "#     test.info(),\n",
    "#     test[\"rtpa_name\"].value_counts()\n",
    "# )"
   ]
  },
  {
   "cell_type": "code",
   "execution_count": 3,
   "id": "10d22913-b801-48c6-ac1f-a1a372b3af2d",
   "metadata": {
    "tags": []
   },
   "outputs": [],
   "source": [
    "xwalk_w_split = ntd_id_to_rtpa_crosswalk(split_scag=True)"
   ]
  },
  {
   "cell_type": "code",
   "execution_count": 4,
   "id": "8282a915-68da-4d1f-89a8-80a139b5c910",
   "metadata": {
    "tags": []
   },
   "outputs": [
    {
     "name": "stderr",
     "output_type": "stream",
     "text": [
      "/tmp/ipykernel_598/1389364830.py:1: DeprecationWarning: elementwise comparison failed; this will raise an error in the future.\n",
      "  xwalk_no_split[\"rtpa_name\"].unique() == xwalk_w_split[\"rtpa_name\"].unique()\n"
     ]
    },
    {
     "data": {
      "text/plain": [
       "False"
      ]
     },
     "execution_count": 4,
     "metadata": {},
     "output_type": "execute_result"
    }
   ],
   "source": [
    "xwalk_no_split[\"rtpa_name\"].unique() == xwalk_w_split[\"rtpa_name\"].unique()"
   ]
  },
  {
   "cell_type": "code",
   "execution_count": 5,
   "id": "0400acad-375d-4ab5-8440-e4ef44d3383d",
   "metadata": {
    "tags": []
   },
   "outputs": [
    {
     "data": {
      "text/plain": [
       "['name',\n",
       " 'ntd_id_2022',\n",
       " 'rtpa_name',\n",
       " 'mpo_name',\n",
       " 'key',\n",
       " 'county_geography_name',\n",
       " 'organization_key']"
      ]
     },
     "execution_count": 5,
     "metadata": {},
     "output_type": "execute_result"
    }
   ],
   "source": [
    "xwalk_w_split.columns.tolist()"
   ]
  },
  {
   "cell_type": "code",
   "execution_count": 16,
   "id": "77f19135-2437-42e6-8a00-f6b58d4d6b8c",
   "metadata": {
    "tags": []
   },
   "outputs": [],
   "source": [
    "# updated\n",
    "def produce_ntd_monthly_ridership_by_rtpa(year: int, month: int) -> pd.DataFrame:\n",
    "    \"\"\"\n",
    "    This function works with the warehouse `dim_monthly_ntd_ridership_with_adjustments` long data format.\n",
    "    Import NTD data from warehouse, filter to CA,\n",
    "    merge in crosswalk, checks for unmerged rows, then creates new columns for full Mode and TOS name.\n",
    "\n",
    "    \"\"\"\n",
    "\n",
    "    full_upt = (\n",
    "        tbls.mart_ntd.dim_monthly_ridership_with_adjustments()\n",
    "        >> filter(\n",
    "            _.period_year.isin(\n",
    "                [\"2018\", \"2019\", \"2020\", \"2021\", \"2022\", \"2023\", \"2024\", \"2025\"]\n",
    "            )\n",
    "        )\n",
    "        >>select(\n",
    "            _.ntd_id,\n",
    "            _.agency,\n",
    "            _.reporter_type,\n",
    "            _.period_year_month,\n",
    "            _.period_year,\n",
    "            _.period_month,\n",
    "            _.mode,\n",
    "            _.tos,\n",
    "            _.mode_type_of_service_status,\n",
    "            _.primary_uza_name,\n",
    "            _.upt\n",
    "            \n",
    "        )\n",
    "        >> collect()\n",
    "    ).rename(\n",
    "        columns={\n",
    "            \"mode_type_of_service_status\": \"Status\",\n",
    "            \"primary_uza_name\": \"uza_name\",\n",
    "        }\n",
    "    )\n",
    "\n",
    "    full_upt = full_upt[full_upt.agency.notna()].reset_index(drop=True)\n",
    "\n",
    "    # full_upt.to_parquet(\n",
    "    #     f\"{GCS_FILE_PATH}ntd_monthly_ridership_{year}_{month}.parquet\"\n",
    "    # )\n",
    "\n",
    "    ca = full_upt[\n",
    "        (full_upt[\"uza_name\"].str.contains(\", CA\")) & (full_upt.agency.notna())\n",
    "    ].reset_index(drop=True)\n",
    "\n",
    "    # use new crosswalk function\n",
    "    crosswalk = ntd_id_to_rtpa_crosswalk(split_scag=True)\n",
    "\n",
    "    min_year = 2018\n",
    "\n",
    "    # get agencies with last report year and data after > 2018.\n",
    "    last_report_year = (\n",
    "        tbls.mart_ntd_funding_and_expenses.fct_service_data_and_operating_expenses_time_series_by_mode_upt()\n",
    "        >> filter(\n",
    "            _.year >= min_year,  # see if this changes anything\n",
    "            _.last_report_year >= min_year,\n",
    "            _.primary_uza_name.str.contains(\", CA\")\n",
    "            | _.primary_uza_name.str.contains(\"CA-NV\")\n",
    "            | _.primary_uza_name.str.contains(\"California Non-UZA\"),\n",
    "        )\n",
    "        >> distinct(\n",
    "            \"source_agency\",\n",
    "            #'agency_status',\n",
    "            #'legacy_ntd_id',\n",
    "            \"last_report_year\",\n",
    "            #'mode',\n",
    "            \"ntd_id\",\n",
    "            #'reporter_type',\n",
    "            #'reporting_module',\n",
    "            #'service',\n",
    "            #'uace_code',\n",
    "            #'primary_uza_name',\n",
    "            #'uza_population',\n",
    "            #'year',\n",
    "            #'upt',\n",
    "        )\n",
    "        >> collect()\n",
    "    )\n",
    "\n",
    "    # merge last report year to CA UPT data\n",
    "    df = pd.merge(ca, last_report_year, left_on=\"ntd_id\", right_on=\"ntd_id\", how=\"inner\")\n",
    "\n",
    "    # merge crosswalk to CA last report year\n",
    "    df = pd.merge(\n",
    "        df,\n",
    "        # Merging on too many columns can create problems\n",
    "        # because csvs and dtypes aren't stable / consistent\n",
    "        # for NTD ID, Legacy NTD ID, and UZA\n",
    "        crosswalk[[\"ntd_id_2022\", \"rtpa_name\"]],\n",
    "        left_on=\"ntd_id\",\n",
    "        right_on=\"ntd_id_2022\",\n",
    "        how=\"left\",\n",
    "        indicator=True,\n",
    "    )\n",
    "\n",
    "    print(df._merge.value_counts())\n",
    "\n",
    "    # check for unmerged rows\n",
    "    if len(df[df._merge == \"left_only\"]) > 0:\n",
    "        raise ValueError(\"There are unmerged rows to crosswalk\")\n",
    "    \n",
    "    df = add_change_columns(df)\n",
    "    \n",
    "    df = df.assign(\n",
    "        Mode_full = df[\"mode\"].map(NTD_MODES),\n",
    "        TOS_full = df[\"tos\"].map(NTD_TOS)\n",
    "    )\n",
    "    \n",
    "    return df"
   ]
  },
  {
   "cell_type": "code",
   "execution_count": 27,
   "id": "1e748115-0619-4203-be1e-79c4379845d1",
   "metadata": {
    "tags": []
   },
   "outputs": [
    {
     "ename": "NameError",
     "evalue": "name '_01_ntd_ridership_utils' is not defined",
     "output_type": "error",
     "traceback": [
      "\u001b[0;31m---------------------------------------------------------------------------\u001b[0m",
      "\u001b[0;31mNameError\u001b[0m                                 Traceback (most recent call last)",
      "Cell \u001b[0;32mIn[27], line 1\u001b[0m\n\u001b[0;32m----> 1\u001b[0m data \u001b[38;5;241m=\u001b[39m \u001b[43m_01_ntd_ridership_utils\u001b[49m\u001b[38;5;241m.\u001b[39mproduce_ntd_monthly_ridership_by_rtpa(YEAR, MONTH)\n",
      "\u001b[0;31mNameError\u001b[0m: name '_01_ntd_ridership_utils' is not defined"
     ]
    }
   ],
   "source": [
    "data = produce_ntd_monthly_ridership_by_rtpa(YEAR, MONTH)"
   ]
  },
  {
   "cell_type": "code",
   "execution_count": 24,
   "id": "cfe9d0d2-5279-4a40-9cfb-ff41b33f09c9",
   "metadata": {
    "tags": []
   },
   "outputs": [
    {
     "name": "stdout",
     "output_type": "stream",
     "text": [
      "<class 'pandas.core.frame.DataFrame'>\n",
      "Int64Index: 28864 entries, 0 to 28863\n",
      "Data columns (total 21 columns):\n",
      " #   Column             Non-Null Count  Dtype   \n",
      "---  ------             --------------  -----   \n",
      " 0   ntd_id             28864 non-null  object  \n",
      " 1   agency             28864 non-null  object  \n",
      " 2   reporter_type      28864 non-null  object  \n",
      " 3   period_year_month  28864 non-null  object  \n",
      " 4   period_year        28864 non-null  int64   \n",
      " 5   period_month       28864 non-null  int64   \n",
      " 6   mode               28864 non-null  object  \n",
      " 7   tos                28864 non-null  object  \n",
      " 8   Status             28864 non-null  object  \n",
      " 9   uza_name           28864 non-null  object  \n",
      " 10  upt                18637 non-null  float64 \n",
      " 11  source_agency      28864 non-null  object  \n",
      " 12  last_report_year   28864 non-null  int64   \n",
      " 13  ntd_id_2022        28864 non-null  object  \n",
      " 14  rtpa_name          28864 non-null  object  \n",
      " 15  _merge             28864 non-null  category\n",
      " 16  previous_y_m_upt   18431 non-null  float64 \n",
      " 17  change_1yr         17504 non-null  float64 \n",
      " 18  pct_change_1yr     17489 non-null  float64 \n",
      " 19  Mode_full          28864 non-null  object  \n",
      " 20  TOS_full           28864 non-null  object  \n",
      "dtypes: category(1), float64(4), int64(3), object(13)\n",
      "memory usage: 4.7+ MB\n"
     ]
    },
    {
     "data": {
      "text/plain": [
       "None"
      ]
     },
     "metadata": {},
     "output_type": "display_data"
    },
    {
     "data": {
      "text/plain": [
       "Metropolitan Transportation Commission                      6600\n",
       "Los Angeles County Metropolitan Transportation Authority    6248\n",
       "San Diego Association of Governments                        1936\n",
       "Sacramento Area Council of Governments                      1936\n",
       "Riverside County Transportation Commission                  1232\n",
       "San Joaquin Council of Governments                          1144\n",
       "Santa Barbara County Association of Governments              968\n",
       "Orange County Transportation Authority                       968\n",
       "Placer County Transportation Planning Agency                 880\n",
       "Ventura County Transportation Commission                     880\n",
       "Tulare County Association of Governments                     792\n",
       "Stanislaus Council of Governments                            792\n",
       "San Bernardino County Transportation Authority               704\n",
       "Transportation Agency for Monterey County                    616\n",
       "Tahoe Regional Planning Agency                               616\n",
       "Santa Cruz County Regional Transportation Commission         440\n",
       "Kings County Association of Governments                      440\n",
       "Kern Council of Governments                                  352\n",
       "El Dorado County Transportation Commission                   264\n",
       "Shasta Regional Transportation Agency                        264\n",
       "Merced County Association of Governments                     264\n",
       "Fresno Council of Governments                                176\n",
       "Butte County Association of Governments                      176\n",
       "Imperial County Transportation Commission                    176\n",
       "Name: rtpa_name, dtype: int64"
      ]
     },
     "metadata": {},
     "output_type": "display_data"
    },
    {
     "data": {
      "text/html": [
       "<div>\n",
       "<style scoped>\n",
       "    .dataframe tbody tr th:only-of-type {\n",
       "        vertical-align: middle;\n",
       "    }\n",
       "\n",
       "    .dataframe tbody tr th {\n",
       "        vertical-align: top;\n",
       "    }\n",
       "\n",
       "    .dataframe thead th {\n",
       "        text-align: right;\n",
       "    }\n",
       "</style>\n",
       "<table border=\"1\" class=\"dataframe\">\n",
       "  <thead>\n",
       "    <tr style=\"text-align: right;\">\n",
       "      <th></th>\n",
       "      <th>period_year</th>\n",
       "      <th>period_month</th>\n",
       "      <th>upt</th>\n",
       "      <th>last_report_year</th>\n",
       "      <th>previous_y_m_upt</th>\n",
       "      <th>change_1yr</th>\n",
       "      <th>pct_change_1yr</th>\n",
       "    </tr>\n",
       "  </thead>\n",
       "  <tbody>\n",
       "    <tr>\n",
       "      <th>count</th>\n",
       "      <td>28864.000000</td>\n",
       "      <td>28864.000000</td>\n",
       "      <td>1.863700e+04</td>\n",
       "      <td>28864.000000</td>\n",
       "      <td>1.843100e+04</td>\n",
       "      <td>1.750400e+04</td>\n",
       "      <td>17489.0000</td>\n",
       "    </tr>\n",
       "    <tr>\n",
       "      <th>mean</th>\n",
       "      <td>2021.181818</td>\n",
       "      <td>6.318182</td>\n",
       "      <td>3.534826e+05</td>\n",
       "      <td>2022.926829</td>\n",
       "      <td>3.532932e+05</td>\n",
       "      <td>-1.746176e+03</td>\n",
       "      <td>-inf</td>\n",
       "    </tr>\n",
       "    <tr>\n",
       "      <th>std</th>\n",
       "      <td>2.124277</td>\n",
       "      <td>3.482306</td>\n",
       "      <td>1.470315e+06</td>\n",
       "      <td>0.435631</td>\n",
       "      <td>1.470108e+06</td>\n",
       "      <td>5.259563e+05</td>\n",
       "      <td>NaN</td>\n",
       "    </tr>\n",
       "    <tr>\n",
       "      <th>min</th>\n",
       "      <td>2018.000000</td>\n",
       "      <td>1.000000</td>\n",
       "      <td>0.000000e+00</td>\n",
       "      <td>2019.000000</td>\n",
       "      <td>0.000000e+00</td>\n",
       "      <td>-1.516618e+07</td>\n",
       "      <td>-inf</td>\n",
       "    </tr>\n",
       "    <tr>\n",
       "      <th>25%</th>\n",
       "      <td>2019.000000</td>\n",
       "      <td>3.000000</td>\n",
       "      <td>4.059000e+03</td>\n",
       "      <td>2023.000000</td>\n",
       "      <td>4.049000e+03</td>\n",
       "      <td>-1.398500e+03</td>\n",
       "      <td>-0.1090</td>\n",
       "    </tr>\n",
       "    <tr>\n",
       "      <th>50%</th>\n",
       "      <td>2021.000000</td>\n",
       "      <td>6.000000</td>\n",
       "      <td>2.258700e+04</td>\n",
       "      <td>2023.000000</td>\n",
       "      <td>2.250900e+04</td>\n",
       "      <td>6.715000e+02</td>\n",
       "      <td>0.0726</td>\n",
       "    </tr>\n",
       "    <tr>\n",
       "      <th>75%</th>\n",
       "      <td>2023.000000</td>\n",
       "      <td>9.000000</td>\n",
       "      <td>1.411850e+05</td>\n",
       "      <td>2023.000000</td>\n",
       "      <td>1.410980e+05</td>\n",
       "      <td>1.158700e+04</td>\n",
       "      <td>0.2388</td>\n",
       "    </tr>\n",
       "    <tr>\n",
       "      <th>max</th>\n",
       "      <td>2025.000000</td>\n",
       "      <td>12.000000</td>\n",
       "      <td>2.425492e+07</td>\n",
       "      <td>2023.000000</td>\n",
       "      <td>2.425492e+07</td>\n",
       "      <td>6.711318e+06</td>\n",
       "      <td>1.0000</td>\n",
       "    </tr>\n",
       "  </tbody>\n",
       "</table>\n",
       "</div>"
      ],
      "text/plain": [
       "        period_year  period_month           upt  last_report_year  \\\n",
       "count  28864.000000  28864.000000  1.863700e+04      28864.000000   \n",
       "mean    2021.181818      6.318182  3.534826e+05       2022.926829   \n",
       "std        2.124277      3.482306  1.470315e+06          0.435631   \n",
       "min     2018.000000      1.000000  0.000000e+00       2019.000000   \n",
       "25%     2019.000000      3.000000  4.059000e+03       2023.000000   \n",
       "50%     2021.000000      6.000000  2.258700e+04       2023.000000   \n",
       "75%     2023.000000      9.000000  1.411850e+05       2023.000000   \n",
       "max     2025.000000     12.000000  2.425492e+07       2023.000000   \n",
       "\n",
       "       previous_y_m_upt    change_1yr  pct_change_1yr  \n",
       "count      1.843100e+04  1.750400e+04      17489.0000  \n",
       "mean       3.532932e+05 -1.746176e+03            -inf  \n",
       "std        1.470108e+06  5.259563e+05             NaN  \n",
       "min        0.000000e+00 -1.516618e+07            -inf  \n",
       "25%        4.049000e+03 -1.398500e+03         -0.1090  \n",
       "50%        2.250900e+04  6.715000e+02          0.0726  \n",
       "75%        1.410980e+05  1.158700e+04          0.2388  \n",
       "max        2.425492e+07  6.711318e+06          1.0000  "
      ]
     },
     "metadata": {},
     "output_type": "display_data"
    }
   ],
   "source": [
    "display(\n",
    "    data.info(),\n",
    "    data[\"rtpa_name\"].value_counts(),\n",
    "    data.describe()\n",
    ")"
   ]
  },
  {
   "cell_type": "code",
   "execution_count": 28,
   "id": "8dcbd833-9751-41d5-94b7-ec7f88a307c2",
   "metadata": {
    "tags": []
   },
   "outputs": [],
   "source": [
    "df_check = pd.read_parquet(\n",
    "        f\"{GCS_FILE_PATH}ca_monthly_ridership_{YEAR}_{MONTH}.parquet\"\n",
    "    )"
   ]
  },
  {
   "cell_type": "code",
   "execution_count": 31,
   "id": "ffd5153f-7ce0-4006-9aaf-3e017f0052fc",
   "metadata": {
    "tags": []
   },
   "outputs": [
    {
     "data": {
      "text/plain": [
       "array(['Butte County Association of Governments',\n",
       "       'El Dorado County Transportation Commission',\n",
       "       'Fresno Council of Governments',\n",
       "       'Imperial County Transportation Commission',\n",
       "       'Kern Council of Governments',\n",
       "       'Kings County Association of Governments',\n",
       "       'Los Angeles County Metropolitan Transportation Authority',\n",
       "       'Merced County Association of Governments',\n",
       "       'Metropolitan Transportation Commission',\n",
       "       'Orange County Transportation Authority',\n",
       "       'Placer County Transportation Planning Agency',\n",
       "       'Riverside County Transportation Commission',\n",
       "       'Sacramento Area Council of Governments',\n",
       "       'San Bernardino County Transportation Authority',\n",
       "       'San Diego Association of Governments',\n",
       "       'San Joaquin Council of Governments',\n",
       "       'Santa Barbara County Association of Governments',\n",
       "       'Santa Cruz County Regional Transportation Commission',\n",
       "       'Shasta Regional Transportation Agency',\n",
       "       'Stanislaus Council of Governments',\n",
       "       'Tahoe Regional Planning Agency',\n",
       "       'Transportation Agency for Monterey County',\n",
       "       'Tulare County Association of Governments',\n",
       "       'Ventura County Transportation Commission'], dtype=object)"
      ]
     },
     "execution_count": 31,
     "metadata": {},
     "output_type": "execute_result"
    }
   ],
   "source": [
    "df_check[\"rtpa_name\"].sort_values().unique()\n",
    "# wher is SLOCOG??!?!\n",
    "# City of SLO was in SANDAG, adjusted city of slo RTPA in airtable 6/20/2025. should be fixed in the next report update"
   ]
  },
  {
   "cell_type": "code",
   "execution_count": 34,
   "id": "3ca344b4-a186-4126-ad8b-94ab016942c5",
   "metadata": {
    "tags": []
   },
   "outputs": [],
   "source": [
    "ntd_rtpa_orgs = (\n",
    "        tbls.mart_transit_database.dim_organizations()\n",
    "        >> filter(\n",
    "            _._is_current == True,\n",
    "            _.ntd_id_2022.notna(),\n",
    "            _.rtpa_name.notna(),\n",
    "        )\n",
    "        >> select(\n",
    "            _.name, \n",
    "            _.ntd_id_2022, \n",
    "            _.rtpa_name, \n",
    "            _.mpo_name, \n",
    "            _.key\n",
    "        )\n",
    "        >> collect()\n",
    "    )\n",
    "\n",
    "    # join bridge org county geo to get agency counties\n",
    "bridge_counties = (\n",
    "        tbls.mart_transit_database.bridge_organizations_x_headquarters_county_geography()\n",
    "        >> filter(\n",
    "            _._is_current == True\n",
    "        )\n",
    "        >> select(\n",
    "            _.county_geography_name, \n",
    "            _.organization_key\n",
    "        )\n",
    "        >> collect()\n",
    "    )"
   ]
  },
  {
   "cell_type": "code",
   "execution_count": 54,
   "id": "d002304f-f6f3-47bf-b6f9-420d1ef69dea",
   "metadata": {
    "tags": []
   },
   "outputs": [
    {
     "data": {
      "text/html": [
       "<div>\n",
       "<style scoped>\n",
       "    .dataframe tbody tr th:only-of-type {\n",
       "        vertical-align: middle;\n",
       "    }\n",
       "\n",
       "    .dataframe tbody tr th {\n",
       "        vertical-align: top;\n",
       "    }\n",
       "\n",
       "    .dataframe thead th {\n",
       "        text-align: right;\n",
       "    }\n",
       "</style>\n",
       "<table border=\"1\" class=\"dataframe\">\n",
       "  <thead>\n",
       "    <tr style=\"text-align: right;\">\n",
       "      <th></th>\n",
       "      <th>name</th>\n",
       "      <th>ntd_id_2022</th>\n",
       "      <th>rtpa_name</th>\n",
       "      <th>mpo_name</th>\n",
       "      <th>key</th>\n",
       "    </tr>\n",
       "  </thead>\n",
       "  <tbody>\n",
       "    <tr>\n",
       "      <th>70</th>\n",
       "      <td>San Luis Obispo Council of Governments</td>\n",
       "      <td>90297</td>\n",
       "      <td>San Luis Obispo Council of Governments</td>\n",
       "      <td>None</td>\n",
       "      <td>6f5660575e79129ff67bc2c54a2f6c1b</td>\n",
       "    </tr>\n",
       "    <tr>\n",
       "      <th>149</th>\n",
       "      <td>City of San Luis Obispo</td>\n",
       "      <td>90156</td>\n",
       "      <td>San Diego Association of Governments</td>\n",
       "      <td>San Diego Association of Governments</td>\n",
       "      <td>113c74aa8cbc098bdd25c8275823f04f</td>\n",
       "    </tr>\n",
       "    <tr>\n",
       "      <th>216</th>\n",
       "      <td>San Luis Obispo Regional Transit Authority</td>\n",
       "      <td>90206</td>\n",
       "      <td>San Diego Association of Governments</td>\n",
       "      <td>San Diego Association of Governments</td>\n",
       "      <td>64a73df3f0231d86d20dca85c271c312</td>\n",
       "    </tr>\n",
       "  </tbody>\n",
       "</table>\n",
       "</div>"
      ],
      "text/plain": [
       "                                           name ntd_id_2022  \\\n",
       "70       San Luis Obispo Council of Governments       90297   \n",
       "149                     City of San Luis Obispo       90156   \n",
       "216  San Luis Obispo Regional Transit Authority       90206   \n",
       "\n",
       "                                  rtpa_name  \\\n",
       "70   San Luis Obispo Council of Governments   \n",
       "149    San Diego Association of Governments   \n",
       "216    San Diego Association of Governments   \n",
       "\n",
       "                                 mpo_name                               key  \n",
       "70                                   None  6f5660575e79129ff67bc2c54a2f6c1b  \n",
       "149  San Diego Association of Governments  113c74aa8cbc098bdd25c8275823f04f  \n",
       "216  San Diego Association of Governments  64a73df3f0231d86d20dca85c271c312  "
      ]
     },
     "execution_count": 54,
     "metadata": {},
     "output_type": "execute_result"
    }
   ],
   "source": [
    "ntd_rtpa_orgs[ntd_rtpa_orgs[\"name\"].str.contains(\"San Luis\")]"
   ]
  },
  {
   "cell_type": "code",
   "execution_count": 47,
   "id": "574f74f4-69e3-4eb6-9767-680996f5a579",
   "metadata": {
    "tags": []
   },
   "outputs": [
    {
     "data": {
      "text/plain": [
       "Los Angeles        185\n",
       "San Diego           80\n",
       "Orange              68\n",
       "Riverside           59\n",
       "Alameda             54\n",
       "San Bernardino      53\n",
       "Santa Clara         46\n",
       "San Francisco       43\n",
       "San Mateo           38\n",
       "Contra Costa        36\n",
       "Fresno              33\n",
       "Sacramento          32\n",
       "Santa Barbara       26\n",
       "Kern                26\n",
       "Ventura             25\n",
       "Monterey            25\n",
       "Sonoma              24\n",
       "San Joaquin         24\n",
       "Humboldt            24\n",
       "Mendocino           23\n",
       "Marin               21\n",
       "Stanislaus          19\n",
       "San Luis Obispo     18\n",
       "Tulare              17\n",
       "Solano              16\n",
       "Placer              14\n",
       "Butte               14\n",
       "Siskiyou            13\n",
       "Merced              13\n",
       "Imperial            13\n",
       "Lake                12\n",
       "Santa Cruz          12\n",
       "Amador              12\n",
       "Yolo                12\n",
       "Inyo                11\n",
       "El Dorado           11\n",
       "Shasta              11\n",
       "Del Norte           11\n",
       "Kings               11\n",
       "Lassen               9\n",
       "Napa                 8\n",
       "Tuolumne             8\n",
       "Tehama               7\n",
       "Modoc                7\n",
       "Colusa               7\n",
       "Madera               7\n",
       "Plumas               6\n",
       "Nevada               6\n",
       "Mono                 6\n",
       "San Benito           6\n",
       "Sutter               5\n",
       "Yuba                 5\n",
       "Sierra               5\n",
       "Calaveras            5\n",
       "Glenn                5\n",
       "Mariposa             3\n",
       "Alpine               2\n",
       "Trinity              2\n",
       "Name: county_geography_name, dtype: int64"
      ]
     },
     "execution_count": 47,
     "metadata": {},
     "output_type": "execute_result"
    }
   ],
   "source": [
    "bridge_counties[\"county_geography_name\"].value_counts()"
   ]
  },
  {
   "cell_type": "code",
   "execution_count": 40,
   "id": "a541efd3-a3b2-46bb-ac69-efc347c37f1e",
   "metadata": {
    "tags": []
   },
   "outputs": [],
   "source": [
    "ntd_to_rtpa_crosswalk = ntd_rtpa_orgs.merge(\n",
    "        bridge_counties, \n",
    "        left_on=\"key\", \n",
    "        right_on=\"organization_key\", \n",
    "        how=\"left\"\n",
    "    )"
   ]
  },
  {
   "cell_type": "code",
   "execution_count": 46,
   "id": "52043d7c-4751-475b-b231-50a467a4f57e",
   "metadata": {
    "tags": []
   },
   "outputs": [
    {
     "data": {
      "text/html": [
       "<div>\n",
       "<style scoped>\n",
       "    .dataframe tbody tr th:only-of-type {\n",
       "        vertical-align: middle;\n",
       "    }\n",
       "\n",
       "    .dataframe tbody tr th {\n",
       "        vertical-align: top;\n",
       "    }\n",
       "\n",
       "    .dataframe thead th {\n",
       "        text-align: right;\n",
       "    }\n",
       "</style>\n",
       "<table border=\"1\" class=\"dataframe\">\n",
       "  <thead>\n",
       "    <tr style=\"text-align: right;\">\n",
       "      <th></th>\n",
       "      <th>name</th>\n",
       "      <th>ntd_id_2022</th>\n",
       "      <th>rtpa_name</th>\n",
       "      <th>mpo_name</th>\n",
       "      <th>key</th>\n",
       "      <th>county_geography_name</th>\n",
       "      <th>organization_key</th>\n",
       "    </tr>\n",
       "  </thead>\n",
       "  <tbody>\n",
       "    <tr>\n",
       "      <th>70</th>\n",
       "      <td>San Luis Obispo Council of Governments</td>\n",
       "      <td>90297</td>\n",
       "      <td>San Luis Obispo Council of Governments</td>\n",
       "      <td>None</td>\n",
       "      <td>6f5660575e79129ff67bc2c54a2f6c1b</td>\n",
       "      <td>San Luis Obispo</td>\n",
       "      <td>6f5660575e79129ff67bc2c54a2f6c1b</td>\n",
       "    </tr>\n",
       "  </tbody>\n",
       "</table>\n",
       "</div>"
      ],
      "text/plain": [
       "                                      name ntd_id_2022  \\\n",
       "70  San Luis Obispo Council of Governments       90297   \n",
       "\n",
       "                                 rtpa_name mpo_name  \\\n",
       "70  San Luis Obispo Council of Governments     None   \n",
       "\n",
       "                                 key county_geography_name  \\\n",
       "70  6f5660575e79129ff67bc2c54a2f6c1b       San Luis Obispo   \n",
       "\n",
       "                    organization_key  \n",
       "70  6f5660575e79129ff67bc2c54a2f6c1b  "
      ]
     },
     "execution_count": 46,
     "metadata": {},
     "output_type": "execute_result"
    }
   ],
   "source": [
    "ntd_to_rtpa_crosswalk[ntd_to_rtpa_crosswalk[\"rtpa_name\"].str.contains(\"San Luis\")]"
   ]
  },
  {
   "cell_type": "code",
   "execution_count": null,
   "id": "01f8a3bf-bfb1-426d-ba4b-4ff28999d4c5",
   "metadata": {},
   "outputs": [],
   "source": []
  },
  {
   "cell_type": "code",
   "execution_count": null,
   "id": "26a4a2e8-e098-49b6-ba05-f1ac23ffc45c",
   "metadata": {},
   "outputs": [],
   "source": []
  },
  {
   "cell_type": "markdown",
   "id": "02d42edb-4850-4280-a6f9-1c9cc2a8afc2",
   "metadata": {},
   "source": [
    "---"
   ]
  },
  {
   "cell_type": "markdown",
   "id": "bae4c08b-308e-4c38-b82c-42c94eadf120",
   "metadata": {},
   "source": [
    "# {rtpa}\n",
    "## Monthly Ridership Trends\n",
    "\n",
    "**Download data from our public [folder](https://console.cloud.google.com/storage/browser/calitp-publish-data-analysis)** by navigating to `ntd_monthly_ridership` and selecting a file.\n",
    "\n",
    "Transit operators/agencies that are **Urban full reporters, that submit monthly ridership data to NTD from 2018 to present**, are included in this report. Reporters that were previously Urban full reporters, but are currently not, may appear. This may result in Reporters showing zero or partial ridership data in the report. \n",
    "\n",
    "If a Reporter is not a monthly reporter, or has not reported data since 2018, they will not appear in the report.\n",
    "\n",
    "Examples: \n",
    "- Reporter A is an urban full reporter from 2019-2022, then became a reduced reporter for 2023. Reporter A's ridership data will be displayed for 2019-2022 only.\n",
    "- Reporter B is an urban full reporter from 2000-2017, then became a reduced reporter for 2018. Reporter B will be named in the report, but will not display ridership data.\n",
    "- Reporter C was a reduced reporter form 2015-2020, then became an urban full reporter and began submitting monthly ridership data to NTD for 2021. Reporter C's ridership data will be displayed for 2021-present."
   ]
  },
  {
   "cell_type": "code",
   "execution_count": null,
   "id": "937118f4-c4b3-4702-8ea2-ec43c5b7bd10",
   "metadata": {},
   "outputs": [],
   "source": [
    "URL = \"https://console.cloud.google.com/storage/\" \"browser/calitp-publish-data-analysis\"\n",
    "\n",
    "display(\n",
    "    HTML(\n",
    "        f\"\"\"\n",
    "        <a href={URL}>\n",
    "        Download the latest month of data: {PUBLIC_FILENAME}</a>\n",
    "        \"\"\"\n",
    "    )\n",
    ")"
   ]
  },
  {
   "cell_type": "code",
   "execution_count": null,
   "id": "cf017b79-26d5-455b-8c99-e9ba27d2dd77",
   "metadata": {},
   "outputs": [],
   "source": [
    "MIN_YEAR = 2018\n",
    "\n",
    "# updated to filter for period_year greater than 2018\n",
    "df = (\n",
    "    pd.read_parquet(\n",
    "        f\"{GCS_FILE_PATH}ca_monthly_ridership_{YEAR}_{MONTH}.parquet\",\n",
    "        filters=[[(\"RTPA\", \"==\", rtpa), (\"period_year\", \">=\", MIN_YEAR)]],\n",
    "    )\n",
    "    .drop(\n",
    "        # updated columns names to match new df\n",
    "        columns=[\"mode\", \"tos\", \"execution_ts\"]\n",
    "    )\n",
    "    .rename(columns={\"Mode_full\": \"Mode\", \"TOS_full\": \"TOS\"})\n",
    ")"
   ]
  },
  {
   "cell_type": "code",
   "execution_count": null,
   "id": "79364807-66b3-4917-acd9-17230400dfab",
   "metadata": {},
   "outputs": [],
   "source": [
    "df.info()"
   ]
  },
  {
   "cell_type": "code",
   "execution_count": null,
   "id": "bf36cb45-9594-4b4f-a8f0-39be6e5a450c",
   "metadata": {},
   "outputs": [],
   "source": [
    "# REMOVE\n",
    "\n",
    "# find columns that are recent enough to plot\n",
    "# MIN_YEAR = 2018\n",
    "\n",
    "# might not need the rest of these\n",
    "# not_id_cols = [c for c in df.columns if \"/\" in c]\n",
    "\n",
    "# recent_years = [\n",
    "#    c for c in not_id_cols if int(c.split(\"/\")[1]) >= MIN_YEAR and\n",
    "#    \"pct\" not in c\n",
    "# ]\n",
    "\n",
    "# upt_cols = [\n",
    "#    c for c in recent_years if \"change\" not in c\n",
    "# ]\n",
    "\n",
    "# change_cols = [c for c in recent_years if \"change\" in c]"
   ]
  },
  {
   "cell_type": "code",
   "execution_count": null,
   "id": "804b1166-9261-4cb9-8bde-b5e0f95c628d",
   "metadata": {},
   "outputs": [],
   "source": [
    "# REMOVE\n",
    "\n",
    "# do i need this anymore?\n",
    "# what does the data look like initially? filters/groups the DF by the `group_cols` list, keeps the initial wide data\n",
    "\n",
    "# give this a try with current data NOPE!\n",
    "# def OLD_sum_by_group(df: pd.DataFrame, group_cols: list) -> pd.DataFrame:\n",
    "#    \"\"\"\n",
    "#    Since df is wide, use pivot_table() to sum up all\n",
    "#    the columns that show UPT.\n",
    "#    \"\"\"\n",
    "#    grouped_df = df.pivot_table(\n",
    "#        index = group_cols,\n",
    "#        values = \"upt\",\n",
    "#        aggfunc=\"sum\"\n",
    "#    ).reset_index().reindex(columns = group_cols + recent_years)\n",
    "\n",
    "#    return grouped_df\n",
    "\n",
    "\n",
    "# DONT THINK I NEED THIS ANYMORE!!!\n",
    "# def make_long(df: pd.DataFrame, group_cols: list, value_cols: list):\n",
    "#    df_long = df[group_cols + value_cols].melt(\n",
    "#        id_vars = group_cols,\n",
    "#        value_vars = value_cols,\n",
    "#    )\n",
    "\n",
    "#    df_long = df_long.assign(\n",
    "#        variable = df_long.variable.str.replace(\"change_1yr_\", \"\")\n",
    "#    )\n",
    "\n",
    "#    return df_long"
   ]
  },
  {
   "cell_type": "code",
   "execution_count": null,
   "id": "cfc7efc0-03b4-4917-8277-d897c8a1779e",
   "metadata": {},
   "outputs": [],
   "source": [
    "## MOVED FUNCTION TO SCRIPT, SO IT CAN BE USED BY save_rtpa_outputs\n",
    "\n",
    "# function is read in with imports\n",
    "\n",
    "# UPDATED AND TESTED, this works! gives the same results as the old old sum_by_group, make_long and assemble_long_df functions\n",
    "\n",
    "# def sum_by_group(\n",
    "#    df: pd.DataFrame,\n",
    "#    group_cols: list) -> pd.DataFrame:\n",
    "#    \"\"\"\n",
    "#    since data is now long to begin with, this replaces old sum_by_group, make_long and assemble_long_df functions.\n",
    "#    \"\"\"\n",
    "#    from TEST_monthly_ridership_by_rtpa import get_percent_change\n",
    "#    grouped_df = df.groupby(group_cols+\n",
    "#                             ['period_year',\n",
    "#                             'period_month',\n",
    "#                             'period_year_month']\n",
    "#                           ).agg({\n",
    "#        \"upt\":\"sum\",\n",
    "#        \"previous_y_m_upt\":\"sum\",\n",
    "#        \"change_1yr\":\"sum\"\n",
    "#    }\n",
    "#    ).reset_index()\n",
    "\n",
    "# get %change back\n",
    "#    grouped_df = get_percent_change(grouped_df)\n",
    "\n",
    "# decimal to whole number\n",
    "#    grouped_df[\"pct_change_1yr\"] = grouped_df[\"pct_change_1yr\"]*100\n",
    "\n",
    "#    return grouped_df"
   ]
  },
  {
   "cell_type": "code",
   "execution_count": null,
   "id": "f52e71b2-1ad8-4713-9500-9f97cbcfc2c2",
   "metadata": {},
   "outputs": [],
   "source": [
    "# REMOVE\n",
    "\n",
    "# takes the sum_by_group dfs and makes them long\n",
    "# unpivots the sum_by_group dfs, each row is a different year/month\n",
    "\n",
    "# DONT THINK I NEED THIS ANYMORE!!!\n",
    "# def assemble_long_df(df: pd.DataFrame, group_cols: list) -> pd.DataFrame:\n",
    "#    \"\"\"\n",
    "#    Need df to be long to make chart.\n",
    "#    Let's put raw UPT and change side-by-side.\n",
    "#    \"\"\"\n",
    "#    df_raw = make_long(df, group_cols, upt_cols).rename(\n",
    "#        columns = {\"value\": \"upt\"})\n",
    "#    df_change = make_long(df, group_cols, change_cols).rename(\n",
    "#        columns = {\"value\": \"change_1yr\"})\n",
    "\n",
    "#    final = pd.merge(\n",
    "#        df_raw,\n",
    "#        df_change,\n",
    "#        on = group_cols + [\"variable\"],\n",
    "#        how = \"left\"\n",
    "#    )\n",
    "\n",
    "#    final = final.assign(\n",
    "#        year = final.variable.str.split(\"/\", expand=True)[1],\n",
    "#        month = final.variable.str.split(\"/\", expand=True)[0].str.zfill(2)\n",
    "#    )\n",
    "\n",
    "#    final = final.assign(\n",
    "#        year_month = final.year + \"-\" + final.month\n",
    "#    )\n",
    "\n",
    "#    return final"
   ]
  },
  {
   "cell_type": "code",
   "execution_count": null,
   "id": "d8b92608-f81b-452b-916a-72285d67b392",
   "metadata": {},
   "outputs": [],
   "source": [
    "# KEEPING AS IS FOR NOW, BUT MAY NEED TO REWORK\n",
    "\n",
    "\n",
    "def remove_zero_upt_rows(df: pd.DataFrame) -> pd.DataFrame:\n",
    "    \"\"\"\n",
    "    takes the by_agency_long df, filters for rows with zero UPT AND zero change_1yr.\n",
    "    then removes these rows from the by_agency_long df.\n",
    "    resulting df should only contain rows with change in UPT not due to (0 UPT - 0 UPT) and net zero change in UPT\n",
    "    zero UPT and zero change_1yr occurs when (0 upt - 0upt = 0change), dont need to show this\n",
    "    but a net zero change (100upt - 100upt = 0 change), should be shown\n",
    "    \"\"\"\n",
    "\n",
    "    # df of rows with zero UPT for 2 years\n",
    "    zero_UPT_2years = df[(df[\"upt\"] == 0) & (df[\"change_1yr\"] == 0)]\n",
    "\n",
    "    merge = df.merge(zero_UPT_2years, how=\"left\", indicator=True)\n",
    "    no_zero_UPT_rows = (\n",
    "        merge[merge[\"_merge\"] == \"left_only\"]\n",
    "        .drop(columns=[\"_merge\"])\n",
    "        .dropna(subset=\"change_1yr\")\n",
    "    )\n",
    "\n",
    "    return no_zero_UPT_rows"
   ]
  },
  {
   "cell_type": "code",
   "execution_count": null,
   "id": "6db38c9c-47b8-4887-a9fc-cf82c2c4eea5",
   "metadata": {},
   "outputs": [],
   "source": [
    "def group_by_agency(df):\n",
    "    \"\"\"\n",
    "    Take in the 'by_ageny_long' df and aggregatese by rtpa, and calculates upt % of total.\n",
    "    To be used in pie chart\n",
    "    \"\"\"\n",
    "    initial_agg = df.groupby(\"agency\").agg(total_upt=(\"upt\", \"sum\")).reset_index()\n",
    "\n",
    "    # % total columns\n",
    "    initial_agg[\"pct_of_total_upt\"] = (\n",
    "        initial_agg[\"total_upt\"] / initial_agg[\"total_upt\"].sum()\n",
    "    ) * 100\n",
    "\n",
    "    # cleaning data types and rounding\n",
    "    initial_agg[\"total_upt\"] = initial_agg[\"total_upt\"].astype(\"int64\")\n",
    "    initial_agg[\"pct_of_total_upt\"] = initial_agg[\"pct_of_total_upt\"].round(decimals=2)\n",
    "    cleaned_agg = initial_agg.sort_values(by=\"total_upt\", ascending=False)\n",
    "\n",
    "    return cleaned_agg"
   ]
  },
  {
   "cell_type": "code",
   "execution_count": null,
   "id": "2d299cdb-21ba-4bf6-b6fb-3d64f02d59e5",
   "metadata": {},
   "outputs": [],
   "source": [
    "# NEW\n",
    "\n",
    "agency_cols = [\"ntd_id\", \"agency\", \"RTPA\"]\n",
    "mode_cols = [\"Mode\", \"RTPA\"]\n",
    "tos_cols = [\"TOS\", \"RTPA\"]\n",
    "\n",
    "# sum_by_group still works! now that it is imported!\n",
    "by_agency_long = sum_by_group(df, agency_cols)\n",
    "by_mode_long = sum_by_group(df, mode_cols)\n",
    "by_tos_long = sum_by_group(df, tos_cols)\n",
    "\n",
    "# zero upt still works!\n",
    "by_agency_long_no_zero_upt = remove_zero_upt_rows(by_agency_long)\n",
    "\n",
    "# total UPT check\n",
    "\n",
    "total_upt = by_agency_long[\"upt\"].sum()\n",
    "agency_count = by_agency_long[\"agency\"].nunique()\n",
    "\n",
    "\n",
    "agency_agg_yr = group_by_agency(by_agency_long)"
   ]
  },
  {
   "cell_type": "code",
   "execution_count": null,
   "id": "1bca9016-0024-44e0-b0a0-e11a313ca308",
   "metadata": {},
   "outputs": [],
   "source": [
    "# REMOVE\n",
    "\n",
    "# I STILL NEED FILTERED df BY AGENCY, MODE AND TOS\n",
    "\n",
    "# by_agency_long = assemble_long_df(by_agency, agency_cols)\n",
    "# by_mode_long = assemble_long_df(by_mode, mode_cols)\n",
    "# by_tos_long = assemble_long_df(by_tos, tos_cols)\n",
    "\n",
    "# by_agency_long_no_zero_upt = remove_zero_upt_rows(by_agency_long)"
   ]
  },
  {
   "cell_type": "code",
   "execution_count": null,
   "id": "1606b9e3-1311-40ea-aec8-1fa4ac0c2522",
   "metadata": {},
   "outputs": [],
   "source": [
    "LABELING_DICT = {\n",
    "    \"upt\": \"Unlinked Passenger Trips\",\n",
    "    \"change_1yr\": \"Change in Unlinked Passenger Trips from Prior Year\",\n",
    "    \"TOS\": \"Type of Service\",\n",
    "    \"year_month\": \"Date\",\n",
    "}\n",
    "\n",
    "\n",
    "def labeling(word: str) -> str:\n",
    "    return label_visualization(word, LABELING_DICT)\n",
    "\n",
    "\n",
    "WIDTH = 300\n",
    "HEIGHT = 150"
   ]
  },
  {
   "cell_type": "code",
   "execution_count": null,
   "id": "53510310-eaea-400d-af32-20f4c8773514",
   "metadata": {},
   "outputs": [],
   "source": [
    "def make_line_chart(\n",
    "    df: pd.DataFrame,\n",
    "    y_col: str,\n",
    "    color_col: str,\n",
    ") -> alt.Chart:\n",
    "    df = df[df[y_col] > 0].dropna(subset=y_col)\n",
    "\n",
    "    x_label = [\n",
    "        i\n",
    "        for i in df.period_year_month.unique()\n",
    "        if any(substring in i for substring in [\"-01\", \"-06\"])\n",
    "    ]\n",
    "    chart = (\n",
    "        (\n",
    "            alt.Chart(df)\n",
    "            .mark_line()\n",
    "            .encode(\n",
    "                x=alt.X(\n",
    "                    \"period_year_month:O\", axis=alt.Axis(values=x_label), title=\"Date\"\n",
    "                ),\n",
    "                y=alt.Y(y_col, title=labeling(y_col)),\n",
    "                color=alt.Color(\n",
    "                    color_col,\n",
    "                    title=\"\",\n",
    "                    scale=alt.Scale(\n",
    "                        range=cp.CALITP_CATEGORY_BRIGHT_COLORS\n",
    "                        + cp.CALITP_CATEGORY_BOLD_COLORS\n",
    "                    ),\n",
    "                ),\n",
    "                tooltip=[\"period_year_month\", y_col, color_col, \"RTPA\"],\n",
    "            )\n",
    "            .properties(width=WIDTH, height=HEIGHT)\n",
    "            .facet(color_col, columns=2, title=\"\")\n",
    "            .resolve_scale(y=\"independent\")\n",
    "        )\n",
    "        .properties(title=f\"{labeling(y_col)} by {labeling(color_col)}\")\n",
    "        .interactive()\n",
    "    )\n",
    "\n",
    "    return chart"
   ]
  },
  {
   "cell_type": "code",
   "execution_count": null,
   "id": "f59f697a-912a-4dfe-bcac-02c9fc50b55d",
   "metadata": {},
   "outputs": [],
   "source": [
    "def make_bar_chart(\n",
    "    df: pd.DataFrame,\n",
    "    y_col: str,\n",
    "    color_col: str,\n",
    ") -> alt.Chart:\n",
    "\n",
    "    def short_label(word):\n",
    "        shorten_dict = {\n",
    "            \"change_1yr\": \"Change\",\n",
    "            \"pct_change_1yr\": \"Change\",\n",
    "        }\n",
    "        return shorten_dict[word]\n",
    "\n",
    "    # For change column, we are missing everything prior to 2023\n",
    "    # df = df.dropna(subset = y_col)\n",
    "\n",
    "    # need flag for y_col >,<, 0, missing?\n",
    "    # count function to how many agencies fall in those categories, then look at those agencies\n",
    "    # present table\n",
    "\n",
    "    x_label = [\n",
    "        i\n",
    "        for i in df.period_year_month.unique()\n",
    "        if any(substring in i for substring in [\"-01\", \"-03\", \"-06\", \"-09\"])\n",
    "    ]\n",
    "\n",
    "    chart = (\n",
    "        (\n",
    "            alt.Chart(df)\n",
    "            .mark_bar()\n",
    "            .encode(\n",
    "                x=alt.X(\n",
    "                    \"period_year_month:O\", axis=alt.Axis(values=x_label), title=\"Date\"\n",
    "                ),\n",
    "                y=alt.Y(y_col, title=short_label(y_col)),\n",
    "                color=alt.Color(\n",
    "                    color_col,\n",
    "                    title=\"\",\n",
    "                    scale=alt.Scale(\n",
    "                        range=cp.CALITP_CATEGORY_BRIGHT_COLORS\n",
    "                        + cp.CALITP_CATEGORY_BOLD_COLORS\n",
    "                    ),\n",
    "                ),\n",
    "                tooltip=[\"period_year_month\", y_col, color_col, \"RTPA\"],\n",
    "            )\n",
    "            .properties(width=WIDTH, height=HEIGHT)\n",
    "            .facet(color_col, columns=2, title=\"\")\n",
    "            .resolve_scale(x=\"shared\", y=\"independent\")\n",
    "        )\n",
    "        .properties(title=f\"{labeling(y_col)} by {labeling(color_col)}\")\n",
    "        .interactive()\n",
    "    )\n",
    "\n",
    "    return chart"
   ]
  },
  {
   "cell_type": "code",
   "execution_count": null,
   "id": "118b82e3-59f7-4ad4-81da-208fbcfa8280",
   "metadata": {},
   "outputs": [],
   "source": [
    "### initial pie code\n",
    "def make_pie_chart(df, col, color_col):\n",
    "\n",
    "    pie = (\n",
    "        alt.Chart(df)\n",
    "        .mark_arc(radius=150)\n",
    "        .encode(\n",
    "            theta=col,\n",
    "            color=color_col,\n",
    "            tooltip=[\"agency\", \"total_upt\", \"pct_of_total_upt\"],\n",
    "        )\n",
    "        .properties(\n",
    "            title=f\"Total Unlinked Passenger Trips per agency in RTPA since {MIN_YEAR}\",\n",
    "        )\n",
    "    )\n",
    "\n",
    "    return pie"
   ]
  },
  {
   "cell_type": "code",
   "execution_count": null,
   "id": "413d77c9-b2cc-4847-9039-aa4d0caa64de",
   "metadata": {
    "tags": []
   },
   "outputs": [],
   "source": [
    "## moved to prod notebook 1/15/2025\n",
    "# simple bar chart for total agencies and UPT\n",
    "def total_upt_chart(df: pd.DataFrame, x_col: str, y_col: str, tool_tip: list):\n",
    "    bar_chart = (\n",
    "        alt.Chart(df)\n",
    "        .mark_bar()\n",
    "        .encode(\n",
    "            x=alt.X(x_col).sort(\"-y\"),\n",
    "            y=alt.Y(y_col),\n",
    "            tooltip=tool_tip,\n",
    "            color=alt.Color(\n",
    "                x_col,\n",
    "                title=\"\",\n",
    "                scale=alt.Scale(\n",
    "                    range=cp.CALITP_CATEGORY_BRIGHT_COLORS\n",
    "                    + cp.CALITP_CATEGORY_BOLD_COLORS\n",
    "                ),\n",
    "            ),\n",
    "        )\n",
    "        .properties(\n",
    "            title=f\"Total Unlinked Passenger Trips per agency in RTPA since {MIN_YEAR}\",\n",
    "            width=WIDTH,\n",
    "            height=HEIGHT,\n",
    "        )\n",
    "        .resolve_scale(y=\"independent\")\n",
    "        .interactive()\n",
    "    )\n",
    "\n",
    "    return bar_chart"
   ]
  },
  {
   "cell_type": "markdown",
   "id": "130b1309-910d-45ef-9a61-f0d15f2cbb96",
   "metadata": {},
   "source": [
    "### Totals"
   ]
  },
  {
   "cell_type": "code",
   "execution_count": null,
   "id": "e4214ddd-c5b6-407f-9287-0573669adf4f",
   "metadata": {},
   "outputs": [],
   "source": [
    "Markdown(\n",
    "    f\"\"\"\n",
    "Within {rtpa}:\n",
    "- Number of Agencies/Operators: <b>{agency_count}</b>.\n",
    "- Total Unlinked Passenger Trips since {MIN_YEAR}: <b>{total_upt:,}</b>.\n",
    "- Individual agency/operator ridership breakdown:\n",
    "\"\"\"\n",
    ")"
   ]
  },
  {
   "cell_type": "code",
   "execution_count": null,
   "id": "6b849d54-f0a5-47b1-84ef-a669c5258261",
   "metadata": {
    "tags": []
   },
   "outputs": [],
   "source": [
    "display(agency_agg_yr.reset_index(drop=True))"
   ]
  },
  {
   "cell_type": "code",
   "execution_count": null,
   "id": "2714c6eb-c1ea-4bbd-be69-cfc5dd16aa75",
   "metadata": {
    "tags": []
   },
   "outputs": [],
   "source": [
    "df_html = agency_agg_yr.reset_index(drop=True).to_html()\n",
    "\n",
    "print(df_html)"
   ]
  },
  {
   "cell_type": "code",
   "execution_count": null,
   "id": "38030feb-70e6-402f-8b77-3242076c0bc9",
   "metadata": {
    "tags": []
   },
   "outputs": [],
   "source": [
    "df_markdown = agency_agg_yr.reset_index(drop=True).to_markdown()\n",
    "\n",
    "print(df_markdown)"
   ]
  },
  {
   "cell_type": "code",
   "execution_count": null,
   "id": "7e5b1217-5c1d-4795-9eef-c25b245c9af3",
   "metadata": {},
   "outputs": [],
   "source": [
    "tooltip_list = [\"agency\", \"total_upt\", \"pct_of_total_upt\"]\n",
    "\n",
    "total_upt_chart(agency_agg_yr, x_col=\"agency\", y_col=\"total_upt\", tool_tip=tooltip_list)"
   ]
  },
  {
   "cell_type": "code",
   "execution_count": null,
   "id": "da59f86f-ba3c-4398-95ad-ad84e0ada732",
   "metadata": {},
   "outputs": [],
   "source": [
    "make_pie_chart(agency_agg_yr, col=\"total_upt\", color_col=\"agency\")"
   ]
  },
  {
   "cell_type": "markdown",
   "id": "ba59c380-aa2f-4fd2-a18b-f75e18074abc",
   "metadata": {},
   "source": [
    "### Transit Agency"
   ]
  },
  {
   "cell_type": "code",
   "execution_count": null,
   "id": "c068b244-f4c2-4ae7-9153-d2724ee9f5c2",
   "metadata": {},
   "outputs": [],
   "source": [
    "make_line_chart(by_agency_long, y_col=\"upt\", color_col=\"agency\")"
   ]
  },
  {
   "cell_type": "markdown",
   "id": "69a54f04-0a23-4715-95ae-3f00c96f4878",
   "metadata": {},
   "source": [
    "Change in Unlinked Passenger Trips from the prior year. For example, July 2023's change would be the change in July 2023's reported values against July 2022's reported values."
   ]
  },
  {
   "cell_type": "code",
   "execution_count": null,
   "id": "24462fe7-2af4-4023-9a88-0cc665ce763a",
   "metadata": {},
   "outputs": [],
   "source": [
    "# TEST OF BAR CHART WITH % CHANGE 1 YEAR\n",
    "make_bar_chart(\n",
    "    by_agency_long_no_zero_upt[by_agency_long_no_zero_upt[\"period_year\"] >= 2018],\n",
    "    y_col=\"pct_change_1yr\",\n",
    "    color_col=\"agency\",\n",
    ")"
   ]
  },
  {
   "cell_type": "code",
   "execution_count": null,
   "id": "ddd1a017-0907-4a9c-826d-edd958418c26",
   "metadata": {},
   "outputs": [],
   "source": [
    "make_bar_chart(\n",
    "    by_agency_long_no_zero_upt[by_agency_long_no_zero_upt[\"period_year\"] >= 2024],\n",
    "    y_col=\"change_1yr\",\n",
    "    color_col=\"agency\",\n",
    ")"
   ]
  },
  {
   "cell_type": "code",
   "execution_count": null,
   "id": "fd64bce0-577f-498e-9be8-4d664bfc47d1",
   "metadata": {},
   "outputs": [],
   "source": [
    "make_bar_chart(by_agency_long_no_zero_upt, y_col=\"change_1yr\", color_col=\"agency\")"
   ]
  },
  {
   "cell_type": "markdown",
   "id": "4d7db69c-9e51-4e1f-ac33-604a8afe4da5",
   "metadata": {},
   "source": [
    "### Transit Mode"
   ]
  },
  {
   "cell_type": "code",
   "execution_count": null,
   "id": "6d132a31-971d-44f2-a1aa-d60b2cf055f6",
   "metadata": {},
   "outputs": [],
   "source": [
    "make_line_chart(by_mode_long, y_col=\"upt\", color_col=\"Mode\")"
   ]
  },
  {
   "cell_type": "code",
   "execution_count": null,
   "id": "a2d861b0-6baa-4d7c-89eb-4b686a77ba3e",
   "metadata": {},
   "outputs": [],
   "source": [
    "make_bar_chart(\n",
    "    by_mode_long[by_mode_long[\"period_year\"] >= 2024],\n",
    "    y_col=\"change_1yr\",\n",
    "    color_col=\"Mode\",\n",
    ")"
   ]
  },
  {
   "cell_type": "markdown",
   "id": "1923cc1a-2e8c-471b-b578-a002fd27fe7f",
   "metadata": {},
   "source": [
    "### Type of Service"
   ]
  },
  {
   "cell_type": "code",
   "execution_count": null,
   "id": "e9999254-f07b-4041-a474-880a2b026434",
   "metadata": {},
   "outputs": [],
   "source": [
    "make_line_chart(by_tos_long, y_col=\"upt\", color_col=\"TOS\")"
   ]
  },
  {
   "cell_type": "code",
   "execution_count": null,
   "id": "3c147008-7d5f-473a-886b-65bbd030de5b",
   "metadata": {},
   "outputs": [],
   "source": [
    "make_bar_chart(\n",
    "    by_tos_long[by_tos_long[\"period_year\"] >= 2024], y_col=\"change_1yr\", color_col=\"TOS\"\n",
    ")"
   ]
  },
  {
   "cell_type": "code",
   "execution_count": null,
   "id": "ceee122d-99ba-4fc6-962e-d6182089d547",
   "metadata": {},
   "outputs": [],
   "source": []
  }
 ],
 "metadata": {
  "kernelspec": {
   "display_name": "Python 3 (ipykernel)",
   "language": "python",
   "name": "python3"
  },
  "language_info": {
   "codemirror_mode": {
    "name": "ipython",
    "version": 3
   },
   "file_extension": ".py",
   "mimetype": "text/x-python",
   "name": "python",
   "nbconvert_exporter": "python",
   "pygments_lexer": "ipython3",
   "version": "3.11.10"
  },
  "widgets": {
   "application/vnd.jupyter.widget-state+json": {
    "state": {},
    "version_major": 2,
    "version_minor": 0
   }
  }
 },
 "nbformat": 4,
 "nbformat_minor": 5
}
