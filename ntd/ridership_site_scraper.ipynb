{
 "cells": [
  {
   "cell_type": "code",
   "execution_count": 1,
   "id": "a9fab2a1-9b3c-4ce6-aed8-f4d6881861df",
   "metadata": {
    "tags": []
   },
   "outputs": [],
   "source": [
    "import requests\n",
    "from bs4 import BeautifulSoup"
   ]
  },
  {
   "cell_type": "markdown",
   "id": "e39af74e-48e6-4fb0-a32b-26913efa9b2c",
   "metadata": {},
   "source": [
    "## NTD Ridership Sites: extract URLs\n",
    "Notebook to grab all the links/urls from the riderships sites"
   ]
  },
  {
   "cell_type": "code",
   "execution_count": 53,
   "id": "7330a069-2b37-44cb-a8ab-e2c78ba6aced",
   "metadata": {
    "tags": []
   },
   "outputs": [],
   "source": [
    "def scrape_ridership_sites(monthly:str, annual:str):\n",
    "    \"\"\"\n",
    "    Function to list URLs from the monthly and annual ridership sites. The URL list will be used for email campaigns.\n",
    "    \"\"\"\n",
    "    monthly_url = monthly\n",
    "    annual_url = annual\n",
    "\n",
    "    # checking status codes for each site\n",
    "    response_m = requests.get(monthly_url)\n",
    "    \n",
    "    response_a = requests.get(annual_url)\n",
    "    \n",
    "    print(\n",
    "        f\"\"\"Monthly report status code: {response_m},\n",
    "        \\nAnnual report status code: {response_a}\"\"\"\n",
    "    )\n",
    "    \n",
    "    # create bs4 soup of both sites\n",
    "    monthly_soup = BeautifulSoup(response_m.content,\"html.parser\")\n",
    "    annual_soup = BeautifulSoup(response_a.content,\"html.parser\")\n",
    "    \n",
    "    # look for all <a> tags, with class_\"reference internal\", with a href attribute\n",
    "    links_m = monthly_soup.find_all(\"a\", class_=\"reference internal\", href=True)\n",
    "    links_a = annual_soup.find_all(\"a\", class_=\"reference internal\", href=True)\n",
    "    \n",
    "    # list comprehension. Make a list of just the href lines\n",
    "    monthly_link_list = [link[\"href\"] for link in links_m]\n",
    "    annual_link_list = [link[\"href\"] for link in links_a]\n",
    "     \n",
    "    print(\n",
    "        f\"\"\"\n",
    "        len of monthly links: {len(monthly_link_list)}\n",
    "        len of annual links: {len(annual_link_list)}\n",
    "        \\nRTPA path's from Monthly Report:\n",
    "        \\n{monthly_link_list},\n",
    "        \\nRTPA path's from Annual Report:\n",
    "        \\n{annual_link_list}\n",
    "        \"\"\"\n",
    "        )\n",
    "    "
   ]
  },
  {
   "cell_type": "code",
   "execution_count": 54,
   "id": "590adead-6d94-47f0-98ed-27b6e443f980",
   "metadata": {
    "tags": []
   },
   "outputs": [
    {
     "name": "stdout",
     "output_type": "stream",
     "text": [
      "Monthly report status code: <Response [200]>,\n",
      "        \n",
      "Annual report status code: <Response [200]>\n",
      "\n",
      "        len of monthly links: 26\n",
      "        len of annual links: 49\n",
      "        \n",
      "RTPA path's from Monthly Report:\n",
      "        \n",
      "['#', 'rtpa_butte-county-association-of-governments/00__monthly_ridership_report__rtpa_butte-county-association-of-governments.html', 'rtpa_el-dorado-county-transportation-commission/00__monthly_ridership_report__rtpa_el-dorado-county-transportation-commission.html', 'rtpa_fresno-council-of-governments/00__monthly_ridership_report__rtpa_fresno-council-of-governments.html', 'rtpa_imperial-county-transportation-commission/00__monthly_ridership_report__rtpa_imperial-county-transportation-commission.html', 'rtpa_kern-council-of-governments/00__monthly_ridership_report__rtpa_kern-council-of-governments.html', 'rtpa_kings-county-association-of-governments/00__monthly_ridership_report__rtpa_kings-county-association-of-governments.html', 'rtpa_los-angeles-county-metropolitan-transportation-authority/00__monthly_ridership_report__rtpa_los-angeles-county-metropolitan-transportation-authority.html', 'rtpa_merced-county-association-of-governments/00__monthly_ridership_report__rtpa_merced-county-association-of-governments.html', 'rtpa_metropolitan-transportation-commission/00__monthly_ridership_report__rtpa_metropolitan-transportation-commission.html', 'rtpa_orange-county-transportation-authority/00__monthly_ridership_report__rtpa_orange-county-transportation-authority.html', 'rtpa_placer-county-transportation-planning-agency/00__monthly_ridership_report__rtpa_placer-county-transportation-planning-agency.html', 'rtpa_riverside-county-transportation-commission/00__monthly_ridership_report__rtpa_riverside-county-transportation-commission.html', 'rtpa_sacramento-area-council-of-governments/00__monthly_ridership_report__rtpa_sacramento-area-council-of-governments.html', 'rtpa_san-bernardino-county-transportation-authority/00__monthly_ridership_report__rtpa_san-bernardino-county-transportation-authority.html', 'rtpa_san-diego-association-of-governments/00__monthly_ridership_report__rtpa_san-diego-association-of-governments.html', 'rtpa_san-joaquin-council-of-governments/00__monthly_ridership_report__rtpa_san-joaquin-council-of-governments.html', 'rtpa_san-luis-obispo-council-of-governments/00__monthly_ridership_report__rtpa_san-luis-obispo-council-of-governments.html', 'rtpa_santa-barbara-county-association-of-governments/00__monthly_ridership_report__rtpa_santa-barbara-county-association-of-governments.html', 'rtpa_santa-cruz-county-regional-transportation-commission/00__monthly_ridership_report__rtpa_santa-cruz-county-regional-transportation-commission.html', 'rtpa_shasta-regional-transportation-agency/00__monthly_ridership_report__rtpa_shasta-regional-transportation-agency.html', 'rtpa_stanislaus-council-of-governments/00__monthly_ridership_report__rtpa_stanislaus-council-of-governments.html', 'rtpa_tahoe-regional-planning-agency/00__monthly_ridership_report__rtpa_tahoe-regional-planning-agency.html', 'rtpa_transportation-agency-for-monterey-county/00__monthly_ridership_report__rtpa_transportation-agency-for-monterey-county.html', 'rtpa_tulare-county-association-of-governments/00__monthly_ridership_report__rtpa_tulare-county-association-of-governments.html', 'rtpa_ventura-county-transportation-commission/00__monthly_ridership_report__rtpa_ventura-county-transportation-commission.html'],\n",
      "        \n",
      "RTPA path's from Annual Report:\n",
      "        \n",
      "['#', 'rtpa_alpine-county-local-transportation-commission/00__annual_ridership_report__rtpa_alpine-county-local-transportation-commission.html', 'rtpa_amador-county-transportation-commission/00__annual_ridership_report__rtpa_amador-county-transportation-commission.html', 'rtpa_butte-county-association-of-governments/00__annual_ridership_report__rtpa_butte-county-association-of-governments.html', 'rtpa_calaveras-council-of-governments/00__annual_ridership_report__rtpa_calaveras-council-of-governments.html', 'rtpa_colusa-county-transportation-commission/00__annual_ridership_report__rtpa_colusa-county-transportation-commission.html', 'rtpa_council-of-san-benito-county-governments/00__annual_ridership_report__rtpa_council-of-san-benito-county-governments.html', 'rtpa_del-norte-local-transportation-commission/00__annual_ridership_report__rtpa_del-norte-local-transportation-commission.html', 'rtpa_el-dorado-county-transportation-commission/00__annual_ridership_report__rtpa_el-dorado-county-transportation-commission.html', 'rtpa_fresno-council-of-governments/00__annual_ridership_report__rtpa_fresno-council-of-governments.html', 'rtpa_glenn-county-transportation-commission/00__annual_ridership_report__rtpa_glenn-county-transportation-commission.html', 'rtpa_humboldt-county-association-of-governments/00__annual_ridership_report__rtpa_humboldt-county-association-of-governments.html', 'rtpa_imperial-county-transportation-commission/00__annual_ridership_report__rtpa_imperial-county-transportation-commission.html', 'rtpa_inyo-county-local-transportation-commission/00__annual_ridership_report__rtpa_inyo-county-local-transportation-commission.html', 'rtpa_kern-council-of-governments/00__annual_ridership_report__rtpa_kern-council-of-governments.html', 'rtpa_kings-county-association-of-governments/00__annual_ridership_report__rtpa_kings-county-association-of-governments.html', 'rtpa_lake-county-city-area-planning-council/00__annual_ridership_report__rtpa_lake-county-city-area-planning-council.html', 'rtpa_lassen-county-transportation-commission/00__annual_ridership_report__rtpa_lassen-county-transportation-commission.html', 'rtpa_los-angeles-county-department-of-public-works/00__annual_ridership_report__rtpa_los-angeles-county-department-of-public-works.html', 'rtpa_los-angeles-county-metropolitan-transportation-authority/00__annual_ridership_report__rtpa_los-angeles-county-metropolitan-transportation-authority.html', 'rtpa_madera-county-transportation-commission/00__annual_ridership_report__rtpa_madera-county-transportation-commission.html', 'rtpa_mariposa-county-local-transportation-commission/00__annual_ridership_report__rtpa_mariposa-county-local-transportation-commission.html', 'rtpa_mendocino-council-of-governments/00__annual_ridership_report__rtpa_mendocino-council-of-governments.html', 'rtpa_merced-county-association-of-governments/00__annual_ridership_report__rtpa_merced-county-association-of-governments.html', 'rtpa_metropolitan-transportation-commission/00__annual_ridership_report__rtpa_metropolitan-transportation-commission.html', 'rtpa_modoc-county-transportation-commission/00__annual_ridership_report__rtpa_modoc-county-transportation-commission.html', 'rtpa_nevada-county-transportation-commission/00__annual_ridership_report__rtpa_nevada-county-transportation-commission.html', 'rtpa_orange-county-transportation-authority/00__annual_ridership_report__rtpa_orange-county-transportation-authority.html', 'rtpa_placer-county-transportation-planning-agency/00__annual_ridership_report__rtpa_placer-county-transportation-planning-agency.html', 'rtpa_plumas-county-transportation-commission/00__annual_ridership_report__rtpa_plumas-county-transportation-commission.html', 'rtpa_riverside-county-transportation-commission/00__annual_ridership_report__rtpa_riverside-county-transportation-commission.html', 'rtpa_sacramento-area-council-of-governments/00__annual_ridership_report__rtpa_sacramento-area-council-of-governments.html', 'rtpa_san-bernardino-county-transportation-authority/00__annual_ridership_report__rtpa_san-bernardino-county-transportation-authority.html', 'rtpa_san-diego-association-of-governments/00__annual_ridership_report__rtpa_san-diego-association-of-governments.html', 'rtpa_san-joaquin-council-of-governments/00__annual_ridership_report__rtpa_san-joaquin-council-of-governments.html', 'rtpa_san-luis-obispo-council-of-governments/00__annual_ridership_report__rtpa_san-luis-obispo-council-of-governments.html', 'rtpa_santa-barbara-county-association-of-governments/00__annual_ridership_report__rtpa_santa-barbara-county-association-of-governments.html', 'rtpa_santa-cruz-county-regional-transportation-commission/00__annual_ridership_report__rtpa_santa-cruz-county-regional-transportation-commission.html', 'rtpa_shasta-regional-transportation-agency/00__annual_ridership_report__rtpa_shasta-regional-transportation-agency.html', 'rtpa_sierra-county-transportation-commission/00__annual_ridership_report__rtpa_sierra-county-transportation-commission.html', 'rtpa_siskiyou-county-local-transportation-commission/00__annual_ridership_report__rtpa_siskiyou-county-local-transportation-commission.html', 'rtpa_stanislaus-council-of-governments/00__annual_ridership_report__rtpa_stanislaus-council-of-governments.html', 'rtpa_tahoe-regional-planning-agency/00__annual_ridership_report__rtpa_tahoe-regional-planning-agency.html', 'rtpa_tehama-county-transportation-commission/00__annual_ridership_report__rtpa_tehama-county-transportation-commission.html', 'rtpa_transportation-agency-for-monterey-county/00__annual_ridership_report__rtpa_transportation-agency-for-monterey-county.html', 'rtpa_trinity-county-transportation-commission/00__annual_ridership_report__rtpa_trinity-county-transportation-commission.html', 'rtpa_tulare-county-association-of-governments/00__annual_ridership_report__rtpa_tulare-county-association-of-governments.html', 'rtpa_tuolumne-county-transportation-council/00__annual_ridership_report__rtpa_tuolumne-county-transportation-council.html', 'rtpa_ventura-county-transportation-commission/00__annual_ridership_report__rtpa_ventura-county-transportation-commission.html']\n",
      "        \n"
     ]
    }
   ],
   "source": [
    "scrape_ridership_sites(\n",
    "    monthly = \"https://analysis.dds.dot.ca.gov/ntd_monthly_ridership/README.html\",\n",
    "    annual = \"https://analysis.dds.dot.ca.gov/ntd_annual_ridership_report/README.html\"\n",
    ")"
   ]
  },
  {
   "cell_type": "markdown",
   "id": "eb31cdfd-21f6-4d69-9da5-952406763980",
   "metadata": {},
   "source": [
    "---"
   ]
  }
 ],
 "metadata": {
  "kernelspec": {
   "display_name": "Python 3 (ipykernel)",
   "language": "python",
   "name": "python3"
  },
  "language_info": {
   "codemirror_mode": {
    "name": "ipython",
    "version": 3
   },
   "file_extension": ".py",
   "mimetype": "text/x-python",
   "name": "python",
   "nbconvert_exporter": "python",
   "pygments_lexer": "ipython3",
   "version": "3.11.10"
  }
 },
 "nbformat": 4,
 "nbformat_minor": 5
}
