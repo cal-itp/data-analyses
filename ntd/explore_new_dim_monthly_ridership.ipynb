{
 "cells": [
  {
   "cell_type": "markdown",
   "id": "373677b3-721e-4cc4-b373-03867dab6efd",
   "metadata": {},
   "source": [
    "# Test reading in `dim_monthly_ntd_ridership_with_adjustments` from warehouse"
   ]
  },
  {
   "cell_type": "code",
   "execution_count": 1,
   "id": "6781e154-b5bf-482a-9682-7a70478378d2",
   "metadata": {},
   "outputs": [],
   "source": [
    "import pandas as pd\n",
    "from calitp_data_analysis.tables import tbls\n",
    "from siuba import _, collect, count, filter, show_query\n"
   ]
  },
  {
   "cell_type": "code",
   "execution_count": 2,
   "id": "d917c821-e6b0-4ab4-9b5f-d295db7e68ca",
   "metadata": {},
   "outputs": [],
   "source": [
    "pd.set_option(\"display.max_columns\", None)\n",
    "pd.set_option(\"display.max_rows\", None)"
   ]
  },
  {
   "cell_type": "code",
   "execution_count": 3,
   "id": "0cfb98aa-8ac1-4e19-97c0-fb6597893a2b",
   "metadata": {},
   "outputs": [],
   "source": [
    "monthly_ridership = (\n",
    "    tbls.mart_ntd.dim_monthly_ntd_ridership_with_adjustments() >> collect()\n",
    ")"
   ]
  },
  {
   "cell_type": "code",
   "execution_count": 4,
   "id": "5a3632e7-e1d7-47c2-b411-a094204a8a01",
   "metadata": {},
   "outputs": [
    {
     "data": {
      "text/plain": [
       "(610362, 21)"
      ]
     },
     "metadata": {},
     "output_type": "display_data"
    },
    {
     "data": {
      "text/html": [
       "<div>\n",
       "<style scoped>\n",
       "    .dataframe tbody tr th:only-of-type {\n",
       "        vertical-align: middle;\n",
       "    }\n",
       "\n",
       "    .dataframe tbody tr th {\n",
       "        vertical-align: top;\n",
       "    }\n",
       "\n",
       "    .dataframe thead th {\n",
       "        text-align: right;\n",
       "    }\n",
       "</style>\n",
       "<table border=\"1\" class=\"dataframe\">\n",
       "  <thead>\n",
       "    <tr style=\"text-align: right;\">\n",
       "      <th></th>\n",
       "      <th>uza_name</th>\n",
       "      <th>uace_cd</th>\n",
       "      <th>_dt</th>\n",
       "      <th>ts</th>\n",
       "      <th>ntd_id</th>\n",
       "      <th>year</th>\n",
       "      <th>reporter_type</th>\n",
       "      <th>agency</th>\n",
       "      <th>mode_type_of_service_status</th>\n",
       "      <th>mode</th>\n",
       "      <th>service_type</th>\n",
       "      <th>_3_mode</th>\n",
       "      <th>tos</th>\n",
       "      <th>legacy_ntd_id</th>\n",
       "      <th>period_year_month</th>\n",
       "      <th>period_year</th>\n",
       "      <th>period_month</th>\n",
       "      <th>upt</th>\n",
       "      <th>vrm</th>\n",
       "      <th>vrh</th>\n",
       "      <th>voms</th>\n",
       "    </tr>\n",
       "  </thead>\n",
       "  <tbody>\n",
       "    <tr>\n",
       "      <th>0</th>\n",
       "      <td>Miami--Fort Lauderdale, FL</td>\n",
       "      <td>56602</td>\n",
       "      <td>2024-05-06</td>\n",
       "      <td>2024-05-06 22:08:22.483961+00:00</td>\n",
       "      <td>40034</td>\n",
       "      <td>2024</td>\n",
       "      <td>Full Reporter</td>\n",
       "      <td>County of Miami-Dade</td>\n",
       "      <td>Inactive</td>\n",
       "      <td>AG</td>\n",
       "      <td>Fixed Route</td>\n",
       "      <td>Rail</td>\n",
       "      <td>DO</td>\n",
       "      <td>4034</td>\n",
       "      <td>2013-01</td>\n",
       "      <td>2013</td>\n",
       "      <td>1</td>\n",
       "      <td>0</td>\n",
       "      <td>0</td>\n",
       "      <td>0</td>\n",
       "      <td>0</td>\n",
       "    </tr>\n",
       "    <tr>\n",
       "      <th>1</th>\n",
       "      <td>Miami--Fort Lauderdale, FL</td>\n",
       "      <td>56602</td>\n",
       "      <td>2024-05-06</td>\n",
       "      <td>2024-05-06 22:08:22.483961+00:00</td>\n",
       "      <td>40034</td>\n",
       "      <td>2024</td>\n",
       "      <td>Full Reporter</td>\n",
       "      <td>County of Miami-Dade</td>\n",
       "      <td>Inactive</td>\n",
       "      <td>AG</td>\n",
       "      <td>Fixed Route</td>\n",
       "      <td>Rail</td>\n",
       "      <td>DO</td>\n",
       "      <td>4034</td>\n",
       "      <td>2020-05</td>\n",
       "      <td>2020</td>\n",
       "      <td>5</td>\n",
       "      <td>0</td>\n",
       "      <td>0</td>\n",
       "      <td>0</td>\n",
       "      <td>0</td>\n",
       "    </tr>\n",
       "    <tr>\n",
       "      <th>2</th>\n",
       "      <td>Miami--Fort Lauderdale, FL</td>\n",
       "      <td>56602</td>\n",
       "      <td>2024-05-06</td>\n",
       "      <td>2024-05-06 22:08:22.483961+00:00</td>\n",
       "      <td>40034</td>\n",
       "      <td>2024</td>\n",
       "      <td>Full Reporter</td>\n",
       "      <td>County of Miami-Dade</td>\n",
       "      <td>Inactive</td>\n",
       "      <td>AG</td>\n",
       "      <td>Fixed Route</td>\n",
       "      <td>Rail</td>\n",
       "      <td>DO</td>\n",
       "      <td>4034</td>\n",
       "      <td>2006-04</td>\n",
       "      <td>2006</td>\n",
       "      <td>4</td>\n",
       "      <td>701883</td>\n",
       "      <td>89706</td>\n",
       "      <td>8795</td>\n",
       "      <td>15</td>\n",
       "    </tr>\n",
       "  </tbody>\n",
       "</table>\n",
       "</div>"
      ],
      "text/plain": [
       "                     uza_name uace_cd         _dt  \\\n",
       "0  Miami--Fort Lauderdale, FL   56602  2024-05-06   \n",
       "1  Miami--Fort Lauderdale, FL   56602  2024-05-06   \n",
       "2  Miami--Fort Lauderdale, FL   56602  2024-05-06   \n",
       "\n",
       "                                ts ntd_id  year  reporter_type  \\\n",
       "0 2024-05-06 22:08:22.483961+00:00  40034  2024  Full Reporter   \n",
       "1 2024-05-06 22:08:22.483961+00:00  40034  2024  Full Reporter   \n",
       "2 2024-05-06 22:08:22.483961+00:00  40034  2024  Full Reporter   \n",
       "\n",
       "                  agency mode_type_of_service_status mode service_type  \\\n",
       "0  County of Miami-Dade                     Inactive   AG  Fixed Route   \n",
       "1  County of Miami-Dade                     Inactive   AG  Fixed Route   \n",
       "2  County of Miami-Dade                     Inactive   AG  Fixed Route   \n",
       "\n",
       "  _3_mode tos legacy_ntd_id period_year_month period_year period_month  \\\n",
       "0    Rail  DO          4034           2013-01        2013            1   \n",
       "1    Rail  DO          4034           2020-05        2020            5   \n",
       "2    Rail  DO          4034           2006-04        2006            4   \n",
       "\n",
       "      upt    vrm   vrh  voms  \n",
       "0       0      0     0     0  \n",
       "1       0      0     0     0  \n",
       "2  701883  89706  8795    15  "
      ]
     },
     "metadata": {},
     "output_type": "display_data"
    }
   ],
   "source": [
    "# what is in this table?\n",
    "# all states\n",
    "display(\n",
    "    monthly_ridership.shape,\n",
    "    # monthly_ridership.info,\n",
    "    monthly_ridership.head(3),\n",
    ")"
   ]
  },
  {
   "cell_type": "code",
   "execution_count": 5,
   "id": "ae4ecb7e-6642-453b-b2fc-b8df4b7c00f6",
   "metadata": {},
   "outputs": [
    {
     "name": "stdout",
     "output_type": "stream",
     "text": [
      "uza_name                                    object\n",
      "uace_cd                                     object\n",
      "_dt                                         object\n",
      "ts                             datetime64[ns, UTC]\n",
      "ntd_id                                      object\n",
      "year                                         int64\n",
      "reporter_type                               object\n",
      "agency                                      object\n",
      "mode_type_of_service_status                 object\n",
      "mode                                        object\n",
      "service_type                                object\n",
      "_3_mode                                     object\n",
      "tos                                         object\n",
      "legacy_ntd_id                               object\n",
      "period_year_month                           object\n",
      "period_year                                 object\n",
      "period_month                                object\n",
      "upt                                          int64\n",
      "vrm                                          int64\n",
      "vrh                                          int64\n",
      "voms                                         int64\n",
      "dtype: object\n"
     ]
    }
   ],
   "source": [
    "print(monthly_ridership.dtypes)"
   ]
  },
  {
   "cell_type": "code",
   "execution_count": 7,
   "id": "1168de76-b3c6-41f2-8738-e2ad6cdaeec0",
   "metadata": {},
   "outputs": [
    {
     "data": {
      "text/plain": [
       "1602"
      ]
     },
     "execution_count": 7,
     "metadata": {},
     "output_type": "execute_result"
    }
   ],
   "source": [
    "# are there NaN values in uza name?\n",
    "monthly_ridership[\"uza_name\"].isna().sum()"
   ]
  },
  {
   "cell_type": "code",
   "execution_count": 8,
   "id": "a61d04d9-c691-4841-b8d1-785357bc3a7f",
   "metadata": {},
   "outputs": [],
   "source": [
    "# fill the NaN values with something\n",
    "monthly_ridership[\"uza_name\"].fillna(\"none\", inplace=True)"
   ]
  },
  {
   "cell_type": "code",
   "execution_count": 9,
   "id": "1448f404-1cbd-44cb-b485-4864f9c766f1",
   "metadata": {},
   "outputs": [
    {
     "data": {
      "text/plain": [
       "0"
      ]
     },
     "execution_count": 9,
     "metadata": {},
     "output_type": "execute_result"
    }
   ],
   "source": [
    "# double check for na\n",
    "monthly_ridership[\"uza_name\"].isna().sum()"
   ]
  },
  {
   "cell_type": "code",
   "execution_count": 65,
   "id": "1eee5c92-9f26-4775-9db3-dae615a744ea",
   "metadata": {},
   "outputs": [
    {
     "data": {
      "text/plain": [
       "(91047, 21)"
      ]
     },
     "metadata": {},
     "output_type": "display_data"
    },
    {
     "data": {
      "text/plain": [
       "Los Angeles--Long Beach--Anaheim, CA             19224\n",
       "San Francisco--Oakland, CA                       10680\n",
       "Sacramento, CA                                    8277\n",
       "San Diego, CA                                     6141\n",
       "Riverside--San Bernardino, CA                     3738\n",
       "Stockton, CA                                      2937\n",
       "Vallejo, CA                                       2136\n",
       "Seaside--Monterey--Pacific Grove, CA              1869\n",
       "Santa Rosa, CA                                    1869\n",
       "Lake Tahoe, CA-NV                                 1869\n",
       "Modesto, CA                                       1869\n",
       "San Luis Obispo, CA                               1602\n",
       "Palmdale--Lancaster, CA                           1602\n",
       "Hanford, CA                                       1335\n",
       "San Jose, CA                                      1335\n",
       "Santa Cruz, CA                                    1335\n",
       "Visalia, CA                                       1335\n",
       "Oxnard--San Buenaventura (Ventura), CA            1335\n",
       "Indio--Palm Desert--Palm Springs, CA              1068\n",
       "Santa Barbara, CA                                 1068\n",
       "Antioch, CA                                       1068\n",
       "Victorville--Hesperia--Apple Valley, CA           1068\n",
       "Fairfield, CA                                     1068\n",
       "Vacaville, CA                                     1068\n",
       "Chico, CA                                         1068\n",
       "El Centro, CA                                     1068\n",
       "Santa Clarita, CA                                  801\n",
       "Redding, CA                                        801\n",
       "Merced, CA                                         801\n",
       "Concord--Walnut Creek, CA                          801\n",
       "Yuba City, CA                                      801\n",
       "Napa, CA                                           801\n",
       "Lompoc, CA                                         801\n",
       "Tulare, CA                                         534\n",
       "Turlock, CA                                        534\n",
       "Porterville, CA                                    534\n",
       "Petaluma, CA                                       534\n",
       "Bakersfield, CA                                    534\n",
       "Lodi, CA                                           534\n",
       "Thousand Oaks, CA                                  534\n",
       "Livermore--Pleasanton--Dublin, CA                  534\n",
       "Santa Maria, CA                                    534\n",
       "Simi Valley, CA                                    534\n",
       "Fresno, CA                                         534\n",
       "Mission Viejo--Lake Forest--Laguna Niguel, CA      267\n",
       "Davis, CA                                          267\n",
       "Name: uza_name, dtype: int64"
      ]
     },
     "metadata": {},
     "output_type": "display_data"
    }
   ],
   "source": [
    "# can i filter by uza CA? YES\n",
    "uza_ca = monthly_ridership[monthly_ridership[\"uza_name\"].str.contains(\", CA\")]\n",
    "display(\n",
    "    uza_ca.shape,\n",
    "    uza_ca[\"uza_name\"].value_counts()\n",
    ")"
   ]
  },
  {
   "cell_type": "code",
   "execution_count": 25,
   "id": "54846a09-0964-43f9-9e7a-ea2f82b4c3dd",
   "metadata": {},
   "outputs": [
    {
     "data": {
      "text/plain": [
       "(1869, 21)"
      ]
     },
     "metadata": {},
     "output_type": "display_data"
    },
    {
     "data": {
      "text/plain": [
       "Index(['uza_name', 'uace_cd', '_dt', 'ts', 'ntd_id', 'year', 'reporter_type',\n",
       "       'agency', 'mode_type_of_service_status', 'mode', 'service_type',\n",
       "       '_3_mode', 'tos', 'legacy_ntd_id', 'period_year_month', 'period_year',\n",
       "       'period_month', 'upt', 'vrm', 'vrh', 'voms'],\n",
       "      dtype='object')"
      ]
     },
     "metadata": {},
     "output_type": "display_data"
    }
   ],
   "source": [
    "# where are the UTP values? the UTP page for this table used to be very wide\n",
    "# look at a specific agency by ntd id, LA Metro \"9154\"\n",
    "# what is the dtype of ntd_id... its object, so use str.contrains\n",
    "la_metro = monthly_ridership[monthly_ridership[\"ntd_id\"] == \"90154\"]\n",
    "display(la_metro.shape, la_metro.columns)"
   ]
  },
  {
   "cell_type": "code",
   "execution_count": 36,
   "id": "47ccb201-29b0-4156-b6bf-d76298fc3427",
   "metadata": {},
   "outputs": [],
   "source": [
    "# filter la_metro data to only see current and previous year (2024 and 2023)\n",
    "\n",
    "la_2324 = la_metro[la_metro[\"period_year\"].isin([\"2023\", \"2024\"])]"
   ]
  },
  {
   "cell_type": "code",
   "execution_count": 53,
   "id": "e59c8dc1-e303-489c-a44b-394685737fa0",
   "metadata": {},
   "outputs": [
    {
     "data": {
      "text/html": [
       "<div>\n",
       "<style scoped>\n",
       "    .dataframe tbody tr th:only-of-type {\n",
       "        vertical-align: middle;\n",
       "    }\n",
       "\n",
       "    .dataframe tbody tr th {\n",
       "        vertical-align: top;\n",
       "    }\n",
       "\n",
       "    .dataframe thead th {\n",
       "        text-align: right;\n",
       "    }\n",
       "</style>\n",
       "<table border=\"1\" class=\"dataframe\">\n",
       "  <thead>\n",
       "    <tr style=\"text-align: right;\">\n",
       "      <th></th>\n",
       "      <th>period_year_month</th>\n",
       "      <th>mode</th>\n",
       "      <th>tos</th>\n",
       "      <th>upt</th>\n",
       "    </tr>\n",
       "  </thead>\n",
       "  <tbody>\n",
       "    <tr>\n",
       "      <th>285539</th>\n",
       "      <td>2024-03</td>\n",
       "      <td>DR</td>\n",
       "      <td>DO</td>\n",
       "      <td>62325</td>\n",
       "    </tr>\n",
       "    <tr>\n",
       "      <th>320379</th>\n",
       "      <td>2024-03</td>\n",
       "      <td>HR</td>\n",
       "      <td>DO</td>\n",
       "      <td>1874721</td>\n",
       "    </tr>\n",
       "    <tr>\n",
       "      <th>330324</th>\n",
       "      <td>2024-03</td>\n",
       "      <td>LR</td>\n",
       "      <td>DO</td>\n",
       "      <td>3842909</td>\n",
       "    </tr>\n",
       "    <tr>\n",
       "      <th>531362</th>\n",
       "      <td>2024-03</td>\n",
       "      <td>MB</td>\n",
       "      <td>DO</td>\n",
       "      <td>18852906</td>\n",
       "    </tr>\n",
       "    <tr>\n",
       "      <th>531852</th>\n",
       "      <td>2024-03</td>\n",
       "      <td>MB</td>\n",
       "      <td>PT</td>\n",
       "      <td>925436</td>\n",
       "    </tr>\n",
       "    <tr>\n",
       "      <th>554507</th>\n",
       "      <td>2024-03</td>\n",
       "      <td>RB</td>\n",
       "      <td>DO</td>\n",
       "      <td>380625</td>\n",
       "    </tr>\n",
       "    <tr>\n",
       "      <th>604674</th>\n",
       "      <td>2024-03</td>\n",
       "      <td>VP</td>\n",
       "      <td>PT</td>\n",
       "      <td>125149</td>\n",
       "    </tr>\n",
       "  </tbody>\n",
       "</table>\n",
       "</div>"
      ],
      "text/plain": [
       "       period_year_month mode tos       upt\n",
       "285539           2024-03   DR  DO     62325\n",
       "320379           2024-03   HR  DO   1874721\n",
       "330324           2024-03   LR  DO   3842909\n",
       "531362           2024-03   MB  DO  18852906\n",
       "531852           2024-03   MB  PT    925436\n",
       "554507           2024-03   RB  DO    380625\n",
       "604674           2024-03   VP  PT    125149"
      ]
     },
     "execution_count": 53,
     "metadata": {},
     "output_type": "execute_result"
    }
   ],
   "source": [
    "# does this 23/24 data match whats in the NTD report? YES\n",
    "# confirm that data is now long instead of wide\n",
    "la_2324[la_2324[\"period_year_month\"] == \"2024-03\"][\n",
    "    [\"period_year_month\", \"mode\", \"tos\", \"upt\"]\n",
    "].sort_values(by=\"period_year_month\", ascending=True)"
   ]
  },
  {
   "cell_type": "code",
   "execution_count": 57,
   "id": "3e01f75a-6c8d-468f-a6a0-75c15dc10cb7",
   "metadata": {},
   "outputs": [],
   "source": [
    "# how to modify the `produce_ntd_monthly_ridership_by_rtpa` function\n",
    "\n",
    "full_upt = (tbls.mart_ntd.dim_monthly_ntd_ridership_with_adjustments() >> collect()).rename(columns = {\"mode_type_of_service_status\": \"Status\"})\n"
   ]
  },
  {
   "cell_type": "code",
   "execution_count": 59,
   "id": "e97a71c1-30ed-4f31-b786-38e3ed36fe47",
   "metadata": {},
   "outputs": [
    {
     "data": {
      "text/plain": [
       "(610362, 21)"
      ]
     },
     "metadata": {},
     "output_type": "display_data"
    },
    {
     "data": {
      "text/plain": [
       "Index(['uza_name', 'uace_cd', '_dt', 'ts', 'ntd_id', 'year', 'reporter_type',\n",
       "       'agency', 'Status', 'mode', 'service_type', '_3_mode', 'tos',\n",
       "       'legacy_ntd_id', 'period_year_month', 'period_year', 'period_month',\n",
       "       'upt', 'vrm', 'vrh', 'voms'],\n",
       "      dtype='object')"
      ]
     },
     "metadata": {},
     "output_type": "display_data"
    }
   ],
   "source": [
    "display(\n",
    "    full_upt.shape,\n",
    "    full_upt.columns\n",
    ")"
   ]
  },
  {
   "cell_type": "code",
   "execution_count": 60,
   "id": "e016134a-ee29-4334-b86c-a5c193cfcdfe",
   "metadata": {},
   "outputs": [],
   "source": [
    "full_upt = full_upt[full_upt.agency.notna()].reset_index(drop=True)"
   ]
  },
  {
   "cell_type": "code",
   "execution_count": 61,
   "id": "e2e9b3c9-5b3c-40cb-baef-4ae040e70d87",
   "metadata": {},
   "outputs": [
    {
     "data": {
      "text/plain": [
       "(610362, 21)"
      ]
     },
     "execution_count": 61,
     "metadata": {},
     "output_type": "execute_result"
    }
   ],
   "source": [
    "full_upt.shape"
   ]
  },
  {
   "cell_type": "code",
   "execution_count": 63,
   "id": "60212a85-a77d-43c1-9795-da3e6cfbe487",
   "metadata": {},
   "outputs": [],
   "source": [
    "ca = full_upt[(full_upt[\"uza_name\"].str.contains(\", CA\")) & \n",
    "            (full_upt.agency.notna())].reset_index(drop=True)"
   ]
  },
  {
   "cell_type": "code",
   "execution_count": 64,
   "id": "f5657e17-d1ea-42ca-a10f-6f4e1c064907",
   "metadata": {},
   "outputs": [
    {
     "data": {
      "text/plain": [
       "(91047, 21)"
      ]
     },
     "execution_count": 64,
     "metadata": {},
     "output_type": "execute_result"
    }
   ],
   "source": [
    "ca.shape"
   ]
  },
  {
   "cell_type": "code",
   "execution_count": 73,
   "id": "28a6cf03-16cd-454e-9702-ea893846899c",
   "metadata": {},
   "outputs": [
    {
     "data": {
      "text/plain": [
       "Index(['ntd_id', 'Legacy NTD ID', 'Agency', 'UZA Name', 'RTPA_open_data',\n",
       "       'RTPA'],\n",
       "      dtype='object')"
      ]
     },
     "execution_count": 73,
     "metadata": {},
     "output_type": "execute_result"
    }
   ],
   "source": [
    "crosswalk = pd.read_csv(\n",
    "        f\"gs://calitp-analytics-data/data-analyses/ntd/ntd_id_rtpa_crosswalk.csv\", \n",
    "        dtype = {\"NTD ID\": \"str\"}\n",
    "    #have to rename NTD ID col to match the dim table\n",
    "    ).rename(columns={\"NTD ID\": \"ntd_id\"})\n",
    "    \n",
    "crosswalk.columns"
   ]
  },
  {
   "cell_type": "code",
   "execution_count": 76,
   "id": "81595778-26cc-40b3-a8f8-383bc701241e",
   "metadata": {},
   "outputs": [
    {
     "name": "stdout",
     "output_type": "stream",
     "text": [
      "both          91047\n",
      "left_only         0\n",
      "right_only        0\n",
      "Name: _merge, dtype: int64\n"
     ]
    }
   ],
   "source": [
    "df = pd.merge(\n",
    "        ca,\n",
    "        # Merging on too many columns can create problems \n",
    "        # because csvs and dtypes aren't stable / consistent \n",
    "        # for NTD ID, Legacy NTD ID, and UZA\n",
    "        crosswalk[[\"ntd_id\", \"RTPA\"]],\n",
    "        #change on = value to ntd_id\n",
    "        on = \"ntd_id\",\n",
    "        how = \"left\",\n",
    "        indicator = True\n",
    "    )\n",
    "    \n",
    "print(df._merge.value_counts())"
   ]
  },
  {
   "cell_type": "code",
   "execution_count": 92,
   "id": "1a4b22dd-7614-4384-977a-abdaeac2c37b",
   "metadata": {},
   "outputs": [],
   "source": [
    "# updated to match new year-month format \n",
    "\n",
    "def add_change_columns(\n",
    "    df: pd.DataFrame,\n",
    "    year: int,\n",
    "    month: int\n",
    ") -> pd.DataFrame:\n",
    "    \"\"\"\n",
    "    \"\"\"    \n",
    "    ntd_month_col = f\"{year}-{month}\"\n",
    "    prior_year_col = f\"{int(year)-1}-{month}\"\n",
    "        \n",
    "    df[f\"change_1yr_{ntd_month_col}\"] = df[ntd_month_col] - df[prior_year_col]\n",
    "    df = get_percent_change(df, ntd_month_col, prior_year_col)\n",
    "    \n",
    "    return df"
   ]
  },
  {
   "cell_type": "code",
   "execution_count": 94,
   "id": "fcea83ac-ce3f-449a-93c8-0fb755472c8c",
   "metadata": {},
   "outputs": [],
   "source": [
    "from shared_utils.rt_dates import MONTH_DICT\n",
    "from update_vars import GCS_FILE_PATH, NTD_MODES, NTD_TOS, YEAR, MONTH\n",
    "\n",
    "# final updated  `produce_ntd_monthly_ridership_by_rtpa` function.\n",
    "# may not need the upt_url\n",
    "\n",
    "def produce_ntd_monthly_ridership_by_rtpa(\n",
    "    #upt_url: str,\n",
    "    year: int,\n",
    "    month: str\n",
    ") -> pd.DataFrame:\n",
    "    \"\"\"\n",
    "    Import NTD data from url, filter to CA, \n",
    "    merge in crosswalk, and save individual csvs.\n",
    "    \"\"\"\n",
    "    full_upt = (tbls.mart_ntd.dim_monthly_ntd_ridership_with_adjustments() >> collect()\n",
    "               ).rename(columns = {\"mode_type_of_service_status\": \"Status\"})\n",
    "    \n",
    "    full_upt = full_upt[full_upt.agency.notna()].reset_index(drop=True)\n",
    "    #full_upt.to_parquet(\n",
    "    #    f\"{GCS_FILE_PATH}ntd_monthly_ridership_{year}_{month}.parquet\"\n",
    "    #)\n",
    "    ca = full_upt[(full_upt[\"uza_name\"].str.contains(\", CA\")) & \n",
    "            (full_upt.agency.notna())].reset_index(drop=True)\n",
    "    \n",
    "    crosswalk = pd.read_csv(\n",
    "        f\"gs://calitp-analytics-data/data-analyses/ntd/ntd_id_rtpa_crosswalk.csv\", \n",
    "        dtype = {\"NTD ID\": \"str\"}\n",
    "    #have to rename NTD ID col to match the dim table\n",
    "    ).rename(columns={\"NTD ID\": \"ntd_id\"})\n",
    "    \n",
    "    df = pd.merge(\n",
    "        ca,\n",
    "        # Merging on too many columns can create problems \n",
    "        # because csvs and dtypes aren't stable / consistent \n",
    "        # for NTD ID, Legacy NTD ID, and UZA\n",
    "        crosswalk[[\"ntd_id\", \"RTPA\"]],\n",
    "        #change on = value to ntd_id\n",
    "        on = \"ntd_id\",\n",
    "        how = \"left\",\n",
    "        indicator = True\n",
    "    )\n",
    "    \n",
    "    print(df._merge.value_counts())\n",
    "    \n",
    "    # Good, everything merged, as we want\n",
    "    if len(df[df._merge==\"left_only\"]) > 0:\n",
    "        raise ValueError(\"There are unmerged rows to crosswalk\")\n",
    "        \n",
    "    # Add new columns    \n",
    "   # reversed_months = {v:k for k, v in MONTH_DICT.items()}\n",
    "    \n",
    "    for m in range(1, reversed_months[month] + 1):\n",
    "        df = add_change_columns(df, year, m)\n",
    "    \n",
    "    df = df.assign(\n",
    "        Mode_full = df.Mode.map(NTD_MODES),\n",
    "        TOS_full = df.TOS.map(NTD_TOS)\n",
    "    )\n",
    "    \n",
    "    return df\n"
   ]
  },
  {
   "cell_type": "code",
   "execution_count": 91,
   "id": "47659153-04e8-4cf1-bde9-a1b7c2903c1e",
   "metadata": {},
   "outputs": [
    {
     "data": {
      "text/plain": [
       "2002-12    341\n",
       "2010-10    341\n",
       "2006-12    341\n",
       "2023-08    341\n",
       "2008-02    341\n",
       "Name: period_year_month, dtype: int64"
      ]
     },
     "execution_count": 91,
     "metadata": {},
     "output_type": "execute_result"
    }
   ],
   "source": [
    "ca[\"period_year_month\"].value_counts().head()"
   ]
  },
  {
   "cell_type": "markdown",
   "id": "68d82320-64ac-4083-bb7f-9c770939ef31",
   "metadata": {},
   "source": [
    "---\n",
    "## Do I need `reserved_months` anymore?\n",
    "RE: produce_ntd_monthly_ridership_by_rtpa function.\n",
    "\n",
    "\n",
    "Since the new table uses a `yyyy-mm` format now. i dont think i need the revesre months anymore. what else needs to change to the the function working again."
   ]
  },
  {
   "cell_type": "code",
   "execution_count": 87,
   "id": "eaa54198-aa30-4a44-9596-a5d167c7e476",
   "metadata": {},
   "outputs": [],
   "source": [
    "# do i need reversed_months anymore?\n",
    "\n",
    "reversed_months = {v:k for k, v in MONTH_DICT.items()}"
   ]
  },
  {
   "cell_type": "code",
   "execution_count": 88,
   "id": "fb6d0429-85d5-4d91-8e1d-ee6460644e02",
   "metadata": {},
   "outputs": [
    {
     "data": {
      "text/plain": [
       "{'January': 1,\n",
       " 'February': 2,\n",
       " 'March': 3,\n",
       " 'April': 4,\n",
       " 'May': 5,\n",
       " 'June': 6,\n",
       " 'July': 7,\n",
       " 'August': 8,\n",
       " 'September': 9,\n",
       " 'October': 10,\n",
       " 'November': 11,\n",
       " 'December': 12}"
      ]
     },
     "execution_count": 88,
     "metadata": {},
     "output_type": "execute_result"
    }
   ],
   "source": [
    "reversed_months"
   ]
  },
  {
   "cell_type": "code",
   "execution_count": 97,
   "id": "17b2d920-caed-49f6-a047-3293d0698a9a",
   "metadata": {},
   "outputs": [
    {
     "name": "stdout",
     "output_type": "stream",
     "text": [
      "both          91047\n",
      "left_only         0\n",
      "right_only        0\n",
      "Name: _merge, dtype: int64\n"
     ]
    },
    {
     "ename": "KeyError",
     "evalue": "'03'",
     "output_type": "error",
     "traceback": [
      "\u001b[0;31m---------------------------------------------------------------------------\u001b[0m",
      "\u001b[0;31mKeyError\u001b[0m                                  Traceback (most recent call last)",
      "Cell \u001b[0;32mIn[97], line 1\u001b[0m\n\u001b[0;32m----> 1\u001b[0m \u001b[43mproduce_ntd_monthly_ridership_by_rtpa\u001b[49m\u001b[43m(\u001b[49m\u001b[43myear\u001b[49m\u001b[38;5;241;43m=\u001b[39;49m\u001b[38;5;241;43m2024\u001b[39;49m\u001b[43m,\u001b[49m\u001b[43m \u001b[49m\u001b[43mmonth\u001b[49m\u001b[38;5;241;43m=\u001b[39;49m\u001b[38;5;124;43m\"\u001b[39;49m\u001b[38;5;124;43m03\u001b[39;49m\u001b[38;5;124;43m\"\u001b[39;49m\u001b[43m)\u001b[49m\n",
      "Cell \u001b[0;32mIn[94], line 53\u001b[0m, in \u001b[0;36mproduce_ntd_monthly_ridership_by_rtpa\u001b[0;34m(year, month)\u001b[0m\n\u001b[1;32m     50\u001b[0m \u001b[38;5;66;03m# Add new columns    \u001b[39;00m\n\u001b[1;32m     51\u001b[0m reversed_months \u001b[38;5;241m=\u001b[39m {v:k \u001b[38;5;28;01mfor\u001b[39;00m k, v \u001b[38;5;129;01min\u001b[39;00m MONTH_DICT\u001b[38;5;241m.\u001b[39mitems()}\n\u001b[0;32m---> 53\u001b[0m \u001b[38;5;28;01mfor\u001b[39;00m m \u001b[38;5;129;01min\u001b[39;00m \u001b[38;5;28mrange\u001b[39m(\u001b[38;5;241m1\u001b[39m, \u001b[43mreversed_months\u001b[49m\u001b[43m[\u001b[49m\u001b[43mmonth\u001b[49m\u001b[43m]\u001b[49m \u001b[38;5;241m+\u001b[39m \u001b[38;5;241m1\u001b[39m):\n\u001b[1;32m     54\u001b[0m     df \u001b[38;5;241m=\u001b[39m add_change_columns(df, year, m)\n\u001b[1;32m     56\u001b[0m df \u001b[38;5;241m=\u001b[39m df\u001b[38;5;241m.\u001b[39massign(\n\u001b[1;32m     57\u001b[0m     Mode_full \u001b[38;5;241m=\u001b[39m df\u001b[38;5;241m.\u001b[39mMode\u001b[38;5;241m.\u001b[39mmap(NTD_MODES),\n\u001b[1;32m     58\u001b[0m     TOS_full \u001b[38;5;241m=\u001b[39m df\u001b[38;5;241m.\u001b[39mTOS\u001b[38;5;241m.\u001b[39mmap(NTD_TOS)\n\u001b[1;32m     59\u001b[0m )\n",
      "\u001b[0;31mKeyError\u001b[0m: '03'"
     ]
    }
   ],
   "source": [
    "produce_ntd_monthly_ridership_by_rtpa(year=2024, month=\"03\")"
   ]
  },
  {
   "cell_type": "code",
   "execution_count": null,
   "id": "1676147c-04b9-4fc3-a187-627b30cbbd6d",
   "metadata": {},
   "outputs": [],
   "source": []
  }
 ],
 "metadata": {
  "kernelspec": {
   "display_name": "Python 3 (ipykernel)",
   "language": "python",
   "name": "python3"
  },
  "language_info": {
   "codemirror_mode": {
    "name": "ipython",
    "version": 3
   },
   "file_extension": ".py",
   "mimetype": "text/x-python",
   "name": "python",
   "nbconvert_exporter": "python",
   "pygments_lexer": "ipython3",
   "version": "3.9.13"
  }
 },
 "nbformat": 4,
 "nbformat_minor": 5
}
