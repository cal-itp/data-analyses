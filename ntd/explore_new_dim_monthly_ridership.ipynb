{
 "cells": [
  {
   "cell_type": "code",
   "execution_count": 1,
   "id": "6781e154-b5bf-482a-9682-7a70478378d2",
   "metadata": {},
   "outputs": [],
   "source": [
    "import pandas as pd\n",
    "import shutil\n",
    "import os\n",
    "import gcsfs\n",
    "from calitp_data_analysis.tables import tbls\n",
    "from siuba import _, collect, count, filter, show_query\n",
    "from shared_utils.rt_dates import MONTH_DICT\n",
    "from update_vars import NTD_MODES, NTD_TOS, YEAR, MONTH\n",
    "\n",
    "#temp file path for testing\n",
    "GCS_FILE_PATH = \"gs://calitp-analytics-data/data-analyses/csuyat_folder/\""
   ]
  },
  {
   "cell_type": "code",
   "execution_count": 2,
   "id": "d917c821-e6b0-4ab4-9b5f-d295db7e68ca",
   "metadata": {},
   "outputs": [],
   "source": [
    "pd.set_option(\"display.max_columns\", None)\n",
    "pd.set_option(\"display.max_rows\", None)"
   ]
  },
  {
   "cell_type": "markdown",
   "id": "fdfa1291-fa0b-44b7-b091-d7a147b5ef9f",
   "metadata": {},
   "source": [
    "# Why doesnt `El Dorado County Transportation Comission` and `Placer County Transportation Planning Agency` appear in the RTPA list?"
   ]
  },
  {
   "cell_type": "code",
   "execution_count": 3,
   "id": "1a195378-cea9-49ae-b54f-f8a4fc5a6c8b",
   "metadata": {},
   "outputs": [],
   "source": [
    "# got this from the deploy_portfolio_yaml.py\n",
    "\n",
    "# whats in it?\n",
    "oct_ridership = pd.read_parquet(\n",
    "        f\"gs://calitp-analytics-data/data-analyses/ntd/ca_monthly_ridership_2023_October.parquet\",\n",
    "        columns = [\"RTPA\"]\n",
    "    ).drop_duplicates()\n",
    "\n",
    "check_list  = [\"Placer\", \"El Dorado\"]"
   ]
  },
  {
   "cell_type": "code",
   "execution_count": 4,
   "id": "5617d33f-3ced-4361-a15d-8ec955af715e",
   "metadata": {},
   "outputs": [
    {
     "data": {
      "text/plain": [
       "Index(['RTPA'], dtype='object')"
      ]
     },
     "execution_count": 4,
     "metadata": {},
     "output_type": "execute_result"
    }
   ],
   "source": [
    "oct_ridership.columns"
   ]
  },
  {
   "cell_type": "code",
   "execution_count": 5,
   "id": "384c500e-2524-4740-9379-db1df2b4659a",
   "metadata": {},
   "outputs": [
    {
     "data": {
      "text/plain": [
       "(24, 1)"
      ]
     },
     "metadata": {},
     "output_type": "display_data"
    },
    {
     "data": {
      "text/html": [
       "<div>\n",
       "<style scoped>\n",
       "    .dataframe tbody tr th:only-of-type {\n",
       "        vertical-align: middle;\n",
       "    }\n",
       "\n",
       "    .dataframe tbody tr th {\n",
       "        vertical-align: top;\n",
       "    }\n",
       "\n",
       "    .dataframe thead th {\n",
       "        text-align: right;\n",
       "    }\n",
       "</style>\n",
       "<table border=\"1\" class=\"dataframe\">\n",
       "  <thead>\n",
       "    <tr style=\"text-align: right;\">\n",
       "      <th></th>\n",
       "      <th>RTPA</th>\n",
       "    </tr>\n",
       "  </thead>\n",
       "  <tbody>\n",
       "  </tbody>\n",
       "</table>\n",
       "</div>"
      ],
      "text/plain": [
       "Empty DataFrame\n",
       "Columns: [RTPA]\n",
       "Index: []"
      ]
     },
     "metadata": {},
     "output_type": "display_data"
    },
    {
     "data": {
      "text/html": [
       "<div>\n",
       "<style scoped>\n",
       "    .dataframe tbody tr th:only-of-type {\n",
       "        vertical-align: middle;\n",
       "    }\n",
       "\n",
       "    .dataframe tbody tr th {\n",
       "        vertical-align: top;\n",
       "    }\n",
       "\n",
       "    .dataframe thead th {\n",
       "        text-align: right;\n",
       "    }\n",
       "</style>\n",
       "<table border=\"1\" class=\"dataframe\">\n",
       "  <thead>\n",
       "    <tr style=\"text-align: right;\">\n",
       "      <th></th>\n",
       "      <th>RTPA</th>\n",
       "    </tr>\n",
       "  </thead>\n",
       "  <tbody>\n",
       "  </tbody>\n",
       "</table>\n",
       "</div>"
      ],
      "text/plain": [
       "Empty DataFrame\n",
       "Columns: [RTPA]\n",
       "Index: []"
      ]
     },
     "metadata": {},
     "output_type": "display_data"
    },
    {
     "data": {
      "text/html": [
       "<div>\n",
       "<style scoped>\n",
       "    .dataframe tbody tr th:only-of-type {\n",
       "        vertical-align: middle;\n",
       "    }\n",
       "\n",
       "    .dataframe tbody tr th {\n",
       "        vertical-align: top;\n",
       "    }\n",
       "\n",
       "    .dataframe thead th {\n",
       "        text-align: right;\n",
       "    }\n",
       "</style>\n",
       "<table border=\"1\" class=\"dataframe\">\n",
       "  <thead>\n",
       "    <tr style=\"text-align: right;\">\n",
       "      <th></th>\n",
       "      <th>RTPA</th>\n",
       "    </tr>\n",
       "  </thead>\n",
       "  <tbody>\n",
       "    <tr>\n",
       "      <th>157</th>\n",
       "      <td>Alpine County Transportation Commission</td>\n",
       "    </tr>\n",
       "    <tr>\n",
       "      <th>184</th>\n",
       "      <td>Butte County Association of Governments</td>\n",
       "    </tr>\n",
       "    <tr>\n",
       "      <th>86</th>\n",
       "      <td>Fresno County Council of Governments</td>\n",
       "    </tr>\n",
       "    <tr>\n",
       "      <th>288</th>\n",
       "      <td>Imperial County Transportation Commission</td>\n",
       "    </tr>\n",
       "    <tr>\n",
       "      <th>4</th>\n",
       "      <td>Kern Council of Governments</td>\n",
       "    </tr>\n",
       "    <tr>\n",
       "      <th>270</th>\n",
       "      <td>Kings County Association of Governments</td>\n",
       "    </tr>\n",
       "    <tr>\n",
       "      <th>14</th>\n",
       "      <td>Los Angeles County Metropolitan Transportation...</td>\n",
       "    </tr>\n",
       "    <tr>\n",
       "      <th>244</th>\n",
       "      <td>Merced County Association of Governments</td>\n",
       "    </tr>\n",
       "    <tr>\n",
       "      <th>0</th>\n",
       "      <td>Metropolitan Transportation Commission</td>\n",
       "    </tr>\n",
       "    <tr>\n",
       "      <th>111</th>\n",
       "      <td>Orange County Transportation Authority</td>\n",
       "    </tr>\n",
       "    <tr>\n",
       "      <th>103</th>\n",
       "      <td>Riverside County Transportation Commission</td>\n",
       "    </tr>\n",
       "    <tr>\n",
       "      <th>60</th>\n",
       "      <td>Sacramento Area Council of Governments</td>\n",
       "    </tr>\n",
       "    <tr>\n",
       "      <th>91</th>\n",
       "      <td>San Bernardino County Transportation Authority</td>\n",
       "    </tr>\n",
       "    <tr>\n",
       "      <th>80</th>\n",
       "      <td>San Diego Association of Governments</td>\n",
       "    </tr>\n",
       "    <tr>\n",
       "      <th>27</th>\n",
       "      <td>San Joaquin Council of Governments</td>\n",
       "    </tr>\n",
       "    <tr>\n",
       "      <th>155</th>\n",
       "      <td>San Luis Obispo Council of Governments</td>\n",
       "    </tr>\n",
       "    <tr>\n",
       "      <th>65</th>\n",
       "      <td>Santa Barbara County Association of Governments</td>\n",
       "    </tr>\n",
       "    <tr>\n",
       "      <th>6</th>\n",
       "      <td>Santa Cruz County Transportation Commission</td>\n",
       "    </tr>\n",
       "    <tr>\n",
       "      <th>172</th>\n",
       "      <td>Shasta Regional Transportation Agency</td>\n",
       "    </tr>\n",
       "    <tr>\n",
       "      <th>11</th>\n",
       "      <td>Stanislaus Council of Governments</td>\n",
       "    </tr>\n",
       "    <tr>\n",
       "      <th>327</th>\n",
       "      <td>Tahoe Regional Planning Agency</td>\n",
       "    </tr>\n",
       "    <tr>\n",
       "      <th>141</th>\n",
       "      <td>Transportation Agency for Monterey County</td>\n",
       "    </tr>\n",
       "    <tr>\n",
       "      <th>165</th>\n",
       "      <td>Tulare County Association of Governments</td>\n",
       "    </tr>\n",
       "    <tr>\n",
       "      <th>109</th>\n",
       "      <td>Ventura County Transportation Commission</td>\n",
       "    </tr>\n",
       "  </tbody>\n",
       "</table>\n",
       "</div>"
      ],
      "text/plain": [
       "                                                  RTPA\n",
       "157            Alpine County Transportation Commission\n",
       "184            Butte County Association of Governments\n",
       "86                Fresno County Council of Governments\n",
       "288          Imperial County Transportation Commission\n",
       "4                          Kern Council of Governments\n",
       "270            Kings County Association of Governments\n",
       "14   Los Angeles County Metropolitan Transportation...\n",
       "244           Merced County Association of Governments\n",
       "0               Metropolitan Transportation Commission\n",
       "111             Orange County Transportation Authority\n",
       "103         Riverside County Transportation Commission\n",
       "60              Sacramento Area Council of Governments\n",
       "91      San Bernardino County Transportation Authority\n",
       "80                San Diego Association of Governments\n",
       "27                  San Joaquin Council of Governments\n",
       "155             San Luis Obispo Council of Governments\n",
       "65     Santa Barbara County Association of Governments\n",
       "6          Santa Cruz County Transportation Commission\n",
       "172              Shasta Regional Transportation Agency\n",
       "11                   Stanislaus Council of Governments\n",
       "327                     Tahoe Regional Planning Agency\n",
       "141          Transportation Agency for Monterey County\n",
       "165           Tulare County Association of Governments\n",
       "109           Ventura County Transportation Commission"
      ]
     },
     "metadata": {},
     "output_type": "display_data"
    }
   ],
   "source": [
    "display(\n",
    "    oct_ridership.shape,\n",
    "    oct_ridership[oct_ridership[\"RTPA\"].str.contains(\"El Dorado\")],\n",
    "    oct_ridership[oct_ridership[\"RTPA\"].str.contains(\"Placer\")],\n",
    "    oct_ridership.sort_values(by=\"RTPA\")\n",
    ")"
   ]
  },
  {
   "cell_type": "markdown",
   "id": "60958f70-1e41-414c-878b-075ba4ae882e",
   "metadata": {},
   "source": [
    "There are 24 in this oct list.\n",
    "\n",
    "there are 24 pages on the ntd ridership page"
   ]
  },
  {
   "cell_type": "markdown",
   "id": "21476c6d-470c-4713-ab41-9e98d6b9d9d9",
   "metadata": {},
   "source": [
    "how many RTPA are on the \"crosswalk\"? where is this site pulling its RTPA list?"
   ]
  },
  {
   "cell_type": "code",
   "execution_count": 6,
   "id": "d4538dab-c147-4b40-9b15-aef116ade76a",
   "metadata": {},
   "outputs": [],
   "source": [
    "crosswalk = pd.read_csv(\n",
    "        f\"gs://calitp-analytics-data/data-analyses/ntd/ntd_id_rtpa_crosswalk.csv\", \n",
    "        dtype = {\"NTD ID\": \"str\"}\n",
    "    #have to rename NTD ID col to match the dim table\n",
    "    ).rename(columns={\"NTD ID\": \"ntd_id\"})\n",
    "    \n"
   ]
  },
  {
   "cell_type": "code",
   "execution_count": 7,
   "id": "a0d00fab-5864-4b83-8360-ab06e92e4dca",
   "metadata": {},
   "outputs": [
    {
     "data": {
      "text/plain": [
       "24"
      ]
     },
     "metadata": {},
     "output_type": "display_data"
    },
    {
     "data": {
      "text/plain": [
       "19"
      ]
     },
     "metadata": {},
     "output_type": "display_data"
    }
   ],
   "source": [
    "display(\n",
    "    len(crosswalk[\"RTPA\"].nunique()),\n",
    "    len(crosswalk[\"RTPA_open_data\"].nunique())\n",
    ")"
   ]
  },
  {
   "cell_type": "code",
   "execution_count": 8,
   "id": "dc0fdcfa-110a-4cd8-a26e-c85eab489e14",
   "metadata": {},
   "outputs": [
    {
     "data": {
      "text/html": [
       "<div>\n",
       "<style scoped>\n",
       "    .dataframe tbody tr th:only-of-type {\n",
       "        vertical-align: middle;\n",
       "    }\n",
       "\n",
       "    .dataframe tbody tr th {\n",
       "        vertical-align: top;\n",
       "    }\n",
       "\n",
       "    .dataframe thead th {\n",
       "        text-align: right;\n",
       "    }\n",
       "</style>\n",
       "<table border=\"1\" class=\"dataframe\">\n",
       "  <thead>\n",
       "    <tr style=\"text-align: right;\">\n",
       "      <th></th>\n",
       "      <th>ntd_id</th>\n",
       "      <th>Legacy NTD ID</th>\n",
       "      <th>Agency</th>\n",
       "      <th>UZA Name</th>\n",
       "      <th>RTPA_open_data</th>\n",
       "      <th>RTPA</th>\n",
       "    </tr>\n",
       "  </thead>\n",
       "  <tbody>\n",
       "    <tr>\n",
       "      <th>60</th>\n",
       "      <td>90168</td>\n",
       "      <td>9168</td>\n",
       "      <td>City of Roseville</td>\n",
       "      <td>Sacramento, CA</td>\n",
       "      <td>Sacramento Area Council of Governments</td>\n",
       "      <td>Sacramento Area Council of Governments</td>\n",
       "    </tr>\n",
       "    <tr>\n",
       "      <th>61</th>\n",
       "      <td>90196</td>\n",
       "      <td>9196</td>\n",
       "      <td>County of Placer</td>\n",
       "      <td>Sacramento, CA</td>\n",
       "      <td>Sacramento Area Council of Governments</td>\n",
       "      <td>Sacramento Area Council of Governments</td>\n",
       "    </tr>\n",
       "    <tr>\n",
       "      <th>63</th>\n",
       "      <td>90229</td>\n",
       "      <td>9229</td>\n",
       "      <td>El Dorado County Transit Authority</td>\n",
       "      <td>Sacramento, CA</td>\n",
       "      <td>Sacramento Area Council of Governments</td>\n",
       "      <td>Sacramento Area Council of Governments</td>\n",
       "    </tr>\n",
       "  </tbody>\n",
       "</table>\n",
       "</div>"
      ],
      "text/plain": [
       "   ntd_id Legacy NTD ID                              Agency        UZA Name  \\\n",
       "60  90168          9168                   City of Roseville  Sacramento, CA   \n",
       "61  90196          9196                    County of Placer  Sacramento, CA   \n",
       "63  90229          9229  El Dorado County Transit Authority  Sacramento, CA   \n",
       "\n",
       "                            RTPA_open_data  \\\n",
       "60  Sacramento Area Council of Governments   \n",
       "61  Sacramento Area Council of Governments   \n",
       "63  Sacramento Area Council of Governments   \n",
       "\n",
       "                                      RTPA  \n",
       "60  Sacramento Area Council of Governments  \n",
       "61  Sacramento Area Council of Governments  \n",
       "63  Sacramento Area Council of Governments  "
      ]
     },
     "execution_count": 8,
     "metadata": {},
     "output_type": "execute_result"
    }
   ],
   "source": [
    "crosswalk[\n",
    "    crosswalk[\"Agency\"].str.contains(\"Placer\") | \n",
    "    crosswalk[\"Agency\"].str.contains(\"El Dor\") |\n",
    "    crosswalk[\"Agency\"].str.contains(\"Roseville\")\n",
    "]\n"
   ]
  },
  {
   "cell_type": "markdown",
   "id": "dcda13a9-7e60-4eab-9732-38819377fdf4",
   "metadata": {},
   "source": [
    "## Explained\n",
    "The agencies do exist in the crosswalk, but are under SACOG instead of their own RTPA"
   ]
  },
  {
   "cell_type": "code",
   "execution_count": 9,
   "id": "4b17c69d-d8cc-437d-956c-5e13efe4badf",
   "metadata": {},
   "outputs": [],
   "source": [
    "# what are the differences between RTPA and RTPA_open_data?\n",
    "rtpa = crosswalk[\"RTPA\"].unique()\n",
    "rtpa_list = pd.DataFrame(rtpa, columns=[\"rtpa_name\"])\n",
    "\n",
    "rtpa_open_data = crosswalk[\"RTPA_open_data\"].unique()\n",
    "rtpa_open_data_list = pd.DataFrame(rtpa_open_data, columns=[\"rtpa_name\"])"
   ]
  },
  {
   "cell_type": "code",
   "execution_count": 10,
   "id": "423ac59c-9e66-430c-80cd-9b3f48868bc0",
   "metadata": {},
   "outputs": [],
   "source": [
    "diff_merge = pd.merge(rtpa_list, rtpa_open_data_list,on=\"rtpa_name\", how=\"outer\", indicator= True)"
   ]
  },
  {
   "cell_type": "code",
   "execution_count": 11,
   "id": "fc2c19c9-933f-4f92-ba9c-b361e16ab340",
   "metadata": {},
   "outputs": [
    {
     "data": {
      "text/plain": [
       "both          15\n",
       "left_only      9\n",
       "right_only     4\n",
       "Name: _merge, dtype: int64"
      ]
     },
     "metadata": {},
     "output_type": "display_data"
    },
    {
     "data": {
      "text/html": [
       "<div>\n",
       "<style scoped>\n",
       "    .dataframe tbody tr th:only-of-type {\n",
       "        vertical-align: middle;\n",
       "    }\n",
       "\n",
       "    .dataframe tbody tr th {\n",
       "        vertical-align: top;\n",
       "    }\n",
       "\n",
       "    .dataframe thead th {\n",
       "        text-align: right;\n",
       "    }\n",
       "</style>\n",
       "<table border=\"1\" class=\"dataframe\">\n",
       "  <thead>\n",
       "    <tr style=\"text-align: right;\">\n",
       "      <th></th>\n",
       "      <th>rtpa_name</th>\n",
       "      <th>_merge</th>\n",
       "    </tr>\n",
       "  </thead>\n",
       "  <tbody>\n",
       "    <tr>\n",
       "      <th>4</th>\n",
       "      <td>Imperial County Transportation Commission</td>\n",
       "      <td>left_only</td>\n",
       "    </tr>\n",
       "    <tr>\n",
       "      <th>5</th>\n",
       "      <td>Fresno County Council of Governments</td>\n",
       "      <td>left_only</td>\n",
       "    </tr>\n",
       "    <tr>\n",
       "      <th>7</th>\n",
       "      <td>Riverside County Transportation Commission</td>\n",
       "      <td>left_only</td>\n",
       "    </tr>\n",
       "    <tr>\n",
       "      <th>11</th>\n",
       "      <td>Los Angeles County Metropolitan Transportation...</td>\n",
       "      <td>left_only</td>\n",
       "    </tr>\n",
       "    <tr>\n",
       "      <th>12</th>\n",
       "      <td>Orange County Transportation Authority</td>\n",
       "      <td>left_only</td>\n",
       "    </tr>\n",
       "    <tr>\n",
       "      <th>15</th>\n",
       "      <td>Alpine County Transportation Commission</td>\n",
       "      <td>left_only</td>\n",
       "    </tr>\n",
       "    <tr>\n",
       "      <th>16</th>\n",
       "      <td>Ventura County Transportation Commission</td>\n",
       "      <td>left_only</td>\n",
       "    </tr>\n",
       "    <tr>\n",
       "      <th>19</th>\n",
       "      <td>San Bernardino County Transportation Authority</td>\n",
       "      <td>left_only</td>\n",
       "    </tr>\n",
       "    <tr>\n",
       "      <th>22</th>\n",
       "      <td>Santa Cruz County Transportation Commission</td>\n",
       "      <td>left_only</td>\n",
       "    </tr>\n",
       "    <tr>\n",
       "      <th>24</th>\n",
       "      <td>Southern California Association of Governments</td>\n",
       "      <td>right_only</td>\n",
       "    </tr>\n",
       "    <tr>\n",
       "      <th>25</th>\n",
       "      <td>Fresno Council of Governments</td>\n",
       "      <td>right_only</td>\n",
       "    </tr>\n",
       "    <tr>\n",
       "      <th>26</th>\n",
       "      <td>Alpine County Local Transportation Commission</td>\n",
       "      <td>right_only</td>\n",
       "    </tr>\n",
       "    <tr>\n",
       "      <th>27</th>\n",
       "      <td>Santa Cruz County Regional Transportation Comm...</td>\n",
       "      <td>right_only</td>\n",
       "    </tr>\n",
       "  </tbody>\n",
       "</table>\n",
       "</div>"
      ],
      "text/plain": [
       "                                            rtpa_name      _merge\n",
       "4           Imperial County Transportation Commission   left_only\n",
       "5                Fresno County Council of Governments   left_only\n",
       "7          Riverside County Transportation Commission   left_only\n",
       "11  Los Angeles County Metropolitan Transportation...   left_only\n",
       "12             Orange County Transportation Authority   left_only\n",
       "15            Alpine County Transportation Commission   left_only\n",
       "16           Ventura County Transportation Commission   left_only\n",
       "19     San Bernardino County Transportation Authority   left_only\n",
       "22        Santa Cruz County Transportation Commission   left_only\n",
       "24     Southern California Association of Governments  right_only\n",
       "25                      Fresno Council of Governments  right_only\n",
       "26      Alpine County Local Transportation Commission  right_only\n",
       "27  Santa Cruz County Regional Transportation Comm...  right_only"
      ]
     },
     "metadata": {},
     "output_type": "display_data"
    }
   ],
   "source": [
    "display(\n",
    "    diff_merge[\"_merge\"].value_counts(),\n",
    "    # what are the RTPA name that only exist in the open data list\n",
    "    diff_merge[diff_merge[\"_merge\"]!=\"both\"]\n",
    ")"
   ]
  },
  {
   "cell_type": "markdown",
   "id": "e8310f83-7fde-4b1d-a296-2c76a3238d7b",
   "metadata": {},
   "source": [
    "### Explained\n",
    "- SCAG is pretty big and was split up into its different MPOs\n",
    "- `Fresno Concil of Governments` is `Fresno County Council of Governments` on the RTPA list and reports site\n",
    "- `Alpine County Local Transporation Comssion` is `Alpine County Transportation Comission`\n",
    "- `Santa Cruz Coutny Regional Transportation Comission` is `Santa Cruz County Transportation Commission`"
   ]
  },
  {
   "cell_type": "markdown",
   "id": "732419c9-320e-4e12-94db-c771c010039c",
   "metadata": {},
   "source": [
    "---"
   ]
  },
  {
   "cell_type": "markdown",
   "id": "0500f02f-6e00-4c34-a16d-8436db97f9f3",
   "metadata": {},
   "source": [
    "### WHAT ARE THE TRANSIT AGENCIES IN THESE RTPA?!\n",
    "- look into the ntd report, the RTPAs website and possibly the RTPA allocation packages for clues to what agencies they have\n",
    "- El Dorado County Transportation Comission\n",
    "    1. El Dorado County Transit Authority (small systems reporter)\n",
    "- Placer County Transportation Planning Agency\n",
    "    1. City of Roseville (small systems reporter)\n",
    "    2. County of Placer (full reporter)\n",
    "<br>\n",
    "\n",
    "### Do the operators in these RTPAs exist in the NTD ridership data at all?\n",
    "- YES they do! \n",
    "- some are currently small system reporters and dont have any current monthly data\n",
    "\n",
    "<br>"
   ]
  },
  {
   "cell_type": "code",
   "execution_count": 12,
   "id": "3b5b8680-42bd-4b64-8b26-936be39fe15d",
   "metadata": {},
   "outputs": [
    {
     "data": {
      "text/plain": [
       "array(['2024-01', '2024-02', '2024-03', '2024-04', '2024-05', '2024-06',\n",
       "       '2024-07'], dtype=object)"
      ]
     },
     "execution_count": 12,
     "metadata": {},
     "output_type": "execute_result"
    }
   ],
   "source": [
    "# query the warehouse\n",
    "full_upt = (\n",
    "    tbls.mart_ntd.dim_monthly_ntd_ridership_with_adjustments() \n",
    "    >> filter(#_.uza_name.str.contains(\" ,CA\"),\n",
    "              #_.period_year_month.str.contains(\"2024-\")\n",
    "             )\n",
    "    >> collect()\n",
    ").rename(columns = {\"mode_type_of_service_status\": \"Status\"}\n",
    "       )\n",
    "\n",
    "# double check to see what month this table goes too.\n",
    "full_upt[full_upt[\"period_year_month\"].str.contains(\"2024-\")][\"period_year_month\"].sort_values().unique()"
   ]
  },
  {
   "cell_type": "code",
   "execution_count": 13,
   "id": "3a4f498c-fbbe-421a-838d-2d0e0f900178",
   "metadata": {},
   "outputs": [
    {
     "data": {
      "text/plain": [
       "Index(['uza_name', 'uace_cd', '_dt', 'ts', 'ntd_id', 'year', 'reporter_type',\n",
       "       'agency', 'Status', 'mode', 'mode_full_name', 'service_type', '_3_mode',\n",
       "       'tos', 'legacy_ntd_id', 'period_year_month', 'period_year',\n",
       "       'period_month', 'upt', 'vrm', 'vrh', 'voms'],\n",
       "      dtype='object')"
      ]
     },
     "metadata": {},
     "output_type": "display_data"
    },
    {
     "data": {
      "text/html": [
       "<div>\n",
       "<style scoped>\n",
       "    .dataframe tbody tr th:only-of-type {\n",
       "        vertical-align: middle;\n",
       "    }\n",
       "\n",
       "    .dataframe tbody tr th {\n",
       "        vertical-align: top;\n",
       "    }\n",
       "\n",
       "    .dataframe thead th {\n",
       "        text-align: right;\n",
       "    }\n",
       "</style>\n",
       "<table border=\"1\" class=\"dataframe\">\n",
       "  <thead>\n",
       "    <tr style=\"text-align: right;\">\n",
       "      <th></th>\n",
       "      <th>uza_name</th>\n",
       "      <th>uace_cd</th>\n",
       "      <th>_dt</th>\n",
       "      <th>ts</th>\n",
       "      <th>ntd_id</th>\n",
       "      <th>year</th>\n",
       "      <th>reporter_type</th>\n",
       "      <th>agency</th>\n",
       "      <th>Status</th>\n",
       "      <th>mode</th>\n",
       "      <th>mode_full_name</th>\n",
       "      <th>service_type</th>\n",
       "      <th>_3_mode</th>\n",
       "      <th>tos</th>\n",
       "      <th>legacy_ntd_id</th>\n",
       "      <th>period_year_month</th>\n",
       "      <th>period_year</th>\n",
       "      <th>period_month</th>\n",
       "      <th>upt</th>\n",
       "      <th>vrm</th>\n",
       "      <th>vrh</th>\n",
       "      <th>voms</th>\n",
       "    </tr>\n",
       "  </thead>\n",
       "  <tbody>\n",
       "    <tr>\n",
       "      <th>0</th>\n",
       "      <td>Miami--Fort Lauderdale, FL</td>\n",
       "      <td>56602</td>\n",
       "      <td>2024-09-06</td>\n",
       "      <td>2024-09-06 20:49:05.015238+00:00</td>\n",
       "      <td>40034</td>\n",
       "      <td>2024</td>\n",
       "      <td>Full Reporter</td>\n",
       "      <td>County of Miami-Dade</td>\n",
       "      <td>Inactive</td>\n",
       "      <td>AG</td>\n",
       "      <td>Automated Guideway</td>\n",
       "      <td>Fixed Route</td>\n",
       "      <td>Rail</td>\n",
       "      <td>DO</td>\n",
       "      <td>4034</td>\n",
       "      <td>2018-08</td>\n",
       "      <td>2018</td>\n",
       "      <td>8</td>\n",
       "      <td>NaN</td>\n",
       "      <td>NaN</td>\n",
       "      <td>NaN</td>\n",
       "      <td>NaN</td>\n",
       "    </tr>\n",
       "    <tr>\n",
       "      <th>1</th>\n",
       "      <td>Miami--Fort Lauderdale, FL</td>\n",
       "      <td>56602</td>\n",
       "      <td>2024-09-06</td>\n",
       "      <td>2024-09-06 20:49:05.015238+00:00</td>\n",
       "      <td>40034</td>\n",
       "      <td>2024</td>\n",
       "      <td>Full Reporter</td>\n",
       "      <td>County of Miami-Dade</td>\n",
       "      <td>Inactive</td>\n",
       "      <td>AG</td>\n",
       "      <td>Automated Guideway</td>\n",
       "      <td>Fixed Route</td>\n",
       "      <td>Rail</td>\n",
       "      <td>DO</td>\n",
       "      <td>4034</td>\n",
       "      <td>2015-11</td>\n",
       "      <td>2015</td>\n",
       "      <td>11</td>\n",
       "      <td>NaN</td>\n",
       "      <td>NaN</td>\n",
       "      <td>NaN</td>\n",
       "      <td>NaN</td>\n",
       "    </tr>\n",
       "  </tbody>\n",
       "</table>\n",
       "</div>"
      ],
      "text/plain": [
       "                     uza_name uace_cd         _dt  \\\n",
       "0  Miami--Fort Lauderdale, FL   56602  2024-09-06   \n",
       "1  Miami--Fort Lauderdale, FL   56602  2024-09-06   \n",
       "\n",
       "                                ts ntd_id  year  reporter_type  \\\n",
       "0 2024-09-06 20:49:05.015238+00:00  40034  2024  Full Reporter   \n",
       "1 2024-09-06 20:49:05.015238+00:00  40034  2024  Full Reporter   \n",
       "\n",
       "                  agency    Status mode      mode_full_name service_type  \\\n",
       "0  County of Miami-Dade   Inactive   AG  Automated Guideway  Fixed Route   \n",
       "1  County of Miami-Dade   Inactive   AG  Automated Guideway  Fixed Route   \n",
       "\n",
       "  _3_mode tos legacy_ntd_id period_year_month period_year period_month  upt  \\\n",
       "0    Rail  DO          4034           2018-08        2018            8  NaN   \n",
       "1    Rail  DO          4034           2015-11        2015           11  NaN   \n",
       "\n",
       "   vrm  vrh  voms  \n",
       "0  NaN  NaN   NaN  \n",
       "1  NaN  NaN   NaN  "
      ]
     },
     "metadata": {},
     "output_type": "display_data"
    }
   ],
   "source": [
    "display(full_upt.columns, full_upt.head(2)\n",
    "       )"
   ]
  },
  {
   "cell_type": "code",
   "execution_count": 14,
   "id": "3ab45e08-8913-4cdb-8320-9c7bdb72806e",
   "metadata": {},
   "outputs": [
    {
     "data": {
      "text/plain": [
       "County of Placer                      2168\n",
       "El Dorado County Transit Authority     813\n",
       "City of Roseville                      542\n",
       "Name: agency, dtype: int64"
      ]
     },
     "execution_count": 14,
     "metadata": {},
     "output_type": "execute_result"
    }
   ],
   "source": [
    "full_upt[full_upt[\"agency\"].isin([\n",
    "    \"County of Placer\",\n",
    "    \"City of Roseville\",\n",
    "    \"El Dorado County Transit Authority\"\n",
    "]\n",
    ")][\"agency\"].value_counts()"
   ]
  },
  {
   "cell_type": "code",
   "execution_count": 15,
   "id": "a8c69d1f-65d2-440f-9bb3-6ece7fd59099",
   "metadata": {},
   "outputs": [
    {
     "data": {
      "text/plain": [
       "array(['Tahoe Transportation District'], dtype=object)"
      ]
     },
     "execution_count": 15,
     "metadata": {},
     "output_type": "execute_result"
    }
   ],
   "source": [
    "full_upt[full_upt[\"uza_name\"].str.contains(\", CA\") & full_upt[\"agency\"].str.contains(\"Tahoe\")][\"agency\"].unique()"
   ]
  },
  {
   "cell_type": "code",
   "execution_count": null,
   "id": "90d4b626-1c8a-42ef-a67d-5db3ef46a818",
   "metadata": {},
   "outputs": [],
   "source": []
  },
  {
   "cell_type": "code",
   "execution_count": null,
   "id": "7cc3f9f0-265c-49ca-b7b4-b804cb8b2d01",
   "metadata": {},
   "outputs": [],
   "source": []
  },
  {
   "cell_type": "markdown",
   "id": "a90140d2-b6d9-432d-9c33-9f21a108855e",
   "metadata": {},
   "source": [
    "---"
   ]
  },
  {
   "cell_type": "markdown",
   "id": "12b98b2c-5982-4fb3-a721-38adaf64fe64",
   "metadata": {
    "tags": []
   },
   "source": [
    "### what is the grain of this dataset?\n",
    "metrics values (upt/vrm/vrh/crm/voms) of a specifc **tos**, of specific **mode**, for a speicifc **agency** on a specific **year/month**"
   ]
  },
  {
   "cell_type": "markdown",
   "id": "373677b3-721e-4cc4-b373-03867dab6efd",
   "metadata": {
    "tags": []
   },
   "source": [
    "# Test reading in `dim_monthly_ntd_ridership_with_adjustments` from warehouse"
   ]
  },
  {
   "cell_type": "code",
   "execution_count": null,
   "id": "0cfb98aa-8ac1-4e19-97c0-fb6597893a2b",
   "metadata": {},
   "outputs": [],
   "source": [
    "monthly_ridership = (\n",
    "    tbls.mart_ntd.dim_monthly_ntd_ridership_with_adjustments() >> collect()\n",
    ")"
   ]
  },
  {
   "cell_type": "code",
   "execution_count": null,
   "id": "b4510885-957a-4a4a-8518-bb4f34210fef",
   "metadata": {},
   "outputs": [],
   "source": [
    "# reading in old monthly ridership parquet for comparison\n",
    "old_march_2024_ridership = pd.read_parquet(\"gs://calitp-analytics-data/data-analyses/ntd/ntd_monthly_ridership_2024_March.parquet\")"
   ]
  },
  {
   "cell_type": "code",
   "execution_count": null,
   "id": "5a3632e7-e1d7-47c2-b411-a094204a8a01",
   "metadata": {},
   "outputs": [],
   "source": [
    "# what is in this table?\n",
    "# all states\n",
    "display(\n",
    "    monthly_ridership.shape,\n",
    "    # monthly_ridership.info,\n",
    "    monthly_ridership.head(3),\n",
    ")"
   ]
  },
  {
   "cell_type": "code",
   "execution_count": null,
   "id": "ae4ecb7e-6642-453b-b2fc-b8df4b7c00f6",
   "metadata": {},
   "outputs": [],
   "source": [
    "print(monthly_ridership.dtypes)"
   ]
  },
  {
   "cell_type": "code",
   "execution_count": null,
   "id": "1168de76-b3c6-41f2-8738-e2ad6cdaeec0",
   "metadata": {},
   "outputs": [],
   "source": [
    "# are there NaN values in uza name? YES\n",
    "monthly_ridership[\"uza_name\"].isna().sum()"
   ]
  },
  {
   "cell_type": "code",
   "execution_count": null,
   "id": "a61d04d9-c691-4841-b8d1-785357bc3a7f",
   "metadata": {},
   "outputs": [],
   "source": [
    "# fill the NaN values with something\n",
    "monthly_ridership[\"uza_name\"].fillna(\"none\", inplace=True)"
   ]
  },
  {
   "cell_type": "code",
   "execution_count": null,
   "id": "1448f404-1cbd-44cb-b485-4864f9c766f1",
   "metadata": {},
   "outputs": [],
   "source": [
    "# double check for na\n",
    "monthly_ridership[\"uza_name\"].isna().sum()"
   ]
  },
  {
   "cell_type": "code",
   "execution_count": null,
   "id": "1eee5c92-9f26-4775-9db3-dae615a744ea",
   "metadata": {},
   "outputs": [],
   "source": [
    "# can i now filter by uza CA, becaue there are zero NaN values? YES\n",
    "uza_ca = monthly_ridership[monthly_ridership[\"uza_name\"].str.contains(\", CA\")]\n",
    "display(\n",
    "    uza_ca.shape,\n",
    "    uza_ca[\"uza_name\"].value_counts()\n",
    ")"
   ]
  },
  {
   "cell_type": "code",
   "execution_count": null,
   "id": "54846a09-0964-43f9-9e7a-ea2f82b4c3dd",
   "metadata": {},
   "outputs": [],
   "source": [
    "# where are the UTP values? the UTP page for this table used to be very wide\n",
    "# look at a specific agency by ntd id, LA Metro == \"9154\"\n",
    "# what is the dtype of ntd_id... its object, so use str.contrains\n",
    "la_metro = monthly_ridership[monthly_ridership[\"ntd_id\"] == \"90154\"]\n",
    "display(la_metro.shape, uza_ca.shape)"
   ]
  },
  {
   "cell_type": "code",
   "execution_count": null,
   "id": "47ccb201-29b0-4156-b6bf-d76298fc3427",
   "metadata": {},
   "outputs": [],
   "source": [
    "# filter la_metro data to only see current and previous year (2024 and 2023)\n",
    "\n",
    "la_2324 = la_metro[la_metro[\"period_year\"].isin([\"2023\", \"2024\"])]"
   ]
  },
  {
   "cell_type": "code",
   "execution_count": null,
   "id": "e59c8dc1-e303-489c-a44b-394685737fa0",
   "metadata": {},
   "outputs": [],
   "source": [
    "# does this 23/24 data match whats in the NTD report? YES\n",
    "# confirm that data is now long instead of wide\n",
    "la_2324[la_2324[\"period_year_month\"] == \"2024-03\"][\n",
    "    [\"period_year_month\", \"mode\", \"tos\", \"upt\"]\n",
    "].sort_values(by=\"period_year_month\", ascending=True)"
   ]
  },
  {
   "cell_type": "markdown",
   "id": "5e0968ad-6918-4423-a579-9dd4d5ef057f",
   "metadata": {
    "tags": []
   },
   "source": [
    "# What to modify in the `produce_ntd_monthly_ridership_by_rtpa` function\n",
    "step-by-step"
   ]
  },
  {
   "cell_type": "code",
   "execution_count": null,
   "id": "3e01f75a-6c8d-468f-a6a0-75c15dc10cb7",
   "metadata": {},
   "outputs": [],
   "source": [
    "# 1. reading in the data & renaming column\n",
    "# intead of reading in the data via an excel doc by URL, intead will query the warehouse directly\n",
    "\n",
    "#GOOD TO GO\n",
    "full_upt = (\n",
    "    tbls.mart_ntd.dim_monthly_ntd_ridership_with_adjustments() >> collect()\n",
    ").rename(columns = {\"mode_type_of_service_status\": \"Status\"}\n",
    "       )"
   ]
  },
  {
   "cell_type": "code",
   "execution_count": null,
   "id": "05d83d95-1fbb-4e52-b955-5a9e9359cc91",
   "metadata": {
    "tags": []
   },
   "outputs": [],
   "source": [
    "#checking for recent data\n",
    "full_upt[full_upt[\"period_year_month\"].str.contains(\"2024-\")][\"period_year_month\"].sort_values().unique()"
   ]
  },
  {
   "cell_type": "code",
   "execution_count": null,
   "id": "e114c323-8feb-4edd-9b4a-3d74a91ddac8",
   "metadata": {},
   "outputs": [],
   "source": [
    "#1.1 setting `ntd_id` to str\n",
    "\n",
    "# NTD_ID COL IS ALREADY OBJECT/STR DATA TYPE\n",
    "# full_upt[\"ntd_id\"] = full_upt[\"ntd_id\"].astype(str)"
   ]
  },
  {
   "cell_type": "code",
   "execution_count": null,
   "id": "e016134a-ee29-4334-b86c-a5c193cfcdfe",
   "metadata": {},
   "outputs": [],
   "source": [
    "#2 filter df to get rid of na rows\n",
    "# GOOD TO GO!\n",
    "full_upt = full_upt[full_upt.agency.notna()].reset_index(drop=True)"
   ]
  },
  {
   "cell_type": "code",
   "execution_count": null,
   "id": "60212a85-a77d-43c1-9795-da3e6cfbe487",
   "metadata": {},
   "outputs": [],
   "source": [
    "#3 new DF of just CA and not-blank agency names\n",
    "# filter UZA name col for CA and not blank agency names.\n",
    "\n",
    "#GOOD TO GO!\n",
    "ca = full_upt[(full_upt[\"uza_name\"].str.contains(\", CA\")) & \n",
    "            (full_upt.agency.notna())].reset_index(drop=True)"
   ]
  },
  {
   "cell_type": "code",
   "execution_count": null,
   "id": "28a6cf03-16cd-454e-9702-ea893846899c",
   "metadata": {},
   "outputs": [],
   "source": [
    "#4 read in ntd_id-to-RTPA crosswalk\n",
    "# same as before, no changes\n",
    "\n",
    "#GOOD TO GO!\n",
    "crosswalk = pd.read_csv(\n",
    "        f\"gs://calitp-analytics-data/data-analyses/ntd/ntd_id_rtpa_crosswalk.csv\", \n",
    "        dtype = {\"NTD ID\": \"str\"}\n",
    "    #have to rename NTD ID col to match the dim table\n",
    "    ).rename(columns={\"NTD ID\": \"ntd_id\"})\n",
    "    \n",
    "crosswalk.columns"
   ]
  },
  {
   "cell_type": "code",
   "execution_count": null,
   "id": "81595778-26cc-40b3-a8f8-383bc701241e",
   "metadata": {},
   "outputs": [],
   "source": [
    "#5 merge CA df and crosswalk\n",
    "\n",
    "# GOOD TO GO\n",
    "df = pd.merge(\n",
    "        ca,\n",
    "        # Merging on too many columns can create problems \n",
    "        # because csvs and dtypes aren't stable / consistent \n",
    "        # for NTD ID, Legacy NTD ID, and UZA\n",
    "        crosswalk[[\"ntd_id\", \"RTPA\"]],\n",
    "        #change on = value to ntd_id\n",
    "        on = \"ntd_id\",\n",
    "        how = \"left\",\n",
    "        indicator = True\n",
    "    )\n",
    "    \n",
    "print(df._merge.value_counts())"
   ]
  },
  {
   "cell_type": "code",
   "execution_count": null,
   "id": "d340b257-3e48-4a93-8b90-f35cb25baa5b",
   "metadata": {},
   "outputs": [],
   "source": [
    "#6 flag to see if there are any unmerged rows \n",
    "\n",
    "# GOOD TO GO\n",
    "if len(df[df._merge==\"left_only\"]) > 0:\n",
    "        raise ValueError(\"There are unmerged rows to crosswalk\")"
   ]
  },
  {
   "cell_type": "code",
   "execution_count": null,
   "id": "3203c644-6abb-4771-98a4-a8967fee714f",
   "metadata": {},
   "outputs": [],
   "source": [
    "#7 reverses the MONTH_DICT \n",
    "\n",
    "# Add new columns    \n",
    "reversed_months = {v:k for k, v in MONTH_DICT.items()}\n",
    "    \n",
    "for m in range(1, reversed_months[month] + 1):\n",
    "    df = add_change_columns(df, year, m)"
   ]
  },
  {
   "cell_type": "code",
   "execution_count": null,
   "id": "fcea83ac-ce3f-449a-93c8-0fb755472c8c",
   "metadata": {},
   "outputs": [],
   "source": [
    "# FINAL FORM\n",
    "\n",
    "\n",
    "# final updated  `produce_ntd_monthly_ridership_by_rtpa` function.\n",
    "# may not need the upt_url\n",
    "\n",
    "def produce_ntd_monthly_ridership_by_rtpa(\n",
    "    #upt_url: str,\n",
    "    year: int,\n",
    "    month: str\n",
    ") -> pd.DataFrame:\n",
    "    \"\"\"\n",
    "    Import NTD data from url, filter to CA, \n",
    "    merge in crosswalk, and save individual csvs.\n",
    "    \"\"\"\n",
    "    full_upt = (tbls.mart_ntd.dim_monthly_ntd_ridership_with_adjustments() >> collect()\n",
    "               ).rename(columns = {\"mode_type_of_service_status\": \"Status\"})\n",
    "    \n",
    "    full_upt = full_upt[full_upt.agency.notna()].reset_index(drop=True)\n",
    "    #full_upt.to_parquet(\n",
    "    #    f\"{GCS_FILE_PATH}ntd_monthly_ridership_{year}_{month}.parquet\"\n",
    "    #)\n",
    "    ca = full_upt[(full_upt[\"uza_name\"].str.contains(\", CA\")) & \n",
    "            (full_upt.agency.notna())].reset_index(drop=True)\n",
    "    \n",
    "    crosswalk = pd.read_csv(\n",
    "        f\"gs://calitp-analytics-data/data-analyses/ntd/ntd_id_rtpa_crosswalk.csv\", \n",
    "        dtype = {\"NTD ID\": \"str\"}\n",
    "    #have to rename NTD ID col to match the dim table\n",
    "    ).rename(columns={\"NTD ID\": \"ntd_id\"})\n",
    "    \n",
    "    df = pd.merge(\n",
    "        ca,\n",
    "        # Merging on too many columns can create problems \n",
    "        # because csvs and dtypes aren't stable / consistent \n",
    "        # for NTD ID, Legacy NTD ID, and UZA\n",
    "        crosswalk[[\"ntd_id\", \"RTPA\"]],\n",
    "        #change on = value to ntd_id\n",
    "        on = \"ntd_id\",\n",
    "        how = \"left\",\n",
    "        indicator = True\n",
    "    )\n",
    "    \n",
    "    print(df._merge.value_counts())\n",
    "    \n",
    "    # Good, everything merged, as we want\n",
    "    if len(df[df._merge==\"left_only\"]) > 0:\n",
    "        raise ValueError(\"There are unmerged rows to crosswalk\")\n",
    "        \n",
    "    # Add new columns    \n",
    "    reversed_months = {v:k for k, v in MONTH_DICT.items()}\n",
    "    \n",
    "    for m in range(1, reversed_months[month] + 1):\n",
    "        df = add_change_columns(df, year, m)\n",
    "    \n",
    "    df = df.assign(\n",
    "        Mode_full = df.Mode.map(NTD_MODES),\n",
    "        TOS_full = df.TOS.map(NTD_TOS)\n",
    "    )\n",
    "    \n",
    "    return df\n"
   ]
  },
  {
   "cell_type": "markdown",
   "id": "68d82320-64ac-4083-bb7f-9c770939ef31",
   "metadata": {
    "tags": []
   },
   "source": [
    "---\n",
    "## Do I need `reserved_months` anymore?\n",
    "RE: `produce_ntd_monthly_ridership_by_rtpa` function.\n",
    "\n",
    "\n",
    "Since the new table uses a `yyyy-mm` format now. i dont think i need the revesre months anymore. what else needs to change?\n",
    "reversed month was needed for the `add_change_columns` function.  \n",
    "\n",
    "**NO LONGER NEEDED SINCE `add_change_columns_v2` WORKS WITHOUT USING MONTH_DICT\n"
   ]
  },
  {
   "cell_type": "code",
   "execution_count": null,
   "id": "eaa54198-aa30-4a44-9596-a5d167c7e476",
   "metadata": {},
   "outputs": [],
   "source": [
    "# what does reversed months do?\n",
    "\n",
    "reversed_months = {v:k for k, v in MONTH_DICT.items()}\n",
    "\n",
    "# what MONTH_DICT looks like initially.\n",
    "\n",
    "print(\"this is MONTH_DICT\"),\n",
    "display(MONTH_DICT),\n",
    "\n",
    "# like the name implies, reverses the key values pairs. \n",
    "print(\"this is reversed_months\"),\n",
    "display(reversed_months)\n"
   ]
  },
  {
   "cell_type": "code",
   "execution_count": null,
   "id": "9ad26a19-2ecd-498e-921d-fc88679d332c",
   "metadata": {},
   "outputs": [],
   "source": [
    "# what is the date format in the new df\n",
    "# YYYY-MM\n",
    "df[\"period_year_month\"].sample(3)"
   ]
  },
  {
   "cell_type": "code",
   "execution_count": null,
   "id": "1676147c-04b9-4fc3-a187-627b30cbbd6d",
   "metadata": {},
   "outputs": [],
   "source": [
    "# what is the date format in the old data?\n",
    "# M/YYYY\n",
    "old_march_2024_ridership.iloc[:,18:22].head()"
   ]
  },
  {
   "cell_type": "markdown",
   "id": "773e997d-42a2-4922-b072-247f1cc786a2",
   "metadata": {},
   "source": [
    "## options\n",
    "* change the df date format to match reversed_months format. (yyyy-mm to mm/yyy)\n",
    "    * can use a mix of split, str replace, and reversing via slicing \n",
    "* change the `add_change_column` function to accept yyyy-mm\n",
    "    * make a v2 of this function that accepts yyyy-mm, creates a new column, and applys some function by looking at the row period_year_month and finding the \"period_year_month\" -1 yr to calculate the difference."
   ]
  },
  {
   "cell_type": "markdown",
   "id": "2224dc45-0a66-4266-a6e4-89767b153844",
   "metadata": {
    "tags": []
   },
   "source": [
    "# TEST update `add_change_columns` function\n",
    "need to update this function so it can work with the `produce_ntd_monthly_ridership_by_rtpa` function"
   ]
  },
  {
   "cell_type": "code",
   "execution_count": null,
   "id": "1a4b22dd-7614-4384-977a-abdaeac2c37b",
   "metadata": {},
   "outputs": [],
   "source": [
    "# updated to match new year-month format \n",
    "\n",
    "def add_change_columns_v2(\n",
    "    df: pd.DataFrame,\n",
    "    year: int,\n",
    "    month: int\n",
    ") -> pd.DataFrame:\n",
    "    \"\"\"\n",
    "    updated to accept yyyy-mm format.\n",
    "    \n",
    "    \"\"\"    \n",
    "    ntd_month_col = f\"{year}-{month}\"\n",
    "    prior_year_col = f\"{int(year)-1}-{month}\"\n",
    "        \n",
    "    df[f\"change_1yr_{ntd_month_col}\"] = df[ntd_month_col] - df[prior_year_col]\n",
    "    df = get_percent_change(df, ntd_month_col, prior_year_col)\n",
    "    \n",
    "    return df"
   ]
  },
  {
   "cell_type": "code",
   "execution_count": null,
   "id": "1cdc40ad-b23e-4056-8560-ce6b40a1712a",
   "metadata": {},
   "outputs": [],
   "source": [
    "# can i use a lambda function to create a new column that:\n",
    "# checks every row (x), if the row has a `period_year_month` value, does it have a `period_year_month` -1 year value in the same column? \n",
    "    # if true, then subtract `period_year_month` by `period_year_month`-1 year.\n",
    "    # else return 0\n",
    "year = 2023\n",
    "month = \"05\"\n",
    "\n",
    "current_y_m = f\"{year}-{month}\"\n",
    "prior_y_m = f\"{int(year)-1}-{month}\"\n",
    "\n",
    "# using current_y_m works and prior_year_col works\n",
    "df[df[\"period_year_month\"].str.contains(prior_y_m)].head(3)\n",
    "\n"
   ]
  },
  {
   "cell_type": "code",
   "execution_count": null,
   "id": "04a62dd8-422c-417b-b6c5-b1d2e92a526e",
   "metadata": {},
   "outputs": [],
   "source": [
    "# first attempt at what im trying to do\n",
    "\n",
    "# create a new column called \"change 1yr\"\n",
    "# at each row in \"period_month_year\", do what? take the value of that row, then mimus the value of the previous period_mont_year -1\n",
    "\n",
    "#this doesnt work becaues im not indicating how X is used, \n",
    "#df[\"change_1yr\"] = df[\"period_year_month\"].apply(lambda x: (df[\"period_year_month\"].str.contains(current_y_m)[\"upt\"]) - (df[\"period_year_month\"].str.contains(prior_year_col)[\"upt\"]))\n",
    "\n",
    "#pseudo code\n",
    "df[\"change_1yr\"] = df[\"period_year_month\"].apply(lambda x: (upt at x for current_y_m, agency, tos and mode)  - \n",
    "                                                 (upt at x for prior_y_m, current_y_m, agency, tos and mode))\n",
    "\n"
   ]
  },
  {
   "cell_type": "code",
   "execution_count": null,
   "id": "79c8f1a4-5c1f-469d-babd-e596aa2291b7",
   "metadata": {},
   "outputs": [],
   "source": [
    "# how can i see the specific UPT for a specific agency, mode & TOS and date?\n",
    "\n",
    "#uses .loc at current_y_m UPT, position 0, minus .loc at previous_year_col UPT, position o\n",
    "# but is is the same agency/mode/tos in both sides of the equation?\n",
    "df.loc[df[\"period_year_month\"] == current_y_m,\"upt\"].values[0] - df.loc[df[\"period_year_month\"] == prior_y_m,\"upt\"].values[0]"
   ]
  },
  {
   "cell_type": "code",
   "execution_count": null,
   "id": "e1209c93-4484-47c9-9d8e-8ab313364eb5",
   "metadata": {},
   "outputs": [],
   "source": [
    "df.loc[\n",
    "        (df[\"period_year_month\"] == current_y_m) &\n",
    "        (df[\"ntd_id\"] == df[\"ntd_id\"]) &\n",
    "        (df[\"mode\"] == df[\"mode\"]) &\n",
    "        (df[\"tos\"] == df[\"tos\"]), \"upt\"\n",
    "    ].head()"
   ]
  },
  {
   "cell_type": "code",
   "execution_count": null,
   "id": "46c9e8f3-7587-433c-af0a-b4179ef0096a",
   "metadata": {},
   "outputs": [],
   "source": [
    "df.sample(3)"
   ]
  },
  {
   "cell_type": "code",
   "execution_count": null,
   "id": "1a774a0e-89c5-4987-898f-97156aa3122d",
   "metadata": {},
   "outputs": [],
   "source": [
    "df.loc[df[\"period_year_month\"] == prior_y_m, \"upt\"][:10]\n"
   ]
  },
  {
   "cell_type": "code",
   "execution_count": null,
   "id": "75838c83-3ca3-4830-bff9-f7ea38a653ba",
   "metadata": {},
   "outputs": [],
   "source": [
    "def test_difference_func(row, current_y_m, prior_y_m ):\n",
    "    current_ym_val =  df.loc[\n",
    "        (df[\"period_year_month\"] == current_y_m) &\n",
    "        (df[\"ntd_id\"] == row[\"ntd_id\"]) &\n",
    "        (df[\"mode\"] == row[\"mode\"]) &\n",
    "        (df[\"tos\"] == row[\"tos\"]), \"upt\"\n",
    "    ]\n",
    "    \n",
    "    prev_ym_val =  df.loc[\n",
    "        (df[\"period_year_month\"] == prior_y_m) &\n",
    "        (df[\"ntd_id\"] == row[\"ntd_id\"]) &\n",
    "        (df[\"mode\"] == row[\"mode\"]) &\n",
    "        (df[\"tos\"] == row[\"tos\"]), \"upt\"\n",
    "    ]\n",
    "    \n",
    "    return (current_ym_val - prev_ym_val)"
   ]
  },
  {
   "cell_type": "code",
   "execution_count": null,
   "id": "654049d8-42ee-45d2-8e16-7a6cbee0c243",
   "metadata": {},
   "outputs": [],
   "source": [
    "test_df = df[:50].copy()"
   ]
  },
  {
   "cell_type": "code",
   "execution_count": null,
   "id": "f169ee13-0c9f-42aa-becd-3a89c3685a8b",
   "metadata": {},
   "outputs": [],
   "source": [
    "test_df.columns"
   ]
  },
  {
   "cell_type": "code",
   "execution_count": null,
   "id": "dbc8858a-d2f5-4f76-90de-ef9d9c3ced0e",
   "metadata": {},
   "outputs": [],
   "source": [
    "year = 2023\n",
    "month = \"05\"\n",
    "\n",
    "current_y_m = f\"{year}-{month}\"\n",
    "prior_y_m = f\"{int(year)-1}-{month}\"\n",
    "\n",
    "display(\n",
    "    current_y_m,\n",
    "    prior_y_m\n",
    ")"
   ]
  },
  {
   "cell_type": "code",
   "execution_count": null,
   "id": "dc6a8943-98bc-4450-90e9-1069a7682357",
   "metadata": {},
   "outputs": [],
   "source": [
    "test_df[\"test_col\"] = test_df.apply(lambda row: test_difference_func(row, current_y_m=\"2023-05\", prior_y_m=\"2022-05\"), axis=1)"
   ]
  },
  {
   "cell_type": "markdown",
   "id": "83efcd8a-73fe-48c9-a88f-28315b49950b",
   "metadata": {},
   "source": [
    "So im having trouble with coming up with a `change 1yr` column, now that the dataset is long (instead of the previous wide)\n",
    "\n",
    "what i was going for was something like:\n",
    "- adding a new column to the dataset called `change 1yr`, that takes the `UPT` value of the `ntd_id, mod, tos` for current `period_year_month` (ex. 2024-05) row, and subtracts the `UPT` value from the previous year's `period_year_month` (ex. 2024-05) row of the same `ntd_id, mod, tos`.\n",
    "\n",
    "- i thought i had something with a .apply(lambda x:) method, but wasnt etting anywhere.\n",
    "\n",
    "any suggestions on how i should approach this?\n"
   ]
  },
  {
   "cell_type": "markdown",
   "id": "4570a463-918a-4369-9722-cd54e7f35bf7",
   "metadata": {},
   "source": [
    "---"
   ]
  },
  {
   "cell_type": "code",
   "execution_count": null,
   "id": "bf6b1d92-be22-41c7-a2f9-6f4956373886",
   "metadata": {},
   "outputs": [],
   "source": [
    "# what is the most recent period_year_month? as of 7/2/2024\\\n",
    "# should expect to see values up tp May 2024\n",
    "display(\n",
    "    ca[ca[\"period_year_month\"] == \"2024-04\"].shape,\n",
    "    # as of 7/2, zero rows for May 2024. but expect ntd to update that data soon.\n",
    "    # 7/15, still no values for May 2024\n",
    "    ca[ca[\"period_year_month\"] == \"2024-05\"].shape\n",
    ")"
   ]
  },
  {
   "cell_type": "markdown",
   "id": "fc75fab4-0c99-4021-a5ba-0e7ceffc7422",
   "metadata": {},
   "source": [
    "# Tiffany method to get change 1yr working\n",
    "\n",
    "[see link to her old GH sctipt](https://github.com/CityOfLosAngeles/covid19-indicators/blob/master/processing_utils/utils.py#L306-L315)\n",
    "\n",
    "The .shift() method in Pandas is used to shift the values of a DataFrame or Series by a specified number of periods along the given axis.\n",
    "When you use .shift(), the data in the DataFrame or Series is moved up or down, while the index/columns stay in place. can move the entire dataframe up/down/left/right, or just a row or column in any direction.\n",
    "\n",
    "Per Tiffany\n",
    "- \"i think you could perhaps make this idea work. that snippet uses .shift to get you a previous observation and a post observation. in this case, it's the previous day and the day after. but for you, `you're looking at a previous year (same month)`.\"\n",
    "\n",
    "```\n",
    "sort_cols = [\"county\", \"state\", \"fips\", \"date\"]\n",
    "group_cols = [\"county\", \"state\", \"fips\"]\n",
    "\n",
    "df = df.assign(\n",
    "        previous_day = (df.sort_values(sort_cols)\n",
    "                        .groupby(group_cols)[\"new_cases\"]\n",
    "                        .apply(lambda x: x.shift(1))\n",
    "                       ),\n",
    "        post_day = (df.sort_values(sort_cols)\n",
    "                    .groupby(group_cols)[\"new_cases\"]\n",
    "                    .apply(lambda x: x.shift(-1))\n",
    "                   ),\n",
    "    )\n",
    "```"
   ]
  },
  {
   "cell_type": "code",
   "execution_count": null,
   "id": "8aad7b75-5e39-4bf5-8129-479eb9a3fb7e",
   "metadata": {},
   "outputs": [],
   "source": [
    "# df of just riverside county transpo agency in select years\n",
    "rcta = ca[(ca[\"ntd_id\"].isin([\"90218\", \"90006\",\"90216\"])) & (ca[\"period_year\"].isin([\"2024\",\"2023\", \"2022\", \"2021\"]))]\n"
   ]
  },
  {
   "cell_type": "code",
   "execution_count": null,
   "id": "4618978f-9d70-4502-ae20-493ec4cd2fb3",
   "metadata": {},
   "outputs": [],
   "source": [
    "rcta[[\"period_year\",\"period_month\"]] = rcta[[\"period_year\",\"period_month\"]].astype(int)"
   ]
  },
  {
   "cell_type": "code",
   "execution_count": null,
   "id": "5c5fb1c6-2d2b-42f9-a6a0-293d447363bb",
   "metadata": {},
   "outputs": [],
   "source": [
    "display(\n",
    "    rcta.columns,\n",
    "    rcta.shape,\n",
    "    rcta.dtypes,\n",
    "    rcta[\"agency\"].value_counts()\n",
    ")"
   ]
  },
  {
   "cell_type": "code",
   "execution_count": null,
   "id": "a1ef7b68-5142-486e-b45c-8a83bc3a0e17",
   "metadata": {
    "tags": []
   },
   "outputs": [],
   "source": [
    "# list of column names to sort the df by\n",
    "# lets sort by mode, tos, period_year_month\n",
    "sort_cols = [\"mode\", \"tos\", \"period_year_month\"]\n",
    "group_cols = [\"mode\", \"tos\"]\n",
    "\n",
    "current_y_m = f\"{year}-{month}\"\n",
    "prior_y_m = f\"{int(year)-1}-{month}\""
   ]
  },
  {
   "cell_type": "code",
   "execution_count": null,
   "id": "7f6b7d8a-bac2-4444-809e-ee5c73bda77d",
   "metadata": {
    "tags": []
   },
   "outputs": [],
   "source": [
    "previous_day = (rcta.sort_values(sort_cols) #sort df by oldest date\n",
    "                        .groupby(group_cols)[\"upt\"] #returns only upt values\n",
    "                        .apply(lambda x: x.shift(1)) #shifts upt values down by 1 step\n",
    "                       )\n",
    "\n",
    "next_day = (rcta.sort_values(sort_cols) #sort df by oldest date\n",
    "                        .groupby(group_cols)[\"upt\"] #returns only upt values\n",
    "                        .apply(lambda x: x.shift(-1)) #shifts upt values up by 1 step\n",
    "                       )\n",
    "display(\n",
    "    type(previous_day),\n",
    "    rcta.sort_values(sort_cols).groupby(group_cols)[\"upt\"].head(),\n",
    "    previous_day.head(),\n",
    "    next_day.head()\n",
    "\n",
    ")\n",
    "# result is a series of the \"upt\" col shifted down 1 place"
   ]
  },
  {
   "cell_type": "code",
   "execution_count": null,
   "id": "854beae9-c7aa-44c5-b8dc-a16e2b0906d8",
   "metadata": {
    "tags": []
   },
   "outputs": [],
   "source": [
    "# put together, what happens?\n",
    "# as is, new columns will be added to the DF, called prev_day and next_day. filled with values from upt shifted down one day and up one day respectivley. \n",
    "\n",
    "rcta.sort_values(sort_cols).groupby(group_cols)[\"upt\"] = rcta.assign(\n",
    "    previous_day = (rcta.sort_values(sort_cols) #sort df by oldest date\n",
    "                        .groupby(group_cols)[\"upt\"] #returns only upt values\n",
    "                        .apply(lambda x: x.shift(1)) #shifts upt values down by 1 step\n",
    "                       ),\n",
    "    next_day = (rcta.sort_values(sort_cols) #sort df by oldest date\n",
    "                        .groupby(group_cols)[\"upt\"] #returns only upt values\n",
    "                        .apply(lambda x: x.shift(-1)) #shifts upt values up by 1 step\n",
    "                       ),\n",
    "\n",
    ")\n",
    "The above code shifts the UPT data down/up 1 step"
   ]
  },
  {
   "cell_type": "code",
   "execution_count": null,
   "id": "dc63371a-b254-4bf0-b7cf-4ba4b4cd0552",
   "metadata": {},
   "outputs": [],
   "source": [
    "# How can i adapt this code to shift the just year?\n",
    "# apply the shift to period_year?\n",
    "\n",
    "sort_cols2 =  [\"ntd_id\",\"mode\", \"tos\",\"period_month\", \"period_year\"] # got the order correct with [\"period_month\", \"period_year\"]! sorted years with grouped months\n",
    "group_cols2 = [\"ntd_id\",\"mode\", \"tos\"]\n",
    "\n",
    "rcta = rcta.assign(\n",
    "    #this works! previous_y_m_upt shifted down 1 step as intended for each agency! each agency's first year_month got a NaN for previous_y_m_upt\n",
    "    previous_y_m_upt = (rcta.sort_values(sort_cols2) #sort df by oldest date\n",
    "                        .groupby(group_cols2)[\"upt\"] #\n",
    "                        .apply(lambda x: x.shift(1)) #shifts upt values down by 1 step\n",
    "                       ),\n",
    "    #THIS WORKS! the math works out!\n",
    "    change_1yr = (rcta[\"upt\"] - rcta[\"previous_y_m_upt\"])\n",
    "                  )\n"
   ]
  },
  {
   "cell_type": "code",
   "execution_count": null,
   "id": "047cb7a3-9d3f-4b0b-b6c7-294e3d2d283a",
   "metadata": {},
   "outputs": [],
   "source": [
    "display(\n",
    "    #easy to see the differences when the DF is sorte the same way,\n",
    "    rcta.sort_values(sort_cols2).head(),\n",
    "    \n",
    "    #does the math work out when the df is not sorted? YES IT IS!!\n",
    "    rcta.sample(5)\n",
    ")"
   ]
  },
  {
   "cell_type": "markdown",
   "id": "8295ea6c-6639-41d9-a05d-d4facb016aec",
   "metadata": {
    "tags": []
   },
   "source": [
    "# FINAL `get_percent_change_v2` function\n",
    "\n",
    "initial code\n",
    "```\n",
    "def get_percent_change(\n",
    "    df: pd.DataFrame, \n",
    "    current_col: str, \n",
    "    prior_col: str\n",
    ") -> pd.DataFrame:\n",
    "    \n",
    "    df[f\"pct_change_1yr_{current_col}\"] = (\n",
    "        (df[current_col] - df[prior_col])\n",
    "        .divide(df[current_col])\n",
    "        .round(4)\n",
    "    )\n",
    "    \n",
    "    return df\n",
    "```\n"
   ]
  },
  {
   "cell_type": "code",
   "execution_count": null,
   "id": "cf5bf41a-503c-4545-b50a-ef623b91593c",
   "metadata": {},
   "outputs": [],
   "source": [
    "def get_percent_change_v2(\n",
    "    df: pd.DataFrame, \n",
    ") -> pd.DataFrame:\n",
    "    \"\"\"\n",
    "    updated to work with the warehouse `dim_monthly_ntd_ridership_with_adjustments` long data format. \n",
    "    \n",
    "    \n",
    "    \"\"\"\n",
    "    df[\"pct_change_1yr\"] = (\n",
    "        (df[\"upt\"] - df[\"previous_y_m_upt\"])\n",
    "        .divide(df[\"upt\"])\n",
    "        .round(4)\n",
    "    )\n",
    "    \n",
    "    return df"
   ]
  },
  {
   "cell_type": "code",
   "execution_count": null,
   "id": "c920ae30-9594-4add-8f97-53e34d7ae7b7",
   "metadata": {},
   "outputs": [],
   "source": [
    "#it works!!\n",
    "test_df = get_percent_change_v2(test_df)\n",
    "\n",
    "test_df.head()"
   ]
  },
  {
   "cell_type": "markdown",
   "id": "641841d5-a055-4aa4-9f04-eb4e761910c6",
   "metadata": {},
   "source": [
    "## ~How to deal with `inf` and `NaN`~ \n",
    "* `inf` when dividing by zero\n",
    "* or `NaN` when 0 minus 0\n",
    "\n",
    "SOLUTOIN! Already have `remove zero upt rows` function in notebooks\n",
    "\n"
   ]
  },
  {
   "cell_type": "markdown",
   "id": "317f7a1b-d56d-4ab6-883c-721b20e4e484",
   "metadata": {
    "tags": []
   },
   "source": [
    "# FINAL `add_change_columns_v2` function"
   ]
  },
  {
   "cell_type": "code",
   "execution_count": null,
   "id": "bb0a6f2b-0cfe-4b14-a534-11702aeccb79",
   "metadata": {},
   "outputs": [],
   "source": [
    "def add_change_columns_v2(df: pd.DataFrame) -> pd.DataFrame:\n",
    "    \"\"\"\n",
    "    This function works with the warehouse `dim_monthly_ntd_ridership_with_adjustments` long data format.\n",
    "    Sorts the df by ntd id, mode, tos, period month and period year. then adds 2 new columns, 1. previous year/month UPT and 2. UPT change 1yr.\n",
    "    \"\"\"\n",
    "\n",
    "    sort_cols2 =  [\"ntd_id\",\"mode\", \"tos\",\"period_month\", \"period_year\"] # got the order correct with [\"period_month\", \"period_year\"]! sorted years with grouped months\n",
    "    group_cols2 = [\"ntd_id\",\"mode\", \"tos\"]\n",
    "    \n",
    "    df[[\"period_year\",\"period_month\"]] = df[[\"period_year\",\"period_month\"]].astype(int)\n",
    "\n",
    "    df = df.assign(\n",
    "        previous_y_m_upt = (df.sort_values(sort_cols2)\n",
    "                        .groupby(group_cols2)[\"upt\"] \n",
    "                        .apply(lambda x: x.shift(1))\n",
    "                       )\n",
    "    )\n",
    "\n",
    "    df[\"change_1yr\"] = (df[\"upt\"] - df[\"previous_y_m_upt\"])\n",
    "    \n",
    "    df = get_percent_change_v2(df)\n",
    "    \n",
    "    return df"
   ]
  },
  {
   "cell_type": "code",
   "execution_count": null,
   "id": "d53d18d3-144c-4098-a5b2-20e228e1de52",
   "metadata": {},
   "outputs": [],
   "source": [
    "ca.shape"
   ]
  },
  {
   "cell_type": "code",
   "execution_count": null,
   "id": "befb9f2b-7b65-454a-927b-cd879386c7d9",
   "metadata": {},
   "outputs": [],
   "source": [
    "#test to ensure `add_change_columns_v2` works\n",
    "test_df = add_change_columns_v2(rcta)\n",
    "\n",
    "big_test = add_change_columns_v2(ca)\n",
    "\n",
    "really_big_test = add_change_columns_v2(full_upt)"
   ]
  },
  {
   "cell_type": "code",
   "execution_count": null,
   "id": "fd6aadc3-bc98-44a0-be8d-13c5e32eef06",
   "metadata": {},
   "outputs": [],
   "source": [
    "#it works!\n",
    "display(\n",
    "    test_df.shape,\n",
    "    big_test.shape,\n",
    "    really_big_test.shape,\n",
    "    test_df.columns\n",
    ")\n",
    "\n",
    "display(\n",
    "    rcta.shape,\n",
    "    ca.shape,\n",
    "    full_upt.shape\n",
    ")"
   ]
  },
  {
   "cell_type": "markdown",
   "id": "ea3d149b-76de-43b3-a681-5ec276a7f802",
   "metadata": {},
   "source": [
    "# ensuring the `.assign(NTD_MODES and NTD_TOS)` works."
   ]
  },
  {
   "cell_type": "code",
   "execution_count": null,
   "id": "15060c98-39a5-48fc-b329-9c6f50274103",
   "metadata": {},
   "outputs": [],
   "source": [
    "#it works\n",
    "more_test = test_df.assign(\n",
    "        Mode_full = test_df[\"mode\"].map(NTD_MODES),\n",
    "        TOS_full = test_df[\"tos\"].map(NTD_TOS)\n",
    "    )\n",
    "more_test.columns"
   ]
  },
  {
   "cell_type": "markdown",
   "id": "a0590750-ba7d-4422-bf76-8e819b460e9b",
   "metadata": {},
   "source": [
    "# FINAL produce_ntd_monthly_ridership_by_rtpa_v2 function\n",
    "\n",
    "now that `add_change_col_v2` & `get_percent_change_v2` are working. lets put it all together"
   ]
  },
  {
   "cell_type": "code",
   "execution_count": null,
   "id": "e6803a32-34c8-43df-a739-854e5ec17bc8",
   "metadata": {},
   "outputs": [],
   "source": [
    "def produce_ntd_monthly_ridership_by_rtpa_v2(\n",
    "    #df: pd.DataFrame,\n",
    "    year: int,\n",
    "    month: int\n",
    ") -> pd.DataFrame:\n",
    "    \"\"\"\n",
    "    This function works with the warehouse `dim_monthly_ntd_ridership_with_adjustments` long data format.\n",
    "    \"\"\"\n",
    "    full_upt = (tbls.mart_ntd.dim_monthly_ntd_ridership_with_adjustments() >> collect()).rename(columns = {\"mode_type_of_service_status\": \"Status\"})\n",
    "    \n",
    "    #updating month & year to int is already in add_change_columns_v2. keeping here for now.\n",
    "    #full_upt[[\"period_year\",\"period_month\"]] = full_upt[[\"period_year\",\"period_month\"]].astype(int)\n",
    "    \n",
    "    full_upt = full_upt[full_upt.agency.notna()].reset_index(drop=True)\n",
    "    \n",
    "    full_upt.to_parquet(\n",
    "        f\"{GCS_FILE_PATH}ntd_monthly_ridership_{year}_{month}.parquet\"\n",
    "    )\n",
    "    \n",
    "    ca = full_upt[(full_upt[\"uza_name\"].str.contains(\", CA\")) & \n",
    "            (full_upt.agency.notna())].reset_index(drop=True)\n",
    "    \n",
    "    crosswalk = pd.read_csv(\n",
    "        f\"gs://calitp-analytics-data/data-analyses/ntd/ntd_id_rtpa_crosswalk.csv\", \n",
    "        dtype = {\"NTD ID\": \"str\"}\n",
    "    #have to rename NTD ID col to match the dim table\n",
    "    ).rename(columns={\"NTD ID\": \"ntd_id\"})\n",
    "    \n",
    "    df = pd.merge(\n",
    "        ca,\n",
    "        # Merging on too many columns can create problems \n",
    "        # because csvs and dtypes aren't stable / consistent \n",
    "        # for NTD ID, Legacy NTD ID, and UZA\n",
    "        crosswalk[[\"ntd_id\", \"RTPA\"]],\n",
    "        #change on = value to ntd_id\n",
    "        on = \"ntd_id\",\n",
    "        how = \"left\",\n",
    "        indicator = True\n",
    "    )\n",
    "    \n",
    "    print(df._merge.value_counts())\n",
    "    \n",
    "    if len(df[df._merge==\"left_only\"]) > 0:\n",
    "        raise ValueError(\"There are unmerged rows to crosswalk\")\n",
    "    \n",
    "    df = add_change_columns_v2(df)\n",
    "    \n",
    "    df = df.assign(\n",
    "        Mode_full = df[\"mode\"].map(NTD_MODES),\n",
    "        TOS_full = df[\"tos\"].map(NTD_TOS)\n",
    "    )\n",
    "    \n",
    "    return df\n",
    "    "
   ]
  },
  {
   "cell_type": "markdown",
   "id": "567aaf29-d932-4834-8158-5d419346a9ab",
   "metadata": {},
   "source": [
    "# Full Run test of `produce_ntd_monthly...v2`"
   ]
  },
  {
   "cell_type": "code",
   "execution_count": null,
   "id": "81ae206c-075c-4dad-afd1-a53493774cdb",
   "metadata": {},
   "outputs": [],
   "source": [
    "full_run_test = produce_ntd_monthly_ridership_by_rtpa_v2(YEAR, MONTH)\n",
    "# it works!!\n",
    "# also saving the temp GCS folder!\n",
    "\n",
    "full_run_test.to_parquet(f\"{GCS_FILE_PATH}ca_monthly_ridership_{YEAR}_{MONTH}.parquet\")"
   ]
  },
  {
   "cell_type": "code",
   "execution_count": null,
   "id": "70fa8e22-4df4-4ace-b791-924671668d9f",
   "metadata": {},
   "outputs": [],
   "source": [
    "display(\n",
    "    full_run_test.columns,\n",
    "    full_run_test.sample(3),\n",
    "    full_run_test[\"reporter_type\"].sort_values().unique()\n",
    ")\n",
    "\n",
    "# as of 7/22/2024. still only see '2024-04' as the latest date. need may 2024"
   ]
  },
  {
   "cell_type": "markdown",
   "id": "5064b4f5-a914-4700-8152-cc767e8f3c9e",
   "metadata": {},
   "source": [
    "# FINAL `save_rtpa_outputs_v2`"
   ]
  },
  {
   "cell_type": "code",
   "execution_count": null,
   "id": "81eca4c9-7350-4a5b-8335-f5deaff70941",
   "metadata": {},
   "outputs": [],
   "source": []
  },
  {
   "cell_type": "code",
   "execution_count": null,
   "id": "15a34e5c-90e2-4762-8f74-ee89b2ecc9cc",
   "metadata": {},
   "outputs": [],
   "source": [
    "# NOT FINAL\n",
    "#def save_rtpa_outputs_v2(\n",
    "    df: pd.DataFrame( \n",
    "    year: int, \n",
    "    month: str,\n",
    "    upload_to_public: bool = False\n",
    "):\n",
    "    \"\"\"\n",
    "    Export a csv for each RTPA into a folder.\n",
    "    Zip that folder. \n",
    "    Upload zipped file to GCS.\n",
    "    \"\"\"\n",
    "    for i in df[\"RTPA\"].unique():\n",
    "        # Filename should be snakecase\n",
    "        rtpa_snakecase = i.replace(' ', '_').lower()\n",
    "\n",
    "        (df[df[\"RTPA\"] == i]\n",
    "         .sort_values(\"ntd_id\")\n",
    "         .drop(columns = \"_merge\")\n",
    "         .to_csv(\n",
    "            f\"./{year}_{month}/{rtpa_snakecase}.csv\",\n",
    "            index = False)\n",
    "        )\n",
    "        \n",
    "    shutil.make_archive(f\"./{year}_{month}\", \"zip\", f\"{year}_{month}\")\n",
    "    print(\"Zipped folder\")\n",
    "    \n",
    "    fs.upload(\n",
    "        f\"./{year}_{month}.zip\", \n",
    "        f\"{GCS_FILE_PATH}{year}_{month}.zip\"\n",
    "    )\n",
    "    \n",
    "    if upload_to_public:\n",
    "        fs.upload(\n",
    "            f\"./{year}_{month}.zip\",\n",
    "            f\"{PUBLIC_GCS}ntd_monthly_ridership/{year}_{month}.zip\"\n",
    "        )\n",
    "    \n",
    "    print(\"Uploaded to GCS\")\n",
    "    \n",
    "    return"
   ]
  },
  {
   "cell_type": "markdown",
   "id": "b0414dc8-b256-43e8-9a0e-5d531c5dcd20",
   "metadata": {},
   "source": [
    "## Test `save_rtpa_outputs_v2`\n",
    "\n",
    "initial code\n",
    "```\n",
    "def save_rtpa_outputs(\n",
    "    df: pd.DataFrame, year: int, month: str,\n",
    "    upload_to_public: bool = False\n",
    "):\n",
    "    \"\"\"\n",
    "    Export a csv for each RTPA into a folder.\n",
    "    Zip that folder. \n",
    "    Upload zipped file to GCS.\n",
    "    \"\"\"\n",
    "    for i in df.RTPA.unique():\n",
    "        # Filename should be snakecase\n",
    "        rtpa_snakecase = i.replace(' ', '_').lower()\n",
    "\n",
    "        (df[df.RTPA == i]\n",
    "         .sort_values(\"NTD ID\")\n",
    "         .drop(columns = \"_merge\")\n",
    "         .to_csv(\n",
    "            f\"./{year}_{month}/{rtpa_snakecase}.csv\",\n",
    "            index = False)\n",
    "        )\n",
    "       \n",
    "    # Zip this folder, and save zipped output to GCS\n",
    "    shutil.make_archive(f\"./{year}_{month}\", \"zip\", f\"{year}_{month}\")\n",
    "    print(\"Zipped folder\")\n",
    "    \n",
    "    fs.upload(\n",
    "        f\"./{year}_{month}.zip\", \n",
    "        f\"{GCS_FILE_PATH}{year}_{month}.zip\"\n",
    "    )\n",
    "    \n",
    "    if upload_to_public:\n",
    "        fs.upload(\n",
    "            f\"./{year}_{month}.zip\",\n",
    "            f\"{PUBLIC_GCS}ntd_monthly_ridership/{year}_{month}.zip\"\n",
    "        )\n",
    "    \n",
    "    print(\"Uploaded to GCS\")\n",
    "    \n",
    "    return\n",
    "```"
   ]
  },
  {
   "cell_type": "code",
   "execution_count": null,
   "id": "f69c247b-a65f-4d14-9e5d-da4d46861472",
   "metadata": {},
   "outputs": [],
   "source": [
    "# test to read in local excel sheet, and add it to another sheet\n",
    "cover_sheet = pd.read_excel(\"./cover_sheet_template.xlsx\")"
   ]
  },
  {
   "cell_type": "code",
   "execution_count": null,
   "id": "0f4f28a7-25a9-4e4f-8ff7-3aad1781d46e",
   "metadata": {},
   "outputs": [],
   "source": [
    "type(cover_sheet)"
   ]
  },
  {
   "cell_type": "code",
   "execution_count": null,
   "id": "fda96541-d166-4a7f-a92b-ee72042c034e",
   "metadata": {},
   "outputs": [],
   "source": [
    "#testing how to append a sheet to an existing workbook\n",
    "#this works by itself\n",
    "with pd.ExcelWriter(\"./2024_April/butte_county_association_of_governments.xlsx\", mode =\"a\") as writer:\n",
    "    cover_sheet.to_excel(writer, sheet_name = \"1. Cover Sheet\")"
   ]
  },
  {
   "cell_type": "code",
   "execution_count": null,
   "id": "3abb7bc9-8d89-40bd-b98e-83953c261e78",
   "metadata": {},
   "outputs": [],
   "source": [
    "# TEst to str replace and title case the columns name\n",
    "\n",
    "test_df = full_run_test.copy()\n",
    "\n",
    "test_df.columns\n"
   ]
  },
  {
   "cell_type": "code",
   "execution_count": null,
   "id": "4b3f49cf-cad9-4c0d-b920-ac73fd871365",
   "metadata": {},
   "outputs": [],
   "source": [
    "test_df.columns = test_df.columns.str.replace(\"_\", \" \").str.strip().str.title()\n",
    "\n",
    "#changes most of the columns but realized some of the columns \n",
    "# need to change seperately\n",
    "list(test_df.columns)"
   ]
  },
  {
   "cell_type": "code",
   "execution_count": null,
   "id": "3ac8ff0c-1f4d-49a7-acdb-67408fb7bdf0",
   "metadata": {},
   "outputs": [],
   "source": [
    "col_dict ={\n",
    "    'Uace Cd': \"UACE Code\",\n",
    "    'Dt': \"Date\",\n",
    "    'Ntd Id': \"NTD ID\",\n",
    "    'Tos': \"Type of Service\",\n",
    "    'Legacy Ntd Id': \"Legacy NTD ID\",\n",
    "    'Upt': \"UPT\",\n",
    "    'Vrm': \"VRM\",\n",
    "    'Vrh': \"VRH\",\n",
    "    'Voms': \"VOMS\",\n",
    "    'Rtpa': \"RTPA\",\n",
    "    'Previous Y M Upt': \"Previous Year/Month UPT\",\n",
    "    'Change 1Yr': \"Change in 1 Year UPT\",\n",
    "    'Pct Change 1Yr': \"Percent Change in 1 Year UPT\",\n",
    "    'Tos Full': \"Type of Service Full Name\"\n",
    "}\n",
    "\n",
    "test_df = test_df.rename(columns=col_dict)\n",
    "\n",
    "list(test_df.columns)"
   ]
  },
  {
   "cell_type": "code",
   "execution_count": null,
   "id": "807cc8cf-d092-4866-ba00-035034d63867",
   "metadata": {},
   "outputs": [],
   "source": [
    "# TEST VERSION\n",
    "\n",
    "# updated to address feature requests raised by MTC and other RTPAs\n",
    "# x save out as excel,\n",
    "# x include a cover sheet/ READ ME \n",
    "# x unsnakecase the columns\n",
    "# x use dict to rename remaining columns\n",
    "\n",
    "def save_rtpa_outputs_v2(\n",
    "    df: pd.DataFrame, \n",
    "    year: int, \n",
    "    month: str,\n",
    "    upload_to_public: bool = False\n",
    "):\n",
    "    \"\"\"\n",
    "    Export a csv for each RTPA into a folder.\n",
    "    Zip that folder. \n",
    "    Upload zipped file to GCS.\n",
    "    \"\"\"\n",
    "    col_dict ={\n",
    "    'Uace Cd': \"UACE Code\",\n",
    "    'Dt': \"Date\",\n",
    "    'Ntd Id': \"NTD ID\",\n",
    "    'Tos': \"Type of Service\",\n",
    "    'Legacy Ntd Id': \"Legacy NTD ID\",\n",
    "    'Upt': \"UPT\",\n",
    "    'Vrm': \"VRM\",\n",
    "    'Vrh': \"VRH\",\n",
    "    'Voms': \"VOMS\",\n",
    "    'Rtpa': \"RTPA\",\n",
    "    'Previous Y M Upt': \"Previous Year/Month UPT\",\n",
    "    'Change 1Yr': \"Change in 1 Year UPT\",\n",
    "    'Pct Change 1Yr': \"Percent Change in 1 Year UPT\",\n",
    "    'Tos Full': \"Type of Service Full Name\"\n",
    "}\n",
    "    \n",
    "    for i in df[\"RTPA\"].unique():\n",
    "        # Filename should be snakecase\n",
    "        rtpa_snakecase = i.replace(' ', '_').lower()\n",
    "\n",
    "        (df[df[\"RTPA\"] == i]\n",
    "         .sort_values(\"ntd_id\")\n",
    "         #got error from excel not recognizing timezone, made list to include dropping \"ts\" column\n",
    "         .drop(columns = [\"_merge\",\"ts\"])\n",
    "         #cleaning column names\n",
    "         .rename(columns=lambda x: x.replace(\"_\",\" \").title().strip())\n",
    "         #rename columns\n",
    "         .rename(columns=col_dict)\n",
    "         #updated to `to_excel`, added sheet_name \n",
    "         .to_excel(\n",
    "            f\"./{year}_{month}/{rtpa_snakecase}.xlsx\", sheet_name = \"RTPA Ridership Data\",\n",
    "            index = False)\n",
    "         \n",
    "        )\n",
    "        #insertng readme cover sheet, \n",
    "        cover_sheet = pd.read_excel(\"./cover_sheet_template.xlsx\", index_col = \"NTD Monthly Ridership by RTPA\")\n",
    "        with pd.ExcelWriter(f\"./{year}_{month}/{rtpa_snakecase}.xlsx\", mode =\"a\") as writer:\n",
    "            cover_sheet.to_excel(writer, sheet_name = \"READ ME\")\n",
    "        \n",
    "    shutil.make_archive(f\"./{year}_{month}\", \"zip\", f\"{year}_{month}\")\n",
    "    print(\"Zipped folder\")\n",
    "    \n",
    "    fs.upload(\n",
    "        f\"./{year}_{month}.zip\", \n",
    "        f\"{GCS_FILE_PATH}{year}_{month}.zip\"\n",
    "    )\n",
    "    \n",
    "    if upload_to_public:\n",
    "        fs.upload(\n",
    "            f\"./{year}_{month}.zip\",\n",
    "            f\"{PUBLIC_GCS}ntd_monthly_ridership/{year}_{month}.zip\"\n",
    "        )\n",
    "    \n",
    "    print(\"Uploaded to GCS\")\n",
    "    \n",
    "    return"
   ]
  },
  {
   "cell_type": "code",
   "execution_count": null,
   "id": "0ff4ab56-bb74-4a91-87d6-2cf6d99c6b32",
   "metadata": {},
   "outputs": [],
   "source": [
    "# double check cwd\n",
    "os.getcwd()"
   ]
  },
  {
   "cell_type": "code",
   "execution_count": null,
   "id": "f58a8a12-b81c-4d0c-b1a2-4b9537ae7a53",
   "metadata": {},
   "outputs": [],
   "source": [
    "# need to make directory for `save_rtpa_outputs_v2` to work\n",
    "\n",
    "#confirmed this make a sub directory within /ntd\n",
    "\n",
    "#ntd/2024_April\n",
    "os.makedirs(f\"./{YEAR}_{MONTH}/\")"
   ]
  },
  {
   "cell_type": "code",
   "execution_count": null,
   "id": "d3d7242f-e342-4b28-afcc-0b426d521730",
   "metadata": {},
   "outputs": [],
   "source": [
    "fs = gcsfs.GCSFileSystem()\n",
    "\n",
    "#works!\n",
    "# see csvs in the new 2024_April directory\n",
    "# also uploated to temp CGS file\n",
    "\n",
    "# takes a really long time since writing to excel is a lot slower. \n",
    "#save_rtpa_outputs_v2(full_run_test,YEAR, MONTH, upload_to_public = False)"
   ]
  },
  {
   "cell_type": "markdown",
   "id": "7d36cdc0-404b-4562-acc7-b816af9ef025",
   "metadata": {},
   "source": [
    "# Test `remove_local_outputs` function\n",
    "\n",
    "**NO CHANGES NEEDED**"
   ]
  },
  {
   "cell_type": "code",
   "execution_count": null,
   "id": "41696744-1425-46e9-97bb-15b08845f100",
   "metadata": {},
   "outputs": [],
   "source": [
    "def remove_local_outputs(year: int, month: str):\n",
    "    shutil.rmtree(f\"{year}_{month}/\")\n",
    "    os.remove(f\"{year}_{month}.zip\")"
   ]
  },
  {
   "cell_type": "code",
   "execution_count": null,
   "id": "bf12240a-6c13-4e2c-8848-583a85b5a14f",
   "metadata": {},
   "outputs": [],
   "source": [
    "# yup this worked really fast, no changes are needed\n",
    "remove_local_outputs(YEAR, MONTH)"
   ]
  },
  {
   "cell_type": "markdown",
   "id": "628e7370-812a-4ee6-b9a7-2e132e6e3d02",
   "metadata": {
    "tags": []
   },
   "source": [
    "# Test updating `save_rtpa_outputs` with additional tabs for aggregation\n",
    "\n",
    "its works!!!!"
   ]
  },
  {
   "cell_type": "markdown",
   "id": "7d376ea0-52fb-4d53-91b8-a75efc60b3b9",
   "metadata": {},
   "source": [
    "## FINAL `sum_by_gorup`"
   ]
  },
  {
   "cell_type": "code",
   "execution_count": null,
   "id": "0fa929ad-d2b6-4df8-89e4-897e516d72ca",
   "metadata": {},
   "outputs": [],
   "source": [
    "# ripped from NB, will need this for `save_rtpa_outputs_v3`\n",
    "\n",
    "# will move this to scrip and remove from nb, then add from...import sum_by_group\n",
    "\n",
    "def sum_by_group(\n",
    "    df: pd.DataFrame,\n",
    "    group_cols: list) -> pd.DataFrame:\n",
    "    \"\"\"\n",
    "    since data is now long to begin with, this replaces old sum_by_group, make_long and assemble_long_df functions.\n",
    "    \"\"\"\n",
    "    grouped_df = df.groupby(group_cols+\n",
    "                             ['period_year',\n",
    "                             'period_month',\n",
    "                             'period_year_month']\n",
    "                           ).agg({\n",
    "        \"upt\":\"sum\",\n",
    "        \"previous_y_m_upt\":\"sum\",\n",
    "        \"change_1yr\":\"sum\"\n",
    "    }\n",
    "    ).reset_index()\n",
    "    \n",
    "    #get %change back\n",
    "    grouped_df = get_percent_change_v2(grouped_df)\n",
    "    \n",
    "    #decimal to whole number\n",
    "    grouped_df[\"pct_change_1yr\"] = grouped_df[\"pct_change_1yr\"]*100\n",
    "    \n",
    "    return grouped_df"
   ]
  },
  {
   "cell_type": "code",
   "execution_count": null,
   "id": "25ea2279-bfe1-4ee0-92a6-57e95aae2ec6",
   "metadata": {},
   "outputs": [],
   "source": [
    "def save_rtpa_outputs_v3(\n",
    "    df: pd.DataFrame, \n",
    "    year: int, \n",
    "    month: str,\n",
    "    upload_to_public: bool = False\n",
    "):\n",
    "    \"\"\"\n",
    "    Export an excel for each RTPA, adds a READ ME tab, then writes into a folder.\n",
    "    Zip that folder. \n",
    "    Upload zipped file to GCS.\n",
    "    \"\"\"\n",
    "    col_dict ={\n",
    "    'Uace Cd': \"UACE Code\",\n",
    "    'Dt': \"Date\",\n",
    "    'Ntd Id': \"NTD ID\",\n",
    "    'Tos': \"Type of Service\",\n",
    "    'Legacy Ntd Id': \"Legacy NTD ID\",\n",
    "    'Upt': \"UPT\",\n",
    "    'Vrm': \"VRM\",\n",
    "    'Vrh': \"VRH\",\n",
    "    'Voms': \"VOMS\",\n",
    "    'Rtpa': \"RTPA\",\n",
    "    'Previous Y M Upt': \"Previous Year/Month UPT\",\n",
    "    'Change 1Yr': \"Change in 1 Year UPT\",\n",
    "    'Pct Change 1Yr': \"Percent Change in 1 Year UPT\",\n",
    "    'Tos Full': \"Type of Service Full Name\"\n",
    "}\n",
    "    \n",
    "    for i in df[\"RTPA\"].unique():\n",
    "        # Filename should be snakecase\n",
    "        rtpa_snakecase = i.replace(' ', '_').lower()\n",
    "\n",
    "        (df[df[\"RTPA\"] == i]\n",
    "         .sort_values(\"ntd_id\")\n",
    "         #got error from excel not recognizing timezone, made list to include dropping \"ts\" column\n",
    "         .drop(columns = [\"_merge\",\"ts\"])\n",
    "         #cleaning column names\n",
    "         .rename(columns=lambda x: x.replace(\"_\",\" \").title().strip())\n",
    "         #rename columns\n",
    "         .rename(columns=col_dict)\n",
    "         #updated to `to_excel`, added sheet_name \n",
    "         .to_excel(\n",
    "            f\"./{year}_{month}/{rtpa_snakecase}.xlsx\", sheet_name = \"RTPA Ridership Data\",\n",
    "            index = False)\n",
    "         \n",
    "        )\n",
    "        #insertng readme cover sheet, \n",
    "        cover_sheet = pd.read_excel(\"./cover_sheet_template.xlsx\", index_col = \"NTD Monthly Ridership by RTPA\")\n",
    "        \n",
    "        agency_cols = [\"ntd_id\", \"agency\", \"RTPA\"]\n",
    "        mode_cols = [\"mode\", \"RTPA\"]\n",
    "        tos_cols = [\"tos\", \"RTPA\"]\n",
    "\n",
    "        by_agency_long = sum_by_group(df, agency_cols)\n",
    "        by_mode_long = sum_by_group(df, mode_cols)\n",
    "        by_tos_long = sum_by_group(df, tos_cols)\n",
    "        \n",
    "        with pd.ExcelWriter(f\"./{year}_{month}/{rtpa_snakecase}.xlsx\", mode =\"a\") as writer:\n",
    "            cover_sheet.to_excel(writer, sheet_name = \"READ ME\")\n",
    "            by_agency_long.to_excel(writer, sheet_name = \"Aggregated by Agency\")\n",
    "            by_mode_long.to_excel(writer, sheet_name = \"Aggregated by Mode\")\n",
    "            by_tos_long.to_excel(writer, sheet_name = \"Aggregated by TOS\")\n",
    "        \n",
    "    shutil.make_archive(f\"./{year}_{month}\", \"zip\", f\"{year}_{month}\")\n",
    "    print(\"Zipped folder\")\n",
    "    \n",
    "    fs.upload(\n",
    "        f\"./{year}_{month}.zip\", \n",
    "        f\"{GCS_FILE_PATH}{year}_{month}.zip\"\n",
    "    )\n",
    "    \n",
    "    if upload_to_public:\n",
    "        fs.upload(\n",
    "            f\"./{year}_{month}.zip\",\n",
    "            f\"{PUBLIC_GCS}ntd_monthly_ridership/{year}_{month}.zip\"\n",
    "        )\n",
    "    \n",
    "    print(\"Uploaded to GCS\")\n",
    "    \n",
    "    return"
   ]
  },
  {
   "cell_type": "markdown",
   "id": "676d5e23-0586-41f8-95cf-a6cd36c4a4ac",
   "metadata": {},
   "source": [
    "## FINAL `save_rtpa_outputs` with aggregation tabs"
   ]
  },
  {
   "cell_type": "code",
   "execution_count": null,
   "id": "cd4d4542-3c40-4fd7-a44e-62cfd98733a5",
   "metadata": {},
   "outputs": [],
   "source": [
    "def save_rtpa_outputs(\n",
    "    df: pd.DataFrame, \n",
    "    year: int, \n",
    "    month: str,\n",
    "    upload_to_public: bool = False\n",
    "):\n",
    "    \"\"\"\n",
    "    Export an excel for each RTPA, adds a READ ME tab, then writes into a folder.\n",
    "    Zip that folder. \n",
    "    Upload zipped file to GCS.\n",
    "    \"\"\"\n",
    "    col_dict ={\n",
    "    'Uace Cd': \"UACE Code\",\n",
    "    'Dt': \"Date\",\n",
    "    'Ntd Id': \"NTD ID\",\n",
    "    'Tos': \"Type of Service\",\n",
    "    'Legacy Ntd Id': \"Legacy NTD ID\",\n",
    "    'Upt': \"UPT\",\n",
    "    'Vrm': \"VRM\",\n",
    "    'Vrh': \"VRH\",\n",
    "    'Voms': \"VOMS\",\n",
    "    'Rtpa': \"RTPA\",\n",
    "    'Previous Y M Upt': \"Previous Year/Month UPT\",\n",
    "    'Change 1Yr': \"Change in 1 Year UPT\",\n",
    "    'Pct Change 1Yr': \"Percent Change in 1 Year UPT\",\n",
    "    'Tos Full': \"Type of Service Full Name\"\n",
    "}\n",
    "    \n",
    "    for i in df[\"RTPA\"].unique():\n",
    "        # Filename should be snakecase\n",
    "        rtpa_snakecase = i.replace(' ', '_').lower()\n",
    "\n",
    "        (df[df[\"RTPA\"] == i]\n",
    "         .sort_values(\"ntd_id\")\n",
    "         #got error from excel not recognizing timezone, made list to include dropping \"ts\" column\n",
    "         .drop(columns = [\"_merge\",\"ts\"])\n",
    "         #cleaning column names\n",
    "         .rename(columns=lambda x: x.replace(\"_\",\" \").title().strip())\n",
    "         #rename columns\n",
    "         .rename(columns=col_dict)\n",
    "         #updated to `to_excel`, added sheet_name \n",
    "         .to_excel(\n",
    "            f\"./{year}_{month}/{rtpa_snakecase}.xlsx\", sheet_name = \"RTPA Ridership Data\",\n",
    "            index = False)\n",
    "         \n",
    "        )\n",
    "        #insertng readme cover sheet, \n",
    "        cover_sheet = pd.read_excel(\"./cover_sheet_template.xlsx\", index_col = \"NTD Monthly Ridership by RTPA\")\n",
    "        \n",
    "        agency_cols = [\"ntd_id\", \"agency\", \"RTPA\"]\n",
    "        mode_cols = [\"mode\", \"RTPA\"]\n",
    "        tos_cols = [\"tos\", \"RTPA\"]\n",
    "\n",
    "        by_agency_long = sum_by_group(df, agency_cols)\n",
    "        by_mode_long = sum_by_group(df, mode_cols)\n",
    "        by_tos_long = sum_by_group(df, tos_cols)\n",
    "        \n",
    "        with pd.ExcelWriter(f\"./{year}_{month}/{rtpa_snakecase}.xlsx\", mode =\"a\") as writer:\n",
    "            cover_sheet.to_excel(writer, sheet_name = \"READ ME\")\n",
    "            by_agency_long.to_excel(writer, sheet_name = \"Aggregated by Agency\")\n",
    "            by_mode_long.to_excel(writer, sheet_name = \"Aggregated by Mode\")\n",
    "            by_tos_long.to_excel(writer, sheet_name = \"Aggregated by TOS\")\n",
    "        \n",
    "    shutil.make_archive(f\"./{year}_{month}\", \"zip\", f\"{year}_{month}\")\n",
    "    print(\"Zipped folder\")\n",
    "    \n",
    "    fs.upload(\n",
    "        f\"./{year}_{month}.zip\", \n",
    "        f\"{GCS_FILE_PATH}{year}_{month}.zip\"\n",
    "    )\n",
    "    \n",
    "    if upload_to_public:\n",
    "        fs.upload(\n",
    "            f\"./{year}_{month}.zip\",\n",
    "            f\"{PUBLIC_GCS}ntd_monthly_ridership/{year}_{month}.zip\"\n",
    "        )\n",
    "    \n",
    "    print(\"Uploaded to GCS\")\n",
    "    \n",
    "    return"
   ]
  },
  {
   "cell_type": "code",
   "execution_count": null,
   "id": "d6eeea22-ddc1-4cce-ac6e-d79d90b56b31",
   "metadata": {},
   "outputs": [],
   "source": [
    "save_rtpa_outputs_v3(full_run_test,YEAR, MONTH, upload_to_public = False)"
   ]
  },
  {
   "cell_type": "markdown",
   "id": "4f60485f-ad93-4a07-997b-77b04fe1bc13",
   "metadata": {},
   "source": [
    "IT WORKS!! The excel exports all have a tab for Agg by agency, mode and tos"
   ]
  },
  {
   "cell_type": "markdown",
   "id": "a0f957cb-7217-46e2-8b66-98c71179d410",
   "metadata": {},
   "source": [
    "# ---\n",
    "# Things to Move Over\n",
    "\n",
    "these are the final versions of the changes to move over "
   ]
  },
  {
   "cell_type": "markdown",
   "id": "2be9035b-5bb6-4dbe-b8d0-45b3591869f3",
   "metadata": {},
   "source": [
    "## Functions to Move over"
   ]
  },
  {
   "cell_type": "code",
   "execution_count": null,
   "id": "c00ca3a5-22be-4c6d-ae7a-5422e3280071",
   "metadata": {},
   "outputs": [],
   "source": [
    "def get_percent_change(\n",
    "    df: pd.DataFrame, \n",
    ") -> pd.DataFrame:\n",
    "    \"\"\"\n",
    "    updated to work with the warehouse `dim_monthly_ntd_ridership_with_adjustments` long data format. \n",
    "    \n",
    "    \"\"\"\n",
    "    df[\"pct_change_1yr\"] = (\n",
    "        (df[\"upt\"] - df[\"previous_y_m_upt\"])\n",
    "        .divide(df[\"upt\"])\n",
    "        .round(4)\n",
    "    )\n",
    "    \n",
    "    return df"
   ]
  },
  {
   "cell_type": "code",
   "execution_count": null,
   "id": "aba74a15-cde5-497d-adb3-8cfcfa6d8fc6",
   "metadata": {},
   "outputs": [],
   "source": [
    "def sum_by_group(\n",
    "    df: pd.DataFrame,\n",
    "    group_cols: list) -> pd.DataFrame:\n",
    "    \"\"\"\n",
    "    since data is now long to begin with, this replaces old sum_by_group, make_long and assemble_long_df functions.\n",
    "    \"\"\"\n",
    "    grouped_df = df.groupby(group_cols+\n",
    "                             ['period_year',\n",
    "                             'period_month',\n",
    "                             'period_year_month']\n",
    "                           ).agg({\n",
    "        \"upt\":\"sum\",\n",
    "        \"previous_y_m_upt\":\"sum\",\n",
    "        \"change_1yr\":\"sum\"\n",
    "    }\n",
    "    ).reset_index()\n",
    "    \n",
    "    #get %change back\n",
    "    grouped_df = get_percent_change(grouped_df)\n",
    "    \n",
    "    #decimal to whole number\n",
    "    grouped_df[\"pct_change_1yr\"] = grouped_df[\"pct_change_1yr\"]*100\n",
    "    \n",
    "    return grouped_df"
   ]
  },
  {
   "cell_type": "code",
   "execution_count": null,
   "id": "a4a5b219-27c9-4738-93f3-835bdd89f1bb",
   "metadata": {},
   "outputs": [],
   "source": [
    "def add_change_columns(df: pd.DataFrame) -> pd.DataFrame:\n",
    "    \"\"\"\n",
    "    This function works with the warehouse `dim_monthly_ntd_ridership_with_adjustments` long data format.\n",
    "    Sorts the df by ntd id, mode, tos, period month and period year. then adds 2 new columns, 1. previous year/month UPT and 2. UPT change 1yr.\n",
    "    \"\"\"\n",
    "\n",
    "    sort_cols2 =  [\"ntd_id\",\"mode\", \"tos\",\"period_month\", \"period_year\"] # got the order correct with [\"period_month\", \"period_year\"]! sorted years with grouped months\n",
    "    group_cols2 = [\"ntd_id\",\"mode\", \"tos\"]\n",
    "    \n",
    "    df[[\"period_year\",\"period_month\"]] = df[[\"period_year\",\"period_month\"]].astype(int)\n",
    "\n",
    "    df = df.assign(\n",
    "        previous_y_m_upt = (df.sort_values(sort_cols2)\n",
    "                        .groupby(group_cols2)[\"upt\"] \n",
    "                        .apply(lambda x: x.shift(1))\n",
    "                       )\n",
    "    )\n",
    "\n",
    "    df[\"change_1yr\"] = (df[\"upt\"] - df[\"previous_y_m_upt\"])\n",
    "    \n",
    "    df = get_percent_change_v2(df)\n",
    "    \n",
    "    return df"
   ]
  },
  {
   "cell_type": "code",
   "execution_count": null,
   "id": "73973066-02d4-4d42-b163-e870098d0796",
   "metadata": {},
   "outputs": [],
   "source": [
    "def produce_ntd_monthly_ridership_by_rtpa(\n",
    "    year: int,\n",
    "    month: int\n",
    ") -> pd.DataFrame:\n",
    "    \"\"\"\n",
    "    This function works with the warehouse `dim_monthly_ntd_ridership_with_adjustments` long data format.\n",
    "    \"\"\"\n",
    "    full_upt = (tbls.mart_ntd.dim_monthly_ntd_ridership_with_adjustments() >> collect()).rename(columns = {\"mode_type_of_service_status\": \"Status\"})\n",
    "    \n",
    "    full_upt = full_upt[full_upt.agency.notna()].reset_index(drop=True)\n",
    "    \n",
    "    full_upt.to_parquet(\n",
    "        f\"{GCS_FILE_PATH}ntd_monthly_ridership_{year}_{month}.parquet\"\n",
    "    )\n",
    "    \n",
    "    ca = full_upt[(full_upt[\"uza_name\"].str.contains(\", CA\")) & \n",
    "            (full_upt.agency.notna())].reset_index(drop=True)\n",
    "    \n",
    "    crosswalk = pd.read_csv(\n",
    "        f\"gs://calitp-analytics-data/data-analyses/ntd/ntd_id_rtpa_crosswalk.csv\", \n",
    "        dtype = {\"NTD ID\": \"str\"}\n",
    "    #have to rename NTD ID col to match the dim table\n",
    "    ).rename(columns={\"NTD ID\": \"ntd_id\"})\n",
    "    \n",
    "    df = pd.merge(\n",
    "        ca,\n",
    "        # Merging on too many columns can create problems \n",
    "        # because csvs and dtypes aren't stable / consistent \n",
    "        # for NTD ID, Legacy NTD ID, and UZA\n",
    "        crosswalk[[\"ntd_id\", \"RTPA\"]],\n",
    "        on = \"ntd_id\",\n",
    "        how = \"left\",\n",
    "        indicator = True\n",
    "    )\n",
    "    \n",
    "    print(df._merge.value_counts())\n",
    "    \n",
    "    if len(df[df._merge==\"left_only\"]) > 0:\n",
    "        raise ValueError(\"There are unmerged rows to crosswalk\")\n",
    "    \n",
    "    df = add_change_columns_v2(df)\n",
    "    \n",
    "    df = df.assign(\n",
    "        Mode_full = df[\"mode\"].map(NTD_MODES),\n",
    "        TOS_full = df[\"tos\"].map(NTD_TOS)\n",
    "    )\n",
    "    \n",
    "    return df"
   ]
  },
  {
   "cell_type": "code",
   "execution_count": null,
   "id": "a411e3af-dc91-40d2-9f54-8f3124ce68df",
   "metadata": {},
   "outputs": [],
   "source": [
    "def save_rtpa_outputs(\n",
    "    df: pd.DataFrame, \n",
    "    year: int, \n",
    "    month: str,\n",
    "    upload_to_public: bool = False\n",
    "):\n",
    "    \"\"\"\n",
    "    Export an excel for each RTPA, adds a READ ME tab, then writes into a folder.\n",
    "    Zip that folder. \n",
    "    Upload zipped file to GCS.\n",
    "    \"\"\"\n",
    "    col_dict ={\n",
    "    'Uace Cd': \"UACE Code\",\n",
    "    'Dt': \"Date\",\n",
    "    'Ntd Id': \"NTD ID\",\n",
    "    'Tos': \"Type of Service\",\n",
    "    'Legacy Ntd Id': \"Legacy NTD ID\",\n",
    "    'Upt': \"UPT\",\n",
    "    'Vrm': \"VRM\",\n",
    "    'Vrh': \"VRH\",\n",
    "    'Voms': \"VOMS\",\n",
    "    'Rtpa': \"RTPA\",\n",
    "    'Previous Y M Upt': \"Previous Year/Month UPT\",\n",
    "    'Change 1Yr': \"Change in 1 Year UPT\",\n",
    "    'Pct Change 1Yr': \"Percent Change in 1 Year UPT\",\n",
    "    'Tos Full': \"Type of Service Full Name\"\n",
    "}\n",
    "    \n",
    "    for i in df[\"RTPA\"].unique():\n",
    "        # Filename should be snakecase\n",
    "        rtpa_snakecase = i.replace(' ', '_').lower()\n",
    "\n",
    "        (df[df[\"RTPA\"] == i]\n",
    "         .sort_values(\"ntd_id\")\n",
    "         #got error from excel not recognizing timezone, made list to include dropping \"ts\" column\n",
    "         .drop(columns = [\"_merge\",\"ts\"])\n",
    "         #cleaning column names\n",
    "         .rename(columns=lambda x: x.replace(\"_\",\" \").title().strip())\n",
    "         #rename columns\n",
    "         .rename(columns=col_dict)\n",
    "         #updated to `to_excel`, added sheet_name \n",
    "         .to_excel(\n",
    "            f\"./{year}_{month}/{rtpa_snakecase}.xlsx\", sheet_name = \"RTPA Ridership Data\",\n",
    "            index = False)\n",
    "         \n",
    "        )\n",
    "        #insertng readme cover sheet, \n",
    "        cover_sheet = pd.read_excel(\"./cover_sheet_template.xlsx\", index_col = \"NTD Monthly Ridership by RTPA\")\n",
    "        \n",
    "        agency_cols = [\"ntd_id\", \"agency\", \"RTPA\"]\n",
    "        mode_cols = [\"mode\", \"RTPA\"]\n",
    "        tos_cols = [\"tos\", \"RTPA\"]\n",
    "\n",
    "        by_agency_long = sum_by_group(df, agency_cols)\n",
    "        by_mode_long = sum_by_group(df, mode_cols)\n",
    "        by_tos_long = sum_by_group(df, tos_cols)\n",
    "        \n",
    "        with pd.ExcelWriter(f\"./{year}_{month}/{rtpa_snakecase}.xlsx\", mode =\"a\") as writer:\n",
    "            cover_sheet.to_excel(writer, sheet_name = \"READ ME\")\n",
    "            by_agency_long.to_excel(writer, sheet_name = \"Aggregated by Agency\")\n",
    "            by_mode_long.to_excel(writer, sheet_name = \"Aggregated by Mode\")\n",
    "            by_tos_long.to_excel(writer, sheet_name = \"Aggregated by TOS\")\n",
    "        \n",
    "    shutil.make_archive(f\"./{year}_{month}\", \"zip\", f\"{year}_{month}\")\n",
    "    print(\"Zipped folder\")\n",
    "    \n",
    "    fs.upload(\n",
    "        f\"./{year}_{month}.zip\", \n",
    "        f\"{GCS_FILE_PATH}{year}_{month}.zip\"\n",
    "    )\n",
    "    \n",
    "    if upload_to_public:\n",
    "        fs.upload(\n",
    "            f\"./{year}_{month}.zip\",\n",
    "            f\"{PUBLIC_GCS}ntd_monthly_ridership/{year}_{month}.zip\"\n",
    "        )\n",
    "    \n",
    "    print(\"Uploaded to GCS\")\n",
    "    \n",
    "    return"
   ]
  },
  {
   "cell_type": "markdown",
   "id": "c598b4ed-0968-49d0-9788-04da780867f2",
   "metadata": {},
   "source": [
    "## Misc. Script changes "
   ]
  },
  {
   "cell_type": "code",
   "execution_count": null,
   "id": "9fc9f836-42a4-4fb6-87a6-2afc2289e366",
   "metadata": {},
   "outputs": [],
   "source": []
  },
  {
   "cell_type": "markdown",
   "id": "1682c9cb-cd8a-4a4d-8eaa-f589b6584edb",
   "metadata": {},
   "source": [
    "## Notebook Functions and changes to move over"
   ]
  },
  {
   "cell_type": "code",
   "execution_count": null,
   "id": "c9439254-018b-4fc8-8fd1-7dc454d1e3cc",
   "metadata": {},
   "outputs": [],
   "source": [
    "MIN_YEAR = 2018\n",
    "\n",
    "#updated to filter for period_year greater than 2018\n",
    "df = pd.read_parquet(\n",
    "    f\"{GCS_FILE_PATH}ca_monthly_ridership_{YEAR}_{MONTH}.parquet\",\n",
    "    filters = [[(\"RTPA\", \"==\", rtpa), (\"period_year\", \">=\", MIN_YEAR)]]\n",
    ").drop(\n",
    "    #updated columns names to match new df\n",
    "    columns = [\"mode\", \"tos\"]\n",
    ").rename(columns = {\"Mode_full\": \"Mode\", \"TOS_full\": \"TOS\"})"
   ]
  },
  {
   "cell_type": "code",
   "execution_count": null,
   "id": "e2b998a6-c9cb-474d-9fbb-efdef9a55e62",
   "metadata": {},
   "outputs": [],
   "source": [
    "agency_cols = [\"ntd_id\", \"agency\", \"RTPA\"]\n",
    "mode_cols = [\"Mode\", \"RTPA\"]\n",
    "tos_cols = [\"TOS\", \"RTPA\"]\n",
    "\n",
    "by_agency_long = sum_by_group(df, agency_cols)\n",
    "by_mode_long = sum_by_group(df, mode_cols)\n",
    "by_tos_long = sum_by_group(df, tos_cols)\n",
    "\n",
    "# zero upt still works!\n",
    "by_agency_long_no_zero_upt = remove_zero_upt_rows(by_agency_long)"
   ]
  },
  {
   "cell_type": "code",
   "execution_count": null,
   "id": "22ed000c-7eca-4af7-8668-abeafa7d72ae",
   "metadata": {},
   "outputs": [],
   "source": [
    "def make_line_chart(\n",
    "    df: pd.DataFrame, \n",
    "    y_col: str,\n",
    "    color_col: str,\n",
    ") -> alt.Chart:\n",
    "    df = df[df[y_col] > 0].dropna(subset = y_col)\n",
    "\n",
    "    x_label = [i for i in df.period_year_month.unique() if \n",
    "               any(substring in i for substring in \n",
    "                   [\"-01\", \"-06\"])\n",
    "              ]    \n",
    "    chart = (alt.Chart(df)\n",
    "         .mark_line()\n",
    "         .encode(\n",
    "             x = alt.X(\"period_year_month:O\", \n",
    "                       axis=alt.Axis(values = x_label), \n",
    "                       title = \"Date\"\n",
    "                      ),\n",
    "             y = alt.Y(y_col, title = labeling(y_col)),\n",
    "             color = alt.Color(color_col, title = \"\", \n",
    "                               scale = alt.Scale(\n",
    "                                   range = cp.CALITP_CATEGORY_BRIGHT_COLORS + \n",
    "                                   cp.CALITP_CATEGORY_BOLD_COLORS\n",
    "                               )),\n",
    "             tooltip = [\"period_year_month\", y_col, color_col, \"RTPA\"]\n",
    "         ).properties(width = WIDTH, height = HEIGHT)\n",
    "         .facet(color_col, columns=2, title = \"\")\n",
    "         .resolve_scale(y=\"independent\")\n",
    "    ).properties(\n",
    "        title = f\"{labeling(y_col)} by {labeling(color_col)}\"\n",
    "    ).interactive()\n",
    "        \n",
    "    return chart"
   ]
  },
  {
   "cell_type": "code",
   "execution_count": null,
   "id": "3d873ebe-8cf1-4dbc-b085-c3d256c90bda",
   "metadata": {},
   "outputs": [],
   "source": [
    "def make_bar_chart(\n",
    "    df: pd.DataFrame, \n",
    "    y_col: str,\n",
    "    color_col: str,\n",
    ") -> alt.Chart:\n",
    "    \n",
    "    def short_label(word):\n",
    "        shorten_dict = {\n",
    "            \"change_1yr\": \"Change\",\n",
    "            \"pct_change_1yr\":\"Change\",\n",
    "        }\n",
    "        return shorten_dict[word]\n",
    "    \n",
    "    # For change column, we are missing everything prior to 2023 \n",
    "    #df = df.dropna(subset = y_col)\n",
    "    \n",
    "    #need flag for y_col >,<, 0, missing?\n",
    "    #count function to how many agencies fall in those categories, then look at those agencies\n",
    "    #present table\n",
    "    \n",
    "    x_label = [i for i in df.period_year_month.unique() if \n",
    "               any(substring in i for substring in \n",
    "                   [\"-01\", \"-03\", \"-06\", \"-09\"])\n",
    "              ]\n",
    "    \n",
    "    chart = (alt.Chart(df)\n",
    "         .mark_bar()\n",
    "         .encode(\n",
    "             x = alt.X(\"period_year_month:O\", \n",
    "                       axis=alt.Axis(values = x_label), \n",
    "                       title = \"Date\"\n",
    "                      ),\n",
    "             y = alt.Y(y_col, title = short_label(y_col)),\n",
    "             color = alt.Color(color_col, title = \"\", \n",
    "                              scale = alt.Scale(\n",
    "                                   range = cp.CALITP_CATEGORY_BRIGHT_COLORS + \n",
    "                                   cp.CALITP_CATEGORY_BOLD_COLORS\n",
    "                              )),\n",
    "             tooltip = [\"period_year_month\", y_col, color_col, \"RTPA\"]\n",
    "         ).properties(width = WIDTH, height = HEIGHT)\n",
    "         .facet(color_col, columns=2, title = \"\")\n",
    "         .resolve_scale(x=\"shared\", \n",
    "                        y=\"independent\")\n",
    "    ).properties(\n",
    "        title = f\"{labeling(y_col)} by {labeling(color_col)}\"\n",
    "    ).interactive()\n",
    "    \n",
    "    return chart"
   ]
  }
 ],
 "metadata": {
  "kernelspec": {
   "display_name": "Python 3 (ipykernel)",
   "language": "python",
   "name": "python3"
  },
  "language_info": {
   "codemirror_mode": {
    "name": "ipython",
    "version": 3
   },
   "file_extension": ".py",
   "mimetype": "text/x-python",
   "name": "python",
   "nbconvert_exporter": "python",
   "pygments_lexer": "ipython3",
   "version": "3.9.13"
  }
 },
 "nbformat": 4,
 "nbformat_minor": 5
}
