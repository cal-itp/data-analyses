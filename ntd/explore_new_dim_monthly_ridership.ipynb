{
 "cells": [
  {
   "cell_type": "markdown",
   "id": "373677b3-721e-4cc4-b373-03867dab6efd",
   "metadata": {},
   "source": [
    "# Test reading in `dim_monthly_ntd_ridership_with_adjustments` from warehouse"
   ]
  },
  {
   "cell_type": "code",
   "execution_count": 1,
   "id": "6781e154-b5bf-482a-9682-7a70478378d2",
   "metadata": {},
   "outputs": [],
   "source": [
    "import pandas as pd\n",
    "from calitp_data_analysis.tables import tbls\n",
    "from siuba import _, collect, count, filter, show_query\n"
   ]
  },
  {
   "cell_type": "code",
   "execution_count": 2,
   "id": "d917c821-e6b0-4ab4-9b5f-d295db7e68ca",
   "metadata": {},
   "outputs": [],
   "source": [
    "pd.set_option(\"display.max_columns\", None)\n",
    "pd.set_option(\"display.max_rows\", None)"
   ]
  },
  {
   "cell_type": "code",
   "execution_count": 3,
   "id": "0cfb98aa-8ac1-4e19-97c0-fb6597893a2b",
   "metadata": {},
   "outputs": [],
   "source": [
    "monthly_ridership = (\n",
    "    tbls.mart_ntd.dim_monthly_ntd_ridership_with_adjustments() >> collect()\n",
    ")"
   ]
  },
  {
   "cell_type": "code",
   "execution_count": 4,
   "id": "5a3632e7-e1d7-47c2-b411-a094204a8a01",
   "metadata": {},
   "outputs": [
    {
     "data": {
      "text/plain": [
       "(613184, 22)"
      ]
     },
     "metadata": {},
     "output_type": "display_data"
    },
    {
     "data": {
      "text/html": [
       "<div>\n",
       "<style scoped>\n",
       "    .dataframe tbody tr th:only-of-type {\n",
       "        vertical-align: middle;\n",
       "    }\n",
       "\n",
       "    .dataframe tbody tr th {\n",
       "        vertical-align: top;\n",
       "    }\n",
       "\n",
       "    .dataframe thead th {\n",
       "        text-align: right;\n",
       "    }\n",
       "</style>\n",
       "<table border=\"1\" class=\"dataframe\">\n",
       "  <thead>\n",
       "    <tr style=\"text-align: right;\">\n",
       "      <th></th>\n",
       "      <th>uza_name</th>\n",
       "      <th>uace_cd</th>\n",
       "      <th>_dt</th>\n",
       "      <th>ts</th>\n",
       "      <th>ntd_id</th>\n",
       "      <th>year</th>\n",
       "      <th>reporter_type</th>\n",
       "      <th>agency</th>\n",
       "      <th>mode_type_of_service_status</th>\n",
       "      <th>mode</th>\n",
       "      <th>mode_full_name</th>\n",
       "      <th>service_type</th>\n",
       "      <th>_3_mode</th>\n",
       "      <th>tos</th>\n",
       "      <th>legacy_ntd_id</th>\n",
       "      <th>period_year_month</th>\n",
       "      <th>period_year</th>\n",
       "      <th>period_month</th>\n",
       "      <th>upt</th>\n",
       "      <th>vrm</th>\n",
       "      <th>vrh</th>\n",
       "      <th>voms</th>\n",
       "    </tr>\n",
       "  </thead>\n",
       "  <tbody>\n",
       "    <tr>\n",
       "      <th>0</th>\n",
       "      <td>Miami--Fort Lauderdale, FL</td>\n",
       "      <td>56602</td>\n",
       "      <td>2024-07-01</td>\n",
       "      <td>2024-07-01 21:44:31.635354+00:00</td>\n",
       "      <td>40034</td>\n",
       "      <td>2024</td>\n",
       "      <td>Full Reporter</td>\n",
       "      <td>County of Miami-Dade</td>\n",
       "      <td>Inactive</td>\n",
       "      <td>AG</td>\n",
       "      <td>Automated Guideway</td>\n",
       "      <td>Fixed Route</td>\n",
       "      <td>Rail</td>\n",
       "      <td>DO</td>\n",
       "      <td>4034</td>\n",
       "      <td>2019-03</td>\n",
       "      <td>2019</td>\n",
       "      <td>3</td>\n",
       "      <td>0</td>\n",
       "      <td>0</td>\n",
       "      <td>0</td>\n",
       "      <td>0</td>\n",
       "    </tr>\n",
       "    <tr>\n",
       "      <th>1</th>\n",
       "      <td>Miami--Fort Lauderdale, FL</td>\n",
       "      <td>56602</td>\n",
       "      <td>2024-07-01</td>\n",
       "      <td>2024-07-01 21:44:31.635354+00:00</td>\n",
       "      <td>40034</td>\n",
       "      <td>2024</td>\n",
       "      <td>Full Reporter</td>\n",
       "      <td>County of Miami-Dade</td>\n",
       "      <td>Inactive</td>\n",
       "      <td>AG</td>\n",
       "      <td>Automated Guideway</td>\n",
       "      <td>Fixed Route</td>\n",
       "      <td>Rail</td>\n",
       "      <td>DO</td>\n",
       "      <td>4034</td>\n",
       "      <td>2003-08</td>\n",
       "      <td>2003</td>\n",
       "      <td>8</td>\n",
       "      <td>617327</td>\n",
       "      <td>79614</td>\n",
       "      <td>7231</td>\n",
       "      <td>18</td>\n",
       "    </tr>\n",
       "    <tr>\n",
       "      <th>2</th>\n",
       "      <td>Miami--Fort Lauderdale, FL</td>\n",
       "      <td>56602</td>\n",
       "      <td>2024-07-01</td>\n",
       "      <td>2024-07-01 21:44:31.635354+00:00</td>\n",
       "      <td>40034</td>\n",
       "      <td>2024</td>\n",
       "      <td>Full Reporter</td>\n",
       "      <td>County of Miami-Dade</td>\n",
       "      <td>Inactive</td>\n",
       "      <td>AG</td>\n",
       "      <td>Automated Guideway</td>\n",
       "      <td>Fixed Route</td>\n",
       "      <td>Rail</td>\n",
       "      <td>DO</td>\n",
       "      <td>4034</td>\n",
       "      <td>2015-12</td>\n",
       "      <td>2015</td>\n",
       "      <td>12</td>\n",
       "      <td>0</td>\n",
       "      <td>0</td>\n",
       "      <td>0</td>\n",
       "      <td>0</td>\n",
       "    </tr>\n",
       "  </tbody>\n",
       "</table>\n",
       "</div>"
      ],
      "text/plain": [
       "                     uza_name uace_cd         _dt  \\\n",
       "0  Miami--Fort Lauderdale, FL   56602  2024-07-01   \n",
       "1  Miami--Fort Lauderdale, FL   56602  2024-07-01   \n",
       "2  Miami--Fort Lauderdale, FL   56602  2024-07-01   \n",
       "\n",
       "                                ts ntd_id  year  reporter_type  \\\n",
       "0 2024-07-01 21:44:31.635354+00:00  40034  2024  Full Reporter   \n",
       "1 2024-07-01 21:44:31.635354+00:00  40034  2024  Full Reporter   \n",
       "2 2024-07-01 21:44:31.635354+00:00  40034  2024  Full Reporter   \n",
       "\n",
       "                  agency mode_type_of_service_status mode      mode_full_name  \\\n",
       "0  County of Miami-Dade                     Inactive   AG  Automated Guideway   \n",
       "1  County of Miami-Dade                     Inactive   AG  Automated Guideway   \n",
       "2  County of Miami-Dade                     Inactive   AG  Automated Guideway   \n",
       "\n",
       "  service_type _3_mode tos legacy_ntd_id period_year_month period_year  \\\n",
       "0  Fixed Route    Rail  DO          4034           2019-03        2019   \n",
       "1  Fixed Route    Rail  DO          4034           2003-08        2003   \n",
       "2  Fixed Route    Rail  DO          4034           2015-12        2015   \n",
       "\n",
       "  period_month     upt    vrm   vrh  voms  \n",
       "0            3       0      0     0     0  \n",
       "1            8  617327  79614  7231    18  \n",
       "2           12       0      0     0     0  "
      ]
     },
     "metadata": {},
     "output_type": "display_data"
    }
   ],
   "source": [
    "# what is in this table?\n",
    "# all states\n",
    "display(\n",
    "    monthly_ridership.shape,\n",
    "    # monthly_ridership.info,\n",
    "    monthly_ridership.head(3),\n",
    ")"
   ]
  },
  {
   "cell_type": "code",
   "execution_count": 5,
   "id": "ae4ecb7e-6642-453b-b2fc-b8df4b7c00f6",
   "metadata": {},
   "outputs": [
    {
     "name": "stdout",
     "output_type": "stream",
     "text": [
      "uza_name                                    object\n",
      "uace_cd                                     object\n",
      "_dt                                         object\n",
      "ts                             datetime64[ns, UTC]\n",
      "ntd_id                                      object\n",
      "year                                         int64\n",
      "reporter_type                               object\n",
      "agency                                      object\n",
      "mode_type_of_service_status                 object\n",
      "mode                                        object\n",
      "mode_full_name                              object\n",
      "service_type                                object\n",
      "_3_mode                                     object\n",
      "tos                                         object\n",
      "legacy_ntd_id                               object\n",
      "period_year_month                           object\n",
      "period_year                                 object\n",
      "period_month                                object\n",
      "upt                                          int64\n",
      "vrm                                          int64\n",
      "vrh                                          int64\n",
      "voms                                         int64\n",
      "dtype: object\n"
     ]
    }
   ],
   "source": [
    "print(monthly_ridership.dtypes)"
   ]
  },
  {
   "cell_type": "code",
   "execution_count": 6,
   "id": "1168de76-b3c6-41f2-8738-e2ad6cdaeec0",
   "metadata": {},
   "outputs": [
    {
     "data": {
      "text/plain": [
       "1608"
      ]
     },
     "execution_count": 6,
     "metadata": {},
     "output_type": "execute_result"
    }
   ],
   "source": [
    "# are there NaN values in uza name?\n",
    "monthly_ridership[\"uza_name\"].isna().sum()"
   ]
  },
  {
   "cell_type": "code",
   "execution_count": 7,
   "id": "a61d04d9-c691-4841-b8d1-785357bc3a7f",
   "metadata": {},
   "outputs": [],
   "source": [
    "# fill the NaN values with something\n",
    "monthly_ridership[\"uza_name\"].fillna(\"none\", inplace=True)"
   ]
  },
  {
   "cell_type": "code",
   "execution_count": 8,
   "id": "1448f404-1cbd-44cb-b485-4864f9c766f1",
   "metadata": {},
   "outputs": [
    {
     "data": {
      "text/plain": [
       "0"
      ]
     },
     "execution_count": 8,
     "metadata": {},
     "output_type": "execute_result"
    }
   ],
   "source": [
    "# double check for na\n",
    "monthly_ridership[\"uza_name\"].isna().sum()"
   ]
  },
  {
   "cell_type": "code",
   "execution_count": 9,
   "id": "1eee5c92-9f26-4775-9db3-dae615a744ea",
   "metadata": {},
   "outputs": [
    {
     "data": {
      "text/plain": [
       "(91924, 22)"
      ]
     },
     "metadata": {},
     "output_type": "display_data"
    },
    {
     "data": {
      "text/plain": [
       "Los Angeles--Long Beach--Anaheim, CA             19296\n",
       "San Francisco--Oakland, CA                       10720\n",
       "Sacramento, CA                                    8308\n",
       "San Diego, CA                                     6164\n",
       "Riverside--San Bernardino, CA                     3752\n",
       "Stockton, CA                                      2948\n",
       "Vallejo, CA                                       2144\n",
       "Santa Rosa, CA                                    1876\n",
       "Lake Tahoe, CA-NV                                 1876\n",
       "Modesto, CA                                       1876\n",
       "Seaside--Monterey--Pacific Grove, CA              1876\n",
       "San Luis Obispo, CA                               1608\n",
       "Palmdale--Lancaster, CA                           1608\n",
       "Oxnard--San Buenaventura (Ventura), CA            1340\n",
       "San Jose, CA                                      1340\n",
       "Santa Cruz, CA                                    1340\n",
       "Visalia, CA                                       1340\n",
       "Hanford, CA                                       1340\n",
       "Indio--Palm Desert--Palm Springs, CA              1072\n",
       "Chico, CA                                         1072\n",
       "Antioch, CA                                       1072\n",
       "El Centro, CA                                     1072\n",
       "Vacaville, CA                                     1072\n",
       "Bakersfield, CA                                   1072\n",
       "Victorville--Hesperia--Apple Valley, CA           1072\n",
       "Santa Barbara, CA                                 1072\n",
       "Fairfield, CA                                     1072\n",
       "Santa Clarita, CA                                  804\n",
       "Concord--Walnut Creek, CA                          804\n",
       "Lompoc, CA                                         804\n",
       "Redding, CA                                        804\n",
       "Napa, CA                                           804\n",
       "Merced, CA                                         804\n",
       "Yuba City, CA                                      804\n",
       "Porterville, CA                                    536\n",
       "Tulare, CA                                         536\n",
       "Petaluma, CA                                       536\n",
       "Turlock, CA                                        536\n",
       "Thousand Oaks, CA                                  536\n",
       "Lodi, CA                                           536\n",
       "Fresno, CA                                         536\n",
       "Livermore--Pleasanton--Dublin, CA                  536\n",
       "Santa Maria, CA                                    536\n",
       "Simi Valley, CA                                    536\n",
       "Mission Viejo--Lake Forest--Laguna Niguel, CA      268\n",
       "Davis, CA                                          268\n",
       "Name: uza_name, dtype: int64"
      ]
     },
     "metadata": {},
     "output_type": "display_data"
    }
   ],
   "source": [
    "# can i filter by uza CA? YES\n",
    "uza_ca = monthly_ridership[monthly_ridership[\"uza_name\"].str.contains(\", CA\")]\n",
    "display(\n",
    "    uza_ca.shape,\n",
    "    uza_ca[\"uza_name\"].value_counts()\n",
    ")"
   ]
  },
  {
   "cell_type": "code",
   "execution_count": 10,
   "id": "54846a09-0964-43f9-9e7a-ea2f82b4c3dd",
   "metadata": {},
   "outputs": [
    {
     "data": {
      "text/plain": [
       "(1876, 22)"
      ]
     },
     "metadata": {},
     "output_type": "display_data"
    },
    {
     "data": {
      "text/plain": [
       "Index(['uza_name', 'uace_cd', '_dt', 'ts', 'ntd_id', 'year', 'reporter_type',\n",
       "       'agency', 'mode_type_of_service_status', 'mode', 'mode_full_name',\n",
       "       'service_type', '_3_mode', 'tos', 'legacy_ntd_id', 'period_year_month',\n",
       "       'period_year', 'period_month', 'upt', 'vrm', 'vrh', 'voms'],\n",
       "      dtype='object')"
      ]
     },
     "metadata": {},
     "output_type": "display_data"
    }
   ],
   "source": [
    "# where are the UTP values? the UTP page for this table used to be very wide\n",
    "# look at a specific agency by ntd id, LA Metro \"9154\"\n",
    "# what is the dtype of ntd_id... its object, so use str.contrains\n",
    "la_metro = monthly_ridership[monthly_ridership[\"ntd_id\"] == \"90154\"]\n",
    "display(la_metro.shape, la_metro.columns)"
   ]
  },
  {
   "cell_type": "code",
   "execution_count": 11,
   "id": "47ccb201-29b0-4156-b6bf-d76298fc3427",
   "metadata": {},
   "outputs": [],
   "source": [
    "# filter la_metro data to only see current and previous year (2024 and 2023)\n",
    "\n",
    "la_2324 = la_metro[la_metro[\"period_year\"].isin([\"2023\", \"2024\"])]"
   ]
  },
  {
   "cell_type": "code",
   "execution_count": 12,
   "id": "e59c8dc1-e303-489c-a44b-394685737fa0",
   "metadata": {},
   "outputs": [
    {
     "data": {
      "text/html": [
       "<div>\n",
       "<style scoped>\n",
       "    .dataframe tbody tr th:only-of-type {\n",
       "        vertical-align: middle;\n",
       "    }\n",
       "\n",
       "    .dataframe tbody tr th {\n",
       "        vertical-align: top;\n",
       "    }\n",
       "\n",
       "    .dataframe thead th {\n",
       "        text-align: right;\n",
       "    }\n",
       "</style>\n",
       "<table border=\"1\" class=\"dataframe\">\n",
       "  <thead>\n",
       "    <tr style=\"text-align: right;\">\n",
       "      <th></th>\n",
       "      <th>period_year_month</th>\n",
       "      <th>mode</th>\n",
       "      <th>tos</th>\n",
       "      <th>upt</th>\n",
       "    </tr>\n",
       "  </thead>\n",
       "  <tbody>\n",
       "    <tr>\n",
       "      <th>286606</th>\n",
       "      <td>2024-03</td>\n",
       "      <td>DR</td>\n",
       "      <td>DO</td>\n",
       "      <td>62986</td>\n",
       "    </tr>\n",
       "    <tr>\n",
       "      <th>321629</th>\n",
       "      <td>2024-03</td>\n",
       "      <td>HR</td>\n",
       "      <td>DO</td>\n",
       "      <td>1874721</td>\n",
       "    </tr>\n",
       "    <tr>\n",
       "      <th>331792</th>\n",
       "      <td>2024-03</td>\n",
       "      <td>LR</td>\n",
       "      <td>DO</td>\n",
       "      <td>3842909</td>\n",
       "    </tr>\n",
       "    <tr>\n",
       "      <th>533543</th>\n",
       "      <td>2024-03</td>\n",
       "      <td>MB</td>\n",
       "      <td>DO</td>\n",
       "      <td>18852906</td>\n",
       "    </tr>\n",
       "    <tr>\n",
       "      <th>533571</th>\n",
       "      <td>2024-03</td>\n",
       "      <td>MB</td>\n",
       "      <td>PT</td>\n",
       "      <td>929537</td>\n",
       "    </tr>\n",
       "    <tr>\n",
       "      <th>556725</th>\n",
       "      <td>2024-03</td>\n",
       "      <td>RB</td>\n",
       "      <td>DO</td>\n",
       "      <td>380625</td>\n",
       "    </tr>\n",
       "    <tr>\n",
       "      <th>607325</th>\n",
       "      <td>2024-03</td>\n",
       "      <td>VP</td>\n",
       "      <td>PT</td>\n",
       "      <td>125149</td>\n",
       "    </tr>\n",
       "  </tbody>\n",
       "</table>\n",
       "</div>"
      ],
      "text/plain": [
       "       period_year_month mode tos       upt\n",
       "286606           2024-03   DR  DO     62986\n",
       "321629           2024-03   HR  DO   1874721\n",
       "331792           2024-03   LR  DO   3842909\n",
       "533543           2024-03   MB  DO  18852906\n",
       "533571           2024-03   MB  PT    929537\n",
       "556725           2024-03   RB  DO    380625\n",
       "607325           2024-03   VP  PT    125149"
      ]
     },
     "execution_count": 12,
     "metadata": {},
     "output_type": "execute_result"
    }
   ],
   "source": [
    "# does this 23/24 data match whats in the NTD report? YES\n",
    "# confirm that data is now long instead of wide\n",
    "la_2324[la_2324[\"period_year_month\"] == \"2024-03\"][\n",
    "    [\"period_year_month\", \"mode\", \"tos\", \"upt\"]\n",
    "].sort_values(by=\"period_year_month\", ascending=True)"
   ]
  },
  {
   "cell_type": "code",
   "execution_count": 13,
   "id": "3e01f75a-6c8d-468f-a6a0-75c15dc10cb7",
   "metadata": {},
   "outputs": [],
   "source": [
    "# how to modify the `produce_ntd_monthly_ridership_by_rtpa` function\n",
    "\n",
    "full_upt = (tbls.mart_ntd.dim_monthly_ntd_ridership_with_adjustments() >> collect()).rename(columns = {\"mode_type_of_service_status\": \"Status\"})\n"
   ]
  },
  {
   "cell_type": "code",
   "execution_count": 14,
   "id": "e97a71c1-30ed-4f31-b786-38e3ed36fe47",
   "metadata": {},
   "outputs": [
    {
     "data": {
      "text/plain": [
       "(613184, 22)"
      ]
     },
     "metadata": {},
     "output_type": "display_data"
    },
    {
     "data": {
      "text/plain": [
       "Index(['uza_name', 'uace_cd', '_dt', 'ts', 'ntd_id', 'year', 'reporter_type',\n",
       "       'agency', 'Status', 'mode', 'mode_full_name', 'service_type', '_3_mode',\n",
       "       'tos', 'legacy_ntd_id', 'period_year_month', 'period_year',\n",
       "       'period_month', 'upt', 'vrm', 'vrh', 'voms'],\n",
       "      dtype='object')"
      ]
     },
     "metadata": {},
     "output_type": "display_data"
    }
   ],
   "source": [
    "display(\n",
    "    full_upt.shape,\n",
    "    full_upt.columns\n",
    ")"
   ]
  },
  {
   "cell_type": "code",
   "execution_count": 15,
   "id": "e016134a-ee29-4334-b86c-a5c193cfcdfe",
   "metadata": {},
   "outputs": [],
   "source": [
    "full_upt = full_upt[full_upt.agency.notna()].reset_index(drop=True)"
   ]
  },
  {
   "cell_type": "code",
   "execution_count": 16,
   "id": "e2e9b3c9-5b3c-40cb-baef-4ae040e70d87",
   "metadata": {},
   "outputs": [
    {
     "data": {
      "text/plain": [
       "(613184, 22)"
      ]
     },
     "execution_count": 16,
     "metadata": {},
     "output_type": "execute_result"
    }
   ],
   "source": [
    "full_upt.shape"
   ]
  },
  {
   "cell_type": "code",
   "execution_count": 17,
   "id": "60212a85-a77d-43c1-9795-da3e6cfbe487",
   "metadata": {},
   "outputs": [],
   "source": [
    "ca = full_upt[(full_upt[\"uza_name\"].str.contains(\", CA\")) & \n",
    "            (full_upt.agency.notna())].reset_index(drop=True)"
   ]
  },
  {
   "cell_type": "code",
   "execution_count": 18,
   "id": "f5657e17-d1ea-42ca-a10f-6f4e1c064907",
   "metadata": {},
   "outputs": [
    {
     "data": {
      "text/plain": [
       "(91924, 22)"
      ]
     },
     "execution_count": 18,
     "metadata": {},
     "output_type": "execute_result"
    }
   ],
   "source": [
    "ca.shape"
   ]
  },
  {
   "cell_type": "code",
   "execution_count": 19,
   "id": "28a6cf03-16cd-454e-9702-ea893846899c",
   "metadata": {},
   "outputs": [
    {
     "data": {
      "text/plain": [
       "Index(['ntd_id', 'Legacy NTD ID', 'Agency', 'UZA Name', 'RTPA_open_data',\n",
       "       'RTPA'],\n",
       "      dtype='object')"
      ]
     },
     "execution_count": 19,
     "metadata": {},
     "output_type": "execute_result"
    }
   ],
   "source": [
    "crosswalk = pd.read_csv(\n",
    "        f\"gs://calitp-analytics-data/data-analyses/ntd/ntd_id_rtpa_crosswalk.csv\", \n",
    "        dtype = {\"NTD ID\": \"str\"}\n",
    "    #have to rename NTD ID col to match the dim table\n",
    "    ).rename(columns={\"NTD ID\": \"ntd_id\"})\n",
    "    \n",
    "crosswalk.columns"
   ]
  },
  {
   "cell_type": "code",
   "execution_count": 20,
   "id": "81595778-26cc-40b3-a8f8-383bc701241e",
   "metadata": {},
   "outputs": [
    {
     "name": "stdout",
     "output_type": "stream",
     "text": [
      "both          91924\n",
      "left_only         0\n",
      "right_only        0\n",
      "Name: _merge, dtype: int64\n"
     ]
    }
   ],
   "source": [
    "df = pd.merge(\n",
    "        ca,\n",
    "        # Merging on too many columns can create problems \n",
    "        # because csvs and dtypes aren't stable / consistent \n",
    "        # for NTD ID, Legacy NTD ID, and UZA\n",
    "        crosswalk[[\"ntd_id\", \"RTPA\"]],\n",
    "        #change on = value to ntd_id\n",
    "        on = \"ntd_id\",\n",
    "        how = \"left\",\n",
    "        indicator = True\n",
    "    )\n",
    "    \n",
    "print(df._merge.value_counts())"
   ]
  },
  {
   "cell_type": "code",
   "execution_count": 21,
   "id": "1a4b22dd-7614-4384-977a-abdaeac2c37b",
   "metadata": {},
   "outputs": [],
   "source": [
    "# updated to match new year-month format \n",
    "\n",
    "def add_change_columns(\n",
    "    df: pd.DataFrame,\n",
    "    year: int,\n",
    "    month: int\n",
    ") -> pd.DataFrame:\n",
    "    \"\"\"\n",
    "    \"\"\"    \n",
    "    ntd_month_col = f\"{year}-{month}\"\n",
    "    prior_year_col = f\"{int(year)-1}-{month}\"\n",
    "        \n",
    "    df[f\"change_1yr_{ntd_month_col}\"] = df[ntd_month_col] - df[prior_year_col]\n",
    "    df = get_percent_change(df, ntd_month_col, prior_year_col)\n",
    "    \n",
    "    return df"
   ]
  },
  {
   "cell_type": "code",
   "execution_count": 22,
   "id": "fcea83ac-ce3f-449a-93c8-0fb755472c8c",
   "metadata": {},
   "outputs": [],
   "source": [
    "from shared_utils.rt_dates import MONTH_DICT\n",
    "from update_vars import GCS_FILE_PATH, NTD_MODES, NTD_TOS, YEAR, MONTH\n",
    "\n",
    "# final updated  `produce_ntd_monthly_ridership_by_rtpa` function.\n",
    "# may not need the upt_url\n",
    "\n",
    "def produce_ntd_monthly_ridership_by_rtpa(\n",
    "    #upt_url: str,\n",
    "    year: int,\n",
    "    month: str\n",
    ") -> pd.DataFrame:\n",
    "    \"\"\"\n",
    "    Import NTD data from url, filter to CA, \n",
    "    merge in crosswalk, and save individual csvs.\n",
    "    \"\"\"\n",
    "    full_upt = (tbls.mart_ntd.dim_monthly_ntd_ridership_with_adjustments() >> collect()\n",
    "               ).rename(columns = {\"mode_type_of_service_status\": \"Status\"})\n",
    "    \n",
    "    full_upt = full_upt[full_upt.agency.notna()].reset_index(drop=True)\n",
    "    #full_upt.to_parquet(\n",
    "    #    f\"{GCS_FILE_PATH}ntd_monthly_ridership_{year}_{month}.parquet\"\n",
    "    #)\n",
    "    ca = full_upt[(full_upt[\"uza_name\"].str.contains(\", CA\")) & \n",
    "            (full_upt.agency.notna())].reset_index(drop=True)\n",
    "    \n",
    "    crosswalk = pd.read_csv(\n",
    "        f\"gs://calitp-analytics-data/data-analyses/ntd/ntd_id_rtpa_crosswalk.csv\", \n",
    "        dtype = {\"NTD ID\": \"str\"}\n",
    "    #have to rename NTD ID col to match the dim table\n",
    "    ).rename(columns={\"NTD ID\": \"ntd_id\"})\n",
    "    \n",
    "    df = pd.merge(\n",
    "        ca,\n",
    "        # Merging on too many columns can create problems \n",
    "        # because csvs and dtypes aren't stable / consistent \n",
    "        # for NTD ID, Legacy NTD ID, and UZA\n",
    "        crosswalk[[\"ntd_id\", \"RTPA\"]],\n",
    "        #change on = value to ntd_id\n",
    "        on = \"ntd_id\",\n",
    "        how = \"left\",\n",
    "        indicator = True\n",
    "    )\n",
    "    \n",
    "    print(df._merge.value_counts())\n",
    "    \n",
    "    # Good, everything merged, as we want\n",
    "    if len(df[df._merge==\"left_only\"]) > 0:\n",
    "        raise ValueError(\"There are unmerged rows to crosswalk\")\n",
    "        \n",
    "    # Add new columns    \n",
    "   # reversed_months = {v:k for k, v in MONTH_DICT.items()}\n",
    "    \n",
    "    for m in range(1, reversed_months[month] + 1):\n",
    "        df = add_change_columns(df, year, m)\n",
    "    \n",
    "    df = df.assign(\n",
    "        Mode_full = df.Mode.map(NTD_MODES),\n",
    "        TOS_full = df.TOS.map(NTD_TOS)\n",
    "    )\n",
    "    \n",
    "    return df\n"
   ]
  },
  {
   "cell_type": "code",
   "execution_count": 23,
   "id": "47659153-04e8-4cf1-bde9-a1b7c2903c1e",
   "metadata": {},
   "outputs": [
    {
     "data": {
      "text/plain": [
       "2002-08    343\n",
       "2007-06    343\n",
       "2002-01    343\n",
       "2005-02    343\n",
       "2004-03    343\n",
       "Name: period_year_month, dtype: int64"
      ]
     },
     "execution_count": 23,
     "metadata": {},
     "output_type": "execute_result"
    }
   ],
   "source": [
    "ca[\"period_year_month\"].value_counts().head()"
   ]
  },
  {
   "cell_type": "code",
   "execution_count": 30,
   "id": "bf6b1d92-be22-41c7-a2f9-6f4956373886",
   "metadata": {},
   "outputs": [
    {
     "data": {
      "text/plain": [
       "(343, 22)"
      ]
     },
     "metadata": {},
     "output_type": "display_data"
    },
    {
     "data": {
      "text/plain": [
       "(0, 22)"
      ]
     },
     "metadata": {},
     "output_type": "display_data"
    }
   ],
   "source": [
    "# what is the most recent period_year_month? as of 7/2/2024\\\n",
    "# should expect to see values up tp April 2024\n",
    "display(\n",
    "    ca[ca[\"period_year_month\"] == \"2024-04\"].shape,\n",
    "    # as of 7/2, zero rows for May 2024. but expect ntd to update that data soon.\n",
    "    ca[ca[\"period_year_month\"] == \"2024-05\"].shape\n",
    ")"
   ]
  },
  {
   "cell_type": "code",
   "execution_count": null,
   "id": "1cdc40ad-b23e-4056-8560-ce6b40a1712a",
   "metadata": {},
   "outputs": [],
   "source": []
  },
  {
   "cell_type": "markdown",
   "id": "68d82320-64ac-4083-bb7f-9c770939ef31",
   "metadata": {},
   "source": [
    "---\n",
    "## Do I need `reserved_months` anymore?\n",
    "RE: produce_ntd_monthly_ridership_by_rtpa function.\n",
    "\n",
    "\n",
    "Since the new table uses a `yyyy-mm` format now. i dont think i need the revesre months anymore. what else needs to change to the the function working again."
   ]
  },
  {
   "cell_type": "code",
   "execution_count": 24,
   "id": "eaa54198-aa30-4a44-9596-a5d167c7e476",
   "metadata": {},
   "outputs": [],
   "source": [
    "# do i need reversed_months anymore?\n",
    "\n",
    "reversed_months = {v:k for k, v in MONTH_DICT.items()}"
   ]
  },
  {
   "cell_type": "code",
   "execution_count": 25,
   "id": "fb6d0429-85d5-4d91-8e1d-ee6460644e02",
   "metadata": {},
   "outputs": [
    {
     "data": {
      "text/plain": [
       "{'January': 1,\n",
       " 'February': 2,\n",
       " 'March': 3,\n",
       " 'April': 4,\n",
       " 'May': 5,\n",
       " 'June': 6,\n",
       " 'July': 7,\n",
       " 'August': 8,\n",
       " 'September': 9,\n",
       " 'October': 10,\n",
       " 'November': 11,\n",
       " 'December': 12}"
      ]
     },
     "execution_count": 25,
     "metadata": {},
     "output_type": "execute_result"
    }
   ],
   "source": [
    "reversed_months"
   ]
  },
  {
   "cell_type": "code",
   "execution_count": 26,
   "id": "17b2d920-caed-49f6-a047-3293d0698a9a",
   "metadata": {},
   "outputs": [
    {
     "name": "stdout",
     "output_type": "stream",
     "text": [
      "both          91924\n",
      "left_only         0\n",
      "right_only        0\n",
      "Name: _merge, dtype: int64\n"
     ]
    },
    {
     "ename": "KeyError",
     "evalue": "'03'",
     "output_type": "error",
     "traceback": [
      "\u001b[0;31m---------------------------------------------------------------------------\u001b[0m",
      "\u001b[0;31mKeyError\u001b[0m                                  Traceback (most recent call last)",
      "Cell \u001b[0;32mIn[26], line 1\u001b[0m\n\u001b[0;32m----> 1\u001b[0m \u001b[43mproduce_ntd_monthly_ridership_by_rtpa\u001b[49m\u001b[43m(\u001b[49m\u001b[43myear\u001b[49m\u001b[38;5;241;43m=\u001b[39;49m\u001b[38;5;241;43m2024\u001b[39;49m\u001b[43m,\u001b[49m\u001b[43m \u001b[49m\u001b[43mmonth\u001b[49m\u001b[38;5;241;43m=\u001b[39;49m\u001b[38;5;124;43m\"\u001b[39;49m\u001b[38;5;124;43m03\u001b[39;49m\u001b[38;5;124;43m\"\u001b[39;49m\u001b[43m)\u001b[49m\n",
      "Cell \u001b[0;32mIn[22], line 53\u001b[0m, in \u001b[0;36mproduce_ntd_monthly_ridership_by_rtpa\u001b[0;34m(year, month)\u001b[0m\n\u001b[1;32m     48\u001b[0m      \u001b[38;5;28;01mraise\u001b[39;00m \u001b[38;5;167;01mValueError\u001b[39;00m(\u001b[38;5;124m\"\u001b[39m\u001b[38;5;124mThere are unmerged rows to crosswalk\u001b[39m\u001b[38;5;124m\"\u001b[39m)\n\u001b[1;32m     50\u001b[0m  \u001b[38;5;66;03m# Add new columns    \u001b[39;00m\n\u001b[1;32m     51\u001b[0m \u001b[38;5;66;03m# reversed_months = {v:k for k, v in MONTH_DICT.items()}\u001b[39;00m\n\u001b[0;32m---> 53\u001b[0m  \u001b[38;5;28;01mfor\u001b[39;00m m \u001b[38;5;129;01min\u001b[39;00m \u001b[38;5;28mrange\u001b[39m(\u001b[38;5;241m1\u001b[39m, \u001b[43mreversed_months\u001b[49m\u001b[43m[\u001b[49m\u001b[43mmonth\u001b[49m\u001b[43m]\u001b[49m \u001b[38;5;241m+\u001b[39m \u001b[38;5;241m1\u001b[39m):\n\u001b[1;32m     54\u001b[0m      df \u001b[38;5;241m=\u001b[39m add_change_columns(df, year, m)\n\u001b[1;32m     56\u001b[0m  df \u001b[38;5;241m=\u001b[39m df\u001b[38;5;241m.\u001b[39massign(\n\u001b[1;32m     57\u001b[0m      Mode_full \u001b[38;5;241m=\u001b[39m df\u001b[38;5;241m.\u001b[39mMode\u001b[38;5;241m.\u001b[39mmap(NTD_MODES),\n\u001b[1;32m     58\u001b[0m      TOS_full \u001b[38;5;241m=\u001b[39m df\u001b[38;5;241m.\u001b[39mTOS\u001b[38;5;241m.\u001b[39mmap(NTD_TOS)\n\u001b[1;32m     59\u001b[0m  )\n",
      "\u001b[0;31mKeyError\u001b[0m: '03'"
     ]
    }
   ],
   "source": [
    "produce_ntd_monthly_ridership_by_rtpa(year=2024, month=\"03\")"
   ]
  },
  {
   "cell_type": "code",
   "execution_count": null,
   "id": "1676147c-04b9-4fc3-a187-627b30cbbd6d",
   "metadata": {},
   "outputs": [],
   "source": []
  }
 ],
 "metadata": {
  "kernelspec": {
   "display_name": "Python 3 (ipykernel)",
   "language": "python",
   "name": "python3"
  },
  "language_info": {
   "codemirror_mode": {
    "name": "ipython",
    "version": 3
   },
   "file_extension": ".py",
   "mimetype": "text/x-python",
   "name": "python",
   "nbconvert_exporter": "python",
   "pygments_lexer": "ipython3",
   "version": "3.9.13"
  }
 },
 "nbformat": 4,
 "nbformat_minor": 5
}
