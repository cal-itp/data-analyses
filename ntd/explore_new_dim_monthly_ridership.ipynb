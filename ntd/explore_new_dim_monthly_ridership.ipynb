{
 "cells": [
  {
   "cell_type": "code",
   "execution_count": 1,
   "id": "6781e154-b5bf-482a-9682-7a70478378d2",
   "metadata": {},
   "outputs": [],
   "source": [
    "import pandas as pd\n",
    "from calitp_data_analysis.tables import tbls\n",
    "from siuba import _, collect, count, filter, show_query\n",
    "from shared_utils.rt_dates import MONTH_DICT\n",
    "from update_vars import GCS_FILE_PATH, NTD_MODES, NTD_TOS, YEAR, MONTH"
   ]
  },
  {
   "cell_type": "code",
   "execution_count": 2,
   "id": "d917c821-e6b0-4ab4-9b5f-d295db7e68ca",
   "metadata": {},
   "outputs": [],
   "source": [
    "pd.set_option(\"display.max_columns\", None)\n",
    "pd.set_option(\"display.max_rows\", None)"
   ]
  },
  {
   "cell_type": "markdown",
   "id": "12b98b2c-5982-4fb3-a721-38adaf64fe64",
   "metadata": {
    "tags": []
   },
   "source": [
    "### what is the grain of this dataset?\n",
    "metrics values (upt/vrm/vrh/crm/voms) of a specifc **tos**, of specific **mode**, for a speicifc **agency** on a specific **year/month**"
   ]
  },
  {
   "cell_type": "markdown",
   "id": "373677b3-721e-4cc4-b373-03867dab6efd",
   "metadata": {
    "jp-MarkdownHeadingCollapsed": true,
    "tags": []
   },
   "source": [
    "# Test reading in `dim_monthly_ntd_ridership_with_adjustments` from warehouse"
   ]
  },
  {
   "cell_type": "code",
   "execution_count": null,
   "id": "0cfb98aa-8ac1-4e19-97c0-fb6597893a2b",
   "metadata": {},
   "outputs": [],
   "source": [
    "monthly_ridership = (\n",
    "    tbls.mart_ntd.dim_monthly_ntd_ridership_with_adjustments() >> collect()\n",
    ")"
   ]
  },
  {
   "cell_type": "code",
   "execution_count": null,
   "id": "b4510885-957a-4a4a-8518-bb4f34210fef",
   "metadata": {},
   "outputs": [],
   "source": [
    "# reading in old monthly ridership parquet for comparison\n",
    "old_march_2024_ridership = pd.read_parquet(\"gs://calitp-analytics-data/data-analyses/ntd/ntd_monthly_ridership_2024_March.parquet\")"
   ]
  },
  {
   "cell_type": "code",
   "execution_count": null,
   "id": "5a3632e7-e1d7-47c2-b411-a094204a8a01",
   "metadata": {},
   "outputs": [],
   "source": [
    "# what is in this table?\n",
    "# all states\n",
    "display(\n",
    "    monthly_ridership.shape,\n",
    "    # monthly_ridership.info,\n",
    "    monthly_ridership.head(3),\n",
    ")"
   ]
  },
  {
   "cell_type": "code",
   "execution_count": null,
   "id": "ae4ecb7e-6642-453b-b2fc-b8df4b7c00f6",
   "metadata": {},
   "outputs": [],
   "source": [
    "print(monthly_ridership.dtypes)"
   ]
  },
  {
   "cell_type": "code",
   "execution_count": null,
   "id": "1168de76-b3c6-41f2-8738-e2ad6cdaeec0",
   "metadata": {},
   "outputs": [],
   "source": [
    "# are there NaN values in uza name? YES\n",
    "monthly_ridership[\"uza_name\"].isna().sum()"
   ]
  },
  {
   "cell_type": "code",
   "execution_count": null,
   "id": "a61d04d9-c691-4841-b8d1-785357bc3a7f",
   "metadata": {},
   "outputs": [],
   "source": [
    "# fill the NaN values with something\n",
    "monthly_ridership[\"uza_name\"].fillna(\"none\", inplace=True)"
   ]
  },
  {
   "cell_type": "code",
   "execution_count": null,
   "id": "1448f404-1cbd-44cb-b485-4864f9c766f1",
   "metadata": {},
   "outputs": [],
   "source": [
    "# double check for na\n",
    "monthly_ridership[\"uza_name\"].isna().sum()"
   ]
  },
  {
   "cell_type": "code",
   "execution_count": null,
   "id": "1eee5c92-9f26-4775-9db3-dae615a744ea",
   "metadata": {},
   "outputs": [],
   "source": [
    "# can i now filter by uza CA, becaue there are zero NaN values? YES\n",
    "uza_ca = monthly_ridership[monthly_ridership[\"uza_name\"].str.contains(\", CA\")]\n",
    "display(\n",
    "    uza_ca.shape,\n",
    "    uza_ca[\"uza_name\"].value_counts()\n",
    ")"
   ]
  },
  {
   "cell_type": "code",
   "execution_count": null,
   "id": "54846a09-0964-43f9-9e7a-ea2f82b4c3dd",
   "metadata": {},
   "outputs": [],
   "source": [
    "# where are the UTP values? the UTP page for this table used to be very wide\n",
    "# look at a specific agency by ntd id, LA Metro == \"9154\"\n",
    "# what is the dtype of ntd_id... its object, so use str.contrains\n",
    "la_metro = monthly_ridership[monthly_ridership[\"ntd_id\"] == \"90154\"]\n",
    "display(la_metro.shape, uza_ca.shape)"
   ]
  },
  {
   "cell_type": "code",
   "execution_count": null,
   "id": "47ccb201-29b0-4156-b6bf-d76298fc3427",
   "metadata": {},
   "outputs": [],
   "source": [
    "# filter la_metro data to only see current and previous year (2024 and 2023)\n",
    "\n",
    "la_2324 = la_metro[la_metro[\"period_year\"].isin([\"2023\", \"2024\"])]"
   ]
  },
  {
   "cell_type": "code",
   "execution_count": null,
   "id": "e59c8dc1-e303-489c-a44b-394685737fa0",
   "metadata": {},
   "outputs": [],
   "source": [
    "# does this 23/24 data match whats in the NTD report? YES\n",
    "# confirm that data is now long instead of wide\n",
    "la_2324[la_2324[\"period_year_month\"] == \"2024-03\"][\n",
    "    [\"period_year_month\", \"mode\", \"tos\", \"upt\"]\n",
    "].sort_values(by=\"period_year_month\", ascending=True)"
   ]
  },
  {
   "cell_type": "markdown",
   "id": "5e0968ad-6918-4423-a579-9dd4d5ef057f",
   "metadata": {
    "tags": []
   },
   "source": [
    "# What to modify in the `produce_ntd_monthly_ridership_by_rtpa` function\n",
    "step-by-step"
   ]
  },
  {
   "cell_type": "code",
   "execution_count": 3,
   "id": "3e01f75a-6c8d-468f-a6a0-75c15dc10cb7",
   "metadata": {},
   "outputs": [],
   "source": [
    "# 1. reading in the data & renaming column\n",
    "# intead of reading in the data via an excel doc by URL, intead will query the warehouse directly\n",
    "\n",
    "#GOOD TO GO\n",
    "full_upt = (tbls.mart_ntd.dim_monthly_ntd_ridership_with_adjustments() >> collect()).rename(columns = {\"mode_type_of_service_status\": \"Status\"})\n"
   ]
  },
  {
   "cell_type": "code",
   "execution_count": null,
   "id": "e114c323-8feb-4edd-9b4a-3d74a91ddac8",
   "metadata": {},
   "outputs": [],
   "source": [
    "#1.1 setting `ntd_id` to str\n",
    "\n",
    "# NTD_ID COL IS ALREADY OBJECT/STR DATA TYPE\n",
    "# full_upt[\"ntd_id\"] = full_upt[\"ntd_id\"].astype(str)"
   ]
  },
  {
   "cell_type": "code",
   "execution_count": 4,
   "id": "e016134a-ee29-4334-b86c-a5c193cfcdfe",
   "metadata": {},
   "outputs": [],
   "source": [
    "#2 filter df to get rid of na rows\n",
    "# GOOD TO GO!\n",
    "full_upt = full_upt[full_upt.agency.notna()].reset_index(drop=True)"
   ]
  },
  {
   "cell_type": "code",
   "execution_count": null,
   "id": "60212a85-a77d-43c1-9795-da3e6cfbe487",
   "metadata": {},
   "outputs": [],
   "source": [
    "#3 new DF of just CA and not-blank agency names\n",
    "# filter UZA name col for CA and not blank agency names.\n",
    "\n",
    "#GOOD TO GO!\n",
    "ca = full_upt[(full_upt[\"uza_name\"].str.contains(\", CA\")) & \n",
    "            (full_upt.agency.notna())].reset_index(drop=True)"
   ]
  },
  {
   "cell_type": "code",
   "execution_count": null,
   "id": "f5657e17-d1ea-42ca-a10f-6f4e1c064907",
   "metadata": {},
   "outputs": [],
   "source": [
    "display(\n",
    "    ca.shape,\n",
    "    ca.head()\n",
    ")"
   ]
  },
  {
   "cell_type": "code",
   "execution_count": null,
   "id": "28a6cf03-16cd-454e-9702-ea893846899c",
   "metadata": {},
   "outputs": [],
   "source": [
    "#4 read in ntd_id-to-RTPA crosswalk\n",
    "# same as before, no changes\n",
    "\n",
    "#GOOD TO GO!\n",
    "crosswalk = pd.read_csv(\n",
    "        f\"gs://calitp-analytics-data/data-analyses/ntd/ntd_id_rtpa_crosswalk.csv\", \n",
    "        dtype = {\"NTD ID\": \"str\"}\n",
    "    #have to rename NTD ID col to match the dim table\n",
    "    ).rename(columns={\"NTD ID\": \"ntd_id\"})\n",
    "    \n",
    "crosswalk.columns"
   ]
  },
  {
   "cell_type": "code",
   "execution_count": null,
   "id": "81595778-26cc-40b3-a8f8-383bc701241e",
   "metadata": {},
   "outputs": [],
   "source": [
    "#5 merge CA df and crosswalk\n",
    "\n",
    "# GOOD TO GO\n",
    "df = pd.merge(\n",
    "        ca,\n",
    "        # Merging on too many columns can create problems \n",
    "        # because csvs and dtypes aren't stable / consistent \n",
    "        # for NTD ID, Legacy NTD ID, and UZA\n",
    "        crosswalk[[\"ntd_id\", \"RTPA\"]],\n",
    "        #change on = value to ntd_id\n",
    "        on = \"ntd_id\",\n",
    "        how = \"left\",\n",
    "        indicator = True\n",
    "    )\n",
    "    \n",
    "print(df._merge.value_counts())"
   ]
  },
  {
   "cell_type": "code",
   "execution_count": null,
   "id": "d340b257-3e48-4a93-8b90-f35cb25baa5b",
   "metadata": {},
   "outputs": [],
   "source": [
    "#6 flag to see if there are any unmerged rows \n",
    "\n",
    "# GOOD TO GO\n",
    "if len(df[df._merge==\"left_only\"]) > 0:\n",
    "        raise ValueError(\"There are unmerged rows to crosswalk\")"
   ]
  },
  {
   "cell_type": "code",
   "execution_count": null,
   "id": "3203c644-6abb-4771-98a4-a8967fee714f",
   "metadata": {},
   "outputs": [],
   "source": [
    "#7 reverses the MONTH_DICT \n",
    "\n",
    "# Add new columns    \n",
    "reversed_months = {v:k for k, v in MONTH_DICT.items()}\n",
    "    \n",
    "for m in range(1, reversed_months[month] + 1):\n",
    "    df = add_change_columns(df, year, m)"
   ]
  },
  {
   "cell_type": "code",
   "execution_count": null,
   "id": "fcea83ac-ce3f-449a-93c8-0fb755472c8c",
   "metadata": {},
   "outputs": [],
   "source": [
    "# FINAL FORM\n",
    "\n",
    "\n",
    "# final updated  `produce_ntd_monthly_ridership_by_rtpa` function.\n",
    "# may not need the upt_url\n",
    "\n",
    "def produce_ntd_monthly_ridership_by_rtpa(\n",
    "    #upt_url: str,\n",
    "    year: int,\n",
    "    month: str\n",
    ") -> pd.DataFrame:\n",
    "    \"\"\"\n",
    "    Import NTD data from url, filter to CA, \n",
    "    merge in crosswalk, and save individual csvs.\n",
    "    \"\"\"\n",
    "    full_upt = (tbls.mart_ntd.dim_monthly_ntd_ridership_with_adjustments() >> collect()\n",
    "               ).rename(columns = {\"mode_type_of_service_status\": \"Status\"})\n",
    "    \n",
    "    full_upt = full_upt[full_upt.agency.notna()].reset_index(drop=True)\n",
    "    #full_upt.to_parquet(\n",
    "    #    f\"{GCS_FILE_PATH}ntd_monthly_ridership_{year}_{month}.parquet\"\n",
    "    #)\n",
    "    ca = full_upt[(full_upt[\"uza_name\"].str.contains(\", CA\")) & \n",
    "            (full_upt.agency.notna())].reset_index(drop=True)\n",
    "    \n",
    "    crosswalk = pd.read_csv(\n",
    "        f\"gs://calitp-analytics-data/data-analyses/ntd/ntd_id_rtpa_crosswalk.csv\", \n",
    "        dtype = {\"NTD ID\": \"str\"}\n",
    "    #have to rename NTD ID col to match the dim table\n",
    "    ).rename(columns={\"NTD ID\": \"ntd_id\"})\n",
    "    \n",
    "    df = pd.merge(\n",
    "        ca,\n",
    "        # Merging on too many columns can create problems \n",
    "        # because csvs and dtypes aren't stable / consistent \n",
    "        # for NTD ID, Legacy NTD ID, and UZA\n",
    "        crosswalk[[\"ntd_id\", \"RTPA\"]],\n",
    "        #change on = value to ntd_id\n",
    "        on = \"ntd_id\",\n",
    "        how = \"left\",\n",
    "        indicator = True\n",
    "    )\n",
    "    \n",
    "    print(df._merge.value_counts())\n",
    "    \n",
    "    # Good, everything merged, as we want\n",
    "    if len(df[df._merge==\"left_only\"]) > 0:\n",
    "        raise ValueError(\"There are unmerged rows to crosswalk\")\n",
    "        \n",
    "    # Add new columns    \n",
    "    reversed_months = {v:k for k, v in MONTH_DICT.items()}\n",
    "    \n",
    "    for m in range(1, reversed_months[month] + 1):\n",
    "        df = add_change_columns(df, year, m)\n",
    "    \n",
    "    df = df.assign(\n",
    "        Mode_full = df.Mode.map(NTD_MODES),\n",
    "        TOS_full = df.TOS.map(NTD_TOS)\n",
    "    )\n",
    "    \n",
    "    return df\n"
   ]
  },
  {
   "cell_type": "markdown",
   "id": "68d82320-64ac-4083-bb7f-9c770939ef31",
   "metadata": {
    "tags": []
   },
   "source": [
    "---\n",
    "## Do I need `reserved_months` anymore?\n",
    "RE: `produce_ntd_monthly_ridership_by_rtpa` function.\n",
    "\n",
    "\n",
    "Since the new table uses a `yyyy-mm` format now. i dont think i need the revesre months anymore. what else needs to change?\n",
    "reversed month was needed for the `add_change_columns` function.  \n",
    "\n"
   ]
  },
  {
   "cell_type": "code",
   "execution_count": null,
   "id": "eaa54198-aa30-4a44-9596-a5d167c7e476",
   "metadata": {},
   "outputs": [],
   "source": [
    "# what does reversed months do?\n",
    "\n",
    "reversed_months = {v:k for k, v in MONTH_DICT.items()}\n",
    "\n",
    "# what MONTH_DICT looks like initially.\n",
    "\n",
    "print(\"this is MONTH_DICT\"),\n",
    "display(MONTH_DICT),\n",
    "\n",
    "# like the name implies, reverses the key values pairs. \n",
    "print(\"this is reversed_months\"),\n",
    "display(reversed_months)\n"
   ]
  },
  {
   "cell_type": "code",
   "execution_count": null,
   "id": "9ad26a19-2ecd-498e-921d-fc88679d332c",
   "metadata": {},
   "outputs": [],
   "source": [
    "# what is the date format in the new df\n",
    "# YYYY-MM\n",
    "df[\"period_year_month\"].sample(3)"
   ]
  },
  {
   "cell_type": "code",
   "execution_count": null,
   "id": "1676147c-04b9-4fc3-a187-627b30cbbd6d",
   "metadata": {},
   "outputs": [],
   "source": [
    "# what is the date format in the old data?\n",
    "# M/YYYY\n",
    "old_march_2024_ridership.iloc[:,18:22].head()"
   ]
  },
  {
   "cell_type": "markdown",
   "id": "773e997d-42a2-4922-b072-247f1cc786a2",
   "metadata": {},
   "source": [
    "## options\n",
    "* change the df date format to match reversed_months format. (yyyy-mm to mm/yyy)\n",
    "    * can use a mix of split, str replace, and reversing via slicing \n",
    "* change the `add_change_column` function to accept yyyy-mm\n",
    "    * make a v2 of this function that accepts yyyy-mm, creates a new column, and applys some function by looking at the row period_year_month and finding the \"period_year_month\" -1 yr to calculate the difference."
   ]
  },
  {
   "cell_type": "markdown",
   "id": "2224dc45-0a66-4266-a6e4-89767b153844",
   "metadata": {
    "tags": []
   },
   "source": [
    "# update `add_change_columns` function\n",
    "need to update this function so it can work with the `produce_ntd_monthly_ridership_by_rtpa` function"
   ]
  },
  {
   "cell_type": "code",
   "execution_count": null,
   "id": "0855bf42-cb68-4657-8544-d6063f02d29d",
   "metadata": {},
   "outputs": [],
   "source": [
    "df.dtypes"
   ]
  },
  {
   "cell_type": "code",
   "execution_count": null,
   "id": "39509fd3-4040-45f5-946e-0c489d859387",
   "metadata": {},
   "outputs": [],
   "source": [
    "df.head()"
   ]
  },
  {
   "cell_type": "code",
   "execution_count": null,
   "id": "1a4b22dd-7614-4384-977a-abdaeac2c37b",
   "metadata": {},
   "outputs": [],
   "source": [
    "# updated to match new year-month format \n",
    "\n",
    "def add_change_columns_v2(\n",
    "    df: pd.DataFrame,\n",
    "    year: int,\n",
    "    month: int\n",
    ") -> pd.DataFrame:\n",
    "    \"\"\"\n",
    "    updated to accept yyyy-mm format.\n",
    "    \n",
    "    \"\"\"    \n",
    "    ntd_month_col = f\"{year}-{month}\"\n",
    "    prior_year_col = f\"{int(year)-1}-{month}\"\n",
    "        \n",
    "    df[f\"change_1yr_{ntd_month_col}\"] = df[ntd_month_col] - df[prior_year_col]\n",
    "    df = get_percent_change(df, ntd_month_col, prior_year_col)\n",
    "    \n",
    "    return df"
   ]
  },
  {
   "cell_type": "code",
   "execution_count": null,
   "id": "1cdc40ad-b23e-4056-8560-ce6b40a1712a",
   "metadata": {},
   "outputs": [],
   "source": [
    "# can i use a lambda function to create a new column that:\n",
    "# checks every row (x), if the row has a `period_year_month` value, does it have a `period_year_month` -1 year value in the same column? \n",
    "    # if true, then subtract `period_year_month` by `period_year_month`-1 year.\n",
    "    # else return 0\n",
    "year = 2023\n",
    "month = \"05\"\n",
    "\n",
    "current_y_m = f\"{year}-{month}\"\n",
    "prior_y_m = f\"{int(year)-1}-{month}\"\n",
    "\n",
    "# using current_y_m works and prior_year_col works\n",
    "df[df[\"period_year_month\"].str.contains(prior_y_m)].head(3)\n",
    "\n"
   ]
  },
  {
   "cell_type": "code",
   "execution_count": null,
   "id": "04a62dd8-422c-417b-b6c5-b1d2e92a526e",
   "metadata": {},
   "outputs": [],
   "source": [
    "# first attempt at what im trying to do\n",
    "\n",
    "# create a new column called \"change 1yr\"\n",
    "# at each row in \"period_month_year\", do what? take the value of that row, then mimus the value of the previous period_mont_year -1\n",
    "\n",
    "#this doesnt work becaues im not indicating how X is used, \n",
    "#df[\"change_1yr\"] = df[\"period_year_month\"].apply(lambda x: (df[\"period_year_month\"].str.contains(current_y_m)[\"upt\"]) - (df[\"period_year_month\"].str.contains(prior_year_col)[\"upt\"]))\n",
    "\n",
    "#pseudo code\n",
    "df[\"change_1yr\"] = df[\"period_year_month\"].apply(lambda x: (upt at x for current_y_m, agency, tos and mode)  - \n",
    "                                                 (upt at x for prior_y_m, current_y_m, agency, tos and mode))\n",
    "\n"
   ]
  },
  {
   "cell_type": "code",
   "execution_count": null,
   "id": "79c8f1a4-5c1f-469d-babd-e596aa2291b7",
   "metadata": {},
   "outputs": [],
   "source": [
    "# how can i see the specific UPT for a specific agency, mode & TOS and date?\n",
    "\n",
    "#uses .loc at current_y_m UPT, position 0, minus .loc at previous_year_col UPT, position o\n",
    "# but is is the same agency/mode/tos in both sides of the equation?\n",
    "df.loc[df[\"period_year_month\"] == current_y_m,\"upt\"].values[0] - df.loc[df[\"period_year_month\"] == prior_y_m,\"upt\"].values[0]"
   ]
  },
  {
   "cell_type": "code",
   "execution_count": null,
   "id": "e1209c93-4484-47c9-9d8e-8ab313364eb5",
   "metadata": {},
   "outputs": [],
   "source": [
    "df.loc[\n",
    "        (df[\"period_year_month\"] == current_y_m) &\n",
    "        (df[\"ntd_id\"] == df[\"ntd_id\"]) &\n",
    "        (df[\"mode\"] == df[\"mode\"]) &\n",
    "        (df[\"tos\"] == df[\"tos\"]), \"upt\"\n",
    "    ].head()"
   ]
  },
  {
   "cell_type": "code",
   "execution_count": null,
   "id": "46c9e8f3-7587-433c-af0a-b4179ef0096a",
   "metadata": {},
   "outputs": [],
   "source": [
    "df.sample(3)"
   ]
  },
  {
   "cell_type": "code",
   "execution_count": null,
   "id": "1a774a0e-89c5-4987-898f-97156aa3122d",
   "metadata": {},
   "outputs": [],
   "source": [
    "df.loc[df[\"period_year_month\"] == prior_y_m, \"upt\"][:10]\n"
   ]
  },
  {
   "cell_type": "code",
   "execution_count": null,
   "id": "75838c83-3ca3-4830-bff9-f7ea38a653ba",
   "metadata": {},
   "outputs": [],
   "source": [
    "def test_difference_func(row, current_y_m, prior_y_m ):\n",
    "    current_ym_val =  df.loc[\n",
    "        (df[\"period_year_month\"] == current_y_m) &\n",
    "        (df[\"ntd_id\"] == row[\"ntd_id\"]) &\n",
    "        (df[\"mode\"] == row[\"mode\"]) &\n",
    "        (df[\"tos\"] == row[\"tos\"]), \"upt\"\n",
    "    ]\n",
    "    \n",
    "    prev_ym_val =  df.loc[\n",
    "        (df[\"period_year_month\"] == prior_y_m) &\n",
    "        (df[\"ntd_id\"] == row[\"ntd_id\"]) &\n",
    "        (df[\"mode\"] == row[\"mode\"]) &\n",
    "        (df[\"tos\"] == row[\"tos\"]), \"upt\"\n",
    "    ]\n",
    "    \n",
    "    return (current_ym_val - prev_ym_val)"
   ]
  },
  {
   "cell_type": "code",
   "execution_count": null,
   "id": "654049d8-42ee-45d2-8e16-7a6cbee0c243",
   "metadata": {},
   "outputs": [],
   "source": [
    "test_df = df[:50].copy()"
   ]
  },
  {
   "cell_type": "code",
   "execution_count": null,
   "id": "f169ee13-0c9f-42aa-becd-3a89c3685a8b",
   "metadata": {},
   "outputs": [],
   "source": [
    "test_df.columns"
   ]
  },
  {
   "cell_type": "code",
   "execution_count": null,
   "id": "dbc8858a-d2f5-4f76-90de-ef9d9c3ced0e",
   "metadata": {},
   "outputs": [],
   "source": [
    "year = 2023\n",
    "month = \"05\"\n",
    "\n",
    "current_y_m = f\"{year}-{month}\"\n",
    "prior_y_m = f\"{int(year)-1}-{month}\"\n",
    "\n",
    "display(\n",
    "    current_y_m,\n",
    "    prior_y_m\n",
    ")"
   ]
  },
  {
   "cell_type": "code",
   "execution_count": null,
   "id": "dc6a8943-98bc-4450-90e9-1069a7682357",
   "metadata": {},
   "outputs": [],
   "source": [
    "test_df[\"test_col\"] = test_df.apply(lambda row: test_difference_func(row, current_y_m=\"2023-05\", prior_y_m=\"2022-05\"), axis=1)"
   ]
  },
  {
   "cell_type": "markdown",
   "id": "83efcd8a-73fe-48c9-a88f-28315b49950b",
   "metadata": {},
   "source": [
    "So im having trouble with coming up with a `change 1yr` column, now that the dataset is long (instead of the previous wide)\n",
    "\n",
    "what i was going for was something like:\n",
    "- adding a new column to the dataset called `change 1yr`, that takes the `UPT` value of the `ntd_id, mod, tos` for current `period_year_month` (ex. 2024-05) row, and subtracts the `UPT` value from the previous year's `period_year_month` (ex. 2024-05) row of the same `ntd_id, mod, tos`.\n",
    "\n",
    "- i thought i had something with a .apply(lambda x:) method, but wasnt etting anywhere.\n",
    "\n",
    "any suggestions on how i should approach this?\n"
   ]
  },
  {
   "cell_type": "markdown",
   "id": "4570a463-918a-4369-9722-cd54e7f35bf7",
   "metadata": {},
   "source": [
    "---"
   ]
  },
  {
   "cell_type": "code",
   "execution_count": null,
   "id": "bf6b1d92-be22-41c7-a2f9-6f4956373886",
   "metadata": {},
   "outputs": [],
   "source": [
    "# what is the most recent period_year_month? as of 7/2/2024\\\n",
    "# should expect to see values up tp May 2024\n",
    "display(\n",
    "    ca[ca[\"period_year_month\"] == \"2024-04\"].shape,\n",
    "    # as of 7/2, zero rows for May 2024. but expect ntd to update that data soon.\n",
    "    # 7/15, still no values for May 2024\n",
    "    ca[ca[\"period_year_month\"] == \"2024-05\"].shape\n",
    ")"
   ]
  },
  {
   "cell_type": "markdown",
   "id": "fc75fab4-0c99-4021-a5ba-0e7ceffc7422",
   "metadata": {},
   "source": [
    "# Tiffany method to get change 1yr working\n",
    "\n",
    "[see link to her old GH sctipt](https://github.com/CityOfLosAngeles/covid19-indicators/blob/master/processing_utils/utils.py#L306-L315)\n",
    "\n",
    "The .shift() method in Pandas is used to shift the values of a DataFrame or Series by a specified number of periods along the given axis.\n",
    "When you use .shift(), the data in the DataFrame or Series is moved up or down, while the index/columns stay in place. can move the entire dataframe up/down/left/right, or just a row or column in any direction.\n",
    "\n",
    "Per Tiffany\n",
    "- \"i think you could perhaps make this idea work. that snippet uses .shift to get you a previous observation and a post observation. in this case, it's the previous day and the day after. but for you, `you're looking at a previous year (same month)`.\"\n",
    "\n",
    "```\n",
    "sort_cols = [\"county\", \"state\", \"fips\", \"date\"]\n",
    "group_cols = [\"county\", \"state\", \"fips\"]\n",
    "\n",
    "df = df.assign(\n",
    "        previous_day = (df.sort_values(sort_cols)\n",
    "                        .groupby(group_cols)[\"new_cases\"]\n",
    "                        .apply(lambda x: x.shift(1))\n",
    "                       ),\n",
    "        post_day = (df.sort_values(sort_cols)\n",
    "                    .groupby(group_cols)[\"new_cases\"]\n",
    "                    .apply(lambda x: x.shift(-1))\n",
    "                   ),\n",
    "    )\n",
    "```"
   ]
  },
  {
   "cell_type": "code",
   "execution_count": null,
   "id": "8aad7b75-5e39-4bf5-8129-479eb9a3fb7e",
   "metadata": {},
   "outputs": [],
   "source": [
    "# df of just riverside county transpo agency in select years\n",
    "rcta = ca[(ca[\"ntd_id\"].isin([\"90218\", \"90006\",\"90216\"])) & (ca[\"period_year\"].isin([\"2024\",\"2023\", \"2022\", \"2021\"]))]\n"
   ]
  },
  {
   "cell_type": "code",
   "execution_count": null,
   "id": "4618978f-9d70-4502-ae20-493ec4cd2fb3",
   "metadata": {},
   "outputs": [],
   "source": [
    "rcta[[\"period_year\",\"period_month\"]] = rcta[[\"period_year\",\"period_month\"]].astype(int)"
   ]
  },
  {
   "cell_type": "code",
   "execution_count": null,
   "id": "5c5fb1c6-2d2b-42f9-a6a0-293d447363bb",
   "metadata": {},
   "outputs": [],
   "source": [
    "display(\n",
    "    rcta.columns,\n",
    "    rcta.shape,\n",
    "    rcta.dtypes,\n",
    "    rcta[\"agency\"].value_counts()\n",
    ")"
   ]
  },
  {
   "cell_type": "code",
   "execution_count": null,
   "id": "a1ef7b68-5142-486e-b45c-8a83bc3a0e17",
   "metadata": {
    "jupyter": {
     "source_hidden": true
    },
    "tags": []
   },
   "outputs": [],
   "source": [
    "# list of column names to sort the df by\n",
    "# lets sort by mode, tos, period_year_month\n",
    "sort_cols = [\"mode\", \"tos\", \"period_year_month\"]\n",
    "group_cols = [\"mode\", \"tos\"]\n",
    "\n",
    "current_y_m = f\"{year}-{month}\"\n",
    "prior_y_m = f\"{int(year)-1}-{month}\""
   ]
  },
  {
   "cell_type": "code",
   "execution_count": null,
   "id": "7f6b7d8a-bac2-4444-809e-ee5c73bda77d",
   "metadata": {
    "jupyter": {
     "source_hidden": true
    },
    "tags": []
   },
   "outputs": [],
   "source": [
    "previous_day = (rcta.sort_values(sort_cols) #sort df by oldest date\n",
    "                        .groupby(group_cols)[\"upt\"] #returns only upt values\n",
    "                        .apply(lambda x: x.shift(1)) #shifts upt values down by 1 step\n",
    "                       )\n",
    "\n",
    "next_day = (rcta.sort_values(sort_cols) #sort df by oldest date\n",
    "                        .groupby(group_cols)[\"upt\"] #returns only upt values\n",
    "                        .apply(lambda x: x.shift(-1)) #shifts upt values up by 1 step\n",
    "                       )\n",
    "display(\n",
    "    type(previous_day),\n",
    "    rcta.sort_values(sort_cols).groupby(group_cols)[\"upt\"].head(),\n",
    "    previous_day.head(),\n",
    "    next_day.head()\n",
    "\n",
    ")\n",
    "# result is a series of the \"upt\" col shifted down 1 place"
   ]
  },
  {
   "cell_type": "code",
   "execution_count": null,
   "id": "854beae9-c7aa-44c5-b8dc-a16e2b0906d8",
   "metadata": {
    "jupyter": {
     "source_hidden": true
    },
    "tags": []
   },
   "outputs": [],
   "source": [
    "# put together, what happens?\n",
    "# as is, new columns will be added to the DF, called prev_day and next_day. filled with values from upt shifted down one day and up one day respectivley. \n",
    "\n",
    "rcta.sort_values(sort_cols).groupby(group_cols)[\"upt\"] = rcta.assign(\n",
    "    previous_day = (rcta.sort_values(sort_cols) #sort df by oldest date\n",
    "                        .groupby(group_cols)[\"upt\"] #returns only upt values\n",
    "                        .apply(lambda x: x.shift(1)) #shifts upt values down by 1 step\n",
    "                       ),\n",
    "    next_day = (rcta.sort_values(sort_cols) #sort df by oldest date\n",
    "                        .groupby(group_cols)[\"upt\"] #returns only upt values\n",
    "                        .apply(lambda x: x.shift(-1)) #shifts upt values up by 1 step\n",
    "                       ),\n",
    "\n",
    ")\n",
    "The above code shifts the UPT data down/up 1 step"
   ]
  },
  {
   "cell_type": "code",
   "execution_count": null,
   "id": "dc63371a-b254-4bf0-b7cf-4ba4b4cd0552",
   "metadata": {},
   "outputs": [],
   "source": [
    "# How can i adapt this code to shift the just year?\n",
    "# apply the shift to period_year?\n",
    "\n",
    "sort_cols2 =  [\"ntd_id\",\"mode\", \"tos\",\"period_month\", \"period_year\"] # got the order correct with [\"period_month\", \"period_year\"]! sorted years with grouped months\n",
    "group_cols2 = [\"ntd_id\",\"mode\", \"tos\"]\n",
    "\n",
    "rcta = rcta.assign(\n",
    "    #this works! previous_y_m_upt shifted down 1 step as intended for each agency! each agency's first year_month got a NaN for previous_y_m_upt\n",
    "    previous_y_m_upt = (rcta.sort_values(sort_cols2) #sort df by oldest date\n",
    "                        .groupby(group_cols2)[\"upt\"] #\n",
    "                        .apply(lambda x: x.shift(1)) #shifts upt values down by 1 step\n",
    "                       ),\n",
    "    #THIS WORKS! the math works out!\n",
    "    change_1yr = (rcta[\"upt\"] - rcta[\"previous_y_m_upt\"])\n",
    "                  )\n"
   ]
  },
  {
   "cell_type": "code",
   "execution_count": null,
   "id": "047cb7a3-9d3f-4b0b-b6c7-294e3d2d283a",
   "metadata": {},
   "outputs": [],
   "source": [
    "display(\n",
    "    #easy to see the differences when the DF is sorte the same way,\n",
    "    rcta.sort_values(sort_cols2).head(),\n",
    "    \n",
    "    #does the math work out when the df is not sorted? YES IT IS!!\n",
    "    rcta.sample(5)\n",
    ")"
   ]
  },
  {
   "cell_type": "markdown",
   "id": "317f7a1b-d56d-4ab6-883c-721b20e4e484",
   "metadata": {},
   "source": [
    "# FINAL `add_change_col` function"
   ]
  },
  {
   "cell_type": "code",
   "execution_count": null,
   "id": "bb0a6f2b-0cfe-4b14-a534-11702aeccb79",
   "metadata": {},
   "outputs": [],
   "source": [
    "def add_change_columns_v2(df: pd.DataFrame) -> pd.DataFrame:\n",
    "    \"\"\"\n",
    "    This function works with the warehouse `dim_monthly_ntd_ridership_with_adjustments` long data format.\n",
    "    Sorts the df by ntd id, mode, tos, period month and period year. then adds 2 new columns, 1. previous year/month UPT and 2. UPT change 1yr.\n",
    "    \"\"\"\n",
    "\n",
    "    sort_cols2 =  [\"ntd_id\",\"mode\", \"tos\",\"period_month\", \"period_year\"] # got the order correct with [\"period_month\", \"period_year\"]! sorted years with grouped months\n",
    "    group_cols2 = [\"ntd_id\",\"mode\", \"tos\"]\n",
    "\n",
    "    df = df.assign(\n",
    "        previous_y_m_upt = (df.sort_values(sort_cols2)\n",
    "                        .groupby(group_cols2)[\"upt\"] \n",
    "                        .apply(lambda x: x.shift(1))\n",
    "                       )\n",
    "    )\n",
    "\n",
    "    df[\"change_1yr\"] = (df[\"upt\"] - df[\"previous_y_m_upt\"])\n",
    "    \n",
    "    return df"
   ]
  },
  {
   "cell_type": "code",
   "execution_count": null,
   "id": "d53d18d3-144c-4098-a5b2-20e228e1de52",
   "metadata": {},
   "outputs": [],
   "source": [
    "ca.shape"
   ]
  },
  {
   "cell_type": "code",
   "execution_count": null,
   "id": "befb9f2b-7b65-454a-927b-cd879386c7d9",
   "metadata": {},
   "outputs": [],
   "source": [
    "#test to ensure `add_change_columns_v2` works\n",
    "add_change_columns_v2(ca)"
   ]
  },
  {
   "cell_type": "code",
   "execution_count": null,
   "id": "7453b5b8-a2c2-4e8d-986f-55057028b9ab",
   "metadata": {},
   "outputs": [],
   "source": []
  }
 ],
 "metadata": {
  "kernelspec": {
   "display_name": "Python 3 (ipykernel)",
   "language": "python",
   "name": "python3"
  },
  "language_info": {
   "codemirror_mode": {
    "name": "ipython",
    "version": 3
   },
   "file_extension": ".py",
   "mimetype": "text/x-python",
   "name": "python",
   "nbconvert_exporter": "python",
   "pygments_lexer": "ipython3",
   "version": "3.9.13"
  }
 },
 "nbformat": 4,
 "nbformat_minor": 5
}
