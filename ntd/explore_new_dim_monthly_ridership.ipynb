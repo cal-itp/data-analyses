{
 "cells": [
  {
   "cell_type": "code",
   "execution_count": 1,
   "id": "6781e154-b5bf-482a-9682-7a70478378d2",
   "metadata": {},
   "outputs": [],
   "source": [
    "import pandas as pd\n",
    "from calitp_data_analysis.tables import tbls\n",
    "from siuba import _, collect, count, filter, show_query\n",
    "from shared_utils.rt_dates import MONTH_DICT\n",
    "from update_vars import GCS_FILE_PATH, NTD_MODES, NTD_TOS, YEAR, MONTH"
   ]
  },
  {
   "cell_type": "code",
   "execution_count": 2,
   "id": "d917c821-e6b0-4ab4-9b5f-d295db7e68ca",
   "metadata": {},
   "outputs": [],
   "source": [
    "pd.set_option(\"display.max_columns\", None)\n",
    "pd.set_option(\"display.max_rows\", None)"
   ]
  },
  {
   "cell_type": "markdown",
   "id": "373677b3-721e-4cc4-b373-03867dab6efd",
   "metadata": {
    "jp-MarkdownHeadingCollapsed": true,
    "tags": []
   },
   "source": [
    "# Test reading in `dim_monthly_ntd_ridership_with_adjustments` from warehouse"
   ]
  },
  {
   "cell_type": "code",
   "execution_count": 3,
   "id": "0cfb98aa-8ac1-4e19-97c0-fb6597893a2b",
   "metadata": {},
   "outputs": [],
   "source": [
    "monthly_ridership = (\n",
    "    tbls.mart_ntd.dim_monthly_ntd_ridership_with_adjustments() >> collect()\n",
    ")"
   ]
  },
  {
   "cell_type": "code",
   "execution_count": 4,
   "id": "b4510885-957a-4a4a-8518-bb4f34210fef",
   "metadata": {},
   "outputs": [],
   "source": [
    "# reading in old monthly ridership parquet for comparison\n",
    "old_march_2024_ridership = pd.read_parquet(\"gs://calitp-analytics-data/data-analyses/ntd/ntd_monthly_ridership_2024_March.parquet\")"
   ]
  },
  {
   "cell_type": "code",
   "execution_count": 5,
   "id": "5a3632e7-e1d7-47c2-b411-a094204a8a01",
   "metadata": {},
   "outputs": [
    {
     "data": {
      "text/plain": [
       "(613184, 22)"
      ]
     },
     "metadata": {},
     "output_type": "display_data"
    },
    {
     "data": {
      "text/html": [
       "<div>\n",
       "<style scoped>\n",
       "    .dataframe tbody tr th:only-of-type {\n",
       "        vertical-align: middle;\n",
       "    }\n",
       "\n",
       "    .dataframe tbody tr th {\n",
       "        vertical-align: top;\n",
       "    }\n",
       "\n",
       "    .dataframe thead th {\n",
       "        text-align: right;\n",
       "    }\n",
       "</style>\n",
       "<table border=\"1\" class=\"dataframe\">\n",
       "  <thead>\n",
       "    <tr style=\"text-align: right;\">\n",
       "      <th></th>\n",
       "      <th>uza_name</th>\n",
       "      <th>uace_cd</th>\n",
       "      <th>_dt</th>\n",
       "      <th>ts</th>\n",
       "      <th>ntd_id</th>\n",
       "      <th>year</th>\n",
       "      <th>reporter_type</th>\n",
       "      <th>agency</th>\n",
       "      <th>mode_type_of_service_status</th>\n",
       "      <th>mode</th>\n",
       "      <th>mode_full_name</th>\n",
       "      <th>service_type</th>\n",
       "      <th>_3_mode</th>\n",
       "      <th>tos</th>\n",
       "      <th>legacy_ntd_id</th>\n",
       "      <th>period_year_month</th>\n",
       "      <th>period_year</th>\n",
       "      <th>period_month</th>\n",
       "      <th>upt</th>\n",
       "      <th>vrm</th>\n",
       "      <th>vrh</th>\n",
       "      <th>voms</th>\n",
       "    </tr>\n",
       "  </thead>\n",
       "  <tbody>\n",
       "    <tr>\n",
       "      <th>0</th>\n",
       "      <td>Miami--Fort Lauderdale, FL</td>\n",
       "      <td>56602</td>\n",
       "      <td>2024-07-01</td>\n",
       "      <td>2024-07-01 21:44:31.635354+00:00</td>\n",
       "      <td>40034</td>\n",
       "      <td>2024</td>\n",
       "      <td>Full Reporter</td>\n",
       "      <td>County of Miami-Dade</td>\n",
       "      <td>Inactive</td>\n",
       "      <td>AG</td>\n",
       "      <td>Automated Guideway</td>\n",
       "      <td>Fixed Route</td>\n",
       "      <td>Rail</td>\n",
       "      <td>DO</td>\n",
       "      <td>4034</td>\n",
       "      <td>2004-09</td>\n",
       "      <td>2004</td>\n",
       "      <td>9</td>\n",
       "      <td>819680</td>\n",
       "      <td>67072</td>\n",
       "      <td>6045</td>\n",
       "      <td>17</td>\n",
       "    </tr>\n",
       "    <tr>\n",
       "      <th>1</th>\n",
       "      <td>Miami--Fort Lauderdale, FL</td>\n",
       "      <td>56602</td>\n",
       "      <td>2024-07-01</td>\n",
       "      <td>2024-07-01 21:44:31.635354+00:00</td>\n",
       "      <td>40034</td>\n",
       "      <td>2024</td>\n",
       "      <td>Full Reporter</td>\n",
       "      <td>County of Miami-Dade</td>\n",
       "      <td>Inactive</td>\n",
       "      <td>AG</td>\n",
       "      <td>Automated Guideway</td>\n",
       "      <td>Fixed Route</td>\n",
       "      <td>Rail</td>\n",
       "      <td>DO</td>\n",
       "      <td>4034</td>\n",
       "      <td>2012-06</td>\n",
       "      <td>2012</td>\n",
       "      <td>6</td>\n",
       "      <td>0</td>\n",
       "      <td>0</td>\n",
       "      <td>0</td>\n",
       "      <td>0</td>\n",
       "    </tr>\n",
       "    <tr>\n",
       "      <th>2</th>\n",
       "      <td>Miami--Fort Lauderdale, FL</td>\n",
       "      <td>56602</td>\n",
       "      <td>2024-07-01</td>\n",
       "      <td>2024-07-01 21:44:31.635354+00:00</td>\n",
       "      <td>40034</td>\n",
       "      <td>2024</td>\n",
       "      <td>Full Reporter</td>\n",
       "      <td>County of Miami-Dade</td>\n",
       "      <td>Inactive</td>\n",
       "      <td>AG</td>\n",
       "      <td>Automated Guideway</td>\n",
       "      <td>Fixed Route</td>\n",
       "      <td>Rail</td>\n",
       "      <td>DO</td>\n",
       "      <td>4034</td>\n",
       "      <td>2012-01</td>\n",
       "      <td>2012</td>\n",
       "      <td>1</td>\n",
       "      <td>0</td>\n",
       "      <td>0</td>\n",
       "      <td>0</td>\n",
       "      <td>0</td>\n",
       "    </tr>\n",
       "  </tbody>\n",
       "</table>\n",
       "</div>"
      ],
      "text/plain": [
       "                     uza_name uace_cd         _dt  \\\n",
       "0  Miami--Fort Lauderdale, FL   56602  2024-07-01   \n",
       "1  Miami--Fort Lauderdale, FL   56602  2024-07-01   \n",
       "2  Miami--Fort Lauderdale, FL   56602  2024-07-01   \n",
       "\n",
       "                                ts ntd_id  year  reporter_type  \\\n",
       "0 2024-07-01 21:44:31.635354+00:00  40034  2024  Full Reporter   \n",
       "1 2024-07-01 21:44:31.635354+00:00  40034  2024  Full Reporter   \n",
       "2 2024-07-01 21:44:31.635354+00:00  40034  2024  Full Reporter   \n",
       "\n",
       "                  agency mode_type_of_service_status mode      mode_full_name  \\\n",
       "0  County of Miami-Dade                     Inactive   AG  Automated Guideway   \n",
       "1  County of Miami-Dade                     Inactive   AG  Automated Guideway   \n",
       "2  County of Miami-Dade                     Inactive   AG  Automated Guideway   \n",
       "\n",
       "  service_type _3_mode tos legacy_ntd_id period_year_month period_year  \\\n",
       "0  Fixed Route    Rail  DO          4034           2004-09        2004   \n",
       "1  Fixed Route    Rail  DO          4034           2012-06        2012   \n",
       "2  Fixed Route    Rail  DO          4034           2012-01        2012   \n",
       "\n",
       "  period_month     upt    vrm   vrh  voms  \n",
       "0            9  819680  67072  6045    17  \n",
       "1            6       0      0     0     0  \n",
       "2            1       0      0     0     0  "
      ]
     },
     "metadata": {},
     "output_type": "display_data"
    }
   ],
   "source": [
    "# what is in this table?\n",
    "# all states\n",
    "display(\n",
    "    monthly_ridership.shape,\n",
    "    # monthly_ridership.info,\n",
    "    monthly_ridership.head(3),\n",
    ")"
   ]
  },
  {
   "cell_type": "code",
   "execution_count": 6,
   "id": "ae4ecb7e-6642-453b-b2fc-b8df4b7c00f6",
   "metadata": {},
   "outputs": [
    {
     "name": "stdout",
     "output_type": "stream",
     "text": [
      "uza_name                                    object\n",
      "uace_cd                                     object\n",
      "_dt                                         object\n",
      "ts                             datetime64[ns, UTC]\n",
      "ntd_id                                      object\n",
      "year                                         int64\n",
      "reporter_type                               object\n",
      "agency                                      object\n",
      "mode_type_of_service_status                 object\n",
      "mode                                        object\n",
      "mode_full_name                              object\n",
      "service_type                                object\n",
      "_3_mode                                     object\n",
      "tos                                         object\n",
      "legacy_ntd_id                               object\n",
      "period_year_month                           object\n",
      "period_year                                 object\n",
      "period_month                                object\n",
      "upt                                          int64\n",
      "vrm                                          int64\n",
      "vrh                                          int64\n",
      "voms                                         int64\n",
      "dtype: object\n"
     ]
    }
   ],
   "source": [
    "print(monthly_ridership.dtypes)"
   ]
  },
  {
   "cell_type": "code",
   "execution_count": 7,
   "id": "1168de76-b3c6-41f2-8738-e2ad6cdaeec0",
   "metadata": {},
   "outputs": [
    {
     "data": {
      "text/plain": [
       "1608"
      ]
     },
     "execution_count": 7,
     "metadata": {},
     "output_type": "execute_result"
    }
   ],
   "source": [
    "# are there NaN values in uza name? YES\n",
    "monthly_ridership[\"uza_name\"].isna().sum()"
   ]
  },
  {
   "cell_type": "code",
   "execution_count": 8,
   "id": "a61d04d9-c691-4841-b8d1-785357bc3a7f",
   "metadata": {},
   "outputs": [],
   "source": [
    "# fill the NaN values with something\n",
    "monthly_ridership[\"uza_name\"].fillna(\"none\", inplace=True)"
   ]
  },
  {
   "cell_type": "code",
   "execution_count": 9,
   "id": "1448f404-1cbd-44cb-b485-4864f9c766f1",
   "metadata": {},
   "outputs": [
    {
     "data": {
      "text/plain": [
       "0"
      ]
     },
     "execution_count": 9,
     "metadata": {},
     "output_type": "execute_result"
    }
   ],
   "source": [
    "# double check for na\n",
    "monthly_ridership[\"uza_name\"].isna().sum()"
   ]
  },
  {
   "cell_type": "code",
   "execution_count": 10,
   "id": "1eee5c92-9f26-4775-9db3-dae615a744ea",
   "metadata": {},
   "outputs": [
    {
     "data": {
      "text/plain": [
       "(91924, 22)"
      ]
     },
     "metadata": {},
     "output_type": "display_data"
    },
    {
     "data": {
      "text/plain": [
       "Los Angeles--Long Beach--Anaheim, CA             19296\n",
       "San Francisco--Oakland, CA                       10720\n",
       "Sacramento, CA                                    8308\n",
       "San Diego, CA                                     6164\n",
       "Riverside--San Bernardino, CA                     3752\n",
       "Stockton, CA                                      2948\n",
       "Vallejo, CA                                       2144\n",
       "Santa Rosa, CA                                    1876\n",
       "Lake Tahoe, CA-NV                                 1876\n",
       "Modesto, CA                                       1876\n",
       "Seaside--Monterey--Pacific Grove, CA              1876\n",
       "San Luis Obispo, CA                               1608\n",
       "Palmdale--Lancaster, CA                           1608\n",
       "Oxnard--San Buenaventura (Ventura), CA            1340\n",
       "San Jose, CA                                      1340\n",
       "Santa Cruz, CA                                    1340\n",
       "Visalia, CA                                       1340\n",
       "Hanford, CA                                       1340\n",
       "Indio--Palm Desert--Palm Springs, CA              1072\n",
       "Chico, CA                                         1072\n",
       "Antioch, CA                                       1072\n",
       "El Centro, CA                                     1072\n",
       "Vacaville, CA                                     1072\n",
       "Bakersfield, CA                                   1072\n",
       "Victorville--Hesperia--Apple Valley, CA           1072\n",
       "Santa Barbara, CA                                 1072\n",
       "Fairfield, CA                                     1072\n",
       "Santa Clarita, CA                                  804\n",
       "Concord--Walnut Creek, CA                          804\n",
       "Lompoc, CA                                         804\n",
       "Redding, CA                                        804\n",
       "Napa, CA                                           804\n",
       "Merced, CA                                         804\n",
       "Yuba City, CA                                      804\n",
       "Porterville, CA                                    536\n",
       "Tulare, CA                                         536\n",
       "Petaluma, CA                                       536\n",
       "Turlock, CA                                        536\n",
       "Thousand Oaks, CA                                  536\n",
       "Lodi, CA                                           536\n",
       "Fresno, CA                                         536\n",
       "Livermore--Pleasanton--Dublin, CA                  536\n",
       "Santa Maria, CA                                    536\n",
       "Simi Valley, CA                                    536\n",
       "Mission Viejo--Lake Forest--Laguna Niguel, CA      268\n",
       "Davis, CA                                          268\n",
       "Name: uza_name, dtype: int64"
      ]
     },
     "metadata": {},
     "output_type": "display_data"
    }
   ],
   "source": [
    "# can i now filter by uza CA, becaue there are zero NaN values? YES\n",
    "uza_ca = monthly_ridership[monthly_ridership[\"uza_name\"].str.contains(\", CA\")]\n",
    "display(\n",
    "    uza_ca.shape,\n",
    "    uza_ca[\"uza_name\"].value_counts()\n",
    ")"
   ]
  },
  {
   "cell_type": "code",
   "execution_count": 11,
   "id": "54846a09-0964-43f9-9e7a-ea2f82b4c3dd",
   "metadata": {},
   "outputs": [
    {
     "data": {
      "text/plain": [
       "(1876, 22)"
      ]
     },
     "metadata": {},
     "output_type": "display_data"
    },
    {
     "data": {
      "text/plain": [
       "(91924, 22)"
      ]
     },
     "metadata": {},
     "output_type": "display_data"
    }
   ],
   "source": [
    "# where are the UTP values? the UTP page for this table used to be very wide\n",
    "# look at a specific agency by ntd id, LA Metro == \"9154\"\n",
    "# what is the dtype of ntd_id... its object, so use str.contrains\n",
    "la_metro = monthly_ridership[monthly_ridership[\"ntd_id\"] == \"90154\"]\n",
    "display(la_metro.shape, uza_ca.shape)"
   ]
  },
  {
   "cell_type": "code",
   "execution_count": 12,
   "id": "47ccb201-29b0-4156-b6bf-d76298fc3427",
   "metadata": {},
   "outputs": [],
   "source": [
    "# filter la_metro data to only see current and previous year (2024 and 2023)\n",
    "\n",
    "la_2324 = la_metro[la_metro[\"period_year\"].isin([\"2023\", \"2024\"])]"
   ]
  },
  {
   "cell_type": "code",
   "execution_count": 13,
   "id": "e59c8dc1-e303-489c-a44b-394685737fa0",
   "metadata": {},
   "outputs": [
    {
     "data": {
      "text/html": [
       "<div>\n",
       "<style scoped>\n",
       "    .dataframe tbody tr th:only-of-type {\n",
       "        vertical-align: middle;\n",
       "    }\n",
       "\n",
       "    .dataframe tbody tr th {\n",
       "        vertical-align: top;\n",
       "    }\n",
       "\n",
       "    .dataframe thead th {\n",
       "        text-align: right;\n",
       "    }\n",
       "</style>\n",
       "<table border=\"1\" class=\"dataframe\">\n",
       "  <thead>\n",
       "    <tr style=\"text-align: right;\">\n",
       "      <th></th>\n",
       "      <th>period_year_month</th>\n",
       "      <th>mode</th>\n",
       "      <th>tos</th>\n",
       "      <th>upt</th>\n",
       "    </tr>\n",
       "  </thead>\n",
       "  <tbody>\n",
       "    <tr>\n",
       "      <th>286721</th>\n",
       "      <td>2024-03</td>\n",
       "      <td>DR</td>\n",
       "      <td>DO</td>\n",
       "      <td>62986</td>\n",
       "    </tr>\n",
       "    <tr>\n",
       "      <th>321801</th>\n",
       "      <td>2024-03</td>\n",
       "      <td>HR</td>\n",
       "      <td>DO</td>\n",
       "      <td>1874721</td>\n",
       "    </tr>\n",
       "    <tr>\n",
       "      <th>331817</th>\n",
       "      <td>2024-03</td>\n",
       "      <td>LR</td>\n",
       "      <td>DO</td>\n",
       "      <td>3842909</td>\n",
       "    </tr>\n",
       "    <tr>\n",
       "      <th>533594</th>\n",
       "      <td>2024-03</td>\n",
       "      <td>MB</td>\n",
       "      <td>DO</td>\n",
       "      <td>18852906</td>\n",
       "    </tr>\n",
       "    <tr>\n",
       "      <th>533833</th>\n",
       "      <td>2024-03</td>\n",
       "      <td>MB</td>\n",
       "      <td>PT</td>\n",
       "      <td>929537</td>\n",
       "    </tr>\n",
       "    <tr>\n",
       "      <th>556733</th>\n",
       "      <td>2024-03</td>\n",
       "      <td>RB</td>\n",
       "      <td>DO</td>\n",
       "      <td>380625</td>\n",
       "    </tr>\n",
       "    <tr>\n",
       "      <th>607473</th>\n",
       "      <td>2024-03</td>\n",
       "      <td>VP</td>\n",
       "      <td>PT</td>\n",
       "      <td>125149</td>\n",
       "    </tr>\n",
       "  </tbody>\n",
       "</table>\n",
       "</div>"
      ],
      "text/plain": [
       "       period_year_month mode tos       upt\n",
       "286721           2024-03   DR  DO     62986\n",
       "321801           2024-03   HR  DO   1874721\n",
       "331817           2024-03   LR  DO   3842909\n",
       "533594           2024-03   MB  DO  18852906\n",
       "533833           2024-03   MB  PT    929537\n",
       "556733           2024-03   RB  DO    380625\n",
       "607473           2024-03   VP  PT    125149"
      ]
     },
     "execution_count": 13,
     "metadata": {},
     "output_type": "execute_result"
    }
   ],
   "source": [
    "# does this 23/24 data match whats in the NTD report? YES\n",
    "# confirm that data is now long instead of wide\n",
    "la_2324[la_2324[\"period_year_month\"] == \"2024-03\"][\n",
    "    [\"period_year_month\", \"mode\", \"tos\", \"upt\"]\n",
    "].sort_values(by=\"period_year_month\", ascending=True)"
   ]
  },
  {
   "cell_type": "markdown",
   "id": "5e0968ad-6918-4423-a579-9dd4d5ef057f",
   "metadata": {},
   "source": [
    "# What to modify in the `produce_ntd_monthly_ridership_by_rtpa` function\n",
    "step-by-step"
   ]
  },
  {
   "cell_type": "code",
   "execution_count": 14,
   "id": "3e01f75a-6c8d-468f-a6a0-75c15dc10cb7",
   "metadata": {},
   "outputs": [],
   "source": [
    "# 1. reading in the data & renaming column\n",
    "# intead of reading in the data via an excel doc by URL, intead will query the warehouse directly\n",
    "\n",
    "#GOOD TO GO\n",
    "full_upt = (tbls.mart_ntd.dim_monthly_ntd_ridership_with_adjustments() >> collect()).rename(columns = {\"mode_type_of_service_status\": \"Status\"})\n"
   ]
  },
  {
   "cell_type": "code",
   "execution_count": 15,
   "id": "e97a71c1-30ed-4f31-b786-38e3ed36fe47",
   "metadata": {},
   "outputs": [
    {
     "data": {
      "text/plain": [
       "uza_name                          object\n",
       "uace_cd                           object\n",
       "_dt                               object\n",
       "ts                   datetime64[ns, UTC]\n",
       "ntd_id                            object\n",
       "year                               int64\n",
       "reporter_type                     object\n",
       "agency                            object\n",
       "Status                            object\n",
       "mode                              object\n",
       "mode_full_name                    object\n",
       "service_type                      object\n",
       "_3_mode                           object\n",
       "tos                               object\n",
       "legacy_ntd_id                     object\n",
       "period_year_month                 object\n",
       "period_year                       object\n",
       "period_month                      object\n",
       "upt                                int64\n",
       "vrm                                int64\n",
       "vrh                                int64\n",
       "voms                               int64\n",
       "dtype: object"
      ]
     },
     "metadata": {},
     "output_type": "display_data"
    }
   ],
   "source": [
    "display(\n",
    "    full_upt.dtypes,\n",
    ")"
   ]
  },
  {
   "cell_type": "code",
   "execution_count": 16,
   "id": "e114c323-8feb-4edd-9b4a-3d74a91ddac8",
   "metadata": {},
   "outputs": [],
   "source": [
    "#1.1 setting `ntd_id` to str\n",
    "\n",
    "# NTD_ID COL IS ALREADY OBJECT/STR DATA TYPE\n",
    "# full_upt[\"ntd_id\"] = full_upt[\"ntd_id\"].astype(str)"
   ]
  },
  {
   "cell_type": "code",
   "execution_count": 17,
   "id": "e016134a-ee29-4334-b86c-a5c193cfcdfe",
   "metadata": {},
   "outputs": [],
   "source": [
    "#2 filter df to get rid of na rows\n",
    "# GOOD TO GO!\n",
    "full_upt = full_upt[full_upt.agency.notna()].reset_index(drop=True)"
   ]
  },
  {
   "cell_type": "code",
   "execution_count": 18,
   "id": "e2e9b3c9-5b3c-40cb-baef-4ae040e70d87",
   "metadata": {},
   "outputs": [
    {
     "data": {
      "text/plain": [
       "0"
      ]
     },
     "execution_count": 18,
     "metadata": {},
     "output_type": "execute_result"
    }
   ],
   "source": [
    "full_upt[\"agency\"].isna().sum()"
   ]
  },
  {
   "cell_type": "code",
   "execution_count": 19,
   "id": "60212a85-a77d-43c1-9795-da3e6cfbe487",
   "metadata": {},
   "outputs": [],
   "source": [
    "#3 new DF of just CA and not-blank agency names\n",
    "# filter UZA name col for CA and not blank agency names.\n",
    "\n",
    "#GOOD TO GO!\n",
    "ca = full_upt[(full_upt[\"uza_name\"].str.contains(\", CA\")) & \n",
    "            (full_upt.agency.notna())].reset_index(drop=True)"
   ]
  },
  {
   "cell_type": "code",
   "execution_count": 20,
   "id": "f5657e17-d1ea-42ca-a10f-6f4e1c064907",
   "metadata": {},
   "outputs": [
    {
     "data": {
      "text/plain": [
       "(91924, 22)"
      ]
     },
     "execution_count": 20,
     "metadata": {},
     "output_type": "execute_result"
    }
   ],
   "source": [
    "ca.shape"
   ]
  },
  {
   "cell_type": "code",
   "execution_count": 21,
   "id": "28a6cf03-16cd-454e-9702-ea893846899c",
   "metadata": {},
   "outputs": [
    {
     "data": {
      "text/plain": [
       "Index(['ntd_id', 'Legacy NTD ID', 'Agency', 'UZA Name', 'RTPA_open_data',\n",
       "       'RTPA'],\n",
       "      dtype='object')"
      ]
     },
     "execution_count": 21,
     "metadata": {},
     "output_type": "execute_result"
    }
   ],
   "source": [
    "#4 read in ntd_id-to-RTPA crosswalk\n",
    "# same as before, no changes\n",
    "\n",
    "#GOOD TO GO!\n",
    "crosswalk = pd.read_csv(\n",
    "        f\"gs://calitp-analytics-data/data-analyses/ntd/ntd_id_rtpa_crosswalk.csv\", \n",
    "        dtype = {\"NTD ID\": \"str\"}\n",
    "    #have to rename NTD ID col to match the dim table\n",
    "    ).rename(columns={\"NTD ID\": \"ntd_id\"})\n",
    "    \n",
    "crosswalk.columns"
   ]
  },
  {
   "cell_type": "code",
   "execution_count": 22,
   "id": "81595778-26cc-40b3-a8f8-383bc701241e",
   "metadata": {},
   "outputs": [
    {
     "name": "stdout",
     "output_type": "stream",
     "text": [
      "both          91924\n",
      "left_only         0\n",
      "right_only        0\n",
      "Name: _merge, dtype: int64\n"
     ]
    }
   ],
   "source": [
    "#5 merge CA df and crosswalk\n",
    "\n",
    "# GOOD TO GO\n",
    "df = pd.merge(\n",
    "        ca,\n",
    "        # Merging on too many columns can create problems \n",
    "        # because csvs and dtypes aren't stable / consistent \n",
    "        # for NTD ID, Legacy NTD ID, and UZA\n",
    "        crosswalk[[\"ntd_id\", \"RTPA\"]],\n",
    "        #change on = value to ntd_id\n",
    "        on = \"ntd_id\",\n",
    "        how = \"left\",\n",
    "        indicator = True\n",
    "    )\n",
    "    \n",
    "print(df._merge.value_counts())"
   ]
  },
  {
   "cell_type": "code",
   "execution_count": 23,
   "id": "d340b257-3e48-4a93-8b90-f35cb25baa5b",
   "metadata": {},
   "outputs": [],
   "source": [
    "#6 flag to see if there are any unmerged rows \n",
    "\n",
    "# GOOD TO GO\n",
    "if len(df[df._merge==\"left_only\"]) > 0:\n",
    "        raise ValueError(\"There are unmerged rows to crosswalk\")"
   ]
  },
  {
   "cell_type": "code",
   "execution_count": 24,
   "id": "3203c644-6abb-4771-98a4-a8967fee714f",
   "metadata": {},
   "outputs": [
    {
     "ename": "NameError",
     "evalue": "name 'month' is not defined",
     "output_type": "error",
     "traceback": [
      "\u001b[0;31m---------------------------------------------------------------------------\u001b[0m",
      "\u001b[0;31mNameError\u001b[0m                                 Traceback (most recent call last)",
      "Cell \u001b[0;32mIn[24], line 6\u001b[0m\n\u001b[1;32m      1\u001b[0m \u001b[38;5;66;03m#7 reverses the MONTH_DICT \u001b[39;00m\n\u001b[1;32m      2\u001b[0m \n\u001b[1;32m      3\u001b[0m \u001b[38;5;66;03m# Add new columns    \u001b[39;00m\n\u001b[1;32m      4\u001b[0m reversed_months \u001b[38;5;241m=\u001b[39m {v:k \u001b[38;5;28;01mfor\u001b[39;00m k, v \u001b[38;5;129;01min\u001b[39;00m MONTH_DICT\u001b[38;5;241m.\u001b[39mitems()}\n\u001b[0;32m----> 6\u001b[0m \u001b[38;5;28;01mfor\u001b[39;00m m \u001b[38;5;129;01min\u001b[39;00m \u001b[38;5;28mrange\u001b[39m(\u001b[38;5;241m1\u001b[39m, reversed_months[\u001b[43mmonth\u001b[49m] \u001b[38;5;241m+\u001b[39m \u001b[38;5;241m1\u001b[39m):\n\u001b[1;32m      7\u001b[0m     df \u001b[38;5;241m=\u001b[39m add_change_columns(df, year, m)\n",
      "\u001b[0;31mNameError\u001b[0m: name 'month' is not defined"
     ]
    }
   ],
   "source": [
    "#7 reverses the MONTH_DICT \n",
    "\n",
    "# Add new columns    \n",
    "reversed_months = {v:k for k, v in MONTH_DICT.items()}\n",
    "    \n",
    "for m in range(1, reversed_months[month] + 1):\n",
    "    df = add_change_columns(df, year, m)"
   ]
  },
  {
   "cell_type": "code",
   "execution_count": 25,
   "id": "fcea83ac-ce3f-449a-93c8-0fb755472c8c",
   "metadata": {},
   "outputs": [],
   "source": [
    "# FINAL FORM\n",
    "\n",
    "\n",
    "# final updated  `produce_ntd_monthly_ridership_by_rtpa` function.\n",
    "# may not need the upt_url\n",
    "\n",
    "def produce_ntd_monthly_ridership_by_rtpa(\n",
    "    #upt_url: str,\n",
    "    year: int,\n",
    "    month: str\n",
    ") -> pd.DataFrame:\n",
    "    \"\"\"\n",
    "    Import NTD data from url, filter to CA, \n",
    "    merge in crosswalk, and save individual csvs.\n",
    "    \"\"\"\n",
    "    full_upt = (tbls.mart_ntd.dim_monthly_ntd_ridership_with_adjustments() >> collect()\n",
    "               ).rename(columns = {\"mode_type_of_service_status\": \"Status\"})\n",
    "    \n",
    "    full_upt = full_upt[full_upt.agency.notna()].reset_index(drop=True)\n",
    "    #full_upt.to_parquet(\n",
    "    #    f\"{GCS_FILE_PATH}ntd_monthly_ridership_{year}_{month}.parquet\"\n",
    "    #)\n",
    "    ca = full_upt[(full_upt[\"uza_name\"].str.contains(\", CA\")) & \n",
    "            (full_upt.agency.notna())].reset_index(drop=True)\n",
    "    \n",
    "    crosswalk = pd.read_csv(\n",
    "        f\"gs://calitp-analytics-data/data-analyses/ntd/ntd_id_rtpa_crosswalk.csv\", \n",
    "        dtype = {\"NTD ID\": \"str\"}\n",
    "    #have to rename NTD ID col to match the dim table\n",
    "    ).rename(columns={\"NTD ID\": \"ntd_id\"})\n",
    "    \n",
    "    df = pd.merge(\n",
    "        ca,\n",
    "        # Merging on too many columns can create problems \n",
    "        # because csvs and dtypes aren't stable / consistent \n",
    "        # for NTD ID, Legacy NTD ID, and UZA\n",
    "        crosswalk[[\"ntd_id\", \"RTPA\"]],\n",
    "        #change on = value to ntd_id\n",
    "        on = \"ntd_id\",\n",
    "        how = \"left\",\n",
    "        indicator = True\n",
    "    )\n",
    "    \n",
    "    print(df._merge.value_counts())\n",
    "    \n",
    "    # Good, everything merged, as we want\n",
    "    if len(df[df._merge==\"left_only\"]) > 0:\n",
    "        raise ValueError(\"There are unmerged rows to crosswalk\")\n",
    "        \n",
    "    # Add new columns    \n",
    "    reversed_months = {v:k for k, v in MONTH_DICT.items()}\n",
    "    \n",
    "    for m in range(1, reversed_months[month] + 1):\n",
    "        df = add_change_columns(df, year, m)\n",
    "    \n",
    "    df = df.assign(\n",
    "        Mode_full = df.Mode.map(NTD_MODES),\n",
    "        TOS_full = df.TOS.map(NTD_TOS)\n",
    "    )\n",
    "    \n",
    "    return df\n"
   ]
  },
  {
   "cell_type": "markdown",
   "id": "68d82320-64ac-4083-bb7f-9c770939ef31",
   "metadata": {},
   "source": [
    "---\n",
    "## Do I need `reserved_months` anymore?\n",
    "RE: `produce_ntd_monthly_ridership_by_rtpa` function.\n",
    "\n",
    "\n",
    "Since the new table uses a `yyyy-mm` format now. i dont think i need the revesre months anymore. what else needs to change?\n",
    "reversed month was needed for the `add_change_columns` function.  \n",
    "\n"
   ]
  },
  {
   "cell_type": "code",
   "execution_count": 26,
   "id": "eaa54198-aa30-4a44-9596-a5d167c7e476",
   "metadata": {},
   "outputs": [
    {
     "name": "stdout",
     "output_type": "stream",
     "text": [
      "this is MONTH_DICT\n"
     ]
    },
    {
     "data": {
      "text/plain": [
       "{1: 'January',\n",
       " 2: 'February',\n",
       " 3: 'March',\n",
       " 4: 'April',\n",
       " 5: 'May',\n",
       " 6: 'June',\n",
       " 7: 'July',\n",
       " 8: 'August',\n",
       " 9: 'September',\n",
       " 10: 'October',\n",
       " 11: 'November',\n",
       " 12: 'December'}"
      ]
     },
     "metadata": {},
     "output_type": "display_data"
    },
    {
     "name": "stdout",
     "output_type": "stream",
     "text": [
      "this is reversed_months\n"
     ]
    },
    {
     "data": {
      "text/plain": [
       "{'January': 1,\n",
       " 'February': 2,\n",
       " 'March': 3,\n",
       " 'April': 4,\n",
       " 'May': 5,\n",
       " 'June': 6,\n",
       " 'July': 7,\n",
       " 'August': 8,\n",
       " 'September': 9,\n",
       " 'October': 10,\n",
       " 'November': 11,\n",
       " 'December': 12}"
      ]
     },
     "metadata": {},
     "output_type": "display_data"
    }
   ],
   "source": [
    "# what does reversed months do?\n",
    "\n",
    "reversed_months = {v:k for k, v in MONTH_DICT.items()}\n",
    "\n",
    "# what MONTH_DICT looks like initially.\n",
    "\n",
    "print(\"this is MONTH_DICT\"),\n",
    "display(MONTH_DICT),\n",
    "\n",
    "# like the name implies, reverses the key values pairs. \n",
    "print(\"this is reversed_months\"),\n",
    "display(reversed_months)\n"
   ]
  },
  {
   "cell_type": "code",
   "execution_count": 27,
   "id": "9ad26a19-2ecd-498e-921d-fc88679d332c",
   "metadata": {},
   "outputs": [
    {
     "data": {
      "text/plain": [
       "12067    2012-07\n",
       "20560    2018-08\n",
       "21476    2016-07\n",
       "Name: period_year_month, dtype: object"
      ]
     },
     "execution_count": 27,
     "metadata": {},
     "output_type": "execute_result"
    }
   ],
   "source": [
    "# what is the date format in the new df\n",
    "# YYYY-MM\n",
    "df[\"period_year_month\"].sample(3)"
   ]
  },
  {
   "cell_type": "code",
   "execution_count": 28,
   "id": "1676147c-04b9-4fc3-a187-627b30cbbd6d",
   "metadata": {},
   "outputs": [
    {
     "data": {
      "text/html": [
       "<div>\n",
       "<style scoped>\n",
       "    .dataframe tbody tr th:only-of-type {\n",
       "        vertical-align: middle;\n",
       "    }\n",
       "\n",
       "    .dataframe tbody tr th {\n",
       "        vertical-align: top;\n",
       "    }\n",
       "\n",
       "    .dataframe thead th {\n",
       "        text-align: right;\n",
       "    }\n",
       "</style>\n",
       "<table border=\"1\" class=\"dataframe\">\n",
       "  <thead>\n",
       "    <tr style=\"text-align: right;\">\n",
       "      <th></th>\n",
       "      <th>9/2002</th>\n",
       "      <th>10/2002</th>\n",
       "      <th>11/2002</th>\n",
       "      <th>12/2002</th>\n",
       "    </tr>\n",
       "  </thead>\n",
       "  <tbody>\n",
       "    <tr>\n",
       "      <th>0</th>\n",
       "      <td>132111.0</td>\n",
       "      <td>150074.0</td>\n",
       "      <td>127835.0</td>\n",
       "      <td>114857.0</td>\n",
       "    </tr>\n",
       "    <tr>\n",
       "      <th>1</th>\n",
       "      <td>0.0</td>\n",
       "      <td>0.0</td>\n",
       "      <td>0.0</td>\n",
       "      <td>0.0</td>\n",
       "    </tr>\n",
       "    <tr>\n",
       "      <th>2</th>\n",
       "      <td>0.0</td>\n",
       "      <td>0.0</td>\n",
       "      <td>0.0</td>\n",
       "      <td>0.0</td>\n",
       "    </tr>\n",
       "    <tr>\n",
       "      <th>3</th>\n",
       "      <td>32321.0</td>\n",
       "      <td>20384.0</td>\n",
       "      <td>13964.0</td>\n",
       "      <td>14050.0</td>\n",
       "    </tr>\n",
       "    <tr>\n",
       "      <th>4</th>\n",
       "      <td>5571149.0</td>\n",
       "      <td>6024277.0</td>\n",
       "      <td>5498884.0</td>\n",
       "      <td>5693491.0</td>\n",
       "    </tr>\n",
       "  </tbody>\n",
       "</table>\n",
       "</div>"
      ],
      "text/plain": [
       "      9/2002    10/2002    11/2002    12/2002\n",
       "0   132111.0   150074.0   127835.0   114857.0\n",
       "1        0.0        0.0        0.0        0.0\n",
       "2        0.0        0.0        0.0        0.0\n",
       "3    32321.0    20384.0    13964.0    14050.0\n",
       "4  5571149.0  6024277.0  5498884.0  5693491.0"
      ]
     },
     "execution_count": 28,
     "metadata": {},
     "output_type": "execute_result"
    }
   ],
   "source": [
    "# what is the date format in the old data?\n",
    "# M/YYYY\n",
    "old_march_2024_ridership.iloc[:,18:22].head()"
   ]
  },
  {
   "cell_type": "markdown",
   "id": "773e997d-42a2-4922-b072-247f1cc786a2",
   "metadata": {},
   "source": [
    "## options\n",
    "* change the df date format to match reversed_months format. (yyyy-mm to mm/yyy)\n",
    "    * can use a mix of split, str replace, and reversing via slicing \n",
    "* change the `add_change_column` function to accept yyyy-mm\n",
    "    * make a v2 of this function that accepts yyyy-mm, creates a new column, and applys some function by looking at the row period_year_month and finding the \"period_year_month\" -1 yr to calculate the difference."
   ]
  },
  {
   "cell_type": "markdown",
   "id": "2224dc45-0a66-4266-a6e4-89767b153844",
   "metadata": {
    "tags": []
   },
   "source": [
    "## update add_change_columns"
   ]
  },
  {
   "cell_type": "code",
   "execution_count": 29,
   "id": "0855bf42-cb68-4657-8544-d6063f02d29d",
   "metadata": {},
   "outputs": [
    {
     "data": {
      "text/plain": [
       "uza_name                          object\n",
       "uace_cd                           object\n",
       "_dt                               object\n",
       "ts                   datetime64[ns, UTC]\n",
       "ntd_id                            object\n",
       "year                               int64\n",
       "reporter_type                     object\n",
       "agency                            object\n",
       "Status                            object\n",
       "mode                              object\n",
       "mode_full_name                    object\n",
       "service_type                      object\n",
       "_3_mode                           object\n",
       "tos                               object\n",
       "legacy_ntd_id                     object\n",
       "period_year_month                 object\n",
       "period_year                       object\n",
       "period_month                      object\n",
       "upt                                int64\n",
       "vrm                                int64\n",
       "vrh                                int64\n",
       "voms                               int64\n",
       "RTPA                              object\n",
       "_merge                          category\n",
       "dtype: object"
      ]
     },
     "execution_count": 29,
     "metadata": {},
     "output_type": "execute_result"
    }
   ],
   "source": [
    "df.dtypes"
   ]
  },
  {
   "cell_type": "code",
   "execution_count": 30,
   "id": "39509fd3-4040-45f5-946e-0c489d859387",
   "metadata": {},
   "outputs": [
    {
     "data": {
      "text/html": [
       "<div>\n",
       "<style scoped>\n",
       "    .dataframe tbody tr th:only-of-type {\n",
       "        vertical-align: middle;\n",
       "    }\n",
       "\n",
       "    .dataframe tbody tr th {\n",
       "        vertical-align: top;\n",
       "    }\n",
       "\n",
       "    .dataframe thead th {\n",
       "        text-align: right;\n",
       "    }\n",
       "</style>\n",
       "<table border=\"1\" class=\"dataframe\">\n",
       "  <thead>\n",
       "    <tr style=\"text-align: right;\">\n",
       "      <th></th>\n",
       "      <th>uza_name</th>\n",
       "      <th>uace_cd</th>\n",
       "      <th>_dt</th>\n",
       "      <th>ts</th>\n",
       "      <th>ntd_id</th>\n",
       "      <th>year</th>\n",
       "      <th>reporter_type</th>\n",
       "      <th>agency</th>\n",
       "      <th>Status</th>\n",
       "      <th>mode</th>\n",
       "      <th>mode_full_name</th>\n",
       "      <th>service_type</th>\n",
       "      <th>_3_mode</th>\n",
       "      <th>tos</th>\n",
       "      <th>legacy_ntd_id</th>\n",
       "      <th>period_year_month</th>\n",
       "      <th>period_year</th>\n",
       "      <th>period_month</th>\n",
       "      <th>upt</th>\n",
       "      <th>vrm</th>\n",
       "      <th>vrh</th>\n",
       "      <th>voms</th>\n",
       "      <th>RTPA</th>\n",
       "      <th>_merge</th>\n",
       "    </tr>\n",
       "  </thead>\n",
       "  <tbody>\n",
       "    <tr>\n",
       "      <th>0</th>\n",
       "      <td>Santa Cruz, CA</td>\n",
       "      <td>79336</td>\n",
       "      <td>2024-07-01</td>\n",
       "      <td>2024-07-01 21:44:31.635354+00:00</td>\n",
       "      <td>90006</td>\n",
       "      <td>2024</td>\n",
       "      <td>Full Reporter</td>\n",
       "      <td>Santa Cruz Metropolitan Transit District</td>\n",
       "      <td>Active</td>\n",
       "      <td>CB</td>\n",
       "      <td>Commuter Bus</td>\n",
       "      <td>Fixed Route</td>\n",
       "      <td>Bus</td>\n",
       "      <td>DO</td>\n",
       "      <td>9006</td>\n",
       "      <td>2003-06</td>\n",
       "      <td>2003</td>\n",
       "      <td>6</td>\n",
       "      <td>0</td>\n",
       "      <td>0</td>\n",
       "      <td>0</td>\n",
       "      <td>0</td>\n",
       "      <td>Santa Cruz County Transportation Commission</td>\n",
       "      <td>both</td>\n",
       "    </tr>\n",
       "    <tr>\n",
       "      <th>1</th>\n",
       "      <td>Santa Cruz, CA</td>\n",
       "      <td>79336</td>\n",
       "      <td>2024-07-01</td>\n",
       "      <td>2024-07-01 21:44:31.635354+00:00</td>\n",
       "      <td>90006</td>\n",
       "      <td>2024</td>\n",
       "      <td>Full Reporter</td>\n",
       "      <td>Santa Cruz Metropolitan Transit District</td>\n",
       "      <td>Active</td>\n",
       "      <td>CB</td>\n",
       "      <td>Commuter Bus</td>\n",
       "      <td>Fixed Route</td>\n",
       "      <td>Bus</td>\n",
       "      <td>DO</td>\n",
       "      <td>9006</td>\n",
       "      <td>2009-06</td>\n",
       "      <td>2009</td>\n",
       "      <td>6</td>\n",
       "      <td>0</td>\n",
       "      <td>0</td>\n",
       "      <td>0</td>\n",
       "      <td>0</td>\n",
       "      <td>Santa Cruz County Transportation Commission</td>\n",
       "      <td>both</td>\n",
       "    </tr>\n",
       "    <tr>\n",
       "      <th>2</th>\n",
       "      <td>Santa Cruz, CA</td>\n",
       "      <td>79336</td>\n",
       "      <td>2024-07-01</td>\n",
       "      <td>2024-07-01 21:44:31.635354+00:00</td>\n",
       "      <td>90006</td>\n",
       "      <td>2024</td>\n",
       "      <td>Full Reporter</td>\n",
       "      <td>Santa Cruz Metropolitan Transit District</td>\n",
       "      <td>Active</td>\n",
       "      <td>CB</td>\n",
       "      <td>Commuter Bus</td>\n",
       "      <td>Fixed Route</td>\n",
       "      <td>Bus</td>\n",
       "      <td>DO</td>\n",
       "      <td>9006</td>\n",
       "      <td>2002-11</td>\n",
       "      <td>2002</td>\n",
       "      <td>11</td>\n",
       "      <td>0</td>\n",
       "      <td>0</td>\n",
       "      <td>0</td>\n",
       "      <td>0</td>\n",
       "      <td>Santa Cruz County Transportation Commission</td>\n",
       "      <td>both</td>\n",
       "    </tr>\n",
       "    <tr>\n",
       "      <th>3</th>\n",
       "      <td>Santa Cruz, CA</td>\n",
       "      <td>79336</td>\n",
       "      <td>2024-07-01</td>\n",
       "      <td>2024-07-01 21:44:31.635354+00:00</td>\n",
       "      <td>90006</td>\n",
       "      <td>2024</td>\n",
       "      <td>Full Reporter</td>\n",
       "      <td>Santa Cruz Metropolitan Transit District</td>\n",
       "      <td>Active</td>\n",
       "      <td>CB</td>\n",
       "      <td>Commuter Bus</td>\n",
       "      <td>Fixed Route</td>\n",
       "      <td>Bus</td>\n",
       "      <td>DO</td>\n",
       "      <td>9006</td>\n",
       "      <td>2002-07</td>\n",
       "      <td>2002</td>\n",
       "      <td>7</td>\n",
       "      <td>0</td>\n",
       "      <td>0</td>\n",
       "      <td>0</td>\n",
       "      <td>0</td>\n",
       "      <td>Santa Cruz County Transportation Commission</td>\n",
       "      <td>both</td>\n",
       "    </tr>\n",
       "    <tr>\n",
       "      <th>4</th>\n",
       "      <td>Santa Cruz, CA</td>\n",
       "      <td>79336</td>\n",
       "      <td>2024-07-01</td>\n",
       "      <td>2024-07-01 21:44:31.635354+00:00</td>\n",
       "      <td>90006</td>\n",
       "      <td>2024</td>\n",
       "      <td>Full Reporter</td>\n",
       "      <td>Santa Cruz Metropolitan Transit District</td>\n",
       "      <td>Active</td>\n",
       "      <td>CB</td>\n",
       "      <td>Commuter Bus</td>\n",
       "      <td>Fixed Route</td>\n",
       "      <td>Bus</td>\n",
       "      <td>DO</td>\n",
       "      <td>9006</td>\n",
       "      <td>2003-12</td>\n",
       "      <td>2003</td>\n",
       "      <td>12</td>\n",
       "      <td>0</td>\n",
       "      <td>0</td>\n",
       "      <td>0</td>\n",
       "      <td>0</td>\n",
       "      <td>Santa Cruz County Transportation Commission</td>\n",
       "      <td>both</td>\n",
       "    </tr>\n",
       "  </tbody>\n",
       "</table>\n",
       "</div>"
      ],
      "text/plain": [
       "         uza_name uace_cd         _dt                               ts ntd_id  \\\n",
       "0  Santa Cruz, CA   79336  2024-07-01 2024-07-01 21:44:31.635354+00:00  90006   \n",
       "1  Santa Cruz, CA   79336  2024-07-01 2024-07-01 21:44:31.635354+00:00  90006   \n",
       "2  Santa Cruz, CA   79336  2024-07-01 2024-07-01 21:44:31.635354+00:00  90006   \n",
       "3  Santa Cruz, CA   79336  2024-07-01 2024-07-01 21:44:31.635354+00:00  90006   \n",
       "4  Santa Cruz, CA   79336  2024-07-01 2024-07-01 21:44:31.635354+00:00  90006   \n",
       "\n",
       "   year  reporter_type                                    agency  Status mode  \\\n",
       "0  2024  Full Reporter  Santa Cruz Metropolitan Transit District  Active   CB   \n",
       "1  2024  Full Reporter  Santa Cruz Metropolitan Transit District  Active   CB   \n",
       "2  2024  Full Reporter  Santa Cruz Metropolitan Transit District  Active   CB   \n",
       "3  2024  Full Reporter  Santa Cruz Metropolitan Transit District  Active   CB   \n",
       "4  2024  Full Reporter  Santa Cruz Metropolitan Transit District  Active   CB   \n",
       "\n",
       "  mode_full_name service_type _3_mode tos legacy_ntd_id period_year_month  \\\n",
       "0   Commuter Bus  Fixed Route     Bus  DO          9006           2003-06   \n",
       "1   Commuter Bus  Fixed Route     Bus  DO          9006           2009-06   \n",
       "2   Commuter Bus  Fixed Route     Bus  DO          9006           2002-11   \n",
       "3   Commuter Bus  Fixed Route     Bus  DO          9006           2002-07   \n",
       "4   Commuter Bus  Fixed Route     Bus  DO          9006           2003-12   \n",
       "\n",
       "  period_year period_month  upt  vrm  vrh  voms  \\\n",
       "0        2003            6    0    0    0     0   \n",
       "1        2009            6    0    0    0     0   \n",
       "2        2002           11    0    0    0     0   \n",
       "3        2002            7    0    0    0     0   \n",
       "4        2003           12    0    0    0     0   \n",
       "\n",
       "                                          RTPA _merge  \n",
       "0  Santa Cruz County Transportation Commission   both  \n",
       "1  Santa Cruz County Transportation Commission   both  \n",
       "2  Santa Cruz County Transportation Commission   both  \n",
       "3  Santa Cruz County Transportation Commission   both  \n",
       "4  Santa Cruz County Transportation Commission   both  "
      ]
     },
     "execution_count": 30,
     "metadata": {},
     "output_type": "execute_result"
    }
   ],
   "source": [
    "df.head()"
   ]
  },
  {
   "cell_type": "code",
   "execution_count": 31,
   "id": "1a4b22dd-7614-4384-977a-abdaeac2c37b",
   "metadata": {},
   "outputs": [],
   "source": [
    "# updated to match new year-month format \n",
    "\n",
    "def add_change_columns_v2(\n",
    "    df: pd.DataFrame,\n",
    "    year: int,\n",
    "    month: int\n",
    ") -> pd.DataFrame:\n",
    "    \"\"\"\n",
    "    updated to accept yyyy-mm format.\n",
    "    \n",
    "    \"\"\"    \n",
    "    ntd_month_col = f\"{year}-{month}\"\n",
    "    prior_year_col = f\"{int(year)-1}-{month}\"\n",
    "        \n",
    "    df[f\"change_1yr_{ntd_month_col}\"] = df[ntd_month_col] - df[prior_year_col]\n",
    "    df = get_percent_change(df, ntd_month_col, prior_year_col)\n",
    "    \n",
    "    return df"
   ]
  },
  {
   "cell_type": "code",
   "execution_count": 33,
   "id": "1cdc40ad-b23e-4056-8560-ce6b40a1712a",
   "metadata": {},
   "outputs": [
    {
     "data": {
      "text/html": [
       "<div>\n",
       "<style scoped>\n",
       "    .dataframe tbody tr th:only-of-type {\n",
       "        vertical-align: middle;\n",
       "    }\n",
       "\n",
       "    .dataframe tbody tr th {\n",
       "        vertical-align: top;\n",
       "    }\n",
       "\n",
       "    .dataframe thead th {\n",
       "        text-align: right;\n",
       "    }\n",
       "</style>\n",
       "<table border=\"1\" class=\"dataframe\">\n",
       "  <thead>\n",
       "    <tr style=\"text-align: right;\">\n",
       "      <th></th>\n",
       "      <th>uza_name</th>\n",
       "      <th>uace_cd</th>\n",
       "      <th>_dt</th>\n",
       "      <th>ts</th>\n",
       "      <th>ntd_id</th>\n",
       "      <th>year</th>\n",
       "      <th>reporter_type</th>\n",
       "      <th>agency</th>\n",
       "      <th>Status</th>\n",
       "      <th>mode</th>\n",
       "      <th>mode_full_name</th>\n",
       "      <th>service_type</th>\n",
       "      <th>_3_mode</th>\n",
       "      <th>tos</th>\n",
       "      <th>legacy_ntd_id</th>\n",
       "      <th>period_year_month</th>\n",
       "      <th>period_year</th>\n",
       "      <th>period_month</th>\n",
       "      <th>upt</th>\n",
       "      <th>vrm</th>\n",
       "      <th>vrh</th>\n",
       "      <th>voms</th>\n",
       "      <th>RTPA</th>\n",
       "      <th>_merge</th>\n",
       "    </tr>\n",
       "  </thead>\n",
       "  <tbody>\n",
       "    <tr>\n",
       "      <th>31</th>\n",
       "      <td>Santa Cruz, CA</td>\n",
       "      <td>79336</td>\n",
       "      <td>2024-07-01</td>\n",
       "      <td>2024-07-01 21:44:31.635354+00:00</td>\n",
       "      <td>90006</td>\n",
       "      <td>2024</td>\n",
       "      <td>Full Reporter</td>\n",
       "      <td>Santa Cruz Metropolitan Transit District</td>\n",
       "      <td>Active</td>\n",
       "      <td>CB</td>\n",
       "      <td>Commuter Bus</td>\n",
       "      <td>Fixed Route</td>\n",
       "      <td>Bus</td>\n",
       "      <td>DO</td>\n",
       "      <td>9006</td>\n",
       "      <td>2022-05</td>\n",
       "      <td>2022</td>\n",
       "      <td>5</td>\n",
       "      <td>12217</td>\n",
       "      <td>31205</td>\n",
       "      <td>1081</td>\n",
       "      <td>5</td>\n",
       "      <td>Santa Cruz County Transportation Commission</td>\n",
       "      <td>both</td>\n",
       "    </tr>\n",
       "    <tr>\n",
       "      <th>485</th>\n",
       "      <td>Stockton, CA</td>\n",
       "      <td>85087</td>\n",
       "      <td>2024-07-01</td>\n",
       "      <td>2024-07-01 21:44:31.635354+00:00</td>\n",
       "      <td>90012</td>\n",
       "      <td>2024</td>\n",
       "      <td>Full Reporter</td>\n",
       "      <td>San Joaquin Regional Transit District</td>\n",
       "      <td>Active</td>\n",
       "      <td>CB</td>\n",
       "      <td>Commuter Bus</td>\n",
       "      <td>Fixed Route</td>\n",
       "      <td>Bus</td>\n",
       "      <td>DO</td>\n",
       "      <td>9012</td>\n",
       "      <td>2022-05</td>\n",
       "      <td>2022</td>\n",
       "      <td>5</td>\n",
       "      <td>2940</td>\n",
       "      <td>15760</td>\n",
       "      <td>515</td>\n",
       "      <td>5</td>\n",
       "      <td>San Joaquin Council of Governments</td>\n",
       "      <td>both</td>\n",
       "    </tr>\n",
       "    <tr>\n",
       "      <th>487</th>\n",
       "      <td>Stockton, CA</td>\n",
       "      <td>85087</td>\n",
       "      <td>2024-07-01</td>\n",
       "      <td>2024-07-01 21:44:31.635354+00:00</td>\n",
       "      <td>90012</td>\n",
       "      <td>2024</td>\n",
       "      <td>Full Reporter</td>\n",
       "      <td>San Joaquin Regional Transit District</td>\n",
       "      <td>Inactive</td>\n",
       "      <td>CB</td>\n",
       "      <td>Commuter Bus</td>\n",
       "      <td>Fixed Route</td>\n",
       "      <td>Bus</td>\n",
       "      <td>PT</td>\n",
       "      <td>9012</td>\n",
       "      <td>2022-05</td>\n",
       "      <td>2022</td>\n",
       "      <td>5</td>\n",
       "      <td>0</td>\n",
       "      <td>0</td>\n",
       "      <td>0</td>\n",
       "      <td>0</td>\n",
       "      <td>San Joaquin Council of Governments</td>\n",
       "      <td>both</td>\n",
       "    </tr>\n",
       "  </tbody>\n",
       "</table>\n",
       "</div>"
      ],
      "text/plain": [
       "           uza_name uace_cd         _dt                               ts  \\\n",
       "31   Santa Cruz, CA   79336  2024-07-01 2024-07-01 21:44:31.635354+00:00   \n",
       "485    Stockton, CA   85087  2024-07-01 2024-07-01 21:44:31.635354+00:00   \n",
       "487    Stockton, CA   85087  2024-07-01 2024-07-01 21:44:31.635354+00:00   \n",
       "\n",
       "    ntd_id  year  reporter_type                                    agency  \\\n",
       "31   90006  2024  Full Reporter  Santa Cruz Metropolitan Transit District   \n",
       "485  90012  2024  Full Reporter     San Joaquin Regional Transit District   \n",
       "487  90012  2024  Full Reporter     San Joaquin Regional Transit District   \n",
       "\n",
       "       Status mode mode_full_name service_type _3_mode tos legacy_ntd_id  \\\n",
       "31     Active   CB   Commuter Bus  Fixed Route     Bus  DO          9006   \n",
       "485    Active   CB   Commuter Bus  Fixed Route     Bus  DO          9012   \n",
       "487  Inactive   CB   Commuter Bus  Fixed Route     Bus  PT          9012   \n",
       "\n",
       "    period_year_month period_year period_month    upt    vrm   vrh  voms  \\\n",
       "31            2022-05        2022            5  12217  31205  1081     5   \n",
       "485           2022-05        2022            5   2940  15760   515     5   \n",
       "487           2022-05        2022            5      0      0     0     0   \n",
       "\n",
       "                                            RTPA _merge  \n",
       "31   Santa Cruz County Transportation Commission   both  \n",
       "485           San Joaquin Council of Governments   both  \n",
       "487           San Joaquin Council of Governments   both  "
      ]
     },
     "execution_count": 33,
     "metadata": {},
     "output_type": "execute_result"
    }
   ],
   "source": [
    "# can i use a lambda function to create a new column that:\n",
    "# checks every row (x), if the row has a `period_year_month` value, does it have a `period_year_month` -1 year value in the same column? \n",
    "    # if true, then subtract `period_year_month` by `period_year_month`-1 year.\n",
    "    # else return 0\n",
    "year = 2023\n",
    "month = \"05\"\n",
    "\n",
    "current_y_m = f\"{year}-{month}\"\n",
    "prior_y_m = f\"{int(year)-1}-{month}\"\n",
    "\n",
    "# using current_y_m works and prior_year_col works\n",
    "df[df[\"period_year_month\"].str.contains(prior_y_m)].head(3)\n",
    "\n"
   ]
  },
  {
   "cell_type": "markdown",
   "id": "12b98b2c-5982-4fb3-a721-38adaf64fe64",
   "metadata": {},
   "source": [
    "### what is the grain?\n",
    "metrics values (upt/vrm/vrh/crm/voms) of a specifc **tos**, of specific **mode**, for a speicifc **agency** on a specific **year/month**"
   ]
  },
  {
   "cell_type": "code",
   "execution_count": null,
   "id": "04a62dd8-422c-417b-b6c5-b1d2e92a526e",
   "metadata": {},
   "outputs": [],
   "source": [
    "# first attempt at what im trying to do\n",
    "\n",
    "# create a new column called \"change 1yr\"\n",
    "# at each row in \"period_month_year\", do what? take the value of that row, then mimus the value of the previous period_mont_year -1\n",
    "\n",
    "#this doesnt work becaues im not indicating how X is used, \n",
    "#df[\"change_1yr\"] = df[\"period_year_month\"].apply(lambda x: (df[\"period_year_month\"].str.contains(current_y_m)[\"upt\"]) - (df[\"period_year_month\"].str.contains(prior_year_col)[\"upt\"]))\n",
    "\n",
    "#pseudo code\n",
    "df[\"change_1yr\"] = df[\"period_year_month\"].apply(lambda x: (upt at x for current_y_m, agency, tos and mode)  - \n",
    "                                                 (upt at x for prior_y_m, current_y_m, agency, tos and mode))\n",
    "\n"
   ]
  },
  {
   "cell_type": "code",
   "execution_count": 35,
   "id": "79c8f1a4-5c1f-469d-babd-e596aa2291b7",
   "metadata": {},
   "outputs": [
    {
     "data": {
      "text/plain": [
       "1852"
      ]
     },
     "execution_count": 35,
     "metadata": {},
     "output_type": "execute_result"
    }
   ],
   "source": [
    "# how can i see the specific UPT for a specific agency, mode & TOS and date?\n",
    "\n",
    "#uses .loc at current_y_m UPT, position 0, minus .loc at previous_year_col UPT, position o\n",
    "# but is is the same agency/mode/tos in both sides of the equation?\n",
    "df.loc[df[\"period_year_month\"] == current_y_m,\"upt\"].values[0] - df.loc[df[\"period_year_month\"] == prior_y_m,\"upt\"].values[0]"
   ]
  },
  {
   "cell_type": "code",
   "execution_count": 56,
   "id": "e1209c93-4484-47c9-9d8e-8ab313364eb5",
   "metadata": {},
   "outputs": [
    {
     "data": {
      "text/plain": [
       "5       14069\n",
       "376         0\n",
       "620      3321\n",
       "943     47011\n",
       "1080        0\n",
       "Name: upt, dtype: int64"
      ]
     },
     "execution_count": 56,
     "metadata": {},
     "output_type": "execute_result"
    }
   ],
   "source": [
    "df.loc[\n",
    "        (df[\"period_year_month\"] == current_y_m) &\n",
    "        (df[\"ntd_id\"] == df[\"ntd_id\"]) &\n",
    "        (df[\"mode\"] == df[\"mode\"]) &\n",
    "        (df[\"tos\"] == df[\"tos\"]), \"upt\"\n",
    "    ]"
   ]
  },
  {
   "cell_type": "code",
   "execution_count": 65,
   "id": "46c9e8f3-7587-433c-af0a-b4179ef0096a",
   "metadata": {},
   "outputs": [
    {
     "data": {
      "text/html": [
       "<div>\n",
       "<style scoped>\n",
       "    .dataframe tbody tr th:only-of-type {\n",
       "        vertical-align: middle;\n",
       "    }\n",
       "\n",
       "    .dataframe tbody tr th {\n",
       "        vertical-align: top;\n",
       "    }\n",
       "\n",
       "    .dataframe thead th {\n",
       "        text-align: right;\n",
       "    }\n",
       "</style>\n",
       "<table border=\"1\" class=\"dataframe\">\n",
       "  <thead>\n",
       "    <tr style=\"text-align: right;\">\n",
       "      <th></th>\n",
       "      <th>uza_name</th>\n",
       "      <th>uace_cd</th>\n",
       "      <th>_dt</th>\n",
       "      <th>ts</th>\n",
       "      <th>ntd_id</th>\n",
       "      <th>year</th>\n",
       "      <th>reporter_type</th>\n",
       "      <th>agency</th>\n",
       "      <th>Status</th>\n",
       "      <th>mode</th>\n",
       "      <th>mode_full_name</th>\n",
       "      <th>service_type</th>\n",
       "      <th>_3_mode</th>\n",
       "      <th>tos</th>\n",
       "      <th>legacy_ntd_id</th>\n",
       "      <th>period_year_month</th>\n",
       "      <th>period_year</th>\n",
       "      <th>period_month</th>\n",
       "      <th>upt</th>\n",
       "      <th>vrm</th>\n",
       "      <th>vrh</th>\n",
       "      <th>voms</th>\n",
       "      <th>RTPA</th>\n",
       "      <th>_merge</th>\n",
       "    </tr>\n",
       "  </thead>\n",
       "  <tbody>\n",
       "    <tr>\n",
       "      <th>7015</th>\n",
       "      <td>San Luis Obispo, CA</td>\n",
       "      <td>79147</td>\n",
       "      <td>2024-07-01</td>\n",
       "      <td>2024-07-01 21:44:31.635354+00:00</td>\n",
       "      <td>90206</td>\n",
       "      <td>2024</td>\n",
       "      <td>Full Reporter</td>\n",
       "      <td>San Luis Obispo Regional Transit Authority</td>\n",
       "      <td>Inactive</td>\n",
       "      <td>CB</td>\n",
       "      <td>Commuter Bus</td>\n",
       "      <td>Fixed Route</td>\n",
       "      <td>Bus</td>\n",
       "      <td>DO</td>\n",
       "      <td>9206</td>\n",
       "      <td>2019-12</td>\n",
       "      <td>2019</td>\n",
       "      <td>12</td>\n",
       "      <td>0</td>\n",
       "      <td>0</td>\n",
       "      <td>0</td>\n",
       "      <td>0</td>\n",
       "      <td>San Luis Obispo Council of Governments</td>\n",
       "      <td>both</td>\n",
       "    </tr>\n",
       "    <tr>\n",
       "      <th>86428</th>\n",
       "      <td>San Francisco--Oakland, CA</td>\n",
       "      <td>78904</td>\n",
       "      <td>2024-07-01</td>\n",
       "      <td>2024-07-01 21:44:31.635354+00:00</td>\n",
       "      <td>90015</td>\n",
       "      <td>2024</td>\n",
       "      <td>Full Reporter</td>\n",
       "      <td>City and County of San Francisco</td>\n",
       "      <td>Active</td>\n",
       "      <td>SR</td>\n",
       "      <td>Streetcar</td>\n",
       "      <td>Fixed Route</td>\n",
       "      <td>Rail</td>\n",
       "      <td>DO</td>\n",
       "      <td>9015</td>\n",
       "      <td>2005-02</td>\n",
       "      <td>2005</td>\n",
       "      <td>2</td>\n",
       "      <td>0</td>\n",
       "      <td>0</td>\n",
       "      <td>0</td>\n",
       "      <td>0</td>\n",
       "      <td>Metropolitan Transportation Commission</td>\n",
       "      <td>both</td>\n",
       "    </tr>\n",
       "    <tr>\n",
       "      <th>57116</th>\n",
       "      <td>San Francisco--Oakland, CA</td>\n",
       "      <td>78904</td>\n",
       "      <td>2024-07-01</td>\n",
       "      <td>2024-07-01 21:44:31.635354+00:00</td>\n",
       "      <td>90014</td>\n",
       "      <td>2024</td>\n",
       "      <td>Full Reporter</td>\n",
       "      <td>Alameda-Contra Costa Transit District</td>\n",
       "      <td>Active</td>\n",
       "      <td>MB</td>\n",
       "      <td>Motor Bus</td>\n",
       "      <td>Fixed Route</td>\n",
       "      <td>Bus</td>\n",
       "      <td>PT</td>\n",
       "      <td>9014</td>\n",
       "      <td>2002-12</td>\n",
       "      <td>2002</td>\n",
       "      <td>12</td>\n",
       "      <td>20328</td>\n",
       "      <td>18480</td>\n",
       "      <td>945</td>\n",
       "      <td>9</td>\n",
       "      <td>Metropolitan Transportation Commission</td>\n",
       "      <td>both</td>\n",
       "    </tr>\n",
       "  </tbody>\n",
       "</table>\n",
       "</div>"
      ],
      "text/plain": [
       "                         uza_name uace_cd         _dt  \\\n",
       "7015          San Luis Obispo, CA   79147  2024-07-01   \n",
       "86428  San Francisco--Oakland, CA   78904  2024-07-01   \n",
       "57116  San Francisco--Oakland, CA   78904  2024-07-01   \n",
       "\n",
       "                                    ts ntd_id  year  reporter_type  \\\n",
       "7015  2024-07-01 21:44:31.635354+00:00  90206  2024  Full Reporter   \n",
       "86428 2024-07-01 21:44:31.635354+00:00  90015  2024  Full Reporter   \n",
       "57116 2024-07-01 21:44:31.635354+00:00  90014  2024  Full Reporter   \n",
       "\n",
       "                                           agency    Status mode  \\\n",
       "7015   San Luis Obispo Regional Transit Authority  Inactive   CB   \n",
       "86428            City and County of San Francisco    Active   SR   \n",
       "57116       Alameda-Contra Costa Transit District    Active   MB   \n",
       "\n",
       "      mode_full_name service_type _3_mode tos legacy_ntd_id period_year_month  \\\n",
       "7015    Commuter Bus  Fixed Route     Bus  DO          9206           2019-12   \n",
       "86428      Streetcar  Fixed Route    Rail  DO          9015           2005-02   \n",
       "57116      Motor Bus  Fixed Route     Bus  PT          9014           2002-12   \n",
       "\n",
       "      period_year period_month    upt    vrm  vrh  voms  \\\n",
       "7015         2019           12      0      0    0     0   \n",
       "86428        2005            2      0      0    0     0   \n",
       "57116        2002           12  20328  18480  945     9   \n",
       "\n",
       "                                         RTPA _merge  \n",
       "7015   San Luis Obispo Council of Governments   both  \n",
       "86428  Metropolitan Transportation Commission   both  \n",
       "57116  Metropolitan Transportation Commission   both  "
      ]
     },
     "execution_count": 65,
     "metadata": {},
     "output_type": "execute_result"
    }
   ],
   "source": [
    "df.sample(3)"
   ]
  },
  {
   "cell_type": "code",
   "execution_count": 72,
   "id": "1a774a0e-89c5-4987-898f-97156aa3122d",
   "metadata": {},
   "outputs": [
    {
     "data": {
      "text/plain": [
       "31      12217\n",
       "485      2940\n",
       "487         0\n",
       "819     34331\n",
       "1258        0\n",
       "1504     8470\n",
       "1875        0\n",
       "1922    13817\n",
       "2195        0\n",
       "2512        0\n",
       "Name: upt, dtype: int64"
      ]
     },
     "execution_count": 72,
     "metadata": {},
     "output_type": "execute_result"
    }
   ],
   "source": [
    "df.loc[df[\"period_year_month\"] == prior_y_m, \"upt\"][:10]\n"
   ]
  },
  {
   "cell_type": "code",
   "execution_count": 36,
   "id": "75838c83-3ca3-4830-bff9-f7ea38a653ba",
   "metadata": {},
   "outputs": [],
   "source": [
    "def test_difference_func(row, current_y_m, prior_y_m ):\n",
    "    current_ym_val =  df.loc[\n",
    "        (df[\"period_year_month\"] == current_y_m) &\n",
    "        (df[\"ntd_id\"] == row[\"ntd_id\"]) &\n",
    "        (df[\"mode\"] == row[\"mode\"]) &\n",
    "        (df[\"tos\"] == row[\"tos\"]), \"upt\"\n",
    "    ]\n",
    "    \n",
    "    prev_ym_val =  df.loc[\n",
    "        (df[\"period_year_month\"] == prior_y_m) &\n",
    "        (df[\"ntd_id\"] == row[\"ntd_id\"]) &\n",
    "        (df[\"mode\"] == row[\"mode\"]) &\n",
    "        (df[\"tos\"] == row[\"tos\"]), \"upt\"\n",
    "    ]\n",
    "    \n",
    "    return (current_ym_val - prev_ym_val)"
   ]
  },
  {
   "cell_type": "code",
   "execution_count": 44,
   "id": "654049d8-42ee-45d2-8e16-7a6cbee0c243",
   "metadata": {},
   "outputs": [],
   "source": [
    "test_df = df[:50].copy()"
   ]
  },
  {
   "cell_type": "code",
   "execution_count": 50,
   "id": "f169ee13-0c9f-42aa-becd-3a89c3685a8b",
   "metadata": {},
   "outputs": [
    {
     "data": {
      "text/plain": [
       "Index(['uza_name', 'uace_cd', '_dt', 'ts', 'ntd_id', 'year', 'reporter_type',\n",
       "       'agency', 'Status', 'mode', 'mode_full_name', 'service_type', '_3_mode',\n",
       "       'tos', 'legacy_ntd_id', 'period_year_month', 'period_year',\n",
       "       'period_month', 'upt', 'vrm', 'vrh', 'voms', 'RTPA', '_merge'],\n",
       "      dtype='object')"
      ]
     },
     "execution_count": 50,
     "metadata": {},
     "output_type": "execute_result"
    }
   ],
   "source": [
    "test_df.columns"
   ]
  },
  {
   "cell_type": "code",
   "execution_count": 48,
   "id": "dbc8858a-d2f5-4f76-90de-ef9d9c3ced0e",
   "metadata": {},
   "outputs": [
    {
     "data": {
      "text/plain": [
       "'2023-05'"
      ]
     },
     "metadata": {},
     "output_type": "display_data"
    },
    {
     "data": {
      "text/plain": [
       "'2022-05'"
      ]
     },
     "metadata": {},
     "output_type": "display_data"
    }
   ],
   "source": [
    "year = 2023\n",
    "month = \"05\"\n",
    "\n",
    "current_y_m = f\"{year}-{month}\"\n",
    "prior_y_m = f\"{int(year)-1}-{month}\"\n",
    "\n",
    "display(\n",
    "    current_y_m,\n",
    "    prior_y_m\n",
    ")"
   ]
  },
  {
   "cell_type": "code",
   "execution_count": 53,
   "id": "dc6a8943-98bc-4450-90e9-1069a7682357",
   "metadata": {},
   "outputs": [
    {
     "ename": "ValueError",
     "evalue": "Cannot set a DataFrame with multiple columns to the single column test_col",
     "output_type": "error",
     "traceback": [
      "\u001b[0;31m---------------------------------------------------------------------------\u001b[0m",
      "\u001b[0;31mValueError\u001b[0m                                Traceback (most recent call last)",
      "\u001b[0;32m/tmp/ipykernel_509/2545493594.py\u001b[0m in \u001b[0;36m?\u001b[0;34m()\u001b[0m\n\u001b[0;32m----> 1\u001b[0;31m \u001b[0mtest_df\u001b[0m\u001b[0;34m[\u001b[0m\u001b[0;34m\"test_col\"\u001b[0m\u001b[0;34m]\u001b[0m \u001b[0;34m=\u001b[0m \u001b[0mtest_df\u001b[0m\u001b[0;34m.\u001b[0m\u001b[0mapply\u001b[0m\u001b[0;34m(\u001b[0m\u001b[0;32mlambda\u001b[0m \u001b[0mrow\u001b[0m\u001b[0;34m:\u001b[0m \u001b[0mtest_difference_func\u001b[0m\u001b[0;34m(\u001b[0m\u001b[0mrow\u001b[0m\u001b[0;34m,\u001b[0m \u001b[0mcurrent_y_m\u001b[0m\u001b[0;34m=\u001b[0m\u001b[0;34m\"2023-05\"\u001b[0m\u001b[0;34m,\u001b[0m \u001b[0mprior_y_m\u001b[0m\u001b[0;34m=\u001b[0m\u001b[0;34m\"2022-05\"\u001b[0m\u001b[0;34m)\u001b[0m\u001b[0;34m,\u001b[0m \u001b[0maxis\u001b[0m\u001b[0;34m=\u001b[0m\u001b[0;36m1\u001b[0m\u001b[0;34m)\u001b[0m\u001b[0;34m\u001b[0m\u001b[0;34m\u001b[0m\u001b[0m\n\u001b[0m",
      "\u001b[0;32m/opt/conda/lib/python3.9/site-packages/pandas/core/frame.py\u001b[0m in \u001b[0;36m?\u001b[0;34m(self, key, value)\u001b[0m\n\u001b[1;32m   3966\u001b[0m             \u001b[0mself\u001b[0m\u001b[0;34m.\u001b[0m\u001b[0m_setitem_frame\u001b[0m\u001b[0;34m(\u001b[0m\u001b[0mkey\u001b[0m\u001b[0;34m,\u001b[0m \u001b[0mvalue\u001b[0m\u001b[0;34m)\u001b[0m\u001b[0;34m\u001b[0m\u001b[0;34m\u001b[0m\u001b[0m\n\u001b[1;32m   3967\u001b[0m         \u001b[0;32melif\u001b[0m \u001b[0misinstance\u001b[0m\u001b[0;34m(\u001b[0m\u001b[0mkey\u001b[0m\u001b[0;34m,\u001b[0m \u001b[0;34m(\u001b[0m\u001b[0mSeries\u001b[0m\u001b[0;34m,\u001b[0m \u001b[0mnp\u001b[0m\u001b[0;34m.\u001b[0m\u001b[0mndarray\u001b[0m\u001b[0;34m,\u001b[0m \u001b[0mlist\u001b[0m\u001b[0;34m,\u001b[0m \u001b[0mIndex\u001b[0m\u001b[0;34m)\u001b[0m\u001b[0;34m)\u001b[0m\u001b[0;34m:\u001b[0m\u001b[0;34m\u001b[0m\u001b[0;34m\u001b[0m\u001b[0m\n\u001b[1;32m   3968\u001b[0m             \u001b[0mself\u001b[0m\u001b[0;34m.\u001b[0m\u001b[0m_setitem_array\u001b[0m\u001b[0;34m(\u001b[0m\u001b[0mkey\u001b[0m\u001b[0;34m,\u001b[0m \u001b[0mvalue\u001b[0m\u001b[0;34m)\u001b[0m\u001b[0;34m\u001b[0m\u001b[0;34m\u001b[0m\u001b[0m\n\u001b[1;32m   3969\u001b[0m         \u001b[0;32melif\u001b[0m \u001b[0misinstance\u001b[0m\u001b[0;34m(\u001b[0m\u001b[0mvalue\u001b[0m\u001b[0;34m,\u001b[0m \u001b[0mDataFrame\u001b[0m\u001b[0;34m)\u001b[0m\u001b[0;34m:\u001b[0m\u001b[0;34m\u001b[0m\u001b[0;34m\u001b[0m\u001b[0m\n\u001b[0;32m-> 3970\u001b[0;31m             \u001b[0mself\u001b[0m\u001b[0;34m.\u001b[0m\u001b[0m_set_item_frame_value\u001b[0m\u001b[0;34m(\u001b[0m\u001b[0mkey\u001b[0m\u001b[0;34m,\u001b[0m \u001b[0mvalue\u001b[0m\u001b[0;34m)\u001b[0m\u001b[0;34m\u001b[0m\u001b[0;34m\u001b[0m\u001b[0m\n\u001b[0m\u001b[1;32m   3971\u001b[0m         elif (\n\u001b[1;32m   3972\u001b[0m             \u001b[0mis_list_like\u001b[0m\u001b[0;34m(\u001b[0m\u001b[0mvalue\u001b[0m\u001b[0;34m)\u001b[0m\u001b[0;34m\u001b[0m\u001b[0;34m\u001b[0m\u001b[0m\n\u001b[1;32m   3973\u001b[0m             \u001b[0;32mand\u001b[0m \u001b[0;32mnot\u001b[0m \u001b[0mself\u001b[0m\u001b[0;34m.\u001b[0m\u001b[0mcolumns\u001b[0m\u001b[0;34m.\u001b[0m\u001b[0mis_unique\u001b[0m\u001b[0;34m\u001b[0m\u001b[0;34m\u001b[0m\u001b[0m\n",
      "\u001b[0;32m/opt/conda/lib/python3.9/site-packages/pandas/core/frame.py\u001b[0m in \u001b[0;36m?\u001b[0;34m(self, key, value)\u001b[0m\n\u001b[1;32m   4121\u001b[0m             \u001b[0mself\u001b[0m\u001b[0;34m.\u001b[0m\u001b[0m_set_item_mgr\u001b[0m\u001b[0;34m(\u001b[0m\u001b[0mkey\u001b[0m\u001b[0;34m,\u001b[0m \u001b[0marraylike\u001b[0m\u001b[0;34m)\u001b[0m\u001b[0;34m\u001b[0m\u001b[0;34m\u001b[0m\u001b[0m\n\u001b[1;32m   4122\u001b[0m             \u001b[0;32mreturn\u001b[0m\u001b[0;34m\u001b[0m\u001b[0;34m\u001b[0m\u001b[0m\n\u001b[1;32m   4123\u001b[0m \u001b[0;34m\u001b[0m\u001b[0m\n\u001b[1;32m   4124\u001b[0m         \u001b[0;32mif\u001b[0m \u001b[0mlen\u001b[0m\u001b[0;34m(\u001b[0m\u001b[0mvalue\u001b[0m\u001b[0;34m.\u001b[0m\u001b[0mcolumns\u001b[0m\u001b[0;34m)\u001b[0m \u001b[0;34m!=\u001b[0m \u001b[0;36m1\u001b[0m\u001b[0;34m:\u001b[0m\u001b[0;34m\u001b[0m\u001b[0;34m\u001b[0m\u001b[0m\n\u001b[0;32m-> 4125\u001b[0;31m             raise ValueError(\n\u001b[0m\u001b[1;32m   4126\u001b[0m                 \u001b[0;34m\"Cannot set a DataFrame with multiple columns to the single \"\u001b[0m\u001b[0;34m\u001b[0m\u001b[0;34m\u001b[0m\u001b[0m\n\u001b[1;32m   4127\u001b[0m                 \u001b[0;34mf\"column {key}\"\u001b[0m\u001b[0;34m\u001b[0m\u001b[0;34m\u001b[0m\u001b[0m\n\u001b[1;32m   4128\u001b[0m             )\n",
      "\u001b[0;31mValueError\u001b[0m: Cannot set a DataFrame with multiple columns to the single column test_col"
     ]
    }
   ],
   "source": [
    "test_df[\"test_col\"] = test_df.apply(lambda row: test_difference_func(row, current_y_m=\"2023-05\", prior_y_m=\"2022-05\"), axis=1)"
   ]
  },
  {
   "cell_type": "markdown",
   "id": "83efcd8a-73fe-48c9-a88f-28315b49950b",
   "metadata": {},
   "source": [
    "So im having trouble with coming up with a `change 1yr` column, now that the dataset is long (instead of the previous wide)\n",
    "\n",
    "what i was going for was something like:\n",
    "- adding a new column to the dataset called `change 1yr`, that takes the `UPT` value of the `ntd_id, mod, tos` for current `period_year_month` (ex. 2024-05) row, and subtracts the `UPT` value from the previous year's `period_year_month` (ex. 2024-05) row of the same `ntd_id, mod, tos`.\n",
    "\n",
    "- i thought i had something with a .apply(lambda x:) method, but wasnt etting anywhere.\n",
    "\n",
    "any suggestions on how i should approach this?\n"
   ]
  },
  {
   "cell_type": "markdown",
   "id": "4570a463-918a-4369-9722-cd54e7f35bf7",
   "metadata": {},
   "source": [
    "---"
   ]
  },
  {
   "cell_type": "code",
   "execution_count": 73,
   "id": "bf6b1d92-be22-41c7-a2f9-6f4956373886",
   "metadata": {},
   "outputs": [
    {
     "data": {
      "text/plain": [
       "(343, 22)"
      ]
     },
     "metadata": {},
     "output_type": "display_data"
    },
    {
     "data": {
      "text/plain": [
       "(0, 22)"
      ]
     },
     "metadata": {},
     "output_type": "display_data"
    }
   ],
   "source": [
    "# what is the most recent period_year_month? as of 7/2/2024\\\n",
    "# should expect to see values up tp May 2024\n",
    "display(\n",
    "    ca[ca[\"period_year_month\"] == \"2024-04\"].shape,\n",
    "    # as of 7/2, zero rows for May 2024. but expect ntd to update that data soon.\n",
    "    # 7/15, still no values for May 2024\n",
    "    ca[ca[\"period_year_month\"] == \"2024-05\"].shape\n",
    ")"
   ]
  },
  {
   "cell_type": "markdown",
   "id": "fc75fab4-0c99-4021-a5ba-0e7ceffc7422",
   "metadata": {},
   "source": []
  }
 ],
 "metadata": {
  "kernelspec": {
   "display_name": "Python 3 (ipykernel)",
   "language": "python",
   "name": "python3"
  },
  "language_info": {
   "codemirror_mode": {
    "name": "ipython",
    "version": 3
   },
   "file_extension": ".py",
   "mimetype": "text/x-python",
   "name": "python",
   "nbconvert_exporter": "python",
   "pygments_lexer": "ipython3",
   "version": "3.9.13"
  }
 },
 "nbformat": 4,
 "nbformat_minor": 5
}
