{
 "cells": [
  {
   "cell_type": "code",
   "execution_count": 17,
   "id": "58c36298-b0f6-42a6-bfd5-efd84f0c7352",
   "metadata": {
    "tags": []
   },
   "outputs": [],
   "source": [
    "import sys\n",
    "\n",
    "sys.path.append(\"../\")  # up one level\n",
    "\n",
    "import os\n",
    "import shutil\n",
    "\n",
    "import gcsfs\n",
    "import geopandas as gpd\n",
    "import pandas as pd\n",
    "from annual_ridership_report import annual_ridership_module\n",
    "from calitp_data_analysis.sql import get_engine, to_snakecase\n",
    "from calitp_data_analysis.tables import tbls\n",
    "from segment_speed_utils.project_vars import PUBLIC_GCS\n",
    "from update_vars import GCS_FILE_PATH, NTD_MODES, NTD_TOS\n",
    "\n",
    "GCS_FILE_PATH = \"gs://calitp-analytics-data/data-analyses/ntd/\"\n",
    "\n",
    "pd.set_option(\"display.max_rows\", None)\n",
    "pd.set_option(\"display.max_columns\", None)\n",
    "pd.set_option(\"display.max_colwidth\", None)"
   ]
  },
  {
   "cell_type": "markdown",
   "id": "54a774cc-17e9-4b30-a620-013de7c03258",
   "metadata": {},
   "source": [
    "# Explore updating RTPA-to-NTD_id crosswalk\n",
    "\n",
    "Current rtpa/ntd_id crosswalk only contains full system reporters. This notebook will explore updating the crosswalk to include all reporter types (full, reduced, and rural system reporters).\n",
    "\n",
    "- Start with getting list of NTD reporters from the warehouse `dim_annual_services_agencies` AND `fct_service_data_and_operating_expenses_time_series_by_mode_upt`\n",
    "- Then get a list of all California cities and all RTPAs, merge to get a list of cities and the RTPA they would be in\n",
    "- then merge the list of NTD reporters to the list of cities/rtpa, using `city` column. result should be a list of NTD reporters with their RTPAs\n",
    "---"
   ]
  },
  {
   "cell_type": "markdown",
   "id": "0433f1a7-3dec-4846-ae7b-6c98ca718c08",
   "metadata": {
    "tags": []
   },
   "source": [
    "## Read in `dim_annual_service_agencies` to get agency info"
   ]
  },
  {
   "cell_type": "code",
   "execution_count": null,
   "id": "8999ad6b-28d8-43f6-91bf-c7da623b9c70",
   "metadata": {
    "tags": []
   },
   "outputs": [],
   "source": [
    "ntd_service = (\n",
    "    get_ntd_service.groupby(\n",
    "        [\"agency\", \"ntd_id\", \"reporter_type\", \"city\", \"primary_uza_name\"]\n",
    "    )\n",
    "    .agg({\"unlinked_passenger_trips_upt\": \"sum\"})\n",
    "    .reset_index()\n",
    ")\n",
    "\n",
    "ntd_service.info()"
   ]
  },
  {
   "cell_type": "code",
   "execution_count": 7,
   "id": "941d1faa-5372-49b5-bf60-749bc5ae6a2a",
   "metadata": {
    "tags": []
   },
   "outputs": [],
   "source": [
    "db_engine = get_engine()"
   ]
  },
  {
   "cell_type": "code",
   "execution_count": null,
   "id": "1c35fdc0-7dc1-420d-a12c-d28e8cd65cbc",
   "metadata": {
    "tags": []
   },
   "outputs": [],
   "source": [
    "with db_engine.connect() as connection:\n",
    "    query = \"\"\"\n",
    "        SELECT\n",
    "            report_year,\n",
    "            ntd_id,\n",
    "            agency,\n",
    "            reporter_type,\n",
    "            organization_type,\n",
    "            city,\n",
    "            state,\n",
    "            primary_uza_name,\n",
    "            actual_vehicles_passenger_car_revenue_hours,\n",
    "            actual_vehicles_passenger_car_revenue_miles,\n",
    "            unlinked_passenger_trips_upt \n",
    "        FROM \n",
    "            cal-itp-data-infra.mart_ntd.dim_annual_service_agencies\n",
    "        WHERE \n",
    "            state = 'CA'\n",
    "            \"\"\"\n",
    "    get_ntd_service_2 = pd.read_sql(query, connection)"
   ]
  },
  {
   "cell_type": "code",
   "execution_count": null,
   "id": "701a8603-9fb4-4015-b54f-4f961e3583ab",
   "metadata": {
    "tags": []
   },
   "outputs": [],
   "source": [
    "get_ntd_service_2.info()"
   ]
  },
  {
   "cell_type": "code",
   "execution_count": null,
   "id": "6a815183-18eb-4672-9c95-0836783b663c",
   "metadata": {
    "tags": []
   },
   "outputs": [],
   "source": [
    "ntd_service_2 = (\n",
    "    get_ntd_service_2.groupby(\n",
    "        [\"agency\", \"ntd_id\", \"reporter_type\", \"city\", \"primary_uza_name\"]\n",
    "    )\n",
    "    .agg({\"unlinked_passenger_trips_upt\": \"sum\"})\n",
    "    .reset_index()\n",
    ")\n",
    "\n",
    "ntd_service_2.info()"
   ]
  },
  {
   "cell_type": "code",
   "execution_count": null,
   "id": "5bcdc96a-df14-4cb3-b31d-85df77ead34b",
   "metadata": {
    "tags": []
   },
   "outputs": [],
   "source": [
    "display(get_ntd_service.equals(get_ntd_service_2), ntd_service.equals(ntd_service_2))"
   ]
  },
  {
   "cell_type": "code",
   "execution_count": null,
   "id": "0ada42af-b41a-4c28-8559-4d2bc9e18003",
   "metadata": {
    "tags": []
   },
   "outputs": [],
   "source": [
    "ntd_service.sort_values(by=\"ntd_id\").head(\n",
    "    10\n",
    ")  # some duplicate rows exist because the agency name differ through the years?!"
   ]
  },
  {
   "cell_type": "markdown",
   "id": "fb801070-5086-4ef9-866a-ac71e40be6f1",
   "metadata": {
    "tags": []
   },
   "source": [
    "## Manual Update to `ntd_service`"
   ]
  },
  {
   "cell_type": "code",
   "execution_count": null,
   "id": "6e51ea7d-ac91-4291-840a-9a6d0aa99d2c",
   "metadata": {
    "tags": []
   },
   "outputs": [],
   "source": [
    "ntd_service[ntd_service[\"ntd_id\"] == \"90227\"]"
   ]
  },
  {
   "cell_type": "code",
   "execution_count": null,
   "id": "8b48c08c-c94e-4856-b4fc-cec5811a1383",
   "metadata": {
    "tags": []
   },
   "outputs": [],
   "source": [
    "update_dict = {\n",
    "    \"90227\": \"Moorpark\",\n",
    "    \"90253\": \"Bell Gardens\",\n",
    "    \"90259\": \"Cerritos\",\n",
    "    \"90286\": \"Monterey Park\",\n",
    "}\n",
    "\n",
    "for i, v in update_dict.items():\n",
    "    ntd_service.loc[ntd_service[\"ntd_id\"] == i, \"city\"] = v"
   ]
  },
  {
   "cell_type": "markdown",
   "id": "f80962b2-91ee-4fd1-9ddd-1f8526508b32",
   "metadata": {
    "tags": []
   },
   "source": [
    "## Read in data from `fct_service_data_and_operating_expenses_time_series_by_mode_upt`"
   ]
  },
  {
   "cell_type": "code",
   "execution_count": 19,
   "id": "2515460a-ad11-4da8-86ae-9acb1aa596c5",
   "metadata": {
    "tags": []
   },
   "outputs": [],
   "source": [
    "with db_engine.connect() as connection:\n",
    "    query = \"\"\"\n",
    "        SELECT \n",
    "            `mart_ntd_funding_and_expenses.fct_service_data_and_operating_expenses_time_series_by_mode_upt_1`.`agency_name`, \n",
    "            `mart_ntd_funding_and_expenses.fct_service_data_and_operating_expenses_time_series_by_mode_upt_1`.`agency_status`, \n",
    "            `mart_ntd_funding_and_expenses.fct_service_data_and_operating_expenses_time_series_by_mode_upt_1`.`city`, \n",
    "            `mart_ntd_funding_and_expenses.fct_service_data_and_operating_expenses_time_series_by_mode_upt_1`.`legacy_ntd_id`, \n",
    "            `mart_ntd_funding_and_expenses.fct_service_data_and_operating_expenses_time_series_by_mode_upt_1`.`mode`, \n",
    "            `mart_ntd_funding_and_expenses.fct_service_data_and_operating_expenses_time_series_by_mode_upt_1`.`ntd_id`, \n",
    "            `mart_ntd_funding_and_expenses.fct_service_data_and_operating_expenses_time_series_by_mode_upt_1`.`reporter_type`, \n",
    "            `mart_ntd_funding_and_expenses.fct_service_data_and_operating_expenses_time_series_by_mode_upt_1`.`reporting_module`, \n",
    "            `mart_ntd_funding_and_expenses.fct_service_data_and_operating_expenses_time_series_by_mode_upt_1`.`service`, \n",
    "            `mart_ntd_funding_and_expenses.fct_service_data_and_operating_expenses_time_series_by_mode_upt_1`.`state`, \n",
    "            `mart_ntd_funding_and_expenses.fct_service_data_and_operating_expenses_time_series_by_mode_upt_1`.`uace_code`, \n",
    "            `mart_ntd_funding_and_expenses.fct_service_data_and_operating_expenses_time_series_by_mode_upt_1`.`primary_uza_name`, \n",
    "            `mart_ntd_funding_and_expenses.fct_service_data_and_operating_expenses_time_series_by_mode_upt_1`.`uza_population`, \n",
    "            `mart_ntd_funding_and_expenses.fct_service_data_and_operating_expenses_time_series_by_mode_upt_1`.`year`, \n",
    "            `mart_ntd_funding_and_expenses.fct_service_data_and_operating_expenses_time_series_by_mode_upt_1`.`upt` \n",
    "        FROM \n",
    "            `mart_ntd_funding_and_expenses.fct_service_data_and_operating_expenses_time_series_by_mode_upt` AS `mart_ntd_funding_and_expenses.fct_service_data_and_operating_expenses_time_series_by_mode_upt_1` \n",
    "        WHERE \n",
    "            (regexp_contains(`mart_ntd_funding_and_expenses.fct_service_data_and_operating_expenses_time_series_by_mode_upt_1`.`state`, 'CA') \n",
    "            OR regexp_contains(`mart_ntd_funding_and_expenses.fct_service_data_and_operating_expenses_time_series_by_mode_upt_1`.`state`, 'NV')) \n",
    "            AND `mart_ntd_funding_and_expenses.fct_service_data_and_operating_expenses_time_series_by_mode_upt_1`.`year` >= 2018 \n",
    "            AND `mart_ntd_funding_and_expenses.fct_service_data_and_operating_expenses_time_series_by_mode_upt_1`.`city` IS NOT NULL \n",
    "            AND (regexp_contains(`mart_ntd_funding_and_expenses.fct_service_data_and_operating_expenses_time_series_by_mode_upt_1`.`primary_uza_name`, ', CA') \n",
    "            OR regexp_contains(`mart_ntd_funding_and_expenses.fct_service_data_and_operating_expenses_time_series_by_mode_upt_1`.`primary_uza_name`, 'CA-NV') \n",
    "            OR regexp_contains(`mart_ntd_funding_and_expenses.fct_service_data_and_operating_expenses_time_series_by_mode_upt_1`.`primary_uza_name`, 'California Non-UZA') \n",
    "            OR regexp_contains(`mart_ntd_funding_and_expenses.fct_service_data_and_operating_expenses_time_series_by_mode_upt_1`.`primary_uza_name`, 'El Paso, TX--NM'))            \n",
    "            \"\"\"\n",
    "    get_ntd_time_series_2 = pd.read_sql(query, connection)"
   ]
  },
  {
   "cell_type": "code",
   "execution_count": 23,
   "id": "fd00ab24-cc23-4117-a1e7-3f30f3358765",
   "metadata": {
    "tags": []
   },
   "outputs": [
    {
     "name": "stdout",
     "output_type": "stream",
     "text": [
      "<class 'pandas.core.frame.DataFrame'>\n",
      "RangeIndex: 1195 entries, 0 to 1194\n",
      "Data columns (total 15 columns):\n",
      " #   Column            Non-Null Count  Dtype  \n",
      "---  ------            --------------  -----  \n",
      " 0   agency_name       1195 non-null   object \n",
      " 1   agency_status     1195 non-null   object \n",
      " 2   city              1195 non-null   object \n",
      " 3   legacy_ntd_id     966 non-null    object \n",
      " 4   mode              1195 non-null   object \n",
      " 5   ntd_id            1195 non-null   object \n",
      " 6   reporter_type     1195 non-null   object \n",
      " 7   reporting_module  1187 non-null   object \n",
      " 8   service           1195 non-null   object \n",
      " 9   state             1195 non-null   object \n",
      " 10  uace_code         1195 non-null   int64  \n",
      " 11  primary_uza_name  1195 non-null   object \n",
      " 12  uza_population    1195 non-null   int64  \n",
      " 13  year              1195 non-null   int64  \n",
      " 14  upt               860 non-null    float64\n",
      "dtypes: float64(1), int64(3), object(11)\n",
      "memory usage: 140.2+ KB\n",
      "<class 'pandas.core.frame.DataFrame'>\n",
      "RangeIndex: 1195 entries, 0 to 1194\n",
      "Data columns (total 15 columns):\n",
      " #   Column            Non-Null Count  Dtype  \n",
      "---  ------            --------------  -----  \n",
      " 0   agency_name       1195 non-null   object \n",
      " 1   agency_status     1195 non-null   object \n",
      " 2   city              1195 non-null   object \n",
      " 3   legacy_ntd_id     966 non-null    object \n",
      " 4   mode              1195 non-null   object \n",
      " 5   ntd_id            1195 non-null   object \n",
      " 6   reporter_type     1195 non-null   object \n",
      " 7   reporting_module  1187 non-null   object \n",
      " 8   service           1195 non-null   object \n",
      " 9   state             1195 non-null   object \n",
      " 10  uace_code         1195 non-null   int64  \n",
      " 11  primary_uza_name  1195 non-null   object \n",
      " 12  uza_population    1195 non-null   int64  \n",
      " 13  year              1195 non-null   int64  \n",
      " 14  upt               860 non-null    float64\n",
      "dtypes: float64(1), int64(3), object(11)\n",
      "memory usage: 140.2+ KB\n"
     ]
    },
    {
     "data": {
      "text/plain": [
       "True"
      ]
     },
     "metadata": {},
     "output_type": "display_data"
    },
    {
     "data": {
      "text/plain": [
       "0"
      ]
     },
     "metadata": {},
     "output_type": "display_data"
    },
    {
     "data": {
      "text/plain": [
       "None"
      ]
     },
     "metadata": {},
     "output_type": "display_data"
    },
    {
     "data": {
      "text/plain": [
       "None"
      ]
     },
     "metadata": {},
     "output_type": "display_data"
    }
   ],
   "source": [
    "display(\n",
    "    get_ntd_time_series.equals(get_ntd_time_series_2),\n",
    "    len(get_ntd_time_series) - len(get_ntd_time_series_2),\n",
    "    get_ntd_time_series.info(),\n",
    "    get_ntd_time_series_2.info(),\n",
    ")"
   ]
  },
  {
   "cell_type": "code",
   "execution_count": null,
   "id": "57049745-7450-4936-a009-f9fd91883f01",
   "metadata": {
    "tags": []
   },
   "outputs": [],
   "source": [
    "# what does group by look like\n",
    "ntd_time_series = (\n",
    "    get_ntd_time_series_2.groupby(\n",
    "        [\n",
    "            \"agency_name\",\n",
    "            \"agency_status\",\n",
    "            \"city\",\n",
    "            \"state\",\n",
    "            \"ntd_id\",\n",
    "            \"primary_uza_name\",\n",
    "            \"reporter_type\",\n",
    "            # \"mode\", # will need this for actual report, but will cause fan out. dont need that to create the crosswalk\n",
    "            # \"service\", # will need this for actual report\n",
    "        ]\n",
    "    )\n",
    "    .agg({\"upt\": \"sum\"})\n",
    "    .sort_values(by=\"ntd_id\")\n",
    "    .reset_index()\n",
    ")\n",
    "\n",
    "display(\n",
    "    get_ntd_time_series_2.info(),\n",
    "    ntd_time_series.info(),\n",
    "    ntd_time_series[\"state\"].value_counts(),\n",
    "    ntd_time_series[\"primary_uza_name\"].value_counts(),\n",
    ")"
   ]
  },
  {
   "cell_type": "code",
   "execution_count": null,
   "id": "db59280c-d6ac-429f-b59e-e71195d03746",
   "metadata": {
    "tags": []
   },
   "outputs": [],
   "source": [
    "# who is in tx?\n",
    "display(\n",
    "    ntd_time_series[\n",
    "        ntd_time_series[\"primary_uza_name\"] == \"El Paso, TX--NM\"\n",
    "    ],  # Paso Robles Transit Services, but in CA?\n",
    "    get_ntd_time_series_2[get_ntd_time_series_2[\"ntd_id\"] == \"90195\"],\n",
    ")"
   ]
  },
  {
   "cell_type": "markdown",
   "id": "8578cdcf-9214-4e56-a31e-7ca3b282fbc3",
   "metadata": {
    "tags": []
   },
   "source": [
    "## Read in GDF of Census Designated Places (aka cities) and RTPA bounaries\n",
    "\n",
    "Census Designated Places (CDPs) 2010 - California map\n",
    "- https://data.sacog.org/datasets/SACOG::census-designated-places-cdps-2010-california/about\n",
    "\n",
    "\n",
    "RTPA map opend data\n",
    "\n",
    "- https://www.lab.data.ca.gov/dataset/regional-transportation-planning-agencies"
   ]
  },
  {
   "cell_type": "code",
   "execution_count": null,
   "id": "2bc5d43e-ec9c-4f6d-90d3-4b9c3514720d",
   "metadata": {
    "tags": []
   },
   "outputs": [],
   "source": [
    "# RTPA map\n",
    "rtpa_url = \"https://cecgis-caenergy.opendata.arcgis.com/api/download/v1/items/3a83743378be4e7f84c8230889c01dea/geojson?layers=0\"\n",
    "rtpa_map = gpd.read_file(rtpa_url)[\n",
    "    [\"RTPA\", \"LABEL_RTPA\", \"geometry\"]\n",
    "]  # .set_crs(\"ESRI:102600\", allow_override=True)\n",
    "rtpa_map = rtpa_map.to_crs(\"ESRI:102600\")  # for sjoin later"
   ]
  },
  {
   "cell_type": "code",
   "execution_count": null,
   "id": "03a61250-1a4b-4605-aed3-485d2e01a024",
   "metadata": {
    "tags": []
   },
   "outputs": [],
   "source": [
    "# California Census Designated Places (2010), includes cities and CDPs\n",
    "cdp_url = \"https://services6.arcgis.com/YBp5dUuxCMd8W1EI/arcgis/rest/services/California_Census_Designated_Places_2010/FeatureServer/0/query?outFields=*&where=1%3D1&f=geojson\"\n",
    "keep_cdp_col = [\"FID\", \"NAME10\", \"NAMELSAD10\", \"geometry\"]\n",
    "cdp_map = gpd.read_file(cdp_url)[keep_cdp_col].rename(\n",
    "    columns={\"NAME10\": \"cdp_name\", \"NAMELSAD10\": \"name_lsad\"}\n",
    ")  # .set_crs(\"ESRI:102600\", allow_override=True)"
   ]
  },
  {
   "cell_type": "markdown",
   "id": "a0e36645-83c1-4a5c-b7e5-8ac2b1e4402b",
   "metadata": {},
   "source": [
    "## get centroid of CDPs to get point geom instead of polygons"
   ]
  },
  {
   "cell_type": "code",
   "execution_count": null,
   "id": "8d5a3d55-aa5a-4579-a381-92c477363147",
   "metadata": {
    "tags": []
   },
   "outputs": [],
   "source": [
    "cdp_map[\"centroid\"] = (\n",
    "    cdp_map[\"geometry\"].to_crs(\"ESRI:102600\").centroid\n",
    ")  # CRS used to create centoid. is not presistent\n",
    "cdp_points = cdp_map.set_geometry(\"centroid\", drop=True)"
   ]
  },
  {
   "cell_type": "markdown",
   "id": "bb49a9de-9cd9-4ddf-b397-d272964a192a",
   "metadata": {},
   "source": [
    "## sjoin `cdp_map` to `rtpa_map` get get cites-to-rtpa crosswalk"
   ]
  },
  {
   "cell_type": "code",
   "execution_count": null,
   "id": "17b0a639-9332-4c72-8d3e-dab5a7e33bd5",
   "metadata": {
    "tags": []
   },
   "outputs": [],
   "source": [
    "cdp_points.crs == rtpa_map.crs\n",
    "# both are ESRI:102600"
   ]
  },
  {
   "cell_type": "code",
   "execution_count": null,
   "id": "7521174a-9e01-4149-a51b-efe5458100b8",
   "metadata": {
    "tags": []
   },
   "outputs": [],
   "source": [
    "city_to_rtpa = gpd.sjoin(\n",
    "    cdp_points,  # includes cities and CDPs.\n",
    "    rtpa_map,\n",
    "    how=\"left\",\n",
    "    # how=\"inner\",\n",
    "    predicate=\"intersects\",\n",
    "    # predicate=\"within\",\n",
    ")\n",
    "# left, intersects = 1523 rows, 1521 CDPs matched,2 CDPs did not match to an RTPA (Avalon and City of San Francisco)\n",
    "# inner, intersects = 1521 rows,1521 CDPs matched\n",
    "# left, within = 1523 rows, 1521 CDPs matched,2 CDPs did not match to an RTPA\n",
    "# inner, within = 1521 rows,1521 CDPs matched"
   ]
  },
  {
   "cell_type": "markdown",
   "id": "4c96223c-5657-419b-bca5-294b0f6d90ba",
   "metadata": {},
   "source": [
    "### fix unmerged CDP rtpa rows"
   ]
  },
  {
   "cell_type": "code",
   "execution_count": null,
   "id": "325214ee-ef82-4f38-9b18-b8fd669d57d5",
   "metadata": {
    "tags": []
   },
   "outputs": [],
   "source": [
    "# Avalon fix\n",
    "city_to_rtpa.loc[city_to_rtpa[\"cdp_name\"] == \"Avalon\", (\"RTPA\", \"LABEL_RTPA\")] = (\n",
    "    \"Southern California Association of Governments\",\n",
    "    \"SCAG\",\n",
    ")\n",
    "\n",
    "# San Francisco Fix\n",
    "city_to_rtpa.loc[\n",
    "    city_to_rtpa[\"cdp_name\"] == \"San Francisco\", (\"RTPA\", \"LABEL_RTPA\")\n",
    "] = (\"Metropolitan Transportation Commission\", \"MTC\")\n",
    "\n",
    "# check fix\n",
    "city_to_rtpa[city_to_rtpa[\"cdp_name\"].isin([\"Avalon\", \"San Francisco\"])]"
   ]
  },
  {
   "cell_type": "markdown",
   "id": "fc1c42b7-1e40-4a69-861c-6d1cdb775d1f",
   "metadata": {},
   "source": [
    "## merge `ntd_service` to `city_to_rtpa`"
   ]
  },
  {
   "cell_type": "code",
   "execution_count": null,
   "id": "f11f9f7d-470f-421c-ae53-b3950ad8b80b",
   "metadata": {
    "tags": []
   },
   "outputs": [],
   "source": [
    "ntd_data_to_rtpa = ntd_service.merge(\n",
    "    city_to_rtpa[[\"cdp_name\", \"RTPA\"]],\n",
    "    left_on=(\"city\"),\n",
    "    right_on=(\"cdp_name\"),\n",
    "    how=\"left\",  # with left join, got some unmerged rows. aka reporters that dont appear in the city_to_rtpa list (CDP?). and fan out 1:m rows due to some dupe cdp names\n",
    "    indicator=True,\n",
    ")\n",
    "ntd_data_to_rtpa.info()"
   ]
  },
  {
   "cell_type": "code",
   "execution_count": null,
   "id": "8a50b5fd-cad3-4c99-9f6e-bcd10c8568d9",
   "metadata": {
    "tags": []
   },
   "outputs": [],
   "source": [
    "ntd_data_to_rtpa.head()"
   ]
  },
  {
   "cell_type": "markdown",
   "id": "8b202596-5913-4d88-8048-9a94c7ea01f0",
   "metadata": {},
   "source": [
    "## merge `ntd_time_series` to `city_to_rtpa`"
   ]
  },
  {
   "cell_type": "code",
   "execution_count": null,
   "id": "70be1f64-eb58-4e86-9dbb-208adf1ebb88",
   "metadata": {
    "tags": []
   },
   "outputs": [],
   "source": [
    "alt_ntd_to_rtpa = ntd_time_series.merge(\n",
    "    city_to_rtpa[[\"cdp_name\", \"RTPA\"]],\n",
    "    left_on=(\"city\"),\n",
    "    right_on=(\"cdp_name\"),\n",
    "    how=\"left\",  # with left join, got some unmerged rows. aka reporters that dont appear in the city_to_rtpa list (CDP?). and fan out 1:m rows due to some dupe cdp names\n",
    "    indicator=True,\n",
    ")\n",
    "alt_ntd_to_rtpa.info()"
   ]
  },
  {
   "cell_type": "markdown",
   "id": "79864737-b958-480e-9253-753c40a4bcbc",
   "metadata": {},
   "source": [
    "## check for unmerged values "
   ]
  },
  {
   "cell_type": "code",
   "execution_count": null,
   "id": "6f09a068-8001-4b13-ade9-39b7f0c731e2",
   "metadata": {
    "tags": []
   },
   "outputs": [],
   "source": [
    "display(\n",
    "    ntd_data_to_rtpa[\"_merge\"].value_counts(), alt_ntd_to_rtpa[\"_merge\"].value_counts()\n",
    ")"
   ]
  },
  {
   "cell_type": "markdown",
   "id": "ee4f78f9-31c2-418d-bbac-24c2685906a3",
   "metadata": {},
   "source": [
    "### manual updates to `ntd_data_to_rtpa` & `alt_ntd_to_rtpa`"
   ]
  },
  {
   "cell_type": "code",
   "execution_count": null,
   "id": "c6ecb2e7-4033-4d1e-896b-5f96529f152c",
   "metadata": {
    "tags": []
   },
   "outputs": [],
   "source": [
    "# rows with NaN RTPAs\n",
    "ntd_data_to_rtpa[ntd_data_to_rtpa[\"RTPA\"].isna()][\n",
    "    [\"agency\", \"city\", \"cdp_name\", \"RTPA\"]\n",
    "]  # 9 rows didnt get an RTPA"
   ]
  },
  {
   "cell_type": "code",
   "execution_count": null,
   "id": "0c6aed18-f7e9-4a8b-8eea-11fcd936be35",
   "metadata": {
    "tags": []
   },
   "outputs": [],
   "source": [
    "# rows with NaN RTPAs\n",
    "alt_ntd_to_rtpa[alt_ntd_to_rtpa[\"RTPA\"].isna()][\n",
    "    [\"agency_name\", \"city\", \"cdp_name\", \"RTPA\"]\n",
    "].drop_duplicates().sort_values(\n",
    "    by=\"city\"\n",
    ")  # 7 rows with empty RTPAs"
   ]
  },
  {
   "cell_type": "code",
   "execution_count": null,
   "id": "77357539-489c-47b5-bc6e-1f97bf14cb4c",
   "metadata": {
    "tags": []
   },
   "outputs": [],
   "source": [
    "alt_ntd_to_rtpa[alt_ntd_to_rtpa[\"RTPA\"].isna()][\"city\"].unique()"
   ]
  },
  {
   "cell_type": "code",
   "execution_count": null,
   "id": "80d67f08-48c8-413c-bda4-7b74b0f5abb8",
   "metadata": {
    "tags": []
   },
   "outputs": [],
   "source": [
    "city_to_rtpa[city_to_rtpa[\"cdp_name\"].str.contains(\"Sherman\")]\n",
    "\n",
    "# Sherman Oaks doesnt even exist as a city  in the city-to-rtpa list"
   ]
  },
  {
   "cell_type": "code",
   "execution_count": null,
   "id": "a1b69317-ec59-44bc-b88c-37295dd3088f",
   "metadata": {
    "tags": []
   },
   "outputs": [],
   "source": [
    "# dictionary to update missing cdp and RTPA values from Cities\n",
    "\n",
    "update_dict = {\n",
    "    \"Mcfarland\": (\"Mcfarland\", \"Kern Council of Governments\"),\n",
    "    \"Ventura\": (\"Ventura\", \"Southern California Association of Governments\"),\n",
    "    \"Palos Verdes Peninsula\": (\n",
    "        \"Rolling Hills\",\n",
    "        \"Southern California Association of Governments\",\n",
    "    ),  # to match other entries for this agency\n",
    "    \"Havasu Lake\": (\n",
    "        \"Havasu Lake\",\n",
    "        \"Southern California Association of Governments\",\n",
    "    ),  # aka Lake Havasu. shares zip code with Needles. so update to SCAG\n",
    "    \"North Fork\": (\n",
    "        \"North Fork\",\n",
    "        \"Madera County Transportation Commission\",\n",
    "    ),  # in Madera County, update to\n",
    "    \"Montery Park\": (\"Monterey Park\", \"Southern California Association of Governments\"),\n",
    "    \"Paso Robles\": (\"Paso Robles\", \"San Luis Obispo Council of Governments\"),\n",
    "    \"Sherman Oaks\": (\"Sherman Oaks\", \"Southern California Association of Governments\"),\n",
    "    \"Stateline\": (\"Stateline\", \"Tahoe Regional Planning Agency\"),\n",
    "}\n",
    "\n",
    "# make loop using update_dict:\n",
    "for k, v in update_dict.items():\n",
    "    ntd_data_to_rtpa.loc[ntd_data_to_rtpa[\"city\"] == k, (\"cdp_name\", \"RTPA\")] = v\n",
    "    alt_ntd_to_rtpa.loc[alt_ntd_to_rtpa[\"city\"] == k, (\"cdp_name\", \"RTPA\")] = v"
   ]
  },
  {
   "cell_type": "code",
   "execution_count": null,
   "id": "7a771992-1f5a-4922-ba1a-a1140d46ea8d",
   "metadata": {
    "tags": []
   },
   "outputs": [],
   "source": [
    "# check for NaN RTPAs again\n",
    "display(\n",
    "    ntd_data_to_rtpa[ntd_data_to_rtpa[\"RTPA\"].isna()][\n",
    "        [\"agency\", \"city\", \"cdp_name\", \"RTPA\"]\n",
    "    ],  # all fixed!!\n",
    "    alt_ntd_to_rtpa[alt_ntd_to_rtpa[\"RTPA\"].isna()][\n",
    "        [\"agency_name\", \"city\", \"cdp_name\", \"RTPA\"]\n",
    "    ],\n",
    ")"
   ]
  },
  {
   "cell_type": "markdown",
   "id": "4f7ecd25-5991-45a7-9692-0b142f564bc7",
   "metadata": {},
   "source": [
    "### Duplicate NTD ID fixes\n",
    "- review ntd_id's with more than 2 rows. there are some CDPs with duplicate names.\n",
    "- remove the rows with non-matching UZA to RTPA names"
   ]
  },
  {
   "cell_type": "code",
   "execution_count": null,
   "id": "a1a3d8ae-4f04-4e2a-969f-b31dfdb8c98c",
   "metadata": {
    "tags": []
   },
   "outputs": [],
   "source": [
    "alt_ntd_to_rtpa[\n",
    "    \"ntd_id\"\n",
    "].value_counts().head()  # looking for rows with more than 2 rows"
   ]
  },
  {
   "cell_type": "code",
   "execution_count": null,
   "id": "5e95dc82-9a1f-4fdb-ad27-4b7772951d71",
   "metadata": {
    "tags": []
   },
   "outputs": [],
   "source": [
    "check_ntd_id = [\n",
    "    \"90256\",  # City of Burbank, matched to MTC and SCAG. There is a \"Burbank\" in both areas\n",
    "    \"90287\",  # Palos Verdes Peninsula Transit Authority. similary, shows in 2 RTPAs.\n",
    "]\n",
    "\n",
    "display(\n",
    "    ntd_data_to_rtpa[ntd_data_to_rtpa[\"ntd_id\"].isin(check_ntd_id)],\n",
    "    alt_ntd_to_rtpa[alt_ntd_to_rtpa[\"ntd_id\"].isin(check_ntd_id)],\n",
    ")"
   ]
  },
  {
   "cell_type": "code",
   "execution_count": null,
   "id": "cb1059a3-4230-4b34-836b-51ce5586cc85",
   "metadata": {
    "tags": []
   },
   "outputs": [],
   "source": [
    "# identify conditions to drop rows by\n",
    "remove_1 = (ntd_data_to_rtpa[\"ntd_id\"] == \"90256\") & (\n",
    "    ntd_data_to_rtpa[\"RTPA\"] == \"Metropolitan Transportation Commission\"\n",
    ")\n",
    "remove_2 = (ntd_data_to_rtpa[\"ntd_id\"] == \"90287\") & (\n",
    "    ntd_data_to_rtpa[\"RTPA\"] == \"Madera County Transportation Commission\"\n",
    ")\n",
    "\n",
    "ntd_data_to_rtpa = ntd_data_to_rtpa[~(remove_1 | remove_2)]"
   ]
  },
  {
   "cell_type": "code",
   "execution_count": null,
   "id": "ea5d19c6-b3ba-4dac-86e0-a06b635fc9ba",
   "metadata": {
    "tags": []
   },
   "outputs": [],
   "source": [
    "remove_3 = (alt_ntd_to_rtpa[\"ntd_id\"] == \"90256\") & (\n",
    "    alt_ntd_to_rtpa[\"RTPA\"] == \"Metropolitan Transportation Commission\"\n",
    ")\n",
    "remove_4 = (alt_ntd_to_rtpa[\"ntd_id\"] == \"90287\") & (\n",
    "    alt_ntd_to_rtpa[\"RTPA\"] == \"Madera County Transportation Commission\"\n",
    ")\n",
    "\n",
    "alt_ntd_to_rtpa = alt_ntd_to_rtpa[~(remove_3 | remove_4)]"
   ]
  },
  {
   "cell_type": "code",
   "execution_count": null,
   "id": "48ecf002-114c-4ba2-b859-67b84cd758cb",
   "metadata": {
    "tags": []
   },
   "outputs": [],
   "source": [
    "display(\n",
    "    ntd_data_to_rtpa[ntd_data_to_rtpa[\"ntd_id\"].isin(check_ntd_id)],\n",
    "    alt_ntd_to_rtpa[alt_ntd_to_rtpa[\"ntd_id\"].isin(check_ntd_id)],\n",
    ")"
   ]
  },
  {
   "cell_type": "markdown",
   "id": "aa88bfc4-591a-4b89-b81c-a5c70e349457",
   "metadata": {},
   "source": [
    "## final checks"
   ]
  },
  {
   "cell_type": "code",
   "execution_count": null,
   "id": "b5bb2378-eae2-48d9-abbb-577242201c8d",
   "metadata": {},
   "outputs": [],
   "source": [
    "display(\n",
    "    len(ntd_service)\n",
    "    == len(\n",
    "        ntd_data_to_rtpa\n",
    "    ),  # with left join, length should be the same since we removed duplicated rows\n",
    "    # ntd_data_to_rtpa.info() #confirms that every column has data. except for primary uza, because the rural reporters dont get a uza name\n",
    "    len(ntd_time_series) == len(alt_ntd_to_rtpa),\n",
    ")"
   ]
  },
  {
   "cell_type": "code",
   "execution_count": null,
   "id": "2f8926bb-0414-4811-b198-1bfb90a73fdc",
   "metadata": {
    "tags": []
   },
   "outputs": [],
   "source": [
    "ntd_data_to_rtpa.head()"
   ]
  },
  {
   "cell_type": "code",
   "execution_count": null,
   "id": "540f02c4-e4b8-4ab2-b7cb-854060ac13f2",
   "metadata": {},
   "outputs": [],
   "source": [
    "if ntd_data_to_rtpa[\"ntd_id\"].nunique() == alt_ntd_to_rtpa[\"ntd_id\"].nunique():\n",
    "    print(\"same amount of NTD_ID, use either list\")\n",
    "else:\n",
    "    print(\n",
    "        f\"\"\" \n",
    "    # of unique NTD ID in `ntd_data_to_rtpa` (dim_annual_service_agencies): {ntd_data_to_rtpa[\"ntd_id\"].nunique()}\n",
    "    # of NTD ID in `alt_ntd_to_rtpa` (fct_service_data_and_operating_expenses_time_series_by_mode_upt): {alt_ntd_to_rtpa[\"ntd_id\"].nunique()}\n",
    "    \"\"\"\n",
    "    )"
   ]
  },
  {
   "cell_type": "markdown",
   "id": "10b7bd0f-777b-4360-87f8-b454a0ac48b5",
   "metadata": {},
   "source": [
    "## Create new `ntd_id_to_rtpa_crosswalk` file!"
   ]
  },
  {
   "cell_type": "code",
   "execution_count": null,
   "id": "b9486134-5af0-4aa5-9edc-37c2e963a442",
   "metadata": {
    "tags": []
   },
   "outputs": [],
   "source": [
    "ntd_data_to_rtpa_cleaned = (\n",
    "    alt_ntd_to_rtpa[\n",
    "        [\n",
    "            \"ntd_id\",\n",
    "            \"agency_name\",\n",
    "            \"reporter_type\",\n",
    "            \"agency_status\",\n",
    "            \"city\",\n",
    "            \"state\",\n",
    "            \"RTPA\",\n",
    "        ]\n",
    "    ]\n",
    "    .drop_duplicates(subset=[\"ntd_id\"])\n",
    "    .reset_index(drop=True)\n",
    ")\n",
    "\n",
    "display(\n",
    "    ntd_data_to_rtpa_cleaned.info(),\n",
    "    ntd_data_to_rtpa_cleaned[\"ntd_id\"].value_counts().head(),\n",
    "    ntd_data_to_rtpa_cleaned[\"reporter_type\"].value_counts(),\n",
    "    ntd_data_to_rtpa_cleaned[\"agency_name\"].value_counts().head(),\n",
    ")"
   ]
  },
  {
   "cell_type": "code",
   "execution_count": null,
   "id": "28a52ef0-37e8-40a0-9cd5-d6660eb25134",
   "metadata": {
    "tags": []
   },
   "outputs": [],
   "source": [
    "ntd_data_to_rtpa_cleaned"
   ]
  },
  {
   "cell_type": "markdown",
   "id": "70be7d72-d172-4afc-90ca-3880a7e9dbba",
   "metadata": {},
   "source": [
    "# Save crosswalk to GCS\n",
    "- as `.parquet` and `.csv`"
   ]
  },
  {
   "cell_type": "code",
   "execution_count": null,
   "id": "a8b06d12-d67d-4c03-a3cd-9da8fdc335d5",
   "metadata": {
    "tags": []
   },
   "outputs": [],
   "source": [
    "# ntd_data_to_rtpa_cleaned.to_parquet(f\"{GCS_FILE_PATH}ntd_id_rtpa_crosswalk_all_reporter_types.parquet\")\n",
    "# ntd_data_to_rtpa_cleaned.to_csv(f\"{GCS_FILE_PATH}ntd_id_rtpa_crosswalk_all_reporter_types.csv\")"
   ]
  },
  {
   "cell_type": "markdown",
   "id": "0117d77b-0c40-4b98-91d1-9b72bfeed77a",
   "metadata": {},
   "source": [
    "## Test reading in data from gcs"
   ]
  },
  {
   "cell_type": "code",
   "execution_count": null,
   "id": "aae7d896-1b12-40f7-9388-cc94a279e8cc",
   "metadata": {
    "tags": []
   },
   "outputs": [],
   "source": [
    "xwalk_parquet = pd.read_parquet(\n",
    "    f\"{GCS_FILE_PATH}ntd_id_rtpa_crosswalk_all_reporter_types.parquet\"\n",
    ")\n",
    "xwalk_csv = pd.read_csv(f\"{GCS_FILE_PATH}ntd_id_rtpa_crosswalk_all_reporter_types.csv\")\n",
    "\n",
    "\n",
    "display(len(xwalk_parquet) == len(xwalk_csv))"
   ]
  },
  {
   "cell_type": "code",
   "execution_count": null,
   "id": "10bf938a-2406-4e35-a7b3-15dd52d91033",
   "metadata": {
    "tags": []
   },
   "outputs": [],
   "source": [
    "display(\n",
    "    xwalk_parquet.info(),\n",
    "    xwalk_parquet[\"ntd_id\"].value_counts().head(),\n",
    "    xwalk_parquet[\"reporter_type\"].value_counts(),\n",
    "    xwalk_parquet[\"agency_name\"].value_counts().head(),\n",
    ")"
   ]
  },
  {
   "cell_type": "markdown",
   "id": "c75f84f1-679f-421c-b4e6-03f5c7e83b7c",
   "metadata": {},
   "source": [
    "## Double check these agencies. \n",
    "They appeared in other RPTAs previously.\n",
    "- Roseville\n",
    "- Placer\n",
    "- Tahoe\n",
    "- El Dorado"
   ]
  },
  {
   "cell_type": "code",
   "execution_count": null,
   "id": "eda04349-75f9-4edf-8437-0b39800562c2",
   "metadata": {
    "tags": []
   },
   "outputs": [],
   "source": [
    "name_check = [\"Roseville\", \"Placer\", \"Tahoe\", \"El Dorado\"]\n",
    "\n",
    "xwalk_parquet[\n",
    "    xwalk_parquet[\"agency_name\"].str.contains(\"|\".join(name_check))\n",
    "]  # these align correctly."
   ]
  },
  {
   "cell_type": "code",
   "execution_count": null,
   "id": "f1f90381-ce3c-4b1a-9ab9-06cd919cc9a7",
   "metadata": {
    "tags": []
   },
   "outputs": [],
   "source": [
    "# Where is Tahoe?????\n",
    "city = \"Tahoe\"\n",
    "\n",
    "display(\n",
    "    ntd_service[ntd_service[\"agency\"].str.contains(city)],  # initial warehouse table\n",
    "    ntd_time_series[\n",
    "        ntd_time_series[\"agency_name\"].str.contains(city)\n",
    "    ],  # updated warehouse table\n",
    "    city_to_rtpa[\n",
    "        city_to_rtpa[\"cdp_name\"].str.contains(city)\n",
    "    ],  # initial city to rtpa list\n",
    "    xwalk_parquet[xwalk_parquet[\"RTPA\"].str.contains(city)],  # final list\n",
    ")\n",
    "\n",
    "# investigated in BG, Tahoe Transportation District is HQ in Stateline, NV. with UZA = \"Lake Tahoe, CA-NV\"\n",
    "# warehouse tables were filtered for state = CA, so we are losing it\n",
    "# adjusted the code to allow Stateline NV to be part of the list. GTG"
   ]
  },
  {
   "cell_type": "code",
   "execution_count": null,
   "id": "e783922a-e1bd-4e51-9ba0-b09a7cd4a4d5",
   "metadata": {},
   "outputs": [],
   "source": []
  }
 ],
 "metadata": {
  "kernelspec": {
   "display_name": "Python 3 (ipykernel)",
   "language": "python",
   "name": "python3"
  },
  "language_info": {
   "codemirror_mode": {
    "name": "ipython",
    "version": 3
   },
   "file_extension": ".py",
   "mimetype": "text/x-python",
   "name": "python",
   "nbconvert_exporter": "python",
   "pygments_lexer": "ipython3",
   "version": "3.11.10"
  }
 },
 "nbformat": 4,
 "nbformat_minor": 5
}
