{
 "cells": [
  {
   "cell_type": "markdown",
   "id": "661ec4ed-a836-433f-a0f0-7b4843b884fb",
   "metadata": {},
   "source": [
    "# Confirming the operators under `El Dorado County Transportation Commission` and `Placer County Transportation Planning Agency`"
   ]
  },
  {
   "cell_type": "markdown",
   "id": "aad24476-0abd-417b-8c68-122a430e1eba",
   "metadata": {},
   "source": [
    "El Dorado and Placer County inquired us asking where is the \"published data\" Caltrans is promised to deliver to RTPAs, via sb125. as of 10/17, the monthly ridership site did not have a separate tab for these RTPAs. Further investigation shows that though these RTPAs did not have separate tabs, some (if not all) the associated transit operators were showing under the SACOG tab. (City of Placer, El Dorado County Transit Authority)\n",
    "\n",
    "Before splitting out the these operatos and RTPAs into separate tabs, need to confirm if any other transit operators are under these RTPAs, then update the rtpa ntd id crosswalk file.  "
   ]
  },
  {
   "cell_type": "markdown",
   "id": "699e1d0f-fa34-4c50-9e9f-545e529f4207",
   "metadata": {},
   "source": [
    "Per Tiffany\n",
    ">This crosswalk you use is `ntd_id to RTPA`. You can combine that with several warehouse tables:\n",
    ">\n",
    ">- `dim_organizations` and `dim_gtfs_datasets` and `dim_provider_gtfs_data`\n",
    ">\n",
    ">- since the above is a fairly complicated traversal, in `shared_utils`, there's a function that wraps this and gets you from a starting poitn of  a `schedule_gtfs_dataset_key` (operator) to `ntd_id`. It is used and created here.\n",
    ">\n",
    ">- Operators (based on GTFS schedule) are subject to a date. If you know which date you want, you can use the crosswalk created and saved >out here in `gtfs_analytics_data.yml` find the GCS path. This will get you the operator's `schedule_gtfs_dataset_key` + `ntd_id` + other ntd columns and you can connect that to your `ntd_id - RTPA` crosswalk.\""
   ]
  },
  {
   "cell_type": "code",
   "execution_count": 1,
   "id": "576cd882-16ce-43df-8b79-0e2fb0b1bb6e",
   "metadata": {},
   "outputs": [],
   "source": [
    "import pandas as pd\n",
    "import shutil\n",
    "import sys\n",
    "import os\n",
    "import gcsfs\n",
    "from calitp_data_analysis.tables import tbls\n",
    "from calitp_data_analysis.sql import get_engine\n",
    "from shared_utils.rt_dates import MONTH_DICT\n",
    "from segment_speed_utils import helpers\n",
    "import sys\n",
    "\n",
    "sys.path.append(\"../monthly_ridership_report\")  # up one level\n",
    "from update_vars import NTD_MODES, NTD_TOS, YEAR, MONTH"
   ]
  },
  {
   "cell_type": "code",
   "execution_count": 2,
   "id": "8fe1e2e4-0f5a-4ea6-adc0-e7e827f34baf",
   "metadata": {},
   "outputs": [],
   "source": [
    "pd.set_option(\"display.max_columns\", None)\n",
    "pd.set_option(\"display.max_rows\", None)"
   ]
  },
  {
   "cell_type": "code",
   "execution_count": null,
   "id": "59cf20bd-d92a-4cad-9996-c9da861b85a2",
   "metadata": {},
   "outputs": [],
   "source": [
    "from shared_utils.schedule_rt_utils import sample_gtfs_dataset_key_to_organization_crosswalk"
   ]
  },
  {
   "cell_type": "markdown",
   "id": "893498f8-d335-47a7-93cd-72d4112de0eb",
   "metadata": {},
   "source": [
    "---"
   ]
  },
  {
   "cell_type": "markdown",
   "id": "3b9eb339-1b3d-4625-8a78-dcac3bf1fcfd",
   "metadata": {},
   "source": [
    "## testing the `create_gtfs_dataset_key_to_organization_crosswalk` function\n",
    "uses the `sample_schedule_feed_key_to_organization_crosswalk` function. this should give us gtfs `schedule feed`, `org name` and `ntd ID`\n",
    "\n"
   ]
  },
  {
   "cell_type": "code",
   "execution_count": null,
   "id": "1dedbdb4-e496-4d1f-b118-c46555005269",
   "metadata": {},
   "outputs": [],
   "source": [
    "def create_gtfs_dataset_key_to_organization_crosswalk(\n",
    "    analysis_date: str\n",
    ") -> pd.DataFrame:\n",
    "    \"\"\"\n",
    "    For every operator that appears in schedule data, \n",
    "    create a crosswalk that links to organization_source_record_id.\n",
    "    For all our downstream outputs, at various aggregations,\n",
    "    we need to attach these over and over again.\n",
    "    \"\"\"\n",
    "    df = helpers.import_scheduled_trips(\n",
    "        analysis_date,\n",
    "        columns = [\"gtfs_dataset_key\", \"name\"],\n",
    "        get_pandas = True\n",
    "    ).rename(columns = {\"schedule_gtfs_dataset_key\": \"gtfs_dataset_key\"})\n",
    "    # rename columns because we must use simply gtfs_dataset_key in schedule_rt_utils function\n",
    "    \n",
    "    # Get base64_url, organization_source_record_id and organization_name\n",
    "    crosswalk = sample_gtfs_dataset_key_to_organization_crosswalk(\n",
    "        df,\n",
    "        analysis_date,\n",
    "        quartet_data = \"schedule\",\n",
    "        dim_gtfs_dataset_cols = [\"key\", \"source_record_id\", \"base64_url\"],\n",
    "        dim_organization_cols = [\"source_record_id\", \"name\", \n",
    "                                 \"itp_id\", \"caltrans_district\",\n",
    "                                  \"ntd_id_2022\"]\n",
    "    )\n",
    "\n",
    "    df_with_org = pd.merge(\n",
    "        df.rename(columns = {\"gtfs_dataset_key\": \"schedule_gtfs_dataset_key\"}),\n",
    "        crosswalk,\n",
    "        on = \"schedule_gtfs_dataset_key\",\n",
    "        how = \"inner\"\n",
    "    )\n",
    "    \n",
    "    return df_with_org"
   ]
  },
  {
   "cell_type": "code",
   "execution_count": null,
   "id": "82b5326d-6e0d-4213-9665-f1b5170476d6",
   "metadata": {},
   "outputs": [],
   "source": [
    "# can get dates from GCS `calitp-analytics-data/data-analyses/gtfs_schedule/crosswalk`\n",
    "gtfs_to_org = create_gtfs_dataset_key_to_organization_crosswalk(\n",
    "            \"2024-08-14\"\n",
    "        )"
   ]
  },
  {
   "cell_type": "code",
   "execution_count": null,
   "id": "8c20ca7e-4338-4fed-b125-d7ef20377bb4",
   "metadata": {},
   "outputs": [],
   "source": [
    "gtfs_to_org.shape"
   ]
  },
  {
   "cell_type": "code",
   "execution_count": null,
   "id": "9811eb6f-65a3-4f18-b54d-f807abe96d6e",
   "metadata": {},
   "outputs": [],
   "source": [
    "gtfs_to_org.head()"
   ]
  },
  {
   "cell_type": "markdown",
   "id": "153cf610-8f12-4dad-adaa-a29121293909",
   "metadata": {},
   "source": [
    "---"
   ]
  },
  {
   "cell_type": "markdown",
   "id": "3a2d6f65-cfe3-412d-818c-4671960efb83",
   "metadata": {},
   "source": [
    "##  If you know which date you want, you can use the crosswalk created and saved out here in `gtfs_analytics_data.yml` find the GCS path.\n",
    "\n",
    "should also give us `gtfs schedule feed`, `org name` and `ntd id`"
   ]
  },
  {
   "cell_type": "code",
   "execution_count": null,
   "id": "935069be-11ab-484c-b5d0-e8226142f963",
   "metadata": {},
   "outputs": [],
   "source": [
    "aug_crosswalk = pd.read_parquet(\n",
    "    \"gs://calitp-analytics-data/data-analyses/gtfs_schedule/crosswalk/gtfs_key_organization_2024-08-14.parquet\"\n",
    ")"
   ]
  },
  {
   "cell_type": "code",
   "execution_count": null,
   "id": "728cf617-c292-45db-bd7f-71b6dc05cce2",
   "metadata": {},
   "outputs": [],
   "source": [
    "display(\n",
    "    aug_crosswalk.shape,\n",
    "    list(aug_crosswalk.columns.sort_values())\n",
    "\n",
    ")"
   ]
  },
  {
   "cell_type": "code",
   "execution_count": null,
   "id": "deecc3d7-db6d-45f2-98c1-ad7094cd6223",
   "metadata": {},
   "outputs": [],
   "source": [
    "aug_crosswalk.head()"
   ]
  },
  {
   "cell_type": "code",
   "execution_count": null,
   "id": "32fc5876-5dce-452f-9ca3-2bff21c9b1a1",
   "metadata": {},
   "outputs": [],
   "source": [
    "aug_crosswalk[\"name\"].value_counts()"
   ]
  },
  {
   "cell_type": "markdown",
   "id": "bcb4ca02-d7ee-4ab6-ab41-ff2ec261d3c3",
   "metadata": {
    "tags": []
   },
   "source": [
    "---"
   ]
  },
  {
   "cell_type": "markdown",
   "id": "a730e385-52ce-4e0d-99a6-1da04bfd91f5",
   "metadata": {},
   "source": [
    "Compare the dataframes in both methods to compare the values. they may be the same things but the initiald DF has ntd id"
   ]
  },
  {
   "cell_type": "code",
   "execution_count": null,
   "id": "bc2ff8ee-a4f0-45fd-b092-dcf416ac8611",
   "metadata": {},
   "outputs": [],
   "source": [
    "display(\n",
    "    gtfs_to_org.columns,\n",
    "    aug_crosswalk.columns\n",
    ")"
   ]
  },
  {
   "cell_type": "code",
   "execution_count": null,
   "id": "a482c39d-c978-46cb-bd02-60fcd0743f54",
   "metadata": {},
   "outputs": [],
   "source": [
    "col = [\n",
    "    \"schedule_gtfs_dataset_key\",\n",
    "    \"name\",\n",
    "    \"schedule_source_record_id\",\n",
    "    \"organization_source_record_id\",\n",
    "    #\"itp_id\"\n",
    "]\n",
    "\n",
    "for i in col:\n",
    "    print(\n",
    "        gtfs_to_org[i].unique() == aug_crosswalk[i].unique()\n",
    "    )\n",
    "\n",
    "# looks good! move forward with gtfs_to_org"
   ]
  },
  {
   "cell_type": "markdown",
   "id": "104f9b0e-6c9d-4c36-b974-797e4aa58976",
   "metadata": {},
   "source": [
    "---"
   ]
  },
  {
   "cell_type": "markdown",
   "id": "6cc3b247-5fe7-4f76-8024-86dc8e189be0",
   "metadata": {},
   "source": [
    "- analyze the gtfs_to_org df\n",
    "- what agencies are in in"
   ]
  },
  {
   "cell_type": "code",
   "execution_count": null,
   "id": "136fe9d4-bc67-4731-a2e8-c6b5e18e8f10",
   "metadata": {},
   "outputs": [],
   "source": [
    "list(gtfs_to_org.columns)"
   ]
  },
  {
   "cell_type": "code",
   "execution_count": null,
   "id": "d51cf356-f130-41a3-bd40-9a5518329047",
   "metadata": {},
   "outputs": [],
   "source": [
    "gtfs_to_org.describe(include=object)"
   ]
  },
  {
   "cell_type": "code",
   "execution_count": null,
   "id": "24e45617-e1bd-4c56-8400-4a606fd15062",
   "metadata": {},
   "outputs": [],
   "source": [
    "gtfs_to_org[gtfs_to_org[\"organization_name\"].str.contains(\"Roseville\")]"
   ]
  },
  {
   "cell_type": "code",
   "execution_count": null,
   "id": "5c615b27-4244-47ad-916e-388303c65bcd",
   "metadata": {},
   "outputs": [],
   "source": [
    "# see which scheduel feeds these operators are in\n",
    "city=[\n",
    "    \"Roseville\",\n",
    "    \"Auburn\",\n",
    "    \"Placer\",\n",
    "    \"El Dorado\",\n",
    "    \"Shingle Springs\",\n",
    "    \"Placerville\",\n",
    "    \"Cameron Park\",\n",
    "    \"Pollock Pines\",\n",
    "    \"Colfax\",\n",
    "    \"Lincoln\",\n",
    "    \"Rocklin\",\n",
    "    \"alpine\"\n",
    "]\n",
    "\n",
    "city_2 = \"|\".join(city)\n",
    "\n",
    "display(\n",
    "    gtfs_to_org[gtfs_to_org[\"organization_name\"].str.contains(city_2, case=False)].sort_values(by=\"organization_name\"),\n",
    "\n",
    "    aug_crosswalk[\n",
    "        aug_crosswalk[\"counties_served\"].str.contains(city_2, case=False, na=False)].sort_values(by=\"counties_served\"),\n",
    "    \n",
    "    aug_crosswalk[\n",
    "        aug_crosswalk[\"organization_name\"].str.contains(\"auburn\", case=False, na=False)].sort_values(by=\"organization_name\"),\n",
    "    aug_crosswalk[\n",
    "        aug_crosswalk[\"counties_served\"].str.contains(\"none\", case=False, na=False)].sort_values(by=\"counties_served\")\n",
    ")"
   ]
  },
  {
   "cell_type": "code",
   "execution_count": null,
   "id": "2e1c6f75-6d48-45fd-b494-a8072aca2326",
   "metadata": {},
   "outputs": [],
   "source": [
    "# see if there are any other operators in these schedule feeds\n",
    "# looks like this is the only one\n",
    "sched_list = [\n",
    "    \"Roseville Transit GMV Schedule\",\n",
    "    \"Roseville Schedule\",\n",
    "    \"Placer Schedule\",\n",
    "    \"El Dorado Schedule\",\n",
    "    \"Auburn Schedule\",\n",
    "]\n",
    "sched_list_2 = \"|\".join(sched_list)\n",
    "\n",
    "gtfs_to_org[gtfs_to_org[\"name\"].str.contains(sched_list_2, case=False)].sort_values(by=\"name\")"
   ]
  },
  {
   "cell_type": "code",
   "execution_count": null,
   "id": "dfeaf232-4de5-4925-8207-464e93524244",
   "metadata": {},
   "outputs": [],
   "source": [
    "# sanity check \n",
    "# example of schedle feed key, with multiple operators \n",
    "display(\n",
    "    gtfs_to_org[gtfs_to_org[\"organization_name\"].str.contains(\"Ojai\")],\n",
    "    gtfs_to_org[gtfs_to_org[\"name\"].str.contains(\"VCTC GMV Schedule\")]\n",
    ")"
   ]
  },
  {
   "cell_type": "markdown",
   "id": "aba36e96-feb5-4b6b-9173-acbefb4c8466",
   "metadata": {},
   "source": [
    "## Read in ntd_id_rtpa_crosswalk"
   ]
  },
  {
   "cell_type": "code",
   "execution_count": null,
   "id": "81c93d9b-d7fc-48fd-9da7-ce47fa5a82d9",
   "metadata": {},
   "outputs": [],
   "source": [
    "crosswalk = pd.read_csv(\n",
    "        f\"gs://calitp-analytics-data/data-analyses/ntd/ntd_id_rtpa_crosswalk.csv\", \n",
    "        dtype = {\"NTD ID\": \"str\"}\n",
    "    #have to rename NTD ID col to match the dim table\n",
    "    ).rename(columns={\"NTD ID\": \"ntd_id\"})"
   ]
  },
  {
   "cell_type": "code",
   "execution_count": null,
   "id": "a075043a-5dd2-44fa-a414-8f8f3e85a9bf",
   "metadata": {},
   "outputs": [],
   "source": [
    "display(\n",
    "    crosswalk[\"RTPA\"].nunique(),\n",
    "    crosswalk[\"RTPA_open_data\"].nunique()\n",
    ")"
   ]
  },
  {
   "cell_type": "code",
   "execution_count": null,
   "id": "e695c62d-9fbf-4e9f-a093-5e484a1e01ea",
   "metadata": {},
   "outputs": [],
   "source": [
    "## do the operators found in the previous, exist in the crosswalk?"
   ]
  },
  {
   "cell_type": "code",
   "execution_count": null,
   "id": "cf566c50-c9bf-4107-a8b0-0a533b6cd73f",
   "metadata": {},
   "outputs": [],
   "source": [
    "crosswalk[crosswalk[\"Agency\"].str.contains(city_2)]"
   ]
  },
  {
   "cell_type": "markdown",
   "id": "d9f17ad6-71ba-4292-804d-75daefc6cf4c",
   "metadata": {},
   "source": [
    "--- "
   ]
  },
  {
   "cell_type": "markdown",
   "id": "af5550b6-cb6b-4541-9d79-a17e37a218f3",
   "metadata": {
    "tags": []
   },
   "source": [
    "## Read in ntd ridership data"
   ]
  },
  {
   "cell_type": "code",
   "execution_count": 7,
   "id": "a3c3b6c4-16e3-4ad0-99b0-6b888b2d0e7d",
   "metadata": {
    "tags": []
   },
   "outputs": [],
   "source": [
    "db_engine = get_engine()\n",
    "\n",
    "with db_engine.connect() as connection:\n",
    "    query = \"\"\"\n",
    "    SELECT * \n",
    "    FROM `mart_ntd.dim_monthly_ridership_with_adjustments` AS `mart_ntd.dim_monthly_ridership_with_adjustments_1`\n",
    "    WHERE regexp_contains(`mart_ntd.dim_monthly_ridership_with_adjustments_1`.`period_year_month`, '2024-')\n",
    "    \"\"\"\n",
    "    full_upt = pd.read_sql(query,connection)\n",
    "    "
   ]
  },
  {
   "cell_type": "code",
   "execution_count": 8,
   "id": "9d147bee-0c96-4f30-9c40-6e22e3da861f",
   "metadata": {
    "tags": []
   },
   "outputs": [],
   "source": [
    "full_upt = full_upt_2.rename(columns = {\"mode_type_of_service_status\": \"Status\"}\n",
    "       )"
   ]
  },
  {
   "cell_type": "code",
   "execution_count": null,
   "id": "f2ba5588-c9c1-4ce5-9b19-902dd5a2b823",
   "metadata": {},
   "outputs": [],
   "source": [
    "full_upt.columns"
   ]
  },
  {
   "cell_type": "code",
   "execution_count": null,
   "id": "4bca149e-08c4-4f03-8236-d197a3755024",
   "metadata": {},
   "outputs": [],
   "source": [
    "ca = full_upt[full_upt[\"primary_uza_name\"].str.contains(\", CA\") & full_upt[\"period_year_month\"].str.contains(\"2024-\")]"
   ]
  },
  {
   "cell_type": "markdown",
   "id": "78cae150-ebc6-4582-bf13-fc9f21688b73",
   "metadata": {},
   "source": [
    "## do any of the operators found in the previous, exist in the ntd data?"
   ]
  },
  {
   "cell_type": "code",
   "execution_count": null,
   "id": "418a7c7e-4c80-48ad-80cf-fb172d32b038",
   "metadata": {},
   "outputs": [],
   "source": [
    "ca[ca[\"agency\"].str.contains(city_2)][\"agency\"].value_counts()"
   ]
  },
  {
   "cell_type": "code",
   "execution_count": null,
   "id": "0b86ab3c-c4d2-42ad-8e65-afc782302d49",
   "metadata": {},
   "outputs": [],
   "source": [
    "## do all the operators in the crosswalk exist in the ntd data?\n",
    "\n",
    "crosswalk_agency = crosswalk[\"Agency\"].unique().tolist()\n",
    "crosswalk_agency_2 = \"|\".join(crosswalk_agency)\n",
    "\n",
    "display(\n",
    "    len(ca[ca[\"agency\"].str.contains(crosswalk_agency_2)][\"agency\"].unique()),\n",
    "    len(crosswalk_agency)\n",
    ")\n",
    "\n",
    "#yes they do "
   ]
  },
  {
   "cell_type": "markdown",
   "id": "9695f56d-aaa4-4674-acd1-94b264420bc9",
   "metadata": {},
   "source": [
    "---"
   ]
  },
  {
   "cell_type": "markdown",
   "id": "3268a86f-02b8-4f7e-a173-97a7518abed5",
   "metadata": {
    "tags": []
   },
   "source": [
    "# Conclusion"
   ]
  },
  {
   "cell_type": "markdown",
   "id": "d98ff895-2152-4d90-b4e2-f4aca5c1b5c6",
   "metadata": {},
   "source": [
    "**Update the following to `ntd_id_rtpa` crosswalk**\n",
    "\n",
    "County of placer\n",
    "- RTPA: Placer County Transportation Planning Agency\n",
    "    \n",
    "City of Roseville\n",
    "- RTPA: Placer County Transportation Planning Agency\n",
    "\n",
    "El Dorado County Transit Authority\n",
    "- RTPA: El Dorado County Transportation Commission\n",
    "\n",
    "**Add to the ntd_id_rtpa crosswalk**\n",
    "\n",
    "City of Auburn\n",
    "- RTPA: Placer County Transportation Planning Agency\n",
    "- NTD ID: 91032\n",
    "- UZA Name: Sacramento, CA"
   ]
  },
  {
   "cell_type": "code",
   "execution_count": null,
   "id": "769da21d-09d0-4381-9ef8-3d0772831a14",
   "metadata": {},
   "outputs": [],
   "source": [
    "display(\n",
    "    crosswalk[crosswalk[\"Agency\"].str.contains(\"Roseville\")],\n",
    "    crosswalk[crosswalk[\"Agency\"].str.contains(\"El Dorado\")]\n",
    ")"
   ]
  },
  {
   "cell_type": "code",
   "execution_count": null,
   "id": "42883c05-b405-4ffd-95e3-d86e58caa6ab",
   "metadata": {},
   "outputs": [],
   "source": [
    "crosswalk.loc[crosswalk[\"Agency\"].str.contains(\"Placer\"), \"RTPA\"] = \"Placer County Transportation Planning Agency\""
   ]
  },
  {
   "cell_type": "code",
   "execution_count": null,
   "id": "c68bd0fa-734a-4fb0-8ed0-52745c0918f2",
   "metadata": {},
   "outputs": [],
   "source": [
    "crosswalk.loc[crosswalk[\"Agency\"].str.contains(\"Roseville\"), \"RTPA\"] = \"Placer County Transportation Planning Agency\"\n",
    "crosswalk.loc[crosswalk[\"Agency\"].str.contains(\"El Dorado\"), \"RTPA\"] = \"El Dorado County Transportation Commission\""
   ]
  },
  {
   "cell_type": "code",
   "execution_count": null,
   "id": "bc4bf778-c212-431d-8fb0-4a039be3d2dd",
   "metadata": {},
   "outputs": [],
   "source": [
    "display(\n",
    "    crosswalk[crosswalk[\"Agency\"].str.contains(\"Placer\")],\n",
    "    crosswalk[crosswalk[\"Agency\"].str.contains(\"Roseville\")],\n",
    "    crosswalk[crosswalk[\"Agency\"].str.contains(\"El Dorado\")]\n",
    ")"
   ]
  },
  {
   "cell_type": "code",
   "execution_count": null,
   "id": "4ab11514-dcae-4909-b350-bdcff4cccee7",
   "metadata": {},
   "outputs": [],
   "source": [
    "columns = crosswalk.columns\n",
    "\n",
    "auburn = pd.DataFrame([[\"91032\",\"91032\",\"City of Auburn\",\"Sacramento,CA\",\"Placer County Transportation Planning Agency\", \"Placer County Transportation Planning Agency\"]], columns=columns)\n",
    "\n",
    "crosswalk_2 = pd.concat([crosswalk, auburn], ignore_index=True)\n",
    "\n",
    "display(\n",
    "    crosswalk.shape,\n",
    "    crosswalk_2.shape\n",
    ")"
   ]
  },
  {
   "cell_type": "code",
   "execution_count": null,
   "id": "6e8c72fc-d8bd-48c2-8cec-817d24246c58",
   "metadata": {},
   "outputs": [],
   "source": [
    "crosswalk_2[\"ntd_id\"] = crosswalk_2[\"ntd_id\"].astype(\"str\")"
   ]
  },
  {
   "cell_type": "code",
   "execution_count": null,
   "id": "8fe84c3e-56f3-4939-aaf9-1769efe26fd9",
   "metadata": {},
   "outputs": [],
   "source": [
    "crosswalk_2.info()"
   ]
  },
  {
   "cell_type": "code",
   "execution_count": null,
   "id": "a9a44627-5bf2-4beb-a913-bc0203ecc6dc",
   "metadata": {},
   "outputs": [],
   "source": [
    "# save updated crosswalk back to GCS\n",
    "#crosswalk_2.to_csv(f\"gs://calitp-analytics-data/data-analyses/ntd/ntd_id_rtpa_crosswalk.csv\", index=False)\n"
   ]
  },
  {
   "cell_type": "code",
   "execution_count": null,
   "id": "25c3ab42-3295-4eb1-aa29-439575be01fc",
   "metadata": {},
   "outputs": [],
   "source": [
    "#crosswalk_2.to_parquet(f\"gs://calitp-analytics-data/data-analyses/ntd/ntd_id_rtpa_crosswalk.parquet\")"
   ]
  },
  {
   "cell_type": "markdown",
   "id": "d38d896b-dd2d-4866-97c1-2da60bf46080",
   "metadata": {},
   "source": [
    "---"
   ]
  },
  {
   "cell_type": "code",
   "execution_count": 20,
   "id": "f6f74bc9-cd6f-4159-921d-3c7ef588442f",
   "metadata": {
    "tags": []
   },
   "outputs": [],
   "source": [
    "with db_engine.connect() as connection:\n",
    "    query = \"\"\"\n",
    "    SELECT * \n",
    "    FROM `mart_ntd.dim_monthly_ridership_with_adjustments` AS `mart_ntd.dim_monthly_ridership_with_adjustments_1`\n",
    "    \"\"\"\n",
    "    full_upt = pd.read_sql(query,connection).rename(columns = {\"mode_type_of_service_status\": \"Status\"})"
   ]
  },
  {
   "cell_type": "code",
   "execution_count": null,
   "id": "268784be-ae63-4b38-ab4c-9af9d58739b1",
   "metadata": {},
   "outputs": [],
   "source": [
    "full_upt = full_upt[full_upt.agency.notna()].reset_index(drop=True)\n",
    "    \n",
    "#full_upt.to_parquet(\n",
    "#        f\"{GCS_FILE_PATH}ntd_monthly_ridership_{year}_{month}.parquet\"\n",
    "#    )\n",
    "    \n",
    "ca = full_upt[(full_upt[\"uza_name\"].str.contains(\", CA\")) & \n",
    "            (full_upt.agency.notna())].reset_index(drop=True)\n",
    "    \n",
    "crosswalk = pd.read_csv(\n",
    "        f\"gs://calitp-analytics-data/data-analyses/ntd/ntd_id_rtpa_crosswalk.csv\", \n",
    "        dtype = {\"ntd_id\": \"str\"}\n",
    "    #have to rename NTD ID col to match the dim table\n",
    "    )#.rename(columns={\"NTD ID\": \"ntd_id\"})\n",
    "    \n",
    "df = pd.merge(\n",
    "        ca,\n",
    "        # Merging on too many columns can create problems \n",
    "        # because csvs and dtypes aren't stable / consistent \n",
    "        # for NTD ID, Legacy NTD ID, and UZA\n",
    "        crosswalk[[\"ntd_id\", \"RTPA\"]],\n",
    "        on = \"ntd_id\",\n",
    "        how = \"left\",\n",
    "        indicator = True\n",
    "    )\n",
    "    \n",
    "print(df._merge.value_counts())"
   ]
  },
  {
   "cell_type": "code",
   "execution_count": null,
   "id": "c2c7e144-13be-49c0-8a73-a97556af44ce",
   "metadata": {},
   "outputs": [],
   "source": [
    "df[df[\"RTPA\"].str.contains(\"El Dor\")]"
   ]
  },
  {
   "cell_type": "code",
   "execution_count": null,
   "id": "ec29e567-c0f9-457a-865e-d46feb5d0324",
   "metadata": {},
   "outputs": [],
   "source": []
  }
 ],
 "metadata": {
  "kernelspec": {
   "display_name": "Python 3 (ipykernel)",
   "language": "python",
   "name": "python3"
  },
  "language_info": {
   "codemirror_mode": {
    "name": "ipython",
    "version": 3
   },
   "file_extension": ".py",
   "mimetype": "text/x-python",
   "name": "python",
   "nbconvert_exporter": "python",
   "pygments_lexer": "ipython3",
   "version": "3.11.10"
  }
 },
 "nbformat": 4,
 "nbformat_minor": 5
}
