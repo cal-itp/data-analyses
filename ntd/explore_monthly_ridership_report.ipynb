{
 "cells": [
  {
   "cell_type": "code",
   "execution_count": null,
   "id": "15e15e64-5776-4b05-813d-22d1d58379d8",
   "metadata": {},
   "outputs": [],
   "source": [
    "import sys\n",
    "sys.path.append(\"../bus_service_increase\") \n",
    "sys.path.append(\"../starter_kit\") # to test out style_df function"
   ]
  },
  {
   "cell_type": "code",
   "execution_count": null,
   "id": "39433d1d-c54e-475c-878e-78c992d0eb58",
   "metadata": {},
   "outputs": [],
   "source": [
    "%%capture\n",
    "import warnings\n",
    "warnings.filterwarnings('ignore')\n",
    "\n",
    "import altair as alt\n",
    "import calitp_data_analysis.magics\n",
    "import pandas as pd\n",
    "\n",
    "from IPython.display import display, HTML, Markdown\n",
    "\n",
    "from bus_service_utils import chart_utils\n",
    "from calitp_data_analysis import calitp_color_palette as cp\n",
    "from update_vars import PUBLIC_FILENAME, YEAR, MONTH\n",
    "from TEST_monthly_ridership_by_rtpa import sum_by_group\n",
    "from _starterkit_utils import style_df\n",
    "#from monthly_ridership_by_rtpa import get_percent_change\n",
    "#from shared_utils.rt_dates import MONTH_DICT\n",
    "\n",
    "#Temp file path for testing\n",
    "GCS_FILE_PATH = \"gs://calitp-analytics-data/data-analyses/ntd/\"\n",
    "\n",
    "#alt.renderers.enable(\"html\")\n",
    "alt.data_transformers.enable('default', max_rows=None)"
   ]
  },
  {
   "cell_type": "code",
   "execution_count": null,
   "id": "798b9f83-ee62-489d-bc7c-9d1542af0a29",
   "metadata": {
    "tags": [
     "parameters"
    ]
   },
   "outputs": [],
   "source": [
    "# parameters cell for local\n",
    "rtpa = \"Metropolitan Transportation Commission\" # lots of reporters\n",
    "#rtpa = \"Butte County Association of Governments\" # 2 reporters \n",
    "#rtpa = \"San Joaquin Council of Governments\" # 4 reporters"
   ]
  },
  {
   "cell_type": "code",
   "execution_count": null,
   "id": "f649dd2e-d38b-439c-94cd-a7480dc77511",
   "metadata": {},
   "outputs": [],
   "source": [
    "%%capture_parameters\n",
    "rtpa"
   ]
  },
  {
   "cell_type": "markdown",
   "id": "bae4c08b-308e-4c38-b82c-42c94eadf120",
   "metadata": {},
   "source": [
    "# {rtpa}\n",
    "## Monthly Ridership Trends\n",
    "\n",
    "**Download data from our public [folder](https://console.cloud.google.com/storage/browser/calitp-publish-data-analysis)** by navigating to `ntd_monthly_ridership` and selecting a file.\n",
    "\n",
    "Transit operators/agencies that are **Urban full reporters, that submit monthly ridership data to NTD from 2018 to present**, are included in this report. Reporters that were previously Urban full reporters, but are currently not, may appear. This may result in Reporters showing zero or partial ridership data in the report. \n",
    "\n",
    "If a Reporter is not a monthly reporter, or has not reported data since 2018, they will not appear in the report.\n",
    "\n",
    "Examples: \n",
    "- Reporter A is an urban full reporter from 2019-2022, then became a reduced reporter for 2023. Reporter A's ridership data will be displayed for 2019-2022 only.\n",
    "- Reporter B is an urban full reporter from 2000-2017, then became a reduced reporter for 2018. Reporter B will be named in the report, but will not display ridership data.\n",
    "- Reporter C was a reduced reporter form 2015-2020, then became an urban full reporter and began submitting monthly ridership data to NTD for 2021. Reporter C's ridership data will be displayed for 2021-present."
   ]
  },
  {
   "cell_type": "code",
   "execution_count": null,
   "id": "937118f4-c4b3-4702-8ea2-ec43c5b7bd10",
   "metadata": {},
   "outputs": [],
   "source": [
    "URL = (\"https://console.cloud.google.com/storage/\"\n",
    "       \"browser/calitp-publish-data-analysis\"\n",
    "      )\n",
    "\n",
    "display(\n",
    "    HTML(\n",
    "        f\"\"\"\n",
    "        <a href={URL}>\n",
    "        Download the latest month of data: {PUBLIC_FILENAME}</a>\n",
    "        \"\"\"\n",
    "    )\n",
    ")\n"
   ]
  },
  {
   "cell_type": "code",
   "execution_count": null,
   "id": "cf017b79-26d5-455b-8c99-e9ba27d2dd77",
   "metadata": {},
   "outputs": [],
   "source": [
    "MIN_YEAR = 2018\n",
    "\n",
    "#updated to filter for period_year greater than 2018\n",
    "df = pd.read_parquet(\n",
    "    f\"{GCS_FILE_PATH}ca_monthly_ridership_{YEAR}_{MONTH}.parquet\",\n",
    "    filters = [[(\"RTPA\", \"==\", rtpa), (\"period_year\", \">=\", MIN_YEAR)]]\n",
    ").drop(\n",
    "    #updated columns names to match new df\n",
    "    columns = [\"mode\", \"tos\",\"execution_ts\"]\n",
    ").rename(columns = {\"Mode_full\": \"Mode\", \"TOS_full\": \"TOS\"})"
   ]
  },
  {
   "cell_type": "code",
   "execution_count": null,
   "id": "79364807-66b3-4917-acd9-17230400dfab",
   "metadata": {},
   "outputs": [],
   "source": [
    "df.info()"
   ]
  },
  {
   "cell_type": "code",
   "execution_count": null,
   "id": "bf36cb45-9594-4b4f-a8f0-39be6e5a450c",
   "metadata": {},
   "outputs": [],
   "source": [
    "#REMOVE\n",
    "\n",
    "# find columns that are recent enough to plot\n",
    "#MIN_YEAR = 2018\n",
    "\n",
    "#might not need the rest of these\n",
    "#not_id_cols = [c for c in df.columns if \"/\" in c]\n",
    "\n",
    "#recent_years = [\n",
    "#    c for c in not_id_cols if int(c.split(\"/\")[1]) >= MIN_YEAR and \n",
    "#    \"pct\" not in c\n",
    "#]\n",
    "\n",
    "#upt_cols = [\n",
    "#    c for c in recent_years if \"change\" not in c\n",
    "#]\n",
    "\n",
    "#change_cols = [c for c in recent_years if \"change\" in c]"
   ]
  },
  {
   "cell_type": "code",
   "execution_count": null,
   "id": "804b1166-9261-4cb9-8bde-b5e0f95c628d",
   "metadata": {},
   "outputs": [],
   "source": [
    "#REMOVE\n",
    "\n",
    "# do i need this anymore? \n",
    "# what does the data look like initially? filters/groups the DF by the `group_cols` list, keeps the initial wide data\n",
    "\n",
    "# give this a try with current data NOPE! \n",
    "#def OLD_sum_by_group(df: pd.DataFrame, group_cols: list) -> pd.DataFrame:\n",
    "#    \"\"\"\n",
    "#    Since df is wide, use pivot_table() to sum up all\n",
    "#    the columns that show UPT.\n",
    "#    \"\"\"\n",
    "#    grouped_df = df.pivot_table(\n",
    "#        index = group_cols, \n",
    "#        values = \"upt\", \n",
    "#        aggfunc=\"sum\"\n",
    "#    ).reset_index().reindex(columns = group_cols + recent_years)\n",
    "    \n",
    "#    return grouped_df\n",
    "\n",
    "\n",
    "# DONT THINK I NEED THIS ANYMORE!!!\n",
    "#def make_long(df: pd.DataFrame, group_cols: list, value_cols: list):\n",
    "#    df_long = df[group_cols + value_cols].melt(\n",
    "#        id_vars = group_cols, \n",
    "#        value_vars = value_cols,\n",
    "#    )\n",
    "    \n",
    "#    df_long = df_long.assign(\n",
    "#        variable = df_long.variable.str.replace(\"change_1yr_\", \"\")\n",
    "#    )\n",
    "    \n",
    "#    return df_long"
   ]
  },
  {
   "cell_type": "code",
   "execution_count": null,
   "id": "cfc7efc0-03b4-4917-8277-d897c8a1779e",
   "metadata": {},
   "outputs": [],
   "source": [
    "## MOVED FUNCTION TO SCRIPT, SO IT CAN BE USED BY save_rtpa_outputs\n",
    "\n",
    "#function is read in with imports\n",
    "\n",
    "# UPDATED AND TESTED, this works! gives the same results as the old old sum_by_group, make_long and assemble_long_df functions\n",
    "\n",
    "#def sum_by_group(\n",
    "#    df: pd.DataFrame,\n",
    "#    group_cols: list) -> pd.DataFrame:\n",
    "#    \"\"\"\n",
    "#    since data is now long to begin with, this replaces old sum_by_group, make_long and assemble_long_df functions.\n",
    "#    \"\"\"\n",
    "#    from TEST_monthly_ridership_by_rtpa import get_percent_change\n",
    "#    grouped_df = df.groupby(group_cols+\n",
    "#                             ['period_year',\n",
    "#                             'period_month',\n",
    "#                             'period_year_month']\n",
    "#                           ).agg({\n",
    "#        \"upt\":\"sum\",\n",
    "#        \"previous_y_m_upt\":\"sum\",\n",
    "#        \"change_1yr\":\"sum\"\n",
    "#    }\n",
    "#    ).reset_index()\n",
    "    \n",
    "    #get %change back\n",
    "#    grouped_df = get_percent_change(grouped_df)\n",
    "    \n",
    "    #decimal to whole number\n",
    "#    grouped_df[\"pct_change_1yr\"] = grouped_df[\"pct_change_1yr\"]*100\n",
    "    \n",
    "#    return grouped_df\n",
    "    "
   ]
  },
  {
   "cell_type": "code",
   "execution_count": null,
   "id": "f52e71b2-1ad8-4713-9500-9f97cbcfc2c2",
   "metadata": {},
   "outputs": [],
   "source": [
    "#REMOVE\n",
    "\n",
    "# takes the sum_by_group dfs and makes them long\n",
    "# unpivots the sum_by_group dfs, each row is a different year/month\n",
    "\n",
    "# DONT THINK I NEED THIS ANYMORE!!!\n",
    "#def assemble_long_df(df: pd.DataFrame, group_cols: list) -> pd.DataFrame:\n",
    "#    \"\"\"\n",
    "#    Need df to be long to make chart.\n",
    "#    Let's put raw UPT and change side-by-side.\n",
    "#    \"\"\"\n",
    "#    df_raw = make_long(df, group_cols, upt_cols).rename(\n",
    "#        columns = {\"value\": \"upt\"})\n",
    "#    df_change = make_long(df, group_cols, change_cols).rename(\n",
    "#        columns = {\"value\": \"change_1yr\"})\n",
    "\n",
    "#    final = pd.merge(\n",
    "#        df_raw,\n",
    "#        df_change,\n",
    "#        on = group_cols + [\"variable\"],\n",
    "#        how = \"left\"\n",
    "#    )\n",
    "    \n",
    "#    final = final.assign(\n",
    "#        year = final.variable.str.split(\"/\", expand=True)[1],\n",
    "#        month = final.variable.str.split(\"/\", expand=True)[0].str.zfill(2)\n",
    "#    )\n",
    "    \n",
    "#    final = final.assign(\n",
    "#        year_month = final.year + \"-\" + final.month\n",
    "#    )\n",
    "    \n",
    "#    return final"
   ]
  },
  {
   "cell_type": "code",
   "execution_count": null,
   "id": "d8b92608-f81b-452b-916a-72285d67b392",
   "metadata": {},
   "outputs": [],
   "source": [
    "# KEEPING AS IS FOR NOW, BUT MAY NEED TO REWORK \n",
    "\n",
    "def remove_zero_upt_rows(df: pd.DataFrame) -> pd.DataFrame:\n",
    "    \"\"\"\n",
    "    takes the by_agency_long df, filters for rows with zero UPT AND zero change_1yr. \n",
    "    then removes these rows from the by_agency_long df.\n",
    "    resulting df should only contain rows with change in UPT not due to (0 UPT - 0 UPT) and net zero change in UPT\n",
    "    zero UPT and zero change_1yr occurs when (0 upt - 0upt = 0change), dont need to show this\n",
    "    but a net zero change (100upt - 100upt = 0 change), should be shown\n",
    "    \"\"\"\n",
    "    \n",
    "    #df of rows with zero UPT for 2 years\n",
    "    zero_UPT_2years = df[(df[\"upt\"] == 0) & (df[\"change_1yr\"] == 0)]\n",
    "    \n",
    "    merge = df.merge(zero_UPT_2years, how=\"left\", indicator=True)\n",
    "    no_zero_UPT_rows = merge[merge[\"_merge\"] == \"left_only\"].drop(columns=[\"_merge\"]).dropna(subset=\"change_1yr\")\n",
    "    \n",
    "    return no_zero_UPT_rows\n",
    "    "
   ]
  },
  {
   "cell_type": "code",
   "execution_count": null,
   "id": "6db38c9c-47b8-4887-a9fc-cf82c2c4eea5",
   "metadata": {},
   "outputs": [],
   "source": [
    "def group_by_agency(df):\n",
    "    \"\"\"\n",
    "    Take in the 'by_ageny_long' df and aggregatese by rtpa, and calculates upt % of total. \n",
    "    To be used in pie chart\n",
    "    \"\"\"\n",
    "    initial_agg = df.groupby(\"agency\").agg(\n",
    "        total_upt=(\"upt\",\"sum\")\n",
    "    ).reset_index()\n",
    "    \n",
    "    # % total columns\n",
    "    initial_agg[\"pct_of_total_upt\"] = (initial_agg[\"total_upt\"]/initial_agg[\"total_upt\"].sum())*100\n",
    "    \n",
    "    # cleaning data types and rounding\n",
    "    initial_agg[\"total_upt\"] = initial_agg[\"total_upt\"].astype(\"int64\")\n",
    "    initial_agg[\"pct_of_total_upt\"] = initial_agg[\"pct_of_total_upt\"].round(decimals=2)\n",
    "    cleaned_agg = initial_agg.sort_values(by=\"total_upt\", ascending = False)\n",
    "    \n",
    "    return cleaned_agg"
   ]
  },
  {
   "cell_type": "code",
   "execution_count": null,
   "id": "2d299cdb-21ba-4bf6-b6fb-3d64f02d59e5",
   "metadata": {},
   "outputs": [],
   "source": [
    "# NEW \n",
    "\n",
    "agency_cols = [\"ntd_id\", \"agency\", \"RTPA\"]\n",
    "mode_cols = [\"Mode\", \"RTPA\"]\n",
    "tos_cols = [\"TOS\", \"RTPA\"]\n",
    "\n",
    "# sum_by_group still works! now that it is imported!\n",
    "by_agency_long = sum_by_group(df, agency_cols)\n",
    "by_mode_long = sum_by_group(df, mode_cols)\n",
    "by_tos_long = sum_by_group(df, tos_cols)\n",
    "\n",
    "# zero upt still works!\n",
    "by_agency_long_no_zero_upt = remove_zero_upt_rows(by_agency_long)\n",
    "\n",
    "# total UPT check \n",
    "\n",
    "total_upt = by_agency_long[\"upt\"].sum()\n",
    "agency_count = by_agency_long[\"agency\"].nunique()\n",
    "\n",
    "\n",
    "agency_agg_yr = group_by_agency(by_agency_long)\n"
   ]
  },
  {
   "cell_type": "code",
   "execution_count": null,
   "id": "1bca9016-0024-44e0-b0a0-e11a313ca308",
   "metadata": {},
   "outputs": [],
   "source": [
    "#REMOVE\n",
    "\n",
    "#I STILL NEED FILTERED df BY AGENCY, MODE AND TOS\n",
    "\n",
    "#by_agency_long = assemble_long_df(by_agency, agency_cols)\n",
    "#by_mode_long = assemble_long_df(by_mode, mode_cols)\n",
    "#by_tos_long = assemble_long_df(by_tos, tos_cols)\n",
    "\n",
    "#by_agency_long_no_zero_upt = remove_zero_upt_rows(by_agency_long)"
   ]
  },
  {
   "cell_type": "code",
   "execution_count": null,
   "id": "1606b9e3-1311-40ea-aec8-1fa4ac0c2522",
   "metadata": {},
   "outputs": [],
   "source": [
    "LABELING_DICT = {\n",
    "    \"upt\": \"Unlinked Passenger Trips\",\n",
    "    \"change_1yr\": \"Change in Unlinked Passenger Trips from Prior Year\",\n",
    "    \"TOS\": \"Type of Service\",\n",
    "    \"year_month\": \"Date\"\n",
    "}\n",
    "\n",
    "def labeling(word: str) -> str:\n",
    "    return chart_utils.labeling(word, LABELING_DICT)\n",
    "\n",
    "WIDTH = 300\n",
    "HEIGHT = 150"
   ]
  },
  {
   "cell_type": "code",
   "execution_count": null,
   "id": "53510310-eaea-400d-af32-20f4c8773514",
   "metadata": {},
   "outputs": [],
   "source": [
    "def make_line_chart(\n",
    "    df: pd.DataFrame, \n",
    "    y_col: str,\n",
    "    color_col: str,\n",
    ") -> alt.Chart:\n",
    "    df = df[df[y_col] > 0].dropna(subset = y_col)\n",
    "\n",
    "    x_label = [i for i in df.period_year_month.unique() if \n",
    "               any(substring in i for substring in \n",
    "                   [\"-01\", \"-06\"])\n",
    "              ]    \n",
    "    chart = (alt.Chart(df)\n",
    "         .mark_line()\n",
    "         .encode(\n",
    "             x = alt.X(\"period_year_month:O\", \n",
    "                       axis=alt.Axis(values = x_label), \n",
    "                       title = \"Date\"\n",
    "                      ),\n",
    "             y = alt.Y(y_col, title = labeling(y_col)),\n",
    "             color = alt.Color(color_col, title = \"\", \n",
    "                               scale = alt.Scale(\n",
    "                                   range = cp.CALITP_CATEGORY_BRIGHT_COLORS + \n",
    "                                   cp.CALITP_CATEGORY_BOLD_COLORS\n",
    "                               )),\n",
    "             tooltip = [\"period_year_month\", y_col, color_col, \"RTPA\"]\n",
    "         ).properties(width = WIDTH, height = HEIGHT)\n",
    "         .facet(color_col, columns=2, title = \"\")\n",
    "         .resolve_scale(y=\"independent\")\n",
    "    ).properties(\n",
    "        title = f\"{labeling(y_col)} by {labeling(color_col)}\"\n",
    "    ).interactive()\n",
    "        \n",
    "    return chart"
   ]
  },
  {
   "cell_type": "code",
   "execution_count": null,
   "id": "f59f697a-912a-4dfe-bcac-02c9fc50b55d",
   "metadata": {},
   "outputs": [],
   "source": [
    "def make_bar_chart(\n",
    "    df: pd.DataFrame, \n",
    "    y_col: str,\n",
    "    color_col: str,\n",
    ") -> alt.Chart:\n",
    "    \n",
    "    def short_label(word):\n",
    "        shorten_dict = {\n",
    "            \"change_1yr\": \"Change\",\n",
    "            \"pct_change_1yr\":\"Change\",\n",
    "        }\n",
    "        return shorten_dict[word]\n",
    "    \n",
    "    # For change column, we are missing everything prior to 2023 \n",
    "    #df = df.dropna(subset = y_col)\n",
    "    \n",
    "    #need flag for y_col >,<, 0, missing?\n",
    "    #count function to how many agencies fall in those categories, then look at those agencies\n",
    "    #present table\n",
    "    \n",
    "    x_label = [i for i in df.period_year_month.unique() if \n",
    "               any(substring in i for substring in \n",
    "                   [\"-01\", \"-03\", \"-06\", \"-09\"])\n",
    "              ]\n",
    "    \n",
    "    chart = (alt.Chart(df)\n",
    "         .mark_bar()\n",
    "         .encode(\n",
    "             x = alt.X(\"period_year_month:O\", \n",
    "                       axis=alt.Axis(values = x_label), \n",
    "                       title = \"Date\"\n",
    "                      ),\n",
    "             y = alt.Y(y_col, title = short_label(y_col)),\n",
    "             color = alt.Color(color_col, title = \"\", \n",
    "                              scale = alt.Scale(\n",
    "                                   range = cp.CALITP_CATEGORY_BRIGHT_COLORS + \n",
    "                                   cp.CALITP_CATEGORY_BOLD_COLORS\n",
    "                              )),\n",
    "             tooltip = [\"period_year_month\", y_col, color_col, \"RTPA\"]\n",
    "         ).properties(width = WIDTH, height = HEIGHT)\n",
    "         .facet(color_col, columns=2, title = \"\")\n",
    "         .resolve_scale(x=\"shared\", \n",
    "                        y=\"independent\")\n",
    "    ).properties(\n",
    "        title = f\"{labeling(y_col)} by {labeling(color_col)}\"\n",
    "    ).interactive()\n",
    "    \n",
    "    return chart"
   ]
  },
  {
   "cell_type": "code",
   "execution_count": null,
   "id": "118b82e3-59f7-4ad4-81da-208fbcfa8280",
   "metadata": {},
   "outputs": [],
   "source": [
    "### initial pie code\n",
    "def make_pie_chart(df,\n",
    "             col,\n",
    "             color_col):\n",
    "    \n",
    "    pie = alt.Chart(df).mark_arc(radius = 150).encode(\n",
    "        theta=col,\n",
    "        color=color_col,\n",
    "        tooltip = [\"agency\",\"total_upt\",\"pct_of_total_upt\"]\n",
    "    ).properties(\n",
    "        title=f\"Total Unlinked Passenger Trips per agency in RTPA since {MIN_YEAR}\",\n",
    "\n",
    "    )\n",
    "\n",
    "    return pie"
   ]
  },
  {
   "cell_type": "code",
   "execution_count": null,
   "id": "413d77c9-b2cc-4847-9039-aa4d0caa64de",
   "metadata": {
    "tags": []
   },
   "outputs": [],
   "source": [
    "## moved to prod notebook 1/15/2025\n",
    "#simple bar chart for total agencies and UPT\n",
    "def total_upt_chart(df: pd.DataFrame, x_col:str, y_col:str,tool_tip:list):\n",
    "    bar_chart = alt.Chart(df).mark_bar().encode(\n",
    "    x=alt.X(x_col).sort(\"-y\"),\n",
    "    y=alt.Y(y_col),\n",
    "    tooltip = tool_tip,\n",
    "    color = alt.Color(x_col, title = \"\", \n",
    "                               scale = alt.Scale(\n",
    "                                   range = cp.CALITP_CATEGORY_BRIGHT_COLORS + \n",
    "                                   cp.CALITP_CATEGORY_BOLD_COLORS\n",
    "                               ))\n",
    "    ).properties(\n",
    "    title=f\"Total Unlinked Passenger Trips per agency in RTPA since {MIN_YEAR}\",\n",
    "    width = WIDTH, \n",
    "    height = HEIGHT,\n",
    "    ).resolve_scale(y=\"independent\").interactive()\n",
    "    \n",
    "    return bar_chart"
   ]
  },
  {
   "cell_type": "markdown",
   "id": "130b1309-910d-45ef-9a61-f0d15f2cbb96",
   "metadata": {},
   "source": [
    "### Totals"
   ]
  },
  {
   "cell_type": "code",
   "execution_count": null,
   "id": "e4214ddd-c5b6-407f-9287-0573669adf4f",
   "metadata": {},
   "outputs": [],
   "source": [
    "Markdown(f\"\"\"\n",
    "Within {rtpa}:\n",
    "- Number of Agencies/Operators: <b>{agency_count}</b>.\n",
    "- Total Unlinked Passenger Trips since {MIN_YEAR}: <b>{total_upt:,}</b>.\n",
    "- Individual agency/operator ridership breakdown:\n",
    "\"\"\")"
   ]
  },
  {
   "cell_type": "code",
   "execution_count": null,
   "id": "6b849d54-f0a5-47b1-84ef-a669c5258261",
   "metadata": {
    "tags": []
   },
   "outputs": [],
   "source": [
    "display(agency_agg_yr.reset_index(drop=True))"
   ]
  },
  {
   "cell_type": "code",
   "execution_count": null,
   "id": "2714c6eb-c1ea-4bbd-be69-cfc5dd16aa75",
   "metadata": {
    "tags": []
   },
   "outputs": [],
   "source": [
    "df_html= agency_agg_yr.reset_index(drop=True).to_html()\n",
    "\n",
    "print(df_html)"
   ]
  },
  {
   "cell_type": "code",
   "execution_count": null,
   "id": "38030feb-70e6-402f-8b77-3242076c0bc9",
   "metadata": {
    "tags": []
   },
   "outputs": [],
   "source": [
    "df_markdown= agency_agg_yr.reset_index(drop=True).to_markdown()\n",
    "\n",
    "print(df_markdown)"
   ]
  },
  {
   "cell_type": "code",
   "execution_count": null,
   "id": "7e5b1217-5c1d-4795-9eef-c25b245c9af3",
   "metadata": {},
   "outputs": [],
   "source": [
    "tooltip_list = [\"agency\",\"total_upt\",\"pct_of_total_upt\"]\n",
    "\n",
    "total_upt_chart(\n",
    "    agency_agg_yr,\n",
    "    x_col=\"agency\", \n",
    "    y_col=\"total_upt\", \n",
    "    tool_tip=tooltip_list)"
   ]
  },
  {
   "cell_type": "code",
   "execution_count": null,
   "id": "da59f86f-ba3c-4398-95ad-ad84e0ada732",
   "metadata": {},
   "outputs": [],
   "source": [
    "make_pie_chart(agency_agg_yr, col = \"total_upt\", color_col=\"agency\")\n"
   ]
  },
  {
   "cell_type": "markdown",
   "id": "ba59c380-aa2f-4fd2-a18b-f75e18074abc",
   "metadata": {},
   "source": [
    "### Transit Agency"
   ]
  },
  {
   "cell_type": "code",
   "execution_count": null,
   "id": "c068b244-f4c2-4ae7-9153-d2724ee9f5c2",
   "metadata": {},
   "outputs": [],
   "source": [
    "make_line_chart(by_agency_long, y_col = \"upt\", color_col = \"agency\")"
   ]
  },
  {
   "cell_type": "markdown",
   "id": "69a54f04-0a23-4715-95ae-3f00c96f4878",
   "metadata": {},
   "source": [
    "Change in Unlinked Passenger Trips from the prior year. For example, July 2023's change would be the change in July 2023's reported values against July 2022's reported values."
   ]
  },
  {
   "cell_type": "code",
   "execution_count": null,
   "id": "24462fe7-2af4-4023-9a88-0cc665ce763a",
   "metadata": {},
   "outputs": [],
   "source": [
    "# TEST OF BAR CHART WITH % CHANGE 1 YEAR\n",
    "make_bar_chart(by_agency_long_no_zero_upt[by_agency_long_no_zero_upt[\"period_year\"] >= 2018], \n",
    "               y_col = \"pct_change_1yr\", \n",
    "               color_col = \"agency\")"
   ]
  },
  {
   "cell_type": "code",
   "execution_count": null,
   "id": "ddd1a017-0907-4a9c-826d-edd958418c26",
   "metadata": {},
   "outputs": [],
   "source": [
    "make_bar_chart(by_agency_long_no_zero_upt[by_agency_long_no_zero_upt[\"period_year\"] >= 2024], y_col = \"change_1yr\", color_col = \"agency\")"
   ]
  },
  {
   "cell_type": "code",
   "execution_count": null,
   "id": "fd64bce0-577f-498e-9be8-4d664bfc47d1",
   "metadata": {},
   "outputs": [],
   "source": [
    "make_bar_chart(by_agency_long_no_zero_upt, y_col = \"change_1yr\", color_col = \"agency\")"
   ]
  },
  {
   "cell_type": "markdown",
   "id": "4d7db69c-9e51-4e1f-ac33-604a8afe4da5",
   "metadata": {},
   "source": [
    "### Transit Mode"
   ]
  },
  {
   "cell_type": "code",
   "execution_count": null,
   "id": "6d132a31-971d-44f2-a1aa-d60b2cf055f6",
   "metadata": {},
   "outputs": [],
   "source": [
    "make_line_chart(by_mode_long, y_col = \"upt\", color_col = \"Mode\")"
   ]
  },
  {
   "cell_type": "code",
   "execution_count": null,
   "id": "a2d861b0-6baa-4d7c-89eb-4b686a77ba3e",
   "metadata": {},
   "outputs": [],
   "source": [
    "make_bar_chart(by_mode_long[by_mode_long[\"period_year\"] >= 2024], y_col = \"change_1yr\", color_col = \"Mode\")"
   ]
  },
  {
   "cell_type": "markdown",
   "id": "1923cc1a-2e8c-471b-b578-a002fd27fe7f",
   "metadata": {},
   "source": [
    "### Type of Service"
   ]
  },
  {
   "cell_type": "code",
   "execution_count": null,
   "id": "e9999254-f07b-4041-a474-880a2b026434",
   "metadata": {},
   "outputs": [],
   "source": [
    "make_line_chart(by_tos_long, y_col = \"upt\", color_col = \"TOS\")"
   ]
  },
  {
   "cell_type": "code",
   "execution_count": null,
   "id": "3c147008-7d5f-473a-886b-65bbd030de5b",
   "metadata": {},
   "outputs": [],
   "source": [
    "make_bar_chart(by_tos_long[by_tos_long[\"period_year\"] >= 2024], y_col = \"change_1yr\", color_col = \"TOS\")"
   ]
  },
  {
   "cell_type": "code",
   "execution_count": null,
   "id": "ceee122d-99ba-4fc6-962e-d6182089d547",
   "metadata": {},
   "outputs": [],
   "source": []
  }
 ],
 "metadata": {
  "kernelspec": {
   "display_name": "Python 3 (ipykernel)",
   "language": "python",
   "name": "python3"
  },
  "language_info": {
   "codemirror_mode": {
    "name": "ipython",
    "version": 3
   },
   "file_extension": ".py",
   "mimetype": "text/x-python",
   "name": "python",
   "nbconvert_exporter": "python",
   "pygments_lexer": "ipython3",
   "version": "3.11.6"
  }
 },
 "nbformat": 4,
 "nbformat_minor": 5
}
