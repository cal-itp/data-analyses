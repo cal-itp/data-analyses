{
 "cells": [
  {
   "cell_type": "code",
   "execution_count": 1,
   "id": "15e15e64-5776-4b05-813d-22d1d58379d8",
   "metadata": {},
   "outputs": [],
   "source": [
    "import sys\n",
    "sys.path.append(\"../bus_service_increase\") \n",
    "sys.path.append(\"../starter_kit\") # to test out style_df function"
   ]
  },
  {
   "cell_type": "code",
   "execution_count": 2,
   "id": "39433d1d-c54e-475c-878e-78c992d0eb58",
   "metadata": {},
   "outputs": [],
   "source": [
    "%%capture\n",
    "import warnings\n",
    "warnings.filterwarnings('ignore')\n",
    "\n",
    "import altair as alt\n",
    "import calitp_data_analysis.magics\n",
    "import pandas as pd\n",
    "\n",
    "from IPython.display import display, HTML, Markdown\n",
    "\n",
    "from bus_service_utils import chart_utils\n",
    "from calitp_data_analysis import calitp_color_palette as cp\n",
    "from update_vars import PUBLIC_FILENAME, YEAR, MONTH\n",
    "from explore_monthly_ridership_by_rtpa import sum_by_group\n",
    "from _starterkit_utils import style_df\n",
    "#from monthly_ridership_by_rtpa import get_percent_change\n",
    "#from shared_utils.rt_dates import MONTH_DICT\n",
    "\n",
    "#Temp file path for testing\n",
    "GCS_FILE_PATH = \"gs://calitp-analytics-data/data-analyses/ntd/\"\n",
    "\n",
    "#alt.renderers.enable(\"html\")\n",
    "alt.data_transformers.enable('default', max_rows=None)"
   ]
  },
  {
   "cell_type": "code",
   "execution_count": 3,
   "id": "cf5b7b68-3630-4a65-9a24-fa8ceadc48a0",
   "metadata": {
    "tags": []
   },
   "outputs": [],
   "source": [
    "pd.set_option(\"display.max_rows\", None)"
   ]
  },
  {
   "cell_type": "code",
   "execution_count": 4,
   "id": "798b9f83-ee62-489d-bc7c-9d1542af0a29",
   "metadata": {
    "tags": [
     "parameters"
    ]
   },
   "outputs": [],
   "source": [
    "# parameters cell for local\n",
    "rtpa = \"Metropolitan Transportation Commission\" # lots of reporters\n",
    "#rtpa = \"Butte County Association of Governments\" # 2 reporters \n",
    "#rtpa = \"San Joaquin Council of Governments\" # 4 reporters"
   ]
  },
  {
   "cell_type": "code",
   "execution_count": 5,
   "id": "f649dd2e-d38b-439c-94cd-a7480dc77511",
   "metadata": {},
   "outputs": [
    {
     "name": "stdout",
     "output_type": "stream",
     "text": [
      "{\"rtpa\": \"Metropolitan Transportation Commission\"}\n"
     ]
    }
   ],
   "source": [
    "%%capture_parameters\n",
    "rtpa"
   ]
  },
  {
   "cell_type": "markdown",
   "id": "55399567-a200-4fd1-873d-dec845e8cc9b",
   "metadata": {},
   "source": [
    "---"
   ]
  },
  {
   "cell_type": "markdown",
   "id": "77ec2bbf-2423-4135-9959-ecbbe2d5bd5a",
   "metadata": {},
   "source": [
    "## Update `produce_ntd_monthly_ridership_by_rtpa` function"
   ]
  },
  {
   "cell_type": "code",
   "execution_count": 6,
   "id": "3ab5ab69-fa1b-4eb5-893c-ac051206432c",
   "metadata": {
    "tags": []
   },
   "outputs": [],
   "source": [
    "from calitp_data_analysis.tables import tbls\n",
    "from siuba import _, collect, count, filter, show_query, select, distinct"
   ]
  },
  {
   "cell_type": "code",
   "execution_count": 8,
   "id": "10a72005-39a1-464f-89e2-cc122d4f9137",
   "metadata": {
    "tags": []
   },
   "outputs": [],
   "source": [
    "from annual_ridership_report.annual_ridership_module import ntd_id_to_rtpa_crosswalk"
   ]
  },
  {
   "cell_type": "code",
   "execution_count": 9,
   "id": "563ddea2-b6f3-4c7b-8ee8-9f3beb28a29f",
   "metadata": {
    "tags": []
   },
   "outputs": [],
   "source": [
    "xwalk_no_split = ntd_id_to_rtpa_crosswalk(split_scag=False)"
   ]
  },
  {
   "cell_type": "code",
   "execution_count": 10,
   "id": "bc7f67fa-b39d-443c-a2e7-71d0fbfedf06",
   "metadata": {
    "tags": []
   },
   "outputs": [],
   "source": [
    "# display(\n",
    "#     test.head(),\n",
    "#     test.info(),\n",
    "#     test[\"rtpa_name\"].value_counts()\n",
    "# )"
   ]
  },
  {
   "cell_type": "code",
   "execution_count": 11,
   "id": "10d22913-b801-48c6-ac1f-a1a372b3af2d",
   "metadata": {
    "tags": []
   },
   "outputs": [],
   "source": [
    "xwalk_w_split = ntd_id_to_rtpa_crosswalk(split_scag=True)"
   ]
  },
  {
   "cell_type": "code",
   "execution_count": 12,
   "id": "8282a915-68da-4d1f-89a8-80a139b5c910",
   "metadata": {
    "tags": []
   },
   "outputs": [
    {
     "data": {
      "text/plain": [
       "False"
      ]
     },
     "execution_count": 12,
     "metadata": {},
     "output_type": "execute_result"
    }
   ],
   "source": [
    "xwalk_no_split[\"rtpa_name\"].unique() == xwalk_w_split[\"rtpa_name\"].unique()"
   ]
  },
  {
   "cell_type": "code",
   "execution_count": 13,
   "id": "0400acad-375d-4ab5-8440-e4ef44d3383d",
   "metadata": {
    "tags": []
   },
   "outputs": [
    {
     "data": {
      "text/plain": [
       "['name',\n",
       " 'ntd_id_2022',\n",
       " 'rtpa_name',\n",
       " 'mpo_name',\n",
       " 'key',\n",
       " 'county_geography_name',\n",
       " 'organization_key']"
      ]
     },
     "execution_count": 13,
     "metadata": {},
     "output_type": "execute_result"
    }
   ],
   "source": [
    "xwalk_w_split.columns.tolist()"
   ]
  },
  {
   "cell_type": "code",
   "execution_count": 14,
   "id": "77f19135-2437-42e6-8a00-f6b58d4d6b8c",
   "metadata": {
    "tags": []
   },
   "outputs": [],
   "source": [
    "def produce_ntd_monthly_ridership_by_rtpa(\n",
    "    year: int,\n",
    "    month: int\n",
    ") -> pd.DataFrame:\n",
    "    \"\"\"\n",
    "    This function works with the warehouse `dim_monthly_ntd_ridership_with_adjustments` long data format.\n",
    "    Import NTD data from warehouse, filter to CA, \n",
    "    merge in crosswalk, checks for unmerged rows, then creates new columns for full Mode and TOS name.\n",
    "    \n",
    "    \"\"\"\n",
    "    \n",
    "    full_upt = (\n",
    "        tbls.mart_ntd.dim_monthly_ridership_with_adjustments() \n",
    "        >> collect()\n",
    "    ).rename(\n",
    "        columns = {\n",
    "            \"mode_type_of_service_status\": \"Status\",\n",
    "            \"primary_uza_name\":\"uza_name\"\n",
    "        })\n",
    "    \n",
    "    full_upt = full_upt[full_upt.agency.notna()].reset_index(drop=True)\n",
    "    \n",
    "    # full_upt.to_parquet(\n",
    "    #     f\"{GCS_FILE_PATH}ntd_monthly_ridership_{year}_{month}.parquet\"\n",
    "    # )\n",
    "    \n",
    "    ca = full_upt[(full_upt[\"uza_name\"].str.contains(\", CA\")) & \n",
    "            (full_upt.agency.notna())].reset_index(drop=True)\n",
    "    \n",
    "    # use new crosswalk function\n",
    "    crosswalk = ntd_id_to_rtpa_crosswalk(split_scag=True)\n",
    "    \n",
    "    df = pd.merge(\n",
    "        ca,\n",
    "        # Merging on too many columns can create problems \n",
    "        # because csvs and dtypes aren't stable / consistent \n",
    "        # for NTD ID, Legacy NTD ID, and UZA\n",
    "        crosswalk[[\"ntd_id_2022\", \"rtpa_name\"]],\n",
    "        left_on = \"ntd_id\",\n",
    "        right_on =\"ntd_id_2022\",\n",
    "        how = \"left\",\n",
    "        indicator = True\n",
    "    )\n",
    "    \n",
    "    print(df._merge.value_counts())\n",
    "    \n",
    "    if len(df[df._merge==\"left_only\"]) > 0:\n",
    "        raise ValueError(\"There are unmerged rows to crosswalk\")\n",
    "    \n",
    "    df = add_change_columns(df)\n",
    "    \n",
    "    df = df.assign(\n",
    "        Mode_full = df[\"mode\"].map(NTD_MODES),\n",
    "        TOS_full = df[\"tos\"].map(NTD_TOS)\n",
    "    )\n",
    "    \n",
    "    return df"
   ]
  },
  {
   "cell_type": "code",
   "execution_count": 22,
   "id": "d0c16d37-12c7-4208-ad31-653b788ac063",
   "metadata": {
    "tags": []
   },
   "outputs": [
    {
     "ename": "DatabaseError",
     "evalue": "(google.cloud.bigquery.dbapi.exceptions.DatabaseError) 400 POST https://bigquery.googleapis.com/bigquery/v2/projects/cal-itp-data-infra/queries?prettyPrint=false: No matching signature for operator > for argument types: STRING, INT64\n  Signature: T1 > T1\n    Unable to find common supertype for templated argument <T1>\n      Input types for <T1>: {INT64, STRING} at [3:7]\n[SQL: SELECT `mart_ntd.dim_monthly_ridership_with_adjustments_1`.`key`, `mart_ntd.dim_monthly_ridership_with_adjustments_1`.`ntd_id`, `mart_ntd.dim_monthly_ridership_with_adjustments_1`.`legacy_ntd_id`, `mart_ntd.dim_monthly_ridership_with_adjustments_1`.`agency`, `mart_ntd.dim_monthly_ridership_with_adjustments_1`.`reporter_type`, `mart_ntd.dim_monthly_ridership_with_adjustments_1`.`period_year_month`, `mart_ntd.dim_monthly_ridership_with_adjustments_1`.`period_year`, `mart_ntd.dim_monthly_ridership_with_adjustments_1`.`period_month`, `mart_ntd.dim_monthly_ridership_with_adjustments_1`.`primary_uza_name`, `mart_ntd.dim_monthly_ridership_with_adjustments_1`.`primary_uza_code`, `mart_ntd.dim_monthly_ridership_with_adjustments_1`.`_3_mode`, `mart_ntd.dim_monthly_ridership_with_adjustments_1`.`mode`, `mart_ntd.dim_monthly_ridership_with_adjustments_1`.`mode_name`, `mart_ntd.dim_monthly_ridership_with_adjustments_1`.`service_type`, `mart_ntd.dim_monthly_ridership_with_adjustments_1`.`mode_type_of_service_status`, `mart_ntd.dim_monthly_ridership_with_adjustments_1`.`tos`, `mart_ntd.dim_monthly_ridership_with_adjustments_1`.`upt`, `mart_ntd.dim_monthly_ridership_with_adjustments_1`.`vrm`, `mart_ntd.dim_monthly_ridership_with_adjustments_1`.`vrh`, `mart_ntd.dim_monthly_ridership_with_adjustments_1`.`voms`, `mart_ntd.dim_monthly_ridership_with_adjustments_1`.`_dt`, `mart_ntd.dim_monthly_ridership_with_adjustments_1`.`execution_ts` \nFROM `mart_ntd.dim_monthly_ridership_with_adjustments` AS `mart_ntd.dim_monthly_ridership_with_adjustments_1` \nWHERE `mart_ntd.dim_monthly_ridership_with_adjustments_1`.`period_year` > %(period_year_1:INT64)s]\n[parameters: {'period_year_1': 2018}]\n(Background on this error at: https://sqlalche.me/e/14/4xp6)",
     "output_type": "error",
     "traceback": [
      "\u001b[0;31m---------------------------------------------------------------------------\u001b[0m",
      "\u001b[0;31mBadRequest\u001b[0m                                Traceback (most recent call last)",
      "File \u001b[0;32m/opt/conda/lib/python3.11/site-packages/google/cloud/bigquery/dbapi/cursor.py:220\u001b[0m, in \u001b[0;36mCursor._execute\u001b[0;34m(self, formatted_operation, parameters, job_id, job_config, parameter_types)\u001b[0m\n\u001b[1;32m    219\u001b[0m     \u001b[38;5;28;01melse\u001b[39;00m:\n\u001b[0;32m--> 220\u001b[0m         rows \u001b[38;5;241m=\u001b[39m \u001b[43mclient\u001b[49m\u001b[38;5;241;43m.\u001b[39;49m\u001b[43mquery_and_wait\u001b[49m\u001b[43m(\u001b[49m\n\u001b[1;32m    221\u001b[0m \u001b[43m            \u001b[49m\u001b[43mformatted_operation\u001b[49m\u001b[43m,\u001b[49m\n\u001b[1;32m    222\u001b[0m \u001b[43m            \u001b[49m\u001b[43mjob_config\u001b[49m\u001b[38;5;241;43m=\u001b[39;49m\u001b[43mconfig\u001b[49m\u001b[43m,\u001b[49m\n\u001b[1;32m    223\u001b[0m \u001b[43m            \u001b[49m\u001b[43mpage_size\u001b[49m\u001b[38;5;241;43m=\u001b[39;49m\u001b[38;5;28;43mself\u001b[39;49m\u001b[38;5;241;43m.\u001b[39;49m\u001b[43marraysize\u001b[49m\u001b[43m,\u001b[49m\n\u001b[1;32m    224\u001b[0m \u001b[43m        \u001b[49m\u001b[43m)\u001b[49m\n\u001b[1;32m    225\u001b[0m \u001b[38;5;28;01mexcept\u001b[39;00m google\u001b[38;5;241m.\u001b[39mcloud\u001b[38;5;241m.\u001b[39mexceptions\u001b[38;5;241m.\u001b[39mGoogleCloudError \u001b[38;5;28;01mas\u001b[39;00m exc:\n",
      "File \u001b[0;32m/opt/conda/lib/python3.11/site-packages/google/cloud/bigquery/client.py:3605\u001b[0m, in \u001b[0;36mClient.query_and_wait\u001b[0;34m(self, query, job_config, location, project, api_timeout, wait_timeout, retry, job_retry, page_size, max_results)\u001b[0m\n\u001b[1;32m   3601\u001b[0m job_config \u001b[38;5;241m=\u001b[39m _job_helpers\u001b[38;5;241m.\u001b[39mjob_config_with_defaults(\n\u001b[1;32m   3602\u001b[0m     job_config, \u001b[38;5;28mself\u001b[39m\u001b[38;5;241m.\u001b[39m_default_query_job_config\n\u001b[1;32m   3603\u001b[0m )\n\u001b[0;32m-> 3605\u001b[0m \u001b[38;5;28;01mreturn\u001b[39;00m \u001b[43m_job_helpers\u001b[49m\u001b[38;5;241;43m.\u001b[39;49m\u001b[43mquery_and_wait\u001b[49m\u001b[43m(\u001b[49m\n\u001b[1;32m   3606\u001b[0m \u001b[43m    \u001b[49m\u001b[38;5;28;43mself\u001b[39;49m\u001b[43m,\u001b[49m\n\u001b[1;32m   3607\u001b[0m \u001b[43m    \u001b[49m\u001b[43mquery\u001b[49m\u001b[43m,\u001b[49m\n\u001b[1;32m   3608\u001b[0m \u001b[43m    \u001b[49m\u001b[43mjob_config\u001b[49m\u001b[38;5;241;43m=\u001b[39;49m\u001b[43mjob_config\u001b[49m\u001b[43m,\u001b[49m\n\u001b[1;32m   3609\u001b[0m \u001b[43m    \u001b[49m\u001b[43mlocation\u001b[49m\u001b[38;5;241;43m=\u001b[39;49m\u001b[43mlocation\u001b[49m\u001b[43m,\u001b[49m\n\u001b[1;32m   3610\u001b[0m \u001b[43m    \u001b[49m\u001b[43mproject\u001b[49m\u001b[38;5;241;43m=\u001b[39;49m\u001b[43mproject\u001b[49m\u001b[43m,\u001b[49m\n\u001b[1;32m   3611\u001b[0m \u001b[43m    \u001b[49m\u001b[43mapi_timeout\u001b[49m\u001b[38;5;241;43m=\u001b[39;49m\u001b[43mapi_timeout\u001b[49m\u001b[43m,\u001b[49m\n\u001b[1;32m   3612\u001b[0m \u001b[43m    \u001b[49m\u001b[43mwait_timeout\u001b[49m\u001b[38;5;241;43m=\u001b[39;49m\u001b[43mwait_timeout\u001b[49m\u001b[43m,\u001b[49m\n\u001b[1;32m   3613\u001b[0m \u001b[43m    \u001b[49m\u001b[43mretry\u001b[49m\u001b[38;5;241;43m=\u001b[39;49m\u001b[43mretry\u001b[49m\u001b[43m,\u001b[49m\n\u001b[1;32m   3614\u001b[0m \u001b[43m    \u001b[49m\u001b[43mjob_retry\u001b[49m\u001b[38;5;241;43m=\u001b[39;49m\u001b[43mjob_retry\u001b[49m\u001b[43m,\u001b[49m\n\u001b[1;32m   3615\u001b[0m \u001b[43m    \u001b[49m\u001b[43mpage_size\u001b[49m\u001b[38;5;241;43m=\u001b[39;49m\u001b[43mpage_size\u001b[49m\u001b[43m,\u001b[49m\n\u001b[1;32m   3616\u001b[0m \u001b[43m    \u001b[49m\u001b[43mmax_results\u001b[49m\u001b[38;5;241;43m=\u001b[39;49m\u001b[43mmax_results\u001b[49m\u001b[43m,\u001b[49m\n\u001b[1;32m   3617\u001b[0m \u001b[43m\u001b[49m\u001b[43m)\u001b[49m\n",
      "File \u001b[0;32m/opt/conda/lib/python3.11/site-packages/google/cloud/bigquery/_job_helpers.py:509\u001b[0m, in \u001b[0;36mquery_and_wait\u001b[0;34m(client, query, job_config, location, project, api_timeout, wait_timeout, retry, job_retry, page_size, max_results)\u001b[0m\n\u001b[1;32m    508\u001b[0m \u001b[38;5;28;01mif\u001b[39;00m job_retry \u001b[38;5;129;01mis\u001b[39;00m \u001b[38;5;129;01mnot\u001b[39;00m \u001b[38;5;28;01mNone\u001b[39;00m:\n\u001b[0;32m--> 509\u001b[0m     \u001b[38;5;28;01mreturn\u001b[39;00m \u001b[43mjob_retry\u001b[49m\u001b[43m(\u001b[49m\u001b[43mdo_query\u001b[49m\u001b[43m)\u001b[49m\u001b[43m(\u001b[49m\u001b[43m)\u001b[49m\n\u001b[1;32m    510\u001b[0m \u001b[38;5;28;01melse\u001b[39;00m:\n",
      "File \u001b[0;32m/opt/conda/lib/python3.11/site-packages/google/api_core/retry/retry_unary.py:293\u001b[0m, in \u001b[0;36mRetry.__call__.<locals>.retry_wrapped_func\u001b[0;34m(*args, **kwargs)\u001b[0m\n\u001b[1;32m    290\u001b[0m sleep_generator \u001b[38;5;241m=\u001b[39m exponential_sleep_generator(\n\u001b[1;32m    291\u001b[0m     \u001b[38;5;28mself\u001b[39m\u001b[38;5;241m.\u001b[39m_initial, \u001b[38;5;28mself\u001b[39m\u001b[38;5;241m.\u001b[39m_maximum, multiplier\u001b[38;5;241m=\u001b[39m\u001b[38;5;28mself\u001b[39m\u001b[38;5;241m.\u001b[39m_multiplier\n\u001b[1;32m    292\u001b[0m )\n\u001b[0;32m--> 293\u001b[0m \u001b[38;5;28;01mreturn\u001b[39;00m \u001b[43mretry_target\u001b[49m\u001b[43m(\u001b[49m\n\u001b[1;32m    294\u001b[0m \u001b[43m    \u001b[49m\u001b[43mtarget\u001b[49m\u001b[43m,\u001b[49m\n\u001b[1;32m    295\u001b[0m \u001b[43m    \u001b[49m\u001b[38;5;28;43mself\u001b[39;49m\u001b[38;5;241;43m.\u001b[39;49m\u001b[43m_predicate\u001b[49m\u001b[43m,\u001b[49m\n\u001b[1;32m    296\u001b[0m \u001b[43m    \u001b[49m\u001b[43msleep_generator\u001b[49m\u001b[43m,\u001b[49m\n\u001b[1;32m    297\u001b[0m \u001b[43m    \u001b[49m\u001b[43mtimeout\u001b[49m\u001b[38;5;241;43m=\u001b[39;49m\u001b[38;5;28;43mself\u001b[39;49m\u001b[38;5;241;43m.\u001b[39;49m\u001b[43m_timeout\u001b[49m\u001b[43m,\u001b[49m\n\u001b[1;32m    298\u001b[0m \u001b[43m    \u001b[49m\u001b[43mon_error\u001b[49m\u001b[38;5;241;43m=\u001b[39;49m\u001b[43mon_error\u001b[49m\u001b[43m,\u001b[49m\n\u001b[1;32m    299\u001b[0m \u001b[43m\u001b[49m\u001b[43m)\u001b[49m\n",
      "File \u001b[0;32m/opt/conda/lib/python3.11/site-packages/google/api_core/retry/retry_unary.py:153\u001b[0m, in \u001b[0;36mretry_target\u001b[0;34m(target, predicate, sleep_generator, timeout, on_error, exception_factory, **kwargs)\u001b[0m\n\u001b[1;32m    151\u001b[0m \u001b[38;5;28;01mexcept\u001b[39;00m \u001b[38;5;167;01mException\u001b[39;00m \u001b[38;5;28;01mas\u001b[39;00m exc:\n\u001b[1;32m    152\u001b[0m     \u001b[38;5;66;03m# defer to shared logic for handling errors\u001b[39;00m\n\u001b[0;32m--> 153\u001b[0m     \u001b[43m_retry_error_helper\u001b[49m\u001b[43m(\u001b[49m\n\u001b[1;32m    154\u001b[0m \u001b[43m        \u001b[49m\u001b[43mexc\u001b[49m\u001b[43m,\u001b[49m\n\u001b[1;32m    155\u001b[0m \u001b[43m        \u001b[49m\u001b[43mdeadline\u001b[49m\u001b[43m,\u001b[49m\n\u001b[1;32m    156\u001b[0m \u001b[43m        \u001b[49m\u001b[43msleep\u001b[49m\u001b[43m,\u001b[49m\n\u001b[1;32m    157\u001b[0m \u001b[43m        \u001b[49m\u001b[43merror_list\u001b[49m\u001b[43m,\u001b[49m\n\u001b[1;32m    158\u001b[0m \u001b[43m        \u001b[49m\u001b[43mpredicate\u001b[49m\u001b[43m,\u001b[49m\n\u001b[1;32m    159\u001b[0m \u001b[43m        \u001b[49m\u001b[43mon_error\u001b[49m\u001b[43m,\u001b[49m\n\u001b[1;32m    160\u001b[0m \u001b[43m        \u001b[49m\u001b[43mexception_factory\u001b[49m\u001b[43m,\u001b[49m\n\u001b[1;32m    161\u001b[0m \u001b[43m        \u001b[49m\u001b[43mtimeout\u001b[49m\u001b[43m,\u001b[49m\n\u001b[1;32m    162\u001b[0m \u001b[43m    \u001b[49m\u001b[43m)\u001b[49m\n\u001b[1;32m    163\u001b[0m     \u001b[38;5;66;03m# if exception not raised, sleep before next attempt\u001b[39;00m\n",
      "File \u001b[0;32m/opt/conda/lib/python3.11/site-packages/google/api_core/retry/retry_base.py:212\u001b[0m, in \u001b[0;36m_retry_error_helper\u001b[0;34m(exc, deadline, next_sleep, error_list, predicate_fn, on_error_fn, exc_factory_fn, original_timeout)\u001b[0m\n\u001b[1;32m    207\u001b[0m     final_exc, source_exc \u001b[38;5;241m=\u001b[39m exc_factory_fn(\n\u001b[1;32m    208\u001b[0m         error_list,\n\u001b[1;32m    209\u001b[0m         RetryFailureReason\u001b[38;5;241m.\u001b[39mNON_RETRYABLE_ERROR,\n\u001b[1;32m    210\u001b[0m         original_timeout,\n\u001b[1;32m    211\u001b[0m     )\n\u001b[0;32m--> 212\u001b[0m     \u001b[38;5;28;01mraise\u001b[39;00m final_exc \u001b[38;5;28;01mfrom\u001b[39;00m\u001b[38;5;250m \u001b[39m\u001b[38;5;21;01msource_exc\u001b[39;00m\n\u001b[1;32m    213\u001b[0m \u001b[38;5;28;01mif\u001b[39;00m on_error_fn \u001b[38;5;129;01mis\u001b[39;00m \u001b[38;5;129;01mnot\u001b[39;00m \u001b[38;5;28;01mNone\u001b[39;00m:\n",
      "File \u001b[0;32m/opt/conda/lib/python3.11/site-packages/google/api_core/retry/retry_unary.py:144\u001b[0m, in \u001b[0;36mretry_target\u001b[0;34m(target, predicate, sleep_generator, timeout, on_error, exception_factory, **kwargs)\u001b[0m\n\u001b[1;32m    143\u001b[0m \u001b[38;5;28;01mtry\u001b[39;00m:\n\u001b[0;32m--> 144\u001b[0m     result \u001b[38;5;241m=\u001b[39m \u001b[43mtarget\u001b[49m\u001b[43m(\u001b[49m\u001b[43m)\u001b[49m\n\u001b[1;32m    145\u001b[0m     \u001b[38;5;28;01mif\u001b[39;00m inspect\u001b[38;5;241m.\u001b[39misawaitable(result):\n",
      "File \u001b[0;32m/opt/conda/lib/python3.11/site-packages/google/cloud/bigquery/_job_helpers.py:450\u001b[0m, in \u001b[0;36mquery_and_wait.<locals>.do_query\u001b[0;34m()\u001b[0m\n\u001b[1;32m    449\u001b[0m \u001b[38;5;28;01mif\u001b[39;00m retry \u001b[38;5;129;01mis\u001b[39;00m \u001b[38;5;129;01mnot\u001b[39;00m \u001b[38;5;28;01mNone\u001b[39;00m:\n\u001b[0;32m--> 450\u001b[0m     response \u001b[38;5;241m=\u001b[39m \u001b[43mretry\u001b[49m\u001b[43m(\u001b[49m\u001b[43mclient\u001b[49m\u001b[38;5;241;43m.\u001b[39;49m\u001b[43m_call_api\u001b[49m\u001b[43m)\u001b[49m\u001b[43m(\u001b[49m\n\u001b[1;32m    451\u001b[0m \u001b[43m        \u001b[49m\u001b[43mretry\u001b[49m\u001b[38;5;241;43m=\u001b[39;49m\u001b[38;5;28;43;01mNone\u001b[39;49;00m\u001b[43m,\u001b[49m\u001b[43m  \u001b[49m\u001b[38;5;66;43;03m# We're calling the retry decorator ourselves.\u001b[39;49;00m\n\u001b[1;32m    452\u001b[0m \u001b[43m        \u001b[49m\u001b[43mspan_name\u001b[49m\u001b[38;5;241;43m=\u001b[39;49m\u001b[38;5;124;43m\"\u001b[39;49m\u001b[38;5;124;43mBigQuery.query\u001b[39;49m\u001b[38;5;124;43m\"\u001b[39;49m\u001b[43m,\u001b[49m\n\u001b[1;32m    453\u001b[0m \u001b[43m        \u001b[49m\u001b[43mspan_attributes\u001b[49m\u001b[38;5;241;43m=\u001b[39;49m\u001b[43mspan_attributes\u001b[49m\u001b[43m,\u001b[49m\n\u001b[1;32m    454\u001b[0m \u001b[43m        \u001b[49m\u001b[43mmethod\u001b[49m\u001b[38;5;241;43m=\u001b[39;49m\u001b[38;5;124;43m\"\u001b[39;49m\u001b[38;5;124;43mPOST\u001b[39;49m\u001b[38;5;124;43m\"\u001b[39;49m\u001b[43m,\u001b[49m\n\u001b[1;32m    455\u001b[0m \u001b[43m        \u001b[49m\u001b[43mpath\u001b[49m\u001b[38;5;241;43m=\u001b[39;49m\u001b[43mpath\u001b[49m\u001b[43m,\u001b[49m\n\u001b[1;32m    456\u001b[0m \u001b[43m        \u001b[49m\u001b[43mdata\u001b[49m\u001b[38;5;241;43m=\u001b[39;49m\u001b[43mrequest_body\u001b[49m\u001b[43m,\u001b[49m\n\u001b[1;32m    457\u001b[0m \u001b[43m        \u001b[49m\u001b[43mtimeout\u001b[49m\u001b[38;5;241;43m=\u001b[39;49m\u001b[43mapi_timeout\u001b[49m\u001b[43m,\u001b[49m\n\u001b[1;32m    458\u001b[0m \u001b[43m    \u001b[49m\u001b[43m)\u001b[49m\n\u001b[1;32m    459\u001b[0m \u001b[38;5;28;01melse\u001b[39;00m:\n",
      "File \u001b[0;32m/opt/conda/lib/python3.11/site-packages/google/api_core/retry/retry_unary.py:293\u001b[0m, in \u001b[0;36mRetry.__call__.<locals>.retry_wrapped_func\u001b[0;34m(*args, **kwargs)\u001b[0m\n\u001b[1;32m    290\u001b[0m sleep_generator \u001b[38;5;241m=\u001b[39m exponential_sleep_generator(\n\u001b[1;32m    291\u001b[0m     \u001b[38;5;28mself\u001b[39m\u001b[38;5;241m.\u001b[39m_initial, \u001b[38;5;28mself\u001b[39m\u001b[38;5;241m.\u001b[39m_maximum, multiplier\u001b[38;5;241m=\u001b[39m\u001b[38;5;28mself\u001b[39m\u001b[38;5;241m.\u001b[39m_multiplier\n\u001b[1;32m    292\u001b[0m )\n\u001b[0;32m--> 293\u001b[0m \u001b[38;5;28;01mreturn\u001b[39;00m \u001b[43mretry_target\u001b[49m\u001b[43m(\u001b[49m\n\u001b[1;32m    294\u001b[0m \u001b[43m    \u001b[49m\u001b[43mtarget\u001b[49m\u001b[43m,\u001b[49m\n\u001b[1;32m    295\u001b[0m \u001b[43m    \u001b[49m\u001b[38;5;28;43mself\u001b[39;49m\u001b[38;5;241;43m.\u001b[39;49m\u001b[43m_predicate\u001b[49m\u001b[43m,\u001b[49m\n\u001b[1;32m    296\u001b[0m \u001b[43m    \u001b[49m\u001b[43msleep_generator\u001b[49m\u001b[43m,\u001b[49m\n\u001b[1;32m    297\u001b[0m \u001b[43m    \u001b[49m\u001b[43mtimeout\u001b[49m\u001b[38;5;241;43m=\u001b[39;49m\u001b[38;5;28;43mself\u001b[39;49m\u001b[38;5;241;43m.\u001b[39;49m\u001b[43m_timeout\u001b[49m\u001b[43m,\u001b[49m\n\u001b[1;32m    298\u001b[0m \u001b[43m    \u001b[49m\u001b[43mon_error\u001b[49m\u001b[38;5;241;43m=\u001b[39;49m\u001b[43mon_error\u001b[49m\u001b[43m,\u001b[49m\n\u001b[1;32m    299\u001b[0m \u001b[43m\u001b[49m\u001b[43m)\u001b[49m\n",
      "File \u001b[0;32m/opt/conda/lib/python3.11/site-packages/google/api_core/retry/retry_unary.py:153\u001b[0m, in \u001b[0;36mretry_target\u001b[0;34m(target, predicate, sleep_generator, timeout, on_error, exception_factory, **kwargs)\u001b[0m\n\u001b[1;32m    151\u001b[0m \u001b[38;5;28;01mexcept\u001b[39;00m \u001b[38;5;167;01mException\u001b[39;00m \u001b[38;5;28;01mas\u001b[39;00m exc:\n\u001b[1;32m    152\u001b[0m     \u001b[38;5;66;03m# defer to shared logic for handling errors\u001b[39;00m\n\u001b[0;32m--> 153\u001b[0m     \u001b[43m_retry_error_helper\u001b[49m\u001b[43m(\u001b[49m\n\u001b[1;32m    154\u001b[0m \u001b[43m        \u001b[49m\u001b[43mexc\u001b[49m\u001b[43m,\u001b[49m\n\u001b[1;32m    155\u001b[0m \u001b[43m        \u001b[49m\u001b[43mdeadline\u001b[49m\u001b[43m,\u001b[49m\n\u001b[1;32m    156\u001b[0m \u001b[43m        \u001b[49m\u001b[43msleep\u001b[49m\u001b[43m,\u001b[49m\n\u001b[1;32m    157\u001b[0m \u001b[43m        \u001b[49m\u001b[43merror_list\u001b[49m\u001b[43m,\u001b[49m\n\u001b[1;32m    158\u001b[0m \u001b[43m        \u001b[49m\u001b[43mpredicate\u001b[49m\u001b[43m,\u001b[49m\n\u001b[1;32m    159\u001b[0m \u001b[43m        \u001b[49m\u001b[43mon_error\u001b[49m\u001b[43m,\u001b[49m\n\u001b[1;32m    160\u001b[0m \u001b[43m        \u001b[49m\u001b[43mexception_factory\u001b[49m\u001b[43m,\u001b[49m\n\u001b[1;32m    161\u001b[0m \u001b[43m        \u001b[49m\u001b[43mtimeout\u001b[49m\u001b[43m,\u001b[49m\n\u001b[1;32m    162\u001b[0m \u001b[43m    \u001b[49m\u001b[43m)\u001b[49m\n\u001b[1;32m    163\u001b[0m     \u001b[38;5;66;03m# if exception not raised, sleep before next attempt\u001b[39;00m\n",
      "File \u001b[0;32m/opt/conda/lib/python3.11/site-packages/google/api_core/retry/retry_base.py:212\u001b[0m, in \u001b[0;36m_retry_error_helper\u001b[0;34m(exc, deadline, next_sleep, error_list, predicate_fn, on_error_fn, exc_factory_fn, original_timeout)\u001b[0m\n\u001b[1;32m    207\u001b[0m     final_exc, source_exc \u001b[38;5;241m=\u001b[39m exc_factory_fn(\n\u001b[1;32m    208\u001b[0m         error_list,\n\u001b[1;32m    209\u001b[0m         RetryFailureReason\u001b[38;5;241m.\u001b[39mNON_RETRYABLE_ERROR,\n\u001b[1;32m    210\u001b[0m         original_timeout,\n\u001b[1;32m    211\u001b[0m     )\n\u001b[0;32m--> 212\u001b[0m     \u001b[38;5;28;01mraise\u001b[39;00m final_exc \u001b[38;5;28;01mfrom\u001b[39;00m\u001b[38;5;250m \u001b[39m\u001b[38;5;21;01msource_exc\u001b[39;00m\n\u001b[1;32m    213\u001b[0m \u001b[38;5;28;01mif\u001b[39;00m on_error_fn \u001b[38;5;129;01mis\u001b[39;00m \u001b[38;5;129;01mnot\u001b[39;00m \u001b[38;5;28;01mNone\u001b[39;00m:\n",
      "File \u001b[0;32m/opt/conda/lib/python3.11/site-packages/google/api_core/retry/retry_unary.py:144\u001b[0m, in \u001b[0;36mretry_target\u001b[0;34m(target, predicate, sleep_generator, timeout, on_error, exception_factory, **kwargs)\u001b[0m\n\u001b[1;32m    143\u001b[0m \u001b[38;5;28;01mtry\u001b[39;00m:\n\u001b[0;32m--> 144\u001b[0m     result \u001b[38;5;241m=\u001b[39m \u001b[43mtarget\u001b[49m\u001b[43m(\u001b[49m\u001b[43m)\u001b[49m\n\u001b[1;32m    145\u001b[0m     \u001b[38;5;28;01mif\u001b[39;00m inspect\u001b[38;5;241m.\u001b[39misawaitable(result):\n",
      "File \u001b[0;32m/opt/conda/lib/python3.11/site-packages/google/cloud/bigquery/client.py:837\u001b[0m, in \u001b[0;36mClient._call_api\u001b[0;34m(self, retry, span_name, span_attributes, job_ref, headers, **kwargs)\u001b[0m\n\u001b[1;32m    834\u001b[0m     \u001b[38;5;28;01mwith\u001b[39;00m create_span(\n\u001b[1;32m    835\u001b[0m         name\u001b[38;5;241m=\u001b[39mspan_name, attributes\u001b[38;5;241m=\u001b[39mspan_attributes, client\u001b[38;5;241m=\u001b[39m\u001b[38;5;28mself\u001b[39m, job_ref\u001b[38;5;241m=\u001b[39mjob_ref\n\u001b[1;32m    836\u001b[0m     ):\n\u001b[0;32m--> 837\u001b[0m         \u001b[38;5;28;01mreturn\u001b[39;00m \u001b[43mcall\u001b[49m\u001b[43m(\u001b[49m\u001b[43m)\u001b[49m\n\u001b[1;32m    839\u001b[0m \u001b[38;5;28;01mreturn\u001b[39;00m call()\n",
      "File \u001b[0;32m/opt/conda/lib/python3.11/site-packages/google/cloud/_http/__init__.py:494\u001b[0m, in \u001b[0;36mJSONConnection.api_request\u001b[0;34m(self, method, path, query_params, data, content_type, headers, api_base_url, api_version, expect_json, _target_object, timeout, extra_api_info)\u001b[0m\n\u001b[1;32m    493\u001b[0m \u001b[38;5;28;01mif\u001b[39;00m \u001b[38;5;129;01mnot\u001b[39;00m \u001b[38;5;241m200\u001b[39m \u001b[38;5;241m<\u001b[39m\u001b[38;5;241m=\u001b[39m response\u001b[38;5;241m.\u001b[39mstatus_code \u001b[38;5;241m<\u001b[39m \u001b[38;5;241m300\u001b[39m:\n\u001b[0;32m--> 494\u001b[0m     \u001b[38;5;28;01mraise\u001b[39;00m exceptions\u001b[38;5;241m.\u001b[39mfrom_http_response(response)\n\u001b[1;32m    496\u001b[0m \u001b[38;5;28;01mif\u001b[39;00m expect_json \u001b[38;5;129;01mand\u001b[39;00m response\u001b[38;5;241m.\u001b[39mcontent:\n",
      "\u001b[0;31mBadRequest\u001b[0m: 400 POST https://bigquery.googleapis.com/bigquery/v2/projects/cal-itp-data-infra/queries?prettyPrint=false: No matching signature for operator > for argument types: STRING, INT64\n  Signature: T1 > T1\n    Unable to find common supertype for templated argument <T1>\n      Input types for <T1>: {INT64, STRING} at [3:7]",
      "\nDuring handling of the above exception, another exception occurred:\n",
      "\u001b[0;31mDatabaseError\u001b[0m                             Traceback (most recent call last)",
      "File \u001b[0;32m/opt/conda/lib/python3.11/site-packages/sqlalchemy/engine/base.py:1900\u001b[0m, in \u001b[0;36mConnection._execute_context\u001b[0;34m(self, dialect, constructor, statement, parameters, execution_options, *args, **kw)\u001b[0m\n\u001b[1;32m   1899\u001b[0m     \u001b[38;5;28;01mif\u001b[39;00m \u001b[38;5;129;01mnot\u001b[39;00m evt_handled:\n\u001b[0;32m-> 1900\u001b[0m         \u001b[38;5;28;43mself\u001b[39;49m\u001b[38;5;241;43m.\u001b[39;49m\u001b[43mdialect\u001b[49m\u001b[38;5;241;43m.\u001b[39;49m\u001b[43mdo_execute\u001b[49m\u001b[43m(\u001b[49m\n\u001b[1;32m   1901\u001b[0m \u001b[43m            \u001b[49m\u001b[43mcursor\u001b[49m\u001b[43m,\u001b[49m\u001b[43m \u001b[49m\u001b[43mstatement\u001b[49m\u001b[43m,\u001b[49m\u001b[43m \u001b[49m\u001b[43mparameters\u001b[49m\u001b[43m,\u001b[49m\u001b[43m \u001b[49m\u001b[43mcontext\u001b[49m\n\u001b[1;32m   1902\u001b[0m \u001b[43m        \u001b[49m\u001b[43m)\u001b[49m\n\u001b[1;32m   1904\u001b[0m \u001b[38;5;28;01mif\u001b[39;00m \u001b[38;5;28mself\u001b[39m\u001b[38;5;241m.\u001b[39m_has_events \u001b[38;5;129;01mor\u001b[39;00m \u001b[38;5;28mself\u001b[39m\u001b[38;5;241m.\u001b[39mengine\u001b[38;5;241m.\u001b[39m_has_events:\n",
      "File \u001b[0;32m/opt/conda/lib/python3.11/site-packages/sqlalchemy/engine/default.py:736\u001b[0m, in \u001b[0;36mDefaultDialect.do_execute\u001b[0;34m(self, cursor, statement, parameters, context)\u001b[0m\n\u001b[1;32m    735\u001b[0m \u001b[38;5;28;01mdef\u001b[39;00m\u001b[38;5;250m \u001b[39m\u001b[38;5;21mdo_execute\u001b[39m(\u001b[38;5;28mself\u001b[39m, cursor, statement, parameters, context\u001b[38;5;241m=\u001b[39m\u001b[38;5;28;01mNone\u001b[39;00m):\n\u001b[0;32m--> 736\u001b[0m     \u001b[43mcursor\u001b[49m\u001b[38;5;241;43m.\u001b[39;49m\u001b[43mexecute\u001b[49m\u001b[43m(\u001b[49m\u001b[43mstatement\u001b[49m\u001b[43m,\u001b[49m\u001b[43m \u001b[49m\u001b[43mparameters\u001b[49m\u001b[43m)\u001b[49m\n",
      "File \u001b[0;32m/opt/conda/lib/python3.11/site-packages/google/cloud/bigquery/dbapi/_helpers.py:496\u001b[0m, in \u001b[0;36mraise_on_closed.<locals>._raise_on_closed.<locals>.with_closed_check\u001b[0;34m(self, *args, **kwargs)\u001b[0m\n\u001b[1;32m    495\u001b[0m     \u001b[38;5;28;01mraise\u001b[39;00m exc_class(exc_msg)\n\u001b[0;32m--> 496\u001b[0m \u001b[38;5;28;01mreturn\u001b[39;00m \u001b[43mmethod\u001b[49m\u001b[43m(\u001b[49m\u001b[38;5;28;43mself\u001b[39;49m\u001b[43m,\u001b[49m\u001b[43m \u001b[49m\u001b[38;5;241;43m*\u001b[39;49m\u001b[43margs\u001b[49m\u001b[43m,\u001b[49m\u001b[43m \u001b[49m\u001b[38;5;241;43m*\u001b[39;49m\u001b[38;5;241;43m*\u001b[39;49m\u001b[43mkwargs\u001b[49m\u001b[43m)\u001b[49m\n",
      "File \u001b[0;32m/opt/conda/lib/python3.11/site-packages/google/cloud/bigquery/dbapi/cursor.py:189\u001b[0m, in \u001b[0;36mCursor.execute\u001b[0;34m(self, operation, parameters, job_id, job_config)\u001b[0m\n\u001b[1;32m    188\u001b[0m formatted_operation, parameter_types \u001b[38;5;241m=\u001b[39m _format_operation(operation, parameters)\n\u001b[0;32m--> 189\u001b[0m \u001b[38;5;28;43mself\u001b[39;49m\u001b[38;5;241;43m.\u001b[39;49m\u001b[43m_execute\u001b[49m\u001b[43m(\u001b[49m\n\u001b[1;32m    190\u001b[0m \u001b[43m    \u001b[49m\u001b[43mformatted_operation\u001b[49m\u001b[43m,\u001b[49m\u001b[43m \u001b[49m\u001b[43mparameters\u001b[49m\u001b[43m,\u001b[49m\u001b[43m \u001b[49m\u001b[43mjob_id\u001b[49m\u001b[43m,\u001b[49m\u001b[43m \u001b[49m\u001b[43mjob_config\u001b[49m\u001b[43m,\u001b[49m\u001b[43m \u001b[49m\u001b[43mparameter_types\u001b[49m\n\u001b[1;32m    191\u001b[0m \u001b[43m\u001b[49m\u001b[43m)\u001b[49m\n",
      "File \u001b[0;32m/opt/conda/lib/python3.11/site-packages/google/cloud/bigquery/dbapi/cursor.py:226\u001b[0m, in \u001b[0;36mCursor._execute\u001b[0;34m(self, formatted_operation, parameters, job_id, job_config, parameter_types)\u001b[0m\n\u001b[1;32m    225\u001b[0m \u001b[38;5;28;01mexcept\u001b[39;00m google\u001b[38;5;241m.\u001b[39mcloud\u001b[38;5;241m.\u001b[39mexceptions\u001b[38;5;241m.\u001b[39mGoogleCloudError \u001b[38;5;28;01mas\u001b[39;00m exc:\n\u001b[0;32m--> 226\u001b[0m     \u001b[38;5;28;01mraise\u001b[39;00m exceptions\u001b[38;5;241m.\u001b[39mDatabaseError(exc)\n\u001b[1;32m    228\u001b[0m \u001b[38;5;28mself\u001b[39m\u001b[38;5;241m.\u001b[39m_query_rows \u001b[38;5;241m=\u001b[39m rows\n",
      "\u001b[0;31mDatabaseError\u001b[0m: 400 POST https://bigquery.googleapis.com/bigquery/v2/projects/cal-itp-data-infra/queries?prettyPrint=false: No matching signature for operator > for argument types: STRING, INT64\n  Signature: T1 > T1\n    Unable to find common supertype for templated argument <T1>\n      Input types for <T1>: {INT64, STRING} at [3:7]",
      "\nThe above exception was the direct cause of the following exception:\n",
      "\u001b[0;31mDatabaseError\u001b[0m                             Traceback (most recent call last)",
      "Cell \u001b[0;32mIn[22], line 2\u001b[0m\n\u001b[1;32m      1\u001b[0m full_upt \u001b[38;5;241m=\u001b[39m (\n\u001b[0;32m----> 2\u001b[0m         \u001b[43mtbls\u001b[49m\u001b[38;5;241;43m.\u001b[39;49m\u001b[43mmart_ntd\u001b[49m\u001b[38;5;241;43m.\u001b[39;49m\u001b[43mdim_monthly_ridership_with_adjustments\u001b[49m\u001b[43m(\u001b[49m\u001b[43m)\u001b[49m\n\u001b[1;32m      3\u001b[0m \u001b[43m        \u001b[49m\u001b[38;5;241;43m>>\u001b[39;49m\u001b[43m \u001b[49m\u001b[38;5;28;43mfilter\u001b[39;49m\u001b[43m(\u001b[49m\n\u001b[1;32m      4\u001b[0m \u001b[43m            \u001b[49m\u001b[43m_\u001b[49m\u001b[38;5;241;43m.\u001b[39;49m\u001b[43mperiod_year\u001b[49m\u001b[43m \u001b[49m\u001b[38;5;241;43m>\u001b[39;49m\u001b[43m \u001b[49m\u001b[38;5;241;43m2018\u001b[39;49m\n\u001b[1;32m      5\u001b[0m \u001b[43m        \u001b[49m\u001b[43m)\u001b[49m\n\u001b[1;32m      6\u001b[0m \u001b[43m        \u001b[49m\u001b[38;5;241;43m>>\u001b[39;49m\u001b[43m \u001b[49m\u001b[43mcollect\u001b[49m\u001b[43m(\u001b[49m\u001b[43m)\u001b[49m\n\u001b[1;32m      7\u001b[0m     )\u001b[38;5;241m.\u001b[39mrename(\n\u001b[1;32m      8\u001b[0m         columns \u001b[38;5;241m=\u001b[39m {\n\u001b[1;32m      9\u001b[0m             \u001b[38;5;124m\"\u001b[39m\u001b[38;5;124mmode_type_of_service_status\u001b[39m\u001b[38;5;124m\"\u001b[39m: \u001b[38;5;124m\"\u001b[39m\u001b[38;5;124mStatus\u001b[39m\u001b[38;5;124m\"\u001b[39m,\n\u001b[1;32m     10\u001b[0m             \u001b[38;5;124m\"\u001b[39m\u001b[38;5;124mprimary_uza_name\u001b[39m\u001b[38;5;124m\"\u001b[39m:\u001b[38;5;124m\"\u001b[39m\u001b[38;5;124muza_name\u001b[39m\u001b[38;5;124m\"\u001b[39m\n\u001b[1;32m     11\u001b[0m         })\n\u001b[1;32m     13\u001b[0m full_upt \u001b[38;5;241m=\u001b[39m full_upt[full_upt\u001b[38;5;241m.\u001b[39magency\u001b[38;5;241m.\u001b[39mnotna()]\u001b[38;5;241m.\u001b[39mreset_index(drop\u001b[38;5;241m=\u001b[39m\u001b[38;5;28;01mTrue\u001b[39;00m)\n\u001b[1;32m     15\u001b[0m     \u001b[38;5;66;03m# full_upt.to_parquet(\u001b[39;00m\n\u001b[1;32m     16\u001b[0m     \u001b[38;5;66;03m#     f\"{GCS_FILE_PATH}ntd_monthly_ridership_{year}_{month}.parquet\"\u001b[39;00m\n\u001b[1;32m     17\u001b[0m     \u001b[38;5;66;03m# )\u001b[39;00m\n",
      "File \u001b[0;32m/opt/conda/lib/python3.11/site-packages/siuba/siu/calls.py:214\u001b[0m, in \u001b[0;36mCall.__rrshift__\u001b[0;34m(self, x)\u001b[0m\n\u001b[1;32m    210\u001b[0m \u001b[38;5;28;01mif\u001b[39;00m \u001b[38;5;28misinstance\u001b[39m(strip_symbolic(x), (Call)):\n\u001b[1;32m    211\u001b[0m     \u001b[38;5;66;03m# only allow non-calls (i.e. data) on the left.\u001b[39;00m\n\u001b[1;32m    212\u001b[0m     \u001b[38;5;28;01mraise\u001b[39;00m \u001b[38;5;167;01mTypeError\u001b[39;00m()\n\u001b[0;32m--> 214\u001b[0m \u001b[38;5;28;01mreturn\u001b[39;00m \u001b[38;5;28;43mself\u001b[39;49m\u001b[43m(\u001b[49m\u001b[43mx\u001b[49m\u001b[43m)\u001b[49m\n",
      "File \u001b[0;32m/opt/conda/lib/python3.11/site-packages/siuba/siu/calls.py:189\u001b[0m, in \u001b[0;36mCall.__call__\u001b[0;34m(self, x)\u001b[0m\n\u001b[1;32m    187\u001b[0m     \u001b[38;5;28;01mreturn\u001b[39;00m operator\u001b[38;5;241m.\u001b[39mgetitem(inst, \u001b[38;5;241m*\u001b[39mrest)\n\u001b[1;32m    188\u001b[0m \u001b[38;5;28;01melif\u001b[39;00m \u001b[38;5;28mself\u001b[39m\u001b[38;5;241m.\u001b[39mfunc \u001b[38;5;241m==\u001b[39m \u001b[38;5;124m\"\u001b[39m\u001b[38;5;124m__call__\u001b[39m\u001b[38;5;124m\"\u001b[39m:\n\u001b[0;32m--> 189\u001b[0m     \u001b[38;5;28;01mreturn\u001b[39;00m \u001b[38;5;28;43mgetattr\u001b[39;49m\u001b[43m(\u001b[49m\u001b[43minst\u001b[49m\u001b[43m,\u001b[49m\u001b[43m \u001b[49m\u001b[38;5;28;43mself\u001b[39;49m\u001b[38;5;241;43m.\u001b[39;49m\u001b[43mfunc\u001b[49m\u001b[43m)\u001b[49m\u001b[43m(\u001b[49m\u001b[38;5;241;43m*\u001b[39;49m\u001b[43mrest\u001b[49m\u001b[43m,\u001b[49m\u001b[43m \u001b[49m\u001b[38;5;241;43m*\u001b[39;49m\u001b[38;5;241;43m*\u001b[39;49m\u001b[43mkwargs\u001b[49m\u001b[43m)\u001b[49m\n\u001b[1;32m    191\u001b[0m \u001b[38;5;66;03m# in normal case, get method to call, and then call it\u001b[39;00m\n\u001b[1;32m    192\u001b[0m f_op \u001b[38;5;241m=\u001b[39m \u001b[38;5;28mgetattr\u001b[39m(operator, \u001b[38;5;28mself\u001b[39m\u001b[38;5;241m.\u001b[39mfunc)\n",
      "File \u001b[0;32m/opt/conda/lib/python3.11/site-packages/siuba/siu/dispatchers.py:167\u001b[0m, in \u001b[0;36mverb_dispatch.<locals>.wrapper\u001b[0;34m(*args, **kwargs)\u001b[0m\n\u001b[1;32m    164\u001b[0m \u001b[38;5;28;01mif\u001b[39;00m \u001b[38;5;129;01mnot\u001b[39;00m args:\n\u001b[1;32m    165\u001b[0m     \u001b[38;5;28;01mreturn\u001b[39;00m dispatch_func(NoArgs(), \u001b[38;5;241m*\u001b[39m\u001b[38;5;241m*\u001b[39mstrip_kwargs)\n\u001b[0;32m--> 167\u001b[0m \u001b[38;5;28;01mreturn\u001b[39;00m \u001b[43mdispatch_func\u001b[49m\u001b[43m(\u001b[49m\u001b[38;5;241;43m*\u001b[39;49m\u001b[43mstrip_args\u001b[49m\u001b[43m,\u001b[49m\u001b[43m \u001b[49m\u001b[38;5;241;43m*\u001b[39;49m\u001b[38;5;241;43m*\u001b[39;49m\u001b[43mstrip_kwargs\u001b[49m\u001b[43m)\u001b[49m\n",
      "File \u001b[0;32m/opt/conda/lib/python3.11/functools.py:909\u001b[0m, in \u001b[0;36msingledispatch.<locals>.wrapper\u001b[0;34m(*args, **kw)\u001b[0m\n\u001b[1;32m    905\u001b[0m \u001b[38;5;28;01mif\u001b[39;00m \u001b[38;5;129;01mnot\u001b[39;00m args:\n\u001b[1;32m    906\u001b[0m     \u001b[38;5;28;01mraise\u001b[39;00m \u001b[38;5;167;01mTypeError\u001b[39;00m(\u001b[38;5;124mf\u001b[39m\u001b[38;5;124m'\u001b[39m\u001b[38;5;132;01m{\u001b[39;00mfuncname\u001b[38;5;132;01m}\u001b[39;00m\u001b[38;5;124m requires at least \u001b[39m\u001b[38;5;124m'\u001b[39m\n\u001b[1;32m    907\u001b[0m                     \u001b[38;5;124m'\u001b[39m\u001b[38;5;124m1 positional argument\u001b[39m\u001b[38;5;124m'\u001b[39m)\n\u001b[0;32m--> 909\u001b[0m \u001b[38;5;28;01mreturn\u001b[39;00m \u001b[43mdispatch\u001b[49m\u001b[43m(\u001b[49m\u001b[43margs\u001b[49m\u001b[43m[\u001b[49m\u001b[38;5;241;43m0\u001b[39;49m\u001b[43m]\u001b[49m\u001b[38;5;241;43m.\u001b[39;49m\u001b[38;5;18;43m__class__\u001b[39;49m\u001b[43m)\u001b[49m\u001b[43m(\u001b[49m\u001b[38;5;241;43m*\u001b[39;49m\u001b[43margs\u001b[49m\u001b[43m,\u001b[49m\u001b[43m \u001b[49m\u001b[38;5;241;43m*\u001b[39;49m\u001b[38;5;241;43m*\u001b[39;49m\u001b[43mkw\u001b[49m\u001b[43m)\u001b[49m\n",
      "File \u001b[0;32m/opt/conda/lib/python3.11/site-packages/siuba/sql/verbs/compute.py:46\u001b[0m, in \u001b[0;36m_collect\u001b[0;34m(__data, as_df)\u001b[0m\n\u001b[1;32m     43\u001b[0m         \u001b[38;5;28;01mreturn\u001b[39;00m duckdb_con\u001b[38;5;241m.\u001b[39mquery(\u001b[38;5;28mstr\u001b[39m(compiled))\u001b[38;5;241m.\u001b[39mto_df()\n\u001b[1;32m     44\u001b[0m     \u001b[38;5;28;01melse\u001b[39;00m:\n\u001b[1;32m     45\u001b[0m         \u001b[38;5;66;03m#\u001b[39;00m\n\u001b[0;32m---> 46\u001b[0m         \u001b[38;5;28;01mreturn\u001b[39;00m \u001b[43msql_db\u001b[49m\u001b[38;5;241;43m.\u001b[39;49m\u001b[43mread_sql\u001b[49m\u001b[43m(\u001b[49m\u001b[43mcompiled\u001b[49m\u001b[43m)\u001b[49m\n\u001b[1;32m     48\u001b[0m \u001b[38;5;28;01mreturn\u001b[39;00m conn\u001b[38;5;241m.\u001b[39mexecute(compiled)\n",
      "File \u001b[0;32m/opt/conda/lib/python3.11/site-packages/pandas/io/sql.py:1560\u001b[0m, in \u001b[0;36mSQLDatabase.read_query\u001b[0;34m(self, sql, index_col, coerce_float, parse_dates, params, chunksize, dtype)\u001b[0m\n\u001b[1;32m   1512\u001b[0m \u001b[38;5;250m\u001b[39m\u001b[38;5;124;03m\"\"\"\u001b[39;00m\n\u001b[1;32m   1513\u001b[0m \u001b[38;5;124;03mRead SQL query into a DataFrame.\u001b[39;00m\n\u001b[1;32m   1514\u001b[0m \n\u001b[0;32m   (...)\u001b[0m\n\u001b[1;32m   1556\u001b[0m \n\u001b[1;32m   1557\u001b[0m \u001b[38;5;124;03m\"\"\"\u001b[39;00m\n\u001b[1;32m   1558\u001b[0m args \u001b[38;5;241m=\u001b[39m _convert_params(sql, params)\n\u001b[0;32m-> 1560\u001b[0m result \u001b[38;5;241m=\u001b[39m \u001b[38;5;28;43mself\u001b[39;49m\u001b[38;5;241;43m.\u001b[39;49m\u001b[43mexecute\u001b[49m\u001b[43m(\u001b[49m\u001b[38;5;241;43m*\u001b[39;49m\u001b[43margs\u001b[49m\u001b[43m)\u001b[49m\n\u001b[1;32m   1561\u001b[0m columns \u001b[38;5;241m=\u001b[39m result\u001b[38;5;241m.\u001b[39mkeys()\n\u001b[1;32m   1563\u001b[0m \u001b[38;5;28;01mif\u001b[39;00m chunksize \u001b[38;5;129;01mis\u001b[39;00m \u001b[38;5;129;01mnot\u001b[39;00m \u001b[38;5;28;01mNone\u001b[39;00m:\n",
      "File \u001b[0;32m/opt/conda/lib/python3.11/site-packages/siuba/sql/utils.py:85\u001b[0m, in \u001b[0;36m_FixedSqlDatabase.execute\u001b[0;34m(self, *args, **kwargs)\u001b[0m\n\u001b[1;32m     84\u001b[0m \u001b[38;5;28;01mdef\u001b[39;00m\u001b[38;5;250m \u001b[39m\u001b[38;5;21mexecute\u001b[39m(\u001b[38;5;28mself\u001b[39m, \u001b[38;5;241m*\u001b[39margs, \u001b[38;5;241m*\u001b[39m\u001b[38;5;241m*\u001b[39mkwargs):\n\u001b[0;32m---> 85\u001b[0m     \u001b[38;5;28;01mreturn\u001b[39;00m \u001b[38;5;28;43mself\u001b[39;49m\u001b[38;5;241;43m.\u001b[39;49m\u001b[43mconnectable\u001b[49m\u001b[38;5;241;43m.\u001b[39;49m\u001b[43mexecute\u001b[49m\u001b[43m(\u001b[49m\u001b[38;5;241;43m*\u001b[39;49m\u001b[43margs\u001b[49m\u001b[43m,\u001b[49m\u001b[43m \u001b[49m\u001b[38;5;241;43m*\u001b[39;49m\u001b[38;5;241;43m*\u001b[39;49m\u001b[43mkwargs\u001b[49m\u001b[43m)\u001b[49m\n",
      "File \u001b[0;32m/opt/conda/lib/python3.11/site-packages/sqlalchemy/engine/base.py:1380\u001b[0m, in \u001b[0;36mConnection.execute\u001b[0;34m(self, statement, *multiparams, **params)\u001b[0m\n\u001b[1;32m   1376\u001b[0m     util\u001b[38;5;241m.\u001b[39mraise_(\n\u001b[1;32m   1377\u001b[0m         exc\u001b[38;5;241m.\u001b[39mObjectNotExecutableError(statement), replace_context\u001b[38;5;241m=\u001b[39merr\n\u001b[1;32m   1378\u001b[0m     )\n\u001b[1;32m   1379\u001b[0m \u001b[38;5;28;01melse\u001b[39;00m:\n\u001b[0;32m-> 1380\u001b[0m     \u001b[38;5;28;01mreturn\u001b[39;00m \u001b[43mmeth\u001b[49m\u001b[43m(\u001b[49m\u001b[38;5;28;43mself\u001b[39;49m\u001b[43m,\u001b[49m\u001b[43m \u001b[49m\u001b[43mmultiparams\u001b[49m\u001b[43m,\u001b[49m\u001b[43m \u001b[49m\u001b[43mparams\u001b[49m\u001b[43m,\u001b[49m\u001b[43m \u001b[49m\u001b[43m_EMPTY_EXECUTION_OPTS\u001b[49m\u001b[43m)\u001b[49m\n",
      "File \u001b[0;32m/opt/conda/lib/python3.11/site-packages/sqlalchemy/sql/elements.py:334\u001b[0m, in \u001b[0;36mClauseElement._execute_on_connection\u001b[0;34m(self, connection, multiparams, params, execution_options, _force)\u001b[0m\n\u001b[1;32m    330\u001b[0m \u001b[38;5;28;01mdef\u001b[39;00m\u001b[38;5;250m \u001b[39m\u001b[38;5;21m_execute_on_connection\u001b[39m(\n\u001b[1;32m    331\u001b[0m     \u001b[38;5;28mself\u001b[39m, connection, multiparams, params, execution_options, _force\u001b[38;5;241m=\u001b[39m\u001b[38;5;28;01mFalse\u001b[39;00m\n\u001b[1;32m    332\u001b[0m ):\n\u001b[1;32m    333\u001b[0m     \u001b[38;5;28;01mif\u001b[39;00m _force \u001b[38;5;129;01mor\u001b[39;00m \u001b[38;5;28mself\u001b[39m\u001b[38;5;241m.\u001b[39msupports_execution:\n\u001b[0;32m--> 334\u001b[0m         \u001b[38;5;28;01mreturn\u001b[39;00m \u001b[43mconnection\u001b[49m\u001b[38;5;241;43m.\u001b[39;49m\u001b[43m_execute_clauseelement\u001b[49m\u001b[43m(\u001b[49m\n\u001b[1;32m    335\u001b[0m \u001b[43m            \u001b[49m\u001b[38;5;28;43mself\u001b[39;49m\u001b[43m,\u001b[49m\u001b[43m \u001b[49m\u001b[43mmultiparams\u001b[49m\u001b[43m,\u001b[49m\u001b[43m \u001b[49m\u001b[43mparams\u001b[49m\u001b[43m,\u001b[49m\u001b[43m \u001b[49m\u001b[43mexecution_options\u001b[49m\n\u001b[1;32m    336\u001b[0m \u001b[43m        \u001b[49m\u001b[43m)\u001b[49m\n\u001b[1;32m    337\u001b[0m     \u001b[38;5;28;01melse\u001b[39;00m:\n\u001b[1;32m    338\u001b[0m         \u001b[38;5;28;01mraise\u001b[39;00m exc\u001b[38;5;241m.\u001b[39mObjectNotExecutableError(\u001b[38;5;28mself\u001b[39m)\n",
      "File \u001b[0;32m/opt/conda/lib/python3.11/site-packages/sqlalchemy/engine/base.py:1572\u001b[0m, in \u001b[0;36mConnection._execute_clauseelement\u001b[0;34m(self, elem, multiparams, params, execution_options)\u001b[0m\n\u001b[1;32m   1560\u001b[0m compiled_cache \u001b[38;5;241m=\u001b[39m execution_options\u001b[38;5;241m.\u001b[39mget(\n\u001b[1;32m   1561\u001b[0m     \u001b[38;5;124m\"\u001b[39m\u001b[38;5;124mcompiled_cache\u001b[39m\u001b[38;5;124m\"\u001b[39m, \u001b[38;5;28mself\u001b[39m\u001b[38;5;241m.\u001b[39mengine\u001b[38;5;241m.\u001b[39m_compiled_cache\n\u001b[1;32m   1562\u001b[0m )\n\u001b[1;32m   1564\u001b[0m compiled_sql, extracted_params, cache_hit \u001b[38;5;241m=\u001b[39m elem\u001b[38;5;241m.\u001b[39m_compile_w_cache(\n\u001b[1;32m   1565\u001b[0m     dialect\u001b[38;5;241m=\u001b[39mdialect,\n\u001b[1;32m   1566\u001b[0m     compiled_cache\u001b[38;5;241m=\u001b[39mcompiled_cache,\n\u001b[0;32m   (...)\u001b[0m\n\u001b[1;32m   1570\u001b[0m     linting\u001b[38;5;241m=\u001b[39m\u001b[38;5;28mself\u001b[39m\u001b[38;5;241m.\u001b[39mdialect\u001b[38;5;241m.\u001b[39mcompiler_linting \u001b[38;5;241m|\u001b[39m compiler\u001b[38;5;241m.\u001b[39mWARN_LINTING,\n\u001b[1;32m   1571\u001b[0m )\n\u001b[0;32m-> 1572\u001b[0m ret \u001b[38;5;241m=\u001b[39m \u001b[38;5;28;43mself\u001b[39;49m\u001b[38;5;241;43m.\u001b[39;49m\u001b[43m_execute_context\u001b[49m\u001b[43m(\u001b[49m\n\u001b[1;32m   1573\u001b[0m \u001b[43m    \u001b[49m\u001b[43mdialect\u001b[49m\u001b[43m,\u001b[49m\n\u001b[1;32m   1574\u001b[0m \u001b[43m    \u001b[49m\u001b[43mdialect\u001b[49m\u001b[38;5;241;43m.\u001b[39;49m\u001b[43mexecution_ctx_cls\u001b[49m\u001b[38;5;241;43m.\u001b[39;49m\u001b[43m_init_compiled\u001b[49m\u001b[43m,\u001b[49m\n\u001b[1;32m   1575\u001b[0m \u001b[43m    \u001b[49m\u001b[43mcompiled_sql\u001b[49m\u001b[43m,\u001b[49m\n\u001b[1;32m   1576\u001b[0m \u001b[43m    \u001b[49m\u001b[43mdistilled_params\u001b[49m\u001b[43m,\u001b[49m\n\u001b[1;32m   1577\u001b[0m \u001b[43m    \u001b[49m\u001b[43mexecution_options\u001b[49m\u001b[43m,\u001b[49m\n\u001b[1;32m   1578\u001b[0m \u001b[43m    \u001b[49m\u001b[43mcompiled_sql\u001b[49m\u001b[43m,\u001b[49m\n\u001b[1;32m   1579\u001b[0m \u001b[43m    \u001b[49m\u001b[43mdistilled_params\u001b[49m\u001b[43m,\u001b[49m\n\u001b[1;32m   1580\u001b[0m \u001b[43m    \u001b[49m\u001b[43melem\u001b[49m\u001b[43m,\u001b[49m\n\u001b[1;32m   1581\u001b[0m \u001b[43m    \u001b[49m\u001b[43mextracted_params\u001b[49m\u001b[43m,\u001b[49m\n\u001b[1;32m   1582\u001b[0m \u001b[43m    \u001b[49m\u001b[43mcache_hit\u001b[49m\u001b[38;5;241;43m=\u001b[39;49m\u001b[43mcache_hit\u001b[49m\u001b[43m,\u001b[49m\n\u001b[1;32m   1583\u001b[0m \u001b[43m\u001b[49m\u001b[43m)\u001b[49m\n\u001b[1;32m   1584\u001b[0m \u001b[38;5;28;01mif\u001b[39;00m has_events:\n\u001b[1;32m   1585\u001b[0m     \u001b[38;5;28mself\u001b[39m\u001b[38;5;241m.\u001b[39mdispatch\u001b[38;5;241m.\u001b[39mafter_execute(\n\u001b[1;32m   1586\u001b[0m         \u001b[38;5;28mself\u001b[39m,\n\u001b[1;32m   1587\u001b[0m         elem,\n\u001b[0;32m   (...)\u001b[0m\n\u001b[1;32m   1591\u001b[0m         ret,\n\u001b[1;32m   1592\u001b[0m     )\n",
      "File \u001b[0;32m/opt/conda/lib/python3.11/site-packages/sqlalchemy/engine/base.py:1943\u001b[0m, in \u001b[0;36mConnection._execute_context\u001b[0;34m(self, dialect, constructor, statement, parameters, execution_options, *args, **kw)\u001b[0m\n\u001b[1;32m   1940\u001b[0m             branched\u001b[38;5;241m.\u001b[39mclose()\n\u001b[1;32m   1942\u001b[0m \u001b[38;5;28;01mexcept\u001b[39;00m \u001b[38;5;167;01mBaseException\u001b[39;00m \u001b[38;5;28;01mas\u001b[39;00m e:\n\u001b[0;32m-> 1943\u001b[0m     \u001b[38;5;28;43mself\u001b[39;49m\u001b[38;5;241;43m.\u001b[39;49m\u001b[43m_handle_dbapi_exception\u001b[49m\u001b[43m(\u001b[49m\n\u001b[1;32m   1944\u001b[0m \u001b[43m        \u001b[49m\u001b[43me\u001b[49m\u001b[43m,\u001b[49m\u001b[43m \u001b[49m\u001b[43mstatement\u001b[49m\u001b[43m,\u001b[49m\u001b[43m \u001b[49m\u001b[43mparameters\u001b[49m\u001b[43m,\u001b[49m\u001b[43m \u001b[49m\u001b[43mcursor\u001b[49m\u001b[43m,\u001b[49m\u001b[43m \u001b[49m\u001b[43mcontext\u001b[49m\n\u001b[1;32m   1945\u001b[0m \u001b[43m    \u001b[49m\u001b[43m)\u001b[49m\n\u001b[1;32m   1947\u001b[0m \u001b[38;5;28;01mreturn\u001b[39;00m result\n",
      "File \u001b[0;32m/opt/conda/lib/python3.11/site-packages/sqlalchemy/engine/base.py:2124\u001b[0m, in \u001b[0;36mConnection._handle_dbapi_exception\u001b[0;34m(self, e, statement, parameters, cursor, context)\u001b[0m\n\u001b[1;32m   2122\u001b[0m     util\u001b[38;5;241m.\u001b[39mraise_(newraise, with_traceback\u001b[38;5;241m=\u001b[39mexc_info[\u001b[38;5;241m2\u001b[39m], from_\u001b[38;5;241m=\u001b[39me)\n\u001b[1;32m   2123\u001b[0m \u001b[38;5;28;01melif\u001b[39;00m should_wrap:\n\u001b[0;32m-> 2124\u001b[0m     \u001b[43mutil\u001b[49m\u001b[38;5;241;43m.\u001b[39;49m\u001b[43mraise_\u001b[49m\u001b[43m(\u001b[49m\n\u001b[1;32m   2125\u001b[0m \u001b[43m        \u001b[49m\u001b[43msqlalchemy_exception\u001b[49m\u001b[43m,\u001b[49m\u001b[43m \u001b[49m\u001b[43mwith_traceback\u001b[49m\u001b[38;5;241;43m=\u001b[39;49m\u001b[43mexc_info\u001b[49m\u001b[43m[\u001b[49m\u001b[38;5;241;43m2\u001b[39;49m\u001b[43m]\u001b[49m\u001b[43m,\u001b[49m\u001b[43m \u001b[49m\u001b[43mfrom_\u001b[49m\u001b[38;5;241;43m=\u001b[39;49m\u001b[43me\u001b[49m\n\u001b[1;32m   2126\u001b[0m \u001b[43m    \u001b[49m\u001b[43m)\u001b[49m\n\u001b[1;32m   2127\u001b[0m \u001b[38;5;28;01melse\u001b[39;00m:\n\u001b[1;32m   2128\u001b[0m     util\u001b[38;5;241m.\u001b[39mraise_(exc_info[\u001b[38;5;241m1\u001b[39m], with_traceback\u001b[38;5;241m=\u001b[39mexc_info[\u001b[38;5;241m2\u001b[39m])\n",
      "File \u001b[0;32m/opt/conda/lib/python3.11/site-packages/sqlalchemy/util/compat.py:211\u001b[0m, in \u001b[0;36mraise_\u001b[0;34m(***failed resolving arguments***)\u001b[0m\n\u001b[1;32m    208\u001b[0m     exception\u001b[38;5;241m.\u001b[39m__cause__ \u001b[38;5;241m=\u001b[39m replace_context\n\u001b[1;32m    210\u001b[0m \u001b[38;5;28;01mtry\u001b[39;00m:\n\u001b[0;32m--> 211\u001b[0m     \u001b[38;5;28;01mraise\u001b[39;00m exception\n\u001b[1;32m    212\u001b[0m \u001b[38;5;28;01mfinally\u001b[39;00m:\n\u001b[1;32m    213\u001b[0m     \u001b[38;5;66;03m# credit to\u001b[39;00m\n\u001b[1;32m    214\u001b[0m     \u001b[38;5;66;03m# https://cosmicpercolator.com/2016/01/13/exception-leaks-in-python-2-and-3/\u001b[39;00m\n\u001b[1;32m    215\u001b[0m     \u001b[38;5;66;03m# as the __traceback__ object creates a cycle\u001b[39;00m\n\u001b[1;32m    216\u001b[0m     \u001b[38;5;28;01mdel\u001b[39;00m exception, replace_context, from_, with_traceback\n",
      "File \u001b[0;32m/opt/conda/lib/python3.11/site-packages/sqlalchemy/engine/base.py:1900\u001b[0m, in \u001b[0;36mConnection._execute_context\u001b[0;34m(self, dialect, constructor, statement, parameters, execution_options, *args, **kw)\u001b[0m\n\u001b[1;32m   1898\u001b[0m                 \u001b[38;5;28;01mbreak\u001b[39;00m\n\u001b[1;32m   1899\u001b[0m     \u001b[38;5;28;01mif\u001b[39;00m \u001b[38;5;129;01mnot\u001b[39;00m evt_handled:\n\u001b[0;32m-> 1900\u001b[0m         \u001b[38;5;28;43mself\u001b[39;49m\u001b[38;5;241;43m.\u001b[39;49m\u001b[43mdialect\u001b[49m\u001b[38;5;241;43m.\u001b[39;49m\u001b[43mdo_execute\u001b[49m\u001b[43m(\u001b[49m\n\u001b[1;32m   1901\u001b[0m \u001b[43m            \u001b[49m\u001b[43mcursor\u001b[49m\u001b[43m,\u001b[49m\u001b[43m \u001b[49m\u001b[43mstatement\u001b[49m\u001b[43m,\u001b[49m\u001b[43m \u001b[49m\u001b[43mparameters\u001b[49m\u001b[43m,\u001b[49m\u001b[43m \u001b[49m\u001b[43mcontext\u001b[49m\n\u001b[1;32m   1902\u001b[0m \u001b[43m        \u001b[49m\u001b[43m)\u001b[49m\n\u001b[1;32m   1904\u001b[0m \u001b[38;5;28;01mif\u001b[39;00m \u001b[38;5;28mself\u001b[39m\u001b[38;5;241m.\u001b[39m_has_events \u001b[38;5;129;01mor\u001b[39;00m \u001b[38;5;28mself\u001b[39m\u001b[38;5;241m.\u001b[39mengine\u001b[38;5;241m.\u001b[39m_has_events:\n\u001b[1;32m   1905\u001b[0m     \u001b[38;5;28mself\u001b[39m\u001b[38;5;241m.\u001b[39mdispatch\u001b[38;5;241m.\u001b[39mafter_cursor_execute(\n\u001b[1;32m   1906\u001b[0m         \u001b[38;5;28mself\u001b[39m,\n\u001b[1;32m   1907\u001b[0m         cursor,\n\u001b[0;32m   (...)\u001b[0m\n\u001b[1;32m   1911\u001b[0m         context\u001b[38;5;241m.\u001b[39mexecutemany,\n\u001b[1;32m   1912\u001b[0m     )\n",
      "File \u001b[0;32m/opt/conda/lib/python3.11/site-packages/sqlalchemy/engine/default.py:736\u001b[0m, in \u001b[0;36mDefaultDialect.do_execute\u001b[0;34m(self, cursor, statement, parameters, context)\u001b[0m\n\u001b[1;32m    735\u001b[0m \u001b[38;5;28;01mdef\u001b[39;00m\u001b[38;5;250m \u001b[39m\u001b[38;5;21mdo_execute\u001b[39m(\u001b[38;5;28mself\u001b[39m, cursor, statement, parameters, context\u001b[38;5;241m=\u001b[39m\u001b[38;5;28;01mNone\u001b[39;00m):\n\u001b[0;32m--> 736\u001b[0m     \u001b[43mcursor\u001b[49m\u001b[38;5;241;43m.\u001b[39;49m\u001b[43mexecute\u001b[49m\u001b[43m(\u001b[49m\u001b[43mstatement\u001b[49m\u001b[43m,\u001b[49m\u001b[43m \u001b[49m\u001b[43mparameters\u001b[49m\u001b[43m)\u001b[49m\n",
      "File \u001b[0;32m/opt/conda/lib/python3.11/site-packages/google/cloud/bigquery/dbapi/_helpers.py:496\u001b[0m, in \u001b[0;36mraise_on_closed.<locals>._raise_on_closed.<locals>.with_closed_check\u001b[0;34m(self, *args, **kwargs)\u001b[0m\n\u001b[1;32m    494\u001b[0m \u001b[38;5;28;01mif\u001b[39;00m \u001b[38;5;28mgetattr\u001b[39m(\u001b[38;5;28mself\u001b[39m, closed_attr_name):\n\u001b[1;32m    495\u001b[0m     \u001b[38;5;28;01mraise\u001b[39;00m exc_class(exc_msg)\n\u001b[0;32m--> 496\u001b[0m \u001b[38;5;28;01mreturn\u001b[39;00m \u001b[43mmethod\u001b[49m\u001b[43m(\u001b[49m\u001b[38;5;28;43mself\u001b[39;49m\u001b[43m,\u001b[49m\u001b[43m \u001b[49m\u001b[38;5;241;43m*\u001b[39;49m\u001b[43margs\u001b[49m\u001b[43m,\u001b[49m\u001b[43m \u001b[49m\u001b[38;5;241;43m*\u001b[39;49m\u001b[38;5;241;43m*\u001b[39;49m\u001b[43mkwargs\u001b[49m\u001b[43m)\u001b[49m\n",
      "File \u001b[0;32m/opt/conda/lib/python3.11/site-packages/google/cloud/bigquery/dbapi/cursor.py:189\u001b[0m, in \u001b[0;36mCursor.execute\u001b[0;34m(self, operation, parameters, job_id, job_config)\u001b[0m\n\u001b[1;32m    153\u001b[0m \u001b[38;5;250m\u001b[39m\u001b[38;5;124;03m\"\"\"Prepare and execute a database operation.\u001b[39;00m\n\u001b[1;32m    154\u001b[0m \n\u001b[1;32m    155\u001b[0m \u001b[38;5;124;03m.. note::\u001b[39;00m\n\u001b[0;32m   (...)\u001b[0m\n\u001b[1;32m    186\u001b[0m \u001b[38;5;124;03m        (Optional) Extra configuration options for the query job.\u001b[39;00m\n\u001b[1;32m    187\u001b[0m \u001b[38;5;124;03m\"\"\"\u001b[39;00m\n\u001b[1;32m    188\u001b[0m formatted_operation, parameter_types \u001b[38;5;241m=\u001b[39m _format_operation(operation, parameters)\n\u001b[0;32m--> 189\u001b[0m \u001b[38;5;28;43mself\u001b[39;49m\u001b[38;5;241;43m.\u001b[39;49m\u001b[43m_execute\u001b[49m\u001b[43m(\u001b[49m\n\u001b[1;32m    190\u001b[0m \u001b[43m    \u001b[49m\u001b[43mformatted_operation\u001b[49m\u001b[43m,\u001b[49m\u001b[43m \u001b[49m\u001b[43mparameters\u001b[49m\u001b[43m,\u001b[49m\u001b[43m \u001b[49m\u001b[43mjob_id\u001b[49m\u001b[43m,\u001b[49m\u001b[43m \u001b[49m\u001b[43mjob_config\u001b[49m\u001b[43m,\u001b[49m\u001b[43m \u001b[49m\u001b[43mparameter_types\u001b[49m\n\u001b[1;32m    191\u001b[0m \u001b[43m\u001b[49m\u001b[43m)\u001b[49m\n",
      "File \u001b[0;32m/opt/conda/lib/python3.11/site-packages/google/cloud/bigquery/dbapi/cursor.py:226\u001b[0m, in \u001b[0;36mCursor._execute\u001b[0;34m(self, formatted_operation, parameters, job_id, job_config, parameter_types)\u001b[0m\n\u001b[1;32m    220\u001b[0m         rows \u001b[38;5;241m=\u001b[39m client\u001b[38;5;241m.\u001b[39mquery_and_wait(\n\u001b[1;32m    221\u001b[0m             formatted_operation,\n\u001b[1;32m    222\u001b[0m             job_config\u001b[38;5;241m=\u001b[39mconfig,\n\u001b[1;32m    223\u001b[0m             page_size\u001b[38;5;241m=\u001b[39m\u001b[38;5;28mself\u001b[39m\u001b[38;5;241m.\u001b[39marraysize,\n\u001b[1;32m    224\u001b[0m         )\n\u001b[1;32m    225\u001b[0m \u001b[38;5;28;01mexcept\u001b[39;00m google\u001b[38;5;241m.\u001b[39mcloud\u001b[38;5;241m.\u001b[39mexceptions\u001b[38;5;241m.\u001b[39mGoogleCloudError \u001b[38;5;28;01mas\u001b[39;00m exc:\n\u001b[0;32m--> 226\u001b[0m     \u001b[38;5;28;01mraise\u001b[39;00m exceptions\u001b[38;5;241m.\u001b[39mDatabaseError(exc)\n\u001b[1;32m    228\u001b[0m \u001b[38;5;28mself\u001b[39m\u001b[38;5;241m.\u001b[39m_query_rows \u001b[38;5;241m=\u001b[39m rows\n\u001b[1;32m    229\u001b[0m \u001b[38;5;28mself\u001b[39m\u001b[38;5;241m.\u001b[39m_set_description(rows\u001b[38;5;241m.\u001b[39mschema)\n",
      "\u001b[0;31mDatabaseError\u001b[0m: (google.cloud.bigquery.dbapi.exceptions.DatabaseError) 400 POST https://bigquery.googleapis.com/bigquery/v2/projects/cal-itp-data-infra/queries?prettyPrint=false: No matching signature for operator > for argument types: STRING, INT64\n  Signature: T1 > T1\n    Unable to find common supertype for templated argument <T1>\n      Input types for <T1>: {INT64, STRING} at [3:7]\n[SQL: SELECT `mart_ntd.dim_monthly_ridership_with_adjustments_1`.`key`, `mart_ntd.dim_monthly_ridership_with_adjustments_1`.`ntd_id`, `mart_ntd.dim_monthly_ridership_with_adjustments_1`.`legacy_ntd_id`, `mart_ntd.dim_monthly_ridership_with_adjustments_1`.`agency`, `mart_ntd.dim_monthly_ridership_with_adjustments_1`.`reporter_type`, `mart_ntd.dim_monthly_ridership_with_adjustments_1`.`period_year_month`, `mart_ntd.dim_monthly_ridership_with_adjustments_1`.`period_year`, `mart_ntd.dim_monthly_ridership_with_adjustments_1`.`period_month`, `mart_ntd.dim_monthly_ridership_with_adjustments_1`.`primary_uza_name`, `mart_ntd.dim_monthly_ridership_with_adjustments_1`.`primary_uza_code`, `mart_ntd.dim_monthly_ridership_with_adjustments_1`.`_3_mode`, `mart_ntd.dim_monthly_ridership_with_adjustments_1`.`mode`, `mart_ntd.dim_monthly_ridership_with_adjustments_1`.`mode_name`, `mart_ntd.dim_monthly_ridership_with_adjustments_1`.`service_type`, `mart_ntd.dim_monthly_ridership_with_adjustments_1`.`mode_type_of_service_status`, `mart_ntd.dim_monthly_ridership_with_adjustments_1`.`tos`, `mart_ntd.dim_monthly_ridership_with_adjustments_1`.`upt`, `mart_ntd.dim_monthly_ridership_with_adjustments_1`.`vrm`, `mart_ntd.dim_monthly_ridership_with_adjustments_1`.`vrh`, `mart_ntd.dim_monthly_ridership_with_adjustments_1`.`voms`, `mart_ntd.dim_monthly_ridership_with_adjustments_1`.`_dt`, `mart_ntd.dim_monthly_ridership_with_adjustments_1`.`execution_ts` \nFROM `mart_ntd.dim_monthly_ridership_with_adjustments` AS `mart_ntd.dim_monthly_ridership_with_adjustments_1` \nWHERE `mart_ntd.dim_monthly_ridership_with_adjustments_1`.`period_year` > %(period_year_1:INT64)s]\n[parameters: {'period_year_1': 2018}]\n(Background on this error at: https://sqlalche.me/e/14/4xp6)"
     ]
    }
   ],
   "source": [
    "full_upt = (\n",
    "        tbls.mart_ntd.dim_monthly_ridership_with_adjustments()\n",
    "        >> filter(\n",
    "            _.period_year > [\"2018\",\"2019\",\"2020\",\"2021\",\"2022\",\"2023\",\"2024\",\"2025\"]\n",
    "        )\n",
    "        >> collect()\n",
    "    ).rename(\n",
    "        columns = {\n",
    "            \"mode_type_of_service_status\": \"Status\",\n",
    "            \"primary_uza_name\":\"uza_name\"\n",
    "        })\n",
    "    \n",
    "full_upt = full_upt[full_upt.agency.notna()].reset_index(drop=True)\n",
    "    \n",
    "    # full_upt.to_parquet(\n",
    "    #     f\"{GCS_FILE_PATH}ntd_monthly_ridership_{year}_{month}.parquet\"\n",
    "    # )\n",
    "    \n",
    "ca = full_upt[(full_upt[\"uza_name\"].str.contains(\", CA\")) & \n",
    "            (full_upt.agency.notna())].reset_index(drop=True)\n",
    "    \n",
    "    # use new crosswalk function\n",
    "crosswalk = ntd_id_to_rtpa_crosswalk(split_scag=True)\n",
    "    \n",
    "df = pd.merge(\n",
    "        ca,\n",
    "        # Merging on too many columns can create problems \n",
    "        # because csvs and dtypes aren't stable / consistent \n",
    "        # for NTD ID, Legacy NTD ID, and UZA\n",
    "        crosswalk[[\"ntd_id_2022\", \"rtpa_name\"]],\n",
    "        left_on = \"ntd_id\",\n",
    "        right_on =\"ntd_id_2022\",\n",
    "        how = \"left\",\n",
    "        indicator = True\n",
    "    )"
   ]
  },
  {
   "cell_type": "code",
   "execution_count": null,
   "id": "d77d488a-08c1-4a09-8c18-8d72e02a3962",
   "metadata": {
    "tags": []
   },
   "outputs": [],
   "source": [
    "df[df[\"_merge\"]==\"left_only\"]"
   ]
  },
  {
   "cell_type": "code",
   "execution_count": 15,
   "id": "1e748115-0619-4203-be1e-79c4379845d1",
   "metadata": {
    "tags": []
   },
   "outputs": [
    {
     "name": "stdout",
     "output_type": "stream",
     "text": [
      "both          95480\n",
      "left_only      3360\n",
      "right_only        0\n",
      "Name: _merge, dtype: int64\n"
     ]
    },
    {
     "ename": "ValueError",
     "evalue": "There are unmerged rows to crosswalk",
     "output_type": "error",
     "traceback": [
      "\u001b[0;31m---------------------------------------------------------------------------\u001b[0m",
      "\u001b[0;31mValueError\u001b[0m                                Traceback (most recent call last)",
      "Cell \u001b[0;32mIn[15], line 1\u001b[0m\n\u001b[0;32m----> 1\u001b[0m data \u001b[38;5;241m=\u001b[39m \u001b[43mproduce_ntd_monthly_ridership_by_rtpa\u001b[49m\u001b[43m(\u001b[49m\u001b[43mYEAR\u001b[49m\u001b[43m,\u001b[49m\u001b[43m \u001b[49m\u001b[43mMONTH\u001b[49m\u001b[43m)\u001b[49m\n",
      "Cell \u001b[0;32mIn[14], line 48\u001b[0m, in \u001b[0;36mproduce_ntd_monthly_ridership_by_rtpa\u001b[0;34m(year, month)\u001b[0m\n\u001b[1;32m     45\u001b[0m \u001b[38;5;28mprint\u001b[39m(df\u001b[38;5;241m.\u001b[39m_merge\u001b[38;5;241m.\u001b[39mvalue_counts())\n\u001b[1;32m     47\u001b[0m \u001b[38;5;28;01mif\u001b[39;00m \u001b[38;5;28mlen\u001b[39m(df[df\u001b[38;5;241m.\u001b[39m_merge\u001b[38;5;241m==\u001b[39m\u001b[38;5;124m\"\u001b[39m\u001b[38;5;124mleft_only\u001b[39m\u001b[38;5;124m\"\u001b[39m]) \u001b[38;5;241m>\u001b[39m \u001b[38;5;241m0\u001b[39m:\n\u001b[0;32m---> 48\u001b[0m     \u001b[38;5;28;01mraise\u001b[39;00m \u001b[38;5;167;01mValueError\u001b[39;00m(\u001b[38;5;124m\"\u001b[39m\u001b[38;5;124mThere are unmerged rows to crosswalk\u001b[39m\u001b[38;5;124m\"\u001b[39m)\n\u001b[1;32m     50\u001b[0m df \u001b[38;5;241m=\u001b[39m add_change_columns(df)\n\u001b[1;32m     52\u001b[0m df \u001b[38;5;241m=\u001b[39m df\u001b[38;5;241m.\u001b[39massign(\n\u001b[1;32m     53\u001b[0m     Mode_full \u001b[38;5;241m=\u001b[39m df[\u001b[38;5;124m\"\u001b[39m\u001b[38;5;124mmode\u001b[39m\u001b[38;5;124m\"\u001b[39m]\u001b[38;5;241m.\u001b[39mmap(NTD_MODES),\n\u001b[1;32m     54\u001b[0m     TOS_full \u001b[38;5;241m=\u001b[39m df[\u001b[38;5;124m\"\u001b[39m\u001b[38;5;124mtos\u001b[39m\u001b[38;5;124m\"\u001b[39m]\u001b[38;5;241m.\u001b[39mmap(NTD_TOS)\n\u001b[1;32m     55\u001b[0m )\n",
      "\u001b[0;31mValueError\u001b[0m: There are unmerged rows to crosswalk"
     ]
    }
   ],
   "source": [
    "data = produce_ntd_monthly_ridership_by_rtpa(YEAR, MONTH)\n"
   ]
  },
  {
   "cell_type": "code",
   "execution_count": 16,
   "id": "685df38f-7ff4-4101-9fdb-fef868d68252",
   "metadata": {},
   "outputs": [
    {
     "ename": "NameError",
     "evalue": "name 'data' is not defined",
     "output_type": "error",
     "traceback": [
      "\u001b[0;31m---------------------------------------------------------------------------\u001b[0m",
      "\u001b[0;31mNameError\u001b[0m                                 Traceback (most recent call last)",
      "Cell \u001b[0;32mIn[16], line 1\u001b[0m\n\u001b[0;32m----> 1\u001b[0m \u001b[43mdata\u001b[49m\u001b[38;5;241m.\u001b[39mcolumns\n",
      "\u001b[0;31mNameError\u001b[0m: name 'data' is not defined"
     ]
    }
   ],
   "source": [
    "data.columns"
   ]
  },
  {
   "cell_type": "code",
   "execution_count": 13,
   "id": "c682e448-14db-4f03-992b-1a2d3049e001",
   "metadata": {
    "tags": []
   },
   "outputs": [],
   "source": [
    "## splitting function into separate parts\n",
    "full_upt = (\n",
    "        tbls.mart_ntd.dim_monthly_ridership_with_adjustments() # does not have last_report_year\n",
    "        >> collect()\n",
    "    ).rename(\n",
    "        columns = {\n",
    "            \"mode_type_of_service_status\": \"Status\",\n",
    "            \"primary_uza_name\":\"uza_name\"\n",
    "        })\n",
    "    \n",
    "full_upt = full_upt[full_upt.agency.notna()].reset_index(drop=True)\n",
    "    \n",
    "    # full_upt.to_parquet(\n",
    "    #     f\"{GCS_FILE_PATH}ntd_monthly_ridership_{year}_{month}.parquet\"\n",
    "    # )\n",
    "    \n",
    "ca = full_upt[(full_upt[\"uza_name\"].str.contains(\", CA\")) & \n",
    "            (full_upt.agency.notna())].reset_index(drop=True)"
   ]
  },
  {
   "cell_type": "code",
   "execution_count": 14,
   "id": "c5b54610-3c41-4eef-8b55-1e3e15ea5e63",
   "metadata": {
    "tags": []
   },
   "outputs": [
    {
     "name": "stdout",
     "output_type": "stream",
     "text": [
      "<class 'pandas.core.frame.DataFrame'>\n",
      "RangeIndex: 97929 entries, 0 to 97928\n",
      "Data columns (total 22 columns):\n",
      " #   Column             Non-Null Count  Dtype              \n",
      "---  ------             --------------  -----              \n",
      " 0   key                97929 non-null  object             \n",
      " 1   ntd_id             97929 non-null  object             \n",
      " 2   legacy_ntd_id      92070 non-null  object             \n",
      " 3   agency             97929 non-null  object             \n",
      " 4   reporter_type      97929 non-null  object             \n",
      " 5   period_year_month  97929 non-null  object             \n",
      " 6   period_year        97929 non-null  object             \n",
      " 7   period_month       97929 non-null  object             \n",
      " 8   uza_name           97929 non-null  object             \n",
      " 9   primary_uza_code   97929 non-null  object             \n",
      " 10  _3_mode            97929 non-null  object             \n",
      " 11  mode               97929 non-null  object             \n",
      " 12  mode_name          97929 non-null  object             \n",
      " 13  service_type       97929 non-null  object             \n",
      " 14  Status             97929 non-null  object             \n",
      " 15  tos                97929 non-null  object             \n",
      " 16  upt                53035 non-null  float64            \n",
      " 17  vrm                53193 non-null  float64            \n",
      " 18  vrh                53193 non-null  float64            \n",
      " 19  voms               53397 non-null  float64            \n",
      " 20  _dt                97929 non-null  object             \n",
      " 21  execution_ts       97929 non-null  datetime64[ns, UTC]\n",
      "dtypes: datetime64[ns, UTC](1), float64(4), object(17)\n",
      "memory usage: 16.4+ MB\n"
     ]
    }
   ],
   "source": [
    "ca.info()"
   ]
  },
  {
   "cell_type": "code",
   "execution_count": null,
   "id": "30692325-26cc-4fab-b8c6-c2511e9b4287",
   "metadata": {
    "tags": []
   },
   "outputs": [],
   "source": [
    "last_report_year = (\n",
    "    tbls.mart_ntd_funding_and_expenses.fct_capital_expenditures_time_series_total()\n",
    "    >> filter(\n",
    "        _.source_state == \"CA\",\n",
    "        _.agency_name.notna()\n",
    "    )\n",
    "    >> distinct(\n",
    "        _.ntd_id,\n",
    "        _.agency_name,\n",
    "        _.city,\n",
    "        _.last_report_year\n",
    "    )\n",
    "    >> collect()\n",
    ")"
   ]
  },
  {
   "cell_type": "code",
   "execution_count": null,
   "id": "babe29f2-0dce-4497-b978-1ed582dafe92",
   "metadata": {
    "tags": []
   },
   "outputs": [],
   "source": [
    "last_report_year[\"last_report_year\"].value_counts()\n",
    "# ONLY SHOWING 2022-2023 AGAIN!?"
   ]
  },
  {
   "cell_type": "code",
   "execution_count": null,
   "id": "be22b4c1-eae0-4294-b270-da6246f4009c",
   "metadata": {
    "tags": []
   },
   "outputs": [],
   "source": [
    "ca = ca.merge(\n",
    "    last_report_year,\n",
    "    on = \"ntd_id\",\n",
    "    how = \"inner\",\n",
    "    indicator = True\n",
    ")"
   ]
  },
  {
   "cell_type": "code",
   "execution_count": null,
   "id": "5f4fbc0d-ed32-41c7-a46a-fbe80e706d4d",
   "metadata": {
    "tags": []
   },
   "outputs": [],
   "source": [
    "ca.info()"
   ]
  },
  {
   "cell_type": "code",
   "execution_count": null,
   "id": "fce88379-b798-4f42-96d4-12f4f11a6c22",
   "metadata": {
    "tags": []
   },
   "outputs": [],
   "source": [
    "ca[[\"_merge\",\"last_report_year\"]].value_counts()"
   ]
  },
  {
   "cell_type": "code",
   "execution_count": null,
   "id": "e42066f4-5f51-4dcf-baa3-3ca620ffa41c",
   "metadata": {
    "tags": []
   },
   "outputs": [],
   "source": [
    "    \n",
    "    # use new crosswalk function\n",
    "crosswalk = make_ntd_id_rtpa_crosswalk(socal_split=True)\n",
    "    \n",
    "df = pd.merge(\n",
    "        ca,\n",
    "        # Merging on too many columns can create problems \n",
    "        # because csvs and dtypes aren't stable / consistent \n",
    "        # for NTD ID, Legacy NTD ID, and UZA\n",
    "        crosswalk[[\"ntd_id_2022\", \"rtpa_name\"]],\n",
    "        left_on = \"ntd_id\",\n",
    "        right_on =\"ntd_id_2022\",\n",
    "        how = \"left\",\n",
    "        indicator = True\n",
    "    )\n",
    "    \n",
    "print(df._merge.value_counts())"
   ]
  },
  {
   "cell_type": "code",
   "execution_count": null,
   "id": "99269c88-dab5-444a-a3c8-7cc5e8993fd9",
   "metadata": {
    "tags": []
   },
   "outputs": [],
   "source": [
    "df[df[\"_merge\"]==\"left_only\"][[\"agency\",\"ntd_id\"]].value_counts()\n",
    "\n",
    "# what are the last_report_years of these agencies?\n"
   ]
  },
  {
   "cell_type": "code",
   "execution_count": null,
   "id": "502dffdd-3803-46cb-a569-e98ce94cbf00",
   "metadata": {
    "tags": []
   },
   "outputs": [],
   "source": [
    "df.columns"
   ]
  },
  {
   "cell_type": "code",
   "execution_count": null,
   "id": "3b7b7366-f0e0-4922-9af7-3c6f636ea517",
   "metadata": {
    "tags": []
   },
   "outputs": [],
   "source": [
    "last_report_year.info()"
   ]
  },
  {
   "cell_type": "code",
   "execution_count": null,
   "id": "13b7430f-c72c-473d-942c-c92e77df7435",
   "metadata": {
    "tags": []
   },
   "outputs": [],
   "source": [
    "df_last_report_year = df.drop(columns=\"_merge\").merge(\n",
    "    last_report_year,\n",
    "    left_on = \"ntd_id_2022\",\n",
    "    right_on = \"ntd_id\",\n",
    "    how = \"left\",\n",
    "    indicator = True\n",
    ")\n"
   ]
  },
  {
   "cell_type": "markdown",
   "id": "02d42edb-4850-4280-a6f9-1c9cc2a8afc2",
   "metadata": {},
   "source": [
    "---"
   ]
  },
  {
   "cell_type": "markdown",
   "id": "bae4c08b-308e-4c38-b82c-42c94eadf120",
   "metadata": {},
   "source": [
    "# {rtpa}\n",
    "## Monthly Ridership Trends\n",
    "\n",
    "**Download data from our public [folder](https://console.cloud.google.com/storage/browser/calitp-publish-data-analysis)** by navigating to `ntd_monthly_ridership` and selecting a file.\n",
    "\n",
    "Transit operators/agencies that are **Urban full reporters, that submit monthly ridership data to NTD from 2018 to present**, are included in this report. Reporters that were previously Urban full reporters, but are currently not, may appear. This may result in Reporters showing zero or partial ridership data in the report. \n",
    "\n",
    "If a Reporter is not a monthly reporter, or has not reported data since 2018, they will not appear in the report.\n",
    "\n",
    "Examples: \n",
    "- Reporter A is an urban full reporter from 2019-2022, then became a reduced reporter for 2023. Reporter A's ridership data will be displayed for 2019-2022 only.\n",
    "- Reporter B is an urban full reporter from 2000-2017, then became a reduced reporter for 2018. Reporter B will be named in the report, but will not display ridership data.\n",
    "- Reporter C was a reduced reporter form 2015-2020, then became an urban full reporter and began submitting monthly ridership data to NTD for 2021. Reporter C's ridership data will be displayed for 2021-present."
   ]
  },
  {
   "cell_type": "code",
   "execution_count": null,
   "id": "937118f4-c4b3-4702-8ea2-ec43c5b7bd10",
   "metadata": {},
   "outputs": [],
   "source": [
    "URL = (\"https://console.cloud.google.com/storage/\"\n",
    "       \"browser/calitp-publish-data-analysis\"\n",
    "      )\n",
    "\n",
    "display(\n",
    "    HTML(\n",
    "        f\"\"\"\n",
    "        <a href={URL}>\n",
    "        Download the latest month of data: {PUBLIC_FILENAME}</a>\n",
    "        \"\"\"\n",
    "    )\n",
    ")\n"
   ]
  },
  {
   "cell_type": "code",
   "execution_count": null,
   "id": "cf017b79-26d5-455b-8c99-e9ba27d2dd77",
   "metadata": {},
   "outputs": [],
   "source": [
    "MIN_YEAR = 2018\n",
    "\n",
    "#updated to filter for period_year greater than 2018\n",
    "df = pd.read_parquet(\n",
    "    f\"{GCS_FILE_PATH}ca_monthly_ridership_{YEAR}_{MONTH}.parquet\",\n",
    "    filters = [[(\"RTPA\", \"==\", rtpa), (\"period_year\", \">=\", MIN_YEAR)]]\n",
    ").drop(\n",
    "    #updated columns names to match new df\n",
    "    columns = [\"mode\", \"tos\",\"execution_ts\"]\n",
    ").rename(columns = {\"Mode_full\": \"Mode\", \"TOS_full\": \"TOS\"})"
   ]
  },
  {
   "cell_type": "code",
   "execution_count": null,
   "id": "79364807-66b3-4917-acd9-17230400dfab",
   "metadata": {},
   "outputs": [],
   "source": [
    "df.info()"
   ]
  },
  {
   "cell_type": "code",
   "execution_count": null,
   "id": "bf36cb45-9594-4b4f-a8f0-39be6e5a450c",
   "metadata": {},
   "outputs": [],
   "source": [
    "#REMOVE\n",
    "\n",
    "# find columns that are recent enough to plot\n",
    "#MIN_YEAR = 2018\n",
    "\n",
    "#might not need the rest of these\n",
    "#not_id_cols = [c for c in df.columns if \"/\" in c]\n",
    "\n",
    "#recent_years = [\n",
    "#    c for c in not_id_cols if int(c.split(\"/\")[1]) >= MIN_YEAR and \n",
    "#    \"pct\" not in c\n",
    "#]\n",
    "\n",
    "#upt_cols = [\n",
    "#    c for c in recent_years if \"change\" not in c\n",
    "#]\n",
    "\n",
    "#change_cols = [c for c in recent_years if \"change\" in c]"
   ]
  },
  {
   "cell_type": "code",
   "execution_count": null,
   "id": "804b1166-9261-4cb9-8bde-b5e0f95c628d",
   "metadata": {},
   "outputs": [],
   "source": [
    "#REMOVE\n",
    "\n",
    "# do i need this anymore? \n",
    "# what does the data look like initially? filters/groups the DF by the `group_cols` list, keeps the initial wide data\n",
    "\n",
    "# give this a try with current data NOPE! \n",
    "#def OLD_sum_by_group(df: pd.DataFrame, group_cols: list) -> pd.DataFrame:\n",
    "#    \"\"\"\n",
    "#    Since df is wide, use pivot_table() to sum up all\n",
    "#    the columns that show UPT.\n",
    "#    \"\"\"\n",
    "#    grouped_df = df.pivot_table(\n",
    "#        index = group_cols, \n",
    "#        values = \"upt\", \n",
    "#        aggfunc=\"sum\"\n",
    "#    ).reset_index().reindex(columns = group_cols + recent_years)\n",
    "    \n",
    "#    return grouped_df\n",
    "\n",
    "\n",
    "# DONT THINK I NEED THIS ANYMORE!!!\n",
    "#def make_long(df: pd.DataFrame, group_cols: list, value_cols: list):\n",
    "#    df_long = df[group_cols + value_cols].melt(\n",
    "#        id_vars = group_cols, \n",
    "#        value_vars = value_cols,\n",
    "#    )\n",
    "    \n",
    "#    df_long = df_long.assign(\n",
    "#        variable = df_long.variable.str.replace(\"change_1yr_\", \"\")\n",
    "#    )\n",
    "    \n",
    "#    return df_long"
   ]
  },
  {
   "cell_type": "code",
   "execution_count": null,
   "id": "cfc7efc0-03b4-4917-8277-d897c8a1779e",
   "metadata": {},
   "outputs": [],
   "source": [
    "## MOVED FUNCTION TO SCRIPT, SO IT CAN BE USED BY save_rtpa_outputs\n",
    "\n",
    "#function is read in with imports\n",
    "\n",
    "# UPDATED AND TESTED, this works! gives the same results as the old old sum_by_group, make_long and assemble_long_df functions\n",
    "\n",
    "#def sum_by_group(\n",
    "#    df: pd.DataFrame,\n",
    "#    group_cols: list) -> pd.DataFrame:\n",
    "#    \"\"\"\n",
    "#    since data is now long to begin with, this replaces old sum_by_group, make_long and assemble_long_df functions.\n",
    "#    \"\"\"\n",
    "#    from TEST_monthly_ridership_by_rtpa import get_percent_change\n",
    "#    grouped_df = df.groupby(group_cols+\n",
    "#                             ['period_year',\n",
    "#                             'period_month',\n",
    "#                             'period_year_month']\n",
    "#                           ).agg({\n",
    "#        \"upt\":\"sum\",\n",
    "#        \"previous_y_m_upt\":\"sum\",\n",
    "#        \"change_1yr\":\"sum\"\n",
    "#    }\n",
    "#    ).reset_index()\n",
    "    \n",
    "    #get %change back\n",
    "#    grouped_df = get_percent_change(grouped_df)\n",
    "    \n",
    "    #decimal to whole number\n",
    "#    grouped_df[\"pct_change_1yr\"] = grouped_df[\"pct_change_1yr\"]*100\n",
    "    \n",
    "#    return grouped_df\n",
    "    "
   ]
  },
  {
   "cell_type": "code",
   "execution_count": null,
   "id": "f52e71b2-1ad8-4713-9500-9f97cbcfc2c2",
   "metadata": {},
   "outputs": [],
   "source": [
    "#REMOVE\n",
    "\n",
    "# takes the sum_by_group dfs and makes them long\n",
    "# unpivots the sum_by_group dfs, each row is a different year/month\n",
    "\n",
    "# DONT THINK I NEED THIS ANYMORE!!!\n",
    "#def assemble_long_df(df: pd.DataFrame, group_cols: list) -> pd.DataFrame:\n",
    "#    \"\"\"\n",
    "#    Need df to be long to make chart.\n",
    "#    Let's put raw UPT and change side-by-side.\n",
    "#    \"\"\"\n",
    "#    df_raw = make_long(df, group_cols, upt_cols).rename(\n",
    "#        columns = {\"value\": \"upt\"})\n",
    "#    df_change = make_long(df, group_cols, change_cols).rename(\n",
    "#        columns = {\"value\": \"change_1yr\"})\n",
    "\n",
    "#    final = pd.merge(\n",
    "#        df_raw,\n",
    "#        df_change,\n",
    "#        on = group_cols + [\"variable\"],\n",
    "#        how = \"left\"\n",
    "#    )\n",
    "    \n",
    "#    final = final.assign(\n",
    "#        year = final.variable.str.split(\"/\", expand=True)[1],\n",
    "#        month = final.variable.str.split(\"/\", expand=True)[0].str.zfill(2)\n",
    "#    )\n",
    "    \n",
    "#    final = final.assign(\n",
    "#        year_month = final.year + \"-\" + final.month\n",
    "#    )\n",
    "    \n",
    "#    return final"
   ]
  },
  {
   "cell_type": "code",
   "execution_count": null,
   "id": "d8b92608-f81b-452b-916a-72285d67b392",
   "metadata": {},
   "outputs": [],
   "source": [
    "# KEEPING AS IS FOR NOW, BUT MAY NEED TO REWORK \n",
    "\n",
    "def remove_zero_upt_rows(df: pd.DataFrame) -> pd.DataFrame:\n",
    "    \"\"\"\n",
    "    takes the by_agency_long df, filters for rows with zero UPT AND zero change_1yr. \n",
    "    then removes these rows from the by_agency_long df.\n",
    "    resulting df should only contain rows with change in UPT not due to (0 UPT - 0 UPT) and net zero change in UPT\n",
    "    zero UPT and zero change_1yr occurs when (0 upt - 0upt = 0change), dont need to show this\n",
    "    but a net zero change (100upt - 100upt = 0 change), should be shown\n",
    "    \"\"\"\n",
    "    \n",
    "    #df of rows with zero UPT for 2 years\n",
    "    zero_UPT_2years = df[(df[\"upt\"] == 0) & (df[\"change_1yr\"] == 0)]\n",
    "    \n",
    "    merge = df.merge(zero_UPT_2years, how=\"left\", indicator=True)\n",
    "    no_zero_UPT_rows = merge[merge[\"_merge\"] == \"left_only\"].drop(columns=[\"_merge\"]).dropna(subset=\"change_1yr\")\n",
    "    \n",
    "    return no_zero_UPT_rows\n",
    "    "
   ]
  },
  {
   "cell_type": "code",
   "execution_count": null,
   "id": "6db38c9c-47b8-4887-a9fc-cf82c2c4eea5",
   "metadata": {},
   "outputs": [],
   "source": [
    "def group_by_agency(df):\n",
    "    \"\"\"\n",
    "    Take in the 'by_ageny_long' df and aggregatese by rtpa, and calculates upt % of total. \n",
    "    To be used in pie chart\n",
    "    \"\"\"\n",
    "    initial_agg = df.groupby(\"agency\").agg(\n",
    "        total_upt=(\"upt\",\"sum\")\n",
    "    ).reset_index()\n",
    "    \n",
    "    # % total columns\n",
    "    initial_agg[\"pct_of_total_upt\"] = (initial_agg[\"total_upt\"]/initial_agg[\"total_upt\"].sum())*100\n",
    "    \n",
    "    # cleaning data types and rounding\n",
    "    initial_agg[\"total_upt\"] = initial_agg[\"total_upt\"].astype(\"int64\")\n",
    "    initial_agg[\"pct_of_total_upt\"] = initial_agg[\"pct_of_total_upt\"].round(decimals=2)\n",
    "    cleaned_agg = initial_agg.sort_values(by=\"total_upt\", ascending = False)\n",
    "    \n",
    "    return cleaned_agg"
   ]
  },
  {
   "cell_type": "code",
   "execution_count": null,
   "id": "2d299cdb-21ba-4bf6-b6fb-3d64f02d59e5",
   "metadata": {},
   "outputs": [],
   "source": [
    "# NEW \n",
    "\n",
    "agency_cols = [\"ntd_id\", \"agency\", \"RTPA\"]\n",
    "mode_cols = [\"Mode\", \"RTPA\"]\n",
    "tos_cols = [\"TOS\", \"RTPA\"]\n",
    "\n",
    "# sum_by_group still works! now that it is imported!\n",
    "by_agency_long = sum_by_group(df, agency_cols)\n",
    "by_mode_long = sum_by_group(df, mode_cols)\n",
    "by_tos_long = sum_by_group(df, tos_cols)\n",
    "\n",
    "# zero upt still works!\n",
    "by_agency_long_no_zero_upt = remove_zero_upt_rows(by_agency_long)\n",
    "\n",
    "# total UPT check \n",
    "\n",
    "total_upt = by_agency_long[\"upt\"].sum()\n",
    "agency_count = by_agency_long[\"agency\"].nunique()\n",
    "\n",
    "\n",
    "agency_agg_yr = group_by_agency(by_agency_long)\n"
   ]
  },
  {
   "cell_type": "code",
   "execution_count": null,
   "id": "1bca9016-0024-44e0-b0a0-e11a313ca308",
   "metadata": {},
   "outputs": [],
   "source": [
    "#REMOVE\n",
    "\n",
    "#I STILL NEED FILTERED df BY AGENCY, MODE AND TOS\n",
    "\n",
    "#by_agency_long = assemble_long_df(by_agency, agency_cols)\n",
    "#by_mode_long = assemble_long_df(by_mode, mode_cols)\n",
    "#by_tos_long = assemble_long_df(by_tos, tos_cols)\n",
    "\n",
    "#by_agency_long_no_zero_upt = remove_zero_upt_rows(by_agency_long)"
   ]
  },
  {
   "cell_type": "code",
   "execution_count": null,
   "id": "1606b9e3-1311-40ea-aec8-1fa4ac0c2522",
   "metadata": {},
   "outputs": [],
   "source": [
    "LABELING_DICT = {\n",
    "    \"upt\": \"Unlinked Passenger Trips\",\n",
    "    \"change_1yr\": \"Change in Unlinked Passenger Trips from Prior Year\",\n",
    "    \"TOS\": \"Type of Service\",\n",
    "    \"year_month\": \"Date\"\n",
    "}\n",
    "\n",
    "def labeling(word: str) -> str:\n",
    "    return chart_utils.labeling(word, LABELING_DICT)\n",
    "\n",
    "WIDTH = 300\n",
    "HEIGHT = 150"
   ]
  },
  {
   "cell_type": "code",
   "execution_count": null,
   "id": "53510310-eaea-400d-af32-20f4c8773514",
   "metadata": {},
   "outputs": [],
   "source": [
    "def make_line_chart(\n",
    "    df: pd.DataFrame, \n",
    "    y_col: str,\n",
    "    color_col: str,\n",
    ") -> alt.Chart:\n",
    "    df = df[df[y_col] > 0].dropna(subset = y_col)\n",
    "\n",
    "    x_label = [i for i in df.period_year_month.unique() if \n",
    "               any(substring in i for substring in \n",
    "                   [\"-01\", \"-06\"])\n",
    "              ]    \n",
    "    chart = (alt.Chart(df)\n",
    "         .mark_line()\n",
    "         .encode(\n",
    "             x = alt.X(\"period_year_month:O\", \n",
    "                       axis=alt.Axis(values = x_label), \n",
    "                       title = \"Date\"\n",
    "                      ),\n",
    "             y = alt.Y(y_col, title = labeling(y_col)),\n",
    "             color = alt.Color(color_col, title = \"\", \n",
    "                               scale = alt.Scale(\n",
    "                                   range = cp.CALITP_CATEGORY_BRIGHT_COLORS + \n",
    "                                   cp.CALITP_CATEGORY_BOLD_COLORS\n",
    "                               )),\n",
    "             tooltip = [\"period_year_month\", y_col, color_col, \"RTPA\"]\n",
    "         ).properties(width = WIDTH, height = HEIGHT)\n",
    "         .facet(color_col, columns=2, title = \"\")\n",
    "         .resolve_scale(y=\"independent\")\n",
    "    ).properties(\n",
    "        title = f\"{labeling(y_col)} by {labeling(color_col)}\"\n",
    "    ).interactive()\n",
    "        \n",
    "    return chart"
   ]
  },
  {
   "cell_type": "code",
   "execution_count": null,
   "id": "f59f697a-912a-4dfe-bcac-02c9fc50b55d",
   "metadata": {},
   "outputs": [],
   "source": [
    "def make_bar_chart(\n",
    "    df: pd.DataFrame, \n",
    "    y_col: str,\n",
    "    color_col: str,\n",
    ") -> alt.Chart:\n",
    "    \n",
    "    def short_label(word):\n",
    "        shorten_dict = {\n",
    "            \"change_1yr\": \"Change\",\n",
    "            \"pct_change_1yr\":\"Change\",\n",
    "        }\n",
    "        return shorten_dict[word]\n",
    "    \n",
    "    # For change column, we are missing everything prior to 2023 \n",
    "    #df = df.dropna(subset = y_col)\n",
    "    \n",
    "    #need flag for y_col >,<, 0, missing?\n",
    "    #count function to how many agencies fall in those categories, then look at those agencies\n",
    "    #present table\n",
    "    \n",
    "    x_label = [i for i in df.period_year_month.unique() if \n",
    "               any(substring in i for substring in \n",
    "                   [\"-01\", \"-03\", \"-06\", \"-09\"])\n",
    "              ]\n",
    "    \n",
    "    chart = (alt.Chart(df)\n",
    "         .mark_bar()\n",
    "         .encode(\n",
    "             x = alt.X(\"period_year_month:O\", \n",
    "                       axis=alt.Axis(values = x_label), \n",
    "                       title = \"Date\"\n",
    "                      ),\n",
    "             y = alt.Y(y_col, title = short_label(y_col)),\n",
    "             color = alt.Color(color_col, title = \"\", \n",
    "                              scale = alt.Scale(\n",
    "                                   range = cp.CALITP_CATEGORY_BRIGHT_COLORS + \n",
    "                                   cp.CALITP_CATEGORY_BOLD_COLORS\n",
    "                              )),\n",
    "             tooltip = [\"period_year_month\", y_col, color_col, \"RTPA\"]\n",
    "         ).properties(width = WIDTH, height = HEIGHT)\n",
    "         .facet(color_col, columns=2, title = \"\")\n",
    "         .resolve_scale(x=\"shared\", \n",
    "                        y=\"independent\")\n",
    "    ).properties(\n",
    "        title = f\"{labeling(y_col)} by {labeling(color_col)}\"\n",
    "    ).interactive()\n",
    "    \n",
    "    return chart"
   ]
  },
  {
   "cell_type": "code",
   "execution_count": null,
   "id": "118b82e3-59f7-4ad4-81da-208fbcfa8280",
   "metadata": {},
   "outputs": [],
   "source": [
    "### initial pie code\n",
    "def make_pie_chart(df,\n",
    "             col,\n",
    "             color_col):\n",
    "    \n",
    "    pie = alt.Chart(df).mark_arc(radius = 150).encode(\n",
    "        theta=col,\n",
    "        color=color_col,\n",
    "        tooltip = [\"agency\",\"total_upt\",\"pct_of_total_upt\"]\n",
    "    ).properties(\n",
    "        title=f\"Total Unlinked Passenger Trips per agency in RTPA since {MIN_YEAR}\",\n",
    "\n",
    "    )\n",
    "\n",
    "    return pie"
   ]
  },
  {
   "cell_type": "code",
   "execution_count": null,
   "id": "413d77c9-b2cc-4847-9039-aa4d0caa64de",
   "metadata": {
    "tags": []
   },
   "outputs": [],
   "source": [
    "## moved to prod notebook 1/15/2025\n",
    "#simple bar chart for total agencies and UPT\n",
    "def total_upt_chart(df: pd.DataFrame, x_col:str, y_col:str,tool_tip:list):\n",
    "    bar_chart = alt.Chart(df).mark_bar().encode(\n",
    "    x=alt.X(x_col).sort(\"-y\"),\n",
    "    y=alt.Y(y_col),\n",
    "    tooltip = tool_tip,\n",
    "    color = alt.Color(x_col, title = \"\", \n",
    "                               scale = alt.Scale(\n",
    "                                   range = cp.CALITP_CATEGORY_BRIGHT_COLORS + \n",
    "                                   cp.CALITP_CATEGORY_BOLD_COLORS\n",
    "                               ))\n",
    "    ).properties(\n",
    "    title=f\"Total Unlinked Passenger Trips per agency in RTPA since {MIN_YEAR}\",\n",
    "    width = WIDTH, \n",
    "    height = HEIGHT,\n",
    "    ).resolve_scale(y=\"independent\").interactive()\n",
    "    \n",
    "    return bar_chart"
   ]
  },
  {
   "cell_type": "markdown",
   "id": "130b1309-910d-45ef-9a61-f0d15f2cbb96",
   "metadata": {},
   "source": [
    "### Totals"
   ]
  },
  {
   "cell_type": "code",
   "execution_count": null,
   "id": "e4214ddd-c5b6-407f-9287-0573669adf4f",
   "metadata": {},
   "outputs": [],
   "source": [
    "Markdown(f\"\"\"\n",
    "Within {rtpa}:\n",
    "- Number of Agencies/Operators: <b>{agency_count}</b>.\n",
    "- Total Unlinked Passenger Trips since {MIN_YEAR}: <b>{total_upt:,}</b>.\n",
    "- Individual agency/operator ridership breakdown:\n",
    "\"\"\")"
   ]
  },
  {
   "cell_type": "code",
   "execution_count": null,
   "id": "6b849d54-f0a5-47b1-84ef-a669c5258261",
   "metadata": {
    "tags": []
   },
   "outputs": [],
   "source": [
    "display(agency_agg_yr.reset_index(drop=True))"
   ]
  },
  {
   "cell_type": "code",
   "execution_count": null,
   "id": "2714c6eb-c1ea-4bbd-be69-cfc5dd16aa75",
   "metadata": {
    "tags": []
   },
   "outputs": [],
   "source": [
    "df_html= agency_agg_yr.reset_index(drop=True).to_html()\n",
    "\n",
    "print(df_html)"
   ]
  },
  {
   "cell_type": "code",
   "execution_count": null,
   "id": "38030feb-70e6-402f-8b77-3242076c0bc9",
   "metadata": {
    "tags": []
   },
   "outputs": [],
   "source": [
    "df_markdown= agency_agg_yr.reset_index(drop=True).to_markdown()\n",
    "\n",
    "print(df_markdown)"
   ]
  },
  {
   "cell_type": "code",
   "execution_count": null,
   "id": "7e5b1217-5c1d-4795-9eef-c25b245c9af3",
   "metadata": {},
   "outputs": [],
   "source": [
    "tooltip_list = [\"agency\",\"total_upt\",\"pct_of_total_upt\"]\n",
    "\n",
    "total_upt_chart(\n",
    "    agency_agg_yr,\n",
    "    x_col=\"agency\", \n",
    "    y_col=\"total_upt\", \n",
    "    tool_tip=tooltip_list)"
   ]
  },
  {
   "cell_type": "code",
   "execution_count": null,
   "id": "da59f86f-ba3c-4398-95ad-ad84e0ada732",
   "metadata": {},
   "outputs": [],
   "source": [
    "make_pie_chart(agency_agg_yr, col = \"total_upt\", color_col=\"agency\")\n"
   ]
  },
  {
   "cell_type": "markdown",
   "id": "ba59c380-aa2f-4fd2-a18b-f75e18074abc",
   "metadata": {},
   "source": [
    "### Transit Agency"
   ]
  },
  {
   "cell_type": "code",
   "execution_count": null,
   "id": "c068b244-f4c2-4ae7-9153-d2724ee9f5c2",
   "metadata": {},
   "outputs": [],
   "source": [
    "make_line_chart(by_agency_long, y_col = \"upt\", color_col = \"agency\")"
   ]
  },
  {
   "cell_type": "markdown",
   "id": "69a54f04-0a23-4715-95ae-3f00c96f4878",
   "metadata": {},
   "source": [
    "Change in Unlinked Passenger Trips from the prior year. For example, July 2023's change would be the change in July 2023's reported values against July 2022's reported values."
   ]
  },
  {
   "cell_type": "code",
   "execution_count": null,
   "id": "24462fe7-2af4-4023-9a88-0cc665ce763a",
   "metadata": {},
   "outputs": [],
   "source": [
    "# TEST OF BAR CHART WITH % CHANGE 1 YEAR\n",
    "make_bar_chart(by_agency_long_no_zero_upt[by_agency_long_no_zero_upt[\"period_year\"] >= 2018], \n",
    "               y_col = \"pct_change_1yr\", \n",
    "               color_col = \"agency\")"
   ]
  },
  {
   "cell_type": "code",
   "execution_count": null,
   "id": "ddd1a017-0907-4a9c-826d-edd958418c26",
   "metadata": {},
   "outputs": [],
   "source": [
    "make_bar_chart(by_agency_long_no_zero_upt[by_agency_long_no_zero_upt[\"period_year\"] >= 2024], y_col = \"change_1yr\", color_col = \"agency\")"
   ]
  },
  {
   "cell_type": "code",
   "execution_count": null,
   "id": "fd64bce0-577f-498e-9be8-4d664bfc47d1",
   "metadata": {},
   "outputs": [],
   "source": [
    "make_bar_chart(by_agency_long_no_zero_upt, y_col = \"change_1yr\", color_col = \"agency\")"
   ]
  },
  {
   "cell_type": "markdown",
   "id": "4d7db69c-9e51-4e1f-ac33-604a8afe4da5",
   "metadata": {},
   "source": [
    "### Transit Mode"
   ]
  },
  {
   "cell_type": "code",
   "execution_count": null,
   "id": "6d132a31-971d-44f2-a1aa-d60b2cf055f6",
   "metadata": {},
   "outputs": [],
   "source": [
    "make_line_chart(by_mode_long, y_col = \"upt\", color_col = \"Mode\")"
   ]
  },
  {
   "cell_type": "code",
   "execution_count": null,
   "id": "a2d861b0-6baa-4d7c-89eb-4b686a77ba3e",
   "metadata": {},
   "outputs": [],
   "source": [
    "make_bar_chart(by_mode_long[by_mode_long[\"period_year\"] >= 2024], y_col = \"change_1yr\", color_col = \"Mode\")"
   ]
  },
  {
   "cell_type": "markdown",
   "id": "1923cc1a-2e8c-471b-b578-a002fd27fe7f",
   "metadata": {},
   "source": [
    "### Type of Service"
   ]
  },
  {
   "cell_type": "code",
   "execution_count": null,
   "id": "e9999254-f07b-4041-a474-880a2b026434",
   "metadata": {},
   "outputs": [],
   "source": [
    "make_line_chart(by_tos_long, y_col = \"upt\", color_col = \"TOS\")"
   ]
  },
  {
   "cell_type": "code",
   "execution_count": null,
   "id": "3c147008-7d5f-473a-886b-65bbd030de5b",
   "metadata": {},
   "outputs": [],
   "source": [
    "make_bar_chart(by_tos_long[by_tos_long[\"period_year\"] >= 2024], y_col = \"change_1yr\", color_col = \"TOS\")"
   ]
  },
  {
   "cell_type": "code",
   "execution_count": null,
   "id": "ceee122d-99ba-4fc6-962e-d6182089d547",
   "metadata": {},
   "outputs": [],
   "source": []
  }
 ],
 "metadata": {
  "kernelspec": {
   "display_name": "Python 3 (ipykernel)",
   "language": "python",
   "name": "python3"
  },
  "language_info": {
   "codemirror_mode": {
    "name": "ipython",
    "version": 3
   },
   "file_extension": ".py",
   "mimetype": "text/x-python",
   "name": "python",
   "nbconvert_exporter": "python",
   "pygments_lexer": "ipython3",
   "version": "3.11.10"
  }
 },
 "nbformat": 4,
 "nbformat_minor": 5
}
