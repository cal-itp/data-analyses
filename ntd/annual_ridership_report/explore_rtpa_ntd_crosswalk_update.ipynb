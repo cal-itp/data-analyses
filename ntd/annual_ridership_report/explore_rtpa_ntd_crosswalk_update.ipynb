{
 "cells": [
  {
   "cell_type": "code",
   "execution_count": 1,
   "id": "58c36298-b0f6-42a6-bfd5-efd84f0c7352",
   "metadata": {
    "tags": []
   },
   "outputs": [],
   "source": [
    "import sys\n",
    "\n",
    "sys.path.append(\"../\")  # up one level\n",
    "\n",
    "import os\n",
    "import shutil\n",
    "\n",
    "import annual_ridership_module\n",
    "import gcsfs\n",
    "import geopandas as gpd\n",
    "import pandas as pd\n",
    "from calitp_data_analysis.sql import to_snakecase\n",
    "from calitp_data_analysis.tables import tbls\n",
    "from segment_speed_utils.project_vars import PUBLIC_GCS\n",
    "from siuba import _, collect, count, filter, select, show_query\n",
    "from update_vars import GCS_FILE_PATH, NTD_MODES, NTD_TOS\n",
    "\n",
    "GCS_FILE_PATH = \"gs://calitp-analytics-data/data-analyses/ntd/\"\n",
    "\n",
    "pd.set_option(\"display.max_rows\", None)\n",
    "pd.set_option(\"display.max_columns\", None)"
   ]
  },
  {
   "cell_type": "markdown",
   "id": "54a774cc-17e9-4b30-a620-013de7c03258",
   "metadata": {},
   "source": [
    "# Explore updating RTPA-to-NTD_id crosswalk\n",
    "\n",
    "Current rtpa/ntd_id crosswalk only contains full system reporters. This notebook will explore updating the crosswalk to include all reporter types (full, reduced, and rural system reporters).\n",
    "\n",
    "- Start with getting list of NTD reporters from the warehouse `dim_annual_services_agencies`\n",
    "- Then get a list of all California cities and all RTPAs, merge to get a list of cities and the RTPA they would be in\n",
    "- then merge the list of NTD reporters to the list of cities/rtpa, using `city` column. result should be a list of NTD reporters with their RTPAs\n",
    "---"
   ]
  },
  {
   "cell_type": "markdown",
   "id": "0433f1a7-3dec-4846-ae7b-6c98ca718c08",
   "metadata": {},
   "source": [
    "## Read in `dim_annual_service_agencies` to get agency info"
   ]
  },
  {
   "cell_type": "code",
   "execution_count": 2,
   "id": "f98f1315-8c6e-48fe-a03a-cb1706e0ee8b",
   "metadata": {
    "tags": []
   },
   "outputs": [],
   "source": [
    "# dim_annual_service_agenices is the annual report module.\n",
    "# included uza, VRM, VRH, UPT\n",
    "# report years include 2022-2023\n",
    "\n",
    "ntd_service = (\n",
    "    tbls.mart_ntd.dim_annual_service_agencies()\n",
    "    >> filter(_.state == \"CA\")\n",
    "    >> select(\n",
    "        \"report_year\",\n",
    "        \"ntd_id\",\n",
    "        \"agency\",\n",
    "        \"reporter_type\",\n",
    "        \"organization_type\",\n",
    "        \"city\",\n",
    "        \"state\",\n",
    "        \"primary_uza_name\",\n",
    "        \"actual_vehicles_passenger_car_revenue_hours\",\n",
    "        \"actual_vehicles_passenger_car_revenue_miles\",\n",
    "        \"unlinked_passenger_trips_upt\",\n",
    "    )\n",
    "    >> collect()\n",
    ")"
   ]
  },
  {
   "cell_type": "markdown",
   "id": "f80962b2-91ee-4fd1-9ddd-1f8526508b32",
   "metadata": {},
   "source": [
    "## Read in data from `fct_service_data_and_operating_expenses_time_series_by_mode_upt`"
   ]
  },
  {
   "cell_type": "code",
   "execution_count": 42,
   "id": "3d3eab90-08f3-412c-90bf-5f5c236f1263",
   "metadata": {
    "tags": []
   },
   "outputs": [],
   "source": [
    "# new warehouse table\n",
    "# includes upt, mode, tos and report year starting from 2018\n",
    "# contains historical,inactive agencies\n",
    "\n",
    "get_ntd_time_series = (\n",
    "    tbls.mart_ntd_funding_and_expenses.fct_service_data_and_operating_expenses_time_series_by_mode_upt()\n",
    "    >> filter(_.state == \"CA\",\n",
    "              _.year >= \"2018\",\n",
    "              _.city != None,\n",
    "             )\n",
    "    >> select(\n",
    "        'agency_name',\n",
    "        'agency_status',\n",
    "        'city',\n",
    "        'legacy_ntd_id',\n",
    "        'mode',\n",
    "        'ntd_id',\n",
    "        'reporter_type',\n",
    "        'reporting_module',\n",
    "        'service',\n",
    "        'state',\n",
    "        'uace_code',\n",
    "        'primary_uza_name',\n",
    "        'uza_population',\n",
    "        'year',\n",
    "        'upt',\n",
    "    )\n",
    "    >> collect()\n",
    ")"
   ]
  },
  {
   "cell_type": "code",
   "execution_count": 49,
   "id": "d6070c54-90c5-4734-aa89-d1eee6decc3a",
   "metadata": {
    "tags": []
   },
   "outputs": [
    {
     "name": "stdout",
     "output_type": "stream",
     "text": [
      "<class 'pandas.core.frame.DataFrame'>\n",
      "RangeIndex: 253 entries, 0 to 252\n",
      "Data columns (total 7 columns):\n",
      " #   Column            Non-Null Count  Dtype  \n",
      "---  ------            --------------  -----  \n",
      " 0   agency_name       253 non-null    object \n",
      " 1   agency_status     253 non-null    object \n",
      " 2   city              253 non-null    object \n",
      " 3   ntd_id            253 non-null    object \n",
      " 4   primary_uza_name  253 non-null    object \n",
      " 5   reporter_type     253 non-null    object \n",
      " 6   upt               253 non-null    float64\n",
      "dtypes: float64(1), object(6)\n",
      "memory usage: 14.0+ KB\n"
     ]
    }
   ],
   "source": [
    "#what does group by look like\n",
    "ntd_time_series = get_ntd_time_series.groupby(\n",
    "    [\n",
    "        \"agency_name\",\n",
    "        'agency_status',\n",
    "        \"city\",\n",
    "        \"ntd_id\",\n",
    "        'primary_uza_name',\n",
    "        \"reporter_type\"\n",
    "    ]\n",
    ").agg({\n",
    "    \"upt\":\"sum\"\n",
    "}).sort_values(by=\"ntd_id\").reset_index()\n",
    "\n",
    "ntd_time_series.info()"
   ]
  },
  {
   "cell_type": "markdown",
   "id": "fb801070-5086-4ef9-866a-ac71e40be6f1",
   "metadata": {},
   "source": [
    "## Manual Update to `ntd_service`"
   ]
  },
  {
   "cell_type": "code",
   "execution_count": 5,
   "id": "8b48c08c-c94e-4856-b4fc-cec5811a1383",
   "metadata": {
    "tags": []
   },
   "outputs": [],
   "source": [
    "update_dict = {\n",
    "    \"90227\": \"Moorpark\",\n",
    "    \"90253\": \"Bell Gardens\",\n",
    "    \"90259\": \"Cerritos\",\n",
    "    \"90286\": \"Monterey Park\",\n",
    "}\n",
    "\n",
    "for i, v in update_dict.items():\n",
    "    ntd_service.loc[ntd_service[\"ntd_id\"] == i, \"city\"] = v"
   ]
  },
  {
   "cell_type": "markdown",
   "id": "8578cdcf-9214-4e56-a31e-7ca3b282fbc3",
   "metadata": {
    "tags": []
   },
   "source": [
    "## Read in GDF of Census Designated Places (aka cities) and RTPA bounaries\n",
    "\n",
    "Census Designated Places (CDPs) 2010 - California map\n",
    "- https://data.sacog.org/datasets/SACOG::census-designated-places-cdps-2010-california/about\n",
    "\n",
    "\n",
    "RTPA map opend data\n",
    "\n",
    "- https://www.lab.data.ca.gov/dataset/regional-transportation-planning-agencies"
   ]
  },
  {
   "cell_type": "code",
   "execution_count": 6,
   "id": "2bc5d43e-ec9c-4f6d-90d3-4b9c3514720d",
   "metadata": {
    "tags": []
   },
   "outputs": [],
   "source": [
    "# RTPA map\n",
    "rtpa_url = \"https://cecgis-caenergy.opendata.arcgis.com/api/download/v1/items/3a83743378be4e7f84c8230889c01dea/geojson?layers=0\"\n",
    "rtpa_map = gpd.read_file(rtpa_url)[\n",
    "    [\"RTPA\", \"LABEL_RTPA\", \"geometry\"]\n",
    "]  # .set_crs(\"ESRI:102600\", allow_override=True)\n",
    "rtpa_map = rtpa_map.to_crs(\"ESRI:102600\")  # for sjoin later"
   ]
  },
  {
   "cell_type": "code",
   "execution_count": 7,
   "id": "03a61250-1a4b-4605-aed3-485d2e01a024",
   "metadata": {
    "tags": []
   },
   "outputs": [],
   "source": [
    "# California Census Designated Places (2010), includes cities and CDPs\n",
    "cdp_url = \"https://services6.arcgis.com/YBp5dUuxCMd8W1EI/arcgis/rest/services/California_Census_Designated_Places_2010/FeatureServer/0/query?outFields=*&where=1%3D1&f=geojson\"\n",
    "keep_cdp_col = [\"FID\", \"NAME10\", \"NAMELSAD10\", \"geometry\"]\n",
    "cdp_map = gpd.read_file(cdp_url)[keep_cdp_col].rename(\n",
    "    columns={\"NAME10\": \"cdp_name\", \"NAMELSAD10\": \"name_lsad\"}\n",
    ")  # .set_crs(\"ESRI:102600\", allow_override=True)"
   ]
  },
  {
   "cell_type": "markdown",
   "id": "a0e36645-83c1-4a5c-b7e5-8ac2b1e4402b",
   "metadata": {},
   "source": [
    "## get centroid of CDPs to get point geom instead of polygons"
   ]
  },
  {
   "cell_type": "code",
   "execution_count": 8,
   "id": "8d5a3d55-aa5a-4579-a381-92c477363147",
   "metadata": {
    "tags": []
   },
   "outputs": [],
   "source": [
    "cdp_map[\"centroid\"] = (\n",
    "    cdp_map[\"geometry\"].to_crs(\"ESRI:102600\").centroid\n",
    ")  # CRS used to create centoid. is not presistent\n",
    "cdp_points = cdp_map.set_geometry(\"centroid\", drop=True)"
   ]
  },
  {
   "cell_type": "markdown",
   "id": "bb49a9de-9cd9-4ddf-b397-d272964a192a",
   "metadata": {},
   "source": [
    "## sjoin `cdp_map` to `rtpa_map` get get cites-to-rtpa crosswalk"
   ]
  },
  {
   "cell_type": "code",
   "execution_count": 9,
   "id": "17b0a639-9332-4c72-8d3e-dab5a7e33bd5",
   "metadata": {
    "tags": []
   },
   "outputs": [
    {
     "data": {
      "text/plain": [
       "True"
      ]
     },
     "execution_count": 9,
     "metadata": {},
     "output_type": "execute_result"
    }
   ],
   "source": [
    "cdp_points.crs == rtpa_map.crs\n",
    "# both are ESRI:102600"
   ]
  },
  {
   "cell_type": "code",
   "execution_count": 10,
   "id": "7521174a-9e01-4149-a51b-efe5458100b8",
   "metadata": {
    "tags": []
   },
   "outputs": [],
   "source": [
    "city_to_rtpa = gpd.sjoin(\n",
    "    cdp_points,  # includes cities and CDPs.\n",
    "    rtpa_map,\n",
    "    how=\"left\",\n",
    "    # how=\"inner\",\n",
    "    predicate=\"intersects\",\n",
    "    # predicate=\"within\",\n",
    ")\n",
    "# left, intersects = 1523 rows, 1521 CDPs matched,2 CDPs did not match to an RTPA (Avalon and City of San Francisco)\n",
    "# inner, intersects = 1521 rows,1521 CDPs matched\n",
    "# left, within = 1523 rows, 1521 CDPs matched,2 CDPs did not match to an RTPA\n",
    "# inner, within = 1521 rows,1521 CDPs matched"
   ]
  },
  {
   "cell_type": "markdown",
   "id": "4c96223c-5657-419b-bca5-294b0f6d90ba",
   "metadata": {},
   "source": [
    "### fix unmerged CDP rtpa rows"
   ]
  },
  {
   "cell_type": "code",
   "execution_count": 11,
   "id": "325214ee-ef82-4f38-9b18-b8fd669d57d5",
   "metadata": {
    "tags": []
   },
   "outputs": [
    {
     "data": {
      "text/html": [
       "<div>\n",
       "<style scoped>\n",
       "    .dataframe tbody tr th:only-of-type {\n",
       "        vertical-align: middle;\n",
       "    }\n",
       "\n",
       "    .dataframe tbody tr th {\n",
       "        vertical-align: top;\n",
       "    }\n",
       "\n",
       "    .dataframe thead th {\n",
       "        text-align: right;\n",
       "    }\n",
       "</style>\n",
       "<table border=\"1\" class=\"dataframe\">\n",
       "  <thead>\n",
       "    <tr style=\"text-align: right;\">\n",
       "      <th></th>\n",
       "      <th>FID</th>\n",
       "      <th>cdp_name</th>\n",
       "      <th>name_lsad</th>\n",
       "      <th>geometry</th>\n",
       "      <th>index_right</th>\n",
       "      <th>RTPA</th>\n",
       "      <th>LABEL_RTPA</th>\n",
       "    </tr>\n",
       "  </thead>\n",
       "  <tbody>\n",
       "    <tr>\n",
       "      <th>862</th>\n",
       "      <td>863</td>\n",
       "      <td>Avalon</td>\n",
       "      <td>Avalon city</td>\n",
       "      <td>POINT (510003.406 7421706.792)</td>\n",
       "      <td>NaN</td>\n",
       "      <td>Southern California Association of Governments</td>\n",
       "      <td>SCAG</td>\n",
       "    </tr>\n",
       "    <tr>\n",
       "      <th>889</th>\n",
       "      <td>890</td>\n",
       "      <td>San Francisco</td>\n",
       "      <td>San Francisco city</td>\n",
       "      <td>POINT (-777550.185 9040909.841)</td>\n",
       "      <td>NaN</td>\n",
       "      <td>Metropolitan Transportation Commission</td>\n",
       "      <td>MTC</td>\n",
       "    </tr>\n",
       "  </tbody>\n",
       "</table>\n",
       "</div>"
      ],
      "text/plain": [
       "     FID       cdp_name           name_lsad                         geometry  \\\n",
       "862  863         Avalon         Avalon city   POINT (510003.406 7421706.792)   \n",
       "889  890  San Francisco  San Francisco city  POINT (-777550.185 9040909.841)   \n",
       "\n",
       "     index_right                                            RTPA LABEL_RTPA  \n",
       "862          NaN  Southern California Association of Governments       SCAG  \n",
       "889          NaN          Metropolitan Transportation Commission        MTC  "
      ]
     },
     "execution_count": 11,
     "metadata": {},
     "output_type": "execute_result"
    }
   ],
   "source": [
    "# Avalon fix\n",
    "city_to_rtpa.loc[city_to_rtpa[\"cdp_name\"] == \"Avalon\", (\"RTPA\", \"LABEL_RTPA\")] = (\n",
    "    \"Southern California Association of Governments\",\n",
    "    \"SCAG\",\n",
    ")\n",
    "\n",
    "# San Francisco Fix\n",
    "city_to_rtpa.loc[\n",
    "    city_to_rtpa[\"cdp_name\"] == \"San Francisco\", (\"RTPA\", \"LABEL_RTPA\")\n",
    "] = (\"Metropolitan Transportation Commission\", \"MTC\")\n",
    "\n",
    "# check fix\n",
    "city_to_rtpa[city_to_rtpa[\"cdp_name\"].isin([\"Avalon\", \"San Francisco\"])]"
   ]
  },
  {
   "cell_type": "markdown",
   "id": "fc1c42b7-1e40-4a69-861c-6d1cdb775d1f",
   "metadata": {},
   "source": [
    "## merge `ntd_service` to `city_to_rtpa`"
   ]
  },
  {
   "cell_type": "code",
   "execution_count": 46,
   "id": "f11f9f7d-470f-421c-ae53-b3950ad8b80b",
   "metadata": {
    "tags": []
   },
   "outputs": [
    {
     "name": "stdout",
     "output_type": "stream",
     "text": [
      "<class 'pandas.core.frame.DataFrame'>\n",
      "Int64Index: 424 entries, 0 to 423\n",
      "Data columns (total 14 columns):\n",
      " #   Column                                       Non-Null Count  Dtype   \n",
      "---  ------                                       --------------  -----   \n",
      " 0   report_year                                  424 non-null    int64   \n",
      " 1   ntd_id                                       424 non-null    object  \n",
      " 2   agency                                       424 non-null    object  \n",
      " 3   reporter_type                                424 non-null    object  \n",
      " 4   organization_type                            424 non-null    object  \n",
      " 5   city                                         424 non-null    object  \n",
      " 6   state                                        424 non-null    object  \n",
      " 7   primary_uza_name                             331 non-null    object  \n",
      " 8   actual_vehicles_passenger_car_revenue_hours  424 non-null    float64 \n",
      " 9   actual_vehicles_passenger_car_revenue_miles  424 non-null    float64 \n",
      " 10  unlinked_passenger_trips_upt                 424 non-null    float64 \n",
      " 11  cdp_name                                     415 non-null    object  \n",
      " 12  RTPA                                         415 non-null    object  \n",
      " 13  _merge                                       424 non-null    category\n",
      "dtypes: category(1), float64(3), int64(1), object(9)\n",
      "memory usage: 46.9+ KB\n"
     ]
    }
   ],
   "source": [
    "ntd_data_to_rtpa = ntd_service.merge(\n",
    "    city_to_rtpa[[\"cdp_name\", \"RTPA\"]],\n",
    "    left_on=(\"city\"),\n",
    "    right_on=(\"cdp_name\"),\n",
    "    how=\"left\",  # with left join, got some unmerged rows. aka reporters that dont appear in the city_to_rtpa list (CDP?). and fan out 1:m rows due to some dupe cdp names\n",
    "    indicator=True,\n",
    ")\n",
    "ntd_data_to_rtpa.info()"
   ]
  },
  {
   "cell_type": "markdown",
   "id": "8b202596-5913-4d88-8048-9a94c7ea01f0",
   "metadata": {},
   "source": [
    "## merge `ntd_time_series` to `city_to_rtpa`"
   ]
  },
  {
   "cell_type": "code",
   "execution_count": 52,
   "id": "70be1f64-eb58-4e86-9dbb-208adf1ebb88",
   "metadata": {
    "tags": []
   },
   "outputs": [
    {
     "name": "stdout",
     "output_type": "stream",
     "text": [
      "<class 'pandas.core.frame.DataFrame'>\n",
      "Int64Index: 255 entries, 0 to 254\n",
      "Data columns (total 10 columns):\n",
      " #   Column            Non-Null Count  Dtype   \n",
      "---  ------            --------------  -----   \n",
      " 0   agency_name       255 non-null    object  \n",
      " 1   agency_status     255 non-null    object  \n",
      " 2   city              255 non-null    object  \n",
      " 3   ntd_id            255 non-null    object  \n",
      " 4   primary_uza_name  255 non-null    object  \n",
      " 5   reporter_type     255 non-null    object  \n",
      " 6   upt               255 non-null    float64 \n",
      " 7   cdp_name          248 non-null    object  \n",
      " 8   RTPA              248 non-null    object  \n",
      " 9   _merge            255 non-null    category\n",
      "dtypes: category(1), float64(1), object(8)\n",
      "memory usage: 20.3+ KB\n"
     ]
    }
   ],
   "source": [
    "alt_ntd_to_rtpa = ntd_time_series.merge(\n",
    "    city_to_rtpa[[\"cdp_name\", \"RTPA\"]],\n",
    "    left_on=(\"city\"),\n",
    "    right_on=(\"cdp_name\"),\n",
    "    how=\"left\",  # with left join, got some unmerged rows. aka reporters that dont appear in the city_to_rtpa list (CDP?). and fan out 1:m rows due to some dupe cdp names\n",
    "    indicator=True,\n",
    ")\n",
    "alt_ntd_to_rtpa.info()"
   ]
  },
  {
   "cell_type": "code",
   "execution_count": 53,
   "id": "6f09a068-8001-4b13-ade9-39b7f0c731e2",
   "metadata": {
    "tags": []
   },
   "outputs": [
    {
     "data": {
      "text/plain": [
       "both          248\n",
       "left_only       7\n",
       "right_only      0\n",
       "Name: _merge, dtype: int64"
      ]
     },
     "execution_count": 53,
     "metadata": {},
     "output_type": "execute_result"
    }
   ],
   "source": [
    "alt_ntd_to_rtpa[\"_merge\"].value_counts()"
   ]
  },
  {
   "cell_type": "markdown",
   "id": "ee4f78f9-31c2-418d-bbac-24c2685906a3",
   "metadata": {},
   "source": [
    "### manual updates to `ntd_data_to_rtpa`"
   ]
  },
  {
   "cell_type": "code",
   "execution_count": 15,
   "id": "c6ecb2e7-4033-4d1e-896b-5f96529f152c",
   "metadata": {
    "tags": []
   },
   "outputs": [
    {
     "data": {
      "text/html": [
       "<div>\n",
       "<style scoped>\n",
       "    .dataframe tbody tr th:only-of-type {\n",
       "        vertical-align: middle;\n",
       "    }\n",
       "\n",
       "    .dataframe tbody tr th {\n",
       "        vertical-align: top;\n",
       "    }\n",
       "\n",
       "    .dataframe thead th {\n",
       "        text-align: right;\n",
       "    }\n",
       "</style>\n",
       "<table border=\"1\" class=\"dataframe\">\n",
       "  <thead>\n",
       "    <tr style=\"text-align: right;\">\n",
       "      <th></th>\n",
       "      <th>report_year</th>\n",
       "      <th>agency</th>\n",
       "      <th>city</th>\n",
       "      <th>cdp_name</th>\n",
       "      <th>RTPA</th>\n",
       "    </tr>\n",
       "  </thead>\n",
       "  <tbody>\n",
       "    <tr>\n",
       "      <th>285</th>\n",
       "      <td>2022</td>\n",
       "      <td>Palos Verdes Peninsula Transit Authority</td>\n",
       "      <td>Palos Verdes Peninsula</td>\n",
       "      <td>NaN</td>\n",
       "      <td>NaN</td>\n",
       "    </tr>\n",
       "    <tr>\n",
       "      <th>306</th>\n",
       "      <td>2023</td>\n",
       "      <td>County of Ventura</td>\n",
       "      <td>Ventura</td>\n",
       "      <td>NaN</td>\n",
       "      <td>NaN</td>\n",
       "    </tr>\n",
       "    <tr>\n",
       "      <th>307</th>\n",
       "      <td>2022</td>\n",
       "      <td>County of Ventura</td>\n",
       "      <td>Ventura</td>\n",
       "      <td>NaN</td>\n",
       "      <td>NaN</td>\n",
       "    </tr>\n",
       "    <tr>\n",
       "      <th>322</th>\n",
       "      <td>2022</td>\n",
       "      <td>Chemehuevi Indian Tribe</td>\n",
       "      <td>Havasu Lake</td>\n",
       "      <td>NaN</td>\n",
       "      <td>NaN</td>\n",
       "    </tr>\n",
       "    <tr>\n",
       "      <th>323</th>\n",
       "      <td>2023</td>\n",
       "      <td>Chemehuevi Indian Tribe</td>\n",
       "      <td>Havasu Lake</td>\n",
       "      <td>NaN</td>\n",
       "      <td>NaN</td>\n",
       "    </tr>\n",
       "    <tr>\n",
       "      <th>326</th>\n",
       "      <td>2023</td>\n",
       "      <td>North Fork Rancheria of Mono Indians of Califo...</td>\n",
       "      <td>North Fork</td>\n",
       "      <td>NaN</td>\n",
       "      <td>NaN</td>\n",
       "    </tr>\n",
       "    <tr>\n",
       "      <th>327</th>\n",
       "      <td>2022</td>\n",
       "      <td>North Fork Rancheria of Mono Indians of Califo...</td>\n",
       "      <td>North Fork</td>\n",
       "      <td>NaN</td>\n",
       "      <td>NaN</td>\n",
       "    </tr>\n",
       "    <tr>\n",
       "      <th>406</th>\n",
       "      <td>2023</td>\n",
       "      <td>City of McFarland, dba: McFarland City Transit...</td>\n",
       "      <td>Mcfarland</td>\n",
       "      <td>NaN</td>\n",
       "      <td>NaN</td>\n",
       "    </tr>\n",
       "    <tr>\n",
       "      <th>407</th>\n",
       "      <td>2022</td>\n",
       "      <td>City of McFarland</td>\n",
       "      <td>Mcfarland</td>\n",
       "      <td>NaN</td>\n",
       "      <td>NaN</td>\n",
       "    </tr>\n",
       "  </tbody>\n",
       "</table>\n",
       "</div>"
      ],
      "text/plain": [
       "     report_year                                             agency  \\\n",
       "285         2022           Palos Verdes Peninsula Transit Authority   \n",
       "306         2023                                  County of Ventura   \n",
       "307         2022                                  County of Ventura   \n",
       "322         2022                            Chemehuevi Indian Tribe   \n",
       "323         2023                            Chemehuevi Indian Tribe   \n",
       "326         2023  North Fork Rancheria of Mono Indians of Califo...   \n",
       "327         2022  North Fork Rancheria of Mono Indians of Califo...   \n",
       "406         2023  City of McFarland, dba: McFarland City Transit...   \n",
       "407         2022                                  City of McFarland   \n",
       "\n",
       "                       city cdp_name RTPA  \n",
       "285  Palos Verdes Peninsula      NaN  NaN  \n",
       "306                 Ventura      NaN  NaN  \n",
       "307                 Ventura      NaN  NaN  \n",
       "322             Havasu Lake      NaN  NaN  \n",
       "323             Havasu Lake      NaN  NaN  \n",
       "326              North Fork      NaN  NaN  \n",
       "327              North Fork      NaN  NaN  \n",
       "406               Mcfarland      NaN  NaN  \n",
       "407               Mcfarland      NaN  NaN  "
      ]
     },
     "execution_count": 15,
     "metadata": {},
     "output_type": "execute_result"
    }
   ],
   "source": [
    "# rows with NaN RTPAs\n",
    "ntd_data_to_rtpa[ntd_data_to_rtpa[\"RTPA\"].isna()][\n",
    "    [\"report_year\", \"agency\", \"city\", \"cdp_name\", \"RTPA\"]\n",
    "] # 9 rows didnt get an RTPA"
   ]
  },
  {
   "cell_type": "markdown",
   "id": "a5b7536d-cd9a-4766-9a5d-0f42484f307e",
   "metadata": {},
   "source": [
    "### manual updates to `alt_ntd_to_rtpa`"
   ]
  },
  {
   "cell_type": "code",
   "execution_count": 54,
   "id": "0c6aed18-f7e9-4a8b-8eea-11fcd936be35",
   "metadata": {
    "tags": []
   },
   "outputs": [
    {
     "data": {
      "text/html": [
       "<div>\n",
       "<style scoped>\n",
       "    .dataframe tbody tr th:only-of-type {\n",
       "        vertical-align: middle;\n",
       "    }\n",
       "\n",
       "    .dataframe tbody tr th {\n",
       "        vertical-align: top;\n",
       "    }\n",
       "\n",
       "    .dataframe thead th {\n",
       "        text-align: right;\n",
       "    }\n",
       "</style>\n",
       "<table border=\"1\" class=\"dataframe\">\n",
       "  <thead>\n",
       "    <tr style=\"text-align: right;\">\n",
       "      <th></th>\n",
       "      <th>agency_name</th>\n",
       "      <th>city</th>\n",
       "      <th>cdp_name</th>\n",
       "      <th>RTPA</th>\n",
       "    </tr>\n",
       "  </thead>\n",
       "  <tbody>\n",
       "    <tr>\n",
       "      <th>243</th>\n",
       "      <td>Chemehuevi Indian Tribe (CTA) - Reality and Pl...</td>\n",
       "      <td>Havasu Lake</td>\n",
       "      <td>NaN</td>\n",
       "      <td>NaN</td>\n",
       "    </tr>\n",
       "    <tr>\n",
       "      <th>234</th>\n",
       "      <td>City of McFarland - Public Works Department</td>\n",
       "      <td>Mcfarland</td>\n",
       "      <td>NaN</td>\n",
       "      <td>NaN</td>\n",
       "    </tr>\n",
       "    <tr>\n",
       "      <th>168</th>\n",
       "      <td>City of Monterey Park - Public Works Department</td>\n",
       "      <td>Montery Park</td>\n",
       "      <td>NaN</td>\n",
       "      <td>NaN</td>\n",
       "    </tr>\n",
       "    <tr>\n",
       "      <th>245</th>\n",
       "      <td>North Fork Rancheria of Mono Indians of Califo...</td>\n",
       "      <td>North Fork</td>\n",
       "      <td>NaN</td>\n",
       "      <td>NaN</td>\n",
       "    </tr>\n",
       "    <tr>\n",
       "      <th>95</th>\n",
       "      <td>Paso Robles Transit Services (PE)</td>\n",
       "      <td>Paso Robles</td>\n",
       "      <td>NaN</td>\n",
       "      <td>NaN</td>\n",
       "    </tr>\n",
       "    <tr>\n",
       "      <th>68</th>\n",
       "      <td>DAVE Transportation Services, Inc.</td>\n",
       "      <td>Sherman Oaks</td>\n",
       "      <td>NaN</td>\n",
       "      <td>NaN</td>\n",
       "    </tr>\n",
       "    <tr>\n",
       "      <th>181</th>\n",
       "      <td>County of Ventura (PWATD) - Public Works</td>\n",
       "      <td>Ventura</td>\n",
       "      <td>NaN</td>\n",
       "      <td>NaN</td>\n",
       "    </tr>\n",
       "  </tbody>\n",
       "</table>\n",
       "</div>"
      ],
      "text/plain": [
       "                                           agency_name          city cdp_name  \\\n",
       "243  Chemehuevi Indian Tribe (CTA) - Reality and Pl...   Havasu Lake      NaN   \n",
       "234        City of McFarland - Public Works Department     Mcfarland      NaN   \n",
       "168    City of Monterey Park - Public Works Department  Montery Park      NaN   \n",
       "245  North Fork Rancheria of Mono Indians of Califo...    North Fork      NaN   \n",
       "95                   Paso Robles Transit Services (PE)   Paso Robles      NaN   \n",
       "68                  DAVE Transportation Services, Inc.  Sherman Oaks      NaN   \n",
       "181           County of Ventura (PWATD) - Public Works       Ventura      NaN   \n",
       "\n",
       "    RTPA  \n",
       "243  NaN  \n",
       "234  NaN  \n",
       "168  NaN  \n",
       "245  NaN  \n",
       "95   NaN  \n",
       "68   NaN  \n",
       "181  NaN  "
      ]
     },
     "execution_count": 54,
     "metadata": {},
     "output_type": "execute_result"
    }
   ],
   "source": [
    "# rows with NaN RTPAs\n",
    "alt_ntd_to_rtpa[alt_ntd_to_rtpa[\"RTPA\"].isna()][\n",
    "    [\"agency_name\", \"city\", \"cdp_name\", \"RTPA\"]\n",
    "].drop_duplicates().sort_values(by=\"city\")  # 21 rows with empty RTPAs"
   ]
  },
  {
   "cell_type": "code",
   "execution_count": 55,
   "id": "77357539-489c-47b5-bc6e-1f97bf14cb4c",
   "metadata": {
    "tags": []
   },
   "outputs": [
    {
     "data": {
      "text/plain": [
       "array(['Sherman Oaks', 'Paso Robles', 'Montery Park', 'Ventura',\n",
       "       'Mcfarland', 'Havasu Lake', 'North Fork'], dtype=object)"
      ]
     },
     "execution_count": 55,
     "metadata": {},
     "output_type": "execute_result"
    }
   ],
   "source": [
    "alt_ntd_to_rtpa[alt_ntd_to_rtpa[\"RTPA\"].isna()][\"city\"].unique()"
   ]
  },
  {
   "cell_type": "code",
   "execution_count": 56,
   "id": "80d67f08-48c8-413c-bda4-7b74b0f5abb8",
   "metadata": {
    "tags": []
   },
   "outputs": [
    {
     "data": {
      "text/html": [
       "<div>\n",
       "<style scoped>\n",
       "    .dataframe tbody tr th:only-of-type {\n",
       "        vertical-align: middle;\n",
       "    }\n",
       "\n",
       "    .dataframe tbody tr th {\n",
       "        vertical-align: top;\n",
       "    }\n",
       "\n",
       "    .dataframe thead th {\n",
       "        text-align: right;\n",
       "    }\n",
       "</style>\n",
       "<table border=\"1\" class=\"dataframe\">\n",
       "  <thead>\n",
       "    <tr style=\"text-align: right;\">\n",
       "      <th></th>\n",
       "      <th>FID</th>\n",
       "      <th>cdp_name</th>\n",
       "      <th>name_lsad</th>\n",
       "      <th>geometry</th>\n",
       "      <th>index_right</th>\n",
       "      <th>RTPA</th>\n",
       "      <th>LABEL_RTPA</th>\n",
       "    </tr>\n",
       "  </thead>\n",
       "  <tbody>\n",
       "  </tbody>\n",
       "</table>\n",
       "</div>"
      ],
      "text/plain": [
       "Empty GeoDataFrame\n",
       "Columns: [FID, cdp_name, name_lsad, geometry, index_right, RTPA, LABEL_RTPA]\n",
       "Index: []"
      ]
     },
     "execution_count": 56,
     "metadata": {},
     "output_type": "execute_result"
    }
   ],
   "source": [
    "city_to_rtpa[city_to_rtpa[\"cdp_name\"].str.contains(\"Sherman\")]"
   ]
  },
  {
   "cell_type": "code",
   "execution_count": 57,
   "id": "a1b69317-ec59-44bc-b88c-37295dd3088f",
   "metadata": {
    "tags": []
   },
   "outputs": [],
   "source": [
    "#dictionary to update missing cdp and RTPA values from Cities\n",
    "\n",
    "update_dict={\n",
    "    \"Mcfarland\": (\"Mcfarland\",\"Kern Council of Governments\"),\n",
    "    \"Ventura\":(\"Ventura\",\"Southern California Association of Governments\"),\n",
    "    \"Palos Verdes Peninsula\":(\"Rolling Hills\",\"Southern California Association of Governments\"),# to match other entries for this agency\n",
    "    \"Havasu Lake\":(\"Havasu Lake\",\"Southern California Association of Governments\"), # aka Lake Havasu. shares zip code with Needles. so update to SCAG\n",
    "    \"North Fork\":(\"North Fork\",\"Madera County Transportation Commission\"), #in Madera County, update to\n",
    "    \"Montery Park\":(\"Monterey Park\",\"Southern California Association of Governments\"),\n",
    "    \"Paso Robles\":(\"Paso Robles\",\"San Luis Obispo Council of Governments\"),\n",
    "    \"Sherman Oaks\":(\"Sherman Oaks\",\"Southern California Association of Governments\")\n",
    "}\n",
    "\n",
    "#make loop using update_dict:\n",
    "for k,v in update_dict.items():\n",
    "    ntd_data_to_rtpa.loc[ntd_data_to_rtpa[\"city\"]==k,(\"cdp_name\",\"RTPA\")] = v\n",
    "    alt_ntd_to_rtpa.loc[alt_ntd_to_rtpa[\"city\"]==k,(\"cdp_name\",\"RTPA\")] = v\n"
   ]
  },
  {
   "cell_type": "code",
   "execution_count": 58,
   "id": "7a771992-1f5a-4922-ba1a-a1140d46ea8d",
   "metadata": {
    "tags": []
   },
   "outputs": [
    {
     "data": {
      "text/html": [
       "<div>\n",
       "<style scoped>\n",
       "    .dataframe tbody tr th:only-of-type {\n",
       "        vertical-align: middle;\n",
       "    }\n",
       "\n",
       "    .dataframe tbody tr th {\n",
       "        vertical-align: top;\n",
       "    }\n",
       "\n",
       "    .dataframe thead th {\n",
       "        text-align: right;\n",
       "    }\n",
       "</style>\n",
       "<table border=\"1\" class=\"dataframe\">\n",
       "  <thead>\n",
       "    <tr style=\"text-align: right;\">\n",
       "      <th></th>\n",
       "      <th>report_year</th>\n",
       "      <th>agency</th>\n",
       "      <th>city</th>\n",
       "      <th>cdp_name</th>\n",
       "      <th>RTPA</th>\n",
       "    </tr>\n",
       "  </thead>\n",
       "  <tbody>\n",
       "  </tbody>\n",
       "</table>\n",
       "</div>"
      ],
      "text/plain": [
       "Empty DataFrame\n",
       "Columns: [report_year, agency, city, cdp_name, RTPA]\n",
       "Index: []"
      ]
     },
     "metadata": {},
     "output_type": "display_data"
    },
    {
     "data": {
      "text/html": [
       "<div>\n",
       "<style scoped>\n",
       "    .dataframe tbody tr th:only-of-type {\n",
       "        vertical-align: middle;\n",
       "    }\n",
       "\n",
       "    .dataframe tbody tr th {\n",
       "        vertical-align: top;\n",
       "    }\n",
       "\n",
       "    .dataframe thead th {\n",
       "        text-align: right;\n",
       "    }\n",
       "</style>\n",
       "<table border=\"1\" class=\"dataframe\">\n",
       "  <thead>\n",
       "    <tr style=\"text-align: right;\">\n",
       "      <th></th>\n",
       "      <th>agency_name</th>\n",
       "      <th>city</th>\n",
       "      <th>cdp_name</th>\n",
       "      <th>RTPA</th>\n",
       "    </tr>\n",
       "  </thead>\n",
       "  <tbody>\n",
       "  </tbody>\n",
       "</table>\n",
       "</div>"
      ],
      "text/plain": [
       "Empty DataFrame\n",
       "Columns: [agency_name, city, cdp_name, RTPA]\n",
       "Index: []"
      ]
     },
     "metadata": {},
     "output_type": "display_data"
    }
   ],
   "source": [
    "#check for NaN RTPAs again\n",
    "display(\n",
    "    ntd_data_to_rtpa[ntd_data_to_rtpa[\"RTPA\"].isna()][[\"report_year\",\"agency\",\"city\",\"cdp_name\",\"RTPA\"]], # all fixed!!\n",
    "    alt_ntd_to_rtpa[alt_ntd_to_rtpa[\"RTPA\"].isna()][[\"agency_name\", \"city\", \"cdp_name\", \"RTPA\"]]\n",
    ")"
   ]
  },
  {
   "cell_type": "markdown",
   "id": "4f7ecd25-5991-45a7-9692-0b142f564bc7",
   "metadata": {},
   "source": [
    "### Duplicate NTD ID fixes\n",
    "- review ntd_id's with more than 2 rows. there are some CDPs with duplicate names.\n",
    "- remove the rows with non-matching UZA to RTPA names"
   ]
  },
  {
   "cell_type": "code",
   "execution_count": 60,
   "id": "a1a3d8ae-4f04-4e2a-969f-b31dfdb8c98c",
   "metadata": {
    "tags": []
   },
   "outputs": [
    {
     "data": {
      "text/plain": [
       "90287    2\n",
       "90256    2\n",
       "90003    1\n",
       "90293    1\n",
       "90280    1\n",
       "Name: ntd_id, dtype: int64"
      ]
     },
     "execution_count": 60,
     "metadata": {},
     "output_type": "execute_result"
    }
   ],
   "source": [
    "alt_ntd_to_rtpa[\"ntd_id\"].value_counts().head() # looking for rows with more than 8 rows"
   ]
  },
  {
   "cell_type": "code",
   "execution_count": 62,
   "id": "5e95dc82-9a1f-4fdb-ad27-4b7772951d71",
   "metadata": {
    "tags": []
   },
   "outputs": [
    {
     "data": {
      "text/html": [
       "<div>\n",
       "<style scoped>\n",
       "    .dataframe tbody tr th:only-of-type {\n",
       "        vertical-align: middle;\n",
       "    }\n",
       "\n",
       "    .dataframe tbody tr th {\n",
       "        vertical-align: top;\n",
       "    }\n",
       "\n",
       "    .dataframe thead th {\n",
       "        text-align: right;\n",
       "    }\n",
       "</style>\n",
       "<table border=\"1\" class=\"dataframe\">\n",
       "  <thead>\n",
       "    <tr style=\"text-align: right;\">\n",
       "      <th></th>\n",
       "      <th>report_year</th>\n",
       "      <th>ntd_id</th>\n",
       "      <th>agency</th>\n",
       "      <th>reporter_type</th>\n",
       "      <th>organization_type</th>\n",
       "      <th>city</th>\n",
       "      <th>state</th>\n",
       "      <th>primary_uza_name</th>\n",
       "      <th>actual_vehicles_passenger_car_revenue_hours</th>\n",
       "      <th>actual_vehicles_passenger_car_revenue_miles</th>\n",
       "      <th>unlinked_passenger_trips_upt</th>\n",
       "      <th>cdp_name</th>\n",
       "      <th>RTPA</th>\n",
       "      <th>_merge</th>\n",
       "    </tr>\n",
       "  </thead>\n",
       "  <tbody>\n",
       "    <tr>\n",
       "      <th>225</th>\n",
       "      <td>2022</td>\n",
       "      <td>90256</td>\n",
       "      <td>City of Burbank</td>\n",
       "      <td>Reduced Reporter</td>\n",
       "      <td>City, County or Local Government Unit or Depar...</td>\n",
       "      <td>Burbank</td>\n",
       "      <td>CA</td>\n",
       "      <td>Los Angeles--Long Beach--Anaheim, CA</td>\n",
       "      <td>27008.0</td>\n",
       "      <td>243964.0</td>\n",
       "      <td>161971.0</td>\n",
       "      <td>Burbank</td>\n",
       "      <td>Metropolitan Transportation Commission</td>\n",
       "      <td>both</td>\n",
       "    </tr>\n",
       "    <tr>\n",
       "      <th>226</th>\n",
       "      <td>2022</td>\n",
       "      <td>90256</td>\n",
       "      <td>City of Burbank</td>\n",
       "      <td>Reduced Reporter</td>\n",
       "      <td>City, County or Local Government Unit or Depar...</td>\n",
       "      <td>Burbank</td>\n",
       "      <td>CA</td>\n",
       "      <td>Los Angeles--Long Beach--Anaheim, CA</td>\n",
       "      <td>27008.0</td>\n",
       "      <td>243964.0</td>\n",
       "      <td>161971.0</td>\n",
       "      <td>Burbank</td>\n",
       "      <td>Southern California Association of Governments</td>\n",
       "      <td>both</td>\n",
       "    </tr>\n",
       "    <tr>\n",
       "      <th>227</th>\n",
       "      <td>2023</td>\n",
       "      <td>90256</td>\n",
       "      <td>City of Burbank</td>\n",
       "      <td>Reduced Reporter</td>\n",
       "      <td>City, County or Local Government Unit or Depar...</td>\n",
       "      <td>Burbank</td>\n",
       "      <td>CA</td>\n",
       "      <td>Los Angeles--Long Beach--Anaheim, CA</td>\n",
       "      <td>28827.0</td>\n",
       "      <td>271752.0</td>\n",
       "      <td>171517.0</td>\n",
       "      <td>Burbank</td>\n",
       "      <td>Metropolitan Transportation Commission</td>\n",
       "      <td>both</td>\n",
       "    </tr>\n",
       "    <tr>\n",
       "      <th>228</th>\n",
       "      <td>2023</td>\n",
       "      <td>90256</td>\n",
       "      <td>City of Burbank</td>\n",
       "      <td>Reduced Reporter</td>\n",
       "      <td>City, County or Local Government Unit or Depar...</td>\n",
       "      <td>Burbank</td>\n",
       "      <td>CA</td>\n",
       "      <td>Los Angeles--Long Beach--Anaheim, CA</td>\n",
       "      <td>28827.0</td>\n",
       "      <td>271752.0</td>\n",
       "      <td>171517.0</td>\n",
       "      <td>Burbank</td>\n",
       "      <td>Southern California Association of Governments</td>\n",
       "      <td>both</td>\n",
       "    </tr>\n",
       "    <tr>\n",
       "      <th>285</th>\n",
       "      <td>2022</td>\n",
       "      <td>90287</td>\n",
       "      <td>Palos Verdes Peninsula Transit Authority</td>\n",
       "      <td>Reduced Reporter</td>\n",
       "      <td>Independent Public Agency or Authority of Tran...</td>\n",
       "      <td>Palos Verdes Peninsula</td>\n",
       "      <td>CA</td>\n",
       "      <td>Los Angeles--Long Beach--Anaheim, CA</td>\n",
       "      <td>16411.0</td>\n",
       "      <td>242914.0</td>\n",
       "      <td>122042.0</td>\n",
       "      <td>Rolling Hills</td>\n",
       "      <td>Southern California Association of Governments</td>\n",
       "      <td>left_only</td>\n",
       "    </tr>\n",
       "    <tr>\n",
       "      <th>286</th>\n",
       "      <td>2023</td>\n",
       "      <td>90287</td>\n",
       "      <td>Palos Verdes Peninsula Transit Authority</td>\n",
       "      <td>Reduced Reporter</td>\n",
       "      <td>Independent Public Agency or Authority of Tran...</td>\n",
       "      <td>Rolling Hills</td>\n",
       "      <td>CA</td>\n",
       "      <td>Los Angeles--Long Beach--Anaheim, CA</td>\n",
       "      <td>18785.0</td>\n",
       "      <td>258339.0</td>\n",
       "      <td>131176.0</td>\n",
       "      <td>Rolling Hills</td>\n",
       "      <td>Madera County Transportation Commission</td>\n",
       "      <td>both</td>\n",
       "    </tr>\n",
       "    <tr>\n",
       "      <th>287</th>\n",
       "      <td>2023</td>\n",
       "      <td>90287</td>\n",
       "      <td>Palos Verdes Peninsula Transit Authority</td>\n",
       "      <td>Reduced Reporter</td>\n",
       "      <td>Independent Public Agency or Authority of Tran...</td>\n",
       "      <td>Rolling Hills</td>\n",
       "      <td>CA</td>\n",
       "      <td>Los Angeles--Long Beach--Anaheim, CA</td>\n",
       "      <td>18785.0</td>\n",
       "      <td>258339.0</td>\n",
       "      <td>131176.0</td>\n",
       "      <td>Rolling Hills</td>\n",
       "      <td>Southern California Association of Governments</td>\n",
       "      <td>both</td>\n",
       "    </tr>\n",
       "  </tbody>\n",
       "</table>\n",
       "</div>"
      ],
      "text/plain": [
       "     report_year ntd_id                                    agency  \\\n",
       "225         2022  90256                           City of Burbank   \n",
       "226         2022  90256                           City of Burbank   \n",
       "227         2023  90256                           City of Burbank   \n",
       "228         2023  90256                           City of Burbank   \n",
       "285         2022  90287  Palos Verdes Peninsula Transit Authority   \n",
       "286         2023  90287  Palos Verdes Peninsula Transit Authority   \n",
       "287         2023  90287  Palos Verdes Peninsula Transit Authority   \n",
       "\n",
       "        reporter_type                                  organization_type  \\\n",
       "225  Reduced Reporter  City, County or Local Government Unit or Depar...   \n",
       "226  Reduced Reporter  City, County or Local Government Unit or Depar...   \n",
       "227  Reduced Reporter  City, County or Local Government Unit or Depar...   \n",
       "228  Reduced Reporter  City, County or Local Government Unit or Depar...   \n",
       "285  Reduced Reporter  Independent Public Agency or Authority of Tran...   \n",
       "286  Reduced Reporter  Independent Public Agency or Authority of Tran...   \n",
       "287  Reduced Reporter  Independent Public Agency or Authority of Tran...   \n",
       "\n",
       "                       city state                      primary_uza_name  \\\n",
       "225                 Burbank    CA  Los Angeles--Long Beach--Anaheim, CA   \n",
       "226                 Burbank    CA  Los Angeles--Long Beach--Anaheim, CA   \n",
       "227                 Burbank    CA  Los Angeles--Long Beach--Anaheim, CA   \n",
       "228                 Burbank    CA  Los Angeles--Long Beach--Anaheim, CA   \n",
       "285  Palos Verdes Peninsula    CA  Los Angeles--Long Beach--Anaheim, CA   \n",
       "286           Rolling Hills    CA  Los Angeles--Long Beach--Anaheim, CA   \n",
       "287           Rolling Hills    CA  Los Angeles--Long Beach--Anaheim, CA   \n",
       "\n",
       "     actual_vehicles_passenger_car_revenue_hours  \\\n",
       "225                                      27008.0   \n",
       "226                                      27008.0   \n",
       "227                                      28827.0   \n",
       "228                                      28827.0   \n",
       "285                                      16411.0   \n",
       "286                                      18785.0   \n",
       "287                                      18785.0   \n",
       "\n",
       "     actual_vehicles_passenger_car_revenue_miles  \\\n",
       "225                                     243964.0   \n",
       "226                                     243964.0   \n",
       "227                                     271752.0   \n",
       "228                                     271752.0   \n",
       "285                                     242914.0   \n",
       "286                                     258339.0   \n",
       "287                                     258339.0   \n",
       "\n",
       "     unlinked_passenger_trips_upt       cdp_name  \\\n",
       "225                      161971.0        Burbank   \n",
       "226                      161971.0        Burbank   \n",
       "227                      171517.0        Burbank   \n",
       "228                      171517.0        Burbank   \n",
       "285                      122042.0  Rolling Hills   \n",
       "286                      131176.0  Rolling Hills   \n",
       "287                      131176.0  Rolling Hills   \n",
       "\n",
       "                                               RTPA     _merge  \n",
       "225          Metropolitan Transportation Commission       both  \n",
       "226  Southern California Association of Governments       both  \n",
       "227          Metropolitan Transportation Commission       both  \n",
       "228  Southern California Association of Governments       both  \n",
       "285  Southern California Association of Governments  left_only  \n",
       "286         Madera County Transportation Commission       both  \n",
       "287  Southern California Association of Governments       both  "
      ]
     },
     "metadata": {},
     "output_type": "display_data"
    },
    {
     "data": {
      "text/html": [
       "<div>\n",
       "<style scoped>\n",
       "    .dataframe tbody tr th:only-of-type {\n",
       "        vertical-align: middle;\n",
       "    }\n",
       "\n",
       "    .dataframe tbody tr th {\n",
       "        vertical-align: top;\n",
       "    }\n",
       "\n",
       "    .dataframe thead th {\n",
       "        text-align: right;\n",
       "    }\n",
       "</style>\n",
       "<table border=\"1\" class=\"dataframe\">\n",
       "  <thead>\n",
       "    <tr style=\"text-align: right;\">\n",
       "      <th></th>\n",
       "      <th>agency_name</th>\n",
       "      <th>agency_status</th>\n",
       "      <th>city</th>\n",
       "      <th>ntd_id</th>\n",
       "      <th>primary_uza_name</th>\n",
       "      <th>reporter_type</th>\n",
       "      <th>upt</th>\n",
       "      <th>cdp_name</th>\n",
       "      <th>RTPA</th>\n",
       "      <th>_merge</th>\n",
       "    </tr>\n",
       "  </thead>\n",
       "  <tbody>\n",
       "    <tr>\n",
       "      <th>137</th>\n",
       "      <td>City of Burbank - Community Development-Transp...</td>\n",
       "      <td>Active</td>\n",
       "      <td>Burbank</td>\n",
       "      <td>90256</td>\n",
       "      <td>Los Angeles--Long Beach--Anaheim, CA</td>\n",
       "      <td>Reduced Reporter</td>\n",
       "      <td>1156840.0</td>\n",
       "      <td>Burbank</td>\n",
       "      <td>Metropolitan Transportation Commission</td>\n",
       "      <td>both</td>\n",
       "    </tr>\n",
       "    <tr>\n",
       "      <th>138</th>\n",
       "      <td>City of Burbank - Community Development-Transp...</td>\n",
       "      <td>Active</td>\n",
       "      <td>Burbank</td>\n",
       "      <td>90256</td>\n",
       "      <td>Los Angeles--Long Beach--Anaheim, CA</td>\n",
       "      <td>Reduced Reporter</td>\n",
       "      <td>1156840.0</td>\n",
       "      <td>Burbank</td>\n",
       "      <td>Southern California Association of Governments</td>\n",
       "      <td>both</td>\n",
       "    </tr>\n",
       "    <tr>\n",
       "      <th>169</th>\n",
       "      <td>Palos Verdes Peninsula Transit Authority (PVPTA)</td>\n",
       "      <td>Active</td>\n",
       "      <td>Rolling Hills</td>\n",
       "      <td>90287</td>\n",
       "      <td>Los Angeles--Long Beach--Anaheim, CA</td>\n",
       "      <td>Reduced Reporter</td>\n",
       "      <td>703745.0</td>\n",
       "      <td>Rolling Hills</td>\n",
       "      <td>Madera County Transportation Commission</td>\n",
       "      <td>both</td>\n",
       "    </tr>\n",
       "    <tr>\n",
       "      <th>170</th>\n",
       "      <td>Palos Verdes Peninsula Transit Authority (PVPTA)</td>\n",
       "      <td>Active</td>\n",
       "      <td>Rolling Hills</td>\n",
       "      <td>90287</td>\n",
       "      <td>Los Angeles--Long Beach--Anaheim, CA</td>\n",
       "      <td>Reduced Reporter</td>\n",
       "      <td>703745.0</td>\n",
       "      <td>Rolling Hills</td>\n",
       "      <td>Southern California Association of Governments</td>\n",
       "      <td>both</td>\n",
       "    </tr>\n",
       "  </tbody>\n",
       "</table>\n",
       "</div>"
      ],
      "text/plain": [
       "                                           agency_name agency_status  \\\n",
       "137  City of Burbank - Community Development-Transp...        Active   \n",
       "138  City of Burbank - Community Development-Transp...        Active   \n",
       "169   Palos Verdes Peninsula Transit Authority (PVPTA)        Active   \n",
       "170   Palos Verdes Peninsula Transit Authority (PVPTA)        Active   \n",
       "\n",
       "              city ntd_id                      primary_uza_name  \\\n",
       "137        Burbank  90256  Los Angeles--Long Beach--Anaheim, CA   \n",
       "138        Burbank  90256  Los Angeles--Long Beach--Anaheim, CA   \n",
       "169  Rolling Hills  90287  Los Angeles--Long Beach--Anaheim, CA   \n",
       "170  Rolling Hills  90287  Los Angeles--Long Beach--Anaheim, CA   \n",
       "\n",
       "        reporter_type        upt       cdp_name  \\\n",
       "137  Reduced Reporter  1156840.0        Burbank   \n",
       "138  Reduced Reporter  1156840.0        Burbank   \n",
       "169  Reduced Reporter   703745.0  Rolling Hills   \n",
       "170  Reduced Reporter   703745.0  Rolling Hills   \n",
       "\n",
       "                                               RTPA _merge  \n",
       "137          Metropolitan Transportation Commission   both  \n",
       "138  Southern California Association of Governments   both  \n",
       "169         Madera County Transportation Commission   both  \n",
       "170  Southern California Association of Governments   both  "
      ]
     },
     "metadata": {},
     "output_type": "display_data"
    }
   ],
   "source": [
    "check_ntd_id =[\n",
    "    \"90256\",\n",
    "    \"90287\"\n",
    "]\n",
    "\n",
    "display(\n",
    "    ntd_data_to_rtpa[ntd_data_to_rtpa[\"ntd_id\"].isin(check_ntd_id)],\n",
    "    alt_ntd_to_rtpa[alt_ntd_to_rtpa[\"ntd_id\"].isin(check_ntd_id)]\n",
    ")"
   ]
  },
  {
   "cell_type": "code",
   "execution_count": 69,
   "id": "cb1059a3-4230-4b34-836b-51ce5586cc85",
   "metadata": {
    "tags": []
   },
   "outputs": [],
   "source": [
    "#identify conditions to drop rows by\n",
    "remove_1 = (ntd_data_to_rtpa[\"ntd_id\"]==\"90256\") & (ntd_data_to_rtpa[\"RTPA\"]==\"Metropolitan Transportation Commission\")\n",
    "remove_2 = (ntd_data_to_rtpa[\"ntd_id\"]==\"90287\") & (ntd_data_to_rtpa[\"RTPA\"]==\"Madera County Transportation Commission\")\n",
    "\n",
    "ntd_data_to_rtpa = ntd_data_to_rtpa[~(remove_1 | remove_2)]\n"
   ]
  },
  {
   "cell_type": "code",
   "execution_count": 70,
   "id": "ea5d19c6-b3ba-4dac-86e0-a06b635fc9ba",
   "metadata": {
    "tags": []
   },
   "outputs": [],
   "source": [
    "remove_3 = (alt_ntd_to_rtpa[\"ntd_id\"]==\"90256\") & (alt_ntd_to_rtpa[\"RTPA\"]==\"Metropolitan Transportation Commission\")\n",
    "remove_4 = (alt_ntd_to_rtpa[\"ntd_id\"]==\"90287\") & (alt_ntd_to_rtpa[\"RTPA\"]==\"Madera County Transportation Commission\")\n",
    "\n",
    "alt_ntd_to_rtpa = alt_ntd_to_rtpa[~(remove_3 | remove_4)]\n"
   ]
  },
  {
   "cell_type": "code",
   "execution_count": 71,
   "id": "48ecf002-114c-4ba2-b859-67b84cd758cb",
   "metadata": {
    "tags": []
   },
   "outputs": [
    {
     "data": {
      "text/html": [
       "<div>\n",
       "<style scoped>\n",
       "    .dataframe tbody tr th:only-of-type {\n",
       "        vertical-align: middle;\n",
       "    }\n",
       "\n",
       "    .dataframe tbody tr th {\n",
       "        vertical-align: top;\n",
       "    }\n",
       "\n",
       "    .dataframe thead th {\n",
       "        text-align: right;\n",
       "    }\n",
       "</style>\n",
       "<table border=\"1\" class=\"dataframe\">\n",
       "  <thead>\n",
       "    <tr style=\"text-align: right;\">\n",
       "      <th></th>\n",
       "      <th>report_year</th>\n",
       "      <th>ntd_id</th>\n",
       "      <th>agency</th>\n",
       "      <th>reporter_type</th>\n",
       "      <th>organization_type</th>\n",
       "      <th>city</th>\n",
       "      <th>state</th>\n",
       "      <th>primary_uza_name</th>\n",
       "      <th>actual_vehicles_passenger_car_revenue_hours</th>\n",
       "      <th>actual_vehicles_passenger_car_revenue_miles</th>\n",
       "      <th>unlinked_passenger_trips_upt</th>\n",
       "      <th>cdp_name</th>\n",
       "      <th>RTPA</th>\n",
       "      <th>_merge</th>\n",
       "    </tr>\n",
       "  </thead>\n",
       "  <tbody>\n",
       "    <tr>\n",
       "      <th>226</th>\n",
       "      <td>2022</td>\n",
       "      <td>90256</td>\n",
       "      <td>City of Burbank</td>\n",
       "      <td>Reduced Reporter</td>\n",
       "      <td>City, County or Local Government Unit or Depar...</td>\n",
       "      <td>Burbank</td>\n",
       "      <td>CA</td>\n",
       "      <td>Los Angeles--Long Beach--Anaheim, CA</td>\n",
       "      <td>27008.0</td>\n",
       "      <td>243964.0</td>\n",
       "      <td>161971.0</td>\n",
       "      <td>Burbank</td>\n",
       "      <td>Southern California Association of Governments</td>\n",
       "      <td>both</td>\n",
       "    </tr>\n",
       "    <tr>\n",
       "      <th>228</th>\n",
       "      <td>2023</td>\n",
       "      <td>90256</td>\n",
       "      <td>City of Burbank</td>\n",
       "      <td>Reduced Reporter</td>\n",
       "      <td>City, County or Local Government Unit or Depar...</td>\n",
       "      <td>Burbank</td>\n",
       "      <td>CA</td>\n",
       "      <td>Los Angeles--Long Beach--Anaheim, CA</td>\n",
       "      <td>28827.0</td>\n",
       "      <td>271752.0</td>\n",
       "      <td>171517.0</td>\n",
       "      <td>Burbank</td>\n",
       "      <td>Southern California Association of Governments</td>\n",
       "      <td>both</td>\n",
       "    </tr>\n",
       "    <tr>\n",
       "      <th>285</th>\n",
       "      <td>2022</td>\n",
       "      <td>90287</td>\n",
       "      <td>Palos Verdes Peninsula Transit Authority</td>\n",
       "      <td>Reduced Reporter</td>\n",
       "      <td>Independent Public Agency or Authority of Tran...</td>\n",
       "      <td>Palos Verdes Peninsula</td>\n",
       "      <td>CA</td>\n",
       "      <td>Los Angeles--Long Beach--Anaheim, CA</td>\n",
       "      <td>16411.0</td>\n",
       "      <td>242914.0</td>\n",
       "      <td>122042.0</td>\n",
       "      <td>Rolling Hills</td>\n",
       "      <td>Southern California Association of Governments</td>\n",
       "      <td>left_only</td>\n",
       "    </tr>\n",
       "    <tr>\n",
       "      <th>287</th>\n",
       "      <td>2023</td>\n",
       "      <td>90287</td>\n",
       "      <td>Palos Verdes Peninsula Transit Authority</td>\n",
       "      <td>Reduced Reporter</td>\n",
       "      <td>Independent Public Agency or Authority of Tran...</td>\n",
       "      <td>Rolling Hills</td>\n",
       "      <td>CA</td>\n",
       "      <td>Los Angeles--Long Beach--Anaheim, CA</td>\n",
       "      <td>18785.0</td>\n",
       "      <td>258339.0</td>\n",
       "      <td>131176.0</td>\n",
       "      <td>Rolling Hills</td>\n",
       "      <td>Southern California Association of Governments</td>\n",
       "      <td>both</td>\n",
       "    </tr>\n",
       "  </tbody>\n",
       "</table>\n",
       "</div>"
      ],
      "text/plain": [
       "     report_year ntd_id                                    agency  \\\n",
       "226         2022  90256                           City of Burbank   \n",
       "228         2023  90256                           City of Burbank   \n",
       "285         2022  90287  Palos Verdes Peninsula Transit Authority   \n",
       "287         2023  90287  Palos Verdes Peninsula Transit Authority   \n",
       "\n",
       "        reporter_type                                  organization_type  \\\n",
       "226  Reduced Reporter  City, County or Local Government Unit or Depar...   \n",
       "228  Reduced Reporter  City, County or Local Government Unit or Depar...   \n",
       "285  Reduced Reporter  Independent Public Agency or Authority of Tran...   \n",
       "287  Reduced Reporter  Independent Public Agency or Authority of Tran...   \n",
       "\n",
       "                       city state                      primary_uza_name  \\\n",
       "226                 Burbank    CA  Los Angeles--Long Beach--Anaheim, CA   \n",
       "228                 Burbank    CA  Los Angeles--Long Beach--Anaheim, CA   \n",
       "285  Palos Verdes Peninsula    CA  Los Angeles--Long Beach--Anaheim, CA   \n",
       "287           Rolling Hills    CA  Los Angeles--Long Beach--Anaheim, CA   \n",
       "\n",
       "     actual_vehicles_passenger_car_revenue_hours  \\\n",
       "226                                      27008.0   \n",
       "228                                      28827.0   \n",
       "285                                      16411.0   \n",
       "287                                      18785.0   \n",
       "\n",
       "     actual_vehicles_passenger_car_revenue_miles  \\\n",
       "226                                     243964.0   \n",
       "228                                     271752.0   \n",
       "285                                     242914.0   \n",
       "287                                     258339.0   \n",
       "\n",
       "     unlinked_passenger_trips_upt       cdp_name  \\\n",
       "226                      161971.0        Burbank   \n",
       "228                      171517.0        Burbank   \n",
       "285                      122042.0  Rolling Hills   \n",
       "287                      131176.0  Rolling Hills   \n",
       "\n",
       "                                               RTPA     _merge  \n",
       "226  Southern California Association of Governments       both  \n",
       "228  Southern California Association of Governments       both  \n",
       "285  Southern California Association of Governments  left_only  \n",
       "287  Southern California Association of Governments       both  "
      ]
     },
     "metadata": {},
     "output_type": "display_data"
    },
    {
     "data": {
      "text/html": [
       "<div>\n",
       "<style scoped>\n",
       "    .dataframe tbody tr th:only-of-type {\n",
       "        vertical-align: middle;\n",
       "    }\n",
       "\n",
       "    .dataframe tbody tr th {\n",
       "        vertical-align: top;\n",
       "    }\n",
       "\n",
       "    .dataframe thead th {\n",
       "        text-align: right;\n",
       "    }\n",
       "</style>\n",
       "<table border=\"1\" class=\"dataframe\">\n",
       "  <thead>\n",
       "    <tr style=\"text-align: right;\">\n",
       "      <th></th>\n",
       "      <th>agency_name</th>\n",
       "      <th>agency_status</th>\n",
       "      <th>city</th>\n",
       "      <th>ntd_id</th>\n",
       "      <th>primary_uza_name</th>\n",
       "      <th>reporter_type</th>\n",
       "      <th>upt</th>\n",
       "      <th>cdp_name</th>\n",
       "      <th>RTPA</th>\n",
       "      <th>_merge</th>\n",
       "    </tr>\n",
       "  </thead>\n",
       "  <tbody>\n",
       "    <tr>\n",
       "      <th>138</th>\n",
       "      <td>City of Burbank - Community Development-Transp...</td>\n",
       "      <td>Active</td>\n",
       "      <td>Burbank</td>\n",
       "      <td>90256</td>\n",
       "      <td>Los Angeles--Long Beach--Anaheim, CA</td>\n",
       "      <td>Reduced Reporter</td>\n",
       "      <td>1156840.0</td>\n",
       "      <td>Burbank</td>\n",
       "      <td>Southern California Association of Governments</td>\n",
       "      <td>both</td>\n",
       "    </tr>\n",
       "    <tr>\n",
       "      <th>170</th>\n",
       "      <td>Palos Verdes Peninsula Transit Authority (PVPTA)</td>\n",
       "      <td>Active</td>\n",
       "      <td>Rolling Hills</td>\n",
       "      <td>90287</td>\n",
       "      <td>Los Angeles--Long Beach--Anaheim, CA</td>\n",
       "      <td>Reduced Reporter</td>\n",
       "      <td>703745.0</td>\n",
       "      <td>Rolling Hills</td>\n",
       "      <td>Southern California Association of Governments</td>\n",
       "      <td>both</td>\n",
       "    </tr>\n",
       "  </tbody>\n",
       "</table>\n",
       "</div>"
      ],
      "text/plain": [
       "                                           agency_name agency_status  \\\n",
       "138  City of Burbank - Community Development-Transp...        Active   \n",
       "170   Palos Verdes Peninsula Transit Authority (PVPTA)        Active   \n",
       "\n",
       "              city ntd_id                      primary_uza_name  \\\n",
       "138        Burbank  90256  Los Angeles--Long Beach--Anaheim, CA   \n",
       "170  Rolling Hills  90287  Los Angeles--Long Beach--Anaheim, CA   \n",
       "\n",
       "        reporter_type        upt       cdp_name  \\\n",
       "138  Reduced Reporter  1156840.0        Burbank   \n",
       "170  Reduced Reporter   703745.0  Rolling Hills   \n",
       "\n",
       "                                               RTPA _merge  \n",
       "138  Southern California Association of Governments   both  \n",
       "170  Southern California Association of Governments   both  "
      ]
     },
     "metadata": {},
     "output_type": "display_data"
    }
   ],
   "source": [
    "display(\n",
    "    ntd_data_to_rtpa[ntd_data_to_rtpa[\"ntd_id\"].isin(check_ntd_id)],\n",
    "    alt_ntd_to_rtpa[alt_ntd_to_rtpa[\"ntd_id\"].isin(check_ntd_id)]\n",
    ")"
   ]
  },
  {
   "cell_type": "markdown",
   "id": "aa88bfc4-591a-4b89-b81c-a5c70e349457",
   "metadata": {},
   "source": [
    "## final checks"
   ]
  },
  {
   "cell_type": "code",
   "execution_count": 73,
   "id": "85ce362b-16d7-40be-a3ab-493f2b59be7c",
   "metadata": {},
   "outputs": [
    {
     "data": {
      "text/plain": [
       "True"
      ]
     },
     "metadata": {},
     "output_type": "display_data"
    },
    {
     "data": {
      "text/plain": [
       "False"
      ]
     },
     "metadata": {},
     "output_type": "display_data"
    }
   ],
   "source": [
    "display(\n",
    "    len(ntd_service) == len(ntd_data_to_rtpa), # with left join, length should be the same since we removed duplicated rows\n",
    "    #ntd_data_to_rtpa.info() #confirms that every column has data. except for primary uza, because the rural reporters dont get a uza name\n",
    "    #len(get_ntd_time_series) == len(ntd_time_series)\n",
    ")"
   ]
  },
  {
   "cell_type": "markdown",
   "id": "10b7bd0f-777b-4360-87f8-b454a0ac48b5",
   "metadata": {},
   "source": [
    "## Create new `ntd_id_to_rtpa_crosswalk` file!"
   ]
  },
  {
   "cell_type": "code",
   "execution_count": null,
   "id": "b9486134-5af0-4aa5-9edc-37c2e963a442",
   "metadata": {
    "tags": []
   },
   "outputs": [],
   "source": [
    "ntd_data_to_rtpa_cleaned = ntd_data_to_rtpa[[\"ntd_id\",\"agency\",\"reporter_type\",\"city\",\"RTPA\"]].drop_duplicates(subset=[\"ntd_id\"]).reset_index(drop=True)\n",
    "\n",
    "display(\n",
    "    ntd_data_to_rtpa_cleaned.info(),\n",
    "    ntd_data_to_rtpa_cleaned[\"ntd_id\"].value_counts().head(),\n",
    "    ntd_data_to_rtpa_cleaned[\"reporter_type\"].value_counts(),\n",
    "    ntd_data_to_rtpa_cleaned.head()\n",
    ")\n"
   ]
  },
  {
   "cell_type": "markdown",
   "id": "70be7d72-d172-4afc-90ca-3880a7e9dbba",
   "metadata": {},
   "source": [
    "# Save crosswalk to GCS\n",
    "- as `.parquet` and `.csv`"
   ]
  },
  {
   "cell_type": "code",
   "execution_count": null,
   "id": "a8b06d12-d67d-4c03-a3cd-9da8fdc335d5",
   "metadata": {
    "tags": []
   },
   "outputs": [],
   "source": [
    "# ntd_data_to_rtpa_cleaned.to_parquet(f\"{GCS_FILE_PATH}ntd_id_rtpa_crosswalk_all_reporter_types.parquet\")\n",
    "# ntd_data_to_rtpa_cleaned.to_csv(f\"{GCS_FILE_PATH}ntd_id_rtpa_crosswalk_all_reporter_types.csv\")\n"
   ]
  },
  {
   "cell_type": "markdown",
   "id": "0117d77b-0c40-4b98-91d1-9b72bfeed77a",
   "metadata": {},
   "source": [
    "## Test reading in data from gcs"
   ]
  },
  {
   "cell_type": "code",
   "execution_count": null,
   "id": "aae7d896-1b12-40f7-9388-cc94a279e8cc",
   "metadata": {
    "tags": []
   },
   "outputs": [],
   "source": [
    "xwalk_parquet = pd.read_parquet(f\"{GCS_FILE_PATH}ntd_id_rtpa_crosswalk_all_reporter_types.parquet\")\n",
    "xwalk_csv = pd.read_csv(f\"{GCS_FILE_PATH}ntd_id_rtpa_crosswalk_all_reporter_types.csv\")\n",
    "\n",
    "\n",
    "display(\n",
    "    len(xwalk_parquet) == len(xwalk_csv)\n",
    ")"
   ]
  },
  {
   "cell_type": "code",
   "execution_count": null,
   "id": "38c80379-d9dd-4a29-9b09-f606651b0ad9",
   "metadata": {},
   "outputs": [],
   "source": []
  }
 ],
 "metadata": {
  "kernelspec": {
   "display_name": "Python 3 (ipykernel)",
   "language": "python",
   "name": "python3"
  },
  "language_info": {
   "codemirror_mode": {
    "name": "ipython",
    "version": 3
   },
   "file_extension": ".py",
   "mimetype": "text/x-python",
   "name": "python",
   "nbconvert_exporter": "python",
   "pygments_lexer": "ipython3",
   "version": "3.11.10"
  }
 },
 "nbformat": 4,
 "nbformat_minor": 5
}
