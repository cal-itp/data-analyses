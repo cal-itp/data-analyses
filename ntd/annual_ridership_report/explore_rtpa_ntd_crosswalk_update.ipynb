{
 "cells": [
  {
   "cell_type": "code",
   "execution_count": 1,
   "id": "58c36298-b0f6-42a6-bfd5-efd84f0c7352",
   "metadata": {
    "tags": []
   },
   "outputs": [],
   "source": [
    "import sys\n",
    "\n",
    "sys.path.append(\"../\")  # up one level\n",
    "\n",
    "import os\n",
    "import shutil\n",
    "\n",
    "import annual_ridership_module\n",
    "import gcsfs\n",
    "import geopandas as gpd\n",
    "import pandas as pd\n",
    "from calitp_data_analysis.sql import to_snakecase\n",
    "from calitp_data_analysis.tables import tbls\n",
    "from segment_speed_utils.project_vars import PUBLIC_GCS\n",
    "from siuba import _, collect, count, filter, select, show_query\n",
    "from update_vars import GCS_FILE_PATH, NTD_MODES, NTD_TOS\n",
    "\n",
    "GCS_FILE_PATH = \"gs://calitp-analytics-data/data-analyses/ntd/\"\n",
    "\n",
    "pd.set_option(\"display.max_rows\", None)\n",
    "pd.set_option(\"display.max_columns\", None)"
   ]
  },
  {
   "cell_type": "markdown",
   "id": "54a774cc-17e9-4b30-a620-013de7c03258",
   "metadata": {},
   "source": [
    "# Explore updating RTPA-to-NTD_id crosswalk\n",
    "\n",
    "Current rtpa/ntd_id crosswalk only contains full system reporters. This notebook will explore updating the crosswalk to include all reporter types (full, reduced, and rural system reporters).\n",
    "\n",
    "- Start with getting list of NTD reporters from the warehouse `dim_annual_services_agencies`\n",
    "- Then get a list of all California cities and all RTPAs, merge to get a list of cities and the RTPA they would be in\n",
    "- then merge the list of NTD reporters to the list of cities/rtpa, using `city` column. result should be a list of NTD reporters with their RTPAs\n",
    "---"
   ]
  },
  {
   "cell_type": "markdown",
   "id": "0433f1a7-3dec-4846-ae7b-6c98ca718c08",
   "metadata": {
    "tags": []
   },
   "source": [
    "## Read in `dim_annual_service_agencies` to get agency info"
   ]
  },
  {
   "cell_type": "code",
   "execution_count": 2,
   "id": "8999ad6b-28d8-43f6-91bf-c7da623b9c70",
   "metadata": {
    "tags": []
   },
   "outputs": [
    {
     "name": "stdout",
     "output_type": "stream",
     "text": [
      "<class 'pandas.core.frame.DataFrame'>\n",
      "RangeIndex: 236 entries, 0 to 235\n",
      "Data columns (total 6 columns):\n",
      " #   Column                        Non-Null Count  Dtype  \n",
      "---  ------                        --------------  -----  \n",
      " 0   agency                        236 non-null    object \n",
      " 1   ntd_id                        236 non-null    object \n",
      " 2   reporter_type                 236 non-null    object \n",
      " 3   city                          236 non-null    object \n",
      " 4   primary_uza_name              236 non-null    object \n",
      " 5   unlinked_passenger_trips_upt  236 non-null    float64\n",
      "dtypes: float64(1), object(5)\n",
      "memory usage: 11.2+ KB\n"
     ]
    }
   ],
   "source": [
    "# dim_annual_service_agenices is the annual report module.\n",
    "# included uza, VRM, VRH, UPT\n",
    "# report years include 2022-2023\n",
    "\n",
    "get_ntd_service = (\n",
    "    tbls.mart_ntd.dim_annual_service_agencies()\n",
    "    >> filter(_.state == \"CA\")\n",
    "    >> select(\n",
    "        \"report_year\",\n",
    "        \"ntd_id\",\n",
    "        \"agency\",\n",
    "        \"reporter_type\",\n",
    "        \"organization_type\",\n",
    "        \"city\",\n",
    "        \"state\",\n",
    "        \"primary_uza_name\",\n",
    "        \"actual_vehicles_passenger_car_revenue_hours\",\n",
    "        \"actual_vehicles_passenger_car_revenue_miles\",\n",
    "        \"unlinked_passenger_trips_upt\",\n",
    "    )\n",
    "    >> collect()\n",
    ")\n",
    "\n",
    "ntd_service = get_ntd_service.groupby(\n",
    "    [\"agency\",\n",
    "    \"ntd_id\",\n",
    "    \"reporter_type\",\n",
    "    \"city\",\n",
    "    \"primary_uza_name\"\n",
    "    ]   \n",
    ").agg({\"unlinked_passenger_trips_upt\":\"sum\"}).reset_index()\n",
    "\n",
    "ntd_service.info()"
   ]
  },
  {
   "cell_type": "code",
   "execution_count": 55,
   "id": "0ada42af-b41a-4c28-8559-4d2bc9e18003",
   "metadata": {
    "tags": []
   },
   "outputs": [
    {
     "data": {
      "text/html": [
       "<div>\n",
       "<style scoped>\n",
       "    .dataframe tbody tr th:only-of-type {\n",
       "        vertical-align: middle;\n",
       "    }\n",
       "\n",
       "    .dataframe tbody tr th {\n",
       "        vertical-align: top;\n",
       "    }\n",
       "\n",
       "    .dataframe thead th {\n",
       "        text-align: right;\n",
       "    }\n",
       "</style>\n",
       "<table border=\"1\" class=\"dataframe\">\n",
       "  <thead>\n",
       "    <tr style=\"text-align: right;\">\n",
       "      <th></th>\n",
       "      <th>agency</th>\n",
       "      <th>ntd_id</th>\n",
       "      <th>reporter_type</th>\n",
       "      <th>city</th>\n",
       "      <th>primary_uza_name</th>\n",
       "      <th>unlinked_passenger_trips_upt</th>\n",
       "    </tr>\n",
       "  </thead>\n",
       "  <tbody>\n",
       "    <tr>\n",
       "      <th>198</th>\n",
       "      <td>San Francisco Bay Area Rapid Transit District,...</td>\n",
       "      <td>90003</td>\n",
       "      <td>Full Reporter</td>\n",
       "      <td>Oakland</td>\n",
       "      <td>San Francisco--Oakland, CA</td>\n",
       "      <td>50764402.0</td>\n",
       "    </tr>\n",
       "    <tr>\n",
       "      <th>197</th>\n",
       "      <td>San Francisco Bay Area Rapid Transit District</td>\n",
       "      <td>90003</td>\n",
       "      <td>Full Reporter</td>\n",
       "      <td>Oakland</td>\n",
       "      <td>San Francisco--Oakland, CA</td>\n",
       "      <td>38224072.0</td>\n",
       "    </tr>\n",
       "    <tr>\n",
       "      <th>138</th>\n",
       "      <td>Golden Empire Transit District</td>\n",
       "      <td>90004</td>\n",
       "      <td>Full Reporter</td>\n",
       "      <td>Bakersfield</td>\n",
       "      <td>Bakersfield, CA</td>\n",
       "      <td>6494639.0</td>\n",
       "    </tr>\n",
       "    <tr>\n",
       "      <th>212</th>\n",
       "      <td>Santa Cruz Metropolitan Transit District</td>\n",
       "      <td>90006</td>\n",
       "      <td>Full Reporter</td>\n",
       "      <td>Santa Cruz</td>\n",
       "      <td>Santa Cruz, CA</td>\n",
       "      <td>6187917.0</td>\n",
       "    </tr>\n",
       "    <tr>\n",
       "      <th>108</th>\n",
       "      <td>City of Santa Monica, dba: Big Blue Bus</td>\n",
       "      <td>90008</td>\n",
       "      <td>Full Reporter</td>\n",
       "      <td>Santa Monica</td>\n",
       "      <td>Los Angeles--Long Beach--Anaheim, CA</td>\n",
       "      <td>14101648.0</td>\n",
       "    </tr>\n",
       "    <tr>\n",
       "      <th>206</th>\n",
       "      <td>San Mateo County Transit District, dba: SamTrans</td>\n",
       "      <td>90009</td>\n",
       "      <td>Full Reporter</td>\n",
       "      <td>San Carlos</td>\n",
       "      <td>San Francisco--Oakland, CA</td>\n",
       "      <td>8773845.0</td>\n",
       "    </tr>\n",
       "    <tr>\n",
       "      <th>205</th>\n",
       "      <td>San Mateo County Transit District</td>\n",
       "      <td>90009</td>\n",
       "      <td>Full Reporter</td>\n",
       "      <td>San Carlos</td>\n",
       "      <td>San Francisco--Oakland, CA</td>\n",
       "      <td>7128074.0</td>\n",
       "    </tr>\n",
       "    <tr>\n",
       "      <th>115</th>\n",
       "      <td>City of Torrance, dba: Torrance Transit System</td>\n",
       "      <td>90010</td>\n",
       "      <td>Full Reporter</td>\n",
       "      <td>Torrance</td>\n",
       "      <td>Los Angeles--Long Beach--Anaheim, CA</td>\n",
       "      <td>3962066.0</td>\n",
       "    </tr>\n",
       "    <tr>\n",
       "      <th>203</th>\n",
       "      <td>San Joaquin Regional Transit District, dba: Sa...</td>\n",
       "      <td>90012</td>\n",
       "      <td>Full Reporter</td>\n",
       "      <td>Stockton</td>\n",
       "      <td>Stockton, CA</td>\n",
       "      <td>2301789.0</td>\n",
       "    </tr>\n",
       "    <tr>\n",
       "      <th>202</th>\n",
       "      <td>San Joaquin Regional Transit District</td>\n",
       "      <td>90012</td>\n",
       "      <td>Full Reporter</td>\n",
       "      <td>Stockton</td>\n",
       "      <td>Stockton, CA</td>\n",
       "      <td>1839753.0</td>\n",
       "    </tr>\n",
       "  </tbody>\n",
       "</table>\n",
       "</div>"
      ],
      "text/plain": [
       "                                                agency ntd_id  reporter_type  \\\n",
       "198  San Francisco Bay Area Rapid Transit District,...  90003  Full Reporter   \n",
       "197      San Francisco Bay Area Rapid Transit District  90003  Full Reporter   \n",
       "138                     Golden Empire Transit District  90004  Full Reporter   \n",
       "212           Santa Cruz Metropolitan Transit District  90006  Full Reporter   \n",
       "108            City of Santa Monica, dba: Big Blue Bus  90008  Full Reporter   \n",
       "206   San Mateo County Transit District, dba: SamTrans  90009  Full Reporter   \n",
       "205                  San Mateo County Transit District  90009  Full Reporter   \n",
       "115     City of Torrance, dba: Torrance Transit System  90010  Full Reporter   \n",
       "203  San Joaquin Regional Transit District, dba: Sa...  90012  Full Reporter   \n",
       "202              San Joaquin Regional Transit District  90012  Full Reporter   \n",
       "\n",
       "             city                      primary_uza_name  \\\n",
       "198       Oakland            San Francisco--Oakland, CA   \n",
       "197       Oakland            San Francisco--Oakland, CA   \n",
       "138   Bakersfield                       Bakersfield, CA   \n",
       "212    Santa Cruz                        Santa Cruz, CA   \n",
       "108  Santa Monica  Los Angeles--Long Beach--Anaheim, CA   \n",
       "206    San Carlos            San Francisco--Oakland, CA   \n",
       "205    San Carlos            San Francisco--Oakland, CA   \n",
       "115      Torrance  Los Angeles--Long Beach--Anaheim, CA   \n",
       "203      Stockton                          Stockton, CA   \n",
       "202      Stockton                          Stockton, CA   \n",
       "\n",
       "     unlinked_passenger_trips_upt  \n",
       "198                    50764402.0  \n",
       "197                    38224072.0  \n",
       "138                     6494639.0  \n",
       "212                     6187917.0  \n",
       "108                    14101648.0  \n",
       "206                     8773845.0  \n",
       "205                     7128074.0  \n",
       "115                     3962066.0  \n",
       "203                     2301789.0  \n",
       "202                     1839753.0  "
      ]
     },
     "execution_count": 55,
     "metadata": {},
     "output_type": "execute_result"
    }
   ],
   "source": [
    "ntd_service.sort_values(by=\"ntd_id\").head(10) #some duplicate rows exist because the agency name differ through the years?!"
   ]
  },
  {
   "cell_type": "markdown",
   "id": "fb801070-5086-4ef9-866a-ac71e40be6f1",
   "metadata": {
    "tags": []
   },
   "source": [
    "## Manual Update to `ntd_service`"
   ]
  },
  {
   "cell_type": "code",
   "execution_count": 3,
   "id": "6e51ea7d-ac91-4291-840a-9a6d0aa99d2c",
   "metadata": {
    "tags": []
   },
   "outputs": [
    {
     "data": {
      "text/html": [
       "<div>\n",
       "<style scoped>\n",
       "    .dataframe tbody tr th:only-of-type {\n",
       "        vertical-align: middle;\n",
       "    }\n",
       "\n",
       "    .dataframe tbody tr th {\n",
       "        vertical-align: top;\n",
       "    }\n",
       "\n",
       "    .dataframe thead th {\n",
       "        text-align: right;\n",
       "    }\n",
       "</style>\n",
       "<table border=\"1\" class=\"dataframe\">\n",
       "  <thead>\n",
       "    <tr style=\"text-align: right;\">\n",
       "      <th></th>\n",
       "      <th>agency</th>\n",
       "      <th>ntd_id</th>\n",
       "      <th>reporter_type</th>\n",
       "      <th>city</th>\n",
       "      <th>primary_uza_name</th>\n",
       "      <th>unlinked_passenger_trips_upt</th>\n",
       "    </tr>\n",
       "  </thead>\n",
       "  <tbody>\n",
       "    <tr>\n",
       "      <th>88</th>\n",
       "      <td>City of Moorpark, dba: Moorpark City Transit</td>\n",
       "      <td>90227</td>\n",
       "      <td>Reduced Reporter</td>\n",
       "      <td>Moorpark</td>\n",
       "      <td>Thousand Oaks, CA</td>\n",
       "      <td>26853.0</td>\n",
       "    </tr>\n",
       "  </tbody>\n",
       "</table>\n",
       "</div>"
      ],
      "text/plain": [
       "                                          agency ntd_id     reporter_type  \\\n",
       "88  City of Moorpark, dba: Moorpark City Transit  90227  Reduced Reporter   \n",
       "\n",
       "        city   primary_uza_name  unlinked_passenger_trips_upt  \n",
       "88  Moorpark  Thousand Oaks, CA                       26853.0  "
      ]
     },
     "execution_count": 3,
     "metadata": {},
     "output_type": "execute_result"
    }
   ],
   "source": [
    "ntd_service[ntd_service[\"ntd_id\"]==\"90227\"]"
   ]
  },
  {
   "cell_type": "code",
   "execution_count": 4,
   "id": "8b48c08c-c94e-4856-b4fc-cec5811a1383",
   "metadata": {
    "tags": []
   },
   "outputs": [],
   "source": [
    "update_dict = {\n",
    "    \"90227\": \"Moorpark\",\n",
    "    \"90253\": \"Bell Gardens\",\n",
    "    \"90259\": \"Cerritos\",\n",
    "    \"90286\": \"Monterey Park\",\n",
    "}\n",
    "\n",
    "for i, v in update_dict.items():\n",
    "    ntd_service.loc[ntd_service[\"ntd_id\"] == i, \"city\"] = v"
   ]
  },
  {
   "cell_type": "markdown",
   "id": "f80962b2-91ee-4fd1-9ddd-1f8526508b32",
   "metadata": {
    "tags": []
   },
   "source": [
    "## Read in data from `fct_service_data_and_operating_expenses_time_series_by_mode_upt`"
   ]
  },
  {
   "cell_type": "code",
   "execution_count": 5,
   "id": "dda98a80-30dd-4cf0-bdb0-3fee65589c38",
   "metadata": {
    "tags": []
   },
   "outputs": [
    {
     "name": "stdout",
     "output_type": "stream",
     "text": [
      "<class 'pandas.core.frame.DataFrame'>\n",
      "RangeIndex: 253 entries, 0 to 252\n",
      "Data columns (total 7 columns):\n",
      " #   Column            Non-Null Count  Dtype  \n",
      "---  ------            --------------  -----  \n",
      " 0   agency_name       253 non-null    object \n",
      " 1   agency_status     253 non-null    object \n",
      " 2   city              253 non-null    object \n",
      " 3   ntd_id            253 non-null    object \n",
      " 4   primary_uza_name  253 non-null    object \n",
      " 5   reporter_type     253 non-null    object \n",
      " 6   upt               253 non-null    float64\n",
      "dtypes: float64(1), object(6)\n",
      "memory usage: 14.0+ KB\n"
     ]
    }
   ],
   "source": [
    "# new warehouse table\n",
    "# includes upt, mode, tos and report year starting from 2018\n",
    "# contains historical,inactive agencies\n",
    "\n",
    "get_ntd_time_series = (\n",
    "    tbls.mart_ntd_funding_and_expenses.fct_service_data_and_operating_expenses_time_series_by_mode_upt()\n",
    "    >> filter(_.state == \"CA\",\n",
    "              _.year >= \"2018\",\n",
    "              _.city != None,\n",
    "             )\n",
    "    >> select(\n",
    "        'agency_name',\n",
    "        'agency_status',\n",
    "        'city',\n",
    "        'legacy_ntd_id',\n",
    "        'mode',\n",
    "        'ntd_id',\n",
    "        'reporter_type',\n",
    "        'reporting_module',\n",
    "        'service',\n",
    "        'state',\n",
    "        'uace_code',\n",
    "        'primary_uza_name',\n",
    "        'uza_population',\n",
    "        'year',\n",
    "        'upt',\n",
    "    )\n",
    "    >> collect()\n",
    ")\n",
    "\n",
    "#what does group by look like\n",
    "ntd_time_series = get_ntd_time_series.groupby(\n",
    "    [\n",
    "        \"agency_name\",\n",
    "        'agency_status',\n",
    "        \"city\",\n",
    "        \"ntd_id\",\n",
    "        'primary_uza_name',\n",
    "        \"reporter_type\"\n",
    "    ]\n",
    ").agg({\n",
    "    \"upt\":\"sum\"\n",
    "}).sort_values(by=\"ntd_id\").reset_index()\n",
    "\n",
    "ntd_time_series.info()"
   ]
  },
  {
   "cell_type": "markdown",
   "id": "8578cdcf-9214-4e56-a31e-7ca3b282fbc3",
   "metadata": {
    "tags": []
   },
   "source": [
    "## Read in GDF of Census Designated Places (aka cities) and RTPA bounaries\n",
    "\n",
    "Census Designated Places (CDPs) 2010 - California map\n",
    "- https://data.sacog.org/datasets/SACOG::census-designated-places-cdps-2010-california/about\n",
    "\n",
    "\n",
    "RTPA map opend data\n",
    "\n",
    "- https://www.lab.data.ca.gov/dataset/regional-transportation-planning-agencies"
   ]
  },
  {
   "cell_type": "code",
   "execution_count": 6,
   "id": "2bc5d43e-ec9c-4f6d-90d3-4b9c3514720d",
   "metadata": {
    "tags": []
   },
   "outputs": [],
   "source": [
    "# RTPA map\n",
    "rtpa_url = \"https://cecgis-caenergy.opendata.arcgis.com/api/download/v1/items/3a83743378be4e7f84c8230889c01dea/geojson?layers=0\"\n",
    "rtpa_map = gpd.read_file(rtpa_url)[\n",
    "    [\"RTPA\", \"LABEL_RTPA\", \"geometry\"]\n",
    "]  # .set_crs(\"ESRI:102600\", allow_override=True)\n",
    "rtpa_map = rtpa_map.to_crs(\"ESRI:102600\")  # for sjoin later"
   ]
  },
  {
   "cell_type": "code",
   "execution_count": 7,
   "id": "03a61250-1a4b-4605-aed3-485d2e01a024",
   "metadata": {
    "tags": []
   },
   "outputs": [],
   "source": [
    "# California Census Designated Places (2010), includes cities and CDPs\n",
    "cdp_url = \"https://services6.arcgis.com/YBp5dUuxCMd8W1EI/arcgis/rest/services/California_Census_Designated_Places_2010/FeatureServer/0/query?outFields=*&where=1%3D1&f=geojson\"\n",
    "keep_cdp_col = [\"FID\", \"NAME10\", \"NAMELSAD10\", \"geometry\"]\n",
    "cdp_map = gpd.read_file(cdp_url)[keep_cdp_col].rename(\n",
    "    columns={\"NAME10\": \"cdp_name\", \"NAMELSAD10\": \"name_lsad\"}\n",
    ")  # .set_crs(\"ESRI:102600\", allow_override=True)"
   ]
  },
  {
   "cell_type": "markdown",
   "id": "a0e36645-83c1-4a5c-b7e5-8ac2b1e4402b",
   "metadata": {},
   "source": [
    "## get centroid of CDPs to get point geom instead of polygons"
   ]
  },
  {
   "cell_type": "code",
   "execution_count": 8,
   "id": "8d5a3d55-aa5a-4579-a381-92c477363147",
   "metadata": {
    "tags": []
   },
   "outputs": [],
   "source": [
    "cdp_map[\"centroid\"] = (\n",
    "    cdp_map[\"geometry\"].to_crs(\"ESRI:102600\").centroid\n",
    ")  # CRS used to create centoid. is not presistent\n",
    "cdp_points = cdp_map.set_geometry(\"centroid\", drop=True)"
   ]
  },
  {
   "cell_type": "markdown",
   "id": "bb49a9de-9cd9-4ddf-b397-d272964a192a",
   "metadata": {},
   "source": [
    "## sjoin `cdp_map` to `rtpa_map` get get cites-to-rtpa crosswalk"
   ]
  },
  {
   "cell_type": "code",
   "execution_count": 9,
   "id": "17b0a639-9332-4c72-8d3e-dab5a7e33bd5",
   "metadata": {
    "tags": []
   },
   "outputs": [
    {
     "data": {
      "text/plain": [
       "True"
      ]
     },
     "execution_count": 9,
     "metadata": {},
     "output_type": "execute_result"
    }
   ],
   "source": [
    "cdp_points.crs == rtpa_map.crs\n",
    "# both are ESRI:102600"
   ]
  },
  {
   "cell_type": "code",
   "execution_count": 10,
   "id": "7521174a-9e01-4149-a51b-efe5458100b8",
   "metadata": {
    "tags": []
   },
   "outputs": [],
   "source": [
    "city_to_rtpa = gpd.sjoin(\n",
    "    cdp_points,  # includes cities and CDPs.\n",
    "    rtpa_map,\n",
    "    how=\"left\",\n",
    "    # how=\"inner\",\n",
    "    predicate=\"intersects\",\n",
    "    # predicate=\"within\",\n",
    ")\n",
    "# left, intersects = 1523 rows, 1521 CDPs matched,2 CDPs did not match to an RTPA (Avalon and City of San Francisco)\n",
    "# inner, intersects = 1521 rows,1521 CDPs matched\n",
    "# left, within = 1523 rows, 1521 CDPs matched,2 CDPs did not match to an RTPA\n",
    "# inner, within = 1521 rows,1521 CDPs matched"
   ]
  },
  {
   "cell_type": "markdown",
   "id": "4c96223c-5657-419b-bca5-294b0f6d90ba",
   "metadata": {},
   "source": [
    "### fix unmerged CDP rtpa rows"
   ]
  },
  {
   "cell_type": "code",
   "execution_count": 11,
   "id": "325214ee-ef82-4f38-9b18-b8fd669d57d5",
   "metadata": {
    "tags": []
   },
   "outputs": [
    {
     "data": {
      "text/html": [
       "<div>\n",
       "<style scoped>\n",
       "    .dataframe tbody tr th:only-of-type {\n",
       "        vertical-align: middle;\n",
       "    }\n",
       "\n",
       "    .dataframe tbody tr th {\n",
       "        vertical-align: top;\n",
       "    }\n",
       "\n",
       "    .dataframe thead th {\n",
       "        text-align: right;\n",
       "    }\n",
       "</style>\n",
       "<table border=\"1\" class=\"dataframe\">\n",
       "  <thead>\n",
       "    <tr style=\"text-align: right;\">\n",
       "      <th></th>\n",
       "      <th>FID</th>\n",
       "      <th>cdp_name</th>\n",
       "      <th>name_lsad</th>\n",
       "      <th>geometry</th>\n",
       "      <th>index_right</th>\n",
       "      <th>RTPA</th>\n",
       "      <th>LABEL_RTPA</th>\n",
       "    </tr>\n",
       "  </thead>\n",
       "  <tbody>\n",
       "    <tr>\n",
       "      <th>862</th>\n",
       "      <td>863</td>\n",
       "      <td>Avalon</td>\n",
       "      <td>Avalon city</td>\n",
       "      <td>POINT (510003.406 7421706.792)</td>\n",
       "      <td>NaN</td>\n",
       "      <td>Southern California Association of Governments</td>\n",
       "      <td>SCAG</td>\n",
       "    </tr>\n",
       "    <tr>\n",
       "      <th>889</th>\n",
       "      <td>890</td>\n",
       "      <td>San Francisco</td>\n",
       "      <td>San Francisco city</td>\n",
       "      <td>POINT (-777550.185 9040909.841)</td>\n",
       "      <td>NaN</td>\n",
       "      <td>Metropolitan Transportation Commission</td>\n",
       "      <td>MTC</td>\n",
       "    </tr>\n",
       "  </tbody>\n",
       "</table>\n",
       "</div>"
      ],
      "text/plain": [
       "     FID       cdp_name           name_lsad                         geometry  \\\n",
       "862  863         Avalon         Avalon city   POINT (510003.406 7421706.792)   \n",
       "889  890  San Francisco  San Francisco city  POINT (-777550.185 9040909.841)   \n",
       "\n",
       "     index_right                                            RTPA LABEL_RTPA  \n",
       "862          NaN  Southern California Association of Governments       SCAG  \n",
       "889          NaN          Metropolitan Transportation Commission        MTC  "
      ]
     },
     "execution_count": 11,
     "metadata": {},
     "output_type": "execute_result"
    }
   ],
   "source": [
    "# Avalon fix\n",
    "city_to_rtpa.loc[city_to_rtpa[\"cdp_name\"] == \"Avalon\", (\"RTPA\", \"LABEL_RTPA\")] = (\n",
    "    \"Southern California Association of Governments\",\n",
    "    \"SCAG\",\n",
    ")\n",
    "\n",
    "# San Francisco Fix\n",
    "city_to_rtpa.loc[\n",
    "    city_to_rtpa[\"cdp_name\"] == \"San Francisco\", (\"RTPA\", \"LABEL_RTPA\")\n",
    "] = (\"Metropolitan Transportation Commission\", \"MTC\")\n",
    "\n",
    "# check fix\n",
    "city_to_rtpa[city_to_rtpa[\"cdp_name\"].isin([\"Avalon\", \"San Francisco\"])]"
   ]
  },
  {
   "cell_type": "markdown",
   "id": "fc1c42b7-1e40-4a69-861c-6d1cdb775d1f",
   "metadata": {},
   "source": [
    "## merge `ntd_service` to `city_to_rtpa`"
   ]
  },
  {
   "cell_type": "code",
   "execution_count": 12,
   "id": "f11f9f7d-470f-421c-ae53-b3950ad8b80b",
   "metadata": {
    "tags": []
   },
   "outputs": [
    {
     "name": "stdout",
     "output_type": "stream",
     "text": [
      "<class 'pandas.core.frame.DataFrame'>\n",
      "Int64Index: 238 entries, 0 to 237\n",
      "Data columns (total 9 columns):\n",
      " #   Column                        Non-Null Count  Dtype   \n",
      "---  ------                        --------------  -----   \n",
      " 0   agency                        238 non-null    object  \n",
      " 1   ntd_id                        238 non-null    object  \n",
      " 2   reporter_type                 238 non-null    object  \n",
      " 3   city                          238 non-null    object  \n",
      " 4   primary_uza_name              238 non-null    object  \n",
      " 5   unlinked_passenger_trips_upt  238 non-null    float64 \n",
      " 6   cdp_name                      232 non-null    object  \n",
      " 7   RTPA                          232 non-null    object  \n",
      " 8   _merge                        238 non-null    category\n",
      "dtypes: category(1), float64(1), object(7)\n",
      "memory usage: 17.1+ KB\n"
     ]
    }
   ],
   "source": [
    "ntd_data_to_rtpa = ntd_service.merge(\n",
    "    city_to_rtpa[[\"cdp_name\", \"RTPA\"]],\n",
    "    left_on=(\"city\"),\n",
    "    right_on=(\"cdp_name\"),\n",
    "    how=\"left\",  # with left join, got some unmerged rows. aka reporters that dont appear in the city_to_rtpa list (CDP?). and fan out 1:m rows due to some dupe cdp names\n",
    "    indicator=True,\n",
    ")\n",
    "ntd_data_to_rtpa.info()"
   ]
  },
  {
   "cell_type": "code",
   "execution_count": 44,
   "id": "8a50b5fd-cad3-4c99-9f6e-bcd10c8568d9",
   "metadata": {
    "tags": []
   },
   "outputs": [
    {
     "data": {
      "text/html": [
       "<div>\n",
       "<style scoped>\n",
       "    .dataframe tbody tr th:only-of-type {\n",
       "        vertical-align: middle;\n",
       "    }\n",
       "\n",
       "    .dataframe tbody tr th {\n",
       "        vertical-align: top;\n",
       "    }\n",
       "\n",
       "    .dataframe thead th {\n",
       "        text-align: right;\n",
       "    }\n",
       "</style>\n",
       "<table border=\"1\" class=\"dataframe\">\n",
       "  <thead>\n",
       "    <tr style=\"text-align: right;\">\n",
       "      <th></th>\n",
       "      <th>agency</th>\n",
       "      <th>ntd_id</th>\n",
       "      <th>reporter_type</th>\n",
       "      <th>city</th>\n",
       "      <th>primary_uza_name</th>\n",
       "      <th>unlinked_passenger_trips_upt</th>\n",
       "      <th>cdp_name</th>\n",
       "      <th>RTPA</th>\n",
       "      <th>_merge</th>\n",
       "    </tr>\n",
       "  </thead>\n",
       "  <tbody>\n",
       "    <tr>\n",
       "      <th>0</th>\n",
       "      <td>Access Services</td>\n",
       "      <td>90157</td>\n",
       "      <td>Full Reporter</td>\n",
       "      <td>El Monte</td>\n",
       "      <td>Los Angeles--Long Beach--Anaheim, CA</td>\n",
       "      <td>6472858.0</td>\n",
       "      <td>El Monte</td>\n",
       "      <td>Southern California Association of Governments</td>\n",
       "      <td>both</td>\n",
       "    </tr>\n",
       "    <tr>\n",
       "      <th>1</th>\n",
       "      <td>Alameda-Contra Costa Transit District</td>\n",
       "      <td>90014</td>\n",
       "      <td>Full Reporter</td>\n",
       "      <td>Oakland</td>\n",
       "      <td>San Francisco--Oakland, CA</td>\n",
       "      <td>29347581.0</td>\n",
       "      <td>Oakland</td>\n",
       "      <td>Metropolitan Transportation Commission</td>\n",
       "      <td>both</td>\n",
       "    </tr>\n",
       "    <tr>\n",
       "      <th>2</th>\n",
       "      <td>Alameda-Contra Costa Transit District, dba: AC...</td>\n",
       "      <td>90014</td>\n",
       "      <td>Full Reporter</td>\n",
       "      <td>Oakland</td>\n",
       "      <td>San Francisco--Oakland, CA</td>\n",
       "      <td>35190057.0</td>\n",
       "      <td>Oakland</td>\n",
       "      <td>Metropolitan Transportation Commission</td>\n",
       "      <td>both</td>\n",
       "    </tr>\n",
       "    <tr>\n",
       "      <th>3</th>\n",
       "      <td>Altamont Corridor Express</td>\n",
       "      <td>90182</td>\n",
       "      <td>Full Reporter</td>\n",
       "      <td>Stockton</td>\n",
       "      <td>Stockton, CA</td>\n",
       "      <td>796250.0</td>\n",
       "      <td>Stockton</td>\n",
       "      <td>San Joaquin Council of Governments</td>\n",
       "      <td>both</td>\n",
       "    </tr>\n",
       "    <tr>\n",
       "      <th>4</th>\n",
       "      <td>Anaheim Transportation Network</td>\n",
       "      <td>90211</td>\n",
       "      <td>Full Reporter</td>\n",
       "      <td>Anaheim</td>\n",
       "      <td>Los Angeles--Long Beach--Anaheim, CA</td>\n",
       "      <td>7187312.0</td>\n",
       "      <td>Anaheim</td>\n",
       "      <td>Southern California Association of Governments</td>\n",
       "      <td>both</td>\n",
       "    </tr>\n",
       "  </tbody>\n",
       "</table>\n",
       "</div>"
      ],
      "text/plain": [
       "                                              agency ntd_id  reporter_type  \\\n",
       "0                                    Access Services  90157  Full Reporter   \n",
       "1              Alameda-Contra Costa Transit District  90014  Full Reporter   \n",
       "2  Alameda-Contra Costa Transit District, dba: AC...  90014  Full Reporter   \n",
       "3                          Altamont Corridor Express  90182  Full Reporter   \n",
       "4                     Anaheim Transportation Network  90211  Full Reporter   \n",
       "\n",
       "       city                      primary_uza_name  \\\n",
       "0  El Monte  Los Angeles--Long Beach--Anaheim, CA   \n",
       "1   Oakland            San Francisco--Oakland, CA   \n",
       "2   Oakland            San Francisco--Oakland, CA   \n",
       "3  Stockton                          Stockton, CA   \n",
       "4   Anaheim  Los Angeles--Long Beach--Anaheim, CA   \n",
       "\n",
       "   unlinked_passenger_trips_upt  cdp_name  \\\n",
       "0                     6472858.0  El Monte   \n",
       "1                    29347581.0   Oakland   \n",
       "2                    35190057.0   Oakland   \n",
       "3                      796250.0  Stockton   \n",
       "4                     7187312.0   Anaheim   \n",
       "\n",
       "                                             RTPA _merge  \n",
       "0  Southern California Association of Governments   both  \n",
       "1          Metropolitan Transportation Commission   both  \n",
       "2          Metropolitan Transportation Commission   both  \n",
       "3              San Joaquin Council of Governments   both  \n",
       "4  Southern California Association of Governments   both  "
      ]
     },
     "execution_count": 44,
     "metadata": {},
     "output_type": "execute_result"
    }
   ],
   "source": [
    "ntd_data_to_rtpa.head()"
   ]
  },
  {
   "cell_type": "markdown",
   "id": "8b202596-5913-4d88-8048-9a94c7ea01f0",
   "metadata": {},
   "source": [
    "## merge `ntd_time_series` to `city_to_rtpa`"
   ]
  },
  {
   "cell_type": "code",
   "execution_count": 13,
   "id": "70be1f64-eb58-4e86-9dbb-208adf1ebb88",
   "metadata": {
    "tags": []
   },
   "outputs": [
    {
     "name": "stdout",
     "output_type": "stream",
     "text": [
      "<class 'pandas.core.frame.DataFrame'>\n",
      "Int64Index: 255 entries, 0 to 254\n",
      "Data columns (total 10 columns):\n",
      " #   Column            Non-Null Count  Dtype   \n",
      "---  ------            --------------  -----   \n",
      " 0   agency_name       255 non-null    object  \n",
      " 1   agency_status     255 non-null    object  \n",
      " 2   city              255 non-null    object  \n",
      " 3   ntd_id            255 non-null    object  \n",
      " 4   primary_uza_name  255 non-null    object  \n",
      " 5   reporter_type     255 non-null    object  \n",
      " 6   upt               255 non-null    float64 \n",
      " 7   cdp_name          248 non-null    object  \n",
      " 8   RTPA              248 non-null    object  \n",
      " 9   _merge            255 non-null    category\n",
      "dtypes: category(1), float64(1), object(8)\n",
      "memory usage: 20.3+ KB\n"
     ]
    }
   ],
   "source": [
    "alt_ntd_to_rtpa = ntd_time_series.merge(\n",
    "    city_to_rtpa[[\"cdp_name\", \"RTPA\"]],\n",
    "    left_on=(\"city\"),\n",
    "    right_on=(\"cdp_name\"),\n",
    "    how=\"left\",  # with left join, got some unmerged rows. aka reporters that dont appear in the city_to_rtpa list (CDP?). and fan out 1:m rows due to some dupe cdp names\n",
    "    indicator=True,\n",
    ")\n",
    "alt_ntd_to_rtpa.info()"
   ]
  },
  {
   "cell_type": "markdown",
   "id": "79864737-b958-480e-9253-753c40a4bcbc",
   "metadata": {},
   "source": [
    "## check for unmerged values "
   ]
  },
  {
   "cell_type": "code",
   "execution_count": 17,
   "id": "6f09a068-8001-4b13-ade9-39b7f0c731e2",
   "metadata": {
    "tags": []
   },
   "outputs": [
    {
     "data": {
      "text/plain": [
       "both          232\n",
       "left_only       6\n",
       "right_only      0\n",
       "Name: _merge, dtype: int64"
      ]
     },
     "metadata": {},
     "output_type": "display_data"
    },
    {
     "data": {
      "text/plain": [
       "both          248\n",
       "left_only       7\n",
       "right_only      0\n",
       "Name: _merge, dtype: int64"
      ]
     },
     "metadata": {},
     "output_type": "display_data"
    }
   ],
   "source": [
    "display(\n",
    "    ntd_data_to_rtpa[\"_merge\"].value_counts(),\n",
    "    alt_ntd_to_rtpa[\"_merge\"].value_counts()\n",
    ")"
   ]
  },
  {
   "cell_type": "markdown",
   "id": "ee4f78f9-31c2-418d-bbac-24c2685906a3",
   "metadata": {},
   "source": [
    "### manual updates to `ntd_data_to_rtpa` & `alt_ntd_to_rtpa`"
   ]
  },
  {
   "cell_type": "code",
   "execution_count": 16,
   "id": "c6ecb2e7-4033-4d1e-896b-5f96529f152c",
   "metadata": {
    "tags": []
   },
   "outputs": [
    {
     "data": {
      "text/html": [
       "<div>\n",
       "<style scoped>\n",
       "    .dataframe tbody tr th:only-of-type {\n",
       "        vertical-align: middle;\n",
       "    }\n",
       "\n",
       "    .dataframe tbody tr th {\n",
       "        vertical-align: top;\n",
       "    }\n",
       "\n",
       "    .dataframe thead th {\n",
       "        text-align: right;\n",
       "    }\n",
       "</style>\n",
       "<table border=\"1\" class=\"dataframe\">\n",
       "  <thead>\n",
       "    <tr style=\"text-align: right;\">\n",
       "      <th></th>\n",
       "      <th>agency</th>\n",
       "      <th>city</th>\n",
       "      <th>cdp_name</th>\n",
       "      <th>RTPA</th>\n",
       "    </tr>\n",
       "  </thead>\n",
       "  <tbody>\n",
       "    <tr>\n",
       "      <th>14</th>\n",
       "      <td>Chemehuevi Indian Tribe</td>\n",
       "      <td>Havasu Lake</td>\n",
       "      <td>NaN</td>\n",
       "      <td>NaN</td>\n",
       "    </tr>\n",
       "    <tr>\n",
       "      <th>15</th>\n",
       "      <td>Chemehuevi Indian Tribe</td>\n",
       "      <td>Havasu Lake</td>\n",
       "      <td>NaN</td>\n",
       "      <td>NaN</td>\n",
       "    </tr>\n",
       "    <tr>\n",
       "      <th>132</th>\n",
       "      <td>County of Ventura</td>\n",
       "      <td>Ventura</td>\n",
       "      <td>NaN</td>\n",
       "      <td>NaN</td>\n",
       "    </tr>\n",
       "    <tr>\n",
       "      <th>180</th>\n",
       "      <td>North Fork Rancheria of Mono Indians of Califo...</td>\n",
       "      <td>North Fork</td>\n",
       "      <td>NaN</td>\n",
       "      <td>NaN</td>\n",
       "    </tr>\n",
       "    <tr>\n",
       "      <th>181</th>\n",
       "      <td>North Fork Rancheria of Mono Indians of Califo...</td>\n",
       "      <td>North Fork</td>\n",
       "      <td>NaN</td>\n",
       "      <td>NaN</td>\n",
       "    </tr>\n",
       "    <tr>\n",
       "      <th>185</th>\n",
       "      <td>Palos Verdes Peninsula Transit Authority</td>\n",
       "      <td>Palos Verdes Peninsula</td>\n",
       "      <td>NaN</td>\n",
       "      <td>NaN</td>\n",
       "    </tr>\n",
       "  </tbody>\n",
       "</table>\n",
       "</div>"
      ],
      "text/plain": [
       "                                                agency  \\\n",
       "14                             Chemehuevi Indian Tribe   \n",
       "15                             Chemehuevi Indian Tribe   \n",
       "132                                  County of Ventura   \n",
       "180  North Fork Rancheria of Mono Indians of Califo...   \n",
       "181  North Fork Rancheria of Mono Indians of Califo...   \n",
       "185           Palos Verdes Peninsula Transit Authority   \n",
       "\n",
       "                       city cdp_name RTPA  \n",
       "14              Havasu Lake      NaN  NaN  \n",
       "15              Havasu Lake      NaN  NaN  \n",
       "132                 Ventura      NaN  NaN  \n",
       "180              North Fork      NaN  NaN  \n",
       "181              North Fork      NaN  NaN  \n",
       "185  Palos Verdes Peninsula      NaN  NaN  "
      ]
     },
     "execution_count": 16,
     "metadata": {},
     "output_type": "execute_result"
    }
   ],
   "source": [
    "# rows with NaN RTPAs\n",
    "ntd_data_to_rtpa[ntd_data_to_rtpa[\"RTPA\"].isna()][\n",
    "    [\"agency\", \"city\", \"cdp_name\", \"RTPA\"]\n",
    "] # 9 rows didnt get an RTPA"
   ]
  },
  {
   "cell_type": "code",
   "execution_count": 18,
   "id": "0c6aed18-f7e9-4a8b-8eea-11fcd936be35",
   "metadata": {
    "tags": []
   },
   "outputs": [
    {
     "data": {
      "text/html": [
       "<div>\n",
       "<style scoped>\n",
       "    .dataframe tbody tr th:only-of-type {\n",
       "        vertical-align: middle;\n",
       "    }\n",
       "\n",
       "    .dataframe tbody tr th {\n",
       "        vertical-align: top;\n",
       "    }\n",
       "\n",
       "    .dataframe thead th {\n",
       "        text-align: right;\n",
       "    }\n",
       "</style>\n",
       "<table border=\"1\" class=\"dataframe\">\n",
       "  <thead>\n",
       "    <tr style=\"text-align: right;\">\n",
       "      <th></th>\n",
       "      <th>agency_name</th>\n",
       "      <th>city</th>\n",
       "      <th>cdp_name</th>\n",
       "      <th>RTPA</th>\n",
       "    </tr>\n",
       "  </thead>\n",
       "  <tbody>\n",
       "    <tr>\n",
       "      <th>243</th>\n",
       "      <td>Chemehuevi Indian Tribe (CTA) - Reality and Pl...</td>\n",
       "      <td>Havasu Lake</td>\n",
       "      <td>NaN</td>\n",
       "      <td>NaN</td>\n",
       "    </tr>\n",
       "    <tr>\n",
       "      <th>234</th>\n",
       "      <td>City of McFarland - Public Works Department</td>\n",
       "      <td>Mcfarland</td>\n",
       "      <td>NaN</td>\n",
       "      <td>NaN</td>\n",
       "    </tr>\n",
       "    <tr>\n",
       "      <th>168</th>\n",
       "      <td>City of Monterey Park - Public Works Department</td>\n",
       "      <td>Montery Park</td>\n",
       "      <td>NaN</td>\n",
       "      <td>NaN</td>\n",
       "    </tr>\n",
       "    <tr>\n",
       "      <th>245</th>\n",
       "      <td>North Fork Rancheria of Mono Indians of Califo...</td>\n",
       "      <td>North Fork</td>\n",
       "      <td>NaN</td>\n",
       "      <td>NaN</td>\n",
       "    </tr>\n",
       "    <tr>\n",
       "      <th>95</th>\n",
       "      <td>Paso Robles Transit Services (PE)</td>\n",
       "      <td>Paso Robles</td>\n",
       "      <td>NaN</td>\n",
       "      <td>NaN</td>\n",
       "    </tr>\n",
       "    <tr>\n",
       "      <th>68</th>\n",
       "      <td>DAVE Transportation Services, Inc.</td>\n",
       "      <td>Sherman Oaks</td>\n",
       "      <td>NaN</td>\n",
       "      <td>NaN</td>\n",
       "    </tr>\n",
       "    <tr>\n",
       "      <th>181</th>\n",
       "      <td>County of Ventura (PWATD) - Public Works</td>\n",
       "      <td>Ventura</td>\n",
       "      <td>NaN</td>\n",
       "      <td>NaN</td>\n",
       "    </tr>\n",
       "  </tbody>\n",
       "</table>\n",
       "</div>"
      ],
      "text/plain": [
       "                                           agency_name          city cdp_name  \\\n",
       "243  Chemehuevi Indian Tribe (CTA) - Reality and Pl...   Havasu Lake      NaN   \n",
       "234        City of McFarland - Public Works Department     Mcfarland      NaN   \n",
       "168    City of Monterey Park - Public Works Department  Montery Park      NaN   \n",
       "245  North Fork Rancheria of Mono Indians of Califo...    North Fork      NaN   \n",
       "95                   Paso Robles Transit Services (PE)   Paso Robles      NaN   \n",
       "68                  DAVE Transportation Services, Inc.  Sherman Oaks      NaN   \n",
       "181           County of Ventura (PWATD) - Public Works       Ventura      NaN   \n",
       "\n",
       "    RTPA  \n",
       "243  NaN  \n",
       "234  NaN  \n",
       "168  NaN  \n",
       "245  NaN  \n",
       "95   NaN  \n",
       "68   NaN  \n",
       "181  NaN  "
      ]
     },
     "execution_count": 18,
     "metadata": {},
     "output_type": "execute_result"
    }
   ],
   "source": [
    "# rows with NaN RTPAs\n",
    "alt_ntd_to_rtpa[alt_ntd_to_rtpa[\"RTPA\"].isna()][\n",
    "    [\"agency_name\", \"city\", \"cdp_name\", \"RTPA\"]\n",
    "].drop_duplicates().sort_values(by=\"city\")  # 21 rows with empty RTPAs"
   ]
  },
  {
   "cell_type": "code",
   "execution_count": 19,
   "id": "77357539-489c-47b5-bc6e-1f97bf14cb4c",
   "metadata": {
    "tags": []
   },
   "outputs": [
    {
     "data": {
      "text/plain": [
       "array(['Sherman Oaks', 'Paso Robles', 'Montery Park', 'Ventura',\n",
       "       'Mcfarland', 'Havasu Lake', 'North Fork'], dtype=object)"
      ]
     },
     "execution_count": 19,
     "metadata": {},
     "output_type": "execute_result"
    }
   ],
   "source": [
    "alt_ntd_to_rtpa[alt_ntd_to_rtpa[\"RTPA\"].isna()][\"city\"].unique()"
   ]
  },
  {
   "cell_type": "code",
   "execution_count": 20,
   "id": "80d67f08-48c8-413c-bda4-7b74b0f5abb8",
   "metadata": {
    "tags": []
   },
   "outputs": [
    {
     "data": {
      "text/html": [
       "<div>\n",
       "<style scoped>\n",
       "    .dataframe tbody tr th:only-of-type {\n",
       "        vertical-align: middle;\n",
       "    }\n",
       "\n",
       "    .dataframe tbody tr th {\n",
       "        vertical-align: top;\n",
       "    }\n",
       "\n",
       "    .dataframe thead th {\n",
       "        text-align: right;\n",
       "    }\n",
       "</style>\n",
       "<table border=\"1\" class=\"dataframe\">\n",
       "  <thead>\n",
       "    <tr style=\"text-align: right;\">\n",
       "      <th></th>\n",
       "      <th>FID</th>\n",
       "      <th>cdp_name</th>\n",
       "      <th>name_lsad</th>\n",
       "      <th>geometry</th>\n",
       "      <th>index_right</th>\n",
       "      <th>RTPA</th>\n",
       "      <th>LABEL_RTPA</th>\n",
       "    </tr>\n",
       "  </thead>\n",
       "  <tbody>\n",
       "  </tbody>\n",
       "</table>\n",
       "</div>"
      ],
      "text/plain": [
       "Empty GeoDataFrame\n",
       "Columns: [FID, cdp_name, name_lsad, geometry, index_right, RTPA, LABEL_RTPA]\n",
       "Index: []"
      ]
     },
     "execution_count": 20,
     "metadata": {},
     "output_type": "execute_result"
    }
   ],
   "source": [
    "city_to_rtpa[city_to_rtpa[\"cdp_name\"].str.contains(\"Sherman\")]\n",
    "\n",
    "# Sherman Oaks doesnt even exist as a city  in the city-to-rtpa list"
   ]
  },
  {
   "cell_type": "code",
   "execution_count": 21,
   "id": "a1b69317-ec59-44bc-b88c-37295dd3088f",
   "metadata": {
    "tags": []
   },
   "outputs": [],
   "source": [
    "#dictionary to update missing cdp and RTPA values from Cities\n",
    "\n",
    "update_dict={\n",
    "    \"Mcfarland\": (\"Mcfarland\",\"Kern Council of Governments\"),\n",
    "    \"Ventura\":(\"Ventura\",\"Southern California Association of Governments\"),\n",
    "    \"Palos Verdes Peninsula\":(\"Rolling Hills\",\"Southern California Association of Governments\"),# to match other entries for this agency\n",
    "    \"Havasu Lake\":(\"Havasu Lake\",\"Southern California Association of Governments\"), # aka Lake Havasu. shares zip code with Needles. so update to SCAG\n",
    "    \"North Fork\":(\"North Fork\",\"Madera County Transportation Commission\"), #in Madera County, update to\n",
    "    \"Montery Park\":(\"Monterey Park\",\"Southern California Association of Governments\"),\n",
    "    \"Paso Robles\":(\"Paso Robles\",\"San Luis Obispo Council of Governments\"),\n",
    "    \"Sherman Oaks\":(\"Sherman Oaks\",\"Southern California Association of Governments\")\n",
    "}\n",
    "\n",
    "#make loop using update_dict:\n",
    "for k,v in update_dict.items():\n",
    "    ntd_data_to_rtpa.loc[ntd_data_to_rtpa[\"city\"]==k,(\"cdp_name\",\"RTPA\")] = v\n",
    "    alt_ntd_to_rtpa.loc[alt_ntd_to_rtpa[\"city\"]==k,(\"cdp_name\",\"RTPA\")] = v\n"
   ]
  },
  {
   "cell_type": "code",
   "execution_count": 23,
   "id": "7a771992-1f5a-4922-ba1a-a1140d46ea8d",
   "metadata": {
    "tags": []
   },
   "outputs": [
    {
     "data": {
      "text/html": [
       "<div>\n",
       "<style scoped>\n",
       "    .dataframe tbody tr th:only-of-type {\n",
       "        vertical-align: middle;\n",
       "    }\n",
       "\n",
       "    .dataframe tbody tr th {\n",
       "        vertical-align: top;\n",
       "    }\n",
       "\n",
       "    .dataframe thead th {\n",
       "        text-align: right;\n",
       "    }\n",
       "</style>\n",
       "<table border=\"1\" class=\"dataframe\">\n",
       "  <thead>\n",
       "    <tr style=\"text-align: right;\">\n",
       "      <th></th>\n",
       "      <th>agency</th>\n",
       "      <th>city</th>\n",
       "      <th>cdp_name</th>\n",
       "      <th>RTPA</th>\n",
       "    </tr>\n",
       "  </thead>\n",
       "  <tbody>\n",
       "  </tbody>\n",
       "</table>\n",
       "</div>"
      ],
      "text/plain": [
       "Empty DataFrame\n",
       "Columns: [agency, city, cdp_name, RTPA]\n",
       "Index: []"
      ]
     },
     "metadata": {},
     "output_type": "display_data"
    },
    {
     "data": {
      "text/html": [
       "<div>\n",
       "<style scoped>\n",
       "    .dataframe tbody tr th:only-of-type {\n",
       "        vertical-align: middle;\n",
       "    }\n",
       "\n",
       "    .dataframe tbody tr th {\n",
       "        vertical-align: top;\n",
       "    }\n",
       "\n",
       "    .dataframe thead th {\n",
       "        text-align: right;\n",
       "    }\n",
       "</style>\n",
       "<table border=\"1\" class=\"dataframe\">\n",
       "  <thead>\n",
       "    <tr style=\"text-align: right;\">\n",
       "      <th></th>\n",
       "      <th>agency_name</th>\n",
       "      <th>city</th>\n",
       "      <th>cdp_name</th>\n",
       "      <th>RTPA</th>\n",
       "    </tr>\n",
       "  </thead>\n",
       "  <tbody>\n",
       "  </tbody>\n",
       "</table>\n",
       "</div>"
      ],
      "text/plain": [
       "Empty DataFrame\n",
       "Columns: [agency_name, city, cdp_name, RTPA]\n",
       "Index: []"
      ]
     },
     "metadata": {},
     "output_type": "display_data"
    }
   ],
   "source": [
    "#check for NaN RTPAs again\n",
    "display(\n",
    "    ntd_data_to_rtpa[ntd_data_to_rtpa[\"RTPA\"].isna()][[\"agency\",\"city\",\"cdp_name\",\"RTPA\"]], # all fixed!!\n",
    "    alt_ntd_to_rtpa[alt_ntd_to_rtpa[\"RTPA\"].isna()][[\"agency_name\", \"city\", \"cdp_name\", \"RTPA\"]]\n",
    ")"
   ]
  },
  {
   "cell_type": "markdown",
   "id": "4f7ecd25-5991-45a7-9692-0b142f564bc7",
   "metadata": {},
   "source": [
    "### Duplicate NTD ID fixes\n",
    "- review ntd_id's with more than 2 rows. there are some CDPs with duplicate names.\n",
    "- remove the rows with non-matching UZA to RTPA names"
   ]
  },
  {
   "cell_type": "code",
   "execution_count": 24,
   "id": "a1a3d8ae-4f04-4e2a-969f-b31dfdb8c98c",
   "metadata": {
    "tags": []
   },
   "outputs": [
    {
     "data": {
      "text/plain": [
       "90287    2\n",
       "90256    2\n",
       "90003    1\n",
       "90293    1\n",
       "90280    1\n",
       "Name: ntd_id, dtype: int64"
      ]
     },
     "execution_count": 24,
     "metadata": {},
     "output_type": "execute_result"
    }
   ],
   "source": [
    "alt_ntd_to_rtpa[\"ntd_id\"].value_counts().head() # looking for rows with more than 2 rows"
   ]
  },
  {
   "cell_type": "code",
   "execution_count": 25,
   "id": "5e95dc82-9a1f-4fdb-ad27-4b7772951d71",
   "metadata": {
    "tags": []
   },
   "outputs": [
    {
     "data": {
      "text/html": [
       "<div>\n",
       "<style scoped>\n",
       "    .dataframe tbody tr th:only-of-type {\n",
       "        vertical-align: middle;\n",
       "    }\n",
       "\n",
       "    .dataframe tbody tr th {\n",
       "        vertical-align: top;\n",
       "    }\n",
       "\n",
       "    .dataframe thead th {\n",
       "        text-align: right;\n",
       "    }\n",
       "</style>\n",
       "<table border=\"1\" class=\"dataframe\">\n",
       "  <thead>\n",
       "    <tr style=\"text-align: right;\">\n",
       "      <th></th>\n",
       "      <th>agency</th>\n",
       "      <th>ntd_id</th>\n",
       "      <th>reporter_type</th>\n",
       "      <th>city</th>\n",
       "      <th>primary_uza_name</th>\n",
       "      <th>unlinked_passenger_trips_upt</th>\n",
       "      <th>cdp_name</th>\n",
       "      <th>RTPA</th>\n",
       "      <th>_merge</th>\n",
       "    </tr>\n",
       "  </thead>\n",
       "  <tbody>\n",
       "    <tr>\n",
       "      <th>34</th>\n",
       "      <td>City of Burbank</td>\n",
       "      <td>90256</td>\n",
       "      <td>Reduced Reporter</td>\n",
       "      <td>Burbank</td>\n",
       "      <td>Los Angeles--Long Beach--Anaheim, CA</td>\n",
       "      <td>333488.0</td>\n",
       "      <td>Burbank</td>\n",
       "      <td>Metropolitan Transportation Commission</td>\n",
       "      <td>both</td>\n",
       "    </tr>\n",
       "    <tr>\n",
       "      <th>35</th>\n",
       "      <td>City of Burbank</td>\n",
       "      <td>90256</td>\n",
       "      <td>Reduced Reporter</td>\n",
       "      <td>Burbank</td>\n",
       "      <td>Los Angeles--Long Beach--Anaheim, CA</td>\n",
       "      <td>333488.0</td>\n",
       "      <td>Burbank</td>\n",
       "      <td>Southern California Association of Governments</td>\n",
       "      <td>both</td>\n",
       "    </tr>\n",
       "    <tr>\n",
       "      <th>185</th>\n",
       "      <td>Palos Verdes Peninsula Transit Authority</td>\n",
       "      <td>90287</td>\n",
       "      <td>Reduced Reporter</td>\n",
       "      <td>Palos Verdes Peninsula</td>\n",
       "      <td>Los Angeles--Long Beach--Anaheim, CA</td>\n",
       "      <td>122042.0</td>\n",
       "      <td>Rolling Hills</td>\n",
       "      <td>Southern California Association of Governments</td>\n",
       "      <td>left_only</td>\n",
       "    </tr>\n",
       "    <tr>\n",
       "      <th>186</th>\n",
       "      <td>Palos Verdes Peninsula Transit Authority</td>\n",
       "      <td>90287</td>\n",
       "      <td>Reduced Reporter</td>\n",
       "      <td>Rolling Hills</td>\n",
       "      <td>Los Angeles--Long Beach--Anaheim, CA</td>\n",
       "      <td>131176.0</td>\n",
       "      <td>Rolling Hills</td>\n",
       "      <td>Madera County Transportation Commission</td>\n",
       "      <td>both</td>\n",
       "    </tr>\n",
       "    <tr>\n",
       "      <th>187</th>\n",
       "      <td>Palos Verdes Peninsula Transit Authority</td>\n",
       "      <td>90287</td>\n",
       "      <td>Reduced Reporter</td>\n",
       "      <td>Rolling Hills</td>\n",
       "      <td>Los Angeles--Long Beach--Anaheim, CA</td>\n",
       "      <td>131176.0</td>\n",
       "      <td>Rolling Hills</td>\n",
       "      <td>Southern California Association of Governments</td>\n",
       "      <td>both</td>\n",
       "    </tr>\n",
       "  </tbody>\n",
       "</table>\n",
       "</div>"
      ],
      "text/plain": [
       "                                       agency ntd_id     reporter_type  \\\n",
       "34                            City of Burbank  90256  Reduced Reporter   \n",
       "35                            City of Burbank  90256  Reduced Reporter   \n",
       "185  Palos Verdes Peninsula Transit Authority  90287  Reduced Reporter   \n",
       "186  Palos Verdes Peninsula Transit Authority  90287  Reduced Reporter   \n",
       "187  Palos Verdes Peninsula Transit Authority  90287  Reduced Reporter   \n",
       "\n",
       "                       city                      primary_uza_name  \\\n",
       "34                  Burbank  Los Angeles--Long Beach--Anaheim, CA   \n",
       "35                  Burbank  Los Angeles--Long Beach--Anaheim, CA   \n",
       "185  Palos Verdes Peninsula  Los Angeles--Long Beach--Anaheim, CA   \n",
       "186           Rolling Hills  Los Angeles--Long Beach--Anaheim, CA   \n",
       "187           Rolling Hills  Los Angeles--Long Beach--Anaheim, CA   \n",
       "\n",
       "     unlinked_passenger_trips_upt       cdp_name  \\\n",
       "34                       333488.0        Burbank   \n",
       "35                       333488.0        Burbank   \n",
       "185                      122042.0  Rolling Hills   \n",
       "186                      131176.0  Rolling Hills   \n",
       "187                      131176.0  Rolling Hills   \n",
       "\n",
       "                                               RTPA     _merge  \n",
       "34           Metropolitan Transportation Commission       both  \n",
       "35   Southern California Association of Governments       both  \n",
       "185  Southern California Association of Governments  left_only  \n",
       "186         Madera County Transportation Commission       both  \n",
       "187  Southern California Association of Governments       both  "
      ]
     },
     "metadata": {},
     "output_type": "display_data"
    },
    {
     "data": {
      "text/html": [
       "<div>\n",
       "<style scoped>\n",
       "    .dataframe tbody tr th:only-of-type {\n",
       "        vertical-align: middle;\n",
       "    }\n",
       "\n",
       "    .dataframe tbody tr th {\n",
       "        vertical-align: top;\n",
       "    }\n",
       "\n",
       "    .dataframe thead th {\n",
       "        text-align: right;\n",
       "    }\n",
       "</style>\n",
       "<table border=\"1\" class=\"dataframe\">\n",
       "  <thead>\n",
       "    <tr style=\"text-align: right;\">\n",
       "      <th></th>\n",
       "      <th>agency_name</th>\n",
       "      <th>agency_status</th>\n",
       "      <th>city</th>\n",
       "      <th>ntd_id</th>\n",
       "      <th>primary_uza_name</th>\n",
       "      <th>reporter_type</th>\n",
       "      <th>upt</th>\n",
       "      <th>cdp_name</th>\n",
       "      <th>RTPA</th>\n",
       "      <th>_merge</th>\n",
       "    </tr>\n",
       "  </thead>\n",
       "  <tbody>\n",
       "    <tr>\n",
       "      <th>137</th>\n",
       "      <td>City of Burbank - Community Development-Transp...</td>\n",
       "      <td>Active</td>\n",
       "      <td>Burbank</td>\n",
       "      <td>90256</td>\n",
       "      <td>Los Angeles--Long Beach--Anaheim, CA</td>\n",
       "      <td>Reduced Reporter</td>\n",
       "      <td>1156840.0</td>\n",
       "      <td>Burbank</td>\n",
       "      <td>Metropolitan Transportation Commission</td>\n",
       "      <td>both</td>\n",
       "    </tr>\n",
       "    <tr>\n",
       "      <th>138</th>\n",
       "      <td>City of Burbank - Community Development-Transp...</td>\n",
       "      <td>Active</td>\n",
       "      <td>Burbank</td>\n",
       "      <td>90256</td>\n",
       "      <td>Los Angeles--Long Beach--Anaheim, CA</td>\n",
       "      <td>Reduced Reporter</td>\n",
       "      <td>1156840.0</td>\n",
       "      <td>Burbank</td>\n",
       "      <td>Southern California Association of Governments</td>\n",
       "      <td>both</td>\n",
       "    </tr>\n",
       "    <tr>\n",
       "      <th>169</th>\n",
       "      <td>Palos Verdes Peninsula Transit Authority (PVPTA)</td>\n",
       "      <td>Active</td>\n",
       "      <td>Rolling Hills</td>\n",
       "      <td>90287</td>\n",
       "      <td>Los Angeles--Long Beach--Anaheim, CA</td>\n",
       "      <td>Reduced Reporter</td>\n",
       "      <td>703745.0</td>\n",
       "      <td>Rolling Hills</td>\n",
       "      <td>Madera County Transportation Commission</td>\n",
       "      <td>both</td>\n",
       "    </tr>\n",
       "    <tr>\n",
       "      <th>170</th>\n",
       "      <td>Palos Verdes Peninsula Transit Authority (PVPTA)</td>\n",
       "      <td>Active</td>\n",
       "      <td>Rolling Hills</td>\n",
       "      <td>90287</td>\n",
       "      <td>Los Angeles--Long Beach--Anaheim, CA</td>\n",
       "      <td>Reduced Reporter</td>\n",
       "      <td>703745.0</td>\n",
       "      <td>Rolling Hills</td>\n",
       "      <td>Southern California Association of Governments</td>\n",
       "      <td>both</td>\n",
       "    </tr>\n",
       "  </tbody>\n",
       "</table>\n",
       "</div>"
      ],
      "text/plain": [
       "                                           agency_name agency_status  \\\n",
       "137  City of Burbank - Community Development-Transp...        Active   \n",
       "138  City of Burbank - Community Development-Transp...        Active   \n",
       "169   Palos Verdes Peninsula Transit Authority (PVPTA)        Active   \n",
       "170   Palos Verdes Peninsula Transit Authority (PVPTA)        Active   \n",
       "\n",
       "              city ntd_id                      primary_uza_name  \\\n",
       "137        Burbank  90256  Los Angeles--Long Beach--Anaheim, CA   \n",
       "138        Burbank  90256  Los Angeles--Long Beach--Anaheim, CA   \n",
       "169  Rolling Hills  90287  Los Angeles--Long Beach--Anaheim, CA   \n",
       "170  Rolling Hills  90287  Los Angeles--Long Beach--Anaheim, CA   \n",
       "\n",
       "        reporter_type        upt       cdp_name  \\\n",
       "137  Reduced Reporter  1156840.0        Burbank   \n",
       "138  Reduced Reporter  1156840.0        Burbank   \n",
       "169  Reduced Reporter   703745.0  Rolling Hills   \n",
       "170  Reduced Reporter   703745.0  Rolling Hills   \n",
       "\n",
       "                                               RTPA _merge  \n",
       "137          Metropolitan Transportation Commission   both  \n",
       "138  Southern California Association of Governments   both  \n",
       "169         Madera County Transportation Commission   both  \n",
       "170  Southern California Association of Governments   both  "
      ]
     },
     "metadata": {},
     "output_type": "display_data"
    }
   ],
   "source": [
    "check_ntd_id =[\n",
    "    \"90256\", # City of Burbank, matched to MTC and SCAG. There is a \"Burbank\" in both areas\n",
    "    \"90287\" # Palos Verdes Peninsula Transit Authority. similary, shows in 2 RTPAs.  \n",
    "]\n",
    "\n",
    "display(\n",
    "    ntd_data_to_rtpa[ntd_data_to_rtpa[\"ntd_id\"].isin(check_ntd_id)],\n",
    "    alt_ntd_to_rtpa[alt_ntd_to_rtpa[\"ntd_id\"].isin(check_ntd_id)]\n",
    ")"
   ]
  },
  {
   "cell_type": "code",
   "execution_count": 26,
   "id": "cb1059a3-4230-4b34-836b-51ce5586cc85",
   "metadata": {
    "tags": []
   },
   "outputs": [],
   "source": [
    "#identify conditions to drop rows by\n",
    "remove_1 = (ntd_data_to_rtpa[\"ntd_id\"]==\"90256\") & (ntd_data_to_rtpa[\"RTPA\"]==\"Metropolitan Transportation Commission\")\n",
    "remove_2 = (ntd_data_to_rtpa[\"ntd_id\"]==\"90287\") & (ntd_data_to_rtpa[\"RTPA\"]==\"Madera County Transportation Commission\")\n",
    "\n",
    "ntd_data_to_rtpa = ntd_data_to_rtpa[~(remove_1 | remove_2)]\n"
   ]
  },
  {
   "cell_type": "code",
   "execution_count": 27,
   "id": "ea5d19c6-b3ba-4dac-86e0-a06b635fc9ba",
   "metadata": {
    "tags": []
   },
   "outputs": [],
   "source": [
    "remove_3 = (alt_ntd_to_rtpa[\"ntd_id\"]==\"90256\") & (alt_ntd_to_rtpa[\"RTPA\"]==\"Metropolitan Transportation Commission\")\n",
    "remove_4 = (alt_ntd_to_rtpa[\"ntd_id\"]==\"90287\") & (alt_ntd_to_rtpa[\"RTPA\"]==\"Madera County Transportation Commission\")\n",
    "\n",
    "alt_ntd_to_rtpa = alt_ntd_to_rtpa[~(remove_3 | remove_4)]\n"
   ]
  },
  {
   "cell_type": "code",
   "execution_count": 28,
   "id": "48ecf002-114c-4ba2-b859-67b84cd758cb",
   "metadata": {
    "tags": []
   },
   "outputs": [
    {
     "data": {
      "text/html": [
       "<div>\n",
       "<style scoped>\n",
       "    .dataframe tbody tr th:only-of-type {\n",
       "        vertical-align: middle;\n",
       "    }\n",
       "\n",
       "    .dataframe tbody tr th {\n",
       "        vertical-align: top;\n",
       "    }\n",
       "\n",
       "    .dataframe thead th {\n",
       "        text-align: right;\n",
       "    }\n",
       "</style>\n",
       "<table border=\"1\" class=\"dataframe\">\n",
       "  <thead>\n",
       "    <tr style=\"text-align: right;\">\n",
       "      <th></th>\n",
       "      <th>agency</th>\n",
       "      <th>ntd_id</th>\n",
       "      <th>reporter_type</th>\n",
       "      <th>city</th>\n",
       "      <th>primary_uza_name</th>\n",
       "      <th>unlinked_passenger_trips_upt</th>\n",
       "      <th>cdp_name</th>\n",
       "      <th>RTPA</th>\n",
       "      <th>_merge</th>\n",
       "    </tr>\n",
       "  </thead>\n",
       "  <tbody>\n",
       "    <tr>\n",
       "      <th>35</th>\n",
       "      <td>City of Burbank</td>\n",
       "      <td>90256</td>\n",
       "      <td>Reduced Reporter</td>\n",
       "      <td>Burbank</td>\n",
       "      <td>Los Angeles--Long Beach--Anaheim, CA</td>\n",
       "      <td>333488.0</td>\n",
       "      <td>Burbank</td>\n",
       "      <td>Southern California Association of Governments</td>\n",
       "      <td>both</td>\n",
       "    </tr>\n",
       "    <tr>\n",
       "      <th>185</th>\n",
       "      <td>Palos Verdes Peninsula Transit Authority</td>\n",
       "      <td>90287</td>\n",
       "      <td>Reduced Reporter</td>\n",
       "      <td>Palos Verdes Peninsula</td>\n",
       "      <td>Los Angeles--Long Beach--Anaheim, CA</td>\n",
       "      <td>122042.0</td>\n",
       "      <td>Rolling Hills</td>\n",
       "      <td>Southern California Association of Governments</td>\n",
       "      <td>left_only</td>\n",
       "    </tr>\n",
       "    <tr>\n",
       "      <th>187</th>\n",
       "      <td>Palos Verdes Peninsula Transit Authority</td>\n",
       "      <td>90287</td>\n",
       "      <td>Reduced Reporter</td>\n",
       "      <td>Rolling Hills</td>\n",
       "      <td>Los Angeles--Long Beach--Anaheim, CA</td>\n",
       "      <td>131176.0</td>\n",
       "      <td>Rolling Hills</td>\n",
       "      <td>Southern California Association of Governments</td>\n",
       "      <td>both</td>\n",
       "    </tr>\n",
       "  </tbody>\n",
       "</table>\n",
       "</div>"
      ],
      "text/plain": [
       "                                       agency ntd_id     reporter_type  \\\n",
       "35                            City of Burbank  90256  Reduced Reporter   \n",
       "185  Palos Verdes Peninsula Transit Authority  90287  Reduced Reporter   \n",
       "187  Palos Verdes Peninsula Transit Authority  90287  Reduced Reporter   \n",
       "\n",
       "                       city                      primary_uza_name  \\\n",
       "35                  Burbank  Los Angeles--Long Beach--Anaheim, CA   \n",
       "185  Palos Verdes Peninsula  Los Angeles--Long Beach--Anaheim, CA   \n",
       "187           Rolling Hills  Los Angeles--Long Beach--Anaheim, CA   \n",
       "\n",
       "     unlinked_passenger_trips_upt       cdp_name  \\\n",
       "35                       333488.0        Burbank   \n",
       "185                      122042.0  Rolling Hills   \n",
       "187                      131176.0  Rolling Hills   \n",
       "\n",
       "                                               RTPA     _merge  \n",
       "35   Southern California Association of Governments       both  \n",
       "185  Southern California Association of Governments  left_only  \n",
       "187  Southern California Association of Governments       both  "
      ]
     },
     "metadata": {},
     "output_type": "display_data"
    },
    {
     "data": {
      "text/html": [
       "<div>\n",
       "<style scoped>\n",
       "    .dataframe tbody tr th:only-of-type {\n",
       "        vertical-align: middle;\n",
       "    }\n",
       "\n",
       "    .dataframe tbody tr th {\n",
       "        vertical-align: top;\n",
       "    }\n",
       "\n",
       "    .dataframe thead th {\n",
       "        text-align: right;\n",
       "    }\n",
       "</style>\n",
       "<table border=\"1\" class=\"dataframe\">\n",
       "  <thead>\n",
       "    <tr style=\"text-align: right;\">\n",
       "      <th></th>\n",
       "      <th>agency_name</th>\n",
       "      <th>agency_status</th>\n",
       "      <th>city</th>\n",
       "      <th>ntd_id</th>\n",
       "      <th>primary_uza_name</th>\n",
       "      <th>reporter_type</th>\n",
       "      <th>upt</th>\n",
       "      <th>cdp_name</th>\n",
       "      <th>RTPA</th>\n",
       "      <th>_merge</th>\n",
       "    </tr>\n",
       "  </thead>\n",
       "  <tbody>\n",
       "    <tr>\n",
       "      <th>138</th>\n",
       "      <td>City of Burbank - Community Development-Transp...</td>\n",
       "      <td>Active</td>\n",
       "      <td>Burbank</td>\n",
       "      <td>90256</td>\n",
       "      <td>Los Angeles--Long Beach--Anaheim, CA</td>\n",
       "      <td>Reduced Reporter</td>\n",
       "      <td>1156840.0</td>\n",
       "      <td>Burbank</td>\n",
       "      <td>Southern California Association of Governments</td>\n",
       "      <td>both</td>\n",
       "    </tr>\n",
       "    <tr>\n",
       "      <th>170</th>\n",
       "      <td>Palos Verdes Peninsula Transit Authority (PVPTA)</td>\n",
       "      <td>Active</td>\n",
       "      <td>Rolling Hills</td>\n",
       "      <td>90287</td>\n",
       "      <td>Los Angeles--Long Beach--Anaheim, CA</td>\n",
       "      <td>Reduced Reporter</td>\n",
       "      <td>703745.0</td>\n",
       "      <td>Rolling Hills</td>\n",
       "      <td>Southern California Association of Governments</td>\n",
       "      <td>both</td>\n",
       "    </tr>\n",
       "  </tbody>\n",
       "</table>\n",
       "</div>"
      ],
      "text/plain": [
       "                                           agency_name agency_status  \\\n",
       "138  City of Burbank - Community Development-Transp...        Active   \n",
       "170   Palos Verdes Peninsula Transit Authority (PVPTA)        Active   \n",
       "\n",
       "              city ntd_id                      primary_uza_name  \\\n",
       "138        Burbank  90256  Los Angeles--Long Beach--Anaheim, CA   \n",
       "170  Rolling Hills  90287  Los Angeles--Long Beach--Anaheim, CA   \n",
       "\n",
       "        reporter_type        upt       cdp_name  \\\n",
       "138  Reduced Reporter  1156840.0        Burbank   \n",
       "170  Reduced Reporter   703745.0  Rolling Hills   \n",
       "\n",
       "                                               RTPA _merge  \n",
       "138  Southern California Association of Governments   both  \n",
       "170  Southern California Association of Governments   both  "
      ]
     },
     "metadata": {},
     "output_type": "display_data"
    }
   ],
   "source": [
    "display(\n",
    "    ntd_data_to_rtpa[ntd_data_to_rtpa[\"ntd_id\"].isin(check_ntd_id)],\n",
    "    alt_ntd_to_rtpa[alt_ntd_to_rtpa[\"ntd_id\"].isin(check_ntd_id)]\n",
    ")"
   ]
  },
  {
   "cell_type": "markdown",
   "id": "aa88bfc4-591a-4b89-b81c-a5c70e349457",
   "metadata": {},
   "source": [
    "## final checks"
   ]
  },
  {
   "cell_type": "code",
   "execution_count": 39,
   "id": "b5bb2378-eae2-48d9-abbb-577242201c8d",
   "metadata": {},
   "outputs": [
    {
     "data": {
      "text/plain": [
       "True"
      ]
     },
     "metadata": {},
     "output_type": "display_data"
    },
    {
     "data": {
      "text/plain": [
       "True"
      ]
     },
     "metadata": {},
     "output_type": "display_data"
    }
   ],
   "source": [
    "display(\n",
    "    len(ntd_service) == len(ntd_data_to_rtpa), # with left join, length should be the same since we removed duplicated rows\n",
    "    #ntd_data_to_rtpa.info() #confirms that every column has data. except for primary uza, because the rural reporters dont get a uza name\n",
    "    len(ntd_time_series) == len(alt_ntd_to_rtpa),\n",
    ")"
   ]
  },
  {
   "cell_type": "code",
   "execution_count": 42,
   "id": "2f8926bb-0414-4811-b198-1bfb90a73fdc",
   "metadata": {
    "tags": []
   },
   "outputs": [
    {
     "data": {
      "text/html": [
       "<div>\n",
       "<style scoped>\n",
       "    .dataframe tbody tr th:only-of-type {\n",
       "        vertical-align: middle;\n",
       "    }\n",
       "\n",
       "    .dataframe tbody tr th {\n",
       "        vertical-align: top;\n",
       "    }\n",
       "\n",
       "    .dataframe thead th {\n",
       "        text-align: right;\n",
       "    }\n",
       "</style>\n",
       "<table border=\"1\" class=\"dataframe\">\n",
       "  <thead>\n",
       "    <tr style=\"text-align: right;\">\n",
       "      <th></th>\n",
       "      <th>agency</th>\n",
       "      <th>ntd_id</th>\n",
       "      <th>reporter_type</th>\n",
       "      <th>city</th>\n",
       "      <th>primary_uza_name</th>\n",
       "      <th>unlinked_passenger_trips_upt</th>\n",
       "      <th>cdp_name</th>\n",
       "      <th>RTPA</th>\n",
       "      <th>_merge</th>\n",
       "    </tr>\n",
       "  </thead>\n",
       "  <tbody>\n",
       "    <tr>\n",
       "      <th>0</th>\n",
       "      <td>Access Services</td>\n",
       "      <td>90157</td>\n",
       "      <td>Full Reporter</td>\n",
       "      <td>El Monte</td>\n",
       "      <td>Los Angeles--Long Beach--Anaheim, CA</td>\n",
       "      <td>6472858.0</td>\n",
       "      <td>El Monte</td>\n",
       "      <td>Southern California Association of Governments</td>\n",
       "      <td>both</td>\n",
       "    </tr>\n",
       "    <tr>\n",
       "      <th>1</th>\n",
       "      <td>Alameda-Contra Costa Transit District</td>\n",
       "      <td>90014</td>\n",
       "      <td>Full Reporter</td>\n",
       "      <td>Oakland</td>\n",
       "      <td>San Francisco--Oakland, CA</td>\n",
       "      <td>29347581.0</td>\n",
       "      <td>Oakland</td>\n",
       "      <td>Metropolitan Transportation Commission</td>\n",
       "      <td>both</td>\n",
       "    </tr>\n",
       "    <tr>\n",
       "      <th>2</th>\n",
       "      <td>Alameda-Contra Costa Transit District, dba: AC...</td>\n",
       "      <td>90014</td>\n",
       "      <td>Full Reporter</td>\n",
       "      <td>Oakland</td>\n",
       "      <td>San Francisco--Oakland, CA</td>\n",
       "      <td>35190057.0</td>\n",
       "      <td>Oakland</td>\n",
       "      <td>Metropolitan Transportation Commission</td>\n",
       "      <td>both</td>\n",
       "    </tr>\n",
       "    <tr>\n",
       "      <th>3</th>\n",
       "      <td>Altamont Corridor Express</td>\n",
       "      <td>90182</td>\n",
       "      <td>Full Reporter</td>\n",
       "      <td>Stockton</td>\n",
       "      <td>Stockton, CA</td>\n",
       "      <td>796250.0</td>\n",
       "      <td>Stockton</td>\n",
       "      <td>San Joaquin Council of Governments</td>\n",
       "      <td>both</td>\n",
       "    </tr>\n",
       "    <tr>\n",
       "      <th>4</th>\n",
       "      <td>Anaheim Transportation Network</td>\n",
       "      <td>90211</td>\n",
       "      <td>Full Reporter</td>\n",
       "      <td>Anaheim</td>\n",
       "      <td>Los Angeles--Long Beach--Anaheim, CA</td>\n",
       "      <td>7187312.0</td>\n",
       "      <td>Anaheim</td>\n",
       "      <td>Southern California Association of Governments</td>\n",
       "      <td>both</td>\n",
       "    </tr>\n",
       "  </tbody>\n",
       "</table>\n",
       "</div>"
      ],
      "text/plain": [
       "                                              agency ntd_id  reporter_type  \\\n",
       "0                                    Access Services  90157  Full Reporter   \n",
       "1              Alameda-Contra Costa Transit District  90014  Full Reporter   \n",
       "2  Alameda-Contra Costa Transit District, dba: AC...  90014  Full Reporter   \n",
       "3                          Altamont Corridor Express  90182  Full Reporter   \n",
       "4                     Anaheim Transportation Network  90211  Full Reporter   \n",
       "\n",
       "       city                      primary_uza_name  \\\n",
       "0  El Monte  Los Angeles--Long Beach--Anaheim, CA   \n",
       "1   Oakland            San Francisco--Oakland, CA   \n",
       "2   Oakland            San Francisco--Oakland, CA   \n",
       "3  Stockton                          Stockton, CA   \n",
       "4   Anaheim  Los Angeles--Long Beach--Anaheim, CA   \n",
       "\n",
       "   unlinked_passenger_trips_upt  cdp_name  \\\n",
       "0                     6472858.0  El Monte   \n",
       "1                    29347581.0   Oakland   \n",
       "2                    35190057.0   Oakland   \n",
       "3                      796250.0  Stockton   \n",
       "4                     7187312.0   Anaheim   \n",
       "\n",
       "                                             RTPA _merge  \n",
       "0  Southern California Association of Governments   both  \n",
       "1          Metropolitan Transportation Commission   both  \n",
       "2          Metropolitan Transportation Commission   both  \n",
       "3              San Joaquin Council of Governments   both  \n",
       "4  Southern California Association of Governments   both  "
      ]
     },
     "execution_count": 42,
     "metadata": {},
     "output_type": "execute_result"
    }
   ],
   "source": [
    "ntd_data_to_rtpa.head()"
   ]
  },
  {
   "cell_type": "code",
   "execution_count": 40,
   "id": "540f02c4-e4b8-4ab2-b7cb-854060ac13f2",
   "metadata": {},
   "outputs": [
    {
     "name": "stdout",
     "output_type": "stream",
     "text": [
      " \n",
      "    # of NTD ID in ntd_data_to_rtpa: 167\n",
      "    # of NTD ID in alt_ntd_to_rtpa: 253\n",
      "    \n"
     ]
    }
   ],
   "source": [
    "if ntd_data_to_rtpa[\"ntd_id\"].nunique() == alt_ntd_to_rtpa[\"ntd_id\"].nunique():\n",
    "    print(\"same amount of NTD_ID, use either list\")\n",
    "else:\n",
    "    print(f\"\"\" \n",
    "    # of NTD ID in ntd_data_to_rtpa: {ntd_data_to_rtpa[\"ntd_id\"].nunique()}\n",
    "    # of NTD ID in alt_ntd_to_rtpa: {alt_ntd_to_rtpa[\"ntd_id\"].nunique()}\n",
    "    \"\"\"\n",
    "    )\n"
   ]
  },
  {
   "cell_type": "markdown",
   "id": "10b7bd0f-777b-4360-87f8-b454a0ac48b5",
   "metadata": {},
   "source": [
    "## Create new `ntd_id_to_rtpa_crosswalk` file!"
   ]
  },
  {
   "cell_type": "code",
   "execution_count": null,
   "id": "b9486134-5af0-4aa5-9edc-37c2e963a442",
   "metadata": {
    "tags": []
   },
   "outputs": [],
   "source": [
    "ntd_data_to_rtpa_cleaned = ntd_data_to_rtpa[[\"ntd_id\",\"agency\",\"reporter_type\",\"city\",\"RTPA\"]].drop_duplicates(subset=[\"ntd_id\"]).reset_index(drop=True)\n",
    "\n",
    "display(\n",
    "    ntd_data_to_rtpa_cleaned.info(),\n",
    "    ntd_data_to_rtpa_cleaned[\"ntd_id\"].value_counts().head(),\n",
    "    ntd_data_to_rtpa_cleaned[\"reporter_type\"].value_counts(),\n",
    "    ntd_data_to_rtpa_cleaned.head()\n",
    ")\n"
   ]
  },
  {
   "cell_type": "markdown",
   "id": "70be7d72-d172-4afc-90ca-3880a7e9dbba",
   "metadata": {},
   "source": [
    "# Save crosswalk to GCS\n",
    "- as `.parquet` and `.csv`"
   ]
  },
  {
   "cell_type": "code",
   "execution_count": null,
   "id": "a8b06d12-d67d-4c03-a3cd-9da8fdc335d5",
   "metadata": {
    "tags": []
   },
   "outputs": [],
   "source": [
    "# ntd_data_to_rtpa_cleaned.to_parquet(f\"{GCS_FILE_PATH}ntd_id_rtpa_crosswalk_all_reporter_types.parquet\")\n",
    "# ntd_data_to_rtpa_cleaned.to_csv(f\"{GCS_FILE_PATH}ntd_id_rtpa_crosswalk_all_reporter_types.csv\")\n"
   ]
  },
  {
   "cell_type": "markdown",
   "id": "0117d77b-0c40-4b98-91d1-9b72bfeed77a",
   "metadata": {},
   "source": [
    "## Test reading in data from gcs"
   ]
  },
  {
   "cell_type": "code",
   "execution_count": null,
   "id": "aae7d896-1b12-40f7-9388-cc94a279e8cc",
   "metadata": {
    "tags": []
   },
   "outputs": [],
   "source": [
    "xwalk_parquet = pd.read_parquet(f\"{GCS_FILE_PATH}ntd_id_rtpa_crosswalk_all_reporter_types.parquet\")\n",
    "xwalk_csv = pd.read_csv(f\"{GCS_FILE_PATH}ntd_id_rtpa_crosswalk_all_reporter_types.csv\")\n",
    "\n",
    "\n",
    "display(\n",
    "    len(xwalk_parquet) == len(xwalk_csv)\n",
    ")"
   ]
  },
  {
   "cell_type": "code",
   "execution_count": null,
   "id": "38c80379-d9dd-4a29-9b09-f606651b0ad9",
   "metadata": {},
   "outputs": [],
   "source": []
  }
 ],
 "metadata": {
  "kernelspec": {
   "display_name": "Python 3 (ipykernel)",
   "language": "python",
   "name": "python3"
  },
  "language_info": {
   "codemirror_mode": {
    "name": "ipython",
    "version": 3
   },
   "file_extension": ".py",
   "mimetype": "text/x-python",
   "name": "python",
   "nbconvert_exporter": "python",
   "pygments_lexer": "ipython3",
   "version": "3.11.10"
  }
 },
 "nbformat": 4,
 "nbformat_minor": 5
}
