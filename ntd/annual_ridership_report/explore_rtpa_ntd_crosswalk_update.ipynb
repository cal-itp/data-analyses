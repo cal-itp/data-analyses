{
 "cells": [
  {
   "cell_type": "code",
   "execution_count": 1,
   "id": "58c36298-b0f6-42a6-bfd5-efd84f0c7352",
   "metadata": {
    "tags": []
   },
   "outputs": [],
   "source": [
    "import sys\n",
    "\n",
    "sys.path.append(\"../\")  # up one level\n",
    "\n",
    "import os\n",
    "import shutil\n",
    "\n",
    "import annual_ridership_module\n",
    "import gcsfs\n",
    "import geopandas as gpd\n",
    "import pandas as pd\n",
    "from calitp_data_analysis.sql import to_snakecase\n",
    "from calitp_data_analysis.tables import tbls\n",
    "from segment_speed_utils.project_vars import PUBLIC_GCS\n",
    "from siuba import _, collect, count, filter, select, show_query\n",
    "from update_vars import GCS_FILE_PATH, NTD_MODES, NTD_TOS\n",
    "\n",
    "GCS_FILE_PATH = \"gs://calitp-analytics-data/data-analyses/ntd/\"\n",
    "\n",
    "pd.set_option(\"display.max_rows\", None)\n",
    "pd.set_option(\"display.max_columns\", None)"
   ]
  },
  {
   "cell_type": "markdown",
   "id": "54a774cc-17e9-4b30-a620-013de7c03258",
   "metadata": {},
   "source": [
    "# Explore updating RTPA-to-NTD_id crosswalk\n",
    "\n",
    "Current rtpa/ntd_id crosswalk only contains full system reporters. This notebook will explore updating the crosswalk to include all reporter types (full, reduced, and rural system reporters).\n",
    "\n",
    "- Start with getting list of NTD reporters from the warehouse `dim_annual_services_agencies`\n",
    "- Then get a list of all California cities and all RTPAs, merge to get a list of cities and the RTPA they would be in\n",
    "- then merge the list of NTD reporters to the list of cities/rtpa, using `city` column. result should be a list of NTD reporters with their RTPAs\n",
    "---"
   ]
  },
  {
   "cell_type": "markdown",
   "id": "0433f1a7-3dec-4846-ae7b-6c98ca718c08",
   "metadata": {},
   "source": [
    "## Read in `dim_annual_service_agencies` to get metrics"
   ]
  },
  {
   "cell_type": "code",
   "execution_count": 2,
   "id": "f98f1315-8c6e-48fe-a03a-cb1706e0ee8b",
   "metadata": {
    "tags": []
   },
   "outputs": [],
   "source": [
    "# dim_annual_service_agenices is the annual report module.\n",
    "# included uza, VRM, VRH, UPT\n",
    "# report years include 2022-2023\n",
    "\n",
    "ntd_service = (\n",
    "    tbls.mart_ntd.dim_annual_service_agencies()\n",
    "    >> filter(_.state == \"CA\")\n",
    "    >> select(\n",
    "        \"report_year\",\n",
    "        \"ntd_id\",\n",
    "        \"agency\",\n",
    "        \"reporter_type\",\n",
    "        \"organization_type\",\n",
    "        \"city\",\n",
    "        \"state\",\n",
    "        \"primary_uza_name\",\n",
    "        \"actual_vehicles_passenger_car_revenue_hours\",\n",
    "        \"actual_vehicles_passenger_car_revenue_miles\",\n",
    "        \"unlinked_passenger_trips_upt\",\n",
    "    )\n",
    "    >> collect()\n",
    ")"
   ]
  },
  {
   "cell_type": "markdown",
   "id": "fb801070-5086-4ef9-866a-ac71e40be6f1",
   "metadata": {},
   "source": [
    "## Manual Update to `ntd_service`"
   ]
  },
  {
   "cell_type": "code",
   "execution_count": 3,
   "id": "8b48c08c-c94e-4856-b4fc-cec5811a1383",
   "metadata": {
    "tags": []
   },
   "outputs": [],
   "source": [
    "update_dict = {\n",
    "    \"90227\": \"Moorpark\",\n",
    "    \"90253\": \"Bell Gardens\",\n",
    "    \"90259\": \"Cerritos\",\n",
    "    \"90286\": \"Monterey Park\",\n",
    "}\n",
    "\n",
    "for i, v in update_dict.items():\n",
    "    ntd_service.loc[ntd_service[\"ntd_id\"] == i, \"city\"] = v"
   ]
  },
  {
   "cell_type": "markdown",
   "id": "8578cdcf-9214-4e56-a31e-7ca3b282fbc3",
   "metadata": {},
   "source": [
    "## merging GDF of city in `ntd_service` to RTPA bounaries\n",
    "\n",
    "Census Designated Places (CDPs) 2010 - California map\n",
    "- https://data.sacog.org/datasets/SACOG::census-designated-places-cdps-2010-california/about\n",
    "\n",
    "\n",
    "RTPA map opend data\n",
    "\n",
    "- https://www.lab.data.ca.gov/dataset/regional-transportation-planning-agencies"
   ]
  },
  {
   "cell_type": "code",
   "execution_count": 4,
   "id": "2bc5d43e-ec9c-4f6d-90d3-4b9c3514720d",
   "metadata": {
    "tags": []
   },
   "outputs": [],
   "source": [
    "# RTPA map\n",
    "rtpa_url = \"https://cecgis-caenergy.opendata.arcgis.com/api/download/v1/items/3a83743378be4e7f84c8230889c01dea/geojson?layers=0\"\n",
    "rtpa_map = gpd.read_file(rtpa_url)[\n",
    "    [\"RTPA\", \"LABEL_RTPA\", \"geometry\"]\n",
    "]  # .set_crs(\"ESRI:102600\", allow_override=True)\n",
    "rtpa_map = rtpa_map.to_crs(\"ESRI:102600\")  # for sjoin later"
   ]
  },
  {
   "cell_type": "code",
   "execution_count": 5,
   "id": "03a61250-1a4b-4605-aed3-485d2e01a024",
   "metadata": {
    "tags": []
   },
   "outputs": [],
   "source": [
    "# California Census Designated Places (2010), includes cities and CDPs\n",
    "cdp_url = \"https://services6.arcgis.com/YBp5dUuxCMd8W1EI/arcgis/rest/services/California_Census_Designated_Places_2010/FeatureServer/0/query?outFields=*&where=1%3D1&f=geojson\"\n",
    "keep_cdp_col = [\"FID\", \"NAME10\", \"NAMELSAD10\", \"geometry\"]\n",
    "cdp_map = gpd.read_file(cdp_url)[keep_cdp_col].rename(\n",
    "    columns={\"NAME10\": \"cdp_name\", \"NAMELSAD10\": \"name_lsad\"}\n",
    ")  # .set_crs(\"ESRI:102600\", allow_override=True)"
   ]
  },
  {
   "cell_type": "markdown",
   "id": "a0e36645-83c1-4a5c-b7e5-8ac2b1e4402b",
   "metadata": {},
   "source": [
    "## get centroid of CDPs"
   ]
  },
  {
   "cell_type": "code",
   "execution_count": 6,
   "id": "8d5a3d55-aa5a-4579-a381-92c477363147",
   "metadata": {
    "tags": []
   },
   "outputs": [],
   "source": [
    "cdp_map[\"centroid\"] = (\n",
    "    cdp_map[\"geometry\"].to_crs(\"ESRI:102600\").centroid\n",
    ")  # CRS used to create centoid. is not presistent\n",
    "cdp_points = cdp_map.set_geometry(\"centroid\", drop=True)"
   ]
  },
  {
   "cell_type": "markdown",
   "id": "bb49a9de-9cd9-4ddf-b397-d272964a192a",
   "metadata": {},
   "source": [
    "## sjoin `cdp_map` to `rtpa_map` get get cites-to-rtpa crosswalk"
   ]
  },
  {
   "cell_type": "code",
   "execution_count": 7,
   "id": "17b0a639-9332-4c72-8d3e-dab5a7e33bd5",
   "metadata": {
    "tags": []
   },
   "outputs": [
    {
     "data": {
      "text/plain": [
       "True"
      ]
     },
     "execution_count": 7,
     "metadata": {},
     "output_type": "execute_result"
    }
   ],
   "source": [
    "cdp_points.crs == rtpa_map.crs\n",
    "# both are ESRI:102600"
   ]
  },
  {
   "cell_type": "code",
   "execution_count": 8,
   "id": "7521174a-9e01-4149-a51b-efe5458100b8",
   "metadata": {
    "tags": []
   },
   "outputs": [],
   "source": [
    "city_to_rtpa = gpd.sjoin(\n",
    "    cdp_points,  # includes cities and CDPs.\n",
    "    rtpa_map,\n",
    "    how=\"left\",\n",
    "    # how=\"inner\",\n",
    "    predicate=\"intersects\",\n",
    "    # predicate=\"within\",\n",
    ")\n",
    "# left, intersects = 1523 rows, 1521 CDPs matched,2 CDPs did not match to an RTPA (Avalon and City of San Francisco)\n",
    "# inner, intersects = 1521 rows,1521 CDPs matched\n",
    "# left, within = 1523 rows, 1521 CDPs matched,2 CDPs did not match to an RTPA\n",
    "# inner, within = 1521 rows,1521 CDPs matched"
   ]
  },
  {
   "cell_type": "markdown",
   "id": "4c96223c-5657-419b-bca5-294b0f6d90ba",
   "metadata": {},
   "source": [
    "### fix unmerged CDP rtpa rows"
   ]
  },
  {
   "cell_type": "code",
   "execution_count": 9,
   "id": "325214ee-ef82-4f38-9b18-b8fd669d57d5",
   "metadata": {
    "tags": []
   },
   "outputs": [
    {
     "data": {
      "text/html": [
       "<div>\n",
       "<style scoped>\n",
       "    .dataframe tbody tr th:only-of-type {\n",
       "        vertical-align: middle;\n",
       "    }\n",
       "\n",
       "    .dataframe tbody tr th {\n",
       "        vertical-align: top;\n",
       "    }\n",
       "\n",
       "    .dataframe thead th {\n",
       "        text-align: right;\n",
       "    }\n",
       "</style>\n",
       "<table border=\"1\" class=\"dataframe\">\n",
       "  <thead>\n",
       "    <tr style=\"text-align: right;\">\n",
       "      <th></th>\n",
       "      <th>FID</th>\n",
       "      <th>cdp_name</th>\n",
       "      <th>name_lsad</th>\n",
       "      <th>geometry</th>\n",
       "      <th>index_right</th>\n",
       "      <th>RTPA</th>\n",
       "      <th>LABEL_RTPA</th>\n",
       "    </tr>\n",
       "  </thead>\n",
       "  <tbody>\n",
       "    <tr>\n",
       "      <th>862</th>\n",
       "      <td>863</td>\n",
       "      <td>Avalon</td>\n",
       "      <td>Avalon city</td>\n",
       "      <td>POINT (510003.406 7421706.792)</td>\n",
       "      <td>NaN</td>\n",
       "      <td>Southern California Association of Governments</td>\n",
       "      <td>SCAG</td>\n",
       "    </tr>\n",
       "    <tr>\n",
       "      <th>889</th>\n",
       "      <td>890</td>\n",
       "      <td>San Francisco</td>\n",
       "      <td>San Francisco city</td>\n",
       "      <td>POINT (-777550.185 9040909.841)</td>\n",
       "      <td>NaN</td>\n",
       "      <td>Metropolitan Transportation Commission</td>\n",
       "      <td>MTC</td>\n",
       "    </tr>\n",
       "  </tbody>\n",
       "</table>\n",
       "</div>"
      ],
      "text/plain": [
       "     FID       cdp_name           name_lsad                         geometry  \\\n",
       "862  863         Avalon         Avalon city   POINT (510003.406 7421706.792)   \n",
       "889  890  San Francisco  San Francisco city  POINT (-777550.185 9040909.841)   \n",
       "\n",
       "     index_right                                            RTPA LABEL_RTPA  \n",
       "862          NaN  Southern California Association of Governments       SCAG  \n",
       "889          NaN          Metropolitan Transportation Commission        MTC  "
      ]
     },
     "execution_count": 9,
     "metadata": {},
     "output_type": "execute_result"
    }
   ],
   "source": [
    "# Avalon fix\n",
    "city_to_rtpa.loc[city_to_rtpa[\"cdp_name\"] == \"Avalon\", (\"RTPA\", \"LABEL_RTPA\")] = (\n",
    "    \"Southern California Association of Governments\",\n",
    "    \"SCAG\",\n",
    ")\n",
    "\n",
    "# San Francisco Fix\n",
    "city_to_rtpa.loc[\n",
    "    city_to_rtpa[\"cdp_name\"] == \"San Francisco\", (\"RTPA\", \"LABEL_RTPA\")\n",
    "] = (\"Metropolitan Transportation Commission\", \"MTC\")\n",
    "\n",
    "# check fix\n",
    "city_to_rtpa[city_to_rtpa[\"cdp_name\"].isin([\"Avalon\", \"San Francisco\"])]"
   ]
  },
  {
   "cell_type": "markdown",
   "id": "fc1c42b7-1e40-4a69-861c-6d1cdb775d1f",
   "metadata": {},
   "source": [
    "## merge `ntd_service` to `city_to_rtpa`"
   ]
  },
  {
   "cell_type": "code",
   "execution_count": 10,
   "id": "f11f9f7d-470f-421c-ae53-b3950ad8b80b",
   "metadata": {
    "tags": []
   },
   "outputs": [],
   "source": [
    "ntd_data_to_rtpa = ntd_service.merge(\n",
    "    city_to_rtpa[[\"cdp_name\", \"RTPA\"]],\n",
    "    left_on=(\"city\"),\n",
    "    right_on=(\"cdp_name\"),\n",
    "    how=\"left\",  # with left join, got some unmerged rows. aka reporters that dont appear in the city_to_rtpa list (CDP?). and fan out 1:m rows due to some dupe cdp names\n",
    "    indicator=True,\n",
    ")"
   ]
  },
  {
   "cell_type": "markdown",
   "id": "ee4f78f9-31c2-418d-bbac-24c2685906a3",
   "metadata": {},
   "source": [
    "### manual updates to `ntd_data_to_rtpa`"
   ]
  },
  {
   "cell_type": "code",
   "execution_count": 11,
   "id": "c6ecb2e7-4033-4d1e-896b-5f96529f152c",
   "metadata": {
    "tags": []
   },
   "outputs": [
    {
     "data": {
      "text/html": [
       "<div>\n",
       "<style scoped>\n",
       "    .dataframe tbody tr th:only-of-type {\n",
       "        vertical-align: middle;\n",
       "    }\n",
       "\n",
       "    .dataframe tbody tr th {\n",
       "        vertical-align: top;\n",
       "    }\n",
       "\n",
       "    .dataframe thead th {\n",
       "        text-align: right;\n",
       "    }\n",
       "</style>\n",
       "<table border=\"1\" class=\"dataframe\">\n",
       "  <thead>\n",
       "    <tr style=\"text-align: right;\">\n",
       "      <th></th>\n",
       "      <th>report_year</th>\n",
       "      <th>agency</th>\n",
       "      <th>city</th>\n",
       "      <th>cdp_name</th>\n",
       "      <th>RTPA</th>\n",
       "    </tr>\n",
       "  </thead>\n",
       "  <tbody>\n",
       "    <tr>\n",
       "      <th>285</th>\n",
       "      <td>2022</td>\n",
       "      <td>Palos Verdes Peninsula Transit Authority</td>\n",
       "      <td>Palos Verdes Peninsula</td>\n",
       "      <td>NaN</td>\n",
       "      <td>NaN</td>\n",
       "    </tr>\n",
       "    <tr>\n",
       "      <th>306</th>\n",
       "      <td>2023</td>\n",
       "      <td>County of Ventura</td>\n",
       "      <td>Ventura</td>\n",
       "      <td>NaN</td>\n",
       "      <td>NaN</td>\n",
       "    </tr>\n",
       "    <tr>\n",
       "      <th>307</th>\n",
       "      <td>2022</td>\n",
       "      <td>County of Ventura</td>\n",
       "      <td>Ventura</td>\n",
       "      <td>NaN</td>\n",
       "      <td>NaN</td>\n",
       "    </tr>\n",
       "    <tr>\n",
       "      <th>322</th>\n",
       "      <td>2022</td>\n",
       "      <td>Chemehuevi Indian Tribe</td>\n",
       "      <td>Havasu Lake</td>\n",
       "      <td>NaN</td>\n",
       "      <td>NaN</td>\n",
       "    </tr>\n",
       "    <tr>\n",
       "      <th>323</th>\n",
       "      <td>2023</td>\n",
       "      <td>Chemehuevi Indian Tribe</td>\n",
       "      <td>Havasu Lake</td>\n",
       "      <td>NaN</td>\n",
       "      <td>NaN</td>\n",
       "    </tr>\n",
       "    <tr>\n",
       "      <th>326</th>\n",
       "      <td>2023</td>\n",
       "      <td>North Fork Rancheria of Mono Indians of Califo...</td>\n",
       "      <td>North Fork</td>\n",
       "      <td>NaN</td>\n",
       "      <td>NaN</td>\n",
       "    </tr>\n",
       "    <tr>\n",
       "      <th>327</th>\n",
       "      <td>2022</td>\n",
       "      <td>North Fork Rancheria of Mono Indians of Califo...</td>\n",
       "      <td>North Fork</td>\n",
       "      <td>NaN</td>\n",
       "      <td>NaN</td>\n",
       "    </tr>\n",
       "    <tr>\n",
       "      <th>406</th>\n",
       "      <td>2023</td>\n",
       "      <td>City of McFarland, dba: McFarland City Transit...</td>\n",
       "      <td>Mcfarland</td>\n",
       "      <td>NaN</td>\n",
       "      <td>NaN</td>\n",
       "    </tr>\n",
       "    <tr>\n",
       "      <th>407</th>\n",
       "      <td>2022</td>\n",
       "      <td>City of McFarland</td>\n",
       "      <td>Mcfarland</td>\n",
       "      <td>NaN</td>\n",
       "      <td>NaN</td>\n",
       "    </tr>\n",
       "  </tbody>\n",
       "</table>\n",
       "</div>"
      ],
      "text/plain": [
       "     report_year                                             agency  \\\n",
       "285         2022           Palos Verdes Peninsula Transit Authority   \n",
       "306         2023                                  County of Ventura   \n",
       "307         2022                                  County of Ventura   \n",
       "322         2022                            Chemehuevi Indian Tribe   \n",
       "323         2023                            Chemehuevi Indian Tribe   \n",
       "326         2023  North Fork Rancheria of Mono Indians of Califo...   \n",
       "327         2022  North Fork Rancheria of Mono Indians of Califo...   \n",
       "406         2023  City of McFarland, dba: McFarland City Transit...   \n",
       "407         2022                                  City of McFarland   \n",
       "\n",
       "                       city cdp_name RTPA  \n",
       "285  Palos Verdes Peninsula      NaN  NaN  \n",
       "306                 Ventura      NaN  NaN  \n",
       "307                 Ventura      NaN  NaN  \n",
       "322             Havasu Lake      NaN  NaN  \n",
       "323             Havasu Lake      NaN  NaN  \n",
       "326              North Fork      NaN  NaN  \n",
       "327              North Fork      NaN  NaN  \n",
       "406               Mcfarland      NaN  NaN  \n",
       "407               Mcfarland      NaN  NaN  "
      ]
     },
     "execution_count": 11,
     "metadata": {},
     "output_type": "execute_result"
    }
   ],
   "source": [
    "# rows with NaN RTPAs\n",
    "\n",
    "ntd_data_to_rtpa[ntd_data_to_rtpa[\"RTPA\"].isna()][\n",
    "    [\"report_year\", \"agency\", \"city\", \"cdp_name\", \"RTPA\"]\n",
    "]  # 9 rows didnt get an RTPA"
   ]
  },
  {
   "cell_type": "code",
   "execution_count": 12,
   "id": "a1b69317-ec59-44bc-b88c-37295dd3088f",
   "metadata": {
    "tags": []
   },
   "outputs": [],
   "source": [
    "update_dict={\n",
    "    \"Mcfarland\": (\"Mcfarland\",\"Kern Council of Governments\"),\n",
    "    \"Ventura\":(\"Ventura\",\"Southern California Association of Governments\"),\n",
    "    \"Palos Verdes Peninsula\":(\"Rolling Hills\",\"Southern California Association of Governments\"),# to match other entries for this agency\n",
    "    \"Havasu Lake\":(\"Havasu Lake\",\"Southern California Association of Governments\"), # aka Lake Havasu. shares zip code with Needles. so update to SCAG\n",
    "    \"North Fork\":(\"North Fork\",\"Madera County Transportation Commission\") #in Madera County, update to \n",
    "}\n",
    "\n",
    "#make loop using update_dict:\n",
    "for k,v in update_dict.items():\n",
    "    ntd_data_to_rtpa.loc[ntd_data_to_rtpa[\"city\"]==k,(\"cdp_name\",\"RTPA\")] = v"
   ]
  },
  {
   "cell_type": "code",
   "execution_count": 13,
   "id": "7a771992-1f5a-4922-ba1a-a1140d46ea8d",
   "metadata": {
    "tags": []
   },
   "outputs": [
    {
     "data": {
      "text/html": [
       "<div>\n",
       "<style scoped>\n",
       "    .dataframe tbody tr th:only-of-type {\n",
       "        vertical-align: middle;\n",
       "    }\n",
       "\n",
       "    .dataframe tbody tr th {\n",
       "        vertical-align: top;\n",
       "    }\n",
       "\n",
       "    .dataframe thead th {\n",
       "        text-align: right;\n",
       "    }\n",
       "</style>\n",
       "<table border=\"1\" class=\"dataframe\">\n",
       "  <thead>\n",
       "    <tr style=\"text-align: right;\">\n",
       "      <th></th>\n",
       "      <th>report_year</th>\n",
       "      <th>agency</th>\n",
       "      <th>city</th>\n",
       "      <th>cdp_name</th>\n",
       "      <th>RTPA</th>\n",
       "    </tr>\n",
       "  </thead>\n",
       "  <tbody>\n",
       "  </tbody>\n",
       "</table>\n",
       "</div>"
      ],
      "text/plain": [
       "Empty DataFrame\n",
       "Columns: [report_year, agency, city, cdp_name, RTPA]\n",
       "Index: []"
      ]
     },
     "execution_count": 13,
     "metadata": {},
     "output_type": "execute_result"
    }
   ],
   "source": [
    "#check for NaN RTPAs again\n",
    "ntd_data_to_rtpa[ntd_data_to_rtpa[\"RTPA\"].isna()][[\"report_year\",\"agency\",\"city\",\"cdp_name\",\"RTPA\"]] # all fixed!!"
   ]
  },
  {
   "cell_type": "markdown",
   "id": "4f7ecd25-5991-45a7-9692-0b142f564bc7",
   "metadata": {},
   "source": [
    "### Duplicate NTD ID fixes\n",
    "- review ntd_id's with more than 2 rows. there are some CDPs with duplicate names.\n",
    "- remove the rows with non-matching UZA to RTPA names"
   ]
  },
  {
   "cell_type": "code",
   "execution_count": 14,
   "id": "5e95dc82-9a1f-4fdb-ad27-4b7772951d71",
   "metadata": {
    "tags": []
   },
   "outputs": [
    {
     "data": {
      "text/html": [
       "<div>\n",
       "<style scoped>\n",
       "    .dataframe tbody tr th:only-of-type {\n",
       "        vertical-align: middle;\n",
       "    }\n",
       "\n",
       "    .dataframe tbody tr th {\n",
       "        vertical-align: top;\n",
       "    }\n",
       "\n",
       "    .dataframe thead th {\n",
       "        text-align: right;\n",
       "    }\n",
       "</style>\n",
       "<table border=\"1\" class=\"dataframe\">\n",
       "  <thead>\n",
       "    <tr style=\"text-align: right;\">\n",
       "      <th></th>\n",
       "      <th>report_year</th>\n",
       "      <th>ntd_id</th>\n",
       "      <th>agency</th>\n",
       "      <th>reporter_type</th>\n",
       "      <th>organization_type</th>\n",
       "      <th>city</th>\n",
       "      <th>state</th>\n",
       "      <th>primary_uza_name</th>\n",
       "      <th>actual_vehicles_passenger_car_revenue_hours</th>\n",
       "      <th>actual_vehicles_passenger_car_revenue_miles</th>\n",
       "      <th>unlinked_passenger_trips_upt</th>\n",
       "      <th>cdp_name</th>\n",
       "      <th>RTPA</th>\n",
       "      <th>_merge</th>\n",
       "    </tr>\n",
       "  </thead>\n",
       "  <tbody>\n",
       "    <tr>\n",
       "      <th>225</th>\n",
       "      <td>2022</td>\n",
       "      <td>90256</td>\n",
       "      <td>City of Burbank</td>\n",
       "      <td>Reduced Reporter</td>\n",
       "      <td>City, County or Local Government Unit or Depar...</td>\n",
       "      <td>Burbank</td>\n",
       "      <td>CA</td>\n",
       "      <td>Los Angeles--Long Beach--Anaheim, CA</td>\n",
       "      <td>27008.0</td>\n",
       "      <td>243964.0</td>\n",
       "      <td>161971.0</td>\n",
       "      <td>Burbank</td>\n",
       "      <td>Metropolitan Transportation Commission</td>\n",
       "      <td>both</td>\n",
       "    </tr>\n",
       "    <tr>\n",
       "      <th>226</th>\n",
       "      <td>2022</td>\n",
       "      <td>90256</td>\n",
       "      <td>City of Burbank</td>\n",
       "      <td>Reduced Reporter</td>\n",
       "      <td>City, County or Local Government Unit or Depar...</td>\n",
       "      <td>Burbank</td>\n",
       "      <td>CA</td>\n",
       "      <td>Los Angeles--Long Beach--Anaheim, CA</td>\n",
       "      <td>27008.0</td>\n",
       "      <td>243964.0</td>\n",
       "      <td>161971.0</td>\n",
       "      <td>Burbank</td>\n",
       "      <td>Southern California Association of Governments</td>\n",
       "      <td>both</td>\n",
       "    </tr>\n",
       "    <tr>\n",
       "      <th>227</th>\n",
       "      <td>2023</td>\n",
       "      <td>90256</td>\n",
       "      <td>City of Burbank</td>\n",
       "      <td>Reduced Reporter</td>\n",
       "      <td>City, County or Local Government Unit or Depar...</td>\n",
       "      <td>Burbank</td>\n",
       "      <td>CA</td>\n",
       "      <td>Los Angeles--Long Beach--Anaheim, CA</td>\n",
       "      <td>28827.0</td>\n",
       "      <td>271752.0</td>\n",
       "      <td>171517.0</td>\n",
       "      <td>Burbank</td>\n",
       "      <td>Metropolitan Transportation Commission</td>\n",
       "      <td>both</td>\n",
       "    </tr>\n",
       "    <tr>\n",
       "      <th>228</th>\n",
       "      <td>2023</td>\n",
       "      <td>90256</td>\n",
       "      <td>City of Burbank</td>\n",
       "      <td>Reduced Reporter</td>\n",
       "      <td>City, County or Local Government Unit or Depar...</td>\n",
       "      <td>Burbank</td>\n",
       "      <td>CA</td>\n",
       "      <td>Los Angeles--Long Beach--Anaheim, CA</td>\n",
       "      <td>28827.0</td>\n",
       "      <td>271752.0</td>\n",
       "      <td>171517.0</td>\n",
       "      <td>Burbank</td>\n",
       "      <td>Southern California Association of Governments</td>\n",
       "      <td>both</td>\n",
       "    </tr>\n",
       "    <tr>\n",
       "      <th>285</th>\n",
       "      <td>2022</td>\n",
       "      <td>90287</td>\n",
       "      <td>Palos Verdes Peninsula Transit Authority</td>\n",
       "      <td>Reduced Reporter</td>\n",
       "      <td>Independent Public Agency or Authority of Tran...</td>\n",
       "      <td>Palos Verdes Peninsula</td>\n",
       "      <td>CA</td>\n",
       "      <td>Los Angeles--Long Beach--Anaheim, CA</td>\n",
       "      <td>16411.0</td>\n",
       "      <td>242914.0</td>\n",
       "      <td>122042.0</td>\n",
       "      <td>Rolling Hills</td>\n",
       "      <td>Southern California Association of Governments</td>\n",
       "      <td>left_only</td>\n",
       "    </tr>\n",
       "    <tr>\n",
       "      <th>286</th>\n",
       "      <td>2023</td>\n",
       "      <td>90287</td>\n",
       "      <td>Palos Verdes Peninsula Transit Authority</td>\n",
       "      <td>Reduced Reporter</td>\n",
       "      <td>Independent Public Agency or Authority of Tran...</td>\n",
       "      <td>Rolling Hills</td>\n",
       "      <td>CA</td>\n",
       "      <td>Los Angeles--Long Beach--Anaheim, CA</td>\n",
       "      <td>18785.0</td>\n",
       "      <td>258339.0</td>\n",
       "      <td>131176.0</td>\n",
       "      <td>Rolling Hills</td>\n",
       "      <td>Madera County Transportation Commission</td>\n",
       "      <td>both</td>\n",
       "    </tr>\n",
       "    <tr>\n",
       "      <th>287</th>\n",
       "      <td>2023</td>\n",
       "      <td>90287</td>\n",
       "      <td>Palos Verdes Peninsula Transit Authority</td>\n",
       "      <td>Reduced Reporter</td>\n",
       "      <td>Independent Public Agency or Authority of Tran...</td>\n",
       "      <td>Rolling Hills</td>\n",
       "      <td>CA</td>\n",
       "      <td>Los Angeles--Long Beach--Anaheim, CA</td>\n",
       "      <td>18785.0</td>\n",
       "      <td>258339.0</td>\n",
       "      <td>131176.0</td>\n",
       "      <td>Rolling Hills</td>\n",
       "      <td>Southern California Association of Governments</td>\n",
       "      <td>both</td>\n",
       "    </tr>\n",
       "  </tbody>\n",
       "</table>\n",
       "</div>"
      ],
      "text/plain": [
       "     report_year ntd_id                                    agency  \\\n",
       "225         2022  90256                           City of Burbank   \n",
       "226         2022  90256                           City of Burbank   \n",
       "227         2023  90256                           City of Burbank   \n",
       "228         2023  90256                           City of Burbank   \n",
       "285         2022  90287  Palos Verdes Peninsula Transit Authority   \n",
       "286         2023  90287  Palos Verdes Peninsula Transit Authority   \n",
       "287         2023  90287  Palos Verdes Peninsula Transit Authority   \n",
       "\n",
       "        reporter_type                                  organization_type  \\\n",
       "225  Reduced Reporter  City, County or Local Government Unit or Depar...   \n",
       "226  Reduced Reporter  City, County or Local Government Unit or Depar...   \n",
       "227  Reduced Reporter  City, County or Local Government Unit or Depar...   \n",
       "228  Reduced Reporter  City, County or Local Government Unit or Depar...   \n",
       "285  Reduced Reporter  Independent Public Agency or Authority of Tran...   \n",
       "286  Reduced Reporter  Independent Public Agency or Authority of Tran...   \n",
       "287  Reduced Reporter  Independent Public Agency or Authority of Tran...   \n",
       "\n",
       "                       city state                      primary_uza_name  \\\n",
       "225                 Burbank    CA  Los Angeles--Long Beach--Anaheim, CA   \n",
       "226                 Burbank    CA  Los Angeles--Long Beach--Anaheim, CA   \n",
       "227                 Burbank    CA  Los Angeles--Long Beach--Anaheim, CA   \n",
       "228                 Burbank    CA  Los Angeles--Long Beach--Anaheim, CA   \n",
       "285  Palos Verdes Peninsula    CA  Los Angeles--Long Beach--Anaheim, CA   \n",
       "286           Rolling Hills    CA  Los Angeles--Long Beach--Anaheim, CA   \n",
       "287           Rolling Hills    CA  Los Angeles--Long Beach--Anaheim, CA   \n",
       "\n",
       "     actual_vehicles_passenger_car_revenue_hours  \\\n",
       "225                                      27008.0   \n",
       "226                                      27008.0   \n",
       "227                                      28827.0   \n",
       "228                                      28827.0   \n",
       "285                                      16411.0   \n",
       "286                                      18785.0   \n",
       "287                                      18785.0   \n",
       "\n",
       "     actual_vehicles_passenger_car_revenue_miles  \\\n",
       "225                                     243964.0   \n",
       "226                                     243964.0   \n",
       "227                                     271752.0   \n",
       "228                                     271752.0   \n",
       "285                                     242914.0   \n",
       "286                                     258339.0   \n",
       "287                                     258339.0   \n",
       "\n",
       "     unlinked_passenger_trips_upt       cdp_name  \\\n",
       "225                      161971.0        Burbank   \n",
       "226                      161971.0        Burbank   \n",
       "227                      171517.0        Burbank   \n",
       "228                      171517.0        Burbank   \n",
       "285                      122042.0  Rolling Hills   \n",
       "286                      131176.0  Rolling Hills   \n",
       "287                      131176.0  Rolling Hills   \n",
       "\n",
       "                                               RTPA     _merge  \n",
       "225          Metropolitan Transportation Commission       both  \n",
       "226  Southern California Association of Governments       both  \n",
       "227          Metropolitan Transportation Commission       both  \n",
       "228  Southern California Association of Governments       both  \n",
       "285  Southern California Association of Governments  left_only  \n",
       "286         Madera County Transportation Commission       both  \n",
       "287  Southern California Association of Governments       both  "
      ]
     },
     "execution_count": 14,
     "metadata": {},
     "output_type": "execute_result"
    }
   ],
   "source": [
    "check_ntd_id =[\n",
    "    \"90256\",\n",
    "    \"90287\"\n",
    "]\n",
    "ntd_data_to_rtpa[ntd_data_to_rtpa[\"ntd_id\"].isin(check_ntd_id)]"
   ]
  },
  {
   "cell_type": "code",
   "execution_count": 15,
   "id": "cb1059a3-4230-4b34-836b-51ce5586cc85",
   "metadata": {
    "tags": []
   },
   "outputs": [
    {
     "name": "stdout",
     "output_type": "stream",
     "text": [
      "90003    2\n",
      "91005    2\n",
      "90276    2\n",
      "90277    2\n",
      "90278    2\n",
      "Name: ntd_id, dtype: int64\n"
     ]
    }
   ],
   "source": [
    "#identify conditions to drop rows by\n",
    "remove_1 = (ntd_data_to_rtpa[\"ntd_id\"]==\"90256\") & (ntd_data_to_rtpa[\"RTPA\"]==\"Metropolitan Transportation Commission\")\n",
    "remove_2 = (ntd_data_to_rtpa[\"ntd_id\"]==\"90287\") & (ntd_data_to_rtpa[\"RTPA\"]==\"Madera County Transportation Commission\")\n",
    "\n",
    "ntd_data_to_rtpa = ntd_data_to_rtpa[~(remove_1 | remove_2)]\n",
    "\n",
    "#check again\n",
    "print(ntd_data_to_rtpa[\"ntd_id\"].value_counts().head())"
   ]
  },
  {
   "cell_type": "markdown",
   "id": "aa88bfc4-591a-4b89-b81c-a5c70e349457",
   "metadata": {},
   "source": [
    "## final checks"
   ]
  },
  {
   "cell_type": "code",
   "execution_count": 16,
   "id": "85ce362b-16d7-40be-a3ab-493f2b59be7c",
   "metadata": {},
   "outputs": [
    {
     "name": "stdout",
     "output_type": "stream",
     "text": [
      "<class 'pandas.core.frame.DataFrame'>\n",
      "Int64Index: 421 entries, 0 to 423\n",
      "Data columns (total 14 columns):\n",
      " #   Column                                       Non-Null Count  Dtype   \n",
      "---  ------                                       --------------  -----   \n",
      " 0   report_year                                  421 non-null    int64   \n",
      " 1   ntd_id                                       421 non-null    object  \n",
      " 2   agency                                       421 non-null    object  \n",
      " 3   reporter_type                                421 non-null    object  \n",
      " 4   organization_type                            421 non-null    object  \n",
      " 5   city                                         421 non-null    object  \n",
      " 6   state                                        421 non-null    object  \n",
      " 7   primary_uza_name                             328 non-null    object  \n",
      " 8   actual_vehicles_passenger_car_revenue_hours  421 non-null    float64 \n",
      " 9   actual_vehicles_passenger_car_revenue_miles  421 non-null    float64 \n",
      " 10  unlinked_passenger_trips_upt                 421 non-null    float64 \n",
      " 11  cdp_name                                     421 non-null    object  \n",
      " 12  RTPA                                         421 non-null    object  \n",
      " 13  _merge                                       421 non-null    category\n",
      "dtypes: category(1), float64(3), int64(1), object(9)\n",
      "memory usage: 46.6+ KB\n"
     ]
    },
    {
     "data": {
      "text/plain": [
       "True"
      ]
     },
     "metadata": {},
     "output_type": "display_data"
    },
    {
     "data": {
      "text/plain": [
       "None"
      ]
     },
     "metadata": {},
     "output_type": "display_data"
    }
   ],
   "source": [
    "display(\n",
    "    len(ntd_service) == len(ntd_data_to_rtpa), # with left join, length should be the same since we removed duplicated rows\n",
    "    ntd_data_to_rtpa.info() #confirms that every column has data. except for primary uza, because the rural reporters dont get a uza name\n",
    ")"
   ]
  },
  {
   "cell_type": "markdown",
   "id": "10b7bd0f-777b-4360-87f8-b454a0ac48b5",
   "metadata": {},
   "source": [
    "## Create new `ntd_id_to_rtpa_crosswalk` file!"
   ]
  },
  {
   "cell_type": "code",
   "execution_count": 22,
   "id": "b9486134-5af0-4aa5-9edc-37c2e963a442",
   "metadata": {
    "tags": []
   },
   "outputs": [
    {
     "name": "stdout",
     "output_type": "stream",
     "text": [
      "<class 'pandas.core.frame.DataFrame'>\n",
      "RangeIndex: 213 entries, 0 to 212\n",
      "Data columns (total 5 columns):\n",
      " #   Column         Non-Null Count  Dtype \n",
      "---  ------         --------------  ----- \n",
      " 0   ntd_id         213 non-null    object\n",
      " 1   agency         213 non-null    object\n",
      " 2   reporter_type  213 non-null    object\n",
      " 3   city           213 non-null    object\n",
      " 4   RTPA           213 non-null    object\n",
      "dtypes: object(5)\n",
      "memory usage: 8.4+ KB\n"
     ]
    },
    {
     "data": {
      "text/plain": [
       "None"
      ]
     },
     "metadata": {},
     "output_type": "display_data"
    },
    {
     "data": {
      "text/plain": [
       "90003    1\n",
       "90277    1\n",
       "90279    1\n",
       "90281    1\n",
       "90282    1\n",
       "Name: ntd_id, dtype: int64"
      ]
     },
     "metadata": {},
     "output_type": "display_data"
    },
    {
     "data": {
      "text/plain": [
       "Reduced Reporter    84\n",
       "Full Reporter       83\n",
       "Rural Reporter      46\n",
       "Name: reporter_type, dtype: int64"
      ]
     },
     "metadata": {},
     "output_type": "display_data"
    },
    {
     "data": {
      "text/html": [
       "<div>\n",
       "<style scoped>\n",
       "    .dataframe tbody tr th:only-of-type {\n",
       "        vertical-align: middle;\n",
       "    }\n",
       "\n",
       "    .dataframe tbody tr th {\n",
       "        vertical-align: top;\n",
       "    }\n",
       "\n",
       "    .dataframe thead th {\n",
       "        text-align: right;\n",
       "    }\n",
       "</style>\n",
       "<table border=\"1\" class=\"dataframe\">\n",
       "  <thead>\n",
       "    <tr style=\"text-align: right;\">\n",
       "      <th></th>\n",
       "      <th>ntd_id</th>\n",
       "      <th>agency</th>\n",
       "      <th>reporter_type</th>\n",
       "      <th>city</th>\n",
       "      <th>RTPA</th>\n",
       "    </tr>\n",
       "  </thead>\n",
       "  <tbody>\n",
       "    <tr>\n",
       "      <th>0</th>\n",
       "      <td>90003</td>\n",
       "      <td>San Francisco Bay Area Rapid Transit District,...</td>\n",
       "      <td>Full Reporter</td>\n",
       "      <td>Oakland</td>\n",
       "      <td>Metropolitan Transportation Commission</td>\n",
       "    </tr>\n",
       "    <tr>\n",
       "      <th>1</th>\n",
       "      <td>90004</td>\n",
       "      <td>Golden Empire Transit District</td>\n",
       "      <td>Full Reporter</td>\n",
       "      <td>Bakersfield</td>\n",
       "      <td>Kern Council of Governments</td>\n",
       "    </tr>\n",
       "    <tr>\n",
       "      <th>2</th>\n",
       "      <td>90006</td>\n",
       "      <td>Santa Cruz Metropolitan Transit District</td>\n",
       "      <td>Full Reporter</td>\n",
       "      <td>Santa Cruz</td>\n",
       "      <td>Santa Cruz County Regional Transportation Comm...</td>\n",
       "    </tr>\n",
       "    <tr>\n",
       "      <th>3</th>\n",
       "      <td>90008</td>\n",
       "      <td>City of Santa Monica, dba: Big Blue Bus</td>\n",
       "      <td>Full Reporter</td>\n",
       "      <td>Santa Monica</td>\n",
       "      <td>Southern California Association of Governments</td>\n",
       "    </tr>\n",
       "    <tr>\n",
       "      <th>4</th>\n",
       "      <td>90009</td>\n",
       "      <td>San Mateo County Transit District</td>\n",
       "      <td>Full Reporter</td>\n",
       "      <td>San Carlos</td>\n",
       "      <td>Metropolitan Transportation Commission</td>\n",
       "    </tr>\n",
       "  </tbody>\n",
       "</table>\n",
       "</div>"
      ],
      "text/plain": [
       "  ntd_id                                             agency  reporter_type  \\\n",
       "0  90003  San Francisco Bay Area Rapid Transit District,...  Full Reporter   \n",
       "1  90004                     Golden Empire Transit District  Full Reporter   \n",
       "2  90006           Santa Cruz Metropolitan Transit District  Full Reporter   \n",
       "3  90008            City of Santa Monica, dba: Big Blue Bus  Full Reporter   \n",
       "4  90009                  San Mateo County Transit District  Full Reporter   \n",
       "\n",
       "           city                                               RTPA  \n",
       "0       Oakland             Metropolitan Transportation Commission  \n",
       "1   Bakersfield                        Kern Council of Governments  \n",
       "2    Santa Cruz  Santa Cruz County Regional Transportation Comm...  \n",
       "3  Santa Monica     Southern California Association of Governments  \n",
       "4    San Carlos             Metropolitan Transportation Commission  "
      ]
     },
     "metadata": {},
     "output_type": "display_data"
    }
   ],
   "source": [
    "ntd_data_to_rtpa_cleaned = ntd_data_to_rtpa[[\"ntd_id\",\"agency\",\"reporter_type\",\"city\",\"RTPA\"]].drop_duplicates(subset=[\"ntd_id\"]).reset_index(drop=True)\n",
    "\n",
    "display(\n",
    "    ntd_data_to_rtpa_cleaned.info(),\n",
    "    ntd_data_to_rtpa_cleaned[\"ntd_id\"].value_counts().head(),\n",
    "    ntd_data_to_rtpa_cleaned[\"reporter_type\"].value_counts(),\n",
    "    ntd_data_to_rtpa_cleaned.head()\n",
    ")\n"
   ]
  },
  {
   "cell_type": "markdown",
   "id": "70be7d72-d172-4afc-90ca-3880a7e9dbba",
   "metadata": {},
   "source": [
    "# Save crosswalk to GCS\n",
    "- as `.parquet` and `.csv`"
   ]
  },
  {
   "cell_type": "code",
   "execution_count": 23,
   "id": "a8b06d12-d67d-4c03-a3cd-9da8fdc335d5",
   "metadata": {
    "tags": []
   },
   "outputs": [],
   "source": [
    "# ntd_data_to_rtpa_cleaned.to_parquet(f\"{GCS_FILE_PATH}ntd_id_rtpa_crosswalk_all_reporter_types.parquet\")\n",
    "# ntd_data_to_rtpa_cleaned.to_csv(f\"{GCS_FILE_PATH}ntd_id_rtpa_crosswalk_all_reporter_types.csv\")\n"
   ]
  },
  {
   "cell_type": "markdown",
   "id": "0117d77b-0c40-4b98-91d1-9b72bfeed77a",
   "metadata": {},
   "source": [
    "## Test reading in data from gcs"
   ]
  },
  {
   "cell_type": "code",
   "execution_count": 24,
   "id": "aae7d896-1b12-40f7-9388-cc94a279e8cc",
   "metadata": {
    "tags": []
   },
   "outputs": [
    {
     "data": {
      "text/plain": [
       "True"
      ]
     },
     "metadata": {},
     "output_type": "display_data"
    }
   ],
   "source": [
    "xwalk_parquet = pd.read_parquet(f\"{GCS_FILE_PATH}ntd_id_rtpa_crosswalk_all_reporter_types.parquet\")\n",
    "xwalk_csv = pd.read_csv(f\"{GCS_FILE_PATH}ntd_id_rtpa_crosswalk_all_reporter_types.csv\")\n",
    "\n",
    "\n",
    "display(\n",
    "    len(xwalk_parquet) == len(xwalk_csv)\n",
    ")"
   ]
  },
  {
   "cell_type": "code",
   "execution_count": null,
   "id": "38c80379-d9dd-4a29-9b09-f606651b0ad9",
   "metadata": {},
   "outputs": [],
   "source": []
  }
 ],
 "metadata": {
  "kernelspec": {
   "display_name": "Python 3 (ipykernel)",
   "language": "python",
   "name": "python3"
  },
  "language_info": {
   "codemirror_mode": {
    "name": "ipython",
    "version": 3
   },
   "file_extension": ".py",
   "mimetype": "text/x-python",
   "name": "python",
   "nbconvert_exporter": "python",
   "pygments_lexer": "ipython3",
   "version": "3.11.10"
  }
 },
 "nbformat": 4,
 "nbformat_minor": 5
}
