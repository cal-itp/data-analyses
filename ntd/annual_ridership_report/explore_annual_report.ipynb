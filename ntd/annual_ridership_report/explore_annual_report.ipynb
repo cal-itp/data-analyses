{
 "cells": [
  {
   "cell_type": "code",
   "execution_count": 1,
   "id": "f69ce09b-de2a-4d6e-a5b9-d6fa2ecf2be2",
   "metadata": {},
   "outputs": [],
   "source": [
    "import sys\n",
    "\n",
    "sys.path.append(\"../\")  # up one level\n",
    "\n",
    "import os\n",
    "import shutil\n",
    "\n",
    "import gcsfs\n",
    "import geopandas as gpd\n",
    "import pandas as pd\n",
    "import annual_ridership_module\n",
    "\n",
    "from calitp_data_analysis.sql import to_snakecase\n",
    "from calitp_data_analysis.tables import tbls\n",
    "from segment_speed_utils.project_vars import PUBLIC_GCS\n",
    "from siuba import _, collect, count, filter, select, show_query\n",
    "from update_vars import GCS_FILE_PATH, NTD_MODES, NTD_TOS\n",
    "\n",
    "GCS_FILE_PATH = \"gs://calitp-analytics-data/data-analyses/ntd/\"\n",
    "\n",
    "pd.set_option(\"display.max_rows\", None)\n",
    "pd.set_option(\"display.max_columns\", None)"
   ]
  },
  {
   "cell_type": "markdown",
   "id": "ed4ede38-835e-46f5-91c7-187c02f176a7",
   "metadata": {},
   "source": [
    "# Work plan\n",
    "\n",
    "## COMPLETE ~~Need List of all annual reporters~~\n",
    "- Full, Reduced, Rural reporters all submit an annual Report to NTD\n",
    "- used `dim_annual_service_agencies`\n",
    "\n",
    "## COMPLETE ~~Need to assign rural and reduced annual reporters to RTPAs~~ \n",
    "- Full reporters are already mapped to RTPAs via the monthly report\n",
    "- but reduced and rurap reporters need to be mapped to RTPAs\n",
    "- sjoined a map of CA census designated places to RTPA map, then merged with `dim_annual_service_agenices` to attach RTPA info\n",
    "\n",
    "## COMPLETE ~~Export processed data to parquet~~\n",
    "- to be used for aggregation\n",
    "\n",
    "## COMPLTE ~~Make new ntd_id to RTPA crosswalk~~\n",
    "- to be used for future analyses and merges\n",
    "\n",
    "## COMPLETE ~~Import formulas from monthly report for aggregation~~\n",
    "- modified `produce_annual_ntd_ridership_data_by_rtpa`\n",
    "\n",
    "## Test using data from new warehouse table `fct_service_data_and_operating_expenses_time_series_by_mode_upt`\n",
    "- https://dbt-docs.calitp.org/#!/model/model.calitp_warehouse.fct_service_data_and_operating_expenses_time_series_by_mode_upt\n",
    "---"
   ]
  },
  {
   "cell_type": "markdown",
   "id": "f56e1909-82da-4830-b949-9e85e862d8e7",
   "metadata": {},
   "source": [
    "## read in `fct_service_data_and_operating_expenses_time_series_by_mode_upt`"
   ]
  },
  {
   "cell_type": "code",
   "execution_count": null,
   "id": "7f490268-39aa-4e14-ad27-63cfc45606f4",
   "metadata": {
    "tags": []
   },
   "outputs": [],
   "source": [
    "# new warehouse table\n",
    "# includes upt, mode, tos and report year starting from 2018\n",
    "# contains historical,inactive agencies\n",
    "\n",
    "get_ntd_time_series = (\n",
    "    tbls.mart_ntd_funding_and_expenses.fct_service_data_and_operating_expenses_time_series_by_mode_upt()\n",
    "    >> filter(_.state.str.contains(\"CA\") | \n",
    "              _.state.str.contains(\"NV\"), # to get lake Tahoe Transportation back\n",
    "              _.year >= \"2018\",\n",
    "              _.city != None,\n",
    "              _.primary_uza_name.str.contains(\", CA\") | \n",
    "              _.primary_uza_name.str.contains(\"CA-NV\") |\n",
    "              _.primary_uza_name.str.contains(\"California Non-UZA\") | \n",
    "              _.primary_uza_name.str.contains(\"El Paso, TX--NM\") # something about Paso \n",
    "             )\n",
    "    >> select(\n",
    "        'agency_name',\n",
    "        'agency_status',\n",
    "        'city',\n",
    "        'legacy_ntd_id',\n",
    "        'mode',\n",
    "        'ntd_id',\n",
    "        'reporter_type',\n",
    "        'reporting_module',\n",
    "        'service',\n",
    "        'state',\n",
    "        'uace_code',\n",
    "        'primary_uza_name',\n",
    "        'uza_population',\n",
    "        'year',\n",
    "        'upt',\n",
    "    )\n",
    "    >> collect()\n",
    ")\n",
    "\n",
    "#what does group by look like\n",
    "ntd_time_series = get_ntd_time_series.groupby(\n",
    "    [\n",
    "        \"agency_name\",\n",
    "        'agency_status',\n",
    "        \"city\",\n",
    "        \"state\",\n",
    "        \"ntd_id\",\n",
    "        'primary_uza_name',\n",
    "        \"reporter_type\",\n",
    "        \"mode\",\n",
    "        \"service\",\n",
    "        \"year\"\n",
    "    ]\n",
    ").agg({\n",
    "    \"upt\":\"sum\"\n",
    "}).sort_values(by=\"ntd_id\").reset_index()\n",
    "\n",
    "display(\n",
    "    get_ntd_time_series.info(),\n",
    "    ntd_time_series.info(),\n",
    "    ntd_time_series[\"state\"].value_counts(),\n",
    "    ntd_time_series[\"primary_uza_name\"].value_counts()\n",
    "    \n",
    ")"
   ]
  },
  {
   "cell_type": "code",
   "execution_count": null,
   "id": "4b2d423c-7a55-4565-81d6-9cb66eccf0e5",
   "metadata": {
    "tags": []
   },
   "outputs": [],
   "source": [
    "ntd_time_series[~ntd_time_series[\"primary_uza_name\"].str.contains(\", CA\")][\"primary_uza_name\"].value_counts()\n",
    "# who has uza in texas new mex?!"
   ]
  },
  {
   "cell_type": "code",
   "execution_count": null,
   "id": "409a2fc9-3d67-4b08-940b-4b6f443a0514",
   "metadata": {
    "tags": []
   },
   "outputs": [],
   "source": [
    "ntd_time_series[ntd_time_series[\"primary_uza_name\"].str.contains(\"El Paso, TX--NM\")] # just 1 agency, PAso Robles Transit Services"
   ]
  },
  {
   "cell_type": "code",
   "execution_count": null,
   "id": "c715ee61-741f-48eb-9a20-3d018926eb8a",
   "metadata": {
    "tags": []
   },
   "outputs": [],
   "source": [
    "# how many cities in ntd_time_serires are there?\n",
    "# wonder if all the cities will be in the crosswalk\n",
    "ntd_time_series[\"city\"].nunique() # 183. should be enough\n"
   ]
  },
  {
   "cell_type": "markdown",
   "id": "9b094285-69bd-4e91-a37f-cb2e1c4b28f1",
   "metadata": {
    "tags": []
   },
   "source": [
    "## See `explore_rtpa_ntd_crosswalk` notebook to see how the new rtpa to ntd id crosswalk was made"
   ]
  },
  {
   "cell_type": "markdown",
   "id": "42c5a712-cf98-460a-8622-5aa921db26a3",
   "metadata": {
    "tags": []
   },
   "source": [
    "## read in crosswalk from gcs"
   ]
  },
  {
   "cell_type": "code",
   "execution_count": null,
   "id": "f41d2fc1-983a-4f6c-8da3-6796892a8b54",
   "metadata": {
    "tags": []
   },
   "outputs": [],
   "source": [
    "test_data = pd.read_parquet(f\"{GCS_FILE_PATH}annual_report_data_2022-2023.parquet\")\n",
    "rtpa_ntd_crosswalk = pd.read_parquet(f\"{GCS_FILE_PATH}ntd_id_rtpa_crosswalk_all_reporter_types.parquet\")\n",
    "\n",
    "display(\n",
    "    test_data.head(),\n",
    "    rtpa_ntd_crosswalk.head()\n",
    ")"
   ]
  },
  {
   "cell_type": "markdown",
   "id": "ea8d7a41-dce2-4ef7-9af8-225fa1f1e72b",
   "metadata": {},
   "source": [
    "## test merge of `ntd_time_series` with `rtpa ntd crosswalk`"
   ]
  },
  {
   "cell_type": "code",
   "execution_count": null,
   "id": "212e19f1-5f4e-48e9-bba5-ace555858c09",
   "metadata": {
    "tags": []
   },
   "outputs": [],
   "source": [
    "ntd_time_series_rtpa = ntd_time_series.merge(\n",
    "    rtpa_ntd_crosswalk,\n",
    "    on=\"ntd_id\",\n",
    "    how=\"left\",\n",
    "    indicator=True\n",
    ")\n",
    "display(\n",
    "    ntd_time_series_rtpa.info(),\n",
    "    ntd_time_series_rtpa[\"_merge\"].value_counts()\n",
    ")"
   ]
  },
  {
   "cell_type": "code",
   "execution_count": null,
   "id": "f3bd5467-1b46-4669-b655-5b0a91c1f9bf",
   "metadata": {
    "tags": []
   },
   "outputs": [],
   "source": [
    "# gtg\n",
    "ntd_time_series_rtpa.head()"
   ]
  },
  {
   "cell_type": "markdown",
   "id": "4ed0510e-f837-4f52-aa29-b264403eee65",
   "metadata": {},
   "source": [
    "## Testing the `add_change_column` from module\n",
    "- use on `ntd_time_series_rtpa` to add new column\n",
    "1. previous UPT from prev year/ntd_id/mode/tos\n",
    "2. change upt % from prev year/ntd_/mode/tos\n"
   ]
  },
  {
   "cell_type": "code",
   "execution_count": null,
   "id": "c8ad4630-57e5-4b44-9551-4dda47c8dc6b",
   "metadata": {
    "tags": []
   },
   "outputs": [],
   "source": [
    "sort_cols2 =  [\"ntd_id\",\n",
    "               \"year\", \n",
    "               \"service\",\n",
    "               \"mode\"\n",
    "              ] # got the order correct with [\"period_month\", \"period_year\"]! sorted years with grouped months\n",
    "group_cols2 = [\"ntd_id\",\n",
    "               \"mode\",\n",
    "               \"service\"\n",
    "              ]\n",
    "    \n",
    "#df[[\"period_year\",\"period_month\"]] = df[[\"period_year\",\"period_month\"]].astype(int)\n",
    "#ntd_time_series_rtpa.sort_values(sort_cols2).groupby(group_cols2)[\"upt\"].apply(lambda x: x.shift(1))"
   ]
  },
  {
   "cell_type": "code",
   "execution_count": null,
   "id": "b7ccd94e-b340-41aa-bd66-e3bff7340076",
   "metadata": {
    "tags": []
   },
   "outputs": [],
   "source": [
    "ntd_time_series_rtpa.sort_values(sort_cols2).head()"
   ]
  },
  {
   "cell_type": "code",
   "execution_count": null,
   "id": "31efcc42-8f6a-4cbe-96fa-4442296b0e0c",
   "metadata": {
    "tags": []
   },
   "outputs": [],
   "source": [
    "ntd_time_series_rtpa.sort_values(sort_cols2).groupby(group_cols2)[\"upt\"].apply(lambda x: x.shift(1)).head()"
   ]
  },
  {
   "cell_type": "code",
   "execution_count": null,
   "id": "8ffb52e5-5b28-4268-9e34-bf8d6d07af8b",
   "metadata": {
    "tags": []
   },
   "outputs": [],
   "source": [
    "test = ntd_time_series_rtpa.assign(\n",
    "        previous_y_upt = (ntd_time_series_rtpa.sort_values(sort_cols2)\n",
    "                        .groupby(group_cols2)[\"upt\"] \n",
    "                        .apply(lambda x: x.shift(1))\n",
    "                       )\n",
    "    )"
   ]
  },
  {
   "cell_type": "code",
   "execution_count": null,
   "id": "59db94b1-717a-4d7c-a909-17307e5f6d87",
   "metadata": {
    "tags": []
   },
   "outputs": [],
   "source": [
    "test[test[\"ntd_id\"]==\"90253\"].sort_values(by=[\"year\",\"mode\",\"service\"])"
   ]
  },
  {
   "cell_type": "code",
   "execution_count": null,
   "id": "c77431db-cd9b-4a8c-a5e9-3444f4e3335f",
   "metadata": {
    "tags": []
   },
   "outputs": [],
   "source": [
    "ntd_rtpa_change_cols = annual_ridership_module.add_change_columns(ntd_time_series_rtpa)"
   ]
  },
  {
   "cell_type": "code",
   "execution_count": null,
   "id": "63a6f253-affe-4ce8-8778-bd29e039cafd",
   "metadata": {
    "tags": []
   },
   "outputs": [],
   "source": [
    "ntd_rtpa_change_cols[ntd_rtpa_change_cols[\"ntd_id\"]==\"90253\"].sort_values(by=[\"year\",\"service\",\"mode\"])"
   ]
  },
  {
   "cell_type": "code",
   "execution_count": null,
   "id": "95e8b5d8-a7ef-4bdf-bcee-4ef254c5e740",
   "metadata": {},
   "outputs": [],
   "source": []
  },
  {
   "cell_type": "markdown",
   "id": "14aae1e4-5c71-4870-a663-72eebff4a6b3",
   "metadata": {},
   "source": [
    "## Full Test `produce_annual_ntd_ridership_data_by_rtpa` function\n",
    "- need to updat to new NTD data table.\n"
   ]
  },
  {
   "cell_type": "code",
   "execution_count": null,
   "id": "ab837245-6ba3-4c6c-8746-8e2cc1108e13",
   "metadata": {
    "tags": []
   },
   "outputs": [],
   "source": [
    "check_id=[\"90253\",\"90227\",\"90259\",\"90286\"]\n",
    "\n",
    "display(\n",
    "    ntd_time_series_rtpa[ntd_time_series_rtpa[\"ntd_id\"].isin(check_id)][\"city_x\"].unique(),\n",
    "    rtpa_ntd_crosswalk[rtpa_ntd_crosswalk[\"ntd_id\"].isin(check_id)][\"city\"].unique()\n",
    ")\n",
    "\n",
    "# cities match, no need for the dictionary update anymore in the function"
   ]
  },
  {
   "cell_type": "code",
   "execution_count": 33,
   "id": "ce1f6906-c0ff-4284-9575-e28c52c93185",
   "metadata": {},
   "outputs": [],
   "source": [
    "def produce_annual_ntd_ridership_data_by_rtpa():\n",
    "    \"\"\"\n",
    "    Function that ingest ridership data from `dim_annual_service_agencies`, filters for CA agencies.\n",
    "    Merges in ntd_id_to_RTPA_crosswalk.\n",
    "    \n",
    "    \"\"\"\n",
    "    from annual_ridership_module import add_change_columns\n",
    "    \n",
    "    print(\"ingest annual ridership data from warehouse\")\n",
    "    \n",
    "    ntd_service = (\n",
    "    tbls.mart_ntd_funding_and_expenses.fct_service_data_and_operating_expenses_time_series_by_mode_upt()\n",
    "    >> filter(_.state.str.contains(\"CA\") | \n",
    "              _.state.str.contains(\"NV\"), # to get lake Tahoe Transportation back\n",
    "              _.year >= \"2018\",\n",
    "              _.city != None,\n",
    "              _.primary_uza_name.str.contains(\", CA\") | \n",
    "              _.primary_uza_name.str.contains(\"CA-NV\") |\n",
    "              _.primary_uza_name.str.contains(\"California Non-UZA\") | \n",
    "              _.primary_uza_name.str.contains(\"El Paso, TX--NM\") # something about Paso \n",
    "             )\n",
    "    >> select(\n",
    "        'agency_name',\n",
    "        'agency_status',\n",
    "        'city',\n",
    "        'legacy_ntd_id',\n",
    "        'mode',\n",
    "        'ntd_id',\n",
    "        'reporter_type',\n",
    "        'reporting_module',\n",
    "        'service',\n",
    "        'state',\n",
    "        'uace_code',\n",
    "        'primary_uza_name',\n",
    "        'uza_population',\n",
    "        'year',\n",
    "        'upt',\n",
    "    )\n",
    "    >> collect())\n",
    "    \n",
    "    ntd_service = ntd_service.groupby(\n",
    "        [\n",
    "            \"agency_name\",\n",
    "            'agency_status',\n",
    "            \"city\",\n",
    "            \"state\",\n",
    "            \"ntd_id\",\n",
    "            'primary_uza_name',\n",
    "            \"reporter_type\",\n",
    "            \"mode\",\n",
    "            \"service\",\n",
    "            \"year\"\n",
    "        ]\n",
    "    ).agg({\n",
    "        \"upt\":\"sum\"\n",
    "    }).sort_values(by=\"ntd_id\").reset_index()\n",
    "        \n",
    "    #print(\"clean up warehouse data\")\n",
    "    \n",
    "    #update_dict={\n",
    "    #    \"90227\":\"Moorpark\",\n",
    "    #    \"90253\":\"Bell Gardens\",\n",
    "    #    \"90259\":\"Cerritos\",\n",
    "    #    \"90286\":\"Monterey Park\",\n",
    "    #}\n",
    "    \n",
    "    #for i, v in update_dict.items():\n",
    "    #    ntd_service.loc[ntd_service[\"ntd_id\"]== i,\"city\"] = v\n",
    "    \n",
    "    print(\"read in new `ntd_id_to_rtpa_all_reporter_types` crosswalk\") \n",
    "    \n",
    "    ntd_to_rtpa_crosswalk = pd.read_parquet(f\"{GCS_FILE_PATH}ntd_id_rtpa_crosswalk_all_reporter_types.parquet\")\n",
    "        \n",
    "    print(\"merge ntd data to crosswalk\")\n",
    "    \n",
    "    ntd_data_by_rtpa = ntd_service.merge(\n",
    "    ntd_to_rtpa_crosswalk,\n",
    "    how=\"left\",\n",
    "    on=[\n",
    "        \"ntd_id\",\n",
    "        #\"agency\", \"reporter_type\", \"city\" # sometime agency name, reporter type and city name change or are inconsistent, causing possible fanout\n",
    "    ],\n",
    "    indicator=True\n",
    "    ).rename(\n",
    "    columns={\n",
    "        \"actual_vehicles_passenger_car_revenue_hours\":\"vrh\",\n",
    "        \"actual_vehicles_passenger_car_revenue_miles\":\"vrm\",\n",
    "        \"unlinked_passenger_trips_upt\":\"upt\",\n",
    "        'agency_name_x':\"agency_name\", \n",
    "        'agency_status_x':\"agency_status\", \n",
    "        'city_x':\"city\", \n",
    "        'state_x':\"state\",\n",
    "        'reporter_type_x':\"reporter_type\",\n",
    "        \"agency_name_y\":\"xwalk_agency_name\",\n",
    "        'reporter_type_y':\"xwalk_reporter_type\",\n",
    "        'agency_status_y':\"xwalk_agency_status\",\n",
    "        'city_y':\"xwalk_city\",\n",
    "        'state_y':\"xwalk_state\",\n",
    "    }\n",
    "    )\n",
    "    \n",
    "    print(ntd_data_by_rtpa._merge.value_counts())\n",
    "        \n",
    "    if len(ntd_data_by_rtpa[ntd_data_by_rtpa._merge==\"left_only\"]) > 0:\n",
    "        raise ValueError(\"There are unmerged rows to crosswalk\")\n",
    "    \n",
    "    print(\"add `change_column` to data\")\n",
    "    ntd_data_by_rtpa = add_change_columns(ntd_data_by_rtpa)\n",
    "    \n",
    "    return ntd_data_by_rtpa\n",
    "\n",
    "# will add step to export data to gcs in final script"
   ]
  },
  {
   "cell_type": "code",
   "execution_count": 34,
   "id": "48ddc1e8-0bf2-4d25-aad4-3cd225ee954b",
   "metadata": {
    "tags": []
   },
   "outputs": [
    {
     "name": "stdout",
     "output_type": "stream",
     "text": [
      "ingest annual ridership data from warehouse\n",
      "read in new `ntd_id_to_rtpa_all_reporter_types` crosswalk\n",
      "merge ntd data to crosswalk\n",
      "both          4038\n",
      "left_only        0\n",
      "right_only       0\n",
      "Name: _merge, dtype: int64\n",
      "add `change_column` to data\n"
     ]
    },
    {
     "name": "stderr",
     "output_type": "stream",
     "text": [
      "/home/jovyan/data-analyses/ntd/annual_ridership_report/annual_ridership_module.py:42: FutureWarning: Not prepending group keys to the result index of transform-like apply. In the future, the group keys will be included in the index, regardless of whether the applied function returns a like-indexed object.\n",
      "To preserve the previous behavior, use\n",
      "\n",
      "\t>>> .groupby(..., group_keys=False)\n",
      "\n",
      "To adopt the future behavior and silence this warning, use \n",
      "\n",
      "\t>>> .groupby(..., group_keys=True)\n",
      "  .apply(lambda x: x.shift(1))\n"
     ]
    }
   ],
   "source": [
    "annual_ridership_report_data = produce_annual_ntd_ridership_data_by_rtpa()\n"
   ]
  },
  {
   "cell_type": "code",
   "execution_count": 23,
   "id": "64cbab43-00bd-4cdc-8935-a0027cee283a",
   "metadata": {
    "tags": []
   },
   "outputs": [
    {
     "ename": "NameError",
     "evalue": "name 'ntd_time_series_rtpa' is not defined",
     "output_type": "error",
     "traceback": [
      "\u001b[0;31m---------------------------------------------------------------------------\u001b[0m",
      "\u001b[0;31mNameError\u001b[0m                                 Traceback (most recent call last)",
      "Cell \u001b[0;32mIn[23], line 1\u001b[0m\n\u001b[0;32m----> 1\u001b[0m \u001b[38;5;28;01mif\u001b[39;00m annual_ridership_report_data\u001b[38;5;241m.\u001b[39mshape \u001b[38;5;241m==\u001b[39m \u001b[43mntd_time_series_rtpa\u001b[49m\u001b[38;5;241m.\u001b[39mshape:\n\u001b[1;32m      2\u001b[0m     \u001b[38;5;28;01mpass\u001b[39;00m\n\u001b[1;32m      3\u001b[0m \u001b[38;5;28;01melse\u001b[39;00m: \u001b[38;5;28mprint\u001b[39m(\u001b[38;5;124mf\u001b[39m\u001b[38;5;124m\"\"\"\u001b[39m\n\u001b[1;32m      4\u001b[0m \u001b[38;5;132;01m{\u001b[39;00mannual_ridership_report_data\u001b[38;5;241m.\u001b[39mshape\u001b[38;5;132;01m}\u001b[39;00m\u001b[38;5;124m vs \u001b[39m\u001b[38;5;132;01m{\u001b[39;00mntd_time_series_rtpa\u001b[38;5;241m.\u001b[39mshape\u001b[38;5;132;01m}\u001b[39;00m\u001b[38;5;124m.\u001b[39m\n\u001b[1;32m      5\u001b[0m \u001b[38;5;132;01m{\u001b[39;00mannual_ridership_report_data\u001b[38;5;241m.\u001b[39mcolumns\u001b[38;5;132;01m}\u001b[39;00m\n\u001b[1;32m      6\u001b[0m \u001b[38;5;132;01m{\u001b[39;00mntd_time_series_rtpa\u001b[38;5;241m.\u001b[39mcolumns\u001b[38;5;132;01m}\u001b[39;00m\n\u001b[1;32m      7\u001b[0m \u001b[38;5;124m\"\"\"\u001b[39m)\n",
      "\u001b[0;31mNameError\u001b[0m: name 'ntd_time_series_rtpa' is not defined"
     ]
    }
   ],
   "source": [
    "if annual_ridership_report_data.shape == ntd_time_series_rtpa.shape:\n",
    "    pass\n",
    "else: print(f\"\"\"\n",
    "{annual_ridership_report_data.shape} vs {ntd_time_series_rtpa.shape}.\n",
    "{annual_ridership_report_data.columns}\n",
    "{ntd_time_series_rtpa.columns}\n",
    "\"\"\")\n",
    "\n",
    "# gtg, ntd_time_series_rtpa doesnt apply the change 1 year calculations, but the lengths are the same "
   ]
  },
  {
   "cell_type": "code",
   "execution_count": 35,
   "id": "2cf5716c-a50c-4657-aac5-bb496bb95776",
   "metadata": {
    "tags": []
   },
   "outputs": [
    {
     "data": {
      "text/plain": [
       "Index(['agency_name', 'agency_status', 'city', 'state', 'ntd_id',\n",
       "       'primary_uza_name', 'reporter_type', 'mode', 'service', 'year', 'upt',\n",
       "       'xwalk_agency_name', 'xwalk_reporter_type', 'xwalk_agency_status',\n",
       "       'xwalk_city', 'xwalk_state', 'RTPA', '_merge', 'previous_y_upt',\n",
       "       'change_1yr', 'pct_change_1yr'],\n",
       "      dtype='object')"
      ]
     },
     "execution_count": 35,
     "metadata": {},
     "output_type": "execute_result"
    }
   ],
   "source": [
    "annual_ridership_report_data.columns"
   ]
  },
  {
   "cell_type": "code",
   "execution_count": 36,
   "id": "1f2d8bc2-7fd4-4345-be4d-fd458671e86f",
   "metadata": {
    "tags": []
   },
   "outputs": [
    {
     "data": {
      "text/plain": [
       "array(['2018', '2019', '2020', '2021', '2022', '2023'], dtype=object)"
      ]
     },
     "execution_count": 36,
     "metadata": {},
     "output_type": "execute_result"
    }
   ],
   "source": [
    "annual_ridership_report_data[\"year\"].unique()"
   ]
  },
  {
   "cell_type": "code",
   "execution_count": 37,
   "id": "db4b4bda-bd86-4933-aa66-c767be92d4ca",
   "metadata": {
    "tags": []
   },
   "outputs": [
    {
     "data": {
      "text/html": [
       "<div>\n",
       "<style scoped>\n",
       "    .dataframe tbody tr th:only-of-type {\n",
       "        vertical-align: middle;\n",
       "    }\n",
       "\n",
       "    .dataframe tbody tr th {\n",
       "        vertical-align: top;\n",
       "    }\n",
       "\n",
       "    .dataframe thead th {\n",
       "        text-align: right;\n",
       "    }\n",
       "</style>\n",
       "<table border=\"1\" class=\"dataframe\">\n",
       "  <thead>\n",
       "    <tr style=\"text-align: right;\">\n",
       "      <th></th>\n",
       "      <th>agency_name</th>\n",
       "      <th>agency_status</th>\n",
       "      <th>city</th>\n",
       "      <th>state</th>\n",
       "      <th>ntd_id</th>\n",
       "      <th>primary_uza_name</th>\n",
       "      <th>reporter_type</th>\n",
       "      <th>mode</th>\n",
       "      <th>service</th>\n",
       "      <th>year</th>\n",
       "      <th>upt</th>\n",
       "      <th>xwalk_agency_name</th>\n",
       "      <th>xwalk_reporter_type</th>\n",
       "      <th>xwalk_agency_status</th>\n",
       "      <th>xwalk_city</th>\n",
       "      <th>xwalk_state</th>\n",
       "      <th>RTPA</th>\n",
       "      <th>_merge</th>\n",
       "      <th>previous_y_upt</th>\n",
       "      <th>change_1yr</th>\n",
       "      <th>pct_change_1yr</th>\n",
       "    </tr>\n",
       "  </thead>\n",
       "  <tbody>\n",
       "    <tr>\n",
       "      <th>444</th>\n",
       "      <td>Sacramento Regional Transit District</td>\n",
       "      <td>Active</td>\n",
       "      <td>Sacramento</td>\n",
       "      <td>CA</td>\n",
       "      <td>90019</td>\n",
       "      <td>Sacramento, CA</td>\n",
       "      <td>Full Reporter</td>\n",
       "      <td>DR</td>\n",
       "      <td>PT</td>\n",
       "      <td>2023</td>\n",
       "      <td>0.0</td>\n",
       "      <td>Sacramento Regional Transit District</td>\n",
       "      <td>Full Reporter</td>\n",
       "      <td>Active</td>\n",
       "      <td>Sacramento</td>\n",
       "      <td>CA</td>\n",
       "      <td>Sacramento Area Council of Governments</td>\n",
       "      <td>both</td>\n",
       "      <td>0.0</td>\n",
       "      <td>0.0</td>\n",
       "      <td>NaN</td>\n",
       "    </tr>\n",
       "    <tr>\n",
       "      <th>445</th>\n",
       "      <td>Sacramento Regional Transit District</td>\n",
       "      <td>Active</td>\n",
       "      <td>Sacramento</td>\n",
       "      <td>CA</td>\n",
       "      <td>90019</td>\n",
       "      <td>Sacramento, CA</td>\n",
       "      <td>Full Reporter</td>\n",
       "      <td>DR</td>\n",
       "      <td>TX</td>\n",
       "      <td>2022</td>\n",
       "      <td>0.0</td>\n",
       "      <td>Sacramento Regional Transit District</td>\n",
       "      <td>Full Reporter</td>\n",
       "      <td>Active</td>\n",
       "      <td>Sacramento</td>\n",
       "      <td>CA</td>\n",
       "      <td>Sacramento Area Council of Governments</td>\n",
       "      <td>both</td>\n",
       "      <td>0.0</td>\n",
       "      <td>0.0</td>\n",
       "      <td>NaN</td>\n",
       "    </tr>\n",
       "    <tr>\n",
       "      <th>446</th>\n",
       "      <td>Sacramento Regional Transit District</td>\n",
       "      <td>Active</td>\n",
       "      <td>Sacramento</td>\n",
       "      <td>CA</td>\n",
       "      <td>90019</td>\n",
       "      <td>Sacramento, CA</td>\n",
       "      <td>Full Reporter</td>\n",
       "      <td>DR</td>\n",
       "      <td>TX</td>\n",
       "      <td>2023</td>\n",
       "      <td>0.0</td>\n",
       "      <td>Sacramento Regional Transit District</td>\n",
       "      <td>Full Reporter</td>\n",
       "      <td>Active</td>\n",
       "      <td>Sacramento</td>\n",
       "      <td>CA</td>\n",
       "      <td>Sacramento Area Council of Governments</td>\n",
       "      <td>both</td>\n",
       "      <td>0.0</td>\n",
       "      <td>0.0</td>\n",
       "      <td>NaN</td>\n",
       "    </tr>\n",
       "    <tr>\n",
       "      <th>447</th>\n",
       "      <td>Sacramento Regional Transit District</td>\n",
       "      <td>Active</td>\n",
       "      <td>Sacramento</td>\n",
       "      <td>CA</td>\n",
       "      <td>90019</td>\n",
       "      <td>Sacramento, CA</td>\n",
       "      <td>Full Reporter</td>\n",
       "      <td>DR</td>\n",
       "      <td>TN</td>\n",
       "      <td>2018</td>\n",
       "      <td>0.0</td>\n",
       "      <td>Sacramento Regional Transit District</td>\n",
       "      <td>Full Reporter</td>\n",
       "      <td>Active</td>\n",
       "      <td>Sacramento</td>\n",
       "      <td>CA</td>\n",
       "      <td>Sacramento Area Council of Governments</td>\n",
       "      <td>both</td>\n",
       "      <td>NaN</td>\n",
       "      <td>NaN</td>\n",
       "      <td>NaN</td>\n",
       "    </tr>\n",
       "    <tr>\n",
       "      <th>448</th>\n",
       "      <td>Sacramento Regional Transit District</td>\n",
       "      <td>Active</td>\n",
       "      <td>Sacramento</td>\n",
       "      <td>CA</td>\n",
       "      <td>90019</td>\n",
       "      <td>Sacramento, CA</td>\n",
       "      <td>Full Reporter</td>\n",
       "      <td>DT</td>\n",
       "      <td>PT</td>\n",
       "      <td>2018</td>\n",
       "      <td>0.0</td>\n",
       "      <td>Sacramento Regional Transit District</td>\n",
       "      <td>Full Reporter</td>\n",
       "      <td>Active</td>\n",
       "      <td>Sacramento</td>\n",
       "      <td>CA</td>\n",
       "      <td>Sacramento Area Council of Governments</td>\n",
       "      <td>both</td>\n",
       "      <td>NaN</td>\n",
       "      <td>NaN</td>\n",
       "      <td>NaN</td>\n",
       "    </tr>\n",
       "  </tbody>\n",
       "</table>\n",
       "</div>"
      ],
      "text/plain": [
       "                              agency_name agency_status        city state  \\\n",
       "444  Sacramento Regional Transit District        Active  Sacramento    CA   \n",
       "445  Sacramento Regional Transit District        Active  Sacramento    CA   \n",
       "446  Sacramento Regional Transit District        Active  Sacramento    CA   \n",
       "447  Sacramento Regional Transit District        Active  Sacramento    CA   \n",
       "448  Sacramento Regional Transit District        Active  Sacramento    CA   \n",
       "\n",
       "    ntd_id primary_uza_name  reporter_type mode service  year  upt  \\\n",
       "444  90019   Sacramento, CA  Full Reporter   DR      PT  2023  0.0   \n",
       "445  90019   Sacramento, CA  Full Reporter   DR      TX  2022  0.0   \n",
       "446  90019   Sacramento, CA  Full Reporter   DR      TX  2023  0.0   \n",
       "447  90019   Sacramento, CA  Full Reporter   DR      TN  2018  0.0   \n",
       "448  90019   Sacramento, CA  Full Reporter   DT      PT  2018  0.0   \n",
       "\n",
       "                        xwalk_agency_name xwalk_reporter_type  \\\n",
       "444  Sacramento Regional Transit District       Full Reporter   \n",
       "445  Sacramento Regional Transit District       Full Reporter   \n",
       "446  Sacramento Regional Transit District       Full Reporter   \n",
       "447  Sacramento Regional Transit District       Full Reporter   \n",
       "448  Sacramento Regional Transit District       Full Reporter   \n",
       "\n",
       "    xwalk_agency_status  xwalk_city xwalk_state  \\\n",
       "444              Active  Sacramento          CA   \n",
       "445              Active  Sacramento          CA   \n",
       "446              Active  Sacramento          CA   \n",
       "447              Active  Sacramento          CA   \n",
       "448              Active  Sacramento          CA   \n",
       "\n",
       "                                       RTPA _merge  previous_y_upt  \\\n",
       "444  Sacramento Area Council of Governments   both             0.0   \n",
       "445  Sacramento Area Council of Governments   both             0.0   \n",
       "446  Sacramento Area Council of Governments   both             0.0   \n",
       "447  Sacramento Area Council of Governments   both             NaN   \n",
       "448  Sacramento Area Council of Governments   both             NaN   \n",
       "\n",
       "     change_1yr  pct_change_1yr  \n",
       "444         0.0             NaN  \n",
       "445         0.0             NaN  \n",
       "446         0.0             NaN  \n",
       "447         NaN             NaN  \n",
       "448         NaN             NaN  "
      ]
     },
     "execution_count": 37,
     "metadata": {},
     "output_type": "execute_result"
    }
   ],
   "source": [
    "annual_ridership_report_data[annual_ridership_report_data[\"agency_name\"].str.contains(\"Sac\")].head()"
   ]
  },
  {
   "cell_type": "markdown",
   "id": "56f976cf-784a-4343-9fa0-706e7a67fd1c",
   "metadata": {},
   "source": [
    "### export report data to GCS, as parquet,\n",
    "- to be read in by portfolio"
   ]
  },
  {
   "cell_type": "code",
   "execution_count": 38,
   "id": "44bf1a2d-0a59-450b-9c4e-39cc3662a303",
   "metadata": {
    "tags": []
   },
   "outputs": [],
   "source": [
    "annual_ridership_report_data.to_parquet(f\"{GCS_FILE_PATH}annual_ridership_report_data.parquet\")"
   ]
  },
  {
   "cell_type": "markdown",
   "id": "2fb788cb-c1a8-4cb4-8670-fef703466bef",
   "metadata": {},
   "source": [
    "## read in data from GCS to make sure things work "
   ]
  },
  {
   "cell_type": "code",
   "execution_count": 39,
   "id": "3d36e8ea-88c4-41db-b2e8-31b53e92072f",
   "metadata": {
    "tags": []
   },
   "outputs": [],
   "source": [
    "report_data_check= pd.read_parquet(f\"{GCS_FILE_PATH}annual_ridership_report_data.parquet\")"
   ]
  },
  {
   "cell_type": "code",
   "execution_count": 40,
   "id": "2fd238f9-1897-4017-9519-d1fb183ebaad",
   "metadata": {},
   "outputs": [
    {
     "name": "stdout",
     "output_type": "stream",
     "text": [
      "<class 'pandas.core.frame.DataFrame'>\n",
      "Int64Index: 4038 entries, 0 to 4037\n",
      "Data columns (total 21 columns):\n",
      " #   Column               Non-Null Count  Dtype   \n",
      "---  ------               --------------  -----   \n",
      " 0   agency_name          4038 non-null   object  \n",
      " 1   agency_status        4038 non-null   object  \n",
      " 2   city                 4038 non-null   object  \n",
      " 3   state                4038 non-null   object  \n",
      " 4   ntd_id               4038 non-null   object  \n",
      " 5   primary_uza_name     4038 non-null   object  \n",
      " 6   reporter_type        4038 non-null   object  \n",
      " 7   mode                 4038 non-null   object  \n",
      " 8   service              4038 non-null   object  \n",
      " 9   year                 4038 non-null   object  \n",
      " 10  upt                  4038 non-null   float64 \n",
      " 11  xwalk_agency_name    4038 non-null   object  \n",
      " 12  xwalk_reporter_type  4038 non-null   object  \n",
      " 13  xwalk_agency_status  4038 non-null   object  \n",
      " 14  xwalk_city           4038 non-null   object  \n",
      " 15  xwalk_state          4038 non-null   object  \n",
      " 16  RTPA                 4038 non-null   object  \n",
      " 17  _merge               4038 non-null   category\n",
      " 18  previous_y_upt       3365 non-null   float64 \n",
      " 19  change_1yr           3365 non-null   float64 \n",
      " 20  pct_change_1yr       2257 non-null   float64 \n",
      "dtypes: category(1), float64(4), object(16)\n",
      "memory usage: 666.6+ KB\n"
     ]
    }
   ],
   "source": [
    "report_data_check.info()"
   ]
  }
 ],
 "metadata": {
  "kernelspec": {
   "display_name": "Python 3 (ipykernel)",
   "language": "python",
   "name": "python3"
  },
  "language_info": {
   "codemirror_mode": {
    "name": "ipython",
    "version": 3
   },
   "file_extension": ".py",
   "mimetype": "text/x-python",
   "name": "python",
   "nbconvert_exporter": "python",
   "pygments_lexer": "ipython3",
   "version": "3.11.10"
  }
 },
 "nbformat": 4,
 "nbformat_minor": 5
}
