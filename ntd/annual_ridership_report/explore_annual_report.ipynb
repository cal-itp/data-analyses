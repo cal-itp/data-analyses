{
 "cells": [
  {
   "cell_type": "code",
   "execution_count": 1,
   "id": "f69ce09b-de2a-4d6e-a5b9-d6fa2ecf2be2",
   "metadata": {},
   "outputs": [],
   "source": [
    "import sys\n",
    "\n",
    "sys.path.append(\"../\")  # up one level\n",
    "\n",
    "import os\n",
    "import shutil\n",
    "\n",
    "import gcsfs\n",
    "import geopandas as gpd\n",
    "import pandas as pd\n",
    "from calitp_data_analysis.sql import to_snakecase\n",
    "from calitp_data_analysis.tables import tbls\n",
    "from segment_speed_utils.project_vars import PUBLIC_GCS\n",
    "from siuba import _, collect, count, filter, show_query, select\n",
    "from update_vars import GCS_FILE_PATH, NTD_MODES, NTD_TOS\n",
    "\n",
    "GCS_FILE_PATH = \"gs://calitp-analytics-data/data-analyses/ntd/\"\n",
    "\n",
    "pd.set_option(\"display.max_rows\", None)\n",
    "pd.set_option(\"display.max_columns\", None)"
   ]
  },
  {
   "cell_type": "code",
   "execution_count": 2,
   "id": "ce13565d-10d2-47b9-b71a-aa8de86a0edd",
   "metadata": {},
   "outputs": [
    {
     "name": "stdout",
     "output_type": "stream",
     "text": [
      "<class 'pandas.core.frame.DataFrame'>\n",
      "RangeIndex: 315 entries, 0 to 314\n",
      "Data columns (total 10 columns):\n",
      " #   Column                                       Non-Null Count  Dtype  \n",
      "---  ------                                       --------------  -----  \n",
      " 0   report_year                                  315 non-null    int64  \n",
      " 1   ntd_id                                       315 non-null    object \n",
      " 2   agency                                       315 non-null    object \n",
      " 3   reporter_type                                315 non-null    object \n",
      " 4   organization_type                            315 non-null    object \n",
      " 5   city                                         312 non-null    object \n",
      " 6   primary_uza_name                             315 non-null    object \n",
      " 7   actual_vehicles_passenger_car_revenue_hours  315 non-null    float64\n",
      " 8   actual_vehicles_passenger_car_revenue_miles  315 non-null    float64\n",
      " 9   unlinked_passenger_trips_upt                 315 non-null    float64\n",
      "dtypes: float64(3), int64(1), object(6)\n",
      "memory usage: 24.7+ KB\n"
     ]
    }
   ],
   "source": [
    "# need to find a way to filter  ntd service to California agencies only.\n",
    "ntd_service = (\n",
    "    tbls.mart_ntd.dim_annual_service_agencies()\n",
    "    >> filter(_.primary_uza_name.str.contains(\", CA\"))\n",
    "    >> select(\n",
    "        \"report_year\",\n",
    "        \"ntd_id\",\n",
    "        \"agency\",\n",
    "        \"reporter_type\",\n",
    "        \"organization_type\",\n",
    "        \"city\",\n",
    "        \"primary_uza_name\",\n",
    "        \"actual_vehicles_passenger_car_revenue_hours\",\n",
    "        \"actual_vehicles_passenger_car_revenue_miles\",\n",
    "        \"unlinked_passenger_trips_upt\"\n",
    "    )\n",
    "    >> collect()\n",
    ")\n",
    "ntd_service.info()"
   ]
  },
  {
   "cell_type": "code",
   "execution_count": 3,
   "id": "9235041b-e66c-4f0d-958f-93c427ad4ac7",
   "metadata": {},
   "outputs": [
    {
     "name": "stdout",
     "output_type": "stream",
     "text": [
      "<class 'pandas.core.frame.DataFrame'>\n",
      "RangeIndex: 122 entries, 0 to 121\n",
      "Data columns (total 6 columns):\n",
      " #   Column          Non-Null Count  Dtype \n",
      "---  ------          --------------  ----- \n",
      " 0   ntd_id          122 non-null    object\n",
      " 1   Legacy NTD ID   111 non-null    object\n",
      " 2   Agency          122 non-null    object\n",
      " 3   UZA Name        121 non-null    object\n",
      " 4   RTPA_open_data  122 non-null    object\n",
      " 5   RTPA            122 non-null    object\n",
      "dtypes: object(6)\n",
      "memory usage: 5.8+ KB\n"
     ]
    }
   ],
   "source": [
    "# reading in NTD ID crosswalk from GCS\n",
    "crosswalk = pd.read_csv(\n",
    "    f\"{GCS_FILE_PATH}ntd_id_rtpa_crosswalk.csv\", dtype={\"ntd_id\": \"str\"}\n",
    ").rename(columns={\"NTD ID\": \"ntd_id\"})\n",
    "\n",
    "crosswalk.info()"
   ]
  },
  {
   "cell_type": "code",
   "execution_count": 4,
   "id": "3e1bc178-b8c6-460a-a5d2-c6269d06577c",
   "metadata": {
    "tags": []
   },
   "outputs": [
    {
     "data": {
      "text/plain": [
       "agency                                                                          reporter_type   \n",
       "Los Angeles County                                                              Reduced Reporter    10\n",
       "City of Agoura Hills                                                            Reduced Reporter     2\n",
       "City of Pico Rivera                                                             Reduced Reporter     2\n",
       "City of Downey                                                                  Reduced Reporter     2\n",
       "City of Glendora                                                                Reduced Reporter     2\n",
       "City of Huntington Park                                                         Reduced Reporter     2\n",
       "City of Lakewood , dba: DASH Transit                                            Reduced Reporter     2\n",
       "City of Malibu                                                                  Reduced Reporter     2\n",
       "City of Manteca, dba: Manteca Transit                                           Reduced Reporter     2\n",
       "City of Maywood                                                                 Reduced Reporter     2\n",
       "City of Santa Fe Springs                                                        Reduced Reporter     2\n",
       "City of Covina                                                                  Reduced Reporter     2\n",
       "City of South Gate                                                              Reduced Reporter     2\n",
       "City of South Pasadena                                                          Reduced Reporter     2\n",
       "City of West Covina                                                             Reduced Reporter     2\n",
       "City of West Hollywood                                                          Reduced Reporter     2\n",
       "City of Whittier                                                                Reduced Reporter     2\n",
       "County of Ventura                                                               Reduced Reporter     2\n",
       "Easy Lift Transportation                                                        Reduced Reporter     2\n",
       "City of Davis, dba: Davis Community Transit                                     Reduced Reporter     2\n",
       "City of Manhattan Beach , dba: City of Manhattan Beach Dial-A-Ride              Reduced Reporter     2\n",
       "Palos Verdes Peninsula Transit Authority                                        Reduced Reporter     2\n",
       "City of Camarillo, dba: Camarillo Area Transit                                  Reduced Reporter     2\n",
       "City of Bell                                                                    Reduced Reporter     2\n",
       "City of Baldwin Park, dba: Baldwin Park Transit                                 Reduced Reporter     2\n",
       "City of Azusa                                                                   Reduced Reporter     2\n",
       "City of Artesia                                                                 Reduced Reporter     2\n",
       "City of Burbank                                                                 Reduced Reporter     2\n",
       "City of Calabasas                                                               Reduced Reporter     2\n",
       "City of Bell Gardens                                                            Reduced Reporter     2\n",
       "City of Bellflower                                                              Reduced Reporter     2\n",
       "City of Compton  , dba: Compton Renaissance Transit Service                     Reduced Reporter     2\n",
       "City of Carson                                                                  Reduced Reporter     2\n",
       "Los Angeles County Dept. of Public Works - King Medical Center Shuttle Service  Reduced Reporter     1\n",
       "City of Alhambra, dba: Alhambra Community Transit  aka ACT                      Reduced Reporter     1\n",
       "City of Tracy                                                                   Reduced Reporter     1\n",
       "City of Tracy, dba: TRACER                                                      Reduced Reporter     1\n",
       "Madera County                                                                   Rural Reporter       1\n",
       "                                                                                Reduced Reporter     1\n",
       "City of Atascadero, dba: Atascadero Dial A Ride                                 Reduced Reporter     1\n",
       "City of Atascadero                                                              Reduced Reporter     1\n",
       "Los Angeles County, dba: LA County Public Works                                 Reduced Reporter     1\n",
       "Los Angeles County Department of Public Works - Avocado Heights                 Reduced Reporter     1\n",
       "Los Angeles County Dept. of Public Works - Lennox Shuttle                       Reduced Reporter     1\n",
       "Los Angeles County Department of Public Works - East L.A.                       Reduced Reporter     1\n",
       "Los Angeles County Dept. of Public Works - Willowbrook et al.                   Reduced Reporter     1\n",
       "Los Angeles County Department of Public Works - East Valinda                    Reduced Reporter     1\n",
       "Los Angeles County Dept. of Public Works - Willowbrook Shuttle                  Reduced Reporter     1\n",
       "Los Angeles County Department of Public Works - Whittier                        Reduced Reporter     1\n",
       "Los Angeles County Dept. of Public Works - Athens Shuttle Service               Reduced Reporter     1\n",
       "Los Angeles County Dept. of Public Works - Florence-Firestone                   Reduced Reporter     1\n",
       "Los Angeles County Department of Public Works - South Whittier                  Reduced Reporter     1\n",
       "City of Cudahy                                                                  Reduced Reporter     1\n",
       "City of Rosemead, dba: Rosemead Explorer/Dial-A-Ride                            Reduced Reporter     1\n",
       "City of Cudahy, dba: Cudahy Area Rapid Transit                                  Reduced Reporter     1\n",
       "City of Cerritos, dba: Cerritos Transit Services                                Reduced Reporter     1\n",
       "City of El Monte                                                                Reduced Reporter     1\n",
       "City of El Monte , dba: City of El Monte Transportation Division                Reduced Reporter     1\n",
       "City of Escalon, dba: eTrans                                                    Reduced Reporter     1\n",
       "City of Cerritos                                                                Reduced Reporter     1\n",
       "City of Inglewood                                                               Reduced Reporter     1\n",
       "City of Inglewood, dba: Inglewood Senior Center                                 Reduced Reporter     1\n",
       "City of Lynwood                                                                 Reduced Reporter     1\n",
       "City of Lynwood, dba: Lynwood Breeze                                            Reduced Reporter     1\n",
       "City of Madera                                                                  Reduced Reporter     1\n",
       "City of Madera, dba: Madera Metro                                               Reduced Reporter     1\n",
       "City of Alhambra, dba: Alhambra Community Transit                               Reduced Reporter     1\n",
       "City of Beverly Hills, dba: Beverly Hills Dial-A-Ride                           Reduced Reporter     1\n",
       "City of Monrovia                                                                Reduced Reporter     1\n",
       "City of Monrovia, dba: GoMonrovia                                               Reduced Reporter     1\n",
       "City of Monterey Park                                                           Reduced Reporter     1\n",
       "City of Monterey Park, dba: Spirit Bus                                          Reduced Reporter     1\n",
       "City of Moorpark                                                                Reduced Reporter     1\n",
       "City of Moorpark, dba: Moorpark City Transit                                    Reduced Reporter     1\n",
       "City of Ojai                                                                    Reduced Reporter     1\n",
       "City of Beverly Hills                                                           Reduced Reporter     1\n",
       "City of Rosemead                                                                Reduced Reporter     1\n",
       "dtype: int64"
      ]
     },
     "execution_count": 4,
     "metadata": {},
     "output_type": "execute_result"
    }
   ],
   "source": [
    "# are all agencies in the ntd_service in the crosswalk?\n",
    "check = ntd_service.merge(crosswalk, on=\"ntd_id\", how=\"left\", indicator=True)\n",
    "\n",
    "# check to see if any agencies in ntd_service did not merge.\n",
    "check[check[\"_merge\"] == \"left_only\"][[\"agency\", \"reporter_type\"]].value_counts()\n",
    "\n",
    "# the rural reporters did not merge with an NTD ID from crosswalk"
   ]
  },
  {
   "cell_type": "code",
   "execution_count": 5,
   "id": "d78af83b-a934-4d1f-bbac-e1a66704709f",
   "metadata": {
    "tags": []
   },
   "outputs": [],
   "source": [
    "# crosswalk[[\"UZA Name\", \"RTPA\"]].sort_values(by=\"UZA Name\")"
   ]
  },
  {
   "cell_type": "markdown",
   "id": "ea1dcc86-1cce-4cf4-984c-68a0f2bf1c26",
   "metadata": {
    "tags": []
   },
   "source": [
    "Some UZA Names can go to multiple RTPAs\n",
    "- some agencies in the Sacramento UZA go to Sac and Placer RTPA\n",
    "- some agencies in LA UZA got to Metro or OCTA\n"
   ]
  },
  {
   "cell_type": "markdown",
   "id": "69fad4c2-710d-4980-b4df-b5a69b0d3072",
   "metadata": {},
   "source": [
    "## Maybe its easier to find the RTPA of the rural/reduced reporter agencies\n",
    "- how many rural/reduced reporters are there?\n"
   ]
  },
  {
   "cell_type": "code",
   "execution_count": 6,
   "id": "1ef1de4e-0371-45e7-ba80-52ed1c7e9a2e",
   "metadata": {
    "tags": []
   },
   "outputs": [
    {
     "data": {
      "text/plain": [
       "Full Reporter       165\n",
       "Reduced Reporter    148\n",
       "Rural Reporter        2\n",
       "Name: reporter_type, dtype: int64"
      ]
     },
     "execution_count": 6,
     "metadata": {},
     "output_type": "execute_result"
    }
   ],
   "source": [
    "ntd_service[\"reporter_type\"].value_counts()"
   ]
  },
  {
   "cell_type": "code",
   "execution_count": 8,
   "id": "8683c369-f117-44a3-aae7-f38f99a74d99",
   "metadata": {
    "tags": []
   },
   "outputs": [],
   "source": [
    "rural_reduced_reporters = ntd_service[ntd_service[\"reporter_type\"]!=\"Full Reporter\"].sort_values(by=\"primary_uza_name\")"
   ]
  },
  {
   "cell_type": "code",
   "execution_count": 9,
   "id": "6885fc4a-ec7a-4779-aebe-5ba2633a2d35",
   "metadata": {},
   "outputs": [],
   "source": [
    "#rural_reduced_reporters.to_csv(\"rural_reduced_reporters.csv\")"
   ]
  },
  {
   "cell_type": "markdown",
   "id": "e043506e-0e1a-42c6-8432-1030bda62f80",
   "metadata": {},
   "source": [
    "## Get all operators from RTPA using function from Tiffany\n",
    "\n",
    "via [slack thread](https://cal-itp.slack.com/archives/C02H6JUSS9L/p1729102048291249)\n",
    "\n",
    "initial work done in `rtpa_operator_explore.ipynb`\n",
    "\n",
    "- rip `create_gtfs_dataset_key_to_organization_crosswalk` function from `gtfs_funnel/crosswalk_gtfs_dataset_key_to_organization.py`\n",
    "- rip any date from GCS (latest is 2025-01-15) `calitp-analytics-data/data-analyses/gtfs_schedule/crosswalk`\n",
    "- find the corresponding crosswalk by date (2025-01-15) via `calitp-analytics-data/data-analyses/gtfs_schedule/crosswalk`\n",
    "\n",
    "can use these 2 dataframes to go from `schedule_gtfs_dataset_key (operator)` > `ntd_id`\n",
    "\n",
    "A single schedule feed can have multiple operators. This is how you identify "
   ]
  },
  {
   "cell_type": "code",
   "execution_count": 26,
   "id": "784df479-2a58-4986-b613-c0e883450cfc",
   "metadata": {
    "tags": []
   },
   "outputs": [],
   "source": [
    "# need this to run `create_gtfs_dataset_key_to_organzaition_crosswalk`\n",
    "from shared_utils.schedule_rt_utils import sample_gtfs_dataset_key_to_organization_crosswalk\n",
    "from segment_speed_utils import helpers"
   ]
  },
  {
   "cell_type": "code",
   "execution_count": 27,
   "id": "d383169e-6581-44d3-b738-90ad11c5c242",
   "metadata": {
    "tags": []
   },
   "outputs": [],
   "source": [
    "def create_gtfs_dataset_key_to_organization_crosswalk(\n",
    "    analysis_date: str\n",
    ") -> pd.DataFrame:\n",
    "    \"\"\"\n",
    "    For every operator that appears in schedule data, \n",
    "    create a crosswalk that links to organization_source_record_id.\n",
    "    For all our downstream outputs, at various aggregations,\n",
    "    we need to attach these over and over again.\n",
    "    \"\"\"\n",
    "    df = helpers.import_scheduled_trips(\n",
    "        analysis_date,\n",
    "        columns = [\"gtfs_dataset_key\", \"name\"],\n",
    "        get_pandas = True\n",
    "    ).rename(columns = {\"schedule_gtfs_dataset_key\": \"gtfs_dataset_key\"})\n",
    "    # rename columns because we must use simply gtfs_dataset_key in schedule_rt_utils function\n",
    "    \n",
    "    # Get base64_url, organization_source_record_id and organization_name\n",
    "    crosswalk = sample_gtfs_dataset_key_to_organization_crosswalk(\n",
    "        df,\n",
    "        analysis_date,\n",
    "        quartet_data = \"schedule\",\n",
    "        dim_gtfs_dataset_cols = [\"key\", \"source_record_id\", \"base64_url\"],\n",
    "        dim_organization_cols = [\"source_record_id\", \"name\", \n",
    "                                 \"itp_id\", \"caltrans_district\",\n",
    "                                  \"ntd_id_2022\"]\n",
    "    )\n",
    "\n",
    "    df_with_org = pd.merge(\n",
    "        df.rename(columns = {\"gtfs_dataset_key\": \"schedule_gtfs_dataset_key\"}),\n",
    "        crosswalk,\n",
    "        on = \"schedule_gtfs_dataset_key\",\n",
    "        how = \"inner\"\n",
    "    )\n",
    "    \n",
    "    return df_with_org"
   ]
  },
  {
   "cell_type": "code",
   "execution_count": 34,
   "id": "e9d5aa3d-9209-4bc6-b7a6-4aa5a0f25800",
   "metadata": {
    "tags": []
   },
   "outputs": [],
   "source": [
    "# get gtfs to org df\n",
    "gtfs_to_org = create_gtfs_dataset_key_to_organization_crosswalk(\n",
    "            \"2025-01-15\"\n",
    "        )\n",
    "\n",
    "# initialize gtfs rosswalk\n",
    "jan_crosswalk = pd.read_parquet(\n",
    "    \"gs://calitp-analytics-data/data-analyses/gtfs_schedule/crosswalk/gtfs_key_organization_2025-01-15.parquet\"\n",
    ")"
   ]
  },
  {
   "cell_type": "code",
   "execution_count": 37,
   "id": "2634408f-593a-43dd-9017-4e81415ce9bb",
   "metadata": {
    "tags": []
   },
   "outputs": [],
   "source": [
    "# initialize ntd to rtpa crosswak\n",
    "ntd_rtpa_crosswalk= pd.read_csv(\n",
    "        f\"gs://calitp-analytics-data/data-analyses/ntd/ntd_id_rtpa_crosswalk.csv\", \n",
    "        dtype = {\"NTD ID\": \"str\"}\n",
    "    #have to rename NTD ID col to match the dim table\n",
    "    ).rename(columns={\"NTD ID\": \"ntd_id\"})"
   ]
  },
  {
   "cell_type": "code",
   "execution_count": null,
   "id": "ebe9027b-8611-47c9-9759-ef8fe78dd29f",
   "metadata": {},
   "outputs": [],
   "source": []
  },
  {
   "cell_type": "code",
   "execution_count": 39,
   "id": "03da5c8f-b3aa-4147-b14e-9c2d29b53685",
   "metadata": {
    "tags": []
   },
   "outputs": [
    {
     "name": "stdout",
     "output_type": "stream",
     "text": [
      "<class 'pandas.core.frame.DataFrame'>\n",
      "Int64Index: 216 entries, 0 to 215\n",
      "Data columns (total 10 columns):\n",
      " #   Column                         Non-Null Count  Dtype  \n",
      "---  ------                         --------------  -----  \n",
      " 0   schedule_gtfs_dataset_key      216 non-null    object \n",
      " 1   name                           216 non-null    object \n",
      " 2   schedule_source_record_id      216 non-null    object \n",
      " 3   base64_url                     216 non-null    object \n",
      " 4   organization_source_record_id  216 non-null    object \n",
      " 5   organization_name              216 non-null    object \n",
      " 6   itp_id                         204 non-null    float64\n",
      " 7   caltrans_district_x            214 non-null    object \n",
      " 8   ntd_id_2022                    172 non-null    object \n",
      " 9   caltrans_district_y            216 non-null    object \n",
      "dtypes: float64(1), object(9)\n",
      "memory usage: 18.6+ KB\n",
      "<class 'pandas.core.frame.DataFrame'>\n",
      "Int64Index: 216 entries, 0 to 215\n",
      "Data columns (total 30 columns):\n",
      " #   Column                             Non-Null Count  Dtype  \n",
      "---  ------                             --------------  -----  \n",
      " 0   schedule_gtfs_dataset_key          216 non-null    object \n",
      " 1   name                               216 non-null    object \n",
      " 2   schedule_source_record_id          216 non-null    object \n",
      " 3   base64_url                         216 non-null    object \n",
      " 4   organization_source_record_id      216 non-null    object \n",
      " 5   organization_name                  216 non-null    object \n",
      " 6   caltrans_district                  216 non-null    object \n",
      " 7   counties_served                    122 non-null    object \n",
      " 8   hq_city                            156 non-null    object \n",
      " 9   hq_county                          124 non-null    object \n",
      " 10  is_public_entity                   124 non-null    object \n",
      " 11  is_publicly_operating              124 non-null    object \n",
      " 12  funding_sources                    102 non-null    object \n",
      " 13  on_demand_vehicles_at_max_service  65 non-null     Int64  \n",
      " 14  vehicles_at_max_service            158 non-null    Int64  \n",
      " 15  number_of_state_counties           0 non-null      Int64  \n",
      " 16  primary_uza_name                   125 non-null    object \n",
      " 17  density                            126 non-null    float64\n",
      " 18  number_of_counties_with_service    0 non-null      Int64  \n",
      " 19  state_admin_funds_expended         0 non-null      float64\n",
      " 20  service_area_sq_miles              122 non-null    Int64  \n",
      " 21  population                         126 non-null    float64\n",
      " 22  service_area_pop                   122 non-null    Int64  \n",
      " 23  subrecipient_type                  33 non-null     object \n",
      " 24  primary_uza_code                   0 non-null      object \n",
      " 25  reporter_type                      158 non-null    object \n",
      " 26  organization_type                  158 non-null    object \n",
      " 27  voms_pt                            129 non-null    Int64  \n",
      " 28  voms_do                            66 non-null     Int64  \n",
      " 29  year                               158 non-null    Int64  \n",
      "dtypes: Int64(9), float64(3), object(18)\n",
      "memory usage: 54.2+ KB\n",
      "<class 'pandas.core.frame.DataFrame'>\n",
      "RangeIndex: 122 entries, 0 to 121\n",
      "Data columns (total 6 columns):\n",
      " #   Column          Non-Null Count  Dtype \n",
      "---  ------          --------------  ----- \n",
      " 0   ntd_id          122 non-null    int64 \n",
      " 1   Legacy NTD ID   111 non-null    object\n",
      " 2   Agency          122 non-null    object\n",
      " 3   UZA Name        121 non-null    object\n",
      " 4   RTPA_open_data  122 non-null    object\n",
      " 5   RTPA            122 non-null    object\n",
      "dtypes: int64(1), object(5)\n",
      "memory usage: 5.8+ KB\n",
      "<class 'pandas.core.frame.DataFrame'>\n",
      "Int64Index: 150 entries, 313 to 173\n",
      "Data columns (total 10 columns):\n",
      " #   Column                                       Non-Null Count  Dtype  \n",
      "---  ------                                       --------------  -----  \n",
      " 0   report_year                                  150 non-null    int64  \n",
      " 1   ntd_id                                       150 non-null    object \n",
      " 2   agency                                       150 non-null    object \n",
      " 3   reporter_type                                150 non-null    object \n",
      " 4   organization_type                            150 non-null    object \n",
      " 5   city                                         147 non-null    object \n",
      " 6   primary_uza_name                             150 non-null    object \n",
      " 7   actual_vehicles_passenger_car_revenue_hours  150 non-null    float64\n",
      " 8   actual_vehicles_passenger_car_revenue_miles  150 non-null    float64\n",
      " 9   unlinked_passenger_trips_upt                 150 non-null    float64\n",
      "dtypes: float64(3), int64(1), object(6)\n",
      "memory usage: 12.9+ KB\n"
     ]
    },
    {
     "data": {
      "text/plain": [
       "None"
      ]
     },
     "metadata": {},
     "output_type": "display_data"
    },
    {
     "data": {
      "text/plain": [
       "None"
      ]
     },
     "metadata": {},
     "output_type": "display_data"
    },
    {
     "data": {
      "text/plain": [
       "None"
      ]
     },
     "metadata": {},
     "output_type": "display_data"
    },
    {
     "data": {
      "text/plain": [
       "None"
      ]
     },
     "metadata": {},
     "output_type": "display_data"
    }
   ],
   "source": [
    "display(gtfs_to_org.info(),\n",
    "        jan_crosswalk.info(),\n",
    "        ntd_rtpa_crosswalk.info(),\n",
    "        rural_reduced_reporters.info() #are these operaotrs in the gtfs to org?\n",
    "       )\n"
   ]
  },
  {
   "cell_type": "code",
   "execution_count": null,
   "id": "76bfe1eb-7264-4cbe-abef-dfb609183ed5",
   "metadata": {},
   "outputs": [],
   "source": []
  }
 ],
 "metadata": {
  "kernelspec": {
   "display_name": "Python 3 (ipykernel)",
   "language": "python",
   "name": "python3"
  },
  "language_info": {
   "codemirror_mode": {
    "name": "ipython",
    "version": 3
   },
   "file_extension": ".py",
   "mimetype": "text/x-python",
   "name": "python",
   "nbconvert_exporter": "python",
   "pygments_lexer": "ipython3",
   "version": "3.11.6"
  }
 },
 "nbformat": 4,
 "nbformat_minor": 5
}
