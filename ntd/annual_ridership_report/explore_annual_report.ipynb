{
 "cells": [
  {
   "cell_type": "code",
   "execution_count": null,
   "id": "f69ce09b-de2a-4d6e-a5b9-d6fa2ecf2be2",
   "metadata": {},
   "outputs": [],
   "source": [
    "import os\n",
    "import shutil\n",
    "import sys\n",
    "\n",
    "import altair as alt\n",
    "import annual_ridership_module\n",
    "import gcsfs\n",
    "import geopandas as gpd\n",
    "import pandas as pd\n",
    "from calitp_data_analysis.sql import to_snakecase\n",
    "from calitp_data_analysis.tables import tbls\n",
    "\n",
    "# from segment_speed_utils.project_vars import PUBLIC_GCS\n",
    "from siuba import _, collect, count, filter, select, show_query\n",
    "\n",
    "sys.path.append(\"../\")  # up one level\n",
    "from update_vars import GCS_FILE_PATH, MONTH, NTD_MODES, NTD_TOS, YEAR\n",
    "\n",
    "GCS_FILE_PATH = \"gs://calitp-analytics-data/data-analyses/ntd/\"\n",
    "\n",
    "pd.set_option(\"display.max_rows\", None)\n",
    "pd.set_option(\"display.max_columns\", None)"
   ]
  },
  {
   "cell_type": "markdown",
   "id": "baf9e1fa-bb91-4fd9-b831-3cdfd3737058",
   "metadata": {},
   "source": [
    "## 6/4/2025 Switch over to from `ntd_id_to_rtpa_xwalk` to  `dim_organizations.rtpa_name`\n",
    "- dim_organizations now includes a rtpa_name column. Orgs without an rtpa_name were filled in accordingly.\n",
    "- No need to use use the old xwalk, so adjust code to integrate rtpa data from dim_orgs\n",
    "\n",
    "## Work plan\n",
    "1. edit the `produce_ntd_ridership_data_by_rtpa` function to:\n",
    "    - replace old xwalk with `dim_orgs`\n",
    "    - COMPLETE ~~adjust unmerged Los Angeles County rows to its own rtpa `Los Angeles County Department of Public Works`~~\n",
    "    - COMPLETE ~~update SCAG agencies to their county CTC~~\n",
    "2. **COMPLETE** ~~update the `deploy_portfolio_yaml` file to:~~\n",
    "    - ~~get RTPA data from `dim_orgs`~~\n",
    "    - ~~append `Los Angeles County Department of Public Works` to the list of unique RTPA names~~\n",
    "3. Update total upt bar chart\n",
    "    - make horizontal bars\n",
    "    - add data labels to end of bars\n",
    "    - move legend to bottom\n",
    "    \n",
    "    "
   ]
  },
  {
   "cell_type": "markdown",
   "id": "21926355-3e1f-4f33-81a2-9660f7b7167d",
   "metadata": {},
   "source": [
    "### updated functions"
   ]
  },
  {
   "cell_type": "code",
   "execution_count": null,
   "id": "2467be3e-bfb4-42eb-9c6c-40d4630fbc9a",
   "metadata": {
    "tags": []
   },
   "outputs": [],
   "source": [
    "# MIGRATED TO MODULE 6/18/2025\n",
    "# to be used within the big function\n",
    "\n",
    "def ntd_id_to_rtpa_crosswalk(split_scag:bool) -> pd.DataFrame:\n",
    "    \"\"\"\n",
    "    Creates ntd_id to rtpa crosswalk. Reads in dim_orgs, merge in county data from bridge table.\n",
    "    enable split_scag to separate the SCAG to individual county CTC for RTPA. disable split_scag to have all socal counties keep SCAG as RTPA\n",
    "    \n",
    "    \"\"\"\n",
    "    #split socal counties to county CTC\n",
    "    socal_county_dict = {\n",
    "        \"Ventura\": \"Ventura County Transportation Commission\",\n",
    "        \"Los Angeles\": \"Los Angeles County Metropolitan Transportation Authority\",\n",
    "        \"San Bernardino\": \"San Bernardino County Transportation Authority\",\n",
    "        \"Riverside\": \"Riverside County Transportation Commission\",\n",
    "        \"Orange\": \"Orange County Transportation Authority\",\n",
    "    }\n",
    "    \n",
    "    # Get agencies and RTPA name\n",
    "    ntd_rtpa_orgs = (\n",
    "        tbls.mart_transit_database.dim_organizations()\n",
    "        >> filter(\n",
    "            _._is_current == True,\n",
    "            _.ntd_id_2022.notna(),\n",
    "            _.rtpa_name.notna(),\n",
    "        )\n",
    "        >> select(\n",
    "            _.name, \n",
    "            _.ntd_id_2022, \n",
    "            _.rtpa_name, \n",
    "            _.mpo_name, \n",
    "            _.key\n",
    "        )\n",
    "        >> collect()\n",
    "    )\n",
    "\n",
    "    # join bridge org county geo to get agency counties\n",
    "    bridge_counties = (\n",
    "        tbls.mart_transit_database.bridge_organizations_x_headquarters_county_geography()\n",
    "        >> filter(\n",
    "            _._is_current == True\n",
    "        )\n",
    "        >> select(\n",
    "            _.county_geography_name, \n",
    "            _.organization_key\n",
    "        )\n",
    "        >> collect()\n",
    "    )\n",
    "    \n",
    "    # merge to get crosswalk\n",
    "    ntd_to_rtpa_crosswalk = ntd_rtpa_orgs.merge(\n",
    "        bridge_counties, \n",
    "        left_on=\"key\", \n",
    "        right_on=\"organization_key\", \n",
    "        how=\"left\"\n",
    "    )\n",
    "    \n",
    "    # locate SoCal counties, replace initial RTPA name with dictionary.\n",
    "    if split_scag == True:\n",
    "        ntd_to_rtpa_crosswalk.loc[\n",
    "            ntd_to_rtpa_crosswalk[\"county_geography_name\"].isin(\n",
    "                socal_county_dict.keys()\n",
    "            ),\n",
    "            \"rtpa_name\",\n",
    "        ] = ntd_to_rtpa_crosswalk[\"county_geography_name\"].map(socal_county_dict)\n",
    "        \n",
    "    return ntd_to_rtpa_crosswalk"
   ]
  },
  {
   "cell_type": "code",
   "execution_count": null,
   "id": "82b0c159-d651-4698-bfa2-f963782caaf4",
   "metadata": {},
   "outputs": [],
   "source": [
    "## update function\n",
    "min_year = 2018\n",
    "\n",
    "def produce_annual_ntd_ridership_data_by_rtpa(min_year: str, split_scag: bool) -> pd.DataFrame:\n",
    "    \"\"\"\n",
    "    Function that ingest time series ridership data from `mart_ntd_funding_and_expenses.fct_service..._by_mode_upt`. \n",
    "    Filters for CA agencies with last report year and year of data greater than min_year\n",
    "    Merges in ntd_id_to_rtpa_crosswalk function. Aggregates by agency, mode and TOS. calculates change in UPT.\n",
    "    \"\"\"\n",
    "    from annual_ridership_module import add_change_columns\n",
    "    \n",
    "    \n",
    "    print(\"ingest annual ridership data from warehouse\")\n",
    "    \n",
    "    ntd_service =(\n",
    "        tbls.mart_ntd_funding_and_expenses.fct_service_data_and_operating_expenses_time_series_by_mode_upt()\n",
    "        >> filter(\n",
    "            _.year >= min_year,\n",
    "            _.last_report_year >= min_year,\n",
    "            _.primary_uza_name.str.contains(\", CA\") | \n",
    "            _.primary_uza_name.str.contains(\"CA-NV\") |\n",
    "            _.primary_uza_name.str.contains(\"California Non-UZA\") \n",
    "        )\n",
    "        >> select(\n",
    "            'source_agency',\n",
    "            'agency_status',\n",
    "            'legacy_ntd_id',\n",
    "            'last_report_year',\n",
    "            'mode',\n",
    "            'ntd_id',\n",
    "            'reporter_type',\n",
    "            'reporting_module',\n",
    "            'service',\n",
    "            'uace_code',\n",
    "            'primary_uza_name',\n",
    "            'uza_population',\n",
    "            'year',\n",
    "            'upt',\n",
    "        )\n",
    "        >> collect())\n",
    "    \n",
    "    ntd_service = (\n",
    "        ntd_service.groupby(\n",
    "            [\n",
    "                \"source_agency\",\n",
    "                \"agency_status\",\n",
    "                #\"city\",\n",
    "                #\"state\",\n",
    "                \"ntd_id\",\n",
    "                \"primary_uza_name\",\n",
    "                \"reporter_type\",\n",
    "                \"mode\",\n",
    "                \"service\",\n",
    "                \"last_report_year\",\n",
    "                \"year\",\n",
    "            ]\n",
    "        )\n",
    "        .agg({\"upt\": \"sum\"})\n",
    "        .sort_values(by=\"ntd_id\")\n",
    "        .reset_index()\n",
    "    )\n",
    "    \n",
    "    print(\"create crosswalk from ntd_id_to_rtpa_crosswalk function\")\n",
    "    \n",
    "    # Creating crosswalk\n",
    "    ntd_to_rtpa_crosswalk = ntd_id_to_rtpa_crosswalk(split_scag=split_scag)\n",
    "    \n",
    "    \n",
    "    \n",
    "    print(\"merge ntd data to crosswalk\")\n",
    "    # merge service data to crosswalk\n",
    "    ntd_data_by_rtpa = ntd_service.merge(\n",
    "        ntd_to_rtpa_crosswalk,\n",
    "        how=\"left\",\n",
    "        left_on=[\n",
    "            \"ntd_id\",\n",
    "            # \"agency\", \"reporter_type\", \"city\" # sometime agency name, reporter type and city name change or are inconsistent, causing possible fanout\n",
    "        ],\n",
    "        right_on=\"ntd_id_2022\",\n",
    "        indicator=True,\n",
    "    )\n",
    "    \n",
    "    # list of ntd_id with LA County Dept of Public Works name\n",
    "    lacdpw_list = [\n",
    "        \"90269\",\n",
    "        \"90270\",\n",
    "        \"90272\",\n",
    "        \"90273\",\n",
    "        \"90274\",\n",
    "        \"90275\",\n",
    "        \"90276\",\n",
    "        \"90277\",\n",
    "        \"90278\",\n",
    "        \"90279\",\n",
    "    ]\n",
    "    \n",
    "    ntd_data_by_rtpa.loc[\n",
    "        ntd_data_by_rtpa[\"ntd_id\"].isin(lacdpw_list), [\"rtpa_name\", \"_merge\"]\n",
    "    ] = [\"Los Angeles County Department of Public Works\", \"both\"]\n",
    "    \n",
    "    print(ntd_data_by_rtpa._merge.value_counts())\n",
    "        \n",
    "    if len(ntd_data_by_rtpa[ntd_data_by_rtpa._merge==\"left_only\"]) > 0:\n",
    "        raise ValueError(\"There are unmerged rows to crosswalk\")\n",
    "    \n",
    "    print(\"add `change_column` to data\")\n",
    "    ntd_data_by_rtpa = annual_ridership_module.add_change_columns(ntd_data_by_rtpa)\n",
    "    \n",
    "    print(\"map mode and tos desc.\")\n",
    "    ntd_data_by_rtpa = ntd_data_by_rtpa.assign(\n",
    "        mode_full = ntd_data_by_rtpa[\"mode\"].map(NTD_MODES),\n",
    "        service_full = ntd_data_by_rtpa[\"service\"].map(NTD_TOS)\n",
    "    )\n",
    "    \n",
    "    return ntd_data_by_rtpa"
   ]
  },
  {
   "cell_type": "code",
   "execution_count": null,
   "id": "1031c5d7-f19c-46b7-8e3b-566c1c682722",
   "metadata": {
    "tags": []
   },
   "outputs": [],
   "source": [
    "annual_repport_data_no_split = produce_annual_ntd_ridership_data_by_rtpa(min_year= min_year, split_scag=False)"
   ]
  },
  {
   "cell_type": "code",
   "execution_count": null,
   "id": "b72e40dc-b148-4310-b55c-4c8a19b66b0c",
   "metadata": {
    "tags": []
   },
   "outputs": [],
   "source": [
    "annual_repport_data_w_split = produce_annual_ntd_ridership_data_by_rtpa(min_year= min_year, split_scag=True)"
   ]
  },
  {
   "cell_type": "code",
   "execution_count": null,
   "id": "328df55d-e301-4beb-9c56-bc28d4e06584",
   "metadata": {
    "tags": []
   },
   "outputs": [],
   "source": [
    "annual_repport_data_no_split"
   ]
  },
  {
   "cell_type": "code",
   "execution_count": null,
   "id": "2e0224ce-2a79-4317-9a7e-6164dc67abc5",
   "metadata": {
    "tags": []
   },
   "outputs": [],
   "source": [
    "annual_repport_data_w_split.info()"
   ]
  },
  {
   "cell_type": "code",
   "execution_count": null,
   "id": "290abdae-3bb7-4361-bf5e-3e000054940c",
   "metadata": {
    "tags": []
   },
   "outputs": [],
   "source": [
    "annual_repport_data_w_split= ntd_id_to_rtpa_crosswalk(min_year=min_year, split_scag=True)"
   ]
  },
  {
   "cell_type": "code",
   "execution_count": null,
   "id": "61a3a4ac-dc48-4a89-9783-4c983adc8881",
   "metadata": {
    "tags": []
   },
   "outputs": [],
   "source": [
    "annual_repport_data_w_split.head()"
   ]
  },
  {
   "cell_type": "code",
   "execution_count": null,
   "id": "fd983c69-3797-4b37-b0d2-e242cee34208",
   "metadata": {
    "tags": []
   },
   "outputs": [],
   "source": [
    "display(\n",
    "    test_xwalk.info(),\n",
    "    test_xwalk[\"rtpa_name\"].sort_values().value_counts(),\n",
    "    test_xwalk.head()\n",
    "    \n",
    ")\n",
    "    "
   ]
  },
  {
   "cell_type": "code",
   "execution_count": 1,
   "id": "8b93e180-ffde-4d60-ab32-7b1681a9f019",
   "metadata": {},
   "outputs": [],
   "source": [
    "# MIGRATED TO .PY FILE 06/18/2025\n",
    "# updated script to get RTPAs from dim_orgs\n",
    "\"\"\"\n",
    "Creates site .yml with chapters for each RTPA in the ntd/rtpa crosswalk, places it in the portfolio/sites directory\n",
    "\n",
    "Yaml structure is not nested by district, it is just all RTPAs\n",
    "in the navigation panel.\n",
    "\"\"\"\n",
    "\n",
    "import sys\n",
    "\n",
    "sys.path.append(\"../\")  # up one level\n",
    "\n",
    "from pathlib import Path\n",
    "\n",
    "import pandas as pd\n",
    "from shared_utils import portfolio_utils\n",
    "from update_vars import GCS_FILE_PATH\n",
    "from annual_ridership_module import ntd_id_to_rtpa_crosswalk\n",
    "\n",
    "PORTFOLIO_SITE_YAML = Path(\"../../portfolio/sites/ntd_annual_ridership_report.yml\")"
   ]
  },
  {
   "cell_type": "code",
   "execution_count": 40,
   "id": "23034192-dbe4-4ddd-b8b2-7591097a5557",
   "metadata": {},
   "outputs": [],
   "source": [
    "# read in rtpa data from dim_orgs\n",
    "if __name__ == \"__main__\":\n",
    "    df = ntd_id_to_rtpa_crosswalk(split_scag=True)[\"rtpa_name\"].drop_duplicates().to_frame()\n",
    "    ladpw= pd.DataFrame({\"rtpa_name\":[\"Los Angeles County Department of Public Works\"]})\n",
    "    df = pd.concat([df, ladpw], ignore_index=True).sort_values(by=\"rtpa_name\")\n",
    "\n",
    "    # portfolio_utils.create_portfolio_yaml_chapters_no_sections(\n",
    "    #     PORTFOLIO_SITE_YAML, chapter_name=\"rtpa\", chapter_values=list(df.rtpa_name)\n",
    "    # )"
   ]
  },
  {
   "cell_type": "code",
   "execution_count": 41,
   "id": "945cbd68-251c-4db2-9579-87c2e2527bcc",
   "metadata": {
    "tags": []
   },
   "outputs": [
    {
     "data": {
      "text/html": [
       "<div>\n",
       "<style scoped>\n",
       "    .dataframe tbody tr th:only-of-type {\n",
       "        vertical-align: middle;\n",
       "    }\n",
       "\n",
       "    .dataframe tbody tr th {\n",
       "        vertical-align: top;\n",
       "    }\n",
       "\n",
       "    .dataframe thead th {\n",
       "        text-align: right;\n",
       "    }\n",
       "</style>\n",
       "<table border=\"1\" class=\"dataframe\">\n",
       "  <thead>\n",
       "    <tr style=\"text-align: right;\">\n",
       "      <th></th>\n",
       "      <th>rtpa_name</th>\n",
       "    </tr>\n",
       "  </thead>\n",
       "  <tbody>\n",
       "    <tr>\n",
       "      <th>1</th>\n",
       "      <td>Alpine County Local Transportation Commission</td>\n",
       "    </tr>\n",
       "    <tr>\n",
       "      <th>29</th>\n",
       "      <td>Amador County Transportation Commission</td>\n",
       "    </tr>\n",
       "    <tr>\n",
       "      <th>9</th>\n",
       "      <td>Butte County Association of Governments</td>\n",
       "    </tr>\n",
       "    <tr>\n",
       "      <th>3</th>\n",
       "      <td>Calaveras Council of Governments</td>\n",
       "    </tr>\n",
       "    <tr>\n",
       "      <th>32</th>\n",
       "      <td>Colusa County Transportation Commission</td>\n",
       "    </tr>\n",
       "    <tr>\n",
       "      <th>40</th>\n",
       "      <td>Council of San Benito County Governments</td>\n",
       "    </tr>\n",
       "    <tr>\n",
       "      <th>19</th>\n",
       "      <td>Del Norte Local Transportation Commission</td>\n",
       "    </tr>\n",
       "    <tr>\n",
       "      <th>33</th>\n",
       "      <td>El Dorado County Transportation Commission</td>\n",
       "    </tr>\n",
       "    <tr>\n",
       "      <th>31</th>\n",
       "      <td>Fresno Council of Governments</td>\n",
       "    </tr>\n",
       "    <tr>\n",
       "      <th>34</th>\n",
       "      <td>Glenn County Transportation Commission</td>\n",
       "    </tr>\n",
       "    <tr>\n",
       "      <th>30</th>\n",
       "      <td>Humboldt County Association of Governments</td>\n",
       "    </tr>\n",
       "    <tr>\n",
       "      <th>2</th>\n",
       "      <td>Inyo County Local Transportation Commission</td>\n",
       "    </tr>\n",
       "    <tr>\n",
       "      <th>8</th>\n",
       "      <td>Kern Council of Governments</td>\n",
       "    </tr>\n",
       "    <tr>\n",
       "      <th>4</th>\n",
       "      <td>Kings County Association of Governments</td>\n",
       "    </tr>\n",
       "    <tr>\n",
       "      <th>35</th>\n",
       "      <td>Lake County/City Area Planning Council</td>\n",
       "    </tr>\n",
       "    <tr>\n",
       "      <th>36</th>\n",
       "      <td>Lassen County Transportation Commission</td>\n",
       "    </tr>\n",
       "    <tr>\n",
       "      <th>47</th>\n",
       "      <td>Los Angeles County Department of Public Works</td>\n",
       "    </tr>\n",
       "    <tr>\n",
       "      <th>0</th>\n",
       "      <td>Los Angeles County Metropolitan Transportation...</td>\n",
       "    </tr>\n",
       "    <tr>\n",
       "      <th>10</th>\n",
       "      <td>Madera County Transportation Commission</td>\n",
       "    </tr>\n",
       "    <tr>\n",
       "      <th>20</th>\n",
       "      <td>Mariposa County Local Transportation Commission</td>\n",
       "    </tr>\n",
       "    <tr>\n",
       "      <th>37</th>\n",
       "      <td>Mendocino Council of Governments</td>\n",
       "    </tr>\n",
       "    <tr>\n",
       "      <th>15</th>\n",
       "      <td>Merced County Association of Governments</td>\n",
       "    </tr>\n",
       "    <tr>\n",
       "      <th>7</th>\n",
       "      <td>Metropolitan Transportation Commission</td>\n",
       "    </tr>\n",
       "    <tr>\n",
       "      <th>38</th>\n",
       "      <td>Modoc County Transportation Commission</td>\n",
       "    </tr>\n",
       "    <tr>\n",
       "      <th>27</th>\n",
       "      <td>Nevada County Transportation Commission</td>\n",
       "    </tr>\n",
       "    <tr>\n",
       "      <th>13</th>\n",
       "      <td>Orange County Transportation Authority</td>\n",
       "    </tr>\n",
       "    <tr>\n",
       "      <th>14</th>\n",
       "      <td>Placer County Transportation Planning Agency</td>\n",
       "    </tr>\n",
       "    <tr>\n",
       "      <th>21</th>\n",
       "      <td>Plumas County Transportation Commission</td>\n",
       "    </tr>\n",
       "    <tr>\n",
       "      <th>17</th>\n",
       "      <td>Riverside County Transportation Commission</td>\n",
       "    </tr>\n",
       "    <tr>\n",
       "      <th>11</th>\n",
       "      <td>Sacramento Area Council of Governments</td>\n",
       "    </tr>\n",
       "    <tr>\n",
       "      <th>5</th>\n",
       "      <td>San Bernardino County Transportation Authority</td>\n",
       "    </tr>\n",
       "    <tr>\n",
       "      <th>6</th>\n",
       "      <td>San Diego Association of Governments</td>\n",
       "    </tr>\n",
       "    <tr>\n",
       "      <th>23</th>\n",
       "      <td>San Joaquin Council of Governments</td>\n",
       "    </tr>\n",
       "    <tr>\n",
       "      <th>24</th>\n",
       "      <td>San Luis Obispo Council of Governments</td>\n",
       "    </tr>\n",
       "    <tr>\n",
       "      <th>18</th>\n",
       "      <td>Santa Barbara County Association of Governments</td>\n",
       "    </tr>\n",
       "    <tr>\n",
       "      <th>41</th>\n",
       "      <td>Santa Cruz County Regional Transportation Comm...</td>\n",
       "    </tr>\n",
       "    <tr>\n",
       "      <th>25</th>\n",
       "      <td>Shasta Regional Transportation Agency</td>\n",
       "    </tr>\n",
       "    <tr>\n",
       "      <th>26</th>\n",
       "      <td>Sierra County Transportation Commission</td>\n",
       "    </tr>\n",
       "    <tr>\n",
       "      <th>42</th>\n",
       "      <td>Siskiyou County Local Transportation Commission</td>\n",
       "    </tr>\n",
       "    <tr>\n",
       "      <th>22</th>\n",
       "      <td>Southern California Association of Governments</td>\n",
       "    </tr>\n",
       "    <tr>\n",
       "      <th>16</th>\n",
       "      <td>Stanislaus Council of Governments</td>\n",
       "    </tr>\n",
       "    <tr>\n",
       "      <th>43</th>\n",
       "      <td>Tahoe Regional Planning Agency</td>\n",
       "    </tr>\n",
       "    <tr>\n",
       "      <th>44</th>\n",
       "      <td>Tehama County Transportation Commission</td>\n",
       "    </tr>\n",
       "    <tr>\n",
       "      <th>39</th>\n",
       "      <td>Transportation Agency for Monterey County</td>\n",
       "    </tr>\n",
       "    <tr>\n",
       "      <th>45</th>\n",
       "      <td>Trinity County Transportation Commission</td>\n",
       "    </tr>\n",
       "    <tr>\n",
       "      <th>12</th>\n",
       "      <td>Tulare County Association of Governments</td>\n",
       "    </tr>\n",
       "    <tr>\n",
       "      <th>46</th>\n",
       "      <td>Tuolumne County Transportation Council</td>\n",
       "    </tr>\n",
       "    <tr>\n",
       "      <th>28</th>\n",
       "      <td>Ventura County Transportation Commission</td>\n",
       "    </tr>\n",
       "  </tbody>\n",
       "</table>\n",
       "</div>"
      ],
      "text/plain": [
       "                                            rtpa_name\n",
       "1       Alpine County Local Transportation Commission\n",
       "29            Amador County Transportation Commission\n",
       "9             Butte County Association of Governments\n",
       "3                    Calaveras Council of Governments\n",
       "32            Colusa County Transportation Commission\n",
       "40           Council of San Benito County Governments\n",
       "19          Del Norte Local Transportation Commission\n",
       "33         El Dorado County Transportation Commission\n",
       "31                      Fresno Council of Governments\n",
       "34             Glenn County Transportation Commission\n",
       "30         Humboldt County Association of Governments\n",
       "2         Inyo County Local Transportation Commission\n",
       "8                         Kern Council of Governments\n",
       "4             Kings County Association of Governments\n",
       "35             Lake County/City Area Planning Council\n",
       "36            Lassen County Transportation Commission\n",
       "47      Los Angeles County Department of Public Works\n",
       "0   Los Angeles County Metropolitan Transportation...\n",
       "10            Madera County Transportation Commission\n",
       "20    Mariposa County Local Transportation Commission\n",
       "37                   Mendocino Council of Governments\n",
       "15           Merced County Association of Governments\n",
       "7              Metropolitan Transportation Commission\n",
       "38             Modoc County Transportation Commission\n",
       "27            Nevada County Transportation Commission\n",
       "13             Orange County Transportation Authority\n",
       "14       Placer County Transportation Planning Agency\n",
       "21            Plumas County Transportation Commission\n",
       "17         Riverside County Transportation Commission\n",
       "11             Sacramento Area Council of Governments\n",
       "5      San Bernardino County Transportation Authority\n",
       "6                San Diego Association of Governments\n",
       "23                 San Joaquin Council of Governments\n",
       "24             San Luis Obispo Council of Governments\n",
       "18    Santa Barbara County Association of Governments\n",
       "41  Santa Cruz County Regional Transportation Comm...\n",
       "25              Shasta Regional Transportation Agency\n",
       "26            Sierra County Transportation Commission\n",
       "42    Siskiyou County Local Transportation Commission\n",
       "22     Southern California Association of Governments\n",
       "16                  Stanislaus Council of Governments\n",
       "43                     Tahoe Regional Planning Agency\n",
       "44            Tehama County Transportation Commission\n",
       "39          Transportation Agency for Monterey County\n",
       "45           Trinity County Transportation Commission\n",
       "12           Tulare County Association of Governments\n",
       "46             Tuolumne County Transportation Council\n",
       "28           Ventura County Transportation Commission"
      ]
     },
     "execution_count": 41,
     "metadata": {},
     "output_type": "execute_result"
    }
   ],
   "source": [
    "df"
   ]
  },
  {
   "cell_type": "markdown",
   "id": "a78c1ae2-a485-4b73-9350-52f025aff550",
   "metadata": {},
   "source": [
    "---"
   ]
  },
  {
   "cell_type": "code",
   "execution_count": null,
   "id": "d3ea88b4-1fa7-4031-ac99-3ae42b29fe68",
   "metadata": {},
   "outputs": [],
   "source": [
    "## update function\n",
    "def produce_annual_ntd_ridership_data_by_rtpa(min_year: str):\n",
    "    \"\"\"\n",
    "    Function that ingest ridership data from `dim_annual_service_agencies`, filters for CA agencies.\n",
    "    Merges in ntd_id_to_RTPA_crosswalk. Aggregates by agency, mode and TOS. calculates change in UPT.\n",
    "    \"\"\"\n",
    "    from annual_ridership_module import add_change_columns"
   ]
  },
  {
   "cell_type": "code",
   "execution_count": null,
   "id": "39b8505b-5071-4925-a235-9cee1a58b248",
   "metadata": {
    "tags": []
   },
   "outputs": [],
   "source": [
    "min_year = 2018"
   ]
  },
  {
   "cell_type": "code",
   "execution_count": null,
   "id": "4aa2254a-5e44-45c7-9ce6-123c49ad784c",
   "metadata": {
    "tags": []
   },
   "outputs": [],
   "source": [
    "    print(\"ingest annual ridership data from warehouse\")\n",
    "    \n",
    "    ntd_service =(\n",
    "        tbls.mart_ntd_funding_and_expenses.fct_service_data_and_operating_expenses_time_series_by_mode_upt()\n",
    "        >> filter(\n",
    "            #_.state.str.contains(\"CA\") | \n",
    "            #_.state.str.contains(\"NV\"), # to get lake Tahoe Transportation back\n",
    "            _.year >= min_year,\n",
    "                  #_.city != None,\n",
    "            _.last_report_year >= min_year,\n",
    "            _.primary_uza_name.str.contains(\", CA\") | \n",
    "            _.primary_uza_name.str.contains(\"CA-NV\") |\n",
    "            _.primary_uza_name.str.contains(\"California Non-UZA\") \n",
    "            #_.primary_uza_name.str.contains(\"El Paso, TX--NM\") # something about Paso \n",
    "        )\n",
    "        >> select(\n",
    "            'source_agency',\n",
    "            'agency_status',\n",
    "            #'city',\n",
    "            'legacy_ntd_id',\n",
    "            'last_report_year',\n",
    "            'mode',\n",
    "            'ntd_id',\n",
    "            'reporter_type',\n",
    "            'reporting_module',\n",
    "            'service',\n",
    "            #'state',\n",
    "            'uace_code',\n",
    "            'primary_uza_name',\n",
    "            'uza_population',\n",
    "            'year',\n",
    "            'upt',\n",
    "        )\n",
    "        >> collect())"
   ]
  },
  {
   "cell_type": "code",
   "execution_count": null,
   "id": "2e4c84b1-82d3-4ced-80a9-69c05bf6e344",
   "metadata": {
    "tags": []
   },
   "outputs": [],
   "source": [
    "# check\n",
    "display(\n",
    "    ntd_service.head(),\n",
    "    len(ntd_service),\n",
    "    ntd_service[\"year\"].unique(),\n",
    "    ntd_service[\"last_report_year\"].unique(),\n",
    ")"
   ]
  },
  {
   "cell_type": "code",
   "execution_count": null,
   "id": "799ffff4-828c-4a26-9316-f07fc789cd5b",
   "metadata": {
    "tags": []
   },
   "outputs": [],
   "source": [
    "ntd_service = (\n",
    "    ntd_service.groupby(\n",
    "        [\n",
    "            \"source_agency\",\n",
    "            \"agency_status\",\n",
    "            #\"city\",\n",
    "            #\"state\",\n",
    "            \"ntd_id\",\n",
    "            \"primary_uza_name\",\n",
    "            \"reporter_type\",\n",
    "            \"mode\",\n",
    "            \"service\",\n",
    "            \"last_report_year\",\n",
    "            \"year\",\n",
    "        ]\n",
    "    )\n",
    "    .agg({\"upt\": \"sum\"})\n",
    "    .sort_values(by=\"ntd_id\")\n",
    "    .reset_index()\n",
    ")"
   ]
  },
  {
   "cell_type": "code",
   "execution_count": null,
   "id": "9dedbad5-7054-4208-b173-99eb97b9daac",
   "metadata": {
    "tags": []
   },
   "outputs": [],
   "source": [
    "# check\n",
    "display(\n",
    "    ntd_service.head(),\n",
    "    ntd_service[\"year\"].unique(),\n",
    "    ntd_service[\"last_report_year\"].unique(),\n",
    ")"
   ]
  },
  {
   "cell_type": "code",
   "execution_count": null,
   "id": "162b3678-a064-405b-804a-ca1607fa5030",
   "metadata": {
    "tags": []
   },
   "outputs": [],
   "source": [
    "ntd_service[ntd_service[\"ntd_id\"]==\"90003\"].sort_values(by=[\"year\",\"mode\",\"service\"])"
   ]
  },
  {
   "cell_type": "code",
   "execution_count": null,
   "id": "08ac277e-9c6f-4b0d-a6c1-1d9645188576",
   "metadata": {
    "tags": []
   },
   "outputs": [],
   "source": [
    "socal_county_dict = {\n",
    "    \"Ventura\": \"Ventura County Transportation Commission\",\n",
    "    \"Los Angeles\": \"Los Angeles County Metropolitan Transportation Authority\",\n",
    "    \"San Bernardino\": \"San Bernardino County Transportation Authority\",\n",
    "    \"Riverside\": \"Riverside County Transportation Commission\",\n",
    "    \"Orange\": \"Orange County Transportation Authority\",\n",
    "}"
   ]
  },
  {
   "cell_type": "code",
   "execution_count": null,
   "id": "f5b5ad50-275b-4b00-982a-fb7d4706f4cf",
   "metadata": {
    "tags": []
   },
   "outputs": [],
   "source": [
    "#     print(\"read in new `ntd_id_to_rtpa_all_reporter_types` crosswalk\")\n",
    "\n",
    "#     ntd_to_rtpa_crosswalk = pd.read_parquet(f\"{GCS_FILE_PATH}ntd_id_rtpa_crosswalk_all_reporter_types.parquet\")\n",
    "\n",
    "print(\"read in RTPA data from dim_organizations\")\n",
    "ntd_to_rtpa_crosswalk = (\n",
    "    tbls.mart_transit_database.dim_organizations()\n",
    "    >> filter(\n",
    "        _._is_current == True,\n",
    "        _.ntd_id_2022.notna(),\n",
    "        _.rtpa_name.notna(),\n",
    "    )\n",
    "    >> select(_.name, _.ntd_id_2022, _.rtpa_name, _.mpo_name, _.key)\n",
    "    >> collect()\n",
    ")\n",
    "\n",
    "# need to join bridge org county geo to get org counties\n",
    "bridge_counties = (\n",
    "    tbls.mart_transit_database.bridge_organizations_x_headquarters_county_geography()\n",
    "    >> filter(_._is_current == True)\n",
    "    >> select(_.county_geography_name, _.organization_key)\n",
    "    >> collect()\n",
    ")\n",
    "\n",
    "ntd_to_rtpa_crosswalk = ntd_to_rtpa_crosswalk.merge(\n",
    "    bridge_counties, left_on=\"key\", right_on=\"organization_key\", how=\"left\"\n",
    ")"
   ]
  },
  {
   "cell_type": "code",
   "execution_count": null,
   "id": "e04645dc-8537-43f2-a1fa-9cc1094438f8",
   "metadata": {
    "tags": []
   },
   "outputs": [],
   "source": [
    "ntd_to_rtpa_crosswalk[\"county_geography_name\"].sort_values().unique()"
   ]
  },
  {
   "cell_type": "code",
   "execution_count": null,
   "id": "4c2a497e-8948-4cbc-903b-286050360f86",
   "metadata": {
    "tags": []
   },
   "outputs": [],
   "source": [
    "ntd_to_rtpa_crosswalk[\n",
    "    ntd_to_rtpa_crosswalk[\"county_geography_name\"].isin(socal_county_dict.keys())\n",
    "][\"rtpa_name\"].unique() # currently does not include Orange, San Bern, Riverside CTC"
   ]
  },
  {
   "cell_type": "code",
   "execution_count": null,
   "id": "25e637f9-9f53-45b8-b859-bb1895aa01d8",
   "metadata": {
    "tags": []
   },
   "outputs": [],
   "source": [
    "# filter for counties in the socal dict, then use map\n",
    "# ntd_to_rtpa_crosswalk[\n",
    "#     ntd_to_rtpa_crosswalk[\"county_geography_name\"].isin(list(socal_county_dict.keys()))\n",
    "# ][\"rtpa_name\"] = ntd_to_rtpa_crosswalk[\n",
    "#     ntd_to_rtpa_crosswalk[\"county_geography_name\"].isin(list(socal_county_dict.keys()))\n",
    "# ][\n",
    "#     \"county_geography_name\"\n",
    "# ].map(\n",
    "#     socal_county_dict\n",
    "# )"
   ]
  },
  {
   "cell_type": "code",
   "execution_count": null,
   "id": "7c4d3bb6-4ed7-4aef-a27f-e5fdc271725e",
   "metadata": {
    "tags": []
   },
   "outputs": [],
   "source": [
    "# replace socal copunties with dictionary\n",
    "ntd_to_rtpa_crosswalk.loc[\n",
    "    ntd_to_rtpa_crosswalk[\"county_geography_name\"].isin(socal_county_dict.keys()),\n",
    "    \"rtpa_name\",\n",
    "] = ntd_to_rtpa_crosswalk[\"county_geography_name\"].map(socal_county_dict)"
   ]
  },
  {
   "cell_type": "code",
   "execution_count": null,
   "id": "9428b700-38c9-4fa1-9029-c27841633c25",
   "metadata": {
    "tags": []
   },
   "outputs": [],
   "source": [
    "# check\n",
    "display(\n",
    "    ntd_to_rtpa_crosswalk.head(),\n",
    "    ntd_to_rtpa_crosswalk[\n",
    "        ntd_to_rtpa_crosswalk[\"county_geography_name\"].isin(socal_county_dict.keys())\n",
    "    ][\"rtpa_name\"].unique(),\n",
    "    # ntd_to_rtpa_crosswalk[\n",
    "    #     ntd_to_rtpa_crosswalk[\"county_geography_name\"].isin(socal_county_dict.keys())\n",
    "    # ],\n",
    ")"
   ]
  },
  {
   "cell_type": "code",
   "execution_count": null,
   "id": "8010f4a2-9cfa-414f-8a3f-41bde0aeb795",
   "metadata": {},
   "outputs": [],
   "source": [
    "lacdpw_list = [\n",
    "    \"90269\",\n",
    "    \"90270\",\n",
    "    \"90272\",\n",
    "    \"90273\",\n",
    "    \"90274\",\n",
    "    \"90275\",\n",
    "    \"90276\",\n",
    "    \"90277\",\n",
    "    \"90278\",\n",
    "    \"90279\",\n",
    "]"
   ]
  },
  {
   "cell_type": "code",
   "execution_count": null,
   "id": "f4e27f7d-61c8-42c6-af4b-0dc44ec5b0f1",
   "metadata": {
    "tags": []
   },
   "outputs": [],
   "source": [
    "ntd_to_rtpa_crosswalk[ntd_to_rtpa_crosswalk[\"ntd_id_2022\"].isin(lacdpw_list)] # crosswalk does not include LADPW agencies"
   ]
  },
  {
   "cell_type": "code",
   "execution_count": null,
   "id": "5699db03-f6e3-4777-ac21-de9d7f53e518",
   "metadata": {
    "tags": []
   },
   "outputs": [],
   "source": [
    "print(\"merge ntd data to crosswalk\")\n",
    "\n",
    "ntd_data_by_rtpa = ntd_service.merge(\n",
    "    ntd_to_rtpa_crosswalk,\n",
    "    how=\"left\",\n",
    "    left_on=[\n",
    "        \"ntd_id\",\n",
    "        # \"agency\", \"reporter_type\", \"city\" # sometime agency name, reporter type and city name change or are inconsistent, causing possible fanout\n",
    "    ],\n",
    "    right_on=\"ntd_id_2022\",\n",
    "    indicator=True,\n",
    ")  # .rename(\n",
    "# columns={\n",
    "#     \"actual_vehicles_passenger_car_revenue_hours\":\"vrh\",\n",
    "#     \"actual_vehicles_passenger_car_revenue_miles\":\"vrm\",\n",
    "#     \"unlinked_passenger_trips_upt\":\"upt\",\n",
    "#     'agency_name_x':\"agency_name\",\n",
    "#     'agency_status_x':\"agency_status\",\n",
    "#     'city_x':\"city\",\n",
    "#     'state_x':\"state\",\n",
    "#     'reporter_type_x':\"reporter_type\",\n",
    "#     \"agency_name_y\":\"xwalk_agency_name\",\n",
    "#     'reporter_type_y':\"xwalk_reporter_type\",\n",
    "#     'agency_status_y':\"xwalk_agency_status\",\n",
    "#     'city_y':\"xwalk_city\",\n",
    "#     'state_y':\"xwalk_state\",\n",
    "# }\n",
    "# )"
   ]
  },
  {
   "cell_type": "code",
   "execution_count": null,
   "id": "f18d1f61-284b-4907-b76f-cd20836ff24b",
   "metadata": {
    "tags": []
   },
   "outputs": [],
   "source": [
    "# check\n",
    "display(\n",
    "    ntd_data_by_rtpa[\"_merge\"].value_counts(),\n",
    "    ntd_data_by_rtpa.head()\n",
    ")\n"
   ]
  },
  {
   "cell_type": "code",
   "execution_count": null,
   "id": "30bd11ed-25c2-4294-b0eb-1bb5a6fdbd9d",
   "metadata": {
    "tags": []
   },
   "outputs": [],
   "source": [
    "ntd_data_by_rtpa[ntd_data_by_rtpa._merge == \"left_only\"][\"ntd_id\"].unique().tolist() == lacdpw_list # the unmerged rows match the LA public works ntd_id\n"
   ]
  },
  {
   "cell_type": "code",
   "execution_count": null,
   "id": "7deeef77-66a1-4dc1-8ade-246ae79d1f31",
   "metadata": {
    "tags": []
   },
   "outputs": [],
   "source": [
    "# adding \"Los Angeles County Department of Public Works\" RTPA Name\n",
    "# if agency_name str.contains \"Los Angeles County Department of Public Works\", then make rtpa_name \"Los Angeles County Department of Public Works\"?\n",
    "# or if ntd_id is in lA County Public works list, then make rtpa name\n",
    "lacdpw_list = [\n",
    "    \"90269\",\n",
    "    \"90270\",\n",
    "    \"90272\",\n",
    "    \"90273\",\n",
    "    \"90274\",\n",
    "    \"90275\",\n",
    "    \"90276\",\n",
    "    \"90277\",\n",
    "    \"90278\",\n",
    "    \"90279\",\n",
    "]\n",
    "\n",
    "# update LACDPW rows for rtpa and merge indicator\n",
    "ntd_data_by_rtpa.loc[\n",
    "    ntd_data_by_rtpa[\"ntd_id\"].isin(lacdpw_list), [\"rtpa_name\", \"_merge\"]\n",
    "] = [\"Los Angeles County Department of Public Works\", \"both\"]"
   ]
  },
  {
   "cell_type": "code",
   "execution_count": null,
   "id": "b948161a-2c01-412c-968d-88ff74e935e9",
   "metadata": {
    "tags": []
   },
   "outputs": [],
   "source": [
    "# check\n",
    "display(\n",
    "    #ntd_data_by_rtpa[ntd_data_by_rtpa._merge == \"left_only\"],\n",
    "    ntd_data_by_rtpa[ntd_data_by_rtpa[\"ntd_id\"].isin(lacdpw_list)],\n",
    ")"
   ]
  },
  {
   "cell_type": "code",
   "execution_count": null,
   "id": "807acefa-b1c8-4d11-bca8-c2a5178975f1",
   "metadata": {
    "tags": []
   },
   "outputs": [],
   "source": [
    "    print(ntd_data_by_rtpa._merge.value_counts())\n",
    "        \n",
    "    if len(ntd_data_by_rtpa[ntd_data_by_rtpa._merge==\"left_only\"]) > 0:\n",
    "        raise ValueError(\"There are unmerged rows to crosswalk\")\n",
    "    \n",
    "    print(\"add `change_column` to data\")\n",
    "    ntd_data_by_rtpa = annual_ridership_module.add_change_columns(ntd_data_by_rtpa)\n",
    "    \n",
    "    print(\"map mode and tos desc.\")\n",
    "    ntd_data_by_rtpa = ntd_data_by_rtpa.assign(\n",
    "        mode_full = ntd_data_by_rtpa[\"mode\"].map(NTD_MODES),\n",
    "        service_full = ntd_data_by_rtpa[\"service\"].map(NTD_TOS)\n",
    "    )\n",
    "    \n",
    "    # return ntd_data_by_rtpa"
   ]
  },
  {
   "cell_type": "markdown",
   "id": "a479efba-21f8-4b65-9951-06474aeed53c",
   "metadata": {},
   "source": [
    "## Double checking initial annual report data\n",
    "~~- why am i only seeing 2022-2023 data in the warehouse as of 6/5/2025?~~\n",
    "- fixed it. excluded city, state and agency_name from my query"
   ]
  },
  {
   "cell_type": "code",
   "execution_count": null,
   "id": "1756351a-4e48-4814-b6ed-062951f16006",
   "metadata": {
    "tags": []
   },
   "outputs": [],
   "source": [
    "initial_data = pd.read_parquet(f\"{GCS_FILE_PATH}annual_ridership_report_data.parquet\")\n",
    "\n",
    "initial_data[\"year\"].value_counts()"
   ]
  },
  {
   "cell_type": "code",
   "execution_count": null,
   "id": "c691b42d-07fc-4e3d-99c6-5f392399f07f",
   "metadata": {
    "tags": []
   },
   "outputs": [],
   "source": [
    "ntd_data_by_rtpa[\"year\"].value_counts()\n",
    "\n"
   ]
  },
  {
   "cell_type": "code",
   "execution_count": null,
   "id": "ef200ac2-07a5-4617-bda8-222098626151",
   "metadata": {
    "tags": []
   },
   "outputs": [],
   "source": [
    "def group_by_agency(df):\n",
    "    \"\"\"\n",
    "    Take in the 'by_ageny_long' df and aggregatese by rtpa, and calculates upt % of total.\n",
    "    To be used in pie chart\n",
    "    \"\"\"\n",
    "    initial_agg = df.groupby(\"agency_name\").agg(total_upt=(\"upt\", \"sum\")).reset_index()\n",
    "\n",
    "    # % total columns\n",
    "    initial_agg[\"pct_of_total_upt\"] = (\n",
    "        initial_agg[\"total_upt\"] / initial_agg[\"total_upt\"].sum()\n",
    "    ) * 100\n",
    "\n",
    "    # cleaning data types and rounding\n",
    "    initial_agg[\"total_upt\"] = initial_agg[\"total_upt\"].astype(\"int64\")\n",
    "    initial_agg[\"pct_of_total_upt\"] = initial_agg[\"pct_of_total_upt\"].round(decimals=2)\n",
    "    cleaned_agg = initial_agg.sort_values(by=\"total_upt\", ascending=False)\n",
    "\n",
    "    return cleaned_agg"
   ]
  },
  {
   "cell_type": "code",
   "execution_count": null,
   "id": "5b043b68-ef88-491c-9748-2179a22eafa4",
   "metadata": {},
   "outputs": [],
   "source": [
    "from calitp_data_analysis import calitp_color_palette as cp"
   ]
  },
  {
   "cell_type": "code",
   "execution_count": null,
   "id": "2143c649-3bdd-4754-9d0a-4dbf89101584",
   "metadata": {},
   "outputs": [],
   "source": [
    "WIDTH = 300\n",
    "HEIGHT = 150\n",
    "\n",
    "sacog = \"Sacramento Area Council of Governments\"  # med\n",
    "scag = \"Southern California Association of Governments\"  # XL\n",
    "mtc = \"Metropolitan Transportation Commission\"  # large\n",
    "sjcog = \"San Joaquin Council of Governments\"  # small\n",
    "\n",
    "agency_cols = [\"ntd_id\", \"agency_name\", \"RTPA\"]\n",
    "by_agency_long = annual_ridership_module.sum_by_group(\n",
    "    initial_data[initial_data[\"RTPA\"] == scag], agency_cols\n",
    ")\n",
    "agency_agg_yr = group_by_agency(by_agency_long)"
   ]
  },
  {
   "cell_type": "code",
   "execution_count": null,
   "id": "a4e046be-1f11-405f-b878-d1f7073500f4",
   "metadata": {},
   "outputs": [],
   "source": [
    "## Update total_upt_chart function\n",
    "def total_upt_chart(df: pd.DataFrame, x_col: str, y_col: str, tool_tip: list):\n",
    "    bar_chart = (\n",
    "        alt.Chart(df)\n",
    "        .mark_bar()\n",
    "        .encode(\n",
    "            x=alt.X(x_col).sort(\"-y\"),\n",
    "            y=alt.Y(y_col),\n",
    "            tooltip=tool_tip,\n",
    "            color=alt.Color(\n",
    "                x_col,\n",
    "                title=\"\",\n",
    "                scale=alt.Scale(\n",
    "                    range=cp.CALITP_CATEGORY_BRIGHT_COLORS\n",
    "                    + cp.CALITP_CATEGORY_BOLD_COLORS\n",
    "                ),\n",
    "            ),\n",
    "        )\n",
    "        .properties(\n",
    "            title=f\"Total Annual Unlinked Passenger Trips per Reporter in RTPA since 2018\",\n",
    "            width=WIDTH,\n",
    "            height=HEIGHT,\n",
    "        )\n",
    "        .resolve_scale(y=\"independent\")\n",
    "        .interactive()\n",
    "    )\n",
    "\n",
    "    return bar_chart"
   ]
  },
  {
   "cell_type": "code",
   "execution_count": null,
   "id": "f4021873-de0a-480c-ae47-b204a28cc68c",
   "metadata": {
    "tags": []
   },
   "outputs": [],
   "source": [
    "def total_upt_chart_v2(df: pd.DataFrame, cat: str, con: str, tool_tip: list):\n",
    "    # Base bar chart\n",
    "    bar_chart = (\n",
    "        alt.Chart(df)\n",
    "        .mark_bar()\n",
    "        .encode(\n",
    "            x=alt.X(con),\n",
    "            y=alt.Y(cat).sort(\"-x\"),\n",
    "            tooltip=tool_tip,\n",
    "            color=alt.Color(\n",
    "                cat,\n",
    "                title=\"\",\n",
    "                scale=alt.Scale(\n",
    "                    range=cp.CALITP_CATEGORY_BRIGHT_COLORS\n",
    "                    + cp.CALITP_CATEGORY_BOLD_COLORS\n",
    "                ),\n",
    "            ).legend(orient=\"bottom\", columns=3),\n",
    "        )\n",
    "    )\n",
    "\n",
    "    # New: Add a text layer for data labels\n",
    "    text_labels = (\n",
    "        alt.Chart(df)\n",
    "        .mark_text(align=\"left\", dx=3, dy=0, color=\"black\", fontSize=11)\n",
    "        .encode(\n",
    "            x=alt.X(con),\n",
    "            y=alt.Y(cat, sort=\"-x\", axis=None),\n",
    "            text=alt.Text(con),  # Display value of y_col\n",
    "        )\n",
    "    )\n",
    "\n",
    "    # Combine both layers\n",
    "    chart = (\n",
    "        (bar_chart + text_labels)  # Layer bars and text\n",
    "        .properties(\n",
    "            title=\"Total Annual Unlinked Passenger Trips per Reporter in RTPA since 2018\",\n",
    "            width=WIDTH,\n",
    "            height=HEIGHT,\n",
    "        )\n",
    "        .resolve_scale(y=\"independent\")\n",
    "        .interactive()\n",
    "    )\n",
    "\n",
    "    return chart"
   ]
  },
  {
   "cell_type": "code",
   "execution_count": null,
   "id": "ca2ea801-bfe4-482d-9e23-72a56a43ce99",
   "metadata": {},
   "outputs": [],
   "source": [
    "tooltip_list = [\"agency_name\", \"total_upt\", \"pct_of_total_upt\"]\n",
    "\n",
    "total_upt_chart_v2(\n",
    "    agency_agg_yr, cat=\"agency_name\", con=\"total_upt\", tool_tip=tooltip_list\n",
    ")"
   ]
  },
  {
   "cell_type": "markdown",
   "id": "f65df332-6eef-4300-aa6c-864e5365f336",
   "metadata": {
    "tags": []
   },
   "source": [
    "## update deploy_portfolio_yaml"
   ]
  },
  {
   "cell_type": "code",
   "execution_count": null,
   "id": "0a3acc69-00e6-48e1-8722-a235b25832dd",
   "metadata": {
    "tags": []
   },
   "outputs": [],
   "source": [
    "# read in rtpa data from dim_orgs\n",
    "# if name == main section\n",
    "df = (\n",
    "    (\n",
    "        tbls.mart_transit_database.dim_organizations()\n",
    "        >> filter(\n",
    "            _._is_current == True,\n",
    "            # _.ntd_id_2022.notna(),\n",
    "            _.rtpa_name.notna(),\n",
    "        )\n",
    "        >> select(_.name, _.ntd_id_2022, _.rtpa_name, _.mpo_name)\n",
    "        >> collect()\n",
    "    )[\"rtpa_name\"]\n",
    "    .sort_values()\n",
    "    .drop_duplicates()\n",
    "    .reset_index(drop=True)\n",
    ")"
   ]
  },
  {
   "cell_type": "code",
   "execution_count": null,
   "id": "065cfe1a-9bf8-462c-9de3-ccdc4632f36f",
   "metadata": {
    "tags": []
   },
   "outputs": [],
   "source": [
    "df.info()"
   ]
  },
  {
   "cell_type": "code",
   "execution_count": null,
   "id": "8c7b8e02-38fc-4f3c-af14-20786e07a20d",
   "metadata": {
    "tags": []
   },
   "outputs": [],
   "source": [
    "# add new row to the rtpa df\n",
    "df.loc[len(df)] = \"Los Angeles County Department of Public Works\""
   ]
  },
  {
   "cell_type": "code",
   "execution_count": null,
   "id": "43812bcf-84b0-4a73-8b49-fa9191fd853b",
   "metadata": {
    "tags": []
   },
   "outputs": [],
   "source": [
    "df  # GTG"
   ]
  },
  {
   "cell_type": "markdown",
   "id": "ed4ede38-835e-46f5-91c7-187c02f176a7",
   "metadata": {},
   "source": [
    "# Work plan\n",
    "\n",
    "## COMPLETE ~~Need List of all annual reporters~~\n",
    "- Full, Reduced, Rural reporters all submit an annual Report to NTD\n",
    "- used `dim_annual_service_agencies`\n",
    "\n",
    "## COMPLETE ~~Need to assign rural and reduced annual reporters to RTPAs~~ \n",
    "- Full reporters are already mapped to RTPAs via the monthly report\n",
    "- but reduced and rurap reporters need to be mapped to RTPAs\n",
    "- sjoined a map of CA census designated places to RTPA map, then merged with `dim_annual_service_agenices` to attach RTPA info\n",
    "\n",
    "## COMPLETE ~~Export processed data to parquet~~\n",
    "- to be used for aggregation\n",
    "\n",
    "## COMPLTE ~~Make new ntd_id to RTPA crosswalk~~\n",
    "- to be used for future analyses and merges\n",
    "\n",
    "## COMPLETE ~~Import formulas from monthly report for aggregation~~\n",
    "- modified `produce_annual_ntd_ridership_data_by_rtpa`\n",
    "\n",
    "## COMPLETE ~~Test using data from new warehouse table `~~fct_service_data_and_operating_expenses_time_series_by_mode_upt`\n",
    "- https://dbt-docs.calitp.org/#!/model/model.calitp_warehouse.fct_service_data_and_operating_expenses_time_series_by_mode_upt\n",
    "\n",
    "## How to export data to the public GCS\n",
    "- Also need to explain where the data comes from. The statutory requirements state to get the data NTD? but we ingest the NTD data. the data originates from NTD API, we clean/transform it\n",
    "- rip the `save rtpa outputs` code from the monthly report.\n",
    "---"
   ]
  },
  {
   "cell_type": "markdown",
   "id": "f56e1909-82da-4830-b949-9e85e862d8e7",
   "metadata": {},
   "source": [
    "## read in `fct_service_data_and_operating_expenses_time_series_by_mode_upt`"
   ]
  },
  {
   "cell_type": "code",
   "execution_count": null,
   "id": "7f490268-39aa-4e14-ad27-63cfc45606f4",
   "metadata": {
    "tags": []
   },
   "outputs": [],
   "source": [
    "# new warehouse table\n",
    "# includes upt, mode, tos and report year starting from 2018\n",
    "# contains historical,inactive agencies\n",
    "\n",
    "get_ntd_time_series = (\n",
    "    tbls.mart_ntd_funding_and_expenses.fct_service_data_and_operating_expenses_time_series_by_mode_upt()\n",
    "    >> filter(\n",
    "        _.state.str.contains(\"CA\")\n",
    "        | _.state.str.contains(\"NV\"),  # to get lake Tahoe Transportation back\n",
    "        _.year >= \"2018\",\n",
    "        _.city != None,\n",
    "        _.primary_uza_name.str.contains(\", CA\")\n",
    "        | _.primary_uza_name.str.contains(\"CA-NV\")\n",
    "        | _.primary_uza_name.str.contains(\"California Non-UZA\")\n",
    "        | _.primary_uza_name.str.contains(\"El Paso, TX--NM\"),  # something about Paso\n",
    "    )\n",
    "    >> select(\n",
    "        \"agency_name\",\n",
    "        \"agency_status\",\n",
    "        \"city\",\n",
    "        \"legacy_ntd_id\",\n",
    "        \"mode\",\n",
    "        \"ntd_id\",\n",
    "        \"reporter_type\",\n",
    "        \"reporting_module\",\n",
    "        \"service\",\n",
    "        \"state\",\n",
    "        \"uace_code\",\n",
    "        \"primary_uza_name\",\n",
    "        \"uza_population\",\n",
    "        \"year\",\n",
    "        \"upt\",\n",
    "    )\n",
    "    >> collect()\n",
    ")\n",
    "\n",
    "# what does group by look like\n",
    "ntd_time_series = (\n",
    "    get_ntd_time_series.groupby(\n",
    "        [\n",
    "            \"agency_name\",\n",
    "            \"agency_status\",\n",
    "            \"city\",\n",
    "            \"state\",\n",
    "            \"ntd_id\",\n",
    "            \"primary_uza_name\",\n",
    "            \"reporter_type\",\n",
    "            \"mode\",\n",
    "            \"service\",\n",
    "            \"year\",\n",
    "        ]\n",
    "    )\n",
    "    .agg({\"upt\": \"sum\"})\n",
    "    .sort_values(by=\"ntd_id\")\n",
    "    .reset_index()\n",
    ")\n",
    "\n",
    "display(\n",
    "    get_ntd_time_series.info(),\n",
    "    ntd_time_series.info(),\n",
    "    ntd_time_series[\"state\"].value_counts(),\n",
    "    ntd_time_series[\"primary_uza_name\"].value_counts(),\n",
    ")"
   ]
  },
  {
   "cell_type": "code",
   "execution_count": null,
   "id": "9e7f0f26-da95-4416-b672-5b7f47c72fcd",
   "metadata": {
    "tags": []
   },
   "outputs": [],
   "source": [
    "print(NTD_MODES, NTD_TOS)\n",
    "\n",
    "ntd_time_series = ntd_time_series.assign(\n",
    "    mode_full=ntd_time_series[\"mode\"].map(NTD_MODES),\n",
    "    service_full=ntd_time_series[\"service\"].map(NTD_TOS),\n",
    ")\n",
    "# Add mode and tos desc colums\n",
    "ntd_time_series.columns"
   ]
  },
  {
   "cell_type": "code",
   "execution_count": null,
   "id": "4b2d423c-7a55-4565-81d6-9cb66eccf0e5",
   "metadata": {
    "tags": []
   },
   "outputs": [],
   "source": [
    "ntd_time_series[~ntd_time_series[\"primary_uza_name\"].str.contains(\", CA\")][\n",
    "    \"primary_uza_name\"\n",
    "].value_counts()\n",
    "# who has uza in texas new mex?!"
   ]
  },
  {
   "cell_type": "code",
   "execution_count": null,
   "id": "409a2fc9-3d67-4b08-940b-4b6f443a0514",
   "metadata": {
    "tags": []
   },
   "outputs": [],
   "source": [
    "ntd_time_series[\n",
    "    ntd_time_series[\"primary_uza_name\"].str.contains(\"El Paso, TX--NM\")\n",
    "]  # just 1 agency, PAso Robles Transit Services"
   ]
  },
  {
   "cell_type": "code",
   "execution_count": null,
   "id": "c715ee61-741f-48eb-9a20-3d018926eb8a",
   "metadata": {
    "tags": []
   },
   "outputs": [],
   "source": [
    "# how many cities in ntd_time_serires are there?\n",
    "# wonder if all the cities will be in the crosswalk\n",
    "ntd_time_series[\"city\"].nunique()  # 183. should be enough"
   ]
  },
  {
   "cell_type": "markdown",
   "id": "9b094285-69bd-4e91-a37f-cb2e1c4b28f1",
   "metadata": {
    "tags": []
   },
   "source": [
    "## See `explore_rtpa_ntd_crosswalk` notebook to see how the new rtpa to ntd id crosswalk was made"
   ]
  },
  {
   "cell_type": "markdown",
   "id": "42c5a712-cf98-460a-8622-5aa921db26a3",
   "metadata": {
    "tags": []
   },
   "source": [
    "## read in crosswalk from gcs"
   ]
  },
  {
   "cell_type": "code",
   "execution_count": null,
   "id": "f41d2fc1-983a-4f6c-8da3-6796892a8b54",
   "metadata": {
    "tags": []
   },
   "outputs": [],
   "source": [
    "test_data = pd.read_parquet(f\"{GCS_FILE_PATH}annual_report_data_2022-2023.parquet\")\n",
    "rtpa_ntd_crosswalk = pd.read_parquet(\n",
    "    f\"{GCS_FILE_PATH}ntd_id_rtpa_crosswalk_all_reporter_types.parquet\"\n",
    ")\n",
    "\n",
    "display(test_data.head(), rtpa_ntd_crosswalk.head())"
   ]
  },
  {
   "cell_type": "markdown",
   "id": "ea8d7a41-dce2-4ef7-9af8-225fa1f1e72b",
   "metadata": {},
   "source": [
    "## test merge of `ntd_time_series` with `rtpa ntd crosswalk`"
   ]
  },
  {
   "cell_type": "code",
   "execution_count": null,
   "id": "212e19f1-5f4e-48e9-bba5-ace555858c09",
   "metadata": {
    "tags": []
   },
   "outputs": [],
   "source": [
    "ntd_time_series_rtpa = ntd_time_series.merge(\n",
    "    rtpa_ntd_crosswalk, on=\"ntd_id\", how=\"left\", indicator=True\n",
    ")\n",
    "display(ntd_time_series_rtpa.info(), ntd_time_series_rtpa[\"_merge\"].value_counts())"
   ]
  },
  {
   "cell_type": "code",
   "execution_count": null,
   "id": "f3bd5467-1b46-4669-b655-5b0a91c1f9bf",
   "metadata": {
    "tags": []
   },
   "outputs": [],
   "source": [
    "# gtg\n",
    "ntd_time_series_rtpa.head()"
   ]
  },
  {
   "cell_type": "markdown",
   "id": "4ed0510e-f837-4f52-aa29-b264403eee65",
   "metadata": {},
   "source": [
    "## Testing the `add_change_column` from module\n",
    "- use on `ntd_time_series_rtpa` to add new column\n",
    "1. previous UPT from prev year/ntd_id/mode/tos\n",
    "2. change upt % from prev year/ntd_/mode/tos\n"
   ]
  },
  {
   "cell_type": "code",
   "execution_count": null,
   "id": "c8ad4630-57e5-4b44-9551-4dda47c8dc6b",
   "metadata": {
    "tags": []
   },
   "outputs": [],
   "source": [
    "sort_cols2 = [\n",
    "    \"ntd_id\",\n",
    "    \"year\",\n",
    "    \"service\",\n",
    "    \"mode\",\n",
    "]  # got the order correct with [\"period_month\", \"period_year\"]! sorted years with grouped months\n",
    "group_cols2 = [\"ntd_id\", \"mode\", \"service\"]\n",
    "\n",
    "# df[[\"period_year\",\"period_month\"]] = df[[\"period_year\",\"period_month\"]].astype(int)\n",
    "# ntd_time_series_rtpa.sort_values(sort_cols2).groupby(group_cols2)[\"upt\"].apply(lambda x: x.shift(1))"
   ]
  },
  {
   "cell_type": "code",
   "execution_count": null,
   "id": "b7ccd94e-b340-41aa-bd66-e3bff7340076",
   "metadata": {
    "tags": []
   },
   "outputs": [],
   "source": [
    "ntd_time_series_rtpa.sort_values(sort_cols2).head()"
   ]
  },
  {
   "cell_type": "code",
   "execution_count": null,
   "id": "31efcc42-8f6a-4cbe-96fa-4442296b0e0c",
   "metadata": {
    "tags": []
   },
   "outputs": [],
   "source": [
    "ntd_time_series_rtpa.sort_values(sort_cols2).groupby(group_cols2)[\"upt\"].apply(\n",
    "    lambda x: x.shift(1)\n",
    ").head()"
   ]
  },
  {
   "cell_type": "code",
   "execution_count": null,
   "id": "8ffb52e5-5b28-4268-9e34-bf8d6d07af8b",
   "metadata": {
    "tags": []
   },
   "outputs": [],
   "source": [
    "test = ntd_time_series_rtpa.assign(\n",
    "    previous_y_upt=(\n",
    "        ntd_time_series_rtpa.sort_values(sort_cols2)\n",
    "        .groupby(group_cols2)[\"upt\"]\n",
    "        .apply(lambda x: x.shift(1))\n",
    "    )\n",
    ")"
   ]
  },
  {
   "cell_type": "code",
   "execution_count": null,
   "id": "59db94b1-717a-4d7c-a909-17307e5f6d87",
   "metadata": {
    "tags": []
   },
   "outputs": [],
   "source": [
    "test[test[\"ntd_id\"] == \"90253\"].sort_values(by=[\"year\", \"mode\", \"service\"])"
   ]
  },
  {
   "cell_type": "code",
   "execution_count": null,
   "id": "c77431db-cd9b-4a8c-a5e9-3444f4e3335f",
   "metadata": {
    "tags": []
   },
   "outputs": [],
   "source": [
    "ntd_rtpa_change_cols = annual_ridership_module.add_change_columns(ntd_time_series_rtpa)"
   ]
  },
  {
   "cell_type": "code",
   "execution_count": null,
   "id": "63a6f253-affe-4ce8-8778-bd29e039cafd",
   "metadata": {
    "tags": []
   },
   "outputs": [],
   "source": [
    "ntd_rtpa_change_cols[ntd_rtpa_change_cols[\"ntd_id\"] == \"90253\"].sort_values(\n",
    "    by=[\"year\", \"service\", \"mode\"]\n",
    ")"
   ]
  },
  {
   "cell_type": "code",
   "execution_count": null,
   "id": "95e8b5d8-a7ef-4bdf-bcee-4ef254c5e740",
   "metadata": {},
   "outputs": [],
   "source": []
  },
  {
   "cell_type": "markdown",
   "id": "14aae1e4-5c71-4870-a663-72eebff4a6b3",
   "metadata": {},
   "source": [
    "## Full Test `produce_annual_ntd_ridership_data_by_rtpa` function\n",
    "- need to updat to new NTD data table.\n"
   ]
  },
  {
   "cell_type": "code",
   "execution_count": null,
   "id": "ab837245-6ba3-4c6c-8746-8e2cc1108e13",
   "metadata": {
    "tags": []
   },
   "outputs": [],
   "source": [
    "check_id = [\"90253\", \"90227\", \"90259\", \"90286\"]\n",
    "\n",
    "display(\n",
    "    ntd_time_series_rtpa[ntd_time_series_rtpa[\"ntd_id\"].isin(check_id)][\n",
    "        \"city_x\"\n",
    "    ].unique(),\n",
    "    rtpa_ntd_crosswalk[rtpa_ntd_crosswalk[\"ntd_id\"].isin(check_id)][\"city\"].unique(),\n",
    ")\n",
    "\n",
    "# cities match, no need for the dictionary update anymore in the function"
   ]
  },
  {
   "cell_type": "code",
   "execution_count": null,
   "id": "ce1f6906-c0ff-4284-9575-e28c52c93185",
   "metadata": {},
   "outputs": [],
   "source": [
    "def produce_annual_ntd_ridership_data_by_rtpa():\n",
    "    \"\"\"\n",
    "    Function that ingest ridership data from `dim_annual_service_agencies`, filters for CA agencies.\n",
    "    Merges in ntd_id_to_RTPA_crosswalk.\n",
    "\n",
    "    \"\"\"\n",
    "    from annual_ridership_module import add_change_columns\n",
    "\n",
    "    print(\"ingest annual ridership data from warehouse\")\n",
    "\n",
    "    ntd_service = (\n",
    "        tbls.mart_ntd_funding_and_expenses.fct_service_data_and_operating_expenses_time_series_by_mode_upt()\n",
    "        >> filter(\n",
    "            _.state.str.contains(\"CA\")\n",
    "            | _.state.str.contains(\"NV\"),  # to get lake Tahoe Transportation back\n",
    "            _.year >= \"2018\",\n",
    "            _.city != None,\n",
    "            _.primary_uza_name.str.contains(\", CA\")\n",
    "            | _.primary_uza_name.str.contains(\"CA-NV\")\n",
    "            | _.primary_uza_name.str.contains(\"California Non-UZA\")\n",
    "            | _.primary_uza_name.str.contains(\n",
    "                \"El Paso, TX--NM\"\n",
    "            ),  # something about Paso\n",
    "        )\n",
    "        >> select(\n",
    "            \"agency_name\",\n",
    "            \"agency_status\",\n",
    "            \"city\",\n",
    "            \"legacy_ntd_id\",\n",
    "            \"mode\",\n",
    "            \"ntd_id\",\n",
    "            \"reporter_type\",\n",
    "            \"reporting_module\",\n",
    "            \"service\",\n",
    "            \"state\",\n",
    "            \"uace_code\",\n",
    "            \"primary_uza_name\",\n",
    "            \"uza_population\",\n",
    "            \"year\",\n",
    "            \"upt\",\n",
    "        )\n",
    "        >> collect()\n",
    "    )\n",
    "\n",
    "    ntd_service = (\n",
    "        ntd_service.groupby(\n",
    "            [\n",
    "                \"agency_name\",\n",
    "                \"agency_status\",\n",
    "                \"city\",\n",
    "                \"state\",\n",
    "                \"ntd_id\",\n",
    "                \"primary_uza_name\",\n",
    "                \"reporter_type\",\n",
    "                \"mode\",\n",
    "                \"service\",\n",
    "                \"year\",\n",
    "            ]\n",
    "        )\n",
    "        .agg({\"upt\": \"sum\"})\n",
    "        .sort_values(by=\"ntd_id\")\n",
    "        .reset_index()\n",
    "    )\n",
    "\n",
    "    # print(\"clean up warehouse data\")\n",
    "\n",
    "    # update_dict={\n",
    "    #    \"90227\":\"Moorpark\",\n",
    "    #    \"90253\":\"Bell Gardens\",\n",
    "    #    \"90259\":\"Cerritos\",\n",
    "    #    \"90286\":\"Monterey Park\",\n",
    "    # }\n",
    "\n",
    "    # for i, v in update_dict.items():\n",
    "    #    ntd_service.loc[ntd_service[\"ntd_id\"]== i,\"city\"] = v\n",
    "\n",
    "    print(\"read in new `ntd_id_to_rtpa_all_reporter_types` crosswalk\")\n",
    "\n",
    "    ntd_to_rtpa_crosswalk = pd.read_parquet(\n",
    "        f\"{GCS_FILE_PATH}ntd_id_rtpa_crosswalk_all_reporter_types.parquet\"\n",
    "    )\n",
    "\n",
    "    print(\"merge ntd data to crosswalk\")\n",
    "\n",
    "    ntd_data_by_rtpa = ntd_service.merge(\n",
    "        ntd_to_rtpa_crosswalk,\n",
    "        how=\"left\",\n",
    "        on=[\n",
    "            \"ntd_id\",\n",
    "            # \"agency\", \"reporter_type\", \"city\" # sometime agency name, reporter type and city name change or are inconsistent, causing possible fanout\n",
    "        ],\n",
    "        indicator=True,\n",
    "    ).rename(\n",
    "        columns={\n",
    "            \"actual_vehicles_passenger_car_revenue_hours\": \"vrh\",\n",
    "            \"actual_vehicles_passenger_car_revenue_miles\": \"vrm\",\n",
    "            \"unlinked_passenger_trips_upt\": \"upt\",\n",
    "            \"agency_name_x\": \"agency_name\",\n",
    "            \"agency_status_x\": \"agency_status\",\n",
    "            \"city_x\": \"city\",\n",
    "            \"state_x\": \"state\",\n",
    "            \"reporter_type_x\": \"reporter_type\",\n",
    "            \"agency_name_y\": \"xwalk_agency_name\",\n",
    "            \"reporter_type_y\": \"xwalk_reporter_type\",\n",
    "            \"agency_status_y\": \"xwalk_agency_status\",\n",
    "            \"city_y\": \"xwalk_city\",\n",
    "            \"state_y\": \"xwalk_state\",\n",
    "        }\n",
    "    )\n",
    "\n",
    "    print(ntd_data_by_rtpa._merge.value_counts())\n",
    "\n",
    "    if len(ntd_data_by_rtpa[ntd_data_by_rtpa._merge == \"left_only\"]) > 0:\n",
    "        raise ValueError(\"There are unmerged rows to crosswalk\")\n",
    "\n",
    "    print(\"add `change_column` to data\")\n",
    "    ntd_data_by_rtpa = add_change_columns(ntd_data_by_rtpa)\n",
    "\n",
    "    print(\"map mode and tos desc.\")\n",
    "    ntd_data_by_rtpa = ntd_data_by_rtpa.assign(\n",
    "        mode_full=ntd_data_by_rtpa[\"mode\"].map(NTD_MODES),\n",
    "        service_full=ntd_data_by_rtpa[\"service\"].map(NTD_TOS),\n",
    "    )\n",
    "\n",
    "    return ntd_data_by_rtpa\n",
    "\n",
    "\n",
    "# will add step to export data to gcs in final script"
   ]
  },
  {
   "cell_type": "code",
   "execution_count": null,
   "id": "48ddc1e8-0bf2-4d25-aad4-3cd225ee954b",
   "metadata": {
    "tags": []
   },
   "outputs": [],
   "source": [
    "annual_ridership_report_data = produce_annual_ntd_ridership_data_by_rtpa()"
   ]
  },
  {
   "cell_type": "code",
   "execution_count": null,
   "id": "3501d551-6681-4c92-8431-f6da0d44a152",
   "metadata": {},
   "outputs": [],
   "source": []
  },
  {
   "cell_type": "code",
   "execution_count": null,
   "id": "64cbab43-00bd-4cdc-8935-a0027cee283a",
   "metadata": {
    "tags": []
   },
   "outputs": [],
   "source": [
    "if annual_ridership_report_data.shape == ntd_time_series_rtpa.shape:\n",
    "    pass\n",
    "else:\n",
    "    print(\n",
    "        f\"\"\"\n",
    "{annual_ridership_report_data.shape} vs {ntd_time_series_rtpa.shape}.\n",
    "{annual_ridership_report_data.columns}\n",
    "{ntd_time_series_rtpa.columns}\n",
    "\"\"\"\n",
    "    )\n",
    "\n",
    "# gtg, ntd_time_series_rtpa doesnt apply the change 1 year calculations, but the lengths are the same"
   ]
  },
  {
   "cell_type": "code",
   "execution_count": null,
   "id": "2cf5716c-a50c-4657-aac5-bb496bb95776",
   "metadata": {
    "tags": []
   },
   "outputs": [],
   "source": [
    "annual_ridership_report_data.columns"
   ]
  },
  {
   "cell_type": "code",
   "execution_count": null,
   "id": "1f2d8bc2-7fd4-4345-be4d-fd458671e86f",
   "metadata": {
    "tags": []
   },
   "outputs": [],
   "source": [
    "annual_ridership_report_data[\"year\"].unique()"
   ]
  },
  {
   "cell_type": "code",
   "execution_count": null,
   "id": "db4b4bda-bd86-4933-aa66-c767be92d4ca",
   "metadata": {
    "tags": []
   },
   "outputs": [],
   "source": [
    "annual_ridership_report_data[\n",
    "    annual_ridership_report_data[\"agency_name\"].str.contains(\"Sac\")\n",
    "].head()"
   ]
  },
  {
   "cell_type": "markdown",
   "id": "56f976cf-784a-4343-9fa0-706e7a67fd1c",
   "metadata": {},
   "source": [
    "### export report data to GCS, as parquet,\n",
    "- to be read in by portfolio"
   ]
  },
  {
   "cell_type": "code",
   "execution_count": null,
   "id": "44bf1a2d-0a59-450b-9c4e-39cc3662a303",
   "metadata": {
    "tags": []
   },
   "outputs": [],
   "source": [
    "# annual_ridership_report_data.to_parquet(f\"{GCS_FILE_PATH}annual_ridership_report_data.parquet\")"
   ]
  },
  {
   "cell_type": "markdown",
   "id": "2fb788cb-c1a8-4cb4-8670-fef703466bef",
   "metadata": {},
   "source": [
    "## read in data from GCS to make sure things work "
   ]
  },
  {
   "cell_type": "code",
   "execution_count": null,
   "id": "3d36e8ea-88c4-41db-b2e8-31b53e92072f",
   "metadata": {
    "tags": []
   },
   "outputs": [],
   "source": [
    "report_data_check = pd.read_parquet(\n",
    "    f\"{GCS_FILE_PATH}annual_ridership_report_data.parquet\"\n",
    ")"
   ]
  },
  {
   "cell_type": "code",
   "execution_count": null,
   "id": "2fd238f9-1897-4017-9519-d1fb183ebaad",
   "metadata": {},
   "outputs": [],
   "source": [
    "report_data_check.info()"
   ]
  },
  {
   "cell_type": "code",
   "execution_count": null,
   "id": "ca715006-61c1-447f-b10b-ad31788980c4",
   "metadata": {},
   "outputs": [],
   "source": [
    "report_data_check[\"mode_full\"].value_counts()"
   ]
  },
  {
   "cell_type": "code",
   "execution_count": null,
   "id": "f7aa21e0-bdde-4265-8726-a5191ef2dd94",
   "metadata": {},
   "outputs": [],
   "source": [
    "report_data_check[report_data_check[\"mode_full\"].isna()][\"mode\"].value_counts()"
   ]
  },
  {
   "cell_type": "markdown",
   "id": "e14fdccf-1ccc-46d7-a806-8d6deac0f4fd",
   "metadata": {},
   "source": [
    "## Test of `save_rtpa_outs` function "
   ]
  },
  {
   "cell_type": "code",
   "execution_count": null,
   "id": "c1be0e8d-00b8-45b3-a7bd-76cc157d4d10",
   "metadata": {
    "tags": []
   },
   "outputs": [],
   "source": [
    "import gcsfs\n",
    "from segment_speed_utils.project_vars import PUBLIC_GCS\n",
    "\n",
    "fs = gcsfs.GCSFileSystem()"
   ]
  },
  {
   "cell_type": "code",
   "execution_count": null,
   "id": "446507c7-dda7-4bf6-8eb0-27f185d00bc7",
   "metadata": {
    "tags": []
   },
   "outputs": [],
   "source": [
    "def save_rtpa_outputs(\n",
    "    df: pd.DataFrame, year: int, month: str, upload_to_public: bool = False\n",
    "):\n",
    "    \"\"\"\n",
    "    Export an excel for each RTPA, adds a READ ME tab, then writes into a folder.\n",
    "    Zip that folder.\n",
    "    Upload zipped file to GCS.\n",
    "    \"\"\"\n",
    "    # col_dict = {\n",
    "    # \"agency_name\":,\n",
    "    # \"agency_status\":,\n",
    "    # \"city\":,\n",
    "    # \"state\":,\n",
    "    # \"ntd_id\":,\n",
    "    # \"primary_uza_name\":,\n",
    "    # \"reporter_type\":,\n",
    "    # \"mode\":,\n",
    "    # \"service\":,\n",
    "    # \"year\":,\n",
    "    # \"upt\":,\n",
    "    # \"RTPA\":,\n",
    "    # \"previous_y_upt\":,\n",
    "    # \"change_1yr\":,\n",
    "    # \"pct_change_1yr\":,\n",
    "    # \"mode_full\":,\n",
    "    # \"service_full\":,\n",
    "    # }\n",
    "    print(\"creating individual RTPA excel files\")\n",
    "\n",
    "    for i in df[\"RTPA\"].unique():\n",
    "\n",
    "        print(f\"creating excel file for: {i}\")\n",
    "\n",
    "        # Filename should be snakecase\n",
    "        rtpa_snakecase = (\n",
    "            i.replace(\" \", \"_\").replace(\"/\", \"_\").lower()\n",
    "        )  # this fixes 'Lake County/City Area Planning Council`\n",
    "\n",
    "        # insertng readme cover sheet,\n",
    "        cover_sheet = pd.read_excel(\n",
    "            \"./annual_report_cover_sheet_template.xlsx\",\n",
    "            index_col=\"**NTD Annual Ridership by RTPA**\",\n",
    "        )\n",
    "        cover_sheet.to_excel(\n",
    "            f\"./{year}_{month}/{rtpa_snakecase}.xlsx\", sheet_name=\"README\"\n",
    "        )\n",
    "\n",
    "        # filter data by single RTPA\n",
    "        rtpa_data = (\n",
    "            df[df[\"RTPA\"] == i]\n",
    "            .sort_values(\"ntd_id\")\n",
    "            .drop(\n",
    "                columns=[\n",
    "                    \"_merge\",\n",
    "                    \"xwalk_agency_name\",\n",
    "                    \"xwalk_reporter_type\",\n",
    "                    \"xwalk_agency_status\",\n",
    "                    \"xwalk_city\",\n",
    "                    \"xwalk_state\",\n",
    "                ]\n",
    "            )\n",
    "            # cleaning column names\n",
    "            .rename(columns=lambda x: x.replace(\"_\", \" \").title().strip())\n",
    "            # rename columns\n",
    "            # .rename(columns=col_dict)\n",
    "        )\n",
    "        # column lists for aggregations\n",
    "        agency_cols = [\"ntd_id\", \"agency_name\", \"RTPA\"]\n",
    "        mode_cols = [\"mode\", \"RTPA\"]\n",
    "        tos_cols = [\"service\", \"RTPA\"]\n",
    "        reporter_type = [\"reporter_type\", \"RTPA\"]\n",
    "\n",
    "        # Creating aggregations\n",
    "        by_agency_long = annual_ridership_module.sum_by_group(\n",
    "            (df[df[\"RTPA\"] == i]), agency_cols\n",
    "        )\n",
    "        by_mode_long = annual_ridership_module.sum_by_group(\n",
    "            (df[df[\"RTPA\"] == i]), mode_cols\n",
    "        )\n",
    "        by_tos_long = annual_ridership_module.sum_by_group(\n",
    "            (df[df[\"RTPA\"] == i]), tos_cols\n",
    "        )\n",
    "        by_reporter_type_long = annual_ridership_module.sum_by_group(\n",
    "            (df[df[\"RTPA\"] == i]), reporter_type\n",
    "        )\n",
    "\n",
    "        # writing pages to excel file\n",
    "        with pd.ExcelWriter(\n",
    "            f\"./{year}_{month}/{rtpa_snakecase}.xlsx\", mode=\"a\"\n",
    "        ) as writer:\n",
    "            rtpa_data.to_excel(writer, sheet_name=\"RTPA Ridership Data\", index=False)\n",
    "            by_agency_long.to_excel(\n",
    "                writer, sheet_name=\"Aggregated by Agency\", index=False\n",
    "            )\n",
    "            by_mode_long.to_excel(writer, sheet_name=\"Aggregated by Mode\", index=False)\n",
    "            by_tos_long.to_excel(writer, sheet_name=\"Aggregated by TOS\", index=False)\n",
    "            by_reporter_type_long.to_excel(\n",
    "                writer, sheet_name=\"Aggregate by Reporter Type\", index=False\n",
    "            )\n",
    "\n",
    "    print(\"zipping all excel files\")\n",
    "\n",
    "    shutil.make_archive(\n",
    "        f\"./{year}_{month}_annual_report_data\", \"zip\", f\"{year}_{month}\"\n",
    "    )\n",
    "\n",
    "    print(\"Zipped folder\")\n",
    "\n",
    "    print(\"Upload to private GCS\")\n",
    "    fs.upload(\n",
    "        f\"./{year}_{month}_annual_report_data.zip\",\n",
    "        f\"{GCS_FILE_PATH}{year}_{month}_annual_report_data.zip\",\n",
    "    )\n",
    "\n",
    "    if upload_to_public:\n",
    "        fs.upload(\n",
    "            f\"./{year}_{month}_annual_report_data.zip\",\n",
    "            f\"{PUBLIC_GCS}ntd_annual_ridership/{year}_{month}_annual_report_data.zip\",\n",
    "        )\n",
    "\n",
    "        print(\"Uploaded to public GCS\")\n",
    "\n",
    "    return"
   ]
  },
  {
   "cell_type": "code",
   "execution_count": null,
   "id": "69c2baf6-71c7-4bce-9bc7-9d2177cf3b52",
   "metadata": {
    "tags": []
   },
   "outputs": [],
   "source": [
    "def remove_local_outputs(year: int, month: str):\n",
    "    shutil.rmtree(f\"{year}_{month}/\")\n",
    "    os.remove(f\"{year}_{month}_annual_report_data.zip\")"
   ]
  },
  {
   "cell_type": "code",
   "execution_count": null,
   "id": "24cf7d2b-21f5-4fda-99f8-570c0537f892",
   "metadata": {
    "tags": []
   },
   "outputs": [],
   "source": [
    "## add these steps to if __name__ = __\"main\"__\n",
    "\n",
    "os.makedirs(f\"./{YEAR}_{MONTH}/\")\n",
    "\n",
    "df = pd.read_parquet(f\"{GCS_FILE_PATH}annual_ridership_report_data.parquet\")\n",
    "\n",
    "save_rtpa_outputs(df, YEAR, MONTH, upload_to_public=False)"
   ]
  },
  {
   "cell_type": "code",
   "execution_count": null,
   "id": "636bb098-201f-4cea-a5d6-7d411e16c536",
   "metadata": {
    "tags": []
   },
   "outputs": [],
   "source": [
    "remove_local_outputs(YEAR, MONTH)"
   ]
  },
  {
   "cell_type": "code",
   "execution_count": null,
   "id": "d2cae35f-68df-40e6-8c60-28f0e0c50946",
   "metadata": {},
   "outputs": [],
   "source": []
  }
 ],
 "metadata": {
  "kernelspec": {
   "display_name": "Python 3 (ipykernel)",
   "language": "python",
   "name": "python3"
  },
  "language_info": {
   "codemirror_mode": {
    "name": "ipython",
    "version": 3
   },
   "file_extension": ".py",
   "mimetype": "text/x-python",
   "name": "python",
   "nbconvert_exporter": "python",
   "pygments_lexer": "ipython3",
   "version": "3.11.10"
  }
 },
 "nbformat": 4,
 "nbformat_minor": 5
}
