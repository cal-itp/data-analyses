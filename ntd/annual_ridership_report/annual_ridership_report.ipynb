{
 "cells": [
  {
   "cell_type": "code",
   "execution_count": 2,
   "id": "34028321-6cdf-4264-867b-97f042d6d871",
   "metadata": {
    "tags": []
   },
   "outputs": [],
   "source": [
    "%%capture\n",
    "\n",
    "import warnings\n",
    "warnings.filterwarnings(\"ignore\")\n",
    "\n",
    "import altair as alt\n",
    "import calitp_data_analysis.magics\n",
    "import pandas as pd\n",
    "import sys\n",
    "sys.path.append(\"../../bus_service_increase\")\n",
    "sys.path.append(\"../\")\n",
    "import annual_ridership_module\n",
    "from bus_service_utils import chart_utils\n",
    "from calitp_data_analysis import calitp_color_palette as cp\n",
    "from IPython.display import HTML, Markdown, display\n",
    "from update_vars import GCS_FILE_PATH, MONTH, PUBLIC_FILENAME, YEAR\n",
    "\n",
    "# from shared_utils.rt_dates import MONTH_DICT\n",
    "\n",
    "# alt.renderers.enable(\"html\")\n",
    "alt.data_transformers.enable(\"default\", max_rows=None)\n",
    "\n",
    "WIDTH = 300\n",
    "HEIGHT = 150"
   ]
  },
  {
   "cell_type": "code",
   "execution_count": 3,
   "id": "6437e80c-fa8a-433f-b2aa-7138360d04a1",
   "metadata": {
    "tags": [
     "parameters"
    ]
   },
   "outputs": [],
   "source": [
    "# parameters cell for local\n",
    "rtpa = \"Metropolitan Transportation Commission\""
   ]
  },
  {
   "cell_type": "code",
   "execution_count": 4,
   "id": "b7055fb6-4331-425e-b4e5-e896b11b3acd",
   "metadata": {},
   "outputs": [
    {
     "name": "stdout",
     "output_type": "stream",
     "text": [
      "{\"rtpa\": \"Metropolitan Transportation Commission\"}\n"
     ]
    }
   ],
   "source": [
    "%%capture_parameters\n",
    "rtpa"
   ]
  },
  {
   "cell_type": "markdown",
   "id": "8e07bb7c-ae9c-49ca-a875-9f3e2037d5f8",
   "metadata": {
    "tags": []
   },
   "source": [
    "# {rtpa}\n",
    "## Annual Ridership Trends\n",
    "\n",
    "**Download data from our public [folder](https://console.cloud.google.com/storage/browser/calitp-publish-data-analysis)** by navigating to `ntd_annual_ridership` and selecting a file.\n",
    "\n",
    "Transit operators/agencies that submit annual reports to NTD are included in this report. Reporters that were previously active reporters, but are currently not, may appear. This may result in Reporters showing zero or partial ridership data in the report. \n",
    "\n",
    "If a Reporter, type of service, mode, or any combination of, is not a annual reporter or has not reported data since 2018, they will not appear in the report.\n",
    "\n",
    "Examples: \n",
    "- **Reporter A** is an annual reporter from 2019-2022, then became inactive and did not report for 2023. Reporter A's ridership data will be displayed for 2019-2022 only.\n",
    "- **Reporter B** is an annual from 2000-2017, then became inactive and did not report for 2018. Reporter B will be named in the report, but will not display ridership data.\n",
    "- **Reporter C** was an inactive reporter form 2015-2020, then became an active full reporter for 2021. Reporter C's ridership data will be displayed for 2021-present. "
   ]
  },
  {
   "cell_type": "code",
   "execution_count": 5,
   "id": "dcb960dc-1698-4bc2-838f-b4fc5d9ada13",
   "metadata": {},
   "outputs": [
    {
     "data": {
      "text/html": [
       "\n",
       "        <a href=https://console.cloud.google.com/storage/browser/calitp-publish-data-analysis>\n",
       "        Download the latest month of data: 2025_January.zip</a>\n",
       "        "
      ],
      "text/plain": [
       "<IPython.core.display.HTML object>"
      ]
     },
     "metadata": {},
     "output_type": "display_data"
    }
   ],
   "source": [
    "URL = \"https://console.cloud.google.com/storage/\" \"browser/calitp-publish-data-analysis\"\n",
    "\n",
    "display(\n",
    "    HTML(\n",
    "        f\"\"\"\n",
    "        <a href={URL}>\n",
    "        Download the latest month of data: {PUBLIC_FILENAME}</a>\n",
    "        \"\"\"\n",
    "    )\n",
    ")"
   ]
  },
  {
   "cell_type": "code",
   "execution_count": null,
   "id": "2687089d-cf66-45f5-b6c0-7375d34eca8f",
   "metadata": {},
   "outputs": [],
   "source": [
    "# read in data\n",
    "df = pd.read_parquet(\n",
    "    f\"{GCS_FILE_PATH}annual_ridership_report_data.parquet\",\n",
    "    filters=[(\"RTPA\", \"==\", rtpa)],\n",
    ")"
   ]
  },
  {
   "cell_type": "code",
   "execution_count": null,
   "id": "3d071519-f88a-4da8-8d82-0a5c76e2d90d",
   "metadata": {},
   "outputs": [],
   "source": [
    "def group_by_agency(df):\n",
    "    \"\"\"\n",
    "    Take in the 'by_ageny_long' df and aggregatese by rtpa, and calculates upt % of total.\n",
    "    To be used in pie chart\n",
    "    \"\"\"\n",
    "    initial_agg = df.groupby(\"agency_name\").agg(total_upt=(\"upt\", \"sum\")).reset_index()\n",
    "\n",
    "    # % total columns\n",
    "    initial_agg[\"pct_of_total_upt\"] = (\n",
    "        initial_agg[\"total_upt\"] / initial_agg[\"total_upt\"].sum()\n",
    "    ) * 100\n",
    "\n",
    "    # cleaning data types and rounding\n",
    "    initial_agg[\"total_upt\"] = initial_agg[\"total_upt\"].astype(\"int64\")\n",
    "    initial_agg[\"pct_of_total_upt\"] = initial_agg[\"pct_of_total_upt\"].round(decimals=2)\n",
    "    cleaned_agg = initial_agg.sort_values(by=\"total_upt\", ascending=False)\n",
    "\n",
    "    return cleaned_agg"
   ]
  },
  {
   "cell_type": "code",
   "execution_count": null,
   "id": "a6bb1f01-80b7-4bed-a79b-687757264890",
   "metadata": {},
   "outputs": [],
   "source": [
    "def make_line_chart(\n",
    "    df: pd.DataFrame,\n",
    "    y_col: str,\n",
    "    color_col: str,\n",
    "    title: str,\n",
    ") -> alt.Chart:\n",
    "    df = df[df[y_col] > 0].dropna(subset=y_col)\n",
    "\n",
    "    # x_label = [i for i in df.report_year.unique() if\n",
    "    #           any(substring in i for substring in\n",
    "    #               [\"-01\", \"-06\"])\n",
    "    #          ]\n",
    "\n",
    "    chart = (\n",
    "        (\n",
    "            alt.Chart(df)\n",
    "            .mark_line(point=True)\n",
    "            .encode(\n",
    "                x=alt.X(\n",
    "                    \"year:O\",\n",
    "                    # axis=alt.Axis(values = x_label),\n",
    "                    title=\"Date\",\n",
    "                ),\n",
    "                y=alt.Y(y_col, title=y_col),\n",
    "                color=alt.Color(\n",
    "                    color_col,\n",
    "                    # title = \"\",\n",
    "                    scale=alt.Scale(\n",
    "                        range=cp.CALITP_CATEGORY_BRIGHT_COLORS\n",
    "                        + cp.CALITP_CATEGORY_BOLD_COLORS\n",
    "                    ),\n",
    "                ),\n",
    "                tooltip=[\"year\", y_col, color_col, \"RTPA\"],\n",
    "            )\n",
    "            .properties(width=WIDTH, height=HEIGHT)\n",
    "            .facet(color_col, columns=2, title=\"\")\n",
    "            .resolve_scale(y=\"independent\")\n",
    "        )\n",
    "        .properties(title=title)\n",
    "        .interactive()\n",
    "    )\n",
    "\n",
    "    return chart"
   ]
  },
  {
   "cell_type": "code",
   "execution_count": null,
   "id": "10a6654e-f811-4f86-91c5-f30b7434a667",
   "metadata": {},
   "outputs": [],
   "source": [
    "def make_bar_chart(\n",
    "    df: pd.DataFrame,\n",
    "    y_col: str,\n",
    "    color_col: str,\n",
    "    title: str,\n",
    ") -> alt.Chart:\n",
    "\n",
    "    def short_label(word):\n",
    "        shorten_dict = {\n",
    "            \"change_1yr\": \"Change\",\n",
    "            \"pct_change_1yr\": \"Change\",\n",
    "        }\n",
    "        return shorten_dict[word]\n",
    "\n",
    "    # For change column, we are missing everything prior to 2023\n",
    "    # df = df.dropna(subset = y_col)\n",
    "\n",
    "    # need flag for y_col >,<, 0, missing?\n",
    "    # count function to how many agencies fall in those categories, then look at those agencies\n",
    "    # present table\n",
    "\n",
    "    # x_label = [i for i in df.report_year.unique() if\n",
    "    #           any(substring in i for substring in\n",
    "    #               [\"-01\", \"-03\", \"-06\", \"-09\"])\n",
    "    #          ]\n",
    "\n",
    "    chart = (\n",
    "        (\n",
    "            alt.Chart(df)\n",
    "            .mark_bar()\n",
    "            .encode(\n",
    "                x=alt.X(\n",
    "                    \"year:O\",\n",
    "                    # axis=alt.Axis(values = x_label),\n",
    "                    title=\"Date\",\n",
    "                ),\n",
    "                y=alt.Y(y_col, title=y_col),\n",
    "                color=alt.Color(\n",
    "                    color_col,\n",
    "                    title=\"\",\n",
    "                    scale=alt.Scale(\n",
    "                        range=cp.CALITP_CATEGORY_BRIGHT_COLORS\n",
    "                        + cp.CALITP_CATEGORY_BOLD_COLORS\n",
    "                    ),\n",
    "                ),\n",
    "                tooltip=[\"year\", y_col, color_col, \"RTPA\"],\n",
    "            )\n",
    "            .properties(width=WIDTH, height=HEIGHT)\n",
    "            .facet(color_col, columns=2, title=\"\")\n",
    "            .resolve_scale(x=\"shared\", y=\"independent\")\n",
    "        )\n",
    "        .properties(title=title)\n",
    "        .interactive()\n",
    "    )\n",
    "\n",
    "    return chart"
   ]
  },
  {
   "cell_type": "code",
   "execution_count": null,
   "id": "85976763-e13c-47dd-aa31-a942a16e94e9",
   "metadata": {},
   "outputs": [],
   "source": [
    "def make_pie_chart(df, col, color_col):\n",
    "\n",
    "    pie = (\n",
    "        alt.Chart(df)\n",
    "        .mark_arc(radius=150)\n",
    "        .encode(\n",
    "            theta=col,\n",
    "            color=color_col,\n",
    "            tooltip=[\"agency_name\", \"total_upt\", \"pct_of_total_upt\"],\n",
    "        )\n",
    "        .properties(\n",
    "            title=f\"Total Annual Unlinked Passenger Trips per Reporter in RTPA since 2018\",\n",
    "        )\n",
    "    )\n",
    "\n",
    "    return pie"
   ]
  },
  {
   "cell_type": "code",
   "execution_count": null,
   "id": "32598002-4622-488b-848f-db3f7e9ffd41",
   "metadata": {},
   "outputs": [],
   "source": [
    "# simple bar chart for total agencies and UPT\n",
    "def total_upt_chart(df: pd.DataFrame, x_col: str, y_col: str, tool_tip: list):\n",
    "    bar_chart = (\n",
    "        alt.Chart(df)\n",
    "        .mark_bar()\n",
    "        .encode(\n",
    "            x=alt.X(x_col).sort(\"-y\"),\n",
    "            y=alt.Y(y_col),\n",
    "            tooltip=tool_tip,\n",
    "            color=alt.Color(\n",
    "                x_col,\n",
    "                title=\"\",\n",
    "                scale=alt.Scale(\n",
    "                    range=cp.CALITP_CATEGORY_BRIGHT_COLORS\n",
    "                    + cp.CALITP_CATEGORY_BOLD_COLORS\n",
    "                ),\n",
    "            ),\n",
    "        )\n",
    "        .properties(\n",
    "            title=f\"Total Annual Unlinked Passenger Trips per Reporter in RTPA since 2018\",\n",
    "            width=WIDTH,\n",
    "            height=HEIGHT,\n",
    "        )\n",
    "        .resolve_scale(y=\"independent\")\n",
    "        .interactive()\n",
    "    )\n",
    "\n",
    "    return bar_chart"
   ]
  },
  {
   "cell_type": "code",
   "execution_count": null,
   "id": "632fa35c-8be4-4b41-a14c-afd7181e70e8",
   "metadata": {},
   "outputs": [],
   "source": [
    "agency_cols = [\"ntd_id\", \"agency_name\", \"RTPA\"]\n",
    "mode_cols = [\"mode_full\", \"RTPA\"]\n",
    "tos_cols = [\"service_full\", \"RTPA\"]\n",
    "reporter_type_cols = [\"reporter_type\", \"RTPA\"]\n",
    "\n",
    "by_agency_long = annual_ridership_module.sum_by_group(df, agency_cols)\n",
    "by_mode_long = annual_ridership_module.sum_by_group(df, mode_cols)\n",
    "by_tos_long = annual_ridership_module.sum_by_group(df, tos_cols)\n",
    "by_reporter_type_long = annual_ridership_module.sum_by_group(df, reporter_type_cols)"
   ]
  },
  {
   "cell_type": "code",
   "execution_count": null,
   "id": "26f4665b-6c46-46d6-9f02-99f694732828",
   "metadata": {},
   "outputs": [],
   "source": [
    "# agg by agency, for pie chart\n",
    "agency_agg_yr = group_by_agency(by_agency_long)\n",
    "\n",
    "# total UPT check\n",
    "total_upt = by_agency_long[\"upt\"].sum()\n",
    "agency_count = by_agency_long[\"agency_name\"].nunique()"
   ]
  },
  {
   "cell_type": "markdown",
   "id": "76da701f-0a54-401b-82a7-7cf587e1fc99",
   "metadata": {},
   "source": [
    "### Report Totals"
   ]
  },
  {
   "cell_type": "code",
   "execution_count": null,
   "id": "b669cd44-b1a8-4c62-88a0-b148cbf36b7c",
   "metadata": {},
   "outputs": [],
   "source": [
    "Markdown(\n",
    "    f\"\"\"\n",
    "Within {rtpa}:\n",
    "- Number of Reporters: <b>{agency_count}</b>.\n",
    "- Total Unlinked Passenger Trips since the beginning of this report: <b>{total_upt:,}</b>.\n",
    "- Individual Reporters ridership breakdown:\n",
    "\"\"\"\n",
    ")"
   ]
  },
  {
   "cell_type": "code",
   "execution_count": null,
   "id": "c6ffe2af-2dd3-40c5-befb-0d336e6131f9",
   "metadata": {},
   "outputs": [],
   "source": [
    "display(agency_agg_yr.reset_index(drop=True))"
   ]
  },
  {
   "cell_type": "code",
   "execution_count": null,
   "id": "c5386da5-248a-4607-bf48-68a3d4b99ad6",
   "metadata": {},
   "outputs": [],
   "source": [
    "tooltip_list = [\"agency_name\", \"total_upt\", \"pct_of_total_upt\"]\n",
    "\n",
    "total_upt_chart(\n",
    "    agency_agg_yr, \n",
    "    x_col=\"agency_name\", \n",
    "    y_col=\"total_upt\", \n",
    "    tool_tip=tooltip_list\n",
    ")"
   ]
  },
  {
   "cell_type": "markdown",
   "id": "9e285f5a-6c01-4c99-a442-a816ebe3ed63",
   "metadata": {},
   "source": [
    "### Agency"
   ]
  },
  {
   "cell_type": "code",
   "execution_count": null,
   "id": "e67be0e8-6371-4ba6-8bfc-b0181e6f9297",
   "metadata": {},
   "outputs": [],
   "source": [
    "make_line_chart(\n",
    "    by_agency_long,\n",
    "    y_col=\"upt\",\n",
    "    color_col=\"agency_name\",\n",
    "    title=\"Total Annual Unlinked Passenger Trips by Reporter\",\n",
    ")"
   ]
  },
  {
   "cell_type": "code",
   "execution_count": null,
   "id": "ad56b164-05a4-4fec-8c3f-88c448f48da7",
   "metadata": {
    "tags": []
   },
   "outputs": [],
   "source": [
    "make_bar_chart(\n",
    "    by_agency_long,\n",
    "    y_col=\"change_1yr\",\n",
    "    color_col=\"agency_name\",\n",
    "    title=\"Yearly Change in Unlinked Passenger Trips by Agency\",\n",
    ")"
   ]
  },
  {
   "cell_type": "markdown",
   "id": "24ab0280-95b2-47b6-a16a-84df4ce123d3",
   "metadata": {},
   "source": [
    "## Transit Mode"
   ]
  },
  {
   "cell_type": "code",
   "execution_count": null,
   "id": "032114f3-72fb-4965-b949-42e03f2c8ea4",
   "metadata": {
    "tags": []
   },
   "outputs": [],
   "source": [
    "make_line_chart(\n",
    "    by_mode_long, \n",
    "    y_col=\"upt\", \n",
    "    color_col=\"mode_full\", \n",
    "    title=\"Total Annual UPT by Mode\"\n",
    ")"
   ]
  },
  {
   "cell_type": "code",
   "execution_count": null,
   "id": "002371e0-2459-42eb-b8d2-5787f630ad1f",
   "metadata": {
    "tags": []
   },
   "outputs": [],
   "source": [
    "make_bar_chart(\n",
    "    by_mode_long,\n",
    "    y_col=\"change_1yr\",\n",
    "    color_col=\"mode_full\",\n",
    "    title=\"Yearly Change in UPT by Mode\",\n",
    ")"
   ]
  },
  {
   "cell_type": "markdown",
   "id": "5ddc9825-8d2e-4473-ba10-d8fa6a39643b",
   "metadata": {},
   "source": [
    "## Type of Service"
   ]
  },
  {
   "cell_type": "code",
   "execution_count": null,
   "id": "51fb0414-4cff-4fd1-956a-bab3114639b0",
   "metadata": {
    "tags": []
   },
   "outputs": [],
   "source": [
    "make_line_chart(\n",
    "    by_tos_long,\n",
    "    y_col=\"upt\",\n",
    "    color_col=\"service_full\",\n",
    "    title=\"Total Annual UPT by Type of Service\",\n",
    ")"
   ]
  },
  {
   "cell_type": "code",
   "execution_count": null,
   "id": "fba05e9f-951f-4be2-a755-3525e04258ba",
   "metadata": {
    "tags": []
   },
   "outputs": [],
   "source": [
    "make_bar_chart(\n",
    "    by_tos_long,\n",
    "    y_col=\"change_1yr\",\n",
    "    color_col=\"service_full\",\n",
    "    title=\"Total Change in UPT by Type of Service\",\n",
    ")"
   ]
  },
  {
   "cell_type": "markdown",
   "id": "c4cb19dd-2ff0-49f9-9d31-f0cca00e1147",
   "metadata": {},
   "source": [
    "## Reporter Type"
   ]
  },
  {
   "cell_type": "code",
   "execution_count": null,
   "id": "254a25b8-a705-4588-9e97-862672a2ea7e",
   "metadata": {
    "tags": []
   },
   "outputs": [],
   "source": [
    "make_line_chart(\n",
    "    by_reporter_type_long,\n",
    "    y_col=\"upt\",\n",
    "    color_col=\"reporter_type\",\n",
    "    title=\"Total Annual UPT by NTD Reporter Type\",\n",
    ")"
   ]
  },
  {
   "cell_type": "code",
   "execution_count": null,
   "id": "338cf7bf-e676-41a7-81e2-0010896141ed",
   "metadata": {
    "tags": []
   },
   "outputs": [],
   "source": [
    "make_bar_chart(\n",
    "    by_reporter_type_long,\n",
    "    y_col=\"change_1yr\",\n",
    "    color_col=\"reporter_type\",\n",
    "    title=\"Total Annual UPT by NTD Reporter Type\",\n",
    ")"
   ]
  },
  {
   "cell_type": "code",
   "execution_count": null,
   "id": "37ab2a64-faa6-448e-82e7-911cba7dde15",
   "metadata": {},
   "outputs": [],
   "source": []
  }
 ],
 "metadata": {
  "kernelspec": {
   "display_name": "Python 3 (ipykernel)",
   "language": "python",
   "name": "python3"
  },
  "language_info": {
   "codemirror_mode": {
    "name": "ipython",
    "version": 3
   },
   "file_extension": ".py",
   "mimetype": "text/x-python",
   "name": "python",
   "nbconvert_exporter": "python",
   "pygments_lexer": "ipython3",
   "version": "3.11.10"
  }
 },
 "nbformat": 4,
 "nbformat_minor": 5
}
