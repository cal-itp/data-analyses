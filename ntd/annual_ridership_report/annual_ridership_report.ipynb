{
 "cells": [
  {
   "cell_type": "code",
   "execution_count": 1,
   "id": "34028321-6cdf-4264-867b-97f042d6d871",
   "metadata": {},
   "outputs": [],
   "source": [
    "%%capture\n",
    "import sys\n",
    "sys.path.append(\"../../bus_service_increase\")\n",
    "sys.path.append(\"../\")\n",
    "import warnings\n",
    "warnings.filterwarnings('ignore')\n",
    "\n",
    "import altair as alt\n",
    "import calitp_data_analysis.magics\n",
    "import pandas as pd\n",
    "\n",
    "from IPython.display import display, HTML\n",
    "\n",
    "from bus_service_utils import chart_utils\n",
    "from calitp_data_analysis import calitp_color_palette as cp\n",
    "from update_vars import GCS_FILE_PATH, PUBLIC_FILENAME, YEAR, MONTH\n",
    "from monthly_ridership_by_rtpa import sum_by_group\n",
    "#from shared_utils.rt_dates import MONTH_DICT\n",
    "\n",
    "#alt.renderers.enable(\"html\")\n",
    "alt.data_transformers.enable('default', max_rows=None)"
   ]
  },
  {
   "cell_type": "code",
   "execution_count": 2,
   "id": "6437e80c-fa8a-433f-b2aa-7138360d04a1",
   "metadata": {
    "tags": [
     "parameter"
    ]
   },
   "outputs": [],
   "source": [
    "# parameters cell for local\n",
    "rtpa = \"Metropolitan Transportation Commission\""
   ]
  },
  {
   "cell_type": "code",
   "execution_count": 3,
   "id": "b7055fb6-4331-425e-b4e5-e896b11b3acd",
   "metadata": {},
   "outputs": [
    {
     "name": "stdout",
     "output_type": "stream",
     "text": [
      "{\"rtpa\": \"Metropolitan Transportation Commission\"}\n"
     ]
    }
   ],
   "source": [
    "%%capture_parameters\n",
    "rtpa"
   ]
  },
  {
   "cell_type": "markdown",
   "id": "8e07bb7c-ae9c-49ca-a875-9f3e2037d5f8",
   "metadata": {},
   "source": [
    "# {rtpa}\n",
    "## Annual Ridership Trends\n",
    "\n",
    "**Download data from our public [folder](https://console.cloud.google.com/storage/browser/calitp-publish-data-analysis)** by navigating to `ntd_annual_ridership` and selecting a file.\n",
    "\n",
    "Transit operators/agencies that aubmit annual reports to NTD are included in this report. Reporters that were previously Urban full reporters, but are currently not, may appear. This may result in Reporters showing zero or partial ridership data in the report. \n",
    "\n",
    "If a Reporter is not a monthly reporter, or has not reported data since 2018, they will not appear in the report.\n",
    "\n",
    "Examples: \n",
    "- **Reporter A** is an urban full reporter from 2019-2022, then became a reduced reporter for 2023. Reporter A's ridership data will be displayed for 2019-2022 only.\n",
    "- **Reporter B** is an urban full reporter from 2000-2017, then became a reduced reporter for 2018. Reporter B will be named in the report, but will not display ridership data.\n",
    "- **Reporter C** was a reduced reporter form 2015-2020, then became an urban full reporter and began submitting monthly ridership data to NTD for 2021. Reporter C's ridership data will be displayed for 2021-present. "
   ]
  },
  {
   "cell_type": "code",
   "execution_count": 4,
   "id": "dcb960dc-1698-4bc2-838f-b4fc5d9ada13",
   "metadata": {},
   "outputs": [
    {
     "data": {
      "text/html": [
       "\n",
       "        <a href=https://console.cloud.google.com/storage/browser/calitp-publish-data-analysis>\n",
       "        Download the latest month of data: 2024_November.zip</a>\n",
       "        "
      ],
      "text/plain": [
       "<IPython.core.display.HTML object>"
      ]
     },
     "metadata": {},
     "output_type": "display_data"
    }
   ],
   "source": [
    "URL = (\"https://console.cloud.google.com/storage/\"\n",
    "       \"browser/calitp-publish-data-analysis\"\n",
    "      )\n",
    "\n",
    "display(\n",
    "    HTML(\n",
    "        f\"\"\"\n",
    "        <a href={URL}>\n",
    "        Download the latest month of data: {PUBLIC_FILENAME}</a>\n",
    "        \"\"\"\n",
    "    )\n",
    ")"
   ]
  },
  {
   "cell_type": "code",
   "execution_count": 5,
   "id": "2687089d-cf66-45f5-b6c0-7375d34eca8f",
   "metadata": {},
   "outputs": [],
   "source": [
    "#read in data\n",
    "df = pd.read_parquet(\n",
    "    f\"{GCS_FILE_PATH}annual_report_data_2022-2023.parquet\"\n",
    ").rename(\n",
    "    columns={\n",
    "       \"actual_vehicles_passenger_car_revenue_hours\":\"vrh\",\n",
    "       \"actual_vehicles_passenger_car_revenue_miles\":\"vrm\",\n",
    "       \"unlinked_passenger_trips_upt\":\"upt\" \n",
    "    }\n",
    ")"
   ]
  },
  {
   "cell_type": "code",
   "execution_count": 10,
   "id": "5551f95d-2c38-4600-98e6-81412612efeb",
   "metadata": {
    "tags": []
   },
   "outputs": [],
   "source": [
    "def sum_by_group(\n",
    "    df: pd.DataFrame,\n",
    "    group_cols: list) -> pd.DataFrame:\n",
    "    \"\"\"\n",
    "    since data is now long to begin with, this replaces old sum_by_group, make_long and assemble_long_df functions.\n",
    "    \"\"\"\n",
    "    grouped_df = df.groupby(group_cols\n",
    "                           ).agg({\n",
    "        \"upt\":\"sum\",\n",
    "        \"previous_y_m_upt\":\"sum\",\n",
    "        \"change_1yr\":\"sum\"\n",
    "    }\n",
    "    ).reset_index()\n",
    "    \n",
    "    #get %change back\n",
    "    grouped_df = get_percent_change(grouped_df)\n",
    "    \n",
    "    #decimal to whole number\n",
    "    grouped_df[\"pct_change_1yr\"] = grouped_df[\"pct_change_1yr\"]*100\n",
    "    \n",
    "    return grouped_df"
   ]
  },
  {
   "cell_type": "code",
   "execution_count": 13,
   "id": "1b64bafb-cc12-4473-82c8-902fa5cb926e",
   "metadata": {
    "tags": []
   },
   "outputs": [],
   "source": [
    "## this also needs `get_percent_change()` and `add_change_columns()` function. \n",
    "## may move all these functions to a script file"
   ]
  },
  {
   "cell_type": "code",
   "execution_count": 11,
   "id": "3d071519-f88a-4da8-8d82-0a5c76e2d90d",
   "metadata": {},
   "outputs": [],
   "source": [
    "def group_by_agency(df):\n",
    "    \"\"\"\n",
    "    Take in the 'by_ageny_long' df and aggregatese by rtpa, and calculates upt % of total. \n",
    "    To be used in pie chart\n",
    "    \"\"\"\n",
    "    initial_agg = df.groupby(\"agency\").agg(\n",
    "        total_upt=(\"upt\",\"sum\")\n",
    "    ).reset_index()\n",
    "    \n",
    "    # % total columns\n",
    "    initial_agg[\"pct_of_total_upt\"] = (initial_agg[\"total_upt\"]/initial_agg[\"total_upt\"].sum())*100\n",
    "    \n",
    "    # cleaning data types and rounding\n",
    "    initial_agg[\"total_upt\"] = initial_agg[\"total_upt\"].astype(\"int64\")\n",
    "    initial_agg[\"pct_of_total_upt\"] = initial_agg[\"pct_of_total_upt\"].round(decimals=2)\n",
    "    cleaned_agg = initial_agg.sort_values(by=\"total_upt\", ascending = False)\n",
    "    \n",
    "    return cleaned_agg"
   ]
  },
  {
   "cell_type": "code",
   "execution_count": 12,
   "id": "bc1eea1b-926e-44ea-a58f-f9686d901698",
   "metadata": {},
   "outputs": [
    {
     "ename": "KeyError",
     "evalue": "\"Column(s) ['change_1yr', 'previous_y_m_upt'] do not exist\"",
     "output_type": "error",
     "traceback": [
      "\u001b[0;31m---------------------------------------------------------------------------\u001b[0m",
      "\u001b[0;31mKeyError\u001b[0m                                  Traceback (most recent call last)",
      "Cell \u001b[0;32mIn[12], line 3\u001b[0m\n\u001b[1;32m      1\u001b[0m agency_cols \u001b[38;5;241m=\u001b[39m [\u001b[38;5;124m\"\u001b[39m\u001b[38;5;124mntd_id\u001b[39m\u001b[38;5;124m\"\u001b[39m, \u001b[38;5;124m\"\u001b[39m\u001b[38;5;124magency\u001b[39m\u001b[38;5;124m\"\u001b[39m, \u001b[38;5;124m\"\u001b[39m\u001b[38;5;124mRTPA\u001b[39m\u001b[38;5;124m\"\u001b[39m]\n\u001b[0;32m----> 3\u001b[0m by_agency_long \u001b[38;5;241m=\u001b[39m \u001b[43msum_by_group\u001b[49m\u001b[43m(\u001b[49m\u001b[43mdf\u001b[49m\u001b[43m,\u001b[49m\u001b[43m \u001b[49m\u001b[43magency_cols\u001b[49m\u001b[43m)\u001b[49m\n\u001b[1;32m      5\u001b[0m \u001b[38;5;66;03m# agg by agency, for pie chart\u001b[39;00m\n\u001b[1;32m      6\u001b[0m agency_agg_yr \u001b[38;5;241m=\u001b[39m group_by_agency(by_agency_long)\n",
      "Cell \u001b[0;32mIn[10], line 8\u001b[0m, in \u001b[0;36msum_by_group\u001b[0;34m(df, group_cols)\u001b[0m\n\u001b[1;32m      1\u001b[0m \u001b[38;5;28;01mdef\u001b[39;00m\u001b[38;5;250m \u001b[39m\u001b[38;5;21msum_by_group\u001b[39m(\n\u001b[1;32m      2\u001b[0m     df: pd\u001b[38;5;241m.\u001b[39mDataFrame,\n\u001b[1;32m      3\u001b[0m     group_cols: \u001b[38;5;28mlist\u001b[39m) \u001b[38;5;241m-\u001b[39m\u001b[38;5;241m>\u001b[39m pd\u001b[38;5;241m.\u001b[39mDataFrame:\n\u001b[1;32m      4\u001b[0m \u001b[38;5;250m    \u001b[39m\u001b[38;5;124;03m\"\"\"\u001b[39;00m\n\u001b[1;32m      5\u001b[0m \u001b[38;5;124;03m    since data is now long to begin with, this replaces old sum_by_group, make_long and assemble_long_df functions.\u001b[39;00m\n\u001b[1;32m      6\u001b[0m \u001b[38;5;124;03m    \"\"\"\u001b[39;00m\n\u001b[1;32m      7\u001b[0m     grouped_df \u001b[38;5;241m=\u001b[39m \u001b[43mdf\u001b[49m\u001b[38;5;241;43m.\u001b[39;49m\u001b[43mgroupby\u001b[49m\u001b[43m(\u001b[49m\u001b[43mgroup_cols\u001b[49m\n\u001b[0;32m----> 8\u001b[0m \u001b[43m                           \u001b[49m\u001b[43m)\u001b[49m\u001b[38;5;241;43m.\u001b[39;49m\u001b[43magg\u001b[49m\u001b[43m(\u001b[49m\u001b[43m{\u001b[49m\n\u001b[1;32m      9\u001b[0m \u001b[43m        \u001b[49m\u001b[38;5;124;43m\"\u001b[39;49m\u001b[38;5;124;43mupt\u001b[39;49m\u001b[38;5;124;43m\"\u001b[39;49m\u001b[43m:\u001b[49m\u001b[38;5;124;43m\"\u001b[39;49m\u001b[38;5;124;43msum\u001b[39;49m\u001b[38;5;124;43m\"\u001b[39;49m\u001b[43m,\u001b[49m\n\u001b[1;32m     10\u001b[0m \u001b[43m        \u001b[49m\u001b[38;5;124;43m\"\u001b[39;49m\u001b[38;5;124;43mprevious_y_m_upt\u001b[39;49m\u001b[38;5;124;43m\"\u001b[39;49m\u001b[43m:\u001b[49m\u001b[38;5;124;43m\"\u001b[39;49m\u001b[38;5;124;43msum\u001b[39;49m\u001b[38;5;124;43m\"\u001b[39;49m\u001b[43m,\u001b[49m\n\u001b[1;32m     11\u001b[0m \u001b[43m        \u001b[49m\u001b[38;5;124;43m\"\u001b[39;49m\u001b[38;5;124;43mchange_1yr\u001b[39;49m\u001b[38;5;124;43m\"\u001b[39;49m\u001b[43m:\u001b[49m\u001b[38;5;124;43m\"\u001b[39;49m\u001b[38;5;124;43msum\u001b[39;49m\u001b[38;5;124;43m\"\u001b[39;49m\n\u001b[1;32m     12\u001b[0m \u001b[43m    \u001b[49m\u001b[43m}\u001b[49m\n\u001b[1;32m     13\u001b[0m \u001b[43m    \u001b[49m\u001b[43m)\u001b[49m\u001b[38;5;241m.\u001b[39mreset_index()\n\u001b[1;32m     15\u001b[0m     \u001b[38;5;66;03m#get %change back\u001b[39;00m\n\u001b[1;32m     16\u001b[0m     grouped_df \u001b[38;5;241m=\u001b[39m get_percent_change(grouped_df)\n",
      "File \u001b[0;32m/opt/conda/lib/python3.11/site-packages/pandas/core/groupby/generic.py:895\u001b[0m, in \u001b[0;36mDataFrameGroupBy.aggregate\u001b[0;34m(self, func, engine, engine_kwargs, *args, **kwargs)\u001b[0m\n\u001b[1;32m    892\u001b[0m func \u001b[38;5;241m=\u001b[39m maybe_mangle_lambdas(func)\n\u001b[1;32m    894\u001b[0m op \u001b[38;5;241m=\u001b[39m GroupByApply(\u001b[38;5;28mself\u001b[39m, func, args, kwargs)\n\u001b[0;32m--> 895\u001b[0m result \u001b[38;5;241m=\u001b[39m \u001b[43mop\u001b[49m\u001b[38;5;241;43m.\u001b[39;49m\u001b[43magg\u001b[49m\u001b[43m(\u001b[49m\u001b[43m)\u001b[49m\n\u001b[1;32m    896\u001b[0m \u001b[38;5;28;01mif\u001b[39;00m \u001b[38;5;129;01mnot\u001b[39;00m is_dict_like(func) \u001b[38;5;129;01mand\u001b[39;00m result \u001b[38;5;129;01mis\u001b[39;00m \u001b[38;5;129;01mnot\u001b[39;00m \u001b[38;5;28;01mNone\u001b[39;00m:\n\u001b[1;32m    897\u001b[0m     \u001b[38;5;28;01mreturn\u001b[39;00m result\n",
      "File \u001b[0;32m/opt/conda/lib/python3.11/site-packages/pandas/core/apply.py:172\u001b[0m, in \u001b[0;36mApply.agg\u001b[0;34m(self)\u001b[0m\n\u001b[1;32m    169\u001b[0m     \u001b[38;5;28;01mreturn\u001b[39;00m \u001b[38;5;28mself\u001b[39m\u001b[38;5;241m.\u001b[39mapply_str()\n\u001b[1;32m    171\u001b[0m \u001b[38;5;28;01mif\u001b[39;00m is_dict_like(arg):\n\u001b[0;32m--> 172\u001b[0m     \u001b[38;5;28;01mreturn\u001b[39;00m \u001b[38;5;28;43mself\u001b[39;49m\u001b[38;5;241;43m.\u001b[39;49m\u001b[43magg_dict_like\u001b[49m\u001b[43m(\u001b[49m\u001b[43m)\u001b[49m\n\u001b[1;32m    173\u001b[0m \u001b[38;5;28;01melif\u001b[39;00m is_list_like(arg):\n\u001b[1;32m    174\u001b[0m     \u001b[38;5;66;03m# we require a list, but not a 'str'\u001b[39;00m\n\u001b[1;32m    175\u001b[0m     \u001b[38;5;28;01mreturn\u001b[39;00m \u001b[38;5;28mself\u001b[39m\u001b[38;5;241m.\u001b[39magg_list_like()\n",
      "File \u001b[0;32m/opt/conda/lib/python3.11/site-packages/pandas/core/apply.py:496\u001b[0m, in \u001b[0;36mApply.agg_dict_like\u001b[0;34m(self)\u001b[0m\n\u001b[1;32m    493\u001b[0m     selected_obj \u001b[38;5;241m=\u001b[39m obj\u001b[38;5;241m.\u001b[39m_selected_obj\n\u001b[1;32m    494\u001b[0m     selection \u001b[38;5;241m=\u001b[39m obj\u001b[38;5;241m.\u001b[39m_selection\n\u001b[0;32m--> 496\u001b[0m arg \u001b[38;5;241m=\u001b[39m \u001b[38;5;28;43mself\u001b[39;49m\u001b[38;5;241;43m.\u001b[39;49m\u001b[43mnormalize_dictlike_arg\u001b[49m\u001b[43m(\u001b[49m\u001b[38;5;124;43m\"\u001b[39;49m\u001b[38;5;124;43magg\u001b[39;49m\u001b[38;5;124;43m\"\u001b[39;49m\u001b[43m,\u001b[49m\u001b[43m \u001b[49m\u001b[43mselected_obj\u001b[49m\u001b[43m,\u001b[49m\u001b[43m \u001b[49m\u001b[43marg\u001b[49m\u001b[43m)\u001b[49m\n\u001b[1;32m    498\u001b[0m \u001b[38;5;28;01mif\u001b[39;00m selected_obj\u001b[38;5;241m.\u001b[39mndim \u001b[38;5;241m==\u001b[39m \u001b[38;5;241m1\u001b[39m:\n\u001b[1;32m    499\u001b[0m     \u001b[38;5;66;03m# key only used for output\u001b[39;00m\n\u001b[1;32m    500\u001b[0m     colg \u001b[38;5;241m=\u001b[39m obj\u001b[38;5;241m.\u001b[39m_gotitem(selection, ndim\u001b[38;5;241m=\u001b[39m\u001b[38;5;241m1\u001b[39m)\n",
      "File \u001b[0;32m/opt/conda/lib/python3.11/site-packages/pandas/core/apply.py:619\u001b[0m, in \u001b[0;36mApply.normalize_dictlike_arg\u001b[0;34m(self, how, obj, func)\u001b[0m\n\u001b[1;32m    617\u001b[0m     \u001b[38;5;28;01mif\u001b[39;00m \u001b[38;5;28mlen\u001b[39m(cols) \u001b[38;5;241m>\u001b[39m \u001b[38;5;241m0\u001b[39m:\n\u001b[1;32m    618\u001b[0m         cols_sorted \u001b[38;5;241m=\u001b[39m \u001b[38;5;28mlist\u001b[39m(safe_sort(\u001b[38;5;28mlist\u001b[39m(cols)))\n\u001b[0;32m--> 619\u001b[0m         \u001b[38;5;28;01mraise\u001b[39;00m \u001b[38;5;167;01mKeyError\u001b[39;00m(\u001b[38;5;124mf\u001b[39m\u001b[38;5;124m\"\u001b[39m\u001b[38;5;124mColumn(s) \u001b[39m\u001b[38;5;132;01m{\u001b[39;00mcols_sorted\u001b[38;5;132;01m}\u001b[39;00m\u001b[38;5;124m do not exist\u001b[39m\u001b[38;5;124m\"\u001b[39m)\n\u001b[1;32m    621\u001b[0m aggregator_types \u001b[38;5;241m=\u001b[39m (\u001b[38;5;28mlist\u001b[39m, \u001b[38;5;28mtuple\u001b[39m, \u001b[38;5;28mdict\u001b[39m)\n\u001b[1;32m    623\u001b[0m \u001b[38;5;66;03m# if we have a dict of any non-scalars\u001b[39;00m\n\u001b[1;32m    624\u001b[0m \u001b[38;5;66;03m# eg. {'A' : ['mean']}, normalize all to\u001b[39;00m\n\u001b[1;32m    625\u001b[0m \u001b[38;5;66;03m# be list-likes\u001b[39;00m\n\u001b[1;32m    626\u001b[0m \u001b[38;5;66;03m# Cannot use func.values() because arg may be a Series\u001b[39;00m\n",
      "\u001b[0;31mKeyError\u001b[0m: \"Column(s) ['change_1yr', 'previous_y_m_upt'] do not exist\""
     ]
    }
   ],
   "source": [
    "agency_cols = [\"ntd_id\", \"agency\", \"RTPA\"]\n",
    "\n",
    "by_agency_long = sum_by_group(df, agency_cols)\n",
    "\n",
    "# agg by agency, for pie chart\n",
    "agency_agg_yr = group_by_agency(by_agency_long)\n",
    "\n",
    "# total UPT check \n",
    "total_upt = by_agency_long[\"upt\"].sum()\n",
    "agency_count = by_agency_long[\"agency\"].nunique()"
   ]
  },
  {
   "cell_type": "code",
   "execution_count": null,
   "id": "a6bb1f01-80b7-4bed-a79b-687757264890",
   "metadata": {},
   "outputs": [],
   "source": [
    "def make_line_chart(\n",
    "    df: pd.DataFrame, \n",
    "    y_col: str,\n",
    "    color_col: str,\n",
    ") -> alt.Chart:\n",
    "    df = df[df[y_col] > 0].dropna(subset = y_col)\n",
    "\n",
    "    x_label = [i for i in df.period_year_month.unique() if \n",
    "               any(substring in i for substring in \n",
    "                   [\"-01\", \"-06\"])\n",
    "              ]    \n",
    "    chart = (alt.Chart(df)\n",
    "         .mark_line()\n",
    "         .encode(\n",
    "             x = alt.X(\"period_year_month:O\", \n",
    "                       axis=alt.Axis(values = x_label), \n",
    "                       title = \"Date\"\n",
    "                      ),\n",
    "             y = alt.Y(y_col, title = labeling(y_col)),\n",
    "             color = alt.Color(color_col, title = \"\", \n",
    "                               scale = alt.Scale(\n",
    "                                   range = cp.CALITP_CATEGORY_BRIGHT_COLORS + \n",
    "                                   cp.CALITP_CATEGORY_BOLD_COLORS\n",
    "                               )),\n",
    "             tooltip = [\"period_year_month\", y_col, color_col, \"RTPA\"]\n",
    "         ).properties(width = WIDTH, height = HEIGHT)\n",
    "         .facet(color_col, columns=2, title = \"\")\n",
    "         .resolve_scale(y=\"independent\")\n",
    "    ).properties(\n",
    "        title = f\"{labeling(y_col)} by {labeling(color_col)}\"\n",
    "    ).interactive()\n",
    "        \n",
    "    return chart"
   ]
  },
  {
   "cell_type": "code",
   "execution_count": null,
   "id": "10a6654e-f811-4f86-91c5-f30b7434a667",
   "metadata": {},
   "outputs": [],
   "source": [
    "def make_bar_chart(\n",
    "    df: pd.DataFrame, \n",
    "    y_col: str,\n",
    "    color_col: str,\n",
    ") -> alt.Chart:\n",
    "    \n",
    "    def short_label(word):\n",
    "        shorten_dict = {\n",
    "            \"change_1yr\": \"Change\",\n",
    "            \"pct_change_1yr\":\"Change\",\n",
    "        }\n",
    "        return shorten_dict[word]\n",
    "    \n",
    "    # For change column, we are missing everything prior to 2023 \n",
    "    #df = df.dropna(subset = y_col)\n",
    "    \n",
    "    #need flag for y_col >,<, 0, missing?\n",
    "    #count function to how many agencies fall in those categories, then look at those agencies\n",
    "    #present table\n",
    "    \n",
    "    x_label = [i for i in df.period_year_month.unique() if \n",
    "               any(substring in i for substring in \n",
    "                   [\"-01\", \"-03\", \"-06\", \"-09\"])\n",
    "              ]\n",
    "    \n",
    "    chart = (alt.Chart(df)\n",
    "         .mark_bar()\n",
    "         .encode(\n",
    "             x = alt.X(\"period_year_month:O\", \n",
    "                       axis=alt.Axis(values = x_label), \n",
    "                       title = \"Date\"\n",
    "                      ),\n",
    "             y = alt.Y(y_col, title = short_label(y_col)),\n",
    "             color = alt.Color(color_col, title = \"\", \n",
    "                              scale = alt.Scale(\n",
    "                                   range = cp.CALITP_CATEGORY_BRIGHT_COLORS + \n",
    "                                   cp.CALITP_CATEGORY_BOLD_COLORS\n",
    "                              )),\n",
    "             tooltip = [\"period_year_month\", y_col, color_col, \"RTPA\"]\n",
    "         ).properties(width = WIDTH, height = HEIGHT)\n",
    "         .facet(color_col, columns=2, title = \"\")\n",
    "         .resolve_scale(x=\"shared\", \n",
    "                        y=\"independent\")\n",
    "    ).properties(\n",
    "        title = f\"{labeling(y_col)} by {labeling(color_col)}\"\n",
    "    ).interactive()\n",
    "    \n",
    "    return chart"
   ]
  },
  {
   "cell_type": "code",
   "execution_count": null,
   "id": "85976763-e13c-47dd-aa31-a942a16e94e9",
   "metadata": {},
   "outputs": [],
   "source": [
    "def make_pie_chart(df,\n",
    "             col,\n",
    "             color_col):\n",
    "    \n",
    "    pie = alt.Chart(df).mark_arc(radius = 150).encode(\n",
    "        theta=col,\n",
    "        color=color_col,\n",
    "        tooltip = [\"agency\",\"total_upt\",\"pct_of_total_upt\"]\n",
    "    ).properties(\n",
    "        title=f\"Total Unlinked Passenger Trips per Reporter in RTPA since {MIN_YEAR}\",\n",
    "\n",
    "    )\n",
    "\n",
    "    return pie"
   ]
  },
  {
   "cell_type": "code",
   "execution_count": null,
   "id": "32598002-4622-488b-848f-db3f7e9ffd41",
   "metadata": {},
   "outputs": [],
   "source": [
    "#simple bar chart for total agencies and UPT\n",
    "def total_upt_chart(df: pd.DataFrame, x_col:str, y_col:str,tool_tip:list):\n",
    "    bar_chart = alt.Chart(df).mark_bar().encode(\n",
    "    x=alt.X(x_col).sort(\"-y\"),\n",
    "    y=alt.Y(y_col),\n",
    "    tooltip = tool_tip,\n",
    "    color = alt.Color(x_col, title = \"\", \n",
    "                               scale = alt.Scale(\n",
    "                                   range = cp.CALITP_CATEGORY_BRIGHT_COLORS + \n",
    "                                   cp.CALITP_CATEGORY_BOLD_COLORS\n",
    "                               ))\n",
    "    ).properties(\n",
    "    title=f\"Total Unlinked Passenger Trips per Reporter in RTPA since {MIN_YEAR}\",\n",
    "    width = WIDTH, \n",
    "    height = HEIGHT,\n",
    "    ).resolve_scale(y=\"independent\").interactive()\n",
    "    \n",
    "    return bar_chart"
   ]
  },
  {
   "cell_type": "markdown",
   "id": "76da701f-0a54-401b-82a7-7cf587e1fc99",
   "metadata": {},
   "source": [
    "### Report Totals"
   ]
  },
  {
   "cell_type": "code",
   "execution_count": null,
   "id": "b669cd44-b1a8-4c62-88a0-b148cbf36b7c",
   "metadata": {},
   "outputs": [],
   "source": [
    "Markdown(f\"\"\"\n",
    "Within {rtpa}:\n",
    "- Number of Reporters: <b>{agency_count}</b>.\n",
    "- Total Unlinked Passenger Trips since {MIN_YEAR}: <b>{total_upt:,}</b>.\n",
    "- Individual Reporters ridership breakdown:\n",
    "\"\"\")"
   ]
  },
  {
   "cell_type": "code",
   "execution_count": null,
   "id": "c6ffe2af-2dd3-40c5-befb-0d336e6131f9",
   "metadata": {},
   "outputs": [],
   "source": [
    "display(agency_agg_yr.reset_index(drop=True))"
   ]
  },
  {
   "cell_type": "code",
   "execution_count": null,
   "id": "c5386da5-248a-4607-bf48-68a3d4b99ad6",
   "metadata": {},
   "outputs": [],
   "source": [
    "tooltip_list = [\"agency\",\"total_upt\",\"pct_of_total_upt\"]\n",
    "\n",
    "total_upt_chart(\n",
    "    agency_agg_yr,\n",
    "    x_col=\"agency\", \n",
    "    y_col=\"total_upt\", \n",
    "    tool_tip=tooltip_list)"
   ]
  },
  {
   "cell_type": "markdown",
   "id": "9e285f5a-6c01-4c99-a442-a816ebe3ed63",
   "metadata": {},
   "source": [
    "### Reporter"
   ]
  },
  {
   "cell_type": "code",
   "execution_count": null,
   "id": "e67be0e8-6371-4ba6-8bfc-b0181e6f9297",
   "metadata": {},
   "outputs": [],
   "source": [
    "make_line_chart(\n",
    "    by_agency_long, \n",
    "    y_col = \"upt\", \n",
    "    color_col = \"agency\")\n"
   ]
  },
  {
   "cell_type": "code",
   "execution_count": 8,
   "id": "ad56b164-05a4-4fec-8c3f-88c448f48da7",
   "metadata": {
    "tags": []
   },
   "outputs": [
    {
     "ename": "NameError",
     "evalue": "name 'make_bar_chart' is not defined",
     "output_type": "error",
     "traceback": [
      "\u001b[0;31m---------------------------------------------------------------------------\u001b[0m",
      "\u001b[0;31mNameError\u001b[0m                                 Traceback (most recent call last)",
      "Cell \u001b[0;32mIn[8], line 1\u001b[0m\n\u001b[0;32m----> 1\u001b[0m \u001b[43mmake_bar_chart\u001b[49m(\n\u001b[1;32m      2\u001b[0m     by_agency_long, \n\u001b[1;32m      3\u001b[0m     y_col \u001b[38;5;241m=\u001b[39m \u001b[38;5;124m\"\u001b[39m\u001b[38;5;124mchange_1yr\u001b[39m\u001b[38;5;124m\"\u001b[39m, \n\u001b[1;32m      4\u001b[0m     color_col \u001b[38;5;241m=\u001b[39m \u001b[38;5;124m\"\u001b[39m\u001b[38;5;124magency\u001b[39m\u001b[38;5;124m\"\u001b[39m)\n",
      "\u001b[0;31mNameError\u001b[0m: name 'make_bar_chart' is not defined"
     ]
    }
   ],
   "source": [
    "make_bar_chart(\n",
    "    by_agency_long, \n",
    "    y_col = \"change_1yr\", \n",
    "    color_col = \"agency\")"
   ]
  },
  {
   "cell_type": "code",
   "execution_count": null,
   "id": "c9dc7682-7d20-4eae-85fb-babc48209644",
   "metadata": {},
   "outputs": [],
   "source": []
  }
 ],
 "metadata": {
  "kernelspec": {
   "display_name": "Python 3 (ipykernel)",
   "language": "python",
   "name": "python3"
  },
  "language_info": {
   "codemirror_mode": {
    "name": "ipython",
    "version": 3
   },
   "file_extension": ".py",
   "mimetype": "text/x-python",
   "name": "python",
   "nbconvert_exporter": "python",
   "pygments_lexer": "ipython3",
   "version": "3.11.6"
  }
 },
 "nbformat": 4,
 "nbformat_minor": 5
}
