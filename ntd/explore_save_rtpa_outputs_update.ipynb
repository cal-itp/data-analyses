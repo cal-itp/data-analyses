{
 "cells": [
  {
   "cell_type": "code",
   "execution_count": 4,
   "id": "f123c4cb-d90c-4696-baaa-9eff164b8baf",
   "metadata": {},
   "outputs": [],
   "source": [
    "import gcsfs\n",
    "import geopandas as gpd\n",
    "import os\n",
    "import pandas as pd\n",
    "import shutil\n",
    "\n",
    "from calitp_data_analysis.tables import tbls\n",
    "from siuba import _, collect, count, filter, show_query\n",
    "from calitp_data_analysis.sql import to_snakecase\n",
    "from segment_speed_utils.project_vars import PUBLIC_GCS\n",
    "#from shared_utils.rt_dates import MONTH_DICT\n",
    "from update_vars import NTD_MODES, NTD_TOS, YEAR, MONTH"
   ]
  },
  {
   "cell_type": "code",
   "execution_count": 12,
   "id": "47b1e0c0-f078-493d-8ead-3811431fc370",
   "metadata": {},
   "outputs": [],
   "source": [
    "from monthly_ridership_by_rtpa import produce_ntd_monthly_ridership_by_rtpa, sum_by_group"
   ]
  },
  {
   "cell_type": "code",
   "execution_count": 7,
   "id": "cec53d21-05a7-475c-b893-84ca3bb9401e",
   "metadata": {},
   "outputs": [
    {
     "name": "stdout",
     "output_type": "stream",
     "text": [
      "both          95900\n",
      "left_only         0\n",
      "right_only        0\n",
      "Name: _merge, dtype: int64\n"
     ]
    },
    {
     "name": "stderr",
     "output_type": "stream",
     "text": [
      "/home/jovyan/data-analyses/ntd/monthly_ridership_by_rtpa.py:40: FutureWarning: Not prepending group keys to the result index of transform-like apply. In the future, the group keys will be included in the index, regardless of whether the applied function returns a like-indexed object.\n",
      "To preserve the previous behavior, use\n",
      "\n",
      "\t>>> .groupby(..., group_keys=False)\n",
      "\n",
      "To adopt the future behavior and silence this warning, use \n",
      "\n",
      "\t>>> .groupby(..., group_keys=True)\n",
      "  previous_y_m_upt = (df.sort_values(sort_cols2)\n"
     ]
    }
   ],
   "source": [
    "df = produce_ntd_monthly_ridership_by_rtpa(YEAR, MONTH)"
   ]
  },
  {
   "cell_type": "code",
   "execution_count": 16,
   "id": "32072e6c-73f8-4aaa-9340-e326e2a48942",
   "metadata": {},
   "outputs": [
    {
     "name": "stdout",
     "output_type": "stream",
     "text": [
      "<class 'pandas.core.frame.DataFrame'>\n",
      "Int64Index: 95900 entries, 0 to 95899\n",
      "Data columns (total 29 columns):\n",
      " #   Column             Non-Null Count  Dtype              \n",
      "---  ------             --------------  -----              \n",
      " 0   key                95900 non-null  object             \n",
      " 1   ntd_id             95900 non-null  object             \n",
      " 2   legacy_ntd_id      90420 non-null  object             \n",
      " 3   agency             95900 non-null  object             \n",
      " 4   reporter_type      95900 non-null  object             \n",
      " 5   period_year_month  95900 non-null  object             \n",
      " 6   period_year        95900 non-null  int64              \n",
      " 7   period_month       95900 non-null  int64              \n",
      " 8   uza_name           95900 non-null  object             \n",
      " 9   primary_uza_code   95900 non-null  object             \n",
      " 10  _3_mode            95900 non-null  object             \n",
      " 11  mode               95900 non-null  object             \n",
      " 12  mode_name          95900 non-null  object             \n",
      " 13  service_type       95900 non-null  object             \n",
      " 14  Status             95900 non-null  object             \n",
      " 15  tos                95900 non-null  object             \n",
      " 16  upt                52124 non-null  float64            \n",
      " 17  vrm                52282 non-null  float64            \n",
      " 18  vrh                52282 non-null  float64            \n",
      " 19  voms               52486 non-null  float64            \n",
      " 20  _dt                95900 non-null  object             \n",
      " 21  execution_ts       95900 non-null  datetime64[ns, UTC]\n",
      " 22  RTPA               95900 non-null  object             \n",
      " 23  _merge             95900 non-null  category           \n",
      " 24  previous_y_m_upt   51915 non-null  float64            \n",
      " 25  change_1yr         48466 non-null  float64            \n",
      " 26  pct_change_1yr     48439 non-null  float64            \n",
      " 27  Mode_full          95900 non-null  object             \n",
      " 28  TOS_full           95900 non-null  object             \n",
      "dtypes: category(1), datetime64[ns, UTC](1), float64(7), int64(2), object(18)\n",
      "memory usage: 21.3+ MB\n"
     ]
    }
   ],
   "source": [
    "df.info()"
   ]
  },
  {
   "cell_type": "code",
   "execution_count": 46,
   "id": "904cf3b9-f2db-4b24-a8e2-bf93fdaf4966",
   "metadata": {},
   "outputs": [],
   "source": [
    "def save_rtpa_outputs(\n",
    "    df: pd.DataFrame, \n",
    "    year: int, \n",
    "    month: str,\n",
    "    upload_to_public: bool = False\n",
    "):\n",
    "    \"\"\"\n",
    "    Export an excel for each RTPA, adds a READ ME tab, then writes into a folder.\n",
    "    Zip that folder. \n",
    "    Upload zipped file to GCS.\n",
    "    \"\"\"\n",
    "    col_dict ={\n",
    "    'Uace Cd': \"UACE Code\",\n",
    "    'Dt': \"Date\",\n",
    "    'Ntd Id': \"NTD ID\",\n",
    "    'Tos': \"Type of Service\",\n",
    "    'Legacy Ntd Id': \"Legacy NTD ID\",\n",
    "    'Upt': \"UPT\",\n",
    "    'Vrm': \"VRM\",\n",
    "    'Vrh': \"VRH\",\n",
    "    'Voms': \"VOMS\",\n",
    "    'Rtpa': \"RTPA\",\n",
    "    'Previous Y M Upt': \"Previous Year/Month UPT\",\n",
    "    'Change 1Yr': \"Change in 1 Year UPT\",\n",
    "    'Pct Change 1Yr': \"Percent Change in 1 Year UPT\",\n",
    "    'Tos Full': \"Type of Service Full Name\"\n",
    "}\n",
    "    print(\"creating individual RTPA excel files\")\n",
    "    \n",
    "    for i in df[\"RTPA\"].unique():\n",
    "        \n",
    "        print(f\"creating excel file for: {i}\")\n",
    "        \n",
    "        # Filename should be snakecase\n",
    "        rtpa_snakecase = i.replace(' ', '_').lower()\n",
    "        \n",
    "        #insertng readme cover sheet, \n",
    "        cover_sheet = pd.read_excel(\"./cover_sheet_template.xlsx\", index_col = \"**NTD Monthly Ridership by RTPA**\")\n",
    "        cover_sheet.to_excel(\n",
    "            f\"./{year}_{month}/{rtpa_snakecase}.xlsx\", sheet_name = \"README\")\n",
    "\n",
    "        rtpa_data =( df[df[\"RTPA\"] == i]\n",
    "         .sort_values(\"ntd_id\")\n",
    "         #got error from excel not recognizing timezone, made list to include dropping \"execution_ts\" column\n",
    "         .drop(columns = [\"_merge\",\"execution_ts\"])\n",
    "         #cleaning column names\n",
    "         .rename(columns=lambda x: x.replace(\"_\",\" \").title().strip())\n",
    "         #rename columns\n",
    "         .rename(columns=col_dict)\n",
    "                   )\n",
    "        #column lists for aggregations\n",
    "        agency_cols = [\"ntd_id\", \"agency\", \"RTPA\"]\n",
    "        mode_cols = [\"mode\", \"RTPA\"]\n",
    "        tos_cols = [\"tos\", \"RTPA\"]\n",
    "\n",
    "        # Creating aggregations\n",
    "        by_agency_long = sum_by_group((df[df[\"RTPA\"] == i]), agency_cols)                                 \n",
    "        by_mode_long = sum_by_group((df[df[\"RTPA\"] == i]), mode_cols)\n",
    "        by_tos_long = sum_by_group((df[df[\"RTPA\"] == i]), tos_cols)\n",
    "        \n",
    "        #writing pages to excel fil\n",
    "        with pd.ExcelWriter(f\"./{year}_{month}/{rtpa_snakecase}.xlsx\", mode =\"a\") as writer:\n",
    "            rtpa_data.to_excel(writer, sheet_name = \"RTPA Ridership Data\", index=False)\n",
    "            by_agency_long.to_excel(writer, sheet_name = \"Aggregated by Agency\", index=False)\n",
    "            by_mode_long.to_excel(writer, sheet_name = \"Aggregated by Mode\", index=False)\n",
    "            by_tos_long.to_excel(writer, sheet_name = \"Aggregated by TOS\", index=False)\n",
    "    \n",
    "    print(\"zipping all excel files\")\n",
    "    \n",
    "    shutil.make_archive(f\"./{year}_{month}\", \"zip\", f\"{year}_{month}\")\n",
    "    \n",
    "    print(\"Zipped folder\")\n",
    "    \n",
    "    fs.upload(\n",
    "        f\"./{year}_{month}.zip\", \n",
    "        f\"{GCS_FILE_PATH}{year}_{month}.zip\"\n",
    "    )\n",
    "    \n",
    "    if upload_to_public:\n",
    "        fs.upload(\n",
    "            f\"./{year}_{month}.zip\",\n",
    "            f\"{PUBLIC_GCS}ntd_monthly_ridership/{year}_{month}.zip\"\n",
    "        )\n",
    "    \n",
    "    print(\"Uploaded to GCS\")\n",
    "    \n",
    "    return"
   ]
  },
  {
   "cell_type": "code",
   "execution_count": 47,
   "id": "2eafa973-34c7-4cd3-ba96-3af84ab81453",
   "metadata": {},
   "outputs": [
    {
     "name": "stdout",
     "output_type": "stream",
     "text": [
      "creating individual RTPA excel files\n",
      "creating excel file for: San Joaquin Council of Governments\n",
      "creating excel file for: Orange County Transportation Authority\n",
      "creating excel file for: Transportation Agency for Monterey County\n",
      "creating excel file for: Riverside County Transportation Commission\n",
      "creating excel file for: Metropolitan Transportation Commission\n",
      "creating excel file for: San Diego Association of Governments\n",
      "creating excel file for: San Bernardino County Transportation Authority\n",
      "creating excel file for: Los Angeles County Metropolitan Transportation Authority\n",
      "creating excel file for: Placer County Transportation Planning Agency\n",
      "creating excel file for: Kings County Association of Governments\n",
      "creating excel file for: Stanislaus Council of Governments\n",
      "creating excel file for: Kern Council of Governments\n",
      "creating excel file for: Santa Cruz County Transportation Commission\n",
      "creating excel file for: Sacramento Area Council of Governments\n",
      "creating excel file for: Santa Barbara County Association of Governments\n",
      "creating excel file for: Fresno County Council of Governments\n",
      "creating excel file for: Ventura County Transportation Commission\n",
      "creating excel file for: San Luis Obispo Council of Governments\n",
      "creating excel file for: Tulare County Association of Governments\n",
      "creating excel file for: Shasta Regional Transportation Agency\n",
      "creating excel file for: Butte County Association of Governments\n",
      "creating excel file for: Merced County Association of Governments\n",
      "creating excel file for: Imperial County Transportation Commission\n",
      "creating excel file for: El Dorado County Transportation Commission\n",
      "creating excel file for: Tahoe Regional Planning Agency\n",
      "zipping all excel files\n",
      "Zipped folder\n"
     ]
    },
    {
     "ename": "NameError",
     "evalue": "name 'fs' is not defined",
     "output_type": "error",
     "traceback": [
      "\u001b[0;31m---------------------------------------------------------------------------\u001b[0m",
      "\u001b[0;31mNameError\u001b[0m                                 Traceback (most recent call last)",
      "Cell \u001b[0;32mIn[47], line 2\u001b[0m\n\u001b[1;32m      1\u001b[0m os\u001b[38;5;241m.\u001b[39mmakedirs(\u001b[38;5;124mf\u001b[39m\u001b[38;5;124m\"\u001b[39m\u001b[38;5;124m./\u001b[39m\u001b[38;5;132;01m{\u001b[39;00mYEAR\u001b[38;5;132;01m}\u001b[39;00m\u001b[38;5;124m_\u001b[39m\u001b[38;5;132;01m{\u001b[39;00mMONTH\u001b[38;5;132;01m}\u001b[39;00m\u001b[38;5;124m/\u001b[39m\u001b[38;5;124m\"\u001b[39m)\n\u001b[0;32m----> 2\u001b[0m \u001b[43msave_rtpa_outputs\u001b[49m\u001b[43m(\u001b[49m\u001b[43mdf\u001b[49m\u001b[43m,\u001b[49m\u001b[43m \u001b[49m\u001b[43mYEAR\u001b[49m\u001b[43m,\u001b[49m\u001b[43m \u001b[49m\u001b[43mMONTH\u001b[49m\u001b[43m,\u001b[49m\u001b[43m \u001b[49m\u001b[43mupload_to_public\u001b[49m\u001b[43m \u001b[49m\u001b[38;5;241;43m=\u001b[39;49m\u001b[43m \u001b[49m\u001b[38;5;28;43;01mFalse\u001b[39;49;00m\u001b[43m)\u001b[49m\n",
      "Cell \u001b[0;32mIn[46], line 74\u001b[0m, in \u001b[0;36msave_rtpa_outputs\u001b[0;34m(df, year, month, upload_to_public)\u001b[0m\n\u001b[1;32m     70\u001b[0m shutil\u001b[38;5;241m.\u001b[39mmake_archive(\u001b[38;5;124mf\u001b[39m\u001b[38;5;124m\"\u001b[39m\u001b[38;5;124m./\u001b[39m\u001b[38;5;132;01m{\u001b[39;00myear\u001b[38;5;132;01m}\u001b[39;00m\u001b[38;5;124m_\u001b[39m\u001b[38;5;132;01m{\u001b[39;00mmonth\u001b[38;5;132;01m}\u001b[39;00m\u001b[38;5;124m\"\u001b[39m, \u001b[38;5;124m\"\u001b[39m\u001b[38;5;124mzip\u001b[39m\u001b[38;5;124m\"\u001b[39m, \u001b[38;5;124mf\u001b[39m\u001b[38;5;124m\"\u001b[39m\u001b[38;5;132;01m{\u001b[39;00myear\u001b[38;5;132;01m}\u001b[39;00m\u001b[38;5;124m_\u001b[39m\u001b[38;5;132;01m{\u001b[39;00mmonth\u001b[38;5;132;01m}\u001b[39;00m\u001b[38;5;124m\"\u001b[39m)\n\u001b[1;32m     72\u001b[0m \u001b[38;5;28mprint\u001b[39m(\u001b[38;5;124m\"\u001b[39m\u001b[38;5;124mZipped folder\u001b[39m\u001b[38;5;124m\"\u001b[39m)\n\u001b[0;32m---> 74\u001b[0m \u001b[43mfs\u001b[49m\u001b[38;5;241m.\u001b[39mupload(\n\u001b[1;32m     75\u001b[0m     \u001b[38;5;124mf\u001b[39m\u001b[38;5;124m\"\u001b[39m\u001b[38;5;124m./\u001b[39m\u001b[38;5;132;01m{\u001b[39;00myear\u001b[38;5;132;01m}\u001b[39;00m\u001b[38;5;124m_\u001b[39m\u001b[38;5;132;01m{\u001b[39;00mmonth\u001b[38;5;132;01m}\u001b[39;00m\u001b[38;5;124m.zip\u001b[39m\u001b[38;5;124m\"\u001b[39m, \n\u001b[1;32m     76\u001b[0m     \u001b[38;5;124mf\u001b[39m\u001b[38;5;124m\"\u001b[39m\u001b[38;5;132;01m{\u001b[39;00mGCS_FILE_PATH\u001b[38;5;132;01m}\u001b[39;00m\u001b[38;5;132;01m{\u001b[39;00myear\u001b[38;5;132;01m}\u001b[39;00m\u001b[38;5;124m_\u001b[39m\u001b[38;5;132;01m{\u001b[39;00mmonth\u001b[38;5;132;01m}\u001b[39;00m\u001b[38;5;124m.zip\u001b[39m\u001b[38;5;124m\"\u001b[39m\n\u001b[1;32m     77\u001b[0m )\n\u001b[1;32m     79\u001b[0m \u001b[38;5;28;01mif\u001b[39;00m upload_to_public:\n\u001b[1;32m     80\u001b[0m     fs\u001b[38;5;241m.\u001b[39mupload(\n\u001b[1;32m     81\u001b[0m         \u001b[38;5;124mf\u001b[39m\u001b[38;5;124m\"\u001b[39m\u001b[38;5;124m./\u001b[39m\u001b[38;5;132;01m{\u001b[39;00myear\u001b[38;5;132;01m}\u001b[39;00m\u001b[38;5;124m_\u001b[39m\u001b[38;5;132;01m{\u001b[39;00mmonth\u001b[38;5;132;01m}\u001b[39;00m\u001b[38;5;124m.zip\u001b[39m\u001b[38;5;124m\"\u001b[39m,\n\u001b[1;32m     82\u001b[0m         \u001b[38;5;124mf\u001b[39m\u001b[38;5;124m\"\u001b[39m\u001b[38;5;132;01m{\u001b[39;00mPUBLIC_GCS\u001b[38;5;132;01m}\u001b[39;00m\u001b[38;5;124mntd_monthly_ridership/\u001b[39m\u001b[38;5;132;01m{\u001b[39;00myear\u001b[38;5;132;01m}\u001b[39;00m\u001b[38;5;124m_\u001b[39m\u001b[38;5;132;01m{\u001b[39;00mmonth\u001b[38;5;132;01m}\u001b[39;00m\u001b[38;5;124m.zip\u001b[39m\u001b[38;5;124m\"\u001b[39m\n\u001b[1;32m     83\u001b[0m     )\n",
      "\u001b[0;31mNameError\u001b[0m: name 'fs' is not defined"
     ]
    }
   ],
   "source": [
    "os.makedirs(f\"./{YEAR}_{MONTH}/\")\n",
    "save_rtpa_outputs(df, YEAR, MONTH, upload_to_public = False)"
   ]
  },
  {
   "cell_type": "code",
   "execution_count": null,
   "id": "400de2ab-2704-4998-85f6-a8e886689ad3",
   "metadata": {},
   "outputs": [],
   "source": []
  }
 ],
 "metadata": {
  "kernelspec": {
   "display_name": "Python 3 (ipykernel)",
   "language": "python",
   "name": "python3"
  },
  "language_info": {
   "codemirror_mode": {
    "name": "ipython",
    "version": 3
   },
   "file_extension": ".py",
   "mimetype": "text/x-python",
   "name": "python",
   "nbconvert_exporter": "python",
   "pygments_lexer": "ipython3",
   "version": "3.9.13"
  }
 },
 "nbformat": 4,
 "nbformat_minor": 5
}
