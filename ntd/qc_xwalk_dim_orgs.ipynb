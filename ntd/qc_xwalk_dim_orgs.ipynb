{
 "cells": [
  {
   "cell_type": "markdown",
   "id": "e0a38760-2924-4ac3-97f1-cca5a190fbc2",
   "metadata": {},
   "source": [
    "# QC `ntd_id_rtpa_crosswalk` against `dim_organizations`\n",
    "\n",
    "As of 4/21/2025, `dim_orgs` now has an RTPA column. RTPA values were set from a previous `rtpa/mpo` column. The `ntd_id_rtpa_crosswalk`.\n",
    "was created by pulling all the agnecies in ntd and assigning a rtpa based on their city location.\n",
    "\n",
    "## Tasks\n",
    "- see if the ntd_id in the xwalk appear in dim_orgs and vise-versa.\n",
    "    - are all ntd_id from xwalk in dim_orgs? NO\n",
    "    - are all ntd_id from dim_orgs in xwalk? NO!\n",
    "    \n",
    "- do the ntd_id/rtpa pairs from xwalk match to dim_orgs\n",
    "    - SCAG acounts for like 6 counties in Socal\n",
    "\n",
    "- refactor analyses that use the old xwalk\n",
    "    - remove old xwalk\n",
    "    - replace with rtpa data from dim_orgs\n",
    "    - make manual adjustments to SCAG agengies >> separate out to the socal CTCs (orange, imperial, san bernardino etc etc)\n",
    "\n",
    "\n",
    "---\n",
    "Findings\n",
    "- there are some ntd_id that are unique to dim_orgs that are not in my xwalk\n",
    "- vise-versa, there are some ntd_id that are unique to xwalk but are not in dim_orgs\n",
    "- `Agency Status`: Designates agencies as active or inactive based on whether or not they submitted a report in the most recent report year.\t\t\t\t\t\n",
    "\n",
    "\n",
    "work-plan\n",
    "- fill in the missing RTPA columns in dim_orgs\n",
    "- what is the process of adding new orgs to dim_orgs? sounds like a lot of work (filling in all the columns)"
   ]
  },
  {
   "cell_type": "code",
   "execution_count": 1,
   "id": "464b6704-99d3-4859-9a5d-a1b8d8e859f4",
   "metadata": {
    "tags": []
   },
   "outputs": [],
   "source": [
    "import pandas as pd\n",
    "from calitp_data_analysis.tables import tbls\n",
    "from siuba import _, collect, count, distinct, filter, select, show_query\n",
    "\n",
    "pd.set_option(\"display.max_colwidth\", None)\n",
    "pd.set_option(\"display.max_rows\", None)\n",
    "pd.set_option(\"display.max_columns\", None)"
   ]
  },
  {
   "cell_type": "code",
   "execution_count": 2,
   "id": "d93c5fba-4b03-404c-b210-2f591dcf5140",
   "metadata": {},
   "outputs": [],
   "source": [
    "xwalk = pd.read_parquet(\n",
    "    \"gs://calitp-analytics-data/data-analyses/ntd/ntd_id_rtpa_crosswalk_all_reporter_types.parquet\"\n",
    ")"
   ]
  },
  {
   "cell_type": "code",
   "execution_count": null,
   "id": "e68ce0cc-ef26-4ea3-860f-f410bc414552",
   "metadata": {},
   "outputs": [],
   "source": [
    "# crosswalk initially dirived from this mart_ntd_funding_and_expense table\n",
    "mart_ntd = (\n",
    "    tbls.mart_ntd_funding_and_expenses.fct_service_data_and_operating_expenses_time_series_by_mode_upt()\n",
    "    >> filter(\n",
    "        _.state ==\"CA\",\n",
    "        _.ntd_id.notna()\n",
    "    )\n",
    "    >> distinct(\n",
    "        _.agency_name,\n",
    "        _.ntd_id,\n",
    "        _.last_report_year,\n",
    "        _.agency_status,\n",
    "        _.city \n",
    "    )\n",
    "    \n",
    "    >> collect()\n",
    ")\n",
    "\n",
    "mart_ntd.info()"
   ]
  },
  {
   "cell_type": "code",
   "execution_count": 4,
   "id": "22a2093c-4b06-4b7e-8c3c-0235236e65a7",
   "metadata": {},
   "outputs": [
    {
     "name": "stdout",
     "output_type": "stream",
     "text": [
      "<class 'pandas.core.frame.DataFrame'>\n",
      "RangeIndex: 245 entries, 0 to 244\n",
      "Data columns (total 4 columns):\n",
      " #   Column       Non-Null Count  Dtype \n",
      "---  ------       --------------  ----- \n",
      " 0   name         245 non-null    object\n",
      " 1   ntd_id_2022  245 non-null    object\n",
      " 2   rtpa_name    244 non-null    object\n",
      " 3   key          245 non-null    object\n",
      "dtypes: object(4)\n",
      "memory usage: 7.8+ KB\n"
     ]
    }
   ],
   "source": [
    "dim_orgs = (\n",
    "    tbls.mart_transit_database.dim_organizations()\n",
    "    >> filter(\n",
    "        _._is_current == True,\n",
    "        # _.public_currently_operating == True,\n",
    "        _.ntd_id_2022 != \"\",\n",
    "    )\n",
    "    >> select(\n",
    "        _.name,\n",
    "        _.ntd_id_2022,\n",
    "        _.rtpa_name,\n",
    "        _.key,\n",
    "        # _.alias # alias is a list that is messing up merges down the line\n",
    "    )\n",
    "    >> collect()\n",
    ")\n",
    "\n",
    "dim_orgs.info()"
   ]
  },
  {
   "cell_type": "code",
   "execution_count": 5,
   "id": "d092160e-4f0c-4b0d-be65-0e543aadc2fe",
   "metadata": {},
   "outputs": [
    {
     "name": "stdout",
     "output_type": "stream",
     "text": [
      "<class 'pandas.core.frame.DataFrame'>\n",
      "RangeIndex: 183 entries, 0 to 182\n",
      "Data columns (total 4 columns):\n",
      " #   Column       Non-Null Count  Dtype \n",
      "---  ------       --------------  ----- \n",
      " 0   name         183 non-null    object\n",
      " 1   ntd_id_2022  183 non-null    object\n",
      " 2   rtpa_name    183 non-null    object\n",
      " 3   key          183 non-null    object\n",
      "dtypes: object(4)\n",
      "memory usage: 5.8+ KB\n"
     ]
    }
   ],
   "source": [
    "currently_operating = (\n",
    "    tbls.mart_transit_database.dim_organizations()\n",
    "    >> filter(\n",
    "        _._is_current == True, _.public_currently_operating == True, _.ntd_id_2022 != \"\"\n",
    "    )\n",
    "    >> select(\n",
    "        _.name,\n",
    "        _.ntd_id_2022,\n",
    "        _.rtpa_name,\n",
    "        _.key,\n",
    "        # _.alias\n",
    "    )\n",
    "    >> collect()\n",
    ")\n",
    "\n",
    "currently_operating.info()"
   ]
  },
  {
   "cell_type": "code",
   "execution_count": 6,
   "id": "69c640e4-314d-4e5c-be08-2c3aa17a7263",
   "metadata": {
    "tags": []
   },
   "outputs": [
    {
     "data": {
      "text/html": [
       "<div>\n",
       "<style scoped>\n",
       "    .dataframe tbody tr th:only-of-type {\n",
       "        vertical-align: middle;\n",
       "    }\n",
       "\n",
       "    .dataframe tbody tr th {\n",
       "        vertical-align: top;\n",
       "    }\n",
       "\n",
       "    .dataframe thead th {\n",
       "        text-align: right;\n",
       "    }\n",
       "</style>\n",
       "<table border=\"1\" class=\"dataframe\">\n",
       "  <thead>\n",
       "    <tr style=\"text-align: right;\">\n",
       "      <th></th>\n",
       "      <th>name</th>\n",
       "      <th>ntd_id_2022</th>\n",
       "      <th>rtpa_name</th>\n",
       "      <th>key</th>\n",
       "    </tr>\n",
       "  </thead>\n",
       "  <tbody>\n",
       "  </tbody>\n",
       "</table>\n",
       "</div>"
      ],
      "text/plain": [
       "Empty DataFrame\n",
       "Columns: [name, ntd_id_2022, rtpa_name, key]\n",
       "Index: []"
      ]
     },
     "execution_count": 6,
     "metadata": {},
     "output_type": "execute_result"
    }
   ],
   "source": [
    "currently_operating[currently_operating[\"ntd_id_2022\"].isna()]"
   ]
  },
  {
   "cell_type": "code",
   "execution_count": 7,
   "id": "155c755c-a3e4-42f7-9efc-dbcb366debb0",
   "metadata": {
    "tags": []
   },
   "outputs": [
    {
     "name": "stdout",
     "output_type": "stream",
     "text": [
      "<class 'pandas.core.frame.DataFrame'>\n",
      "RangeIndex: 1294 entries, 0 to 1293\n",
      "Data columns (total 4 columns):\n",
      " #   Column                 Non-Null Count  Dtype \n",
      "---  ------                 --------------  ----- \n",
      " 0   organization_key       1294 non-null   object\n",
      " 1   organization_name      1294 non-null   object\n",
      " 2   county_geography_name  1294 non-null   object\n",
      " 3   county_geography_key   1294 non-null   object\n",
      "dtypes: object(4)\n",
      "memory usage: 40.6+ KB\n"
     ]
    }
   ],
   "source": [
    "# need to get county info?\n",
    "county_bridge = (\n",
    "    tbls.mart_transit_database.bridge_organizations_x_headquarters_county_geography()\n",
    "    >> filter(\n",
    "        _._is_current == True,\n",
    "    )\n",
    "    >> select(\n",
    "        _.organization_key,\n",
    "        _.organization_name,\n",
    "        _.county_geography_name,\n",
    "        _.county_geography_key,\n",
    "    )\n",
    "    >> collect()\n",
    ")\n",
    "\n",
    "county_bridge.info()"
   ]
  },
  {
   "cell_type": "code",
   "execution_count": 8,
   "id": "a6bea144-4353-4112-b112-ead884e0e87a",
   "metadata": {
    "tags": []
   },
   "outputs": [
    {
     "name": "stdout",
     "output_type": "stream",
     "text": [
      "<class 'pandas.core.frame.DataFrame'>\n",
      "Int64Index: 245 entries, 0 to 244\n",
      "Data columns (total 8 columns):\n",
      " #   Column                 Non-Null Count  Dtype \n",
      "---  ------                 --------------  ----- \n",
      " 0   name                   245 non-null    object\n",
      " 1   ntd_id_2022            245 non-null    object\n",
      " 2   rtpa_name              244 non-null    object\n",
      " 3   key                    245 non-null    object\n",
      " 4   organization_key       245 non-null    object\n",
      " 5   organization_name      245 non-null    object\n",
      " 6   county_geography_name  245 non-null    object\n",
      " 7   county_geography_key   245 non-null    object\n",
      "dtypes: object(8)\n",
      "memory usage: 17.2+ KB\n"
     ]
    },
    {
     "data": {
      "text/plain": [
       "None"
      ]
     },
     "metadata": {},
     "output_type": "display_data"
    }
   ],
   "source": [
    "dim_org_county = dim_orgs.merge(\n",
    "    county_bridge, how=\"left\", left_on=\"key\", right_on=\"organization_key\"\n",
    ")\n",
    "\n",
    "display(\n",
    "    dim_org_county.info(),\n",
    "    # dim_org_county.head()\n",
    ")"
   ]
  },
  {
   "cell_type": "code",
   "execution_count": 9,
   "id": "22077e9d-877b-4151-9982-e1dc063ebc01",
   "metadata": {
    "tags": []
   },
   "outputs": [
    {
     "name": "stdout",
     "output_type": "stream",
     "text": [
      "<class 'pandas.core.frame.DataFrame'>\n",
      "Int64Index: 183 entries, 0 to 182\n",
      "Data columns (total 8 columns):\n",
      " #   Column                 Non-Null Count  Dtype \n",
      "---  ------                 --------------  ----- \n",
      " 0   name                   183 non-null    object\n",
      " 1   ntd_id_2022            183 non-null    object\n",
      " 2   rtpa_name              183 non-null    object\n",
      " 3   key                    183 non-null    object\n",
      " 4   organization_key       183 non-null    object\n",
      " 5   organization_name      183 non-null    object\n",
      " 6   county_geography_name  183 non-null    object\n",
      " 7   county_geography_key   183 non-null    object\n",
      "dtypes: object(8)\n",
      "memory usage: 12.9+ KB\n"
     ]
    },
    {
     "data": {
      "text/plain": [
       "None"
      ]
     },
     "metadata": {},
     "output_type": "display_data"
    }
   ],
   "source": [
    "dim_org_county_2 = currently_operating.merge(\n",
    "    county_bridge, how=\"left\", left_on=\"key\", right_on=\"organization_key\"\n",
    ")\n",
    "\n",
    "display(\n",
    "    dim_org_county_2.info(),\n",
    "    # dim_org_county.head()\n",
    ")"
   ]
  },
  {
   "cell_type": "markdown",
   "id": "a2c3d55a-2764-4e48-a0a1-9e68a7669906",
   "metadata": {
    "tags": []
   },
   "source": [
    "## What is the differences in NTD id between dim_org_county and dim_org_county_2?\n"
   ]
  },
  {
   "cell_type": "code",
   "execution_count": 10,
   "id": "0628e380-de37-400e-b6ee-35206a263c4c",
   "metadata": {
    "tags": []
   },
   "outputs": [],
   "source": [
    "id_check = dim_org_county.merge(dim_org_county_2, how=\"outer\", indicator=True)"
   ]
  },
  {
   "cell_type": "code",
   "execution_count": 11,
   "id": "3168a180-2abb-40d4-a3c1-2f5a6ce4e647",
   "metadata": {
    "tags": []
   },
   "outputs": [
    {
     "data": {
      "text/plain": [
       "both          183\n",
       "left_only      62\n",
       "right_only      0\n",
       "Name: _merge, dtype: int64"
      ]
     },
     "metadata": {},
     "output_type": "display_data"
    }
   ],
   "source": [
    "display(\n",
    "    id_check[\"_merge\"].value_counts(),\n",
    ")"
   ]
  },
  {
   "cell_type": "markdown",
   "id": "2fdc28f5-b941-440b-bc03-fe8d39a03472",
   "metadata": {},
   "source": [
    "### Decision\n",
    "\n",
    "It is possible for agencies to switch between currently operating and not operating. Therefore, RTPA values should be assigned to agencies regardless of operating status."
   ]
  },
  {
   "cell_type": "markdown",
   "id": "71fcc952-baeb-49b7-92a5-01b04987d858",
   "metadata": {},
   "source": [
    "## What are the unique pairs of RTPA names and geography names?"
   ]
  },
  {
   "cell_type": "code",
   "execution_count": 12,
   "id": "d09fb90f-296e-4785-bb49-9e1509fb2e1c",
   "metadata": {
    "tags": []
   },
   "outputs": [
    {
     "data": {
      "text/html": [
       "<div>\n",
       "<style scoped>\n",
       "    .dataframe tbody tr th:only-of-type {\n",
       "        vertical-align: middle;\n",
       "    }\n",
       "\n",
       "    .dataframe tbody tr th {\n",
       "        vertical-align: top;\n",
       "    }\n",
       "\n",
       "    .dataframe thead th {\n",
       "        text-align: right;\n",
       "    }\n",
       "</style>\n",
       "<table border=\"1\" class=\"dataframe\">\n",
       "  <thead>\n",
       "    <tr style=\"text-align: right;\">\n",
       "      <th></th>\n",
       "      <th>county_geography_name</th>\n",
       "      <th>rtpa_name</th>\n",
       "    </tr>\n",
       "  </thead>\n",
       "  <tbody>\n",
       "    <tr>\n",
       "      <th>60</th>\n",
       "      <td>Plumas</td>\n",
       "      <td>Plumas County Transportation Commission</td>\n",
       "    </tr>\n",
       "  </tbody>\n",
       "</table>\n",
       "</div>"
      ],
      "text/plain": [
       "   county_geography_name                                rtpa_name\n",
       "60                Plumas  Plumas County Transportation Commission"
      ]
     },
     "execution_count": 12,
     "metadata": {},
     "output_type": "execute_result"
    }
   ],
   "source": [
    "rtpa_county = (\n",
    "    dim_org_county[dim_org_county[\"rtpa_name\"].notna()][\n",
    "        [\"county_geography_name\", \"rtpa_name\"]\n",
    "    ]\n",
    "    .drop_duplicates()\n",
    "    .sort_values(by=\"rtpa_name\")\n",
    ")\n",
    "rtpa_county[rtpa_county[\"county_geography_name\"].str.contains(\"Plumas\")]"
   ]
  },
  {
   "cell_type": "markdown",
   "id": "ef23dfd8-2c48-445d-a425-0e5c3e167f00",
   "metadata": {},
   "source": [
    "## Create dictionary of counties names : RTPA name"
   ]
  },
  {
   "cell_type": "code",
   "execution_count": 13,
   "id": "8abd972b-8d7a-4712-98d1-090b2de5debb",
   "metadata": {
    "tags": []
   },
   "outputs": [
    {
     "data": {
      "text/plain": [
       "'Southern California Association of Governments'"
      ]
     },
     "execution_count": 13,
     "metadata": {},
     "output_type": "execute_result"
    }
   ],
   "source": [
    "county_rtpa_dict = rtpa_county.set_index(\"county_geography_name\")[\"rtpa_name\"].to_dict()\n",
    "county_rtpa_dict.update(\n",
    "    {\n",
    "        \"Plumas\": \"Plumas County Transportation Commission\",\n",
    "        \"Sierra\": \"Sierra County Transportation Commission\",\n",
    "        # \"Imperial\":\"Imperial County Transportation Commission\", NO! Imperial is under SCAG\n",
    "        # \"Los Angeles\":\"Los Angeles County Metropolitan Transportation Authority\", NO! LA is SCAG\n",
    "    }\n",
    ")\n",
    "county_rtpa_dict[\"Imperial\"]"
   ]
  },
  {
   "cell_type": "markdown",
   "id": "f104373a-0a50-4085-a6eb-f95318c340ac",
   "metadata": {},
   "source": [
    "## What are the Agencies with missing RTPA names, but have a county name?"
   ]
  },
  {
   "cell_type": "code",
   "execution_count": 14,
   "id": "8013aadb-9bba-4bf4-956e-d6768de7a83c",
   "metadata": {
    "tags": []
   },
   "outputs": [
    {
     "data": {
      "text/html": [
       "<div>\n",
       "<style scoped>\n",
       "    .dataframe tbody tr th:only-of-type {\n",
       "        vertical-align: middle;\n",
       "    }\n",
       "\n",
       "    .dataframe tbody tr th {\n",
       "        vertical-align: top;\n",
       "    }\n",
       "\n",
       "    .dataframe thead th {\n",
       "        text-align: right;\n",
       "    }\n",
       "</style>\n",
       "<table border=\"1\" class=\"dataframe\">\n",
       "  <thead>\n",
       "    <tr style=\"text-align: right;\">\n",
       "      <th></th>\n",
       "      <th>name</th>\n",
       "      <th>ntd_id_2022</th>\n",
       "      <th>rtpa_name</th>\n",
       "      <th>key</th>\n",
       "      <th>organization_key</th>\n",
       "      <th>organization_name</th>\n",
       "      <th>county_geography_name</th>\n",
       "      <th>county_geography_key</th>\n",
       "    </tr>\n",
       "  </thead>\n",
       "  <tbody>\n",
       "  </tbody>\n",
       "</table>\n",
       "</div>"
      ],
      "text/plain": [
       "Empty DataFrame\n",
       "Columns: [name, ntd_id_2022, rtpa_name, key, organization_key, organization_name, county_geography_name, county_geography_key]\n",
       "Index: []"
      ]
     },
     "execution_count": 14,
     "metadata": {},
     "output_type": "execute_result"
    }
   ],
   "source": [
    "dim_org_county[\n",
    "    (dim_org_county[\"rtpa_name\"].isna())\n",
    "    & (dim_org_county[\"county_geography_name\"].isna())\n",
    "].drop_duplicates()\n",
    "\n",
    "# added rtpa names in airtable"
   ]
  },
  {
   "cell_type": "code",
   "execution_count": 15,
   "id": "a6d635ee-99e7-4b93-8a86-b23c8bc7cf06",
   "metadata": {
    "tags": []
   },
   "outputs": [
    {
     "data": {
      "text/plain": [
       "1"
      ]
     },
     "execution_count": 15,
     "metadata": {},
     "output_type": "execute_result"
    }
   ],
   "source": [
    "no_rtpa = dim_org_county[\n",
    "    (dim_org_county[\"rtpa_name\"].isna())\n",
    "    & (dim_org_county[\"county_geography_name\"].notna())\n",
    "].drop_duplicates()\n",
    "\n",
    "len(no_rtpa)"
   ]
  },
  {
   "cell_type": "markdown",
   "id": "f189aa0a-5797-46ab-9a83-67f120fb206f",
   "metadata": {},
   "source": [
    "## !!THESE ORGS NEED RTPAs IN dim_orgs!!"
   ]
  },
  {
   "cell_type": "code",
   "execution_count": 16,
   "id": "ef3caa3f-9d39-4e4a-9cae-8b9b1d5dd309",
   "metadata": {
    "tags": []
   },
   "outputs": [],
   "source": [
    "no_rtpa[\"update_dim_org_rtpa_to\"] = no_rtpa[\"county_geography_name\"].map(\n",
    "    county_rtpa_dict\n",
    ")"
   ]
  },
  {
   "cell_type": "code",
   "execution_count": 17,
   "id": "49379136-ed31-48de-8347-fe46faad8c67",
   "metadata": {
    "tags": []
   },
   "outputs": [
    {
     "name": "stdout",
     "output_type": "stream",
     "text": [
      "<class 'pandas.core.frame.DataFrame'>\n",
      "Int64Index: 1 entries, 4 to 4\n",
      "Data columns (total 9 columns):\n",
      " #   Column                  Non-Null Count  Dtype \n",
      "---  ------                  --------------  ----- \n",
      " 0   name                    1 non-null      object\n",
      " 1   ntd_id_2022             1 non-null      object\n",
      " 2   rtpa_name               0 non-null      object\n",
      " 3   key                     1 non-null      object\n",
      " 4   organization_key        1 non-null      object\n",
      " 5   organization_name       1 non-null      object\n",
      " 6   county_geography_name   1 non-null      object\n",
      " 7   county_geography_key    1 non-null      object\n",
      " 8   update_dim_org_rtpa_to  1 non-null      object\n",
      "dtypes: object(9)\n",
      "memory usage: 80.0+ bytes\n"
     ]
    },
    {
     "data": {
      "text/plain": [
       "None"
      ]
     },
     "metadata": {},
     "output_type": "display_data"
    },
    {
     "data": {
      "text/html": [
       "<div>\n",
       "<style scoped>\n",
       "    .dataframe tbody tr th:only-of-type {\n",
       "        vertical-align: middle;\n",
       "    }\n",
       "\n",
       "    .dataframe tbody tr th {\n",
       "        vertical-align: top;\n",
       "    }\n",
       "\n",
       "    .dataframe thead th {\n",
       "        text-align: right;\n",
       "    }\n",
       "</style>\n",
       "<table border=\"1\" class=\"dataframe\">\n",
       "  <thead>\n",
       "    <tr style=\"text-align: right;\">\n",
       "      <th></th>\n",
       "      <th>name</th>\n",
       "      <th>ntd_id_2022</th>\n",
       "      <th>rtpa_name</th>\n",
       "      <th>county_geography_name</th>\n",
       "      <th>update_dim_org_rtpa_to</th>\n",
       "    </tr>\n",
       "  </thead>\n",
       "  <tbody>\n",
       "    <tr>\n",
       "      <th>4</th>\n",
       "      <td>California Department of Transportation</td>\n",
       "      <td>9R02</td>\n",
       "      <td>None</td>\n",
       "      <td>Sacramento</td>\n",
       "      <td>Sacramento Area Council of Governments</td>\n",
       "    </tr>\n",
       "  </tbody>\n",
       "</table>\n",
       "</div>"
      ],
      "text/plain": [
       "                                      name ntd_id_2022 rtpa_name  \\\n",
       "4  California Department of Transportation        9R02      None   \n",
       "\n",
       "  county_geography_name                  update_dim_org_rtpa_to  \n",
       "4            Sacramento  Sacramento Area Council of Governments  "
      ]
     },
     "metadata": {},
     "output_type": "display_data"
    }
   ],
   "source": [
    "display(\n",
    "    no_rtpa.info(),\n",
    "    no_rtpa[\n",
    "        [\n",
    "            \"name\",\n",
    "            \"ntd_id_2022\",\n",
    "            \"rtpa_name\",\n",
    "            # \"alias\",\n",
    "            \"county_geography_name\",\n",
    "            \"update_dim_org_rtpa_to\",\n",
    "        ]\n",
    "    ].sort_values(by=\"county_geography_name\"),\n",
    ")"
   ]
  },
  {
   "cell_type": "markdown",
   "id": "0b71e073-2c1e-4ce5-b9d1-2812e00e18fb",
   "metadata": {},
   "source": [
    "4/28/2025 - added rtpa to those agencies. \n",
    "4/28/2025 - changes took affect.\n"
   ]
  },
  {
   "cell_type": "markdown",
   "id": "2dccf952-de58-43ec-ba1e-4afac3ec3f3e",
   "metadata": {
    "tags": []
   },
   "source": [
    "## What are the unique RTPA in dim_orgs\n",
    "- are any of the SOCAL CTCs in there?\n",
    "\n",
    "\n",
    "There are some County Transportation Commission in the RTPA list\n",
    "- Ventura County Transportation Commission\n",
    "\n",
    "Could not find\n",
    "- Los Angeles County Metropolitan Transportation Authority\n",
    "- San Bernardino Associated Governments\n",
    "- Riverside County Transportation Commission\n",
    "- Imperial County Transportation Commission\n",
    "- Orange County Transportation Authority"
   ]
  },
  {
   "cell_type": "code",
   "execution_count": 18,
   "id": "6facc3c2-78ce-4118-b563-7e3d6c560eb9",
   "metadata": {
    "tags": []
   },
   "outputs": [
    {
     "name": "stdout",
     "output_type": "stream",
     "text": [
      "<class 'pandas.core.series.Series'>\n",
      "RangeIndex: 43 entries, 0 to 42\n",
      "Series name: rtpa_name\n",
      "Non-Null Count  Dtype \n",
      "--------------  ----- \n",
      "43 non-null     object\n",
      "dtypes: object(1)\n",
      "memory usage: 472.0+ bytes\n"
     ]
    }
   ],
   "source": [
    "just_rtpa_name = (\n",
    "    dim_orgs[dim_orgs[\"rtpa_name\"].notna()][\"rtpa_name\"]\n",
    "    .drop_duplicates()\n",
    "    .reset_index(drop=True)\n",
    ")\n",
    "\n",
    "just_rtpa_name.info()"
   ]
  },
  {
   "cell_type": "code",
   "execution_count": 19,
   "id": "dd955c87-3cee-462f-b388-2cf0841a451c",
   "metadata": {
    "tags": []
   },
   "outputs": [
    {
     "data": {
      "text/plain": [
       "24    Ventura County Transportation Commission\n",
       "Name: rtpa_name, dtype: object"
      ]
     },
     "execution_count": 19,
     "metadata": {},
     "output_type": "execute_result"
    }
   ],
   "source": [
    "check_ctc = [\n",
    "    \"Los Angeles County Metropolitan Transportation Authority\",\n",
    "    \"San Bernardino Associated Governments\",\n",
    "    \"Riverside County Transportation Commission\",\n",
    "    \"Imperial County Transportation Commission\",\n",
    "    \"Orange County Transportation Authority\",\n",
    "    \"Ventura County Transportation Commission\",\n",
    "]\n",
    "just_rtpa_name[just_rtpa_name.isin(check_ctc)]"
   ]
  },
  {
   "cell_type": "code",
   "execution_count": 20,
   "id": "864c345d-9f60-43ae-a1b5-117ab5e794bf",
   "metadata": {},
   "outputs": [
    {
     "name": "stdout",
     "output_type": "stream",
     "text": [
      "Series([], Name: rtpa_name, dtype: object)\n",
      "Series([], Name: rtpa_name, dtype: object)\n",
      "Series([], Name: rtpa_name, dtype: object)\n",
      "Series([], Name: rtpa_name, dtype: object)\n",
      "Series([], Name: rtpa_name, dtype: object)\n",
      "24    Ventura County Transportation Commission\n",
      "Name: rtpa_name, dtype: object\n"
     ]
    }
   ],
   "source": [
    "# fuzzy string search\n",
    "\n",
    "ctc_substring = [\n",
    "    \"Los Angeles\",\n",
    "    \"Bernardino \",\n",
    "    \"Riverside\",\n",
    "    \"Imperial\",\n",
    "    \"Orange\",\n",
    "    \"Ventura\",\n",
    "]\n",
    "\n",
    "for i in ctc_substring:\n",
    "    print(just_rtpa_name[just_rtpa_name.str.contains(i)])"
   ]
  },
  {
   "cell_type": "code",
   "execution_count": 21,
   "id": "68ac3e8b-fde2-4d6a-b9cb-6c2ac77c0f4c",
   "metadata": {
    "tags": []
   },
   "outputs": [
    {
     "data": {
      "text/html": [
       "<div>\n",
       "<style scoped>\n",
       "    .dataframe tbody tr th:only-of-type {\n",
       "        vertical-align: middle;\n",
       "    }\n",
       "\n",
       "    .dataframe tbody tr th {\n",
       "        vertical-align: top;\n",
       "    }\n",
       "\n",
       "    .dataframe thead th {\n",
       "        text-align: right;\n",
       "    }\n",
       "</style>\n",
       "<table border=\"1\" class=\"dataframe\">\n",
       "  <thead>\n",
       "    <tr style=\"text-align: right;\">\n",
       "      <th></th>\n",
       "      <th>name</th>\n",
       "      <th>ntd_id_2022</th>\n",
       "      <th>rtpa_name</th>\n",
       "      <th>key</th>\n",
       "      <th>organization_key</th>\n",
       "      <th>organization_name</th>\n",
       "      <th>county_geography_name</th>\n",
       "      <th>county_geography_key</th>\n",
       "    </tr>\n",
       "  </thead>\n",
       "  <tbody>\n",
       "    <tr>\n",
       "      <th>64</th>\n",
       "      <td>Riverside County Transportation Commission</td>\n",
       "      <td>90218</td>\n",
       "      <td>Southern California Association of Governments</td>\n",
       "      <td>cb867447a408d161387ac5e2eeaeb7fb</td>\n",
       "      <td>cb867447a408d161387ac5e2eeaeb7fb</td>\n",
       "      <td>Riverside County Transportation Commission</td>\n",
       "      <td>Riverside</td>\n",
       "      <td>17a6841cb057ea751e22785fb9229596</td>\n",
       "    </tr>\n",
       "    <tr>\n",
       "      <th>181</th>\n",
       "      <td>Imperial County Transportation Commission</td>\n",
       "      <td>90226</td>\n",
       "      <td>Southern California Association of Governments</td>\n",
       "      <td>621fbb855822846119c106fd5bfa56b3</td>\n",
       "      <td>621fbb855822846119c106fd5bfa56b3</td>\n",
       "      <td>Imperial County Transportation Commission</td>\n",
       "      <td>Imperial</td>\n",
       "      <td>56a0304a6b0ccdc0dd0dbfae798a45e2</td>\n",
       "    </tr>\n",
       "    <tr>\n",
       "      <th>189</th>\n",
       "      <td>Los Angeles County Metropolitan Transportation Authority</td>\n",
       "      <td>90154</td>\n",
       "      <td>Southern California Association of Governments</td>\n",
       "      <td>9e96bde610e80d71f500eea119c4723c</td>\n",
       "      <td>9e96bde610e80d71f500eea119c4723c</td>\n",
       "      <td>Los Angeles County Metropolitan Transportation Authority</td>\n",
       "      <td>Los Angeles</td>\n",
       "      <td>8a8da539caf4f046025b97a5b4b9564b</td>\n",
       "    </tr>\n",
       "    <tr>\n",
       "      <th>200</th>\n",
       "      <td>Orange County Transportation Authority</td>\n",
       "      <td>90036</td>\n",
       "      <td>Southern California Association of Governments</td>\n",
       "      <td>47552ed0c038e35ee6f21ec8eb2cb5d8</td>\n",
       "      <td>47552ed0c038e35ee6f21ec8eb2cb5d8</td>\n",
       "      <td>Orange County Transportation Authority</td>\n",
       "      <td>Orange</td>\n",
       "      <td>aef4652aba294c8fd5ee922f9741ff6a</td>\n",
       "    </tr>\n",
       "    <tr>\n",
       "      <th>238</th>\n",
       "      <td>Ventura County Transportation Commission</td>\n",
       "      <td>90164</td>\n",
       "      <td>Ventura County Transportation Commission</td>\n",
       "      <td>4f7fa398d9c1c8c75310e13df4818015</td>\n",
       "      <td>4f7fa398d9c1c8c75310e13df4818015</td>\n",
       "      <td>Ventura County Transportation Commission</td>\n",
       "      <td>Ventura</td>\n",
       "      <td>ac21d3cfb432219540f51c7658df90e9</td>\n",
       "    </tr>\n",
       "  </tbody>\n",
       "</table>\n",
       "</div>"
      ],
      "text/plain": [
       "                                                         name ntd_id_2022  \\\n",
       "64                 Riverside County Transportation Commission       90218   \n",
       "181                 Imperial County Transportation Commission       90226   \n",
       "189  Los Angeles County Metropolitan Transportation Authority       90154   \n",
       "200                    Orange County Transportation Authority       90036   \n",
       "238                  Ventura County Transportation Commission       90164   \n",
       "\n",
       "                                          rtpa_name  \\\n",
       "64   Southern California Association of Governments   \n",
       "181  Southern California Association of Governments   \n",
       "189  Southern California Association of Governments   \n",
       "200  Southern California Association of Governments   \n",
       "238        Ventura County Transportation Commission   \n",
       "\n",
       "                                  key                  organization_key  \\\n",
       "64   cb867447a408d161387ac5e2eeaeb7fb  cb867447a408d161387ac5e2eeaeb7fb   \n",
       "181  621fbb855822846119c106fd5bfa56b3  621fbb855822846119c106fd5bfa56b3   \n",
       "189  9e96bde610e80d71f500eea119c4723c  9e96bde610e80d71f500eea119c4723c   \n",
       "200  47552ed0c038e35ee6f21ec8eb2cb5d8  47552ed0c038e35ee6f21ec8eb2cb5d8   \n",
       "238  4f7fa398d9c1c8c75310e13df4818015  4f7fa398d9c1c8c75310e13df4818015   \n",
       "\n",
       "                                            organization_name  \\\n",
       "64                 Riverside County Transportation Commission   \n",
       "181                 Imperial County Transportation Commission   \n",
       "189  Los Angeles County Metropolitan Transportation Authority   \n",
       "200                    Orange County Transportation Authority   \n",
       "238                  Ventura County Transportation Commission   \n",
       "\n",
       "    county_geography_name              county_geography_key  \n",
       "64              Riverside  17a6841cb057ea751e22785fb9229596  \n",
       "181              Imperial  56a0304a6b0ccdc0dd0dbfae798a45e2  \n",
       "189           Los Angeles  8a8da539caf4f046025b97a5b4b9564b  \n",
       "200                Orange  aef4652aba294c8fd5ee922f9741ff6a  \n",
       "238               Ventura  ac21d3cfb432219540f51c7658df90e9  "
      ]
     },
     "execution_count": 21,
     "metadata": {},
     "output_type": "execute_result"
    }
   ],
   "source": [
    "# check ctc list against agency names col\n",
    "dim_org_county[dim_org_county[\"organization_name\"].isin(check_ctc)]"
   ]
  },
  {
   "cell_type": "code",
   "execution_count": 22,
   "id": "6d0a1855-a8a0-40e8-adce-c730d118fa65",
   "metadata": {
    "tags": []
   },
   "outputs": [
    {
     "data": {
      "text/html": [
       "<div>\n",
       "<style scoped>\n",
       "    .dataframe tbody tr th:only-of-type {\n",
       "        vertical-align: middle;\n",
       "    }\n",
       "\n",
       "    .dataframe tbody tr th {\n",
       "        vertical-align: top;\n",
       "    }\n",
       "\n",
       "    .dataframe thead th {\n",
       "        text-align: right;\n",
       "    }\n",
       "</style>\n",
       "<table border=\"1\" class=\"dataframe\">\n",
       "  <thead>\n",
       "    <tr style=\"text-align: right;\">\n",
       "      <th></th>\n",
       "      <th>name</th>\n",
       "      <th>ntd_id_2022</th>\n",
       "      <th>rtpa_name</th>\n",
       "      <th>key</th>\n",
       "      <th>organization_key</th>\n",
       "      <th>organization_name</th>\n",
       "      <th>county_geography_name</th>\n",
       "      <th>county_geography_key</th>\n",
       "    </tr>\n",
       "  </thead>\n",
       "  <tbody>\n",
       "    <tr>\n",
       "      <th>211</th>\n",
       "      <td>San Bernardino County Transportation Authority</td>\n",
       "      <td>90302</td>\n",
       "      <td>Southern California Association of Governments</td>\n",
       "      <td>c3ecb38b2814c6d88c9fd86f8cd14e70</td>\n",
       "      <td>c3ecb38b2814c6d88c9fd86f8cd14e70</td>\n",
       "      <td>San Bernardino County Transportation Authority</td>\n",
       "      <td>San Bernardino</td>\n",
       "      <td>1a3bb95333ae89740a2bfa8f5ba83d0d</td>\n",
       "    </tr>\n",
       "  </tbody>\n",
       "</table>\n",
       "</div>"
      ],
      "text/plain": [
       "                                               name ntd_id_2022  \\\n",
       "211  San Bernardino County Transportation Authority       90302   \n",
       "\n",
       "                                          rtpa_name  \\\n",
       "211  Southern California Association of Governments   \n",
       "\n",
       "                                  key                  organization_key  \\\n",
       "211  c3ecb38b2814c6d88c9fd86f8cd14e70  c3ecb38b2814c6d88c9fd86f8cd14e70   \n",
       "\n",
       "                                  organization_name county_geography_name  \\\n",
       "211  San Bernardino County Transportation Authority        San Bernardino   \n",
       "\n",
       "                 county_geography_key  \n",
       "211  1a3bb95333ae89740a2bfa8f5ba83d0d  "
      ]
     },
     "execution_count": 22,
     "metadata": {},
     "output_type": "execute_result"
    }
   ],
   "source": [
    "# somehow San Bernardino was missing from the previous cell\n",
    "dim_org_county[dim_org_county[\"name\"].str.contains(\"San Bernardino\")]"
   ]
  },
  {
   "cell_type": "markdown",
   "id": "74fe5b44-6a32-425c-a4a9-20f399239651",
   "metadata": {},
   "source": [
    "## Socal CTC dictionary\n",
    "to be used in other notebooks to convert socal counties from SCAG to the county CTC\n"
   ]
  },
  {
   "cell_type": "code",
   "execution_count": 23,
   "id": "b616520d-2555-4f1c-912e-14cdbc098331",
   "metadata": {
    "tags": []
   },
   "outputs": [
    {
     "data": {
      "text/html": [
       "<div>\n",
       "<style scoped>\n",
       "    .dataframe tbody tr th:only-of-type {\n",
       "        vertical-align: middle;\n",
       "    }\n",
       "\n",
       "    .dataframe tbody tr th {\n",
       "        vertical-align: top;\n",
       "    }\n",
       "\n",
       "    .dataframe thead th {\n",
       "        text-align: right;\n",
       "    }\n",
       "</style>\n",
       "<table border=\"1\" class=\"dataframe\">\n",
       "  <thead>\n",
       "    <tr style=\"text-align: right;\">\n",
       "      <th></th>\n",
       "      <th>county_geography_name</th>\n",
       "      <th>name</th>\n",
       "    </tr>\n",
       "  </thead>\n",
       "  <tbody>\n",
       "    <tr>\n",
       "      <th>64</th>\n",
       "      <td>Riverside</td>\n",
       "      <td>Riverside County Transportation Commission</td>\n",
       "    </tr>\n",
       "    <tr>\n",
       "      <th>181</th>\n",
       "      <td>Imperial</td>\n",
       "      <td>Imperial County Transportation Commission</td>\n",
       "    </tr>\n",
       "    <tr>\n",
       "      <th>189</th>\n",
       "      <td>Los Angeles</td>\n",
       "      <td>Los Angeles County Metropolitan Transportation Authority</td>\n",
       "    </tr>\n",
       "    <tr>\n",
       "      <th>200</th>\n",
       "      <td>Orange</td>\n",
       "      <td>Orange County Transportation Authority</td>\n",
       "    </tr>\n",
       "    <tr>\n",
       "      <th>211</th>\n",
       "      <td>San Bernardino</td>\n",
       "      <td>San Bernardino County Transportation Authority</td>\n",
       "    </tr>\n",
       "    <tr>\n",
       "      <th>238</th>\n",
       "      <td>Ventura</td>\n",
       "      <td>Ventura County Transportation Commission</td>\n",
       "    </tr>\n",
       "  </tbody>\n",
       "</table>\n",
       "</div>"
      ],
      "text/plain": [
       "    county_geography_name  \\\n",
       "64              Riverside   \n",
       "181              Imperial   \n",
       "189           Los Angeles   \n",
       "200                Orange   \n",
       "211        San Bernardino   \n",
       "238               Ventura   \n",
       "\n",
       "                                                         name  \n",
       "64                 Riverside County Transportation Commission  \n",
       "181                 Imperial County Transportation Commission  \n",
       "189  Los Angeles County Metropolitan Transportation Authority  \n",
       "200                    Orange County Transportation Authority  \n",
       "211            San Bernardino County Transportation Authority  \n",
       "238                  Ventura County Transportation Commission  "
      ]
     },
     "execution_count": 23,
     "metadata": {},
     "output_type": "execute_result"
    }
   ],
   "source": [
    "dim_org_county[\n",
    "    (dim_org_county[\"name\"].isin(check_ctc))\n",
    "    | (dim_org_county[\"name\"].str.contains(\"San Bernardino\"))\n",
    "][[\"county_geography_name\", \"name\"]]"
   ]
  },
  {
   "cell_type": "code",
   "execution_count": 24,
   "id": "90c8a0ec-6403-4606-846c-ae16ff623600",
   "metadata": {
    "tags": []
   },
   "outputs": [
    {
     "data": {
      "text/plain": [
       "{'Riverside': 'Riverside County Transportation Commission',\n",
       " 'Imperial': 'Imperial County Transportation Commission',\n",
       " 'Los Angeles': 'Los Angeles County Metropolitan Transportation Authority',\n",
       " 'Orange': 'Orange County Transportation Authority',\n",
       " 'San Bernardino': 'San Bernardino County Transportation Authority',\n",
       " 'Ventura': 'Ventura County Transportation Commission'}"
      ]
     },
     "execution_count": 24,
     "metadata": {},
     "output_type": "execute_result"
    }
   ],
   "source": [
    "# save this to a module for later imports\n",
    "scag_to_ctc = {\n",
    "    \"Riverside\": \"Riverside County Transportation Commission\",\n",
    "    \"Imperial\": \"Imperial County Transportation Commission\",\n",
    "    \"Los Angeles\": \"Los Angeles County Metropolitan Transportation Authority\",\n",
    "    \"Orange\": \"Orange County Transportation Authority\",\n",
    "    \"San Bernardino\": \"San Bernardino County Transportation Authority\",\n",
    "    \"Ventura\": \"Ventura County Transportation Commission\",\n",
    "}\n",
    "\n",
    "scag_to_ctc"
   ]
  },
  {
   "cell_type": "markdown",
   "id": "9c1fa3c2-90fb-4473-9c39-314a1bb91406",
   "metadata": {},
   "source": [
    "## Compare ntd ID from dim_org_county to ntd id in xwalk"
   ]
  },
  {
   "cell_type": "code",
   "execution_count": 25,
   "id": "5faa009c-40c2-4c68-a99c-81d4cf677328",
   "metadata": {},
   "outputs": [
    {
     "data": {
      "text/plain": [
       "both          230\n",
       "left_only      24\n",
       "right_only     15\n",
       "Name: _merge, dtype: int64"
      ]
     },
     "execution_count": 25,
     "metadata": {},
     "output_type": "execute_result"
    }
   ],
   "source": [
    "xwalk_compare = xwalk.merge(\n",
    "    dim_org_county,\n",
    "    how=\"outer\",\n",
    "    left_on=\"ntd_id\",\n",
    "    right_on=\"ntd_id_2022\",\n",
    "    indicator=True,\n",
    ")\n",
    "xwalk_compare[\"_merge\"].value_counts()"
   ]
  },
  {
   "cell_type": "code",
   "execution_count": 26,
   "id": "962aae7e-bccb-4fec-907f-9ac7432bc4b2",
   "metadata": {},
   "outputs": [
    {
     "data": {
      "text/plain": [
       "both          229\n",
       "left_only      25\n",
       "right_only     16\n",
       "Name: _merge, dtype: int64"
      ]
     },
     "execution_count": 26,
     "metadata": {},
     "output_type": "execute_result"
    }
   ],
   "source": [
    "mart_ntd_compare = mart_ntd.merge(\n",
    "    dim_org_county,\n",
    "    how=\"outer\",\n",
    "    left_on=\"ntd_id\",\n",
    "    right_on=\"ntd_id_2022\",\n",
    "    indicator=True,\n",
    ")\n",
    "mart_ntd_compare[\"_merge\"].value_counts()"
   ]
  },
  {
   "cell_type": "markdown",
   "id": "e205e719-24cb-4b4c-8271-7e75d7e0fbea",
   "metadata": {
    "tags": []
   },
   "source": [
    "these agencies do no appear in dim_orgs\n",
    "\n",
    "they only appear in the xwalk (ntd id were pulled from an ntd table)"
   ]
  },
  {
   "cell_type": "code",
   "execution_count": 27,
   "id": "81198c13-1bc2-4530-aa64-8814e5ac4261",
   "metadata": {
    "tags": []
   },
   "outputs": [
    {
     "data": {
      "text/plain": [
       "24"
      ]
     },
     "metadata": {},
     "output_type": "display_data"
    },
    {
     "data": {
      "text/plain": [
       "list"
      ]
     },
     "metadata": {},
     "output_type": "display_data"
    }
   ],
   "source": [
    "# unique agencies in the xwalk\n",
    "xwalk_compare[xwalk_compare[\"_merge\"] == \"left_only\"]\n",
    "\n",
    "left_only_ntd_id = (\n",
    "    xwalk_compare[xwalk_compare[\"_merge\"] == \"left_only\"][\"ntd_id\"].unique().tolist()\n",
    ")\n",
    "display(len(left_only_ntd_id), type(left_only_ntd_id))"
   ]
  },
  {
   "cell_type": "code",
   "execution_count": 28,
   "id": "6414d5a2-0d54-483f-892a-f31dc9356640",
   "metadata": {
    "tags": []
   },
   "outputs": [
    {
     "data": {
      "text/plain": [
       "15"
      ]
     },
     "metadata": {},
     "output_type": "display_data"
    },
    {
     "data": {
      "text/plain": [
       "list"
      ]
     },
     "metadata": {},
     "output_type": "display_data"
    }
   ],
   "source": [
    "# unique agencies in dim_orgs\n",
    "xwalk_compare[xwalk_compare[\"_merge\"] == \"right_only\"]\n",
    "\n",
    "right_only_ntd_id = (\n",
    "    xwalk_compare[xwalk_compare[\"_merge\"] == \"right_only\"][\"ntd_id_2022\"]\n",
    "    .unique()\n",
    "    .tolist()\n",
    ")\n",
    "display(len(right_only_ntd_id), type(right_only_ntd_id))"
   ]
  },
  {
   "cell_type": "markdown",
   "id": "f9b3db39-4c6c-4b79-bfc8-1a3847a388e0",
   "metadata": {},
   "source": [
    "### checking if unique xwalk ntd_id appear anywhere in unfiltered dim_orgs"
   ]
  },
  {
   "cell_type": "code",
   "execution_count": 29,
   "id": "119d4db0-1bcb-4971-964f-006c4bbd6229",
   "metadata": {},
   "outputs": [
    {
     "data": {
      "text/plain": [
       "0"
      ]
     },
     "execution_count": 29,
     "metadata": {},
     "output_type": "execute_result"
    }
   ],
   "source": [
    "left_only_dim_orgs = (\n",
    "    tbls.mart_transit_database.dim_organizations()\n",
    "    >> filter(\n",
    "        # _.ntd_id_2022.isin(left_only_ntd_id), # ntd_ids from xwalk, returned 0 matches\n",
    "        _.ntd_id.isin(left_only_ntd_id)  # returned 0 matches\n",
    "    )\n",
    "    >> distinct(\n",
    "        _.name,\n",
    "        _.ntd_id,\n",
    "        _.ntd_id_2022,\n",
    "        _.rtpa_name,\n",
    "        _.key,\n",
    "        _._is_current,\n",
    "        _.public_currently_operating,\n",
    "    )\n",
    "    >> collect()\n",
    ")\n",
    "\n",
    "len(left_only_dim_orgs)\n",
    "\n",
    "# so the ntd_ids from the xwalk (initialy pulled from mart_ntd) DO NOT APPEAR anywhere in dim_orgs\n",
    "# what can we conclude."
   ]
  },
  {
   "cell_type": "code",
   "execution_count": 30,
   "id": "573dc622-4443-4339-8995-ab7f0ca37941",
   "metadata": {},
   "outputs": [
    {
     "data": {
      "text/plain": [
       "31"
      ]
     },
     "execution_count": 30,
     "metadata": {},
     "output_type": "execute_result"
    }
   ],
   "source": [
    "right_only_dim_orgs = (\n",
    "    tbls.mart_transit_database.dim_organizations()\n",
    "    >> filter(\n",
    "        _.ntd_id_2022.isin(\n",
    "            right_only_ntd_id\n",
    "        ),  # ntd_id from dim_org. returned 31 matches\n",
    "        # _.ntd_id.isin(right_only_ntd_id) # returned 43 matches\n",
    "    )\n",
    "    >> distinct(\n",
    "        _.name,\n",
    "        _.ntd_id,\n",
    "        _.ntd_id_2022,\n",
    "        _.rtpa_name,\n",
    "        _.key,\n",
    "        _._is_current,\n",
    "        _.public_currently_operating,\n",
    "    )\n",
    "    >> collect()\n",
    ")\n",
    "\n",
    "len(right_only_dim_orgs)"
   ]
  },
  {
   "cell_type": "code",
   "execution_count": 31,
   "id": "70a9f013-0a34-44a8-b98f-58aab6b217c6",
   "metadata": {
    "tags": []
   },
   "outputs": [
    {
     "data": {
      "text/plain": [
       "agency_name\n",
       "ATC / Vancom                                                                                         1\n",
       "DAVE Transportation Services, Inc.                                                                   1\n",
       "Ryder/ATE                                                                                            1\n",
       "Paso Robles Transit Services (PE)                                                                    1\n",
       "Paratransit, Inc. CTSA                                                                               1\n",
       "Monterey County RIDES                                                                                1\n",
       "MTS Contract Services (MCS)                                                                          1\n",
       "Los Angeles County Transportation Commission / MTA                                                   1\n",
       "Los Angeles County Metropolitan Transportation Authority (LACMTA)                                    1\n",
       "Los Angeles County - Department of Public Works, Transit Operations, Willowbrook et. al. DR          1\n",
       "Los Angeles County - Department of Public Works, Transit Operations, Willowbrook MB                  1\n",
       "Los Angeles County - Department of Public Works, Transit Operations, Whittier Et Al DR               1\n",
       "Los Angeles County - Department of Public Works, Transit Operations, Lennox MB                       1\n",
       "Los Angeles County - Department of Public Works, Transit Operations, King Medical Center MB          1\n",
       "Los Angeles County - Department of Public Works, Transit Operations, Athens MB                       1\n",
       "Los Angeles County (LACDPW) - Department of Public Works, Transit Operations – East Valinda          1\n",
       "Los Angeles County (LACDPW) - Department of Public Works, Transit Operations – Avocado Heights       1\n",
       "Los Angeles County (LACDPW) - Department of Public Works, Transit Operations - South Whittier        1\n",
       "Los Angeles County (LACDPW) - Department of Public Works, Transit Operations - Florence Firestone    1\n",
       "Laidlaw Transit Services, Inc.                                                                       1\n",
       "Laidlaw Transit Services                                                                             1\n",
       "LACMTA - Small Operators (LACMTA)                                                                    1\n",
       "Imperial Valley Transit (IVT)                                                                        1\n",
       "San Francisco Paratransit (ATC)                                                                      1\n",
       "dtype: int64"
      ]
     },
     "execution_count": 31,
     "metadata": {},
     "output_type": "execute_result"
    }
   ],
   "source": [
    "### further investigate the unique xwalk ntd_id (these ids come from mart_ntd.)\n",
    "# are there any similar ntd names in dim orgs?\n",
    "\n",
    "xwalk_compare[xwalk_compare[\"_merge\"] == \"left_only\"].sort_values(by=\"agency_name\").reset_index(drop=True).value_counts(\"agency_name\")"
   ]
  },
  {
   "cell_type": "code",
   "execution_count": 32,
   "id": "f22ed80c-6c1f-4a27-91ef-da743818ad0d",
   "metadata": {
    "tags": []
   },
   "outputs": [
    {
     "data": {
      "text/plain": [
       "agency_name\n",
       "ATC / Vancom                                                                                         1\n",
       "Los Angeles County - Department of Public Works, Transit Operations, Whittier Et Al DR               1\n",
       "Ryder/ATE                                                                                            1\n",
       "Reservation Transportation Authority                                                                 1\n",
       "Paso Robles Transit Services (PE)                                                                    1\n",
       "Paratransit, Inc. CTSA                                                                               1\n",
       "Monterey County RIDES                                                                                1\n",
       "MTS Contract Services (MCS)                                                                          1\n",
       "Los Angeles County Transportation Commission / MTA                                                   1\n",
       "Los Angeles County Metropolitan Transportation Authority (LACMTA)                                    1\n",
       "Los Angeles County - Department of Public Works, Transit Operations, Willowbrook et. al. DR          1\n",
       "Los Angeles County - Department of Public Works, Transit Operations, Willowbrook MB                  1\n",
       "Los Angeles County - Department of Public Works, Transit Operations, Lennox MB                       1\n",
       "DAVE Transportation Services, Inc.                                                                   1\n",
       "Los Angeles County - Department of Public Works, Transit Operations, King Medical Center MB          1\n",
       "Los Angeles County - Department of Public Works, Transit Operations, Athens MB                       1\n",
       "Los Angeles County (LACDPW) - Department of Public Works, Transit Operations – East Valinda          1\n",
       "Los Angeles County (LACDPW) - Department of Public Works, Transit Operations – Avocado Heights       1\n",
       "Los Angeles County (LACDPW) - Department of Public Works, Transit Operations - South Whittier        1\n",
       "Los Angeles County (LACDPW) - Department of Public Works, Transit Operations - Florence Firestone    1\n",
       "Laidlaw Transit Services, Inc.                                                                       1\n",
       "Laidlaw Transit Services                                                                             1\n",
       "LACMTA - Small Operators (LACMTA)                                                                    1\n",
       "Imperial Valley Transit (IVT)                                                                        1\n",
       "San Francisco Paratransit (ATC)                                                                      1\n",
       "dtype: int64"
      ]
     },
     "execution_count": 32,
     "metadata": {},
     "output_type": "execute_result"
    }
   ],
   "source": [
    "### further investigate the unique xwalk ntd_id (these ids come from mart_ntd.)\n",
    "# are there any similar ntd names in dim orgs?\n",
    "\n",
    "mart_ntd_compare[mart_ntd_compare[\"_merge\"] == \"left_only\"].sort_values(by=\"agency_name\").reset_index(drop=True).value_counts(\"agency_name\")"
   ]
  },
  {
   "cell_type": "code",
   "execution_count": 33,
   "id": "30871784-fe4a-471e-9b46-d0fbc7972032",
   "metadata": {},
   "outputs": [
    {
     "data": {
      "text/html": [
       "<div>\n",
       "<style scoped>\n",
       "    .dataframe tbody tr th:only-of-type {\n",
       "        vertical-align: middle;\n",
       "    }\n",
       "\n",
       "    .dataframe tbody tr th {\n",
       "        vertical-align: top;\n",
       "    }\n",
       "\n",
       "    .dataframe thead th {\n",
       "        text-align: right;\n",
       "    }\n",
       "</style>\n",
       "<table border=\"1\" class=\"dataframe\">\n",
       "  <thead>\n",
       "    <tr style=\"text-align: right;\">\n",
       "      <th></th>\n",
       "      <th>agency_name</th>\n",
       "      <th>ntd_id</th>\n",
       "      <th>last_report_year</th>\n",
       "      <th>agency_status</th>\n",
       "      <th>city</th>\n",
       "      <th>name</th>\n",
       "      <th>ntd_id_2022</th>\n",
       "      <th>rtpa_name</th>\n",
       "      <th>key</th>\n",
       "      <th>organization_key</th>\n",
       "      <th>organization_name</th>\n",
       "      <th>county_geography_name</th>\n",
       "      <th>county_geography_key</th>\n",
       "      <th>_merge</th>\n",
       "    </tr>\n",
       "  </thead>\n",
       "  <tbody>\n",
       "    <tr>\n",
       "      <th>106</th>\n",
       "      <td>Reservation Transportation Authority</td>\n",
       "      <td>99280</td>\n",
       "      <td>2015.0</td>\n",
       "      <td>Inactive</td>\n",
       "      <td>None</td>\n",
       "      <td>NaN</td>\n",
       "      <td>NaN</td>\n",
       "      <td>NaN</td>\n",
       "      <td>NaN</td>\n",
       "      <td>NaN</td>\n",
       "      <td>NaN</td>\n",
       "      <td>NaN</td>\n",
       "      <td>NaN</td>\n",
       "      <td>left_only</td>\n",
       "    </tr>\n",
       "  </tbody>\n",
       "</table>\n",
       "</div>"
      ],
      "text/plain": [
       "                              agency_name ntd_id  last_report_year  \\\n",
       "106  Reservation Transportation Authority  99280            2015.0   \n",
       "\n",
       "    agency_status  city name ntd_id_2022 rtpa_name  key organization_key  \\\n",
       "106      Inactive  None  NaN         NaN       NaN  NaN              NaN   \n",
       "\n",
       "    organization_name county_geography_name county_geography_key     _merge  \n",
       "106               NaN                   NaN                  NaN  left_only  "
      ]
     },
     "execution_count": 33,
     "metadata": {},
     "output_type": "execute_result"
    }
   ],
   "source": [
    "mart_ntd_compare[mart_ntd_compare[\"agency_name\"]==\"Reservation Transportation Authority\"]"
   ]
  },
  {
   "cell_type": "markdown",
   "id": "800ebfbc-0e69-45ef-8357-febddf3dd1d8",
   "metadata": {},
   "source": [
    "A lot of these agency names includ acronyms in their names. or are sub-departments of the parent agency (public works).\n",
    "\n"
   ]
  },
  {
   "cell_type": "code",
   "execution_count": 34,
   "id": "7f839814-59c0-490d-8047-56ce4687b788",
   "metadata": {
    "tags": []
   },
   "outputs": [],
   "source": [
    "check_names = [\n",
    "    \"ATC\",\n",
    "    \"Vancom\",\n",
    "    \"Chico\",\n",
    "    \"Chula Vista\",\n",
    "    \"Alameda Ferry\",\n",
    "    \"Benicia\",\n",
    "    \"Irvine\",\n",
    "    \"Merced\",\n",
    "    \"Vallejo\",\n",
    "    \"San Diego\",\n",
    "    \"DAVE\",\n",
    "    \"Imperial\",\n",
    "    \"LACMTA\",\n",
    "    \"Laidwal\",\n",
    "    \"Department of Public Works\",\n",
    "    \"MTA\",\n",
    "    \"MTS\",\n",
    "    \"Monterey\",\n",
    "    \"National City\",\n",
    "    \"Outreach\",\n",
    "    \"Paratransit\",\n",
    "    \"Paso Robles\",\n",
    "    \"Ryder\",\n",
    "    \"San Diego Trolley\",\n",
    "    \"San Gabriel\",\n",
    "    \"Stanislaus\",\n",
    "]"
   ]
  },
  {
   "cell_type": "code",
   "execution_count": 35,
   "id": "0862dd0d-cdb3-48c3-9f91-e680c1bbca16",
   "metadata": {
    "tags": []
   },
   "outputs": [
    {
     "name": "stdout",
     "output_type": "stream",
     "text": [
      "<class 'pandas.core.frame.DataFrame'>\n",
      "RangeIndex: 10039 entries, 0 to 10038\n",
      "Data columns (total 28 columns):\n",
      " #   Column                                  Non-Null Count  Dtype              \n",
      "---  ------                                  --------------  -----              \n",
      " 0   key                                     10039 non-null  object             \n",
      " 1   source_record_id                        10039 non-null  object             \n",
      " 2   name                                    10031 non-null  object             \n",
      " 3   organization_type                       8987 non-null   object             \n",
      " 4   roles                                   10039 non-null  object             \n",
      " 5   itp_id                                  5229 non-null   float64            \n",
      " 6   details                                 1286 non-null   object             \n",
      " 7   website                                 6321 non-null   object             \n",
      " 8   reporting_category                      5204 non-null   object             \n",
      " 9   hubspot_company_record_id               5004 non-null   object             \n",
      " 10  gtfs_static_status                      10039 non-null  object             \n",
      " 11  gtfs_realtime_status                    10039 non-null  object             \n",
      " 12  _deprecated__assessment_status          7199 non-null   object             \n",
      " 13  manual_check__contact_on_website        8264 non-null   object             \n",
      " 14  alias                                   10039 non-null  object             \n",
      " 15  is_public_entity                        5089 non-null   object             \n",
      " 16  ntd_id                                  2636 non-null   object             \n",
      " 17  ntd_agency_info_key                     2502 non-null   object             \n",
      " 18  ntd_id_2022                             589 non-null    object             \n",
      " 19  rtpa_key                                380 non-null    object             \n",
      " 20  rtpa_name                               380 non-null    object             \n",
      " 21  mpo_key                                 230 non-null    object             \n",
      " 22  mpo_name                                230 non-null    object             \n",
      " 23  public_currently_operating              4175 non-null   object             \n",
      " 24  public_currently_operating_fixed_route  4175 non-null   object             \n",
      " 25  _is_current                             10039 non-null  bool               \n",
      " 26  _valid_from                             10039 non-null  datetime64[ns, UTC]\n",
      " 27  _valid_to                               10039 non-null  datetime64[ns, UTC]\n",
      "dtypes: bool(1), datetime64[ns, UTC](2), float64(1), object(24)\n",
      "memory usage: 2.1+ MB\n"
     ]
    }
   ],
   "source": [
    "all_dim_orgs = (\n",
    "    tbls.mart_transit_database.dim_organizations()\n",
    "    >> filter(\n",
    "        # _._is_current == True,\n",
    "        # _.name.LIKE(\"%San%\")\n",
    "    )\n",
    "    # >> distinct(\n",
    "    #   _.name,\n",
    "    #  _.ntd_id,\n",
    "    # _.ntd_id_2022,\n",
    "    # _.rtpa_name,\n",
    "    # _.key,\n",
    "    # _._is_current,\n",
    "    # _.public_currently_operating\n",
    "    # )\n",
    "    >> collect()\n",
    ")\n",
    "all_dim_orgs.info()"
   ]
  },
  {
   "cell_type": "code",
   "execution_count": 36,
   "id": "4957b34d-6a30-461c-9d95-aa036d501053",
   "metadata": {
    "tags": []
   },
   "outputs": [
    {
     "data": {
      "text/plain": [
       "'Results for agency_name containing: ATC'"
      ]
     },
     "metadata": {},
     "output_type": "display_data"
    },
    {
     "data": {
      "text/plain": [
       "[]"
      ]
     },
     "metadata": {},
     "output_type": "display_data"
    },
    {
     "data": {
      "text/plain": [
       "'Results for agency_name containing: Vancom'"
      ]
     },
     "metadata": {},
     "output_type": "display_data"
    },
    {
     "data": {
      "text/plain": [
       "[]"
      ]
     },
     "metadata": {},
     "output_type": "display_data"
    },
    {
     "data": {
      "text/plain": [
       "'Results for agency_name containing: Chico'"
      ]
     },
     "metadata": {},
     "output_type": "display_data"
    },
    {
     "data": {
      "text/plain": [
       "['City of Chico',\n",
       " 'California State University Chico',\n",
       " 'Mechoopda Indian Tribe of Chico Rancheria, California']"
      ]
     },
     "metadata": {},
     "output_type": "display_data"
    },
    {
     "data": {
      "text/plain": [
       "'Results for agency_name containing: Chula Vista'"
      ]
     },
     "metadata": {},
     "output_type": "display_data"
    },
    {
     "data": {
      "text/plain": [
       "['City of Chula Vista']"
      ]
     },
     "metadata": {},
     "output_type": "display_data"
    },
    {
     "data": {
      "text/plain": [
       "'Results for agency_name containing: Alameda Ferry'"
      ]
     },
     "metadata": {},
     "output_type": "display_data"
    },
    {
     "data": {
      "text/plain": [
       "[]"
      ]
     },
     "metadata": {},
     "output_type": "display_data"
    },
    {
     "data": {
      "text/plain": [
       "'Results for agency_name containing: Benicia'"
      ]
     },
     "metadata": {},
     "output_type": "display_data"
    },
    {
     "data": {
      "text/plain": [
       "['City of Benicia']"
      ]
     },
     "metadata": {},
     "output_type": "display_data"
    },
    {
     "data": {
      "text/plain": [
       "'Results for agency_name containing: Irvine'"
      ]
     },
     "metadata": {},
     "output_type": "display_data"
    },
    {
     "data": {
      "text/plain": [
       "['City of Irvine', 'University of California, Irvine', 'Irvine Valley College']"
      ]
     },
     "metadata": {},
     "output_type": "display_data"
    },
    {
     "data": {
      "text/plain": [
       "'Results for agency_name containing: Merced'"
      ]
     },
     "metadata": {},
     "output_type": "display_data"
    },
    {
     "data": {
      "text/plain": [
       "['Merced County Association of Governments',\n",
       " 'Transit Joint Powers Authority for Merced County',\n",
       " 'University of California, Merced',\n",
       " 'City of Merced',\n",
       " 'Merced Community College District',\n",
       " 'Merced County',\n",
       " 'Merced Regional Airport']"
      ]
     },
     "metadata": {},
     "output_type": "display_data"
    },
    {
     "data": {
      "text/plain": [
       "'Results for agency_name containing: Vallejo'"
      ]
     },
     "metadata": {},
     "output_type": "display_data"
    },
    {
     "data": {
      "text/plain": [
       "['City of Vallejo']"
      ]
     },
     "metadata": {},
     "output_type": "display_data"
    },
    {
     "data": {
      "text/plain": [
       "'Results for agency_name containing: San Diego'"
      ]
     },
     "metadata": {},
     "output_type": "display_data"
    },
    {
     "data": {
      "text/plain": [
       "['City of San Diego',\n",
       " 'ElderHelp of San Diego',\n",
       " 'Jewish Family Service of San Diego',\n",
       " 'San Diego Association of Governments',\n",
       " 'San Diego County',\n",
       " 'San Diego International Airport',\n",
       " 'San Diego Metropolitan Transit System',\n",
       " 'San Diego State University',\n",
       " 'San Diego Transit Corporation',\n",
       " 'San Diego Trolley, Inc.',\n",
       " 'University of California, San Diego',\n",
       " 'Port of San Diego',\n",
       " 'San Diego City College',\n",
       " 'San Diego College of Continuing Education',\n",
       " 'San Diego Community College District',\n",
       " 'San Diego Mesa College',\n",
       " 'San Diego Miramar College']"
      ]
     },
     "metadata": {},
     "output_type": "display_data"
    },
    {
     "data": {
      "text/plain": [
       "'Results for agency_name containing: DAVE'"
      ]
     },
     "metadata": {},
     "output_type": "display_data"
    },
    {
     "data": {
      "text/plain": [
       "[]"
      ]
     },
     "metadata": {},
     "output_type": "display_data"
    },
    {
     "data": {
      "text/plain": [
       "'Results for agency_name containing: Imperial'"
      ]
     },
     "metadata": {},
     "output_type": "display_data"
    },
    {
     "data": {
      "text/plain": [
       "['ARC Imperial Valley',\n",
       " 'City of Imperial Beach',\n",
       " 'Imperial County',\n",
       " 'Imperial County Transportation Commission',\n",
       " 'City of Imperial',\n",
       " 'Imperial Community College District',\n",
       " 'Imperial County Airport']"
      ]
     },
     "metadata": {},
     "output_type": "display_data"
    },
    {
     "data": {
      "text/plain": [
       "'Results for agency_name containing: LACMTA'"
      ]
     },
     "metadata": {},
     "output_type": "display_data"
    },
    {
     "data": {
      "text/plain": [
       "[]"
      ]
     },
     "metadata": {},
     "output_type": "display_data"
    },
    {
     "data": {
      "text/plain": [
       "'Results for agency_name containing: Laidwal'"
      ]
     },
     "metadata": {},
     "output_type": "display_data"
    },
    {
     "data": {
      "text/plain": [
       "[]"
      ]
     },
     "metadata": {},
     "output_type": "display_data"
    },
    {
     "data": {
      "text/plain": [
       "'Results for agency_name containing: Department of Public Works'"
      ]
     },
     "metadata": {},
     "output_type": "display_data"
    },
    {
     "data": {
      "text/plain": [
       "[]"
      ]
     },
     "metadata": {},
     "output_type": "display_data"
    },
    {
     "data": {
      "text/plain": [
       "'Results for agency_name containing: MTA'"
      ]
     },
     "metadata": {},
     "output_type": "display_data"
    },
    {
     "data": {
      "text/plain": [
       "[]"
      ]
     },
     "metadata": {},
     "output_type": "display_data"
    },
    {
     "data": {
      "text/plain": [
       "'Results for agency_name containing: MTS'"
      ]
     },
     "metadata": {},
     "output_type": "display_data"
    },
    {
     "data": {
      "text/plain": [
       "[]"
      ]
     },
     "metadata": {},
     "output_type": "display_data"
    },
    {
     "data": {
      "text/plain": [
       "'Results for agency_name containing: Monterey'"
      ]
     },
     "metadata": {},
     "output_type": "display_data"
    },
    {
     "data": {
      "text/plain": [
       "['Association of Monterey Bay Area Governments',\n",
       " 'City of Monterey',\n",
       " 'City of Monterey Park',\n",
       " 'Monterey County',\n",
       " 'Monterey Peninsula College',\n",
       " 'Monterey-Salinas Transit',\n",
       " 'Transportation Agency for Monterey County',\n",
       " 'California State University Monterey Bay',\n",
       " 'Monterey Regional Airport']"
      ]
     },
     "metadata": {},
     "output_type": "display_data"
    },
    {
     "data": {
      "text/plain": [
       "'Results for agency_name containing: National City'"
      ]
     },
     "metadata": {},
     "output_type": "display_data"
    },
    {
     "data": {
      "text/plain": [
       "['City of National City']"
      ]
     },
     "metadata": {},
     "output_type": "display_data"
    },
    {
     "data": {
      "text/plain": [
       "'Results for agency_name containing: Outreach'"
      ]
     },
     "metadata": {},
     "output_type": "display_data"
    },
    {
     "data": {
      "text/plain": [
       "['Bay Area Outreach & Recreation Program']"
      ]
     },
     "metadata": {},
     "output_type": "display_data"
    },
    {
     "data": {
      "text/plain": [
       "'Results for agency_name containing: Paratransit'"
      ]
     },
     "metadata": {},
     "output_type": "display_data"
    },
    {
     "data": {
      "text/plain": [
       "['A-Paratransit',\n",
       " 'Global Paratransit Inc.',\n",
       " 'MV Paratransit',\n",
       " 'Network Paratransit System',\n",
       " 'Paratransit Inc.',\n",
       " 'Paratransit Services Inc.',\n",
       " 'Placer TART Paratransit',\n",
       " 'East Bay Paratransit Consortium']"
      ]
     },
     "metadata": {},
     "output_type": "display_data"
    },
    {
     "data": {
      "text/plain": [
       "'Results for agency_name containing: Paso Robles'"
      ]
     },
     "metadata": {},
     "output_type": "display_data"
    },
    {
     "data": {
      "text/plain": [
       "['City of Paso Robles']"
      ]
     },
     "metadata": {},
     "output_type": "display_data"
    },
    {
     "data": {
      "text/plain": [
       "'Results for agency_name containing: Ryder'"
      ]
     },
     "metadata": {},
     "output_type": "display_data"
    },
    {
     "data": {
      "text/plain": [
       "[]"
      ]
     },
     "metadata": {},
     "output_type": "display_data"
    },
    {
     "data": {
      "text/plain": [
       "'Results for agency_name containing: San Diego Trolley'"
      ]
     },
     "metadata": {},
     "output_type": "display_data"
    },
    {
     "data": {
      "text/plain": [
       "['San Diego Trolley, Inc.']"
      ]
     },
     "metadata": {},
     "output_type": "display_data"
    },
    {
     "data": {
      "text/plain": [
       "'Results for agency_name containing: San Gabriel'"
      ]
     },
     "metadata": {},
     "output_type": "display_data"
    },
    {
     "data": {
      "text/plain": [
       "['San Gabriel Transit Inc.', 'City of San Gabriel']"
      ]
     },
     "metadata": {},
     "output_type": "display_data"
    },
    {
     "data": {
      "text/plain": [
       "'Results for agency_name containing: Stanislaus'"
      ]
     },
     "metadata": {},
     "output_type": "display_data"
    },
    {
     "data": {
      "text/plain": [
       "['Historic: Stanislaus Regional Transit',\n",
       " 'MOVE Stanislaus',\n",
       " 'Stanislaus Council of Governments',\n",
       " 'Stanislaus County',\n",
       " 'Stanislaus Regional Transit',\n",
       " 'Stanislaus Regional Transit Authority',\n",
       " 'Stanislaus State']"
      ]
     },
     "metadata": {},
     "output_type": "display_data"
    }
   ],
   "source": [
    "for i in check_names:\n",
    "    display(\n",
    "        f\"\"\"Results for agency_name containing: {i}\"\"\",\n",
    "        all_dim_orgs[all_dim_orgs[\"name\"].str.contains(i, na=False)][\"name\"]\n",
    "        .unique()\n",
    "        .tolist(),\n",
    "        # all_dim_orgs[all_dim_orgs[\"name\"].str.contains(i, na=False)]#.value_counts(\"name\")\n",
    "    )"
   ]
  },
  {
   "cell_type": "markdown",
   "id": "d9d2f2c4-7630-4fba-91ee-02f73ed98fd6",
   "metadata": {},
   "source": [
    "## Copy pasted list of orgs with mart_ntd Id but no ntd_id in dim_org\n",
    "| ntd_id | agency_name                                                                                       | city          | agency_status | Closest agency_name equivilent                                  | Closest ntd_id equivilent            | ntd_id_2022 updated in airtable                                                                                                 |\n",
    "|--------|---------------------------------------------------------------------------------------------------|---------------|---------------|-----------------------------------------------------------------|--------------------------------------|---------------------------------------------------------------------------------------------------------------------------------|\n",
    "| 90174  | City of Benicia (Benicia Breeze)                                                                  | Benicia       | Inactive      | City of Benicia                                                 | recHFNGB6YV8CuioA                    | TRUE                                                                                                                            |\n",
    "| 90231  | City of Irvine (COI)                                                                              | Irvine        | Inactive      | City of Irvine                                                  | recK4si1uIoj6HfrO                    | TRUE                                                                                                                            |\n",
    "| 90054  | San Diego Trolley, Inc. (MTS)                                                                     | San Diego     | Inactive      | San Diego Trolley, Inc.                                         | rec3k2j1TaChhTUg1                    | TRUE                                                                                                                            |\n",
    "| 90187  | San Gabriel Transit, Inc. (SGT)                                                                   | Rosemead      | Inactive      | San Gabriel Transit Inc.                                        | recEgsVErZ8aiiQoK                    | TRUE                                                                                                                            |\n",
    "| 90311  | Stanislaus Council of Governments (StanCOG) - Mobility Programs                                   | Modesto       | Active        | Stanislaus Council of Governments                               | recJQMJsqPJX18dpI                    | TRUE                                                                                                                            |\n",
    "| 90150  | City of Alameda Ferry Services                                                                    | Alameda       | Inactive      | City of Alameda                                                 | reczluQLW1y5oQqF8                    | TRUE                                                                                                                            |\n",
    "| 90143  | City of Merced Transit System                                                                     | Merced        | Inactive      | City of Merced                                                  | recL5F51uYuLlZFMh                    | TRUE                                                                                                                            |\n",
    "| 90160  | Outreach & Escort dba OUTREACH                                                                    | San Jose      | Inactive      | OUTREACH                                                        | recYEQx0XYLARky7A                    | TRUE                                                                                                                            |\n",
    "| 90188  | County of San Diego Transit System (CTS)                                                          | San Diego     | Inactive      | SD county transit history page said CTS divested to MTS in 2002 | recenHiZpQfc6R06H, recH0KWZTuXyeDLRs | TRUE                                                                                                                            |\n",
    "| 90055  | Monterey County RIDES                                                                             | Salinas       | Inactive      | Monterey County?                                                | recPCdSwksmlKiK4k                    | There is Monterey County, but also ADA Paratransit RIDES  in MST                                                                |\n",
    "| 90028  | City of Vallejo Transportation Program (Vallejo Transit, Baylink)                                 | Vallejo       | Inactive      | City of Vallejo                                                 | recUwbn2HNnI2rpxY                    | SolTrans services Vallejo now, need to talk this one out                                                                        |\n",
    "| 90077  | Los Angeles County Transportation Commission / MTA                                                | Los Angeles   | Inactive      | Los Angeles County? (not CTC)                                   |                                      | put as alias on 9271?                                                                                                           |\n",
    "| 90166  | LACMTA - Small Operators (LACMTA)                                                                 | Los Angeles   | Inactive      | Los Angeles County Metropolitan Transportation Authority        | 90154                                | put as alias on 90154?                                                                                                          |\n",
    "| 90195  | Paso Robles Transit Services (PE)                                                                 | Paso Robles   | Inactive      | City of Paso Robles                                             | recTsBhbc04OTbbe3                    | probably is City of Paso Robles, there is a \"Paso Express\" picture on the SLORTA website for Paso Robles Routes A & B services  |\n",
    "| 90189  | National City Transit (NCT)                                                                       | National City | Inactive      | City of National City                                           | rec1S4pn6HGRfSekT                    | probably is City of Natnioal City. National city wiki said It was absored into MTS                                              |\n",
    "| 90021  | Los Angeles County Metropolitan Transportation Authority (LACMTA)                                 | Los Angeles   | Inactive      | Los Angeles County Metropolitan Transportation Authority        | 90154                                | ntd id already existed, no changes                                                                                              |\n",
    "| 90224  | Paratransit, Inc. CTSA                                                                            | Sacramento    | Inactive      | Paratransit Inc.                                                | 90223                                | ntd id already existed, no changes                                                                                              |\n",
    "| 90273  | Los Angeles County (LACDPW) - Department of Public Works, Transit Operations - Florence Firestone | Alhambra      | Active        | Los Angeles County (alias, LA DPW)?                             | 90271                                | ntd id already existed, no changes                                                                                              |\n",
    "| 90276  | Los Angeles County (LACDPW) - Department of Public Works, Transit Operations - South Whittier     | Alhambra      | Active        | Los Angeles County (alias, LA DPW)?                             | 90271                                | ntd id already existed, no changes                                                                                              |\n",
    "| 90270 | Los Angeles County (LACDPW) - Department of Public Works, Transit Operations – Avocado Heights | Alhambra      | Active   | Los Angeles County (alias, LA DPW)?                             | 90271                                                          | ntd id already existed, no changes                                                             |\n",
    "|-------|------------------------------------------------------------------------------------------------|---------------|----------|-----------------------------------------------------------------|----------------------------------------------------------------|------------------------------------------------------------------------------------------------|\n",
    "| 90272 | Los Angeles County (LACDPW) - Department of Public Works, Transit Operations – East Valinda    | Alhambra      | Active   | Los Angeles County (alias, LA DPW)?                             | 90271                                                          | ntd id already existed, no changes                                                             |\n",
    "| 90269 | Los Angeles County - Department of Public Works, Transit Operations, Athens MB                 | Alhambra      | Active   | Los Angeles County (alias, LA DPW)?                             | 90271                                                          | ntd id already existed, no changes                                                             |\n",
    "| 90274 | Los Angeles County - Department of Public Works, Transit Operations, King Medical Center MB    | Alhambra      | Active   | Los Angeles County (alias, LA DPW)?                             | 90271                                                          | ntd id already existed, no changes                                                             |\n",
    "| 90275 | Los Angeles County - Department of Public Works, Transit Operations, Lennox MB                 | Alhambra      | Active   | Los Angeles County (alias, LA DPW)?                             | 90271                                                          | ntd id already existed, no changes                                                             |\n",
    "| 90277 | Los Angeles County - Department of Public Works, Transit Operations, Whittier Et Al DR         | Alhambra      | Active   | Los Angeles County (alias, LA DPW)?                             | 90271                                                          | ntd id already existed, no changes                                                             |\n",
    "| 90278 | Los Angeles County - Department of Public Works, Transit Operations, Willowbrook MB            | Alhambra      | Active   | Los Angeles County (alias, LA DPW)?                             | 90271                                                          | ntd id already existed, no changes                                                             |\n",
    "| 90279 | Los Angeles County - Department of Public Works, Transit Operations, Willowbrook et. al. DR    | Alhambra      | Active   | Los Angeles County (alias, LA DPW)?                             | 90271                                                          | ntd id already existed, no changes                                                             |\n",
    "| 90185 | MTS Contract Services (MCS)                                                                    | San Diego     | Inactive | probably, San Diego Metropolitan Transit System                 | 90026                                                          | ntd id already existed, no changes                                                             |\n",
    "| 90212 | Imperial Valley Transit (IVT)                                                                  | El Centro     | Inactive | Imperial County Transportation Commission                       | rec38PbjPbEy2Tvdu                                              | IVT is listed as a service under ICTC, but IVT has its own website https://www.ivtransit.com/  |\n",
    "| 90127 | Chico Area Transit System City of Chico (CATS)                                                 | Chico         | Inactive | could be City of chico.                                         |                                                                |  probably wrapped into BCAG                                                                    |\n",
    "| 90170 | ATC / Vancom                                                                                   | Oakland       | Inactive | double none                                                     |                                                                |                                                                                                |\n",
    "| 90193 | Chula Vista Transit (CVT)                                                                      | Chula Vista   | Inactive | City of Chula Vista                                             | recOT4QO6t6mRhUEu                                              | ? absorbed to MTS ?                                                                            |\n",
    "| 90158 | DAVE Transportation Services, Inc.                                                             | Sherman Oaks  | Inactive | double none                                                     |                                                                |                                                                                                |\n",
    "| 90178 | Laidlaw Transit Services                                                                       | El Monte      | Inactive | double none                                                     |                                                                |                                                                                                |\n",
    "| 90190 | Laidlaw Transit Services, Inc.                                                                 | San Jose      | Inactive | double none                                                     |                                                                |                                                                                                |\n",
    "| 90179 | Ryder/ATE                                                                                      | West Covina   | Inactive | double none                                                     |                                                                |                                                                                                |\n",
    "| 90186 | San Francisco Paratransit (ATC)                                                                | San Francisco | Inactive | probably City and County of San Francisco, via the sfmta webite | https://www.sfmta.com/getting-around/accessibility/paratransit |                                                                                                |\n",
    "|       |                                                                                                |               |          |                                                                 |                                                                |                                                                                                |\n",
    "|       |                                                                                                |               |          |                                                                 |                                                                |                                                                                                |\n",
    "\n"
   ]
  },
  {
   "cell_type": "markdown",
   "id": "fa159c97-ca3e-45fc-90b9-d54eba319f13",
   "metadata": {},
   "source": [
    "## Observed Scenarios\n",
    "Initial ntd_id to rtpa crosswalk was derived from `mart_ntd_funding_and_expenses.fct_service_data_and_operating_expenses_time_series_by_mode_upt`. We were later informed `dim_organizations` now contains rtpa data. However when compared using ntd_id, 36 agencies were unique to mart_ntd... and were not part of dim_organizations. agency name and ntd_id variables were analyed further\n",
    "\n",
    "Options for each variable\n",
    "- name\n",
    "    - match\n",
    "    - semi-match\n",
    "    - different\n",
    "    - none\n",
    "- dim_org.ntd_id\n",
    "    - match\n",
    "    - different\n",
    "    - none\n",
    "\n",
    "Of the 12 possible combinations, 6 combinations were observed. The following scenarios were identified comparing the differences between the agency name and ntd_id in mart_ntd vs dim_orgs , and the resulting action or not.\n",
    "\n",
    "### 1. **name: match | dim_org.ntd_ID: none**\n",
    "    - example\n",
    "        - \"City of Benicia (Benicia Breeze) 90174\" vs \"City of Benicia n/a\"\n",
    "        - \"City of Merced Transit System 90143\" vs \"City of Merced n/a \"\n",
    "    - ntd_id from mart_ntd copied to ntd_id_2022 in airtable\n",
    "\n",
    "### 2. **name: match | dim_org.ntd_ID: different**\n",
    "    - example\n",
    "        - \"Los Angeles County Metropolitan Transportation Authority (LACMTA) 90021\" vs \"Los Angeles County Metropolitan Transportation Authority 90154\"\n",
    "        - \"Paratransit, Inc. CTSA 90224\" vs \"Paratransit Inc. 90223\"\n",
    "    - no changes were made due to existing ntd_id. \n",
    "    - guessing this will still cause some unmerged rows between mart_ntd and dim_orgs since there will be different ntd_id\n",
    "    - can the mart_ntd org names be added as an alias to in airtable?\n",
    "   \n",
    "### 3. **name: semi-match | dim_org.ntd_ID: none**\n",
    "    - example\n",
    "        - \"National City Transit (NCT) 90189\" vs \"City of National City n/a\". \n",
    "        - \"City of Vallejo Transportation Program (Vallejo Transit, Baylink) 90028\" vs \"City of Vallejo n/a\". \n",
    "    - ntd_id from mart_ntd copied to ntd_id_2022 in airtable\n",
    "    - felt pretty confident these were all the same agency, just different service/brand names\n",
    "\n",
    "### 4. **name: none | dim_org.ntd_ID: none**\n",
    "    - example\n",
    "        - \"ATC / Vancom 90170\" vs \"no name, no id\"\n",
    "        - \"Laidlaw Transit Services 90178\" vs \"no name, no id\"\n",
    "        - \"DAVE Transportation Services, Inc. 90158\" vs\"no name, no id\"\n",
    "    - should these agencies be included in dim_orgs?\n",
    "\n",
    "### 5. **name: different | dim_org.ntd_ID: different**\n",
    "    - example\n",
    "        - \"LACMTA - Small Operators (LACMTA) 90166\" vs \"90154 Los Angeles County Metropolitan Transportation Authority 90154\"\n",
    "        - \"MTS Contract Services (MCS) 90185\" vs probably, San Diego Metropolitan Transit System 90026\n",
    "    - no changes were made. less confident these names match\n",
    "    - need guidence\n",
    "\n",
    "### 6. **name: different | dim_org.ntd_ID: none**\n",
    "    - example\n",
    "        - \"Chico Area Transit System City of Chico (CATS) 90128\" vs \"City of Chico n/a\"\n",
    "        - \"Paso Robles Transit Services (PE) 90195\" vs \"City of Paso Robles n/a\"\n",
    "    - some names were more confident than others.\n",
    "    - some ntd_ids were copied over. some were left alone.\n"
   ]
  },
  {
   "cell_type": "code",
   "execution_count": null,
   "id": "f7931c71-95dc-4a00-8c53-89a151cf4bf8",
   "metadata": {},
   "outputs": [],
   "source": []
  }
 ],
 "metadata": {
  "kernelspec": {
   "display_name": "Python 3 (ipykernel)",
   "language": "python",
   "name": "python3"
  },
  "language_info": {
   "codemirror_mode": {
    "name": "ipython",
    "version": 3
   },
   "file_extension": ".py",
   "mimetype": "text/x-python",
   "name": "python",
   "nbconvert_exporter": "python",
   "pygments_lexer": "ipython3",
   "version": "3.9.13"
  }
 },
 "nbformat": 4,
 "nbformat_minor": 5
}
