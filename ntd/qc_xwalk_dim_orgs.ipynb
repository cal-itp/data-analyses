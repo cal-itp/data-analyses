{
 "cells": [
  {
   "cell_type": "markdown",
   "id": "e0a38760-2924-4ac3-97f1-cca5a190fbc2",
   "metadata": {},
   "source": [
    "# QC `ntd_id_rtpa_crosswalk` against `dim_organizations`\n",
    "\n",
    "As of 4/21/2025, `dim_orgs` now has an RTPA column. RTPA values were set from a previous `rtpa/mpo` column. The `ntd_id_rtpa_crosswalk`\n",
    "was created by pulling all the agnecies in ntd and assigning a rtpa based on their city location.\n",
    "\n",
    "## Tasks\n",
    "- see if the ntd_id in the xwalk appear in dim_orgs and vise-versa.\n",
    "    - are all ntd_id from xwalk in dim_orgs? NO\n",
    "    - are all ntd_id from dim_orgs in xwalk? NO!\n",
    "    \n",
    "- do the ntd_id/rtpa pairs from xwalk match to dim_orgs\n",
    "    - SCAG acounts for like 6 counties in Socal\n",
    "\n",
    "- refactor analyses that use the old xwalk\n",
    "    - remove old xwalk\n",
    "    - replace with rtpa data from dim_orgs\n",
    "    - make manual adjustments to SCAG agengies >> separate out to the socal CTCs (orange, imperial, san bernardino etc etc)\n",
    "\n",
    "\n",
    "---\n",
    "Findings\n",
    "- there are some ntd_id that are unique to dim_orgs that are not in my xwalk\n",
    "- vise-versa, there are some ntd_id that are unique to xwalk but are not in dim_orgs\n",
    "- \n",
    "\n",
    "work-plan\n",
    "- fill in the missing RTPA columns in dim_orgs\n",
    "- what is the process of adding new orgs to dim_orgs? sounds like a lot of work (filling in all the columns)"
   ]
  },
  {
   "cell_type": "code",
   "execution_count": 1,
   "id": "464b6704-99d3-4859-9a5d-a1b8d8e859f4",
   "metadata": {
    "tags": []
   },
   "outputs": [],
   "source": [
    "import pandas as pd\n",
    "from calitp_data_analysis.tables import tbls\n",
    "from siuba import _, collect, count, filter, show_query, select, distinct\n",
    "\n",
    "pd.set_option(\"display.max_colwidth\", None)\n",
    "pd.set_option(\"display.max_rows\", None)\n",
    "pd.set_option(\"display.max_columns\", None)"
   ]
  },
  {
   "cell_type": "code",
   "execution_count": 2,
   "id": "d93c5fba-4b03-404c-b210-2f591dcf5140",
   "metadata": {},
   "outputs": [],
   "source": [
    "xwalk = pd.read_parquet(\"gs://calitp-analytics-data/data-analyses/ntd/ntd_id_rtpa_crosswalk_all_reporter_types.parquet\")"
   ]
  },
  {
   "cell_type": "code",
   "execution_count": 3,
   "id": "e68ce0cc-ef26-4ea3-860f-f410bc414552",
   "metadata": {},
   "outputs": [
    {
     "name": "stdout",
     "output_type": "stream",
     "text": [
      "<class 'pandas.core.frame.DataFrame'>\n",
      "RangeIndex: 232 entries, 0 to 231\n",
      "Data columns (total 4 columns):\n",
      " #   Column       Non-Null Count  Dtype \n",
      "---  ------       --------------  ----- \n",
      " 0   name         232 non-null    object\n",
      " 1   ntd_id_2022  232 non-null    object\n",
      " 2   rtpa_name    231 non-null    object\n",
      " 3   key          232 non-null    object\n",
      "dtypes: object(4)\n",
      "memory usage: 7.4+ KB\n"
     ]
    }
   ],
   "source": [
    "dim_orgs = (\n",
    "    tbls.mart_transit_database.dim_organizations()\n",
    "    >> filter(\n",
    "        _._is_current == True,\n",
    "        #_.public_currently_operating == True,\n",
    "        _.ntd_id_2022 != \"\"\n",
    "    )\n",
    "    >> select(\n",
    "        _.name,\n",
    "        _.ntd_id_2022,\n",
    "        _.rtpa_name,\n",
    "        _.key\n",
    "    )\n",
    "    >> collect()\n",
    ")\n",
    "\n",
    "dim_orgs.info()"
   ]
  },
  {
   "cell_type": "code",
   "execution_count": 4,
   "id": "d092160e-4f0c-4b0d-be65-0e543aadc2fe",
   "metadata": {},
   "outputs": [
    {
     "name": "stdout",
     "output_type": "stream",
     "text": [
      "<class 'pandas.core.frame.DataFrame'>\n",
      "RangeIndex: 180 entries, 0 to 179\n",
      "Data columns (total 4 columns):\n",
      " #   Column       Non-Null Count  Dtype \n",
      "---  ------       --------------  ----- \n",
      " 0   name         180 non-null    object\n",
      " 1   ntd_id_2022  180 non-null    object\n",
      " 2   rtpa_name    180 non-null    object\n",
      " 3   key          180 non-null    object\n",
      "dtypes: object(4)\n",
      "memory usage: 5.8+ KB\n"
     ]
    }
   ],
   "source": [
    "currently_operating = (\n",
    "    tbls.mart_transit_database.dim_organizations()\n",
    "    >> filter(\n",
    "        _._is_current == True,\n",
    "        _.public_currently_operating == True,\n",
    "        _.ntd_id_2022 != \"\"\n",
    "    )\n",
    "    >> select(\n",
    "        _.name,\n",
    "        _.ntd_id_2022,\n",
    "        _.rtpa_name,\n",
    "        _.key\n",
    "    )\n",
    "    >> collect()\n",
    ")\n",
    "\n",
    "currently_operating.info()\n"
   ]
  },
  {
   "cell_type": "code",
   "execution_count": 5,
   "id": "69c640e4-314d-4e5c-be08-2c3aa17a7263",
   "metadata": {
    "tags": []
   },
   "outputs": [
    {
     "data": {
      "text/html": [
       "<div>\n",
       "<style scoped>\n",
       "    .dataframe tbody tr th:only-of-type {\n",
       "        vertical-align: middle;\n",
       "    }\n",
       "\n",
       "    .dataframe tbody tr th {\n",
       "        vertical-align: top;\n",
       "    }\n",
       "\n",
       "    .dataframe thead th {\n",
       "        text-align: right;\n",
       "    }\n",
       "</style>\n",
       "<table border=\"1\" class=\"dataframe\">\n",
       "  <thead>\n",
       "    <tr style=\"text-align: right;\">\n",
       "      <th></th>\n",
       "      <th>name</th>\n",
       "      <th>ntd_id_2022</th>\n",
       "      <th>rtpa_name</th>\n",
       "      <th>key</th>\n",
       "    </tr>\n",
       "  </thead>\n",
       "  <tbody>\n",
       "  </tbody>\n",
       "</table>\n",
       "</div>"
      ],
      "text/plain": [
       "Empty DataFrame\n",
       "Columns: [name, ntd_id_2022, rtpa_name, key]\n",
       "Index: []"
      ]
     },
     "execution_count": 5,
     "metadata": {},
     "output_type": "execute_result"
    }
   ],
   "source": [
    "currently_operating[currently_operating[\"ntd_id_2022\"].isna()]"
   ]
  },
  {
   "cell_type": "code",
   "execution_count": 6,
   "id": "155c755c-a3e4-42f7-9efc-dbcb366debb0",
   "metadata": {
    "tags": []
   },
   "outputs": [
    {
     "name": "stdout",
     "output_type": "stream",
     "text": [
      "<class 'pandas.core.frame.DataFrame'>\n",
      "RangeIndex: 1294 entries, 0 to 1293\n",
      "Data columns (total 4 columns):\n",
      " #   Column                 Non-Null Count  Dtype \n",
      "---  ------                 --------------  ----- \n",
      " 0   organization_key       1294 non-null   object\n",
      " 1   organization_name      1294 non-null   object\n",
      " 2   county_geography_name  1294 non-null   object\n",
      " 3   county_geography_key   1294 non-null   object\n",
      "dtypes: object(4)\n",
      "memory usage: 40.6+ KB\n"
     ]
    }
   ],
   "source": [
    "# need to get county info? \n",
    "county_bridge = (\n",
    "    tbls.mart_transit_database.bridge_organizations_x_headquarters_county_geography()\n",
    "    >> filter(\n",
    "        _._is_current == True,\n",
    "\n",
    "    )\n",
    "    >> select(\n",
    "        _.organization_key,\n",
    "        _.organization_name,\n",
    "        _.county_geography_name,\n",
    "        _.county_geography_key\n",
    "    )\n",
    "    >> collect()\n",
    ")\n",
    "\n",
    "county_bridge.info()"
   ]
  },
  {
   "cell_type": "code",
   "execution_count": 7,
   "id": "a6bea144-4353-4112-b112-ead884e0e87a",
   "metadata": {
    "tags": []
   },
   "outputs": [
    {
     "name": "stdout",
     "output_type": "stream",
     "text": [
      "<class 'pandas.core.frame.DataFrame'>\n",
      "Int64Index: 232 entries, 0 to 231\n",
      "Data columns (total 8 columns):\n",
      " #   Column                 Non-Null Count  Dtype \n",
      "---  ------                 --------------  ----- \n",
      " 0   name                   232 non-null    object\n",
      " 1   ntd_id_2022            232 non-null    object\n",
      " 2   rtpa_name              231 non-null    object\n",
      " 3   key                    232 non-null    object\n",
      " 4   organization_key       232 non-null    object\n",
      " 5   organization_name      232 non-null    object\n",
      " 6   county_geography_name  232 non-null    object\n",
      " 7   county_geography_key   232 non-null    object\n",
      "dtypes: object(8)\n",
      "memory usage: 16.3+ KB\n"
     ]
    },
    {
     "data": {
      "text/plain": [
       "None"
      ]
     },
     "metadata": {},
     "output_type": "display_data"
    }
   ],
   "source": [
    "dim_org_county = dim_orgs.merge(\n",
    "    county_bridge,\n",
    "    how=\"left\",\n",
    "    left_on=\"key\",\n",
    "    right_on=\"organization_key\"\n",
    ")\n",
    "\n",
    "display(\n",
    "    dim_org_county.info(),\n",
    "    #dim_org_county.head()\n",
    ")"
   ]
  },
  {
   "cell_type": "code",
   "execution_count": 8,
   "id": "22077e9d-877b-4151-9982-e1dc063ebc01",
   "metadata": {
    "tags": []
   },
   "outputs": [
    {
     "name": "stdout",
     "output_type": "stream",
     "text": [
      "<class 'pandas.core.frame.DataFrame'>\n",
      "Int64Index: 180 entries, 0 to 179\n",
      "Data columns (total 8 columns):\n",
      " #   Column                 Non-Null Count  Dtype \n",
      "---  ------                 --------------  ----- \n",
      " 0   name                   180 non-null    object\n",
      " 1   ntd_id_2022            180 non-null    object\n",
      " 2   rtpa_name              180 non-null    object\n",
      " 3   key                    180 non-null    object\n",
      " 4   organization_key       180 non-null    object\n",
      " 5   organization_name      180 non-null    object\n",
      " 6   county_geography_name  180 non-null    object\n",
      " 7   county_geography_key   180 non-null    object\n",
      "dtypes: object(8)\n",
      "memory usage: 12.7+ KB\n"
     ]
    },
    {
     "data": {
      "text/plain": [
       "None"
      ]
     },
     "metadata": {},
     "output_type": "display_data"
    }
   ],
   "source": [
    "dim_org_county_2 = currently_operating.merge(\n",
    "    county_bridge,\n",
    "    how=\"left\",\n",
    "    left_on=\"key\",\n",
    "    right_on=\"organization_key\"\n",
    ")\n",
    "\n",
    "display(\n",
    "    dim_org_county_2.info(),\n",
    "    #dim_org_county.head()\n",
    ")"
   ]
  },
  {
   "cell_type": "markdown",
   "id": "a2c3d55a-2764-4e48-a0a1-9e68a7669906",
   "metadata": {
    "tags": []
   },
   "source": [
    "## What is the differences in NTD id between dim_org_county and dim_org_county_2?\n"
   ]
  },
  {
   "cell_type": "code",
   "execution_count": 9,
   "id": "0628e380-de37-400e-b6ee-35206a263c4c",
   "metadata": {
    "tags": []
   },
   "outputs": [],
   "source": [
    "id_check = dim_org_county.merge(\n",
    "    dim_org_county_2, \n",
    "    how=\"outer\", \n",
    "    indicator=True\n",
    ")"
   ]
  },
  {
   "cell_type": "code",
   "execution_count": 10,
   "id": "3168a180-2abb-40d4-a3c1-2f5a6ce4e647",
   "metadata": {
    "tags": []
   },
   "outputs": [
    {
     "data": {
      "text/plain": [
       "both          180\n",
       "left_only      52\n",
       "right_only      0\n",
       "Name: _merge, dtype: int64"
      ]
     },
     "metadata": {},
     "output_type": "display_data"
    }
   ],
   "source": [
    "display(\n",
    "    id_check[\"_merge\"].value_counts(),\n",
    ")"
   ]
  },
  {
   "cell_type": "markdown",
   "id": "2fdc28f5-b941-440b-bc03-fe8d39a03472",
   "metadata": {},
   "source": [
    "### Decision\n",
    "\n",
    "It is possible for agencies to switch between currently operating and not operating. Therefore, RTPA values should be assigned to agencies regardless of operating status."
   ]
  },
  {
   "cell_type": "markdown",
   "id": "71fcc952-baeb-49b7-92a5-01b04987d858",
   "metadata": {},
   "source": [
    "## What are the unique pairs of RTPA names and geography names?"
   ]
  },
  {
   "cell_type": "code",
   "execution_count": 11,
   "id": "d09fb90f-296e-4785-bb49-9e1509fb2e1c",
   "metadata": {
    "tags": []
   },
   "outputs": [
    {
     "data": {
      "text/html": [
       "<div>\n",
       "<style scoped>\n",
       "    .dataframe tbody tr th:only-of-type {\n",
       "        vertical-align: middle;\n",
       "    }\n",
       "\n",
       "    .dataframe tbody tr th {\n",
       "        vertical-align: top;\n",
       "    }\n",
       "\n",
       "    .dataframe thead th {\n",
       "        text-align: right;\n",
       "    }\n",
       "</style>\n",
       "<table border=\"1\" class=\"dataframe\">\n",
       "  <thead>\n",
       "    <tr style=\"text-align: right;\">\n",
       "      <th></th>\n",
       "      <th>county_geography_name</th>\n",
       "      <th>rtpa_name</th>\n",
       "    </tr>\n",
       "  </thead>\n",
       "  <tbody>\n",
       "    <tr>\n",
       "      <th>52</th>\n",
       "      <td>Plumas</td>\n",
       "      <td>Plumas County Transportation Commission</td>\n",
       "    </tr>\n",
       "  </tbody>\n",
       "</table>\n",
       "</div>"
      ],
      "text/plain": [
       "   county_geography_name                                rtpa_name\n",
       "52                Plumas  Plumas County Transportation Commission"
      ]
     },
     "execution_count": 11,
     "metadata": {},
     "output_type": "execute_result"
    }
   ],
   "source": [
    "rtpa_county = dim_org_county[dim_org_county[\"rtpa_name\"].notna()][[\"county_geography_name\",\"rtpa_name\"]].drop_duplicates().sort_values(by=\"rtpa_name\")\n",
    "rtpa_county[rtpa_county[\"county_geography_name\"].str.contains(\"Plumas\")]"
   ]
  },
  {
   "cell_type": "markdown",
   "id": "ef23dfd8-2c48-445d-a425-0e5c3e167f00",
   "metadata": {},
   "source": [
    "## Create dictionary of counties names : RTPA name"
   ]
  },
  {
   "cell_type": "code",
   "execution_count": 12,
   "id": "8abd972b-8d7a-4712-98d1-090b2de5debb",
   "metadata": {
    "tags": []
   },
   "outputs": [
    {
     "data": {
      "text/plain": [
       "'Southern California Association of Governments'"
      ]
     },
     "execution_count": 12,
     "metadata": {},
     "output_type": "execute_result"
    }
   ],
   "source": [
    "county_rtpa_dict = rtpa_county.set_index(\"county_geography_name\")[\"rtpa_name\"].to_dict()\n",
    "county_rtpa_dict.update(\n",
    "    {\n",
    "        'Plumas':'Plumas County Transportation Commission',\n",
    "        'Sierra':'Sierra County Transportation Commission',\n",
    "        #\"Imperial\":\"Imperial County Transportation Commission\", NO! Imperial is under SCAG\n",
    "        #\"Los Angeles\":\"Los Angeles County Metropolitan Transportation Authority\", NO! LA is SCAG\n",
    "        \n",
    "    }\n",
    ")\n",
    "county_rtpa_dict[\"Imperial\"]"
   ]
  },
  {
   "cell_type": "markdown",
   "id": "f104373a-0a50-4085-a6eb-f95318c340ac",
   "metadata": {},
   "source": [
    "## What are the Agencies with missing RTPA names, but have a county name?"
   ]
  },
  {
   "cell_type": "code",
   "execution_count": 13,
   "id": "8013aadb-9bba-4bf4-956e-d6768de7a83c",
   "metadata": {
    "tags": []
   },
   "outputs": [
    {
     "data": {
      "text/html": [
       "<div>\n",
       "<style scoped>\n",
       "    .dataframe tbody tr th:only-of-type {\n",
       "        vertical-align: middle;\n",
       "    }\n",
       "\n",
       "    .dataframe tbody tr th {\n",
       "        vertical-align: top;\n",
       "    }\n",
       "\n",
       "    .dataframe thead th {\n",
       "        text-align: right;\n",
       "    }\n",
       "</style>\n",
       "<table border=\"1\" class=\"dataframe\">\n",
       "  <thead>\n",
       "    <tr style=\"text-align: right;\">\n",
       "      <th></th>\n",
       "      <th>name</th>\n",
       "      <th>ntd_id_2022</th>\n",
       "      <th>rtpa_name</th>\n",
       "      <th>key</th>\n",
       "      <th>organization_key</th>\n",
       "      <th>organization_name</th>\n",
       "      <th>county_geography_name</th>\n",
       "      <th>county_geography_key</th>\n",
       "    </tr>\n",
       "  </thead>\n",
       "  <tbody>\n",
       "  </tbody>\n",
       "</table>\n",
       "</div>"
      ],
      "text/plain": [
       "Empty DataFrame\n",
       "Columns: [name, ntd_id_2022, rtpa_name, key, organization_key, organization_name, county_geography_name, county_geography_key]\n",
       "Index: []"
      ]
     },
     "execution_count": 13,
     "metadata": {},
     "output_type": "execute_result"
    }
   ],
   "source": [
    "dim_org_county[(dim_org_county[\"rtpa_name\"].isna()) & (dim_org_county[\"county_geography_name\"].isna())].drop_duplicates()"
   ]
  },
  {
   "cell_type": "code",
   "execution_count": 14,
   "id": "a6d635ee-99e7-4b93-8a86-b23c8bc7cf06",
   "metadata": {
    "tags": []
   },
   "outputs": [
    {
     "data": {
      "text/plain": [
       "1"
      ]
     },
     "execution_count": 14,
     "metadata": {},
     "output_type": "execute_result"
    }
   ],
   "source": [
    "no_rtpa = dim_org_county[\n",
    "    (dim_org_county[\"rtpa_name\"].isna()) & \n",
    "    (dim_org_county[\"county_geography_name\"].notna())\n",
    "].drop_duplicates()\n",
    "\n",
    "len(no_rtpa)"
   ]
  },
  {
   "cell_type": "markdown",
   "id": "f189aa0a-5797-46ab-9a83-67f120fb206f",
   "metadata": {},
   "source": [
    "## !!THESE ORGS NEED RTPAs IN dim_orgs!!"
   ]
  },
  {
   "cell_type": "code",
   "execution_count": 15,
   "id": "ef3caa3f-9d39-4e4a-9cae-8b9b1d5dd309",
   "metadata": {
    "tags": []
   },
   "outputs": [],
   "source": [
    "no_rtpa[\"update_dim_org_rtpa_to\"] = no_rtpa[\"county_geography_name\"].map(county_rtpa_dict)"
   ]
  },
  {
   "cell_type": "code",
   "execution_count": 16,
   "id": "49379136-ed31-48de-8347-fe46faad8c67",
   "metadata": {
    "tags": []
   },
   "outputs": [
    {
     "name": "stdout",
     "output_type": "stream",
     "text": [
      "<class 'pandas.core.frame.DataFrame'>\n",
      "Int64Index: 1 entries, 4 to 4\n",
      "Data columns (total 9 columns):\n",
      " #   Column                  Non-Null Count  Dtype \n",
      "---  ------                  --------------  ----- \n",
      " 0   name                    1 non-null      object\n",
      " 1   ntd_id_2022             1 non-null      object\n",
      " 2   rtpa_name               0 non-null      object\n",
      " 3   key                     1 non-null      object\n",
      " 4   organization_key        1 non-null      object\n",
      " 5   organization_name       1 non-null      object\n",
      " 6   county_geography_name   1 non-null      object\n",
      " 7   county_geography_key    1 non-null      object\n",
      " 8   update_dim_org_rtpa_to  1 non-null      object\n",
      "dtypes: object(9)\n",
      "memory usage: 80.0+ bytes\n"
     ]
    },
    {
     "data": {
      "text/plain": [
       "None"
      ]
     },
     "metadata": {},
     "output_type": "display_data"
    },
    {
     "data": {
      "text/html": [
       "<div>\n",
       "<style scoped>\n",
       "    .dataframe tbody tr th:only-of-type {\n",
       "        vertical-align: middle;\n",
       "    }\n",
       "\n",
       "    .dataframe tbody tr th {\n",
       "        vertical-align: top;\n",
       "    }\n",
       "\n",
       "    .dataframe thead th {\n",
       "        text-align: right;\n",
       "    }\n",
       "</style>\n",
       "<table border=\"1\" class=\"dataframe\">\n",
       "  <thead>\n",
       "    <tr style=\"text-align: right;\">\n",
       "      <th></th>\n",
       "      <th>name</th>\n",
       "      <th>ntd_id_2022</th>\n",
       "      <th>rtpa_name</th>\n",
       "      <th>county_geography_name</th>\n",
       "      <th>update_dim_org_rtpa_to</th>\n",
       "    </tr>\n",
       "  </thead>\n",
       "  <tbody>\n",
       "    <tr>\n",
       "      <th>4</th>\n",
       "      <td>California Department of Transportation</td>\n",
       "      <td>9R02</td>\n",
       "      <td>None</td>\n",
       "      <td>Sacramento</td>\n",
       "      <td>Sacramento Area Council of Governments</td>\n",
       "    </tr>\n",
       "  </tbody>\n",
       "</table>\n",
       "</div>"
      ],
      "text/plain": [
       "                                      name ntd_id_2022 rtpa_name  \\\n",
       "4  California Department of Transportation        9R02      None   \n",
       "\n",
       "  county_geography_name                  update_dim_org_rtpa_to  \n",
       "4            Sacramento  Sacramento Area Council of Governments  "
      ]
     },
     "metadata": {},
     "output_type": "display_data"
    }
   ],
   "source": [
    "display(\n",
    "    no_rtpa.info(),\n",
    "    no_rtpa[[\n",
    "        \"name\",\n",
    "        \"ntd_id_2022\",\n",
    "        \"rtpa_name\",\n",
    "        \"county_geography_name\",\n",
    "        \"update_dim_org_rtpa_to\"\n",
    "    ]].sort_values(by=\"county_geography_name\")\n",
    ")\n"
   ]
  },
  {
   "cell_type": "markdown",
   "id": "0b71e073-2c1e-4ce5-b9d1-2812e00e18fb",
   "metadata": {},
   "source": [
    "4/28/2025 - added rtpa to those agencies. \n",
    "4/28/2025 - changes took affect.\n"
   ]
  },
  {
   "cell_type": "markdown",
   "id": "2dccf952-de58-43ec-ba1e-4afac3ec3f3e",
   "metadata": {
    "tags": []
   },
   "source": [
    "## What are the unique RTPA in dim_orgs\n",
    "- are any of the SOCAL CTCs in there?\n",
    "\n",
    "\n",
    "There are some County Transportation Commission in the RTPA list\n",
    "- Ventura County Transportation Commission\n",
    "\n",
    "Could not find\n",
    "- Los Angeles County Metropolitan Transportation Authority\n",
    "- San Bernardino Associated Governments\n",
    "- Riverside County Transportation Commission\n",
    "- Imperial County Transportation Commission\n",
    "- Orange County Transportation Authority"
   ]
  },
  {
   "cell_type": "code",
   "execution_count": 17,
   "id": "6facc3c2-78ce-4118-b563-7e3d6c560eb9",
   "metadata": {
    "tags": []
   },
   "outputs": [
    {
     "name": "stdout",
     "output_type": "stream",
     "text": [
      "<class 'pandas.core.series.Series'>\n",
      "RangeIndex: 43 entries, 0 to 42\n",
      "Series name: rtpa_name\n",
      "Non-Null Count  Dtype \n",
      "--------------  ----- \n",
      "43 non-null     object\n",
      "dtypes: object(1)\n",
      "memory usage: 476.0+ bytes\n"
     ]
    }
   ],
   "source": [
    "just_rtpa_name = dim_orgs[dim_orgs[\"rtpa_name\"].notna()][\"rtpa_name\"].drop_duplicates().reset_index(drop=True)\n",
    "\n",
    "just_rtpa_name.info()"
   ]
  },
  {
   "cell_type": "code",
   "execution_count": 18,
   "id": "dd955c87-3cee-462f-b388-2cf0841a451c",
   "metadata": {
    "tags": []
   },
   "outputs": [
    {
     "data": {
      "text/plain": [
       "22    Ventura County Transportation Commission\n",
       "Name: rtpa_name, dtype: object"
      ]
     },
     "execution_count": 18,
     "metadata": {},
     "output_type": "execute_result"
    }
   ],
   "source": [
    "check_ctc = [\n",
    "    \"Los Angeles County Metropolitan Transportation Authority\",\n",
    "    \"San Bernardino Associated Governments\",\n",
    "    \"Riverside County Transportation Commission\",\n",
    "    \"Imperial County Transportation Commission\",\n",
    "    \"Orange County Transportation Authority\",\n",
    "    \"Ventura County Transportation Commission\",\n",
    "]\n",
    "just_rtpa_name[just_rtpa_name.isin(check_ctc)]"
   ]
  },
  {
   "cell_type": "code",
   "execution_count": 19,
   "id": "864c345d-9f60-43ae-a1b5-117ab5e794bf",
   "metadata": {},
   "outputs": [
    {
     "name": "stdout",
     "output_type": "stream",
     "text": [
      "Series([], Name: rtpa_name, dtype: object)\n",
      "Series([], Name: rtpa_name, dtype: object)\n",
      "Series([], Name: rtpa_name, dtype: object)\n",
      "Series([], Name: rtpa_name, dtype: object)\n",
      "Series([], Name: rtpa_name, dtype: object)\n",
      "22    Ventura County Transportation Commission\n",
      "Name: rtpa_name, dtype: object\n"
     ]
    }
   ],
   "source": [
    "# fuzzy string search\n",
    "\n",
    "ctc_substring=[\n",
    "    \"Los Angeles\",\n",
    "    \"Bernardino \",\n",
    "    \"Riverside\",\n",
    "    \"Imperial\",\n",
    "    \"Orange\",\n",
    "    \"Ventura\"\n",
    "]\n",
    "\n",
    "for i in ctc_substring:\n",
    "    print(just_rtpa_name[just_rtpa_name.str.contains(i)])"
   ]
  },
  {
   "cell_type": "code",
   "execution_count": 20,
   "id": "68ac3e8b-fde2-4d6a-b9cb-6c2ac77c0f4c",
   "metadata": {
    "tags": []
   },
   "outputs": [
    {
     "data": {
      "text/html": [
       "<div>\n",
       "<style scoped>\n",
       "    .dataframe tbody tr th:only-of-type {\n",
       "        vertical-align: middle;\n",
       "    }\n",
       "\n",
       "    .dataframe tbody tr th {\n",
       "        vertical-align: top;\n",
       "    }\n",
       "\n",
       "    .dataframe thead th {\n",
       "        text-align: right;\n",
       "    }\n",
       "</style>\n",
       "<table border=\"1\" class=\"dataframe\">\n",
       "  <thead>\n",
       "    <tr style=\"text-align: right;\">\n",
       "      <th></th>\n",
       "      <th>name</th>\n",
       "      <th>ntd_id_2022</th>\n",
       "      <th>rtpa_name</th>\n",
       "      <th>key</th>\n",
       "      <th>organization_key</th>\n",
       "      <th>organization_name</th>\n",
       "      <th>county_geography_name</th>\n",
       "      <th>county_geography_key</th>\n",
       "    </tr>\n",
       "  </thead>\n",
       "  <tbody>\n",
       "    <tr>\n",
       "      <th>56</th>\n",
       "      <td>Riverside County Transportation Commission</td>\n",
       "      <td>90218</td>\n",
       "      <td>Southern California Association of Governments</td>\n",
       "      <td>cb867447a408d161387ac5e2eeaeb7fb</td>\n",
       "      <td>cb867447a408d161387ac5e2eeaeb7fb</td>\n",
       "      <td>Riverside County Transportation Commission</td>\n",
       "      <td>Riverside</td>\n",
       "      <td>17a6841cb057ea751e22785fb9229596</td>\n",
       "    </tr>\n",
       "    <tr>\n",
       "      <th>168</th>\n",
       "      <td>Imperial County Transportation Commission</td>\n",
       "      <td>90226</td>\n",
       "      <td>Southern California Association of Governments</td>\n",
       "      <td>621fbb855822846119c106fd5bfa56b3</td>\n",
       "      <td>621fbb855822846119c106fd5bfa56b3</td>\n",
       "      <td>Imperial County Transportation Commission</td>\n",
       "      <td>Imperial</td>\n",
       "      <td>56a0304a6b0ccdc0dd0dbfae798a45e2</td>\n",
       "    </tr>\n",
       "    <tr>\n",
       "      <th>176</th>\n",
       "      <td>Los Angeles County Metropolitan Transportation Authority</td>\n",
       "      <td>90154</td>\n",
       "      <td>Southern California Association of Governments</td>\n",
       "      <td>9e96bde610e80d71f500eea119c4723c</td>\n",
       "      <td>9e96bde610e80d71f500eea119c4723c</td>\n",
       "      <td>Los Angeles County Metropolitan Transportation Authority</td>\n",
       "      <td>Los Angeles</td>\n",
       "      <td>8a8da539caf4f046025b97a5b4b9564b</td>\n",
       "    </tr>\n",
       "    <tr>\n",
       "      <th>187</th>\n",
       "      <td>Orange County Transportation Authority</td>\n",
       "      <td>90036</td>\n",
       "      <td>Southern California Association of Governments</td>\n",
       "      <td>47552ed0c038e35ee6f21ec8eb2cb5d8</td>\n",
       "      <td>47552ed0c038e35ee6f21ec8eb2cb5d8</td>\n",
       "      <td>Orange County Transportation Authority</td>\n",
       "      <td>Orange</td>\n",
       "      <td>aef4652aba294c8fd5ee922f9741ff6a</td>\n",
       "    </tr>\n",
       "    <tr>\n",
       "      <th>225</th>\n",
       "      <td>Ventura County Transportation Commission</td>\n",
       "      <td>90164</td>\n",
       "      <td>Ventura County Transportation Commission</td>\n",
       "      <td>4f7fa398d9c1c8c75310e13df4818015</td>\n",
       "      <td>4f7fa398d9c1c8c75310e13df4818015</td>\n",
       "      <td>Ventura County Transportation Commission</td>\n",
       "      <td>Ventura</td>\n",
       "      <td>ac21d3cfb432219540f51c7658df90e9</td>\n",
       "    </tr>\n",
       "  </tbody>\n",
       "</table>\n",
       "</div>"
      ],
      "text/plain": [
       "                                                         name ntd_id_2022  \\\n",
       "56                 Riverside County Transportation Commission       90218   \n",
       "168                 Imperial County Transportation Commission       90226   \n",
       "176  Los Angeles County Metropolitan Transportation Authority       90154   \n",
       "187                    Orange County Transportation Authority       90036   \n",
       "225                  Ventura County Transportation Commission       90164   \n",
       "\n",
       "                                          rtpa_name  \\\n",
       "56   Southern California Association of Governments   \n",
       "168  Southern California Association of Governments   \n",
       "176  Southern California Association of Governments   \n",
       "187  Southern California Association of Governments   \n",
       "225        Ventura County Transportation Commission   \n",
       "\n",
       "                                  key                  organization_key  \\\n",
       "56   cb867447a408d161387ac5e2eeaeb7fb  cb867447a408d161387ac5e2eeaeb7fb   \n",
       "168  621fbb855822846119c106fd5bfa56b3  621fbb855822846119c106fd5bfa56b3   \n",
       "176  9e96bde610e80d71f500eea119c4723c  9e96bde610e80d71f500eea119c4723c   \n",
       "187  47552ed0c038e35ee6f21ec8eb2cb5d8  47552ed0c038e35ee6f21ec8eb2cb5d8   \n",
       "225  4f7fa398d9c1c8c75310e13df4818015  4f7fa398d9c1c8c75310e13df4818015   \n",
       "\n",
       "                                            organization_name  \\\n",
       "56                 Riverside County Transportation Commission   \n",
       "168                 Imperial County Transportation Commission   \n",
       "176  Los Angeles County Metropolitan Transportation Authority   \n",
       "187                    Orange County Transportation Authority   \n",
       "225                  Ventura County Transportation Commission   \n",
       "\n",
       "    county_geography_name              county_geography_key  \n",
       "56              Riverside  17a6841cb057ea751e22785fb9229596  \n",
       "168              Imperial  56a0304a6b0ccdc0dd0dbfae798a45e2  \n",
       "176           Los Angeles  8a8da539caf4f046025b97a5b4b9564b  \n",
       "187                Orange  aef4652aba294c8fd5ee922f9741ff6a  \n",
       "225               Ventura  ac21d3cfb432219540f51c7658df90e9  "
      ]
     },
     "execution_count": 20,
     "metadata": {},
     "output_type": "execute_result"
    }
   ],
   "source": [
    "# check ctc list against agency names col\n",
    "dim_org_county[dim_org_county[\"organization_name\"].isin(check_ctc)]\n"
   ]
  },
  {
   "cell_type": "code",
   "execution_count": 21,
   "id": "6d0a1855-a8a0-40e8-adce-c730d118fa65",
   "metadata": {
    "tags": []
   },
   "outputs": [
    {
     "data": {
      "text/html": [
       "<div>\n",
       "<style scoped>\n",
       "    .dataframe tbody tr th:only-of-type {\n",
       "        vertical-align: middle;\n",
       "    }\n",
       "\n",
       "    .dataframe tbody tr th {\n",
       "        vertical-align: top;\n",
       "    }\n",
       "\n",
       "    .dataframe thead th {\n",
       "        text-align: right;\n",
       "    }\n",
       "</style>\n",
       "<table border=\"1\" class=\"dataframe\">\n",
       "  <thead>\n",
       "    <tr style=\"text-align: right;\">\n",
       "      <th></th>\n",
       "      <th>name</th>\n",
       "      <th>ntd_id_2022</th>\n",
       "      <th>rtpa_name</th>\n",
       "      <th>key</th>\n",
       "      <th>organization_key</th>\n",
       "      <th>organization_name</th>\n",
       "      <th>county_geography_name</th>\n",
       "      <th>county_geography_key</th>\n",
       "    </tr>\n",
       "  </thead>\n",
       "  <tbody>\n",
       "    <tr>\n",
       "      <th>198</th>\n",
       "      <td>San Bernardino County Transportation Authority</td>\n",
       "      <td>90302</td>\n",
       "      <td>Southern California Association of Governments</td>\n",
       "      <td>c3ecb38b2814c6d88c9fd86f8cd14e70</td>\n",
       "      <td>c3ecb38b2814c6d88c9fd86f8cd14e70</td>\n",
       "      <td>San Bernardino County Transportation Authority</td>\n",
       "      <td>San Bernardino</td>\n",
       "      <td>1a3bb95333ae89740a2bfa8f5ba83d0d</td>\n",
       "    </tr>\n",
       "  </tbody>\n",
       "</table>\n",
       "</div>"
      ],
      "text/plain": [
       "                                               name ntd_id_2022  \\\n",
       "198  San Bernardino County Transportation Authority       90302   \n",
       "\n",
       "                                          rtpa_name  \\\n",
       "198  Southern California Association of Governments   \n",
       "\n",
       "                                  key                  organization_key  \\\n",
       "198  c3ecb38b2814c6d88c9fd86f8cd14e70  c3ecb38b2814c6d88c9fd86f8cd14e70   \n",
       "\n",
       "                                  organization_name county_geography_name  \\\n",
       "198  San Bernardino County Transportation Authority        San Bernardino   \n",
       "\n",
       "                 county_geography_key  \n",
       "198  1a3bb95333ae89740a2bfa8f5ba83d0d  "
      ]
     },
     "execution_count": 21,
     "metadata": {},
     "output_type": "execute_result"
    }
   ],
   "source": [
    "# somehow San Bernardino was missing from the previous cell\n",
    "dim_org_county[dim_org_county[\"name\"].str.contains(\"San Bernardino\")]"
   ]
  },
  {
   "cell_type": "markdown",
   "id": "74fe5b44-6a32-425c-a4a9-20f399239651",
   "metadata": {},
   "source": [
    "## Socal CTC dictionary\n",
    "to be used in other notebooks to convert socal counties from SCAG to the county CTC\n"
   ]
  },
  {
   "cell_type": "code",
   "execution_count": 22,
   "id": "b616520d-2555-4f1c-912e-14cdbc098331",
   "metadata": {
    "tags": []
   },
   "outputs": [
    {
     "data": {
      "text/html": [
       "<div>\n",
       "<style scoped>\n",
       "    .dataframe tbody tr th:only-of-type {\n",
       "        vertical-align: middle;\n",
       "    }\n",
       "\n",
       "    .dataframe tbody tr th {\n",
       "        vertical-align: top;\n",
       "    }\n",
       "\n",
       "    .dataframe thead th {\n",
       "        text-align: right;\n",
       "    }\n",
       "</style>\n",
       "<table border=\"1\" class=\"dataframe\">\n",
       "  <thead>\n",
       "    <tr style=\"text-align: right;\">\n",
       "      <th></th>\n",
       "      <th>county_geography_name</th>\n",
       "      <th>name</th>\n",
       "    </tr>\n",
       "  </thead>\n",
       "  <tbody>\n",
       "    <tr>\n",
       "      <th>56</th>\n",
       "      <td>Riverside</td>\n",
       "      <td>Riverside County Transportation Commission</td>\n",
       "    </tr>\n",
       "    <tr>\n",
       "      <th>168</th>\n",
       "      <td>Imperial</td>\n",
       "      <td>Imperial County Transportation Commission</td>\n",
       "    </tr>\n",
       "    <tr>\n",
       "      <th>176</th>\n",
       "      <td>Los Angeles</td>\n",
       "      <td>Los Angeles County Metropolitan Transportation Authority</td>\n",
       "    </tr>\n",
       "    <tr>\n",
       "      <th>187</th>\n",
       "      <td>Orange</td>\n",
       "      <td>Orange County Transportation Authority</td>\n",
       "    </tr>\n",
       "    <tr>\n",
       "      <th>198</th>\n",
       "      <td>San Bernardino</td>\n",
       "      <td>San Bernardino County Transportation Authority</td>\n",
       "    </tr>\n",
       "    <tr>\n",
       "      <th>225</th>\n",
       "      <td>Ventura</td>\n",
       "      <td>Ventura County Transportation Commission</td>\n",
       "    </tr>\n",
       "  </tbody>\n",
       "</table>\n",
       "</div>"
      ],
      "text/plain": [
       "    county_geography_name  \\\n",
       "56              Riverside   \n",
       "168              Imperial   \n",
       "176           Los Angeles   \n",
       "187                Orange   \n",
       "198        San Bernardino   \n",
       "225               Ventura   \n",
       "\n",
       "                                                         name  \n",
       "56                 Riverside County Transportation Commission  \n",
       "168                 Imperial County Transportation Commission  \n",
       "176  Los Angeles County Metropolitan Transportation Authority  \n",
       "187                    Orange County Transportation Authority  \n",
       "198            San Bernardino County Transportation Authority  \n",
       "225                  Ventura County Transportation Commission  "
      ]
     },
     "execution_count": 22,
     "metadata": {},
     "output_type": "execute_result"
    }
   ],
   "source": [
    "dim_org_county[(dim_org_county[\"name\"].isin(check_ctc)) | (dim_org_county[\"name\"].str.contains(\"San Bernardino\"))][[\"county_geography_name\",\"name\"]]"
   ]
  },
  {
   "cell_type": "code",
   "execution_count": 23,
   "id": "90c8a0ec-6403-4606-846c-ae16ff623600",
   "metadata": {
    "tags": []
   },
   "outputs": [
    {
     "data": {
      "text/plain": [
       "{'Riverside': 'Riverside County Transportation Commission',\n",
       " 'Imperial': 'Imperial County Transportation Commission',\n",
       " 'Los Angeles': 'Los Angeles County Metropolitan Transportation Authority',\n",
       " 'Orange': 'Orange County Transportation Authority',\n",
       " 'San Bernardino': 'San Bernardino County Transportation Authority',\n",
       " 'Ventura': 'Ventura County Transportation Commission'}"
      ]
     },
     "execution_count": 23,
     "metadata": {},
     "output_type": "execute_result"
    }
   ],
   "source": [
    "# save this to a module for later imports\n",
    "scag_to_ctc = {\n",
    "    \"Riverside\":\"Riverside County Transportation Commission\",\n",
    "    \"Imperial\":\"Imperial County Transportation Commission\",\n",
    "    \"Los Angeles\":\"Los Angeles County Metropolitan Transportation Authority\",\n",
    "    \"Orange\":\"Orange County Transportation Authority\",\n",
    "    \"San Bernardino\":\"San Bernardino County Transportation Authority\",\n",
    "    \"Ventura\":\"Ventura County Transportation Commission\",\n",
    "}\n",
    "\n",
    "scag_to_ctc"
   ]
  },
  {
   "cell_type": "markdown",
   "id": "9c1fa3c2-90fb-4473-9c39-314a1bb91406",
   "metadata": {},
   "source": [
    "## Compare ntd ID from dim_org_county to ntd id in xwalk"
   ]
  },
  {
   "cell_type": "code",
   "execution_count": 24,
   "id": "5faa009c-40c2-4c68-a99c-81d4cf677328",
   "metadata": {},
   "outputs": [
    {
     "data": {
      "text/plain": [
       "both          217\n",
       "left_only      37\n",
       "right_only     15\n",
       "Name: _merge, dtype: int64"
      ]
     },
     "execution_count": 24,
     "metadata": {},
     "output_type": "execute_result"
    }
   ],
   "source": [
    "xwalk_compare = xwalk.merge(\n",
    "    dim_org_county,\n",
    "    how=\"outer\",\n",
    "    left_on=\"ntd_id\",\n",
    "    right_on=\"ntd_id_2022\",\n",
    "    indicator=True\n",
    ")\n",
    "xwalk_compare[\"_merge\"].value_counts()"
   ]
  },
  {
   "cell_type": "markdown",
   "id": "e205e719-24cb-4b4c-8271-7e75d7e0fbea",
   "metadata": {
    "tags": []
   },
   "source": [
    "these agencies do no appear in dim_orgs\n",
    "\n",
    "they only appear in the xwalk (ntd id were pulled from an ntd table)"
   ]
  },
  {
   "cell_type": "code",
   "execution_count": 25,
   "id": "81198c13-1bc2-4530-aa64-8814e5ac4261",
   "metadata": {
    "tags": []
   },
   "outputs": [
    {
     "data": {
      "text/plain": [
       "37"
      ]
     },
     "metadata": {},
     "output_type": "display_data"
    },
    {
     "data": {
      "text/plain": [
       "list"
      ]
     },
     "metadata": {},
     "output_type": "display_data"
    }
   ],
   "source": [
    "# unique agencies in the xwalk\n",
    "xwalk_compare[xwalk_compare[\"_merge\"]==\"left_only\"]\n",
    "\n",
    "left_only_ntd_id = xwalk_compare[xwalk_compare[\"_merge\"]==\"left_only\"][\"ntd_id\"].unique().tolist()\n",
    "display(\n",
    "    len(left_only_ntd_id),\n",
    "    type(left_only_ntd_id)\n",
    ")"
   ]
  },
  {
   "cell_type": "code",
   "execution_count": 26,
   "id": "6414d5a2-0d54-483f-892a-f31dc9356640",
   "metadata": {
    "tags": []
   },
   "outputs": [
    {
     "data": {
      "text/plain": [
       "15"
      ]
     },
     "metadata": {},
     "output_type": "display_data"
    },
    {
     "data": {
      "text/plain": [
       "list"
      ]
     },
     "metadata": {},
     "output_type": "display_data"
    }
   ],
   "source": [
    "# unique agencies in dim_orgs\n",
    "xwalk_compare[xwalk_compare[\"_merge\"]==\"right_only\"]\n",
    "\n",
    "right_only_ntd_id = xwalk_compare[xwalk_compare[\"_merge\"]==\"right_only\"][\"ntd_id_2022\"].unique().tolist()\n",
    "display(\n",
    "    len(right_only_ntd_id),\n",
    "    type(right_only_ntd_id)\n",
    ")"
   ]
  },
  {
   "cell_type": "markdown",
   "id": "f9b3db39-4c6c-4b79-bfc8-1a3847a388e0",
   "metadata": {},
   "source": [
    "### checking if unique xwalk ntd_id appear anywhere in unfiltered dim_orgs"
   ]
  },
  {
   "cell_type": "code",
   "execution_count": 27,
   "id": "119d4db0-1bcb-4971-964f-006c4bbd6229",
   "metadata": {},
   "outputs": [
    {
     "data": {
      "text/plain": [
       "0"
      ]
     },
     "execution_count": 27,
     "metadata": {},
     "output_type": "execute_result"
    }
   ],
   "source": [
    "left_only_dim_orgs = (\n",
    "    tbls.mart_transit_database.dim_organizations()\n",
    "    >> filter(\n",
    "        #_.ntd_id_2022.isin(left_only_ntd_id), # ntd_ids from xwalk, returned 0 matches \n",
    "        _.ntd_id.isin(left_only_ntd_id) # returned 0 matches\n",
    "    )\n",
    "    >> distinct(\n",
    "        _.name,\n",
    "        _.ntd_id,\n",
    "        _.ntd_id_2022,\n",
    "        _.rtpa_name,\n",
    "        _.key,\n",
    "        _._is_current,\n",
    "        _.public_currently_operating\n",
    "    )\n",
    "    >> collect()\n",
    ")\n",
    "\n",
    "len(left_only_dim_orgs)\n",
    "\n",
    "# so the ntd_ids from the xwalk (initialy pulled from mart_ntd) DO NOT APPEAR anywhere in dim_orgs\n",
    "# what can we conclude. "
   ]
  },
  {
   "cell_type": "code",
   "execution_count": 28,
   "id": "573dc622-4443-4339-8995-ab7f0ca37941",
   "metadata": {},
   "outputs": [
    {
     "data": {
      "text/plain": [
       "31"
      ]
     },
     "execution_count": 28,
     "metadata": {},
     "output_type": "execute_result"
    }
   ],
   "source": [
    "right_only_dim_orgs = (\n",
    "    tbls.mart_transit_database.dim_organizations()\n",
    "    >> filter(\n",
    "        _.ntd_id_2022.isin(right_only_ntd_id), # ntd_id from dim_org. returned 31 matches \n",
    "        #_.ntd_id.isin(right_only_ntd_id) # returned 43 matches\n",
    "    )\n",
    "    >> distinct(\n",
    "        _.name,\n",
    "        _.ntd_id,\n",
    "        _.ntd_id_2022,\n",
    "        _.rtpa_name,\n",
    "        _.key,\n",
    "        _._is_current,\n",
    "        _.public_currently_operating\n",
    "    )\n",
    "    >> collect()\n",
    ")\n",
    "\n",
    "len(right_only_dim_orgs)"
   ]
  },
  {
   "cell_type": "code",
   "execution_count": 29,
   "id": "70a9f013-0a34-44a8-b98f-58aab6b217c6",
   "metadata": {
    "tags": []
   },
   "outputs": [
    {
     "data": {
      "text/html": [
       "<div>\n",
       "<style scoped>\n",
       "    .dataframe tbody tr th:only-of-type {\n",
       "        vertical-align: middle;\n",
       "    }\n",
       "\n",
       "    .dataframe tbody tr th {\n",
       "        vertical-align: top;\n",
       "    }\n",
       "\n",
       "    .dataframe thead th {\n",
       "        text-align: right;\n",
       "    }\n",
       "</style>\n",
       "<table border=\"1\" class=\"dataframe\">\n",
       "  <thead>\n",
       "    <tr style=\"text-align: right;\">\n",
       "      <th></th>\n",
       "      <th>ntd_id</th>\n",
       "      <th>agency_name</th>\n",
       "      <th>city</th>\n",
       "      <th>agency_status</th>\n",
       "    </tr>\n",
       "  </thead>\n",
       "  <tbody>\n",
       "    <tr>\n",
       "      <th>0</th>\n",
       "      <td>90170</td>\n",
       "      <td>ATC / Vancom</td>\n",
       "      <td>Oakland</td>\n",
       "      <td>Inactive</td>\n",
       "    </tr>\n",
       "    <tr>\n",
       "      <th>1</th>\n",
       "      <td>90127</td>\n",
       "      <td>Chico Area Transit System City of Chico (CATS)</td>\n",
       "      <td>Chico</td>\n",
       "      <td>Inactive</td>\n",
       "    </tr>\n",
       "    <tr>\n",
       "      <th>2</th>\n",
       "      <td>90193</td>\n",
       "      <td>Chula Vista Transit (CVT)</td>\n",
       "      <td>Chula Vista</td>\n",
       "      <td>Inactive</td>\n",
       "    </tr>\n",
       "    <tr>\n",
       "      <th>3</th>\n",
       "      <td>90150</td>\n",
       "      <td>City of Alameda Ferry Services</td>\n",
       "      <td>Alameda</td>\n",
       "      <td>Inactive</td>\n",
       "    </tr>\n",
       "    <tr>\n",
       "      <th>4</th>\n",
       "      <td>90174</td>\n",
       "      <td>City of Benicia (Benicia Breeze)</td>\n",
       "      <td>Benicia</td>\n",
       "      <td>Inactive</td>\n",
       "    </tr>\n",
       "    <tr>\n",
       "      <th>5</th>\n",
       "      <td>90231</td>\n",
       "      <td>City of Irvine (COI)</td>\n",
       "      <td>Irvine</td>\n",
       "      <td>Inactive</td>\n",
       "    </tr>\n",
       "    <tr>\n",
       "      <th>6</th>\n",
       "      <td>90143</td>\n",
       "      <td>City of Merced Transit System</td>\n",
       "      <td>Merced</td>\n",
       "      <td>Inactive</td>\n",
       "    </tr>\n",
       "    <tr>\n",
       "      <th>7</th>\n",
       "      <td>90028</td>\n",
       "      <td>City of Vallejo Transportation Program (Vallejo Transit, Baylink)</td>\n",
       "      <td>Vallejo</td>\n",
       "      <td>Inactive</td>\n",
       "    </tr>\n",
       "    <tr>\n",
       "      <th>8</th>\n",
       "      <td>90188</td>\n",
       "      <td>County of San Diego Transit System (CTS)</td>\n",
       "      <td>San Diego</td>\n",
       "      <td>Inactive</td>\n",
       "    </tr>\n",
       "    <tr>\n",
       "      <th>9</th>\n",
       "      <td>90158</td>\n",
       "      <td>DAVE Transportation Services, Inc.</td>\n",
       "      <td>Sherman Oaks</td>\n",
       "      <td>Inactive</td>\n",
       "    </tr>\n",
       "    <tr>\n",
       "      <th>10</th>\n",
       "      <td>90212</td>\n",
       "      <td>Imperial Valley Transit (IVT)</td>\n",
       "      <td>El Centro</td>\n",
       "      <td>Inactive</td>\n",
       "    </tr>\n",
       "    <tr>\n",
       "      <th>11</th>\n",
       "      <td>90166</td>\n",
       "      <td>LACMTA - Small Operators (LACMTA)</td>\n",
       "      <td>Los Angeles</td>\n",
       "      <td>Inactive</td>\n",
       "    </tr>\n",
       "    <tr>\n",
       "      <th>12</th>\n",
       "      <td>90178</td>\n",
       "      <td>Laidlaw Transit Services</td>\n",
       "      <td>El Monte</td>\n",
       "      <td>Inactive</td>\n",
       "    </tr>\n",
       "    <tr>\n",
       "      <th>13</th>\n",
       "      <td>90190</td>\n",
       "      <td>Laidlaw Transit Services, Inc.</td>\n",
       "      <td>San Jose</td>\n",
       "      <td>Inactive</td>\n",
       "    </tr>\n",
       "    <tr>\n",
       "      <th>14</th>\n",
       "      <td>90273</td>\n",
       "      <td>Los Angeles County (LACDPW) - Department of Public Works, Transit Operations - Florence Firestone</td>\n",
       "      <td>Alhambra</td>\n",
       "      <td>Active</td>\n",
       "    </tr>\n",
       "    <tr>\n",
       "      <th>15</th>\n",
       "      <td>90276</td>\n",
       "      <td>Los Angeles County (LACDPW) - Department of Public Works, Transit Operations - South Whittier</td>\n",
       "      <td>Alhambra</td>\n",
       "      <td>Active</td>\n",
       "    </tr>\n",
       "    <tr>\n",
       "      <th>16</th>\n",
       "      <td>90270</td>\n",
       "      <td>Los Angeles County (LACDPW) - Department of Public Works, Transit Operations – Avocado Heights</td>\n",
       "      <td>Alhambra</td>\n",
       "      <td>Active</td>\n",
       "    </tr>\n",
       "    <tr>\n",
       "      <th>17</th>\n",
       "      <td>90272</td>\n",
       "      <td>Los Angeles County (LACDPW) - Department of Public Works, Transit Operations – East Valinda</td>\n",
       "      <td>Alhambra</td>\n",
       "      <td>Active</td>\n",
       "    </tr>\n",
       "    <tr>\n",
       "      <th>18</th>\n",
       "      <td>90269</td>\n",
       "      <td>Los Angeles County - Department of Public Works, Transit Operations, Athens MB</td>\n",
       "      <td>Alhambra</td>\n",
       "      <td>Active</td>\n",
       "    </tr>\n",
       "    <tr>\n",
       "      <th>19</th>\n",
       "      <td>90274</td>\n",
       "      <td>Los Angeles County - Department of Public Works, Transit Operations, King Medical Center MB</td>\n",
       "      <td>Alhambra</td>\n",
       "      <td>Active</td>\n",
       "    </tr>\n",
       "    <tr>\n",
       "      <th>20</th>\n",
       "      <td>90275</td>\n",
       "      <td>Los Angeles County - Department of Public Works, Transit Operations, Lennox MB</td>\n",
       "      <td>Alhambra</td>\n",
       "      <td>Active</td>\n",
       "    </tr>\n",
       "    <tr>\n",
       "      <th>21</th>\n",
       "      <td>90277</td>\n",
       "      <td>Los Angeles County - Department of Public Works, Transit Operations, Whittier Et Al DR</td>\n",
       "      <td>Alhambra</td>\n",
       "      <td>Active</td>\n",
       "    </tr>\n",
       "    <tr>\n",
       "      <th>22</th>\n",
       "      <td>90278</td>\n",
       "      <td>Los Angeles County - Department of Public Works, Transit Operations, Willowbrook MB</td>\n",
       "      <td>Alhambra</td>\n",
       "      <td>Active</td>\n",
       "    </tr>\n",
       "    <tr>\n",
       "      <th>23</th>\n",
       "      <td>90279</td>\n",
       "      <td>Los Angeles County - Department of Public Works, Transit Operations, Willowbrook et. al. DR</td>\n",
       "      <td>Alhambra</td>\n",
       "      <td>Active</td>\n",
       "    </tr>\n",
       "    <tr>\n",
       "      <th>24</th>\n",
       "      <td>90021</td>\n",
       "      <td>Los Angeles County Metropolitan Transportation Authority (LACMTA)</td>\n",
       "      <td>Los Angeles</td>\n",
       "      <td>Inactive</td>\n",
       "    </tr>\n",
       "    <tr>\n",
       "      <th>25</th>\n",
       "      <td>90077</td>\n",
       "      <td>Los Angeles County Transportation Commission / MTA</td>\n",
       "      <td>Los Angeles</td>\n",
       "      <td>Inactive</td>\n",
       "    </tr>\n",
       "    <tr>\n",
       "      <th>26</th>\n",
       "      <td>90185</td>\n",
       "      <td>MTS Contract Services (MCS)</td>\n",
       "      <td>San Diego</td>\n",
       "      <td>Inactive</td>\n",
       "    </tr>\n",
       "    <tr>\n",
       "      <th>27</th>\n",
       "      <td>90055</td>\n",
       "      <td>Monterey County RIDES</td>\n",
       "      <td>Salinas</td>\n",
       "      <td>Inactive</td>\n",
       "    </tr>\n",
       "    <tr>\n",
       "      <th>28</th>\n",
       "      <td>90189</td>\n",
       "      <td>National City Transit (NCT)</td>\n",
       "      <td>National City</td>\n",
       "      <td>Inactive</td>\n",
       "    </tr>\n",
       "    <tr>\n",
       "      <th>29</th>\n",
       "      <td>90160</td>\n",
       "      <td>Outreach &amp; Escort dba OUTREACH</td>\n",
       "      <td>San Jose</td>\n",
       "      <td>Inactive</td>\n",
       "    </tr>\n",
       "    <tr>\n",
       "      <th>30</th>\n",
       "      <td>90224</td>\n",
       "      <td>Paratransit, Inc. CTSA</td>\n",
       "      <td>Sacramento</td>\n",
       "      <td>Inactive</td>\n",
       "    </tr>\n",
       "    <tr>\n",
       "      <th>31</th>\n",
       "      <td>90195</td>\n",
       "      <td>Paso Robles Transit Services (PE)</td>\n",
       "      <td>Paso Robles</td>\n",
       "      <td>Inactive</td>\n",
       "    </tr>\n",
       "    <tr>\n",
       "      <th>32</th>\n",
       "      <td>90179</td>\n",
       "      <td>Ryder/ATE</td>\n",
       "      <td>West Covina</td>\n",
       "      <td>Inactive</td>\n",
       "    </tr>\n",
       "    <tr>\n",
       "      <th>33</th>\n",
       "      <td>90054</td>\n",
       "      <td>San Diego Trolley, Inc. (MTS)</td>\n",
       "      <td>San Diego</td>\n",
       "      <td>Inactive</td>\n",
       "    </tr>\n",
       "    <tr>\n",
       "      <th>34</th>\n",
       "      <td>90186</td>\n",
       "      <td>San Francisco Paratransit (ATC)</td>\n",
       "      <td>San Francisco</td>\n",
       "      <td>Inactive</td>\n",
       "    </tr>\n",
       "    <tr>\n",
       "      <th>35</th>\n",
       "      <td>90187</td>\n",
       "      <td>San Gabriel Transit, Inc. (SGT)</td>\n",
       "      <td>Rosemead</td>\n",
       "      <td>Inactive</td>\n",
       "    </tr>\n",
       "    <tr>\n",
       "      <th>36</th>\n",
       "      <td>90311</td>\n",
       "      <td>Stanislaus Council of Governments (StanCOG) - Mobility Programs</td>\n",
       "      <td>Modesto</td>\n",
       "      <td>Active</td>\n",
       "    </tr>\n",
       "  </tbody>\n",
       "</table>\n",
       "</div>"
      ],
      "text/plain": [
       "   ntd_id  \\\n",
       "0   90170   \n",
       "1   90127   \n",
       "2   90193   \n",
       "3   90150   \n",
       "4   90174   \n",
       "5   90231   \n",
       "6   90143   \n",
       "7   90028   \n",
       "8   90188   \n",
       "9   90158   \n",
       "10  90212   \n",
       "11  90166   \n",
       "12  90178   \n",
       "13  90190   \n",
       "14  90273   \n",
       "15  90276   \n",
       "16  90270   \n",
       "17  90272   \n",
       "18  90269   \n",
       "19  90274   \n",
       "20  90275   \n",
       "21  90277   \n",
       "22  90278   \n",
       "23  90279   \n",
       "24  90021   \n",
       "25  90077   \n",
       "26  90185   \n",
       "27  90055   \n",
       "28  90189   \n",
       "29  90160   \n",
       "30  90224   \n",
       "31  90195   \n",
       "32  90179   \n",
       "33  90054   \n",
       "34  90186   \n",
       "35  90187   \n",
       "36  90311   \n",
       "\n",
       "                                                                                          agency_name  \\\n",
       "0                                                                                        ATC / Vancom   \n",
       "1                                                      Chico Area Transit System City of Chico (CATS)   \n",
       "2                                                                           Chula Vista Transit (CVT)   \n",
       "3                                                                      City of Alameda Ferry Services   \n",
       "4                                                                    City of Benicia (Benicia Breeze)   \n",
       "5                                                                                City of Irvine (COI)   \n",
       "6                                                                       City of Merced Transit System   \n",
       "7                                   City of Vallejo Transportation Program (Vallejo Transit, Baylink)   \n",
       "8                                                            County of San Diego Transit System (CTS)   \n",
       "9                                                                  DAVE Transportation Services, Inc.   \n",
       "10                                                                      Imperial Valley Transit (IVT)   \n",
       "11                                                                  LACMTA - Small Operators (LACMTA)   \n",
       "12                                                                           Laidlaw Transit Services   \n",
       "13                                                                     Laidlaw Transit Services, Inc.   \n",
       "14  Los Angeles County (LACDPW) - Department of Public Works, Transit Operations - Florence Firestone   \n",
       "15      Los Angeles County (LACDPW) - Department of Public Works, Transit Operations - South Whittier   \n",
       "16     Los Angeles County (LACDPW) - Department of Public Works, Transit Operations – Avocado Heights   \n",
       "17        Los Angeles County (LACDPW) - Department of Public Works, Transit Operations – East Valinda   \n",
       "18                     Los Angeles County - Department of Public Works, Transit Operations, Athens MB   \n",
       "19        Los Angeles County - Department of Public Works, Transit Operations, King Medical Center MB   \n",
       "20                     Los Angeles County - Department of Public Works, Transit Operations, Lennox MB   \n",
       "21             Los Angeles County - Department of Public Works, Transit Operations, Whittier Et Al DR   \n",
       "22                Los Angeles County - Department of Public Works, Transit Operations, Willowbrook MB   \n",
       "23        Los Angeles County - Department of Public Works, Transit Operations, Willowbrook et. al. DR   \n",
       "24                                  Los Angeles County Metropolitan Transportation Authority (LACMTA)   \n",
       "25                                                 Los Angeles County Transportation Commission / MTA   \n",
       "26                                                                        MTS Contract Services (MCS)   \n",
       "27                                                                              Monterey County RIDES   \n",
       "28                                                                        National City Transit (NCT)   \n",
       "29                                                                     Outreach & Escort dba OUTREACH   \n",
       "30                                                                             Paratransit, Inc. CTSA   \n",
       "31                                                                  Paso Robles Transit Services (PE)   \n",
       "32                                                                                          Ryder/ATE   \n",
       "33                                                                      San Diego Trolley, Inc. (MTS)   \n",
       "34                                                                    San Francisco Paratransit (ATC)   \n",
       "35                                                                    San Gabriel Transit, Inc. (SGT)   \n",
       "36                                    Stanislaus Council of Governments (StanCOG) - Mobility Programs   \n",
       "\n",
       "             city agency_status  \n",
       "0         Oakland      Inactive  \n",
       "1           Chico      Inactive  \n",
       "2     Chula Vista      Inactive  \n",
       "3         Alameda      Inactive  \n",
       "4         Benicia      Inactive  \n",
       "5          Irvine      Inactive  \n",
       "6          Merced      Inactive  \n",
       "7         Vallejo      Inactive  \n",
       "8       San Diego      Inactive  \n",
       "9    Sherman Oaks      Inactive  \n",
       "10      El Centro      Inactive  \n",
       "11    Los Angeles      Inactive  \n",
       "12       El Monte      Inactive  \n",
       "13       San Jose      Inactive  \n",
       "14       Alhambra        Active  \n",
       "15       Alhambra        Active  \n",
       "16       Alhambra        Active  \n",
       "17       Alhambra        Active  \n",
       "18       Alhambra        Active  \n",
       "19       Alhambra        Active  \n",
       "20       Alhambra        Active  \n",
       "21       Alhambra        Active  \n",
       "22       Alhambra        Active  \n",
       "23       Alhambra        Active  \n",
       "24    Los Angeles      Inactive  \n",
       "25    Los Angeles      Inactive  \n",
       "26      San Diego      Inactive  \n",
       "27        Salinas      Inactive  \n",
       "28  National City      Inactive  \n",
       "29       San Jose      Inactive  \n",
       "30     Sacramento      Inactive  \n",
       "31    Paso Robles      Inactive  \n",
       "32    West Covina      Inactive  \n",
       "33      San Diego      Inactive  \n",
       "34  San Francisco      Inactive  \n",
       "35       Rosemead      Inactive  \n",
       "36        Modesto        Active  "
      ]
     },
     "execution_count": 29,
     "metadata": {},
     "output_type": "execute_result"
    }
   ],
   "source": [
    "### further investigate the unique xwalk ntd_id\n",
    "# are there any similar ntd names in dim orgs?\n",
    "xwalk_compare[xwalk_compare[\"_merge\"]==\"left_only\"][\n",
    "    [\"ntd_id\",\n",
    "     \"agency_name\",\n",
    "     \"city\",\n",
    "     #\"RTPA\",\n",
    "     \"agency_status\",\n",
    "     #\"ntd_id_2022\"\n",
    "    ]\n",
    "].sort_values(by=\"agency_name\").reset_index(drop=True)"
   ]
  },
  {
   "cell_type": "markdown",
   "id": "800ebfbc-0e69-45ef-8357-febddf3dd1d8",
   "metadata": {},
   "source": [
    "A lot of these agency names includ acronyms in their names. or are sub-departments of the parent agency (public works).\n",
    "\n"
   ]
  },
  {
   "cell_type": "code",
   "execution_count": 30,
   "id": "7f839814-59c0-490d-8047-56ce4687b788",
   "metadata": {
    "tags": []
   },
   "outputs": [],
   "source": [
    "check_names =[\n",
    "    \"ATC\",\n",
    "    \"Vancom\",\n",
    "    \"Chico\",\n",
    "    \"Chula Vista\",\n",
    "    \"Alameda Ferry\",\n",
    "    \"Benicia\",\n",
    "    \"Irvine\",\n",
    "    \"Merced\",\n",
    "    \"Vallejo\",\n",
    "    \"San Diego\",\n",
    "    \"DAVE\",\n",
    "    \"Laidwal\",\n",
    "    \"Department of Public Works\",\n",
    "    \"MTC\",\n",
    "    \"Monterey\",\n",
    "    \"National City\",\n",
    "    \"Outreach\",\n",
    "    \"Paratransit\",\n",
    "    \"Paso Robles\",\n",
    "    \"Ryder\",\n",
    "    \"San Gabriel\",\n",
    "    \"Stanislaus\",\n",
    "]"
   ]
  },
  {
   "cell_type": "code",
   "execution_count": 32,
   "id": "0862dd0d-cdb3-48c3-9f91-e680c1bbca16",
   "metadata": {
    "tags": []
   },
   "outputs": [
    {
     "name": "stdout",
     "output_type": "stream",
     "text": [
      "<class 'pandas.core.frame.DataFrame'>\n",
      "RangeIndex: 10015 entries, 0 to 10014\n",
      "Data columns (total 28 columns):\n",
      " #   Column                                  Non-Null Count  Dtype              \n",
      "---  ------                                  --------------  -----              \n",
      " 0   key                                     10015 non-null  object             \n",
      " 1   source_record_id                        10015 non-null  object             \n",
      " 2   name                                    10007 non-null  object             \n",
      " 3   organization_type                       8963 non-null   object             \n",
      " 4   roles                                   10015 non-null  object             \n",
      " 5   itp_id                                  5220 non-null   float64            \n",
      " 6   details                                 1281 non-null   object             \n",
      " 7   website                                 6298 non-null   object             \n",
      " 8   reporting_category                      5194 non-null   object             \n",
      " 9   hubspot_company_record_id               4992 non-null   object             \n",
      " 10  gtfs_static_status                      10015 non-null  object             \n",
      " 11  gtfs_realtime_status                    10015 non-null  object             \n",
      " 12  _deprecated__assessment_status          7175 non-null   object             \n",
      " 13  manual_check__contact_on_website        8245 non-null   object             \n",
      " 14  alias                                   10015 non-null  object             \n",
      " 15  is_public_entity                        5065 non-null   object             \n",
      " 16  ntd_id                                  2630 non-null   object             \n",
      " 17  ntd_agency_info_key                     2500 non-null   object             \n",
      " 18  ntd_id_2022                             565 non-null    object             \n",
      " 19  rtpa_key                                361 non-null    object             \n",
      " 20  rtpa_name                               361 non-null    object             \n",
      " 21  mpo_key                                 223 non-null    object             \n",
      " 22  mpo_name                                223 non-null    object             \n",
      " 23  public_currently_operating              4151 non-null   object             \n",
      " 24  public_currently_operating_fixed_route  4151 non-null   object             \n",
      " 25  _is_current                             10015 non-null  bool               \n",
      " 26  _valid_from                             10015 non-null  datetime64[ns, UTC]\n",
      " 27  _valid_to                               10015 non-null  datetime64[ns, UTC]\n",
      "dtypes: bool(1), datetime64[ns, UTC](2), float64(1), object(24)\n",
      "memory usage: 2.1+ MB\n"
     ]
    }
   ],
   "source": [
    "all_dim_orgs = (\n",
    "    tbls.mart_transit_database.dim_organizations()\n",
    "    >> filter(\n",
    "        #_._is_current == True,\n",
    "        #_.name.LIKE(\"%San%\")\n",
    "    )\n",
    "    #>> distinct(\n",
    "     #   _.name,\n",
    "      #  _.ntd_id,\n",
    "       # _.ntd_id_2022,\n",
    "        #_.rtpa_name,\n",
    "        #_.key,\n",
    "        #_._is_current,\n",
    "        #_.public_currently_operating\n",
    "    #)\n",
    "\n",
    "    >> collect()\n",
    ")\n",
    "all_dim_orgs.info()"
   ]
  },
  {
   "cell_type": "code",
   "execution_count": 37,
   "id": "4957b34d-6a30-461c-9d95-aa036d501053",
   "metadata": {
    "tags": []
   },
   "outputs": [
    {
     "data": {
      "text/plain": [
       "'Results for agency_name containing: ATC'"
      ]
     },
     "metadata": {},
     "output_type": "display_data"
    },
    {
     "data": {
      "text/plain": [
       "Series([], dtype: int64)"
      ]
     },
     "metadata": {},
     "output_type": "display_data"
    },
    {
     "data": {
      "text/plain": [
       "'Results for agency_name containing: Vancom'"
      ]
     },
     "metadata": {},
     "output_type": "display_data"
    },
    {
     "data": {
      "text/plain": [
       "Series([], dtype: int64)"
      ]
     },
     "metadata": {},
     "output_type": "display_data"
    },
    {
     "data": {
      "text/plain": [
       "'Results for agency_name containing: Chico'"
      ]
     },
     "metadata": {},
     "output_type": "display_data"
    },
    {
     "data": {
      "text/plain": [
       "name\n",
       "City of Chico                                            9\n",
       "California State University Chico                        1\n",
       "Mechoopda Indian Tribe of Chico Rancheria, California    1\n",
       "dtype: int64"
      ]
     },
     "metadata": {},
     "output_type": "display_data"
    },
    {
     "data": {
      "text/plain": [
       "'Results for agency_name containing: Chula Vista'"
      ]
     },
     "metadata": {},
     "output_type": "display_data"
    },
    {
     "data": {
      "text/plain": [
       "name\n",
       "City of Chula Vista    9\n",
       "dtype: int64"
      ]
     },
     "metadata": {},
     "output_type": "display_data"
    },
    {
     "data": {
      "text/plain": [
       "'Results for agency_name containing: Alameda Ferry'"
      ]
     },
     "metadata": {},
     "output_type": "display_data"
    },
    {
     "data": {
      "text/plain": [
       "Series([], dtype: int64)"
      ]
     },
     "metadata": {},
     "output_type": "display_data"
    },
    {
     "data": {
      "text/plain": [
       "'Results for agency_name containing: Benicia'"
      ]
     },
     "metadata": {},
     "output_type": "display_data"
    },
    {
     "data": {
      "text/plain": [
       "name\n",
       "City of Benicia    1\n",
       "dtype: int64"
      ]
     },
     "metadata": {},
     "output_type": "display_data"
    },
    {
     "data": {
      "text/plain": [
       "'Results for agency_name containing: Irvine'"
      ]
     },
     "metadata": {},
     "output_type": "display_data"
    },
    {
     "data": {
      "text/plain": [
       "name\n",
       "City of Irvine                      15\n",
       "University of California, Irvine    11\n",
       "Irvine Valley College                1\n",
       "dtype: int64"
      ]
     },
     "metadata": {},
     "output_type": "display_data"
    },
    {
     "data": {
      "text/plain": [
       "'Results for agency_name containing: Merced'"
      ]
     },
     "metadata": {},
     "output_type": "display_data"
    },
    {
     "data": {
      "text/plain": [
       "name\n",
       "Transit Joint Powers Authority for Merced County    17\n",
       "University of California, Merced                    10\n",
       "Merced County Association of Governments             8\n",
       "City of Merced                                       1\n",
       "Merced Community College District                    1\n",
       "Merced County                                        1\n",
       "Merced Regional Airport                              1\n",
       "dtype: int64"
      ]
     },
     "metadata": {},
     "output_type": "display_data"
    },
    {
     "data": {
      "text/plain": [
       "'Results for agency_name containing: Vallejo'"
      ]
     },
     "metadata": {},
     "output_type": "display_data"
    },
    {
     "data": {
      "text/plain": [
       "name\n",
       "City of Vallejo    1\n",
       "dtype: int64"
      ]
     },
     "metadata": {},
     "output_type": "display_data"
    },
    {
     "data": {
      "text/plain": [
       "'Results for agency_name containing: San Diego'"
      ]
     },
     "metadata": {},
     "output_type": "display_data"
    },
    {
     "data": {
      "text/plain": [
       "name\n",
       "San Diego Metropolitan Transit System        18\n",
       "University of California, San Diego          13\n",
       "San Diego Association of Governments         13\n",
       "San Diego International Airport              11\n",
       "San Diego Trolley, Inc.                       9\n",
       "San Diego Transit Corporation                 9\n",
       "City of San Diego                             9\n",
       "San Diego County                              9\n",
       "ElderHelp of San Diego                        8\n",
       "San Diego State University                    8\n",
       "Jewish Family Service of San Diego            8\n",
       "San Diego Community College District          1\n",
       "San Diego College of Continuing Education     1\n",
       "San Diego Mesa College                        1\n",
       "San Diego City College                        1\n",
       "San Diego Miramar College                     1\n",
       "Port of San Diego                             1\n",
       "dtype: int64"
      ]
     },
     "metadata": {},
     "output_type": "display_data"
    },
    {
     "data": {
      "text/plain": [
       "'Results for agency_name containing: DAVE'"
      ]
     },
     "metadata": {},
     "output_type": "display_data"
    },
    {
     "data": {
      "text/plain": [
       "Series([], dtype: int64)"
      ]
     },
     "metadata": {},
     "output_type": "display_data"
    },
    {
     "data": {
      "text/plain": [
       "'Results for agency_name containing: Laidwal'"
      ]
     },
     "metadata": {},
     "output_type": "display_data"
    },
    {
     "data": {
      "text/plain": [
       "Series([], dtype: int64)"
      ]
     },
     "metadata": {},
     "output_type": "display_data"
    },
    {
     "data": {
      "text/plain": [
       "'Results for agency_name containing: Department of Public Works'"
      ]
     },
     "metadata": {},
     "output_type": "display_data"
    },
    {
     "data": {
      "text/plain": [
       "Series([], dtype: int64)"
      ]
     },
     "metadata": {},
     "output_type": "display_data"
    },
    {
     "data": {
      "text/plain": [
       "'Results for agency_name containing: MTC'"
      ]
     },
     "metadata": {},
     "output_type": "display_data"
    },
    {
     "data": {
      "text/plain": [
       "Series([], dtype: int64)"
      ]
     },
     "metadata": {},
     "output_type": "display_data"
    },
    {
     "data": {
      "text/plain": [
       "'Results for agency_name containing: Monterey'"
      ]
     },
     "metadata": {},
     "output_type": "display_data"
    },
    {
     "data": {
      "text/plain": [
       "name\n",
       "Monterey-Salinas Transit                        20\n",
       "City of Monterey Park                           18\n",
       "Association of Monterey Bay Area Governments    11\n",
       "City of Monterey                                 9\n",
       "Monterey County                                  9\n",
       "Transportation Agency for Monterey County        8\n",
       "Monterey Peninsula College                       6\n",
       "California State University Monterey Bay         2\n",
       "Monterey Regional Airport                        1\n",
       "dtype: int64"
      ]
     },
     "metadata": {},
     "output_type": "display_data"
    },
    {
     "data": {
      "text/plain": [
       "'Results for agency_name containing: National City'"
      ]
     },
     "metadata": {},
     "output_type": "display_data"
    },
    {
     "data": {
      "text/plain": [
       "name\n",
       "City of National City    9\n",
       "dtype: int64"
      ]
     },
     "metadata": {},
     "output_type": "display_data"
    },
    {
     "data": {
      "text/plain": [
       "'Results for agency_name containing: Outreach'"
      ]
     },
     "metadata": {},
     "output_type": "display_data"
    },
    {
     "data": {
      "text/plain": [
       "name\n",
       "Bay Area Outreach & Recreation Program    9\n",
       "dtype: int64"
      ]
     },
     "metadata": {},
     "output_type": "display_data"
    },
    {
     "data": {
      "text/plain": [
       "'Results for agency_name containing: Paratransit'"
      ]
     },
     "metadata": {},
     "output_type": "display_data"
    },
    {
     "data": {
      "text/plain": [
       "name\n",
       "Paratransit Inc.                   13\n",
       "A-Paratransit                       8\n",
       "Global Paratransit Inc.             8\n",
       "Network Paratransit System          8\n",
       "MV Paratransit                      7\n",
       "Paratransit Services Inc.           7\n",
       "Placer TART Paratransit             7\n",
       "East Bay Paratransit Consortium     4\n",
       "dtype: int64"
      ]
     },
     "metadata": {},
     "output_type": "display_data"
    },
    {
     "data": {
      "text/plain": [
       "'Results for agency_name containing: Paso Robles'"
      ]
     },
     "metadata": {},
     "output_type": "display_data"
    },
    {
     "data": {
      "text/plain": [
       "name\n",
       "City of Paso Robles    10\n",
       "dtype: int64"
      ]
     },
     "metadata": {},
     "output_type": "display_data"
    },
    {
     "data": {
      "text/plain": [
       "'Results for agency_name containing: Ryder'"
      ]
     },
     "metadata": {},
     "output_type": "display_data"
    },
    {
     "data": {
      "text/plain": [
       "Series([], dtype: int64)"
      ]
     },
     "metadata": {},
     "output_type": "display_data"
    },
    {
     "data": {
      "text/plain": [
       "'Results for agency_name containing: San Gabriel'"
      ]
     },
     "metadata": {},
     "output_type": "display_data"
    },
    {
     "data": {
      "text/plain": [
       "name\n",
       "San Gabriel Transit Inc.    6\n",
       "City of San Gabriel         1\n",
       "dtype: int64"
      ]
     },
     "metadata": {},
     "output_type": "display_data"
    },
    {
     "data": {
      "text/plain": [
       "'Results for agency_name containing: Stanislaus'"
      ]
     },
     "metadata": {},
     "output_type": "display_data"
    },
    {
     "data": {
      "text/plain": [
       "name\n",
       "Stanislaus Regional Transit Authority    22\n",
       "Historic: Stanislaus Regional Transit    12\n",
       "MOVE Stanislaus                           9\n",
       "Stanislaus County                         9\n",
       "Stanislaus Council of Governments         8\n",
       "Stanislaus Regional Transit               1\n",
       "Stanislaus State                          1\n",
       "dtype: int64"
      ]
     },
     "metadata": {},
     "output_type": "display_data"
    }
   ],
   "source": [
    "for i in check_names:\n",
    "    display(\n",
    "        f\"Results for agency_name containing: {i}\",\n",
    "        all_dim_orgs[all_dim_orgs[\"name\"].str.contains(i, na=False)].value_counts(\"name\")\n",
    "    )"
   ]
  },
  {
   "cell_type": "code",
   "execution_count": null,
   "id": "93cbcd61-f949-4521-b613-e9a97b58348b",
   "metadata": {},
   "outputs": [],
   "source": []
  }
 ],
 "metadata": {
  "kernelspec": {
   "display_name": "Python 3 (ipykernel)",
   "language": "python",
   "name": "python3"
  },
  "language_info": {
   "codemirror_mode": {
    "name": "ipython",
    "version": 3
   },
   "file_extension": ".py",
   "mimetype": "text/x-python",
   "name": "python",
   "nbconvert_exporter": "python",
   "pygments_lexer": "ipython3",
   "version": "3.11.10"
  }
 },
 "nbformat": 4,
 "nbformat_minor": 5
}
