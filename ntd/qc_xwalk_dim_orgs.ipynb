{
 "cells": [
  {
   "cell_type": "markdown",
   "id": "e0a38760-2924-4ac3-97f1-cca5a190fbc2",
   "metadata": {},
   "source": [
    "# QC `ntd_id_rtpa_crosswalk` against `dim_organizations`\n",
    "\n",
    "As of 4/21/2025, `dim_orgs` now has an RTPA column. RTPA values were set from a previous `rtpa/mpo` column. The `ntd_id_rtpa_crosswalk`\n",
    "was created by pulling all the agnecies in ntd and assigning a rtpa based on their city location.\n",
    "\n",
    "## Tasks\n",
    "- see if the ntd_id in the xwalk appear in dim_orgs and vise-versa.\n",
    "    - are all ntd_id from xwalk in dim_orgs?\n",
    "    - are there any ntd_ids from dim_orgs not in xwalk?\n",
    "    \n",
    "- do the ntd_id/rtpa pairs from xwalk match to dim_orgs\n",
    "    - SCAG acounts for like 6 counties in Socal\n",
    "\n",
    "- refactor analyses that use the old xwalk\n",
    "    - remove old xwalk\n",
    "    - replace with rtpa data from dim_orgs\n",
    "    - make manual adjustments to SCAG agengies >> separate out to the socal CTCs (orange, imperial, san bernardino etc etc)\n",
    "    "
   ]
  },
  {
   "cell_type": "code",
   "execution_count": 2,
   "id": "464b6704-99d3-4859-9a5d-a1b8d8e859f4",
   "metadata": {
    "tags": []
   },
   "outputs": [],
   "source": [
    "import pandas as pd\n",
    "from calitp_data_analysis.tables import tbls\n",
    "from siuba import _, collect, count, filter, show_query, select"
   ]
  },
  {
   "cell_type": "code",
   "execution_count": null,
   "id": "cf6b95df-a28d-4c5d-8b3d-1cafbf084b94",
   "metadata": {},
   "outputs": [],
   "source": [
    "xwalk = pd.read_parquet(\"\")\n",
    "\n",
    "dim_orgs = (\n",
    "    tbls.mart_.dim_organizations()\n",
    "    >> select(\n",
    "        _.,\n",
    "        _.,\n",
    "        _.,\n",
    "        _.,\n",
    "        _.,\n",
    "        _.,\n",
    "        _.,\n",
    "        _.,\n",
    "        _.,\n",
    "        _.,\n",
    "        _.,\n",
    "        _.,\n",
    "    )\n",
    "    >> filter(\n",
    "        _.,\n",
    "        _.,\n",
    "        _.,\n",
    "        _.,\n",
    "    )\n",
    "    >> collect()\n",
    ")\n",
    "\n",
    "dim_orgs.info()"
   ]
  }
 ],
 "metadata": {
  "kernelspec": {
   "display_name": "Python 3 (ipykernel)",
   "language": "python",
   "name": "python3"
  },
  "language_info": {
   "codemirror_mode": {
    "name": "ipython",
    "version": 3
   },
   "file_extension": ".py",
   "mimetype": "text/x-python",
   "name": "python",
   "nbconvert_exporter": "python",
   "pygments_lexer": "ipython3",
   "version": "3.11.10"
  }
 },
 "nbformat": 4,
 "nbformat_minor": 5
}
