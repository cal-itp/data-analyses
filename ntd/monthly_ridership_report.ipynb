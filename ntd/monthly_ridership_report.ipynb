{
 "cells": [
  {
   "cell_type": "code",
   "execution_count": null,
   "id": "39433d1d-c54e-475c-878e-78c992d0eb58",
   "metadata": {},
   "outputs": [],
   "source": [
    "%%capture\n",
    "import warnings\n",
    "warnings.filterwarnings('ignore')\n",
    "\n",
    "import altair as alt\n",
    "import calitp_data_analysis.magics\n",
    "import pandas as pd\n",
    "\n",
    "from IPython.display import Markdown\n",
    "\n",
    "from bus_service_utils import chart_utils\n",
    "from calitp_data_analysis import calitp_color_palette as cp\n",
    "from update_vars import GCS_FILE_PATH\n",
    "from monthly_ridership_by_rtpa import get_percent_change"
   ]
  },
  {
   "cell_type": "code",
   "execution_count": null,
   "id": "798b9f83-ee62-489d-bc7c-9d1542af0a29",
   "metadata": {
    "tags": [
     "parameters"
    ]
   },
   "outputs": [],
   "source": [
    "# parameters cell for local\n",
    "rtpa = \"Southern California Association of Governments\""
   ]
  },
  {
   "cell_type": "code",
   "execution_count": null,
   "id": "f649dd2e-d38b-439c-94cd-a7480dc77511",
   "metadata": {},
   "outputs": [],
   "source": [
    "#%%capture_parameters\n",
    "rtpa"
   ]
  },
  {
   "cell_type": "markdown",
   "id": "bae4c08b-308e-4c38-b82c-42c94eadf120",
   "metadata": {},
   "source": [
    "# {rtpa} \n",
    "## Monthly Ridership Trends\n",
    "\n",
    "**Download the [zipped data](https://storage.googleapis.com/calitp-publish-data-analysis/ntd_monthly_ridership/).**"
   ]
  },
  {
   "cell_type": "code",
   "execution_count": null,
   "id": "cf017b79-26d5-455b-8c99-e9ba27d2dd77",
   "metadata": {},
   "outputs": [],
   "source": [
    "df = pd.read_parquet(\n",
    "    f\"{GCS_FILE_PATH}ca_monthly_ridership_2023_October.parquet\",\n",
    "    filters = [[(\"RTPA\", \"==\", rtpa)]]\n",
    ")"
   ]
  },
  {
   "cell_type": "code",
   "execution_count": null,
   "id": "bf36cb45-9594-4b4f-a8f0-39be6e5a450c",
   "metadata": {},
   "outputs": [],
   "source": [
    "# find columns that are recent enough to plot\n",
    "MIN_YEAR = 2018\n",
    "\n",
    "not_id_cols = [c for c in df.columns if \"/\" in c]\n",
    "\n",
    "recent_years = [\n",
    "    c for c in not_id_cols if int(c.split(\"/\")[1]) >= MIN_YEAR and \n",
    "    \"pct\" not in c\n",
    "]\n",
    "\n",
    "upt_cols = [\n",
    "    c for c in recent_years if \"change\" not in c\n",
    "]\n",
    "\n",
    "change_cols = [c for c in recent_years if \"change\" in c]"
   ]
  },
  {
   "cell_type": "code",
   "execution_count": null,
   "id": "e60de663-a6a3-4e5d-a0d4-13aaba7efa35",
   "metadata": {},
   "outputs": [],
   "source": [
    "def sum_by_group(df: pd.DataFrame, group_cols: list) -> pd.DataFrame:\n",
    "    \"\"\"\n",
    "    Since df is wide, use pivot_table() to sum up all\n",
    "    the columns that show UPT.\n",
    "    \"\"\"\n",
    "    grouped_df = df.pivot_table(\n",
    "        index = group_cols, \n",
    "        values = recent_years, \n",
    "        aggfunc=\"sum\"\n",
    "    ).reset_index().reindex(columns = group_cols + recent_years)\n",
    "    \n",
    "    return grouped_df\n",
    "\n",
    "def make_long(df: pd.DataFrame, group_cols: list, value_cols: list):\n",
    "    df_long = df[group_cols + value_cols].melt(\n",
    "        id_vars = group_cols, \n",
    "        value_vars = value_cols,\n",
    "    )\n",
    "    \n",
    "    df_long = df_long.assign(\n",
    "        variable = df_long.variable.str.replace(\"change_1yr_\", \"\")\n",
    "    )\n",
    "    \n",
    "    return df_long"
   ]
  },
  {
   "cell_type": "code",
   "execution_count": null,
   "id": "e441011a-a8cb-4841-b9f4-11b322e39954",
   "metadata": {},
   "outputs": [],
   "source": [
    "agency_cols = [\"NTD ID\", \"Agency\", \"RTPA\"]\n",
    "mode_cols = [\"Mode\", \"Mode_full\", \"RTPA\"]\n",
    "tos_cols = [\"TOS\", \"TOS_full\", \"RTPA\"]\n",
    "\n",
    "by_agency = sum_by_group(df, agency_cols)\n",
    "by_mode = sum_by_group(df, mode_cols)\n",
    "by_tos = sum_by_group(df, tos_cols)"
   ]
  },
  {
   "cell_type": "code",
   "execution_count": null,
   "id": "f52e71b2-1ad8-4713-9500-9f97cbcfc2c2",
   "metadata": {},
   "outputs": [],
   "source": [
    "def assemble_long_df(df: pd.DataFrame, group_cols: list) -> pd.DataFrame:\n",
    "    \"\"\"\n",
    "    Need df to be long to make chart.\n",
    "    Let's put raw UPT and change side-by-side.\n",
    "    \"\"\"\n",
    "    df_raw = make_long(df, group_cols, upt_cols).rename(\n",
    "        columns = {\"value\": \"upt\"})\n",
    "    df_change = make_long(df, group_cols, change_cols).rename(\n",
    "        columns = {\"value\": \"change_1yr\"})\n",
    "\n",
    "    final = pd.merge(\n",
    "        df_raw,\n",
    "        df_change,\n",
    "        on = group_cols + [\"variable\"],\n",
    "        how = \"left\"\n",
    "    )\n",
    "    \n",
    "    final = final.assign(\n",
    "        year = final.variable.str.split(\"/\", expand=True)[1],\n",
    "        month = final.variable.str.split(\"/\", expand=True)[0].str.zfill(2)\n",
    "    )\n",
    "    \n",
    "    final = final.assign(\n",
    "        year_month = final.year + \"-\" + final.month\n",
    "    )\n",
    "    \n",
    "    return final"
   ]
  },
  {
   "cell_type": "code",
   "execution_count": null,
   "id": "1bca9016-0024-44e0-b0a0-e11a313ca308",
   "metadata": {},
   "outputs": [],
   "source": [
    "by_agency_long = assemble_long_df(by_agency, agency_cols)\n",
    "by_mode_long = assemble_long_df(by_mode, mode_cols)\n",
    "by_tos_long = assemble_long_df(by_tos, tos_cols)"
   ]
  },
  {
   "cell_type": "code",
   "execution_count": null,
   "id": "1606b9e3-1311-40ea-aec8-1fa4ac0c2522",
   "metadata": {},
   "outputs": [],
   "source": [
    "LABELING_DICT = {\n",
    "    \"upt\": \"Unlinked Passenger Trips\",\n",
    "    \"change_1yr\": \"Change in Unlinked Passenger Trips from Prior Year\",\n",
    "    \"Mode_full\": \"Mode\",\n",
    "    \"TOS_full\": \"Type of Service\",\n",
    "    \"year_month\": \"Date\"\n",
    "}\n",
    "\n",
    "def labeling(word: str) -> str:\n",
    "    return chart_utils.labeling(word, LABELING_DICT)"
   ]
  },
  {
   "cell_type": "code",
   "execution_count": null,
   "id": "53510310-eaea-400d-af32-20f4c8773514",
   "metadata": {},
   "outputs": [],
   "source": [
    "def make_line_chart(\n",
    "    df: pd.DataFrame, \n",
    "    y_col: str,\n",
    "    color_col: str,\n",
    ") -> alt.Chart:\n",
    "    df = df[df[y_col] > 0].dropna(subset = y_col)\n",
    "\n",
    "    x_label = [i for i in df.year_month.unique() if \n",
    "               any(substring in i for substring in \n",
    "                   [\"-01\", \"-06\"])\n",
    "              ]    \n",
    "    chart = (alt.Chart(df)\n",
    "         .mark_line()\n",
    "         .encode(\n",
    "             x = alt.X(\"year_month:O\", \n",
    "                       axis=alt.Axis(values = x_label), \n",
    "                       title = \"Date\"\n",
    "                      ),\n",
    "             y = alt.Y(y_col, title = labeling(y_col)),\n",
    "             color = alt.Color(color_col, \n",
    "                               scale = alt.Scale(\n",
    "                                   range = cp.CALITP_CATEGORY_BRIGHT_COLORS + \n",
    "                                   cp.CALITP_CATEGORY_BOLD_COLORS\n",
    "                               )),\n",
    "             tooltip = [\"year_month\", y_col, color_col, \"RTPA\"]\n",
    "         ).properties(width = 300, height = 150)\n",
    "         .facet(color_col, columns=2)\n",
    "         .resolve_scale(y=\"independent\")\n",
    "    ).properties(\n",
    "        title = f\"{labeling(y_col)} by {labeling(color_col)}\"\n",
    "    )\n",
    "    \n",
    "    chart = \n",
    "    \n",
    "    return chart"
   ]
  },
  {
   "cell_type": "code",
   "execution_count": null,
   "id": "f59f697a-912a-4dfe-bcac-02c9fc50b55d",
   "metadata": {},
   "outputs": [],
   "source": [
    "def make_bar_chart(\n",
    "    df: pd.DataFrame, \n",
    "    y_col: str,\n",
    "    color_col: str,\n",
    ") -> alt.Chart:\n",
    "    \n",
    "    def short_label(word):\n",
    "        shorten_dict = {\n",
    "            \"change_1yr\": \"Change\",\n",
    "        }\n",
    "        return shorten_dict[word]\n",
    "    \n",
    "    # For change column, we are missing everything prior to 2023\n",
    "    df = df[df[y_col] > 0].dropna(subset = y_col)\n",
    "    \n",
    "    x_label = [i for i in df.year_month.unique() if \n",
    "               any(substring in i for substring in \n",
    "                   [\"-01\", \"-03\", \"-06\", \"-09\"])\n",
    "              ]\n",
    "    \n",
    "    chart = (alt.Chart(df)\n",
    "         .mark_bar()\n",
    "         .encode(\n",
    "             x = alt.X(\"year_month:O\", \n",
    "                       axis=alt.Axis(values = x_label), \n",
    "                       title = \"Date\"\n",
    "                      ),\n",
    "             y = alt.Y(y_col, title = short_label(y_col)),\n",
    "             color = alt.Color(color_col, \n",
    "                              scale = alt.Scale(\n",
    "                                   range = cp.CALITP_CATEGORY_BRIGHT_COLORS + \n",
    "                                   cp.CALITP_CATEGORY_BOLD_COLORS\n",
    "                              )),\n",
    "             tooltip = [\"year_month\", y_col, color_col, \"RTPA\"]\n",
    "         ).properties(width = 300, height = 150)\n",
    "         .facet(color_col, columns=2)\n",
    "         .resolve_scale(x=\"shared\", \n",
    "                        y=\"independent\")\n",
    "    ).properties(\n",
    "        title = f\"{labeling(y_col)} by {labeling(color_col)}\"\n",
    "    )\n",
    "    \n",
    "    return chart"
   ]
  },
  {
   "cell_type": "markdown",
   "id": "ba59c380-aa2f-4fd2-a18b-f75e18074abc",
   "metadata": {},
   "source": [
    "## Transit Agency Breakdown"
   ]
  },
  {
   "cell_type": "code",
   "execution_count": null,
   "id": "c068b244-f4c2-4ae7-9153-d2724ee9f5c2",
   "metadata": {},
   "outputs": [],
   "source": [
    "make_line_chart(by_agency_long, y_col = \"upt\", color_col = \"Agency\")"
   ]
  },
  {
   "cell_type": "code",
   "execution_count": null,
   "id": "5c2251bd-deea-44ee-9936-f4ede8b45ee1",
   "metadata": {},
   "outputs": [],
   "source": [
    "make_bar_chart(by_agency_long, y_col = \"change_1yr\", color_col = \"Agency\")"
   ]
  },
  {
   "cell_type": "markdown",
   "id": "4d7db69c-9e51-4e1f-ac33-604a8afe4da5",
   "metadata": {},
   "source": [
    "## Transit Mode Breakdown"
   ]
  },
  {
   "cell_type": "code",
   "execution_count": null,
   "id": "6d132a31-971d-44f2-a1aa-d60b2cf055f6",
   "metadata": {},
   "outputs": [],
   "source": [
    "make_line_chart(by_mode_long, y_col = \"upt\", color_col = \"Mode_full\")"
   ]
  },
  {
   "cell_type": "code",
   "execution_count": null,
   "id": "a2d861b0-6baa-4d7c-89eb-4b686a77ba3e",
   "metadata": {},
   "outputs": [],
   "source": [
    "make_bar_chart(by_mode_long, y_col = \"change_1yr\", color_col = \"Mode_full\")"
   ]
  },
  {
   "cell_type": "markdown",
   "id": "1923cc1a-2e8c-471b-b578-a002fd27fe7f",
   "metadata": {},
   "source": [
    "## Type of Service Breakdown"
   ]
  },
  {
   "cell_type": "code",
   "execution_count": null,
   "id": "e9999254-f07b-4041-a474-880a2b026434",
   "metadata": {},
   "outputs": [],
   "source": [
    "make_line_chart(by_tos_long, y_col = \"upt\", color_col = \"TOS_full\")"
   ]
  },
  {
   "cell_type": "code",
   "execution_count": null,
   "id": "3c147008-7d5f-473a-886b-65bbd030de5b",
   "metadata": {},
   "outputs": [],
   "source": [
    "make_bar_chart(by_tos_long, y_col = \"change_1yr\", color_col = \"TOS_full\")"
   ]
  },
  {
   "cell_type": "code",
   "execution_count": null,
   "id": "e3389639-6ca3-45a4-a55d-08b3f38b3266",
   "metadata": {},
   "outputs": [],
   "source": []
  }
 ],
 "metadata": {
  "kernelspec": {
   "display_name": "Python 3 (ipykernel)",
   "language": "python",
   "name": "python3"
  },
  "language_info": {
   "codemirror_mode": {
    "name": "ipython",
    "version": 3
   },
   "file_extension": ".py",
   "mimetype": "text/x-python",
   "name": "python",
   "nbconvert_exporter": "python",
   "pygments_lexer": "ipython3",
   "version": "3.9.13"
  }
 },
 "nbformat": 4,
 "nbformat_minor": 5
}
