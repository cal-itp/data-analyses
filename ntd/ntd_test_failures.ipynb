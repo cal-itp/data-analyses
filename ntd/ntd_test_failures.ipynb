{
 "cells": [
  {
   "cell_type": "code",
   "execution_count": null,
   "id": "59090058-e023-4dda-a463-07ea5e076d1e",
   "metadata": {},
   "outputs": [],
   "source": [
    "failing_ntd_keys = [\n",
    "    \"d2168cf43f7dd34a1b996014e27120fe\", \n",
    "    \"cc647475c72b842192255910f3164af3\",\n",
    "    \"283070305af59028fe6fc1c047423fa6\",\n",
    "    \"eab46f97a3b279e88491127fe6b01e9f\",\n",
    "    \"369cf20a2b69b4a82944dd5be37fae6f\",\n",
    "    \"f44c9576fd4e3e06bf225e45f54a7daf\",\n",
    "    \"c57a9bcc0368b5be46c94042afd24ba9\",\n",
    "    \"3aa6bb4a1c3e708f9f4ef7590f9ce891\",\n",
    "    \"7b968c4f2f1dca912eea58483b79e032\",\n",
    "    \"f767371cc8d5d0cf910e81cf3259324a\",\n",
    "    \"ee60be689597d3919b811e93dff19988\",\n",
    "    \"862a8c6af2d161654c173f0ab1464033\",\n",
    "    \"b947d4d7ca2aacf960dd006875e78f7d\"\n",
    "]"
   ]
  },
  {
   "cell_type": "markdown",
   "id": "434ecc65-77f2-4054-925e-fe8ba08351ea",
   "metadata": {},
   "source": [
    "In dbt, run through steps [here](https://docs.calitp.org/data-infra/warehouse/developing_dbt_models.html#identify-bug)...and chase down the error in the compiled SQL."
   ]
  },
  {
   "cell_type": "code",
   "execution_count": null,
   "id": "98e63915-e9af-41c2-8369-866e652782d1",
   "metadata": {},
   "outputs": [],
   "source": [
    "WITH dbt_test__target as (\n",
    "  SELECT key as unique_field\n",
    "  FROM `cal-itp-data-infra-staging.tiffany_mart_ntd.dim_annual_database_agency_information`  \n",
    "  WHERE key is not null AND year = 2022\n",
    ")\n",
    "\n",
    "SELECT\n",
    "    unique_field,\n",
    "    COUNT(*) as n_records\n",
    "\n",
    "FROM dbt_test__target\n",
    "GROUP BY unique_field\n",
    "HAVING COUNT(*) > 1\n"
   ]
  }
 ],
 "metadata": {
  "kernelspec": {
   "display_name": "Python 3 (ipykernel)",
   "language": "python",
   "name": "python3"
  },
  "language_info": {
   "codemirror_mode": {
    "name": "ipython",
    "version": 3
   },
   "file_extension": ".py",
   "mimetype": "text/x-python",
   "name": "python",
   "nbconvert_exporter": "python",
   "pygments_lexer": "ipython3",
   "version": "3.9.13"
  }
 },
 "nbformat": 4,
 "nbformat_minor": 5
}
