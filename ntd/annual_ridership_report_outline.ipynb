{
 "cells": [
  {
   "cell_type": "markdown",
   "id": "113a8748-2f2d-460e-b0c0-76905588a21a",
   "metadata": {},
   "source": [
    "# Annual Ridership by RTPA Report Outline #\n",
    "\n",
    "This notebook will outline the methodology of developing the new Annual Ridership by RTPA Report Portfolio site (Annual Report).\n",
    "Similar to the `monthly ridership by RTPA portfolio site`, the Annual Report will:\n",
    "    \n",
    "- use data from the FTA NTD \n",
    "- clean, prepare, transform new columns \n",
    "- export to gcs \n",
    "- create charts\n",
    "- become availabile online\n",
    "\n",
    "The Annual Report will take inspiration from the Monthly Ridership Report in that the intended output will be a portfolio site where each chapter is a seperate RTPA from paramaterized notebook.\n",
    "\n"
   ]
  },
  {
   "cell_type": "markdown",
   "id": "fd8affd8-65d8-4f61-b42c-8db41afdba0d",
   "metadata": {},
   "source": [
    "## Development Outline\n",
    "\n",
    "1. notebook to test which imports and functions are needed >> see monthly ridership report files\n",
    "2. review of portfolio process (which make files to hit, which folders in `data-analyses/porfolio` to make, etc)\n",
    "3. determine data source (hit the warehouse or hit the NTD site)\n",
    "\n",
    "\n"
   ]
  },
  {
   "cell_type": "markdown",
   "id": "24cb589c-c16a-482f-b5be-6af169275056",
   "metadata": {},
   "source": [
    "## Questions: \n",
    "\n",
    "### Where should this file live?\n",
    "- should the annual ridership report live in the same `ntd` folder as the `monthly_ridership_report` files?\n",
    "- i believe it can, but will have to add a new make function to the `data-analyses/makefile` for this annual ridership report\n",
    "- ensure everything points to the annual ridership files\n",
    "\n"
   ]
  },
  {
   "cell_type": "code",
   "execution_count": null,
   "id": "29bf9685-afe2-4c3d-91ef-3e94efa15f2b",
   "metadata": {},
   "outputs": [],
   "source": []
  }
 ],
 "metadata": {
  "kernelspec": {
   "display_name": "Python 3 (ipykernel)",
   "language": "python",
   "name": "python3"
  },
  "language_info": {
   "codemirror_mode": {
    "name": "ipython",
    "version": 3
   },
   "file_extension": ".py",
   "mimetype": "text/x-python",
   "name": "python",
   "nbconvert_exporter": "python",
   "pygments_lexer": "ipython3",
   "version": "3.9.13"
  }
 },
 "nbformat": 4,
 "nbformat_minor": 5
}
