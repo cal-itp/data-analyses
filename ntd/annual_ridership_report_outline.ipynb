{
 "cells": [
  {
   "cell_type": "markdown",
   "id": "113a8748-2f2d-460e-b0c0-76905588a21a",
   "metadata": {
    "tags": []
   },
   "source": [
    "# Annual Ridership by RTPA Report Outline #\n",
    "\n",
    "This notebook will outline the methodology of developing the new Annual Ridership by RTPA Report Portfolio site (Annual Report).\n",
    "Similar to the `monthly ridership by RTPA portfolio site`, the Annual Report will:\n",
    "    \n",
    "- use data from the FTA NTD \n",
    "- clean, prepare, transform new columns \n",
    "- export to gcs \n",
    "- create charts\n",
    "- become availabile online\n",
    "\n",
    "The Annual Report will take inspiration from the Monthly Ridership Report in that the intended output will be a portfolio site where each chapter is a seperate RTPA from paramaterized notebook.\n",
    "\n"
   ]
  },
  {
   "cell_type": "markdown",
   "id": "fd8affd8-65d8-4f61-b42c-8db41afdba0d",
   "metadata": {
    "tags": []
   },
   "source": [
    "## Development Outline\n",
    "\n",
    "1. notebook to test which imports and functions are needed >> see monthly ridership report files\n",
    "2. review of portfolio process (which make files to hit, which folders in `data-analyses/porfolio` to make, etc)\n",
    "3. determine data source (hit the warehouse or hit the NTD site)\n",
    "\n",
    "\n"
   ]
  },
  {
   "cell_type": "markdown",
   "id": "24cb589c-c16a-482f-b5be-6af169275056",
   "metadata": {
    "tags": []
   },
   "source": [
    "## Questions: "
   ]
  },
  {
   "cell_type": "markdown",
   "id": "dffc235c-645d-4e78-991f-f23e645d5b80",
   "metadata": {},
   "source": [
    "### Where should this file live?\n",
    "- should the annual ridership report live in the same `ntd` folder as the `monthly_ridership_report` files?\n",
    "- i believe it can, but will have to add a new make function to the `data-analyses/makefile` for this annual ridership report\n",
    "- ensure everything points to the annual ridership files\n"
   ]
  },
  {
   "cell_type": "markdown",
   "id": "7918ee4b-3919-4280-8b4e-471721b328c6",
   "metadata": {},
   "source": [
    "### Which libraries/packages should be imported?\n",
    "- start with whats in the `monthly ridership report`\n",
    "- commenting out the monthly report specific files for now (`update_vars`, `monthly_ridership_by_rtpa`, `shared_utils.rt_dates`)"
   ]
  },
  {
   "cell_type": "code",
   "execution_count": 2,
   "id": "743e74e1-abbc-4227-aa6c-02746191a6aa",
   "metadata": {},
   "outputs": [],
   "source": [
    "%%capture\n",
    "import sys\n",
    "sys.path.append(\"../bus_service_increase\")\n",
    "\n",
    "import warnings\n",
    "warnings.filterwarnings('ignore')\n",
    "\n",
    "import altair as alt\n",
    "import calitp_data_analysis.magics\n",
    "import pandas as pd\n",
    "\n",
    "from IPython.display import display, HTML\n",
    "\n",
    "from bus_service_utils import chart_utils\n",
    "from calitp_data_analysis import calitp_color_palette as cp\n",
    "#from update_vars import GCS_FILE_PATH, PUBLIC_FILENAME, YEAR, MONTH\n",
    "#from monthly_ridership_by_rtpa import get_percent_change\n",
    "#from shared_utils.rt_dates import MONTH_DICT\n",
    "\n",
    "#alt.renderers.enable(\"html\")\n",
    "alt.data_transformers.enable('default', max_rows=None)"
   ]
  },
  {
   "cell_type": "markdown",
   "id": "f93e4d86-33ff-4dbf-8254-055a88bb4a84",
   "metadata": {},
   "source": [
    "### Any functions i should import?\n",
    "- considering `from monthly_ridership_by_rtpa import get_percent_change`\n"
   ]
  },
  {
   "cell_type": "markdown",
   "id": "d477989c-8bd2-4315-a2a1-c84309c9a33f",
   "metadata": {},
   "source": [
    "### What does the data look like?\n",
    "- need to test out whats in `dim_annual_ntd_agency_information` & `dim_annual_ntd_agency_service` for 2022."
   ]
  }
 ],
 "metadata": {
  "kernelspec": {
   "display_name": "Python 3 (ipykernel)",
   "language": "python",
   "name": "python3"
  },
  "language_info": {
   "codemirror_mode": {
    "name": "ipython",
    "version": 3
   },
   "file_extension": ".py",
   "mimetype": "text/x-python",
   "name": "python",
   "nbconvert_exporter": "python",
   "pygments_lexer": "ipython3",
   "version": "3.9.13"
  }
 },
 "nbformat": 4,
 "nbformat_minor": 5
}
