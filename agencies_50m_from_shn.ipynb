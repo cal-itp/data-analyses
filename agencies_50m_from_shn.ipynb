{
 "cells": [
  {
   "cell_type": "code",
   "execution_count": 1,
   "id": "e355764c-c8f8-4294-a799-49fc94daeff8",
   "metadata": {
    "tags": []
   },
   "outputs": [],
   "source": [
    "import pandas as pd\n",
    "from siuba import *\n",
    "import geopandas as gpd"
   ]
  },
  {
   "cell_type": "markdown",
   "id": "f419aee7-0f54-4614-a4a0-ce03beab823a",
   "metadata": {
    "tags": []
   },
   "source": [
    "Question: how many transit agencies are served by the State Highway Network?\n",
    "This notebook is a one-off query of stops data for DOTP's list for agency outreach for District Transit Plans. Future work will answer \"what agencies run transit on or intersecting the SHN\" and be incorporated into existing products (District Digest, open data)"
   ]
  },
  {
   "cell_type": "code",
   "execution_count": 2,
   "id": "cc3630c4-8f17-4d21-8f7c-b8fd6310fd5a",
   "metadata": {
    "tags": []
   },
   "outputs": [],
   "source": [
    "transit_stops = gpd.read_parquet(\"gs://calitp-analytics-data/data-analyses/traffic_ops/ca_transit_stops.parquet\")"
   ]
  },
  {
   "cell_type": "code",
   "execution_count": 12,
   "id": "e5a0824a-8151-4cb6-af5c-8935a5ac9e7a",
   "metadata": {
    "tags": []
   },
   "outputs": [],
   "source": [
    "nearby_agencies = (transit_stops >>\n",
    "    filter(_.meters_to_ca_state_highway<50) >>\n",
    "    count(_.district_name,_.agency)\n",
    "                  )"
   ]
  },
  {
   "cell_type": "code",
   "execution_count": null,
   "id": "110a2896-d37f-4038-a971-c2f908df6c3d",
   "metadata": {
    "tags": []
   },
   "outputs": [],
   "source": [
    "nearby_agencies.to_csv(\"gs://calitp-analytics-data/data-analyses/stops_within_50m_shn.csv\")"
   ]
  }
 ],
 "metadata": {
  "kernelspec": {
   "display_name": "Python 3 (ipykernel)",
   "language": "python",
   "name": "python3"
  },
  "language_info": {
   "codemirror_mode": {
    "name": "ipython",
    "version": 3
   },
   "file_extension": ".py",
   "mimetype": "text/x-python",
   "name": "python",
   "nbconvert_exporter": "python",
   "pygments_lexer": "ipython3",
   "version": "3.11.10"
  }
 },
 "nbformat": 4,
 "nbformat_minor": 5
}
