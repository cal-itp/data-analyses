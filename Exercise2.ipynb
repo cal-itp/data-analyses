{
 "cells": [
  {
   "cell_type": "markdown",
   "id": "04af490c-5230-4b28-aeb4-d636f44a28ba",
   "metadata": {},
   "source": [
    "## Exercise 2: Merging and Deriving New Columns\n",
    "\n",
    "Skills: \n",
    "* Merge 2 dataframes\n",
    "* F-strings!\n",
    "* Markdown cells\n",
    "* Build on groupby/agg knowledge, derive new columns, exporting\n",
    "* Practice committing on GitHub\n",
    "\n",
    "References: \n",
    "* https://cityoflosangeles.github.io/best-practices/data-analysis-intro.html\n",
    "* https://docs.calitp.org/data-infra/analytics_tools/saving_code.html\n",
    "* https://docs.calitp.org/data-infra/analytics_examples/warehouse_tutorial.html"
   ]
  },
  {
   "cell_type": "code",
   "execution_count": null,
   "id": "940e12c5-6775-4aa1-b7df-c00ca89732af",
   "metadata": {},
   "outputs": [],
   "source": [
    "import pandas as pd"
   ]
  },
  {
   "cell_type": "markdown",
   "id": "f4487520-d005-4262-b19f-4433203b12df",
   "metadata": {},
   "source": [
    "Use of f-strings. [Read more on this](https://realpython.com/python-f-strings/#f-strings-a-new-and-improved-way-to-format-strings-in-python).\n",
    "\n",
    "Also, click on this Markdown cell and see how to do different formatting syntax within Markdown. [Reference this](https://www.datacamp.com/community/tutorials/markdown-in-jupyter-notebook)."
   ]
  },
  {
   "cell_type": "code",
   "execution_count": null,
   "id": "287cd877-e8a9-4db8-846d-3ba384e7979a",
   "metadata": {},
   "outputs": [],
   "source": [
    "GCS_FILE_PATH = \"gs://calitp-analytics-data/data-analyses/bus_service_increase/\"\n",
    "FILE_NAME = \"ntd_metrics_2019.csv\"\n",
    "\n",
    "df = pd.read_csv(f\"{GCS_FILE_PATH}{FILE_NAME}\")\n",
    "df.head(2)"
   ]
  },
  {
   "cell_type": "markdown",
   "id": "3aac90ed-cbf2-4ba8-bd2a-a603cb1c2b26",
   "metadata": {},
   "source": [
    "### To do:\n",
    "\n",
    "* Start with the `ntd_metrics_2019.csv` dataset.\n",
    "* Merge in the `ntd_vehicles_2019.csv` dataset from the same location within the GCS bucket, but only keep a couple of columns.\n",
    "* Print out what states there are using `value_counts`\n",
    "* Subset and only keep the following states: NY, CA, TX, ID, MS\n",
    "* Calculate some aggregate statistics grouping by states (the point of the exercise is to aggregate, less so on whether the stats make sense):\n",
    "    * Include: sum, mean, count (of operators), nunique (of city)\n",
    "    * Challenge: give a per capita measure, such as total service vehicles per 100,000 residents\n",
    "* Plot the per capita measure across the 5 states (some states are very populous and some are not...per capita hopefully normalizes pop differences)"
   ]
  },
  {
   "cell_type": "code",
   "execution_count": null,
   "id": "3d8ee58a-a478-4ca0-931d-513729dff275",
   "metadata": {},
   "outputs": [],
   "source": [
    "list(df.columns)"
   ]
  },
  {
   "cell_type": "code",
   "execution_count": null,
   "id": "6f668dfe-406d-4786-96bd-ea5df4810119",
   "metadata": {},
   "outputs": [],
   "source": [
    "df.Agency.value_counts()"
   ]
  },
  {
   "cell_type": "markdown",
   "id": "39af4645-93eb-4266-a45c-a803423e703b",
   "metadata": {},
   "source": [
    "### Helpful Hints and Best Practices\n",
    "\n",
    "#### Chaining\n",
    "Similar to **piping** in R, where you can pipe multiple operations in 1 line of code with `>>`, you can do a similar method of chaining in Python. There is also a `df.pipe` function, but that's slightly different.\n",
    "\n",
    "Make use of parentheses to do this. Also, use `df.assign` (see below) so you don't run into the `SettingWithCopyWarning`, which may pop up if you decide to subset your data. \n",
    "\n",
    "#### Assign \n",
    "You can create new columns in place, and the warning that comes up is mostly harmless. But, `assign` also lets you chain more operations after. [More clarification.](https://pythonguides.com/add-a-column-to-a-dataframe-in-python-pandas/)\n",
    "```\n",
    "states_clean = (states_clean\n",
    "    .assign(\n",
    "        # Strip leading or trailing blanks (slightly different than replace)\n",
    "        # Decide if you want to replace all blanks or just leading/trailing\n",
    "        Agency = (states_clean.Agency.str.strip()\n",
    "                .str.replace('(', '').str.replace(')', '')\n",
    "        ),\n",
    "        # Do something similar for City as above\n",
    "        City = states_clean.City.str.strip(),\n",
    "        # Replace blanks with nothing\n",
    "        State = states_clean.State.str.replace(' ', '')\n",
    "    ).astype({\n",
    "        \"Population\": int, \n",
    "        \"Fare_Revenues\": int,\n",
    "    })\n",
    ")\n",
    "```\n",
    "\n",
    "Alternatively, try it with a loop:\n",
    "\n",
    "```\n",
    "for c in [\"Agency\", \"City\"]:\n",
    "    df[c] = (df[c].str.strip()\n",
    "            .str.replace('(', '')\n",
    "            .str.replace(')', '')\n",
    "            .astype(int)\n",
    "            )\n",
    "```\n",
    "\n",
    "#### Using `str.contains` with some special characters\n",
    "Use backslash `\\` to \"escape\". [StackOverflow explanation](https://stackoverflow.com/questions/48699907/error-unbalanced-parenthesis-while-checking-if-an-item-presents-in-a-pandas-d)\n",
    "`states_clean[states_clean.Fare_Revenues.str.contains(\"\\(\")]`\n",
    "\n",
    "\n",
    "#### Merging\n",
    "If your merge results produces a `col_x` and `col_y`, add more columns to your list of merge columns, with `on = [\"col1\", \"col2\"]`.\n",
    "\n",
    "#### Use `isin` to filter by multiple conditions\n",
    "\n",
    "```\n",
    "keep_me = [\"CA\", \"NY\", \"TX\"]\n",
    "df2 = df[df.State.isin(keep_me)]\n",
    "```"
   ]
  },
  {
   "cell_type": "markdown",
   "id": "c60f8641-d763-4e5e-abfa-6c39cbb4a544",
   "metadata": {},
   "source": [
    "### Additional Feedback\n",
    "\n",
    "* Subsetting columns: also write a line that does the same thing but selecting column names instead of `iloc`\n",
    "* analysis df...aggregation is incorrect\n",
    "    * either look at what is happening in one state\n",
    "    * Or, export it to Excel, and use formulas to understand what is happening when you do the groupby/agg\n",
    "    * make sure when you're selecting sum/mean/count/median/etc, you're selecting the right one and you fully understand what is happening OR you exclude it from groupby/agg and merge on a separate df that has the correct values\n",
    "* when you have `reset_index()` and an index column appears, try `reset_index(drop=True)` and see how that's different\n",
    "* good lambda function for calculating per capita metric\n",
    "* Chart changes: change colors for plot to be colors in `altair_utils`\n",
    "    * add the theme_538()\n",
    "    * play with labels on axes so they don't have underscores \n",
    "    * play with bar sizing and plot sizing\n",
    "* Make an additional chart normalizing by unlinked passenger trips instead of population. Repeat groupby/agg, and make sure any averages taken are weighted averages."
   ]
  },
  {
   "cell_type": "code",
   "execution_count": null,
   "id": "59670c39-fa3c-40fa-8bac-2c2a937b44a5",
   "metadata": {},
   "outputs": [],
   "source": []
  }
 ],
 "metadata": {
  "kernelspec": {
   "display_name": "Python 3 (ipykernel)",
   "language": "python",
   "name": "python3"
  },
  "language_info": {
   "codemirror_mode": {
    "name": "ipython",
    "version": 3
   },
   "file_extension": ".py",
   "mimetype": "text/x-python",
   "name": "python",
   "nbconvert_exporter": "python",
   "pygments_lexer": "ipython3",
   "version": "3.9.7"
  }
 },
 "nbformat": 4,
 "nbformat_minor": 5
}
