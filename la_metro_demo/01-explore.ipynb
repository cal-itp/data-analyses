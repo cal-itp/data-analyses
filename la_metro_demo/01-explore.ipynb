{
 "cells": [
  {
   "cell_type": "markdown",
   "id": "e67347f0-4a9f-47a9-bec0-441e80a6e4f5",
   "metadata": {},
   "source": [
    "# Quick explore to test merges between GTFS schedule tables we have with LA Metro's route dataset"
   ]
  },
  {
   "cell_type": "code",
   "execution_count": 1,
   "id": "bb85215e-978e-4606-a7af-09aa769a9103",
   "metadata": {},
   "outputs": [
    {
     "name": "stderr",
     "output_type": "stream",
     "text": [
      "/opt/conda/lib/python3.9/site-packages/geopandas/_compat.py:123: UserWarning: The Shapely GEOS version (3.10.3-CAPI-1.16.1) is incompatible with the GEOS version PyGEOS was compiled with (3.10.1-CAPI-1.16.0). Conversions between both will be slow.\n",
      "  warnings.warn(\n"
     ]
    }
   ],
   "source": [
    "import geopandas as gpd\n",
    "import pandas as pd\n",
    "\n",
    "from shared_utils import rt_dates\n",
    "from segment_speed_utils.project_vars import COMPILED_CACHED_VIEWS\n",
    "\n",
    "analysis_date = rt_dates.DATES[\"oct2022\"]\n",
    "GCS_FILE_PATH = \"gs://calitp-analytics-data/data-analyses/la_metro_demo/\""
   ]
  },
  {
   "cell_type": "markdown",
   "id": "c43545f4-f1d6-4539-9caf-db7a4b3ff342",
   "metadata": {},
   "source": [
    "## From our GTFS"
   ]
  },
  {
   "cell_type": "code",
   "execution_count": 2,
   "id": "25974556-a90d-467e-be06-10abbe37bece",
   "metadata": {},
   "outputs": [],
   "source": [
    "trips = pd.read_parquet(\n",
    "    f\"{COMPILED_CACHED_VIEWS}trips_{analysis_date}_v2.parquet\",\n",
    "    filters = [[(\"name\", \"==\", \"LA Metro Bus Schedule\")], \n",
    "               [(\"name\", \"==\", \"LA Metro Rail Schedule\")]\n",
    "              ],\n",
    "    columns = [\"feed_key\", \"name\", \"trip_id\", \"shape_id\", \n",
    "               \"shape_array_key\", \"route_id\", \n",
    "               \"route_short_name\", \"route_long_name\"]\n",
    ")"
   ]
  },
  {
   "cell_type": "markdown",
   "id": "99082eab-81e2-46dc-be71-196800a6d83f",
   "metadata": {},
   "source": [
    "## From LA Metro"
   ]
  },
  {
   "cell_type": "code",
   "execution_count": 3,
   "id": "9160b972-221d-4ae6-892e-3f5feb8c3f7d",
   "metadata": {},
   "outputs": [],
   "source": [
    "by_route = pd.read_parquet(f\"{GCS_FILE_PATH}by_route.parquet\")\n",
    "by_route = by_route.assign(\n",
    "    route_str = by_route.route.astype(str)\n",
    ")"
   ]
  },
  {
   "cell_type": "markdown",
   "id": "474b5a45-fd11-49a0-9758-42fec2416254",
   "metadata": {},
   "source": [
    "## Merge these 2 datasets at route-level and see how merge performs"
   ]
  },
  {
   "cell_type": "code",
   "execution_count": 4,
   "id": "3c652c64-60d2-4fa4-baae-7cc09e17cec0",
   "metadata": {},
   "outputs": [],
   "source": [
    "route = trips[[\n",
    "    \"name\", \"route_id\", \n",
    "    \"route_short_name\", \"route_long_name\"]\n",
    "].drop_duplicates().reset_index(drop=True)"
   ]
  },
  {
   "cell_type": "code",
   "execution_count": 5,
   "id": "930dfe8c-7f23-43da-bc6c-e0b2d6a8eca0",
   "metadata": {},
   "outputs": [],
   "source": [
    "m1 = pd.merge(\n",
    "    route,\n",
    "    by_route,\n",
    "    left_on = \"route_short_name\",\n",
    "    right_on = \"route_str\",\n",
    "    how = \"outer\",\n",
    "    validate = \"m:1\",\n",
    "    indicator= True\n",
    ")"
   ]
  },
  {
   "cell_type": "code",
   "execution_count": 6,
   "id": "370e7f60-1893-425d-b4c2-415a69dede90",
   "metadata": {},
   "outputs": [
    {
     "data": {
      "text/plain": [
       "both          103\n",
       "right_only     23\n",
       "left_only      17\n",
       "Name: _merge, dtype: int64"
      ]
     },
     "execution_count": 6,
     "metadata": {},
     "output_type": "execute_result"
    }
   ],
   "source": [
    "m1._merge.value_counts()"
   ]
  },
  {
   "cell_type": "code",
   "execution_count": 7,
   "id": "67844f99-08be-48f1-97e6-58fe794a11ef",
   "metadata": {},
   "outputs": [
    {
     "data": {
      "text/plain": [
       "array([None, '10/48', '35/38', '14/37', '224/690', '242/243', '211/215'],\n",
       "      dtype=object)"
      ]
     },
     "execution_count": 7,
     "metadata": {},
     "output_type": "execute_result"
    }
   ],
   "source": [
    "m1[m1._merge==\"left_only\"].route_short_name.unique()"
   ]
  },
  {
   "cell_type": "markdown",
   "id": "093351b3-72e5-4617-a9f8-0d859c63f5bf",
   "metadata": {},
   "source": [
    "* Will need to fill in where `route_short_name` is missing.\n",
    "* Will also need to split routes where a \"/\" appears"
   ]
  },
  {
   "cell_type": "code",
   "execution_count": 8,
   "id": "85c9eca4-26e1-4c90-9852-e8ee07ed4219",
   "metadata": {},
   "outputs": [
    {
     "data": {
      "text/html": [
       "<div>\n",
       "<style scoped>\n",
       "    .dataframe tbody tr th:only-of-type {\n",
       "        vertical-align: middle;\n",
       "    }\n",
       "\n",
       "    .dataframe tbody tr th {\n",
       "        vertical-align: top;\n",
       "    }\n",
       "\n",
       "    .dataframe thead th {\n",
       "        text-align: right;\n",
       "    }\n",
       "</style>\n",
       "<table border=\"1\" class=\"dataframe\">\n",
       "  <thead>\n",
       "    <tr style=\"text-align: right;\">\n",
       "      <th></th>\n",
       "      <th>name</th>\n",
       "      <th>route_id</th>\n",
       "      <th>route_short_name</th>\n",
       "      <th>route_long_name</th>\n",
       "      <th>route</th>\n",
       "      <th>keep_label</th>\n",
       "      <th>num_bus_cash_oct_2022</th>\n",
       "      <th>num_taps_oct_2022</th>\n",
       "      <th>percent_bus_cash_oct_2022</th>\n",
       "      <th>route_str</th>\n",
       "      <th>_merge</th>\n",
       "    </tr>\n",
       "  </thead>\n",
       "  <tbody>\n",
       "    <tr>\n",
       "      <th>0</th>\n",
       "      <td>LA Metro Rail Schedule</td>\n",
       "      <td>802</td>\n",
       "      <td>None</td>\n",
       "      <td>Metro B Line (Red)</td>\n",
       "      <td>NaN</td>\n",
       "      <td>NaN</td>\n",
       "      <td>NaN</td>\n",
       "      <td>NaN</td>\n",
       "      <td>NaN</td>\n",
       "      <td>NaN</td>\n",
       "      <td>left_only</td>\n",
       "    </tr>\n",
       "    <tr>\n",
       "      <th>1</th>\n",
       "      <td>LA Metro Rail Schedule</td>\n",
       "      <td>803</td>\n",
       "      <td>None</td>\n",
       "      <td>Metro C Line (Green)</td>\n",
       "      <td>NaN</td>\n",
       "      <td>NaN</td>\n",
       "      <td>NaN</td>\n",
       "      <td>NaN</td>\n",
       "      <td>NaN</td>\n",
       "      <td>NaN</td>\n",
       "      <td>left_only</td>\n",
       "    </tr>\n",
       "    <tr>\n",
       "      <th>2</th>\n",
       "      <td>LA Metro Rail Schedule</td>\n",
       "      <td>804</td>\n",
       "      <td>None</td>\n",
       "      <td>Metro L Line (Gold)</td>\n",
       "      <td>NaN</td>\n",
       "      <td>NaN</td>\n",
       "      <td>NaN</td>\n",
       "      <td>NaN</td>\n",
       "      <td>NaN</td>\n",
       "      <td>NaN</td>\n",
       "      <td>left_only</td>\n",
       "    </tr>\n",
       "    <tr>\n",
       "      <th>3</th>\n",
       "      <td>LA Metro Rail Schedule</td>\n",
       "      <td>806</td>\n",
       "      <td>None</td>\n",
       "      <td>Metro E Line (Expo)</td>\n",
       "      <td>NaN</td>\n",
       "      <td>NaN</td>\n",
       "      <td>NaN</td>\n",
       "      <td>NaN</td>\n",
       "      <td>NaN</td>\n",
       "      <td>NaN</td>\n",
       "      <td>left_only</td>\n",
       "    </tr>\n",
       "    <tr>\n",
       "      <th>4</th>\n",
       "      <td>LA Metro Rail Schedule</td>\n",
       "      <td>807</td>\n",
       "      <td>None</td>\n",
       "      <td>Metro K Line (Crenshaw)</td>\n",
       "      <td>NaN</td>\n",
       "      <td>NaN</td>\n",
       "      <td>NaN</td>\n",
       "      <td>NaN</td>\n",
       "      <td>NaN</td>\n",
       "      <td>NaN</td>\n",
       "      <td>left_only</td>\n",
       "    </tr>\n",
       "    <tr>\n",
       "      <th>5</th>\n",
       "      <td>LA Metro Rail Schedule</td>\n",
       "      <td>801</td>\n",
       "      <td>None</td>\n",
       "      <td>Metro A Line (Blue)</td>\n",
       "      <td>NaN</td>\n",
       "      <td>NaN</td>\n",
       "      <td>NaN</td>\n",
       "      <td>NaN</td>\n",
       "      <td>NaN</td>\n",
       "      <td>NaN</td>\n",
       "      <td>left_only</td>\n",
       "    </tr>\n",
       "    <tr>\n",
       "      <th>6</th>\n",
       "      <td>LA Metro Rail Schedule</td>\n",
       "      <td>805</td>\n",
       "      <td>None</td>\n",
       "      <td>Metro D Line (Purple)</td>\n",
       "      <td>NaN</td>\n",
       "      <td>NaN</td>\n",
       "      <td>NaN</td>\n",
       "      <td>NaN</td>\n",
       "      <td>NaN</td>\n",
       "      <td>NaN</td>\n",
       "      <td>left_only</td>\n",
       "    </tr>\n",
       "    <tr>\n",
       "      <th>7</th>\n",
       "      <td>LA Metro Bus Schedule</td>\n",
       "      <td>854-13157</td>\n",
       "      <td>None</td>\n",
       "      <td>Metro L Line (Gold) Shuttle 854</td>\n",
       "      <td>NaN</td>\n",
       "      <td>NaN</td>\n",
       "      <td>NaN</td>\n",
       "      <td>NaN</td>\n",
       "      <td>NaN</td>\n",
       "      <td>NaN</td>\n",
       "      <td>left_only</td>\n",
       "    </tr>\n",
       "    <tr>\n",
       "      <th>8</th>\n",
       "      <td>LA Metro Bus Schedule</td>\n",
       "      <td>857-13164</td>\n",
       "      <td>None</td>\n",
       "      <td>Metro K Line (Crenshaw) Shuttle 857</td>\n",
       "      <td>NaN</td>\n",
       "      <td>NaN</td>\n",
       "      <td>NaN</td>\n",
       "      <td>NaN</td>\n",
       "      <td>NaN</td>\n",
       "      <td>NaN</td>\n",
       "      <td>left_only</td>\n",
       "    </tr>\n",
       "    <tr>\n",
       "      <th>9</th>\n",
       "      <td>LA Metro Bus Schedule</td>\n",
       "      <td>910-13157</td>\n",
       "      <td>None</td>\n",
       "      <td>Metro J Line (Silver) 910/950</td>\n",
       "      <td>NaN</td>\n",
       "      <td>NaN</td>\n",
       "      <td>NaN</td>\n",
       "      <td>NaN</td>\n",
       "      <td>NaN</td>\n",
       "      <td>NaN</td>\n",
       "      <td>left_only</td>\n",
       "    </tr>\n",
       "    <tr>\n",
       "      <th>10</th>\n",
       "      <td>LA Metro Bus Schedule</td>\n",
       "      <td>901-13157</td>\n",
       "      <td>None</td>\n",
       "      <td>Metro G Line (Orange) 901</td>\n",
       "      <td>NaN</td>\n",
       "      <td>NaN</td>\n",
       "      <td>NaN</td>\n",
       "      <td>NaN</td>\n",
       "      <td>NaN</td>\n",
       "      <td>NaN</td>\n",
       "      <td>left_only</td>\n",
       "    </tr>\n",
       "  </tbody>\n",
       "</table>\n",
       "</div>"
      ],
      "text/plain": [
       "                      name   route_id route_short_name  \\\n",
       "0   LA Metro Rail Schedule        802             None   \n",
       "1   LA Metro Rail Schedule        803             None   \n",
       "2   LA Metro Rail Schedule        804             None   \n",
       "3   LA Metro Rail Schedule        806             None   \n",
       "4   LA Metro Rail Schedule        807             None   \n",
       "5   LA Metro Rail Schedule        801             None   \n",
       "6   LA Metro Rail Schedule        805             None   \n",
       "7    LA Metro Bus Schedule  854-13157             None   \n",
       "8    LA Metro Bus Schedule  857-13164             None   \n",
       "9    LA Metro Bus Schedule  910-13157             None   \n",
       "10   LA Metro Bus Schedule  901-13157             None   \n",
       "\n",
       "                        route_long_name  route keep_label  \\\n",
       "0                    Metro B Line (Red)    NaN        NaN   \n",
       "1                  Metro C Line (Green)    NaN        NaN   \n",
       "2                   Metro L Line (Gold)    NaN        NaN   \n",
       "3                   Metro E Line (Expo)    NaN        NaN   \n",
       "4               Metro K Line (Crenshaw)    NaN        NaN   \n",
       "5                   Metro A Line (Blue)    NaN        NaN   \n",
       "6                 Metro D Line (Purple)    NaN        NaN   \n",
       "7       Metro L Line (Gold) Shuttle 854    NaN        NaN   \n",
       "8   Metro K Line (Crenshaw) Shuttle 857    NaN        NaN   \n",
       "9         Metro J Line (Silver) 910/950    NaN        NaN   \n",
       "10            Metro G Line (Orange) 901    NaN        NaN   \n",
       "\n",
       "    num_bus_cash_oct_2022  num_taps_oct_2022  percent_bus_cash_oct_2022  \\\n",
       "0                     NaN                NaN                        NaN   \n",
       "1                     NaN                NaN                        NaN   \n",
       "2                     NaN                NaN                        NaN   \n",
       "3                     NaN                NaN                        NaN   \n",
       "4                     NaN                NaN                        NaN   \n",
       "5                     NaN                NaN                        NaN   \n",
       "6                     NaN                NaN                        NaN   \n",
       "7                     NaN                NaN                        NaN   \n",
       "8                     NaN                NaN                        NaN   \n",
       "9                     NaN                NaN                        NaN   \n",
       "10                    NaN                NaN                        NaN   \n",
       "\n",
       "   route_str     _merge  \n",
       "0        NaN  left_only  \n",
       "1        NaN  left_only  \n",
       "2        NaN  left_only  \n",
       "3        NaN  left_only  \n",
       "4        NaN  left_only  \n",
       "5        NaN  left_only  \n",
       "6        NaN  left_only  \n",
       "7        NaN  left_only  \n",
       "8        NaN  left_only  \n",
       "9        NaN  left_only  \n",
       "10       NaN  left_only  "
      ]
     },
     "execution_count": 8,
     "metadata": {},
     "output_type": "execute_result"
    }
   ],
   "source": [
    "m1[(m1._merge==\"left_only\") & (m1.route_short_name.isna())]"
   ]
  },
  {
   "cell_type": "code",
   "execution_count": 9,
   "id": "ede501dd-154d-4d19-bd77-544671ed5b44",
   "metadata": {},
   "outputs": [
    {
     "data": {
      "text/plain": [
       "array(['259', '215', '211', '163', '52', '770', '48', '242', '235', '38',\n",
       "       '243', '224', '35', '762', '10', '330', '14', '37', '134', '728',\n",
       "       '489', '910', '201'], dtype=object)"
      ]
     },
     "execution_count": 9,
     "metadata": {},
     "output_type": "execute_result"
    }
   ],
   "source": [
    "m1[m1._merge==\"right_only\"].route_str.unique()"
   ]
  },
  {
   "cell_type": "code",
   "execution_count": null,
   "id": "6ea379ad-8de4-4eb9-bca2-6fd199993aac",
   "metadata": {},
   "outputs": [],
   "source": []
  }
 ],
 "metadata": {
  "kernelspec": {
   "display_name": "Python 3 (ipykernel)",
   "language": "python",
   "name": "python3"
  },
  "language_info": {
   "codemirror_mode": {
    "name": "ipython",
    "version": 3
   },
   "file_extension": ".py",
   "mimetype": "text/x-python",
   "name": "python",
   "nbconvert_exporter": "python",
   "pygments_lexer": "ipython3",
   "version": "3.9.13"
  }
 },
 "nbformat": 4,
 "nbformat_minor": 5
}
