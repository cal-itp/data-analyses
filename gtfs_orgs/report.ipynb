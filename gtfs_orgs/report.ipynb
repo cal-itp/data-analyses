{
 "cells": [
  {
   "cell_type": "markdown",
   "id": "1f73cb91-0361-45b8-92c2-7268519ef778",
   "metadata": {},
   "source": [
    "# Organizations GTFS Status Report"
   ]
  },
  {
   "cell_type": "code",
   "execution_count": 1,
   "id": "134c2c8d-8321-4467-a10f-41f6b54faff6",
   "metadata": {},
   "outputs": [
    {
     "name": "stderr",
     "output_type": "stream",
     "text": [
      "/opt/conda/lib/python3.10/site-packages/geopandas/_compat.py:111: UserWarning: The Shapely GEOS version (3.10.2-CAPI-1.16.0) is incompatible with the GEOS version PyGEOS was compiled with (3.10.1-CAPI-1.16.0). Conversions between both will be slow.\n",
      "  warnings.warn(\n",
      "/opt/conda/lib/python3.10/site-packages/google/auth/_default.py:79: UserWarning: Your application has authenticated using end user credentials from Google Cloud SDK without a quota project. You might receive a \"quota exceeded\" or \"API not enabled\" error. We recommend you rerun `gcloud auth application-default login` and make sure a quota project is added. Or you can use service accounts instead. For more information about service accounts, see https://cloud.google.com/docs/authentication/\n",
      "  warnings.warn(_CLOUD_SDK_CREDENTIALS_WARNING)\n"
     ]
    }
   ],
   "source": [
    "from calitp.tables import tbl\n",
    "from siuba import *\n",
    "import pandas as pd\n",
    "\n",
    "import utils"
   ]
  },
  {
   "cell_type": "code",
   "execution_count": 69,
   "id": "1b947a61-608f-4a5c-800a-029322bc5711",
   "metadata": {},
   "outputs": [],
   "source": [
    "from IPython.display import Markdown, HTML, display_html, display"
   ]
  },
  {
   "cell_type": "code",
   "execution_count": 2,
   "id": "cc717f44-0018-46c1-b870-3d564fdee8a4",
   "metadata": {},
   "outputs": [
    {
     "name": "stderr",
     "output_type": "stream",
     "text": [
      "/opt/conda/lib/python3.10/site-packages/google/auth/_default.py:79: UserWarning: Your application has authenticated using end user credentials from Google Cloud SDK without a quota project. You might receive a \"quota exceeded\" or \"API not enabled\" error. We recommend you rerun `gcloud auth application-default login` and make sure a quota project is added. Or you can use service accounts instead. For more information about service accounts, see https://cloud.google.com/docs/authentication/\n",
      "/opt/conda/lib/python3.10/site-packages/google/auth/_default.py:79: UserWarning: Your application has authenticated using end user credentials from Google Cloud SDK without a quota project. You might receive a \"quota exceeded\" or \"API not enabled\" error. We recommend you rerun `gcloud auth application-default login` and make sure a quota project is added. Or you can use service accounts instead. For more information about service accounts, see https://cloud.google.com/docs/authentication/\n"
     ]
    }
   ],
   "source": [
    "import altair as alt\n",
    "from dla_utils import _dla_utils\n",
    "from shared_utils import styleguide\n"
   ]
  },
  {
   "cell_type": "code",
   "execution_count": 3,
   "id": "5a661933-9fba-46d7-aabd-4e4450f259af",
   "metadata": {},
   "outputs": [],
   "source": [
    "from calitp import query_sql, magics"
   ]
  },
  {
   "cell_type": "code",
   "execution_count": 4,
   "id": "8b8d038c-35dc-4120-bcd7-66bc4176b3f0",
   "metadata": {},
   "outputs": [],
   "source": [
    "pd.set_option(\"display.max_columns\", 100)"
   ]
  },
  {
   "cell_type": "code",
   "execution_count": 47,
   "id": "926962a0-804a-4535-99a3-fdcc76eb670b",
   "metadata": {},
   "outputs": [
    {
     "name": "stderr",
     "output_type": "stream",
     "text": [
      "/opt/conda/lib/python3.10/site-packages/google/auth/_default.py:79: UserWarning: Your application has authenticated using end user credentials from Google Cloud SDK without a quota project. You might receive a \"quota exceeded\" or \"API not enabled\" error. We recommend you rerun `gcloud auth application-default login` and make sure a quota project is added. Or you can use service accounts instead. For more information about service accounts, see https://cloud.google.com/docs/authentication/\n"
     ]
    }
   ],
   "source": [
    "pct_gtfs = query_sql(\n",
    "    \"\"\"\n",
    "WITH table AS( \n",
    "    SELECT \n",
    "    caltrans_district,\n",
    "    count(*) AS org_count,\n",
    "    SUM(IF(complete_static_gtfs_coverage = 1, 1, 0)) AS gtfs_static_count,\n",
    "    SUM(IF(complete_rt_coverage = 1, 1, 0)) AS gtfs_rt_count,\n",
    "FROM cal-itp-data-infra-staging.staging_views.airtable_orgs_filtered\n",
    "GROUP BY caltrans_district\n",
    "ORDER BY caltrans_district\n",
    ") \n",
    "\n",
    "SELECT\n",
    "    caltrans_district,\n",
    "    org_count,\n",
    "    gtfs_static_count,\n",
    "    gtfs_rt_count,\n",
    "    100.0 * (table.gtfs_static_count / table.org_count) AS `percent_static`,\n",
    "    100.0 * (table.gtfs_rt_count / table.org_count) AS `percent_rt`\n",
    "FROM table \n",
    "\"\"\"\n",
    ")"
   ]
  },
  {
   "cell_type": "code",
   "execution_count": 46,
   "id": "1a7f6318-1bf7-45d5-a7ae-027256893761",
   "metadata": {
    "jupyter": {
     "source_hidden": true
    },
    "tags": []
   },
   "outputs": [],
   "source": [
    "# pct_compliant = query_sql(\n",
    "# \"\"\"\n",
    "\n",
    "# WITH\n",
    "\n",
    "# complete_status AS (\n",
    "#     select\n",
    "#         caltrans_district,\n",
    "#         count(*) AS `count`\n",
    "#     from  cal-itp-data-infra-staging.staging_views.airtable_orgs_filtered\n",
    "#     where (complete_static_gtfs_coverage = 1)\n",
    "#     group by caltrans_district\n",
    "# ),\n",
    "\n",
    "# all_status AS (\n",
    "#     select\n",
    "#         caltrans_district,\n",
    "#         count(*) AS `count`\n",
    "#     from  cal-itp-data-infra-staging.staging_views.airtable_orgs_filtered   \n",
    "#     group by caltrans_district\n",
    "# )\n",
    "\n",
    "# SELECT\n",
    "#     caltrans_district,\n",
    "#     all_status.count as `all_org`,\n",
    "#     complete_status.count as `gtfs_compliant`,\n",
    "#     100.0 * (complete_status.count / all_status.count) AS `percent`\n",
    "# FROM all_status \n",
    "# join complete_status \n",
    "#     using (caltrans_district)\n",
    "# ORDER BY caltrans_district\n",
    "    \n",
    "# \"\"\")"
   ]
  },
  {
   "cell_type": "code",
   "execution_count": 7,
   "id": "827402ea-f713-42be-b69f-6efe52a4030f",
   "metadata": {},
   "outputs": [
    {
     "name": "stderr",
     "output_type": "stream",
     "text": [
      "/opt/conda/lib/python3.10/site-packages/google/auth/_default.py:79: UserWarning: Your application has authenticated using end user credentials from Google Cloud SDK without a quota project. You might receive a \"quota exceeded\" or \"API not enabled\" error. We recommend you rerun `gcloud auth application-default login` and make sure a quota project is added. Or you can use service accounts instead. For more information about service accounts, see https://cloud.google.com/docs/authentication/\n"
     ]
    }
   ],
   "source": [
    "df = query_sql(\n",
    "\"\"\"\n",
    "WITH new_table AS (\n",
    "SELECT \n",
    "    *,\n",
    "        CASE \n",
    "        WHEN (fares_v2_status LIKE ('%Unknown%') \n",
    "              or fares_v2_status is null \n",
    "              or fares_v2_status LIKE ('%Blocked%') \n",
    "              or fares_v2_status LIKE ('%to Publish%') \n",
    "              or fares_v2_status LIKE ('%Need%')) then 0 \n",
    "        WHEN (fares_v2_status LIKE ('%published%')) then 1\n",
    "    end AS `fares_v2_status_complete`,\n",
    "        CASE \n",
    "        WHEN (fares_v2_status LIKE ('%Unknown%') or fares_v2_status is null) then 'Unknown'\n",
    "        WHEN (fares_v2_status LIKE ('%Blocked%') or fares_v2_status LIKE ('%Need%')) then 'Needed'\n",
    "        WHEN (fares_v2_status LIKE ('%to Publish%') or fares_v2_status LIKE ('%in progress%')) then 'In works'\n",
    "        WHEN (fares_v2_status LIKE ('%published%')) then 'Published'\n",
    "    end AS `fares_v2_status2`,\n",
    "FROM cal-itp-data-infra-staging.staging_views.airtable_orgs_filtered\n",
    ")\n",
    "\n",
    "SELECT \n",
    "    *,\n",
    "FROM new_table\n",
    "\"\"\")"
   ]
  },
  {
   "cell_type": "code",
   "execution_count": null,
   "id": "d2cd468a-0d61-41e9-8243-26469f54922e",
   "metadata": {},
   "outputs": [],
   "source": []
  },
  {
   "cell_type": "code",
   "execution_count": 17,
   "id": "d3a86783-8734-4ed6-bde0-755e40688763",
   "metadata": {},
   "outputs": [],
   "source": [
    "##check to see if the new column works\n",
    "# (df>>filter(_.fares_v2_status_complete == 1)>>select(_.name,\n",
    "#                                                      _.fares_v2_status,\n",
    "#                                                     _.fares_v2_status_complete,\n",
    "#                                                     _.fares_v2_status2))\n",
    "## works"
   ]
  },
  {
   "cell_type": "code",
   "execution_count": null,
   "id": "0f0c386a-e2e7-4f2c-aefc-47c0573811aa",
   "metadata": {},
   "outputs": [],
   "source": []
  },
  {
   "cell_type": "code",
   "execution_count": 91,
   "id": "4b08e563-54b9-4214-9549-cd2e10614f0d",
   "metadata": {},
   "outputs": [
    {
     "data": {
      "text/html": [
       "\n",
       "<div id=\"altair-viz-02dc749ef3e7450bb0bc60d9989fc2c5\"></div>\n",
       "<script type=\"text/javascript\">\n",
       "  var VEGA_DEBUG = (typeof VEGA_DEBUG == \"undefined\") ? {} : VEGA_DEBUG;\n",
       "  (function(spec, embedOpt){\n",
       "    let outputDiv = document.currentScript.previousElementSibling;\n",
       "    if (outputDiv.id !== \"altair-viz-02dc749ef3e7450bb0bc60d9989fc2c5\") {\n",
       "      outputDiv = document.getElementById(\"altair-viz-02dc749ef3e7450bb0bc60d9989fc2c5\");\n",
       "    }\n",
       "    const paths = {\n",
       "      \"vega\": \"https://cdn.jsdelivr.net/npm//vega@5?noext\",\n",
       "      \"vega-lib\": \"https://cdn.jsdelivr.net/npm//vega-lib?noext\",\n",
       "      \"vega-lite\": \"https://cdn.jsdelivr.net/npm//vega-lite@4.17.0?noext\",\n",
       "      \"vega-embed\": \"https://cdn.jsdelivr.net/npm//vega-embed@6?noext\",\n",
       "    };\n",
       "\n",
       "    function maybeLoadScript(lib, version) {\n",
       "      var key = `${lib.replace(\"-\", \"\")}_version`;\n",
       "      return (VEGA_DEBUG[key] == version) ?\n",
       "        Promise.resolve(paths[lib]) :\n",
       "        new Promise(function(resolve, reject) {\n",
       "          var s = document.createElement('script');\n",
       "          document.getElementsByTagName(\"head\")[0].appendChild(s);\n",
       "          s.async = true;\n",
       "          s.onload = () => {\n",
       "            VEGA_DEBUG[key] = version;\n",
       "            return resolve(paths[lib]);\n",
       "          };\n",
       "          s.onerror = () => reject(`Error loading script: ${paths[lib]}`);\n",
       "          s.src = paths[lib];\n",
       "        });\n",
       "    }\n",
       "\n",
       "    function showError(err) {\n",
       "      outputDiv.innerHTML = `<div class=\"error\" style=\"color:red;\">${err}</div>`;\n",
       "      throw err;\n",
       "    }\n",
       "\n",
       "    function displayChart(vegaEmbed) {\n",
       "      vegaEmbed(outputDiv, spec, embedOpt)\n",
       "        .catch(err => showError(`Javascript Error: ${err.message}<br>This usually means there's a typo in your chart specification. See the javascript console for the full traceback.`));\n",
       "    }\n",
       "\n",
       "    if(typeof define === \"function\" && define.amd) {\n",
       "      requirejs.config({paths});\n",
       "      require([\"vega-embed\"], displayChart, err => showError(`Error loading script: ${err.message}`));\n",
       "    } else {\n",
       "      maybeLoadScript(\"vega\", \"5\")\n",
       "        .then(() => maybeLoadScript(\"vega-lite\", \"4.17.0\"))\n",
       "        .then(() => maybeLoadScript(\"vega-embed\", \"6\"))\n",
       "        .catch(showError)\n",
       "        .then(() => displayChart(vegaEmbed));\n",
       "    }\n",
       "  })({\"config\": {\"view\": {\"continuousWidth\": 400, \"continuousHeight\": 300}, \"axis\": {\"domainColor\": \"#cbcbcb\", \"grid\": true, \"gridColor\": \"#cbcbcb\", \"gridWidth\": 1, \"labelColor\": \"#474747\", \"labelFont\": \"Nunito Sans\", \"labelFontSize\": 10, \"labelPadding\": 4, \"tickColor\": \"#cbcbcb\", \"tickSize\": 10, \"titleColor\": \"#333\", \"titleFont\": \"Raleway\", \"titleFontSize\": 12, \"titlePadding\": 10}, \"axisBand\": {\"grid\": false}, \"background\": \"white\", \"font\": \"Raleway\", \"header\": {\"labelFont\": \"Nunito Sans\", \"titleFont\": \"Raleway\"}, \"legend\": {\"labelColor\": \"#333\", \"labelFont\": \"Nunito Sans\", \"labelFontSize\": 11, \"labelLimit\": 0, \"padding\": 1, \"symbolSize\": 30, \"symbolType\": \"square\", \"titleColor\": \"#333\", \"titleFont\": \"Raleway\", \"titleFontSize\": 14, \"titlePadding\": 10}, \"title\": {\"anchor\": \"middle\", \"font\": \"Raleway\", \"fontSize\": 18, \"fontWeight\": 300, \"offset\": 20}}, \"data\": {\"name\": \"data-b3e568d3cf467ebb91247235411120dd\"}, \"mark\": \"bar\", \"encoding\": {\"color\": {\"field\": \"reporting_category\", \"legend\": {\"symbolLimit\": 10, \"title\": \"Reporting Category\"}, \"scale\": {\"range\": [\"#2EA8CE\", \"#EB9F3C\", \"#F4D837\", \"#51BF9D\", \"#8CBCCB\", \"#9487C0\"]}, \"type\": \"nominal\"}, \"x\": {\"field\": \"caltrans_district\", \"sort\": \"-y\", \"title\": \"Caltrans District\", \"type\": \"nominal\"}, \"y\": {\"field\": \"n\", \"title\": \"Count\", \"type\": \"quantitative\"}}, \"height\": 250, \"title\": \"Organizations Reporting Category by District\", \"width\": 400, \"$schema\": \"https://vega.github.io/schema/vega-lite/v4.17.0.json\", \"datasets\": {\"data-b3e568d3cf467ebb91247235411120dd\": [{\"caltrans_district\": \"01 - Eureka\", \"reporting_category\": \"Core\", \"n\": 7}, {\"caltrans_district\": \"02 - Redding\", \"reporting_category\": \"Core\", \"n\": 7}, {\"caltrans_district\": \"02 - Redding\", \"reporting_category\": \"Other Public Transit\", \"n\": 1}, {\"caltrans_district\": \"03 - Marysville\", \"reporting_category\": \"Core\", \"n\": 13}, {\"caltrans_district\": \"03 - Marysville\", \"reporting_category\": \"Other Public Transit\", \"n\": 5}, {\"caltrans_district\": \"04 - Oakland\", \"reporting_category\": \"Core\", \"n\": 23}, {\"caltrans_district\": \"04 - Oakland\", \"reporting_category\": \"Other Public Transit\", \"n\": 11}, {\"caltrans_district\": \"05 - San Luis Obispo\", \"reporting_category\": \"Core\", \"n\": 11}, {\"caltrans_district\": \"05 - San Luis Obispo\", \"reporting_category\": \"Other Public Transit\", \"n\": 2}, {\"caltrans_district\": \"06 - Fresno\", \"reporting_category\": \"Core\", \"n\": 12}, {\"caltrans_district\": \"06 - Fresno\", \"reporting_category\": \"Other Public Transit\", \"n\": 2}, {\"caltrans_district\": \"07 - Los Angeles\", \"reporting_category\": \"Core\", \"n\": 49}, {\"caltrans_district\": \"07 - Los Angeles\", \"reporting_category\": \"Other Public Transit\", \"n\": 6}, {\"caltrans_district\": \"08 - San Bernardino\", \"reporting_category\": \"Core\", \"n\": 6}, {\"caltrans_district\": \"08 - San Bernardino\", \"reporting_category\": \"Other Public Transit\", \"n\": 5}, {\"caltrans_district\": \"09 - Bishop\", \"reporting_category\": \"Core\", \"n\": 2}, {\"caltrans_district\": \"10 - Stockton\", \"reporting_category\": \"Core\", \"n\": 12}, {\"caltrans_district\": \"10 - Stockton\", \"reporting_category\": \"Other Public Transit\", \"n\": 2}, {\"caltrans_district\": \"11 - San Diego\", \"reporting_category\": \"Core\", \"n\": 4}, {\"caltrans_district\": \"11 - San Diego\", \"reporting_category\": \"Other Public Transit\", \"n\": 2}, {\"caltrans_district\": \"12 - Irvine\", \"reporting_category\": \"Core\", \"n\": 3}, {\"caltrans_district\": \"12 - Irvine\", \"reporting_category\": \"Other Public Transit\", \"n\": 3}]}}, {\"mode\": \"vega-lite\"});\n",
       "</script>"
      ],
      "text/plain": [
       "alt.Chart(...)"
      ]
     },
     "execution_count": 91,
     "metadata": {},
     "output_type": "execute_result"
    }
   ],
   "source": [
    "(_dla_utils.bar_chart_nosubset((df>>group_by(_.caltrans_district)>>count(_.reporting_category)),\n",
    "                               'caltrans_district',\n",
    "                               'n',\n",
    "                               'reporting_category',\n",
    "                               chart_title='Organizations Reporting Category by District'))"
   ]
  },
  {
   "cell_type": "code",
   "execution_count": 92,
   "id": "249def77-a5c4-466c-8944-8ea3dd964b4c",
   "metadata": {},
   "outputs": [
    {
     "data": {
      "text/html": [
       "\n",
       "<div id=\"altair-viz-1f7d53287657424093a8e941874b69a7\"></div>\n",
       "<script type=\"text/javascript\">\n",
       "  var VEGA_DEBUG = (typeof VEGA_DEBUG == \"undefined\") ? {} : VEGA_DEBUG;\n",
       "  (function(spec, embedOpt){\n",
       "    let outputDiv = document.currentScript.previousElementSibling;\n",
       "    if (outputDiv.id !== \"altair-viz-1f7d53287657424093a8e941874b69a7\") {\n",
       "      outputDiv = document.getElementById(\"altair-viz-1f7d53287657424093a8e941874b69a7\");\n",
       "    }\n",
       "    const paths = {\n",
       "      \"vega\": \"https://cdn.jsdelivr.net/npm//vega@5?noext\",\n",
       "      \"vega-lib\": \"https://cdn.jsdelivr.net/npm//vega-lib?noext\",\n",
       "      \"vega-lite\": \"https://cdn.jsdelivr.net/npm//vega-lite@4.17.0?noext\",\n",
       "      \"vega-embed\": \"https://cdn.jsdelivr.net/npm//vega-embed@6?noext\",\n",
       "    };\n",
       "\n",
       "    function maybeLoadScript(lib, version) {\n",
       "      var key = `${lib.replace(\"-\", \"\")}_version`;\n",
       "      return (VEGA_DEBUG[key] == version) ?\n",
       "        Promise.resolve(paths[lib]) :\n",
       "        new Promise(function(resolve, reject) {\n",
       "          var s = document.createElement('script');\n",
       "          document.getElementsByTagName(\"head\")[0].appendChild(s);\n",
       "          s.async = true;\n",
       "          s.onload = () => {\n",
       "            VEGA_DEBUG[key] = version;\n",
       "            return resolve(paths[lib]);\n",
       "          };\n",
       "          s.onerror = () => reject(`Error loading script: ${paths[lib]}`);\n",
       "          s.src = paths[lib];\n",
       "        });\n",
       "    }\n",
       "\n",
       "    function showError(err) {\n",
       "      outputDiv.innerHTML = `<div class=\"error\" style=\"color:red;\">${err}</div>`;\n",
       "      throw err;\n",
       "    }\n",
       "\n",
       "    function displayChart(vegaEmbed) {\n",
       "      vegaEmbed(outputDiv, spec, embedOpt)\n",
       "        .catch(err => showError(`Javascript Error: ${err.message}<br>This usually means there's a typo in your chart specification. See the javascript console for the full traceback.`));\n",
       "    }\n",
       "\n",
       "    if(typeof define === \"function\" && define.amd) {\n",
       "      requirejs.config({paths});\n",
       "      require([\"vega-embed\"], displayChart, err => showError(`Error loading script: ${err.message}`));\n",
       "    } else {\n",
       "      maybeLoadScript(\"vega\", \"5\")\n",
       "        .then(() => maybeLoadScript(\"vega-lite\", \"4.17.0\"))\n",
       "        .then(() => maybeLoadScript(\"vega-embed\", \"6\"))\n",
       "        .catch(showError)\n",
       "        .then(() => displayChart(vegaEmbed));\n",
       "    }\n",
       "  })({\"config\": {\"view\": {\"continuousWidth\": 400, \"continuousHeight\": 300}, \"axis\": {\"domainColor\": \"#cbcbcb\", \"grid\": true, \"gridColor\": \"#cbcbcb\", \"gridWidth\": 1, \"labelColor\": \"#474747\", \"labelFont\": \"Nunito Sans\", \"labelFontSize\": 10, \"labelPadding\": 4, \"tickColor\": \"#cbcbcb\", \"tickSize\": 10, \"titleColor\": \"#333\", \"titleFont\": \"Raleway\", \"titleFontSize\": 12, \"titlePadding\": 10}, \"axisBand\": {\"grid\": false}, \"background\": \"white\", \"font\": \"Raleway\", \"header\": {\"labelFont\": \"Nunito Sans\", \"titleFont\": \"Raleway\"}, \"legend\": {\"labelColor\": \"#333\", \"labelFont\": \"Nunito Sans\", \"labelFontSize\": 11, \"labelLimit\": 0, \"padding\": 1, \"symbolSize\": 30, \"symbolType\": \"square\", \"titleColor\": \"#333\", \"titleFont\": \"Raleway\", \"titleFontSize\": 14, \"titlePadding\": 10}, \"title\": {\"anchor\": \"middle\", \"font\": \"Raleway\", \"fontSize\": 18, \"fontWeight\": 300, \"offset\": 20}}, \"data\": {\"name\": \"data-fb29764aa841cdcf98b59dfa9858a4e1\"}, \"mark\": \"bar\", \"encoding\": {\"color\": {\"field\": \"organization_type\", \"legend\": {\"symbolLimit\": 10, \"title\": \"Organization Type\"}, \"scale\": {\"range\": [\"#2EA8CE\", \"#EB9F3C\", \"#F4D837\", \"#51BF9D\", \"#8CBCCB\", \"#9487C0\"]}, \"type\": \"nominal\"}, \"x\": {\"field\": \"caltrans_district\", \"sort\": \"-y\", \"title\": \"Caltrans District\", \"type\": \"nominal\"}, \"y\": {\"field\": \"n\", \"title\": \"Count\", \"type\": \"quantitative\"}}, \"height\": 250, \"title\": \"Organizations Type by District\", \"width\": 400, \"$schema\": \"https://vega.github.io/schema/vega-lite/v4.17.0.json\", \"datasets\": {\"data-fb29764aa841cdcf98b59dfa9858a4e1\": [{\"caltrans_district\": \"01 - Eureka\", \"organization_type\": \"City/Town\", \"n\": 2}, {\"caltrans_district\": \"01 - Eureka\", \"organization_type\": \"Independent Agency\", \"n\": 4}, {\"caltrans_district\": \"01 - Eureka\", \"organization_type\": \"Tribe\", \"n\": 1}, {\"caltrans_district\": \"02 - Redding\", \"organization_type\": \"County\", \"n\": 3}, {\"caltrans_district\": \"02 - Redding\", \"organization_type\": \"Independent Agency\", \"n\": 4}, {\"caltrans_district\": \"02 - Redding\", \"organization_type\": \"Non-Profit Organization\", \"n\": 1}, {\"caltrans_district\": \"03 - Marysville\", \"organization_type\": \"City/Town\", \"n\": 3}, {\"caltrans_district\": \"03 - Marysville\", \"organization_type\": \"County\", \"n\": 4}, {\"caltrans_district\": \"03 - Marysville\", \"organization_type\": \"Federal Government\", \"n\": 1}, {\"caltrans_district\": \"03 - Marysville\", \"organization_type\": \"Independent Agency\", \"n\": 6}, {\"caltrans_district\": \"03 - Marysville\", \"organization_type\": \"Joint Powers Agency\", \"n\": 1}, {\"caltrans_district\": \"03 - Marysville\", \"organization_type\": \"University - Public\", \"n\": 2}, {\"caltrans_district\": \"04 - Oakland\", \"organization_type\": \"City/Town\", \"n\": 9}, {\"caltrans_district\": \"04 - Oakland\", \"organization_type\": \"County\", \"n\": 1}, {\"caltrans_district\": \"04 - Oakland\", \"organization_type\": \"Independent Agency\", \"n\": 16}, {\"caltrans_district\": \"04 - Oakland\", \"organization_type\": \"Non-Profit Organization\", \"n\": 2}, {\"caltrans_district\": \"04 - Oakland\", \"organization_type\": \"University - Public\", \"n\": 2}, {\"caltrans_district\": \"05 - San Luis Obispo\", \"organization_type\": \"City/Town\", \"n\": 6}, {\"caltrans_district\": \"05 - San Luis Obispo\", \"organization_type\": \"Independent Agency\", \"n\": 5}, {\"caltrans_district\": \"05 - San Luis Obispo\", \"organization_type\": \"University - Public\", \"n\": 1}, {\"caltrans_district\": \"06 - Fresno\", \"organization_type\": \"City/Town\", \"n\": 8}, {\"caltrans_district\": \"06 - Fresno\", \"organization_type\": \"County\", \"n\": 2}, {\"caltrans_district\": \"06 - Fresno\", \"organization_type\": \"Independent Agency\", \"n\": 3}, {\"caltrans_district\": \"06 - Fresno\", \"organization_type\": \"Joint Powers Agency\", \"n\": 1}, {\"caltrans_district\": \"07 - Los Angeles\", \"organization_type\": \"City/Town\", \"n\": 44}, {\"caltrans_district\": \"07 - Los Angeles\", \"organization_type\": \"County\", \"n\": 1}, {\"caltrans_district\": \"07 - Los Angeles\", \"organization_type\": \"Independent Agency\", \"n\": 8}, {\"caltrans_district\": \"07 - Los Angeles\", \"organization_type\": \"University - Public\", \"n\": 2}, {\"caltrans_district\": \"08 - San Bernardino\", \"organization_type\": \"City/Town\", \"n\": 3}, {\"caltrans_district\": \"08 - San Bernardino\", \"organization_type\": \"Independent Agency\", \"n\": 7}, {\"caltrans_district\": \"09 - Bishop\", \"organization_type\": \"City/Town\", \"n\": 1}, {\"caltrans_district\": \"09 - Bishop\", \"organization_type\": \"Independent Agency\", \"n\": 1}, {\"caltrans_district\": \"10 - Stockton\", \"organization_type\": \"City/Town\", \"n\": 5}, {\"caltrans_district\": \"10 - Stockton\", \"organization_type\": \"County\", \"n\": 1}, {\"caltrans_district\": \"10 - Stockton\", \"organization_type\": \"Independent Agency\", \"n\": 6}, {\"caltrans_district\": \"10 - Stockton\", \"organization_type\": \"University - Public\", \"n\": 1}, {\"caltrans_district\": \"11 - San Diego\", \"organization_type\": \"Independent Agency\", \"n\": 5}, {\"caltrans_district\": \"11 - San Diego\", \"organization_type\": \"University - Public\", \"n\": 1}, {\"caltrans_district\": \"12 - Irvine\", \"organization_type\": \"City/Town\", \"n\": 4}, {\"caltrans_district\": \"12 - Irvine\", \"organization_type\": \"Independent Agency\", \"n\": 1}]}}, {\"mode\": \"vega-lite\"});\n",
       "</script>"
      ],
      "text/plain": [
       "alt.Chart(...)"
      ]
     },
     "execution_count": 92,
     "metadata": {},
     "output_type": "execute_result"
    }
   ],
   "source": [
    "(_dla_utils.bar_chart_nosubset((df>>group_by(_.caltrans_district)>>count(_.organization_type)),\n",
    "                               'caltrans_district',\n",
    "                               'n',\n",
    "                               'organization_type',\n",
    "                               chart_title='Organizations Type by District'))"
   ]
  },
  {
   "cell_type": "code",
   "execution_count": null,
   "id": "5b6bc488-e7e9-4604-b658-f7fbae7469db",
   "metadata": {},
   "outputs": [],
   "source": []
  },
  {
   "cell_type": "markdown",
   "id": "46e0034a-ea90-413f-9e98-2b39cf3837c9",
   "metadata": {},
   "source": [
    "## What Percent of Organizations are GTFS Compliant by District?"
   ]
  },
  {
   "cell_type": "code",
   "execution_count": 50,
   "id": "5b0fcfe2-73b2-4b84-a95a-4f258089c9fa",
   "metadata": {},
   "outputs": [
    {
     "data": {
      "text/html": [
       "\n",
       "<div id=\"altair-viz-a27cbad85c0e41d4a871c4ce46e4cfb0\"></div>\n",
       "<script type=\"text/javascript\">\n",
       "  var VEGA_DEBUG = (typeof VEGA_DEBUG == \"undefined\") ? {} : VEGA_DEBUG;\n",
       "  (function(spec, embedOpt){\n",
       "    let outputDiv = document.currentScript.previousElementSibling;\n",
       "    if (outputDiv.id !== \"altair-viz-a27cbad85c0e41d4a871c4ce46e4cfb0\") {\n",
       "      outputDiv = document.getElementById(\"altair-viz-a27cbad85c0e41d4a871c4ce46e4cfb0\");\n",
       "    }\n",
       "    const paths = {\n",
       "      \"vega\": \"https://cdn.jsdelivr.net/npm//vega@5?noext\",\n",
       "      \"vega-lib\": \"https://cdn.jsdelivr.net/npm//vega-lib?noext\",\n",
       "      \"vega-lite\": \"https://cdn.jsdelivr.net/npm//vega-lite@4.17.0?noext\",\n",
       "      \"vega-embed\": \"https://cdn.jsdelivr.net/npm//vega-embed@6?noext\",\n",
       "    };\n",
       "\n",
       "    function maybeLoadScript(lib, version) {\n",
       "      var key = `${lib.replace(\"-\", \"\")}_version`;\n",
       "      return (VEGA_DEBUG[key] == version) ?\n",
       "        Promise.resolve(paths[lib]) :\n",
       "        new Promise(function(resolve, reject) {\n",
       "          var s = document.createElement('script');\n",
       "          document.getElementsByTagName(\"head\")[0].appendChild(s);\n",
       "          s.async = true;\n",
       "          s.onload = () => {\n",
       "            VEGA_DEBUG[key] = version;\n",
       "            return resolve(paths[lib]);\n",
       "          };\n",
       "          s.onerror = () => reject(`Error loading script: ${paths[lib]}`);\n",
       "          s.src = paths[lib];\n",
       "        });\n",
       "    }\n",
       "\n",
       "    function showError(err) {\n",
       "      outputDiv.innerHTML = `<div class=\"error\" style=\"color:red;\">${err}</div>`;\n",
       "      throw err;\n",
       "    }\n",
       "\n",
       "    function displayChart(vegaEmbed) {\n",
       "      vegaEmbed(outputDiv, spec, embedOpt)\n",
       "        .catch(err => showError(`Javascript Error: ${err.message}<br>This usually means there's a typo in your chart specification. See the javascript console for the full traceback.`));\n",
       "    }\n",
       "\n",
       "    if(typeof define === \"function\" && define.amd) {\n",
       "      requirejs.config({paths});\n",
       "      require([\"vega-embed\"], displayChart, err => showError(`Error loading script: ${err.message}`));\n",
       "    } else {\n",
       "      maybeLoadScript(\"vega\", \"5\")\n",
       "        .then(() => maybeLoadScript(\"vega-lite\", \"4.17.0\"))\n",
       "        .then(() => maybeLoadScript(\"vega-embed\", \"6\"))\n",
       "        .catch(showError)\n",
       "        .then(() => displayChart(vegaEmbed));\n",
       "    }\n",
       "  })({\"config\": {\"view\": {\"continuousWidth\": 400, \"continuousHeight\": 300}, \"axis\": {\"domainColor\": \"#cbcbcb\", \"grid\": true, \"gridColor\": \"#cbcbcb\", \"gridWidth\": 1, \"labelColor\": \"#474747\", \"labelFont\": \"Nunito Sans\", \"labelFontSize\": 10, \"labelPadding\": 4, \"tickColor\": \"#cbcbcb\", \"tickSize\": 10, \"titleColor\": \"#333\", \"titleFont\": \"Raleway\", \"titleFontSize\": 12, \"titlePadding\": 10}, \"axisBand\": {\"grid\": false}, \"background\": \"white\", \"font\": \"Raleway\", \"header\": {\"labelFont\": \"Nunito Sans\", \"titleFont\": \"Raleway\"}, \"legend\": {\"labelColor\": \"#333\", \"labelFont\": \"Nunito Sans\", \"labelFontSize\": 11, \"labelLimit\": 0, \"padding\": 1, \"symbolSize\": 30, \"symbolType\": \"square\", \"titleColor\": \"#333\", \"titleFont\": \"Raleway\", \"titleFontSize\": 14, \"titlePadding\": 10}, \"title\": {\"anchor\": \"middle\", \"font\": \"Raleway\", \"fontSize\": 18, \"fontWeight\": 300, \"offset\": 20}}, \"data\": {\"name\": \"data-c473bcca8c024e48e70ec284964d40be\"}, \"mark\": \"bar\", \"encoding\": {\"color\": {\"field\": \"caltrans_district\", \"legend\": {\"symbolLimit\": 10, \"title\": \"Caltrans District\"}, \"scale\": {\"range\": [\"#2EA8CE\", \"#EB9F3C\", \"#F4D837\", \"#51BF9D\", \"#8CBCCB\", \"#9487C0\"]}, \"type\": \"nominal\"}, \"x\": {\"field\": \"caltrans_district\", \"sort\": \"-y\", \"title\": \"Caltrans District\", \"type\": \"nominal\"}, \"y\": {\"field\": \"org_count\", \"title\": \"Org Count\", \"type\": \"quantitative\"}}, \"height\": 250, \"title\": \"Number of Organizations by District\", \"width\": 400, \"$schema\": \"https://vega.github.io/schema/vega-lite/v4.17.0.json\", \"datasets\": {\"data-c473bcca8c024e48e70ec284964d40be\": [{\"caltrans_district\": null, \"org_count\": 1, \"gtfs_static_count\": 0, \"gtfs_rt_count\": 0, \"percent_static\": 0.0, \"percent_rt\": 0.0}, {\"caltrans_district\": \"01 - Eureka\", \"org_count\": 7, \"gtfs_static_count\": 7, \"gtfs_rt_count\": 5, \"percent_static\": 100.0, \"percent_rt\": 71.42857142857143}, {\"caltrans_district\": \"02 - Redding\", \"org_count\": 8, \"gtfs_static_count\": 7, \"gtfs_rt_count\": 2, \"percent_static\": 87.5, \"percent_rt\": 25.0}, {\"caltrans_district\": \"03 - Marysville\", \"org_count\": 18, \"gtfs_static_count\": 15, \"gtfs_rt_count\": 5, \"percent_static\": 83.33333333333334, \"percent_rt\": 27.77777777777778}, {\"caltrans_district\": \"04 - Oakland\", \"org_count\": 34, \"gtfs_static_count\": 24, \"gtfs_rt_count\": 14, \"percent_static\": 70.58823529411765, \"percent_rt\": 41.17647058823529}, {\"caltrans_district\": \"05 - San Luis Obispo\", \"org_count\": 13, \"gtfs_static_count\": 11, \"gtfs_rt_count\": 3, \"percent_static\": 84.61538461538461, \"percent_rt\": 23.076923076923077}, {\"caltrans_district\": \"06 - Fresno\", \"org_count\": 14, \"gtfs_static_count\": 12, \"gtfs_rt_count\": 4, \"percent_static\": 85.71428571428571, \"percent_rt\": 28.57142857142857}, {\"caltrans_district\": \"07 - Los Angeles\", \"org_count\": 55, \"gtfs_static_count\": 47, \"gtfs_rt_count\": 19, \"percent_static\": 85.45454545454545, \"percent_rt\": 34.54545454545455}, {\"caltrans_district\": \"08 - San Bernardino\", \"org_count\": 11, \"gtfs_static_count\": 11, \"gtfs_rt_count\": 5, \"percent_static\": 100.0, \"percent_rt\": 45.45454545454545}, {\"caltrans_district\": \"09 - Bishop\", \"org_count\": 2, \"gtfs_static_count\": 2, \"gtfs_rt_count\": 2, \"percent_static\": 100.0, \"percent_rt\": 100.0}, {\"caltrans_district\": \"10 - Stockton\", \"org_count\": 14, \"gtfs_static_count\": 13, \"gtfs_rt_count\": 4, \"percent_static\": 92.85714285714286, \"percent_rt\": 28.57142857142857}, {\"caltrans_district\": \"11 - San Diego\", \"org_count\": 6, \"gtfs_static_count\": 4, \"gtfs_rt_count\": 1, \"percent_static\": 66.66666666666666, \"percent_rt\": 16.666666666666664}, {\"caltrans_district\": \"12 - Irvine\", \"org_count\": 6, \"gtfs_static_count\": 6, \"gtfs_rt_count\": 2, \"percent_static\": 100.0, \"percent_rt\": 33.33333333333333}]}}, {\"mode\": \"vega-lite\"});\n",
       "</script>"
      ],
      "text/plain": [
       "alt.Chart(...)"
      ]
     },
     "execution_count": 50,
     "metadata": {},
     "output_type": "execute_result"
    }
   ],
   "source": [
    "(_dla_utils.bar_chart_nosubset(pct_gtfs,\n",
    "                               'caltrans_district',\n",
    "                               'org_count',\n",
    "                               'caltrans_district',\n",
    "                               chart_title='Number of Organizations by District'))"
   ]
  },
  {
   "cell_type": "code",
   "execution_count": 52,
   "id": "6d418152-2df0-4035-835e-46f4a26aa4c8",
   "metadata": {},
   "outputs": [
    {
     "data": {
      "text/html": [
       "\n",
       "<div id=\"altair-viz-4f1b0a5ef6eb42d2b2979323839fa47a\"></div>\n",
       "<script type=\"text/javascript\">\n",
       "  var VEGA_DEBUG = (typeof VEGA_DEBUG == \"undefined\") ? {} : VEGA_DEBUG;\n",
       "  (function(spec, embedOpt){\n",
       "    let outputDiv = document.currentScript.previousElementSibling;\n",
       "    if (outputDiv.id !== \"altair-viz-4f1b0a5ef6eb42d2b2979323839fa47a\") {\n",
       "      outputDiv = document.getElementById(\"altair-viz-4f1b0a5ef6eb42d2b2979323839fa47a\");\n",
       "    }\n",
       "    const paths = {\n",
       "      \"vega\": \"https://cdn.jsdelivr.net/npm//vega@5?noext\",\n",
       "      \"vega-lib\": \"https://cdn.jsdelivr.net/npm//vega-lib?noext\",\n",
       "      \"vega-lite\": \"https://cdn.jsdelivr.net/npm//vega-lite@4.17.0?noext\",\n",
       "      \"vega-embed\": \"https://cdn.jsdelivr.net/npm//vega-embed@6?noext\",\n",
       "    };\n",
       "\n",
       "    function maybeLoadScript(lib, version) {\n",
       "      var key = `${lib.replace(\"-\", \"\")}_version`;\n",
       "      return (VEGA_DEBUG[key] == version) ?\n",
       "        Promise.resolve(paths[lib]) :\n",
       "        new Promise(function(resolve, reject) {\n",
       "          var s = document.createElement('script');\n",
       "          document.getElementsByTagName(\"head\")[0].appendChild(s);\n",
       "          s.async = true;\n",
       "          s.onload = () => {\n",
       "            VEGA_DEBUG[key] = version;\n",
       "            return resolve(paths[lib]);\n",
       "          };\n",
       "          s.onerror = () => reject(`Error loading script: ${paths[lib]}`);\n",
       "          s.src = paths[lib];\n",
       "        });\n",
       "    }\n",
       "\n",
       "    function showError(err) {\n",
       "      outputDiv.innerHTML = `<div class=\"error\" style=\"color:red;\">${err}</div>`;\n",
       "      throw err;\n",
       "    }\n",
       "\n",
       "    function displayChart(vegaEmbed) {\n",
       "      vegaEmbed(outputDiv, spec, embedOpt)\n",
       "        .catch(err => showError(`Javascript Error: ${err.message}<br>This usually means there's a typo in your chart specification. See the javascript console for the full traceback.`));\n",
       "    }\n",
       "\n",
       "    if(typeof define === \"function\" && define.amd) {\n",
       "      requirejs.config({paths});\n",
       "      require([\"vega-embed\"], displayChart, err => showError(`Error loading script: ${err.message}`));\n",
       "    } else {\n",
       "      maybeLoadScript(\"vega\", \"5\")\n",
       "        .then(() => maybeLoadScript(\"vega-lite\", \"4.17.0\"))\n",
       "        .then(() => maybeLoadScript(\"vega-embed\", \"6\"))\n",
       "        .catch(showError)\n",
       "        .then(() => displayChart(vegaEmbed));\n",
       "    }\n",
       "  })({\"config\": {\"view\": {\"continuousWidth\": 400, \"continuousHeight\": 300}, \"axis\": {\"domainColor\": \"#cbcbcb\", \"grid\": true, \"gridColor\": \"#cbcbcb\", \"gridWidth\": 1, \"labelColor\": \"#474747\", \"labelFont\": \"Nunito Sans\", \"labelFontSize\": 10, \"labelPadding\": 4, \"tickColor\": \"#cbcbcb\", \"tickSize\": 10, \"titleColor\": \"#333\", \"titleFont\": \"Raleway\", \"titleFontSize\": 12, \"titlePadding\": 10}, \"axisBand\": {\"grid\": false}, \"background\": \"white\", \"font\": \"Raleway\", \"header\": {\"labelFont\": \"Nunito Sans\", \"titleFont\": \"Raleway\"}, \"legend\": {\"labelColor\": \"#333\", \"labelFont\": \"Nunito Sans\", \"labelFontSize\": 11, \"labelLimit\": 0, \"padding\": 1, \"symbolSize\": 30, \"symbolType\": \"square\", \"titleColor\": \"#333\", \"titleFont\": \"Raleway\", \"titleFontSize\": 14, \"titlePadding\": 10}, \"title\": {\"anchor\": \"middle\", \"font\": \"Raleway\", \"fontSize\": 18, \"fontWeight\": 300, \"offset\": 20}}, \"data\": {\"name\": \"data-c473bcca8c024e48e70ec284964d40be\"}, \"mark\": \"bar\", \"encoding\": {\"color\": {\"field\": \"caltrans_district\", \"legend\": {\"symbolLimit\": 10, \"title\": \"Caltrans District\"}, \"scale\": {\"range\": [\"#2EA8CE\", \"#EB9F3C\", \"#F4D837\", \"#51BF9D\", \"#8CBCCB\", \"#9487C0\"]}, \"type\": \"nominal\"}, \"x\": {\"field\": \"caltrans_district\", \"sort\": \"-y\", \"title\": \"Caltrans District\", \"type\": \"nominal\"}, \"y\": {\"field\": \"gtfs_static_count\", \"title\": \"Gtfs Static Count\", \"type\": \"quantitative\"}}, \"height\": 250, \"title\": \"Number of GTFS Static Compliant Organizations by District\", \"width\": 400, \"$schema\": \"https://vega.github.io/schema/vega-lite/v4.17.0.json\", \"datasets\": {\"data-c473bcca8c024e48e70ec284964d40be\": [{\"caltrans_district\": null, \"org_count\": 1, \"gtfs_static_count\": 0, \"gtfs_rt_count\": 0, \"percent_static\": 0.0, \"percent_rt\": 0.0}, {\"caltrans_district\": \"01 - Eureka\", \"org_count\": 7, \"gtfs_static_count\": 7, \"gtfs_rt_count\": 5, \"percent_static\": 100.0, \"percent_rt\": 71.42857142857143}, {\"caltrans_district\": \"02 - Redding\", \"org_count\": 8, \"gtfs_static_count\": 7, \"gtfs_rt_count\": 2, \"percent_static\": 87.5, \"percent_rt\": 25.0}, {\"caltrans_district\": \"03 - Marysville\", \"org_count\": 18, \"gtfs_static_count\": 15, \"gtfs_rt_count\": 5, \"percent_static\": 83.33333333333334, \"percent_rt\": 27.77777777777778}, {\"caltrans_district\": \"04 - Oakland\", \"org_count\": 34, \"gtfs_static_count\": 24, \"gtfs_rt_count\": 14, \"percent_static\": 70.58823529411765, \"percent_rt\": 41.17647058823529}, {\"caltrans_district\": \"05 - San Luis Obispo\", \"org_count\": 13, \"gtfs_static_count\": 11, \"gtfs_rt_count\": 3, \"percent_static\": 84.61538461538461, \"percent_rt\": 23.076923076923077}, {\"caltrans_district\": \"06 - Fresno\", \"org_count\": 14, \"gtfs_static_count\": 12, \"gtfs_rt_count\": 4, \"percent_static\": 85.71428571428571, \"percent_rt\": 28.57142857142857}, {\"caltrans_district\": \"07 - Los Angeles\", \"org_count\": 55, \"gtfs_static_count\": 47, \"gtfs_rt_count\": 19, \"percent_static\": 85.45454545454545, \"percent_rt\": 34.54545454545455}, {\"caltrans_district\": \"08 - San Bernardino\", \"org_count\": 11, \"gtfs_static_count\": 11, \"gtfs_rt_count\": 5, \"percent_static\": 100.0, \"percent_rt\": 45.45454545454545}, {\"caltrans_district\": \"09 - Bishop\", \"org_count\": 2, \"gtfs_static_count\": 2, \"gtfs_rt_count\": 2, \"percent_static\": 100.0, \"percent_rt\": 100.0}, {\"caltrans_district\": \"10 - Stockton\", \"org_count\": 14, \"gtfs_static_count\": 13, \"gtfs_rt_count\": 4, \"percent_static\": 92.85714285714286, \"percent_rt\": 28.57142857142857}, {\"caltrans_district\": \"11 - San Diego\", \"org_count\": 6, \"gtfs_static_count\": 4, \"gtfs_rt_count\": 1, \"percent_static\": 66.66666666666666, \"percent_rt\": 16.666666666666664}, {\"caltrans_district\": \"12 - Irvine\", \"org_count\": 6, \"gtfs_static_count\": 6, \"gtfs_rt_count\": 2, \"percent_static\": 100.0, \"percent_rt\": 33.33333333333333}]}}, {\"mode\": \"vega-lite\"});\n",
       "</script>"
      ],
      "text/plain": [
       "alt.Chart(...)"
      ]
     },
     "execution_count": 52,
     "metadata": {},
     "output_type": "execute_result"
    }
   ],
   "source": [
    "(_dla_utils.bar_chart_nosubset(pct_gtfs,\n",
    "                               'caltrans_district',\n",
    "                               'gtfs_static_count',\n",
    "                               'caltrans_district',\n",
    "                               chart_title='Number of GTFS Static Compliant Organizations by District'))"
   ]
  },
  {
   "cell_type": "code",
   "execution_count": 53,
   "id": "8280e0c7-33cd-48b4-9235-715e91939928",
   "metadata": {},
   "outputs": [
    {
     "data": {
      "text/html": [
       "\n",
       "<div id=\"altair-viz-f93d1fead5d0431bbf6fa919dc203280\"></div>\n",
       "<script type=\"text/javascript\">\n",
       "  var VEGA_DEBUG = (typeof VEGA_DEBUG == \"undefined\") ? {} : VEGA_DEBUG;\n",
       "  (function(spec, embedOpt){\n",
       "    let outputDiv = document.currentScript.previousElementSibling;\n",
       "    if (outputDiv.id !== \"altair-viz-f93d1fead5d0431bbf6fa919dc203280\") {\n",
       "      outputDiv = document.getElementById(\"altair-viz-f93d1fead5d0431bbf6fa919dc203280\");\n",
       "    }\n",
       "    const paths = {\n",
       "      \"vega\": \"https://cdn.jsdelivr.net/npm//vega@5?noext\",\n",
       "      \"vega-lib\": \"https://cdn.jsdelivr.net/npm//vega-lib?noext\",\n",
       "      \"vega-lite\": \"https://cdn.jsdelivr.net/npm//vega-lite@4.17.0?noext\",\n",
       "      \"vega-embed\": \"https://cdn.jsdelivr.net/npm//vega-embed@6?noext\",\n",
       "    };\n",
       "\n",
       "    function maybeLoadScript(lib, version) {\n",
       "      var key = `${lib.replace(\"-\", \"\")}_version`;\n",
       "      return (VEGA_DEBUG[key] == version) ?\n",
       "        Promise.resolve(paths[lib]) :\n",
       "        new Promise(function(resolve, reject) {\n",
       "          var s = document.createElement('script');\n",
       "          document.getElementsByTagName(\"head\")[0].appendChild(s);\n",
       "          s.async = true;\n",
       "          s.onload = () => {\n",
       "            VEGA_DEBUG[key] = version;\n",
       "            return resolve(paths[lib]);\n",
       "          };\n",
       "          s.onerror = () => reject(`Error loading script: ${paths[lib]}`);\n",
       "          s.src = paths[lib];\n",
       "        });\n",
       "    }\n",
       "\n",
       "    function showError(err) {\n",
       "      outputDiv.innerHTML = `<div class=\"error\" style=\"color:red;\">${err}</div>`;\n",
       "      throw err;\n",
       "    }\n",
       "\n",
       "    function displayChart(vegaEmbed) {\n",
       "      vegaEmbed(outputDiv, spec, embedOpt)\n",
       "        .catch(err => showError(`Javascript Error: ${err.message}<br>This usually means there's a typo in your chart specification. See the javascript console for the full traceback.`));\n",
       "    }\n",
       "\n",
       "    if(typeof define === \"function\" && define.amd) {\n",
       "      requirejs.config({paths});\n",
       "      require([\"vega-embed\"], displayChart, err => showError(`Error loading script: ${err.message}`));\n",
       "    } else {\n",
       "      maybeLoadScript(\"vega\", \"5\")\n",
       "        .then(() => maybeLoadScript(\"vega-lite\", \"4.17.0\"))\n",
       "        .then(() => maybeLoadScript(\"vega-embed\", \"6\"))\n",
       "        .catch(showError)\n",
       "        .then(() => displayChart(vegaEmbed));\n",
       "    }\n",
       "  })({\"config\": {\"view\": {\"continuousWidth\": 400, \"continuousHeight\": 300}, \"axis\": {\"domainColor\": \"#cbcbcb\", \"grid\": true, \"gridColor\": \"#cbcbcb\", \"gridWidth\": 1, \"labelColor\": \"#474747\", \"labelFont\": \"Nunito Sans\", \"labelFontSize\": 10, \"labelPadding\": 4, \"tickColor\": \"#cbcbcb\", \"tickSize\": 10, \"titleColor\": \"#333\", \"titleFont\": \"Raleway\", \"titleFontSize\": 12, \"titlePadding\": 10}, \"axisBand\": {\"grid\": false}, \"background\": \"white\", \"font\": \"Raleway\", \"header\": {\"labelFont\": \"Nunito Sans\", \"titleFont\": \"Raleway\"}, \"legend\": {\"labelColor\": \"#333\", \"labelFont\": \"Nunito Sans\", \"labelFontSize\": 11, \"labelLimit\": 0, \"padding\": 1, \"symbolSize\": 30, \"symbolType\": \"square\", \"titleColor\": \"#333\", \"titleFont\": \"Raleway\", \"titleFontSize\": 14, \"titlePadding\": 10}, \"title\": {\"anchor\": \"middle\", \"font\": \"Raleway\", \"fontSize\": 18, \"fontWeight\": 300, \"offset\": 20}}, \"data\": {\"name\": \"data-c473bcca8c024e48e70ec284964d40be\"}, \"mark\": \"bar\", \"encoding\": {\"color\": {\"field\": \"caltrans_district\", \"legend\": {\"symbolLimit\": 10, \"title\": \"Caltrans District\"}, \"scale\": {\"range\": [\"#2EA8CE\", \"#EB9F3C\", \"#F4D837\", \"#51BF9D\", \"#8CBCCB\", \"#9487C0\"]}, \"type\": \"nominal\"}, \"x\": {\"field\": \"caltrans_district\", \"sort\": \"-y\", \"title\": \"Caltrans District\", \"type\": \"nominal\"}, \"y\": {\"field\": \"gtfs_rt_count\", \"title\": \"Gtfs Rt Count\", \"type\": \"quantitative\"}}, \"height\": 250, \"title\": \"Number of GTFS RT Compliant Organizations by District\", \"width\": 400, \"$schema\": \"https://vega.github.io/schema/vega-lite/v4.17.0.json\", \"datasets\": {\"data-c473bcca8c024e48e70ec284964d40be\": [{\"caltrans_district\": null, \"org_count\": 1, \"gtfs_static_count\": 0, \"gtfs_rt_count\": 0, \"percent_static\": 0.0, \"percent_rt\": 0.0}, {\"caltrans_district\": \"01 - Eureka\", \"org_count\": 7, \"gtfs_static_count\": 7, \"gtfs_rt_count\": 5, \"percent_static\": 100.0, \"percent_rt\": 71.42857142857143}, {\"caltrans_district\": \"02 - Redding\", \"org_count\": 8, \"gtfs_static_count\": 7, \"gtfs_rt_count\": 2, \"percent_static\": 87.5, \"percent_rt\": 25.0}, {\"caltrans_district\": \"03 - Marysville\", \"org_count\": 18, \"gtfs_static_count\": 15, \"gtfs_rt_count\": 5, \"percent_static\": 83.33333333333334, \"percent_rt\": 27.77777777777778}, {\"caltrans_district\": \"04 - Oakland\", \"org_count\": 34, \"gtfs_static_count\": 24, \"gtfs_rt_count\": 14, \"percent_static\": 70.58823529411765, \"percent_rt\": 41.17647058823529}, {\"caltrans_district\": \"05 - San Luis Obispo\", \"org_count\": 13, \"gtfs_static_count\": 11, \"gtfs_rt_count\": 3, \"percent_static\": 84.61538461538461, \"percent_rt\": 23.076923076923077}, {\"caltrans_district\": \"06 - Fresno\", \"org_count\": 14, \"gtfs_static_count\": 12, \"gtfs_rt_count\": 4, \"percent_static\": 85.71428571428571, \"percent_rt\": 28.57142857142857}, {\"caltrans_district\": \"07 - Los Angeles\", \"org_count\": 55, \"gtfs_static_count\": 47, \"gtfs_rt_count\": 19, \"percent_static\": 85.45454545454545, \"percent_rt\": 34.54545454545455}, {\"caltrans_district\": \"08 - San Bernardino\", \"org_count\": 11, \"gtfs_static_count\": 11, \"gtfs_rt_count\": 5, \"percent_static\": 100.0, \"percent_rt\": 45.45454545454545}, {\"caltrans_district\": \"09 - Bishop\", \"org_count\": 2, \"gtfs_static_count\": 2, \"gtfs_rt_count\": 2, \"percent_static\": 100.0, \"percent_rt\": 100.0}, {\"caltrans_district\": \"10 - Stockton\", \"org_count\": 14, \"gtfs_static_count\": 13, \"gtfs_rt_count\": 4, \"percent_static\": 92.85714285714286, \"percent_rt\": 28.57142857142857}, {\"caltrans_district\": \"11 - San Diego\", \"org_count\": 6, \"gtfs_static_count\": 4, \"gtfs_rt_count\": 1, \"percent_static\": 66.66666666666666, \"percent_rt\": 16.666666666666664}, {\"caltrans_district\": \"12 - Irvine\", \"org_count\": 6, \"gtfs_static_count\": 6, \"gtfs_rt_count\": 2, \"percent_static\": 100.0, \"percent_rt\": 33.33333333333333}]}}, {\"mode\": \"vega-lite\"});\n",
       "</script>"
      ],
      "text/plain": [
       "alt.Chart(...)"
      ]
     },
     "execution_count": 53,
     "metadata": {},
     "output_type": "execute_result"
    }
   ],
   "source": [
    "(_dla_utils.bar_chart_nosubset(pct_gtfs,\n",
    "                               'caltrans_district',\n",
    "                               'gtfs_rt_count',\n",
    "                               'caltrans_district',\n",
    "                               chart_title='Number of GTFS RT Compliant Organizations by District'))"
   ]
  },
  {
   "cell_type": "code",
   "execution_count": 55,
   "id": "4e3a5f98-5be2-427f-8878-cd6336ac49c9",
   "metadata": {},
   "outputs": [
    {
     "data": {
      "text/html": [
       "\n",
       "<div id=\"altair-viz-1777e86a6995441381dd4fe08732938d\"></div>\n",
       "<script type=\"text/javascript\">\n",
       "  var VEGA_DEBUG = (typeof VEGA_DEBUG == \"undefined\") ? {} : VEGA_DEBUG;\n",
       "  (function(spec, embedOpt){\n",
       "    let outputDiv = document.currentScript.previousElementSibling;\n",
       "    if (outputDiv.id !== \"altair-viz-1777e86a6995441381dd4fe08732938d\") {\n",
       "      outputDiv = document.getElementById(\"altair-viz-1777e86a6995441381dd4fe08732938d\");\n",
       "    }\n",
       "    const paths = {\n",
       "      \"vega\": \"https://cdn.jsdelivr.net/npm//vega@5?noext\",\n",
       "      \"vega-lib\": \"https://cdn.jsdelivr.net/npm//vega-lib?noext\",\n",
       "      \"vega-lite\": \"https://cdn.jsdelivr.net/npm//vega-lite@4.17.0?noext\",\n",
       "      \"vega-embed\": \"https://cdn.jsdelivr.net/npm//vega-embed@6?noext\",\n",
       "    };\n",
       "\n",
       "    function maybeLoadScript(lib, version) {\n",
       "      var key = `${lib.replace(\"-\", \"\")}_version`;\n",
       "      return (VEGA_DEBUG[key] == version) ?\n",
       "        Promise.resolve(paths[lib]) :\n",
       "        new Promise(function(resolve, reject) {\n",
       "          var s = document.createElement('script');\n",
       "          document.getElementsByTagName(\"head\")[0].appendChild(s);\n",
       "          s.async = true;\n",
       "          s.onload = () => {\n",
       "            VEGA_DEBUG[key] = version;\n",
       "            return resolve(paths[lib]);\n",
       "          };\n",
       "          s.onerror = () => reject(`Error loading script: ${paths[lib]}`);\n",
       "          s.src = paths[lib];\n",
       "        });\n",
       "    }\n",
       "\n",
       "    function showError(err) {\n",
       "      outputDiv.innerHTML = `<div class=\"error\" style=\"color:red;\">${err}</div>`;\n",
       "      throw err;\n",
       "    }\n",
       "\n",
       "    function displayChart(vegaEmbed) {\n",
       "      vegaEmbed(outputDiv, spec, embedOpt)\n",
       "        .catch(err => showError(`Javascript Error: ${err.message}<br>This usually means there's a typo in your chart specification. See the javascript console for the full traceback.`));\n",
       "    }\n",
       "\n",
       "    if(typeof define === \"function\" && define.amd) {\n",
       "      requirejs.config({paths});\n",
       "      require([\"vega-embed\"], displayChart, err => showError(`Error loading script: ${err.message}`));\n",
       "    } else {\n",
       "      maybeLoadScript(\"vega\", \"5\")\n",
       "        .then(() => maybeLoadScript(\"vega-lite\", \"4.17.0\"))\n",
       "        .then(() => maybeLoadScript(\"vega-embed\", \"6\"))\n",
       "        .catch(showError)\n",
       "        .then(() => displayChart(vegaEmbed));\n",
       "    }\n",
       "  })({\"config\": {\"view\": {\"continuousWidth\": 400, \"continuousHeight\": 300}, \"axis\": {\"domainColor\": \"#cbcbcb\", \"grid\": true, \"gridColor\": \"#cbcbcb\", \"gridWidth\": 1, \"labelColor\": \"#474747\", \"labelFont\": \"Nunito Sans\", \"labelFontSize\": 10, \"labelPadding\": 4, \"tickColor\": \"#cbcbcb\", \"tickSize\": 10, \"titleColor\": \"#333\", \"titleFont\": \"Raleway\", \"titleFontSize\": 12, \"titlePadding\": 10}, \"axisBand\": {\"grid\": false}, \"background\": \"white\", \"font\": \"Raleway\", \"header\": {\"labelFont\": \"Nunito Sans\", \"titleFont\": \"Raleway\"}, \"legend\": {\"labelColor\": \"#333\", \"labelFont\": \"Nunito Sans\", \"labelFontSize\": 11, \"labelLimit\": 0, \"padding\": 1, \"symbolSize\": 30, \"symbolType\": \"square\", \"titleColor\": \"#333\", \"titleFont\": \"Raleway\", \"titleFontSize\": 14, \"titlePadding\": 10}, \"title\": {\"anchor\": \"middle\", \"font\": \"Raleway\", \"fontSize\": 18, \"fontWeight\": 300, \"offset\": 20}}, \"data\": {\"name\": \"data-c473bcca8c024e48e70ec284964d40be\"}, \"mark\": \"bar\", \"encoding\": {\"color\": {\"field\": \"caltrans_district\", \"legend\": {\"symbolLimit\": 10, \"title\": \"Caltrans District\"}, \"scale\": {\"range\": [\"#2EA8CE\", \"#EB9F3C\", \"#F4D837\", \"#51BF9D\", \"#8CBCCB\", \"#9487C0\"]}, \"type\": \"nominal\"}, \"x\": {\"field\": \"caltrans_district\", \"sort\": \"-y\", \"title\": \"Caltrans District\", \"type\": \"nominal\"}, \"y\": {\"field\": \"percent_static\", \"title\": \"Percent Static\", \"type\": \"quantitative\"}}, \"height\": 250, \"title\": \"Percent of GTFS Static Compliant Organizations by District\", \"width\": 400, \"$schema\": \"https://vega.github.io/schema/vega-lite/v4.17.0.json\", \"datasets\": {\"data-c473bcca8c024e48e70ec284964d40be\": [{\"caltrans_district\": null, \"org_count\": 1, \"gtfs_static_count\": 0, \"gtfs_rt_count\": 0, \"percent_static\": 0.0, \"percent_rt\": 0.0}, {\"caltrans_district\": \"01 - Eureka\", \"org_count\": 7, \"gtfs_static_count\": 7, \"gtfs_rt_count\": 5, \"percent_static\": 100.0, \"percent_rt\": 71.42857142857143}, {\"caltrans_district\": \"02 - Redding\", \"org_count\": 8, \"gtfs_static_count\": 7, \"gtfs_rt_count\": 2, \"percent_static\": 87.5, \"percent_rt\": 25.0}, {\"caltrans_district\": \"03 - Marysville\", \"org_count\": 18, \"gtfs_static_count\": 15, \"gtfs_rt_count\": 5, \"percent_static\": 83.33333333333334, \"percent_rt\": 27.77777777777778}, {\"caltrans_district\": \"04 - Oakland\", \"org_count\": 34, \"gtfs_static_count\": 24, \"gtfs_rt_count\": 14, \"percent_static\": 70.58823529411765, \"percent_rt\": 41.17647058823529}, {\"caltrans_district\": \"05 - San Luis Obispo\", \"org_count\": 13, \"gtfs_static_count\": 11, \"gtfs_rt_count\": 3, \"percent_static\": 84.61538461538461, \"percent_rt\": 23.076923076923077}, {\"caltrans_district\": \"06 - Fresno\", \"org_count\": 14, \"gtfs_static_count\": 12, \"gtfs_rt_count\": 4, \"percent_static\": 85.71428571428571, \"percent_rt\": 28.57142857142857}, {\"caltrans_district\": \"07 - Los Angeles\", \"org_count\": 55, \"gtfs_static_count\": 47, \"gtfs_rt_count\": 19, \"percent_static\": 85.45454545454545, \"percent_rt\": 34.54545454545455}, {\"caltrans_district\": \"08 - San Bernardino\", \"org_count\": 11, \"gtfs_static_count\": 11, \"gtfs_rt_count\": 5, \"percent_static\": 100.0, \"percent_rt\": 45.45454545454545}, {\"caltrans_district\": \"09 - Bishop\", \"org_count\": 2, \"gtfs_static_count\": 2, \"gtfs_rt_count\": 2, \"percent_static\": 100.0, \"percent_rt\": 100.0}, {\"caltrans_district\": \"10 - Stockton\", \"org_count\": 14, \"gtfs_static_count\": 13, \"gtfs_rt_count\": 4, \"percent_static\": 92.85714285714286, \"percent_rt\": 28.57142857142857}, {\"caltrans_district\": \"11 - San Diego\", \"org_count\": 6, \"gtfs_static_count\": 4, \"gtfs_rt_count\": 1, \"percent_static\": 66.66666666666666, \"percent_rt\": 16.666666666666664}, {\"caltrans_district\": \"12 - Irvine\", \"org_count\": 6, \"gtfs_static_count\": 6, \"gtfs_rt_count\": 2, \"percent_static\": 100.0, \"percent_rt\": 33.33333333333333}]}}, {\"mode\": \"vega-lite\"});\n",
       "</script>"
      ],
      "text/plain": [
       "alt.Chart(...)"
      ]
     },
     "execution_count": 55,
     "metadata": {},
     "output_type": "execute_result"
    }
   ],
   "source": [
    "(_dla_utils.bar_chart_nosubset(pct_gtfs,\n",
    "                               'caltrans_district',\n",
    "                               'percent_static',\n",
    "                               'caltrans_district',\n",
    "                               chart_title='Percent of GTFS Static Compliant Organizations by District'))"
   ]
  },
  {
   "cell_type": "code",
   "execution_count": 56,
   "id": "611f4b03-941d-4f9d-865f-13020814abe3",
   "metadata": {},
   "outputs": [
    {
     "data": {
      "text/html": [
       "\n",
       "<div id=\"altair-viz-9b717aab23784e62aeeaf5afa85625f7\"></div>\n",
       "<script type=\"text/javascript\">\n",
       "  var VEGA_DEBUG = (typeof VEGA_DEBUG == \"undefined\") ? {} : VEGA_DEBUG;\n",
       "  (function(spec, embedOpt){\n",
       "    let outputDiv = document.currentScript.previousElementSibling;\n",
       "    if (outputDiv.id !== \"altair-viz-9b717aab23784e62aeeaf5afa85625f7\") {\n",
       "      outputDiv = document.getElementById(\"altair-viz-9b717aab23784e62aeeaf5afa85625f7\");\n",
       "    }\n",
       "    const paths = {\n",
       "      \"vega\": \"https://cdn.jsdelivr.net/npm//vega@5?noext\",\n",
       "      \"vega-lib\": \"https://cdn.jsdelivr.net/npm//vega-lib?noext\",\n",
       "      \"vega-lite\": \"https://cdn.jsdelivr.net/npm//vega-lite@4.17.0?noext\",\n",
       "      \"vega-embed\": \"https://cdn.jsdelivr.net/npm//vega-embed@6?noext\",\n",
       "    };\n",
       "\n",
       "    function maybeLoadScript(lib, version) {\n",
       "      var key = `${lib.replace(\"-\", \"\")}_version`;\n",
       "      return (VEGA_DEBUG[key] == version) ?\n",
       "        Promise.resolve(paths[lib]) :\n",
       "        new Promise(function(resolve, reject) {\n",
       "          var s = document.createElement('script');\n",
       "          document.getElementsByTagName(\"head\")[0].appendChild(s);\n",
       "          s.async = true;\n",
       "          s.onload = () => {\n",
       "            VEGA_DEBUG[key] = version;\n",
       "            return resolve(paths[lib]);\n",
       "          };\n",
       "          s.onerror = () => reject(`Error loading script: ${paths[lib]}`);\n",
       "          s.src = paths[lib];\n",
       "        });\n",
       "    }\n",
       "\n",
       "    function showError(err) {\n",
       "      outputDiv.innerHTML = `<div class=\"error\" style=\"color:red;\">${err}</div>`;\n",
       "      throw err;\n",
       "    }\n",
       "\n",
       "    function displayChart(vegaEmbed) {\n",
       "      vegaEmbed(outputDiv, spec, embedOpt)\n",
       "        .catch(err => showError(`Javascript Error: ${err.message}<br>This usually means there's a typo in your chart specification. See the javascript console for the full traceback.`));\n",
       "    }\n",
       "\n",
       "    if(typeof define === \"function\" && define.amd) {\n",
       "      requirejs.config({paths});\n",
       "      require([\"vega-embed\"], displayChart, err => showError(`Error loading script: ${err.message}`));\n",
       "    } else {\n",
       "      maybeLoadScript(\"vega\", \"5\")\n",
       "        .then(() => maybeLoadScript(\"vega-lite\", \"4.17.0\"))\n",
       "        .then(() => maybeLoadScript(\"vega-embed\", \"6\"))\n",
       "        .catch(showError)\n",
       "        .then(() => displayChart(vegaEmbed));\n",
       "    }\n",
       "  })({\"config\": {\"view\": {\"continuousWidth\": 400, \"continuousHeight\": 300}, \"axis\": {\"domainColor\": \"#cbcbcb\", \"grid\": true, \"gridColor\": \"#cbcbcb\", \"gridWidth\": 1, \"labelColor\": \"#474747\", \"labelFont\": \"Nunito Sans\", \"labelFontSize\": 10, \"labelPadding\": 4, \"tickColor\": \"#cbcbcb\", \"tickSize\": 10, \"titleColor\": \"#333\", \"titleFont\": \"Raleway\", \"titleFontSize\": 12, \"titlePadding\": 10}, \"axisBand\": {\"grid\": false}, \"background\": \"white\", \"font\": \"Raleway\", \"header\": {\"labelFont\": \"Nunito Sans\", \"titleFont\": \"Raleway\"}, \"legend\": {\"labelColor\": \"#333\", \"labelFont\": \"Nunito Sans\", \"labelFontSize\": 11, \"labelLimit\": 0, \"padding\": 1, \"symbolSize\": 30, \"symbolType\": \"square\", \"titleColor\": \"#333\", \"titleFont\": \"Raleway\", \"titleFontSize\": 14, \"titlePadding\": 10}, \"title\": {\"anchor\": \"middle\", \"font\": \"Raleway\", \"fontSize\": 18, \"fontWeight\": 300, \"offset\": 20}}, \"data\": {\"name\": \"data-c473bcca8c024e48e70ec284964d40be\"}, \"mark\": \"bar\", \"encoding\": {\"color\": {\"field\": \"caltrans_district\", \"legend\": {\"symbolLimit\": 10, \"title\": \"Caltrans District\"}, \"scale\": {\"range\": [\"#2EA8CE\", \"#EB9F3C\", \"#F4D837\", \"#51BF9D\", \"#8CBCCB\", \"#9487C0\"]}, \"type\": \"nominal\"}, \"x\": {\"field\": \"caltrans_district\", \"sort\": \"-y\", \"title\": \"Caltrans District\", \"type\": \"nominal\"}, \"y\": {\"field\": \"percent_rt\", \"title\": \"Percent Rt\", \"type\": \"quantitative\"}}, \"height\": 250, \"title\": \"Percent of GTFS Static Compliant Organizations by District\", \"width\": 400, \"$schema\": \"https://vega.github.io/schema/vega-lite/v4.17.0.json\", \"datasets\": {\"data-c473bcca8c024e48e70ec284964d40be\": [{\"caltrans_district\": null, \"org_count\": 1, \"gtfs_static_count\": 0, \"gtfs_rt_count\": 0, \"percent_static\": 0.0, \"percent_rt\": 0.0}, {\"caltrans_district\": \"01 - Eureka\", \"org_count\": 7, \"gtfs_static_count\": 7, \"gtfs_rt_count\": 5, \"percent_static\": 100.0, \"percent_rt\": 71.42857142857143}, {\"caltrans_district\": \"02 - Redding\", \"org_count\": 8, \"gtfs_static_count\": 7, \"gtfs_rt_count\": 2, \"percent_static\": 87.5, \"percent_rt\": 25.0}, {\"caltrans_district\": \"03 - Marysville\", \"org_count\": 18, \"gtfs_static_count\": 15, \"gtfs_rt_count\": 5, \"percent_static\": 83.33333333333334, \"percent_rt\": 27.77777777777778}, {\"caltrans_district\": \"04 - Oakland\", \"org_count\": 34, \"gtfs_static_count\": 24, \"gtfs_rt_count\": 14, \"percent_static\": 70.58823529411765, \"percent_rt\": 41.17647058823529}, {\"caltrans_district\": \"05 - San Luis Obispo\", \"org_count\": 13, \"gtfs_static_count\": 11, \"gtfs_rt_count\": 3, \"percent_static\": 84.61538461538461, \"percent_rt\": 23.076923076923077}, {\"caltrans_district\": \"06 - Fresno\", \"org_count\": 14, \"gtfs_static_count\": 12, \"gtfs_rt_count\": 4, \"percent_static\": 85.71428571428571, \"percent_rt\": 28.57142857142857}, {\"caltrans_district\": \"07 - Los Angeles\", \"org_count\": 55, \"gtfs_static_count\": 47, \"gtfs_rt_count\": 19, \"percent_static\": 85.45454545454545, \"percent_rt\": 34.54545454545455}, {\"caltrans_district\": \"08 - San Bernardino\", \"org_count\": 11, \"gtfs_static_count\": 11, \"gtfs_rt_count\": 5, \"percent_static\": 100.0, \"percent_rt\": 45.45454545454545}, {\"caltrans_district\": \"09 - Bishop\", \"org_count\": 2, \"gtfs_static_count\": 2, \"gtfs_rt_count\": 2, \"percent_static\": 100.0, \"percent_rt\": 100.0}, {\"caltrans_district\": \"10 - Stockton\", \"org_count\": 14, \"gtfs_static_count\": 13, \"gtfs_rt_count\": 4, \"percent_static\": 92.85714285714286, \"percent_rt\": 28.57142857142857}, {\"caltrans_district\": \"11 - San Diego\", \"org_count\": 6, \"gtfs_static_count\": 4, \"gtfs_rt_count\": 1, \"percent_static\": 66.66666666666666, \"percent_rt\": 16.666666666666664}, {\"caltrans_district\": \"12 - Irvine\", \"org_count\": 6, \"gtfs_static_count\": 6, \"gtfs_rt_count\": 2, \"percent_static\": 100.0, \"percent_rt\": 33.33333333333333}]}}, {\"mode\": \"vega-lite\"});\n",
       "</script>"
      ],
      "text/plain": [
       "alt.Chart(...)"
      ]
     },
     "execution_count": 56,
     "metadata": {},
     "output_type": "execute_result"
    }
   ],
   "source": [
    "(_dla_utils.bar_chart_nosubset(pct_gtfs,\n",
    "                               'caltrans_district',\n",
    "                               'percent_rt',\n",
    "                               'caltrans_district',\n",
    "                               chart_title='Percent of GTFS Static Compliant Organizations by District'))"
   ]
  },
  {
   "cell_type": "markdown",
   "id": "874d9335-5e40-4034-9b3a-5b7681e19653",
   "metadata": {},
   "source": [
    "## Fares v2 Status by District"
   ]
  },
  {
   "cell_type": "code",
   "execution_count": 75,
   "id": "b5ec0b09-2df4-4e03-807f-9ec6a18f4643",
   "metadata": {},
   "outputs": [
    {
     "data": {
      "text/markdown": [
       "There are **73** Organizations with all Fares v2 Status as **fully published**"
      ],
      "text/plain": [
       "<IPython.core.display.Markdown object>"
      ]
     },
     "metadata": {},
     "output_type": "display_data"
    }
   ],
   "source": [
    "(display(Markdown(f\"There are **{len((df>>filter(_.fares_v2_status_complete==1)))}** \"\n",
    "                  \"Organizations with all Fares v2 Status as **fully published**\")))"
   ]
  },
  {
   "cell_type": "code",
   "execution_count": 76,
   "id": "c92de686-6ed8-4bea-bacc-4006610fda83",
   "metadata": {},
   "outputs": [
    {
     "data": {
      "text/html": [
       "\n",
       "<div id=\"altair-viz-7a97f6b47ed0430697d56d16095907f8\"></div>\n",
       "<script type=\"text/javascript\">\n",
       "  var VEGA_DEBUG = (typeof VEGA_DEBUG == \"undefined\") ? {} : VEGA_DEBUG;\n",
       "  (function(spec, embedOpt){\n",
       "    let outputDiv = document.currentScript.previousElementSibling;\n",
       "    if (outputDiv.id !== \"altair-viz-7a97f6b47ed0430697d56d16095907f8\") {\n",
       "      outputDiv = document.getElementById(\"altair-viz-7a97f6b47ed0430697d56d16095907f8\");\n",
       "    }\n",
       "    const paths = {\n",
       "      \"vega\": \"https://cdn.jsdelivr.net/npm//vega@5?noext\",\n",
       "      \"vega-lib\": \"https://cdn.jsdelivr.net/npm//vega-lib?noext\",\n",
       "      \"vega-lite\": \"https://cdn.jsdelivr.net/npm//vega-lite@4.17.0?noext\",\n",
       "      \"vega-embed\": \"https://cdn.jsdelivr.net/npm//vega-embed@6?noext\",\n",
       "    };\n",
       "\n",
       "    function maybeLoadScript(lib, version) {\n",
       "      var key = `${lib.replace(\"-\", \"\")}_version`;\n",
       "      return (VEGA_DEBUG[key] == version) ?\n",
       "        Promise.resolve(paths[lib]) :\n",
       "        new Promise(function(resolve, reject) {\n",
       "          var s = document.createElement('script');\n",
       "          document.getElementsByTagName(\"head\")[0].appendChild(s);\n",
       "          s.async = true;\n",
       "          s.onload = () => {\n",
       "            VEGA_DEBUG[key] = version;\n",
       "            return resolve(paths[lib]);\n",
       "          };\n",
       "          s.onerror = () => reject(`Error loading script: ${paths[lib]}`);\n",
       "          s.src = paths[lib];\n",
       "        });\n",
       "    }\n",
       "\n",
       "    function showError(err) {\n",
       "      outputDiv.innerHTML = `<div class=\"error\" style=\"color:red;\">${err}</div>`;\n",
       "      throw err;\n",
       "    }\n",
       "\n",
       "    function displayChart(vegaEmbed) {\n",
       "      vegaEmbed(outputDiv, spec, embedOpt)\n",
       "        .catch(err => showError(`Javascript Error: ${err.message}<br>This usually means there's a typo in your chart specification. See the javascript console for the full traceback.`));\n",
       "    }\n",
       "\n",
       "    if(typeof define === \"function\" && define.amd) {\n",
       "      requirejs.config({paths});\n",
       "      require([\"vega-embed\"], displayChart, err => showError(`Error loading script: ${err.message}`));\n",
       "    } else {\n",
       "      maybeLoadScript(\"vega\", \"5\")\n",
       "        .then(() => maybeLoadScript(\"vega-lite\", \"4.17.0\"))\n",
       "        .then(() => maybeLoadScript(\"vega-embed\", \"6\"))\n",
       "        .catch(showError)\n",
       "        .then(() => displayChart(vegaEmbed));\n",
       "    }\n",
       "  })({\"config\": {\"view\": {\"continuousWidth\": 400, \"continuousHeight\": 300}, \"axis\": {\"domainColor\": \"#cbcbcb\", \"grid\": true, \"gridColor\": \"#cbcbcb\", \"gridWidth\": 1, \"labelColor\": \"#474747\", \"labelFont\": \"Nunito Sans\", \"labelFontSize\": 10, \"labelPadding\": 4, \"tickColor\": \"#cbcbcb\", \"tickSize\": 10, \"titleColor\": \"#333\", \"titleFont\": \"Raleway\", \"titleFontSize\": 12, \"titlePadding\": 10}, \"axisBand\": {\"grid\": false}, \"background\": \"white\", \"font\": \"Raleway\", \"header\": {\"labelFont\": \"Nunito Sans\", \"titleFont\": \"Raleway\"}, \"legend\": {\"labelColor\": \"#333\", \"labelFont\": \"Nunito Sans\", \"labelFontSize\": 11, \"labelLimit\": 0, \"padding\": 1, \"symbolSize\": 30, \"symbolType\": \"square\", \"titleColor\": \"#333\", \"titleFont\": \"Raleway\", \"titleFontSize\": 14, \"titlePadding\": 10}, \"title\": {\"anchor\": \"middle\", \"font\": \"Raleway\", \"fontSize\": 18, \"fontWeight\": 300, \"offset\": 20}}, \"data\": {\"name\": \"data-6242eba1305476dc55c811e57e8b9f7a\"}, \"mark\": \"bar\", \"encoding\": {\"color\": {\"field\": \"fares_v2_status2\", \"legend\": {\"symbolLimit\": 10, \"title\": \"Fares V2 Status2\"}, \"scale\": {\"range\": [\"#2EA8CE\", \"#EB9F3C\", \"#F4D837\", \"#51BF9D\", \"#8CBCCB\", \"#9487C0\"]}, \"type\": \"nominal\"}, \"x\": {\"field\": \"caltrans_district\", \"sort\": \"-y\", \"title\": \"Caltrans District\", \"type\": \"nominal\"}, \"y\": {\"field\": \"n\", \"title\": \"Count\", \"type\": \"quantitative\"}}, \"height\": 250, \"title\": \"Fares v2 Status by District\", \"width\": 400, \"$schema\": \"https://vega.github.io/schema/vega-lite/v4.17.0.json\", \"datasets\": {\"data-6242eba1305476dc55c811e57e8b9f7a\": [{\"caltrans_district\": \"01 - Eureka\", \"fares_v2_status2\": \"Published\", \"n\": 7}, {\"caltrans_district\": \"02 - Redding\", \"fares_v2_status2\": \"Needed\", \"n\": 1}, {\"caltrans_district\": \"02 - Redding\", \"fares_v2_status2\": \"Published\", \"n\": 6}, {\"caltrans_district\": \"02 - Redding\", \"fares_v2_status2\": \"Unknown\", \"n\": 1}, {\"caltrans_district\": \"03 - Marysville\", \"fares_v2_status2\": \"In works\", \"n\": 5}, {\"caltrans_district\": \"03 - Marysville\", \"fares_v2_status2\": \"Needed\", \"n\": 1}, {\"caltrans_district\": \"03 - Marysville\", \"fares_v2_status2\": \"Published\", \"n\": 9}, {\"caltrans_district\": \"03 - Marysville\", \"fares_v2_status2\": \"Unknown\", \"n\": 3}, {\"caltrans_district\": \"04 - Oakland\", \"fares_v2_status2\": \"In works\", \"n\": 1}, {\"caltrans_district\": \"04 - Oakland\", \"fares_v2_status2\": \"Needed\", \"n\": 5}, {\"caltrans_district\": \"04 - Oakland\", \"fares_v2_status2\": \"Published\", \"n\": 20}, {\"caltrans_district\": \"04 - Oakland\", \"fares_v2_status2\": \"Unknown\", \"n\": 8}, {\"caltrans_district\": \"05 - San Luis Obispo\", \"fares_v2_status2\": \"In works\", \"n\": 3}, {\"caltrans_district\": \"05 - San Luis Obispo\", \"fares_v2_status2\": \"Needed\", \"n\": 1}, {\"caltrans_district\": \"05 - San Luis Obispo\", \"fares_v2_status2\": \"Published\", \"n\": 4}, {\"caltrans_district\": \"05 - San Luis Obispo\", \"fares_v2_status2\": \"Unknown\", \"n\": 5}, {\"caltrans_district\": \"06 - Fresno\", \"fares_v2_status2\": \"Needed\", \"n\": 2}, {\"caltrans_district\": \"06 - Fresno\", \"fares_v2_status2\": \"Published\", \"n\": 4}, {\"caltrans_district\": \"06 - Fresno\", \"fares_v2_status2\": \"Unknown\", \"n\": 8}, {\"caltrans_district\": \"07 - Los Angeles\", \"fares_v2_status2\": \"In works\", \"n\": 4}, {\"caltrans_district\": \"07 - Los Angeles\", \"fares_v2_status2\": \"Needed\", \"n\": 13}, {\"caltrans_district\": \"07 - Los Angeles\", \"fares_v2_status2\": \"Published\", \"n\": 10}, {\"caltrans_district\": \"07 - Los Angeles\", \"fares_v2_status2\": \"Unknown\", \"n\": 27}, {\"caltrans_district\": \"08 - San Bernardino\", \"fares_v2_status2\": \"Published\", \"n\": 8}, {\"caltrans_district\": \"08 - San Bernardino\", \"fares_v2_status2\": \"Unknown\", \"n\": 3}, {\"caltrans_district\": \"09 - Bishop\", \"fares_v2_status2\": \"Published\", \"n\": 1}, {\"caltrans_district\": \"09 - Bishop\", \"fares_v2_status2\": \"Unknown\", \"n\": 1}, {\"caltrans_district\": \"10 - Stockton\", \"fares_v2_status2\": \"In works\", \"n\": 1}, {\"caltrans_district\": \"10 - Stockton\", \"fares_v2_status2\": \"Published\", \"n\": 3}, {\"caltrans_district\": \"10 - Stockton\", \"fares_v2_status2\": \"Unknown\", \"n\": 10}, {\"caltrans_district\": \"11 - San Diego\", \"fares_v2_status2\": \"Unknown\", \"n\": 6}, {\"caltrans_district\": \"12 - Irvine\", \"fares_v2_status2\": \"Needed\", \"n\": 3}, {\"caltrans_district\": \"12 - Irvine\", \"fares_v2_status2\": \"Published\", \"n\": 1}, {\"caltrans_district\": \"12 - Irvine\", \"fares_v2_status2\": \"Unknown\", \"n\": 2}]}}, {\"mode\": \"vega-lite\"});\n",
       "</script>"
      ],
      "text/plain": [
       "alt.Chart(...)"
      ]
     },
     "execution_count": 76,
     "metadata": {},
     "output_type": "execute_result"
    }
   ],
   "source": [
    "(_dla_utils.bar_chart_nosubset((df>>group_by(_.caltrans_district)>>count(_.fares_v2_status2)),\n",
    "                               'caltrans_district',\n",
    "                               'n',\n",
    "                               'fares_v2_status2',\n",
    "                               chart_title='Fares v2 Status by District'))"
   ]
  },
  {
   "cell_type": "code",
   "execution_count": null,
   "id": "024adf94-63fd-485f-a1b7-eeaf0fa98e16",
   "metadata": {},
   "outputs": [],
   "source": []
  },
  {
   "cell_type": "code",
   "execution_count": null,
   "id": "0b7f0b7c-1f48-4072-8fa7-4bfce175fb10",
   "metadata": {},
   "outputs": [],
   "source": []
  }
 ],
 "metadata": {
  "kernelspec": {
   "display_name": "Python 3 (ipykernel)",
   "language": "python",
   "name": "python3"
  },
  "language_info": {
   "codemirror_mode": {
    "name": "ipython",
    "version": 3
   },
   "file_extension": ".py",
   "mimetype": "text/x-python",
   "name": "python",
   "nbconvert_exporter": "python",
   "pygments_lexer": "ipython3",
   "version": "3.10.4"
  },
  "widgets": {
   "application/vnd.jupyter.widget-state+json": {
    "state": {},
    "version_major": 2,
    "version_minor": 0
   }
  }
 },
 "nbformat": 4,
 "nbformat_minor": 5
}
