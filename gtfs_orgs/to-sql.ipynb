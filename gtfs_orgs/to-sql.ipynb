{
 "cells": [
  {
   "cell_type": "code",
   "execution_count": 1,
   "id": "5c06bde7-f637-4be9-b518-6da1dab599b1",
   "metadata": {},
   "outputs": [],
   "source": [
    "# To SQL"
   ]
  },
  {
   "cell_type": "code",
   "execution_count": 13,
   "id": "6f3cc0a4-4201-401b-9aee-b1100e9e69ef",
   "metadata": {},
   "outputs": [],
   "source": [
    "from calitp.tables import tbl\n",
    "from siuba import *\n",
    "import pandas as pd\n",
    "\n",
    "import utils"
   ]
  },
  {
   "cell_type": "code",
   "execution_count": 14,
   "id": "809846e8-0dae-48b0-aac9-b3cfdf00fdad",
   "metadata": {},
   "outputs": [],
   "source": [
    "from calitp import query_sql"
   ]
  },
  {
   "cell_type": "code",
   "execution_count": 4,
   "id": "baf037b5-6eaa-448c-828f-c20ab263b42f",
   "metadata": {},
   "outputs": [],
   "source": [
    "pd.set_option(\"display.max_columns\", 100)"
   ]
  },
  {
   "cell_type": "code",
   "execution_count": 8,
   "id": "9e1edd39-b63f-489c-b6d2-7640708168a3",
   "metadata": {},
   "outputs": [],
   "source": [
    "org = collect(tbl.airtable.california_transit_organizations())"
   ]
  },
  {
   "cell_type": "code",
   "execution_count": 10,
   "id": "95628b1e-ffea-41ff-b274-3c9b267f4e7e",
   "metadata": {},
   "outputs": [
    {
     "name": "stdout",
     "output_type": "stream",
     "text": [
      "<class 'pandas.core.frame.DataFrame'>\n",
      "RangeIndex: 853 entries, 0 to 852\n",
      "Data columns (total 71 columns):\n",
      " #   Column                                                                         Non-Null Count  Dtype  \n",
      "---  ------                                                                         --------------  -----  \n",
      " 0   organization_id                                                                853 non-null    object \n",
      " 1   name                                                                           853 non-null    object \n",
      " 2   mobility_services_managed                                                      449 non-null    object \n",
      " 3   parent_organization                                                            47 non-null     object \n",
      " 4   organization_type                                                              714 non-null    object \n",
      " 5   headquarters_place                                                             535 non-null    object \n",
      " 6   caltrans_district                                                              327 non-null    object \n",
      " 7   planning_authority                                                             262 non-null    object \n",
      " 8   tracking_category                                                              370 non-null    object \n",
      " 9   reporting_category                                                             371 non-null    object \n",
      " 10  assist_category                                                                366 non-null    object \n",
      " 11  headquarters_state_country                                                     447 non-null    object \n",
      " 12  record_creation_time                                                           853 non-null    object \n",
      " 13  service_type__from_mobility_services_managed_                                  443 non-null    object \n",
      " 14  currently_operating__from_mobility_services_managed_                           449 non-null    object \n",
      " 15  funding_sources_for_managed_transportation                                     434 non-null    object \n",
      " 16  num_fixed_route_services                                                       853 non-null    int64  \n",
      " 17  num_services_w_complete_rt_status                                              853 non-null    int64  \n",
      " 18  num_fixed_route_services_w_static_gtfs                                         853 non-null    int64  \n",
      " 19  complete_static_gtfs_coverage                                                  853 non-null    int64  \n",
      " 20  complete_rt_coverage                                                           853 non-null    int64  \n",
      " 21  at_least_one_gtfs_feed_for_any_service                                         853 non-null    int64  \n",
      " 22  at_least_one_complete_rt_set                                                   853 non-null    int64  \n",
      " 23  service_availability_category__from_mobility_services_managed_                 449 non-null    object \n",
      " 24  num_fixed_route_or_deviated_fixed_route_services                               853 non-null    int64  \n",
      " 25  num_fixed_route_or_deviated_fixed_route_service_w__static_gtfs                 853 non-null    int64  \n",
      " 26  num_services_with_missing_static_feed_for_fixed_route_or_deviated_fixed_route  853 non-null    int64  \n",
      " 27  gtfs_static_status                                                             853 non-null    object \n",
      " 28  gtfs_realtime_status                                                           853 non-null    object \n",
      " 29  missing_static                                                                 853 non-null    object \n",
      " 30  services_needing_alerts                                                        853 non-null    object \n",
      " 31  services_needing_tripupdates_or_vehiclepositions                               853 non-null    object \n",
      " 32  service_availability                                                           449 non-null    object \n",
      " 33  fixed_route_service_operator_type                                              853 non-null    object \n",
      " 34  schedule_datasets                                                              853 non-null    int64  \n",
      " 35  itp_id                                                                         375 non-null    float64\n",
      " 36  gtfs_datasets_produced                                                         153 non-null    object \n",
      " 37  mobility_services_operated                                                     441 non-null    object \n",
      " 38  ntp_id                                                                         200 non-null    object \n",
      " 39  mpo_rtpa                                                                       245 non-null    object \n",
      " 40  gtfs_datasets_referenced                                                       46 non-null     object \n",
      " 41  currently_operating__from_mobility_services_operated_                          441 non-null    object \n",
      " 42  service_type__from_mobility_services_operated_                                 437 non-null    object \n",
      " 43  total_voms__ntd_                                                               193 non-null    object \n",
      " 44  service_area_sq_miles__ntd_                                                    150 non-null    object \n",
      " 45  service_area_population__ntd_                                                  150 non-null    object \n",
      " 46  gtfs_dataset__from_mobility_services_managed_                                  185 non-null    object \n",
      " 47  gtfs_schedule_status                                                           414 non-null    object \n",
      " 48  fares_v2_status                                                                156 non-null    object \n",
      " 49  flex_status                                                                    333 non-null    object \n",
      " 50  immediate_gtfs_goals                                                           193 non-null    object \n",
      " 51  details                                                                        114 non-null    object \n",
      " 52  website                                                                        219 non-null    object \n",
      " 53  funding_programs                                                               6 non-null      object \n",
      " 54  county_geography                                                               46 non-null     object \n",
      " 55  fare_systems                                                                   24 non-null     object \n",
      " 56  drmt_organization_name                                                         60 non-null     object \n",
      " 57  drmt_reported_5310_vehicles                                                    60 non-null     object \n",
      " 58  opm_id_drmt                                                                    155 non-null    object \n",
      " 59  alias                                                                          67 non-null     object \n",
      " 60  service___component                                                            22 non-null     object \n",
      " 61  brand                                                                          85 non-null     object \n",
      " 62  roles                                                                          48 non-null     object \n",
      " 63  county_geography_3                                                             17 non-null     object \n",
      " 64  dotid                                                                          6 non-null      object \n",
      " 65  administrating_organization                                                    3 non-null      object \n",
      " 66  service_area_type__from_services_                                              3 non-null      object \n",
      " 67  avl_rti_vendor__from_service_area_type__from_services__                        3 non-null      object \n",
      " 68  currently_operating__from_service_area_type__from_services__                   3 non-null      object \n",
      " 69  services                                                                       1 non-null      object \n",
      " 70  eligibility_programs                                                           1 non-null      object \n",
      "dtypes: float64(1), int64(11), object(59)\n",
      "memory usage: 473.3+ KB\n"
     ]
    }
   ],
   "source": [
    "org.info()"
   ]
  },
  {
   "cell_type": "code",
   "execution_count": 12,
   "id": "1a98e213-d9c9-4daa-b8b6-110a175ce1fa",
   "metadata": {},
   "outputs": [
    {
     "ename": "KeyError",
     "evalue": "\"['#_of_fixed_route_services', '#_fixed_route_or_deviated_fixed_route_services'] not in index\"",
     "output_type": "error",
     "traceback": [
      "\u001b[0;31m---------------------------------------------------------------------------\u001b[0m",
      "\u001b[0;31mKeyError\u001b[0m                                  Traceback (most recent call last)",
      "Input \u001b[0;32mIn [12]\u001b[0m, in \u001b[0;36m<cell line: 1>\u001b[0;34m()\u001b[0m\n\u001b[0;32m----> 1\u001b[0m \u001b[43mutils\u001b[49m\u001b[38;5;241;43m.\u001b[39;49m\u001b[43madd_airtable_filter\u001b[49m\u001b[43m(\u001b[49m\u001b[43morg\u001b[49m\u001b[43m)\u001b[49m\n",
      "File \u001b[0;32m~/data-analyses/gtfs_orgs/utils.py:10\u001b[0m, in \u001b[0;36madd_airtable_filter\u001b[0;34m(orgs)\u001b[0m\n\u001b[1;32m      8\u001b[0m \u001b[38;5;28;01mdef\u001b[39;00m \u001b[38;5;21madd_airtable_filter\u001b[39m(orgs):\n\u001b[1;32m      9\u001b[0m     \u001b[38;5;66;03m#narrow down the columns\u001b[39;00m\n\u001b[0;32m---> 10\u001b[0m     orgs \u001b[38;5;241m=\u001b[39m (\u001b[43morgs\u001b[49m\u001b[38;5;241;43m>>\u001b[39;49m\u001b[43mselect\u001b[49m\u001b[43m(\u001b[49m\u001b[43m_\u001b[49m\u001b[38;5;241;43m.\u001b[39;49m\u001b[43mname\u001b[49m\u001b[43m,\u001b[49m\n\u001b[1;32m     11\u001b[0m \u001b[43m                         \u001b[49m\u001b[43m_\u001b[49m\u001b[38;5;241;43m.\u001b[39;49m\u001b[43morganization_type\u001b[49m\u001b[43m,\u001b[49m\n\u001b[1;32m     12\u001b[0m \u001b[43m                         \u001b[49m\u001b[43m_\u001b[49m\u001b[38;5;241;43m.\u001b[39;49m\u001b[43mntp_id\u001b[49m\u001b[43m,\u001b[49m\n\u001b[1;32m     13\u001b[0m \u001b[43m                         \u001b[49m\u001b[43m_\u001b[49m\u001b[38;5;241;43m.\u001b[39;49m\u001b[43mitp_id\u001b[49m\u001b[43m,\u001b[49m\n\u001b[1;32m     14\u001b[0m \u001b[43m                         \u001b[49m\u001b[43m_\u001b[49m\u001b[38;5;241;43m.\u001b[39;49m\u001b[43mopm_id_drmt\u001b[49m\u001b[43m,\u001b[49m\n\u001b[1;32m     15\u001b[0m \u001b[43m                         \u001b[49m\u001b[43m_\u001b[49m\u001b[38;5;241;43m.\u001b[39;49m\u001b[43mbrand\u001b[49m\u001b[43m,\u001b[49m\u001b[43m \u001b[49m\n\u001b[1;32m     16\u001b[0m \u001b[43m                         \u001b[49m\u001b[43m_\u001b[49m\u001b[38;5;241;43m.\u001b[39;49m\u001b[43malias\u001b[49m\u001b[43m,\u001b[49m\n\u001b[1;32m     17\u001b[0m \u001b[43m                         \u001b[49m\u001b[43m_\u001b[49m\u001b[38;5;241;43m.\u001b[39;49m\u001b[43mreporting_category\u001b[49m\u001b[43m,\u001b[49m\n\u001b[1;32m     18\u001b[0m \u001b[43m                         \u001b[49m\u001b[43m_\u001b[49m\u001b[38;5;241;43m.\u001b[39;49m\u001b[43mfares_v2_status\u001b[49m\u001b[43m,\u001b[49m\n\u001b[1;32m     19\u001b[0m \u001b[43m                         \u001b[49m\u001b[43m_\u001b[49m\u001b[38;5;241;43m.\u001b[39;49m\u001b[43mmobility_services_managed\u001b[49m\u001b[43m,\u001b[49m\n\u001b[1;32m     20\u001b[0m \u001b[43m                         \u001b[49m\u001b[43m_\u001b[49m\u001b[38;5;241;43m.\u001b[39;49m\u001b[43mmobility_services_operated\u001b[49m\u001b[43m,\u001b[49m\n\u001b[1;32m     21\u001b[0m \u001b[43m                         \u001b[49m\u001b[43m_\u001b[49m\u001b[38;5;241;43m.\u001b[39;49m\u001b[43mgtfs_datasets_produced\u001b[49m\u001b[43m,\u001b[49m\n\u001b[1;32m     22\u001b[0m \u001b[43m                         \u001b[49m\u001b[43m_\u001b[49m\u001b[38;5;241;43m.\u001b[39;49m\u001b[43mservice_type__from_mobility_services_managed_\u001b[49m\u001b[43m,\u001b[49m\n\u001b[1;32m     23\u001b[0m \u001b[43m                         \u001b[49m\u001b[43m_\u001b[49m\u001b[38;5;241;43m.\u001b[39;49m\u001b[43mservice_type__from_mobility_services_operated_\u001b[49m\u001b[43m,\u001b[49m\n\u001b[1;32m     24\u001b[0m \u001b[43m                         \u001b[49m\u001b[43m_\u001b[49m\u001b[38;5;241;43m.\u001b[39;49m\u001b[43mcurrently_operating__from_mobility_services_managed_\u001b[49m\u001b[43m,\u001b[49m\n\u001b[1;32m     25\u001b[0m \u001b[43m                         \u001b[49m\u001b[43m_\u001b[49m\u001b[38;5;241;43m.\u001b[39;49m\u001b[43mheadquarters_place\u001b[49m\u001b[43m,\u001b[49m\n\u001b[1;32m     26\u001b[0m \u001b[43m                         \u001b[49m\u001b[43m_\u001b[49m\u001b[38;5;241;43m.\u001b[39;49m\u001b[43mcaltrans_district\u001b[49m\u001b[43m,\u001b[49m\n\u001b[1;32m     27\u001b[0m \u001b[43m                         \u001b[49m\u001b[43m_\u001b[49m\u001b[38;5;241;43m.\u001b[39;49m\u001b[43mgtfs_dataset__from_mobility_services_managed_\u001b[49m\u001b[43m,\u001b[49m\n\u001b[1;32m     28\u001b[0m \u001b[43m                         \u001b[49m\u001b[43m_\u001b[49m\u001b[38;5;241;43m.\u001b[39;49m\u001b[43mgtfs_schedule_status\u001b[49m\u001b[43m,\u001b[49m\n\u001b[1;32m     29\u001b[0m \u001b[43m                         \u001b[49m\u001b[43m_\u001b[49m\u001b[43m[\u001b[49m\u001b[38;5;124;43m'\u001b[39;49m\u001b[38;5;124;43m#_of_fixed_route_services\u001b[39;49m\u001b[38;5;124;43m'\u001b[39;49m\u001b[43m]\u001b[49m\u001b[43m,\u001b[49m\n\u001b[1;32m     30\u001b[0m \u001b[43m                         \u001b[49m\u001b[43m_\u001b[49m\u001b[43m[\u001b[49m\u001b[38;5;124;43m'\u001b[39;49m\u001b[38;5;124;43m#_fixed_route_or_deviated_fixed_route_services\u001b[39;49m\u001b[38;5;124;43m'\u001b[39;49m\u001b[43m]\u001b[49m\u001b[43m,\u001b[49m\n\u001b[1;32m     31\u001b[0m \u001b[43m                         \u001b[49m\u001b[43m_\u001b[49m\u001b[38;5;241;43m.\u001b[39;49m\u001b[43mgtfs_static_status\u001b[49m\u001b[43m,\u001b[49m\n\u001b[1;32m     32\u001b[0m \u001b[43m                         \u001b[49m\u001b[43m_\u001b[49m\u001b[38;5;241;43m.\u001b[39;49m\u001b[43mgtfs_realtime_status\u001b[49m\u001b[43m)\u001b[49m\n\u001b[1;32m     33\u001b[0m         )\n\u001b[1;32m     35\u001b[0m     \u001b[38;5;66;03m# filter for reporting category\u001b[39;00m\n\u001b[1;32m     36\u001b[0m     orgs_2 \u001b[38;5;241m=\u001b[39m ((orgs\u001b[38;5;241m.\u001b[39mquery(\u001b[38;5;124m\"\u001b[39m\u001b[38;5;124mreporting_category == (\u001b[39m\u001b[38;5;124m'\u001b[39m\u001b[38;5;124mCore\u001b[39m\u001b[38;5;124m'\u001b[39m\u001b[38;5;124m) or reporting_category ==(\u001b[39m\u001b[38;5;124m'\u001b[39m\u001b[38;5;124mOther Public Transit\u001b[39m\u001b[38;5;124m'\u001b[39m\u001b[38;5;124m)\u001b[39m\u001b[38;5;124m\"\u001b[39m))\n\u001b[1;32m     37\u001b[0m               \u001b[38;5;241m>>\u001b[39m \u001b[38;5;28mfilter\u001b[39m(_\u001b[38;5;241m.\u001b[39mcurrently_operating__from_mobility_services_managed_\u001b[38;5;241m.\u001b[39mstr\u001b[38;5;241m.\u001b[39mcontains(\u001b[38;5;124m'\u001b[39m\u001b[38;5;124mchecked\u001b[39m\u001b[38;5;124m'\u001b[39m)))\n",
      "File \u001b[0;32m/opt/conda/lib/python3.10/site-packages/siuba/dply/verbs.py:99\u001b[0m, in \u001b[0;36mPipeable.__rrshift__\u001b[0;34m(self, x)\u001b[0m\n\u001b[1;32m     96\u001b[0m \u001b[38;5;28;01melif\u001b[39;00m callable(x):\n\u001b[1;32m     97\u001b[0m     \u001b[38;5;28;01mreturn\u001b[39;00m Pipeable(calls \u001b[38;5;241m=\u001b[39m [x] \u001b[38;5;241m+\u001b[39m \u001b[38;5;28mself\u001b[39m\u001b[38;5;241m.\u001b[39mcalls)\n\u001b[0;32m---> 99\u001b[0m \u001b[38;5;28;01mreturn\u001b[39;00m \u001b[38;5;28;43mself\u001b[39;49m\u001b[43m(\u001b[49m\u001b[43mx\u001b[49m\u001b[43m)\u001b[49m\n",
      "File \u001b[0;32m/opt/conda/lib/python3.10/site-packages/siuba/dply/verbs.py:104\u001b[0m, in \u001b[0;36mPipeable.__call__\u001b[0;34m(self, x)\u001b[0m\n\u001b[1;32m    102\u001b[0m res \u001b[38;5;241m=\u001b[39m x\n\u001b[1;32m    103\u001b[0m \u001b[38;5;28;01mfor\u001b[39;00m f \u001b[38;5;129;01min\u001b[39;00m \u001b[38;5;28mself\u001b[39m\u001b[38;5;241m.\u001b[39mcalls:\n\u001b[0;32m--> 104\u001b[0m     res \u001b[38;5;241m=\u001b[39m \u001b[43mf\u001b[49m\u001b[43m(\u001b[49m\u001b[43mres\u001b[49m\u001b[43m)\u001b[49m\n\u001b[1;32m    105\u001b[0m \u001b[38;5;28;01mreturn\u001b[39;00m res\n",
      "File \u001b[0;32m/opt/conda/lib/python3.10/site-packages/siuba/siu.py:203\u001b[0m, in \u001b[0;36mCall.__call__\u001b[0;34m(self, x)\u001b[0m\n\u001b[1;32m    201\u001b[0m     \u001b[38;5;28;01mreturn\u001b[39;00m operator\u001b[38;5;241m.\u001b[39mgetitem(inst, \u001b[38;5;241m*\u001b[39mrest)\n\u001b[1;32m    202\u001b[0m \u001b[38;5;28;01melif\u001b[39;00m \u001b[38;5;28mself\u001b[39m\u001b[38;5;241m.\u001b[39mfunc \u001b[38;5;241m==\u001b[39m \u001b[38;5;124m\"\u001b[39m\u001b[38;5;124m__call__\u001b[39m\u001b[38;5;124m\"\u001b[39m:\n\u001b[0;32m--> 203\u001b[0m     \u001b[38;5;28;01mreturn\u001b[39;00m \u001b[38;5;28;43mgetattr\u001b[39;49m\u001b[43m(\u001b[49m\u001b[43minst\u001b[49m\u001b[43m,\u001b[49m\u001b[43m \u001b[49m\u001b[38;5;28;43mself\u001b[39;49m\u001b[38;5;241;43m.\u001b[39;49m\u001b[43mfunc\u001b[49m\u001b[43m)\u001b[49m\u001b[43m(\u001b[49m\u001b[38;5;241;43m*\u001b[39;49m\u001b[43mrest\u001b[49m\u001b[43m,\u001b[49m\u001b[43m \u001b[49m\u001b[38;5;241;43m*\u001b[39;49m\u001b[38;5;241;43m*\u001b[39;49m\u001b[43mkwargs\u001b[49m\u001b[43m)\u001b[49m\n\u001b[1;32m    205\u001b[0m \u001b[38;5;66;03m# in normal case, get method to call, and then call it\u001b[39;00m\n\u001b[1;32m    206\u001b[0m f_op \u001b[38;5;241m=\u001b[39m \u001b[38;5;28mgetattr\u001b[39m(operator, \u001b[38;5;28mself\u001b[39m\u001b[38;5;241m.\u001b[39mfunc)\n",
      "File \u001b[0;32m/opt/conda/lib/python3.10/functools.py:889\u001b[0m, in \u001b[0;36msingledispatch.<locals>.wrapper\u001b[0;34m(*args, **kw)\u001b[0m\n\u001b[1;32m    885\u001b[0m \u001b[38;5;28;01mif\u001b[39;00m \u001b[38;5;129;01mnot\u001b[39;00m args:\n\u001b[1;32m    886\u001b[0m     \u001b[38;5;28;01mraise\u001b[39;00m \u001b[38;5;167;01mTypeError\u001b[39;00m(\u001b[38;5;124mf\u001b[39m\u001b[38;5;124m'\u001b[39m\u001b[38;5;132;01m{\u001b[39;00mfuncname\u001b[38;5;132;01m}\u001b[39;00m\u001b[38;5;124m requires at least \u001b[39m\u001b[38;5;124m'\u001b[39m\n\u001b[1;32m    887\u001b[0m                     \u001b[38;5;124m'\u001b[39m\u001b[38;5;124m1 positional argument\u001b[39m\u001b[38;5;124m'\u001b[39m)\n\u001b[0;32m--> 889\u001b[0m \u001b[38;5;28;01mreturn\u001b[39;00m \u001b[43mdispatch\u001b[49m\u001b[43m(\u001b[49m\u001b[43margs\u001b[49m\u001b[43m[\u001b[49m\u001b[38;5;241;43m0\u001b[39;49m\u001b[43m]\u001b[49m\u001b[38;5;241;43m.\u001b[39;49m\u001b[38;5;18;43m__class__\u001b[39;49m\u001b[43m)\u001b[49m\u001b[43m(\u001b[49m\u001b[38;5;241;43m*\u001b[39;49m\u001b[43margs\u001b[49m\u001b[43m,\u001b[49m\u001b[43m \u001b[49m\u001b[38;5;241;43m*\u001b[39;49m\u001b[38;5;241;43m*\u001b[39;49m\u001b[43mkw\u001b[49m\u001b[43m)\u001b[49m\n",
      "File \u001b[0;32m/opt/conda/lib/python3.10/site-packages/siuba/dply/verbs.py:645\u001b[0m, in \u001b[0;36mselect\u001b[0;34m(__data, *args, **kwargs)\u001b[0m\n\u001b[1;32m    641\u001b[0m od \u001b[38;5;241m=\u001b[39m var_select(__data\u001b[38;5;241m.\u001b[39mcolumns, \u001b[38;5;241m*\u001b[39mvar_list)\n\u001b[1;32m    643\u001b[0m to_rename \u001b[38;5;241m=\u001b[39m {k: v \u001b[38;5;28;01mfor\u001b[39;00m k,v \u001b[38;5;129;01min\u001b[39;00m od\u001b[38;5;241m.\u001b[39mitems() \u001b[38;5;28;01mif\u001b[39;00m v \u001b[38;5;129;01mis\u001b[39;00m \u001b[38;5;129;01mnot\u001b[39;00m \u001b[38;5;28;01mNone\u001b[39;00m}\n\u001b[0;32m--> 645\u001b[0m \u001b[38;5;28;01mreturn\u001b[39;00m \u001b[43m__data\u001b[49m\u001b[43m[\u001b[49m\u001b[38;5;28;43mlist\u001b[39;49m\u001b[43m(\u001b[49m\u001b[43mod\u001b[49m\u001b[43m)\u001b[49m\u001b[43m]\u001b[49m\u001b[38;5;241m.\u001b[39mrename(columns \u001b[38;5;241m=\u001b[39m to_rename)\n",
      "File \u001b[0;32m/opt/conda/lib/python3.10/site-packages/pandas/core/frame.py:3511\u001b[0m, in \u001b[0;36mDataFrame.__getitem__\u001b[0;34m(self, key)\u001b[0m\n\u001b[1;32m   3509\u001b[0m     \u001b[38;5;28;01mif\u001b[39;00m is_iterator(key):\n\u001b[1;32m   3510\u001b[0m         key \u001b[38;5;241m=\u001b[39m \u001b[38;5;28mlist\u001b[39m(key)\n\u001b[0;32m-> 3511\u001b[0m     indexer \u001b[38;5;241m=\u001b[39m \u001b[38;5;28;43mself\u001b[39;49m\u001b[38;5;241;43m.\u001b[39;49m\u001b[43mcolumns\u001b[49m\u001b[38;5;241;43m.\u001b[39;49m\u001b[43m_get_indexer_strict\u001b[49m\u001b[43m(\u001b[49m\u001b[43mkey\u001b[49m\u001b[43m,\u001b[49m\u001b[43m \u001b[49m\u001b[38;5;124;43m\"\u001b[39;49m\u001b[38;5;124;43mcolumns\u001b[39;49m\u001b[38;5;124;43m\"\u001b[39;49m\u001b[43m)\u001b[49m[\u001b[38;5;241m1\u001b[39m]\n\u001b[1;32m   3513\u001b[0m \u001b[38;5;66;03m# take() does not accept boolean indexers\u001b[39;00m\n\u001b[1;32m   3514\u001b[0m \u001b[38;5;28;01mif\u001b[39;00m \u001b[38;5;28mgetattr\u001b[39m(indexer, \u001b[38;5;124m\"\u001b[39m\u001b[38;5;124mdtype\u001b[39m\u001b[38;5;124m\"\u001b[39m, \u001b[38;5;28;01mNone\u001b[39;00m) \u001b[38;5;241m==\u001b[39m \u001b[38;5;28mbool\u001b[39m:\n",
      "File \u001b[0;32m/opt/conda/lib/python3.10/site-packages/pandas/core/indexes/base.py:5782\u001b[0m, in \u001b[0;36mIndex._get_indexer_strict\u001b[0;34m(self, key, axis_name)\u001b[0m\n\u001b[1;32m   5779\u001b[0m \u001b[38;5;28;01melse\u001b[39;00m:\n\u001b[1;32m   5780\u001b[0m     keyarr, indexer, new_indexer \u001b[38;5;241m=\u001b[39m \u001b[38;5;28mself\u001b[39m\u001b[38;5;241m.\u001b[39m_reindex_non_unique(keyarr)\n\u001b[0;32m-> 5782\u001b[0m \u001b[38;5;28;43mself\u001b[39;49m\u001b[38;5;241;43m.\u001b[39;49m\u001b[43m_raise_if_missing\u001b[49m\u001b[43m(\u001b[49m\u001b[43mkeyarr\u001b[49m\u001b[43m,\u001b[49m\u001b[43m \u001b[49m\u001b[43mindexer\u001b[49m\u001b[43m,\u001b[49m\u001b[43m \u001b[49m\u001b[43maxis_name\u001b[49m\u001b[43m)\u001b[49m\n\u001b[1;32m   5784\u001b[0m keyarr \u001b[38;5;241m=\u001b[39m \u001b[38;5;28mself\u001b[39m\u001b[38;5;241m.\u001b[39mtake(indexer)\n\u001b[1;32m   5785\u001b[0m \u001b[38;5;28;01mif\u001b[39;00m \u001b[38;5;28misinstance\u001b[39m(key, Index):\n\u001b[1;32m   5786\u001b[0m     \u001b[38;5;66;03m# GH 42790 - Preserve name from an Index\u001b[39;00m\n",
      "File \u001b[0;32m/opt/conda/lib/python3.10/site-packages/pandas/core/indexes/base.py:5845\u001b[0m, in \u001b[0;36mIndex._raise_if_missing\u001b[0;34m(self, key, indexer, axis_name)\u001b[0m\n\u001b[1;32m   5842\u001b[0m     \u001b[38;5;28;01mraise\u001b[39;00m \u001b[38;5;167;01mKeyError\u001b[39;00m(\u001b[38;5;124mf\u001b[39m\u001b[38;5;124m\"\u001b[39m\u001b[38;5;124mNone of [\u001b[39m\u001b[38;5;132;01m{\u001b[39;00mkey\u001b[38;5;132;01m}\u001b[39;00m\u001b[38;5;124m] are in the [\u001b[39m\u001b[38;5;132;01m{\u001b[39;00maxis_name\u001b[38;5;132;01m}\u001b[39;00m\u001b[38;5;124m]\u001b[39m\u001b[38;5;124m\"\u001b[39m)\n\u001b[1;32m   5844\u001b[0m not_found \u001b[38;5;241m=\u001b[39m \u001b[38;5;28mlist\u001b[39m(ensure_index(key)[missing_mask\u001b[38;5;241m.\u001b[39mnonzero()[\u001b[38;5;241m0\u001b[39m]]\u001b[38;5;241m.\u001b[39munique())\n\u001b[0;32m-> 5845\u001b[0m \u001b[38;5;28;01mraise\u001b[39;00m \u001b[38;5;167;01mKeyError\u001b[39;00m(\u001b[38;5;124mf\u001b[39m\u001b[38;5;124m\"\u001b[39m\u001b[38;5;132;01m{\u001b[39;00mnot_found\u001b[38;5;132;01m}\u001b[39;00m\u001b[38;5;124m not in index\u001b[39m\u001b[38;5;124m\"\u001b[39m)\n",
      "\u001b[0;31mKeyError\u001b[0m: \"['#_of_fixed_route_services', '#_fixed_route_or_deviated_fixed_route_services'] not in index\""
     ]
    }
   ],
   "source": []
  },
  {
   "cell_type": "code",
   "execution_count": null,
   "id": "9e8b9789-7a6b-4d3f-8445-05859009c3cd",
   "metadata": {},
   "outputs": [],
   "source": []
  }
 ],
 "metadata": {
  "kernelspec": {
   "display_name": "Python 3 (ipykernel)",
   "language": "python",
   "name": "python3"
  },
  "language_info": {
   "codemirror_mode": {
    "name": "ipython",
    "version": 3
   },
   "file_extension": ".py",
   "mimetype": "text/x-python",
   "name": "python",
   "nbconvert_exporter": "python",
   "pygments_lexer": "ipython3",
   "version": "3.10.4"
  },
  "widgets": {
   "application/vnd.jupyter.widget-state+json": {
    "state": {},
    "version_major": 2,
    "version_minor": 0
   }
  }
 },
 "nbformat": 4,
 "nbformat_minor": 5
}
