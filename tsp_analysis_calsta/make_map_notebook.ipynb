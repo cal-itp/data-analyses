{
 "cells": [
  {
   "cell_type": "code",
   "execution_count": 1,
   "id": "62c41603-33eb-4a87-9b40-200e1b81d4a1",
   "metadata": {
    "tags": []
   },
   "outputs": [],
   "source": [
    "import geopandas as gpd\n",
    "from calitp_data_analysis import gcs_geopandas, geography_utils\n",
    "from rt_analysis import signal_tools\n",
    "from shared_utils import catalog_utils, rt_dates, rt_utils, webmap_utils\n",
    "import branca"
   ]
  },
  {
   "cell_type": "code",
   "execution_count": 2,
   "id": "892ffbd9-d0bf-45f8-8edc-ed353a1d0251",
   "metadata": {
    "tags": []
   },
   "outputs": [],
   "source": [
    "# constants\n",
    "TARGET_DATE = rt_dates.DATES[\"jun2025\"]\n",
    "SIGNAL_URI = \"gs://calitp-analytics-data/data-analyses/rt_delay/signals/signals_2025-09-08.geojson\"\n",
    "TARGET_TIME_OF_DAY = \"AM Peak\"\n",
    "ANALYSIS_DISTRICT_NUMBER = 7\n",
    "TARGET_TIME_OF_DAY_LENGTH_HOURS = (\n",
    "    3  # the length of the target time of day (3 hours for am peak)\n",
    ")"
   ]
  },
  {
   "cell_type": "code",
   "execution_count": 3,
   "id": "e71d4835-b379-40d5-8eee-5d109dd53c2d",
   "metadata": {
    "tags": []
   },
   "outputs": [],
   "source": [
    "g = gcs_geopandas.GCSGeoPandas()"
   ]
  },
  {
   "cell_type": "code",
   "execution_count": 4,
   "id": "6958ad6c-e453-4248-979c-ea0d7ca8691b",
   "metadata": {
    "tags": []
   },
   "outputs": [],
   "source": [
    "# read geo files\n",
    "shared_data_catalog = catalog_utils.get_catalog(\"shared_data_catalog\")\n",
    "gtfs_data_constants = catalog_utils.get_catalog(\"gtfs_analytics_data\")\n",
    "\n",
    "# Get district polygons to mask\n",
    "# districts = shared_data_catalog.caltrans_districts.read()\n",
    "# analysis_district = districts.loc[districts[\"DISTRICT\"] == ANALYSIS_DISTRICT_NUMBER]\n",
    "analysis_district = gpd.read_file(\"central_westside.geojson\")\n",
    "\n",
    "# Get speedmap data\n",
    "speedmap_segments = g.read_parquet(\n",
    "    f\"{gtfs_data_constants.speedmap_segments.dir}{gtfs_data_constants.speedmap_segments.segment_timeofday}_{TARGET_DATE}.parquet\",\n",
    "    # filters=[(\"caltrans_district\", \"=\", f\"{ANALYSIS_DISTRICT_NUMBER}\")] not working for some reason, think it needs to be 07 - Something\n",
    "    filters=[\n",
    "        (\"time_of_day\", \"=\", TARGET_TIME_OF_DAY)\n",
    "    ],  # Filter for only a selected time of day\n",
    ").clip(analysis_district)\n",
    "# Get signal data\n",
    "signals = (\n",
    "    g.read_file(\n",
    "        SIGNAL_URI,  # filters=[(\"District\", \"=\", f\"{ANALYSIS_DISTRICT_NUMBER}\")] #comment out to do statewide analysis\n",
    "    )\n",
    "    .rename(columns=lambda s: s.lower())\n",
    "    .clip(analysis_district)\n",
    ")  # we want columns to be all lower case\n",
    "# TODO: filter by district"
   ]
  },
  {
   "cell_type": "code",
   "execution_count": 5,
   "id": "74388f24-aab5-404a-98c0-9e9361358703",
   "metadata": {
    "tags": []
   },
   "outputs": [],
   "source": [
    "# Get one GDF with signals and their nearest segment\n",
    "buffered_speedmap_segments = gpd.GeoDataFrame(\n",
    "    data=speedmap_segments.drop(speedmap_segments.geometry.name, axis=1),\n",
    "    geometry=speedmap_segments.to_crs(geography_utils.CA_NAD83Albers_m).buffer(5),\n",
    ")"
   ]
  },
  {
   "cell_type": "code",
   "execution_count": 6,
   "id": "80f63301-5460-446d-8a34-9fba30e50650",
   "metadata": {
    "tags": []
   },
   "outputs": [],
   "source": [
    "def fix_multiline_strings(geom: gpd.GeoSeries) -> gpd.GeoSeries:\n",
    "    \"\"\"Replace any MultiLineStrings in the input with LineStrings, keeping only the longest length\"\"\"\n",
    "    # Filter out linestrings\n",
    "    copy = gpd.GeoDataFrame(geometry=geom.loc[geom.geom_type == \"MultiLineString\"])\n",
    "\n",
    "    # Get a unique value (in case the index is weird)\n",
    "    copy[\"unique_value\"] = 1\n",
    "    copy[\"unique_value\"] = copy[\"unique_value\"].cumsum()\n",
    "\n",
    "    # Explode the MultiLineStrings into their constituent linestrings\n",
    "    exploded = copy.explode(copy.geometry.name, index_parts=False)\n",
    "\n",
    "    # Pick out the line strings with the longest length\n",
    "    exploded[\"geom_length\"] = exploded.to_crs(geography_utils.CA_NAD83Albers_m).length\n",
    "    exploded_sorted = exploded.sort_values(\n",
    "        [\"unique_value\", \"geom_length\"], ascending=False\n",
    "    )\n",
    "    condensed = exploded_sorted.drop_duplicates(\n",
    "        subset=[\"unique_value\"], keep=\"first\"\n",
    "    ).drop(\"unique_value\", axis=1)\n",
    "\n",
    "    # Combine the new geometry with the original geometry, and return it\n",
    "    return geom.where(geom.geom_type != \"MultiLineString\", condensed.geometry)\n",
    "\n",
    "\n",
    "unique_segment_identifiers = [\"segment_id\", \"shape_id\"]"
   ]
  },
  {
   "cell_type": "code",
   "execution_count": 7,
   "id": "757505d9-2382-40e1-b54e-9f628ae46f27",
   "metadata": {
    "tags": []
   },
   "outputs": [],
   "source": [
    "# Join segments to signals\n",
    "\n",
    "sjoined_signals_segments = (\n",
    "    signal_tools.sjoin_signals(\n",
    "        signal_gdf=signals,\n",
    "        segments_gdf=buffered_speedmap_segments,\n",
    "        segments_lines_gdf=speedmap_segments,\n",
    "    )\n",
    "    .drop(\"geometry\", axis=1)\n",
    "    .set_geometry(\"line_geom\")\n",
    ")\n",
    "sjoined_signals_segments.geometry = fix_multiline_strings(\n",
    "    sjoined_signals_segments.geometry\n",
    ")\n",
    "# Get whether the signal is \"approaching\" or not\n",
    "sjoined_signals_segments[\"approaching\"] = signal_tools.determine_approaching(\n",
    "    sjoined_signals_segments\n",
    ")  # unsure if this works\n",
    "# Get the distance from the segment to the associate signal\n",
    "sjoined_signals_segments[\"distance_to_signal\"] = (\n",
    "    sjoined_signals_segments[\"line_geom\"]\n",
    "    .to_crs(geography_utils.CA_NAD83Albers_m)\n",
    "    .distance(\n",
    "        sjoined_signals_segments[\"signal_pt_geom\"].to_crs(\n",
    "            geography_utils.CA_NAD83Albers_m\n",
    "        )\n",
    "    )\n",
    ")\n",
    "# Get the number of scheduled vehicles per hour\n",
    "sjoined_signals_segments[\"vehicles_per_hour_sch\"] = (\n",
    "    sjoined_signals_segments[\"n_trips_sch\"] / TARGET_TIME_OF_DAY_LENGTH_HOURS\n",
    ")\n",
    "\n",
    "# Filter for only approaching vehicles\n",
    "sjoined_signals_segments_approaching = sjoined_signals_segments.loc[\n",
    "    sjoined_signals_segments[\"approaching\"]\n",
    "].copy()\n",
    "# sjoined_signals_segments_"
   ]
  },
  {
   "cell_type": "code",
   "execution_count": 9,
   "id": "7856d751-b614-4f6a-9b33-a044b2065cbe",
   "metadata": {
    "tags": []
   },
   "outputs": [],
   "source": [
    "# Get signal grain data\n",
    "signals_with_transit = signals.loc[\n",
    "    signals[\"tms_unit_type\"] == \"Traffic Signals\"\n",
    "].set_index(\"objectid\")\n",
    "\n",
    "# Make sure we only count the one shape per signal\n",
    "signals_segments_removed_duplicates = sjoined_signals_segments.sort_values(\n",
    "    [\"distance_to_signal\"], ascending=True\n",
    ").drop_duplicates(subset=[\"shape_id\", \"objectid\"], keep=\"first\")\n",
    "\n",
    "# Groupby signal id\n",
    "speedmaps_grouped_by_signal = signals_segments_removed_duplicates.groupby(\"objectid\")\n",
    "\n",
    "# Get frequencies through a stop\n",
    "signals_with_transit[\"vehicles_per_hour_sch\"] = speedmaps_grouped_by_signal[\n",
    "    \"vehicles_per_hour_sch\"\n",
    "].sum()\n",
    "# Get all the routes that serve a stop\n",
    "signals_with_transit[\"segment_names_counted\"] = (\n",
    "    speedmaps_grouped_by_signal[\"route_short_name\"]\n",
    ").agg(lambda s: (s.drop_duplicates().astype(str) + \" & \").sum())"
   ]
  },
  {
   "cell_type": "code",
   "execution_count": 10,
   "id": "3ca2382b-a453-428e-9da8-115380666a4f",
   "metadata": {},
   "outputs": [
    {
     "data": {
      "text/html": [
       "<div>\n",
       "<style scoped>\n",
       "    .dataframe tbody tr th:only-of-type {\n",
       "        vertical-align: middle;\n",
       "    }\n",
       "\n",
       "    .dataframe tbody tr th {\n",
       "        vertical-align: top;\n",
       "    }\n",
       "\n",
       "    .dataframe thead th {\n",
       "        text-align: right;\n",
       "    }\n",
       "</style>\n",
       "<table border=\"1\" class=\"dataframe\">\n",
       "  <thead>\n",
       "    <tr style=\"text-align: right;\">\n",
       "      <th></th>\n",
       "      <th>route_short_name</th>\n",
       "      <th>direction_id</th>\n",
       "      <th>vehicles_per_hour_sch</th>\n",
       "    </tr>\n",
       "    <tr>\n",
       "      <th>objectid</th>\n",
       "      <th></th>\n",
       "      <th></th>\n",
       "      <th></th>\n",
       "    </tr>\n",
       "  </thead>\n",
       "  <tbody>\n",
       "    <tr>\n",
       "      <th>9724</th>\n",
       "      <td>574</td>\n",
       "      <td>1.0</td>\n",
       "      <td>0.333333</td>\n",
       "    </tr>\n",
       "    <tr>\n",
       "      <th>9725</th>\n",
       "      <td>134</td>\n",
       "      <td>0.0</td>\n",
       "      <td>2.000000</td>\n",
       "    </tr>\n",
       "    <tr>\n",
       "      <th>9725</th>\n",
       "      <td>134</td>\n",
       "      <td>1.0</td>\n",
       "      <td>2.000000</td>\n",
       "    </tr>\n",
       "    <tr>\n",
       "      <th>9725</th>\n",
       "      <td>33</td>\n",
       "      <td>0.0</td>\n",
       "      <td>4.000000</td>\n",
       "    </tr>\n",
       "    <tr>\n",
       "      <th>9725</th>\n",
       "      <td>33</td>\n",
       "      <td>1.0</td>\n",
       "      <td>4.000000</td>\n",
       "    </tr>\n",
       "    <tr>\n",
       "      <th>...</th>\n",
       "      <td>...</td>\n",
       "      <td>...</td>\n",
       "      <td>...</td>\n",
       "    </tr>\n",
       "    <tr>\n",
       "      <th>13582</th>\n",
       "      <td>81</td>\n",
       "      <td>1.0</td>\n",
       "      <td>4.000000</td>\n",
       "    </tr>\n",
       "    <tr>\n",
       "      <th>13582</th>\n",
       "      <td>90</td>\n",
       "      <td>0.0</td>\n",
       "      <td>3.000000</td>\n",
       "    </tr>\n",
       "    <tr>\n",
       "      <th>13582</th>\n",
       "      <td>90</td>\n",
       "      <td>1.0</td>\n",
       "      <td>3.000000</td>\n",
       "    </tr>\n",
       "    <tr>\n",
       "      <th>13582</th>\n",
       "      <td>94</td>\n",
       "      <td>0.0</td>\n",
       "      <td>4.000000</td>\n",
       "    </tr>\n",
       "    <tr>\n",
       "      <th>13582</th>\n",
       "      <td>94</td>\n",
       "      <td>1.0</td>\n",
       "      <td>4.333333</td>\n",
       "    </tr>\n",
       "  </tbody>\n",
       "</table>\n",
       "<p>3454 rows × 3 columns</p>\n",
       "</div>"
      ],
      "text/plain": [
       "         route_short_name  direction_id  vehicles_per_hour_sch\n",
       "objectid                                                      \n",
       "9724                  574           1.0               0.333333\n",
       "9725                  134           0.0               2.000000\n",
       "9725                  134           1.0               2.000000\n",
       "9725                   33           0.0               4.000000\n",
       "9725                   33           1.0               4.000000\n",
       "...                   ...           ...                    ...\n",
       "13582                  81           1.0               4.000000\n",
       "13582                  90           0.0               3.000000\n",
       "13582                  90           1.0               3.000000\n",
       "13582                  94           0.0               4.000000\n",
       "13582                  94           1.0               4.333333\n",
       "\n",
       "[3454 rows x 3 columns]"
      ]
     },
     "execution_count": 10,
     "metadata": {},
     "output_type": "execute_result"
    }
   ],
   "source": [
    "# Get signal-route grain data\n",
    "signal_route_group = signals_segments_removed_duplicates.groupby(\n",
    "    [\"objectid\", \"route_short_name\", \"direction_id\"]\n",
    ")\n",
    "\n",
    "signals_routes_frequency = signal_route_group[\"vehicles_per_hour_sch\"].sum()\n",
    "signals_routes_frequency.reset_index().set_index(\"objectid\")"
   ]
  },
  {
   "cell_type": "code",
   "execution_count": 11,
   "id": "b413ccfe-37c1-4dd1-94b1-85bd48c357d2",
   "metadata": {
    "tags": []
   },
   "outputs": [
    {
     "data": {
      "text/plain": [
       "Index(['schedule_gtfs_dataset_key', 'shape_id', 'shape_array_key', 'route_id',\n",
       "       'direction_id', 'stop_pair', 'segment_id', 'stop_pair_name',\n",
       "       'time_of_day', 'p50_mph', 'n_trips', 'p20_mph', 'p80_mph',\n",
       "       'n_trips_sch', 'trips_hr_sch', 'route_short_name', 'name',\n",
       "       'caltrans_district', 'organization_source_record_id_x',\n",
       "       'organization_name', 'base64_url', 'imms_id_x', 'objectid', 'location',\n",
       "       'imms_id_y', 'signal_pt_geom', 'line_geom',\n",
       "       'organization_source_record_id_y', 'approaching', 'distance_to_signal',\n",
       "       'vehicles_per_hour_sch'],\n",
       "      dtype='object')"
      ]
     },
     "execution_count": 11,
     "metadata": {},
     "output_type": "execute_result"
    }
   ],
   "source": [
    "sjoined_signals_segments.columns"
   ]
  },
  {
   "cell_type": "code",
   "execution_count": 20,
   "id": "239f73d5-ddf9-460d-94a1-6c6ddae97046",
   "metadata": {},
   "outputs": [],
   "source": [
    "signals_with_transit_display_columns = [\n",
    "    \"tms_unit_type\",\n",
    "    \"asset_sub_type\",\n",
    "    #\"tms_id\",\n",
    "    \"imms_id\",\n",
    "    \"delegation_type\",\n",
    "    #\"leased_owned\",\n",
    "    #\"comment\",\n",
    "    \"vehicles_per_hour_sch\",\n",
    "    \"segment_names_counted\",\n",
    "    signals_with_transit.geometry.name,\n",
    "]\n",
    "sjoined_signals_segments_display_columns = [\n",
    "    \"p50_mph\",\n",
    "    \"p20_mph\",\n",
    "    \"p80_mph\",\n",
    "    \"route_short_name\",\n",
    "    \"organization_name\",\n",
    "    sjoined_signals_segments.geometry.name,\n",
    "]"
   ]
  },
  {
   "cell_type": "code",
   "execution_count": 27,
   "id": "d3684c8b-b5af-4b89-a953-e21a26f9fdc3",
   "metadata": {
    "tags": []
   },
   "outputs": [
    {
     "name": "stderr",
     "output_type": "stream",
     "text": [
      "/home/jovyan/data-analyses/_shared_utils/shared_utils/webmap_utils.py:118: UserWarning: Geometry is in a geographic CRS. Results from 'centroid' are likely incorrect. Use 'GeoSeries.to_crs()' to re-project geometries to a projected CRS before this operation.\n",
      "\n",
      "  centroid = (gdf.geometry.centroid.y.mean(), gdf.geometry.centroid.x.mean())\n"
     ]
    },
    {
     "data": {
      "text/plain": [
       "{'state_dict': {'name': 'null',\n",
       "  'layers': [{'name': 'Speeds',\n",
       "    'url': 'https://storage.googleapis.com/calitp-map-tiles/signals_v2speeds.geojson.gz',\n",
       "    'properties': {'stroked': False,\n",
       "     'highlight_saturation_multiplier': 0.5,\n",
       "     'tooltip_speed_key': 'p20_mph'},\n",
       "    'type': 'new_speedmap'},\n",
       "   {'name': 'Signals with Approach Speeds 2025-06-11',\n",
       "    'url': 'https://storage.googleapis.com/calitp-map-tiles/signals_v2test2.geojson.gz',\n",
       "    'properties': {'stroked': False, 'highlight_saturation_multiplier': 0.5}}],\n",
       "  'lat_lon': [33.699342, -117.987465],\n",
       "  'zoom': 13,\n",
       "  'legend_url': 'https://storage.googleapis.com/calitp-map-tiles/signal_legend.svg'},\n",
       " 'spa_link': 'https://embeddable-maps.calitp.org/?state=eyJuYW1lIjogIm51bGwiLCAibGF5ZXJzIjogW3sibmFtZSI6ICJTcGVlZHMiLCAidXJsIjogImh0dHBzOi8vc3RvcmFnZS5nb29nbGVhcGlzLmNvbS9jYWxpdHAtbWFwLXRpbGVzL3NpZ25hbHNfdjJzcGVlZHMuZ2VvanNvbi5neiIsICJwcm9wZXJ0aWVzIjogeyJzdHJva2VkIjogZmFsc2UsICJoaWdobGlnaHRfc2F0dXJhdGlvbl9tdWx0aXBsaWVyIjogMC41LCAidG9vbHRpcF9zcGVlZF9rZXkiOiAicDIwX21waCJ9LCAidHlwZSI6ICJuZXdfc3BlZWRtYXAifSwgeyJuYW1lIjogIlNpZ25hbHMgd2l0aCBBcHByb2FjaCBTcGVlZHMgMjAyNS0wNi0xMSIsICJ1cmwiOiAiaHR0cHM6Ly9zdG9yYWdlLmdvb2dsZWFwaXMuY29tL2NhbGl0cC1tYXAtdGlsZXMvc2lnbmFsc192MnRlc3QyLmdlb2pzb24uZ3oiLCAicHJvcGVydGllcyI6IHsic3Ryb2tlZCI6IGZhbHNlLCAiaGlnaGxpZ2h0X3NhdHVyYXRpb25fbXVsdGlwbGllciI6IDAuNX19XSwgImxhdF9sb24iOiBbMzMuNjk5MzQyLCAtMTE3Ljk4NzQ2NV0sICJ6b29tIjogMTMsICJsZWdlbmRfdXJsIjogImh0dHBzOi8vc3RvcmFnZS5nb29nbGVhcGlzLmNvbS9jYWxpdHAtbWFwLXRpbGVzL3NpZ25hbF9sZWdlbmQuc3ZnIn0='}"
      ]
     },
     "execution_count": 27,
     "metadata": {},
     "output_type": "execute_result"
    }
   ],
   "source": [
    "# Create webmap\n",
    "SIGNAL_LEGEND_URL = 'https://storage.googleapis.com/calitp-map-tiles/signal_legend.svg'\n",
    "signal_colorscale = branca.colormap.step.Purples_05.scale(vmin=0, vmax=sjoined_signals_segments[\"vehicles_per_hour_sch\"].max())\n",
    "speedmap = webmap_utils.set_state_export(\n",
    "    sjoined_signals_segments_approaching.drop(\"signal_pt_geom\", axis=1),\n",
    "    subfolder=\"signals_v2\",\n",
    "    filename=\"speeds\",\n",
    "    cmap=rt_utils.ACCESS_ZERO_THIRTY_COLORSCALE,\n",
    "    color_col=\"p20_mph\",\n",
    "    cache_seconds=1,\n",
    "    map_type=\"new_speedmap\",\n",
    "    legend_url=rt_utils.SPEEDMAP_LEGEND_URL,\n",
    "    map_title=\"Speeds\",\n",
    ")\n",
    "signal_speedmap = webmap_utils.set_state_export(\n",
    "    signals_with_transit[signals_with_transit_display_columns],\n",
    "    subfolder=\"signals_v2\",\n",
    "    cmap=signal_colorscale,\n",
    "    color_col=\"vehicles_per_hour_sch\",\n",
    "    existing_state=speedmap['state_dict'],\n",
    "    map_title=f\"Signals with Approach Speeds {TARGET_DATE}\",\n",
    "    legend_url=SIGNAL_LEGEND_URL,\n",
    "    manual_centroid = [33.699342, -117.987465]\n",
    ")\n",
    "signal_speedmap"
   ]
  },
  {
   "cell_type": "code",
   "execution_count": null,
   "id": "090b5eba-5582-4b20-b722-d2d0d5485036",
   "metadata": {
    "tags": []
   },
   "outputs": [],
   "source": [
    "signals.loc[signals[\"tms_unit_type\"] == \"Traffic Signals\"].objectid.duplicated().any()"
   ]
  },
  {
   "cell_type": "code",
   "execution_count": null,
   "id": "f9bd3be8-a771-4af7-9383-2e8bc8c08431",
   "metadata": {
    "tags": []
   },
   "outputs": [],
   "source": [
    "sjoined_signals_segments.columns"
   ]
  },
  {
   "cell_type": "markdown",
   "id": "2e2a4cb8-347c-4e99-8880-017681c1f104",
   "metadata": {},
   "source": [
    "ToDo:\n",
    "- Immediate\n",
    "  - Need to get definition for n_trips, and stop double counting segments at scores\n",
    "    - Something like, for each shape id, we only count the n_trips_sch at the closest point- \n",
    "  - Need to figure out why determine_approaching seems not to be working (Melrose / Normandie example?)\n",
    "  - Need to get frequency per line at each signal\n",
    "  - Get something working that graphs, even if it's ugly\n",
    "- Less immediate\n",
    "  - Use route_short_name\n",
    "  - Get trips per hour, rather than whatever n_trips_sch is"
   ]
  },
  {
   "cell_type": "code",
   "execution_count": null,
   "id": "f4f98714-1342-4941-9275-710fda976d0c",
   "metadata": {},
   "outputs": [],
   "source": []
  }
 ],
 "metadata": {
  "kernelspec": {
   "display_name": "Python 3 (ipykernel)",
   "language": "python",
   "name": "python3"
  },
  "language_info": {
   "codemirror_mode": {
    "name": "ipython",
    "version": 3
   },
   "file_extension": ".py",
   "mimetype": "text/x-python",
   "name": "python",
   "nbconvert_exporter": "python",
   "pygments_lexer": "ipython3",
   "version": "3.11.10"
  }
 },
 "nbformat": 4,
 "nbformat_minor": 5
}
