{
 "cells": [
  {
   "cell_type": "markdown",
   "id": "e5a70c44-d06e-4175-84d1-ffa48c1fc4fa",
   "metadata": {},
   "source": [
    "# Trips full table v1 vs v2\n",
    "\n",
    "Use this to figure out how to do exclusion between v1 and v2. \n",
    "\n",
    "Is it simply excluding 511 regional feed?"
   ]
  },
  {
   "cell_type": "code",
   "execution_count": 1,
   "id": "c794b111-8ce1-413f-94a3-cdc70edd2e23",
   "metadata": {},
   "outputs": [
    {
     "name": "stderr",
     "output_type": "stream",
     "text": [
      "/opt/conda/lib/python3.9/site-packages/geopandas/_compat.py:123: UserWarning: The Shapely GEOS version (3.10.3-CAPI-1.16.1) is incompatible with the GEOS version PyGEOS was compiled with (3.10.1-CAPI-1.16.0). Conversions between both will be slow.\n",
      "  warnings.warn(\n"
     ]
    }
   ],
   "source": [
    "import os\n",
    "os.environ[\"CALITP_BQ_MAX_BYTES\"] = str(2_000_000_000_000)\n",
    "\n",
    "import geopandas as gpd\n",
    "import pandas as pd\n",
    "import sys\n",
    "\n",
    "from loguru import logger\n",
    "from calitp.tables import tbls\n",
    "from siuba import *\n",
    "\n",
    "import gtfs_utils_v2\n",
    "from shared_utils import rt_dates"
   ]
  },
  {
   "cell_type": "code",
   "execution_count": 10,
   "id": "123aa69c-1cce-422c-a808-947bb3a0285a",
   "metadata": {},
   "outputs": [],
   "source": [
    "analysis_date = rt_dates.DATES[\"oct2022\"]"
   ]
  },
  {
   "cell_type": "code",
   "execution_count": 6,
   "id": "d67900e5-9c14-4818-aa63-30298e53ebf8",
   "metadata": {},
   "outputs": [],
   "source": [
    "dim_gtfs_datasets = (\n",
    "    tbls.mart_transit_database.dim_gtfs_datasets()\n",
    "    >> filter(_[\"data\"] == \"GTFS Schedule\")\n",
    "    >> rename(gtfs_dataset_key = \"key\")\n",
    "    >> select(_.gtfs_dataset_key, _.name, _.regional_feed_type)\n",
    "    >> distinct()\n",
    ")"
   ]
  },
  {
   "cell_type": "code",
   "execution_count": 8,
   "id": "3d5630df-5444-4633-a0da-f8fd537de5c9",
   "metadata": {},
   "outputs": [
    {
     "name": "stdout",
     "output_type": "stream",
     "text": [
      "SELECT DISTINCT `mart_transit_database.dim_gtfs_datasets_1`.`key` AS `gtfs_dataset_key`, `mart_transit_database.dim_gtfs_datasets_1`.`name`, `mart_transit_database.dim_gtfs_datasets_1`.`regional_feed_type` \n",
      "FROM `mart_transit_database.dim_gtfs_datasets` AS `mart_transit_database.dim_gtfs_datasets_1` \n",
      "WHERE `mart_transit_database.dim_gtfs_datasets_1`.`data` = 'GTFS Schedule'\n",
      "# Source: lazy query\n",
      "# DB Conn: Engine(bigquery://cal-itp-data-infra/?maximum_bytes_billed=2000000000000)\n",
      "# Preview:\n",
      "    gtfs_dataset_key                    name       regional_feed_type\n",
      "0  recsBJKl0jkyqfLk4  Thousand Oaks Schedule  Regional Precursor Feed\n",
      "1  reciKWkJ953NSPTtj        G Trans Schedule                     None\n",
      "2  reczps9Ejby9P7Njr  SunLine Avail Schedule                     None\n",
      "3  recM9LZoHwKzjuhPM      La Puente Schedule                     None\n",
      "4  rec3FmQFpaxdDOpwF        Burbank Schedule                     None\n",
      "# .. may have more rows\n"
     ]
    }
   ],
   "source": [
    "print(dim_gtfs_datasets >> show_query())"
   ]
  },
  {
   "cell_type": "code",
   "execution_count": 11,
   "id": "d8ac40ed-cf1e-4e84-b886-442e89398d76",
   "metadata": {},
   "outputs": [],
   "source": [
    "fact_feeds = (\n",
    "    tbls.mart_gtfs.fct_daily_schedule_feeds()\n",
    "    >> filter((_.date == analysis_date))\n",
    "    >> inner_join(_, dim_gtfs_datasets, \n",
    "                  on = \"gtfs_dataset_key\"\n",
    "                 )\n",
    ")  "
   ]
  },
  {
   "cell_type": "code",
   "execution_count": 12,
   "id": "27051cb2-b9e4-4ee3-90a3-ed44a945f341",
   "metadata": {},
   "outputs": [
    {
     "name": "stdout",
     "output_type": "stream",
     "text": [
      "SELECT `anon_1`.`key`, `anon_1`.`date`, `anon_1`.`feed_key`, `anon_1`.`base64_url`, `anon_1`.`gtfs_dataset_key`, `anon_1`.`is_future`, `anon_2`.`regional_feed_type`, `anon_2`.`name` \n",
      "FROM (SELECT `mart_gtfs.fct_daily_schedule_feeds_1`.`key` AS `key`, `mart_gtfs.fct_daily_schedule_feeds_1`.`date` AS `date`, `mart_gtfs.fct_daily_schedule_feeds_1`.`feed_key` AS `feed_key`, `mart_gtfs.fct_daily_schedule_feeds_1`.`base64_url` AS `base64_url`, `mart_gtfs.fct_daily_schedule_feeds_1`.`gtfs_dataset_key` AS `gtfs_dataset_key`, `mart_gtfs.fct_daily_schedule_feeds_1`.`is_future` AS `is_future` \n",
      "FROM `mart_gtfs.fct_daily_schedule_feeds` AS `mart_gtfs.fct_daily_schedule_feeds_1` \n",
      "WHERE `mart_gtfs.fct_daily_schedule_feeds_1`.`date` = '2022-10-12') AS `anon_1` JOIN (SELECT DISTINCT `mart_transit_database.dim_gtfs_datasets_1`.`key` AS `gtfs_dataset_key`, `mart_transit_database.dim_gtfs_datasets_1`.`name` AS `name`, `mart_transit_database.dim_gtfs_datasets_1`.`regional_feed_type` AS `regional_feed_type` \n",
      "FROM `mart_transit_database.dim_gtfs_datasets` AS `mart_transit_database.dim_gtfs_datasets_1` \n",
      "WHERE `mart_transit_database.dim_gtfs_datasets_1`.`data` = 'GTFS Schedule') AS `anon_2` ON `anon_1`.`gtfs_dataset_key` = `anon_2`.`gtfs_dataset_key`\n",
      "# Source: lazy query\n",
      "# DB Conn: Engine(bigquery://cal-itp-data-infra/?maximum_bytes_billed=2000000000000)\n",
      "# Preview:\n",
      "                                key       date  \\\n",
      "0  a2618a7d74ccf033fd0db40a5ff05b2e 2022-10-12   \n",
      "1  9248b1774056d768574b2306541b2fe3 2022-10-12   \n",
      "2  a2e8cc60ae558a8265d03820ed42a53b 2022-10-12   \n",
      "3  dcd586cd114dabaa793e30e393109a6a 2022-10-12   \n",
      "4  31bd85c906bd15f1888f291fb32d6827 2022-10-12   \n",
      "\n",
      "                           feed_key  \\\n",
      "0  01fd909003ff5c22a71f28585d04822b   \n",
      "1  02a365c4cf4b252293fb0503598fd43d   \n",
      "2  050dcfdc6ff44718ff6e326f3d3b9a5a   \n",
      "3  05c263e0f0563d3326a15c1b640ad945   \n",
      "4  06d9698342ca7cb663ebbaf3537ce95d   \n",
      "\n",
      "                                          base64_url   gtfs_dataset_key  \\\n",
      "0  aHR0cDovL2RhdGEudHJpbGxpdW10cmFuc2l0LmNvbS9ndG...  recihmkhgREB2Lvxt   \n",
      "1  aHR0cDovL3d3dy5nb25jdGQuY29tL2dvb2dsZV90cmFuc2...  recltDJn10nOSilgD   \n",
      "2  aHR0cDovL2FwaS41MTEub3JnL3RyYW5zaXQvZGF0YWZlZW...  recfkVrxPHPaWOs4J   \n",
      "3  aHR0cHM6Ly9vY3RhLm5ldC9jdXJyZW50L2dvb2dsZV90cm...  reckk3FzZojulIKYL   \n",
      "4  aHR0cHM6Ly93d3cuc2RtdHMuY29tL2dvb2dsZV90cmFuc2...  recfZ9iWkptccoONX   \n",
      "\n",
      "   is_future regional_feed_type                            name  \n",
      "0      False               None                Needles Schedule  \n",
      "1      False               None           North County Schedule  \n",
      "2      False   Regional Subfeed  Bay Area 511 SamTrans Schedule  \n",
      "3      False               None                   OCTA Schedule  \n",
      "4      False               None              San Diego Schedule  \n",
      "# .. may have more rows\n"
     ]
    }
   ],
   "source": [
    "print(fact_feeds >> show_query())"
   ]
  },
  {
   "cell_type": "code",
   "execution_count": 2,
   "id": "eafed668-4408-420f-b242-d2bbaba49c68",
   "metadata": {},
   "outputs": [
    {
     "data": {
      "text/plain": [
       "['2022-10-12', '2022-11-16']"
      ]
     },
     "execution_count": 2,
     "metadata": {},
     "output_type": "execute_result"
    }
   ],
   "source": [
    "dates = [\n",
    "        rt_dates.DATES[\"oct2022\"], \n",
    "        rt_dates.DATES[\"nov2022\"]\n",
    "    ]"
   ]
  },
  {
   "cell_type": "code",
   "execution_count": 3,
   "id": "0054bf9a-a276-4bab-8adb-8e346efe49be",
   "metadata": {},
   "outputs": [],
   "source": [
    "for d in dates:\n",
    "    \n",
    "    daily_feeds = gtfs_utils_v2.daily_feed_to_organization(\n",
    "        selected_date = d,\n",
    "        get_df = True\n",
    "    )\n",
    "\n",
    "    daily_feeds.to_parquet(f\"./data/daily_feeds_orgs_{d}.parquet\")"
   ]
  },
  {
   "cell_type": "code",
   "execution_count": 4,
   "id": "719e3864-83c5-4590-a306-5abd44ad0f14",
   "metadata": {},
   "outputs": [],
   "source": [
    "daily_feeds = pd.read_parquet(f\"./data/daily_feeds_orgs_{dates[0]}.parquet\")\n",
    "\n",
    "include_feeds = daily_feeds.feed_key.unique().tolist()\n"
   ]
  },
  {
   "cell_type": "code",
   "execution_count": 6,
   "id": "1cf59b0f-ec2c-4e98-b3c6-63cf8af8784e",
   "metadata": {},
   "outputs": [],
   "source": [
    "trips = gtfs_utils_v2.get_trips(\n",
    "    selected_date = dates[0], \n",
    "    subset_feeds = include_feeds,\n",
    "    get_df = True\n",
    ")\n",
    "        \n",
    "trips.to_parquet(f\"./data/trips_{dates[0]}.parquet\")"
   ]
  },
  {
   "cell_type": "code",
   "execution_count": 7,
   "id": "00c3eaa9-00cc-4097-a764-e97518362d80",
   "metadata": {},
   "outputs": [],
   "source": [
    "daily_feeds = pd.read_parquet(f\"./data/daily_feeds_orgs_{dates[1]}.parquet\")\n",
    "\n",
    "include_feeds = daily_feeds.feed_key.unique().tolist()\n",
    "\n",
    "trips = gtfs_utils_v2.get_trips(\n",
    "    selected_date = dates[1], \n",
    "    subset_feeds = include_feeds,\n",
    "    get_df = True\n",
    ")\n",
    "        \n",
    "trips.to_parquet(f\"./data/trips_{dates[1]}.parquet\")"
   ]
  },
  {
   "cell_type": "code",
   "execution_count": null,
   "id": "72e0afc1-b822-400f-be3e-0bbfc3950c52",
   "metadata": {},
   "outputs": [],
   "source": []
  },
  {
   "cell_type": "code",
   "execution_count": null,
   "id": "354d97ef-609a-45b2-a689-b5da5be7858f",
   "metadata": {},
   "outputs": [],
   "source": []
  }
 ],
 "metadata": {
  "kernelspec": {
   "display_name": "Python 3 (ipykernel)",
   "language": "python",
   "name": "python3"
  },
  "language_info": {
   "codemirror_mode": {
    "name": "ipython",
    "version": 3
   },
   "file_extension": ".py",
   "mimetype": "text/x-python",
   "name": "python",
   "nbconvert_exporter": "python",
   "pygments_lexer": "ipython3",
   "version": "3.9.13"
  }
 },
 "nbformat": 4,
 "nbformat_minor": 5
}
