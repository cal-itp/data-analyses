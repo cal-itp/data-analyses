{
 "cells": [
  {
   "cell_type": "code",
   "execution_count": 1,
   "id": "f836a20d-d25c-41b3-908e-b1cf2c25e1d8",
   "metadata": {},
   "outputs": [
    {
     "name": "stderr",
     "output_type": "stream",
     "text": [
      "/opt/conda/lib/python3.9/site-packages/geopandas/_compat.py:123: UserWarning: The Shapely GEOS version (3.10.3-CAPI-1.16.1) is incompatible with the GEOS version PyGEOS was compiled with (3.10.1-CAPI-1.16.0). Conversions between both will be slow.\n",
      "  warnings.warn(\n"
     ]
    }
   ],
   "source": [
    "import os\n",
    "os.environ[\"CALITP_BQ_MAX_BYTES\"] = str(200_000_000_000)\n",
    " \n",
    "import geopandas as gpd\n",
    "import pandas as pd\n",
    "\n",
    "from dask import delayed, compute\n",
    "from dask.delayed import Delayed # use this for type hint\n",
    "from siuba import *\n",
    "\n",
    "import gtfs_utils_v2\n",
    "from shared_utils import geography_utils, rt_dates, utils\n",
    "\n",
    "analysis_date = rt_dates.DATES[\"oct2022\"]\n",
    "\n",
    "DASK_GCS = \"gs://calitp-analytics-data/data-analyses/dask_test/v2_schedule/\""
   ]
  },
  {
   "cell_type": "code",
   "execution_count": 2,
   "id": "3fa6dc1d-f23b-4047-bdc8-25e363c58d22",
   "metadata": {},
   "outputs": [],
   "source": [
    "'''\n",
    "daily_feeds_orgs = gtfs_utils_v2.daily_feed_to_organization(\n",
    "    selected_date = analysis_date,\n",
    "    get_df = True\n",
    ")\n",
    "\n",
    "daily_feeds_orgs.to_parquet(\"./data/daily_feeds_orgs.parquet\")\n",
    "'''\n",
    "\n",
    "daily_feeds_orgs = pd.read_parquet(\"./data/daily_feeds_orgs.parquet\")"
   ]
  },
  {
   "cell_type": "code",
   "execution_count": 3,
   "id": "a45c70d5-68b0-4a34-bca5-4024b3217f9b",
   "metadata": {},
   "outputs": [
    {
     "name": "stdout",
     "output_type": "stream",
     "text": [
      "['285e72c8fed97bcd0acb05aeda8aa985', 'bbba508561429fb97adb16f47bb4bdb1']\n"
     ]
    }
   ],
   "source": [
    "test_operators = [\n",
    "    \"LA Metro Bus Schedule\",\n",
    "    \"LA Metro Rail Schedule\"\n",
    "]\n",
    "\n",
    "#daily_feeds_orgs[daily_feeds_orgs.name.isin(test_operators)]\n",
    "\n",
    "test_feed_keys = daily_feeds_orgs[\n",
    "    daily_feeds_orgs.name.isin(test_operators)].feed_key.tolist()\n",
    "\n",
    "print(test_feed_keys)"
   ]
  },
  {
   "cell_type": "code",
   "execution_count": null,
   "id": "89bc427c-896b-4c7c-9381-1405fdf64609",
   "metadata": {},
   "outputs": [],
   "source": [
    "def compute_delayed(\n",
    "    feed_key: str, analysis_date: str, \n",
    "    trips: Delayed, route_info: Delayed, route_shapes: Delayed\n",
    "):\n",
    "    \"\"\"\n",
    "    Unpack the result from the dask delayed function. \n",
    "    The delayed object is a tuple, and since we just have 1 object, use \n",
    "    [0] to grab it.\n",
    "    \n",
    "    Export the pd.DataFrame or gpd.GeoDataFrame to GCS.\n",
    "    \n",
    "    https://stackoverflow.com/questions/44602766/unpacking-result-of-delayed-function\n",
    "    \"\"\"\n",
    "    trips = compute(trips)[0]\n",
    "    print(\"Computed trips\")\n",
    "    \n",
    "    route_info = compute(route_info)[0]\n",
    "    print(\"Computed route_info\")\n",
    "\n",
    "    route_shapes = compute(route_shapes)[0]\n",
    "    print(\"Computed route_shapes\")\n",
    "    \n",
    "    DATA_PATH = \"./v2_data/\"\n",
    "    \n",
    "    if not ((trips.empty) and (route_info.empty) and (route_shapes.empty)):\n",
    "        trips.to_parquet(\n",
    "            f\"{DATA_PATH}trips_{feed_key}_{analysis_date}.parquet\")\n",
    "        print(\"Exported trips\")\n",
    "        \n",
    "        route_info.to_parquet(\n",
    "            f\"{DATA_PATH}route_info_{feed_key}_{analysis_date}.parquet\")\n",
    "        print(\"Exported route_info\")\n",
    "        \n",
    "        route_shapes.to_parquet(\n",
    "            f\"{DATA_PATH}route_shapes_{feed_key}_{analysis_date}.parquet\")\n",
    "        print(\"Exported route_shapes\")\n"
   ]
  },
  {
   "cell_type": "code",
   "execution_count": null,
   "id": "865cc3e3-c86c-468e-971f-c84368f67425",
   "metadata": {},
   "outputs": [],
   "source": [
    "for feed in test_feed_keys:\n",
    "    trips = delayed(\n",
    "        gtfs_utils_v2.get_trips(\n",
    "            selected_date = analysis_date,\n",
    "            subset_feeds = [feed],\n",
    "            get_df = True\n",
    "        )\n",
    "    )\n",
    "    \n",
    "    route_info = delayed(\n",
    "        gtfs_utils_v2.get_route_info(\n",
    "            selected_date = analysis_date,\n",
    "            subset_feeds = [feed],\n",
    "            get_df = True\n",
    "        )\n",
    "    )\n",
    "    \n",
    "    route_shapes = delayed(\n",
    "        gtfs_utils_v2.get_route_shapes(\n",
    "            selected_date = analysis_date,\n",
    "            subset_feeds = [feed],\n",
    "            get_df = True,\n",
    "        )\n",
    "    )\n",
    "\n",
    "    compute_delayed(feed, analysis_date, \n",
    "                    trips, route_info, route_shapes)"
   ]
  },
  {
   "cell_type": "code",
   "execution_count": null,
   "id": "cb4dfe6a-cc6c-4fe3-924e-2bae7a762e45",
   "metadata": {},
   "outputs": [],
   "source": []
  }
 ],
 "metadata": {
  "kernelspec": {
   "display_name": "Python 3 (ipykernel)",
   "language": "python",
   "name": "python3"
  },
  "language_info": {
   "codemirror_mode": {
    "name": "ipython",
    "version": 3
   },
   "file_extension": ".py",
   "mimetype": "text/x-python",
   "name": "python",
   "nbconvert_exporter": "python",
   "pygments_lexer": "ipython3",
   "version": "3.9.13"
  }
 },
 "nbformat": 4,
 "nbformat_minor": 5
}
