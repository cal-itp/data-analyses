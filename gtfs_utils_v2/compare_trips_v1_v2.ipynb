{
 "cells": [
  {
   "cell_type": "markdown",
   "id": "0469029f-11b1-459b-87c4-fd90ac78c576",
   "metadata": {},
   "source": [
    "# Merge v1 and v2 to see which trip_ids are present\n",
    "\n",
    "* Start with Oct, then do the same for Nov (but it doesn't appear that schedule data changes much between these 2 dates)"
   ]
  },
  {
   "cell_type": "code",
   "execution_count": 1,
   "id": "5aeecfbf-29df-4028-b92a-8fa2b8e547a8",
   "metadata": {},
   "outputs": [
    {
     "name": "stderr",
     "output_type": "stream",
     "text": [
      "/opt/conda/lib/python3.9/site-packages/geopandas/_compat.py:123: UserWarning: The Shapely GEOS version (3.10.3-CAPI-1.16.1) is incompatible with the GEOS version PyGEOS was compiled with (3.10.1-CAPI-1.16.0). Conversions between both will be slow.\n"
     ]
    }
   ],
   "source": [
    "#import os\n",
    "#os.environ[\"CALITP_BQ_MAX_BYTES\"] = str(1_000_000_000_000)\n",
    "\n",
    "import dask.dataframe as dd\n",
    "import pandas as pd\n",
    "\n",
    "#from calitp.tables import tbls\n",
    "#from siuba import *\n",
    "\n",
    "#from shared_utils import rt_utils, gtfs_utils\n",
    "from shared_utils import rt_dates, geography_utils\n",
    "\n",
    "V1_PATH = f\"./v1_data/\"\n",
    "V2_PATH = \"./v2_data/\"\n",
    "\n",
    "oct_date = rt_dates.DATES[\"oct2022\"]"
   ]
  },
  {
   "cell_type": "code",
   "execution_count": null,
   "id": "4dbbec28-4e21-41f8-a2e3-0effa867f26f",
   "metadata": {},
   "outputs": [],
   "source": [
    "'''\n",
    "ALL_ITP_IDS = (tbls.gtfs_schedule.agency()\n",
    "               >> distinct(_.calitp_itp_id)\n",
    "               >> filter(_.calitp_itp_id != 200)\n",
    "               >> collect()\n",
    "              ).calitp_itp_id.tolist()\n",
    "\n",
    "trips_oct = gtfs_utils.get_trips(\n",
    "    selected_date = oct_date,\n",
    "    itp_id_list = ALL_ITP_IDS,\n",
    "    get_df = True\n",
    ")\n",
    "\n",
    "trips_oct.to_parquet(f\"{V1_PATH}trips_{oct_date}.parquet\")\n",
    "\n",
    "trips_nov = gtfs_utils.get_trips(\n",
    "    selected_date = nov_date,\n",
    "    itp_id_list = ALL_ITP_IDS,\n",
    "    get_df = True\n",
    ")\n",
    "\n",
    "trips_nov.to_parquet(f\"{V1_PATH}trips_{nov_date}.parquet\")\n",
    "'''"
   ]
  },
  {
   "cell_type": "code",
   "execution_count": 2,
   "id": "b6cc2e9f-1b3e-4408-b8ae-fa1c9b79e210",
   "metadata": {},
   "outputs": [],
   "source": [
    "daily_feeds = pd.read_parquet(\n",
    "    f\"{V2_PATH}daily_feeds_orgs_{oct_date}.parquet\")"
   ]
  },
  {
   "cell_type": "code",
   "execution_count": 3,
   "id": "efdf69eb-8a6f-4197-a6dd-7b1dd8305b48",
   "metadata": {},
   "outputs": [],
   "source": [
    "v1_id = [\"calitp_itp_id\", \"calitp_url_number\"]\n",
    "v2_id = [\"feed_key\", \"name\"]\n",
    "\n",
    "def import_v1_v2_trips(date: str) -> pd.DataFrame:\n",
    "    keep_cols = [\n",
    "        \"trip_id\", \"route_id\", \"shape_id\",\n",
    "        \"service_hours\"\n",
    "    ]\n",
    "    \n",
    "    df1 = pd.read_parquet(f\"{V1_PATH}trips_{date}.parquet\")\n",
    "    df1 = df1[v1_id + keep_cols]\n",
    "    \n",
    "    df2 = pd.read_parquet(f\"{V2_PATH}trips_{date}.parquet\")\n",
    "    feed_to_name = pd.read_parquet(\n",
    "        f\"{V2_PATH}daily_feeds_orgs_{date}.parquet\")\n",
    "    \n",
    "    df2 = (df2.rename(columns = {\n",
    "            \"feed_key_x\": \"feed_key\",\n",
    "            \"trip_id_x\": \"trip_id\", \n",
    "            \"route_id_x\": \"route_id\"})\n",
    "           [[\"feed_key\"] + keep_cols]\n",
    "          )\n",
    "    \n",
    "    exclude_types = [\"Regional Precursor Feed\", \"Combined Regional Feed\"]\n",
    "    feed_to_name2 = feed_to_name[\n",
    "        (~feed_to_name.regional_feed_type.isin(exclude_types)) & \n",
    "        (feed_to_name.is_future == False)\n",
    "    ].drop_duplicates()\n",
    "    \n",
    "    df2 = pd.merge(\n",
    "        df2,\n",
    "        feed_to_name2[v2_id + [\"regional_feed_type\"]],\n",
    "        on = \"feed_key\",\n",
    "        how = \"outer\",\n",
    "        validate = \"m:1\"\n",
    "    )\n",
    "    \n",
    "    return df1, df2"
   ]
  },
  {
   "cell_type": "code",
   "execution_count": 4,
   "id": "da6ac249-ad4c-46a9-ba80-135ca1597e0c",
   "metadata": {},
   "outputs": [],
   "source": [
    "oct1, oct2 = import_v1_v2_trips(oct_date)"
   ]
  },
  {
   "cell_type": "code",
   "execution_count": 5,
   "id": "df1c62e0-1137-40fa-b30a-c262e34e64ca",
   "metadata": {},
   "outputs": [
    {
     "data": {
      "text/plain": [
       "(113752.53305555556, 124056.98027777777)"
      ]
     },
     "execution_count": 5,
     "metadata": {},
     "output_type": "execute_result"
    }
   ],
   "source": [
    "oct1.service_hours.sum(), oct2.service_hours.sum()"
   ]
  },
  {
   "cell_type": "code",
   "execution_count": 6,
   "id": "607708b1-267b-448a-9253-22dc875b5a6d",
   "metadata": {},
   "outputs": [],
   "source": [
    "trip_cols = [\"trip_id\", \"route_id\", \"shape_id\"]\n",
    "\n",
    "oct_merge = pd.merge(\n",
    "    oct1.drop_duplicates(subset=trip_cols), \n",
    "    oct2.drop_duplicates(subset=trip_cols), \n",
    "    on = [\"trip_id\", \"route_id\", \"shape_id\", \"service_hours\"],\n",
    "    how = \"outer\",\n",
    "    validate = \"1:1\",\n",
    "    indicator = True\n",
    ")"
   ]
  },
  {
   "cell_type": "markdown",
   "id": "1e0f87c2-0b1a-43c4-8176-3d8c584dcf58",
   "metadata": {},
   "source": [
    "## Found in v1 and v2\n",
    "\n",
    "Majority is in both, good!\n",
    "\n",
    "Need to figure out which feeds to keep in v2 to get at the very small number of missing trips in v1."
   ]
  },
  {
   "cell_type": "code",
   "execution_count": 7,
   "id": "9fb6e79e-dec5-49b0-b44f-da836325065e",
   "metadata": {},
   "outputs": [
    {
     "data": {
      "text/plain": [
       "both          112736\n",
       "right_only     28880\n",
       "left_only       4252\n",
       "Name: _merge, dtype: int64"
      ]
     },
     "execution_count": 7,
     "metadata": {},
     "output_type": "execute_result"
    }
   ],
   "source": [
    "oct_merge._merge.value_counts()"
   ]
  },
  {
   "cell_type": "code",
   "execution_count": 8,
   "id": "3aea33ca-903e-4607-82e4-1f7a49b231ec",
   "metadata": {},
   "outputs": [
    {
     "data": {
      "text/plain": [
       "113752.53305555556"
      ]
     },
     "execution_count": 8,
     "metadata": {},
     "output_type": "execute_result"
    }
   ],
   "source": [
    "oct1.drop_duplicates(subset=v1_id + [\"trip_id\"]).service_hours.sum()"
   ]
  },
  {
   "cell_type": "code",
   "execution_count": 9,
   "id": "1e5d985e-62f6-4b2f-9ed1-badd1a759432",
   "metadata": {},
   "outputs": [
    {
     "data": {
      "text/plain": [
       "94786.39361111113"
      ]
     },
     "execution_count": 9,
     "metadata": {},
     "output_type": "execute_result"
    }
   ],
   "source": [
    "# In reality, url_number is not kept, so see how many hours we actually want\n",
    "oct1.drop_duplicates(\n",
    "    subset=[\"calitp_itp_id\", \"trip_id\"]).service_hours.sum()"
   ]
  },
  {
   "cell_type": "code",
   "execution_count": null,
   "id": "d42b555c-82d4-4415-af1c-1d9e2715c521",
   "metadata": {},
   "outputs": [],
   "source": [
    "# Beaumont?"
   ]
  },
  {
   "cell_type": "code",
   "execution_count": 10,
   "id": "66d9c4eb-5db1-4aa4-a8ce-979003f74256",
   "metadata": {},
   "outputs": [
    {
     "data": {
      "text/html": [
       "<div>\n",
       "<style scoped>\n",
       "    .dataframe tbody tr th:only-of-type {\n",
       "        vertical-align: middle;\n",
       "    }\n",
       "\n",
       "    .dataframe tbody tr th {\n",
       "        vertical-align: top;\n",
       "    }\n",
       "\n",
       "    .dataframe thead th {\n",
       "        text-align: right;\n",
       "    }\n",
       "</style>\n",
       "<table border=\"1\" class=\"dataframe\">\n",
       "  <thead>\n",
       "    <tr style=\"text-align: right;\">\n",
       "      <th></th>\n",
       "      <th>_merge</th>\n",
       "      <th>service_hours</th>\n",
       "    </tr>\n",
       "  </thead>\n",
       "  <tbody>\n",
       "    <tr>\n",
       "      <th>0</th>\n",
       "      <td>left_only</td>\n",
       "      <td>3097.896667</td>\n",
       "    </tr>\n",
       "    <tr>\n",
       "      <th>1</th>\n",
       "      <td>right_only</td>\n",
       "      <td>21332.336111</td>\n",
       "    </tr>\n",
       "    <tr>\n",
       "      <th>2</th>\n",
       "      <td>both</td>\n",
       "      <td>87973.435278</td>\n",
       "    </tr>\n",
       "  </tbody>\n",
       "</table>\n",
       "</div>"
      ],
      "text/plain": [
       "       _merge  service_hours\n",
       "0   left_only    3097.896667\n",
       "1  right_only   21332.336111\n",
       "2        both   87973.435278"
      ]
     },
     "execution_count": 10,
     "metadata": {},
     "output_type": "execute_result"
    }
   ],
   "source": [
    "oct_merge.groupby('_merge').agg({\"service_hours\": \"sum\"}).reset_index()"
   ]
  },
  {
   "cell_type": "markdown",
   "id": "9c371648-bb57-493c-b8a9-a2edf1dc6e9c",
   "metadata": {},
   "source": [
    "## Issue 1: Metrolink\n",
    "\n",
    "Once we find Metrolink, there's the same number of observations in both v1 and v2.\n",
    "\n",
    "As long as the Metrolink fix can be perpetrated in dbt or through `gtfs_utils_v2`, we'll be good."
   ]
  },
  {
   "cell_type": "code",
   "execution_count": 11,
   "id": "6432584f-77ac-4978-8ae0-f40d8fa49d24",
   "metadata": {},
   "outputs": [],
   "source": [
    "metrolink1 = oct1[oct1.calitp_itp_id==323]\n",
    "metrolink2 = oct2[(oct2.name.str.contains(\"Metrolink\")) & \n",
    "                  (oct2.name.notna())]"
   ]
  },
  {
   "cell_type": "code",
   "execution_count": 12,
   "id": "3856fc87-2020-4ab7-b7d7-5c93b1da693f",
   "metadata": {},
   "outputs": [
    {
     "name": "stdout",
     "output_type": "stream",
     "text": [
      "feed key: 55dfff37f64595b6b8ca3fd3e5499d0d\n",
      "name: Metrolink Schedule\n"
     ]
    }
   ],
   "source": [
    "print(f\"feed key: {metrolink2.feed_key.iloc[0]}\")\n",
    "print(f\"name: {metrolink2.name.iloc[0]}\")"
   ]
  },
  {
   "cell_type": "code",
   "execution_count": 13,
   "id": "484afcd3-0b3c-4a4a-a6ab-65b0d9f439a6",
   "metadata": {},
   "outputs": [
    {
     "data": {
      "text/plain": [
       "(225.58333333333334, 225.58333333333334)"
      ]
     },
     "execution_count": 13,
     "metadata": {},
     "output_type": "execute_result"
    }
   ],
   "source": [
    "metrolink1.service_hours.sum(), metrolink2.service_hours.sum()"
   ]
  },
  {
   "cell_type": "markdown",
   "id": "47b6fbed-7966-47db-bb84-c27a38c176ea",
   "metadata": {},
   "source": [
    "## Issue 2: Non-Metrolink"
   ]
  },
  {
   "cell_type": "code",
   "execution_count": 14,
   "id": "5fb8f6a6-ea97-4815-9ac2-5c47e0a34369",
   "metadata": {},
   "outputs": [],
   "source": [
    "oct_issues = oct_merge[(oct_merge._merge!=\"both\") & \n",
    "                       (oct_merge.calitp_itp_id != 323) & \n",
    "                       (oct_merge.name != \"Metrolink Schedule\")\n",
    "                      ]"
   ]
  },
  {
   "cell_type": "code",
   "execution_count": 15,
   "id": "1564ca77-697e-4823-b7d1-2bc1dc229c49",
   "metadata": {},
   "outputs": [
    {
     "data": {
      "text/plain": [
       "right_only    28742\n",
       "left_only      4114\n",
       "both              0\n",
       "Name: _merge, dtype: int64"
      ]
     },
     "execution_count": 15,
     "metadata": {},
     "output_type": "execute_result"
    }
   ],
   "source": [
    "oct_issues._merge.value_counts()"
   ]
  },
  {
   "cell_type": "code",
   "execution_count": 16,
   "id": "eab07bb0-4838-4beb-89ea-b1408e9f6d00",
   "metadata": {},
   "outputs": [],
   "source": [
    "def separate_v1_v2(merged_df):\n",
    "    \n",
    "    keep_cols = [\n",
    "        \"trip_id\", \"route_id\", \"shape_id\",\n",
    "        \"service_hours\"\n",
    "    ]\n",
    "    \n",
    "    v1 = merged_df[merged_df._merge==\"left_only\"][v1_id + keep_cols]\n",
    "    \n",
    "    v2 = merged_df[merged_df._merge==\"right_only\"][v2_id + keep_cols]\n",
    "    \n",
    "    return v1, v2"
   ]
  },
  {
   "cell_type": "code",
   "execution_count": 17,
   "id": "ccf436ba-4b99-44d4-8fe1-69ca41fb8ea3",
   "metadata": {},
   "outputs": [],
   "source": [
    "v1, v2 = separate_v1_v2(oct_issues)"
   ]
  },
  {
   "cell_type": "code",
   "execution_count": 21,
   "id": "0d679673-763e-4baa-b36c-8d940a55570c",
   "metadata": {},
   "outputs": [
    {
     "data": {
      "text/plain": [
       "both          4\n",
       "left_only     0\n",
       "right_only    0\n",
       "Name: _merge, dtype: int64"
      ]
     },
     "execution_count": 21,
     "metadata": {},
     "output_type": "execute_result"
    }
   ],
   "source": [
    "pd.merge(\n",
    "    v1,\n",
    "    v2,\n",
    "    on = [\"route_id\", \"service_hours\"],\n",
    "    how = \"inner\",\n",
    "    indicator=True\n",
    ")._merge.value_counts()"
   ]
  },
  {
   "cell_type": "code",
   "execution_count": 22,
   "id": "205d2ab7-f1e7-4a64-b098-15d498e4a63d",
   "metadata": {},
   "outputs": [
    {
     "data": {
      "text/plain": [
       "both          30\n",
       "left_only      0\n",
       "right_only     0\n",
       "Name: _merge, dtype: int64"
      ]
     },
     "execution_count": 22,
     "metadata": {},
     "output_type": "execute_result"
    }
   ],
   "source": [
    "pd.merge(\n",
    "    v1,\n",
    "    v2,\n",
    "    on = [\"route_id\"],\n",
    "    how = \"inner\",\n",
    "    indicator=True\n",
    ")._merge.value_counts()"
   ]
  },
  {
   "cell_type": "code",
   "execution_count": 23,
   "id": "86c07207-7243-4107-acc2-82d6ce4554f5",
   "metadata": {},
   "outputs": [
    {
     "data": {
      "text/plain": [
       "both          8\n",
       "left_only     0\n",
       "right_only    0\n",
       "Name: _merge, dtype: int64"
      ]
     },
     "execution_count": 23,
     "metadata": {},
     "output_type": "execute_result"
    }
   ],
   "source": [
    "pd.merge(\n",
    "    v1,\n",
    "    v2,\n",
    "    on = [\"shape_id\", \"route_id\"],\n",
    "    how = \"inner\",\n",
    "    indicator=True\n",
    ")._merge.value_counts()"
   ]
  },
  {
   "cell_type": "code",
   "execution_count": 24,
   "id": "804b820a-2153-4b15-b7b0-2b33cc03d910",
   "metadata": {},
   "outputs": [],
   "source": [
    "v1_agg = geography_utils.aggregate_by_geography(\n",
    "    v1, \n",
    "    group_cols = v1_id,\n",
    "    nunique_cols = [\"shape_id\", \"route_id\", \"trip_id\"],\n",
    "    sum_cols = [\"service_hours\"],\n",
    "    rename_cols = True\n",
    ").sort_values(by = [\"trip_id_nunique\", \"route_id_nunique\", \n",
    "                    \"service_hours_sum\"], \n",
    "              ascending=[True, True, True]\n",
    "             ).reset_index(drop=True)"
   ]
  },
  {
   "cell_type": "code",
   "execution_count": 33,
   "id": "bf1bb63d-fbd2-4562-9097-a38e761adf9d",
   "metadata": {},
   "outputs": [],
   "source": [
    "v2_agg = geography_utils.aggregate_by_geography(\n",
    "    v2,\n",
    "    group_cols = v2_id,\n",
    "    nunique_cols = [\"shape_id\", \"route_id\", \"trip_id\"],\n",
    "    sum_cols = [\"service_hours\"],\n",
    "    rename_cols = True\n",
    ").sort_values(by = [\"trip_id_nunique\", \"route_id_nunique\", \n",
    "                    \"service_hours_sum\"], \n",
    "              ascending=[True, True, True]\n",
    "             ).reset_index(drop=True)"
   ]
  },
  {
   "cell_type": "code",
   "execution_count": 34,
   "id": "0aa1b066-3fd6-4eb2-bf77-103d0cbb5a41",
   "metadata": {},
   "outputs": [
    {
     "data": {
      "text/plain": [
       "2872.3133333333335"
      ]
     },
     "execution_count": 34,
     "metadata": {},
     "output_type": "execute_result"
    }
   ],
   "source": [
    "v1_agg.service_hours_sum.sum()"
   ]
  },
  {
   "cell_type": "code",
   "execution_count": 35,
   "id": "a073df37-6202-4bfe-aadd-e1ff1242b479",
   "metadata": {},
   "outputs": [
    {
     "data": {
      "text/plain": [
       "3.75"
      ]
     },
     "execution_count": 35,
     "metadata": {},
     "output_type": "execute_result"
    }
   ],
   "source": [
    "v2_agg.service_hours_sum.sum()"
   ]
  },
  {
   "cell_type": "code",
   "execution_count": 37,
   "id": "17375e8b-5305-44e5-a358-b68b13a8cac3",
   "metadata": {},
   "outputs": [
    {
     "data": {
      "text/plain": [
       "21106.75277777778"
      ]
     },
     "execution_count": 37,
     "metadata": {},
     "output_type": "execute_result"
    }
   ],
   "source": [
    "geography_utils.aggregate_by_geography(\n",
    "    v2,\n",
    "    group_cols = [\"feed_key\"],\n",
    "    nunique_cols = [\"shape_id\", \"route_id\", \"trip_id\"],\n",
    "    sum_cols = [\"service_hours\"],\n",
    "    rename_cols = True\n",
    ").sort_values(by = [\"trip_id_nunique\", \"route_id_nunique\", \n",
    "                    \"service_hours_sum\"], \n",
    "              ascending=[True, True, True]\n",
    "             ).reset_index(drop=True).service_hours_sum.sum()"
   ]
  },
  {
   "cell_type": "markdown",
   "id": "66321125-7062-4ee2-97af-865532aa6e69",
   "metadata": {},
   "source": [
    "Something happens once `name` is included. \n",
    "\n",
    "The 21k extra hours drops down to 3??"
   ]
  },
  {
   "cell_type": "code",
   "execution_count": 28,
   "id": "a5db977f-a0ff-4949-ba27-560bcf31db45",
   "metadata": {},
   "outputs": [],
   "source": [
    "v1_unique_feeds  = oct_merge[v1_id + [\"_merge\"]].drop_duplicates()"
   ]
  },
  {
   "cell_type": "code",
   "execution_count": 29,
   "id": "dd9cba20-733e-40fc-8231-0ac6b61c4be6",
   "metadata": {},
   "outputs": [
    {
     "data": {
      "text/plain": [
       "left_only     197\n",
       "both           14\n",
       "right_only      0\n",
       "Name: unmerged, dtype: int64"
      ]
     },
     "execution_count": 29,
     "metadata": {},
     "output_type": "execute_result"
    }
   ],
   "source": [
    "v1_unmerged = pd.merge(\n",
    "    v1_unique_feeds,\n",
    "    v1_agg,\n",
    "    on = v1_id,\n",
    "    how = \"outer\",\n",
    "    validate = \"m:1\",\n",
    "    indicator = \"unmerged\"\n",
    ")\n",
    "\n",
    "v1_unmerged.unmerged.value_counts()"
   ]
  },
  {
   "cell_type": "code",
   "execution_count": 30,
   "id": "6fe291ec-9183-4697-8491-522d7014263f",
   "metadata": {},
   "outputs": [
    {
     "data": {
      "text/html": [
       "<div>\n",
       "<style scoped>\n",
       "    .dataframe tbody tr th:only-of-type {\n",
       "        vertical-align: middle;\n",
       "    }\n",
       "\n",
       "    .dataframe tbody tr th {\n",
       "        vertical-align: top;\n",
       "    }\n",
       "\n",
       "    .dataframe thead th {\n",
       "        text-align: right;\n",
       "    }\n",
       "</style>\n",
       "<table border=\"1\" class=\"dataframe\">\n",
       "  <thead>\n",
       "    <tr style=\"text-align: right;\">\n",
       "      <th></th>\n",
       "      <th>calitp_itp_id</th>\n",
       "      <th>calitp_url_number</th>\n",
       "      <th>_merge</th>\n",
       "      <th>service_hours_sum</th>\n",
       "      <th>route_id_nunique</th>\n",
       "      <th>shape_id_nunique</th>\n",
       "      <th>trip_id_nunique</th>\n",
       "      <th>unmerged</th>\n",
       "    </tr>\n",
       "  </thead>\n",
       "  <tbody>\n",
       "    <tr>\n",
       "      <th>8</th>\n",
       "      <td>247.0</td>\n",
       "      <td>1.0</td>\n",
       "      <td>left_only</td>\n",
       "      <td>36.597222</td>\n",
       "      <td>8.0</td>\n",
       "      <td>23.0</td>\n",
       "      <td>157.0</td>\n",
       "      <td>both</td>\n",
       "    </tr>\n",
       "    <tr>\n",
       "      <th>9</th>\n",
       "      <td>247.0</td>\n",
       "      <td>1.0</td>\n",
       "      <td>both</td>\n",
       "      <td>36.597222</td>\n",
       "      <td>8.0</td>\n",
       "      <td>23.0</td>\n",
       "      <td>157.0</td>\n",
       "      <td>both</td>\n",
       "    </tr>\n",
       "    <tr>\n",
       "      <th>19</th>\n",
       "      <td>34.0</td>\n",
       "      <td>0.0</td>\n",
       "      <td>left_only</td>\n",
       "      <td>4.416667</td>\n",
       "      <td>1.0</td>\n",
       "      <td>2.0</td>\n",
       "      <td>4.0</td>\n",
       "      <td>both</td>\n",
       "    </tr>\n",
       "    <tr>\n",
       "      <th>20</th>\n",
       "      <td>34.0</td>\n",
       "      <td>0.0</td>\n",
       "      <td>both</td>\n",
       "      <td>4.416667</td>\n",
       "      <td>1.0</td>\n",
       "      <td>2.0</td>\n",
       "      <td>4.0</td>\n",
       "      <td>both</td>\n",
       "    </tr>\n",
       "    <tr>\n",
       "      <th>50</th>\n",
       "      <td>367.0</td>\n",
       "      <td>0.0</td>\n",
       "      <td>left_only</td>\n",
       "      <td>45.004722</td>\n",
       "      <td>3.0</td>\n",
       "      <td>4.0</td>\n",
       "      <td>65.0</td>\n",
       "      <td>both</td>\n",
       "    </tr>\n",
       "    <tr>\n",
       "      <th>55</th>\n",
       "      <td>346.0</td>\n",
       "      <td>0.0</td>\n",
       "      <td>left_only</td>\n",
       "      <td>147.333333</td>\n",
       "      <td>10.0</td>\n",
       "      <td>39.0</td>\n",
       "      <td>137.0</td>\n",
       "      <td>both</td>\n",
       "    </tr>\n",
       "    <tr>\n",
       "      <th>87</th>\n",
       "      <td>280.0</td>\n",
       "      <td>0.0</td>\n",
       "      <td>left_only</td>\n",
       "      <td>83.166667</td>\n",
       "      <td>6.0</td>\n",
       "      <td>33.0</td>\n",
       "      <td>141.0</td>\n",
       "      <td>both</td>\n",
       "    </tr>\n",
       "    <tr>\n",
       "      <th>108</th>\n",
       "      <td>127.0</td>\n",
       "      <td>1.0</td>\n",
       "      <td>left_only</td>\n",
       "      <td>293.483333</td>\n",
       "      <td>10.0</td>\n",
       "      <td>21.0</td>\n",
       "      <td>206.0</td>\n",
       "      <td>both</td>\n",
       "    </tr>\n",
       "    <tr>\n",
       "      <th>126</th>\n",
       "      <td>127.0</td>\n",
       "      <td>2.0</td>\n",
       "      <td>left_only</td>\n",
       "      <td>33.000000</td>\n",
       "      <td>4.0</td>\n",
       "      <td>13.0</td>\n",
       "      <td>61.0</td>\n",
       "      <td>both</td>\n",
       "    </tr>\n",
       "    <tr>\n",
       "      <th>133</th>\n",
       "      <td>117.0</td>\n",
       "      <td>0.0</td>\n",
       "      <td>left_only</td>\n",
       "      <td>39.416667</td>\n",
       "      <td>7.0</td>\n",
       "      <td>15.0</td>\n",
       "      <td>40.0</td>\n",
       "      <td>both</td>\n",
       "    </tr>\n",
       "    <tr>\n",
       "      <th>187</th>\n",
       "      <td>14.0</td>\n",
       "      <td>0.0</td>\n",
       "      <td>left_only</td>\n",
       "      <td>251.694722</td>\n",
       "      <td>9.0</td>\n",
       "      <td>30.0</td>\n",
       "      <td>841.0</td>\n",
       "      <td>both</td>\n",
       "    </tr>\n",
       "    <tr>\n",
       "      <th>188</th>\n",
       "      <td>14.0</td>\n",
       "      <td>0.0</td>\n",
       "      <td>both</td>\n",
       "      <td>251.694722</td>\n",
       "      <td>9.0</td>\n",
       "      <td>30.0</td>\n",
       "      <td>841.0</td>\n",
       "      <td>both</td>\n",
       "    </tr>\n",
       "    <tr>\n",
       "      <th>197</th>\n",
       "      <td>290.0</td>\n",
       "      <td>0.0</td>\n",
       "      <td>left_only</td>\n",
       "      <td>1269.700000</td>\n",
       "      <td>70.0</td>\n",
       "      <td>171.0</td>\n",
       "      <td>1385.0</td>\n",
       "      <td>both</td>\n",
       "    </tr>\n",
       "    <tr>\n",
       "      <th>199</th>\n",
       "      <td>484.0</td>\n",
       "      <td>0.0</td>\n",
       "      <td>left_only</td>\n",
       "      <td>668.500000</td>\n",
       "      <td>30.0</td>\n",
       "      <td>73.0</td>\n",
       "      <td>1077.0</td>\n",
       "      <td>both</td>\n",
       "    </tr>\n",
       "  </tbody>\n",
       "</table>\n",
       "</div>"
      ],
      "text/plain": [
       "     calitp_itp_id  calitp_url_number     _merge  service_hours_sum  \\\n",
       "8            247.0                1.0  left_only          36.597222   \n",
       "9            247.0                1.0       both          36.597222   \n",
       "19            34.0                0.0  left_only           4.416667   \n",
       "20            34.0                0.0       both           4.416667   \n",
       "50           367.0                0.0  left_only          45.004722   \n",
       "55           346.0                0.0  left_only         147.333333   \n",
       "87           280.0                0.0  left_only          83.166667   \n",
       "108          127.0                1.0  left_only         293.483333   \n",
       "126          127.0                2.0  left_only          33.000000   \n",
       "133          117.0                0.0  left_only          39.416667   \n",
       "187           14.0                0.0  left_only         251.694722   \n",
       "188           14.0                0.0       both         251.694722   \n",
       "197          290.0                0.0  left_only        1269.700000   \n",
       "199          484.0                0.0  left_only         668.500000   \n",
       "\n",
       "     route_id_nunique  shape_id_nunique  trip_id_nunique unmerged  \n",
       "8                 8.0              23.0            157.0     both  \n",
       "9                 8.0              23.0            157.0     both  \n",
       "19                1.0               2.0              4.0     both  \n",
       "20                1.0               2.0              4.0     both  \n",
       "50                3.0               4.0             65.0     both  \n",
       "55               10.0              39.0            137.0     both  \n",
       "87                6.0              33.0            141.0     both  \n",
       "108              10.0              21.0            206.0     both  \n",
       "126               4.0              13.0             61.0     both  \n",
       "133               7.0              15.0             40.0     both  \n",
       "187               9.0              30.0            841.0     both  \n",
       "188               9.0              30.0            841.0     both  \n",
       "197              70.0             171.0           1385.0     both  \n",
       "199              30.0              73.0           1077.0     both  "
      ]
     },
     "execution_count": 30,
     "metadata": {},
     "output_type": "execute_result"
    }
   ],
   "source": [
    "v1_unmerged[v1_unmerged.unmerged==\"both\"]"
   ]
  },
  {
   "cell_type": "markdown",
   "id": "36a18c9a-c663-43cf-8b61-5a55aa45e04e",
   "metadata": {},
   "source": [
    "Try another approach:\n",
    "\n",
    "We always narrow down to operator-trips\n",
    "\n",
    "Need to figure out how to do the same in v2"
   ]
  },
  {
   "cell_type": "code",
   "execution_count": 38,
   "id": "3c041eb8-6c5b-4385-9863-5285662d5241",
   "metadata": {},
   "outputs": [
    {
     "data": {
      "text/plain": [
       "94786.39361111113"
      ]
     },
     "execution_count": 38,
     "metadata": {},
     "output_type": "execute_result"
    }
   ],
   "source": [
    "oct1.drop_duplicates(subset=[\"calitp_itp_id\", \"trip_id\"]\n",
    "                    ).service_hours.sum()"
   ]
  },
  {
   "cell_type": "code",
   "execution_count": 39,
   "id": "0fe80d03-408b-4a82-b7a6-fdca4de6aa32",
   "metadata": {},
   "outputs": [
    {
     "data": {
      "text/plain": [
       "123796.93027777778"
      ]
     },
     "execution_count": 39,
     "metadata": {},
     "output_type": "execute_result"
    }
   ],
   "source": [
    "oct2.drop_duplicates(subset=[\"name\", \"trip_id\"]\n",
    "                    ).service_hours.sum()"
   ]
  },
  {
   "cell_type": "code",
   "execution_count": null,
   "id": "b74e45aa-d14d-404a-ac1b-4922d8717ec3",
   "metadata": {},
   "outputs": [],
   "source": []
  }
 ],
 "metadata": {
  "kernelspec": {
   "display_name": "Python 3 (ipykernel)",
   "language": "python",
   "name": "python3"
  },
  "language_info": {
   "codemirror_mode": {
    "name": "ipython",
    "version": 3
   },
   "file_extension": ".py",
   "mimetype": "text/x-python",
   "name": "python",
   "nbconvert_exporter": "python",
   "pygments_lexer": "ipython3",
   "version": "3.9.13"
  }
 },
 "nbformat": 4,
 "nbformat_minor": 5
}
