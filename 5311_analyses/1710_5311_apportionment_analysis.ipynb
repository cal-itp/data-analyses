{
 "cells": [
  {
   "cell_type": "markdown",
   "id": "c6bf1b6b-2267-4e07-9d57-cff15fd0163f",
   "metadata": {},
   "source": [
    "# [Research Request - 5311 Apportionment Formula #1710](https://github.com/cal-itp/data-analyses/issues/1710)\n",
    "\n",
    "- Do the past 3 years of 5311 apportionments to regional bodies passing through Caltrans align with the stated formula? If not, how would apportionments change? How would apportionments change if allocations went directly to each 5311-recipient agency?\n",
    "\n",
    "\n",
    "- Double check work done by Sara.\n",
    "\n",
    "- Cross reference all available types of census data.\n",
    "\n",
    "- can we use the census API to read in data to a notebook? AND apple the apportionment formula"
   ]
  },
  {
   "cell_type": "markdown",
   "id": "37873392-62bc-4e60-8ea2-8cda37694141",
   "metadata": {},
   "source": [
    "**Possible explanation of how population data was determined**\n",
    "via email:\n",
    ">Previous Grant Manger used a combination of population and demographic information she received from DOTP along with these FTA maps to determine the rural population in each of the CA regions\n",
    ">\n",
    ">We previously had discussed updating this formula to match how the FTA funds have been apportioned to California, but that conversation was put on hold for a much deeper discussion on the formula. "
   ]
  },
  {
   "cell_type": "markdown",
   "id": "a7ba9632-b1f4-4938-b06d-db5c358a3269",
   "metadata": {},
   "source": [
    "Notes from Grant team 5311 apportionment excel sheet\n",
    "1. Metropolitan Transportation Commission (MTC): \n",
    "  - Sonoma, \n",
    "  - Napa, \n",
    "  - Solano, \n",
    "  - Contra Costa, \n",
    "  - Alameda, \n",
    "  - Marin, \n",
    "  - San Francisco, \n",
    "  - San Mateo and \n",
    "  - Santa Clara\n",
    "2. Sacramento Area Council of Governments (SACOG): \n",
    "  - Yuba, \n",
    "  - Sutter, \n",
    "  - Yolo and \n",
    "  - Sacramento\n",
    "3. Alpine and Sierra Counties (collectively, 'Minimum Counties') receive a minimum funding amount of $48,000 due to low population (under 7,590)\n",
    "4. Orange County does not receive Rural funds\n"
   ]
  },
  {
   "cell_type": "code",
   "execution_count": 1,
   "id": "acc2c9dd-0199-43b3-ab20-22ba3cb29c6a",
   "metadata": {
    "tags": []
   },
   "outputs": [],
   "source": [
    "import pandas as pd\n",
    "import altair as alt"
   ]
  },
  {
   "cell_type": "markdown",
   "id": "bd9788d3-4b6a-4e82-bd2a-0b3d46b16856",
   "metadata": {},
   "source": [
    "### County-level Urban and Rural information for the 2010 & 2020 Census"
   ]
  },
  {
   "cell_type": "code",
   "execution_count": 3,
   "id": "cd26b070-64fa-402d-88c5-118c16e37fdf",
   "metadata": {
    "tags": []
   },
   "outputs": [],
   "source": [
    "county_rural_2020_url = \"https://www2.census.gov/geo/docs/reference/ua/2020_UA_COUNTY.xlsx\"\n",
    "\n",
    "county_rural_2010_url = \"https://www2.census.gov/geo/docs/reference/ua/PctUrbanRural_County.xls\"\n",
    "\n",
    "# read in data\n",
    "county_rural_data_2020 = pd.read_excel(county_rural_2020_url)\n",
    "county_rural_data_2010 = pd.read_excel(county_rural_2010_url)\n",
    "\n",
    "# lower case the columns\n",
    "county_rural_data_2020.columns = county_rural_data_2020.columns.str.lower()\n",
    "county_rural_data_2010.columns = county_rural_data_2010.columns.str.lower()\n",
    "\n",
    "# add suffix to distinuish years\n",
    "county_rural_data_2020 = county_rural_data_2020.add_suffix(\"_2020\")\n",
    "county_rural_data_2010 = county_rural_data_2010.add_suffix(\"_2010\")\n",
    "\n",
    "display(\n",
    "    county_rural_data_2020.head(),\n",
    "    county_rural_data_2010.head(),\n",
    ")"
   ]
  },
  {
   "cell_type": "markdown",
   "id": "6c809abd-3380-45a7-a0ff-ed517c3562a7",
   "metadata": {},
   "source": [
    "### filter for just California"
   ]
  },
  {
   "cell_type": "code",
   "execution_count": 4,
   "id": "64779c8c-3fe7-47ba-b07f-6c55d0956d85",
   "metadata": {
    "tags": []
   },
   "outputs": [],
   "source": [
    "ca_county_2010 = county_rural_data_2010[county_rural_data_2010[\"statename_2010\"]==\"California\"]\n",
    "ca_county_2020 = county_rural_data_2020[county_rural_data_2020[\"state_name_2020\"]==\"California\"]\n",
    "\n",
    "# ca_county_2010[\"countyname_2010\"].nunique() == ca_county_2020[\"county_name_2020\"].nunique() #True"
   ]
  },
  {
   "cell_type": "markdown",
   "id": "ad8798ec-73b0-4243-ac13-9b5d634c1da0",
   "metadata": {},
   "source": [
    "### aggregate by county name, sum population columns"
   ]
  },
  {
   "cell_type": "code",
   "execution_count": 6,
   "id": "5282d5ce-9f57-4416-a035-16411043b5ac",
   "metadata": {
    "tags": []
   },
   "outputs": [],
   "source": [
    "county_2010 = ca_county_2010.groupby(\"countyname_2010\").agg(\n",
    "    {\"pop_rural_2010\":\"sum\", \n",
    "     \"pop_cou_2010\":\"sum\", \n",
    "     \"poppct_rural_2010\":\"sum\"}).reset_index()\n",
    "\n",
    "county_2020 = ca_county_2020.groupby(\"county_name_2020\").agg(\n",
    "    {\"pop_rur_2020\":\"sum\", \n",
    "     \"pop_cou_2020\":\"sum\", \n",
    "     \"poppct_rur_2020\":\"sum\"}).reset_index()\n",
    "\n",
    "# round population %\n",
    "county_2020[\"poppct_rur_2020\"] = (county_2020[\"poppct_rur_2020\"]*100).round(2)\n",
    "\n",
    "display(\n",
    "    county_2010.head(),\n",
    "    county_2020.head()\n",
    ")"
   ]
  },
  {
   "cell_type": "markdown",
   "id": "54534f9b-dcd2-4c91-adc7-564658824f63",
   "metadata": {},
   "source": [
    "### merge 2010 and 2020 county census data"
   ]
  },
  {
   "cell_type": "code",
   "execution_count": 7,
   "id": "50e86c05-066d-484c-91d4-47778be513e8",
   "metadata": {},
   "outputs": [],
   "source": [
    "pop_2010_2020 = county_2010.merge(\n",
    "    county_2020,\n",
    "    left_on = \"countyname_2010\",\n",
    "    right_on = \"county_name_2020\",\n",
    "    how= \"inner\",\n",
    "    indicator= True\n",
    ").drop(columns= [\"county_name_2020\",\"pop_cou_2010\",\"pop_cou_2020\",\"poppct_rural_2010\", \"poppct_rur_2020\",\"_merge\"])"
   ]
  },
  {
   "cell_type": "markdown",
   "id": "28f28cbc-e975-4f4c-bb19-7d5d19ebaaf0",
   "metadata": {
    "tags": []
   },
   "source": [
    "### consolidate specific counties to MTC and SACOG"
   ]
  },
  {
   "cell_type": "code",
   "execution_count": 8,
   "id": "ad24ad4b-55b3-4b3a-8bd4-cb5f350fbeca",
   "metadata": {
    "tags": []
   },
   "outputs": [],
   "source": [
    "mtc = [\n",
    "    \"Sonoma\", \n",
    "    \"Napa\", \n",
    "    \"Solano\", \n",
    "    \"Contra Costa\", \n",
    "    \"Alameda\", \n",
    "    \"Marin\", \n",
    "    \"San Francisco\", \n",
    "    \"San Mateo\", \n",
    "    \"Santa Clara\"\n",
    "]\n",
    "\n",
    "sacog = [\n",
    "    \"Yuba\", \n",
    "    \"Sutter\", \n",
    "    \"Yolo\", \n",
    "    \"Sacramento\"\n",
    "]\n",
    "\n",
    "# add MTC row\n",
    "mtc_row = pop_2010_2020[pop_2010_2020[\"countyname_2010\"].isin(mtc)][[\"pop_rural_2010\",\"pop_rur_2020\"]].sum()\n",
    "\n",
    "mtc_row[\"countyname_2010\"] = \"MTC\"\n",
    "\n",
    "pop_2010_2020 = pd.concat([\n",
    "    pop_2010_2020,\n",
    "    pd.DataFrame([mtc_row])],\n",
    "    ignore_index=True\n",
    ")\n",
    "\n",
    "# add SACOG row\n",
    "sacog_row = pop_2010_2020[pop_2010_2020[\"countyname_2010\"].isin(sacog)][[\"pop_rural_2010\",\"pop_rur_2020\"]].sum()\n",
    "\n",
    "sacog_row[\"countyname_2010\"] = \"SACOG\"\n",
    "\n",
    "pop_2010_2020 = pd.concat([\n",
    "    pop_2010_2020,\n",
    "    pd.DataFrame([sacog_row])],\n",
    "    ignore_index=True\n",
    ")\n",
    "\n",
    "# remove individual mtc and sacog counties\n",
    "pop_2010_2020 = pop_2010_2020[(~pop_2010_2020[\"countyname_2010\"].isin(mtc))\n",
    "     &(~pop_2010_2020[\"countyname_2010\"].isin(sacog))\n",
    "]"
   ]
  },
  {
   "cell_type": "markdown",
   "id": "22a4882b-b1c5-489b-8fb6-cdff5820af79",
   "metadata": {},
   "source": [
    "## Applying OTGC formula\n",
    "- via apportionment worksheet\n",
    "\n",
    "apportionment = (county rural population/ total net population) * total apportionment available to counties - 197.27\n"
   ]
  },
  {
   "cell_type": "code",
   "execution_count": 9,
   "id": "7a3cf2cc-a83a-492d-8057-ddf902e76759",
   "metadata": {
    "tags": []
   },
   "outputs": [],
   "source": [
    "# https://www.transit.dot.gov/funding/apportionments/table-9-fy-2025-section-5311-and-section-5340-rural-area-formula-0\n",
    "ca_total_5311_apportionment = 43540762 \n",
    "\n",
    "# total after removing (admin, min county, 5311f stuff)\n",
    "total_available_to_counties = 32559572 \n",
    "\n",
    "# list of min counties \n",
    "excluded_county_pop = [\"Alpine\", \"Orange\", \"Sierra\"]\n",
    "\n",
    "# calculate net population\n",
    "net_pop_2010 = pop_2010_2020[\"pop_rural_2010\"].sum()-(pop_2010_2020[pop_2010_2020[\"countyname_2010\"].isin(excluded_county_pop)][\"pop_rural_2010\"].sum())\n",
    "net_pop_2020 = pop_2010_2020[\"pop_rur_2020\"].sum()-(pop_2010_2020[pop_2010_2020[\"countyname_2010\"].isin(excluded_county_pop)][\"pop_rur_2020\"].sum())\n",
    "\n",
    "# function to replicate formula\n",
    "def otgc_formula(\n",
    "    rural_pop: int,\n",
    "    total_net_pop: int,\n",
    "    total_county_funds:int\n",
    "):\n",
    "    return ((rural_pop/total_net_pop)*total_county_funds)-197.27\n",
    "\n",
    "# calculate 2010 apportionment\n",
    "pop_2010_2020[\"apportionment_calc_2010\"] = pop_2010_2020.apply(\n",
    "    lambda row: otgc_formula(\n",
    "        rural_pop = row[\"pop_rural_2010\"],\n",
    "        total_net_pop = net_pop_2010,\n",
    "        total_county_funds = total_available_to_counties\n",
    "    ), axis=1\n",
    ").round(2)\n",
    "\n",
    "# calculate 2020 apportionment\n",
    "pop_2010_2020[\"apportionment_calc_2020\"] = pop_2010_2020.apply(\n",
    "    lambda row: otgc_formula(\n",
    "        rural_pop = row[\"pop_rur_2020\"],\n",
    "        total_net_pop = net_pop_2020,\n",
    "        total_county_funds = total_available_to_counties\n",
    "    ), axis=1\n",
    ").round(2)"
   ]
  },
  {
   "cell_type": "markdown",
   "id": "8e0d5aa4-3374-46ee-9541-9f01e6e11d6a",
   "metadata": {
    "tags": []
   },
   "source": [
    "## manual overwrite for orange, sierra, alpine\n",
    "per instructions on apportionment worksheet"
   ]
  },
  {
   "cell_type": "code",
   "execution_count": 10,
   "id": "1741f256-c8e4-48ca-aeb9-d446b1450d45",
   "metadata": {
    "tags": []
   },
   "outputs": [],
   "source": [
    "min_county_edit = {\n",
    "    \"Alpine\":48000.00,\n",
    "    \"Orange\":0,\n",
    "    \"Sierra\":48000.00\n",
    "}\n",
    "\n",
    "# loop + .loc to update values at specific locations\n",
    "for county, amount in min_county_edit.items():\n",
    "    pop_2010_2020.loc[pop_2010_2020[\"countyname_2010\"] == county, \"apportionment_calc_2020\"] = amount\n",
    "    pop_2010_2020.loc[pop_2010_2020[\"countyname_2010\"] == county, \"apportionment_calc_2010\"] = amount"
   ]
  },
  {
   "cell_type": "markdown",
   "id": "516654fb-543c-45b9-96fb-8571e86b4478",
   "metadata": {},
   "source": [
    "## re-order columns"
   ]
  },
  {
   "cell_type": "code",
   "execution_count": 11,
   "id": "8132e621-fa62-4641-b55c-0fcfda319db0",
   "metadata": {
    "tags": []
   },
   "outputs": [],
   "source": [
    "pop_2010_2020 = pop_2010_2020[[\n",
    "    \"countyname_2010\",\n",
    "    \"pop_rural_2010\",\n",
    "    \"apportionment_calc_2010\",\n",
    "    \"pop_rur_2020\",\n",
    "    \"apportionment_calc_2020\"\n",
    "]]"
   ]
  },
  {
   "cell_type": "code",
   "execution_count": 12,
   "id": "8ea603bc-4358-419f-8aa8-c43a15d34598",
   "metadata": {
    "tags": []
   },
   "outputs": [
    {
     "data": {
      "text/plain": [
       "Index(['countyname_2010', 'pop_rural_2010', 'apportionment_calc_2010',\n",
       "       'pop_rur_2020', 'apportionment_calc_2020'],\n",
       "      dtype='object')"
      ]
     },
     "execution_count": 12,
     "metadata": {},
     "output_type": "execute_result"
    }
   ],
   "source": [
    "# final cleaned dataframe\n",
    "pop_2010_2020.columns"
   ]
  },
  {
   "cell_type": "markdown",
   "id": "b878ada3-3776-402c-bae4-8f39b8d846ea",
   "metadata": {},
   "source": [
    "## Compare against DLA apportionment"
   ]
  },
  {
   "cell_type": "code",
   "execution_count": 13,
   "id": "7ca390c6-70ef-4a27-91d3-4a1e6313fd52",
   "metadata": {
    "tags": []
   },
   "outputs": [
    {
     "name": "stdout",
     "output_type": "stream",
     "text": [
      "<class 'pandas.core.frame.DataFrame'>\n",
      "RangeIndex: 47 entries, 0 to 46\n",
      "Data columns (total 4 columns):\n",
      " #   Column                  Non-Null Count  Dtype  \n",
      "---  ------                  --------------  -----  \n",
      " 0   county                  47 non-null     object \n",
      " 1   id                      45 non-null     float64\n",
      " 2   dla_fy25_pop            47 non-null     int64  \n",
      " 3   dla_fy25_apportionment  47 non-null     float64\n",
      "dtypes: float64(2), int64(1), object(1)\n",
      "memory usage: 1.6+ KB\n"
     ]
    }
   ],
   "source": [
    "dla_fy25 = pd.read_csv(\"fy25_apportionment_dla.csv\")\n",
    "\n",
    "dla_fy25 = dla_fy25.rename(columns={\n",
    "    'County/Region':'county',\n",
    "    'ID':'id',\n",
    "    'Population (9)': 'pop_rur_2025_dla',\n",
    "    'FFY25 Apportionment': 'apportionment_dla_2025'\n",
    "})\n",
    "dla_fy25.info()"
   ]
  },
  {
   "cell_type": "code",
   "execution_count": 14,
   "id": "17912e4a-33e0-4fee-9b5e-de9ae32ae15b",
   "metadata": {
    "tags": []
   },
   "outputs": [
    {
     "name": "stdout",
     "output_type": "stream",
     "text": [
      "<class 'pandas.core.frame.DataFrame'>\n",
      "Int64Index: 47 entries, 0 to 46\n",
      "Data columns (total 10 columns):\n",
      " #   Column                   Non-Null Count  Dtype   \n",
      "---  ------                   --------------  -----   \n",
      " 0   countyname_2010          47 non-null     object  \n",
      " 1   pop_rural_2010           47 non-null     int64   \n",
      " 2   apportionment_calc_2010  47 non-null     float64 \n",
      " 3   pop_rur_2020             47 non-null     int64   \n",
      " 4   apportionment_calc_2020  47 non-null     float64 \n",
      " 5   county                   47 non-null     object  \n",
      " 6   id                       45 non-null     float64 \n",
      " 7   dla_fy25_pop             47 non-null     int64   \n",
      " 8   dla_fy25_apportionment   47 non-null     float64 \n",
      " 9   _merge                   47 non-null     category\n",
      "dtypes: category(1), float64(4), int64(3), object(2)\n",
      "memory usage: 3.8+ KB\n"
     ]
    }
   ],
   "source": [
    "compare_merge = pop_2010_2020.merge(\n",
    "    dla_fy25,\n",
    "    left_on = \"countyname_2010\",\n",
    "    right_on = \"county\",\n",
    "    how = \"inner\",\n",
    "    indicator = True\n",
    ")\n",
    "\n",
    "compare_merge.info()"
   ]
  },
  {
   "cell_type": "code",
   "execution_count": 15,
   "id": "5f29aeab-dbd4-400e-bbf1-9eebdc337e61",
   "metadata": {
    "tags": []
   },
   "outputs": [],
   "source": [
    "# calc new columns that display diffferences \n",
    "compare_merge[\"2020_fy25_amt_diff\"] = compare_merge[\"dla_fy25_apportionment\"] - compare_merge[\"apportionment_calc_2020\"]\n",
    "compare_merge[\"2020_fy25_pop_diff\"] = compare_merge[\"dla_fy25_pop\"] - compare_merge[\"pop_rur_2020\"]"
   ]
  },
  {
   "cell_type": "code",
   "execution_count": 16,
   "id": "521fa083-9716-4c07-b08f-5b9f3098325d",
   "metadata": {
    "tags": []
   },
   "outputs": [
    {
     "data": {
      "text/html": [
       "<div>\n",
       "<style scoped>\n",
       "    .dataframe tbody tr th:only-of-type {\n",
       "        vertical-align: middle;\n",
       "    }\n",
       "\n",
       "    .dataframe tbody tr th {\n",
       "        vertical-align: top;\n",
       "    }\n",
       "\n",
       "    .dataframe thead th {\n",
       "        text-align: right;\n",
       "    }\n",
       "</style>\n",
       "<table border=\"1\" class=\"dataframe\">\n",
       "  <thead>\n",
       "    <tr style=\"text-align: right;\">\n",
       "      <th></th>\n",
       "      <th>2020_fy25_amt_diff</th>\n",
       "      <th>2020_fy25_pop_diff</th>\n",
       "    </tr>\n",
       "  </thead>\n",
       "  <tbody>\n",
       "    <tr>\n",
       "      <th>count</th>\n",
       "      <td>47.000000</td>\n",
       "      <td>47.000000</td>\n",
       "    </tr>\n",
       "    <tr>\n",
       "      <th>mean</th>\n",
       "      <td>184.635532</td>\n",
       "      <td>41175.212766</td>\n",
       "    </tr>\n",
       "    <tr>\n",
       "      <th>std</th>\n",
       "      <td>277530.592009</td>\n",
       "      <td>41980.759419</td>\n",
       "    </tr>\n",
       "    <tr>\n",
       "      <th>min</th>\n",
       "      <td>-996202.870000</td>\n",
       "      <td>-7699.000000</td>\n",
       "    </tr>\n",
       "    <tr>\n",
       "      <th>25%</th>\n",
       "      <td>-99623.910000</td>\n",
       "      <td>13275.500000</td>\n",
       "    </tr>\n",
       "    <tr>\n",
       "      <th>50%</th>\n",
       "      <td>14929.490000</td>\n",
       "      <td>30210.000000</td>\n",
       "    </tr>\n",
       "    <tr>\n",
       "      <th>75%</th>\n",
       "      <td>106611.350000</td>\n",
       "      <td>54716.500000</td>\n",
       "    </tr>\n",
       "    <tr>\n",
       "      <th>max</th>\n",
       "      <td>647155.090000</td>\n",
       "      <td>180305.000000</td>\n",
       "    </tr>\n",
       "  </tbody>\n",
       "</table>\n",
       "</div>"
      ],
      "text/plain": [
       "       2020_fy25_amt_diff  2020_fy25_pop_diff\n",
       "count           47.000000           47.000000\n",
       "mean           184.635532        41175.212766\n",
       "std         277530.592009        41980.759419\n",
       "min        -996202.870000        -7699.000000\n",
       "25%         -99623.910000        13275.500000\n",
       "50%          14929.490000        30210.000000\n",
       "75%         106611.350000        54716.500000\n",
       "max         647155.090000       180305.000000"
      ]
     },
     "metadata": {},
     "output_type": "display_data"
    },
    {
     "data": {
      "text/html": [
       "<div>\n",
       "<style scoped>\n",
       "    .dataframe tbody tr th:only-of-type {\n",
       "        vertical-align: middle;\n",
       "    }\n",
       "\n",
       "    .dataframe tbody tr th {\n",
       "        vertical-align: top;\n",
       "    }\n",
       "\n",
       "    .dataframe thead th {\n",
       "        text-align: right;\n",
       "    }\n",
       "</style>\n",
       "<table border=\"1\" class=\"dataframe\">\n",
       "  <thead>\n",
       "    <tr style=\"text-align: right;\">\n",
       "      <th></th>\n",
       "      <th>countyname_2010</th>\n",
       "      <th>pop_rural_2010</th>\n",
       "      <th>apportionment_calc_2010</th>\n",
       "      <th>pop_rur_2020</th>\n",
       "      <th>apportionment_calc_2020</th>\n",
       "      <th>county</th>\n",
       "      <th>id</th>\n",
       "      <th>dla_fy25_pop</th>\n",
       "      <th>dla_fy25_apportionment</th>\n",
       "      <th>_merge</th>\n",
       "      <th>2020_fy25_amt_diff</th>\n",
       "      <th>2020_fy25_pop_diff</th>\n",
       "    </tr>\n",
       "  </thead>\n",
       "  <tbody>\n",
       "    <tr>\n",
       "      <th>0</th>\n",
       "      <td>Alpine</td>\n",
       "      <td>1175</td>\n",
       "      <td>48000.00</td>\n",
       "      <td>1204</td>\n",
       "      <td>48000.00</td>\n",
       "      <td>Alpine</td>\n",
       "      <td>1.0</td>\n",
       "      <td>1119</td>\n",
       "      <td>48000.0</td>\n",
       "      <td>both</td>\n",
       "      <td>0.00</td>\n",
       "      <td>-85</td>\n",
       "    </tr>\n",
       "    <tr>\n",
       "      <th>1</th>\n",
       "      <td>Amador</td>\n",
       "      <td>23016</td>\n",
       "      <td>400197.85</td>\n",
       "      <td>28020</td>\n",
       "      <td>402349.01</td>\n",
       "      <td>Amador</td>\n",
       "      <td>2.0</td>\n",
       "      <td>46118</td>\n",
       "      <td>357467.0</td>\n",
       "      <td>both</td>\n",
       "      <td>-44882.01</td>\n",
       "      <td>18098</td>\n",
       "    </tr>\n",
       "    <tr>\n",
       "      <th>2</th>\n",
       "      <td>Butte</td>\n",
       "      <td>41584</td>\n",
       "      <td>723213.86</td>\n",
       "      <td>44478</td>\n",
       "      <td>638791.07</td>\n",
       "      <td>Butte</td>\n",
       "      <td>3.0</td>\n",
       "      <td>136143</td>\n",
       "      <td>1055644.0</td>\n",
       "      <td>both</td>\n",
       "      <td>416852.93</td>\n",
       "      <td>91665</td>\n",
       "    </tr>\n",
       "    <tr>\n",
       "      <th>3</th>\n",
       "      <td>Calaveras</td>\n",
       "      <td>34370</td>\n",
       "      <td>597716.36</td>\n",
       "      <td>37128</td>\n",
       "      <td>533198.10</td>\n",
       "      <td>Calaveras</td>\n",
       "      <td>4.0</td>\n",
       "      <td>50990</td>\n",
       "      <td>395251.0</td>\n",
       "      <td>both</td>\n",
       "      <td>-137947.10</td>\n",
       "      <td>13862</td>\n",
       "    </tr>\n",
       "    <tr>\n",
       "      <th>4</th>\n",
       "      <td>Colusa</td>\n",
       "      <td>6795</td>\n",
       "      <td>118011.14</td>\n",
       "      <td>9326</td>\n",
       "      <td>133783.69</td>\n",
       "      <td>Colusa</td>\n",
       "      <td>5.0</td>\n",
       "      <td>27483</td>\n",
       "      <td>212945.0</td>\n",
       "      <td>both</td>\n",
       "      <td>79161.31</td>\n",
       "      <td>18157</td>\n",
       "    </tr>\n",
       "  </tbody>\n",
       "</table>\n",
       "</div>"
      ],
      "text/plain": [
       "  countyname_2010  pop_rural_2010  apportionment_calc_2010  pop_rur_2020  \\\n",
       "0          Alpine            1175                 48000.00          1204   \n",
       "1          Amador           23016                400197.85         28020   \n",
       "2           Butte           41584                723213.86         44478   \n",
       "3       Calaveras           34370                597716.36         37128   \n",
       "4          Colusa            6795                118011.14          9326   \n",
       "\n",
       "   apportionment_calc_2020     county   id  dla_fy25_pop  \\\n",
       "0                 48000.00     Alpine  1.0          1119   \n",
       "1                402349.01     Amador  2.0         46118   \n",
       "2                638791.07      Butte  3.0        136143   \n",
       "3                533198.10  Calaveras  4.0         50990   \n",
       "4                133783.69     Colusa  5.0         27483   \n",
       "\n",
       "   dla_fy25_apportionment _merge  2020_fy25_amt_diff  2020_fy25_pop_diff  \n",
       "0                 48000.0   both                0.00                 -85  \n",
       "1                357467.0   both           -44882.01               18098  \n",
       "2               1055644.0   both           416852.93               91665  \n",
       "3                395251.0   both          -137947.10               13862  \n",
       "4                212945.0   both            79161.31               18157  "
      ]
     },
     "metadata": {},
     "output_type": "display_data"
    }
   ],
   "source": [
    "display(\n",
    "    compare_merge[[\"2020_fy25_amt_diff\",\"2020_fy25_pop_diff\"]].describe(),\n",
    "    compare_merge.head()\n",
    ")"
   ]
  },
  {
   "cell_type": "markdown",
   "id": "6d0fe5d2-dea0-4216-b445-1b3aadf000b6",
   "metadata": {},
   "source": [
    "## Visuals"
   ]
  },
  {
   "cell_type": "markdown",
   "id": "f00b6ecf-f0e4-489f-913c-6b985ece996e",
   "metadata": {},
   "source": [
    "### melt dataframe"
   ]
  },
  {
   "cell_type": "code",
   "execution_count": 17,
   "id": "037cb3dc-2ca2-42e4-ab2f-fb5a0b7c3089",
   "metadata": {
    "tags": []
   },
   "outputs": [
    {
     "data": {
      "text/html": [
       "<div>\n",
       "<style scoped>\n",
       "    .dataframe tbody tr th:only-of-type {\n",
       "        vertical-align: middle;\n",
       "    }\n",
       "\n",
       "    .dataframe tbody tr th {\n",
       "        vertical-align: top;\n",
       "    }\n",
       "\n",
       "    .dataframe thead th {\n",
       "        text-align: right;\n",
       "    }\n",
       "</style>\n",
       "<table border=\"1\" class=\"dataframe\">\n",
       "  <thead>\n",
       "    <tr style=\"text-align: right;\">\n",
       "      <th></th>\n",
       "      <th>countyname_2010</th>\n",
       "      <th>variable</th>\n",
       "      <th>metric</th>\n",
       "    </tr>\n",
       "  </thead>\n",
       "  <tbody>\n",
       "    <tr>\n",
       "      <th>0</th>\n",
       "      <td>Alpine</td>\n",
       "      <td>pop_rural_2010</td>\n",
       "      <td>1175.0</td>\n",
       "    </tr>\n",
       "    <tr>\n",
       "      <th>141</th>\n",
       "      <td>Alpine</td>\n",
       "      <td>apportionment_calc_2020</td>\n",
       "      <td>48000.0</td>\n",
       "    </tr>\n",
       "    <tr>\n",
       "      <th>47</th>\n",
       "      <td>Alpine</td>\n",
       "      <td>apportionment_calc_2010</td>\n",
       "      <td>48000.0</td>\n",
       "    </tr>\n",
       "    <tr>\n",
       "      <th>94</th>\n",
       "      <td>Alpine</td>\n",
       "      <td>pop_rur_2020</td>\n",
       "      <td>1204.0</td>\n",
       "    </tr>\n",
       "    <tr>\n",
       "      <th>282</th>\n",
       "      <td>Alpine</td>\n",
       "      <td>2020_fy25_amt_diff</td>\n",
       "      <td>0.0</td>\n",
       "    </tr>\n",
       "  </tbody>\n",
       "</table>\n",
       "</div>"
      ],
      "text/plain": [
       "    countyname_2010                 variable   metric\n",
       "0            Alpine           pop_rural_2010   1175.0\n",
       "141          Alpine  apportionment_calc_2020  48000.0\n",
       "47           Alpine  apportionment_calc_2010  48000.0\n",
       "94           Alpine             pop_rur_2020   1204.0\n",
       "282          Alpine       2020_fy25_amt_diff      0.0"
      ]
     },
     "metadata": {},
     "output_type": "display_data"
    },
    {
     "data": {
      "text/plain": [
       "pop_rural_2010             47\n",
       "apportionment_calc_2010    47\n",
       "pop_rur_2020               47\n",
       "apportionment_calc_2020    47\n",
       "dla_fy25_pop               47\n",
       "dla_fy25_apportionment     47\n",
       "2020_fy25_amt_diff         47\n",
       "2020_fy25_pop_diff         47\n",
       "Name: variable, dtype: int64"
      ]
     },
     "metadata": {},
     "output_type": "display_data"
    }
   ],
   "source": [
    "melt = compare_merge.melt(\n",
    "    id_vars = [\"countyname_2010\"],\n",
    "    value_vars = [\n",
    "        \"pop_rural_2010\",\n",
    "        \"apportionment_calc_2010\",\n",
    "        \"pop_rur_2020\",\n",
    "        \"apportionment_calc_2020\",\n",
    "        'dla_fy25_pop',\n",
    "        'dla_fy25_apportionment',\n",
    "        '2020_fy25_amt_diff',\n",
    "        '2020_fy25_pop_diff'\n",
    "    ],\n",
    "    value_name = \"metric\"\n",
    ")\n",
    "\n",
    "display(\n",
    "    melt.sort_values(by=\"countyname_2010\").head(),\n",
    "    melt[\"variable\"].value_counts()\n",
    ")"
   ]
  },
  {
   "cell_type": "markdown",
   "id": "b9f2c1f3-e747-40fc-ae8e-7f90a272f5d4",
   "metadata": {},
   "source": [
    "### 5311 Apportionments per County ($)"
   ]
  },
  {
   "cell_type": "code",
   "execution_count": 18,
   "id": "57561c82-ed7c-4f6f-ab53-8820f5eaf908",
   "metadata": {
    "tags": []
   },
   "outputs": [
    {
     "data": {
      "text/html": [
       "\n",
       "<style>\n",
       "  #altair-viz-5bc3d991cacb41bf8cf940f1e0399e44.vega-embed {\n",
       "    width: 100%;\n",
       "    display: flex;\n",
       "  }\n",
       "\n",
       "  #altair-viz-5bc3d991cacb41bf8cf940f1e0399e44.vega-embed details,\n",
       "  #altair-viz-5bc3d991cacb41bf8cf940f1e0399e44.vega-embed details summary {\n",
       "    position: relative;\n",
       "  }\n",
       "</style>\n",
       "<div id=\"altair-viz-5bc3d991cacb41bf8cf940f1e0399e44\"></div>\n",
       "<script type=\"text/javascript\">\n",
       "  var VEGA_DEBUG = (typeof VEGA_DEBUG == \"undefined\") ? {} : VEGA_DEBUG;\n",
       "  (function(spec, embedOpt){\n",
       "    let outputDiv = document.currentScript.previousElementSibling;\n",
       "    if (outputDiv.id !== \"altair-viz-5bc3d991cacb41bf8cf940f1e0399e44\") {\n",
       "      outputDiv = document.getElementById(\"altair-viz-5bc3d991cacb41bf8cf940f1e0399e44\");\n",
       "    }\n",
       "\n",
       "    const paths = {\n",
       "      \"vega\": \"https://cdn.jsdelivr.net/npm/vega@5?noext\",\n",
       "      \"vega-lib\": \"https://cdn.jsdelivr.net/npm/vega-lib?noext\",\n",
       "      \"vega-lite\": \"https://cdn.jsdelivr.net/npm/vega-lite@5.20.1?noext\",\n",
       "      \"vega-embed\": \"https://cdn.jsdelivr.net/npm/vega-embed@6?noext\",\n",
       "    };\n",
       "\n",
       "    function maybeLoadScript(lib, version) {\n",
       "      var key = `${lib.replace(\"-\", \"\")}_version`;\n",
       "      return (VEGA_DEBUG[key] == version) ?\n",
       "        Promise.resolve(paths[lib]) :\n",
       "        new Promise(function(resolve, reject) {\n",
       "          var s = document.createElement('script');\n",
       "          document.getElementsByTagName(\"head\")[0].appendChild(s);\n",
       "          s.async = true;\n",
       "          s.onload = () => {\n",
       "            VEGA_DEBUG[key] = version;\n",
       "            return resolve(paths[lib]);\n",
       "          };\n",
       "          s.onerror = () => reject(`Error loading script: ${paths[lib]}`);\n",
       "          s.src = paths[lib];\n",
       "        });\n",
       "    }\n",
       "\n",
       "    function showError(err) {\n",
       "      outputDiv.innerHTML = `<div class=\"error\" style=\"color:red;\">${err}</div>`;\n",
       "      throw err;\n",
       "    }\n",
       "\n",
       "    function displayChart(vegaEmbed) {\n",
       "      vegaEmbed(outputDiv, spec, embedOpt)\n",
       "        .catch(err => showError(`Javascript Error: ${err.message}<br>This usually means there's a typo in your chart specification. See the javascript console for the full traceback.`));\n",
       "    }\n",
       "\n",
       "    if(typeof define === \"function\" && define.amd) {\n",
       "      requirejs.config({paths});\n",
       "      let deps = [\"vega-embed\"];\n",
       "      require(deps, displayChart, err => showError(`Error loading script: ${err.message}`));\n",
       "    } else {\n",
       "      maybeLoadScript(\"vega\", \"5\")\n",
       "        .then(() => maybeLoadScript(\"vega-lite\", \"5.20.1\"))\n",
       "        .then(() => maybeLoadScript(\"vega-embed\", \"6\"))\n",
       "        .catch(showError)\n",
       "        .then(() => displayChart(vegaEmbed));\n",
       "    }\n",
       "  })({\"config\": {\"view\": {\"continuousWidth\": 300, \"continuousHeight\": 300}}, \"data\": {\"name\": \"data-f9e4dc552bbed9a5f53d7f045ce95f45\"}, \"mark\": {\"type\": \"bar\"}, \"encoding\": {\"color\": {\"field\": \"variable\", \"type\": \"nominal\"}, \"tooltip\": [{\"field\": \"countyname_2010\", \"type\": \"nominal\"}, {\"field\": \"variable\", \"type\": \"nominal\"}, {\"field\": \"metric\", \"type\": \"quantitative\"}], \"x\": {\"field\": \"countyname_2010\", \"type\": \"nominal\"}, \"xOffset\": {\"field\": \"variable\", \"type\": \"nominal\"}, \"y\": {\"field\": \"metric\", \"type\": \"quantitative\"}}, \"title\": \"5311 Apportionments per County ($)\", \"width\": \"container\", \"$schema\": \"https://vega.github.io/schema/vega-lite/v5.20.1.json\", \"datasets\": {\"data-f9e4dc552bbed9a5f53d7f045ce95f45\": [{\"countyname_2010\": \"Alpine\", \"variable\": \"apportionment_calc_2010\", \"metric\": 48000.0}, {\"countyname_2010\": \"Amador\", \"variable\": \"apportionment_calc_2010\", \"metric\": 400197.85}, {\"countyname_2010\": \"Butte\", \"variable\": \"apportionment_calc_2010\", \"metric\": 723213.86}, {\"countyname_2010\": \"Calaveras\", \"variable\": \"apportionment_calc_2010\", \"metric\": 597716.36}, {\"countyname_2010\": \"Colusa\", \"variable\": \"apportionment_calc_2010\", \"metric\": 118011.14}, {\"countyname_2010\": \"Del Norte\", \"variable\": \"apportionment_calc_2010\", \"metric\": 167399.47}, {\"countyname_2010\": \"El Dorado\", \"variable\": \"apportionment_calc_2010\", \"metric\": 1092765.19}, {\"countyname_2010\": \"Fresno\", \"variable\": \"apportionment_calc_2010\", \"metric\": 1748782.73}, {\"countyname_2010\": \"Glenn\", \"variable\": \"apportionment_calc_2010\", \"metric\": 199756.74}, {\"countyname_2010\": \"Humboldt\", \"variable\": \"apportionment_calc_2010\", \"metric\": 696736.56}, {\"countyname_2010\": \"Imperial\", \"variable\": \"apportionment_calc_2010\", \"metric\": 528635.33}, {\"countyname_2010\": \"Inyo\", \"variable\": \"apportionment_calc_2010\", \"metric\": 149602.97}, {\"countyname_2010\": \"Kern\", \"variable\": \"apportionment_calc_2010\", \"metric\": 1490550.84}, {\"countyname_2010\": \"Kings\", \"variable\": \"apportionment_calc_2010\", \"metric\": 288600.06}, {\"countyname_2010\": \"Lake\", \"variable\": \"apportionment_calc_2010\", \"metric\": 372224.46}, {\"countyname_2010\": \"Lassen\", \"variable\": \"apportionment_calc_2010\", \"metric\": 427927.68}, {\"countyname_2010\": \"Los Angeles\", \"variable\": \"apportionment_calc_2010\", \"metric\": 1033565.3}, {\"countyname_2010\": \"Madera\", \"variable\": \"apportionment_calc_2010\", \"metric\": 863915.79}, {\"countyname_2010\": \"Mariposa\", \"variable\": \"apportionment_calc_2010\", \"metric\": 317304.09}, {\"countyname_2010\": \"Mendocino\", \"variable\": \"apportionment_calc_2010\", \"metric\": 690978.36}, {\"countyname_2010\": \"Merced\", \"variable\": \"apportionment_calc_2010\", \"metric\": 634944.62}, {\"countyname_2010\": \"Modoc\", \"variable\": \"apportionment_calc_2010\", \"metric\": 117680.61}, {\"countyname_2010\": \"Mono\", \"variable\": \"apportionment_calc_2010\", \"metric\": 113035.78}, {\"countyname_2010\": \"Monterey\", \"variable\": \"apportionment_calc_2010\", \"metric\": 708566.1}, {\"countyname_2010\": \"Nevada\", \"variable\": \"apportionment_calc_2010\", \"metric\": 723735.75}, {\"countyname_2010\": \"Orange\", \"variable\": \"apportionment_calc_2010\", \"metric\": 0.0}, {\"countyname_2010\": \"Placer\", \"variable\": \"apportionment_calc_2010\", \"metric\": 835507.5}, {\"countyname_2010\": \"Plumas\", \"variable\": \"apportionment_calc_2010\", \"metric\": 257443.14}, {\"countyname_2010\": \"Riverside\", \"variable\": \"apportionment_calc_2010\", \"metric\": 1760525.29}, {\"countyname_2010\": \"San Benito\", \"variable\": \"apportionment_calc_2010\", \"metric\": 230600.52}, {\"countyname_2010\": \"San Bernardino\", \"variable\": \"apportionment_calc_2010\", \"metric\": 1676065.86}, {\"countyname_2010\": \"San Diego\", \"variable\": \"apportionment_calc_2010\", \"metric\": 1775173.04}, {\"countyname_2010\": \"San Joaquin\", \"variable\": \"apportionment_calc_2010\", \"metric\": 1009923.62}, {\"countyname_2010\": \"San Luis Obispo\", \"variable\": \"apportionment_calc_2010\", \"metric\": 778290.8}, {\"countyname_2010\": \"Santa Barbara\", \"variable\": \"apportionment_calc_2010\", \"metric\": 369806.37}, {\"countyname_2010\": \"Santa Cruz\", \"variable\": \"apportionment_calc_2010\", \"metric\": 549337.02}, {\"countyname_2010\": \"Shasta\", \"variable\": \"apportionment_calc_2010\", \"metric\": 902709.72}, {\"countyname_2010\": \"Sierra\", \"variable\": \"apportionment_calc_2010\", \"metric\": 48000.0}, {\"countyname_2010\": \"Siskiyou\", \"variable\": \"apportionment_calc_2010\", \"metric\": 513970.18}, {\"countyname_2010\": \"Stanislaus\", \"variable\": \"apportionment_calc_2010\", \"metric\": 714045.96}, {\"countyname_2010\": \"Tehama\", \"variable\": \"apportionment_calc_2010\", \"metric\": 568246.89}, {\"countyname_2010\": \"Trinity\", \"variable\": \"apportionment_calc_2010\", \"metric\": 239629.24}, {\"countyname_2010\": \"Tulare\", \"variable\": \"apportionment_calc_2010\", \"metric\": 1190567.64}, {\"countyname_2010\": \"Tuolumne\", \"variable\": \"apportionment_calc_2010\", \"metric\": 471418.63}, {\"countyname_2010\": \"Ventura\", \"variable\": \"apportionment_calc_2010\", \"metric\": 447324.64}, {\"countyname_2010\": \"MTC\", \"variable\": \"apportionment_calc_2010\", \"metric\": 2730530.12}, {\"countyname_2010\": \"SACOG\", \"variable\": \"apportionment_calc_2010\", \"metric\": 1323928.3}, {\"countyname_2010\": \"Alpine\", \"variable\": \"apportionment_calc_2020\", \"metric\": 48000.0}, {\"countyname_2010\": \"Amador\", \"variable\": \"apportionment_calc_2020\", \"metric\": 402349.01}, {\"countyname_2010\": \"Butte\", \"variable\": \"apportionment_calc_2020\", \"metric\": 638791.07}, {\"countyname_2010\": \"Calaveras\", \"variable\": \"apportionment_calc_2020\", \"metric\": 533198.1}, {\"countyname_2010\": \"Colusa\", \"variable\": \"apportionment_calc_2020\", \"metric\": 133783.69}, {\"countyname_2010\": \"Del Norte\", \"variable\": \"apportionment_calc_2020\", \"metric\": 173966.49}, {\"countyname_2010\": \"El Dorado\", \"variable\": \"apportionment_calc_2020\", \"metric\": 1007059.14}, {\"countyname_2010\": \"Fresno\", \"variable\": \"apportionment_calc_2020\", \"metric\": 1632183.91}, {\"countyname_2010\": \"Glenn\", \"variable\": \"apportionment_calc_2020\", \"metric\": 171007.01}, {\"countyname_2010\": \"Humboldt\", \"variable\": \"apportionment_calc_2020\", \"metric\": 618031.64}, {\"countyname_2010\": \"Imperial\", \"variable\": \"apportionment_calc_2020\", \"metric\": 474971.11}, {\"countyname_2010\": \"Inyo\", \"variable\": \"apportionment_calc_2020\", \"metric\": 114776.96}, {\"countyname_2010\": \"Kern\", \"variable\": \"apportionment_calc_2020\", \"metric\": 1744011.9}, {\"countyname_2010\": \"Kings\", \"variable\": \"apportionment_calc_2020\", \"metric\": 238888.21}, {\"countyname_2010\": \"Lake\", \"variable\": \"apportionment_calc_2020\", \"metric\": 399217.13}, {\"countyname_2010\": \"Lassen\", \"variable\": \"apportionment_calc_2020\", \"metric\": 340789.02}, {\"countyname_2010\": \"Los Angeles\", \"variable\": \"apportionment_calc_2020\", \"metric\": 1281572.14}, {\"countyname_2010\": \"Madera\", \"variable\": \"apportionment_calc_2020\", \"metric\": 866469.64}, {\"countyname_2010\": \"Mariposa\", \"variable\": \"apportionment_calc_2020\", \"metric\": 245913.37}, {\"countyname_2010\": \"Mendocino\", \"variable\": \"apportionment_calc_2020\", \"metric\": 637584.29}, {\"countyname_2010\": \"Merced\", \"variable\": \"apportionment_calc_2020\", \"metric\": 678456.68}, {\"countyname_2010\": \"Modoc\", \"variable\": \"apportionment_calc_2020\", \"metric\": 124790.33}, {\"countyname_2010\": \"Mono\", \"variable\": \"apportionment_calc_2020\", \"metric\": 88156.03}, {\"countyname_2010\": \"Monterey\", \"variable\": \"apportionment_calc_2020\", \"metric\": 898808.38}, {\"countyname_2010\": \"Nevada\", \"variable\": \"apportionment_calc_2020\", \"metric\": 707850.31}, {\"countyname_2010\": \"Orange\", \"variable\": \"apportionment_calc_2020\", \"metric\": 0.0}, {\"countyname_2010\": \"Placer\", \"variable\": \"apportionment_calc_2020\", \"metric\": 847649.66}, {\"countyname_2010\": \"Plumas\", \"variable\": \"apportionment_calc_2020\", \"metric\": 284113.61}, {\"countyname_2010\": \"Riverside\", \"variable\": \"apportionment_calc_2020\", \"metric\": 1901323.88}, {\"countyname_2010\": \"San Benito\", \"variable\": \"apportionment_calc_2020\", \"metric\": 209523.31}, {\"countyname_2010\": \"San Bernardino\", \"variable\": \"apportionment_calc_2020\", \"metric\": 1686488.87}, {\"countyname_2010\": \"San Diego\", \"variable\": \"apportionment_calc_2020\", \"metric\": 2082397.87}, {\"countyname_2010\": \"San Joaquin\", \"variable\": \"apportionment_calc_2020\", \"metric\": 867547.11}, {\"countyname_2010\": \"San Luis Obispo\", \"variable\": \"apportionment_calc_2020\", \"metric\": 774280.5}, {\"countyname_2010\": \"Santa Barbara\", \"variable\": \"apportionment_calc_2020\", \"metric\": 358445.32}, {\"countyname_2010\": \"Santa Cruz\", \"variable\": \"apportionment_calc_2020\", \"metric\": 517079.01}, {\"countyname_2010\": \"Shasta\", \"variable\": \"apportionment_calc_2020\", \"metric\": 884097.2}, {\"countyname_2010\": \"Sierra\", \"variable\": \"apportionment_calc_2020\", \"metric\": 48000.0}, {\"countyname_2010\": \"Siskiyou\", \"variable\": \"apportionment_calc_2020\", \"metric\": 448838.65}, {\"countyname_2010\": \"Stanislaus\", \"variable\": \"apportionment_calc_2020\", \"metric\": 648775.71}, {\"countyname_2010\": \"Tehama\", \"variable\": \"apportionment_calc_2020\", \"metric\": 539174.51}, {\"countyname_2010\": \"Trinity\", \"variable\": \"apportionment_calc_2020\", \"metric\": 231274.02}, {\"countyname_2010\": \"Tulare\", \"variable\": \"apportionment_calc_2020\", \"metric\": 1363015.21}, {\"countyname_2010\": \"Tuolumne\", \"variable\": \"apportionment_calc_2020\", \"metric\": 382049.3}, {\"countyname_2010\": \"Ventura\", \"variable\": \"apportionment_calc_2020\", \"metric\": 407966.27}, {\"countyname_2010\": \"MTC\", \"variable\": \"apportionment_calc_2020\", \"metric\": 2606368.89}, {\"countyname_2010\": \"SACOG\", \"variable\": \"apportionment_calc_2020\", \"metric\": 1357857.67}, {\"countyname_2010\": \"Alpine\", \"variable\": \"dla_fy25_apportionment\", \"metric\": 48000.0}, {\"countyname_2010\": \"Amador\", \"variable\": \"dla_fy25_apportionment\", \"metric\": 357467.0}, {\"countyname_2010\": \"Butte\", \"variable\": \"dla_fy25_apportionment\", \"metric\": 1055644.0}, {\"countyname_2010\": \"Calaveras\", \"variable\": \"dla_fy25_apportionment\", \"metric\": 395251.0}, {\"countyname_2010\": \"Colusa\", \"variable\": \"dla_fy25_apportionment\", \"metric\": 212945.0}, {\"countyname_2010\": \"Del Norte\", \"variable\": \"dla_fy25_apportionment\", \"metric\": 260478.0}, {\"countyname_2010\": \"El Dorado\", \"variable\": \"dla_fy25_apportionment\", \"metric\": 777840.0}, {\"countyname_2010\": \"Fresno\", \"variable\": \"dla_fy25_apportionment\", \"metric\": 2279339.0}, {\"countyname_2010\": \"Glenn\", \"variable\": \"dla_fy25_apportionment\", \"metric\": 267838.0}, {\"countyname_2010\": \"Humboldt\", \"variable\": \"dla_fy25_apportionment\", \"metric\": 1058125.0}, {\"countyname_2010\": \"Imperial\", \"variable\": \"dla_fy25_apportionment\", \"metric\": 570467.0}, {\"countyname_2010\": \"Inyo\", \"variable\": \"dla_fy25_apportionment\", \"metric\": 191052.0}, {\"countyname_2010\": \"Kern\", \"variable\": \"dla_fy25_apportionment\", \"metric\": 2170481.0}, {\"countyname_2010\": \"Kings\", \"variable\": \"dla_fy25_apportionment\", \"metric\": 549002.0}, {\"countyname_2010\": \"Lake\", \"variable\": \"dla_fy25_apportionment\", \"metric\": 572205.0}, {\"countyname_2010\": \"Lassen\", \"variable\": \"dla_fy25_apportionment\", \"metric\": 297409.0}, {\"countyname_2010\": \"Los Angeles\", \"variable\": \"dla_fy25_apportionment\", \"metric\": 632030.0}, {\"countyname_2010\": \"Madera\", \"variable\": \"dla_fy25_apportionment\", \"metric\": 630585.0}, {\"countyname_2010\": \"Mariposa\", \"variable\": \"dla_fy25_apportionment\", \"metric\": 176433.0}, {\"countyname_2010\": \"Mendocino\", \"variable\": \"dla_fy25_apportionment\", \"metric\": 753976.0}, {\"countyname_2010\": \"Merced\", \"variable\": \"dla_fy25_apportionment\", \"metric\": 836891.0}, {\"countyname_2010\": \"Modoc\", \"variable\": \"dla_fy25_apportionment\", \"metric\": 111047.0}, {\"countyname_2010\": \"Mono\", \"variable\": \"dla_fy25_apportionment\", \"metric\": 145907.0}, {\"countyname_2010\": \"Monterey\", \"variable\": \"dla_fy25_apportionment\", \"metric\": 918101.0}, {\"countyname_2010\": \"Nevada\", \"variable\": \"dla_fy25_apportionment\", \"metric\": 836493.0}, {\"countyname_2010\": \"Orange\", \"variable\": \"dla_fy25_apportionment\", \"metric\": 0.0}, {\"countyname_2010\": \"Placer\", \"variable\": \"dla_fy25_apportionment\", \"metric\": 786969.0}, {\"countyname_2010\": \"Plumas\", \"variable\": \"dla_fy25_apportionment\", \"metric\": 197054.0}, {\"countyname_2010\": \"Riverside\", \"variable\": \"dla_fy25_apportionment\", \"metric\": 1463341.0}, {\"countyname_2010\": \"San Benito\", \"variable\": \"dla_fy25_apportionment\", \"metric\": 541540.0}, {\"countyname_2010\": \"San Bernardino\", \"variable\": \"dla_fy25_apportionment\", \"metric\": 2020891.0}, {\"countyname_2010\": \"San Diego\", \"variable\": \"dla_fy25_apportionment\", \"metric\": 1086195.0}, {\"countyname_2010\": \"San Joaquin\", \"variable\": \"dla_fy25_apportionment\", \"metric\": 685088.0}, {\"countyname_2010\": \"San Luis Obispo\", \"variable\": \"dla_fy25_apportionment\", \"metric\": 800258.0}, {\"countyname_2010\": \"Santa Barbara\", \"variable\": \"dla_fy25_apportionment\", \"metric\": 419687.0}, {\"countyname_2010\": \"Santa Cruz\", \"variable\": \"dla_fy25_apportionment\", \"metric\": 294856.0}, {\"countyname_2010\": \"Shasta\", \"variable\": \"dla_fy25_apportionment\", \"metric\": 550635.0}, {\"countyname_2010\": \"Sierra\", \"variable\": \"dla_fy25_apportionment\", \"metric\": 48000.0}, {\"countyname_2010\": \"Siskiyou\", \"variable\": \"dla_fy25_apportionment\", \"metric\": 385401.0}, {\"countyname_2010\": \"Stanislaus\", \"variable\": \"dla_fy25_apportionment\", \"metric\": 715718.0}, {\"countyname_2010\": \"Tehama\", \"variable\": \"dla_fy25_apportionment\", \"metric\": 554104.0}, {\"countyname_2010\": \"Trinity\", \"variable\": \"dla_fy25_apportionment\", \"metric\": 168530.0}, {\"countyname_2010\": \"Tulare\", \"variable\": \"dla_fy25_apportionment\", \"metric\": 1250827.0}, {\"countyname_2010\": \"Tuolumne\", \"variable\": \"dla_fy25_apportionment\", \"metric\": 474930.0}, {\"countyname_2010\": \"Ventura\", \"variable\": \"dla_fy25_apportionment\", \"metric\": 601480.0}, {\"countyname_2010\": \"MTC\", \"variable\": \"dla_fy25_apportionment\", \"metric\": 2351973.0}, {\"countyname_2010\": \"SACOG\", \"variable\": \"dla_fy25_apportionment\", \"metric\": 1153087.0}]}}, {\"mode\": \"vega-lite\"});\n",
       "</script>"
      ],
      "text/plain": [
       "alt.Chart(...)"
      ]
     },
     "execution_count": 18,
     "metadata": {},
     "output_type": "execute_result"
    }
   ],
   "source": [
    "apportionment_cols =[\n",
    "    \"apportionment_calc_2010\",\n",
    "    \"apportionment_calc_2020\",\n",
    "    \"dla_fy25_apportionment\",\n",
    "    # \"2020_fy25_amt_diff\"\n",
    "]\n",
    "\n",
    "alt.Chart(melt[melt[\"variable\"].isin(apportionment_cols)]).mark_bar().encode(\n",
    "    x = \"countyname_2010:N\",\n",
    "    y = \"metric:Q\",\n",
    "    xOffset=\"variable:N\",\n",
    "    color = \"variable:N\",\n",
    "    tooltip = [\"countyname_2010\",\"variable\",\"metric\"]\n",
    ").properties(\n",
    "    width=\"container\",\n",
    "    title= \"5311 Apportionments per County ($)\"\n",
    ")\n"
   ]
  },
  {
   "cell_type": "markdown",
   "id": "69d48649-76bc-4ee6-844a-483721f48ca0",
   "metadata": {},
   "source": [
    "### Rural Populations per County"
   ]
  },
  {
   "cell_type": "code",
   "execution_count": 37,
   "id": "9cb78d12-c0d0-4b0f-b0fb-2295e3854d1c",
   "metadata": {
    "tags": []
   },
   "outputs": [
    {
     "data": {
      "text/html": [
       "\n",
       "<style>\n",
       "  #altair-viz-e8d62ec8fede4e8185f1595f7a711338.vega-embed {\n",
       "    width: 100%;\n",
       "    display: flex;\n",
       "  }\n",
       "\n",
       "  #altair-viz-e8d62ec8fede4e8185f1595f7a711338.vega-embed details,\n",
       "  #altair-viz-e8d62ec8fede4e8185f1595f7a711338.vega-embed details summary {\n",
       "    position: relative;\n",
       "  }\n",
       "</style>\n",
       "<div id=\"altair-viz-e8d62ec8fede4e8185f1595f7a711338\"></div>\n",
       "<script type=\"text/javascript\">\n",
       "  var VEGA_DEBUG = (typeof VEGA_DEBUG == \"undefined\") ? {} : VEGA_DEBUG;\n",
       "  (function(spec, embedOpt){\n",
       "    let outputDiv = document.currentScript.previousElementSibling;\n",
       "    if (outputDiv.id !== \"altair-viz-e8d62ec8fede4e8185f1595f7a711338\") {\n",
       "      outputDiv = document.getElementById(\"altair-viz-e8d62ec8fede4e8185f1595f7a711338\");\n",
       "    }\n",
       "\n",
       "    const paths = {\n",
       "      \"vega\": \"https://cdn.jsdelivr.net/npm/vega@5?noext\",\n",
       "      \"vega-lib\": \"https://cdn.jsdelivr.net/npm/vega-lib?noext\",\n",
       "      \"vega-lite\": \"https://cdn.jsdelivr.net/npm/vega-lite@5.20.1?noext\",\n",
       "      \"vega-embed\": \"https://cdn.jsdelivr.net/npm/vega-embed@6?noext\",\n",
       "    };\n",
       "\n",
       "    function maybeLoadScript(lib, version) {\n",
       "      var key = `${lib.replace(\"-\", \"\")}_version`;\n",
       "      return (VEGA_DEBUG[key] == version) ?\n",
       "        Promise.resolve(paths[lib]) :\n",
       "        new Promise(function(resolve, reject) {\n",
       "          var s = document.createElement('script');\n",
       "          document.getElementsByTagName(\"head\")[0].appendChild(s);\n",
       "          s.async = true;\n",
       "          s.onload = () => {\n",
       "            VEGA_DEBUG[key] = version;\n",
       "            return resolve(paths[lib]);\n",
       "          };\n",
       "          s.onerror = () => reject(`Error loading script: ${paths[lib]}`);\n",
       "          s.src = paths[lib];\n",
       "        });\n",
       "    }\n",
       "\n",
       "    function showError(err) {\n",
       "      outputDiv.innerHTML = `<div class=\"error\" style=\"color:red;\">${err}</div>`;\n",
       "      throw err;\n",
       "    }\n",
       "\n",
       "    function displayChart(vegaEmbed) {\n",
       "      vegaEmbed(outputDiv, spec, embedOpt)\n",
       "        .catch(err => showError(`Javascript Error: ${err.message}<br>This usually means there's a typo in your chart specification. See the javascript console for the full traceback.`));\n",
       "    }\n",
       "\n",
       "    if(typeof define === \"function\" && define.amd) {\n",
       "      requirejs.config({paths});\n",
       "      let deps = [\"vega-embed\"];\n",
       "      require(deps, displayChart, err => showError(`Error loading script: ${err.message}`));\n",
       "    } else {\n",
       "      maybeLoadScript(\"vega\", \"5\")\n",
       "        .then(() => maybeLoadScript(\"vega-lite\", \"5.20.1\"))\n",
       "        .then(() => maybeLoadScript(\"vega-embed\", \"6\"))\n",
       "        .catch(showError)\n",
       "        .then(() => displayChart(vegaEmbed));\n",
       "    }\n",
       "  })({\"config\": {\"view\": {\"continuousWidth\": 300, \"continuousHeight\": 300}}, \"data\": {\"name\": \"data-54163727d3d532e33824264fd4ab489d\"}, \"mark\": {\"type\": \"bar\"}, \"encoding\": {\"color\": {\"field\": \"variable\", \"type\": \"nominal\"}, \"tooltip\": [{\"field\": \"countyname_2010\", \"type\": \"nominal\"}, {\"field\": \"variable\", \"type\": \"nominal\"}, {\"field\": \"metric\", \"type\": \"quantitative\"}], \"x\": {\"field\": \"countyname_2010\", \"type\": \"nominal\"}, \"xOffset\": {\"field\": \"variable\", \"type\": \"nominal\"}, \"y\": {\"field\": \"metric\", \"type\": \"quantitative\"}}, \"title\": \"Rural Populations per County\", \"width\": \"container\", \"$schema\": \"https://vega.github.io/schema/vega-lite/v5.20.1.json\", \"datasets\": {\"data-54163727d3d532e33824264fd4ab489d\": [{\"countyname_2010\": \"Alpine\", \"variable\": \"pop_rural_2010\", \"metric\": 1175.0}, {\"countyname_2010\": \"Amador\", \"variable\": \"pop_rural_2010\", \"metric\": 23016.0}, {\"countyname_2010\": \"Butte\", \"variable\": \"pop_rural_2010\", \"metric\": 41584.0}, {\"countyname_2010\": \"Calaveras\", \"variable\": \"pop_rural_2010\", \"metric\": 34370.0}, {\"countyname_2010\": \"Colusa\", \"variable\": \"pop_rural_2010\", \"metric\": 6795.0}, {\"countyname_2010\": \"Del Norte\", \"variable\": \"pop_rural_2010\", \"metric\": 9634.0}, {\"countyname_2010\": \"El Dorado\", \"variable\": \"pop_rural_2010\", \"metric\": 62827.0}, {\"countyname_2010\": \"Fresno\", \"variable\": \"pop_rural_2010\", \"metric\": 100537.0}, {\"countyname_2010\": \"Glenn\", \"variable\": \"pop_rural_2010\", \"metric\": 11494.0}, {\"countyname_2010\": \"Humboldt\", \"variable\": \"pop_rural_2010\", \"metric\": 40062.0}, {\"countyname_2010\": \"Imperial\", \"variable\": \"pop_rural_2010\", \"metric\": 30399.0}, {\"countyname_2010\": \"Inyo\", \"variable\": \"pop_rural_2010\", \"metric\": 8611.0}, {\"countyname_2010\": \"Kern\", \"variable\": \"pop_rural_2010\", \"metric\": 85693.0}, {\"countyname_2010\": \"Kings\", \"variable\": \"pop_rural_2010\", \"metric\": 16601.0}, {\"countyname_2010\": \"Lake\", \"variable\": \"pop_rural_2010\", \"metric\": 21408.0}, {\"countyname_2010\": \"Lassen\", \"variable\": \"pop_rural_2010\", \"metric\": 24610.0}, {\"countyname_2010\": \"Los Angeles\", \"variable\": \"pop_rural_2010\", \"metric\": 59424.0}, {\"countyname_2010\": \"Madera\", \"variable\": \"pop_rural_2010\", \"metric\": 49672.0}, {\"countyname_2010\": \"Mariposa\", \"variable\": \"pop_rural_2010\", \"metric\": 18251.0}, {\"countyname_2010\": \"Mendocino\", \"variable\": \"pop_rural_2010\", \"metric\": 39731.0}, {\"countyname_2010\": \"Merced\", \"variable\": \"pop_rural_2010\", \"metric\": 36510.0}, {\"countyname_2010\": \"Modoc\", \"variable\": \"pop_rural_2010\", \"metric\": 6776.0}, {\"countyname_2010\": \"Mono\", \"variable\": \"pop_rural_2010\", \"metric\": 6509.0}, {\"countyname_2010\": \"Monterey\", \"variable\": \"pop_rural_2010\", \"metric\": 40742.0}, {\"countyname_2010\": \"Nevada\", \"variable\": \"pop_rural_2010\", \"metric\": 41614.0}, {\"countyname_2010\": \"Orange\", \"variable\": \"pop_rural_2010\", \"metric\": 4315.0}, {\"countyname_2010\": \"Placer\", \"variable\": \"pop_rural_2010\", \"metric\": 48039.0}, {\"countyname_2010\": \"Plumas\", \"variable\": \"pop_rural_2010\", \"metric\": 14810.0}, {\"countyname_2010\": \"Riverside\", \"variable\": \"pop_rural_2010\", \"metric\": 101212.0}, {\"countyname_2010\": \"San Benito\", \"variable\": \"pop_rural_2010\", \"metric\": 13267.0}, {\"countyname_2010\": \"San Bernardino\", \"variable\": \"pop_rural_2010\", \"metric\": 96357.0}, {\"countyname_2010\": \"San Diego\", \"variable\": \"pop_rural_2010\", \"metric\": 102054.0}, {\"countyname_2010\": \"San Joaquin\", \"variable\": \"pop_rural_2010\", \"metric\": 58065.0}, {\"countyname_2010\": \"San Luis Obispo\", \"variable\": \"pop_rural_2010\", \"metric\": 44750.0}, {\"countyname_2010\": \"Santa Barbara\", \"variable\": \"pop_rural_2010\", \"metric\": 21269.0}, {\"countyname_2010\": \"Santa Cruz\", \"variable\": \"pop_rural_2010\", \"metric\": 31589.0}, {\"countyname_2010\": \"Shasta\", \"variable\": \"pop_rural_2010\", \"metric\": 51902.0}, {\"countyname_2010\": \"Sierra\", \"variable\": \"pop_rural_2010\", \"metric\": 3231.0}, {\"countyname_2010\": \"Siskiyou\", \"variable\": \"pop_rural_2010\", \"metric\": 29556.0}, {\"countyname_2010\": \"Stanislaus\", \"variable\": \"pop_rural_2010\", \"metric\": 41057.0}, {\"countyname_2010\": \"Tehama\", \"variable\": \"pop_rural_2010\", \"metric\": 32676.0}, {\"countyname_2010\": \"Trinity\", \"variable\": \"pop_rural_2010\", \"metric\": 13786.0}, {\"countyname_2010\": \"Tulare\", \"variable\": \"pop_rural_2010\", \"metric\": 68449.0}, {\"countyname_2010\": \"Tuolumne\", \"variable\": \"pop_rural_2010\", \"metric\": 27110.0}, {\"countyname_2010\": \"Ventura\", \"variable\": \"pop_rural_2010\", \"metric\": 25725.0}, {\"countyname_2010\": \"MTC\", \"variable\": \"pop_rural_2010\", \"metric\": 156971.0}, {\"countyname_2010\": \"SACOG\", \"variable\": \"pop_rural_2010\", \"metric\": 76115.0}, {\"countyname_2010\": \"Alpine\", \"variable\": \"pop_rur_2020\", \"metric\": 1204.0}, {\"countyname_2010\": \"Amador\", \"variable\": \"pop_rur_2020\", \"metric\": 28020.0}, {\"countyname_2010\": \"Butte\", \"variable\": \"pop_rur_2020\", \"metric\": 44478.0}, {\"countyname_2010\": \"Calaveras\", \"variable\": \"pop_rur_2020\", \"metric\": 37128.0}, {\"countyname_2010\": \"Colusa\", \"variable\": \"pop_rur_2020\", \"metric\": 9326.0}, {\"countyname_2010\": \"Del Norte\", \"variable\": \"pop_rur_2020\", \"metric\": 12123.0}, {\"countyname_2010\": \"El Dorado\", \"variable\": \"pop_rur_2020\", \"metric\": 70112.0}, {\"countyname_2010\": \"Fresno\", \"variable\": \"pop_rur_2020\", \"metric\": 113625.0}, {\"countyname_2010\": \"Glenn\", \"variable\": \"pop_rur_2020\", \"metric\": 11917.0}, {\"countyname_2010\": \"Humboldt\", \"variable\": \"pop_rur_2020\", \"metric\": 43033.0}, {\"countyname_2010\": \"Imperial\", \"variable\": \"pop_rur_2020\", \"metric\": 33075.0}, {\"countyname_2010\": \"Inyo\", \"variable\": \"pop_rur_2020\", \"metric\": 8003.0}, {\"countyname_2010\": \"Kern\", \"variable\": \"pop_rur_2020\", \"metric\": 121409.0}, {\"countyname_2010\": \"Kings\", \"variable\": \"pop_rur_2020\", \"metric\": 16642.0}, {\"countyname_2010\": \"Lake\", \"variable\": \"pop_rur_2020\", \"metric\": 27802.0}, {\"countyname_2010\": \"Lassen\", \"variable\": \"pop_rur_2020\", \"metric\": 23735.0}, {\"countyname_2010\": \"Los Angeles\", \"variable\": \"pop_rur_2020\", \"metric\": 89220.0}, {\"countyname_2010\": \"Madera\", \"variable\": \"pop_rur_2020\", \"metric\": 60326.0}, {\"countyname_2010\": \"Mariposa\", \"variable\": \"pop_rur_2020\", \"metric\": 17131.0}, {\"countyname_2010\": \"Mendocino\", \"variable\": \"pop_rur_2020\", \"metric\": 44394.0}, {\"countyname_2010\": \"Merced\", \"variable\": \"pop_rur_2020\", \"metric\": 47239.0}, {\"countyname_2010\": \"Modoc\", \"variable\": \"pop_rur_2020\", \"metric\": 8700.0}, {\"countyname_2010\": \"Mono\", \"variable\": \"pop_rur_2020\", \"metric\": 6150.0}, {\"countyname_2010\": \"Monterey\", \"variable\": \"pop_rur_2020\", \"metric\": 62577.0}, {\"countyname_2010\": \"Nevada\", \"variable\": \"pop_rur_2020\", \"metric\": 49285.0}, {\"countyname_2010\": \"Orange\", \"variable\": \"pop_rur_2020\", \"metric\": 7962.0}, {\"countyname_2010\": \"Placer\", \"variable\": \"pop_rur_2020\", \"metric\": 59016.0}, {\"countyname_2010\": \"Plumas\", \"variable\": \"pop_rur_2020\", \"metric\": 19790.0}, {\"countyname_2010\": \"Riverside\", \"variable\": \"pop_rur_2020\", \"metric\": 132359.0}, {\"countyname_2010\": \"San Benito\", \"variable\": \"pop_rur_2020\", \"metric\": 14598.0}, {\"countyname_2010\": \"San Bernardino\", \"variable\": \"pop_rur_2020\", \"metric\": 117405.0}, {\"countyname_2010\": \"San Diego\", \"variable\": \"pop_rur_2020\", \"metric\": 144963.0}, {\"countyname_2010\": \"San Joaquin\", \"variable\": \"pop_rur_2020\", \"metric\": 60401.0}, {\"countyname_2010\": \"San Luis Obispo\", \"variable\": \"pop_rur_2020\", \"metric\": 53909.0}, {\"countyname_2010\": \"Santa Barbara\", \"variable\": \"pop_rur_2020\", \"metric\": 24964.0}, {\"countyname_2010\": \"Santa Cruz\", \"variable\": \"pop_rur_2020\", \"metric\": 36006.0}, {\"countyname_2010\": \"Shasta\", \"variable\": \"pop_rur_2020\", \"metric\": 61553.0}, {\"countyname_2010\": \"Sierra\", \"variable\": \"pop_rur_2020\", \"metric\": 3196.0}, {\"countyname_2010\": \"Siskiyou\", \"variable\": \"pop_rur_2020\", \"metric\": 31256.0}, {\"countyname_2010\": \"Stanislaus\", \"variable\": \"pop_rur_2020\", \"metric\": 45173.0}, {\"countyname_2010\": \"Tehama\", \"variable\": \"pop_rur_2020\", \"metric\": 37544.0}, {\"countyname_2010\": \"Trinity\", \"variable\": \"pop_rur_2020\", \"metric\": 16112.0}, {\"countyname_2010\": \"Tulare\", \"variable\": \"pop_rur_2020\", \"metric\": 94889.0}, {\"countyname_2010\": \"Tuolumne\", \"variable\": \"pop_rur_2020\", \"metric\": 26607.0}, {\"countyname_2010\": \"Ventura\", \"variable\": \"pop_rur_2020\", \"metric\": 28411.0}, {\"countyname_2010\": \"MTC\", \"variable\": \"pop_rur_2020\", \"metric\": 181435.0}, {\"countyname_2010\": \"SACOG\", \"variable\": \"pop_rur_2020\", \"metric\": 94530.0}, {\"countyname_2010\": \"Alpine\", \"variable\": \"dla_fy25_pop\", \"metric\": 1119.0}, {\"countyname_2010\": \"Amador\", \"variable\": \"dla_fy25_pop\", \"metric\": 46118.0}, {\"countyname_2010\": \"Butte\", \"variable\": \"dla_fy25_pop\", \"metric\": 136143.0}, {\"countyname_2010\": \"Calaveras\", \"variable\": \"dla_fy25_pop\", \"metric\": 50990.0}, {\"countyname_2010\": \"Colusa\", \"variable\": \"dla_fy25_pop\", \"metric\": 27483.0}, {\"countyname_2010\": \"Del Norte\", \"variable\": \"dla_fy25_pop\", \"metric\": 33612.0}, {\"countyname_2010\": \"El Dorado\", \"variable\": \"dla_fy25_pop\", \"metric\": 100322.0}, {\"countyname_2010\": \"Fresno\", \"variable\": \"dla_fy25_pop\", \"metric\": 293930.0}, {\"countyname_2010\": \"Glenn\", \"variable\": \"dla_fy25_pop\", \"metric\": 34561.0}, {\"countyname_2010\": \"Humboldt\", \"variable\": \"dla_fy25_pop\", \"metric\": 136463.0}, {\"countyname_2010\": \"Imperial\", \"variable\": \"dla_fy25_pop\", \"metric\": 73583.0}, {\"countyname_2010\": \"Inyo\", \"variable\": \"dla_fy25_pop\", \"metric\": 24660.0}, {\"countyname_2010\": \"Kern\", \"variable\": \"dla_fy25_pop\", \"metric\": 279893.0}, {\"countyname_2010\": \"Kings\", \"variable\": \"dla_fy25_pop\", \"metric\": 70815.0}, {\"countyname_2010\": \"Lake\", \"variable\": \"dla_fy25_pop\", \"metric\": 73807.0}, {\"countyname_2010\": \"Lassen\", \"variable\": \"dla_fy25_pop\", \"metric\": 38374.0}, {\"countyname_2010\": \"Los Angeles\", \"variable\": \"dla_fy25_pop\", \"metric\": 81521.0}, {\"countyname_2010\": \"Madera\", \"variable\": \"dla_fy25_pop\", \"metric\": 81335.0}, {\"countyname_2010\": \"Mariposa\", \"variable\": \"dla_fy25_pop\", \"metric\": 22775.0}, {\"countyname_2010\": \"Mendocino\", \"variable\": \"dla_fy25_pop\", \"metric\": 97245.0}, {\"countyname_2010\": \"Merced\", \"variable\": \"dla_fy25_pop\", \"metric\": 107937.0}, {\"countyname_2010\": \"Modoc\", \"variable\": \"dla_fy25_pop\", \"metric\": 14344.0}, {\"countyname_2010\": \"Mono\", \"variable\": \"dla_fy25_pop\", \"metric\": 18839.0}, {\"countyname_2010\": \"Monterey\", \"variable\": \"dla_fy25_pop\", \"metric\": 118408.0}, {\"countyname_2010\": \"Nevada\", \"variable\": \"dla_fy25_pop\", \"metric\": 107885.0}, {\"countyname_2010\": \"Orange\", \"variable\": \"dla_fy25_pop\", \"metric\": 10175.0}, {\"countyname_2010\": \"Placer\", \"variable\": \"dla_fy25_pop\", \"metric\": 101499.0}, {\"countyname_2010\": \"Plumas\", \"variable\": \"dla_fy25_pop\", \"metric\": 25434.0}, {\"countyname_2010\": \"Riverside\", \"variable\": \"dla_fy25_pop\", \"metric\": 188713.0}, {\"countyname_2010\": \"San Benito\", \"variable\": \"dla_fy25_pop\", \"metric\": 69853.0}, {\"countyname_2010\": \"San Bernardino\", \"variable\": \"dla_fy25_pop\", \"metric\": 260605.0}, {\"countyname_2010\": \"San Diego\", \"variable\": \"dla_fy25_pop\", \"metric\": 140082.0}, {\"countyname_2010\": \"San Joaquin\", \"variable\": \"dla_fy25_pop\", \"metric\": 88363.0}, {\"countyname_2010\": \"San Luis Obispo\", \"variable\": \"dla_fy25_pop\", \"metric\": 103213.0}, {\"countyname_2010\": \"Santa Barbara\", \"variable\": \"dla_fy25_pop\", \"metric\": 54141.0}, {\"countyname_2010\": \"Santa Cruz\", \"variable\": \"dla_fy25_pop\", \"metric\": 38045.0}, {\"countyname_2010\": \"Shasta\", \"variable\": \"dla_fy25_pop\", \"metric\": 71026.0}, {\"countyname_2010\": \"Sierra\", \"variable\": \"dla_fy25_pop\", \"metric\": 3236.0}, {\"countyname_2010\": \"Siskiyou\", \"variable\": \"dla_fy25_pop\", \"metric\": 49720.0}, {\"countyname_2010\": \"Stanislaus\", \"variable\": \"dla_fy25_pop\", \"metric\": 92312.0}, {\"countyname_2010\": \"Tehama\", \"variable\": \"dla_fy25_pop\", \"metric\": 71473.0}, {\"countyname_2010\": \"Trinity\", \"variable\": \"dla_fy25_pop\", \"metric\": 21756.0}, {\"countyname_2010\": \"Tulare\", \"variable\": \"dla_fy25_pop\", \"metric\": 161311.0}, {\"countyname_2010\": \"Tuolumne\", \"variable\": \"dla_fy25_pop\", \"metric\": 61264.0}, {\"countyname_2010\": \"Ventura\", \"variable\": \"dla_fy25_pop\", \"metric\": 77582.0}, {\"countyname_2010\": \"MTC\", \"variable\": \"dla_fy25_pop\", \"metric\": 303295.0}, {\"countyname_2010\": \"SACOG\", \"variable\": \"dla_fy25_pop\", \"metric\": 148708.0}]}}, {\"mode\": \"vega-lite\"});\n",
       "</script>"
      ],
      "text/plain": [
       "alt.Chart(...)"
      ]
     },
     "execution_count": 37,
     "metadata": {},
     "output_type": "execute_result"
    }
   ],
   "source": [
    "pop_cols=[\n",
    "    \"pop_rural_2010\",\n",
    "    \"pop_rur_2020\",\n",
    "    \"dla_fy25_pop\",\n",
    "    # \"2020_fy25_pop_diff\"\n",
    "]\n",
    "\n",
    "alt.Chart(melt[melt[\"variable\"].isin(pop_cols)]).mark_bar().encode(\n",
    "    x = \"countyname_2010:N\",\n",
    "    y = \"metric:Q\",\n",
    "    xOffset=\"variable:N\",\n",
    "    color = \"variable:N\",\n",
    "    tooltip = [\"countyname_2010\",\"variable\",\"metric\"]\n",
    ").properties(\n",
    "    width= \"container\",\n",
    "    title= \"Rural Populations per County\"\n",
    ")\n"
   ]
  },
  {
   "cell_type": "code",
   "execution_count": 20,
   "id": "f162a6eb-ca38-491a-93ec-991c2cb6d141",
   "metadata": {
    "tags": []
   },
   "outputs": [
    {
     "data": {
      "text/html": [
       "\n",
       "<style>\n",
       "  #altair-viz-13d4fa5fecf34a4787b2de11991e23de.vega-embed {\n",
       "    width: 100%;\n",
       "    display: flex;\n",
       "  }\n",
       "\n",
       "  #altair-viz-13d4fa5fecf34a4787b2de11991e23de.vega-embed details,\n",
       "  #altair-viz-13d4fa5fecf34a4787b2de11991e23de.vega-embed details summary {\n",
       "    position: relative;\n",
       "  }\n",
       "</style>\n",
       "<div id=\"altair-viz-13d4fa5fecf34a4787b2de11991e23de\"></div>\n",
       "<script type=\"text/javascript\">\n",
       "  var VEGA_DEBUG = (typeof VEGA_DEBUG == \"undefined\") ? {} : VEGA_DEBUG;\n",
       "  (function(spec, embedOpt){\n",
       "    let outputDiv = document.currentScript.previousElementSibling;\n",
       "    if (outputDiv.id !== \"altair-viz-13d4fa5fecf34a4787b2de11991e23de\") {\n",
       "      outputDiv = document.getElementById(\"altair-viz-13d4fa5fecf34a4787b2de11991e23de\");\n",
       "    }\n",
       "\n",
       "    const paths = {\n",
       "      \"vega\": \"https://cdn.jsdelivr.net/npm/vega@5?noext\",\n",
       "      \"vega-lib\": \"https://cdn.jsdelivr.net/npm/vega-lib?noext\",\n",
       "      \"vega-lite\": \"https://cdn.jsdelivr.net/npm/vega-lite@5.20.1?noext\",\n",
       "      \"vega-embed\": \"https://cdn.jsdelivr.net/npm/vega-embed@6?noext\",\n",
       "    };\n",
       "\n",
       "    function maybeLoadScript(lib, version) {\n",
       "      var key = `${lib.replace(\"-\", \"\")}_version`;\n",
       "      return (VEGA_DEBUG[key] == version) ?\n",
       "        Promise.resolve(paths[lib]) :\n",
       "        new Promise(function(resolve, reject) {\n",
       "          var s = document.createElement('script');\n",
       "          document.getElementsByTagName(\"head\")[0].appendChild(s);\n",
       "          s.async = true;\n",
       "          s.onload = () => {\n",
       "            VEGA_DEBUG[key] = version;\n",
       "            return resolve(paths[lib]);\n",
       "          };\n",
       "          s.onerror = () => reject(`Error loading script: ${paths[lib]}`);\n",
       "          s.src = paths[lib];\n",
       "        });\n",
       "    }\n",
       "\n",
       "    function showError(err) {\n",
       "      outputDiv.innerHTML = `<div class=\"error\" style=\"color:red;\">${err}</div>`;\n",
       "      throw err;\n",
       "    }\n",
       "\n",
       "    function displayChart(vegaEmbed) {\n",
       "      vegaEmbed(outputDiv, spec, embedOpt)\n",
       "        .catch(err => showError(`Javascript Error: ${err.message}<br>This usually means there's a typo in your chart specification. See the javascript console for the full traceback.`));\n",
       "    }\n",
       "\n",
       "    if(typeof define === \"function\" && define.amd) {\n",
       "      requirejs.config({paths});\n",
       "      let deps = [\"vega-embed\"];\n",
       "      require(deps, displayChart, err => showError(`Error loading script: ${err.message}`));\n",
       "    } else {\n",
       "      maybeLoadScript(\"vega\", \"5\")\n",
       "        .then(() => maybeLoadScript(\"vega-lite\", \"5.20.1\"))\n",
       "        .then(() => maybeLoadScript(\"vega-embed\", \"6\"))\n",
       "        .catch(showError)\n",
       "        .then(() => displayChart(vegaEmbed));\n",
       "    }\n",
       "  })({\"config\": {\"view\": {\"continuousWidth\": 300, \"continuousHeight\": 300}}, \"data\": {\"name\": \"data-b32c1473779ac1ddda17f81576ac77f2\"}, \"mark\": {\"type\": \"bar\"}, \"encoding\": {\"color\": {\"field\": \"variable\", \"type\": \"nominal\"}, \"tooltip\": [{\"field\": \"countyname_2010\", \"type\": \"nominal\"}, {\"field\": \"variable\", \"type\": \"nominal\"}, {\"field\": \"metric\", \"type\": \"quantitative\"}], \"x\": {\"field\": \"countyname_2010\", \"type\": \"nominal\"}, \"xOffset\": {\"field\": \"variable\", \"type\": \"nominal\"}, \"y\": {\"field\": \"metric\", \"type\": \"quantitative\"}}, \"title\": \"Difference in Rural Populations per County, 2020 rural Census populations compared to stated FFY25 populations\", \"width\": \"container\", \"$schema\": \"https://vega.github.io/schema/vega-lite/v5.20.1.json\", \"datasets\": {\"data-b32c1473779ac1ddda17f81576ac77f2\": [{\"countyname_2010\": \"Alpine\", \"variable\": \"2020_fy25_amt_diff\", \"metric\": 0.0}, {\"countyname_2010\": \"Amador\", \"variable\": \"2020_fy25_amt_diff\", \"metric\": -44882.01000000001}, {\"countyname_2010\": \"Butte\", \"variable\": \"2020_fy25_amt_diff\", \"metric\": 416852.93000000005}, {\"countyname_2010\": \"Calaveras\", \"variable\": \"2020_fy25_amt_diff\", \"metric\": -137947.09999999998}, {\"countyname_2010\": \"Colusa\", \"variable\": \"2020_fy25_amt_diff\", \"metric\": 79161.31}, {\"countyname_2010\": \"Del Norte\", \"variable\": \"2020_fy25_amt_diff\", \"metric\": 86511.51000000001}, {\"countyname_2010\": \"El Dorado\", \"variable\": \"2020_fy25_amt_diff\", \"metric\": -229219.14}, {\"countyname_2010\": \"Fresno\", \"variable\": \"2020_fy25_amt_diff\", \"metric\": 647155.0900000001}, {\"countyname_2010\": \"Glenn\", \"variable\": \"2020_fy25_amt_diff\", \"metric\": 96830.98999999999}, {\"countyname_2010\": \"Humboldt\", \"variable\": \"2020_fy25_amt_diff\", \"metric\": 440093.36}, {\"countyname_2010\": \"Imperial\", \"variable\": \"2020_fy25_amt_diff\", \"metric\": 95495.89000000001}, {\"countyname_2010\": \"Inyo\", \"variable\": \"2020_fy25_amt_diff\", \"metric\": 76275.04}, {\"countyname_2010\": \"Kern\", \"variable\": \"2020_fy25_amt_diff\", \"metric\": 426469.1000000001}, {\"countyname_2010\": \"Kings\", \"variable\": \"2020_fy25_amt_diff\", \"metric\": 310113.79000000004}, {\"countyname_2010\": \"Lake\", \"variable\": \"2020_fy25_amt_diff\", \"metric\": 172987.87}, {\"countyname_2010\": \"Lassen\", \"variable\": \"2020_fy25_amt_diff\", \"metric\": -43380.02000000002}, {\"countyname_2010\": \"Los Angeles\", \"variable\": \"2020_fy25_amt_diff\", \"metric\": -649542.1399999999}, {\"countyname_2010\": \"Madera\", \"variable\": \"2020_fy25_amt_diff\", \"metric\": -235884.64}, {\"countyname_2010\": \"Mariposa\", \"variable\": \"2020_fy25_amt_diff\", \"metric\": -69480.37}, {\"countyname_2010\": \"Mendocino\", \"variable\": \"2020_fy25_amt_diff\", \"metric\": 116391.70999999996}, {\"countyname_2010\": \"Merced\", \"variable\": \"2020_fy25_amt_diff\", \"metric\": 158434.31999999995}, {\"countyname_2010\": \"Modoc\", \"variable\": \"2020_fy25_amt_diff\", \"metric\": -13743.330000000002}, {\"countyname_2010\": \"Mono\", \"variable\": \"2020_fy25_amt_diff\", \"metric\": 57750.97}, {\"countyname_2010\": \"Monterey\", \"variable\": \"2020_fy25_amt_diff\", \"metric\": 19292.619999999995}, {\"countyname_2010\": \"Nevada\", \"variable\": \"2020_fy25_amt_diff\", \"metric\": 128642.68999999994}, {\"countyname_2010\": \"Orange\", \"variable\": \"2020_fy25_amt_diff\", \"metric\": 0.0}, {\"countyname_2010\": \"Placer\", \"variable\": \"2020_fy25_amt_diff\", \"metric\": -60680.66000000003}, {\"countyname_2010\": \"Plumas\", \"variable\": \"2020_fy25_amt_diff\", \"metric\": -87059.60999999999}, {\"countyname_2010\": \"Riverside\", \"variable\": \"2020_fy25_amt_diff\", \"metric\": -437982.8799999999}, {\"countyname_2010\": \"San Benito\", \"variable\": \"2020_fy25_amt_diff\", \"metric\": 332016.69}, {\"countyname_2010\": \"San Bernardino\", \"variable\": \"2020_fy25_amt_diff\", \"metric\": 334402.1299999999}, {\"countyname_2010\": \"San Diego\", \"variable\": \"2020_fy25_amt_diff\", \"metric\": -996202.8700000001}, {\"countyname_2010\": \"San Joaquin\", \"variable\": \"2020_fy25_amt_diff\", \"metric\": -182459.11}, {\"countyname_2010\": \"San Luis Obispo\", \"variable\": \"2020_fy25_amt_diff\", \"metric\": 25977.5}, {\"countyname_2010\": \"Santa Barbara\", \"variable\": \"2020_fy25_amt_diff\", \"metric\": 61241.67999999999}, {\"countyname_2010\": \"Santa Cruz\", \"variable\": \"2020_fy25_amt_diff\", \"metric\": -222223.01}, {\"countyname_2010\": \"Shasta\", \"variable\": \"2020_fy25_amt_diff\", \"metric\": -333462.19999999995}, {\"countyname_2010\": \"Sierra\", \"variable\": \"2020_fy25_amt_diff\", \"metric\": 0.0}, {\"countyname_2010\": \"Siskiyou\", \"variable\": \"2020_fy25_amt_diff\", \"metric\": -63437.65000000002}, {\"countyname_2010\": \"Stanislaus\", \"variable\": \"2020_fy25_amt_diff\", \"metric\": 66942.29000000004}, {\"countyname_2010\": \"Tehama\", \"variable\": \"2020_fy25_amt_diff\", \"metric\": 14929.48999999999}, {\"countyname_2010\": \"Trinity\", \"variable\": \"2020_fy25_amt_diff\", \"metric\": -62744.01999999999}, {\"countyname_2010\": \"Tulare\", \"variable\": \"2020_fy25_amt_diff\", \"metric\": -112188.20999999996}, {\"countyname_2010\": \"Tuolumne\", \"variable\": \"2020_fy25_amt_diff\", \"metric\": 92880.70000000001}, {\"countyname_2010\": \"Ventura\", \"variable\": \"2020_fy25_amt_diff\", \"metric\": 193513.72999999998}, {\"countyname_2010\": \"MTC\", \"variable\": \"2020_fy25_amt_diff\", \"metric\": -254395.89000000013}, {\"countyname_2010\": \"SACOG\", \"variable\": \"2020_fy25_amt_diff\", \"metric\": -204770.66999999993}]}}, {\"mode\": \"vega-lite\"});\n",
       "</script>"
      ],
      "text/plain": [
       "alt.Chart(...)"
      ]
     },
     "execution_count": 20,
     "metadata": {},
     "output_type": "execute_result"
    }
   ],
   "source": [
    "diff_cols=[\n",
    "    \"2020_fy25_amt_diff\",\n",
    "    \"2020_fy25_pop_diff\",\n",
    "]\n",
    "\n",
    "alt.Chart(melt[melt[\"variable\"]==\"2020_fy25_amt_diff\"]).mark_bar().encode(\n",
    "    x = \"countyname_2010:N\",\n",
    "    y = \"metric:Q\",\n",
    "    xOffset=\"variable:N\",\n",
    "    color = \"variable:N\",\n",
    "    tooltip = [\"countyname_2010\",\"variable\",\"metric\"]\n",
    ").properties(\n",
    "    width= \"container\",\n",
    "    title= \"Difference in Rural Populations per County, 2020 rural Census populations compared to stated FFY25 populations\"\n",
    ")\n"
   ]
  },
  {
   "cell_type": "code",
   "execution_count": 21,
   "id": "346e4331-8e28-4a11-bdb2-09b464aa3c00",
   "metadata": {
    "tags": []
   },
   "outputs": [
    {
     "data": {
      "text/html": [
       "\n",
       "<style>\n",
       "  #altair-viz-e9d653325e5e41c28e2a08d123f2994b.vega-embed {\n",
       "    width: 100%;\n",
       "    display: flex;\n",
       "  }\n",
       "\n",
       "  #altair-viz-e9d653325e5e41c28e2a08d123f2994b.vega-embed details,\n",
       "  #altair-viz-e9d653325e5e41c28e2a08d123f2994b.vega-embed details summary {\n",
       "    position: relative;\n",
       "  }\n",
       "</style>\n",
       "<div id=\"altair-viz-e9d653325e5e41c28e2a08d123f2994b\"></div>\n",
       "<script type=\"text/javascript\">\n",
       "  var VEGA_DEBUG = (typeof VEGA_DEBUG == \"undefined\") ? {} : VEGA_DEBUG;\n",
       "  (function(spec, embedOpt){\n",
       "    let outputDiv = document.currentScript.previousElementSibling;\n",
       "    if (outputDiv.id !== \"altair-viz-e9d653325e5e41c28e2a08d123f2994b\") {\n",
       "      outputDiv = document.getElementById(\"altair-viz-e9d653325e5e41c28e2a08d123f2994b\");\n",
       "    }\n",
       "\n",
       "    const paths = {\n",
       "      \"vega\": \"https://cdn.jsdelivr.net/npm/vega@5?noext\",\n",
       "      \"vega-lib\": \"https://cdn.jsdelivr.net/npm/vega-lib?noext\",\n",
       "      \"vega-lite\": \"https://cdn.jsdelivr.net/npm/vega-lite@5.20.1?noext\",\n",
       "      \"vega-embed\": \"https://cdn.jsdelivr.net/npm/vega-embed@6?noext\",\n",
       "    };\n",
       "\n",
       "    function maybeLoadScript(lib, version) {\n",
       "      var key = `${lib.replace(\"-\", \"\")}_version`;\n",
       "      return (VEGA_DEBUG[key] == version) ?\n",
       "        Promise.resolve(paths[lib]) :\n",
       "        new Promise(function(resolve, reject) {\n",
       "          var s = document.createElement('script');\n",
       "          document.getElementsByTagName(\"head\")[0].appendChild(s);\n",
       "          s.async = true;\n",
       "          s.onload = () => {\n",
       "            VEGA_DEBUG[key] = version;\n",
       "            return resolve(paths[lib]);\n",
       "          };\n",
       "          s.onerror = () => reject(`Error loading script: ${paths[lib]}`);\n",
       "          s.src = paths[lib];\n",
       "        });\n",
       "    }\n",
       "\n",
       "    function showError(err) {\n",
       "      outputDiv.innerHTML = `<div class=\"error\" style=\"color:red;\">${err}</div>`;\n",
       "      throw err;\n",
       "    }\n",
       "\n",
       "    function displayChart(vegaEmbed) {\n",
       "      vegaEmbed(outputDiv, spec, embedOpt)\n",
       "        .catch(err => showError(`Javascript Error: ${err.message}<br>This usually means there's a typo in your chart specification. See the javascript console for the full traceback.`));\n",
       "    }\n",
       "\n",
       "    if(typeof define === \"function\" && define.amd) {\n",
       "      requirejs.config({paths});\n",
       "      let deps = [\"vega-embed\"];\n",
       "      require(deps, displayChart, err => showError(`Error loading script: ${err.message}`));\n",
       "    } else {\n",
       "      maybeLoadScript(\"vega\", \"5\")\n",
       "        .then(() => maybeLoadScript(\"vega-lite\", \"5.20.1\"))\n",
       "        .then(() => maybeLoadScript(\"vega-embed\", \"6\"))\n",
       "        .catch(showError)\n",
       "        .then(() => displayChart(vegaEmbed));\n",
       "    }\n",
       "  })({\"config\": {\"view\": {\"continuousWidth\": 300, \"continuousHeight\": 300}}, \"data\": {\"name\": \"data-388af34f3373b6d3ea03799115aaee6d\"}, \"mark\": {\"type\": \"bar\"}, \"encoding\": {\"color\": {\"field\": \"variable\", \"type\": \"nominal\"}, \"tooltip\": [{\"field\": \"countyname_2010\", \"type\": \"nominal\"}, {\"field\": \"variable\", \"type\": \"nominal\"}, {\"field\": \"metric\", \"type\": \"quantitative\"}], \"x\": {\"field\": \"countyname_2010\", \"type\": \"nominal\"}, \"xOffset\": {\"field\": \"variable\", \"type\": \"nominal\"}, \"y\": {\"field\": \"metric\", \"type\": \"quantitative\"}}, \"title\": \"Difference in Apportionments per County. Apportionment calculated using 2020 census compared to stated FFY25 apportionments\", \"width\": \"container\", \"$schema\": \"https://vega.github.io/schema/vega-lite/v5.20.1.json\", \"datasets\": {\"data-388af34f3373b6d3ea03799115aaee6d\": [{\"countyname_2010\": \"Alpine\", \"variable\": \"2020_fy25_pop_diff\", \"metric\": -85.0}, {\"countyname_2010\": \"Amador\", \"variable\": \"2020_fy25_pop_diff\", \"metric\": 18098.0}, {\"countyname_2010\": \"Butte\", \"variable\": \"2020_fy25_pop_diff\", \"metric\": 91665.0}, {\"countyname_2010\": \"Calaveras\", \"variable\": \"2020_fy25_pop_diff\", \"metric\": 13862.0}, {\"countyname_2010\": \"Colusa\", \"variable\": \"2020_fy25_pop_diff\", \"metric\": 18157.0}, {\"countyname_2010\": \"Del Norte\", \"variable\": \"2020_fy25_pop_diff\", \"metric\": 21489.0}, {\"countyname_2010\": \"El Dorado\", \"variable\": \"2020_fy25_pop_diff\", \"metric\": 30210.0}, {\"countyname_2010\": \"Fresno\", \"variable\": \"2020_fy25_pop_diff\", \"metric\": 180305.0}, {\"countyname_2010\": \"Glenn\", \"variable\": \"2020_fy25_pop_diff\", \"metric\": 22644.0}, {\"countyname_2010\": \"Humboldt\", \"variable\": \"2020_fy25_pop_diff\", \"metric\": 93430.0}, {\"countyname_2010\": \"Imperial\", \"variable\": \"2020_fy25_pop_diff\", \"metric\": 40508.0}, {\"countyname_2010\": \"Inyo\", \"variable\": \"2020_fy25_pop_diff\", \"metric\": 16657.0}, {\"countyname_2010\": \"Kern\", \"variable\": \"2020_fy25_pop_diff\", \"metric\": 158484.0}, {\"countyname_2010\": \"Kings\", \"variable\": \"2020_fy25_pop_diff\", \"metric\": 54173.0}, {\"countyname_2010\": \"Lake\", \"variable\": \"2020_fy25_pop_diff\", \"metric\": 46005.0}, {\"countyname_2010\": \"Lassen\", \"variable\": \"2020_fy25_pop_diff\", \"metric\": 14639.0}, {\"countyname_2010\": \"Los Angeles\", \"variable\": \"2020_fy25_pop_diff\", \"metric\": -7699.0}, {\"countyname_2010\": \"Madera\", \"variable\": \"2020_fy25_pop_diff\", \"metric\": 21009.0}, {\"countyname_2010\": \"Mariposa\", \"variable\": \"2020_fy25_pop_diff\", \"metric\": 5644.0}, {\"countyname_2010\": \"Mendocino\", \"variable\": \"2020_fy25_pop_diff\", \"metric\": 52851.0}, {\"countyname_2010\": \"Merced\", \"variable\": \"2020_fy25_pop_diff\", \"metric\": 60698.0}, {\"countyname_2010\": \"Modoc\", \"variable\": \"2020_fy25_pop_diff\", \"metric\": 5644.0}, {\"countyname_2010\": \"Mono\", \"variable\": \"2020_fy25_pop_diff\", \"metric\": 12689.0}, {\"countyname_2010\": \"Monterey\", \"variable\": \"2020_fy25_pop_diff\", \"metric\": 55831.0}, {\"countyname_2010\": \"Nevada\", \"variable\": \"2020_fy25_pop_diff\", \"metric\": 58600.0}, {\"countyname_2010\": \"Orange\", \"variable\": \"2020_fy25_pop_diff\", \"metric\": 2213.0}, {\"countyname_2010\": \"Placer\", \"variable\": \"2020_fy25_pop_diff\", \"metric\": 42483.0}, {\"countyname_2010\": \"Plumas\", \"variable\": \"2020_fy25_pop_diff\", \"metric\": 5644.0}, {\"countyname_2010\": \"Riverside\", \"variable\": \"2020_fy25_pop_diff\", \"metric\": 56354.0}, {\"countyname_2010\": \"San Benito\", \"variable\": \"2020_fy25_pop_diff\", \"metric\": 55255.0}, {\"countyname_2010\": \"San Bernardino\", \"variable\": \"2020_fy25_pop_diff\", \"metric\": 143200.0}, {\"countyname_2010\": \"San Diego\", \"variable\": \"2020_fy25_pop_diff\", \"metric\": -4881.0}, {\"countyname_2010\": \"San Joaquin\", \"variable\": \"2020_fy25_pop_diff\", \"metric\": 27962.0}, {\"countyname_2010\": \"San Luis Obispo\", \"variable\": \"2020_fy25_pop_diff\", \"metric\": 49304.0}, {\"countyname_2010\": \"Santa Barbara\", \"variable\": \"2020_fy25_pop_diff\", \"metric\": 29177.0}, {\"countyname_2010\": \"Santa Cruz\", \"variable\": \"2020_fy25_pop_diff\", \"metric\": 2039.0}, {\"countyname_2010\": \"Shasta\", \"variable\": \"2020_fy25_pop_diff\", \"metric\": 9473.0}, {\"countyname_2010\": \"Sierra\", \"variable\": \"2020_fy25_pop_diff\", \"metric\": 40.0}, {\"countyname_2010\": \"Siskiyou\", \"variable\": \"2020_fy25_pop_diff\", \"metric\": 18464.0}, {\"countyname_2010\": \"Stanislaus\", \"variable\": \"2020_fy25_pop_diff\", \"metric\": 47139.0}, {\"countyname_2010\": \"Tehama\", \"variable\": \"2020_fy25_pop_diff\", \"metric\": 33929.0}, {\"countyname_2010\": \"Trinity\", \"variable\": \"2020_fy25_pop_diff\", \"metric\": 5644.0}, {\"countyname_2010\": \"Tulare\", \"variable\": \"2020_fy25_pop_diff\", \"metric\": 66422.0}, {\"countyname_2010\": \"Tuolumne\", \"variable\": \"2020_fy25_pop_diff\", \"metric\": 34657.0}, {\"countyname_2010\": \"Ventura\", \"variable\": \"2020_fy25_pop_diff\", \"metric\": 49171.0}, {\"countyname_2010\": \"MTC\", \"variable\": \"2020_fy25_pop_diff\", \"metric\": 121860.0}, {\"countyname_2010\": \"SACOG\", \"variable\": \"2020_fy25_pop_diff\", \"metric\": 54178.0}]}}, {\"mode\": \"vega-lite\"});\n",
       "</script>"
      ],
      "text/plain": [
       "alt.Chart(...)"
      ]
     },
     "execution_count": 21,
     "metadata": {},
     "output_type": "execute_result"
    }
   ],
   "source": [
    "alt.Chart(melt[melt[\"variable\"]==\"2020_fy25_pop_diff\"]).mark_bar().encode(\n",
    "    x = \"countyname_2010:N\",\n",
    "    y = \"metric:Q\",\n",
    "    xOffset=\"variable:N\",\n",
    "    color = \"variable:N\",\n",
    "    tooltip = [\"countyname_2010\",\"variable\",\"metric\"]\n",
    ").properties(\n",
    "    width= \"container\",\n",
    "    title= \"\"\"Difference in Apportionments per County. Apportionment calculated using 2020 census compared to stated FFY25 apportionments\"\"\"\n",
    ")\n"
   ]
  },
  {
   "cell_type": "markdown",
   "id": "5534f1db-c274-4050-b3f5-449d0e3b3d58",
   "metadata": {},
   "source": [
    "### 5311 Apportionments ($) and Rural Populations per County"
   ]
  },
  {
   "cell_type": "code",
   "execution_count": 23,
   "id": "e4d11b6f-687a-469c-9498-96323d6dd28a",
   "metadata": {
    "tags": []
   },
   "outputs": [
    {
     "data": {
      "text/plain": [
       "array(['pop_rural_2010', 'apportionment_calc_2010', 'pop_rur_2020',\n",
       "       'apportionment_calc_2020', 'dla_fy25_pop',\n",
       "       'dla_fy25_apportionment', '2020_fy25_amt_diff',\n",
       "       '2020_fy25_pop_diff'], dtype=object)"
      ]
     },
     "execution_count": 23,
     "metadata": {},
     "output_type": "execute_result"
    }
   ],
   "source": [
    "melt[\"variable\"].unique()"
   ]
  },
  {
   "cell_type": "code",
   "execution_count": 41,
   "id": "404408e1-52ba-4539-aa36-d4aa8ca114ca",
   "metadata": {
    "tags": []
   },
   "outputs": [
    {
     "data": {
      "text/html": [
       "\n",
       "<style>\n",
       "  #altair-viz-17738e6a3844455aba950fa8639a907b.vega-embed {\n",
       "    width: 100%;\n",
       "    display: flex;\n",
       "  }\n",
       "\n",
       "  #altair-viz-17738e6a3844455aba950fa8639a907b.vega-embed details,\n",
       "  #altair-viz-17738e6a3844455aba950fa8639a907b.vega-embed details summary {\n",
       "    position: relative;\n",
       "  }\n",
       "</style>\n",
       "<div id=\"altair-viz-17738e6a3844455aba950fa8639a907b\"></div>\n",
       "<script type=\"text/javascript\">\n",
       "  var VEGA_DEBUG = (typeof VEGA_DEBUG == \"undefined\") ? {} : VEGA_DEBUG;\n",
       "  (function(spec, embedOpt){\n",
       "    let outputDiv = document.currentScript.previousElementSibling;\n",
       "    if (outputDiv.id !== \"altair-viz-17738e6a3844455aba950fa8639a907b\") {\n",
       "      outputDiv = document.getElementById(\"altair-viz-17738e6a3844455aba950fa8639a907b\");\n",
       "    }\n",
       "\n",
       "    const paths = {\n",
       "      \"vega\": \"https://cdn.jsdelivr.net/npm/vega@5?noext\",\n",
       "      \"vega-lib\": \"https://cdn.jsdelivr.net/npm/vega-lib?noext\",\n",
       "      \"vega-lite\": \"https://cdn.jsdelivr.net/npm/vega-lite@5.20.1?noext\",\n",
       "      \"vega-embed\": \"https://cdn.jsdelivr.net/npm/vega-embed@6?noext\",\n",
       "    };\n",
       "\n",
       "    function maybeLoadScript(lib, version) {\n",
       "      var key = `${lib.replace(\"-\", \"\")}_version`;\n",
       "      return (VEGA_DEBUG[key] == version) ?\n",
       "        Promise.resolve(paths[lib]) :\n",
       "        new Promise(function(resolve, reject) {\n",
       "          var s = document.createElement('script');\n",
       "          document.getElementsByTagName(\"head\")[0].appendChild(s);\n",
       "          s.async = true;\n",
       "          s.onload = () => {\n",
       "            VEGA_DEBUG[key] = version;\n",
       "            return resolve(paths[lib]);\n",
       "          };\n",
       "          s.onerror = () => reject(`Error loading script: ${paths[lib]}`);\n",
       "          s.src = paths[lib];\n",
       "        });\n",
       "    }\n",
       "\n",
       "    function showError(err) {\n",
       "      outputDiv.innerHTML = `<div class=\"error\" style=\"color:red;\">${err}</div>`;\n",
       "      throw err;\n",
       "    }\n",
       "\n",
       "    function displayChart(vegaEmbed) {\n",
       "      vegaEmbed(outputDiv, spec, embedOpt)\n",
       "        .catch(err => showError(`Javascript Error: ${err.message}<br>This usually means there's a typo in your chart specification. See the javascript console for the full traceback.`));\n",
       "    }\n",
       "\n",
       "    if(typeof define === \"function\" && define.amd) {\n",
       "      requirejs.config({paths});\n",
       "      let deps = [\"vega-embed\"];\n",
       "      require(deps, displayChart, err => showError(`Error loading script: ${err.message}`));\n",
       "    } else {\n",
       "      maybeLoadScript(\"vega\", \"5\")\n",
       "        .then(() => maybeLoadScript(\"vega-lite\", \"5.20.1\"))\n",
       "        .then(() => maybeLoadScript(\"vega-embed\", \"6\"))\n",
       "        .catch(showError)\n",
       "        .then(() => displayChart(vegaEmbed));\n",
       "    }\n",
       "  })({\"config\": {\"view\": {\"continuousWidth\": 300, \"continuousHeight\": 300}}, \"hconcat\": [{\"data\": {\"name\": \"data-18f7d6b13dcc6f0cf2e615b78eb18c1f\"}, \"mark\": {\"type\": \"bar\"}, \"encoding\": {\"color\": {\"field\": \"variable\", \"type\": \"nominal\"}, \"row\": {\"field\": \"countyname_2010\", \"type\": \"nominal\"}, \"text\": {\"field\": \"metric\", \"type\": \"quantitative\"}, \"tooltip\": [{\"field\": \"countyname_2010\", \"type\": \"nominal\"}, {\"field\": \"variable\", \"type\": \"nominal\"}, {\"field\": \"metric\", \"type\": \"quantitative\"}], \"x\": {\"field\": \"variable\", \"type\": \"nominal\"}, \"y\": {\"field\": \"metric\", \"type\": \"quantitative\"}}, \"resolve\": {\"scale\": {\"y\": \"independent\"}}, \"title\": \"apportionments\", \"width\": 300}, {\"data\": {\"name\": \"data-2122baa7e41f61ab2609d038cdf4119a\"}, \"mark\": {\"type\": \"bar\"}, \"encoding\": {\"color\": {\"field\": \"variable\", \"type\": \"nominal\"}, \"row\": {\"field\": \"countyname_2010\", \"type\": \"nominal\"}, \"text\": {\"field\": \"metric\", \"type\": \"quantitative\"}, \"tooltip\": [{\"field\": \"countyname_2010\", \"type\": \"nominal\"}, {\"field\": \"variable\", \"type\": \"nominal\"}, {\"field\": \"metric\", \"type\": \"quantitative\"}], \"x\": {\"field\": \"variable\", \"type\": \"nominal\"}, \"y\": {\"field\": \"metric\", \"type\": \"quantitative\"}}, \"resolve\": {\"scale\": {\"y\": \"independent\"}}, \"title\": \"populations\", \"width\": 300}], \"$schema\": \"https://vega.github.io/schema/vega-lite/v5.20.1.json\", \"datasets\": {\"data-18f7d6b13dcc6f0cf2e615b78eb18c1f\": [{\"countyname_2010\": \"Alpine\", \"variable\": \"apportionment_calc_2020\", \"metric\": 48000.0}, {\"countyname_2010\": \"Amador\", \"variable\": \"apportionment_calc_2020\", \"metric\": 402349.01}, {\"countyname_2010\": \"Butte\", \"variable\": \"apportionment_calc_2020\", \"metric\": 638791.07}, {\"countyname_2010\": \"Calaveras\", \"variable\": \"apportionment_calc_2020\", \"metric\": 533198.1}, {\"countyname_2010\": \"Colusa\", \"variable\": \"apportionment_calc_2020\", \"metric\": 133783.69}, {\"countyname_2010\": \"Del Norte\", \"variable\": \"apportionment_calc_2020\", \"metric\": 173966.49}, {\"countyname_2010\": \"El Dorado\", \"variable\": \"apportionment_calc_2020\", \"metric\": 1007059.14}, {\"countyname_2010\": \"Fresno\", \"variable\": \"apportionment_calc_2020\", \"metric\": 1632183.91}, {\"countyname_2010\": \"Glenn\", \"variable\": \"apportionment_calc_2020\", \"metric\": 171007.01}, {\"countyname_2010\": \"Humboldt\", \"variable\": \"apportionment_calc_2020\", \"metric\": 618031.64}, {\"countyname_2010\": \"Imperial\", \"variable\": \"apportionment_calc_2020\", \"metric\": 474971.11}, {\"countyname_2010\": \"Inyo\", \"variable\": \"apportionment_calc_2020\", \"metric\": 114776.96}, {\"countyname_2010\": \"Kern\", \"variable\": \"apportionment_calc_2020\", \"metric\": 1744011.9}, {\"countyname_2010\": \"Kings\", \"variable\": \"apportionment_calc_2020\", \"metric\": 238888.21}, {\"countyname_2010\": \"Lake\", \"variable\": \"apportionment_calc_2020\", \"metric\": 399217.13}, {\"countyname_2010\": \"Lassen\", \"variable\": \"apportionment_calc_2020\", \"metric\": 340789.02}, {\"countyname_2010\": \"Los Angeles\", \"variable\": \"apportionment_calc_2020\", \"metric\": 1281572.14}, {\"countyname_2010\": \"Madera\", \"variable\": \"apportionment_calc_2020\", \"metric\": 866469.64}, {\"countyname_2010\": \"Mariposa\", \"variable\": \"apportionment_calc_2020\", \"metric\": 245913.37}, {\"countyname_2010\": \"Mendocino\", \"variable\": \"apportionment_calc_2020\", \"metric\": 637584.29}, {\"countyname_2010\": \"Merced\", \"variable\": \"apportionment_calc_2020\", \"metric\": 678456.68}, {\"countyname_2010\": \"Modoc\", \"variable\": \"apportionment_calc_2020\", \"metric\": 124790.33}, {\"countyname_2010\": \"Mono\", \"variable\": \"apportionment_calc_2020\", \"metric\": 88156.03}, {\"countyname_2010\": \"Monterey\", \"variable\": \"apportionment_calc_2020\", \"metric\": 898808.38}, {\"countyname_2010\": \"Nevada\", \"variable\": \"apportionment_calc_2020\", \"metric\": 707850.31}, {\"countyname_2010\": \"Orange\", \"variable\": \"apportionment_calc_2020\", \"metric\": 0.0}, {\"countyname_2010\": \"Placer\", \"variable\": \"apportionment_calc_2020\", \"metric\": 847649.66}, {\"countyname_2010\": \"Plumas\", \"variable\": \"apportionment_calc_2020\", \"metric\": 284113.61}, {\"countyname_2010\": \"Riverside\", \"variable\": \"apportionment_calc_2020\", \"metric\": 1901323.88}, {\"countyname_2010\": \"San Benito\", \"variable\": \"apportionment_calc_2020\", \"metric\": 209523.31}, {\"countyname_2010\": \"San Bernardino\", \"variable\": \"apportionment_calc_2020\", \"metric\": 1686488.87}, {\"countyname_2010\": \"San Diego\", \"variable\": \"apportionment_calc_2020\", \"metric\": 2082397.87}, {\"countyname_2010\": \"San Joaquin\", \"variable\": \"apportionment_calc_2020\", \"metric\": 867547.11}, {\"countyname_2010\": \"San Luis Obispo\", \"variable\": \"apportionment_calc_2020\", \"metric\": 774280.5}, {\"countyname_2010\": \"Santa Barbara\", \"variable\": \"apportionment_calc_2020\", \"metric\": 358445.32}, {\"countyname_2010\": \"Santa Cruz\", \"variable\": \"apportionment_calc_2020\", \"metric\": 517079.01}, {\"countyname_2010\": \"Shasta\", \"variable\": \"apportionment_calc_2020\", \"metric\": 884097.2}, {\"countyname_2010\": \"Sierra\", \"variable\": \"apportionment_calc_2020\", \"metric\": 48000.0}, {\"countyname_2010\": \"Siskiyou\", \"variable\": \"apportionment_calc_2020\", \"metric\": 448838.65}, {\"countyname_2010\": \"Stanislaus\", \"variable\": \"apportionment_calc_2020\", \"metric\": 648775.71}, {\"countyname_2010\": \"Tehama\", \"variable\": \"apportionment_calc_2020\", \"metric\": 539174.51}, {\"countyname_2010\": \"Trinity\", \"variable\": \"apportionment_calc_2020\", \"metric\": 231274.02}, {\"countyname_2010\": \"Tulare\", \"variable\": \"apportionment_calc_2020\", \"metric\": 1363015.21}, {\"countyname_2010\": \"Tuolumne\", \"variable\": \"apportionment_calc_2020\", \"metric\": 382049.3}, {\"countyname_2010\": \"Ventura\", \"variable\": \"apportionment_calc_2020\", \"metric\": 407966.27}, {\"countyname_2010\": \"MTC\", \"variable\": \"apportionment_calc_2020\", \"metric\": 2606368.89}, {\"countyname_2010\": \"SACOG\", \"variable\": \"apportionment_calc_2020\", \"metric\": 1357857.67}, {\"countyname_2010\": \"Alpine\", \"variable\": \"dla_fy25_apportionment\", \"metric\": 48000.0}, {\"countyname_2010\": \"Amador\", \"variable\": \"dla_fy25_apportionment\", \"metric\": 357467.0}, {\"countyname_2010\": \"Butte\", \"variable\": \"dla_fy25_apportionment\", \"metric\": 1055644.0}, {\"countyname_2010\": \"Calaveras\", \"variable\": \"dla_fy25_apportionment\", \"metric\": 395251.0}, {\"countyname_2010\": \"Colusa\", \"variable\": \"dla_fy25_apportionment\", \"metric\": 212945.0}, {\"countyname_2010\": \"Del Norte\", \"variable\": \"dla_fy25_apportionment\", \"metric\": 260478.0}, {\"countyname_2010\": \"El Dorado\", \"variable\": \"dla_fy25_apportionment\", \"metric\": 777840.0}, {\"countyname_2010\": \"Fresno\", \"variable\": \"dla_fy25_apportionment\", \"metric\": 2279339.0}, {\"countyname_2010\": \"Glenn\", \"variable\": \"dla_fy25_apportionment\", \"metric\": 267838.0}, {\"countyname_2010\": \"Humboldt\", \"variable\": \"dla_fy25_apportionment\", \"metric\": 1058125.0}, {\"countyname_2010\": \"Imperial\", \"variable\": \"dla_fy25_apportionment\", \"metric\": 570467.0}, {\"countyname_2010\": \"Inyo\", \"variable\": \"dla_fy25_apportionment\", \"metric\": 191052.0}, {\"countyname_2010\": \"Kern\", \"variable\": \"dla_fy25_apportionment\", \"metric\": 2170481.0}, {\"countyname_2010\": \"Kings\", \"variable\": \"dla_fy25_apportionment\", \"metric\": 549002.0}, {\"countyname_2010\": \"Lake\", \"variable\": \"dla_fy25_apportionment\", \"metric\": 572205.0}, {\"countyname_2010\": \"Lassen\", \"variable\": \"dla_fy25_apportionment\", \"metric\": 297409.0}, {\"countyname_2010\": \"Los Angeles\", \"variable\": \"dla_fy25_apportionment\", \"metric\": 632030.0}, {\"countyname_2010\": \"Madera\", \"variable\": \"dla_fy25_apportionment\", \"metric\": 630585.0}, {\"countyname_2010\": \"Mariposa\", \"variable\": \"dla_fy25_apportionment\", \"metric\": 176433.0}, {\"countyname_2010\": \"Mendocino\", \"variable\": \"dla_fy25_apportionment\", \"metric\": 753976.0}, {\"countyname_2010\": \"Merced\", \"variable\": \"dla_fy25_apportionment\", \"metric\": 836891.0}, {\"countyname_2010\": \"Modoc\", \"variable\": \"dla_fy25_apportionment\", \"metric\": 111047.0}, {\"countyname_2010\": \"Mono\", \"variable\": \"dla_fy25_apportionment\", \"metric\": 145907.0}, {\"countyname_2010\": \"Monterey\", \"variable\": \"dla_fy25_apportionment\", \"metric\": 918101.0}, {\"countyname_2010\": \"Nevada\", \"variable\": \"dla_fy25_apportionment\", \"metric\": 836493.0}, {\"countyname_2010\": \"Orange\", \"variable\": \"dla_fy25_apportionment\", \"metric\": 0.0}, {\"countyname_2010\": \"Placer\", \"variable\": \"dla_fy25_apportionment\", \"metric\": 786969.0}, {\"countyname_2010\": \"Plumas\", \"variable\": \"dla_fy25_apportionment\", \"metric\": 197054.0}, {\"countyname_2010\": \"Riverside\", \"variable\": \"dla_fy25_apportionment\", \"metric\": 1463341.0}, {\"countyname_2010\": \"San Benito\", \"variable\": \"dla_fy25_apportionment\", \"metric\": 541540.0}, {\"countyname_2010\": \"San Bernardino\", \"variable\": \"dla_fy25_apportionment\", \"metric\": 2020891.0}, {\"countyname_2010\": \"San Diego\", \"variable\": \"dla_fy25_apportionment\", \"metric\": 1086195.0}, {\"countyname_2010\": \"San Joaquin\", \"variable\": \"dla_fy25_apportionment\", \"metric\": 685088.0}, {\"countyname_2010\": \"San Luis Obispo\", \"variable\": \"dla_fy25_apportionment\", \"metric\": 800258.0}, {\"countyname_2010\": \"Santa Barbara\", \"variable\": \"dla_fy25_apportionment\", \"metric\": 419687.0}, {\"countyname_2010\": \"Santa Cruz\", \"variable\": \"dla_fy25_apportionment\", \"metric\": 294856.0}, {\"countyname_2010\": \"Shasta\", \"variable\": \"dla_fy25_apportionment\", \"metric\": 550635.0}, {\"countyname_2010\": \"Sierra\", \"variable\": \"dla_fy25_apportionment\", \"metric\": 48000.0}, {\"countyname_2010\": \"Siskiyou\", \"variable\": \"dla_fy25_apportionment\", \"metric\": 385401.0}, {\"countyname_2010\": \"Stanislaus\", \"variable\": \"dla_fy25_apportionment\", \"metric\": 715718.0}, {\"countyname_2010\": \"Tehama\", \"variable\": \"dla_fy25_apportionment\", \"metric\": 554104.0}, {\"countyname_2010\": \"Trinity\", \"variable\": \"dla_fy25_apportionment\", \"metric\": 168530.0}, {\"countyname_2010\": \"Tulare\", \"variable\": \"dla_fy25_apportionment\", \"metric\": 1250827.0}, {\"countyname_2010\": \"Tuolumne\", \"variable\": \"dla_fy25_apportionment\", \"metric\": 474930.0}, {\"countyname_2010\": \"Ventura\", \"variable\": \"dla_fy25_apportionment\", \"metric\": 601480.0}, {\"countyname_2010\": \"MTC\", \"variable\": \"dla_fy25_apportionment\", \"metric\": 2351973.0}, {\"countyname_2010\": \"SACOG\", \"variable\": \"dla_fy25_apportionment\", \"metric\": 1153087.0}, {\"countyname_2010\": \"Alpine\", \"variable\": \"2020_fy25_amt_diff\", \"metric\": 0.0}, {\"countyname_2010\": \"Amador\", \"variable\": \"2020_fy25_amt_diff\", \"metric\": -44882.01000000001}, {\"countyname_2010\": \"Butte\", \"variable\": \"2020_fy25_amt_diff\", \"metric\": 416852.93000000005}, {\"countyname_2010\": \"Calaveras\", \"variable\": \"2020_fy25_amt_diff\", \"metric\": -137947.09999999998}, {\"countyname_2010\": \"Colusa\", \"variable\": \"2020_fy25_amt_diff\", \"metric\": 79161.31}, {\"countyname_2010\": \"Del Norte\", \"variable\": \"2020_fy25_amt_diff\", \"metric\": 86511.51000000001}, {\"countyname_2010\": \"El Dorado\", \"variable\": \"2020_fy25_amt_diff\", \"metric\": -229219.14}, {\"countyname_2010\": \"Fresno\", \"variable\": \"2020_fy25_amt_diff\", \"metric\": 647155.0900000001}, {\"countyname_2010\": \"Glenn\", \"variable\": \"2020_fy25_amt_diff\", \"metric\": 96830.98999999999}, {\"countyname_2010\": \"Humboldt\", \"variable\": \"2020_fy25_amt_diff\", \"metric\": 440093.36}, {\"countyname_2010\": \"Imperial\", \"variable\": \"2020_fy25_amt_diff\", \"metric\": 95495.89000000001}, {\"countyname_2010\": \"Inyo\", \"variable\": \"2020_fy25_amt_diff\", \"metric\": 76275.04}, {\"countyname_2010\": \"Kern\", \"variable\": \"2020_fy25_amt_diff\", \"metric\": 426469.1000000001}, {\"countyname_2010\": \"Kings\", \"variable\": \"2020_fy25_amt_diff\", \"metric\": 310113.79000000004}, {\"countyname_2010\": \"Lake\", \"variable\": \"2020_fy25_amt_diff\", \"metric\": 172987.87}, {\"countyname_2010\": \"Lassen\", \"variable\": \"2020_fy25_amt_diff\", \"metric\": -43380.02000000002}, {\"countyname_2010\": \"Los Angeles\", \"variable\": \"2020_fy25_amt_diff\", \"metric\": -649542.1399999999}, {\"countyname_2010\": \"Madera\", \"variable\": \"2020_fy25_amt_diff\", \"metric\": -235884.64}, {\"countyname_2010\": \"Mariposa\", \"variable\": \"2020_fy25_amt_diff\", \"metric\": -69480.37}, {\"countyname_2010\": \"Mendocino\", \"variable\": \"2020_fy25_amt_diff\", \"metric\": 116391.70999999996}, {\"countyname_2010\": \"Merced\", \"variable\": \"2020_fy25_amt_diff\", \"metric\": 158434.31999999995}, {\"countyname_2010\": \"Modoc\", \"variable\": \"2020_fy25_amt_diff\", \"metric\": -13743.330000000002}, {\"countyname_2010\": \"Mono\", \"variable\": \"2020_fy25_amt_diff\", \"metric\": 57750.97}, {\"countyname_2010\": \"Monterey\", \"variable\": \"2020_fy25_amt_diff\", \"metric\": 19292.619999999995}, {\"countyname_2010\": \"Nevada\", \"variable\": \"2020_fy25_amt_diff\", \"metric\": 128642.68999999994}, {\"countyname_2010\": \"Orange\", \"variable\": \"2020_fy25_amt_diff\", \"metric\": 0.0}, {\"countyname_2010\": \"Placer\", \"variable\": \"2020_fy25_amt_diff\", \"metric\": -60680.66000000003}, {\"countyname_2010\": \"Plumas\", \"variable\": \"2020_fy25_amt_diff\", \"metric\": -87059.60999999999}, {\"countyname_2010\": \"Riverside\", \"variable\": \"2020_fy25_amt_diff\", \"metric\": -437982.8799999999}, {\"countyname_2010\": \"San Benito\", \"variable\": \"2020_fy25_amt_diff\", \"metric\": 332016.69}, {\"countyname_2010\": \"San Bernardino\", \"variable\": \"2020_fy25_amt_diff\", \"metric\": 334402.1299999999}, {\"countyname_2010\": \"San Diego\", \"variable\": \"2020_fy25_amt_diff\", \"metric\": -996202.8700000001}, {\"countyname_2010\": \"San Joaquin\", \"variable\": \"2020_fy25_amt_diff\", \"metric\": -182459.11}, {\"countyname_2010\": \"San Luis Obispo\", \"variable\": \"2020_fy25_amt_diff\", \"metric\": 25977.5}, {\"countyname_2010\": \"Santa Barbara\", \"variable\": \"2020_fy25_amt_diff\", \"metric\": 61241.67999999999}, {\"countyname_2010\": \"Santa Cruz\", \"variable\": \"2020_fy25_amt_diff\", \"metric\": -222223.01}, {\"countyname_2010\": \"Shasta\", \"variable\": \"2020_fy25_amt_diff\", \"metric\": -333462.19999999995}, {\"countyname_2010\": \"Sierra\", \"variable\": \"2020_fy25_amt_diff\", \"metric\": 0.0}, {\"countyname_2010\": \"Siskiyou\", \"variable\": \"2020_fy25_amt_diff\", \"metric\": -63437.65000000002}, {\"countyname_2010\": \"Stanislaus\", \"variable\": \"2020_fy25_amt_diff\", \"metric\": 66942.29000000004}, {\"countyname_2010\": \"Tehama\", \"variable\": \"2020_fy25_amt_diff\", \"metric\": 14929.48999999999}, {\"countyname_2010\": \"Trinity\", \"variable\": \"2020_fy25_amt_diff\", \"metric\": -62744.01999999999}, {\"countyname_2010\": \"Tulare\", \"variable\": \"2020_fy25_amt_diff\", \"metric\": -112188.20999999996}, {\"countyname_2010\": \"Tuolumne\", \"variable\": \"2020_fy25_amt_diff\", \"metric\": 92880.70000000001}, {\"countyname_2010\": \"Ventura\", \"variable\": \"2020_fy25_amt_diff\", \"metric\": 193513.72999999998}, {\"countyname_2010\": \"MTC\", \"variable\": \"2020_fy25_amt_diff\", \"metric\": -254395.89000000013}, {\"countyname_2010\": \"SACOG\", \"variable\": \"2020_fy25_amt_diff\", \"metric\": -204770.66999999993}], \"data-2122baa7e41f61ab2609d038cdf4119a\": [{\"countyname_2010\": \"Alpine\", \"variable\": \"pop_rur_2020\", \"metric\": 1204.0}, {\"countyname_2010\": \"Amador\", \"variable\": \"pop_rur_2020\", \"metric\": 28020.0}, {\"countyname_2010\": \"Butte\", \"variable\": \"pop_rur_2020\", \"metric\": 44478.0}, {\"countyname_2010\": \"Calaveras\", \"variable\": \"pop_rur_2020\", \"metric\": 37128.0}, {\"countyname_2010\": \"Colusa\", \"variable\": \"pop_rur_2020\", \"metric\": 9326.0}, {\"countyname_2010\": \"Del Norte\", \"variable\": \"pop_rur_2020\", \"metric\": 12123.0}, {\"countyname_2010\": \"El Dorado\", \"variable\": \"pop_rur_2020\", \"metric\": 70112.0}, {\"countyname_2010\": \"Fresno\", \"variable\": \"pop_rur_2020\", \"metric\": 113625.0}, {\"countyname_2010\": \"Glenn\", \"variable\": \"pop_rur_2020\", \"metric\": 11917.0}, {\"countyname_2010\": \"Humboldt\", \"variable\": \"pop_rur_2020\", \"metric\": 43033.0}, {\"countyname_2010\": \"Imperial\", \"variable\": \"pop_rur_2020\", \"metric\": 33075.0}, {\"countyname_2010\": \"Inyo\", \"variable\": \"pop_rur_2020\", \"metric\": 8003.0}, {\"countyname_2010\": \"Kern\", \"variable\": \"pop_rur_2020\", \"metric\": 121409.0}, {\"countyname_2010\": \"Kings\", \"variable\": \"pop_rur_2020\", \"metric\": 16642.0}, {\"countyname_2010\": \"Lake\", \"variable\": \"pop_rur_2020\", \"metric\": 27802.0}, {\"countyname_2010\": \"Lassen\", \"variable\": \"pop_rur_2020\", \"metric\": 23735.0}, {\"countyname_2010\": \"Los Angeles\", \"variable\": \"pop_rur_2020\", \"metric\": 89220.0}, {\"countyname_2010\": \"Madera\", \"variable\": \"pop_rur_2020\", \"metric\": 60326.0}, {\"countyname_2010\": \"Mariposa\", \"variable\": \"pop_rur_2020\", \"metric\": 17131.0}, {\"countyname_2010\": \"Mendocino\", \"variable\": \"pop_rur_2020\", \"metric\": 44394.0}, {\"countyname_2010\": \"Merced\", \"variable\": \"pop_rur_2020\", \"metric\": 47239.0}, {\"countyname_2010\": \"Modoc\", \"variable\": \"pop_rur_2020\", \"metric\": 8700.0}, {\"countyname_2010\": \"Mono\", \"variable\": \"pop_rur_2020\", \"metric\": 6150.0}, {\"countyname_2010\": \"Monterey\", \"variable\": \"pop_rur_2020\", \"metric\": 62577.0}, {\"countyname_2010\": \"Nevada\", \"variable\": \"pop_rur_2020\", \"metric\": 49285.0}, {\"countyname_2010\": \"Orange\", \"variable\": \"pop_rur_2020\", \"metric\": 7962.0}, {\"countyname_2010\": \"Placer\", \"variable\": \"pop_rur_2020\", \"metric\": 59016.0}, {\"countyname_2010\": \"Plumas\", \"variable\": \"pop_rur_2020\", \"metric\": 19790.0}, {\"countyname_2010\": \"Riverside\", \"variable\": \"pop_rur_2020\", \"metric\": 132359.0}, {\"countyname_2010\": \"San Benito\", \"variable\": \"pop_rur_2020\", \"metric\": 14598.0}, {\"countyname_2010\": \"San Bernardino\", \"variable\": \"pop_rur_2020\", \"metric\": 117405.0}, {\"countyname_2010\": \"San Diego\", \"variable\": \"pop_rur_2020\", \"metric\": 144963.0}, {\"countyname_2010\": \"San Joaquin\", \"variable\": \"pop_rur_2020\", \"metric\": 60401.0}, {\"countyname_2010\": \"San Luis Obispo\", \"variable\": \"pop_rur_2020\", \"metric\": 53909.0}, {\"countyname_2010\": \"Santa Barbara\", \"variable\": \"pop_rur_2020\", \"metric\": 24964.0}, {\"countyname_2010\": \"Santa Cruz\", \"variable\": \"pop_rur_2020\", \"metric\": 36006.0}, {\"countyname_2010\": \"Shasta\", \"variable\": \"pop_rur_2020\", \"metric\": 61553.0}, {\"countyname_2010\": \"Sierra\", \"variable\": \"pop_rur_2020\", \"metric\": 3196.0}, {\"countyname_2010\": \"Siskiyou\", \"variable\": \"pop_rur_2020\", \"metric\": 31256.0}, {\"countyname_2010\": \"Stanislaus\", \"variable\": \"pop_rur_2020\", \"metric\": 45173.0}, {\"countyname_2010\": \"Tehama\", \"variable\": \"pop_rur_2020\", \"metric\": 37544.0}, {\"countyname_2010\": \"Trinity\", \"variable\": \"pop_rur_2020\", \"metric\": 16112.0}, {\"countyname_2010\": \"Tulare\", \"variable\": \"pop_rur_2020\", \"metric\": 94889.0}, {\"countyname_2010\": \"Tuolumne\", \"variable\": \"pop_rur_2020\", \"metric\": 26607.0}, {\"countyname_2010\": \"Ventura\", \"variable\": \"pop_rur_2020\", \"metric\": 28411.0}, {\"countyname_2010\": \"MTC\", \"variable\": \"pop_rur_2020\", \"metric\": 181435.0}, {\"countyname_2010\": \"SACOG\", \"variable\": \"pop_rur_2020\", \"metric\": 94530.0}, {\"countyname_2010\": \"Alpine\", \"variable\": \"dla_fy25_pop\", \"metric\": 1119.0}, {\"countyname_2010\": \"Amador\", \"variable\": \"dla_fy25_pop\", \"metric\": 46118.0}, {\"countyname_2010\": \"Butte\", \"variable\": \"dla_fy25_pop\", \"metric\": 136143.0}, {\"countyname_2010\": \"Calaveras\", \"variable\": \"dla_fy25_pop\", \"metric\": 50990.0}, {\"countyname_2010\": \"Colusa\", \"variable\": \"dla_fy25_pop\", \"metric\": 27483.0}, {\"countyname_2010\": \"Del Norte\", \"variable\": \"dla_fy25_pop\", \"metric\": 33612.0}, {\"countyname_2010\": \"El Dorado\", \"variable\": \"dla_fy25_pop\", \"metric\": 100322.0}, {\"countyname_2010\": \"Fresno\", \"variable\": \"dla_fy25_pop\", \"metric\": 293930.0}, {\"countyname_2010\": \"Glenn\", \"variable\": \"dla_fy25_pop\", \"metric\": 34561.0}, {\"countyname_2010\": \"Humboldt\", \"variable\": \"dla_fy25_pop\", \"metric\": 136463.0}, {\"countyname_2010\": \"Imperial\", \"variable\": \"dla_fy25_pop\", \"metric\": 73583.0}, {\"countyname_2010\": \"Inyo\", \"variable\": \"dla_fy25_pop\", \"metric\": 24660.0}, {\"countyname_2010\": \"Kern\", \"variable\": \"dla_fy25_pop\", \"metric\": 279893.0}, {\"countyname_2010\": \"Kings\", \"variable\": \"dla_fy25_pop\", \"metric\": 70815.0}, {\"countyname_2010\": \"Lake\", \"variable\": \"dla_fy25_pop\", \"metric\": 73807.0}, {\"countyname_2010\": \"Lassen\", \"variable\": \"dla_fy25_pop\", \"metric\": 38374.0}, {\"countyname_2010\": \"Los Angeles\", \"variable\": \"dla_fy25_pop\", \"metric\": 81521.0}, {\"countyname_2010\": \"Madera\", \"variable\": \"dla_fy25_pop\", \"metric\": 81335.0}, {\"countyname_2010\": \"Mariposa\", \"variable\": \"dla_fy25_pop\", \"metric\": 22775.0}, {\"countyname_2010\": \"Mendocino\", \"variable\": \"dla_fy25_pop\", \"metric\": 97245.0}, {\"countyname_2010\": \"Merced\", \"variable\": \"dla_fy25_pop\", \"metric\": 107937.0}, {\"countyname_2010\": \"Modoc\", \"variable\": \"dla_fy25_pop\", \"metric\": 14344.0}, {\"countyname_2010\": \"Mono\", \"variable\": \"dla_fy25_pop\", \"metric\": 18839.0}, {\"countyname_2010\": \"Monterey\", \"variable\": \"dla_fy25_pop\", \"metric\": 118408.0}, {\"countyname_2010\": \"Nevada\", \"variable\": \"dla_fy25_pop\", \"metric\": 107885.0}, {\"countyname_2010\": \"Orange\", \"variable\": \"dla_fy25_pop\", \"metric\": 10175.0}, {\"countyname_2010\": \"Placer\", \"variable\": \"dla_fy25_pop\", \"metric\": 101499.0}, {\"countyname_2010\": \"Plumas\", \"variable\": \"dla_fy25_pop\", \"metric\": 25434.0}, {\"countyname_2010\": \"Riverside\", \"variable\": \"dla_fy25_pop\", \"metric\": 188713.0}, {\"countyname_2010\": \"San Benito\", \"variable\": \"dla_fy25_pop\", \"metric\": 69853.0}, {\"countyname_2010\": \"San Bernardino\", \"variable\": \"dla_fy25_pop\", \"metric\": 260605.0}, {\"countyname_2010\": \"San Diego\", \"variable\": \"dla_fy25_pop\", \"metric\": 140082.0}, {\"countyname_2010\": \"San Joaquin\", \"variable\": \"dla_fy25_pop\", \"metric\": 88363.0}, {\"countyname_2010\": \"San Luis Obispo\", \"variable\": \"dla_fy25_pop\", \"metric\": 103213.0}, {\"countyname_2010\": \"Santa Barbara\", \"variable\": \"dla_fy25_pop\", \"metric\": 54141.0}, {\"countyname_2010\": \"Santa Cruz\", \"variable\": \"dla_fy25_pop\", \"metric\": 38045.0}, {\"countyname_2010\": \"Shasta\", \"variable\": \"dla_fy25_pop\", \"metric\": 71026.0}, {\"countyname_2010\": \"Sierra\", \"variable\": \"dla_fy25_pop\", \"metric\": 3236.0}, {\"countyname_2010\": \"Siskiyou\", \"variable\": \"dla_fy25_pop\", \"metric\": 49720.0}, {\"countyname_2010\": \"Stanislaus\", \"variable\": \"dla_fy25_pop\", \"metric\": 92312.0}, {\"countyname_2010\": \"Tehama\", \"variable\": \"dla_fy25_pop\", \"metric\": 71473.0}, {\"countyname_2010\": \"Trinity\", \"variable\": \"dla_fy25_pop\", \"metric\": 21756.0}, {\"countyname_2010\": \"Tulare\", \"variable\": \"dla_fy25_pop\", \"metric\": 161311.0}, {\"countyname_2010\": \"Tuolumne\", \"variable\": \"dla_fy25_pop\", \"metric\": 61264.0}, {\"countyname_2010\": \"Ventura\", \"variable\": \"dla_fy25_pop\", \"metric\": 77582.0}, {\"countyname_2010\": \"MTC\", \"variable\": \"dla_fy25_pop\", \"metric\": 303295.0}, {\"countyname_2010\": \"SACOG\", \"variable\": \"dla_fy25_pop\", \"metric\": 148708.0}, {\"countyname_2010\": \"Alpine\", \"variable\": \"2020_fy25_pop_diff\", \"metric\": -85.0}, {\"countyname_2010\": \"Amador\", \"variable\": \"2020_fy25_pop_diff\", \"metric\": 18098.0}, {\"countyname_2010\": \"Butte\", \"variable\": \"2020_fy25_pop_diff\", \"metric\": 91665.0}, {\"countyname_2010\": \"Calaveras\", \"variable\": \"2020_fy25_pop_diff\", \"metric\": 13862.0}, {\"countyname_2010\": \"Colusa\", \"variable\": \"2020_fy25_pop_diff\", \"metric\": 18157.0}, {\"countyname_2010\": \"Del Norte\", \"variable\": \"2020_fy25_pop_diff\", \"metric\": 21489.0}, {\"countyname_2010\": \"El Dorado\", \"variable\": \"2020_fy25_pop_diff\", \"metric\": 30210.0}, {\"countyname_2010\": \"Fresno\", \"variable\": \"2020_fy25_pop_diff\", \"metric\": 180305.0}, {\"countyname_2010\": \"Glenn\", \"variable\": \"2020_fy25_pop_diff\", \"metric\": 22644.0}, {\"countyname_2010\": \"Humboldt\", \"variable\": \"2020_fy25_pop_diff\", \"metric\": 93430.0}, {\"countyname_2010\": \"Imperial\", \"variable\": \"2020_fy25_pop_diff\", \"metric\": 40508.0}, {\"countyname_2010\": \"Inyo\", \"variable\": \"2020_fy25_pop_diff\", \"metric\": 16657.0}, {\"countyname_2010\": \"Kern\", \"variable\": \"2020_fy25_pop_diff\", \"metric\": 158484.0}, {\"countyname_2010\": \"Kings\", \"variable\": \"2020_fy25_pop_diff\", \"metric\": 54173.0}, {\"countyname_2010\": \"Lake\", \"variable\": \"2020_fy25_pop_diff\", \"metric\": 46005.0}, {\"countyname_2010\": \"Lassen\", \"variable\": \"2020_fy25_pop_diff\", \"metric\": 14639.0}, {\"countyname_2010\": \"Los Angeles\", \"variable\": \"2020_fy25_pop_diff\", \"metric\": -7699.0}, {\"countyname_2010\": \"Madera\", \"variable\": \"2020_fy25_pop_diff\", \"metric\": 21009.0}, {\"countyname_2010\": \"Mariposa\", \"variable\": \"2020_fy25_pop_diff\", \"metric\": 5644.0}, {\"countyname_2010\": \"Mendocino\", \"variable\": \"2020_fy25_pop_diff\", \"metric\": 52851.0}, {\"countyname_2010\": \"Merced\", \"variable\": \"2020_fy25_pop_diff\", \"metric\": 60698.0}, {\"countyname_2010\": \"Modoc\", \"variable\": \"2020_fy25_pop_diff\", \"metric\": 5644.0}, {\"countyname_2010\": \"Mono\", \"variable\": \"2020_fy25_pop_diff\", \"metric\": 12689.0}, {\"countyname_2010\": \"Monterey\", \"variable\": \"2020_fy25_pop_diff\", \"metric\": 55831.0}, {\"countyname_2010\": \"Nevada\", \"variable\": \"2020_fy25_pop_diff\", \"metric\": 58600.0}, {\"countyname_2010\": \"Orange\", \"variable\": \"2020_fy25_pop_diff\", \"metric\": 2213.0}, {\"countyname_2010\": \"Placer\", \"variable\": \"2020_fy25_pop_diff\", \"metric\": 42483.0}, {\"countyname_2010\": \"Plumas\", \"variable\": \"2020_fy25_pop_diff\", \"metric\": 5644.0}, {\"countyname_2010\": \"Riverside\", \"variable\": \"2020_fy25_pop_diff\", \"metric\": 56354.0}, {\"countyname_2010\": \"San Benito\", \"variable\": \"2020_fy25_pop_diff\", \"metric\": 55255.0}, {\"countyname_2010\": \"San Bernardino\", \"variable\": \"2020_fy25_pop_diff\", \"metric\": 143200.0}, {\"countyname_2010\": \"San Diego\", \"variable\": \"2020_fy25_pop_diff\", \"metric\": -4881.0}, {\"countyname_2010\": \"San Joaquin\", \"variable\": \"2020_fy25_pop_diff\", \"metric\": 27962.0}, {\"countyname_2010\": \"San Luis Obispo\", \"variable\": \"2020_fy25_pop_diff\", \"metric\": 49304.0}, {\"countyname_2010\": \"Santa Barbara\", \"variable\": \"2020_fy25_pop_diff\", \"metric\": 29177.0}, {\"countyname_2010\": \"Santa Cruz\", \"variable\": \"2020_fy25_pop_diff\", \"metric\": 2039.0}, {\"countyname_2010\": \"Shasta\", \"variable\": \"2020_fy25_pop_diff\", \"metric\": 9473.0}, {\"countyname_2010\": \"Sierra\", \"variable\": \"2020_fy25_pop_diff\", \"metric\": 40.0}, {\"countyname_2010\": \"Siskiyou\", \"variable\": \"2020_fy25_pop_diff\", \"metric\": 18464.0}, {\"countyname_2010\": \"Stanislaus\", \"variable\": \"2020_fy25_pop_diff\", \"metric\": 47139.0}, {\"countyname_2010\": \"Tehama\", \"variable\": \"2020_fy25_pop_diff\", \"metric\": 33929.0}, {\"countyname_2010\": \"Trinity\", \"variable\": \"2020_fy25_pop_diff\", \"metric\": 5644.0}, {\"countyname_2010\": \"Tulare\", \"variable\": \"2020_fy25_pop_diff\", \"metric\": 66422.0}, {\"countyname_2010\": \"Tuolumne\", \"variable\": \"2020_fy25_pop_diff\", \"metric\": 34657.0}, {\"countyname_2010\": \"Ventura\", \"variable\": \"2020_fy25_pop_diff\", \"metric\": 49171.0}, {\"countyname_2010\": \"MTC\", \"variable\": \"2020_fy25_pop_diff\", \"metric\": 121860.0}, {\"countyname_2010\": \"SACOG\", \"variable\": \"2020_fy25_pop_diff\", \"metric\": 54178.0}]}}, {\"mode\": \"vega-lite\"});\n",
       "</script>"
      ],
      "text/plain": [
       "alt.HConcatChart(...)"
      ]
     },
     "execution_count": 41,
     "metadata": {},
     "output_type": "execute_result"
    }
   ],
   "source": [
    "# alt.Chart(melt).mark_bar().encode(\n",
    "#     x = \"variable\",\n",
    "#     y = alt.Y(\"metric:Q\").stack(None),\n",
    "#     row=\"countyname_2010:N\",\n",
    "#     column = \n",
    "#     color = \"variable:N\",\n",
    "#     tooltip = [\"countyname_2010\",\"variable\",\"metric\"]\n",
    "# ).properties(\n",
    "#     width=600,\n",
    "#     title= \"5311 Apportionments ($) and Rural Populations per County\"\n",
    "# ).resolve_scale(y=\"independent\")\n",
    "\n",
    "#---\n",
    "app_chart = alt.Chart(melt[melt[\"variable\"].isin(\n",
    "    [\n",
    "        \"apportionment_calc_2020\",\n",
    "        \"dla_fy25_apportionment\",\n",
    "        \"2020_fy25_amt_diff\"\n",
    "    ]\n",
    ")]).mark_bar().encode(\n",
    "    x = alt.X(\"variable\"),\n",
    "    y = alt.Y(\"metric\"),\n",
    "    row = \"countyname_2010\",\n",
    "    tooltip=[\"countyname_2010\",\"variable\",\"metric\"],\n",
    "    color = \"variable\",\n",
    ").resolve_scale(y=\"independent\").properties(title = \"apportionments\",width=300)\n",
    "\n",
    "pop_chart = alt.Chart(melt[melt[\"variable\"].isin([\n",
    "    \"pop_rur_2020\",\n",
    "    \"dla_fy25_pop\",\n",
    "    \"2020_fy25_pop_diff\"\n",
    "])]).mark_bar().encode(\n",
    "    x = alt.X(\"variable\"),\n",
    "    y = alt.Y(\"metric\"),\n",
    "    row = \"countyname_2010\",\n",
    "    tooltip=[\"countyname_2010\",\"variable\",\"metric\"],\n",
    "    color = \"variable\",\n",
    ").resolve_scale(y=\"independent\").properties(title = \"populations\",width=300)\n",
    "\n",
    "# diff_chart = alt.Chart(melt[melt[\"variable\"].isin(diff_cols)]).mark_bar().encode(\n",
    "#     x = alt.X(\"variable\"),\n",
    "#     y = alt.Y(\"metric\"),\n",
    "#     row = \"countyname_2010\",\n",
    "#     tooltip=[\"countyname_2010\",\"variable\",\"metric\"],\n",
    "#     color = \"variable\"\n",
    "# ).resolve_scale(y=\"independent\").properties(title = \"differences\",width=300)\n",
    "\n",
    "app_pop_chart = alt.hconcat(\n",
    "    app_chart, \n",
    "    pop_chart, \n",
    "    # diff_chart\n",
    ")\n",
    "\n",
    "app_pop_chart"
   ]
  },
  {
   "cell_type": "code",
   "execution_count": null,
   "id": "fdad809c-7c25-4f1a-aabd-87252c6e2c88",
   "metadata": {},
   "outputs": [],
   "source": []
  }
 ],
 "metadata": {
  "kernelspec": {
   "display_name": "Python 3 (ipykernel)",
   "language": "python",
   "name": "python3"
  },
  "language_info": {
   "codemirror_mode": {
    "name": "ipython",
    "version": 3
   },
   "file_extension": ".py",
   "mimetype": "text/x-python",
   "name": "python",
   "nbconvert_exporter": "python",
   "pygments_lexer": "ipython3",
   "version": "3.11.10"
  }
 },
 "nbformat": 4,
 "nbformat_minor": 5
}
