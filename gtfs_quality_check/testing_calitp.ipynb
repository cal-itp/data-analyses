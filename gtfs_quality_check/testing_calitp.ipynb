{
 "cells": [
  {
   "cell_type": "code",
   "execution_count": 2,
   "id": "5a856df9-daa1-417c-a2d6-98e33e096dae",
   "metadata": {},
   "outputs": [],
   "source": [
    "import geopandas as gpd\n",
    "import pandas as pd\n",
    "\n",
    "# Hint: if this doesn't import: refer to docs for correctly import\n",
    "# cd into _shared_utils folder, run the make setup_env command\n"
   ]
  },
  {
   "cell_type": "code",
   "execution_count": 4,
   "id": "f755b4d7-aa6c-4b18-932e-70c903902668",
   "metadata": {},
   "outputs": [],
   "source": [
    "my_gdf = pd.read_csv('gs://calitp-analytics-data/data-analyses/csuyat_folder/stops_caltrain_merced.csv')"
   ]
  },
  {
   "cell_type": "code",
   "execution_count": 7,
   "id": "e64a3d94-3f98-4c77-8a25-f173c6bc95ee",
   "metadata": {},
   "outputs": [],
   "source": [
    "my_gdf2 = my_gdf.head()"
   ]
  },
  {
   "cell_type": "code",
   "execution_count": 8,
   "id": "f3087913-f716-486c-8ab4-54c95b185caa",
   "metadata": {},
   "outputs": [
    {
     "data": {
      "text/html": [
       "<div>\n",
       "<style scoped>\n",
       "    .dataframe tbody tr th:only-of-type {\n",
       "        vertical-align: middle;\n",
       "    }\n",
       "\n",
       "    .dataframe tbody tr th {\n",
       "        vertical-align: top;\n",
       "    }\n",
       "\n",
       "    .dataframe thead th {\n",
       "        text-align: right;\n",
       "    }\n",
       "</style>\n",
       "<table border=\"1\" class=\"dataframe\">\n",
       "  <thead>\n",
       "    <tr style=\"text-align: right;\">\n",
       "      <th></th>\n",
       "      <th>Unnamed: 0</th>\n",
       "      <th>feed_key</th>\n",
       "      <th>stop_id</th>\n",
       "      <th>stop_lat</th>\n",
       "      <th>stop_lon</th>\n",
       "      <th>stop_name</th>\n",
       "    </tr>\n",
       "  </thead>\n",
       "  <tbody>\n",
       "    <tr>\n",
       "      <th>0</th>\n",
       "      <td>0</td>\n",
       "      <td>25c6505166c01099b2f6f2de173e20b9</td>\n",
       "      <td>22nd_street</td>\n",
       "      <td>37.756972</td>\n",
       "      <td>-122.392492</td>\n",
       "      <td>22nd Street</td>\n",
       "    </tr>\n",
       "    <tr>\n",
       "      <th>1</th>\n",
       "      <td>1</td>\n",
       "      <td>25c6505166c01099b2f6f2de173e20b9</td>\n",
       "      <td>2537740</td>\n",
       "      <td>37.438491</td>\n",
       "      <td>-122.156405</td>\n",
       "      <td>Stanford Caltrain Station</td>\n",
       "    </tr>\n",
       "    <tr>\n",
       "      <th>2</th>\n",
       "      <td>2</td>\n",
       "      <td>25c6505166c01099b2f6f2de173e20b9</td>\n",
       "      <td>2537744</td>\n",
       "      <td>37.438425</td>\n",
       "      <td>-122.156482</td>\n",
       "      <td>Stanford Caltrain Station</td>\n",
       "    </tr>\n",
       "    <tr>\n",
       "      <th>3</th>\n",
       "      <td>3</td>\n",
       "      <td>25c6505166c01099b2f6f2de173e20b9</td>\n",
       "      <td>70011</td>\n",
       "      <td>37.776390</td>\n",
       "      <td>-122.394992</td>\n",
       "      <td>San Francisco Caltrain Station</td>\n",
       "    </tr>\n",
       "    <tr>\n",
       "      <th>4</th>\n",
       "      <td>4</td>\n",
       "      <td>25c6505166c01099b2f6f2de173e20b9</td>\n",
       "      <td>70012</td>\n",
       "      <td>37.776348</td>\n",
       "      <td>-122.394935</td>\n",
       "      <td>San Francisco Caltrain Station</td>\n",
       "    </tr>\n",
       "  </tbody>\n",
       "</table>\n",
       "</div>"
      ],
      "text/plain": [
       "   Unnamed: 0                          feed_key      stop_id   stop_lat  \\\n",
       "0           0  25c6505166c01099b2f6f2de173e20b9  22nd_street  37.756972   \n",
       "1           1  25c6505166c01099b2f6f2de173e20b9      2537740  37.438491   \n",
       "2           2  25c6505166c01099b2f6f2de173e20b9      2537744  37.438425   \n",
       "3           3  25c6505166c01099b2f6f2de173e20b9        70011  37.776390   \n",
       "4           4  25c6505166c01099b2f6f2de173e20b9        70012  37.776348   \n",
       "\n",
       "     stop_lon                       stop_name  \n",
       "0 -122.392492                     22nd Street  \n",
       "1 -122.156405       Stanford Caltrain Station  \n",
       "2 -122.156482       Stanford Caltrain Station  \n",
       "3 -122.394992  San Francisco Caltrain Station  \n",
       "4 -122.394935  San Francisco Caltrain Station  "
      ]
     },
     "execution_count": 8,
     "metadata": {},
     "output_type": "execute_result"
    }
   ],
   "source": [
    "my_gdf2"
   ]
  },
  {
   "cell_type": "code",
   "execution_count": 6,
   "id": "48ac310d-9376-4222-b559-b837a5d368b0",
   "metadata": {},
   "outputs": [],
   "source": [
    "from calitp_data_analysis import geography_utils"
   ]
  },
  {
   "cell_type": "code",
   "execution_count": 9,
   "id": "7f64ae8f-c204-40b0-a6b9-a57c3c350314",
   "metadata": {},
   "outputs": [],
   "source": [
    "\n",
    "stops_ptg = geography_utils.create_point_geometry(\n",
    "    my_gdf2,\n",
    "    'stop_lon',\n",
    "    'stop_lat',\n",
    "    crs = 'EPSG:2229'\n",
    ")"
   ]
  },
  {
   "cell_type": "code",
   "execution_count": 12,
   "id": "e6c13e4f-1058-416b-b4f1-46ffe1150484",
   "metadata": {},
   "outputs": [],
   "source": [
    "# stops_ptg.explore()"
   ]
  }
 ],
 "metadata": {
  "kernelspec": {
   "display_name": "Python 3 (ipykernel)",
   "language": "python",
   "name": "python3"
  },
  "language_info": {
   "codemirror_mode": {
    "name": "ipython",
    "version": 3
   },
   "file_extension": ".py",
   "mimetype": "text/x-python",
   "name": "python",
   "nbconvert_exporter": "python",
   "pygments_lexer": "ipython3",
   "version": "3.9.13"
  }
 },
 "nbformat": 4,
 "nbformat_minor": 5
}
